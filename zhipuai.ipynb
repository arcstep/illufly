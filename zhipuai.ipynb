{
 "cells": [
  {
   "cell_type": "markdown",
   "metadata": {},
   "source": [
    "# 智谱API测试"
   ]
  },
  {
   "cell_type": "markdown",
   "metadata": {},
   "source": []
  },
  {
   "cell_type": "code",
   "execution_count": 38,
   "metadata": {},
   "outputs": [
    {
     "name": "stdout",
     "output_type": "stream",
     "text": [
      "Collecting pydantic==1.10.13\n",
      "  Downloading pydantic-1.10.13-cp39-cp39-macosx_10_9_x86_64.whl.metadata (149 kB)\n",
      "\u001b[2K     \u001b[90m━━━━━━━━━━━━━━━━━━━━━━━━━━━━━━━━━━━━━\u001b[0m \u001b[32m149.6/149.6 kB\u001b[0m \u001b[31m275.6 kB/s\u001b[0m eta \u001b[36m0:00:00\u001b[0ma \u001b[36m0:00:01\u001b[0m\n",
      "\u001b[?25hRequirement already satisfied: typing-extensions>=4.2.0 in /Users/xuehongwei/Library/Caches/pypoetry/virtualenvs/langchain-chinese-gSQlHcwW-py3.9/lib/python3.9/site-packages (from pydantic==1.10.13) (4.9.0)\n",
      "Downloading pydantic-1.10.13-cp39-cp39-macosx_10_9_x86_64.whl (2.9 MB)\n",
      "\u001b[2K   \u001b[90m━━━━━━━━━━━━━━━━━━━━━━━━━━━━━━━━━━━━━━━━\u001b[0m \u001b[32m2.9/2.9 MB\u001b[0m \u001b[31m3.2 MB/s\u001b[0m eta \u001b[36m0:00:00\u001b[0m00:01\u001b[0m00:01\u001b[0m\n",
      "\u001b[?25hInstalling collected packages: pydantic\n",
      "  Attempting uninstall: pydantic\n",
      "    Found existing installation: pydantic 2.6.1\n",
      "    Uninstalling pydantic-2.6.1:\n",
      "      Successfully uninstalled pydantic-2.6.1\n",
      "Successfully installed pydantic-1.10.13\n",
      "\n",
      "\u001b[1m[\u001b[0m\u001b[34;49mnotice\u001b[0m\u001b[1;39;49m]\u001b[0m\u001b[39;49m A new release of pip is available: \u001b[0m\u001b[31;49m23.3.1\u001b[0m\u001b[39;49m -> \u001b[0m\u001b[32;49m24.0\u001b[0m\n",
      "\u001b[1m[\u001b[0m\u001b[34;49mnotice\u001b[0m\u001b[1;39;49m]\u001b[0m\u001b[39;49m To update, run: \u001b[0m\u001b[32;49mpip install --upgrade pip\u001b[0m\n"
     ]
    }
   ],
   "source": [
    "!pip install pydantic==1.10.13"
   ]
  },
  {
   "cell_type": "code",
   "execution_count": 31,
   "metadata": {},
   "outputs": [
    {
     "name": "stdout",
     "output_type": "stream",
     "text": [
      "\u001b[34mUpdating dependencies\u001b[39m\n",
      "\u001b[2K\u001b[34mResolving dependencies...\u001b[39m \u001b[39;2m(35.6s)\u001b[39;22m://files.pythonhosted.org/packages/81/29/5ecc3a15d5a33e31b26c11426c45c501e439cb865d0bff96315d86443b78/appnope-0.1.4-py2.py3-none-any.whl\u001b[39m \u001b[39;2m(35.3s)\u001b[39;22m9;22m2m\u001b[34mResolving dependencies...\u001b[39m \u001b[36mDownloading https://files.pythonhosted.org/packages/a1/8d/85fcf9bcbfefcc53a1402450f28e5acf39dcfde3aabb996a1d98481ac829/poetry_core-1.9.0-py3-none-any.whl\u001b[39m \u001b[39;2m(15.1s)\u001b[39;22m\u001b[34mResolving dependencies...\u001b[39m \u001b[36mDownloading https://files.pythonhosted.org/packages/a1/8d/85fcf9bcbfefcc53a1402450f28e5acf39dcfde3aabb996a1d98481ac829/poetry_core-1.9.0-py3-none-any.whl\u001b[39m \u001b[39;2m(15.2s)\u001b[39;22m\u001b[34mResolving dependencies...\u001b[39m \u001b[39;2m(24.8s)\u001b[39;22m\u001b[34mResolving dependencies...\u001b[39m \u001b[39;2m(26.1s)\u001b[39;22m\u001b[34mResolving dependencies...\u001b[39m \u001b[39;2m(27.5s)\u001b[39;22m\u001b[34mResolving dependencies...\u001b[39m \u001b[39;2m(30.0s)\u001b[39;22m\u001b[34mResolving dependencies...\u001b[39m \u001b[39;2m(30.2s)\u001b[39;22m\u001b[34mResolving dependencies...\u001b[39m \u001b[39;2m(30.5s)\u001b[39;22m\u001b[34mResolving dependencies...\u001b[39m \u001b[39;2m(34.5s)\u001b[39;22m\n",
      "\n",
      "\u001b[39;1mPackage operations\u001b[39;22m: \u001b[34m2\u001b[39m installs, \u001b[34m4\u001b[39m updates, \u001b[34m0\u001b[39m removals\n",
      "\n",
      "  \u001b[34;1m•\u001b[39;22m \u001b[39mInstalling \u001b[39m\u001b[36mannotated-types\u001b[39m\u001b[39m (\u001b[39m\u001b[39;1m0.6.0\u001b[39;22m\u001b[39m)\u001b[39m: \u001b[34mPending...\u001b[39m\n",
      "  \u001b[34;1m•\u001b[39;22m \u001b[39mInstalling \u001b[39m\u001b[36mpydantic-core\u001b[39m\u001b[39m (\u001b[39m\u001b[39;1m2.16.2\u001b[39;22m\u001b[39m)\u001b[39m: \u001b[34mPending...\u001b[39m\n",
      "\u001b[1A\u001b[0J  \u001b[34;1m•\u001b[39;22m \u001b[39mInstalling \u001b[39m\u001b[36mpydantic-core\u001b[39m\u001b[39m (\u001b[39m\u001b[39;1m2.16.2\u001b[39;22m\u001b[39m)\u001b[39m: \u001b[34mInstalling...\u001b[39m\n",
      "\u001b[1A\u001b[0J  \u001b[32;1m•\u001b[39;22m \u001b[39mInstalling \u001b[39m\u001b[36mpydantic-core\u001b[39m\u001b[39m (\u001b[39m\u001b[32m2.16.2\u001b[39m\u001b[39m)\u001b[39m\n",
      "\u001b[2A\u001b[0J  \u001b[32;1m•\u001b[39;22m \u001b[39mInstalling \u001b[39m\u001b[36mpydantic-core\u001b[39m\u001b[39m (\u001b[39m\u001b[32m2.16.2\u001b[39m\u001b[39m)\u001b[39m\n",
      "\u001b[1A\u001b[0J  \u001b[34;1m•\u001b[39;22m \u001b[39mInstalling \u001b[39m\u001b[36mannotated-types\u001b[39m\u001b[39m (\u001b[39m\u001b[39;1m0.6.0\u001b[39;22m\u001b[39m)\u001b[39m: \u001b[34mInstalling...\u001b[39m\n",
      "  \u001b[32;1m•\u001b[39;22m \u001b[39mInstalling \u001b[39m\u001b[36mpydantic-core\u001b[39m\u001b[39m (\u001b[39m\u001b[32m2.16.2\u001b[39m\u001b[39m)\u001b[39m\n",
      "\u001b[2A\u001b[0J  \u001b[32;1m•\u001b[39;22m \u001b[39mInstalling \u001b[39m\u001b[36mpydantic-core\u001b[39m\u001b[39m (\u001b[39m\u001b[32m2.16.2\u001b[39m\u001b[39m)\u001b[39m\n",
      "\u001b[1A\u001b[0J  \u001b[32;1m•\u001b[39;22m \u001b[39mInstalling \u001b[39m\u001b[36mannotated-types\u001b[39m\u001b[39m (\u001b[39m\u001b[32m0.6.0\u001b[39m\u001b[39m)\u001b[39m\n",
      "  \u001b[32;1m•\u001b[39;22m \u001b[39mInstalling \u001b[39m\u001b[36mpydantic-core\u001b[39m\u001b[39m (\u001b[39m\u001b[32m2.16.2\u001b[39m\u001b[39m)\u001b[39m\n",
      "  \u001b[34;1m•\u001b[39;22m \u001b[39mUpdating \u001b[39m\u001b[36mpydantic\u001b[39m\u001b[39m (\u001b[39m\u001b[39;1m1.10.13\u001b[39;22m\u001b[39m -> \u001b[39m\u001b[39;1m2.6.1\u001b[39;22m\u001b[39m)\u001b[39m: \u001b[34mPending...\u001b[39m\n",
      "\u001b[1A\u001b[0J  \u001b[34;1m•\u001b[39;22m \u001b[39mUpdating \u001b[39m\u001b[36mpydantic\u001b[39m\u001b[39m (\u001b[39m\u001b[39;1m1.10.13\u001b[39;22m\u001b[39m -> \u001b[39m\u001b[39;1m2.6.1\u001b[39;22m\u001b[39m)\u001b[39m: \u001b[34mInstalling...\u001b[39m\n",
      "\u001b[1A\u001b[0J  \u001b[32;1m•\u001b[39;22m \u001b[39mUpdating \u001b[39m\u001b[36mpydantic\u001b[39m\u001b[39m (\u001b[39m\u001b[39;1m1.10.13\u001b[39;22m\u001b[39m -> \u001b[39m\u001b[32m2.6.1\u001b[39m\u001b[39m)\u001b[39m\n",
      "  \u001b[34;1m•\u001b[39;22m \u001b[39mUpdating \u001b[39m\u001b[36mlangsmith\u001b[39m\u001b[39m (\u001b[39m\u001b[39;1m0.1.2\u001b[39;22m\u001b[39m -> \u001b[39m\u001b[39;1m0.1.5\u001b[39;22m\u001b[39m)\u001b[39m: \u001b[34mPending...\u001b[39m\n",
      "\u001b[1A\u001b[0J  \u001b[34;1m•\u001b[39;22m \u001b[39mUpdating \u001b[39m\u001b[36mlangsmith\u001b[39m\u001b[39m (\u001b[39m\u001b[39;1m0.1.2\u001b[39;22m\u001b[39m -> \u001b[39m\u001b[39;1m0.1.5\u001b[39;22m\u001b[39m)\u001b[39m: \u001b[34mDownloading...\u001b[39m \u001b[39;1m0%\u001b[39;22m\n",
      "\u001b[1A\u001b[0J  \u001b[34;1m•\u001b[39;22m \u001b[39mUpdating \u001b[39m\u001b[36mlangsmith\u001b[39m\u001b[39m (\u001b[39m\u001b[39;1m0.1.2\u001b[39;22m\u001b[39m -> \u001b[39m\u001b[39;1m0.1.5\u001b[39;22m\u001b[39m)\u001b[39m: \u001b[34mDownloading...\u001b[39m \u001b[39;1m20%\u001b[39;22m\n",
      "\u001b[1A\u001b[0J  \u001b[34;1m•\u001b[39;22m \u001b[39mUpdating \u001b[39m\u001b[36mlangsmith\u001b[39m\u001b[39m (\u001b[39m\u001b[39;1m0.1.2\u001b[39;22m\u001b[39m -> \u001b[39m\u001b[39;1m0.1.5\u001b[39;22m\u001b[39m)\u001b[39m: \u001b[34mDownloading...\u001b[39m \u001b[39;1m73%\u001b[39;22m\n",
      "\u001b[1A\u001b[0J  \u001b[34;1m•\u001b[39;22m \u001b[39mUpdating \u001b[39m\u001b[36mlangsmith\u001b[39m\u001b[39m (\u001b[39m\u001b[39;1m0.1.2\u001b[39;22m\u001b[39m -> \u001b[39m\u001b[39;1m0.1.5\u001b[39;22m\u001b[39m)\u001b[39m: \u001b[34mDownloading...\u001b[39m \u001b[39;1m100%\u001b[39;22m\n",
      "\u001b[1A\u001b[0J  \u001b[34;1m•\u001b[39;22m \u001b[39mUpdating \u001b[39m\u001b[36mlangsmith\u001b[39m\u001b[39m (\u001b[39m\u001b[39;1m0.1.2\u001b[39;22m\u001b[39m -> \u001b[39m\u001b[39;1m0.1.5\u001b[39;22m\u001b[39m)\u001b[39m: \u001b[34mInstalling...\u001b[39m\n",
      "\u001b[1A\u001b[0J  \u001b[32;1m•\u001b[39;22m \u001b[39mUpdating \u001b[39m\u001b[36mlangsmith\u001b[39m\u001b[39m (\u001b[39m\u001b[39;1m0.1.2\u001b[39;22m\u001b[39m -> \u001b[39m\u001b[32m0.1.5\u001b[39m\u001b[39m)\u001b[39m\n",
      "  \u001b[34;1m•\u001b[39;22m \u001b[39mUpdating \u001b[39m\u001b[36mlangchain-core\u001b[39m\u001b[39m (\u001b[39m\u001b[39;1m0.1.24\u001b[39;22m\u001b[39m -> \u001b[39m\u001b[39;1m0.1.25\u001b[39;22m\u001b[39m)\u001b[39m: \u001b[34mPending...\u001b[39m\n",
      "\u001b[1A\u001b[0J  \u001b[34;1m•\u001b[39;22m \u001b[39mUpdating \u001b[39m\u001b[36mlangchain-core\u001b[39m\u001b[39m (\u001b[39m\u001b[39;1m0.1.24\u001b[39;22m\u001b[39m -> \u001b[39m\u001b[39;1m0.1.25\u001b[39;22m\u001b[39m)\u001b[39m: \u001b[34mDownloading...\u001b[39m \u001b[39;1m0%\u001b[39;22m\n",
      "\u001b[1A\u001b[0J  \u001b[34;1m•\u001b[39;22m \u001b[39mUpdating \u001b[39m\u001b[36mlangchain-core\u001b[39m\u001b[39m (\u001b[39m\u001b[39;1m0.1.24\u001b[39;22m\u001b[39m -> \u001b[39m\u001b[39;1m0.1.25\u001b[39;22m\u001b[39m)\u001b[39m: \u001b[34mDownloading...\u001b[39m \u001b[39;1m10%\u001b[39;22m\n",
      "\u001b[1A\u001b[0J  \u001b[34;1m•\u001b[39;22m \u001b[39mUpdating \u001b[39m\u001b[36mlangchain-core\u001b[39m\u001b[39m (\u001b[39m\u001b[39;1m0.1.24\u001b[39;22m\u001b[39m -> \u001b[39m\u001b[39;1m0.1.25\u001b[39;22m\u001b[39m)\u001b[39m: \u001b[34mDownloading...\u001b[39m \u001b[39;1m50%\u001b[39;22m\n",
      "\u001b[1A\u001b[0J  \u001b[34;1m•\u001b[39;22m \u001b[39mUpdating \u001b[39m\u001b[36mlangchain-core\u001b[39m\u001b[39m (\u001b[39m\u001b[39;1m0.1.24\u001b[39;22m\u001b[39m -> \u001b[39m\u001b[39;1m0.1.25\u001b[39;22m\u001b[39m)\u001b[39m: \u001b[34mDownloading...\u001b[39m \u001b[39;1m91%\u001b[39;22m\n",
      "\u001b[1A\u001b[0J  \u001b[34;1m•\u001b[39;22m \u001b[39mUpdating \u001b[39m\u001b[36mlangchain-core\u001b[39m\u001b[39m (\u001b[39m\u001b[39;1m0.1.24\u001b[39;22m\u001b[39m -> \u001b[39m\u001b[39;1m0.1.25\u001b[39;22m\u001b[39m)\u001b[39m: \u001b[34mDownloading...\u001b[39m \u001b[39;1m100%\u001b[39;22m\n",
      "\u001b[1A\u001b[0J  \u001b[34;1m•\u001b[39;22m \u001b[39mUpdating \u001b[39m\u001b[36mlangchain-core\u001b[39m\u001b[39m (\u001b[39m\u001b[39;1m0.1.24\u001b[39;22m\u001b[39m -> \u001b[39m\u001b[39;1m0.1.25\u001b[39;22m\u001b[39m)\u001b[39m: \u001b[34mInstalling...\u001b[39m\n",
      "\u001b[1A\u001b[0J  \u001b[32;1m•\u001b[39;22m \u001b[39mUpdating \u001b[39m\u001b[36mlangchain-core\u001b[39m\u001b[39m (\u001b[39m\u001b[39;1m0.1.24\u001b[39;22m\u001b[39m -> \u001b[39m\u001b[32m0.1.25\u001b[39m\u001b[39m)\u001b[39m\n",
      "  \u001b[34;1m•\u001b[39;22m \u001b[39mUpdating \u001b[39m\u001b[36mzhipuai-pydantic-v1\u001b[39m\u001b[39m (\u001b[39m\u001b[39;1m2.0.1\u001b[39;22m\u001b[39m -> \u001b[39m\u001b[39;1m2.0.2\u001b[39;22m\u001b[39m)\u001b[39m: \u001b[34mPending...\u001b[39m\n",
      "\u001b[1A\u001b[0J  \u001b[34;1m•\u001b[39;22m \u001b[39mUpdating \u001b[39m\u001b[36mzhipuai-pydantic-v1\u001b[39m\u001b[39m (\u001b[39m\u001b[39;1m2.0.1\u001b[39;22m\u001b[39m -> \u001b[39m\u001b[39;1m2.0.2\u001b[39;22m\u001b[39m)\u001b[39m: \u001b[34mDownloading...\u001b[39m \u001b[39;1m0%\u001b[39;22m\n",
      "\u001b[1A\u001b[0J  \u001b[34;1m•\u001b[39;22m \u001b[39mUpdating \u001b[39m\u001b[36mzhipuai-pydantic-v1\u001b[39m\u001b[39m (\u001b[39m\u001b[39;1m2.0.1\u001b[39;22m\u001b[39m -> \u001b[39m\u001b[39;1m2.0.2\u001b[39;22m\u001b[39m)\u001b[39m: \u001b[34mDownloading...\u001b[39m \u001b[39;1m100%\u001b[39;22m\n",
      "\u001b[1A\u001b[0J  \u001b[34;1m•\u001b[39;22m \u001b[39mUpdating \u001b[39m\u001b[36mzhipuai-pydantic-v1\u001b[39m\u001b[39m (\u001b[39m\u001b[39;1m2.0.1\u001b[39;22m\u001b[39m -> \u001b[39m\u001b[39;1m2.0.2\u001b[39;22m\u001b[39m)\u001b[39m: \u001b[34mInstalling...\u001b[39m\n",
      "\u001b[1A\u001b[0J  \u001b[32;1m•\u001b[39;22m \u001b[39mUpdating \u001b[39m\u001b[36mzhipuai-pydantic-v1\u001b[39m\u001b[39m (\u001b[39m\u001b[39;1m2.0.1\u001b[39;22m\u001b[39m -> \u001b[39m\u001b[32m2.0.2\u001b[39m\u001b[39m)\u001b[39m\n",
      "\n",
      "\u001b[34mWriting lock file\u001b[39m\n"
     ]
    }
   ],
   "source": [
    "!poetry update"
   ]
  },
  {
   "cell_type": "code",
   "execution_count": 39,
   "metadata": {},
   "outputs": [
    {
     "data": {
      "text/plain": [
       "True"
      ]
     },
     "execution_count": 39,
     "metadata": {},
     "output_type": "execute_result"
    }
   ],
   "source": [
    "import os\n",
    "from dotenv import load_dotenv, find_dotenv\n",
    "load_dotenv(find_dotenv(), override=True)"
   ]
  },
  {
   "cell_type": "code",
   "execution_count": 40,
   "metadata": {},
   "outputs": [],
   "source": [
    "from langchain_chinese import ChatZhipuAI"
   ]
  },
  {
   "cell_type": "code",
   "execution_count": 41,
   "metadata": {},
   "outputs": [],
   "source": [
    "tools = [\n",
    "    {\n",
    "        \"type\": \"function\",\n",
    "        \"function\": {\n",
    "            \"name\": \"query_train_info\",\n",
    "            \"description\": \"根据用户提供的信息，查询对应的车次\",\n",
    "            \"parameters\": {\n",
    "                \"type\": \"object\",\n",
    "                \"properties\": {\n",
    "                    \"departure\": {\n",
    "                        \"type\": \"string\",\n",
    "                        \"description\": \"出发城市或车站\",\n",
    "                    },\n",
    "                    \"destination\": {\n",
    "                        \"type\": \"string\",\n",
    "                        \"description\": \"目的地城市或车站\",\n",
    "                    },\n",
    "                    \"date\": {\n",
    "                        \"type\": \"string\",\n",
    "                        \"description\": \"要查询的车次日期\",\n",
    "                    },\n",
    "                },\n",
    "                \"required\": [\"departure\", \"destination\", \"date\"],\n",
    "            },\n",
    "        }\n",
    "    }\n",
    "]"
   ]
  },
  {
   "cell_type": "code",
   "execution_count": 42,
   "metadata": {},
   "outputs": [],
   "source": [
    "llm = ChatZhipuAI().bind(tools=tools)"
   ]
  },
  {
   "cell_type": "code",
   "execution_count": 43,
   "metadata": {},
   "outputs": [
    {
     "data": {
      "text/plain": [
       "RunnableBinding(bound=ChatZhipuAI(client=<zhipuai._client.ZhipuAI object at 0x119b01eb0>), kwargs={'tools': [{'type': 'function', 'function': {'name': 'query_train_info', 'description': '根据用户提供的信息，查询对应的车次', 'parameters': {'type': 'object', 'properties': {'departure': {'type': 'string', 'description': '出发城市或车站'}, 'destination': {'type': 'string', 'description': '目的地城市或车站'}, 'date': {'type': 'string', 'description': '要查询的车次日期'}}, 'required': ['departure', 'destination', 'date']}}}]})"
      ]
     },
     "execution_count": 43,
     "metadata": {},
     "output_type": "execute_result"
    }
   ],
   "source": [
    "llm"
   ]
  },
  {
   "cell_type": "code",
   "execution_count": 44,
   "metadata": {},
   "outputs": [
    {
     "data": {
      "text/plain": [
       "AIMessage(content='一只鸡过马路，问了十个人都没人知道它要去哪儿。')"
      ]
     },
     "execution_count": 44,
     "metadata": {},
     "output_type": "execute_result"
    }
   ],
   "source": [
    "llm.invoke(\"给我讲个一句话笑话\")"
   ]
  },
  {
   "cell_type": "code",
   "execution_count": 6,
   "metadata": {},
   "outputs": [
    {
     "data": {
      "text/plain": [
       "AIMessage(content='', additional_kwargs={'tool_calls': [{'id': 'call_8367745969533437423', 'function': {'arguments': '{\"date\":\"2024-01-01\",\"departure\":\"北京南站\",\"destination\":\"上海\"}', 'name': 'query_train_info'}, 'type': 'function'}]})"
      ]
     },
     "execution_count": 6,
     "metadata": {},
     "output_type": "execute_result"
    }
   ],
   "source": [
    "llm.invoke(\"你能帮我查询2024年1月1日从北京南站到上海的火车票吗？\")"
   ]
  },
  {
   "cell_type": "code",
   "execution_count": 6,
   "metadata": {},
   "outputs": [
    {
     "name": "stdout",
     "output_type": "stream",
     "text": [
      "content='' additional_kwargs={'tool_calls': [{'index': 0, 'id': 'call_8367745969533447732', 'function': {'arguments': '{\"date\":\"2024-01-01\",\"departure\":\"北京南站\",\"destination\":\"上海\"}', 'name': 'query_train_info'}, 'type': 'function'}]}\n",
      "content=''\n"
     ]
    }
   ],
   "source": [
    "for chunk in llm.stream(\"你能帮我查询2024年1月1日从北京南站到上海的火车票吗？\"):\n",
    "  print(chunk)"
   ]
  },
  {
   "cell_type": "code",
   "execution_count": 16,
   "metadata": {},
   "outputs": [
    {
     "data": {
      "text/plain": [
       "AIMessage(content='根据提供的信息，贾玲的最新作品是《热辣滚烫》，这部电影在春节档期上映，并且取得了相当的成功，票房超过23.6亿元，豆瓣评分达到了8.0分，是当时春节档期评分最高的电影。贾玲不仅是该片的导演，也通过该片获得了观众和市场的广泛认可。\\n\\n此外，贾玲还透露了她的下一部作品的一些信息。她的新片名为《转念花开》（又名《光明之战》），是一部关于反传销题材的电影。这部电影已经备案，并且贾玲表示已经拍摄了一部分，剩下的一部分还在拍摄计划中。贾玲还提到，她已经邀请杨紫参与新片的演出，这增加了观众对这部电影的期待。')"
      ]
     },
     "execution_count": 16,
     "metadata": {},
     "output_type": "execute_result"
    }
   ],
   "source": [
    "llm = ChatZhipuAI()\n",
    "llm.invoke(\"贾玲最新的作品是什么？\")"
   ]
  },
  {
   "cell_type": "code",
   "execution_count": 28,
   "metadata": {},
   "outputs": [
    {
     "data": {
      "text/plain": [
       "AIMessage(content='贾玲是中国内地的著名女演员、喜剧演员和制片人，她有许多知名的作品。其中，贾玲最著名的作品之一是《欢乐喜剧人》。这是一档喜剧竞技类节目，贾玲作为固定成员和队长，带领团队在节目中表演了许多精彩的喜剧作品，深受观众喜爱。通过这个节目，贾玲展示了自己出色的喜剧表演才华，赢得了广泛的赞誉和人气。')"
      ]
     },
     "execution_count": 28,
     "metadata": {},
     "output_type": "execute_result"
    }
   ],
   "source": [
    "tools = [\n",
    "    {\n",
    "        \"type\": \"web_search\",\n",
    "        \"web_search\": {\n",
    "            \"search_query\": \"贾玲演过的相声\"\n",
    "        }\n",
    "    }\n",
    "]\n",
    "llm = ChatZhipuAI().bind(tools=tools)\n",
    "llm.invoke(\"列举一个贾玲的作品\")"
   ]
  },
  {
   "cell_type": "code",
   "execution_count": 30,
   "metadata": {},
   "outputs": [
    {
     "data": {
      "text/plain": [
       "AIMessage(content='很抱歉，您没有提供具体的背景信息或者说明，所以我无法直接指出贾玲的作品。贾玲是中国的一位著名女喜剧演员、导演和制片人。如果您能提供更多的上下文或细节，比如关于某个特定节目、事件或者作品的信息，我将能够更好地帮助您找出贾玲的相关作品。例如，贾玲因参与《欢乐喜剧人》等节目以及导演和参与电影《你好，李焕英》而广受欢迎。提供更多细节后，我可以为您提供更精确的答案。')"
      ]
     },
     "execution_count": 30,
     "metadata": {},
     "output_type": "execute_result"
    }
   ],
   "source": [
    "tools = [\n",
    "    {\n",
    "        \"type\": \"web_search\",\n",
    "        \"web_search\": {\n",
    "            \"search_query\": \"贾玲演过的电影\"\n",
    "        }\n",
    "    }\n",
    "]\n",
    "llm = ChatZhipuAI().bind(tools=tools)\n",
    "llm.invoke(\"从背景信息中找出贾玲的作品\")"
   ]
  },
  {
   "cell_type": "code",
   "execution_count": null,
   "metadata": {},
   "outputs": [],
   "source": []
  }
 ],
 "metadata": {
  "kernelspec": {
   "display_name": "langchain-chinese-gSQlHcwW-py3.9",
   "language": "python",
   "name": "python3"
  },
  "language_info": {
   "codemirror_mode": {
    "name": "ipython",
    "version": 3
   },
   "file_extension": ".py",
   "mimetype": "text/x-python",
   "name": "python",
   "nbconvert_exporter": "python",
   "pygments_lexer": "ipython3",
   "version": "3.9.18"
  }
 },
 "nbformat": 4,
 "nbformat_minor": 2
}
