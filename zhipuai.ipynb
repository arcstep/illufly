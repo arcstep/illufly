{
 "cells": [
  {
   "cell_type": "markdown",
   "metadata": {},
   "source": [
    "# 智谱API测试"
   ]
  },
  {
   "cell_type": "markdown",
   "metadata": {},
   "source": [
    "## 使用 ChatZhipuAI"
   ]
  },
  {
   "cell_type": "code",
   "execution_count": 7,
   "metadata": {},
   "outputs": [
    {
     "data": {
      "text/plain": [
       "True"
      ]
     },
     "execution_count": 7,
     "metadata": {},
     "output_type": "execute_result"
    }
   ],
   "source": [
    "import os\n",
    "from dotenv import load_dotenv, find_dotenv\n",
    "load_dotenv(find_dotenv(), override=True)"
   ]
  },
  {
   "cell_type": "code",
   "execution_count": 8,
   "metadata": {},
   "outputs": [
    {
     "ename": "PydanticUserError",
     "evalue": "\"Config\" and \"model_config\" cannot be used together\n\nFor further information visit https://errors.pydantic.dev/2.6/u/config-both",
     "output_type": "error",
     "traceback": [
      "\u001b[0;31m---------------------------------------------------------------------------\u001b[0m",
      "\u001b[0;31mPydanticUserError\u001b[0m                         Traceback (most recent call last)",
      "Cell \u001b[0;32mIn[8], line 1\u001b[0m\n\u001b[0;32m----> 1\u001b[0m \u001b[38;5;28;01mfrom\u001b[39;00m \u001b[38;5;21;01mlangchain_zhipu\u001b[39;00m \u001b[38;5;28;01mimport\u001b[39;00m ChatZhipuAI\n\u001b[1;32m      2\u001b[0m \u001b[38;5;28;01mfrom\u001b[39;00m \u001b[38;5;21;01mlangchain_core\u001b[39;00m\u001b[38;5;21;01m.\u001b[39;00m\u001b[38;5;21;01mprompts\u001b[39;00m \u001b[38;5;28;01mimport\u001b[39;00m ChatPromptTemplate\n",
      "File \u001b[0;32m~/Library/Caches/pypoetry/virtualenvs/langchain-chinese-gSQlHcwW-py3.9/lib/python3.9/site-packages/langchain_zhipu/__init__.py:2\u001b[0m\n\u001b[0;32m----> 2\u001b[0m \u001b[38;5;28;01mfrom\u001b[39;00m \u001b[38;5;21;01m.\u001b[39;00m\u001b[38;5;21;01m_client\u001b[39;00m \u001b[38;5;28;01mimport\u001b[39;00m ZhipuAI\n\u001b[1;32m      3\u001b[0m \u001b[38;5;28;01mfrom\u001b[39;00m \u001b[38;5;21;01m.\u001b[39;00m\u001b[38;5;21;01m_langchain\u001b[39;00m \u001b[38;5;28;01mimport\u001b[39;00m ChatZhipuAI\n\u001b[1;32m      5\u001b[0m \u001b[38;5;28;01mfrom\u001b[39;00m \u001b[38;5;21;01m.\u001b[39;00m\u001b[38;5;21;01mcore\u001b[39;00m\u001b[38;5;21;01m.\u001b[39;00m\u001b[38;5;21;01m_errors\u001b[39;00m \u001b[38;5;28;01mimport\u001b[39;00m (\n\u001b[1;32m      6\u001b[0m     ZhipuAIError,\n\u001b[1;32m      7\u001b[0m     APIStatusError,\n\u001b[0;32m   (...)\u001b[0m\n\u001b[1;32m     15\u001b[0m     APITimeoutError,\n\u001b[1;32m     16\u001b[0m )\n",
      "File \u001b[0;32m~/Library/Caches/pypoetry/virtualenvs/langchain-chinese-gSQlHcwW-py3.9/lib/python3.9/site-packages/langchain_zhipu/_client.py:9\u001b[0m\n\u001b[1;32m      7\u001b[0m \u001b[38;5;28;01mfrom\u001b[39;00m \u001b[38;5;21;01m.\u001b[39;00m\u001b[38;5;21;01mcore\u001b[39;00m \u001b[38;5;28;01mimport\u001b[39;00m _jwt_token\n\u001b[1;32m      8\u001b[0m \u001b[38;5;28;01mfrom\u001b[39;00m \u001b[38;5;21;01m.\u001b[39;00m\u001b[38;5;21;01mcore\u001b[39;00m\u001b[38;5;21;01m.\u001b[39;00m\u001b[38;5;21;01m_errors\u001b[39;00m \u001b[38;5;28;01mimport\u001b[39;00m ZhipuAIError\n\u001b[0;32m----> 9\u001b[0m \u001b[38;5;28;01mfrom\u001b[39;00m \u001b[38;5;21;01m.\u001b[39;00m\u001b[38;5;21;01mcore\u001b[39;00m\u001b[38;5;21;01m.\u001b[39;00m\u001b[38;5;21;01m_http_client\u001b[39;00m \u001b[38;5;28;01mimport\u001b[39;00m HttpClient, ZHIPUAI_DEFAULT_MAX_RETRIES\n\u001b[1;32m     10\u001b[0m \u001b[38;5;28;01mfrom\u001b[39;00m \u001b[38;5;21;01m.\u001b[39;00m\u001b[38;5;21;01mcore\u001b[39;00m\u001b[38;5;21;01m.\u001b[39;00m\u001b[38;5;21;01m_base_type\u001b[39;00m \u001b[38;5;28;01mimport\u001b[39;00m NotGiven, NOT_GIVEN\n\u001b[1;32m     11\u001b[0m \u001b[38;5;28;01mfrom\u001b[39;00m \u001b[38;5;21;01m.\u001b[39;00m \u001b[38;5;28;01mimport\u001b[39;00m api_resource\n",
      "File \u001b[0;32m~/Library/Caches/pypoetry/virtualenvs/langchain-chinese-gSQlHcwW-py3.9/lib/python3.9/site-packages/langchain_zhipu/core/_http_client.py:21\u001b[0m\n\u001b[1;32m     19\u001b[0m \u001b[38;5;28;01mfrom\u001b[39;00m \u001b[38;5;21;01m.\u001b[39;00m\u001b[38;5;21;01m_errors\u001b[39;00m \u001b[38;5;28;01mimport\u001b[39;00m APIResponseValidationError, APIStatusError, APITimeoutError\n\u001b[1;32m     20\u001b[0m \u001b[38;5;28;01mfrom\u001b[39;00m \u001b[38;5;21;01m.\u001b[39;00m\u001b[38;5;21;01m_files\u001b[39;00m \u001b[38;5;28;01mimport\u001b[39;00m make_httpx_files\n\u001b[0;32m---> 21\u001b[0m \u001b[38;5;28;01mfrom\u001b[39;00m \u001b[38;5;21;01m.\u001b[39;00m\u001b[38;5;21;01m_request_opt\u001b[39;00m \u001b[38;5;28;01mimport\u001b[39;00m ClientRequestParam, UserRequestInput\n\u001b[1;32m     22\u001b[0m \u001b[38;5;28;01mfrom\u001b[39;00m \u001b[38;5;21;01m.\u001b[39;00m\u001b[38;5;21;01m_response\u001b[39;00m \u001b[38;5;28;01mimport\u001b[39;00m HttpResponse\n\u001b[1;32m     23\u001b[0m \u001b[38;5;28;01mfrom\u001b[39;00m \u001b[38;5;21;01m.\u001b[39;00m\u001b[38;5;21;01m_sse_client\u001b[39;00m \u001b[38;5;28;01mimport\u001b[39;00m StreamResponse\n",
      "File \u001b[0;32m~/Library/Caches/pypoetry/virtualenvs/langchain-chinese-gSQlHcwW-py3.9/lib/python3.9/site-packages/langchain_zhipu/core/_request_opt.py:24\u001b[0m\n\u001b[1;32m     20\u001b[0m     headers: Headers\n\u001b[1;32m     21\u001b[0m     params: Query \u001b[38;5;241m|\u001b[39m \u001b[38;5;28;01mNone\u001b[39;00m\n\u001b[1;32m     23\u001b[0m \u001b[38;5;129m@final\u001b[39m\n\u001b[0;32m---> 24\u001b[0m \u001b[38;5;28;01mclass\u001b[39;00m \u001b[38;5;21;01mClientRequestParam\u001b[39;00m(pydantic\u001b[38;5;241m.\u001b[39mBaseModel):\n\u001b[1;32m     25\u001b[0m     method: \u001b[38;5;28mstr\u001b[39m\n\u001b[1;32m     26\u001b[0m     url: \u001b[38;5;28mstr\u001b[39m\n",
      "File \u001b[0;32m~/Library/Caches/pypoetry/virtualenvs/langchain-chinese-gSQlHcwW-py3.9/lib/python3.9/site-packages/pydantic/_internal/_model_construction.py:90\u001b[0m, in \u001b[0;36mModelMetaclass.__new__\u001b[0;34m(mcs, cls_name, bases, namespace, __pydantic_generic_metadata__, __pydantic_reset_parent_namespace__, _create_model_module, **kwargs)\u001b[0m\n\u001b[1;32m     87\u001b[0m \u001b[38;5;28;01mif\u001b[39;00m bases:\n\u001b[1;32m     88\u001b[0m     base_field_names, class_vars, base_private_attributes \u001b[38;5;241m=\u001b[39m mcs\u001b[38;5;241m.\u001b[39m_collect_bases_data(bases)\n\u001b[0;32m---> 90\u001b[0m     config_wrapper \u001b[38;5;241m=\u001b[39m \u001b[43mConfigWrapper\u001b[49m\u001b[38;5;241;43m.\u001b[39;49m\u001b[43mfor_model\u001b[49m\u001b[43m(\u001b[49m\u001b[43mbases\u001b[49m\u001b[43m,\u001b[49m\u001b[43m \u001b[49m\u001b[43mnamespace\u001b[49m\u001b[43m,\u001b[49m\u001b[43m \u001b[49m\u001b[43mkwargs\u001b[49m\u001b[43m)\u001b[49m\n\u001b[1;32m     91\u001b[0m     namespace[\u001b[38;5;124m'\u001b[39m\u001b[38;5;124mmodel_config\u001b[39m\u001b[38;5;124m'\u001b[39m] \u001b[38;5;241m=\u001b[39m config_wrapper\u001b[38;5;241m.\u001b[39mconfig_dict\n\u001b[1;32m     92\u001b[0m     private_attributes \u001b[38;5;241m=\u001b[39m inspect_namespace(\n\u001b[1;32m     93\u001b[0m         namespace, config_wrapper\u001b[38;5;241m.\u001b[39mignored_types, class_vars, base_field_names\n\u001b[1;32m     94\u001b[0m     )\n",
      "File \u001b[0;32m~/Library/Caches/pypoetry/virtualenvs/langchain-chinese-gSQlHcwW-py3.9/lib/python3.9/site-packages/pydantic/_internal/_config.py:119\u001b[0m, in \u001b[0;36mConfigWrapper.for_model\u001b[0;34m(cls, bases, namespace, kwargs)\u001b[0m\n\u001b[1;32m    116\u001b[0m config_dict_from_namespace \u001b[38;5;241m=\u001b[39m namespace\u001b[38;5;241m.\u001b[39mget(\u001b[38;5;124m'\u001b[39m\u001b[38;5;124mmodel_config\u001b[39m\u001b[38;5;124m'\u001b[39m)\n\u001b[1;32m    118\u001b[0m \u001b[38;5;28;01mif\u001b[39;00m config_class_from_namespace \u001b[38;5;129;01mand\u001b[39;00m config_dict_from_namespace:\n\u001b[0;32m--> 119\u001b[0m     \u001b[38;5;28;01mraise\u001b[39;00m PydanticUserError(\u001b[38;5;124m'\u001b[39m\u001b[38;5;124m\"\u001b[39m\u001b[38;5;124mConfig\u001b[39m\u001b[38;5;124m\"\u001b[39m\u001b[38;5;124m and \u001b[39m\u001b[38;5;124m\"\u001b[39m\u001b[38;5;124mmodel_config\u001b[39m\u001b[38;5;124m\"\u001b[39m\u001b[38;5;124m cannot be used together\u001b[39m\u001b[38;5;124m'\u001b[39m, code\u001b[38;5;241m=\u001b[39m\u001b[38;5;124m'\u001b[39m\u001b[38;5;124mconfig-both\u001b[39m\u001b[38;5;124m'\u001b[39m)\n\u001b[1;32m    121\u001b[0m config_from_namespace \u001b[38;5;241m=\u001b[39m config_dict_from_namespace \u001b[38;5;129;01mor\u001b[39;00m prepare_config(config_class_from_namespace)\n\u001b[1;32m    123\u001b[0m config_new\u001b[38;5;241m.\u001b[39mupdate(config_from_namespace)\n",
      "\u001b[0;31mPydanticUserError\u001b[0m: \"Config\" and \"model_config\" cannot be used together\n\nFor further information visit https://errors.pydantic.dev/2.6/u/config-both"
     ]
    }
   ],
   "source": [
    "from langchain_zhipu import ChatZhipuAI\n",
    "from langchain_core.prompts import ChatPromptTemplate"
   ]
  },
  {
   "cell_type": "code",
   "execution_count": 3,
   "metadata": {},
   "outputs": [
    {
     "ename": "NameError",
     "evalue": "name 'ChatZhipuAI' is not defined",
     "output_type": "error",
     "traceback": [
      "\u001b[0;31m---------------------------------------------------------------------------\u001b[0m",
      "\u001b[0;31mNameError\u001b[0m                                 Traceback (most recent call last)",
      "Cell \u001b[0;32mIn[3], line 1\u001b[0m\n\u001b[0;32m----> 1\u001b[0m llm \u001b[38;5;241m=\u001b[39m \u001b[43mChatZhipuAI\u001b[49m()\n",
      "\u001b[0;31mNameError\u001b[0m: name 'ChatZhipuAI' is not defined"
     ]
    }
   ],
   "source": [
    "llm = ChatZhipuAI()"
   ]
  },
  {
   "cell_type": "code",
   "execution_count": 4,
   "metadata": {},
   "outputs": [
    {
     "data": {
      "text/plain": [
       "ChatZhipuAI(client=<zhipuai._client.ZhipuAI object at 0x10cda0c40>)"
      ]
     },
     "execution_count": 4,
     "metadata": {},
     "output_type": "execute_result"
    }
   ],
   "source": [
    "llm"
   ]
  },
  {
   "cell_type": "code",
   "execution_count": 5,
   "metadata": {},
   "outputs": [
    {
     "data": {
      "text/plain": [
       "AIMessage(content=\"Here are a few ideas for a company name that could suit a colorful sock company:\\n\\n1. ColorSock\\n2. SocksRainbow\\n3. VibrantToes\\n4. Socktopia\\n5. FancyFeet\\n6. ColorfulThreads\\n7. PatternPals\\n8. StripedSocks Co.\\n9. Kaleidoscope Sox\\n10. BoldBottoms\\n11. ColorBlast Socks\\n12. TyeDye Threads\\n13. ArtfulAnkles\\n14. RainbowRascals\\n15. POPSocks!\\n\\nRemember to check the availability of the name and ensure it isn't already in use or trademarked by another company before making a final decision.\")"
      ]
     },
     "execution_count": 5,
     "metadata": {},
     "output_type": "execute_result"
    }
   ],
   "source": [
    "from langchain.schema import HumanMessage\n",
    "\n",
    "text = \"What would be a good company name for a company that makes colorful socks?\"\n",
    "messages = [HumanMessage(content=text)]\n",
    "\n",
    "llm.invoke(messages)"
   ]
  },
  {
   "cell_type": "code",
   "execution_count": null,
   "metadata": {},
   "outputs": [
    {
     "data": {
      "text/plain": [
       "AIMessage(content='你好👋！我是人工智能助手智谱清言（ChatGLM），很高兴见到你，欢迎问我任何问题。')"
      ]
     },
     "execution_count": 6,
     "metadata": {},
     "output_type": "execute_result"
    }
   ],
   "source": [
    "await llm.ainvoke(\"hi\")"
   ]
  },
  {
   "cell_type": "code",
   "execution_count": null,
   "metadata": {},
   "outputs": [
    {
     "name": "stdout",
     "output_type": "stream",
     "text": [
      "content='你好'\n",
      "content='👋！'\n",
      "content='我是'\n",
      "content='人工智能'\n",
      "content='助手'\n",
      "content='智'\n",
      "content='谱'\n",
      "content='清'\n",
      "content='言'\n",
      "content='（'\n",
      "content='C'\n",
      "content='hat'\n",
      "content='GL'\n",
      "content='M'\n",
      "content='），'\n",
      "content='很高兴'\n",
      "content='见到'\n",
      "content='你'\n",
      "content='，'\n",
      "content='欢迎'\n",
      "content='问我'\n",
      "content='任何'\n",
      "content='问题'\n",
      "content='。'\n",
      "content=''\n"
     ]
    }
   ],
   "source": [
    "for chunk in llm.stream(\"hi\"):\n",
    "  print(chunk)"
   ]
  },
  {
   "cell_type": "code",
   "execution_count": null,
   "metadata": {},
   "outputs": [
    {
     "name": "stdout",
     "output_type": "stream",
     "text": [
      "content='Hello'\n",
      "content=' '\n",
      "content='👋!'\n",
      "content=' I'\n",
      "content=\"'\"\n",
      "content='m'\n",
      "content=' Chat'\n",
      "content='GL'\n",
      "content='M'\n",
      "content='（'\n",
      "content='智'\n",
      "content='谱'\n",
      "content='清'\n",
      "content='言'\n",
      "content='）,'\n",
      "content=' the'\n",
      "content=' artificial'\n",
      "content=' intelligence'\n",
      "content=' assistant'\n",
      "content=','\n",
      "content=' nice'\n",
      "content=' to'\n",
      "content=' meet'\n",
      "content=' you'\n",
      "content='.'\n",
      "content=' Feel'\n",
      "content=' free'\n",
      "content=' to'\n",
      "content=' ask'\n",
      "content=' me'\n",
      "content=' any'\n",
      "content=' questions'\n",
      "content='.'\n",
      "content=''\n"
     ]
    }
   ],
   "source": [
    "async for chunk in llm.astream(\"hi\"):\n",
    "  print(chunk)"
   ]
  },
  {
   "cell_type": "code",
   "execution_count": null,
   "metadata": {},
   "outputs": [
    {
     "name": "stdout",
     "output_type": "stream",
     "text": [
      "RunLogPatch({'op': 'replace',\n",
      "  'path': '',\n",
      "  'value': {'final_output': None,\n",
      "            'id': '3fc2541b-02a4-4336-969b-200758724a02',\n",
      "            'logs': {},\n",
      "            'name': 'ChatZhipuAI',\n",
      "            'streamed_output': [],\n",
      "            'type': 'llm'}})\n",
      "RunLogPatch({'op': 'add',\n",
      "  'path': '/streamed_output/-',\n",
      "  'value': AIMessageChunk(content='Hello')},\n",
      " {'op': 'replace',\n",
      "  'path': '/final_output',\n",
      "  'value': AIMessageChunk(content='Hello')})\n",
      "RunLogPatch({'op': 'add',\n",
      "  'path': '/streamed_output/-',\n",
      "  'value': AIMessageChunk(content=' ')},\n",
      " {'op': 'replace',\n",
      "  'path': '/final_output',\n",
      "  'value': AIMessageChunk(content='Hello ')})\n",
      "RunLogPatch({'op': 'add',\n",
      "  'path': '/streamed_output/-',\n",
      "  'value': AIMessageChunk(content='👋!')},\n",
      " {'op': 'replace',\n",
      "  'path': '/final_output',\n",
      "  'value': AIMessageChunk(content='Hello 👋!')})\n",
      "RunLogPatch({'op': 'add',\n",
      "  'path': '/streamed_output/-',\n",
      "  'value': AIMessageChunk(content=' I')},\n",
      " {'op': 'replace',\n",
      "  'path': '/final_output',\n",
      "  'value': AIMessageChunk(content='Hello 👋! I')})\n",
      "RunLogPatch({'op': 'add',\n",
      "  'path': '/streamed_output/-',\n",
      "  'value': AIMessageChunk(content=\"'\")},\n",
      " {'op': 'replace',\n",
      "  'path': '/final_output',\n",
      "  'value': AIMessageChunk(content=\"Hello 👋! I'\")})\n",
      "RunLogPatch({'op': 'add',\n",
      "  'path': '/streamed_output/-',\n",
      "  'value': AIMessageChunk(content='m')},\n",
      " {'op': 'replace',\n",
      "  'path': '/final_output',\n",
      "  'value': AIMessageChunk(content=\"Hello 👋! I'm\")})\n",
      "RunLogPatch({'op': 'add',\n",
      "  'path': '/streamed_output/-',\n",
      "  'value': AIMessageChunk(content=' Chat')},\n",
      " {'op': 'replace',\n",
      "  'path': '/final_output',\n",
      "  'value': AIMessageChunk(content=\"Hello 👋! I'm Chat\")})\n",
      "RunLogPatch({'op': 'add',\n",
      "  'path': '/streamed_output/-',\n",
      "  'value': AIMessageChunk(content='GL')},\n",
      " {'op': 'replace',\n",
      "  'path': '/final_output',\n",
      "  'value': AIMessageChunk(content=\"Hello 👋! I'm ChatGL\")})\n",
      "RunLogPatch({'op': 'add',\n",
      "  'path': '/streamed_output/-',\n",
      "  'value': AIMessageChunk(content='M')},\n",
      " {'op': 'replace',\n",
      "  'path': '/final_output',\n",
      "  'value': AIMessageChunk(content=\"Hello 👋! I'm ChatGLM\")})\n",
      "RunLogPatch({'op': 'add',\n",
      "  'path': '/streamed_output/-',\n",
      "  'value': AIMessageChunk(content='（')},\n",
      " {'op': 'replace',\n",
      "  'path': '/final_output',\n",
      "  'value': AIMessageChunk(content=\"Hello 👋! I'm ChatGLM（\")})\n",
      "RunLogPatch({'op': 'add',\n",
      "  'path': '/streamed_output/-',\n",
      "  'value': AIMessageChunk(content='智')},\n",
      " {'op': 'replace',\n",
      "  'path': '/final_output',\n",
      "  'value': AIMessageChunk(content=\"Hello 👋! I'm ChatGLM（智\")})\n",
      "RunLogPatch({'op': 'add',\n",
      "  'path': '/streamed_output/-',\n",
      "  'value': AIMessageChunk(content='谱')},\n",
      " {'op': 'replace',\n",
      "  'path': '/final_output',\n",
      "  'value': AIMessageChunk(content=\"Hello 👋! I'm ChatGLM（智谱\")})\n",
      "RunLogPatch({'op': 'add',\n",
      "  'path': '/streamed_output/-',\n",
      "  'value': AIMessageChunk(content='清')},\n",
      " {'op': 'replace',\n",
      "  'path': '/final_output',\n",
      "  'value': AIMessageChunk(content=\"Hello 👋! I'm ChatGLM（智谱清\")})\n",
      "RunLogPatch({'op': 'add',\n",
      "  'path': '/streamed_output/-',\n",
      "  'value': AIMessageChunk(content='言')},\n",
      " {'op': 'replace',\n",
      "  'path': '/final_output',\n",
      "  'value': AIMessageChunk(content=\"Hello 👋! I'm ChatGLM（智谱清言\")})\n",
      "RunLogPatch({'op': 'add',\n",
      "  'path': '/streamed_output/-',\n",
      "  'value': AIMessageChunk(content='）,')},\n",
      " {'op': 'replace',\n",
      "  'path': '/final_output',\n",
      "  'value': AIMessageChunk(content=\"Hello 👋! I'm ChatGLM（智谱清言）,\")})\n",
      "RunLogPatch({'op': 'add',\n",
      "  'path': '/streamed_output/-',\n",
      "  'value': AIMessageChunk(content=' the')},\n",
      " {'op': 'replace',\n",
      "  'path': '/final_output',\n",
      "  'value': AIMessageChunk(content=\"Hello 👋! I'm ChatGLM（智谱清言）, the\")})\n",
      "RunLogPatch({'op': 'add',\n",
      "  'path': '/streamed_output/-',\n",
      "  'value': AIMessageChunk(content=' artificial')},\n",
      " {'op': 'replace',\n",
      "  'path': '/final_output',\n",
      "  'value': AIMessageChunk(content=\"Hello 👋! I'm ChatGLM（智谱清言）, the artificial\")})\n",
      "RunLogPatch({'op': 'add',\n",
      "  'path': '/streamed_output/-',\n",
      "  'value': AIMessageChunk(content=' intelligence')},\n",
      " {'op': 'replace',\n",
      "  'path': '/final_output',\n",
      "  'value': AIMessageChunk(content=\"Hello 👋! I'm ChatGLM（智谱清言）, the artificial intelligence\")})\n",
      "RunLogPatch({'op': 'add',\n",
      "  'path': '/streamed_output/-',\n",
      "  'value': AIMessageChunk(content=' assistant')},\n",
      " {'op': 'replace',\n",
      "  'path': '/final_output',\n",
      "  'value': AIMessageChunk(content=\"Hello 👋! I'm ChatGLM（智谱清言）, the artificial intelligence assistant\")})\n",
      "RunLogPatch({'op': 'add',\n",
      "  'path': '/streamed_output/-',\n",
      "  'value': AIMessageChunk(content=',')},\n",
      " {'op': 'replace',\n",
      "  'path': '/final_output',\n",
      "  'value': AIMessageChunk(content=\"Hello 👋! I'm ChatGLM（智谱清言）, the artificial intelligence assistant,\")})\n",
      "RunLogPatch({'op': 'add',\n",
      "  'path': '/streamed_output/-',\n",
      "  'value': AIMessageChunk(content=' nice')},\n",
      " {'op': 'replace',\n",
      "  'path': '/final_output',\n",
      "  'value': AIMessageChunk(content=\"Hello 👋! I'm ChatGLM（智谱清言）, the artificial intelligence assistant, nice\")})\n",
      "RunLogPatch({'op': 'add',\n",
      "  'path': '/streamed_output/-',\n",
      "  'value': AIMessageChunk(content=' to')},\n",
      " {'op': 'replace',\n",
      "  'path': '/final_output',\n",
      "  'value': AIMessageChunk(content=\"Hello 👋! I'm ChatGLM（智谱清言）, the artificial intelligence assistant, nice to\")})\n",
      "RunLogPatch({'op': 'add',\n",
      "  'path': '/streamed_output/-',\n",
      "  'value': AIMessageChunk(content=' meet')},\n",
      " {'op': 'replace',\n",
      "  'path': '/final_output',\n",
      "  'value': AIMessageChunk(content=\"Hello 👋! I'm ChatGLM（智谱清言）, the artificial intelligence assistant, nice to meet\")})\n",
      "RunLogPatch({'op': 'add',\n",
      "  'path': '/streamed_output/-',\n",
      "  'value': AIMessageChunk(content=' you')},\n",
      " {'op': 'replace',\n",
      "  'path': '/final_output',\n",
      "  'value': AIMessageChunk(content=\"Hello 👋! I'm ChatGLM（智谱清言）, the artificial intelligence assistant, nice to meet you\")})\n",
      "RunLogPatch({'op': 'add',\n",
      "  'path': '/streamed_output/-',\n",
      "  'value': AIMessageChunk(content='.')},\n",
      " {'op': 'replace',\n",
      "  'path': '/final_output',\n",
      "  'value': AIMessageChunk(content=\"Hello 👋! I'm ChatGLM（智谱清言）, the artificial intelligence assistant, nice to meet you.\")})\n",
      "RunLogPatch({'op': 'add',\n",
      "  'path': '/streamed_output/-',\n",
      "  'value': AIMessageChunk(content=' Feel')},\n",
      " {'op': 'replace',\n",
      "  'path': '/final_output',\n",
      "  'value': AIMessageChunk(content=\"Hello 👋! I'm ChatGLM（智谱清言）, the artificial intelligence assistant, nice to meet you. Feel\")})\n",
      "RunLogPatch({'op': 'add',\n",
      "  'path': '/streamed_output/-',\n",
      "  'value': AIMessageChunk(content=' free')},\n",
      " {'op': 'replace',\n",
      "  'path': '/final_output',\n",
      "  'value': AIMessageChunk(content=\"Hello 👋! I'm ChatGLM（智谱清言）, the artificial intelligence assistant, nice to meet you. Feel free\")})\n",
      "RunLogPatch({'op': 'add',\n",
      "  'path': '/streamed_output/-',\n",
      "  'value': AIMessageChunk(content=' to')},\n",
      " {'op': 'replace',\n",
      "  'path': '/final_output',\n",
      "  'value': AIMessageChunk(content=\"Hello 👋! I'm ChatGLM（智谱清言）, the artificial intelligence assistant, nice to meet you. Feel free to\")})\n",
      "RunLogPatch({'op': 'add',\n",
      "  'path': '/streamed_output/-',\n",
      "  'value': AIMessageChunk(content=' ask')},\n",
      " {'op': 'replace',\n",
      "  'path': '/final_output',\n",
      "  'value': AIMessageChunk(content=\"Hello 👋! I'm ChatGLM（智谱清言）, the artificial intelligence assistant, nice to meet you. Feel free to ask\")})\n",
      "RunLogPatch({'op': 'add',\n",
      "  'path': '/streamed_output/-',\n",
      "  'value': AIMessageChunk(content=' me')},\n",
      " {'op': 'replace',\n",
      "  'path': '/final_output',\n",
      "  'value': AIMessageChunk(content=\"Hello 👋! I'm ChatGLM（智谱清言）, the artificial intelligence assistant, nice to meet you. Feel free to ask me\")})\n",
      "RunLogPatch({'op': 'add',\n",
      "  'path': '/streamed_output/-',\n",
      "  'value': AIMessageChunk(content=' any')},\n",
      " {'op': 'replace',\n",
      "  'path': '/final_output',\n",
      "  'value': AIMessageChunk(content=\"Hello 👋! I'm ChatGLM（智谱清言）, the artificial intelligence assistant, nice to meet you. Feel free to ask me any\")})\n",
      "RunLogPatch({'op': 'add',\n",
      "  'path': '/streamed_output/-',\n",
      "  'value': AIMessageChunk(content=' questions')},\n",
      " {'op': 'replace',\n",
      "  'path': '/final_output',\n",
      "  'value': AIMessageChunk(content=\"Hello 👋! I'm ChatGLM（智谱清言）, the artificial intelligence assistant, nice to meet you. Feel free to ask me any questions\")})\n",
      "RunLogPatch({'op': 'add',\n",
      "  'path': '/streamed_output/-',\n",
      "  'value': AIMessageChunk(content='.')},\n",
      " {'op': 'replace',\n",
      "  'path': '/final_output',\n",
      "  'value': AIMessageChunk(content=\"Hello 👋! I'm ChatGLM（智谱清言）, the artificial intelligence assistant, nice to meet you. Feel free to ask me any questions.\")})\n",
      "RunLogPatch({'op': 'add',\n",
      "  'path': '/streamed_output/-',\n",
      "  'value': AIMessageChunk(content='')})\n"
     ]
    }
   ],
   "source": [
    "async for chunk in llm.astream_log(\"hi\", version=\"v1\"):\n",
    "  print(chunk)"
   ]
  },
  {
   "cell_type": "code",
   "execution_count": null,
   "metadata": {},
   "outputs": [
    {
     "name": "stderr",
     "output_type": "stream",
     "text": [
      "/Users/xuehongwei/Library/Caches/pypoetry/virtualenvs/langchain-chinese-gSQlHcwW-py3.9/lib/python3.9/site-packages/langchain_core/_api/beta_decorator.py:86: LangChainBetaWarning: This API is in beta and may change in the future.\n",
      "  warn_beta(\n"
     ]
    },
    {
     "name": "stdout",
     "output_type": "stream",
     "text": [
      "{'event': 'on_chat_model_start', 'run_id': '72ae4f3e-31d7-429d-9cb4-72acedb28018', 'name': 'ChatZhipuAI', 'tags': [], 'metadata': {}, 'data': {'input': 'hi'}}\n",
      "{'event': 'on_chat_model_stream', 'run_id': '72ae4f3e-31d7-429d-9cb4-72acedb28018', 'tags': [], 'metadata': {}, 'name': 'ChatZhipuAI', 'data': {'chunk': AIMessageChunk(content='你好')}}\n",
      "{'event': 'on_chat_model_stream', 'run_id': '72ae4f3e-31d7-429d-9cb4-72acedb28018', 'tags': [], 'metadata': {}, 'name': 'ChatZhipuAI', 'data': {'chunk': AIMessageChunk(content='👋！')}}\n",
      "{'event': 'on_chat_model_stream', 'run_id': '72ae4f3e-31d7-429d-9cb4-72acedb28018', 'tags': [], 'metadata': {}, 'name': 'ChatZhipuAI', 'data': {'chunk': AIMessageChunk(content='我是')}}\n",
      "{'event': 'on_chat_model_stream', 'run_id': '72ae4f3e-31d7-429d-9cb4-72acedb28018', 'tags': [], 'metadata': {}, 'name': 'ChatZhipuAI', 'data': {'chunk': AIMessageChunk(content='人工智能')}}\n",
      "{'event': 'on_chat_model_stream', 'run_id': '72ae4f3e-31d7-429d-9cb4-72acedb28018', 'tags': [], 'metadata': {}, 'name': 'ChatZhipuAI', 'data': {'chunk': AIMessageChunk(content='助手')}}\n",
      "{'event': 'on_chat_model_stream', 'run_id': '72ae4f3e-31d7-429d-9cb4-72acedb28018', 'tags': [], 'metadata': {}, 'name': 'ChatZhipuAI', 'data': {'chunk': AIMessageChunk(content='智')}}\n",
      "{'event': 'on_chat_model_stream', 'run_id': '72ae4f3e-31d7-429d-9cb4-72acedb28018', 'tags': [], 'metadata': {}, 'name': 'ChatZhipuAI', 'data': {'chunk': AIMessageChunk(content='谱')}}\n",
      "{'event': 'on_chat_model_stream', 'run_id': '72ae4f3e-31d7-429d-9cb4-72acedb28018', 'tags': [], 'metadata': {}, 'name': 'ChatZhipuAI', 'data': {'chunk': AIMessageChunk(content='清')}}\n",
      "{'event': 'on_chat_model_stream', 'run_id': '72ae4f3e-31d7-429d-9cb4-72acedb28018', 'tags': [], 'metadata': {}, 'name': 'ChatZhipuAI', 'data': {'chunk': AIMessageChunk(content='言')}}\n",
      "{'event': 'on_chat_model_stream', 'run_id': '72ae4f3e-31d7-429d-9cb4-72acedb28018', 'tags': [], 'metadata': {}, 'name': 'ChatZhipuAI', 'data': {'chunk': AIMessageChunk(content='（')}}\n",
      "{'event': 'on_chat_model_stream', 'run_id': '72ae4f3e-31d7-429d-9cb4-72acedb28018', 'tags': [], 'metadata': {}, 'name': 'ChatZhipuAI', 'data': {'chunk': AIMessageChunk(content='C')}}\n",
      "{'event': 'on_chat_model_stream', 'run_id': '72ae4f3e-31d7-429d-9cb4-72acedb28018', 'tags': [], 'metadata': {}, 'name': 'ChatZhipuAI', 'data': {'chunk': AIMessageChunk(content='hat')}}\n",
      "{'event': 'on_chat_model_stream', 'run_id': '72ae4f3e-31d7-429d-9cb4-72acedb28018', 'tags': [], 'metadata': {}, 'name': 'ChatZhipuAI', 'data': {'chunk': AIMessageChunk(content='GL')}}\n",
      "{'event': 'on_chat_model_stream', 'run_id': '72ae4f3e-31d7-429d-9cb4-72acedb28018', 'tags': [], 'metadata': {}, 'name': 'ChatZhipuAI', 'data': {'chunk': AIMessageChunk(content='M')}}\n",
      "{'event': 'on_chat_model_stream', 'run_id': '72ae4f3e-31d7-429d-9cb4-72acedb28018', 'tags': [], 'metadata': {}, 'name': 'ChatZhipuAI', 'data': {'chunk': AIMessageChunk(content='），')}}\n",
      "{'event': 'on_chat_model_stream', 'run_id': '72ae4f3e-31d7-429d-9cb4-72acedb28018', 'tags': [], 'metadata': {}, 'name': 'ChatZhipuAI', 'data': {'chunk': AIMessageChunk(content='很高兴')}}\n",
      "{'event': 'on_chat_model_stream', 'run_id': '72ae4f3e-31d7-429d-9cb4-72acedb28018', 'tags': [], 'metadata': {}, 'name': 'ChatZhipuAI', 'data': {'chunk': AIMessageChunk(content='见到')}}\n",
      "{'event': 'on_chat_model_stream', 'run_id': '72ae4f3e-31d7-429d-9cb4-72acedb28018', 'tags': [], 'metadata': {}, 'name': 'ChatZhipuAI', 'data': {'chunk': AIMessageChunk(content='你')}}\n",
      "{'event': 'on_chat_model_stream', 'run_id': '72ae4f3e-31d7-429d-9cb4-72acedb28018', 'tags': [], 'metadata': {}, 'name': 'ChatZhipuAI', 'data': {'chunk': AIMessageChunk(content='，')}}\n",
      "{'event': 'on_chat_model_stream', 'run_id': '72ae4f3e-31d7-429d-9cb4-72acedb28018', 'tags': [], 'metadata': {}, 'name': 'ChatZhipuAI', 'data': {'chunk': AIMessageChunk(content='欢迎')}}\n",
      "{'event': 'on_chat_model_stream', 'run_id': '72ae4f3e-31d7-429d-9cb4-72acedb28018', 'tags': [], 'metadata': {}, 'name': 'ChatZhipuAI', 'data': {'chunk': AIMessageChunk(content='问我')}}\n",
      "{'event': 'on_chat_model_stream', 'run_id': '72ae4f3e-31d7-429d-9cb4-72acedb28018', 'tags': [], 'metadata': {}, 'name': 'ChatZhipuAI', 'data': {'chunk': AIMessageChunk(content='任何')}}\n",
      "{'event': 'on_chat_model_stream', 'run_id': '72ae4f3e-31d7-429d-9cb4-72acedb28018', 'tags': [], 'metadata': {}, 'name': 'ChatZhipuAI', 'data': {'chunk': AIMessageChunk(content='问题')}}\n",
      "{'event': 'on_chat_model_stream', 'run_id': '72ae4f3e-31d7-429d-9cb4-72acedb28018', 'tags': [], 'metadata': {}, 'name': 'ChatZhipuAI', 'data': {'chunk': AIMessageChunk(content='。')}}\n",
      "{'event': 'on_chat_model_stream', 'run_id': '72ae4f3e-31d7-429d-9cb4-72acedb28018', 'tags': [], 'metadata': {}, 'name': 'ChatZhipuAI', 'data': {'chunk': AIMessageChunk(content='')}}\n",
      "{'event': 'on_chat_model_end', 'name': 'ChatZhipuAI', 'run_id': '72ae4f3e-31d7-429d-9cb4-72acedb28018', 'tags': [], 'metadata': {}, 'data': {'output': AIMessageChunk(content='你好👋！我是人工智能助手智谱清言（ChatGLM），很高兴见到你，欢迎问我任何问题。')}}\n"
     ]
    }
   ],
   "source": [
    "async for chunk in llm.astream_events(\"hi\", version=\"v1\"):\n",
    "  print(chunk)"
   ]
  },
  {
   "cell_type": "code",
   "execution_count": 6,
   "metadata": {},
   "outputs": [],
   "source": [
    "tools = [\n",
    "    {\n",
    "        \"type\": \"function\",\n",
    "        \"function\": {\n",
    "            \"name\": \"query_train_info\",\n",
    "            \"description\": \"根据用户提供的信息，查询对应的车次\",\n",
    "            \"parameters\": {\n",
    "                \"type\": \"object\",\n",
    "                \"properties\": {\n",
    "                    \"departure\": {\n",
    "                        \"type\": \"string\",\n",
    "                        \"description\": \"出发城市或车站\",\n",
    "                    },\n",
    "                    \"destination\": {\n",
    "                        \"type\": \"string\",\n",
    "                        \"description\": \"目的地城市或车站\",\n",
    "                    },\n",
    "                    \"date\": {\n",
    "                        \"type\": \"string\",\n",
    "                        \"description\": \"要查询的车次日期\",\n",
    "                    },\n",
    "                },\n",
    "                \"required\": [\"departure\", \"destination\", \"date\"],\n",
    "            },\n",
    "        }\n",
    "    }\n",
    "]"
   ]
  },
  {
   "cell_type": "code",
   "execution_count": 7,
   "metadata": {},
   "outputs": [],
   "source": [
    "llm = ChatZhipuAI().bind(tools=tools)"
   ]
  },
  {
   "cell_type": "code",
   "execution_count": 8,
   "metadata": {},
   "outputs": [
    {
     "data": {
      "text/plain": [
       "RunnableBinding(bound=ChatZhipuAI(client=<zhipuai._client.ZhipuAI object at 0x110ca1820>), kwargs={'tools': [{'type': 'function', 'function': {'name': 'query_train_info', 'description': '根据用户提供的信息，查询对应的车次', 'parameters': {'type': 'object', 'properties': {'departure': {'type': 'string', 'description': '出发城市或车站'}, 'destination': {'type': 'string', 'description': '目的地城市或车站'}, 'date': {'type': 'string', 'description': '要查询的车次日期'}}, 'required': ['departure', 'destination', 'date']}}}]})"
      ]
     },
     "execution_count": 8,
     "metadata": {},
     "output_type": "execute_result"
    }
   ],
   "source": [
    "llm"
   ]
  },
  {
   "cell_type": "code",
   "execution_count": 9,
   "metadata": {},
   "outputs": [
    {
     "data": {
      "text/plain": [
       "AIMessage(content='一只羊说：“我每天都比一只狼跑得快，因为我比它更会绕圈子。”')"
      ]
     },
     "execution_count": 9,
     "metadata": {},
     "output_type": "execute_result"
    }
   ],
   "source": [
    "llm.invoke(\"给我讲个一句话笑话\")"
   ]
  },
  {
   "cell_type": "code",
   "execution_count": 10,
   "metadata": {},
   "outputs": [
    {
     "data": {
      "text/plain": [
       "AIMessage(content='', additional_kwargs={'tool_calls': [{'id': 'call_8415022186389879829', 'function': {'arguments': '{\"date\":\"2024-01-01\",\"departure\":\"北京南站\",\"destination\":\"上海\"}', 'name': 'query_train_info'}, 'type': 'function'}]})"
      ]
     },
     "execution_count": 10,
     "metadata": {},
     "output_type": "execute_result"
    }
   ],
   "source": [
    "llm.invoke(\"你能帮我查询2024年1月1日从北京南站到上海的火车票吗？\")"
   ]
  },
  {
   "cell_type": "code",
   "execution_count": null,
   "metadata": {},
   "outputs": [
    {
     "name": "stdout",
     "output_type": "stream",
     "text": [
      "content='' additional_kwargs={'tool_calls': [{'index': 0, 'id': 'call_8367745969533447732', 'function': {'arguments': '{\"date\":\"2024-01-01\",\"departure\":\"北京南站\",\"destination\":\"上海\"}', 'name': 'query_train_info'}, 'type': 'function'}]}\n",
      "content=''\n"
     ]
    }
   ],
   "source": [
    "for chunk in llm.stream(\"你能帮我查询2024年1月1日从北京南站到上海的火车票吗？\"):\n",
    "  print(chunk)"
   ]
  },
  {
   "cell_type": "code",
   "execution_count": null,
   "metadata": {},
   "outputs": [
    {
     "data": {
      "text/plain": [
       "AIMessage(content='根据提供的信息，贾玲的最新作品是《热辣滚烫》，这部电影在春节档期上映，并且取得了相当的成功，票房超过23.6亿元，豆瓣评分达到了8.0分，是当时春节档期评分最高的电影。贾玲不仅是该片的导演，也通过该片获得了观众和市场的广泛认可。\\n\\n此外，贾玲还透露了她的下一部作品的一些信息。她的新片名为《转念花开》（又名《光明之战》），是一部关于反传销题材的电影。这部电影已经备案，并且贾玲表示已经拍摄了一部分，剩下的一部分还在拍摄计划中。贾玲还提到，她已经邀请杨紫参与新片的演出，这增加了观众对这部电影的期待。')"
      ]
     },
     "execution_count": 16,
     "metadata": {},
     "output_type": "execute_result"
    }
   ],
   "source": [
    "llm = ChatZhipuAI()\n",
    "llm.invoke(\"贾玲最新的作品是什么？\")"
   ]
  },
  {
   "cell_type": "code",
   "execution_count": null,
   "metadata": {},
   "outputs": [
    {
     "data": {
      "text/plain": [
       "AIMessage(content='贾玲是中国内地的著名女演员、喜剧演员和制片人，她有许多知名的作品。其中，贾玲最著名的作品之一是《欢乐喜剧人》。这是一档喜剧竞技类节目，贾玲作为固定成员和队长，带领团队在节目中表演了许多精彩的喜剧作品，深受观众喜爱。通过这个节目，贾玲展示了自己出色的喜剧表演才华，赢得了广泛的赞誉和人气。')"
      ]
     },
     "execution_count": 28,
     "metadata": {},
     "output_type": "execute_result"
    }
   ],
   "source": [
    "tools = [\n",
    "    {\n",
    "        \"type\": \"web_search\",\n",
    "        \"web_search\": {\n",
    "            \"search_query\": \"贾玲演过的相声\"\n",
    "        }\n",
    "    }\n",
    "]\n",
    "llm = ChatZhipuAI().bind(tools=tools)\n",
    "llm.invoke(\"列举一个贾玲的作品\")"
   ]
  },
  {
   "cell_type": "code",
   "execution_count": null,
   "metadata": {},
   "outputs": [
    {
     "data": {
      "text/plain": [
       "AIMessage(content='很抱歉，您没有提供具体的背景信息或者说明，所以我无法直接指出贾玲的作品。贾玲是中国的一位著名女喜剧演员、导演和制片人。如果您能提供更多的上下文或细节，比如关于某个特定节目、事件或者作品的信息，我将能够更好地帮助您找出贾玲的相关作品。例如，贾玲因参与《欢乐喜剧人》等节目以及导演和参与电影《你好，李焕英》而广受欢迎。提供更多细节后，我可以为您提供更精确的答案。')"
      ]
     },
     "execution_count": 30,
     "metadata": {},
     "output_type": "execute_result"
    }
   ],
   "source": [
    "tools = [\n",
    "    {\n",
    "        \"type\": \"web_search\",\n",
    "        \"web_search\": {\n",
    "            \"search_query\": \"贾玲演过的电影\"\n",
    "        }\n",
    "    }\n",
    "]\n",
    "llm = ChatZhipuAI().bind(tools=tools)\n",
    "llm.invoke(\"从背景信息中找出贾玲的作品\")"
   ]
  },
  {
   "cell_type": "code",
   "execution_count": null,
   "metadata": {},
   "outputs": [],
   "source": []
  }
 ],
 "metadata": {
  "kernelspec": {
   "display_name": "langchain-chinese-gSQlHcwW-py3.9",
   "language": "python",
   "name": "python3"
  },
  "language_info": {
   "codemirror_mode": {
    "name": "ipython",
    "version": 3
   },
   "file_extension": ".py",
   "mimetype": "text/x-python",
   "name": "python",
   "nbconvert_exporter": "python",
   "pygments_lexer": "ipython3",
   "version": "3.9.18"
  }
 },
 "nbformat": 4,
 "nbformat_minor": 2
}
