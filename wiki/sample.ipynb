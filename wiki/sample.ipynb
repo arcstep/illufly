{
 "cells": [
  {
   "cell_type": "markdown",
   "id": "6652a443-c5ef-4607-86bd-07e2dd7c0ebd",
   "metadata": {},
   "source": [
    "# Sample"
   ]
  },
  {
   "cell_type": "code",
   "execution_count": 1,
   "id": "66b2fe02-17e7-4f00-a559-1e901b2e1b45",
   "metadata": {},
   "outputs": [],
   "source": [
    "from illufly.chat import ChatQwen"
   ]
  },
  {
   "cell_type": "code",
   "execution_count": 2,
   "id": "2857c41e-e4d5-4cef-9ab0-9d8371fb707d",
   "metadata": {},
   "outputs": [
    {
     "name": "stdout",
     "output_type": "stream",
     "text": [
      "\u001b[32m一\u001b[0m\u001b[32m\u001b[0m\n",
      "\n"
     ]
    },
    {
     "data": {
      "text/plain": [
       "'一'"
      ]
     },
     "execution_count": 2,
     "metadata": {},
     "output_type": "execute_result"
    }
   ],
   "source": [
    "ChatQwen()(\"告诉我一个汉字\")"
   ]
  },
  {
   "cell_type": "code",
   "execution_count": null,
   "id": "d5b2752d-425a-44ea-bf06-a0faeb156d71",
   "metadata": {},
   "outputs": [],
   "source": []
  }
 ],
 "metadata": {
  "kernelspec": {
   "display_name": "textlong-same-ipykernel",
   "language": "python",
   "name": "textlong-same-ipykernel"
  },
  "language_info": {
   "codemirror_mode": {
    "name": "ipython",
    "version": 3
   },
   "file_extension": ".py",
   "mimetype": "text/x-python",
   "name": "python",
   "nbconvert_exporter": "python",
   "pygments_lexer": "ipython3",
   "version": "3.10.0"
  }
 },
 "nbformat": 4,
 "nbformat_minor": 5
}
