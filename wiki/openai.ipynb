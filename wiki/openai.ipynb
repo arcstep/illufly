{
 "cells": [
  {
   "cell_type": "markdown",
   "id": "a6ae435b-7456-49ab-9e52-792c6752ec69",
   "metadata": {},
   "source": [
    "## OpenAI 对话模型\n",
    "\n",
    "### 直接访问 OpenAI"
   ]
  },
  {
   "cell_type": "code",
   "execution_count": 4,
   "id": "a634ea8d-9c6f-4b10-b12e-6d478c66a220",
   "metadata": {},
   "outputs": [
    {
     "name": "stdout",
     "output_type": "stream",
     "text": [
      "\u001b[32m小\u001b[0m\u001b[32m兔\u001b[0m\u001b[32m子\u001b[0m\u001b[32m做\u001b[0m\u001b[32m梦\u001b[0m\u001b[32m变\u001b[0m\u001b[32m成\u001b[0m\u001b[32m了\u001b[0m\u001b[32m王\u001b[0m\u001b[32m子\u001b[0m\u001b[32m\n",
      "\u001b[0m\u001b[32m穿\u001b[0m\u001b[32m着\u001b[0m\u001b[32m金\u001b[0m\u001b[32m色\u001b[0m\u001b[32m的\u001b[0m\u001b[32m外\u001b[0m\u001b[32m衣\u001b[0m\u001b[32m在\u001b[0m\u001b[32m花\u001b[0m\u001b[32m丛\u001b[0m\u001b[32m中\u001b[0m\u001b[32m跳\u001b[0m\u001b[32m跃\u001b[0m\u001b[32m\n",
      "\u001b[0m\u001b[32m梦\u001b[0m\u001b[32m中\u001b[0m\u001b[32m的\u001b[0m\u001b[32m世\u001b[0m\u001b[32m界\u001b[0m\u001b[32m真\u001b[0m\u001b[32m是\u001b[0m\u001b[32m美\u001b[0m\u001b[32m妙\u001b[0m\u001b[32m无\u001b[0m\u001b[32m比\u001b[0m\u001b[32m\n",
      "\u001b[0m\u001b[32m可\u001b[0m\u001b[32m惜\u001b[0m\u001b[32m醒\u001b[0m\u001b[32m来\u001b[0m\u001b[32m依\u001b[0m\u001b[32m旧\u001b[0m\u001b[32m是\u001b[0m\u001b[32m一\u001b[0m\u001b[32m只\u001b[0m\u001b[32m可\u001b[0m\u001b[32m爱\u001b[0m\u001b[32m的\u001b[0m\u001b[32m兔\u001b[0m\u001b[32m子\u001b[0m\n",
      "[USAGE] \u001b[34m{\"prompt_tokens\": 35, \"completion_tokens\": 75, \"total_tokens\": 110}\u001b[0m\n"
     ]
    },
    {
     "data": {
      "text/plain": [
       "'小兔子做梦变成了王子\\n穿着金色的外衣在花丛中跳跃\\n梦中的世界真是美妙无比\\n可惜醒来依旧是一只可爱的兔子'"
      ]
     },
     "execution_count": 4,
     "metadata": {},
     "output_type": "execute_result"
    }
   ],
   "source": [
    "from illufly.chat import ChatOpenAI\n",
    "\n",
    "a = ChatOpenAI()\n",
    "a(\"你能帮我写一首关于兔子做梦的四句儿歌?\", verbose=True)"
   ]
  },
  {
   "cell_type": "markdown",
   "id": "8ef48ec7-b765-4132-8496-673a9fcecb05",
   "metadata": {},
   "source": [
    "### 工具回调"
   ]
  },
  {
   "cell_type": "code",
   "execution_count": 9,
   "id": "90515d17-641c-4cfc-8e70-d6050392fc98",
   "metadata": {},
   "outputs": [
    {
     "name": "stdout",
     "output_type": "stream",
     "text": [
      "\n",
      "\n",
      "\u001b[32mGuangzhou今天是晴天。 \u001b[0m\n",
      "\u001b[32m今\u001b[0m\u001b[32m天\u001b[0m\u001b[32m广\u001b[0m\u001b[32m州\u001b[0m\u001b[32m是\u001b[0m\u001b[32m晴\u001b[0m\u001b[32m天\u001b[0m\u001b[32m，\u001b[0m\u001b[32m出\u001b[0m\u001b[32m门\u001b[0m\u001b[32m建\u001b[0m\u001b[32m议\u001b[0m\u001b[32m携\u001b[0m\u001b[32m带\u001b[0m\u001b[32m太\u001b[0m\u001b[32m阳\u001b[0m\u001b[32m镜\u001b[0m\u001b[32m、\u001b[0m\u001b[32m防\u001b[0m\u001b[32m晒\u001b[0m\u001b[32m霜\u001b[0m\u001b[32m，\u001b[0m\u001b[32m注意\u001b[0m\u001b[32m防\u001b[0m\u001b[32m晒\u001b[0m\u001b[32m。\u001b[0m\n"
     ]
    },
    {
     "data": {
      "text/plain": [
       "'今天广州是晴天，出门建议携带太阳镜、防晒霜，注意防晒。'"
      ]
     },
     "execution_count": 9,
     "metadata": {},
     "output_type": "execute_result"
    }
   ],
   "source": [
    "from illufly.chat import ChatOpenAI\n",
    "\n",
    "def get_current_weather(location: str):\n",
    "    \"\"\"获取城市的天气情况\"\"\"\n",
    "    return f\"{location}今天是晴天。 \"\n",
    "    \n",
    "a = ChatOpenAI(tools=[get_current_weather])\n",
    "a(\"今天广州出门要准备什么\")"
   ]
  },
  {
   "cell_type": "markdown",
   "id": "e1bdaf82-df84-4c20-b148-877ebe8ae337",
   "metadata": {},
   "source": [
    "## OpenAI 兼容接口\n",
    "\n",
    "你可以使用 imitator 参数来获取 OpenAI 兼容接口的环境变量。默认情况下：\n",
    "\n",
    "    imitator=\"OPENAI\"。\n",
    "\n",
    "这要求 ChatOpenAI 自动从环境变量中寻找 OPENAI_API_KEY 和 OPENAI_BASE_URL 这样的环境变量。\n",
    "\n",
    "只需要修改 imitator 参数， 你就可以让 ChatOpenAI 寻找名为 {imitator}_API_KEY 和 {imitator}_BASE_URL 的环境变量，用于指定 api_key 和 base_url 的参数。\n",
    "\n",
    "在 .env 中配置如下内容：\n",
    "\n",
    "    QWEN_API_KEY=sk-x8d*********************dsw\n",
    "    QWEN_BASE_URL=https://dashscope.aliyuncs.com/compatible-mode/v1\n",
    "\n",
    "然后在声明 ChatOpenAI 实例时设置：\n",
    "\n",
    "    imitator=\"QWEN\"。"
   ]
  },
  {
   "cell_type": "code",
   "execution_count": 6,
   "id": "cb10b68f-c65e-409e-95d0-b46710a7db2b",
   "metadata": {},
   "outputs": [
    {
     "name": "stdout",
     "output_type": "stream",
     "text": [
      "\u001b[32m小兔子\u001b[0m\u001b[32m乖乖\u001b[0m\u001b[32m，\u001b[0m\u001b[32m梦中跳舞转\u001b[0m\u001b[32m圈圈，\n",
      "\n",
      "胡萝卜\u001b[0m\u001b[32m作伴，甜蜜\u001b[0m\u001b[32m梦境乐翻天\u001b[0m\u001b[32m。 \n",
      "\n",
      "（注\u001b[0m\u001b[32m：这是一首\u001b[0m\u001b[32m简短的儿\u001b[0m\u001b[32m歌，希望可以\u001b[0m\u001b[32m满足您的需求。\u001b[0m\u001b[32m）\u001b[0m\n"
     ]
    },
    {
     "data": {
      "text/plain": [
       "'小兔子乖乖，梦中跳舞转圈圈，\\n\\n胡萝卜作伴，甜蜜梦境乐翻天。 \\n\\n（注：这是一首简短的儿歌，希望可以满足您的需求。）'"
      ]
     },
     "execution_count": 6,
     "metadata": {},
     "output_type": "execute_result"
    }
   ],
   "source": [
    "from illufly.chat import ChatOpenAI\n",
    "\n",
    "qwen = ChatOpenAI(imitator=\"QWEN\", model='qwen-plus')\n",
    "qwen(\"你能帮我写一首关于兔子做梦的四句儿歌?\")"
   ]
  },
  {
   "cell_type": "markdown",
   "id": "acdc6987-f129-4ef1-bf40-40623cae8fb0",
   "metadata": {},
   "source": [
    "### 使用 ModelScope 和 Ollama\n",
    "\n",
    "在 ModelScope 上，将模型一键部署到至云资源上，通常会提供 OpenAI 兼容的模型调用接口。<br>\n",
    "我们从部署结果中拷贝 base_url 和 api_key 到环境变量中，就可以用上述 imitator 方式管理这个新的模型。\n",
    "\n",
    "下面以 [Qwen2-7B-Instruct-GGUF](https://www.modelscope.cn/models/Qwen/Qwen2-7B-Instruct-GGUF) 模型为例：\n",
    "\n",
    "    QWEN2_7B_MODEL_ID=\"qwen/Qwen2-7B-Instruct-GGUF\"\n",
    "    QWEN2_7B_BASE_URL=\"https://ms-fc-***********.run/v1\"\n",
    "    QWEN2_7B_API_KEY=\"ollama\"\n",
    "\n",
    "联通 QWEN2_7B_MODEL_ID 一起设置，就免除了在 ChatOpenAI 中设置 model 参数。"
   ]
  },
  {
   "cell_type": "code",
   "execution_count": 7,
   "id": "9ce0a060-196c-4ddc-a7c8-004a8b8b561b",
   "metadata": {},
   "outputs": [
    {
     "name": "stdout",
     "output_type": "stream",
     "text": [
      "\u001b[32m当然\u001b[0m\u001b[32m可以\u001b[0m\u001b[32m，\u001b[0m\u001b[32m下面\u001b[0m\u001b[32m是一\u001b[0m\u001b[32m首\u001b[0m\u001b[32m以\u001b[0m\u001b[32m兔子\u001b[0m\u001b[32m做梦\u001b[0m\u001b[32m为主题的\u001b[0m\u001b[32m四\u001b[0m\u001b[32m句\u001b[0m\u001b[32m儿\u001b[0m\u001b[32m歌\u001b[0m\u001b[32m：\n",
      "\n",
      "\u001b[0m\u001b[32m月\u001b[0m\u001b[32m光\u001b[0m\u001b[32m洒\u001b[0m\u001b[32m满\u001b[0m\u001b[32m草\u001b[0m\u001b[32m丛\u001b[0m\u001b[32m间\u001b[0m\u001b[32m，\n",
      "\u001b[0m\u001b[32m兔子\u001b[0m\u001b[32m入\u001b[0m\u001b[32m梦\u001b[0m\u001b[32m笑\u001b[0m\u001b[32m翻\u001b[0m\u001b[32m天\u001b[0m\u001b[32m。\n",
      "\u001b[0m\u001b[32m追逐\u001b[0m\u001b[32m彩虹\u001b[0m\u001b[32m吃\u001b[0m\u001b[32m花瓣\u001b[0m\u001b[32m，\n",
      "\u001b[0m\u001b[32m梦\u001b[0m\u001b[32m里\u001b[0m\u001b[32m世界\u001b[0m\u001b[32m春\u001b[0m\u001b[32m常\u001b[0m\u001b[32m在\u001b[0m\u001b[32m。\n",
      "\n",
      "\u001b[0m\u001b[32m希望\u001b[0m\u001b[32m这首\u001b[0m\u001b[32m儿\u001b[0m\u001b[32m歌唱\u001b[0m\u001b[32m出了\u001b[0m\u001b[32m兔子\u001b[0m\u001b[32m充满\u001b[0m\u001b[32m想象\u001b[0m\u001b[32m和\u001b[0m\u001b[32m欢乐\u001b[0m\u001b[32m的\u001b[0m\u001b[32m梦幻\u001b[0m\u001b[32m之旅\u001b[0m\u001b[32m，\u001b[0m\u001b[32m为\u001b[0m\u001b[32m孩子们\u001b[0m\u001b[32m带\u001b[0m\u001b[32m去\u001b[0m\u001b[32m温馨\u001b[0m\u001b[32m与\u001b[0m\u001b[32m快乐\u001b[0m\u001b[32m。\u001b[0m\n"
     ]
    },
    {
     "data": {
      "text/plain": [
       "'当然可以，下面是一首以兔子做梦为主题的四句儿歌：\\n\\n月光洒满草丛间，\\n兔子入梦笑翻天。\\n追逐彩虹吃花瓣，\\n梦里世界春常在。\\n\\n希望这首儿歌唱出了兔子充满想象和欢乐的梦幻之旅，为孩子们带去温馨与快乐。'"
      ]
     },
     "execution_count": 7,
     "metadata": {},
     "output_type": "execute_result"
    }
   ],
   "source": [
    "from illufly.chat import ChatOpenAI\n",
    "\n",
    "qwen2 = ChatOpenAI(imitator=\"QWEN2_7B\")\n",
    "qwen2(\"你能帮我写一首关于兔子做梦的四句儿歌?\")"
   ]
  },
  {
   "cell_type": "markdown",
   "id": "aaa2044b-cf2c-4b5b-8189-62536f81098d",
   "metadata": {},
   "source": [
    "**⚠️ 注意：** 如果你使用阿里云的函数计算功能，在2-3分钟内没有连续调用后可能会进入冷冻期，需要多等待大约30秒的解冻服务。"
   ]
  },
  {
   "cell_type": "markdown",
   "id": "59147398-6d48-489f-a1dc-0696777dfc2b",
   "metadata": {},
   "source": [
    "### Ollama 兼容 OpenAI 接口时也支持工具回调"
   ]
  },
  {
   "cell_type": "code",
   "execution_count": 10,
   "id": "d4f72881-8b58-4937-b7d5-2859c8bd1393",
   "metadata": {},
   "outputs": [
    {
     "name": "stdout",
     "output_type": "stream",
     "text": [
      "\u001b[32m<tool\u001b[0m\u001b[32m_call\u001b[0m\u001b[32m>\n",
      "\u001b[0m\u001b[32m{\"\u001b[0m\u001b[32mname\u001b[0m\u001b[32m\":\u001b[0m\u001b[32m \"\u001b[0m\u001b[32mget\u001b[0m\u001b[32m_current\u001b[0m\u001b[32m_weather\u001b[0m\u001b[32m\",\u001b[0m\u001b[32m \"\u001b[0m\u001b[32marguments\u001b[0m\u001b[32m\":\u001b[0m\u001b[32m {\"\u001b[0m\u001b[32mlocation\u001b[0m\u001b[32m\":\u001b[0m\u001b[32m \"\u001b[0m\u001b[32m广州\u001b[0m\u001b[32m\"}}\n",
      "\u001b[0m\u001b[32m</\u001b[0m\u001b[32mtool\u001b[0m\u001b[32m_call\u001b[0m\u001b[32m>\u001b[0m\n",
      "\u001b[32m广州今天是晴天。 \u001b[0m\n",
      "\u001b[32m根据\u001b[0m\u001b[32m天气\u001b[0m\u001b[32m信息\u001b[0m\u001b[32m，\u001b[0m\u001b[32m广州\u001b[0m\u001b[32m今天\u001b[0m\u001b[32m是\u001b[0m\u001b[32m晴\u001b[0m\u001b[32m天\u001b[0m\u001b[32m。\u001b[0m\u001b[32m你\u001b[0m\u001b[32m出门\u001b[0m\u001b[32m可能\u001b[0m\u001b[32m不需要\u001b[0m\u001b[32m携带\u001b[0m\u001b[32m雨\u001b[0m\u001b[32m具\u001b[0m\u001b[32m，\u001b[0m\u001b[32m但\u001b[0m\u001b[32m请\u001b[0m\u001b[32m记得\u001b[0m\u001b[32m带上\u001b[0m\u001b[32m太阳\u001b[0m\u001b[32m帽\u001b[0m\u001b[32m或\u001b[0m\u001b[32m使用\u001b[0m\u001b[32m防晒\u001b[0m\u001b[32m霜\u001b[0m\u001b[32m保护\u001b[0m\u001b[32m皮肤\u001b[0m\u001b[32m。\u001b[0m\u001b[32m记得\u001b[0m\u001b[32m补水\u001b[0m\u001b[32m哦\u001b[0m\u001b[32m！\u001b[0m\u001b[32m如果有\u001b[0m\u001b[32m其他\u001b[0m\u001b[32m问题\u001b[0m\u001b[32m或\u001b[0m\u001b[32m帮助\u001b[0m\u001b[32m需要\u001b[0m\u001b[32m，请\u001b[0m\u001b[32m随时\u001b[0m\u001b[32m询问\u001b[0m\u001b[32m。\u001b[0m\n"
     ]
    },
    {
     "data": {
      "text/plain": [
       "'根据天气信息，广州今天是晴天。你出门可能不需要携带雨具，但请记得带上太阳帽或使用防晒霜保护皮肤。记得补水哦！如果有其他问题或帮助需要，请随时询问。'"
      ]
     },
     "execution_count": 10,
     "metadata": {},
     "output_type": "execute_result"
    }
   ],
   "source": [
    "from illufly.chat import ChatOpenAI\n",
    "\n",
    "def get_current_weather(location: str):\n",
    "    \"\"\"获取城市的天气情况\"\"\"\n",
    "    return f\"{location}今天是晴天。 \"\n",
    "    \n",
    "qwen2 = ChatOpenAI(imitator=\"QWEN2_7B\", tools=[get_current_weather])\n",
    "qwen2(\"今天广州出门要准备什么\")"
   ]
  }
 ],
 "metadata": {
  "kernelspec": {
   "display_name": "textlong-same-ipykernel",
   "language": "python",
   "name": "textlong-same-ipykernel"
  },
  "language_info": {
   "codemirror_mode": {
    "name": "ipython",
    "version": 3
   },
   "file_extension": ".py",
   "mimetype": "text/x-python",
   "name": "python",
   "nbconvert_exporter": "python",
   "pygments_lexer": "ipython3",
   "version": "3.10.0"
  }
 },
 "nbformat": 4,
 "nbformat_minor": 5
}
