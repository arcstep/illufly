{
 "cells": [
  {
   "cell_type": "markdown",
   "id": "ea9f9ce0-a78d-4ba4-8a6a-406d789d4745",
   "metadata": {},
   "source": [
    "## 在 python 中使用环境变量"
   ]
  },
  {
   "cell_type": "markdown",
   "id": "821bec9d-443a-40b4-93c6-08d97ec10fa6",
   "metadata": {},
   "source": [
    "你可能需要先安装 `python-dotenv` 包：\n",
    "\n",
    "```bash\n",
    "pip install python-dotenv\n",
    "```\n",
    "\n",
    "然后在 Python 代码中，使用以下代码片段来加载`.env`文件中的环境变量：\n",
    "\n",
    "```python\n",
    "from dotenv import load_dotenv, find_dotenv\n",
    "load_dotenv(find_dotenv(), override=True)\n",
    "```"
   ]
  },
  {
   "cell_type": "markdown",
   "id": "a438b4f4-24f1-4c16-81e0-97336c687bbb",
   "metadata": {},
   "source": [
    "## illufly 环境变量默认值字典"
   ]
  },
  {
   "cell_type": "code",
   "execution_count": 3,
   "id": "68cc5f84-c003-402f-ae7f-a3be513259bd",
   "metadata": {},
   "outputs": [
    {
     "data": {
      "text/plain": [
       "{'ILLUFLY_DOCS': '__DOCS__',\n",
       " 'ILLUFLY_MEDIA': './',\n",
       " 'ILLUFLY_LOCAL_FILE_MEMORY': '/var/folders/f5/rlf27f4n6wzc_k4x7y4vzm5h0000gn/T/__ILLUFLY__/LOCAL_FILE_MEMORY',\n",
       " 'ILLUFLY_CHART_LEARN': '/var/folders/f5/rlf27f4n6wzc_k4x7y4vzm5h0000gn/T/__ILLUFLY__/CHART_LEARN',\n",
       " 'ILLUFLY_IDENT': '/var/folders/f5/rlf27f4n6wzc_k4x7y4vzm5h0000gn/T/__ILLUFLY__/IDENT',\n",
       " 'ILLUFLY_CACHE_EMBEDDINGS': '/var/folders/f5/rlf27f4n6wzc_k4x7y4vzm5h0000gn/T/__ILLUFLY__/CACHE_EMBEDDINGS',\n",
       " 'ILLUFLY_UPLOAD_CACHE_DIR': '/var/folders/f5/rlf27f4n6wzc_k4x7y4vzm5h0000gn/T/__ILLUFLY__/UPLOAD_CACHE',\n",
       " 'ILLUFLY_PROMPT_TEMPLATE_LOCAL_FOLDER': '__PROMPTS__',\n",
       " 'ILLUFLY_FINAL_ANSWER_PROMPT': '**最终答案**',\n",
       " 'ILLUFLY_AIGC_INFO_DECLARE': '内容由AI生成，其观点仅代表创作者个人立场',\n",
       " 'ILLUFLY_AIGC_INFO_CHK': '可联系服务商查验校验码',\n",
       " 'ILLUFLY_OUTLINE_START': '<OUTLINE>',\n",
       " 'ILLUFLY_OUTLINE_END': '</OUTLINE>',\n",
       " 'ILLUFLY_COLOR_DEFAULT': '黑色',\n",
       " 'ILLUFLY_COLOR_INFO': '蓝色',\n",
       " 'ILLUFLY_COLOR_TEXT': '黄色',\n",
       " 'ILLUFLY_COLOR_WARN': '红色',\n",
       " 'ILLUFLY_COLOR_CHUNK': '绿色',\n",
       " 'ILLUFLY_COLOR_FINAL': '青色',\n",
       " 'ILLUFLY_COLOR_FRONT_MATTER': '品红',\n",
       " 'HTTP_CHECK_RESULT_SECONDS': 2,\n",
       " 'DASHSCOPE_BASE_URL': 'https://dashscope.aliyuncs.com/api/v1'}"
      ]
     },
     "execution_count": 3,
     "metadata": {},
     "output_type": "execute_result"
    }
   ],
   "source": [
    "from illufly.config import get_env\n",
    "get_env()"
   ]
  },
  {
   "cell_type": "code",
   "execution_count": 2,
   "id": "a414e3d3-282e-46ba-ae2b-2b6a14d2d3cf",
   "metadata": {},
   "outputs": [
    {
     "data": {
      "text/plain": [
       "'__DOCS__'"
      ]
     },
     "execution_count": 2,
     "metadata": {},
     "output_type": "execute_result"
    }
   ],
   "source": [
    "get_env(\"ILLUFLY_DOCS\")"
   ]
  },
  {
   "cell_type": "markdown",
   "id": "52a7703d-45df-4d59-846c-7bdd0333aa3a",
   "metadata": {},
   "source": [
    "**重要的本地文件夹配置：**"
   ]
  },
  {
   "cell_type": "code",
   "execution_count": 3,
   "id": "92c1846e-7395-48e1-9b67-383808b219f5",
   "metadata": {},
   "outputs": [],
   "source": [
    "default_env = {\n",
    "    # 保存 RAG 资料的默认位置\n",
    "    \"ILLUFLY_DOCS\": \"__DOCS__\",\n",
    "\n",
    "    # 保存提示语模板的默认位置\n",
    "    \"ILLUFLY_PROMPT_TEMPLATE_LOCAL_FOLDER\": \"__PROMPTS__\",\n",
    "\n",
    "    # 保存向量模型编码结果的默认缓存位置\n",
    "    \"ILLUFLY_CACHE_EMBEDDINGS\": \"__CACHE_EMBEDDINGS__\",\n",
    "\n",
    "    # 多模态模型需要上传到云资源时的本地缓存默认位置\n",
    "    \"ILLUFLY_UPLOAD_CACHE_DIR\": \"__UPLOAD_CACHE__\",\n",
    "}"
   ]
  },
  {
   "cell_type": "markdown",
   "id": "e3540030-2865-4402-b94c-e084c526d3e3",
   "metadata": {},
   "source": [
    "## 修改环境变量"
   ]
  },
  {
   "cell_type": "code",
   "execution_count": 4,
   "id": "90350628-3a0c-4fa5-9240-1d9be19d78f3",
   "metadata": {},
   "outputs": [
    {
     "data": {
      "text/plain": [
       "'__DOCS__'"
      ]
     },
     "execution_count": 4,
     "metadata": {},
     "output_type": "execute_result"
    }
   ],
   "source": [
    "from illufly.config import get_env\n",
    "import os\n",
    "\n",
    "get_env(\"ILLUFLY_DOCS\")"
   ]
  },
  {
   "cell_type": "code",
   "execution_count": 2,
   "id": "f8de8e3f-6303-427c-ab20-0ec143f48284",
   "metadata": {},
   "outputs": [
    {
     "data": {
      "text/plain": [
       "'/usr/home/docs'"
      ]
     },
     "execution_count": 2,
     "metadata": {},
     "output_type": "execute_result"
    }
   ],
   "source": [
    "os.environ['ILLUFLY_DOCS'] = '/usr/home/docs'\n",
    "get_env(\"ILLUFLY_DOCS\")"
   ]
  },
  {
   "cell_type": "markdown",
   "id": "c2487910-f6cd-4886-ac70-40c0eab512ba",
   "metadata": {},
   "source": [
    "## 需要使用环境变量的类"
   ]
  },
  {
   "cell_type": "markdown",
   "id": "90adbcaf-8a3a-4e1f-b72d-dc8a2f2815a9",
   "metadata": {},
   "source": [
    "### 提示语模板"
   ]
  },
  {
   "cell_type": "markdown",
   "id": "295c6aea-36aa-4fa9-a89a-cbea1b17b2d6",
   "metadata": {},
   "source": [
    "### 文档检索"
   ]
  },
  {
   "cell_type": "markdown",
   "id": "6a9be8c5-03e9-4098-881e-abdfb6d4a446",
   "metadata": {},
   "source": [
    "### 向量模型"
   ]
  },
  {
   "cell_type": "markdown",
   "id": "f374b183-9d51-4345-8251-1369bf53d919",
   "metadata": {},
   "source": [
    "### 多模态模型"
   ]
  },
  {
   "cell_type": "code",
   "execution_count": null,
   "id": "e992c6b0-3b5c-48dc-9851-e704e8c4dab1",
   "metadata": {},
   "outputs": [],
   "source": []
  }
 ],
 "metadata": {
  "kernelspec": {
   "display_name": "textlong-same-ipykernel",
   "language": "python",
   "name": "textlong-same-ipykernel"
  },
  "language_info": {
   "codemirror_mode": {
    "name": "ipython",
    "version": 3
   },
   "file_extension": ".py",
   "mimetype": "text/x-python",
   "name": "python",
   "nbconvert_exporter": "python",
   "pygments_lexer": "ipython3",
   "version": "3.10.0"
  }
 },
 "nbformat": 4,
 "nbformat_minor": 5
}
