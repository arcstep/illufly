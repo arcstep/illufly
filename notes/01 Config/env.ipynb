{
 "cells": [
  {
   "cell_type": "markdown",
   "id": "ea9f9ce0-a78d-4ba4-8a6a-406d789d4745",
   "metadata": {},
   "source": [
    "## 在 python 中使用环境变量"
   ]
  },
  {
   "cell_type": "markdown",
   "id": "821bec9d-443a-40b4-93c6-08d97ec10fa6",
   "metadata": {},
   "source": [
    "你可能需要先安装 `python-dotenv` 包：\n",
    "\n",
    "```bash\n",
    "pip install python-dotenv\n",
    "```\n",
    "\n",
    "然后在 Python 代码中，使用以下代码片段来加载`.env`文件中的环境变量：\n",
    "\n",
    "```python\n",
    "from dotenv import load_dotenv, find_dotenv\n",
    "load_dotenv(find_dotenv(), override=True)\n",
    "```"
   ]
  },
  {
   "cell_type": "markdown",
   "id": "a438b4f4-24f1-4c16-81e0-97336c687bbb",
   "metadata": {},
   "source": [
    "## illufly 环境变量默认值字典\n",
    "\n",
    "### 获取所有现有配置"
   ]
  },
  {
   "cell_type": "code",
   "execution_count": 1,
   "id": "68cc5f84-c003-402f-ae7f-a3be513259bd",
   "metadata": {},
   "outputs": [
    {
     "data": {
      "text/plain": [
       "{'ILLUFLY_DOCS': '__DOCS__',\n",
       " 'ILLUFLY_MEDIA': './',\n",
       " 'ILLUFLY_LOCAL_FILE_MEMORY': '/var/folders/f5/rlf27f4n6wzc_k4x7y4vzm5h0000gn/T/__ILLUFLY__/LOCAL_FILE_MEMORY',\n",
       " 'ILLUFLY_CHART_LEARN': '/var/folders/f5/rlf27f4n6wzc_k4x7y4vzm5h0000gn/T/__ILLUFLY__/CHART_LEARN',\n",
       " 'ILLUFLY_IDENT': '/var/folders/f5/rlf27f4n6wzc_k4x7y4vzm5h0000gn/T/__ILLUFLY__/IDENT',\n",
       " 'ILLUFLY_CACHE_EMBEDDINGS': '/var/folders/f5/rlf27f4n6wzc_k4x7y4vzm5h0000gn/T/__ILLUFLY__/CACHE_EMBEDDINGS',\n",
       " 'ILLUFLY_UPLOAD_CACHE': '/var/folders/f5/rlf27f4n6wzc_k4x7y4vzm5h0000gn/T/__ILLUFLY__/UPLOAD_CACHE',\n",
       " 'ILLUFLY_PROMPT_TEMPLATE_LOCAL_FOLDER': '__PROMPTS__',\n",
       " 'ILLUFLY_FINAL_ANSWER_PROMPT': '**最终答案**',\n",
       " 'ILLUFLY_AIGC_INFO_DECLARE': '内容由AI生成，其观点仅代表创作者个人立场',\n",
       " 'ILLUFLY_AIGC_INFO_CHK': '可联系服务商查验校验码',\n",
       " 'ILLUFLY_OUTLINE_START': '<OUTLINE>',\n",
       " 'ILLUFLY_OUTLINE_END': '</OUTLINE>',\n",
       " 'ILLUFLY_COLOR_DEFAULT': '黑色',\n",
       " 'ILLUFLY_COLOR_INFO': '蓝色',\n",
       " 'ILLUFLY_COLOR_TEXT': '黄色',\n",
       " 'ILLUFLY_COLOR_WARN': '红色',\n",
       " 'ILLUFLY_COLOR_CHUNK': '绿色',\n",
       " 'ILLUFLY_COLOR_FINAL': '青色',\n",
       " 'ILLUFLY_COLOR_FRONT_MATTER': '品红',\n",
       " 'HTTP_CHECK_RESULT_SECONDS': 2,\n",
       " 'DASHSCOPE_BASE_URL': 'https://dashscope.aliyuncs.com/api/v1'}"
      ]
     },
     "execution_count": 1,
     "metadata": {},
     "output_type": "execute_result"
    }
   ],
   "source": [
    "from illufly.config import get_env\n",
    "get_env()"
   ]
  },
  {
   "cell_type": "markdown",
   "id": "52a7703d-45df-4d59-846c-7bdd0333aa3a",
   "metadata": {},
   "source": [
    "**重要的环境变量配置：**\n",
    "\n",
    "|环境变量|默认值|说明|\n",
    "|:------|:-----|:-----|\n",
    "|ILLUFLY_DOCS|`__DOCS__`|从这个目录自动加载 RAG 资料|\n",
    "|ILLUFLY_MEDIA|`./`|根据这个媒体文件夹上传文件|\n",
    "|ILLUFLY_LOCAL_FILE_MEMORY|`临时目录/LOCAL_FILE_MEMORY`|LocalFileMemory 记忆存储目录|\n",
    "|ILLUFLY_CHART_LEARN|`临时目录/CHART_LEARN`|ChatLearn 自我进化经验的存储目录|\n",
    "|ILLUFLY_IDENT|`临时目录/IDENT`|问题转换、意图识别的经验存储目录|\n",
    "|ILLUFLY_CACHE_EMBEDDINGS|`临时目录/CACHE_EMBEDDINGS`|Embeddings 缓存目录|\n",
    "|ILLUFLY_UPLOAD_CACHE|`临时目录/UPLOAD_CACHE`|上传缓存目录|\n",
    "|ILLUFLY_PROMPT_TEMPLATE_LOCAL_FOLDER|`__PROMPTS__`|默认的本地Prompt模板目录|\n"
   ]
  },
  {
   "cell_type": "markdown",
   "id": "e3540030-2865-4402-b94c-e084c526d3e3",
   "metadata": {},
   "source": [
    "## 修改环境变量"
   ]
  },
  {
   "cell_type": "code",
   "execution_count": 2,
   "id": "90350628-3a0c-4fa5-9240-1d9be19d78f3",
   "metadata": {},
   "outputs": [
    {
     "data": {
      "text/plain": [
       "'__DOCS__'"
      ]
     },
     "execution_count": 2,
     "metadata": {},
     "output_type": "execute_result"
    }
   ],
   "source": [
    "from illufly.config import get_env\n",
    "import os\n",
    "\n",
    "get_env(\"ILLUFLY_DOCS\")"
   ]
  },
  {
   "cell_type": "code",
   "execution_count": 3,
   "id": "f8de8e3f-6303-427c-ab20-0ec143f48284",
   "metadata": {},
   "outputs": [
    {
     "data": {
      "text/plain": [
       "'/usr/home/docs'"
      ]
     },
     "execution_count": 3,
     "metadata": {},
     "output_type": "execute_result"
    }
   ],
   "source": [
    "os.environ['ILLUFLY_DOCS'] = '/usr/home/docs'\n",
    "get_env(\"ILLUFLY_DOCS\")"
   ]
  },
  {
   "cell_type": "code",
   "execution_count": null,
   "id": "e992c6b0-3b5c-48dc-9851-e704e8c4dab1",
   "metadata": {},
   "outputs": [],
   "source": []
  }
 ],
 "metadata": {
  "kernelspec": {
   "display_name": "textlong-same-ipykernel",
   "language": "python",
   "name": "textlong-same-ipykernel"
  },
  "language_info": {
   "codemirror_mode": {
    "name": "ipython",
    "version": 3
   },
   "file_extension": ".py",
   "mimetype": "text/x-python",
   "name": "python",
   "nbconvert_exporter": "python",
   "pygments_lexer": "ipython3",
   "version": "3.10.0"
  }
 },
 "nbformat": 4,
 "nbformat_minor": 5
}
