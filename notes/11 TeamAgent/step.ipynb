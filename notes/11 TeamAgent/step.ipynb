{
    "cells": [
        {
            "cell_type": "markdown",
            "id": "223a23b1-6c08-4d92-af8e-939a20b6abf4",
            "metadata": {},
            "source": [
                "## ReAct\n",
                "\n",
                "leader 负责推理，然后调用工具或结束，将「思考-行动-观察-反思」过程补充到提示语中。"
            ]
        },
        {
            "cell_type": "code",
            "execution_count": 1,
            "id": "f75643c1-69fa-4b11-92fc-6d5386517ba2",
            "metadata": {},
            "outputs": [
                {
                    "data": {
                        "text/plain": [
                            "{'members': '[{\"成员名字\": \"起名专家\", \"擅长能力\": \"擅长为孩子起名，其他不会。\"}, {\"成员名字\": \"写手\", \"擅长能力\": \"擅长写儿歌，其他不会。\"}, {\"成员名字\": \"数学专家\", \"擅长能力\": \"擅长解决明确的数学问题，即使是简单的数学问题也必须找我来解决。但时间安排等其他问题我不会。\"}]',\n",
                            " 'completed_teamwork': ''}"
                        ]
                    },
                    "execution_count": 1,
                    "metadata": {},
                    "output_type": "execute_result"
                }
            ],
            "source": [
                "from illufly.chat import StepByStep, ChatQwen, ChatOpenAI, ChatZhipu\n",
                "from illufly.types import PromptTemplate\n",
                "\n",
                "# leader = ChatZhipu(name=\"团队主管\", model=\"glm-4-plus\")\n",
                "leader = ChatQwen(name=\"芊芊\")\n",
                "naming = ChatZhipu(name=\"起名专家\", description=\"擅长为孩子起名，其他不会。\")\n",
                "writer = ChatZhipu(name=\"写手\", description=\"擅长写儿歌，其他不会。\")\n",
                "math = ChatQwen(\n",
                "    model='qwen-math-plus',\n",
                "    name=\"数学专家\",\n",
                "    description=\"擅长解决明确的数学问题，即使是简单的数学问题也必须找我来解决。但时间安排等其他问题我不会。\"\n",
                ")\n",
                "team = StepByStep(leader, members=[naming, writer, math])\n",
                "team.provider_dict"
            ]
        },
        {
            "cell_type": "markdown",
            "id": "ae93c6b5-8daf-4f06-ab8e-b29c549677ca",
            "metadata": {},
            "source": [
                "## ReWoo"
            ]
        },
        {
            "cell_type": "code",
            "execution_count": 1,
            "id": "10616e60-c413-413e-b8f0-08fa88efdb5a",
            "metadata": {},
            "outputs": [
                {
                    "name": "stdout",
                    "output_type": "stream",
                    "text": [
                        "\u001b[32mPlan:\u001b[0m\u001b[32m \u001b[0m\u001b[32m首先，使用\u001b[0m\u001b[32m命名工具为这个\u001b[0m\u001b[32m5岁的女孩起\u001b[0m\u001b[32m一个名字。\n",
                        "#\u001b[0m\u001b[32mE1 = naming\u001b[0m\u001b[32m({\"prompt\": \"\u001b[0m\u001b[32m我有一个5岁的\u001b[0m\u001b[32m女儿，请为她\u001b[0m\u001b[32m起一个中文名字\u001b[0m\u001b[32m。\"})\n",
                        "\n",
                        "Plan\u001b[0m\u001b[32m: 接下来\u001b[0m\u001b[32m，使用获取信息\u001b[0m\u001b[32m工具来收集关于\u001b[0m\u001b[32m这个女孩的具体特征\u001b[0m\u001b[32m数据。\n",
                        "#E\u001b[0m\u001b[32m2 = get_info\u001b[0m\u001b[32m({\"name\": #\u001b[0m\u001b[32mE1, \"\u001b[0m\u001b[32mage\": 5\u001b[0m\u001b[32m})\n",
                        "\n",
                        "Plan: 最\u001b[0m\u001b[32m后，根据所\u001b[0m\u001b[32m获取的女孩的名字和\u001b[0m\u001b[32m特征数据，利用\u001b[0m\u001b[32m诗歌生成工具来\u001b[0m\u001b[32m创作一首四句\u001b[0m\u001b[32m的古诗。\n",
                        "\u001b[0m\u001b[32m#E3 =\u001b[0m\u001b[32m poem({\"prompt\":\u001b[0m\u001b[32m \"根据#E\u001b[0m\u001b[32m2的名字和特征\u001b[0m\u001b[32m，写一首四\u001b[0m\u001b[32m句的古诗\u001b[0m\u001b[32m。\"})\u001b[0m\u001b[32m\u001b[0m\n"
                    ]
                },
                {
                    "data": {
                        "text/plain": [
                            "'Plan: 首先，使用命名工具为这个5岁的女孩起一个名字。\\n#E1 = naming({\"prompt\": \"我有一个5岁的女儿，请为她起一个中文名字。\"})\\n\\nPlan: 接下来，使用获取信息工具来收集关于这个女孩的具体特征数据。\\n#E2 = get_info({\"name\": #E1, \"age\": 5})\\n\\nPlan: 最后，根据所获取的女孩的名字和特征数据，利用诗歌生成工具来创作一首四句的古诗。\\n#E3 = poem({\"prompt\": \"根据#E2的名字和特征，写一首四句的古诗。\"})'"
                        ]
                    },
                    "execution_count": 1,
                    "metadata": {},
                    "output_type": "execute_result"
                }
            ],
            "source": [
                "from illufly.chat import ChatQwen\n",
                "from illufly.types import PromptTemplate, BaseAgent\n",
                "\n",
                "def get_info(name: str, age: int):\n",
                "    \"\"\"获得人物的特征数据\"\"\"\n",
                "    return f'姓名{name}: {age}岁, 这是一个爱跳舞的女孩'\n",
                "\n",
                "naming = ChatQwen(name=\"naming\", description=\"我特别擅长起名字，每次只能起一个名字\")\n",
                "poem = ChatQwen(name=\"poem\", description=\"我特别擅长写诗，无论是古诗还是现代诗\")\n",
                "\n",
                "# 使用上面三个工具构建 Agent\n",
                "qwen = ChatQwen(memory=PromptTemplate(\"FLOW/ReWoo\"), tools=[naming, poem, get_info])\n",
                "\n",
                "qwen(\"我有5岁女儿，帮我起一个名字，然后根据她的特征数据写一首4句古诗\")"
            ]
        },
        {
            "cell_type": "code",
            "execution_count": 2,
            "id": "0db3ed2c-611c-4d89-9a05-1006a10e835f",
            "metadata": {},
            "outputs": [
                {
                    "data": {
                        "text/plain": [
                            "[{'#E1': {'description': '首先，使用命名工具为这个5岁的女孩起一个名字。',\n",
                            "   'name': 'naming',\n",
                            "   'arguments': '{\"prompt\": \"我有一个5岁的女儿，请为她起一个中文名字。\"}'}},\n",
                            " {'#E2': {'description': '接下来，使用获取信息工具来收集关于这个女孩的具体特征数据。',\n",
                            "   'name': 'get_info',\n",
                            "   'arguments': '{\"name\": #E1, \"age\": 5}'}},\n",
                            " {'#E3': {'description': '最后，根据所获取的女孩的名字和特征数据，利用诗歌生成工具来创作一首四句的古诗。',\n",
                            "   'name': 'poem',\n",
                            "   'arguments': '{\"prompt\": \"根据#E2的名字和特征，写一首四句的古诗。\"}'}}]"
                        ]
                    },
                    "execution_count": 2,
                    "metadata": {},
                    "output_type": "execute_result"
                }
            ],
            "source": [
                "import re\n",
                "\n",
                "text = qwen.last_output\n",
                "\n",
                "# 正则表达式解析文本\n",
                "pattern = r\"Plan: (.*?)\\n#(E\\d+) = (\\w+)[\\(\\[](\\{.*?\\})[\\)\\]]\"\n",
                "results = []\n",
                "\n",
                "for match in re.finditer(pattern, text, re.DOTALL):\n",
                "    plan_description = match.group(1).strip()\n",
                "    function_name = match.group(3)\n",
                "    arguments = match.group(4)  # 保留原始参数字符串，包括占位符\n",
                "\n",
                "    result = {\n",
                "        f\"#{match.group(2)}\": {\n",
                "            \"description\": plan_description,\n",
                "            \"name\": function_name,\n",
                "            \"arguments\": arguments  # 直接存储原始参数字符串\n",
                "        }\n",
                "    }\n",
                "    results.append(result)\n",
                "\n",
                "results"
            ]
        },
        {
            "cell_type": "code",
            "execution_count": 39,
            "id": "0361b235-1186-4799-b586-81da675daf28",
            "metadata": {},
            "outputs": [
                {
                    "data": {
                        "text/plain": [
                            "'Plan: 首先利用naming工具为5岁的女儿起一个名字。\\n#E1 = naming({\"prompt\": \"我有一个5岁的女儿，请帮她起一个中文名字。\"})\\n\\nPlan: 使用get_info工具获取新名字的女儿的特征数据。\\n#E2 = get_info({\"name\": \"#E1\", \"age\": 5})\\n\\nPlan: 最后使用poem工具根据她的特征数据写一首四句的古诗。\\n#E3 = poem({\"prompt\": \"根据#E2的信息，写一首关于5岁的女孩的四句古诗。\"})'"
                        ]
                    },
                    "execution_count": 39,
                    "metadata": {},
                    "output_type": "execute_result"
                }
            ],
            "source": [
                "qwen.last_output"
            ]
        },
        {
            "cell_type": "code",
            "execution_count": 42,
            "id": "81dbba67-4938-41a2-833f-64ecd8621a8c",
            "metadata": {},
            "outputs": [
                {
                    "data": {
                        "text/plain": [
                            "{'steps': [('首先利用naming工具为5岁的女儿起一个名字。',\n",
                            "   '#E1',\n",
                            "   'naming',\n",
                            "   '{\"prompt\": \"我有一个5岁的女儿，请帮她起一个中文名字。\"})\\n\\nPlan: 使用get_info工具获取新名字的女儿的特征数据。\\n#E2 = get_info({\"name\": \"#E1\", \"age\": 5})\\n\\nPlan: 最后使用poem工具根据她的特征数据写一首四句的古诗。\\n#E3 = poem({\"prompt\": \"根据#E2的信息，写一首关于5岁的女孩的四句古诗。\"}')],\n",
                            " 'plan_string': 'Plan: 首先利用naming工具为5岁的女儿起一个名字。\\n#E1 = naming({\"prompt\": \"我有一个5岁的女儿，请帮她起一个中文名字。\"})\\n\\nPlan: 使用get_info工具获取新名字的女儿的特征数据。\\n#E2 = get_info({\"name\": \"#E1\", \"age\": 5})\\n\\nPlan: 最后使用poem工具根据她的特征数据写一首四句的古诗。\\n#E3 = poem({\"prompt\": \"根据#E2的信息，写一首关于5岁的女孩的四句古诗。\"})'}"
                        ]
                    },
                    "execution_count": 42,
                    "metadata": {},
                    "output_type": "execute_result"
                }
            ],
            "source": [
                "import re\n",
                "\n",
                "regex_pattern = r\"Plan:\\s*(.+)\\s*(#E\\d+)\\s*=\\s*(\\w+)\\s*\\(([^\\]]+)\\)\"\n",
                "matches = re.findall(regex_pattern, qwen.last_output)\n",
                "{\"steps\": matches, \"plan_string\": qwen.last_output}\n"
            ]
        },
        {
            "cell_type": "code",
            "execution_count": 35,
            "id": "f42f3901-0d89-44e5-b72d-c20ab8bd6515",
            "metadata": {},
            "outputs": [
                {
                    "name": "stdout",
                    "output_type": "stream",
                    "text": [
                        "(1)naming[prompt]: 我特别擅长起名字，每次只能起一个名字。 prompt的类型为string,(目的是)详细描述用户问题\n",
                        "(2)poem[prompt]: 我特别擅长写诗，无论是古诗还是现代诗。 prompt的类型为string,(目的是)详细描述用户问题\n"
                    ]
                }
            ],
            "source": [
                "\n",
                "desc = \"\\n\".join(\n",
                "    [\n",
                "        f'({index+1}){t.name}[{\",\".join([p for p in t.parameters[\"properties\"]])}]: {t.description}。 {\";\".join([k+\"的类型为\"+v[\"type\"]+\",(目的是)\"+v[\"description\"] for k, v in t.parameters[\"properties\"].items()])}'\n",
                "        for index, t\n",
                "        in enumerate(qwen.get_tools())\n",
                "    ]\n",
                ")\n",
                "print(desc)\n"
            ]
        },
        {
            "cell_type": "code",
            "execution_count": 6,
            "id": "9130216b-9016-41f8-b186-8c7dfedf5d69",
            "metadata": {},
            "outputs": [
                {
                    "data": {
                        "text/plain": [
                            "'{\"type\": \"function\", \"function\": {\"name\": \"naming\", \"description\": \"我特别擅长起名字，每次只能起一个名字\", \"parameters\": {\"type\": \"object\", \"properties\": {\"prompt\": {\"type\": \"string\", \"description\": \"详细描述用户问题\"}}, \"required\": [\"prompt\"]}}}\\n{\"type\": \"function\", \"function\": {\"name\": \"poem\", \"description\": \"我特别擅长写诗，无论是古诗还是现代诗\", \"parameters\": {\"type\": \"object\", \"properties\": {\"prompt\": {\"type\": \"string\", \"description\": \"详细描述用户问题\"}}, \"required\": [\"prompt\"]}}}'"
                        ]
                    },
                    "execution_count": 6,
                    "metadata": {},
                    "output_type": "execute_result"
                }
            ],
            "source": [
                "qwen.provider_dict['tools_desc']"
            ]
        },
        {
            "cell_type": "markdown",
            "id": "2d055a41-963f-490a-8ccf-1018b1266e90",
            "metadata": {},
            "source": [
                "## StepByStep 智能体团队"
            ]
        },
        {
            "cell_type": "markdown",
            "id": "39ebcb76-8a50-4ceb-897f-6a486307e7f4",
            "metadata": {},
            "source": [
                "### 构建智能体团队"
            ]
        },
        {
            "cell_type": "code",
            "execution_count": 1,
            "id": "edd7177a-1164-4026-841a-fcdd4679f122",
            "metadata": {},
            "outputs": [
                {
                    "data": {
                        "text/plain": [
                            "{'members': '[{\"成员名字\": \"起名专家\", \"擅长能力\": \"擅长为孩子起名，其他不会。\"}, {\"成员名字\": \"写手\", \"擅长能力\": \"擅长写儿歌，其他不会。\"}, {\"成员名字\": \"数学专家\", \"擅长能力\": \"擅长解决明确的数学问题，即使是简单的数学问题也必须找我来解决。但时间安排等其他问题我不会。\"}]',\n",
                            " 'completed_teamwork': ''}"
                        ]
                    },
                    "execution_count": 1,
                    "metadata": {},
                    "output_type": "execute_result"
                }
            ],
            "source": [
                "from illufly.chat import StepByStep, ChatQwen, ChatOpenAI, ChatZhipu\n",
                "from illufly.types import PromptTemplate\n",
                "\n",
                "# leader = ChatZhipu(name=\"团队主管\", model=\"glm-4-plus\")\n",
                "leader = ChatQwen(name=\"芊芊\")\n",
                "naming = ChatZhipu(name=\"起名专家\", description=\"擅长为孩子起名，其他不会。\")\n",
                "writer = ChatZhipu(name=\"写手\", description=\"擅长写儿歌，其他不会。\")\n",
                "math = ChatQwen(\n",
                "    model='qwen-math-plus',\n",
                "    name=\"数学专家\",\n",
                "    description=\"擅长解决明确的数学问题，即使是简单的数学问题也必须找我来解决。但时间安排等其他问题我不会。\"\n",
                ")\n",
                "team = StepByStep(leader, members=[naming, writer, math])\n",
                "team.provider_dict"
            ]
        },
        {
            "cell_type": "markdown",
            "id": "0e7a741f-7084-4db2-834f-a65476527411",
            "metadata": {},
            "source": [
                "### 写儿歌"
            ]
        },
        {
            "cell_type": "code",
            "execution_count": 2,
            "id": "eb6d9bb3-67a3-4f2e-9519-01c516825290",
            "metadata": {},
            "outputs": [
                {
                    "name": "stdout",
                    "output_type": "stream",
                    "text": [
                        "[AGENT] \u001b[34mROUND 1 @芊芊\u001b[0m\n",
                        "\u001b[32m**决策\u001b[0m\u001b[32m**\u001b[0m\u001b[32m \n",
                        "\u001b[0m\u001b[32m当前的任务是创作\u001b[0m\u001b[32m一首关于月亮的\u001b[0m\u001b[32m儿歌，并且\u001b[0m\u001b[32m只需要四句。\u001b[0m\u001b[32m根据任务需求，\u001b[0m\u001b[32m我们需要的是具备创意\u001b[0m\u001b[32m与文字功底\u001b[0m\u001b[32m的工作，这正好\u001b[0m\u001b[32m匹配了我的团队成员\u001b[0m\u001b[32m中的“写手\u001b[0m\u001b[32m”的专长。\u001b[0m\u001b[32m因此，最合理\u001b[0m\u001b[32m的选择是将这项\u001b[0m\u001b[32m任务交给“写\u001b[0m\u001b[32m手”来完成\u001b[0m\u001b[32m。\n",
                        "\n",
                        "**规划**\n",
                        "\u001b[0m\u001b[32m由于创作儿歌\u001b[0m\u001b[32m属于写手的专业\u001b[0m\u001b[32m范畴，无需进一步\u001b[0m\u001b[32m细分任务。直接\u001b[0m\u001b[32m将任务交予\u001b[0m\u001b[32m写手执行即可\u001b[0m\u001b[32m。\n",
                        "\n",
                        "<sub_task\u001b[0m\u001b[32m>\n",
                        "{\"member_name\u001b[0m\u001b[32m\": \"写手\u001b[0m\u001b[32m\", \"task_detail\u001b[0m\u001b[32m\": \"请帮我\u001b[0m\u001b[32m写一首关于月亮\u001b[0m\u001b[32m的儿歌，\u001b[0m\u001b[32m只需要四句。\u001b[0m\u001b[32m\"}\n",
                        "</sub_task\u001b[0m\u001b[32m> \n",
                        "\n",
                        "至此，\u001b[0m\u001b[32m我们已经明确了任务\u001b[0m\u001b[32m并分配给了最适合\u001b[0m\u001b[32m的团队成员。\u001b[0m\u001b[32m接下来等待写手\u001b[0m\u001b[32m完成任务。\u001b[0m\u001b[32m\u001b[0m\n",
                        "[AGENT] \u001b[34mROUND 1 @写手\u001b[0m\n",
                        "\u001b[32m月亮\u001b[0m\u001b[32m弯\u001b[0m\u001b[32m弯\u001b[0m\u001b[32m挂\u001b[0m\u001b[32m天空\u001b[0m\u001b[32m，\n",
                        "闪闪\u001b[0m\u001b[32m发光\u001b[0m\u001b[32m亮\u001b[0m\u001b[32m晶晶\u001b[0m\u001b[32m。\n",
                        "小\u001b[0m\u001b[32m星星\u001b[0m\u001b[32m跟着\u001b[0m\u001b[32m月亮\u001b[0m\u001b[32m走\u001b[0m\u001b[32m，\n",
                        "唱\u001b[0m\u001b[32m着\u001b[0m\u001b[32m儿\u001b[0m\u001b[32m歌\u001b[0m\u001b[32m做\u001b[0m\u001b[32m游戏\u001b[0m\u001b[32m。\u001b[0m\n",
                        "[AGENT] \u001b[34mROUND 2 @芊芊\u001b[0m\n",
                        "\u001b[32m**\u001b[0m\u001b[32m观察\u001b[0m\u001b[32m**\u001b[0m\u001b[32m \u001b[0m\u001b[32m根据之前团队\u001b[0m\u001b[32m协作记录，@\u001b[0m\u001b[32m写手 已\u001b[0m\u001b[32m经完成了编写一首\u001b[0m\u001b[32m关于月亮的儿\u001b[0m\u001b[32m歌的任务，并且\u001b[0m\u001b[32m儿歌满足了\u001b[0m\u001b[32m四句的要求。\n",
                        "\n",
                        "\u001b[0m\u001b[32m**反思** \u001b[0m\u001b[32m总任务目标是\u001b[0m\u001b[32m写一首关于月亮\u001b[0m\u001b[32m的儿歌，\u001b[0m\u001b[32m四句即可。\u001b[0m\u001b[32m@写手 提\u001b[0m\u001b[32m供的内容完全符合\u001b[0m\u001b[32m要求，因此无需\u001b[0m\u001b[32m进一步的修改或\u001b[0m\u001b[32m添加。\n",
                        "\n",
                        "**决策\u001b[0m\u001b[32m** 当前任务\u001b[0m\u001b[32m已经完成，可以直接\u001b[0m\u001b[32m输出最终答案。\n",
                        "\n",
                        "\u001b[0m\u001b[32m<final_answer>\n",
                        "\u001b[0m\u001b[32m月亮弯弯挂\u001b[0m\u001b[32m天空，\n",
                        "闪闪发光\u001b[0m\u001b[32m亮晶晶。\n",
                        "\u001b[0m\u001b[32m小星星跟着月亮\u001b[0m\u001b[32m走，\n",
                        "唱着\u001b[0m\u001b[32m儿歌做游戏\u001b[0m\u001b[32m。\n",
                        "</final_answer\u001b[0m\u001b[32m>\u001b[0m\u001b[32m\u001b[0m\n"
                    ]
                },
                {
                    "data": {
                        "text/plain": [
                            "'\\n月亮弯弯挂天空，\\n闪闪发光亮晶晶。\\n小星星跟着月亮走，\\n唱着儿歌做游戏。\\n'"
                        ]
                    },
                    "execution_count": 2,
                    "metadata": {},
                    "output_type": "execute_result"
                }
            ],
            "source": [
                "team(\"帮我写一首儿歌，关于月亮的，四句即可\", verbose=False)"
            ]
        },
        {
            "cell_type": "code",
            "execution_count": 3,
            "id": "1ec0b24a-fdb7-4ac4-a88e-4d1c19bc00ac",
            "metadata": {},
            "outputs": [
                {
                    "name": "stdout",
                    "output_type": "stream",
                    "text": [
                        "[总任务目标] 帮我写一首儿歌，关于月亮的，四句即可\n",
                        "[行动] #E1 子任务交给 @写手, 要求为 请帮我写一首关于月亮的儿歌，只需要四句。\n",
                        "[观察] @写手 已完成 #E1 子任务，回复内容为 月亮弯弯挂天空，\n",
                        "闪闪发光亮晶晶。\n",
                        "小星星跟着月亮走，\n",
                        "唱着儿歌做游戏。\n",
                        "[最终答案] \n",
                        "\n",
                        "月亮弯弯挂天空，\n",
                        "闪闪发光亮晶晶。\n",
                        "小星星跟着月亮走，\n",
                        "唱着儿歌做游戏。\n",
                        "\n"
                    ]
                }
            ],
            "source": [
                "print(team.provider_dict['completed_teamwork'])"
            ]
        },
        {
            "cell_type": "markdown",
            "id": "105b8201-8aaf-47ab-8da5-5208fba8cdb5",
            "metadata": {},
            "source": [
                "### 旅行建议"
            ]
        },
        {
            "cell_type": "code",
            "execution_count": 4,
            "id": "74d642ed-121e-4a2d-a65d-10da9c02174b",
            "metadata": {},
            "outputs": [
                {
                    "name": "stdout",
                    "output_type": "stream",
                    "text": [
                        "[AGENT] \u001b[34mROUND 1 @芊芊\u001b[0m\n",
                        "\u001b[32m**\u001b[0m\u001b[32m决策\u001b[0m\u001b[32m**\u001b[0m\u001b[32m \n",
                        "\u001b[0m\u001b[32m当前任务需要提供\u001b[0m\u001b[32m一个简短的\u001b[0m\u001b[32m广州旅行行程概\u001b[0m\u001b[32m要，这个任务\u001b[0m\u001b[32m并不涉及特别的专业\u001b[0m\u001b[32m技能，比如起\u001b[0m\u001b[32m名、写儿\u001b[0m\u001b[32m歌或者解决数学\u001b[0m\u001b[32m问题。因此，\u001b[0m\u001b[32m这个任务我可以直接\u001b[0m\u001b[32m完成，不需要再\u001b[0m\u001b[32m细分给团队成员\u001b[0m\u001b[32m。\n",
                        "\n",
                        "**规划**\n",
                        "\u001b[0m\u001b[32m我自己来制定这个\u001b[0m\u001b[32m简短的行程\u001b[0m\u001b[32m概要。\n",
                        "\n",
                        "\u001b[0m\u001b[32m<self_solve>\n",
                        "(\u001b[0m\u001b[32m1) 开始\u001b[0m\u001b[32m一天从越秀\u001b[0m\u001b[32m公园的早茶\u001b[0m\u001b[32m体验开始，享受\u001b[0m\u001b[32m地道的广式\u001b[0m\u001b[32m早餐。\n",
                        "(2\u001b[0m\u001b[32m) 接下来\u001b[0m\u001b[32m前往陈家祠\u001b[0m\u001b[32m，欣赏精美的\u001b[0m\u001b[32m岭南建筑艺术，并\u001b[0m\u001b[32m了解当地的历史文化\u001b[0m\u001b[32m。\n",
                        "(3)\u001b[0m\u001b[32m 下午可以在珠江新城\u001b[0m\u001b[32m逛逛，这里\u001b[0m\u001b[32m有许多购物商场和\u001b[0m\u001b[32m美食选择。\n",
                        "(\u001b[0m\u001b[32m4) \u001b[0m\u001b[32m傍晚时分\u001b[0m\u001b[32m，可以去广州\u001b[0m\u001b[32m塔（小蛮\u001b[0m\u001b[32m腰）观光，\u001b[0m\u001b[32m俯瞰整个城市的\u001b[0m\u001b[32m美景。\n",
                        "(5\u001b[0m\u001b[32m) 结束一天\u001b[0m\u001b[32m的行程前，在\u001b[0m\u001b[32m北京路步行街\u001b[0m\u001b[32m散步购物，感受\u001b[0m\u001b[32m广州的夜生活\u001b[0m\u001b[32m。\n",
                        "</self_solve\u001b[0m\u001b[32m>\n",
                        "\n",
                        "至此，我已经\u001b[0m\u001b[32m完成了行程概要\u001b[0m\u001b[32m的制定。 \n",
                        "\n",
                        "\u001b[0m\u001b[32m<final_answer>\n",
                        "\u001b[0m\u001b[32m广州之旅建议：\n",
                        "\u001b[0m\u001b[32m1. 在越\u001b[0m\u001b[32m秀公园享用早\u001b[0m\u001b[32m茶。\n",
                        "2.\u001b[0m\u001b[32m 参观陈\u001b[0m\u001b[32m家祠，领略\u001b[0m\u001b[32m传统岭南建筑之美\u001b[0m\u001b[32m。\n",
                        "3. 在\u001b[0m\u001b[32m珠江新城逛街购物\u001b[0m\u001b[32m。\n",
                        "4. \u001b[0m\u001b[32m晚上到\u001b[0m\u001b[32m广州塔观赏城市\u001b[0m\u001b[32m夜景。\n",
                        "5\u001b[0m\u001b[32m. 最后在北京\u001b[0m\u001b[32m路步行街体验\u001b[0m\u001b[32m广州夜生活。\n",
                        "\u001b[0m\u001b[32m</final_answer>\u001b[0m\u001b[32m\u001b[0m\n"
                    ]
                },
                {
                    "data": {
                        "text/plain": [
                            "'\\n广州之旅建议：\\n1. 在越秀公园享用早茶。\\n2. 参观陈家祠，领略传统岭南建筑之美。\\n3. 在珠江新城逛街购物。\\n4. 晚上到广州塔观赏城市夜景。\\n5. 最后在北京路步行街体验广州夜生活。\\n'"
                        ]
                    },
                    "execution_count": 4,
                    "metadata": {},
                    "output_type": "execute_result"
                }
            ],
            "source": [
                "team(\"我想去广州玩，给我个行程概要，不要超过5句话\")"
            ]
        },
        {
            "cell_type": "code",
            "execution_count": 5,
            "id": "1ac91030-3b58-4335-9da4-518c5706f4a2",
            "metadata": {},
            "outputs": [
                {
                    "data": {
                        "text/plain": [
                            "{'last_output': '\\n广州之旅建议：\\n1. 在越秀公园享用早茶。\\n2. 参观陈家祠，领略传统岭南建筑之美。\\n3. 在珠江新城逛街购物。\\n4. 晚上到广州塔观赏城市夜景。\\n5. 最后在北京路步行街体验广州夜生活。\\n',\n",
                            " 'members': '[{\"成员名字\": \"起名专家\", \"擅长能力\": \"擅长为孩子起名，其他不会。\"}, {\"成员名字\": \"写手\", \"擅长能力\": \"擅长写儿歌，其他不会。\"}, {\"成员名字\": \"数学专家\", \"擅长能力\": \"擅长解决明确的数学问题，即使是简单的数学问题也必须找我来解决。但时间安排等其他问题我不会。\"}]',\n",
                            " 'completed_teamwork': '[总任务目标] 我想去广州玩，给我个行程概要，不要超过5句话\\n[行动] 该子任务自己解决，结果为 \\n(1) 开始一天从越秀公园的早茶体验开始，享受地道的广式早餐。\\n(2) 接下来前往陈家祠，欣赏精美的岭南建筑艺术，并了解当地的历史文化。\\n(3) 下午可以在珠江新城逛逛，这里有许多购物商场和美食选择。\\n(4) 傍晚时分，可以去广州塔（小蛮腰）观光，俯瞰整个城市的美景。\\n(5) 结束一天的行程前，在北京路步行街散步购物，感受广州的夜生活。\\n\\n[最终答案] \\n\\n广州之旅建议：\\n1. 在越秀公园享用早茶。\\n2. 参观陈家祠，领略传统岭南建筑之美。\\n3. 在珠江新城逛街购物。\\n4. 晚上到广州塔观赏城市夜景。\\n5. 最后在北京路步行街体验广州夜生活。\\n'}"
                        ]
                    },
                    "execution_count": 5,
                    "metadata": {},
                    "output_type": "execute_result"
                }
            ],
            "source": [
                "team.provider_dict"
            ]
        },
        {
            "cell_type": "markdown",
            "id": "a5a1b406-3e78-4695-accf-2e1381eb675a",
            "metadata": {},
            "source": [
                "### 起名字 + 写儿歌"
            ]
        },
        {
            "cell_type": "code",
            "execution_count": 6,
            "id": "2a8152e4-5012-4a7e-804b-24e8db842f94",
            "metadata": {},
            "outputs": [
                {
                    "name": "stdout",
                    "output_type": "stream",
                    "text": [
                        "[AGENT] \u001b[34mROUND 1 @芊芊\u001b[0m\n",
                        "\u001b[32m**决策\u001b[0m\u001b[32m**\u001b[0m\u001b[32m \n",
                        "\u001b[0m\u001b[32m首先，我们需要确定\u001b[0m\u001b[32m的是两件事情\u001b[0m\u001b[32m：一是为薛\u001b[0m\u001b[32m先生的女儿起一个\u001b[0m\u001b[32m好名字；二是\u001b[0m\u001b[32m根据这个名字创作一首\u001b[0m\u001b[32m四行的儿\u001b[0m\u001b[32m歌。考虑到“\u001b[0m\u001b[32m起名专家”\u001b[0m\u001b[32m专门负责起名\u001b[0m\u001b[32m，“写手”\u001b[0m\u001b[32m则擅长写儿\u001b[0m\u001b[32m歌，因此，\u001b[0m\u001b[32m我们应该先由起\u001b[0m\u001b[32m名专家来完成\u001b[0m\u001b[32m起名工作，\u001b[0m\u001b[32m之后再由写\u001b[0m\u001b[32m手根据所起\u001b[0m\u001b[32m的名字来编写儿\u001b[0m\u001b[32m歌。\n",
                        "\n",
                        "**行动\u001b[0m\u001b[32m**\n",
                        "<sub_task\u001b[0m\u001b[32m>\n",
                        "{\"member_name\u001b[0m\u001b[32m\": \"起名\u001b[0m\u001b[32m专家\", \"task\u001b[0m\u001b[32m_detail\": \"薛\u001b[0m\u001b[32m先生希望给他的\u001b[0m\u001b[32m女儿起一个有意义\u001b[0m\u001b[32m且美好的名字，请\u001b[0m\u001b[32m根据薛姓的特点\u001b[0m\u001b[32m，结合中华文化的\u001b[0m\u001b[32m内涵，为薛\u001b[0m\u001b[32m先生的女儿起一个\u001b[0m\u001b[32m名字。\"}\n",
                        "</\u001b[0m\u001b[32msub_task> \n",
                        "\n",
                        "\u001b[0m\u001b[32m等待起名专家\u001b[0m\u001b[32m给出名字后，\u001b[0m\u001b[32m下一步行动将会是\u001b[0m\u001b[32m让写手根据\u001b[0m\u001b[32m这个名字创作儿歌\u001b[0m\u001b[32m。\u001b[0m\u001b[32m\u001b[0m\n",
                        "[AGENT] \u001b[34mROUND 1 @起名专家\u001b[0m\n",
                        "\u001b[32m薛\u001b[0m\u001b[32m先生\u001b[0m\u001b[32m您好\u001b[0m\u001b[32m，\u001b[0m\u001b[32m结合\u001b[0m\u001b[32m薛\u001b[0m\u001b[32m姓\u001b[0m\u001b[32m的特点\u001b[0m\u001b[32m和\u001b[0m\u001b[32m中华\u001b[0m\u001b[32m文化的\u001b[0m\u001b[32m内涵\u001b[0m\u001b[32m，\u001b[0m\u001b[32m我为\u001b[0m\u001b[32m您的\u001b[0m\u001b[32m女儿\u001b[0m\u001b[32m推荐\u001b[0m\u001b[32m以下\u001b[0m\u001b[32m名字\u001b[0m\u001b[32m：\n",
                        "\n",
                        "薛\u001b[0m\u001b[32m雅\u001b[0m\u001b[32m心\u001b[0m\u001b[32m\n",
                        "\n",
                        "“\u001b[0m\u001b[32m雅\u001b[0m\u001b[32m”\u001b[0m\u001b[32m字\u001b[0m\u001b[32m寓意\u001b[0m\u001b[32m高雅\u001b[0m\u001b[32m、\u001b[0m\u001b[32m优雅\u001b[0m\u001b[32m，\u001b[0m\u001b[32m符合\u001b[0m\u001b[32m中华文化\u001b[0m\u001b[32m中对\u001b[0m\u001b[32m女性\u001b[0m\u001b[32m美好的\u001b[0m\u001b[32m期待\u001b[0m\u001b[32m；“\u001b[0m\u001b[32m心\u001b[0m\u001b[32m”\u001b[0m\u001b[32m字\u001b[0m\u001b[32m则\u001b[0m\u001b[32m代表\u001b[0m\u001b[32m内心\u001b[0m\u001b[32m、\u001b[0m\u001b[32m情感\u001b[0m\u001b[32m，\u001b[0m\u001b[32m寓意\u001b[0m\u001b[32m女儿\u001b[0m\u001b[32m心地\u001b[0m\u001b[32m善良\u001b[0m\u001b[32m，\u001b[0m\u001b[32m拥有\u001b[0m\u001b[32m纯\u001b[0m\u001b[32m真的\u001b[0m\u001b[32m心灵\u001b[0m\u001b[32m。\u001b[0m\u001b[32m这个名字\u001b[0m\u001b[32m既\u001b[0m\u001b[32m体现了\u001b[0m\u001b[32m薛\u001b[0m\u001b[32m姓\u001b[0m\u001b[32m的\u001b[0m\u001b[32m韵味\u001b[0m\u001b[32m，\u001b[0m\u001b[32m又\u001b[0m\u001b[32m富有\u001b[0m\u001b[32m文化\u001b[0m\u001b[32m内涵\u001b[0m\u001b[32m和\u001b[0m\u001b[32m美好\u001b[0m\u001b[32m寓意\u001b[0m\u001b[32m。\u001b[0m\u001b[32m希望\u001b[0m\u001b[32m您\u001b[0m\u001b[32m会\u001b[0m\u001b[32m喜欢\u001b[0m\u001b[32m！\u001b[0m\n",
                        "[AGENT] \u001b[34mROUND 2 @芊芊\u001b[0m\n",
                        "\u001b[32m**观察\u001b[0m\u001b[32m**\n",
                        "\n",
                        "\u001b[0m\u001b[32m从\u001b[0m\u001b[32m当前的任务需求来看\u001b[0m\u001b[32m，我们已经完成了\u001b[0m\u001b[32m为薛先生的女儿\u001b[0m\u001b[32m起名的部分，\u001b[0m\u001b[32m名字为“薛\u001b[0m\u001b[32m雅心”。接下来\u001b[0m\u001b[32m需要以这个名字为主题\u001b[0m\u001b[32m创作一首四行\u001b[0m\u001b[32m的儿歌。\n",
                        "\n",
                        "\u001b[0m\u001b[32m**反思**\n",
                        "\n",
                        "既然\u001b[0m\u001b[32m名字已经确定，并\u001b[0m\u001b[32m且创作儿歌\u001b[0m\u001b[32m属于“写手\u001b[0m\u001b[32m”的专长，\u001b[0m\u001b[32m因此应该将接下来\u001b[0m\u001b[32m的任务交给“写\u001b[0m\u001b[32m手”。\n",
                        "\n",
                        "**决策\u001b[0m\u001b[32m**\n",
                        "\n",
                        "下一步的任务是\u001b[0m\u001b[32m创作儿歌，\u001b[0m\u001b[32m必须由“写\u001b[0m\u001b[32m手”来完成\u001b[0m\u001b[32m。\n",
                        "\n",
                        "**行动**\n",
                        "\n",
                        "\u001b[0m\u001b[32m<sub_task>\n",
                        "\u001b[0m\u001b[32m{\"member_name\":\u001b[0m\u001b[32m \"写手\",\u001b[0m\u001b[32m \"task_detail\":\u001b[0m\u001b[32m \"以薛雅\u001b[0m\u001b[32m心的名字为主题，\u001b[0m\u001b[32m创作一首四行\u001b[0m\u001b[32m的儿歌。\u001b[0m\u001b[32m这首儿歌应该\u001b[0m\u001b[32m充满童趣，\u001b[0m\u001b[32m同时也能体现薛\u001b[0m\u001b[32m雅心这个名字的美好\u001b[0m\u001b[32m寓意。\"}\n",
                        "</\u001b[0m\u001b[32msub_task>\u001b[0m\u001b[32m\u001b[0m\n",
                        "[AGENT] \u001b[34mROUND 2 @写手\u001b[0m\n",
                        "\u001b[32m薛\u001b[0m\u001b[32m薛\u001b[0m\u001b[32m小\u001b[0m\u001b[32m雅\u001b[0m\u001b[32m心\u001b[0m\u001b[32m，\u001b[0m\u001b[32m阳光\u001b[0m\u001b[32m灿烂\u001b[0m\u001b[32m笑\u001b[0m\u001b[32m，\n",
                        "雅\u001b[0m\u001b[32m韵\u001b[0m\u001b[32m传\u001b[0m\u001b[32m千里\u001b[0m\u001b[32m，\u001b[0m\u001b[32m心灵\u001b[0m\u001b[32m美\u001b[0m\u001b[32m如\u001b[0m\u001b[32m花\u001b[0m\u001b[32m。\n",
                        "心\u001b[0m\u001b[32m系\u001b[0m\u001b[32m快乐\u001b[0m\u001b[32m源\u001b[0m\u001b[32m，\u001b[0m\u001b[32m成长\u001b[0m\u001b[32m步步\u001b[0m\u001b[32m高\u001b[0m\u001b[32m，\n",
                        "幸福\u001b[0m\u001b[32m歌声\u001b[0m\u001b[32m里\u001b[0m\u001b[32m，\u001b[0m\u001b[32m薛\u001b[0m\u001b[32m雅\u001b[0m\u001b[32m心\u001b[0m\u001b[32m儿\u001b[0m\u001b[32m谣\u001b[0m\u001b[32m。\u001b[0m\n",
                        "[AGENT] \u001b[34mROUND 3 @芊芊\u001b[0m\n",
                        "\u001b[32m**观察\u001b[0m\u001b[32m**\u001b[0m\u001b[32m \u001b[0m\u001b[32m根据之前的团队\u001b[0m\u001b[32m协作记录，我们的\u001b[0m\u001b[32m团队已经完成了两个\u001b[0m\u001b[32m关键子任务：\u001b[0m\u001b[32m为薛先生的女儿\u001b[0m\u001b[32m起了一个名字“\u001b[0m\u001b[32m薛雅心”，\u001b[0m\u001b[32m并且以这个名字为主题\u001b[0m\u001b[32m创作了一首四\u001b[0m\u001b[32m行的儿歌\u001b[0m\u001b[32m。接下来我们需要确认\u001b[0m\u001b[32m这两项成果是否\u001b[0m\u001b[32m满足了总任务\u001b[0m\u001b[32m目标。\n",
                        "\n",
                        "**反思\u001b[0m\u001b[32m** 起\u001b[0m\u001b[32m名专家提供的名字\u001b[0m\u001b[32m“薛雅心\u001b[0m\u001b[32m”富有文化内涵\u001b[0m\u001b[32m和美好的寓意，\u001b[0m\u001b[32m而写手创作\u001b[0m\u001b[32m的儿歌也\u001b[0m\u001b[32m很好地体现了这个名字的意义\u001b[0m\u001b[32m，并且充满了童\u001b[0m\u001b[32m趣。从目前\u001b[0m\u001b[32m的情况来看，这两个\u001b[0m\u001b[32m子任务的成果\u001b[0m\u001b[32m都符合任务要求\u001b[0m\u001b[32m。\n",
                        "\n",
                        "**决策**\u001b[0m\u001b[32m 当前任务已完成\u001b[0m\u001b[32m，可以直接输出最终\u001b[0m\u001b[32m答案。\n",
                        "\n",
                        "**规划\u001b[0m\u001b[32m**\n",
                        "\n",
                        "<final_answer\u001b[0m\u001b[32m>\n",
                        "(最终答案\u001b[0m\u001b[32m如下)\n",
                        "\n",
                        "为薛\u001b[0m\u001b[32m先生的女儿起的名字\u001b[0m\u001b[32m是：“薛雅\u001b[0m\u001b[32m心”。\n",
                        "\n",
                        "以这个名字\u001b[0m\u001b[32m为主题的儿歌是\u001b[0m\u001b[32m：\n",
                        "薛薛小\u001b[0m\u001b[32m雅心，阳光\u001b[0m\u001b[32m灿烂笑，\n",
                        "雅\u001b[0m\u001b[32m韵传千里，\u001b[0m\u001b[32m心灵美如花\u001b[0m\u001b[32m。\n",
                        "心系快乐\u001b[0m\u001b[32m源，成长步步\u001b[0m\u001b[32m高，\n",
                        "幸福歌声\u001b[0m\u001b[32m里，薛雅\u001b[0m\u001b[32m心儿谣。\n",
                        "\n",
                        "\u001b[0m\u001b[32m</final_answer>\u001b[0m\u001b[32m \n",
                        "\n",
                        "任务结束。\u001b[0m\u001b[32m\u001b[0m\n"
                    ]
                },
                {
                    "data": {
                        "text/plain": [
                            "'\\n(最终答案如下)\\n\\n为薛先生的女儿起的名字是：“薛雅心”。\\n\\n以这个名字为主题的儿歌是：\\n薛薛小雅心，阳光灿烂笑，\\n雅韵传千里，心灵美如花。\\n心系快乐源，成长步步高，\\n幸福歌声里，薛雅心儿谣。\\n\\n'"
                        ]
                    },
                    "execution_count": 6,
                    "metadata": {},
                    "output_type": "execute_result"
                }
            ],
            "source": [
                "team(\"我姓薛，请你帮我给女儿起个好名字，一个就行，再以此为题写一首4行的儿歌\")"
            ]
        },
        {
            "cell_type": "code",
            "execution_count": 7,
            "id": "dfa3d79b-361c-476e-965d-ad8c327c3cca",
            "metadata": {},
            "outputs": [
                {
                    "data": {
                        "text/plain": [
                            "[{'role': 'user',\n",
                            "  'content': '以薛雅心的名字为主题，创作一首四行的儿歌。这首儿歌应该充满童趣，同时也能体现薛雅心这个名字的美好寓意。'},\n",
                            " {'role': 'assistant',\n",
                            "  'content': '薛薛小雅心，阳光灿烂笑，\\n雅韵传千里，心灵美如花。\\n心系快乐源，成长步步高，\\n幸福歌声里，薛雅心儿谣。'}]"
                        ]
                    },
                    "execution_count": 7,
                    "metadata": {},
                    "output_type": "execute_result"
                }
            ],
            "source": [
                "writer.memory"
            ]
        },
        {
            "cell_type": "code",
            "execution_count": 8,
            "id": "208a73d1-ef3c-4b1c-82be-f39e3e9e5be3",
            "metadata": {},
            "outputs": [
                {
                    "name": "stdout",
                    "output_type": "stream",
                    "text": [
                        "[{\"成员名字\": \"起名专家\", \"擅长能力\": \"擅长为孩子起名，其他不会。\"}, {\"成员名字\": \"写手\", \"擅长能力\": \"擅长写儿歌，其他不会。\"}, {\"成员名字\": \"数学专家\", \"擅长能力\": \"擅长解决明确的数学问题，即使是简单的数学问题也必须找我来解决。但时间安排等其他问题我不会。\"}]\n"
                    ]
                }
            ],
            "source": [
                "print(team.provider_dict['members'])"
            ]
        },
        {
            "cell_type": "code",
            "execution_count": 9,
            "id": "9834e5fa-ba0e-475c-bb2b-f02968e2f599",
            "metadata": {},
            "outputs": [
                {
                    "name": "stdout",
                    "output_type": "stream",
                    "text": [
                        "[总任务目标] 我姓薛，请你帮我给女儿起个好名字，一个就行，再以此为题写一首4行的儿歌\n",
                        "[行动] #E1 子任务交给 @起名专家, 要求为 为薛姓的女儿起一个寓意美好且独特的好名字。\n",
                        "[观察] @起名专家 已完成 #E1 子任务，回复内容为 薛雅涵\n",
                        "寓意：雅涵表示文雅内涵，希望女儿拥有高雅的气质和丰富的内涵，寓意美好且独特。\n",
                        "[行动] #E1 子任务交给 @写手, 要求为 以薛雅涵为题，创作一首四行的儿歌。\n",
                        "[观察] @写手 已完成 #E1 子任务，回复内容为 薛雅涵，笑颜开，\n",
                        "歌声飘，童趣在。\n",
                        "阳光里，快乐跑，\n",
                        "愿你成长，如花盛开。\n",
                        "[最终答案] \n",
                        "\n",
                        "最终答案：女儿的名字为“薛雅涵”。以这个名字为题的儿歌如下：\n",
                        "薛雅涵，笑颜开，\n",
                        "歌声飘，童趣在。\n",
                        "阳光里，快乐跑，\n",
                        "愿你成长，如花盛开。\n",
                        "\n"
                    ]
                }
            ],
            "source": [
                "print(team.provider_dict['completed_teamwork'])"
            ]
        },
        {
            "cell_type": "markdown",
            "id": "d5b9f3ae-fefe-4246-83bf-6a2ace7567ce",
            "metadata": {},
            "source": [
                "### 数学问题"
            ]
        },
        {
            "cell_type": "code",
            "execution_count": 9,
            "id": "ac1a3aa3-fe64-4beb-8f68-b2e171527c1f",
            "metadata": {},
            "outputs": [
                {
                    "name": "stdout",
                    "output_type": "stream",
                    "text": [
                        "[AGENT] \u001b[34mROUND 1 @芊芊\u001b[0m\n",
                        "\u001b[32m**决策\u001b[0m\u001b[32m**\u001b[0m\u001b[32m \n",
                        "\u001b[0m\u001b[32m当前任务是计算\u001b[0m\u001b[32m119乘\u001b[0m\u001b[32m以321\u001b[0m\u001b[32m的结果。这是一个明确\u001b[0m\u001b[32m的数学问题，\u001b[0m\u001b[32m直接计算即可得出\u001b[0m\u001b[32m答案。\n",
                        "\n",
                        "根据团队\u001b[0m\u001b[32m成员的能力，这个问题\u001b[0m\u001b[32m应该交给“数学\u001b[0m\u001b[32m专家”来解决\u001b[0m\u001b[32m，因为他擅长解决\u001b[0m\u001b[32m明确的数学问题\u001b[0m\u001b[32m。\n",
                        "\n",
                        "**行动**\n",
                        "\u001b[0m\u001b[32m<sub_task>\n",
                        "\u001b[0m\u001b[32m{\"member_name\":\u001b[0m\u001b[32m \"数学专家\",\u001b[0m\u001b[32m \"task_detail\":\u001b[0m\u001b[32m \"计算11\u001b[0m\u001b[32m9乘以3\u001b[0m\u001b[32m21的结果。\u001b[0m\u001b[32m\"}\n",
                        "</sub_task\u001b[0m\u001b[32m> \n",
                        "\n",
                        "既然已经\u001b[0m\u001b[32m分配了任务给\u001b[0m\u001b[32m“数学专家”，\u001b[0m\u001b[32m接下来等待他的计算\u001b[0m\u001b[32m结果。\u001b[0m\u001b[32m\u001b[0m\n",
                        "[AGENT] \u001b[34mROUND 1 @数学专家\u001b[0m\n",
                        "\u001b[32m要计算\u001b[0m\u001b[32m \\(\u001b[0m\u001b[32m1\u001b[0m\u001b[32m19 \\times\u001b[0m\u001b[32m 321\u001b[0m\u001b[32m\\) 的结果，\u001b[0m\u001b[32m我们可以使用乘法\u001b[0m\u001b[32m的分配律（\u001b[0m\u001b[32m对于二项式\u001b[0m\u001b[32m，也称为FO\u001b[0m\u001b[32mIL方法）。首先\u001b[0m\u001b[32m，我们将每个数\u001b[0m\u001b[32m表示为10\u001b[0m\u001b[32m0的和或\u001b[0m\u001b[32m差：\n",
                        "\n",
                        "\\[1\u001b[0m\u001b[32m19 = \u001b[0m\u001b[32m100 +\u001b[0m\u001b[32m 19\\\u001b[0m\u001b[32m]\n",
                        "\\[32\u001b[0m\u001b[32m1 = 3\u001b[0m\u001b[32m00 + \u001b[0m\u001b[32m21\\]\n",
                        "\n",
                        "\u001b[0m\u001b[32m现在，我们使用\u001b[0m\u001b[32m分配律来展开\u001b[0m\u001b[32m乘积 \\((\u001b[0m\u001b[32m100 +\u001b[0m\u001b[32m 19)(\u001b[0m\u001b[32m300 +\u001b[0m\u001b[32m 21)\\\u001b[0m\u001b[32m)：\n",
                        "\n",
                        "\\[\n",
                        "\u001b[0m\u001b[32m(100\u001b[0m\u001b[32m + 19\u001b[0m\u001b[32m)(300\u001b[0m\u001b[32m + 21\u001b[0m\u001b[32m) = 1\u001b[0m\u001b[32m00 \\cdot\u001b[0m\u001b[32m 300\u001b[0m\u001b[32m + 10\u001b[0m\u001b[32m0 \\cdot \u001b[0m\u001b[32m21 + \u001b[0m\u001b[32m19 \\cdot\u001b[0m\u001b[32m 300\u001b[0m\u001b[32m + 19\u001b[0m\u001b[32m \\cdot 2\u001b[0m\u001b[32m1\n",
                        "\\]\n",
                        "\n",
                        "\u001b[0m\u001b[32m接下来，我们分别\u001b[0m\u001b[32m计算每个项：\n",
                        "\n",
                        "\u001b[0m\u001b[32m\\[\n",
                        "10\u001b[0m\u001b[32m0 \\cdot \u001b[0m\u001b[32m300 =\u001b[0m\u001b[32m 300\u001b[0m\u001b[32m00\n",
                        "\\\u001b[0m\u001b[32m]\n",
                        "\\[\n",
                        "1\u001b[0m\u001b[32m00 \\cdot\u001b[0m\u001b[32m 21 =\u001b[0m\u001b[32m 210\u001b[0m\u001b[32m0\n",
                        "\\]\n",
                        "\u001b[0m\u001b[32m\\[\n",
                        "19\u001b[0m\u001b[32m \\cdot 3\u001b[0m\u001b[32m00 = \u001b[0m\u001b[32m5700\u001b[0m\u001b[32m\n",
                        "\\]\n",
                        "\\\u001b[0m\u001b[32m[\n",
                        "19 \\\u001b[0m\u001b[32mcdot 21\u001b[0m\u001b[32m = 39\u001b[0m\u001b[32m9\n",
                        "\\]\n",
                        "\n",
                        "\u001b[0m\u001b[32m现在，我们将这些\u001b[0m\u001b[32m乘积相加\u001b[0m\u001b[32m：\n",
                        "\n",
                        "\\[\n",
                        "3\u001b[0m\u001b[32m0000\u001b[0m\u001b[32m + 21\u001b[0m\u001b[32m00 + \u001b[0m\u001b[32m5700\u001b[0m\u001b[32m + 39\u001b[0m\u001b[32m9\n",
                        "\\]\n",
                        "\n",
                        "\u001b[0m\u001b[32m首先，将3\u001b[0m\u001b[32m0000\u001b[0m\u001b[32m和210\u001b[0m\u001b[32m0相加：\n",
                        "\n",
                        "\u001b[0m\u001b[32m\\[\n",
                        "30\u001b[0m\u001b[32m000 +\u001b[0m\u001b[32m 210\u001b[0m\u001b[32m0 = 3\u001b[0m\u001b[32m2100\u001b[0m\u001b[32m\n",
                        "\\]\n",
                        "\n",
                        "接下来\u001b[0m\u001b[32m，将57\u001b[0m\u001b[32m00加到\u001b[0m\u001b[32m结果上：\n",
                        "\n",
                        "\\\u001b[0m\u001b[32m[\n",
                        "321\u001b[0m\u001b[32m00 + \u001b[0m\u001b[32m5700\u001b[0m\u001b[32m = 37\u001b[0m\u001b[32m800\n",
                        "\u001b[0m\u001b[32m\\]\n",
                        "\n",
                        "最后，\u001b[0m\u001b[32m将399\u001b[0m\u001b[32m加到结果上\u001b[0m\u001b[32m：\n",
                        "\n",
                        "\\[\n",
                        "3\u001b[0m\u001b[32m7800\u001b[0m\u001b[32m + 39\u001b[0m\u001b[32m9 = 3\u001b[0m\u001b[32m8199\u001b[0m\u001b[32m\n",
                        "\\]\n",
                        "\n",
                        "因此\u001b[0m\u001b[32m，\\(11\u001b[0m\u001b[32m9 \\times \u001b[0m\u001b[32m321\\)\u001b[0m\u001b[32m 的结果是 \\\u001b[0m\u001b[32m(\\boxed{3\u001b[0m\u001b[32m8199\u001b[0m\u001b[32m}\\)。\u001b[0m\u001b[32m\u001b[0m\n",
                        "[AGENT] \u001b[34mROUND 2 @芊芊\u001b[0m\n",
                        "\u001b[32m<final\u001b[0m\u001b[32m_answer\u001b[0m\u001b[32m>\n",
                        "\u001b[0m\u001b[32m根据 @数学专家\u001b[0m\u001b[32m 的计算，1\u001b[0m\u001b[32m19乘以\u001b[0m\u001b[32m321的结果\u001b[0m\u001b[32m是381\u001b[0m\u001b[32m99。\n",
                        "</\u001b[0m\u001b[32mfinal_answer> \n",
                        "\n",
                        "\u001b[0m\u001b[32m鉴于此任务已经\u001b[0m\u001b[32m由我们的数学专家\u001b[0m\u001b[32m计算完毕并且得\u001b[0m\u001b[32m出了最终的答案，\u001b[0m\u001b[32m目前不需要进一步的任务\u001b[0m\u001b[32m规划或子任务\u001b[0m\u001b[32m分配。任务可以\u001b[0m\u001b[32m到此为止。\u001b[0m\u001b[32m\u001b[0m\n"
                    ]
                },
                {
                    "data": {
                        "text/plain": [
                            "'\\n根据 @数学专家 的计算，119乘以321的结果是38199。\\n'"
                        ]
                    },
                    "execution_count": 9,
                    "metadata": {},
                    "output_type": "execute_result"
                }
            ],
            "source": [
                "team(\"119乘以321是多少?\")"
            ]
        },
        {
            "cell_type": "code",
            "execution_count": 13,
            "id": "795f8a8a-e10b-429f-8202-ad436d421abe",
            "metadata": {},
            "outputs": [
                {
                    "name": "stdout",
                    "output_type": "stream",
                    "text": [
                        "\u001b[32m11\u001b[0m\u001b[32m9\u001b[0m\u001b[32m乘\u001b[0m\u001b[32m以321\u001b[0m\u001b[32m的结果是 3\u001b[0m\u001b[32m8299\u001b[0m\u001b[32m。\u001b[0m\u001b[32m\u001b[0m\n"
                    ]
                },
                {
                    "data": {
                        "text/plain": [
                            "'119乘以321的结果是 38299。'"
                        ]
                    },
                    "execution_count": 13,
                    "metadata": {},
                    "output_type": "execute_result"
                }
            ],
            "source": [
                "leader(\"119乘以321是多少\", new_chat=True)"
            ]
        },
        {
            "cell_type": "code",
            "execution_count": 14,
            "id": "12e6d05a-40bc-434f-81b7-b0729434b53a",
            "metadata": {},
            "outputs": [
                {
                    "data": {
                        "text/plain": [
                            "{'last_output': '\\n根据 @数学专家 的计算，119乘以321的结果是38199。\\n',\n",
                            " 'members': '[{\"成员名字\": \"起名专家\", \"擅长能力\": \"擅长为孩子起名，其他不会。\"}, {\"成员名字\": \"写手\", \"擅长能力\": \"擅长写儿歌，其他不会。\"}, {\"成员名字\": \"数学专家\", \"擅长能力\": \"擅长解决明确的数学问题，即使是简单的数学问题也必须找我来解决。但时间安排等其他问题我不会。\"}]',\n",
                            " 'completed_teamwork': '[总任务目标] 119乘以321是多少?\\n[行动] #E1 子任务交给 @数学专家, 要求为 计算119乘以321的结果。\\n[观察] @数学专家 已完成 #E1 子任务，回复内容为 要计算 \\\\(119 \\\\times 321\\\\) 的结果，我们可以使用乘法的分配律（对于二项式，也称为FOIL方法）。首先，我们将每个数表示为100的和或差：\\n\\n\\\\[119 = 100 + 19\\\\]\\n\\\\[321 = 300 + 21\\\\]\\n\\n现在，我们使用分配律来展开乘积 \\\\((100 + 19)(300 + 21)\\\\)：\\n\\n\\\\[\\n(100 + 19)(300 + 21) = 100 \\\\cdot 300 + 100 \\\\cdot 21 + 19 \\\\cdot 300 + 19 \\\\cdot 21\\n\\\\]\\n\\n接下来，我们分别计算每个项：\\n\\n\\\\[\\n100 \\\\cdot 300 = 30000\\n\\\\]\\n\\\\[\\n100 \\\\cdot 21 = 2100\\n\\\\]\\n\\\\[\\n19 \\\\cdot 300 = 5700\\n\\\\]\\n\\\\[\\n19 \\\\cdot 21 = 399\\n\\\\]\\n\\n现在，我们将这些乘积相加：\\n\\n\\\\[\\n30000 + 2100 + 5700 + 399\\n\\\\]\\n\\n首先，将30000和2100相加：\\n\\n\\\\[\\n30000 + 2100 = 32100\\n\\\\]\\n\\n接下来，将5700加到结果上：\\n\\n\\\\[\\n32100 + 5700 = 37800\\n\\\\]\\n\\n最后，将399加到结果上：\\n\\n\\\\[\\n37800 + 399 = 38199\\n\\\\]\\n\\n因此，\\\\(119 \\\\times 321\\\\) 的结果是 \\\\(\\\\boxed{38199}\\\\)。\\n[最终答案] \\n\\n根据 @数学专家 的计算，119乘以321的结果是38199。\\n'}"
                        ]
                    },
                    "execution_count": 14,
                    "metadata": {},
                    "output_type": "execute_result"
                }
            ],
            "source": [
                "team.provider_dict"
            ]
        },
        {
            "cell_type": "markdown",
            "id": "176f644b-08e7-444d-a486-cba19a4cea72",
            "metadata": {},
            "source": [
                "### 较难的数学问题"
            ]
        },
        {
            "cell_type": "code",
            "execution_count": 2,
            "id": "eca67dbc-e64a-4336-9d8c-e6ace46d87c9",
            "metadata": {},
            "outputs": [],
            "source": [
                "question = \"\"\"\n",
                "一种减速机的价格是750元，一家企业需要购买12台。\n",
                "每一台减速机运行一小时的电费是0.5元，企业每天运行这些减速机8小时，单周休1天，双周休六日两天。\n",
                "请计算企业购买这些设备，并运行4周，总花费多少？\n",
                "\"\"\""
            ]
        },
        {
            "cell_type": "code",
            "execution_count": 4,
            "id": "504367ea-49a5-434c-9727-1808c1c6db0f",
            "metadata": {},
            "outputs": [
                {
                    "name": "stdout",
                    "output_type": "stream",
                    "text": [
                        "[AGENT] \u001b[34mROUND 1 @芊芊\u001b[0m\n",
                        "\u001b[32m**思考\u001b[0m\u001b[32m**\n",
                        "\n",
                        "\u001b[0m\u001b[32m首先\u001b[0m\u001b[32m，我们需要确定企业\u001b[0m\u001b[32m购买这些减速机\u001b[0m\u001b[32m的总成本，\u001b[0m\u001b[32m然后计算出在\u001b[0m\u001b[32m四周内运行这些\u001b[0m\u001b[32m机器所产生的电费。\u001b[0m\u001b[32m最后，将两者\u001b[0m\u001b[32m相加得到总\u001b[0m\u001b[32m花费。\n",
                        "\n",
                        "具体来说\u001b[0m\u001b[32m，我们有以下\u001b[0m\u001b[32m信息：\n",
                        "\n",
                        "1.\u001b[0m\u001b[32m 每台\u001b[0m\u001b[32m减速机的价格为\u001b[0m\u001b[32m750元\u001b[0m\u001b[32m，企业需要购买\u001b[0m\u001b[32m12台。\n",
                        "\u001b[0m\u001b[32m2. \u001b[0m\u001b[32m每台减速机\u001b[0m\u001b[32m运行一小时的\u001b[0m\u001b[32m电费是0.\u001b[0m\u001b[32m5元。\n",
                        "3\u001b[0m\u001b[32m. 企业每天\u001b[0m\u001b[32m运行这些减速机\u001b[0m\u001b[32m8小时。\n",
                        "4\u001b[0m\u001b[32m. 单周\u001b[0m\u001b[32m休1天，\u001b[0m\u001b[32m双周休6\u001b[0m\u001b[32m天，这意味着在\u001b[0m\u001b[32m四个星期内，\u001b[0m\u001b[32m会有两周是工作\u001b[0m\u001b[32m6天，另外\u001b[0m\u001b[32m两周是工作5\u001b[0m\u001b[32m天。\n",
                        "\n",
                        "接下来，\u001b[0m\u001b[32m我们将根据以上信息\u001b[0m\u001b[32m进行计算。\n",
                        "\n",
                        "**\u001b[0m\u001b[32m决策**\n",
                        "由于这些\u001b[0m\u001b[32m任务不涉及任何\u001b[0m\u001b[32m团队成员的专业领域\u001b[0m\u001b[32m，我可以自行解决\u001b[0m\u001b[32m。\n",
                        "\n",
                        "<self_solve\u001b[0m\u001b[32m>\n",
                        "1. \u001b[0m\u001b[32m计算购买减速\u001b[0m\u001b[32m机的总成本\u001b[0m\u001b[32m：750\u001b[0m\u001b[32m元/台 *\u001b[0m\u001b[32m 12台\u001b[0m\u001b[32m = 90\u001b[0m\u001b[32m00元\n",
                        "\u001b[0m\u001b[32m2. 计\u001b[0m\u001b[32m算四周内总共\u001b[0m\u001b[32m工作的天数：\u001b[0m\u001b[32m对于单周休\u001b[0m\u001b[32m一天的情况，每周\u001b[0m\u001b[32m工作6天；\u001b[0m\u001b[32m对于双周休\u001b[0m\u001b[32m两天的情况，每周\u001b[0m\u001b[32m工作5天。\u001b[0m\u001b[32m所以，在四周内\u001b[0m\u001b[32m，工作天数\u001b[0m\u001b[32m为2*6\u001b[0m\u001b[32m + 2*\u001b[0m\u001b[32m5 = 2\u001b[0m\u001b[32m2天。\n",
                        "3\u001b[0m\u001b[32m. 计算\u001b[0m\u001b[32m每天的电费：\u001b[0m\u001b[32m每台机器每天\u001b[0m\u001b[32m运行8小时，\u001b[0m\u001b[32m因此每天的电费\u001b[0m\u001b[32m为0.5\u001b[0m\u001b[32m元/小时 *\u001b[0m\u001b[32m 8小时 =\u001b[0m\u001b[32m 4元/\u001b[0m\u001b[32m台。那么，\u001b[0m\u001b[32m所有机器一起每天\u001b[0m\u001b[32m的电费为4\u001b[0m\u001b[32m元/台 *\u001b[0m\u001b[32m 12台\u001b[0m\u001b[32m = 48\u001b[0m\u001b[32m元。\n",
                        "4.\u001b[0m\u001b[32m 计算四周\u001b[0m\u001b[32m内的总电费：\u001b[0m\u001b[32m48元/\u001b[0m\u001b[32m天 * 2\u001b[0m\u001b[32m2天 = \u001b[0m\u001b[32m1056\u001b[0m\u001b[32m元。\n",
                        "5.\u001b[0m\u001b[32m 最后，计算\u001b[0m\u001b[32m总花费：购买\u001b[0m\u001b[32m成本+电费=\u001b[0m\u001b[32m9000\u001b[0m\u001b[32m元 + 1\u001b[0m\u001b[32m056元\u001b[0m\u001b[32m = 10\u001b[0m\u001b[32m056元\u001b[0m\u001b[32m。\n",
                        "</self_solve\u001b[0m\u001b[32m>\n",
                        "\n",
                        "<final_answer\u001b[0m\u001b[32m>\n",
                        "企业购买这些\u001b[0m\u001b[32m设备，并运行4\u001b[0m\u001b[32m周，总花费\u001b[0m\u001b[32m为100\u001b[0m\u001b[32m56元。\n",
                        "\u001b[0m\u001b[32m</final_answer>\u001b[0m\u001b[32m\u001b[0m\n"
                    ]
                },
                {
                    "data": {
                        "text/plain": [
                            "'\\n企业购买这些设备，并运行4周，总花费为10056元。\\n'"
                        ]
                    },
                    "execution_count": 4,
                    "metadata": {},
                    "output_type": "execute_result"
                }
            ],
            "source": [
                "team(question)"
            ]
        },
        {
            "cell_type": "code",
            "execution_count": 5,
            "id": "18557c9e-ca56-41b7-8705-f57b64030dfe",
            "metadata": {},
            "outputs": [
                {
                    "name": "stdout",
                    "output_type": "stream",
                    "text": [
                        "[总任务目标] \n",
                        "一种减速机的价格是750元，一家企业需要购买12台。\n",
                        "每一台减速机运行一小时的电费是0.5元，企业每天运行这些减速机8小时，单周休1天，双周休六日两天。\n",
                        "请计算企业购买这些设备，并运行4周，总花费多少？\n",
                        "\n",
                        "[行动] 该子任务自己解决，结果为 \n",
                        "1. 计算购买减速机的总成本：750元/台 * 12台 = 9000元\n",
                        "2. 计算四周内总共工作的天数：对于单周休一天的情况，每周工作6天；对于双周休两天的情况，每周工作5天。所以，在四周内，工作天数为2*6 + 2*5 = 22天。\n",
                        "3. 计算每天的电费：每台机器每天运行8小时，因此每天的电费为0.5元/小时 * 8小时 = 4元/台。那么，所有机器一起每天的电费为4元/台 * 12台 = 48元。\n",
                        "4. 计算四周内的总电费：48元/天 * 22天 = 1056元。\n",
                        "5. 最后，计算总花费：购买成本+电费=9000元 + 1056元 = 10056元。\n",
                        "\n",
                        "[最终答案] \n",
                        "\n",
                        "企业购买这些设备，并运行4周，总花费为10056元。\n",
                        "\n"
                    ]
                }
            ],
            "source": [
                "print(team.provider_dict['completed_teamwork'])"
            ]
        },
        {
            "cell_type": "code",
            "execution_count": null,
            "id": "5c7006b6-c741-4c1b-87b6-dcf2a8d0e560",
            "metadata": {},
            "outputs": [],
            "source": []
        }
    ],
    "metadata": {
        "kernelspec": {
            "display_name": "textlong-same-ipykernel",
            "language": "python",
            "name": "textlong-same-ipykernel"
        },
        "language_info": {
            "codemirror_mode": {
                "name": "ipython",
                "version": 3
            },
            "file_extension": ".py",
            "mimetype": "text/x-python",
            "name": "python",
            "nbconvert_exporter": "python",
            "pygments_lexer": "ipython3",
            "version": "3.10.0"
        }
    },
    "nbformat": 4,
    "nbformat_minor": 5
}