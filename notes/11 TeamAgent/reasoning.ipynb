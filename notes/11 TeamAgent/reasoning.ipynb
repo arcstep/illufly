{
    "cells": [
        {
            "cell_type": "markdown",
            "id": "d00ce55f-871e-4a9e-8fba-3052121353da",
            "metadata": {},
            "source": [
                "## 对话模型推理"
            ]
        },
        {
            "cell_type": "code",
            "execution_count": 4,
            "id": "7f7d6571-4251-407d-b4b1-50e48b02a4c5",
            "metadata": {},
            "outputs": [
                {
                    "name": "stdout",
                    "output_type": "stream",
                    "text": [
                        "\n",
                        "你是强大的写作助理。\n",
                        "\n",
                        "请根据我的任务要求返回需要执行的工具函数，可以返回一个、多个，也可以不返回。\n",
                        "\n",
                        "可用的工具函数包括：\n",
                        "get_current_weather\n",
                        "\n",
                        "如果你决定返回工具函数描述，请遵循如下格式：\n",
                        "[{'type': 'function', 'function': {'name': 'get_current_weather', 'description': '获取城市的天气情况', 'parameters': {'type': 'object', 'properties': {'location': {'type': 'string', 'description': ''}}, 'required': ['location']}}}]\n",
                        "从列表 [get_current_weather] 中选择一个或多个funciton，并按照下面的格式输出函数描述列表，描述每个函数的名称和参数：\n",
                        "```json <tools-calling>\n",
                        "[{\"index\": \"integer: index of selected function\", \"function\": {\"name\": \"(string): 填写选中工具的参数名称\", \"parameters\": \"(json): 填写具体参数值\"}}]\n",
                        "```\n",
                        "**工具函数输出示例：**\n",
                        "```json\n",
                        "[{\"index\": 0, \"function\": {\"name\": \"get_current_weather\", \"parameters\": \"{\"location\": \"广州\"}\"}},\n",
                        "{\"index\": 1, \"function\": {\"name\": \"get_current_weather\", \"parameters\": \"{\"location\": \"上海\"}\"}}]\n",
                        "```\n",
                        "\n"
                    ]
                }
            ],
            "source": [
                "qwen = ChatQwen(tools=[mytool])\n",
                "\n",
                "text = f\"\"\"\n",
                "你是强大的写作助理。\n",
                "\n",
                "请根据我的任务要求返回需要执行的工具函数，可以返回一个、多个，也可以不返回。\n",
                "\n",
                "可用的工具函数包括：\n",
                "{qwen.get_tools_name()}\n",
                "\n",
                "如果你决定返回工具函数描述，请遵循如下格式：\n",
                "{qwen.get_tools_desc()}\n",
                "{qwen.get_tools_instruction()}\n",
                "\"\"\"\n",
                "\n",
                "print(text)"
            ]
        },
        {
            "cell_type": "code",
            "execution_count": 4,
            "id": "0c636d5a-8a20-49ab-b59f-38eeb467f615",
            "metadata": {},
            "outputs": [
                {
                    "name": "stdout",
                    "output_type": "stream",
                    "text": [
                        "\n",
                        "For the following task, make plans that can solve the problem step by step. \n",
                        "For each plan, indicate which external tool together with tool input to retrieve evidence. \n",
                        "You can store the evidence into a variable #E that can be called by later tools. (Plan, #E1, Plan, #E2, Plan, ...)\n",
                        "\n",
                        "Tools can be one of the following:\n",
                        "(1) Google[input]: Worker that searches results from Google. Useful when you need to find shortand succinct answers about a specific topic. The input should be a search query.\n",
                        "(2) LLM[input]: A pretrained LLM like yourself. Useful when you need to act with generalworld knowledge and common sense. Prioritize it when you are confident in solving the problemyourself. Input can be any instruction.\n",
                        "\n",
                        "For example,\n",
                        "\n",
                        "Task: Thomas, Toby, and Rebecca worked a total of 157 hours in one week. Thomas worked xhours. Toby worked 10 hours less than twice what Thomas worked, and Rebecca worked 8 hoursless than Toby. How many hours did Rebecca work?\n",
                        "Plan: Given Thomas worked x hours, translate the problem into algebraic expressions and solvewith Wolfram Alpha. #E1 = WolframAlpha[Solve x + (2x − 10) + ((2x − 10) − 8) = 157]\n",
                        "Plan: Find out the number of hours Thomas worked. #E2 = LLM[What is x, given #E1]\n",
                        "Plan: Calculate the number of hours Rebecca worked. #E3 = Calculator[(2 ∗ #E2 − 10) − 8]\n",
                        "\n",
                        "Begin! Describe your plans with rich details. Each Plan should be followed by only one #E.\n",
                        "\n",
                        "Task: 请你帮指定周六带全家去上海游玩的计划\n",
                        "\n"
                    ]
                }
            ],
            "source": [
                "task = \"请你帮指定周六带全家去上海游玩的计划\"\n",
                "\n",
                "text = f\"\"\"\n",
                "For the following task, make plans that can solve the problem step by step. \n",
                "For each plan, indicate which external tool together with tool input to retrieve evidence. \n",
                "You can store the evidence into a variable #E that can be called by later tools. (Plan, #E1, Plan, #E2, Plan, ...)\n",
                "\n",
                "Tools can be one of the following:\n",
                "{qwen.get_tools_desc()}\n",
                "\n",
                "For example,\n",
                "\n",
                "Task: Thomas, Toby, and Rebecca worked a total of 157 hours in one week. Thomas worked xhours. Toby worked 10 hours less than twice what Thomas worked, and Rebecca worked 8 hoursless than Toby. How many hours did Rebecca work?\n",
                "Plan: Given Thomas worked x hours, translate the problem into algebraic expressions and solvewith Wolfram Alpha. #E1 = WolframAlpha[Solve x + (2x − 10) + ((2x − 10) − 8) = 157]\n",
                "Plan: Find out the number of hours Thomas worked. #E2 = LLM[What is x, given #E1]\n",
                "Plan: Calculate the number of hours Rebecca worked. #E3 = Calculator[(2 ∗ #E2 − 10) − 8]\n",
                "\n",
                "Begin! Describe your plans with rich details. Each Plan should be followed by only one #E.\n",
                "\n",
                "Task: {task}\n",
                "\"\"\"\n",
                "\n",
                "print(text)"
            ]
        },
        {
            "cell_type": "code",
            "execution_count": 14,
            "id": "d599719e-7a19-4ea3-b816-f163ae1730b4",
            "metadata": {},
            "outputs": [
                {
                    "name": "stdout",
                    "output_type": "stream",
                    "text": [
                        "\n",
                        "1. For the following task, make plans that can solve the problem step by step. \n",
                        "2. For each plan, indicate which external tool together with tool input to retrieve evidence. \n",
                        "3. You can store the evidence into a variable #E that can be called by later tools. (Plan, #E1, Plan, #E2, Plan, ...)\n",
                        "4. 请帮我根据引用关系，整理工具的调用批次，将可以并行执行的工具放入同一批次\n",
                        "\n",
                        "Tools can be one of the following:\n",
                        "(1) Google[input]: Worker that searches results from Google. Useful when you need to find shortand succinct answers about a specific topic. The input should be a search query.\n",
                        "(2) LLM[input]: A pretrained LLM like yourself. Useful when you need to act with generalworld knowledge and common sense. Prioritize it when you are confident in solving the problemyourself. Input can be any instruction.\n",
                        "\n",
                        "plan example,\n",
                        "\n",
                        "Task: Thomas, Toby, and Rebecca worked a total of 157 hours in one week. Thomas worked xhours. Toby worked 10 hours less than twice what Thomas worked, and Rebecca worked 8 hoursless than Toby. How many hours did Rebecca work?\n",
                        "Plan: Given Thomas worked x hours, translate the problem into algebraic expressions and solvewith Wolfram Alpha. #E1 = WolframAlpha[Solve x + (2x − 10) + ((2x − 10) − 8) = 157]\n",
                        "Plan: Find out the number of hours Thomas worked. #E2 = LLM[What is x, given #E1]\n",
                        "Plan: Calculate the number of hours Rebecca worked. #E3 = Calculator[(2 ∗ #E2 − 10) − 8]\n",
                        "\n",
                        "Begin! Describe your plans with rich details. \n",
                        "\n",
                        "Task: 请你帮结合最热门题材策划一个修仙小说大纲，200字\n",
                        "\n",
                        "batch example,\n",
                        "\n",
                        "#E1, #E2\n",
                        "#E3\n",
                        "\n"
                    ]
                }
            ],
            "source": [
                "task = \"请你帮我策划一个修仙小说大纲，200字\"\n",
                "\n",
                "text = f\"\"\"\n",
                "1. For the following task, make plans that can solve the problem step by step. \n",
                "2. For each plan, indicate which external tool together with tool input to retrieve evidence. \n",
                "3. You can store the evidence into a variable #E that can be called by later tools. (Plan, #E1, Plan, #E2, Plan, ...)\n",
                "4. 请帮我根据引用关系，整理工具的调用批次，将可以并行执行的工具放入同一批次\n",
                "\n",
                "Tools can be one of the following:\n",
                "(1) Google[input]: Worker that searches results from Google. Useful when you need to find shortand succinct answers about a specific topic. The input should be a search query.\n",
                "(2) LLM[input]: A pretrained LLM like yourself. Useful when you need to act with generalworld knowledge and common sense. Prioritize it when you are confident in solving the problemyourself. Input can be any instruction.\n",
                "\n",
                "plan example,\n",
                "\n",
                "Task: Thomas, Toby, and Rebecca worked a total of 157 hours in one week. Thomas worked xhours. Toby worked 10 hours less than twice what Thomas worked, and Rebecca worked 8 hoursless than Toby. How many hours did Rebecca work?\n",
                "Plan: Given Thomas worked x hours, translate the problem into algebraic expressions and solvewith Wolfram Alpha. #E1 = WolframAlpha[Solve x + (2x − 10) + ((2x − 10) − 8) = 157]\n",
                "Plan: Find out the number of hours Thomas worked. #E2 = LLM[What is x, given #E1]\n",
                "Plan: Calculate the number of hours Rebecca worked. #E3 = Calculator[(2 ∗ #E2 − 10) − 8]\n",
                "\n",
                "Begin! Describe your plans with rich details. \n",
                "\n",
                "Task: {task}\n",
                "\n",
                "batch example,\n",
                "\n",
                "#E1, #E2\n",
                "#E3\n",
                "\"\"\"\n",
                "\n",
                "print(text)"
            ]
        },
        {
            "cell_type": "code",
            "execution_count": 15,
            "id": "41605bc6-059b-408b-b8c1-d285d3d1f444",
            "metadata": {},
            "outputs": [
                {
                    "name": "stdout",
                    "output_type": "stream",
                    "text": [
                        "\u001b[32mPlan\u001b[0m\u001b[32m:\u001b[0m\u001b[32m \u001b[0m\u001b[32m首先，通过\u001b[0m\u001b[32mGoogle搜索了解当前最热门的修\u001b[0m\u001b[32m仙小说题材和元素。#E\u001b[0m\u001b[32m1 = Google[当前最热门的\u001b[0m\u001b[32m修仙小说题材]\n",
                        "\n",
                        "Plan: \u001b[0m\u001b[32m根据搜索结果，结合通用的世界\u001b[0m\u001b[32m构建知识，构思一个新颖而吸引\u001b[0m\u001b[32m人的背景设定。#E2 =\u001b[0m\u001b[32m LLM[基于#E1，\u001b[0m\u001b[32m创造一个独特的修仙世界背景]\n",
                        "\n",
                        "\u001b[0m\u001b[32mPlan: 设计主角及其性格特点\u001b[0m\u001b[32m，确保其具有成长性并与背景\u001b[0m\u001b[32m设定紧密结合。#E3 = L\u001b[0m\u001b[32mLM[创造一个与#E2\u001b[0m\u001b[32m世界相匹配，具有鲜明个性和\u001b[0m\u001b[32m成长空间的主角]\n",
                        "\n",
                        "Plan: \u001b[0m\u001b[32m确定小说中的主要冲突与\u001b[0m\u001b[32m挑战，这些应反映出修仙世界的\u001b[0m\u001b[32m残酷法则及主角的成长路径。#\u001b[0m\u001b[32mE4 = LLM[基于#\u001b[0m\u001b[32mE2和#E3，设计\u001b[0m\u001b[32m小说的主要冲突和修行挑战]\n",
                        "\n",
                        "Plan\u001b[0m\u001b[32m: 创造几个关键的配\u001b[0m\u001b[32m角，包括盟友和对手，\u001b[0m\u001b[32m他们的存在需推动故事发展并深化\u001b[0m\u001b[32m主题。#E5 = LLM\u001b[0m\u001b[32m[围绕#E3的主角，\u001b[0m\u001b[32m设计几个有深度、能促进情节\u001b[0m\u001b[32m发展的配角角色]\n",
                        "\n",
                        "Plan: \u001b[0m\u001b[32m概括小说的起承转合\u001b[0m\u001b[32m，确保剧情紧凑且高潮迭起\u001b[0m\u001b[32m，同时体现修仙小说特有的修炼\u001b[0m\u001b[32m升级体系。#E6 = L\u001b[0m\u001b[32mLM[整合#E2至#\u001b[0m\u001b[32mE5的内容，编写一个包含起\u001b[0m\u001b[32m始、发展、转折和结局的\u001b[0m\u001b[32m简要大纲，约200\u001b[0m\u001b[32m字]\n",
                        "\n",
                        "#E1\n",
                        "#E\u001b[0m\u001b[32m2, #E3\n",
                        "#E\u001b[0m\u001b[32m4\n",
                        "#E5\n",
                        "#E\u001b[0m\u001b[32m6\u001b[0m\u001b[32m\u001b[0m\n",
                        "\n"
                    ]
                }
            ],
            "source": [
                "q = ChatQwen(memory=text)\n",
                "log(q, \"请开始\")"
            ]
        },
        {
            "cell_type": "code",
            "execution_count": null,
            "id": "ac95de2b-1ccb-4dbb-9731-84bfaf660e6b",
            "metadata": {},
            "outputs": [],
            "source": [
                "solve_prompt = \"\"\"\n",
                "Solve the following task or problem. \n",
                "To solve the problem, we have made step-by-step Plan and retrieved corresponding Evidence to each Plan. \n",
                "Use them with caution since long evidence might contain irrelevant information.\n",
                "\n",
                "{plan}\n",
                "\n",
                "Now solve the question or task according to provided Evidence above. \n",
                "Respond with the answerdirectly with no extra words.\n",
                "\n",
                "Task: {task}\n",
                "Response:\n",
                "\"\"\""
            ]
        },
        {
            "cell_type": "code",
            "execution_count": 5,
            "id": "262512af-cd23-451b-9424-ab48cc52d43d",
            "metadata": {},
            "outputs": [
                {
                    "name": "stdout",
                    "output_type": "stream",
                    "text": [
                        "\u001b[32m为了\u001b[0m\u001b[32m创作\u001b[0m\u001b[32m这首\u001b[0m\u001b[32m儿歌，我首先\u001b[0m\u001b[32m需要获取北京和巴黎当前的天气\u001b[0m\u001b[32m情况。之后，我会根据这两个城市的\u001b[0m\u001b[32m天气信息来撰写儿歌。让我们\u001b[0m\u001b[32m先调用天气查询工具。\n",
                        "\n",
                        "```\u001b[0m\u001b[32mjson\n",
                        "[{\"index\": 0\u001b[0m\u001b[32m, \"function\": {\"name\": \"\u001b[0m\u001b[32mget_current_weather\", \"parameters\": \"{\\\"\u001b[0m\u001b[32mlocation\\\": \\\"北京\\\"\"}}},\n",
                        "{\"\u001b[0m\u001b[32mindex\": 1, \"function\":\u001b[0m\u001b[32m {\"name\": \"get_current_weather\",\u001b[0m\u001b[32m \"parameters\": \"{\\\"location\\\": \\\"巴黎\u001b[0m\u001b[32m\\\"\"}}}]\n",
                        "```\u001b[0m\u001b[32m\u001b[0m"
                    ]
                },
                {
                    "data": {
                        "text/plain": [
                            "'为了创作这首儿歌，我首先需要获取北京和巴黎当前的天气情况。之后，我会根据这两个城市的天气信息来撰写儿歌。让我们先调用天气查询工具。\\n\\n```json\\n[{\"index\": 0, \"function\": {\"name\": \"get_current_weather\", \"parameters\": \"{\\\\\"location\\\\\": \\\\\"北京\\\\\"\"}}},\\n{\"index\": 1, \"function\": {\"name\": \"get_current_weather\", \"parameters\": \"{\\\\\"location\\\\\": \\\\\"巴黎\\\\\"\"}}}]\\n```'"
                        ]
                    },
                    "execution_count": 5,
                    "metadata": {},
                    "output_type": "execute_result"
                }
            ],
            "source": [
                "q = ChatQwen(memory=text)\n",
                "log(q, \"帮我根据北京和巴黎的天气写一首四句儿歌\")"
            ]
        }
    ],
    "metadata": {
        "kernelspec": {
            "display_name": "textlong-same-ipykernel",
            "language": "python",
            "name": "textlong-same-ipykernel"
        },
        "language_info": {
            "codemirror_mode": {
                "name": "ipython",
                "version": 3
            },
            "file_extension": ".py",
            "mimetype": "text/x-python",
            "name": "python",
            "nbconvert_exporter": "python",
            "pygments_lexer": "ipython3",
            "version": "3.10.0"
        }
    },
    "nbformat": 4,
    "nbformat_minor": 5
}