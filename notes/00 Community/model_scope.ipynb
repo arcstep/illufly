{
 "cells": [
  {
   "cell_type": "markdown",
   "id": "9d29c40a-2a13-4a7f-a465-189d2ea5ead2",
   "metadata": {},
   "source": [
    "# 魔搭社区"
   ]
  },
  {
   "cell_type": "markdown",
   "id": "30e55ec8-ba21-4701-96d5-6a54f9199b24",
   "metadata": {},
   "source": [
    "## 对话模型"
   ]
  },
  {
   "cell_type": "markdown",
   "id": "a56ebc64-4071-443b-8143-c7a3b2182eea",
   "metadata": {},
   "source": [
    "### 同步调用"
   ]
  },
  {
   "cell_type": "code",
   "execution_count": 1,
   "id": "54add976-5cc5-42af-96c2-55851d0178b0",
   "metadata": {},
   "outputs": [
    {
     "name": "stdout",
     "output_type": "stream",
     "text": [
      "\u001b[32m当然\u001b[0m\u001b[32m可以\u001b[0m\u001b[32m，\u001b[0m\u001b[32m下面是\u001b[0m\u001b[32m根据\u001b[0m\u001b[32m您的\u001b[0m\u001b[32m要求\u001b[0m\u001b[32m创作\u001b[0m\u001b[32m的一\u001b[0m\u001b[32m首\u001b[0m\u001b[32m关于\u001b[0m\u001b[32m兔子\u001b[0m\u001b[32m做梦\u001b[0m\u001b[32m的\u001b[0m\u001b[32m四\u001b[0m\u001b[32m句\u001b[0m\u001b[32m儿\u001b[0m\u001b[32m歌\u001b[0m\u001b[32m：\n",
      "\n",
      "\u001b[0m\u001b[32m月亮\u001b[0m\u001b[32m爬上\u001b[0m\u001b[32m山顶\u001b[0m\u001b[32m时\u001b[0m\u001b[32m，\u001b[0m\u001b[32m小\u001b[0m\u001b[32m兔\u001b[0m\u001b[32m悄悄\u001b[0m\u001b[32m入\u001b[0m\u001b[32m梦\u001b[0m\u001b[32m乡\u001b[0m\u001b[32m；\n",
      "\u001b[0m\u001b[32m草\u001b[0m\u001b[32m褥\u001b[0m\u001b[32m柔软\u001b[0m\u001b[32m如\u001b[0m\u001b[32m碧\u001b[0m\u001b[32m纱\u001b[0m\u001b[32m，\u001b[0m\u001b[32m轻\u001b[0m\u001b[32m抚\u001b[0m\u001b[32m它\u001b[0m\u001b[32m嫩\u001b[0m\u001b[32m白\u001b[0m\u001b[32m的\u001b[0m\u001b[32m身旁\u001b[0m\u001b[32m。\n",
      "\u001b[0m\u001b[32m梦\u001b[0m\u001b[32m里\u001b[0m\u001b[32m草\u001b[0m\u001b[32m地上\u001b[0m\u001b[32m花开\u001b[0m\u001b[32m，\u001b[0m\u001b[32m彩色\u001b[0m\u001b[32m蝴蝶\u001b[0m\u001b[32m翩\u001b[0m\u001b[32m翩\u001b[0m\u001b[32m舞\u001b[0m\u001b[32m，\n",
      "\u001b[0m\u001b[32m小\u001b[0m\u001b[32m兔\u001b[0m\u001b[32m欢\u001b[0m\u001b[32m笑\u001b[0m\u001b[32m踏\u001b[0m\u001b[32m春\u001b[0m\u001b[32m来\u001b[0m\u001b[32m，\u001b[0m\u001b[32m夜\u001b[0m\u001b[32m色\u001b[0m\u001b[32m中\u001b[0m\u001b[32m自由\u001b[0m\u001b[32m飞翔\u001b[0m\u001b[32m。\n",
      "\n",
      "\u001b[0m\u001b[32m希望\u001b[0m\u001b[32m这首歌\u001b[0m\u001b[32m能够\u001b[0m\u001b[32m引起\u001b[0m\u001b[32m孩子们\u001b[0m\u001b[32m的\u001b[0m\u001b[32m想象\u001b[0m\u001b[32m，\u001b[0m\u001b[32m带\u001b[0m\u001b[32m他们\u001b[0m\u001b[32m进入\u001b[0m\u001b[32m一个\u001b[0m\u001b[32m充满\u001b[0m\u001b[32m魔法\u001b[0m\u001b[32m与\u001b[0m\u001b[32m温柔\u001b[0m\u001b[32m的\u001b[0m\u001b[32m兔子\u001b[0m\u001b[32m梦想\u001b[0m\u001b[32m的世界\u001b[0m\u001b[32m。\u001b[0m\n",
      "[USAGE] \u001b[34m{\"prompt_tokens\": null, \"completion_tokens\": null, \"total_tokens\": null}\u001b[0m\n",
      "{\"block_type\": \"usage\", \"content\": \"{\\\"prompt_tokens\\\": null, \\\"completion_tokens\\\": null, \\\"total_tokens\\\": null}\", \"created_at\": \"2024-09-29T11:37:41.056757\", \"calling_info\": {\"request_id\": null, \"input\": {\"model\": \"qwen/Qwen2-7B-Instruct-GGUF\", \"messages\": [{\"role\": \"user\", \"content\": \"你能帮我写一首关于兔子做梦的四句儿歌?\"}], \"tools\": null, \"stream\": true, \"stream_options\": {\"include_usage\": true}}, \"output\": [{\"chunk\": \"当然\"}, {\"chunk\": \"可以\"}, {\"chunk\": \"，\"}, {\"chunk\": \"下面是\"}, {\"chunk\": \"根据\"}, {\"chunk\": \"您的\"}, {\"chunk\": \"要求\"}, {\"chunk\": \"创作\"}, {\"chunk\": \"的一\"}, {\"chunk\": \"首\"}, {\"chunk\": \"关于\"}, {\"chunk\": \"兔子\"}, {\"chunk\": \"做梦\"}, {\"chunk\": \"的\"}, {\"chunk\": \"四\"}, {\"chunk\": \"句\"}, {\"chunk\": \"儿\"}, {\"chunk\": \"歌\"}, {\"chunk\": \"：\\n\\n\"}, {\"chunk\": \"月亮\"}, {\"chunk\": \"爬上\"}, {\"chunk\": \"山顶\"}, {\"chunk\": \"时\"}, {\"chunk\": \"，\"}, {\"chunk\": \"小\"}, {\"chunk\": \"兔\"}, {\"chunk\": \"悄悄\"}, {\"chunk\": \"入\"}, {\"chunk\": \"梦\"}, {\"chunk\": \"乡\"}, {\"chunk\": \"；\\n\"}, {\"chunk\": \"草\"}, {\"chunk\": \"褥\"}, {\"chunk\": \"柔软\"}, {\"chunk\": \"如\"}, {\"chunk\": \"碧\"}, {\"chunk\": \"纱\"}, {\"chunk\": \"，\"}, {\"chunk\": \"轻\"}, {\"chunk\": \"抚\"}, {\"chunk\": \"它\"}, {\"chunk\": \"嫩\"}, {\"chunk\": \"白\"}, {\"chunk\": \"的\"}, {\"chunk\": \"身旁\"}, {\"chunk\": \"。\\n\"}, {\"chunk\": \"梦\"}, {\"chunk\": \"里\"}, {\"chunk\": \"草\"}, {\"chunk\": \"地上\"}, {\"chunk\": \"花开\"}, {\"chunk\": \"，\"}, {\"chunk\": \"彩色\"}, {\"chunk\": \"蝴蝶\"}, {\"chunk\": \"翩\"}, {\"chunk\": \"翩\"}, {\"chunk\": \"舞\"}, {\"chunk\": \"，\\n\"}, {\"chunk\": \"小\"}, {\"chunk\": \"兔\"}, {\"chunk\": \"欢\"}, {\"chunk\": \"笑\"}, {\"chunk\": \"踏\"}, {\"chunk\": \"春\"}, {\"chunk\": \"来\"}, {\"chunk\": \"，\"}, {\"chunk\": \"夜\"}, {\"chunk\": \"色\"}, {\"chunk\": \"中\"}, {\"chunk\": \"自由\"}, {\"chunk\": \"飞翔\"}, {\"chunk\": \"。\\n\\n\"}, {\"chunk\": \"希望\"}, {\"chunk\": \"这首歌\"}, {\"chunk\": \"能够\"}, {\"chunk\": \"引起\"}, {\"chunk\": \"孩子们\"}, {\"chunk\": \"的\"}, {\"chunk\": \"想象\"}, {\"chunk\": \"，\"}, {\"chunk\": \"带\"}, {\"chunk\": \"他们\"}, {\"chunk\": \"进入\"}, {\"chunk\": \"一个\"}, {\"chunk\": \"充满\"}, {\"chunk\": \"魔法\"}, {\"chunk\": \"与\"}, {\"chunk\": \"温柔\"}, {\"chunk\": \"的\"}, {\"chunk\": \"兔子\"}, {\"chunk\": \"梦想\"}, {\"chunk\": \"的世界\"}, {\"chunk\": \"。\"}]}, \"runnable_info\": {\"class_name\": \"ChatOpenAI\", \"agent_name\": \"ChatOpenAI\", \"agent_description\": \"\", \"model_name\": \"qwen/Qwen2-7B-Instruct-GGUF\", \"base_url\": \"https://ms*****************************************p.run/v1\", \"api_key\": \"ollama\"}}\n"
     ]
    },
    {
     "data": {
      "text/plain": [
       "[{'role': 'user', 'content': '你能帮我写一首关于兔子做梦的四句儿歌?'},\n",
       " {'role': 'assistant',\n",
       "  'content': '当然可以，下面是根据您的要求创作的一首关于兔子做梦的四句儿歌：\\n\\n月亮爬上山顶时，小兔悄悄入梦乡；\\n草褥柔软如碧纱，轻抚它嫩白的身旁。\\n梦里草地上花开，彩色蝴蝶翩翩舞，\\n小兔欢笑踏春来，夜色中自由飞翔。\\n\\n希望这首歌能够引起孩子们的想象，带他们进入一个充满魔法与温柔的兔子梦想的世界。'}]"
      ]
     },
     "execution_count": 1,
     "metadata": {},
     "output_type": "execute_result"
    }
   ],
   "source": [
    "from illufly.chat import ChatOpenAI\n",
    "from illufly.io import log, usage\n",
    "\n",
    "a = ChatOpenAI(imitator=\"QWEN2_7B\")\n",
    "a(\"你能帮我写一首关于兔子做梦的四句儿歌?\", handlers=[log, usage], verbose=True)\n",
    "a.memory"
   ]
  },
  {
   "cell_type": "markdown",
   "id": "928208a4-9f2b-44b8-8345-911925488f7f",
   "metadata": {},
   "source": [
    "### 异步调用"
   ]
  },
  {
   "cell_type": "code",
   "execution_count": 2,
   "id": "212d95fc-5dfd-4578-90d9-115736ab7ade",
   "metadata": {},
   "outputs": [
    {
     "name": "stdout",
     "output_type": "stream",
     "text": [
      "\u001b[32m当然\u001b[0m\u001b[32m可以\u001b[0m\u001b[32m，\u001b[0m\u001b[32m以下\u001b[0m\u001b[32m是一\u001b[0m\u001b[32m首\u001b[0m\u001b[32m关于\u001b[0m\u001b[32m兔子\u001b[0m\u001b[32m做梦\u001b[0m\u001b[32m的\u001b[0m\u001b[32m四\u001b[0m\u001b[32m句\u001b[0m\u001b[32m儿\u001b[0m\u001b[32m歌\u001b[0m\u001b[32m：\n",
      "\n",
      "\u001b[0m\u001b[32m\"\u001b[0m\u001b[32m月\u001b[0m\u001b[32m光\u001b[0m\u001b[32m洒\u001b[0m\u001b[32m满\u001b[0m\u001b[32m绿\u001b[0m\u001b[32m草原\u001b[0m\u001b[32m，\u001b[0m\u001b[32m兔子\u001b[0m\u001b[32m美\u001b[0m\u001b[32m梦\u001b[0m\u001b[32m展\u001b[0m\u001b[32m眼前\u001b[0m\u001b[32m。\n",
      "\u001b[0m\u001b[32m跳跃\u001b[0m\u001b[32m欢\u001b[0m\u001b[32m笑\u001b[0m\u001b[32m寻\u001b[0m\u001b[32m胡萝卜\u001b[0m\u001b[32m，\u001b[0m\u001b[32m梦\u001b[0m\u001b[32m中\u001b[0m\u001b[32m世界\u001b[0m\u001b[32m无\u001b[0m\u001b[32m边\u001b[0m\u001b[32m远\u001b[0m\u001b[32m。\n",
      "\n",
      "\u001b[0m\u001b[32m星星\u001b[0m\u001b[32m轻轻\u001b[0m\u001b[32m摇\u001b[0m\u001b[32m篮\u001b[0m\u001b[32m曲\u001b[0m\u001b[32m，\u001b[0m\u001b[32m引导\u001b[0m\u001b[32m它\u001b[0m\u001b[32m进入\u001b[0m\u001b[32m梦\u001b[0m\u001b[32m乡\u001b[0m\u001b[32m深\u001b[0m\u001b[32m邃\u001b[0m\u001b[32m。\n",
      "\u001b[0m\u001b[32m软\u001b[0m\u001b[32m床\u001b[0m\u001b[32m变成\u001b[0m\u001b[32m胡萝卜\u001b[0m\u001b[32m田\u001b[0m\u001b[32m，\u001b[0m\u001b[32m温暖\u001b[0m\u001b[32m怀抱\u001b[0m\u001b[32m是\u001b[0m\u001b[32m青\u001b[0m\u001b[32m草\u001b[0m\u001b[32m堆\u001b[0m\u001b[32m。\u001b[0m\u001b[32m\"\n",
      "\n",
      "\u001b[0m\u001b[32m这\u001b[0m\u001b[32m是一\u001b[0m\u001b[32m首\u001b[0m\u001b[32m以\u001b[0m\u001b[32m兔\u001b[0m\u001b[32m形象\u001b[0m\u001b[32m为主\u001b[0m\u001b[32m角\u001b[0m\u001b[32m的\u001b[0m\u001b[32m儿\u001b[0m\u001b[32m歌\u001b[0m\u001b[32m,\u001b[0m\u001b[32m \u001b[0m\u001b[32m通过\u001b[0m\u001b[32m生动\u001b[0m\u001b[32m的\u001b[0m\u001b[32m描述\u001b[0m\u001b[32m展现\u001b[0m\u001b[32m它\u001b[0m\u001b[32m在\u001b[0m\u001b[32m梦境\u001b[0m\u001b[32m中的\u001b[0m\u001b[32m奇妙\u001b[0m\u001b[32m之旅\u001b[0m\u001b[32m,\u001b[0m\u001b[32m 希\u001b[0m\u001b[32m望\u001b[0m\u001b[32m您\u001b[0m\u001b[32m会\u001b[0m\u001b[32m喜欢\u001b[0m\u001b[32m。\u001b[0m\n",
      "[USAGE] \u001b[34m{\"prompt_tokens\": null, \"completion_tokens\": null, \"total_tokens\": null}\u001b[0m\n"
     ]
    },
    {
     "data": {
      "text/plain": [
       "[{'role': 'user', 'content': '你能帮我写一首关于兔子做梦的四句儿歌?'},\n",
       " {'role': 'assistant',\n",
       "  'content': '当然可以，以下是一首关于兔子做梦的四句儿歌：\\n\\n\"月光洒满绿草原，兔子美梦展眼前。\\n跳跃欢笑寻胡萝卜，梦中世界无边远。\\n\\n星星轻轻摇篮曲，引导它进入梦乡深邃。\\n软床变成胡萝卜田，温暖怀抱是青草堆。\"\\n\\n这是一首以兔形象为主角的儿歌, 通过生动的描述展现它在梦境中的奇妙之旅, 希望您会喜欢。'}]"
      ]
     },
     "execution_count": 2,
     "metadata": {},
     "output_type": "execute_result"
    }
   ],
   "source": [
    "# 异步输出\n",
    "from illufly.chat import ChatOpenAI\n",
    "from illufly.io import alog\n",
    "\n",
    "a = ChatOpenAI(imitator=\"QWEN2_7B\", handlers=[alog])\n",
    "await a(\n",
    "    \"你能帮我写一首关于兔子做梦的四句儿歌?\",\n",
    "    verbose=True\n",
    ")\n",
    "a.memory"
   ]
  },
  {
   "cell_type": "code",
   "execution_count": 3,
   "id": "a7145a95-f03e-4783-910b-4e225f62fc2c",
   "metadata": {},
   "outputs": [
    {
     "name": "stdout",
     "output_type": "stream",
     "text": [
      "\u001b[32m当然\u001b[0m\u001b[32m可以\u001b[0m\u001b[32m，\u001b[0m\u001b[32m以下\u001b[0m\u001b[32m是一\u001b[0m\u001b[32m首\u001b[0m\u001b[32m关于\u001b[0m\u001b[32m兔子\u001b[0m\u001b[32m做梦\u001b[0m\u001b[32m的\u001b[0m\u001b[32m四\u001b[0m\u001b[32m句\u001b[0m\u001b[32m儿\u001b[0m\u001b[32m歌\u001b[0m\u001b[32m：\n",
      "\n",
      "\u001b[0m\u001b[32m月亮\u001b[0m\u001b[32m挂在\u001b[0m\u001b[32m夜\u001b[0m\u001b[32m空中\u001b[0m\u001b[32m，\u001b[0m\u001b[32m  \n",
      "\u001b[0m\u001b[32m兔子\u001b[0m\u001b[32m跳\u001b[0m\u001b[32m上\u001b[0m\u001b[32m柔软\u001b[0m\u001b[32m草\u001b[0m\u001b[32m丛\u001b[0m\u001b[32m。\u001b[0m\u001b[32m  \n",
      "\u001b[0m\u001b[32m梦\u001b[0m\u001b[32m里\u001b[0m\u001b[32m花\u001b[0m\u001b[32m香\u001b[0m\u001b[32m甜\u001b[0m\u001b[32m如\u001b[0m\u001b[32m蜜\u001b[0m\u001b[32m，\u001b[0m\u001b[32m  \n",
      "\u001b[0m\u001b[32m与\u001b[0m\u001b[32m月\u001b[0m\u001b[32m光\u001b[0m\u001b[32m共\u001b[0m\u001b[32m舞\u001b[0m\u001b[32m在\u001b[0m\u001b[32m云端\u001b[0m\u001b[32m中\u001b[0m\u001b[32m。\n",
      "\n",
      "\u001b[0m\u001b[32m希望\u001b[0m\u001b[32m这首\u001b[0m\u001b[32m儿\u001b[0m\u001b[32m歌\u001b[0m\u001b[32m能够\u001b[0m\u001b[32m满足\u001b[0m\u001b[32m您的\u001b[0m\u001b[32m需求\u001b[0m\u001b[32m，\u001b[0m\u001b[32m如果\u001b[0m\u001b[32m需要\u001b[0m\u001b[32m进一步\u001b[0m\u001b[32m的\u001b[0m\u001b[32m修改\u001b[0m\u001b[32m或\u001b[0m\u001b[32m有\u001b[0m\u001b[32m其他\u001b[0m\u001b[32m主题\u001b[0m\u001b[32m的\u001b[0m\u001b[32m儿\u001b[0m\u001b[32m歌\u001b[0m\u001b[32m创作\u001b[0m\u001b[32m，请\u001b[0m\u001b[32m随时\u001b[0m\u001b[32m告诉我\u001b[0m\u001b[32m！\u001b[0m\n"
     ]
    },
    {
     "data": {
      "text/plain": [
       "[{'role': 'user', 'content': '你能帮我写一首关于兔子做梦的四句儿歌?'},\n",
       " {'role': 'assistant',\n",
       "  'content': '当然可以，以下是一首关于兔子做梦的四句儿歌：\\n\\n月亮挂在夜空中，  \\n兔子跳上柔软草丛。  \\n梦里花香甜如蜜，  \\n与月光共舞在云端中。\\n\\n希望这首儿歌能够满足您的需求，如果需要进一步的修改或有其他主题的儿歌创作，请随时告诉我！'}]"
      ]
     },
     "execution_count": 3,
     "metadata": {},
     "output_type": "execute_result"
    }
   ],
   "source": [
    "# 在调用时指定模型名称\n",
    "a = ChatOpenAI(imitator=\"QWEN2_7B\", handlers=[alog])\n",
    "await a(\n",
    "    \"你能帮我写一首关于兔子做梦的四句儿歌?\",\n",
    "    model=\"qwen/Qwen2-7B-Instruct-GGUF\",\n",
    "    temperature=0.1\n",
    ")\n",
    "a.memory"
   ]
  },
  {
   "cell_type": "code",
   "execution_count": 6,
   "id": "7af95c5c-4b6d-4241-a49c-162bcf77eebb",
   "metadata": {},
   "outputs": [
    {
     "name": "stdout",
     "output_type": "stream",
     "text": [
      "\u001b[32m当然\u001b[0m\u001b[32m可以\u001b[0m\u001b[32m，\u001b[0m\u001b[32m以下\u001b[0m\u001b[32m是一\u001b[0m\u001b[32m首\u001b[0m\u001b[32m关于\u001b[0m\u001b[32m小\u001b[0m\u001b[32m羊\u001b[0m\u001b[32m做梦\u001b[0m\u001b[32m的\u001b[0m\u001b[32m四\u001b[0m\u001b[32m句\u001b[0m\u001b[32m儿\u001b[0m\u001b[32m歌\u001b[0m\u001b[32m：\n",
      "\n",
      "\u001b[0m\u001b[32m星光\u001b[0m\u001b[32m如\u001b[0m\u001b[32m诗\u001b[0m\u001b[32m夜\u001b[0m\u001b[32m更\u001b[0m\u001b[32m长\u001b[0m\u001b[32m，\n",
      "\u001b[0m\u001b[32m山\u001b[0m\u001b[32m中小\u001b[0m\u001b[32m屋里\u001b[0m\u001b[32m沉\u001b[0m\u001b[32m香\u001b[0m\u001b[32m。\n",
      "\u001b[0m\u001b[32m梦\u001b[0m\u001b[32m里\u001b[0m\u001b[32m草原\u001b[0m\u001b[32m绿\u001b[0m\u001b[32m如\u001b[0m\u001b[32m海\u001b[0m\u001b[32m，\n",
      "\u001b[0m\u001b[32m小\u001b[0m\u001b[32m羊\u001b[0m\u001b[32m跳\u001b[0m\u001b[32m蹦\u001b[0m\u001b[32m笑声\u001b[0m\u001b[32m扬\u001b[0m\u001b[32m。\n",
      "\n",
      "\u001b[0m\u001b[32m这首\u001b[0m\u001b[32m儿\u001b[0m\u001b[32m歌\u001b[0m\u001b[32m借\u001b[0m\u001b[32m着\u001b[0m\u001b[32m夜晚\u001b[0m\u001b[32m的\u001b[0m\u001b[32m宁静\u001b[0m\u001b[32m与\u001b[0m\u001b[32m星光\u001b[0m\u001b[32m下的\u001b[0m\u001b[32m山\u001b[0m\u001b[32m居\u001b[0m\u001b[32m生活\u001b[0m\u001b[32m背景\u001b[0m\u001b[32m，\u001b[0m\u001b[32m描绘\u001b[0m\u001b[32m了一\u001b[0m\u001b[32m只\u001b[0m\u001b[32m在\u001b[0m\u001b[32m梦\u001b[0m\u001b[32m中\u001b[0m\u001b[32m享受\u001b[0m\u001b[32m草原\u001b[0m\u001b[32m美景\u001b[0m\u001b[32m和\u001b[0m\u001b[32m自由\u001b[0m\u001b[32m欢\u001b[0m\u001b[32m跃\u001b[0m\u001b[32m的小\u001b[0m\u001b[32m羊\u001b[0m\u001b[32m形象\u001b[0m\u001b[32m。\u001b[0m\u001b[32m希望能\u001b[0m\u001b[32m带\u001b[0m\u001b[32m给你\u001b[0m\u001b[32m喜爱\u001b[0m\u001b[32m的声音\u001b[0m\u001b[32m与\u001b[0m\u001b[32m感受\u001b[0m\u001b[32m。\u001b[0m\n",
      "\n"
     ]
    },
    {
     "data": {
      "text/plain": [
       "'当然可以，以下是一首关于小羊做梦的四句儿歌：\\n\\n星光如诗夜更长，\\n山中小屋里沉香。\\n梦里草原绿如海，\\n小羊跳蹦笑声扬。\\n\\n这首儿歌借着夜晚的宁静与星光下的山居生活背景，描绘了一只在梦中享受草原美景和自由欢跃的小羊形象。希望能带给你喜爱的声音与感受。'"
      ]
     },
     "execution_count": 6,
     "metadata": {},
     "output_type": "execute_result"
    }
   ],
   "source": [
    "a(\"改成小羊的主题吧\")"
   ]
  },
  {
   "cell_type": "markdown",
   "id": "577d4020-491f-49ed-af56-1ae3a8de157a",
   "metadata": {},
   "source": [
    "**在调用时指定工具，返回应当调用的工具信息**"
   ]
  },
  {
   "cell_type": "markdown",
   "id": "1464e250-8321-4983-b800-2b4c2c3b4a22",
   "metadata": {},
   "source": [
    "### 工具回调"
   ]
  },
  {
   "cell_type": "code",
   "execution_count": 1,
   "id": "e202e7d1-6812-49a1-b8b9-7b3cce8480c1",
   "metadata": {},
   "outputs": [
    {
     "name": "stdout",
     "output_type": "stream",
     "text": [
      "[INFO] \u001b[34m记住 10 轮对话\u001b[0m\n",
      "\u001b[32m<tool\u001b[0m\u001b[32m_call\u001b[0m\u001b[32m>\n",
      "\u001b[0m\u001b[32m{\"\u001b[0m\u001b[32mname\u001b[0m\u001b[32m\":\u001b[0m\u001b[32m \"\u001b[0m\u001b[32mget\u001b[0m\u001b[32m_current\u001b[0m\u001b[32m_weather\u001b[0m\u001b[32m\",\u001b[0m\u001b[32m \"\u001b[0m\u001b[32marguments\u001b[0m\u001b[32m\":\u001b[0m\u001b[32m {\"\u001b[0m\u001b[32mlocation\u001b[0m\u001b[32m\":\u001b[0m\u001b[32m \"\u001b[0m\u001b[32m广州\u001b[0m\u001b[32m\"}}\n",
      "\u001b[0m\u001b[32m</\u001b[0m\u001b[32mtool\u001b[0m\u001b[32m_call\u001b[0m\u001b[32m>\n",
      "\u001b[0m\u001b[32m<tool\u001b[0m\u001b[32m_call\u001b[0m\u001b[32m>\n",
      "\u001b[0m\u001b[32m{\"\u001b[0m\u001b[32mname\u001b[0m\u001b[32m\":\u001b[0m\u001b[32m \"\u001b[0m\u001b[32mget\u001b[0m\u001b[32m_current\u001b[0m\u001b[32m_weather\u001b[0m\u001b[32m\",\u001b[0m\u001b[32m \"\u001b[0m\u001b[32marguments\u001b[0m\u001b[32m\":\u001b[0m\u001b[32m {\"\u001b[0m\u001b[32mlocation\u001b[0m\u001b[32m\":\u001b[0m\u001b[32m \"\u001b[0m\u001b[32m上海\u001b[0m\u001b[32m\"}}\n",
      "\u001b[0m\u001b[32m</\u001b[0m\u001b[32mtool\u001b[0m\u001b[32m_call\u001b[0m\u001b[32m>\u001b[0m\n",
      "[USAGE] \u001b[34m{\"prompt_tokens\": null, \"completion_tokens\": null, \"total_tokens\": null}\u001b[0m\n",
      "\u001b[32m广州今天是晴天。 \u001b[0m\n",
      "[TOOL_RESP_FINAL] \u001b[36m广州今天是晴天。 \u001b[0m\n",
      "\u001b[32m上海今天是晴天。 \u001b[0m\n",
      "[TOOL_RESP_FINAL] \u001b[36m上海今天是晴天。 \u001b[0m\n",
      "\u001b[32m根据\u001b[0m\u001b[32m获取\u001b[0m\u001b[32m的信息\u001b[0m\u001b[32m，\u001b[0m\u001b[32m广州\u001b[0m\u001b[32m和\u001b[0m\u001b[32m上海\u001b[0m\u001b[32m今天\u001b[0m\u001b[32m都是\u001b[0m\u001b[32m晴\u001b[0m\u001b[32m天\u001b[0m\u001b[32m的\u001b[0m\u001b[32m天气\u001b[0m\u001b[32m。\n",
      "\n",
      "\u001b[0m\u001b[32m-\u001b[0m\u001b[32m 广\u001b[0m\u001b[32m州\u001b[0m\u001b[32m今天的\u001b[0m\u001b[32m天气\u001b[0m\u001b[32m是\u001b[0m\u001b[32m晴\u001b[0m\u001b[32m朗\u001b[0m\u001b[32m的\u001b[0m\u001b[32m，\u001b[0m\u001b[32m您\u001b[0m\u001b[32m出门\u001b[0m\u001b[32m可以\u001b[0m\u001b[32m考虑\u001b[0m\u001b[32m少\u001b[0m\u001b[32m带\u001b[0m\u001b[32m雨\u001b[0m\u001b[32m具\u001b[0m\u001b[32m，\u001b[0m\u001b[32m但是\u001b[0m\u001b[32m请\u001b[0m\u001b[32m根据\u001b[0m\u001b[32m具体的\u001b[0m\u001b[32m气温\u001b[0m\u001b[32m及\u001b[0m\u001b[32m个人\u001b[0m\u001b[32m需要\u001b[0m\u001b[32m决定\u001b[0m\u001b[32m是否\u001b[0m\u001b[32m携带\u001b[0m\u001b[32m薄\u001b[0m\u001b[32m外套\u001b[0m\u001b[32m。\n",
      "\u001b[0m\u001b[32m-\u001b[0m\u001b[32m 上\u001b[0m\u001b[32m海\u001b[0m\u001b[32m的\u001b[0m\u001b[32m天气\u001b[0m\u001b[32m同样\u001b[0m\u001b[32m晴\u001b[0m\u001b[32m朗\u001b[0m\u001b[32m，\u001b[0m\u001b[32m建议\u001b[0m\u001b[32m也是\u001b[0m\u001b[32m少\u001b[0m\u001b[32m带\u001b[0m\u001b[32m雨\u001b[0m\u001b[32m具\u001b[0m\u001b[32m，\u001b[0m\u001b[32m但\u001b[0m\u001b[32m同样\u001b[0m\u001b[32m要\u001b[0m\u001b[32m考虑到\u001b[0m\u001b[32m可能\u001b[0m\u001b[32m有的\u001b[0m\u001b[32m早晚\u001b[0m\u001b[32m温\u001b[0m\u001b[32m差\u001b[0m\u001b[32m，\u001b[0m\u001b[32m适当\u001b[0m\u001b[32m穿着\u001b[0m\u001b[32m衣物\u001b[0m\u001b[32m以\u001b[0m\u001b[32m保持\u001b[0m\u001b[32m舒适\u001b[0m\u001b[32m。\n",
      "\n",
      "\u001b[0m\u001b[32m请\u001b[0m\u001b[32m适时\u001b[0m\u001b[32m关注\u001b[0m\u001b[32m天气\u001b[0m\u001b[32m变化\u001b[0m\u001b[32m，\u001b[0m\u001b[32m合理\u001b[0m\u001b[32m安\u001b[0m\u001b[32m排行\u001b[0m\u001b[32m程\u001b[0m\u001b[32m与\u001b[0m\u001b[32m着\u001b[0m\u001b[32m装\u001b[0m\u001b[32m。\u001b[0m\n",
      "[USAGE] \u001b[34m{\"prompt_tokens\": null, \"completion_tokens\": null, \"total_tokens\": null}\u001b[0m\n",
      "用时 46.52407693862915 秒\n"
     ]
    },
    {
     "data": {
      "text/plain": [
       "[{'role': 'user', 'content': '今天广州和上海出门要准备什么'},\n",
       " {'role': 'assistant',\n",
       "  'content': '<tool_call>\\n{\"name\": \"get_current_weather\", \"arguments\": {\"location\": \"广州\"}}\\n</tool_call>\\n<tool_call>\\n{\"name\": \"get_current_weather\", \"arguments\": {\"location\": \"上海\"}}\\n</tool_call>'},\n",
       " {'role': 'user', 'content': '<tool_resp>广州今天是晴天。 </tool_resp>'},\n",
       " {'role': 'assistant',\n",
       "  'content': '请继续: {\"function\": {\"name\": \"get_current_weather\", \"arguments\": \"{\\\\\"location\\\\\": \\\\\"上海\\\\\"}\"}}'},\n",
       " {'role': 'user', 'content': '<tool_resp>上海今天是晴天。 </tool_resp>'},\n",
       " {'role': 'assistant',\n",
       "  'content': '根据获取的信息，广州和上海今天都是晴天的天气。\\n\\n- 广州今天的天气是晴朗的，您出门可以考虑少带雨具，但是请根据具体的气温及个人需要决定是否携带薄外套。\\n- 上海的天气同样晴朗，建议也是少带雨具，但同样要考虑到可能有的早晚温差，适当穿着衣物以保持舒适。\\n\\n请适时关注天气变化，合理安排行程与着装。'}]"
      ]
     },
     "execution_count": 1,
     "metadata": {},
     "output_type": "execute_result"
    }
   ],
   "source": [
    "from illufly.chat import ChatOpenAI\n",
    "from illufly.types import BaseAgent\n",
    "\n",
    "def get_current_weather(location: str):\n",
    "    \"\"\"获取城市的天气情况\"\"\"\n",
    "    yield f\"{location}今天是晴天。 \"\n",
    "    \n",
    "a = ChatOpenAI(imitator=\"QWEN2_7B\", tools=[BaseAgent(get_current_weather)], exec_tool=True)\n",
    "\n",
    "import time\n",
    "start_time = time.time()\n",
    "a(\"今天广州和上海出门要准备什么\", new_chat=True, verbose=True)\n",
    "end_time = time.time()\n",
    "print(f'用时 {end_time - start_time} 秒')\n",
    "a.memory"
   ]
  },
  {
   "cell_type": "code",
   "execution_count": 2,
   "id": "9104f60f-fada-42c3-a98a-f03eb0996fb0",
   "metadata": {},
   "outputs": [
    {
     "name": "stdout",
     "output_type": "stream",
     "text": [
      "[INFO] \u001b[34m记住 10 轮对话\u001b[0m\n",
      "\u001b[32m<tool\u001b[0m\u001b[32m_call\u001b[0m\u001b[32m>\n",
      "\u001b[0m\u001b[32m{\"\u001b[0m\u001b[32mname\u001b[0m\u001b[32m\":\u001b[0m\u001b[32m \"\u001b[0m\u001b[32mget\u001b[0m\u001b[32m_current\u001b[0m\u001b[32m_weather\u001b[0m\u001b[32m\",\u001b[0m\u001b[32m \"\u001b[0m\u001b[32marguments\u001b[0m\u001b[32m\":\u001b[0m\u001b[32m {\"\u001b[0m\u001b[32mlocation\u001b[0m\u001b[32m\":\u001b[0m\u001b[32m \"\u001b[0m\u001b[32m广州\u001b[0m\u001b[32m\"}}\n",
      "\u001b[0m\u001b[32m</\u001b[0m\u001b[32mtool\u001b[0m\u001b[32m_call\u001b[0m\u001b[32m>\n",
      "\u001b[0m\u001b[32m<tool\u001b[0m\u001b[32m_call\u001b[0m\u001b[32m>\n",
      "\u001b[0m\u001b[32m{\"\u001b[0m\u001b[32mname\u001b[0m\u001b[32m\":\u001b[0m\u001b[32m \"\u001b[0m\u001b[32mget\u001b[0m\u001b[32m_p\u001b[0m\u001b[32mices\u001b[0m\u001b[32m\",\u001b[0m\u001b[32m \"\u001b[0m\u001b[32marguments\u001b[0m\u001b[32m\":\u001b[0m\u001b[32m {\"\u001b[0m\u001b[32mhours\u001b[0m\u001b[32m\":\u001b[0m\u001b[32m \u001b[0m\u001b[32m2\u001b[0m\u001b[32m}}\n",
      "\u001b[0m\u001b[32m</\u001b[0m\u001b[32mtool\u001b[0m\u001b[32m_call\u001b[0m\u001b[32m>\u001b[0m\n",
      "[USAGE] \u001b[34m{\"prompt_tokens\": null, \"completion_tokens\": null, \"total_tokens\": null}\u001b[0m\n",
      "\u001b[32m广州今天是晴天， 25摄氏度。 \u001b[0m\n",
      "[TOOL_RESP_FINAL] \u001b[36m广州今天是晴天， 25摄氏度。 \u001b[0m\n",
      "\u001b[32m球场每小时25元，你要定2小时，所以是50元。\u001b[0m\n",
      "[TOOL_RESP_FINAL] \u001b[36m球场每小时25元，你要定2小时，所以是50元。\u001b[0m\n",
      "\u001b[32m广州\u001b[0m\u001b[32m今天\u001b[0m\u001b[32m天气\u001b[0m\u001b[32m晴\u001b[0m\u001b[32m朗\u001b[0m\u001b[32m，\u001b[0m\u001b[32m气温\u001b[0m\u001b[32m为\u001b[0m\u001b[32m2\u001b[0m\u001b[32m5\u001b[0m\u001b[32m摄\u001b[0m\u001b[32m氏\u001b[0m\u001b[32m度\u001b[0m\u001b[32m。\u001b[0m\u001b[32m预订\u001b[0m\u001b[32m2\u001b[0m\u001b[32m小时\u001b[0m\u001b[32m的\u001b[0m\u001b[32m羽毛球\u001b[0m\u001b[32m球场\u001b[0m\u001b[32m费用\u001b[0m\u001b[32m是\u001b[0m\u001b[32m5\u001b[0m\u001b[32m0\u001b[0m\u001b[32m元\u001b[0m\u001b[32m。\u001b[0m\n",
      "[USAGE] \u001b[34m{\"prompt_tokens\": null, \"completion_tokens\": null, \"total_tokens\": null}\u001b[0m\n",
      "用时 3.4075326919555664 秒\n"
     ]
    },
    {
     "data": {
      "text/plain": [
       "[{'role': 'user', 'content': '帮我看看广州天气，顺便看看订2小时的羽毛球球场多少钱'},\n",
       " {'role': 'assistant',\n",
       "  'content': '<tool_call>\\n{\"name\": \"get_current_weather\", \"arguments\": {\"location\": \"广州\"}}\\n</tool_call>\\n<tool_call>\\n{\"name\": \"get_pices\", \"arguments\": {\"hours\": 2}}\\n</tool_call>'},\n",
       " {'role': 'user', 'content': '<tool_resp>广州今天是晴天， 25摄氏度。 </tool_resp>'},\n",
       " {'role': 'assistant',\n",
       "  'content': '请继续: {\"function\": {\"name\": \"get_pices\", \"arguments\": \"{\\\\\"hours\\\\\": 2}\"}}'},\n",
       " {'role': 'user', 'content': '<tool_resp>球场每小时25元，你要定2小时，所以是50元。</tool_resp>'},\n",
       " {'role': 'assistant', 'content': '广州今天天气晴朗，气温为25摄氏度。预订2小时的羽毛球球场费用是50元。'}]"
      ]
     },
     "execution_count": 2,
     "metadata": {},
     "output_type": "execute_result"
    }
   ],
   "source": [
    "from illufly.chat import ChatOpenAI\n",
    "from illufly.types import BaseAgent\n",
    "\n",
    "def get_current_weather(location: str):\n",
    "    \"\"\"获取城市的天气情况\"\"\"\n",
    "    yield f\"{location}今天是晴天， 25摄氏度。 \"\n",
    "\n",
    "def get_pices(hours: int=1):\n",
    "    \"\"\"预测订羽毛球球场的价格，hours是预订球场的小时数，因为球场价格是按照小时计算的\"\"\"\n",
    "    yield f\"球场每小时25元，你要定{hours}小时，所以是{hours*25}元。\"\n",
    "\n",
    "a = ChatOpenAI(imitator=\"QWEN2_7B\", exec_tool=True)\n",
    "\n",
    "import time\n",
    "start_time = time.time()\n",
    "\n",
    "toolkits = [BaseAgent(t) for t in [get_current_weather, get_pices]]\n",
    "a(\"帮我看看广州天气，顺便看看订2小时的羽毛球球场多少钱\", tools=toolkits, new_chat=True, verbose=True)\n",
    "\n",
    "end_time = time.time()\n",
    "print(f'用时 {end_time - start_time} 秒')\n",
    "\n",
    "a.memory"
   ]
  },
  {
   "cell_type": "code",
   "execution_count": 6,
   "id": "6836829f-e34a-4584-bcd6-6d18eb91c2c2",
   "metadata": {},
   "outputs": [
    {
     "data": {
      "text/plain": [
       "[{'role': 'user', 'content': '今天广州出门要准备什么'},\n",
       " {'role': 'assistant',\n",
       "  'content': '<tool_call>\\n{\"name\": \"get_current_weather\", \"arguments\": {\"location\": \"广州\"}}\\n</tool_call>'},\n",
       " {'role': 'user', 'content': '<tool_resp>广州今天是晴天。 </tool_resp>'},\n",
       " {'role': 'assistant',\n",
       "  'content': '广州今天天气晴朗，出门时你可以选择轻便的上衣，并注意防晒和补水，带上太阳镜和遮阳帽也是一个不错的选择。不过天气多变，建议出发前再次查看最新的天气预报。'}]"
      ]
     },
     "execution_count": 6,
     "metadata": {},
     "output_type": "execute_result"
    }
   ],
   "source": [
    "a.memory"
   ]
  },
  {
   "cell_type": "code",
   "execution_count": null,
   "id": "7c99f96d-d0b9-4722-8cd7-ba3647402779",
   "metadata": {},
   "outputs": [],
   "source": []
  }
 ],
 "metadata": {
  "kernelspec": {
   "display_name": "Python 3 (ipykernel)",
   "language": "python",
   "name": "python3"
  },
  "language_info": {
   "codemirror_mode": {
    "name": "ipython",
    "version": 3
   },
   "file_extension": ".py",
   "mimetype": "text/x-python",
   "name": "python",
   "nbconvert_exporter": "python",
   "pygments_lexer": "ipython3",
   "version": "3.10.0"
  }
 },
 "nbformat": 4,
 "nbformat_minor": 5
}
