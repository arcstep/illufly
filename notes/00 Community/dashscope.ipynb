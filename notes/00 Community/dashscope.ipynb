{
 "cells": [
  {
   "cell_type": "markdown",
   "id": "9d29c40a-2a13-4a7f-a465-189d2ea5ead2",
   "metadata": {},
   "source": [
    "# 模型"
   ]
  },
  {
   "cell_type": "markdown",
   "id": "30e55ec8-ba21-4701-96d5-6a54f9199b24",
   "metadata": {},
   "source": [
    "## 对话模型"
   ]
  },
  {
   "cell_type": "markdown",
   "id": "75734f38-bdad-4b9e-9638-f65647af36e7",
   "metadata": {},
   "source": [
    "### 同步调用"
   ]
  },
  {
   "cell_type": "code",
   "execution_count": 1,
   "id": "75628fec-7952-42b9-87d9-f8c54e04bdec",
   "metadata": {},
   "outputs": [
    {
     "name": "stdout",
     "output_type": "stream",
     "text": [
      "[USER] \u001b[34m你能帮我写一首关于兔子做梦的四句儿歌?\u001b[0m\n",
      "[INFO] \u001b[34m记住 10 轮对话\u001b[0m\n",
      "[RAG] \u001b[34m直接资料：发现 15 条资料\u001b[0m\n",
      "\u001b[32m好的\u001b[0m\u001b[32m，\u001b[0m\u001b[32m下面\u001b[0m\u001b[32m是一首关于兔子做梦\u001b[0m\u001b[32m的四句儿歌：\n",
      "\n",
      "小兔子\u001b[0m\u001b[32m呀蹦蹦跳，\n",
      "梦见自己变成\u001b[0m\u001b[32m蝴蝶飞。\n",
      "轻轻飘落在花丛\u001b[0m\u001b[32m中，\n",
      "翩翩起舞好自在\u001b[0m\u001b[32m。\n",
      "\n",
      "希望这首儿歌能够帮助你\u001b[0m\u001b[32m表达出你的想法。如果你有其他\u001b[0m\u001b[32m的需求或者想要进一步的帮助，请随时告诉我\u001b[0m\u001b[32m！\u001b[0m\u001b[32m\u001b[0m\n",
      "[USAGE] \u001b[34m{\"input_tokens\": 435, \"output_tokens\": 65, \"total_tokens\": 500}\u001b[0m\n",
      "[CONTEXT] \u001b[34m好的，下面是一首关于兔子做梦的四句儿歌：\n",
      "\n",
      "小兔子呀蹦蹦跳，\n",
      "梦见自己变成蝴蝶飞。\n",
      "轻轻飘落在花丛中，\n",
      "翩翩起舞好自在。\n",
      "\n",
      "希望这首儿歌能够帮助你表达出你的想法。如果你有其他的需求或者想要进一步的帮助，请随时告诉我！\u001b[0m\n"
     ]
    },
    {
     "data": {
      "text/plain": [
       "'好的，下面是一首关于兔子做梦的四句儿歌：\\n\\n小兔子呀蹦蹦跳，\\n梦见自己变成蝴蝶飞。\\n轻轻飘落在花丛中，\\n翩翩起舞好自在。\\n\\n希望这首儿歌能够帮助你表达出你的想法。如果你有其他的需求或者想要进一步的帮助，请随时告诉我！'"
      ]
     },
     "execution_count": 1,
     "metadata": {},
     "output_type": "execute_result"
    }
   ],
   "source": [
    "from illufly.chat import ChatQwen\n",
    "from illufly.io import log, usage\n",
    "\n",
    "qwen = ChatQwen()\n",
    "qwen(\n",
    "    [{\"role\": \"user\", \"content\": \"你能帮我写一首关于兔子做梦的四句儿歌?\"}],\n",
    "    model=\"qwen2-1.5b-instruct\",\n",
    "    verbose=True\n",
    ")"
   ]
  },
  {
   "cell_type": "markdown",
   "id": "3fea8c5e-8fa3-4d33-8a1e-debc7ce71807",
   "metadata": {},
   "source": [
    "### 识别网络路径图片"
   ]
  },
  {
   "cell_type": "code",
   "execution_count": 2,
   "id": "22041d1b-51c3-4a5f-8c23-e393268fdb52",
   "metadata": {},
   "outputs": [
    {
     "name": "stdout",
     "output_type": "stream",
     "text": [
      "\u001b[32m图\u001b[0m\u001b[32m1\u001b[0m\u001b[32m中\u001b[0m\u001b[32m是一名女子和她的宠物\u001b[0m\u001b[32m狗在沙滩上互动，狗狗抬起\u001b[0m\u001b[32m前爪似乎想要握手。\n",
      "图2\u001b[0m\u001b[32m是一张老虎的CG渲染作品。\u001b[0m\u001b[32m\u001b[0m\n",
      "{\"block_type\": \"usage\", \"content\": \"{\\\"input_tokens\\\": 2507, \\\"output_tokens\\\": 33, \\\"image_tokens\\\": 2472}\", \"created_at\": \"2024-10-07T18:16:33.868254\", \"calling_info\": {\"request_id\": \"f92ef8d8-d282-99f0-8e5b-70d702f54ecc\", \"output\": [{\"chunk\": [{\"text\": \"图\"}]}, {\"chunk\": [{\"text\": \"1\"}]}, {\"chunk\": [{\"text\": \"中\"}]}, {\"chunk\": [{\"text\": \"是一名女子和她的宠物\"}]}, {\"chunk\": [{\"text\": \"狗在沙滩上互动，狗狗抬起\"}]}, {\"chunk\": [{\"text\": \"前爪似乎想要握手。\\n图2\"}]}, {\"chunk\": [{\"text\": \"是一张老虎的CG渲染作品。\"}]}, {\"chunk\": []}], \"input\": {\"api_key\": \"sk-4ce3e66*****************30e99417\", \"base_url\": null, \"model\": \"qwen-vl-plus\", \"enable_search\": false, \"messages\": [{\"role\": \"user\", \"content\": [{\"image\": \"https://dashscope.oss-cn-beijing.aliyuncs.com/images/dog_and_girl.jpeg\"}, {\"image\": \"https://dashscope.oss-cn-beijing.aliyuncs.com/images/tiger.png\"}, {\"text\": \"这些是什么\"}]}], \"tools\": [], \"stream\": true, \"result_format\": \"message\", \"incremental_output\": true, \"headers\": {\"X-DashScope-OssResourceResolve\": \"enable\"}}}, \"runnable_info\": {\"class_name\": \"ChatQwenVL\", \"agent_name\": \"ChatQwenVL.4529000208\", \"agent_description\": \"我还没有工具描述\", \"model_name\": \"qwen-vl-plus\", \"api_key\": \"sk-4ce3e66*****************30e99417\", \"base_url\": null}}\n"
     ]
    },
    {
     "data": {
      "text/plain": [
       "[{'text': '图1中是一名女子和她的宠物狗在沙滩上互动，狗狗抬起前爪似乎想要握手。\\n图2是一张老虎的CG渲染作品。'}]"
      ]
     },
     "execution_count": 2,
     "metadata": {},
     "output_type": "execute_result"
    }
   ],
   "source": [
    "from illufly.chat import ChatQwenVL\n",
    "from illufly.io import log, usage\n",
    "\n",
    "qwen = ChatQwenVL()\n",
    "messages=[\n",
    "    (\"user\",[\n",
    "        {'image': 'https://dashscope.oss-cn-beijing.aliyuncs.com/images/dog_and_girl.jpeg'},\n",
    "        {'image': 'https://dashscope.oss-cn-beijing.aliyuncs.com/images/tiger.png'},\n",
    "        {'text': '这些是什么'}\n",
    "    ])\n",
    "]\n",
    "qwen(messages, handlers=[log, usage])"
   ]
  },
  {
   "cell_type": "markdown",
   "id": "d820ab3d-f896-4ab1-8546-7c4c7bfc7f6c",
   "metadata": {},
   "source": [
    "### 识别本地图片"
   ]
  },
  {
   "cell_type": "code",
   "execution_count": 2,
   "id": "7a87f44d-5580-4e8e-b4ac-c61c9387c331",
   "metadata": {},
   "outputs": [
    {
     "name": "stdout",
     "output_type": "stream",
     "text": [
      "\u001b[32m这张\u001b[0m\u001b[32m图片\u001b[0m\u001b[32m是一\u001b[0m\u001b[32m幅插画，描绘\u001b[0m\u001b[32m了一个小女孩在睡觉。她穿着蓝色\u001b[0m\u001b[32m的衣服，并且头发上别着一个\u001b[0m\u001b[32m粉色的蝴蝶结。背景是粉\u001b[0m\u001b[32m红色和紫色渐变色系组成的\u001b[0m\u001b[32m星空图案，在其中可以看到月亮、星星\u001b[0m\u001b[32m等元素。\n",
      "\n",
      "图像中还有一行\u001b[0m\u001b[32m中文文字“幻蝶智能”，这\u001b[0m\u001b[32m可能是与该主题或人物相关的名称\u001b[0m\u001b[32m或者品牌标识。整体来看，这个\u001b[0m\u001b[32m场景给人一种温馨而梦幻的感觉。\u001b[0m\n",
      "\n"
     ]
    },
    {
     "data": {
      "text/plain": [
       "[{'text': '这张图片是一幅插画，描绘了一个小女孩在睡觉。她穿着蓝色的衣服，并且头发上别着一个粉色的蝴蝶结。背景是粉红色和紫色渐变色系组成的星空图案，在其中可以看到月亮、星星等元素。\\n\\n图像中还有一行中文文字“幻蝶智能”，这可能是与该主题或人物相关的名称或者品牌标识。整体来看，这个场景给人一种温馨而梦幻的感觉。'}]"
      ]
     },
     "execution_count": 2,
     "metadata": {},
     "output_type": "execute_result"
    }
   ],
   "source": [
    "from illufly.chat import ChatQwenVL\n",
    "from illufly.io import alog\n",
    "\n",
    "qwen = ChatQwenVL()\n",
    "messages=[\n",
    "    (\"user\",[\n",
    "        {'image': '幻蝶智能.png'},\n",
    "        {'text': '这些是什么'}\n",
    "    ])\n",
    "]\n",
    "await qwen(messages, handler=alog)"
   ]
  },
  {
   "cell_type": "markdown",
   "id": "b4b61d05-2ed0-4ea5-8184-586dec7dd76a",
   "metadata": {},
   "source": [
    "### 多轮对话"
   ]
  },
  {
   "cell_type": "code",
   "execution_count": 4,
   "id": "96db8d9c-f36c-4ae3-bb8a-6a7f9b78000a",
   "metadata": {},
   "outputs": [
    {
     "data": {
      "text/plain": [
       "'ChatQwenVL'"
      ]
     },
     "execution_count": 4,
     "metadata": {},
     "output_type": "execute_result"
    }
   ],
   "source": [
    "qwen.name"
   ]
  },
  {
   "cell_type": "code",
   "execution_count": 3,
   "id": "dfb73248-a53e-4579-87d0-677a49072ae7",
   "metadata": {},
   "outputs": [
    {
     "name": "stdout",
     "output_type": "stream",
     "text": [
      "\u001b[32m月\u001b[0m\u001b[32m光\u001b[0m\u001b[32m洒\u001b[0m\u001b[32m落银河边，\n",
      "繁\u001b[0m\u001b[32m星点点缀空蓝。\n",
      "梦中小\u001b[0m\u001b[32m女甜入睡，\n",
      "幻蝶智名\u001b[0m\u001b[32m留心田。\u001b[0m\n",
      "\n"
     ]
    },
    {
     "data": {
      "text/plain": [
       "[{'text': '月光洒落银河边，\\n繁星点点缀空蓝。\\n梦中小女甜入睡，\\n幻蝶智名留心田。'}]"
      ]
     },
     "execution_count": 3,
     "metadata": {},
     "output_type": "execute_result"
    }
   ],
   "source": [
    "qwen(\"来一首绝句，不要打油诗\")"
   ]
  },
  {
   "cell_type": "code",
   "execution_count": 5,
   "id": "12c80a4c-583c-4c10-b3cf-0b0ccfd20c80",
   "metadata": {},
   "outputs": [
    {
     "data": {
      "text/plain": [
       "[{'role': 'user', 'content': [{'image': '幻蝶智能.png'}, {'text': '这些是什么'}]},\n",
       " {'role': 'assistant',\n",
       "  'content': [{'text': '这张图片是一幅插画，描绘了一个小女孩在睡觉。她穿着蓝色的衣服，并且头发上别着一个粉色的蝴蝶结。背景是粉红色和紫色渐变色系组成的星空图案，在其中可以看到月亮、星星等元素。\\n\\n图像中还有一行中文文字“幻蝶智能”，这可能是与该主题或人物相关的名称或者品牌标识。整体来看，这个场景给人一种温馨而梦幻的感觉。'}]},\n",
       " {'role': 'user', 'content': [{'text': '绝句，不要打油诗'}]},\n",
       " {'role': 'assistant',\n",
       "  'content': [{'text': '月光如水照长空，\\n繁星点点伴梦踪。\\n枕边微风轻拂过，\\n入眠时分心自融。'}]}]"
      ]
     },
     "execution_count": 5,
     "metadata": {},
     "output_type": "execute_result"
    }
   ],
   "source": [
    "qwen.memory"
   ]
  },
  {
   "cell_type": "code",
   "execution_count": 6,
   "id": "f565bd03-3df6-4d47-85ec-2e89ca96e618",
   "metadata": {},
   "outputs": [
    {
     "data": {
      "text/plain": [
       "{'CHAT_QWEN': {'max_workers': 5, 'used_workers': 1, 'waiting_threads': 0}}"
      ]
     },
     "execution_count": 6,
     "metadata": {},
     "output_type": "execute_result"
    }
   ],
   "source": [
    "qwen.monitor_executors()"
   ]
  },
  {
   "cell_type": "markdown",
   "id": "475de1dd-80f4-4fa2-96f2-9d6736dc235a",
   "metadata": {},
   "source": [
    "### 工具回调"
   ]
  },
  {
   "cell_type": "code",
   "execution_count": 1,
   "id": "1812c2ae-f29b-40d0-9b67-bdc546e63b14",
   "metadata": {},
   "outputs": [
    {
     "data": {
      "text/plain": [
       "[<BaseAgent get_current_weather>]"
      ]
     },
     "execution_count": 1,
     "metadata": {},
     "output_type": "execute_result"
    }
   ],
   "source": [
    "from illufly.chat import ChatQwen\n",
    "from illufly.types import BaseAgent\n",
    "\n",
    "def get_current_weather(location: str=None):\n",
    "    \"\"\"获取城市的天气情况\"\"\"\n",
    "    return f\"{location}今天是晴天。 \"\n",
    "\n",
    "ChatQwen().get_tools([get_current_weather])"
   ]
  },
  {
   "cell_type": "code",
   "execution_count": 2,
   "id": "4b2fef77-8fb1-43ce-9edf-8753158f21e1",
   "metadata": {},
   "outputs": [
    {
     "name": "stdout",
     "output_type": "stream",
     "text": [
      "[AGENT] \u001b[34mChatQwen.4830899040\u001b[0m\n",
      "\n",
      "\n",
      "[FINAL_TOOLS_CALL] \u001b[36m{\"index\": 0, \"id\": \"call_95820f0b040c49128be734\", \"type\": \"function\", \"function\": {\"name\": \"get_current_weather\", \"arguments\": \"{\\\"location\\\": \\\"上海\\\"}\"}}\u001b[0m\n",
      "[AGENT] \u001b[34mget_current_weather\u001b[0m\n",
      ">>> {'location': '上海'}\n",
      "\u001b[33m上海今天是晴天。 \u001b[0m\u001b[32m上\u001b[0m\u001b[32m海\u001b[0m\u001b[32m今\u001b[0m\u001b[32m天\u001b[0m\u001b[32m是\u001b[0m\u001b[32m晴\u001b[0m\u001b[32m天\u001b[0m\u001b[32m。\u001b[0m\u001b[32m \u001b[0m\n",
      "\n",
      "\n",
      "[FINAL_TOOLS_CALL] \u001b[36m{\"index\": 0, \"id\": \"call_dfec6bb629d3415f889ef7\", \"type\": \"function\", \"function\": {\"name\": \"get_current_weather\", \"arguments\": \"{\\\"location\\\": \\\"广州\\\"}\"}}\u001b[0m\n",
      "[AGENT] \u001b[34mget_current_weather\u001b[0m\n",
      ">>> {'location': '广州'}\n",
      "\u001b[33m广州今天是晴天。 \u001b[0m\u001b[32m广\u001b[0m\u001b[32m州\u001b[0m\u001b[32m今\u001b[0m\u001b[32m天\u001b[0m\u001b[32m是\u001b[0m\u001b[32m晴\u001b[0m\u001b[32m天\u001b[0m\u001b[32m。\u001b[0m\u001b[32m \u001b[0m\n",
      "\u001b[32m今天\u001b[0m\u001b[32m，\u001b[0m\u001b[32m上海和广州的\u001b[0m\u001b[32m天气都很好，\u001b[0m\u001b[32m都是晴天。\u001b[0m\u001b[32m如果您有出行计划\u001b[0m\u001b[32m，可以放心地\u001b[0m\u001b[32m安排户外活动。\u001b[0m\u001b[32m不过还是建议您\u001b[0m\u001b[32m随身携带一件\u001b[0m\u001b[32m薄外套，以防\u001b[0m\u001b[32m气温变化。祝\u001b[0m\u001b[32m您有愉快的一\u001b[0m\u001b[32m天！\u001b[0m\u001b[32m\u001b[0m\n"
     ]
    },
    {
     "data": {
      "text/plain": [
       "[{'role': 'user', 'content': '今天上海和广州天气如何啊'},\n",
       " {'role': 'assistant',\n",
       "  'content': '',\n",
       "  'tool_calls': [{'index': 0,\n",
       "    'id': 'call_95820f0b040c49128be734',\n",
       "    'type': 'function',\n",
       "    'function': {'name': 'get_current_weather',\n",
       "     'arguments': '{\"location\": \"上海\"}'}}]},\n",
       " {'tool_call_id': 'call_95820f0b040c49128be734',\n",
       "  'role': 'tool',\n",
       "  'name': 'get_current_weather',\n",
       "  'content': '上海今天是晴天。 '},\n",
       " {'role': 'assistant',\n",
       "  'content': '',\n",
       "  'tool_calls': [{'index': 0,\n",
       "    'id': 'call_dfec6bb629d3415f889ef7',\n",
       "    'type': 'function',\n",
       "    'function': {'name': 'get_current_weather',\n",
       "     'arguments': '{\"location\": \"广州\"}'}}]},\n",
       " {'tool_call_id': 'call_dfec6bb629d3415f889ef7',\n",
       "  'role': 'tool',\n",
       "  'name': 'get_current_weather',\n",
       "  'content': '广州今天是晴天。 '},\n",
       " {'role': 'assistant',\n",
       "  'content': '今天，上海和广州的天气都很好，都是晴天。如果您有出行计划，可以放心地安排户外活动。不过还是建议您随身携带一件薄外套，以防气温变化。祝您有愉快的一天！'}]"
      ]
     },
     "execution_count": 2,
     "metadata": {},
     "output_type": "execute_result"
    }
   ],
   "source": [
    "a = ChatQwen()\n",
    "a(\"今天上海和广州天气如何啊\", tools=[get_current_weather])\n",
    "a.memory"
   ]
  },
  {
   "cell_type": "code",
   "execution_count": 9,
   "id": "7012dfe9-1c1c-47d8-8dcd-be3d76a5f168",
   "metadata": {},
   "outputs": [
    {
     "name": "stdout",
     "output_type": "stream",
     "text": [
      "[INFO] \u001b[34m记住 10 轮对话\u001b[0m\n",
      "[TOOLS_CALL_CHUNK] \u001b[32m{\"index\": 0, \"id\": \"call_973b17f3ac1b4f37a88472\", \"type\": \"function\", \"function\": {\"name\": \"get_current_weather\", \"arguments\": \"\"}}\u001b[0m\n",
      "[TOOLS_CALL_CHUNK] \u001b[32m{\"index\": 0, \"id\": \"\", \"type\": \"function\", \"function\": {}}\u001b[0m\n",
      "[TOOLS_CALL_CHUNK] \u001b[32m{\"index\": 0, \"id\": \"\", \"type\": \"function\", \"function\": {\"arguments\": \"{\\\"location\\\": \\\"\"}}\u001b[0m\n",
      "[TOOLS_CALL_CHUNK] \u001b[32m{\"index\": 0, \"id\": \"\", \"type\": \"function\", \"function\": {\"arguments\": \"广州\\\"}\"}}\u001b[0m\n",
      "[TOOLS_CALL_CHUNK] \u001b[32m{\"index\": 0, \"id\": \"\", \"type\": \"function\", \"function\": {}}\u001b[0m\n",
      "[TOOLS_CALL_CHUNK] \u001b[32m{\"index\": 0, \"id\": \"\", \"type\": \"function\", \"function\": {}}\u001b[0m\n",
      "\n",
      "[USAGE] \u001b[34m{\"input_tokens\": 257, \"output_tokens\": 18, \"total_tokens\": 275}\u001b[0m\n",
      "{\"block_type\": \"usage\", \"content\": \"{\\\"input_tokens\\\": 257, \\\"output_tokens\\\": 18, \\\"total_tokens\\\": 275}\", \"created_at\": \"2024-10-07T19:52:20.324238\", \"calling_info\": {\"request_id\": \"9959cbe1-cd83-9615-8e41-96e5aa60ed66\", \"input\": {\"api_key\": \"sk-4ce3e66*****************30e99417\", \"base_url\": null, \"model\": \"qwen-plus\", \"enable_search\": false, \"messages\": [{\"role\": \"user\", \"content\": \"帮我看看广州天气，顺便看看订2小时的羽毛球球场多少钱\"}], \"tools\": [{\"type\": \"function\", \"function\": {\"name\": \"get_current_weather\", \"description\": \"获取城市的天气情况\", \"parameters\": {\"type\": \"object\", \"properties\": {\"location\": {\"type\": \"string\", \"description\": \"None\"}}, \"required\": []}}}, {\"type\": \"function\", \"function\": {\"name\": \"get_pices\", \"description\": \"预测订羽毛球球场的价格，hours是预订球场的小时数，因为球场价格是按照小时计算的\", \"parameters\": {\"type\": \"object\", \"properties\": {\"hours\": {\"type\": \"string\", \"description\": \"1\"}}, \"required\": []}}}], \"stream\": true, \"result_format\": \"message\", \"incremental_output\": true}, \"output\": [{\"role\": \"assistant\", \"content\": \"\", \"tool_calls\": [{\"index\": 0, \"id\": \"call_973b17f3ac1b4f37a88472\", \"type\": \"function\", \"function\": {\"name\": \"get_current_weather\", \"arguments\": \"\"}}]}, {\"role\": \"assistant\", \"content\": \"\", \"tool_calls\": [{\"index\": 0, \"id\": \"\", \"type\": \"function\", \"function\": {}}]}, {\"role\": \"assistant\", \"content\": \"\", \"tool_calls\": [{\"index\": 0, \"id\": \"\", \"type\": \"function\", \"function\": {\"arguments\": \"{\\\"location\\\": \\\"\"}}]}, {\"role\": \"assistant\", \"content\": \"\", \"tool_calls\": [{\"index\": 0, \"id\": \"\", \"type\": \"function\", \"function\": {\"arguments\": \"广州\\\"}\"}}]}, {\"role\": \"assistant\", \"content\": \"\", \"tool_calls\": [{\"index\": 0, \"id\": \"\", \"type\": \"function\", \"function\": {}}]}, {\"role\": \"assistant\", \"content\": \"\", \"tool_calls\": [{\"index\": 0, \"id\": \"\", \"type\": \"function\", \"function\": {}}]}]}, \"runnable_info\": {\"class_name\": \"ChatQwen\", \"agent_name\": \"ChatQwen.4456121440\", \"agent_description\": \"我还没有工具描述\", \"model_name\": \"qwen-plus\", \"api_key\": \"sk-4ce3e66*****************30e99417\", \"base_url\": null}}\n",
      "\n",
      "[TOOLS_CALL_FINAL] \u001b[36m[{\"index\": 0, \"id\": \"call_973b17f3ac1b4f37a88472\", \"type\": \"function\", \"function\": {\"name\": \"get_current_weather\", \"arguments\": \"{\\\"location\\\": \\\"广州\\\"}\"}}]\u001b[0m\n",
      "\u001b[32m广州今天是晴天。 \u001b[0m\n",
      "[TOOL_RESP_FINAL] \u001b[36m广州今天是晴天。 \u001b[0m\n",
      "[TOOLS_CALL_CHUNK] \u001b[32m{\"index\": 0, \"id\": \"call_d345239ddda141a79f38fc\", \"type\": \"function\", \"function\": {\"name\": \"get_p\", \"arguments\": \"\"}}\u001b[0m\n",
      "[TOOLS_CALL_CHUNK] \u001b[32m{\"index\": 0, \"id\": \"\", \"type\": \"function\", \"function\": {\"name\": \"ices\"}}\u001b[0m\n",
      "[TOOLS_CALL_CHUNK] \u001b[32m{\"index\": 0, \"id\": \"\", \"type\": \"function\", \"function\": {\"arguments\": \"{\\\"hours\"}}\u001b[0m\n",
      "[TOOLS_CALL_CHUNK] \u001b[32m{\"index\": 0, \"id\": \"\", \"type\": \"function\", \"function\": {\"arguments\": \"\\\": \\\"2\\\"}\"}}\u001b[0m\n",
      "[TOOLS_CALL_CHUNK] \u001b[32m{\"index\": 0, \"id\": \"\", \"type\": \"function\", \"function\": {}}\u001b[0m\n",
      "[TOOLS_CALL_CHUNK] \u001b[32m{\"index\": 0, \"id\": \"\", \"type\": \"function\", \"function\": {}}\u001b[0m\n",
      "\n",
      "[USAGE] \u001b[34m{\"input_tokens\": 290, \"output_tokens\": 20, \"total_tokens\": 310}\u001b[0m\n",
      "{\"block_type\": \"usage\", \"content\": \"{\\\"input_tokens\\\": 290, \\\"output_tokens\\\": 20, \\\"total_tokens\\\": 310}\", \"created_at\": \"2024-10-07T19:52:21.629782\", \"calling_info\": {\"request_id\": \"c65e874c-b698-959a-909d-16f5d2d79e45\", \"input\": {\"api_key\": \"sk-4ce3e66*****************30e99417\", \"base_url\": null, \"model\": \"qwen-plus\", \"enable_search\": false, \"messages\": [{\"role\": \"user\", \"content\": \"帮我看看广州天气，顺便看看订2小时的羽毛球球场多少钱\"}, {\"role\": \"assistant\", \"content\": \"\", \"tool_calls\": [{\"index\": 0, \"id\": \"call_973b17f3ac1b4f37a88472\", \"type\": \"function\", \"function\": {\"name\": \"get_current_weather\", \"arguments\": \"{\\\"location\\\": \\\"广州\\\"}\"}}]}, {\"tool_call_id\": \"call_973b17f3ac1b4f37a88472\", \"role\": \"tool\", \"name\": \"get_current_weather\", \"content\": \"广州今天是晴天。 \"}], \"tools\": [{\"type\": \"function\", \"function\": {\"name\": \"get_current_weather\", \"description\": \"获取城市的天气情况\", \"parameters\": {\"type\": \"object\", \"properties\": {\"location\": {\"type\": \"string\", \"description\": \"None\"}}, \"required\": []}}}, {\"type\": \"function\", \"function\": {\"name\": \"get_pices\", \"description\": \"预测订羽毛球球场的价格，hours是预订球场的小时数，因为球场价格是按照小时计算的\", \"parameters\": {\"type\": \"object\", \"properties\": {\"hours\": {\"type\": \"string\", \"description\": \"1\"}}, \"required\": []}}}], \"stream\": true, \"result_format\": \"message\", \"incremental_output\": true}, \"output\": [{\"role\": \"assistant\", \"content\": \"\", \"tool_calls\": [{\"index\": 0, \"id\": \"call_d345239ddda141a79f38fc\", \"type\": \"function\", \"function\": {\"name\": \"get_p\", \"arguments\": \"\"}}]}, {\"role\": \"assistant\", \"content\": \"\", \"tool_calls\": [{\"index\": 0, \"id\": \"\", \"type\": \"function\", \"function\": {\"name\": \"ices\"}}]}, {\"role\": \"assistant\", \"content\": \"\", \"tool_calls\": [{\"index\": 0, \"id\": \"\", \"type\": \"function\", \"function\": {\"arguments\": \"{\\\"hours\"}}]}, {\"role\": \"assistant\", \"content\": \"\", \"tool_calls\": [{\"index\": 0, \"id\": \"\", \"type\": \"function\", \"function\": {\"arguments\": \"\\\": \\\"2\\\"}\"}}]}, {\"role\": \"assistant\", \"content\": \"\", \"tool_calls\": [{\"index\": 0, \"id\": \"\", \"type\": \"function\", \"function\": {}}]}, {\"role\": \"assistant\", \"content\": \"\", \"tool_calls\": [{\"index\": 0, \"id\": \"\", \"type\": \"function\", \"function\": {}}]}]}, \"runnable_info\": {\"class_name\": \"ChatQwen\", \"agent_name\": \"ChatQwen.4456121440\", \"agent_description\": \"我还没有工具描述\", \"model_name\": \"qwen-plus\", \"api_key\": \"sk-4ce3e66*****************30e99417\", \"base_url\": null}}\n",
      "\n",
      "[TOOLS_CALL_FINAL] \u001b[36m[{\"index\": 0, \"id\": \"call_d345239ddda141a79f38fc\", \"type\": \"function\", \"function\": {\"name\": \"get_pices\", \"arguments\": \"{\\\"hours\\\": \\\"2\\\"}\"}}]\u001b[0m\n",
      "\u001b[32m球场每小时25元，你要定2小时，所以是50元。\u001b[0m\n",
      "[TOOL_RESP_FINAL] \u001b[36m球场每小时25元，你要定2小时，所以是50元。\u001b[0m\n",
      "\u001b[32m广\u001b[0m\u001b[32m州\u001b[0m\u001b[32m今天是晴天\u001b[0m\u001b[32m，适合打羽毛球\u001b[0m\u001b[32m。预订两小时\u001b[0m\u001b[32m的羽毛球场地需要\u001b[0m\u001b[32m50元。\u001b[0m\u001b[32m\u001b[0m\u001b[32m\u001b[0m\n",
      "[USAGE] \u001b[34m{\"input_tokens\": 338, \"output_tokens\": 24, \"total_tokens\": 362}\u001b[0m\n",
      "{\"block_type\": \"usage\", \"content\": \"{\\\"input_tokens\\\": 338, \\\"output_tokens\\\": 24, \\\"total_tokens\\\": 362}\", \"created_at\": \"2024-10-07T19:52:22.917738\", \"calling_info\": {\"request_id\": \"8065cefc-737b-9ed9-9921-fd8c01322eff\", \"input\": {\"api_key\": \"sk-4ce3e66*****************30e99417\", \"base_url\": null, \"model\": \"qwen-plus\", \"enable_search\": false, \"messages\": [{\"role\": \"user\", \"content\": \"帮我看看广州天气，顺便看看订2小时的羽毛球球场多少钱\"}, {\"role\": \"assistant\", \"content\": \"\", \"tool_calls\": [{\"index\": 0, \"id\": \"call_973b17f3ac1b4f37a88472\", \"type\": \"function\", \"function\": {\"name\": \"get_current_weather\", \"arguments\": \"{\\\"location\\\": \\\"广州\\\"}\"}}]}, {\"tool_call_id\": \"call_973b17f3ac1b4f37a88472\", \"role\": \"tool\", \"name\": \"get_current_weather\", \"content\": \"广州今天是晴天。 \"}, {\"role\": \"assistant\", \"content\": \"\", \"tool_calls\": [{\"index\": 0, \"id\": \"call_d345239ddda141a79f38fc\", \"type\": \"function\", \"function\": {\"name\": \"get_pices\", \"arguments\": \"{\\\"hours\\\": \\\"2\\\"}\"}}]}, {\"tool_call_id\": \"call_d345239ddda141a79f38fc\", \"role\": \"tool\", \"name\": \"get_pices\", \"content\": \"球场每小时25元，你要定2小时，所以是50元。\"}], \"tools\": [{\"type\": \"function\", \"function\": {\"name\": \"get_current_weather\", \"description\": \"获取城市的天气情况\", \"parameters\": {\"type\": \"object\", \"properties\": {\"location\": {\"type\": \"string\", \"description\": \"None\"}}, \"required\": []}}}, {\"type\": \"function\", \"function\": {\"name\": \"get_pices\", \"description\": \"预测订羽毛球球场的价格，hours是预订球场的小时数，因为球场价格是按照小时计算的\", \"parameters\": {\"type\": \"object\", \"properties\": {\"hours\": {\"type\": \"string\", \"description\": \"1\"}}, \"required\": []}}}], \"stream\": true, \"result_format\": \"message\", \"incremental_output\": true}, \"output\": [{\"role\": \"assistant\", \"content\": \"广\"}, {\"role\": \"assistant\", \"content\": \"州\"}, {\"role\": \"assistant\", \"content\": \"今天是晴天\"}, {\"role\": \"assistant\", \"content\": \"，适合打羽毛球\"}, {\"role\": \"assistant\", \"content\": \"。预订两小时\"}, {\"role\": \"assistant\", \"content\": \"的羽毛球场地需要\"}, {\"role\": \"assistant\", \"content\": \"50元。\"}, {\"role\": \"assistant\", \"content\": \"\"}, {\"role\": \"assistant\", \"content\": \"\"}]}, \"runnable_info\": {\"class_name\": \"ChatQwen\", \"agent_name\": \"ChatQwen.4456121440\", \"agent_description\": \"我还没有工具描述\", \"model_name\": \"qwen-plus\", \"api_key\": \"sk-4ce3e66*****************30e99417\", \"base_url\": null}}\n"
     ]
    },
    {
     "data": {
      "text/plain": [
       "[{'role': 'user', 'content': '帮我看看广州天气，顺便看看订2小时的羽毛球球场多少钱'},\n",
       " {'role': 'assistant',\n",
       "  'content': '',\n",
       "  'tool_calls': [{'index': 0,\n",
       "    'id': 'call_973b17f3ac1b4f37a88472',\n",
       "    'type': 'function',\n",
       "    'function': {'name': 'get_current_weather',\n",
       "     'arguments': '{\"location\": \"广州\"}'}}]},\n",
       " {'tool_call_id': 'call_973b17f3ac1b4f37a88472',\n",
       "  'role': 'tool',\n",
       "  'name': 'get_current_weather',\n",
       "  'content': '广州今天是晴天。 '},\n",
       " {'role': 'assistant',\n",
       "  'content': '',\n",
       "  'tool_calls': [{'index': 0,\n",
       "    'id': 'call_d345239ddda141a79f38fc',\n",
       "    'type': 'function',\n",
       "    'function': {'name': 'get_pices', 'arguments': '{\"hours\": \"2\"}'}}]},\n",
       " {'tool_call_id': 'call_d345239ddda141a79f38fc',\n",
       "  'role': 'tool',\n",
       "  'name': 'get_pices',\n",
       "  'content': '球场每小时25元，你要定2小时，所以是50元。'},\n",
       " {'role': 'assistant', 'content': '广州今天是晴天，适合打羽毛球。预订两小时的羽毛球场地需要50元。'}]"
      ]
     },
     "execution_count": 9,
     "metadata": {},
     "output_type": "execute_result"
    }
   ],
   "source": [
    "from illufly.chat import ChatQwen\n",
    "from illufly.io import log, usage\n",
    "\n",
    "def get_current_weather(location: str=None):\n",
    "    \"\"\"获取城市的天气情况\"\"\"\n",
    "    return f\"{location}今天是晴天。 \"\n",
    "\n",
    "def get_pices(hours: int=1):\n",
    "    \"\"\"预测订羽毛球球场的价格，hours是预订球场的小时数，因为球场价格是按照小时计算的\"\"\"\n",
    "    yield f\"球场每小时25元，你要定{hours}小时，所以是{hours*25}元。\"\n",
    "\n",
    "a = ChatQwen()\n",
    "a(\n",
    "    \"帮我看看广州天气，顺便看看订2小时的羽毛球球场多少钱\",\n",
    "    tools=[get_current_weather, get_pices],\n",
    "    new_chat=True,\n",
    "    verbose=True,\n",
    "    handlers=[log, usage]\n",
    ")\n",
    "a.memory"
   ]
  },
  {
   "cell_type": "code",
   "execution_count": 3,
   "id": "4b1be999-ab93-4524-91d1-bda583dd7fcb",
   "metadata": {
    "scrolled": true
   },
   "outputs": [
    {
     "name": "stdout",
     "output_type": "stream",
     "text": [
      "[AGENT] \u001b[34mChatQwen.4477502896\u001b[0m\n",
      "\n",
      "\n",
      "[FINAL_TOOLS_CALL] \u001b[36m{\"index\": 0, \"id\": \"call_868158ba388b4afa98a0eb\", \"type\": \"function\", \"function\": {\"name\": \"WebSearch.4477509520\", \"arguments\": \"{\\\"prompt\\\": \\\"2023年美国大选近况\\\"}\"}}\u001b[0m\n",
      "[AGENT] \u001b[34mWebSearch.4477509520\u001b[0m\n",
      ">>> {'prompt': '2023年美国大选近况'}\n",
      "\u001b[33m## [特朗普始料不及！美大选刚结束，美媒爆出一则猛料，会否搅动国际局势](https://www.sohu.com/a/825834296_121997491)\n",
      "据环球网消息，美国财政部宣称，为防止美国投资推动中国相关科技发展进而威胁美国国家安全”，宣布自2025年1月起禁止对中国半导体、量子技术和人工智能（AI）领域中用于军事尖端技术”的部分进行投资。此消息一经发布便引发热议，不过经过数天观察发现，业界总体反应较为平淡。业界反应平淡的首要原因是并不意外”。因为早在2023年8月，拜登政府就已经颁布行政命令，禁止或限制美国投资者在这三个行业领域对中国实体进行特定类型的投资。\n",
      "在美国大选最终结果公布之后，全球的目光旋即聚焦于美国即将推行的未来经济政策。随着新的领导团队正式就职，针对中国的经济策略必然要作出相应的调整与优化。据最新消息，美国打算实施三项关键策略，从而强力应对中国的经济发展态势，并给予坚决回应。预计这些举措会给全球经济格局带来深远影响和重大变革。\n",
      "首要的策略就是加强对中国的科技封锁，其目的在于限制技术的流通以及创新资源的获取，从而给中国本土企业的发展带来巨大压力。\n",
      "11月6日下午，备受瞩目的美国大选最终有了结果，特朗普凭借277张选举人票赢得大选。此消息一经传出，A股市场在盘中的波动便加剧了，三大指数以及多个板块呈现弱势震荡的态势，然而国产替代这一主线却表现得较为坚挺。\n",
      "具体而言，在芯片上游板块中，半导体设备与材料环节保持着强劲的态势，光刻机概念下有多只股票涨停，量测检测、薄膜沉积等方面也有大幅拉升，机器人、华为910C等自主可控方向同样取得了显著的进展。以聚焦半导体设备与材料”的中证半导指数为例，11月6日收盘时该指数逆势收红，达成了三连涨。\n",
      "当地时间11月7日，美联储的决策机构联邦公开市场委员会（FOMC）作出决定，把联邦基金利率目标区间下调25个基点。而就在此前一日，美国共和党总统候选人特朗普刚刚宣布胜选。在此之前，特朗普曾多次基于美联储的加息政策对美联储主席鲍威尔予以猛烈抨击。\n",
      "在中美全面博弈的大形势之下，美国拜登政府已将中美较量的主战场设定于高新科技领域，半导体、量子技术以及人工智能这三大领域更是其重点关注对象。就在不久之前，美国财政部宣称，为防止美国投资推动中国相关科技发展进而威胁美国国家安全”，决定自2025年1月开始，禁止对中国在半导体、量子技术和人工智能领域中用于军事尖端技术”的投资，这一举措一度引发广泛关注与讨论。不过，美国针对中国的疯狂打压、制裁以及各类限制政策，不但未能击垮中国，相反，中国在关键领域不断实现突破，并且还对美国自身形成了三点反制。\n",
      "\n",
      "## [国际深一度：靠网红打“网战”，特朗普胜选“秘诀”离不开他们？](https://www.chinanews.com.cn/gj/2024/11-12/10317523.shtml)\n",
      "中新网11月12日电(郑云天)在2024年美国总统大选中，民主党主打依靠传统选民、志愿者地推催票的陆战”模式，但共和党总统候选人特朗普直接从线上进攻”，在网络和社交媒体领域的动员能力堪称强大。\n",
      "分析认为，特朗普这次在陆战”拉票中并没占到太多便宜，但在空战”层面占据显著优势；相比之下，民主党的空军部队”陷入分裂的泥沼，无法形成合力，最终在选举博弈中落了下风。\n",
      "特朗普纵横网络，带动网红部队”\n",
      "在电视机时代，特朗普本人就是知名节目主持人，在社交媒体时代，他又摇身一变成为发帖达人”。\n",
      "分析认为，特朗普对自己支持者的心理和诉求洞若观火”，深知他们渴望听到什么样的言论。而这种对选民心声的精准把控，恰恰是作为民粹政客的重要根基之一。正是基于此，特朗普能在舆论场中掀起波澜，极大地影响其支持者的情绪和行动。\n",
      "特朗普麾下还有一支网红部队”，他们以保守派网红为主，在此次大选中为特朗普吹喇叭抬轿子”，动员了为数众多的保守派选民。\n",
      "比如保守派网红本·夏皮罗，此人拥有千万粉丝。2023年新一轮巴以冲突爆发以来，美国各类政论节目常常围绕巴以问题辩论。作为以色列支持者，夏皮罗无论对方如何控诉”以色列对加沙造成的人道主义灾难，都不为所动。他通常以哈马斯是恐怖分子”一切责任应由哈马斯承担”这几个字，作为应对。\n",
      "社交媒体时代，简单明了的内容最适合复读机”式传播，夏皮罗可谓深谙其道。他依靠同样的方式替特朗普助选，通过复读经济”非法移民”通胀”等关键词攻击民主党，加深选民对民主党的负面印象。\n",
      "还有查理·柯克，年仅31岁的他，是保守派青年组织转折点”的首席执行官兼联合创始人。据美联社报道，柯克在青年学生中对抗自由派的行为，得到了保守派金主的青睐。他从青年组织者和媒体名人，发展成为一个规模更大的非营利帝国的掌门人。\n",
      "依靠这些收入，柯克购买了三处高端房产，价值均超过一百万美元，其中包括他在凤凰城附近的新西班牙风格豪宅、附近的一套公寓和佛罗里达州墨西哥湾沿岸的一套海滨公寓。\n",
      "柯克对年轻的右翼选民有很大的影响力，他的对话式节目会邀请一些自由派大学生与他辩论。这也成了柯克的一张王牌。本次特朗普能够在大选中赢得比原来更多的年轻男性选票，很大可能就有柯克的一份功劳。\n",
      "另如乔丹·彼得森等保守派大V，都是社交媒体时代打空战”的网红，是特朗普的僚机部队”。\n",
      "民主党，空战”部队去哪了？\n",
      "民主党并非没有王牌飞行员”，但这次他们都没有帮上太大的忙。\n",
      "著名记者哈桑就是一个例子。\n",
      "哈桑是社交媒体上最受欢迎的记者之一，\n",
      "\n",
      "## [天振股份：目前公司美国工厂正在有序建设中，一期项目预计今年年底前可正式投产](https://stock.stockstar.com/IG2024111100002634.shtml)\n",
      "同花顺（300033）金融研究中心11月11日讯，有投资者向天振股份（301356）提问， 你好！美国大选己落幕，请问公司美国工厂进展情况如何？请详细介绍？如果美国提髙关税，对公司影响如何？\n",
      "公司回答表示，尊敬的投资者，您好！目前公司美国工厂正在有序建设中，一期项目预计今年年底前可正式投产。据2023年美国商务部统计，美国进口的 PVC 地板绝大部分来自于中资企业且目前60%以上仍来自中国，倘若美国对公司所处行业提高关税，将可能导致行业格局发生较大变化。但公司自2019年便开始推进全球化产能布局，目前主要产能已迁移至东南亚和美国等地，即便实行该政策，预计不会对公司造成较大不利影响。感谢您的关注！\n",
      "点击进入交易所官方互动平台查看更多\n",
      "\n",
      "## [内地生暴增，香港被卷翻了？看看十年港漂学子经历的真相是什么](https://www.163.com/dy/article/JGPC42NR0516CMM2.html)\n",
      "看点香港一系列人才利好政策，正在吸引一大批内地学生和家长，奔赴香港读书和工作。当这条路变得拥挤，在港读书的学生和留港工作的港漂们，会感受到什么样的变化和挑战？外滩君和两位港漂十年的留学生，聊了聊自己的亲身体会。\n",
      "前两天，特朗普赢得大选，也让签证等留学相关的话题一度冲上热搜。确实，这两年随着美国对留学生的限制增大，分流现象越来越明显。\n",
      "而香港，则成了热门目的地之一。随着人才政策利好，香港不仅吸引了一大批内地留学生，也有很多家长申请在港读硕，顺便带娃接受香港教育。\n",
      "但人多了，路自然也拥挤起来。香港的教育环境和职场环境也都悄然内卷化。\n",
      "那么现在，留学香港、留港工作，要面对多大的挑战？\n",
      "外滩君访谈了两位港漂十年的留学生——\n",
      "目前在外资银行工作的港科大商科毕业生Lucia，\n",
      "和工作期间从未放弃过学习，从2014至今读过教育大学和港大三个专业研究生的Scott。\n",
      "和他们聊了聊在港工作和学习的真实情况，聊一聊他们眼中的机遇与挑战。\n",
      "一大波内地学生，\n",
      "正在到达战场\n",
      "这些年，内地留港的学生明显变多了。\n",
      "Lucia是2014年-2018年在港科大读的本科，这期间每一届内地生差不多有150人。但到了2023年，港科大本科内地生招生数量达到了190人，而今年的招生数量更有220人。\n",
      "同样在扩招的港硕，内地生比例更是一直比港本高，在80%-90%左右。这其中除了应届生，还有不少Scott这样选择读一年港硕的内地港漂，也不乏想带娃留港、鸡娃不如己自己”的宝爸宝妈。\n",
      "比起内地考研一年一次只能报考一个学校的限制，港硕灵活的申请和就读制度实在是既友好又有性价比。\n",
      "不过，疫情以后，伴随着出国成本飞升、授课模式不稳定等等原因，大量原本打算出国的内地学生涌入香港。扩招并没有让留港这件事变得更容易。\n",
      "相反，这些年来香港学习的门槛蹭蹭提高。\n",
      "如果要走高考路线，像香港大学这样的头部学校，这些年的录取分数要超过高考一本线160分左右。\n",
      "如果不参加高考，以香港科技大学2021年的录取数据为例，录取者的平均成绩，IB的分数中位数为37-42分，A-Level成绩中位数在AAA-AAA，SAT中位数在1420-1490。这样的分数，恐怕只有学霸们才能高攀得起。\n",
      "在港读书工作十年的Scott对港硕的申请难度变化深有体会：\n",
      "他是2014年在中介的帮助下完成了香港教育大学中文教育专业的硕士申请。那时候一些学校的申请条件相对比较宽松，电话面试时，是聊一聊自己的专业背景，有没有从事过专业相关的工作，\u001b[0m\u001b[32m#\u001b[0m\u001b[32m#\u001b[0m\u001b[32m \u001b[0m\u001b[32m[\u001b[0m\u001b[32m特\u001b[0m\u001b[32m朗\u001b[0m\u001b[32m普\u001b[0m\u001b[32m始\u001b[0m\u001b[32m料\u001b[0m\u001b[32m不\u001b[0m\u001b[32m及\u001b[0m\u001b[32m！\u001b[0m\u001b[32m美\u001b[0m\u001b[32m大\u001b[0m\u001b[32m选\u001b[0m\u001b[32m刚\u001b[0m\u001b[32m结\u001b[0m\u001b[32m束\u001b[0m\u001b[32m，\u001b[0m\u001b[32m美\u001b[0m\u001b[32m媒\u001b[0m\u001b[32m爆\u001b[0m\u001b[32m出\u001b[0m\u001b[32m一\u001b[0m\u001b[32m则\u001b[0m\u001b[32m猛\u001b[0m\u001b[32m料\u001b[0m\u001b[32m，\u001b[0m\u001b[32m会\u001b[0m\u001b[32m否\u001b[0m\u001b[32m搅\u001b[0m\u001b[32m动\u001b[0m\u001b[32m国\u001b[0m\u001b[32m际\u001b[0m\u001b[32m局\u001b[0m\u001b[32m势\u001b[0m\u001b[32m]\u001b[0m\u001b[32m(\u001b[0m\u001b[32mh\u001b[0m\u001b[32mt\u001b[0m\u001b[32mt\u001b[0m\u001b[32mp\u001b[0m\u001b[32ms\u001b[0m\u001b[32m:\u001b[0m\u001b[32m/\u001b[0m\u001b[32m/\u001b[0m\u001b[32mw\u001b[0m\u001b[32mw\u001b[0m\u001b[32mw\u001b[0m\u001b[32m.\u001b[0m\u001b[32ms\u001b[0m\u001b[32mo\u001b[0m\u001b[32mh\u001b[0m\u001b[32mu\u001b[0m\u001b[32m.\u001b[0m\u001b[32mc\u001b[0m\u001b[32mo\u001b[0m\u001b[32mm\u001b[0m\u001b[32m/\u001b[0m\u001b[32ma\u001b[0m\u001b[32m/\u001b[0m\u001b[32m8\u001b[0m\u001b[32m2\u001b[0m\u001b[32m5\u001b[0m\u001b[32m8\u001b[0m\u001b[32m3\u001b[0m\u001b[32m4\u001b[0m\u001b[32m2\u001b[0m\u001b[32m9\u001b[0m\u001b[32m6\u001b[0m\u001b[32m_\u001b[0m\u001b[32m1\u001b[0m\u001b[32m2\u001b[0m\u001b[32m1\u001b[0m\u001b[32m9\u001b[0m\u001b[32m9\u001b[0m\u001b[32m7\u001b[0m\u001b[32m4\u001b[0m\u001b[32m9\u001b[0m\u001b[32m1\u001b[0m\u001b[32m)\u001b[0m\u001b[32m\n",
      "\u001b[0m\u001b[32m据\u001b[0m\u001b[32m环\u001b[0m\u001b[32m球\u001b[0m\u001b[32m网\u001b[0m\u001b[32m消\u001b[0m\u001b[32m息\u001b[0m\u001b[32m，\u001b[0m\u001b[32m美\u001b[0m\u001b[32m国\u001b[0m\u001b[32m财\u001b[0m\u001b[32m政\u001b[0m\u001b[32m部\u001b[0m\u001b[32m宣\u001b[0m\u001b[32m称\u001b[0m\u001b[32m，\u001b[0m\u001b[32m为\u001b[0m\u001b[32m防\u001b[0m\u001b[32m止\u001b[0m\u001b[32m美\u001b[0m\u001b[32m国\u001b[0m\u001b[32m投\u001b[0m\u001b[32m资\u001b[0m\u001b[32m推\u001b[0m\u001b[32m动\u001b[0m\u001b[32m中\u001b[0m\u001b[32m国\u001b[0m\u001b[32m相\u001b[0m\u001b[32m关\u001b[0m\u001b[32m科\u001b[0m\u001b[32m技\u001b[0m\u001b[32m发\u001b[0m\u001b[32m展\u001b[0m\u001b[32m进\u001b[0m\u001b[32m而\u001b[0m\u001b[32m威\u001b[0m\u001b[32m胁\u001b[0m\u001b[32m美\u001b[0m\u001b[32m国\u001b[0m\u001b[32m国\u001b[0m\u001b[32m家\u001b[0m\u001b[32m安\u001b[0m\u001b[32m全\u001b[0m\u001b[32m”\u001b[0m\u001b[32m，\u001b[0m\u001b[32m宣\u001b[0m\u001b[32m布\u001b[0m\u001b[32m自\u001b[0m\u001b[32m2\u001b[0m\u001b[32m0\u001b[0m\u001b[32m2\u001b[0m\u001b[32m5\u001b[0m\u001b[32m年\u001b[0m\u001b[32m1\u001b[0m\u001b[32m月\u001b[0m\u001b[32m起\u001b[0m\u001b[32m禁\u001b[0m\u001b[32m止\u001b[0m\u001b[32m对\u001b[0m\u001b[32m中\u001b[0m\u001b[32m国\u001b[0m\u001b[32m半\u001b[0m\u001b[32m导\u001b[0m\u001b[32m体\u001b[0m\u001b[32m、\u001b[0m\u001b[32m量\u001b[0m\u001b[32m子\u001b[0m\u001b[32m技\u001b[0m\u001b[32m术\u001b[0m\u001b[32m和\u001b[0m\u001b[32m人\u001b[0m\u001b[32m工\u001b[0m\u001b[32m智\u001b[0m\u001b[32m能\u001b[0m\u001b[32m（\u001b[0m\u001b[32mA\u001b[0m\u001b[32mI\u001b[0m\u001b[32m）\u001b[0m\u001b[32m领\u001b[0m\u001b[32m域\u001b[0m\u001b[32m中\u001b[0m\u001b[32m用\u001b[0m\u001b[32m于\u001b[0m\u001b[32m军\u001b[0m\u001b[32m事\u001b[0m\u001b[32m尖\u001b[0m\u001b[32m端\u001b[0m\u001b[32m技\u001b[0m\u001b[32m术\u001b[0m\u001b[32m”\u001b[0m\u001b[32m的\u001b[0m\u001b[32m部\u001b[0m\u001b[32m分\u001b[0m\u001b[32m进\u001b[0m\u001b[32m行\u001b[0m\u001b[32m投\u001b[0m\u001b[32m资\u001b[0m\u001b[32m。\u001b[0m\u001b[32m此\u001b[0m\u001b[32m消\u001b[0m\u001b[32m息\u001b[0m\u001b[32m一\u001b[0m\u001b[32m经\u001b[0m\u001b[32m发\u001b[0m\u001b[32m布\u001b[0m\u001b[32m便\u001b[0m\u001b[32m引\u001b[0m\u001b[32m发\u001b[0m\u001b[32m热\u001b[0m\u001b[32m议\u001b[0m\u001b[32m，\u001b[0m\u001b[32m不\u001b[0m\u001b[32m过\u001b[0m\u001b[32m经\u001b[0m\u001b[32m过\u001b[0m\u001b[32m数\u001b[0m\u001b[32m天\u001b[0m\u001b[32m观\u001b[0m\u001b[32m察\u001b[0m\u001b[32m发\u001b[0m\u001b[32m现\u001b[0m\u001b[32m，\u001b[0m\u001b[32m业\u001b[0m\u001b[32m界\u001b[0m\u001b[32m总\u001b[0m\u001b[32m体\u001b[0m\u001b[32m反\u001b[0m\u001b[32m应\u001b[0m\u001b[32m较\u001b[0m\u001b[32m为\u001b[0m\u001b[32m平\u001b[0m\u001b[32m淡\u001b[0m\u001b[32m。\u001b[0m\u001b[32m业\u001b[0m\u001b[32m界\u001b[0m\u001b[32m反\u001b[0m\u001b[32m应\u001b[0m\u001b[32m平\u001b[0m\u001b[32m淡\u001b[0m\u001b[32m的\u001b[0m\u001b[32m首\u001b[0m\u001b[32m要\u001b[0m\u001b[32m原\u001b[0m\u001b[32m因\u001b[0m\u001b[32m是\u001b[0m\u001b[32m并\u001b[0m\u001b[32m不\u001b[0m\u001b[32m意\u001b[0m\u001b[32m外\u001b[0m\u001b[32m”\u001b[0m\u001b[32m。\u001b[0m\u001b[32m因\u001b[0m\u001b[32m为\u001b[0m\u001b[32m早\u001b[0m\u001b[32m在\u001b[0m\u001b[32m2\u001b[0m\u001b[32m0\u001b[0m\u001b[32m2\u001b[0m\u001b[32m3\u001b[0m\u001b[32m年\u001b[0m\u001b[32m8\u001b[0m\u001b[32m月\u001b[0m\u001b[32m，\u001b[0m\u001b[32m拜\u001b[0m\u001b[32m登\u001b[0m\u001b[32m政\u001b[0m\u001b[32m府\u001b[0m\u001b[32m就\u001b[0m\u001b[32m已\u001b[0m\u001b[32m经\u001b[0m\u001b[32m颁\u001b[0m\u001b[32m布\u001b[0m\u001b[32m行\u001b[0m\u001b[32m政\u001b[0m\u001b[32m命\u001b[0m\u001b[32m令\u001b[0m\u001b[32m，\u001b[0m\u001b[32m禁\u001b[0m\u001b[32m止\u001b[0m\u001b[32m或\u001b[0m\u001b[32m限\u001b[0m\u001b[32m制\u001b[0m\u001b[32m美\u001b[0m\u001b[32m国\u001b[0m\u001b[32m投\u001b[0m\u001b[32m资\u001b[0m\u001b[32m者\u001b[0m\u001b[32m在\u001b[0m\u001b[32m这\u001b[0m\u001b[32m三\u001b[0m\u001b[32m个\u001b[0m\u001b[32m行\u001b[0m\u001b[32m业\u001b[0m\u001b[32m领\u001b[0m\u001b[32m域\u001b[0m\u001b[32m对\u001b[0m\u001b[32m中\u001b[0m\u001b[32m国\u001b[0m\u001b[32m实\u001b[0m\u001b[32m体\u001b[0m\u001b[32m进\u001b[0m\u001b[32m行\u001b[0m\u001b[32m特\u001b[0m\u001b[32m定\u001b[0m\u001b[32m类\u001b[0m\u001b[32m型\u001b[0m\u001b[32m的\u001b[0m\u001b[32m投\u001b[0m\u001b[32m资\u001b[0m\u001b[32m。\u001b[0m\u001b[32m\n",
      "\u001b[0m\u001b[32m在\u001b[0m\u001b[32m美\u001b[0m\u001b[32m国\u001b[0m\u001b[32m大\u001b[0m\u001b[32m选\u001b[0m\u001b[32m最\u001b[0m\u001b[32m终\u001b[0m\u001b[32m结\u001b[0m\u001b[32m果\u001b[0m\u001b[32m公\u001b[0m\u001b[32m布\u001b[0m\u001b[32m之\u001b[0m\u001b[32m后\u001b[0m\u001b[32m，\u001b[0m\u001b[32m全\u001b[0m\u001b[32m球\u001b[0m\u001b[32m的\u001b[0m\u001b[32m目\u001b[0m\u001b[32m光\u001b[0m\u001b[32m旋\u001b[0m\u001b[32m即\u001b[0m\u001b[32m聚\u001b[0m\u001b[32m焦\u001b[0m\u001b[32m于\u001b[0m\u001b[32m美\u001b[0m\u001b[32m国\u001b[0m\u001b[32m即\u001b[0m\u001b[32m将\u001b[0m\u001b[32m推\u001b[0m\u001b[32m行\u001b[0m\u001b[32m的\u001b[0m\u001b[32m未\u001b[0m\u001b[32m来\u001b[0m\u001b[32m经\u001b[0m\u001b[32m济\u001b[0m\u001b[32m政\u001b[0m\u001b[32m策\u001b[0m\u001b[32m。\u001b[0m\u001b[32m随\u001b[0m\u001b[32m着\u001b[0m\u001b[32m新\u001b[0m\u001b[32m的\u001b[0m\u001b[32m领\u001b[0m\u001b[32m导\u001b[0m\u001b[32m团\u001b[0m\u001b[32m队\u001b[0m\u001b[32m正\u001b[0m\u001b[32m式\u001b[0m\u001b[32m就\u001b[0m\u001b[32m职\u001b[0m\u001b[32m，\u001b[0m\u001b[32m针\u001b[0m\u001b[32m对\u001b[0m\u001b[32m中\u001b[0m\u001b[32m国\u001b[0m\u001b[32m的\u001b[0m\u001b[32m经\u001b[0m\u001b[32m济\u001b[0m\u001b[32m策\u001b[0m\u001b[32m略\u001b[0m\u001b[32m必\u001b[0m\u001b[32m然\u001b[0m\u001b[32m要\u001b[0m\u001b[32m作\u001b[0m\u001b[32m出\u001b[0m\u001b[32m相\u001b[0m\u001b[32m应\u001b[0m\u001b[32m的\u001b[0m\u001b[32m调\u001b[0m\u001b[32m整\u001b[0m\u001b[32m与\u001b[0m\u001b[32m优\u001b[0m\u001b[32m化\u001b[0m\u001b[32m。\u001b[0m\u001b[32m据\u001b[0m\u001b[32m最\u001b[0m\u001b[32m新\u001b[0m\u001b[32m消\u001b[0m\u001b[32m息\u001b[0m\u001b[32m，\u001b[0m\u001b[32m美\u001b[0m\u001b[32m国\u001b[0m\u001b[32m打\u001b[0m\u001b[32m算\u001b[0m\u001b[32m实\u001b[0m\u001b[32m施\u001b[0m\u001b[32m三\u001b[0m\u001b[32m项\u001b[0m\u001b[32m关\u001b[0m\u001b[32m键\u001b[0m\u001b[32m策\u001b[0m\u001b[32m略\u001b[0m\u001b[32m，\u001b[0m\u001b[32m从\u001b[0m\u001b[32m而\u001b[0m\u001b[32m强\u001b[0m\u001b[32m力\u001b[0m\u001b[32m应\u001b[0m\u001b[32m对\u001b[0m\u001b[32m中\u001b[0m\u001b[32m国\u001b[0m\u001b[32m的\u001b[0m\u001b[32m经\u001b[0m\u001b[32m济\u001b[0m\u001b[32m发\u001b[0m\u001b[32m展\u001b[0m\u001b[32m态\u001b[0m\u001b[32m势\u001b[0m\u001b[32m，\u001b[0m\u001b[32m并\u001b[0m\u001b[32m给\u001b[0m\u001b[32m予\u001b[0m\u001b[32m坚\u001b[0m\u001b[32m决\u001b[0m\u001b[32m回\u001b[0m\u001b[32m应\u001b[0m\u001b[32m。\u001b[0m\u001b[32m预\u001b[0m\u001b[32m计\u001b[0m\u001b[32m这\u001b[0m\u001b[32m些\u001b[0m\u001b[32m举\u001b[0m\u001b[32m措\u001b[0m\u001b[32m会\u001b[0m\u001b[32m给\u001b[0m\u001b[32m全\u001b[0m\u001b[32m球\u001b[0m\u001b[32m经\u001b[0m\u001b[32m济\u001b[0m\u001b[32m格\u001b[0m\u001b[32m局\u001b[0m\u001b[32m带\u001b[0m\u001b[32m来\u001b[0m\u001b[32m深\u001b[0m\u001b[32m远\u001b[0m\u001b[32m影\u001b[0m\u001b[32m响\u001b[0m\u001b[32m和\u001b[0m\u001b[32m重\u001b[0m\u001b[32m大\u001b[0m\u001b[32m变\u001b[0m\u001b[32m革\u001b[0m\u001b[32m。\u001b[0m\u001b[32m\n",
      "\u001b[0m\u001b[32m首\u001b[0m\u001b[32m要\u001b[0m\u001b[32m的\u001b[0m\u001b[32m策\u001b[0m\u001b[32m略\u001b[0m\u001b[32m就\u001b[0m\u001b[32m是\u001b[0m\u001b[32m加\u001b[0m\u001b[32m强\u001b[0m\u001b[32m对\u001b[0m\u001b[32m中\u001b[0m\u001b[32m国\u001b[0m\u001b[32m的\u001b[0m\u001b[32m科\u001b[0m\u001b[32m技\u001b[0m\u001b[32m封\u001b[0m\u001b[32m锁\u001b[0m\u001b[32m，\u001b[0m\u001b[32m其\u001b[0m\u001b[32m目\u001b[0m\u001b[32m的\u001b[0m\u001b[32m在\u001b[0m\u001b[32m于\u001b[0m\u001b[32m限\u001b[0m\u001b[32m制\u001b[0m\u001b[32m技\u001b[0m\u001b[32m术\u001b[0m\u001b[32m的\u001b[0m\u001b[32m流\u001b[0m\u001b[32m通\u001b[0m\u001b[32m以\u001b[0m\u001b[32m及\u001b[0m\u001b[32m创\u001b[0m\u001b[32m新\u001b[0m\u001b[32m资\u001b[0m\u001b[32m源\u001b[0m\u001b[32m的\u001b[0m\u001b[32m获\u001b[0m\u001b[32m取\u001b[0m\u001b[32m，\u001b[0m\u001b[32m从\u001b[0m\u001b[32m而\u001b[0m\u001b[32m给\u001b[0m\u001b[32m中\u001b[0m\u001b[32m国\u001b[0m\u001b[32m本\u001b[0m\u001b[32m土\u001b[0m\u001b[32m企\u001b[0m\u001b[32m业\u001b[0m\u001b[32m的\u001b[0m\u001b[32m发\u001b[0m\u001b[32m展\u001b[0m\u001b[32m带\u001b[0m\u001b[32m来\u001b[0m\u001b[32m巨\u001b[0m\u001b[32m大\u001b[0m\u001b[32m压\u001b[0m\u001b[32m力\u001b[0m\u001b[32m。\u001b[0m\u001b[32m\n",
      "\u001b[0m\u001b[32m1\u001b[0m\u001b[32m1\u001b[0m\u001b[32m月\u001b[0m\u001b[32m6\u001b[0m\u001b[32m日\u001b[0m\u001b[32m下\u001b[0m\u001b[32m午\u001b[0m\u001b[32m，\u001b[0m\u001b[32m备\u001b[0m\u001b[32m受\u001b[0m\u001b[32m瞩\u001b[0m\u001b[32m目\u001b[0m\u001b[32m的\u001b[0m\u001b[32m美\u001b[0m\u001b[32m国\u001b[0m\u001b[32m大\u001b[0m\u001b[32m选\u001b[0m\u001b[32m最\u001b[0m\u001b[32m终\u001b[0m\u001b[32m有\u001b[0m\u001b[32m了\u001b[0m\u001b[32m结\u001b[0m\u001b[32m果\u001b[0m\u001b[32m，\u001b[0m\u001b[32m特\u001b[0m\u001b[32m朗\u001b[0m\u001b[32m普\u001b[0m\u001b[32m凭\u001b[0m\u001b[32m借\u001b[0m\u001b[32m2\u001b[0m\u001b[32m7\u001b[0m\u001b[32m7\u001b[0m\u001b[32m张\u001b[0m\u001b[32m选\u001b[0m\u001b[32m举\u001b[0m\u001b[32m人\u001b[0m\u001b[32m票\u001b[0m\u001b[32m赢\u001b[0m\u001b[32m得\u001b[0m\u001b[32m大\u001b[0m\u001b[32m选\u001b[0m\u001b[32m。\u001b[0m\u001b[32m此\u001b[0m\u001b[32m消\u001b[0m\u001b[32m息\u001b[0m\u001b[32m一\u001b[0m\u001b[32m经\u001b[0m\u001b[32m传\u001b[0m\u001b[32m出\u001b[0m\u001b[32m，\u001b[0m\u001b[32mA\u001b[0m\u001b[32m股\u001b[0m\u001b[32m市\u001b[0m\u001b[32m场\u001b[0m\u001b[32m在\u001b[0m\u001b[32m盘\u001b[0m\u001b[32m中\u001b[0m\u001b[32m的\u001b[0m\u001b[32m波\u001b[0m\u001b[32m动\u001b[0m\u001b[32m便\u001b[0m\u001b[32m加\u001b[0m\u001b[32m剧\u001b[0m\u001b[32m了\u001b[0m\u001b[32m，\u001b[0m\u001b[32m三\u001b[0m\u001b[32m大\u001b[0m\u001b[32m指\u001b[0m\u001b[32m数\u001b[0m\u001b[32m以\u001b[0m\u001b[32m及\u001b[0m\u001b[32m多\u001b[0m\u001b[32m个\u001b[0m\u001b[32m板\u001b[0m\u001b[32m块\u001b[0m\u001b[32m呈\u001b[0m\u001b[32m现\u001b[0m\u001b[32m弱\u001b[0m\u001b[32m势\u001b[0m\u001b[32m震\u001b[0m\u001b[32m荡\u001b[0m\u001b[32m的\u001b[0m\u001b[32m态\u001b[0m\u001b[32m势\u001b[0m\u001b[32m，\u001b[0m\u001b[32m然\u001b[0m\u001b[32m而\u001b[0m\u001b[32m国\u001b[0m\u001b[32m产\u001b[0m\u001b[32m替\u001b[0m\u001b[32m代\u001b[0m\u001b[32m这\u001b[0m\u001b[32m一\u001b[0m\u001b[32m主\u001b[0m\u001b[32m线\u001b[0m\u001b[32m却\u001b[0m\u001b[32m表\u001b[0m\u001b[32m现\u001b[0m\u001b[32m得\u001b[0m\u001b[32m较\u001b[0m\u001b[32m为\u001b[0m\u001b[32m坚\u001b[0m\u001b[32m挺\u001b[0m\u001b[32m。\u001b[0m\u001b[32m\n",
      "\u001b[0m\u001b[32m具\u001b[0m\u001b[32m体\u001b[0m\u001b[32m而\u001b[0m\u001b[32m言\u001b[0m\u001b[32m，\u001b[0m\u001b[32m在\u001b[0m\u001b[32m芯\u001b[0m\u001b[32m片\u001b[0m\u001b[32m上\u001b[0m\u001b[32m游\u001b[0m\u001b[32m板\u001b[0m\u001b[32m块\u001b[0m\u001b[32m中\u001b[0m\u001b[32m，\u001b[0m\u001b[32m半\u001b[0m\u001b[32m导\u001b[0m\u001b[32m体\u001b[0m\u001b[32m设\u001b[0m\u001b[32m备\u001b[0m\u001b[32m与\u001b[0m\u001b[32m材\u001b[0m\u001b[32m料\u001b[0m\u001b[32m环\u001b[0m\u001b[32m节\u001b[0m\u001b[32m保\u001b[0m\u001b[32m持\u001b[0m\u001b[32m着\u001b[0m\u001b[32m强\u001b[0m\u001b[32m劲\u001b[0m\u001b[32m的\u001b[0m\u001b[32m态\u001b[0m\u001b[32m势\u001b[0m\u001b[32m，\u001b[0m\u001b[32m光\u001b[0m\u001b[32m刻\u001b[0m\u001b[32m机\u001b[0m\u001b[32m概\u001b[0m\u001b[32m念\u001b[0m\u001b[32m下\u001b[0m\u001b[32m有\u001b[0m\u001b[32m多\u001b[0m\u001b[32m只\u001b[0m\u001b[32m股\u001b[0m\u001b[32m票\u001b[0m\u001b[32m涨\u001b[0m\u001b[32m停\u001b[0m\u001b[32m，\u001b[0m\u001b[32m量\u001b[0m\u001b[32m测\u001b[0m\u001b[32m检\u001b[0m\u001b[32m测\u001b[0m\u001b[32m、\u001b[0m\u001b[32m薄\u001b[0m\u001b[32m膜\u001b[0m\u001b[32m沉\u001b[0m\u001b[32m积\u001b[0m\u001b[32m等\u001b[0m\u001b[32m方\u001b[0m\u001b[32m面\u001b[0m\u001b[32m也\u001b[0m\u001b[32m有\u001b[0m\u001b[32m大\u001b[0m\u001b[32m幅\u001b[0m\u001b[32m拉\u001b[0m\u001b[32m升\u001b[0m\u001b[32m，\u001b[0m\u001b[32m机\u001b[0m\u001b[32m器\u001b[0m\u001b[32m人\u001b[0m\u001b[32m、\u001b[0m\u001b[32m华\u001b[0m\u001b[32m为\u001b[0m\u001b[32m9\u001b[0m\u001b[32m1\u001b[0m\u001b[32m0\u001b[0m\u001b[32mC\u001b[0m\u001b[32m等\u001b[0m\u001b[32m自\u001b[0m\u001b[32m主\u001b[0m\u001b[32m可\u001b[0m\u001b[32m控\u001b[0m\u001b[32m方\u001b[0m\u001b[32m向\u001b[0m\u001b[32m同\u001b[0m\u001b[32m样\u001b[0m\u001b[32m取\u001b[0m\u001b[32m得\u001b[0m\u001b[32m了\u001b[0m\u001b[32m显\u001b[0m\u001b[32m著\u001b[0m\u001b[32m的\u001b[0m\u001b[32m进\u001b[0m\u001b[32m展\u001b[0m\u001b[32m。\u001b[0m\u001b[32m以\u001b[0m\u001b[32m聚\u001b[0m\u001b[32m焦\u001b[0m\u001b[32m半\u001b[0m\u001b[32m导\u001b[0m\u001b[32m体\u001b[0m\u001b[32m设\u001b[0m\u001b[32m备\u001b[0m\u001b[32m与\u001b[0m\u001b[32m材\u001b[0m\u001b[32m料\u001b[0m\u001b[32m”\u001b[0m\u001b[32m的\u001b[0m\u001b[32m中\u001b[0m\u001b[32m证\u001b[0m\u001b[32m半\u001b[0m\u001b[32m导\u001b[0m\u001b[32m指\u001b[0m\u001b[32m数\u001b[0m\u001b[32m为\u001b[0m\u001b[32m例\u001b[0m\u001b[32m，\u001b[0m\u001b[32m1\u001b[0m\u001b[32m1\u001b[0m\u001b[32m月\u001b[0m\u001b[32m6\u001b[0m\u001b[32m日\u001b[0m\u001b[32m收\u001b[0m\u001b[32m盘\u001b[0m\u001b[32m时\u001b[0m\u001b[32m该\u001b[0m\u001b[32m指\u001b[0m\u001b[32m数\u001b[0m\u001b[32m逆\u001b[0m\u001b[32m势\u001b[0m\u001b[32m收\u001b[0m\u001b[32m红\u001b[0m\u001b[32m，\u001b[0m\u001b[32m达\u001b[0m\u001b[32m成\u001b[0m\u001b[32m了\u001b[0m\u001b[32m三\u001b[0m\u001b[32m连\u001b[0m\u001b[32m涨\u001b[0m\u001b[32m。\u001b[0m\u001b[32m\n",
      "\u001b[0m\u001b[32m当\u001b[0m\u001b[32m地\u001b[0m\u001b[32m时\u001b[0m\u001b[32m间\u001b[0m\u001b[32m1\u001b[0m\u001b[32m1\u001b[0m\u001b[32m月\u001b[0m\u001b[32m7\u001b[0m\u001b[32m日\u001b[0m\u001b[32m，\u001b[0m\u001b[32m美\u001b[0m\u001b[32m联\u001b[0m\u001b[32m储\u001b[0m\u001b[32m的\u001b[0m\u001b[32m决\u001b[0m\u001b[32m策\u001b[0m\u001b[32m机\u001b[0m\u001b[32m构\u001b[0m\u001b[32m联\u001b[0m\u001b[32m邦\u001b[0m\u001b[32m公\u001b[0m\u001b[32m开\u001b[0m\u001b[32m市\u001b[0m\u001b[32m场\u001b[0m\u001b[32m委\u001b[0m\u001b[32m员\u001b[0m\u001b[32m会\u001b[0m\u001b[32m（\u001b[0m\u001b[32mF\u001b[0m\u001b[32mO\u001b[0m\u001b[32mM\u001b[0m\u001b[32mC\u001b[0m\u001b[32m）\u001b[0m\u001b[32m作\u001b[0m\u001b[32m出\u001b[0m\u001b[32m决\u001b[0m\u001b[32m定\u001b[0m\u001b[32m，\u001b[0m\u001b[32m把\u001b[0m\u001b[32m联\u001b[0m\u001b[32m邦\u001b[0m\u001b[32m基\u001b[0m\u001b[32m金\u001b[0m\u001b[32m利\u001b[0m\u001b[32m率\u001b[0m\u001b[32m目\u001b[0m\u001b[32m标\u001b[0m\u001b[32m区\u001b[0m\u001b[32m间\u001b[0m\u001b[32m下\u001b[0m\u001b[32m调\u001b[0m\u001b[32m2\u001b[0m\u001b[32m5\u001b[0m\u001b[32m个\u001b[0m\u001b[32m基\u001b[0m\u001b[32m点\u001b[0m\u001b[32m。\u001b[0m\u001b[32m而\u001b[0m\u001b[32m就\u001b[0m\u001b[32m在\u001b[0m\u001b[32m此\u001b[0m\u001b[32m前\u001b[0m\u001b[32m一\u001b[0m\u001b[32m日\u001b[0m\u001b[32m，\u001b[0m\u001b[32m美\u001b[0m\u001b[32m国\u001b[0m\u001b[32m共\u001b[0m\u001b[32m和\u001b[0m\u001b[32m党\u001b[0m\u001b[32m总\u001b[0m\u001b[32m统\u001b[0m\u001b[32m候\u001b[0m\u001b[32m选\u001b[0m\u001b[32m人\u001b[0m\u001b[32m特\u001b[0m\u001b[32m朗\u001b[0m\u001b[32m普\u001b[0m\u001b[32m刚\u001b[0m\u001b[32m刚\u001b[0m\u001b[32m宣\u001b[0m\u001b[32m布\u001b[0m\u001b[32m胜\u001b[0m\u001b[32m选\u001b[0m\u001b[32m。\u001b[0m\u001b[32m在\u001b[0m\u001b[32m此\u001b[0m\u001b[32m之\u001b[0m\u001b[32m前\u001b[0m\u001b[32m，\u001b[0m\u001b[32m特\u001b[0m\u001b[32m朗\u001b[0m\u001b[32m普\u001b[0m\u001b[32m曾\u001b[0m\u001b[32m多\u001b[0m\u001b[32m次\u001b[0m\u001b[32m基\u001b[0m\u001b[32m于\u001b[0m\u001b[32m美\u001b[0m\u001b[32m联\u001b[0m\u001b[32m储\u001b[0m\u001b[32m的\u001b[0m\u001b[32m加\u001b[0m\u001b[32m息\u001b[0m\u001b[32m政\u001b[0m\u001b[32m策\u001b[0m\u001b[32m对\u001b[0m\u001b[32m美\u001b[0m\u001b[32m联\u001b[0m\u001b[32m储\u001b[0m\u001b[32m主\u001b[0m\u001b[32m席\u001b[0m\u001b[32m鲍\u001b[0m\u001b[32m威\u001b[0m\u001b[32m尔\u001b[0m\u001b[32m予\u001b[0m\u001b[32m以\u001b[0m\u001b[32m猛\u001b[0m\u001b[32m烈\u001b[0m\u001b[32m抨\u001b[0m\u001b[32m击\u001b[0m\u001b[32m。\u001b[0m\u001b[32m\n",
      "\u001b[0m\u001b[32m在\u001b[0m\u001b[32m中\u001b[0m\u001b[32m美\u001b[0m\u001b[32m全\u001b[0m\u001b[32m面\u001b[0m\u001b[32m博\u001b[0m\u001b[32m弈\u001b[0m\u001b[32m的\u001b[0m\u001b[32m大\u001b[0m\u001b[32m形\u001b[0m\u001b[32m势\u001b[0m\u001b[32m之\u001b[0m\u001b[32m下\u001b[0m\u001b[32m，\u001b[0m\u001b[32m美\u001b[0m\u001b[32m国\u001b[0m\u001b[32m拜\u001b[0m\u001b[32m登\u001b[0m\u001b[32m政\u001b[0m\u001b[32m府\u001b[0m\u001b[32m已\u001b[0m\u001b[32m将\u001b[0m\u001b[32m中\u001b[0m\u001b[32m美\u001b[0m\u001b[32m较\u001b[0m\u001b[32m量\u001b[0m\u001b[32m的\u001b[0m\u001b[32m主\u001b[0m\u001b[32m战\u001b[0m\u001b[32m场\u001b[0m\u001b[32m设\u001b[0m\u001b[32m定\u001b[0m\u001b[32m于\u001b[0m\u001b[32m高\u001b[0m\u001b[32m新\u001b[0m\u001b[32m科\u001b[0m\u001b[32m技\u001b[0m\u001b[32m领\u001b[0m\u001b[32m域\u001b[0m\u001b[32m，\u001b[0m\u001b[32m半\u001b[0m\u001b[32m导\u001b[0m\u001b[32m体\u001b[0m\u001b[32m、\u001b[0m\u001b[32m量\u001b[0m\u001b[32m子\u001b[0m\u001b[32m技\u001b[0m\u001b[32m术\u001b[0m\u001b[32m以\u001b[0m\u001b[32m及\u001b[0m\u001b[32m人\u001b[0m\u001b[32m工\u001b[0m\u001b[32m智\u001b[0m\u001b[32m能\u001b[0m\u001b[32m这\u001b[0m\u001b[32m三\u001b[0m\u001b[32m大\u001b[0m\u001b[32m领\u001b[0m\u001b[32m域\u001b[0m\u001b[32m更\u001b[0m\u001b[32m是\u001b[0m\u001b[32m其\u001b[0m\u001b[32m重\u001b[0m\u001b[32m点\u001b[0m\u001b[32m关\u001b[0m\u001b[32m注\u001b[0m\u001b[32m对\u001b[0m\u001b[32m象\u001b[0m\u001b[32m。\u001b[0m\u001b[32m就\u001b[0m\u001b[32m在\u001b[0m\u001b[32m不\u001b[0m\u001b[32m久\u001b[0m\u001b[32m之\u001b[0m\u001b[32m前\u001b[0m\u001b[32m，\u001b[0m\u001b[32m美\u001b[0m\u001b[32m国\u001b[0m\u001b[32m财\u001b[0m\u001b[32m政\u001b[0m\u001b[32m部\u001b[0m\u001b[32m宣\u001b[0m\u001b[32m称\u001b[0m\u001b[32m，\u001b[0m\u001b[32m为\u001b[0m\u001b[32m防\u001b[0m\u001b[32m止\u001b[0m\u001b[32m美\u001b[0m\u001b[32m国\u001b[0m\u001b[32m投\u001b[0m\u001b[32m资\u001b[0m\u001b[32m推\u001b[0m\u001b[32m动\u001b[0m\u001b[32m中\u001b[0m\u001b[32m国\u001b[0m\u001b[32m相\u001b[0m\u001b[32m关\u001b[0m\u001b[32m科\u001b[0m\u001b[32m技\u001b[0m\u001b[32m发\u001b[0m\u001b[32m展\u001b[0m\u001b[32m进\u001b[0m\u001b[32m而\u001b[0m\u001b[32m威\u001b[0m\u001b[32m胁\u001b[0m\u001b[32m美\u001b[0m\u001b[32m国\u001b[0m\u001b[32m国\u001b[0m\u001b[32m家\u001b[0m\u001b[32m安\u001b[0m\u001b[32m全\u001b[0m\u001b[32m”\u001b[0m\u001b[32m，\u001b[0m\u001b[32m决\u001b[0m\u001b[32m定\u001b[0m\u001b[32m自\u001b[0m\u001b[32m2\u001b[0m\u001b[32m0\u001b[0m\u001b[32m2\u001b[0m\u001b[32m5\u001b[0m\u001b[32m年\u001b[0m\u001b[32m1\u001b[0m\u001b[32m月\u001b[0m\u001b[32m开\u001b[0m\u001b[32m始\u001b[0m\u001b[32m，\u001b[0m\u001b[32m禁\u001b[0m\u001b[32m止\u001b[0m\u001b[32m对\u001b[0m\u001b[32m中\u001b[0m\u001b[32m国\u001b[0m\u001b[32m在\u001b[0m\u001b[32m半\u001b[0m\u001b[32m导\u001b[0m\u001b[32m体\u001b[0m\u001b[32m、\u001b[0m\u001b[32m量\u001b[0m\u001b[32m子\u001b[0m\u001b[32m技\u001b[0m\u001b[32m术\u001b[0m\u001b[32m和\u001b[0m\u001b[32m人\u001b[0m\u001b[32m工\u001b[0m\u001b[32m智\u001b[0m\u001b[32m能\u001b[0m\u001b[32m领\u001b[0m\u001b[32m域\u001b[0m\u001b[32m中\u001b[0m\u001b[32m用\u001b[0m\u001b[32m于\u001b[0m\u001b[32m军\u001b[0m\u001b[32m事\u001b[0m\u001b[32m尖\u001b[0m\u001b[32m端\u001b[0m\u001b[32m技\u001b[0m\u001b[32m术\u001b[0m\u001b[32m”\u001b[0m\u001b[32m的\u001b[0m\u001b[32m投\u001b[0m\u001b[32m资\u001b[0m\u001b[32m，\u001b[0m\u001b[32m这\u001b[0m\u001b[32m一\u001b[0m\u001b[32m举\u001b[0m\u001b[32m措\u001b[0m\u001b[32m一\u001b[0m\u001b[32m度\u001b[0m\u001b[32m引\u001b[0m\u001b[32m发\u001b[0m\u001b[32m广\u001b[0m\u001b[32m泛\u001b[0m\u001b[32m关\u001b[0m\u001b[32m注\u001b[0m\u001b[32m与\u001b[0m\u001b[32m讨\u001b[0m\u001b[32m论\u001b[0m\u001b[32m。\u001b[0m\u001b[32m不\u001b[0m\u001b[32m过\u001b[0m\u001b[32m，\u001b[0m\u001b[32m美\u001b[0m\u001b[32m国\u001b[0m\u001b[32m针\u001b[0m\u001b[32m对\u001b[0m\u001b[32m中\u001b[0m\u001b[32m国\u001b[0m\u001b[32m的\u001b[0m\u001b[32m疯\u001b[0m\u001b[32m狂\u001b[0m\u001b[32m打\u001b[0m\u001b[32m压\u001b[0m\u001b[32m、\u001b[0m\u001b[32m制\u001b[0m\u001b[32m裁\u001b[0m\u001b[32m以\u001b[0m\u001b[32m及\u001b[0m\u001b[32m各\u001b[0m\u001b[32m类\u001b[0m\u001b[32m限\u001b[0m\u001b[32m制\u001b[0m\u001b[32m政\u001b[0m\u001b[32m策\u001b[0m\u001b[32m，\u001b[0m\u001b[32m不\u001b[0m\u001b[32m但\u001b[0m\u001b[32m未\u001b[0m\u001b[32m能\u001b[0m\u001b[32m击\u001b[0m\u001b[32m垮\u001b[0m\u001b[32m中\u001b[0m\u001b[32m国\u001b[0m\u001b[32m，\u001b[0m\u001b[32m相\u001b[0m\u001b[32m反\u001b[0m\u001b[32m，\u001b[0m\u001b[32m中\u001b[0m\u001b[32m国\u001b[0m\u001b[32m在\u001b[0m\u001b[32m关\u001b[0m\u001b[32m键\u001b[0m\u001b[32m领\u001b[0m\u001b[32m域\u001b[0m\u001b[32m不\u001b[0m\u001b[32m断\u001b[0m\u001b[32m实\u001b[0m\u001b[32m现\u001b[0m\u001b[32m突\u001b[0m\u001b[32m破\u001b[0m\u001b[32m，\u001b[0m\u001b[32m并\u001b[0m\u001b[32m且\u001b[0m\u001b[32m还\u001b[0m\u001b[32m对\u001b[0m\u001b[32m美\u001b[0m\u001b[32m国\u001b[0m\u001b[32m自\u001b[0m\u001b[32m身\u001b[0m\u001b[32m形\u001b[0m\u001b[32m成\u001b[0m\u001b[32m了\u001b[0m\u001b[32m三\u001b[0m\u001b[32m点\u001b[0m\u001b[32m反\u001b[0m\u001b[32m制\u001b[0m\u001b[32m。\u001b[0m\u001b[32m\n",
      "\u001b[0m\u001b[32m\n",
      "\u001b[0m\u001b[32m#\u001b[0m\u001b[32m#\u001b[0m\u001b[32m \u001b[0m\u001b[32m[\u001b[0m\u001b[32m国\u001b[0m\u001b[32m际\u001b[0m\u001b[32m深\u001b[0m\u001b[32m一\u001b[0m\u001b[32m度\u001b[0m\u001b[32m：\u001b[0m\u001b[32m靠\u001b[0m\u001b[32m网\u001b[0m\u001b[32m红\u001b[0m\u001b[32m打\u001b[0m\u001b[32m“\u001b[0m\u001b[32m网\u001b[0m\u001b[32m战\u001b[0m\u001b[32m”\u001b[0m\u001b[32m，\u001b[0m\u001b[32m特\u001b[0m\u001b[32m朗\u001b[0m\u001b[32m普\u001b[0m\u001b[32m胜\u001b[0m\u001b[32m选\u001b[0m\u001b[32m“\u001b[0m\u001b[32m秘\u001b[0m\u001b[32m诀\u001b[0m\u001b[32m”\u001b[0m\u001b[32m离\u001b[0m\u001b[32m不\u001b[0m\u001b[32m开\u001b[0m\u001b[32m他\u001b[0m\u001b[32m们\u001b[0m\u001b[32m？\u001b[0m\u001b[32m]\u001b[0m\u001b[32m(\u001b[0m\u001b[32mh\u001b[0m\u001b[32mt\u001b[0m\u001b[32mt\u001b[0m\u001b[32mp\u001b[0m\u001b[32ms\u001b[0m\u001b[32m:\u001b[0m\u001b[32m/\u001b[0m\u001b[32m/\u001b[0m\u001b[32mw\u001b[0m\u001b[32mw\u001b[0m\u001b[32mw\u001b[0m\u001b[32m.\u001b[0m\u001b[32mc\u001b[0m\u001b[32mh\u001b[0m\u001b[32mi\u001b[0m\u001b[32mn\u001b[0m\u001b[32ma\u001b[0m\u001b[32mn\u001b[0m\u001b[32me\u001b[0m\u001b[32mw\u001b[0m\u001b[32ms\u001b[0m\u001b[32m.\u001b[0m\u001b[32mc\u001b[0m\u001b[32mo\u001b[0m\u001b[32mm\u001b[0m\u001b[32m.\u001b[0m\u001b[32mc\u001b[0m\u001b[32mn\u001b[0m\u001b[32m/\u001b[0m\u001b[32mg\u001b[0m\u001b[32mj\u001b[0m\u001b[32m/\u001b[0m\u001b[32m2\u001b[0m\u001b[32m0\u001b[0m\u001b[32m2\u001b[0m\u001b[32m4\u001b[0m\u001b[32m/\u001b[0m\u001b[32m1\u001b[0m\u001b[32m1\u001b[0m\u001b[32m-\u001b[0m\u001b[32m1\u001b[0m\u001b[32m2\u001b[0m\u001b[32m/\u001b[0m\u001b[32m1\u001b[0m\u001b[32m0\u001b[0m\u001b[32m3\u001b[0m\u001b[32m1\u001b[0m\u001b[32m7\u001b[0m\u001b[32m5\u001b[0m\u001b[32m2\u001b[0m\u001b[32m3\u001b[0m\u001b[32m.\u001b[0m\u001b[32ms\u001b[0m\u001b[32mh\u001b[0m\u001b[32mt\u001b[0m\u001b[32mm\u001b[0m\u001b[32ml\u001b[0m\u001b[32m)\u001b[0m\u001b[32m\n",
      "\u001b[0m\u001b[32m中\u001b[0m\u001b[32m新\u001b[0m\u001b[32m网\u001b[0m\u001b[32m1\u001b[0m\u001b[32m1\u001b[0m\u001b[32m月\u001b[0m\u001b[32m1\u001b[0m\u001b[32m2\u001b[0m\u001b[32m日\u001b[0m\u001b[32m电\u001b[0m\u001b[32m(\u001b[0m\u001b[32m郑\u001b[0m\u001b[32m云\u001b[0m\u001b[32m天\u001b[0m\u001b[32m)\u001b[0m\u001b[32m在\u001b[0m\u001b[32m2\u001b[0m\u001b[32m0\u001b[0m\u001b[32m2\u001b[0m\u001b[32m4\u001b[0m\u001b[32m年\u001b[0m\u001b[32m美\u001b[0m\u001b[32m国\u001b[0m\u001b[32m总\u001b[0m\u001b[32m统\u001b[0m\u001b[32m大\u001b[0m\u001b[32m选\u001b[0m\u001b[32m中\u001b[0m\u001b[32m，\u001b[0m\u001b[32m民\u001b[0m\u001b[32m主\u001b[0m\u001b[32m党\u001b[0m\u001b[32m主\u001b[0m\u001b[32m打\u001b[0m\u001b[32m依\u001b[0m\u001b[32m靠\u001b[0m\u001b[32m传\u001b[0m\u001b[32m统\u001b[0m\u001b[32m选\u001b[0m\u001b[32m民\u001b[0m\u001b[32m、\u001b[0m\u001b[32m志\u001b[0m\u001b[32m愿\u001b[0m\u001b[32m者\u001b[0m\u001b[32m地\u001b[0m\u001b[32m推\u001b[0m\u001b[32m催\u001b[0m\u001b[32m票\u001b[0m\u001b[32m的\u001b[0m\u001b[32m陆\u001b[0m\u001b[32m战\u001b[0m\u001b[32m”\u001b[0m\u001b[32m模\u001b[0m\u001b[32m式\u001b[0m\u001b[32m，\u001b[0m\u001b[32m但\u001b[0m\u001b[32m共\u001b[0m\u001b[32m和\u001b[0m\u001b[32m党\u001b[0m\u001b[32m总\u001b[0m\u001b[32m统\u001b[0m\u001b[32m候\u001b[0m\u001b[32m选\u001b[0m\u001b[32m人\u001b[0m\u001b[32m特\u001b[0m\u001b[32m朗\u001b[0m\u001b[32m普\u001b[0m\u001b[32m直\u001b[0m\u001b[32m接\u001b[0m\u001b[32m从\u001b[0m\u001b[32m线\u001b[0m\u001b[32m上\u001b[0m\u001b[32m进\u001b[0m\u001b[32m攻\u001b[0m\u001b[32m”\u001b[0m\u001b[32m，\u001b[0m\u001b[32m在\u001b[0m\u001b[32m网\u001b[0m\u001b[32m络\u001b[0m\u001b[32m和\u001b[0m\u001b[32m社\u001b[0m\u001b[32m交\u001b[0m\u001b[32m媒\u001b[0m\u001b[32m体\u001b[0m\u001b[32m领\u001b[0m\u001b[32m域\u001b[0m\u001b[32m的\u001b[0m\u001b[32m动\u001b[0m\u001b[32m员\u001b[0m\u001b[32m能\u001b[0m\u001b[32m力\u001b[0m\u001b[32m堪\u001b[0m\u001b[32m称\u001b[0m\u001b[32m强\u001b[0m\u001b[32m大\u001b[0m\u001b[32m。\u001b[0m\u001b[32m\n",
      "\u001b[0m\u001b[32m分\u001b[0m\u001b[32m析\u001b[0m\u001b[32m认\u001b[0m\u001b[32m为\u001b[0m\u001b[32m，\u001b[0m\u001b[32m特\u001b[0m\u001b[32m朗\u001b[0m\u001b[32m普\u001b[0m\u001b[32m这\u001b[0m\u001b[32m次\u001b[0m\u001b[32m在\u001b[0m\u001b[32m陆\u001b[0m\u001b[32m战\u001b[0m\u001b[32m”\u001b[0m\u001b[32m拉\u001b[0m\u001b[32m票\u001b[0m\u001b[32m中\u001b[0m\u001b[32m并\u001b[0m\u001b[32m没\u001b[0m\u001b[32m占\u001b[0m\u001b[32m到\u001b[0m\u001b[32m太\u001b[0m\u001b[32m多\u001b[0m\u001b[32m便\u001b[0m\u001b[32m宜\u001b[0m\u001b[32m，\u001b[0m\u001b[32m但\u001b[0m\u001b[32m在\u001b[0m\u001b[32m空\u001b[0m\u001b[32m战\u001b[0m\u001b[32m”\u001b[0m\u001b[32m层\u001b[0m\u001b[32m面\u001b[0m\u001b[32m占\u001b[0m\u001b[32m据\u001b[0m\u001b[32m显\u001b[0m\u001b[32m著\u001b[0m\u001b[32m优\u001b[0m\u001b[32m势\u001b[0m\u001b[32m；\u001b[0m\u001b[32m相\u001b[0m\u001b[32m比\u001b[0m\u001b[32m之\u001b[0m\u001b[32m下\u001b[0m\u001b[32m，\u001b[0m\u001b[32m民\u001b[0m\u001b[32m主\u001b[0m\u001b[32m党\u001b[0m\u001b[32m的\u001b[0m\u001b[32m空\u001b[0m\u001b[32m军\u001b[0m\u001b[32m部\u001b[0m\u001b[32m队\u001b[0m\u001b[32m”\u001b[0m\u001b[32m陷\u001b[0m\u001b[32m入\u001b[0m\u001b[32m分\u001b[0m\u001b[32m裂\u001b[0m\u001b[32m的\u001b[0m\u001b[32m泥\u001b[0m\u001b[32m沼\u001b[0m\u001b[32m，\u001b[0m\u001b[32m无\u001b[0m\u001b[32m法\u001b[0m\u001b[32m形\u001b[0m\u001b[32m成\u001b[0m\u001b[32m合\u001b[0m\u001b[32m力\u001b[0m\u001b[32m，\u001b[0m\u001b[32m最\u001b[0m\u001b[32m终\u001b[0m\u001b[32m在\u001b[0m\u001b[32m选\u001b[0m\u001b[32m举\u001b[0m\u001b[32m博\u001b[0m\u001b[32m弈\u001b[0m\u001b[32m中\u001b[0m\u001b[32m落\u001b[0m\u001b[32m了\u001b[0m\u001b[32m下\u001b[0m\u001b[32m风\u001b[0m\u001b[32m。\u001b[0m\u001b[32m\n",
      "\u001b[0m\u001b[32m特\u001b[0m\u001b[32m朗\u001b[0m\u001b[32m普\u001b[0m\u001b[32m纵\u001b[0m\u001b[32m横\u001b[0m\u001b[32m网\u001b[0m\u001b[32m络\u001b[0m\u001b[32m，\u001b[0m\u001b[32m带\u001b[0m\u001b[32m动\u001b[0m\u001b[32m网\u001b[0m\u001b[32m红\u001b[0m\u001b[32m部\u001b[0m\u001b[32m队\u001b[0m\u001b[32m”\u001b[0m\u001b[32m\n",
      "\u001b[0m\u001b[32m在\u001b[0m\u001b[32m电\u001b[0m\u001b[32m视\u001b[0m\u001b[32m机\u001b[0m\u001b[32m时\u001b[0m\u001b[32m代\u001b[0m\u001b[32m，\u001b[0m\u001b[32m特\u001b[0m\u001b[32m朗\u001b[0m\u001b[32m普\u001b[0m\u001b[32m本\u001b[0m\u001b[32m人\u001b[0m\u001b[32m就\u001b[0m\u001b[32m是\u001b[0m\u001b[32m知\u001b[0m\u001b[32m名\u001b[0m\u001b[32m节\u001b[0m\u001b[32m目\u001b[0m\u001b[32m主\u001b[0m\u001b[32m持\u001b[0m\u001b[32m人\u001b[0m\u001b[32m，\u001b[0m\u001b[32m在\u001b[0m\u001b[32m社\u001b[0m\u001b[32m交\u001b[0m\u001b[32m媒\u001b[0m\u001b[32m体\u001b[0m\u001b[32m时\u001b[0m\u001b[32m代\u001b[0m\u001b[32m，\u001b[0m\u001b[32m他\u001b[0m\u001b[32m又\u001b[0m\u001b[32m摇\u001b[0m\u001b[32m身\u001b[0m\u001b[32m一\u001b[0m\u001b[32m变\u001b[0m\u001b[32m成\u001b[0m\u001b[32m为\u001b[0m\u001b[32m发\u001b[0m\u001b[32m帖\u001b[0m\u001b[32m达\u001b[0m\u001b[32m人\u001b[0m\u001b[32m”\u001b[0m\u001b[32m。\u001b[0m\u001b[32m\n",
      "\u001b[0m\u001b[32m分\u001b[0m\u001b[32m析\u001b[0m\u001b[32m认\u001b[0m\u001b[32m为\u001b[0m\u001b[32m，\u001b[0m\u001b[32m特\u001b[0m\u001b[32m朗\u001b[0m\u001b[32m普\u001b[0m\u001b[32m对\u001b[0m\u001b[32m自\u001b[0m\u001b[32m己\u001b[0m\u001b[32m支\u001b[0m\u001b[32m持\u001b[0m\u001b[32m者\u001b[0m\u001b[32m的\u001b[0m\u001b[32m心\u001b[0m\u001b[32m理\u001b[0m\u001b[32m和\u001b[0m\u001b[32m诉\u001b[0m\u001b[32m求\u001b[0m\u001b[32m洞\u001b[0m\u001b[32m若\u001b[0m\u001b[32m观\u001b[0m\u001b[32m火\u001b[0m\u001b[32m”\u001b[0m\u001b[32m，\u001b[0m\u001b[32m深\u001b[0m\u001b[32m知\u001b[0m\u001b[32m他\u001b[0m\u001b[32m们\u001b[0m\u001b[32m渴\u001b[0m\u001b[32m望\u001b[0m\u001b[32m听\u001b[0m\u001b[32m到\u001b[0m\u001b[32m什\u001b[0m\u001b[32m么\u001b[0m\u001b[32m样\u001b[0m\u001b[32m的\u001b[0m\u001b[32m言\u001b[0m\u001b[32m论\u001b[0m\u001b[32m。\u001b[0m\u001b[32m而\u001b[0m\u001b[32m这\u001b[0m\u001b[32m种\u001b[0m\u001b[32m对\u001b[0m\u001b[32m选\u001b[0m\u001b[32m民\u001b[0m\u001b[32m心\u001b[0m\u001b[32m声\u001b[0m\u001b[32m的\u001b[0m\u001b[32m精\u001b[0m\u001b[32m准\u001b[0m\u001b[32m把\u001b[0m\u001b[32m控\u001b[0m\u001b[32m，\u001b[0m\u001b[32m恰\u001b[0m\u001b[32m恰\u001b[0m\u001b[32m是\u001b[0m\u001b[32m作\u001b[0m\u001b[32m为\u001b[0m\u001b[32m民\u001b[0m\u001b[32m粹\u001b[0m\u001b[32m政\u001b[0m\u001b[32m客\u001b[0m\u001b[32m的\u001b[0m\u001b[32m重\u001b[0m\u001b[32m要\u001b[0m\u001b[32m根\u001b[0m\u001b[32m基\u001b[0m\u001b[32m之\u001b[0m\u001b[32m一\u001b[0m\u001b[32m。\u001b[0m\u001b[32m正\u001b[0m\u001b[32m是\u001b[0m\u001b[32m基\u001b[0m\u001b[32m于\u001b[0m\u001b[32m此\u001b[0m\u001b[32m，\u001b[0m\u001b[32m特\u001b[0m\u001b[32m朗\u001b[0m\u001b[32m普\u001b[0m\u001b[32m能\u001b[0m\u001b[32m在\u001b[0m\u001b[32m舆\u001b[0m\u001b[32m论\u001b[0m\u001b[32m场\u001b[0m\u001b[32m中\u001b[0m\u001b[32m掀\u001b[0m\u001b[32m起\u001b[0m\u001b[32m波\u001b[0m\u001b[32m澜\u001b[0m\u001b[32m，\u001b[0m\u001b[32m极\u001b[0m\u001b[32m大\u001b[0m\u001b[32m地\u001b[0m\u001b[32m影\u001b[0m\u001b[32m响\u001b[0m\u001b[32m其\u001b[0m\u001b[32m支\u001b[0m\u001b[32m持\u001b[0m\u001b[32m者\u001b[0m\u001b[32m的\u001b[0m\u001b[32m情\u001b[0m\u001b[32m绪\u001b[0m\u001b[32m和\u001b[0m\u001b[32m行\u001b[0m\u001b[32m动\u001b[0m\u001b[32m。\u001b[0m\u001b[32m\n",
      "\u001b[0m\u001b[32m特\u001b[0m\u001b[32m朗\u001b[0m\u001b[32m普\u001b[0m\u001b[32m麾\u001b[0m\u001b[32m下\u001b[0m\u001b[32m还\u001b[0m\u001b[32m有\u001b[0m\u001b[32m一\u001b[0m\u001b[32m支\u001b[0m\u001b[32m网\u001b[0m\u001b[32m红\u001b[0m\u001b[32m部\u001b[0m\u001b[32m队\u001b[0m\u001b[32m”\u001b[0m\u001b[32m，\u001b[0m\u001b[32m他\u001b[0m\u001b[32m们\u001b[0m\u001b[32m以\u001b[0m\u001b[32m保\u001b[0m\u001b[32m守\u001b[0m\u001b[32m派\u001b[0m\u001b[32m网\u001b[0m\u001b[32m红\u001b[0m\u001b[32m为\u001b[0m\u001b[32m主\u001b[0m\u001b[32m，\u001b[0m\u001b[32m在\u001b[0m\u001b[32m此\u001b[0m\u001b[32m次\u001b[0m\u001b[32m大\u001b[0m\u001b[32m选\u001b[0m\u001b[32m中\u001b[0m\u001b[32m为\u001b[0m\u001b[32m特\u001b[0m\u001b[32m朗\u001b[0m\u001b[32m普\u001b[0m\u001b[32m吹\u001b[0m\u001b[32m喇\u001b[0m\u001b[32m叭\u001b[0m\u001b[32m抬\u001b[0m\u001b[32m轿\u001b[0m\u001b[32m子\u001b[0m\u001b[32m”\u001b[0m\u001b[32m，\u001b[0m\u001b[32m动\u001b[0m\u001b[32m员\u001b[0m\u001b[32m了\u001b[0m\u001b[32m为\u001b[0m\u001b[32m数\u001b[0m\u001b[32m众\u001b[0m\u001b[32m多\u001b[0m\u001b[32m的\u001b[0m\u001b[32m保\u001b[0m\u001b[32m守\u001b[0m\u001b[32m派\u001b[0m\u001b[32m选\u001b[0m\u001b[32m民\u001b[0m\u001b[32m。\u001b[0m\u001b[32m\n",
      "\u001b[0m\u001b[32m比\u001b[0m\u001b[32m如\u001b[0m\u001b[32m保\u001b[0m\u001b[32m守\u001b[0m\u001b[32m派\u001b[0m\u001b[32m网\u001b[0m\u001b[32m红\u001b[0m\u001b[32m本\u001b[0m\u001b[32m·\u001b[0m\u001b[32m夏\u001b[0m\u001b[32m皮\u001b[0m\u001b[32m罗\u001b[0m\u001b[32m，\u001b[0m\u001b[32m此\u001b[0m\u001b[32m人\u001b[0m\u001b[32m拥\u001b[0m\u001b[32m有\u001b[0m\u001b[32m千\u001b[0m\u001b[32m万\u001b[0m\u001b[32m粉\u001b[0m\u001b[32m丝\u001b[0m\u001b[32m。\u001b[0m\u001b[32m2\u001b[0m\u001b[32m0\u001b[0m\u001b[32m2\u001b[0m\u001b[32m3\u001b[0m\u001b[32m年\u001b[0m\u001b[32m新\u001b[0m\u001b[32m一\u001b[0m\u001b[32m轮\u001b[0m\u001b[32m巴\u001b[0m\u001b[32m以\u001b[0m\u001b[32m冲\u001b[0m\u001b[32m突\u001b[0m\u001b[32m爆\u001b[0m\u001b[32m发\u001b[0m\u001b[32m以\u001b[0m\u001b[32m来\u001b[0m\u001b[32m，\u001b[0m\u001b[32m美\u001b[0m\u001b[32m国\u001b[0m\u001b[32m各\u001b[0m\u001b[32m类\u001b[0m\u001b[32m政\u001b[0m\u001b[32m论\u001b[0m\u001b[32m节\u001b[0m\u001b[32m目\u001b[0m\u001b[32m常\u001b[0m\u001b[32m常\u001b[0m\u001b[32m围\u001b[0m\u001b[32m绕\u001b[0m\u001b[32m巴\u001b[0m\u001b[32m以\u001b[0m\u001b[32m问\u001b[0m\u001b[32m题\u001b[0m\u001b[32m辩\u001b[0m\u001b[32m论\u001b[0m\u001b[32m。\u001b[0m\u001b[32m作\u001b[0m\u001b[32m为\u001b[0m\u001b[32m以\u001b[0m\u001b[32m色\u001b[0m\u001b[32m列\u001b[0m\u001b[32m支\u001b[0m\u001b[32m持\u001b[0m\u001b[32m者\u001b[0m\u001b[32m，\u001b[0m\u001b[32m夏\u001b[0m\u001b[32m皮\u001b[0m\u001b[32m罗\u001b[0m\u001b[32m无\u001b[0m\u001b[32m论\u001b[0m\u001b[32m对\u001b[0m\u001b[32m方\u001b[0m\u001b[32m如\u001b[0m\u001b[32m何\u001b[0m\u001b[32m控\u001b[0m\u001b[32m诉\u001b[0m\u001b[32m”\u001b[0m\u001b[32m以\u001b[0m\u001b[32m色\u001b[0m\u001b[32m列\u001b[0m\u001b[32m对\u001b[0m\u001b[32m加\u001b[0m\u001b[32m沙\u001b[0m\u001b[32m造\u001b[0m\u001b[32m成\u001b[0m\u001b[32m的\u001b[0m\u001b[32m人\u001b[0m\u001b[32m道\u001b[0m\u001b[32m主\u001b[0m\u001b[32m义\u001b[0m\u001b[32m灾\u001b[0m\u001b[32m难\u001b[0m\u001b[32m，\u001b[0m\u001b[32m都\u001b[0m\u001b[32m不\u001b[0m\u001b[32m为\u001b[0m\u001b[32m所\u001b[0m\u001b[32m动\u001b[0m\u001b[32m。\u001b[0m\u001b[32m他\u001b[0m\u001b[32m通\u001b[0m\u001b[32m常\u001b[0m\u001b[32m以\u001b[0m\u001b[32m哈\u001b[0m\u001b[32m马\u001b[0m\u001b[32m斯\u001b[0m\u001b[32m是\u001b[0m\u001b[32m恐\u001b[0m\u001b[32m怖\u001b[0m\u001b[32m分\u001b[0m\u001b[32m子\u001b[0m\u001b[32m”\u001b[0m\u001b[32m一\u001b[0m\u001b[32m切\u001b[0m\u001b[32m责\u001b[0m\u001b[32m任\u001b[0m\u001b[32m应\u001b[0m\u001b[32m由\u001b[0m\u001b[32m哈\u001b[0m\u001b[32m马\u001b[0m\u001b[32m斯\u001b[0m\u001b[32m承\u001b[0m\u001b[32m担\u001b[0m\u001b[32m”\u001b[0m\u001b[32m这\u001b[0m\u001b[32m几\u001b[0m\u001b[32m个\u001b[0m\u001b[32m字\u001b[0m\u001b[32m，\u001b[0m\u001b[32m作\u001b[0m\u001b[32m为\u001b[0m\u001b[32m应\u001b[0m\u001b[32m对\u001b[0m\u001b[32m。\u001b[0m\u001b[32m\n",
      "\u001b[0m\u001b[32m社\u001b[0m\u001b[32m交\u001b[0m\u001b[32m媒\u001b[0m\u001b[32m体\u001b[0m\u001b[32m时\u001b[0m\u001b[32m代\u001b[0m\u001b[32m，\u001b[0m\u001b[32m简\u001b[0m\u001b[32m单\u001b[0m\u001b[32m明\u001b[0m\u001b[32m了\u001b[0m\u001b[32m的\u001b[0m\u001b[32m内\u001b[0m\u001b[32m容\u001b[0m\u001b[32m最\u001b[0m\u001b[32m适\u001b[0m\u001b[32m合\u001b[0m\u001b[32m复\u001b[0m\u001b[32m读\u001b[0m\u001b[32m机\u001b[0m\u001b[32m”\u001b[0m\u001b[32m式\u001b[0m\u001b[32m传\u001b[0m\u001b[32m播\u001b[0m\u001b[32m，\u001b[0m\u001b[32m夏\u001b[0m\u001b[32m皮\u001b[0m\u001b[32m罗\u001b[0m\u001b[32m可\u001b[0m\u001b[32m谓\u001b[0m\u001b[32m深\u001b[0m\u001b[32m谙\u001b[0m\u001b[32m其\u001b[0m\u001b[32m道\u001b[0m\u001b[32m。\u001b[0m\u001b[32m他\u001b[0m\u001b[32m依\u001b[0m\u001b[32m靠\u001b[0m\u001b[32m同\u001b[0m\u001b[32m样\u001b[0m\u001b[32m的\u001b[0m\u001b[32m方\u001b[0m\u001b[32m式\u001b[0m\u001b[32m替\u001b[0m\u001b[32m特\u001b[0m\u001b[32m朗\u001b[0m\u001b[32m普\u001b[0m\u001b[32m助\u001b[0m\u001b[32m选\u001b[0m\u001b[32m，\u001b[0m\u001b[32m通\u001b[0m\u001b[32m过\u001b[0m\u001b[32m复\u001b[0m\u001b[32m读\u001b[0m\u001b[32m经\u001b[0m\u001b[32m济\u001b[0m\u001b[32m”\u001b[0m\u001b[32m非\u001b[0m\u001b[32m法\u001b[0m\u001b[32m移\u001b[0m\u001b[32m民\u001b[0m\u001b[32m”\u001b[0m\u001b[32m通\u001b[0m\u001b[32m胀\u001b[0m\u001b[32m”\u001b[0m\u001b[32m等\u001b[0m\u001b[32m关\u001b[0m\u001b[32m键\u001b[0m\u001b[32m词\u001b[0m\u001b[32m攻\u001b[0m\u001b[32m击\u001b[0m\u001b[32m民\u001b[0m\u001b[32m主\u001b[0m\u001b[32m党\u001b[0m\u001b[32m，\u001b[0m\u001b[32m加\u001b[0m\u001b[32m深\u001b[0m\u001b[32m选\u001b[0m\u001b[32m民\u001b[0m\u001b[32m对\u001b[0m\u001b[32m民\u001b[0m\u001b[32m主\u001b[0m\u001b[32m党\u001b[0m\u001b[32m的\u001b[0m\u001b[32m负\u001b[0m\u001b[32m面\u001b[0m\u001b[32m印\u001b[0m\u001b[32m象\u001b[0m\u001b[32m。\u001b[0m\u001b[32m\n",
      "\u001b[0m\u001b[32m还\u001b[0m\u001b[32m有\u001b[0m\u001b[32m查\u001b[0m\u001b[32m理\u001b[0m\u001b[32m·\u001b[0m\u001b[32m柯\u001b[0m\u001b[32m克\u001b[0m\u001b[32m，\u001b[0m\u001b[32m年\u001b[0m\u001b[32m仅\u001b[0m\u001b[32m3\u001b[0m\u001b[32m1\u001b[0m\u001b[32m岁\u001b[0m\u001b[32m的\u001b[0m\u001b[32m他\u001b[0m\u001b[32m，\u001b[0m\u001b[32m是\u001b[0m\u001b[32m保\u001b[0m\u001b[32m守\u001b[0m\u001b[32m派\u001b[0m\u001b[32m青\u001b[0m\u001b[32m年\u001b[0m\u001b[32m组\u001b[0m\u001b[32m织\u001b[0m\u001b[32m转\u001b[0m\u001b[32m折\u001b[0m\u001b[32m点\u001b[0m\u001b[32m”\u001b[0m\u001b[32m的\u001b[0m\u001b[32m首\u001b[0m\u001b[32m席\u001b[0m\u001b[32m执\u001b[0m\u001b[32m行\u001b[0m\u001b[32m官\u001b[0m\u001b[32m兼\u001b[0m\u001b[32m联\u001b[0m\u001b[32m合\u001b[0m\u001b[32m创\u001b[0m\u001b[32m始\u001b[0m\u001b[32m人\u001b[0m\u001b[32m。\u001b[0m\u001b[32m据\u001b[0m\u001b[32m美\u001b[0m\u001b[32m联\u001b[0m\u001b[32m社\u001b[0m\u001b[32m报\u001b[0m\u001b[32m道\u001b[0m\u001b[32m，\u001b[0m\u001b[32m柯\u001b[0m\u001b[32m克\u001b[0m\u001b[32m在\u001b[0m\u001b[32m青\u001b[0m\u001b[32m年\u001b[0m\u001b[32m学\u001b[0m\u001b[32m生\u001b[0m\u001b[32m中\u001b[0m\u001b[32m对\u001b[0m\u001b[32m抗\u001b[0m\u001b[32m自\u001b[0m\u001b[32m由\u001b[0m\u001b[32m派\u001b[0m\u001b[32m的\u001b[0m\u001b[32m行\u001b[0m\u001b[32m为\u001b[0m\u001b[32m，\u001b[0m\u001b[32m得\u001b[0m\u001b[32m到\u001b[0m\u001b[32m了\u001b[0m\u001b[32m保\u001b[0m\u001b[32m守\u001b[0m\u001b[32m派\u001b[0m\u001b[32m金\u001b[0m\u001b[32m主\u001b[0m\u001b[32m的\u001b[0m\u001b[32m青\u001b[0m\u001b[32m睐\u001b[0m\u001b[32m。\u001b[0m\u001b[32m他\u001b[0m\u001b[32m从\u001b[0m\u001b[32m青\u001b[0m\u001b[32m年\u001b[0m\u001b[32m组\u001b[0m\u001b[32m织\u001b[0m\u001b[32m者\u001b[0m\u001b[32m和\u001b[0m\u001b[32m媒\u001b[0m\u001b[32m体\u001b[0m\u001b[32m名\u001b[0m\u001b[32m人\u001b[0m\u001b[32m，\u001b[0m\u001b[32m发\u001b[0m\u001b[32m展\u001b[0m\u001b[32m成\u001b[0m\u001b[32m为\u001b[0m\u001b[32m一\u001b[0m\u001b[32m个\u001b[0m\u001b[32m规\u001b[0m\u001b[32m模\u001b[0m\u001b[32m更\u001b[0m\u001b[32m大\u001b[0m\u001b[32m的\u001b[0m\u001b[32m非\u001b[0m\u001b[32m营\u001b[0m\u001b[32m利\u001b[0m\u001b[32m帝\u001b[0m\u001b[32m国\u001b[0m\u001b[32m的\u001b[0m\u001b[32m掌\u001b[0m\u001b[32m门\u001b[0m\u001b[32m人\u001b[0m\u001b[32m。\u001b[0m\u001b[32m\n",
      "\u001b[0m\u001b[32m依\u001b[0m\u001b[32m靠\u001b[0m\u001b[32m这\u001b[0m\u001b[32m些\u001b[0m\u001b[32m收\u001b[0m\u001b[32m入\u001b[0m\u001b[32m，\u001b[0m\u001b[32m柯\u001b[0m\u001b[32m克\u001b[0m\u001b[32m购\u001b[0m\u001b[32m买\u001b[0m\u001b[32m了\u001b[0m\u001b[32m三\u001b[0m\u001b[32m处\u001b[0m\u001b[32m高\u001b[0m\u001b[32m端\u001b[0m\u001b[32m房\u001b[0m\u001b[32m产\u001b[0m\u001b[32m，\u001b[0m\u001b[32m价\u001b[0m\u001b[32m值\u001b[0m\u001b[32m均\u001b[0m\u001b[32m超\u001b[0m\u001b[32m过\u001b[0m\u001b[32m一\u001b[0m\u001b[32m百\u001b[0m\u001b[32m万\u001b[0m\u001b[32m美\u001b[0m\u001b[32m元\u001b[0m\u001b[32m，\u001b[0m\u001b[32m其\u001b[0m\u001b[32m中\u001b[0m\u001b[32m包\u001b[0m\u001b[32m括\u001b[0m\u001b[32m他\u001b[0m\u001b[32m在\u001b[0m\u001b[32m凤\u001b[0m\u001b[32m凰\u001b[0m\u001b[32m城\u001b[0m\u001b[32m附\u001b[0m\u001b[32m近\u001b[0m\u001b[32m的\u001b[0m\u001b[32m新\u001b[0m\u001b[32m西\u001b[0m\u001b[32m班\u001b[0m\u001b[32m牙\u001b[0m\u001b[32m风\u001b[0m\u001b[32m格\u001b[0m\u001b[32m豪\u001b[0m\u001b[32m宅\u001b[0m\u001b[32m、\u001b[0m\u001b[32m附\u001b[0m\u001b[32m近\u001b[0m\u001b[32m的\u001b[0m\u001b[32m一\u001b[0m\u001b[32m套\u001b[0m\u001b[32m公\u001b[0m\u001b[32m寓\u001b[0m\u001b[32m和\u001b[0m\u001b[32m佛\u001b[0m\u001b[32m罗\u001b[0m\u001b[32m里\u001b[0m\u001b[32m达\u001b[0m\u001b[32m州\u001b[0m\u001b[32m墨\u001b[0m\u001b[32m西\u001b[0m\u001b[32m哥\u001b[0m\u001b[32m湾\u001b[0m\u001b[32m沿\u001b[0m\u001b[32m岸\u001b[0m\u001b[32m的\u001b[0m\u001b[32m一\u001b[0m\u001b[32m套\u001b[0m\u001b[32m海\u001b[0m\u001b[32m滨\u001b[0m\u001b[32m公\u001b[0m\u001b[32m寓\u001b[0m\u001b[32m。\u001b[0m\u001b[32m\n",
      "\u001b[0m\u001b[32m柯\u001b[0m\u001b[32m克\u001b[0m\u001b[32m对\u001b[0m\u001b[32m年\u001b[0m\u001b[32m轻\u001b[0m\u001b[32m的\u001b[0m\u001b[32m右\u001b[0m\u001b[32m翼\u001b[0m\u001b[32m选\u001b[0m\u001b[32m民\u001b[0m\u001b[32m有\u001b[0m\u001b[32m很\u001b[0m\u001b[32m大\u001b[0m\u001b[32m的\u001b[0m\u001b[32m影\u001b[0m\u001b[32m响\u001b[0m\u001b[32m力\u001b[0m\u001b[32m，\u001b[0m\u001b[32m他\u001b[0m\u001b[32m的\u001b[0m\u001b[32m对\u001b[0m\u001b[32m话\u001b[0m\u001b[32m式\u001b[0m\u001b[32m节\u001b[0m\u001b[32m目\u001b[0m\u001b[32m会\u001b[0m\u001b[32m邀\u001b[0m\u001b[32m请\u001b[0m\u001b[32m一\u001b[0m\u001b[32m些\u001b[0m\u001b[32m自\u001b[0m\u001b[32m由\u001b[0m\u001b[32m派\u001b[0m\u001b[32m大\u001b[0m\u001b[32m学\u001b[0m\u001b[32m生\u001b[0m\u001b[32m与\u001b[0m\u001b[32m他\u001b[0m\u001b[32m辩\u001b[0m\u001b[32m论\u001b[0m\u001b[32m。\u001b[0m\u001b[32m这\u001b[0m\u001b[32m也\u001b[0m\u001b[32m成\u001b[0m\u001b[32m了\u001b[0m\u001b[32m柯\u001b[0m\u001b[32m克\u001b[0m\u001b[32m的\u001b[0m\u001b[32m一\u001b[0m\u001b[32m张\u001b[0m\u001b[32m王\u001b[0m\u001b[32m牌\u001b[0m\u001b[32m。\u001b[0m\u001b[32m本\u001b[0m\u001b[32m次\u001b[0m\u001b[32m特\u001b[0m\u001b[32m朗\u001b[0m\u001b[32m普\u001b[0m\u001b[32m能\u001b[0m\u001b[32m够\u001b[0m\u001b[32m在\u001b[0m\u001b[32m大\u001b[0m\u001b[32m选\u001b[0m\u001b[32m中\u001b[0m\u001b[32m赢\u001b[0m\u001b[32m得\u001b[0m\u001b[32m比\u001b[0m\u001b[32m原\u001b[0m\u001b[32m来\u001b[0m\u001b[32m更\u001b[0m\u001b[32m多\u001b[0m\u001b[32m的\u001b[0m\u001b[32m年\u001b[0m\u001b[32m轻\u001b[0m\u001b[32m男\u001b[0m\u001b[32m性\u001b[0m\u001b[32m选\u001b[0m\u001b[32m票\u001b[0m\u001b[32m，\u001b[0m\u001b[32m很\u001b[0m\u001b[32m大\u001b[0m\u001b[32m可\u001b[0m\u001b[32m能\u001b[0m\u001b[32m就\u001b[0m\u001b[32m有\u001b[0m\u001b[32m柯\u001b[0m\u001b[32m克\u001b[0m\u001b[32m的\u001b[0m\u001b[32m一\u001b[0m\u001b[32m份\u001b[0m\u001b[32m功\u001b[0m\u001b[32m劳\u001b[0m\u001b[32m。\u001b[0m\u001b[32m\n",
      "\u001b[0m\u001b[32m另\u001b[0m\u001b[32m如\u001b[0m\u001b[32m乔\u001b[0m\u001b[32m丹\u001b[0m\u001b[32m·\u001b[0m\u001b[32m彼\u001b[0m\u001b[32m得\u001b[0m\u001b[32m森\u001b[0m\u001b[32m等\u001b[0m\u001b[32m保\u001b[0m\u001b[32m守\u001b[0m\u001b[32m派\u001b[0m\u001b[32m大\u001b[0m\u001b[32mV\u001b[0m\u001b[32m，\u001b[0m\u001b[32m都\u001b[0m\u001b[32m是\u001b[0m\u001b[32m社\u001b[0m\u001b[32m交\u001b[0m\u001b[32m媒\u001b[0m\u001b[32m体\u001b[0m\u001b[32m时\u001b[0m\u001b[32m代\u001b[0m\u001b[32m打\u001b[0m\u001b[32m空\u001b[0m\u001b[32m战\u001b[0m\u001b[32m”\u001b[0m\u001b[32m的\u001b[0m\u001b[32m网\u001b[0m\u001b[32m红\u001b[0m\u001b[32m，\u001b[0m\u001b[32m是\u001b[0m\u001b[32m特\u001b[0m\u001b[32m朗\u001b[0m\u001b[32m普\u001b[0m\u001b[32m的\u001b[0m\u001b[32m僚\u001b[0m\u001b[32m机\u001b[0m\u001b[32m部\u001b[0m\u001b[32m队\u001b[0m\u001b[32m”\u001b[0m\u001b[32m。\u001b[0m\u001b[32m\n",
      "\u001b[0m\u001b[32m民\u001b[0m\u001b[32m主\u001b[0m\u001b[32m党\u001b[0m\u001b[32m，\u001b[0m\u001b[32m空\u001b[0m\u001b[32m战\u001b[0m\u001b[32m”\u001b[0m\u001b[32m部\u001b[0m\u001b[32m队\u001b[0m\u001b[32m去\u001b[0m\u001b[32m哪\u001b[0m\u001b[32m了\u001b[0m\u001b[32m？\u001b[0m\u001b[32m\n",
      "\u001b[0m\u001b[32m民\u001b[0m\u001b[32m主\u001b[0m\u001b[32m党\u001b[0m\u001b[32m并\u001b[0m\u001b[32m非\u001b[0m\u001b[32m没\u001b[0m\u001b[32m有\u001b[0m\u001b[32m王\u001b[0m\u001b[32m牌\u001b[0m\u001b[32m飞\u001b[0m\u001b[32m行\u001b[0m\u001b[32m员\u001b[0m\u001b[32m”\u001b[0m\u001b[32m，\u001b[0m\u001b[32m但\u001b[0m\u001b[32m这\u001b[0m\u001b[32m次\u001b[0m\u001b[32m他\u001b[0m\u001b[32m们\u001b[0m\u001b[32m都\u001b[0m\u001b[32m没\u001b[0m\u001b[32m有\u001b[0m\u001b[32m帮\u001b[0m\u001b[32m上\u001b[0m\u001b[32m太\u001b[0m\u001b[32m大\u001b[0m\u001b[32m的\u001b[0m\u001b[32m忙\u001b[0m\u001b[32m。\u001b[0m\u001b[32m\n",
      "\u001b[0m\u001b[32m著\u001b[0m\u001b[32m名\u001b[0m\u001b[32m记\u001b[0m\u001b[32m者\u001b[0m\u001b[32m哈\u001b[0m\u001b[32m桑\u001b[0m\u001b[32m就\u001b[0m\u001b[32m是\u001b[0m\u001b[32m一\u001b[0m\u001b[32m个\u001b[0m\u001b[32m例\u001b[0m\u001b[32m子\u001b[0m\u001b[32m。\u001b[0m\u001b[32m\n",
      "\u001b[0m\u001b[32m哈\u001b[0m\u001b[32m桑\u001b[0m\u001b[32m是\u001b[0m\u001b[32m社\u001b[0m\u001b[32m交\u001b[0m\u001b[32m媒\u001b[0m\u001b[32m体\u001b[0m\u001b[32m上\u001b[0m\u001b[32m最\u001b[0m\u001b[32m受\u001b[0m\u001b[32m欢\u001b[0m\u001b[32m迎\u001b[0m\u001b[32m的\u001b[0m\u001b[32m记\u001b[0m\u001b[32m者\u001b[0m\u001b[32m之\u001b[0m\u001b[32m一\u001b[0m\u001b[32m，\u001b[0m\u001b[32m\n",
      "\u001b[0m\u001b[32m\n",
      "\u001b[0m\u001b[32m#\u001b[0m\u001b[32m#\u001b[0m\u001b[32m \u001b[0m\u001b[32m[\u001b[0m\u001b[32m天\u001b[0m\u001b[32m振\u001b[0m\u001b[32m股\u001b[0m\u001b[32m份\u001b[0m\u001b[32m：\u001b[0m\u001b[32m目\u001b[0m\u001b[32m前\u001b[0m\u001b[32m公\u001b[0m\u001b[32m司\u001b[0m\u001b[32m美\u001b[0m\u001b[32m国\u001b[0m\u001b[32m工\u001b[0m\u001b[32m厂\u001b[0m\u001b[32m正\u001b[0m\u001b[32m在\u001b[0m\u001b[32m有\u001b[0m\u001b[32m序\u001b[0m\u001b[32m建\u001b[0m\u001b[32m设\u001b[0m\u001b[32m中\u001b[0m\u001b[32m，\u001b[0m\u001b[32m一\u001b[0m\u001b[32m期\u001b[0m\u001b[32m项\u001b[0m\u001b[32m目\u001b[0m\u001b[32m预\u001b[0m\u001b[32m计\u001b[0m\u001b[32m今\u001b[0m\u001b[32m年\u001b[0m\u001b[32m年\u001b[0m\u001b[32m底\u001b[0m\u001b[32m前\u001b[0m\u001b[32m可\u001b[0m\u001b[32m正\u001b[0m\u001b[32m式\u001b[0m\u001b[32m投\u001b[0m\u001b[32m产\u001b[0m\u001b[32m]\u001b[0m\u001b[32m(\u001b[0m\u001b[32mh\u001b[0m\u001b[32mt\u001b[0m\u001b[32mt\u001b[0m\u001b[32mp\u001b[0m\u001b[32ms\u001b[0m\u001b[32m:\u001b[0m\u001b[32m/\u001b[0m\u001b[32m/\u001b[0m\u001b[32ms\u001b[0m\u001b[32mt\u001b[0m\u001b[32mo\u001b[0m\u001b[32mc\u001b[0m\u001b[32mk\u001b[0m\u001b[32m.\u001b[0m\u001b[32ms\u001b[0m\u001b[32mt\u001b[0m\u001b[32mo\u001b[0m\u001b[32mc\u001b[0m\u001b[32mk\u001b[0m\u001b[32ms\u001b[0m\u001b[32mt\u001b[0m\u001b[32ma\u001b[0m\u001b[32mr\u001b[0m\u001b[32m.\u001b[0m\u001b[32mc\u001b[0m\u001b[32mo\u001b[0m\u001b[32mm\u001b[0m\u001b[32m/\u001b[0m\u001b[32mI\u001b[0m\u001b[32mG\u001b[0m\u001b[32m2\u001b[0m\u001b[32m0\u001b[0m\u001b[32m2\u001b[0m\u001b[32m4\u001b[0m\u001b[32m1\u001b[0m\u001b[32m1\u001b[0m\u001b[32m1\u001b[0m\u001b[32m1\u001b[0m\u001b[32m0\u001b[0m\u001b[32m0\u001b[0m\u001b[32m0\u001b[0m\u001b[32m0\u001b[0m\u001b[32m2\u001b[0m\u001b[32m6\u001b[0m\u001b[32m3\u001b[0m\u001b[32m4\u001b[0m\u001b[32m.\u001b[0m\u001b[32ms\u001b[0m\u001b[32mh\u001b[0m\u001b[32mt\u001b[0m\u001b[32mm\u001b[0m\u001b[32ml\u001b[0m\u001b[32m)\u001b[0m\u001b[32m\n",
      "\u001b[0m\u001b[32m同\u001b[0m\u001b[32m花\u001b[0m\u001b[32m顺\u001b[0m\u001b[32m（\u001b[0m\u001b[32m3\u001b[0m\u001b[32m0\u001b[0m\u001b[32m0\u001b[0m\u001b[32m0\u001b[0m\u001b[32m3\u001b[0m\u001b[32m3\u001b[0m\u001b[32m）\u001b[0m\u001b[32m金\u001b[0m\u001b[32m融\u001b[0m\u001b[32m研\u001b[0m\u001b[32m究\u001b[0m\u001b[32m中\u001b[0m\u001b[32m心\u001b[0m\u001b[32m1\u001b[0m\u001b[32m1\u001b[0m\u001b[32m月\u001b[0m\u001b[32m1\u001b[0m\u001b[32m1\u001b[0m\u001b[32m日\u001b[0m\u001b[32m讯\u001b[0m\u001b[32m，\u001b[0m\u001b[32m有\u001b[0m\u001b[32m投\u001b[0m\u001b[32m资\u001b[0m\u001b[32m者\u001b[0m\u001b[32m向\u001b[0m\u001b[32m天\u001b[0m\u001b[32m振\u001b[0m\u001b[32m股\u001b[0m\u001b[32m份\u001b[0m\u001b[32m（\u001b[0m\u001b[32m3\u001b[0m\u001b[32m0\u001b[0m\u001b[32m1\u001b[0m\u001b[32m3\u001b[0m\u001b[32m5\u001b[0m\u001b[32m6\u001b[0m\u001b[32m）\u001b[0m\u001b[32m提\u001b[0m\u001b[32m问\u001b[0m\u001b[32m，\u001b[0m\u001b[32m \u001b[0m\u001b[32m你\u001b[0m\u001b[32m好\u001b[0m\u001b[32m！\u001b[0m\u001b[32m美\u001b[0m\u001b[32m国\u001b[0m\u001b[32m大\u001b[0m\u001b[32m选\u001b[0m\u001b[32m己\u001b[0m\u001b[32m落\u001b[0m\u001b[32m幕\u001b[0m\u001b[32m，\u001b[0m\u001b[32m请\u001b[0m\u001b[32m问\u001b[0m\u001b[32m公\u001b[0m\u001b[32m司\u001b[0m\u001b[32m美\u001b[0m\u001b[32m国\u001b[0m\u001b[32m工\u001b[0m\u001b[32m厂\u001b[0m\u001b[32m进\u001b[0m\u001b[32m展\u001b[0m\u001b[32m情\u001b[0m\u001b[32m况\u001b[0m\u001b[32m如\u001b[0m\u001b[32m何\u001b[0m\u001b[32m？\u001b[0m\u001b[32m请\u001b[0m\u001b[32m详\u001b[0m\u001b[32m细\u001b[0m\u001b[32m介\u001b[0m\u001b[32m绍\u001b[0m\u001b[32m？\u001b[0m\u001b[32m如\u001b[0m\u001b[32m果\u001b[0m\u001b[32m美\u001b[0m\u001b[32m国\u001b[0m\u001b[32m提\u001b[0m\u001b[32m髙\u001b[0m\u001b[32m关\u001b[0m\u001b[32m税\u001b[0m\u001b[32m，\u001b[0m\u001b[32m对\u001b[0m\u001b[32m公\u001b[0m\u001b[32m司\u001b[0m\u001b[32m影\u001b[0m\u001b[32m响\u001b[0m\u001b[32m如\u001b[0m\u001b[32m何\u001b[0m\u001b[32m？\u001b[0m\u001b[32m\n",
      "\u001b[0m\u001b[32m公\u001b[0m\u001b[32m司\u001b[0m\u001b[32m回\u001b[0m\u001b[32m答\u001b[0m\u001b[32m表\u001b[0m\u001b[32m示\u001b[0m\u001b[32m，\u001b[0m\u001b[32m尊\u001b[0m\u001b[32m敬\u001b[0m\u001b[32m的\u001b[0m\u001b[32m投\u001b[0m\u001b[32m资\u001b[0m\u001b[32m者\u001b[0m\u001b[32m，\u001b[0m\u001b[32m您\u001b[0m\u001b[32m好\u001b[0m\u001b[32m！\u001b[0m\u001b[32m目\u001b[0m\u001b[32m前\u001b[0m\u001b[32m公\u001b[0m\u001b[32m司\u001b[0m\u001b[32m美\u001b[0m\u001b[32m国\u001b[0m\u001b[32m工\u001b[0m\u001b[32m厂\u001b[0m\u001b[32m正\u001b[0m\u001b[32m在\u001b[0m\u001b[32m有\u001b[0m\u001b[32m序\u001b[0m\u001b[32m建\u001b[0m\u001b[32m设\u001b[0m\u001b[32m中\u001b[0m\u001b[32m，\u001b[0m\u001b[32m一\u001b[0m\u001b[32m期\u001b[0m\u001b[32m项\u001b[0m\u001b[32m目\u001b[0m\u001b[32m预\u001b[0m\u001b[32m计\u001b[0m\u001b[32m今\u001b[0m\u001b[32m年\u001b[0m\u001b[32m年\u001b[0m\u001b[32m底\u001b[0m\u001b[32m前\u001b[0m\u001b[32m可\u001b[0m\u001b[32m正\u001b[0m\u001b[32m式\u001b[0m\u001b[32m投\u001b[0m\u001b[32m产\u001b[0m\u001b[32m。\u001b[0m\u001b[32m据\u001b[0m\u001b[32m2\u001b[0m\u001b[32m0\u001b[0m\u001b[32m2\u001b[0m\u001b[32m3\u001b[0m\u001b[32m年\u001b[0m\u001b[32m美\u001b[0m\u001b[32m国\u001b[0m\u001b[32m商\u001b[0m\u001b[32m务\u001b[0m\u001b[32m部\u001b[0m\u001b[32m统\u001b[0m\u001b[32m计\u001b[0m\u001b[32m，\u001b[0m\u001b[32m美\u001b[0m\u001b[32m国\u001b[0m\u001b[32m进\u001b[0m\u001b[32m口\u001b[0m\u001b[32m的\u001b[0m\u001b[32m \u001b[0m\u001b[32mP\u001b[0m\u001b[32mV\u001b[0m\u001b[32mC\u001b[0m\u001b[32m \u001b[0m\u001b[32m地\u001b[0m\u001b[32m板\u001b[0m\u001b[32m绝\u001b[0m\u001b[32m大\u001b[0m\u001b[32m部\u001b[0m\u001b[32m分\u001b[0m\u001b[32m来\u001b[0m\u001b[32m自\u001b[0m\u001b[32m于\u001b[0m\u001b[32m中\u001b[0m\u001b[32m资\u001b[0m\u001b[32m企\u001b[0m\u001b[32m业\u001b[0m\u001b[32m且\u001b[0m\u001b[32m目\u001b[0m\u001b[32m前\u001b[0m\u001b[32m6\u001b[0m\u001b[32m0\u001b[0m\u001b[32m%\u001b[0m\u001b[32m以\u001b[0m\u001b[32m上\u001b[0m\u001b[32m仍\u001b[0m\u001b[32m来\u001b[0m\u001b[32m自\u001b[0m\u001b[32m中\u001b[0m\u001b[32m国\u001b[0m\u001b[32m，\u001b[0m\u001b[32m倘\u001b[0m\u001b[32m若\u001b[0m\u001b[32m美\u001b[0m\u001b[32m国\u001b[0m\u001b[32m对\u001b[0m\u001b[32m公\u001b[0m\u001b[32m司\u001b[0m\u001b[32m所\u001b[0m\u001b[32m处\u001b[0m\u001b[32m行\u001b[0m\u001b[32m业\u001b[0m\u001b[32m提\u001b[0m\u001b[32m高\u001b[0m\u001b[32m关\u001b[0m\u001b[32m税\u001b[0m\u001b[32m，\u001b[0m\u001b[32m将\u001b[0m\u001b[32m可\u001b[0m\u001b[32m能\u001b[0m\u001b[32m导\u001b[0m\u001b[32m致\u001b[0m\u001b[32m行\u001b[0m\u001b[32m业\u001b[0m\u001b[32m格\u001b[0m\u001b[32m局\u001b[0m\u001b[32m发\u001b[0m\u001b[32m生\u001b[0m\u001b[32m较\u001b[0m\u001b[32m大\u001b[0m\u001b[32m变\u001b[0m\u001b[32m化\u001b[0m\u001b[32m。\u001b[0m\u001b[32m但\u001b[0m\u001b[32m公\u001b[0m\u001b[32m司\u001b[0m\u001b[32m自\u001b[0m\u001b[32m2\u001b[0m\u001b[32m0\u001b[0m\u001b[32m1\u001b[0m\u001b[32m9\u001b[0m\u001b[32m年\u001b[0m\u001b[32m便\u001b[0m\u001b[32m开\u001b[0m\u001b[32m始\u001b[0m\u001b[32m推\u001b[0m\u001b[32m进\u001b[0m\u001b[32m全\u001b[0m\u001b[32m球\u001b[0m\u001b[32m化\u001b[0m\u001b[32m产\u001b[0m\u001b[32m能\u001b[0m\u001b[32m布\u001b[0m\u001b[32m局\u001b[0m\u001b[32m，\u001b[0m\u001b[32m目\u001b[0m\u001b[32m前\u001b[0m\u001b[32m主\u001b[0m\u001b[32m要\u001b[0m\u001b[32m产\u001b[0m\u001b[32m能\u001b[0m\u001b[32m已\u001b[0m\u001b[32m迁\u001b[0m\u001b[32m移\u001b[0m\u001b[32m至\u001b[0m\u001b[32m东\u001b[0m\u001b[32m南\u001b[0m\u001b[32m亚\u001b[0m\u001b[32m和\u001b[0m\u001b[32m美\u001b[0m\u001b[32m国\u001b[0m\u001b[32m等\u001b[0m\u001b[32m地\u001b[0m\u001b[32m，\u001b[0m\u001b[32m即\u001b[0m\u001b[32m便\u001b[0m\u001b[32m实\u001b[0m\u001b[32m行\u001b[0m\u001b[32m该\u001b[0m\u001b[32m政\u001b[0m\u001b[32m策\u001b[0m\u001b[32m，\u001b[0m\u001b[32m预\u001b[0m\u001b[32m计\u001b[0m\u001b[32m不\u001b[0m\u001b[32m会\u001b[0m\u001b[32m对\u001b[0m\u001b[32m公\u001b[0m\u001b[32m司\u001b[0m\u001b[32m造\u001b[0m\u001b[32m成\u001b[0m\u001b[32m较\u001b[0m\u001b[32m大\u001b[0m\u001b[32m不\u001b[0m\u001b[32m利\u001b[0m\u001b[32m影\u001b[0m\u001b[32m响\u001b[0m\u001b[32m。\u001b[0m\u001b[32m感\u001b[0m\u001b[32m谢\u001b[0m\u001b[32m您\u001b[0m\u001b[32m的\u001b[0m\u001b[32m关\u001b[0m\u001b[32m注\u001b[0m\u001b[32m！\u001b[0m\u001b[32m\n",
      "\u001b[0m\u001b[32m点\u001b[0m\u001b[32m击\u001b[0m\u001b[32m进\u001b[0m\u001b[32m入\u001b[0m\u001b[32m交\u001b[0m\u001b[32m易\u001b[0m\u001b[32m所\u001b[0m\u001b[32m官\u001b[0m\u001b[32m方\u001b[0m\u001b[32m互\u001b[0m\u001b[32m动\u001b[0m\u001b[32m平\u001b[0m\u001b[32m台\u001b[0m\u001b[32m查\u001b[0m\u001b[32m看\u001b[0m\u001b[32m更\u001b[0m\u001b[32m多\u001b[0m\u001b[32m\n",
      "\u001b[0m\u001b[32m\n",
      "\u001b[0m\u001b[32m#\u001b[0m\u001b[32m#\u001b[0m\u001b[32m \u001b[0m\u001b[32m[\u001b[0m\u001b[32m内\u001b[0m\u001b[32m地\u001b[0m\u001b[32m生\u001b[0m\u001b[32m暴\u001b[0m\u001b[32m增\u001b[0m\u001b[32m，\u001b[0m\u001b[32m香\u001b[0m\u001b[32m港\u001b[0m\u001b[32m被\u001b[0m\u001b[32m卷\u001b[0m\u001b[32m翻\u001b[0m\u001b[32m了\u001b[0m\u001b[32m？\u001b[0m\u001b[32m看\u001b[0m\u001b[32m看\u001b[0m\u001b[32m十\u001b[0m\u001b[32m年\u001b[0m\u001b[32m港\u001b[0m\u001b[32m漂\u001b[0m\u001b[32m学\u001b[0m\u001b[32m子\u001b[0m\u001b[32m经\u001b[0m\u001b[32m历\u001b[0m\u001b[32m的\u001b[0m\u001b[32m真\u001b[0m\u001b[32m相\u001b[0m\u001b[32m是\u001b[0m\u001b[32m什\u001b[0m\u001b[32m么\u001b[0m\u001b[32m]\u001b[0m\u001b[32m(\u001b[0m\u001b[32mh\u001b[0m\u001b[32mt\u001b[0m\u001b[32mt\u001b[0m\u001b[32mp\u001b[0m\u001b[32ms\u001b[0m\u001b[32m:\u001b[0m\u001b[32m/\u001b[0m\u001b[32m/\u001b[0m\u001b[32mw\u001b[0m\u001b[32mw\u001b[0m\u001b[32mw\u001b[0m\u001b[32m.\u001b[0m\u001b[32m1\u001b[0m\u001b[32m6\u001b[0m\u001b[32m3\u001b[0m\u001b[32m.\u001b[0m\u001b[32mc\u001b[0m\u001b[32mo\u001b[0m\u001b[32mm\u001b[0m\u001b[32m/\u001b[0m\u001b[32md\u001b[0m\u001b[32my\u001b[0m\u001b[32m/\u001b[0m\u001b[32ma\u001b[0m\u001b[32mr\u001b[0m\u001b[32mt\u001b[0m\u001b[32mi\u001b[0m\u001b[32mc\u001b[0m\u001b[32ml\u001b[0m\u001b[32me\u001b[0m\u001b[32m/\u001b[0m\u001b[32mJ\u001b[0m\u001b[32mG\u001b[0m\u001b[32mP\u001b[0m\u001b[32mC\u001b[0m\u001b[32m4\u001b[0m\u001b[32m2\u001b[0m\u001b[32mN\u001b[0m\u001b[32mR\u001b[0m\u001b[32m0\u001b[0m\u001b[32m5\u001b[0m\u001b[32m1\u001b[0m\u001b[32m6\u001b[0m\u001b[32mC\u001b[0m\u001b[32mM\u001b[0m\u001b[32mM\u001b[0m\u001b[32m2\u001b[0m\u001b[32m.\u001b[0m\u001b[32mh\u001b[0m\u001b[32mt\u001b[0m\u001b[32mm\u001b[0m\u001b[32ml\u001b[0m\u001b[32m)\u001b[0m\u001b[32m\n",
      "\u001b[0m\u001b[32m看\u001b[0m\u001b[32m点\u001b[0m\u001b[32m香\u001b[0m\u001b[32m港\u001b[0m\u001b[32m一\u001b[0m\u001b[32m系\u001b[0m\u001b[32m列\u001b[0m\u001b[32m人\u001b[0m\u001b[32m才\u001b[0m\u001b[32m利\u001b[0m\u001b[32m好\u001b[0m\u001b[32m政\u001b[0m\u001b[32m策\u001b[0m\u001b[32m，\u001b[0m\u001b[32m正\u001b[0m\u001b[32m在\u001b[0m\u001b[32m吸\u001b[0m\u001b[32m引\u001b[0m\u001b[32m一\u001b[0m\u001b[32m大\u001b[0m\u001b[32m批\u001b[0m\u001b[32m内\u001b[0m\u001b[32m地\u001b[0m\u001b[32m学\u001b[0m\u001b[32m生\u001b[0m\u001b[32m和\u001b[0m\u001b[32m家\u001b[0m\u001b[32m长\u001b[0m\u001b[32m，\u001b[0m\u001b[32m奔\u001b[0m\u001b[32m赴\u001b[0m\u001b[32m香\u001b[0m\u001b[32m港\u001b[0m\u001b[32m读\u001b[0m\u001b[32m书\u001b[0m\u001b[32m和\u001b[0m\u001b[32m工\u001b[0m\u001b[32m作\u001b[0m\u001b[32m。\u001b[0m\u001b[32m当\u001b[0m\u001b[32m这\u001b[0m\u001b[32m条\u001b[0m\u001b[32m路\u001b[0m\u001b[32m变\u001b[0m\u001b[32m得\u001b[0m\u001b[32m拥\u001b[0m\u001b[32m挤\u001b[0m\u001b[32m，\u001b[0m\u001b[32m在\u001b[0m\u001b[32m港\u001b[0m\u001b[32m读\u001b[0m\u001b[32m书\u001b[0m\u001b[32m的\u001b[0m\u001b[32m学\u001b[0m\u001b[32m生\u001b[0m\u001b[32m和\u001b[0m\u001b[32m留\u001b[0m\u001b[32m港\u001b[0m\u001b[32m工\u001b[0m\u001b[32m作\u001b[0m\u001b[32m的\u001b[0m\u001b[32m港\u001b[0m\u001b[32m漂\u001b[0m\u001b[32m们\u001b[0m\u001b[32m，\u001b[0m\u001b[32m会\u001b[0m\u001b[32m感\u001b[0m\u001b[32m受\u001b[0m\u001b[32m到\u001b[0m\u001b[32m什\u001b[0m\u001b[32m么\u001b[0m\u001b[32m样\u001b[0m\u001b[32m的\u001b[0m\u001b[32m变\u001b[0m\u001b[32m化\u001b[0m\u001b[32m和\u001b[0m\u001b[32m挑\u001b[0m\u001b[32m战\u001b[0m\u001b[32m？\u001b[0m\u001b[32m外\u001b[0m\u001b[32m滩\u001b[0m\u001b[32m君\u001b[0m\u001b[32m和\u001b[0m\u001b[32m两\u001b[0m\u001b[32m位\u001b[0m\u001b[32m港\u001b[0m\u001b[32m漂\u001b[0m\u001b[32m十\u001b[0m\u001b[32m年\u001b[0m\u001b[32m的\u001b[0m\u001b[32m留\u001b[0m\u001b[32m学\u001b[0m\u001b[32m生\u001b[0m\u001b[32m，\u001b[0m\u001b[32m聊\u001b[0m\u001b[32m了\u001b[0m\u001b[32m聊\u001b[0m\u001b[32m自\u001b[0m\u001b[32m己\u001b[0m\u001b[32m的\u001b[0m\u001b[32m亲\u001b[0m\u001b[32m身\u001b[0m\u001b[32m体\u001b[0m\u001b[32m会\u001b[0m\u001b[32m。\u001b[0m\u001b[32m\n",
      "\u001b[0m\u001b[32m前\u001b[0m\u001b[32m两\u001b[0m\u001b[32m天\u001b[0m\u001b[32m，\u001b[0m\u001b[32m特\u001b[0m\u001b[32m朗\u001b[0m\u001b[32m普\u001b[0m\u001b[32m赢\u001b[0m\u001b[32m得\u001b[0m\u001b[32m大\u001b[0m\u001b[32m选\u001b[0m\u001b[32m，\u001b[0m\u001b[32m也\u001b[0m\u001b[32m让\u001b[0m\u001b[32m签\u001b[0m\u001b[32m证\u001b[0m\u001b[32m等\u001b[0m\u001b[32m留\u001b[0m\u001b[32m学\u001b[0m\u001b[32m相\u001b[0m\u001b[32m关\u001b[0m\u001b[32m的\u001b[0m\u001b[32m话\u001b[0m\u001b[32m题\u001b[0m\u001b[32m一\u001b[0m\u001b[32m度\u001b[0m\u001b[32m冲\u001b[0m\u001b[32m上\u001b[0m\u001b[32m热\u001b[0m\u001b[32m搜\u001b[0m\u001b[32m。\u001b[0m\u001b[32m确\u001b[0m\u001b[32m实\u001b[0m\u001b[32m，\u001b[0m\u001b[32m这\u001b[0m\u001b[32m两\u001b[0m\u001b[32m年\u001b[0m\u001b[32m随\u001b[0m\u001b[32m着\u001b[0m\u001b[32m美\u001b[0m\u001b[32m国\u001b[0m\u001b[32m对\u001b[0m\u001b[32m留\u001b[0m\u001b[32m学\u001b[0m\u001b[32m生\u001b[0m\u001b[32m的\u001b[0m\u001b[32m限\u001b[0m\u001b[32m制\u001b[0m\u001b[32m增\u001b[0m\u001b[32m大\u001b[0m\u001b[32m，\u001b[0m\u001b[32m分\u001b[0m\u001b[32m流\u001b[0m\u001b[32m现\u001b[0m\u001b[32m象\u001b[0m\u001b[32m越\u001b[0m\u001b[32m来\u001b[0m\u001b[32m越\u001b[0m\u001b[32m明\u001b[0m\u001b[32m显\u001b[0m\u001b[32m。\u001b[0m\u001b[32m\n",
      "\u001b[0m\u001b[32m而\u001b[0m\u001b[32m香\u001b[0m\u001b[32m港\u001b[0m\u001b[32m，\u001b[0m\u001b[32m则\u001b[0m\u001b[32m成\u001b[0m\u001b[32m了\u001b[0m\u001b[32m热\u001b[0m\u001b[32m门\u001b[0m\u001b[32m目\u001b[0m\u001b[32m的\u001b[0m\u001b[32m地\u001b[0m\u001b[32m之\u001b[0m\u001b[32m一\u001b[0m\u001b[32m。\u001b[0m\u001b[32m随\u001b[0m\u001b[32m着\u001b[0m\u001b[32m人\u001b[0m\u001b[32m才\u001b[0m\u001b[32m政\u001b[0m\u001b[32m策\u001b[0m\u001b[32m利\u001b[0m\u001b[32m好\u001b[0m\u001b[32m，\u001b[0m\u001b[32m香\u001b[0m\u001b[32m港\u001b[0m\u001b[32m不\u001b[0m\u001b[32m仅\u001b[0m\u001b[32m吸\u001b[0m\u001b[32m引\u001b[0m\u001b[32m了\u001b[0m\u001b[32m一\u001b[0m\u001b[32m大\u001b[0m\u001b[32m批\u001b[0m\u001b[32m内\u001b[0m\u001b[32m地\u001b[0m\u001b[32m留\u001b[0m\u001b[32m学\u001b[0m\u001b[32m生\u001b[0m\u001b[32m，\u001b[0m\u001b[32m也\u001b[0m\u001b[32m有\u001b[0m\u001b[32m很\u001b[0m\u001b[32m多\u001b[0m\u001b[32m家\u001b[0m\u001b[32m长\u001b[0m\u001b[32m申\u001b[0m\u001b[32m请\u001b[0m\u001b[32m在\u001b[0m\u001b[32m港\u001b[0m\u001b[32m读\u001b[0m\u001b[32m硕\u001b[0m\u001b[32m，\u001b[0m\u001b[32m顺\u001b[0m\u001b[32m便\u001b[0m\u001b[32m带\u001b[0m\u001b[32m娃\u001b[0m\u001b[32m接\u001b[0m\u001b[32m受\u001b[0m\u001b[32m香\u001b[0m\u001b[32m港\u001b[0m\u001b[32m教\u001b[0m\u001b[32m育\u001b[0m\u001b[32m。\u001b[0m\u001b[32m\n",
      "\u001b[0m\u001b[32m但\u001b[0m\u001b[32m人\u001b[0m\u001b[32m多\u001b[0m\u001b[32m了\u001b[0m\u001b[32m，\u001b[0m\u001b[32m路\u001b[0m\u001b[32m自\u001b[0m\u001b[32m然\u001b[0m\u001b[32m也\u001b[0m\u001b[32m拥\u001b[0m\u001b[32m挤\u001b[0m\u001b[32m起\u001b[0m\u001b[32m来\u001b[0m\u001b[32m。\u001b[0m\u001b[32m香\u001b[0m\u001b[32m港\u001b[0m\u001b[32m的\u001b[0m\u001b[32m教\u001b[0m\u001b[32m育\u001b[0m\u001b[32m环\u001b[0m\u001b[32m境\u001b[0m\u001b[32m和\u001b[0m\u001b[32m职\u001b[0m\u001b[32m场\u001b[0m\u001b[32m环\u001b[0m\u001b[32m境\u001b[0m\u001b[32m也\u001b[0m\u001b[32m都\u001b[0m\u001b[32m悄\u001b[0m\u001b[32m然\u001b[0m\u001b[32m内\u001b[0m\u001b[32m卷\u001b[0m\u001b[32m化\u001b[0m\u001b[32m。\u001b[0m\u001b[32m\n",
      "\u001b[0m\u001b[32m那\u001b[0m\u001b[32m么\u001b[0m\u001b[32m现\u001b[0m\u001b[32m在\u001b[0m\u001b[32m，\u001b[0m\u001b[32m留\u001b[0m\u001b[32m学\u001b[0m\u001b[32m香\u001b[0m\u001b[32m港\u001b[0m\u001b[32m、\u001b[0m\u001b[32m留\u001b[0m\u001b[32m港\u001b[0m\u001b[32m工\u001b[0m\u001b[32m作\u001b[0m\u001b[32m，\u001b[0m\u001b[32m要\u001b[0m\u001b[32m面\u001b[0m\u001b[32m对\u001b[0m\u001b[32m多\u001b[0m\u001b[32m大\u001b[0m\u001b[32m的\u001b[0m\u001b[32m挑\u001b[0m\u001b[32m战\u001b[0m\u001b[32m？\u001b[0m\u001b[32m\n",
      "\u001b[0m\u001b[32m外\u001b[0m\u001b[32m滩\u001b[0m\u001b[32m君\u001b[0m\u001b[32m访\u001b[0m\u001b[32m谈\u001b[0m\u001b[32m了\u001b[0m\u001b[32m两\u001b[0m\u001b[32m位\u001b[0m\u001b[32m港\u001b[0m\u001b[32m漂\u001b[0m\u001b[32m十\u001b[0m\u001b[32m年\u001b[0m\u001b[32m的\u001b[0m\u001b[32m留\u001b[0m\u001b[32m学\u001b[0m\u001b[32m生\u001b[0m\u001b[32m—\u001b[0m\u001b[32m—\u001b[0m\u001b[32m\n",
      "\u001b[0m\u001b[32m目\u001b[0m\u001b[32m前\u001b[0m\u001b[32m在\u001b[0m\u001b[32m外\u001b[0m\u001b[32m资\u001b[0m\u001b[32m银\u001b[0m\u001b[32m行\u001b[0m\u001b[32m工\u001b[0m\u001b[32m作\u001b[0m\u001b[32m的\u001b[0m\u001b[32m港\u001b[0m\u001b[32m科\u001b[0m\u001b[32m大\u001b[0m\u001b[32m商\u001b[0m\u001b[32m科\u001b[0m\u001b[32m毕\u001b[0m\u001b[32m业\u001b[0m\u001b[32m生\u001b[0m\u001b[32mL\u001b[0m\u001b[32mu\u001b[0m\u001b[32mc\u001b[0m\u001b[32mi\u001b[0m\u001b[32ma\u001b[0m\u001b[32m，\u001b[0m\u001b[32m\n",
      "\u001b[0m\u001b[32m和\u001b[0m\u001b[32m工\u001b[0m\u001b[32m作\u001b[0m\u001b[32m期\u001b[0m\u001b[32m间\u001b[0m\u001b[32m从\u001b[0m\u001b[32m未\u001b[0m\u001b[32m放\u001b[0m\u001b[32m弃\u001b[0m\u001b[32m过\u001b[0m\u001b[32m学\u001b[0m\u001b[32m习\u001b[0m\u001b[32m，\u001b[0m\u001b[32m从\u001b[0m\u001b[32m2\u001b[0m\u001b[32m0\u001b[0m\u001b[32m1\u001b[0m\u001b[32m4\u001b[0m\u001b[32m至\u001b[0m\u001b[32m今\u001b[0m\u001b[32m读\u001b[0m\u001b[32m过\u001b[0m\u001b[32m教\u001b[0m\u001b[32m育\u001b[0m\u001b[32m大\u001b[0m\u001b[32m学\u001b[0m\u001b[32m和\u001b[0m\u001b[32m港\u001b[0m\u001b[32m大\u001b[0m\u001b[32m三\u001b[0m\u001b[32m个\u001b[0m\u001b[32m专\u001b[0m\u001b[32m业\u001b[0m\u001b[32m研\u001b[0m\u001b[32m究\u001b[0m\u001b[32m生\u001b[0m\u001b[32m的\u001b[0m\u001b[32mS\u001b[0m\u001b[32mc\u001b[0m\u001b[32mo\u001b[0m\u001b[32mt\u001b[0m\u001b[32mt\u001b[0m\u001b[32m。\u001b[0m\u001b[32m\n",
      "\u001b[0m\u001b[32m和\u001b[0m\u001b[32m他\u001b[0m\u001b[32m们\u001b[0m\u001b[32m聊\u001b[0m\u001b[32m了\u001b[0m\u001b[32m聊\u001b[0m\u001b[32m在\u001b[0m\u001b[32m港\u001b[0m\u001b[32m工\u001b[0m\u001b[32m作\u001b[0m\u001b[32m和\u001b[0m\u001b[32m学\u001b[0m\u001b[32m习\u001b[0m\u001b[32m的\u001b[0m\u001b[32m真\u001b[0m\u001b[32m实\u001b[0m\u001b[32m情\u001b[0m\u001b[32m况\u001b[0m\u001b[32m，\u001b[0m\u001b[32m聊\u001b[0m\u001b[32m一\u001b[0m\u001b[32m聊\u001b[0m\u001b[32m他\u001b[0m\u001b[32m们\u001b[0m\u001b[32m眼\u001b[0m\u001b[32m中\u001b[0m\u001b[32m的\u001b[0m\u001b[32m机\u001b[0m\u001b[32m遇\u001b[0m\u001b[32m与\u001b[0m\u001b[32m挑\u001b[0m\u001b[32m战\u001b[0m\u001b[32m。\u001b[0m\u001b[32m\n",
      "\u001b[0m\u001b[32m一\u001b[0m\u001b[32m大\u001b[0m\u001b[32m波\u001b[0m\u001b[32m内\u001b[0m\u001b[32m地\u001b[0m\u001b[32m学\u001b[0m\u001b[32m生\u001b[0m\u001b[32m，\u001b[0m\u001b[32m\n",
      "\u001b[0m\u001b[32m正\u001b[0m\u001b[32m在\u001b[0m\u001b[32m到\u001b[0m\u001b[32m达\u001b[0m\u001b[32m战\u001b[0m\u001b[32m场\u001b[0m\u001b[32m\n",
      "\u001b[0m\u001b[32m这\u001b[0m\u001b[32m些\u001b[0m\u001b[32m年\u001b[0m\u001b[32m，\u001b[0m\u001b[32m内\u001b[0m\u001b[32m地\u001b[0m\u001b[32m留\u001b[0m\u001b[32m港\u001b[0m\u001b[32m的\u001b[0m\u001b[32m学\u001b[0m\u001b[32m生\u001b[0m\u001b[32m明\u001b[0m\u001b[32m显\u001b[0m\u001b[32m变\u001b[0m\u001b[32m多\u001b[0m\u001b[32m了\u001b[0m\u001b[32m。\u001b[0m\u001b[32m\n",
      "\u001b[0m\u001b[32mL\u001b[0m\u001b[32mu\u001b[0m\u001b[32mc\u001b[0m\u001b[32mi\u001b[0m\u001b[32ma\u001b[0m\u001b[32m是\u001b[0m\u001b[32m2\u001b[0m\u001b[32m0\u001b[0m\u001b[32m1\u001b[0m\u001b[32m4\u001b[0m\u001b[32m年\u001b[0m\u001b[32m-\u001b[0m\u001b[32m2\u001b[0m\u001b[32m0\u001b[0m\u001b[32m1\u001b[0m\u001b[32m8\u001b[0m\u001b[32m年\u001b[0m\u001b[32m在\u001b[0m\u001b[32m港\u001b[0m\u001b[32m科\u001b[0m\u001b[32m大\u001b[0m\u001b[32m读\u001b[0m\u001b[32m的\u001b[0m\u001b[32m本\u001b[0m\u001b[32m科\u001b[0m\u001b[32m，\u001b[0m\u001b[32m这\u001b[0m\u001b[32m期\u001b[0m\u001b[32m间\u001b[0m\u001b[32m每\u001b[0m\u001b[32m一\u001b[0m\u001b[32m届\u001b[0m\u001b[32m内\u001b[0m\u001b[32m地\u001b[0m\u001b[32m生\u001b[0m\u001b[32m差\u001b[0m\u001b[32m不\u001b[0m\u001b[32m多\u001b[0m\u001b[32m有\u001b[0m\u001b[32m1\u001b[0m\u001b[32m5\u001b[0m\u001b[32m0\u001b[0m\u001b[32m人\u001b[0m\u001b[32m。\u001b[0m\u001b[32m但\u001b[0m\u001b[32m到\u001b[0m\u001b[32m了\u001b[0m\u001b[32m2\u001b[0m\u001b[32m0\u001b[0m\u001b[32m2\u001b[0m\u001b[32m3\u001b[0m\u001b[32m年\u001b[0m\u001b[32m，\u001b[0m\u001b[32m港\u001b[0m\u001b[32m科\u001b[0m\u001b[32m大\u001b[0m\u001b[32m本\u001b[0m\u001b[32m科\u001b[0m\u001b[32m内\u001b[0m\u001b[32m地\u001b[0m\u001b[32m生\u001b[0m\u001b[32m招\u001b[0m\u001b[32m生\u001b[0m\u001b[32m数\u001b[0m\u001b[32m量\u001b[0m\u001b[32m达\u001b[0m\u001b[32m到\u001b[0m\u001b[32m了\u001b[0m\u001b[32m1\u001b[0m\u001b[32m9\u001b[0m\u001b[32m0\u001b[0m\u001b[32m人\u001b[0m\u001b[32m，\u001b[0m\u001b[32m而\u001b[0m\u001b[32m今\u001b[0m\u001b[32m年\u001b[0m\u001b[32m的\u001b[0m\u001b[32m招\u001b[0m\u001b[32m生\u001b[0m\u001b[32m数\u001b[0m\u001b[32m量\u001b[0m\u001b[32m更\u001b[0m\u001b[32m有\u001b[0m\u001b[32m2\u001b[0m\u001b[32m2\u001b[0m\u001b[32m0\u001b[0m\u001b[32m人\u001b[0m\u001b[32m。\u001b[0m\u001b[32m\n",
      "\u001b[0m\u001b[32m同\u001b[0m\u001b[32m样\u001b[0m\u001b[32m在\u001b[0m\u001b[32m扩\u001b[0m\u001b[32m招\u001b[0m\u001b[32m的\u001b[0m\u001b[32m港\u001b[0m\u001b[32m硕\u001b[0m\u001b[32m，\u001b[0m\u001b[32m内\u001b[0m\u001b[32m地\u001b[0m\u001b[32m生\u001b[0m\u001b[32m比\u001b[0m\u001b[32m例\u001b[0m\u001b[32m更\u001b[0m\u001b[32m是\u001b[0m\u001b[32m一\u001b[0m\u001b[32m直\u001b[0m\u001b[32m比\u001b[0m\u001b[32m港\u001b[0m\u001b[32m本\u001b[0m\u001b[32m高\u001b[0m\u001b[32m，\u001b[0m\u001b[32m在\u001b[0m\u001b[32m8\u001b[0m\u001b[32m0\u001b[0m\u001b[32m%\u001b[0m\u001b[32m-\u001b[0m\u001b[32m9\u001b[0m\u001b[32m0\u001b[0m\u001b[32m%\u001b[0m\u001b[32m左\u001b[0m\u001b[32m右\u001b[0m\u001b[32m。\u001b[0m\u001b[32m这\u001b[0m\u001b[32m其\u001b[0m\u001b[32m中\u001b[0m\u001b[32m除\u001b[0m\u001b[32m了\u001b[0m\u001b[32m应\u001b[0m\u001b[32m届\u001b[0m\u001b[32m生\u001b[0m\u001b[32m，\u001b[0m\u001b[32m还\u001b[0m\u001b[32m有\u001b[0m\u001b[32m不\u001b[0m\u001b[32m少\u001b[0m\u001b[32mS\u001b[0m\u001b[32mc\u001b[0m\u001b[32mo\u001b[0m\u001b[32mt\u001b[0m\u001b[32mt\u001b[0m\u001b[32m这\u001b[0m\u001b[32m样\u001b[0m\u001b[32m选\u001b[0m\u001b[32m择\u001b[0m\u001b[32m读\u001b[0m\u001b[32m一\u001b[0m\u001b[32m年\u001b[0m\u001b[32m港\u001b[0m\u001b[32m硕\u001b[0m\u001b[32m的\u001b[0m\u001b[32m内\u001b[0m\u001b[32m地\u001b[0m\u001b[32m港\u001b[0m\u001b[32m漂\u001b[0m\u001b[32m，\u001b[0m\u001b[32m也\u001b[0m\u001b[32m不\u001b[0m\u001b[32m乏\u001b[0m\u001b[32m想\u001b[0m\u001b[32m带\u001b[0m\u001b[32m娃\u001b[0m\u001b[32m留\u001b[0m\u001b[32m港\u001b[0m\u001b[32m、\u001b[0m\u001b[32m鸡\u001b[0m\u001b[32m娃\u001b[0m\u001b[32m不\u001b[0m\u001b[32m如\u001b[0m\u001b[32m己\u001b[0m\u001b[32m自\u001b[0m\u001b[32m己\u001b[0m\u001b[32m”\u001b[0m\u001b[32m的\u001b[0m\u001b[32m宝\u001b[0m\u001b[32m爸\u001b[0m\u001b[32m宝\u001b[0m\u001b[32m妈\u001b[0m\u001b[32m。\u001b[0m\u001b[32m\n",
      "\u001b[0m\u001b[32m比\u001b[0m\u001b[32m起\u001b[0m\u001b[32m内\u001b[0m\u001b[32m地\u001b[0m\u001b[32m考\u001b[0m\u001b[32m研\u001b[0m\u001b[32m一\u001b[0m\u001b[32m年\u001b[0m\u001b[32m一\u001b[0m\u001b[32m次\u001b[0m\u001b[32m只\u001b[0m\u001b[32m能\u001b[0m\u001b[32m报\u001b[0m\u001b[32m考\u001b[0m\u001b[32m一\u001b[0m\u001b[32m个\u001b[0m\u001b[32m学\u001b[0m\u001b[32m校\u001b[0m\u001b[32m的\u001b[0m\u001b[32m限\u001b[0m\u001b[32m制\u001b[0m\u001b[32m，\u001b[0m\u001b[32m港\u001b[0m\u001b[32m硕\u001b[0m\u001b[32m灵\u001b[0m\u001b[32m活\u001b[0m\u001b[32m的\u001b[0m\u001b[32m申\u001b[0m\u001b[32m请\u001b[0m\u001b[32m和\u001b[0m\u001b[32m就\u001b[0m\u001b[32m读\u001b[0m\u001b[32m制\u001b[0m\u001b[32m度\u001b[0m\u001b[32m实\u001b[0m\u001b[32m在\u001b[0m\u001b[32m是\u001b[0m\u001b[32m既\u001b[0m\u001b[32m友\u001b[0m\u001b[32m好\u001b[0m\u001b[32m又\u001b[0m\u001b[32m有\u001b[0m\u001b[32m性\u001b[0m\u001b[32m价\u001b[0m\u001b[32m比\u001b[0m\u001b[32m。\u001b[0m\u001b[32m\n",
      "\u001b[0m\u001b[32m不\u001b[0m\u001b[32m过\u001b[0m\u001b[32m，\u001b[0m\u001b[32m疫\u001b[0m\u001b[32m情\u001b[0m\u001b[32m以\u001b[0m\u001b[32m后\u001b[0m\u001b[32m，\u001b[0m\u001b[32m伴\u001b[0m\u001b[32m随\u001b[0m\u001b[32m着\u001b[0m\u001b[32m出\u001b[0m\u001b[32m国\u001b[0m\u001b[32m成\u001b[0m\u001b[32m本\u001b[0m\u001b[32m飞\u001b[0m\u001b[32m升\u001b[0m\u001b[32m、\u001b[0m\u001b[32m授\u001b[0m\u001b[32m课\u001b[0m\u001b[32m模\u001b[0m\u001b[32m式\u001b[0m\u001b[32m不\u001b[0m\u001b[32m稳\u001b[0m\u001b[32m定\u001b[0m\u001b[32m等\u001b[0m\u001b[32m等\u001b[0m\u001b[32m原\u001b[0m\u001b[32m因\u001b[0m\u001b[32m，\u001b[0m\u001b[32m大\u001b[0m\u001b[32m量\u001b[0m\u001b[32m原\u001b[0m\u001b[32m本\u001b[0m\u001b[32m打\u001b[0m\u001b[32m算\u001b[0m\u001b[32m出\u001b[0m\u001b[32m国\u001b[0m\u001b[32m的\u001b[0m\u001b[32m内\u001b[0m\u001b[32m地\u001b[0m\u001b[32m学\u001b[0m\u001b[32m生\u001b[0m\u001b[32m涌\u001b[0m\u001b[32m入\u001b[0m\u001b[32m香\u001b[0m\u001b[32m港\u001b[0m\u001b[32m。\u001b[0m\u001b[32m扩\u001b[0m\u001b[32m招\u001b[0m\u001b[32m并\u001b[0m\u001b[32m没\u001b[0m\u001b[32m有\u001b[0m\u001b[32m让\u001b[0m\u001b[32m留\u001b[0m\u001b[32m港\u001b[0m\u001b[32m这\u001b[0m\u001b[32m件\u001b[0m\u001b[32m事\u001b[0m\u001b[32m变\u001b[0m\u001b[32m得\u001b[0m\u001b[32m更\u001b[0m\u001b[32m容\u001b[0m\u001b[32m易\u001b[0m\u001b[32m。\u001b[0m\u001b[32m\n",
      "\u001b[0m\u001b[32m相\u001b[0m\u001b[32m反\u001b[0m\u001b[32m，\u001b[0m\u001b[32m这\u001b[0m\u001b[32m些\u001b[0m\u001b[32m年\u001b[0m\u001b[32m来\u001b[0m\u001b[32m香\u001b[0m\u001b[32m港\u001b[0m\u001b[32m学\u001b[0m\u001b[32m习\u001b[0m\u001b[32m的\u001b[0m\u001b[32m门\u001b[0m\u001b[32m槛\u001b[0m\u001b[32m蹭\u001b[0m\u001b[32m蹭\u001b[0m\u001b[32m提\u001b[0m\u001b[32m高\u001b[0m\u001b[32m。\u001b[0m\u001b[32m\n",
      "\u001b[0m\u001b[32m如\u001b[0m\u001b[32m果\u001b[0m\u001b[32m要\u001b[0m\u001b[32m走\u001b[0m\u001b[32m高\u001b[0m\u001b[32m考\u001b[0m\u001b[32m路\u001b[0m\u001b[32m线\u001b[0m\u001b[32m，\u001b[0m\u001b[32m像\u001b[0m\u001b[32m香\u001b[0m\u001b[32m港\u001b[0m\u001b[32m大\u001b[0m\u001b[32m学\u001b[0m\u001b[32m这\u001b[0m\u001b[32m样\u001b[0m\u001b[32m的\u001b[0m\u001b[32m头\u001b[0m\u001b[32m部\u001b[0m\u001b[32m学\u001b[0m\u001b[32m校\u001b[0m\u001b[32m，\u001b[0m\u001b[32m这\u001b[0m\u001b[32m些\u001b[0m\u001b[32m年\u001b[0m\u001b[32m的\u001b[0m\u001b[32m录\u001b[0m\u001b[32m取\u001b[0m\u001b[32m分\u001b[0m\u001b[32m数\u001b[0m\u001b[32m要\u001b[0m\u001b[32m超\u001b[0m\u001b[32m过\u001b[0m\u001b[32m高\u001b[0m\u001b[32m考\u001b[0m\u001b[32m一\u001b[0m\u001b[32m本\u001b[0m\u001b[32m线\u001b[0m\u001b[32m1\u001b[0m\u001b[32m6\u001b[0m\u001b[32m0\u001b[0m\u001b[32m分\u001b[0m\u001b[32m左\u001b[0m\u001b[32m右\u001b[0m\u001b[32m。\u001b[0m\u001b[32m\n",
      "\u001b[0m\u001b[32m如\u001b[0m\u001b[32m果\u001b[0m\u001b[32m不\u001b[0m\u001b[32m参\u001b[0m\u001b[32m加\u001b[0m\u001b[32m高\u001b[0m\u001b[32m考\u001b[0m\u001b[32m，\u001b[0m\u001b[32m以\u001b[0m\u001b[32m香\u001b[0m\u001b[32m港\u001b[0m\u001b[32m科\u001b[0m\u001b[32m技\u001b[0m\u001b[32m大\u001b[0m\u001b[32m学\u001b[0m\u001b[32m2\u001b[0m\u001b[32m0\u001b[0m\u001b[32m2\u001b[0m\u001b[32m1\u001b[0m\u001b[32m年\u001b[0m\u001b[32m的\u001b[0m\u001b[32m录\u001b[0m\u001b[32m取\u001b[0m\u001b[32m数\u001b[0m\u001b[32m据\u001b[0m\u001b[32m为\u001b[0m\u001b[32m例\u001b[0m\u001b[32m，\u001b[0m\u001b[32m录\u001b[0m\u001b[32m取\u001b[0m\u001b[32m者\u001b[0m\u001b[32m的\u001b[0m\u001b[32m平\u001b[0m\u001b[32m均\u001b[0m\u001b[32m成\u001b[0m\u001b[32m绩\u001b[0m\u001b[32m，\u001b[0m\u001b[32mI\u001b[0m\u001b[32mB\u001b[0m\u001b[32m的\u001b[0m\u001b[32m分\u001b[0m\u001b[32m数\u001b[0m\u001b[32m中\u001b[0m\u001b[32m位\u001b[0m\u001b[32m数\u001b[0m\u001b[32m为\u001b[0m\u001b[32m3\u001b[0m\u001b[32m7\u001b[0m\u001b[32m-\u001b[0m\u001b[32m4\u001b[0m\u001b[32m2\u001b[0m\u001b[32m分\u001b[0m\u001b[32m，\u001b[0m\u001b[32mA\u001b[0m\u001b[32m-\u001b[0m\u001b[32mL\u001b[0m\u001b[32me\u001b[0m\u001b[32mv\u001b[0m\u001b[32me\u001b[0m\u001b[32ml\u001b[0m\u001b[32m成\u001b[0m\u001b[32m绩\u001b[0m\u001b[32m中\u001b[0m\u001b[32m位\u001b[0m\u001b[32m数\u001b[0m\u001b[32m在\u001b[0m\u001b[32mA\u001b[0m\u001b[32mA\u001b[0m\u001b[32mA\u001b[0m\u001b[32m-\u001b[0m\u001b[32mA\u001b[0m\u001b[32mA\u001b[0m\u001b[32mA\u001b[0m\u001b[32m，\u001b[0m\u001b[32mS\u001b[0m\u001b[32mA\u001b[0m\u001b[32mT\u001b[0m\u001b[32m中\u001b[0m\u001b[32m位\u001b[0m\u001b[32m数\u001b[0m\u001b[32m在\u001b[0m\u001b[32m1\u001b[0m\u001b[32m4\u001b[0m\u001b[32m2\u001b[0m\u001b[32m0\u001b[0m\u001b[32m-\u001b[0m\u001b[32m1\u001b[0m\u001b[32m4\u001b[0m\u001b[32m9\u001b[0m\u001b[32m0\u001b[0m\u001b[32m。\u001b[0m\u001b[32m这\u001b[0m\u001b[32m样\u001b[0m\u001b[32m的\u001b[0m\u001b[32m分\u001b[0m\u001b[32m数\u001b[0m\u001b[32m，\u001b[0m\u001b[32m恐\u001b[0m\u001b[32m怕\u001b[0m\u001b[32m只\u001b[0m\u001b[32m有\u001b[0m\u001b[32m学\u001b[0m\u001b[32m霸\u001b[0m\u001b[32m们\u001b[0m\u001b[32m才\u001b[0m\u001b[32m能\u001b[0m\u001b[32m高\u001b[0m\u001b[32m攀\u001b[0m\u001b[32m得\u001b[0m\u001b[32m起\u001b[0m\u001b[32m。\u001b[0m\u001b[32m\n",
      "\u001b[0m\u001b[32m在\u001b[0m\u001b[32m港\u001b[0m\u001b[32m读\u001b[0m\u001b[32m书\u001b[0m\u001b[32m工\u001b[0m\u001b[32m作\u001b[0m\u001b[32m十\u001b[0m\u001b[32m年\u001b[0m\u001b[32m的\u001b[0m\u001b[32mS\u001b[0m\u001b[32mc\u001b[0m\u001b[32mo\u001b[0m\u001b[32mt\u001b[0m\u001b[32mt\u001b[0m\u001b[32m对\u001b[0m\u001b[32m港\u001b[0m\u001b[32m硕\u001b[0m\u001b[32m的\u001b[0m\u001b[32m申\u001b[0m\u001b[32m请\u001b[0m\u001b[32m难\u001b[0m\u001b[32m度\u001b[0m\u001b[32m变\u001b[0m\u001b[32m化\u001b[0m\u001b[32m深\u001b[0m\u001b[32m有\u001b[0m\u001b[32m体\u001b[0m\u001b[32m会\u001b[0m\u001b[32m：\u001b[0m\u001b[32m\n",
      "\u001b[0m\u001b[32m他\u001b[0m\u001b[32m是\u001b[0m\u001b[32m2\u001b[0m\u001b[32m0\u001b[0m\u001b[32m1\u001b[0m\u001b[32m4\u001b[0m\u001b[32m年\u001b[0m\u001b[32m在\u001b[0m\u001b[32m中\u001b[0m\u001b[32m介\u001b[0m\u001b[32m的\u001b[0m\u001b[32m帮\u001b[0m\u001b[32m助\u001b[0m\u001b[32m下\u001b[0m\u001b[32m完\u001b[0m\u001b[32m成\u001b[0m\u001b[32m了\u001b[0m\u001b[32m香\u001b[0m\u001b[32m港\u001b[0m\u001b[32m教\u001b[0m\u001b[32m育\u001b[0m\u001b[32m大\u001b[0m\u001b[32m学\u001b[0m\u001b[32m中\u001b[0m\u001b[32m文\u001b[0m\u001b[32m教\u001b[0m\u001b[32m育\u001b[0m\u001b[32m专\u001b[0m\u001b[32m业\u001b[0m\u001b[32m的\u001b[0m\u001b[32m硕\u001b[0m\u001b[32m士\u001b[0m\u001b[32m申\u001b[0m\u001b[32m请\u001b[0m\u001b[32m。\u001b[0m\u001b[32m那\u001b[0m\u001b[32m时\u001b[0m\u001b[32m候\u001b[0m\u001b[32m一\u001b[0m\u001b[32m些\u001b[0m\u001b[32m学\u001b[0m\u001b[32m校\u001b[0m\u001b[32m的\u001b[0m\u001b[32m申\u001b[0m\u001b[32m请\u001b[0m\u001b[32m条\u001b[0m\u001b[32m件\u001b[0m\u001b[32m相\u001b[0m\u001b[32m对\u001b[0m\u001b[32m比\u001b[0m\u001b[32m较\u001b[0m\u001b[32m宽\u001b[0m\u001b[32m松\u001b[0m\u001b[32m，\u001b[0m\u001b[32m电\u001b[0m\u001b[32m话\u001b[0m\u001b[32m面\u001b[0m\u001b[32m试\u001b[0m\u001b[32m时\u001b[0m\u001b[32m，\u001b[0m\u001b[32m是\u001b[0m\u001b[32m聊\u001b[0m\u001b[32m一\u001b[0m\u001b[32m聊\u001b[0m\u001b[32m自\u001b[0m\u001b[32m己\u001b[0m\u001b[32m的\u001b[0m\u001b[32m专\u001b[0m\u001b[32m业\u001b[0m\u001b[32m背\u001b[0m\u001b[32m景\u001b[0m\u001b[32m，\u001b[0m\u001b[32m有\u001b[0m\u001b[32m没\u001b[0m\u001b[32m有\u001b[0m\u001b[32m从\u001b[0m\u001b[32m事\u001b[0m\u001b[32m过\u001b[0m\u001b[32m专\u001b[0m\u001b[32m业\u001b[0m\u001b[32m相\u001b[0m\u001b[32m关\u001b[0m\u001b[32m的\u001b[0m\u001b[32m工\u001b[0m\u001b[32m作\u001b[0m\u001b[32m，\u001b[0m\n",
      "\u001b[32m目\u001b[0m\u001b[32m前\u001b[0m\u001b[32m关于202\u001b[0m\u001b[32m3年美国大\u001b[0m\u001b[32m选的最新消息\u001b[0m\u001b[32m包括：\n",
      "\n",
      "-\u001b[0m\u001b[32m 特朗普凭借\u001b[0m\u001b[32m277张\u001b[0m\u001b[32m选举人票赢得\u001b[0m\u001b[32m大选。此\u001b[0m\u001b[32m消息传出后，\u001b[0m\u001b[32mA股市场在\u001b[0m\u001b[32m盘中的波动加剧\u001b[0m\u001b[32m，但国产替代\u001b[0m\u001b[32m这一主线表现较为\u001b[0m\u001b[32m坚挺。具体\u001b[0m\u001b[32m来说，在芯片上游\u001b[0m\u001b[32m板块中，半导体\u001b[0m\u001b[32m设备与材料环节\u001b[0m\u001b[32m保持强劲态势，\u001b[0m\u001b[32m光刻机概念\u001b[0m\u001b[32m下有多只股票\u001b[0m\u001b[32m涨停，量测\u001b[0m\u001b[32m检测、薄膜沉积\u001b[0m\u001b[32m等方面也有大幅拉升\u001b[0m\u001b[32m，机器人、华为\u001b[0m\u001b[32m910C\u001b[0m\u001b[32m等自主可控方向\u001b[0m\u001b[32m同样取得显著进展\u001b[0m\u001b[32m。\n",
      "-\u001b[0m\u001b[32m 美联储的\u001b[0m\u001b[32m决策机构联邦公开\u001b[0m\u001b[32m市场委员会（F\u001b[0m\u001b[32mOMC）作出\u001b[0m\u001b[32m决定，把联邦\u001b[0m\u001b[32m基金利率目标区间\u001b[0m\u001b[32m下调25个\u001b[0m\u001b[32m基点。而\u001b[0m\u001b[32m就在此前一日\u001b[0m\u001b[32m，美国共和党\u001b[0m\u001b[32m总统候选人特朗普刚刚\u001b[0m\u001b[32m宣布胜选。\u001b[0m\u001b[32m\n",
      "- 在20\u001b[0m\u001b[32m24年美国总统\u001b[0m\u001b[32m大选中，\u001b[0m\u001b[32m特朗普直接从线上\u001b[0m\u001b[32m进攻，在网络和\u001b[0m\u001b[32m社交媒体领域的动员能力\u001b[0m\u001b[32m强大，动员了\u001b[0m\u001b[32m为数众多的\u001b[0m\u001b[32m保守派选民\u001b[0m\u001b[32m。特朗普麾下\u001b[0m\u001b[32m还有一支以\u001b[0m\u001b[32m保守派网红为主的\u001b[0m\u001b[32m网红部队，他们\u001b[0m\u001b[32m为特朗普吹喇叭\u001b[0m\u001b[32m抬轿子，\u001b[0m\u001b[32m动员了大量保守\u001b[0m\u001b[32m派选民。\u001b[0m\u001b[32m\n",
      "- 民\u001b[0m\u001b[32m主党在\"\u001b[0m\u001b[32m空战\"方面\u001b[0m\u001b[32m并未形成合力，\u001b[0m\u001b[32m最终在选举博弈\u001b[0m\u001b[32m中落了下\u001b[0m\u001b[32m风。\n",
      "\n",
      "以上信息\u001b[0m\u001b[32m显示，特朗普赢得了\u001b[0m\u001b[32m2023\u001b[0m\u001b[32m年的美国大选\u001b[0m\u001b[32m，同时他的竞选\u001b[0m\u001b[32m策略在社交媒体上\u001b[0m\u001b[32m发挥了重要作用。另外\u001b[0m\u001b[32m，美联储也在大\u001b[0m\u001b[32m选后下调了\u001b[0m\u001b[32m联邦基金利率。\u001b[0m\u001b[32m希望这些信息对\u001b[0m\u001b[32m您有所帮助。如果您\u001b[0m\u001b[32m有其他问题或\u001b[0m\u001b[32m需要更多信息，请随时\u001b[0m\u001b[32m告诉我。\u001b[0m\u001b[32m\u001b[0m\n"
     ]
    },
    {
     "data": {
      "text/plain": [
       "'目前关于2023年美国大选的最新消息包括：\\n\\n- 特朗普凭借277张选举人票赢得大选。此消息传出后，A股市场在盘中的波动加剧，但国产替代这一主线表现较为坚挺。具体来说，在芯片上游板块中，半导体设备与材料环节保持强劲态势，光刻机概念下有多只股票涨停，量测检测、薄膜沉积等方面也有大幅拉升，机器人、华为910C等自主可控方向同样取得显著进展。\\n- 美联储的决策机构联邦公开市场委员会（FOMC）作出决定，把联邦基金利率目标区间下调25个基点。而就在此前一日，美国共和党总统候选人特朗普刚刚宣布胜选。\\n- 在2024年美国总统大选中，特朗普直接从线上进攻，在网络和社交媒体领域的动员能力强大，动员了为数众多的保守派选民。特朗普麾下还有一支以保守派网红为主的网红部队，他们为特朗普吹喇叭抬轿子，动员了大量保守派选民。\\n- 民主党在\"空战\"方面并未形成合力，最终在选举博弈中落了下风。\\n\\n以上信息显示，特朗普赢得了2023年的美国大选，同时他的竞选策略在社交媒体上发挥了重要作用。另外，美联储也在大选后下调了联邦基金利率。希望这些信息对您有所帮助。如果您有其他问题或需要更多信息，请随时告诉我。'"
      ]
     },
     "execution_count": 3,
     "metadata": {},
     "output_type": "execute_result"
    }
   ],
   "source": [
    "from illufly.toolkits import WebSearch\n",
    "from illufly.chat import ChatQwen\n",
    "\n",
    "search = WebSearch()\n",
    "qwen = ChatQwen(tools=[search])\n",
    "\n",
    "qwen(\"美国大选近况如何\", verbose=False)"
   ]
  },
  {
   "cell_type": "markdown",
   "id": "46b3d3f2-cb5a-41cb-bc49-4ae24aa72200",
   "metadata": {},
   "source": [
    "### openai兼容"
   ]
  },
  {
   "cell_type": "code",
   "execution_count": 10,
   "id": "8965bd1f-6e3b-4f59-8491-87ec6ac9bb7e",
   "metadata": {},
   "outputs": [
    {
     "name": "stdout",
     "output_type": "stream",
     "text": [
      "\u001b[32m当然\u001b[0m\u001b[32m可以\u001b[0m\u001b[32m，\u001b[0m\u001b[32m以下是根据您的要求创作\u001b[0m\u001b[32m的一首关于兔子做梦的四句\u001b[0m\u001b[32m儿歌：\n",
      "  \n",
      "1. 小\u001b[0m\u001b[32m兔子在梦里跳，\n",
      "2.\u001b[0m\u001b[32m 穿过森林又跨山\u001b[0m\u001b[32m。\n",
      "3. 面对彩虹\u001b[0m\u001b[32m和星星笑，\n",
      "4. \u001b[0m\u001b[32m梦醒了，还是回到家。\u001b[0m\n"
     ]
    },
    {
     "data": {
      "text/plain": [
       "'当然可以，以下是根据您的要求创作的一首关于兔子做梦的四句儿歌：\\n  \\n1. 小兔子在梦里跳，\\n2. 穿过森林又跨山。\\n3. 面对彩虹和星星笑，\\n4. 梦醒了，还是回到家。'"
      ]
     },
     "execution_count": 10,
     "metadata": {},
     "output_type": "execute_result"
    }
   ],
   "source": [
    "from illufly.chat import ChatOpenAI\n",
    "\n",
    "qwen = ChatOpenAI(model=\"qwen2-1.5b-instruct\", imitator=\"Qwen\")\n",
    "qwen(\n",
    "    [{\"role\": \"user\", \"content\": \"你能帮我写一首关于兔子做梦的四句儿歌?\"}],\n",
    ")"
   ]
  },
  {
   "cell_type": "code",
   "execution_count": 15,
   "id": "b20e1f88-0550-4cde-862b-b15e09da2e2f",
   "metadata": {},
   "outputs": [
    {
     "data": {
      "text/plain": [
       "[{'role': 'user', 'content': '今天广州适合徒步吗'},\n",
       " {'role': 'assistant',\n",
       "  'content': '',\n",
       "  'tool_calls': [{'index': 0,\n",
       "    'id': 'call_4991f1ee78a14d41bd5f77',\n",
       "    'type': 'function',\n",
       "    'function': {'name': 'get_current_weather',\n",
       "     'arguments': '{\"location\": \"广州\"}'}}]},\n",
       " {'tool_call_id': 'call_4991f1ee78a14d41bd5f77',\n",
       "  'role': 'tool',\n",
       "  'name': 'get_current_weather',\n",
       "  'content': '广州今天是晴天。 '},\n",
       " {'role': 'assistant', 'content': '今天广州是晴天，所以非常适合徒步。不过建议在户外活动时注意防晒和保持水分哦！'}]"
      ]
     },
     "execution_count": 15,
     "metadata": {},
     "output_type": "execute_result"
    }
   ],
   "source": [
    "a.memory"
   ]
  },
  {
   "cell_type": "code",
   "execution_count": 1,
   "id": "a48a599c-e2cc-478c-8931-a23ae2d17bd0",
   "metadata": {},
   "outputs": [
    {
     "name": "stdout",
     "output_type": "stream",
     "text": [
      "\n",
      "\n",
      "\u001b[32m上海今天是晴天。 \u001b[0m\n",
      "\u001b[32m今天\u001b[0m\u001b[32m上海是晴天，\u001b[0m\u001b[32m所以可以考虑去户外活动。但\u001b[0m\u001b[32m请注意防晒和补水哦！\u001b[0m\n"
     ]
    },
    {
     "data": {
      "text/plain": [
       "'今天上海是晴天，所以可以考虑去户外活动。但请注意防晒和补水哦！'"
      ]
     },
     "execution_count": 1,
     "metadata": {},
     "output_type": "execute_result"
    }
   ],
   "source": [
    "from illufly.types import BaseAgent\n",
    "from illufly.chat import ChatOpenAI\n",
    "\n",
    "def get_current_weather(location: str=None):\n",
    "    \"\"\"获取城市的天气情况\"\"\"\n",
    "    return f\"{location}今天是晴天。 \"\n",
    "\n",
    "a = ChatOpenAI(model=\"qwen2-1.5b-instruct\", imitator=\"Qwen\")\n",
    "a(\"今天上海和广州适合徒步吗\", tools=[get_current_weather])"
   ]
  },
  {
   "cell_type": "code",
   "execution_count": 22,
   "id": "bffeff51-1da3-4481-ae53-ed236e2d4873",
   "metadata": {},
   "outputs": [
    {
     "data": {
      "text/plain": [
       "[{'role': 'user', 'content': '今天上海和广州天气如何啊，一起调用工具查查再回答'},\n",
       " {'role': 'assistant',\n",
       "  'content': '',\n",
       "  'tool_calls': [{'index': 0,\n",
       "    'id': 'call_84806adfd47c4320b3b98d',\n",
       "    'type': 'function',\n",
       "    'function': {'name': 'get_current_weather',\n",
       "     'arguments': '{\"location\": \"上海\"}'}}]},\n",
       " {'tool_call_id': 'call_84806adfd47c4320b3b98d',\n",
       "  'role': 'tool',\n",
       "  'name': 'get_current_weather',\n",
       "  'content': '上海今天是晴天。 '},\n",
       " {'role': 'assistant',\n",
       "  'content': '',\n",
       "  'tool_calls': [{'index': 0,\n",
       "    'id': 'call_d07e52a284cb4ac2b9ebcd',\n",
       "    'type': 'function',\n",
       "    'function': {'name': 'get_current_weather',\n",
       "     'arguments': '{\"location\": \"广州\"}'}}]},\n",
       " {'tool_call_id': 'call_d07e52a284cb4ac2b9ebcd',\n",
       "  'role': 'tool',\n",
       "  'name': 'get_current_weather',\n",
       "  'content': '广州今天是晴天。 '},\n",
       " {'role': 'assistant', 'content': '今天上海和广州都是晴天哦。'}]"
      ]
     },
     "execution_count": 22,
     "metadata": {},
     "output_type": "execute_result"
    }
   ],
   "source": [
    "a.memory"
   ]
  },
  {
   "cell_type": "markdown",
   "id": "983390ba-cdeb-4651-b0df-0a59204be8fc",
   "metadata": {},
   "source": [
    "## 向量模型"
   ]
  },
  {
   "cell_type": "code",
   "execution_count": 1,
   "id": "9aaadc6e-9b13-4bf6-80c6-930e0e5997e1",
   "metadata": {},
   "outputs": [
    {
     "name": "stdout",
     "output_type": "stream",
     "text": [
      "[-0.10436907410621643, 0.043999478220939636, -0.07047602534294128]\n"
     ]
    }
   ],
   "source": [
    "from illufly.types import Document\n",
    "from illufly.embeddings import DashScopeEmbeddings\n",
    "\n",
    "embeddings = DashScopeEmbeddings()\n",
    "doc = [Document(\"这是一个测试文本\")]\n",
    "embeddings(doc)\n",
    "print(embeddings.last_output[0].metadata['embeddings'][:3])"
   ]
  },
  {
   "cell_type": "code",
   "execution_count": 2,
   "id": "53d9527f-0c20-4111-9af7-24c0d56a9a16",
   "metadata": {},
   "outputs": [
    {
     "data": {
      "text/plain": [
       "[Document(text='illufly？ 这是一个专注于写作和对话场景的多智能体框架', metadata='{\"source\": \"unknown\", \"embeddings\": [-0.0847005844116211, 0.04371895268559456, 0.000247611606027931,...'),\n",
       " Document(text='普鸿是做消防业务的专业公司', metadata='{\"source\": \"unknown\", \"embeddings\": [-0.0868479385972023, 0.0248136967420578, -0.027287213131785393,...'),\n",
       " Document(text='幻蝶AI的智能体框架非常领先', metadata='{\"source\": \"unknown\", \"embeddings\": [-0.05167926475405693, 0.00564523134380579, -0.00589442625641822...')]"
      ]
     },
     "execution_count": 2,
     "metadata": {},
     "output_type": "execute_result"
    }
   ],
   "source": [
    "from illufly.embeddings import ZhipuEmbeddings, DashScopeEmbeddings\n",
    "from illufly.io import log\n",
    "import os\n",
    "# os.environ[\"ILLUFLY_CACHE_EMBEDDINGS\"] = \"./__CACHE_EMBEDDINGS__\"\n",
    "\n",
    "e = DashScopeEmbeddings()\n",
    "e(\n",
    "    docs=[\n",
    "        \"illufly？ 这是一个专注于写作和对话场景的多智能体框架\",\n",
    "        \"普鸿是做消防业务的专业公司\",\n",
    "        \"幻蝶AI的智能体框架非常领先\",\n",
    "    ],\n",
    "    verbose=True\n",
    ")"
   ]
  },
  {
   "cell_type": "code",
   "execution_count": 3,
   "id": "bdad84de-c824-4fef-beda-fd9db62e72c2",
   "metadata": {},
   "outputs": [
    {
     "data": {
      "text/plain": [
       "[Document(text='illufly？ 这是一个专注于写作和对话场景的多智能体框架', metadata='{\"source\": \"unknown\", \"embeddings\": [-0.0847005844116211, 0.04371895268559456, 0.000247611606027931,...'),\n",
       " Document(text='普鸿是做消防业务的专业公司', metadata='{\"source\": \"unknown\", \"embeddings\": [-0.0868479385972023, 0.0248136967420578, -0.027287213131785393,...'),\n",
       " Document(text='幻蝶AI的智能体框架非常领先', metadata='{\"source\": \"unknown\", \"embeddings\": [-0.05167926475405693, 0.00564523134380579, -0.00589442625641822...'),\n",
       " Document(text='模型：这里列出了被评估的模型名称，都是基于\"text-embedding-v3\"', metadata='{\"source\": \"unknown\", \"embeddings\": [-0.062373656779527664, -0.028722155839204788, -0.02404510229825...'),\n",
       " Document(text='模型维度：这是指向量模型的维度，即每个向量在嵌入空间中的特征数量。在这个例子中，模型的维度分别为1024、768和512。', metadata='{\"source\": \"unknown\", \"embeddings\": [-0.04857911914587021, -0.028379620984196663, -0.053788159042596...'),\n",
       " Document(text='MTEB：这可能是模型在某个基准测试（可能是多任务情感分析基准，Multi-Task Emotion Benchmark）上的总体准确率或得分。数值越高，表示模型在该基准测试上的表现越好。', metadata='{\"source\": \"unknown\", \"embeddings\": [-0.028462227433919907, -0.06827855855226517, -0.073512986302375...'),\n",
       " Document(text='MTEB（Retrieval task）：这是模型在MTEB基准的检索任务上的得分。检索任务通常涉及到从数据集中检索与给定查询最相关的项。', metadata='{\"source\": \"unknown\", \"embeddings\": [-0.022207587957382202, -0.05412628874182701, -0.058304328471422...'),\n",
       " Document(text='CMTEB：这可能是模型在某种上下文修改的MTEB基准测试上的得分。这里的“C”可能代表“Contextual”或其他某种修改版。', metadata='{\"source\": \"unknown\", \"embeddings\": [-0.029237115755677223, -0.01602769084274769, -0.062231920659542...'),\n",
       " Document(text='CMTEB (Retrieval task)：这是模型在CMTEB基准的检索任务上的得分。', metadata='{\"source\": \"unknown\", \"embeddings\": [-0.035427939146757126, -0.047904737293720245, -0.06265354156494...')]"
      ]
     },
     "execution_count": 3,
     "metadata": {},
     "output_type": "execute_result"
    }
   ],
   "source": [
    "from illufly.embeddings import DashScopeEmbeddings\n",
    "import os\n",
    "\n",
    "e = DashScopeEmbeddings()\n",
    "e(\n",
    "    [\n",
    "        \"illufly？ 这是一个专注于写作和对话场景的多智能体框架\",\n",
    "        \"普鸿是做消防业务的专业公司\",\n",
    "        \"幻蝶AI的智能体框架非常领先\",\n",
    "        '模型：这里列出了被评估的模型名称，都是基于\"text-embedding-v3\"',\n",
    "        '模型维度：这是指向量模型的维度，即每个向量在嵌入空间中的特征数量。在这个例子中，模型的维度分别为1024、768和512。',\n",
    "        'MTEB：这可能是模型在某个基准测试（可能是多任务情感分析基准，Multi-Task Emotion Benchmark）上的总体准确率或得分。数值越高，表示模型在该基准测试上的表现越好。',\n",
    "        'MTEB（Retrieval task）：这是模型在MTEB基准的检索任务上的得分。检索任务通常涉及到从数据集中检索与给定查询最相关的项。',\n",
    "        'CMTEB：这可能是模型在某种上下文修改的MTEB基准测试上的得分。这里的“C”可能代表“Contextual”或其他某种修改版。',\n",
    "        'CMTEB (Retrieval task)：这是模型在CMTEB基准的检索任务上的得分。'\n",
    "    ],\n",
    "    verbose=True\n",
    ")"
   ]
  },
  {
   "cell_type": "markdown",
   "id": "223b45b5-1d30-4b71-9569-86b0a031ccdf",
   "metadata": {},
   "source": [
    "### 在FaissDB 中使用"
   ]
  },
  {
   "cell_type": "code",
   "execution_count": 13,
   "id": "a1fa0450-c364-4e01-bed2-511457dade79",
   "metadata": {},
   "outputs": [
    {
     "name": "stdout",
     "output_type": "stream",
     "text": [
      "  0s [INFO] \u001b[34m[0.410] unknown: 普鸿是做消防业务的专业公司\u001b[0m\n",
      "  0s [INFO] \u001b[34m[1.165] unknown: illufly？ 这是一个专注于写作和对话场景的多智能体框架\u001b[0m\n",
      "  0s [INFO] \u001b[34m[1.312] unknown: 幻蝶AI的智能体框架非常领先\u001b[0m\n",
      "  0s [INFO] \u001b[34m[1.313] unknown: MTEB（Retrieval task）：这是模型在MTEB基准的检索任务上的得分。检索任务通常涉及到从数据集中检索与给定查询最相关的项。\u001b[0m\n",
      "  0s [INFO] \u001b[34m[1.336] unknown: MTEB：这可能是模型在某个基准测试（可能是多任务情感分析基准，Multi-Task Emotion Benchmark）上的总体准确率或得分。数值越高，表示模型在该基准测试上的表现越好。\u001b[0m\n",
      "耗时0.3778669834136963s\n"
     ]
    }
   ],
   "source": [
    "import time\n",
    "start = time.time()\n",
    "from illufly.vectordb import FaissDB\n",
    "db = FaissDB(e, train=False)\n",
    "db(\"普鸿干嘛的？\", verbose=True)\n",
    "# v(\"幻蝶是啥？\", verbose=True)\n",
    "end = time.time()\n",
    "print(\"耗时{}s\".format(end-start))"
   ]
  },
  {
   "cell_type": "markdown",
   "id": "9ad94cbb-a876-4342-9779-f05ef38c984c",
   "metadata": {},
   "source": [
    "## 文生图"
   ]
  },
  {
   "cell_type": "code",
   "execution_count": 3,
   "id": "9e4e6e2c-6ca4-44d3-94ba-9c459069d408",
   "metadata": {},
   "outputs": [
    {
     "name": "stdout",
     "output_type": "stream",
     "text": [
      " 14s [INFO] \u001b[34m{\"output\": {\"task_status\": \"PENDING\", \"task_id\": \"bf600eae-4330-4513-a815-c62b3afea54a\"}, \"request_id\": \"d8df0a2b-44ac-9b7e-9f49-c6221d26461d\"}\u001b[0m\n",
      " 14s [INFO] \u001b[34mbf600eae-4330-4513-a815-c62b3afea54a: PENDING\u001b[0m\n",
      " 17s [INFO] \u001b[34mbf600eae-4330-4513-a815-c62b3afea54a: RUNNING\u001b[0m\n",
      " 19s [INFO] \u001b[34mbf600eae-4330-4513-a815-c62b3afea54a: RUNNING\u001b[0m\n",
      " 22s [INFO] \u001b[34mbf600eae-4330-4513-a815-c62b3afea54a: RUNNING\u001b[0m\n",
      " 24s [INFO] \u001b[34mbf600eae-4330-4513-a815-c62b3afea54a: RUNNING\u001b[0m\n",
      " 26s [INFO] \u001b[34mbf600eae-4330-4513-a815-c62b3afea54a: RUNNING\u001b[0m\n",
      " 29s [INFO] \u001b[34mbf600eae-4330-4513-a815-c62b3afea54a: RUNNING\u001b[0m\n",
      " 31s [INFO] \u001b[34mbf600eae-4330-4513-a815-c62b3afea54a: RUNNING\u001b[0m\n",
      " 33s [INFO] \u001b[34mbf600eae-4330-4513-a815-c62b3afea54a: RUNNING\u001b[0m\n",
      " 35s [INFO] \u001b[34mbf600eae-4330-4513-a815-c62b3afea54a: RUNNING\u001b[0m\n",
      " 38s [INFO] \u001b[34mbf600eae-4330-4513-a815-c62b3afea54a: RUNNING\u001b[0m\n",
      " 40s [INFO] \u001b[34mbf600eae-4330-4513-a815-c62b3afea54a: RUNNING\u001b[0m\n",
      " 42s [INFO] \u001b[34mbf600eae-4330-4513-a815-c62b3afea54a: RUNNING\u001b[0m\n",
      " 45s [INFO] \u001b[34mbf600eae-4330-4513-a815-c62b3afea54a: SUCCEEDED\u001b[0m\n",
      " 45s [IMAGE_URL] \u001b[33mhttps://dashscope-result-hz.oss-cn-hangzhou.aliyuncs.com/1d/a2/20240926/522176a8/dfb83f3c-adcf-4d72-92e3-129412af998a-1.png?Expires=1727437945&OSSAccessKeyId=LTAI5tQZd8AEcZX6KZV4G8qL&Signature=3WEdbXMMKCuUWGVllr%2FvOA4ZnuM%3D\u001b[0m\n",
      " 46s [INFO] \u001b[34moutput image to girl8.png\u001b[0m\n",
      " 46s [IMAGE_URL] \u001b[33mhttps://dashscope-result-hz.oss-cn-hangzhou.aliyuncs.com/1d/c0/20240926/522176a8/f1d0fb30-3ea0-46ea-94f8-e480374b71d0-1.png?Expires=1727437945&OSSAccessKeyId=LTAI5tQZd8AEcZX6KZV4G8qL&Signature=eJGobCAT8wnU8O5A%2F7SJ4VfsDNU%3D\u001b[0m\n",
      " 48s [INFO] \u001b[34moutput image to f1d0fb30-3ea0-46ea-94f8-e480374b71d0-1.png\u001b[0m\n",
      " 48s [IMAGE_URL] \u001b[33mhttps://dashscope-result-sh.oss-cn-shanghai.aliyuncs.com/1d/14/20240926/1b61f1c0/b7d8c5d0-bc26-4b42-83b7-4ace4eb2b6dc-1.png?Expires=1727437945&OSSAccessKeyId=LTAI5tQZd8AEcZX6KZV4G8qL&Signature=UKhlQkXjewJfC11EyBpBnrkGhOo%3D\u001b[0m\n",
      " 49s [INFO] \u001b[34moutput image to b7d8c5d0-bc26-4b42-83b7-4ace4eb2b6dc-1.png\u001b[0m\n",
      " 49s [IMAGE_URL] \u001b[33mhttps://dashscope-result-sh.oss-cn-shanghai.aliyuncs.com/1d/44/20240926/1b61f1c0/b4b9569e-750d-41b1-b989-175904511379-1.png?Expires=1727437945&OSSAccessKeyId=LTAI5tQZd8AEcZX6KZV4G8qL&Signature=qRaWO%2F%2FDBtTrvq6bf7j%2B4198daM%3D\u001b[0m\n",
      " 51s [INFO] \u001b[34moutput image to b4b9569e-750d-41b1-b989-175904511379-1.png\u001b[0m\n",
      " 51s [USAGE] \u001b[34m{\"image_count\": 4}\u001b[0m\n"
     ]
    }
   ],
   "source": [
    "from illufly.tools import Text2ImageWanx\n",
    "\n",
    "w = Text2ImageWanx()\n",
    "w(\n",
    "    input={\n",
    "        \"prompt\": \"换成红色泳衣\",\n",
    "        \"ref_img\": \"girl4.png\"\n",
    "    },\n",
    "    output=\"girl8.png\",\n",
    "    verbose=True\n",
    ")"
   ]
  },
  {
   "cell_type": "code",
   "execution_count": 2,
   "id": "18b9509b-df82-4a8e-8b5b-28e5d969633d",
   "metadata": {},
   "outputs": [
    {
     "name": "stdout",
     "output_type": "stream",
     "text": [
      "  0s [INFO] \u001b[34m{\"output\": {\"task_status\": \"PENDING\", \"task_id\": \"bb65695f-f516-4c53-8ece-a6c09f57ca99\"}, \"request_id\": \"d3f1fa2d-d6cf-94a5-b583-f3eb90dc5397\"}\u001b[0m\n",
      "  0s [INFO] \u001b[34mbb65695f-f516-4c53-8ece-a6c09f57ca99: PENDING\u001b[0m\n",
      "  2s [INFO] \u001b[34mbb65695f-f516-4c53-8ece-a6c09f57ca99: RUNNING\u001b[0m\n",
      "  4s [INFO] \u001b[34mbb65695f-f516-4c53-8ece-a6c09f57ca99: RUNNING\u001b[0m\n",
      "  6s [INFO] \u001b[34mbb65695f-f516-4c53-8ece-a6c09f57ca99: RUNNING\u001b[0m\n",
      "  8s [INFO] \u001b[34mbb65695f-f516-4c53-8ece-a6c09f57ca99: RUNNING\u001b[0m\n",
      " 10s [INFO] \u001b[34mbb65695f-f516-4c53-8ece-a6c09f57ca99: RUNNING\u001b[0m\n",
      " 12s [INFO] \u001b[34mbb65695f-f516-4c53-8ece-a6c09f57ca99: RUNNING\u001b[0m\n",
      " 15s [INFO] \u001b[34mbb65695f-f516-4c53-8ece-a6c09f57ca99: RUNNING\u001b[0m\n",
      " 17s [INFO] \u001b[34mbb65695f-f516-4c53-8ece-a6c09f57ca99: RUNNING\u001b[0m\n",
      " 19s [INFO] \u001b[34mbb65695f-f516-4c53-8ece-a6c09f57ca99: RUNNING\u001b[0m\n",
      " 21s [INFO] \u001b[34mbb65695f-f516-4c53-8ece-a6c09f57ca99: RUNNING\u001b[0m\n",
      " 23s [INFO] \u001b[34mbb65695f-f516-4c53-8ece-a6c09f57ca99: RUNNING\u001b[0m\n",
      " 25s [INFO] \u001b[34mbb65695f-f516-4c53-8ece-a6c09f57ca99: RUNNING\u001b[0m\n",
      " 27s [INFO] \u001b[34mbb65695f-f516-4c53-8ece-a6c09f57ca99: RUNNING\u001b[0m\n",
      " 29s [INFO] \u001b[34mbb65695f-f516-4c53-8ece-a6c09f57ca99: SUCCEEDED\u001b[0m\n",
      " 29s [IMAGE_URL] \u001b[33mhttps://dashscope-result-hz.oss-cn-hangzhou.aliyuncs.com/1d/81/20240927/522176a8/a1bbbf3f-7247-4899-8af5-84d22e25e7bf-1.png?Expires=1727501560&OSSAccessKeyId=LTAI5tQZd8AEcZX6KZV4G8qL&Signature=yU%2FzfMBS09R3vhY1Lh6ObBNyXvA%3D\u001b[0m\n",
      " 30s [INFO] \u001b[34moutput image to a1bbbf3f-7247-4899-8af5-84d22e25e7bf-1.png\u001b[0m\n",
      " 30s [USAGE] \u001b[34m{\"image_count\": 1}\u001b[0m\n"
     ]
    }
   ],
   "source": [
    "from illufly.text2image import Text2ImageWanx\n",
    "from illufly.io import log, alog\n",
    "\n",
    "w = Text2ImageWanx()\n",
    "await alog(w, input={\"prompt\": \"an asia girl in water\"}, parameters={\"n\": 1}, verbose=True)"
   ]
  },
  {
   "cell_type": "markdown",
   "id": "39c4515c-8ff2-40b1-a559-f8007676be8d",
   "metadata": {},
   "source": [
    "## Cosplay"
   ]
  },
  {
   "cell_type": "code",
   "execution_count": 1,
   "id": "4926f9f9-cffe-4a41-8d1a-77525774248b",
   "metadata": {},
   "outputs": [
    {
     "name": "stdout",
     "output_type": "stream",
     "text": [
      "  1s [INFO] \u001b[34m{\"output\": {\"task_status\": \"PENDING\", \"task_id\": \"23b57610-ada4-4ba5-af1e-c0b01324e68a\"}, \"request_id\": \"adb3b77d-e37d-9a53-bdda-8cc42d1a840e\"}\u001b[0m\n",
      "  1s [INFO] \u001b[34m23b57610-ada4-4ba5-af1e-c0b01324e68a: PENDING\u001b[0m\n",
      "  3s [INFO] \u001b[34m23b57610-ada4-4ba5-af1e-c0b01324e68a: RUNNING\u001b[0m\n",
      "  5s [INFO] \u001b[34m23b57610-ada4-4ba5-af1e-c0b01324e68a: RUNNING\u001b[0m\n",
      "  7s [INFO] \u001b[34m23b57610-ada4-4ba5-af1e-c0b01324e68a: RUNNING\u001b[0m\n",
      "  9s [INFO] \u001b[34m23b57610-ada4-4ba5-af1e-c0b01324e68a: SUCCEEDED\u001b[0m\n",
      "  9s [IMAGE_URL] \u001b[33mhttps://dashscope-result-bj.oss-cn-beijing.aliyuncs.com/viapi-video/2024-09-27/c4778d38-99ff-40ab-867e-4951cccb7dc5/20240927133129860658_1_2nefzj4vbr.jpg?Expires=1727501495&OSSAccessKeyId=LTAI5tQZd8AEcZX6KZV4G8qL&Signature=iZ61nLXjQz%2Fn1JWSkVKJ20Kwf7o%3D\u001b[0m\n",
      " 10s [INFO] \u001b[34moutput image to 20240927133129860658_1_2nefzj4vbr.jpg\u001b[0m\n",
      " 10s [USAGE] \u001b[34m{\"image_count\": 1}\u001b[0m\n"
     ]
    }
   ],
   "source": [
    "from illufly.text2image import CosplayWanx\n",
    "from illufly.io import log, alog\n",
    "\n",
    "w = CosplayWanx()\n",
    "await w(handler=alog, input={\"face_image\": \"girl4.png\", \"template_image\": \"girl1.png\"}, verbose=True)"
   ]
  },
  {
   "cell_type": "code",
   "execution_count": 1,
   "id": "4bab28ab-ad09-4fca-865f-5e08e484e15b",
   "metadata": {},
   "outputs": [
    {
     "name": "stdout",
     "output_type": "stream",
     "text": [
      "  1s [INFO] \u001b[34m{\"output\": {\"task_status\": \"PENDING\", \"task_id\": \"1543b458-5e7c-4107-a183-650f7896d87d\"}, \"request_id\": \"4d4ec17b-bb48-9ebc-8f07-ffd21b1979d8\"}\u001b[0m\n",
      "  1s [INFO] \u001b[34m1543b458-5e7c-4107-a183-650f7896d87d: PENDING\u001b[0m\n",
      " 10s [IMAGE_URL] \u001b[33mhttps://dashscope-result-bj.oss-cn-beijing.aliyuncs.com/viapi-video/2024-09-18/d77476b6-012f-48f7-ad79-9e0905702d52/20240918014238320881_1_rs3nxbi9l4.jpg?Expires=1726681365&OSSAccessKeyId=LTAI5tQZd8AEcZX6KZV4G8qL&Signature=oigH4uGNO3ZZGK%2FzmJMB8rzLRjA%3D\u001b[0m\n",
      " 10s [INFO] \u001b[34moutput image to 20240918014238320881_1_rs3nxbi9l4.jpg\u001b[0m\n",
      " 10s [USAGE] \u001b[34m{\"image_count\": 1}\u001b[0m\n"
     ]
    },
    {
     "data": {
      "text/plain": [
       "''"
      ]
     },
     "execution_count": 1,
     "metadata": {},
     "output_type": "execute_result"
    }
   ],
   "source": [
    "from illufly.text2image import CosplayWanx\n",
    "from illufly.io import log, alog\n",
    "\n",
    "w = CosplayWanx()\n",
    "await alog(w, verbose=True)"
   ]
  },
  {
   "cell_type": "markdown",
   "id": "ae43f173-051c-4f5c-ba73-5c95c7eb56b3",
   "metadata": {},
   "source": [
    "## 风格重绘"
   ]
  },
  {
   "cell_type": "code",
   "execution_count": 3,
   "id": "ab408fa0-94fa-4ff6-92f8-17795b3acc63",
   "metadata": {},
   "outputs": [
    {
     "name": "stdout",
     "output_type": "stream",
     "text": [
      "  0s [INFO] \u001b[34m{\"output\": {\"task_status\": \"PENDING\", \"task_id\": \"4200d523-10fa-4375-8f7f-020d1d543ffa\"}, \"request_id\": \"e9ee4384-e570-94d1-b524-e5945e1fa4d2\"}\u001b[0m\n",
      "  0s [INFO] \u001b[34m4200d523-10fa-4375-8f7f-020d1d543ffa: PENDING\u001b[0m\n",
      "  3s [INFO] \u001b[34m4200d523-10fa-4375-8f7f-020d1d543ffa: RUNNING\u001b[0m\n",
      "  5s [INFO] \u001b[34m4200d523-10fa-4375-8f7f-020d1d543ffa: RUNNING\u001b[0m\n",
      "  7s [INFO] \u001b[34m4200d523-10fa-4375-8f7f-020d1d543ffa: RUNNING\u001b[0m\n",
      "  9s [INFO] \u001b[34m4200d523-10fa-4375-8f7f-020d1d543ffa: SUCCEEDED\u001b[0m\n",
      "  9s [IMAGE_URL] \u001b[33mhttps://dashscope-result-bj.oss-cn-beijing.aliyuncs.com/viapi-video/2024-09-27/5a19edbd-8548-45ba-aff4-2ed455230e56/20240927133323487297_style0_w6rt0ovgsi.jpg?Expires=1727501610&OSSAccessKeyId=LTAI5tQZd8AEcZX6KZV4G8qL&Signature=WgLcbyDjelqBnilEy1fYySxDVRo%3D\u001b[0m\n",
      " 10s [INFO] \u001b[34moutput image to 漫画.png\u001b[0m\n",
      " 10s [USAGE] \u001b[34m{\"image_count\": 1}\u001b[0m\n"
     ]
    }
   ],
   "source": [
    "from illufly.text2image import StyleRepaintWanx\n",
    "\n",
    "w = StyleRepaintWanx()\n",
    "w(input={\"image\": \"girl4.png\", \"style_index\": 0}, output=\"漫画.png\", verbose=True)"
   ]
  },
  {
   "cell_type": "markdown",
   "id": "651521f9-a39b-4f2f-8a28-c7366b5b2801",
   "metadata": {},
   "source": [
    "## 背景更换"
   ]
  },
  {
   "cell_type": "code",
   "execution_count": 5,
   "id": "573f1122-567a-49e5-b38c-aba44a0cdf1c",
   "metadata": {},
   "outputs": [
    {
     "name": "stdout",
     "output_type": "stream",
     "text": [
      "  0s [INFO] \u001b[34m{\"output\": {\"task_status\": \"PENDING\", \"task_id\": \"18a72470-0456-4716-b515-7dc1d3929157\"}, \"request_id\": \"2758dade-cbc4-9731-b49e-20e1cc1b411b\"}\u001b[0m\n",
      "  0s [INFO] \u001b[34m18a72470-0456-4716-b515-7dc1d3929157: PENDING\u001b[0m\n",
      "  3s [INFO] \u001b[34m18a72470-0456-4716-b515-7dc1d3929157: RUNNING\u001b[0m\n",
      "  5s [INFO] \u001b[34m18a72470-0456-4716-b515-7dc1d3929157: SUCCEEDED\u001b[0m\n",
      "  5s [IMAGE_URL] \u001b[33mhttps://dashscope-result-bj.oss-cn-beijing.aliyuncs.com/466b5214/20240927/131724_0_v2_18a72470-0456-4716-b515-7dc1d3929157.png?Expires=1727500645&OSSAccessKeyId=LTAI5tQZd8AEcZX6KZV4G8qL&Signature=tZw7kbbD%2FoSxnl53W6q1hW%2FvpK4%3D\u001b[0m\n",
      "  6s [INFO] \u001b[34moutput image to 雪地背景.png\u001b[0m\n",
      "  6s [USAGE] \u001b[34m{\"image_count\": 1}\u001b[0m\n"
     ]
    }
   ],
   "source": [
    "from illufly.text2image import BackgroundWanx\n",
    "\n",
    "w = BackgroundWanx()\n",
    "w(\n",
    "    input={\n",
    "        \"ref_prompt\": \"大雪纷飞的冬日，白茫茫一片，在雪山顶上\",\n",
    "        # \"base_image\": \"girl4.png\",\n",
    "        \"base_image_url\": \"https://vision-poster.oss-cn-shanghai.aliyuncs.com/lllcho.lc/data/test_data/images/main_images/new_main_img/a.png\",\n",
    "        # \"ref_image_url\": \"https://vision-poster.oss-cn-shanghai.aliyuncs.com/lllcho.lc/data/test_data/images/ref_images/d1faf4f26c8c4ea798d043a8bf3784bb_2.png\",\n",
    "        # \"reference_edge\": {\n",
    "        #     \"foreground_edge\": [\n",
    "        #         \"https://vision-poster.oss-cn-shanghai.aliyuncs.com/lllcho.lc/data/test_data/images/huaban_soft_edge/6cdd13941cef1b11d885aea1717b983ae566b8efc9094-vcsvxa_fw658webp.png\"\n",
    "        #     ]\n",
    "        # }        \n",
    "    },\n",
    "    output=\"雪地背景.png\",\n",
    "    verbose=True\n",
    ")"
   ]
  },
  {
   "cell_type": "markdown",
   "id": "b1194ecb-9b73-46c9-a4fa-f53b836bf43f",
   "metadata": {},
   "source": [
    "## 图文融合"
   ]
  },
  {
   "cell_type": "code",
   "execution_count": 7,
   "id": "46389a74-46e1-44df-b81e-76481e2f2eb3",
   "metadata": {},
   "outputs": [
    {
     "name": "stdout",
     "output_type": "stream",
     "text": [
      "  0s [INFO] \u001b[34m{\"output\": {\"task_status\": \"PENDING\", \"task_id\": \"717e7df5-5017-4477-9f6a-ffe1e1fc76b0\"}, \"request_id\": \"38476fc8-984d-9b71-ba9c-51c6e6e7d881\"}\u001b[0m\n",
      "  0s [INFO] \u001b[34m717e7df5-5017-4477-9f6a-ffe1e1fc76b0: PENDING\u001b[0m\n",
      "  2s [INFO] \u001b[34m717e7df5-5017-4477-9f6a-ffe1e1fc76b0: RUNNING\u001b[0m\n",
      "  4s [INFO] \u001b[34m717e7df5-5017-4477-9f6a-ffe1e1fc76b0: SUCCEEDED\u001b[0m\n",
      "  4s [IMAGE_URL] \u001b[33mhttps://dashscope-result-bj.oss-cn-beijing.aliyuncs.com/1d/69/20240927/02624189/05_36_54_717e7df5-5017-4477-9f6a-ffe1e1fc76b0_1.jpg?Expires=1727501814&OSSAccessKeyId=LTAI5tQZd8AEcZX6KZV4G8qL&Signature=mJJO0AryRsv3O3GSB0qznjNGExU%3D\u001b[0m\n",
      "  5s [INFO] \u001b[34moutput image to 幻蝶智能.png\u001b[0m\n",
      "  5s [USAGE] \u001b[34m{\"image_count\": 1}\u001b[0m\n"
     ]
    }
   ],
   "source": [
    "from illufly.text2image import AnyTextWanx\n",
    "\n",
    "w = AnyTextWanx()\n",
    "w(\n",
    "    input={\n",
    "        \"prompt\": \"一个机器人小女孩在弯弯的月亮上睡觉，繁星点缀，小女孩身旁幻化出一只蝴蝶，上面写着\\\"幻蝶智能\\\"\"\n",
    "    },\n",
    "    output=\"幻蝶智能.png\",\n",
    "    verbose=True\n",
    ")"
   ]
  },
  {
   "cell_type": "markdown",
   "id": "77220861-15bd-440c-88e4-16fd489c82ba",
   "metadata": {},
   "source": [
    "## 涂鸦作画"
   ]
  },
  {
   "cell_type": "code",
   "execution_count": 7,
   "id": "34c6a340-ba31-49ef-822e-3dc57e3e6de0",
   "metadata": {},
   "outputs": [
    {
     "name": "stdout",
     "output_type": "stream",
     "text": [
      "  0s [INFO] \u001b[34m{\"output\": {\"task_status\": \"PENDING\", \"task_id\": \"717e7df5-5017-4477-9f6a-ffe1e1fc76b0\"}, \"request_id\": \"38476fc8-984d-9b71-ba9c-51c6e6e7d881\"}\u001b[0m\n",
      "  0s [INFO] \u001b[34m717e7df5-5017-4477-9f6a-ffe1e1fc76b0: PENDING\u001b[0m\n",
      "  2s [INFO] \u001b[34m717e7df5-5017-4477-9f6a-ffe1e1fc76b0: RUNNING\u001b[0m\n",
      "  4s [INFO] \u001b[34m717e7df5-5017-4477-9f6a-ffe1e1fc76b0: SUCCEEDED\u001b[0m\n",
      "  4s [IMAGE_URL] \u001b[33mhttps://dashscope-result-bj.oss-cn-beijing.aliyuncs.com/1d/69/20240927/02624189/05_36_54_717e7df5-5017-4477-9f6a-ffe1e1fc76b0_1.jpg?Expires=1727501814&OSSAccessKeyId=LTAI5tQZd8AEcZX6KZV4G8qL&Signature=mJJO0AryRsv3O3GSB0qznjNGExU%3D\u001b[0m\n",
      "  5s [INFO] \u001b[34moutput image to 幻蝶智能.png\u001b[0m\n",
      "  5s [USAGE] \u001b[34m{\"image_count\": 1}\u001b[0m\n"
     ]
    }
   ],
   "source": [
    "from illufly.text2image import SketchWanx\n",
    "\n",
    "w = SketchWanx()\n",
    "w(\n",
    "    input={\n",
    "        \n",
    "        \"prompt\": \"一个机器人小女孩在弯弯的月亮上睡觉，繁星点缀，小女孩身旁幻化出一只蝴蝶，上面写着\\\"幻蝶智能\\\"\"\n",
    "    },\n",
    "    output=\"幻蝶智能.png\",\n",
    "    verbose=True\n",
    ")"
   ]
  }
 ],
 "metadata": {
  "kernelspec": {
   "display_name": "same_to_illufly",
   "language": "python",
   "name": "same_to_illufly"
  },
  "language_info": {
   "codemirror_mode": {
    "name": "ipython",
    "version": 3
   },
   "file_extension": ".py",
   "mimetype": "text/x-python",
   "name": "python",
   "nbconvert_exporter": "python",
   "pygments_lexer": "ipython3",
   "version": "3.10.0"
  }
 },
 "nbformat": 4,
 "nbformat_minor": 5
}
