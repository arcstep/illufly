{
 "cells": [
  {
   "cell_type": "markdown",
   "id": "9d29c40a-2a13-4a7f-a465-189d2ea5ead2",
   "metadata": {},
   "source": [
    "# 模型"
   ]
  },
  {
   "cell_type": "markdown",
   "id": "30e55ec8-ba21-4701-96d5-6a54f9199b24",
   "metadata": {},
   "source": [
    "## 对话模型"
   ]
  },
  {
   "cell_type": "markdown",
   "id": "75734f38-bdad-4b9e-9638-f65647af36e7",
   "metadata": {},
   "source": [
    "### 同步调用"
   ]
  },
  {
   "cell_type": "code",
   "execution_count": 1,
   "id": "75628fec-7952-42b9-87d9-f8c54e04bdec",
   "metadata": {},
   "outputs": [
    {
     "name": "stdout",
     "output_type": "stream",
     "text": [
      "[USER] \u001b[34m你能帮我写一首关于兔子做梦的四句儿歌?\u001b[0m\n",
      "[INFO] \u001b[34m记住 10 轮对话\u001b[0m\n",
      "[RAG] \u001b[34m直接资料：发现 15 条资料\u001b[0m\n",
      "\u001b[32m好的\u001b[0m\u001b[32m，\u001b[0m\u001b[32m下面\u001b[0m\u001b[32m是一首关于兔子做梦\u001b[0m\u001b[32m的四句儿歌：\n",
      "\n",
      "小兔子\u001b[0m\u001b[32m呀蹦蹦跳，\n",
      "梦见自己变成\u001b[0m\u001b[32m蝴蝶飞。\n",
      "轻轻飘落在花丛\u001b[0m\u001b[32m中，\n",
      "翩翩起舞好自在\u001b[0m\u001b[32m。\n",
      "\n",
      "希望这首儿歌能够帮助你\u001b[0m\u001b[32m表达出你的想法。如果你有其他\u001b[0m\u001b[32m的需求或者想要进一步的帮助，请随时告诉我\u001b[0m\u001b[32m！\u001b[0m\u001b[32m\u001b[0m\n",
      "[USAGE] \u001b[34m{\"input_tokens\": 435, \"output_tokens\": 65, \"total_tokens\": 500}\u001b[0m\n",
      "[CONTEXT] \u001b[34m好的，下面是一首关于兔子做梦的四句儿歌：\n",
      "\n",
      "小兔子呀蹦蹦跳，\n",
      "梦见自己变成蝴蝶飞。\n",
      "轻轻飘落在花丛中，\n",
      "翩翩起舞好自在。\n",
      "\n",
      "希望这首儿歌能够帮助你表达出你的想法。如果你有其他的需求或者想要进一步的帮助，请随时告诉我！\u001b[0m\n"
     ]
    },
    {
     "data": {
      "text/plain": [
       "'好的，下面是一首关于兔子做梦的四句儿歌：\\n\\n小兔子呀蹦蹦跳，\\n梦见自己变成蝴蝶飞。\\n轻轻飘落在花丛中，\\n翩翩起舞好自在。\\n\\n希望这首儿歌能够帮助你表达出你的想法。如果你有其他的需求或者想要进一步的帮助，请随时告诉我！'"
      ]
     },
     "execution_count": 1,
     "metadata": {},
     "output_type": "execute_result"
    }
   ],
   "source": [
    "from illufly.chat import ChatQwen\n",
    "from illufly.io import log, usage\n",
    "\n",
    "qwen = ChatQwen()\n",
    "qwen(\n",
    "    [{\"role\": \"user\", \"content\": \"你能帮我写一首关于兔子做梦的四句儿歌?\"}],\n",
    "    model=\"qwen2-1.5b-instruct\",\n",
    "    verbose=True\n",
    ")"
   ]
  },
  {
   "cell_type": "markdown",
   "id": "3fea8c5e-8fa3-4d33-8a1e-debc7ce71807",
   "metadata": {},
   "source": [
    "### 识别网络路径图片"
   ]
  },
  {
   "cell_type": "code",
   "execution_count": 2,
   "id": "22041d1b-51c3-4a5f-8c23-e393268fdb52",
   "metadata": {},
   "outputs": [
    {
     "name": "stdout",
     "output_type": "stream",
     "text": [
      "\u001b[32m图\u001b[0m\u001b[32m1\u001b[0m\u001b[32m中\u001b[0m\u001b[32m是一名女子和她的宠物\u001b[0m\u001b[32m狗在沙滩上互动，狗狗抬起\u001b[0m\u001b[32m前爪似乎想要握手。\n",
      "图2\u001b[0m\u001b[32m是一张老虎的CG渲染作品。\u001b[0m\u001b[32m\u001b[0m\n",
      "{\"block_type\": \"usage\", \"content\": \"{\\\"input_tokens\\\": 2507, \\\"output_tokens\\\": 33, \\\"image_tokens\\\": 2472}\", \"created_at\": \"2024-10-07T18:16:33.868254\", \"calling_info\": {\"request_id\": \"f92ef8d8-d282-99f0-8e5b-70d702f54ecc\", \"output\": [{\"chunk\": [{\"text\": \"图\"}]}, {\"chunk\": [{\"text\": \"1\"}]}, {\"chunk\": [{\"text\": \"中\"}]}, {\"chunk\": [{\"text\": \"是一名女子和她的宠物\"}]}, {\"chunk\": [{\"text\": \"狗在沙滩上互动，狗狗抬起\"}]}, {\"chunk\": [{\"text\": \"前爪似乎想要握手。\\n图2\"}]}, {\"chunk\": [{\"text\": \"是一张老虎的CG渲染作品。\"}]}, {\"chunk\": []}], \"input\": {\"api_key\": \"sk-4ce3e66*****************30e99417\", \"base_url\": null, \"model\": \"qwen-vl-plus\", \"enable_search\": false, \"messages\": [{\"role\": \"user\", \"content\": [{\"image\": \"https://dashscope.oss-cn-beijing.aliyuncs.com/images/dog_and_girl.jpeg\"}, {\"image\": \"https://dashscope.oss-cn-beijing.aliyuncs.com/images/tiger.png\"}, {\"text\": \"这些是什么\"}]}], \"tools\": [], \"stream\": true, \"result_format\": \"message\", \"incremental_output\": true, \"headers\": {\"X-DashScope-OssResourceResolve\": \"enable\"}}}, \"runnable_info\": {\"class_name\": \"ChatQwenVL\", \"agent_name\": \"ChatQwenVL.4529000208\", \"agent_description\": \"我还没有工具描述\", \"model_name\": \"qwen-vl-plus\", \"api_key\": \"sk-4ce3e66*****************30e99417\", \"base_url\": null}}\n"
     ]
    },
    {
     "data": {
      "text/plain": [
       "[{'text': '图1中是一名女子和她的宠物狗在沙滩上互动，狗狗抬起前爪似乎想要握手。\\n图2是一张老虎的CG渲染作品。'}]"
      ]
     },
     "execution_count": 2,
     "metadata": {},
     "output_type": "execute_result"
    }
   ],
   "source": [
    "from illufly.chat import ChatQwenVL\n",
    "from illufly.io import log, usage\n",
    "\n",
    "qwen = ChatQwenVL()\n",
    "messages=[\n",
    "    (\"user\",[\n",
    "        {'image': 'https://dashscope.oss-cn-beijing.aliyuncs.com/images/dog_and_girl.jpeg'},\n",
    "        {'image': 'https://dashscope.oss-cn-beijing.aliyuncs.com/images/tiger.png'},\n",
    "        {'text': '这些是什么'}\n",
    "    ])\n",
    "]\n",
    "qwen(messages, handlers=[log, usage])"
   ]
  },
  {
   "cell_type": "markdown",
   "id": "d820ab3d-f896-4ab1-8546-7c4c7bfc7f6c",
   "metadata": {},
   "source": [
    "### 识别本地图片"
   ]
  },
  {
   "cell_type": "code",
   "execution_count": 2,
   "id": "7a87f44d-5580-4e8e-b4ac-c61c9387c331",
   "metadata": {},
   "outputs": [
    {
     "name": "stdout",
     "output_type": "stream",
     "text": [
      "\u001b[32m这张\u001b[0m\u001b[32m图片\u001b[0m\u001b[32m是一\u001b[0m\u001b[32m幅插画，描绘\u001b[0m\u001b[32m了一个小女孩在睡觉。她穿着蓝色\u001b[0m\u001b[32m的衣服，并且头发上别着一个\u001b[0m\u001b[32m粉色的蝴蝶结。背景是粉\u001b[0m\u001b[32m红色和紫色渐变色系组成的\u001b[0m\u001b[32m星空图案，在其中可以看到月亮、星星\u001b[0m\u001b[32m等元素。\n",
      "\n",
      "图像中还有一行\u001b[0m\u001b[32m中文文字“幻蝶智能”，这\u001b[0m\u001b[32m可能是与该主题或人物相关的名称\u001b[0m\u001b[32m或者品牌标识。整体来看，这个\u001b[0m\u001b[32m场景给人一种温馨而梦幻的感觉。\u001b[0m\n",
      "\n"
     ]
    },
    {
     "data": {
      "text/plain": [
       "[{'text': '这张图片是一幅插画，描绘了一个小女孩在睡觉。她穿着蓝色的衣服，并且头发上别着一个粉色的蝴蝶结。背景是粉红色和紫色渐变色系组成的星空图案，在其中可以看到月亮、星星等元素。\\n\\n图像中还有一行中文文字“幻蝶智能”，这可能是与该主题或人物相关的名称或者品牌标识。整体来看，这个场景给人一种温馨而梦幻的感觉。'}]"
      ]
     },
     "execution_count": 2,
     "metadata": {},
     "output_type": "execute_result"
    }
   ],
   "source": [
    "from illufly.chat import ChatQwenVL\n",
    "from illufly.io import alog\n",
    "\n",
    "qwen = ChatQwenVL()\n",
    "messages=[\n",
    "    (\"user\",[\n",
    "        {'image': '幻蝶智能.png'},\n",
    "        {'text': '这些是什么'}\n",
    "    ])\n",
    "]\n",
    "await qwen(messages, handler=alog)"
   ]
  },
  {
   "cell_type": "markdown",
   "id": "b4b61d05-2ed0-4ea5-8184-586dec7dd76a",
   "metadata": {},
   "source": [
    "### 多轮对话"
   ]
  },
  {
   "cell_type": "code",
   "execution_count": 4,
   "id": "96db8d9c-f36c-4ae3-bb8a-6a7f9b78000a",
   "metadata": {},
   "outputs": [
    {
     "data": {
      "text/plain": [
       "'ChatQwenVL'"
      ]
     },
     "execution_count": 4,
     "metadata": {},
     "output_type": "execute_result"
    }
   ],
   "source": [
    "qwen.name"
   ]
  },
  {
   "cell_type": "code",
   "execution_count": 3,
   "id": "dfb73248-a53e-4579-87d0-677a49072ae7",
   "metadata": {},
   "outputs": [
    {
     "name": "stdout",
     "output_type": "stream",
     "text": [
      "\u001b[32m月\u001b[0m\u001b[32m光\u001b[0m\u001b[32m洒\u001b[0m\u001b[32m落银河边，\n",
      "繁\u001b[0m\u001b[32m星点点缀空蓝。\n",
      "梦中小\u001b[0m\u001b[32m女甜入睡，\n",
      "幻蝶智名\u001b[0m\u001b[32m留心田。\u001b[0m\n",
      "\n"
     ]
    },
    {
     "data": {
      "text/plain": [
       "[{'text': '月光洒落银河边，\\n繁星点点缀空蓝。\\n梦中小女甜入睡，\\n幻蝶智名留心田。'}]"
      ]
     },
     "execution_count": 3,
     "metadata": {},
     "output_type": "execute_result"
    }
   ],
   "source": [
    "qwen(\"来一首绝句，不要打油诗\")"
   ]
  },
  {
   "cell_type": "code",
   "execution_count": 5,
   "id": "12c80a4c-583c-4c10-b3cf-0b0ccfd20c80",
   "metadata": {},
   "outputs": [
    {
     "data": {
      "text/plain": [
       "[{'role': 'user', 'content': [{'image': '幻蝶智能.png'}, {'text': '这些是什么'}]},\n",
       " {'role': 'assistant',\n",
       "  'content': [{'text': '这张图片是一幅插画，描绘了一个小女孩在睡觉。她穿着蓝色的衣服，并且头发上别着一个粉色的蝴蝶结。背景是粉红色和紫色渐变色系组成的星空图案，在其中可以看到月亮、星星等元素。\\n\\n图像中还有一行中文文字“幻蝶智能”，这可能是与该主题或人物相关的名称或者品牌标识。整体来看，这个场景给人一种温馨而梦幻的感觉。'}]},\n",
       " {'role': 'user', 'content': [{'text': '绝句，不要打油诗'}]},\n",
       " {'role': 'assistant',\n",
       "  'content': [{'text': '月光如水照长空，\\n繁星点点伴梦踪。\\n枕边微风轻拂过，\\n入眠时分心自融。'}]}]"
      ]
     },
     "execution_count": 5,
     "metadata": {},
     "output_type": "execute_result"
    }
   ],
   "source": [
    "qwen.memory"
   ]
  },
  {
   "cell_type": "code",
   "execution_count": 6,
   "id": "f565bd03-3df6-4d47-85ec-2e89ca96e618",
   "metadata": {},
   "outputs": [
    {
     "data": {
      "text/plain": [
       "{'CHAT_QWEN': {'max_workers': 5, 'used_workers': 1, 'waiting_threads': 0}}"
      ]
     },
     "execution_count": 6,
     "metadata": {},
     "output_type": "execute_result"
    }
   ],
   "source": [
    "qwen.monitor_executors()"
   ]
  },
  {
   "cell_type": "markdown",
   "id": "475de1dd-80f4-4fa2-96f2-9d6736dc235a",
   "metadata": {},
   "source": [
    "### 工具回调"
   ]
  },
  {
   "cell_type": "code",
   "execution_count": 7,
   "id": "1812c2ae-f29b-40d0-9b67-bdc546e63b14",
   "metadata": {},
   "outputs": [
    {
     "data": {
      "text/plain": [
       "[<Runnable get_current_weather>]"
      ]
     },
     "execution_count": 7,
     "metadata": {},
     "output_type": "execute_result"
    }
   ],
   "source": [
    "from illufly.chat import ChatQwen\n",
    "from illufly.types import BaseAgent\n",
    "\n",
    "def get_current_weather(location: str=None):\n",
    "    \"\"\"获取城市的天气情况\"\"\"\n",
    "    return f\"{location}今天是晴天。 \"\n",
    "\n",
    "ChatQwen().get_tools([get_current_weather])"
   ]
  },
  {
   "cell_type": "code",
   "execution_count": 8,
   "id": "4b2fef77-8fb1-43ce-9edf-8753158f21e1",
   "metadata": {},
   "outputs": [
    {
     "name": "stdout",
     "output_type": "stream",
     "text": [
      "\n",
      "\n",
      "\u001b[32m上海今天是晴天。 \u001b[0m\n",
      "\n",
      "\n",
      "\u001b[32m广州今天是晴天。 \u001b[0m\n",
      "\u001b[32m今天\u001b[0m\u001b[32m上海\u001b[0m\u001b[32m和广州的天气\u001b[0m\u001b[32m都是晴天。\u001b[0m\u001b[32m\u001b[0m\u001b[32m\u001b[0m\n"
     ]
    },
    {
     "data": {
      "text/plain": [
       "[{'role': 'user', 'content': '今天上海和广州天气如何啊'},\n",
       " {'role': 'assistant',\n",
       "  'content': '',\n",
       "  'tool_calls': [{'index': 0,\n",
       "    'id': 'call_33636e11b49b421a89f6bd',\n",
       "    'type': 'function',\n",
       "    'function': {'name': 'get_current_weather',\n",
       "     'arguments': '{\"location\": \"上海\"}'}}]},\n",
       " {'tool_call_id': 'call_33636e11b49b421a89f6bd',\n",
       "  'role': 'tool',\n",
       "  'name': 'get_current_weather',\n",
       "  'content': '上海今天是晴天。 '},\n",
       " {'role': 'assistant',\n",
       "  'content': '',\n",
       "  'tool_calls': [{'index': 0,\n",
       "    'id': 'call_d4cd76fdd286437e91368a',\n",
       "    'type': 'function',\n",
       "    'function': {'name': 'get_current_weather',\n",
       "     'arguments': '{\"location\": \"广州\"}'}}]},\n",
       " {'tool_call_id': 'call_d4cd76fdd286437e91368a',\n",
       "  'role': 'tool',\n",
       "  'name': 'get_current_weather',\n",
       "  'content': '广州今天是晴天。 '},\n",
       " {'role': 'assistant', 'content': '今天上海和广州的天气都是晴天。'}]"
      ]
     },
     "execution_count": 8,
     "metadata": {},
     "output_type": "execute_result"
    }
   ],
   "source": [
    "a = ChatQwen()\n",
    "a(\"今天上海和广州天气如何啊\", tools=[get_current_weather])\n",
    "a.memory"
   ]
  },
  {
   "cell_type": "code",
   "execution_count": 9,
   "id": "7012dfe9-1c1c-47d8-8dcd-be3d76a5f168",
   "metadata": {},
   "outputs": [
    {
     "name": "stdout",
     "output_type": "stream",
     "text": [
      "[INFO] \u001b[34m记住 10 轮对话\u001b[0m\n",
      "[TOOLS_CALL_CHUNK] \u001b[32m{\"index\": 0, \"id\": \"call_973b17f3ac1b4f37a88472\", \"type\": \"function\", \"function\": {\"name\": \"get_current_weather\", \"arguments\": \"\"}}\u001b[0m\n",
      "[TOOLS_CALL_CHUNK] \u001b[32m{\"index\": 0, \"id\": \"\", \"type\": \"function\", \"function\": {}}\u001b[0m\n",
      "[TOOLS_CALL_CHUNK] \u001b[32m{\"index\": 0, \"id\": \"\", \"type\": \"function\", \"function\": {\"arguments\": \"{\\\"location\\\": \\\"\"}}\u001b[0m\n",
      "[TOOLS_CALL_CHUNK] \u001b[32m{\"index\": 0, \"id\": \"\", \"type\": \"function\", \"function\": {\"arguments\": \"广州\\\"}\"}}\u001b[0m\n",
      "[TOOLS_CALL_CHUNK] \u001b[32m{\"index\": 0, \"id\": \"\", \"type\": \"function\", \"function\": {}}\u001b[0m\n",
      "[TOOLS_CALL_CHUNK] \u001b[32m{\"index\": 0, \"id\": \"\", \"type\": \"function\", \"function\": {}}\u001b[0m\n",
      "\n",
      "[USAGE] \u001b[34m{\"input_tokens\": 257, \"output_tokens\": 18, \"total_tokens\": 275}\u001b[0m\n",
      "{\"block_type\": \"usage\", \"content\": \"{\\\"input_tokens\\\": 257, \\\"output_tokens\\\": 18, \\\"total_tokens\\\": 275}\", \"created_at\": \"2024-10-07T19:52:20.324238\", \"calling_info\": {\"request_id\": \"9959cbe1-cd83-9615-8e41-96e5aa60ed66\", \"input\": {\"api_key\": \"sk-4ce3e66*****************30e99417\", \"base_url\": null, \"model\": \"qwen-plus\", \"enable_search\": false, \"messages\": [{\"role\": \"user\", \"content\": \"帮我看看广州天气，顺便看看订2小时的羽毛球球场多少钱\"}], \"tools\": [{\"type\": \"function\", \"function\": {\"name\": \"get_current_weather\", \"description\": \"获取城市的天气情况\", \"parameters\": {\"type\": \"object\", \"properties\": {\"location\": {\"type\": \"string\", \"description\": \"None\"}}, \"required\": []}}}, {\"type\": \"function\", \"function\": {\"name\": \"get_pices\", \"description\": \"预测订羽毛球球场的价格，hours是预订球场的小时数，因为球场价格是按照小时计算的\", \"parameters\": {\"type\": \"object\", \"properties\": {\"hours\": {\"type\": \"string\", \"description\": \"1\"}}, \"required\": []}}}], \"stream\": true, \"result_format\": \"message\", \"incremental_output\": true}, \"output\": [{\"role\": \"assistant\", \"content\": \"\", \"tool_calls\": [{\"index\": 0, \"id\": \"call_973b17f3ac1b4f37a88472\", \"type\": \"function\", \"function\": {\"name\": \"get_current_weather\", \"arguments\": \"\"}}]}, {\"role\": \"assistant\", \"content\": \"\", \"tool_calls\": [{\"index\": 0, \"id\": \"\", \"type\": \"function\", \"function\": {}}]}, {\"role\": \"assistant\", \"content\": \"\", \"tool_calls\": [{\"index\": 0, \"id\": \"\", \"type\": \"function\", \"function\": {\"arguments\": \"{\\\"location\\\": \\\"\"}}]}, {\"role\": \"assistant\", \"content\": \"\", \"tool_calls\": [{\"index\": 0, \"id\": \"\", \"type\": \"function\", \"function\": {\"arguments\": \"广州\\\"}\"}}]}, {\"role\": \"assistant\", \"content\": \"\", \"tool_calls\": [{\"index\": 0, \"id\": \"\", \"type\": \"function\", \"function\": {}}]}, {\"role\": \"assistant\", \"content\": \"\", \"tool_calls\": [{\"index\": 0, \"id\": \"\", \"type\": \"function\", \"function\": {}}]}]}, \"runnable_info\": {\"class_name\": \"ChatQwen\", \"agent_name\": \"ChatQwen.4456121440\", \"agent_description\": \"我还没有工具描述\", \"model_name\": \"qwen-plus\", \"api_key\": \"sk-4ce3e66*****************30e99417\", \"base_url\": null}}\n",
      "\n",
      "[TOOLS_CALL_FINAL] \u001b[36m[{\"index\": 0, \"id\": \"call_973b17f3ac1b4f37a88472\", \"type\": \"function\", \"function\": {\"name\": \"get_current_weather\", \"arguments\": \"{\\\"location\\\": \\\"广州\\\"}\"}}]\u001b[0m\n",
      "\u001b[32m广州今天是晴天。 \u001b[0m\n",
      "[TOOL_RESP_FINAL] \u001b[36m广州今天是晴天。 \u001b[0m\n",
      "[TOOLS_CALL_CHUNK] \u001b[32m{\"index\": 0, \"id\": \"call_d345239ddda141a79f38fc\", \"type\": \"function\", \"function\": {\"name\": \"get_p\", \"arguments\": \"\"}}\u001b[0m\n",
      "[TOOLS_CALL_CHUNK] \u001b[32m{\"index\": 0, \"id\": \"\", \"type\": \"function\", \"function\": {\"name\": \"ices\"}}\u001b[0m\n",
      "[TOOLS_CALL_CHUNK] \u001b[32m{\"index\": 0, \"id\": \"\", \"type\": \"function\", \"function\": {\"arguments\": \"{\\\"hours\"}}\u001b[0m\n",
      "[TOOLS_CALL_CHUNK] \u001b[32m{\"index\": 0, \"id\": \"\", \"type\": \"function\", \"function\": {\"arguments\": \"\\\": \\\"2\\\"}\"}}\u001b[0m\n",
      "[TOOLS_CALL_CHUNK] \u001b[32m{\"index\": 0, \"id\": \"\", \"type\": \"function\", \"function\": {}}\u001b[0m\n",
      "[TOOLS_CALL_CHUNK] \u001b[32m{\"index\": 0, \"id\": \"\", \"type\": \"function\", \"function\": {}}\u001b[0m\n",
      "\n",
      "[USAGE] \u001b[34m{\"input_tokens\": 290, \"output_tokens\": 20, \"total_tokens\": 310}\u001b[0m\n",
      "{\"block_type\": \"usage\", \"content\": \"{\\\"input_tokens\\\": 290, \\\"output_tokens\\\": 20, \\\"total_tokens\\\": 310}\", \"created_at\": \"2024-10-07T19:52:21.629782\", \"calling_info\": {\"request_id\": \"c65e874c-b698-959a-909d-16f5d2d79e45\", \"input\": {\"api_key\": \"sk-4ce3e66*****************30e99417\", \"base_url\": null, \"model\": \"qwen-plus\", \"enable_search\": false, \"messages\": [{\"role\": \"user\", \"content\": \"帮我看看广州天气，顺便看看订2小时的羽毛球球场多少钱\"}, {\"role\": \"assistant\", \"content\": \"\", \"tool_calls\": [{\"index\": 0, \"id\": \"call_973b17f3ac1b4f37a88472\", \"type\": \"function\", \"function\": {\"name\": \"get_current_weather\", \"arguments\": \"{\\\"location\\\": \\\"广州\\\"}\"}}]}, {\"tool_call_id\": \"call_973b17f3ac1b4f37a88472\", \"role\": \"tool\", \"name\": \"get_current_weather\", \"content\": \"广州今天是晴天。 \"}], \"tools\": [{\"type\": \"function\", \"function\": {\"name\": \"get_current_weather\", \"description\": \"获取城市的天气情况\", \"parameters\": {\"type\": \"object\", \"properties\": {\"location\": {\"type\": \"string\", \"description\": \"None\"}}, \"required\": []}}}, {\"type\": \"function\", \"function\": {\"name\": \"get_pices\", \"description\": \"预测订羽毛球球场的价格，hours是预订球场的小时数，因为球场价格是按照小时计算的\", \"parameters\": {\"type\": \"object\", \"properties\": {\"hours\": {\"type\": \"string\", \"description\": \"1\"}}, \"required\": []}}}], \"stream\": true, \"result_format\": \"message\", \"incremental_output\": true}, \"output\": [{\"role\": \"assistant\", \"content\": \"\", \"tool_calls\": [{\"index\": 0, \"id\": \"call_d345239ddda141a79f38fc\", \"type\": \"function\", \"function\": {\"name\": \"get_p\", \"arguments\": \"\"}}]}, {\"role\": \"assistant\", \"content\": \"\", \"tool_calls\": [{\"index\": 0, \"id\": \"\", \"type\": \"function\", \"function\": {\"name\": \"ices\"}}]}, {\"role\": \"assistant\", \"content\": \"\", \"tool_calls\": [{\"index\": 0, \"id\": \"\", \"type\": \"function\", \"function\": {\"arguments\": \"{\\\"hours\"}}]}, {\"role\": \"assistant\", \"content\": \"\", \"tool_calls\": [{\"index\": 0, \"id\": \"\", \"type\": \"function\", \"function\": {\"arguments\": \"\\\": \\\"2\\\"}\"}}]}, {\"role\": \"assistant\", \"content\": \"\", \"tool_calls\": [{\"index\": 0, \"id\": \"\", \"type\": \"function\", \"function\": {}}]}, {\"role\": \"assistant\", \"content\": \"\", \"tool_calls\": [{\"index\": 0, \"id\": \"\", \"type\": \"function\", \"function\": {}}]}]}, \"runnable_info\": {\"class_name\": \"ChatQwen\", \"agent_name\": \"ChatQwen.4456121440\", \"agent_description\": \"我还没有工具描述\", \"model_name\": \"qwen-plus\", \"api_key\": \"sk-4ce3e66*****************30e99417\", \"base_url\": null}}\n",
      "\n",
      "[TOOLS_CALL_FINAL] \u001b[36m[{\"index\": 0, \"id\": \"call_d345239ddda141a79f38fc\", \"type\": \"function\", \"function\": {\"name\": \"get_pices\", \"arguments\": \"{\\\"hours\\\": \\\"2\\\"}\"}}]\u001b[0m\n",
      "\u001b[32m球场每小时25元，你要定2小时，所以是50元。\u001b[0m\n",
      "[TOOL_RESP_FINAL] \u001b[36m球场每小时25元，你要定2小时，所以是50元。\u001b[0m\n",
      "\u001b[32m广\u001b[0m\u001b[32m州\u001b[0m\u001b[32m今天是晴天\u001b[0m\u001b[32m，适合打羽毛球\u001b[0m\u001b[32m。预订两小时\u001b[0m\u001b[32m的羽毛球场地需要\u001b[0m\u001b[32m50元。\u001b[0m\u001b[32m\u001b[0m\u001b[32m\u001b[0m\n",
      "[USAGE] \u001b[34m{\"input_tokens\": 338, \"output_tokens\": 24, \"total_tokens\": 362}\u001b[0m\n",
      "{\"block_type\": \"usage\", \"content\": \"{\\\"input_tokens\\\": 338, \\\"output_tokens\\\": 24, \\\"total_tokens\\\": 362}\", \"created_at\": \"2024-10-07T19:52:22.917738\", \"calling_info\": {\"request_id\": \"8065cefc-737b-9ed9-9921-fd8c01322eff\", \"input\": {\"api_key\": \"sk-4ce3e66*****************30e99417\", \"base_url\": null, \"model\": \"qwen-plus\", \"enable_search\": false, \"messages\": [{\"role\": \"user\", \"content\": \"帮我看看广州天气，顺便看看订2小时的羽毛球球场多少钱\"}, {\"role\": \"assistant\", \"content\": \"\", \"tool_calls\": [{\"index\": 0, \"id\": \"call_973b17f3ac1b4f37a88472\", \"type\": \"function\", \"function\": {\"name\": \"get_current_weather\", \"arguments\": \"{\\\"location\\\": \\\"广州\\\"}\"}}]}, {\"tool_call_id\": \"call_973b17f3ac1b4f37a88472\", \"role\": \"tool\", \"name\": \"get_current_weather\", \"content\": \"广州今天是晴天。 \"}, {\"role\": \"assistant\", \"content\": \"\", \"tool_calls\": [{\"index\": 0, \"id\": \"call_d345239ddda141a79f38fc\", \"type\": \"function\", \"function\": {\"name\": \"get_pices\", \"arguments\": \"{\\\"hours\\\": \\\"2\\\"}\"}}]}, {\"tool_call_id\": \"call_d345239ddda141a79f38fc\", \"role\": \"tool\", \"name\": \"get_pices\", \"content\": \"球场每小时25元，你要定2小时，所以是50元。\"}], \"tools\": [{\"type\": \"function\", \"function\": {\"name\": \"get_current_weather\", \"description\": \"获取城市的天气情况\", \"parameters\": {\"type\": \"object\", \"properties\": {\"location\": {\"type\": \"string\", \"description\": \"None\"}}, \"required\": []}}}, {\"type\": \"function\", \"function\": {\"name\": \"get_pices\", \"description\": \"预测订羽毛球球场的价格，hours是预订球场的小时数，因为球场价格是按照小时计算的\", \"parameters\": {\"type\": \"object\", \"properties\": {\"hours\": {\"type\": \"string\", \"description\": \"1\"}}, \"required\": []}}}], \"stream\": true, \"result_format\": \"message\", \"incremental_output\": true}, \"output\": [{\"role\": \"assistant\", \"content\": \"广\"}, {\"role\": \"assistant\", \"content\": \"州\"}, {\"role\": \"assistant\", \"content\": \"今天是晴天\"}, {\"role\": \"assistant\", \"content\": \"，适合打羽毛球\"}, {\"role\": \"assistant\", \"content\": \"。预订两小时\"}, {\"role\": \"assistant\", \"content\": \"的羽毛球场地需要\"}, {\"role\": \"assistant\", \"content\": \"50元。\"}, {\"role\": \"assistant\", \"content\": \"\"}, {\"role\": \"assistant\", \"content\": \"\"}]}, \"runnable_info\": {\"class_name\": \"ChatQwen\", \"agent_name\": \"ChatQwen.4456121440\", \"agent_description\": \"我还没有工具描述\", \"model_name\": \"qwen-plus\", \"api_key\": \"sk-4ce3e66*****************30e99417\", \"base_url\": null}}\n"
     ]
    },
    {
     "data": {
      "text/plain": [
       "[{'role': 'user', 'content': '帮我看看广州天气，顺便看看订2小时的羽毛球球场多少钱'},\n",
       " {'role': 'assistant',\n",
       "  'content': '',\n",
       "  'tool_calls': [{'index': 0,\n",
       "    'id': 'call_973b17f3ac1b4f37a88472',\n",
       "    'type': 'function',\n",
       "    'function': {'name': 'get_current_weather',\n",
       "     'arguments': '{\"location\": \"广州\"}'}}]},\n",
       " {'tool_call_id': 'call_973b17f3ac1b4f37a88472',\n",
       "  'role': 'tool',\n",
       "  'name': 'get_current_weather',\n",
       "  'content': '广州今天是晴天。 '},\n",
       " {'role': 'assistant',\n",
       "  'content': '',\n",
       "  'tool_calls': [{'index': 0,\n",
       "    'id': 'call_d345239ddda141a79f38fc',\n",
       "    'type': 'function',\n",
       "    'function': {'name': 'get_pices', 'arguments': '{\"hours\": \"2\"}'}}]},\n",
       " {'tool_call_id': 'call_d345239ddda141a79f38fc',\n",
       "  'role': 'tool',\n",
       "  'name': 'get_pices',\n",
       "  'content': '球场每小时25元，你要定2小时，所以是50元。'},\n",
       " {'role': 'assistant', 'content': '广州今天是晴天，适合打羽毛球。预订两小时的羽毛球场地需要50元。'}]"
      ]
     },
     "execution_count": 9,
     "metadata": {},
     "output_type": "execute_result"
    }
   ],
   "source": [
    "from illufly.chat import ChatQwen\n",
    "from illufly.io import log, usage\n",
    "\n",
    "def get_current_weather(location: str=None):\n",
    "    \"\"\"获取城市的天气情况\"\"\"\n",
    "    return f\"{location}今天是晴天。 \"\n",
    "\n",
    "def get_pices(hours: int=1):\n",
    "    \"\"\"预测订羽毛球球场的价格，hours是预订球场的小时数，因为球场价格是按照小时计算的\"\"\"\n",
    "    yield f\"球场每小时25元，你要定{hours}小时，所以是{hours*25}元。\"\n",
    "\n",
    "a = ChatQwen()\n",
    "a(\n",
    "    \"帮我看看广州天气，顺便看看订2小时的羽毛球球场多少钱\",\n",
    "    tools=[get_current_weather, get_pices],\n",
    "    new_chat=True,\n",
    "    verbose=True,\n",
    "    handlers=[log, usage]\n",
    ")\n",
    "a.memory"
   ]
  },
  {
   "cell_type": "markdown",
   "id": "46b3d3f2-cb5a-41cb-bc49-4ae24aa72200",
   "metadata": {},
   "source": [
    "### openai兼容"
   ]
  },
  {
   "cell_type": "code",
   "execution_count": 10,
   "id": "8965bd1f-6e3b-4f59-8491-87ec6ac9bb7e",
   "metadata": {},
   "outputs": [
    {
     "name": "stdout",
     "output_type": "stream",
     "text": [
      "\u001b[32m当然\u001b[0m\u001b[32m可以\u001b[0m\u001b[32m，\u001b[0m\u001b[32m以下是根据您的要求创作\u001b[0m\u001b[32m的一首关于兔子做梦的四句\u001b[0m\u001b[32m儿歌：\n",
      "  \n",
      "1. 小\u001b[0m\u001b[32m兔子在梦里跳，\n",
      "2.\u001b[0m\u001b[32m 穿过森林又跨山\u001b[0m\u001b[32m。\n",
      "3. 面对彩虹\u001b[0m\u001b[32m和星星笑，\n",
      "4. \u001b[0m\u001b[32m梦醒了，还是回到家。\u001b[0m\n"
     ]
    },
    {
     "data": {
      "text/plain": [
       "'当然可以，以下是根据您的要求创作的一首关于兔子做梦的四句儿歌：\\n  \\n1. 小兔子在梦里跳，\\n2. 穿过森林又跨山。\\n3. 面对彩虹和星星笑，\\n4. 梦醒了，还是回到家。'"
      ]
     },
     "execution_count": 10,
     "metadata": {},
     "output_type": "execute_result"
    }
   ],
   "source": [
    "from illufly.chat import ChatOpenAI\n",
    "\n",
    "qwen = ChatOpenAI(model=\"qwen2-1.5b-instruct\", imitator=\"Qwen\")\n",
    "qwen(\n",
    "    [{\"role\": \"user\", \"content\": \"你能帮我写一首关于兔子做梦的四句儿歌?\"}],\n",
    ")"
   ]
  },
  {
   "cell_type": "code",
   "execution_count": 15,
   "id": "b20e1f88-0550-4cde-862b-b15e09da2e2f",
   "metadata": {},
   "outputs": [
    {
     "data": {
      "text/plain": [
       "[{'role': 'user', 'content': '今天广州适合徒步吗'},\n",
       " {'role': 'assistant',\n",
       "  'content': '',\n",
       "  'tool_calls': [{'index': 0,\n",
       "    'id': 'call_4991f1ee78a14d41bd5f77',\n",
       "    'type': 'function',\n",
       "    'function': {'name': 'get_current_weather',\n",
       "     'arguments': '{\"location\": \"广州\"}'}}]},\n",
       " {'tool_call_id': 'call_4991f1ee78a14d41bd5f77',\n",
       "  'role': 'tool',\n",
       "  'name': 'get_current_weather',\n",
       "  'content': '广州今天是晴天。 '},\n",
       " {'role': 'assistant', 'content': '今天广州是晴天，所以非常适合徒步。不过建议在户外活动时注意防晒和保持水分哦！'}]"
      ]
     },
     "execution_count": 15,
     "metadata": {},
     "output_type": "execute_result"
    }
   ],
   "source": [
    "a.memory"
   ]
  },
  {
   "cell_type": "code",
   "execution_count": 1,
   "id": "a48a599c-e2cc-478c-8931-a23ae2d17bd0",
   "metadata": {},
   "outputs": [
    {
     "name": "stdout",
     "output_type": "stream",
     "text": [
      "\n",
      "\n",
      "\u001b[32m上海今天是晴天。 \u001b[0m\n",
      "\u001b[32m今天\u001b[0m\u001b[32m上海是晴天，\u001b[0m\u001b[32m所以可以考虑去户外活动。但\u001b[0m\u001b[32m请注意防晒和补水哦！\u001b[0m\n"
     ]
    },
    {
     "data": {
      "text/plain": [
       "'今天上海是晴天，所以可以考虑去户外活动。但请注意防晒和补水哦！'"
      ]
     },
     "execution_count": 1,
     "metadata": {},
     "output_type": "execute_result"
    }
   ],
   "source": [
    "from illufly.types import BaseAgent\n",
    "from illufly.chat import ChatOpenAI\n",
    "\n",
    "def get_current_weather(location: str=None):\n",
    "    \"\"\"获取城市的天气情况\"\"\"\n",
    "    return f\"{location}今天是晴天。 \"\n",
    "\n",
    "a = ChatOpenAI(model=\"qwen2-1.5b-instruct\", imitator=\"Qwen\")\n",
    "a(\"今天上海和广州适合徒步吗\", tools=[get_current_weather])"
   ]
  },
  {
   "cell_type": "code",
   "execution_count": 22,
   "id": "bffeff51-1da3-4481-ae53-ed236e2d4873",
   "metadata": {},
   "outputs": [
    {
     "data": {
      "text/plain": [
       "[{'role': 'user', 'content': '今天上海和广州天气如何啊，一起调用工具查查再回答'},\n",
       " {'role': 'assistant',\n",
       "  'content': '',\n",
       "  'tool_calls': [{'index': 0,\n",
       "    'id': 'call_84806adfd47c4320b3b98d',\n",
       "    'type': 'function',\n",
       "    'function': {'name': 'get_current_weather',\n",
       "     'arguments': '{\"location\": \"上海\"}'}}]},\n",
       " {'tool_call_id': 'call_84806adfd47c4320b3b98d',\n",
       "  'role': 'tool',\n",
       "  'name': 'get_current_weather',\n",
       "  'content': '上海今天是晴天。 '},\n",
       " {'role': 'assistant',\n",
       "  'content': '',\n",
       "  'tool_calls': [{'index': 0,\n",
       "    'id': 'call_d07e52a284cb4ac2b9ebcd',\n",
       "    'type': 'function',\n",
       "    'function': {'name': 'get_current_weather',\n",
       "     'arguments': '{\"location\": \"广州\"}'}}]},\n",
       " {'tool_call_id': 'call_d07e52a284cb4ac2b9ebcd',\n",
       "  'role': 'tool',\n",
       "  'name': 'get_current_weather',\n",
       "  'content': '广州今天是晴天。 '},\n",
       " {'role': 'assistant', 'content': '今天上海和广州都是晴天哦。'}]"
      ]
     },
     "execution_count": 22,
     "metadata": {},
     "output_type": "execute_result"
    }
   ],
   "source": [
    "a.memory"
   ]
  },
  {
   "cell_type": "markdown",
   "id": "983390ba-cdeb-4651-b0df-0a59204be8fc",
   "metadata": {},
   "source": [
    "## 向量模型"
   ]
  },
  {
   "cell_type": "code",
   "execution_count": 1,
   "id": "9aaadc6e-9b13-4bf6-80c6-930e0e5997e1",
   "metadata": {},
   "outputs": [
    {
     "name": "stdout",
     "output_type": "stream",
     "text": [
      "[-0.10436907410621643, 0.043999478220939636, -0.07047602534294128]\n"
     ]
    }
   ],
   "source": [
    "from illufly.types import Document\n",
    "from illufly.embeddings import DashScopeEmbeddings\n",
    "\n",
    "embeddings = DashScopeEmbeddings()\n",
    "doc = [Document(\"这是一个测试文本\")]\n",
    "embeddings(doc)\n",
    "print(embeddings.last_output[0].metadata['embeddings'][:3])"
   ]
  },
  {
   "cell_type": "code",
   "execution_count": 2,
   "id": "53d9527f-0c20-4111-9af7-24c0d56a9a16",
   "metadata": {},
   "outputs": [
    {
     "data": {
      "text/plain": [
       "[Document(text='illufly？ 这是一个专注于写作和对话场景的多智能体框架', metadata='{\"source\": \"unknown\", \"embeddings\": [-0.0847005844116211, 0.04371895268559456, 0.000247611606027931,...'),\n",
       " Document(text='普鸿是做消防业务的专业公司', metadata='{\"source\": \"unknown\", \"embeddings\": [-0.0868479385972023, 0.0248136967420578, -0.027287213131785393,...'),\n",
       " Document(text='幻蝶AI的智能体框架非常领先', metadata='{\"source\": \"unknown\", \"embeddings\": [-0.05167926475405693, 0.00564523134380579, -0.00589442625641822...')]"
      ]
     },
     "execution_count": 2,
     "metadata": {},
     "output_type": "execute_result"
    }
   ],
   "source": [
    "from illufly.embeddings import ZhipuEmbeddings, DashScopeEmbeddings\n",
    "from illufly.io import log\n",
    "import os\n",
    "# os.environ[\"ILLUFLY_CACHE_EMBEDDINGS\"] = \"./__CACHE_EMBEDDINGS__\"\n",
    "\n",
    "e = DashScopeEmbeddings()\n",
    "e(\n",
    "    docs=[\n",
    "        \"illufly？ 这是一个专注于写作和对话场景的多智能体框架\",\n",
    "        \"普鸿是做消防业务的专业公司\",\n",
    "        \"幻蝶AI的智能体框架非常领先\",\n",
    "    ],\n",
    "    verbose=True\n",
    ")"
   ]
  },
  {
   "cell_type": "code",
   "execution_count": 3,
   "id": "bdad84de-c824-4fef-beda-fd9db62e72c2",
   "metadata": {},
   "outputs": [
    {
     "data": {
      "text/plain": [
       "[Document(text='illufly？ 这是一个专注于写作和对话场景的多智能体框架', metadata='{\"source\": \"unknown\", \"embeddings\": [-0.0847005844116211, 0.04371895268559456, 0.000247611606027931,...'),\n",
       " Document(text='普鸿是做消防业务的专业公司', metadata='{\"source\": \"unknown\", \"embeddings\": [-0.0868479385972023, 0.0248136967420578, -0.027287213131785393,...'),\n",
       " Document(text='幻蝶AI的智能体框架非常领先', metadata='{\"source\": \"unknown\", \"embeddings\": [-0.05167926475405693, 0.00564523134380579, -0.00589442625641822...'),\n",
       " Document(text='模型：这里列出了被评估的模型名称，都是基于\"text-embedding-v3\"', metadata='{\"source\": \"unknown\", \"embeddings\": [-0.062373656779527664, -0.028722155839204788, -0.02404510229825...'),\n",
       " Document(text='模型维度：这是指向量模型的维度，即每个向量在嵌入空间中的特征数量。在这个例子中，模型的维度分别为1024、768和512。', metadata='{\"source\": \"unknown\", \"embeddings\": [-0.04857911914587021, -0.028379620984196663, -0.053788159042596...'),\n",
       " Document(text='MTEB：这可能是模型在某个基准测试（可能是多任务情感分析基准，Multi-Task Emotion Benchmark）上的总体准确率或得分。数值越高，表示模型在该基准测试上的表现越好。', metadata='{\"source\": \"unknown\", \"embeddings\": [-0.028462227433919907, -0.06827855855226517, -0.073512986302375...'),\n",
       " Document(text='MTEB（Retrieval task）：这是模型在MTEB基准的检索任务上的得分。检索任务通常涉及到从数据集中检索与给定查询最相关的项。', metadata='{\"source\": \"unknown\", \"embeddings\": [-0.022207587957382202, -0.05412628874182701, -0.058304328471422...'),\n",
       " Document(text='CMTEB：这可能是模型在某种上下文修改的MTEB基准测试上的得分。这里的“C”可能代表“Contextual”或其他某种修改版。', metadata='{\"source\": \"unknown\", \"embeddings\": [-0.029237115755677223, -0.01602769084274769, -0.062231920659542...'),\n",
       " Document(text='CMTEB (Retrieval task)：这是模型在CMTEB基准的检索任务上的得分。', metadata='{\"source\": \"unknown\", \"embeddings\": [-0.035427939146757126, -0.047904737293720245, -0.06265354156494...')]"
      ]
     },
     "execution_count": 3,
     "metadata": {},
     "output_type": "execute_result"
    }
   ],
   "source": [
    "from illufly.embeddings import DashScopeEmbeddings\n",
    "import os\n",
    "\n",
    "e = DashScopeEmbeddings()\n",
    "e(\n",
    "    [\n",
    "        \"illufly？ 这是一个专注于写作和对话场景的多智能体框架\",\n",
    "        \"普鸿是做消防业务的专业公司\",\n",
    "        \"幻蝶AI的智能体框架非常领先\",\n",
    "        '模型：这里列出了被评估的模型名称，都是基于\"text-embedding-v3\"',\n",
    "        '模型维度：这是指向量模型的维度，即每个向量在嵌入空间中的特征数量。在这个例子中，模型的维度分别为1024、768和512。',\n",
    "        'MTEB：这可能是模型在某个基准测试（可能是多任务情感分析基准，Multi-Task Emotion Benchmark）上的总体准确率或得分。数值越高，表示模型在该基准测试上的表现越好。',\n",
    "        'MTEB（Retrieval task）：这是模型在MTEB基准的检索任务上的得分。检索任务通常涉及到从数据集中检索与给定查询最相关的项。',\n",
    "        'CMTEB：这可能是模型在某种上下文修改的MTEB基准测试上的得分。这里的“C”可能代表“Contextual”或其他某种修改版。',\n",
    "        'CMTEB (Retrieval task)：这是模型在CMTEB基准的检索任务上的得分。'\n",
    "    ],\n",
    "    verbose=True\n",
    ")"
   ]
  },
  {
   "cell_type": "markdown",
   "id": "223b45b5-1d30-4b71-9569-86b0a031ccdf",
   "metadata": {},
   "source": [
    "### 在FaissDB 中使用"
   ]
  },
  {
   "cell_type": "code",
   "execution_count": 13,
   "id": "a1fa0450-c364-4e01-bed2-511457dade79",
   "metadata": {},
   "outputs": [
    {
     "name": "stdout",
     "output_type": "stream",
     "text": [
      "  0s [INFO] \u001b[34m[0.410] unknown: 普鸿是做消防业务的专业公司\u001b[0m\n",
      "  0s [INFO] \u001b[34m[1.165] unknown: illufly？ 这是一个专注于写作和对话场景的多智能体框架\u001b[0m\n",
      "  0s [INFO] \u001b[34m[1.312] unknown: 幻蝶AI的智能体框架非常领先\u001b[0m\n",
      "  0s [INFO] \u001b[34m[1.313] unknown: MTEB（Retrieval task）：这是模型在MTEB基准的检索任务上的得分。检索任务通常涉及到从数据集中检索与给定查询最相关的项。\u001b[0m\n",
      "  0s [INFO] \u001b[34m[1.336] unknown: MTEB：这可能是模型在某个基准测试（可能是多任务情感分析基准，Multi-Task Emotion Benchmark）上的总体准确率或得分。数值越高，表示模型在该基准测试上的表现越好。\u001b[0m\n",
      "耗时0.3778669834136963s\n"
     ]
    }
   ],
   "source": [
    "import time\n",
    "start = time.time()\n",
    "from illufly.vectordb import FaissDB\n",
    "db = FaissDB(e, train=False)\n",
    "db(\"普鸿干嘛的？\", verbose=True)\n",
    "# v(\"幻蝶是啥？\", verbose=True)\n",
    "end = time.time()\n",
    "print(\"耗时{}s\".format(end-start))"
   ]
  },
  {
   "cell_type": "markdown",
   "id": "9ad94cbb-a876-4342-9779-f05ef38c984c",
   "metadata": {},
   "source": [
    "## 文生图"
   ]
  },
  {
   "cell_type": "code",
   "execution_count": 3,
   "id": "9e4e6e2c-6ca4-44d3-94ba-9c459069d408",
   "metadata": {},
   "outputs": [
    {
     "name": "stdout",
     "output_type": "stream",
     "text": [
      " 14s [INFO] \u001b[34m{\"output\": {\"task_status\": \"PENDING\", \"task_id\": \"bf600eae-4330-4513-a815-c62b3afea54a\"}, \"request_id\": \"d8df0a2b-44ac-9b7e-9f49-c6221d26461d\"}\u001b[0m\n",
      " 14s [INFO] \u001b[34mbf600eae-4330-4513-a815-c62b3afea54a: PENDING\u001b[0m\n",
      " 17s [INFO] \u001b[34mbf600eae-4330-4513-a815-c62b3afea54a: RUNNING\u001b[0m\n",
      " 19s [INFO] \u001b[34mbf600eae-4330-4513-a815-c62b3afea54a: RUNNING\u001b[0m\n",
      " 22s [INFO] \u001b[34mbf600eae-4330-4513-a815-c62b3afea54a: RUNNING\u001b[0m\n",
      " 24s [INFO] \u001b[34mbf600eae-4330-4513-a815-c62b3afea54a: RUNNING\u001b[0m\n",
      " 26s [INFO] \u001b[34mbf600eae-4330-4513-a815-c62b3afea54a: RUNNING\u001b[0m\n",
      " 29s [INFO] \u001b[34mbf600eae-4330-4513-a815-c62b3afea54a: RUNNING\u001b[0m\n",
      " 31s [INFO] \u001b[34mbf600eae-4330-4513-a815-c62b3afea54a: RUNNING\u001b[0m\n",
      " 33s [INFO] \u001b[34mbf600eae-4330-4513-a815-c62b3afea54a: RUNNING\u001b[0m\n",
      " 35s [INFO] \u001b[34mbf600eae-4330-4513-a815-c62b3afea54a: RUNNING\u001b[0m\n",
      " 38s [INFO] \u001b[34mbf600eae-4330-4513-a815-c62b3afea54a: RUNNING\u001b[0m\n",
      " 40s [INFO] \u001b[34mbf600eae-4330-4513-a815-c62b3afea54a: RUNNING\u001b[0m\n",
      " 42s [INFO] \u001b[34mbf600eae-4330-4513-a815-c62b3afea54a: RUNNING\u001b[0m\n",
      " 45s [INFO] \u001b[34mbf600eae-4330-4513-a815-c62b3afea54a: SUCCEEDED\u001b[0m\n",
      " 45s [IMAGE_URL] \u001b[33mhttps://dashscope-result-hz.oss-cn-hangzhou.aliyuncs.com/1d/a2/20240926/522176a8/dfb83f3c-adcf-4d72-92e3-129412af998a-1.png?Expires=1727437945&OSSAccessKeyId=LTAI5tQZd8AEcZX6KZV4G8qL&Signature=3WEdbXMMKCuUWGVllr%2FvOA4ZnuM%3D\u001b[0m\n",
      " 46s [INFO] \u001b[34moutput image to girl8.png\u001b[0m\n",
      " 46s [IMAGE_URL] \u001b[33mhttps://dashscope-result-hz.oss-cn-hangzhou.aliyuncs.com/1d/c0/20240926/522176a8/f1d0fb30-3ea0-46ea-94f8-e480374b71d0-1.png?Expires=1727437945&OSSAccessKeyId=LTAI5tQZd8AEcZX6KZV4G8qL&Signature=eJGobCAT8wnU8O5A%2F7SJ4VfsDNU%3D\u001b[0m\n",
      " 48s [INFO] \u001b[34moutput image to f1d0fb30-3ea0-46ea-94f8-e480374b71d0-1.png\u001b[0m\n",
      " 48s [IMAGE_URL] \u001b[33mhttps://dashscope-result-sh.oss-cn-shanghai.aliyuncs.com/1d/14/20240926/1b61f1c0/b7d8c5d0-bc26-4b42-83b7-4ace4eb2b6dc-1.png?Expires=1727437945&OSSAccessKeyId=LTAI5tQZd8AEcZX6KZV4G8qL&Signature=UKhlQkXjewJfC11EyBpBnrkGhOo%3D\u001b[0m\n",
      " 49s [INFO] \u001b[34moutput image to b7d8c5d0-bc26-4b42-83b7-4ace4eb2b6dc-1.png\u001b[0m\n",
      " 49s [IMAGE_URL] \u001b[33mhttps://dashscope-result-sh.oss-cn-shanghai.aliyuncs.com/1d/44/20240926/1b61f1c0/b4b9569e-750d-41b1-b989-175904511379-1.png?Expires=1727437945&OSSAccessKeyId=LTAI5tQZd8AEcZX6KZV4G8qL&Signature=qRaWO%2F%2FDBtTrvq6bf7j%2B4198daM%3D\u001b[0m\n",
      " 51s [INFO] \u001b[34moutput image to b4b9569e-750d-41b1-b989-175904511379-1.png\u001b[0m\n",
      " 51s [USAGE] \u001b[34m{\"image_count\": 4}\u001b[0m\n"
     ]
    }
   ],
   "source": [
    "from illufly.tools import Text2ImageWanx\n",
    "\n",
    "w = Text2ImageWanx()\n",
    "w(\n",
    "    input={\n",
    "        \"prompt\": \"换成红色泳衣\",\n",
    "        \"ref_img\": \"girl4.png\"\n",
    "    },\n",
    "    output=\"girl8.png\",\n",
    "    verbose=True\n",
    ")"
   ]
  },
  {
   "cell_type": "code",
   "execution_count": 2,
   "id": "18b9509b-df82-4a8e-8b5b-28e5d969633d",
   "metadata": {},
   "outputs": [
    {
     "name": "stdout",
     "output_type": "stream",
     "text": [
      "  0s [INFO] \u001b[34m{\"output\": {\"task_status\": \"PENDING\", \"task_id\": \"bb65695f-f516-4c53-8ece-a6c09f57ca99\"}, \"request_id\": \"d3f1fa2d-d6cf-94a5-b583-f3eb90dc5397\"}\u001b[0m\n",
      "  0s [INFO] \u001b[34mbb65695f-f516-4c53-8ece-a6c09f57ca99: PENDING\u001b[0m\n",
      "  2s [INFO] \u001b[34mbb65695f-f516-4c53-8ece-a6c09f57ca99: RUNNING\u001b[0m\n",
      "  4s [INFO] \u001b[34mbb65695f-f516-4c53-8ece-a6c09f57ca99: RUNNING\u001b[0m\n",
      "  6s [INFO] \u001b[34mbb65695f-f516-4c53-8ece-a6c09f57ca99: RUNNING\u001b[0m\n",
      "  8s [INFO] \u001b[34mbb65695f-f516-4c53-8ece-a6c09f57ca99: RUNNING\u001b[0m\n",
      " 10s [INFO] \u001b[34mbb65695f-f516-4c53-8ece-a6c09f57ca99: RUNNING\u001b[0m\n",
      " 12s [INFO] \u001b[34mbb65695f-f516-4c53-8ece-a6c09f57ca99: RUNNING\u001b[0m\n",
      " 15s [INFO] \u001b[34mbb65695f-f516-4c53-8ece-a6c09f57ca99: RUNNING\u001b[0m\n",
      " 17s [INFO] \u001b[34mbb65695f-f516-4c53-8ece-a6c09f57ca99: RUNNING\u001b[0m\n",
      " 19s [INFO] \u001b[34mbb65695f-f516-4c53-8ece-a6c09f57ca99: RUNNING\u001b[0m\n",
      " 21s [INFO] \u001b[34mbb65695f-f516-4c53-8ece-a6c09f57ca99: RUNNING\u001b[0m\n",
      " 23s [INFO] \u001b[34mbb65695f-f516-4c53-8ece-a6c09f57ca99: RUNNING\u001b[0m\n",
      " 25s [INFO] \u001b[34mbb65695f-f516-4c53-8ece-a6c09f57ca99: RUNNING\u001b[0m\n",
      " 27s [INFO] \u001b[34mbb65695f-f516-4c53-8ece-a6c09f57ca99: RUNNING\u001b[0m\n",
      " 29s [INFO] \u001b[34mbb65695f-f516-4c53-8ece-a6c09f57ca99: SUCCEEDED\u001b[0m\n",
      " 29s [IMAGE_URL] \u001b[33mhttps://dashscope-result-hz.oss-cn-hangzhou.aliyuncs.com/1d/81/20240927/522176a8/a1bbbf3f-7247-4899-8af5-84d22e25e7bf-1.png?Expires=1727501560&OSSAccessKeyId=LTAI5tQZd8AEcZX6KZV4G8qL&Signature=yU%2FzfMBS09R3vhY1Lh6ObBNyXvA%3D\u001b[0m\n",
      " 30s [INFO] \u001b[34moutput image to a1bbbf3f-7247-4899-8af5-84d22e25e7bf-1.png\u001b[0m\n",
      " 30s [USAGE] \u001b[34m{\"image_count\": 1}\u001b[0m\n"
     ]
    }
   ],
   "source": [
    "from illufly.text2image import Text2ImageWanx\n",
    "from illufly.io import log, alog\n",
    "\n",
    "w = Text2ImageWanx()\n",
    "await alog(w, input={\"prompt\": \"an asia girl in water\"}, parameters={\"n\": 1}, verbose=True)"
   ]
  },
  {
   "cell_type": "markdown",
   "id": "39c4515c-8ff2-40b1-a559-f8007676be8d",
   "metadata": {},
   "source": [
    "## Cosplay"
   ]
  },
  {
   "cell_type": "code",
   "execution_count": 1,
   "id": "4926f9f9-cffe-4a41-8d1a-77525774248b",
   "metadata": {},
   "outputs": [
    {
     "name": "stdout",
     "output_type": "stream",
     "text": [
      "  1s [INFO] \u001b[34m{\"output\": {\"task_status\": \"PENDING\", \"task_id\": \"23b57610-ada4-4ba5-af1e-c0b01324e68a\"}, \"request_id\": \"adb3b77d-e37d-9a53-bdda-8cc42d1a840e\"}\u001b[0m\n",
      "  1s [INFO] \u001b[34m23b57610-ada4-4ba5-af1e-c0b01324e68a: PENDING\u001b[0m\n",
      "  3s [INFO] \u001b[34m23b57610-ada4-4ba5-af1e-c0b01324e68a: RUNNING\u001b[0m\n",
      "  5s [INFO] \u001b[34m23b57610-ada4-4ba5-af1e-c0b01324e68a: RUNNING\u001b[0m\n",
      "  7s [INFO] \u001b[34m23b57610-ada4-4ba5-af1e-c0b01324e68a: RUNNING\u001b[0m\n",
      "  9s [INFO] \u001b[34m23b57610-ada4-4ba5-af1e-c0b01324e68a: SUCCEEDED\u001b[0m\n",
      "  9s [IMAGE_URL] \u001b[33mhttps://dashscope-result-bj.oss-cn-beijing.aliyuncs.com/viapi-video/2024-09-27/c4778d38-99ff-40ab-867e-4951cccb7dc5/20240927133129860658_1_2nefzj4vbr.jpg?Expires=1727501495&OSSAccessKeyId=LTAI5tQZd8AEcZX6KZV4G8qL&Signature=iZ61nLXjQz%2Fn1JWSkVKJ20Kwf7o%3D\u001b[0m\n",
      " 10s [INFO] \u001b[34moutput image to 20240927133129860658_1_2nefzj4vbr.jpg\u001b[0m\n",
      " 10s [USAGE] \u001b[34m{\"image_count\": 1}\u001b[0m\n"
     ]
    }
   ],
   "source": [
    "from illufly.text2image import CosplayWanx\n",
    "from illufly.io import log, alog\n",
    "\n",
    "w = CosplayWanx()\n",
    "await w(handler=alog, input={\"face_image\": \"girl4.png\", \"template_image\": \"girl1.png\"}, verbose=True)"
   ]
  },
  {
   "cell_type": "code",
   "execution_count": 1,
   "id": "4bab28ab-ad09-4fca-865f-5e08e484e15b",
   "metadata": {},
   "outputs": [
    {
     "name": "stdout",
     "output_type": "stream",
     "text": [
      "  1s [INFO] \u001b[34m{\"output\": {\"task_status\": \"PENDING\", \"task_id\": \"1543b458-5e7c-4107-a183-650f7896d87d\"}, \"request_id\": \"4d4ec17b-bb48-9ebc-8f07-ffd21b1979d8\"}\u001b[0m\n",
      "  1s [INFO] \u001b[34m1543b458-5e7c-4107-a183-650f7896d87d: PENDING\u001b[0m\n",
      " 10s [IMAGE_URL] \u001b[33mhttps://dashscope-result-bj.oss-cn-beijing.aliyuncs.com/viapi-video/2024-09-18/d77476b6-012f-48f7-ad79-9e0905702d52/20240918014238320881_1_rs3nxbi9l4.jpg?Expires=1726681365&OSSAccessKeyId=LTAI5tQZd8AEcZX6KZV4G8qL&Signature=oigH4uGNO3ZZGK%2FzmJMB8rzLRjA%3D\u001b[0m\n",
      " 10s [INFO] \u001b[34moutput image to 20240918014238320881_1_rs3nxbi9l4.jpg\u001b[0m\n",
      " 10s [USAGE] \u001b[34m{\"image_count\": 1}\u001b[0m\n"
     ]
    },
    {
     "data": {
      "text/plain": [
       "''"
      ]
     },
     "execution_count": 1,
     "metadata": {},
     "output_type": "execute_result"
    }
   ],
   "source": [
    "from illufly.text2image import CosplayWanx\n",
    "from illufly.io import log, alog\n",
    "\n",
    "w = CosplayWanx()\n",
    "await alog(w, verbose=True)"
   ]
  },
  {
   "cell_type": "markdown",
   "id": "ae43f173-051c-4f5c-ba73-5c95c7eb56b3",
   "metadata": {},
   "source": [
    "## 风格重绘"
   ]
  },
  {
   "cell_type": "code",
   "execution_count": 3,
   "id": "ab408fa0-94fa-4ff6-92f8-17795b3acc63",
   "metadata": {},
   "outputs": [
    {
     "name": "stdout",
     "output_type": "stream",
     "text": [
      "  0s [INFO] \u001b[34m{\"output\": {\"task_status\": \"PENDING\", \"task_id\": \"4200d523-10fa-4375-8f7f-020d1d543ffa\"}, \"request_id\": \"e9ee4384-e570-94d1-b524-e5945e1fa4d2\"}\u001b[0m\n",
      "  0s [INFO] \u001b[34m4200d523-10fa-4375-8f7f-020d1d543ffa: PENDING\u001b[0m\n",
      "  3s [INFO] \u001b[34m4200d523-10fa-4375-8f7f-020d1d543ffa: RUNNING\u001b[0m\n",
      "  5s [INFO] \u001b[34m4200d523-10fa-4375-8f7f-020d1d543ffa: RUNNING\u001b[0m\n",
      "  7s [INFO] \u001b[34m4200d523-10fa-4375-8f7f-020d1d543ffa: RUNNING\u001b[0m\n",
      "  9s [INFO] \u001b[34m4200d523-10fa-4375-8f7f-020d1d543ffa: SUCCEEDED\u001b[0m\n",
      "  9s [IMAGE_URL] \u001b[33mhttps://dashscope-result-bj.oss-cn-beijing.aliyuncs.com/viapi-video/2024-09-27/5a19edbd-8548-45ba-aff4-2ed455230e56/20240927133323487297_style0_w6rt0ovgsi.jpg?Expires=1727501610&OSSAccessKeyId=LTAI5tQZd8AEcZX6KZV4G8qL&Signature=WgLcbyDjelqBnilEy1fYySxDVRo%3D\u001b[0m\n",
      " 10s [INFO] \u001b[34moutput image to 漫画.png\u001b[0m\n",
      " 10s [USAGE] \u001b[34m{\"image_count\": 1}\u001b[0m\n"
     ]
    }
   ],
   "source": [
    "from illufly.text2image import StyleRepaintWanx\n",
    "\n",
    "w = StyleRepaintWanx()\n",
    "w(input={\"image\": \"girl4.png\", \"style_index\": 0}, output=\"漫画.png\", verbose=True)"
   ]
  },
  {
   "cell_type": "markdown",
   "id": "651521f9-a39b-4f2f-8a28-c7366b5b2801",
   "metadata": {},
   "source": [
    "## 背景更换"
   ]
  },
  {
   "cell_type": "code",
   "execution_count": 5,
   "id": "573f1122-567a-49e5-b38c-aba44a0cdf1c",
   "metadata": {},
   "outputs": [
    {
     "name": "stdout",
     "output_type": "stream",
     "text": [
      "  0s [INFO] \u001b[34m{\"output\": {\"task_status\": \"PENDING\", \"task_id\": \"18a72470-0456-4716-b515-7dc1d3929157\"}, \"request_id\": \"2758dade-cbc4-9731-b49e-20e1cc1b411b\"}\u001b[0m\n",
      "  0s [INFO] \u001b[34m18a72470-0456-4716-b515-7dc1d3929157: PENDING\u001b[0m\n",
      "  3s [INFO] \u001b[34m18a72470-0456-4716-b515-7dc1d3929157: RUNNING\u001b[0m\n",
      "  5s [INFO] \u001b[34m18a72470-0456-4716-b515-7dc1d3929157: SUCCEEDED\u001b[0m\n",
      "  5s [IMAGE_URL] \u001b[33mhttps://dashscope-result-bj.oss-cn-beijing.aliyuncs.com/466b5214/20240927/131724_0_v2_18a72470-0456-4716-b515-7dc1d3929157.png?Expires=1727500645&OSSAccessKeyId=LTAI5tQZd8AEcZX6KZV4G8qL&Signature=tZw7kbbD%2FoSxnl53W6q1hW%2FvpK4%3D\u001b[0m\n",
      "  6s [INFO] \u001b[34moutput image to 雪地背景.png\u001b[0m\n",
      "  6s [USAGE] \u001b[34m{\"image_count\": 1}\u001b[0m\n"
     ]
    }
   ],
   "source": [
    "from illufly.text2image import BackgroundWanx\n",
    "\n",
    "w = BackgroundWanx()\n",
    "w(\n",
    "    input={\n",
    "        \"ref_prompt\": \"大雪纷飞的冬日，白茫茫一片，在雪山顶上\",\n",
    "        # \"base_image\": \"girl4.png\",\n",
    "        \"base_image_url\": \"https://vision-poster.oss-cn-shanghai.aliyuncs.com/lllcho.lc/data/test_data/images/main_images/new_main_img/a.png\",\n",
    "        # \"ref_image_url\": \"https://vision-poster.oss-cn-shanghai.aliyuncs.com/lllcho.lc/data/test_data/images/ref_images/d1faf4f26c8c4ea798d043a8bf3784bb_2.png\",\n",
    "        # \"reference_edge\": {\n",
    "        #     \"foreground_edge\": [\n",
    "        #         \"https://vision-poster.oss-cn-shanghai.aliyuncs.com/lllcho.lc/data/test_data/images/huaban_soft_edge/6cdd13941cef1b11d885aea1717b983ae566b8efc9094-vcsvxa_fw658webp.png\"\n",
    "        #     ]\n",
    "        # }        \n",
    "    },\n",
    "    output=\"雪地背景.png\",\n",
    "    verbose=True\n",
    ")"
   ]
  },
  {
   "cell_type": "markdown",
   "id": "b1194ecb-9b73-46c9-a4fa-f53b836bf43f",
   "metadata": {},
   "source": [
    "## 图文融合"
   ]
  },
  {
   "cell_type": "code",
   "execution_count": 7,
   "id": "46389a74-46e1-44df-b81e-76481e2f2eb3",
   "metadata": {},
   "outputs": [
    {
     "name": "stdout",
     "output_type": "stream",
     "text": [
      "  0s [INFO] \u001b[34m{\"output\": {\"task_status\": \"PENDING\", \"task_id\": \"717e7df5-5017-4477-9f6a-ffe1e1fc76b0\"}, \"request_id\": \"38476fc8-984d-9b71-ba9c-51c6e6e7d881\"}\u001b[0m\n",
      "  0s [INFO] \u001b[34m717e7df5-5017-4477-9f6a-ffe1e1fc76b0: PENDING\u001b[0m\n",
      "  2s [INFO] \u001b[34m717e7df5-5017-4477-9f6a-ffe1e1fc76b0: RUNNING\u001b[0m\n",
      "  4s [INFO] \u001b[34m717e7df5-5017-4477-9f6a-ffe1e1fc76b0: SUCCEEDED\u001b[0m\n",
      "  4s [IMAGE_URL] \u001b[33mhttps://dashscope-result-bj.oss-cn-beijing.aliyuncs.com/1d/69/20240927/02624189/05_36_54_717e7df5-5017-4477-9f6a-ffe1e1fc76b0_1.jpg?Expires=1727501814&OSSAccessKeyId=LTAI5tQZd8AEcZX6KZV4G8qL&Signature=mJJO0AryRsv3O3GSB0qznjNGExU%3D\u001b[0m\n",
      "  5s [INFO] \u001b[34moutput image to 幻蝶智能.png\u001b[0m\n",
      "  5s [USAGE] \u001b[34m{\"image_count\": 1}\u001b[0m\n"
     ]
    }
   ],
   "source": [
    "from illufly.text2image import AnyTextWanx\n",
    "\n",
    "w = AnyTextWanx()\n",
    "w(\n",
    "    input={\n",
    "        \"prompt\": \"一个机器人小女孩在弯弯的月亮上睡觉，繁星点缀，小女孩身旁幻化出一只蝴蝶，上面写着\\\"幻蝶智能\\\"\"\n",
    "    },\n",
    "    output=\"幻蝶智能.png\",\n",
    "    verbose=True\n",
    ")"
   ]
  },
  {
   "cell_type": "markdown",
   "id": "77220861-15bd-440c-88e4-16fd489c82ba",
   "metadata": {},
   "source": [
    "## 涂鸦作画"
   ]
  },
  {
   "cell_type": "code",
   "execution_count": 7,
   "id": "34c6a340-ba31-49ef-822e-3dc57e3e6de0",
   "metadata": {},
   "outputs": [
    {
     "name": "stdout",
     "output_type": "stream",
     "text": [
      "  0s [INFO] \u001b[34m{\"output\": {\"task_status\": \"PENDING\", \"task_id\": \"717e7df5-5017-4477-9f6a-ffe1e1fc76b0\"}, \"request_id\": \"38476fc8-984d-9b71-ba9c-51c6e6e7d881\"}\u001b[0m\n",
      "  0s [INFO] \u001b[34m717e7df5-5017-4477-9f6a-ffe1e1fc76b0: PENDING\u001b[0m\n",
      "  2s [INFO] \u001b[34m717e7df5-5017-4477-9f6a-ffe1e1fc76b0: RUNNING\u001b[0m\n",
      "  4s [INFO] \u001b[34m717e7df5-5017-4477-9f6a-ffe1e1fc76b0: SUCCEEDED\u001b[0m\n",
      "  4s [IMAGE_URL] \u001b[33mhttps://dashscope-result-bj.oss-cn-beijing.aliyuncs.com/1d/69/20240927/02624189/05_36_54_717e7df5-5017-4477-9f6a-ffe1e1fc76b0_1.jpg?Expires=1727501814&OSSAccessKeyId=LTAI5tQZd8AEcZX6KZV4G8qL&Signature=mJJO0AryRsv3O3GSB0qznjNGExU%3D\u001b[0m\n",
      "  5s [INFO] \u001b[34moutput image to 幻蝶智能.png\u001b[0m\n",
      "  5s [USAGE] \u001b[34m{\"image_count\": 1}\u001b[0m\n"
     ]
    }
   ],
   "source": [
    "from illufly.text2image import SketchWanx\n",
    "\n",
    "w = SketchWanx()\n",
    "w(\n",
    "    input={\n",
    "        \n",
    "        \"prompt\": \"一个机器人小女孩在弯弯的月亮上睡觉，繁星点缀，小女孩身旁幻化出一只蝴蝶，上面写着\\\"幻蝶智能\\\"\"\n",
    "    },\n",
    "    output=\"幻蝶智能.png\",\n",
    "    verbose=True\n",
    ")"
   ]
  }
 ],
 "metadata": {
  "kernelspec": {
   "display_name": "same_to_illufly",
   "language": "python",
   "name": "same_to_illufly"
  },
  "language_info": {
   "codemirror_mode": {
    "name": "ipython",
    "version": 3
   },
   "file_extension": ".py",
   "mimetype": "text/x-python",
   "name": "python",
   "nbconvert_exporter": "python",
   "pygments_lexer": "ipython3",
   "version": "3.10.0"
  }
 },
 "nbformat": 4,
 "nbformat_minor": 5
}
