{
 "cells": [
  {
   "cell_type": "code",
   "execution_count": 1,
   "metadata": {},
   "outputs": [
    {
     "name": "stdout",
     "output_type": "stream",
     "text": [
      "^C\n"
     ]
    }
   ],
   "source": [
    "!poetry add dashscope --group dev"
   ]
  },
  {
   "cell_type": "code",
   "execution_count": 1,
   "metadata": {},
   "outputs": [],
   "source": [
    "from dotenv import load_dotenv, find_dotenv\n",
    "load_dotenv(find_dotenv(), override=True)\n",
    "import os\n",
    "os.chdir('..')"
   ]
  },
  {
   "cell_type": "code",
   "execution_count": 3,
   "metadata": {},
   "outputs": [],
   "source": [
    "from langchain_chinese import ChatDashScope\n",
    "\n",
    "llm = ChatDashScope()"
   ]
  },
  {
   "cell_type": "markdown",
   "metadata": {},
   "source": [
    "## invoke"
   ]
  },
  {
   "cell_type": "code",
   "execution_count": 3,
   "metadata": {},
   "outputs": [
    {
     "data": {
      "text/plain": [
       "AIMessage(content=\"Hello! How can I help you today? Is there something on your mind that you would like to discuss or ask about? I'm here to provide information and answer any questions you might have. Feel free to ask me anything.\")"
      ]
     },
     "execution_count": 3,
     "metadata": {},
     "output_type": "execute_result"
    }
   ],
   "source": [
    "llm.invoke(\"hi\")"
   ]
  },
  {
   "cell_type": "code",
   "execution_count": 4,
   "metadata": {},
   "outputs": [
    {
     "name": "stdout",
     "output_type": "stream",
     "text": [
      "{\"text\": null, \"finish_reason\": null, \"choices\": [{\"finish_reason\": \"stop\", \"message\": {\"role\": \"assistant\", \"content\": \"Hello! How can I help you today? If you have any questions or need assistance, feel free to ask.\"}}]}\n"
     ]
    },
    {
     "data": {
      "text/plain": [
       "AIMessage(content='Hello! How can I help you today? If you have any questions or need assistance, feel free to ask.')"
      ]
     },
     "execution_count": 4,
     "metadata": {},
     "output_type": "execute_result"
    }
   ],
   "source": [
    "from langchain_core.prompts import ChatPromptTemplate\n",
    "\n",
    "prompt = ChatPromptTemplate.from_messages([\n",
    "  (\"human\", \"hi\")\n",
    "])\n",
    "(prompt|llm).invoke({})"
   ]
  },
  {
   "cell_type": "markdown",
   "metadata": {},
   "source": [
    "## stream"
   ]
  },
  {
   "cell_type": "code",
   "execution_count": 4,
   "metadata": {},
   "outputs": [
    {
     "name": "stdout",
     "output_type": "stream",
     "text": [
      "Hello|!| How| can I help you today|? If you have any questions or need| assistance, feel free to ask.|"
     ]
    }
   ],
   "source": [
    "for chunk in llm.stream(\"hi\"):\n",
    "  print(chunk.content, end=\"|\", flush=True)"
   ]
  },
  {
   "cell_type": "code",
   "execution_count": 4,
   "metadata": {},
   "outputs": [
    {
     "name": "stdout",
     "output_type": "stream",
     "text": [
      "Hello|!| How| can I assist you today|?|"
     ]
    }
   ],
   "source": [
    "async for s in llm.astream(\"hi\"):\n",
    "  print(s.content, end=\"|\", flush=True)"
   ]
  },
  {
   "cell_type": "markdown",
   "metadata": {},
   "source": [
    "## 其他模型"
   ]
  },
  {
   "cell_type": "code",
   "execution_count": 9,
   "metadata": {},
   "outputs": [
    {
     "data": {
      "text/plain": [
       "AIMessage(content='浙江大学（Zhejiang University），简称“浙大”，位于中国浙江省杭州市，是中华人民共和国教育部直属的综合性研究型全国重点大学，也是“双一流”（世界一流大学和一流学科）建设高校、九校联盟、环太平洋大学联盟、21世纪学术联盟、中俄人文交流大学联盟等国际组织的重要成员。\\n\\n浙江大学前身可以追溯到1897年创建的求是书院，历经一百二十多年的发展与积淀，已成为一所拥有深厚历史底蕴、鲜明办学特色和国际影响力的高水平学府。学校设有理、工、医、法、文、经济、管理、艺术、交叉等多个学院，涵盖14个学科门类，拥有国家重点实验室、国家工程研究中心、国家工程技术研究中心等各类科研机构。\\n\\n在人才培养方面，浙江大学以本科教育为核心，注重全面发展和个性化培养，设有本科、研究生等多种层次的教育。同时，学校重视国际化交流，与全球160多个国家和地区建立了合作交流关系，为学生提供了丰富的海外学习机会。\\n\\n总的来说，浙江大学是一所历史悠久、学科齐全、师资力量雄厚、研究成果丰硕的知名高等学府，在国内外享有很高的声誉。')"
      ]
     },
     "execution_count": 9,
     "metadata": {},
     "output_type": "execute_result"
    }
   ],
   "source": [
    "from langchain_core.prompts import ChatPromptTemplate\n",
    "\n",
    "llm = ChatDashScope(model='qwen1.5-7b-chat')\n",
    "llm.invoke(\"请简要介绍一下浙江大学？\")\n"
   ]
  },
  {
   "cell_type": "code",
   "execution_count": 8,
   "metadata": {},
   "outputs": [
    {
     "data": {
      "text/plain": [
       "AIMessage(content='\\n 浙江大学（Zhejiang University），简称“浙大”，位于中国浙江省杭州市，是教育部直属的全国重点大学，是中国高水平大学建设高校。浙江大学创建于1897年，其前身为求是书院，是中国最早成立的国立大学之一。\\n\\n浙江大学是我国著名的综合性大学之一，学科门类齐全，涵盖哲学、经济学、法学、教育学、文学、历史学、理学、工学、农学、医学、管理学等。在国内外享有较高声誉，学术实力雄厚。根据2021年QS世界大学排名，浙江大学位列全球第55名，中国大陆高校中排名第3名。\\n\\n浙江大学在国内外享有盛誉，毕业生就业前景良好。学校注重国际交流与合作，与世界各地的知名高校建立了广泛的合作关系。学校还设有丰富的校园文化活动，如各种社团、学生组织等，为学生提供了广阔的发展空间。\\n\\n总之，浙江大学是一所具有悠久历史、学术实力雄厚、国际化程度较高的综合性重点大学。')"
      ]
     },
     "execution_count": 8,
     "metadata": {},
     "output_type": "execute_result"
    }
   ],
   "source": [
    "\n",
    "from langchain_core.prompts import ChatPromptTemplate\n",
    "\n",
    "llm = ChatDashScope(model='chatglm3-6b')\n",
    "llm.invoke(\"请简要介绍一下浙江大学？\")\n"
   ]
  },
  {
   "cell_type": "code",
   "execution_count": null,
   "metadata": {},
   "outputs": [],
   "source": []
  }
 ],
 "metadata": {
  "kernelspec": {
   "display_name": "langchain-chinese-py3.9-ipkyernel",
   "language": "python",
   "name": "langchain-chinese-py3.9-ipkyernel"
  },
  "language_info": {
   "codemirror_mode": {
    "name": "ipython",
    "version": 3
   },
   "file_extension": ".py",
   "mimetype": "text/x-python",
   "name": "python",
   "nbconvert_exporter": "python",
   "pygments_lexer": "ipython3",
   "version": "3.9.18"
  }
 },
 "nbformat": 4,
 "nbformat_minor": 2
}
