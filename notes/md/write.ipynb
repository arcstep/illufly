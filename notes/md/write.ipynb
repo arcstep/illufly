{
 "cells": [
  {
   "cell_type": "code",
   "execution_count": null,
   "id": "0a5cbfa2-68b6-49fb-90be-c8247b89e9cd",
   "metadata": {},
   "outputs": [],
   "source": [
    "from dotenv import load_dotenv, find_dotenv\n",
    "load_dotenv(find_dotenv(), override=True)\n",
    "\n",
    "import os\n",
    "os.chdir('..')"
   ]
  },
  {
   "cell_type": "code",
   "execution_count": null,
   "id": "4e8656d8-7a11-42ca-9f9e-f10e3de8dbac",
   "metadata": {},
   "outputs": [],
   "source": [
    "from langchain_openai import ChatOpenAI\n",
    "from langchain.globals import set_verbose\n",
    "# set_verbose(True)"
   ]
  },
  {
   "cell_type": "markdown",
   "id": "7fce53a7-d956-4a8c-bea7-d880a177c800",
   "metadata": {},
   "source": [
    "## 提纲"
   ]
  },
  {
   "cell_type": "code",
   "execution_count": null,
   "id": "6b62f381-92dd-4766-98b4-3a1845d0aa10",
   "metadata": {
    "scrolled": true
   },
   "outputs": [],
   "source": [
    "from textlong import idea, rewrite, fetch, translate, outline, outline_self, outline_detail\n",
    "from langchain_zhipu import ChatZhipuAI\n",
    "\n",
    "llm=ChatZhipuAI(model=\"glm-4\")\n",
    "task = \"\"\"\n",
    "请帮我创作5000字的修仙小说，标题为《我修了个假仙》，主角是夏小兰，男一号是周成，\n",
    "每一个章节都用意外、打脸的对话场景推动。\n",
    "\"\"\"\n",
    "\n",
    "md_outline = \"\"\n",
    "for x in outline(task, llm):\n",
    "    md_outline += x\n",
    "    print(x, end=\"\")"
   ]
  },
  {
   "cell_type": "markdown",
   "id": "add9a5dd-4716-41a6-b13b-4c017e7273b3",
   "metadata": {},
   "source": [
    "## 扩写提纲"
   ]
  },
  {
   "cell_type": "code",
   "execution_count": null,
   "id": "4e101842-4950-4858-957e-4576aed3f0ae",
   "metadata": {
    "scrolled": true
   },
   "outputs": [],
   "source": [
    "md_outline2 = \"\"\n",
    "for x in outline_self(md_outline, llm):\n",
    "    md_outline2 += x\n",
    "    print(x, end=\"\")"
   ]
  },
  {
   "cell_type": "markdown",
   "id": "662b879b-ae11-4fed-9e58-bbb550d8f73e",
   "metadata": {},
   "source": [
    "## 扩写"
   ]
  },
  {
   "cell_type": "code",
   "execution_count": null,
   "id": "c9fa9f77-9d56-4fec-a294-c18a703c3f4b",
   "metadata": {},
   "outputs": [],
   "source": [
    "md = \"\"\n",
    "for x in outline_detail(md_outline2, llm, task=\"多使用人物细节、对话描写、打斗描写，减少抽象叙事\"):\n",
    "    md += x\n",
    "    print(x, end=\"\")"
   ]
  },
  {
   "cell_type": "markdown",
   "id": "90f034ff-84fa-44df-b0c9-a681596bd024",
   "metadata": {},
   "source": [
    "## 提取"
   ]
  },
  {
   "cell_type": "code",
   "execution_count": null,
   "id": "94b896de-6be3-41f9-acb9-d35acda60127",
   "metadata": {},
   "outputs": [],
   "source": [
    "for x in fetch(md, llm):\n",
    "    print(x, end=\"\")"
   ]
  },
  {
   "cell_type": "markdown",
   "id": "fb5afaf5-d487-4fb9-960b-fa3a3b8070de",
   "metadata": {},
   "source": [
    "## 修改"
   ]
  },
  {
   "cell_type": "code",
   "execution_count": null,
   "id": "557e0818-26b4-4ee6-aa72-71099c2c670f",
   "metadata": {},
   "outputs": [],
   "source": [
    "for x in rewrite(md, llm, task=\"将主角名字修改为宁雪，其他不变\"):\n",
    "    print(x, end=\"\")"
   ]
  },
  {
   "cell_type": "markdown",
   "id": "55b3f16d-098d-43c5-8d99-53945d3918db",
   "metadata": {},
   "source": [
    "## 翻译"
   ]
  },
  {
   "cell_type": "code",
   "execution_count": null,
   "id": "bff9355e-bd9c-4baf-848b-1e4d51d4cd8c",
   "metadata": {},
   "outputs": [],
   "source": [
    "for x in translate(md, llm, k=1000, task=\"翻译为英文\"):\n",
    "    print(x, end=\"\")"
   ]
  },
  {
   "cell_type": "code",
   "execution_count": null,
   "id": "354af9e3-ff86-4e17-a9a2-2301752d8a43",
   "metadata": {},
   "outputs": [],
   "source": []
  }
 ],
 "metadata": {
  "kernelspec": {
   "display_name": "langchani-book-py3.10-ipykernel",
   "language": "python",
   "name": "langchani-book-py3.10-ipykernel"
  },
  "language_info": {
   "codemirror_mode": {
    "name": "ipython",
    "version": 3
   },
   "file_extension": ".py",
   "mimetype": "text/x-python",
   "name": "python",
   "nbconvert_exporter": "python",
   "pygments_lexer": "ipython3",
   "version": "3.10.0"
  }
 },
 "nbformat": 4,
 "nbformat_minor": 5
}
