{
 "cells": [
  {
   "cell_type": "code",
   "execution_count": 1,
   "id": "0a5cbfa2-68b6-49fb-90be-c8247b89e9cd",
   "metadata": {},
   "outputs": [],
   "source": [
    "from dotenv import load_dotenv, find_dotenv\n",
    "load_dotenv(find_dotenv(), override=True)\n",
    "\n",
    "import os\n",
    "os.chdir('..')"
   ]
  },
  {
   "cell_type": "code",
   "execution_count": 2,
   "id": "450ca6d0-4394-4fef-910f-5a1e4fde5ecd",
   "metadata": {},
   "outputs": [],
   "source": [
    "from textlong.md import Writing\n",
    "from langchain_zhipu import ChatZhipuAI\n",
    "from langchain_openai import ChatOpenAI\n",
    "from langchain.globals import set_verbose\n",
    "set_verbose(False)"
   ]
  },
  {
   "cell_type": "markdown",
   "id": "feae7059-3fab-437a-afcc-ec30ae0a9323",
   "metadata": {},
   "source": [
    "## 创意"
   ]
  },
  {
   "cell_type": "code",
   "execution_count": 3,
   "id": "b898daad-2fa8-4fce-8827-9ffcc381b7a2",
   "metadata": {},
   "outputs": [],
   "source": [
    "w = Writing(llm=ChatZhipuAI())"
   ]
  },
  {
   "cell_type": "code",
   "execution_count": 3,
   "id": "9d547a9b-ad28-4bc9-8c17-7b5664853d80",
   "metadata": {},
   "outputs": [
    {
     "name": "stdout",
     "output_type": "stream",
     "text": [
      ">->>>\n",
      "# 正则表达式概念总览\n",
      "\n",
      "## 基础概念\n",
      "- 字符匹配\n",
      "- 字符集\n",
      "- 量词\n",
      "- 定位符\n",
      "\n",
      "## 高级概念\n",
      "- 分组和引用\n",
      "- 零宽断言\n",
      "- 负向前瞻\n",
      "- 懒惰匹配与贪婪匹配\n",
      "\n",
      "## 特殊概念\n",
      "- 转义字符\n",
      "- 字符编码\n",
      "- 模式修饰符\n",
      "- 回溯与递归\n",
      "\n",
      "<<<-<\n",
      "\n",
      "实际字数: 139\n"
     ]
    },
    {
     "data": {
      "text/plain": [
       "[Document(page_content='# 正则表达式概念总览\\n\\n', metadata={'type': 'heading', 'attrs': {'level': 1}, 'style': 'axt', 'children': [{'type': 'text', 'raw': '正则表达式概念总览'}], 'id': '1717659829-0'}),\n",
       " Document(page_content='', metadata={'type': 'blank_line', 'id': '1717659829-1'}),\n",
       " Document(page_content='## 基础概念\\n\\n', metadata={'type': 'heading', 'attrs': {'level': 2}, 'style': 'axt', 'children': [{'type': 'text', 'raw': '基础概念'}], 'id': '1717659829-2'}),\n",
       " Document(page_content='- 字符匹配\\n- 字符集\\n- 量词\\n- 定位符\\n\\n', metadata={'type': 'list', 'children': [{'type': 'list_item', 'children': [{'type': 'block_text', 'children': [{'type': 'text', 'raw': '字符匹配'}]}]}, {'type': 'list_item', 'children': [{'type': 'block_text', 'children': [{'type': 'text', 'raw': '字符集'}]}]}, {'type': 'list_item', 'children': [{'type': 'block_text', 'children': [{'type': 'text', 'raw': '量词'}]}]}, {'type': 'list_item', 'children': [{'type': 'block_text', 'children': [{'type': 'text', 'raw': '定位符'}]}]}], 'tight': True, 'bullet': '-', 'attrs': {'depth': 0, 'ordered': False}, 'id': '1717659829-3'}),\n",
       " Document(page_content='## 高级概念\\n\\n', metadata={'type': 'heading', 'attrs': {'level': 2}, 'style': 'axt', 'children': [{'type': 'text', 'raw': '高级概念'}], 'id': '1717659829-4'}),\n",
       " Document(page_content='- 分组和引用\\n- 零宽断言\\n- 负向前瞻\\n- 懒惰匹配与贪婪匹配\\n\\n', metadata={'type': 'list', 'children': [{'type': 'list_item', 'children': [{'type': 'block_text', 'children': [{'type': 'text', 'raw': '分组和引用'}]}]}, {'type': 'list_item', 'children': [{'type': 'block_text', 'children': [{'type': 'text', 'raw': '零宽断言'}]}]}, {'type': 'list_item', 'children': [{'type': 'block_text', 'children': [{'type': 'text', 'raw': '负向前瞻'}]}]}, {'type': 'list_item', 'children': [{'type': 'block_text', 'children': [{'type': 'text', 'raw': '懒惰匹配与贪婪匹配'}]}]}], 'tight': True, 'bullet': '-', 'attrs': {'depth': 0, 'ordered': False}, 'id': '1717659829-5'}),\n",
       " Document(page_content='## 特殊概念\\n\\n', metadata={'type': 'heading', 'attrs': {'level': 2}, 'style': 'axt', 'children': [{'type': 'text', 'raw': '特殊概念'}], 'id': '1717659829-6'}),\n",
       " Document(page_content='- 转义字符\\n- 字符编码\\n- 模式修饰符\\n- 回溯与递归\\n\\n', metadata={'type': 'list', 'children': [{'type': 'list_item', 'children': [{'type': 'block_text', 'children': [{'type': 'text', 'raw': '转义字符'}]}]}, {'type': 'list_item', 'children': [{'type': 'block_text', 'children': [{'type': 'text', 'raw': '字符编码'}]}]}, {'type': 'list_item', 'children': [{'type': 'block_text', 'children': [{'type': 'text', 'raw': '模式修饰符'}]}]}, {'type': 'list_item', 'children': [{'type': 'block_text', 'children': [{'type': 'text', 'raw': '回溯与递归'}]}]}], 'tight': True, 'bullet': '-', 'attrs': {'depth': 0, 'ordered': False}, 'id': '1717659829-7'})]"
      ]
     },
     "execution_count": 3,
     "metadata": {},
     "output_type": "execute_result"
    }
   ],
   "source": [
    "w.idea(\"正则表达式都包括哪些概念？使用标题区分层次\")"
   ]
  },
  {
   "cell_type": "markdown",
   "id": "7fce53a7-d956-4a8c-bea7-d880a177c800",
   "metadata": {},
   "source": [
    "## 提纲"
   ]
  },
  {
   "cell_type": "code",
   "execution_count": 4,
   "id": "5bf85ace-7e04-4adf-a36f-6de66bf10816",
   "metadata": {},
   "outputs": [
    {
     "name": "stdout",
     "output_type": "stream",
     "text": [
      ">->>>\n",
      "# 《紫霄剑影》\n",
      "\n",
      "## 主角介绍\n",
      "<OUTLINE>\n",
      "扩写要求：\n",
      "- 名字：洛清瑶\n",
      "- 性格特点：冷静、果断、聪慧、不屈\n",
      "- 预估字数：100字\n",
      "- 创意要点：通过主角名字的寓意展现其性格特点\n",
      "- 创作思路：以第三人称视角描述洛清瑶的初次亮相\n",
      "</OUTLINE>\n",
      "\n",
      "## 修仙历程\n",
      "<OUTLINE>\n",
      "扩写要求：\n",
      "- 修炼阶段：入门、筑基、金丹、元婴\n",
      "- 重要事件：拜师、下山历练、遭遇强敌、突破瓶颈\n",
      "- 预估字数：200字\n",
      "- 创意要点：加入独特的修仙法则和法术体系\n",
      "- 创作思路：通过洛清瑶的修炼历程展示其成长与变化\n",
      "</OUTLINE>\n",
      "\n",
      "## 情感纠葛\n",
      "<OUTLINE>\n",
      "扩写要求：\n",
      "- 关系人物：青梅竹马、神秘仙子、魔族王子\n",
      "- 情感变化：友情、爱情、仇恨、背叛\n",
      "- 预估字数：200字\n",
      "- 创意要点：构建复杂的人物关系和情感冲突\n",
      "- 创作思路：以洛清瑶的情感变化为主线，展现其内心世界\n",
      "</OUTLINE>\n",
      "\n",
      "<<<-<\n",
      "\n",
      "实际字数: 425\n"
     ]
    },
    {
     "data": {
      "text/plain": [
       "[Document(page_content='# 《紫霄剑影》\\n\\n', metadata={'type': 'heading', 'attrs': {'level': 1}, 'style': 'axt', 'children': [{'type': 'text', 'raw': '《紫霄剑影》'}], 'id': '1717661977-0'}),\n",
       " Document(page_content='', metadata={'type': 'blank_line', 'id': '1717661977-1'}),\n",
       " Document(page_content='## 主角介绍\\n\\n', metadata={'type': 'heading', 'attrs': {'level': 2}, 'style': 'axt', 'children': [{'type': 'text', 'raw': '主角介绍'}], 'id': '1717661977-2'}),\n",
       " Document(page_content='<OUTLINE>\\n扩写要求：\\n- 名字：洛清瑶\\n- 性格特点：冷静、果断、聪慧、不屈\\n- 预估字数：100字\\n- 创意要点：通过主角名字的寓意展现其性格特点\\n- 创作思路：以第三人称视角描述洛清瑶的初次亮相\\n</OUTLINE>', metadata={'id': '1717661977-3', 'type': 'OUTLINE'}),\n",
       " Document(page_content='', metadata={'type': 'blank_line', 'id': '1717661977-4'}),\n",
       " Document(page_content='## 修仙历程\\n\\n', metadata={'type': 'heading', 'attrs': {'level': 2}, 'style': 'axt', 'children': [{'type': 'text', 'raw': '修仙历程'}], 'id': '1717661977-5'}),\n",
       " Document(page_content='<OUTLINE>\\n扩写要求：\\n- 修炼阶段：入门、筑基、金丹、元婴\\n- 重要事件：拜师、下山历练、遭遇强敌、突破瓶颈\\n- 预估字数：200字\\n- 创意要点：加入独特的修仙法则和法术体系\\n- 创作思路：通过洛清瑶的修炼历程展示其成长与变化\\n</OUTLINE>', metadata={'id': '1717661977-6', 'type': 'OUTLINE'}),\n",
       " Document(page_content='', metadata={'type': 'blank_line', 'id': '1717661977-7'}),\n",
       " Document(page_content='## 情感纠葛\\n\\n', metadata={'type': 'heading', 'attrs': {'level': 2}, 'style': 'axt', 'children': [{'type': 'text', 'raw': '情感纠葛'}], 'id': '1717661977-8'}),\n",
       " Document(page_content='<OUTLINE>\\n扩写要求：\\n- 关系人物：青梅竹马、神秘仙子、魔族王子\\n- 情感变化：友情、爱情、仇恨、背叛\\n- 预估字数：200字\\n- 创意要点：构建复杂的人物关系和情感冲突\\n- 创作思路：以洛清瑶的情感变化为主线，展现其内心世界\\n</OUTLINE>', metadata={'id': '1717661977-9', 'type': 'OUTLINE'}),\n",
       " Document(page_content='', metadata={'type': 'blank_line', 'id': '1717661977-10'})]"
      ]
     },
     "execution_count": 4,
     "metadata": {},
     "output_type": "execute_result"
    }
   ],
   "source": [
    "w.outline(\"请帮我创作500字的修仙小说，大女主设定，请给出主角的具体名字\")"
   ]
  },
  {
   "cell_type": "markdown",
   "id": "662b879b-ae11-4fed-9e58-bbb550d8f73e",
   "metadata": {},
   "source": [
    "## 扩写"
   ]
  },
  {
   "cell_type": "code",
   "execution_count": 5,
   "id": "e73edd22-d062-46f9-815c-d9c580995f72",
   "metadata": {},
   "outputs": [
    {
     "name": "stdout",
     "output_type": "stream",
     "text": [
      ">->>>\n",
      "慕云瑶，出生于中层修仙家族慕家，一个既不算显赫也不平凡的家族。自小在家族中并未受到过多的关注和重视，她像是一颗被遗忘的明珠，静静地躺在家族的角落。在慕家的众多弟子中，她并不出众，没有令人惊叹的资质，也没有让人瞩目的成就，但她的内心却始终怀揣着对修仙之路的向往与坚持。\n",
      "<<<-<\n",
      "\n",
      "实际字数: 145\n",
      ">->>>\n",
      "在一次偶然的机会中，慕云瑶在家族的古老仓库中发现了一件神秘的法宝。这件法宝隐藏着不凡的力量，却也因此引来了强敌的觊觎。为了保护慕家，她被迫离家，开始了一段未知的修行之旅。在这段旅程中，慕云瑶不仅遇到了种种挑战，也结识了来自各路的仙友，他们各怀绝技，成为了她修行路上的助力与伙伴。\n",
      "<<<-<\n",
      "\n",
      "实际字数: 151\n",
      ">->>>\n",
      "在修炼的道路上，慕云瑶遭遇了无数的挑战和困难。起初，她的资质平凡，难以吸收天地灵气，修为增长缓慢。然而，她并未因此气馁，而是以坚定的信念和毅力，一点一滴地积累力量。在慕云瑶的修行过程中，她经历了种种磨练，从恶劣的环境中寻求生存，与猛兽搏斗，与心魔抗争。\n",
      "\n",
      "逐步地，慕云瑶开始突破自我，她学会了如何运用法宝，将其力量与自身修为相结合，发挥出惊人的威力。每一次的突破，都让她更加坚信自己能够成为一名真正的修仙者。而在心境上，她也经历了巨大的变化，从最初的迷茫、不安，逐渐变得坚定、自信。\n",
      "\n",
      "随着修为的提升，慕云瑶开始懂得如何去感悟天地间的奥妙，她的心境越来越宽广，成长的速度也让她的仙友为之惊叹。在这段旅程中，她学会了珍惜每一次的挫折，将困难化为动力，不断向前。\n",
      "<<<-<\n",
      "\n",
      "实际字数: 341\n",
      ">->>>\n",
      "在慕云瑶的旅程中，她面临了一次艰难的抉择。慕家突然遭遇了一场空前的危机，家族的未来悬于一线。一边是血脉相连的亲人，另一边是她苦心追求的修仙之路。在亲情与修仙的选择中，慕云瑶痛苦挣扎。最终，她选择了放下过去，承担起保护家族、引领家族走向光明的未来。她明白，修仙之路不仅仅是个人修行，更是肩负着家族的希望与责任。这次抉择，让慕云瑶变得更加成熟，也让她的修行之路增添了更多的意义。\n",
      "<<<-<\n",
      "\n",
      "实际字数: 199\n"
     ]
    },
    {
     "data": {
      "text/plain": [
       "[Document(page_content='', metadata={'type': 'blank_line', 'id': '1717661408-0'}),\n",
       " Document(page_content='# 修仙奇缘：慕云瑶的旅程\\n\\n', metadata={'type': 'heading', 'attrs': {'level': 1}, 'style': 'axt', 'children': [{'type': 'text', 'raw': '修仙奇缘：慕云瑶的旅程'}], 'id': '1717661408-1'}),\n",
       " Document(page_content='慕云瑶，出生于中层修仙家族慕家，一个既不算显赫也不平凡的家族。自小在家族中并未受到过多的关注和重视，她像是一颗被遗忘的明珠，静静地躺在家族的角落。在慕家的众多弟子中，她并不出众，没有令人惊叹的资质，也没有让人瞩目的成就，但她的内心却始终怀揣着对修仙之路的向往与坚持。\\n\\n', metadata={'type': 'paragraph', 'children': [{'type': 'text', 'raw': '慕云瑶，出生于中层修仙家族慕家，一个既不算显赫也不平凡的家族。自小在家族中并未受到过多的关注和重视，她像是一颗被遗忘的明珠，静静地躺在家族的角落。在慕家的众多弟子中，她并不出众，没有令人惊叹的资质，也没有让人瞩目的成就，但她的内心却始终怀揣着对修仙之路的向往与坚持。'}], 'id': '1717661432-0'}),\n",
       " Document(page_content='', metadata={'type': 'blank_line', 'id': '1717661408-3'}),\n",
       " Document(page_content='在一次偶然的机会中，慕云瑶在家族的古老仓库中发现了一件神秘的法宝。这件法宝隐藏着不凡的力量，却也因此引来了强敌的觊觎。为了保护慕家，她被迫离家，开始了一段未知的修行之旅。在这段旅程中，慕云瑶不仅遇到了种种挑战，也结识了来自各路的仙友，他们各怀绝技，成为了她修行路上的助力与伙伴。\\n\\n', metadata={'type': 'paragraph', 'children': [{'type': 'text', 'raw': '在一次偶然的机会中，慕云瑶在家族的古老仓库中发现了一件神秘的法宝。这件法宝隐藏着不凡的力量，却也因此引来了强敌的觊觎。为了保护慕家，她被迫离家，开始了一段未知的修行之旅。在这段旅程中，慕云瑶不仅遇到了种种挑战，也结识了来自各路的仙友，他们各怀绝技，成为了她修行路上的助力与伙伴。'}], 'id': '1717661437-0'}),\n",
       " Document(page_content='', metadata={'type': 'blank_line', 'id': '1717661408-5'}),\n",
       " Document(page_content='在修炼的道路上，慕云瑶遭遇了无数的挑战和困难。起初，她的资质平凡，难以吸收天地灵气，修为增长缓慢。然而，她并未因此气馁，而是以坚定的信念和毅力，一点一滴地积累力量。在慕云瑶的修行过程中，她经历了种种磨练，从恶劣的环境中寻求生存，与猛兽搏斗，与心魔抗争。\\n\\n', metadata={'type': 'paragraph', 'children': [{'type': 'text', 'raw': '在修炼的道路上，慕云瑶遭遇了无数的挑战和困难。起初，她的资质平凡，难以吸收天地灵气，修为增长缓慢。然而，她并未因此气馁，而是以坚定的信念和毅力，一点一滴地积累力量。在慕云瑶的修行过程中，她经历了种种磨练，从恶劣的环境中寻求生存，与猛兽搏斗，与心魔抗争。'}], 'id': '1717661444-0'}),\n",
       " Document(page_content='', metadata={'type': 'blank_line', 'id': '1717661444-1'}),\n",
       " Document(page_content='逐步地，慕云瑶开始突破自我，她学会了如何运用法宝，将其力量与自身修为相结合，发挥出惊人的威力。每一次的突破，都让她更加坚信自己能够成为一名真正的修仙者。而在心境上，她也经历了巨大的变化，从最初的迷茫、不安，逐渐变得坚定、自信。\\n\\n', metadata={'type': 'paragraph', 'children': [{'type': 'text', 'raw': '逐步地，慕云瑶开始突破自我，她学会了如何运用法宝，将其力量与自身修为相结合，发挥出惊人的威力。每一次的突破，都让她更加坚信自己能够成为一名真正的修仙者。而在心境上，她也经历了巨大的变化，从最初的迷茫、不安，逐渐变得坚定、自信。'}], 'id': '1717661444-2'}),\n",
       " Document(page_content='', metadata={'type': 'blank_line', 'id': '1717661444-3'}),\n",
       " Document(page_content='随着修为的提升，慕云瑶开始懂得如何去感悟天地间的奥妙，她的心境越来越宽广，成长的速度也让她的仙友为之惊叹。在这段旅程中，她学会了珍惜每一次的挫折，将困难化为动力，不断向前。\\n\\n', metadata={'type': 'paragraph', 'children': [{'type': 'text', 'raw': '随着修为的提升，慕云瑶开始懂得如何去感悟天地间的奥妙，她的心境越来越宽广，成长的速度也让她的仙友为之惊叹。在这段旅程中，她学会了珍惜每一次的挫折，将困难化为动力，不断向前。'}], 'id': '1717661444-4'}),\n",
       " Document(page_content='', metadata={'type': 'blank_line', 'id': '1717661408-7'}),\n",
       " Document(page_content='在慕云瑶的旅程中，她面临了一次艰难的抉择。慕家突然遭遇了一场空前的危机，家族的未来悬于一线。一边是血脉相连的亲人，另一边是她苦心追求的修仙之路。在亲情与修仙的选择中，慕云瑶痛苦挣扎。最终，她选择了放下过去，承担起保护家族、引领家族走向光明的未来。她明白，修仙之路不仅仅是个人修行，更是肩负着家族的希望与责任。这次抉择，让慕云瑶变得更加成熟，也让她的修行之路增添了更多的意义。\\n\\n', metadata={'type': 'paragraph', 'children': [{'type': 'text', 'raw': '在慕云瑶的旅程中，她面临了一次艰难的抉择。慕家突然遭遇了一场空前的危机，家族的未来悬于一线。一边是血脉相连的亲人，另一边是她苦心追求的修仙之路。在亲情与修仙的选择中，慕云瑶痛苦挣扎。最终，她选择了放下过去，承担起保护家族、引领家族走向光明的未来。她明白，修仙之路不仅仅是个人修行，更是肩负着家族的希望与责任。这次抉择，让慕云瑶变得更加成熟，也让她的修行之路增添了更多的意义。'}], 'id': '1717661450-0'}),\n",
       " Document(page_content='', metadata={'type': 'blank_line', 'id': '1717661408-9'})]"
      ]
     },
     "execution_count": 5,
     "metadata": {},
     "output_type": "execute_result"
    }
   ],
   "source": [
    "自定义提纲 = \"\"\"\n",
    "# 修仙奇缘：慕云瑶的旅程\n",
    "<OUTLINE>\n",
    "主题：介绍慕云瑶的来历（100字）\n",
    "扩写要求：\n",
    "- 主角名字：慕云瑶\n",
    "- 家族背景：中层修仙家族\n",
    "- 成长环境：在家族中不受重视\n",
    "</OUTLINE>\n",
    "\n",
    "<OUTLINE>\n",
    "主题：意外机缘（150字）\n",
    "扩写要求：\n",
    "- 偶得神秘法宝\n",
    "- 被迫离家修行\n",
    "- 结识各路仙友\n",
    "</OUTLINE>\n",
    "\n",
    "<OUTLINE>\n",
    "主题：修炼之路（200字）\n",
    "扩写要求：\n",
    "- 遇到的挑战和困难\n",
    "- 逐步突破自我\n",
    "- 心境变化与成长\n",
    "</OUTLINE>\n",
    "\n",
    "<OUTLINE>\n",
    "主题：慕云瑶的抉择（50字）\n",
    "扩写要求：\n",
    "- 家族危机\n",
    "- 亲情与修仙的选择\n",
    "- 放下过去，承担未来\n",
    "</OUTLINE>\n",
    "\"\"\"\n",
    "w = BaseWriting(ref_docs=自定义提纲, llm=ChatZhipuAI())\n",
    "w.detail()"
   ]
  },
  {
   "cell_type": "code",
   "execution_count": 6,
   "id": "424d678f-6417-45b7-b3e8-5c9ea841cda0",
   "metadata": {},
   "outputs": [
    {
     "name": "stdout",
     "output_type": "stream",
     "text": [
      "# 修仙奇缘：慕云瑶的旅程\n",
      "\n",
      "慕云瑶，出生于中层修仙家族慕家，一个既不算显赫也不平凡的家族。自小在家族中并未受到过多的关注和重视，她像是一颗被遗忘的明珠，静静地躺在家族的角落。在慕家的众多弟子中，她并不出众，没有令人惊叹的资质，也没有让人瞩目的成就，但她的内心却始终怀揣着对修仙之路的向往与坚持。\n",
      "\n",
      "在一次偶然的机会中，慕云瑶在家族的古老仓库中发现了一件神秘的法宝。这件法宝隐藏着不凡的力量，却也因此引来了强敌的觊觎。为了保护慕家，她被迫离家，开始了一段未知的修行之旅。在这段旅程中，慕云瑶不仅遇到了种种挑战，也结识了来自各路的仙友，他们各怀绝技，成为了她修行路上的助力与伙伴。\n",
      "\n",
      "在修炼的道路上，慕云瑶遭遇了无数的挑战和困难。起初，她的资质平凡，难以吸收天地灵气，修为增长缓慢。然而，她并未因此气馁，而是以坚定的信念和毅力，一点一滴地积累力量。在慕云瑶的修行过程中，她经历了种种磨练，从恶劣的环境中寻求生存，与猛兽搏斗，与心魔抗争。\n",
      "\n",
      "逐步地，慕云瑶开始突破自我，她学会了如何运用法宝，将其力量与自身修为相结合，发挥出惊人的威力。每一次的突破，都让她更加坚信自己能够成为一名真正的修仙者。而在心境上，她也经历了巨大的变化，从最初的迷茫、不安，逐渐变得坚定、自信。\n",
      "\n",
      "随着修为的提升，慕云瑶开始懂得如何去感悟天地间的奥妙，她的心境越来越宽广，成长的速度也让她的仙友为之惊叹。在这段旅程中，她学会了珍惜每一次的挫折，将困难化为动力，不断向前。\n",
      "\n",
      "在慕云瑶的旅程中，她面临了一次艰难的抉择。慕家突然遭遇了一场空前的危机，家族的未来悬于一线。一边是血脉相连的亲人，另一边是她苦心追求的修仙之路。在亲情与修仙的选择中，慕云瑶痛苦挣扎。最终，她选择了放下过去，承担起保护家族、引领家族走向光明的未来。她明白，修仙之路不仅仅是个人修行，更是肩负着家族的希望与责任。这次抉择，让慕云瑶变得更加成熟，也让她的修行之路增添了更多的意义。\n",
      "\n",
      "\n"
     ]
    }
   ],
   "source": [
    "print(w.markdown)"
   ]
  },
  {
   "cell_type": "markdown",
   "id": "0149d4ad-14ab-47a7-8722-e071b62ed305",
   "metadata": {},
   "source": [
    "## 提取"
   ]
  },
  {
   "cell_type": "markdown",
   "id": "fb5afaf5-d487-4fb9-960b-fa3a3b8070de",
   "metadata": {},
   "source": [
    "## 翻译"
   ]
  },
  {
   "cell_type": "code",
   "execution_count": null,
   "id": "7b257073-e608-49e3-81f4-b3e288870da1",
   "metadata": {},
   "outputs": [],
   "source": []
  }
 ],
 "metadata": {
  "kernelspec": {
   "display_name": "langchani-book-py3.10-ipykernel",
   "language": "python",
   "name": "langchani-book-py3.10-ipykernel"
  },
  "language_info": {
   "codemirror_mode": {
    "name": "ipython",
    "version": 3
   },
   "file_extension": ".py",
   "mimetype": "text/x-python",
   "name": "python",
   "nbconvert_exporter": "python",
   "pygments_lexer": "ipython3",
   "version": "3.10.0"
  }
 },
 "nbformat": 4,
 "nbformat_minor": 5
}
