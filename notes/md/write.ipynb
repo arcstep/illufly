{
 "cells": [
  {
   "cell_type": "code",
   "execution_count": 1,
   "id": "0a5cbfa2-68b6-49fb-90be-c8247b89e9cd",
   "metadata": {},
   "outputs": [],
   "source": [
    "from dotenv import load_dotenv, find_dotenv\n",
    "load_dotenv(find_dotenv(), override=True)\n",
    "\n",
    "import os\n",
    "os.chdir('..')"
   ]
  },
  {
   "cell_type": "code",
   "execution_count": 2,
   "id": "4e8656d8-7a11-42ca-9f9e-f10e3de8dbac",
   "metadata": {},
   "outputs": [],
   "source": [
    "from langchain_openai import ChatOpenAI\n",
    "from langchain.globals import set_verbose\n",
    "# set_verbose(True)"
   ]
  },
  {
   "cell_type": "markdown",
   "id": "7fce53a7-d956-4a8c-bea7-d880a177c800",
   "metadata": {},
   "source": [
    "## 提纲"
   ]
  },
  {
   "cell_type": "code",
   "execution_count": 3,
   "id": "6b62f381-92dd-4766-98b4-3a1845d0aa10",
   "metadata": {},
   "outputs": [
    {
     "name": "stdout",
     "output_type": "stream",
     "text": [
      "\n",
      "# 《我修了个假仙》提纲\n",
      "\n",
      "## 第一章：误入仙途\n",
      "<OUTLINE>\n",
      "扩写要求：\n",
      "- 字数：100字\n",
      "- 创意要点：夏小兰偶然得到一本残破的修仙秘籍，却因此卷入修仙界的纷争。\n",
      "- 创作思路：描述夏小兰的平凡生活，以及意外获得秘籍的过程。\n",
      "- 实体名称：夏小兰、秘籍。\n",
      "</OUTLINE>\n",
      "\n",
      "## 第二章：真假难辨\n",
      "<OUTLINE>\n",
      "扩写要求：\n",
      "- 字数：150字\n",
      "- 创意要点：周成是一位真正的修仙者，对夏小兰的“假仙”身份产生怀疑，决定试探她。\n",
      "- 创作思路：描述周成与夏小兰的初次相遇，以及周成的试探过程。\n",
      "- 实体名称：周成、夏小兰、试探。\n",
      "</OUTLINE>\n",
      "\n",
      "## 第三章：打脸逆袭\n",
      "<OUTLINE>\n",
      "扩写要求：\n",
      "- 字数：200字\n",
      "- 创意要点：夏小兰在周成的帮助下，实力突飞猛进，成功打脸曾经嘲笑她的人。\n",
      "- 创作思路：描述夏小兰在修仙过程中的努力与坚持，以及最终的逆袭。\n",
      "- 实体名称：夏小兰、周成、逆袭、打脸。\n",
      "</OUTLINE>\n",
      "\n",
      "## 第四章：真相大白\n",
      "<OUTLINE>\n",
      "扩写要求：\n",
      "- 字数：50字\n",
      "- 创意要点：夏小兰发现原来自己修的仙并非假的，而是秘籍中的独特修炼方法。\n",
      "- 创作思路：描述夏小兰在修炼过程中的疑惑与探索，以及最终的领悟。\n",
      "- 实体名称：夏小兰、秘籍、真相。\n",
      "</OUTLINE>\n",
      "\n"
     ]
    }
   ],
   "source": [
    "from textlong import idea, rewrite, fetch, translate, outline, outline_self, outline_detail\n",
    "from langchain_zhipu import ChatZhipuAI\n",
    "\n",
    "llm=ChatZhipuAI(model=\"glm-4\")\n",
    "task = \"\"\"\n",
    "请帮我创作500字的修仙小说，\n",
    "标题为《我修了个假仙》，\n",
    "主角是夏小兰，男一号是周成，\n",
    "每一个章节都适用意外、打脸的线索推动\n",
    "\"\"\"\n",
    "\n",
    "md_outline = \"\"\n",
    "for x in outline(task, llm):\n",
    "    md_outline += x\n",
    "    print(x, end=\"\")"
   ]
  },
  {
   "cell_type": "markdown",
   "id": "662b879b-ae11-4fed-9e58-bbb550d8f73e",
   "metadata": {},
   "source": [
    "## 扩写"
   ]
  },
  {
   "cell_type": "code",
   "execution_count": 4,
   "id": "c9fa9f77-9d56-4fec-a294-c18a703c3f4b",
   "metadata": {},
   "outputs": [
    {
     "name": "stdout",
     "output_type": "stream",
     "text": [
      "# 《我修了个假仙》提纲\n",
      "\n",
      "## 第一章：误入仙途\n",
      "\n",
      "\n",
      "夏小兰，一个平凡的少女，在偶然的机会下，得到一本破旧的秘籍。这本秘籍，传说中是修仙界的至宝。然而，她还未弄清楚情况，就已经被卷入了修仙界的纷争之中。原本平淡的生活，从此变得波折四起。\n",
      "\n",
      "## 第二章：真假难辨\n",
      "\n",
      "\n",
      "在一片幽静的竹林中，周成首次遇见了正在修炼的夏小兰。他眼中闪过一丝疑惑，因为从夏小兰身上，他感受到了不同寻常的气息。为了探明真相，周成决定进行一番试探。他故意设下一些修仙难题，观察夏小兰如何应对。夏小兰虽然心中紧张，但仍然凭借自己的机智和秘籍中的知识，一一解答了这些问题。周成见状，眼中透露出惊讶与认可，开始怀疑这个看似平凡的少女，或许并非他所认为的“假仙”。\n",
      "\n",
      "## 第三章：打脸逆袭\n",
      "\n",
      "\n",
      "在周成的悉心指导下，夏小兰开始了艰辛的修仙之路。她日夜勤练不辍，克服了种种困难，体内灵力逐渐充盈。就在一次修仙者聚会上，那些曾经嘲笑她的人，再次对她冷嘲热讽。然而，此时的夏小兰已非吴下阿蒙，她运用新学的法术，轻松击败了曾经看不起她的对手，成功实现了打脸逆袭。周成在一旁目睹了这一切，对她的成长感到由衷的欣慰。\n",
      "\n",
      "## 第四章：真相大白\n",
      "\n",
      "\n",
      "在漫长的修炼之旅中，夏小兰心中始终充满疑惑，她对自己的修炼成果产生了深深的怀疑。然而，在一次冥想中，她突然领悟到秘籍中的深意，发现自己修炼的仙术与众不同，却同样拥有强大的力量。真相终于大白，她并非修了个假仙，而是遵循着秘籍中独特的修炼方法，走出了一条属于自己的修仙之路。\n"
     ]
    }
   ],
   "source": [
    "md = \"\"\n",
    "for x in outline_detail(md_outline, llm):\n",
    "    md += x\n",
    "    print(x, end=\"\")"
   ]
  },
  {
   "cell_type": "markdown",
   "id": "0149d4ad-14ab-47a7-8722-e071b62ed305",
   "metadata": {},
   "source": [
    "## 扩写提纲"
   ]
  },
  {
   "cell_type": "markdown",
   "id": "90f034ff-84fa-44df-b0c9-a681596bd024",
   "metadata": {},
   "source": [
    "## 提取"
   ]
  },
  {
   "cell_type": "markdown",
   "id": "fb5afaf5-d487-4fb9-960b-fa3a3b8070de",
   "metadata": {},
   "source": [
    "## 修改"
   ]
  },
  {
   "cell_type": "code",
   "execution_count": 4,
   "id": "557e0818-26b4-4ee6-aa72-71099c2c670f",
   "metadata": {},
   "outputs": [],
   "source": [
    "doc = \"\"\"\n",
    "# 《悟道星辰》\n",
    "\n",
    "## 主角介绍\n",
    "\n",
    "洛清霜，一个名字如同他的性格一般，清高而不畏严寒。他冷静应对各种困境，坚韧不拔地追求修仙之途。慧根深厚的他在修炼路上独具慧眼，总能洞察事物本质。随着修为的不断提升，洛清霜在成长与变化中逐渐明白，修仙之路并非一帆风顺，但他的决心从未动摇。\n",
    "\n",
    "## 境界设定\n",
    "\n",
    "在《悟道星辰》中，主角洛清霜的修仙之路分为筑基、开光、金丹、元婴等境界。筑基期，他苦练基本功，磨砺心志；开光期，眼界初开，感悟灵气奥秘；金丹期，凝聚金丹，修为大进；元婴期，灵魂与肉体交融，步入全新境界。每个阶段，洛清霜都经历了重重考验，心路历程跌宕起伏，逐渐领悟修仙之道。\n",
    "\n",
    "## 情节大纲\n",
    "\n",
    "在《悟道星辰》的主线任务中，洛清霜踏上寻找传说中的星辰之心的征途。这颗心据说蕴含了宇宙间最纯粹的灵气，能够助力修仙者突破极限。在这个过程中，洛清霜不仅在险象环生的探险中成长，更在旅途中结识了志同道合的朋友，体验了友情的真挚与宝贵。他的心路历程同样交织着爱情的温柔与考验，面对情感的纠葛，他学会了用心去感受生命的多彩。\n",
    "\n",
    "每一次的历险都是一次心灵的磨砺，洛清霜在克服重重困难中逐渐揭开星辰之心的神秘面纱。他的修为在探寻中稳步提升，而对修仙之道的理解也越发深刻。星辰之心的寻找不仅是一场外在的冒险，更是内心深处自我认知的探索。\n",
    "\n",
    "## 结局设想\n",
    "\n",
    "星辰之心融入虚空，洛清霜目眺远方，脚步从未停歇。\n",
    "\"\"\""
   ]
  },
  {
   "cell_type": "code",
   "execution_count": 5,
   "id": "edb046e6-999d-4e28-b4b7-34aeb9910579",
   "metadata": {},
   "outputs": [
    {
     "name": "stdout",
     "output_type": "stream",
     "text": [
      "\n",
      "# 《悟道星辰》\n",
      "\n",
      "## 主角介绍\n",
      "\n",
      "宁雪，一个名字如同他的性格一般，清高而不畏严寒。他冷静应对各种困境，坚韧不拔地追求修仙之途。慧根深厚的他在修炼路上独具慧眼，总能洞察事物本质。随着修为的不断提升，宁雪在成长与变化中逐渐明白，修仙之路并非一帆风顺，但他的决心从未动摇。\n",
      "\n",
      "## 境界设定\n",
      "\n",
      "在《悟道星辰》中，主角宁雪的修仙之路分为筑基、开光、金丹、元婴等境界。筑基期，她苦练基本功，磨砺心志；开光期，眼界初开，感悟灵气奥秘；金丹期，凝聚金丹，修为大进；元婴期，灵魂与肉体交融，步入全新境界。每个阶段，宁雪都经历了重重考验，心路历程跌宕起伏，逐渐领悟修仙之道。\n",
      "\n",
      "## 情节大纲\n",
      "\n",
      "在《悟道星辰》的主线任务中，宁雪踏上寻找传说中的星辰之心的征途。这颗心据说蕴含了宇宙间最纯粹的灵气，能够助力修仙者突破极限。在这个过程中，宁雪不仅在险象环生的探险中成长，更在旅途中结识了志同道合的朋友，体验了友情的真挚与宝贵。她的心路历程同样交织着爱情的温柔与考验，面对情感的纠葛，她学会了用心去感受生命的多彩。\n",
      "\n",
      "每一次的历险都是一次心灵的磨砺，宁雪在克服重重困难中逐渐揭开星辰之心的神秘面纱。她的修为在探寻中稳步提升，而对修仙之道的理解也越发深刻。星辰之心的寻找不仅是一场外在的冒险，更是内心深处自我认知的探索。\n",
      "\n",
      "## 结局设想\n",
      "\n",
      "星辰之心融入虚空，宁雪目眺远方，脚步从未停歇。\n",
      "\n"
     ]
    }
   ],
   "source": [
    "for x in rewrite(doc, llm, k=120, task=\"将主角名字修改为宁雪，其他不变\"):\n",
    "    print(x, end=\"\")"
   ]
  },
  {
   "cell_type": "markdown",
   "id": "55b3f16d-098d-43c5-8d99-53945d3918db",
   "metadata": {},
   "source": [
    "## 翻译"
   ]
  },
  {
   "cell_type": "code",
   "execution_count": 5,
   "id": "bff9355e-bd9c-4baf-848b-1e4d51d4cd8c",
   "metadata": {},
   "outputs": [
    {
     "name": "stdout",
     "output_type": "stream",
     "text": [
      "\n",
      "# Outline of \"I Cultivated a Fake Immortal\"\n",
      "\n",
      "## Chapter 1: The Misguided Path to Immortality\n",
      "\n",
      "Xiaolan, an ordinary girl, obtained an old secret manual by chance. This manual is rumored to be a priceless treasure in the cultivation world. However, before she could fully understand the situation, she was already caught in the midst of the disputes of the cultivation world. Her once peaceful life has since become filled with unexpected twists and turns.\n",
      "\n",
      "## Chapter 2: Distinguishing Between Real and Fake\n",
      "\n",
      "\n",
      "# Outline of \"I Cultivated a Fake Immortal\"\n",
      "\n",
      "## Chapter 1: The Misguided Path to Immortality\n",
      "\n",
      "Xiaolan, an ordinary girl, obtained an old secret manual by chance. This manual is rumored to be a priceless treasure of the cultivation world. However, before she could fully grasp the situation, she was already entangled in the disputes of the cultivation world. Her once uneventful life has since become fraught with perils.\n",
      "\n",
      "## Chapter 2: Distinguishing Between Real and Fake\n",
      "\n",
      "In a serene bamboo grove, Zhou Cheng encountered Xiaolan, who was in the midst of her cultivation, for the first time. A flicker of doubt crossed his eyes, as he sensed an unusual aura from her. To uncover the truth, Zhou Cheng decided to conduct a series of tests. He deliberately posed some difficult cultivation problems, observing how Xiaolan would handle them. Despite her紧张 (nervousness), Xiaolan managed to answer each question with her wits and the knowledge from the secret manual. Witnessing this, Zhou Cheng's eyes revealed surprise and approval, leading him to question whether this seemingly ordinary girl might not actually be the \"fake immortal\" he had assumed her to be.\n",
      "\n",
      "\n",
      "## Chapter Three: A Turnaround with a Slap in the Face\n",
      "\n",
      "Under the careful guidance of Zhou Cheng, Xiaolan embarked on the arduous path of cultivation. She practiced day and night without ceasing, overcoming all sorts of difficulties, and her spiritual energy gradually became full. At a gathering of cultivators, those who had once mocked her derisively did so again. However, the Xiaolan of today was no longer the same as before. Utilizing the spells she had newly learned, she easily defeated those who had once looked down upon her, successfully achieving a turnaround with a slap in the face. Zhou Cheng, witnessing all this, felt a genuine sense of relief and satisfaction at her growth.\n",
      "\n",
      "\n",
      "## Chapter 4: The Truth Revealed\n",
      "\n",
      "Throughout her arduous journey of cultivation, Xiaolan was always filled with doubts, deeply suspicious of her own progress in her practice. However, during a meditation session, she suddenly comprehended the profound meaning within the manual, realizing that the art of immortality she cultivated was unique and equally powerful. The truth was finally laid bare; she had not been cultivating a fake immortal path, but had instead followed the unique training methods from the manual, carving out her own path in the world of cultivation.\n",
      "\n"
     ]
    }
   ],
   "source": [
    "for x in translate(md, llm, k=120, task=\"翻译为英文\"):\n",
    "    print(x, end=\"\")"
   ]
  },
  {
   "cell_type": "code",
   "execution_count": null,
   "id": "354af9e3-ff86-4e17-a9a2-2301752d8a43",
   "metadata": {},
   "outputs": [],
   "source": []
  },
  {
   "cell_type": "markdown",
   "id": "aa00dc12-1dca-439d-ae2c-b5f09802c725",
   "metadata": {},
   "source": [
    "## 创意"
   ]
  },
  {
   "cell_type": "code",
   "execution_count": null,
   "id": "16e2a9a0-420e-43ca-8ec2-2397616083b6",
   "metadata": {},
   "outputs": [],
   "source": [
    "for x in idea(\"正则表达式都包括哪些概念？使用标题区分层次，不超过100字\", llm):\n",
    "    print(x, end='|')"
   ]
  }
 ],
 "metadata": {
  "kernelspec": {
   "display_name": "langchani-book-py3.10-ipykernel",
   "language": "python",
   "name": "langchani-book-py3.10-ipykernel"
  },
  "language_info": {
   "codemirror_mode": {
    "name": "ipython",
    "version": 3
   },
   "file_extension": ".py",
   "mimetype": "text/x-python",
   "name": "python",
   "nbconvert_exporter": "python",
   "pygments_lexer": "ipython3",
   "version": "3.10.0"
  }
 },
 "nbformat": 4,
 "nbformat_minor": 5
}
