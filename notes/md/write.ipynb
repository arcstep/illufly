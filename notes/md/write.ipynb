{
 "cells": [
  {
   "cell_type": "code",
   "execution_count": 1,
   "id": "0a5cbfa2-68b6-49fb-90be-c8247b89e9cd",
   "metadata": {},
   "outputs": [],
   "source": [
    "from dotenv import load_dotenv, find_dotenv\n",
    "load_dotenv(find_dotenv(), override=True)\n",
    "\n",
    "import os\n",
    "os.chdir('..')"
   ]
  },
  {
   "cell_type": "code",
   "execution_count": 2,
   "id": "4e8656d8-7a11-42ca-9f9e-f10e3de8dbac",
   "metadata": {},
   "outputs": [],
   "source": [
    "from textlong import idea, rewrite, fetch, translate, outline, outline_self, outline_detail\n",
    "from langchain_zhipu import ChatZhipuAI\n",
    "from langchain_openai import ChatOpenAI\n",
    "from langchain.globals import set_verbose\n",
    "# set_verbose(True)"
   ]
  },
  {
   "cell_type": "code",
   "execution_count": 3,
   "id": "14456ec1-1e85-41ed-bcec-2e83bd863d95",
   "metadata": {},
   "outputs": [],
   "source": [
    "llm=ChatZhipuAI(model=\"glm-4\")"
   ]
  },
  {
   "cell_type": "markdown",
   "id": "c667ed24-1f1f-4370-9e66-dffc1356688a",
   "metadata": {},
   "source": [
    "## 创意"
   ]
  },
  {
   "cell_type": "code",
   "execution_count": null,
   "id": "16e2a9a0-420e-43ca-8ec2-2397616083b6",
   "metadata": {},
   "outputs": [],
   "source": [
    "for x in idea(\"正则表达式都包括哪些概念？使用标题区分层次，不超过100字\", llm):\n",
    "    print(x, end='|')"
   ]
  },
  {
   "cell_type": "markdown",
   "id": "7fce53a7-d956-4a8c-bea7-d880a177c800",
   "metadata": {},
   "source": [
    "## 提纲"
   ]
  },
  {
   "cell_type": "code",
   "execution_count": null,
   "id": "6b62f381-92dd-4766-98b4-3a1845d0aa10",
   "metadata": {},
   "outputs": [],
   "source": [
    "task = \"\"\"\n",
    "请帮我创作500字的修仙小说，\n",
    "标题为《我修了个假仙》，\n",
    "主角是夏小兰，男一号是周成，\n",
    "每一个章节都适用意外、打脸的线索推动\n",
    "\"\"\"\n",
    "for x in outline(task, llm):\n",
    "    print(x, end=\"\")"
   ]
  },
  {
   "cell_type": "markdown",
   "id": "662b879b-ae11-4fed-9e58-bbb550d8f73e",
   "metadata": {},
   "source": [
    "## 扩写"
   ]
  },
  {
   "cell_type": "code",
   "execution_count": null,
   "id": "c9fa9f77-9d56-4fec-a294-c18a703c3f4b",
   "metadata": {},
   "outputs": [],
   "source": [
    "outline = \"\"\"\n",
    "# 《我修了个假仙》\n",
    "\n",
    "## 第1章 意外的开始\n",
    "<OUTLINE>\n",
    "扩写要求：\n",
    "- 预估字数：500字\n",
    "- 创意要点：夏小兰的意外穿越，踏上修仙之路\n",
    "- 创作思路：描述夏小兰的平凡生活，突遇神秘事件，开启修仙之旅\n",
    "- 涉及实体名称：夏小兰、神秘事件、修仙世界\n",
    "</OUTLINE>\n",
    "\n",
    "## 第2章 意外的师徒\n",
    "<OUTLINE>\n",
    "扩写要求：\n",
    "- 预估字数：500字\n",
    "- 创意要点：夏小兰拜师周成，遭遇种种打脸事件\n",
    "- 创作思路：描绘夏小兰与周成的师徒互动，周成对夏小兰的考验与指导\n",
    "- 涉及实体名称：夏小兰、周成、师徒关系、打脸事件\n",
    "</OUTLINE>\n",
    "\"\"\"\n",
    "for x in outline_detail(outline, llm):\n",
    "    print(x, end=\"\")"
   ]
  },
  {
   "cell_type": "markdown",
   "id": "0149d4ad-14ab-47a7-8722-e071b62ed305",
   "metadata": {},
   "source": [
    "## 扩写提纲"
   ]
  },
  {
   "cell_type": "markdown",
   "id": "90f034ff-84fa-44df-b0c9-a681596bd024",
   "metadata": {},
   "source": [
    "## 提取"
   ]
  },
  {
   "cell_type": "markdown",
   "id": "fb5afaf5-d487-4fb9-960b-fa3a3b8070de",
   "metadata": {},
   "source": [
    "## 修改"
   ]
  },
  {
   "cell_type": "code",
   "execution_count": 4,
   "id": "557e0818-26b4-4ee6-aa72-71099c2c670f",
   "metadata": {},
   "outputs": [],
   "source": [
    "doc = \"\"\"\n",
    "# 《悟道星辰》\n",
    "\n",
    "## 主角介绍\n",
    "\n",
    "洛清霜，一个名字如同他的性格一般，清高而不畏严寒。他冷静应对各种困境，坚韧不拔地追求修仙之途。慧根深厚的他在修炼路上独具慧眼，总能洞察事物本质。随着修为的不断提升，洛清霜在成长与变化中逐渐明白，修仙之路并非一帆风顺，但他的决心从未动摇。\n",
    "\n",
    "## 境界设定\n",
    "\n",
    "在《悟道星辰》中，主角洛清霜的修仙之路分为筑基、开光、金丹、元婴等境界。筑基期，他苦练基本功，磨砺心志；开光期，眼界初开，感悟灵气奥秘；金丹期，凝聚金丹，修为大进；元婴期，灵魂与肉体交融，步入全新境界。每个阶段，洛清霜都经历了重重考验，心路历程跌宕起伏，逐渐领悟修仙之道。\n",
    "\n",
    "## 情节大纲\n",
    "\n",
    "在《悟道星辰》的主线任务中，洛清霜踏上寻找传说中的星辰之心的征途。这颗心据说蕴含了宇宙间最纯粹的灵气，能够助力修仙者突破极限。在这个过程中，洛清霜不仅在险象环生的探险中成长，更在旅途中结识了志同道合的朋友，体验了友情的真挚与宝贵。他的心路历程同样交织着爱情的温柔与考验，面对情感的纠葛，他学会了用心去感受生命的多彩。\n",
    "\n",
    "每一次的历险都是一次心灵的磨砺，洛清霜在克服重重困难中逐渐揭开星辰之心的神秘面纱。他的修为在探寻中稳步提升，而对修仙之道的理解也越发深刻。星辰之心的寻找不仅是一场外在的冒险，更是内心深处自我认知的探索。\n",
    "\n",
    "## 结局设想\n",
    "\n",
    "星辰之心融入虚空，洛清霜目眺远方，脚步从未停歇。\n",
    "\"\"\""
   ]
  },
  {
   "cell_type": "code",
   "execution_count": 5,
   "id": "edb046e6-999d-4e28-b4b7-34aeb9910579",
   "metadata": {},
   "outputs": [
    {
     "name": "stdout",
     "output_type": "stream",
     "text": [
      "\n",
      "# 《悟道星辰》\n",
      "\n",
      "## 主角介绍\n",
      "\n",
      "宁雪，一个名字如同他的性格一般，清高而不畏严寒。他冷静应对各种困境，坚韧不拔地追求修仙之途。慧根深厚的他在修炼路上独具慧眼，总能洞察事物本质。随着修为的不断提升，宁雪在成长与变化中逐渐明白，修仙之路并非一帆风顺，但他的决心从未动摇。\n",
      "\n",
      "## 境界设定\n",
      "\n",
      "在《悟道星辰》中，主角宁雪的修仙之路分为筑基、开光、金丹、元婴等境界。筑基期，她苦练基本功，磨砺心志；开光期，眼界初开，感悟灵气奥秘；金丹期，凝聚金丹，修为大进；元婴期，灵魂与肉体交融，步入全新境界。每个阶段，宁雪都经历了重重考验，心路历程跌宕起伏，逐渐领悟修仙之道。\n",
      "\n",
      "## 情节大纲\n",
      "\n",
      "在《悟道星辰》的主线任务中，宁雪踏上寻找传说中的星辰之心的征途。这颗心据说蕴含了宇宙间最纯粹的灵气，能够助力修仙者突破极限。在这个过程中，宁雪不仅在险象环生的探险中成长，更在旅途中结识了志同道合的朋友，体验了友情的真挚与宝贵。她的心路历程同样交织着爱情的温柔与考验，面对情感的纠葛，她学会了用心去感受生命的多彩。\n",
      "\n",
      "每一次的历险都是一次心灵的磨砺，宁雪在克服重重困难中逐渐揭开星辰之心的神秘面纱。她的修为在探寻中稳步提升，而对修仙之道的理解也越发深刻。星辰之心的寻找不仅是一场外在的冒险，更是内心深处自我认知的探索。\n",
      "\n",
      "## 结局设想\n",
      "\n",
      "星辰之心融入虚空，宁雪目眺远方，脚步从未停歇。\n",
      "\n"
     ]
    }
   ],
   "source": [
    "for x in rewrite(doc, llm, k=120, task=\"将主角名字修改为宁雪，其他不变\"):\n",
    "    print(x, end=\"\")"
   ]
  },
  {
   "cell_type": "markdown",
   "id": "55b3f16d-098d-43c5-8d99-53945d3918db",
   "metadata": {},
   "source": [
    "## 翻译"
   ]
  },
  {
   "cell_type": "code",
   "execution_count": 6,
   "id": "bff9355e-bd9c-4baf-848b-1e4d51d4cd8c",
   "metadata": {},
   "outputs": [
    {
     "name": "stdout",
     "output_type": "stream",
     "text": [
      "\n",
      "# \"Enlightenment of the Stars\"\n",
      "\n",
      "## Protagonist Introduction\n",
      "\n",
      " Luo Qingshuang, a name as cold and proud as his personality. Calm in the face of various predicaments, he tenaciously pursues the path of cultivation. With a profound innate intelligence, he has a unique insight on the path of cultivation, always able to see through to the essence of things. As his cultivation continues to improve, Luo Qingshuang gradually realizes in his growth and transformation that the path of cultivation is not smooth sailing. However, his determination has never wavered.\n",
      "\n",
      "## Protagonist Introduction\n",
      "\n",
      "Lu Qing Shuang, a name as cold and proud as his character, faces various dilemmas with calmness and tenacity, never swaying from his path of cultivation. With deep spiritual roots, he has a unique insight on the journey of cultivation, always able to see through to the essence of things. As his cultivation improves, Lu Qing Shuang gradually understands through growth and transformation that the path of cultivation is not smooth sailing, yet his determination has never wavered.\n",
      "\n",
      "## Realm Settings\n",
      "\n",
      "In \"Enlightenment of the Stars\", the protagonist Lu Qing Shuang's path of cultivation is divided into realms such as Foundation Building, Enlightenment, Golden Dan, and Yuan婴 (Embryonic Soul). During the Foundation Building stage, he diligently practices basic skills and forges his will; in the Enlightenment stage, his eyes are opened to the mysteries of spiritual energy; at the Golden Dan stage, he condenses his golden elixir, making significant progress in his cultivation; and in the Yuan婴 stage, his soul and body merge, entering a new realm. At each stage, Lu Qing Shuang undergoes numerous trials, with a tumultuous inner journey, gradually comprehending the way of cultivation.\n",
      "\n",
      "\n",
      "## Plot Summary\n",
      "\n",
      "In the main storyline of \"Enlightenment of the Stars\", Luo Qingshuang embarks on a journey to find the fabled Heart of the Stars. This heart is said to contain the purest spiritual energy in the universe, capable of helping cultivators break through their limits. Along this journey, Luo Qingshuang not only grows amidst dangerous adventures but also meets like-minded friends, experiencing the sincerity and value of friendship. His emotional journey is intertwined with the tenderness and trials of love, as he learns to feel the vibrancy of life with his heart amidst the entanglements of emotion.\n",
      "\n",
      "\n",
      "# \"Enlightenment of the Stars\"\n",
      "\n",
      "## Protagonist Introduction\n",
      "\n",
      " Luo Qingshuang, a name as cold and proud as his character. Calm in the face of adversity, he tenaciously pursues the path of cultivation. With profound wisdom, he has a unique insight on the path of cultivation, always able to see through to the essence of things. As his cultivation improves, Luo Qingshuang gradually realizes through growth and change that the path of cultivation is not smooth sailing, but his determination never wavers.\n",
      "\n",
      "## Realm Settings\n",
      "\n",
      "In \"Enlightenment of the Stars,\" the protagonist Luo Qingshuang's path of cultivation is divided into realms such as Foundation Building, Enlightenment, Golden Dan, and Yuan婴 (Embryonic Soul). During the Foundation Building stage, he practices basic skills and forges his will; in the Enlightenment stage, his eyes are opened to the mysteries of spiritual energy; in the Golden Dan stage, he condenses his Golden Dan, making significant progress in his cultivation; in the Yuan婴 stage, his soul and body merge, entering a new realm. At each stage, Luo Qingshuang undergoes numerous trials, with a tumultuous journey of the heart, gradually comprehending the way of cultivation.\n",
      "\n",
      "## Plot Outline\n",
      "\n",
      "In the main storyline of \"Enlightenment of the Stars,\" Luo Qingshuang embarks on a quest to find the legendary Heart of the Stars. This heart is said to contain the purest spiritual energy in the universe, capable of helping cultivators break through their limits. In this process, Luo Qingshuang not only grows amidst dangerous adventures but also meets like-minded friends, experiencing the sincerity and value of friendship. His journey of the heart is also intertwined with the tenderness and tests of love, as he learns to feel the colorful tapestry of life with his heart.\n",
      "\n",
      "## Ending Speculation\n",
      "\n",
      "The Heart of the Stars merges with the void, and Luo Qingshuang looks into the distance, his footsteps never ceasing.\n",
      "\n"
     ]
    }
   ],
   "source": [
    "for x in translate(doc, llm, k=120, task=\"翻译为英文\"):\n",
    "    print(x, end=\"\")"
   ]
  },
  {
   "cell_type": "code",
   "execution_count": null,
   "id": "354af9e3-ff86-4e17-a9a2-2301752d8a43",
   "metadata": {},
   "outputs": [],
   "source": []
  }
 ],
 "metadata": {
  "kernelspec": {
   "display_name": "langchani-book-py3.10-ipykernel",
   "language": "python",
   "name": "langchani-book-py3.10-ipykernel"
  },
  "language_info": {
   "codemirror_mode": {
    "name": "ipython",
    "version": 3
   },
   "file_extension": ".py",
   "mimetype": "text/x-python",
   "name": "python",
   "nbconvert_exporter": "python",
   "pygments_lexer": "ipython3",
   "version": "3.10.0"
  }
 },
 "nbformat": 4,
 "nbformat_minor": 5
}
