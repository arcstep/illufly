{
 "cells": [
  {
   "cell_type": "code",
   "execution_count": 1,
   "id": "0a5cbfa2-68b6-49fb-90be-c8247b89e9cd",
   "metadata": {},
   "outputs": [],
   "source": [
    "from dotenv import load_dotenv, find_dotenv\n",
    "load_dotenv(find_dotenv(), override=True)\n",
    "\n",
    "import os\n",
    "os.chdir('..')"
   ]
  },
  {
   "cell_type": "code",
   "execution_count": 2,
   "id": "450ca6d0-4394-4fef-910f-5a1e4fde5ecd",
   "metadata": {},
   "outputs": [],
   "source": [
    "from textlong.md import Writing\n",
    "from langchain_zhipu import ChatZhipuAI\n",
    "from langchain_openai import ChatOpenAI"
   ]
  },
  {
   "cell_type": "code",
   "execution_count": 3,
   "id": "747d2668-a0ed-472c-8c78-6787b95c5b29",
   "metadata": {},
   "outputs": [
    {
     "name": "stdout",
     "output_type": "stream",
     "text": [
      ">->>>\n",
      "# 1 修仙奇遇\n",
      "## 1.1 灵根觉醒（1000字）\n",
      "扩写要求：\n",
      "- 主角背景介绍\n",
      "- 灵根觉醒的过程及感悟\n",
      "\n",
      "## 1.2 拜师学艺（1500字）\n",
      "扩写要求：\n",
      "- 师傅的挑选过程\n",
      "- 学艺过程中的趣事及成长\n",
      "\n",
      "# 2 修炼之路\n",
      "## 2.1 炼气阶段（1000字）\n",
      "扩写要求：\n",
      "- 修炼中的艰辛与突破\n",
      "- 首次运用法力的经历\n",
      "\n",
      "## 2.2 筑基之难（1500字）\n",
      "扩写要求：\n",
      "- 筑基失败的挫折\n",
      "- 再次挑战并成功的经历\n",
      "\n",
      "# 3 历练之旅\n",
      "## 3.1 妖兽山脉（1000字）\n",
      "扩写要求：\n",
      "- 遇到的危险与机遇\n",
      "- 与妖兽的战斗及收获\n",
      "\n",
      "## 3.2 古遗迹探险（1000字）\n",
      "扩写要求：\n",
      "- 古遗迹的神秘氛围\n",
      "- 探险过程中的奇幻发现\n",
      "\n",
      "<<<-<\n",
      "\n",
      "实际字数: 335\n"
     ]
    },
    {
     "data": {
      "text/plain": [
       "[Document(page_content='1 修仙奇遇', metadata={'type': 'H1', 'id': '1'}),\n",
       " Document(page_content='1.1 灵根觉醒（1000字）', metadata={'type': 'H2', 'id': '1.1'}),\n",
       " Document(page_content='扩写要求：\\n- 主角背景介绍\\n- 灵根觉醒的过程及感悟', metadata={'type': 'paragraph', 'id': '1.1.0'}),\n",
       " Document(page_content='1.2 拜师学艺（1500字）', metadata={'type': 'H2', 'id': '1.2'}),\n",
       " Document(page_content='扩写要求：\\n- 师傅的挑选过程\\n- 学艺过程中的趣事及成长', metadata={'type': 'paragraph', 'id': '1.2.0'}),\n",
       " Document(page_content='2 修炼之路', metadata={'type': 'H1', 'id': '2'}),\n",
       " Document(page_content='2.1 炼气阶段（1000字）', metadata={'type': 'H2', 'id': '2.1'}),\n",
       " Document(page_content='扩写要求：\\n- 修炼中的艰辛与突破\\n- 首次运用法力的经历', metadata={'type': 'paragraph', 'id': '2.1.0'}),\n",
       " Document(page_content='2.2 筑基之难（1500字）', metadata={'type': 'H2', 'id': '2.2'}),\n",
       " Document(page_content='扩写要求：\\n- 筑基失败的挫折\\n- 再次挑战并成功的经历', metadata={'type': 'paragraph', 'id': '2.2.0'}),\n",
       " Document(page_content='3 历练之旅', metadata={'type': 'H1', 'id': '3'}),\n",
       " Document(page_content='3.1 妖兽山脉（1000字）', metadata={'type': 'H2', 'id': '3.1'}),\n",
       " Document(page_content='扩写要求：\\n- 遇到的危险与机遇\\n- 与妖兽的战斗及收获', metadata={'type': 'paragraph', 'id': '3.1.0'}),\n",
       " Document(page_content='3.2 古遗迹探险（1000字）', metadata={'type': 'H2', 'id': '3.2'}),\n",
       " Document(page_content='扩写要求：\\n- 古遗迹的神秘氛围\\n- 探险过程中的奇幻发现', metadata={'type': 'paragraph', 'id': '3.2.0'})]"
      ]
     },
     "execution_count": 3,
     "metadata": {},
     "output_type": "execute_result"
    }
   ],
   "source": [
    "w = Writing(llm=ChatZhipuAI())\n",
    "w.outline(\"请帮我创作5000字的修仙小说\")"
   ]
  },
  {
   "cell_type": "code",
   "execution_count": 8,
   "id": "cc46f1ef-36d9-4cbb-805f-595f05c5951e",
   "metadata": {},
   "outputs": [
    {
     "data": {
      "text/plain": [
       "[Document(page_content='1 修仙奇遇', metadata={'type': 'H1', 'id': '1'}),\n",
       " Document(page_content='1.1 灵根觉醒（1000字）', metadata={'type': 'H2', 'id': '1.1'}),\n",
       " Document(page_content='扩写要求：\\n- 主角背景介绍\\n- 灵根觉醒的过程及感悟', metadata={'type': 'paragraph', 'id': '1.1.0'}),\n",
       " Document(page_content='1.2 拜师学艺（1500字）', metadata={'type': 'H2', 'id': '1.2'}),\n",
       " Document(page_content='扩写要求：\\n- 师傅的挑选过程\\n- 学艺过程中的趣事及成长', metadata={'type': 'paragraph', 'id': '1.2.0'}),\n",
       " Document(page_content='2 修炼之路', metadata={'type': 'H1', 'id': '2'}),\n",
       " Document(page_content='2.1 炼气阶段（1000字）', metadata={'type': 'H2', 'id': '2.1'}),\n",
       " Document(page_content='扩写要求：\\n- 修炼中的艰辛与突破\\n- 首次运用法力的经历', metadata={'type': 'paragraph', 'id': '2.1.0'}),\n",
       " Document(page_content='2.2 筑基之难（1500字）', metadata={'type': 'H2', 'id': '2.2'}),\n",
       " Document(page_content='扩写要求：\\n- 筑基失败的挫折\\n- 再次挑战并成功的经历', metadata={'type': 'paragraph', 'id': '2.2.0'}),\n",
       " Document(page_content='3 历练之旅', metadata={'type': 'H1', 'id': '3'}),\n",
       " Document(page_content='3.1 妖兽山脉（1000字）', metadata={'type': 'H2', 'id': '3.1'}),\n",
       " Document(page_content='扩写要求：\\n- 遇到的危险与机遇\\n- 与妖兽的战斗及收获', metadata={'type': 'paragraph', 'id': '3.1.0'}),\n",
       " Document(page_content='3.2 古遗迹探险（1000字）', metadata={'type': 'H2', 'id': '3.2'}),\n",
       " Document(page_content='扩写要求：\\n- 古遗迹的神秘氛围\\n- 探险过程中的奇幻发现', metadata={'type': 'paragraph', 'id': '3.2.0'})]"
      ]
     },
     "execution_count": 8,
     "metadata": {},
     "output_type": "execute_result"
    }
   ],
   "source": [
    "w.target_outline.documents"
   ]
  },
  {
   "cell_type": "code",
   "execution_count": null,
   "id": "c01e2376-8d59-4597-a1ce-74d17d57910c",
   "metadata": {},
   "outputs": [],
   "source": []
  }
 ],
 "metadata": {
  "kernelspec": {
   "display_name": "langchani-book-py3.10-ipykernel",
   "language": "python",
   "name": "langchani-book-py3.10-ipykernel"
  },
  "language_info": {
   "codemirror_mode": {
    "name": "ipython",
    "version": 3
   },
   "file_extension": ".py",
   "mimetype": "text/x-python",
   "name": "python",
   "nbconvert_exporter": "python",
   "pygments_lexer": "ipython3",
   "version": "3.10.0"
  }
 },
 "nbformat": 4,
 "nbformat_minor": 5
}
