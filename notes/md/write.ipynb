{
 "cells": [
  {
   "cell_type": "code",
   "execution_count": 1,
   "id": "0a5cbfa2-68b6-49fb-90be-c8247b89e9cd",
   "metadata": {},
   "outputs": [],
   "source": [
    "from dotenv import load_dotenv, find_dotenv\n",
    "load_dotenv(find_dotenv(), override=True)\n",
    "\n",
    "import os\n",
    "os.chdir('..')"
   ]
  },
  {
   "cell_type": "code",
   "execution_count": 2,
   "id": "450ca6d0-4394-4fef-910f-5a1e4fde5ecd",
   "metadata": {},
   "outputs": [],
   "source": [
    "from textlong.md import Writing\n",
    "from langchain_zhipu import ChatZhipuAI\n",
    "from langchain_openai import ChatOpenAI\n",
    "from langchain.globals import set_verbose\n",
    "set_verbose(False)"
   ]
  },
  {
   "cell_type": "markdown",
   "id": "feae7059-3fab-437a-afcc-ec30ae0a9323",
   "metadata": {},
   "source": [
    "## 创意"
   ]
  },
  {
   "cell_type": "code",
   "execution_count": 3,
   "id": "b898daad-2fa8-4fce-8827-9ffcc381b7a2",
   "metadata": {},
   "outputs": [],
   "source": [
    "w = Writing(llm=ChatZhipuAI())"
   ]
  },
  {
   "cell_type": "code",
   "execution_count": 4,
   "id": "9d547a9b-ad28-4bc9-8c17-7b5664853d80",
   "metadata": {},
   "outputs": [
    {
     "name": "stdout",
     "output_type": "stream",
     "text": [
      ">->>>\n",
      "# 正则表达式概念总览\n",
      "\n",
      "## 基础概念\n",
      "- **字符匹配**\n",
      "  - 普通字符：直接匹配自身\n",
      "  - 元字符：具有特殊含义的字符，如 `.`、`\\d`、`\\w` 等\n",
      "- **量词**\n",
      "  - 表示字符出现的次数，如 `*`、`+`、`?`、`{n}`、`{n,}`、`{n,m}` 等\n",
      "- **位置匹配**\n",
      "  - 边界匹配符：`^`、`$`\n",
      "  - 环视（lookahead/lookbehind）\n",
      "\n",
      "## 高级概念\n",
      "- **分组与捕获**\n",
      "  - 括号 `()`：捕获组，用于分组匹配，可后向引用\n",
      "  - 非捕获组 `(?:)`\n",
      "- **选择符**\n",
      "  - `|`：表示逻辑或，匹配左侧或右侧模式\n",
      "- **反义字符**\n",
      "  - `[^]`：表示匹配不在括号内的字符\n",
      "- **引用与转义**\n",
      "  - `\\`：转义符，用于转义元字符，使其失去特殊含义\n",
      "  - `\\num`：后向引用，引用之前匹配的捕获组内容\n",
      "\n",
      "## 特殊概念\n",
      "- **预定义字符类**\n",
      "  - `\\d`、`\\D`、`\\w`、`\\W`、`\\s`、`\\S`\n",
      "- **贪婪与懒惰匹配**\n",
      "  - 贪婪模式：默认尽可能多地匹配字符\n",
      "  - 懒惰模式：使用 `?` 量词，尽可能少地匹配字符\n",
      "- **正向前瞻与负向前瞻**\n",
      "  - 正向前瞻：`x(?=y)`，x后必须紧跟y才匹配\n",
      "  - 负向前瞻：`x(?!y)`，x后不能紧跟y才匹配\n",
      "\n",
      "<<<-<\n",
      "\n",
      "实际字数: 612\n"
     ]
    },
    {
     "data": {
      "text/plain": [
       "[Document(page_content='# 正则表达式概念总览\\n\\n', metadata={'type': 'heading', 'attrs': {'level': 1}, 'style': 'axt', 'children': [{'type': 'text', 'raw': '正则表达式概念总览'}], 'id': '1717662970-0'}),\n",
       " Document(page_content='', metadata={'type': 'blank_line', 'id': '1717662970-1'}),\n",
       " Document(page_content='## 基础概念\\n\\n', metadata={'type': 'heading', 'attrs': {'level': 2}, 'style': 'axt', 'children': [{'type': 'text', 'raw': '基础概念'}], 'id': '1717662970-2'}),\n",
       " Document(page_content='- **字符匹配**\\n  - 普通字符：直接匹配自身\\n  - 元字符：具有特殊含义的字符，如 `.`、`\\\\d`、`\\\\w` 等\\n- **量词**\\n  - 表示字符出现的次数，如 `*`、`+`、`?`、`{n}`、`{n,}`、`{n,m}` 等\\n- **位置匹配**\\n  - 边界匹配符：`^`、`$`\\n  - 环视（lookahead/lookbehind）\\n\\n', metadata={'type': 'list', 'children': [{'type': 'list_item', 'children': [{'type': 'block_text', 'children': [{'type': 'strong', 'children': [{'type': 'text', 'raw': '字符匹配'}]}]}, {'type': 'list', 'children': [{'type': 'list_item', 'children': [{'type': 'block_text', 'children': [{'type': 'text', 'raw': '普通字符：直接匹配自身'}]}]}, {'type': 'list_item', 'children': [{'type': 'block_text', 'children': [{'type': 'text', 'raw': '元字符：具有特殊含义的字符，如 '}, {'type': 'codespan', 'raw': '.'}, {'type': 'text', 'raw': '、'}, {'type': 'codespan', 'raw': '\\\\d'}, {'type': 'text', 'raw': '、'}, {'type': 'codespan', 'raw': '\\\\w'}, {'type': 'text', 'raw': ' 等'}]}]}], 'tight': True, 'bullet': '-', 'attrs': {'depth': 1, 'ordered': False}, 'parent': {'leading': '- ', 'tight': True}}]}, {'type': 'list_item', 'children': [{'type': 'block_text', 'children': [{'type': 'strong', 'children': [{'type': 'text', 'raw': '量词'}]}]}, {'type': 'list', 'children': [{'type': 'list_item', 'children': [{'type': 'block_text', 'children': [{'type': 'text', 'raw': '表示字符出现的次数，如 '}, {'type': 'codespan', 'raw': '*'}, {'type': 'text', 'raw': '、'}, {'type': 'codespan', 'raw': '+'}, {'type': 'text', 'raw': '、'}, {'type': 'codespan', 'raw': '?'}, {'type': 'text', 'raw': '、'}, {'type': 'codespan', 'raw': '{n}'}, {'type': 'text', 'raw': '、'}, {'type': 'codespan', 'raw': '{n,}'}, {'type': 'text', 'raw': '、'}, {'type': 'codespan', 'raw': '{n,m}'}, {'type': 'text', 'raw': ' 等'}]}]}], 'tight': True, 'bullet': '-', 'attrs': {'depth': 1, 'ordered': False}, 'parent': {'leading': '- ', 'tight': True}}]}, {'type': 'list_item', 'children': [{'type': 'block_text', 'children': [{'type': 'strong', 'children': [{'type': 'text', 'raw': '位置匹配'}]}]}, {'type': 'list', 'children': [{'type': 'list_item', 'children': [{'type': 'block_text', 'children': [{'type': 'text', 'raw': '边界匹配符：'}, {'type': 'codespan', 'raw': '^'}, {'type': 'text', 'raw': '、'}, {'type': 'codespan', 'raw': '$'}]}]}, {'type': 'list_item', 'children': [{'type': 'block_text', 'children': [{'type': 'text', 'raw': '环视（lookahead/lookbehind）'}]}]}], 'tight': True, 'bullet': '-', 'attrs': {'depth': 1, 'ordered': False}, 'parent': {'leading': '- ', 'tight': True}}]}], 'tight': True, 'bullet': '-', 'attrs': {'depth': 0, 'ordered': False}, 'id': '1717662970-3'}),\n",
       " Document(page_content='## 高级概念\\n\\n', metadata={'type': 'heading', 'attrs': {'level': 2}, 'style': 'axt', 'children': [{'type': 'text', 'raw': '高级概念'}], 'id': '1717662970-4'}),\n",
       " Document(page_content='- **分组与捕获**\\n  - 括号 `()`：捕获组，用于分组匹配，可后向引用\\n  - 非捕获组 `(?:)`\\n- **选择符**\\n  - `|`：表示逻辑或，匹配左侧或右侧模式\\n- **反义字符**\\n  - `[^]`：表示匹配不在括号内的字符\\n- **引用与转义**\\n  - `\\\\`：转义符，用于转义元字符，使其失去特殊含义\\n  - `\\\\num`：后向引用，引用之前匹配的捕获组内容\\n\\n', metadata={'type': 'list', 'children': [{'type': 'list_item', 'children': [{'type': 'block_text', 'children': [{'type': 'strong', 'children': [{'type': 'text', 'raw': '分组与捕获'}]}]}, {'type': 'list', 'children': [{'type': 'list_item', 'children': [{'type': 'block_text', 'children': [{'type': 'text', 'raw': '括号 '}, {'type': 'codespan', 'raw': '()'}, {'type': 'text', 'raw': '：捕获组，用于分组匹配，可后向引用'}]}]}, {'type': 'list_item', 'children': [{'type': 'block_text', 'children': [{'type': 'text', 'raw': '非捕获组 '}, {'type': 'codespan', 'raw': '(?:)'}]}]}], 'tight': True, 'bullet': '-', 'attrs': {'depth': 1, 'ordered': False}, 'parent': {'leading': '- ', 'tight': True}}]}, {'type': 'list_item', 'children': [{'type': 'block_text', 'children': [{'type': 'strong', 'children': [{'type': 'text', 'raw': '选择符'}]}]}, {'type': 'list', 'children': [{'type': 'list_item', 'children': [{'type': 'block_text', 'children': [{'type': 'codespan', 'raw': '|'}, {'type': 'text', 'raw': '：表示逻辑或，匹配左侧或右侧模式'}]}]}], 'tight': True, 'bullet': '-', 'attrs': {'depth': 1, 'ordered': False}, 'parent': {'leading': '- ', 'tight': True}}]}, {'type': 'list_item', 'children': [{'type': 'block_text', 'children': [{'type': 'strong', 'children': [{'type': 'text', 'raw': '反义字符'}]}]}, {'type': 'list', 'children': [{'type': 'list_item', 'children': [{'type': 'block_text', 'children': [{'type': 'codespan', 'raw': '[^]'}, {'type': 'text', 'raw': '：表示匹配不在括号内的字符'}]}]}], 'tight': True, 'bullet': '-', 'attrs': {'depth': 1, 'ordered': False}, 'parent': {'leading': '- ', 'tight': True}}]}, {'type': 'list_item', 'children': [{'type': 'block_text', 'children': [{'type': 'strong', 'children': [{'type': 'text', 'raw': '引用与转义'}]}]}, {'type': 'list', 'children': [{'type': 'list_item', 'children': [{'type': 'block_text', 'children': [{'type': 'codespan', 'raw': '\\\\'}, {'type': 'text', 'raw': '：转义符，用于转义元字符，使其失去特殊含义'}]}]}, {'type': 'list_item', 'children': [{'type': 'block_text', 'children': [{'type': 'codespan', 'raw': '\\\\num'}, {'type': 'text', 'raw': '：后向引用，引用之前匹配的捕获组内容'}]}]}], 'tight': True, 'bullet': '-', 'attrs': {'depth': 1, 'ordered': False}, 'parent': {'leading': '- ', 'tight': True}}]}], 'tight': True, 'bullet': '-', 'attrs': {'depth': 0, 'ordered': False}, 'id': '1717662970-5'}),\n",
       " Document(page_content='## 特殊概念\\n\\n', metadata={'type': 'heading', 'attrs': {'level': 2}, 'style': 'axt', 'children': [{'type': 'text', 'raw': '特殊概念'}], 'id': '1717662970-6'}),\n",
       " Document(page_content='- **预定义字符类**\\n  - `\\\\d`、`\\\\D`、`\\\\w`、`\\\\W`、`\\\\s`、`\\\\S`\\n- **贪婪与懒惰匹配**\\n  - 贪婪模式：默认尽可能多地匹配字符\\n  - 懒惰模式：使用 `?` 量词，尽可能少地匹配字符\\n- **正向前瞻与负向前瞻**\\n  - 正向前瞻：`x(?=y)`，x后必须紧跟y才匹配\\n  - 负向前瞻：`x(?!y)`，x后不能紧跟y才匹配\\n\\n', metadata={'type': 'list', 'children': [{'type': 'list_item', 'children': [{'type': 'block_text', 'children': [{'type': 'strong', 'children': [{'type': 'text', 'raw': '预定义字符类'}]}]}, {'type': 'list', 'children': [{'type': 'list_item', 'children': [{'type': 'block_text', 'children': [{'type': 'codespan', 'raw': '\\\\d'}, {'type': 'text', 'raw': '、'}, {'type': 'codespan', 'raw': '\\\\D'}, {'type': 'text', 'raw': '、'}, {'type': 'codespan', 'raw': '\\\\w'}, {'type': 'text', 'raw': '、'}, {'type': 'codespan', 'raw': '\\\\W'}, {'type': 'text', 'raw': '、'}, {'type': 'codespan', 'raw': '\\\\s'}, {'type': 'text', 'raw': '、'}, {'type': 'codespan', 'raw': '\\\\S'}]}]}], 'tight': True, 'bullet': '-', 'attrs': {'depth': 1, 'ordered': False}, 'parent': {'leading': '- ', 'tight': True}}]}, {'type': 'list_item', 'children': [{'type': 'block_text', 'children': [{'type': 'strong', 'children': [{'type': 'text', 'raw': '贪婪与懒惰匹配'}]}]}, {'type': 'list', 'children': [{'type': 'list_item', 'children': [{'type': 'block_text', 'children': [{'type': 'text', 'raw': '贪婪模式：默认尽可能多地匹配字符'}]}]}, {'type': 'list_item', 'children': [{'type': 'block_text', 'children': [{'type': 'text', 'raw': '懒惰模式：使用 '}, {'type': 'codespan', 'raw': '?'}, {'type': 'text', 'raw': ' 量词，尽可能少地匹配字符'}]}]}], 'tight': True, 'bullet': '-', 'attrs': {'depth': 1, 'ordered': False}, 'parent': {'leading': '- ', 'tight': True}}]}, {'type': 'list_item', 'children': [{'type': 'block_text', 'children': [{'type': 'strong', 'children': [{'type': 'text', 'raw': '正向前瞻与负向前瞻'}]}]}, {'type': 'list', 'children': [{'type': 'list_item', 'children': [{'type': 'block_text', 'children': [{'type': 'text', 'raw': '正向前瞻：'}, {'type': 'codespan', 'raw': 'x(?=y)'}, {'type': 'text', 'raw': '，x后必须紧跟y才匹配'}]}]}, {'type': 'list_item', 'children': [{'type': 'block_text', 'children': [{'type': 'text', 'raw': '负向前瞻：'}, {'type': 'codespan', 'raw': 'x(?!y)'}, {'type': 'text', 'raw': '，x后不能紧跟y才匹配'}]}]}], 'tight': True, 'bullet': '-', 'attrs': {'depth': 1, 'ordered': False}, 'parent': {'leading': '- ', 'tight': True}}]}], 'tight': True, 'bullet': '-', 'attrs': {'depth': 0, 'ordered': False}, 'id': '1717662970-7'})]"
      ]
     },
     "execution_count": 4,
     "metadata": {},
     "output_type": "execute_result"
    }
   ],
   "source": [
    "w.idea(\"正则表达式都包括哪些概念？使用标题区分层次\")"
   ]
  },
  {
   "cell_type": "markdown",
   "id": "7fce53a7-d956-4a8c-bea7-d880a177c800",
   "metadata": {},
   "source": [
    "## 提纲"
   ]
  },
  {
   "cell_type": "code",
   "execution_count": 5,
   "id": "5bf85ace-7e04-4adf-a36f-6de66bf10816",
   "metadata": {},
   "outputs": [
    {
     "name": "stdout",
     "output_type": "stream",
     "text": [
      ">->>>\n",
      "# 《悟道星辰》\n",
      "\n",
      "## 主角介绍\n",
      "<OUTLINE>\n",
      "扩写要求：\n",
      "- 名字：洛清霜\n",
      "- 性格特点：冷静、坚韧、慧根深厚\n",
      "- 预估字数：100字\n",
      "- 创意要点：名字寓意着清高、不畏严寒，与修仙之途相符\n",
      "- 创作思路：通过主角性格特点，展现其在修仙道路上的成长与变化\n",
      "</OUTLINE>\n",
      "\n",
      "## 境界设定\n",
      "<OUTLINE>\n",
      "扩写要求：\n",
      "- 境界划分：筑基、开光、金丹、元婴等\n",
      "- 预估字数：80字\n",
      "- 创意要点：结合传统修仙小说的境界设定，适当创新\n",
      "- 创作思路：描述主角在各个境界中的修炼过程及心路历程\n",
      "</OUTLINE>\n",
      "\n",
      "## 情节大纲\n",
      "<OUTLINE>\n",
      "扩写要求：\n",
      "- 主线任务：寻找传说中的星辰之心，助力修仙\n",
      "- 预估字数：300字\n",
      "- 创意要点：融入探险、成长、友情、爱情等元素\n",
      "- 创作思路：以主角寻找星辰之心为主线，展开一系列冒险故事，展现主角的成长与情感变化\n",
      "</OUTLINE>\n",
      "\n",
      "## 结局设想\n",
      "<OUTLINE>\n",
      "扩写要求：\n",
      "- 设定一个开放式结局，展现主角继续追求修仙之路的决心\n",
      "- 预估字数：20字\n",
      "- 创意要点：让读者对主角的未来充满期待\n",
      "- 创作思路：以主角的成长和追求为主题，结束故事，留下想象空间\n",
      "</OUTLINE>\n",
      "\n",
      "<<<-<\n",
      "\n",
      "实际字数: 543\n"
     ]
    },
    {
     "data": {
      "text/plain": [
       "[Document(page_content='# 《悟道星辰》\\n\\n', metadata={'type': 'heading', 'attrs': {'level': 1}, 'style': 'axt', 'children': [{'type': 'text', 'raw': '《悟道星辰》'}], 'id': '1717663019-0'}),\n",
       " Document(page_content='', metadata={'type': 'blank_line', 'id': '1717663019-1'}),\n",
       " Document(page_content='## 主角介绍\\n\\n', metadata={'type': 'heading', 'attrs': {'level': 2}, 'style': 'axt', 'children': [{'type': 'text', 'raw': '主角介绍'}], 'id': '1717663019-2'}),\n",
       " Document(page_content='<OUTLINE>\\n扩写要求：\\n- 名字：洛清霜\\n- 性格特点：冷静、坚韧、慧根深厚\\n- 预估字数：100字\\n- 创意要点：名字寓意着清高、不畏严寒，与修仙之途相符\\n- 创作思路：通过主角性格特点，展现其在修仙道路上的成长与变化\\n</OUTLINE>', metadata={'id': '1717663019-3', 'type': 'OUTLINE'}),\n",
       " Document(page_content='', metadata={'type': 'blank_line', 'id': '1717663019-4'}),\n",
       " Document(page_content='## 境界设定\\n\\n', metadata={'type': 'heading', 'attrs': {'level': 2}, 'style': 'axt', 'children': [{'type': 'text', 'raw': '境界设定'}], 'id': '1717663019-5'}),\n",
       " Document(page_content='<OUTLINE>\\n扩写要求：\\n- 境界划分：筑基、开光、金丹、元婴等\\n- 预估字数：80字\\n- 创意要点：结合传统修仙小说的境界设定，适当创新\\n- 创作思路：描述主角在各个境界中的修炼过程及心路历程\\n</OUTLINE>', metadata={'id': '1717663019-6', 'type': 'OUTLINE'}),\n",
       " Document(page_content='', metadata={'type': 'blank_line', 'id': '1717663019-7'}),\n",
       " Document(page_content='## 情节大纲\\n\\n', metadata={'type': 'heading', 'attrs': {'level': 2}, 'style': 'axt', 'children': [{'type': 'text', 'raw': '情节大纲'}], 'id': '1717663019-8'}),\n",
       " Document(page_content='<OUTLINE>\\n扩写要求：\\n- 主线任务：寻找传说中的星辰之心，助力修仙\\n- 预估字数：300字\\n- 创意要点：融入探险、成长、友情、爱情等元素\\n- 创作思路：以主角寻找星辰之心为主线，展开一系列冒险故事，展现主角的成长与情感变化\\n</OUTLINE>', metadata={'id': '1717663019-9', 'type': 'OUTLINE'}),\n",
       " Document(page_content='', metadata={'type': 'blank_line', 'id': '1717663019-10'}),\n",
       " Document(page_content='## 结局设想\\n\\n', metadata={'type': 'heading', 'attrs': {'level': 2}, 'style': 'axt', 'children': [{'type': 'text', 'raw': '结局设想'}], 'id': '1717663019-11'}),\n",
       " Document(page_content='<OUTLINE>\\n扩写要求：\\n- 设定一个开放式结局，展现主角继续追求修仙之路的决心\\n- 预估字数：20字\\n- 创意要点：让读者对主角的未来充满期待\\n- 创作思路：以主角的成长和追求为主题，结束故事，留下想象空间\\n</OUTLINE>', metadata={'id': '1717663019-12', 'type': 'OUTLINE'}),\n",
       " Document(page_content='', metadata={'type': 'blank_line', 'id': '1717663019-13'})]"
      ]
     },
     "execution_count": 5,
     "metadata": {},
     "output_type": "execute_result"
    }
   ],
   "source": [
    "w.outline(\"请帮我创作500字的修仙小说，大女主设定，请给出主角的具体名字\")"
   ]
  },
  {
   "cell_type": "markdown",
   "id": "662b879b-ae11-4fed-9e58-bbb550d8f73e",
   "metadata": {},
   "source": [
    "## 扩写"
   ]
  },
  {
   "cell_type": "code",
   "execution_count": 7,
   "id": "c9010971-e026-425a-b5a7-bd953484e210",
   "metadata": {},
   "outputs": [
    {
     "name": "stdout",
     "output_type": "stream",
     "text": [
      ">->>>\n",
      "洛清霜，一个名字如同他的性格一般，清高而不畏严寒。他冷静应对各种困境，坚韧不拔地追求修仙之途。慧根深厚的他在修炼路上独具慧眼，总能洞察事物本质。随着修为的不断提升，洛清霜在成长与变化中逐渐明白，修仙之路并非一帆风顺，但他的决心从未动摇。\n",
      "<<<-<\n",
      "\n",
      "实际字数: 130\n",
      ">->>>\n",
      "在《悟道星辰》中，主角洛清霜的修仙之路分为筑基、开光、金丹、元婴等境界。筑基期，他苦练基本功，磨砺心志；开光期，眼界初开，感悟灵气奥秘；金丹期，凝聚金丹，修为大进；元婴期，灵魂与肉体交融，步入全新境界。每个阶段，洛清霜都经历了重重考验，心路历程跌宕起伏，逐渐领悟修仙之道。\n",
      "<<<-<\n",
      "\n",
      "实际字数: 148\n",
      ">->>>\n",
      "在《悟道星辰》的主线任务中，洛清霜踏上寻找传说中的星辰之心的征途。这颗心据说蕴含了宇宙间最纯粹的灵气，能够助力修仙者突破极限。在这个过程中，洛清霜不仅在险象环生的探险中成长，更在旅途中结识了志同道合的朋友，体验了友情的真挚与宝贵。他的心路历程同样交织着爱情的温柔与考验，面对情感的纠葛，他学会了用心去感受生命的多彩。\n",
      "\n",
      "每一次的历险都是一次心灵的磨砺，洛清霜在克服重重困难中逐渐揭开星辰之心的神秘面纱。他的修为在探寻中稳步提升，而对修仙之道的理解也越发深刻。星辰之心的寻找不仅是一场外在的冒险，更是内心深处自我认知的探索。\n",
      "<<<-<\n",
      "\n",
      "实际字数: 273\n",
      ">->>>\n",
      "星辰之心融入虚空，洛清霜目眺远方，脚步从未停歇。\n",
      "<<<-<\n",
      "\n",
      "实际字数: 36\n"
     ]
    },
    {
     "data": {
      "text/plain": [
       "[Document(page_content='# 《悟道星辰》\\n\\n', metadata={'type': 'heading', 'attrs': {'level': 1}, 'style': 'axt', 'children': [{'type': 'text', 'raw': '《悟道星辰》'}], 'id': '1717663019-0'}),\n",
       " Document(page_content='', metadata={'type': 'blank_line', 'id': '1717663019-1'}),\n",
       " Document(page_content='## 主角介绍\\n\\n', metadata={'type': 'heading', 'attrs': {'level': 2}, 'style': 'axt', 'children': [{'type': 'text', 'raw': '主角介绍'}], 'id': '1717663019-2'}),\n",
       " Document(page_content='洛清霜，一个名字如同他的性格一般，清高而不畏严寒。他冷静应对各种困境，坚韧不拔地追求修仙之途。慧根深厚的他在修炼路上独具慧眼，总能洞察事物本质。随着修为的不断提升，洛清霜在成长与变化中逐渐明白，修仙之路并非一帆风顺，但他的决心从未动摇。\\n\\n', metadata={'type': 'paragraph', 'children': [{'type': 'text', 'raw': '洛清霜，一个名字如同他的性格一般，清高而不畏严寒。他冷静应对各种困境，坚韧不拔地追求修仙之途。慧根深厚的他在修炼路上独具慧眼，总能洞察事物本质。随着修为的不断提升，洛清霜在成长与变化中逐渐明白，修仙之路并非一帆风顺，但他的决心从未动摇。'}], 'id': '1717663040-0'}),\n",
       " Document(page_content='', metadata={'type': 'blank_line', 'id': '1717663019-4'}),\n",
       " Document(page_content='## 境界设定\\n\\n', metadata={'type': 'heading', 'attrs': {'level': 2}, 'style': 'axt', 'children': [{'type': 'text', 'raw': '境界设定'}], 'id': '1717663019-5'}),\n",
       " Document(page_content='在《悟道星辰》中，主角洛清霜的修仙之路分为筑基、开光、金丹、元婴等境界。筑基期，他苦练基本功，磨砺心志；开光期，眼界初开，感悟灵气奥秘；金丹期，凝聚金丹，修为大进；元婴期，灵魂与肉体交融，步入全新境界。每个阶段，洛清霜都经历了重重考验，心路历程跌宕起伏，逐渐领悟修仙之道。\\n\\n', metadata={'type': 'paragraph', 'children': [{'type': 'text', 'raw': '在《悟道星辰》中，主角洛清霜的修仙之路分为筑基、开光、金丹、元婴等境界。筑基期，他苦练基本功，磨砺心志；开光期，眼界初开，感悟灵气奥秘；金丹期，凝聚金丹，修为大进；元婴期，灵魂与肉体交融，步入全新境界。每个阶段，洛清霜都经历了重重考验，心路历程跌宕起伏，逐渐领悟修仙之道。'}], 'id': '1717663045-0'}),\n",
       " Document(page_content='', metadata={'type': 'blank_line', 'id': '1717663019-7'}),\n",
       " Document(page_content='## 情节大纲\\n\\n', metadata={'type': 'heading', 'attrs': {'level': 2}, 'style': 'axt', 'children': [{'type': 'text', 'raw': '情节大纲'}], 'id': '1717663019-8'}),\n",
       " Document(page_content='在《悟道星辰》的主线任务中，洛清霜踏上寻找传说中的星辰之心的征途。这颗心据说蕴含了宇宙间最纯粹的灵气，能够助力修仙者突破极限。在这个过程中，洛清霜不仅在险象环生的探险中成长，更在旅途中结识了志同道合的朋友，体验了友情的真挚与宝贵。他的心路历程同样交织着爱情的温柔与考验，面对情感的纠葛，他学会了用心去感受生命的多彩。\\n\\n', metadata={'type': 'paragraph', 'children': [{'type': 'text', 'raw': '在《悟道星辰》的主线任务中，洛清霜踏上寻找传说中的星辰之心的征途。这颗心据说蕴含了宇宙间最纯粹的灵气，能够助力修仙者突破极限。在这个过程中，洛清霜不仅在险象环生的探险中成长，更在旅途中结识了志同道合的朋友，体验了友情的真挚与宝贵。他的心路历程同样交织着爱情的温柔与考验，面对情感的纠葛，他学会了用心去感受生命的多彩。'}], 'id': '1717663054-0'}),\n",
       " Document(page_content='', metadata={'type': 'blank_line', 'id': '1717663054-1'}),\n",
       " Document(page_content='每一次的历险都是一次心灵的磨砺，洛清霜在克服重重困难中逐渐揭开星辰之心的神秘面纱。他的修为在探寻中稳步提升，而对修仙之道的理解也越发深刻。星辰之心的寻找不仅是一场外在的冒险，更是内心深处自我认知的探索。\\n\\n', metadata={'type': 'paragraph', 'children': [{'type': 'text', 'raw': '每一次的历险都是一次心灵的磨砺，洛清霜在克服重重困难中逐渐揭开星辰之心的神秘面纱。他的修为在探寻中稳步提升，而对修仙之道的理解也越发深刻。星辰之心的寻找不仅是一场外在的冒险，更是内心深处自我认知的探索。'}], 'id': '1717663054-2'}),\n",
       " Document(page_content='', metadata={'type': 'blank_line', 'id': '1717663019-10'}),\n",
       " Document(page_content='## 结局设想\\n\\n', metadata={'type': 'heading', 'attrs': {'level': 2}, 'style': 'axt', 'children': [{'type': 'text', 'raw': '结局设想'}], 'id': '1717663019-11'}),\n",
       " Document(page_content='星辰之心融入虚空，洛清霜目眺远方，脚步从未停歇。\\n\\n', metadata={'type': 'paragraph', 'children': [{'type': 'text', 'raw': '星辰之心融入虚空，洛清霜目眺远方，脚步从未停歇。'}], 'id': '1717663057-0'}),\n",
       " Document(page_content='', metadata={'type': 'blank_line', 'id': '1717663019-13'})]"
      ]
     },
     "execution_count": 7,
     "metadata": {},
     "output_type": "execute_result"
    }
   ],
   "source": [
    "w.save_as_ref()\n",
    "w.detail()"
   ]
  },
  {
   "cell_type": "code",
   "execution_count": 8,
   "id": "d7c9f92b-35e4-4951-a4b4-3eae042bbe05",
   "metadata": {},
   "outputs": [
    {
     "name": "stdout",
     "output_type": "stream",
     "text": [
      "# 《悟道星辰》\n",
      "\n",
      "## 主角介绍\n",
      "\n",
      "洛清霜，一个名字如同他的性格一般，清高而不畏严寒。他冷静应对各种困境，坚韧不拔地追求修仙之途。慧根深厚的他在修炼路上独具慧眼，总能洞察事物本质。随着修为的不断提升，洛清霜在成长与变化中逐渐明白，修仙之路并非一帆风顺，但他的决心从未动摇。\n",
      "\n",
      "## 境界设定\n",
      "\n",
      "在《悟道星辰》中，主角洛清霜的修仙之路分为筑基、开光、金丹、元婴等境界。筑基期，他苦练基本功，磨砺心志；开光期，眼界初开，感悟灵气奥秘；金丹期，凝聚金丹，修为大进；元婴期，灵魂与肉体交融，步入全新境界。每个阶段，洛清霜都经历了重重考验，心路历程跌宕起伏，逐渐领悟修仙之道。\n",
      "\n",
      "## 情节大纲\n",
      "\n",
      "在《悟道星辰》的主线任务中，洛清霜踏上寻找传说中的星辰之心的征途。这颗心据说蕴含了宇宙间最纯粹的灵气，能够助力修仙者突破极限。在这个过程中，洛清霜不仅在险象环生的探险中成长，更在旅途中结识了志同道合的朋友，体验了友情的真挚与宝贵。他的心路历程同样交织着爱情的温柔与考验，面对情感的纠葛，他学会了用心去感受生命的多彩。\n",
      "\n",
      "每一次的历险都是一次心灵的磨砺，洛清霜在克服重重困难中逐渐揭开星辰之心的神秘面纱。他的修为在探寻中稳步提升，而对修仙之道的理解也越发深刻。星辰之心的寻找不仅是一场外在的冒险，更是内心深处自我认知的探索。\n",
      "\n",
      "## 结局设想\n",
      "\n",
      "星辰之心融入虚空，洛清霜目眺远方，脚步从未停歇。\n",
      "\n",
      "\n"
     ]
    }
   ],
   "source": [
    "print(w.markdown)"
   ]
  },
  {
   "cell_type": "code",
   "execution_count": 5,
   "id": "e73edd22-d062-46f9-815c-d9c580995f72",
   "metadata": {},
   "outputs": [
    {
     "name": "stdout",
     "output_type": "stream",
     "text": [
      ">->>>\n",
      "慕云瑶，出生于中层修仙家族慕家，一个既不算显赫也不平凡的家族。自小在家族中并未受到过多的关注和重视，她像是一颗被遗忘的明珠，静静地躺在家族的角落。在慕家的众多弟子中，她并不出众，没有令人惊叹的资质，也没有让人瞩目的成就，但她的内心却始终怀揣着对修仙之路的向往与坚持。\n",
      "<<<-<\n",
      "\n",
      "实际字数: 145\n",
      ">->>>\n",
      "在一次偶然的机会中，慕云瑶在家族的古老仓库中发现了一件神秘的法宝。这件法宝隐藏着不凡的力量，却也因此引来了强敌的觊觎。为了保护慕家，她被迫离家，开始了一段未知的修行之旅。在这段旅程中，慕云瑶不仅遇到了种种挑战，也结识了来自各路的仙友，他们各怀绝技，成为了她修行路上的助力与伙伴。\n",
      "<<<-<\n",
      "\n",
      "实际字数: 151\n",
      ">->>>\n",
      "在修炼的道路上，慕云瑶遭遇了无数的挑战和困难。起初，她的资质平凡，难以吸收天地灵气，修为增长缓慢。然而，她并未因此气馁，而是以坚定的信念和毅力，一点一滴地积累力量。在慕云瑶的修行过程中，她经历了种种磨练，从恶劣的环境中寻求生存，与猛兽搏斗，与心魔抗争。\n",
      "\n",
      "逐步地，慕云瑶开始突破自我，她学会了如何运用法宝，将其力量与自身修为相结合，发挥出惊人的威力。每一次的突破，都让她更加坚信自己能够成为一名真正的修仙者。而在心境上，她也经历了巨大的变化，从最初的迷茫、不安，逐渐变得坚定、自信。\n",
      "\n",
      "随着修为的提升，慕云瑶开始懂得如何去感悟天地间的奥妙，她的心境越来越宽广，成长的速度也让她的仙友为之惊叹。在这段旅程中，她学会了珍惜每一次的挫折，将困难化为动力，不断向前。\n",
      "<<<-<\n",
      "\n",
      "实际字数: 341\n",
      ">->>>\n",
      "在慕云瑶的旅程中，她面临了一次艰难的抉择。慕家突然遭遇了一场空前的危机，家族的未来悬于一线。一边是血脉相连的亲人，另一边是她苦心追求的修仙之路。在亲情与修仙的选择中，慕云瑶痛苦挣扎。最终，她选择了放下过去，承担起保护家族、引领家族走向光明的未来。她明白，修仙之路不仅仅是个人修行，更是肩负着家族的希望与责任。这次抉择，让慕云瑶变得更加成熟，也让她的修行之路增添了更多的意义。\n",
      "<<<-<\n",
      "\n",
      "实际字数: 199\n"
     ]
    },
    {
     "data": {
      "text/plain": [
       "[Document(page_content='', metadata={'type': 'blank_line', 'id': '1717661408-0'}),\n",
       " Document(page_content='# 修仙奇缘：慕云瑶的旅程\\n\\n', metadata={'type': 'heading', 'attrs': {'level': 1}, 'style': 'axt', 'children': [{'type': 'text', 'raw': '修仙奇缘：慕云瑶的旅程'}], 'id': '1717661408-1'}),\n",
       " Document(page_content='慕云瑶，出生于中层修仙家族慕家，一个既不算显赫也不平凡的家族。自小在家族中并未受到过多的关注和重视，她像是一颗被遗忘的明珠，静静地躺在家族的角落。在慕家的众多弟子中，她并不出众，没有令人惊叹的资质，也没有让人瞩目的成就，但她的内心却始终怀揣着对修仙之路的向往与坚持。\\n\\n', metadata={'type': 'paragraph', 'children': [{'type': 'text', 'raw': '慕云瑶，出生于中层修仙家族慕家，一个既不算显赫也不平凡的家族。自小在家族中并未受到过多的关注和重视，她像是一颗被遗忘的明珠，静静地躺在家族的角落。在慕家的众多弟子中，她并不出众，没有令人惊叹的资质，也没有让人瞩目的成就，但她的内心却始终怀揣着对修仙之路的向往与坚持。'}], 'id': '1717661432-0'}),\n",
       " Document(page_content='', metadata={'type': 'blank_line', 'id': '1717661408-3'}),\n",
       " Document(page_content='在一次偶然的机会中，慕云瑶在家族的古老仓库中发现了一件神秘的法宝。这件法宝隐藏着不凡的力量，却也因此引来了强敌的觊觎。为了保护慕家，她被迫离家，开始了一段未知的修行之旅。在这段旅程中，慕云瑶不仅遇到了种种挑战，也结识了来自各路的仙友，他们各怀绝技，成为了她修行路上的助力与伙伴。\\n\\n', metadata={'type': 'paragraph', 'children': [{'type': 'text', 'raw': '在一次偶然的机会中，慕云瑶在家族的古老仓库中发现了一件神秘的法宝。这件法宝隐藏着不凡的力量，却也因此引来了强敌的觊觎。为了保护慕家，她被迫离家，开始了一段未知的修行之旅。在这段旅程中，慕云瑶不仅遇到了种种挑战，也结识了来自各路的仙友，他们各怀绝技，成为了她修行路上的助力与伙伴。'}], 'id': '1717661437-0'}),\n",
       " Document(page_content='', metadata={'type': 'blank_line', 'id': '1717661408-5'}),\n",
       " Document(page_content='在修炼的道路上，慕云瑶遭遇了无数的挑战和困难。起初，她的资质平凡，难以吸收天地灵气，修为增长缓慢。然而，她并未因此气馁，而是以坚定的信念和毅力，一点一滴地积累力量。在慕云瑶的修行过程中，她经历了种种磨练，从恶劣的环境中寻求生存，与猛兽搏斗，与心魔抗争。\\n\\n', metadata={'type': 'paragraph', 'children': [{'type': 'text', 'raw': '在修炼的道路上，慕云瑶遭遇了无数的挑战和困难。起初，她的资质平凡，难以吸收天地灵气，修为增长缓慢。然而，她并未因此气馁，而是以坚定的信念和毅力，一点一滴地积累力量。在慕云瑶的修行过程中，她经历了种种磨练，从恶劣的环境中寻求生存，与猛兽搏斗，与心魔抗争。'}], 'id': '1717661444-0'}),\n",
       " Document(page_content='', metadata={'type': 'blank_line', 'id': '1717661444-1'}),\n",
       " Document(page_content='逐步地，慕云瑶开始突破自我，她学会了如何运用法宝，将其力量与自身修为相结合，发挥出惊人的威力。每一次的突破，都让她更加坚信自己能够成为一名真正的修仙者。而在心境上，她也经历了巨大的变化，从最初的迷茫、不安，逐渐变得坚定、自信。\\n\\n', metadata={'type': 'paragraph', 'children': [{'type': 'text', 'raw': '逐步地，慕云瑶开始突破自我，她学会了如何运用法宝，将其力量与自身修为相结合，发挥出惊人的威力。每一次的突破，都让她更加坚信自己能够成为一名真正的修仙者。而在心境上，她也经历了巨大的变化，从最初的迷茫、不安，逐渐变得坚定、自信。'}], 'id': '1717661444-2'}),\n",
       " Document(page_content='', metadata={'type': 'blank_line', 'id': '1717661444-3'}),\n",
       " Document(page_content='随着修为的提升，慕云瑶开始懂得如何去感悟天地间的奥妙，她的心境越来越宽广，成长的速度也让她的仙友为之惊叹。在这段旅程中，她学会了珍惜每一次的挫折，将困难化为动力，不断向前。\\n\\n', metadata={'type': 'paragraph', 'children': [{'type': 'text', 'raw': '随着修为的提升，慕云瑶开始懂得如何去感悟天地间的奥妙，她的心境越来越宽广，成长的速度也让她的仙友为之惊叹。在这段旅程中，她学会了珍惜每一次的挫折，将困难化为动力，不断向前。'}], 'id': '1717661444-4'}),\n",
       " Document(page_content='', metadata={'type': 'blank_line', 'id': '1717661408-7'}),\n",
       " Document(page_content='在慕云瑶的旅程中，她面临了一次艰难的抉择。慕家突然遭遇了一场空前的危机，家族的未来悬于一线。一边是血脉相连的亲人，另一边是她苦心追求的修仙之路。在亲情与修仙的选择中，慕云瑶痛苦挣扎。最终，她选择了放下过去，承担起保护家族、引领家族走向光明的未来。她明白，修仙之路不仅仅是个人修行，更是肩负着家族的希望与责任。这次抉择，让慕云瑶变得更加成熟，也让她的修行之路增添了更多的意义。\\n\\n', metadata={'type': 'paragraph', 'children': [{'type': 'text', 'raw': '在慕云瑶的旅程中，她面临了一次艰难的抉择。慕家突然遭遇了一场空前的危机，家族的未来悬于一线。一边是血脉相连的亲人，另一边是她苦心追求的修仙之路。在亲情与修仙的选择中，慕云瑶痛苦挣扎。最终，她选择了放下过去，承担起保护家族、引领家族走向光明的未来。她明白，修仙之路不仅仅是个人修行，更是肩负着家族的希望与责任。这次抉择，让慕云瑶变得更加成熟，也让她的修行之路增添了更多的意义。'}], 'id': '1717661450-0'}),\n",
       " Document(page_content='', metadata={'type': 'blank_line', 'id': '1717661408-9'})]"
      ]
     },
     "execution_count": 5,
     "metadata": {},
     "output_type": "execute_result"
    }
   ],
   "source": [
    "自定义提纲 = \"\"\"\n",
    "# 修仙奇缘：慕云瑶的旅程\n",
    "<OUTLINE>\n",
    "主题：介绍慕云瑶的来历（100字）\n",
    "扩写要求：\n",
    "- 主角名字：慕云瑶\n",
    "- 家族背景：中层修仙家族\n",
    "- 成长环境：在家族中不受重视\n",
    "</OUTLINE>\n",
    "\n",
    "<OUTLINE>\n",
    "主题：意外机缘（150字）\n",
    "扩写要求：\n",
    "- 偶得神秘法宝\n",
    "- 被迫离家修行\n",
    "- 结识各路仙友\n",
    "</OUTLINE>\n",
    "\n",
    "<OUTLINE>\n",
    "主题：修炼之路（200字）\n",
    "扩写要求：\n",
    "- 遇到的挑战和困难\n",
    "- 逐步突破自我\n",
    "- 心境变化与成长\n",
    "</OUTLINE>\n",
    "\n",
    "<OUTLINE>\n",
    "主题：慕云瑶的抉择（50字）\n",
    "扩写要求：\n",
    "- 家族危机\n",
    "- 亲情与修仙的选择\n",
    "- 放下过去，承担未来\n",
    "</OUTLINE>\n",
    "\"\"\"\n",
    "w = BaseWriting(ref_docs=自定义提纲, llm=ChatZhipuAI())\n",
    "w.detail()"
   ]
  },
  {
   "cell_type": "code",
   "execution_count": 6,
   "id": "424d678f-6417-45b7-b3e8-5c9ea841cda0",
   "metadata": {},
   "outputs": [
    {
     "name": "stdout",
     "output_type": "stream",
     "text": [
      "# 修仙奇缘：慕云瑶的旅程\n",
      "\n",
      "慕云瑶，出生于中层修仙家族慕家，一个既不算显赫也不平凡的家族。自小在家族中并未受到过多的关注和重视，她像是一颗被遗忘的明珠，静静地躺在家族的角落。在慕家的众多弟子中，她并不出众，没有令人惊叹的资质，也没有让人瞩目的成就，但她的内心却始终怀揣着对修仙之路的向往与坚持。\n",
      "\n",
      "在一次偶然的机会中，慕云瑶在家族的古老仓库中发现了一件神秘的法宝。这件法宝隐藏着不凡的力量，却也因此引来了强敌的觊觎。为了保护慕家，她被迫离家，开始了一段未知的修行之旅。在这段旅程中，慕云瑶不仅遇到了种种挑战，也结识了来自各路的仙友，他们各怀绝技，成为了她修行路上的助力与伙伴。\n",
      "\n",
      "在修炼的道路上，慕云瑶遭遇了无数的挑战和困难。起初，她的资质平凡，难以吸收天地灵气，修为增长缓慢。然而，她并未因此气馁，而是以坚定的信念和毅力，一点一滴地积累力量。在慕云瑶的修行过程中，她经历了种种磨练，从恶劣的环境中寻求生存，与猛兽搏斗，与心魔抗争。\n",
      "\n",
      "逐步地，慕云瑶开始突破自我，她学会了如何运用法宝，将其力量与自身修为相结合，发挥出惊人的威力。每一次的突破，都让她更加坚信自己能够成为一名真正的修仙者。而在心境上，她也经历了巨大的变化，从最初的迷茫、不安，逐渐变得坚定、自信。\n",
      "\n",
      "随着修为的提升，慕云瑶开始懂得如何去感悟天地间的奥妙，她的心境越来越宽广，成长的速度也让她的仙友为之惊叹。在这段旅程中，她学会了珍惜每一次的挫折，将困难化为动力，不断向前。\n",
      "\n",
      "在慕云瑶的旅程中，她面临了一次艰难的抉择。慕家突然遭遇了一场空前的危机，家族的未来悬于一线。一边是血脉相连的亲人，另一边是她苦心追求的修仙之路。在亲情与修仙的选择中，慕云瑶痛苦挣扎。最终，她选择了放下过去，承担起保护家族、引领家族走向光明的未来。她明白，修仙之路不仅仅是个人修行，更是肩负着家族的希望与责任。这次抉择，让慕云瑶变得更加成熟，也让她的修行之路增添了更多的意义。\n",
      "\n",
      "\n"
     ]
    }
   ],
   "source": [
    "print(w.markdown)"
   ]
  },
  {
   "cell_type": "markdown",
   "id": "0149d4ad-14ab-47a7-8722-e071b62ed305",
   "metadata": {},
   "source": [
    "## 提取"
   ]
  },
  {
   "cell_type": "markdown",
   "id": "fb5afaf5-d487-4fb9-960b-fa3a3b8070de",
   "metadata": {},
   "source": [
    "## 翻译"
   ]
  },
  {
   "cell_type": "code",
   "execution_count": null,
   "id": "7b257073-e608-49e3-81f4-b3e288870da1",
   "metadata": {},
   "outputs": [],
   "source": []
  }
 ],
 "metadata": {
  "kernelspec": {
   "display_name": "langchani-book-py3.10-ipykernel",
   "language": "python",
   "name": "langchani-book-py3.10-ipykernel"
  },
  "language_info": {
   "codemirror_mode": {
    "name": "ipython",
    "version": 3
   },
   "file_extension": ".py",
   "mimetype": "text/x-python",
   "name": "python",
   "nbconvert_exporter": "python",
   "pygments_lexer": "ipython3",
   "version": "3.10.0"
  }
 },
 "nbformat": 4,
 "nbformat_minor": 5
}
