{
 "cells": [
  {
   "cell_type": "code",
   "execution_count": 1,
   "id": "0a5cbfa2-68b6-49fb-90be-c8247b89e9cd",
   "metadata": {},
   "outputs": [],
   "source": [
    "from dotenv import load_dotenv, find_dotenv\n",
    "load_dotenv(find_dotenv(), override=True)\n",
    "\n",
    "import os\n",
    "os.chdir('..')"
   ]
  },
  {
   "cell_type": "code",
   "execution_count": 2,
   "id": "450ca6d0-4394-4fef-910f-5a1e4fde5ecd",
   "metadata": {},
   "outputs": [],
   "source": [
    "from textlong.md import BaseWriting, Outline, Detail\n",
    "from langchain_zhipu import ChatZhipuAI\n",
    "from langchain_openai import ChatOpenAI\n",
    "from langchain.globals import set_verbose\n",
    "set_verbose(False)"
   ]
  },
  {
   "cell_type": "markdown",
   "id": "feae7059-3fab-437a-afcc-ec30ae0a9323",
   "metadata": {},
   "source": [
    "## 直接创作"
   ]
  },
  {
   "cell_type": "code",
   "execution_count": 4,
   "id": "9d547a9b-ad28-4bc9-8c17-7b5664853d80",
   "metadata": {},
   "outputs": [
    {
     "name": "stdout",
     "output_type": "stream",
     "text": [
      ">->>>\n",
      "# 正则表达式概念总览\n",
      "\n",
      "## 基础概念\n",
      "- **字符匹配**\n",
      "  - 字母、数字、标点符号的直接匹配\n",
      "- **元字符**\n",
      "  - 如 `.`、`*`、`+`、`?`、`^`、`$`等，用于表达特殊匹配规则\n",
      "- **量词**\n",
      "  - 如 `*`（0次或多次）、`+`（1次或多次）、`?`（0次或1次）、`{n}`（恰好n次）、`{n,}`（至少n次）、`{n,m}`（n到m次）\n",
      "\n",
      "## 高级概念\n",
      "- **字符集**\n",
      "  - `[...]` 表示匹配集合内的任一字符，`[^...]` 表示不匹配集合内的任何字符\n",
      "- **位置匹配**\n",
      "  - `\\b`、`\\B` 分别匹配单词边界和非单词边界\n",
      "  - `^`、`$` 分别匹配字符串的开始和结束位置\n",
      "- **分组与引用**\n",
      "  - `(exp)` 表示捕获组，`\\n` 可以用于后向引用\n",
      "  - `(?:exp)` 非捕获组，不保存匹配的文本\n",
      "- **前瞻与回顾**\n",
      "  - `(?=exp)` 正向前瞻，`(?<=exp)` 正向后顾\n",
      "  - `(?!exp)` 负向前瞻，`(?<!exp)` 负向后顾\n",
      "- **贪婪与懒惰匹配**\n",
      "  - `*?`、`+?`、`??`、`{n,m}?` 等使量词变为懒惰匹配模式\n",
      "\n",
      "## 特殊概念\n",
      "- **回溯**\n",
      "  - 正则表达式引擎在匹配过程中尝试所有可能的路径，如果发现当前路径无法匹配，则退回到之前的状态，尝试另一条路径\n",
      "- **递归模式**\n",
      "  - 一些正则表达式引擎支持递归模式，允许模式的一部分重复匹配\n",
      "\n",
      "<<<-<\n",
      "\n",
      "实际字数: 667\n"
     ]
    },
    {
     "data": {
      "text/plain": [
       "[Document(page_content='# 正则表达式概念总览\\n\\n', metadata={'type': 'heading', 'attrs': {'level': 1}, 'style': 'axt', 'children': [{'type': 'text', 'raw': '正则表达式概念总览'}], 'id': '1717601921-0'}),\n",
       " Document(page_content='', metadata={'type': 'blank_line', 'id': '1717601921-1'}),\n",
       " Document(page_content='## 基础概念\\n\\n', metadata={'type': 'heading', 'attrs': {'level': 2}, 'style': 'axt', 'children': [{'type': 'text', 'raw': '基础概念'}], 'id': '1717601921-2'}),\n",
       " Document(page_content='- **字符匹配**\\n  - 字母、数字、标点符号的直接匹配\\n- **元字符**\\n  - 如 `.`、`*`、`+`、`?`、`^`、`$`等，用于表达特殊匹配规则\\n- **量词**\\n  - 如 `*`（0次或多次）、`+`（1次或多次）、`?`（0次或1次）、`{n}`（恰好n次）、`{n,}`（至少n次）、`{n,m}`（n到m次）\\n\\n', metadata={'type': 'list', 'children': [{'type': 'list_item', 'children': [{'type': 'block_text', 'children': [{'type': 'strong', 'children': [{'type': 'text', 'raw': '字符匹配'}]}]}, {'type': 'list', 'children': [{'type': 'list_item', 'children': [{'type': 'block_text', 'children': [{'type': 'text', 'raw': '字母、数字、标点符号的直接匹配'}]}]}], 'tight': True, 'bullet': '-', 'attrs': {'depth': 1, 'ordered': False}, 'parent': {'leading': '- ', 'tight': True}}]}, {'type': 'list_item', 'children': [{'type': 'block_text', 'children': [{'type': 'strong', 'children': [{'type': 'text', 'raw': '元字符'}]}]}, {'type': 'list', 'children': [{'type': 'list_item', 'children': [{'type': 'block_text', 'children': [{'type': 'text', 'raw': '如 '}, {'type': 'codespan', 'raw': '.'}, {'type': 'text', 'raw': '、'}, {'type': 'codespan', 'raw': '*'}, {'type': 'text', 'raw': '、'}, {'type': 'codespan', 'raw': '+'}, {'type': 'text', 'raw': '、'}, {'type': 'codespan', 'raw': '?'}, {'type': 'text', 'raw': '、'}, {'type': 'codespan', 'raw': '^'}, {'type': 'text', 'raw': '、'}, {'type': 'codespan', 'raw': '$'}, {'type': 'text', 'raw': '等，用于表达特殊匹配规则'}]}]}], 'tight': True, 'bullet': '-', 'attrs': {'depth': 1, 'ordered': False}, 'parent': {'leading': '- ', 'tight': True}}]}, {'type': 'list_item', 'children': [{'type': 'block_text', 'children': [{'type': 'strong', 'children': [{'type': 'text', 'raw': '量词'}]}]}, {'type': 'list', 'children': [{'type': 'list_item', 'children': [{'type': 'block_text', 'children': [{'type': 'text', 'raw': '如 '}, {'type': 'codespan', 'raw': '*'}, {'type': 'text', 'raw': '（0次或多次）、'}, {'type': 'codespan', 'raw': '+'}, {'type': 'text', 'raw': '（1次或多次）、'}, {'type': 'codespan', 'raw': '?'}, {'type': 'text', 'raw': '（0次或1次）、'}, {'type': 'codespan', 'raw': '{n}'}, {'type': 'text', 'raw': '（恰好n次）、'}, {'type': 'codespan', 'raw': '{n,}'}, {'type': 'text', 'raw': '（至少n次）、'}, {'type': 'codespan', 'raw': '{n,m}'}, {'type': 'text', 'raw': '（n到m次）'}]}]}], 'tight': True, 'bullet': '-', 'attrs': {'depth': 1, 'ordered': False}, 'parent': {'leading': '- ', 'tight': True}}]}], 'tight': True, 'bullet': '-', 'attrs': {'depth': 0, 'ordered': False}, 'id': '1717601921-3'}),\n",
       " Document(page_content='## 高级概念\\n\\n', metadata={'type': 'heading', 'attrs': {'level': 2}, 'style': 'axt', 'children': [{'type': 'text', 'raw': '高级概念'}], 'id': '1717601921-4'}),\n",
       " Document(page_content='- **字符集**\\n  - `[...]` 表示匹配集合内的任一字符，`[^...]` 表示不匹配集合内的任何字符\\n- **位置匹配**\\n  - `\\\\b`、`\\\\B` 分别匹配单词边界和非单词边界\\n  - `^`、`$` 分别匹配字符串的开始和结束位置\\n- **分组与引用**\\n  - `(exp)` 表示捕获组，`\\\\n` 可以用于后向引用\\n  - `(?:exp)` 非捕获组，不保存匹配的文本\\n- **前瞻与回顾**\\n  - `(?=exp)` 正向前瞻，`(?&lt;=exp)` 正向后顾\\n  - `(?!exp)` 负向前瞻，`(?&lt;!exp)` 负向后顾\\n- **贪婪与懒惰匹配**\\n  - `*?`、`+?`、`??`、`{n,m}?` 等使量词变为懒惰匹配模式\\n\\n', metadata={'type': 'list', 'children': [{'type': 'list_item', 'children': [{'type': 'block_text', 'children': [{'type': 'strong', 'children': [{'type': 'text', 'raw': '字符集'}]}]}, {'type': 'list', 'children': [{'type': 'list_item', 'children': [{'type': 'block_text', 'children': [{'type': 'codespan', 'raw': '[...]'}, {'type': 'text', 'raw': ' 表示匹配集合内的任一字符，'}, {'type': 'codespan', 'raw': '[^...]'}, {'type': 'text', 'raw': ' 表示不匹配集合内的任何字符'}]}]}], 'tight': True, 'bullet': '-', 'attrs': {'depth': 1, 'ordered': False}, 'parent': {'leading': '- ', 'tight': True}}]}, {'type': 'list_item', 'children': [{'type': 'block_text', 'children': [{'type': 'strong', 'children': [{'type': 'text', 'raw': '位置匹配'}]}]}, {'type': 'list', 'children': [{'type': 'list_item', 'children': [{'type': 'block_text', 'children': [{'type': 'codespan', 'raw': '\\\\b'}, {'type': 'text', 'raw': '、'}, {'type': 'codespan', 'raw': '\\\\B'}, {'type': 'text', 'raw': ' 分别匹配单词边界和非单词边界'}]}]}, {'type': 'list_item', 'children': [{'type': 'block_text', 'children': [{'type': 'codespan', 'raw': '^'}, {'type': 'text', 'raw': '、'}, {'type': 'codespan', 'raw': '$'}, {'type': 'text', 'raw': ' 分别匹配字符串的开始和结束位置'}]}]}], 'tight': True, 'bullet': '-', 'attrs': {'depth': 1, 'ordered': False}, 'parent': {'leading': '- ', 'tight': True}}]}, {'type': 'list_item', 'children': [{'type': 'block_text', 'children': [{'type': 'strong', 'children': [{'type': 'text', 'raw': '分组与引用'}]}]}, {'type': 'list', 'children': [{'type': 'list_item', 'children': [{'type': 'block_text', 'children': [{'type': 'codespan', 'raw': '(exp)'}, {'type': 'text', 'raw': ' 表示捕获组，'}, {'type': 'codespan', 'raw': '\\\\n'}, {'type': 'text', 'raw': ' 可以用于后向引用'}]}]}, {'type': 'list_item', 'children': [{'type': 'block_text', 'children': [{'type': 'codespan', 'raw': '(?:exp)'}, {'type': 'text', 'raw': ' 非捕获组，不保存匹配的文本'}]}]}], 'tight': True, 'bullet': '-', 'attrs': {'depth': 1, 'ordered': False}, 'parent': {'leading': '- ', 'tight': True}}]}, {'type': 'list_item', 'children': [{'type': 'block_text', 'children': [{'type': 'strong', 'children': [{'type': 'text', 'raw': '前瞻与回顾'}]}]}, {'type': 'list', 'children': [{'type': 'list_item', 'children': [{'type': 'block_text', 'children': [{'type': 'codespan', 'raw': '(?=exp)'}, {'type': 'text', 'raw': ' 正向前瞻，'}, {'type': 'codespan', 'raw': '(?&lt;=exp)'}, {'type': 'text', 'raw': ' 正向后顾'}]}]}, {'type': 'list_item', 'children': [{'type': 'block_text', 'children': [{'type': 'codespan', 'raw': '(?!exp)'}, {'type': 'text', 'raw': ' 负向前瞻，'}, {'type': 'codespan', 'raw': '(?&lt;!exp)'}, {'type': 'text', 'raw': ' 负向后顾'}]}]}], 'tight': True, 'bullet': '-', 'attrs': {'depth': 1, 'ordered': False}, 'parent': {'leading': '- ', 'tight': True}}]}, {'type': 'list_item', 'children': [{'type': 'block_text', 'children': [{'type': 'strong', 'children': [{'type': 'text', 'raw': '贪婪与懒惰匹配'}]}]}, {'type': 'list', 'children': [{'type': 'list_item', 'children': [{'type': 'block_text', 'children': [{'type': 'codespan', 'raw': '*?'}, {'type': 'text', 'raw': '、'}, {'type': 'codespan', 'raw': '+?'}, {'type': 'text', 'raw': '、'}, {'type': 'codespan', 'raw': '??'}, {'type': 'text', 'raw': '、'}, {'type': 'codespan', 'raw': '{n,m}?'}, {'type': 'text', 'raw': ' 等使量词变为懒惰匹配模式'}]}]}], 'tight': True, 'bullet': '-', 'attrs': {'depth': 1, 'ordered': False}, 'parent': {'leading': '- ', 'tight': True}}]}], 'tight': True, 'bullet': '-', 'attrs': {'depth': 0, 'ordered': False}, 'id': '1717601921-5'}),\n",
       " Document(page_content='## 特殊概念\\n\\n', metadata={'type': 'heading', 'attrs': {'level': 2}, 'style': 'axt', 'children': [{'type': 'text', 'raw': '特殊概念'}], 'id': '1717601921-6'}),\n",
       " Document(page_content='- **回溯**\\n  - 正则表达式引擎在匹配过程中尝试所有可能的路径，如果发现当前路径无法匹配，则退回到之前的状态，尝试另一条路径\\n- **递归模式**\\n  - 一些正则表达式引擎支持递归模式，允许模式的一部分重复匹配\\n\\n', metadata={'type': 'list', 'children': [{'type': 'list_item', 'children': [{'type': 'block_text', 'children': [{'type': 'strong', 'children': [{'type': 'text', 'raw': '回溯'}]}]}, {'type': 'list', 'children': [{'type': 'list_item', 'children': [{'type': 'block_text', 'children': [{'type': 'text', 'raw': '正则表达式引擎在匹配过程中尝试所有可能的路径，如果发现当前路径无法匹配，则退回到之前的状态，尝试另一条路径'}]}]}], 'tight': True, 'bullet': '-', 'attrs': {'depth': 1, 'ordered': False}, 'parent': {'leading': '- ', 'tight': True}}]}, {'type': 'list_item', 'children': [{'type': 'block_text', 'children': [{'type': 'strong', 'children': [{'type': 'text', 'raw': '递归模式'}]}]}, {'type': 'list', 'children': [{'type': 'list_item', 'children': [{'type': 'block_text', 'children': [{'type': 'text', 'raw': '一些正则表达式引擎支持递归模式，允许模式的一部分重复匹配'}]}]}], 'tight': True, 'bullet': '-', 'attrs': {'depth': 1, 'ordered': False}, 'parent': {'leading': '- ', 'tight': True}}]}], 'tight': True, 'bullet': '-', 'attrs': {'depth': 0, 'ordered': False}, 'id': '1717601921-7'})]"
      ]
     },
     "execution_count": 4,
     "metadata": {},
     "output_type": "execute_result"
    }
   ],
   "source": [
    "w = BaseWriting(llm=ChatZhipuAI())\n",
    "w.write(\"正则表达式都包括哪些概念？使用标题区分层次\")"
   ]
  },
  {
   "cell_type": "code",
   "execution_count": 3,
   "id": "5bf85ace-7e04-4adf-a36f-6de66bf10816",
   "metadata": {},
   "outputs": [
    {
     "name": "stdout",
     "output_type": "stream",
     "text": [
      ">->>>\n",
      "# 《天命仙途》\n",
      "\n",
      "## 第一章 紫霄剑仙（200字）\n",
      "<OUTLINE>\n",
      "扩写要求：\n",
      "- 主角名字：李清瑶\n",
      "- 描述主角外貌特点\n",
      "- 主角修仙天赋的描述\n",
      "</OUTLINE>\n",
      "\n",
      "## 第二章 拜师学艺（150字）\n",
      "<OUTLINE>\n",
      "扩写要求：\n",
      "- 主角拜师的经过\n",
      "- 师傅的修仙境界和性格特点\n",
      "- 主角修炼的艰辛和进步\n",
      "</OUTLINE>\n",
      "\n",
      "## 第三章 灵兽相伴（150字）\n",
      "<OUTLINE>\n",
      "扩写要求：\n",
      "- 描述主角获得的灵兽及其特点\n",
      "- 灵兽与主角的互动\n",
      "- 灵兽在修仙途中的助力\n",
      "</OUTLINE>\n",
      "\n",
      "<<<-<\n",
      "\n",
      "实际字数: 271\n"
     ]
    },
    {
     "data": {
      "text/plain": [
       "[Document(page_content='# 《天命仙途》\\n\\n', metadata={'type': 'heading', 'attrs': {'level': 1}, 'style': 'axt', 'children': [{'type': 'text', 'raw': '《天命仙途》'}], 'id': '1717602058-0'}),\n",
       " Document(page_content='', metadata={'type': 'blank_line', 'id': '1717602058-1'}),\n",
       " Document(page_content='## 第一章 紫霄剑仙（200字）\\n\\n', metadata={'type': 'heading', 'attrs': {'level': 2}, 'style': 'axt', 'children': [{'type': 'text', 'raw': '第一章 紫霄剑仙（200字）'}], 'id': '1717602058-2'}),\n",
       " Document(page_content='<OUTLINE>\\n扩写要求：\\n- 主角名字：李清瑶\\n- 描述主角外貌特点\\n- 主角修仙天赋的描述\\n</OUTLINE>', metadata={'id': '1717602058-3', 'type': 'OUTLINE'}),\n",
       " Document(page_content='', metadata={'type': 'blank_line', 'id': '1717602058-4'}),\n",
       " Document(page_content='## 第二章 拜师学艺（150字）\\n\\n', metadata={'type': 'heading', 'attrs': {'level': 2}, 'style': 'axt', 'children': [{'type': 'text', 'raw': '第二章 拜师学艺（150字）'}], 'id': '1717602058-5'}),\n",
       " Document(page_content='<OUTLINE>\\n扩写要求：\\n- 主角拜师的经过\\n- 师傅的修仙境界和性格特点\\n- 主角修炼的艰辛和进步\\n</OUTLINE>', metadata={'id': '1717602058-6', 'type': 'OUTLINE'}),\n",
       " Document(page_content='', metadata={'type': 'blank_line', 'id': '1717602058-7'}),\n",
       " Document(page_content='## 第三章 灵兽相伴（150字）\\n\\n', metadata={'type': 'heading', 'attrs': {'level': 2}, 'style': 'axt', 'children': [{'type': 'text', 'raw': '第三章 灵兽相伴（150字）'}], 'id': '1717602058-8'}),\n",
       " Document(page_content='<OUTLINE>\\n扩写要求：\\n- 描述主角获得的灵兽及其特点\\n- 灵兽与主角的互动\\n- 灵兽在修仙途中的助力\\n</OUTLINE>', metadata={'id': '1717602058-9', 'type': 'OUTLINE'}),\n",
       " Document(page_content='', metadata={'type': 'blank_line', 'id': '1717602058-10'})]"
      ]
     },
     "execution_count": 3,
     "metadata": {},
     "output_type": "execute_result"
    }
   ],
   "source": [
    "ol = Outline(llm=ChatZhipuAI())\n",
    "ol.write(\"请帮我创作500字的修仙小说，大女主设定，请给出主角的具体名字\")"
   ]
  },
  {
   "cell_type": "markdown",
   "id": "662b879b-ae11-4fed-9e58-bbb550d8f73e",
   "metadata": {},
   "source": [
    "## 扩写"
   ]
  },
  {
   "cell_type": "code",
   "execution_count": 4,
   "id": "901ac0ca-6e7b-4d7c-8412-1dcb7b7f5d85",
   "metadata": {},
   "outputs": [
    {
     "name": "stdout",
     "output_type": "stream",
     "text": [
      ">->>>\n",
      "# 《天命仙途》\n",
      "\n",
      "## 第一章 紫霄剑仙\n",
      "\n",
      "李清瑶，眉目如画，肌肤胜雪，长发如墨，气质高雅而不失灵动。她的眼眸深邃，宛若星辰，透露出一股不凡的气质。修长的身姿，宛如风中摇曳的翠竹，既坚韧又充满生机。\n",
      "\n",
      "清瑶自幼便展现出惊人的修仙天赋，灵根纯净，吸纳天地灵气之速度远胜常人。她对于各类法术的领悟力极高，诸多复杂的仙术只需稍加点拨便能融会贯通。在修仙的道路上，李清瑶似乎注定要走得更远，触摸到那飘渺的天道。\n",
      "<<<<<<<\n",
      "</OUTLINE>\n",
      "\n",
      "## 第二章 拜师学艺\n",
      "\n",
      "## 第三章 灵兽相伴\n",
      "\n",
      "<<<-<\n",
      "\n",
      "实际字数: 260\n",
      ">->>>\n",
      "## 第二章 拜师学艺\n",
      "\n",
      "一日，李清瑶于山涧偶遇一位神秘剑仙，剑仙名为紫霄真人，其修为深不可测，已达化神之境。紫霄真人性格孤傲，不轻易收徒，但见到李清瑶的灵根与天赋后，不禁心动，决定传授其剑道真谛。\n",
      "\n",
      "### 师傅的修仙境界和性格特点\n",
      "\n",
      "紫霄真人修为高深，已达化神之境，其剑法出神入化，威震仙界。他性格冷峻，不喜与人交往，但对李清瑶却是青睐有加，视为衣钵传人。他对待修仙之道极为严谨，对李清瑶的修炼要求也极为苛刻。\n",
      "\n",
      "### 主角修炼的艰辛和进步\n",
      "\n",
      "在紫霄真人的指导下，李清瑶开始了艰辛的修炼之路。她日以继夜地修炼剑法，研磨剑意，却多次因境界不足而受创。然而，她凭借坚定的意志和过人的天赋，不断突破自我，剑法日益精进。在经历了无数次的失败与磨砺后，李清瑶终于领悟了紫霄剑法的精髓，修为也随之水涨船高。\n",
      "\n",
      "<<<-<\n",
      "\n",
      "实际字数: 363\n",
      ">->>>\n",
      "## 第三章 灵兽相伴\n",
      "\n",
      "在一次深入山脉的修炼之旅中，李清瑶意外发现了一只受伤的小型灵兽。这灵兽状似麒麟，却拥有凤羽，名为“碧落”，其角间流转着神秘的灵气，它身上的每一片羽毛都闪烁着七彩光芒。碧落性格温顺却又机智过人，能通晓主人心意。\n",
      "\n",
      "### 灵兽与主角的互动\n",
      "\n",
      "碧落与李清瑶之间很快建立起了深厚的情感。在日常修炼中，它会用其灵气帮助李清瑶净化周围的灵气，辅助修炼；在李清瑶疲惫时，它会轻柔地用头蹭她，给予无声的安慰。碧落仿佛成了李清瑶修炼路上的知心伙伴。\n",
      "\n",
      "### 灵兽在修仙途中的助力\n",
      "\n",
      "随着碧落的伤愈，它的能力也逐渐展现出来。它不仅能在战斗中为李清瑶预警，还能释放强大的灵力波动，协助李清瑶抵御强敌。在一次遭遇敌袭的关键时刻，碧落展现了它的天赋异禀——其凤羽瞬间化作锋利的剑刃，将敌人击退。在李清瑶的修仙途中，碧落无疑成了她的一大助力，使她在修仙的道路上越走越远。\n",
      "<<<-<\n",
      "\n",
      "实际字数: 398\n"
     ]
    },
    {
     "data": {
      "text/plain": [
       "[Document(page_content='# 《天命仙途》\\n\\n', metadata={'type': 'heading', 'attrs': {'level': 1}, 'style': 'axt', 'children': [{'type': 'text', 'raw': '《天命仙途》'}], 'id': '1717602058-0'}),\n",
       " Document(page_content='', metadata={'type': 'blank_line', 'id': '1717602058-1'}),\n",
       " Document(page_content='## 第一章 紫霄剑仙（200字）\\n\\n', metadata={'type': 'heading', 'attrs': {'level': 2}, 'style': 'axt', 'children': [{'type': 'text', 'raw': '第一章 紫霄剑仙（200字）'}], 'id': '1717602058-2'}),\n",
       " Document(page_content='# 《天命仙途》\\n\\n', metadata={'type': 'heading', 'attrs': {'level': 1}, 'style': 'axt', 'children': [{'type': 'text', 'raw': '《天命仙途》'}], 'id': '1717602079-0'}),\n",
       " Document(page_content='', metadata={'type': 'blank_line', 'id': '1717602079-1'}),\n",
       " Document(page_content='## 第一章 紫霄剑仙\\n\\n', metadata={'type': 'heading', 'attrs': {'level': 2}, 'style': 'axt', 'children': [{'type': 'text', 'raw': '第一章 紫霄剑仙'}], 'id': '1717602079-2'}),\n",
       " Document(page_content='', metadata={'type': 'blank_line', 'id': '1717602079-3'}),\n",
       " Document(page_content='李清瑶，眉目如画，肌肤胜雪，长发如墨，气质高雅而不失灵动。她的眼眸深邃，宛若星辰，透露出一股不凡的气质。修长的身姿，宛如风中摇曳的翠竹，既坚韧又充满生机。\\n\\n', metadata={'type': 'paragraph', 'children': [{'type': 'text', 'raw': '李清瑶，眉目如画，肌肤胜雪，长发如墨，气质高雅而不失灵动。她的眼眸深邃，宛若星辰，透露出一股不凡的气质。修长的身姿，宛如风中摇曳的翠竹，既坚韧又充满生机。'}], 'id': '1717602079-4'}),\n",
       " Document(page_content='', metadata={'type': 'blank_line', 'id': '1717602079-5'}),\n",
       " Document(page_content='清瑶自幼便展现出惊人的修仙天赋，灵根纯净，吸纳天地灵气之速度远胜常人。她对于各类法术的领悟力极高，诸多复杂的仙术只需稍加点拨便能融会贯通。在修仙的道路上，李清瑶似乎注定要走得更远，触摸到那飘渺的天道。\\n<<<<<<<\\n</OUTLINE>\\n\\n', metadata={'type': 'paragraph', 'children': [{'type': 'text', 'raw': '清瑶自幼便展现出惊人的修仙天赋，灵根纯净，吸纳天地灵气之速度远胜常人。她对于各类法术的领悟力极高，诸多复杂的仙术只需稍加点拨便能融会贯通。在修仙的道路上，李清瑶似乎注定要走得更远，触摸到那飘渺的天道。'}, {'type': 'softbreak'}, {'type': 'text', 'raw': '<<<<<<<'}, {'type': 'softbreak'}, {'type': 'inline_html', 'raw': '</OUTLINE>'}], 'id': '1717602079-6'}),\n",
       " Document(page_content='', metadata={'type': 'blank_line', 'id': '1717602079-7'}),\n",
       " Document(page_content='## 第二章 拜师学艺\\n\\n', metadata={'type': 'heading', 'attrs': {'level': 2}, 'style': 'axt', 'children': [{'type': 'text', 'raw': '第二章 拜师学艺'}], 'id': '1717602079-8'}),\n",
       " Document(page_content='', metadata={'type': 'blank_line', 'id': '1717602079-9'}),\n",
       " Document(page_content='## 第三章 灵兽相伴\\n\\n', metadata={'type': 'heading', 'attrs': {'level': 2}, 'style': 'axt', 'children': [{'type': 'text', 'raw': '第三章 灵兽相伴'}], 'id': '1717602079-10'}),\n",
       " Document(page_content='<OUTLINE>\\n扩写要求：\\n- 主角名字：李清瑶\\n- 描述主角外貌特点\\n- 主角修仙天赋的描述\\n</OUTLINE>', metadata={'id': '1717602058-3', 'type': 'OUTLINE'}),\n",
       " Document(page_content='', metadata={'type': 'blank_line', 'id': '1717602058-4'}),\n",
       " Document(page_content='## 第二章 拜师学艺（150字）\\n\\n', metadata={'type': 'heading', 'attrs': {'level': 2}, 'style': 'axt', 'children': [{'type': 'text', 'raw': '第二章 拜师学艺（150字）'}], 'id': '1717602058-5'}),\n",
       " Document(page_content='## 第二章 拜师学艺\\n\\n', metadata={'type': 'heading', 'attrs': {'level': 2}, 'style': 'axt', 'children': [{'type': 'text', 'raw': '第二章 拜师学艺'}], 'id': '1717602089-0'}),\n",
       " Document(page_content='', metadata={'type': 'blank_line', 'id': '1717602089-1'}),\n",
       " Document(page_content='一日，李清瑶于山涧偶遇一位神秘剑仙，剑仙名为紫霄真人，其修为深不可测，已达化神之境。紫霄真人性格孤傲，不轻易收徒，但见到李清瑶的灵根与天赋后，不禁心动，决定传授其剑道真谛。\\n\\n', metadata={'type': 'paragraph', 'children': [{'type': 'text', 'raw': '一日，李清瑶于山涧偶遇一位神秘剑仙，剑仙名为紫霄真人，其修为深不可测，已达化神之境。紫霄真人性格孤傲，不轻易收徒，但见到李清瑶的灵根与天赋后，不禁心动，决定传授其剑道真谛。'}], 'id': '1717602089-2'}),\n",
       " Document(page_content='', metadata={'type': 'blank_line', 'id': '1717602089-3'}),\n",
       " Document(page_content='### 师傅的修仙境界和性格特点\\n\\n', metadata={'type': 'heading', 'attrs': {'level': 3}, 'style': 'axt', 'children': [{'type': 'text', 'raw': '师傅的修仙境界和性格特点'}], 'id': '1717602089-4'}),\n",
       " Document(page_content='', metadata={'type': 'blank_line', 'id': '1717602089-5'}),\n",
       " Document(page_content='紫霄真人修为高深，已达化神之境，其剑法出神入化，威震仙界。他性格冷峻，不喜与人交往，但对李清瑶却是青睐有加，视为衣钵传人。他对待修仙之道极为严谨，对李清瑶的修炼要求也极为苛刻。\\n\\n', metadata={'type': 'paragraph', 'children': [{'type': 'text', 'raw': '紫霄真人修为高深，已达化神之境，其剑法出神入化，威震仙界。他性格冷峻，不喜与人交往，但对李清瑶却是青睐有加，视为衣钵传人。他对待修仙之道极为严谨，对李清瑶的修炼要求也极为苛刻。'}], 'id': '1717602089-6'}),\n",
       " Document(page_content='', metadata={'type': 'blank_line', 'id': '1717602089-7'}),\n",
       " Document(page_content='### 主角修炼的艰辛和进步\\n\\n', metadata={'type': 'heading', 'attrs': {'level': 3}, 'style': 'axt', 'children': [{'type': 'text', 'raw': '主角修炼的艰辛和进步'}], 'id': '1717602089-8'}),\n",
       " Document(page_content='', metadata={'type': 'blank_line', 'id': '1717602089-9'}),\n",
       " Document(page_content='在紫霄真人的指导下，李清瑶开始了艰辛的修炼之路。她日以继夜地修炼剑法，研磨剑意，却多次因境界不足而受创。然而，她凭借坚定的意志和过人的天赋，不断突破自我，剑法日益精进。在经历了无数次的失败与磨砺后，李清瑶终于领悟了紫霄剑法的精髓，修为也随之水涨船高。\\n\\n', metadata={'type': 'paragraph', 'children': [{'type': 'text', 'raw': '在紫霄真人的指导下，李清瑶开始了艰辛的修炼之路。她日以继夜地修炼剑法，研磨剑意，却多次因境界不足而受创。然而，她凭借坚定的意志和过人的天赋，不断突破自我，剑法日益精进。在经历了无数次的失败与磨砺后，李清瑶终于领悟了紫霄剑法的精髓，修为也随之水涨船高。'}], 'id': '1717602089-10'}),\n",
       " Document(page_content='<OUTLINE>\\n扩写要求：\\n- 主角拜师的经过\\n- 师傅的修仙境界和性格特点\\n- 主角修炼的艰辛和进步\\n</OUTLINE>', metadata={'id': '1717602058-6', 'type': 'OUTLINE'}),\n",
       " Document(page_content='', metadata={'type': 'blank_line', 'id': '1717602058-7'}),\n",
       " Document(page_content='## 第三章 灵兽相伴（150字）\\n\\n', metadata={'type': 'heading', 'attrs': {'level': 2}, 'style': 'axt', 'children': [{'type': 'text', 'raw': '第三章 灵兽相伴（150字）'}], 'id': '1717602058-8'}),\n",
       " Document(page_content='## 第三章 灵兽相伴\\n\\n', metadata={'type': 'heading', 'attrs': {'level': 2}, 'style': 'axt', 'children': [{'type': 'text', 'raw': '第三章 灵兽相伴'}], 'id': '1717602101-0'}),\n",
       " Document(page_content='', metadata={'type': 'blank_line', 'id': '1717602101-1'}),\n",
       " Document(page_content='在一次深入山脉的修炼之旅中，李清瑶意外发现了一只受伤的小型灵兽。这灵兽状似麒麟，却拥有凤羽，名为“碧落”，其角间流转着神秘的灵气，它身上的每一片羽毛都闪烁着七彩光芒。碧落性格温顺却又机智过人，能通晓主人心意。\\n\\n', metadata={'type': 'paragraph', 'children': [{'type': 'text', 'raw': '在一次深入山脉的修炼之旅中，李清瑶意外发现了一只受伤的小型灵兽。这灵兽状似麒麟，却拥有凤羽，名为“碧落”，其角间流转着神秘的灵气，它身上的每一片羽毛都闪烁着七彩光芒。碧落性格温顺却又机智过人，能通晓主人心意。'}], 'id': '1717602101-2'}),\n",
       " Document(page_content='', metadata={'type': 'blank_line', 'id': '1717602101-3'}),\n",
       " Document(page_content='### 灵兽与主角的互动\\n\\n', metadata={'type': 'heading', 'attrs': {'level': 3}, 'style': 'axt', 'children': [{'type': 'text', 'raw': '灵兽与主角的互动'}], 'id': '1717602101-4'}),\n",
       " Document(page_content='', metadata={'type': 'blank_line', 'id': '1717602101-5'}),\n",
       " Document(page_content='碧落与李清瑶之间很快建立起了深厚的情感。在日常修炼中，它会用其灵气帮助李清瑶净化周围的灵气，辅助修炼；在李清瑶疲惫时，它会轻柔地用头蹭她，给予无声的安慰。碧落仿佛成了李清瑶修炼路上的知心伙伴。\\n\\n', metadata={'type': 'paragraph', 'children': [{'type': 'text', 'raw': '碧落与李清瑶之间很快建立起了深厚的情感。在日常修炼中，它会用其灵气帮助李清瑶净化周围的灵气，辅助修炼；在李清瑶疲惫时，它会轻柔地用头蹭她，给予无声的安慰。碧落仿佛成了李清瑶修炼路上的知心伙伴。'}], 'id': '1717602101-6'}),\n",
       " Document(page_content='', metadata={'type': 'blank_line', 'id': '1717602101-7'}),\n",
       " Document(page_content='### 灵兽在修仙途中的助力\\n\\n', metadata={'type': 'heading', 'attrs': {'level': 3}, 'style': 'axt', 'children': [{'type': 'text', 'raw': '灵兽在修仙途中的助力'}], 'id': '1717602101-8'}),\n",
       " Document(page_content='', metadata={'type': 'blank_line', 'id': '1717602101-9'}),\n",
       " Document(page_content='随着碧落的伤愈，它的能力也逐渐展现出来。它不仅能在战斗中为李清瑶预警，还能释放强大的灵力波动，协助李清瑶抵御强敌。在一次遭遇敌袭的关键时刻，碧落展现了它的天赋异禀——其凤羽瞬间化作锋利的剑刃，将敌人击退。在李清瑶的修仙途中，碧落无疑成了她的一大助力，使她在修仙的道路上越走越远。\\n\\n', metadata={'type': 'paragraph', 'children': [{'type': 'text', 'raw': '随着碧落的伤愈，它的能力也逐渐展现出来。它不仅能在战斗中为李清瑶预警，还能释放强大的灵力波动，协助李清瑶抵御强敌。在一次遭遇敌袭的关键时刻，碧落展现了它的天赋异禀——其凤羽瞬间化作锋利的剑刃，将敌人击退。在李清瑶的修仙途中，碧落无疑成了她的一大助力，使她在修仙的道路上越走越远。'}], 'id': '1717602101-10'}),\n",
       " Document(page_content='<OUTLINE>\\n扩写要求：\\n- 描述主角获得的灵兽及其特点\\n- 灵兽与主角的互动\\n- 灵兽在修仙途中的助力\\n</OUTLINE>', metadata={'id': '1717602058-9', 'type': 'OUTLINE'}),\n",
       " Document(page_content='', metadata={'type': 'blank_line', 'id': '1717602058-10'})]"
      ]
     },
     "execution_count": 4,
     "metadata": {},
     "output_type": "execute_result"
    }
   ],
   "source": [
    "detail = Detail(source=ol)\n",
    "detail.write()"
   ]
  },
  {
   "cell_type": "code",
   "execution_count": 5,
   "id": "e1849635-fb18-45ac-bc4a-332426cf88f4",
   "metadata": {},
   "outputs": [
    {
     "name": "stdout",
     "output_type": "stream",
     "text": [
      "# 《天命仙途》\n",
      "\n",
      "## 第一章 紫霄剑仙（200字）\n",
      "\n",
      "# 《天命仙途》\n",
      "\n",
      "## 第一章 紫霄剑仙\n",
      "\n",
      "李清瑶，眉目如画，肌肤胜雪，长发如墨，气质高雅而不失灵动。她的眼眸深邃，宛若星辰，透露出一股不凡的气质。修长的身姿，宛如风中摇曳的翠竹，既坚韧又充满生机。\n",
      "\n",
      "清瑶自幼便展现出惊人的修仙天赋，灵根纯净，吸纳天地灵气之速度远胜常人。她对于各类法术的领悟力极高，诸多复杂的仙术只需稍加点拨便能融会贯通。在修仙的道路上，李清瑶似乎注定要走得更远，触摸到那飘渺的天道。\n",
      "<<<<<<<\n",
      "</OUTLINE>\n",
      "\n",
      "## 第二章 拜师学艺\n",
      "\n",
      "## 第三章 灵兽相伴\n",
      "\n",
      "## 第二章 拜师学艺（150字）\n",
      "\n",
      "## 第二章 拜师学艺\n",
      "\n",
      "一日，李清瑶于山涧偶遇一位神秘剑仙，剑仙名为紫霄真人，其修为深不可测，已达化神之境。紫霄真人性格孤傲，不轻易收徒，但见到李清瑶的灵根与天赋后，不禁心动，决定传授其剑道真谛。\n",
      "\n",
      "### 师傅的修仙境界和性格特点\n",
      "\n",
      "紫霄真人修为高深，已达化神之境，其剑法出神入化，威震仙界。他性格冷峻，不喜与人交往，但对李清瑶却是青睐有加，视为衣钵传人。他对待修仙之道极为严谨，对李清瑶的修炼要求也极为苛刻。\n",
      "\n",
      "### 主角修炼的艰辛和进步\n",
      "\n",
      "在紫霄真人的指导下，李清瑶开始了艰辛的修炼之路。她日以继夜地修炼剑法，研磨剑意，却多次因境界不足而受创。然而，她凭借坚定的意志和过人的天赋，不断突破自我，剑法日益精进。在经历了无数次的失败与磨砺后，李清瑶终于领悟了紫霄剑法的精髓，修为也随之水涨船高。\n",
      "\n",
      "## 第三章 灵兽相伴（150字）\n",
      "\n",
      "## 第三章 灵兽相伴\n",
      "\n",
      "在一次深入山脉的修炼之旅中，李清瑶意外发现了一只受伤的小型灵兽。这灵兽状似麒麟，却拥有凤羽，名为“碧落”，其角间流转着神秘的灵气，它身上的每一片羽毛都闪烁着七彩光芒。碧落性格温顺却又机智过人，能通晓主人心意。\n",
      "\n",
      "### 灵兽与主角的互动\n",
      "\n",
      "碧落与李清瑶之间很快建立起了深厚的情感。在日常修炼中，它会用其灵气帮助李清瑶净化周围的灵气，辅助修炼；在李清瑶疲惫时，它会轻柔地用头蹭她，给予无声的安慰。碧落仿佛成了李清瑶修炼路上的知心伙伴。\n",
      "\n",
      "### 灵兽在修仙途中的助力\n",
      "\n",
      "随着碧落的伤愈，它的能力也逐渐展现出来。它不仅能在战斗中为李清瑶预警，还能释放强大的灵力波动，协助李清瑶抵御强敌。在一次遭遇敌袭的关键时刻，碧落展现了它的天赋异禀——其凤羽瞬间化作锋利的剑刃，将敌人击退。在李清瑶的修仙途中，碧落无疑成了她的一大助力，使她在修仙的道路上越走越远。\n",
      "\n",
      "\n"
     ]
    }
   ],
   "source": [
    "print(detail.markdown)"
   ]
  },
  {
   "cell_type": "code",
   "execution_count": 23,
   "id": "e73edd22-d062-46f9-815c-d9c580995f72",
   "metadata": {},
   "outputs": [
    {
     "name": "stdout",
     "output_type": "stream",
     "text": [
      ">->>>\n",
      "在浩瀚的修仙世界中，慕云瑶出生于一个中层修仙家族——慕家。在这个家族中，她并没有得到应有的重视。身为家族中的边缘人物，慕云瑶的童年充满了孤独与寂寞。然而，正是在这样的成长环境下，她磨练出了坚韧的意志和独立自主的性格，为自己的未来铺就了一条充满奇迹的修仙之路。\n",
      "<<<-<\n",
      "\n",
      "实际字数: 141\n",
      ">->>>\n",
      "在一次偶然的机会中，慕云瑶在家族的藏书阁深处发现了一件神秘的法宝。这件法宝散发着淡淡的光辉，似乎蕴含着无穷的力量。慕云瑶在好奇心的驱使下，小心翼翼地将法宝捧在手中，那一刻，她感觉到一股温暖的能量涌入自己的身体，她的修为在瞬间有了质的飞跃。\n",
      "\n",
      "然而，这样的变化并没有得到家族的认可，反而引起了族中长老的忌惮。为了保护慕云瑶，也为了让她能够更好地修行，家族决定让她离开慕家，踏上了一条未知的修行之路。\n",
      "\n",
      "在离家修行的过程中，慕云瑶历经磨难，但也因此结识了来自各路仙门的仙友。他们有的精通阵法，有的擅长炼丹，还有的则是剑术高手。在与这些仙友的交流切磋中，慕云瑶不仅增长了见识，还学到了许多宝贵的修行经验，她的修为也因此突飞猛进。\n",
      "\n",
      "<<<-<\n",
      "\n",
      "实际字数: 324\n",
      ">->>>\n",
      "修炼之路并非坦途，慕云瑶在旅途中遭遇了无数的挑战和困难。她曾在险恶的山谷中与凶猛的妖兽激战，也曾在冰冷的水潭底闭关修炼，对抗心魔的诱惑。每一次的挑战，都像是一次生死考验，让她的身心受到极大的压迫。\n",
      "\n",
      "然而，正是这些艰难困苦，锻炼了慕云瑶的意志，她逐步突破了自己的极限。在战斗中，她学会了如何将体内的真气与法宝的力量完美结合，创造出强大的攻击力；在修炼中，她学会了如何在灵气稀薄的环境中凝练真元，提升自己的修为。\n",
      "\n",
      "随着修为的不断提升，慕云瑶的心境也在悄然发生变化。她不再是那个孤独无助的小女孩，而是一个自信且坚定的修仙者。在修行的道路上，她逐渐明白了修仙的真谛不仅仅是追求力量，更是心性的磨砺与成长。每一次的挑战，每一次的突破，都让她的心灵变得更加坚韧，更加包容。\n",
      "\n",
      "如今，慕云瑶已不再是慕家那个默默无闻的小辈，她用自己的实力赢得了他人的尊重。在这条修炼之路上，她将继续前行，追求更高的境界，成就自己的修仙传奇。\n",
      "<<<-<\n",
      "\n",
      "实际字数: 418\n",
      ">->>>\n",
      "## 慕云瑶的抉择\n",
      "\n",
      "慕云瑶的家族正面临着空前的危机，一股来自外界的强大势力正试图渗透并控制慕家。面对家族的存亡，慕云瑶深知自己不能坐视不管，即使她内心深处知道修仙之路是她真正的追求。\n",
      "\n",
      "在亲情和修仙之间，慕云瑶陷入了两难的抉择。一边是血脉相连的家族，一边是心中不灭的修仙梦想。无数个夜晚，她独自一人凝视星空，思考着自己的未来。最终，她决定放下个人的修仙梦，回归家族，承担起保护家族的重任。\n",
      "\n",
      "慕云瑶的归来，给家族带来了新的希望。她运用在修炼中积累的智慧和力量，制定了一系列应对策略。在她的带领下，慕家族人团结一心，成功击退了外敌的多次侵扰。\n",
      "\n",
      "经历这场危机，慕云瑶明白了责任的重要性。她意识到，修仙不仅仅是个人的修行，更是对周围人的守护。放下过去的执着，她承担起了家族的未来，同时也没有放弃修仙的梦想。在保护家族的同时，她更加努力地修炼，希望有朝一日能够以更强的力量，守护她所爱的一切。\n",
      "\n",
      "如今，慕云瑶的名字在慕家族人中传颂，她成为了家族的骄傲和希望的象征。在责任与梦想的双重驱动下，慕云瑶将继续前行，不断超越自我，用她的智慧和勇气，书写属于自己的修仙传奇。\n",
      "<<<-<\n",
      "\n",
      "实际字数: 492\n"
     ]
    },
    {
     "data": {
      "text/plain": [
       "[Document(page_content='', metadata={'type': 'blank_line', 'id': '1717578972-0'}),\n",
       " Document(page_content='# 修仙奇缘：慕云瑶的旅程\\n\\n', metadata={'type': 'heading', 'attrs': {'level': 1}, 'style': 'axt', 'children': [{'type': 'text', 'raw': '修仙奇缘：慕云瑶的旅程'}], 'id': '1717578972-1'}),\n",
       " Document(page_content='在浩瀚的修仙世界中，慕云瑶出生于一个中层修仙家族——慕家。在这个家族中，她并没有得到应有的重视。身为家族中的边缘人物，慕云瑶的童年充满了孤独与寂寞。然而，正是在这样的成长环境下，她磨练出了坚韧的意志和独立自主的性格，为自己的未来铺就了一条充满奇迹的修仙之路。\\n\\n', metadata={'type': 'paragraph', 'children': [{'type': 'text', 'raw': '在浩瀚的修仙世界中，慕云瑶出生于一个中层修仙家族——慕家。在这个家族中，她并没有得到应有的重视。身为家族中的边缘人物，慕云瑶的童年充满了孤独与寂寞。然而，正是在这样的成长环境下，她磨练出了坚韧的意志和独立自主的性格，为自己的未来铺就了一条充满奇迹的修仙之路。'}], 'id': '1717578981-0'}),\n",
       " Document(page_content='<OUTLINE>\\n主题：介绍慕云瑶的来历（100字）\\n扩写要求：\\n- 主角名字：慕云瑶\\n- 家族背景：中层修仙家族\\n- 成长环境：在家族中不受重视\\n</OUTLINE>', metadata={'id': '1717578972-2', 'type': 'OUTLINE'}),\n",
       " Document(page_content='', metadata={'type': 'blank_line', 'id': '1717578972-3'}),\n",
       " Document(page_content='在一次偶然的机会中，慕云瑶在家族的藏书阁深处发现了一件神秘的法宝。这件法宝散发着淡淡的光辉，似乎蕴含着无穷的力量。慕云瑶在好奇心的驱使下，小心翼翼地将法宝捧在手中，那一刻，她感觉到一股温暖的能量涌入自己的身体，她的修为在瞬间有了质的飞跃。\\n\\n', metadata={'type': 'paragraph', 'children': [{'type': 'text', 'raw': '在一次偶然的机会中，慕云瑶在家族的藏书阁深处发现了一件神秘的法宝。这件法宝散发着淡淡的光辉，似乎蕴含着无穷的力量。慕云瑶在好奇心的驱使下，小心翼翼地将法宝捧在手中，那一刻，她感觉到一股温暖的能量涌入自己的身体，她的修为在瞬间有了质的飞跃。'}], 'id': '1717578990-0'}),\n",
       " Document(page_content='', metadata={'type': 'blank_line', 'id': '1717578990-1'}),\n",
       " Document(page_content='然而，这样的变化并没有得到家族的认可，反而引起了族中长老的忌惮。为了保护慕云瑶，也为了让她能够更好地修行，家族决定让她离开慕家，踏上了一条未知的修行之路。\\n\\n', metadata={'type': 'paragraph', 'children': [{'type': 'text', 'raw': '然而，这样的变化并没有得到家族的认可，反而引起了族中长老的忌惮。为了保护慕云瑶，也为了让她能够更好地修行，家族决定让她离开慕家，踏上了一条未知的修行之路。'}], 'id': '1717578990-2'}),\n",
       " Document(page_content='', metadata={'type': 'blank_line', 'id': '1717578990-3'}),\n",
       " Document(page_content='在离家修行的过程中，慕云瑶历经磨难，但也因此结识了来自各路仙门的仙友。他们有的精通阵法，有的擅长炼丹，还有的则是剑术高手。在与这些仙友的交流切磋中，慕云瑶不仅增长了见识，还学到了许多宝贵的修行经验，她的修为也因此突飞猛进。\\n\\n', metadata={'type': 'paragraph', 'children': [{'type': 'text', 'raw': '在离家修行的过程中，慕云瑶历经磨难，但也因此结识了来自各路仙门的仙友。他们有的精通阵法，有的擅长炼丹，还有的则是剑术高手。在与这些仙友的交流切磋中，慕云瑶不仅增长了见识，还学到了许多宝贵的修行经验，她的修为也因此突飞猛进。'}], 'id': '1717578990-4'}),\n",
       " Document(page_content='<OUTLINE>\\n主题：意外机缘（150字）\\n扩写要求：\\n- 偶得神秘法宝\\n- 被迫离家修行\\n- 结识各路仙友\\n</OUTLINE>', metadata={'id': '1717578972-4', 'type': 'OUTLINE'}),\n",
       " Document(page_content='', metadata={'type': 'blank_line', 'id': '1717578972-5'}),\n",
       " Document(page_content='修炼之路并非坦途，慕云瑶在旅途中遭遇了无数的挑战和困难。她曾在险恶的山谷中与凶猛的妖兽激战，也曾在冰冷的水潭底闭关修炼，对抗心魔的诱惑。每一次的挑战，都像是一次生死考验，让她的身心受到极大的压迫。\\n\\n', metadata={'type': 'paragraph', 'children': [{'type': 'text', 'raw': '修炼之路并非坦途，慕云瑶在旅途中遭遇了无数的挑战和困难。她曾在险恶的山谷中与凶猛的妖兽激战，也曾在冰冷的水潭底闭关修炼，对抗心魔的诱惑。每一次的挑战，都像是一次生死考验，让她的身心受到极大的压迫。'}], 'id': '1717579002-0'}),\n",
       " Document(page_content='', metadata={'type': 'blank_line', 'id': '1717579002-1'}),\n",
       " Document(page_content='然而，正是这些艰难困苦，锻炼了慕云瑶的意志，她逐步突破了自己的极限。在战斗中，她学会了如何将体内的真气与法宝的力量完美结合，创造出强大的攻击力；在修炼中，她学会了如何在灵气稀薄的环境中凝练真元，提升自己的修为。\\n\\n', metadata={'type': 'paragraph', 'children': [{'type': 'text', 'raw': '然而，正是这些艰难困苦，锻炼了慕云瑶的意志，她逐步突破了自己的极限。在战斗中，她学会了如何将体内的真气与法宝的力量完美结合，创造出强大的攻击力；在修炼中，她学会了如何在灵气稀薄的环境中凝练真元，提升自己的修为。'}], 'id': '1717579002-2'}),\n",
       " Document(page_content='', metadata={'type': 'blank_line', 'id': '1717579002-3'}),\n",
       " Document(page_content='随着修为的不断提升，慕云瑶的心境也在悄然发生变化。她不再是那个孤独无助的小女孩，而是一个自信且坚定的修仙者。在修行的道路上，她逐渐明白了修仙的真谛不仅仅是追求力量，更是心性的磨砺与成长。每一次的挑战，每一次的突破，都让她的心灵变得更加坚韧，更加包容。\\n\\n', metadata={'type': 'paragraph', 'children': [{'type': 'text', 'raw': '随着修为的不断提升，慕云瑶的心境也在悄然发生变化。她不再是那个孤独无助的小女孩，而是一个自信且坚定的修仙者。在修行的道路上，她逐渐明白了修仙的真谛不仅仅是追求力量，更是心性的磨砺与成长。每一次的挑战，每一次的突破，都让她的心灵变得更加坚韧，更加包容。'}], 'id': '1717579002-4'}),\n",
       " Document(page_content='', metadata={'type': 'blank_line', 'id': '1717579002-5'}),\n",
       " Document(page_content='如今，慕云瑶已不再是慕家那个默默无闻的小辈，她用自己的实力赢得了他人的尊重。在这条修炼之路上，她将继续前行，追求更高的境界，成就自己的修仙传奇。\\n\\n', metadata={'type': 'paragraph', 'children': [{'type': 'text', 'raw': '如今，慕云瑶已不再是慕家那个默默无闻的小辈，她用自己的实力赢得了他人的尊重。在这条修炼之路上，她将继续前行，追求更高的境界，成就自己的修仙传奇。'}], 'id': '1717579002-6'}),\n",
       " Document(page_content='<OUTLINE>\\n主题：修炼之路（200字）\\n扩写要求：\\n- 遇到的挑战和困难\\n- 逐步突破自我\\n- 心境变化与成长\\n</OUTLINE>', metadata={'id': '1717578972-6', 'type': 'OUTLINE'}),\n",
       " Document(page_content='', metadata={'type': 'blank_line', 'id': '1717578972-7'}),\n",
       " Document(page_content='## 慕云瑶的抉择\\n\\n', metadata={'type': 'heading', 'attrs': {'level': 2}, 'style': 'axt', 'children': [{'type': 'text', 'raw': '慕云瑶的抉择'}], 'id': '1717579017-0'}),\n",
       " Document(page_content='', metadata={'type': 'blank_line', 'id': '1717579017-1'}),\n",
       " Document(page_content='慕云瑶的家族正面临着空前的危机，一股来自外界的强大势力正试图渗透并控制慕家。面对家族的存亡，慕云瑶深知自己不能坐视不管，即使她内心深处知道修仙之路是她真正的追求。\\n\\n', metadata={'type': 'paragraph', 'children': [{'type': 'text', 'raw': '慕云瑶的家族正面临着空前的危机，一股来自外界的强大势力正试图渗透并控制慕家。面对家族的存亡，慕云瑶深知自己不能坐视不管，即使她内心深处知道修仙之路是她真正的追求。'}], 'id': '1717579017-2'}),\n",
       " Document(page_content='', metadata={'type': 'blank_line', 'id': '1717579017-3'}),\n",
       " Document(page_content='在亲情和修仙之间，慕云瑶陷入了两难的抉择。一边是血脉相连的家族，一边是心中不灭的修仙梦想。无数个夜晚，她独自一人凝视星空，思考着自己的未来。最终，她决定放下个人的修仙梦，回归家族，承担起保护家族的重任。\\n\\n', metadata={'type': 'paragraph', 'children': [{'type': 'text', 'raw': '在亲情和修仙之间，慕云瑶陷入了两难的抉择。一边是血脉相连的家族，一边是心中不灭的修仙梦想。无数个夜晚，她独自一人凝视星空，思考着自己的未来。最终，她决定放下个人的修仙梦，回归家族，承担起保护家族的重任。'}], 'id': '1717579017-4'}),\n",
       " Document(page_content='', metadata={'type': 'blank_line', 'id': '1717579017-5'}),\n",
       " Document(page_content='慕云瑶的归来，给家族带来了新的希望。她运用在修炼中积累的智慧和力量，制定了一系列应对策略。在她的带领下，慕家族人团结一心，成功击退了外敌的多次侵扰。\\n\\n', metadata={'type': 'paragraph', 'children': [{'type': 'text', 'raw': '慕云瑶的归来，给家族带来了新的希望。她运用在修炼中积累的智慧和力量，制定了一系列应对策略。在她的带领下，慕家族人团结一心，成功击退了外敌的多次侵扰。'}], 'id': '1717579017-6'}),\n",
       " Document(page_content='', metadata={'type': 'blank_line', 'id': '1717579017-7'}),\n",
       " Document(page_content='经历这场危机，慕云瑶明白了责任的重要性。她意识到，修仙不仅仅是个人的修行，更是对周围人的守护。放下过去的执着，她承担起了家族的未来，同时也没有放弃修仙的梦想。在保护家族的同时，她更加努力地修炼，希望有朝一日能够以更强的力量，守护她所爱的一切。\\n\\n', metadata={'type': 'paragraph', 'children': [{'type': 'text', 'raw': '经历这场危机，慕云瑶明白了责任的重要性。她意识到，修仙不仅仅是个人的修行，更是对周围人的守护。放下过去的执着，她承担起了家族的未来，同时也没有放弃修仙的梦想。在保护家族的同时，她更加努力地修炼，希望有朝一日能够以更强的力量，守护她所爱的一切。'}], 'id': '1717579017-8'}),\n",
       " Document(page_content='', metadata={'type': 'blank_line', 'id': '1717579017-9'}),\n",
       " Document(page_content='如今，慕云瑶的名字在慕家族人中传颂，她成为了家族的骄傲和希望的象征。在责任与梦想的双重驱动下，慕云瑶将继续前行，不断超越自我，用她的智慧和勇气，书写属于自己的修仙传奇。\\n\\n', metadata={'type': 'paragraph', 'children': [{'type': 'text', 'raw': '如今，慕云瑶的名字在慕家族人中传颂，她成为了家族的骄傲和希望的象征。在责任与梦想的双重驱动下，慕云瑶将继续前行，不断超越自我，用她的智慧和勇气，书写属于自己的修仙传奇。'}], 'id': '1717579017-10'}),\n",
       " Document(page_content='<OUTLINE>\\n主题：慕云瑶的抉择（50字）\\n扩写要求：\\n- 家族危机\\n- 亲情与修仙的选择\\n- 放下过去，承担未来\\n</OUTLINE>', metadata={'id': '1717578972-8', 'type': 'OUTLINE'}),\n",
       " Document(page_content='', metadata={'type': 'blank_line', 'id': '1717578972-9'})]"
      ]
     },
     "execution_count": 23,
     "metadata": {},
     "output_type": "execute_result"
    }
   ],
   "source": [
    "自定义提纲 = \"\"\"\n",
    "# 修仙奇缘：慕云瑶的旅程\n",
    "<OUTLINE>\n",
    "主题：介绍慕云瑶的来历（100字）\n",
    "扩写要求：\n",
    "- 主角名字：慕云瑶\n",
    "- 家族背景：中层修仙家族\n",
    "- 成长环境：在家族中不受重视\n",
    "</OUTLINE>\n",
    "\n",
    "<OUTLINE>\n",
    "主题：意外机缘（150字）\n",
    "扩写要求：\n",
    "- 偶得神秘法宝\n",
    "- 被迫离家修行\n",
    "- 结识各路仙友\n",
    "</OUTLINE>\n",
    "\n",
    "<OUTLINE>\n",
    "主题：修炼之路（200字）\n",
    "扩写要求：\n",
    "- 遇到的挑战和困难\n",
    "- 逐步突破自我\n",
    "- 心境变化与成长\n",
    "</OUTLINE>\n",
    "\n",
    "<OUTLINE>\n",
    "主题：慕云瑶的抉择（50字）\n",
    "扩写要求：\n",
    "- 家族危机\n",
    "- 亲情与修仙的选择\n",
    "- 放下过去，承担未来\n",
    "</OUTLINE>\n",
    "\"\"\"\n",
    "Detail(source=自定义提纲, llm=ChatZhipuAI()).write()"
   ]
  },
  {
   "cell_type": "markdown",
   "id": "0149d4ad-14ab-47a7-8722-e071b62ed305",
   "metadata": {},
   "source": [
    "## 提取"
   ]
  },
  {
   "cell_type": "markdown",
   "id": "b2395d8c-9478-4f2f-8e0f-731dd0595a76",
   "metadata": {},
   "source": [
    "## 初始化提纲"
   ]
  },
  {
   "cell_type": "code",
   "execution_count": null,
   "id": "af7fbd5a-928e-47c0-8c6d-82288ee0802e",
   "metadata": {},
   "outputs": [],
   "source": [
    "md = \"\"\"\n",
    "# 《玄灵劫》\n",
    "## 主角介绍：洛清寒（100字）\n",
    "- 洛清寒的性格特点\n",
    "- 洛清寒的修仙背景\n",
    "\n",
    "## 修仙之路：起始（150字）\n",
    "- 洛清寒的修仙契机\n",
    "- 洛清寒的初入修仙界的困难\n",
    "\n",
    "## 机遇与挑战：成长（150字）\n",
    "- 洛清寒的机缘与突破\n",
    "- 面临的重大挑战\n",
    "\n",
    "## 心路历程：情感与道义（100字）\n",
    "- 洛清寒在修仙过程中的人际关系\n",
    "- 洛清寒内心的挣扎与选择\n",
    "\n",
    "## 终极之战：宿命的对决（100字）\n",
    "- 洛清寒与宿敌的决战\n",
    "- 洛清寒的成长与结局\n",
    "\"\"\""
   ]
  },
  {
   "cell_type": "code",
   "execution_count": null,
   "id": "0c13f48e-472d-4678-9c7d-7bedda30728f",
   "metadata": {},
   "outputs": [],
   "source": [
    "from langchain.globals import set_verbose\n",
    "set_verbose(True)\n",
    "\n",
    "w = Outline(md, llm=ChatZhipuAI())"
   ]
  },
  {
   "cell_type": "code",
   "execution_count": null,
   "id": "2f1d6258-b69e-4734-85f5-0453c38aae36",
   "metadata": {},
   "outputs": [],
   "source": [
    "print(w.todo_docs.markdown)"
   ]
  },
  {
   "cell_type": "code",
   "execution_count": null,
   "id": "41ecc93f-088b-4eab-9f2f-a0dadaac62cd",
   "metadata": {},
   "outputs": [],
   "source": [
    "w.documents[3]"
   ]
  },
  {
   "cell_type": "code",
   "execution_count": null,
   "id": "723fd19a-893e-4cce-ae28-49adbe386e73",
   "metadata": {},
   "outputs": [],
   "source": [
    "w.rewrite(\"多描述主角的外貌\", w.documents[3])"
   ]
  },
  {
   "cell_type": "code",
   "execution_count": null,
   "id": "c1ca6f7b-744e-4352-85a9-57b08e4af4ea",
   "metadata": {},
   "outputs": [],
   "source": [
    "print(w.markdown)"
   ]
  },
  {
   "cell_type": "markdown",
   "id": "c9afb909-fc07-4915-bb34-29663becde28",
   "metadata": {},
   "source": [
    "## 创作提纲"
   ]
  },
  {
   "cell_type": "code",
   "execution_count": null,
   "id": "747d2668-a0ed-472c-8c78-6787b95c5b29",
   "metadata": {},
   "outputs": [],
   "source": [
    "ol = Outline(llm=ChatZhipuAI())\n",
    "ol.write(\"请帮我创作500字的修仙小说，大女主设定，请给出主角的具体名字\")"
   ]
  },
  {
   "cell_type": "code",
   "execution_count": null,
   "id": "710803a3-2789-4f08-97ec-32f46dbab7b0",
   "metadata": {},
   "outputs": [],
   "source": [
    "ol.todo_docs.get_outline_task()"
   ]
  },
  {
   "cell_type": "markdown",
   "id": "b5c9f6d6-94cd-45a6-8872-13fcf797bc9b",
   "metadata": {},
   "source": [
    "## 扩写内容"
   ]
  },
  {
   "cell_type": "code",
   "execution_count": null,
   "id": "b2044535-0cbe-4115-a101-1c6c20daff86",
   "metadata": {},
   "outputs": [],
   "source": [
    "md = \"\"\"\n",
    "# 《灵韵仙途》\n",
    "<OUTLINE>\n",
    "## 主角介绍：陆清漪（100字）\n",
    "扩写要求：\n",
    "- 外貌特征\n",
    "- 性格描述\n",
    "- 修仙背景\n",
    "</OUTLINE>\n",
    "\n",
    "<OUTLINE>\n",
    "## 意外得宝：神秘玉简（150字）\n",
    "扩写要求：\n",
    "- 玉简的来历\n",
    "- 陆清漪的机缘巧合\n",
    "- 玉简的初次展现\n",
    "</OUTLINE>\n",
    "\n",
    "<OUTLINE>\n",
    "## 修炼启程：灵气初探（150字）\n",
    "扩写要求：\n",
    "- 陆清漪的修炼决心\n",
    "- 修炼初期的困难与突破\n",
    "- 灵气感应的心得体会\n",
    "</OUTLINE>\n",
    "\n",
    "<OUTLINE>\n",
    "## 心魔考验：坚守本心（100字）\n",
    "扩写要求：\n",
    "- 遭遇心魔的契机\n",
    "- 陆清漪内心的挣扎\n",
    "- 最终战胜心魔的信念\n",
    "</OUTLINE>\n",
    "\"\"\""
   ]
  },
  {
   "cell_type": "code",
   "execution_count": null,
   "id": "43bdef65-653a-48a9-b16b-5eb0bac08ed8",
   "metadata": {},
   "outputs": [],
   "source": [
    "from langchain.globals import set_verbose\n",
    "set_verbose(True)"
   ]
  },
  {
   "cell_type": "code",
   "execution_count": null,
   "id": "f8c4d532-7100-4542-886b-9372d2ffd573",
   "metadata": {},
   "outputs": [],
   "source": [
    "ol = Outline(md, llm=ChatZhipuAI())\n",
    "ol.documents"
   ]
  },
  {
   "cell_type": "code",
   "execution_count": null,
   "id": "7dbaa36c-e84c-46a3-ab28-0debe2a3d3a7",
   "metadata": {},
   "outputs": [],
   "source": [
    "print(ol.markdown)"
   ]
  },
  {
   "cell_type": "code",
   "execution_count": null,
   "id": "c01e2376-8d59-4597-a1ce-74d17d57910c",
   "metadata": {},
   "outputs": [],
   "source": [
    "detail = Detail(source=ol)\n",
    "detail.write()"
   ]
  },
  {
   "cell_type": "code",
   "execution_count": null,
   "id": "5be453ab-c314-44d7-814d-242e10861bb2",
   "metadata": {},
   "outputs": [],
   "source": [
    "detail.write()"
   ]
  },
  {
   "cell_type": "code",
   "execution_count": null,
   "id": "0c6384fe-7ebe-477f-9a53-523f6fddaa3d",
   "metadata": {},
   "outputs": [],
   "source": [
    "print(detail.markdown)"
   ]
  },
  {
   "cell_type": "markdown",
   "id": "5d3d6401-6ac1-49f1-8d00-27998c8fa797",
   "metadata": {},
   "source": [
    "## 扩写修订"
   ]
  },
  {
   "cell_type": "code",
   "execution_count": null,
   "id": "2e582f9c-bab7-4984-93e7-d5366953563c",
   "metadata": {},
   "outputs": [],
   "source": [
    "detail.rewrite(title=\"心路历程\")"
   ]
  },
  {
   "cell_type": "code",
   "execution_count": null,
   "id": "3d657e7d-e91c-4458-8a0e-1074514aedfb",
   "metadata": {
    "scrolled": true
   },
   "outputs": [],
   "source": [
    "detail.rewrite(\"增加朋友的背叛和突破困扰\")"
   ]
  },
  {
   "cell_type": "markdown",
   "id": "545cff6c-9bb6-4e51-991d-12c58a6ab520",
   "metadata": {},
   "source": [
    "## 提取提纲"
   ]
  },
  {
   "cell_type": "code",
   "execution_count": null,
   "id": "f59e407f-b08d-40dd-9382-f62ebc29bcca",
   "metadata": {},
   "outputs": [],
   "source": [
    "md = \"\"\"\n",
    "# 《玄灵劫》\n",
    "\n",
    "## 主角介绍：洛清寒\n",
    "\n",
    "- 洛清寒的性格特点：洛清寒性格坚毅，冷静沉着，对待修仙之路有着异于常人的执着和热诚。他心怀正义，不畏强权，为了守护身边之人，甚至愿以一己之力对抗整个世界。\n",
    "- 洛清寒的修仙背景：出生于修仙世家的洛清寒，从小受到家族的熏陶，对修仙之道有着极高的天赋和悟性。在一次意外中，他获得了一本古老的修仙秘籍，从而踏上了寻找玄灵之劫的征途，开始了自己的修仙之旅。\n",
    "\n",
    "## 开局收女帝为徒\n",
    "\n",
    "在一次偶然的机缘中，洛清寒救下了被叛乱者追杀的女帝紫曦。紫曦在危机中展现出的坚定和智慧让洛清寒刮目相看，遂决定收其为徒，亲自指导她修炼。然而，成为女帝的师父并非易事，洛清寒首先面临的挑战便是紫曦高傲的性格以及她对权力斗争的执着。他必须在这些初期的教导中，平衡她的心态，引导她走向真正的修仙之路。\n",
    "\n",
    "## 机遇与挑战：成长\n",
    "\n",
    "在洛清寒的修仙之路上，机缘与挑战并存。一次意外的探险让他得到了传说中的玄灵宝玉，这块宝玉不仅极大地提升了他的修炼速度，还帮助他突破了一个个瓶颈。洛清寒的机缘不仅仅在于此，他的智慧与勇敢也赢得了多位高人的青睐，从而获得了宝贵的指点。\n",
    "\n",
    "然而，成长的道路并非一帆风顺。洛清寒所面临的重大挑战来自于修仙界的敌对势力，他们因忌惮洛清寒的成长速度和潜力，试图通过各种手段打压他。此外，洛清寒还需要面对内心的挣扎，如何在追求力量和坚守初心之间找到平衡，如何在面对诱惑和挑战时保持本心，这些都是他成长过程中必须克服的难题。\n",
    "\n",
    "## 心路历程：情感与道义\n",
    "\n",
    "在修仙的过程中，洛清寒结识了各式各样的人物，他与女帝紫曦的师徒情谊日益深厚，也与一些志同道合的朋友建立了深厚的友谊。然而，在这些人际关系中，洛清寒始终保持着一颗清醒的心，他知道修仙路上，情感虽然重要，但道义更为关键。\n",
    "\n",
    "洛清寒在内心深处常常挣扎，面对修仙界的残酷现实，他不得不在友情、爱情与道义之间做出选择。每一次选择都让他的内心更加坚定，他始终坚守着自己的底线，不忘初心，不为外界诱惑所动。在追求力量的道路上，洛清寒时刻警醒自己，不被黑暗吞噬，用一颗正义之心去守护他所珍视的一切。\n",
    "\n",
    "## 终极之战：宿命的对决\n",
    "\n",
    "在修仙之途的尽头，洛清寒终于迎来了与宿敌的决战。这位宿敌，曾是他的同门，却因理念的差异而走向了对立。决战之日，天地变色，风云涌动。洛清寒凭借着自己的坚韧意志和一路上的成长，与宿敌展开了惊心动魄的战斗。\n",
    "\n",
    "在这场决战中，洛清寒展现出了他一路走来的成长与变化。他不仅巧妙地运用了所学的法术和策略，更是以正义之姿，勇往直前。经过一番激战，洛清寒终于战胜了宿敌，但也付出了惨痛的代价。\n",
    "\n",
    "这场战斗的结局，并非传统意义上的胜利。洛清寒虽然赢得了胜利，但也深刻体会到了修仙之路的残酷与无奈。他意识到，真正的修仙不仅仅是对抗外界敌人，更是战胜内心的黑暗。在战斗结束后，洛清寒选择了一条更为艰难的道路——致力于修复修仙界的秩序，守护和平，让更多的人能够安心修炼，不再为权力和利益所困。\n",
    "\"\"\""
   ]
  },
  {
   "cell_type": "code",
   "execution_count": null,
   "id": "d808637c-66e4-4535-8371-d41dc648fe0e",
   "metadata": {
    "scrolled": true
   },
   "outputs": [],
   "source": [
    "print(md)"
   ]
  },
  {
   "cell_type": "code",
   "execution_count": null,
   "id": "7034aa04-30f3-4185-8d83-3e8e8b19176c",
   "metadata": {},
   "outputs": [],
   "source": [
    "fe = Fetch(source=md, llm=ChatZhipuAI())"
   ]
  },
  {
   "cell_type": "code",
   "execution_count": null,
   "id": "8cb20ccb-f2c9-45c5-a6ad-1f199f20fd71",
   "metadata": {},
   "outputs": [],
   "source": [
    "fe.documents"
   ]
  },
  {
   "cell_type": "code",
   "execution_count": null,
   "id": "0b82500c-4c75-4858-a0c2-f4341bfa1a97",
   "metadata": {
    "scrolled": true
   },
   "outputs": [],
   "source": [
    "fe.write()"
   ]
  },
  {
   "cell_type": "code",
   "execution_count": null,
   "id": "7288ece2-8a59-46ed-9e41-c153f3bf35a7",
   "metadata": {},
   "outputs": [],
   "source": [
    "print(fe.markdown)"
   ]
  },
  {
   "cell_type": "markdown",
   "id": "fb5afaf5-d487-4fb9-960b-fa3a3b8070de",
   "metadata": {},
   "source": [
    "## 翻译"
   ]
  },
  {
   "cell_type": "code",
   "execution_count": null,
   "id": "173df2b9-f110-4163-bb34-7fc0c0182ed9",
   "metadata": {},
   "outputs": [],
   "source": [
    "md = \"\"\"\n",
    "# 《玄灵劫》\n",
    "\n",
    "## 主角介绍：洛清寒\n",
    "\n",
    "- 洛清寒的性格特点：洛清寒性格坚毅，冷静沉着，对待修仙之路有着异于常人的执着和热诚。他心怀正义，不畏强权，为了守护身边之人，甚至愿以一己之力对抗整个世界。\n",
    "- 洛清寒的修仙背景：出生于修仙世家的洛清寒，从小受到家族的熏陶，对修仙之道有着极高的天赋和悟性。在一次意外中，他获得了一本古老的修仙秘籍，从而踏上了寻找玄灵之劫的征途，开始了自己的修仙之旅。\n",
    "\n",
    "## 开局收女帝为徒\n",
    "\n",
    "在一次偶然的机缘中，洛清寒救下了被叛乱者追杀的女帝紫曦。紫曦在危机中展现出的坚定和智慧让洛清寒刮目相看，遂决定收其为徒，亲自指导她修炼。然而，成为女帝的师父并非易事，洛清寒首先面临的挑战便是紫曦高傲的性格以及她对权力斗争的执着。他必须在这些初期的教导中，平衡她的心态，引导她走向真正的修仙之路。\n",
    "\n",
    "## 机遇与挑战：成长\n",
    "\n",
    "在洛清寒的修仙之路上，机缘与挑战并存。一次意外的探险让他得到了传说中的玄灵宝玉，这块宝玉不仅极大地提升了他的修炼速度，还帮助他突破了一个个瓶颈。洛清寒的机缘不仅仅在于此，他的智慧与勇敢也赢得了多位高人的青睐，从而获得了宝贵的指点。\n",
    "\n",
    "然而，成长的道路并非一帆风顺。洛清寒所面临的重大挑战来自于修仙界的敌对势力，他们因忌惮洛清寒的成长速度和潜力，试图通过各种手段打压他。此外，洛清寒还需要面对内心的挣扎，如何在追求力量和坚守初心之间找到平衡，如何在面对诱惑和挑战时保持本心，这些都是他成长过程中必须克服的难题。\n",
    "\n",
    "## 心路历程：情感与道义\n",
    "\n",
    "在修仙的过程中，洛清寒结识了各式各样的人物，他与女帝紫曦的师徒情谊日益深厚，也与一些志同道合的朋友建立了深厚的友谊。然而，在这些人际关系中，洛清寒始终保持着一颗清醒的心，他知道修仙路上，情感虽然重要，但道义更为关键。\n",
    "\n",
    "洛清寒在内心深处常常挣扎，面对修仙界的残酷现实，他不得不在友情、爱情与道义之间做出选择。每一次选择都让他的内心更加坚定，他始终坚守着自己的底线，不忘初心，不为外界诱惑所动。在追求力量的道路上，洛清寒时刻警醒自己，不被黑暗吞噬，用一颗正义之心去守护他所珍视的一切。\n",
    "\n",
    "## 终极之战：宿命的对决\n",
    "\n",
    "在修仙之途的尽头，洛清寒终于迎来了与宿敌的决战。这位宿敌，曾是他的同门，却因理念的差异而走向了对立。决战之日，天地变色，风云涌动。洛清寒凭借着自己的坚韧意志和一路上的成长，与宿敌展开了惊心动魄的战斗。\n",
    "\n",
    "在这场决战中，洛清寒展现出了他一路走来的成长与变化。他不仅巧妙地运用了所学的法术和策略，更是以正义之姿，勇往直前。经过一番激战，洛清寒终于战胜了宿敌，但也付出了惨痛的代价。\n",
    "\n",
    "这场战斗的结局，并非传统意义上的胜利。洛清寒虽然赢得了胜利，但也深刻体会到了修仙之路的残酷与无奈。他意识到，真正的修仙不仅仅是对抗外界敌人，更是战胜内心的黑暗。在战斗结束后，洛清寒选择了一条更为艰难的道路——致力于修复修仙界的秩序，守护和平，让更多的人能够安心修炼，不再为权力和利益所困。\n",
    "\"\"\""
   ]
  },
  {
   "cell_type": "code",
   "execution_count": null,
   "id": "1b41f83d-8a49-4a2f-a396-d61e5510ee4d",
   "metadata": {},
   "outputs": [],
   "source": [
    "tr = Translate(source=md, llm=ChatZhipuAI())"
   ]
  },
  {
   "cell_type": "code",
   "execution_count": null,
   "id": "448614cc-970e-4890-9f4d-0cde09ed1dc1",
   "metadata": {
    "scrolled": true
   },
   "outputs": [],
   "source": [
    "tr.write()"
   ]
  },
  {
   "cell_type": "code",
   "execution_count": null,
   "id": "2bab4b0b-b456-4186-9e02-1a4112900049",
   "metadata": {},
   "outputs": [],
   "source": [
    "print(tr.markdown)"
   ]
  },
  {
   "cell_type": "markdown",
   "id": "8be89c1e-468e-434d-a1e8-1b5d5d257bd9",
   "metadata": {},
   "source": [
    "## 重新翻译"
   ]
  },
  {
   "cell_type": "code",
   "execution_count": null,
   "id": "7b257073-e608-49e3-81f4-b3e288870da1",
   "metadata": {},
   "outputs": [],
   "source": []
  }
 ],
 "metadata": {
  "kernelspec": {
   "display_name": "langchani-book-py3.10-ipykernel",
   "language": "python",
   "name": "langchani-book-py3.10-ipykernel"
  },
  "language_info": {
   "codemirror_mode": {
    "name": "ipython",
    "version": 3
   },
   "file_extension": ".py",
   "mimetype": "text/x-python",
   "name": "python",
   "nbconvert_exporter": "python",
   "pygments_lexer": "ipython3",
   "version": "3.10.0"
  }
 },
 "nbformat": 4,
 "nbformat_minor": 5
}
