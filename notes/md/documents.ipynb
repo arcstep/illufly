{
 "cells": [
  {
   "cell_type": "markdown",
   "id": "1e577df8-7a72-4321-854d-e17a40190d8a",
   "metadata": {},
   "source": [
    "# 文档"
   ]
  },
  {
   "cell_type": "markdown",
   "id": "f2fbf6e4-adae-475d-a471-505933d0a886",
   "metadata": {},
   "source": [
    "## IntelliDocuments"
   ]
  },
  {
   "cell_type": "code",
   "execution_count": 1,
   "id": "1a1933f0-de79-4bbe-ba2d-cc6e0e34f1f8",
   "metadata": {},
   "outputs": [],
   "source": [
    "md = \"\"\"\n",
    "## 前序\n",
    "\n",
    "# 标题1\n",
    "我的文档。\n",
    "\n",
    "## 标题2\n",
    "\n",
    "逍遥老仙，\n",
    "\n",
    "## 标题2\n",
    "\n",
    "法力无边。\n",
    "\n",
    "### 标题3 \n",
    "\n",
    "倚天不出，谁与争锋。\n",
    "\n",
    "## 又一个标题2\n",
    "\n",
    "华山论剑。\n",
    "\"\"\""
   ]
  },
  {
   "cell_type": "code",
   "execution_count": 2,
   "id": "21f0c1c2-d835-404f-95e2-8cb47158e3d0",
   "metadata": {},
   "outputs": [],
   "source": [
    "md2 = \"\"\"\n",
    "## 东邪西毒\n",
    "都是谁啊？\n",
    "\"\"\""
   ]
  },
  {
   "cell_type": "markdown",
   "id": "bc670ac2-78a3-47aa-aab4-2174fdbbf62d",
   "metadata": {},
   "source": [
    "```python\n",
    "[\n",
    "    Document(page_content='标题1', metadata={'type': 'H1', \"id\": \"1\"}),\n",
    "    Document(page_content='标题2', metadata={'type': 'H2', \"id\": \"1.1\"}),\n",
    "    Document(page_content='逍遥老仙。', metadata={'type': 'paragraph', \"id\": \"1.1.0\"}),\n",
    "    Document(page_content='标题2', metadata={'type': 'H2', \"id\": \"1.2\"}),\n",
    "    Document(page_content='法力无边。', metadata={'type': 'paragraph', \"id\": \"1.2.0\"}),\n",
    "    Document(page_content='标题3', metadata={'type': 'H3', \"id\": \"1.2.1\"}),\n",
    "    Document(page_content='\\n倚天不出，谁与争锋。\\n', metadata={'type': 'paragraph', \"id\": \"1.2.1.0\"}),\n",
    "    Document(page_content='又一个标题2', metadata={'type': 'H2', \"id\": \"1.3\"}),\n",
    "    Document(page_content='\\n华山论剑。', metadata={'type': 'paragraph', \"id\": \"1.3.0\"}),\n",
    "]\n",
    "```\n"
   ]
  },
  {
   "cell_type": "code",
   "execution_count": 3,
   "id": "64cb2494-a4ec-4093-bb00-74fc1227529c",
   "metadata": {},
   "outputs": [
    {
     "data": {
      "text/plain": [
       "[Document(page_content='<<TITLE>>', metadata={'type': 'H1', 'id': '1'}),\n",
       " Document(page_content='前序', metadata={'type': 'H2', 'id': '1.1'}),\n",
       " Document(page_content='标题1', metadata={'type': 'H1', 'id': '2'}),\n",
       " Document(page_content='我的文档。', metadata={'type': 'paragraph', 'id': '2.0'}),\n",
       " Document(page_content='标题2', metadata={'type': 'H2', 'id': '2.1'}),\n",
       " Document(page_content='逍遥老仙，', metadata={'type': 'paragraph', 'id': '2.1.0'}),\n",
       " Document(page_content='标题2', metadata={'type': 'H2', 'id': '2.2'}),\n",
       " Document(page_content='法力无边。', metadata={'type': 'paragraph', 'id': '2.2.0'}),\n",
       " Document(page_content='标题3', metadata={'type': 'H3', 'id': '2.2.1'}),\n",
       " Document(page_content='倚天不出，谁与争锋。', metadata={'type': 'paragraph', 'id': '2.2.1.0'}),\n",
       " Document(page_content='又一个标题2', metadata={'type': 'H2', 'id': '2.3'}),\n",
       " Document(page_content='华山论剑。', metadata={'type': 'paragraph', 'id': '2.3.0'})]"
      ]
     },
     "execution_count": 3,
     "metadata": {},
     "output_type": "execute_result"
    }
   ],
   "source": [
    "from textlong.md.documents import IntelliDocuments\n",
    "t = IntelliDocuments(md)\n",
    "t.documents"
   ]
  },
  {
   "cell_type": "markdown",
   "id": "320decc5-9adb-453b-a4d6-50bcd92c02c0",
   "metadata": {},
   "source": [
    "如果start_id为 \"1.5\"，则结果应当为：\n",
    "```python\n",
    "self.documents = [\n",
    "    Document(page_content='标题1', metadata={'type': 'H1', \"id\": \"1.5\"}),\n",
    "    Document(page_content='标题2', metadata={'type': 'H2', \"id\": \"1.5.1\"}),\n",
    "    Document(page_content='\\n逍遥老仙，\\n法力无边。\\n', metadata={'type': 'paragraph', \"id\": \"1.5.1.0\"}),\n",
    "    Document(page_content='标题3', metadata={'type': 'H3', \"id\": \"1.5.1.1\"}),\n",
    "    Document(page_content='\\n倚天不出，谁与争锋。\\n', metadata={'type': 'paragraph', \"id\": \"1.5.1.1.0\"}),\n",
    "    Document(page_content='又一个标题2', metadata={'type': 'H2', \"id\": \"1.5.2\"}),\n",
    "    Document(page_content='\\n华山论剑。', metadata={'type': 'paragraph', \"id\": \"1.5.2.0\"}),\n",
    "]\n",
    "```\n"
   ]
  },
  {
   "cell_type": "code",
   "execution_count": 4,
   "id": "6abba28e-188c-4404-8697-ce1b95bdf695",
   "metadata": {},
   "outputs": [
    {
     "data": {
      "text/plain": [
       "[Document(page_content='<<TITLE>>', metadata={'type': 'H1', 'id': '2.5'}),\n",
       " Document(page_content='前序', metadata={'type': 'H2', 'id': '2.5.1'}),\n",
       " Document(page_content='标题1', metadata={'type': 'H1', 'id': '2.6'}),\n",
       " Document(page_content='我的文档。', metadata={'type': 'paragraph', 'id': '2.6.0'}),\n",
       " Document(page_content='标题2', metadata={'type': 'H2', 'id': '2.6.1'}),\n",
       " Document(page_content='逍遥老仙，', metadata={'type': 'paragraph', 'id': '2.6.1.0'}),\n",
       " Document(page_content='标题2', metadata={'type': 'H2', 'id': '2.6.2'}),\n",
       " Document(page_content='法力无边。', metadata={'type': 'paragraph', 'id': '2.6.2.0'}),\n",
       " Document(page_content='标题3', metadata={'type': 'H3', 'id': '2.6.2.1'}),\n",
       " Document(page_content='倚天不出，谁与争锋。', metadata={'type': 'paragraph', 'id': '2.6.2.1.0'}),\n",
       " Document(page_content='又一个标题2', metadata={'type': 'H2', 'id': '2.6.3'}),\n",
       " Document(page_content='华山论剑。', metadata={'type': 'paragraph', 'id': '2.6.3.0'})]"
      ]
     },
     "execution_count": 4,
     "metadata": {},
     "output_type": "execute_result"
    }
   ],
   "source": [
    "t = IntelliDocuments(md, start_id=\"2.5\")\n",
    "t.documents"
   ]
  },
  {
   "cell_type": "code",
   "execution_count": 5,
   "id": "58e55783-7388-419d-ad94-1b8921bda969",
   "metadata": {},
   "outputs": [
    {
     "data": {
      "text/plain": [
       "[Document(page_content='<<TITLE>>', metadata={'type': 'H1', 'id': '1'}),\n",
       " Document(page_content='前序', metadata={'type': 'H2', 'id': '1.1'}),\n",
       " Document(page_content='标题1', metadata={'type': 'H1', 'id': '2'}),\n",
       " Document(page_content='我的文档。', metadata={'type': 'paragraph', 'id': '2.0'}),\n",
       " Document(page_content='标题2', metadata={'type': 'H2', 'id': '2.1'}),\n",
       " Document(page_content='逍遥老仙，', metadata={'type': 'paragraph', 'id': '2.1.0'}),\n",
       " Document(page_content='标题2', metadata={'type': 'H2', 'id': '2.2'}),\n",
       " Document(page_content='法力无边。', metadata={'type': 'paragraph', 'id': '2.2.0'}),\n",
       " Document(page_content='标题3', metadata={'type': 'H3', 'id': '2.2.1'}),\n",
       " Document(page_content='倚天不出，谁与争锋。', metadata={'type': 'paragraph', 'id': '2.2.1.0'}),\n",
       " Document(page_content='又一个标题2', metadata={'type': 'H2', 'id': '2.3'}),\n",
       " Document(page_content='华山论剑。', metadata={'type': 'paragraph', 'id': '2.3.0'})]"
      ]
     },
     "execution_count": 5,
     "metadata": {},
     "output_type": "execute_result"
    }
   ],
   "source": [
    "t = IntelliDocuments(md, start_id=\"1\")\n",
    "t.documents"
   ]
  },
  {
   "cell_type": "code",
   "execution_count": 6,
   "id": "2ac7c064-a8ff-4869-a2bf-39066b7c3fb2",
   "metadata": {},
   "outputs": [
    {
     "data": {
      "text/plain": [
       "[Document(page_content='标题2', metadata={'type': 'H2', 'id': '2.1'}),\n",
       " Document(page_content='逍遥老仙，', metadata={'type': 'paragraph', 'id': '2.1.0'}),\n",
       " Document(page_content='又一个标题2', metadata={'type': 'H2', 'id': '2.3'}),\n",
       " Document(page_content='华山论剑。', metadata={'type': 'paragraph', 'id': '2.3.0'})]"
      ]
     },
     "execution_count": 6,
     "metadata": {},
     "output_type": "execute_result"
    }
   ],
   "source": [
    "t.get_documents([\"2.1\", \"2.3\"])"
   ]
  },
  {
   "cell_type": "code",
   "execution_count": 7,
   "id": "81a583b0-37fa-4169-87ee-27a3fc9cb9d2",
   "metadata": {},
   "outputs": [
    {
     "data": {
      "text/plain": [
       "[Document(page_content='标题2', metadata={'type': 'H2', 'id': '2.2'}),\n",
       " Document(page_content='法力无边。', metadata={'type': 'paragraph', 'id': '2.2.0'}),\n",
       " Document(page_content='标题3', metadata={'type': 'H3', 'id': '2.2.1'}),\n",
       " Document(page_content='倚天不出，谁与争锋。', metadata={'type': 'paragraph', 'id': '2.2.1.0'})]"
      ]
     },
     "execution_count": 7,
     "metadata": {},
     "output_type": "execute_result"
    }
   ],
   "source": [
    "t.get_documents([\"2.2\"])"
   ]
  },
  {
   "cell_type": "code",
   "execution_count": 8,
   "id": "4e584e5c-6f50-4260-8e7e-1c9b06d80364",
   "metadata": {},
   "outputs": [
    {
     "data": {
      "text/plain": [
       "[Document(page_content='<<TITLE>>', metadata={'type': 'H1', 'id': '1'}),\n",
       " Document(page_content='前序', metadata={'type': 'H2', 'id': '1.1'}),\n",
       " Document(page_content='标题1', metadata={'type': 'H1', 'id': '2'}),\n",
       " Document(page_content='我的文档。', metadata={'type': 'paragraph', 'id': '2.0'}),\n",
       " Document(page_content='标题2', metadata={'type': 'H2', 'id': '2.2'}),\n",
       " Document(page_content='法力无边。', metadata={'type': 'paragraph', 'id': '2.2.0'}),\n",
       " Document(page_content='标题3', metadata={'type': 'H3', 'id': '2.2.1'}),\n",
       " Document(page_content='倚天不出，谁与争锋。', metadata={'type': 'paragraph', 'id': '2.2.1.0'}),\n",
       " Document(page_content='又一个标题2', metadata={'type': 'H2', 'id': '2.3'}),\n",
       " Document(page_content='华山论剑。', metadata={'type': 'paragraph', 'id': '2.3.0'})]"
      ]
     },
     "execution_count": 8,
     "metadata": {},
     "output_type": "execute_result"
    }
   ],
   "source": [
    "t.remove_documents(\"2.1\")"
   ]
  },
  {
   "cell_type": "code",
   "execution_count": 9,
   "id": "6ee379a8-bc60-4f59-9c31-0260007b83d0",
   "metadata": {},
   "outputs": [
    {
     "data": {
      "text/plain": [
       "[Document(page_content='东邪西毒', metadata={'type': 'H2', 'id': '0.1'}),\n",
       " Document(page_content='都是谁啊？', metadata={'type': 'paragraph', 'id': '0.1.0'})]"
      ]
     },
     "execution_count": 9,
     "metadata": {},
     "output_type": "execute_result"
    }
   ],
   "source": [
    "IntelliDocuments(md2).documents"
   ]
  },
  {
   "cell_type": "code",
   "execution_count": 10,
   "id": "ed527a37-4243-43b8-804e-46b8c04820e0",
   "metadata": {},
   "outputs": [
    {
     "data": {
      "text/plain": [
       "[Document(page_content='<<TITLE>>', metadata={'type': 'H1', 'id': '1'}),\n",
       " Document(page_content='标题1', metadata={'type': 'H1', 'id': '2'}),\n",
       " Document(page_content='我的文档。', metadata={'type': 'paragraph', 'id': '2.0'}),\n",
       " Document(page_content='标题2', metadata={'type': 'H2', 'id': '2.2'}),\n",
       " Document(page_content='法力无边。', metadata={'type': 'paragraph', 'id': '2.2.0'}),\n",
       " Document(page_content='标题3', metadata={'type': 'H3', 'id': '2.2.1'}),\n",
       " Document(page_content='倚天不出，谁与争锋。', metadata={'type': 'paragraph', 'id': '2.2.1.0'}),\n",
       " Document(page_content='又一个标题2', metadata={'type': 'H2', 'id': '2.3'}),\n",
       " Document(page_content='华山论剑。', metadata={'type': 'paragraph', 'id': '2.3.0'})]"
      ]
     },
     "execution_count": 10,
     "metadata": {},
     "output_type": "execute_result"
    }
   ],
   "source": [
    "t.replace_documents(\"1.1\", IntelliDocuments(md2).documents)"
   ]
  },
  {
   "cell_type": "markdown",
   "id": "dbef1014-c435-4bc0-8706-b614b38adf3d",
   "metadata": {},
   "source": [
    "## MD / Code"
   ]
  },
  {
   "cell_type": "code",
   "execution_count": 11,
   "id": "8525c0b1-8e65-4cf5-82f0-6d7462a6449a",
   "metadata": {},
   "outputs": [],
   "source": [
    "md = \"\"\"\n",
    "# 🦜🦜🦜 textlong\n",
    "[![PyPI version](https://img.shields.io/pypi/v/textlong.svg)](https://pypi.org/project/textlong/)\n",
    "\n",
    "**textlong** 的目标是基于大语言模型提供结构化的长文本生成能力。\n",
    "\n",
    "## 一、安装\n",
    "\n",
    "你可以使用 pip 安装：\n",
    "```\n",
    "pip install -U textlong\n",
    "```\n",
    "\n",
    "或者使用 poetry 安装：\n",
    "```\n",
    "poetry add textlong@latest\n",
    "```\n",
    "\n",
    "## 二、结构化长文生成能力\n",
    "\n",
    "`textlong` 中提供如下创作工具：\n",
    "\n",
    "- `WritingTask`：用于生成结构化长文\n",
    "\n",
    "**1. 加载环境变量：**\n",
    "\n",
    "```python\n",
    "from dotenv import load_dotenv, find_dotenv\n",
    "load_dotenv(find_dotenv(), override=True)\n",
    "```\n",
    "\n",
    "**2. 创建`WritingTask`实例：**\n",
    "\n",
    "```python\n",
    "from textlong import WritingTask\n",
    "from langchain_openai import ChatOpenAI\n",
    "\n",
    "task = WritingTask(llm=ChatOpenAI())\n",
    "```\n",
    "\n",
    "**3. 使用`auto_write`方法自动生成一段长文：**\n",
    "\n",
    "```python\n",
    "task.auto_write(\"task 给好基友写一封信, 1800字，分4段就行\")\n",
    "```\n",
    "\n",
    "**4. 使用`repl_write`方法控制台，在人工干预过程中生成一段长文：**\n",
    "\n",
    "```python\n",
    "task.repl_write(\"task 给好基友写一封信, 1800字，分4段就行\")\n",
    "\n",
    "## ...\n",
    "## 接下来，你可以一直输入 ok 指令确认生成的内容，获得与 auto_write 类似的效果\n",
    "```\n",
    "\n",
    "**5. 你可以查看生成的提纲（也可以在repl模式中输入 outlines）：**\n",
    "\n",
    "```python\n",
    "# 查看创作大纲\n",
    "task.invoke(\"outlines\")['reply']\n",
    "```\n",
    "\n",
    "**6. 或者查看文字成果：**\n",
    "\n",
    "```python\n",
    "task.invoke(\"texts\")['reply']\n",
    "```\n",
    "\n",
    "**7. 使用`invoke`方法执行`help`指令，以获得帮助:**\n",
    "\n",
    "```python\n",
    "task.invoke(\"help 我在repl模式中还可以做什么？\")\n",
    "```\n",
    "\n",
    "\"\"\""
   ]
  },
  {
   "cell_type": "code",
   "execution_count": 12,
   "id": "e4960b96-a793-4199-84f4-dc611fb89eef",
   "metadata": {},
   "outputs": [
    {
     "data": {
      "text/plain": [
       "[Document(page_content='🦜🦜🦜 textlong', metadata={'type': 'H1', 'id': '1'}),\n",
       " Document(page_content='[![PyPI version](https://img.shields.io/pypi/v/textlong.svg)](https://pypi.org/project/textlong/)\\n\\n**textlong** 的目标是基于大语言模型提供结构化的长文本生成能力。', metadata={'type': 'paragraph', 'id': '1.0'}),\n",
       " Document(page_content='一、安装', metadata={'type': 'H2', 'id': '1.1'}),\n",
       " Document(page_content='你可以使用 pip 安装：\\n```\\npip install -U textlong\\n```\\n\\n或者使用 poetry 安装：\\n```\\npoetry add textlong@latest\\n```', metadata={'type': 'paragraph', 'id': '1.1.0'}),\n",
       " Document(page_content='二、结构化长文生成能力', metadata={'type': 'H2', 'id': '1.2'}),\n",
       " Document(page_content='`textlong` 中提供如下创作工具：\\n\\n- `WritingTask`：用于生成结构化长文\\n\\n**1. 加载环境变量：**\\n\\n```python\\nfrom dotenv import load_dotenv, find_dotenv\\nload_dotenv(find_dotenv(), override=True)\\n```\\n\\n**2. 创建`WritingTask`实例：**\\n\\n```python\\nfrom textlong import WritingTask\\nfrom langchain_openai import ChatOpenAI\\n\\ntask = WritingTask(llm=ChatOpenAI())\\n```\\n\\n**3. 使用`auto_write`方法自动生成一段长文：**\\n\\n```python\\ntask.auto_write(\"task 给好基友写一封信, 1800字，分4段就行\")\\n```\\n\\n**4. 使用`repl_write`方法控制台，在人工干预过程中生成一段长文：**\\n\\n```python\\ntask.repl_write(\"task 给好基友写一封信, 1800字，分4段就行\")\\n\\n## ...\\n## 接下来，你可以一直输入 ok 指令确认生成的内容，获得与 auto_write 类似的效果\\n```\\n\\n**5. 你可以查看生成的提纲（也可以在repl模式中输入 outlines）：**\\n\\n```python\\n# 查看创作大纲\\ntask.invoke(\"outlines\")[\\'reply\\']\\n```\\n\\n**6. 或者查看文字成果：**\\n\\n```python\\ntask.invoke(\"texts\")[\\'reply\\']\\n```\\n\\n**7. 使用`invoke`方法执行`help`指令，以获得帮助:**\\n\\n```python\\ntask.invoke(\"help 我在repl模式中还可以做什么？\")\\n```', metadata={'type': 'paragraph', 'id': '1.2.0'})]"
      ]
     },
     "execution_count": 12,
     "metadata": {},
     "output_type": "execute_result"
    }
   ],
   "source": [
    "from textlong.md import IntelliDocuments\n",
    "t = IntelliDocuments(md)\n",
    "t.documents"
   ]
  },
  {
   "cell_type": "code",
   "execution_count": 13,
   "id": "ccc29fe6-03df-4c27-96c2-9a7782ae13e1",
   "metadata": {},
   "outputs": [
    {
     "name": "stdout",
     "output_type": "stream",
     "text": [
      "\n",
      "# 1 🦜🦜🦜 textlong\n",
      "\n",
      "[![PyPI version](https://img.shields.io/pypi/v/textlong.svg)](https://pypi.org/project/textlong/)\n",
      "\n",
      "**textlong** 的目标是基于大语言模型提供结构化的长文本生成能力。\n",
      "\n",
      "## 1.1 一、安装\n",
      "\n",
      "你可以使用 pip 安装：\n",
      "```\n",
      "pip install -U textlong\n",
      "```\n",
      "\n",
      "或者使用 poetry 安装：\n",
      "```\n",
      "poetry add textlong@latest\n",
      "```\n",
      "\n",
      "## 1.2 二、结构化长文生成能力\n",
      "\n",
      "`textlong` 中提供如下创作工具：\n",
      "\n",
      "- `WritingTask`：用于生成结构化长文\n",
      "\n",
      "**1. 加载环境变量：**\n",
      "\n",
      "```python\n",
      "from dotenv import load_dotenv, find_dotenv\n",
      "load_dotenv(find_dotenv(), override=True)\n",
      "```\n",
      "\n",
      "**2. 创建`WritingTask`实例：**\n",
      "\n",
      "```python\n",
      "from textlong import WritingTask\n",
      "from langchain_openai import ChatOpenAI\n",
      "\n",
      "task = WritingTask(llm=ChatOpenAI())\n",
      "```\n",
      "\n",
      "**3. 使用`auto_write`方法自动生成一段长文：**\n",
      "\n",
      "```python\n",
      "task.auto_write(\"task 给好基友写一封信, 1800字，分4段就行\")\n",
      "```\n",
      "\n",
      "**4. 使用`repl_write`方法控制台，在人工干预过程中生成一段长文：**\n",
      "\n",
      "```python\n",
      "task.repl_write(\"task 给好基友写一封信, 1800字，分4段就行\")\n",
      "\n",
      "## ...\n",
      "## 接下来，你可以一直输入 ok 指令确认生成的内容，获得与 auto_write 类似的效果\n",
      "```\n",
      "\n",
      "**5. 你可以查看生成的提纲（也可以在repl模式中输入 outlines）：**\n",
      "\n",
      "```python\n",
      "# 查看创作大纲\n",
      "task.invoke(\"outlines\")['reply']\n",
      "```\n",
      "\n",
      "**6. 或者查看文字成果：**\n",
      "\n",
      "```python\n",
      "task.invoke(\"texts\")['reply']\n",
      "```\n",
      "\n",
      "**7. 使用`invoke`方法执行`help`指令，以获得帮助:**\n",
      "\n",
      "```python\n",
      "task.invoke(\"help 我在repl模式中还可以做什么？\")\n",
      "```\n",
      "\n"
     ]
    }
   ],
   "source": [
    "print(t.get_markdown(with_number=True))"
   ]
  },
  {
   "cell_type": "markdown",
   "id": "86562af4-92c1-482e-965d-7d8f50fe7aa5",
   "metadata": {},
   "source": [
    "## get_documents"
   ]
  },
  {
   "cell_type": "code",
   "execution_count": 14,
   "id": "98a7ab60-69d8-4be2-9051-342bb36f5e3e",
   "metadata": {},
   "outputs": [
    {
     "name": "stdout",
     "output_type": "stream",
     "text": [
      "\n"
     ]
    }
   ],
   "source": [
    "md = \"\"\"\n",
    "金轮法王，\n",
    "\n",
    "逍遥老仙，\n",
    "\n",
    "法力无边。\n",
    "\n",
    "华山论剑。\n",
    "\"\"\"\n",
    "\n",
    "from textlong.md import IntelliDocuments\n",
    "t = IntelliDocuments(md)\n",
    "t.documents\n",
    "\n",
    "print(t.get_markdown())"
   ]
  },
  {
   "cell_type": "code",
   "execution_count": 15,
   "id": "ba343052-c32d-42ee-9d42-5adc0fe7a3dc",
   "metadata": {},
   "outputs": [
    {
     "name": "stdout",
     "output_type": "stream",
     "text": [
      "\n",
      "### 标题3\n",
      "\n",
      "倚天不出。\n",
      "\n"
     ]
    }
   ],
   "source": [
    "md = \"\"\"\n",
    "# 标题1\n",
    "我的文档。\n",
    "\n",
    "## 标题2\n",
    "\n",
    "逍遥老仙，\n",
    "\n",
    "## 标题2\n",
    "\n",
    "法力无边。\n",
    "\n",
    "### 标题3 \n",
    "\n",
    "倚天不出。\n",
    "\n",
    "### 标题3 \n",
    "\n",
    "谁与争锋。\n",
    "\n",
    "## 又一个标题2\n",
    "\n",
    "华山论剑。\n",
    "\"\"\"\n",
    "\n",
    "from textlong.md import IntelliDocuments\n",
    "t = IntelliDocuments(md)\n",
    "t.documents\n",
    "\n",
    "print(t.get_markdown(\"1.2.1\"))"
   ]
  },
  {
   "cell_type": "code",
   "execution_count": 16,
   "id": "422cea94-3741-48c1-8cbb-9756f13759e7",
   "metadata": {},
   "outputs": [
    {
     "data": {
      "text/plain": [
       "[Document(page_content='标题1', metadata={'type': 'H1', 'id': '1'}),\n",
       " Document(page_content='我的文档。', metadata={'type': 'paragraph', 'id': '1.0'}),\n",
       " Document(page_content='标题2', metadata={'type': 'H2', 'id': '1.1'}),\n",
       " Document(page_content='逍遥老仙，', metadata={'type': 'paragraph', 'id': '1.1.0'}),\n",
       " Document(page_content='标题2', metadata={'type': 'H2', 'id': '1.2'}),\n",
       " Document(page_content='法力无边。', metadata={'type': 'paragraph', 'id': '1.2.0'}),\n",
       " Document(page_content='标题3', metadata={'type': 'H3', 'id': '1.2.1'}),\n",
       " Document(page_content='倚天不出。', metadata={'type': 'paragraph', 'id': '1.2.1.0'}),\n",
       " Document(page_content='标题3', metadata={'type': 'H3', 'id': '1.2.2'}),\n",
       " Document(page_content='谁与争锋。', metadata={'type': 'paragraph', 'id': '1.2.2.0'}),\n",
       " Document(page_content='又一个标题2', metadata={'type': 'H2', 'id': '1.3'}),\n",
       " Document(page_content='华山论剑。', metadata={'type': 'paragraph', 'id': '1.3.0'})]"
      ]
     },
     "execution_count": 16,
     "metadata": {},
     "output_type": "execute_result"
    }
   ],
   "source": [
    "t.get_documents()"
   ]
  },
  {
   "cell_type": "code",
   "execution_count": 17,
   "id": "c7cf7dbb-791a-4e79-acaf-a7ad8c1e8b8d",
   "metadata": {},
   "outputs": [
    {
     "name": "stdout",
     "output_type": "stream",
     "text": [
      "\n",
      "# 1 标题1\n",
      "\n",
      "我的文档。\n",
      "\n",
      "## 1.1 标题2\n",
      "\n",
      "逍遥老仙，\n",
      "\n",
      "## 1.2 标题2\n",
      "\n",
      "法力无边。\n",
      "\n",
      "### 1.2.1 标题3\n",
      "\n",
      "倚天不出。\n",
      "\n",
      "### 1.2.2 标题3\n",
      "\n",
      "谁与争锋。\n",
      "\n",
      "## 1.3 又一个标题2\n",
      "\n",
      "华山论剑。\n",
      "\n"
     ]
    }
   ],
   "source": [
    "print(t.get_markdown(with_number=True))"
   ]
  },
  {
   "cell_type": "markdown",
   "id": "eb2d185b-bc41-4895-b666-8ca3425d3ff2",
   "metadata": {},
   "source": [
    "## 获得叶子提纲"
   ]
  },
  {
   "cell_type": "code",
   "execution_count": 18,
   "id": "cdd55ee1-d0fc-49b1-aac8-959f883878d8",
   "metadata": {},
   "outputs": [
    {
     "data": {
      "text/plain": [
       "[Document(page_content='标题1', metadata={'type': 'H1', 'id': '1'}),\n",
       " Document(page_content='标题2', metadata={'type': 'H2', 'id': '1.1'}),\n",
       " Document(page_content='标题2', metadata={'type': 'H2', 'id': '1.2'}),\n",
       " Document(page_content='标题3', metadata={'type': 'H3', 'id': '1.2.1'}),\n",
       " Document(page_content='标题3', metadata={'type': 'H3', 'id': '1.2.2'}),\n",
       " Document(page_content='又一个标题2', metadata={'type': 'H2', 'id': '1.3'})]"
      ]
     },
     "execution_count": 18,
     "metadata": {},
     "output_type": "execute_result"
    }
   ],
   "source": [
    "t.get_documents(node_type=\"H\")"
   ]
  },
  {
   "cell_type": "code",
   "execution_count": 19,
   "id": "5d5e2304-ace1-410e-8640-48ef0faeb122",
   "metadata": {},
   "outputs": [
    {
     "data": {
      "text/plain": [
       "['1.1', '1.2.1', '1.2.2', '1.3']"
      ]
     },
     "execution_count": 19,
     "metadata": {},
     "output_type": "execute_result"
    }
   ],
   "source": [
    "t.get_todo_ids()"
   ]
  },
  {
   "cell_type": "code",
   "execution_count": 20,
   "id": "3b9b26dd-0ead-42b4-bbc2-c1d263ef6c0f",
   "metadata": {},
   "outputs": [
    {
     "data": {
      "text/plain": [
       "['1.2.1', '1.2.2']"
      ]
     },
     "execution_count": 20,
     "metadata": {},
     "output_type": "execute_result"
    }
   ],
   "source": [
    "t.get_todo_ids(\"1.2\")"
   ]
  },
  {
   "cell_type": "markdown",
   "id": "7f8cbaa9-12c6-4c4d-a31e-2f074480a679",
   "metadata": {},
   "source": [
    "## 获得精简提纲"
   ]
  },
  {
   "cell_type": "code",
   "execution_count": 25,
   "id": "6366a6ac-a874-4583-892e-94e45e2cae67",
   "metadata": {},
   "outputs": [
    {
     "name": "stdout",
     "output_type": "stream",
     "text": [
      "\n",
      "# 1 标题1\n",
      "\n",
      "我的文档。\n",
      "\n",
      "## 1.2 标题2\n",
      "\n",
      "法力无边。\n",
      "\n",
      "### 1.2.2 标题3\n",
      "\n",
      "谁与争锋。\n",
      "\n"
     ]
    }
   ],
   "source": [
    "print(t.get_relevant_documents(\"1.2.2.0\", with_number=True))"
   ]
  },
  {
   "cell_type": "markdown",
   "id": "14517a86-c02b-4da0-a846-957b79c25087",
   "metadata": {},
   "source": [
    "## 获得扩写前文"
   ]
  },
  {
   "cell_type": "code",
   "execution_count": 24,
   "id": "3f2a048c-60f9-4d7e-a7e4-e3dee70d6c2e",
   "metadata": {},
   "outputs": [
    {
     "name": "stdout",
     "output_type": "stream",
     "text": [
      "\n",
      "# 1 标题1\n",
      "\n",
      "我的文档。\n",
      "\n",
      "## 1.1 标题2\n",
      "\n",
      "逍遥老仙，\n",
      "\n",
      "## 1.2 标题2\n",
      "\n",
      "法力无边。\n",
      "\n",
      "### 1.2.1 标题3\n",
      "\n",
      "倚天不出。\n",
      "\n",
      "### 1.2.2 标题3\n",
      "\n",
      "谁与争锋。\n",
      "\n",
      "## 1.3 又一个标题2\n",
      "\n",
      "华山论剑。\n",
      "\n"
     ]
    }
   ],
   "source": [
    "print(t.get_prev_markdown(\"1.4\", k=140, with_number=True))"
   ]
  },
  {
   "cell_type": "code",
   "execution_count": null,
   "id": "daa68f7a-d30c-4951-bda9-5bda9f9c4bec",
   "metadata": {},
   "outputs": [],
   "source": []
  }
 ],
 "metadata": {
  "kernelspec": {
   "display_name": "langchani-book-py3.10-ipykernel",
   "language": "python",
   "name": "langchani-book-py3.10-ipykernel"
  },
  "language_info": {
   "codemirror_mode": {
    "name": "ipython",
    "version": 3
   },
   "file_extension": ".py",
   "mimetype": "text/x-python",
   "name": "python",
   "nbconvert_exporter": "python",
   "pygments_lexer": "ipython3",
   "version": "3.10.0"
  }
 },
 "nbformat": 4,
 "nbformat_minor": 5
}
