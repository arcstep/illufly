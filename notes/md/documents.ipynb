{
 "cells": [
  {
   "cell_type": "code",
   "execution_count": 1,
   "id": "651b2484-ff16-406e-96ba-b1d8ef245087",
   "metadata": {},
   "outputs": [],
   "source": [
    "from textlong.md.documents import IntelliDocuments\n",
    "from textlong.parser import parse_markdown"
   ]
  },
  {
   "cell_type": "code",
   "execution_count": 2,
   "id": "1a1933f0-de79-4bbe-ba2d-cc6e0e34f1f8",
   "metadata": {},
   "outputs": [],
   "source": [
    "md = \"\"\"\n",
    "## 前序\n",
    "\n",
    "# 标题1\n",
    "我的文档。\n",
    "\n",
    "<OUTLINE>\n",
    "扩写依据:\n",
    "你说的有道理\n",
    "</OUTLINE>\n",
    "\n",
    "## 标题2\n",
    "\n",
    "逍遥老仙，\n",
    "\n",
    "逍遥小仙，\n",
    "\n",
    "<OUTLINE>\n",
    "扩写依据：帮我描述一下逍遥老仙的威武霸气\n",
    "</OUTLINE>\n",
    "\n",
    "那又是谁？\n",
    "\n",
    "<OUTLINE>\n",
    "扩写依据：帮我描述一下逍遥小仙的武功盖世\n",
    "## 宁厌烦\n",
    "## 宁雪\n",
    "</OUTLINE>\n",
    "\n",
    "## 第一个标题2\n",
    "\n",
    "法力无边。\n",
    "\n",
    "### 标题3 \n",
    "\n",
    "倚天不出，谁与争锋。\n",
    "\n",
    "## 又一个标题2\n",
    "\n",
    "华山论剑。\n",
    "\"\"\""
   ]
  },
  {
   "cell_type": "markdown",
   "id": "f2fbf6e4-adae-475d-a471-505933d0a886",
   "metadata": {},
   "source": [
    "# Parse"
   ]
  },
  {
   "cell_type": "code",
   "execution_count": 3,
   "id": "8864b0b8-b78b-443f-9087-0ba13fcb2f46",
   "metadata": {},
   "outputs": [
    {
     "data": {
      "text/plain": [
       "[Document(page_content='', metadata={'type': 'blank_line', 'id': '1717540960-0'}),\n",
       " Document(page_content='## 前序\\n\\n', metadata={'type': 'heading', 'attrs': {'level': 2}, 'style': 'axt', 'children': [{'type': 'text', 'raw': '前序'}], 'id': '1717540960-1'}),\n",
       " Document(page_content='', metadata={'type': 'blank_line', 'id': '1717540960-2'}),\n",
       " Document(page_content='# 标题1\\n\\n', metadata={'type': 'heading', 'attrs': {'level': 1}, 'style': 'axt', 'children': [{'type': 'text', 'raw': '标题1'}], 'id': '1717540960-3'}),\n",
       " Document(page_content='我的文档。\\n\\n', metadata={'type': 'paragraph', 'children': [{'type': 'text', 'raw': '我的文档。'}], 'id': '1717540960-4'}),\n",
       " Document(page_content='', metadata={'type': 'blank_line', 'id': '1717540960-5'}),\n",
       " Document(page_content='\\n扩写依据:\\n你说的有道理\\n', metadata={'id': '1717540960-6', 'type': 'OUTLINE'}),\n",
       " Document(page_content='', metadata={'type': 'blank_line', 'id': '1717540960-7'}),\n",
       " Document(page_content='## 标题2\\n\\n', metadata={'type': 'heading', 'attrs': {'level': 2}, 'style': 'axt', 'children': [{'type': 'text', 'raw': '标题2'}], 'id': '1717540960-8'}),\n",
       " Document(page_content='', metadata={'type': 'blank_line', 'id': '1717540960-9'}),\n",
       " Document(page_content='逍遥老仙，\\n\\n', metadata={'type': 'paragraph', 'children': [{'type': 'text', 'raw': '逍遥老仙，'}], 'id': '1717540960-10'}),\n",
       " Document(page_content='', metadata={'type': 'blank_line', 'id': '1717540960-11'}),\n",
       " Document(page_content='逍遥小仙，\\n\\n', metadata={'type': 'paragraph', 'children': [{'type': 'text', 'raw': '逍遥小仙，'}], 'id': '1717540960-12'}),\n",
       " Document(page_content='', metadata={'type': 'blank_line', 'id': '1717540960-13'}),\n",
       " Document(page_content='\\n扩写依据：帮我描述一下逍遥老仙的威武霸气\\n', metadata={'id': '1717540960-14', 'type': 'OUTLINE'}),\n",
       " Document(page_content='', metadata={'type': 'blank_line', 'id': '1717540960-15'}),\n",
       " Document(page_content='那又是谁？\\n\\n', metadata={'type': 'paragraph', 'children': [{'type': 'text', 'raw': '那又是谁？'}], 'id': '1717540960-16'}),\n",
       " Document(page_content='', metadata={'type': 'blank_line', 'id': '1717540960-17'}),\n",
       " Document(page_content='\\n扩写依据：帮我描述一下逍遥小仙的武功盖世\\n## 宁厌烦\\n## 宁雪\\n', metadata={'id': '1717540960-18', 'type': 'OUTLINE'}),\n",
       " Document(page_content='', metadata={'type': 'blank_line', 'id': '1717540960-19'}),\n",
       " Document(page_content='## 第一个标题2\\n\\n', metadata={'type': 'heading', 'attrs': {'level': 2}, 'style': 'axt', 'children': [{'type': 'text', 'raw': '第一个标题2'}], 'id': '1717540960-20'}),\n",
       " Document(page_content='', metadata={'type': 'blank_line', 'id': '1717540960-21'}),\n",
       " Document(page_content='法力无边。\\n\\n', metadata={'type': 'paragraph', 'children': [{'type': 'text', 'raw': '法力无边。'}], 'id': '1717540960-22'}),\n",
       " Document(page_content='', metadata={'type': 'blank_line', 'id': '1717540960-23'}),\n",
       " Document(page_content='### 标题3\\n\\n', metadata={'type': 'heading', 'attrs': {'level': 3}, 'style': 'axt', 'children': [{'type': 'text', 'raw': '标题3'}], 'id': '1717540960-24'}),\n",
       " Document(page_content='', metadata={'type': 'blank_line', 'id': '1717540960-25'}),\n",
       " Document(page_content='倚天不出，谁与争锋。\\n\\n', metadata={'type': 'paragraph', 'children': [{'type': 'text', 'raw': '倚天不出，谁与争锋。'}], 'id': '1717540960-26'}),\n",
       " Document(page_content='', metadata={'type': 'blank_line', 'id': '1717540960-27'}),\n",
       " Document(page_content='## 又一个标题2\\n\\n', metadata={'type': 'heading', 'attrs': {'level': 2}, 'style': 'axt', 'children': [{'type': 'text', 'raw': '又一个标题2'}], 'id': '1717540960-28'}),\n",
       " Document(page_content='', metadata={'type': 'blank_line', 'id': '1717540960-29'}),\n",
       " Document(page_content='华山论剑。\\n\\n', metadata={'type': 'paragraph', 'children': [{'type': 'text', 'raw': '华山论剑。'}], 'id': '1717540960-30'})]"
      ]
     },
     "execution_count": 3,
     "metadata": {},
     "output_type": "execute_result"
    }
   ],
   "source": [
    "parse_markdown(md)"
   ]
  },
  {
   "cell_type": "markdown",
   "id": "4f7e2ffd-0254-45d1-9784-8a96257aec91",
   "metadata": {},
   "source": [
    "# IntelliDocuments"
   ]
  },
  {
   "cell_type": "markdown",
   "id": "79425487-eb0e-428e-b6c4-eebed5abf19a",
   "metadata": {},
   "source": [
    "## `__init__`"
   ]
  },
  {
   "cell_type": "code",
   "execution_count": 4,
   "id": "6abba28e-188c-4404-8697-ce1b95bdf695",
   "metadata": {},
   "outputs": [
    {
     "data": {
      "text/plain": [
       "[Document(page_content='', metadata={'type': 'blank_line', 'id': '1717511383-0', 'action': 'import'}),\n",
       " Document(page_content='## 前序\\n\\n', metadata={'type': 'heading', 'attrs': {'level': 2}, 'style': 'axt', 'children': [{'type': 'text', 'raw': '前序'}], 'id': '1717511383-1', 'action': 'import'}),\n",
       " Document(page_content='', metadata={'type': 'blank_line', 'id': '1717511383-2', 'action': 'import'}),\n",
       " Document(page_content='# 标题1\\n\\n', metadata={'type': 'heading', 'attrs': {'level': 1}, 'style': 'axt', 'children': [{'type': 'text', 'raw': '标题1'}], 'id': '1717511383-3', 'action': 'import'}),\n",
       " Document(page_content='我的文档。\\n\\n', metadata={'type': 'paragraph', 'children': [{'type': 'text', 'raw': '我的文档。'}], 'id': '1717511383-4', 'action': 'import'}),\n",
       " Document(page_content='', metadata={'type': 'blank_line', 'id': '1717511383-5', 'action': 'import'}),\n",
       " Document(page_content='\\n扩写依据:\\n你说的有道理\\n', metadata={'id': '1717511383-6', 'type': 'OUTLINE', 'action': 'import'}),\n",
       " Document(page_content='', metadata={'type': 'blank_line', 'id': '1717511383-7', 'action': 'import'}),\n",
       " Document(page_content='## 标题2\\n\\n', metadata={'type': 'heading', 'attrs': {'level': 2}, 'style': 'axt', 'children': [{'type': 'text', 'raw': '标题2'}], 'id': '1717511383-8', 'action': 'import'}),\n",
       " Document(page_content='', metadata={'type': 'blank_line', 'id': '1717511383-9', 'action': 'import'}),\n",
       " Document(page_content='逍遥老仙，\\n\\n', metadata={'type': 'paragraph', 'children': [{'type': 'text', 'raw': '逍遥老仙，'}], 'id': '1717511383-10', 'action': 'import'}),\n",
       " Document(page_content='', metadata={'type': 'blank_line', 'id': '1717511383-11', 'action': 'import'}),\n",
       " Document(page_content='逍遥小仙，\\n\\n', metadata={'type': 'paragraph', 'children': [{'type': 'text', 'raw': '逍遥小仙，'}], 'id': '1717511383-12', 'action': 'import'}),\n",
       " Document(page_content='', metadata={'type': 'blank_line', 'id': '1717511383-13', 'action': 'import'}),\n",
       " Document(page_content='\\n扩写依据：帮我描述一下逍遥老仙的威武霸气\\n', metadata={'id': '1717511383-14', 'type': 'OUTLINE', 'action': 'import'}),\n",
       " Document(page_content='', metadata={'type': 'blank_line', 'id': '1717511383-15', 'action': 'import'}),\n",
       " Document(page_content='那又是谁？\\n\\n', metadata={'type': 'paragraph', 'children': [{'type': 'text', 'raw': '那又是谁？'}], 'id': '1717511383-16', 'action': 'import'}),\n",
       " Document(page_content='', metadata={'type': 'blank_line', 'id': '1717511383-17', 'action': 'import'}),\n",
       " Document(page_content='\\n扩写依据：帮我描述一下逍遥小仙的武功盖世\\n## 宁厌烦\\n## 宁雪\\n', metadata={'id': '1717511383-18', 'type': 'OUTLINE', 'action': 'import'}),\n",
       " Document(page_content='', metadata={'type': 'blank_line', 'id': '1717511383-19', 'action': 'import'}),\n",
       " Document(page_content='## 第一个标题2\\n\\n', metadata={'type': 'heading', 'attrs': {'level': 2}, 'style': 'axt', 'children': [{'type': 'text', 'raw': '第一个标题2'}], 'id': '1717511383-20', 'action': 'import'}),\n",
       " Document(page_content='', metadata={'type': 'blank_line', 'id': '1717511383-21', 'action': 'import'}),\n",
       " Document(page_content='法力无边。\\n\\n', metadata={'type': 'paragraph', 'children': [{'type': 'text', 'raw': '法力无边。'}], 'id': '1717511383-22', 'action': 'import'}),\n",
       " Document(page_content='', metadata={'type': 'blank_line', 'id': '1717511383-23', 'action': 'import'}),\n",
       " Document(page_content='### 标题3\\n\\n', metadata={'type': 'heading', 'attrs': {'level': 3}, 'style': 'axt', 'children': [{'type': 'text', 'raw': '标题3'}], 'id': '1717511383-24', 'action': 'import'}),\n",
       " Document(page_content='', metadata={'type': 'blank_line', 'id': '1717511383-25', 'action': 'import'}),\n",
       " Document(page_content='倚天不出，谁与争锋。\\n\\n', metadata={'type': 'paragraph', 'children': [{'type': 'text', 'raw': '倚天不出，谁与争锋。'}], 'id': '1717511383-26', 'action': 'import'}),\n",
       " Document(page_content='', metadata={'type': 'blank_line', 'id': '1717511383-27', 'action': 'import'}),\n",
       " Document(page_content='## 又一个标题2\\n\\n', metadata={'type': 'heading', 'attrs': {'level': 2}, 'style': 'axt', 'children': [{'type': 'text', 'raw': '又一个标题2'}], 'id': '1717511383-28', 'action': 'import'}),\n",
       " Document(page_content='', metadata={'type': 'blank_line', 'id': '1717511383-29', 'action': 'import'}),\n",
       " Document(page_content='华山论剑。\\n\\n', metadata={'type': 'paragraph', 'children': [{'type': 'text', 'raw': '华山论剑。'}], 'id': '1717511383-30', 'action': 'import'})]"
      ]
     },
     "execution_count": 4,
     "metadata": {},
     "output_type": "execute_result"
    }
   ],
   "source": [
    "t = IntelliDocuments(md)\n",
    "t.documents"
   ]
  },
  {
   "cell_type": "markdown",
   "id": "ca8cb95c-89ab-4cfd-a030-f8a3abde24e2",
   "metadata": {},
   "source": [
    "## get_documents_range"
   ]
  },
  {
   "cell_type": "code",
   "execution_count": 6,
   "id": "6fcff382-4103-42ef-b526-44518508caaf",
   "metadata": {},
   "outputs": [
    {
     "data": {
      "text/plain": [
       "(20, 28)"
      ]
     },
     "execution_count": 6,
     "metadata": {},
     "output_type": "execute_result"
    }
   ],
   "source": [
    "t.get_documents_range(\"## 第一个标题2\")"
   ]
  },
  {
   "cell_type": "code",
   "execution_count": 7,
   "id": "fcaf3c9f-7d11-477e-aeb6-4488c4d9e592",
   "metadata": {},
   "outputs": [
    {
     "name": "stdout",
     "output_type": "stream",
     "text": [
      "(\"Can't find title: \", '不存在的标题')\n"
     ]
    }
   ],
   "source": [
    "try:\n",
    "    t.get_documents_range(\"不存在的标题\")\n",
    "except ValueError as e:\n",
    "    print(e)"
   ]
  },
  {
   "cell_type": "markdown",
   "id": "2772341f-5ce4-4be5-8303-27eaa7d73fba",
   "metadata": {},
   "source": [
    "## get_documents"
   ]
  },
  {
   "cell_type": "code",
   "execution_count": 8,
   "id": "2ac7c064-a8ff-4869-a2bf-39066b7c3fb2",
   "metadata": {},
   "outputs": [
    {
     "data": {
      "text/plain": [
       "[Document(page_content='法力无边。\\n\\n', metadata={'type': 'paragraph', 'children': [{'type': 'text', 'raw': '法力无边。'}], 'id': '1717511383-22', 'action': 'import'}),\n",
       " Document(page_content='倚天不出，谁与争锋。\\n\\n', metadata={'type': 'paragraph', 'children': [{'type': 'text', 'raw': '倚天不出，谁与争锋。'}], 'id': '1717511383-26', 'action': 'import'})]"
      ]
     },
     "execution_count": 8,
     "metadata": {},
     "output_type": "execute_result"
    }
   ],
   "source": [
    "t.get_documents(\"## 第一个标题2\")"
   ]
  },
  {
   "cell_type": "code",
   "execution_count": 9,
   "id": "96a6474f-26f6-42e1-8e13-46ab7e947ea2",
   "metadata": {},
   "outputs": [
    {
     "name": "stdout",
     "output_type": "stream",
     "text": [
      "(\"Can't find title: \", '不存在的标题')\n"
     ]
    }
   ],
   "source": [
    "try:\n",
    "    t.get_documents(\"不存在的标题\")\n",
    "except ValueError as e:\n",
    "    print(e)"
   ]
  },
  {
   "cell_type": "markdown",
   "id": "98553cfc-b0e5-4f34-b18b-56ccefa8f555",
   "metadata": {},
   "source": [
    "## get_markdown"
   ]
  },
  {
   "cell_type": "code",
   "execution_count": 9,
   "id": "357f9d3d-e400-4e75-9899-4d2ae939256a",
   "metadata": {},
   "outputs": [
    {
     "data": {
      "text/plain": [
       "[]"
      ]
     },
     "execution_count": 9,
     "metadata": {},
     "output_type": "execute_result"
    }
   ],
   "source": [
    "t.get_documents()"
   ]
  },
  {
   "cell_type": "code",
   "execution_count": 10,
   "id": "e1cc7ee7-0919-4c6c-87aa-f14c854aa338",
   "metadata": {},
   "outputs": [
    {
     "data": {
      "text/plain": [
       "'\\n## 前序\\n\\n\\n# 标题1\\n\\n我的文档。\\n\\n## 标题2\\n\\n逍遥老仙，\\n\\n## 第一个标题2\\n\\n法力无边。\\n\\n### 标题3\\n\\n倚天不出，谁与争锋。\\n\\n## 又一个标题2\\n\\n华山论剑。\\n'"
      ]
     },
     "execution_count": 10,
     "metadata": {},
     "output_type": "execute_result"
    }
   ],
   "source": [
    "IntelliDocuments.get_markdown(t.get_documents())"
   ]
  },
  {
   "cell_type": "markdown",
   "id": "fba72a3b-ec08-423f-bcfa-11afbc43e00c",
   "metadata": {},
   "source": [
    "## remove_documents"
   ]
  },
  {
   "cell_type": "code",
   "execution_count": 11,
   "id": "63ec468f-795e-4808-8df1-b90a842e5906",
   "metadata": {},
   "outputs": [
    {
     "data": {
      "text/plain": [
       "(3, 5)"
      ]
     },
     "execution_count": 11,
     "metadata": {},
     "output_type": "execute_result"
    }
   ],
   "source": [
    "t.get_documents_range(\"标题2\")"
   ]
  },
  {
   "cell_type": "code",
   "execution_count": 12,
   "id": "4e584e5c-6f50-4260-8e7e-1c9b06d80364",
   "metadata": {},
   "outputs": [
    {
     "data": {
      "text/plain": [
       "[Document(page_content='前序', metadata={'type': 'H2'}),\n",
       " Document(page_content='标题1', metadata={'type': 'H1'}),\n",
       " Document(page_content='我的文档。', metadata={'type': 'paragraph'}),\n",
       " Document(page_content='第一个标题2', metadata={'type': 'H2'}),\n",
       " Document(page_content='法力无边。', metadata={'type': 'paragraph'}),\n",
       " Document(page_content='标题3', metadata={'type': 'H3'}),\n",
       " Document(page_content='倚天不出，谁与争锋。', metadata={'type': 'paragraph'}),\n",
       " Document(page_content='又一个标题2', metadata={'type': 'H2'}),\n",
       " Document(page_content='华山论剑。', metadata={'type': 'paragraph'})]"
      ]
     },
     "execution_count": 12,
     "metadata": {},
     "output_type": "execute_result"
    }
   ],
   "source": [
    "t.remove_documents(\"标题2\")"
   ]
  },
  {
   "cell_type": "code",
   "execution_count": 13,
   "id": "e1b5138e-6e97-461f-a1c5-1d2c983d6930",
   "metadata": {},
   "outputs": [
    {
     "data": {
      "text/plain": [
       "[Document(page_content='前序', metadata={'type': 'H2'}),\n",
       " Document(page_content='标题1', metadata={'type': 'H1'}),\n",
       " Document(page_content='我的文档。', metadata={'type': 'paragraph'}),\n",
       " Document(page_content='第一个标题2', metadata={'type': 'H2'}),\n",
       " Document(page_content='法力无边。', metadata={'type': 'paragraph'}),\n",
       " Document(page_content='标题3', metadata={'type': 'H3'}),\n",
       " Document(page_content='倚天不出，谁与争锋。', metadata={'type': 'paragraph'}),\n",
       " Document(page_content='又一个标题2', metadata={'type': 'H2'}),\n",
       " Document(page_content='华山论剑。', metadata={'type': 'paragraph'})]"
      ]
     },
     "execution_count": 13,
     "metadata": {},
     "output_type": "execute_result"
    }
   ],
   "source": [
    "t.documents"
   ]
  },
  {
   "cell_type": "code",
   "execution_count": 14,
   "id": "d4a4e98a-9a4f-4977-b2af-17df0b4e205f",
   "metadata": {},
   "outputs": [
    {
     "data": {
      "text/plain": [
       "[Document(page_content='前序', metadata={'type': 'H2'}),\n",
       " Document(page_content='标题1', metadata={'type': 'H1'}),\n",
       " Document(page_content='我的文档。', metadata={'type': 'paragraph'}),\n",
       " Document(page_content='第一个标题2', metadata={'type': 'H2'}),\n",
       " Document(page_content='法力无边。', metadata={'type': 'paragraph'}),\n",
       " Document(page_content='标题3', metadata={'type': 'H3'}),\n",
       " Document(page_content='倚天不出，谁与争锋。', metadata={'type': 'paragraph'}),\n",
       " Document(page_content='又一个标题2', metadata={'type': 'H2'}),\n",
       " Document(page_content='华山论剑。', metadata={'type': 'paragraph'})]"
      ]
     },
     "execution_count": 14,
     "metadata": {},
     "output_type": "execute_result"
    }
   ],
   "source": [
    "t.get_documents(None)"
   ]
  },
  {
   "cell_type": "markdown",
   "id": "1f9cf30b-b3ff-4d83-8d37-f5dc74e9fb59",
   "metadata": {},
   "source": [
    "## insert_documents"
   ]
  },
  {
   "cell_type": "code",
   "execution_count": 15,
   "id": "a9700a24-445a-480a-b8f9-d0da27f41b82",
   "metadata": {},
   "outputs": [
    {
     "data": {
      "text/plain": [
       "[Document(page_content='前序', metadata={'type': 'H2'}),\n",
       " Document(page_content='标题1', metadata={'type': 'H1'}),\n",
       " Document(page_content='我的文档。', metadata={'type': 'paragraph'}),\n",
       " Document(page_content='标题2', metadata={'type': 'H2'}),\n",
       " Document(page_content='逍遥老仙，', metadata={'type': 'paragraph'}),\n",
       " Document(page_content='第一个标题2', metadata={'type': 'H2'}),\n",
       " Document(page_content='法力无边。', metadata={'type': 'paragraph'}),\n",
       " Document(page_content='标题3', metadata={'type': 'H3'}),\n",
       " Document(page_content='倚天不出，谁与争锋。', metadata={'type': 'paragraph'}),\n",
       " Document(page_content='又一个标题2', metadata={'type': 'H2'}),\n",
       " Document(page_content='华山论剑。', metadata={'type': 'paragraph'})]"
      ]
     },
     "execution_count": 15,
     "metadata": {},
     "output_type": "execute_result"
    }
   ],
   "source": [
    "t = IntelliDocuments(md)\n",
    "t.documents"
   ]
  },
  {
   "cell_type": "code",
   "execution_count": 16,
   "id": "21f0c1c2-d835-404f-95e2-8cb47158e3d0",
   "metadata": {},
   "outputs": [],
   "source": [
    "md2 = \"\"\"\n",
    "## 东邪西毒\n",
    "都是谁啊？\n",
    "\"\"\""
   ]
  },
  {
   "cell_type": "code",
   "execution_count": 17,
   "id": "9aa3fb5e-9d5c-4421-ad7c-5aeadc671148",
   "metadata": {},
   "outputs": [
    {
     "data": {
      "text/plain": [
       "[Document(page_content='东邪西毒', metadata={'type': 'H2'}),\n",
       " Document(page_content='都是谁啊？', metadata={'type': 'paragraph'})]"
      ]
     },
     "execution_count": 17,
     "metadata": {},
     "output_type": "execute_result"
    }
   ],
   "source": [
    "IntelliDocuments.parse_markdown(md2)"
   ]
  },
  {
   "cell_type": "code",
   "execution_count": 18,
   "id": "0d9410cb-3a34-448a-a2f6-e4b94102d6bc",
   "metadata": {},
   "outputs": [
    {
     "data": {
      "text/plain": [
       "[Document(page_content='前序', metadata={'type': 'H2'}),\n",
       " Document(page_content='标题1', metadata={'type': 'H1'}),\n",
       " Document(page_content='我的文档。', metadata={'type': 'paragraph'}),\n",
       " Document(page_content='标题2', metadata={'type': 'H2'}),\n",
       " Document(page_content='逍遥老仙，', metadata={'type': 'paragraph'}),\n",
       " Document(page_content='第一个标题2', metadata={'type': 'H2'}),\n",
       " Document(page_content='法力无边。', metadata={'type': 'paragraph'}),\n",
       " Document(page_content='东邪西毒', metadata={'type': 'H2'}),\n",
       " Document(page_content='都是谁啊？', metadata={'type': 'paragraph'}),\n",
       " Document(page_content='标题3', metadata={'type': 'H3'}),\n",
       " Document(page_content='倚天不出，谁与争锋。', metadata={'type': 'paragraph'}),\n",
       " Document(page_content='又一个标题2', metadata={'type': 'H2'}),\n",
       " Document(page_content='华山论剑。', metadata={'type': 'paragraph'})]"
      ]
     },
     "execution_count": 18,
     "metadata": {},
     "output_type": "execute_result"
    }
   ],
   "source": [
    "t.insert_documents(IntelliDocuments.parse_markdown(md2), \"标题3\")"
   ]
  },
  {
   "cell_type": "markdown",
   "id": "3f68d827-ef86-487b-8da6-5e4c2bf2eca0",
   "metadata": {},
   "source": [
    "## replace_documents"
   ]
  },
  {
   "cell_type": "code",
   "execution_count": 19,
   "id": "ed527a37-4243-43b8-804e-46b8c04820e0",
   "metadata": {},
   "outputs": [
    {
     "data": {
      "text/plain": [
       "[Document(page_content='前序', metadata={'type': 'H2'}),\n",
       " Document(page_content='标题1', metadata={'type': 'H1'}),\n",
       " Document(page_content='我的文档。', metadata={'type': 'paragraph'}),\n",
       " Document(page_content='标题2', metadata={'type': 'H2'}),\n",
       " Document(page_content='逍遥老仙，', metadata={'type': 'paragraph'}),\n",
       " Document(page_content='第一个标题2', metadata={'type': 'H2'}),\n",
       " Document(page_content='法力无边。', metadata={'type': 'paragraph'}),\n",
       " Document(page_content='东邪西毒', metadata={'type': 'H2'}),\n",
       " Document(page_content='都是谁啊？', metadata={'type': 'paragraph'}),\n",
       " Document(page_content='东邪西毒', metadata={'type': 'H2'}),\n",
       " Document(page_content='都是谁啊？', metadata={'type': 'paragraph'}),\n",
       " Document(page_content='又一个标题2', metadata={'type': 'H2'}),\n",
       " Document(page_content='华山论剑。', metadata={'type': 'paragraph'})]"
      ]
     },
     "execution_count": 19,
     "metadata": {},
     "output_type": "execute_result"
    }
   ],
   "source": [
    "t.replace_documents(IntelliDocuments.parse_markdown(md2), \"标题3\")"
   ]
  },
  {
   "cell_type": "code",
   "execution_count": 20,
   "id": "14cc9566-9ca0-4554-898c-a897059f11b8",
   "metadata": {},
   "outputs": [
    {
     "data": {
      "text/plain": [
       "(9, None)"
      ]
     },
     "execution_count": 20,
     "metadata": {},
     "output_type": "execute_result"
    }
   ],
   "source": [
    "t = IntelliDocuments(md)\n",
    "t\n",
    "t.get_documents_range(\"又一个标题2\")"
   ]
  },
  {
   "cell_type": "code",
   "execution_count": 21,
   "id": "98f52c08-2128-49c2-a813-ed4c13120015",
   "metadata": {},
   "outputs": [
    {
     "data": {
      "text/plain": [
       "[Document(page_content='前序', metadata={'type': 'H2'}),\n",
       " Document(page_content='标题1', metadata={'type': 'H1'}),\n",
       " Document(page_content='我的文档。', metadata={'type': 'paragraph'}),\n",
       " Document(page_content='标题2', metadata={'type': 'H2'}),\n",
       " Document(page_content='逍遥老仙，', metadata={'type': 'paragraph'}),\n",
       " Document(page_content='第一个标题2', metadata={'type': 'H2'}),\n",
       " Document(page_content='法力无边。', metadata={'type': 'paragraph'}),\n",
       " Document(page_content='标题3', metadata={'type': 'H3'}),\n",
       " Document(page_content='倚天不出，谁与争锋。', metadata={'type': 'paragraph'}),\n",
       " Document(page_content='东邪西毒', metadata={'type': 'H2'}),\n",
       " Document(page_content='都是谁啊？', metadata={'type': 'paragraph'})]"
      ]
     },
     "execution_count": 21,
     "metadata": {},
     "output_type": "execute_result"
    }
   ],
   "source": [
    "t.replace_documents(IntelliDocuments.parse_markdown(md2), \"又一个标题2\")"
   ]
  },
  {
   "cell_type": "markdown",
   "id": "dbef1014-c435-4bc0-8706-b614b38adf3d",
   "metadata": {},
   "source": [
    "## markdown: Code 标记"
   ]
  },
  {
   "cell_type": "code",
   "execution_count": 4,
   "id": "8525c0b1-8e65-4cf5-82f0-6d7462a6449a",
   "metadata": {},
   "outputs": [],
   "source": [
    "md = \"\"\"\n",
    "# 🦜🦜🦜 textlong\n",
    "[![PyPI version](https://img.shields.io/pypi/v/textlong.svg)](https://pypi.org/project/textlong/)\n",
    "\n",
    "**textlong** 的目标是基于大语言模型提供结构化的长文本生成能力。\n",
    "\n",
    "## 一、安装\n",
    "\n",
    "你可以使用 pip 安装：\n",
    "```\n",
    "pip install -U textlong\n",
    "```\n",
    "\n",
    "或者使用 poetry 安装：\n",
    "```\n",
    "poetry add textlong@latest\n",
    "```\n",
    "\n",
    "## 二、结构化长文生成能力\n",
    "\n",
    "`textlong` 中提供如下创作工具：\n",
    "\n",
    "- `WritingTask`：用于生成结构化长文\n",
    "\n",
    "**1. 加载环境变量：**\n",
    "\n",
    "```python\n",
    "from dotenv import load_dotenv, find_dotenv\n",
    "load_dotenv(find_dotenv(), override=True)\n",
    "```\n",
    "\n",
    "**2. 创建`WritingTask`实例：**\n",
    "\n",
    "```python\n",
    "from textlong import WritingTask\n",
    "from langchain_openai import ChatOpenAI\n",
    "\n",
    "task = WritingTask(llm=ChatOpenAI())\n",
    "```\n",
    "\n",
    "**3. 使用`auto_write`方法自动生成一段长文：**\n",
    "\n",
    "```python\n",
    "task.auto_write(\"task 给好基友写一封信, 1800字，分4段就行\")\n",
    "```\n",
    "\n",
    "**4. 使用`repl_write`方法控制台，在人工干预过程中生成一段长文：**\n",
    "\n",
    "```python\n",
    "task.repl_write(\"task 给好基友写一封信, 1800字，分4段就行\")\n",
    "\n",
    "## ...\n",
    "## 接下来，你可以一直输入 ok 指令确认生成的内容，获得与 auto_write 类似的效果\n",
    "```\n",
    "\n",
    "**5. 你可以查看生成的提纲（也可以在repl模式中输入 outlines）：**\n",
    "\n",
    "```python\n",
    "# 查看创作大纲\n",
    "task.invoke(\"outlines\")['reply']\n",
    "```\n",
    "\n",
    "**6. 或者查看文字成果：**\n",
    "\n",
    "```python\n",
    "task.invoke(\"texts\")['reply']\n",
    "```\n",
    "\n",
    "**7. 使用`invoke`方法执行`help`指令，以获得帮助:**\n",
    "\n",
    "```python\n",
    "task.invoke(\"help 我在repl模式中还可以做什么？\")\n",
    "```\n",
    "\n",
    "\"\"\""
   ]
  },
  {
   "cell_type": "code",
   "execution_count": 5,
   "id": "e4960b96-a793-4199-84f4-dc611fb89eef",
   "metadata": {},
   "outputs": [
    {
     "data": {
      "text/plain": [
       "[Document(page_content='', metadata={'type': 'blank_line', 'id': '1717510173-0', 'action': 'import'}),\n",
       " Document(page_content='# 🦜🦜🦜 textlong\\n\\n', metadata={'type': 'heading', 'attrs': {'level': 1}, 'style': 'axt', 'children': [{'type': 'text', 'raw': '🦜🦜🦜 textlong'}], 'id': '1717510173-1', 'action': 'import'}),\n",
       " Document(page_content='[![PyPI version](https://img.shields.io/pypi/v/textlong.svg)](https://pypi.org/project/textlong/)\\n\\n', metadata={'type': 'paragraph', 'children': [{'type': 'link', 'children': [{'type': 'image', 'children': [{'type': 'text', 'raw': 'PyPI version'}], 'attrs': {'url': 'https://img.shields.io/pypi/v/textlong.svg'}}], 'attrs': {'url': 'https://pypi.org/project/textlong/'}}], 'id': '1717510173-2', 'action': 'import'}),\n",
       " Document(page_content='', metadata={'type': 'blank_line', 'id': '1717510173-3', 'action': 'import'}),\n",
       " Document(page_content='**textlong** 的目标是基于大语言模型提供结构化的长文本生成能力。\\n\\n', metadata={'type': 'paragraph', 'children': [{'type': 'strong', 'children': [{'type': 'text', 'raw': 'textlong'}]}, {'type': 'text', 'raw': ' 的目标是基于大语言模型提供结构化的长文本生成能力。'}], 'id': '1717510173-4', 'action': 'import'}),\n",
       " Document(page_content='', metadata={'type': 'blank_line', 'id': '1717510173-5', 'action': 'import'}),\n",
       " Document(page_content='## 一、安装\\n\\n', metadata={'type': 'heading', 'attrs': {'level': 2}, 'style': 'axt', 'children': [{'type': 'text', 'raw': '一、安装'}], 'id': '1717510173-6', 'action': 'import'}),\n",
       " Document(page_content='', metadata={'type': 'blank_line', 'id': '1717510173-7', 'action': 'import'}),\n",
       " Document(page_content='你可以使用 pip 安装：\\n\\n', metadata={'type': 'paragraph', 'children': [{'type': 'text', 'raw': '你可以使用 pip 安装：'}], 'id': '1717510173-8', 'action': 'import'}),\n",
       " Document(page_content='```\\npip install -U textlong\\n```\\n\\n', metadata={'type': 'block_code', 'raw': 'pip install -U textlong\\n', 'style': 'fenced', 'marker': '```', 'id': '1717510173-9', 'action': 'import'}),\n",
       " Document(page_content='', metadata={'type': 'blank_line', 'id': '1717510173-10', 'action': 'import'}),\n",
       " Document(page_content='或者使用 poetry 安装：\\n\\n', metadata={'type': 'paragraph', 'children': [{'type': 'text', 'raw': '或者使用 poetry 安装：'}], 'id': '1717510173-11', 'action': 'import'}),\n",
       " Document(page_content='```\\npoetry add textlong@latest\\n```\\n\\n', metadata={'type': 'block_code', 'raw': 'poetry add textlong@latest\\n', 'style': 'fenced', 'marker': '```', 'id': '1717510173-12', 'action': 'import'}),\n",
       " Document(page_content='', metadata={'type': 'blank_line', 'id': '1717510173-13', 'action': 'import'}),\n",
       " Document(page_content='## 二、结构化长文生成能力\\n\\n', metadata={'type': 'heading', 'attrs': {'level': 2}, 'style': 'axt', 'children': [{'type': 'text', 'raw': '二、结构化长文生成能力'}], 'id': '1717510173-14', 'action': 'import'}),\n",
       " Document(page_content='', metadata={'type': 'blank_line', 'id': '1717510173-15', 'action': 'import'}),\n",
       " Document(page_content='`textlong` 中提供如下创作工具：\\n\\n', metadata={'type': 'paragraph', 'children': [{'type': 'codespan', 'raw': 'textlong'}, {'type': 'text', 'raw': ' 中提供如下创作工具：'}], 'id': '1717510173-16', 'action': 'import'}),\n",
       " Document(page_content='', metadata={'type': 'blank_line', 'id': '1717510173-17', 'action': 'import'}),\n",
       " Document(page_content='- `WritingTask`：用于生成结构化长文\\n\\n', metadata={'type': 'list', 'children': [{'type': 'list_item', 'children': [{'type': 'block_text', 'children': [{'type': 'codespan', 'raw': 'WritingTask'}, {'type': 'text', 'raw': '：用于生成结构化长文'}]}]}], 'tight': True, 'bullet': '-', 'attrs': {'depth': 0, 'ordered': False}, 'id': '1717510173-18', 'action': 'import'}),\n",
       " Document(page_content='**1. 加载环境变量：**\\n\\n', metadata={'type': 'paragraph', 'children': [{'type': 'strong', 'children': [{'type': 'text', 'raw': '1. 加载环境变量：'}]}], 'id': '1717510173-19', 'action': 'import'}),\n",
       " Document(page_content='', metadata={'type': 'blank_line', 'id': '1717510173-20', 'action': 'import'}),\n",
       " Document(page_content='```python\\nfrom dotenv import load_dotenv, find_dotenv\\nload_dotenv(find_dotenv(), override=True)\\n```\\n\\n', metadata={'type': 'block_code', 'raw': 'from dotenv import load_dotenv, find_dotenv\\nload_dotenv(find_dotenv(), override=True)\\n', 'style': 'fenced', 'marker': '```', 'attrs': {'info': 'python'}, 'id': '1717510173-21', 'action': 'import'}),\n",
       " Document(page_content='', metadata={'type': 'blank_line', 'id': '1717510173-22', 'action': 'import'}),\n",
       " Document(page_content='**2. 创建`WritingTask`实例：**\\n\\n', metadata={'type': 'paragraph', 'children': [{'type': 'strong', 'children': [{'type': 'text', 'raw': '2. 创建'}, {'type': 'codespan', 'raw': 'WritingTask'}, {'type': 'text', 'raw': '实例：'}]}], 'id': '1717510173-23', 'action': 'import'}),\n",
       " Document(page_content='', metadata={'type': 'blank_line', 'id': '1717510173-24', 'action': 'import'}),\n",
       " Document(page_content='```python\\nfrom textlong import WritingTask\\nfrom langchain_openai import ChatOpenAI\\n\\ntask = WritingTask(llm=ChatOpenAI())\\n```\\n\\n', metadata={'type': 'block_code', 'raw': 'from textlong import WritingTask\\nfrom langchain_openai import ChatOpenAI\\n\\ntask = WritingTask(llm=ChatOpenAI())\\n', 'style': 'fenced', 'marker': '```', 'attrs': {'info': 'python'}, 'id': '1717510173-25', 'action': 'import'}),\n",
       " Document(page_content='', metadata={'type': 'blank_line', 'id': '1717510173-26', 'action': 'import'}),\n",
       " Document(page_content='**3. 使用`auto_write`方法自动生成一段长文：**\\n\\n', metadata={'type': 'paragraph', 'children': [{'type': 'strong', 'children': [{'type': 'text', 'raw': '3. 使用'}, {'type': 'codespan', 'raw': 'auto_write'}, {'type': 'text', 'raw': '方法自动生成一段长文：'}]}], 'id': '1717510173-27', 'action': 'import'}),\n",
       " Document(page_content='', metadata={'type': 'blank_line', 'id': '1717510173-28', 'action': 'import'}),\n",
       " Document(page_content='```python\\ntask.auto_write(\"task 给好基友写一封信, 1800字，分4段就行\")\\n```\\n\\n', metadata={'type': 'block_code', 'raw': 'task.auto_write(\"task 给好基友写一封信, 1800字，分4段就行\")\\n', 'style': 'fenced', 'marker': '```', 'attrs': {'info': 'python'}, 'id': '1717510173-29', 'action': 'import'}),\n",
       " Document(page_content='', metadata={'type': 'blank_line', 'id': '1717510173-30', 'action': 'import'}),\n",
       " Document(page_content='**4. 使用`repl_write`方法控制台，在人工干预过程中生成一段长文：**\\n\\n', metadata={'type': 'paragraph', 'children': [{'type': 'strong', 'children': [{'type': 'text', 'raw': '4. 使用'}, {'type': 'codespan', 'raw': 'repl_write'}, {'type': 'text', 'raw': '方法控制台，在人工干预过程中生成一段长文：'}]}], 'id': '1717510173-31', 'action': 'import'}),\n",
       " Document(page_content='', metadata={'type': 'blank_line', 'id': '1717510173-32', 'action': 'import'}),\n",
       " Document(page_content='```python\\ntask.repl_write(\"task 给好基友写一封信, 1800字，分4段就行\")\\n\\n## ...\\n## 接下来，你可以一直输入 ok 指令确认生成的内容，获得与 auto_write 类似的效果\\n```\\n\\n', metadata={'type': 'block_code', 'raw': 'task.repl_write(\"task 给好基友写一封信, 1800字，分4段就行\")\\n\\n## ...\\n## 接下来，你可以一直输入 ok 指令确认生成的内容，获得与 auto_write 类似的效果\\n', 'style': 'fenced', 'marker': '```', 'attrs': {'info': 'python'}, 'id': '1717510173-33', 'action': 'import'}),\n",
       " Document(page_content='', metadata={'type': 'blank_line', 'id': '1717510173-34', 'action': 'import'}),\n",
       " Document(page_content='**5. 你可以查看生成的提纲（也可以在repl模式中输入 outlines）：**\\n\\n', metadata={'type': 'paragraph', 'children': [{'type': 'strong', 'children': [{'type': 'text', 'raw': '5. 你可以查看生成的提纲（也可以在repl模式中输入 outlines）：'}]}], 'id': '1717510173-35', 'action': 'import'}),\n",
       " Document(page_content='', metadata={'type': 'blank_line', 'id': '1717510173-36', 'action': 'import'}),\n",
       " Document(page_content='```python\\n# 查看创作大纲\\ntask.invoke(\"outlines\")[\\'reply\\']\\n```\\n\\n', metadata={'type': 'block_code', 'raw': '# 查看创作大纲\\ntask.invoke(\"outlines\")[\\'reply\\']\\n', 'style': 'fenced', 'marker': '```', 'attrs': {'info': 'python'}, 'id': '1717510173-37', 'action': 'import'}),\n",
       " Document(page_content='', metadata={'type': 'blank_line', 'id': '1717510173-38', 'action': 'import'}),\n",
       " Document(page_content='**6. 或者查看文字成果：**\\n\\n', metadata={'type': 'paragraph', 'children': [{'type': 'strong', 'children': [{'type': 'text', 'raw': '6. 或者查看文字成果：'}]}], 'id': '1717510173-39', 'action': 'import'}),\n",
       " Document(page_content='', metadata={'type': 'blank_line', 'id': '1717510173-40', 'action': 'import'}),\n",
       " Document(page_content='```python\\ntask.invoke(\"texts\")[\\'reply\\']\\n```\\n\\n', metadata={'type': 'block_code', 'raw': 'task.invoke(\"texts\")[\\'reply\\']\\n', 'style': 'fenced', 'marker': '```', 'attrs': {'info': 'python'}, 'id': '1717510173-41', 'action': 'import'}),\n",
       " Document(page_content='', metadata={'type': 'blank_line', 'id': '1717510173-42', 'action': 'import'}),\n",
       " Document(page_content='**7. 使用`invoke`方法执行`help`指令，以获得帮助:**\\n\\n', metadata={'type': 'paragraph', 'children': [{'type': 'strong', 'children': [{'type': 'text', 'raw': '7. 使用'}, {'type': 'codespan', 'raw': 'invoke'}, {'type': 'text', 'raw': '方法执行'}, {'type': 'codespan', 'raw': 'help'}, {'type': 'text', 'raw': '指令，以获得帮助:'}]}], 'id': '1717510173-43', 'action': 'import'}),\n",
       " Document(page_content='', metadata={'type': 'blank_line', 'id': '1717510173-44', 'action': 'import'}),\n",
       " Document(page_content='```python\\ntask.invoke(\"help 我在repl模式中还可以做什么？\")\\n```\\n\\n', metadata={'type': 'block_code', 'raw': 'task.invoke(\"help 我在repl模式中还可以做什么？\")\\n', 'style': 'fenced', 'marker': '```', 'attrs': {'info': 'python'}, 'id': '1717510173-45', 'action': 'import'}),\n",
       " Document(page_content='', metadata={'type': 'blank_line', 'id': '1717510173-46', 'action': 'import'})]"
      ]
     },
     "execution_count": 5,
     "metadata": {},
     "output_type": "execute_result"
    }
   ],
   "source": [
    "from textlong.md import IntelliDocuments\n",
    "t = IntelliDocuments(md)\n",
    "t.documents"
   ]
  },
  {
   "cell_type": "code",
   "execution_count": 24,
   "id": "ccc29fe6-03df-4c27-96c2-9a7782ae13e1",
   "metadata": {},
   "outputs": [
    {
     "name": "stdout",
     "output_type": "stream",
     "text": [
      "\n",
      "# 🦜🦜🦜 textlong\n",
      "\n",
      "[![PyPI version](https://img.shields.io/pypi/v/textlong.svg)](https://pypi.org/project/textlong/)\n",
      "\n",
      "**textlong** 的目标是基于大语言模型提供结构化的长文本生成能力。\n",
      "\n",
      "## 一、安装\n",
      "\n",
      "你可以使用 pip 安装：\n",
      "```\n",
      "pip install -U textlong\n",
      "```\n",
      "\n",
      "或者使用 poetry 安装：\n",
      "```\n",
      "poetry add textlong@latest\n",
      "```\n",
      "\n",
      "## 二、结构化长文生成能力\n",
      "\n",
      "`textlong` 中提供如下创作工具：\n",
      "\n",
      "- `WritingTask`：用于生成结构化长文\n",
      "\n",
      "**1. 加载环境变量：**\n",
      "\n",
      "```python\n",
      "from dotenv import load_dotenv, find_dotenv\n",
      "load_dotenv(find_dotenv(), override=True)\n",
      "```\n",
      "\n",
      "**2. 创建`WritingTask`实例：**\n",
      "\n",
      "```python\n",
      "from textlong import WritingTask\n",
      "from langchain_openai import ChatOpenAI\n",
      "\n",
      "task = WritingTask(llm=ChatOpenAI())\n",
      "```\n",
      "\n",
      "**3. 使用`auto_write`方法自动生成一段长文：**\n",
      "\n",
      "```python\n",
      "task.auto_write(\"task 给好基友写一封信, 1800字，分4段就行\")\n",
      "```\n",
      "\n",
      "**4. 使用`repl_write`方法控制台，在人工干预过程中生成一段长文：**\n",
      "\n",
      "```python\n",
      "task.repl_write(\"task 给好基友写一封信, 1800字，分4段就行\")\n",
      "\n",
      "## ...\n",
      "## 接下来，你可以一直输入 ok 指令确认生成的内容，获得与 auto_write 类似的效果\n",
      "```\n",
      "\n",
      "**5. 你可以查看生成的提纲（也可以在repl模式中输入 outlines）：**\n",
      "\n",
      "```python\n",
      "# 查看创作大纲\n",
      "task.invoke(\"outlines\")['reply']\n",
      "```\n",
      "\n",
      "**6. 或者查看文字成果：**\n",
      "\n",
      "```python\n",
      "task.invoke(\"texts\")['reply']\n",
      "```\n",
      "\n",
      "**7. 使用`invoke`方法执行`help`指令，以获得帮助:**\n",
      "\n",
      "```python\n",
      "task.invoke(\"help 我在repl模式中还可以做什么？\")\n",
      "```\n",
      "\n"
     ]
    }
   ],
   "source": [
    "print(t.get_markdown(t.get_documents()))"
   ]
  },
  {
   "cell_type": "markdown",
   "id": "86562af4-92c1-482e-965d-7d8f50fe7aa5",
   "metadata": {},
   "source": [
    "## markdown: 带编号"
   ]
  },
  {
   "cell_type": "code",
   "execution_count": 6,
   "id": "ba343052-c32d-42ee-9d42-5adc0fe7a3dc",
   "metadata": {},
   "outputs": [
    {
     "ename": "KeyError",
     "evalue": "'attrs'",
     "output_type": "error",
     "traceback": [
      "\u001b[0;31m---------------------------------------------------------------------------\u001b[0m",
      "\u001b[0;31mKeyError\u001b[0m                                  Traceback (most recent call last)",
      "Cell \u001b[0;32mIn[6], line 33\u001b[0m\n\u001b[1;32m     30\u001b[0m t \u001b[38;5;241m=\u001b[39m IntelliDocuments(md)\n\u001b[1;32m     31\u001b[0m t\u001b[38;5;241m.\u001b[39mdocuments\n\u001b[0;32m---> 33\u001b[0m \u001b[38;5;28mprint\u001b[39m(\u001b[43mt\u001b[49m\u001b[38;5;241;43m.\u001b[39;49m\u001b[43mget_documents\u001b[49m\u001b[43m(\u001b[49m\u001b[38;5;124;43m\"\u001b[39;49m\u001b[38;5;124;43m1.2\u001b[39;49m\u001b[38;5;124;43m\"\u001b[39;49m\u001b[43m)\u001b[49m)\n",
      "File \u001b[0;32m~/github/textlong/textlong/md/documents.py:82\u001b[0m, in \u001b[0;36mIntelliDocuments.get_documents\u001b[0;34m(self, title, node_type)\u001b[0m\n\u001b[1;32m     78\u001b[0m     \u001b[38;5;28;01mraise\u001b[39;00m(\u001b[38;5;167;01mValueError\u001b[39;00m(\u001b[38;5;124mf\u001b[39m\u001b[38;5;124m\"\u001b[39m\u001b[38;5;124mInvalid node_type: \u001b[39m\u001b[38;5;132;01m{\u001b[39;00mnode_type\u001b[38;5;132;01m}\u001b[39;00m\u001b[38;5;124m\"\u001b[39m))\n\u001b[1;32m     80\u001b[0m pattern \u001b[38;5;241m=\u001b[39m re\u001b[38;5;241m.\u001b[39mcompile(\u001b[38;5;124mr\u001b[39m\u001b[38;5;124m'\u001b[39m\u001b[38;5;124m(\u001b[39m\u001b[38;5;124m'\u001b[39m \u001b[38;5;241m+\u001b[39m \u001b[38;5;124m'\u001b[39m\u001b[38;5;124m|\u001b[39m\u001b[38;5;124m'\u001b[39m\u001b[38;5;241m.\u001b[39mjoin(types) \u001b[38;5;241m+\u001b[39m \u001b[38;5;124m'\u001b[39m\u001b[38;5;124m)\u001b[39m\u001b[38;5;124m'\u001b[39m)\n\u001b[0;32m---> 82\u001b[0m start_index, end_index \u001b[38;5;241m=\u001b[39m \u001b[38;5;28;43mself\u001b[39;49m\u001b[38;5;241;43m.\u001b[39;49m\u001b[43mget_documents_range\u001b[49m\u001b[43m(\u001b[49m\u001b[43mtitle\u001b[49m\u001b[43m)\u001b[49m\n\u001b[1;32m     83\u001b[0m \u001b[38;5;28;01mreturn\u001b[39;00m [d \u001b[38;5;28;01mfor\u001b[39;00m d \u001b[38;5;129;01min\u001b[39;00m \u001b[38;5;28mself\u001b[39m\u001b[38;5;241m.\u001b[39mdocuments[start_index:end_index] \u001b[38;5;28;01mif\u001b[39;00m pattern\u001b[38;5;241m.\u001b[39mmatch(d\u001b[38;5;241m.\u001b[39mmetadata[\u001b[38;5;124m'\u001b[39m\u001b[38;5;124mtype\u001b[39m\u001b[38;5;124m'\u001b[39m])]\n",
      "File \u001b[0;32m~/github/textlong/textlong/md/documents.py:46\u001b[0m, in \u001b[0;36mIntelliDocuments.get_documents_range\u001b[0;34m(self, title)\u001b[0m\n\u001b[1;32m     43\u001b[0m \u001b[38;5;28;01mfor\u001b[39;00m i, doc \u001b[38;5;129;01min\u001b[39;00m \u001b[38;5;28menumerate\u001b[39m(\u001b[38;5;28mself\u001b[39m\u001b[38;5;241m.\u001b[39mdocuments):\n\u001b[1;32m     44\u001b[0m     \u001b[38;5;66;03m# print(i, doc)\u001b[39;00m\n\u001b[1;32m     45\u001b[0m     doc_type \u001b[38;5;241m=\u001b[39m doc\u001b[38;5;241m.\u001b[39mmetadata[\u001b[38;5;124m'\u001b[39m\u001b[38;5;124mtype\u001b[39m\u001b[38;5;124m'\u001b[39m]\n\u001b[0;32m---> 46\u001b[0m     doc_level \u001b[38;5;241m=\u001b[39m \u001b[43mdoc\u001b[49m\u001b[38;5;241;43m.\u001b[39;49m\u001b[43mmetadata\u001b[49m\u001b[43m[\u001b[49m\u001b[38;5;124;43m'\u001b[39;49m\u001b[38;5;124;43mattrs\u001b[39;49m\u001b[38;5;124;43m'\u001b[39;49m\u001b[43m]\u001b[49m[\u001b[38;5;124m'\u001b[39m\u001b[38;5;124mlevel\u001b[39m\u001b[38;5;124m'\u001b[39m]\n\u001b[1;32m     47\u001b[0m     \u001b[38;5;28;01mif\u001b[39;00m start_index \u001b[38;5;241m==\u001b[39m \u001b[38;5;28;01mNone\u001b[39;00m \u001b[38;5;129;01mand\u001b[39;00m doc\u001b[38;5;241m.\u001b[39mpage_content\u001b[38;5;241m.\u001b[39mstartswith(title):\n\u001b[1;32m     48\u001b[0m         start_index \u001b[38;5;241m=\u001b[39m i\n",
      "\u001b[0;31mKeyError\u001b[0m: 'attrs'"
     ]
    }
   ],
   "source": [
    "md = \"\"\"\n",
    "# 1 标题1\n",
    "我的文档。\n",
    "\n",
    "## 1.1 标题2\n",
    "\n",
    "逍遥老仙，\n",
    "\n",
    "## 1.2 标题2\n",
    "\n",
    "法力无边。\n",
    "\n",
    "### 1.2.1 标题3 \n",
    "\n",
    "倚天不出。\n",
    "\n",
    "### 1.2.2 标题3 \n",
    "\n",
    "谁与争锋。\n",
    "\n",
    "## 1.3 又一个标题2\n",
    "\n",
    "华山论剑。\n",
    "## 1.4 再一个标题2\n",
    "\n",
    "华山论剑。\n",
    "\"\"\"\n",
    "\n",
    "from textlong.md import IntelliDocuments\n",
    "t = IntelliDocuments(md)\n",
    "t.documents\n",
    "\n",
    "print(t.get_documents(\"1.2\"))"
   ]
  },
  {
   "cell_type": "markdown",
   "id": "a61a93f1-b8ae-44f9-b0a9-e61d228cf18c",
   "metadata": {},
   "source": [
    "## get_leaf_outline"
   ]
  },
  {
   "cell_type": "code",
   "execution_count": 26,
   "id": "557bc49e-de21-4716-8ae0-453fb86fa31a",
   "metadata": {},
   "outputs": [
    {
     "data": {
      "text/plain": [
       "[Document(page_content='1.1 标题2', metadata={'type': 'H2'}),\n",
       " Document(page_content='1.2.1 标题3', metadata={'type': 'H3'}),\n",
       " Document(page_content='1.2.2 标题3', metadata={'type': 'H3'}),\n",
       " Document(page_content='1.3 又一个标题2', metadata={'type': 'H2'}),\n",
       " Document(page_content='1.4 再一个标题2', metadata={'type': 'H2'})]"
      ]
     },
     "execution_count": 26,
     "metadata": {},
     "output_type": "execute_result"
    }
   ],
   "source": [
    "t.get_leaf_outline()"
   ]
  },
  {
   "cell_type": "markdown",
   "id": "cf92555c-0e42-40de-b942-1e964502cbb9",
   "metadata": {},
   "source": [
    "## get_branch_outline"
   ]
  },
  {
   "cell_type": "code",
   "execution_count": 27,
   "id": "89cd2827-49e0-4184-ac1c-51c048d3e766",
   "metadata": {},
   "outputs": [
    {
     "data": {
      "text/plain": [
       "[Document(page_content='1.1 标题2', metadata={'type': 'H2'}),\n",
       " Document(page_content='1.2 标题2', metadata={'type': 'H2'}),\n",
       " Document(page_content='1.3 又一个标题2', metadata={'type': 'H2'}),\n",
       " Document(page_content='1.4 再一个标题2', metadata={'type': 'H2'})]"
      ]
     },
     "execution_count": 27,
     "metadata": {},
     "output_type": "execute_result"
    }
   ],
   "source": [
    "t.get_branch_outline(\"H2\")"
   ]
  },
  {
   "cell_type": "markdown",
   "id": "3d336d47-2bcb-466b-b85e-8148f0f6b923",
   "metadata": {},
   "source": [
    "## get_relevant_documents"
   ]
  },
  {
   "cell_type": "code",
   "execution_count": 28,
   "id": "c7cf7dbb-791a-4e79-acaf-a7ad8c1e8b8d",
   "metadata": {},
   "outputs": [
    {
     "data": {
      "text/plain": [
       "[Document(page_content='1 标题1', metadata={'type': 'H1'}),\n",
       " Document(page_content='我的文档。', metadata={'type': 'paragraph'}),\n",
       " Document(page_content='1.2 标题2', metadata={'type': 'H2'}),\n",
       " Document(page_content='法力无边。', metadata={'type': 'paragraph'}),\n",
       " Document(page_content='1.2.1 标题3', metadata={'type': 'H3'}),\n",
       " Document(page_content='倚天不出。', metadata={'type': 'paragraph'})]"
      ]
     },
     "execution_count": 28,
     "metadata": {},
     "output_type": "execute_result"
    }
   ],
   "source": [
    "t.get_relevant_documents(\"1.2.1\")"
   ]
  },
  {
   "cell_type": "markdown",
   "id": "04035fa1-d09f-41b2-8bef-657375bb165e",
   "metadata": {},
   "source": [
    "## get_prev_documents"
   ]
  },
  {
   "cell_type": "code",
   "execution_count": 29,
   "id": "755f485d-a290-4186-84ea-2d8e057bd831",
   "metadata": {},
   "outputs": [
    {
     "data": {
      "text/plain": [
       "[Document(page_content='1 标题1', metadata={'type': 'H1'}),\n",
       " Document(page_content='我的文档。', metadata={'type': 'paragraph'}),\n",
       " Document(page_content='1.1 标题2', metadata={'type': 'H2'}),\n",
       " Document(page_content='逍遥老仙，', metadata={'type': 'paragraph'}),\n",
       " Document(page_content='1.2 标题2', metadata={'type': 'H2'}),\n",
       " Document(page_content='法力无边。', metadata={'type': 'paragraph'})]"
      ]
     },
     "execution_count": 29,
     "metadata": {},
     "output_type": "execute_result"
    }
   ],
   "source": [
    "t.get_prev_documents(\"1.2.1\")"
   ]
  },
  {
   "cell_type": "code",
   "execution_count": 30,
   "id": "daa68f7a-d30c-4951-bda9-5bda9f9c4bec",
   "metadata": {},
   "outputs": [
    {
     "data": {
      "text/plain": [
       "[Document(page_content='1 标题1', metadata={'type': 'H1', 'id': '2.4'}),\n",
       " Document(page_content='我的文档。', metadata={'type': 'paragraph', 'id': '2.4.0'}),\n",
       " Document(page_content='1.1 标题2', metadata={'type': 'H2', 'id': '2.4.1'}),\n",
       " Document(page_content='逍遥老仙，', metadata={'type': 'paragraph', 'id': '2.4.1.0'}),\n",
       " Document(page_content='1.2 标题2', metadata={'type': 'H2', 'id': '2.4.2'}),\n",
       " Document(page_content='法力无边。', metadata={'type': 'paragraph', 'id': '2.4.2.0'}),\n",
       " Document(page_content='1.2.1 标题3', metadata={'type': 'H3', 'id': '2.4.2.1'}),\n",
       " Document(page_content='倚天不出。', metadata={'type': 'paragraph', 'id': '2.4.2.1.0'}),\n",
       " Document(page_content='1.2.2 标题3', metadata={'type': 'H3', 'id': '2.4.2.2'}),\n",
       " Document(page_content='谁与争锋。', metadata={'type': 'paragraph', 'id': '2.4.2.2.0'}),\n",
       " Document(page_content='1.3 又一个标题2', metadata={'type': 'H2', 'id': '2.4.3'}),\n",
       " Document(page_content='华山论剑。', metadata={'type': 'paragraph', 'id': '2.4.3.0'}),\n",
       " Document(page_content='1.4 再一个标题2', metadata={'type': 'H2', 'id': '2.4.4'}),\n",
       " Document(page_content='华山论剑。', metadata={'type': 'paragraph', 'id': '2.4.4.0'})]"
      ]
     },
     "execution_count": 30,
     "metadata": {},
     "output_type": "execute_result"
    }
   ],
   "source": [
    "t.build_index(t.documents, start_id=\"2.4\")"
   ]
  },
  {
   "cell_type": "code",
   "execution_count": null,
   "id": "9c861412-af44-42d0-b2b1-8338cc18fd88",
   "metadata": {},
   "outputs": [],
   "source": []
  }
 ],
 "metadata": {
  "kernelspec": {
   "display_name": "langchani-book-py3.10-ipykernel",
   "language": "python",
   "name": "langchani-book-py3.10-ipykernel"
  },
  "language_info": {
   "codemirror_mode": {
    "name": "ipython",
    "version": 3
   },
   "file_extension": ".py",
   "mimetype": "text/x-python",
   "name": "python",
   "nbconvert_exporter": "python",
   "pygments_lexer": "ipython3",
   "version": "3.10.0"
  }
 },
 "nbformat": 4,
 "nbformat_minor": 5
}
