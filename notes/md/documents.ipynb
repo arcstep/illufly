{
 "cells": [
  {
   "cell_type": "markdown",
   "id": "1e577df8-7a72-4321-854d-e17a40190d8a",
   "metadata": {},
   "source": [
    "# 文档"
   ]
  },
  {
   "cell_type": "markdown",
   "id": "f2fbf6e4-adae-475d-a471-505933d0a886",
   "metadata": {},
   "source": [
    "## IntelliDocuments"
   ]
  },
  {
   "cell_type": "code",
   "execution_count": 1,
   "id": "1a1933f0-de79-4bbe-ba2d-cc6e0e34f1f8",
   "metadata": {},
   "outputs": [],
   "source": [
    "md = \"\"\"\n",
    "## 前序\n",
    "\n",
    "# 标题1\n",
    "我的文档。\n",
    "\n",
    "## 标题2\n",
    "\n",
    "逍遥老仙，\n",
    "\n",
    "## 第一个标题2\n",
    "\n",
    "法力无边。\n",
    "\n",
    "### 标题3 \n",
    "\n",
    "倚天不出，谁与争锋。\n",
    "\n",
    "## 又一个标题2\n",
    "\n",
    "华山论剑。\n",
    "\"\"\""
   ]
  },
  {
   "cell_type": "code",
   "execution_count": 2,
   "id": "21f0c1c2-d835-404f-95e2-8cb47158e3d0",
   "metadata": {},
   "outputs": [],
   "source": [
    "md2 = \"\"\"\n",
    "## 东邪西毒\n",
    "都是谁啊？\n",
    "\"\"\""
   ]
  },
  {
   "cell_type": "markdown",
   "id": "79425487-eb0e-428e-b6c4-eebed5abf19a",
   "metadata": {},
   "source": [
    "### __init__"
   ]
  },
  {
   "cell_type": "code",
   "execution_count": 3,
   "id": "64cb2494-a4ec-4093-bb00-74fc1227529c",
   "metadata": {},
   "outputs": [],
   "source": [
    "from textlong.md.documents import IntelliDocuments\n",
    "t = IntelliDocuments(md)"
   ]
  },
  {
   "cell_type": "code",
   "execution_count": 4,
   "id": "622847c3-f8fb-477e-bbf0-327f63c61764",
   "metadata": {},
   "outputs": [
    {
     "data": {
      "text/plain": [
       "[Document(page_content='前序', metadata={'type': 'H2'}),\n",
       " Document(page_content='标题1', metadata={'type': 'H1'}),\n",
       " Document(page_content='我的文档。', metadata={'type': 'paragraph'}),\n",
       " Document(page_content='标题2', metadata={'type': 'H2'}),\n",
       " Document(page_content='逍遥老仙，', metadata={'type': 'paragraph'}),\n",
       " Document(page_content='第一个标题2', metadata={'type': 'H2'}),\n",
       " Document(page_content='法力无边。', metadata={'type': 'paragraph'}),\n",
       " Document(page_content='标题3', metadata={'type': 'H3'}),\n",
       " Document(page_content='倚天不出，谁与争锋。', metadata={'type': 'paragraph'}),\n",
       " Document(page_content='又一个标题2', metadata={'type': 'H2'}),\n",
       " Document(page_content='华山论剑。', metadata={'type': 'paragraph'})]"
      ]
     },
     "execution_count": 4,
     "metadata": {},
     "output_type": "execute_result"
    }
   ],
   "source": [
    "docs = IntelliDocuments.parse_markdown(md)\n",
    "docs"
   ]
  },
  {
   "cell_type": "code",
   "execution_count": 5,
   "id": "6abba28e-188c-4404-8697-ce1b95bdf695",
   "metadata": {},
   "outputs": [
    {
     "data": {
      "text/plain": [
       "[Document(page_content='前序', metadata={'type': 'H2'}),\n",
       " Document(page_content='标题1', metadata={'type': 'H1'}),\n",
       " Document(page_content='我的文档。', metadata={'type': 'paragraph'}),\n",
       " Document(page_content='标题2', metadata={'type': 'H2'}),\n",
       " Document(page_content='逍遥老仙，', metadata={'type': 'paragraph'}),\n",
       " Document(page_content='第一个标题2', metadata={'type': 'H2'}),\n",
       " Document(page_content='法力无边。', metadata={'type': 'paragraph'}),\n",
       " Document(page_content='标题3', metadata={'type': 'H3'}),\n",
       " Document(page_content='倚天不出，谁与争锋。', metadata={'type': 'paragraph'}),\n",
       " Document(page_content='又一个标题2', metadata={'type': 'H2'}),\n",
       " Document(page_content='华山论剑。', metadata={'type': 'paragraph'})]"
      ]
     },
     "execution_count": 5,
     "metadata": {},
     "output_type": "execute_result"
    }
   ],
   "source": [
    "t = IntelliDocuments(md)\n",
    "t.documents"
   ]
  },
  {
   "cell_type": "markdown",
   "id": "2772341f-5ce4-4be5-8303-27eaa7d73fba",
   "metadata": {},
   "source": [
    "### get_documents"
   ]
  },
  {
   "cell_type": "code",
   "execution_count": 6,
   "id": "2ac7c064-a8ff-4869-a2bf-39066b7c3fb2",
   "metadata": {},
   "outputs": [
    {
     "data": {
      "text/plain": [
       "[Document(page_content='第一个标题2', metadata={'type': 'H2'}),\n",
       " Document(page_content='法力无边。', metadata={'type': 'paragraph'}),\n",
       " Document(page_content='标题3', metadata={'type': 'H3'}),\n",
       " Document(page_content='倚天不出，谁与争锋。', metadata={'type': 'paragraph'})]"
      ]
     },
     "execution_count": 6,
     "metadata": {},
     "output_type": "execute_result"
    }
   ],
   "source": [
    "t.get_documents(\"第一个标题2\")"
   ]
  },
  {
   "cell_type": "code",
   "execution_count": 7,
   "id": "ed775fb7-05d8-466d-801e-adae219379cc",
   "metadata": {},
   "outputs": [
    {
     "data": {
      "text/plain": [
       "(5, 9)"
      ]
     },
     "execution_count": 7,
     "metadata": {},
     "output_type": "execute_result"
    }
   ],
   "source": [
    "t.get_documents_range(\"第一个标题2\")"
   ]
  },
  {
   "cell_type": "code",
   "execution_count": 8,
   "id": "504a2ac1-2125-4846-99da-675439c019bf",
   "metadata": {},
   "outputs": [
    {
     "data": {
      "text/plain": [
       "(0, 1)"
      ]
     },
     "execution_count": 8,
     "metadata": {},
     "output_type": "execute_result"
    }
   ],
   "source": [
    "t.get_documents_range(\"前序\")"
   ]
  },
  {
   "cell_type": "markdown",
   "id": "fba72a3b-ec08-423f-bcfa-11afbc43e00c",
   "metadata": {},
   "source": [
    "### remove_documents"
   ]
  },
  {
   "cell_type": "code",
   "execution_count": 9,
   "id": "6fcff382-4103-42ef-b526-44518508caaf",
   "metadata": {},
   "outputs": [
    {
     "data": {
      "text/plain": [
       "(None, None)"
      ]
     },
     "execution_count": 9,
     "metadata": {},
     "output_type": "execute_result"
    }
   ],
   "source": [
    "t.get_documents_range()"
   ]
  },
  {
   "cell_type": "code",
   "execution_count": 10,
   "id": "63ec468f-795e-4808-8df1-b90a842e5906",
   "metadata": {},
   "outputs": [
    {
     "data": {
      "text/plain": [
       "(3, 5)"
      ]
     },
     "execution_count": 10,
     "metadata": {},
     "output_type": "execute_result"
    }
   ],
   "source": [
    "t.get_documents_range(\"标题2\")"
   ]
  },
  {
   "cell_type": "code",
   "execution_count": 11,
   "id": "4e584e5c-6f50-4260-8e7e-1c9b06d80364",
   "metadata": {},
   "outputs": [
    {
     "data": {
      "text/plain": [
       "[Document(page_content='前序', metadata={'type': 'H2'}),\n",
       " Document(page_content='标题1', metadata={'type': 'H1'}),\n",
       " Document(page_content='我的文档。', metadata={'type': 'paragraph'}),\n",
       " Document(page_content='第一个标题2', metadata={'type': 'H2'}),\n",
       " Document(page_content='法力无边。', metadata={'type': 'paragraph'}),\n",
       " Document(page_content='标题3', metadata={'type': 'H3'}),\n",
       " Document(page_content='倚天不出，谁与争锋。', metadata={'type': 'paragraph'}),\n",
       " Document(page_content='又一个标题2', metadata={'type': 'H2'}),\n",
       " Document(page_content='华山论剑。', metadata={'type': 'paragraph'})]"
      ]
     },
     "execution_count": 11,
     "metadata": {},
     "output_type": "execute_result"
    }
   ],
   "source": [
    "t.remove_documents(\"标题2\")"
   ]
  },
  {
   "cell_type": "code",
   "execution_count": 12,
   "id": "e1b5138e-6e97-461f-a1c5-1d2c983d6930",
   "metadata": {},
   "outputs": [
    {
     "data": {
      "text/plain": [
       "[Document(page_content='前序', metadata={'type': 'H2'}),\n",
       " Document(page_content='标题1', metadata={'type': 'H1'}),\n",
       " Document(page_content='我的文档。', metadata={'type': 'paragraph'}),\n",
       " Document(page_content='第一个标题2', metadata={'type': 'H2'}),\n",
       " Document(page_content='法力无边。', metadata={'type': 'paragraph'}),\n",
       " Document(page_content='标题3', metadata={'type': 'H3'}),\n",
       " Document(page_content='倚天不出，谁与争锋。', metadata={'type': 'paragraph'}),\n",
       " Document(page_content='又一个标题2', metadata={'type': 'H2'}),\n",
       " Document(page_content='华山论剑。', metadata={'type': 'paragraph'})]"
      ]
     },
     "execution_count": 12,
     "metadata": {},
     "output_type": "execute_result"
    }
   ],
   "source": [
    "t.documents"
   ]
  },
  {
   "cell_type": "code",
   "execution_count": 13,
   "id": "d4a4e98a-9a4f-4977-b2af-17df0b4e205f",
   "metadata": {},
   "outputs": [
    {
     "data": {
      "text/plain": [
       "[Document(page_content='前序', metadata={'type': 'H2'}),\n",
       " Document(page_content='标题1', metadata={'type': 'H1'}),\n",
       " Document(page_content='我的文档。', metadata={'type': 'paragraph'}),\n",
       " Document(page_content='第一个标题2', metadata={'type': 'H2'}),\n",
       " Document(page_content='法力无边。', metadata={'type': 'paragraph'}),\n",
       " Document(page_content='标题3', metadata={'type': 'H3'}),\n",
       " Document(page_content='倚天不出，谁与争锋。', metadata={'type': 'paragraph'}),\n",
       " Document(page_content='又一个标题2', metadata={'type': 'H2'}),\n",
       " Document(page_content='华山论剑。', metadata={'type': 'paragraph'})]"
      ]
     },
     "execution_count": 13,
     "metadata": {},
     "output_type": "execute_result"
    }
   ],
   "source": [
    "t.get_documents(None)"
   ]
  },
  {
   "cell_type": "markdown",
   "id": "1f9cf30b-b3ff-4d83-8d37-f5dc74e9fb59",
   "metadata": {},
   "source": [
    "### insert_documents"
   ]
  },
  {
   "cell_type": "code",
   "execution_count": 14,
   "id": "a9700a24-445a-480a-b8f9-d0da27f41b82",
   "metadata": {},
   "outputs": [
    {
     "data": {
      "text/plain": [
       "[Document(page_content='前序', metadata={'type': 'H2'}),\n",
       " Document(page_content='标题1', metadata={'type': 'H1'}),\n",
       " Document(page_content='我的文档。', metadata={'type': 'paragraph'}),\n",
       " Document(page_content='标题2', metadata={'type': 'H2'}),\n",
       " Document(page_content='逍遥老仙，', metadata={'type': 'paragraph'}),\n",
       " Document(page_content='第一个标题2', metadata={'type': 'H2'}),\n",
       " Document(page_content='法力无边。', metadata={'type': 'paragraph'}),\n",
       " Document(page_content='标题3', metadata={'type': 'H3'}),\n",
       " Document(page_content='倚天不出，谁与争锋。', metadata={'type': 'paragraph'}),\n",
       " Document(page_content='又一个标题2', metadata={'type': 'H2'}),\n",
       " Document(page_content='华山论剑。', metadata={'type': 'paragraph'})]"
      ]
     },
     "execution_count": 14,
     "metadata": {},
     "output_type": "execute_result"
    }
   ],
   "source": [
    "t = IntelliDocuments(md)\n",
    "t.documents"
   ]
  },
  {
   "cell_type": "code",
   "execution_count": 15,
   "id": "5cc58a13-9371-4665-bea5-53953ce8ebd1",
   "metadata": {},
   "outputs": [
    {
     "data": {
      "text/plain": [
       "'\\n## 东邪西毒\\n都是谁啊？\\n'"
      ]
     },
     "execution_count": 15,
     "metadata": {},
     "output_type": "execute_result"
    }
   ],
   "source": [
    "md2"
   ]
  },
  {
   "cell_type": "code",
   "execution_count": 16,
   "id": "9aa3fb5e-9d5c-4421-ad7c-5aeadc671148",
   "metadata": {},
   "outputs": [
    {
     "data": {
      "text/plain": [
       "[Document(page_content='东邪西毒', metadata={'type': 'H2'}),\n",
       " Document(page_content='都是谁啊？', metadata={'type': 'paragraph'})]"
      ]
     },
     "execution_count": 16,
     "metadata": {},
     "output_type": "execute_result"
    }
   ],
   "source": [
    "IntelliDocuments.parse_markdown(md2)"
   ]
  },
  {
   "cell_type": "code",
   "execution_count": 17,
   "id": "0d9410cb-3a34-448a-a2f6-e4b94102d6bc",
   "metadata": {},
   "outputs": [
    {
     "data": {
      "text/plain": [
       "[Document(page_content='前序', metadata={'type': 'H2'}),\n",
       " Document(page_content='标题1', metadata={'type': 'H1'}),\n",
       " Document(page_content='我的文档。', metadata={'type': 'paragraph'}),\n",
       " Document(page_content='标题2', metadata={'type': 'H2'}),\n",
       " Document(page_content='逍遥老仙，', metadata={'type': 'paragraph'}),\n",
       " Document(page_content='第一个标题2', metadata={'type': 'H2'}),\n",
       " Document(page_content='法力无边。', metadata={'type': 'paragraph'}),\n",
       " Document(page_content='东邪西毒', metadata={'type': 'H2'}),\n",
       " Document(page_content='都是谁啊？', metadata={'type': 'paragraph'}),\n",
       " Document(page_content='标题3', metadata={'type': 'H3'}),\n",
       " Document(page_content='倚天不出，谁与争锋。', metadata={'type': 'paragraph'}),\n",
       " Document(page_content='又一个标题2', metadata={'type': 'H2'}),\n",
       " Document(page_content='华山论剑。', metadata={'type': 'paragraph'})]"
      ]
     },
     "execution_count": 17,
     "metadata": {},
     "output_type": "execute_result"
    }
   ],
   "source": [
    "t.insert_documents(IntelliDocuments.parse_markdown(md2), \"标题3\")"
   ]
  },
  {
   "cell_type": "markdown",
   "id": "3f68d827-ef86-487b-8da6-5e4c2bf2eca0",
   "metadata": {},
   "source": [
    "### replace_documents"
   ]
  },
  {
   "cell_type": "code",
   "execution_count": 18,
   "id": "088a83d1-e126-433d-9b32-a9b62d7f9d91",
   "metadata": {},
   "outputs": [
    {
     "data": {
      "text/plain": [
       "[Document(page_content='东邪西毒', metadata={'type': 'H2'}),\n",
       " Document(page_content='都是谁啊？', metadata={'type': 'paragraph'})]"
      ]
     },
     "execution_count": 18,
     "metadata": {},
     "output_type": "execute_result"
    }
   ],
   "source": [
    "IntelliDocuments.parse_markdown(md2)"
   ]
  },
  {
   "cell_type": "code",
   "execution_count": 19,
   "id": "ed527a37-4243-43b8-804e-46b8c04820e0",
   "metadata": {},
   "outputs": [
    {
     "data": {
      "text/plain": [
       "[Document(page_content='前序', metadata={'type': 'H2'}),\n",
       " Document(page_content='标题1', metadata={'type': 'H1'}),\n",
       " Document(page_content='我的文档。', metadata={'type': 'paragraph'}),\n",
       " Document(page_content='标题2', metadata={'type': 'H2'}),\n",
       " Document(page_content='逍遥老仙，', metadata={'type': 'paragraph'}),\n",
       " Document(page_content='第一个标题2', metadata={'type': 'H2'}),\n",
       " Document(page_content='法力无边。', metadata={'type': 'paragraph'}),\n",
       " Document(page_content='东邪西毒', metadata={'type': 'H2'}),\n",
       " Document(page_content='都是谁啊？', metadata={'type': 'paragraph'}),\n",
       " Document(page_content='东邪西毒', metadata={'type': 'H2'}),\n",
       " Document(page_content='都是谁啊？', metadata={'type': 'paragraph'}),\n",
       " Document(page_content='又一个标题2', metadata={'type': 'H2'}),\n",
       " Document(page_content='华山论剑。', metadata={'type': 'paragraph'})]"
      ]
     },
     "execution_count": 19,
     "metadata": {},
     "output_type": "execute_result"
    }
   ],
   "source": [
    "t.replace_documents(IntelliDocuments.parse_markdown(md2), \"标题3\")"
   ]
  },
  {
   "cell_type": "markdown",
   "id": "dbef1014-c435-4bc0-8706-b614b38adf3d",
   "metadata": {},
   "source": [
    "## MD / Code"
   ]
  },
  {
   "cell_type": "code",
   "execution_count": 21,
   "id": "8525c0b1-8e65-4cf5-82f0-6d7462a6449a",
   "metadata": {},
   "outputs": [],
   "source": [
    "md = \"\"\"\n",
    "# 🦜🦜🦜 textlong\n",
    "[![PyPI version](https://img.shields.io/pypi/v/textlong.svg)](https://pypi.org/project/textlong/)\n",
    "\n",
    "**textlong** 的目标是基于大语言模型提供结构化的长文本生成能力。\n",
    "\n",
    "## 一、安装\n",
    "\n",
    "你可以使用 pip 安装：\n",
    "```\n",
    "pip install -U textlong\n",
    "```\n",
    "\n",
    "或者使用 poetry 安装：\n",
    "```\n",
    "poetry add textlong@latest\n",
    "```\n",
    "\n",
    "## 二、结构化长文生成能力\n",
    "\n",
    "`textlong` 中提供如下创作工具：\n",
    "\n",
    "- `WritingTask`：用于生成结构化长文\n",
    "\n",
    "**1. 加载环境变量：**\n",
    "\n",
    "```python\n",
    "from dotenv import load_dotenv, find_dotenv\n",
    "load_dotenv(find_dotenv(), override=True)\n",
    "```\n",
    "\n",
    "**2. 创建`WritingTask`实例：**\n",
    "\n",
    "```python\n",
    "from textlong import WritingTask\n",
    "from langchain_openai import ChatOpenAI\n",
    "\n",
    "task = WritingTask(llm=ChatOpenAI())\n",
    "```\n",
    "\n",
    "**3. 使用`auto_write`方法自动生成一段长文：**\n",
    "\n",
    "```python\n",
    "task.auto_write(\"task 给好基友写一封信, 1800字，分4段就行\")\n",
    "```\n",
    "\n",
    "**4. 使用`repl_write`方法控制台，在人工干预过程中生成一段长文：**\n",
    "\n",
    "```python\n",
    "task.repl_write(\"task 给好基友写一封信, 1800字，分4段就行\")\n",
    "\n",
    "## ...\n",
    "## 接下来，你可以一直输入 ok 指令确认生成的内容，获得与 auto_write 类似的效果\n",
    "```\n",
    "\n",
    "**5. 你可以查看生成的提纲（也可以在repl模式中输入 outlines）：**\n",
    "\n",
    "```python\n",
    "# 查看创作大纲\n",
    "task.invoke(\"outlines\")['reply']\n",
    "```\n",
    "\n",
    "**6. 或者查看文字成果：**\n",
    "\n",
    "```python\n",
    "task.invoke(\"texts\")['reply']\n",
    "```\n",
    "\n",
    "**7. 使用`invoke`方法执行`help`指令，以获得帮助:**\n",
    "\n",
    "```python\n",
    "task.invoke(\"help 我在repl模式中还可以做什么？\")\n",
    "```\n",
    "\n",
    "\"\"\""
   ]
  },
  {
   "cell_type": "code",
   "execution_count": 22,
   "id": "e4960b96-a793-4199-84f4-dc611fb89eef",
   "metadata": {},
   "outputs": [
    {
     "data": {
      "text/plain": [
       "[Document(page_content='🦜🦜🦜 textlong', metadata={'type': 'H1'}),\n",
       " Document(page_content='[![PyPI version](https://img.shields.io/pypi/v/textlong.svg)](https://pypi.org/project/textlong/)\\n\\n**textlong** 的目标是基于大语言模型提供结构化的长文本生成能力。', metadata={'type': 'paragraph'}),\n",
       " Document(page_content='一、安装', metadata={'type': 'H2'}),\n",
       " Document(page_content='你可以使用 pip 安装：\\n```\\npip install -U textlong\\n```\\n\\n或者使用 poetry 安装：\\n```\\npoetry add textlong@latest\\n```', metadata={'type': 'paragraph'}),\n",
       " Document(page_content='二、结构化长文生成能力', metadata={'type': 'H2'}),\n",
       " Document(page_content='`textlong` 中提供如下创作工具：\\n\\n- `WritingTask`：用于生成结构化长文\\n\\n**1. 加载环境变量：**\\n\\n```python\\nfrom dotenv import load_dotenv, find_dotenv\\nload_dotenv(find_dotenv(), override=True)\\n```\\n\\n**2. 创建`WritingTask`实例：**\\n\\n```python\\nfrom textlong import WritingTask\\nfrom langchain_openai import ChatOpenAI\\n\\ntask = WritingTask(llm=ChatOpenAI())\\n```\\n\\n**3. 使用`auto_write`方法自动生成一段长文：**\\n\\n```python\\ntask.auto_write(\"task 给好基友写一封信, 1800字，分4段就行\")\\n```\\n\\n**4. 使用`repl_write`方法控制台，在人工干预过程中生成一段长文：**\\n\\n```python\\ntask.repl_write(\"task 给好基友写一封信, 1800字，分4段就行\")\\n\\n## ...\\n## 接下来，你可以一直输入 ok 指令确认生成的内容，获得与 auto_write 类似的效果\\n```\\n\\n**5. 你可以查看生成的提纲（也可以在repl模式中输入 outlines）：**\\n\\n```python\\n# 查看创作大纲\\ntask.invoke(\"outlines\")[\\'reply\\']\\n```\\n\\n**6. 或者查看文字成果：**\\n\\n```python\\ntask.invoke(\"texts\")[\\'reply\\']\\n```\\n\\n**7. 使用`invoke`方法执行`help`指令，以获得帮助:**\\n\\n```python\\ntask.invoke(\"help 我在repl模式中还可以做什么？\")\\n```', metadata={'type': 'paragraph'})]"
      ]
     },
     "execution_count": 22,
     "metadata": {},
     "output_type": "execute_result"
    }
   ],
   "source": [
    "from textlong.md import IntelliDocuments\n",
    "t = IntelliDocuments(md)\n",
    "t.documents"
   ]
  },
  {
   "cell_type": "code",
   "execution_count": 24,
   "id": "ccc29fe6-03df-4c27-96c2-9a7782ae13e1",
   "metadata": {},
   "outputs": [
    {
     "name": "stdout",
     "output_type": "stream",
     "text": [
      "\n",
      "# 🦜🦜🦜 textlong\n",
      "\n",
      "[![PyPI version](https://img.shields.io/pypi/v/textlong.svg)](https://pypi.org/project/textlong/)\n",
      "\n",
      "**textlong** 的目标是基于大语言模型提供结构化的长文本生成能力。\n",
      "\n",
      "## 一、安装\n",
      "\n",
      "你可以使用 pip 安装：\n",
      "```\n",
      "pip install -U textlong\n",
      "```\n",
      "\n",
      "或者使用 poetry 安装：\n",
      "```\n",
      "poetry add textlong@latest\n",
      "```\n",
      "\n",
      "## 二、结构化长文生成能力\n",
      "\n",
      "`textlong` 中提供如下创作工具：\n",
      "\n",
      "- `WritingTask`：用于生成结构化长文\n",
      "\n",
      "**1. 加载环境变量：**\n",
      "\n",
      "```python\n",
      "from dotenv import load_dotenv, find_dotenv\n",
      "load_dotenv(find_dotenv(), override=True)\n",
      "```\n",
      "\n",
      "**2. 创建`WritingTask`实例：**\n",
      "\n",
      "```python\n",
      "from textlong import WritingTask\n",
      "from langchain_openai import ChatOpenAI\n",
      "\n",
      "task = WritingTask(llm=ChatOpenAI())\n",
      "```\n",
      "\n",
      "**3. 使用`auto_write`方法自动生成一段长文：**\n",
      "\n",
      "```python\n",
      "task.auto_write(\"task 给好基友写一封信, 1800字，分4段就行\")\n",
      "```\n",
      "\n",
      "**4. 使用`repl_write`方法控制台，在人工干预过程中生成一段长文：**\n",
      "\n",
      "```python\n",
      "task.repl_write(\"task 给好基友写一封信, 1800字，分4段就行\")\n",
      "\n",
      "## ...\n",
      "## 接下来，你可以一直输入 ok 指令确认生成的内容，获得与 auto_write 类似的效果\n",
      "```\n",
      "\n",
      "**5. 你可以查看生成的提纲（也可以在repl模式中输入 outlines）：**\n",
      "\n",
      "```python\n",
      "# 查看创作大纲\n",
      "task.invoke(\"outlines\")['reply']\n",
      "```\n",
      "\n",
      "**6. 或者查看文字成果：**\n",
      "\n",
      "```python\n",
      "task.invoke(\"texts\")['reply']\n",
      "```\n",
      "\n",
      "**7. 使用`invoke`方法执行`help`指令，以获得帮助:**\n",
      "\n",
      "```python\n",
      "task.invoke(\"help 我在repl模式中还可以做什么？\")\n",
      "```\n",
      "\n"
     ]
    }
   ],
   "source": [
    "print(t.get_markdown(None))"
   ]
  },
  {
   "cell_type": "markdown",
   "id": "86562af4-92c1-482e-965d-7d8f50fe7aa5",
   "metadata": {},
   "source": [
    "## get_documents"
   ]
  },
  {
   "cell_type": "code",
   "execution_count": 1,
   "id": "98a7ab60-69d8-4be2-9051-342bb36f5e3e",
   "metadata": {},
   "outputs": [
    {
     "name": "stdout",
     "output_type": "stream",
     "text": [
      "\n",
      "# 夏至打折\n",
      "\n",
      "金轮法王，\n",
      "\n",
      "逍遥老仙，\n",
      "\n",
      "法力无边。\n",
      "\n",
      "华山论剑。\n",
      "\n",
      "[Document(page_content='夏至打折', metadata={'type': 'H1'})]\n"
     ]
    }
   ],
   "source": [
    "md = \"\"\"\n",
    "# 夏至打折\n",
    "\n",
    "金轮法王，\n",
    "\n",
    "逍遥老仙，\n",
    "\n",
    "法力无边。\n",
    "\n",
    "华山论剑。\n",
    "\"\"\"\n",
    "\n",
    "from textlong.md import IntelliDocuments\n",
    "t = IntelliDocuments(md)\n",
    "# t.documents\n",
    "\n",
    "print(t.get_markdown())\n",
    "print(t.get_leaf_nodes())"
   ]
  },
  {
   "cell_type": "code",
   "execution_count": 2,
   "id": "ba343052-c32d-42ee-9d42-5adc0fe7a3dc",
   "metadata": {},
   "outputs": [
    {
     "name": "stdout",
     "output_type": "stream",
     "text": [
      "0 page_content='1 标题1' metadata={'type': 'H1'}\n",
      "1 page_content='我的文档。' metadata={'type': 'paragraph'}\n",
      "2 page_content='1.1 标题2' metadata={'type': 'H2'}\n",
      "3 page_content='逍遥老仙，' metadata={'type': 'paragraph'}\n",
      "4 page_content='1.2 标题2' metadata={'type': 'H2'}\n",
      "5 page_content='法力无边。' metadata={'type': 'paragraph'}\n",
      "6 page_content='1.2.1 标题3' metadata={'type': 'H3'}\n",
      "7 page_content='倚天不出。' metadata={'type': 'paragraph'}\n",
      "8 page_content='1.2.2 标题3' metadata={'type': 'H3'}\n",
      "9 page_content='谁与争锋。' metadata={'type': 'paragraph'}\n",
      "10 page_content='1.3 又一个标题2' metadata={'type': 'H2'}\n",
      "\n",
      "## 1.2 标题2\n",
      "\n",
      "法力无边。\n",
      "\n",
      "### 1.2.1 标题3\n",
      "\n",
      "倚天不出。\n",
      "\n",
      "### 1.2.2 标题3\n",
      "\n",
      "谁与争锋。\n",
      "\n"
     ]
    }
   ],
   "source": [
    "md = \"\"\"\n",
    "# 1 标题1\n",
    "我的文档。\n",
    "\n",
    "## 1.1 标题2\n",
    "\n",
    "逍遥老仙，\n",
    "\n",
    "## 1.2 标题2\n",
    "\n",
    "法力无边。\n",
    "\n",
    "### 1.2.1 标题3 \n",
    "\n",
    "倚天不出。\n",
    "\n",
    "### 1.2.2 标题3 \n",
    "\n",
    "谁与争锋。\n",
    "\n",
    "## 1.3 又一个标题2\n",
    "\n",
    "华山论剑。\n",
    "## 1.4 再一个标题2\n",
    "\n",
    "华山论剑。\n",
    "\"\"\"\n",
    "\n",
    "from textlong.md import IntelliDocuments\n",
    "t = IntelliDocuments(md)\n",
    "t.documents\n",
    "\n",
    "print(t.get_markdown(\"1.2\"))"
   ]
  },
  {
   "cell_type": "code",
   "execution_count": 3,
   "id": "c7cf7dbb-791a-4e79-acaf-a7ad8c1e8b8d",
   "metadata": {},
   "outputs": [
    {
     "name": "stdout",
     "output_type": "stream",
     "text": [
      "0 page_content='1 标题1' metadata={'type': 'H1'}\n",
      "1 page_content='我的文档。' metadata={'type': 'paragraph'}\n",
      "2 page_content='1.1 标题2' metadata={'type': 'H2'}\n",
      "3 page_content='逍遥老仙，' metadata={'type': 'paragraph'}\n",
      "4 page_content='1.2 标题2' metadata={'type': 'H2'}\n",
      "5 page_content='法力无边。' metadata={'type': 'paragraph'}\n",
      "6 page_content='1.2.1 标题3' metadata={'type': 'H3'}\n",
      "7 page_content='倚天不出。' metadata={'type': 'paragraph'}\n",
      "8 page_content='1.2.2 标题3' metadata={'type': 'H3'}\n",
      "9 page_content='谁与争锋。' metadata={'type': 'paragraph'}\n",
      "10 page_content='1.3 又一个标题2' metadata={'type': 'H2'}\n",
      "11 page_content='华山论剑。' metadata={'type': 'paragraph'}\n",
      "12 page_content='1.4 再一个标题2' metadata={'type': 'H2'}\n",
      "13 page_content='华山论剑。' metadata={'type': 'paragraph'}\n",
      "\n",
      "# 1 标题1\n",
      "\n",
      "我的文档。\n",
      "\n",
      "## 1.1 标题2\n",
      "\n",
      "逍遥老仙，\n",
      "\n",
      "## 1.2 标题2\n",
      "\n",
      "法力无边。\n",
      "\n",
      "### 1.2.1 标题3\n",
      "\n",
      "倚天不出。\n",
      "\n",
      "### 1.2.2 标题3\n",
      "\n",
      "谁与争锋。\n",
      "\n",
      "## 1.3 又一个标题2\n",
      "\n",
      "华山论剑。\n",
      "\n",
      "## 1.4 再一个标题2\n",
      "\n",
      "华山论剑。\n",
      "\n"
     ]
    }
   ],
   "source": [
    "print(t.get_markdown(\"1\"))"
   ]
  },
  {
   "cell_type": "markdown",
   "id": "eb2d185b-bc41-4895-b666-8ca3425d3ff2",
   "metadata": {},
   "source": [
    "## 获得叶子提纲"
   ]
  },
  {
   "cell_type": "code",
   "execution_count": 4,
   "id": "cdd55ee1-d0fc-49b1-aac8-959f883878d8",
   "metadata": {},
   "outputs": [
    {
     "data": {
      "text/plain": [
       "[Document(page_content='1 标题1', metadata={'type': 'H1'}),\n",
       " Document(page_content='我的文档。', metadata={'type': 'paragraph'}),\n",
       " Document(page_content='1.1 标题2', metadata={'type': 'H2'}),\n",
       " Document(page_content='逍遥老仙，', metadata={'type': 'paragraph'}),\n",
       " Document(page_content='1.2 标题2', metadata={'type': 'H2'}),\n",
       " Document(page_content='法力无边。', metadata={'type': 'paragraph'}),\n",
       " Document(page_content='1.2.1 标题3', metadata={'type': 'H3'}),\n",
       " Document(page_content='倚天不出。', metadata={'type': 'paragraph'}),\n",
       " Document(page_content='1.2.2 标题3', metadata={'type': 'H3'}),\n",
       " Document(page_content='谁与争锋。', metadata={'type': 'paragraph'}),\n",
       " Document(page_content='1.3 又一个标题2', metadata={'type': 'H2'}),\n",
       " Document(page_content='华山论剑。', metadata={'type': 'paragraph'}),\n",
       " Document(page_content='1.4 再一个标题2', metadata={'type': 'H2'}),\n",
       " Document(page_content='华山论剑。', metadata={'type': 'paragraph'})]"
      ]
     },
     "execution_count": 4,
     "metadata": {},
     "output_type": "execute_result"
    }
   ],
   "source": [
    "t.get_documents(node_type=\"H\")"
   ]
  },
  {
   "cell_type": "code",
   "execution_count": 5,
   "id": "5d5e2304-ace1-410e-8640-48ef0faeb122",
   "metadata": {},
   "outputs": [
    {
     "data": {
      "text/plain": [
       "[Document(page_content='1.1 标题2', metadata={'type': 'H2'}),\n",
       " Document(page_content='1.2.1 标题3', metadata={'type': 'H3'}),\n",
       " Document(page_content='1.2.2 标题3', metadata={'type': 'H3'}),\n",
       " Document(page_content='1.3 又一个标题2', metadata={'type': 'H2'}),\n",
       " Document(page_content='1.4 再一个标题2', metadata={'type': 'H2'})]"
      ]
     },
     "execution_count": 5,
     "metadata": {},
     "output_type": "execute_result"
    }
   ],
   "source": [
    "t.get_leaf_nodes()"
   ]
  },
  {
   "cell_type": "markdown",
   "id": "7f8cbaa9-12c6-4c4d-a31e-2f074480a679",
   "metadata": {},
   "source": [
    "## 获得精简提纲"
   ]
  },
  {
   "cell_type": "code",
   "execution_count": 43,
   "id": "6366a6ac-a874-4583-892e-94e45e2cae67",
   "metadata": {},
   "outputs": [
    {
     "name": "stdout",
     "output_type": "stream",
     "text": [
      "\n"
     ]
    }
   ],
   "source": [
    "print(t.get_relevant_documents(\"1.2.1\", with_number=True))"
   ]
  },
  {
   "cell_type": "markdown",
   "id": "14517a86-c02b-4da0-a846-957b79c25087",
   "metadata": {},
   "source": [
    "## 获得扩写前文"
   ]
  },
  {
   "cell_type": "code",
   "execution_count": 44,
   "id": "3f2a048c-60f9-4d7e-a7e4-e3dee70d6c2e",
   "metadata": {},
   "outputs": [
    {
     "name": "stdout",
     "output_type": "stream",
     "text": [
      "\n"
     ]
    }
   ],
   "source": [
    "print(t.get_prev_markdown(\"1.3\", k=140, with_number=True))"
   ]
  },
  {
   "cell_type": "code",
   "execution_count": null,
   "id": "daa68f7a-d30c-4951-bda9-5bda9f9c4bec",
   "metadata": {},
   "outputs": [],
   "source": []
  }
 ],
 "metadata": {
  "kernelspec": {
   "display_name": "langchani-book-py3.10-ipykernel",
   "language": "python",
   "name": "langchani-book-py3.10-ipykernel"
  },
  "language_info": {
   "codemirror_mode": {
    "name": "ipython",
    "version": 3
   },
   "file_extension": ".py",
   "mimetype": "text/x-python",
   "name": "python",
   "nbconvert_exporter": "python",
   "pygments_lexer": "ipython3",
   "version": "3.10.0"
  }
 },
 "nbformat": 4,
 "nbformat_minor": 5
}
