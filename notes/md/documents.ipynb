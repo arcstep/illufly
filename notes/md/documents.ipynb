{
 "cells": [
  {
   "cell_type": "code",
   "execution_count": 1,
   "id": "651b2484-ff16-406e-96ba-b1d8ef245087",
   "metadata": {},
   "outputs": [],
   "source": [
    "from textlong.md.documents import IntelliDocuments\n",
    "from textlong.parser import parse_markdown\n",
    "from textlong.utils import markdown"
   ]
  },
  {
   "cell_type": "code",
   "execution_count": 2,
   "id": "1a1933f0-de79-4bbe-ba2d-cc6e0e34f1f8",
   "metadata": {},
   "outputs": [],
   "source": [
    "md = \"\"\"\n",
    "## 前序\n",
    "\n",
    "# 标题1\n",
    "我的文档。\n",
    "\n",
    "<OUTLINE>\n",
    "扩写依据:\n",
    "你说的有道理\n",
    "</OUTLINE>\n",
    "\n",
    "## 第一个标题2\n",
    "\n",
    "逍遥老仙，\n",
    "\n",
    "逍遥小仙，\n",
    "\n",
    "<OUTLINE>\n",
    "扩写依据：帮我描述一下逍遥老仙的威武霸气\n",
    "</OUTLINE>\n",
    "\n",
    "那又是谁？\n",
    "\n",
    "<OUTLINE>\n",
    "扩写依据：帮我描述一下逍遥小仙的武功盖世\n",
    "## 宁厌烦\n",
    "## 宁雪\n",
    "</OUTLINE>\n",
    "\n",
    "## 第二个标题2\n",
    "\n",
    "法力无边。\n",
    "\n",
    "### 标题3 \n",
    "\n",
    "倚天不出，谁与争锋。\n",
    "\n",
    "## 第三个标题2\n",
    "\n",
    "华山论剑。\n",
    "\"\"\""
   ]
  },
  {
   "cell_type": "markdown",
   "id": "f2fbf6e4-adae-475d-a471-505933d0a886",
   "metadata": {},
   "source": [
    "# Parse"
   ]
  },
  {
   "cell_type": "code",
   "execution_count": 3,
   "id": "8864b0b8-b78b-443f-9087-0ba13fcb2f46",
   "metadata": {},
   "outputs": [
    {
     "data": {
      "text/plain": [
       "[Document(page_content='', metadata={'type': 'blank_line', 'id': '1717648027-0'}),\n",
       " Document(page_content='## 前序\\n\\n', metadata={'type': 'heading', 'attrs': {'level': 2}, 'style': 'axt', 'children': [{'type': 'text', 'raw': '前序'}], 'id': '1717648027-1'}),\n",
       " Document(page_content='', metadata={'type': 'blank_line', 'id': '1717648027-2'}),\n",
       " Document(page_content='# 标题1\\n\\n', metadata={'type': 'heading', 'attrs': {'level': 1}, 'style': 'axt', 'children': [{'type': 'text', 'raw': '标题1'}], 'id': '1717648027-3'}),\n",
       " Document(page_content='我的文档。\\n\\n', metadata={'type': 'paragraph', 'children': [{'type': 'text', 'raw': '我的文档。'}], 'id': '1717648027-4'}),\n",
       " Document(page_content='', metadata={'type': 'blank_line', 'id': '1717648027-5'}),\n",
       " Document(page_content='<OUTLINE>\\n扩写依据:\\n你说的有道理\\n</OUTLINE>', metadata={'id': '1717648027-6', 'type': 'OUTLINE'}),\n",
       " Document(page_content='', metadata={'type': 'blank_line', 'id': '1717648027-7'}),\n",
       " Document(page_content='## 第一个标题2\\n\\n', metadata={'type': 'heading', 'attrs': {'level': 2}, 'style': 'axt', 'children': [{'type': 'text', 'raw': '第一个标题2'}], 'id': '1717648027-8'}),\n",
       " Document(page_content='', metadata={'type': 'blank_line', 'id': '1717648027-9'}),\n",
       " Document(page_content='逍遥老仙，\\n\\n', metadata={'type': 'paragraph', 'children': [{'type': 'text', 'raw': '逍遥老仙，'}], 'id': '1717648027-10'}),\n",
       " Document(page_content='', metadata={'type': 'blank_line', 'id': '1717648027-11'}),\n",
       " Document(page_content='逍遥小仙，\\n\\n', metadata={'type': 'paragraph', 'children': [{'type': 'text', 'raw': '逍遥小仙，'}], 'id': '1717648027-12'}),\n",
       " Document(page_content='', metadata={'type': 'blank_line', 'id': '1717648027-13'}),\n",
       " Document(page_content='<OUTLINE>\\n扩写依据：帮我描述一下逍遥老仙的威武霸气\\n</OUTLINE>', metadata={'id': '1717648027-14', 'type': 'OUTLINE'}),\n",
       " Document(page_content='', metadata={'type': 'blank_line', 'id': '1717648027-15'}),\n",
       " Document(page_content='那又是谁？\\n\\n', metadata={'type': 'paragraph', 'children': [{'type': 'text', 'raw': '那又是谁？'}], 'id': '1717648027-16'}),\n",
       " Document(page_content='', metadata={'type': 'blank_line', 'id': '1717648027-17'}),\n",
       " Document(page_content='<OUTLINE>\\n扩写依据：帮我描述一下逍遥小仙的武功盖世\\n## 宁厌烦\\n## 宁雪\\n</OUTLINE>', metadata={'id': '1717648027-18', 'type': 'OUTLINE'}),\n",
       " Document(page_content='', metadata={'type': 'blank_line', 'id': '1717648027-19'}),\n",
       " Document(page_content='## 第二个标题2\\n\\n', metadata={'type': 'heading', 'attrs': {'level': 2}, 'style': 'axt', 'children': [{'type': 'text', 'raw': '第二个标题2'}], 'id': '1717648027-20'}),\n",
       " Document(page_content='', metadata={'type': 'blank_line', 'id': '1717648027-21'}),\n",
       " Document(page_content='法力无边。\\n\\n', metadata={'type': 'paragraph', 'children': [{'type': 'text', 'raw': '法力无边。'}], 'id': '1717648027-22'}),\n",
       " Document(page_content='', metadata={'type': 'blank_line', 'id': '1717648027-23'}),\n",
       " Document(page_content='### 标题3\\n\\n', metadata={'type': 'heading', 'attrs': {'level': 3}, 'style': 'axt', 'children': [{'type': 'text', 'raw': '标题3'}], 'id': '1717648027-24'}),\n",
       " Document(page_content='', metadata={'type': 'blank_line', 'id': '1717648027-25'}),\n",
       " Document(page_content='倚天不出，谁与争锋。\\n\\n', metadata={'type': 'paragraph', 'children': [{'type': 'text', 'raw': '倚天不出，谁与争锋。'}], 'id': '1717648027-26'}),\n",
       " Document(page_content='', metadata={'type': 'blank_line', 'id': '1717648027-27'}),\n",
       " Document(page_content='## 第三个标题2\\n\\n', metadata={'type': 'heading', 'attrs': {'level': 2}, 'style': 'axt', 'children': [{'type': 'text', 'raw': '第三个标题2'}], 'id': '1717648027-28'}),\n",
       " Document(page_content='', metadata={'type': 'blank_line', 'id': '1717648027-29'}),\n",
       " Document(page_content='华山论剑。\\n\\n', metadata={'type': 'paragraph', 'children': [{'type': 'text', 'raw': '华山论剑。'}], 'id': '1717648027-30'})]"
      ]
     },
     "execution_count": 3,
     "metadata": {},
     "output_type": "execute_result"
    }
   ],
   "source": [
    "parse_markdown(md)"
   ]
  },
  {
   "cell_type": "markdown",
   "id": "4f7e2ffd-0254-45d1-9784-8a96257aec91",
   "metadata": {},
   "source": [
    "# IntelliDocuments"
   ]
  },
  {
   "cell_type": "markdown",
   "id": "79425487-eb0e-428e-b6c4-eebed5abf19a",
   "metadata": {},
   "source": [
    "## `__init__`"
   ]
  },
  {
   "cell_type": "code",
   "execution_count": 4,
   "id": "6abba28e-188c-4404-8697-ce1b95bdf695",
   "metadata": {},
   "outputs": [
    {
     "name": "stdout",
     "output_type": "stream",
     "text": [
      "## 前序\n",
      "\n",
      "# 标题1\n",
      "\n",
      "我的文档。\n",
      "\n",
      "<OUTLINE>\n",
      "扩写依据:\n",
      "你说的有道理\n",
      "</OUTLINE>## 第一个标题2\n",
      "\n",
      "逍遥老仙，\n",
      "\n",
      "逍遥小仙，\n",
      "\n",
      "<OUTLINE>\n",
      "扩写依据：帮我描述一下逍遥老仙的威武霸气\n",
      "</OUTLINE>那又是谁？\n",
      "\n",
      "<OUTLINE>\n",
      "扩写依据：帮我描述一下逍遥小仙的武功盖世\n",
      "## 宁厌烦\n",
      "## 宁雪\n",
      "</OUTLINE>## 第二个标题2\n",
      "\n",
      "法力无边。\n",
      "\n",
      "### 标题3\n",
      "\n",
      "倚天不出，谁与争锋。\n",
      "\n",
      "## 第三个标题2\n",
      "\n",
      "华山论剑。\n",
      "\n",
      "\n"
     ]
    }
   ],
   "source": [
    "t = IntelliDocuments(md)\n",
    "print(t.markdown)"
   ]
  },
  {
   "cell_type": "markdown",
   "id": "af31878d-31ef-49d1-b73d-8efea3bd1193",
   "metadata": {},
   "source": [
    "## get_outline_task"
   ]
  },
  {
   "cell_type": "code",
   "execution_count": 5,
   "id": "2f587d2d-0490-455a-9444-64be62b4258e",
   "metadata": {},
   "outputs": [
    {
     "name": "stdout",
     "output_type": "stream",
     "text": [
      "<OUTLINE>\n",
      "扩写依据:\n",
      "你说的有道理\n",
      "</OUTLINE>\n",
      "---------------\n",
      "<OUTLINE>\n",
      "扩写依据：帮我描述一下逍遥老仙的威武霸气\n",
      "</OUTLINE>\n",
      "---------------\n",
      "<OUTLINE>\n",
      "扩写依据：帮我描述一下逍遥小仙的武功盖世\n",
      "## 宁厌烦\n",
      "## 宁雪\n",
      "</OUTLINE>\n"
     ]
    }
   ],
   "source": [
    "tasks = t.get_outline_task()\n",
    "print(markdown(tasks, \"\\n---------------\\n\"))\n",
    "\n",
    "# tasks"
   ]
  },
  {
   "cell_type": "markdown",
   "id": "ca8cb95c-89ab-4cfd-a030-f8a3abde24e2",
   "metadata": {},
   "source": [
    "## get_relevant_documents"
   ]
  },
  {
   "cell_type": "code",
   "execution_count": 6,
   "id": "44f48bf8-0caa-4474-86aa-00ae21f964a3",
   "metadata": {},
   "outputs": [
    {
     "data": {
      "text/plain": [
       "Document(page_content='<OUTLINE>\\n扩写依据:\\n你说的有道理\\n</OUTLINE>', metadata={'id': '1717648040-6', 'type': 'OUTLINE'})"
      ]
     },
     "execution_count": 6,
     "metadata": {},
     "output_type": "execute_result"
    }
   ],
   "source": [
    "tasks[0]"
   ]
  },
  {
   "cell_type": "code",
   "execution_count": 7,
   "id": "c9486f84-52ce-484b-a4ca-a11446581db1",
   "metadata": {},
   "outputs": [
    {
     "data": {
      "text/plain": [
       "[Document(page_content='# 标题1\\n\\n', metadata={'type': 'heading', 'attrs': {'level': 1}, 'style': 'axt', 'children': [{'type': 'text', 'raw': '标题1'}], 'id': '1717648040-3'}),\n",
       " Document(page_content='', metadata={'type': 'blank_line', 'id': '1717648040-5'}),\n",
       " Document(page_content='<OUTLINE>\\n扩写依据:\\n你说的有道理\\n</OUTLINE>', metadata={'id': '1717648040-6', 'type': 'OUTLINE'}),\n",
       " Document(page_content='', metadata={'type': 'blank_line', 'id': '1717648040-7'}),\n",
       " Document(page_content='## 第一个标题2\\n\\n', metadata={'type': 'heading', 'attrs': {'level': 2}, 'style': 'axt', 'children': [{'type': 'text', 'raw': '第一个标题2'}], 'id': '1717648040-8'}),\n",
       " Document(page_content='', metadata={'type': 'blank_line', 'id': '1717648040-9'}),\n",
       " Document(page_content='逍遥老仙，\\n\\n', metadata={'type': 'paragraph', 'children': [{'type': 'text', 'raw': '逍遥老仙，'}], 'id': '1717648040-10'}),\n",
       " Document(page_content='', metadata={'type': 'blank_line', 'id': '1717648040-11'}),\n",
       " Document(page_content='逍遥小仙，\\n\\n', metadata={'type': 'paragraph', 'children': [{'type': 'text', 'raw': '逍遥小仙，'}], 'id': '1717648040-12'}),\n",
       " Document(page_content='', metadata={'type': 'blank_line', 'id': '1717648040-13'}),\n",
       " Document(page_content='<OUTLINE>\\n扩写依据：帮我描述一下逍遥老仙的威武霸气\\n</OUTLINE>', metadata={'id': '1717648040-14', 'type': 'OUTLINE'}),\n",
       " Document(page_content='', metadata={'type': 'blank_line', 'id': '1717648040-15'}),\n",
       " Document(page_content='那又是谁？\\n\\n', metadata={'type': 'paragraph', 'children': [{'type': 'text', 'raw': '那又是谁？'}], 'id': '1717648040-16'}),\n",
       " Document(page_content='', metadata={'type': 'blank_line', 'id': '1717648040-17'})]"
      ]
     },
     "execution_count": 7,
     "metadata": {},
     "output_type": "execute_result"
    }
   ],
   "source": [
    "t.get_prev_documents(tasks[2], k=110)"
   ]
  },
  {
   "cell_type": "code",
   "execution_count": 8,
   "id": "b2886143-a766-4567-975f-0d6a46f20462",
   "metadata": {},
   "outputs": [
    {
     "name": "stdout",
     "output_type": "stream",
     "text": [
      "# 标题1\n",
      "\n",
      "<OUTLINE>\n",
      "扩写依据:\n",
      "你说的有道理\n",
      "</OUTLINE>## 第一个标题2\n",
      "\n",
      "逍遥老仙，\n",
      "\n",
      "逍遥小仙，\n",
      "\n",
      "<OUTLINE>\n",
      "扩写依据：帮我描述一下逍遥老仙的威武霸气\n",
      "</OUTLINE>那又是谁？\n",
      "\n",
      "\n"
     ]
    }
   ],
   "source": [
    "print(markdown(t.get_prev_documents(tasks[2], k=110)))"
   ]
  },
  {
   "cell_type": "code",
   "execution_count": 13,
   "id": "a3393fcf-c26b-4578-a34a-4884b21b6736",
   "metadata": {},
   "outputs": [
    {
     "name": "stdout",
     "output_type": "stream",
     "text": [
      "<OUTLINE>\n",
      "扩写依据：帮我描述一下逍遥小仙的武功盖世\n",
      "## 宁厌烦\n",
      "## 宁雪\n",
      "</OUTLINE>\n"
     ]
    }
   ],
   "source": [
    "print(markdown([tasks[2]]))"
   ]
  },
  {
   "cell_type": "code",
   "execution_count": 9,
   "id": "44fd23bd-56d2-4cfb-b077-3cd8f5c8336c",
   "metadata": {},
   "outputs": [
    {
     "name": "stdout",
     "output_type": "stream",
     "text": [
      "## 第二个标题2\n",
      "\n",
      "法力无边。\n",
      "\n",
      "### 标题3\n",
      "\n",
      "倚天不出，谁与争锋。\n",
      "\n",
      "## 第三个标题2\n",
      "\n",
      "华山论剑。\n",
      "\n",
      "\n"
     ]
    }
   ],
   "source": [
    "print(markdown(t.get_next_documents(tasks[2], k=110)))"
   ]
  },
  {
   "cell_type": "code",
   "execution_count": 10,
   "id": "bc3747c3-b7d3-47cf-b0b2-920e492950b0",
   "metadata": {},
   "outputs": [
    {
     "data": {
      "text/plain": [
       "[Document(page_content='', metadata={'type': 'blank_line', 'id': '1717647923-0'}),\n",
       " Document(page_content='## 前序\\n\\n', metadata={'type': 'heading', 'attrs': {'level': 2}, 'style': 'axt', 'children': [{'type': 'text', 'raw': '前序'}], 'id': '1717647923-1'}),\n",
       " Document(page_content='', metadata={'type': 'blank_line', 'id': '1717647923-2'}),\n",
       " Document(page_content='# 标题1\\n\\n', metadata={'type': 'heading', 'attrs': {'level': 1}, 'style': 'axt', 'children': [{'type': 'text', 'raw': '标题1'}], 'id': '1717647923-3'}),\n",
       " Document(page_content='我的文档。\\n\\n', metadata={'type': 'paragraph', 'children': [{'type': 'text', 'raw': '我的文档。'}], 'id': '1717647923-4'}),\n",
       " Document(page_content='', metadata={'type': 'blank_line', 'id': '1717647923-5'}),\n",
       " Document(page_content='<OUTLINE>\\n扩写依据:\\n你说的有道理\\n</OUTLINE>', metadata={'id': '1717647923-6', 'type': 'OUTLINE'}),\n",
       " Document(page_content='', metadata={'type': 'blank_line', 'id': '1717647923-7'}),\n",
       " Document(page_content='## 第一个标题2\\n\\n', metadata={'type': 'heading', 'attrs': {'level': 2}, 'style': 'axt', 'children': [{'type': 'text', 'raw': '第一个标题2'}], 'id': '1717647923-8'}),\n",
       " Document(page_content='', metadata={'type': 'blank_line', 'id': '1717647923-9'}),\n",
       " Document(page_content='逍遥老仙，\\n\\n', metadata={'type': 'paragraph', 'children': [{'type': 'text', 'raw': '逍遥老仙，'}], 'id': '1717647923-10'}),\n",
       " Document(page_content='', metadata={'type': 'blank_line', 'id': '1717647923-11'}),\n",
       " Document(page_content='逍遥小仙，\\n\\n', metadata={'type': 'paragraph', 'children': [{'type': 'text', 'raw': '逍遥小仙，'}], 'id': '1717647923-12'}),\n",
       " Document(page_content='', metadata={'type': 'blank_line', 'id': '1717647923-13'}),\n",
       " Document(page_content='<OUTLINE>\\n扩写依据：帮我描述一下逍遥老仙的威武霸气\\n</OUTLINE>', metadata={'id': '1717647923-14', 'type': 'OUTLINE'}),\n",
       " Document(page_content='', metadata={'type': 'blank_line', 'id': '1717647923-15'}),\n",
       " Document(page_content='那又是谁？\\n\\n', metadata={'type': 'paragraph', 'children': [{'type': 'text', 'raw': '那又是谁？'}], 'id': '1717647923-16'}),\n",
       " Document(page_content='', metadata={'type': 'blank_line', 'id': '1717647923-17'}),\n",
       " Document(page_content='', metadata={'type': 'blank_line', 'id': '1717647928-0'}),\n",
       " Document(page_content='## 一、安装\\n\\n', metadata={'type': 'heading', 'attrs': {'level': 2}, 'style': 'axt', 'children': [{'type': 'text', 'raw': '一、安装'}], 'id': '1717647928-1'}),\n",
       " Document(page_content='', metadata={'type': 'blank_line', 'id': '1717647928-2'}),\n",
       " Document(page_content='你可以使用 pip 安装：\\n\\n', metadata={'type': 'paragraph', 'children': [{'type': 'text', 'raw': '你可以使用 pip 安装：'}], 'id': '1717647928-3'}),\n",
       " Document(page_content='```\\npip install -U textlong\\n```\\n\\n', metadata={'type': 'block_code', 'raw': 'pip install -U textlong\\n', 'style': 'fenced', 'marker': '```', 'id': '1717647928-4'}),\n",
       " Document(page_content='', metadata={'type': 'blank_line', 'id': '1717647928-5'}),\n",
       " Document(page_content='或者使用 poetry 安装：\\n\\n', metadata={'type': 'paragraph', 'children': [{'type': 'text', 'raw': '或者使用 poetry 安装：'}], 'id': '1717647928-6'}),\n",
       " Document(page_content='```\\npoetry add textlong@latest\\n```\\n\\n', metadata={'type': 'block_code', 'raw': 'poetry add textlong@latest\\n', 'style': 'fenced', 'marker': '```', 'id': '1717647928-7'}),\n",
       " Document(page_content='', metadata={'type': 'blank_line', 'id': '1717647923-19'}),\n",
       " Document(page_content='## 第二个标题2\\n\\n', metadata={'type': 'heading', 'attrs': {'level': 2}, 'style': 'axt', 'children': [{'type': 'text', 'raw': '第二个标题2'}], 'id': '1717647923-20'}),\n",
       " Document(page_content='', metadata={'type': 'blank_line', 'id': '1717647923-21'}),\n",
       " Document(page_content='法力无边。\\n\\n', metadata={'type': 'paragraph', 'children': [{'type': 'text', 'raw': '法力无边。'}], 'id': '1717647923-22'}),\n",
       " Document(page_content='', metadata={'type': 'blank_line', 'id': '1717647923-23'}),\n",
       " Document(page_content='### 标题3\\n\\n', metadata={'type': 'heading', 'attrs': {'level': 3}, 'style': 'axt', 'children': [{'type': 'text', 'raw': '标题3'}], 'id': '1717647923-24'}),\n",
       " Document(page_content='', metadata={'type': 'blank_line', 'id': '1717647923-25'}),\n",
       " Document(page_content='倚天不出，谁与争锋。\\n\\n', metadata={'type': 'paragraph', 'children': [{'type': 'text', 'raw': '倚天不出，谁与争锋。'}], 'id': '1717647923-26'}),\n",
       " Document(page_content='', metadata={'type': 'blank_line', 'id': '1717647923-27'}),\n",
       " Document(page_content='## 第三个标题2\\n\\n', metadata={'type': 'heading', 'attrs': {'level': 2}, 'style': 'axt', 'children': [{'type': 'text', 'raw': '第三个标题2'}], 'id': '1717647923-28'}),\n",
       " Document(page_content='', metadata={'type': 'blank_line', 'id': '1717647923-29'}),\n",
       " Document(page_content='华山论剑。\\n\\n', metadata={'type': 'paragraph', 'children': [{'type': 'text', 'raw': '华山论剑。'}], 'id': '1717647923-30'})]"
      ]
     },
     "execution_count": 10,
     "metadata": {},
     "output_type": "execute_result"
    }
   ],
   "source": [
    "markdown = \"\"\"\n",
    "## 一、安装\n",
    "\n",
    "你可以使用 pip 安装：\n",
    "```\n",
    "pip install -U textlong\n",
    "```\n",
    "\n",
    "或者使用 poetry 安装：\n",
    "```\n",
    "poetry add textlong@latest\n",
    "```\n",
    "\"\"\"\n",
    "\n",
    "IntelliDocuments(markdown).documents\n",
    "# t.documents\n",
    "t.insert_documents(tasks[2], IntelliDocuments(markdown).documents)"
   ]
  },
  {
   "cell_type": "code",
   "execution_count": 12,
   "id": "7bccb935-baca-45d9-a2d6-884c6f282cc3",
   "metadata": {},
   "outputs": [
    {
     "name": "stdout",
     "output_type": "stream",
     "text": [
      "## 前序\n",
      "\n",
      "# 标题1\n",
      "\n",
      "我的文档。\n",
      "\n",
      "## 一、安装\n",
      "\n",
      "你可以使用 pip 安装：\n",
      "\n",
      "```\n",
      "pip install -U textlong\n",
      "```\n",
      "\n",
      "或者使用 poetry 安装：\n",
      "\n",
      "```\n",
      "poetry add textlong@latest\n",
      "```\n",
      "\n",
      "## 第一个标题2\n",
      "\n",
      "逍遥老仙，\n",
      "\n",
      "逍遥小仙，\n",
      "\n",
      "那又是谁？\n",
      "\n",
      "## 一、安装\n",
      "\n",
      "你可以使用 pip 安装：\n",
      "\n",
      "```\n",
      "pip install -U textlong\n",
      "```\n",
      "\n",
      "或者使用 poetry 安装：\n",
      "\n",
      "```\n",
      "poetry add textlong@latest\n",
      "```\n",
      "\n",
      "## 第二个标题2\n",
      "\n",
      "法力无边。\n",
      "\n",
      "### 标题3\n",
      "\n",
      "倚天不出，谁与争锋。\n",
      "\n",
      "## 第三个标题2\n",
      "\n",
      "华山论剑。\n",
      "\n",
      "\n"
     ]
    }
   ],
   "source": [
    "print(t.markdown)"
   ]
  },
  {
   "cell_type": "markdown",
   "id": "dbef1014-c435-4bc0-8706-b614b38adf3d",
   "metadata": {},
   "source": [
    "## markdown: Code 标记"
   ]
  },
  {
   "cell_type": "code",
   "execution_count": 9,
   "id": "8525c0b1-8e65-4cf5-82f0-6d7462a6449a",
   "metadata": {},
   "outputs": [],
   "source": [
    "md = \"\"\"\n",
    "# 🦜🦜🦜 textlong\n",
    "[![PyPI version](https://img.shields.io/pypi/v/textlong.svg)](https://pypi.org/project/textlong/)\n",
    "\n",
    "**textlong** 的目标是基于大语言模型提供结构化的长文本生成能力。\n",
    "\n",
    "## 一、安装\n",
    "\n",
    "你可以使用 pip 安装：\n",
    "```\n",
    "pip install -U textlong\n",
    "```\n",
    "\n",
    "或者使用 poetry 安装：\n",
    "```\n",
    "poetry add textlong@latest\n",
    "```\n",
    "\n",
    "## 二、结构化长文生成能力\n",
    "\n",
    "`textlong` 中提供如下创作工具：\n",
    "\n",
    "- `WritingTask`：用于生成结构化长文\n",
    "\n",
    "**1. 加载环境变量：**\n",
    "\n",
    "```python\n",
    "from dotenv import load_dotenv, find_dotenv\n",
    "load_dotenv(find_dotenv(), override=True)\n",
    "```\n",
    "\n",
    "**2. 创建`WritingTask`实例：**\n",
    "\n",
    "```python\n",
    "from textlong import WritingTask\n",
    "from langchain_openai import ChatOpenAI\n",
    "\n",
    "task = WritingTask(llm=ChatOpenAI())\n",
    "```\n",
    "\n",
    "**3. 使用`auto_write`方法自动生成一段长文：**\n",
    "\n",
    "```python\n",
    "task.auto_write(\"task 给好基友写一封信, 1800字，分4段就行\")\n",
    "```\n",
    "\n",
    "**4. 使用`repl_write`方法控制台，在人工干预过程中生成一段长文：**\n",
    "\n",
    "```python\n",
    "task.repl_write(\"task 给好基友写一封信, 1800字，分4段就行\")\n",
    "\n",
    "## ...\n",
    "## 接下来，你可以一直输入 ok 指令确认生成的内容，获得与 auto_write 类似的效果\n",
    "```\n",
    "\n",
    "**5. 你可以查看生成的提纲（也可以在repl模式中输入 outlines）：**\n",
    "\n",
    "```python\n",
    "# 查看创作大纲\n",
    "task.invoke(\"outlines\")['reply']\n",
    "```\n",
    "\n",
    "**6. 或者查看文字成果：**\n",
    "\n",
    "```python\n",
    "task.invoke(\"texts\")['reply']\n",
    "```\n",
    "\n",
    "**7. 使用`invoke`方法执行`help`指令，以获得帮助:**\n",
    "\n",
    "```python\n",
    "task.invoke(\"help 我在repl模式中还可以做什么？\")\n",
    "```\n",
    "\n",
    "\"\"\""
   ]
  },
  {
   "cell_type": "code",
   "execution_count": 10,
   "id": "e4960b96-a793-4199-84f4-dc611fb89eef",
   "metadata": {},
   "outputs": [
    {
     "data": {
      "text/plain": [
       "[Document(page_content='', metadata={'type': 'blank_line', 'id': '1717551010-0'}),\n",
       " Document(page_content='# 🦜🦜🦜 textlong\\n\\n', metadata={'type': 'heading', 'attrs': {'level': 1}, 'style': 'axt', 'children': [{'type': 'text', 'raw': '🦜🦜🦜 textlong'}], 'id': '1717551010-1'}),\n",
       " Document(page_content='[![PyPI version](https://img.shields.io/pypi/v/textlong.svg)](https://pypi.org/project/textlong/)\\n\\n', metadata={'type': 'paragraph', 'children': [{'type': 'link', 'children': [{'type': 'image', 'children': [{'type': 'text', 'raw': 'PyPI version'}], 'attrs': {'url': 'https://img.shields.io/pypi/v/textlong.svg'}}], 'attrs': {'url': 'https://pypi.org/project/textlong/'}}], 'id': '1717551010-2'}),\n",
       " Document(page_content='', metadata={'type': 'blank_line', 'id': '1717551010-3'}),\n",
       " Document(page_content='**textlong** 的目标是基于大语言模型提供结构化的长文本生成能力。\\n\\n', metadata={'type': 'paragraph', 'children': [{'type': 'strong', 'children': [{'type': 'text', 'raw': 'textlong'}]}, {'type': 'text', 'raw': ' 的目标是基于大语言模型提供结构化的长文本生成能力。'}], 'id': '1717551010-4'}),\n",
       " Document(page_content='', metadata={'type': 'blank_line', 'id': '1717551010-5'}),\n",
       " Document(page_content='## 一、安装\\n\\n', metadata={'type': 'heading', 'attrs': {'level': 2}, 'style': 'axt', 'children': [{'type': 'text', 'raw': '一、安装'}], 'id': '1717551010-6'}),\n",
       " Document(page_content='', metadata={'type': 'blank_line', 'id': '1717551010-7'}),\n",
       " Document(page_content='你可以使用 pip 安装：\\n\\n', metadata={'type': 'paragraph', 'children': [{'type': 'text', 'raw': '你可以使用 pip 安装：'}], 'id': '1717551010-8'}),\n",
       " Document(page_content='```\\npip install -U textlong\\n```\\n\\n', metadata={'type': 'block_code', 'raw': 'pip install -U textlong\\n', 'style': 'fenced', 'marker': '```', 'id': '1717551010-9'}),\n",
       " Document(page_content='', metadata={'type': 'blank_line', 'id': '1717551010-10'}),\n",
       " Document(page_content='或者使用 poetry 安装：\\n\\n', metadata={'type': 'paragraph', 'children': [{'type': 'text', 'raw': '或者使用 poetry 安装：'}], 'id': '1717551010-11'}),\n",
       " Document(page_content='```\\npoetry add textlong@latest\\n```\\n\\n', metadata={'type': 'block_code', 'raw': 'poetry add textlong@latest\\n', 'style': 'fenced', 'marker': '```', 'id': '1717551010-12'}),\n",
       " Document(page_content='', metadata={'type': 'blank_line', 'id': '1717551010-13'}),\n",
       " Document(page_content='## 二、结构化长文生成能力\\n\\n', metadata={'type': 'heading', 'attrs': {'level': 2}, 'style': 'axt', 'children': [{'type': 'text', 'raw': '二、结构化长文生成能力'}], 'id': '1717551010-14'}),\n",
       " Document(page_content='', metadata={'type': 'blank_line', 'id': '1717551010-15'}),\n",
       " Document(page_content='`textlong` 中提供如下创作工具：\\n\\n', metadata={'type': 'paragraph', 'children': [{'type': 'codespan', 'raw': 'textlong'}, {'type': 'text', 'raw': ' 中提供如下创作工具：'}], 'id': '1717551010-16'}),\n",
       " Document(page_content='', metadata={'type': 'blank_line', 'id': '1717551010-17'}),\n",
       " Document(page_content='- `WritingTask`：用于生成结构化长文\\n\\n', metadata={'type': 'list', 'children': [{'type': 'list_item', 'children': [{'type': 'block_text', 'children': [{'type': 'codespan', 'raw': 'WritingTask'}, {'type': 'text', 'raw': '：用于生成结构化长文'}]}]}], 'tight': True, 'bullet': '-', 'attrs': {'depth': 0, 'ordered': False}, 'id': '1717551010-18'}),\n",
       " Document(page_content='**1. 加载环境变量：**\\n\\n', metadata={'type': 'paragraph', 'children': [{'type': 'strong', 'children': [{'type': 'text', 'raw': '1. 加载环境变量：'}]}], 'id': '1717551010-19'}),\n",
       " Document(page_content='', metadata={'type': 'blank_line', 'id': '1717551010-20'}),\n",
       " Document(page_content='```python\\nfrom dotenv import load_dotenv, find_dotenv\\nload_dotenv(find_dotenv(), override=True)\\n```\\n\\n', metadata={'type': 'block_code', 'raw': 'from dotenv import load_dotenv, find_dotenv\\nload_dotenv(find_dotenv(), override=True)\\n', 'style': 'fenced', 'marker': '```', 'attrs': {'info': 'python'}, 'id': '1717551010-21'}),\n",
       " Document(page_content='', metadata={'type': 'blank_line', 'id': '1717551010-22'}),\n",
       " Document(page_content='**2. 创建`WritingTask`实例：**\\n\\n', metadata={'type': 'paragraph', 'children': [{'type': 'strong', 'children': [{'type': 'text', 'raw': '2. 创建'}, {'type': 'codespan', 'raw': 'WritingTask'}, {'type': 'text', 'raw': '实例：'}]}], 'id': '1717551010-23'}),\n",
       " Document(page_content='', metadata={'type': 'blank_line', 'id': '1717551010-24'}),\n",
       " Document(page_content='```python\\nfrom textlong import WritingTask\\nfrom langchain_openai import ChatOpenAI\\n\\ntask = WritingTask(llm=ChatOpenAI())\\n```\\n\\n', metadata={'type': 'block_code', 'raw': 'from textlong import WritingTask\\nfrom langchain_openai import ChatOpenAI\\n\\ntask = WritingTask(llm=ChatOpenAI())\\n', 'style': 'fenced', 'marker': '```', 'attrs': {'info': 'python'}, 'id': '1717551010-25'}),\n",
       " Document(page_content='', metadata={'type': 'blank_line', 'id': '1717551010-26'}),\n",
       " Document(page_content='**3. 使用`auto_write`方法自动生成一段长文：**\\n\\n', metadata={'type': 'paragraph', 'children': [{'type': 'strong', 'children': [{'type': 'text', 'raw': '3. 使用'}, {'type': 'codespan', 'raw': 'auto_write'}, {'type': 'text', 'raw': '方法自动生成一段长文：'}]}], 'id': '1717551010-27'}),\n",
       " Document(page_content='', metadata={'type': 'blank_line', 'id': '1717551010-28'}),\n",
       " Document(page_content='```python\\ntask.auto_write(\"task 给好基友写一封信, 1800字，分4段就行\")\\n```\\n\\n', metadata={'type': 'block_code', 'raw': 'task.auto_write(\"task 给好基友写一封信, 1800字，分4段就行\")\\n', 'style': 'fenced', 'marker': '```', 'attrs': {'info': 'python'}, 'id': '1717551010-29'}),\n",
       " Document(page_content='', metadata={'type': 'blank_line', 'id': '1717551010-30'}),\n",
       " Document(page_content='**4. 使用`repl_write`方法控制台，在人工干预过程中生成一段长文：**\\n\\n', metadata={'type': 'paragraph', 'children': [{'type': 'strong', 'children': [{'type': 'text', 'raw': '4. 使用'}, {'type': 'codespan', 'raw': 'repl_write'}, {'type': 'text', 'raw': '方法控制台，在人工干预过程中生成一段长文：'}]}], 'id': '1717551010-31'}),\n",
       " Document(page_content='', metadata={'type': 'blank_line', 'id': '1717551010-32'}),\n",
       " Document(page_content='```python\\ntask.repl_write(\"task 给好基友写一封信, 1800字，分4段就行\")\\n\\n## ...\\n## 接下来，你可以一直输入 ok 指令确认生成的内容，获得与 auto_write 类似的效果\\n```\\n\\n', metadata={'type': 'block_code', 'raw': 'task.repl_write(\"task 给好基友写一封信, 1800字，分4段就行\")\\n\\n## ...\\n## 接下来，你可以一直输入 ok 指令确认生成的内容，获得与 auto_write 类似的效果\\n', 'style': 'fenced', 'marker': '```', 'attrs': {'info': 'python'}, 'id': '1717551010-33'}),\n",
       " Document(page_content='', metadata={'type': 'blank_line', 'id': '1717551010-34'}),\n",
       " Document(page_content='**5. 你可以查看生成的提纲（也可以在repl模式中输入 outlines）：**\\n\\n', metadata={'type': 'paragraph', 'children': [{'type': 'strong', 'children': [{'type': 'text', 'raw': '5. 你可以查看生成的提纲（也可以在repl模式中输入 outlines）：'}]}], 'id': '1717551010-35'}),\n",
       " Document(page_content='', metadata={'type': 'blank_line', 'id': '1717551010-36'}),\n",
       " Document(page_content='```python\\n# 查看创作大纲\\ntask.invoke(\"outlines\")[\\'reply\\']\\n```\\n\\n', metadata={'type': 'block_code', 'raw': '# 查看创作大纲\\ntask.invoke(\"outlines\")[\\'reply\\']\\n', 'style': 'fenced', 'marker': '```', 'attrs': {'info': 'python'}, 'id': '1717551010-37'}),\n",
       " Document(page_content='', metadata={'type': 'blank_line', 'id': '1717551010-38'}),\n",
       " Document(page_content='**6. 或者查看文字成果：**\\n\\n', metadata={'type': 'paragraph', 'children': [{'type': 'strong', 'children': [{'type': 'text', 'raw': '6. 或者查看文字成果：'}]}], 'id': '1717551010-39'}),\n",
       " Document(page_content='', metadata={'type': 'blank_line', 'id': '1717551010-40'}),\n",
       " Document(page_content='```python\\ntask.invoke(\"texts\")[\\'reply\\']\\n```\\n\\n', metadata={'type': 'block_code', 'raw': 'task.invoke(\"texts\")[\\'reply\\']\\n', 'style': 'fenced', 'marker': '```', 'attrs': {'info': 'python'}, 'id': '1717551010-41'}),\n",
       " Document(page_content='', metadata={'type': 'blank_line', 'id': '1717551010-42'}),\n",
       " Document(page_content='**7. 使用`invoke`方法执行`help`指令，以获得帮助:**\\n\\n', metadata={'type': 'paragraph', 'children': [{'type': 'strong', 'children': [{'type': 'text', 'raw': '7. 使用'}, {'type': 'codespan', 'raw': 'invoke'}, {'type': 'text', 'raw': '方法执行'}, {'type': 'codespan', 'raw': 'help'}, {'type': 'text', 'raw': '指令，以获得帮助:'}]}], 'id': '1717551010-43'}),\n",
       " Document(page_content='', metadata={'type': 'blank_line', 'id': '1717551010-44'}),\n",
       " Document(page_content='```python\\ntask.invoke(\"help 我在repl模式中还可以做什么？\")\\n```\\n\\n', metadata={'type': 'block_code', 'raw': 'task.invoke(\"help 我在repl模式中还可以做什么？\")\\n', 'style': 'fenced', 'marker': '```', 'attrs': {'info': 'python'}, 'id': '1717551010-45'}),\n",
       " Document(page_content='', metadata={'type': 'blank_line', 'id': '1717551010-46'})]"
      ]
     },
     "execution_count": 10,
     "metadata": {},
     "output_type": "execute_result"
    }
   ],
   "source": [
    "from textlong.md import IntelliDocuments\n",
    "t = IntelliDocuments(md)\n",
    "t.documents"
   ]
  },
  {
   "cell_type": "code",
   "execution_count": 11,
   "id": "ccc29fe6-03df-4c27-96c2-9a7782ae13e1",
   "metadata": {},
   "outputs": [
    {
     "name": "stdout",
     "output_type": "stream",
     "text": [
      "# 🦜🦜🦜 textlong\n",
      "\n",
      "[![PyPI version](https://img.shields.io/pypi/v/textlong.svg)](https://pypi.org/project/textlong/)\n",
      "\n",
      "**textlong** 的目标是基于大语言模型提供结构化的长文本生成能力。\n",
      "\n",
      "## 一、安装\n",
      "\n",
      "你可以使用 pip 安装：\n",
      "\n",
      "```\n",
      "pip install -U textlong\n",
      "```\n",
      "\n",
      "或者使用 poetry 安装：\n",
      "\n",
      "```\n",
      "poetry add textlong@latest\n",
      "```\n",
      "\n",
      "## 二、结构化长文生成能力\n",
      "\n",
      "`textlong` 中提供如下创作工具：\n",
      "\n",
      "- `WritingTask`：用于生成结构化长文\n",
      "\n",
      "**1. 加载环境变量：**\n",
      "\n",
      "```python\n",
      "from dotenv import load_dotenv, find_dotenv\n",
      "load_dotenv(find_dotenv(), override=True)\n",
      "```\n",
      "\n",
      "**2. 创建`WritingTask`实例：**\n",
      "\n",
      "```python\n",
      "from textlong import WritingTask\n",
      "from langchain_openai import ChatOpenAI\n",
      "\n",
      "task = WritingTask(llm=ChatOpenAI())\n",
      "```\n",
      "\n",
      "**3. 使用`auto_write`方法自动生成一段长文：**\n",
      "\n",
      "```python\n",
      "task.auto_write(\"task 给好基友写一封信, 1800字，分4段就行\")\n",
      "```\n",
      "\n",
      "**4. 使用`repl_write`方法控制台，在人工干预过程中生成一段长文：**\n",
      "\n",
      "```python\n",
      "task.repl_write(\"task 给好基友写一封信, 1800字，分4段就行\")\n",
      "\n",
      "## ...\n",
      "## 接下来，你可以一直输入 ok 指令确认生成的内容，获得与 auto_write 类似的效果\n",
      "```\n",
      "\n",
      "**5. 你可以查看生成的提纲（也可以在repl模式中输入 outlines）：**\n",
      "\n",
      "```python\n",
      "# 查看创作大纲\n",
      "task.invoke(\"outlines\")['reply']\n",
      "```\n",
      "\n",
      "**6. 或者查看文字成果：**\n",
      "\n",
      "```python\n",
      "task.invoke(\"texts\")['reply']\n",
      "```\n",
      "\n",
      "**7. 使用`invoke`方法执行`help`指令，以获得帮助:**\n",
      "\n",
      "```python\n",
      "task.invoke(\"help 我在repl模式中还可以做什么？\")\n",
      "```\n",
      "\n",
      "\n"
     ]
    }
   ],
   "source": [
    "print(t.markdown)"
   ]
  }
 ],
 "metadata": {
  "kernelspec": {
   "display_name": "langchani-book-py3.10-ipykernel",
   "language": "python",
   "name": "langchani-book-py3.10-ipykernel"
  },
  "language_info": {
   "codemirror_mode": {
    "name": "ipython",
    "version": 3
   },
   "file_extension": ".py",
   "mimetype": "text/x-python",
   "name": "python",
   "nbconvert_exporter": "python",
   "pygments_lexer": "ipython3",
   "version": "3.10.0"
  }
 },
 "nbformat": 4,
 "nbformat_minor": 5
}
