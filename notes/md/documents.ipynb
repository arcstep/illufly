{
 "cells": [
  {
   "cell_type": "markdown",
   "id": "f2fbf6e4-adae-475d-a471-505933d0a886",
   "metadata": {},
   "source": [
    "# IntelliDocuments"
   ]
  },
  {
   "cell_type": "code",
   "execution_count": 1,
   "id": "1a1933f0-de79-4bbe-ba2d-cc6e0e34f1f8",
   "metadata": {},
   "outputs": [],
   "source": [
    "md = \"\"\"\n",
    "## 前序\n",
    "\n",
    "# 标题1\n",
    "我的文档。\n",
    "\n",
    "## 标题2\n",
    "\n",
    "逍遥老仙，\n",
    "\n",
    "## 第一个标题2\n",
    "\n",
    "法力无边。\n",
    "\n",
    "### 标题3 \n",
    "\n",
    "倚天不出，谁与争锋。\n",
    "\n",
    "## 又一个标题2\n",
    "\n",
    "华山论剑。\n",
    "\"\"\""
   ]
  },
  {
   "cell_type": "markdown",
   "id": "79425487-eb0e-428e-b6c4-eebed5abf19a",
   "metadata": {},
   "source": [
    "## `__init__`"
   ]
  },
  {
   "cell_type": "code",
   "execution_count": 2,
   "id": "64cb2494-a4ec-4093-bb00-74fc1227529c",
   "metadata": {},
   "outputs": [],
   "source": [
    "from textlong.md.documents import IntelliDocuments\n",
    "t = IntelliDocuments(md)"
   ]
  },
  {
   "cell_type": "code",
   "execution_count": 3,
   "id": "622847c3-f8fb-477e-bbf0-327f63c61764",
   "metadata": {},
   "outputs": [
    {
     "data": {
      "text/plain": [
       "[Document(page_content='前序', metadata={'type': 'H2'}),\n",
       " Document(page_content='标题1', metadata={'type': 'H1'}),\n",
       " Document(page_content='我的文档。', metadata={'type': 'paragraph'}),\n",
       " Document(page_content='标题2', metadata={'type': 'H2'}),\n",
       " Document(page_content='逍遥老仙，', metadata={'type': 'paragraph'}),\n",
       " Document(page_content='第一个标题2', metadata={'type': 'H2'}),\n",
       " Document(page_content='法力无边。', metadata={'type': 'paragraph'}),\n",
       " Document(page_content='标题3', metadata={'type': 'H3'}),\n",
       " Document(page_content='倚天不出，谁与争锋。', metadata={'type': 'paragraph'}),\n",
       " Document(page_content='又一个标题2', metadata={'type': 'H2'}),\n",
       " Document(page_content='华山论剑。', metadata={'type': 'paragraph'})]"
      ]
     },
     "execution_count": 3,
     "metadata": {},
     "output_type": "execute_result"
    }
   ],
   "source": [
    "docs = IntelliDocuments.parse_markdown(md)\n",
    "docs"
   ]
  },
  {
   "cell_type": "code",
   "execution_count": 4,
   "id": "6abba28e-188c-4404-8697-ce1b95bdf695",
   "metadata": {},
   "outputs": [
    {
     "data": {
      "text/plain": [
       "[Document(page_content='前序', metadata={'type': 'H2'}),\n",
       " Document(page_content='标题1', metadata={'type': 'H1'}),\n",
       " Document(page_content='我的文档。', metadata={'type': 'paragraph'}),\n",
       " Document(page_content='标题2', metadata={'type': 'H2'}),\n",
       " Document(page_content='逍遥老仙，', metadata={'type': 'paragraph'}),\n",
       " Document(page_content='第一个标题2', metadata={'type': 'H2'}),\n",
       " Document(page_content='法力无边。', metadata={'type': 'paragraph'}),\n",
       " Document(page_content='标题3', metadata={'type': 'H3'}),\n",
       " Document(page_content='倚天不出，谁与争锋。', metadata={'type': 'paragraph'}),\n",
       " Document(page_content='又一个标题2', metadata={'type': 'H2'}),\n",
       " Document(page_content='华山论剑。', metadata={'type': 'paragraph'})]"
      ]
     },
     "execution_count": 4,
     "metadata": {},
     "output_type": "execute_result"
    }
   ],
   "source": [
    "t = IntelliDocuments(md)\n",
    "t.documents"
   ]
  },
  {
   "cell_type": "markdown",
   "id": "2772341f-5ce4-4be5-8303-27eaa7d73fba",
   "metadata": {},
   "source": [
    "## get_documents"
   ]
  },
  {
   "cell_type": "code",
   "execution_count": 5,
   "id": "2ac7c064-a8ff-4869-a2bf-39066b7c3fb2",
   "metadata": {},
   "outputs": [
    {
     "data": {
      "text/plain": [
       "[Document(page_content='第一个标题2', metadata={'type': 'H2'}),\n",
       " Document(page_content='法力无边。', metadata={'type': 'paragraph'}),\n",
       " Document(page_content='标题3', metadata={'type': 'H3'}),\n",
       " Document(page_content='倚天不出，谁与争锋。', metadata={'type': 'paragraph'})]"
      ]
     },
     "execution_count": 5,
     "metadata": {},
     "output_type": "execute_result"
    }
   ],
   "source": [
    "t.get_documents(\"第一个标题2\")"
   ]
  },
  {
   "cell_type": "code",
   "execution_count": 6,
   "id": "ed775fb7-05d8-466d-801e-adae219379cc",
   "metadata": {},
   "outputs": [
    {
     "data": {
      "text/plain": [
       "(5, 9)"
      ]
     },
     "execution_count": 6,
     "metadata": {},
     "output_type": "execute_result"
    }
   ],
   "source": [
    "t.get_documents_range(\"第一个标题2\")"
   ]
  },
  {
   "cell_type": "code",
   "execution_count": 7,
   "id": "504a2ac1-2125-4846-99da-675439c019bf",
   "metadata": {},
   "outputs": [
    {
     "data": {
      "text/plain": [
       "(0, 1)"
      ]
     },
     "execution_count": 7,
     "metadata": {},
     "output_type": "execute_result"
    }
   ],
   "source": [
    "t.get_documents_range(\"前序\")"
   ]
  },
  {
   "cell_type": "markdown",
   "id": "ca8cb95c-89ab-4cfd-a030-f8a3abde24e2",
   "metadata": {},
   "source": [
    "## get_documents_range"
   ]
  },
  {
   "cell_type": "code",
   "execution_count": 8,
   "id": "6fcff382-4103-42ef-b526-44518508caaf",
   "metadata": {},
   "outputs": [
    {
     "data": {
      "text/plain": [
       "(5, 9)"
      ]
     },
     "execution_count": 8,
     "metadata": {},
     "output_type": "execute_result"
    }
   ],
   "source": [
    "t.get_documents_range(\"第一个标题2\")"
   ]
  },
  {
   "cell_type": "markdown",
   "id": "98553cfc-b0e5-4f34-b18b-56ccefa8f555",
   "metadata": {},
   "source": [
    "## get_markdown"
   ]
  },
  {
   "cell_type": "code",
   "execution_count": 9,
   "id": "357f9d3d-e400-4e75-9899-4d2ae939256a",
   "metadata": {},
   "outputs": [
    {
     "data": {
      "text/plain": [
       "[Document(page_content='前序', metadata={'type': 'H2'}),\n",
       " Document(page_content='标题1', metadata={'type': 'H1'}),\n",
       " Document(page_content='我的文档。', metadata={'type': 'paragraph'}),\n",
       " Document(page_content='标题2', metadata={'type': 'H2'}),\n",
       " Document(page_content='逍遥老仙，', metadata={'type': 'paragraph'}),\n",
       " Document(page_content='第一个标题2', metadata={'type': 'H2'}),\n",
       " Document(page_content='法力无边。', metadata={'type': 'paragraph'}),\n",
       " Document(page_content='标题3', metadata={'type': 'H3'}),\n",
       " Document(page_content='倚天不出，谁与争锋。', metadata={'type': 'paragraph'}),\n",
       " Document(page_content='又一个标题2', metadata={'type': 'H2'}),\n",
       " Document(page_content='华山论剑。', metadata={'type': 'paragraph'})]"
      ]
     },
     "execution_count": 9,
     "metadata": {},
     "output_type": "execute_result"
    }
   ],
   "source": [
    "t.get_documents()"
   ]
  },
  {
   "cell_type": "code",
   "execution_count": 10,
   "id": "e1cc7ee7-0919-4c6c-87aa-f14c854aa338",
   "metadata": {},
   "outputs": [
    {
     "data": {
      "text/plain": [
       "'\\n## 前序\\n\\n\\n# 标题1\\n\\n我的文档。\\n\\n## 标题2\\n\\n逍遥老仙，\\n\\n## 第一个标题2\\n\\n法力无边。\\n\\n### 标题3\\n\\n倚天不出，谁与争锋。\\n\\n## 又一个标题2\\n\\n华山论剑。\\n'"
      ]
     },
     "execution_count": 10,
     "metadata": {},
     "output_type": "execute_result"
    }
   ],
   "source": [
    "IntelliDocuments.get_markdown(t.get_documents())"
   ]
  },
  {
   "cell_type": "markdown",
   "id": "fba72a3b-ec08-423f-bcfa-11afbc43e00c",
   "metadata": {},
   "source": [
    "## remove_documents"
   ]
  },
  {
   "cell_type": "code",
   "execution_count": 11,
   "id": "63ec468f-795e-4808-8df1-b90a842e5906",
   "metadata": {},
   "outputs": [
    {
     "data": {
      "text/plain": [
       "(3, 5)"
      ]
     },
     "execution_count": 11,
     "metadata": {},
     "output_type": "execute_result"
    }
   ],
   "source": [
    "t.get_documents_range(\"标题2\")"
   ]
  },
  {
   "cell_type": "code",
   "execution_count": 12,
   "id": "4e584e5c-6f50-4260-8e7e-1c9b06d80364",
   "metadata": {},
   "outputs": [
    {
     "data": {
      "text/plain": [
       "[Document(page_content='前序', metadata={'type': 'H2'}),\n",
       " Document(page_content='标题1', metadata={'type': 'H1'}),\n",
       " Document(page_content='我的文档。', metadata={'type': 'paragraph'}),\n",
       " Document(page_content='第一个标题2', metadata={'type': 'H2'}),\n",
       " Document(page_content='法力无边。', metadata={'type': 'paragraph'}),\n",
       " Document(page_content='标题3', metadata={'type': 'H3'}),\n",
       " Document(page_content='倚天不出，谁与争锋。', metadata={'type': 'paragraph'}),\n",
       " Document(page_content='又一个标题2', metadata={'type': 'H2'}),\n",
       " Document(page_content='华山论剑。', metadata={'type': 'paragraph'})]"
      ]
     },
     "execution_count": 12,
     "metadata": {},
     "output_type": "execute_result"
    }
   ],
   "source": [
    "t.remove_documents(\"标题2\")"
   ]
  },
  {
   "cell_type": "code",
   "execution_count": 13,
   "id": "e1b5138e-6e97-461f-a1c5-1d2c983d6930",
   "metadata": {},
   "outputs": [
    {
     "data": {
      "text/plain": [
       "[Document(page_content='前序', metadata={'type': 'H2'}),\n",
       " Document(page_content='标题1', metadata={'type': 'H1'}),\n",
       " Document(page_content='我的文档。', metadata={'type': 'paragraph'}),\n",
       " Document(page_content='第一个标题2', metadata={'type': 'H2'}),\n",
       " Document(page_content='法力无边。', metadata={'type': 'paragraph'}),\n",
       " Document(page_content='标题3', metadata={'type': 'H3'}),\n",
       " Document(page_content='倚天不出，谁与争锋。', metadata={'type': 'paragraph'}),\n",
       " Document(page_content='又一个标题2', metadata={'type': 'H2'}),\n",
       " Document(page_content='华山论剑。', metadata={'type': 'paragraph'})]"
      ]
     },
     "execution_count": 13,
     "metadata": {},
     "output_type": "execute_result"
    }
   ],
   "source": [
    "t.documents"
   ]
  },
  {
   "cell_type": "code",
   "execution_count": 14,
   "id": "d4a4e98a-9a4f-4977-b2af-17df0b4e205f",
   "metadata": {},
   "outputs": [
    {
     "data": {
      "text/plain": [
       "[Document(page_content='前序', metadata={'type': 'H2'}),\n",
       " Document(page_content='标题1', metadata={'type': 'H1'}),\n",
       " Document(page_content='我的文档。', metadata={'type': 'paragraph'}),\n",
       " Document(page_content='第一个标题2', metadata={'type': 'H2'}),\n",
       " Document(page_content='法力无边。', metadata={'type': 'paragraph'}),\n",
       " Document(page_content='标题3', metadata={'type': 'H3'}),\n",
       " Document(page_content='倚天不出，谁与争锋。', metadata={'type': 'paragraph'}),\n",
       " Document(page_content='又一个标题2', metadata={'type': 'H2'}),\n",
       " Document(page_content='华山论剑。', metadata={'type': 'paragraph'})]"
      ]
     },
     "execution_count": 14,
     "metadata": {},
     "output_type": "execute_result"
    }
   ],
   "source": [
    "t.get_documents(None)"
   ]
  },
  {
   "cell_type": "markdown",
   "id": "1f9cf30b-b3ff-4d83-8d37-f5dc74e9fb59",
   "metadata": {},
   "source": [
    "## insert_documents"
   ]
  },
  {
   "cell_type": "code",
   "execution_count": 15,
   "id": "a9700a24-445a-480a-b8f9-d0da27f41b82",
   "metadata": {},
   "outputs": [
    {
     "data": {
      "text/plain": [
       "[Document(page_content='前序', metadata={'type': 'H2'}),\n",
       " Document(page_content='标题1', metadata={'type': 'H1'}),\n",
       " Document(page_content='我的文档。', metadata={'type': 'paragraph'}),\n",
       " Document(page_content='标题2', metadata={'type': 'H2'}),\n",
       " Document(page_content='逍遥老仙，', metadata={'type': 'paragraph'}),\n",
       " Document(page_content='第一个标题2', metadata={'type': 'H2'}),\n",
       " Document(page_content='法力无边。', metadata={'type': 'paragraph'}),\n",
       " Document(page_content='标题3', metadata={'type': 'H3'}),\n",
       " Document(page_content='倚天不出，谁与争锋。', metadata={'type': 'paragraph'}),\n",
       " Document(page_content='又一个标题2', metadata={'type': 'H2'}),\n",
       " Document(page_content='华山论剑。', metadata={'type': 'paragraph'})]"
      ]
     },
     "execution_count": 15,
     "metadata": {},
     "output_type": "execute_result"
    }
   ],
   "source": [
    "t = IntelliDocuments(md)\n",
    "t.documents"
   ]
  },
  {
   "cell_type": "code",
   "execution_count": 16,
   "id": "21f0c1c2-d835-404f-95e2-8cb47158e3d0",
   "metadata": {},
   "outputs": [],
   "source": [
    "md2 = \"\"\"\n",
    "## 东邪西毒\n",
    "都是谁啊？\n",
    "\"\"\""
   ]
  },
  {
   "cell_type": "code",
   "execution_count": 17,
   "id": "9aa3fb5e-9d5c-4421-ad7c-5aeadc671148",
   "metadata": {},
   "outputs": [
    {
     "data": {
      "text/plain": [
       "[Document(page_content='东邪西毒', metadata={'type': 'H2'}),\n",
       " Document(page_content='都是谁啊？', metadata={'type': 'paragraph'})]"
      ]
     },
     "execution_count": 17,
     "metadata": {},
     "output_type": "execute_result"
    }
   ],
   "source": [
    "IntelliDocuments.parse_markdown(md2)"
   ]
  },
  {
   "cell_type": "code",
   "execution_count": 18,
   "id": "0d9410cb-3a34-448a-a2f6-e4b94102d6bc",
   "metadata": {},
   "outputs": [
    {
     "data": {
      "text/plain": [
       "[Document(page_content='前序', metadata={'type': 'H2'}),\n",
       " Document(page_content='标题1', metadata={'type': 'H1'}),\n",
       " Document(page_content='我的文档。', metadata={'type': 'paragraph'}),\n",
       " Document(page_content='标题2', metadata={'type': 'H2'}),\n",
       " Document(page_content='逍遥老仙，', metadata={'type': 'paragraph'}),\n",
       " Document(page_content='第一个标题2', metadata={'type': 'H2'}),\n",
       " Document(page_content='法力无边。', metadata={'type': 'paragraph'}),\n",
       " Document(page_content='东邪西毒', metadata={'type': 'H2'}),\n",
       " Document(page_content='都是谁啊？', metadata={'type': 'paragraph'}),\n",
       " Document(page_content='标题3', metadata={'type': 'H3'}),\n",
       " Document(page_content='倚天不出，谁与争锋。', metadata={'type': 'paragraph'}),\n",
       " Document(page_content='又一个标题2', metadata={'type': 'H2'}),\n",
       " Document(page_content='华山论剑。', metadata={'type': 'paragraph'})]"
      ]
     },
     "execution_count": 18,
     "metadata": {},
     "output_type": "execute_result"
    }
   ],
   "source": [
    "t.insert_documents(IntelliDocuments.parse_markdown(md2), \"标题3\")"
   ]
  },
  {
   "cell_type": "markdown",
   "id": "3f68d827-ef86-487b-8da6-5e4c2bf2eca0",
   "metadata": {},
   "source": [
    "## replace_documents"
   ]
  },
  {
   "cell_type": "code",
   "execution_count": 19,
   "id": "ed527a37-4243-43b8-804e-46b8c04820e0",
   "metadata": {},
   "outputs": [
    {
     "data": {
      "text/plain": [
       "[Document(page_content='前序', metadata={'type': 'H2'}),\n",
       " Document(page_content='标题1', metadata={'type': 'H1'}),\n",
       " Document(page_content='我的文档。', metadata={'type': 'paragraph'}),\n",
       " Document(page_content='标题2', metadata={'type': 'H2'}),\n",
       " Document(page_content='逍遥老仙，', metadata={'type': 'paragraph'}),\n",
       " Document(page_content='第一个标题2', metadata={'type': 'H2'}),\n",
       " Document(page_content='法力无边。', metadata={'type': 'paragraph'}),\n",
       " Document(page_content='东邪西毒', metadata={'type': 'H2'}),\n",
       " Document(page_content='都是谁啊？', metadata={'type': 'paragraph'}),\n",
       " Document(page_content='东邪西毒', metadata={'type': 'H2'}),\n",
       " Document(page_content='都是谁啊？', metadata={'type': 'paragraph'}),\n",
       " Document(page_content='又一个标题2', metadata={'type': 'H2'}),\n",
       " Document(page_content='华山论剑。', metadata={'type': 'paragraph'})]"
      ]
     },
     "execution_count": 19,
     "metadata": {},
     "output_type": "execute_result"
    }
   ],
   "source": [
    "t.replace_documents(IntelliDocuments.parse_markdown(md2), \"标题3\")"
   ]
  },
  {
   "cell_type": "code",
   "execution_count": 20,
   "id": "14cc9566-9ca0-4554-898c-a897059f11b8",
   "metadata": {},
   "outputs": [
    {
     "data": {
      "text/plain": [
       "(9, None)"
      ]
     },
     "execution_count": 20,
     "metadata": {},
     "output_type": "execute_result"
    }
   ],
   "source": [
    "t = IntelliDocuments(md)\n",
    "t\n",
    "t.get_documents_range(\"又一个标题2\")"
   ]
  },
  {
   "cell_type": "code",
   "execution_count": 21,
   "id": "98f52c08-2128-49c2-a813-ed4c13120015",
   "metadata": {},
   "outputs": [
    {
     "data": {
      "text/plain": [
       "[Document(page_content='前序', metadata={'type': 'H2'}),\n",
       " Document(page_content='标题1', metadata={'type': 'H1'}),\n",
       " Document(page_content='我的文档。', metadata={'type': 'paragraph'}),\n",
       " Document(page_content='标题2', metadata={'type': 'H2'}),\n",
       " Document(page_content='逍遥老仙，', metadata={'type': 'paragraph'}),\n",
       " Document(page_content='第一个标题2', metadata={'type': 'H2'}),\n",
       " Document(page_content='法力无边。', metadata={'type': 'paragraph'}),\n",
       " Document(page_content='标题3', metadata={'type': 'H3'}),\n",
       " Document(page_content='倚天不出，谁与争锋。', metadata={'type': 'paragraph'}),\n",
       " Document(page_content='东邪西毒', metadata={'type': 'H2'}),\n",
       " Document(page_content='都是谁啊？', metadata={'type': 'paragraph'})]"
      ]
     },
     "execution_count": 21,
     "metadata": {},
     "output_type": "execute_result"
    }
   ],
   "source": [
    "t.replace_documents(IntelliDocuments.parse_markdown(md2), \"又一个标题2\")"
   ]
  },
  {
   "cell_type": "markdown",
   "id": "dbef1014-c435-4bc0-8706-b614b38adf3d",
   "metadata": {},
   "source": [
    "## markdown: Code 标记"
   ]
  },
  {
   "cell_type": "code",
   "execution_count": 22,
   "id": "8525c0b1-8e65-4cf5-82f0-6d7462a6449a",
   "metadata": {},
   "outputs": [],
   "source": [
    "md = \"\"\"\n",
    "# 🦜🦜🦜 textlong\n",
    "[![PyPI version](https://img.shields.io/pypi/v/textlong.svg)](https://pypi.org/project/textlong/)\n",
    "\n",
    "**textlong** 的目标是基于大语言模型提供结构化的长文本生成能力。\n",
    "\n",
    "## 一、安装\n",
    "\n",
    "你可以使用 pip 安装：\n",
    "```\n",
    "pip install -U textlong\n",
    "```\n",
    "\n",
    "或者使用 poetry 安装：\n",
    "```\n",
    "poetry add textlong@latest\n",
    "```\n",
    "\n",
    "## 二、结构化长文生成能力\n",
    "\n",
    "`textlong` 中提供如下创作工具：\n",
    "\n",
    "- `WritingTask`：用于生成结构化长文\n",
    "\n",
    "**1. 加载环境变量：**\n",
    "\n",
    "```python\n",
    "from dotenv import load_dotenv, find_dotenv\n",
    "load_dotenv(find_dotenv(), override=True)\n",
    "```\n",
    "\n",
    "**2. 创建`WritingTask`实例：**\n",
    "\n",
    "```python\n",
    "from textlong import WritingTask\n",
    "from langchain_openai import ChatOpenAI\n",
    "\n",
    "task = WritingTask(llm=ChatOpenAI())\n",
    "```\n",
    "\n",
    "**3. 使用`auto_write`方法自动生成一段长文：**\n",
    "\n",
    "```python\n",
    "task.auto_write(\"task 给好基友写一封信, 1800字，分4段就行\")\n",
    "```\n",
    "\n",
    "**4. 使用`repl_write`方法控制台，在人工干预过程中生成一段长文：**\n",
    "\n",
    "```python\n",
    "task.repl_write(\"task 给好基友写一封信, 1800字，分4段就行\")\n",
    "\n",
    "## ...\n",
    "## 接下来，你可以一直输入 ok 指令确认生成的内容，获得与 auto_write 类似的效果\n",
    "```\n",
    "\n",
    "**5. 你可以查看生成的提纲（也可以在repl模式中输入 outlines）：**\n",
    "\n",
    "```python\n",
    "# 查看创作大纲\n",
    "task.invoke(\"outlines\")['reply']\n",
    "```\n",
    "\n",
    "**6. 或者查看文字成果：**\n",
    "\n",
    "```python\n",
    "task.invoke(\"texts\")['reply']\n",
    "```\n",
    "\n",
    "**7. 使用`invoke`方法执行`help`指令，以获得帮助:**\n",
    "\n",
    "```python\n",
    "task.invoke(\"help 我在repl模式中还可以做什么？\")\n",
    "```\n",
    "\n",
    "\"\"\""
   ]
  },
  {
   "cell_type": "code",
   "execution_count": 23,
   "id": "e4960b96-a793-4199-84f4-dc611fb89eef",
   "metadata": {},
   "outputs": [
    {
     "data": {
      "text/plain": [
       "[Document(page_content='🦜🦜🦜 textlong', metadata={'type': 'H1'}),\n",
       " Document(page_content='[![PyPI version](https://img.shields.io/pypi/v/textlong.svg)](https://pypi.org/project/textlong/)\\n\\n**textlong** 的目标是基于大语言模型提供结构化的长文本生成能力。', metadata={'type': 'paragraph'}),\n",
       " Document(page_content='一、安装', metadata={'type': 'H2'}),\n",
       " Document(page_content='你可以使用 pip 安装：\\n```\\npip install -U textlong\\n```\\n\\n或者使用 poetry 安装：\\n```\\npoetry add textlong@latest\\n```', metadata={'type': 'paragraph'}),\n",
       " Document(page_content='二、结构化长文生成能力', metadata={'type': 'H2'}),\n",
       " Document(page_content='`textlong` 中提供如下创作工具：\\n\\n- `WritingTask`：用于生成结构化长文\\n\\n**1. 加载环境变量：**\\n\\n```python\\nfrom dotenv import load_dotenv, find_dotenv\\nload_dotenv(find_dotenv(), override=True)\\n```\\n\\n**2. 创建`WritingTask`实例：**\\n\\n```python\\nfrom textlong import WritingTask\\nfrom langchain_openai import ChatOpenAI\\n\\ntask = WritingTask(llm=ChatOpenAI())\\n```\\n\\n**3. 使用`auto_write`方法自动生成一段长文：**\\n\\n```python\\ntask.auto_write(\"task 给好基友写一封信, 1800字，分4段就行\")\\n```\\n\\n**4. 使用`repl_write`方法控制台，在人工干预过程中生成一段长文：**\\n\\n```python\\ntask.repl_write(\"task 给好基友写一封信, 1800字，分4段就行\")\\n\\n## ...\\n## 接下来，你可以一直输入 ok 指令确认生成的内容，获得与 auto_write 类似的效果\\n```\\n\\n**5. 你可以查看生成的提纲（也可以在repl模式中输入 outlines）：**\\n\\n```python\\n# 查看创作大纲\\ntask.invoke(\"outlines\")[\\'reply\\']\\n```\\n\\n**6. 或者查看文字成果：**\\n\\n```python\\ntask.invoke(\"texts\")[\\'reply\\']\\n```\\n\\n**7. 使用`invoke`方法执行`help`指令，以获得帮助:**\\n\\n```python\\ntask.invoke(\"help 我在repl模式中还可以做什么？\")\\n```', metadata={'type': 'paragraph'})]"
      ]
     },
     "execution_count": 23,
     "metadata": {},
     "output_type": "execute_result"
    }
   ],
   "source": [
    "from textlong.md import IntelliDocuments\n",
    "t = IntelliDocuments(md)\n",
    "t.documents"
   ]
  },
  {
   "cell_type": "code",
   "execution_count": 24,
   "id": "ccc29fe6-03df-4c27-96c2-9a7782ae13e1",
   "metadata": {},
   "outputs": [
    {
     "name": "stdout",
     "output_type": "stream",
     "text": [
      "\n",
      "# 🦜🦜🦜 textlong\n",
      "\n",
      "[![PyPI version](https://img.shields.io/pypi/v/textlong.svg)](https://pypi.org/project/textlong/)\n",
      "\n",
      "**textlong** 的目标是基于大语言模型提供结构化的长文本生成能力。\n",
      "\n",
      "## 一、安装\n",
      "\n",
      "你可以使用 pip 安装：\n",
      "```\n",
      "pip install -U textlong\n",
      "```\n",
      "\n",
      "或者使用 poetry 安装：\n",
      "```\n",
      "poetry add textlong@latest\n",
      "```\n",
      "\n",
      "## 二、结构化长文生成能力\n",
      "\n",
      "`textlong` 中提供如下创作工具：\n",
      "\n",
      "- `WritingTask`：用于生成结构化长文\n",
      "\n",
      "**1. 加载环境变量：**\n",
      "\n",
      "```python\n",
      "from dotenv import load_dotenv, find_dotenv\n",
      "load_dotenv(find_dotenv(), override=True)\n",
      "```\n",
      "\n",
      "**2. 创建`WritingTask`实例：**\n",
      "\n",
      "```python\n",
      "from textlong import WritingTask\n",
      "from langchain_openai import ChatOpenAI\n",
      "\n",
      "task = WritingTask(llm=ChatOpenAI())\n",
      "```\n",
      "\n",
      "**3. 使用`auto_write`方法自动生成一段长文：**\n",
      "\n",
      "```python\n",
      "task.auto_write(\"task 给好基友写一封信, 1800字，分4段就行\")\n",
      "```\n",
      "\n",
      "**4. 使用`repl_write`方法控制台，在人工干预过程中生成一段长文：**\n",
      "\n",
      "```python\n",
      "task.repl_write(\"task 给好基友写一封信, 1800字，分4段就行\")\n",
      "\n",
      "## ...\n",
      "## 接下来，你可以一直输入 ok 指令确认生成的内容，获得与 auto_write 类似的效果\n",
      "```\n",
      "\n",
      "**5. 你可以查看生成的提纲（也可以在repl模式中输入 outlines）：**\n",
      "\n",
      "```python\n",
      "# 查看创作大纲\n",
      "task.invoke(\"outlines\")['reply']\n",
      "```\n",
      "\n",
      "**6. 或者查看文字成果：**\n",
      "\n",
      "```python\n",
      "task.invoke(\"texts\")['reply']\n",
      "```\n",
      "\n",
      "**7. 使用`invoke`方法执行`help`指令，以获得帮助:**\n",
      "\n",
      "```python\n",
      "task.invoke(\"help 我在repl模式中还可以做什么？\")\n",
      "```\n",
      "\n"
     ]
    }
   ],
   "source": [
    "print(t.get_markdown(t.get_documents()))"
   ]
  },
  {
   "cell_type": "markdown",
   "id": "86562af4-92c1-482e-965d-7d8f50fe7aa5",
   "metadata": {},
   "source": [
    "## markdown: 带编号"
   ]
  },
  {
   "cell_type": "code",
   "execution_count": 25,
   "id": "ba343052-c32d-42ee-9d42-5adc0fe7a3dc",
   "metadata": {},
   "outputs": [
    {
     "name": "stdout",
     "output_type": "stream",
     "text": [
      "[Document(page_content='1.2 标题2', metadata={'type': 'H2'}), Document(page_content='法力无边。', metadata={'type': 'paragraph'}), Document(page_content='1.2.1 标题3', metadata={'type': 'H3'}), Document(page_content='倚天不出。', metadata={'type': 'paragraph'}), Document(page_content='1.2.2 标题3', metadata={'type': 'H3'}), Document(page_content='谁与争锋。', metadata={'type': 'paragraph'})]\n"
     ]
    }
   ],
   "source": [
    "md = \"\"\"\n",
    "# 1 标题1\n",
    "我的文档。\n",
    "\n",
    "## 1.1 标题2\n",
    "\n",
    "逍遥老仙，\n",
    "\n",
    "## 1.2 标题2\n",
    "\n",
    "法力无边。\n",
    "\n",
    "### 1.2.1 标题3 \n",
    "\n",
    "倚天不出。\n",
    "\n",
    "### 1.2.2 标题3 \n",
    "\n",
    "谁与争锋。\n",
    "\n",
    "## 1.3 又一个标题2\n",
    "\n",
    "华山论剑。\n",
    "## 1.4 再一个标题2\n",
    "\n",
    "华山论剑。\n",
    "\"\"\"\n",
    "\n",
    "from textlong.md import IntelliDocuments\n",
    "t = IntelliDocuments(md)\n",
    "t.documents\n",
    "\n",
    "print(t.get_documents(\"1.2\"))"
   ]
  },
  {
   "cell_type": "markdown",
   "id": "a61a93f1-b8ae-44f9-b0a9-e61d228cf18c",
   "metadata": {},
   "source": [
    "## get_leaf_outline"
   ]
  },
  {
   "cell_type": "code",
   "execution_count": 26,
   "id": "557bc49e-de21-4716-8ae0-453fb86fa31a",
   "metadata": {},
   "outputs": [
    {
     "data": {
      "text/plain": [
       "[Document(page_content='1.1 标题2', metadata={'type': 'H2'}),\n",
       " Document(page_content='1.2.1 标题3', metadata={'type': 'H3'}),\n",
       " Document(page_content='1.2.2 标题3', metadata={'type': 'H3'}),\n",
       " Document(page_content='1.3 又一个标题2', metadata={'type': 'H2'}),\n",
       " Document(page_content='1.4 再一个标题2', metadata={'type': 'H2'})]"
      ]
     },
     "execution_count": 26,
     "metadata": {},
     "output_type": "execute_result"
    }
   ],
   "source": [
    "t.get_leaf_outline()"
   ]
  },
  {
   "cell_type": "markdown",
   "id": "cf92555c-0e42-40de-b942-1e964502cbb9",
   "metadata": {},
   "source": [
    "## get_branch_outline"
   ]
  },
  {
   "cell_type": "code",
   "execution_count": 27,
   "id": "89cd2827-49e0-4184-ac1c-51c048d3e766",
   "metadata": {},
   "outputs": [
    {
     "data": {
      "text/plain": [
       "[Document(page_content='1.1 标题2', metadata={'type': 'H2'}),\n",
       " Document(page_content='1.2 标题2', metadata={'type': 'H2'}),\n",
       " Document(page_content='1.3 又一个标题2', metadata={'type': 'H2'}),\n",
       " Document(page_content='1.4 再一个标题2', metadata={'type': 'H2'})]"
      ]
     },
     "execution_count": 27,
     "metadata": {},
     "output_type": "execute_result"
    }
   ],
   "source": [
    "t.get_branch_outline(\"H2\")"
   ]
  },
  {
   "cell_type": "markdown",
   "id": "3d336d47-2bcb-466b-b85e-8148f0f6b923",
   "metadata": {},
   "source": [
    "## get_relevant_documents"
   ]
  },
  {
   "cell_type": "code",
   "execution_count": 28,
   "id": "c7cf7dbb-791a-4e79-acaf-a7ad8c1e8b8d",
   "metadata": {},
   "outputs": [
    {
     "data": {
      "text/plain": [
       "[Document(page_content='1 标题1', metadata={'type': 'H1'}),\n",
       " Document(page_content='我的文档。', metadata={'type': 'paragraph'}),\n",
       " Document(page_content='1.2 标题2', metadata={'type': 'H2'}),\n",
       " Document(page_content='法力无边。', metadata={'type': 'paragraph'}),\n",
       " Document(page_content='1.2.1 标题3', metadata={'type': 'H3'}),\n",
       " Document(page_content='倚天不出。', metadata={'type': 'paragraph'})]"
      ]
     },
     "execution_count": 28,
     "metadata": {},
     "output_type": "execute_result"
    }
   ],
   "source": [
    "t.get_relevant_documents(\"1.2.1\")"
   ]
  },
  {
   "cell_type": "markdown",
   "id": "04035fa1-d09f-41b2-8bef-657375bb165e",
   "metadata": {},
   "source": [
    "## get_prev_documents"
   ]
  },
  {
   "cell_type": "code",
   "execution_count": 29,
   "id": "755f485d-a290-4186-84ea-2d8e057bd831",
   "metadata": {},
   "outputs": [
    {
     "data": {
      "text/plain": [
       "[Document(page_content='1 标题1', metadata={'type': 'H1'}),\n",
       " Document(page_content='我的文档。', metadata={'type': 'paragraph'}),\n",
       " Document(page_content='1.1 标题2', metadata={'type': 'H2'}),\n",
       " Document(page_content='逍遥老仙，', metadata={'type': 'paragraph'}),\n",
       " Document(page_content='1.2 标题2', metadata={'type': 'H2'}),\n",
       " Document(page_content='法力无边。', metadata={'type': 'paragraph'})]"
      ]
     },
     "execution_count": 29,
     "metadata": {},
     "output_type": "execute_result"
    }
   ],
   "source": [
    "t.get_prev_documents(\"1.2.1\")"
   ]
  },
  {
   "cell_type": "code",
   "execution_count": 30,
   "id": "daa68f7a-d30c-4951-bda9-5bda9f9c4bec",
   "metadata": {},
   "outputs": [
    {
     "data": {
      "text/plain": [
       "[Document(page_content='1 标题1', metadata={'type': 'H1', 'id': '2.4'}),\n",
       " Document(page_content='我的文档。', metadata={'type': 'paragraph', 'id': '2.4.0'}),\n",
       " Document(page_content='1.1 标题2', metadata={'type': 'H2', 'id': '2.4.1'}),\n",
       " Document(page_content='逍遥老仙，', metadata={'type': 'paragraph', 'id': '2.4.1.0'}),\n",
       " Document(page_content='1.2 标题2', metadata={'type': 'H2', 'id': '2.4.2'}),\n",
       " Document(page_content='法力无边。', metadata={'type': 'paragraph', 'id': '2.4.2.0'}),\n",
       " Document(page_content='1.2.1 标题3', metadata={'type': 'H3', 'id': '2.4.2.1'}),\n",
       " Document(page_content='倚天不出。', metadata={'type': 'paragraph', 'id': '2.4.2.1.0'}),\n",
       " Document(page_content='1.2.2 标题3', metadata={'type': 'H3', 'id': '2.4.2.2'}),\n",
       " Document(page_content='谁与争锋。', metadata={'type': 'paragraph', 'id': '2.4.2.2.0'}),\n",
       " Document(page_content='1.3 又一个标题2', metadata={'type': 'H2', 'id': '2.4.3'}),\n",
       " Document(page_content='华山论剑。', metadata={'type': 'paragraph', 'id': '2.4.3.0'}),\n",
       " Document(page_content='1.4 再一个标题2', metadata={'type': 'H2', 'id': '2.4.4'}),\n",
       " Document(page_content='华山论剑。', metadata={'type': 'paragraph', 'id': '2.4.4.0'})]"
      ]
     },
     "execution_count": 30,
     "metadata": {},
     "output_type": "execute_result"
    }
   ],
   "source": [
    "t.build_index(t.documents, start_id=\"2.4\")"
   ]
  },
  {
   "cell_type": "code",
   "execution_count": null,
   "id": "9c861412-af44-42d0-b2b1-8338cc18fd88",
   "metadata": {},
   "outputs": [],
   "source": []
  }
 ],
 "metadata": {
  "kernelspec": {
   "display_name": "langchani-book-py3.10-ipykernel",
   "language": "python",
   "name": "langchani-book-py3.10-ipykernel"
  },
  "language_info": {
   "codemirror_mode": {
    "name": "ipython",
    "version": 3
   },
   "file_extension": ".py",
   "mimetype": "text/x-python",
   "name": "python",
   "nbconvert_exporter": "python",
   "pygments_lexer": "ipython3",
   "version": "3.10.0"
  }
 },
 "nbformat": 4,
 "nbformat_minor": 5
}
