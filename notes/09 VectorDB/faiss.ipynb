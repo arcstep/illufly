{
 "cells": [
  {
   "cell_type": "markdown",
   "id": "43eea709-b5dc-45ed-a535-640106d5421b",
   "metadata": {},
   "source": [
    "## 构造 FaissDB"
   ]
  },
  {
   "cell_type": "markdown",
   "id": "fb38a60d-470d-4e43-b734-7e0ac0ffd9f7",
   "metadata": {},
   "source": [
    "### 从 Embeddings 构建文档"
   ]
  },
  {
   "cell_type": "code",
   "execution_count": 4,
   "id": "25f572b8-829c-48de-87a9-d643b6561bca",
   "metadata": {
    "scrolled": true
   },
   "outputs": [
    {
     "data": {
      "text/plain": [
       "[Document(text=\"**Question:**<br>如何在家里制作美味的比萨？<br><br>**Answer:**<br>首先准备面团，然后加入番茄酱，放上你喜欢的配料，最后撒上奶酪，放入预热至200度的烤箱中烤约15分钟即可。\", meta=['tag', 'id', 'source']),\n",
       " Document(text=\"**Question:**<br>有没有简单的方法在家做比萨？<br><br>**Answer:**<br>可以买现成的比萨饼底，加上自己喜欢的食材，放入烤箱烤制即可。\", meta=['raw_meta', 'id', 'source']),\n",
       " Document(text=\"**Question:**<br>自己动手做比萨需要注意哪些步骤？<br><br>**Answer:**<br>注意面团发酵时间，酱料的选择，配料的新鲜程度以及烘烤温度和时间。\", meta=['tag', 'id', 'source']),\n",
       " Document(text=\"**Question:**<br>在家中怎样才能做出餐厅级别的比萨？<br><br>**Answer:**<br>选用高质量的原材料，掌握正确的烘焙技巧，尝试不同的配料组合。\", meta=['tag', 'id', 'source']),\n",
       " Document(text=\"**Question:**<br>想在家里给家人做一顿特别的晚餐，有什么推荐？<br><br>**Answer:**<br>自制比萨是个不错的选择，可以根据家人的口味定制各种风味。\", meta=['tag', 'id', 'source']),\n",
       " Document(text=\"**Question:**<br>如何训练一只小狗成为导盲犬？<br><br>**Answer:**<br>从小狗三个月大时开始基础训练，之后进行专业技能训练，通过测试后与视障者配合训练。\", meta=['tag', 'id', 'source']),\n",
       " Document(text=\"**Question:**<br>怎样才能提高自己的编程能力？<br><br>**Answer:**<br>多练习，参与开源项目，阅读优秀的代码，不断学习新的技术和框架。\", meta=['tag', 'id', 'source']),\n",
       " Document(text=\"**Question:**<br>为什么我的盆栽植物总是长不好？<br><br>**Answer:**<br>可能是浇水过多或过少，光照不足，或者土壤不适合植物生长，需要调整养护方法。\", meta=['tag', 'id', 'source']),\n",
       " Document(text=\"**Question:**<br>如何挑选一双适合跑步的运动鞋？<br><br>**Answer:**<br>要选择适合自己脚型的鞋子，注意鞋子的缓震性和透气性，最好在下午试穿以确保大小合适。\", meta=['tag', 'id', 'source']),\n",
       " Document(text=\"**Question:**<br>怎样才能有效地减肥？<br><br>**Answer:**<br>制定合理的饮食计划，增加日常活动量，保证充足的睡眠，必要时可以寻求专业人士的帮助。<br><br>@meta\", meta=['tag', 'id', 'source']),\n",
       " Document(text=\"# illufly 设计理念介绍<br><br>- [开箱即用的原则](#开箱即用的原则)<br>- [减少新概念的原则](#减少新概念的原则)<br>- [原厂优先的原则](#原厂优先的原则)<br>- [围绕智能体对象的原则]...\", meta=['source', 'id']),\n",
       " Document(text=\"一般的开发框架们为了开发者使用，会提供自己的类定义，例如用下面的代码来替代：<br><br>```python<br>[<br>    SystemMessage('你是一个AI助手'),<br>    UserMessage('...\", meta=['source', 'id']),\n",
       " Document(text=\"现在，要求你准确记住这些类的名字以及该从哪里引用，就开始慢慢形成挑战了。<br><br>...<br><br>类似的事情会在很多地方发生。<br><br>你的初衷是，通过这些新类的定义来简化工作，但是现在不得不记住很多新东西。<br><br>###...\", meta=['source', 'id']),\n",
       " Document(text=\"'role': 'user',<br>        'content': '你好'<br>    },<br>    {<br>        'role': 'assistant',<br>        'content':...\", meta=['source', 'id']),\n",
       " Document(text=\"# 常见的智能体推理模式和 illufly 的实现<br><br>## 常见推理模式<br><br>ReAct模式是最早出现的Agent设计模式，目前也是应用最广泛的。从ReAct出发，有两条发展路线：一条更偏重Agent的...\", meta=['source', 'id']),\n",
       " Document(text=\"REWOO的全称是Reason without Observation，旨在通过以下方式改进ReACT风格的Agent架构：<br><br>- 生成一次性使用的完整工具链，减少token消耗和执行时间。<br>- 简化...\", meta=['source', 'id']),\n",
       " Document(text=\"- 重规划器Replanner：根据执行情况和反馈调整计划。<br><br>Plan-and-Execute的优点是具备明确的长期规划，降低执行成本。局限性在于任务按顺序执行，可能导致总执行时间增加。改进办法是将...\", meta=['source', 'id']),\n",
       " Document(text=\"Self-Discover由Google研究人员提出，允许大型语言模型在没有明确标签情况下，自主选择并组合原子推理模块，生成推理结构。包含两个阶段：<br><br>- 自发现特定任务的推理结构：选择、适应和实施。...\", meta=['source', 'id']),\n",
       " Document(text=\"- **自我迭代的改进**：自动收集智能体的反思能力和规划能力的评测依据和微调依据，确保智能体可以不断优化和提升。<br>- **安全性和隐私保护**：内置多层次安全机制，确保用户数据安全和隐私保护。\", meta=['source', 'id'])]"
      ]
     },
     "execution_count": 4,
     "metadata": {},
     "output_type": "execute_result"
    }
   ],
   "source": [
    "from illufly.types import MarkMeta\n",
    "from illufly.rag import FaissDB, TextEmbeddings\n",
    "\n",
    "# 导入文档\n",
    "local = MarkMeta(chunk_size=550)\n",
    "local.load_dir()"
   ]
  },
  {
   "cell_type": "code",
   "execution_count": 5,
   "id": "204e9d35-6963-4870-9e5e-f64e077a1a91",
   "metadata": {
    "scrolled": true
   },
   "outputs": [
    {
     "name": "stdout",
     "output_type": "stream",
     "text": [
      "[INFO] \u001b[34m文本向量转换 395 字 / 5 个文件\u001b[0m\n",
      "[INFO] \u001b[34mwrote embedding cache /var/folders/f5/rlf27f4n6wzc_k4x7y4vzm5h0000gn/T/__ILLUFLY__/CACHE_EMBEDDINGS/TextEmbeddings/text-embedding-v3/001_md/71141545f40cfd4c0db357ddfbbcab1f.emb **Question:**\n",
      "如何在家里制作美味的比萨？\n",
      "\n",
      "**Answer:**\n",
      "首先准备面团，然后...\u001b[0m\n",
      "[INFO] \u001b[34mwrote embedding cache /var/folders/f5/rlf27f4n6wzc_k4x7y4vzm5h0000gn/T/__ILLUFLY__/CACHE_EMBEDDINGS/TextEmbeddings/text-embedding-v3/_DOCS_001_md/20d27c595671dcbb9916d9a05cd5d138.emb **Question:**\n",
      "有没有简单的方法在家做比萨？\n",
      "\n",
      "**Answer:**\n",
      "可以买现成的比萨...\u001b[0m\n",
      "[INFO] \u001b[34mwrote embedding cache /var/folders/f5/rlf27f4n6wzc_k4x7y4vzm5h0000gn/T/__ILLUFLY__/CACHE_EMBEDDINGS/TextEmbeddings/text-embedding-v3/001_md/22a4010724584e02a7c03230f1474a1c.emb **Question:**\n",
      "自己动手做比萨需要注意哪些步骤？\n",
      "\n",
      "**Answer:**\n",
      "注意面团发酵...\u001b[0m\n",
      "[INFO] \u001b[34mwrote embedding cache /var/folders/f5/rlf27f4n6wzc_k4x7y4vzm5h0000gn/T/__ILLUFLY__/CACHE_EMBEDDINGS/TextEmbeddings/text-embedding-v3/001_md/410b898d93cffda074f8c9a77341e80b.emb **Question:**\n",
      "在家中怎样才能做出餐厅级别的比萨？\n",
      "\n",
      "**Answer:**\n",
      "选用高质量...\u001b[0m\n",
      "[INFO] \u001b[34mwrote embedding cache /var/folders/f5/rlf27f4n6wzc_k4x7y4vzm5h0000gn/T/__ILLUFLY__/CACHE_EMBEDDINGS/TextEmbeddings/text-embedding-v3/001_md/94247093c2093467c650426841797226.emb **Question:**\n",
      "想在家里给家人做一顿特别的晚餐，有什么推荐？\n",
      "\n",
      "**Answer:**\n",
      "...\u001b[0m\n",
      "[INFO] \u001b[34m文本向量转换 405 字 / 5 个文件\u001b[0m\n",
      "[INFO] \u001b[34mwrote embedding cache /var/folders/f5/rlf27f4n6wzc_k4x7y4vzm5h0000gn/T/__ILLUFLY__/CACHE_EMBEDDINGS/TextEmbeddings/text-embedding-v3/001_md/b9ecb5ede1b9beeff7d9432877138fb7.emb **Question:**\n",
      "如何训练一只小狗成为导盲犬？\n",
      "\n",
      "**Answer:**\n",
      "从小狗三个月大时...\u001b[0m\n",
      "[INFO] \u001b[34mwrote embedding cache /var/folders/f5/rlf27f4n6wzc_k4x7y4vzm5h0000gn/T/__ILLUFLY__/CACHE_EMBEDDINGS/TextEmbeddings/text-embedding-v3/001_md/44914ac0f873c3ae29cfff0e91263bd7.emb **Question:**\n",
      "怎样才能提高自己的编程能力？\n",
      "\n",
      "**Answer:**\n",
      "多练习，参与开源...\u001b[0m\n",
      "[INFO] \u001b[34mwrote embedding cache /var/folders/f5/rlf27f4n6wzc_k4x7y4vzm5h0000gn/T/__ILLUFLY__/CACHE_EMBEDDINGS/TextEmbeddings/text-embedding-v3/001_md/b6b93f1ba784b9bea52f73804461f5e2.emb **Question:**\n",
      "为什么我的盆栽植物总是长不好？\n",
      "\n",
      "**Answer:**\n",
      "可能是浇水过多...\u001b[0m\n",
      "[INFO] \u001b[34mwrote embedding cache /var/folders/f5/rlf27f4n6wzc_k4x7y4vzm5h0000gn/T/__ILLUFLY__/CACHE_EMBEDDINGS/TextEmbeddings/text-embedding-v3/001_md/4e0f12ba05b187a268fe15b65491d40c.emb **Question:**\n",
      "如何挑选一双适合跑步的运动鞋？\n",
      "\n",
      "**Answer:**\n",
      "要选择适合自己...\u001b[0m\n",
      "[INFO] \u001b[34mwrote embedding cache /var/folders/f5/rlf27f4n6wzc_k4x7y4vzm5h0000gn/T/__ILLUFLY__/CACHE_EMBEDDINGS/TextEmbeddings/text-embedding-v3/001_md/1bf536151e6c97e05092daba922a8601.emb **Question:**\n",
      "怎样才能有效地减肥？\n",
      "\n",
      "**Answer:**\n",
      "制定合理的饮食计划，增加...\u001b[0m\n",
      "[INFO] \u001b[34m文本向量转换 4078 字 / 5 个文件\u001b[0m\n",
      "[INFO] \u001b[34mwrote embedding cache /var/folders/f5/rlf27f4n6wzc_k4x7y4vzm5h0000gn/T/__ILLUFLY__/CACHE_EMBEDDINGS/TextEmbeddings/text-embedding-v3/_DOCS_设计理念_md_0/01a7d98a7c51563dd187eee201a614c3.emb # illufly 设计理念介绍\n",
      "\n",
      "- [开箱即用的原则](#开箱即用的原则)\n",
      "- [减少新概念的原...\u001b[0m\n",
      "[INFO] \u001b[34mwrote embedding cache /var/folders/f5/rlf27f4n6wzc_k4x7y4vzm5h0000gn/T/__ILLUFLY__/CACHE_EMBEDDINGS/TextEmbeddings/text-embedding-v3/_DOCS_设计理念_md_0/b5feb576100954e0570036c2c98784d3.emb 一般的开发框架们为了开发者使用，会提供自己的类定义，例如用下面的代码来替代：\n",
      "\n",
      "```python\n",
      "...\u001b[0m\n",
      "[INFO] \u001b[34mwrote embedding cache /var/folders/f5/rlf27f4n6wzc_k4x7y4vzm5h0000gn/T/__ILLUFLY__/CACHE_EMBEDDINGS/TextEmbeddings/text-embedding-v3/_DOCS_设计理念_md_0/6151403ef1ca270ef2f0e2e26273df1b.emb 现在，要求你准确记住这些类的名字以及该从哪里引用，就开始慢慢形成挑战了。\n",
      "\n",
      "...\n",
      "\n",
      "类似的事情会在...\u001b[0m\n",
      "[INFO] \u001b[34mwrote embedding cache /var/folders/f5/rlf27f4n6wzc_k4x7y4vzm5h0000gn/T/__ILLUFLY__/CACHE_EMBEDDINGS/TextEmbeddings/text-embedding-v3/_DOCS_设计理念_md_0/67b22a4b9c47e9ddfa6ccb5f0b947dc3.emb         'role': 'user',\n",
      "        'content': '你好'\n",
      "  ...\u001b[0m\n",
      "[INFO] \u001b[34mwrote embedding cache /var/folders/f5/rlf27f4n6wzc_k4x7y4vzm5h0000gn/T/__ILLUFLY__/CACHE_EMBEDDINGS/TextEmbeddings/text-embedding-v3/_DOCS_推理模式_md_0/520b178b2a1b358b02b403b57124e734.emb # 常见的智能体推理模式和 illufly 的实现\n",
      "\n",
      "## 常见推理模式\n",
      "\n",
      "ReAct模式是最早出现...\u001b[0m\n",
      "[INFO] \u001b[34m文本向量转换 2051 字 / 4 个文件\u001b[0m\n",
      "[INFO] \u001b[34mwrote embedding cache /var/folders/f5/rlf27f4n6wzc_k4x7y4vzm5h0000gn/T/__ILLUFLY__/CACHE_EMBEDDINGS/TextEmbeddings/text-embedding-v3/_DOCS_推理模式_md_0/13be09aa79010d078b69009118f2c6ca.emb REWOO的全称是Reason without Observation，旨在通过以下方式改进ReAC...\u001b[0m\n",
      "[INFO] \u001b[34mwrote embedding cache /var/folders/f5/rlf27f4n6wzc_k4x7y4vzm5h0000gn/T/__ILLUFLY__/CACHE_EMBEDDINGS/TextEmbeddings/text-embedding-v3/_DOCS_推理模式_md_0/6f1c5f78eb47c5922be482dbb5fdda52.emb - 重规划器Replanner：根据执行情况和反馈调整计划。\n",
      "\n",
      "Plan-and-Execute的优...\u001b[0m\n",
      "[INFO] \u001b[34mwrote embedding cache /var/folders/f5/rlf27f4n6wzc_k4x7y4vzm5h0000gn/T/__ILLUFLY__/CACHE_EMBEDDINGS/TextEmbeddings/text-embedding-v3/_DOCS_推理模式_md_0/4504b4ba12f75f47f01153662fd16aba.emb Self-Discover由Google研究人员提出，允许大型语言模型在没有明确标签情况下，自主选择...\u001b[0m\n",
      "[INFO] \u001b[34mwrote embedding cache /var/folders/f5/rlf27f4n6wzc_k4x7y4vzm5h0000gn/T/__ILLUFLY__/CACHE_EMBEDDINGS/TextEmbeddings/text-embedding-v3/_DOCS_推理模式_md_0/4dd1fa9f4e9cb19f325b075ce45a1142.emb - **自我迭代的改进**：自动收集智能体的反思能力和规划能力的评测依据和微调依据，确保智能体可以不...\u001b[0m\n"
     ]
    },
    {
     "data": {
      "text/plain": [
       "[Document(text=\"**Question:**<br>如何在家里制作美味的比萨？<br><br>**Answer:**<br>首先准备面团，然后加入番茄酱，放上你喜欢的配料，最后撒上奶酪，放入预热至200度的烤箱中烤约15分钟即可。\", meta=['tag', 'id', 'source', 'embeddings']),\n",
       " Document(text=\"**Question:**<br>有没有简单的方法在家做比萨？<br><br>**Answer:**<br>可以买现成的比萨饼底，加上自己喜欢的食材，放入烤箱烤制即可。\", meta=['raw_meta', 'id', 'source', 'embeddings']),\n",
       " Document(text=\"**Question:**<br>自己动手做比萨需要注意哪些步骤？<br><br>**Answer:**<br>注意面团发酵时间，酱料的选择，配料的新鲜程度以及烘烤温度和时间。\", meta=['tag', 'id', 'source', 'embeddings']),\n",
       " Document(text=\"**Question:**<br>在家中怎样才能做出餐厅级别的比萨？<br><br>**Answer:**<br>选用高质量的原材料，掌握正确的烘焙技巧，尝试不同的配料组合。\", meta=['tag', 'id', 'source', 'embeddings']),\n",
       " Document(text=\"**Question:**<br>想在家里给家人做一顿特别的晚餐，有什么推荐？<br><br>**Answer:**<br>自制比萨是个不错的选择，可以根据家人的口味定制各种风味。\", meta=['tag', 'id', 'source', 'embeddings']),\n",
       " Document(text=\"**Question:**<br>如何训练一只小狗成为导盲犬？<br><br>**Answer:**<br>从小狗三个月大时开始基础训练，之后进行专业技能训练，通过测试后与视障者配合训练。\", meta=['tag', 'id', 'source', 'embeddings']),\n",
       " Document(text=\"**Question:**<br>怎样才能提高自己的编程能力？<br><br>**Answer:**<br>多练习，参与开源项目，阅读优秀的代码，不断学习新的技术和框架。\", meta=['tag', 'id', 'source', 'embeddings']),\n",
       " Document(text=\"**Question:**<br>为什么我的盆栽植物总是长不好？<br><br>**Answer:**<br>可能是浇水过多或过少，光照不足，或者土壤不适合植物生长，需要调整养护方法。\", meta=['tag', 'id', 'source', 'embeddings']),\n",
       " Document(text=\"**Question:**<br>如何挑选一双适合跑步的运动鞋？<br><br>**Answer:**<br>要选择适合自己脚型的鞋子，注意鞋子的缓震性和透气性，最好在下午试穿以确保大小合适。\", meta=['tag', 'id', 'source', 'embeddings']),\n",
       " Document(text=\"**Question:**<br>怎样才能有效地减肥？<br><br>**Answer:**<br>制定合理的饮食计划，增加日常活动量，保证充足的睡眠，必要时可以寻求专业人士的帮助。<br><br>@meta\", meta=['tag', 'id', 'source', 'embeddings']),\n",
       " Document(text=\"# illufly 设计理念介绍<br><br>- [开箱即用的原则](#开箱即用的原则)<br>- [减少新概念的原则](#减少新概念的原则)<br>- [原厂优先的原则](#原厂优先的原则)<br>- [围绕智能体对象的原则]...\", meta=['source', 'id', 'embeddings']),\n",
       " Document(text=\"一般的开发框架们为了开发者使用，会提供自己的类定义，例如用下面的代码来替代：<br><br>```python<br>[<br>    SystemMessage('你是一个AI助手'),<br>    UserMessage('...\", meta=['source', 'id', 'embeddings']),\n",
       " Document(text=\"现在，要求你准确记住这些类的名字以及该从哪里引用，就开始慢慢形成挑战了。<br><br>...<br><br>类似的事情会在很多地方发生。<br><br>你的初衷是，通过这些新类的定义来简化工作，但是现在不得不记住很多新东西。<br><br>###...\", meta=['source', 'id', 'embeddings']),\n",
       " Document(text=\"'role': 'user',<br>        'content': '你好'<br>    },<br>    {<br>        'role': 'assistant',<br>        'content':...\", meta=['source', 'id', 'embeddings']),\n",
       " Document(text=\"# 常见的智能体推理模式和 illufly 的实现<br><br>## 常见推理模式<br><br>ReAct模式是最早出现的Agent设计模式，目前也是应用最广泛的。从ReAct出发，有两条发展路线：一条更偏重Agent的...\", meta=['source', 'id', 'embeddings']),\n",
       " Document(text=\"REWOO的全称是Reason without Observation，旨在通过以下方式改进ReACT风格的Agent架构：<br><br>- 生成一次性使用的完整工具链，减少token消耗和执行时间。<br>- 简化...\", meta=['source', 'id', 'embeddings']),\n",
       " Document(text=\"- 重规划器Replanner：根据执行情况和反馈调整计划。<br><br>Plan-and-Execute的优点是具备明确的长期规划，降低执行成本。局限性在于任务按顺序执行，可能导致总执行时间增加。改进办法是将...\", meta=['source', 'id', 'embeddings']),\n",
       " Document(text=\"Self-Discover由Google研究人员提出，允许大型语言模型在没有明确标签情况下，自主选择并组合原子推理模块，生成推理结构。包含两个阶段：<br><br>- 自发现特定任务的推理结构：选择、适应和实施。...\", meta=['source', 'id', 'embeddings']),\n",
       " Document(text=\"- **自我迭代的改进**：自动收集智能体的反思能力和规划能力的评测依据和微调依据，确保智能体可以不断优化和提升。<br>- **安全性和隐私保护**：内置多层次安全机制，确保用户数据安全和隐私保护。\", meta=['source', 'id', 'embeddings'])]"
      ]
     },
     "execution_count": 5,
     "metadata": {},
     "output_type": "execute_result"
    }
   ],
   "source": [
    "# 文档嵌入\n",
    "emb = TextEmbeddings()\n",
    "emb(local.documents, verbose=True)"
   ]
  },
  {
   "cell_type": "code",
   "execution_count": 8,
   "id": "bbf6f04f-cdcc-44e2-8745-a0ba728824a4",
   "metadata": {},
   "outputs": [
    {
     "name": "stdout",
     "output_type": "stream",
     "text": [
      "[INFO] \u001b[34m查询到5条结果\u001b[0m\n"
     ]
    },
    {
     "data": {
      "text/plain": [
       "[Document(text=\"**Question:**<br>如何在家里制作美味的比萨？<br><br>**Answer:**<br>首先准备面团，然后加入番茄酱，放上你喜欢的配料，最后撒上奶酪，放入预热至200度的烤箱中烤约15分钟即可。\", meta=['tag', 'id', 'source', 'embeddings', 'distance']),\n",
       " Document(text=\"**Question:**<br>有没有简单的方法在家做比萨？<br><br>**Answer:**<br>可以买现成的比萨饼底，加上自己喜欢的食材，放入烤箱烤制即可。\", meta=['raw_meta', 'id', 'source', 'embeddings', 'distance']),\n",
       " Document(text=\"**Question:**<br>自己动手做比萨需要注意哪些步骤？<br><br>**Answer:**<br>注意面团发酵时间，酱料的选择，配料的新鲜程度以及烘烤温度和时间。\", meta=['tag', 'id', 'source', 'embeddings', 'distance']),\n",
       " Document(text=\"**Question:**<br>在家中怎样才能做出餐厅级别的比萨？<br><br>**Answer:**<br>选用高质量的原材料，掌握正确的烘焙技巧，尝试不同的配料组合。\", meta=['tag', 'id', 'source', 'embeddings', 'distance']),\n",
       " Document(text=\"**Question:**<br>想在家里给家人做一顿特别的晚餐，有什么推荐？<br><br>**Answer:**<br>自制比萨是个不错的选择，可以根据家人的口味定制各种风味。\", meta=['tag', 'id', 'source', 'embeddings', 'distance'])]"
      ]
     },
     "execution_count": 8,
     "metadata": {},
     "output_type": "execute_result"
    }
   ],
   "source": [
    "# 文档入库\n",
    "faiss = FaissDB(embeddings=emb, train=False)\n",
    "\n",
    "# 查询\n",
    "faiss(\"怎么做披萨？\", verbose=True)"
   ]
  },
  {
   "cell_type": "markdown",
   "id": "14096530-3bc0-4b96-8759-b6d896c41174",
   "metadata": {},
   "source": [
    "### 从 VectorDB 添加文本"
   ]
  },
  {
   "cell_type": "code",
   "execution_count": 5,
   "id": "8948fe10-feed-47d5-86cc-91f9535aba9e",
   "metadata": {},
   "outputs": [
    {
     "name": "stdout",
     "output_type": "stream",
     "text": [
      "[INFO] \u001b[34m查询到2条结果\u001b[0m\n"
     ]
    },
    {
     "data": {
      "text/plain": [
       "[Document(text=\"普鸿是一家做数字消防业务的公司\", meta=['raw_meta', 'id', 'source', 'embeddings', 'distance']),\n",
       " Document(text=\"幻蝶是一家AI技术公司\", meta=['raw_meta', 'id', 'source', 'embeddings', 'distance'])]"
      ]
     },
     "execution_count": 5,
     "metadata": {},
     "output_type": "execute_result"
    }
   ],
   "source": [
    "from illufly.embeddings import TextEmbeddings\n",
    "from illufly.rag import FaissDB\n",
    "\n",
    "# 文档嵌入\n",
    "db = FaissDB(TextEmbeddings())\n",
    "db.load_text(\"普鸿是一家做数字消防业务的公司\")\n",
    "db.load_text(\"幻蝶是一家AI技术公司\")\n",
    "\n",
    "# 查询\n",
    "db(\"普鸿是啥？\", top_k=5, verbose=True)"
   ]
  },
  {
   "cell_type": "markdown",
   "id": "23bd49cb-5601-492f-9130-2bec7f56e905",
   "metadata": {},
   "source": [
    "### 从 VectorDB 添加本地文件"
   ]
  },
  {
   "cell_type": "code",
   "execution_count": 6,
   "id": "9c710455-e87d-45f4-81e6-263109820450",
   "metadata": {},
   "outputs": [
    {
     "data": {
      "text/plain": [
       "[Document(text=\"**Question:**...\", meta=['tag', 'id', 'source', 'embeddings', 'distance'])]"
      ]
     },
     "execution_count": 6,
     "metadata": {},
     "output_type": "execute_result"
    }
   ],
   "source": [
    "from illufly.embeddings import TextEmbeddings\n",
    "from illufly.rag import FaissDB\n",
    "\n",
    "# 文档嵌入\n",
    "db = FaissDB(TextEmbeddings())\n",
    "db.load_dir(\"./\", chunk_size=550)\n",
    "# 查询\n",
    "db(\"披萨要烤几分钟？\", top_k=1)"
   ]
  },
  {
   "cell_type": "markdown",
   "id": "ea1b5c2f-8cf1-42a0-a22b-707960b7f850",
   "metadata": {},
   "source": [
    "## 相似性比较实验\n",
    "\n",
    "1. 如果文本完全相同，距离就是 (0)\n",
    "2. 如果包含相同文本，混入没有实体的文本，即使很多，距离仍相近 (0.29)\n",
    "3. 如果包含相同文本，混入其他实体后的文本，哪怕很少，距离依然增加 (0.43)\n",
    "4. 如果表达接近，且实体不多，依然距离较近 (0.34)\n",
    "5. 如果表达接近，但混入文本多，实体也多，距离就非常大 (0.94)"
   ]
  },
  {
   "cell_type": "code",
   "execution_count": 2,
   "id": "1a5e5c28-7afb-4485-9bef-c064e9f1cafc",
   "metadata": {},
   "outputs": [
    {
     "name": "stdout",
     "output_type": "stream",
     "text": [
      "[RUNNABLE] \u001b[34mFaissDB.4817467424\u001b[0m\n",
      "[INFO] \u001b[34m查询到10条结果\u001b[0m\n",
      "0.0 >> 普鸿是一家做数字消防业务的公司\n",
      "0.079405695 >> 普鸿是一家做数字消防业务的公司，在广州做消防业务\n",
      "0.17805657 >> 普鸿是一家做数字消防业务的公司，在广州做消防业务，大概是2024年成立，公司业绩一直很好，全国各地开展新业务试点\n",
      "0.29316282 >> 普鸿是一家做数字消防业务的公司在广州做消防业务，大概是2024年成立，公司业绩一直很好，全国各地开展新业务试点在广州做消防业务，大概是2024年成立，公司业绩一直很好，全国各地开展新业务试点在广州做消防业务，大概是2024年成立，公司业绩一直很好，全国各地开展新业务试点在广州做消防业务，大概是2024年成立，公司业绩一直很好，全国各地开展新业务试点在广州做消防业务，大概是2024年成立，公司业绩一直很好，全国各地开展新业务试点在广州做消防业务，大概是2024年成立，公司业绩一直很好，全国各地开展新业务试点在广州做消防业务，大概是2024年成立，公司业绩一直很好，全国各地开展新业务试点在广州做消防业务，大概是2024年成立，公司业绩一直很好，全国各地开展新业务试点在广州做消防业务，大概是2024年成立，公司业绩一直很好，全国各地开展新业务试点在广州做消防业务，大概是2024年成立，公司业绩一直很好，全国各地开展新业务试点\n",
      "0.33564395 >> 普鸿在广州做消防业务，大概是2024年成立，公司业绩一直很好，全国各地开展新业务试点\n",
      "0.34367657 >> 普鸿是一家做数字消防业务的公司, 幻蝶是一家AI技术公司\n",
      "0.374036 >> 2024年新成立的，主要股东有广州鸿蒙信息科技有限公司，普鸿是一家做数字消防业务的公司，是2024年新成立的，主要股东有广州鸿蒙信息科技有限公司\n",
      "0.43234313 >> 普鸿做消防业务, 幻蝶做AI的，鸿蒙做政企服务\n",
      "0.94430184 >> 幻蝶的AI很厉害幻蝶的AI很厉害幻蝶的AI很厉害幻蝶的AI很厉害幻蝶的AI很厉害幻蝶的AI很厉害幻蝶的AI很厉害幻蝶的AI很厉害幻蝶的AI很厉害幻蝶的AI很厉害幻蝶的AI很厉害幻蝶的AI很厉害幻蝶的AI很厉害幻蝶的AI很厉害幻蝶的AI很厉害消防业务\n",
      "1.2295747 >> 幻蝶的AI很厉害幻蝶的AI很厉害幻蝶的AI很厉害幻蝶的AI很厉害幻蝶的AI很厉害幻蝶的AI很厉害幻蝶的AI很厉害幻蝶的AI很厉害幻蝶的AI很厉害幻蝶的AI很厉害幻蝶的AI很厉害幻蝶的AI很厉害幻蝶的AI很厉害幻蝶的AI很厉害幻蝶的AI很厉害\n"
     ]
    }
   ],
   "source": [
    "from illufly.rag import FaissDB, TextEmbeddings\n",
    "\n",
    "# 文档嵌入\n",
    "db = FaissDB(embeddings=TextEmbeddings())\n",
    "db.load_text(\"普鸿是一家做数字消防业务的公司\")\n",
    "db.load_text(\"普鸿是一家做数字消防业务的公司，在广州做消防业务\")\n",
    "db.load_text(\"普鸿是一家做数字消防业务的公司，在广州做消防业务，大概是2024年成立，公司业绩一直很好，全国各地开展新业务试点\")\n",
    "db.load_text(\"普鸿是一家做数字消防业务的公司\" + \"在广州做消防业务，大概是2024年成立，公司业绩一直很好，全国各地开展新业务试点\"*10)\n",
    "db.load_text(\"普鸿是一家做数字消防业务的公司, 幻蝶是一家AI技术公司\")\n",
    "db.load_text(\"普鸿在广州做消防业务，大概是2024年成立，公司业绩一直很好，全国各地开展新业务试点\")\n",
    "db.load_text(\"普鸿做消防业务, 幻蝶做AI的，鸿蒙做政企服务\")\n",
    "db.load_text(\"2024年新成立的，主要股东有广州鸿蒙信息科技有限公司，普鸿是一家做数字消防业务的公司，是2024年新成立的，主要股东有广州鸿蒙信息科技有限公司\")\n",
    "db.load_text(\"幻蝶的AI很厉害\"*15 + \"消防业务\")\n",
    "db.load_text(\"幻蝶的AI很厉害\"*15)\n",
    "\n",
    "# 查询\n",
    "for x in db(\"普鸿是一家做数字消防业务的公司\", top_k=10, verbose=True):\n",
    "    print(x.meta['distance'], \">>\", x.text)"
   ]
  },
  {
   "cell_type": "code",
   "execution_count": 9,
   "id": "0ba01d8e-5f81-4b2f-9b35-5d4b986a07ee",
   "metadata": {},
   "outputs": [
    {
     "data": {
      "text/plain": [
       "['from illufly.chat import ChatQwen\\n```\\n\\n# 正文\\n```markdown\\nhi,\\n这是个啥？\\n```\\n']"
      ]
     },
     "execution_count": 9,
     "metadata": {},
     "output_type": "execute_result"
    }
   ],
   "source": [
    "from illufly.utils import extract_segments\n",
    "\n",
    "text = \"\"\"\n",
    "# python\n",
    "\n",
    "## 呵呵\n",
    "```python\n",
    "from illufly.chat import ChatQwen\n",
    "```\n",
    "\n",
    "# 正文\n",
    "```markdown\n",
    "hi,\n",
    "这是个啥？\n",
    "```\n",
    "\"\"\"\n",
    "\n",
    "extract_segments(text, (\"```\", \"```\"), mode=\"single\", include_markers=False)"
   ]
  },
  {
   "cell_type": "code",
   "execution_count": 8,
   "id": "4b811b3b-b5e4-4012-874a-c296b9f5747e",
   "metadata": {},
   "outputs": [
    {
     "data": {
      "text/plain": [
       "['\\n# python\\n\\n## 呵呵\\n```python\\nfrom illufly.chat import ChatQwen\\n```\\n\\n# 正文\\n```markdown\\nhi,\\n这是个啥？\\n```\\n']"
      ]
     },
     "execution_count": 8,
     "metadata": {},
     "output_type": "execute_result"
    }
   ],
   "source": [
    "extract_segments(text, (\"```xx\", \"```\"), mode=\"single\", include_markers=True)\n"
   ]
  },
  {
   "cell_type": "code",
   "execution_count": null,
   "id": "3df93b81-d7cb-499c-8cef-2aa5a9ea864f",
   "metadata": {},
   "outputs": [],
   "source": []
  }
 ],
 "metadata": {
  "kernelspec": {
   "display_name": "same_to_illufly",
   "language": "python",
   "name": "same_to_illufly"
  },
  "language_info": {
   "codemirror_mode": {
    "name": "ipython",
    "version": 3
   },
   "file_extension": ".py",
   "mimetype": "text/x-python",
   "name": "python",
   "nbconvert_exporter": "python",
   "pygments_lexer": "ipython3",
   "version": "3.10.0"
  }
 },
 "nbformat": 4,
 "nbformat_minor": 5
}
