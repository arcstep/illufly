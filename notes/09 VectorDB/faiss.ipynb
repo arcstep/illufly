{
 "cells": [
  {
   "cell_type": "markdown",
   "id": "43eea709-b5dc-45ed-a535-640106d5421b",
   "metadata": {},
   "source": [
    "## 构造 FaissDB"
   ]
  },
  {
   "cell_type": "markdown",
   "id": "fb38a60d-470d-4e43-b734-7e0ac0ffd9f7",
   "metadata": {},
   "source": [
    "### 从 Embeddings 构建文档"
   ]
  },
  {
   "cell_type": "code",
   "execution_count": 1,
   "id": "25f572b8-829c-48de-87a9-d643b6561bca",
   "metadata": {},
   "outputs": [
    {
     "name": "stdout",
     "output_type": "stream",
     "text": [
      "[INFO] \u001b[34m已成功加载文件 __DOCS__/./001.md ，其中包含 10 个片段。\u001b[0m\n",
      "[INFO] \u001b[34m已成功加载文件 __DOCS__/./设计理念.md ，其中包含 14 个片段。\u001b[0m\n",
      "[INFO] \u001b[34m已成功加载文件 __DOCS__/./推理模式.md ，其中包含 19 个片段。\u001b[0m\n"
     ]
    },
    {
     "data": {
      "text/plain": [
       "[Document(text=\"**Question:**...\", meta=['tag', 'id', 'source']),\n",
       " Document(text=\"**Question:**...\", meta=['tag', 'id', 'source']),\n",
       " Document(text=\"**Question:**...\", meta=['tag', 'id', 'source']),\n",
       " Document(text=\"**Question:**...\", meta=['tag', 'id', 'source']),\n",
       " Document(text=\"**Question:**...\", meta=['tag', 'id', 'source']),\n",
       " Document(text=\"**Question:**...\", meta=['tag', 'id', 'source']),\n",
       " Document(text=\"**Question:**...\", meta=['tag', 'id', 'source']),\n",
       " Document(text=\"**Question:**...\", meta=['tag', 'id', 'source']),\n",
       " Document(text=\"**Question:**...\", meta=['tag', 'id', 'source']),\n",
       " Document(text=\"**Question:**...\", meta=['tag', 'id', 'source']),\n",
       " Document(text=\"# illufly 设计理念介绍...\", meta=['source', 'id']),\n",
       " Document(text=\"一般的开发框架们为了开发者使用，会提供自己的类定义，例如用下面的代码来替代：...\", meta=['source', 'id']),\n",
       " Document(text=\"现在，要求你准确记住这些类的名字以及该从哪里引用，就开始慢慢形成挑战了。...\", meta=['source', 'id']),\n",
       " Document(text=\"'role': 'user',...\", meta=['source', 'id']),\n",
       " Document(text=\"# 常见的智能体推理模式和 illufly 的实现...\", meta=['source', 'id']),\n",
       " Document(text=\"REWOO的全称是Reason without Observation，旨在通过以下方式改进ReACT风格的Agent架构：...\", meta=['source', 'id']),\n",
       " Document(text=\"- 重规划器Replanner：根据执行情况和反馈调整计划。...\", meta=['source', 'id']),\n",
       " Document(text=\"Self-Discover由Google研究人员提出，允许大型语言模型在没有明确标签情况下，自主选择并组合原子推理模块，生成推理结构。包含两个阶段：...\", meta=['source', 'id']),\n",
       " Document(text=\"- **自我迭代的改进**：自动收集智能体的反思能力和规划能力的评测依据和微调依据，确保智能体可以不断优化和提升。...\", meta=['source', 'id'])]"
      ]
     },
     "execution_count": 1,
     "metadata": {},
     "output_type": "execute_result"
    }
   ],
   "source": [
    "from illufly.embeddings import TextEmbeddings\n",
    "from illufly.rag import MarkMeta, FaissDB\n",
    "\n",
    "# 导入文档\n",
    "local = MarkMeta(chunk_size=550)\n",
    "local(verbose=True)"
   ]
  },
  {
   "cell_type": "code",
   "execution_count": 2,
   "id": "204e9d35-6963-4870-9e5e-f64e077a1a91",
   "metadata": {},
   "outputs": [
    {
     "data": {
      "text/plain": [
       "[Document(text=\"**Question:**...\", meta=['tag', 'id', 'source', 'embeddings']),\n",
       " Document(text=\"**Question:**...\", meta=['tag', 'id', 'source', 'embeddings']),\n",
       " Document(text=\"**Question:**...\", meta=['tag', 'id', 'source', 'embeddings']),\n",
       " Document(text=\"**Question:**...\", meta=['tag', 'id', 'source', 'embeddings']),\n",
       " Document(text=\"**Question:**...\", meta=['tag', 'id', 'source', 'embeddings']),\n",
       " Document(text=\"**Question:**...\", meta=['tag', 'id', 'source', 'embeddings']),\n",
       " Document(text=\"**Question:**...\", meta=['tag', 'id', 'source', 'embeddings']),\n",
       " Document(text=\"**Question:**...\", meta=['tag', 'id', 'source', 'embeddings']),\n",
       " Document(text=\"**Question:**...\", meta=['tag', 'id', 'source', 'embeddings']),\n",
       " Document(text=\"**Question:**...\", meta=['tag', 'id', 'source', 'embeddings']),\n",
       " Document(text=\"# illufly 设计理念介绍...\", meta=['source', 'id', 'embeddings']),\n",
       " Document(text=\"一般的开发框架们为了开发者使用，会提供自己的类定义，例如用下面的代码来替代：...\", meta=['source', 'id', 'embeddings']),\n",
       " Document(text=\"现在，要求你准确记住这些类的名字以及该从哪里引用，就开始慢慢形成挑战了。...\", meta=['source', 'id', 'embeddings']),\n",
       " Document(text=\"'role': 'user',...\", meta=['source', 'id', 'embeddings']),\n",
       " Document(text=\"# 常见的智能体推理模式和 illufly 的实现...\", meta=['source', 'id', 'embeddings']),\n",
       " Document(text=\"REWOO的全称是Reason without Observation，旨在通过以下方式改进ReACT风格的Agent架构：...\", meta=['source', 'id', 'embeddings']),\n",
       " Document(text=\"- 重规划器Replanner：根据执行情况和反馈调整计划。...\", meta=['source', 'id', 'embeddings']),\n",
       " Document(text=\"Self-Discover由Google研究人员提出，允许大型语言模型在没有明确标签情况下，自主选择并组合原子推理模块，生成推理结构。包含两个阶段：...\", meta=['source', 'id', 'embeddings']),\n",
       " Document(text=\"- **自我迭代的改进**：自动收集智能体的反思能力和规划能力的评测依据和微调依据，确保智能体可以不断优化和提升。...\", meta=['source', 'id', 'embeddings'])]"
      ]
     },
     "execution_count": 2,
     "metadata": {},
     "output_type": "execute_result"
    }
   ],
   "source": [
    "# 文档嵌入\n",
    "emb = TextEmbeddings()\n",
    "emb(local.documents, verbose=True)"
   ]
  },
  {
   "cell_type": "code",
   "execution_count": 3,
   "id": "bbf6f04f-cdcc-44e2-8745-a0ba728824a4",
   "metadata": {},
   "outputs": [
    {
     "name": "stdout",
     "output_type": "stream",
     "text": [
      "[INFO] \u001b[34m查询到5条结果\u001b[0m\n"
     ]
    },
    {
     "data": {
      "text/plain": [
       "[Document(text=\"**Question:**...\", meta=['tag', 'id', 'source', 'embeddings', 'distance']),\n",
       " Document(text=\"**Question:**...\", meta=['tag', 'id', 'source', 'embeddings', 'distance']),\n",
       " Document(text=\"**Question:**...\", meta=['tag', 'id', 'source', 'embeddings', 'distance']),\n",
       " Document(text=\"**Question:**...\", meta=['tag', 'id', 'source', 'embeddings', 'distance']),\n",
       " Document(text=\"**Question:**...\", meta=['tag', 'id', 'source', 'embeddings', 'distance'])]"
      ]
     },
     "execution_count": 3,
     "metadata": {},
     "output_type": "execute_result"
    }
   ],
   "source": [
    "# 文档入库\n",
    "faiss = FaissDB(emb, train=False)\n",
    "\n",
    "# 查询\n",
    "faiss(\"怎么做披萨？\", verbose=True)"
   ]
  },
  {
   "cell_type": "markdown",
   "id": "14096530-3bc0-4b96-8759-b6d896c41174",
   "metadata": {},
   "source": [
    "### 从 VectorDB 添加文本"
   ]
  },
  {
   "cell_type": "code",
   "execution_count": 5,
   "id": "8948fe10-feed-47d5-86cc-91f9535aba9e",
   "metadata": {},
   "outputs": [
    {
     "name": "stdout",
     "output_type": "stream",
     "text": [
      "[INFO] \u001b[34m查询到2条结果\u001b[0m\n"
     ]
    },
    {
     "data": {
      "text/plain": [
       "[Document(text=\"普鸿是一家做数字消防业务的公司\", meta=['raw_meta', 'id', 'source', 'embeddings', 'distance']),\n",
       " Document(text=\"幻蝶是一家AI技术公司\", meta=['raw_meta', 'id', 'source', 'embeddings', 'distance'])]"
      ]
     },
     "execution_count": 5,
     "metadata": {},
     "output_type": "execute_result"
    }
   ],
   "source": [
    "from illufly.embeddings import TextEmbeddings\n",
    "from illufly.rag import FaissDB\n",
    "\n",
    "# 文档嵌入\n",
    "db = FaissDB(TextEmbeddings())\n",
    "db.load_text(\"普鸿是一家做数字消防业务的公司\")\n",
    "db.load_text(\"幻蝶是一家AI技术公司\")\n",
    "\n",
    "# 查询\n",
    "db(\"普鸿是啥？\", top_k=5, verbose=True)"
   ]
  },
  {
   "cell_type": "markdown",
   "id": "23bd49cb-5601-492f-9130-2bec7f56e905",
   "metadata": {},
   "source": [
    "### 从 VectorDB 添加本地文件"
   ]
  },
  {
   "cell_type": "code",
   "execution_count": 6,
   "id": "9c710455-e87d-45f4-81e6-263109820450",
   "metadata": {},
   "outputs": [
    {
     "data": {
      "text/plain": [
       "[Document(text=\"**Question:**...\", meta=['tag', 'id', 'source', 'embeddings', 'distance'])]"
      ]
     },
     "execution_count": 6,
     "metadata": {},
     "output_type": "execute_result"
    }
   ],
   "source": [
    "from illufly.embeddings import TextEmbeddings\n",
    "from illufly.rag import FaissDB\n",
    "\n",
    "# 文档嵌入\n",
    "db = FaissDB(TextEmbeddings())\n",
    "db.load(\"./\", chunk_size=550)\n",
    "# 查询\n",
    "db(\"披萨要烤几分钟？\", top_k=1)"
   ]
  },
  {
   "cell_type": "markdown",
   "id": "ea1b5c2f-8cf1-42a0-a22b-707960b7f850",
   "metadata": {},
   "source": [
    "## 相似性比较实验\n",
    "\n",
    "1. 如果文本完全相同，距离就是 (0)\n",
    "2. 如果包含相同文本，混入没有实体的文本，即使很多，距离仍相近 (0.29)\n",
    "3. 如果包含相同文本，混入其他实体后的文本，哪怕很少，距离依然增加 (0.43)\n",
    "4. 如果表达接近，且实体不多，依然距离较近 (0.34)\n",
    "5. 如果表达接近，但混入文本多，实体也多，距离就非常大 (0.94)"
   ]
  },
  {
   "cell_type": "code",
   "execution_count": 2,
   "id": "1a5e5c28-7afb-4485-9bef-c064e9f1cafc",
   "metadata": {},
   "outputs": [
    {
     "name": "stdout",
     "output_type": "stream",
     "text": [
      "[RUNNABLE] \u001b[34mFaissDB.4817467424\u001b[0m\n",
      "[INFO] \u001b[34m查询到10条结果\u001b[0m\n",
      "0.0 >> 普鸿是一家做数字消防业务的公司\n",
      "0.079405695 >> 普鸿是一家做数字消防业务的公司，在广州做消防业务\n",
      "0.17805657 >> 普鸿是一家做数字消防业务的公司，在广州做消防业务，大概是2024年成立，公司业绩一直很好，全国各地开展新业务试点\n",
      "0.29316282 >> 普鸿是一家做数字消防业务的公司在广州做消防业务，大概是2024年成立，公司业绩一直很好，全国各地开展新业务试点在广州做消防业务，大概是2024年成立，公司业绩一直很好，全国各地开展新业务试点在广州做消防业务，大概是2024年成立，公司业绩一直很好，全国各地开展新业务试点在广州做消防业务，大概是2024年成立，公司业绩一直很好，全国各地开展新业务试点在广州做消防业务，大概是2024年成立，公司业绩一直很好，全国各地开展新业务试点在广州做消防业务，大概是2024年成立，公司业绩一直很好，全国各地开展新业务试点在广州做消防业务，大概是2024年成立，公司业绩一直很好，全国各地开展新业务试点在广州做消防业务，大概是2024年成立，公司业绩一直很好，全国各地开展新业务试点在广州做消防业务，大概是2024年成立，公司业绩一直很好，全国各地开展新业务试点在广州做消防业务，大概是2024年成立，公司业绩一直很好，全国各地开展新业务试点\n",
      "0.33564395 >> 普鸿在广州做消防业务，大概是2024年成立，公司业绩一直很好，全国各地开展新业务试点\n",
      "0.34367657 >> 普鸿是一家做数字消防业务的公司, 幻蝶是一家AI技术公司\n",
      "0.374036 >> 2024年新成立的，主要股东有广州鸿蒙信息科技有限公司，普鸿是一家做数字消防业务的公司，是2024年新成立的，主要股东有广州鸿蒙信息科技有限公司\n",
      "0.43234313 >> 普鸿做消防业务, 幻蝶做AI的，鸿蒙做政企服务\n",
      "0.94430184 >> 幻蝶的AI很厉害幻蝶的AI很厉害幻蝶的AI很厉害幻蝶的AI很厉害幻蝶的AI很厉害幻蝶的AI很厉害幻蝶的AI很厉害幻蝶的AI很厉害幻蝶的AI很厉害幻蝶的AI很厉害幻蝶的AI很厉害幻蝶的AI很厉害幻蝶的AI很厉害幻蝶的AI很厉害幻蝶的AI很厉害消防业务\n",
      "1.2295747 >> 幻蝶的AI很厉害幻蝶的AI很厉害幻蝶的AI很厉害幻蝶的AI很厉害幻蝶的AI很厉害幻蝶的AI很厉害幻蝶的AI很厉害幻蝶的AI很厉害幻蝶的AI很厉害幻蝶的AI很厉害幻蝶的AI很厉害幻蝶的AI很厉害幻蝶的AI很厉害幻蝶的AI很厉害幻蝶的AI很厉害\n"
     ]
    }
   ],
   "source": [
    "from illufly.rag import FaissDB, TextEmbeddings\n",
    "\n",
    "# 文档嵌入\n",
    "db = FaissDB(embeddings=TextEmbeddings())\n",
    "db.load_text(\"普鸿是一家做数字消防业务的公司\")\n",
    "db.load_text(\"普鸿是一家做数字消防业务的公司，在广州做消防业务\")\n",
    "db.load_text(\"普鸿是一家做数字消防业务的公司，在广州做消防业务，大概是2024年成立，公司业绩一直很好，全国各地开展新业务试点\")\n",
    "db.load_text(\"普鸿是一家做数字消防业务的公司\" + \"在广州做消防业务，大概是2024年成立，公司业绩一直很好，全国各地开展新业务试点\"*10)\n",
    "db.load_text(\"普鸿是一家做数字消防业务的公司, 幻蝶是一家AI技术公司\")\n",
    "db.load_text(\"普鸿在广州做消防业务，大概是2024年成立，公司业绩一直很好，全国各地开展新业务试点\")\n",
    "db.load_text(\"普鸿做消防业务, 幻蝶做AI的，鸿蒙做政企服务\")\n",
    "db.load_text(\"2024年新成立的，主要股东有广州鸿蒙信息科技有限公司，普鸿是一家做数字消防业务的公司，是2024年新成立的，主要股东有广州鸿蒙信息科技有限公司\")\n",
    "db.load_text(\"幻蝶的AI很厉害\"*15 + \"消防业务\")\n",
    "db.load_text(\"幻蝶的AI很厉害\"*15)\n",
    "\n",
    "# 查询\n",
    "for x in db(\"普鸿是一家做数字消防业务的公司\", top_k=10, verbose=True):\n",
    "    print(x.meta['distance'], \">>\", x.text)"
   ]
  },
  {
   "cell_type": "code",
   "execution_count": 9,
   "id": "0ba01d8e-5f81-4b2f-9b35-5d4b986a07ee",
   "metadata": {},
   "outputs": [
    {
     "data": {
      "text/plain": [
       "['from illufly.chat import ChatQwen\\n```\\n\\n# 正文\\n```markdown\\nhi,\\n这是个啥？\\n```\\n']"
      ]
     },
     "execution_count": 9,
     "metadata": {},
     "output_type": "execute_result"
    }
   ],
   "source": [
    "from illufly.utils import extract_segments\n",
    "\n",
    "text = \"\"\"\n",
    "# python\n",
    "\n",
    "## 呵呵\n",
    "```python\n",
    "from illufly.chat import ChatQwen\n",
    "```\n",
    "\n",
    "# 正文\n",
    "```markdown\n",
    "hi,\n",
    "这是个啥？\n",
    "```\n",
    "\"\"\"\n",
    "\n",
    "extract_segments(text, (\"```\", \"```\"), mode=\"single\", include_markers=False)"
   ]
  },
  {
   "cell_type": "code",
   "execution_count": 8,
   "id": "4b811b3b-b5e4-4012-874a-c296b9f5747e",
   "metadata": {},
   "outputs": [
    {
     "data": {
      "text/plain": [
       "['\\n# python\\n\\n## 呵呵\\n```python\\nfrom illufly.chat import ChatQwen\\n```\\n\\n# 正文\\n```markdown\\nhi,\\n这是个啥？\\n```\\n']"
      ]
     },
     "execution_count": 8,
     "metadata": {},
     "output_type": "execute_result"
    }
   ],
   "source": [
    "extract_segments(text, (\"```xx\", \"```\"), mode=\"single\", include_markers=True)\n"
   ]
  },
  {
   "cell_type": "code",
   "execution_count": null,
   "id": "3df93b81-d7cb-499c-8cef-2aa5a9ea864f",
   "metadata": {},
   "outputs": [],
   "source": []
  }
 ],
 "metadata": {
  "kernelspec": {
   "display_name": "same_to_illufly",
   "language": "python",
   "name": "same_to_illufly"
  },
  "language_info": {
   "codemirror_mode": {
    "name": "ipython",
    "version": 3
   },
   "file_extension": ".py",
   "mimetype": "text/x-python",
   "name": "python",
   "nbconvert_exporter": "python",
   "pygments_lexer": "ipython3",
   "version": "3.10.0"
  }
 },
 "nbformat": 4,
 "nbformat_minor": 5
}
