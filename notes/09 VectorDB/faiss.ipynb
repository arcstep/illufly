{
 "cells": [
  {
   "cell_type": "markdown",
   "id": "43eea709-b5dc-45ed-a535-640106d5421b",
   "metadata": {},
   "source": [
    "## FaissDB"
   ]
  },
  {
   "cell_type": "markdown",
   "id": "fb38a60d-470d-4e43-b734-7e0ac0ffd9f7",
   "metadata": {},
   "source": [
    "### 从 Embeddings 构建文档"
   ]
  },
  {
   "cell_type": "code",
   "execution_count": 2,
   "id": "25f572b8-829c-48de-87a9-d643b6561bca",
   "metadata": {},
   "outputs": [
    {
     "name": "stdout",
     "output_type": "stream",
     "text": [
      "[INFO] \u001b[34m已成功加载文件 __DOCS__/./001.md ，其中包含 10 个片段。\u001b[0m\n",
      "[INFO] \u001b[34m已成功加载文件 __DOCS__/./设计理念.md ，其中包含 14 个片段。\u001b[0m\n",
      "[INFO] \u001b[34m已成功加载文件 __DOCS__/./推理模式.md ，其中包含 19 个片段。\u001b[0m\n"
     ]
    },
    {
     "data": {
      "text/plain": [
       "[Document(text=\"**Question:**...\", meta=['tag', 'id', 'source']),\n",
       " Document(text=\"**Question:**...\", meta=['tag', 'id', 'source']),\n",
       " Document(text=\"**Question:**...\", meta=['tag', 'id', 'source']),\n",
       " Document(text=\"**Question:**...\", meta=['tag', 'id', 'source']),\n",
       " Document(text=\"**Question:**...\", meta=['tag', 'id', 'source']),\n",
       " Document(text=\"**Question:**...\", meta=['tag', 'id', 'source']),\n",
       " Document(text=\"**Question:**...\", meta=['tag', 'id', 'source']),\n",
       " Document(text=\"**Question:**...\", meta=['tag', 'id', 'source']),\n",
       " Document(text=\"**Question:**...\", meta=['tag', 'id', 'source']),\n",
       " Document(text=\"**Question:**...\", meta=['tag', 'id', 'source']),\n",
       " Document(text=\"# illufly 设计理念介绍...\", meta=['source', 'id']),\n",
       " Document(text=\"一般的开发框架们为了开发者使用，会提供自己的类定义，例如用下面的代码来替代：...\", meta=['source', 'id']),\n",
       " Document(text=\"现在，要求你准确记住这些类的名字以及该从哪里引用，就开始慢慢形成挑战了。...\", meta=['source', 'id']),\n",
       " Document(text=\"'role': 'user',...\", meta=['source', 'id']),\n",
       " Document(text=\"# 常见的智能体推理模式和 illufly 的实现...\", meta=['source', 'id']),\n",
       " Document(text=\"REWOO的全称是Reason without Observation，旨在通过以下方式改进ReACT风格的Agent架构：...\", meta=['source', 'id']),\n",
       " Document(text=\"- 重规划器Replanner：根据执行情况和反馈调整计划。...\", meta=['source', 'id']),\n",
       " Document(text=\"Self-Discover由Google研究人员提出，允许大型语言模型在没有明确标签情况下，自主选择并组合原子推理模块，生成推理结构。包含两个阶段：...\", meta=['source', 'id']),\n",
       " Document(text=\"- **自我迭代的改进**：自动收集智能体的反思能力和规划能力的评测依据和微调依据，确保智能体可以不断优化和提升。...\", meta=['source', 'id'])]"
      ]
     },
     "execution_count": 2,
     "metadata": {},
     "output_type": "execute_result"
    }
   ],
   "source": [
    "from illufly.embeddings import TextEmbeddings\n",
    "from illufly.retriever import MarkMeta, FaissDB\n",
    "\n",
    "# 导入文档\n",
    "local = MarkMeta(dir=\"./\", chunk_size=550)\n",
    "local(verbose=True)"
   ]
  },
  {
   "cell_type": "code",
   "execution_count": 3,
   "id": "204e9d35-6963-4870-9e5e-f64e077a1a91",
   "metadata": {},
   "outputs": [
    {
     "name": "stdout",
     "output_type": "stream",
     "text": [
      "[INFO] \u001b[34m文本向量转换 395 字 / 5 个文件\u001b[0m\n",
      "[INFO] \u001b[34mwrote embedding cache __CACHE_EMBEDDINGS__/TextEmbeddings/text-embedding-v3/001_md/71141545f40cfd4c0db357ddfbbcab1f.emb **Question:**\n",
      "如何在家里制作美味的比萨？\n",
      "\n",
      "**Answer:**\n",
      "首先准备面团，然后...\u001b[0m\n",
      "[INFO] \u001b[34mwrote embedding cache __CACHE_EMBEDDINGS__/TextEmbeddings/text-embedding-v3/001_md/20d27c595671dcbb9916d9a05cd5d138.emb **Question:**\n",
      "有没有简单的方法在家做比萨？\n",
      "\n",
      "**Answer:**\n",
      "可以买现成的比萨...\u001b[0m\n",
      "[INFO] \u001b[34mwrote embedding cache __CACHE_EMBEDDINGS__/TextEmbeddings/text-embedding-v3/001_md/22a4010724584e02a7c03230f1474a1c.emb **Question:**\n",
      "自己动手做比萨需要注意哪些步骤？\n",
      "\n",
      "**Answer:**\n",
      "注意面团发酵...\u001b[0m\n",
      "[INFO] \u001b[34mwrote embedding cache __CACHE_EMBEDDINGS__/TextEmbeddings/text-embedding-v3/001_md/410b898d93cffda074f8c9a77341e80b.emb **Question:**\n",
      "在家中怎样才能做出餐厅级别的比萨？\n",
      "\n",
      "**Answer:**\n",
      "选用高质量...\u001b[0m\n",
      "[INFO] \u001b[34mwrote embedding cache __CACHE_EMBEDDINGS__/TextEmbeddings/text-embedding-v3/001_md/94247093c2093467c650426841797226.emb **Question:**\n",
      "想在家里给家人做一顿特别的晚餐，有什么推荐？\n",
      "\n",
      "**Answer:**\n",
      "...\u001b[0m\n",
      "[INFO] \u001b[34m文本向量转换 405 字 / 5 个文件\u001b[0m\n",
      "[INFO] \u001b[34mwrote embedding cache __CACHE_EMBEDDINGS__/TextEmbeddings/text-embedding-v3/001_md/b9ecb5ede1b9beeff7d9432877138fb7.emb **Question:**\n",
      "如何训练一只小狗成为导盲犬？\n",
      "\n",
      "**Answer:**\n",
      "从小狗三个月大时...\u001b[0m\n",
      "[INFO] \u001b[34mwrote embedding cache __CACHE_EMBEDDINGS__/TextEmbeddings/text-embedding-v3/001_md/44914ac0f873c3ae29cfff0e91263bd7.emb **Question:**\n",
      "怎样才能提高自己的编程能力？\n",
      "\n",
      "**Answer:**\n",
      "多练习，参与开源...\u001b[0m\n",
      "[INFO] \u001b[34mwrote embedding cache __CACHE_EMBEDDINGS__/TextEmbeddings/text-embedding-v3/001_md/b6b93f1ba784b9bea52f73804461f5e2.emb **Question:**\n",
      "为什么我的盆栽植物总是长不好？\n",
      "\n",
      "**Answer:**\n",
      "可能是浇水过多...\u001b[0m\n",
      "[INFO] \u001b[34mwrote embedding cache __CACHE_EMBEDDINGS__/TextEmbeddings/text-embedding-v3/001_md/4e0f12ba05b187a268fe15b65491d40c.emb **Question:**\n",
      "如何挑选一双适合跑步的运动鞋？\n",
      "\n",
      "**Answer:**\n",
      "要选择适合自己...\u001b[0m\n",
      "[INFO] \u001b[34mwrote embedding cache __CACHE_EMBEDDINGS__/TextEmbeddings/text-embedding-v3/001_md/1bf536151e6c97e05092daba922a8601.emb **Question:**\n",
      "怎样才能有效地减肥？\n",
      "\n",
      "**Answer:**\n",
      "制定合理的饮食计划，增加...\u001b[0m\n",
      "[INFO] \u001b[34m文本向量转换 4078 字 / 5 个文件\u001b[0m\n",
      "[INFO] \u001b[34mwrote embedding cache __CACHE_EMBEDDINGS__/TextEmbeddings/text-embedding-v3/_DOCS_设计理念_md_0/01a7d98a7c51563dd187eee201a614c3.emb # illufly 设计理念介绍\n",
      "\n",
      "- [开箱即用的原则](#开箱即用的原则)\n",
      "- [减少新概念的原...\u001b[0m\n",
      "[INFO] \u001b[34mwrote embedding cache __CACHE_EMBEDDINGS__/TextEmbeddings/text-embedding-v3/_DOCS_设计理念_md_0/b5feb576100954e0570036c2c98784d3.emb 一般的开发框架们为了开发者使用，会提供自己的类定义，例如用下面的代码来替代：\n",
      "\n",
      "```python\n",
      "...\u001b[0m\n",
      "[INFO] \u001b[34mwrote embedding cache __CACHE_EMBEDDINGS__/TextEmbeddings/text-embedding-v3/_DOCS_设计理念_md_0/6151403ef1ca270ef2f0e2e26273df1b.emb 现在，要求你准确记住这些类的名字以及该从哪里引用，就开始慢慢形成挑战了。\n",
      "\n",
      "...\n",
      "\n",
      "类似的事情会在...\u001b[0m\n",
      "[INFO] \u001b[34mwrote embedding cache __CACHE_EMBEDDINGS__/TextEmbeddings/text-embedding-v3/_DOCS_设计理念_md_0/67b22a4b9c47e9ddfa6ccb5f0b947dc3.emb         'role': 'user',\n",
      "        'content': '你好'\n",
      "  ...\u001b[0m\n",
      "[INFO] \u001b[34mwrote embedding cache __CACHE_EMBEDDINGS__/TextEmbeddings/text-embedding-v3/_DOCS_推理模式_md_0/520b178b2a1b358b02b403b57124e734.emb # 常见的智能体推理模式和 illufly 的实现\n",
      "\n",
      "## 常见推理模式\n",
      "\n",
      "ReAct模式是最早出现...\u001b[0m\n",
      "[INFO] \u001b[34m文本向量转换 2051 字 / 4 个文件\u001b[0m\n",
      "[INFO] \u001b[34mwrote embedding cache __CACHE_EMBEDDINGS__/TextEmbeddings/text-embedding-v3/_DOCS_推理模式_md_0/13be09aa79010d078b69009118f2c6ca.emb REWOO的全称是Reason without Observation，旨在通过以下方式改进ReAC...\u001b[0m\n",
      "[INFO] \u001b[34mwrote embedding cache __CACHE_EMBEDDINGS__/TextEmbeddings/text-embedding-v3/_DOCS_推理模式_md_0/6f1c5f78eb47c5922be482dbb5fdda52.emb - 重规划器Replanner：根据执行情况和反馈调整计划。\n",
      "\n",
      "Plan-and-Execute的优...\u001b[0m\n",
      "[INFO] \u001b[34mwrote embedding cache __CACHE_EMBEDDINGS__/TextEmbeddings/text-embedding-v3/_DOCS_推理模式_md_0/4504b4ba12f75f47f01153662fd16aba.emb Self-Discover由Google研究人员提出，允许大型语言模型在没有明确标签情况下，自主选择...\u001b[0m\n",
      "[INFO] \u001b[34mwrote embedding cache __CACHE_EMBEDDINGS__/TextEmbeddings/text-embedding-v3/_DOCS_推理模式_md_0/4dd1fa9f4e9cb19f325b075ce45a1142.emb - **自我迭代的改进**：自动收集智能体的反思能力和规划能力的评测依据和微调依据，确保智能体可以不...\u001b[0m\n"
     ]
    },
    {
     "data": {
      "text/plain": [
       "[Document(text=\"**Question:**...\", meta=['tag', 'id', 'source', 'embeddings']),\n",
       " Document(text=\"**Question:**...\", meta=['tag', 'id', 'source', 'embeddings']),\n",
       " Document(text=\"**Question:**...\", meta=['tag', 'id', 'source', 'embeddings']),\n",
       " Document(text=\"**Question:**...\", meta=['tag', 'id', 'source', 'embeddings']),\n",
       " Document(text=\"**Question:**...\", meta=['tag', 'id', 'source', 'embeddings']),\n",
       " Document(text=\"**Question:**...\", meta=['tag', 'id', 'source', 'embeddings']),\n",
       " Document(text=\"**Question:**...\", meta=['tag', 'id', 'source', 'embeddings']),\n",
       " Document(text=\"**Question:**...\", meta=['tag', 'id', 'source', 'embeddings']),\n",
       " Document(text=\"**Question:**...\", meta=['tag', 'id', 'source', 'embeddings']),\n",
       " Document(text=\"**Question:**...\", meta=['tag', 'id', 'source', 'embeddings']),\n",
       " Document(text=\"# illufly 设计理念介绍...\", meta=['source', 'id', 'embeddings']),\n",
       " Document(text=\"一般的开发框架们为了开发者使用，会提供自己的类定义，例如用下面的代码来替代：...\", meta=['source', 'id', 'embeddings']),\n",
       " Document(text=\"现在，要求你准确记住这些类的名字以及该从哪里引用，就开始慢慢形成挑战了。...\", meta=['source', 'id', 'embeddings']),\n",
       " Document(text=\"'role': 'user',...\", meta=['source', 'id', 'embeddings']),\n",
       " Document(text=\"# 常见的智能体推理模式和 illufly 的实现...\", meta=['source', 'id', 'embeddings']),\n",
       " Document(text=\"REWOO的全称是Reason without Observation，旨在通过以下方式改进ReACT风格的Agent架构：...\", meta=['source', 'id', 'embeddings']),\n",
       " Document(text=\"- 重规划器Replanner：根据执行情况和反馈调整计划。...\", meta=['source', 'id', 'embeddings']),\n",
       " Document(text=\"Self-Discover由Google研究人员提出，允许大型语言模型在没有明确标签情况下，自主选择并组合原子推理模块，生成推理结构。包含两个阶段：...\", meta=['source', 'id', 'embeddings']),\n",
       " Document(text=\"- **自我迭代的改进**：自动收集智能体的反思能力和规划能力的评测依据和微调依据，确保智能体可以不断优化和提升。...\", meta=['source', 'id', 'embeddings'])]"
      ]
     },
     "execution_count": 3,
     "metadata": {},
     "output_type": "execute_result"
    }
   ],
   "source": [
    "# 文档嵌入\n",
    "emb = TextEmbeddings()\n",
    "emb(local.documents, verbose=True)"
   ]
  },
  {
   "cell_type": "code",
   "execution_count": 4,
   "id": "bbf6f04f-cdcc-44e2-8745-a0ba728824a4",
   "metadata": {},
   "outputs": [],
   "source": [
    "# 文档入库\n",
    "faiss = FaissDB(emb, train=False)\n",
    "\n",
    "# 查询\n",
    "for score, x in faiss(\"怎么做披萨？\", verbose=False):\n",
    "    print(f'[{score}]\\n{x.text}')"
   ]
  },
  {
   "cell_type": "markdown",
   "id": "14096530-3bc0-4b96-8759-b6d896c41174",
   "metadata": {},
   "source": [
    "### 从 VectorDB 添加文本"
   ]
  },
  {
   "cell_type": "code",
   "execution_count": 5,
   "id": "8948fe10-feed-47d5-86cc-91f9535aba9e",
   "metadata": {},
   "outputs": [
    {
     "name": "stdout",
     "output_type": "stream",
     "text": [
      "[INFO] \u001b[34m查询到2条结果\u001b[0m\n"
     ]
    },
    {
     "data": {
      "text/plain": [
       "[Document(text=\"普鸿是一家做数字消防业务的公司\", meta=['raw_meta', 'id', 'source', 'embeddings', 'distance']),\n",
       " Document(text=\"幻蝶是一家AI技术公司\", meta=['raw_meta', 'id', 'source', 'embeddings', 'distance'])]"
      ]
     },
     "execution_count": 5,
     "metadata": {},
     "output_type": "execute_result"
    }
   ],
   "source": [
    "from illufly.embeddings import TextEmbeddings\n",
    "from illufly.retriever import FaissDB\n",
    "\n",
    "# 文档嵌入\n",
    "db = FaissDB(TextEmbeddings())\n",
    "db.load_text(\"普鸿是一家做数字消防业务的公司\")\n",
    "db.load_text(\"幻蝶是一家AI技术公司\")\n",
    "\n",
    "# 查询\n",
    "db(\"普鸿是啥？\", top_k=5, verbose=True)"
   ]
  },
  {
   "cell_type": "markdown",
   "id": "23bd49cb-5601-492f-9130-2bec7f56e905",
   "metadata": {},
   "source": [
    "### 从 VectorDB 添加本地文件"
   ]
  },
  {
   "cell_type": "code",
   "execution_count": 1,
   "id": "9c710455-e87d-45f4-81e6-263109820450",
   "metadata": {},
   "outputs": [
    {
     "data": {
      "text/plain": [
       "[Document(text=\"**Question:**...\", meta=['tag', 'id', 'source', 'embeddings', 'distance'])]"
      ]
     },
     "execution_count": 1,
     "metadata": {},
     "output_type": "execute_result"
    }
   ],
   "source": [
    "from illufly.embeddings import TextEmbeddings\n",
    "from illufly.retriever import FaissDB\n",
    "\n",
    "# 文档嵌入\n",
    "db = FaissDB(TextEmbeddings())\n",
    "db.load(\"./\", chunk_size=550)\n",
    "# 查询\n",
    "db.query(\"披萨要烤几分钟？\", top_k=1)"
   ]
  },
  {
   "cell_type": "code",
   "execution_count": 2,
   "id": "80db1f2c-ad89-4628-8bf3-568fe87aed86",
   "metadata": {},
   "outputs": [
    {
     "data": {
      "text/plain": [
       "[Document(text=\"**Question:**...\", meta=['tag', 'id', 'source', 'embeddings', 'distance'])]"
      ]
     },
     "execution_count": 2,
     "metadata": {},
     "output_type": "execute_result"
    }
   ],
   "source": [
    "db(\"披萨要烤几分钟？\", top_k=1)"
   ]
  },
  {
   "cell_type": "code",
   "execution_count": null,
   "id": "e2b89697-20ce-4c90-9955-e0ba5ee5f8ae",
   "metadata": {},
   "outputs": [],
   "source": []
  }
 ],
 "metadata": {
  "kernelspec": {
   "display_name": "textlong-same-ipykernel",
   "language": "python",
   "name": "textlong-same-ipykernel"
  },
  "language_info": {
   "codemirror_mode": {
    "name": "ipython",
    "version": 3
   },
   "file_extension": ".py",
   "mimetype": "text/x-python",
   "name": "python",
   "nbconvert_exporter": "python",
   "pygments_lexer": "ipython3",
   "version": "3.10.0"
  }
 },
 "nbformat": 4,
 "nbformat_minor": 5
}
