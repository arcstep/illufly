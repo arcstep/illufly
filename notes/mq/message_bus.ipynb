{
 "cells": [
  {
   "cell_type": "code",
   "execution_count": null,
   "id": "bbb72623-b9a2-412c-b6f4-7e039192adcf",
   "metadata": {},
   "outputs": [
    {
     "name": "stdout",
     "output_type": "stream",
     "text": [
      "{'content': 'hello', 'topic': 'test'}\n"
     ]
    }
   ],
   "source": [
    "from illufly.mq.message_bus import MessageBus\n",
    "\n",
    "bus = MessageBus()\n",
    "bus.publish(\"test\", \"hello\")\n",
    "\n",
    "for b in bus.collect():\n",
    "    print(b)\n",
    "\n",
    "print(bus.check_event_loop_status())"
   ]
  },
  {
   "cell_type": "code",
   "execution_count": null,
   "id": "a6c41b66-ae99-46d6-b3ed-47807a3eface",
   "metadata": {},
   "outputs": [
    {
     "name": "stdout",
     "output_type": "stream",
     "text": [
      "{'content': 'hello', 'topic': 'test'}\n",
      "{'content': 'world', 'topic': 'test'}\n",
      "{'block_type': 'end', 'topic': 'test'}\n"
     ]
    }
   ],
   "source": [
    "from illufly.mq.message_bus import MessageBus\n",
    "\n",
    "# 在 Jupyter 中使用\n",
    "bus = MessageBus()\n",
    "bus.subscribe(\"test\")\n",
    "\n",
    "# 发布一些消息\n",
    "bus.publish(\"test\", \"hello\")\n",
    "bus.publish(\"test\", \"world\")\n",
    "bus.publish(\"test\", end=True)\n",
    "\n",
    "# 收集消息\n",
    "for msg in bus.collect():\n",
    "    print(msg)\n",
    "\n",
    "# 此时事件循环应该已经被正确清理"
   ]
  },
  {
   "cell_type": "code",
   "execution_count": null,
   "id": "d8e0be8c-4e3a-4a09-93cf-2c3b07ae1069",
   "metadata": {},
   "outputs": [],
   "source": []
  }
 ],
 "metadata": {
  "kernelspec": {
   "display_name": "Python 3 (ipykernel)",
   "language": "python",
   "name": "python3"
  },
  "language_info": {
   "codemirror_mode": {
    "name": "ipython",
    "version": 3
   },
   "file_extension": ".py",
   "mimetype": "text/x-python",
   "name": "python",
   "nbconvert_exporter": "python",
   "pygments_lexer": "ipython3",
   "version": "3.11.7"
  }
 },
 "nbformat": 4,
 "nbformat_minor": 5
}
