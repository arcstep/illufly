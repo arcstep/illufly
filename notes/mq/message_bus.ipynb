{
    "cells": [
        {
            "cell_type": "code",
            "execution_count": 1,
            "id": "735f3502-1dd9-4a29-89ca-995376dc43ac",
            "metadata": {},
            "outputs": [],
            "source": [
                "import asyncio\n",
                "import time\n",
                "from illufly.async_utils import AsyncUtils\n",
                "\n",
                "# 创建一个异步服务实例\n",
                "service = AsyncUtils()\n",
                "\n",
                "# 定义一个复杂的异步生成器函数\n",
                "async def complex_data_stream(count=5):\n",
                "    \"\"\"模拟一个复杂的数据流，无法简单地转换为同步代码\"\"\"\n",
                "    for i in range(count):\n",
                "        # 模拟一些异步操作\n",
                "        await asyncio.sleep(0.5)  # 模拟IO等待\n",
                "        # 模拟实时数据处理\n",
                "        data = {'index': i, 'timestamp': time.time()}\n",
                "        yield data"
            ]
        },
        {
            "cell_type": "code",
            "execution_count": 2,
            "id": "b1f35f82-ebc3-49a6-a967-3c16475e6ea9",
            "metadata": {},
            "outputs": [
                {
                    "name": "stdout",
                    "output_type": "stream",
                    "text": [
                        "直接使用失败: 'async_generator' object is not iterable\n"
                    ]
                }
            ],
            "source": [
                "# 尝试直接使用生成器（这会失败）\n",
                "try:\n",
                "    for data in complex_data_stream():  # 这行会报错\n",
                "        print(data)\n",
                "except TypeError as e:\n",
                "    print(f\"直接使用失败: {e}\")"
            ]
        },
        {
            "cell_type": "code",
            "execution_count": 3,
            "id": "d5df988e-9c93-4acf-bf5f-ef378dea4c3d",
            "metadata": {},
            "outputs": [
                {
                    "name": "stdout",
                    "output_type": "stream",
                    "text": [
                        "收到数据: {'index': 0, 'timestamp': 1736852613.5019898}\n",
                        "收到数据: {'index': 1, 'timestamp': 1736852614.0034041}\n",
                        "收到数据: {'index': 2, 'timestamp': 1736852614.5053902}\n",
                        "收到数据: {'index': 3, 'timestamp': 1736852615.007243}\n",
                        "收到数据: {'index': 4, 'timestamp': 1736852615.508978}\n"
                    ]
                }
            ],
            "source": [
                "# 使用 AsyncUtils 包装后的正确使用方式\n",
                "for data in service.wrap_async_generator(complex_data_stream()):\n",
                "    print(f\"收到数据: {data}\")\n"
            ]
        },
        {
            "cell_type": "code",
            "execution_count": 4,
            "id": "2cff164a-6c41-48f8-824e-c7832f2653de",
            "metadata": {},
            "outputs": [],
            "source": [
                "# 或者使用异步上下文管理器\n",
                "async def process_stream():\n",
                "    async with service.managed_async():\n",
                "        async for data in complex_data_stream():\n",
                "            print(f\"异步处理数据: {data}\")"
            ]
        },
        {
            "cell_type": "code",
            "execution_count": 5,
            "id": "2a228346-da00-4974-8ad2-34b36e9a240a",
            "metadata": {},
            "outputs": [
                {
                    "name": "stdout",
                    "output_type": "stream",
                    "text": [
                        "异步处理数据: {'index': 0, 'timestamp': 1736852627.555938}\n",
                        "异步处理数据: {'index': 1, 'timestamp': 1736852628.057646}\n",
                        "异步处理数据: {'index': 2, 'timestamp': 1736852628.5585659}\n",
                        "异步处理数据: {'index': 3, 'timestamp': 1736852629.0596118}\n",
                        "异步处理数据: {'index': 4, 'timestamp': 1736852629.5607092}\n"
                    ]
                }
            ],
            "source": [
                "# 使用 to_sync 装饰器运行异步函数\n",
                "@service.to_sync\n",
                "async def run_process():\n",
                "    await process_stream()\n",
                "    \n",
                "run_process()"
            ]
        },
        {
            "cell_type": "code",
            "execution_count": 1,
            "id": "bbb72623-b9a2-412c-b6f4-7e039192adcf",
            "metadata": {},
            "outputs": [
                {
                    "name": "stdout",
                    "output_type": "stream",
                    "text": [
                        "{'content': 'hello', 'topic': 'test'}\n",
                        "{'block_type': 'end', 'topic': 'test'}\n"
                    ]
                }
            ],
            "source": [
                "from illufly.mq.message_bus import MessageBus\n",
                "\n",
                "bus = MessageBus()\n",
                "bus.subscribe(\"test\")\n",
                "\n",
                "bus.publish(\"test\", \"hello\")\n",
                "bus.publish(\"test\")\n",
                "\n",
                "for b in bus.collect():\n",
                "    print(b)"
            ]
        },
        {
            "cell_type": "code",
            "execution_count": 2,
            "id": "a6c41b66-ae99-46d6-b3ed-47807a3eface",
            "metadata": {},
            "outputs": [
                {
                    "name": "stdout",
                    "output_type": "stream",
                    "text": [
                        "{'content': 'hello', 'topic': 'test'}\n",
                        "{'content': 'world', 'topic': 'test'}\n",
                        "{'block_type': 'end', 'topic': 'test'}\n"
                    ]
                }
            ],
            "source": [
                "from illufly.mq.message_bus import MessageBus\n",
                "\n",
                "# 在 Jupyter 中使用\n",
                "bus = MessageBus()\n",
                "# bus.subscribe(\"test\")\n",
                "\n",
                "# 发布一些消息\n",
                "bus.publish(\"test\", \"hello\")\n",
                "bus.publish(\"test\", \"world\")\n",
                "bus.publish(\"test\", end=True)\n",
                "\n",
                "# 收集消息\n",
                "for msg in bus.collect():\n",
                "    print(msg)\n",
                "\n",
                "# 此时事件循环应该已经被正确清理"
            ]
        },
        {
            "cell_type": "code",
            "execution_count": 9,
            "id": "2273389e-4772-49be-92b9-1b9d8093e79d",
            "metadata": {},
            "outputs": [
                {
                    "data": {
                        "text/plain": [
                            "289234381"
                        ]
                    },
                    "execution_count": 9,
                    "metadata": {},
                    "output_type": "execute_result"
                }
            ],
            "source": [
                "a = MessageBus()\n",
                "a.__hash__()"
            ]
        },
        {
            "cell_type": "code",
            "execution_count": 10,
            "id": "b45cd199-803b-4b93-b914-c628405034cb",
            "metadata": {},
            "outputs": [
                {
                    "data": {
                        "text/plain": [
                            "<illufly.mq.message_bus.MessageBus at 0x113d5dcd0>"
                        ]
                    },
                    "execution_count": 10,
                    "metadata": {},
                    "output_type": "execute_result"
                }
            ],
            "source": [
                "a"
            ]
        },
        {
            "cell_type": "code",
            "execution_count": 11,
            "id": "c2b769c3-3a69-477b-b277-b36f673487f9",
            "metadata": {},
            "outputs": [
                {
                    "data": {
                        "text/plain": [
                            "289234381"
                        ]
                    },
                    "execution_count": 11,
                    "metadata": {},
                    "output_type": "execute_result"
                }
            ],
            "source": [
                "a.__hash__()"
            ]
        },
        {
            "cell_type": "code",
            "execution_count": null,
            "id": "0f6777ee-f2bd-4c9e-8aef-dd31d4d035b3",
            "metadata": {},
            "outputs": [],
            "source": []
        }
    ],
    "metadata": {
        "kernelspec": {
            "display_name": "Python 3 (ipykernel)",
            "language": "python",
            "name": "python3"
        },
        "language_info": {
            "codemirror_mode": {
                "name": "ipython",
                "version": 3
            },
            "file_extension": ".py",
            "mimetype": "text/x-python",
            "name": "python",
            "nbconvert_exporter": "python",
            "pygments_lexer": "ipython3",
            "version": "3.11.7"
        }
    },
    "nbformat": 4,
    "nbformat_minor": 5
}
