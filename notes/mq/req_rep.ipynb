{
 "cells": [
  {
   "cell_type": "code",
   "execution_count": 7,
   "id": "47dc5ef3-8977-4856-8538-41e0a3ea060f",
   "metadata": {},
   "outputs": [
    {
     "name": "stdout",
     "output_type": "stream",
     "text": [
      "同步调用:\n",
      "Result: sync: test\n",
      "\n",
      "异步调用:\n",
      "Async result: sync: test\n",
      "\n",
      "直接使用await：\n"
     ]
    },
    {
     "data": {
      "text/plain": [
       "'sync: test'"
      ]
     },
     "execution_count": 7,
     "metadata": {},
     "output_type": "execute_result"
    }
   ],
   "source": [
    "import logging\n",
    "logging.basicConfig(level=logging.DEBUG)\n",
    "logger = logging.getLogger('illufly.base.base_call')\n",
    "logger.setLevel(logging.WARNING)\n",
    "\n",
    "from illufly.base.base_call import BaseCall\n",
    "\n",
    "class SyncHandler(BaseCall):\n",
    "    def handle_call(self, value):\n",
    "        return f\"sync: {value}\"\n",
    "\n",
    "handler = SyncHandler()\n",
    "\n",
    "# 同步调用\n",
    "print(\"同步调用:\")\n",
    "result = handler(\"test\")\n",
    "print(f\"Result: {result}\")\n",
    "\n",
    "# 异步调用\n",
    "print(\"\\n异步调用:\")\n",
    "async def test_async():\n",
    "    result = await handler(\"test\")\n",
    "    print(f\"Async result: {result}\")\n",
    "\n",
    "# 在 Jupyter 中运行异步函数\n",
    "await test_async()\n",
    "\n",
    "# 直接使用 await\n",
    "print(\"\\n直接使用await：\")\n",
    "await handler(\"test\")"
   ]
  },
  {
   "cell_type": "code",
   "execution_count": 8,
   "id": "a1c37c25-f674-42ca-8051-9e947b0de1fd",
   "metadata": {},
   "outputs": [
    {
     "data": {
      "text/plain": [
       "<Future pending cb=[_chain_future.<locals>._call_check_cancel() at /Users/xuehongwei/.pyenv/versions/3.11.7/lib/python3.11/asyncio/futures.py:387]>"
      ]
     },
     "execution_count": 8,
     "metadata": {},
     "output_type": "execute_result"
    },
    {
     "name": "stderr",
     "output_type": "stream",
     "text": [
      "ERROR:illufly.base.base_call:Error in request processing: a coroutine was expected, got <Future pending cb=[_chain_future.<locals>._call_check_cancel() at /Users/xuehongwei/.pyenv/versions/3.11.7/lib/python3.11/asyncio/futures.py:387]>\n",
      "Traceback (most recent call last):\n",
      "  File \"/Users/xuehongwei/codeup/illufly/illufly/mq/req_rep_service.py\", line 130, in _process_requests\n",
      "    task = asyncio.create_task(\n",
      "           ^^^^^^^^^^^^^^^^^^^^\n",
      "  File \"/Users/xuehongwei/.pyenv/versions/3.11.7/lib/python3.11/asyncio/tasks.py\", line 384, in create_task\n",
      "    task = loop.create_task(coro)\n",
      "           ^^^^^^^^^^^^^^^^^^^^^^\n",
      "  File \"/Users/xuehongwei/.pyenv/versions/3.11.7/lib/python3.11/asyncio/base_events.py\", line 436, in create_task\n",
      "    task = tasks.Task(coro, loop=self, name=name, context=context)\n",
      "           ^^^^^^^^^^^^^^^^^^^^^^^^^^^^^^^^^^^^^^^^^^^^^^^^^^^^^^^\n",
      "TypeError: a coroutine was expected, got <Future pending cb=[_chain_future.<locals>._call_check_cancel() at /Users/xuehongwei/.pyenv/versions/3.11.7/lib/python3.11/asyncio/futures.py:387]>\n"
     ]
    }
   ],
   "source": [
    "from illufly.mq.req_rep_service import ReqRepService\n",
    "\n",
    "class MyService(ReqRepService):\n",
    "    \"\"\"测试用的异步服务\"\"\"\n",
    "    def handle_request(self, value):\n",
    "        return f\"processed: {value}\"\n",
    "\n",
    "ms = MyService()\n",
    "ms(\"hello\")"
   ]
  },
  {
   "cell_type": "code",
   "execution_count": 4,
   "id": "ba4a78b4-1ccb-43e1-b06e-a0e4a6733a54",
   "metadata": {},
   "outputs": [
    {
     "name": "stderr",
     "output_type": "stream",
     "text": [
      "/var/folders/f5/rlf27f4n6wzc_k4x7y4vzm5h0000gn/T/ipykernel_8909/59696818.py:1: RuntimeWarning: coroutine 'BaseCall.auto_call.<locals>.make_async_call' was never awaited\n",
      "  async for x in ms(\"hello\"):\n",
      "RuntimeWarning: Enable tracemalloc to get the object allocation traceback\n"
     ]
    },
    {
     "ename": "TypeError",
     "evalue": "'async for' requires an object with __aiter__ method, got coroutine",
     "output_type": "error",
     "traceback": [
      "\u001b[0;31m---------------------------------------------------------------------------\u001b[0m",
      "\u001b[0;31mTypeError\u001b[0m                                 Traceback (most recent call last)",
      "Cell \u001b[0;32mIn[4], line 1\u001b[0m\n\u001b[0;32m----> 1\u001b[0m \u001b[38;5;28;01masync\u001b[39;00m \u001b[38;5;28;01mfor\u001b[39;00m x \u001b[38;5;129;01min\u001b[39;00m ms(\u001b[38;5;124m\"\u001b[39m\u001b[38;5;124mhello\u001b[39m\u001b[38;5;124m\"\u001b[39m):\n\u001b[1;32m      2\u001b[0m     \u001b[38;5;28mprint\u001b[39m(x)\n",
      "\u001b[0;31mTypeError\u001b[0m: 'async for' requires an object with __aiter__ method, got coroutine"
     ]
    }
   ],
   "source": [
    "async for x in ms(\"hello\"):\n",
    "    print(x)"
   ]
  },
  {
   "cell_type": "code",
   "execution_count": null,
   "id": "a768c7c6-e604-4d16-b929-2098a528f7d8",
   "metadata": {},
   "outputs": [],
   "source": []
  }
 ],
 "metadata": {
  "kernelspec": {
   "display_name": "Python 3 (ipykernel)",
   "language": "python",
   "name": "python3"
  },
  "language_info": {
   "codemirror_mode": {
    "name": "ipython",
    "version": 3
   },
   "file_extension": ".py",
   "mimetype": "text/x-python",
   "name": "python",
   "nbconvert_exporter": "python",
   "pygments_lexer": "ipython3",
   "version": "3.11.7"
  }
 },
 "nbformat": 4,
 "nbformat_minor": 5
}
