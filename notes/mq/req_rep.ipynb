{
 "cells": [
  {
   "cell_type": "code",
   "execution_count": 3,
   "id": "47dc5ef3-8977-4856-8538-41e0a3ea060f",
   "metadata": {},
   "outputs": [
    {
     "name": "stdout",
     "output_type": "stream",
     "text": [
      "同步调用:\n"
     ]
    },
    {
     "ename": "AttributeError",
     "evalue": "'FrameInfo' object has no attribute 'f_code'",
     "output_type": "error",
     "traceback": [
      "\u001b[0;31m---------------------------------------------------------------------------\u001b[0m",
      "\u001b[0;31mAttributeError\u001b[0m                            Traceback (most recent call last)",
      "Cell \u001b[0;32mIn[3], line 16\u001b[0m\n\u001b[1;32m     14\u001b[0m \u001b[38;5;66;03m# 同步调用\u001b[39;00m\n\u001b[1;32m     15\u001b[0m \u001b[38;5;28mprint\u001b[39m(\u001b[38;5;124m\"\u001b[39m\u001b[38;5;124m同步调用:\u001b[39m\u001b[38;5;124m\"\u001b[39m)\n\u001b[0;32m---> 16\u001b[0m result \u001b[38;5;241m=\u001b[39m \u001b[43mhandler\u001b[49m\u001b[43m(\u001b[49m\u001b[38;5;124;43m\"\u001b[39;49m\u001b[38;5;124;43mtest\u001b[39;49m\u001b[38;5;124;43m\"\u001b[39;49m\u001b[43m)\u001b[49m\n\u001b[1;32m     17\u001b[0m \u001b[38;5;28mprint\u001b[39m(\u001b[38;5;124mf\u001b[39m\u001b[38;5;124m\"\u001b[39m\u001b[38;5;124mResult: \u001b[39m\u001b[38;5;132;01m{\u001b[39;00mresult\u001b[38;5;132;01m}\u001b[39;00m\u001b[38;5;124m\"\u001b[39m)\n\u001b[1;32m     19\u001b[0m \u001b[38;5;66;03m# 异步调用\u001b[39;00m\n",
      "File \u001b[0;32m~/codeup/illufly/illufly/base/base_call.py:185\u001b[0m, in \u001b[0;36mBaseCall.__call__\u001b[0;34m(self, *args, **kwargs)\u001b[0m\n\u001b[1;32m    183\u001b[0m \u001b[38;5;28;01mdef\u001b[39;00m\u001b[38;5;250m \u001b[39m\u001b[38;5;21m__call__\u001b[39m(\u001b[38;5;28mself\u001b[39m, \u001b[38;5;241m*\u001b[39margs, \u001b[38;5;241m*\u001b[39m\u001b[38;5;241m*\u001b[39mkwargs) \u001b[38;5;241m-\u001b[39m\u001b[38;5;241m>\u001b[39m Any:\n\u001b[1;32m    184\u001b[0m \u001b[38;5;250m    \u001b[39m\u001b[38;5;124;03m\"\"\"默认调用方法，使用默认的处理方法名\"\"\"\u001b[39;00m\n\u001b[0;32m--> 185\u001b[0m     \u001b[38;5;28;01mreturn\u001b[39;00m \u001b[38;5;28;43mself\u001b[39;49m\u001b[38;5;241;43m.\u001b[39;49m\u001b[43mauto_call\u001b[49m\u001b[43m(\u001b[49m\n\u001b[1;32m    186\u001b[0m \u001b[43m        \u001b[49m\u001b[38;5;28;43mself\u001b[39;49m\u001b[38;5;241;43m.\u001b[39;49m\u001b[43mhandle_call\u001b[49m\u001b[43m,\u001b[49m\n\u001b[1;32m    187\u001b[0m \u001b[43m        \u001b[49m\u001b[38;5;28;43mself\u001b[39;49m\u001b[38;5;241;43m.\u001b[39;49m\u001b[43masync_handle_call\u001b[49m\u001b[43m,\u001b[49m\n\u001b[1;32m    188\u001b[0m \u001b[43m        \u001b[49m\u001b[43mbase_class\u001b[49m\u001b[38;5;241;43m=\u001b[39;49m\u001b[43mBaseCall\u001b[49m\n\u001b[1;32m    189\u001b[0m \u001b[43m    \u001b[49m\u001b[43m)\u001b[49m\u001b[43m(\u001b[49m\u001b[38;5;241;43m*\u001b[39;49m\u001b[43margs\u001b[49m\u001b[43m,\u001b[49m\u001b[43m \u001b[49m\u001b[38;5;241;43m*\u001b[39;49m\u001b[38;5;241;43m*\u001b[39;49m\u001b[43mkwargs\u001b[49m\u001b[43m)\u001b[49m\n",
      "File \u001b[0;32m~/codeup/illufly/illufly/base/base_call.py:152\u001b[0m, in \u001b[0;36mBaseCall.auto_call.<locals>.wrapper\u001b[0;34m(*args, **kwargs)\u001b[0m\n\u001b[1;32m    151\u001b[0m \u001b[38;5;28;01mdef\u001b[39;00m\u001b[38;5;250m \u001b[39m\u001b[38;5;21mwrapper\u001b[39m(\u001b[38;5;241m*\u001b[39margs, \u001b[38;5;241m*\u001b[39m\u001b[38;5;241m*\u001b[39mkwargs):\n\u001b[0;32m--> 152\u001b[0m     is_async \u001b[38;5;241m=\u001b[39m \u001b[38;5;28;43mself\u001b[39;49m\u001b[38;5;241;43m.\u001b[39;49m\u001b[43m_is_async_context\u001b[49m\u001b[43m(\u001b[49m\u001b[43m)\u001b[49m\n\u001b[1;32m    153\u001b[0m     is_jupyter \u001b[38;5;241m=\u001b[39m \u001b[38;5;28mself\u001b[39m\u001b[38;5;241m.\u001b[39m_is_jupyter_cell()\n\u001b[1;32m    154\u001b[0m     \u001b[38;5;28mself\u001b[39m\u001b[38;5;241m.\u001b[39m_logger\u001b[38;5;241m.\u001b[39mdebug(\u001b[38;5;124mf\u001b[39m\u001b[38;5;124m\"\u001b[39m\u001b[38;5;124mContext detection - async: \u001b[39m\u001b[38;5;132;01m{\u001b[39;00mis_async\u001b[38;5;132;01m}\u001b[39;00m\u001b[38;5;124m, jupyter: \u001b[39m\u001b[38;5;132;01m{\u001b[39;00mis_jupyter\u001b[38;5;132;01m}\u001b[39;00m\u001b[38;5;124m\"\u001b[39m)\n",
      "File \u001b[0;32m~/codeup/illufly/illufly/base/base_call.py:66\u001b[0m, in \u001b[0;36mBaseCall._is_async_context\u001b[0;34m(self)\u001b[0m\n\u001b[1;32m     64\u001b[0m \u001b[38;5;28mself\u001b[39m\u001b[38;5;241m.\u001b[39m_logger\u001b[38;5;241m.\u001b[39mdebug(\u001b[38;5;124m\"\u001b[39m\u001b[38;5;124mIn Jupyter but no user async function found\u001b[39m\u001b[38;5;124m\"\u001b[39m)\n\u001b[1;32m     65\u001b[0m \u001b[38;5;66;03m# 如果是 ReqRepService，则返回 False 以使用同步模式\u001b[39;00m\n\u001b[0;32m---> 66\u001b[0m \u001b[38;5;28;01mif\u001b[39;00m \u001b[38;5;28;43many\u001b[39;49m\u001b[43m(\u001b[49m\u001b[38;5;124;43m'\u001b[39;49m\u001b[38;5;124;43mreq_rep_service.py\u001b[39;49m\u001b[38;5;124;43m'\u001b[39;49m\u001b[43m \u001b[49m\u001b[38;5;129;43;01min\u001b[39;49;00m\u001b[43m \u001b[49m\u001b[43mf\u001b[49m\u001b[38;5;241;43m.\u001b[39;49m\u001b[43mf_code\u001b[49m\u001b[38;5;241;43m.\u001b[39;49m\u001b[43mco_filename\u001b[49m\u001b[43m \u001b[49m\u001b[38;5;28;43;01mfor\u001b[39;49;00m\u001b[43m \u001b[49m\u001b[43mf\u001b[49m\u001b[43m \u001b[49m\u001b[38;5;129;43;01min\u001b[39;49;00m\u001b[43m \u001b[49m\u001b[43minspect\u001b[49m\u001b[38;5;241;43m.\u001b[39;49m\u001b[43mstack\u001b[49m\u001b[43m(\u001b[49m\u001b[43m)\u001b[49m\u001b[43m)\u001b[49m:\n\u001b[1;32m     67\u001b[0m     \u001b[38;5;28mself\u001b[39m\u001b[38;5;241m.\u001b[39m_logger\u001b[38;5;241m.\u001b[39mdebug(\u001b[38;5;124m\"\u001b[39m\u001b[38;5;124mFound ReqRepService in Jupyter, using sync mode\u001b[39m\u001b[38;5;124m\"\u001b[39m)\n\u001b[1;32m     68\u001b[0m     \u001b[38;5;28;01mreturn\u001b[39;00m \u001b[38;5;28;01mFalse\u001b[39;00m\n",
      "File \u001b[0;32m~/codeup/illufly/illufly/base/base_call.py:66\u001b[0m, in \u001b[0;36m<genexpr>\u001b[0;34m(.0)\u001b[0m\n\u001b[1;32m     64\u001b[0m \u001b[38;5;28mself\u001b[39m\u001b[38;5;241m.\u001b[39m_logger\u001b[38;5;241m.\u001b[39mdebug(\u001b[38;5;124m\"\u001b[39m\u001b[38;5;124mIn Jupyter but no user async function found\u001b[39m\u001b[38;5;124m\"\u001b[39m)\n\u001b[1;32m     65\u001b[0m \u001b[38;5;66;03m# 如果是 ReqRepService，则返回 False 以使用同步模式\u001b[39;00m\n\u001b[0;32m---> 66\u001b[0m \u001b[38;5;28;01mif\u001b[39;00m \u001b[38;5;28many\u001b[39m(\u001b[38;5;124m'\u001b[39m\u001b[38;5;124mreq_rep_service.py\u001b[39m\u001b[38;5;124m'\u001b[39m \u001b[38;5;129;01min\u001b[39;00m \u001b[43mf\u001b[49m\u001b[38;5;241;43m.\u001b[39;49m\u001b[43mf_code\u001b[49m\u001b[38;5;241m.\u001b[39mco_filename \u001b[38;5;28;01mfor\u001b[39;00m f \u001b[38;5;129;01min\u001b[39;00m inspect\u001b[38;5;241m.\u001b[39mstack()):\n\u001b[1;32m     67\u001b[0m     \u001b[38;5;28mself\u001b[39m\u001b[38;5;241m.\u001b[39m_logger\u001b[38;5;241m.\u001b[39mdebug(\u001b[38;5;124m\"\u001b[39m\u001b[38;5;124mFound ReqRepService in Jupyter, using sync mode\u001b[39m\u001b[38;5;124m\"\u001b[39m)\n\u001b[1;32m     68\u001b[0m     \u001b[38;5;28;01mreturn\u001b[39;00m \u001b[38;5;28;01mFalse\u001b[39;00m\n",
      "\u001b[0;31mAttributeError\u001b[0m: 'FrameInfo' object has no attribute 'f_code'"
     ]
    }
   ],
   "source": [
    "import logging\n",
    "logging.basicConfig(level=logging.DEBUG)\n",
    "logger = logging.getLogger('illufly.base.base_call')\n",
    "logger.setLevel(logging.WARNING)\n",
    "\n",
    "from illufly.base.base_call import BaseCall\n",
    "\n",
    "class SyncHandler(BaseCall):\n",
    "    def handle_call(self, value):\n",
    "        return f\"sync: {value}\"\n",
    "\n",
    "handler = SyncHandler()\n",
    "\n",
    "# 同步调用\n",
    "print(\"同步调用:\")\n",
    "result = handler(\"test\")\n",
    "print(f\"Result: {result}\")\n",
    "\n",
    "# 异步调用\n",
    "print(\"\\n异步调用:\")\n",
    "async def test_async():\n",
    "    result = await handler(\"test\")\n",
    "    print(f\"Async result: {result}\")\n",
    "\n",
    "# 在 Jupyter 中运行异步函数\n",
    "await test_async()\n",
    "\n",
    "# 直接使用 await\n",
    "print(\"\\n直接使用await：\")\n",
    "await handler(\"test\")"
   ]
  },
  {
   "cell_type": "code",
   "execution_count": 1,
   "id": "a1c37c25-f674-42ca-8051-9e947b0de1fd",
   "metadata": {},
   "outputs": [
    {
     "name": "stderr",
     "output_type": "stream",
     "text": [
      "DEBUG:illufly.base.base_call:Initializing REP service with context type: <class 'zmq.sugar.context.Context'>\n",
      "DEBUG:illufly.base.base_call:Created REP socket type: <class 'zmq.sugar.socket.Socket'>\n",
      "INFO:illufly.base.base_call:REP socket bound to inproc://req.MyService.4528539984\n",
      "DEBUG:illufly.base.base_call:Found existing event loop\n",
      "DEBUG:illufly.base.base_call:Created REQ socket type: <class 'zmq.sugar.socket.Socket'>\n",
      "INFO:illufly.base.base_call:Requester connected to: inproc://req.MyService.4528539984\n",
      "INFO:illufly.base.base_call:REP service started\n",
      "INFO:illufly.base.base_call:Requester connected to: inproc://req.MyService.4528539984\n",
      "DEBUG:illufly.base.base_call:Checking frame: _is_async_context in /Users/xuehongwei/codeup/illufly/illufly/base/base_call.py (is_coro: False)\n",
      "DEBUG:illufly.base.base_call:Checking frame: wrapper in /Users/xuehongwei/codeup/illufly/illufly/base/base_call.py (is_coro: False)\n",
      "DEBUG:illufly.base.base_call:Checking frame: __call__ in /Users/xuehongwei/codeup/illufly/illufly/base/base_call.py (is_coro: False)\n",
      "DEBUG:illufly.base.base_call:Checking frame: <module> in /var/folders/f5/rlf27f4n6wzc_k4x7y4vzm5h0000gn/T/ipykernel_21111/3502980992.py (is_coro: False)\n",
      "DEBUG:illufly.base.base_call:Checking frame: run_code in /Users/xuehongwei/Library/Caches/pypoetry/virtualenvs/illufly-aqv9UXCP-py3.11/lib/python3.11/site-packages/IPython/core/interactiveshell.py (is_coro: True)\n",
      "DEBUG:illufly.base.base_call:Checking frame: run_ast_nodes in /Users/xuehongwei/Library/Caches/pypoetry/virtualenvs/illufly-aqv9UXCP-py3.11/lib/python3.11/site-packages/IPython/core/interactiveshell.py (is_coro: True)\n",
      "DEBUG:illufly.base.base_call:Checking frame: run_cell_async in /Users/xuehongwei/Library/Caches/pypoetry/virtualenvs/illufly-aqv9UXCP-py3.11/lib/python3.11/site-packages/IPython/core/interactiveshell.py (is_coro: True)\n",
      "DEBUG:illufly.base.base_call:Checking frame: _pseudo_sync_runner in /Users/xuehongwei/Library/Caches/pypoetry/virtualenvs/illufly-aqv9UXCP-py3.11/lib/python3.11/site-packages/IPython/core/async_helpers.py (is_coro: False)\n",
      "DEBUG:illufly.base.base_call:Checking frame: _run_cell in /Users/xuehongwei/Library/Caches/pypoetry/virtualenvs/illufly-aqv9UXCP-py3.11/lib/python3.11/site-packages/IPython/core/interactiveshell.py (is_coro: False)\n",
      "DEBUG:illufly.base.base_call:Checking frame: run_cell in /Users/xuehongwei/Library/Caches/pypoetry/virtualenvs/illufly-aqv9UXCP-py3.11/lib/python3.11/site-packages/IPython/core/interactiveshell.py (is_coro: False)\n",
      "DEBUG:illufly.base.base_call:Checking frame: run_cell in /Users/xuehongwei/Library/Caches/pypoetry/virtualenvs/illufly-aqv9UXCP-py3.11/lib/python3.11/site-packages/ipykernel/zmqshell.py (is_coro: False)\n",
      "DEBUG:illufly.base.base_call:Checking frame: do_execute in /Users/xuehongwei/Library/Caches/pypoetry/virtualenvs/illufly-aqv9UXCP-py3.11/lib/python3.11/site-packages/ipykernel/ipkernel.py (is_coro: True)\n",
      "DEBUG:illufly.base.base_call:Checking frame: execute_request in /Users/xuehongwei/Library/Caches/pypoetry/virtualenvs/illufly-aqv9UXCP-py3.11/lib/python3.11/site-packages/ipykernel/kernelbase.py (is_coro: True)\n",
      "DEBUG:illufly.base.base_call:Checking frame: execute_request in /Users/xuehongwei/Library/Caches/pypoetry/virtualenvs/illufly-aqv9UXCP-py3.11/lib/python3.11/site-packages/ipykernel/ipkernel.py (is_coro: True)\n",
      "DEBUG:illufly.base.base_call:Checking frame: dispatch_shell in /Users/xuehongwei/Library/Caches/pypoetry/virtualenvs/illufly-aqv9UXCP-py3.11/lib/python3.11/site-packages/ipykernel/kernelbase.py (is_coro: True)\n",
      "DEBUG:illufly.base.base_call:Checking frame: process_one in /Users/xuehongwei/Library/Caches/pypoetry/virtualenvs/illufly-aqv9UXCP-py3.11/lib/python3.11/site-packages/ipykernel/kernelbase.py (is_coro: True)\n",
      "DEBUG:illufly.base.base_call:Checking frame: dispatch_queue in /Users/xuehongwei/Library/Caches/pypoetry/virtualenvs/illufly-aqv9UXCP-py3.11/lib/python3.11/site-packages/ipykernel/kernelbase.py (is_coro: True)\n",
      "DEBUG:illufly.base.base_call:Checking frame: _run in /Users/xuehongwei/.pyenv/versions/3.11.7/lib/python3.11/asyncio/events.py (is_coro: False)\n",
      "DEBUG:illufly.base.base_call:Checking frame: _run_once in /Users/xuehongwei/.pyenv/versions/3.11.7/lib/python3.11/asyncio/base_events.py (is_coro: False)\n",
      "DEBUG:illufly.base.base_call:Checking frame: run_forever in /Users/xuehongwei/.pyenv/versions/3.11.7/lib/python3.11/asyncio/base_events.py (is_coro: False)\n",
      "DEBUG:illufly.base.base_call:Checking frame: start in /Users/xuehongwei/Library/Caches/pypoetry/virtualenvs/illufly-aqv9UXCP-py3.11/lib/python3.11/site-packages/tornado/platform/asyncio.py (is_coro: False)\n",
      "DEBUG:illufly.base.base_call:Checking frame: start in /Users/xuehongwei/Library/Caches/pypoetry/virtualenvs/illufly-aqv9UXCP-py3.11/lib/python3.11/site-packages/ipykernel/kernelapp.py (is_coro: False)\n",
      "DEBUG:illufly.base.base_call:Checking frame: launch_instance in /Users/xuehongwei/Library/Caches/pypoetry/virtualenvs/illufly-aqv9UXCP-py3.11/lib/python3.11/site-packages/traitlets/config/application.py (is_coro: False)\n",
      "DEBUG:illufly.base.base_call:Checking frame: <module> in /Users/xuehongwei/Library/Caches/pypoetry/virtualenvs/illufly-aqv9UXCP-py3.11/lib/python3.11/site-packages/ipykernel_launcher.py (is_coro: False)\n",
      "DEBUG:illufly.base.base_call:Checking frame: _run_code in <frozen runpy> (is_coro: False)\n",
      "DEBUG:illufly.base.base_call:Checking frame: _run_module_as_main in <frozen runpy> (is_coro: False)\n",
      "DEBUG:illufly.base.base_call:Checking frame filename: /Users/xuehongwei/codeup/illufly/illufly/base/base_call.py\n",
      "DEBUG:illufly.base.base_call:Checking frame filename: /Users/xuehongwei/codeup/illufly/illufly/base/base_call.py\n",
      "DEBUG:illufly.base.base_call:Checking frame filename: /Users/xuehongwei/codeup/illufly/illufly/base/base_call.py\n",
      "DEBUG:illufly.base.base_call:Checking frame filename: /Users/xuehongwei/codeup/illufly/illufly/base/base_call.py\n",
      "DEBUG:illufly.base.base_call:Checking frame filename: /var/folders/f5/rlf27f4n6wzc_k4x7y4vzm5h0000gn/T/ipykernel_21111/3502980992.py\n",
      "DEBUG:illufly.base.base_call:Found Jupyter environment in /var/folders/f5/rlf27f4n6wzc_k4x7y4vzm5h0000gn/T/ipykernel_21111/3502980992.py\n",
      "DEBUG:illufly.base.base_call:In Jupyter but no user async function found\n"
     ]
    },
    {
     "ename": "AttributeError",
     "evalue": "'FrameInfo' object has no attribute 'f_code'",
     "output_type": "error",
     "traceback": [
      "\u001b[0;31m---------------------------------------------------------------------------\u001b[0m",
      "\u001b[0;31mAttributeError\u001b[0m                            Traceback (most recent call last)",
      "Cell \u001b[0;32mIn[1], line 13\u001b[0m\n\u001b[1;32m     10\u001b[0m         \u001b[38;5;28;01mreturn\u001b[39;00m \u001b[38;5;124mf\u001b[39m\u001b[38;5;124m\"\u001b[39m\u001b[38;5;124mprocessed: \u001b[39m\u001b[38;5;132;01m{\u001b[39;00mvalue\u001b[38;5;132;01m}\u001b[39;00m\u001b[38;5;124m\"\u001b[39m\n\u001b[1;32m     12\u001b[0m ms \u001b[38;5;241m=\u001b[39m MyService()\n\u001b[0;32m---> 13\u001b[0m \u001b[43mms\u001b[49m\u001b[43m(\u001b[49m\u001b[38;5;124;43m\"\u001b[39;49m\u001b[38;5;124;43mhello\u001b[39;49m\u001b[38;5;124;43m\"\u001b[39;49m\u001b[43m)\u001b[49m\n",
      "File \u001b[0;32m~/codeup/illufly/illufly/base/base_call.py:185\u001b[0m, in \u001b[0;36mBaseCall.__call__\u001b[0;34m(self, *args, **kwargs)\u001b[0m\n\u001b[1;32m    183\u001b[0m \u001b[38;5;28;01mdef\u001b[39;00m\u001b[38;5;250m \u001b[39m\u001b[38;5;21m__call__\u001b[39m(\u001b[38;5;28mself\u001b[39m, \u001b[38;5;241m*\u001b[39margs, \u001b[38;5;241m*\u001b[39m\u001b[38;5;241m*\u001b[39mkwargs) \u001b[38;5;241m-\u001b[39m\u001b[38;5;241m>\u001b[39m Any:\n\u001b[1;32m    184\u001b[0m \u001b[38;5;250m    \u001b[39m\u001b[38;5;124;03m\"\"\"默认调用方法，使用默认的处理方法名\"\"\"\u001b[39;00m\n\u001b[0;32m--> 185\u001b[0m     \u001b[38;5;28;01mreturn\u001b[39;00m \u001b[38;5;28;43mself\u001b[39;49m\u001b[38;5;241;43m.\u001b[39;49m\u001b[43mauto_call\u001b[49m\u001b[43m(\u001b[49m\n\u001b[1;32m    186\u001b[0m \u001b[43m        \u001b[49m\u001b[38;5;28;43mself\u001b[39;49m\u001b[38;5;241;43m.\u001b[39;49m\u001b[43mhandle_call\u001b[49m\u001b[43m,\u001b[49m\n\u001b[1;32m    187\u001b[0m \u001b[43m        \u001b[49m\u001b[38;5;28;43mself\u001b[39;49m\u001b[38;5;241;43m.\u001b[39;49m\u001b[43masync_handle_call\u001b[49m\u001b[43m,\u001b[49m\n\u001b[1;32m    188\u001b[0m \u001b[43m        \u001b[49m\u001b[43mbase_class\u001b[49m\u001b[38;5;241;43m=\u001b[39;49m\u001b[43mBaseCall\u001b[49m\n\u001b[1;32m    189\u001b[0m \u001b[43m    \u001b[49m\u001b[43m)\u001b[49m\u001b[43m(\u001b[49m\u001b[38;5;241;43m*\u001b[39;49m\u001b[43margs\u001b[49m\u001b[43m,\u001b[49m\u001b[43m \u001b[49m\u001b[38;5;241;43m*\u001b[39;49m\u001b[38;5;241;43m*\u001b[39;49m\u001b[43mkwargs\u001b[49m\u001b[43m)\u001b[49m\n",
      "File \u001b[0;32m~/codeup/illufly/illufly/base/base_call.py:152\u001b[0m, in \u001b[0;36mBaseCall.auto_call.<locals>.wrapper\u001b[0;34m(*args, **kwargs)\u001b[0m\n\u001b[1;32m    151\u001b[0m \u001b[38;5;28;01mdef\u001b[39;00m\u001b[38;5;250m \u001b[39m\u001b[38;5;21mwrapper\u001b[39m(\u001b[38;5;241m*\u001b[39margs, \u001b[38;5;241m*\u001b[39m\u001b[38;5;241m*\u001b[39mkwargs):\n\u001b[0;32m--> 152\u001b[0m     is_async \u001b[38;5;241m=\u001b[39m \u001b[38;5;28;43mself\u001b[39;49m\u001b[38;5;241;43m.\u001b[39;49m\u001b[43m_is_async_context\u001b[49m\u001b[43m(\u001b[49m\u001b[43m)\u001b[49m\n\u001b[1;32m    153\u001b[0m     is_jupyter \u001b[38;5;241m=\u001b[39m \u001b[38;5;28mself\u001b[39m\u001b[38;5;241m.\u001b[39m_is_jupyter_cell()\n\u001b[1;32m    154\u001b[0m     \u001b[38;5;28mself\u001b[39m\u001b[38;5;241m.\u001b[39m_logger\u001b[38;5;241m.\u001b[39mdebug(\u001b[38;5;124mf\u001b[39m\u001b[38;5;124m\"\u001b[39m\u001b[38;5;124mContext detection - async: \u001b[39m\u001b[38;5;132;01m{\u001b[39;00mis_async\u001b[38;5;132;01m}\u001b[39;00m\u001b[38;5;124m, jupyter: \u001b[39m\u001b[38;5;132;01m{\u001b[39;00mis_jupyter\u001b[38;5;132;01m}\u001b[39;00m\u001b[38;5;124m\"\u001b[39m)\n",
      "File \u001b[0;32m~/codeup/illufly/illufly/base/base_call.py:66\u001b[0m, in \u001b[0;36mBaseCall._is_async_context\u001b[0;34m(self)\u001b[0m\n\u001b[1;32m     64\u001b[0m \u001b[38;5;28mself\u001b[39m\u001b[38;5;241m.\u001b[39m_logger\u001b[38;5;241m.\u001b[39mdebug(\u001b[38;5;124m\"\u001b[39m\u001b[38;5;124mIn Jupyter but no user async function found\u001b[39m\u001b[38;5;124m\"\u001b[39m)\n\u001b[1;32m     65\u001b[0m \u001b[38;5;66;03m# 如果是 ReqRepService，则返回 False 以使用同步模式\u001b[39;00m\n\u001b[0;32m---> 66\u001b[0m \u001b[38;5;28;01mif\u001b[39;00m \u001b[38;5;28;43many\u001b[39;49m\u001b[43m(\u001b[49m\u001b[38;5;124;43m'\u001b[39;49m\u001b[38;5;124;43mreq_rep_service.py\u001b[39;49m\u001b[38;5;124;43m'\u001b[39;49m\u001b[43m \u001b[49m\u001b[38;5;129;43;01min\u001b[39;49;00m\u001b[43m \u001b[49m\u001b[43mf\u001b[49m\u001b[38;5;241;43m.\u001b[39;49m\u001b[43mf_code\u001b[49m\u001b[38;5;241;43m.\u001b[39;49m\u001b[43mco_filename\u001b[49m\u001b[43m \u001b[49m\u001b[38;5;28;43;01mfor\u001b[39;49;00m\u001b[43m \u001b[49m\u001b[43mf\u001b[49m\u001b[43m \u001b[49m\u001b[38;5;129;43;01min\u001b[39;49;00m\u001b[43m \u001b[49m\u001b[43minspect\u001b[49m\u001b[38;5;241;43m.\u001b[39;49m\u001b[43mstack\u001b[49m\u001b[43m(\u001b[49m\u001b[43m)\u001b[49m\u001b[43m)\u001b[49m:\n\u001b[1;32m     67\u001b[0m     \u001b[38;5;28mself\u001b[39m\u001b[38;5;241m.\u001b[39m_logger\u001b[38;5;241m.\u001b[39mdebug(\u001b[38;5;124m\"\u001b[39m\u001b[38;5;124mFound ReqRepService in Jupyter, using sync mode\u001b[39m\u001b[38;5;124m\"\u001b[39m)\n\u001b[1;32m     68\u001b[0m     \u001b[38;5;28;01mreturn\u001b[39;00m \u001b[38;5;28;01mFalse\u001b[39;00m\n",
      "File \u001b[0;32m~/codeup/illufly/illufly/base/base_call.py:66\u001b[0m, in \u001b[0;36m<genexpr>\u001b[0;34m(.0)\u001b[0m\n\u001b[1;32m     64\u001b[0m \u001b[38;5;28mself\u001b[39m\u001b[38;5;241m.\u001b[39m_logger\u001b[38;5;241m.\u001b[39mdebug(\u001b[38;5;124m\"\u001b[39m\u001b[38;5;124mIn Jupyter but no user async function found\u001b[39m\u001b[38;5;124m\"\u001b[39m)\n\u001b[1;32m     65\u001b[0m \u001b[38;5;66;03m# 如果是 ReqRepService，则返回 False 以使用同步模式\u001b[39;00m\n\u001b[0;32m---> 66\u001b[0m \u001b[38;5;28;01mif\u001b[39;00m \u001b[38;5;28many\u001b[39m(\u001b[38;5;124m'\u001b[39m\u001b[38;5;124mreq_rep_service.py\u001b[39m\u001b[38;5;124m'\u001b[39m \u001b[38;5;129;01min\u001b[39;00m \u001b[43mf\u001b[49m\u001b[38;5;241;43m.\u001b[39;49m\u001b[43mf_code\u001b[49m\u001b[38;5;241m.\u001b[39mco_filename \u001b[38;5;28;01mfor\u001b[39;00m f \u001b[38;5;129;01min\u001b[39;00m inspect\u001b[38;5;241m.\u001b[39mstack()):\n\u001b[1;32m     67\u001b[0m     \u001b[38;5;28mself\u001b[39m\u001b[38;5;241m.\u001b[39m_logger\u001b[38;5;241m.\u001b[39mdebug(\u001b[38;5;124m\"\u001b[39m\u001b[38;5;124mFound ReqRepService in Jupyter, using sync mode\u001b[39m\u001b[38;5;124m\"\u001b[39m)\n\u001b[1;32m     68\u001b[0m     \u001b[38;5;28;01mreturn\u001b[39;00m \u001b[38;5;28;01mFalse\u001b[39;00m\n",
      "\u001b[0;31mAttributeError\u001b[0m: 'FrameInfo' object has no attribute 'f_code'"
     ]
    },
    {
     "name": "stderr",
     "output_type": "stream",
     "text": [
      "DEBUG:illufly.base.base_call:Starting request processing loop\n"
     ]
    }
   ],
   "source": [
    "from illufly.mq.req_rep_service import ReqRepService\n",
    "import logging\n",
    "logging.basicConfig(level=logging.DEBUG)\n",
    "logger = logging.getLogger('illufly.base.base_call')\n",
    "logger.setLevel(logging.DEBUG)\n",
    "\n",
    "class MyService(ReqRepService):\n",
    "    \"\"\"测试用的异步服务\"\"\"\n",
    "    def handle_request(self, value):\n",
    "        return f\"processed: {value}\"\n",
    "\n",
    "ms = MyService()\n",
    "ms(\"hello\")"
   ]
  },
  {
   "cell_type": "code",
   "execution_count": null,
   "id": "a768c7c6-e604-4d16-b929-2098a528f7d8",
   "metadata": {},
   "outputs": [],
   "source": []
  }
 ],
 "metadata": {
  "kernelspec": {
   "display_name": "Python 3 (ipykernel)",
   "language": "python",
   "name": "python3"
  },
  "language_info": {
   "codemirror_mode": {
    "name": "ipython",
    "version": 3
   },
   "file_extension": ".py",
   "mimetype": "text/x-python",
   "name": "python",
   "nbconvert_exporter": "python",
   "pygments_lexer": "ipython3",
   "version": "3.11.7"
  }
 },
 "nbformat": 4,
 "nbformat_minor": 5
}
