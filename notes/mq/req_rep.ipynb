{
 "cells": [
  {
   "cell_type": "code",
   "execution_count": 3,
   "id": "47dc5ef3-8977-4856-8538-41e0a3ea060f",
   "metadata": {},
   "outputs": [
    {
     "name": "stdout",
     "output_type": "stream",
     "text": [
      "同步调用:\n",
      "Result: sync: test\n",
      "\n",
      "直接使用await：\n"
     ]
    },
    {
     "data": {
      "text/plain": [
       "'async: test'"
      ]
     },
     "execution_count": 3,
     "metadata": {},
     "output_type": "execute_result"
    }
   ],
   "source": [
    "from illufly.base.base_call import BaseCall\n",
    "\n",
    "class BothHandler(BaseCall):\n",
    "    def __init__(self):\n",
    "        super().__init__()\n",
    "        self.register_method(\n",
    "            \"handle\",\n",
    "            sync_handle=self.handle_request,\n",
    "            async_handle=self.async_handle_request\n",
    "        )        \n",
    "    def handle_request(self, value):\n",
    "        return f\"sync: {value}\"\n",
    "    async def async_handle_request(self, value):\n",
    "        return f\"async: {value}\"\n",
    "\n",
    "handler = BothHandler()\n",
    "\n",
    "# 同步调用\n",
    "print(\"同步调用:\")\n",
    "result = handler.sync_method(\"handle\", \"test\")\n",
    "print(f\"Result: {result}\")\n",
    "\n",
    "# 直接使用 await\n",
    "print(\"\\n直接使用await：\")\n",
    "await handler.async_method(\"handle\", \"test\")"
   ]
  },
  {
   "cell_type": "code",
   "execution_count": 7,
   "id": "a1c37c25-f674-42ca-8051-9e947b0de1fd",
   "metadata": {},
   "outputs": [
    {
     "name": "stdout",
     "output_type": "stream",
     "text": [
      "[{'status': 'success', 'message': '收到消息: 测试消息', 'topic': 'test_service.2af975d8-d3c8-11ef-abbd-acde48001122'}, {'block_type': 'end', 'topic': 'test_service.2af975d8-d3c8-11ef-abbd-acde48001122'}]\n"
     ]
    }
   ],
   "source": [
    "from illufly.base.base_service import BaseService\n",
    "from illufly.mq.message_bus import MessageBus\n",
    "\n",
    "class MyService(BaseService):\n",
    "    \"\"\"用于测试的服务类\"\"\"\n",
    "    def __init__(self, service_name: str = \"test_service\", message_bus_address: str = None):\n",
    "        super().__init__(service_name, message_bus_address)\n",
    "        self.register_method(\"server\", async_handle=self._async_handler)\n",
    "    \n",
    "    async def _async_handler(self, message: str, thread_id: str, message_bus: MessageBus):\n",
    "        \"\"\"异步处理器\"\"\"\n",
    "        response = {\"status\": \"success\", \"message\": f\"收到消息: {message}\"}\n",
    "        message_bus.publish(thread_id, response)\n",
    "        return response\n",
    "\n",
    "service = MyService()\n",
    "resp = service.call(message=\"测试消息\")\n",
    "print(list(resp))"
   ]
  },
  {
   "cell_type": "code",
   "execution_count": 8,
   "id": "630bcb88-6369-4682-abf4-71e670b36a29",
   "metadata": {},
   "outputs": [
    {
     "name": "stdout",
     "output_type": "stream",
     "text": [
      "{'status': 'success', 'message': '收到消息: hi', 'topic': 'test_service.3116e7e8-d3c8-11ef-abbd-acde48001122'}\n",
      "{'block_type': 'end', 'topic': 'test_service.3116e7e8-d3c8-11ef-abbd-acde48001122'}\n"
     ]
    }
   ],
   "source": [
    "resp = await service.async_call(message=\"hi\")\n",
    "async for x in resp:\n",
    "    print(x)"
   ]
  },
  {
   "cell_type": "code",
   "execution_count": null,
   "id": "481e5bb0-2fbb-4489-ade8-3530e4a22c32",
   "metadata": {},
   "outputs": [],
   "source": []
  }
 ],
 "metadata": {
  "kernelspec": {
   "display_name": "Python 3 (ipykernel)",
   "language": "python",
   "name": "python3"
  },
  "language_info": {
   "codemirror_mode": {
    "name": "ipython",
    "version": 3
   },
   "file_extension": ".py",
   "mimetype": "text/x-python",
   "name": "python",
   "nbconvert_exporter": "python",
   "pygments_lexer": "ipython3",
   "version": "3.11.7"
  }
 },
 "nbformat": 4,
 "nbformat_minor": 5
}
