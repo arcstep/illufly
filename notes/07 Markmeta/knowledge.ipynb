{
 "cells": [
  {
   "cell_type": "markdown",
   "id": "5111a110-4336-42ab-b481-71ab2434595b",
   "metadata": {},
   "source": [
    "## 知识管理"
   ]
  },
  {
   "cell_type": "markdown",
   "id": "285e8486-aa1c-496b-a62e-aaf908f13c35",
   "metadata": {},
   "source": [
    "### 创建"
   ]
  },
  {
   "cell_type": "code",
   "execution_count": 1,
   "id": "4300ea32-89d1-45b8-b9c8-d56855290e79",
   "metadata": {},
   "outputs": [],
   "source": [
    "from illufly.io import BaseKnowledge\n",
    "\n",
    "kg = BaseKnowledge()"
   ]
  },
  {
   "cell_type": "code",
   "execution_count": 2,
   "id": "e1beb7ab-ef42-49a1-a980-4d3c62d44c73",
   "metadata": {},
   "outputs": [
    {
     "data": {
      "text/plain": [
       "'20241207-81683-0001-0865'"
      ]
     },
     "execution_count": 2,
     "metadata": {},
     "output_type": "execute_result"
    }
   ],
   "source": [
    "kg.add(\"我是诸葛浪\", tags=[\"个人资料\"])\n",
    "kg.add(\"草船借箭\", tags=[\"故事\", \"三国\"])"
   ]
  },
  {
   "cell_type": "markdown",
   "id": "fb56721e-e936-4542-8df0-12c516e81794",
   "metadata": {},
   "source": [
    "### 查询"
   ]
  },
  {
   "cell_type": "code",
   "execution_count": 3,
   "id": "de1bd4d6-d1b3-4fb6-85c6-08fdcd59fca1",
   "metadata": {},
   "outputs": [],
   "source": [
    "kg.get('20241207-70418-0003-8926')"
   ]
  },
  {
   "cell_type": "code",
   "execution_count": 4,
   "id": "226b30dd-749d-4655-a8b7-0a0f8ad487b3",
   "metadata": {},
   "outputs": [
    {
     "data": {
      "text/plain": [
       "[Document(text=\"我是诸葛浪\", meta=['tags', 'summary', 'source', 'id']),\n",
       " Document(text=\"草船借箭\", meta=['tags', 'summary', 'source', 'id'])]"
      ]
     },
     "execution_count": 4,
     "metadata": {},
     "output_type": "execute_result"
    }
   ],
   "source": [
    "kg.all()"
   ]
  },
  {
   "cell_type": "code",
   "execution_count": 5,
   "id": "0586a17c-da29-4d17-a63d-b2ab62130c46",
   "metadata": {},
   "outputs": [
    {
     "data": {
      "text/plain": [
       "['20241207-72485-0000-0121']"
      ]
     },
     "execution_count": 5,
     "metadata": {},
     "output_type": "execute_result"
    }
   ],
   "source": [
    "kg.find_by_tags([\"个人资料\"])"
   ]
  },
  {
   "cell_type": "code",
   "execution_count": 6,
   "id": "48baafd5-21ff-4e74-ac30-6e2bf7bec489",
   "metadata": {},
   "outputs": [
    {
     "data": {
      "text/plain": [
       "['个人资料', '故事', '三国']"
      ]
     },
     "execution_count": 6,
     "metadata": {},
     "output_type": "execute_result"
    }
   ],
   "source": [
    "kg.tags"
   ]
  },
  {
   "cell_type": "markdown",
   "id": "ae5771dd-a448-4e69-8c04-dad8a1770287",
   "metadata": {},
   "source": [
    "## 本地保存的知识库"
   ]
  },
  {
   "cell_type": "code",
   "execution_count": 1,
   "id": "8a71da1f-34d3-4d21-9926-bf00ae4854d0",
   "metadata": {},
   "outputs": [],
   "source": [
    "from illufly.io import LocalFileKnowledge\n",
    "\n",
    "kg = LocalFileKnowledge()"
   ]
  },
  {
   "cell_type": "code",
   "execution_count": 13,
   "id": "c9cee606-443c-4304-a790-c5cc466f4395",
   "metadata": {},
   "outputs": [
    {
     "data": {
      "text/plain": [
       "False"
      ]
     },
     "execution_count": 13,
     "metadata": {},
     "output_type": "execute_result"
    }
   ],
   "source": [
    "kg.add(\"我是诸葛浪\", tags=[\"个人资料\"])\n",
    "kg.add(\"草船借箭\", tags=[\"故事\", \"三国\"])\n",
    "kg.update(\"草船借箭\", tags=[\"故事\", \"三国\"])"
   ]
  },
  {
   "cell_type": "markdown",
   "id": "ef0112c5-f709-4047-b509-b1a7f2edb9bd",
   "metadata": {},
   "source": [
    "### 查询"
   ]
  },
  {
   "cell_type": "code",
   "execution_count": 14,
   "id": "9899665b-3088-4443-964f-0a3d345308f6",
   "metadata": {},
   "outputs": [],
   "source": [
    "kg.get('20241207-70418-0003-8926')"
   ]
  },
  {
   "cell_type": "code",
   "execution_count": 2,
   "id": "25304aae-ac82-4080-9985-07553dca4601",
   "metadata": {},
   "outputs": [
    {
     "data": {
      "text/plain": [
       "[Document(text=\"我是诸葛浪\", meta=['tags', 'summary', 'source', 'id']),\n",
       " Document(text=\"草船借箭\", meta=['tags', 'summary', 'source', 'id'])]"
      ]
     },
     "execution_count": 2,
     "metadata": {},
     "output_type": "execute_result"
    }
   ],
   "source": [
    "kg.all()"
   ]
  },
  {
   "cell_type": "code",
   "execution_count": 16,
   "id": "bf9a5490-dc11-417e-a4b8-f3fddeacaa98",
   "metadata": {},
   "outputs": [
    {
     "data": {
      "text/plain": [
       "['20241207-72867-0000-4616']"
      ]
     },
     "execution_count": 16,
     "metadata": {},
     "output_type": "execute_result"
    }
   ],
   "source": [
    "kg.find_by_tags([\"个人资料\"])"
   ]
  },
  {
   "cell_type": "code",
   "execution_count": 17,
   "id": "7b0a6a98-b774-4610-bc14-66bec155b065",
   "metadata": {},
   "outputs": [
    {
     "data": {
      "text/plain": [
       "['个人资料', '故事', '三国']"
      ]
     },
     "execution_count": 17,
     "metadata": {},
     "output_type": "execute_result"
    }
   ],
   "source": [
    "kg.tags"
   ]
  },
  {
   "cell_type": "code",
   "execution_count": 18,
   "id": "f9bad453-d35e-4ca6-98ea-b85800ab468d",
   "metadata": {},
   "outputs": [
    {
     "data": {
      "text/plain": [
       "PosixPath('/var/folders/f5/rlf27f4n6wzc_k4x7y4vzm5h0000gn/T/__ILLUFLY__/CHART_LEARN')"
      ]
     },
     "execution_count": 18,
     "metadata": {},
     "output_type": "execute_result"
    }
   ],
   "source": [
    "kg.directory"
   ]
  },
  {
   "cell_type": "code",
   "execution_count": 19,
   "id": "f2c3ca59-ce03-4c5a-ba96-02213c5ab473",
   "metadata": {},
   "outputs": [
    {
     "name": "stdout",
     "output_type": "stream",
     "text": [
      "tag_index.json \u001b[1m\u001b[36m故事\u001b[m\u001b[m           \u001b[1m\u001b[36m个人资料\u001b[m\u001b[m\n"
     ]
    }
   ],
   "source": [
    "!ls /var/folders/f5/rlf27f4n6wzc_k4x7y4vzm5h0000gn/T/__ILLUFLY__/CHART_LEARN"
   ]
  },
  {
   "cell_type": "code",
   "execution_count": 3,
   "id": "86fd4408-df43-409f-88f1-9382d434a0ee",
   "metadata": {},
   "outputs": [
    {
     "data": {
      "text/plain": [
       "{'total': 2,\n",
       " 'total_pages': 1,\n",
       " 'current_page': 1,\n",
       " 'items': [{'id': '20241207-72867-0000-4616',\n",
       "   'summary': '我是诸葛浪',\n",
       "   'tags': ['个人资料'],\n",
       "   'source': None},\n",
       "  {'id': '20241207-72867-0001-4094',\n",
       "   'summary': '草船借箭',\n",
       "   'tags': ['故事', '三国'],\n",
       "   'source': None}]}"
      ]
     },
     "execution_count": 3,
     "metadata": {},
     "output_type": "execute_result"
    }
   ],
   "source": [
    "kg.get_meta_list()"
   ]
  },
  {
   "cell_type": "code",
   "execution_count": null,
   "id": "ef3c1479-1cc4-4fbf-8135-65fcf53b63b3",
   "metadata": {},
   "outputs": [],
   "source": []
  }
 ],
 "metadata": {
  "kernelspec": {
   "display_name": "same_to_illufly",
   "language": "python",
   "name": "same_to_illufly"
  },
  "language_info": {
   "codemirror_mode": {
    "name": "ipython",
    "version": 3
   },
   "file_extension": ".py",
   "mimetype": "text/x-python",
   "name": "python",
   "nbconvert_exporter": "python",
   "pygments_lexer": "ipython3",
   "version": "3.10.0"
  }
 },
 "nbformat": 4,
 "nbformat_minor": 5
}
