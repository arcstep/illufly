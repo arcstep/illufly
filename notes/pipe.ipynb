{
 "cells": [
  {
   "cell_type": "code",
   "execution_count": null,
   "id": "6d9e9de7-85e7-4e8b-b94a-501fce09a7a6",
   "metadata": {},
   "outputs": [],
   "source": []
  },
  {
   "cell_type": "markdown",
   "id": "748744c9-1123-4c52-95a4-5d10235726eb",
   "metadata": {},
   "source": [
    "# 多智能体协作"
   ]
  },
  {
   "cell_type": "markdown",
   "id": "9b97ccfb-8dc7-4c7c-842b-abf6820769f6",
   "metadata": {},
   "source": [
    "## 管道"
   ]
  },
  {
   "cell_type": "code",
   "execution_count": 1,
   "id": "a4bbd07f-e12a-40b6-b830-62e21eb90fd0",
   "metadata": {},
   "outputs": [
    {
     "name": "stdout",
     "output_type": "stream",
     "text": [
      "[INFO] \u001b[34m>>> PIPE <0> : START\u001b[0m\n",
      "\u001b[32m小\u001b[0m\u001b[32m兔子\u001b[0m\u001b[32m，\u001b[0m\u001b[32m梦中跳，  \n",
      "\u001b[0m\u001b[32m胡萝卜，满天空飘。  \n",
      "月亮\u001b[0m\u001b[32m船，载它摇，  \n",
      "梦\u001b[0m\u001b[32m里笑，乐逍遥。\u001b[0m\u001b[32m\u001b[0m\n",
      "\n",
      "[INFO] \u001b[34m>>> PIPE <1> : \u001b[0m\n",
      "\u001b[32m您的\u001b[0m\u001b[32m文字\u001b[0m\u001b[32m充满了\u001b[0m\u001b[32m童趣与想象力，\u001b[0m\u001b[32m构建了一个温馨、梦幻的童话世界\u001b[0m\u001b[32m，让人感受到纯真的快乐与自由\u001b[0m\u001b[32m。语言简洁而富有韵律感\u001b[0m\u001b[32m，非常适合儿童诗歌或床前故事\u001b[0m\u001b[32m，能够激发孩子们丰富的想象。\u001b[0m\u001b[32m\u001b[0m\n",
      "\n",
      "[INFO] \u001b[34m>>> PIPE <2> : \u001b[0m\n",
      "\u001b[32m5\u001b[0m\u001b[32m分\u001b[0m\u001b[32m\u001b[0m\n",
      "\n"
     ]
    },
    {
     "data": {
      "text/plain": [
       "'5分'"
      ]
     },
     "execution_count": 1,
     "metadata": {},
     "output_type": "execute_result"
    }
   ],
   "source": [
    "from textlong.llm import ChatQwen, Pipe\n",
    "from textlong.io import log\n",
    "\n",
    "pipe = Pipe([\n",
    "    ChatQwen(),\n",
    "    ChatQwen(prompt=\"我将告诉你我的写作成果，你负责帮我评价文章特色，两句话即可\"),\n",
    "    ChatQwen(prompt=\"我将告诉你我的写作成果，请按照评价打一个分数，从1分至5分\")\n",
    "])\n",
    "\n",
    "log(pipe, \"你能帮我写一首关于兔子做梦的四句儿歌?\")"
   ]
  },
  {
   "cell_type": "code",
   "execution_count": 3,
   "id": "4537cd7e-e18e-4fa7-80cf-180de7a82592",
   "metadata": {},
   "outputs": [
    {
     "data": {
      "text/plain": [
       "[{'role': 'user', 'content': '请节点 <0> 处理任务'},\n",
       " {'role': 'assistant',\n",
       "  'content': '小白兔，梦中跳，  \\n胡萝卜，满天空飘。  \\n月亮船，载它游，  \\n梦里世界乐悠悠。'},\n",
       " {'role': 'user', 'content': '请节点 <1> 处理任务'},\n",
       " {'role': 'assistant', 'content': '这首短诗充满了童趣与想象力，展现了梦境的奇妙与自由，语言简洁，意象生动，富有诗意。'},\n",
       " {'role': 'user', 'content': '请节点 <2> 处理任务'},\n",
       " {'role': 'assistant',\n",
       "  'content': '我会给这首短诗打4.5分。这样的评价反映了它在童趣、想象力、语言表达、意象创造和诗意构建上的出色表现。4.5分表明这首诗几乎完美地捕捉到了梦境的奇妙与自由，同时保持了语言的简洁与意象的生动，给人以深刻印象。不足0.5分可能是留给极少数可能存在的微小提升空间，或者是保留给那些能够触动每一个读者内心最深处、堪称绝对经典的文学作品。'}]"
      ]
     },
     "execution_count": 3,
     "metadata": {},
     "output_type": "execute_result"
    }
   ],
   "source": [
    "pipe.memory"
   ]
  },
  {
   "cell_type": "markdown",
   "id": "c6393119-5133-45ed-b317-f40138ceaaa7",
   "metadata": {},
   "source": [
    "## 模板"
   ]
  },
  {
   "cell_type": "code",
   "execution_count": 1,
   "id": "d47eb92b-5f81-4fff-9557-e6866d7b4724",
   "metadata": {},
   "outputs": [],
   "source": [
    "from textlong.llm import ChatQwen, Pipe\n",
    "from textlong.llm.agent import Template\n",
    "from textlong.io import log, alog"
   ]
  },
  {
   "cell_type": "code",
   "execution_count": 2,
   "id": "f6decf25-c86c-45f0-8616-59033512d48a",
   "metadata": {},
   "outputs": [
    {
     "name": "stdout",
     "output_type": "stream",
     "text": [
      "[INFO] \u001b[34m你是强大的写作助手。\n",
      "\n",
      "你必须遵循以下约束来完成任务:\n",
      "1. 直接输出你的结果，不要评论，不要啰嗦\n",
      "2. 使用markdown格式输出\n",
      "\n",
      "**你的任务是:**\n",
      "请你帮我写一首4行儿歌\n",
      "\u001b[0m\n"
     ]
    },
    {
     "data": {
      "text/plain": [
       "'请开始'"
      ]
     },
     "execution_count": 2,
     "metadata": {},
     "output_type": "execute_result"
    }
   ],
   "source": [
    "t = Template(template=\"IDEA\")\n",
    "log(t, {\"task\": \"请你帮我写一首4行儿歌\"})\n",
    "t.output"
   ]
  },
  {
   "cell_type": "code",
   "execution_count": 7,
   "id": "c796ebff-5fb6-406a-9d44-bf3159ff865b",
   "metadata": {},
   "outputs": [
    {
     "name": "stdout",
     "output_type": "stream",
     "text": [
      "[INFO] \u001b[34m>>> PIPE <0> : START\u001b[0m\n",
      "[INFO] \u001b[34m你是强大的写作助手。\n",
      "\n",
      "你必须遵循以下约束来完成任务:\n",
      "1. 直接输出你的结果，不要评论，不要啰嗦\n",
      "2. 使用markdown格式输出\n",
      "\n",
      "**你的任务是:**\n",
      "请你帮我写一首4行儿歌\n",
      "\u001b[0m\n",
      "[INFO] \u001b[34m>>> PIPE <1> : \u001b[0m\n",
      "\u001b[32m小\u001b[0m\u001b[32m蜜蜂\u001b[0m\u001b[32m，\u001b[0m\u001b[32m嗡嗡嗡，  \n",
      "\u001b[0m\u001b[32m飞到花丛中，  \n",
      "采\u001b[0m\u001b[32m花蜜，忙不停，  \n",
      "甜蜜\u001b[0m\u001b[32m带回家中。\u001b[0m\u001b[32m\u001b[0m\n",
      "\n",
      "[INFO] \u001b[34m>>> PIPE <2> : 请帮我对作品进行评价，找出三个缺点，一句话总结。\u001b[0m\n",
      "\u001b[32m1\u001b[0m\u001b[32m.\u001b[0m\u001b[32m \u001b[0m\u001b[32m作品略显单一，\u001b[0m\u001b[32m缺乏情节转折或角色发展。\n",
      "2\u001b[0m\u001b[32m. 描述较为表面，未能深入\u001b[0m\u001b[32m探索蜜蜂生态或采蜜过程的\u001b[0m\u001b[32m科普价值。\n",
      "3. 语言过于\u001b[0m\u001b[32m稚嫩，可能不足够吸引成\u001b[0m\u001b[32m年读者的兴趣。\n",
      "\n",
      "一句话总结：这首\u001b[0m\u001b[32m童谣风格的作品简洁明快，\u001b[0m\u001b[32m富有韵律感，适合儿童，\u001b[0m\u001b[32m但内容浅显、单一，缺少\u001b[0m\u001b[32m深度与广度。\u001b[0m\u001b[32m\u001b[0m\n",
      "\n"
     ]
    },
    {
     "data": {
      "text/plain": [
       "'1. 作品略显单一，缺乏情节转折或角色发展。\\n2. 描述较为表面，未能深入探索蜜蜂生态或采蜜过程的科普价值。\\n3. 语言过于稚嫩，可能不足够吸引成年读者的兴趣。\\n\\n一句话总结：这首童谣风格的作品简洁明快，富有韵律感，适合儿童，但内容浅显、单一，缺少深度与广度。'"
      ]
     },
     "execution_count": 7,
     "metadata": {},
     "output_type": "execute_result"
    }
   ],
   "source": [
    "pipe = Pipe([\n",
    "    Template(template=\"IDEA\"),\n",
    "    ChatQwen(),\n",
    "    ChatQwen(prompt=\"请帮我对作品进行评价，找出三个缺点，一句话总结。\")\n",
    "])\n",
    "\n",
    "log(pipe, {\"task\": \"请你帮我写一首4行儿歌\"})"
   ]
  },
  {
   "cell_type": "code",
   "execution_count": 12,
   "id": "cc906d7d-bb5c-4e1b-a6f4-d36bb1d46f3c",
   "metadata": {},
   "outputs": [
    {
     "data": {
      "text/plain": [
       "[{'role': 'user', 'content': '请节点 <0> 处理任务'},\n",
       " {'role': 'assistant', 'content': '请开始'},\n",
       " {'role': 'user', 'content': '请节点 <1> 处理任务'},\n",
       " {'role': 'assistant', 'content': '小蚂蚁爬大树，  \\n快乐得唱起歌，  \\n太阳笑眯眯，  \\n云朵轻轻飘过。'}]"
      ]
     },
     "execution_count": 12,
     "metadata": {},
     "output_type": "execute_result"
    }
   ],
   "source": [
    "pipe.memory"
   ]
  },
  {
   "cell_type": "code",
   "execution_count": 6,
   "id": "b2496a6e-931b-4424-85b6-48af6436db1c",
   "metadata": {},
   "outputs": [],
   "source": [
    "pipe.to_runnables[0].system_prompt"
   ]
  },
  {
   "cell_type": "code",
   "execution_count": null,
   "id": "5e61331f-8dec-47da-9ac4-7783ebc50f9b",
   "metadata": {},
   "outputs": [],
   "source": []
  }
 ],
 "metadata": {
  "kernelspec": {
   "display_name": "textlong-same-ipykernel",
   "language": "python",
   "name": "textlong-same-ipykernel"
  },
  "language_info": {
   "codemirror_mode": {
    "name": "ipython",
    "version": 3
   },
   "file_extension": ".py",
   "mimetype": "text/x-python",
   "name": "python",
   "nbconvert_exporter": "python",
   "pygments_lexer": "ipython3",
   "version": "3.10.0"
  }
 },
 "nbformat": 4,
 "nbformat_minor": 5
}
