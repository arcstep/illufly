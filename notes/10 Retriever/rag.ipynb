{
 "cells": [
  {
   "cell_type": "code",
   "execution_count": 1,
   "id": "c7961fd4-7300-448e-99c0-3452a814ff55",
   "metadata": {},
   "outputs": [],
   "source": [
    "import os\n",
    "os.environ['ILLUFLY_DOCS'] = 'docs'"
   ]
  },
  {
   "cell_type": "markdown",
   "id": "a83725c3-2830-48d1-a6ac-43bf467fc302",
   "metadata": {},
   "source": [
    "# RAG 实现\n",
    "\n",
    "向量数据库是实现RAG的主要手段，而要使用向量数据库就必须指定文本向量的嵌入模型。"
   ]
  },
  {
   "cell_type": "markdown",
   "id": "37cedc9d-42b6-4427-afd8-ba3aeb39125a",
   "metadata": {},
   "source": [
    "## 朴素的 RAG 实现\n",
    "\n",
    "ChatAgent 的知识管理可以用来实现简单的 RAG 应用。"
   ]
  },
  {
   "cell_type": "code",
   "execution_count": 1,
   "id": "21e5caf9-5567-4667-acd1-060428f9da13",
   "metadata": {},
   "outputs": [
    {
     "name": "stdout",
     "output_type": "stream",
     "text": [
      "[HUMAN] \u001b[32m一句话回答，illufly是什么？\u001b[0m\n",
      "[AGENT] \u001b[34mChatQwen.4407035888\u001b[0m\n",
      "[INFO] \u001b[34m记住 10 轮对话\u001b[0m\n",
      "[RAG] \u001b[34m[{\"text\": \"illufly的意思是 illution butter fly 的缩写，是中国古代庄子梦中变蝴蝶的故事\", \"meta\": {\"id\": \"20241212-72125-0001-0516\", \"distance\": 0.5243071913719177, \"source\": \"\", \"raw_meta\": \"\", \"tags\": [], \"summary\": \"illufly的意思是 illution butter fly 的缩写，是中国古代庄子梦中变蝴蝶的故事\"}}, {\"text\": \"如果有人问起名字，除非特别指名在问模型的名字，否则应当是指在这个对话场景，此时的名字应当是「illufly」\", \"meta\": {\"id\": \"20241212-72125-0000-0875\", \"distance\": 0.59690922498703, \"source\": \"\", \"raw_meta\": \"\", \"tags\": [], \"summary\": \"如果有人问起名字，除非特别指名在问模型的名字，否则应当是指在这个对话场景，此时的名字应当是「illufly」\"}}]\u001b[0m\n",
      "\u001b[32mill\u001b[0m\u001b[32muf\u001b[0m\u001b[32mly\u001b[0m\u001b[32m是\u001b[0m\u001b[32m源自庄子梦\u001b[0m\u001b[32m中变成蝴蝶的故事\u001b[0m\u001b[32m，意为“\u001b[0m\u001b[32millution butterfly”的\u001b[0m\u001b[32m缩写。\u001b[0m\u001b[32m\u001b[0m\n",
      "[USAGE] \u001b[34m{\"input_tokens\": 92, \"output_tokens\": 23, \"total_tokens\": 115}\u001b[0m\n"
     ]
    },
    {
     "data": {
      "text/plain": [
       "[{'role': 'user',\n",
       "  'content': '回答时请参考已有知识：\\n@knowledge\\nillufly的意思是 illution butter fly 的缩写，是中国古代庄子梦中变蝴蝶的故事\\n\\n如果有人问起名字，除非特别指名在问模型的名字，否则应当是指在这个对话场景，此时的名字应当是「illufly」\\n\\n\\n'},\n",
       " {'role': 'assistant', 'content': 'ok'},\n",
       " {'role': 'user', 'content': '一句话回答，illufly是什么？'},\n",
       " {'role': 'assistant',\n",
       "  'content': 'illufly是源自庄子梦中变成蝴蝶的故事，意为“illution butterfly”的缩写。'}]"
      ]
     },
     "execution_count": 1,
     "metadata": {},
     "output_type": "execute_result"
    }
   ],
   "source": [
    "from illufly.chat import ChatQwen\n",
    "from illufly.rag import TextEmbeddings, FaissDB\n",
    "\n",
    "db = FaissDB(embeddings=TextEmbeddings())\n",
    "db.add(\"如果有人问起名字，除非特别指名在问模型的名字，否则应当是指在这个对话场景，此时的名字应当是「illufly」\")\n",
    "db.add(\"illufly的意思是 illution butter fly 的缩写，是中国古代庄子梦中变蝴蝶的故事\")\n",
    "\n",
    "qwen = ChatQwen(vectordbs=[db])\n",
    "qwen(\"一句话回答，illufly是什么？\", verbose=True)\n",
    "qwen.memory"
   ]
  },
  {
   "cell_type": "markdown",
   "id": "3b439809-75ec-43bf-9275-5908a2dc5025",
   "metadata": {},
   "source": [
    "**请注意：**\n",
    "\n",
    "上面的对话记忆显示，自动插入了找到的资料。<br>\n",
    "实际上，如果是 knowledge 属性中的文本，会被当作不言而喻的常识，全部插入到记忆中。"
   ]
  },
  {
   "cell_type": "code",
   "execution_count": 8,
   "id": "a28dd726-cb96-4143-a2fc-dd253bc6e871",
   "metadata": {},
   "outputs": [
    {
     "name": "stdout",
     "output_type": "stream",
     "text": [
      "[INFO] \u001b[34m记住 10 轮对话\u001b[0m\n",
      "\u001b[32m我的名字\u001b[0m\u001b[32m是\u001b[0m\u001b[32m「\u001b[0m\u001b[32millufly」\u001b[0m\u001b[32m。\u001b[0m\u001b[32m\u001b[0m\n",
      "[USAGE] \u001b[34m{\"input_tokens\": 128, \"output_tokens\": 9, \"total_tokens\": 137}\u001b[0m\n"
     ]
    },
    {
     "data": {
      "text/plain": [
       "[{'role': 'user',\n",
       "  'content': '回答时你必须参考已有信息：\\nillufly的意思是 illution butter fly 的缩写，是中国古代庄子梦中变蝴蝶的故事\\n如果有人问起名字，除非特别指名在问模型的名字，否则应当是指在这个对话场景，此时的名字应当是「illufly」'},\n",
       " {'role': 'assistant', 'content': 'ok'},\n",
       " {'role': 'user', 'content': '一句话回答，illufly是什么？'},\n",
       " {'role': 'assistant',\n",
       "  'content': 'illufly是源自中国古代庄子梦中变蝴蝶故事的缩写，代表了「illution butterfly」。'},\n",
       " {'role': 'user', 'content': '你的名字是什么？'},\n",
       " {'role': 'assistant', 'content': '我的名字是「illufly」。'}]"
      ]
     },
     "execution_count": 8,
     "metadata": {},
     "output_type": "execute_result"
    }
   ],
   "source": [
    "qwen(\"你的名字是什么？\", verbose=True)\n",
    "qwen.memory"
   ]
  },
  {
   "cell_type": "markdown",
   "id": "1633c665-0112-45be-a6b9-505c2b26a61d",
   "metadata": {},
   "source": [
    "## 借助 VectorDB 实现 RAG\n",
    "\n",
    "默认情况下，knowledge 中加载的向量数据库应当加载 `__DOC__` 目录中所有的 markdown 文件。<br>\n",
    "加载时按照最大 1024K 来切片；在用户提问时，根据问题匹配相似的5个文档片段。"
   ]
  },
  {
   "cell_type": "code",
   "execution_count": 9,
   "id": "ef287897-d206-4354-9051-1ab77f89df32",
   "metadata": {},
   "outputs": [
    {
     "name": "stdout",
     "output_type": "stream",
     "text": [
      "[INFO] \u001b[34m记住 10 轮对话\u001b[0m\n",
      "\u001b[32mill\u001b[0m\u001b[32muf\u001b[0m\u001b[32mly\u001b[0m\u001b[32m 是\u001b[0m\u001b[32m一个遵循开箱\u001b[0m\u001b[32m即用、减少\u001b[0m\u001b[32m新概念、原\u001b[0m\u001b[32m厂优先及围绕\u001b[0m\u001b[32m智能体对象等\u001b[0m\u001b[32m设计理念的AI开发\u001b[0m\u001b[32m框架，专注于简化\u001b[0m\u001b[32mAI应用的构建\u001b[0m\u001b[32m与使用。\u001b[0m\u001b[32m\u001b[0m\n",
      "[USAGE] \u001b[34m{\"input_tokens\": 2544, \"output_tokens\": 39, \"total_tokens\": 2583}\u001b[0m\n"
     ]
    },
    {
     "data": {
      "text/plain": [
       "[{'role': 'user',\n",
       "  'content': \"回答时你必须参考已有信息：\\n# illufly 设计理念介绍\\n\\n- [开箱即用的原则](#开箱即用的原则)\\n- [减少新概念的原则](#减少新概念的原则)\\n- [原厂优先的原则](#原厂优先的原则)\\n- [围绕智能体对象的原则](#围绕智能体对象的原则)\\n\\n## 开箱即用的原则\\n\\n体验的影响，应用社区构建和AI应用和使用AI\\n与 python 自身的风格类似，`illufly` 中也有很多约定替代配置\\n\\n## 减少新概念的原则\\n\\nAI 应用场景的一个优势在于，它可以用自然语言交互替代复杂的指令规则，从而大大减少了新概念的学习负担。如果一个开发框架中出现了太多需要记忆的内容，用户的耐心会逐渐消磨殆尽。\\n\\nillufly 的目标是：在提供新功能的同时，尽量减少新概念的学习，并避免强制记忆。\\n\\n例如，AI中的常见消息格式通常是这样的字典格式:\\n\\n```python\\n\\n\\n[\\n    {\\n        'role': 'system',\\n        'content': '你是一个AI助手'\\n    },\\n    {\\n        'role': 'user',\\n        'content': '你好'\\n    },\\n    {\\n        'role': 'assistant',\\n        'role': '有什么可以帮你？',\\n    }\\n}\\n```\\n\\n一般的开发框架们为了开发者使用，会提供自己的类定义，例如用下面的代码来替代：\\n\\n```python\\n[\\n    SystemMessage('你是一个AI助手'),\\n    UserMessage('你好'),\\n    AIMessage('有什么可以帮你')\\n]\\n```\\n\\n然后要求开发者尽量使用已经创建的 XXMessage 类来封装所有关于消息格式的功能。\\n到目前为止，这看起来很不错，也完全符合一般的设计原则。\\n开发者一般不会计较这么简洁清晰的消息类定义，而且只有几个从名称看就不言而喻的类，也容易记住。\\n\\n但问题会逐渐显现。\\n\\n首先是类定义的体系，仅仅上面几个类是不够的。例如：\\n\\n- 你一定需要基类，比如：`BaseMessage`\\n- 也许你需要区分出工具消息，比如： `ToolMessage`？但这样也许不太够，因为要区分大模型返回的和工具执行的，也许是这样：`ToolCallMessage` 和 `ToolRespMessage`\\n- 如果你要区分携带部分信息的消息，可能还要增加 `UserMessageChunk`、`AIMessageChunk`，以及`ToolCallMessageChunk` 和 `ToolRespMessageChunk`\\n- 多模态的能力中图片的消息该如何定义？是否要增加 `ImageMessage`、`AudioMessage`、`VideoMessage`的定义？以及对应的 `ImageMessageChunk`、`AudioMessageChunk`、`VideoMessageChunk`？\\n\\n有了这些类，你要先记住才能开始做其他的，例如：\\n```python\\nfrom xxxxxx.xxxxxx.messages import UserMessage, AIMessage, ImageMessage, VideoMessage ...\\n```\\n\\n现在，要求你准确记住这些类的名字以及该从哪里引用，就开始慢慢形成挑战了。\\n\\n...\\n\\n类似的事情会在很多地方发生。\\n\\n你的初衷是，通过这些新类的定义来简化工作，但是现在不得不记住很多新东西。\\n\\n### illufly 中的解决方案\\n\\n```python\\n[\\n    {\\n        'role': 'system',\\n        'content': '你是一个AI助手'\\n    },\\n    {\\n        'role': 'user',\\n\\n类似的事情会在很多地方发生。\\n\\n你的初衷是，通过这些新类的定义来简化工作，但是现在不得不记住很多新东西。\\n\\n### illufly 中的解决方案\\n\\n```python\\n[\\n    {\\n        'role': 'system',\\n        'content': '你是一个AI助手'\\n    },\\n    {\\n        'role': 'user',\\n    },\\n    {\\n        'role': 'assistant',\\n        'content': '有什么可以帮你？'\\n    }\\n]\\n```\\n\\n面对这样一个啰嗦的字典格式，`illufly` 中也会构造一个新类来简化其构造过程，否则在你声明多条消息时会显得很啰嗦。\\n\\n但 `illufly` 鼓励在内部使用它，甚至在框架内隐藏着使用，而不让开发者直接看到。\\n\\n构造消息时可以用一些简化策略，例如，用下面的几种方式来替代：\\n\\n```python\\nChatQwen(memory=[\\n    '你是一个AI助手',\\n    '你好',\\n    '有什么可以帮你？'\\n])\\n```\\n\\n也可以这样：\\n```python\\nChatQwen(memory=[\\n    ('system', '你是一个AI助手'),\\n    ('user', '你好'),\\n    ('assistant', '有什么可以帮你？'),\\n])\\n```\\n\\n如果你非要写成这样也是合法的：\\n```python\\nChatQwen(memory=[\\n    {\\n        'role': 'system',\\n        'content': '你是一个AI助手'\\n    },\\n    {\\n        'role': 'user',\\n        'content': '你好'\\n    },\\n    {\\n        'role': 'assistant',\\n        'content': '有什么可以帮你？'\\n    }\\n])\\n```\\n\\n但真正的区别是，无论你如何声明，在查看对象的记忆历史时，你看到的都是最后这种格式：\\n\\n```python\\n# qwen = ChantQwen(...)\\nqwen.memory\\n```\\n\\n```python\\n[\\n    {\\n        'role': 'system',\\n        'content': '你是一个AI助手'\\n    },\\n    {\\n        'role': 'user',\\n        'content': '你好'\\n    },\\n    {\\n        'role': 'assistant',\\n        'content': '有什么可以帮你？'\\n    }\\n]\\n```\\n\\n我想人们对这个格式时的感觉是：让我看到这样的结果完全没问题，只要别让我这样的方式自己手写就行。\\n\\n这就是 illufly 的做法。\\n\\n## 原厂优先的原则\\n\\n## 围绕智能体对象的原则\\n\\n# 常见的智能体推理模式和 illufly 的实现\\n\\n## 常见推理模式\\n\\nReAct模式是最早出现的Agent设计模式，目前也是应用最广泛的。从ReAct出发，有两条发展路线：一条更偏重Agent的规划能力，包括REWOO、Plan & Execute、LLM Compiler；另一条更偏重反思能力，包括Basic Reflection、Reflexion、Self Discover、LATS。\\n\\nillufly中将实现所有这些推理模式。\\n\\n### ReAct\\n\\nReAct的概念来自论文《ReAct: Synergizing Reasoning and Acting in Language Models》，提出了一种结合语言模型中的推理（reasoning）和行动（acting）来解决多样化语言推理和决策任务的方法。ReAct提供了一种更易于人类理解、诊断和控制的决策和推理过程。\\n\\nReAct的核心思想是模拟人类思考和行动的过程，通过Thought、Action、Observation的循环，一步步解决目标问题。\\n\\nReAct模式存在以下不足：\\n\\n- LLM大模型的通病，即产出内容不稳定，对复杂问题的分析和解决存在波动。\\n- 成本高，无法控制输入内容，复杂任务可能导致Token过量消耗。\\n- 响应时间长，LLM响应时间是秒级以上，且在ReAct模式下更加不可控，需要采用异步方式，影响用户体验和应用场景选择。\\n\\n### REWOO\\n\\nREWOO的全称是Reason without Observation，旨在通过以下方式改进ReACT风格的Agent架构：\\n\\n- 生成一次性使用的完整工具链，减少token消耗和执行时间。\\n- 简化微调过程，规划数据不依赖于工具的输出。\\n\\nReWOO架构主要包括三个部分：\\n\\n- Planner：规划器，负责将任务分解并制定蓝图。\\n- Worker：执行器，根据蓝图使用外部工具获取更多证据或执行具体动作。\\n- Solver：合并器，将所有计划和证据结合，形成最终解决方案。\\n\\n相比ReAct，ReWOO的创新点包括：\\n\\n- 分离推理与观察，减少Token消耗。\\n- 模块化设计，提高系统扩展性和效率。\\n- 提升效率，实验结果表明REWOO不仅提升了准确率，还显著降低Token消耗。\\n- 工具调用的鲁棒性，即使工具失效，仍能提供有效解决方案。\\n\\nREWOO的缺陷在于依赖于Planner的规划能力，复杂任务初始阶段难以制定合理计划。需要规划调整机制，根据环境反馈不断调整计划。\\n\\n### Plan-and-Execute\\n\\nPlan-and-Execute在ReWOO基础上加入了Replan机制，即在计划执行过程中，根据实际条件和反馈重新调整计划。其架构包含：\\n\\n- 规划器Planner：生成多步计划。\\n- 执行器：执行规划中的步骤，调用工具完成任务。\\n- 重规划器Replanner：根据执行情况和反馈调整计划。\\n\\nPlan-and-Execute的优点是具备明确的长期规划，降低执行成本。局限性在于任务按顺序执行，可能导致总执行时间增加。改进办法是将任务表示为有向无环图DAG，实现并行执行。\\n\\n### LLM Compiler\\n\\n\\n- 重规划器Replanner：根据执行情况和反馈调整计划。\\n\\nPlan-and-Execute的优点是具备明确的长期规划，降低执行成本。局限性在于任务按顺序执行，可能导致总执行时间增加。改进办法是将任务表示为有向无环图DAG，实现并行执行。\\n\\n### LLM Compiler\\n\\n\\nLLM Compiler设计模式主要组件：\\n\\n- Planner：输出DAG任务，每个任务包含工具、参数和依赖项列表。\\n- Task Fetching Unit：调度并执行任务，满足依赖性后安排任务。\\n- Joiner：根据历史记录决定是否响应最终答案或将进度传递回Planner。\\n\\n### Basic Reflection\\n\\nBasic Reflection类似于左右互搏，Generator生成结果，Reflector审查并给出建议。适合内容生成类工作，如文章写作、图片生成、代码生成。缺陷包括：\\n\\n- 复杂问题需要更强推理能力。\\n- 生成结果可能过于发散。\\n- Generator和Reflector循环次数难以定义，次数太少效果不理想，次数太多消耗大。\\n\\n优化方法包括Self Discover模式和Reflexion模式。\\n\\n### Self-Discover\\n\\nSelf-Discover由Google研究人员提出，允许大型语言模型在没有明确标签情况下，自主选择并组合原子推理模块，生成推理结构。包含两个阶段：\\n\\n- 自发现特定任务的推理结构：选择、适应和实施。\\n- 应用推理结构：模型遵循结构逐步填充JSON中的值，直到得出最终答案。\\n\\n### Reflexion\\n\\nReflexion是Basic Reflection的升级版，结合强化学习。架构包括Responder和Revisor，Responder自带批判式思考，Revisor以此为参考修改初始回答，并引入外部数据评估回答准确性。适合需要从尝试和错误中学习、传统强化学习方法失效、需要细致反馈的情况。限制包括依赖自我评估能力和长期记忆限制。\\n\\n### LATS\\n\\nLATS（Language Model-Augmented Tree Search）结合树搜索和语言模型，通过逐步推理和反馈解决问题。LATS使用蒙特卡罗树搜索（MCTS）算法，工作流程包括选择、扩展、评估、模拟、回溯和反思。LATS适合处理复杂任务，但使用更多计算资源，完成任务时间更长。\\n\\n## illufly 的推理模式实现\\n\\nillufly 的推理模式设计基于以下原则：\\n\\n- **对话过程的自然性和流畅性**：注重对话的自然性和流畅性，能够将中间过程作为流输出反馈到前端，并通过超时设定或人类介入来终止不必要的对话轮次。\\n- **多智能体协作**：适用于整合到 illufly 的多智能体协作框架，确保智能体之间高效协作，完成复杂任务。\\n- **自我迭代的改进**：自动收集智能体的反思能力和规划能力的评测依据和微调依据，确保智能体可以不断优化和提升。\\n- **安全性和隐私保护**：内置多层次安全机制，确保用户数据安全和隐私保护。\\n\\n\\n- **自我迭代的改进**：自动收集智能体的反思能力和规划能力的评测依据和微调依据，确保智能体可以不断优化和提升。\\n- **安全性和隐私保护**：内置多层次安全机制，确保用户数据安全和隐私保护。\\n\"},\n",
       " {'role': 'assistant', 'content': 'ok'},\n",
       " {'role': 'user', 'content': '一句话回答，illufly是什么？'},\n",
       " {'role': 'assistant',\n",
       "  'content': 'illufly 是一个遵循开箱即用、减少新概念、原厂优先及围绕智能体对象等设计理念的AI开发框架，专注于简化AI应用的构建与使用。'}]"
      ]
     },
     "execution_count": 9,
     "metadata": {},
     "output_type": "execute_result"
    }
   ],
   "source": [
    "from illufly.embeddings import TextEmbeddings\n",
    "from illufly.rag import FaissDB\n",
    "from illufly.chat import ChatQwen\n",
    "\n",
    "qwen = ChatQwen(knowledge=FaissDB(embeddings=TextEmbeddings()))\n",
    "qwen(\"一句话回答，illufly是什么？\", verbose=True)\n",
    "qwen.memory"
   ]
  },
  {
   "cell_type": "markdown",
   "id": "9a03164f-10c2-45d0-b6fc-33f9415c02b4",
   "metadata": {},
   "source": [
    "## 借助复杂的 Retriever 实现 RAG\n",
    "\n",
    "Retriever 可以构建结构复杂的检索器，包括：\n",
    "- 基于问题扩散的意图理解\n",
    "- 混合数据搜索\n",
    "- 检索结果排序"
   ]
  },
  {
   "cell_type": "code",
   "execution_count": 2,
   "id": "d834227f-89d4-4f86-b694-acfb986fc0d2",
   "metadata": {},
   "outputs": [
    {
     "name": "stdout",
     "output_type": "stream",
     "text": [
      "[INFO] \u001b[34m记住 10 轮对话\u001b[0m\n",
      "\u001b[32m```\u001b[0m\u001b[32mmarkdown\u001b[0m\u001b[32m\n",
      "\u001b[0m\u001b[32m<!--\u001b[0m\u001b[32m @meta -->\n",
      "一句话\u001b[0m\u001b[32m概括illufly\u001b[0m\u001b[32m的核心功能是什么？\n",
      "\u001b[0m\u001b[32m<!-- @meta -->\n",
      "\u001b[0m\u001b[32millufly的主要\u001b[0m\u001b[32m用途可以用哪句话\u001b[0m\u001b[32m来描述？\n",
      "<!--\u001b[0m\u001b[32m @meta -->\n",
      "简\u001b[0m\u001b[32m述illufly\u001b[0m\u001b[32m的主要特点和作用\u001b[0m\u001b[32m？\n",
      "```\u001b[0m\u001b[32m\u001b[0m\n",
      "[AGENT] \u001b[34m由 FaissDB.4675646512 检索问题：简述illufly的主要特点和作用？\u001b[0m\n",
      "[AGENT] \u001b[34m由 DashScopeReranker.4675645744 重新排序检索结果\u001b[0m\n",
      "\n",
      "[AGENT] \u001b[34m由 FaissDB.4675646512 检索问题：一句话概括illufly的核心功能是什么？\u001b[0m\n",
      "[AGENT] \u001b[34m由 DashScopeReranker.4675645744 重新排序检索结果\u001b[0m\n",
      "\n",
      "[AGENT] \u001b[34m由 FaissDB.4675646512 检索问题：一句话总结illufly是啥？\u001b[0m\n",
      "[AGENT] \u001b[34m由 DashScopeReranker.4675645744 重新排序检索结果\u001b[0m\n",
      "\n",
      "[AGENT] \u001b[34m由 FaissDB.4675646512 检索问题：illufly的主要用途可以用哪句话来描述？\u001b[0m\n",
      "[AGENT] \u001b[34m由 DashScopeReranker.4675645744 重新排序检索结果\u001b[0m\n",
      "\n",
      "\u001b[32milluf\u001b[0m\u001b[32mly\u001b[0m\u001b[32m是一个\u001b[0m\u001b[32m旨在降低AI应用\u001b[0m\u001b[32m开发门槛、强调\u001b[0m\u001b[32m开箱即用\u001b[0m\u001b[32m和减少新概念\u001b[0m\u001b[32m学习负担的智能\u001b[0m\u001b[32m体开发框架。\u001b[0m\u001b[32m\u001b[0m\n",
      "[USAGE] \u001b[34m{\"input_tokens\": 5058, \"output_tokens\": 28, \"total_tokens\": 5086}\u001b[0m\n"
     ]
    },
    {
     "data": {
      "text/plain": [
       "'illufly是一个旨在降低AI应用开发门槛、强调开箱即用和减少新概念学习负担的智能体开发框架。'"
      ]
     },
     "execution_count": 2,
     "metadata": {},
     "output_type": "execute_result"
    }
   ],
   "source": [
    "from illufly.chat import ChatQwen\n",
    "from illufly.rag import Retriever, FaissDB, DashScopeReranker\n",
    "from illufly.embeddings import TextEmbeddings\n",
    "\n",
    "retriver = Retriever(\n",
    "    translators=ChatQwen(),\n",
    "    searchers=FaissDB(embeddings=TextEmbeddings()),\n",
    "    reranker=DashScopeReranker()\n",
    ")\n",
    "\n",
    "kg = FaissDB(embeddings=TextEmbeddings(), name=\"kg\")\n",
    "\n",
    "qwen = ChatQwen(knowledge=[kg, retriver], faq=[\"illufly是一个具有自我进化能力的智能体开发框架\"])\n",
    "qwen(\"一句话总结illufly是啥？\", verbose=True)"
   ]
  },
  {
   "cell_type": "code",
   "execution_count": null,
   "id": "7abf5a53-673f-467e-9871-36f27e3b848d",
   "metadata": {},
   "outputs": [],
   "source": []
  }
 ],
 "metadata": {
  "kernelspec": {
   "display_name": "same_to_illufly",
   "language": "python",
   "name": "same_to_illufly"
  },
  "language_info": {
   "codemirror_mode": {
    "name": "ipython",
    "version": 3
   },
   "file_extension": ".py",
   "mimetype": "text/x-python",
   "name": "python",
   "nbconvert_exporter": "python",
   "pygments_lexer": "ipython3",
   "version": "3.10.0"
  }
 },
 "nbformat": 4,
 "nbformat_minor": 5
}
