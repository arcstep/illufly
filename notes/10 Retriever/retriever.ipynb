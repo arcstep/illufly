{
 "cells": [
  {
   "cell_type": "markdown",
   "id": "3ce41f16-7594-451e-8b73-da3104d0095a",
   "metadata": {},
   "source": [
    "## Retriever"
   ]
  },
  {
   "cell_type": "code",
   "execution_count": 1,
   "id": "397e8be6-8c8a-4355-b701-1360af35428f",
   "metadata": {},
   "outputs": [
    {
     "name": "stdout",
     "output_type": "stream",
     "text": [
      "\u001b[32m```markdown\u001b[0m\u001b[32m\n",
      "\u001b[0m\u001b[32m<!--\u001b[0m\u001b[32m @meta -->\n",
      "**\u001b[0m\u001b[32mQuestion:**\n",
      "如何\u001b[0m\u001b[32m在家制作美味披\u001b[0m\u001b[32m萨？\n",
      "\n",
      "**Answer\u001b[0m\u001b[32m:**\n",
      "在家制作\u001b[0m\u001b[32m美味披萨首先\u001b[0m\u001b[32m需要准备面团\u001b[0m\u001b[32m、番茄酱、\u001b[0m\u001b[32m奶酪及各种\u001b[0m\u001b[32m喜欢的配料。\u001b[0m\u001b[32m将面团擀\u001b[0m\u001b[32m成圆形饼状\u001b[0m\u001b[32m，涂上一层\u001b[0m\u001b[32m薄薄的番茄\u001b[0m\u001b[32m酱，撒上\u001b[0m\u001b[32m切好的奶酪\u001b[0m\u001b[32m和其他配料。预\u001b[0m\u001b[32m热烤箱至\u001b[0m\u001b[32m200摄\u001b[0m\u001b[32m氏度，放入\u001b[0m\u001b[32m披萨烤约\u001b[0m\u001b[32m15分钟即可\u001b[0m\u001b[32m。\n",
      "\n",
      "<!-- @meta\u001b[0m\u001b[32m -->\n",
      "**Question:\u001b[0m\u001b[32m**\n",
      "怎样才能做出\u001b[0m\u001b[32m完美的披萨底\u001b[0m\u001b[32m？\n",
      "\n",
      "**Answer:\u001b[0m\u001b[32m**\n",
      "制作完美的披\u001b[0m\u001b[32m萨底需要注意面\u001b[0m\u001b[32m团的配方与\u001b[0m\u001b[32m发酵时间。建议\u001b[0m\u001b[32m使用高筋面粉\u001b[0m\u001b[32m，加入适量酵\u001b[0m\u001b[32m母、水和\u001b[0m\u001b[32m橄榄油混合揉\u001b[0m\u001b[32m成面团。\u001b[0m\u001b[32m让面团在\u001b[0m\u001b[32m温暖环境中发酵1\u001b[0m\u001b[32m-2小时直至\u001b[0m\u001b[32m体积翻倍，\u001b[0m\u001b[32m然后擀平后\u001b[0m\u001b[32m进行烤制。\n",
      "\n",
      "\u001b[0m\u001b[32m<!-- @meta -->\n",
      "\u001b[0m\u001b[32m**Question:**\n",
      "\u001b[0m\u001b[32m如何选择适合做\u001b[0m\u001b[32m披萨的奶\u001b[0m\u001b[32m酪？\n",
      "\n",
      "**Answer\u001b[0m\u001b[32m:**\n",
      "适合做\u001b[0m\u001b[32m披萨的奶\u001b[0m\u001b[32m酪通常需要具备\u001b[0m\u001b[32m良好的融化性和浓郁\u001b[0m\u001b[32m的味道。马苏\u001b[0m\u001b[32m里拉奶酪\u001b[0m\u001b[32m是经典之选\u001b[0m\u001b[32m，其质地柔软\u001b[0m\u001b[32m易融化；帕\u001b[0m\u001b[32m尔马干酪\u001b[0m\u001b[32m则可在表面形成\u001b[0m\u001b[32m诱人金黄色泽\u001b[0m\u001b[32m并增添独特风味\u001b[0m\u001b[32m；此外，车\u001b[0m\u001b[32m打芝士也是\u001b[0m\u001b[32m不错的选择，它\u001b[0m\u001b[32m能带来丰富的口感\u001b[0m\u001b[32m层次。\n",
      "```\u001b[0m\u001b[32m\u001b[0m\n",
      "******************** understood_queries ******************** \n",
      " {'**Question:**\\n如何在家制作美味披萨？\\n\\n**Answer:**\\n在家制作美味披萨首先需要准备面团、番茄酱、奶酪及各种喜欢的配料。将面团擀成圆形饼状，涂上一层薄薄的番茄酱，撒上切好的奶酪和其他配料。预热烤箱至200摄氏度，放入披萨烤约15分钟即可。', '披萨怎么做？', '**Question:**\\n怎样才能做出完美的披萨底？\\n\\n**Answer:**\\n制作完美的披萨底需要注意面团的配方与发酵时间。建议使用高筋面粉，加入适量酵母、水和橄榄油混合揉成面团。让面团在温暖环境中发酵1-2小时直至体积翻倍，然后擀平后进行烤制。', '**Question:**\\n如何选择适合做披萨的奶酪？\\n\\n**Answer:**\\n适合做披萨的奶酪通常需要具备良好的融化性和浓郁的味道。马苏里拉奶酪是经典之选，其质地柔软易融化；帕尔马干酪则可在表面形成诱人金黄色泽并增添独特风味；此外，车打芝士也是不错的选择，它能带来丰富的口感层次。'}\n",
      "******************** search_results ******************** \n",
      " {Document(text=\"**Question:**<br>有没有简单的方法在家做比萨？<br><br>**Answer:**<br>可以买现成的比萨饼底，加上自己喜欢的食材，放入烤箱烤制即可。\", meta=['tag', 'id', 'source', 'embeddings', 'distance']), Document(text=\"**Question:**<br>想在家里给家人做一顿特别的晚餐，有什么推荐？<br><br>**Answer:**<br>自制比萨是个不错的选择，可以根据家人的口味定制各种风味。\", meta=['tag', 'id', 'source', 'embeddings', 'distance']), Document(text=\"**Question:**<br>如何在家里制作美味的比萨？<br><br>**Answer:**<br>首先准备面团，然后加入番茄酱，放上你喜欢的配料，最后撒上奶酪，放入预热至200度的烤箱中烤约15分钟即可。\", meta=['tag', 'id', 'source', 'embeddings', 'distance']), Document(text=\"**Question:**<br>自己动手做比萨需要注意哪些步骤？<br><br>**Answer:**<br>注意面团发酵时间，酱料的选择，配料的新鲜程度以及烘烤温度和时间。\", meta=['tag', 'id', 'source', 'embeddings', 'distance']), Document(text=\"**Question:**<br>在家中怎样才能做出餐厅级别的比萨？<br><br>**Answer:**<br>选用高质量的原材料，掌握正确的烘焙技巧，尝试不同的配料组合。\", meta=['tag', 'id', 'source', 'embeddings', 'distance'])}\n",
      "******************** nrerank_results ******************** \n",
      " {Document(text=\"**Question:**<br>有没有简单的方法在家做比萨？<br><br>**Answer:**<br>可以买现成的比萨饼底，加上自己喜欢的食材，放入烤箱烤制即可。\", meta=['tag', 'id', 'source', 'embeddings', 'distance']), Document(text=\"**Question:**<br>想在家里给家人做一顿特别的晚餐，有什么推荐？<br><br>**Answer:**<br>自制比萨是个不错的选择，可以根据家人的口味定制各种风味。\", meta=['tag', 'id', 'source', 'embeddings', 'distance']), Document(text=\"**Question:**<br>如何在家里制作美味的比萨？<br><br>**Answer:**<br>首先准备面团，然后加入番茄酱，放上你喜欢的配料，最后撒上奶酪，放入预热至200度的烤箱中烤约15分钟即可。\", meta=['tag', 'id', 'source', 'embeddings', 'distance']), Document(text=\"**Question:**<br>自己动手做比萨需要注意哪些步骤？<br><br>**Answer:**<br>注意面团发酵时间，酱料的选择，配料的新鲜程度以及烘烤温度和时间。\", meta=['tag', 'id', 'source', 'embeddings', 'distance']), Document(text=\"**Question:**<br>在家中怎样才能做出餐厅级别的比萨？<br><br>**Answer:**<br>选用高质量的原材料，掌握正确的烘焙技巧，尝试不同的配料组合。\", meta=['tag', 'id', 'source', 'embeddings', 'distance'])}\n"
     ]
    },
    {
     "data": {
      "text/plain": [
       "{Document(text=\"**Question:**<br>在家中怎样才能做出餐厅级别的比萨？<br><br>**Answer:**<br>选用高质量的原材料，掌握正确的烘焙技巧，尝试不同的配料组合。\", meta=['tag', 'id', 'source', 'embeddings', 'distance']),\n",
       " Document(text=\"**Question:**<br>如何在家里制作美味的比萨？<br><br>**Answer:**<br>首先准备面团，然后加入番茄酱，放上你喜欢的配料，最后撒上奶酪，放入预热至200度的烤箱中烤约15分钟即可。\", meta=['tag', 'id', 'source', 'embeddings', 'distance']),\n",
       " Document(text=\"**Question:**<br>想在家里给家人做一顿特别的晚餐，有什么推荐？<br><br>**Answer:**<br>自制比萨是个不错的选择，可以根据家人的口味定制各种风味。\", meta=['tag', 'id', 'source', 'embeddings', 'distance']),\n",
       " Document(text=\"**Question:**<br>有没有简单的方法在家做比萨？<br><br>**Answer:**<br>可以买现成的比萨饼底，加上自己喜欢的食材，放入烤箱烤制即可。\", meta=['tag', 'id', 'source', 'embeddings', 'distance']),\n",
       " Document(text=\"**Question:**<br>自己动手做比萨需要注意哪些步骤？<br><br>**Answer:**<br>注意面团发酵时间，酱料的选择，配料的新鲜程度以及烘烤温度和时间。\", meta=['tag', 'id', 'source', 'embeddings', 'distance'])}"
      ]
     },
     "execution_count": 1,
     "metadata": {},
     "output_type": "execute_result"
    }
   ],
   "source": [
    "from illufly.chat import ChatQwen\n",
    "from illufly.rag import Retriever, FaissDB\n",
    "from illufly.embeddings import TextEmbeddings\n",
    "\n",
    "db = FaissDB(TextEmbeddings())\n",
    "db.load(\"./\", chunk_size=550)\n",
    "\n",
    "r = Retriever(ChatQwen(), db)\n",
    "r(\"披萨怎么做？\")"
   ]
  },
  {
   "cell_type": "code",
   "execution_count": 2,
   "id": "4cbbc6c3-022f-4985-8820-4d328a541a9c",
   "metadata": {},
   "outputs": [
    {
     "name": "stdout",
     "output_type": "stream",
     "text": [
      "\u001b[32m```\u001b[0m\u001b[32mmarkdown\u001b[0m\u001b[32m\n",
      "\u001b[0m\u001b[32m<!--\u001b[0m\u001b[32m @meta -->\n",
      "**\u001b[0m\u001b[32mQuestion:**\n",
      "如何\u001b[0m\u001b[32m才能做出美味的\u001b[0m\u001b[32m炒蛋？\n",
      "\n",
      "**\u001b[0m\u001b[32mAnswer:**\n",
      "首先\u001b[0m\u001b[32m将鸡蛋打入碗\u001b[0m\u001b[32m中，加入少量\u001b[0m\u001b[32m盐和胡椒\u001b[0m\u001b[32m粉搅拌均匀。\u001b[0m\u001b[32m然后在平底\u001b[0m\u001b[32m锅中加入适量\u001b[0m\u001b[32m油，油热\u001b[0m\u001b[32m后倒入蛋液\u001b[0m\u001b[32m，用中小火\u001b[0m\u001b[32m慢慢翻炒至\u001b[0m\u001b[32m熟即可。\n",
      "\n",
      "<!--\u001b[0m\u001b[32m @meta -->\n",
      "**\u001b[0m\u001b[32mQuestion:**\n",
      "怎样\u001b[0m\u001b[32m烹饪出口感松\u001b[0m\u001b[32m软的炒蛋\u001b[0m\u001b[32m？\n",
      "\n",
      "**Answer:\u001b[0m\u001b[32m**\n",
      "准备阶段，\u001b[0m\u001b[32m把鸡蛋打散\u001b[0m\u001b[32m，加点温\u001b[0m\u001b[32m水（比例为\u001b[0m\u001b[32m1:1），\u001b[0m\u001b[32m再放入适量盐\u001b[0m\u001b[32m调味。接着，\u001b[0m\u001b[32m热锅凉油\u001b[0m\u001b[32m下蛋液，\u001b[0m\u001b[32m用中低火\u001b[0m\u001b[32m轻轻推动直至成型\u001b[0m\u001b[32m。\n",
      "\n",
      "<!-- @meta\u001b[0m\u001b[32m -->\n",
      "**Question:\u001b[0m\u001b[32m**\n",
      "要如何保证\u001b[0m\u001b[32m每次都能成功制作\u001b[0m\u001b[32m出色香味俱全\u001b[0m\u001b[32m的炒蛋呢\u001b[0m\u001b[32m？\n",
      "\n",
      "**Answer:\u001b[0m\u001b[32m**\n",
      "关键是掌握好\u001b[0m\u001b[32m火候与调味\u001b[0m\u001b[32m。先调制\u001b[0m\u001b[32m好蛋液（\u001b[0m\u001b[32m鸡蛋+盐+\u001b[0m\u001b[32m少许料酒），\u001b[0m\u001b[32m待油温适\u001b[0m\u001b[32m中时倒入，\u001b[0m\u001b[32m保持中小火快速\u001b[0m\u001b[32m翻动，直到\u001b[0m\u001b[32m完全凝固却\u001b[0m\u001b[32m还带点湿润\u001b[0m\u001b[32m感就可出\u001b[0m\u001b[32m锅。\n",
      "```\u001b[0m\u001b[32m\u001b[0m\n"
     ]
    },
    {
     "data": {
      "text/plain": [
       "[{'role': 'system',\n",
       "  'content': '你是强大的AI助手，可以帮我构造问题检索的例子，请帮我：\\n\\n1、设想一个关于《怎么做炒鸡蛋？》的问题描述\\n2、根据该问题扩散成3个该问题的不同问法，形成提问角度清单\\n3、为了增强扩散检索的效果，尽量不要出现明显相同的关键字，\\n4、根据原始问题和新增的提问角度清单构造3个相关问答对\\n5、请不要评论，不要解释，不要废话\\n6、直接使用下面的格式输出，并注意不要修改 @xxx 标签位置和名称：\\n\\n```markdown\\n<!-- @meta -->\\n**Question:**\\n (强相关的问法1)\\n\\n**Answer:**\\n(针对问法1的回答)\\n\\n<!-- @meta -->\\n**Question:**\\n (强相关的问法2)\\n\\n**Answer:**\\n(针对问法2的回答)\\n\\n...\\n```'},\n",
       " {'role': 'user', 'content': '请开始'},\n",
       " {'role': 'assistant',\n",
       "  'content': '<!-- @meta -->\\n**Question:**\\n如何才能做出美味的炒蛋？\\n\\n**Answer:**\\n首先将鸡蛋打入碗中，加入少量盐和胡椒粉搅拌均匀。然后在平底锅中加入适量油，油热后倒入蛋液，用中小火慢慢翻炒至熟即可。\\n\\n<!-- @meta -->\\n**Question:**\\n怎样烹饪出口感松软的炒蛋？\\n\\n**Answer:**\\n准备阶段，把鸡蛋打散，加点温水（比例为1:1），再放入适量盐调味。接着，热锅凉油下蛋液，用中低火轻轻推动直至成型。\\n\\n<!-- @meta -->\\n**Question:**\\n要如何保证每次都能成功制作出色香味俱全的炒蛋呢？\\n\\n**Answer:**\\n关键是掌握好火候与调味。先调制好蛋液（鸡蛋+盐+少许料酒），待油温适中时倒入，保持中小火快速翻动，直到完全凝固却还带点湿润感就可出锅。'}]"
      ]
     },
     "execution_count": 2,
     "metadata": {},
     "output_type": "execute_result"
    }
   ],
   "source": [
    "from illufly.chat import ChatQwen\n",
    "from illufly.types import Template\n",
    "\n",
    "qwen = ChatQwen(memory=[\n",
    "    ('system', Template(\"RAG/QINDEX\", binding_map={\"count\": 3}))\n",
    "])\n",
    "qwen(\"怎么做炒鸡蛋？\")\n",
    "qwen.memory"
   ]
  },
  {
   "cell_type": "code",
   "execution_count": 10,
   "id": "8b785c21-1481-47e2-9504-3580a738c5d1",
   "metadata": {},
   "outputs": [
    {
     "data": {
      "text/plain": [
       "[{'role': 'system',\n",
       "  'content': '你是强大的AI助手，可以帮我构造问题检索的例子，请帮我：\\n\\n1、设想一个怎么做草鸡蛋？的问题描述\\n2、根据该问题扩散成3个该问题的不同问法，形成提问角度清单\\n3、为了增强扩散检索的效果，尽量不要出现明显相同的关键字，\\n4、根据原始问题和新增的提问角度清单构造3个相关问答对\\n5、请不要评论，不要解释，不要废话\\n6、直接使用下面的格式输出，并注意不要修改 @xxx 标签位置和名称：\\n\\n```markdown\\n<!-- @meta -->\\n**Question:**\\n (强相关的问法1)\\n\\n**Answer:**\\n(针对问法1的回答)\\n\\n<!-- @meta -->\\n**Question:**\\n (强相关的问法2)\\n\\n**Answer:**\\n(针对问法2的回答)\\n\\n...\\n```'},\n",
       " {'role': 'user', 'content': '请开始'}]"
      ]
     },
     "execution_count": 10,
     "metadata": {},
     "output_type": "execute_result"
    }
   ],
   "source": [
    "qwen.get_chat_memory(\"怎么做草鸡蛋？\")"
   ]
  },
  {
   "cell_type": "code",
   "execution_count": 2,
   "id": "6a1616c4-d9f6-4ac0-b0d3-61636fd20054",
   "metadata": {},
   "outputs": [
    {
     "data": {
      "text/plain": [
       "[{'role': 'system', 'content': '怎么做炒鸡蛋？'},\n",
       " {'role': 'user', 'content': '请开始'},\n",
       " {'role': 'assistant',\n",
       "  'content': '1. 准备好鸡蛋，打散备用。\\n2. 烧热油锅，加入葱花爆香。\\n3. 倒入鸡蛋液，用铲子快速搅拌至熟。\\n4. 加入适量盐调味即可出锅。'}]"
      ]
     },
     "execution_count": 2,
     "metadata": {},
     "output_type": "execute_result"
    }
   ],
   "source": [
    "qwen.memory"
   ]
  },
  {
   "cell_type": "code",
   "execution_count": null,
   "id": "9174796f-64e0-4f1f-8ab5-5172027ecb4f",
   "metadata": {},
   "outputs": [],
   "source": []
  }
 ],
 "metadata": {
  "kernelspec": {
   "display_name": "textlong-same-ipykernel",
   "language": "python",
   "name": "textlong-same-ipykernel"
  },
  "language_info": {
   "codemirror_mode": {
    "name": "ipython",
    "version": 3
   },
   "file_extension": ".py",
   "mimetype": "text/x-python",
   "name": "python",
   "nbconvert_exporter": "python",
   "pygments_lexer": "ipython3",
   "version": "3.10.0"
  }
 },
 "nbformat": 4,
 "nbformat_minor": 5
}
