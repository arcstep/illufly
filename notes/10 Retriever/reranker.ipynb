{
 "cells": [
  {
   "cell_type": "markdown",
   "id": "4fed5a12-993b-48bd-9373-413e898a564b",
   "metadata": {},
   "source": [
    "## 通义千问 ReRank"
   ]
  },
  {
   "cell_type": "code",
   "execution_count": 2,
   "id": "15f81be7-99b8-4f8e-9f77-9881fbcccd87",
   "metadata": {},
   "outputs": [],
   "source": [
    "from illufly.rag import DashScopeReranker"
   ]
  },
  {
   "cell_type": "code",
   "execution_count": 3,
   "id": "ffd4068a-b0c8-4c7d-ab51-82d311851066",
   "metadata": {},
   "outputs": [
    {
     "name": "stdout",
     "output_type": "stream",
     "text": [
      "\n"
     ]
    },
    {
     "data": {
      "text/plain": [
       "[Document(text=\"先准备面粉、鸡蛋、芝士等原材料，再用烤箱煎\", meta=['source', 'id', 'rerank_score']),\n",
       " Document(text=\"用面粉和鸡蛋\", meta=['source', 'id', 'rerank_score']),\n",
       " Document(text=\"叫外卖\", meta=['source', 'id', 'rerank_score']),\n",
       " Document(text=\"打车\", meta=['source', 'id', 'rerank_score'])]"
      ]
     },
     "execution_count": 3,
     "metadata": {},
     "output_type": "execute_result"
    }
   ],
   "source": [
    "r = DashScopeReranker()\n",
    "r(\"披萨怎么做?\", [\"打车\", \"用面粉和鸡蛋\", \"先准备面粉、鸡蛋、芝士等原材料，再用烤箱煎\", \"叫外卖\"])"
   ]
  },
  {
   "cell_type": "code",
   "execution_count": null,
   "id": "ffd8ab8d-254b-464d-9d38-f8c9d680078e",
   "metadata": {},
   "outputs": [],
   "source": []
  }
 ],
 "metadata": {
  "kernelspec": {
   "display_name": "textlong-same-ipykernel",
   "language": "python",
   "name": "textlong-same-ipykernel"
  },
  "language_info": {
   "codemirror_mode": {
    "name": "ipython",
    "version": 3
   },
   "file_extension": ".py",
   "mimetype": "text/x-python",
   "name": "python",
   "nbconvert_exporter": "python",
   "pygments_lexer": "ipython3",
   "version": "3.10.0"
  }
 },
 "nbformat": 4,
 "nbformat_minor": 5
}
