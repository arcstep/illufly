{
 "cells": [
  {
   "cell_type": "markdown",
   "id": "80aafb24-8ea5-4061-b989-1bd80f1de4dd",
   "metadata": {},
   "source": [
    "# 向量模型"
   ]
  },
  {
   "cell_type": "markdown",
   "id": "b4781df2-976d-4925-97f4-ddc20cfe98b1",
   "metadata": {},
   "source": [
    "## 通义千问"
   ]
  },
  {
   "cell_type": "code",
   "execution_count": 3,
   "id": "4fc871a8-1dd9-4b49-b942-7a1eaa3bb5e4",
   "metadata": {},
   "outputs": [
    {
     "name": "stdout",
     "output_type": "stream",
     "text": [
      "  0s [INFO] \u001b[34m文本向量转换: 30 字 / 1 个文件\u001b[0m\n",
      "  0s [INFO] \u001b[34mwrote embedding cache __CACHE_EMBEDDINGS__/DashScopeEmbeddings/text-embedding-v2/unknown/710f799bd2ba5de62ecfcdbee9a21e99.emb illufly？ 这是一个专注于写作和对话场景的多智能体框架\u001b[0m\n",
      "  0s [INFO] \u001b[34m文本向量转换：27 字 / 2 个文件\u001b[0m\n",
      "  1s [INFO] \u001b[34mwrote embedding cache __CACHE_EMBEDDINGS__/DashScopeEmbeddings/text-embedding-v2/unknown/96c8807d58722e787b5f26a5ee5aa938.emb 普鸿是做消防业务的专业公司\u001b[0m\n",
      "  1s [INFO] \u001b[34mwrote embedding cache __CACHE_EMBEDDINGS__/DashScopeEmbeddings/text-embedding-v2/unknown/912f1f357fa10d5fb2c74cadbe162794.emb 幻蝶AI的智能体框架非常领先\u001b[0m\n"
     ]
    },
    {
     "data": {
      "text/plain": [
       "[Document(text='illufly？ 这是一个专注于写作和对话场景的多智能体框架', metadata='{\"source\": \"unknown\", \"embeddings\": [-0.001326353983337494, -0.016058654738295187, 0.006714335641521\n",
       " ...(省略34081字)\n",
       " 30237085, 0.009665492191539934, -0.036940965767791496, -0.019573379171582438, 0.018349285489644464]}'),\n",
       " Document(text='普鸿是做消防业务的专业公司', metadata='{\"source\": \"unknown\", \"embeddings\": [0.01901209119353509, 0.047613558120559216, 0.005663244291803186\n",
       " ...(省略34010字)\n",
       " 043622673, 0.021550455358282188, 0.0029149522826230887, 0.020153073065567875, 0.013961002906109044]}'),\n",
       " Document(text='幻蝶AI的智能体框架非常领先', metadata='{\"source\": \"unknown\", \"embeddings\": [0.011582608051240808, 0.005565467917783711, -0.0333123727285686\n",
       " ...(省略33964字)\n",
       " 2410607, 0.014069898882757264, -0.035663543166320526, -0.020232440345917438, -0.010171905788589685]}')]"
      ]
     },
     "execution_count": 3,
     "metadata": {},
     "output_type": "execute_result"
    }
   ],
   "source": [
    "from illufly.embeddings import ZhipuEmbeddings, DashScopeEmbeddings\n",
    "from illufly.io import log\n",
    "import os\n",
    "# os.environ[\"ILLUFLY_CACHE_EMBEDDINGS\"] = \"./__CACHE_EMBEDDINGS__\"\n",
    "\n",
    "e = DashScopeEmbeddings()\n",
    "e(\n",
    "    docs=[\n",
    "        \"illufly？ 这是一个专注于写作和对话场景的多智能体框架\",\n",
    "        \"普鸿是做消防业务的专业公司\",\n",
    "        \"幻蝶AI的智能体框架非常领先\",\n",
    "    ],\n",
    "    batch_mode=True,\n",
    "    batch_size=30,\n",
    "    verbose=True\n",
    ")"
   ]
  },
  {
   "cell_type": "code",
   "execution_count": 4,
   "id": "6e225094-1ee6-4517-bc1b-1f5503bf5b37",
   "metadata": {},
   "outputs": [
    {
     "data": {
      "text/plain": [
       "[Document(text='illufly？ 这是一个专注于写作和对话场景的多智能体框架', metadata='{\"source\": \"unknown\", \"embeddings\": [-0.001326353983337494, -0.016058654738295187, 0.006714335641521\n",
       " ...(省略34081字)\n",
       " 30237085, 0.009665492191539934, -0.036940965767791496, -0.019573379171582438, 0.018349285489644464]}'),\n",
       " Document(text='幻蝶AI的智能体框架非常领先', metadata='{\"source\": \"unknown\", \"embeddings\": [0.011582608051240808, 0.005565467917783711, -0.0333123727285686\n",
       " ...(省略33964字)\n",
       " 2410607, 0.014069898882757264, -0.035663543166320526, -0.020232440345917438, -0.010171905788589685]}')]"
      ]
     },
     "execution_count": 4,
     "metadata": {},
     "output_type": "execute_result"
    }
   ],
   "source": [
    "from illufly.embeddings import ZhipuEmbeddings, DashScopeEmbeddings\n",
    "from illufly.io import log\n",
    "import os\n",
    "\n",
    "e = DashScopeEmbeddings()\n",
    "e(\n",
    "    docs=[\n",
    "        \"illufly？ 这是一个专注于写作和对话场景的多智能体框架\",\n",
    "        \"幻蝶AI的智能体框架非常领先\",\n",
    "    ],\n",
    "    batch_mode=False,\n",
    "    verbose=True\n",
    ")"
   ]
  },
  {
   "cell_type": "code",
   "execution_count": null,
   "id": "54d8ddbb-0ea2-46b7-9957-c8cfa24188bf",
   "metadata": {},
   "outputs": [],
   "source": [
    "from illufly.embeddings import ZhipuEmbeddings, DashScopeEmbeddings\n",
    "from illufly.io import log\n",
    "\n",
    "e = DashScopeEmbeddings()\n",
    "e.query(\"illufly 是一个专注于写作和对话场景的多智能体框架\")"
   ]
  },
  {
   "cell_type": "markdown",
   "id": "d34b5a07-4cd7-47bd-95d0-6cffe6201c1c",
   "metadata": {},
   "source": [
    "## 智谱AI"
   ]
  },
  {
   "cell_type": "code",
   "execution_count": null,
   "id": "3f797a29-af69-4a3a-a422-3cc41ae11331",
   "metadata": {
    "scrolled": true
   },
   "outputs": [],
   "source": [
    "from illufly.embeddings import ZhipuEmbeddings, DashScopeEmbeddings\n",
    "from illufly.io import log\n",
    "\n",
    "e = ZhipuEmbeddings()\n",
    "resp = e.embed_documents([\"illufly 是一个专注于写作和对话场景的多智能体框架\"])\n",
    "print(resp)"
   ]
  },
  {
   "cell_type": "code",
   "execution_count": null,
   "id": "416f6c5b-efe5-4494-8c74-86611085a7c6",
   "metadata": {
    "scrolled": true
   },
   "outputs": [],
   "source": [
    "from illufly.embeddings import ZhipuEmbeddings, DashScopeEmbeddings\n",
    "from illufly.io import log\n",
    "\n",
    "e = ZhipuEmbeddings()\n",
    "resp = e.query(\"illufly 是一个专注于写作和对话场景的多智能体框架\")\n",
    "print(resp)"
   ]
  },
  {
   "cell_type": "code",
   "execution_count": null,
   "id": "6c655143-12e6-443d-9fd2-2e695bcca07c",
   "metadata": {},
   "outputs": [],
   "source": []
  }
 ],
 "metadata": {
  "kernelspec": {
   "display_name": "textlong-same-ipykernel",
   "language": "python",
   "name": "textlong-same-ipykernel"
  },
  "language_info": {
   "codemirror_mode": {
    "name": "ipython",
    "version": 3
   },
   "file_extension": ".py",
   "mimetype": "text/x-python",
   "name": "python",
   "nbconvert_exporter": "python",
   "pygments_lexer": "ipython3",
   "version": "3.10.0"
  }
 },
 "nbformat": 4,
 "nbformat_minor": 5
}
