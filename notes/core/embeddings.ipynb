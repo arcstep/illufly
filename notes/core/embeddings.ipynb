{
 "cells": [
  {
   "cell_type": "markdown",
   "id": "80aafb24-8ea5-4061-b989-1bd80f1de4dd",
   "metadata": {},
   "source": [
    "# 向量模型"
   ]
  },
  {
   "cell_type": "markdown",
   "id": "b4781df2-976d-4925-97f4-ddc20cfe98b1",
   "metadata": {},
   "source": [
    "## 通义千问"
   ]
  },
  {
   "cell_type": "code",
   "execution_count": 1,
   "id": "4fc871a8-1dd9-4b49-b942-7a1eaa3bb5e4",
   "metadata": {},
   "outputs": [
    {
     "data": {
      "text/plain": [
       "[Document(text='illufly？ 这是一个专注于写作和对话场景的多智能体框架', metadata='{\"source\": \"unknown\", \"embeddings\": [-0.001326353983337494, -0.016058654738295187, 0.006714335641521\n",
       " ...(省略34081字)\n",
       " 30237085, 0.009665492191539934, -0.036940965767791496, -0.019573379171582438, 0.018349285489644464]}'),\n",
       " Document(text='普鸿是做消防业务的专业公司', metadata='{\"source\": \"unknown\", \"embeddings\": [0.01901209119353509, 0.047613558120559216, 0.005663244291803186\n",
       " ...(省略34010字)\n",
       " 043622673, 0.021550455358282188, 0.0029149522826230887, 0.020153073065567875, 0.013961002906109044]}'),\n",
       " Document(text='幻蝶AI的智能体框架非常领先', metadata='{\"source\": \"unknown\", \"embeddings\": [0.011582608051240808, 0.005565467917783711, -0.0333123727285686\n",
       " ...(省略33964字)\n",
       " 2410607, 0.014069898882757264, -0.035663543166320526, -0.020232440345917438, -0.010171905788589685]}')]"
      ]
     },
     "execution_count": 1,
     "metadata": {},
     "output_type": "execute_result"
    }
   ],
   "source": [
    "from illufly.embeddings import ZhipuEmbeddings, DashScopeEmbeddings\n",
    "from illufly.io import log\n",
    "import os\n",
    "# os.environ[\"ILLUFLY_CACHE_EMBEDDINGS\"] = \"./__CACHE_EMBEDDINGS__\"\n",
    "\n",
    "e = DashScopeEmbeddings()\n",
    "e(\n",
    "    docs=[\n",
    "        \"illufly？ 这是一个专注于写作和对话场景的多智能体框架\",\n",
    "        \"普鸿是做消防业务的专业公司\",\n",
    "        \"幻蝶AI的智能体框架非常领先\",\n",
    "    ],\n",
    "    batch_mode=False,\n",
    "    batch_size=30,\n",
    "    verbose=True\n",
    ")"
   ]
  },
  {
   "cell_type": "code",
   "execution_count": 23,
   "id": "9969b643-30c0-4fbb-8cca-039f2c40d707",
   "metadata": {},
   "outputs": [
    {
     "name": "stdout",
     "output_type": "stream",
     "text": [
      "data:  [[0.2948229  0.82961154 0.47127348 ... 0.6672886  0.82751054 0.34681177]\n",
      " [0.6373704  0.86194396 0.7850018  ... 0.77993435 0.06357363 0.54621   ]\n",
      " [0.22330941 0.27790442 0.24501505 ... 0.0368644  0.12274551 0.775946  ]\n",
      " ...\n",
      " [0.5128865  0.76793176 0.46633238 ... 0.6367985  0.9986108  0.7562756 ]\n",
      " [0.43221545 0.2550714  0.53636205 ... 0.40218335 0.31730047 0.45858368]\n",
      " [0.09664652 0.20799264 0.12496893 ... 0.73829806 0.7290184  0.66596776]]\n",
      "Nearest neighbors (indices): [[3795 3273 6543 8073 8454]]\n",
      "Distances: [[13.356586 13.396664 13.531391 13.568047 13.654969]]\n"
     ]
    }
   ],
   "source": [
    "import numpy as np\n",
    "\n",
    "d = 128  # 向量的维度\n",
    "n = 10000  # 向量的数量\n",
    "data = np.random.random((n, d)).astype('float32')  # 创建随机向量\n",
    "data\n",
    "\n",
    "print(\"data: \", data)\n",
    "\n",
    "import faiss\n",
    "\n",
    "index = faiss.IndexFlatL2(d)  # L2距离度量的平面索引\n",
    "index.add(data)  # 将数据添加到索引中\n",
    "\n",
    "k = 5  # 查找最相似的前5个向量\n",
    "query_vector = np.random.random((1, d)).astype('float32')  # 创建一个查询向量\n",
    "distances, indices = index.search(query_vector, k)  # 搜索\n",
    "\n",
    "print(f\"Nearest neighbors (indices): {indices}\")\n",
    "print(f\"Distances: {distances}\")\n",
    "\n",
    "# vectors = np.array([doc.metadata['embeddings'] for doc in e.output])"
   ]
  },
  {
   "cell_type": "code",
   "execution_count": 21,
   "id": "4002691b-7ae9-4ba5-bbaa-7cf38ef13262",
   "metadata": {},
   "outputs": [
    {
     "data": {
      "text/plain": [
       "array([[6911, 1788,  154, 9048, 3168]])"
      ]
     },
     "execution_count": 21,
     "metadata": {},
     "output_type": "execute_result"
    }
   ],
   "source": [
    "indices"
   ]
  },
  {
   "cell_type": "code",
   "execution_count": 15,
   "id": "43c63346-9d6a-4308-8434-4d82a4a69838",
   "metadata": {},
   "outputs": [],
   "source": [
    "from illufly.embeddings import DashScopeEmbeddings\n",
    "import os\n",
    "\n",
    "e = DashScopeEmbeddings()\n",
    "x = e(\n",
    "    docs=[\n",
    "\"illufly？ 这是一个专注于写作和对话场景的多智能体框架\",\n",
    "\"普鸿是做消防业务的专业公司\",\n",
    "\"幻蝶AI的智能体框架非常领先\",\n",
    "'模型：这里列出了被评估的模型名称，都是基于\"text-embedding-v3\"',\n",
    "'模型维度：这是指向量模型的维度，即每个向量在嵌入空间中的特征数量。在这个例子中，模型的维度分别为1024、768和512。',\n",
    "'MTEB：这可能是模型在某个基准测试（可能是多任务情感分析基准，Multi-Task Emotion Benchmark）上的总体准确率或得分。数值越高，表示模型在该基准测试上的表现越好。',\n",
    "'MTEB（Retrieval task）：这是模型在MTEB基准的检索任务上的得分。检索任务通常涉及到从数据集中检索与给定查询最相关的项。',\n",
    "'CMTEB：这可能是模型在某种上下文修改的MTEB基准测试上的得分。这里的“C”可能代表“Contextual”或其他某种修改版。',\n",
    "'CMTEB (Retrieval task)：这是模型在CMTEB基准的检索任务上的得分。',\n",
    "\"illufly？ 这是一个专注于写作和对话场景的多智能体框架\",\n",
    "\"普鸿是做消防业务的专业公司\",\n",
    "\"幻蝶AI的智能体框架非常领先\",\n",
    "'模型：这里列出了被评估的模型名称，都是基于\"text-embedding-v3\"',\n",
    "'模型维度：这是指向量模型的维度，即每个向量在嵌入空间中的特征数量。在这个例子中，模型的维度分别为1024、768和512。',\n",
    "'MTEB：这可能是模型在某个基准测试（可能是多任务情感分析基准，Multi-Task Emotion Benchmark）上的总体准确率或得分。数值越高，表示模型在该基准测试上的表现越好。',\n",
    "'MTEB（Retrieval task）：这是模型在MTEB基准的检索任务上的得分。检索任务通常涉及到从数据集中检索与给定查询最相关的项。',\n",
    "'CMTEB：这可能是模型在某种上下文修改的MTEB基准测试上的得分。这里的“C”可能代表“Contextual”或其他某种修改版。',\n",
    "'CMTEB (Retrieval task)：这是模型在CMTEB基准的检索任务上的得分。',\n",
    "\"illufly？ 这是一个专注于写作和对话场景的多智能体框架\",\n",
    "\"普鸿是做消防业务的专业公司\",\n",
    "\"幻蝶AI的智能体框架非常领先\",\n",
    "'模型：这里列出了被评估的模型名称，都是基于\"text-embedding-v3\"',\n",
    "'模型维度：这是指向量模型的维度，即每个向量在嵌入空间中的特征数量。在这个例子中，模型的维度分别为1024、768和512。',\n",
    "'MTEB：这可能是模型在某个基准测试（可能是多任务情感分析基准，Multi-Task Emotion Benchmark）上的总体准确率或得分。数值越高，表示模型在该基准测试上的表现越好。',\n",
    "'MTEB（Retrieval task）：这是模型在MTEB基准的检索任务上的得分。检索任务通常涉及到从数据集中检索与给定查询最相关的项。',\n",
    "'CMTEB：这可能是模型在某种上下文修改的MTEB基准测试上的得分。这里的“C”可能代表“Contextual”或其他某种修改版。',\n",
    "'CMTEB (Retrieval task)：这是模型在CMTEB基准的检索任务上的得分。',\n",
    "    ],\n",
    "    batch_mode=False,\n",
    "    batch_size=30,\n",
    "    verbose=True\n",
    ")"
   ]
  },
  {
   "cell_type": "code",
   "execution_count": 18,
   "id": "80cfa767-12f0-462c-9d69-5c00f637c750",
   "metadata": {},
   "outputs": [
    {
     "name": "stdout",
     "output_type": "stream",
     "text": [
      "耗时0.4258251190185547s\n"
     ]
    }
   ],
   "source": [
    "import time\n",
    "start = time.time()\n",
    "from illufly.vectordb import FaissDB\n",
    "v = FaissDB(e, train=False)\n",
    "v.query(\"幻蝶是啥？\")\n",
    "end = time.time()\n",
    "print(\"耗时{}s\".format(end-start))"
   ]
  },
  {
   "cell_type": "code",
   "execution_count": 23,
   "id": "b5111496-da35-43cd-a0ed-e8034154c402",
   "metadata": {},
   "outputs": [
    {
     "name": "stdout",
     "output_type": "stream",
     "text": [
      "耗时0.29273080825805664s\n"
     ]
    }
   ],
   "source": [
    "start = time.time()\n",
    "v = FaissDB(e, train=True)\n",
    "v.query(\"幻蝶是啥？\")\n",
    "end = time.time()\n",
    "print(\"耗时{}s\".format(end-start))"
   ]
  },
  {
   "cell_type": "code",
   "execution_count": 29,
   "id": "5270a7dc-2df2-4385-acfd-525c89f9300d",
   "metadata": {},
   "outputs": [
    {
     "name": "stdout",
     "output_type": "stream",
     "text": [
      "耗时1.2465600967407227s\n"
     ]
    }
   ],
   "source": [
    "start = time.time()\n",
    "v.query(\"幻蝶是啥？\")\n",
    "end = time.time()\n",
    "print(\"耗时{}s\".format(end-start))"
   ]
  },
  {
   "cell_type": "code",
   "execution_count": 4,
   "id": "6e225094-1ee6-4517-bc1b-1f5503bf5b37",
   "metadata": {},
   "outputs": [
    {
     "data": {
      "text/plain": [
       "[Document(text='illufly？ 这是一个专注于写作和对话场景的多智能体框架', metadata='{\"source\": \"unknown\", \"embeddings\": [-0.001326353983337494, -0.016058654738295187, 0.006714335641521\n",
       " ...(省略34081字)\n",
       " 30237085, 0.009665492191539934, -0.036940965767791496, -0.019573379171582438, 0.018349285489644464]}'),\n",
       " Document(text='幻蝶AI的智能体框架非常领先', metadata='{\"source\": \"unknown\", \"embeddings\": [0.011582608051240808, 0.005565467917783711, -0.0333123727285686\n",
       " ...(省略33964字)\n",
       " 2410607, 0.014069898882757264, -0.035663543166320526, -0.020232440345917438, -0.010171905788589685]}')]"
      ]
     },
     "execution_count": 4,
     "metadata": {},
     "output_type": "execute_result"
    }
   ],
   "source": [
    "from illufly.embeddings import ZhipuEmbeddings, DashScopeEmbeddings\n",
    "from illufly.io import log\n",
    "import os\n",
    "\n",
    "e = DashScopeEmbeddings()\n",
    "e(\n",
    "    docs=[\n",
    "        \"illufly？ 这是一个专注于写作和对话场景的多智能体框架\",\n",
    "        \"幻蝶AI的智能体框架非常领先\",\n",
    "    ],\n",
    "    batch_mode=False,\n",
    "    verbose=True\n",
    ")"
   ]
  },
  {
   "cell_type": "code",
   "execution_count": null,
   "id": "54d8ddbb-0ea2-46b7-9957-c8cfa24188bf",
   "metadata": {},
   "outputs": [],
   "source": [
    "from illufly.embeddings import ZhipuEmbeddings, DashScopeEmbeddings\n",
    "from illufly.io import log\n",
    "\n",
    "e = DashScopeEmbeddings()\n",
    "e.query(\"illufly 是一个专注于写作和对话场景的多智能体框架\")"
   ]
  },
  {
   "cell_type": "markdown",
   "id": "d34b5a07-4cd7-47bd-95d0-6cffe6201c1c",
   "metadata": {},
   "source": [
    "## 智谱AI"
   ]
  },
  {
   "cell_type": "code",
   "execution_count": null,
   "id": "3f797a29-af69-4a3a-a422-3cc41ae11331",
   "metadata": {
    "scrolled": true
   },
   "outputs": [],
   "source": [
    "from illufly.embeddings import ZhipuEmbeddings, DashScopeEmbeddings\n",
    "from illufly.io import log\n",
    "\n",
    "e = ZhipuEmbeddings()\n",
    "resp = e.embed_documents([\"illufly 是一个专注于写作和对话场景的多智能体框架\"])\n",
    "print(resp)"
   ]
  },
  {
   "cell_type": "code",
   "execution_count": null,
   "id": "416f6c5b-efe5-4494-8c74-86611085a7c6",
   "metadata": {
    "scrolled": true
   },
   "outputs": [],
   "source": [
    "from illufly.embeddings import ZhipuEmbeddings, DashScopeEmbeddings\n",
    "from illufly.io import log\n",
    "\n",
    "e = ZhipuEmbeddings()\n",
    "resp = e.query(\"illufly 是一个专注于写作和对话场景的多智能体框架\")\n",
    "print(resp)"
   ]
  },
  {
   "cell_type": "code",
   "execution_count": null,
   "id": "6c655143-12e6-443d-9fd2-2e695bcca07c",
   "metadata": {},
   "outputs": [],
   "source": []
  }
 ],
 "metadata": {
  "kernelspec": {
   "display_name": "textlong-same-ipykernel",
   "language": "python",
   "name": "textlong-same-ipykernel"
  },
  "language_info": {
   "codemirror_mode": {
    "name": "ipython",
    "version": 3
   },
   "file_extension": ".py",
   "mimetype": "text/x-python",
   "name": "python",
   "nbconvert_exporter": "python",
   "pygments_lexer": "ipython3",
   "version": "3.10.0"
  }
 },
 "nbformat": 4,
 "nbformat_minor": 5
}
