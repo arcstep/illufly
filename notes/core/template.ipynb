{
 "cells": [
  {
   "cell_type": "markdown",
   "id": "472d7585-44b2-4ef0-9fa8-ed05ab445e5f",
   "metadata": {},
   "source": [
    "# 提示语模板"
   ]
  },
  {
   "cell_type": "code",
   "execution_count": 2,
   "id": "9ad9f371-60e9-4b56-93b0-739eaed5592e",
   "metadata": {},
   "outputs": [
    {
     "data": {
      "text/plain": [
       "<Template input_variables={'task'} template_text='你是强大的写作助手。\n",
       "\n",
       "你必须遵循以下约束来完成任务:\n",
       "1. 直接输出你的结果，不要评论，不要啰嗦\n",
       "2. 使用markdown格式输出\n",
       "\n",
       "**你的任务是:**\n",
       "{{task}}\n",
       "'>"
      ]
     },
     "execution_count": 2,
     "metadata": {},
     "output_type": "execute_result"
    }
   ],
   "source": [
    "from illufly.types import Template, Messages, Runnable\n",
    "\n",
    "t = Template(\"IDEA\")\n",
    "t"
   ]
  },
  {
   "cell_type": "markdown",
   "id": "9781029b-3567-41b1-b13d-84d421028ed7",
   "metadata": {},
   "source": [
    "## 通过 format 提供变量"
   ]
  },
  {
   "cell_type": "code",
   "execution_count": 5,
   "id": "1f374094-6b08-4633-9da7-6aec6e9d5c7f",
   "metadata": {},
   "outputs": [
    {
     "data": {
      "text/plain": [
       "'你是强大的写作助手。\\n\\n你必须遵循以下约束来完成任务:\\n1. 直接输出你的结果，不要评论，不要啰嗦\\n2. 使用markdown格式输出\\n\\n**你的任务是:**\\n帮我写一首儿歌\\n'"
      ]
     },
     "execution_count": 5,
     "metadata": {},
     "output_type": "execute_result"
    }
   ],
   "source": [
    "t.format({\"task\": \"帮我写一首儿歌\"})"
   ]
  },
  {
   "cell_type": "markdown",
   "id": "7bdd317a-2d7d-413e-97d2-552df8228d98",
   "metadata": {},
   "source": [
    "## 通过绑定 Runnable 提供变量"
   ]
  },
  {
   "cell_type": "code",
   "execution_count": 12,
   "id": "6f7277a5-7c0b-4da0-b822-006840c1d141",
   "metadata": {},
   "outputs": [
    {
     "data": {
      "text/plain": [
       "'你是强大的写作助手。\\n\\n你必须遵循以下约束来完成任务:\\n1. 直接输出你的结果，不要评论，不要啰嗦\\n2. 使用markdown格式输出\\n\\n**你的任务是:**\\n帮我写一首儿歌\\n'"
      ]
     },
     "execution_count": 12,
     "metadata": {},
     "output_type": "execute_result"
    }
   ],
   "source": [
    "class A(Runnable):\n",
    "    def __init__(self):\n",
    "        self.task = \"\"\n",
    "    @property\n",
    "    def exported_vars(self):\n",
    "        return {\"task\": self.task}\n",
    "\n",
    "    def call(self, task: str, **kwargs):\n",
    "        self.task = task\n",
    "\n",
    "a = A()\n",
    "t = Template(\"IDEA\")\n",
    "t.bind_runnables(a)\n",
    "a.call(\"帮我写一首儿歌\")\n",
    "t.format()"
   ]
  },
  {
   "cell_type": "markdown",
   "id": "31f5baba-bdd3-4342-bd33-d4a0a549eee5",
   "metadata": {},
   "source": [
    "## 绑定时使用映射"
   ]
  },
  {
   "cell_type": "code",
   "execution_count": 9,
   "id": "f5f6e463-9780-476a-aeea-06fa548868b1",
   "metadata": {},
   "outputs": [
    {
     "data": {
      "text/plain": [
       "'你是强大的写作助手。\\n\\n你必须遵循以下约束来完成任务:\\n1. 直接输出你的结果，不要评论，不要啰嗦\\n2. 使用markdown格式输出\\n\\n**你的任务是:**\\n帮我写一首儿歌\\n'"
      ]
     },
     "execution_count": 9,
     "metadata": {},
     "output_type": "execute_result"
    }
   ],
   "source": [
    "class A(Runnable):\n",
    "    def call(self, prompt: str, **kwargs):\n",
    "        self._last_input = prompt\n",
    "        self._last_output = f\"你说{prompt}？\"\n",
    "\n",
    "a = A()\n",
    "t = Template(\"IDEA\")\n",
    "t.bind_runnables(a, {\"task\": \"last_input\"})\n",
    "a.call(\"帮我写一首儿歌\")\n",
    "t.format()"
   ]
  },
  {
   "cell_type": "code",
   "execution_count": 13,
   "id": "7dd74b5e-2b21-41b1-897e-a722949192d8",
   "metadata": {},
   "outputs": [
    {
     "data": {
      "text/plain": [
       "'你是强大的写作助手。你的任务是：\\n帮我写一首儿歌 \\n 你已经完成了：你说帮我写一首儿歌？'"
      ]
     },
     "execution_count": 13,
     "metadata": {},
     "output_type": "execute_result"
    }
   ],
   "source": [
    "class A(Runnable):\n",
    "    def call(self, prompt: str, **kwargs):\n",
    "        self._last_input = prompt\n",
    "        self._last_output = f\"你说{prompt}？\"\n",
    "\n",
    "a = A()\n",
    "t = Template(template_text='你是强大的写作助手。你的任务是：\\n{{task}} \\n 你已经完成了：{{last_output}}')\n",
    "t.bind_runnables(a, {\"task\": \"last_input\"})\n",
    "a.call(\"帮我写一首儿歌\")\n",
    "t.format()"
   ]
  },
  {
   "cell_type": "code",
   "execution_count": 15,
   "id": "61c69a72-61b4-4c4f-8d73-cfa9d4d1fc8c",
   "metadata": {},
   "outputs": [
    {
     "data": {
      "text/plain": [
       "{}"
      ]
     },
     "execution_count": 15,
     "metadata": {},
     "output_type": "execute_result"
    }
   ],
   "source": [
    "a.imported_vars"
   ]
  },
  {
   "cell_type": "markdown",
   "id": "eb544700-ebaf-4e08-8b99-281049a1c7a1",
   "metadata": {},
   "source": [
    "## 如果希望打印中间过程，可以使用隐藏的 log 函数"
   ]
  },
  {
   "cell_type": "code",
   "execution_count": 10,
   "id": "49541c34-033c-4b09-824d-71d8202cf271",
   "metadata": {},
   "outputs": [
    {
     "name": "stdout",
     "output_type": "stream",
     "text": [
      "  0s [INFO] \u001b[34m你是强大的写作助手。\n",
      "\n",
      "你必须遵循以下约束来完成任务:\n",
      "1. 直接输出你的结果，不要评论，不要啰嗦\n",
      "2. 使用markdown格式输出\n",
      "\n",
      "**你的任务是:**\n",
      "帮我写一首儿歌\n",
      "\u001b[0m\n"
     ]
    },
    {
     "data": {
      "text/plain": [
       "'你是强大的写作助手。\\n\\n你必须遵循以下约束来完成任务:\\n1. 直接输出你的结果，不要评论，不要啰嗦\\n2. 使用markdown格式输出\\n\\n**你的任务是:**\\n帮我写一首儿歌\\n'"
      ]
     },
     "execution_count": 10,
     "metadata": {},
     "output_type": "execute_result"
    }
   ],
   "source": [
    "t(verbose=True)"
   ]
  },
  {
   "cell_type": "code",
   "execution_count": 8,
   "id": "efb543d9-620f-4b94-a6ae-b716c11ffa1f",
   "metadata": {},
   "outputs": [
    {
     "data": {
      "text/plain": [
       "'你是强大的写作助手。\\n\\n你必须遵循以下约束来完成任务:\\n1. 直接输出你的结果，不要评论，不要啰嗦\\n2. 使用markdown格式输出\\n\\n**你的任务是:**\\n帮我写一首儿歌\\n'"
      ]
     },
     "execution_count": 8,
     "metadata": {},
     "output_type": "execute_result"
    }
   ],
   "source": [
    "t.last_output"
   ]
  },
  {
   "cell_type": "code",
   "execution_count": null,
   "id": "da2a4dcd-f766-41c7-9db7-7a25d123c019",
   "metadata": {},
   "outputs": [],
   "source": []
  }
 ],
 "metadata": {
  "kernelspec": {
   "display_name": "textlong-same-ipykernel",
   "language": "python",
   "name": "textlong-same-ipykernel"
  },
  "language_info": {
   "codemirror_mode": {
    "name": "ipython",
    "version": 3
   },
   "file_extension": ".py",
   "mimetype": "text/x-python",
   "name": "python",
   "nbconvert_exporter": "python",
   "pygments_lexer": "ipython3",
   "version": "3.10.0"
  }
 },
 "nbformat": 4,
 "nbformat_minor": 5
}
