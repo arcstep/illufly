{
 "cells": [
  {
   "cell_type": "markdown",
   "id": "a83725c3-2830-48d1-a6ac-43bf467fc302",
   "metadata": {},
   "source": [
    "# RAG 实现"
   ]
  },
  {
   "cell_type": "markdown",
   "id": "edde87b1-ebd3-4f1e-a162-d37c16e32d5a",
   "metadata": {},
   "source": [
    "## 加载文档"
   ]
  },
  {
   "cell_type": "markdown",
   "id": "ebab363b-60d4-409a-bc64-94a18e3ad180",
   "metadata": {},
   "source": [
    "### 从文件读取，并实现拆分"
   ]
  },
  {
   "cell_type": "code",
   "execution_count": 1,
   "id": "9d0370da-cb37-4a83-a707-6130c261d0fd",
   "metadata": {},
   "outputs": [
    {
     "data": {
      "text/plain": [
       "'/Users/xuehongwei/github/illufly/notes/core'"
      ]
     },
     "execution_count": 1,
     "metadata": {},
     "output_type": "execute_result"
    }
   ],
   "source": [
    "import os\n",
    "os.getcwd()"
   ]
  },
  {
   "cell_type": "code",
   "execution_count": 1,
   "id": "33e57703-d03d-405c-8d73-730595d09369",
   "metadata": {},
   "outputs": [
    {
     "name": "stdout",
     "output_type": "stream",
     "text": [
      "files ['./docs/设计理念.md', './docs/推理模式.md']\n",
      "txt # illufly 设计理念介绍...\n",
      "start split ...\n",
      "chunks start >>\n",
      "chunks end >>\n",
      "txt # 常见的智能体推理模式和 illufly 的实现...\n",
      "start split ...\n",
      "chunks start >>\n",
      "chunks end >>\n"
     ]
    },
    {
     "data": {
      "text/plain": [
       "[Document(text='# illufly 设计理念介绍...', metadata='{\"source\": \"./docs/设计理念.md\"}'),\n",
       " Document(text='一般的开发框架们为了开发者使用，会提供自己的类定义，例如用下面的代码来替代：...', metadata='{\"source\": \"./docs/设计理念.md\"}'),\n",
       " Document(text='现在，要求你准确记住这些类的名字以及该从哪里引用，就开始慢慢形成挑战了。...', metadata='{\"source\": \"./docs/设计理念.md\"}'),\n",
       " Document(text=''role': 'user',...', metadata='{\"source\": \"./docs/设计理念.md\"}'),\n",
       " Document(text='# 常见的智能体推理模式和 illufly 的实现...', metadata='{\"source\": \"./docs/推理模式.md\"}'),\n",
       " Document(text='REWOO的全称是Reason without Observation，旨在通过以下方式改进ReACT风格的Agent架构：...', metadata='{\"source\": \"./docs/推理模式.md\"}'),\n",
       " Document(text='- 重规划器Replanner：根据执行情况和反馈调整计划。...', metadata='{\"source\": \"./docs/推理模式.md\"}'),\n",
       " Document(text='Self-Discover由Google研究人员提出，允许大型语言模型在没有明确标签情况下，自主选择并组合原子推理模块，生成推理结构。包含两个阶段：...', metadata='{\"source\": \"./docs/推理模式.md\"}'),\n",
       " Document(text='- **自我迭代的改进**：自动收集智能体的反思能力和规划能力的评测依据和微调依据，确保智能体可以不断优化和提升。...', metadata='{\"source\": \"./docs/推理模式.md\"}')]"
      ]
     },
     "execution_count": 1,
     "metadata": {},
     "output_type": "execute_result"
    }
   ],
   "source": [
    "from illufly.importer import MarkdownFileImporter\n",
    "\n",
    "t = MarkdownFileImporter(dir=\"./\", chunk_size=550)\n",
    "t(verbose=True)\n",
    "t.documents"
   ]
  },
  {
   "cell_type": "code",
   "execution_count": 12,
   "id": "e79ca2aa-f3f7-428f-89c7-f2f235ae7d3b",
   "metadata": {},
   "outputs": [
    {
     "name": "stdout",
     "output_type": "stream",
     "text": [
      "一般的开发框架们为了开发者使用，会提供自己的类定义，例如用下面的代码来替代：\n",
      "\n",
      "```python\n",
      "[\n",
      "    SystemMessage('你是一个AI助手'),\n",
      "    UserMessage('你好'),\n",
      "    AIMessage('有什么可以帮你')\n",
      "]\n",
      "```\n",
      "\n",
      "然后要求开发者尽量使用已经创建的 XXMessage 类来封装所有关于消息格式的功能。\n",
      "到目前为止，这看起来很不错，也完全符合一般的设计原则。\n",
      "\n",
      "但问题会逐渐显现。\n",
      "\n",
      "首先是类定义的体系，仅仅上面几个类是不够的。例如：\n",
      "\n",
      "- 你一定需要基类，比如：`BaseMessage`\n",
      "- 也许你需要区分出工具消息，比如： `ToolMessage`？但这样也许不太够，因为要区分大模型返回的和工具执行的，也许是这样：`ToolCallMessage` 和 `ToolRespMessage`\n",
      "- 如果你要区分携带部分信息的消息，可能还要增加 `UserMessageChunk`、`AIMessageChunk`，以及`ToolCallMessageChunk` 和 `ToolRespMessageChunk`\n",
      "- 多模态的能力中图片的消息该如何定义？是否要增加 `ImageMessage`、`AudioMessage`、`VideoMessage`的定义？以及对应的 `ImageMessageChunk`、`AudioMessageChunk`、`VideoMessageChunk`？\n",
      "\n",
      "有了这些类，你要先记住才能开始做其他的，例如：\n",
      "```python\n",
      "from xxxxxx.xxxxxx.messages import UserMessage, AIMessage, ImageMessage, VideoMessage ...\n",
      "```\n",
      "\n",
      "现在，要求你准确记住这些类的名字以及该从哪里引用，就开始慢慢形成挑战了。\n",
      "\n",
      "...\n",
      "\n",
      "类似的事情会在很多地方发生。\n",
      "\n",
      "你的初衷是，通过这些新类的定义来简化工作，但是现在不得不记住很多新东西。\n",
      "\n",
      "### illufly 中的解决方案\n",
      "\n",
      "```python\n",
      "[\n",
      "    {\n",
      "        'role': 'system',\n",
      "        'content': '你是一个AI助手'\n",
      "    },\n",
      "    {\n"
     ]
    }
   ],
   "source": [
    "print(t.documents[1].text)"
   ]
  },
  {
   "cell_type": "markdown",
   "id": "e1963ee4-19dd-4b05-b893-a86ceea7e3db",
   "metadata": {},
   "source": [
    "## 向量数据库"
   ]
  },
  {
   "cell_type": "markdown",
   "id": "e161bb7f-96dd-44af-8396-b902c5f8648e",
   "metadata": {},
   "source": [
    "### 预先从 Embeddings 构建文档"
   ]
  },
  {
   "cell_type": "code",
   "execution_count": 1,
   "id": "b486482f-64d6-4b99-8f12-06ffb48be896",
   "metadata": {},
   "outputs": [
    {
     "name": "stdout",
     "output_type": "stream",
     "text": [
      "  0s [INFO] \u001b[34m[0.706] ./docs/推理模式.md: - **自我迭代的改进**：自动收集智能体的反思能力和规划能力的评测依据和微调依据，确保智能体可以不断优化和提升。...\u001b[0m\n",
      "  0s [INFO] \u001b[34m[0.867] ./docs/推理模式.md: # 常见的智能体推理模式和 illufly 的实现...\u001b[0m\n",
      "  0s [INFO] \u001b[34m[0.934] ./docs/设计理念.md: 'role': 'user',...\u001b[0m\n",
      "  0s [INFO] \u001b[34m[0.951] ./docs/推理模式.md: Self-Discover由Google研究人员提出，允许大型语言模型在没有明确标签情况下，自主选择并组合原子推理模块，生成推理结构。包含两个阶段：...\u001b[0m\n",
      "  0s [INFO] \u001b[34m[0.987] ./docs/设计理念.md: # illufly 设计理念介绍...\u001b[0m\n"
     ]
    },
    {
     "data": {
      "text/plain": [
       "[(0.70617646,\n",
       "  Document(text='- **自我迭代的改进**：自动收集智能体的反思能力和规划能力的评测依据和微调依据，确保智能体可以不断优化和提升。...', metadata='{\"source\": \"./docs/推理模式.md\", \"embeddings\": [-0.06955220550298691, -0.040011003613471985, -0.03216838...')),\n",
       " (0.86662793,\n",
       "  Document(text='# 常见的智能体推理模式和 illufly 的实现...', metadata='{\"source\": \"./docs/推理模式.md\", \"embeddings\": [-0.03823075070977211, 0.025731494650244713, 0.0117180533...')),\n",
       " (0.9336294,\n",
       "  Document(text=''role': 'user',...', metadata='{\"source\": \"./docs/设计理念.md\", \"embeddings\": [-0.061874520033597946, 0.01978103630244732, -0.015418602...')),\n",
       " (0.9512944,\n",
       "  Document(text='Self-Discover由Google研究人员提出，允许大型语言模型在没有明确标签情况下，自主选择并组合原子推理模块，生成推理结构。包含两个阶段：...', metadata='{\"source\": \"./docs/推理模式.md\", \"embeddings\": [-0.04360850527882576, -0.003100050613284111, -0.01595692...')),\n",
       " (0.98729813,\n",
       "  Document(text='# illufly 设计理念介绍...', metadata='{\"source\": \"./docs/设计理念.md\", \"embeddings\": [-0.09724362939596176, 0.012529165484011173, -0.007420137...'))]"
      ]
     },
     "execution_count": 1,
     "metadata": {},
     "output_type": "execute_result"
    }
   ],
   "source": [
    "from illufly.embeddings import DashScopeEmbeddings\n",
    "from illufly.importer import MarkdownFileImporter\n",
    "from illufly.vectordb import FaissDB\n",
    "\n",
    "# 导入文档\n",
    "local = MarkdownFileImporter(dir=\"./\", chunk_size=550)\n",
    "local(verbose=True)\n",
    "\n",
    "# 文档嵌入\n",
    "emb = DashScopeEmbeddings()\n",
    "emb(local.documents, verbose=True)\n",
    "\n",
    "# 文档入库\n",
    "faiss = FaissDB(emb, train=False)\n",
    "\n",
    "# 查询\n",
    "faiss(\"智能体有哪些类型？\", verbose=True)"
   ]
  },
  {
   "cell_type": "markdown",
   "id": "f794437c-9372-40db-b85c-b417eda1c95d",
   "metadata": {},
   "source": [
    "### Importer + Embeddings + VectorDB "
   ]
  },
  {
   "cell_type": "code",
   "execution_count": 2,
   "id": "5b00fce7-82ce-4fda-a735-c2dba624c6ed",
   "metadata": {},
   "outputs": [
    {
     "name": "stdout",
     "output_type": "stream",
     "text": [
      "  0s [INFO] \u001b[34m[0.487] unknown: 普鸿是一家做数字消防业务的公司\u001b[0m\n",
      "  0s [INFO] \u001b[34m[1.348] unknown: 幻蝶是一家AI技术公司\u001b[0m\n"
     ]
    },
    {
     "data": {
      "text/plain": [
       "[(0.48679453,\n",
       "  Document(text='普鸿是一家做数字消防业务的公司', metadata='{\"source\": \"unknown\", \"embeddings\": [-0.09413302689790726, 0.01354235503822565, -0.03795371949672699...')),\n",
       " (1.3482788,\n",
       "  Document(text='幻蝶是一家AI技术公司', metadata='{\"source\": \"unknown\", \"embeddings\": [-0.08771800994873047, 0.011481866240501404, 0.00165668292902410...'))]"
      ]
     },
     "execution_count": 2,
     "metadata": {},
     "output_type": "execute_result"
    }
   ],
   "source": [
    "from illufly.embeddings import DashScopeEmbeddings\n",
    "from illufly.vectordb import FaissDB\n",
    "\n",
    "# 文档嵌入\n",
    "db = FaissDB(DashScopeEmbeddings())\n",
    "db.add([\"普鸿是一家做数字消防业务的公司\"])\n",
    "db.add([\"幻蝶是一家AI技术公司\"])\n",
    "\n",
    "# 查询\n",
    "db(\"普鸿是啥？\", top_k=5, verbose=True)"
   ]
  },
  {
   "cell_type": "code",
   "execution_count": 3,
   "id": "c7886fb9-ba99-4cb2-a315-c12c53b2bb7a",
   "metadata": {},
   "outputs": [
    {
     "name": "stdout",
     "output_type": "stream",
     "text": [
      "  0s [INFO] \u001b[34m[0.680] ./docs/推理模式.md: - **自我迭代的改进**：自动收集智能体的反思能力和规划能力的评测依据和微调依据，确保智能体可以不断优化和提升。...\u001b[0m\n",
      "  0s [INFO] \u001b[34m[0.953] ./docs/推理模式.md: # 常见的智能体推理模式和 illufly 的实现...\u001b[0m\n",
      "  0s [INFO] \u001b[34m[0.960] ./docs/设计理念.md: 'role': 'user',...\u001b[0m\n",
      "  0s [INFO] \u001b[34m[1.031] ./docs/推理模式.md: Self-Discover由Google研究人员提出，允许大型语言模型在没有明确标签情况下，自主选择并组合原子推理模块，生成推理结构。包含两个阶段：...\u001b[0m\n",
      "  0s [INFO] \u001b[34m[1.038] ./docs/设计理念.md: # illufly 设计理念介绍...\u001b[0m\n"
     ]
    },
    {
     "data": {
      "text/plain": [
       "[(0.67994213,\n",
       "  Document(text='- **自我迭代的改进**：自动收集智能体的反思能力和规划能力的评测依据和微调依据，确保智能体可以不断优化和提升。...', metadata='{\"source\": \"./docs/推理模式.md\", \"embeddings\": [-0.06955220550298691, -0.040011003613471985, -0.03216838...')),\n",
       " (0.95295113,\n",
       "  Document(text='# 常见的智能体推理模式和 illufly 的实现...', metadata='{\"source\": \"./docs/推理模式.md\", \"embeddings\": [-0.03823075070977211, 0.025731494650244713, 0.0117180533...')),\n",
       " (0.9598516,\n",
       "  Document(text=''role': 'user',...', metadata='{\"source\": \"./docs/设计理念.md\", \"embeddings\": [-0.061874520033597946, 0.01978103630244732, -0.015418602...')),\n",
       " (1.0309153,\n",
       "  Document(text='Self-Discover由Google研究人员提出，允许大型语言模型在没有明确标签情况下，自主选择并组合原子推理模块，生成推理结构。包含两个阶段：...', metadata='{\"source\": \"./docs/推理模式.md\", \"embeddings\": [-0.04360850527882576, -0.003100050613284111, -0.01595692...')),\n",
       " (1.0380639,\n",
       "  Document(text='# illufly 设计理念介绍...', metadata='{\"source\": \"./docs/设计理念.md\", \"embeddings\": [-0.09724362939596176, 0.012529165484011173, -0.007420137...'))]"
      ]
     },
     "execution_count": 3,
     "metadata": {},
     "output_type": "execute_result"
    }
   ],
   "source": [
    "from illufly.embeddings import DashScopeEmbeddings\n",
    "from illufly.vectordb import FaissDB\n",
    "\n",
    "# 文档嵌入\n",
    "db = FaissDB(DashScopeEmbeddings())\n",
    "db.add_files(\"./\", chunk_size=550)\n",
    "# 查询\n",
    "db(\"智能体是啥？\", top_k=5, verbose=True)"
   ]
  },
  {
   "cell_type": "markdown",
   "id": "45507bc9-899a-45ce-9e8b-bbbc42b8c778",
   "metadata": {},
   "source": [
    "## 结合 ChatAgent 构建 RAG"
   ]
  },
  {
   "cell_type": "code",
   "execution_count": 1,
   "id": "21e5caf9-5567-4667-acd1-060428f9da13",
   "metadata": {},
   "outputs": [
    {
     "name": "stdout",
     "output_type": "stream",
     "text": [
      "  0s [INFO] \u001b[34m[0.646] ./docs/推理模式.md: # 常见的智能体推理模式和 illufly 的实现...\u001b[0m\n",
      "\u001b[32mRe\u001b[0m\u001b[32mAct\u001b[0m\u001b[32m是\u001b[0m\u001b[32m“Reason and Act”的\u001b[0m\u001b[32m缩写，是一种结合了推理（\u001b[0m\u001b[32mReasoning）与行动（Acting\u001b[0m\u001b[32m）的语言模型设计框架。这一概念\u001b[0m\u001b[32m源自于人工智能领域的研究，特别是在自然\u001b[0m\u001b[32m语言处理和机器学习中，用于\u001b[0m\u001b[32m提升AI系统的决策能力和执行效率。\u001b[0m\u001b[32m具体来说，ReAct框架通过模拟\u001b[0m\u001b[32m人类解决问题的方式，利用一个循环流程\u001b[0m\u001b[32m来完成任务，这个流程主要包括三个\u001b[0m\u001b[32m步骤：\n",
      "\n",
      "1. **Thought（思考\u001b[0m\u001b[32m）**: 在这个阶段，模型基于\u001b[0m\u001b[32m当前的任务目标和已有的信息进行\u001b[0m\u001b[32m推理，形成一个或多个关于下一步\u001b[0m\u001b[32m应该采取什么行动的“思想”。\u001b[0m\u001b[32m这些思想体现了模型对当前情境的理解\u001b[0m\u001b[32m和对未来行动的规划。\n",
      "\n",
      "2.\u001b[0m\u001b[32m **Action（行动）**: 根\u001b[0m\u001b[32m据上一阶段的思考结果，\u001b[0m\u001b[32m模型执行一个具体的行动。这可能\u001b[0m\u001b[32m涉及向环境提问、执行某个命令\u001b[0m\u001b[32m、或者操作外部系统等，目的是\u001b[0m\u001b[32m获取新的信息或直接推动任务进展\u001b[0m\u001b[32m。\n",
      "\n",
      "3. **Observation（观察\u001b[0m\u001b[32m）**: 执行行动后，模型\u001b[0m\u001b[32m会接收并处理来自环境或系统的\u001b[0m\u001b[32m反馈，这成为新的观察信息。\u001b[0m\u001b[32m这些观察结果被整合进模型的知识\u001b[0m\u001b[32m库中，成为下一轮思考的基础\u001b[0m\u001b[32m。\n",
      "\n",
      "通过这样的Thought-Action-Observ\u001b[0m\u001b[32mation循环，ReAct框架使AI\u001b[0m\u001b[32m代理能够逐步逼近任务目标，同时\u001b[0m\u001b[32m保持决策过程的透明性和可解释\u001b[0m\u001b[32m性。这种方法不仅提高了模型处理复杂\u001b[0m\u001b[32m任务的能力，也便于开发者和用户\u001b[0m\u001b[32m理解和调试模型的行为。然而，它\u001b[0m\u001b[32m也面临着如输出不稳定、成本高昂\u001b[0m\u001b[32m及响应时间较长等挑战，这些问题\u001b[0m\u001b[32m在实际应用中需要通过优化算法\u001b[0m\u001b[32m或系统设计来缓解。\u001b[0m\u001b[32m\u001b[0m\n",
      "\n"
     ]
    },
    {
     "data": {
      "text/plain": [
       "[{'role': 'system', 'content': '你是一个作家'},\n",
       " {'role': 'user', 'content': 'ReAct是什么意思？'},\n",
       " {'role': 'assistant',\n",
       "  'content': 'ReAct是“Reason and Act”的缩写，是一种结合了推理（Reasoning）与行动（Acting）的语言模型设计框架。这一概念源自于人工智能领域的研究，特别是在自然语言处理和机器学习中，用于提升AI系统的决策能力和执行效率。具体来说，ReAct框架通过模拟人类解决问题的方式，利用一个循环流程来完成任务，这个流程主要包括三个步骤：\\n\\n1. **Thought（思考）**: 在这个阶段，模型基于当前的任务目标和已有的信息进行推理，形成一个或多个关于下一步应该采取什么行动的“思想”。这些思想体现了模型对当前情境的理解和对未来行动的规划。\\n\\n2. **Action（行动）**: 根据上一阶段的思考结果，模型执行一个具体的行动。这可能涉及向环境提问、执行某个命令、或者操作外部系统等，目的是获取新的信息或直接推动任务进展。\\n\\n3. **Observation（观察）**: 执行行动后，模型会接收并处理来自环境或系统的反馈，这成为新的观察信息。这些观察结果被整合进模型的知识库中，成为下一轮思考的基础。\\n\\n通过这样的Thought-Action-Observation循环，ReAct框架使AI代理能够逐步逼近任务目标，同时保持决策过程的透明性和可解释性。这种方法不仅提高了模型处理复杂任务的能力，也便于开发者和用户理解和调试模型的行为。然而，它也面临着如输出不稳定、成本高昂及响应时间较长等挑战，这些问题在实际应用中需要通过优化算法或系统设计来缓解。'}]"
      ]
     },
     "execution_count": 1,
     "metadata": {},
     "output_type": "execute_result"
    }
   ],
   "source": [
    "# 创建一个工具\n",
    "from illufly.types import ToolAgent, Template, TextBlock\n",
    "from illufly.embeddings import DashScopeEmbeddings\n",
    "from illufly.vectordb import FaissDB\n",
    "from illufly.chat import ChatQwen\n",
    "\n",
    "# 文档嵌入\n",
    "faiss_db = FaissDB(DashScopeEmbeddings(), top_k=1)\n",
    "faiss_db.add_files(\"./\", chunk_size=500)\n",
    "\n",
    "## 声明大模型\n",
    "qwen = ChatQwen(\n",
    "    knowledge=[\"illufly实现了多智能体结构\", faiss_db],\n",
    "    memory=[(\"system\", \"你是一个作家\")]\n",
    ")\n",
    "\n",
    "qwen(\"ReAct是什么意思？\", verbose=True)\n",
    "qwen.memory"
   ]
  },
  {
   "cell_type": "code",
   "execution_count": 5,
   "id": "c9f16b64-e755-41fe-b393-ba1175f9636e",
   "metadata": {},
   "outputs": [
    {
     "data": {
      "text/plain": [
       "[{'role': 'system', 'content': '你是一个作家'},\n",
       " {'role': 'user', 'content': 'ReAct是什么意思？'},\n",
       " {'role': 'assistant',\n",
       "  'content': 'ReAct是“Reason and Act”的缩写，这是一种设计智能体（agent）的框架或模式，特别是在基于语言的AI系统中。该框架强调在执行任务时结合推理（Reasoning）与行动（Acting）的能力，旨在让AI系统能够像人类一样，通过思考来指导行动，并根据行动结果进一步调整思考和策略。\\n\\n具体来说，ReAct框架通常涉及以下几个核心步骤：\\n\\n1. **观察（Observation）**：智能体接收外界环境或任务的初始信息，作为其行动的起点。\\n2. **思考（Thought/Reasoning）**：基于当前的观察和以往的知识，智能体进行推理，决定下一步应该采取什么行动。这个过程中可能包括对目标的分析、计划的制定等。\\n3. **行动（Action）**：智能体根据思考的结果执行一个或一系列动作，可能是提问、查询数据库、操作物理世界等。\\n4. **反馈（Observation Again）**：行动后，智能体接收新的观察结果，这可以是对之前行动的直接反馈，或是环境状态的更新。\\n5. **循环迭代**：智能体基于新的观察继续进行思考和行动，形成一个循环，直至达到解决问题的目标。\\n\\nReAct框架的优势在于它促进了智能体的透明度和可解释性，因为每一个决策和行动都是基于明确的推理步骤，便于人类理解和调试。同时，这种方法也鼓励了智能体在面对不确定性和复杂性时的适应性和学习能力。然而，它也面临着如成本效率、响应时间和模型稳定性的挑战，正如前面提到的关于LLM（大型语言模型）的一些局限性。'}]"
      ]
     },
     "execution_count": 5,
     "metadata": {},
     "output_type": "execute_result"
    }
   ],
   "source": [
    "qwen.get_chat_memory()"
   ]
  },
  {
   "cell_type": "code",
   "execution_count": 6,
   "id": "4450bcae-730f-4110-9152-49a7681476ca",
   "metadata": {},
   "outputs": [
    {
     "data": {
      "text/plain": [
       "{<illufly.community.faiss.faiss_cpu.FaissDB at 0x1223d4760>,\n",
       " Document(text='illufly实现了多智能体结构', metadata='{\"source\": \"unknown\"}')}"
      ]
     },
     "execution_count": 6,
     "metadata": {},
     "output_type": "execute_result"
    }
   ],
   "source": [
    "qwen.knowledge"
   ]
  },
  {
   "cell_type": "code",
   "execution_count": null,
   "id": "ac535144-c600-4a98-9579-7f0d6c132e95",
   "metadata": {},
   "outputs": [],
   "source": []
  }
 ],
 "metadata": {
  "kernelspec": {
   "display_name": "textlong-same-ipykernel",
   "language": "python",
   "name": "textlong-same-ipykernel"
  },
  "language_info": {
   "codemirror_mode": {
    "name": "ipython",
    "version": 3
   },
   "file_extension": ".py",
   "mimetype": "text/x-python",
   "name": "python",
   "nbconvert_exporter": "python",
   "pygments_lexer": "ipython3",
   "version": "3.10.0"
  }
 },
 "nbformat": 4,
 "nbformat_minor": 5
}
