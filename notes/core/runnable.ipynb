{
 "cells": [
  {
   "cell_type": "markdown",
   "id": "a64e44ae-f59b-4535-bddd-73fb94c212e1",
   "metadata": {},
   "source": [
    "# Runnable"
   ]
  },
  {
   "cell_type": "markdown",
   "id": "c7c10178-0131-4039-b13c-4ec6bcc1151b",
   "metadata": {},
   "source": [
    "## 订阅发布机制\n",
    "\n",
    "使用 pub/sub 机制实现动运行时的变量传递。"
   ]
  },
  {
   "cell_type": "markdown",
   "id": "584d0f44-9701-414d-b79c-310c7e234af2",
   "metadata": {},
   "source": [
    "### 在两个实例之间订阅"
   ]
  },
  {
   "cell_type": "code",
   "execution_count": 1,
   "id": "ad577e05-1a46-4e42-9864-8e55ee39f614",
   "metadata": {},
   "outputs": [],
   "source": [
    "from illufly.types import Runnable\n",
    "\n",
    "class A(Runnable):\n",
    "    def call(self, prompt: str):\n",
    "        self._last_input = prompt\n",
    "        self._last_output = f'你说了 {prompt}'\n",
    "        print(prompt)"
   ]
  },
  {
   "cell_type": "code",
   "execution_count": 3,
   "id": "039e85a6-939e-49bb-91f2-0f5a01ca0795",
   "metadata": {},
   "outputs": [
    {
     "name": "stdout",
     "output_type": "stream",
     "text": [
      "hi\n"
     ]
    },
    {
     "data": {
      "text/plain": [
       "{'last_input': 'hi', 'last_output': '你说了 hi'}"
      ]
     },
     "execution_count": 3,
     "metadata": {},
     "output_type": "execute_result"
    }
   ],
   "source": [
    "a = A()\n",
    "a.call(\"hi\")\n",
    "a.exported_vars"
   ]
  },
  {
   "cell_type": "code",
   "execution_count": 4,
   "id": "32827100-b218-42c2-a9c7-c3154089797d",
   "metadata": {},
   "outputs": [
    {
     "data": {
      "text/plain": [
       "{'last_input': 'hi', 'last_output': '你说了 hi'}"
      ]
     },
     "execution_count": 4,
     "metadata": {},
     "output_type": "execute_result"
    }
   ],
   "source": [
    "b = A()\n",
    "b.bind_runnables(a)\n",
    "b.imported_vars"
   ]
  },
  {
   "cell_type": "markdown",
   "id": "1197e33a-e4d1-47d1-91ce-3259532b4ca9",
   "metadata": {},
   "source": [
    "## 使用映射规则"
   ]
  },
  {
   "cell_type": "code",
   "execution_count": 4,
   "id": "f612236b-99cd-431f-adb2-5b9fc13eb547",
   "metadata": {},
   "outputs": [
    {
     "name": "stdout",
     "output_type": "stream",
     "text": [
      "a1 exported: {'last_input': None, 'last_output': 'hi'}\n",
      "a2 exported: {'last_input': None, 'last_output': '我是黑牛'}\n",
      "b imported: {'last_input': None, 'a1': 'hi', 'a2': '我是黑牛'}\n"
     ]
    }
   ],
   "source": [
    "from illufly.types import Runnable\n",
    "\n",
    "class A(Runnable):\n",
    "    def call(self, prompt: str):\n",
    "        pass\n",
    "\n",
    "class B(Runnable):\n",
    "    def call(self):\n",
    "        pass\n",
    "\n",
    "a1 = A()\n",
    "a2 = A()\n",
    "b = B()\n",
    "b.bind_runnables(a1, binding_map={\"a1\": \"last_output\"})\n",
    "b.bind_runnables(a2, binding_map={\"a2\": \"last_output\"})\n",
    "a1._last_output = \"hi\"\n",
    "a2._last_output = \"我是黑牛\"\n",
    "\n",
    "print(\"a1 exported:\", a1.exported_vars)\n",
    "print(\"a2 exported:\", a2.exported_vars)\n",
    "print(\"b imported:\", b.imported_vars)"
   ]
  },
  {
   "cell_type": "markdown",
   "id": "d9788e07-5798-446d-91c5-2dfd7efcbc3c",
   "metadata": {},
   "source": [
    "## 在容器实例内订阅"
   ]
  },
  {
   "cell_type": "code",
   "execution_count": 5,
   "id": "ba31fbf6-a90a-48b8-b5c7-01bfa65c5eaa",
   "metadata": {},
   "outputs": [
    {
     "name": "stdout",
     "output_type": "stream",
     "text": [
      "那小子在说 >>  你好\n"
     ]
    }
   ],
   "source": [
    "from illufly.types import Runnable\n",
    "\n",
    "# 用于被嵌入\n",
    "class A(Runnable):\n",
    "    def call(self, prompt: str):\n",
    "        self._last_input = prompt\n",
    "        self._last_output = f'{self.imported_vars[\"last_input\"]} {prompt}'\n",
    "\n",
    "class B(Runnable):\n",
    "    def __init__(self, obj: Runnable):\n",
    "        super().__init__()\n",
    "        obj.bind_runnables(self)\n",
    "        self.obj = obj\n",
    "\n",
    "    def call(self, instruction):\n",
    "        self._last_input = instruction\n",
    "        self.obj.call(\"你好\")\n",
    "        print(self.obj.last_output)\n",
    "a = A()\n",
    "b = B(a)\n",
    "b.call(\"那小子在说 >> \")"
   ]
  },
  {
   "cell_type": "code",
   "execution_count": 11,
   "id": "0ef442ff-62b6-439e-b8c7-2c8b4e453333",
   "metadata": {},
   "outputs": [
    {
     "data": {
      "text/plain": [
       "{'last_input': '那小子在说 >> ', 'last_output': None}"
      ]
     },
     "execution_count": 11,
     "metadata": {},
     "output_type": "execute_result"
    }
   ],
   "source": [
    "b.exported_vars"
   ]
  },
  {
   "cell_type": "code",
   "execution_count": 12,
   "id": "9fcd9e1b-cd69-4b69-bcad-f4972864f94e",
   "metadata": {},
   "outputs": [
    {
     "data": {
      "text/plain": [
       "{'last_input': '你好', 'last_output': '那小子在说 >>  你好'}"
      ]
     },
     "execution_count": 12,
     "metadata": {},
     "output_type": "execute_result"
    }
   ],
   "source": [
    "a.exported_vars"
   ]
  },
  {
   "cell_type": "code",
   "execution_count": null,
   "id": "daed1163-47bf-4e62-8d78-35759ef61535",
   "metadata": {},
   "outputs": [],
   "source": []
  }
 ],
 "metadata": {
  "kernelspec": {
   "display_name": "textlong-same-ipykernel",
   "language": "python",
   "name": "textlong-same-ipykernel"
  },
  "language_info": {
   "codemirror_mode": {
    "name": "ipython",
    "version": 3
   },
   "file_extension": ".py",
   "mimetype": "text/x-python",
   "name": "python",
   "nbconvert_exporter": "python",
   "pygments_lexer": "ipython3",
   "version": "3.10.0"
  }
 },
 "nbformat": 4,
 "nbformat_minor": 5
}
