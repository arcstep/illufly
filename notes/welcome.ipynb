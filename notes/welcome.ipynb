{
 "cells": [
  {
   "cell_type": "markdown",
   "id": "d3d95ce4-a2df-47c5-89e7-807ebabec4d9",
   "metadata": {},
   "source": [
    "# 欢迎使用 illufly"
   ]
  },
  {
   "cell_type": "code",
   "execution_count": null,
   "id": "89a20fc5-89e6-4bc3-bf91-7950e2ac1d7e",
   "metadata": {},
   "outputs": [],
   "source": []
  }
 ],
 "metadata": {
  "kernelspec": {
   "display_name": "textlong-same-ipykernel",
   "language": "python",
   "name": "textlong-same-ipykernel"
  },
  "language_info": {
   "codemirror_mode": {
    "name": "ipython",
    "version": 3
   },
   "file_extension": ".py",
   "mimetype": "text/x-python",
   "name": "python",
   "nbconvert_exporter": "python",
   "pygments_lexer": "ipython3",
   "version": "3.10.0"
  }
 },
 "nbformat": 4,
 "nbformat_minor": 5
}
