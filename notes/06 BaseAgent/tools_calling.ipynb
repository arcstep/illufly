{
 "cells": [
  {
   "cell_type": "markdown",
   "id": "65d5f848-2a2c-4775-950b-2db9fa1ed929",
   "metadata": {},
   "source": [
    "## Tools-Calling 机制"
   ]
  },
  {
   "cell_type": "code",
   "execution_count": 1,
   "id": "823fe808-837a-4ab5-9d07-fc24c53efc8d",
   "metadata": {},
   "outputs": [],
   "source": [
    "from illufly.core.runnable.agent.tools_calling import OneAction, ToolCall, Plans"
   ]
  },
  {
   "cell_type": "code",
   "execution_count": null,
   "id": "fa96cae0-5f01-41db-a2f4-ac7c73bb2ceb",
   "metadata": {},
   "outputs": [],
   "source": []
  }
 ],
 "metadata": {
  "kernelspec": {
   "display_name": "textlong-same-ipykernel",
   "language": "python",
   "name": "textlong-same-ipykernel"
  },
  "language_info": {
   "codemirror_mode": {
    "name": "ipython",
    "version": 3
   },
   "file_extension": ".py",
   "mimetype": "text/x-python",
   "name": "python",
   "nbconvert_exporter": "python",
   "pygments_lexer": "ipython3",
   "version": "3.10.0"
  }
 },
 "nbformat": 4,
 "nbformat_minor": 5
}
