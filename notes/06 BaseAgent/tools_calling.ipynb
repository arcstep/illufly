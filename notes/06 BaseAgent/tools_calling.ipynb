{
 "cells": [
  {
   "cell_type": "markdown",
   "id": "65d5f848-2a2c-4775-950b-2db9fa1ed929",
   "metadata": {},
   "source": [
    "## Tools-Calling 机制"
   ]
  },
  {
   "cell_type": "code",
   "execution_count": 1,
   "id": "823fe808-837a-4ab5-9d07-fc24c53efc8d",
   "metadata": {},
   "outputs": [],
   "source": [
    "from illufly.types import BaseAgent\n",
    "from illufly.core.runnable.agent.tools_calling import SingleAction, ToolCall, Plans"
   ]
  },
  {
   "cell_type": "code",
   "execution_count": 3,
   "id": "fa96cae0-5f01-41db-a2f4-ac7c73bb2ceb",
   "metadata": {},
   "outputs": [
    {
     "name": "stdout",
     "output_type": "stream",
     "text": [
      "144\n",
      "\n",
      "144\n"
     ]
    }
   ],
   "source": [
    "react_resp = \"\"\"\n",
    "Question:一种减速机的价格是750元，一家企业需要购买12台。每台减速机运行一小时的电费是0.5元，企业每天运行这些减速机8小时。请计算企业购买及一周运行这些减速机的总花费\n",
    "Thought:I need to calculate the total cost of purchasing and operating the gearboxes for a week.\n",
    "Action: Multiplication Tool\n",
    "Action Input: [12, 12]\n",
    "\"\"\"\n",
    "\n",
    "def multiplication(a, b):\n",
    "    return a * b\n",
    "\n",
    "action_handler = SingleAction([BaseAgent(multiplication, name=\"Multiplication\")])\n",
    "action_handler.extract_tools_call(react_resp)\n",
    "for x in action_handler.handle_tools_call(react_resp):\n",
    "    print(x)\n"
   ]
  },
  {
   "cell_type": "code",
   "execution_count": 9,
   "id": "9feb1612-e297-4129-b29f-7d45ec6594f6",
   "metadata": {},
   "outputs": [
    {
     "name": "stdout",
     "output_type": "stream",
     "text": [
      "Multiplication Tool\n",
      "[750, 12]\n"
     ]
    }
   ],
   "source": [
    "import re\n",
    "pattern = r\"Action:\\s*(.*?)\\nAction Input:\\s*(\\[.*?\\])\"\n",
    "match = re.search(pattern, react_resp, re.DOTALL)\n",
    "print(match.group(1).strip())\n",
    "print(match.group(2).strip())\n"
   ]
  },
  {
   "cell_type": "code",
   "execution_count": null,
   "id": "c70c4a7f-ace6-4f9e-a4d5-3d5771b01bfd",
   "metadata": {},
   "outputs": [],
   "source": []
  }
 ],
 "metadata": {
  "kernelspec": {
   "display_name": "textlong-same-ipykernel",
   "language": "python",
   "name": "textlong-same-ipykernel"
  },
  "language_info": {
   "codemirror_mode": {
    "name": "ipython",
    "version": 3
   },
   "file_extension": ".py",
   "mimetype": "text/x-python",
   "name": "python",
   "nbconvert_exporter": "python",
   "pygments_lexer": "ipython3",
   "version": "3.10.0"
  }
 },
 "nbformat": 4,
 "nbformat_minor": 5
}
