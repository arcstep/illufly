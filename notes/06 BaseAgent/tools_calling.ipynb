{
 "cells": [
  {
   "cell_type": "markdown",
   "id": "65d5f848-2a2c-4775-950b-2db9fa1ed929",
   "metadata": {},
   "source": [
    "## Tools-Calling 机制\n",
    "\n",
    "illufly 支持多种 Tools-Calling 标记。\n",
    "\n",
    "- ToolCall: 实现 `<tool_call></tool_call>`，在 Ollama 风格的工具回调中常见此类格式\n",
    "- SubTask: 实现 `<sub_task></sub_task>`，结构与 `<tool_call>` 类似，但处理逻辑有所不同\n",
    "- Plans: 实现 `plan xxxx #E{n} function_name(arguments)`，输出多个工具回调时非常简洁"
   ]
  },
  {
   "cell_type": "markdown",
   "id": "2ce144cc-0937-4a94-b5fd-2c11459c60e8",
   "metadata": {},
   "source": [
    "### 工具准备"
   ]
  },
  {
   "cell_type": "code",
   "execution_count": 1,
   "id": "823fe808-837a-4ab5-9d07-fc24c53efc8d",
   "metadata": {},
   "outputs": [],
   "source": [
    "from illufly.types import BaseAgent, ToolCall, SubTask, Plans\n",
    "\n",
    "def get_city(location: str):\n",
    "    \"\"\"根据您的描述信息判断所在城市\"\"\"\n",
    "    return \"广州\"\n",
    "\n",
    "def get_weather(city: str):\n",
    "    \"\"\"获得天气情况\"\"\"\n",
    "    return f\"{city}是个晴天\""
   ]
  },
  {
   "cell_type": "markdown",
   "id": "1ce22c90-09c6-4d84-aa51-134b215c0831",
   "metadata": {},
   "source": [
    "### ToolCall"
   ]
  },
  {
   "cell_type": "code",
   "execution_count": 22,
   "id": "ade0822a-13f8-46b4-afcb-1332165e22f0",
   "metadata": {},
   "outputs": [
    {
     "name": "stdout",
     "output_type": "stream",
     "text": [
      "[{'function': {'name': 'get_weather', 'arguments': '{\"city\": \"广州\"}'}}]\n",
      "广州是个晴天\n"
     ]
    }
   ],
   "source": [
    "text = \"\"\"\n",
    "**思考**\n",
    "\n",
    "首先，需要确定广州的天气状况，以确认是否下雨。这将帮助我们决定是否需要进行羽毛球场的预订。因此，首要的任务是获取广州的天气信息。\n",
    "\n",
    "**规划**\n",
    "\n",
    "为了获得广州的天气信息，我将调用 `get_weather` 工具，并提供城市名称作为参数。\n",
    "\n",
    "**行动**\n",
    "\n",
    "<tool_call>\n",
    "{\n",
    "    \"name\": \"get_weather\",\n",
    "    \"arguments\": {\n",
    "        \"city\": \"广州\"\n",
    "    }\n",
    "}\n",
    "</tool_call>\n",
    "\"\"\"\n",
    "\n",
    "tc = ToolCall([BaseAgent(get_weather)])\n",
    "print(tc.extract_tools_call(text))\n",
    "\n",
    "for block in tc.handle(text):\n",
    "    if block.block_type == \"chunk\":\n",
    "        print(block)"
   ]
  },
  {
   "cell_type": "markdown",
   "id": "cc96c3da-9356-4c0c-b741-b20fe1b14ab4",
   "metadata": {},
   "source": [
    "### SubTask"
   ]
  },
  {
   "cell_type": "code",
   "execution_count": 17,
   "id": "fa96cae0-5f01-41db-a2f4-ac7c73bb2ceb",
   "metadata": {},
   "outputs": [
    {
     "name": "stdout",
     "output_type": "stream",
     "text": [
      "[{'function': {'name': 'get_weather', 'arguments': '{\"city\": \"广州\"}'}}]\n",
      "广州是个晴天\n"
     ]
    }
   ],
   "source": [
    "text = \"\"\"\n",
    "**思考**\n",
    "\n",
    "首先，需要确定广州的天气状况，以确认是否下雨。这将帮助我们决定是否需要进行羽毛球场的预订。因此，首要的任务是获取广州的天气信息。\n",
    "\n",
    "**规划**\n",
    "\n",
    "为了获得广州的天气信息，我将调用 `get_weather` 工具，并提供城市名称作为参数。\n",
    "\n",
    "**行动**\n",
    "\n",
    "<sub_task>\n",
    "{\n",
    "    \"name\": \"get_weather\",\n",
    "    \"arguments\": {\n",
    "        \"city\": \"广州\"\n",
    "    }\n",
    "}\n",
    "</sub_task>\n",
    "\"\"\"\n",
    "\n",
    "st = SubTask([BaseAgent(get_weather)])\n",
    "print(st.extract_tools_call(text))\n",
    "\n",
    "for block in st.handle(text):\n",
    "    if block.block_type == \"chunk\":\n",
    "        print(block.text)"
   ]
  },
  {
   "cell_type": "markdown",
   "id": "ae2e5c0c-9f8f-4a4f-a654-68a283f45588",
   "metadata": {},
   "source": [
    "### Plans"
   ]
  },
  {
   "cell_type": "code",
   "execution_count": 2,
   "id": "c1a4955d-11b3-4a2e-a90f-40929b3e3abd",
   "metadata": {},
   "outputs": [
    {
     "name": "stdout",
     "output_type": "stream",
     "text": [
      "[{'id': '#E1', 'description': '获取城市位置.', 'name': 'get_city', 'arguments': '{\"location\": \"香江动物园\"}'}, {'id': '#E2', 'description': '获取广州的天气情况.', 'name': 'get_weather', 'arguments': '{\"city\": \"#E1\"}'}]\n",
      "tool_to_exec {'function': {'name': 'get_city', 'arguments': '{\"location\": \"香江动物园\"}'}}\n",
      "广州\n",
      "tool_to_exec {'function': {'name': 'get_weather', 'arguments': '{\"city\": \"广州\"}'}}\n",
      "广州是个晴天\n"
     ]
    }
   ],
   "source": [
    "text = \"\"\"\n",
    "**思考**\n",
    "\n",
    "首先，需要确定广州的天气状况，以确认是否下雨。这将帮助我们决定是否需要进行羽毛球场的预订。因此，首要的任务是获取广州的天气信息。\n",
    "\n",
    "**规划**\n",
    "\n",
    "为了获得广州的天气信息，我将调用 `get_weather` 工具，并提供城市名称作为参数。\n",
    "\n",
    "**行动**\n",
    "\n",
    "Plan: 获取城市位置. \n",
    "#E1 = get_city[{\"location\": \"香江动物园\"}]\n",
    "\n",
    "Plan: 获取广州的天气情况. \n",
    "#E2 = get_weather[{\"city\": \"#E1\"}]\n",
    "\"\"\"\n",
    "\n",
    "p = Plans(tools_to_exec=[BaseAgent(t) for t in [get_weather, get_city]])\n",
    "print(p.extract_tools_call(text))\n",
    "for block in p.handle(text):\n",
    "    if block.block_type == \"chunk\":\n",
    "        print(block)"
   ]
  },
  {
   "cell_type": "code",
   "execution_count": 6,
   "id": "12f339ce-783f-4bfb-9288-0ff41a1a66bd",
   "metadata": {},
   "outputs": [
    {
     "data": {
      "text/plain": [
       "[{'function': {'name': 'get_weather', 'arguments': '{\"city\": \"广州\"}'}}]"
      ]
     },
     "execution_count": 6,
     "metadata": {},
     "output_type": "execute_result"
    }
   ],
   "source": []
  },
  {
   "cell_type": "code",
   "execution_count": 9,
   "id": "9feb1612-e297-4129-b29f-7d45ec6594f6",
   "metadata": {},
   "outputs": [
    {
     "name": "stdout",
     "output_type": "stream",
     "text": [
      "Multiplication Tool\n",
      "[750, 12]\n"
     ]
    }
   ],
   "source": [
    "import re\n",
    "pattern = r\"Action:\\s*(.*?)\\nAction Input:\\s*(\\[.*?\\])\"\n",
    "match = re.search(pattern, react_resp, re.DOTALL)\n",
    "print(match.group(1).strip())\n",
    "print(match.group(2).strip())\n"
   ]
  },
  {
   "cell_type": "code",
   "execution_count": null,
   "id": "c70c4a7f-ace6-4f9e-a4d5-3d5771b01bfd",
   "metadata": {},
   "outputs": [],
   "source": []
  }
 ],
 "metadata": {
  "kernelspec": {
   "display_name": "textlong-same-ipykernel",
   "language": "python",
   "name": "textlong-same-ipykernel"
  },
  "language_info": {
   "codemirror_mode": {
    "name": "ipython",
    "version": 3
   },
   "file_extension": ".py",
   "mimetype": "text/x-python",
   "name": "python",
   "nbconvert_exporter": "python",
   "pygments_lexer": "ipython3",
   "version": "3.10.0"
  }
 },
 "nbformat": 4,
 "nbformat_minor": 5
}
