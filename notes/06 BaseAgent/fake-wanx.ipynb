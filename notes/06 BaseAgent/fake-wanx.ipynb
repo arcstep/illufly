{
 "cells": [
  {
   "cell_type": "markdown",
   "id": "dd71961f-7ec9-46f6-b216-17fbed4f3947",
   "metadata": {},
   "source": [
    "## 文生图：模拟消防安全隐患"
   ]
  },
  {
   "cell_type": "code",
   "execution_count": 1,
   "id": "03d40926-8185-4cc9-b326-632abd32cb01",
   "metadata": {},
   "outputs": [
    {
     "name": "stdout",
     "output_type": "stream",
     "text": [
      "[INFO] \u001b[34m{\"output\": {\"task_status\": \"PENDING\", \"task_id\": \"7ed0545b-a47d-40b9-b3ba-2c8e88c0e1b7\"}, \"request_id\": \"7ccdfa12-1f55-90c0-97be-d816494c7614\"}\u001b[0m\n",
      "[INFO] \u001b[34m7ed0545b-a47d-40b9-b3ba-2c8e88c0e1b7: PENDING\u001b[0m\n",
      "[INFO] \u001b[34m7ed0545b-a47d-40b9-b3ba-2c8e88c0e1b7: RUNNING\u001b[0m\n",
      "[INFO] \u001b[34m7ed0545b-a47d-40b9-b3ba-2c8e88c0e1b7: RUNNING\u001b[0m\n",
      "[INFO] \u001b[34m7ed0545b-a47d-40b9-b3ba-2c8e88c0e1b7: RUNNING\u001b[0m\n",
      "[INFO] \u001b[34m7ed0545b-a47d-40b9-b3ba-2c8e88c0e1b7: RUNNING\u001b[0m\n",
      "[INFO] \u001b[34m7ed0545b-a47d-40b9-b3ba-2c8e88c0e1b7: RUNNING\u001b[0m\n",
      "[INFO] \u001b[34m7ed0545b-a47d-40b9-b3ba-2c8e88c0e1b7: RUNNING\u001b[0m\n",
      "[INFO] \u001b[34m7ed0545b-a47d-40b9-b3ba-2c8e88c0e1b7: RUNNING\u001b[0m\n",
      "[INFO] \u001b[34m7ed0545b-a47d-40b9-b3ba-2c8e88c0e1b7: RUNNING\u001b[0m\n",
      "[INFO] \u001b[34m7ed0545b-a47d-40b9-b3ba-2c8e88c0e1b7: RUNNING\u001b[0m\n",
      "[INFO] \u001b[34m7ed0545b-a47d-40b9-b3ba-2c8e88c0e1b7: RUNNING\u001b[0m\n",
      "[INFO] \u001b[34m7ed0545b-a47d-40b9-b3ba-2c8e88c0e1b7: RUNNING\u001b[0m\n",
      "[INFO] \u001b[34m7ed0545b-a47d-40b9-b3ba-2c8e88c0e1b7: RUNNING\u001b[0m\n",
      "[INFO] \u001b[34m7ed0545b-a47d-40b9-b3ba-2c8e88c0e1b7: SUCCEEDED\u001b[0m\n",
      "[IMAGE_URL] \u001b[33mhttps://dashscope-result-hz.oss-cn-hangzhou.aliyuncs.com/1d/63/20241101/522176a8/be32b36a-7ab7-429e-a33a-7bb3175bfcc2-1.png?Expires=1730539332&OSSAccessKeyId=LTAI5tQZd8AEcZX6KZV4G8qL&Signature=VKQX1oJV%2BuwlN1HcNOitv7%2FPFkk%3D\u001b[0m\n",
      "\u001b[32mimage was generated and saved to image/防火卷帘/1.png; \u001b[0m[USAGE] \u001b[34m{\"image_count\": 1}\u001b[0m\n"
     ]
    },
    {
     "data": {
      "text/plain": [
       "[]"
      ]
     },
     "execution_count": 1,
     "metadata": {},
     "output_type": "execute_result"
    }
   ],
   "source": [
    "from illufly.toolkits import Text2ImageWanx\n",
    "\n",
    "request = \"\"\"\n",
    "生成一副关于现代中国环境中消防安全违规行为的场景图片。\n",
    "在一栋商场或住宅建筑物中，一扇部分开启的防火卷帘门，下方堆积着各种物品，如箱子、自行车和随机杂物，阻挡了入口。\n",
    "\"\"\"\n",
    "\n",
    "w = Text2ImageWanx()\n",
    "w(\n",
    "    input={\n",
    "        \"prompt\": request\n",
    "    },\n",
    "    parameters={\n",
    "        \"style\": \"<photography>\"\n",
    "    },\n",
    "    output=\"image/防火卷帘/1.png\",\n",
    "    image_count=1,\n",
    "    verbose=True\n",
    ")"
   ]
  },
  {
   "cell_type": "code",
   "execution_count": 3,
   "id": "0280f84f-4935-4157-b491-d8fec11531d0",
   "metadata": {},
   "outputs": [
    {
     "name": "stdout",
     "output_type": "stream",
     "text": [
      "https://sfile.chatglm.cn/testpath/f01d0980-3b73-5d61-92e0-8b899bdcc630_0.png\n"
     ]
    }
   ],
   "source": [
    "from zhipuai import ZhipuAI\n",
    "client = ZhipuAI()\n",
    "\n",
    "request = \"\"\"\n",
    "生成一副关于现代中国环境中消防安全违规行为的场景图片。\n",
    "在一栋商场或住宅建筑物中，一扇部分开启的防火卷帘门，下方堆积着各种物品，如箱子、自行车和随机杂物，阻挡了入口。\n",
    "\"\"\"\n",
    "\n",
    "response = client.images.generations(\n",
    "    model=\"cogview-3\", #填写需要调用的模型编码\n",
    "    prompt=request,\n",
    ")\n",
    "\n",
    "print(response.data[0].url)"
   ]
  },
  {
   "cell_type": "code",
   "execution_count": 4,
   "id": "408b0827-5bd8-4a23-ad1d-4c0f688403b7",
   "metadata": {},
   "outputs": [
    {
     "name": "stdout",
     "output_type": "stream",
     "text": [
      "https://sfile.chatglm.cn/testpath/9c712f0c-1d54-5f24-a498-68b3cee9bf5e_0.png\n"
     ]
    }
   ],
   "source": [
    "from zhipuai import ZhipuAI\n",
    "client = ZhipuAI()\n",
    "\n",
    "request = \"\"\"\n",
    "生成一副关于现代中国环境中消防安全违规行为的场景图片。\n",
    "主要体现建筑物内工作人员用电违章情况。\n",
    "\"\"\"\n",
    "\n",
    "response = client.images.generations(\n",
    "    model=\"cogview-3\", #填写需要调用的模型编码\n",
    "    prompt=request,\n",
    ")\n",
    "\n",
    "print(response.data[0].url)"
   ]
  },
  {
   "cell_type": "code",
   "execution_count": 5,
   "id": "f69a140b-bf71-482a-981c-0123b6c072f7",
   "metadata": {},
   "outputs": [
    {
     "name": "stdout",
     "output_type": "stream",
     "text": [
      "https://sfile.chatglm.cn/testpath/943225db-5679-53c9-9a1b-1b10e29f5e69_0.png\n"
     ]
    }
   ],
   "source": [
    "from zhipuai import ZhipuAI\n",
    "client = ZhipuAI()\n",
    "\n",
    "request = \"\"\"\n",
    "生成一副关于现代中国环境中消防安全违规行为的场景图片。\n",
    "主要突出消防设施安全标志不在位、不完整。\n",
    "\"\"\"\n",
    "\n",
    "response = client.images.generations(\n",
    "    model=\"cogview-3\", #填写需要调用的模型编码\n",
    "    prompt=request,\n",
    ")\n",
    "\n",
    "print(response.data[0].url)"
   ]
  },
  {
   "cell_type": "code",
   "execution_count": null,
   "id": "fb09026d-056e-4b35-a7e1-640d35a8b467",
   "metadata": {},
   "outputs": [],
   "source": []
  }
 ],
 "metadata": {
  "kernelspec": {
   "display_name": "same_to_illufly",
   "language": "python",
   "name": "same_to_illufly"
  },
  "language_info": {
   "codemirror_mode": {
    "name": "ipython",
    "version": 3
   },
   "file_extension": ".py",
   "mimetype": "text/x-python",
   "name": "python",
   "nbconvert_exporter": "python",
   "pygments_lexer": "ipython3",
   "version": "3.10.0"
  }
 },
 "nbformat": 4,
 "nbformat_minor": 5
}
