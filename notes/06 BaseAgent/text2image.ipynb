{
 "cells": [
  {
   "cell_type": "code",
   "execution_count": 2,
   "id": "a7932f92-f205-4c4f-aed0-abf4a4b5c73e",
   "metadata": {},
   "outputs": [
    {
     "data": {
      "text/plain": [
       "{'type': 'function',\n",
       " 'function': {'name': 'Text2ImageWanx.4376992816',\n",
       "  'description': '我擅长根据你的文字提示描述生成图片，然后我会告诉你保存在本地的资源文件名称',\n",
       "  'parameters': {'type': 'object',\n",
       "   'properties': {'output': {'type': 'string',\n",
       "     'description': '指定生成图片的名称，默认按.png为扩展名'},\n",
       "    'prompt': {'type': 'string', 'description': '图片要求的详细文字描述'},\n",
       "    'image_count': {'type': 'integer', 'description': '生成图片的数量'},\n",
       "    'image_style': {'type': 'string',\n",
       "     'description': '生成图片的风格可以是: 摄影, 人像写真, 3D卡通, 动画, 油画, 水彩, 素描, 中国画, 扁平插画, 默认'}},\n",
       "   'required': []}}}"
      ]
     },
     "execution_count": 2,
     "metadata": {},
     "output_type": "execute_result"
    }
   ],
   "source": [
    "from illufly.text2image import Text2ImageWanx\n",
    "from illufly.chat import ChatQwen\n",
    "\n",
    "wanx = Text2ImageWanx()\n",
    "qwen = ChatQwen(tools=[wanx])\n",
    "wanx.tool_desc"
   ]
  },
  {
   "cell_type": "code",
   "execution_count": 3,
   "id": "380165ad-5b8d-40d3-a14e-e8834f10a496",
   "metadata": {},
   "outputs": [
    {
     "name": "stdout",
     "output_type": "stream",
     "text": [
      "[INFO] \u001b[34m记住 10 轮对话\u001b[0m\n",
      "[TOOLS_CALL_CHUNK] \u001b[32m{\"index\": 0, \"id\": \"call_64dbd68070f2413d8a74f8\", \"type\": \"function\", \"function\": {\"name\": \"Text2ImageW\", \"arguments\": \"\"}}\u001b[0m\n",
      "[TOOLS_CALL_CHUNK] \u001b[32m{\"index\": 0, \"id\": \"\", \"type\": \"function\", \"function\": {\"name\": \"anx.4\"}}\u001b[0m\n",
      "[TOOLS_CALL_CHUNK] \u001b[32m{\"index\": 0, \"id\": \"\", \"type\": \"function\", \"function\": {\"name\": \"3769\"}}\u001b[0m\n",
      "[TOOLS_CALL_CHUNK] \u001b[32m{\"index\": 0, \"id\": \"\", \"type\": \"function\", \"function\": {\"name\": \"9281\"}}\u001b[0m\n",
      "[TOOLS_CALL_CHUNK] \u001b[32m{\"index\": 0, \"id\": \"\", \"type\": \"function\", \"function\": {\"name\": \"6\"}}\u001b[0m\n",
      "[TOOLS_CALL_CHUNK] \u001b[32m{\"index\": 0, \"id\": \"\", \"type\": \"function\", \"function\": {\"arguments\": \"{\\\"prompt\"}}\u001b[0m\n",
      "[TOOLS_CALL_CHUNK] \u001b[32m{\"index\": 0, \"id\": \"\", \"type\": \"function\", \"function\": {\"arguments\": \"\\\": \\\"小仙女\"}}\u001b[0m\n",
      "[TOOLS_CALL_CHUNK] \u001b[32m{\"index\": 0, \"id\": \"\", \"type\": \"function\", \"function\": {\"arguments\": \"飞骑着扫\"}}\u001b[0m\n",
      "[TOOLS_CALL_CHUNK] \u001b[32m{\"index\": 0, \"id\": \"\", \"type\": \"function\", \"function\": {\"arguments\": \"把飞到半\"}}\u001b[0m\n",
      "[TOOLS_CALL_CHUNK] \u001b[32m{\"index\": 0, \"id\": \"\", \"type\": \"function\", \"function\": {\"arguments\": \"空中\\\", \\\"image\"}}\u001b[0m\n",
      "[TOOLS_CALL_CHUNK] \u001b[32m{\"index\": 0, \"id\": \"\", \"type\": \"function\", \"function\": {\"arguments\": \"_style\\\": \\\"水\"}}\u001b[0m\n",
      "[TOOLS_CALL_CHUNK] \u001b[32m{\"index\": 0, \"id\": \"\", \"type\": \"function\", \"function\": {\"arguments\": \"彩\\\", \\\"output\"}}\u001b[0m\n",
      "[TOOLS_CALL_CHUNK] \u001b[32m{\"index\": 0, \"id\": \"\", \"type\": \"function\", \"function\": {\"arguments\": \"\\\": \\\"a.png\"}}\u001b[0m\n",
      "[TOOLS_CALL_CHUNK] \u001b[32m{\"index\": 0, \"id\": \"\", \"type\": \"function\", \"function\": {\"arguments\": \"\\\", \\\"image_count\"}}\u001b[0m\n",
      "[TOOLS_CALL_CHUNK] \u001b[32m{\"index\": 0, \"id\": \"\", \"type\": \"function\", \"function\": {\"arguments\": \"\\\": 1}\"}}\u001b[0m\n",
      "[TOOLS_CALL_CHUNK] \u001b[32m{\"index\": 0, \"id\": \"\", \"type\": \"function\", \"function\": {}}\u001b[0m\n",
      "[TOOLS_CALL_CHUNK] \u001b[32m{\"index\": 0, \"id\": \"\", \"type\": \"function\", \"function\": {}}\u001b[0m\n",
      "\n",
      "[USAGE] \u001b[34m{\"input_tokens\": 365, \"output_tokens\": 64, \"total_tokens\": 429}\u001b[0m\n",
      "\n",
      "[TOOLS_CALL_FINAL] \u001b[36m[{\"index\": 0, \"id\": \"call_64dbd68070f2413d8a74f8\", \"type\": \"function\", \"function\": {\"name\": \"Text2ImageWanx.4376992816\", \"arguments\": \"{\\\"prompt\\\": \\\"小仙女飞骑着扫把飞到半空中\\\", \\\"image_style\\\": \\\"水彩\\\", \\\"output\\\": \\\"a.png\\\", \\\"image_count\\\": 1}\"}}]\u001b[0m\n",
      "tool_args {'prompt': '小仙女飞骑着扫把飞到半空中', 'image_style': '水彩', 'output': 'a.png', 'image_count': 1}\n",
      "[INFO] \u001b[34m{\"output\": {\"task_status\": \"PENDING\", \"task_id\": \"fad35f39-ef1a-48a9-bca3-23371ff80967\"}, \"request_id\": \"32a18058-b309-927f-8d91-486d3f40f902\"}\u001b[0m\n",
      "[INFO] \u001b[34mfad35f39-ef1a-48a9-bca3-23371ff80967: PENDING\u001b[0m\n",
      "[INFO] \u001b[34mfad35f39-ef1a-48a9-bca3-23371ff80967: RUNNING\u001b[0m\n",
      "[INFO] \u001b[34mfad35f39-ef1a-48a9-bca3-23371ff80967: RUNNING\u001b[0m\n",
      "[INFO] \u001b[34mfad35f39-ef1a-48a9-bca3-23371ff80967: RUNNING\u001b[0m\n",
      "[INFO] \u001b[34mfad35f39-ef1a-48a9-bca3-23371ff80967: RUNNING\u001b[0m\n",
      "[INFO] \u001b[34mfad35f39-ef1a-48a9-bca3-23371ff80967: RUNNING\u001b[0m\n",
      "[INFO] \u001b[34mfad35f39-ef1a-48a9-bca3-23371ff80967: RUNNING\u001b[0m\n",
      "[INFO] \u001b[34mfad35f39-ef1a-48a9-bca3-23371ff80967: RUNNING\u001b[0m\n",
      "[INFO] \u001b[34mfad35f39-ef1a-48a9-bca3-23371ff80967: RUNNING\u001b[0m\n",
      "[INFO] \u001b[34mfad35f39-ef1a-48a9-bca3-23371ff80967: RUNNING\u001b[0m\n",
      "[INFO] \u001b[34mfad35f39-ef1a-48a9-bca3-23371ff80967: RUNNING\u001b[0m\n",
      "[INFO] \u001b[34mfad35f39-ef1a-48a9-bca3-23371ff80967: RUNNING\u001b[0m\n",
      "[INFO] \u001b[34mfad35f39-ef1a-48a9-bca3-23371ff80967: RUNNING\u001b[0m\n",
      "[INFO] \u001b[34mfad35f39-ef1a-48a9-bca3-23371ff80967: SUCCEEDED\u001b[0m\n",
      "[IMAGE_URL] \u001b[33mhttps://dashscope-result-sh.oss-cn-shanghai.aliyuncs.com/1d/a9/20241008/1b61f1c0/49b55b6a-1e7d-4b2e-b5ee-e43c10e7ece9-1.png?Expires=1728437783&OSSAccessKeyId=LTAI5tQZd8AEcZX6KZV4G8qL&Signature=o3EwMI7SdeWuf9K7mTPGCHdcdCA%3D\u001b[0m\n",
      "\u001b[32mimage was generated and saved to a.png; \u001b[0m[USAGE] \u001b[34m{\"image_count\": 1}\u001b[0m\n",
      "\n",
      "[TOOL_RESP_FINAL] \u001b[36mimage was generated and saved to a.png; \u001b[0m\n",
      "\u001b[32m生成\u001b[0m\u001b[32m的小\u001b[0m\u001b[32m仙女飞骑着\u001b[0m\u001b[32m扫把飞到\u001b[0m\u001b[32m半空中的水\u001b[0m\u001b[32m彩风格照片已\u001b[0m\u001b[32m保存到a.png\u001b[0m\u001b[32m文件，你可以通过\u001b[0m\u001b[32m下面的链接查看\u001b[0m\u001b[32m:\n",
      "\n",
      "![](a\u001b[0m\u001b[32m.png)\u001b[0m\u001b[32m\u001b[0m\n",
      "[USAGE] \u001b[34m{\"input_tokens\": 445, \"output_tokens\": 38, \"total_tokens\": 483}\u001b[0m\n"
     ]
    },
    {
     "data": {
      "text/plain": [
       "'生成的小仙女飞骑着扫把飞到半空中的水彩风格照片已保存到a.png文件，你可以通过下面的链接查看:\\n\\n![](a.png)'"
      ]
     },
     "execution_count": 3,
     "metadata": {},
     "output_type": "execute_result"
    }
   ],
   "source": [
    "qwen(\"帮我生成一张小仙女飞骑着扫把飞到半空中的照片，用水彩风格，保存到a.png文件\", verbose=True)"
   ]
  },
  {
   "cell_type": "code",
   "execution_count": null,
   "id": "e1b50d7f-e064-4631-9bdf-a60939f6f12e",
   "metadata": {},
   "outputs": [],
   "source": []
  }
 ],
 "metadata": {
  "kernelspec": {
   "display_name": "textlong-same-ipykernel",
   "language": "python",
   "name": "textlong-same-ipykernel"
  },
  "language_info": {
   "codemirror_mode": {
    "name": "ipython",
    "version": 3
   },
   "file_extension": ".py",
   "mimetype": "text/x-python",
   "name": "python",
   "nbconvert_exporter": "python",
   "pygments_lexer": "ipython3",
   "version": "3.10.0"
  }
 },
 "nbformat": 4,
 "nbformat_minor": 5
}
