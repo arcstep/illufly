{
 "cells": [
  {
   "cell_type": "code",
   "execution_count": 5,
   "id": "a7932f92-f205-4c4f-aed0-abf4a4b5c73e",
   "metadata": {},
   "outputs": [],
   "source": [
    "from illufly.text2image import Text2ImageWanx\n",
    "from illufly.chat import ChatQwen\n",
    "\n",
    "wanx = Text2ImageWanx()\n",
    "qwen = ChatQwen(tools=[wanx], exec_tool=True)\n",
    "# wanx.tool_desc"
   ]
  },
  {
   "cell_type": "code",
   "execution_count": 2,
   "id": "380165ad-5b8d-40d3-a14e-e8834f10a496",
   "metadata": {},
   "outputs": [
    {
     "name": "stdout",
     "output_type": "stream",
     "text": [
      "\n",
      "\n",
      "[TOOLS_CALL_FINAL] \u001b[36m[{\"index\": 0, \"id\": \"call_5527ba8fbaa7424ca75efb\", \"type\": \"function\", \"function\": {\"name\": \"Text2ImageWanx.4565933296\", \"arguments\": \"{\\\"prompt\\\": \\\"美女写真\\\", \\\"image_style\\\": \\\"人像写真\\\", \\\"output\\\": \\\"a.png\\\", \\\"image_count\\\": 1}\"}}]\u001b[0m\n",
      "tool_args {'prompt': '美女写真', 'image_style': '人像写真', 'output': 'a.png', 'image_count': 1}\n",
      "[IMAGE_URL] \u001b[33mhttps://dashscope-result-sh.oss-cn-shanghai.aliyuncs.com/1d/23/20241008/1b61f1c0/26ec4f11-6b92-4ea9-bf05-ab5d8c2235de-1.png?Expires=1728450909&OSSAccessKeyId=LTAI5tQZd8AEcZX6KZV4G8qL&Signature=%2FQeu0gLZl6rVXyYHrS6UO5sYcjg%3D\u001b[0m\n",
      "\u001b[32mimage was generated and saved to a.png; \u001b[0m\n",
      "\u001b[32m美\u001b[0m\u001b[32m女写真已经\u001b[0m\u001b[32m生成，并保存到了\u001b[0m\u001b[32ma.png文件中\u001b[0m\u001b[32m。\n",
      "\n",
      "![](a\u001b[0m\u001b[32m.png)\u001b[0m\u001b[32m\u001b[0m\n"
     ]
    },
    {
     "data": {
      "text/plain": [
       "'美女写真已经生成，并保存到了a.png文件中。\\n\\n![](a.png)'"
      ]
     },
     "execution_count": 2,
     "metadata": {},
     "output_type": "execute_result"
    }
   ],
   "source": [
    "qwen(\n",
    "    \"帮我生成一副美女写真，保存到a.png文件\",\n",
    "    verbose=False\n",
    ")"
   ]
  },
  {
   "cell_type": "code",
   "execution_count": 6,
   "id": "e1b50d7f-e064-4631-9bdf-a60939f6f12e",
   "metadata": {},
   "outputs": [
    {
     "name": "stdout",
     "output_type": "stream",
     "text": [
      "new_rc resource: [{'image': 'a.png'}, {'text': '我的肖像'}]\n"
     ]
    },
    {
     "data": {
      "text/plain": [
       "Message(role=resource, content=[{'image': 'a.png'}, {'text': '我的肖像'}])"
      ]
     },
     "execution_count": 6,
     "metadata": {},
     "output_type": "execute_result"
    }
   ],
   "source": [
    "qwen.add_images(\"我的肖像\", \"a.png\")"
   ]
  },
  {
   "cell_type": "code",
   "execution_count": 7,
   "id": "00456d44-cf1f-4533-a6e0-4c756ac3bc62",
   "metadata": {},
   "outputs": [
    {
     "data": {
      "text/plain": [
       "['resource: [图片] a.png, 我的肖像']"
      ]
     },
     "execution_count": 7,
     "metadata": {},
     "output_type": "execute_result"
    }
   ],
   "source": [
    "qwen.get_resources()"
   ]
  },
  {
   "cell_type": "code",
   "execution_count": 8,
   "id": "1af79bdc-5c0a-4bbf-85c3-b6ab13d4bbd6",
   "metadata": {},
   "outputs": [
    {
     "name": "stdout",
     "output_type": "stream",
     "text": [
      "[INFO] \u001b[34m记住 10 轮对话\u001b[0m\n",
      "[TOOLS_CALL_CHUNK] \u001b[32m{\"index\": 0, \"id\": \"call_9502034e193c45f3a27c3f\", \"type\": \"function\", \"function\": {\"name\": \"Text2ImageW\", \"arguments\": \"\"}}\u001b[0m\n",
      "[TOOLS_CALL_CHUNK] \u001b[32m{\"index\": 0, \"id\": \"\", \"type\": \"function\", \"function\": {\"name\": \"anx.4\"}}\u001b[0m\n",
      "[TOOLS_CALL_CHUNK] \u001b[32m{\"index\": 0, \"id\": \"\", \"type\": \"function\", \"function\": {\"name\": \"7175\"}}\u001b[0m\n",
      "[TOOLS_CALL_CHUNK] \u001b[32m{\"index\": 0, \"id\": \"\", \"type\": \"function\", \"function\": {\"name\": \"4872\"}}\u001b[0m\n",
      "[TOOLS_CALL_CHUNK] \u001b[32m{\"index\": 0, \"id\": \"\", \"type\": \"function\", \"function\": {\"name\": \"0\"}}\u001b[0m\n",
      "[TOOLS_CALL_CHUNK] \u001b[32m{\"index\": 0, \"id\": \"\", \"type\": \"function\", \"function\": {\"arguments\": \"{\\\"prompt\"}}\u001b[0m\n",
      "[TOOLS_CALL_CHUNK] \u001b[32m{\"index\": 0, \"id\": \"\", \"type\": \"function\", \"function\": {\"arguments\": \"\\\": \\\"一个人在\"}}\u001b[0m\n",
      "[TOOLS_CALL_CHUNK] \u001b[32m{\"index\": 0, \"id\": \"\", \"type\": \"function\", \"function\": {\"arguments\": \"海边嘻嘻\\\", \\\"\"}}\u001b[0m\n",
      "[TOOLS_CALL_CHUNK] \u001b[32m{\"index\": 0, \"id\": \"\", \"type\": \"function\", \"function\": {\"arguments\": \"image_style\\\": \\\"\"}}\u001b[0m\n",
      "[TOOLS_CALL_CHUNK] \u001b[32m{\"index\": 0, \"id\": \"\", \"type\": \"function\", \"function\": {\"arguments\": \"素描\\\", \\\"\"}}\u001b[0m\n",
      "[TOOLS_CALL_CHUNK] \u001b[32m{\"index\": 0, \"id\": \"\", \"type\": \"function\", \"function\": {\"arguments\": \"ref_img\\\": \\\"\"}}\u001b[0m\n",
      "[TOOLS_CALL_CHUNK] \u001b[32m{\"index\": 0, \"id\": \"\", \"type\": \"function\", \"function\": {\"arguments\": \"a.png\\\", \\\"\"}}\u001b[0m\n",
      "[TOOLS_CALL_CHUNK] \u001b[32m{\"index\": 0, \"id\": \"\", \"type\": \"function\", \"function\": {\"arguments\": \"output\\\": \\\"海边\"}}\u001b[0m\n",
      "[TOOLS_CALL_CHUNK] \u001b[32m{\"index\": 0, \"id\": \"\", \"type\": \"function\", \"function\": {\"arguments\": \".png\\\", \\\"image\"}}\u001b[0m\n",
      "[TOOLS_CALL_CHUNK] \u001b[32m{\"index\": 0, \"id\": \"\", \"type\": \"function\", \"function\": {\"arguments\": \"_count\\\": 1\"}}\u001b[0m\n",
      "[TOOLS_CALL_CHUNK] \u001b[32m{\"index\": 0, \"id\": \"\", \"type\": \"function\", \"function\": {\"arguments\": \"}\"}}\u001b[0m\n",
      "[TOOLS_CALL_CHUNK] \u001b[32m{\"index\": 0, \"id\": \"\", \"type\": \"function\", \"function\": {}}\u001b[0m\n",
      "\n",
      "[USAGE] \u001b[34m{\"input_tokens\": 435, \"output_tokens\": 65, \"total_tokens\": 500}\u001b[0m\n",
      "\n",
      "[TOOLS_CALL_FINAL] \u001b[36m[{\"index\": 0, \"id\": \"call_9502034e193c45f3a27c3f\", \"type\": \"function\", \"function\": {\"name\": \"Text2ImageWanx.4717548720\", \"arguments\": \"{\\\"prompt\\\": \\\"一个人在海边嘻嘻\\\", \\\"image_style\\\": \\\"素描\\\", \\\"ref_img\\\": \\\"a.png\\\", \\\"output\\\": \\\"海边.png\\\", \\\"image_count\\\": 1}\"}}]\u001b[0m\n",
      "tool_args {'prompt': '一个人在海边嘻嘻', 'image_style': '素描', 'ref_img': 'a.png', 'output': '海边.png', 'image_count': 1}\n",
      "[INFO] \u001b[34m{\"output\": {\"task_status\": \"PENDING\", \"task_id\": \"8938f28d-b9aa-4c43-82e9-923fa8299327\"}, \"request_id\": \"9e4cdd6d-9fa6-9a2a-983c-b6603e9ed347\"}\u001b[0m\n",
      "[INFO] \u001b[34m8938f28d-b9aa-4c43-82e9-923fa8299327: PENDING\u001b[0m\n",
      "[INFO] \u001b[34m8938f28d-b9aa-4c43-82e9-923fa8299327: RUNNING\u001b[0m\n",
      "[INFO] \u001b[34m8938f28d-b9aa-4c43-82e9-923fa8299327: RUNNING\u001b[0m\n",
      "[INFO] \u001b[34m8938f28d-b9aa-4c43-82e9-923fa8299327: RUNNING\u001b[0m\n",
      "[INFO] \u001b[34m8938f28d-b9aa-4c43-82e9-923fa8299327: RUNNING\u001b[0m\n",
      "[INFO] \u001b[34m8938f28d-b9aa-4c43-82e9-923fa8299327: RUNNING\u001b[0m\n",
      "[INFO] \u001b[34m8938f28d-b9aa-4c43-82e9-923fa8299327: RUNNING\u001b[0m\n",
      "[INFO] \u001b[34m8938f28d-b9aa-4c43-82e9-923fa8299327: RUNNING\u001b[0m\n",
      "[INFO] \u001b[34m8938f28d-b9aa-4c43-82e9-923fa8299327: RUNNING\u001b[0m\n",
      "[INFO] \u001b[34m8938f28d-b9aa-4c43-82e9-923fa8299327: RUNNING\u001b[0m\n",
      "[INFO] \u001b[34m8938f28d-b9aa-4c43-82e9-923fa8299327: RUNNING\u001b[0m\n",
      "[INFO] \u001b[34m8938f28d-b9aa-4c43-82e9-923fa8299327: RUNNING\u001b[0m\n",
      "[INFO] \u001b[34m8938f28d-b9aa-4c43-82e9-923fa8299327: RUNNING\u001b[0m\n",
      "[INFO] \u001b[34m8938f28d-b9aa-4c43-82e9-923fa8299327: SUCCEEDED\u001b[0m\n",
      "[IMAGE_URL] \u001b[33mhttps://dashscope-result-hz.oss-cn-hangzhou.aliyuncs.com/1d/fc/20241008/522176a8/77c4ccd7-36ee-4c4a-93f4-8771c9e82c40-1.png?Expires=1728451783&OSSAccessKeyId=LTAI5tQZd8AEcZX6KZV4G8qL&Signature=TkpXi4SjRqr9kN1ih9GvmkTnJpw%3D\u001b[0m\n",
      "\u001b[32mimage was generated and saved to 海边.png; \u001b[0m[USAGE] \u001b[34m{\"image_count\": 1}\u001b[0m\n",
      "\n",
      "[TOOL_RESP_FINAL] \u001b[36mimage was generated and saved to 海边.png; \u001b[0m\n",
      "\u001b[32m好\u001b[0m\u001b[32m的，我已经根据\u001b[0m\u001b[32m你的肖像为你\u001b[0m\u001b[32m生成了一张在\u001b[0m\u001b[32m海边嘻嘻的素\u001b[0m\u001b[32m描图片，并将其\u001b[0m\u001b[32m保存为'海边\u001b[0m\u001b[32m.png'。你可以\u001b[0m\u001b[32m在这里查看它：\u001b[0m\u001b[32m![](海边.png\u001b[0m\u001b[32m)。\u001b[0m\u001b[32m\u001b[0m\n",
      "[USAGE] \u001b[34m{\"input_tokens\": 518, \"output_tokens\": 42, \"total_tokens\": 560}\u001b[0m\n"
     ]
    },
    {
     "data": {
      "text/plain": [
       "\"好的，我已经根据你的肖像为你生成了一张在海边嘻嘻的素描图片，并将其保存为'海边.png'。你可以在这里查看它：![](海边.png)。\""
      ]
     },
     "execution_count": 8,
     "metadata": {},
     "output_type": "execute_result"
    }
   ],
   "source": [
    "qwen(\n",
    "    \"以我的肖像为参考，帮我海边嘻嘻的素描，保存到'海边.png'文件\",\n",
    "    verbose=True\n",
    ")"
   ]
  },
  {
   "cell_type": "code",
   "execution_count": 7,
   "id": "5411a929-4066-4839-9950-1feb0a2cf882",
   "metadata": {},
   "outputs": [
    {
     "data": {
      "text/plain": [
       "{'last_output': '',\n",
       " 'resources': 'resource: 图片 my.png, 我的肖像',\n",
       " 'task': '',\n",
       " 'tools_name': 'Text2ImageWanx.4527005104',\n",
       " 'tools_desc': '{\"type\": \"function\", \"function\": {\"name\": \"Text2ImageWanx.4527005104\", \"description\": \"我擅长根据你的文字提示描述生成图片，然后我会告诉你保存在本地的资源文件名称\", \"parameters\": {\"type\": \"object\", \"properties\": {\"output\": {\"type\": \"string\", \"description\": \"指定生成图片的名称，默认按.png为扩展名\"}, \"prompt\": {\"type\": \"string\", \"description\": \"图片要求的详细文字描述\"}, \"ref_img\": {\"type\": \"string\", \"description\": \"生成图片时所使用的参考图，可使用资源中提供的图片文件名称\"}, \"image_count\": {\"type\": \"integer\", \"description\": \"生成图片的数量\"}, \"image_style\": {\"type\": \"string\", \"description\": \"生成图片的风格可以是: 摄影, 人像写真, 3D卡通, 动画, 油画, 水彩, 素描, 中国画, 扁平插画, 默认\"}}, \"required\": []}}}'}"
      ]
     },
     "execution_count": 7,
     "metadata": {},
     "output_type": "execute_result"
    }
   ],
   "source": [
    "qwen.provider_dict"
   ]
  },
  {
   "cell_type": "code",
   "execution_count": null,
   "id": "499f73ac-7663-44a7-acbf-ab2b9eba2c31",
   "metadata": {},
   "outputs": [],
   "source": []
  }
 ],
 "metadata": {
  "kernelspec": {
   "display_name": "textlong-same-ipykernel",
   "language": "python",
   "name": "textlong-same-ipykernel"
  },
  "language_info": {
   "codemirror_mode": {
    "name": "ipython",
    "version": 3
   },
   "file_extension": ".py",
   "mimetype": "text/x-python",
   "name": "python",
   "nbconvert_exporter": "python",
   "pygments_lexer": "ipython3",
   "version": "3.10.0"
  }
 },
 "nbformat": 4,
 "nbformat_minor": 5
}
