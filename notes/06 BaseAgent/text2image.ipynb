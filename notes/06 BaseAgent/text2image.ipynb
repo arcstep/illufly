{
 "cells": [
  {
   "cell_type": "code",
   "execution_count": 1,
   "id": "a7932f92-f205-4c4f-aed0-abf4a4b5c73e",
   "metadata": {},
   "outputs": [],
   "source": [
    "from illufly.toolkits import Text2ImageWanx\n",
    "from illufly.chat import ChatQwen\n",
    "\n",
    "wanx = Text2ImageWanx()\n",
    "qwen = ChatQwen(tools=[wanx])\n",
    "# wanx.tool_desc"
   ]
  },
  {
   "cell_type": "code",
   "execution_count": 3,
   "id": "380165ad-5b8d-40d3-a14e-e8834f10a496",
   "metadata": {},
   "outputs": [
    {
     "name": "stdout",
     "output_type": "stream",
     "text": [
      "[USER] \u001b[34m帮我生成一副美女写真一张小仙女飞骑着扫把飞到半空中的照片，用水彩风格，保存到a.png文件\u001b[0m\n",
      "\n",
      "\n",
      "[FINAL_TOOLS_CALL] \u001b[36m[{\"index\": 0, \"id\": \"call_1cfb3016160a4bc991fbda\", \"type\": \"function\", \"function\": {\"name\": \"Text2ImageWanx.4770260704\", \"arguments\": \"{\\\"image_count\\\": 1, \\\"image_style\\\": \\\"水彩\\\", \\\"output\\\": \\\"a.png\\\", \\\"prompt\\\": \\\"美女小仙女飞骑着扫把飞到半空中，水彩风格，背景有月亮和星星，小仙女穿着飘逸的长裙，头发随风飘扬，画面温馨浪漫，光线柔和，色彩丰富，细节精致，构图富有层次感\\\"}\"}}]\u001b[0m\n",
      "[IMAGE_URL] \u001b[33mhttps://dashscope-result-hz.oss-cn-hangzhou.aliyuncs.com/1d/57/20241027/522176a8/2ec8ff5a-181c-4cbd-8d02-fdc68b58928f-1.png?Expires=1730086257&OSSAccessKeyId=LTAI5tQZd8AEcZX6KZV4G8qL&Signature=xWINUfiqyjCfrrFuwke0foDNL5E%3D\u001b[0m\n",
      "\u001b[32mimage was generated and saved to a.png; \u001b[0m\n",
      "\u001b[32m好\u001b[0m\u001b[32m的，我已经按照\u001b[0m\u001b[32m您的要求生成了一\u001b[0m\u001b[32m张水彩风格\u001b[0m\u001b[32m的小仙女飞骑\u001b[0m\u001b[32m着扫把飞\u001b[0m\u001b[32m到半空中的\u001b[0m\u001b[32m照片，并保存到了\u001b[0m\u001b[32ma.png文件中\u001b[0m\u001b[32m。希望您喜欢\u001b[0m\u001b[32m这张温馨浪漫的画面\u001b[0m\u001b[32m！\n",
      "\n",
      "![](a\u001b[0m\u001b[32m.png)\u001b[0m\u001b[32m\u001b[0m\n"
     ]
    },
    {
     "data": {
      "text/plain": [
       "'好的，我已经按照您的要求生成了一张水彩风格的小仙女飞骑着扫把飞到半空中的照片，并保存到了a.png文件中。希望您喜欢这张温馨浪漫的画面！\\n\\n![](a.png)'"
      ]
     },
     "execution_count": 3,
     "metadata": {},
     "output_type": "execute_result"
    }
   ],
   "source": [
    "qwen(\n",
    "    \"帮我生成一副美女写真一张小仙女飞骑着扫把飞到半空中的照片，用水彩风格，保存到a.png文件\",\n",
    "    verbose=False\n",
    ")"
   ]
  },
  {
   "cell_type": "code",
   "execution_count": 2,
   "id": "e1b50d7f-e064-4631-9bdf-a60939f6f12e",
   "metadata": {},
   "outputs": [
    {
     "data": {
      "text/plain": [
       "Message(role=resource, content=[{'image': 'a.png'}, {'text': '我的肖像'}])"
      ]
     },
     "execution_count": 2,
     "metadata": {},
     "output_type": "execute_result"
    }
   ],
   "source": [
    "qwen.add_images(\"我的肖像\", \"a.png\")"
   ]
  },
  {
   "cell_type": "code",
   "execution_count": 3,
   "id": "b738f5df-0122-4897-9d55-62bceb830e49",
   "metadata": {},
   "outputs": [
    {
     "data": {
      "text/plain": [
       "[Message(role=resource, content=[{'image': 'a.png'}, {'text': '我的肖像'}])]"
      ]
     },
     "execution_count": 3,
     "metadata": {},
     "output_type": "execute_result"
    }
   ],
   "source": [
    "qwen.resources"
   ]
  },
  {
   "cell_type": "code",
   "execution_count": 4,
   "id": "00456d44-cf1f-4533-a6e0-4c756ac3bc62",
   "metadata": {},
   "outputs": [
    {
     "data": {
      "text/plain": [
       "['resource: [图片资源] a.png, , 资源说明: 我的肖像']"
      ]
     },
     "execution_count": 4,
     "metadata": {},
     "output_type": "execute_result"
    }
   ],
   "source": [
    "qwen.get_resources()"
   ]
  },
  {
   "cell_type": "code",
   "execution_count": 5,
   "id": "1af79bdc-5c0a-4bbf-85c3-b6ab13d4bbd6",
   "metadata": {},
   "outputs": [
    {
     "name": "stdout",
     "output_type": "stream",
     "text": [
      "[USER] \u001b[34m以我的肖像为参考，帮我生成一个女孩在海边嘻嘻的黑白素描，保存到'海边.png'文件\u001b[0m\n",
      "[INFO] \u001b[34m记住 10 轮对话\u001b[0m\n",
      "[TOOLS_CALL_CHUNK] \u001b[32m{\"index\": 0, \"id\": \"call_f77966fad8e84383ba0164\", \"type\": \"function\", \"function\": {\"name\": \"Text2ImageWanx.4494244784\", \"arguments\": \"{\\\"image\"}}\u001b[0m\n",
      "[TOOLS_CALL_CHUNK] \u001b[32m{\"index\": 0, \"id\": \"\", \"type\": \"function\", \"function\": {\"arguments\": \"_count\\\": 1\"}}\u001b[0m\n",
      "[TOOLS_CALL_CHUNK] \u001b[32m{\"index\": 0, \"id\": \"\", \"type\": \"function\", \"function\": {\"arguments\": \", \\\"image_style\"}}\u001b[0m\n",
      "[TOOLS_CALL_CHUNK] \u001b[32m{\"index\": 0, \"id\": \"\", \"type\": \"function\", \"function\": {\"arguments\": \"\\\": \\\"素描\"}}\u001b[0m\n",
      "[TOOLS_CALL_CHUNK] \u001b[32m{\"index\": 0, \"id\": \"\", \"type\": \"function\", \"function\": {\"arguments\": \"\\\", \\\"output\\\":\"}}\u001b[0m\n",
      "[TOOLS_CALL_CHUNK] \u001b[32m{\"index\": 0, \"id\": \"\", \"type\": \"function\", \"function\": {\"arguments\": \" \\\"海边.png\\\",\"}}\u001b[0m\n",
      "[TOOLS_CALL_CHUNK] \u001b[32m{\"index\": 0, \"id\": \"\", \"type\": \"function\", \"function\": {\"arguments\": \" \\\"prompt\\\": \\\"\"}}\u001b[0m\n",
      "[TOOLS_CALL_CHUNK] \u001b[32m{\"index\": 0, \"id\": \"\", \"type\": \"function\", \"function\": {\"arguments\": \"以我的肖像\"}}\u001b[0m\n",
      "[TOOLS_CALL_CHUNK] \u001b[32m{\"index\": 0, \"id\": \"\", \"type\": \"function\", \"function\": {\"arguments\": \"为参考，生成\"}}\u001b[0m\n",
      "[TOOLS_CALL_CHUNK] \u001b[32m{\"index\": 0, \"id\": \"\", \"type\": \"function\", \"function\": {\"arguments\": \"一个女孩在海边\"}}\u001b[0m\n",
      "[TOOLS_CALL_CHUNK] \u001b[32m{\"index\": 0, \"id\": \"\", \"type\": \"function\", \"function\": {\"arguments\": \"嘻笑的黑白\"}}\u001b[0m\n",
      "[TOOLS_CALL_CHUNK] \u001b[32m{\"index\": 0, \"id\": \"\", \"type\": \"function\", \"function\": {\"arguments\": \"素描。女孩\"}}\u001b[0m\n",
      "[TOOLS_CALL_CHUNK] \u001b[32m{\"index\": 0, \"id\": \"\", \"type\": \"function\", \"function\": {\"arguments\": \"站在海边，海\"}}\u001b[0m\n",
      "[TOOLS_CALL_CHUNK] \u001b[32m{\"index\": 0, \"id\": \"\", \"type\": \"function\", \"function\": {\"arguments\": \"风轻轻吹拂\"}}\u001b[0m\n",
      "[TOOLS_CALL_CHUNK] \u001b[32m{\"index\": 0, \"id\": \"\", \"type\": \"function\", \"function\": {\"arguments\": \"着她的头发，\"}}\u001b[0m\n",
      "[TOOLS_CALL_CHUNK] \u001b[32m{\"index\": 0, \"id\": \"\", \"type\": \"function\", \"function\": {\"arguments\": \"她正张开\"}}\u001b[0m\n",
      "[TOOLS_CALL_CHUNK] \u001b[32m{\"index\": 0, \"id\": \"\", \"type\": \"function\", \"function\": {\"arguments\": \"双臂，脸上\"}}\u001b[0m\n",
      "[TOOLS_CALL_CHUNK] \u001b[32m{\"index\": 0, \"id\": \"\", \"type\": \"function\", \"function\": {\"arguments\": \"洋溢着快乐\"}}\u001b[0m\n",
      "[TOOLS_CALL_CHUNK] \u001b[32m{\"index\": 0, \"id\": \"\", \"type\": \"function\", \"function\": {\"arguments\": \"的笑容。背景是\"}}\u001b[0m\n",
      "[TOOLS_CALL_CHUNK] \u001b[32m{\"index\": 0, \"id\": \"\", \"type\": \"function\", \"function\": {\"arguments\": \"广阔的海洋和天空\"}}\u001b[0m\n",
      "[TOOLS_CALL_CHUNK] \u001b[32m{\"index\": 0, \"id\": \"\", \"type\": \"function\", \"function\": {\"arguments\": \"，太阳即将落\"}}\u001b[0m\n",
      "[TOOLS_CALL_CHUNK] \u001b[32m{\"index\": 0, \"id\": \"\", \"type\": \"function\", \"function\": {\"arguments\": \"山，天边\"}}\u001b[0m\n",
      "[TOOLS_CALL_CHUNK] \u001b[32m{\"index\": 0, \"id\": \"\", \"type\": \"function\", \"function\": {\"arguments\": \"泛起层层叠\"}}\u001b[0m\n",
      "[TOOLS_CALL_CHUNK] \u001b[32m{\"index\": 0, \"id\": \"\", \"type\": \"function\", \"function\": {\"arguments\": \"叠的云彩\"}}\u001b[0m\n",
      "[TOOLS_CALL_CHUNK] \u001b[32m{\"index\": 0, \"id\": \"\", \"type\": \"function\", \"function\": {\"arguments\": \"。整个画面以\"}}\u001b[0m\n",
      "[TOOLS_CALL_CHUNK] \u001b[32m{\"index\": 0, \"id\": \"\", \"type\": \"function\", \"function\": {\"arguments\": \"黑白素描的形式\"}}\u001b[0m\n",
      "[TOOLS_CALL_CHUNK] \u001b[32m{\"index\": 0, \"id\": \"\", \"type\": \"function\", \"function\": {\"arguments\": \"呈现，线条细腻\"}}\u001b[0m\n",
      "[TOOLS_CALL_CHUNK] \u001b[32m{\"index\": 0, \"id\": \"\", \"type\": \"function\", \"function\": {\"arguments\": \"流畅，展现出一种\"}}\u001b[0m\n",
      "[TOOLS_CALL_CHUNK] \u001b[32m{\"index\": 0, \"id\": \"\", \"type\": \"function\", \"function\": {\"arguments\": \"宁静而美好的氛围\"}}\u001b[0m\n",
      "[TOOLS_CALL_CHUNK] \u001b[32m{\"index\": 0, \"id\": \"\", \"type\": \"function\", \"function\": {\"arguments\": \"。\\\", \\\"ref\"}}\u001b[0m\n",
      "[TOOLS_CALL_CHUNK] \u001b[32m{\"index\": 0, \"id\": \"\", \"type\": \"function\", \"function\": {\"arguments\": \"_img\\\": \\\"a\"}}\u001b[0m\n",
      "[TOOLS_CALL_CHUNK] \u001b[32m{\"index\": 0, \"id\": \"\", \"type\": \"function\", \"function\": {\"arguments\": \".png\\\"}\"}}\u001b[0m\n",
      "[TOOLS_CALL_CHUNK] \u001b[32m{\"index\": 0, \"id\": \"\", \"type\": \"function\", \"function\": {}}\u001b[0m\n",
      "[TOOLS_CALL_CHUNK] \u001b[32m{\"index\": 0, \"id\": \"\", \"type\": \"function\", \"function\": {}}\u001b[0m\n",
      "\n",
      "[USAGE] \u001b[34m{\"input_tokens\": 454, \"output_tokens\": 150, \"total_tokens\": 604}\u001b[0m\n",
      "\n",
      "[FINAL_TOOLS_CALL] \u001b[36m[{\"index\": 0, \"id\": \"call_f77966fad8e84383ba0164\", \"type\": \"function\", \"function\": {\"name\": \"Text2ImageWanx.4494244784\", \"arguments\": \"{\\\"image_count\\\": 1, \\\"image_style\\\": \\\"素描\\\", \\\"output\\\": \\\"海边.png\\\", \\\"prompt\\\": \\\"以我的肖像为参考，生成一个女孩在海边嘻笑的黑白素描。女孩站在海边，海风轻轻吹拂着她的头发，她正张开双臂，脸上洋溢着快乐的笑容。背景是广阔的海洋和天空，太阳即将落山，天边泛起层层叠叠的云彩。整个画面以黑白素描的形式呈现，线条细腻流畅，展现出一种宁静而美好的氛围。\\\", \\\"ref_img\\\": \\\"a.png\\\"}\"}}]\u001b[0m\n",
      "[INFO] \u001b[34m{\"output\": {\"task_status\": \"PENDING\", \"task_id\": \"0d475dfc-cd73-4fb8-93e0-8b6983740d07\"}, \"request_id\": \"74392c19-32ce-9215-9ced-ea7946766fb3\"}\u001b[0m\n",
      "[INFO] \u001b[34m0d475dfc-cd73-4fb8-93e0-8b6983740d07: PENDING\u001b[0m\n",
      "[INFO] \u001b[34m0d475dfc-cd73-4fb8-93e0-8b6983740d07: RUNNING\u001b[0m\n",
      "[INFO] \u001b[34m0d475dfc-cd73-4fb8-93e0-8b6983740d07: RUNNING\u001b[0m\n",
      "[INFO] \u001b[34m0d475dfc-cd73-4fb8-93e0-8b6983740d07: RUNNING\u001b[0m\n",
      "[INFO] \u001b[34m0d475dfc-cd73-4fb8-93e0-8b6983740d07: RUNNING\u001b[0m\n",
      "[INFO] \u001b[34m0d475dfc-cd73-4fb8-93e0-8b6983740d07: RUNNING\u001b[0m\n",
      "[INFO] \u001b[34m0d475dfc-cd73-4fb8-93e0-8b6983740d07: RUNNING\u001b[0m\n",
      "[INFO] \u001b[34m0d475dfc-cd73-4fb8-93e0-8b6983740d07: RUNNING\u001b[0m\n",
      "[INFO] \u001b[34m0d475dfc-cd73-4fb8-93e0-8b6983740d07: RUNNING\u001b[0m\n",
      "[INFO] \u001b[34m0d475dfc-cd73-4fb8-93e0-8b6983740d07: RUNNING\u001b[0m\n",
      "[INFO] \u001b[34m0d475dfc-cd73-4fb8-93e0-8b6983740d07: RUNNING\u001b[0m\n",
      "[INFO] \u001b[34m0d475dfc-cd73-4fb8-93e0-8b6983740d07: RUNNING\u001b[0m\n",
      "[INFO] \u001b[34m0d475dfc-cd73-4fb8-93e0-8b6983740d07: RUNNING\u001b[0m\n",
      "[INFO] \u001b[34m0d475dfc-cd73-4fb8-93e0-8b6983740d07: SUCCEEDED\u001b[0m\n",
      "[IMAGE_URL] \u001b[33mhttps://dashscope-result-sh.oss-cn-shanghai.aliyuncs.com/1d/75/20241027/1b61f1c0/c1e23de5-8755-4242-a62e-c7e39ad53283-1.png?Expires=1730087097&OSSAccessKeyId=LTAI5tQZd8AEcZX6KZV4G8qL&Signature=hCGFU9swJrGfFmIucEKOquyQaiA%3D\u001b[0m\n",
      "\u001b[32mimage was generated and saved to 海边.png; \u001b[0m[USAGE] \u001b[34m{\"image_count\": 1}\u001b[0m\n",
      "\n",
      "[FINAL_TOOL_RESP] \u001b[36mimage was generated and saved to 海边.png; \u001b[0m\n",
      "\u001b[32m!\u001b[0m\u001b[32m[](\u001b[0m\u001b[32m海边\u001b[0m\u001b[32m.png)\n",
      "\n",
      "我已经根据\u001b[0m\u001b[32m你的描述，生成\u001b[0m\u001b[32m了一个女孩在海边\u001b[0m\u001b[32m嬉笑的黑白\u001b[0m\u001b[32m素描。希望\u001b[0m\u001b[32m你喜欢这个作品。\u001b[0m\u001b[32m\u001b[0m\u001b[32m\u001b[0m\n",
      "[USAGE] \u001b[34m{\"input_tokens\": 622, \"output_tokens\": 28, \"total_tokens\": 650}\u001b[0m\n"
     ]
    },
    {
     "data": {
      "text/plain": [
       "'![](海边.png)\\n\\n我已经根据你的描述，生成了一个女孩在海边嬉笑的黑白素描。希望你喜欢这个作品。'"
      ]
     },
     "execution_count": 5,
     "metadata": {},
     "output_type": "execute_result"
    }
   ],
   "source": [
    "qwen(\n",
    "    \"以我的肖像为参考，帮我生成一个女孩在海边嘻嘻的黑白素描，保存到'海边.png'文件\",\n",
    "    verbose=True\n",
    ")"
   ]
  },
  {
   "cell_type": "code",
   "execution_count": 11,
   "id": "5411a929-4066-4839-9950-1feb0a2cf882",
   "metadata": {},
   "outputs": [
    {
     "data": {
      "text/plain": [
       "['resource: [图片资源] a.png, , 资源说明: 我的肖像']"
      ]
     },
     "execution_count": 11,
     "metadata": {},
     "output_type": "execute_result"
    }
   ],
   "source": [
    "qwen.provider_dict['resources']"
   ]
  },
  {
   "cell_type": "code",
   "execution_count": 6,
   "id": "499f73ac-7663-44a7-acbf-ab2b9eba2c31",
   "metadata": {},
   "outputs": [
    {
     "data": {
      "text/plain": [
       "[{'role': 'user',\n",
       "  'content': '回答时请参考已有知识：\\n@knowledge\\nresource: [图片资源] a.png, , 资源说明: 我的肖像\\n'},\n",
       " {'role': 'assistant', 'content': 'ok'},\n",
       " {'role': 'user', 'content': \"以我的肖像为参考，帮我生成一个女孩在海边嘻嘻的黑白素描，保存到'海边.png'文件\"},\n",
       " {'role': 'assistant',\n",
       "  'content': '',\n",
       "  'tool_calls': [{'index': 0,\n",
       "    'id': 'call_f77966fad8e84383ba0164',\n",
       "    'type': 'function',\n",
       "    'function': {'name': 'Text2ImageWanx.4494244784',\n",
       "     'arguments': '{\"image_count\": 1, \"image_style\": \"素描\", \"output\": \"海边.png\", \"prompt\": \"以我的肖像为参考，生成一个女孩在海边嘻笑的黑白素描。女孩站在海边，海风轻轻吹拂着她的头发，她正张开双臂，脸上洋溢着快乐的笑容。背景是广阔的海洋和天空，太阳即将落山，天边泛起层层叠叠的云彩。整个画面以黑白素描的形式呈现，线条细腻流畅，展现出一种宁静而美好的氛围。\", \"ref_img\": \"a.png\"}'}}]},\n",
       " {'tool_call_id': 'call_f77966fad8e84383ba0164',\n",
       "  'role': 'tool',\n",
       "  'name': 'Text2ImageWanx.4494244784',\n",
       "  'content': 'image was generated and saved to 海边.png; '},\n",
       " {'role': 'assistant',\n",
       "  'content': '![](海边.png)\\n\\n我已经根据你的描述，生成了一个女孩在海边嬉笑的黑白素描。希望你喜欢这个作品。'}]"
      ]
     },
     "execution_count": 6,
     "metadata": {},
     "output_type": "execute_result"
    }
   ],
   "source": [
    "qwen.memory"
   ]
  },
  {
   "cell_type": "code",
   "execution_count": 9,
   "id": "bf1fb2af-6982-421b-910f-8fe11290f107",
   "metadata": {},
   "outputs": [
    {
     "data": {
      "text/plain": [
       "[Message(role=resource, content=[{'image': 'a.png'}, {'text': '我的肖像'}])]"
      ]
     },
     "execution_count": 9,
     "metadata": {},
     "output_type": "execute_result"
    }
   ],
   "source": [
    "qwen.resources"
   ]
  },
  {
   "cell_type": "code",
   "execution_count": null,
   "id": "a7e37d6c-56f7-4734-9378-af3438f239de",
   "metadata": {},
   "outputs": [],
   "source": []
  }
 ],
 "metadata": {
  "kernelspec": {
   "display_name": "textlong-same-ipykernel",
   "language": "python",
   "name": "textlong-same-ipykernel"
  },
  "language_info": {
   "codemirror_mode": {
    "name": "ipython",
    "version": 3
   },
   "file_extension": ".py",
   "mimetype": "text/x-python",
   "name": "python",
   "nbconvert_exporter": "python",
   "pygments_lexer": "ipython3",
   "version": "3.10.0"
  }
 },
 "nbformat": 4,
 "nbformat_minor": 5
}
