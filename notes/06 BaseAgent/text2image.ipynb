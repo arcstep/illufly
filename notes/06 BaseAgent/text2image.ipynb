{
 "cells": [
  {
   "cell_type": "markdown",
   "id": "f0b6b3d2-4c9d-4254-b639-9c786c7c6f9d",
   "metadata": {},
   "source": [
    "## 将本地资源文件当作知识使用"
   ]
  },
  {
   "cell_type": "code",
   "execution_count": 1,
   "id": "a7932f92-f205-4c4f-aed0-abf4a4b5c73e",
   "metadata": {},
   "outputs": [
    {
     "data": {
      "text/plain": [
       "['图片资源名: ./images/数字分身.jpg, 资源说明: 数字分身']"
      ]
     },
     "execution_count": 1,
     "metadata": {},
     "output_type": "execute_result"
    }
   ],
   "source": [
    "from illufly.toolkits import Text2ImageWanx\n",
    "from illufly.chat import ChatQwen\n",
    "\n",
    "wanx = Text2ImageWanx()\n",
    "qwen = ChatQwen(tools=[wanx])\n",
    "\n",
    "qwen.get_knowledge()"
   ]
  },
  {
   "cell_type": "code",
   "execution_count": 8,
   "id": "380165ad-5b8d-40d3-a14e-e8834f10a496",
   "metadata": {},
   "outputs": [
    {
     "name": "stdout",
     "output_type": "stream",
     "text": [
      "[USER] \u001b[34m不必参考其他图片，直接生成一副图片，一个头戴花环的9岁小女孩，长发、长裙，作为我的肖像保存\u001b[0m\n",
      "[INFO] \u001b[34m记住 10 轮对话\u001b[0m\n",
      "[RAG] \u001b[34m直接资料：发现 1 条资料\u001b[0m\n",
      "[TOOLS_CALL_CHUNK] \u001b[32m{\"index\": 0, \"id\": \"call_10e4b6cb5ba24721913f22\", \"type\": \"function\", \"function\": {\"name\": \"Text2ImageWanx.4364595408\", \"arguments\": \"{\\\"image\"}}\u001b[0m\n",
      "[TOOLS_CALL_CHUNK] \u001b[32m{\"index\": 0, \"id\": \"\", \"type\": \"function\", \"function\": {\"arguments\": \"_count\\\": 1\"}}\u001b[0m\n",
      "[TOOLS_CALL_CHUNK] \u001b[32m{\"index\": 0, \"id\": \"\", \"type\": \"function\", \"function\": {\"arguments\": \", \\\"image_style\"}}\u001b[0m\n",
      "[TOOLS_CALL_CHUNK] \u001b[32m{\"index\": 0, \"id\": \"\", \"type\": \"function\", \"function\": {\"arguments\": \"\\\": \\\"默认\\\",\"}}\u001b[0m\n",
      "[TOOLS_CALL_CHUNK] \u001b[32m{\"index\": 0, \"id\": \"\", \"type\": \"function\", \"function\": {\"arguments\": \" \\\"output\\\": \\\"\"}}\u001b[0m\n",
      "[TOOLS_CALL_CHUNK] \u001b[32m{\"index\": 0, \"id\": \"\", \"type\": \"function\", \"function\": {\"arguments\": \"a.png\\\", \\\"\"}}\u001b[0m\n",
      "[TOOLS_CALL_CHUNK] \u001b[32m{\"index\": 0, \"id\": \"\", \"type\": \"function\", \"function\": {\"arguments\": \"prompt\\\": \\\"一个\"}}\u001b[0m\n",
      "[TOOLS_CALL_CHUNK] \u001b[32m{\"index\": 0, \"id\": \"\", \"type\": \"function\", \"function\": {\"arguments\": \"9岁的小女孩\"}}\u001b[0m\n",
      "[TOOLS_CALL_CHUNK] \u001b[32m{\"index\": 0, \"id\": \"\", \"type\": \"function\", \"function\": {\"arguments\": \"，留着长长的\"}}\u001b[0m\n",
      "[TOOLS_CALL_CHUNK] \u001b[32m{\"index\": 0, \"id\": \"\", \"type\": \"function\", \"function\": {\"arguments\": \"头发，穿着一条\"}}\u001b[0m\n",
      "[TOOLS_CALL_CHUNK] \u001b[32m{\"index\": 0, \"id\": \"\", \"type\": \"function\", \"function\": {\"arguments\": \"飘逸的长\"}}\u001b[0m\n",
      "[TOOLS_CALL_CHUNK] \u001b[32m{\"index\": 0, \"id\": \"\", \"type\": \"function\", \"function\": {\"arguments\": \"裙，头戴着\"}}\u001b[0m\n",
      "[TOOLS_CALL_CHUNK] \u001b[32m{\"index\": 0, \"id\": \"\", \"type\": \"function\", \"function\": {\"arguments\": \"一个由鲜花组成的\"}}\u001b[0m\n",
      "[TOOLS_CALL_CHUNK] \u001b[32m{\"index\": 0, \"id\": \"\", \"type\": \"function\", \"function\": {\"arguments\": \"花环。她的\"}}\u001b[0m\n",
      "[TOOLS_CALL_CHUNK] \u001b[32m{\"index\": 0, \"id\": \"\", \"type\": \"function\", \"function\": {\"arguments\": \"脸上洋溢着\"}}\u001b[0m\n",
      "[TOOLS_CALL_CHUNK] \u001b[32m{\"index\": 0, \"id\": \"\", \"type\": \"function\", \"function\": {\"arguments\": \"灿烂的笑容，显得\"}}\u001b[0m\n",
      "[TOOLS_CALL_CHUNK] \u001b[32m{\"index\": 0, \"id\": \"\", \"type\": \"function\", \"function\": {\"arguments\": \"非常快乐和纯\"}}\u001b[0m\n",
      "[TOOLS_CALL_CHUNK] \u001b[32m{\"index\": 0, \"id\": \"\", \"type\": \"function\", \"function\": {\"arguments\": \"真。背景是一个\"}}\u001b[0m\n",
      "[TOOLS_CALL_CHUNK] \u001b[32m{\"index\": 0, \"id\": \"\", \"type\": \"function\", \"function\": {\"arguments\": \"充满阳光的草地\"}}\u001b[0m\n",
      "[TOOLS_CALL_CHUNK] \u001b[32m{\"index\": 0, \"id\": \"\", \"type\": \"function\", \"function\": {\"arguments\": \"，周围有各种\"}}\u001b[0m\n",
      "[TOOLS_CALL_CHUNK] \u001b[32m{\"index\": 0, \"id\": \"\", \"type\": \"function\", \"function\": {\"arguments\": \"各样的花朵。\"}}\u001b[0m\n",
      "[TOOLS_CALL_CHUNK] \u001b[32m{\"index\": 0, \"id\": \"\", \"type\": \"function\", \"function\": {\"arguments\": \"\\\", \\\"ref_img\"}}\u001b[0m\n",
      "[TOOLS_CALL_CHUNK] \u001b[32m{\"index\": 0, \"id\": \"\", \"type\": \"function\", \"function\": {\"arguments\": \"\\\": \\\"\\\"}\"}}\u001b[0m\n",
      "[TOOLS_CALL_CHUNK] \u001b[32m{\"index\": 0, \"id\": \"\", \"type\": \"function\", \"function\": {}}\u001b[0m\n",
      "[TOOLS_CALL_CHUNK] \u001b[32m{\"index\": 0, \"id\": \"\", \"type\": \"function\", \"function\": {}}\u001b[0m\n",
      "\n",
      "[USAGE] \u001b[34m{\"input_tokens\": 610, \"output_tokens\": 114, \"total_tokens\": 724}\u001b[0m\n",
      "\n",
      "[FINAL_TOOLS_CALL] \u001b[36m[{\"index\": 0, \"id\": \"call_10e4b6cb5ba24721913f22\", \"type\": \"function\", \"function\": {\"name\": \"Text2ImageWanx.4364595408\", \"arguments\": \"{\\\"image_count\\\": 1, \\\"image_style\\\": \\\"默认\\\", \\\"output\\\": \\\"a.png\\\", \\\"prompt\\\": \\\"一个9岁的小女孩，留着长长的头发，穿着一条飘逸的长裙，头戴着一个由鲜花组成的花环。她的脸上洋溢着灿烂的笑容，显得非常快乐和纯真。背景是一个充满阳光的草地，周围有各种各样的花朵。\\\", \\\"ref_img\\\": \\\"\\\"}\"}}]\u001b[0m\n",
      "[INFO] \u001b[34m{\"output\": {\"task_status\": \"PENDING\", \"task_id\": \"481cabe8-12cf-43f7-90d3-30db6a17defc\"}, \"request_id\": \"bd7b9fa8-4142-9603-9e21-1e5cc2bf15c8\"}\u001b[0m\n",
      "[INFO] \u001b[34m481cabe8-12cf-43f7-90d3-30db6a17defc: PENDING\u001b[0m\n",
      "[INFO] \u001b[34m481cabe8-12cf-43f7-90d3-30db6a17defc: RUNNING\u001b[0m\n",
      "[INFO] \u001b[34m481cabe8-12cf-43f7-90d3-30db6a17defc: RUNNING\u001b[0m\n",
      "[INFO] \u001b[34m481cabe8-12cf-43f7-90d3-30db6a17defc: RUNNING\u001b[0m\n",
      "[INFO] \u001b[34m481cabe8-12cf-43f7-90d3-30db6a17defc: RUNNING\u001b[0m\n",
      "[INFO] \u001b[34m481cabe8-12cf-43f7-90d3-30db6a17defc: RUNNING\u001b[0m\n",
      "[INFO] \u001b[34m481cabe8-12cf-43f7-90d3-30db6a17defc: RUNNING\u001b[0m\n",
      "[INFO] \u001b[34m481cabe8-12cf-43f7-90d3-30db6a17defc: RUNNING\u001b[0m\n",
      "[INFO] \u001b[34m481cabe8-12cf-43f7-90d3-30db6a17defc: RUNNING\u001b[0m\n",
      "[INFO] \u001b[34m481cabe8-12cf-43f7-90d3-30db6a17defc: RUNNING\u001b[0m\n",
      "[INFO] \u001b[34m481cabe8-12cf-43f7-90d3-30db6a17defc: RUNNING\u001b[0m\n",
      "[INFO] \u001b[34m481cabe8-12cf-43f7-90d3-30db6a17defc: RUNNING\u001b[0m\n",
      "[INFO] \u001b[34m481cabe8-12cf-43f7-90d3-30db6a17defc: RUNNING\u001b[0m\n",
      "[INFO] \u001b[34m481cabe8-12cf-43f7-90d3-30db6a17defc: SUCCEEDED\u001b[0m\n",
      "[IMAGE_URL] \u001b[33mhttps://dashscope-result-sh.oss-cn-shanghai.aliyuncs.com/1d/23/20241027/1b61f1c0/0efe9e0a-053c-4f67-bd23-5491ddc5e6fe-1.png?Expires=1730094764&OSSAccessKeyId=LTAI5tQZd8AEcZX6KZV4G8qL&Signature=%2FW3E9EgYRDjIRs03laEDzmKVCEo%3D\u001b[0m\n",
      "\u001b[32mimage was generated and saved to a.png; \u001b[0m[USAGE] \u001b[34m{\"image_count\": 1}\u001b[0m\n",
      "\n",
      "[FINAL_TOOL_RESP] \u001b[36mimage was generated and saved to a.png; \u001b[0m\n",
      "\u001b[32m好\u001b[0m\u001b[32m的，我已经帮\u001b[0m\u001b[32m您生成了一张\u001b[0m\u001b[32m9岁小女孩的\u001b[0m\u001b[32m数字肖像照片\u001b[0m\u001b[32m，她头戴着\u001b[0m\u001b[32m花环，留\u001b[0m\u001b[32m着长发，\u001b[0m\u001b[32m穿着长裙，\u001b[0m\u001b[32m照片已经保存到了\u001b[0m\u001b[32m `a.png`\u001b[0m\u001b[32m 文件中。您可以\u001b[0m\u001b[32m点击下方链接查看\u001b[0m\u001b[32m图片:\n",
      "\n",
      "![](\u001b[0m\u001b[32ma.png)\u001b[0m\u001b[32m\u001b[0m\n",
      "[USAGE] \u001b[34m{\"input_tokens\": 740, \"output_tokens\": 59, \"total_tokens\": 799}\u001b[0m\n"
     ]
    },
    {
     "data": {
      "text/plain": [
       "'好的，我已经帮您生成了一张9岁小女孩的数字肖像照片，她头戴着花环，留着长发，穿着长裙，照片已经保存到了 `a.png` 文件中。您可以点击下方链接查看图片:\\n\\n![](a.png)'"
      ]
     },
     "execution_count": 8,
     "metadata": {},
     "output_type": "execute_result"
    }
   ],
   "source": [
    "qwen(\n",
    "    \"不必参考其他图片，直接生成一副图片，一个头戴花环的9岁小女孩，长发、长裙，作为我的肖像保存\",\n",
    "    verbose=True\n",
    ")"
   ]
  },
  {
   "cell_type": "markdown",
   "id": "84dc675f-b581-416f-9829-9e31d3e85027",
   "metadata": {},
   "source": [
    "## 根据已有资源修改图片"
   ]
  },
  {
   "cell_type": "code",
   "execution_count": 5,
   "id": "1af79bdc-5c0a-4bbf-85c3-b6ab13d4bbd6",
   "metadata": {},
   "outputs": [
    {
     "name": "stdout",
     "output_type": "stream",
     "text": [
      "[USER] \u001b[34m以我的肖像为参考，帮我生成一个女孩在海边嘻嘻的黑白素描，保存到'海边.png'文件\u001b[0m\n",
      "[INFO] \u001b[34m记住 10 轮对话\u001b[0m\n",
      "[TOOLS_CALL_CHUNK] \u001b[32m{\"index\": 0, \"id\": \"call_f77966fad8e84383ba0164\", \"type\": \"function\", \"function\": {\"name\": \"Text2ImageWanx.4494244784\", \"arguments\": \"{\\\"image\"}}\u001b[0m\n",
      "[TOOLS_CALL_CHUNK] \u001b[32m{\"index\": 0, \"id\": \"\", \"type\": \"function\", \"function\": {\"arguments\": \"_count\\\": 1\"}}\u001b[0m\n",
      "[TOOLS_CALL_CHUNK] \u001b[32m{\"index\": 0, \"id\": \"\", \"type\": \"function\", \"function\": {\"arguments\": \", \\\"image_style\"}}\u001b[0m\n",
      "[TOOLS_CALL_CHUNK] \u001b[32m{\"index\": 0, \"id\": \"\", \"type\": \"function\", \"function\": {\"arguments\": \"\\\": \\\"素描\"}}\u001b[0m\n",
      "[TOOLS_CALL_CHUNK] \u001b[32m{\"index\": 0, \"id\": \"\", \"type\": \"function\", \"function\": {\"arguments\": \"\\\", \\\"output\\\":\"}}\u001b[0m\n",
      "[TOOLS_CALL_CHUNK] \u001b[32m{\"index\": 0, \"id\": \"\", \"type\": \"function\", \"function\": {\"arguments\": \" \\\"海边.png\\\",\"}}\u001b[0m\n",
      "[TOOLS_CALL_CHUNK] \u001b[32m{\"index\": 0, \"id\": \"\", \"type\": \"function\", \"function\": {\"arguments\": \" \\\"prompt\\\": \\\"\"}}\u001b[0m\n",
      "[TOOLS_CALL_CHUNK] \u001b[32m{\"index\": 0, \"id\": \"\", \"type\": \"function\", \"function\": {\"arguments\": \"以我的肖像\"}}\u001b[0m\n",
      "[TOOLS_CALL_CHUNK] \u001b[32m{\"index\": 0, \"id\": \"\", \"type\": \"function\", \"function\": {\"arguments\": \"为参考，生成\"}}\u001b[0m\n",
      "[TOOLS_CALL_CHUNK] \u001b[32m{\"index\": 0, \"id\": \"\", \"type\": \"function\", \"function\": {\"arguments\": \"一个女孩在海边\"}}\u001b[0m\n",
      "[TOOLS_CALL_CHUNK] \u001b[32m{\"index\": 0, \"id\": \"\", \"type\": \"function\", \"function\": {\"arguments\": \"嘻笑的黑白\"}}\u001b[0m\n",
      "[TOOLS_CALL_CHUNK] \u001b[32m{\"index\": 0, \"id\": \"\", \"type\": \"function\", \"function\": {\"arguments\": \"素描。女孩\"}}\u001b[0m\n",
      "[TOOLS_CALL_CHUNK] \u001b[32m{\"index\": 0, \"id\": \"\", \"type\": \"function\", \"function\": {\"arguments\": \"站在海边，海\"}}\u001b[0m\n",
      "[TOOLS_CALL_CHUNK] \u001b[32m{\"index\": 0, \"id\": \"\", \"type\": \"function\", \"function\": {\"arguments\": \"风轻轻吹拂\"}}\u001b[0m\n",
      "[TOOLS_CALL_CHUNK] \u001b[32m{\"index\": 0, \"id\": \"\", \"type\": \"function\", \"function\": {\"arguments\": \"着她的头发，\"}}\u001b[0m\n",
      "[TOOLS_CALL_CHUNK] \u001b[32m{\"index\": 0, \"id\": \"\", \"type\": \"function\", \"function\": {\"arguments\": \"她正张开\"}}\u001b[0m\n",
      "[TOOLS_CALL_CHUNK] \u001b[32m{\"index\": 0, \"id\": \"\", \"type\": \"function\", \"function\": {\"arguments\": \"双臂，脸上\"}}\u001b[0m\n",
      "[TOOLS_CALL_CHUNK] \u001b[32m{\"index\": 0, \"id\": \"\", \"type\": \"function\", \"function\": {\"arguments\": \"洋溢着快乐\"}}\u001b[0m\n",
      "[TOOLS_CALL_CHUNK] \u001b[32m{\"index\": 0, \"id\": \"\", \"type\": \"function\", \"function\": {\"arguments\": \"的笑容。背景是\"}}\u001b[0m\n",
      "[TOOLS_CALL_CHUNK] \u001b[32m{\"index\": 0, \"id\": \"\", \"type\": \"function\", \"function\": {\"arguments\": \"广阔的海洋和天空\"}}\u001b[0m\n",
      "[TOOLS_CALL_CHUNK] \u001b[32m{\"index\": 0, \"id\": \"\", \"type\": \"function\", \"function\": {\"arguments\": \"，太阳即将落\"}}\u001b[0m\n",
      "[TOOLS_CALL_CHUNK] \u001b[32m{\"index\": 0, \"id\": \"\", \"type\": \"function\", \"function\": {\"arguments\": \"山，天边\"}}\u001b[0m\n",
      "[TOOLS_CALL_CHUNK] \u001b[32m{\"index\": 0, \"id\": \"\", \"type\": \"function\", \"function\": {\"arguments\": \"泛起层层叠\"}}\u001b[0m\n",
      "[TOOLS_CALL_CHUNK] \u001b[32m{\"index\": 0, \"id\": \"\", \"type\": \"function\", \"function\": {\"arguments\": \"叠的云彩\"}}\u001b[0m\n",
      "[TOOLS_CALL_CHUNK] \u001b[32m{\"index\": 0, \"id\": \"\", \"type\": \"function\", \"function\": {\"arguments\": \"。整个画面以\"}}\u001b[0m\n",
      "[TOOLS_CALL_CHUNK] \u001b[32m{\"index\": 0, \"id\": \"\", \"type\": \"function\", \"function\": {\"arguments\": \"黑白素描的形式\"}}\u001b[0m\n",
      "[TOOLS_CALL_CHUNK] \u001b[32m{\"index\": 0, \"id\": \"\", \"type\": \"function\", \"function\": {\"arguments\": \"呈现，线条细腻\"}}\u001b[0m\n",
      "[TOOLS_CALL_CHUNK] \u001b[32m{\"index\": 0, \"id\": \"\", \"type\": \"function\", \"function\": {\"arguments\": \"流畅，展现出一种\"}}\u001b[0m\n",
      "[TOOLS_CALL_CHUNK] \u001b[32m{\"index\": 0, \"id\": \"\", \"type\": \"function\", \"function\": {\"arguments\": \"宁静而美好的氛围\"}}\u001b[0m\n",
      "[TOOLS_CALL_CHUNK] \u001b[32m{\"index\": 0, \"id\": \"\", \"type\": \"function\", \"function\": {\"arguments\": \"。\\\", \\\"ref\"}}\u001b[0m\n",
      "[TOOLS_CALL_CHUNK] \u001b[32m{\"index\": 0, \"id\": \"\", \"type\": \"function\", \"function\": {\"arguments\": \"_img\\\": \\\"a\"}}\u001b[0m\n",
      "[TOOLS_CALL_CHUNK] \u001b[32m{\"index\": 0, \"id\": \"\", \"type\": \"function\", \"function\": {\"arguments\": \".png\\\"}\"}}\u001b[0m\n",
      "[TOOLS_CALL_CHUNK] \u001b[32m{\"index\": 0, \"id\": \"\", \"type\": \"function\", \"function\": {}}\u001b[0m\n",
      "[TOOLS_CALL_CHUNK] \u001b[32m{\"index\": 0, \"id\": \"\", \"type\": \"function\", \"function\": {}}\u001b[0m\n",
      "\n",
      "[USAGE] \u001b[34m{\"input_tokens\": 454, \"output_tokens\": 150, \"total_tokens\": 604}\u001b[0m\n",
      "\n",
      "[FINAL_TOOLS_CALL] \u001b[36m[{\"index\": 0, \"id\": \"call_f77966fad8e84383ba0164\", \"type\": \"function\", \"function\": {\"name\": \"Text2ImageWanx.4494244784\", \"arguments\": \"{\\\"image_count\\\": 1, \\\"image_style\\\": \\\"素描\\\", \\\"output\\\": \\\"海边.png\\\", \\\"prompt\\\": \\\"以我的肖像为参考，生成一个女孩在海边嘻笑的黑白素描。女孩站在海边，海风轻轻吹拂着她的头发，她正张开双臂，脸上洋溢着快乐的笑容。背景是广阔的海洋和天空，太阳即将落山，天边泛起层层叠叠的云彩。整个画面以黑白素描的形式呈现，线条细腻流畅，展现出一种宁静而美好的氛围。\\\", \\\"ref_img\\\": \\\"a.png\\\"}\"}}]\u001b[0m\n",
      "[INFO] \u001b[34m{\"output\": {\"task_status\": \"PENDING\", \"task_id\": \"0d475dfc-cd73-4fb8-93e0-8b6983740d07\"}, \"request_id\": \"74392c19-32ce-9215-9ced-ea7946766fb3\"}\u001b[0m\n",
      "[INFO] \u001b[34m0d475dfc-cd73-4fb8-93e0-8b6983740d07: PENDING\u001b[0m\n",
      "[INFO] \u001b[34m0d475dfc-cd73-4fb8-93e0-8b6983740d07: RUNNING\u001b[0m\n",
      "[INFO] \u001b[34m0d475dfc-cd73-4fb8-93e0-8b6983740d07: RUNNING\u001b[0m\n",
      "[INFO] \u001b[34m0d475dfc-cd73-4fb8-93e0-8b6983740d07: RUNNING\u001b[0m\n",
      "[INFO] \u001b[34m0d475dfc-cd73-4fb8-93e0-8b6983740d07: RUNNING\u001b[0m\n",
      "[INFO] \u001b[34m0d475dfc-cd73-4fb8-93e0-8b6983740d07: RUNNING\u001b[0m\n",
      "[INFO] \u001b[34m0d475dfc-cd73-4fb8-93e0-8b6983740d07: RUNNING\u001b[0m\n",
      "[INFO] \u001b[34m0d475dfc-cd73-4fb8-93e0-8b6983740d07: RUNNING\u001b[0m\n",
      "[INFO] \u001b[34m0d475dfc-cd73-4fb8-93e0-8b6983740d07: RUNNING\u001b[0m\n",
      "[INFO] \u001b[34m0d475dfc-cd73-4fb8-93e0-8b6983740d07: RUNNING\u001b[0m\n",
      "[INFO] \u001b[34m0d475dfc-cd73-4fb8-93e0-8b6983740d07: RUNNING\u001b[0m\n",
      "[INFO] \u001b[34m0d475dfc-cd73-4fb8-93e0-8b6983740d07: RUNNING\u001b[0m\n",
      "[INFO] \u001b[34m0d475dfc-cd73-4fb8-93e0-8b6983740d07: RUNNING\u001b[0m\n",
      "[INFO] \u001b[34m0d475dfc-cd73-4fb8-93e0-8b6983740d07: SUCCEEDED\u001b[0m\n",
      "[IMAGE_URL] \u001b[33mhttps://dashscope-result-sh.oss-cn-shanghai.aliyuncs.com/1d/75/20241027/1b61f1c0/c1e23de5-8755-4242-a62e-c7e39ad53283-1.png?Expires=1730087097&OSSAccessKeyId=LTAI5tQZd8AEcZX6KZV4G8qL&Signature=hCGFU9swJrGfFmIucEKOquyQaiA%3D\u001b[0m\n",
      "\u001b[32mimage was generated and saved to 海边.png; \u001b[0m[USAGE] \u001b[34m{\"image_count\": 1}\u001b[0m\n",
      "\n",
      "[FINAL_TOOL_RESP] \u001b[36mimage was generated and saved to 海边.png; \u001b[0m\n",
      "\u001b[32m!\u001b[0m\u001b[32m[](\u001b[0m\u001b[32m海边\u001b[0m\u001b[32m.png)\n",
      "\n",
      "我已经根据\u001b[0m\u001b[32m你的描述，生成\u001b[0m\u001b[32m了一个女孩在海边\u001b[0m\u001b[32m嬉笑的黑白\u001b[0m\u001b[32m素描。希望\u001b[0m\u001b[32m你喜欢这个作品。\u001b[0m\u001b[32m\u001b[0m\u001b[32m\u001b[0m\n",
      "[USAGE] \u001b[34m{\"input_tokens\": 622, \"output_tokens\": 28, \"total_tokens\": 650}\u001b[0m\n"
     ]
    },
    {
     "data": {
      "text/plain": [
       "'![](海边.png)\\n\\n我已经根据你的描述，生成了一个女孩在海边嬉笑的黑白素描。希望你喜欢这个作品。'"
      ]
     },
     "execution_count": 5,
     "metadata": {},
     "output_type": "execute_result"
    }
   ],
   "source": [
    "qwen(\n",
    "    \"参考数字分身，把主角任务换成9岁小女孩的照片\",\n",
    "    verbose=True\n",
    ")"
   ]
  }
 ],
 "metadata": {
  "kernelspec": {
   "display_name": "textlong-same-ipykernel",
   "language": "python",
   "name": "textlong-same-ipykernel"
  },
  "language_info": {
   "codemirror_mode": {
    "name": "ipython",
    "version": 3
   },
   "file_extension": ".py",
   "mimetype": "text/x-python",
   "name": "python",
   "nbconvert_exporter": "python",
   "pygments_lexer": "ipython3",
   "version": "3.10.0"
  }
 },
 "nbformat": 4,
 "nbformat_minor": 5
}
