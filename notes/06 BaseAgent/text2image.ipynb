{
 "cells": [
  {
   "cell_type": "code",
   "execution_count": 1,
   "id": "a7932f92-f205-4c4f-aed0-abf4a4b5c73e",
   "metadata": {},
   "outputs": [
    {
     "data": {
      "text/plain": [
       "{'type': 'function',\n",
       " 'function': {'name': 'Text2ImageWanx.4592424352',\n",
       "  'description': '我擅长根据你的文字提示描述生成图片',\n",
       "  'parameters': {'type': 'object',\n",
       "   'properties': {'prompt': {'type': 'string', 'description': '图片要求的详细文字描述'},\n",
       "    'n': {'type': 'integer', 'description': '生成图片的数量'},\n",
       "    'style': {'type': 'string',\n",
       "     'description': '生成图片的风格，取值是`<`和`>`包裹的字符串，不要包含其他说明文字：<photography> 摄影, <portrait> 人像写真, <3d cartoon> 3D卡通, <anime> 动画, <oil painting> 油画, <watercolor> 水彩, <sketch> 素描, <chinese painting> 中国画, <flat illustration> 扁平插画, <auto> 默认'}},\n",
       "   'required': []}}}"
      ]
     },
     "execution_count": 1,
     "metadata": {},
     "output_type": "execute_result"
    }
   ],
   "source": [
    "from illufly.text2image import Text2ImageWanx\n",
    "from illufly.chat import ChatQwen\n",
    "\n",
    "wanx = Text2ImageWanx()\n",
    "qwen = ChatQwen(tools=[wanx])\n",
    "wanx.tool_desc"
   ]
  },
  {
   "cell_type": "code",
   "execution_count": 2,
   "id": "380165ad-5b8d-40d3-a14e-e8834f10a496",
   "metadata": {},
   "outputs": [
    {
     "name": "stdout",
     "output_type": "stream",
     "text": [
      "[INFO] \u001b[34m记住 10 轮对话\u001b[0m\n",
      "[TOOLS_CALL_CHUNK] \u001b[32m{\"index\": 0, \"id\": \"call_a3f5eaf173af44dbb1ce65\", \"type\": \"function\", \"function\": {\"name\": \"Text2ImageW\", \"arguments\": \"\"}}\u001b[0m\n",
      "[TOOLS_CALL_CHUNK] \u001b[32m{\"index\": 0, \"id\": \"\", \"type\": \"function\", \"function\": {\"name\": \"anx.4\"}}\u001b[0m\n",
      "[TOOLS_CALL_CHUNK] \u001b[32m{\"index\": 0, \"id\": \"\", \"type\": \"function\", \"function\": {\"name\": \"5924\"}}\u001b[0m\n",
      "[TOOLS_CALL_CHUNK] \u001b[32m{\"index\": 0, \"id\": \"\", \"type\": \"function\", \"function\": {\"name\": \"2435\"}}\u001b[0m\n",
      "[TOOLS_CALL_CHUNK] \u001b[32m{\"index\": 0, \"id\": \"\", \"type\": \"function\", \"function\": {\"name\": \"2\"}}\u001b[0m\n",
      "[TOOLS_CALL_CHUNK] \u001b[32m{\"index\": 0, \"id\": \"\", \"type\": \"function\", \"function\": {\"arguments\": \"{\\\"prompt\"}}\u001b[0m\n",
      "[TOOLS_CALL_CHUNK] \u001b[32m{\"index\": 0, \"id\": \"\", \"type\": \"function\", \"function\": {\"arguments\": \"\\\": \\\"小仙女\"}}\u001b[0m\n",
      "[TOOLS_CALL_CHUNK] \u001b[32m{\"index\": 0, \"id\": \"\", \"type\": \"function\", \"function\": {\"arguments\": \"飞骑着扫\"}}\u001b[0m\n",
      "[TOOLS_CALL_CHUNK] \u001b[32m{\"index\": 0, \"id\": \"\", \"type\": \"function\", \"function\": {\"arguments\": \"把飞到半\"}}\u001b[0m\n",
      "[TOOLS_CALL_CHUNK] \u001b[32m{\"index\": 0, \"id\": \"\", \"type\": \"function\", \"function\": {\"arguments\": \"空中\\\", \\\"style\"}}\u001b[0m\n",
      "[TOOLS_CALL_CHUNK] \u001b[32m{\"index\": 0, \"id\": \"\", \"type\": \"function\", \"function\": {\"arguments\": \"\\\": \\\"<sketch\"}}\u001b[0m\n",
      "[TOOLS_CALL_CHUNK] \u001b[32m{\"index\": 0, \"id\": \"\", \"type\": \"function\", \"function\": {\"arguments\": \">\\\"}\"}}\u001b[0m\n",
      "[TOOLS_CALL_CHUNK] \u001b[32m{\"index\": 0, \"id\": \"\", \"type\": \"function\", \"function\": {}}\u001b[0m\n",
      "[TOOLS_CALL_CHUNK] \u001b[32m{\"index\": 0, \"id\": \"\", \"type\": \"function\", \"function\": {}}\u001b[0m\n",
      "\n",
      "[USAGE] \u001b[34m{\"input_tokens\": 373, \"output_tokens\": 50, \"total_tokens\": 423}\u001b[0m\n",
      "\n",
      "[TOOLS_CALL_FINAL] \u001b[36m[{\"index\": 0, \"id\": \"call_a3f5eaf173af44dbb1ce65\", \"type\": \"function\", \"function\": {\"name\": \"Text2ImageWanx.4592424352\", \"arguments\": \"{\\\"prompt\\\": \\\"小仙女飞骑着扫把飞到半空中\\\", \\\"style\\\": \\\"<sketch>\\\"}\"}}]\u001b[0m\n",
      "[INFO] \u001b[34m{\"output\": {\"task_status\": \"PENDING\", \"task_id\": \"ff35445b-5615-470d-85f3-db2c437c2f85\"}, \"request_id\": \"61b9ed2d-1be9-9e49-a5f8-3bbb79decf0d\"}\u001b[0m\n",
      "[INFO] \u001b[34mff35445b-5615-470d-85f3-db2c437c2f85: PENDING\u001b[0m\n",
      "[INFO] \u001b[34mff35445b-5615-470d-85f3-db2c437c2f85: RUNNING\u001b[0m\n",
      "[INFO] \u001b[34mff35445b-5615-470d-85f3-db2c437c2f85: RUNNING\u001b[0m\n",
      "[INFO] \u001b[34mff35445b-5615-470d-85f3-db2c437c2f85: RUNNING\u001b[0m\n",
      "[INFO] \u001b[34mff35445b-5615-470d-85f3-db2c437c2f85: RUNNING\u001b[0m\n",
      "[INFO] \u001b[34mff35445b-5615-470d-85f3-db2c437c2f85: RUNNING\u001b[0m\n",
      "[INFO] \u001b[34mff35445b-5615-470d-85f3-db2c437c2f85: RUNNING\u001b[0m\n",
      "[INFO] \u001b[34mff35445b-5615-470d-85f3-db2c437c2f85: RUNNING\u001b[0m\n",
      "[INFO] \u001b[34mff35445b-5615-470d-85f3-db2c437c2f85: RUNNING\u001b[0m\n",
      "[INFO] \u001b[34mff35445b-5615-470d-85f3-db2c437c2f85: RUNNING\u001b[0m\n",
      "[INFO] \u001b[34mff35445b-5615-470d-85f3-db2c437c2f85: RUNNING\u001b[0m\n",
      "[INFO] \u001b[34mff35445b-5615-470d-85f3-db2c437c2f85: RUNNING\u001b[0m\n",
      "[INFO] \u001b[34mff35445b-5615-470d-85f3-db2c437c2f85: SUCCEEDED\u001b[0m\n",
      "[IMAGE_URL] \u001b[33mhttps://dashscope-result-hz.oss-cn-hangzhou.aliyuncs.com/1d/90/20241008/522176a8/5218f26c-135d-45be-a027-c0361ce196be-1.png?Expires=1728406072&OSSAccessKeyId=LTAI5tQZd8AEcZX6KZV4G8qL&Signature=3uwpq%2FCIflemv8gfadojUSrcslQ%3D\u001b[0m\n",
      "\u001b[32man image was generated and saved to 5218f26c-135d-45be-a027-c0361ce196be-1.png\u001b[0m[USAGE] \u001b[34m{\"image_count\": 1}\u001b[0m\n",
      "\n",
      "[TOOL_RESP_FINAL] \u001b[36man image was generated and saved to 5218f26c-135d-45be-a027-c0361ce196be-1.png\u001b[0m\n",
      "\u001b[32m好\u001b[0m\u001b[32m的，已为你\u001b[0m\u001b[32m生成了一张关于\u001b[0m\u001b[32m小仙女骑着\u001b[0m\u001b[32m扫把飞到\u001b[0m\u001b[32m半空中的素\u001b[0m\u001b[32m描图片:\n",
      "!\u001b[0m\u001b[32m[](https://image\u001b[0m\u001b[32m.pollinations.ai/p\u001b[0m\u001b[32mrompt/52\u001b[0m\u001b[32m18f2\u001b[0m\u001b[32m6c-1\u001b[0m\u001b[32m35d-\u001b[0m\u001b[32m45be-a\u001b[0m\u001b[32m027-c\u001b[0m\u001b[32m0361\u001b[0m\u001b[32mce196\u001b[0m\u001b[32mbe-1.png\u001b[0m\u001b[32m)\u001b[0m\u001b[32m\u001b[0m\n",
      "[USAGE] \u001b[34m{\"input_tokens\": 473, \"output_tokens\": 73, \"total_tokens\": 546}\u001b[0m\n"
     ]
    },
    {
     "data": {
      "text/plain": [
       "'好的，已为你生成了一张关于小仙女骑着扫把飞到半空中的素描图片:\\n![](https://image.pollinations.ai/prompt/5218f26c-135d-45be-a027-c0361ce196be-1.png)'"
      ]
     },
     "execution_count": 2,
     "metadata": {},
     "output_type": "execute_result"
    }
   ],
   "source": [
    "qwen(\"帮我生成一张小仙女飞骑着扫把飞到半空中的素描\", verbose=True)"
   ]
  },
  {
   "cell_type": "code",
   "execution_count": null,
   "id": "e1b50d7f-e064-4631-9bdf-a60939f6f12e",
   "metadata": {},
   "outputs": [],
   "source": []
  }
 ],
 "metadata": {
  "kernelspec": {
   "display_name": "textlong-same-ipykernel",
   "language": "python",
   "name": "textlong-same-ipykernel"
  },
  "language_info": {
   "codemirror_mode": {
    "name": "ipython",
    "version": 3
   },
   "file_extension": ".py",
   "mimetype": "text/x-python",
   "name": "python",
   "nbconvert_exporter": "python",
   "pygments_lexer": "ipython3",
   "version": "3.10.0"
  }
 },
 "nbformat": 4,
 "nbformat_minor": 5
}
