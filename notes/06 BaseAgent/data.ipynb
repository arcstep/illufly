{
 "cells": [
  {
   "cell_type": "markdown",
   "id": "88694752-bf48-4f84-890e-7679d0f352f5",
   "metadata": {},
   "source": [
    "## 支持数据分析的工具"
   ]
  },
  {
   "cell_type": "code",
   "execution_count": 1,
   "id": "76395ffa-759d-4aef-ae92-958a44455be2",
   "metadata": {},
   "outputs": [
    {
     "name": "stdout",
     "output_type": "stream",
     "text": [
      "```\n",
      "python\n",
      "\n",
      "\n",
      "def main():\n",
      "    #\n",
      " 从数据集中筛选出赖国\n",
      "良的成绩\n",
      "    lai_guo\n",
      "_liang_scores = data['考试成绩\n",
      "'].df[data['考试成绩'].df\n",
      "['姓名'] == '赖国良\n",
      "']\n",
      "    # 返回赖国良的成绩\n",
      "\n",
      "    return lai_guo_li\n",
      "ang_scores[['语文', '数学']].\n",
      "to_dict(orient='records')\n",
      "\n",
      "```\n",
      "\n",
      "```python\n",
      "def main():\n",
      "    # 从数据集中筛选出赖国良的成绩\n",
      "    lai_guo_liang_scores = data['考试成绩'].df[data['考试成绩'].df['姓名'] == '赖国良']\n",
      "    # 返回赖国良的成绩\n",
      "    return lai_guo_liang_scores[['语文', '数学']].to_dict(orient='records')\n",
      "\n",
      "```\n",
      "语文: 105, 数学: 120\n"
     ]
    }
   ],
   "source": [
    "import pandas as pd\n",
    "from illufly.agent import Dataset, ChatQwen\n",
    "from illufly.tools import create_python_code_tool\n",
    "from illufly.io import log\n",
    "\n",
    "data = {\n",
    "    \"考试成绩\": Dataset(\n",
    "        df=pd.DataFrame({\n",
    "            \"姓名\": [\"薛一凡\", \"肖一笑\", \"赖国良\", \"吴红兵\"],\n",
    "            \"语文\": [90, 80, 105, 110],\n",
    "            \"数学\": [135, 110, 120, 90]\n",
    "        }),\n",
    "        desc=\"考试成绩\"\n",
    "    )\n",
    "}\n",
    "mytool = create_python_code_tool(data, ChatQwen())\n",
    "\n",
    "# mytool\n",
    "for x in mytool.func({\"question\": \"赖国良成绩如何？\"}):\n",
    "    print(x)"
   ]
  },
  {
   "cell_type": "markdown",
   "id": "73d24989-9ad1-433c-98d9-0c2b557e65ca",
   "metadata": {},
   "source": [
    "## 绑定 + 数据分析"
   ]
  },
  {
   "cell_type": "markdown",
   "id": "d2fb6014-7faa-4fe6-9116-543d2edddee2",
   "metadata": {},
   "source": [
    "### 多轮对话"
   ]
  },
  {
   "cell_type": "code",
   "execution_count": 1,
   "id": "93718df1-4810-42f7-b42d-bf814ea1cfca",
   "metadata": {},
   "outputs": [],
   "source": [
    "from illufly.agent import ChatQwen, FakeLLM\n",
    "from illufly.io import log, alog\n",
    "\n",
    "import pandas as pd\n",
    "\n",
    "a = ChatQwen()\n",
    "\n",
    "a.state.add_dataset(\n",
    "    \"考试成绩\",\n",
    "    pd.DataFrame({\n",
    "        \"姓名\": [\"薛一凡\", \"肖一笑\", \"赖国良\", \"吴红兵\"],\n",
    "        \"语文\": [90, 80, 105, 110],\n",
    "        \"数学\": [135, 110, 120, 90]\n",
    "    })\n",
    ")"
   ]
  },
  {
   "cell_type": "code",
   "execution_count": 4,
   "id": "aab1a2d8-8926-43fe-8438-5ad285a9ed2b",
   "metadata": {},
   "outputs": [
    {
     "name": "stdout",
     "output_type": "stream",
     "text": [
      "\u001b[32m```\u001b[0m\u001b[32mpython\u001b[0m\u001b[32m\u001b[0m\u001b[32m\n",
      "def main():\n",
      "    #\u001b[0m\u001b[32m 加载考试成绩数据集\u001b[0m\u001b[32m\n",
      "    exam_scores = data['考试成绩'].\u001b[0m\u001b[32mdf\n",
      "    \n",
      "    # 确定\u001b[0m\u001b[32m语文成绩最好的学生\n",
      "    best_ch\u001b[0m\u001b[32minese_student = exam_scores.loc[exam\u001b[0m\u001b[32m_scores['语文'].idxmax()]['\u001b[0m\u001b[32m姓名']\n",
      "    \n",
      "    return best_chinese\u001b[0m\u001b[32m_student\n",
      "\n",
      "main()\n",
      "```\u001b[0m\u001b[32m\u001b[0m\n",
      "\n",
      "\u001b[32m语文\u001b[0m\u001b[32m考试成绩最好的是吴\u001b[0m\u001b[32m红兵。\u001b[0m\u001b[32m\u001b[0m\n",
      "\n"
     ]
    },
    {
     "data": {
      "text/plain": [
       "'{\"0\": {\"index\": 0, \"id\": \"call_31b1904bb11d40eaaab906\", \"type\": \"function\", \"function\": {\"name\": \"python_code\", \"arguments\": \"{\\\\\"question\\\\\": \\\\\"谁的语文考试成绩最好？\\\\\"}\"}}}语文考试成绩最好的是吴红兵。'"
      ]
     },
     "execution_count": 4,
     "metadata": {},
     "output_type": "execute_result"
    }
   ],
   "source": [
    "await alog(a, \"请使用工具查询，看看谁的语文考试成绩最好？\", new_chat=True)"
   ]
  },
  {
   "cell_type": "code",
   "execution_count": 5,
   "id": "cc9c2b9f-1256-46f7-8bf3-a5a777983a3f",
   "metadata": {},
   "outputs": [
    {
     "name": "stdout",
     "output_type": "stream",
     "text": [
      "\u001b[32m```\u001b[0m\u001b[32mpython\u001b[0m\u001b[32m\u001b[0m\u001b[32m\n",
      "import pandas as pd\u001b[0m\u001b[32m\n",
      "\n",
      "def main():\n",
      "    global data\u001b[0m\u001b[32m\n",
      "    # Load the exam scores dataset\u001b[0m\u001b[32m\n",
      "    exam_scores_df = data['考试成绩\u001b[0m\u001b[32m'].df\n",
      "    \n",
      "    # Add a column\u001b[0m\u001b[32m for total score\n",
      "    exam_scores_df\u001b[0m\u001b[32m['总分'] = exam_scores_df\u001b[0m\u001b[32m['语文'] + exam_scores_df['\u001b[0m\u001b[32m数学']\n",
      "    \n",
      "    # Sort the dataframe\u001b[0m\u001b[32m by total score in descending order\u001b[0m\u001b[32m\n",
      "    sorted_scores_df = exam_scores_df.sort\u001b[0m\u001b[32m_values(by='总分', ascending=False\u001b[0m\u001b[32m)\n",
      "    \n",
      "    # Get Wu Hongbing\u001b[0m\u001b[32m's total score\n",
      "    wu_h\u001b[0m\u001b[32mongbing_total = sorted_scores_df.loc\u001b[0m\u001b[32m[sorted_scores_df['姓名'] ==\u001b[0m\u001b[32m '吴红兵', '总分\u001b[0m\u001b[32m'].iloc[0]\n",
      "    \n",
      "    #\u001b[0m\u001b[32m Get Wu Hongbing's rank\u001b[0m\u001b[32m\n",
      "    wu_hongbing_rank = sorted\u001b[0m\u001b[32m_scores_df['总分'].eq(w\u001b[0m\u001b[32mu_hongbing_total).sum()\u001b[0m\u001b[32m\n",
      "    \n",
      "    return wu_hongbing\u001b[0m\u001b[32m_rank\n",
      "\n",
      "main()\n",
      "```\u001b[0m\u001b[32m\u001b[0m\n",
      "\n",
      "\u001b[32m吴\u001b[0m\u001b[32m红兵的总分\u001b[0m\u001b[32m排名是第一名。\u001b[0m\u001b[32m\u001b[0m\n",
      "\n"
     ]
    },
    {
     "data": {
      "text/plain": [
       "'{\"0\": {\"index\": 0, \"id\": \"call_93556a2dfeb44eb282a993\", \"type\": \"function\", \"function\": {\"name\": \"python_code\", \"arguments\": \"{\\\\\"question\\\\\": \\\\\"吴红兵的总分排名是多少？\\\\\"}\"}}}吴红兵的总分排名是第一名。'"
      ]
     },
     "execution_count": 5,
     "metadata": {},
     "output_type": "execute_result"
    }
   ],
   "source": [
    "log(a, \"看看他的总分第几名？\")"
   ]
  },
  {
   "cell_type": "code",
   "execution_count": 6,
   "id": "b77e3762-c171-40c1-a49e-6ce27adae501",
   "metadata": {},
   "outputs": [
    {
     "name": "stdout",
     "output_type": "stream",
     "text": [
      "\u001b[32m```\u001b[0m\u001b[32mpython\u001b[0m\u001b[32m\u001b[0m\u001b[32m\n",
      "import pandas as pd\u001b[0m\u001b[32m\n",
      "\n",
      "def rank_student(data, name):\u001b[0m\u001b[32m\n",
      "    df = data['考试成绩'].df\u001b[0m\u001b[32m\n",
      "    # 添加总分列（\u001b[0m\u001b[32m如果尚未添加）\n",
      "    if '总\u001b[0m\u001b[32m分' not in df.columns:\u001b[0m\u001b[32m\n",
      "        df['总分'] = df['\u001b[0m\u001b[32m语文'] + df['数学']\u001b[0m\u001b[32m\n",
      "    # 按总分降序\u001b[0m\u001b[32m排序并添加排名列\n",
      "    df\u001b[0m\u001b[32m_ranked = df.sort_values(by='\u001b[0m\u001b[32m总分', ascending=False).reset_index\u001b[0m\u001b[32m(drop=True)\n",
      "    df_ranked['\u001b[0m\u001b[32m排名'] = df_ranked.index +\u001b[0m\u001b[32m 1\n",
      "    # 查询指定学生的\u001b[0m\u001b[32m成绩信息及排名\n",
      "    student_info\u001b[0m\u001b[32m = df_ranked[df_ranked['\u001b[0m\u001b[32m姓名'] == name]\n",
      "    return student\u001b[0m\u001b[32m_info.to_dict(orient='records')\u001b[0m\u001b[32m\n",
      "\n",
      "def main():\n",
      "    result = rank_student\u001b[0m\u001b[32m(data, '薛一凡')\u001b[0m\u001b[32m\n",
      "    return result\n",
      "```\u001b[0m\u001b[32m\u001b[0m\n",
      "\n",
      "\u001b[32m薛一凡的详细\u001b[0m\u001b[32m成绩信息如下：\n",
      "- 语文:\u001b[0m\u001b[32m 90 分\n",
      "- 数学\u001b[0m\u001b[32m: 135 分\n",
      "总\u001b[0m\u001b[32m分为 225 分，排名\u001b[0m\u001b[32m是第一名。\u001b[0m\u001b[32m\u001b[0m\n",
      "\n"
     ]
    },
    {
     "data": {
      "text/plain": [
       "'{\"0\": {\"index\": 0, \"id\": \"call_7e5f7b34efe84b1681f560\", \"type\": \"function\", \"function\": {\"name\": \"python_code\", \"arguments\": \"{\\\\\"question\\\\\": \\\\\"查询薛一凡的详细成绩信息及排名\\\\\"}\"}}}薛一凡的详细成绩信息如下：\\n- 语文: 90 分\\n- 数学: 135 分\\n总分为 225 分，排名是第一名。'"
      ]
     },
     "execution_count": 6,
     "metadata": {},
     "output_type": "execute_result"
    }
   ],
   "source": [
    "log(a, \"再帮我看看薛一凡的详细情况和名次\")"
   ]
  },
  {
   "cell_type": "markdown",
   "id": "73406fd4-5fd0-4c29-a1e3-11ac99e458bc",
   "metadata": {},
   "source": [
    "### 单轮写作"
   ]
  },
  {
   "cell_type": "code",
   "execution_count": 8,
   "id": "456816ab-2c07-4c4e-adb6-c47617fd224b",
   "metadata": {},
   "outputs": [
    {
     "name": "stdout",
     "output_type": "stream",
     "text": [
      "[TOOLS_CALL_CHUNK] \u001b[32m{\"index\": 0, \"id\": \"call_f35cc3756f604157a2223a\", \"type\": \"function\", \"function\": {\"name\": \"python_code\", \"arguments\": \"\"}}\u001b[0m\n",
      "[TOOLS_CALL_CHUNK] \u001b[32m{\"index\": 0, \"id\": \"\", \"type\": \"function\", \"function\": {\"arguments\": \"{\\\"question\\\": \\\"查询\"}}\u001b[0m\n",
      "[TOOLS_CALL_CHUNK] \u001b[32m{\"index\": 0, \"id\": \"\", \"type\": \"function\", \"function\": {\"arguments\": \"几个孩子的实际考试成绩\\\"}\"}}\u001b[0m\n",
      "[TOOLS_CALL_CHUNK] \u001b[32m{\"index\": 0, \"id\": \"\", \"type\": \"function\", \"function\": {}}\u001b[0m\n",
      "[TOOLS_CALL_CHUNK] \u001b[32m{\"index\": 0, \"id\": \"\", \"type\": \"function\", \"function\": {}}\u001b[0m\n",
      "[TOOLS_CALL_FINAL] \u001b[36m{\"0\": {\"index\": 0, \"id\": \"call_f35cc3756f604157a2223a\", \"type\": \"function\", \"function\": {\"name\": \"python_code\", \"arguments\": \"{\\\"question\\\": \\\"查询几个孩子的实际考试成绩\\\"}\"}}}\u001b[0m\n",
      "\u001b[32m```\u001b[0m\u001b[32mpython\u001b[0m\u001b[32m\n",
      "\u001b[0m\u001b[32mdef main():\n",
      "    #\u001b[0m\u001b[32m 由于问题没有具体说明要查询\u001b[0m\u001b[32m哪些孩子的成绩以及需要什么样的处理，\n",
      "\u001b[0m\u001b[32m    # 这里我们做一个基本\u001b[0m\u001b[32m的假设：查询所有孩子的语文和\u001b[0m\u001b[32m数学成绩。\n",
      "    # 如果有具体\u001b[0m\u001b[32m需求，请提供更详细的问题描述。\n",
      "\n",
      "\u001b[0m\u001b[32m    # 使用pandas库读取\u001b[0m\u001b[32m考试成绩数据集\n",
      "    exam_scores\u001b[0m\u001b[32m = data['考试成绩'].df\n",
      "    \n",
      "\u001b[0m\u001b[32m    # 返回所有孩子的语文和数学\u001b[0m\u001b[32m成绩\n",
      "    return exam_scores[['姓名\u001b[0m\u001b[32m', '语文', '数学']]\n",
      "```\u001b[0m\u001b[32m\u001b[0m\n",
      "\n",
      "[TOOL_RESP_FINAL] \u001b[36m\n",
      "| 姓名   |   语文 |   数学 |\n",
      "|:-------|-------:|-------:|\n",
      "| 薛一凡 |     90 |    135 |\n",
      "| 肖一笑 |     80 |    110 |\n",
      "| 赖国良 |    105 |    120 |\n",
      "| 吴红兵 |    110 |     90 |\u001b[0m\n",
      "\u001b[32m#\u001b[0m\u001b[32m\u001b[0m\u001b[32m 学生考试成绩分析\u001b[0m\u001b[32m报告\n",
      "\n",
      "## 一、成绩概\u001b[0m\u001b[32m览\n",
      "\n",
      "### 成绩统计\u001b[0m\u001b[32m\n",
      "\n",
      "<OUTLINE>\n",
      "扩写摘要: 对\u001b[0m\u001b[32m学生的语文与数学成绩进行整体概括\u001b[0m\u001b[32m，列出平均分、最高分、\u001b[0m\u001b[32m最低分。\n",
      "\n",
      "扩写要求:\n",
      "-\u001b[0m\u001b[32m 计算并列举所有学生的语文\u001b[0m\u001b[32m和数学成绩的平均分。\n",
      "-\u001b[0m\u001b[32m 高出平均分最多的学生及其\u001b[0m\u001b[32m分数。\n",
      "- 低于平均分最多\u001b[0m\u001b[32m的学生及其分数。\n",
      "- 预\u001b[0m\u001b[32m估字数：150字\u001b[0m\u001b[32m\n",
      "</OUTLINE>\n",
      "\n",
      "## 二\u001b[0m\u001b[32m、个体成绩分析\n",
      "\n",
      "###\u001b[0m\u001b[32m 薛一凡\n",
      "\n",
      "<OUTLINE>\u001b[0m\u001b[32m\n",
      "扩写摘要: 分析薛一\u001b[0m\u001b[32m凡同学的成绩表现，与班级平均\u001b[0m\u001b[32m成绩对比。\n",
      "\n",
      "扩写要求:\n",
      "-\u001b[0m\u001b[32m 对比薛一凡的语文和\u001b[0m\u001b[32m数学成绩与班级相应科目的平均\u001b[0m\u001b[32m成绩。\n",
      "- 点评薛一\u001b[0m\u001b[32m凡成绩的优势科目及提升空间。\u001b[0m\u001b[32m\n",
      "- 预估字数：\u001b[0m\u001b[32m100字\n",
      "</OUTLINE\u001b[0m\u001b[32m>\n",
      "\n",
      "### 肖一笑\u001b[0m\u001b[32m\n",
      "\n",
      "<OUTLINE>\n",
      "扩写摘要:\u001b[0m\u001b[32m 评估肖一笑同学的学习情况，提出\u001b[0m\u001b[32m针对性建议。\n",
      "\n",
      "扩写要求:\n",
      "-\u001b[0m\u001b[32m 指出肖一笑成绩相对\u001b[0m\u001b[32m薄弱的科目。\n",
      "- 给出\u001b[0m\u001b[32m提高该科目成绩的具体建议。\n",
      "-\u001b[0m\u001b[32m 预估字数：1\u001b[0m\u001b[32m00字\n",
      "</OUTLINE>\u001b[0m\u001b[32m\n",
      "\n",
      "### 赖国良\u001b[0m\u001b[32m\n",
      "\n",
      "<OUTLINE>\n",
      "扩写摘要: 分\u001b[0m\u001b[32m析赖国良的成绩分布，探讨\u001b[0m\u001b[32m其学习策略的有效性。\n",
      "\n",
      "扩写\u001b[0m\u001b[32m要求:\n",
      "- 分析赖国良\u001b[0m\u001b[32m在两门科目上的表现是否均衡\u001b[0m\u001b[32m。\n",
      "- 探讨赖国良\u001b[0m\u001b[32m维持或提升成绩可能采取的策略\u001b[0m\u001b[32m。\n",
      "- 预估字数\u001b[0m\u001b[32m：100字\n",
      "</OUT\u001b[0m\u001b[32mLINE>\n",
      "\n",
      "### 吴红兵\u001b[0m\u001b[32m\n",
      "\n",
      "<OUTLINE>\n",
      "扩写摘要:\u001b[0m\u001b[32m 评价吴红兵的成绩波动，\u001b[0m\u001b[32m提出平衡发展的重要性。\n",
      "\n",
      "扩写要求\u001b[0m\u001b[32m:\n",
      "- 说明吴红兵成绩\u001b[0m\u001b[32m的显著差异（高分与低\u001b[0m\u001b[32m分科目）。\n",
      "- 强调\u001b[0m\u001b[32m平衡各科学习的必要性，并\u001b[0m\u001b[32m提供策略。\n",
      "- 预估\u001b[0m\u001b[32m字数：100字\u001b[0m\u001b[32m\n",
      "</OUTLINE>\n",
      "\n",
      "## 三、\u001b[0m\u001b[32m总体建议与总结\n",
      "\n",
      "<OUTLINE\u001b[0m\u001b[32m>\n",
      "扩写摘要: 综合\u001b[0m\u001b[32m所有学生的表现，提出班级整体提升\u001b[0m\u001b[32m学习效率的方法。\n",
      "\n",
      "扩写要求:\u001b[0m\u001b[32m\n",
      "- 总结学生们的共性\u001b[0m\u001b[32m问题和个别亮点。\n",
      "- 提出\u001b[0m\u001b[32m适用于全班的一般性学习策略\u001b[0m\u001b[32m和方法。\n",
      "- 预估\u001b[0m\u001b[32m字数：150字\u001b[0m\u001b[32m\n",
      "</OUTLINE>\u001b[0m\u001b[32m\u001b[0m\n",
      "\n",
      "[END] \u001b[34m【内容由幻蝶AI生成，其观点仅代表创作者个人立场，可登录 http://www.illufly.com 查验其校验码 20431740】\u001b[0m\n"
     ]
    },
    {
     "data": {
      "text/plain": [
       "'# 学生考试成绩分析报告\\n\\n## 一、成绩概览\\n\\n### 成绩统计\\n\\n<OUTLINE>\\n扩写摘要: 对学生的语文与数学成绩进行整体概括，列出平均分、最高分、最低分。\\n\\n扩写要求:\\n- 计算并列举所有学生的语文和数学成绩的平均分。\\n- 高出平均分最多的学生及其分数。\\n- 低于平均分最多的学生及其分数。\\n- 预估字数：150字\\n</OUTLINE>\\n\\n## 二、个体成绩分析\\n\\n### 薛一凡\\n\\n<OUTLINE>\\n扩写摘要: 分析薛一凡同学的成绩表现，与班级平均成绩对比。\\n\\n扩写要求:\\n- 对比薛一凡的语文和数学成绩与班级相应科目的平均成绩。\\n- 点评薛一凡成绩的优势科目及提升空间。\\n- 预估字数：100字\\n</OUTLINE>\\n\\n### 肖一笑\\n\\n<OUTLINE>\\n扩写摘要: 评估肖一笑同学的学习情况，提出针对性建议。\\n\\n扩写要求:\\n- 指出肖一笑成绩相对薄弱的科目。\\n- 给出提高该科目成绩的具体建议。\\n- 预估字数：100字\\n</OUTLINE>\\n\\n### 赖国良\\n\\n<OUTLINE>\\n扩写摘要: 分析赖国良的成绩分布，探讨其学习策略的有效性。\\n\\n扩写要求:\\n- 分析赖国良在两门科目上的表现是否均衡。\\n- 探讨赖国良维持或提升成绩可能采取的策略。\\n- 预估字数：100字\\n</OUTLINE>\\n\\n### 吴红兵\\n\\n<OUTLINE>\\n扩写摘要: 评价吴红兵的成绩波动，提出平衡发展的重要性。\\n\\n扩写要求:\\n- 说明吴红兵成绩的显著差异（高分与低分科目）。\\n- 强调平衡各科学习的必要性，并提供策略。\\n- 预估字数：100字\\n</OUTLINE>\\n\\n## 三、总体建议与总结\\n\\n<OUTLINE>\\n扩写摘要: 综合所有学生的表现，提出班级整体提升学习效率的方法。\\n\\n扩写要求:\\n- 总结学生们的共性问题和个别亮点。\\n- 提出适用于全班的一般性学习策略和方法。\\n- 预估字数：150字\\n</OUTLINE>'"
      ]
     },
     "execution_count": 8,
     "metadata": {},
     "output_type": "execute_result"
    }
   ],
   "source": [
    "from illufly.llm import qwen, fake_llm\n",
    "from illufly.agent import Agent\n",
    "from illufly.io import log\n",
    "import pandas as pd\n",
    "\n",
    "a = Agent(qwen)\n",
    "\n",
    "a.add_dataset(\n",
    "    \"中秋名单\",\n",
    "    pd.DataFrame({\n",
    "        \"姓名\": [\"薛一凡\", \"肖一笑\", \"赖国良\", \"吴红兵\"],\n",
    "        \"月饼数量\": [2, 2, 1, 1]\n",
    "    })\n",
    ")\n",
    "\n",
    "a.add_dataset(\n",
    "    \"考试成绩\",\n",
    "    pd.DataFrame({\n",
    "        \"姓名\": [\"薛一凡\", \"肖一笑\", \"赖国良\", \"吴红兵\"],\n",
    "        \"语文\": [90, 80, 105, 110],\n",
    "        \"数学\": [135, 110, 120, 90]\n",
    "    })\n",
    ")\n",
    "\n",
    "log(a, \"请查询工具，针对这几个孩子的实际考试成绩，帮我写一份报告\", template=\"OUTLINE\")"
   ]
  }
 ],
 "metadata": {
  "kernelspec": {
   "display_name": "textlong-same-ipykernel",
   "language": "python",
   "name": "textlong-same-ipykernel"
  },
  "language_info": {
   "codemirror_mode": {
    "name": "ipython",
    "version": 3
   },
   "file_extension": ".py",
   "mimetype": "text/x-python",
   "name": "python",
   "nbconvert_exporter": "python",
   "pygments_lexer": "ipython3",
   "version": "3.10.0"
  }
 },
 "nbformat": 4,
 "nbformat_minor": 5
}
