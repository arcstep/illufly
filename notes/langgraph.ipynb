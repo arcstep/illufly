{
 "cells": [
  {
   "cell_type": "code",
   "execution_count": 1,
   "metadata": {},
   "outputs": [],
   "source": [
    "from dotenv import load_dotenv, find_dotenv\n",
    "load_dotenv(find_dotenv(), override=True)\n",
    "\n",
    "import os\n",
    "os.chdir('..')\n",
    "from langchain_zhipu import ChatZhipuAI, ZhipuAIEmbeddings"
   ]
  },
  {
   "cell_type": "code",
   "execution_count": 2,
   "metadata": {},
   "outputs": [],
   "source": [
    "from langchain_chinese import (\n",
    "    create_qa_chain,\n",
    "    create_qa_toolkits,\n",
    "    create_reason_agent,\n",
    ")\n",
    "from langchain_chinese.langgraph import create_tool_calling_executor\n",
    "\n",
    "from langchain.schema import Document\n",
    "query_document = Document(page_content=\"langchain_chinese 是为中国大语言模型优化的langchain模块\")\n",
    "\n",
    "from langchain_community.vectorstores import Chroma\n",
    "db = Chroma.from_documents([query_document], ZhipuAIEmbeddings())\n",
    "\n",
    "llm_zhipu = ChatZhipuAI(model=\"glm-4\")\n",
    "\n",
    "chain = create_qa_chain(llm_zhipu, db.as_retriever())\n",
    "tools = create_qa_toolkits(qa_chain=chain)"
   ]
  },
  {
   "cell_type": "code",
   "execution_count": 3,
   "metadata": {},
   "outputs": [],
   "source": [
    "from langchain.tools import tool\n",
    "import random\n",
    "\n",
    "# @tool(args_schema=WhereIsCatSchema)\n",
    "@tool(\"WhereIsCatHidding\")\n",
    "def where_is_cat_hiding(idea: str) -> str:\n",
    "    \"\"\"从这些地方选择猫躲藏的地方\"\"\"\n",
    "    return random.choice([\"在床底下\", \"在书架中\", \"在阳台\"])"
   ]
  },
  {
   "cell_type": "code",
   "execution_count": 4,
   "metadata": {},
   "outputs": [],
   "source": [
    "# from langchain_openai import ChatOpenAI\n",
    "# model = ChatZhipuAI()\n",
    "app = create_tool_calling_executor(llm_zhipu, [*tools, where_is_cat_hiding])"
   ]
  },
  {
   "cell_type": "code",
   "execution_count": 8,
   "metadata": {},
   "outputs": [
    {
     "name": "stdout",
     "output_type": "stream",
     "text": [
      "{'agent': {'messages': [AIMessage(content='', additional_kwargs={'tool_calls': [{'index': 0, 'id': 'call_8465305361399317318', 'function': {'arguments': '{\"query\":\"langchain_chinese是什么\"}', 'name': 'ask_document'}, 'type': 'function'}]})]}}\n",
      "----\n"
     ]
    },
    {
     "name": "stderr",
     "output_type": "stream",
     "text": [
      "Number of requested results 4 is greater than number of elements in index 1, updating n_results = 1\n"
     ]
    },
    {
     "name": "stdout",
     "output_type": "stream",
     "text": [
      "{'action': {'messages': [ToolMessage(content='langchain_chinese 是专门针对中国大语言模型进行优化设计的langchain模块。这个模块可能是为了更好地与中国的语言环境和需求相适应，提高大语言模型在中文语境下的表现和应用效果。', tool_call_id='call_8465305361399317318')]}}\n",
      "----\n",
      "{'agent': {'messages': [AIMessage(content='根据我的了解，langchain_chinese 是专门针对中国大语言模型进行优化设计的langchain模块。这个模块可能是为了更好地与中国的语言环境和需求相适应，提高大语言模型在中文语境下的表现和应用效果。')]}}\n",
      "----\n",
      "{'__end__': {'messages': [HumanMessage(content='请查询资料，告诉我langchain_chinese是什么？'), AIMessage(content='', additional_kwargs={'tool_calls': [{'index': 0, 'id': 'call_8465305361399317318', 'function': {'arguments': '{\"query\":\"langchain_chinese是什么\"}', 'name': 'ask_document'}, 'type': 'function'}]}), ToolMessage(content='langchain_chinese 是专门针对中国大语言模型进行优化设计的langchain模块。这个模块可能是为了更好地与中国的语言环境和需求相适应，提高大语言模型在中文语境下的表现和应用效果。', tool_call_id='call_8465305361399317318'), AIMessage(content='根据我的了解，langchain_chinese 是专门针对中国大语言模型进行优化设计的langchain模块。这个模块可能是为了更好地与中国的语言环境和需求相适应，提高大语言模型在中文语境下的表现和应用效果。')]}}\n",
      "----\n"
     ]
    }
   ],
   "source": [
    "from langchain_core.messages import HumanMessage\n",
    "\n",
    "inputs = {\"messages\": [HumanMessage(content=\"请查询资料，告诉我langchain_chinese是什么？\")]}\n",
    "async for s in app.astream(inputs):\n",
    "    print(s)\n",
    "    print(\"----\")"
   ]
  },
  {
   "cell_type": "code",
   "execution_count": 116,
   "metadata": {},
   "outputs": [
    {
     "name": "stdout",
     "output_type": "stream",
     "text": [
      "on_chain_start\n",
      "on_chain_stream call_model ['seq:step:2']\n",
      "{'chunk': {'messages': [AIMessage(content='', additional_kwargs={'tool_calls': [{'index': 0, 'id': 'call_8465308385056330157', 'function': {'arguments': '{\"idea\":\"猫在哪里\"}', 'name': 'WhereIsCatHidding'}, 'type': 'function'}]})]}}\n",
      "on_chain_end\n",
      "on_chain_start\n",
      "on_chain_stream call_model ['seq:step:2']\n",
      "{'chunk': {'messages': [AIMessage(content='猫在阳台上。')]}}\n",
      "on_chain_end\n"
     ]
    }
   ],
   "source": [
    "inputs = {\"messages\": [HumanMessage(content=\"猫在哪里？\")]}\n",
    "async for s in app.astream_events(inputs, version=\"v1\", include_names=[\"call_model\"]):\n",
    "    event = s['event']\n",
    "    name = s['name']\n",
    "    tags = s['tags']\n",
    "    metadata = s['metadata']\n",
    "    data = s['data']\n",
    "    if(event == \"on_chain_stream\"):\n",
    "        print(event, name, tags)\n",
    "        print(data)\n",
    "    else:\n",
    "        print(event)\n"
   ]
  },
  {
   "cell_type": "code",
   "execution_count": 118,
   "metadata": {},
   "outputs": [
    {
     "name": "stdout",
     "output_type": "stream",
     "text": [
      "Output from node 'agent':\n",
      "---\n",
      "{'messages': [AIMessage(content='', additional_kwargs={'tool_calls': [{'index': 0, 'id': 'call_8465304193168110376', 'function': {'arguments': '{\"query\":\"霍金的生日是哪一天？\"}', 'name': 'ask_document'}, 'type': 'function'}]})]}\n",
      "\n",
      "---\n",
      "\n"
     ]
    },
    {
     "name": "stderr",
     "output_type": "stream",
     "text": [
      "Number of requested results 4 is greater than number of elements in index 1, updating n_results = 1\n"
     ]
    },
    {
     "name": "stdout",
     "output_type": "stream",
     "text": [
      "Output from node 'action':\n",
      "---\n",
      "{'messages': [ToolMessage(content='霍金的生日是1942年1月8日。', tool_call_id='call_8465304193168110376')]}\n",
      "\n",
      "---\n",
      "\n",
      "Output from node 'agent':\n",
      "---\n",
      "{'messages': [AIMessage(content='根据资料库查询，霍金的生日是1942年1月8日。')]}\n",
      "\n",
      "---\n",
      "\n",
      "Output from node '__end__':\n",
      "---\n",
      "{'messages': [HumanMessage(content='霍金的生日是哪一天？'), AIMessage(content='', additional_kwargs={'tool_calls': [{'index': 0, 'id': 'call_8465304193168110376', 'function': {'arguments': '{\"query\":\"霍金的生日是哪一天？\"}', 'name': 'ask_document'}, 'type': 'function'}]}), ToolMessage(content='霍金的生日是1942年1月8日。', tool_call_id='call_8465304193168110376'), AIMessage(content='根据资料库查询，霍金的生日是1942年1月8日。')]}\n",
      "\n",
      "---\n",
      "\n"
     ]
    }
   ],
   "source": [
    "inputs =  {\"messages\": [HumanMessage(content=\"霍金的生日是哪一天？\")]}\n",
    "for output in app.stream(inputs):\n",
    "    # stream() yields dictionaries with output keyed by node name\n",
    "    for key, value in output.items():\n",
    "        print(f\"Output from node '{key}':\")\n",
    "        print(\"---\")\n",
    "        print(value)\n",
    "    print(\"\\n---\\n\")\n"
   ]
  },
  {
   "cell_type": "code",
   "execution_count": null,
   "metadata": {},
   "outputs": [],
   "source": []
  }
 ],
 "metadata": {
  "kernelspec": {
   "display_name": "langchain-chinese-py3.9-ipkyernel",
   "language": "python",
   "name": "langchain-chinese-py3.9-ipkyernel"
  },
  "language_info": {
   "codemirror_mode": {
    "name": "ipython",
    "version": 3
   },
   "file_extension": ".py",
   "mimetype": "text/x-python",
   "name": "python",
   "nbconvert_exporter": "python",
   "pygments_lexer": "ipython3",
   "version": "3.9.18"
  }
 },
 "nbformat": 4,
 "nbformat_minor": 2
}
