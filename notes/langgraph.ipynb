{
 "cells": [
  {
   "cell_type": "code",
   "execution_count": 1,
   "metadata": {},
   "outputs": [],
   "source": [
    "from dotenv import load_dotenv, find_dotenv\n",
    "load_dotenv(find_dotenv(), override=True)\n",
    "\n",
    "import os\n",
    "os.chdir('..')\n",
    "from langchain_zhipu import ChatZhipuAI, ZhipuAIEmbeddings"
   ]
  },
  {
   "cell_type": "code",
   "execution_count": 2,
   "metadata": {},
   "outputs": [],
   "source": [
    "from langchain_chinese import (\n",
    "    create_qa_chain,\n",
    "    create_qa_toolkits,\n",
    "    create_reason_agent,\n",
    ")\n",
    "from langchain_chinese.langgraph import create_tool_calling_executor\n",
    "\n",
    "from langchain.schema import Document\n",
    "query_document = Document(page_content=\"langchain_chinese 是为中国大语言模型优化的langchain模块\")\n",
    "\n",
    "from langchain_community.vectorstores import Chroma\n",
    "db = Chroma.from_documents([query_document], ZhipuAIEmbeddings())\n",
    "\n",
    "llm_zhipu = ChatZhipuAI(model=\"glm-4\", streaming=True)\n",
    "\n",
    "chain = create_qa_chain(llm_zhipu, db.as_retriever())\n",
    "tools = create_qa_toolkits(qa_chain=chain)"
   ]
  },
  {
   "cell_type": "code",
   "execution_count": 3,
   "metadata": {},
   "outputs": [],
   "source": [
    "from langchain.tools import tool\n",
    "import random\n",
    "\n",
    "# @tool(args_schema=WhereIsCatSchema)\n",
    "@tool(\"WhereIsCatHidding\")\n",
    "def where_is_cat_hiding(idea: str) -> str:\n",
    "    \"\"\"从这些地方选择猫躲藏的地方\"\"\"\n",
    "    return random.choice([\"在床底下\", \"在书架中\", \"在阳台\"])"
   ]
  },
  {
   "cell_type": "code",
   "execution_count": 4,
   "metadata": {},
   "outputs": [],
   "source": [
    "# from langchain_openai import ChatOpenAI\n",
    "# model = ChatZhipuAI()\n",
    "app = create_tool_calling_executor(llm_zhipu, [*tools, where_is_cat_hiding])"
   ]
  },
  {
   "cell_type": "code",
   "execution_count": 5,
   "metadata": {},
   "outputs": [
    {
     "name": "stdout",
     "output_type": "stream",
     "text": [
      "{'agent': AIMessage(content='', additional_kwargs={'tool_calls': [{'index': 0, 'id': 'call_8469012948968520491', 'function': {'arguments': '{\"query\":\"langchain_chinese是什么\"}', 'name': 'ask_document'}, 'type': 'function'}]})}\n",
      "----\n"
     ]
    },
    {
     "name": "stderr",
     "output_type": "stream",
     "text": [
      "Number of requested results 4 is greater than number of elements in index 1, updating n_results = 1\n"
     ]
    },
    {
     "name": "stdout",
     "output_type": "stream",
     "text": [
      "{'action': [ToolMessage(content='langchain_chinese 是专门针对中国大语言模型进行优化设计的langchain模块。这个模块可能是用于提高语言模型的处理能力和效率，使其更适合中文环境下的应用需求。', tool_call_id='call_8469012948968520491')]}\n",
      "----\n",
      "{'agent': AIMessage(content='根据我的查询结果，langchain_chinese 是专门针对中国大语言模型进行优化设计的langchain模块。这个模块可能是用于提高语言模型的处理能力和效率，使其更适合中文环境下的应用需求。')}\n",
      "----\n",
      "{'__end__': [HumanMessage(content='请查询资料，告诉我langchain_chinese是什么？'), AIMessage(content='', additional_kwargs={'tool_calls': [{'index': 0, 'id': 'call_8469012948968520491', 'function': {'arguments': '{\"query\":\"langchain_chinese是什么\"}', 'name': 'ask_document'}, 'type': 'function'}]}), ToolMessage(content='langchain_chinese 是专门针对中国大语言模型进行优化设计的langchain模块。这个模块可能是用于提高语言模型的处理能力和效率，使其更适合中文环境下的应用需求。', tool_call_id='call_8469012948968520491'), AIMessage(content='根据我的查询结果，langchain_chinese 是专门针对中国大语言模型进行优化设计的langchain模块。这个模块可能是用于提高语言模型的处理能力和效率，使其更适合中文环境下的应用需求。')]}\n",
      "----\n"
     ]
    }
   ],
   "source": [
    "from langchain_core.messages import HumanMessage\n",
    "\n",
    "inputs = [HumanMessage(content=\"请查询资料，告诉我langchain_chinese是什么？\")]\n",
    "for s in app.stream(inputs):\n",
    "    print(s)\n",
    "    print(\"----\")"
   ]
  },
  {
   "cell_type": "code",
   "execution_count": 6,
   "metadata": {},
   "outputs": [
    {
     "name": "stderr",
     "output_type": "stream",
     "text": [
      "/Users/xuehongwei/Library/Caches/pypoetry/virtualenvs/langchain-chinese-gSQlHcwW-py3.9/lib/python3.9/site-packages/langchain_core/_api/beta_decorator.py:86: LangChainBetaWarning: This API is in beta and may change in the future.\n",
      "  warn_beta(\n"
     ]
    },
    {
     "name": "stdout",
     "output_type": "stream",
     "text": [
      "__{}\n"
     ]
    },
    {
     "name": "stderr",
     "output_type": "stream",
     "text": [
      "Number of requested results 4 is greater than number of elements in index 1, updating n_results = 1\n"
     ]
    },
    {
     "name": "stdout",
     "output_type": "stream",
     "text": [
      "{'chunk': [ToolMessage(content='langchain_chinese 是专门为中国大语言模型优化的langchain模块。这个模块可能是用于改进语言模型的处理能力，比如在理解中文语境、文化背景以及语法结构等方面，以便更好地服务于中文用户的需求。', tool_call_id='call_8469018240368352891')]}\n",
      "{'input': [HumanMessage(content='请查询资料，告诉我langchain_chinese是什么？'), AIMessageChunk(content='', additional_kwargs={'tool_calls': [{'index': 0, 'id': 'call_8469018240368352891', 'function': {'arguments': '{\"query\":\"langchain_chinese是什么\"}', 'name': 'ask_document'}, 'type': 'function'}]})], 'output': [ToolMessage(content='langchain_chinese 是专门为中国大语言模型优化的langchain模块。这个模块可能是用于改进语言模型的处理能力，比如在理解中文语境、文化背景以及语法结构等方面，以便更好地服务于中文用户的需求。', tool_call_id='call_8469018240368352891')]}\n",
      "根据_我的_查询_结果_，_lang_chain__ch_inese_ 是_专门_为中国_大_语言_模型_优_化的_lang_chain_模块_。_这个_模块_可能是_用于_改进_语言_模型的_处理_能力_，_比如_在_理解_中文_语境_、_文化_背景_以及_语法_结构_等方面_，_以便_更好地_服务于_中文_用户_的需求_。__"
     ]
    }
   ],
   "source": [
    "from langchain_core.messages import HumanMessage\n",
    "\n",
    "inputs = [HumanMessage(content=\"请查询资料，告诉我langchain_chinese是什么？\")]\n",
    "async for chunk in app.astream_events(inputs, version=\"v1\"):\n",
    "    # print(\" \"*10, chunk['event'], chunk['name'], chunk['tags'])\n",
    "    if(chunk['event']==\"on_chain_stream\" and chunk['name']==\"agent\"):\n",
    "        print(chunk['data']['chunk'].content, end=\"_\", flush=True)\n",
    "    elif(chunk['name']==\"action\"):\n",
    "        print(chunk['data'])"
   ]
  },
  {
   "cell_type": "code",
   "execution_count": 19,
   "metadata": {},
   "outputs": [
    {
     "name": "stdout",
     "output_type": "stream",
     "text": [
      "__{}\n",
      "{'chunk': [ToolMessage(content='在书架中', tool_call_id='call_8469008722720615293')]}\n",
      "{'input': [HumanMessage(content='猫在哪里？'), AIMessageChunk(content='', additional_kwargs={'tool_calls': [{'index': 0, 'id': 'call_8469008722720615293', 'function': {'arguments': '{\"idea\":\"猫在哪里？\"}', 'name': 'WhereIsCatHidding'}, 'type': 'function'}]})], 'output': [ToolMessage(content='在书架中', tool_call_id='call_8469008722720615293')]}\n",
      "根据_我的_调查_，_猫_喜欢_躲在_狭窄_的空间_里_，_比如_书_架_、_衣柜_、_纸_箱_等等_。_所以_，_如果你_找不到_你的_猫_，_可以去_这些_地方_看看_。_根据_我的_调用_结果_，_猫_在_书_架_中_，_你可以_去_那里_找_找_看_。__"
     ]
    }
   ],
   "source": [
    "inputs = [HumanMessage(content=\"猫在哪里？\")]\n",
    "async for chunk in app.astream_events(inputs, version=\"v1\"):\n",
    "    # print(\" \"*10, chunk['event'], chunk['name'], chunk['tags'])\n",
    "    if(chunk['event']==\"on_chain_stream\" and chunk['name']==\"agent\"):\n",
    "        print(chunk['data']['chunk'].content, end=\"_\", flush=True)\n",
    "    elif(chunk['name']==\"action\"):\n",
    "        print(chunk['data'])"
   ]
  },
  {
   "cell_type": "code",
   "execution_count": 20,
   "metadata": {},
   "outputs": [
    {
     "name": "stdout",
     "output_type": "stream",
     "text": [
      "__{}\n"
     ]
    },
    {
     "name": "stderr",
     "output_type": "stream",
     "text": [
      "Number of requested results 4 is greater than number of elements in index 1, updating n_results = 1\n"
     ]
    },
    {
     "name": "stdout",
     "output_type": "stream",
     "text": [
      "{'chunk': [ToolMessage(content='霍金的生日是1942年1月8日。', tool_call_id='call_8469018206008610065')]}\n",
      "{'input': [HumanMessage(content='霍金的生日是哪一天？'), AIMessageChunk(content='', additional_kwargs={'tool_calls': [{'index': 0, 'id': 'call_8469018206008610065', 'function': {'arguments': '{\"query\":\"霍金的生日是哪一天？\"}', 'name': 'ask_document'}, 'type': 'function'}]})], 'output': [ToolMessage(content='霍金的生日是1942年1月8日。', tool_call_id='call_8469018206008610065')]}\n",
      "根据_资料_库_查询_，_霍_金的_生日_是_19_4_2_年_1_月_8_日_。__"
     ]
    }
   ],
   "source": [
    "inputs =  [HumanMessage(content=\"霍金的生日是哪一天？\")]\n",
    "async for chunk in app.astream_events(inputs, version=\"v1\"):\n",
    "    # print(\" \"*10, chunk['event'], chunk['name'], chunk['tags'])\n",
    "    if(chunk['event']==\"on_chain_stream\" and chunk['name']==\"agent\"):\n",
    "        print(chunk['data']['chunk'].content, end=\"_\", flush=True)\n",
    "    elif(chunk['name']==\"action\"):\n",
    "        print(chunk['data'])"
   ]
  },
  {
   "cell_type": "code",
   "execution_count": 21,
   "metadata": {},
   "outputs": [
    {
     "name": "stdout",
     "output_type": "stream",
     "text": [
      "为什么_程序员_总是_携带_电脑_？_因为他们_不想_被人_称为_“_裸_奔_者_”。__"
     ]
    }
   ],
   "source": [
    "inputs =  [HumanMessage(content=\"写一个关于程序员的笑话\")]\n",
    "async for chunk in app.astream_events(inputs, version=\"v1\"):\n",
    "    # print(\" \"*10, chunk['event'], chunk['name'], chunk['tags'])\n",
    "    if(chunk['event']==\"on_chain_stream\" and chunk['name']==\"agent\"):\n",
    "        print(chunk['data']['chunk'].content, end=\"_\", flush=True)\n",
    "    elif(chunk['name']==\"action\"):\n",
    "        print(chunk['data'])"
   ]
  },
  {
   "cell_type": "code",
   "execution_count": null,
   "metadata": {},
   "outputs": [],
   "source": []
  }
 ],
 "metadata": {
  "kernelspec": {
   "display_name": "langchain-chinese-py3.9-ipkyernel",
   "language": "python",
   "name": "langchain-chinese-py3.9-ipkyernel"
  },
  "language_info": {
   "codemirror_mode": {
    "name": "ipython",
    "version": 3
   },
   "file_extension": ".py",
   "mimetype": "text/x-python",
   "name": "python",
   "nbconvert_exporter": "python",
   "pygments_lexer": "ipython3",
   "version": "3.9.18"
  }
 },
 "nbformat": 4,
 "nbformat_minor": 2
}
