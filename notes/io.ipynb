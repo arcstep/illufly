{
 "cells": [
  {
   "cell_type": "markdown",
   "id": "03f105e6-4301-4d46-8e2d-9a7a9ac52d04",
   "metadata": {},
   "source": [
    "# IO"
   ]
  },
  {
   "cell_type": "markdown",
   "id": "e2525b20-2742-4bd4-bedd-4f6c2a1b128e",
   "metadata": {},
   "source": [
    "### 流式输出原理"
   ]
  },
  {
   "cell_type": "code",
   "execution_count": 1,
   "id": "35ddf687-8816-4743-9415-b89998f08577",
   "metadata": {},
   "outputs": [
    {
     "name": "stdout",
     "output_type": "stream",
     "text": [
      "T|e|x|t|l|o|n|g|很|棒|！|"
     ]
    }
   ],
   "source": [
    "def hello():\n",
    "    return \"Textlong很棒！\"\n",
    "\n",
    "for x in hello():\n",
    "    print(x, end=\"|\")"
   ]
  },
  {
   "cell_type": "code",
   "execution_count": 2,
   "id": "b1a04d2c-0c55-498c-acf4-2fcf5493fc29",
   "metadata": {},
   "outputs": [
    {
     "name": "stdout",
     "output_type": "stream",
     "text": [
      "Textlong|很|棒！|"
     ]
    }
   ],
   "source": [
    "def hello():\n",
    "    yield \"Textlong\"\n",
    "    yield \"很\"\n",
    "    yield \"棒！\"\n",
    "\n",
    "for x in hello():\n",
    "    print(x, end=\"|\")"
   ]
  },
  {
   "cell_type": "code",
   "execution_count": 3,
   "id": "60f76a0c-dc30-410b-abab-8020faaa727f",
   "metadata": {},
   "outputs": [
    {
     "name": "stdout",
     "output_type": "stream",
     "text": [
      "OK: |Textlong|很|棒!|"
     ]
    }
   ],
   "source": [
    "def hello():\n",
    "    def _hello():\n",
    "        yield \"OK: \"\n",
    "        for info in ['Textlong', '很', '棒!']:\n",
    "            yield info\n",
    "    return _hello()\n",
    "\n",
    "for x in hello():\n",
    "    print(x, end=\"|\")"
   ]
  },
  {
   "cell_type": "code",
   "execution_count": 23,
   "id": "656817eb-3ab4-4b52-83db-0cce370ef4d6",
   "metadata": {},
   "outputs": [
    {
     "name": "stdout",
     "output_type": "stream",
     "text": [
      "Textlong|很|棒！|"
     ]
    }
   ],
   "source": [
    "def _yield(x):\n",
    "    yield x\n",
    "\n",
    "def hello():\n",
    "    for x in _yield(\"Textlong\"):\n",
    "        yield x\n",
    "    for x in _yield(\"很\"):\n",
    "        yield x\n",
    "    for x in _yield(\"棒！\"):\n",
    "        yield x\n",
    "\n",
    "for x in hello():\n",
    "    print(x, end=\"|\")"
   ]
  },
  {
   "cell_type": "markdown",
   "id": "693f5bad-f190-42f1-90ac-032fe1fcb672",
   "metadata": {},
   "source": [
    "## 流式日志打印"
   ]
  },
  {
   "cell_type": "code",
   "execution_count": 2,
   "id": "a86a8379-1adb-4150-9230-a59c954b5b6b",
   "metadata": {},
   "outputs": [
    {
     "name": "stdout",
     "output_type": "stream",
     "text": [
      "[INFO] \u001b[34m评论 >>\u001b[0m\n",
      "\u001b[32mTextlong\u001b[0m\u001b[32m很\u001b[0m\u001b[32m棒！\u001b[0m\n",
      "\n"
     ]
    },
    {
     "data": {
      "text/plain": [
       "'Textlong很棒！'"
      ]
     },
     "execution_count": 2,
     "metadata": {},
     "output_type": "execute_result"
    }
   ],
   "source": [
    "from textlong.io import TextBlock, log\n",
    "\n",
    "def hello():\n",
    "    yield TextBlock(\"info\", \"评论 >>\")\n",
    "    yield TextBlock(\"chunk\", \"Textlong\")\n",
    "    yield TextBlock(\"chunk\", \"很\")\n",
    "    yield TextBlock(\"chunk\", \"棒！\")\n",
    "\n",
    "log(hello())"
   ]
  },
  {
   "cell_type": "markdown",
   "id": "5e69ec70-128b-40d2-9241-267a8e118780",
   "metadata": {},
   "source": [
    "### 使用队列实现流式消息"
   ]
  },
  {
   "cell_type": "code",
   "execution_count": 3,
   "id": "057259f5-9ede-476b-a13b-6e3508cb054e",
   "metadata": {},
   "outputs": [],
   "source": [
    "qlog = QueueLog()\n",
    "qlog(hello)"
   ]
  },
  {
   "cell_type": "code",
   "execution_count": 4,
   "id": "bcdfc646-266e-4de1-8fa1-5c6ef000c01b",
   "metadata": {},
   "outputs": [
    {
     "data": {
      "text/plain": [
       "QueueLog(queue=<multiprocessing.queues.Queue object at 0x10ab52440>)"
      ]
     },
     "execution_count": 4,
     "metadata": {},
     "output_type": "execute_result"
    }
   ],
   "source": [
    "qlog"
   ]
  },
  {
   "cell_type": "markdown",
   "id": "719f2b07-09fc-42ab-8f63-28fc966673ba",
   "metadata": {},
   "source": [
    "<div class=\"alert alert-info\">\n",
    "    ⚠️ 如果之前没有调用，可能会导致一直等待。\n",
    "</div>"
   ]
  },
  {
   "cell_type": "code",
   "execution_count": 5,
   "id": "75b7b49a-2300-401e-9dec-16fe3dd969de",
   "metadata": {},
   "outputs": [
    {
     "name": "stdout",
     "output_type": "stream",
     "text": [
      "hello textlong\n",
      "Textlong|很|棒！|"
     ]
    }
   ],
   "source": [
    "for block in qlog:\n",
    "    if block.block_type in ['chunk']:\n",
    "        print(block.text, end=\"|\")\n",
    "    else:\n",
    "        print(block.text)"
   ]
  },
  {
   "cell_type": "markdown",
   "id": "9dfd7228-638d-448d-a58b-dae6fe342a42",
   "metadata": {},
   "source": [
    "## QueueLog"
   ]
  },
  {
   "cell_type": "markdown",
   "id": "e3f1cd0a-df3f-4593-a709-68551879729e",
   "metadata": {},
   "source": [
    "### achat"
   ]
  },
  {
   "cell_type": "code",
   "execution_count": 1,
   "id": "3d8936d0-d030-48d1-9ce3-d72b73ef2cb8",
   "metadata": {},
   "outputs": [],
   "source": [
    "from textlong.llm import fake_llm, zhipu, qwen\n",
    "from textlong.desk import Desk\n",
    "from textlong.io import QueueLog\n",
    "\n",
    "qlog = QueueLog()\n",
    "d = Desk(zhipu, logger=qlog)"
   ]
  },
  {
   "cell_type": "code",
   "execution_count": 2,
   "id": "e7fd90a8-96d6-4b32-8252-1aeebe2e8c7c",
   "metadata": {},
   "outputs": [
    {
     "data": {
      "text/plain": [
       "QueueLog(queue=<multiprocessing.queues.Queue object at 0x10e600400>)"
      ]
     },
     "execution_count": 2,
     "metadata": {},
     "output_type": "execute_result"
    }
   ],
   "source": [
    "d.logger"
   ]
  },
  {
   "cell_type": "code",
   "execution_count": 3,
   "id": "b6cdfbed-347d-4c4b-9aa0-75cf1a79491b",
   "metadata": {},
   "outputs": [
    {
     "name": "stdout",
     "output_type": "stream",
     "text": [
      "小|花朵|，|开|在|阳光|里|，\n",
      "小|蝴蝶|，|飞|舞|笑声|中|。|--end--\n"
     ]
    }
   ],
   "source": [
    "d.achat(\"给我写两行的儿歌\")\n",
    "\n",
    "for block in qlog:\n",
    "    if block:\n",
    "        if block.block_type in ['chunk']:\n",
    "            print(block.text, end=\"|\")\n",
    "        else:\n",
    "            print(block.text)"
   ]
  },
  {
   "cell_type": "markdown",
   "id": "7e509933-5537-4aed-9c5e-845ebc2a17e0",
   "metadata": {},
   "source": [
    "### 工具回调"
   ]
  },
  {
   "cell_type": "code",
   "execution_count": 4,
   "id": "c440ad7a-7e69-4ce4-910a-821e1375e434",
   "metadata": {},
   "outputs": [],
   "source": [
    "from textlong.llm.tools import tool, convert_to_openai_tool\n",
    "from textlong.llm import qwen\n",
    "from textlong.desk import Desk\n",
    "from textlong.io import QueueLog\n",
    "import json\n",
    "\n",
    "@tool\n",
    "def get_current_weather(location: str):\n",
    "    \"\"\"获取城市的天气情况\"\"\"\n",
    "    return f\"{location}今天是晴天。 \"\n",
    "\n",
    "qlog = QueueLog()\n",
    "messages = []\n",
    "d = Desk(\n",
    "    qwen,\n",
    "    toolkits=[get_current_weather],\n",
    "    tools=[convert_to_openai_tool(get_current_weather)],\n",
    "    logger=qlog\n",
    ")"
   ]
  },
  {
   "cell_type": "code",
   "execution_count": 5,
   "id": "6780c023-b38a-44d8-96ec-4843e1037c06",
   "metadata": {},
   "outputs": [
    {
     "name": "stdout",
     "output_type": "stream",
     "text": [
      "{\"index\": 0, \"id\": \"call_8b6dbfd5115d4b5394fc6f\", \"type\": \"function\", \"function\": {\"name\": \"get_current_weather\", \"arguments\": \"\"}}\n",
      "{\"index\": 0, \"id\": \"\", \"type\": \"function\", \"function\": {\"arguments\": \"{\\\"location\\\": \\\"\"}}\n",
      "{\"index\": 0, \"id\": \"\", \"type\": \"function\", \"function\": {\"arguments\": \"广州\\\"}\"}}\n",
      "{\"index\": 0, \"id\": \"\", \"type\": \"function\", \"function\": {}}\n",
      "{\"0\": {\"index\": 0, \"id\": \"call_8b6dbfd5115d4b5394fc6f\", \"type\": \"function\", \"function\": {\"name\": \"get_current_weather\", \"arguments\": \"{\\\"location\\\": \\\"广州\\\"}\"}}}\n",
      "广州今天是晴天。 \n",
      "太|阳公公笑眯|眯，广州天空晴万里。\n",
      "白云|飘飘映蓝幕，出门玩耍|好心情。|--end--|\n"
     ]
    }
   ],
   "source": [
    "d.achat(\"根据广州天气，给我写两行的儿歌\")\n",
    "\n",
    "for block in qlog:\n",
    "    if block:\n",
    "        if block.block_type in ['chunk']:\n",
    "            print(block.text, end=\"|\")\n",
    "        else:\n",
    "            print(block.text)"
   ]
  },
  {
   "cell_type": "markdown",
   "id": "bc1006ec-114d-458c-bba0-df2dd8449a2a",
   "metadata": {},
   "source": [
    "### 数据分析"
   ]
  },
  {
   "cell_type": "code",
   "execution_count": 1,
   "id": "fd196983-89c4-4bbc-a220-8bf2f97c3a4b",
   "metadata": {},
   "outputs": [
    {
     "name": "stdout",
     "output_type": "stream",
     "text": [
      "{\"index\": 0, \"id\": \"call_bb36eb080a20446fbd70f7\", \"type\": \"function\", \"function\": {\"name\": \"python_code\", \"arguments\": \"\"}}\n",
      "{\"index\": 0, \"id\": \"\", \"type\": \"function\", \"function\": {\"arguments\": \"{\\\"question\\\": \\\"谁\"}}\n",
      "{\"index\": 0, \"id\": \"\", \"type\": \"function\", \"function\": {\"arguments\": \"的语文成绩最好？\\\"}\"}}\n",
      "{\"index\": 0, \"id\": \"\", \"type\": \"function\", \"function\": {}}\n",
      "{\"index\": 0, \"id\": \"\", \"type\": \"function\", \"function\": {}}\n",
      "{\"0\": {\"index\": 0, \"id\": \"call_bb36eb080a20446fbd70f7\", \"type\": \"function\", \"function\": {\"name\": \"python_code\", \"arguments\": \"{\\\"question\\\": \\\"谁的语文成绩最好？\\\"}\"}}}\n",
      "```|python|\n",
      "|def main():\n",
      "    #| 加载考试成绩数据集\n",
      "   | exam_scores = data['考试成绩'].|df\n",
      "    \n",
      "    # 找出语文|成绩最好的学生\n",
      "    best_chinese|_student = exam_scores.loc[exam_scores|['语文'].idxmax()]['姓名|']\n",
      "    \n",
      "    return best_chinese_student|\n",
      "\n",
      "main()\n",
      "```||吴红兵\n",
      "语文|成绩最好的是吴红|兵。|--end--\n",
      "|"
     ]
    }
   ],
   "source": [
    "import pandas as pd\n",
    "\n",
    "from textlong.llm import qwen, fake_llm\n",
    "from textlong.desk import Desk\n",
    "from textlong.io import QueueLog\n",
    "\n",
    "qlog = QueueLog()\n",
    "d = Desk(qwen, logger=qlog)\n",
    "\n",
    "d.add_dataset(\n",
    "    \"考试成绩\",\n",
    "    pd.DataFrame({\n",
    "        \"姓名\": [\"薛一凡\", \"肖一笑\", \"赖国良\", \"吴红兵\"],\n",
    "        \"语文\": [90, 80, 105, 110],\n",
    "        \"数学\": [135, 110, 120, 90]\n",
    "    })\n",
    ")\n",
    "\n",
    "d.achat(\"请查询工具，看看谁的语文成绩最好？\")\n",
    "\n",
    "for block in qlog:\n",
    "    if block:\n",
    "        if block.block_type in ['chunk']:\n",
    "            print(block.text, end=\"|\")\n",
    "        else:\n",
    "            print(block.text)"
   ]
  },
  {
   "cell_type": "code",
   "execution_count": 4,
   "id": "c3969d2b-382d-47b5-baf4-532f2c619bb3",
   "metadata": {},
   "outputs": [
    {
     "name": "stdout",
     "output_type": "stream",
     "text": [
      "语文|成绩最好的学生是吴|红兵。||"
     ]
    }
   ],
   "source": [
    "for block in qlog:\n",
    "    if block.block_type in ['chunk']:\n",
    "        print(block.text, end=\"|\")\n",
    "    else:\n",
    "        print(block.text)"
   ]
  },
  {
   "cell_type": "markdown",
   "id": "9e3ca4d5-41f1-441a-8cee-f3fb44080111",
   "metadata": {},
   "source": [
    "## ZeroMQLog"
   ]
  },
  {
   "cell_type": "code",
   "execution_count": 1,
   "id": "6393a375-b83b-4cd2-97e3-218cccb6c0db",
   "metadata": {},
   "outputs": [],
   "source": [
    "from textlong.llm import fake_llm, zhipu, qwen\n",
    "from textlong.desk import Desk\n",
    "from textlong.io import ZeroMQLog\n",
    "\n",
    "zlog = ZeroMQLog()\n",
    "d = Desk(qwen, logger=zlog)"
   ]
  },
  {
   "cell_type": "code",
   "execution_count": 2,
   "id": "07ef4db1-a66f-49b1-9328-244a8e1f57d3",
   "metadata": {},
   "outputs": [
    {
     "name": "stdout",
     "output_type": "stream",
     "text": [
      "小|鸭|子|，嘎嘎叫，|\n",
      "摇摇摆摆水里漂。|||"
     ]
    }
   ],
   "source": [
    "d.achat(\"给我写两行的儿歌\")\n",
    "\n",
    "for block in zlog:\n",
    "    if block:\n",
    "        if block.block_type in ['chunk']:\n",
    "            print(block.text, end=\"|\")\n",
    "        else:\n",
    "            print(block.text)"
   ]
  },
  {
   "cell_type": "code",
   "execution_count": 5,
   "id": "2640a4fb-6cb7-43c7-be54-b1753cd9ead1",
   "metadata": {},
   "outputs": [
    {
     "data": {
      "text/plain": [
       "ZeroMQLog(socket=<zmq.Socket(zmq.PUSH) at 0x1164a10c0>)"
      ]
     },
     "execution_count": 5,
     "metadata": {},
     "output_type": "execute_result"
    }
   ],
   "source": [
    "zlog"
   ]
  },
  {
   "cell_type": "code",
   "execution_count": 6,
   "id": "b182b802-223a-4664-880a-b45c794b8793",
   "metadata": {},
   "outputs": [
    {
     "name": "stdout",
     "output_type": "stream",
     "text": [
      "{\"index\": 0, \"id\": \"call_b39a516a5cd44e7f8a5783\", \"type\": \"function\", \"function\": {\"name\": \"python_code\", \"arguments\": \"\"}}\n",
      "{\"index\": 0, \"id\": \"\", \"type\": \"function\", \"function\": {\"arguments\": \"{\\\"question\\\": \\\"谁\"}}\n",
      "{\"index\": 0, \"id\": \"\", \"type\": \"function\", \"function\": {\"arguments\": \"的语文成绩最好？\\\"}\"}}\n",
      "{\"index\": 0, \"id\": \"\", \"type\": \"function\", \"function\": {}}\n",
      "{\"index\": 0, \"id\": \"\", \"type\": \"function\", \"function\": {}}\n",
      "{\"0\": {\"index\": 0, \"id\": \"call_b39a516a5cd44e7f8a5783\", \"type\": \"function\", \"function\": {\"name\": \"python_code\", \"arguments\": \"{\\\"question\\\": \\\"谁的语文成绩最好？\\\"}\"}}}\n",
      "```|python|\n",
      "|def main():\n",
      "    #| 加载考试成绩数据集\n",
      "   | exam_scores = data[\"考试成绩\"].|df\n",
      "    \n",
      "    # 找出语文|成绩最好的学生\n",
      "    best_chinese|_student = exam_scores.loc[exam_scores|['语文'].idxmax()]['姓名|']\n",
      "    \n",
      "    return best_chinese_student|\n",
      "\n",
      "main()\n",
      "```||吴红兵\n",
      "语文|成绩最好的是吴红|兵。||"
     ]
    }
   ],
   "source": [
    "import pandas as pd\n",
    "\n",
    "from textlong.llm import qwen, fake_llm\n",
    "from textlong.desk import Desk\n",
    "from textlong.io import ZeroMQLog\n",
    "\n",
    "zlog = ZeroMQLog()\n",
    "d = Desk(qwen, logger=zlog)\n",
    "\n",
    "d.add_dataset(\n",
    "    \"考试成绩\",\n",
    "    pd.DataFrame({\n",
    "        \"姓名\": [\"薛一凡\", \"肖一笑\", \"赖国良\", \"吴红兵\"],\n",
    "        \"语文\": [90, 80, 105, 110],\n",
    "        \"数学\": [135, 110, 120, 90]\n",
    "    })\n",
    ")\n",
    "\n",
    "d.achat(\"请查询工具，看看谁的语文成绩最好？\")\n",
    "\n",
    "for block in zlog:\n",
    "    if block:\n",
    "        if block.block_type in ['chunk']:\n",
    "            print(block.text, end=\"|\")\n",
    "        else:\n",
    "            print(block.text)"
   ]
  },
  {
   "cell_type": "code",
   "execution_count": null,
   "id": "ff9e6a53-bf51-4bf1-b088-0e79ccdec642",
   "metadata": {},
   "outputs": [],
   "source": []
  }
 ],
 "metadata": {
  "kernelspec": {
   "display_name": "textlong-same-ipykernel",
   "language": "python",
   "name": "textlong-same-ipykernel"
  },
  "language_info": {
   "codemirror_mode": {
    "name": "ipython",
    "version": 3
   },
   "file_extension": ".py",
   "mimetype": "text/x-python",
   "name": "python",
   "nbconvert_exporter": "python",
   "pygments_lexer": "ipython3",
   "version": "3.10.0"
  }
 },
 "nbformat": 4,
 "nbformat_minor": 5
}
