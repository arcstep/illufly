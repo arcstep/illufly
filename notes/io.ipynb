{
    "cells": [
        {
            "cell_type": "markdown",
            "id": "03f105e6-4301-4d46-8e2d-9a7a9ac52d04",
            "metadata": {},
            "source": [
                "# IO"
            ]
        },
        {
            "cell_type": "markdown",
            "id": "e2525b20-2742-4bd4-bedd-4f6c2a1b128e",
            "metadata": {},
            "source": [
                "### 流式输出原理"
            ]
        },
        {
            "cell_type": "code",
            "execution_count": 1,
            "id": "35ddf687-8816-4743-9415-b89998f08577",
            "metadata": {},
            "outputs": [
                {
                    "name": "stdout",
                    "output_type": "stream",
                    "text": [
                        "T|e|x|t|l|o|n|g|很|棒|！|"
                    ]
                }
            ],
            "source": [
                "def hello():\n",
                "    return \"illufly很棒！\"\n",
                "\n",
                "for x in hello():\n",
                "    print(x, end=\"|\")"
            ]
        },
        {
            "cell_type": "code",
            "execution_count": 2,
            "id": "b1a04d2c-0c55-498c-acf4-2fcf5493fc29",
            "metadata": {},
            "outputs": [
                {
                    "name": "stdout",
                    "output_type": "stream",
                    "text": [
                        "illufly|很|棒！|"
                    ]
                }
            ],
            "source": [
                "def hello():\n",
                "    yield \"illufly\"\n",
                "    yield \"很\"\n",
                "    yield \"棒！\"\n",
                "\n",
                "for x in hello():\n",
                "    print(x, end=\"|\")"
            ]
        },
        {
            "cell_type": "code",
            "execution_count": 3,
            "id": "60f76a0c-dc30-410b-abab-8020faaa727f",
            "metadata": {},
            "outputs": [
                {
                    "name": "stdout",
                    "output_type": "stream",
                    "text": [
                        "OK: |illufly|很|棒!|"
                    ]
                }
            ],
            "source": [
                "def hello():\n",
                "    def _hello():\n",
                "        yield \"OK: \"\n",
                "        for info in ['illufly', '很', '棒!']:\n",
                "            yield info\n",
                "    return _hello()\n",
                "\n",
                "for x in hello():\n",
                "    print(x, end=\"|\")"
            ]
        },
        {
            "cell_type": "code",
            "execution_count": 4,
            "id": "656817eb-3ab4-4b52-83db-0cce370ef4d6",
            "metadata": {},
            "outputs": [
                {
                    "name": "stdout",
                    "output_type": "stream",
                    "text": [
                        "illufly|很|棒！|"
                    ]
                }
            ],
            "source": [
                "def _yield(x):\n",
                "    yield x\n",
                "\n",
                "def hello():\n",
                "    for x in _yield(\"illufly\"):\n",
                "        yield x\n",
                "    for x in _yield(\"很\"):\n",
                "        yield x\n",
                "    for x in _yield(\"棒！\"):\n",
                "        yield x\n",
                "\n",
                "for x in hello():\n",
                "    print(x, end=\"|\")"
            ]
        },
        {
            "cell_type": "markdown",
            "id": "693f5bad-f190-42f1-90ac-032fe1fcb672",
            "metadata": {},
            "source": [
                "## 流式日志打印"
            ]
        },
        {
            "cell_type": "code",
            "execution_count": 6,
            "id": "a86a8379-1adb-4150-9230-a59c954b5b6b",
            "metadata": {},
            "outputs": [],
            "source": [
                "from illufly.io import TextBlock, log, alog\n",
                "from illufly.llm.base import CallBase\n",
                "\n",
                "class Hello(CallBase):\n",
                "    def call(self):\n",
                "        yield TextBlock(\"info\", \"评论 >>\")\n",
                "        yield TextBlock(\"chunk\", \"illufly\")\n",
                "        yield TextBlock(\"chunk\", \"很\")\n",
                "        yield TextBlock(\"chunk\", \"棒！\")"
            ]
        },
        {
            "cell_type": "code",
            "execution_count": 9,
            "id": "3f007e15-c797-4e37-9771-f936882ed03c",
            "metadata": {},
            "outputs": [
                {
                    "name": "stdout",
                    "output_type": "stream",
                    "text": [
                        "[INFO] \u001b[34m评论 >>\u001b[0m\n",
                        "\u001b[32millufly\u001b[0m\u001b[32m很\u001b[0m\u001b[32m棒！\u001b[0m\n",
                        "\n"
                    ]
                },
                {
                    "data": {
                        "text/plain": [
                            "'illufly很棒！'"
                        ]
                    },
                    "execution_count": 9,
                    "metadata": {},
                    "output_type": "execute_result"
                }
            ],
            "source": [
                "log(Hello())"
            ]
        },
        {
            "cell_type": "code",
            "execution_count": 10,
            "id": "ff9e6a53-bf51-4bf1-b088-0e79ccdec642",
            "metadata": {},
            "outputs": [
                {
                    "name": "stdout",
                    "output_type": "stream",
                    "text": [
                        "[INFO] \u001b[34m评论 >>\u001b[0m\n",
                        "\u001b[32millufly\u001b[0m\u001b[32m很\u001b[0m\u001b[32m棒！\u001b[0m\n",
                        "\n"
                    ]
                },
                {
                    "data": {
                        "text/plain": [
                            "'illufly很棒！'"
                        ]
                    },
                    "execution_count": 10,
                    "metadata": {},
                    "output_type": "execute_result"
                }
            ],
            "source": [
                "await alog(Hello())"
            ]
        },
        {
            "cell_type": "code",
            "execution_count": null,
            "id": "3227cca5-f5ba-4c2f-91b0-0e9614d3109c",
            "metadata": {},
            "outputs": [],
            "source": []
        }
    ],
    "metadata": {
        "kernelspec": {
            "display_name": "illufly-same-ipykernel",
            "language": "python",
            "name": "illufly-same-ipykernel"
        },
        "language_info": {
            "codemirror_mode": {
                "name": "ipython",
                "version": 3
            },
            "file_extension": ".py",
            "mimetype": "text/x-python",
            "name": "python",
            "nbconvert_exporter": "python",
            "pygments_lexer": "ipython3",
            "version": "3.10.0"
        }
    },
    "nbformat": 4,
    "nbformat_minor": 5
}