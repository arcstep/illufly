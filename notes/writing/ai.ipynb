{
 "cells": [
  {
   "cell_type": "code",
   "execution_count": 1,
   "id": "815b354d-9a01-46a5-891c-a1935b983f57",
   "metadata": {},
   "outputs": [],
   "source": [
    "import os\n",
    "from dotenv import load_dotenv, find_dotenv\n",
    "load_dotenv(find_dotenv(), override=True)\n",
    "\n",
    "os.chdir('..')"
   ]
  },
  {
   "cell_type": "code",
   "execution_count": 2,
   "id": "827fc00b-49a5-4351-856e-b82813342e6b",
   "metadata": {},
   "outputs": [],
   "source": [
    "from langchain_chinese import BaseAI, MemoryManager"
   ]
  },
  {
   "cell_type": "code",
   "execution_count": 3,
   "id": "8a5ccdcc-d31c-4979-85da-c3df976f98b5",
   "metadata": {},
   "outputs": [],
   "source": [
    "ai = BaseAI(MemoryManager())"
   ]
  },
  {
   "cell_type": "markdown",
   "id": "5be86520-338f-41c7-8ea1-e59e4e8afda5",
   "metadata": {},
   "source": [
    "## Prompt"
   ]
  },
  {
   "cell_type": "code",
   "execution_count": 4,
   "id": "d258fb5a-d451-4f2d-b6ea-480fc047a797",
   "metadata": {},
   "outputs": [
    {
     "name": "stdout",
     "output_type": "stream",
     "text": [
      "System: \n",
      "你是一名优秀的写手，负责提供写作咨询。\n",
      "AI: OK\n",
      "Human: 请帮我写一首歌\n"
     ]
    }
   ],
   "source": [
    "print(ai.prompt_default().format(history=[], task=\"请帮我写一首歌\"))"
   ]
  },
  {
   "cell_type": "code",
   "execution_count": 5,
   "id": "97ceaf18-0fb0-4fa9-ad38-ed80390d2ee6",
   "metadata": {},
   "outputs": [
    {
     "name": "stdout",
     "output_type": "stream",
     "text": [
      "System: \n",
      "你是一名优秀的写手，任务是对写作任务做评估，给出总体写作建议。\n",
      "请务必记住：1. 你只能输出一个JSON段落，否则我将无法正确解析。2. 你必须严格遵循我提出的JSON键值规则，不要额外发挥，否则我将无法正确解析。3. 如果你的创作中出现实体名称、创作设定等，就将其单独提炼到扩写指南或内容摘要；这样做非常必要，可以让独立的创作子任务保持一致的背景设定。\n",
      "请严格按如下格式输出JSON:\n",
      "（请确保输出符合JSON语法限定，并且不要出现其他的JSON键，以便我能够正确解析）\n",
      "```json\n",
      "{\n",
      "    \"总字数要求\": [int类型]预计的总体字数要求，默认为1000字,\n",
      "    \"标题名称\": [str类型]根据写作任务，给出用户要求或你推荐的标题名称，不要带编号,\n",
      "    \"扩写指南\": [str类型]应当尽量包含写作任务中提及的写作要求，也可以包含你的创作建议中所涉及的人物、地点、情节等实体名称和背景设定\n",
      "}\n",
      "```\n",
      "\n",
      "始终使用中文，且不要输出JSON以外的内容，不要道歉，不要啰嗦。\n",
      "AI: OK\n",
      "Human: 请帮我写一首歌\n"
     ]
    }
   ],
   "source": [
    "print(ai.prompt_init().format(history=[], task=\"请帮我写一首歌\"))"
   ]
  },
  {
   "cell_type": "code",
   "execution_count": 6,
   "id": "7de2c3c1-3cbc-4a6b-918f-37e03c7d041e",
   "metadata": {},
   "outputs": [
    {
     "name": "stdout",
     "output_type": "stream",
     "text": [
      "System: \n",
      "你是一名优秀的写手，负责详细构思段落细节。\n",
      "请务必记住：1. 你只能输出一个JSON段落，否则我将无法正确解析。2. 你必须严格遵循我提出的JSON键值规则，不要额外发挥，否则我将无法正确解析。3. 如果你的创作中出现实体名称、创作设定等，就将其单独提炼到扩写指南或内容摘要；这样做非常必要，可以让独立的创作子任务保持一致的背景设定。\n",
      "请严格按如下格式输出JSON:\n",
      "（请确保输出符合JSON语法限定，并且不要出现其他的JSON键，以便我能够正确解析）\n",
      "```json\n",
      "{\n",
      "    \"详细内容\": [str类型]你的详细输出,\n",
      "    \"内容摘要\": [str类型]详细内容提要，可以包括涉及的人物、地点、情节等实体名称和背景设定\n",
      "}\n",
      "```\n",
      "\n",
      "始终使用中文，且不要输出JSON以外的内容，不要道歉，不要啰嗦。\n",
      "AI: 有什么具体要求？\n",
      "Human: \n",
      "你现在的任务是编写《一首关于格子的儿歌》，字数大约为500字。\n",
      "扩写依据为：使用10岁小朋友的语言，儿歌中包括天空、公园、树、花、鸟等元素\n",
      "注意，你所写的内容是下面总提纲的一部份：\n",
      "<<我是已有的提纲>>\n",
      "AI: OK\n",
      "Human: 请帮我写一首歌\n"
     ]
    }
   ],
   "source": [
    "print(ai.prompt_todo(\n",
    "    title=\"一首关于格子的儿歌\",\n",
    "    howto=\"使用10岁小朋友的语言，儿歌中包括天空、公园、树、花、鸟等元素\",\n",
    "    outline_exist=\"<<我是已有的提纲>>\"\n",
    ").format(history=[], task=\"请帮我写一首歌\"))"
   ]
  },
  {
   "cell_type": "code",
   "execution_count": 7,
   "id": "26855707-8928-4c0f-acd0-7a6230bec64e",
   "metadata": {},
   "outputs": [
    {
     "name": "stdout",
     "output_type": "stream",
     "text": [
      "System: \n",
      "你是一名优秀的写手，可以构思写作思路、扩展写作提纲。\n",
      "请务必记住：1. 你只能输出一个JSON段落，否则我将无法正确解析。2. 你必须严格遵循我提出的JSON键值规则，不要额外发挥，否则我将无法正确解析。3. 如果你的创作中出现实体名称、创作设定等，就将其单独提炼到扩写指南或内容摘要；这样做非常必要，可以让独立的创作子任务保持一致的背景设定。\n",
      "请严格按如下格式输出JSON:\n",
      "（请确保大纲列表中至少两个子项；确保输出符合JSON语法限定，并且不要出现其他的JSON键，以便我能够正确解析）\n",
      "```json\n",
      "{\n",
      "    \"大纲列表\": [\n",
      "        {\n",
      "            \"总字数要求\": [int类型]段落的字数要求,\n",
      "            \"标题名称\": [str类型]不带编号的标题名称,\n",
      "            \"扩写指南\": [str类型]可以包含涉及的人物、地点、情节等实体名称和背景设定\n",
      "        },\n",
      "        ...,\n",
      "        {\n",
      "            \"总字数要求\": [int类型]段落的字数要求,\n",
      "            \"标题名称\": [str类型]不带编号的标题名称,\n",
      "            \"扩写指南\": [str类型]可以包含涉及的人物、地点、情节等实体名称和背景设定\n",
      "        }\n",
      "    ]\n",
      "}\n",
      "```\n",
      "\n",
      "始终使用中文，且不要输出JSON以外的内容，不要道歉，不要啰嗦。\n",
      "AI: 有什么具体要求？\n",
      "Human: \n",
      "你现在的任务是编写《一首关于格子的儿歌》，字数大约为500字。\n",
      "扩写依据为：使用10岁小朋友的语言，儿歌中包括天空、公园、树、花、鸟等元素\n",
      "注意，你所写的内容是下面总提纲的一部份：\n",
      "<<我是已有的提纲>>\n",
      "AI: OK\n",
      "Human: 请帮我写一首歌\n"
     ]
    }
   ],
   "source": [
    "print(ai.prompt_todo(\n",
    "    title=\"一首关于格子的儿歌\",\n",
    "    content_type=\"outline\",\n",
    "    howto=\"使用10岁小朋友的语言，儿歌中包括天空、公园、树、花、鸟等元素\",\n",
    "    outline_exist=\"<<我是已有的提纲>>\"\n",
    ").format(history=[], task=\"请帮我写一首歌\"))"
   ]
  },
  {
   "cell_type": "markdown",
   "id": "8f2ce95f-bb97-4105-b842-cb5cf78f29d7",
   "metadata": {},
   "source": [
    "## AskAI"
   ]
  },
  {
   "cell_type": "code",
   "execution_count": 8,
   "id": "e83fb86d-d0f3-475f-834c-5791c8f79ba3",
   "metadata": {},
   "outputs": [],
   "source": [
    "ai = BaseAI()\n",
    "chain = ai.get_chain()"
   ]
  },
  {
   "cell_type": "code",
   "execution_count": 13,
   "id": "4e5e3c41-e795-4d0d-9401-ec25a648489a",
   "metadata": {},
   "outputs": [
    {
     "data": {
      "text/plain": [
       "AIMessage(content='山川远阔，心潮澎湃，\\n笔尖流转，诗意盈怀。\\n二十字间，捕捉永恒，\\n岁月无声，文字为媒。 \\n\\n示例诗歌：\\n山川藏秀色，笔墨写千秋。\\n心潮随云涌，诗意共风流。', response_metadata={'id': '8662167970578387568', 'created': 1715866146, 'token_usage': {'completion_tokens': 57, 'prompt_tokens': 27, 'total_tokens': 84}, 'model_name': 'glm-4', 'finish_reason': 'stop'}, id='run-1b8f7a77-8053-4a08-a28d-2794ac7f0872-0')"
      ]
     },
     "execution_count": 13,
     "metadata": {},
     "output_type": "execute_result"
    }
   ],
   "source": [
    "chain.invoke({\"history\":[], \"task\":\"给我写一首20个字的诗歌\"})"
   ]
  },
  {
   "cell_type": "code",
   "execution_count": 9,
   "id": "e289fd1d-6acd-46ba-bc42-ebcbc0f31a5c",
   "metadata": {},
   "outputs": [
    {
     "name": "stdout",
     "output_type": "stream",
     "text": [
      "山川远阔，心之所向；\n",
      "文字浅淡，意犹未尽。\n"
     ]
    },
    {
     "data": {
      "text/plain": [
       "'山川远阔，心之所向；\\n文字浅淡，意犹未尽。'"
      ]
     },
     "execution_count": 9,
     "metadata": {},
     "output_type": "execute_result"
    }
   ],
   "source": [
    "ai.ask_ai(\"给我写一首20个字的诗歌\", return_json=False)"
   ]
  },
  {
   "cell_type": "code",
   "execution_count": 10,
   "id": "f75d0943-1074-49cf-990f-638ae142cb8c",
   "metadata": {},
   "outputs": [
    {
     "name": "stdout",
     "output_type": "stream",
     "text": [
      "```\n",
      "{\n",
      "  \"总字数要求\": 20,\n",
      "  \"标题名称\": \"残月\",\n",
      "  \"扩写指南\": \"描绘夜晚残月的美景，以及与之相关的淡淡忧愁。\"\n",
      "}\n",
      "```\n",
      "要求输出JSON ...\n"
     ]
    },
    {
     "data": {
      "text/plain": [
       "{'总字数要求': 20, '标题名称': '残月', '扩写指南': '描绘夜晚残月的美景，以及与之相关的淡淡忧愁。'}"
      ]
     },
     "execution_count": 10,
     "metadata": {},
     "output_type": "execute_result"
    }
   ],
   "source": [
    "prompt = ai.prompt_init()\n",
    "chain = ai.get_chain(prompt)\n",
    "ai.ask_ai(\"给我写一首20个字的诗歌\", chain)"
   ]
  },
  {
   "cell_type": "code",
   "execution_count": 11,
   "id": "16ec7a74-ef00-47fe-b2d8-a62274406f52",
   "metadata": {},
   "outputs": [
    {
     "data": {
      "text/plain": [
       "[HumanMessage(content='给我写一首20个字的诗歌'),\n",
       " AIMessage(content='山川远阔，心之所向；\\n文字浅淡，意犹未尽。'),\n",
       " HumanMessage(content='给我写一首20个字的诗歌'),\n",
       " AIMessage(content='```\\n{\\n  \"总字数要求\": 20,\\n  \"标题名称\": \"残月\",\\n  \"扩写指南\": \"描绘夜晚残月的美景，以及与之相关的淡淡忧愁。\"\\n}\\n```')]"
      ]
     },
     "execution_count": 11,
     "metadata": {},
     "output_type": "execute_result"
    }
   ],
   "source": [
    "ai.memory.buffer"
   ]
  },
  {
   "cell_type": "code",
   "execution_count": null,
   "id": "d6249dcc-4df9-49b9-8595-595a335df4c7",
   "metadata": {},
   "outputs": [],
   "source": []
  }
 ],
 "metadata": {
  "kernelspec": {
   "display_name": "langchani-book-py3.10-ipykernel",
   "language": "python",
   "name": "langchani-book-py3.10-ipykernel"
  },
  "language_info": {
   "codemirror_mode": {
    "name": "ipython",
    "version": 3
   },
   "file_extension": ".py",
   "mimetype": "text/x-python",
   "name": "python",
   "nbconvert_exporter": "python",
   "pygments_lexer": "ipython3",
   "version": "3.10.0"
  }
 },
 "nbformat": 4,
 "nbformat_minor": 5
}
