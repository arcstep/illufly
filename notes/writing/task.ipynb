{
 "cells": [
  {
   "cell_type": "code",
   "execution_count": 1,
   "id": "f3045be3-ca71-46ba-8fa3-f6d999a63a5c",
   "metadata": {},
   "outputs": [],
   "source": [
    "import os\n",
    "from dotenv import load_dotenv, find_dotenv\n",
    "load_dotenv(find_dotenv(), override=True)\n",
    "\n",
    "os.chdir('..')"
   ]
  },
  {
   "cell_type": "code",
   "execution_count": null,
   "id": "1713b2a7-ccb1-4dd2-8a1b-f3de36e72486",
   "metadata": {},
   "outputs": [],
   "source": [
    "# os.environ.get(\"ZHIPUAI_API_KEY\")"
   ]
  },
  {
   "cell_type": "markdown",
   "id": "9da2cb31-72ac-47a7-aced-a612810a21d1",
   "metadata": {},
   "source": [
    "# 设计和使用"
   ]
  },
  {
   "cell_type": "markdown",
   "id": "442ae015-37e7-4488-8a79-d89e0e482e84",
   "metadata": {},
   "source": [
    "## 命令清单"
   ]
  },
  {
   "cell_type": "markdown",
   "id": "d1f268dd-109b-46a1-b19a-7519d2bb200f",
   "metadata": {},
   "source": [
    "命令清单：\n",
    "```python\n",
    "_INVLIAD_COMMANDS = [\n",
    "    \"quit\",       # 退出\n",
    "    \"text\",       # 某ID下的文字成果，默认ROOT\n",
    "    \"all\",        # 所有任务\n",
    "    \"todos\",      # 所有待办\n",
    "    \"todo\",       # 某ID待办，默认当前ID\n",
    "    \"ok\",         # 确认INIT任务，或某ID提纲或段落，然后自动进入下一待办任务\n",
    "    \"children\",   # 查看某ID提纲\n",
    "    \"words\",      # 查看后修改某ID字数\n",
    "    \"title\",      # 查看后修改某ID标题\n",
    "    \"howto\",      # 查看后修改某ID扩写指南\n",
    "    \"summarise\",  # 查看后修改某ID段落摘要\n",
    "    \"reload\",     # 重新加载模型\n",
    "    \"memory\",     # 某ID对话记忆，默认当前ID\n",
    "    \"store\",      # 某ID对话历史，默认当前ID\n",
    "    \"ask\",        # 向AI提问\n",
    "]\n",
    "```"
   ]
  },
  {
   "cell_type": "markdown",
   "id": "32f65c33-073c-408a-bee1-cad4c24354e6",
   "metadata": {},
   "source": [
    "## 概念"
   ]
  },
  {
   "cell_type": "markdown",
   "id": "a5c815ee-f0a6-42cd-aa20-8062fc6d3c29",
   "metadata": {},
   "source": [
    "**关键概念**\n",
    "- [x] focus概念：`START`, `<ID>`, `END`\n",
    "- [x] 任务查看：所有，待办列表\n",
    "- [x] 提示语变量中包含历史对话，默认支持20轮次\n",
    "- [x] 每个节点有独立的对话历史\n",
    "- [x] 内容ID：在同一个对象中全局自增\n",
    "- [x] auto_mode: `all`全自动生成, `askme`每一步询问\n",
    "- [x] run 的 task 参数\n",
    "- [x] run 的 max_step参数\n",
    "- [ ] 创作工程的状态机\n",
    "\n",
    "**模型**\n",
    "- [x] 支持自动识别 ZHIPUAI_API_KEY 和 OPENAI_API_KEY，并自动加载包和构造LLM对象\n",
    "- [x] 也支持手动创建LLM对象\n",
    "\n",
    "**高级模板管理**\n",
    "- [ ] 提示语中的提纲信息：\n",
    "  - 【模式1】 全路径选标题、扩写指南和内容摘要？\n",
    "  - 【模式2】 祖先节点选标题，兄弟节点选标题、扩写指南和内容摘要，最近节点选文字详情？\n",
    "- [ ] 提示语模板：任务提示、模板构成、扩写指南\n",
    "- [ ] 提纲模板：从生成内容导出\n",
    "- [ ] 提纲解析：从文件内容的层次结构中提取提纲结构，生成格式化提纲（包含标题、扩写指南等要素）\n",
    "\n",
    "**导出**\n",
    "- [ ] 文字合并：如何对待提纲中的标题，作为段落合并还是作为章节？\n",
    "\n",
    "**关于修改：**\n",
    "- [ ] 重新生成提纲列表：若要重新生成提纲列表，必须手工清楚所有子项，否则禁止使用todo指令或对其修改\n",
    "- [ ] todo指令使用限制：仅针对子项尚未完成的对象（如刚刚完成的，或其他兄弟节点）\n",
    "- [ ] 修改提纲子项属性：需要单独使用title、words、howto等指令修改\n"
   ]
  },
  {
   "cell_type": "markdown",
   "id": "5da4a8f2-977b-4ebd-8102-60c768d19df4",
   "metadata": {},
   "source": [
    "## Bug"
   ]
  },
  {
   "cell_type": "markdown",
   "id": "4d6a3d17-456d-475b-a6ef-03f595537c9d",
   "metadata": {},
   "source": [
    "Bug清单：\n",
    "- [x] START 记忆确实存在，但无法通过 START@memory 正确提取\n",
    "- [x] ask 指令无法在当前节点重新生成\n",
    "- [x] todos清单增加一个标记为当前任务的状态：`[当前任务]`, `* <未完成>`, `<已完成>`\n",
    "- [x] is_completed 无法修改\n"
   ]
  },
  {
   "cell_type": "markdown",
   "id": "c9235cf3-0b5d-4682-9e0f-f1e395d03ee7",
   "metadata": {},
   "source": [
    "# WritingProject"
   ]
  },
  {
   "cell_type": "markdown",
   "id": "1a559bde-0913-4601-9033-fdba9c265979",
   "metadata": {},
   "source": [
    "## 每一步都询问：使用默认的智谱AI"
   ]
  },
  {
   "cell_type": "code",
   "execution_count": 2,
   "id": "ae344e34-dd8c-4e14-bbff-916c8c575893",
   "metadata": {},
   "outputs": [],
   "source": [
    "from langchain_chinese import WritingTask\n",
    "\n",
    "# 使用默认的智谱AI推理\n",
    "wp = WritingTask(task_mode=\"askme\")"
   ]
  },
  {
   "cell_type": "code",
   "execution_count": 3,
   "id": "92043152-3a8b-45dc-8870-bcb72193c822",
   "metadata": {},
   "outputs": [
    {
     "name": "stdout",
     "output_type": "stream",
     "text": [
      "[START]\n",
      "Retry for HTTP Error ...\n",
      "```json\n",
      "{\n",
      "    \"总字数要求\": 800,\n",
      "    \"标题名称\": \"致孩子的一封信：成长的寄语\",\n",
      "    \"扩写指南\": \"本文是一封父母给孩子写的信，信中要表达对孩子的关爱、期望以及对其成长的鼓励和指导。信中可以提及孩子的兴趣、梦想以及父母的一些人生经验分享。建议在信中包含以下内容：对孩子的称呼；表达对孩子的思念和关心；对孩子的成长变化表示欣喜；分享一些重要的人生价值观；鼓励孩子面对困难勇敢向前；表达对孩子未来的美好祝愿。\"\n",
      "}\n",
      "```\n"
     ]
    }
   ],
   "source": [
    "wp.run(\"致孩子的一封信, 800字\", max_steps=1)"
   ]
  },
  {
   "cell_type": "code",
   "execution_count": 4,
   "id": "fec7394a-54c7-42d1-89ff-9a6f5edc292a",
   "metadata": {},
   "outputs": [
    {
     "name": "stdout",
     "output_type": "stream",
     "text": [
      "[START]\n"
     ]
    },
    {
     "name": "stdin",
     "output_type": "stream",
     "text": [
      "\n",
      "👤:  ok\n"
     ]
    },
    {
     "name": "stdout",
     "output_type": "stream",
     "text": [
      "-------------------- TODOs --------------------\n",
      "* [0] 约800字 | 《致孩子的一封信：成长的寄语》\n",
      "```json\n",
      "{\n",
      "    \"大纲列表\": [\n",
      "        {\n",
      "            \"总字数要求\": 300,\n",
      "            \"标题名称\": \"温暖的关怀与思念\",\n",
      "            \"扩写指南\": \"以亲切的称呼开头，描述对孩子的思念和关心，提及日常生活中的点滴细节，表达对孩子的深情。\"\n",
      "        },\n",
      "        {\n",
      "            \"总字数要求\": 200,\n",
      "            \"标题名称\": \"成长的喜悦与肯定\",\n",
      "            \"扩写指南\": \"谈论孩子成长中的变化，强调对其进步的欣喜和对其个性的认可，鼓励孩子保持自我。\"\n",
      "        },\n",
      "        {\n",
      "            \"总字数要求\": 200,\n",
      "            \"标题名称\": \"人生经验与价值观\",\n",
      "            \"扩写指南\": \"分享父母的人生经验，强调诚实、勇敢、善良等价值观的重要性，并指导孩子如何在日常生活中实践。\"\n",
      "        },\n",
      "        {\n",
      "            \"总字数要求\": 100,\n",
      "            \"标题名称\": \"勇敢面对困难\",\n",
      "            \"扩写指南\": \"鼓励孩子面对挑战时保持积极态度，告诉他们困难是成长的必经之路，父母永远是他们坚强的后盾。\"\n",
      "        },\n",
      "        {\n",
      "            \"总字数要求\": 100,\n",
      "            \"标题名称\": \"未来的祝愿与期待\",\n",
      "            \"扩写指南\": \"表达对孩子未来的美好祝愿，展望其成就和幸福，并以父母永恒的爱和支持作为结尾。\"\n",
      "        }\n",
      "    ]\n",
      "}\n",
      "```\n"
     ]
    },
    {
     "name": "stdin",
     "output_type": "stream",
     "text": [
      "\n",
      "👤:  分为3部份即可\n"
     ]
    },
    {
     "name": "stdout",
     "output_type": "stream",
     "text": [
      "```json\n",
      "{\n",
      "    \"大纲列表\": [\n",
      "        {\n",
      "            \"总字数要求\": 350,\n",
      "            \"标题名称\": \"深情的关怀与思念\",\n",
      "            \"扩写指南\": \"以亲昵的称呼开始，表达对孩子的思念和关心，描述日常生活中的温馨时刻，传递家庭的温暖和爱。\"\n",
      "        },\n",
      "        {\n",
      "            \"总字数要求\": 300,\n",
      "            \"标题名称\": \"成长的见证与寄语\",\n",
      "            \"扩写指南\": \"分享孩子成长的喜悦和变化，肯定其独特性和成就，给出关于诚实、勇敢等价值观的指导，鼓励孩子追求梦想。\"\n",
      "        },\n",
      "        {\n",
      "            \"总字数要求\": 150,\n",
      "            \"标题名称\": \"未来的期望与祝福\",\n",
      "            \"扩写指南\": \"表达对孩子未来的美好祝愿，鼓励其面对困难勇敢向前，并承诺父母永远的支持和爱。\"\n",
      "        }\n",
      "    ]\n",
      "}\n",
      "```\n"
     ]
    },
    {
     "name": "stdin",
     "output_type": "stream",
     "text": [
      "\n",
      "👤:  all\n"
     ]
    },
    {
     "name": "stdout",
     "output_type": "stream",
     "text": [
      "-------------------- All --------------------\n",
      "* [0] 800字以内 | 《致孩子的一封信：成长的寄语》\n"
     ]
    },
    {
     "name": "stdin",
     "output_type": "stream",
     "text": [
      "\n",
      "👤:  ok\n"
     ]
    },
    {
     "name": "stdout",
     "output_type": "stream",
     "text": [
      "-------------------- TODOs --------------------\n",
      "* [1] 约350字 | 《深情的关怀与思念》\n",
      "* <2> 约300字 | 《成长的见证与寄语》\n",
      "* <3> 约150字 | 《未来的期望与祝福》\n",
      "```json\n",
      "{\n",
      "    \"详细内容\": \"亲爱的宝贝，每一次你离开我的视线，妈妈的心就像被抽走了一块，无尽的思念在空气中弥漫。你知道么，每当我看到你房间里的玩具，厨房里你最爱吃的饼干，我就能想象出你那天真烂漫的笑容。生活中的每一个小细节，都让我感受到你带给这个家的温暖和快乐。记得你上次帮忙收拾餐桌时，那认真的模样，让我心头一暖；还有你睡前总是要听的那个故事，成了我们之间最温馨的仪式。这些平凡的瞬间，汇聚成我对你的深深关怀，愿这份爱意能陪伴你，无论走到哪里。\",\n",
      "    \"内容摘要\": \"本段内容主要表达母亲对孩子的深情思念和关心，提及日常生活中的温馨时刻，如孩子帮忙做家务、睡前听故事等，传递家庭的温暖和爱。\"\n",
      "}\n",
      "```\n"
     ]
    },
    {
     "name": "stdin",
     "output_type": "stream",
     "text": [
      "\n",
      "👤:  all\n"
     ]
    },
    {
     "name": "stdout",
     "output_type": "stream",
     "text": [
      "-------------------- All --------------------\n",
      "  <0> 800字以内 | 《致孩子的一封信：成长的寄语》\n",
      "* [1] 350字以内 | 《深情的关怀与思念》\n",
      "* <2> 300字以内 | 《成长的见证与寄语》\n",
      "* <3> 150字以内 | 《未来的期望与祝福》\n"
     ]
    },
    {
     "name": "stdin",
     "output_type": "stream",
     "text": [
      "\n",
      "👤:  0@todo\n"
     ]
    },
    {
     "name": "stdout",
     "output_type": "stream",
     "text": [
      "<0> is_completed False\n",
      "[0]\n"
     ]
    },
    {
     "name": "stdin",
     "output_type": "stream",
     "text": [
      "\n",
      "👤:  ok\n"
     ]
    },
    {
     "name": "stdout",
     "output_type": "stream",
     "text": [
      "-------------------- TODOs --------------------\n",
      "* [4] 约350字 | 《深情的关怀与思念》\n",
      "* <5> 约300字 | 《成长的见证与寄语》\n",
      "* <6> 约150字 | 《未来的期望与祝福》\n",
      "```json\n",
      "{\n",
      "    \"详细内容\": \"亲爱的宝贝，每当夜幕降临，星星点点，妈妈的心就开始飞向了你。想象你那稚嫩的笑容，温暖的怀抱成了我最深的思念。记得你每天早晨醒来，揉着眼睛找妈妈的那份依赖，还有你吃饭时那认真劲儿，总能让我心头涌起一股暖流。家里的每个角落都充满了你的欢声笑语，那是我们共同的温馨记忆，是无论何时何地，都能传递给你的一份家庭之爱。\",\n",
      "    \"内容摘要\": \"本段落以亲昵的称呼开始，表达了母亲对孩子的思念和关心，同时描述了日常生活中的温馨时刻，如孩子早晨找妈妈、吃饭的场景，传递了家庭的温暖和爱。\"\n",
      "}\n",
      "```\n"
     ]
    },
    {
     "name": "stdin",
     "output_type": "stream",
     "text": [
      "\n",
      "👤:  all\n"
     ]
    },
    {
     "name": "stdout",
     "output_type": "stream",
     "text": [
      "-------------------- All --------------------\n",
      "  <0> 800字以内 | 《致孩子的一封信：成长的寄语》\n",
      "* [4] 350字以内 | 《深情的关怀与思念》\n",
      "* <5> 300字以内 | 《成长的见证与寄语》\n",
      "* <6> 150字以内 | 《未来的期望与祝福》\n"
     ]
    },
    {
     "name": "stdin",
     "output_type": "stream",
     "text": [
      "\n",
      "👤:  0@todo\n"
     ]
    },
    {
     "name": "stdout",
     "output_type": "stream",
     "text": [
      "<0> is_completed False\n",
      "[0]\n"
     ]
    },
    {
     "name": "stdin",
     "output_type": "stream",
     "text": [
      "\n",
      "👤:  all\n"
     ]
    },
    {
     "name": "stdout",
     "output_type": "stream",
     "text": [
      "-------------------- All --------------------\n",
      "* [0] 800字以内 | 《致孩子的一封信：成长的寄语》\n",
      "* <4> 350字以内 | 《深情的关怀与思念》\n",
      "* <5> 300字以内 | 《成长的见证与寄语》\n",
      "* <6> 150字以内 | 《未来的期望与祝福》\n"
     ]
    },
    {
     "name": "stdin",
     "output_type": "stream",
     "text": [
      "\n",
      "👤:  quit\n"
     ]
    }
   ],
   "source": [
    "wp.run(max_steps=100)"
   ]
  },
  {
   "cell_type": "code",
   "execution_count": null,
   "id": "f1835e48-f73d-43d0-9361-70b4d49c4743",
   "metadata": {},
   "outputs": [],
   "source": [
    "wp.run(\"memory\")"
   ]
  },
  {
   "cell_type": "code",
   "execution_count": null,
   "id": "f83a0e50-2353-46ab-b9eb-f5878955ce04",
   "metadata": {},
   "outputs": [],
   "source": [
    "wp.run()"
   ]
  },
  {
   "cell_type": "code",
   "execution_count": null,
   "id": "630bc809-b4f2-42f4-857d-6c72bdc62d10",
   "metadata": {
    "scrolled": true
   },
   "outputs": [],
   "source": [
    "wp.run(\"ok\", max_steps=1)"
   ]
  },
  {
   "cell_type": "code",
   "execution_count": null,
   "id": "667053fb-1575-4cfc-85fd-fb2d6039905d",
   "metadata": {},
   "outputs": [],
   "source": [
    "wp.run()"
   ]
  },
  {
   "cell_type": "code",
   "execution_count": null,
   "id": "49c52b51-1562-4fc2-b45c-31beec8d52ba",
   "metadata": {},
   "outputs": [],
   "source": [
    "wp.get_memory(\"START\")"
   ]
  },
  {
   "cell_type": "code",
   "execution_count": null,
   "id": "237390b4-46f4-45ed-927b-1dca0d117fa5",
   "metadata": {},
   "outputs": [],
   "source": [
    "wp.get_memory(0)"
   ]
  },
  {
   "cell_type": "code",
   "execution_count": null,
   "id": "5476e0a9-1ba3-47a9-932b-849382d46c60",
   "metadata": {},
   "outputs": [],
   "source": [
    "wp.print_all()"
   ]
  },
  {
   "cell_type": "markdown",
   "id": "24c84c55-031d-49dc-8e64-d04c56723f59",
   "metadata": {},
   "source": [
    "## 全自动生成：使用默认的智谱AI"
   ]
  },
  {
   "cell_type": "code",
   "execution_count": null,
   "id": "d91d7c06-3bf4-4106-9ac8-579f97901337",
   "metadata": {},
   "outputs": [],
   "source": [
    "from langchain_chinese import WritingTask\n",
    "\n",
    "# 使用默认的智谱AI推理\n",
    "# 你需要准备好智谱AI的APIKEY\n",
    "wp = WritingTask(auto_mode=\"all\")\n",
    "wp.run(\"我今天扒了二牛的裤子，然后他一整天都不理我，帮我写一封1000字道歉信，我希望和他继续做好朋友，每段不要少于500字哦\")"
   ]
  },
  {
   "cell_type": "code",
   "execution_count": null,
   "id": "562b0dcd-a3a8-4f07-8bf3-2ef0e824aa4b",
   "metadata": {},
   "outputs": [],
   "source": [
    "x = \"\"\"\n",
    "1 事件经过\n",
    " 那是一个玩笑过火的下午，我们一群朋友在公园里嬉闹，我因一时的顽皮与冲动，竟然在众目睽睽之下扒下了二牛的裤子。当时，我只是想着逗大家笑，却完全忽略了二牛的面子和感受。笑声中，我看到了二牛的尴尬和愤怒，那一刻，我突然意识到自己的行为是多么的愚蠢和错误。\n",
    "2 自我反省\n",
    " 在深入分析自己的行为背后的原因时，我意识到那天的举动源于一种愚蠢的冲动和对自己幽默感的过度自信。我一直以为，作为朋友，我们可以毫无顾忌地开玩笑。然而，我忽视了你的感受，更忽略了这样一个事实：真正的幽默绝不会以牺牲他人的尊严为代价。我现在深刻认识到，那天的行为不仅令你尴尬，更伤害了你的自尊。对此，我感到无比懊悔。\n",
    "3 对二牛的歉意\n",
    " 二牛，我想借此机会，用我最真诚的心意向你道歉。我深刻意识到在那次公园的尴尬事件中，我扒下你的裤子，给你带来了多大的伤害和不适。这不仅是一个简单的恶作剧，更是对你个人尊严的侵犯。我承认，这一行为严重影响了我们之间的友谊，我对此感到万分抱歉。我完全理解你在那一刻的感受，以及这件事可能给你带来的长期影响。我后悔莫及，如果时光可以倒流，我绝不会让那样的场面发生。\n",
    "4 友谊的重要性\n",
    " 二牛，自从公园那件事发生后，我一直在反思，你的友谊对我意味着什么。它不仅是快乐时光的分享，也是我在逆境中的支撑。我意识到，那天我的举动不仅仅是一个玩笑，它深深地伤害了你，也动摇了我们之间的信任基石。你对我来说非常重要，我珍视我们的友谊，它让我的生活更加丰富多彩。因此，我愿意不遗余力地去修复这段关系，证明我对这段友谊的重视和诚意。\n",
    "5 改善关系的具体行动\n",
    " 为了表达我的诚意和决心，我计划采取以下具体行动来改善我们的关系：首先，我会在第一时间私下向你道歉，面对面的交流可以让我更直接地传达我的悔意。其次，我会在我们共同的朋友圈中公开澄清这一事件的真相，说明这是我个人不当的行为，并非有意为之，以消除可能给你带来的负面影响。此外，我将改正自己的行为，承诺今后在公共场合保持适当的举止，不再让类似的事情发生。我还会主动参与一些能体现我对这段友谊重视的活动，比如一起参加你感兴趣的活动，或是在你需要帮助时伸出援手。通过这些具体的行动，我希望能够证明我对于这段友谊的珍视，以及对于过去错误行为的深刻反省。\"\"\"\n",
    "\n",
    "len(x)"
   ]
  },
  {
   "cell_type": "code",
   "execution_count": null,
   "id": "ef051df5-93be-4afd-b4fa-d0231401d200",
   "metadata": {},
   "outputs": [],
   "source": [
    "wp.print_text()"
   ]
  },
  {
   "cell_type": "code",
   "execution_count": null,
   "id": "d89d6aba-b79e-4b33-a21b-eb4ab5b404b7",
   "metadata": {},
   "outputs": [],
   "source": [
    "wp.get_memory(\"2\")"
   ]
  },
  {
   "cell_type": "markdown",
   "id": "e931832b-9be4-46d2-82c8-95f3a047eca4",
   "metadata": {},
   "source": [
    "## 查看记忆和对话历史"
   ]
  },
  {
   "cell_type": "code",
   "execution_count": null,
   "id": "2d97e3ac-4d47-4e2d-b5c1-416a6472048c",
   "metadata": {},
   "outputs": [],
   "source": [
    "[k for k in wp.memory._shorterm_memory_store]"
   ]
  },
  {
   "cell_type": "code",
   "execution_count": null,
   "id": "35032a02-e18f-468a-a9f3-7a1219389dd1",
   "metadata": {},
   "outputs": [],
   "source": [
    "for x in wp.memory.get_shorterm_memory(session_id=\"20240508.180514.00002.626\").chat_memory.messages:\n",
    "    print(\"-\"*40)\n",
    "    print(x.content)"
   ]
  },
  {
   "cell_type": "code",
   "execution_count": null,
   "id": "31a14d39-a6d1-47db-9381-e6f66b9ca65b",
   "metadata": {},
   "outputs": [],
   "source": [
    "wp.print_text()"
   ]
  },
  {
   "cell_type": "markdown",
   "id": "dc17c174-2fa0-478e-b4b1-50f7687288c8",
   "metadata": {},
   "source": [
    "## 全自动生成：更换为GPT4"
   ]
  },
  {
   "cell_type": "code",
   "execution_count": null,
   "id": "b1bd3e5c-0a1e-4880-bc06-ced0d86e4ddf",
   "metadata": {},
   "outputs": [],
   "source": [
    "from langchain_openai import ChatOpenAI\n",
    "\n",
    "# 使用 OpenAI/ChatGPT 推理\n",
    "wp = WritingTask(task_mode=\"auto\")\n",
    "wp.run(llm = ChatOpenAI(model_name=\"gpt-4-turbo\"))"
   ]
  },
  {
   "cell_type": "code",
   "execution_count": null,
   "id": "683ed0b3-5d57-41cb-886f-6857823e445b",
   "metadata": {},
   "outputs": [],
   "source": [
    "wp.print_lines()"
   ]
  },
  {
   "cell_type": "code",
   "execution_count": null,
   "id": "c7a4ba3f-67c0-4c0f-bc9c-e5a390e1fd8f",
   "metadata": {},
   "outputs": [],
   "source": [
    "print(wp.root_content.get_outlines())"
   ]
  },
  {
   "cell_type": "code",
   "execution_count": null,
   "id": "8ad55e6d-776b-4bb8-9136-2da444e493d2",
   "metadata": {},
   "outputs": [],
   "source": []
  },
  {
   "cell_type": "markdown",
   "id": "f4488afa-33c9-4cc4-9c60-6248a91484f0",
   "metadata": {},
   "source": [
    "# 测试 WritingTask\n",
    "## ask_user"
   ]
  },
  {
   "cell_type": "code",
   "execution_count": null,
   "id": "6d73c9a3-acb4-41f2-984b-e11fb62fb819",
   "metadata": {},
   "outputs": [],
   "source": [
    "from langchain_chinese import WritingTask\n",
    "\n",
    "# 使用默认的智谱AI推理\n",
    "wp = WritingTask(task_mode=\"askme\")\n",
    "wp.ask_user(\"ok\")"
   ]
  },
  {
   "cell_type": "code",
   "execution_count": null,
   "id": "9c9cae3e-d8e9-46da-a4da-d35986624d80",
   "metadata": {},
   "outputs": [],
   "source": [
    "wp.ask_user(\"1@ask 帮我按两个段落\")"
   ]
  },
  {
   "cell_type": "code",
   "execution_count": null,
   "id": "4e992eaa-b8dd-4fa1-9fa0-2084d4236bbe",
   "metadata": {},
   "outputs": [],
   "source": [
    "wp.ask_user(\"START@ask 帮我按两个段落\")"
   ]
  },
  {
   "cell_type": "code",
   "execution_count": null,
   "id": "1c22a6b1-0afd-496c-a185-b78c9e2d8c35",
   "metadata": {},
   "outputs": [],
   "source": [
    "wp.ask_user(\"ask 帮我按两个段落\")"
   ]
  },
  {
   "cell_type": "markdown",
   "id": "95c4bc80-ba4a-46d8-acc6-f08913e9b866",
   "metadata": {},
   "source": [
    "# 测试 TreeContent"
   ]
  },
  {
   "cell_type": "code",
   "execution_count": null,
   "id": "bb4aebb0-ae35-4387-8231-6d77c93532d6",
   "metadata": {},
   "outputs": [],
   "source": [
    "from langchain_chinese import TreeContent\n",
    "\n",
    "root = TreeContent()\n",
    "a = root.add_item(title=\"ABC\")\n",
    "b = root.add_item(title=\"XYZ\")\n",
    "print(a.id, a.title)\n",
    "print(b.id, b.title)\n",
    "print(root.id)\n",
    "print(a.add_item().id)\n",
    "print(b.add_item().id)\n",
    "print(b.add_item().root.id)\n"
   ]
  },
  {
   "cell_type": "code",
   "execution_count": null,
   "id": "34d45247-4ace-4be1-b4e3-4e029c9f3014",
   "metadata": {},
   "outputs": [],
   "source": [
    "root.get_item_by_id(\"4\").id"
   ]
  },
  {
   "cell_type": "code",
   "execution_count": null,
   "id": "0a10eac4-20f2-466f-8044-bfb6788dfaf1",
   "metadata": {},
   "outputs": [],
   "source": [
    "root.get_item_by_id(\"3\").id"
   ]
  },
  {
   "cell_type": "code",
   "execution_count": null,
   "id": "4e882939-885a-48e5-9b41-b83b0c615fba",
   "metadata": {},
   "outputs": [],
   "source": []
  }
 ],
 "metadata": {
  "kernelspec": {
   "display_name": "langchain-chinese-py3.9-ipkyernel",
   "language": "python",
   "name": "langchain-chinese-py3.9-ipkyernel"
  },
  "language_info": {
   "codemirror_mode": {
    "name": "ipython",
    "version": 3
   },
   "file_extension": ".py",
   "mimetype": "text/x-python",
   "name": "python",
   "nbconvert_exporter": "python",
   "pygments_lexer": "ipython3",
   "version": "3.9.18"
  }
 },
 "nbformat": 4,
 "nbformat_minor": 5
}
