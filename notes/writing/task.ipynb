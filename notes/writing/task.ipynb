{
 "cells": [
  {
   "cell_type": "code",
   "execution_count": 1,
   "id": "f3045be3-ca71-46ba-8fa3-f6d999a63a5c",
   "metadata": {},
   "outputs": [],
   "source": [
    "import os\n",
    "from dotenv import load_dotenv, find_dotenv\n",
    "load_dotenv(find_dotenv(), override=True)\n",
    "\n",
    "os.chdir('..')"
   ]
  },
  {
   "cell_type": "code",
   "execution_count": 2,
   "id": "1713b2a7-ccb1-4dd2-8a1b-f3de36e72486",
   "metadata": {},
   "outputs": [],
   "source": [
    "# os.environ.get(\"ZHIPUAI_API_KEY\")"
   ]
  },
  {
   "cell_type": "markdown",
   "id": "9da2cb31-72ac-47a7-aced-a612810a21d1",
   "metadata": {},
   "source": [
    "# 设计和使用"
   ]
  },
  {
   "cell_type": "markdown",
   "id": "442ae015-37e7-4488-8a79-d89e0e482e84",
   "metadata": {},
   "source": [
    "## 命令清单"
   ]
  },
  {
   "cell_type": "markdown",
   "id": "d1f268dd-109b-46a1-b19a-7519d2bb200f",
   "metadata": {},
   "source": [
    "命令清单：\n",
    "```python\n",
    "_INVLIAD_COMMANDS = [\n",
    "    \"quit\",       # 退出\n",
    "    \"text\",       # 某ID下的文字成果，默认ROOT\n",
    "    \"all\",        # 所有任务\n",
    "    \"todos\",      # 所有待办\n",
    "    \"todo\",       # 某ID待办，默认当前ID\n",
    "    \"ok\",         # 确认INIT任务，或某ID提纲或段落，然后自动进入下一待办任务\n",
    "    \"children\",   # 查看某ID提纲\n",
    "    \"words\",      # 查看后修改某ID字数\n",
    "    \"title\",      # 查看后修改某ID标题\n",
    "    \"howto\",      # 查看后修改某ID扩写指南\n",
    "    \"summarise\",  # 查看后修改某ID段落摘要\n",
    "    \"reload\",     # 重新加载模型\n",
    "    \"memory\",     # 某ID对话记忆，默认当前ID\n",
    "    \"store\",      # 某ID对话历史，默认当前ID\n",
    "    \"ask\",        # 向AI提问\n",
    "]\n",
    "```"
   ]
  },
  {
   "cell_type": "markdown",
   "id": "32f65c33-073c-408a-bee1-cad4c24354e6",
   "metadata": {},
   "source": [
    "## 核心设计"
   ]
  },
  {
   "cell_type": "markdown",
   "id": "a5c815ee-f0a6-42cd-aa20-8062fc6d3c29",
   "metadata": {},
   "source": [
    "**关键概念**\n",
    "- [x] focus概念：`<START>`, `<0>`, `<END>`\n",
    "- [x] 提示语变量中包含历史对话，默认支持20轮次\n",
    "- [x] 每个节点有独立的对话历史\n",
    "- [x] 内容ID：在同一个对象中全局自增，如果重写会产生新的内容ID（这是为了与删除环不冲突）\n",
    "- [ ] 删除环：每个修改命令将修改或删除前内容放入环形临时队列，以便恢复\n",
    "- [ ] 恢复操作：不做回退，而是继续累加删除环\n",
    "- [ ] 粘贴：先删除到删除环，再从修改环最后一个粘贴到指定位置\n",
    "\n",
    "**指令模式**\n",
    "- [ ] 创作是一个状态机，每个状态有一组当下可执行的命令\n",
    "- [ ] 完整输入指令：`<focus> command prompt`\n",
    "- [x] auto: 默认为`none`，将一步步询问；如果设为`all`则表示全自动生成\n",
    "- [x] run 循环：进入一个输入和生成的对话循环\n",
    "- [x] run 的 task 参数：直接将第一轮输入通过 task 参数给出\n",
    "- [x] run 的 max_step 参数：执行最大步数后就退出（设置为1时可当作函数使用）\n",
    "- [x] all指令：所有所有任务列表\n",
    "- [x] todos指令：查看所有待办任务列表\n",
    "- [ ] todo指令：重新生成指定项的扩写提纲或详细内容，默认为修改当前位置\n",
    "- [x] ok指令：确认当前生成的内容为已完成，默认转移到下一个未完成项\n",
    "\n",
    "**Web服务模式**\n",
    "- [ ] 新项目对话\n",
    "- [ ] 开启与对话绑定的创作\n",
    "- [ ] 支持每一步指令的状态返回\n",
    "- [ ] 支持流返回\n",
    "\n",
    "**模型支持**\n",
    "- [x] 支持手动创建LLM对象\n",
    "- [x] 支持自动识别 ZHIPUAI_API_KEY 和 OPENAI_API_KEY，并自动加载包和构造LLM对象\n",
    "- [ ] 支持文心一言、讯飞星火、通义千问等其他模型\n",
    "- [ ] 支持私有部署大模型\n",
    "\n",
    "**提示工程**\n",
    "- 提示语中的提纲信息：\n",
    "  - [x] 模式1：全路径选标题、扩写指南和内容摘要？\n",
    "  - [ ] 模式2：祖先节点选标题，兄弟节点选标题、扩写指南和内容摘要，最近节点选文字详情？\n",
    "- [ ] 提示语外部信息\n",
    "- [ ] 提示语公共信息：在START节点配置\n",
    "- [ ] 支持本地知识库检索\n",
    "- [ ] 支持数据库查询\n",
    "- [ ] 支持智能体询问\n",
    "\n",
    "**导出模板**\n",
    "- [ ] 导出提示语模板：包括任务提示、局部提示语等\n",
    "- [ ] 导出提纲：导出JSON文件，包括文档树的标题、字数、扩写指南、内容摘要等\n",
    "\n",
    "**导入模板**\n",
    "- [ ] 导入提示语模板：从现有提示语目录中导入\n",
    "- [ ] 导入提纲：从符合格式要求的JSON文件中\n",
    "- [ ] 提纲仿写：从文件内容中提取出精确的仿写提纲\n",
    "- [ ] 提纲优化：从文字内容中提取出段落摘要，反向拆解提纲，再给出优化建议\n",
    "\n",
    "**导出成果**\n",
    "- [ ] 文字合并：如何对待提纲中的标题，作为段落合并还是作为章节？\n",
    "- [ ] 支持局部导出\n",
    "- [ ] 支持仅导出大纲\n",
    "- 按格式输出\n",
    "  - [ ] markdown\n",
    "  - [ ] word\n",
    "  - [x] txt\n",
    "\n",
    "**修改能力：**\n",
    "- [ ] 删除：将内容及其子项剪切到删除环\n",
    "- [ ] 排序：先剪切，再插入\n",
    "- [ ] 重新生成提纲列表：若要重新生成提纲列表，必须手工清楚所有子项，否则禁止使用todo指令或对其修改\n",
    "- [ ] todo指令：仅针对子项尚未完成的对象（如刚刚完成的，或其他兄弟节点）\n",
    "- [ ] 修改提纲子项属性：需要单独使用title、words、howto等指令修改\n",
    "\n",
    "**其他设计：**\n",
    "- [ ] 支持对日志输出着色"
   ]
  },
  {
   "cell_type": "markdown",
   "id": "5da4a8f2-977b-4ebd-8102-60c768d19df4",
   "metadata": {},
   "source": [
    "## Bug"
   ]
  },
  {
   "cell_type": "markdown",
   "id": "4d6a3d17-456d-475b-a6ef-03f595537c9d",
   "metadata": {},
   "source": [
    "Bug清单：\n",
    "- [x] START 记忆确实存在，但无法通过 START@memory 正确提取\n",
    "- [x] ask 指令无法在当前节点重新生成\n",
    "- [x] todos清单增加一个标记为当前任务的状态：`[当前任务]`, `* <未完成>`, `<已完成>`\n",
    "- [x] is_completed 无法修改\n"
   ]
  },
  {
   "cell_type": "markdown",
   "id": "c9235cf3-0b5d-4682-9e0f-f1e395d03ee7",
   "metadata": {},
   "source": [
    "# WritingProject"
   ]
  },
  {
   "cell_type": "markdown",
   "id": "1a559bde-0913-4601-9033-fdba9c265979",
   "metadata": {},
   "source": [
    "## 每一步都询问：使用默认的智谱AI"
   ]
  },
  {
   "cell_type": "code",
   "execution_count": 2,
   "id": "ae344e34-dd8c-4e14-bbff-916c8c575893",
   "metadata": {},
   "outputs": [],
   "source": [
    "from langchain_chinese import WritingTask\n",
    "\n",
    "# 使用默认的智谱AI推理\n",
    "wp = WritingTask(auto=\"none\")"
   ]
  },
  {
   "cell_type": "code",
   "execution_count": 3,
   "id": "92043152-3a8b-45dc-8870-bcb72193c822",
   "metadata": {},
   "outputs": [
    {
     "name": "stderr",
     "output_type": "stream",
     "text": [
      "Parent run f0f0c3b8-08a1-45a7-9592-6a8ec6acf813 not found for run 3ab5be21-f61f-41a5-8b27-bcee78f31d07. Treating as a root run.\n"
     ]
    },
    {
     "name": "stdout",
     "output_type": "stream",
     "text": [
      "[START]\n",
      "```json\n",
      "{\n",
      "    \"总字数要求\": 800,\n",
      "    \"标题名称\": \"致孩子的一封信\",\n",
      "    \"扩写指南\": \"本文是一封父母给孩子写的信，信中应当包含深切的关爱、对孩子成长过程中的点滴回忆、以及对孩子未来的期望和祝福。建议在写作中提及具体的亲子互动经历、孩子的一些重要转折点，以及父母对孩子的理解和支持。信的语气应是温馨、鼓励和充满爱意的。\"\n",
      "}\n",
      "```\n"
     ]
    }
   ],
   "source": [
    "wp.run(\"致孩子的一封信, 800字\", max_steps=1)"
   ]
  },
  {
   "cell_type": "code",
   "execution_count": 4,
   "id": "fec7394a-54c7-42d1-89ff-9a6f5edc292a",
   "metadata": {},
   "outputs": [
    {
     "name": "stdout",
     "output_type": "stream",
     "text": [
      "[START]\n"
     ]
    },
    {
     "name": "stdin",
     "output_type": "stream",
     "text": [
      "\n",
      "👤:  ok\n"
     ]
    },
    {
     "name": "stderr",
     "output_type": "stream",
     "text": [
      "Parent run d92762dc-fd01-4d63-bc99-88506c4b2e9b not found for run 6a02841f-1663-4c21-b042-8e5de0c2ccd2. Treating as a root run.\n"
     ]
    },
    {
     "name": "stdout",
     "output_type": "stream",
     "text": [
      "明白了，如果需要进一步的帮助，请随时告诉我。"
     ]
    },
    {
     "name": "stderr",
     "output_type": "stream",
     "text": [
      "Parent run 4c12c578-fae0-46bf-a48f-25b0104ccd91 not found for run 0af77d15-ceaa-4c9c-8ef0-c2100549f475. Treating as a root run.\n"
     ]
    },
    {
     "name": "stdout",
     "output_type": "stream",
     "text": [
      "\n",
      "推理错误: Invalid json output: 明白了，如果需要进一步的帮助，请随时告诉我。\n",
      "好的，如果有什么问题或需要进一步的任务，请随时通知我。祝您写作顺利！\n",
      "推理错误: Invalid json output: 好的，如果有什么问题或需要进一步的任务，请随时通知我。祝您写作顺利！\n"
     ]
    },
    {
     "name": "stderr",
     "output_type": "stream",
     "text": [
      "Parent run a1abc12a-ef02-498b-8feb-0f55f3cbba16 not found for run 1b7d844f-b3d1-45e1-82ab-8c909d06a86b. Treating as a root run.\n"
     ]
    },
    {
     "name": "stdout",
     "output_type": "stream",
     "text": [
      "收到，如有需要，随时可以联系我。祝您一切顺利！\n",
      "推理错误: Invalid json output: 收到，如有需要，随时可以联系我。祝您一切顺利！\n"
     ]
    },
    {
     "name": "stderr",
     "output_type": "stream",
     "text": [
      "Parent run 7438bc42-f9e5-4570-ae5e-fa996d1d7c07 not found for run 2792cf11-5439-45b2-a795-980d7134a555. Treating as a root run.\n"
     ]
    },
    {
     "name": "stdout",
     "output_type": "stream",
     "text": [
      "明白。期待您的下一次询问，我会尽力为您提供帮助。祝好！\n",
      "推理错误: Invalid json output: 明白。期待您的下一次询问，我会尽力为您提供帮助。祝好！\n"
     ]
    },
    {
     "name": "stderr",
     "output_type": "stream",
     "text": [
      "Parent run 2bfa427a-0b1f-43a7-8858-8b2623c8eb0d not found for run 6a935f37-4629-4731-9a9b-6b9358aba863. Treating as a root run.\n"
     ]
    },
    {
     "name": "stdout",
     "output_type": "stream",
     "text": [
      "好的，期待再次为您服务。保重！\n",
      "推理错误: Invalid json output: 好的，期待再次为您服务。保重！\n"
     ]
    },
    {
     "ename": "Exception",
     "evalue": "AI返回结果无法正确解析，已经超过 5 次，可能需要调整提示语模板了！！",
     "output_type": "error",
     "traceback": [
      "\u001b[0;31m---------------------------------------------------------------------------\u001b[0m",
      "\u001b[0;31mException\u001b[0m                                 Traceback (most recent call last)",
      "Cell \u001b[0;32mIn[4], line 1\u001b[0m\n\u001b[0;32m----> 1\u001b[0m \u001b[43mwp\u001b[49m\u001b[38;5;241;43m.\u001b[39;49m\u001b[43mrun\u001b[49m\u001b[43m(\u001b[49m\u001b[43mmax_steps\u001b[49m\u001b[38;5;241;43m=\u001b[39;49m\u001b[38;5;241;43m100\u001b[39;49m\u001b[43m)\u001b[49m\n",
      "File \u001b[0;32m~/github/langchain_chinese/langchain_chinese/writing/task.py:572\u001b[0m, in \u001b[0;36mWritingTask.run\u001b[0;34m(self, input, llm, auto, max_steps)\u001b[0m\n\u001b[1;32m    570\u001b[0m     \u001b[38;5;28;01mif\u001b[39;00m \u001b[38;5;129;01mnot\u001b[39;00m prompt:\n\u001b[1;32m    571\u001b[0m         prompt \u001b[38;5;241m=\u001b[39m \u001b[38;5;124m\"\u001b[39m\u001b[38;5;124m请重新生成\u001b[39m\u001b[38;5;124m\"\u001b[39m\n\u001b[0;32m--> 572\u001b[0m     \u001b[38;5;28;43mself\u001b[39;49m\u001b[38;5;241;43m.\u001b[39;49m\u001b[43mask_ai\u001b[49m\u001b[43m(\u001b[49m\u001b[43mchain\u001b[49m\u001b[43m,\u001b[49m\u001b[43m \u001b[49m\u001b[43mprompt\u001b[49m\u001b[43m)\u001b[49m\n\u001b[1;32m    574\u001b[0m \u001b[38;5;66;03m# 获取AI回复\u001b[39;00m\n\u001b[1;32m    575\u001b[0m \u001b[38;5;28;01melif\u001b[39;00m command \u001b[38;5;241m==\u001b[39m \u001b[38;5;124m\"\u001b[39m\u001b[38;5;124mreply\u001b[39m\u001b[38;5;124m\"\u001b[39m:\n",
      "File \u001b[0;32m~/github/langchain_chinese/langchain_chinese/writing/task.py:349\u001b[0m, in \u001b[0;36mWritingTask.ask_ai\u001b[0;34m(self, chain, task)\u001b[0m\n\u001b[1;32m    346\u001b[0m     \u001b[38;5;28;01mexcept\u001b[39;00m \u001b[38;5;167;01mException\u001b[39;00m \u001b[38;5;28;01mas\u001b[39;00m e:\n\u001b[1;32m    347\u001b[0m         \u001b[38;5;28mprint\u001b[39m(\u001b[38;5;124mf\u001b[39m\u001b[38;5;124m\"\u001b[39m\u001b[38;5;124m推理错误: \u001b[39m\u001b[38;5;132;01m{\u001b[39;00me\u001b[38;5;132;01m}\u001b[39;00m\u001b[38;5;124m\"\u001b[39m)\n\u001b[0;32m--> 349\u001b[0m \u001b[38;5;28;01mraise\u001b[39;00m \u001b[38;5;167;01mException\u001b[39;00m(\u001b[38;5;124mf\u001b[39m\u001b[38;5;124m\"\u001b[39m\u001b[38;5;124mAI返回结果无法正确解析，已经超过 \u001b[39m\u001b[38;5;132;01m{\u001b[39;00m\u001b[38;5;28mself\u001b[39m\u001b[38;5;241m.\u001b[39mretry_max\u001b[38;5;132;01m}\u001b[39;00m\u001b[38;5;124m 次，可能需要调整提示语模板了！！\u001b[39m\u001b[38;5;124m\"\u001b[39m)\n",
      "\u001b[0;31mException\u001b[0m: AI返回结果无法正确解析，已经超过 5 次，可能需要调整提示语模板了！！"
     ]
    }
   ],
   "source": [
    "wp.run(max_steps=100)"
   ]
  },
  {
   "cell_type": "code",
   "execution_count": 6,
   "id": "f1835e48-f73d-43d0-9361-70b4d49c4743",
   "metadata": {},
   "outputs": [
    {
     "name": "stdout",
     "output_type": "stream",
     "text": [
      "[1]\n",
      "[HumanMessage(content='请开始！'), AIMessageChunk(content='```json\\n{\\n    \"详细内容\": \"亲爱的孩子，最近家里发生了很多温馨的事情。那天下雨，我们一起在客厅做烘焙，你小手忙个不停，那份专注让我们都忘了时间。当你自豪地展示你亲手做的饼干时，我们心中充满了喜悦。还有你学习上的进步，你的每一次小考成绩的提高，都让我们深感骄傲。我们注意到，你不仅个子长高了，还变得更加独立和自信。每晚读书时，你总是能提出深刻的问题，让我们看到了你的思考和成长。我们想让你知道，无论你走到哪里，我们的关爱都会像影子一样陪伴着你。\",\\n    \"内容摘要\": \"描述了家庭烘焙、孩子学习进步等温馨时刻，展现了父母对孩子成长的关注和爱。涉及的人物为父母和孩子，地点为家中，主要情节包括家庭活动和孩子成长变化。\"\\n}\\n```', response_metadata={'finish_reason': 'stop', 'model': 'glm-4', 'created': 1715483456, 'index': 0, 'usage': {'prompt_tokens': 445, 'completion_tokens': 178, 'total_tokens': 623}}, id='8635248524313626046')]\n"
     ]
    },
    {
     "name": "stdin",
     "output_type": "stream",
     "text": [
      "\n",
      "👤:  title\n"
     ]
    },
    {
     "name": "stdout",
     "output_type": "stream",
     "text": [
      "<1> title \n"
     ]
    },
    {
     "name": "stdin",
     "output_type": "stream",
     "text": [
      "\n",
      "👤:  todo\n"
     ]
    },
    {
     "name": "stdout",
     "output_type": "stream",
     "text": [
      "<1> is_completed False\n",
      "[1]\n"
     ]
    },
    {
     "name": "stdin",
     "output_type": "stream",
     "text": [
      "\n",
      "👤:  0@title\n"
     ]
    },
    {
     "name": "stdout",
     "output_type": "stream",
     "text": [
      "<0> title \n"
     ]
    },
    {
     "name": "stdin",
     "output_type": "stream",
     "text": [
      "\n",
      "👤:  Memory\n"
     ]
    },
    {
     "name": "stdout",
     "output_type": "stream",
     "text": [
      "[HumanMessage(content='请开始！'), AIMessageChunk(content='```json\\n{\\n    \"详细内容\": \"亲爱的孩子，最近家里发生了很多温馨的事情。那天下雨，我们一起在客厅做烘焙，你小手忙个不停，那份专注让我们都忘了时间。当你自豪地展示你亲手做的饼干时，我们心中充满了喜悦。还有你学习上的进步，你的每一次小考成绩的提高，都让我们深感骄傲。我们注意到，你不仅个子长高了，还变得更加独立和自信。每晚读书时，你总是能提出深刻的问题，让我们看到了你的思考和成长。我们想让你知道，无论你走到哪里，我们的关爱都会像影子一样陪伴着你。\",\\n    \"内容摘要\": \"描述了家庭烘焙、孩子学习进步等温馨时刻，展现了父母对孩子成长的关注和爱。涉及的人物为父母和孩子，地点为家中，主要情节包括家庭活动和孩子成长变化。\"\\n}\\n```', response_metadata={'finish_reason': 'stop', 'model': 'glm-4', 'created': 1715483456, 'index': 0, 'usage': {'prompt_tokens': 445, 'completion_tokens': 178, 'total_tokens': 623}}, id='8635248524313626046')]\n"
     ]
    },
    {
     "name": "stdin",
     "output_type": "stream",
     "text": [
      "\n",
      "👤:  howto\n"
     ]
    },
    {
     "name": "stdout",
     "output_type": "stream",
     "text": [
      "<1> howto \n"
     ]
    },
    {
     "name": "stdin",
     "output_type": "stream",
     "text": [
      "\n",
      "👤:  quit\n"
     ]
    }
   ],
   "source": [
    "wp.run(\"memory\")"
   ]
  },
  {
   "cell_type": "code",
   "execution_count": null,
   "id": "f83a0e50-2353-46ab-b9eb-f5878955ce04",
   "metadata": {},
   "outputs": [],
   "source": [
    "wp.run()"
   ]
  },
  {
   "cell_type": "code",
   "execution_count": null,
   "id": "630bc809-b4f2-42f4-857d-6c72bdc62d10",
   "metadata": {
    "scrolled": true
   },
   "outputs": [],
   "source": [
    "wp.run(\"ok\", max_steps=1)"
   ]
  },
  {
   "cell_type": "code",
   "execution_count": null,
   "id": "667053fb-1575-4cfc-85fd-fb2d6039905d",
   "metadata": {},
   "outputs": [],
   "source": [
    "wp.run()"
   ]
  },
  {
   "cell_type": "code",
   "execution_count": null,
   "id": "49c52b51-1562-4fc2-b45c-31beec8d52ba",
   "metadata": {},
   "outputs": [],
   "source": [
    "wp.get_memory(\"START\")"
   ]
  },
  {
   "cell_type": "code",
   "execution_count": null,
   "id": "237390b4-46f4-45ed-927b-1dca0d117fa5",
   "metadata": {},
   "outputs": [],
   "source": [
    "wp.get_memory(0)"
   ]
  },
  {
   "cell_type": "code",
   "execution_count": null,
   "id": "5476e0a9-1ba3-47a9-932b-849382d46c60",
   "metadata": {},
   "outputs": [],
   "source": [
    "wp.print_all()"
   ]
  },
  {
   "cell_type": "markdown",
   "id": "24c84c55-031d-49dc-8e64-d04c56723f59",
   "metadata": {},
   "source": [
    "## 全自动生成：使用默认的智谱AI"
   ]
  },
  {
   "cell_type": "code",
   "execution_count": 2,
   "id": "d91d7c06-3bf4-4106-9ac8-579f97901337",
   "metadata": {},
   "outputs": [
    {
     "name": "stdout",
     "output_type": "stream",
     "text": [
      "[START]\n",
      "```json\n",
      "{\n",
      "    \"总字数要求\": 1000,\n",
      "    \"标题名称\": \"致二牛的诚挚道歉信\",\n",
      "    \"扩写指南\": \"这封信需要表达出深刻的歉意，解释为何会做出这样的行为，以及承诺未来不会再发生类似的事情。信中应当包含以下内容：对二牛的称呼；具体事件的描述；对二牛情绪的理解和歉意；对自己的反思；对友谊的重视；未来的承诺；结束语。建议使用温暖、真诚的语气，避免使用过于玩笑的言辞。\"\n",
      "}\n",
      "```\n",
      "-------------------- TODOs --------------------\n",
      "* [0] 约1000字 | 《致二牛的诚挚道歉信》\n",
      "```json\n",
      "{\n",
      "    \"大纲列表\": [\n",
      "        {\n",
      "            \"总字数要求\": 500,\n",
      "            \"标题名称\": \"事件的回顾与歉意表达\",\n",
      "            \"扩写指南\": \"在此部分，详细描述事件经过，向二牛表达诚挚的歉意，并尝试理解他的情绪感受。\"\n",
      "        },\n",
      "        {\n",
      "            \"总字数要求\": 500,\n",
      "            \"标题名称\": \"自我反思与未来承诺\",\n",
      "            \"扩写指南\": \"这部分着重于自我反思，说明自己的失误和认识到的问题，同时承诺未来改进，并强调对友谊的重视。\"\n",
      "        }\n",
      "    ]\n",
      "}\n",
      "```\n",
      "-------------------- TODOs --------------------\n",
      "* [1] 约500字 | 《事件的回顾与歉意表达》\n",
      "* <2> 约500字 | 《自我反思与未来承诺》\n",
      "```json\n",
      "{\n",
      "  \"详细内容\": \"亲爱的二牛，我想要首先回顾那件事情的经过，我知道这对你我来说都不是容易的回忆。那是一个风和日丽的下午，我们本应享受美好的时光，却因为我的一时冲动和考虑不周，发生了那样不愉快的事情。我没有考虑到你的感受，在众人面前让你陷入了尴尬的境地。我现在深刻意识到，我的行为是多么的不妥，我真的很抱歉。我试图想象当时的你是多么的难过和失望，你的心情我完全能够理解。在这里，我衷心地向你道歉，希望你能感受到我的诚意。\",\n",
      "  \"内容摘要\": \"此段详细描述了事件经过，向二牛表达了诚挚的歉意，并尝试理解他的情绪感受。涉及的人物为二牛，背景设定为一次不愉快的公众事件。\"\n",
      "}\n",
      "```\n",
      "-------------------- TODOs --------------------\n",
      "* [2] 约500字 | 《自我反思与未来承诺》\n",
      "```json\n",
      "{\n",
      "  \"详细内容\": \"回想起那天的经过，我深感自责。我的言行无疑给您带来了困扰和伤害，我真诚地为我的失误向您道歉。自我反思之后，我认识到了自己的冲动和考虑不周，这些问题不仅影响了我们的关系，也让我自己感到懊悔。我承诺，在未来的日子里，我将更加注重言行，不再让类似的事情发生。我们之间的友谊对我来说无比珍贵，我愿意用行动来证明这一点，并希望得到您的理解和原谅。\",\n",
      "  \"内容摘要\": \"此段详细描述了写信者对过去行为的自我反思，承认了错误并承诺改进。强调了友谊的重要性，并表达了对二牛的理解和歉意。涉及的人物为二牛，背景设定为一次因写信者冲动行为导致的纠纷。\"\n",
      "}\n",
      "```\n",
      "-------------------- Done! --------------------\n",
      "《致二牛的诚挚道歉信》\n",
      "总字数要求约1000字；已完成。\n",
      "扩写指南 >>> 这封信需要表达出深刻的歉意，解释为何会做出这样的行为，以及承诺未来不会再发生类似的事情。信中应当包含以下内容：对二牛的称呼；具体事件的描述；对二牛情绪的理解和歉意；对自己的反思；对友谊的重视；未来的承诺；结束语。建议使用温暖、真诚的语气，避免使用过于玩笑的言辞。\n",
      "\n",
      "1 事件的回顾与歉意表达\n",
      " 亲爱的二牛，我想要首先回顾那件事情的经过，我知道这对你我来说都不是容易的回忆。那是一个风和日丽的下午，我们本应享受美好的时光，却因为我的一时冲动和考虑不周，发生了那样不愉快的事情。我没有考虑到你的感受，在众人面前让你陷入了尴尬的境地。我现在深刻意识到，我的行为是多么的不妥，我真的很抱歉。我试图想象当时的你是多么的难过和失望，你的心情我完全能够理解。在这里，我衷心地向你道歉，希望你能感受到我的诚意。\n",
      "2 自我反思与未来承诺\n",
      " 回想起那天的经过，我深感自责。我的言行无疑给您带来了困扰和伤害，我真诚地为我的失误向您道歉。自我反思之后，我认识到了自己的冲动和考虑不周，这些问题不仅影响了我们的关系，也让我自己感到懊悔。我承诺，在未来的日子里，我将更加注重言行，不再让类似的事情发生。我们之间的友谊对我来说无比珍贵，我愿意用行动来证明这一点，并希望得到您的理解和原谅。\n"
     ]
    }
   ],
   "source": [
    "from langchain_chinese import WritingTask\n",
    "\n",
    "# 使用默认的智谱AI推理\n",
    "# 你需要准备好智谱AI的APIKEY\n",
    "wp = WritingTask(auto=\"all\")\n",
    "wp.run(\"我今天扒了二牛的裤子，然后他一整天都不理我，帮我写一封1000字道歉信，我希望和他继续做好朋友，每段不要少于500字哦\")"
   ]
  },
  {
   "cell_type": "code",
   "execution_count": 9,
   "id": "ef051df5-93be-4afd-b4fa-d0231401d200",
   "metadata": {},
   "outputs": [
    {
     "name": "stdout",
     "output_type": "stream",
     "text": [
      "《给二牛的一封道歉信》\n",
      "总字数要求约1000字；已完成。\n",
      "扩写指南 >>> 本信需要包含以下几个部分：首先，对扒裤子事件表示深刻的歉意，并详细描述自己的后悔和自责；其次，解释当时行为的动机和冲动，表明并非有意伤害二牛；接着，表达对二牛感受的理解和尊重，以及对他的不理睬表示的痛苦；最后，诚恳地请求二牛的原谅，并提出希望未来能继续维持和加强友谊。每段至少500字，以体现道歉的诚恳和重视。\n",
      "\n",
      "1 深刻的歉意与后悔\n",
      " 二牛，我在此向你表达我最深刻的歉意。回想起那日在众人面前扒下你的裤子，我心中充满了悔恨和自责。那行为不仅让你在那一刻失去了尊严，更在我们的友谊上留下了难以抹去的裂痕。每一个夜晚，我都会被这个记忆所困扰，想象着你的尴尬和痛苦，我对自己当时的冲动感到羞愧不已。如果时光可以倒流，我绝不会让那样的事情发生，我愿意用一切来换取你的原谅。\n",
      "2 解释动机与冲动\n",
      " 二牛，我必须向你坦白，那天在众人面前扒你裤子的行为，完全是出于一次冲动。当时，我们一群朋友在玩闹，气氛热烈，我脑中突然闪过一个念头，想要引起大家的注意，让气氛更加活跃。我完全没有考虑到这样的行为对你可能造成的伤害，这是我的失策，也是我最大的失误。我想要强调的是，我绝无任何恶意，更不是有意让你难堪。在那个瞬间，我的动机仅仅是想要寻求一些即兴的欢笑，却忽略了你的感受，我深感愧疚。\n"
     ]
    }
   ],
   "source": [
    "wp.print_text()"
   ]
  },
  {
   "cell_type": "code",
   "execution_count": 3,
   "id": "d89d6aba-b79e-4b33-a21b-eb4ab5b404b7",
   "metadata": {},
   "outputs": [
    {
     "name": "stdout",
     "output_type": "stream",
     "text": [
      "[END]\n"
     ]
    },
    {
     "ename": "BaseException",
     "evalue": "(None, ' |Error Reply:', {'详细内容': '回想起那天的经过，我深感自责。我的言行无疑给您带来了困扰和伤害，我真诚地为我的失误向您道歉。自我反思之后，我认识到了自己的冲动和考虑不周，这些问题不仅影响了我们的关系，也让我自己感到懊悔。我承诺，在未来的日子里，我将更加注重言行，不再让类似的事情发生。我们之间的友谊对我来说无比珍贵，我愿意用行动来证明这一点，并希望得到您的理解和原谅。', '内容摘要': '此段详细描述了写信者对过去行为的自我反思，承认了错误并承诺改进。强调了友谊的重要性，并表达了对二牛的理解和歉意。涉及的人物为二牛，背景设定为一次因写信者冲动行为导致的纠纷。'})",
     "output_type": "error",
     "traceback": [
      "\u001b[0;31m---------------------------------------------------------------------------\u001b[0m",
      "\u001b[0;31mBaseException\u001b[0m                             Traceback (most recent call last)",
      "Cell \u001b[0;32mIn[3], line 1\u001b[0m\n\u001b[0;32m----> 1\u001b[0m \u001b[43mwp\u001b[49m\u001b[38;5;241;43m.\u001b[39;49m\u001b[43mrun\u001b[49m\u001b[43m(\u001b[49m\u001b[43m)\u001b[49m\n",
      "File \u001b[0;32m~/github/langchain_chinese/langchain_chinese/writing/task.py:554\u001b[0m, in \u001b[0;36mWritingTask.run\u001b[0;34m(self, input, llm, auto, max_steps)\u001b[0m\n\u001b[1;32m    550\u001b[0m \u001b[38;5;66;03m# 确认当前成果\u001b[39;00m\n\u001b[1;32m    551\u001b[0m \u001b[38;5;28;01melif\u001b[39;00m command \u001b[38;5;241m==\u001b[39m \u001b[38;5;124m\"\u001b[39m\u001b[38;5;124mok\u001b[39m\u001b[38;5;124m\"\u001b[39m:\n\u001b[1;32m    552\u001b[0m     \u001b[38;5;66;03m# 尝试更新当前游标指向的内容\u001b[39;00m\n\u001b[1;32m    553\u001b[0m     \u001b[38;5;66;03m# 如果更新失败，就要退出循环\u001b[39;00m\n\u001b[0;32m--> 554\u001b[0m     \u001b[38;5;28;43mself\u001b[39;49m\u001b[38;5;241;43m.\u001b[39;49m\u001b[43mupdate_content\u001b[49m\u001b[43m(\u001b[49m\u001b[43m)\u001b[49m\n\u001b[1;32m    556\u001b[0m     \u001b[38;5;66;03m# 获取下一个任务的计划\u001b[39;00m\n\u001b[1;32m    557\u001b[0m     \u001b[38;5;28mself\u001b[39m\u001b[38;5;241m.\u001b[39mmove_focus_auto()\n",
      "File \u001b[0;32m~/github/langchain_chinese/langchain_chinese/writing/task.py:393\u001b[0m, in \u001b[0;36mWritingTask.update_content\u001b[0;34m(self)\u001b[0m\n\u001b[1;32m    391\u001b[0m         \u001b[38;5;28mself\u001b[39m\u001b[38;5;241m.\u001b[39mtodo_content\u001b[38;5;241m.\u001b[39mtext \u001b[38;5;241m=\u001b[39m request[\u001b[38;5;124m\"\u001b[39m\u001b[38;5;124m详细内容\u001b[39m\u001b[38;5;124m\"\u001b[39m]\n\u001b[1;32m    392\u001b[0m \u001b[38;5;28;01melse\u001b[39;00m:\n\u001b[0;32m--> 393\u001b[0m     \u001b[38;5;28;01mraise\u001b[39;00m(\u001b[38;5;167;01mBaseException\u001b[39;00m(content_type, \u001b[38;5;124m\"\u001b[39m\u001b[38;5;124m |Error Reply:\u001b[39m\u001b[38;5;124m\"\u001b[39m, request))\n\u001b[1;32m    395\u001b[0m \u001b[38;5;66;03m# 生成子任务后，提纲自身的任务就算完成了\u001b[39;00m\n\u001b[1;32m    396\u001b[0m \u001b[38;5;28mself\u001b[39m\u001b[38;5;241m.\u001b[39mtodo_content\u001b[38;5;241m.\u001b[39mis_completed \u001b[38;5;241m=\u001b[39m \u001b[38;5;28;01mTrue\u001b[39;00m\n",
      "\u001b[0;31mBaseException\u001b[0m: (None, ' |Error Reply:', {'详细内容': '回想起那天的经过，我深感自责。我的言行无疑给您带来了困扰和伤害，我真诚地为我的失误向您道歉。自我反思之后，我认识到了自己的冲动和考虑不周，这些问题不仅影响了我们的关系，也让我自己感到懊悔。我承诺，在未来的日子里，我将更加注重言行，不再让类似的事情发生。我们之间的友谊对我来说无比珍贵，我愿意用行动来证明这一点，并希望得到您的理解和原谅。', '内容摘要': '此段详细描述了写信者对过去行为的自我反思，承认了错误并承诺改进。强调了友谊的重要性，并表达了对二牛的理解和歉意。涉及的人物为二牛，背景设定为一次因写信者冲动行为导致的纠纷。'})"
     ]
    }
   ],
   "source": [
    "wp.run()"
   ]
  },
  {
   "cell_type": "markdown",
   "id": "e931832b-9be4-46d2-82c8-95f3a047eca4",
   "metadata": {},
   "source": [
    "## 查看记忆和对话历史"
   ]
  },
  {
   "cell_type": "code",
   "execution_count": null,
   "id": "2d97e3ac-4d47-4e2d-b5c1-416a6472048c",
   "metadata": {},
   "outputs": [],
   "source": [
    "[k for k in wp.memory._shorterm_memory_store]"
   ]
  },
  {
   "cell_type": "code",
   "execution_count": null,
   "id": "35032a02-e18f-468a-a9f3-7a1219389dd1",
   "metadata": {},
   "outputs": [],
   "source": [
    "for x in wp.memory.get_shorterm_memory(session_id=\"20240508.180514.00002.626\").chat_memory.messages:\n",
    "    print(\"-\"*40)\n",
    "    print(x.content)"
   ]
  },
  {
   "cell_type": "code",
   "execution_count": null,
   "id": "31a14d39-a6d1-47db-9381-e6f66b9ca65b",
   "metadata": {},
   "outputs": [],
   "source": [
    "wp.print_text()"
   ]
  },
  {
   "cell_type": "markdown",
   "id": "dc17c174-2fa0-478e-b4b1-50f7687288c8",
   "metadata": {},
   "source": [
    "## 全自动生成：更换为GPT4"
   ]
  },
  {
   "cell_type": "code",
   "execution_count": null,
   "id": "b1bd3e5c-0a1e-4880-bc06-ced0d86e4ddf",
   "metadata": {},
   "outputs": [],
   "source": [
    "from langchain_openai import ChatOpenAI\n",
    "\n",
    "# 使用 OpenAI/ChatGPT 推理\n",
    "wp = WritingTask(task_mode=\"auto\")\n",
    "wp.run(llm = ChatOpenAI(model_name=\"gpt-4-turbo\"))"
   ]
  },
  {
   "cell_type": "code",
   "execution_count": null,
   "id": "683ed0b3-5d57-41cb-886f-6857823e445b",
   "metadata": {},
   "outputs": [],
   "source": [
    "wp.print_lines()"
   ]
  },
  {
   "cell_type": "code",
   "execution_count": null,
   "id": "c7a4ba3f-67c0-4c0f-bc9c-e5a390e1fd8f",
   "metadata": {},
   "outputs": [],
   "source": [
    "print(wp.root_content.get_outlines())"
   ]
  },
  {
   "cell_type": "code",
   "execution_count": null,
   "id": "8ad55e6d-776b-4bb8-9136-2da444e493d2",
   "metadata": {},
   "outputs": [],
   "source": []
  },
  {
   "cell_type": "markdown",
   "id": "f4488afa-33c9-4cc4-9c60-6248a91484f0",
   "metadata": {},
   "source": [
    "# 测试 WritingTask\n",
    "## ask_user"
   ]
  },
  {
   "cell_type": "code",
   "execution_count": 2,
   "id": "6d73c9a3-acb4-41f2-984b-e11fb62fb819",
   "metadata": {},
   "outputs": [
    {
     "data": {
      "text/plain": [
       "('START', 0, 'ok', '')"
      ]
     },
     "execution_count": 2,
     "metadata": {},
     "output_type": "execute_result"
    }
   ],
   "source": [
    "from langchain_chinese import WritingTask\n",
    "\n",
    "# 使用默认的智谱AI推理\n",
    "wp = WritingTask(auto=\"none\")\n",
    "wp.ask_user(\"ok\")"
   ]
  },
  {
   "cell_type": "code",
   "execution_count": 3,
   "id": "8e51f81c-dbca-4ee1-8917-71ab8cc09727",
   "metadata": {},
   "outputs": [
    {
     "data": {
      "text/plain": [
       "('START', 0, 'title', '一首诗')"
      ]
     },
     "execution_count": 3,
     "metadata": {},
     "output_type": "execute_result"
    }
   ],
   "source": [
    "wp.ask_user(\"title 一首诗\")"
   ]
  },
  {
   "cell_type": "code",
   "execution_count": 4,
   "id": "9c9cae3e-d8e9-46da-a4da-d35986624d80",
   "metadata": {},
   "outputs": [
    {
     "data": {
      "text/plain": [
       "('1', '1', 'ask', '帮我按两个段落')"
      ]
     },
     "execution_count": 4,
     "metadata": {},
     "output_type": "execute_result"
    }
   ],
   "source": [
    "wp.ask_user(\"<1> ask 帮我按两个段落\")"
   ]
  },
  {
   "cell_type": "code",
   "execution_count": 5,
   "id": "4e992eaa-b8dd-4fa1-9fa0-2084d4236bbe",
   "metadata": {},
   "outputs": [
    {
     "data": {
      "text/plain": [
       "('START', 0, 'ask', '帮我按两个段落')"
      ]
     },
     "execution_count": 5,
     "metadata": {},
     "output_type": "execute_result"
    }
   ],
   "source": [
    "wp.ask_user(\"<Start> ask 帮我按两个段落\")"
   ]
  },
  {
   "cell_type": "code",
   "execution_count": 6,
   "id": "1c22a6b1-0afd-496c-a185-b78c9e2d8c35",
   "metadata": {},
   "outputs": [
    {
     "data": {
      "text/plain": [
       "('START', 0, 'ask', '帮我按两个段落')"
      ]
     },
     "execution_count": 6,
     "metadata": {},
     "output_type": "execute_result"
    }
   ],
   "source": [
    "wp.ask_user(\"ask 帮我按两个段落\")"
   ]
  },
  {
   "cell_type": "markdown",
   "id": "95c4bc80-ba4a-46d8-acc6-f08913e9b866",
   "metadata": {},
   "source": [
    "# 测试 TreeContent"
   ]
  },
  {
   "cell_type": "code",
   "execution_count": 2,
   "id": "bb4aebb0-ae35-4387-8231-6d77c93532d6",
   "metadata": {},
   "outputs": [
    {
     "name": "stdout",
     "output_type": "stream",
     "text": [
      "1 ABC\n",
      "2 XYZ\n",
      "0\n",
      "3\n",
      "4\n",
      "0\n"
     ]
    },
    {
     "name": "stderr",
     "output_type": "stream",
     "text": [
      "/Users/xuehongwei/github/langchain_chinese/langchain_chinese/writing/task.py:139: SyntaxWarning: \"is not\" with a literal. Did you mean \"!=\"?\n",
      "  if self.auto == \"all\" and self.focus is not \"END\" and self.ai_reply_json != {}:\n"
     ]
    }
   ],
   "source": [
    "from langchain_chinese import TreeContent\n",
    "\n",
    "root = TreeContent()\n",
    "a = root.add_item(title=\"ABC\")\n",
    "b = root.add_item(title=\"XYZ\")\n",
    "print(a.id, a.title)\n",
    "print(b.id, b.title)\n",
    "print(root.id)\n",
    "print(a.add_item().id)\n",
    "print(b.add_item().id)\n",
    "print(b.add_item().root.id)\n"
   ]
  },
  {
   "cell_type": "code",
   "execution_count": 9,
   "id": "34d45247-4ace-4be1-b4e3-4e029c9f3014",
   "metadata": {},
   "outputs": [
    {
     "data": {
      "text/plain": [
       "4"
      ]
     },
     "execution_count": 9,
     "metadata": {},
     "output_type": "execute_result"
    }
   ],
   "source": [
    "root.get_item_by_id(\"4\").id"
   ]
  },
  {
   "cell_type": "code",
   "execution_count": 10,
   "id": "0a10eac4-20f2-466f-8044-bfb6788dfaf1",
   "metadata": {},
   "outputs": [
    {
     "data": {
      "text/plain": [
       "3"
      ]
     },
     "execution_count": 10,
     "metadata": {},
     "output_type": "execute_result"
    }
   ],
   "source": [
    "root.get_item_by_id(\"3\").id"
   ]
  },
  {
   "cell_type": "code",
   "execution_count": 5,
   "id": "4e882939-885a-48e5-9b41-b83b0c615fba",
   "metadata": {},
   "outputs": [
    {
     "ename": "AttributeError",
     "evalue": "'TreeContent' object has no attribute 'model'",
     "output_type": "error",
     "traceback": [
      "\u001b[0;31m---------------------------------------------------------------------------\u001b[0m",
      "\u001b[0;31mAttributeError\u001b[0m                            Traceback (most recent call last)",
      "Cell \u001b[0;32mIn[5], line 1\u001b[0m\n\u001b[0;32m----> 1\u001b[0m \u001b[43mroot\u001b[49m\u001b[38;5;241;43m.\u001b[39;49m\u001b[43mcurrent_state\u001b[49m\n",
      "File \u001b[0;32m~/Library/Caches/pypoetry/virtualenvs/langchain-chinese-gSQlHcwW-py3.9/lib/python3.9/site-packages/statemachine/statemachine.py:215\u001b[0m, in \u001b[0;36mStateMachine.current_state\u001b[0;34m(self)\u001b[0m\n\u001b[1;32m    207\u001b[0m \u001b[38;5;129m@property\u001b[39m\n\u001b[1;32m    208\u001b[0m \u001b[38;5;28;01mdef\u001b[39;00m \u001b[38;5;21mcurrent_state\u001b[39m(\u001b[38;5;28mself\u001b[39m) \u001b[38;5;241m-\u001b[39m\u001b[38;5;241m>\u001b[39m \u001b[38;5;124m\"\u001b[39m\u001b[38;5;124mState\u001b[39m\u001b[38;5;124m\"\u001b[39m:\n\u001b[1;32m    209\u001b[0m \u001b[38;5;250m    \u001b[39m\u001b[38;5;124;03m\"\"\"Get/Set the current :ref:`state`.\u001b[39;00m\n\u001b[1;32m    210\u001b[0m \n\u001b[1;32m    211\u001b[0m \u001b[38;5;124;03m    This is a low level API, that can be to assign any valid state\u001b[39;00m\n\u001b[1;32m    212\u001b[0m \u001b[38;5;124;03m    completely bypassing all the hooks and validations.\u001b[39;00m\n\u001b[1;32m    213\u001b[0m \u001b[38;5;124;03m    \"\"\"\u001b[39;00m\n\u001b[0;32m--> 215\u001b[0m     state: State \u001b[38;5;241m=\u001b[39m \u001b[38;5;28mself\u001b[39m\u001b[38;5;241m.\u001b[39mstates_map[\u001b[38;5;28;43mself\u001b[39;49m\u001b[38;5;241;43m.\u001b[39;49m\u001b[43mcurrent_state_value\u001b[49m]\u001b[38;5;241m.\u001b[39mfor_instance(\n\u001b[1;32m    216\u001b[0m         machine\u001b[38;5;241m=\u001b[39m\u001b[38;5;28mself\u001b[39m,\n\u001b[1;32m    217\u001b[0m         cache\u001b[38;5;241m=\u001b[39m\u001b[38;5;28mself\u001b[39m\u001b[38;5;241m.\u001b[39m_states_for_instance,\n\u001b[1;32m    218\u001b[0m     )\n\u001b[1;32m    219\u001b[0m     \u001b[38;5;28;01mreturn\u001b[39;00m state\n",
      "File \u001b[0;32m~/Library/Caches/pypoetry/virtualenvs/langchain-chinese-gSQlHcwW-py3.9/lib/python3.9/site-packages/statemachine/statemachine.py:198\u001b[0m, in \u001b[0;36mStateMachine.current_state_value\u001b[0;34m(self)\u001b[0m\n\u001b[1;32m    191\u001b[0m \u001b[38;5;129m@property\u001b[39m\n\u001b[1;32m    192\u001b[0m \u001b[38;5;28;01mdef\u001b[39;00m \u001b[38;5;21mcurrent_state_value\u001b[39m(\u001b[38;5;28mself\u001b[39m):\n\u001b[1;32m    193\u001b[0m \u001b[38;5;250m    \u001b[39m\u001b[38;5;124;03m\"\"\"Get/Set the current :ref:`state` value.\u001b[39;00m\n\u001b[1;32m    194\u001b[0m \n\u001b[1;32m    195\u001b[0m \u001b[38;5;124;03m    This is a low level API, that can be used to assign any valid state value\u001b[39;00m\n\u001b[1;32m    196\u001b[0m \u001b[38;5;124;03m    completely bypassing all the hooks and validations.\u001b[39;00m\n\u001b[1;32m    197\u001b[0m \u001b[38;5;124;03m    \"\"\"\u001b[39;00m\n\u001b[0;32m--> 198\u001b[0m     value \u001b[38;5;241m=\u001b[39m \u001b[38;5;28mgetattr\u001b[39m(\u001b[38;5;28;43mself\u001b[39;49m\u001b[38;5;241;43m.\u001b[39;49m\u001b[43mmodel\u001b[49m, \u001b[38;5;28mself\u001b[39m\u001b[38;5;241m.\u001b[39mstate_field, \u001b[38;5;28;01mNone\u001b[39;00m)\n\u001b[1;32m    199\u001b[0m     \u001b[38;5;28;01mreturn\u001b[39;00m value\n",
      "\u001b[0;31mAttributeError\u001b[0m: 'TreeContent' object has no attribute 'model'"
     ]
    }
   ],
   "source": [
    "root.current_state"
   ]
  },
  {
   "cell_type": "code",
   "execution_count": 6,
   "id": "ef48c313-88c9-464c-b828-1a0fbda92cf5",
   "metadata": {},
   "outputs": [],
   "source": [
    "from statemachine import StateMachine, State\n",
    "\n",
    "class ContentState(StateMachine):\n",
    "    \"\"\"实现基于有限状态机的内容管理\"\"\"\n",
    "\n",
    "    # 定义有限状态机的状态\n",
    "    #\n",
    "    # 扩写指南\n",
    "    init = State(\"init\", initial=True)\n",
    "    # 完全重新生成：有扩写指南，祖先已完成扩写\n",
    "    todo = State(\"todo\")\n",
    "    # 已完成扩写\n",
    "    done = State(\"done\")\n",
    "    # 重新生成：已完成扩写，支持锁定部份内容后修改，也可直接确认\n",
    "    mod = State(\"mod\")\n",
    "    \n",
    "    # 定义有限状态机的状态转换\n",
    "    #\n",
    "    init_todo = init.to(todo)\n",
    "\n",
    "    todo_done = todo.to(done)\n",
    "    done_todo = done.to(todo)\n",
    "\n",
    "    done_mod = done.to(mod)\n",
    "    mod_done = mod.to(done)\n",
    "\n",
    "    mod_todo = mod.to(todo)\n",
    "    \n",
    "    def invalid_commands(self):\n",
    "        \"\"\"\n",
    "        根据状态返回可用的指令集\n",
    "        \"\"\"\n",
    "        commands = _COMMON_COMMANDS\n",
    "        if self.state == \"init\":\n",
    "            commands = list(set(commands + _READ_COMMANDS))\n",
    "        elif self.state == \"todo\":\n",
    "            commands = list(set(commands + _READ_COMMANDS + _WRITE_COMMANDS + _AI_CHAT_COMMANDS))\n",
    "        elif self.state == \"mod\":\n",
    "            commands = list(set(commands + _READ_COMMANDS + _WRITE_COMMANDS + _AI_CHAT_COMMANDS))\n",
    "        elif self.state == \"done\":\n",
    "            commands = list(set(commands + _READ_COMMANDS + _WRITE_COMMANDS))\n",
    "        else:\n",
    "            raise BaseException(\"Unknow conent STATE:\", self.state)\n",
    "        return commands\n"
   ]
  },
  {
   "cell_type": "code",
   "execution_count": 7,
   "id": "e2de583e-6753-427d-aa32-133fa75b478c",
   "metadata": {},
   "outputs": [],
   "source": [
    "s = ContentState()"
   ]
  },
  {
   "cell_type": "code",
   "execution_count": 15,
   "id": "63417226-1219-482d-8045-957ca4b80c24",
   "metadata": {},
   "outputs": [],
   "source": [
    "s.send(\"init_todo\")"
   ]
  },
  {
   "cell_type": "code",
   "execution_count": 16,
   "id": "9b6f9541-acbd-4bdc-bf6a-256dafde670c",
   "metadata": {},
   "outputs": [
    {
     "data": {
      "text/plain": [
       "State('todo', id='todo', value='todo', initial=False, final=False)"
      ]
     },
     "execution_count": 16,
     "metadata": {},
     "output_type": "execute_result"
    }
   ],
   "source": [
    "s.current_state"
   ]
  },
  {
   "cell_type": "code",
   "execution_count": null,
   "id": "9b4d0423-892c-48ac-9beb-17cdc0a380c8",
   "metadata": {},
   "outputs": [],
   "source": [
    "s.send(\"todo_done\")"
   ]
  },
  {
   "cell_type": "code",
   "execution_count": 20,
   "id": "87b78202-798f-423a-b136-2504d7f6c222",
   "metadata": {},
   "outputs": [
    {
     "data": {
      "text/plain": [
       "State('done', id='done', value='done', initial=False, final=False)"
      ]
     },
     "execution_count": 20,
     "metadata": {},
     "output_type": "execute_result"
    }
   ],
   "source": [
    "s.current_state"
   ]
  },
  {
   "cell_type": "code",
   "execution_count": 21,
   "id": "d2f05e17-57b5-4bf7-86ab-3d8c37fcd92d",
   "metadata": {},
   "outputs": [],
   "source": [
    "s.done_todo()"
   ]
  },
  {
   "cell_type": "code",
   "execution_count": 22,
   "id": "a802adad-3cfa-4fa0-91f9-c474717be33c",
   "metadata": {},
   "outputs": [
    {
     "data": {
      "text/plain": [
       "State('todo', id='todo', value='todo', initial=False, final=False)"
      ]
     },
     "execution_count": 22,
     "metadata": {},
     "output_type": "execute_result"
    }
   ],
   "source": [
    "s.current_state"
   ]
  },
  {
   "cell_type": "code",
   "execution_count": null,
   "id": "18deb798-f0d8-4f23-8d50-c528bd96c395",
   "metadata": {},
   "outputs": [],
   "source": []
  }
 ],
 "metadata": {
  "kernelspec": {
   "display_name": "langchain-chinese-py3.9-ipkyernel",
   "language": "python",
   "name": "langchain-chinese-py3.9-ipkyernel"
  },
  "language_info": {
   "codemirror_mode": {
    "name": "ipython",
    "version": 3
   },
   "file_extension": ".py",
   "mimetype": "text/x-python",
   "name": "python",
   "nbconvert_exporter": "python",
   "pygments_lexer": "ipython3",
   "version": "3.9.18"
  }
 },
 "nbformat": 4,
 "nbformat_minor": 5
}
