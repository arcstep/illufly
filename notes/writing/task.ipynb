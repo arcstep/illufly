{
 "cells": [
  {
   "cell_type": "code",
   "execution_count": 1,
   "id": "f3045be3-ca71-46ba-8fa3-f6d999a63a5c",
   "metadata": {},
   "outputs": [],
   "source": [
    "import os\n",
    "from dotenv import load_dotenv, find_dotenv\n",
    "load_dotenv(find_dotenv(), override=True)\n",
    "\n",
    "os.chdir('..')"
   ]
  },
  {
   "cell_type": "code",
   "execution_count": 2,
   "id": "1713b2a7-ccb1-4dd2-8a1b-f3de36e72486",
   "metadata": {},
   "outputs": [],
   "source": [
    "# os.environ.get(\"ZHIPUAI_API_KEY\")"
   ]
  },
  {
   "cell_type": "markdown",
   "id": "9da2cb31-72ac-47a7-aced-a612810a21d1",
   "metadata": {},
   "source": [
    "# 设计和使用"
   ]
  },
  {
   "cell_type": "markdown",
   "id": "32f65c33-073c-408a-bee1-cad4c24354e6",
   "metadata": {},
   "source": [
    "## 核心设计"
   ]
  },
  {
   "cell_type": "markdown",
   "id": "a5c815ee-f0a6-42cd-aa20-8062fc6d3c29",
   "metadata": {},
   "source": [
    "**关键概念**\n",
    "- [x] focus概念：`<START>`, `<0>`, `<END>`\n",
    "- [x] 提示语变量中包含历史对话，默认支持20轮次\n",
    "- [x] 每个节点有独立的对话历史\n",
    "- [x] 内容ID：在同一个对象中全局自增，如果重写会产生新的内容ID（这是为了与删除环不冲突）\n",
    "- [ ] 删除环：每个修改命令将修改或删除前内容放入环形临时队列，以便恢复\n",
    "- [ ] 恢复操作：不做回退，而是继续累加删除环\n",
    "- [ ] 粘贴：先删除到删除环，再从修改环最后一个粘贴到指定位置\n",
    "\n",
    "**指令模式**\n",
    "- [ ] 创作是一个状态机，每个状态有一组当下可执行的命令\n",
    "- [ ] 完整输入指令：`<focus> command prompt`\n",
    "- [x] auto: 默认为`none`，将一步步询问；如果设为`all`则表示全自动生成\n",
    "- [x] run 循环：进入一个输入和生成的对话循环\n",
    "- [x] run 的 task 参数：直接将第一轮输入通过 task 参数给出\n",
    "- [x] run 的 max_step 参数：执行最大步数后就退出（设置为1时可当作函数使用）\n",
    "- [x] all指令：所有所有任务列表\n",
    "- [x] todos指令：查看所有待办任务列表\n",
    "- [ ] todo指令：重新生成指定项的扩写提纲或详细内容，默认为修改当前位置\n",
    "- [x] ok指令：确认当前生成的内容为已完成，默认转移到下一个未完成项\n",
    "\n",
    "**Web服务模式**\n",
    "- [ ] 新项目对话\n",
    "- [ ] 开启与对话绑定的创作\n",
    "- [ ] 支持每一步指令的状态返回\n",
    "- [ ] 支持流返回\n",
    "\n",
    "**模型支持**\n",
    "- [x] 支持手动创建LLM对象\n",
    "- [x] 支持自动识别 ZHIPUAI_API_KEY 和 OPENAI_API_KEY，并自动加载包和构造LLM对象\n",
    "- [ ] 支持文心一言、讯飞星火、通义千问等其他模型\n",
    "- [ ] 支持私有部署大模型\n",
    "\n",
    "**提示工程**\n",
    "- 提示语中的提纲信息：\n",
    "  - [x] 模式1：全路径选标题、扩写指南和内容摘要？\n",
    "  - [ ] 模式2：祖先节点选标题，兄弟节点选标题、扩写指南和内容摘要，最近节点选文字详情？\n",
    "- [ ] 提示语外部信息\n",
    "- [ ] 提示语公共信息：在START节点配置\n",
    "- [ ] 支持本地知识库检索\n",
    "- [ ] 支持数据库查询\n",
    "- [ ] 支持智能体询问\n",
    "\n",
    "**导出模板**\n",
    "- [ ] 导出提示语模板：包括任务提示、局部提示语等\n",
    "- [ ] 导出提纲：导出JSON文件，包括文档树的标题、字数、扩写指南、内容摘要等\n",
    "\n",
    "**导入模板**\n",
    "- [ ] 导入提示语模板：从现有提示语目录中导入\n",
    "- [ ] 导入提纲：从符合格式要求的JSON文件中\n",
    "- [ ] 提纲仿写：从文件内容中提取出精确的仿写提纲\n",
    "- [ ] 提纲优化：从文字内容中提取出段落摘要，反向拆解提纲，再给出优化建议\n",
    "\n",
    "**导出成果**\n",
    "- [ ] 文字合并：如何对待提纲中的标题，作为段落合并还是作为章节？\n",
    "- [ ] 支持局部导出\n",
    "- [ ] 支持仅导出大纲\n",
    "- 按格式输出\n",
    "  - [ ] markdown\n",
    "  - [ ] word\n",
    "  - [x] txt\n",
    "\n",
    "**修改能力：**\n",
    "- [ ] 删除：将内容及其子项剪切到删除环\n",
    "- [ ] 排序：先剪切，再插入\n",
    "- [ ] 重新生成提纲列表：若要重新生成提纲列表，必须手工清楚所有子项，否则禁止使用todo指令或对其修改\n",
    "- [ ] todo指令：仅针对子项尚未完成的对象（如刚刚完成的，或其他兄弟节点）\n",
    "- [ ] 修改提纲子项属性：需要单独使用title、words、howto等指令修改\n",
    "\n",
    "**其他设计：**\n",
    "- [ ] 支持对日志输出着色"
   ]
  },
  {
   "cell_type": "markdown",
   "id": "5da4a8f2-977b-4ebd-8102-60c768d19df4",
   "metadata": {},
   "source": [
    "## Bug"
   ]
  },
  {
   "cell_type": "markdown",
   "id": "4d6a3d17-456d-475b-a6ef-03f595537c9d",
   "metadata": {},
   "source": [
    "Bug清单：\n",
    "- [x] START 记忆确实存在，但无法通过 START@memory 正确提取\n",
    "- [x] ask 指令无法在当前节点重新生成\n",
    "- [x] todos清单增加一个标记为当前任务的状态：`[当前任务]`, `* <未完成>`, `<已完成>`\n",
    "- [x] is_completed 无法修改\n"
   ]
  },
  {
   "cell_type": "markdown",
   "id": "c9235cf3-0b5d-4682-9e0f-f1e395d03ee7",
   "metadata": {},
   "source": [
    "# WritingProject"
   ]
  },
  {
   "cell_type": "markdown",
   "id": "1a559bde-0913-4601-9033-fdba9c265979",
   "metadata": {},
   "source": [
    "## 每一步都询问：使用默认的智谱AI"
   ]
  },
  {
   "cell_type": "code",
   "execution_count": 3,
   "id": "ae344e34-dd8c-4e14-bbff-916c8c575893",
   "metadata": {},
   "outputs": [],
   "source": [
    "from langchain_chinese import WritingTask\n",
    "\n",
    "# 使用默认的智谱AI推理\n",
    "t = WritingTask()"
   ]
  },
  {
   "cell_type": "code",
   "execution_count": 4,
   "id": "92043152-3a8b-45dc-8870-bcb72193c822",
   "metadata": {},
   "outputs": [
    {
     "name": "stdout",
     "output_type": "stream",
     "text": [
      "-------------------- match --------------------\n",
      "(None, '致孩子的一封信, 800字')\n",
      "['move', 'todo', 'draft', 'all', 'task', 'ok']\n",
      "default command: task\n",
      "-------------------- invoke --------------------\n",
      "<class 'langchain_chinese.writing.task.WritingTask'>\n",
      "{'command': 'task', 'args': '致孩子的一封信, 800字'}\n",
      "```json\n",
      "{\n",
      "    \"总字数要求\": 800,\n",
      "    \"标题名称\": \"致孩子的一封信：成长的寄语\",\n",
      "    \"扩写指南\": \"本文是一封父母给予孩子的信，旨在表达对孩子的关爱、期许与鼓励。信中应涉及以下内容：回顾孩子成长的点滴，表达父母的爱与感激；针对孩子的个性特点提出建设性建议；分享人生经验，引导孩子树立正确价值观；最后，表达对孩子未来的美好祝愿。信中可提及孩子的兴趣爱好、父母与孩子的共同回忆，以及一些具体的生活例子。\"\n",
      "}\n",
      "```\n"
     ]
    },
    {
     "data": {
      "text/plain": [
       "{'command': 'task',\n",
       " 'args': '致孩子的一封信, 800字',\n",
       " 'reply': {'总字数要求': 800,\n",
       "  '标题名称': '致孩子的一封信：成长的寄语',\n",
       "  '扩写指南': '本文是一封父母给予孩子的信，旨在表达对孩子的关爱、期许与鼓励。信中应涉及以下内容：回顾孩子成长的点滴，表达父母的爱与感激；针对孩子的个性特点提出建设性建议；分享人生经验，引导孩子树立正确价值观；最后，表达对孩子未来的美好祝愿。信中可提及孩子的兴趣爱好、父母与孩子的共同回忆，以及一些具体的生活例子。'}}"
      ]
     },
     "execution_count": 4,
     "metadata": {},
     "output_type": "execute_result"
    }
   ],
   "source": [
    "t.step(\"致孩子的一封信, 800字\")"
   ]
  },
  {
   "cell_type": "code",
   "execution_count": 6,
   "id": "831bcb4b-ba7c-4f31-90fe-df8ccfb43aa3",
   "metadata": {},
   "outputs": [
    {
     "name": "stdout",
     "output_type": "stream",
     "text": [
      "-------------------- match --------------------\n",
      "('ok', '')\n",
      "['move', 'todo', 'draft', 'all', 'task', 'ok']\n",
      "default command: task\n",
      "-------------------- invoke --------------------\n",
      "<class 'langchain_chinese.writing.task.WritingTask'>\n",
      "{'command': 'ok', 'args': ''}\n",
      "<#init> ok\n"
     ]
    },
    {
     "data": {
      "text/plain": [
       "{'command': 'ok', 'args': '', 'reply': 'todo'}"
      ]
     },
     "execution_count": 6,
     "metadata": {},
     "output_type": "execute_result"
    }
   ],
   "source": [
    "t.step(\"ok\")"
   ]
  },
  {
   "cell_type": "code",
   "execution_count": 7,
   "id": "d1971afb-403c-47c7-afd3-59f9b3da2949",
   "metadata": {},
   "outputs": [
    {
     "name": "stdout",
     "output_type": "stream",
     "text": [
      "-------------------- match --------------------\n",
      "('task', '继续')\n",
      "['move', 'todo', 'draft', 'all', 'title', 'words_advice', 'howto', 'summarise', 'text', 'task', 'ok']\n",
      "default command: task\n",
      "-------------------- invoke --------------------\n",
      "<class 'langchain_chinese.writing.task.WritingTask'>\n",
      "{'command': 'task', 'args': '继续'}\n",
      "```json\n",
      "{\n",
      "  \"大纲列表\": [\n",
      "    {\n",
      "      \"总字数要求\": 250,\n",
      "      \"标题名称\": \"爱的表白\",\n",
      "      \"扩写指南\": \"描述对孩子的独特个性的欣赏，以及父母对孩子的深深的爱意和感激之情。可以提及孩子的一个特别的行为或兴趣，强调这是孩子独有的，让父母感到骄傲的特质。\"\n",
      "    },\n",
      "    {\n",
      "      \"总字数要求\": 250,\n",
      "      \"标题名称\": \"家庭智慧\",\n",
      "      \"扩写指南\": \"分享家庭的核心价值观和人生哲理，通过一些简单的故事或成语，如‘水滴石穿’、‘千里之行始于足下’，来阐述这些价值观和哲理的重要性，鼓励孩子在日常生活中实践它们。\"\n",
      "    },\n",
      "    {\n",
      "      \"总字数要求\": 200,\n",
      "      \"标题名称\": \"坚韧的力量\",\n",
      "      \"扩写指南\": \"用父母自己的经历或寓言故事，如‘愚公移山’，来鼓励孩子在遇到挑战时保持坚韧不拔的精神，告诉他们困难是成长的磨石。\"\n",
      "    },\n",
      "    {\n",
      "      \"总字数要求\": 100,\n",
      "      \"标题名称\": \"珍惜每分每秒\",\n",
      "      \"扩写指南\": \"提醒孩子时间的宝贵，鼓励他们珍惜每一刻，勇敢追求自己的梦想，不要畏惧失败，因为‘失败是成功之母’。\"\n",
      "    }\n",
      "  ]\n",
      "}\n",
      "```\n"
     ]
    },
    {
     "data": {
      "text/plain": [
       "{'command': 'task',\n",
       " 'args': '继续',\n",
       " 'reply': {'大纲列表': [{'总字数要求': 250,\n",
       "    '标题名称': '爱的表白',\n",
       "    '扩写指南': '描述对孩子的独特个性的欣赏，以及父母对孩子的深深的爱意和感激之情。可以提及孩子的一个特别的行为或兴趣，强调这是孩子独有的，让父母感到骄傲的特质。'},\n",
       "   {'总字数要求': 250,\n",
       "    '标题名称': '家庭智慧',\n",
       "    '扩写指南': '分享家庭的核心价值观和人生哲理，通过一些简单的故事或成语，如‘水滴石穿’、‘千里之行始于足下’，来阐述这些价值观和哲理的重要性，鼓励孩子在日常生活中实践它们。'},\n",
       "   {'总字数要求': 200,\n",
       "    '标题名称': '坚韧的力量',\n",
       "    '扩写指南': '用父母自己的经历或寓言故事，如‘愚公移山’，来鼓励孩子在遇到挑战时保持坚韧不拔的精神，告诉他们困难是成长的磨石。'},\n",
       "   {'总字数要求': 100,\n",
       "    '标题名称': '珍惜每分每秒',\n",
       "    '扩写指南': '提醒孩子时间的宝贵，鼓励他们珍惜每一刻，勇敢追求自己的梦想，不要畏惧失败，因为‘失败是成功之母’。'}]}}"
      ]
     },
     "execution_count": 7,
     "metadata": {},
     "output_type": "execute_result"
    }
   ],
   "source": [
    "t.step(\"task 继续\")"
   ]
  },
  {
   "cell_type": "code",
   "execution_count": 8,
   "id": "7ef0f995-bb21-41c3-885d-09685027ad48",
   "metadata": {},
   "outputs": [
    {
     "name": "stdout",
     "output_type": "stream",
     "text": [
      "-------------------- match --------------------\n",
      "('ok', '')\n",
      "['move', 'todo', 'draft', 'all', 'title', 'words_advice', 'howto', 'summarise', 'text', 'task', 'ok']\n",
      "default command: task\n",
      "-------------------- invoke --------------------\n",
      "<class 'langchain_chinese.writing.task.WritingTask'>\n",
      "{'command': 'ok', 'args': ''}\n",
      "<#todo> ok\n"
     ]
    },
    {
     "data": {
      "text/plain": [
       "{'command': 'ok', 'args': '', 'reply': 'done'}"
      ]
     },
     "execution_count": 8,
     "metadata": {},
     "output_type": "execute_result"
    }
   ],
   "source": [
    "t.step(\"ok\")"
   ]
  },
  {
   "cell_type": "markdown",
   "id": "24c84c55-031d-49dc-8e64-d04c56723f59",
   "metadata": {},
   "source": [
    "## 全自动生成：使用默认的智谱AI"
   ]
  }
 ],
 "metadata": {
  "kernelspec": {
   "display_name": "langchain-chinese-py3.9-ipkyernel",
   "language": "python",
   "name": "langchain-chinese-py3.9-ipkyernel"
  },
  "language_info": {
   "codemirror_mode": {
    "name": "ipython",
    "version": 3
   },
   "file_extension": ".py",
   "mimetype": "text/x-python",
   "name": "python",
   "nbconvert_exporter": "python",
   "pygments_lexer": "ipython3",
   "version": "3.9.18"
  }
 },
 "nbformat": 4,
 "nbformat_minor": 5
}
