{
 "cells": [
  {
   "cell_type": "code",
   "execution_count": 1,
   "id": "f3045be3-ca71-46ba-8fa3-f6d999a63a5c",
   "metadata": {},
   "outputs": [],
   "source": [
    "import os\n",
    "from dotenv import load_dotenv, find_dotenv\n",
    "load_dotenv(find_dotenv(), override=True)\n",
    "\n",
    "os.chdir('..')"
   ]
  },
  {
   "cell_type": "markdown",
   "id": "c9235cf3-0b5d-4682-9e0f-f1e395d03ee7",
   "metadata": {},
   "source": [
    "# WritingProject"
   ]
  },
  {
   "cell_type": "markdown",
   "id": "7e066244-c7b5-4e72-bb0f-26a262e211e4",
   "metadata": {},
   "source": [
    "## 长文内容结构"
   ]
  },
  {
   "cell_type": "code",
   "execution_count": 2,
   "id": "5a103957-027a-488f-a944-d1e4b17e3aea",
   "metadata": {},
   "outputs": [],
   "source": [
    "from langchain_chinese import TreeContent\n",
    "root = TreeContent()\n",
    "\n",
    "t1 = root.add_item(TreeContent(text=\"H1\"))\n",
    "t2 = root.add_item(TreeContent(text=\"H2\"))"
   ]
  },
  {
   "cell_type": "code",
   "execution_count": 3,
   "id": "49d4fea1-3f38-47c0-880c-089fd401f0ef",
   "metadata": {},
   "outputs": [
    {
     "data": {
      "text/plain": [
       "'20240505.105434.00003.723'"
      ]
     },
     "execution_count": 3,
     "metadata": {},
     "output_type": "execute_result"
    }
   ],
   "source": [
    "t2"
   ]
  },
  {
   "cell_type": "code",
   "execution_count": 4,
   "id": "57403c11-d266-4995-bf96-d5ef32e2a228",
   "metadata": {},
   "outputs": [
    {
     "data": {
      "text/plain": [
       "TreeContent(id='20240505.105436.00004.159', type='paragraph', is_completed=False, words_advice=500, summarise=None, text='my headline 1', children=[], path=None)"
      ]
     },
     "execution_count": 4,
     "metadata": {},
     "output_type": "execute_result"
    }
   ],
   "source": [
    "h1 = root.get_item_by_id(t1)\n",
    "h2_id = h1.add_item(TreeContent(text=\"my headline 1\"))\n",
    "root.get_item_by_id(h2_id)"
   ]
  },
  {
   "cell_type": "code",
   "execution_count": 7,
   "id": "d5a3cb18-afde-42e7-aa36-5d20a3d246d4",
   "metadata": {},
   "outputs": [
    {
     "data": {
      "text/plain": [
       "[{'id': '20240505.105434.00001.560', 'type': 'outline'},\n",
       " {'id': '20240505.105434.00002.734', 'type': 'outline'},\n",
       " {'id': '20240505.105436.00004.159', 'type': 'paragraph'},\n",
       " {'id': '20240505.105434.00003.723', 'type': 'paragraph'}]"
      ]
     },
     "execution_count": 7,
     "metadata": {},
     "output_type": "execute_result"
    }
   ],
   "source": [
    "root.all_todos()"
   ]
  },
  {
   "cell_type": "code",
   "execution_count": 8,
   "id": "3bf3da3b-7d1f-45ea-a1f8-403bfef5d730",
   "metadata": {},
   "outputs": [
    {
     "data": {
      "text/plain": [
       "TreeContent(id='20240505.105436.00004.159', type='paragraph', is_completed=False, words_advice=500, summarise=None, text='my headline 1', children=[], path=None)"
      ]
     },
     "execution_count": 8,
     "metadata": {},
     "output_type": "execute_result"
    }
   ],
   "source": [
    "t1 = root.next_todo()\n",
    "t1"
   ]
  },
  {
   "cell_type": "code",
   "execution_count": 9,
   "id": "74118c26-5703-4c87-b1af-7613deda8cbb",
   "metadata": {},
   "outputs": [],
   "source": [
    "t1.is_completed=True"
   ]
  },
  {
   "cell_type": "code",
   "execution_count": 10,
   "id": "2a613507-f174-4756-be74-e8eb5f2f25c9",
   "metadata": {},
   "outputs": [
    {
     "data": {
      "text/plain": [
       "TreeContent(id='20240505.105434.00003.723', type='paragraph', is_completed=False, words_advice=500, summarise=None, text='H2', children=[], path=None)"
      ]
     },
     "execution_count": 10,
     "metadata": {},
     "output_type": "execute_result"
    }
   ],
   "source": [
    "t2 = root.next_todo()\n",
    "t2"
   ]
  },
  {
   "cell_type": "code",
   "execution_count": 11,
   "id": "6e532772-46a3-4ddf-ba39-012712132338",
   "metadata": {},
   "outputs": [],
   "source": [
    "t2.is_completed=True"
   ]
  },
  {
   "cell_type": "code",
   "execution_count": 13,
   "id": "55801a7d-f62c-4761-90f3-fba2bbb7cc1a",
   "metadata": {},
   "outputs": [
    {
     "data": {
      "text/plain": [
       "[{'id': '20240505.105434.00001.560', 'type': 'outline'},\n",
       " {'id': '20240505.105434.00002.734', 'type': 'outline'}]"
      ]
     },
     "execution_count": 13,
     "metadata": {},
     "output_type": "execute_result"
    }
   ],
   "source": [
    "root.all_todos()"
   ]
  },
  {
   "cell_type": "markdown",
   "id": "19cab73a-a961-4052-9623-853b776b96c6",
   "metadata": {},
   "source": [
    "## 长文写作智能体"
   ]
  },
  {
   "cell_type": "code",
   "execution_count": 24,
   "id": "cba50ccd-0883-40a6-bd91-c86ae9f2d78f",
   "metadata": {},
   "outputs": [],
   "source": [
    "from langchain.pydantic_v1 import BaseModel, Field, root_validator\n",
    "from langchain_zhipu import ChatZhipuAI\n",
    "from langchain.prompts import ChatPromptTemplate\n",
    "from langchain_core.output_parsers import JsonOutputParser\n",
    "import json\n",
    "import re\n",
    "\n",
    "TASK_INSTRUCTIONS = \"\"\"\n",
    "你是一名优秀的写手，可以构思写作思路、扩展写作提纲、细化段落内容，\n",
    "\n",
    "请务必记住：\n",
    "1. 当你收到新的写作任务，你应当做两种选择，要么输出写作提纲，要么输出细化的写作内容。\n",
    "2. 你输出的内容规定为最大不超过300字。\n",
    "3. 如果发现用户要求的字数超出了最大限制规定，你就必须输出写作提纲；反之，你就输出段落内容。\n",
    "4. 写作提纲中的大纲数量必须大于2，否则就没必要作为写作提纲，直接输出为段落内容即可。\n",
    "\n",
    "例如：\n",
    "用户要求字数1500字左右，此时超出了300字的写作限定，你必须输出“写作提纲”，可以分为5个部份，每部份约300字左右；\n",
    "用户要求字数80字左右，此时符合300字左右的限定，你必须输出为“段落内容”。\n",
    "\n",
    "如果你决定输出“写作提纲”，就请按照如下格式输出写作大纲：\n",
    "```json\n",
    "{\n",
    "    \"类型\": \"outlines\",\n",
    "    \"大纲列表\": [\n",
    "        {\"标题名称\": \"标题名称\", \"字数要求\": 字数要求（int类型）, \"内容摘要\": 内容摘要},\n",
    "        {\"标题名称\": \"标题名称\", \"字数要求\": 字数要求（int类型）, \"内容摘要\": 内容摘要},\n",
    "        （更多行）\n",
    "        {\"标题名称\": \"标题名称\", \"字数要求\": 字数要求（int类型）, \"内容摘要\": 内容摘要}\n",
    "    ],\n",
    "    \"大纲数量\": 与以上列表相符的大纲数量\n",
    "}\n",
    "```\n",
    "\n",
    "如果你决定输出“段落内容”，就请按照如下格式输出：\n",
    "```json\n",
    "{\n",
    "    \"类型\": \"paragraph\",\n",
    "    \"字数要求\": 字数要求（int类型）,\n",
    "    \"内容\": \"你的详细输出\"\n",
    "}\n",
    "```\n",
    "\n",
    "只输出上述的JSON内容即可，其他不必输出。\n",
    "\"\"\"\n",
    "\n",
    "def get_input(prompt: str = \"\\n👤: \") -> str:\n",
    "    return input(prompt)\n",
    "\n",
    "class WritingProject(BaseModel):\n",
    "    \"\"\"\n",
    "    写作管理。\n",
    "    \"\"\"\n",
    "    root_content = TreeContent()\n",
    "\n",
    "    # 游标从根文档开始\n",
    "    cur_content = root_content\n",
    "\n",
    "    # 控制参数\n",
    "    words_per_step = 300\n",
    "    words_all_limit = 1000\n",
    "\n",
    "    # - 子任务可以配置为几种处置方案：Skip / Redo / AskMe\n",
    "    # - Skip 可以跳过处理，采纳原有的结果或暂时不处理\n",
    "    # - Redo 重新分配 session_id 生成，但用户全部自动回复 OK \n",
    "    # - RedoN 未来可支持 Redo N 次，由 LLM 代替用户做最多 N 次评估\n",
    "    # - AskMe 重新分配 session_id 生成，但要求用户介入评估\n",
    "    default_task_mode = \"AskMe\"\n",
    "\n",
    "    streaming = False\n",
    "\n",
    "    def next_step(self):\n",
    "        pass\n",
    "\n",
    "    def ask_user(self, ai_said: str = \"\") -> tuple:\n",
    "        resp = get_input()\n",
    "        content = \"\"\n",
    "        command = \"\"\n",
    "    \n",
    "        if(resp == \"quit\"):\n",
    "            command = \"quit\"\n",
    "        elif(resp == \"ok\"):\n",
    "            content = ai_said\n",
    "            command = \"ok\"\n",
    "        else:\n",
    "            content = resp\n",
    "            command = \"chat\"\n",
    "    \n",
    "        return content, command\n",
    "\n",
    "    def get_chain(self):\n",
    "        prompt_init = ChatPromptTemplate.from_messages([\n",
    "            (\"system\", TASK_INSTRUCTIONS),\n",
    "            (\"user\", \"{{input}}\")\n",
    "        ], template_format='jinja2')\n",
    "\n",
    "        prompt_detail = ChatPromptTemplate.from_messages([\n",
    "            (\"system\", TASK_INSTRUCTIONS),\n",
    "            (\"assistant\", \"之前的写作提纲为: {{outlines}}\"),\n",
    "            (\"user\", \"{{input}}。请注意，你现在的写作任务是上面已有提纲的一部份\")\n",
    "        ], template_format='jinja2')\n",
    "\n",
    "        return (prompt_init | ChatZhipuAI() | JsonOutputParser())\n",
    "\n",
    "    def run(self):\n",
    "        # 初始化链\n",
    "        chain = self.get_chain()\n",
    "        ai_said = {}\n",
    "\n",
    "        while True:\n",
    "            # 用户输入\n",
    "            user_said, command = self.ask_user(ai_said)\n",
    "\n",
    "            if command == \"quit\":\n",
    "                print(\"-\"*20, \"quit\")\n",
    "                break\n",
    "                \n",
    "            elif command == \"ok\":\n",
    "                print(\"-\"*20, \"ok\")\n",
    "\n",
    "                # 生成目录或文件\n",
    "                if \"类型\" in ai_said:\n",
    "                    task_type = ai_said['类型']\n",
    "                else:\n",
    "                    print(\"Error AI Said: \", ai_said)\n",
    "                    continue\n",
    "\n",
    "                # 如果确认要生成大纲\n",
    "                if task_type == \"outlines\":\n",
    "                    for item in ai_said['大纲列表']:\n",
    "                        self.cur_content.add_item(TreeContent(\n",
    "                            words_advice = item['字数要求'],\n",
    "                            text = item['标题名称'],\n",
    "                            summarise = item['内容摘要'],\n",
    "                            is_completed = False,\n",
    "                        ))\n",
    "                    # 生成子任务后，提纲自身的任务就算完成了\n",
    "                    self.cur_content.is_completed = True\n",
    "                elif task_type == \"paragraph\":\n",
    "                    self.cur_content.text = item['内容']\n",
    "                    self.cur_content.words_advice = item['字数要求'],\n",
    "                    self.cur_content.is_completed = True\n",
    "                else:\n",
    "                    print(\"Error JSON: \", ai_said)\n",
    "                    continue\n",
    "\n",
    "                # 获取下一个任务的计划\n",
    "                next_todo = self.root_content.next_todo()\n",
    "                \n",
    "                if next_todo:\n",
    "                    # 如果下一个任务存在，继续转移到新的任务主题\n",
    "                    self.cur_content = next_todo\n",
    "                    user_said = f'请帮我扩写{next_todo.text}，内容摘要为{next_todo.summarise}, 字数不少于{next_todo.words_advice}'\n",
    "                    chain = self.get_chain()\n",
    "                else:\n",
    "                    # 如果没有下一个任务，就结束\n",
    "                    print(\"-\"*20, \"task complete!\")\n",
    "                    print(self.root_content.all_todos())\n",
    "                    break;\n",
    "                \n",
    "            if len(user_said) > 0:\n",
    "                # 如果根文档内容为空，就采纳用户输入的第一句不为特定\n",
    "                if self.root_content.text == None:\n",
    "                    self.root_content.text = user_said\n",
    "                    \n",
    "                # AI推理\n",
    "                if self.streaming:\n",
    "                    for ai_said in chain.stream(user_said):\n",
    "                        print(ai_said, flush=True)\n",
    "                else:\n",
    "                    ai_said = chain.invoke(user_said)\n",
    "                    print(ai_said)\n",
    "\n",
    "            print(\"-\"*20, \"当前任务状态\", \"-\"*20)\n",
    "            print(self.root_content.all_todos())\n"
   ]
  },
  {
   "cell_type": "code",
   "execution_count": 25,
   "id": "b1bd3e5c-0a1e-4880-bc06-ced0d86e4ddf",
   "metadata": {},
   "outputs": [
    {
     "name": "stdin",
     "output_type": "stream",
     "text": [
      "\n",
      "👤:  帮我写一个500字小故事\n"
     ]
    },
    {
     "name": "stdout",
     "output_type": "stream",
     "text": [
      "{'类型': 'outlines', '大纲列表': [{'标题名称': '开篇', '字数要求': 100, '内容摘要': '介绍故事的背景和主人公'}, {'标题名称': '冲突', '字数要求': 150, '内容摘要': '描述主人公遇到的困难和挑战'}, {'标题名称': '发展', '字数要求': 100, '内容摘要': '主人公如何应对困难，寻求解决方案'}, {'标题名称': '高潮', '字数要求': 100, '内容摘要': '故事达到高潮，展示主人公的勇敢和智慧'}, {'标题名称': '结局', '字数要求': 50, '内容摘要': '故事圆满结束，总结主人公的成长和收获'}], '大纲数量': 5}\n",
      "-------------------- 当前任务状态 --------------------\n",
      "[{'id': '20240505.110930.00014.605', 'type': 'paragraph'}]\n"
     ]
    },
    {
     "name": "stdin",
     "output_type": "stream",
     "text": [
      "\n",
      "👤:  \n"
     ]
    },
    {
     "name": "stdout",
     "output_type": "stream",
     "text": [
      "-------------------- 当前任务状态 --------------------\n",
      "[{'id': '20240505.110930.00014.605', 'type': 'paragraph'}]\n"
     ]
    },
    {
     "name": "stdin",
     "output_type": "stream",
     "text": [
      "\n",
      "👤:  \n"
     ]
    },
    {
     "name": "stdout",
     "output_type": "stream",
     "text": [
      "-------------------- 当前任务状态 --------------------\n",
      "[{'id': '20240505.110930.00014.605', 'type': 'paragraph'}]\n"
     ]
    },
    {
     "name": "stdin",
     "output_type": "stream",
     "text": [
      "\n",
      "👤:  quit\n"
     ]
    },
    {
     "name": "stdout",
     "output_type": "stream",
     "text": [
      "-------------------- quit\n"
     ]
    }
   ],
   "source": [
    "wp = WritingProject()\n",
    "wp.run()"
   ]
  },
  {
   "cell_type": "code",
   "execution_count": 88,
   "id": "1f8f3ca2-8abe-4f15-aa3d-b729804cbf08",
   "metadata": {
    "scrolled": true
   },
   "outputs": [
    {
     "name": "stdin",
     "output_type": "stream",
     "text": [
      "\n",
      "👤:  帮我写一个500字小故事\n"
     ]
    },
    {
     "name": "stdout",
     "output_type": "stream",
     "text": [
      "{}\n",
      "{'类型': ''}\n",
      "{'类型': 'out'}\n",
      "{'类型': 'outlines'}\n",
      "{'类型': 'outlines', '大纲列表': []}\n",
      "{'类型': 'outlines', '大纲列表': [{}]}\n",
      "{'类型': 'outlines', '大纲列表': [{'标题名称': ''}]}\n",
      "{'类型': 'outlines', '大纲列表': [{'标题名称': '开'}]}\n",
      "{'类型': 'outlines', '大纲列表': [{'标题名称': '开篇'}]}\n",
      "{'类型': 'outlines', '大纲列表': [{'标题名称': '开篇', '字数要求': 100}]}\n",
      "{'类型': 'outlines', '大纲列表': [{'标题名称': '开篇', '字数要求': 100, '内容摘要': ''}]}\n",
      "{'类型': 'outlines', '大纲列表': [{'标题名称': '开篇', '字数要求': 100, '内容摘要': '描述'}]}\n",
      "{'类型': 'outlines', '大纲列表': [{'标题名称': '开篇', '字数要求': 100, '内容摘要': '描述故事'}]}\n",
      "{'类型': 'outlines', '大纲列表': [{'标题名称': '开篇', '字数要求': 100, '内容摘要': '描述故事背景'}]}\n",
      "{'类型': 'outlines', '大纲列表': [{'标题名称': '开篇', '字数要求': 100, '内容摘要': '描述故事背景和'}]}\n",
      "{'类型': 'outlines', '大纲列表': [{'标题名称': '开篇', '字数要求': 100, '内容摘要': '描述故事背景和主人公'}]}\n",
      "{'类型': 'outlines', '大纲列表': [{'标题名称': '开篇', '字数要求': 100, '内容摘要': '描述故事背景和主人公'}, {}]}\n",
      "{'类型': 'outlines', '大纲列表': [{'标题名称': '开篇', '字数要求': 100, '内容摘要': '描述故事背景和主人公'}, {'标题名称': ''}]}\n",
      "{'类型': 'outlines', '大纲列表': [{'标题名称': '开篇', '字数要求': 100, '内容摘要': '描述故事背景和主人公'}, {'标题名称': '冲突'}]}\n",
      "{'类型': 'outlines', '大纲列表': [{'标题名称': '开篇', '字数要求': 100, '内容摘要': '描述故事背景和主人公'}, {'标题名称': '冲突', '字数要求': 150}]}\n",
      "{'类型': 'outlines', '大纲列表': [{'标题名称': '开篇', '字数要求': 100, '内容摘要': '描述故事背景和主人公'}, {'标题名称': '冲突', '字数要求': 150, '内容摘要': ''}]}\n",
      "{'类型': 'outlines', '大纲列表': [{'标题名称': '开篇', '字数要求': 100, '内容摘要': '描述故事背景和主人公'}, {'标题名称': '冲突', '字数要求': 150, '内容摘要': '描述'}]}\n",
      "{'类型': 'outlines', '大纲列表': [{'标题名称': '开篇', '字数要求': 100, '内容摘要': '描述故事背景和主人公'}, {'标题名称': '冲突', '字数要求': 150, '内容摘要': '描述主人公'}]}\n",
      "{'类型': 'outlines', '大纲列表': [{'标题名称': '开篇', '字数要求': 100, '内容摘要': '描述故事背景和主人公'}, {'标题名称': '冲突', '字数要求': 150, '内容摘要': '描述主人公遇到的'}]}\n",
      "{'类型': 'outlines', '大纲列表': [{'标题名称': '开篇', '字数要求': 100, '内容摘要': '描述故事背景和主人公'}, {'标题名称': '冲突', '字数要求': 150, '内容摘要': '描述主人公遇到的困难和'}]}\n",
      "{'类型': 'outlines', '大纲列表': [{'标题名称': '开篇', '字数要求': 100, '内容摘要': '描述故事背景和主人公'}, {'标题名称': '冲突', '字数要求': 150, '内容摘要': '描述主人公遇到的困难和挑战'}]}\n",
      "{'类型': 'outlines', '大纲列表': [{'标题名称': '开篇', '字数要求': 100, '内容摘要': '描述故事背景和主人公'}, {'标题名称': '冲突', '字数要求': 150, '内容摘要': '描述主人公遇到的困难和挑战'}, {}]}\n",
      "{'类型': 'outlines', '大纲列表': [{'标题名称': '开篇', '字数要求': 100, '内容摘要': '描述故事背景和主人公'}, {'标题名称': '冲突', '字数要求': 150, '内容摘要': '描述主人公遇到的困难和挑战'}, {'标题名称': ''}]}\n",
      "{'类型': 'outlines', '大纲列表': [{'标题名称': '开篇', '字数要求': 100, '内容摘要': '描述故事背景和主人公'}, {'标题名称': '冲突', '字数要求': 150, '内容摘要': '描述主人公遇到的困难和挑战'}, {'标题名称': '转折'}]}\n",
      "{'类型': 'outlines', '大纲列表': [{'标题名称': '开篇', '字数要求': 100, '内容摘要': '描述故事背景和主人公'}, {'标题名称': '冲突', '字数要求': 150, '内容摘要': '描述主人公遇到的困难和挑战'}, {'标题名称': '转折', '字数要求': 150}]}\n",
      "{'类型': 'outlines', '大纲列表': [{'标题名称': '开篇', '字数要求': 100, '内容摘要': '描述故事背景和主人公'}, {'标题名称': '冲突', '字数要求': 150, '内容摘要': '描述主人公遇到的困难和挑战'}, {'标题名称': '转折', '字数要求': 150, '内容摘要': ''}]}\n",
      "{'类型': 'outlines', '大纲列表': [{'标题名称': '开篇', '字数要求': 100, '内容摘要': '描述故事背景和主人公'}, {'标题名称': '冲突', '字数要求': 150, '内容摘要': '描述主人公遇到的困难和挑战'}, {'标题名称': '转折', '字数要求': 150, '内容摘要': '描述'}]}\n",
      "{'类型': 'outlines', '大纲列表': [{'标题名称': '开篇', '字数要求': 100, '内容摘要': '描述故事背景和主人公'}, {'标题名称': '冲突', '字数要求': 150, '内容摘要': '描述主人公遇到的困难和挑战'}, {'标题名称': '转折', '字数要求': 150, '内容摘要': '描述故事的'}]}\n",
      "{'类型': 'outlines', '大纲列表': [{'标题名称': '开篇', '字数要求': 100, '内容摘要': '描述故事背景和主人公'}, {'标题名称': '冲突', '字数要求': 150, '内容摘要': '描述主人公遇到的困难和挑战'}, {'标题名称': '转折', '字数要求': 150, '内容摘要': '描述故事的转折'}]}\n",
      "{'类型': 'outlines', '大纲列表': [{'标题名称': '开篇', '字数要求': 100, '内容摘要': '描述故事背景和主人公'}, {'标题名称': '冲突', '字数要求': 150, '内容摘要': '描述主人公遇到的困难和挑战'}, {'标题名称': '转折', '字数要求': 150, '内容摘要': '描述故事的转折点'}]}\n",
      "{'类型': 'outlines', '大纲列表': [{'标题名称': '开篇', '字数要求': 100, '内容摘要': '描述故事背景和主人公'}, {'标题名称': '冲突', '字数要求': 150, '内容摘要': '描述主人公遇到的困难和挑战'}, {'标题名称': '转折', '字数要求': 150, '内容摘要': '描述故事的转折点，'}]}\n",
      "{'类型': 'outlines', '大纲列表': [{'标题名称': '开篇', '字数要求': 100, '内容摘要': '描述故事背景和主人公'}, {'标题名称': '冲突', '字数要求': 150, '内容摘要': '描述主人公遇到的困难和挑战'}, {'标题名称': '转折', '字数要求': 150, '内容摘要': '描述故事的转折点，主人公'}]}\n",
      "{'类型': 'outlines', '大纲列表': [{'标题名称': '开篇', '字数要求': 100, '内容摘要': '描述故事背景和主人公'}, {'标题名称': '冲突', '字数要求': 150, '内容摘要': '描述主人公遇到的困难和挑战'}, {'标题名称': '转折', '字数要求': 150, '内容摘要': '描述故事的转折点，主人公如何'}]}\n",
      "{'类型': 'outlines', '大纲列表': [{'标题名称': '开篇', '字数要求': 100, '内容摘要': '描述故事背景和主人公'}, {'标题名称': '冲突', '字数要求': 150, '内容摘要': '描述主人公遇到的困难和挑战'}, {'标题名称': '转折', '字数要求': 150, '内容摘要': '描述故事的转折点，主人公如何应对'}]}\n",
      "{'类型': 'outlines', '大纲列表': [{'标题名称': '开篇', '字数要求': 100, '内容摘要': '描述故事背景和主人公'}, {'标题名称': '冲突', '字数要求': 150, '内容摘要': '描述主人公遇到的困难和挑战'}, {'标题名称': '转折', '字数要求': 150, '内容摘要': '描述故事的转折点，主人公如何应对'}, {}]}\n",
      "{'类型': 'outlines', '大纲列表': [{'标题名称': '开篇', '字数要求': 100, '内容摘要': '描述故事背景和主人公'}, {'标题名称': '冲突', '字数要求': 150, '内容摘要': '描述主人公遇到的困难和挑战'}, {'标题名称': '转折', '字数要求': 150, '内容摘要': '描述故事的转折点，主人公如何应对'}, {'标题名称': ''}]}\n",
      "{'类型': 'outlines', '大纲列表': [{'标题名称': '开篇', '字数要求': 100, '内容摘要': '描述故事背景和主人公'}, {'标题名称': '冲突', '字数要求': 150, '内容摘要': '描述主人公遇到的困难和挑战'}, {'标题名称': '转折', '字数要求': 150, '内容摘要': '描述故事的转折点，主人公如何应对'}, {'标题名称': '结局'}]}\n",
      "{'类型': 'outlines', '大纲列表': [{'标题名称': '开篇', '字数要求': 100, '内容摘要': '描述故事背景和主人公'}, {'标题名称': '冲突', '字数要求': 150, '内容摘要': '描述主人公遇到的困难和挑战'}, {'标题名称': '转折', '字数要求': 150, '内容摘要': '描述故事的转折点，主人公如何应对'}, {'标题名称': '结局', '字数要求': 100}]}\n",
      "{'类型': 'outlines', '大纲列表': [{'标题名称': '开篇', '字数要求': 100, '内容摘要': '描述故事背景和主人公'}, {'标题名称': '冲突', '字数要求': 150, '内容摘要': '描述主人公遇到的困难和挑战'}, {'标题名称': '转折', '字数要求': 150, '内容摘要': '描述故事的转折点，主人公如何应对'}, {'标题名称': '结局', '字数要求': 100, '内容摘要': ''}]}\n",
      "{'类型': 'outlines', '大纲列表': [{'标题名称': '开篇', '字数要求': 100, '内容摘要': '描述故事背景和主人公'}, {'标题名称': '冲突', '字数要求': 150, '内容摘要': '描述主人公遇到的困难和挑战'}, {'标题名称': '转折', '字数要求': 150, '内容摘要': '描述故事的转折点，主人公如何应对'}, {'标题名称': '结局', '字数要求': 100, '内容摘要': '描述'}]}\n",
      "{'类型': 'outlines', '大纲列表': [{'标题名称': '开篇', '字数要求': 100, '内容摘要': '描述故事背景和主人公'}, {'标题名称': '冲突', '字数要求': 150, '内容摘要': '描述主人公遇到的困难和挑战'}, {'标题名称': '转折', '字数要求': 150, '内容摘要': '描述故事的转折点，主人公如何应对'}, {'标题名称': '结局', '字数要求': 100, '内容摘要': '描述故事的'}]}\n",
      "{'类型': 'outlines', '大纲列表': [{'标题名称': '开篇', '字数要求': 100, '内容摘要': '描述故事背景和主人公'}, {'标题名称': '冲突', '字数要求': 150, '内容摘要': '描述主人公遇到的困难和挑战'}, {'标题名称': '转折', '字数要求': 150, '内容摘要': '描述故事的转折点，主人公如何应对'}, {'标题名称': '结局', '字数要求': 100, '内容摘要': '描述故事的结局'}]}\n",
      "{'类型': 'outlines', '大纲列表': [{'标题名称': '开篇', '字数要求': 100, '内容摘要': '描述故事背景和主人公'}, {'标题名称': '冲突', '字数要求': 150, '内容摘要': '描述主人公遇到的困难和挑战'}, {'标题名称': '转折', '字数要求': 150, '内容摘要': '描述故事的转折点，主人公如何应对'}, {'标题名称': '结局', '字数要求': 100, '内容摘要': '描述故事的结局，'}]}\n",
      "{'类型': 'outlines', '大纲列表': [{'标题名称': '开篇', '字数要求': 100, '内容摘要': '描述故事背景和主人公'}, {'标题名称': '冲突', '字数要求': 150, '内容摘要': '描述主人公遇到的困难和挑战'}, {'标题名称': '转折', '字数要求': 150, '内容摘要': '描述故事的转折点，主人公如何应对'}, {'标题名称': '结局', '字数要求': 100, '内容摘要': '描述故事的结局，主人公'}]}\n",
      "{'类型': 'outlines', '大纲列表': [{'标题名称': '开篇', '字数要求': 100, '内容摘要': '描述故事背景和主人公'}, {'标题名称': '冲突', '字数要求': 150, '内容摘要': '描述主人公遇到的困难和挑战'}, {'标题名称': '转折', '字数要求': 150, '内容摘要': '描述故事的转折点，主人公如何应对'}, {'标题名称': '结局', '字数要求': 100, '内容摘要': '描述故事的结局，主人公的成长'}]}\n",
      "{'类型': 'outlines', '大纲列表': [{'标题名称': '开篇', '字数要求': 100, '内容摘要': '描述故事背景和主人公'}, {'标题名称': '冲突', '字数要求': 150, '内容摘要': '描述主人公遇到的困难和挑战'}, {'标题名称': '转折', '字数要求': 150, '内容摘要': '描述故事的转折点，主人公如何应对'}, {'标题名称': '结局', '字数要求': 100, '内容摘要': '描述故事的结局，主人公的成长和'}]}\n",
      "{'类型': 'outlines', '大纲列表': [{'标题名称': '开篇', '字数要求': 100, '内容摘要': '描述故事背景和主人公'}, {'标题名称': '冲突', '字数要求': 150, '内容摘要': '描述主人公遇到的困难和挑战'}, {'标题名称': '转折', '字数要求': 150, '内容摘要': '描述故事的转折点，主人公如何应对'}, {'标题名称': '结局', '字数要求': 100, '内容摘要': '描述故事的结局，主人公的成长和收获'}]}\n",
      "{'类型': 'outlines', '大纲列表': [{'标题名称': '开篇', '字数要求': 100, '内容摘要': '描述故事背景和主人公'}, {'标题名称': '冲突', '字数要求': 150, '内容摘要': '描述主人公遇到的困难和挑战'}, {'标题名称': '转折', '字数要求': 150, '内容摘要': '描述故事的转折点，主人公如何应对'}, {'标题名称': '结局', '字数要求': 100, '内容摘要': '描述故事的结局，主人公的成长和收获'}], '大纲数量': 4}\n"
     ]
    },
    {
     "name": "stdin",
     "output_type": "stream",
     "text": [
      "\n",
      "👤:  quit\n"
     ]
    },
    {
     "name": "stdout",
     "output_type": "stream",
     "text": [
      "-------------------- quit\n"
     ]
    }
   ],
   "source": [
    "wp = WritingProject(streaming=True)\n",
    "wp.run()"
   ]
  },
  {
   "cell_type": "code",
   "execution_count": null,
   "id": "8ad55e6d-776b-4bb8-9136-2da444e493d2",
   "metadata": {},
   "outputs": [],
   "source": []
  }
 ],
 "metadata": {
  "kernelspec": {
   "display_name": "langchain-chinese-py3.9-ipkyernel",
   "language": "python",
   "name": "langchain-chinese-py3.9-ipkyernel"
  },
  "language_info": {
   "codemirror_mode": {
    "name": "ipython",
    "version": 3
   },
   "file_extension": ".py",
   "mimetype": "text/x-python",
   "name": "python",
   "nbconvert_exporter": "python",
   "pygments_lexer": "ipython3",
   "version": "3.9.18"
  }
 },
 "nbformat": 4,
 "nbformat_minor": 5
}
