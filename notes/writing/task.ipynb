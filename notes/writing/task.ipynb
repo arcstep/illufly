{
 "cells": [
  {
   "cell_type": "code",
   "execution_count": 1,
   "id": "f3045be3-ca71-46ba-8fa3-f6d999a63a5c",
   "metadata": {},
   "outputs": [
    {
     "data": {
      "text/plain": [
       "True"
      ]
     },
     "execution_count": 1,
     "metadata": {},
     "output_type": "execute_result"
    }
   ],
   "source": [
    "import os\n",
    "from dotenv import load_dotenv, find_dotenv\n",
    "load_dotenv(find_dotenv(), override=True)"
   ]
  },
  {
   "cell_type": "markdown",
   "id": "c9235cf3-0b5d-4682-9e0f-f1e395d03ee7",
   "metadata": {},
   "source": [
    "# WritingProject"
   ]
  },
  {
   "cell_type": "markdown",
   "id": "7e066244-c7b5-4e72-bb0f-26a262e211e4",
   "metadata": {},
   "source": [
    "## 长文内容结构"
   ]
  },
  {
   "cell_type": "code",
   "execution_count": 2,
   "id": "c1116c66-4d20-4f01-be75-645e97d0e20d",
   "metadata": {},
   "outputs": [],
   "source": [
    "from langchain.pydantic_v1 import BaseModel, Field, root_validator\n",
    "from typing import Any, Dict, Iterator, List, Optional, Union\n",
    "import datetime\n",
    "import random\n",
    "\n",
    "global_id = 0\n",
    "\n",
    "def create_content_id():\n",
    "    global global_id\n",
    "    now = datetime.datetime.now()\n",
    "    random_digits = random.randint(100, 999)  # 生成一个四位的随机数\n",
    "\n",
    "    # 更新 global_id\n",
    "    global_id += 1\n",
    "    if global_id > 99999:\n",
    "        global_id = 0\n",
    "    global_id_str = str(global_id).zfill(5)\n",
    "\n",
    "    return now.strftime(f\"%Y%m%d.%H%M%S.{global_id_str}.{random_digits}\")\n",
    "    \n",
    "class BaseContent(BaseModel):\n",
    "    id: Optional[str] = None\n",
    "    topic: Optional[str] = None\n",
    "    path: Optional[str] = None\n",
    "\n",
    "    def load(self):\n",
    "        pass  # 实现加载逻辑\n",
    "\n",
    "    def save(self):\n",
    "        pass  # 实现保存逻辑\n",
    "\n",
    "    @root_validator\n",
    "    def auto_generate_id(cls, value):\n",
    "        if value['id'] is None:\n",
    "            value['id'] = create_content_id()   \n",
    "        return value\n",
    "\n",
    "class DetailContent(BaseContent):\n",
    "    text: Optional[str] = None\n",
    "\n",
    "class OutlineContent(BaseContent):\n",
    "    children: List[BaseContent] = []\n",
    "\n",
    "    def add_content(self, content: BaseContent):\n",
    "        if self.children is None:\n",
    "            self.children = []\n",
    "        self.children.append(content)\n",
    "\n",
    "        return content.id\n",
    "\n",
    "    def get_content(self, content_id: str) -> Optional[BaseContent]:\n",
    "        \"\"\"递归查询并返回指定id的Content\"\"\"\n",
    "        if self.id == content_id:\n",
    "            return self\n",
    "\n",
    "        for child in self.children or []:\n",
    "            if child.id == content_id:\n",
    "                return child\n",
    "            if isinstance(child, OutlineContent):\n",
    "                found = child.get_content(content_id)\n",
    "                if found:\n",
    "                    return found\n",
    "\n",
    "        return None\n",
    "\n",
    "class Article(OutlineContent):\n",
    "    task_content_id: Optional[str] = Field(None, description=\"The content ID of the task\")"
   ]
  },
  {
   "cell_type": "code",
   "execution_count": 3,
   "id": "5a103957-027a-488f-a944-d1e4b17e3aea",
   "metadata": {},
   "outputs": [],
   "source": [
    "root = OutlineContent()\n",
    "\n",
    "t1 = root.add_content(OutlineContent(topic=\"H1\"))\n",
    "t2 = root.add_content(OutlineContent(topic=\"H2\"))\n",
    "# t1.add_content(DetailContent(text=\"my headline 1\"))\n",
    "# t2.add_content(DetailContent(text=\"my headline 2\"))"
   ]
  },
  {
   "cell_type": "code",
   "execution_count": 4,
   "id": "57403c11-d266-4995-bf96-d5ef32e2a228",
   "metadata": {},
   "outputs": [
    {
     "data": {
      "text/plain": [
       "DetailContent(id='20240504.211537.00004.184', topic=None, path=None, text='my headline 1')"
      ]
     },
     "execution_count": 4,
     "metadata": {},
     "output_type": "execute_result"
    }
   ],
   "source": [
    "h1 = root.get_content(t1)\n",
    "h2_id = h1.add_content(DetailContent(text=\"my headline 1\"))\n",
    "root.get_content(h2_id)"
   ]
  },
  {
   "cell_type": "markdown",
   "id": "19cab73a-a961-4052-9623-853b776b96c6",
   "metadata": {},
   "source": [
    "## 长文写作智能体"
   ]
  },
  {
   "cell_type": "code",
   "execution_count": 74,
   "id": "cba50ccd-0883-40a6-bd91-c86ae9f2d78f",
   "metadata": {},
   "outputs": [],
   "source": [
    "from langchain.pydantic_v1 import BaseModel, Field, root_validator\n",
    "from langchain_zhipu import ChatZhipuAI\n",
    "from langchain.prompts import ChatPromptTemplate\n",
    "import json\n",
    "import re\n",
    "\n",
    "TASK_INSTRUCTIONS = \"\"\"\n",
    "你是一名优秀的写手，可以构思写作思路、扩展写作提纲、细化段落内容，\n",
    "\n",
    "请务必记住：\n",
    "1. 用户的提问一般都是写作任务，除非有明确的其他意图。\n",
    "2. 当你收到新的写作任务，你应当做两种选择，要么输出写作提纲，要么输出细化的写作内容。\n",
    "3. 你有输出300字的输出限制。\n",
    "4. 你必须注意解读用户的提问中包含的「字数估计」、「字数xxx」等字眼，并作为用户要求的字数对待，如果你发现用户要求的字数超出限制，你就必须输出写作提纲；反之，你就输出段落内容。\n",
    "\n",
    "例如：\n",
    "用户要求写作的字数超出你的限定，一篇1500字左右，此时超出了300字的写作限定，你必须输出写作提纲，可以分为5个部份，每部份约300字左右；\n",
    "用户要求写一篇80字左右，此时符合300字左右的限定，你必须输出为段落内容。\n",
    "\n",
    "如果你决定输出「写作提纲」，就请按照如下格式输出写作大纲：\n",
    "```json\n",
    "{\n",
    "    \"类型\": \"outlines\",\n",
    "    \"大纲列表\": [\n",
    "        {\"标题名称\": \"标题名称\", \"字数估计\": \"字数估计\", \"内容摘要\": \"内容摘要\"},\n",
    "        {\"标题名称\": \"标题名称\", \"字数估计\": \"字数估计\", \"内容摘要\": \"内容摘要\"},\n",
    "        （更多行）\n",
    "        {\"标题名称\": \"标题名称\", \"字数估计\": \"字数估计\", \"内容摘要\": \"内容摘要\"}\n",
    "    ],\n",
    "    \"大纲数量\": \"与以上列表相符的大纲数量\"\n",
    "}\n",
    "```\n",
    "\n",
    "如果你决定输出「段落内容」，就请按照如下格式输出：\n",
    "```json\n",
    "{\n",
    "    \"type\": \"paragraph\",\n",
    "    \"text\": \"你的详细输出\"\n",
    "}\n",
    "```\n",
    "\n",
    "只输出上述的JSON内容即可，其他不必输出。\n",
    "\"\"\"\n",
    "\n",
    "def get_input(prompt: str = \"\\n👤: \") -> str:\n",
    "    return input(prompt)\n",
    "\n",
    "class WritingProject(BaseModel):\n",
    "    \"\"\"写作控制参数\"\"\"    \n",
    "    words_per_step = 300\n",
    "    words_all_limit = 1000\n",
    "\n",
    "    # 任务类型可以包括：\n",
    "    # - root     最初的写作规划\n",
    "    # - outlines 写作大纲\n",
    "    # - detail   细节内容\n",
    "    task_type = \"\"\n",
    "\n",
    "    def next_step(self):\n",
    "        pass\n",
    "\n",
    "    \n",
    "    def ask_user(self, ai_said: str = \"\") -> tuple:\n",
    "        resp = get_input()\n",
    "        content = \"\"\n",
    "        command = \"\"\n",
    "    \n",
    "        if(resp == \"quit\"):\n",
    "            command = \"quit\"\n",
    "        elif(resp == \"ok\"):\n",
    "            content = ai_said\n",
    "            command = \"ok\"\n",
    "        else:\n",
    "            content = resp\n",
    "            command = \"chat\"\n",
    "    \n",
    "        return content, command\n",
    "\n",
    "    def get_chain(self):\n",
    "        prompt = ChatPromptTemplate.from_messages([\n",
    "            (\"system\", TASK_INSTRUCTIONS),\n",
    "            (\"user\", \"{{input}}\")\n",
    "        ], template_format='jinja2')\n",
    "        llm = ChatZhipuAI()\n",
    "        return (prompt | llm)\n",
    "\n",
    "    def run(self):\n",
    "        # 初始化链\n",
    "        chain = self.get_chain()\n",
    "        ai_said = \"\"\n",
    "\n",
    "        while True:\n",
    "            # 用户输入\n",
    "            resp, command = self.ask_user(ai_said)\n",
    "            if command == \"quit\":\n",
    "                print(\"-\"*20, \"quit\")\n",
    "                break\n",
    "            elif command == \"ok\":\n",
    "                # 生成目录或文件\n",
    "\n",
    "                # 评估任务\n",
    "                # 如果所有任务都OK，就结束\n",
    "                \n",
    "                # 任务分派\n",
    "                # - 转移到新的子主题\n",
    "                # - 重新分配session_id\n",
    "                chain = self.get_chain()\n",
    "                print(\"-\"*20, \"ok\")\n",
    "                continue\n",
    "            else:\n",
    "                # AI推理\n",
    "                message = chain.invoke(resp)\n",
    "                if len(message.content) > 0:\n",
    "                    try:\n",
    "                        json_match = re.search(r'```json\\n(.*?)\\n```', message.content, re.DOTALL)\n",
    "                        if json_match:\n",
    "                            json_string = json_match.group(1)\n",
    "                            # 解析JSON字符串\n",
    "                            data = json.loads(json_string)\n",
    "                            print(\"\\n🤖:\", data)\n",
    "                            continue\n",
    "                    except json.JSONDecodeError as e:\n",
    "                        print(f\"JSON解析错误: {e}\")\n",
    "            print(message)\n"
   ]
  },
  {
   "cell_type": "code",
   "execution_count": 75,
   "id": "b1bd3e5c-0a1e-4880-bc06-ced0d86e4ddf",
   "metadata": {},
   "outputs": [
    {
     "name": "stdin",
     "output_type": "stream",
     "text": [
      "\n",
      "👤:  请帮我写一篇1000字半年度总结\n"
     ]
    },
    {
     "name": "stdout",
     "output_type": "stream",
     "text": [
      "\n",
      "🤖: {'类型': 'outlines', '大纲列表': [{'标题名称': '一、引言', '字数估计': '100字', '内容摘要': '简要回顾半年的工作生活，表明写总结的目的'}, {'标题名称': '二、工作总结', '字数估计': '400字', '内容摘要': '详细总结半年度的工作成果、经验及不足'}, {'标题名称': '三、个人成长', '字数估计': '300字', '内容摘要': '分析半年来自己在工作、学习、能力等方面的提升'}, {'标题名称': '四、问题与反思', '字数估计': '200字', '内容摘要': '反思半年工作中遇到的问题和困难，分析原因及改进措施'}, {'标题名称': '五、展望未来', '字数估计': '100字', '内容摘要': '对未来半年的工作目标和期望进行规划'}], '大纲数量': '5'}\n"
     ]
    },
    {
     "name": "stdin",
     "output_type": "stream",
     "text": [
      "\n",
      "👤:  帮我按要求编写：{'标题名称': '一、引言', '字数估计': '100字', '内容摘要': '简要回顾半年的工作生活，表明写总结的目的'}\n"
     ]
    },
    {
     "name": "stdout",
     "output_type": "stream",
     "text": [
      "\n",
      "🤖: {'类型': 'outlines', '大纲列表': [{'标题名称': '一、引言', '字数估计': '100字', '内容摘要': '简要回顾半年的工作生活，表明写总结的目的'}], '大纲数量': '1'}\n"
     ]
    },
    {
     "name": "stdin",
     "output_type": "stream",
     "text": [
      "\n",
      "👤:  请帮我按这个要求写：{'标题名称': '一、引言', '字数估计': '100字', '内容摘要': '简要回顾半年的工作生活，表明写总结的目的'}\n"
     ]
    },
    {
     "name": "stdout",
     "output_type": "stream",
     "text": [
      "\n",
      "🤖: {'type': 'paragraph', 'text': '一、引言（100字）\\n回顾过去的半年，我在工作中经历了许多挑战与成长，生活上也不断调整与进步。在此，我将对这半年的工作生活做一个简要总结，以期为今后的工作和生活提供借鉴和改进的方向。'}\n"
     ]
    },
    {
     "name": "stdin",
     "output_type": "stream",
     "text": [
      "\n",
      "👤:  请帮我按此要求写：{'标题名称': '一、引言', '字数估计': '100字', '内容摘要': '简要回顾半年的工作生活，表明写总结的目的'}\n"
     ]
    },
    {
     "name": "stdout",
     "output_type": "stream",
     "text": [
      "\n",
      "🤖: {'type': 'paragraph', 'text': '一、引言（100字）\\n回顾过去半年的工作生活，我深感时间飞逝，成长与挑战并存。在此，我将对这半年的经历进行总结，以梳理成果、反思不足，并为今后的工作和生活设定明确的目标。'}\n"
     ]
    },
    {
     "name": "stdin",
     "output_type": "stream",
     "text": [
      "\n",
      "👤:  请帮我按此要求写作：{'标题名称': '一、引言', '字数估计': '100字', '内容摘要': '简要回顾半年的工作生活，表明写总结的目的'}\n"
     ]
    },
    {
     "name": "stdout",
     "output_type": "stream",
     "text": [
      "\n",
      "🤖: {'type': 'paragraph', 'text': '一、引言（100字）\\n回顾过去半年的工作生活，时间虽短，却充满挑战与收获。此刻，我将对这段经历进行总结，以梳理成长历程，明确未来方向。'}\n"
     ]
    },
    {
     "name": "stdin",
     "output_type": "stream",
     "text": [
      "\n",
      "👤:  请帮我按此要求写作：{'标题名称': '二、工作总结', '字数估计': '400字', '内容摘要': '详细总结半年度的工作成果、经验及不足'}\n"
     ]
    },
    {
     "name": "stdout",
     "output_type": "stream",
     "text": [
      "\n",
      "🤖: {'类型': 'outlines', '大纲列表': [{'标题名称': '二、工作总结', '字数估计': '400字', '内容摘要': '详细总结半年度的工作成果、经验及不足'}], '大纲数量': '1'}\n"
     ]
    },
    {
     "name": "stdin",
     "output_type": "stream",
     "text": [
      "\n",
      "👤:  请帮我按此要求写作：{'标题名称': '二、工作总结', '字数估计': '400字', '内容摘要': '详细总结半年度的工作成果、经验及不足'}\n"
     ]
    },
    {
     "name": "stdout",
     "output_type": "stream",
     "text": [
      "\n",
      "🤖: {'类型': 'outlines', '大纲列表': [{'标题名称': '二、工作总结', '字数估计': '400字', '内容摘要': '详细总结半年度的工作成果、经验及不足'}], '大纲数量': '1'}\n"
     ]
    },
    {
     "name": "stdin",
     "output_type": "stream",
     "text": [
      "\n",
      "👤:  请帮我按此要求写作：{'标题名称': '二、工作总结', '字数估计': '600字', '内容摘要': '详细总结半年度的工作成果、经验及不足'}\n"
     ]
    },
    {
     "name": "stdout",
     "output_type": "stream",
     "text": [
      "\n",
      "🤖: {'类型': 'outlines', '大纲列表': [{'标题名称': '二、工作总结', '字数估计': '200字', '内容摘要': '概述半年度的工作成果与主要经验'}, {'标题名称': '成果展示', '字数估计': '200字', '内容摘要': '详细列举并解释工作成果'}, {'标题名称': '经验分享', '字数估计': '200字', '内容摘要': '分析并总结有效的工作方法和技巧'}, {'标题名称': '不足与反思', '字数估计': '200字', '内容摘要': '指出工作中存在的不足，反思原因及改进措施'}], '大纲数量': '4'}\n"
     ]
    },
    {
     "name": "stdin",
     "output_type": "stream",
     "text": [
      "\n",
      "👤:  请帮我按此要求写作：{'标题名称': '二、工作总结', '字数估计': '200字', '内容摘要': '详细总结半年度的工作成果、经验及不足'}\n"
     ]
    },
    {
     "name": "stdout",
     "output_type": "stream",
     "text": [
      "\n",
      "🤖: {'type': 'paragraph', 'text': '二、工作总结\\n在过去半年的工作中，我们团队取得了显著的成绩，但也存在一些不足。在项目实施方面，我们严格按照时间节点推进，确保了项目的顺利进行。在团队协作方面，大家相互支持，共同进步，提高了工作效率。然而，我们也发现，在某些环节中，沟通不畅和资源分配不均的问题影响了工作进度。在今后的工作中，我们将总结经验，改进方法，努力提高工作质量，以期更好地完成年度目标。'}\n"
     ]
    },
    {
     "name": "stdin",
     "output_type": "stream",
     "text": [
      "\n",
      "👤:  ok\n"
     ]
    },
    {
     "name": "stdout",
     "output_type": "stream",
     "text": [
      "-------------------- ok\n"
     ]
    },
    {
     "name": "stdin",
     "output_type": "stream",
     "text": [
      "\n",
      "👤:  quit\n"
     ]
    },
    {
     "name": "stdout",
     "output_type": "stream",
     "text": [
      "-------------------- quit\n"
     ]
    }
   ],
   "source": [
    "wp = WritingProject()\n",
    "wp.run()"
   ]
  },
  {
   "cell_type": "code",
   "execution_count": null,
   "id": "1f8f3ca2-8abe-4f15-aa3d-b729804cbf08",
   "metadata": {},
   "outputs": [],
   "source": []
  }
 ],
 "metadata": {
  "kernelspec": {
   "display_name": "langchain-chinese-py3.9-ipkyernel",
   "language": "python",
   "name": "langchain-chinese-py3.9-ipkyernel"
  },
  "language_info": {
   "codemirror_mode": {
    "name": "ipython",
    "version": 3
   },
   "file_extension": ".py",
   "mimetype": "text/x-python",
   "name": "python",
   "nbconvert_exporter": "python",
   "pygments_lexer": "ipython3",
   "version": "3.9.18"
  }
 },
 "nbformat": 4,
 "nbformat_minor": 5
}
