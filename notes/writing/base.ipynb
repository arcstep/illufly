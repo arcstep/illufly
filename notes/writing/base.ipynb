{
 "cells": [
  {
   "cell_type": "code",
   "execution_count": 1,
   "id": "0a5cbfa2-68b6-49fb-90be-c8247b89e9cd",
   "metadata": {},
   "outputs": [],
   "source": [
    "from dotenv import load_dotenv, find_dotenv\n",
    "load_dotenv(find_dotenv(), override=True)\n",
    "\n",
    "import os\n",
    "os.chdir('..')"
   ]
  },
  {
   "cell_type": "code",
   "execution_count": 2,
   "id": "4e8656d8-7a11-42ca-9f9e-f10e3de8dbac",
   "metadata": {},
   "outputs": [],
   "source": [
    "from langchain_openai import ChatOpenAI\n",
    "from langchain.globals import set_verbose\n",
    "# set_verbose(True)"
   ]
  },
  {
   "cell_type": "code",
   "execution_count": 3,
   "id": "f12878d2-135a-4a6d-9f48-3ca5452e5391",
   "metadata": {},
   "outputs": [
    {
     "data": {
      "text/plain": [
       "{'from_idea': [('STRING_TEMPLATE', 'IDEA'), ('STRING_TEMPLATE', 'OUTLINE')],\n",
       " 'from_outline': [('STRING_TEMPLATE', 'OUTLINE_DETAIL'),\n",
       "  ('STRING_TEMPLATE', 'OUTLINE_SELF')],\n",
       " 'from_chunk': [('STRING_TEMPLATE', 'REWRITE'),\n",
       "  ('STRING_TEMPLATE', 'TRANSLATE')],\n",
       " 'extract': [('STRING_TEMPLATE', 'SUMMARISE'),\n",
       "  ('STRING_TEMPLATE', 'SUMMARISE_TECH')]}"
      ]
     },
     "execution_count": 3,
     "metadata": {},
     "output_type": "execute_result"
    }
   ],
   "source": [
    "from textlong.hub import find_resource_promopt\n",
    "\n",
    "find_resource_promopt()"
   ]
  },
  {
   "cell_type": "markdown",
   "id": "7fce53a7-d956-4a8c-bea7-d880a177c800",
   "metadata": {},
   "source": [
    "## 提纲"
   ]
  },
  {
   "cell_type": "code",
   "execution_count": 7,
   "id": "6b62f381-92dd-4766-98b4-3a1845d0aa10",
   "metadata": {},
   "outputs": [
    {
     "name": "stdout",
     "output_type": "stream",
     "text": [
      "\n",
      "# 《我修了个假仙》\n",
      "\n",
      "## 第一章：误入仙途\n",
      "\n",
      "<OUTLINE>\n",
      "夏小兰本是个凡人界的普通女孩，一次意外得到一本残破的修仙秘籍，从此踏上了修仙之路。然而她并不知道，这本秘籍实际上是周成故意遗落，以试探有缘人。\n",
      "\n",
      "扩写要求：\n",
      "- 描述夏小兰的人物外貌\n",
      "- 设计夏小兰和周成第一次意外相遇的情景\n",
      "\n",
      "</OUTLINE>\n",
      "\n",
      "## 第二章：真假难辨\n",
      "\n",
      "<OUTLINE>\n",
      "夏小兰修炼秘籍后，意外地吸引了妖兽的攻击。周成出现救了她，但夏小兰开始怀疑自己的修仙之路是否正确。\n",
      "\n",
      "扩写要求：\n",
      "- 描述妖兽袭击的打斗细节\n",
      "- 设计夏小兰和周成之间的打脸对话\n",
      "\n",
      "</OUTLINE>\n",
      "\n",
      "## 第三章：心魔滋生\n",
      "\n",
      "<OUTLINE>\n",
      "随着修为的提高，夏小兰发现自己的修仙之路充满艰辛，内心产生动摇。周成再次出现，用话语激化她的心魔。\n",
      "\n",
      "扩写要求：\n",
      "- 描述夏小兰的心魔滋生过程\n",
      "- 设计周成的话语如何打脸夏小兰，激发她突破心魔\n",
      "\n",
      "</OUTLINE>\n",
      "\n",
      "## 第四章：真相大白\n",
      "\n",
      "<OUTLINE>\n",
      "夏小兰最终发现，原来周成一直在暗中观察她，这本秘籍是个陷阱。愤怒的夏小兰向周成挑战，要求一个解释。\n",
      "\n",
      "扩写要求：\n",
      "- 描述两人的冲突升级\n",
      "- 设计周成揭示真相的对话场景\n",
      "\n",
      "</OUTLINE>\n"
     ]
    }
   ],
   "source": [
    "from textlong import from_idea, from_outline, from_chunk, extract\n",
    "from langchain_zhipu import ChatZhipuAI\n",
    "\n",
    "llm=ChatZhipuAI(model=\"glm-4\")\n",
    "task = \"\"\"\n",
    "请帮我创作500字的修仙小说，标题为《我修了个假仙》，主角是夏小兰，男一号是周成，\n",
    "每一个章节都用意外、打脸的对话场景推动。\n",
    "\"\"\"\n",
    "\n",
    "md_outline = \"\"\n",
    "# for x in from_idea(llm, task, prompt_id=\"OUTLINE\"):\n",
    "for x in from_idea(llm, task, prompt_id=\"小说大纲\"):\n",
    "    md_outline += x\n",
    "    print(x, end=\"\")"
   ]
  },
  {
   "cell_type": "markdown",
   "id": "add9a5dd-4716-41a6-b13b-4c017e7273b3",
   "metadata": {},
   "source": [
    "## 扩写提纲"
   ]
  },
  {
   "cell_type": "code",
   "execution_count": 10,
   "id": "4e101842-4950-4858-957e-4576aed3f0ae",
   "metadata": {},
   "outputs": [
    {
     "name": "stdout",
     "output_type": "stream",
     "text": [
      "# 《我修了个假仙》\n",
      "\n",
      "## 第一章：误入仙途\n",
      "\n",
      "\n",
      "<OUTLINE>\n",
      "夏小兰，一个凡人界的普通女孩，拥有一头乌黑的长发，明亮的大眼睛，皮肤白皙，给人一种清新脱俗的感觉。\n",
      "\n",
      "扩写要求：\n",
      "- 描述夏小兰的人物外貌，包括身高、体型、穿着等特点\n",
      "- 设计夏小兰和周成第一次意外相遇的情景，包括相遇地点、氛围等\n",
      "\n",
      "</OUTLINE>\n",
      "\n",
      "<OUTLINE>\n",
      "在夏小兰修炼秘籍的过程中，突然遭到一只凶猛的妖兽袭击。描述妖兽的形象、特点以及与夏小兰的激烈打斗场面。\n",
      "\n",
      "扩写要求：\n",
      "- 描述妖兽袭击的打斗细节，包括双方使用的招式、场景破坏等\n",
      "- 设计夏小兰和周成之间的打脸对话，展现两人性格特点及关系变化\n",
      "\n",
      "</OUTLINE>\n",
      "\n",
      "\n",
      "## 第二章：真假难辨\n",
      "\n",
      "\n",
      "<OUTLINE>\n",
      "夏小兰在修炼秘籍的过程中，突遭一只形象狰狞、实力强大的妖兽袭击。她与妖兽展开了一场惊心动魄的打斗。\n",
      "\n",
      "扩写要求：\n",
      "- 描述妖兽的形象、特点以及与夏小兰的激烈打斗场面，包括双方招式的运用和周围环境的破坏\n",
      "- 设计夏小兰和周成在战斗中的对话，展现两人性格特点及关系变化\n",
      "\n",
      "</OUTLINE>\n",
      "\n",
      "<OUTLINE>\n",
      "夏小兰在妖兽袭击后开始怀疑自己的修仙之路，周成出现救了她，但他的话语却让夏小兰对自己的选择产生了更深的疑惑。\n",
      "\n",
      "扩写要求：\n",
      "- 描述妖兽袭击的打斗细节，特别是在夏小兰感到无助时周成的援手\n",
      "- 设计周成的话语如何让夏小兰对自己的修仙之路产生质疑，同时展现两人之间的微妙情感变化\n",
      "\n",
      "</OUTLINE>\n",
      "\n",
      "\n",
      "## 第三章：心魔滋生\n",
      "\n",
      "\n",
      "<OUTLINE>\n",
      "夏小兰的修仙之路并非一帆风顺，她在修炼过程中遭遇心魔的困扰，内心的动摇愈发强烈。周成的出现，用尖锐的话语直击她的软肋，进一步激化了她内心的挣扎。\n",
      "\n",
      "扩写要求：\n",
      "- 描述夏小兰心魔的具体内容，包括她内心的恐惧、矛盾和挣扎\n",
      "- 设计周成的话语如何针对性地刺激夏小兰，激发她突破心魔的动力\n",
      "\n",
      "</OUTLINE>\n",
      "\n",
      "<OUTLINE>\n",
      "在夏小兰对周成产生怀疑后，两人的冲突逐渐升级。夏小兰鼓起勇气向周成挑战，要求他给她一个解释。\n",
      "\n",
      "扩写要求：\n",
      "- 描述夏小兰挑战周成的过程，包括两人之间的气氛、动作等细节\n",
      "- 设计周成在揭示真相时的表情、语气等，展现他复杂的内心情感\n",
      "\n",
      "</OUTLINE>\n",
      "\n",
      "\n",
      "## 第四章：真相大白\n",
      "\n",
      "\n",
      "<OUTLINE>\n",
      "夏小兰在与妖兽的激战中逐渐败下阵来，周成关键时刻的援助让她得以逃脱，但随后周成的神秘态度让她心生疑窦。\n",
      "\n",
      "扩写要求：\n",
      "- 描述夏小兰对周成援助的感激与对其隐瞒的疑惑\n",
      "- 设计周成在面对夏小兰质疑时的微妙情感变化和言语回避\n",
      "\n",
      "</OUTLINE>\n",
      "\n",
      "<OUTLINE>\n",
      "随着冲突的加剧，夏小兰在心魔的驱使下勇敢地向周成提出挑战，寻求真相。\n",
      "\n",
      "扩写要求：\n",
      "- 描述夏小兰在挑战前的内心挣扎和勇气积累\n",
      "- 设计周成面对挑战时的复杂情绪和应对策略\n",
      "\n",
      "</OUTLINE>\n",
      "\n",
      "<OUTLINE>\n",
      "真相大白时，夏小兰的愤怒与失望交织，她无法接受自己被欺骗的事实。\n",
      "\n",
      "扩写要求：\n",
      "- 描述夏小兰发现真相后的情绪爆发和反应\n",
      "- 设计周成在揭露真相时的心理斗争和试图挽回的对话\n",
      "\n",
      "</OUTLINE>\n",
      "\n"
     ]
    }
   ],
   "source": [
    "md_outline2 = \"\"\n",
    "for x in from_outline(llm, md_outline, prompt_id=\"OUTLINE_SELF\"):\n",
    "    md_outline2 += x\n",
    "    print(x, end=\"\")"
   ]
  },
  {
   "cell_type": "markdown",
   "id": "662b879b-ae11-4fed-9e58-bbb550d8f73e",
   "metadata": {},
   "source": [
    "## 扩写"
   ]
  },
  {
   "cell_type": "code",
   "execution_count": 9,
   "id": "c9fa9f77-9d56-4fec-a294-c18a703c3f4b",
   "metadata": {},
   "outputs": [
    {
     "name": "stdout",
     "output_type": "stream",
     "text": [
      "# 《我修了个假仙》\n",
      "\n",
      "## 第一章：误入仙途\n",
      "\n",
      "\n",
      "夏小兰，一个年仅十八岁的少女，一头乌黑的长发随意地垂至腰间，明亮的眸子犹如夜空中最亮的星辰。她的容貌并不出众，却有一种清新自然的气质，让人忍不住想多看一眼。这天，夏小兰独自一人走进了一片荒废的竹林。\n",
      "\n",
      "在竹林深处，她意外地发现了一本残破的修仙秘籍。正当她拿起秘籍时，突然一个身影从竹林中闪现，正是周成。他身穿一袭青色长袍，头发束起，眼中透露出一丝狡黠。\n",
      "\n",
      "“你是谁？为什么会出现在这里？”夏小兰警惕地问道。\n",
      "\n",
      "周成微微一笑：“我是周成，这片竹林是我的修炼之地。你既然能找到这本秘籍，说明我们有缘。这本秘籍是我故意遗落的，就是想看看有没有有缘人能够找到它。”\n",
      "\n",
      "夏小兰瞪大了眼睛，没想到这个陌生人竟然知道她的秘密。她犹豫了一下，最终还是决定相信周成。\n",
      "\n",
      "\n",
      "## 第二章：真假难辨\n",
      "\n",
      "\n",
      "夏小兰修炼秘籍后，体内气息突然变得紊乱，不远处一头妖兽似乎被这股气息所吸引，向她扑来。那是一头身长丈余的狼形妖兽，双眼闪烁着凶残的绿光，利爪在阳光下显得异常锋利。\n",
      "\n",
      "打斗中，夏小兰慌乱地躲避着妖兽的攻击，几次险些被利爪划伤。紧急关头，周成突然出现，一道剑光划破长空，将妖兽逼退。他冷笑道：“这就是你所谓的修炼？连一头小小的狼妖都对付不了。”\n",
      "\n",
      "夏小兰喘着粗气，有些不服气地说：“你有什么资格说我？要不是你故意遗留这本破秘籍，我也不会引来妖兽。”\n",
      "\n",
      "周成不屑地看了她一眼：“你这是在怪我吗？别忘了，是你自己选择走上这条路的。既然选择了，就要勇敢面对。”\n",
      "\n",
      "\n",
      "## 第三章：心魔滋生\n",
      "\n",
      "\n",
      "随着修为的提高，夏小兰发现自己的修仙之路愈发艰辛，内心开始产生动摇。她时常在夜深人静时想起周成的话，心中疑虑丛生。在一次修炼中，她看到竹林中飘过的幽灵，惊恐之下，心魔滋生。\n",
      "\n",
      "“你真的适合这条路吗？”周成出现在她面前，嘴角挂着一丝冷笑。\n",
      "\n",
      "夏小兰瞪着他，眼中闪烁着恐惧和愤怒：“你一直在嘲笑我，是不是？”\n",
      "\n",
      "周成淡淡地说：“我没有嘲笑你，只是在提醒你。你的心魔已经越来越强大，你还执着于修仙吗？”\n",
      "\n",
      "“我当然执着！”夏小兰咬牙切齿地说。\n",
      "\n",
      "“那好，让我来帮你一把。”周成眼神一冷，突然一掌拍向夏小兰的胸口。\n",
      "\n",
      "夏小兰没想到他会突然出手，顿时感觉胸口一痛，整个人倒飞出去。她在地上翻滚几圈，勉强稳住身形，眼中闪过一丝绝望。\n",
      "\n",
      "“你为什么要这么做？”夏小兰质问道。\n",
      "\n",
      "周成冷笑道：“因为你的心魔太强，需要外力激发。只有突破心魔，你才能真正踏上修仙之路。”\n",
      "\n",
      "\n",
      "## 第四章：真相大白\n",
      "\n",
      "\n",
      "夏小兰怒火中烧，双眼几乎要喷出火来。她紧握拳头，一步步走向周成，毫不畏惧地喝道：“周成，你一直在欺骗我，这本秘籍根本就是一个陷阱！”\n",
      "\n",
      "周成依旧保持着冷漠的态度，嘴角微微上扬，看着愤怒的夏小兰，他轻笑道：“哦？你终于发现了？我还以为你会一直被蒙在鼓里呢。”\n",
      "\n",
      "“你为什么要这么做？”夏小兰咬牙切齿地问道，拳头因愤怒而颤抖。\n",
      "\n",
      "周成耸了耸肩：“因为只有这样才能让你真正成长。你以为修仙之路会一帆风顺吗？这只是一个小小的考验。”\n",
      "\n",
      "两人的冲突愈发激烈，空气中弥漫着紧张的气氛。夏小兰再也按捺不住心中的怒火，挥手间，一道强大的气息从她体内爆发而出，向周成猛攻过去。\n",
      "\n",
      "周成轻松闪避，嘴角挂着戏谑的笑意：“看来你已经有了突破，但这还远远不够。”\n",
      "\n",
      "在激烈的打斗中，周成终于揭示出真相：“你难道没想过，为什么我会恰好出现在你遇到妖兽的时候？为什么每次你遇到危机，我都能及时出现？”\n",
      "\n",
      "夏小兰一愣，攻击的动作不禁停顿下来。\n",
      "\n",
      "周成继续说道：“因为我一直在暗中观察你，这本秘籍是我故意留给你的。只有这样，你才能在危机中成长，激发出真正的潜力。”\n",
      "\n"
     ]
    }
   ],
   "source": [
    "md = \"\"\n",
    "for x in from_outline(llm, md_outline, task=\"多使用人物细节、对话描写、打斗描写，减少抽象叙事\"):\n",
    "    md += x\n",
    "    print(x, end=\"\")"
   ]
  },
  {
   "cell_type": "markdown",
   "id": "90f034ff-84fa-44df-b0c9-a681596bd024",
   "metadata": {},
   "source": [
    "## 摘要"
   ]
  },
  {
   "cell_type": "code",
   "execution_count": null,
   "id": "94b896de-6be3-41f9-acb9-d35acda60127",
   "metadata": {},
   "outputs": [],
   "source": [
    "for x in extract(llm, md, prompt_id=\"SUMMARISE\"):\n",
    "    print(x, end=\"\")"
   ]
  },
  {
   "cell_type": "markdown",
   "id": "fb5afaf5-d487-4fb9-960b-fa3a3b8070de",
   "metadata": {},
   "source": [
    "## 修改"
   ]
  },
  {
   "cell_type": "code",
   "execution_count": null,
   "id": "557e0818-26b4-4ee6-aa72-71099c2c670f",
   "metadata": {},
   "outputs": [],
   "source": [
    "for x in from_chunk(llm, md, task=\"将主角名字修改为宁雪，其他不变\"):\n",
    "    print(x, end=\"\")"
   ]
  },
  {
   "cell_type": "markdown",
   "id": "55b3f16d-098d-43c5-8d99-53945d3918db",
   "metadata": {},
   "source": [
    "## 翻译"
   ]
  },
  {
   "cell_type": "code",
   "execution_count": null,
   "id": "bff9355e-bd9c-4baf-848b-1e4d51d4cd8c",
   "metadata": {},
   "outputs": [],
   "source": [
    "for x in from_chunk(llm, md, k=1000, task=\"翻译为英文\", prompt_id=\"TRANSLATE\"):\n",
    "    print(x, end=\"\")"
   ]
  },
  {
   "cell_type": "code",
   "execution_count": null,
   "id": "354af9e3-ff86-4e17-a9a2-2301752d8a43",
   "metadata": {},
   "outputs": [],
   "source": []
  }
 ],
 "metadata": {
  "kernelspec": {
   "display_name": "langchani-book-py3.10-ipykernel",
   "language": "python",
   "name": "langchani-book-py3.10-ipykernel"
  },
  "language_info": {
   "codemirror_mode": {
    "name": "ipython",
    "version": 3
   },
   "file_extension": ".py",
   "mimetype": "text/x-python",
   "name": "python",
   "nbconvert_exporter": "python",
   "pygments_lexer": "ipython3",
   "version": "3.10.0"
  }
 },
 "nbformat": 4,
 "nbformat_minor": 5
}
