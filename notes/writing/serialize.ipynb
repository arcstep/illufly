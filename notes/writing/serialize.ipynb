{
 "cells": [
  {
   "cell_type": "markdown",
   "id": "2d6b2faf-6bbc-472f-b950-7731d200b747",
   "metadata": {},
   "source": [
    "## ContentSerialize"
   ]
  },
  {
   "cell_type": "code",
   "execution_count": 1,
   "id": "e88f783b-51bc-413b-8f9c-adfa20d160cb",
   "metadata": {},
   "outputs": [],
   "source": [
    "from langchain_chinese import ContentSerialize"
   ]
  },
  {
   "cell_type": "markdown",
   "id": "d09c8abd-627d-4f02-b137-9687acdec68c",
   "metadata": {},
   "source": [
    "### add_item"
   ]
  },
  {
   "cell_type": "code",
   "execution_count": 2,
   "id": "ed9afe0e-e21f-4296-b1ef-fdb8a6754d87",
   "metadata": {},
   "outputs": [
    {
     "name": "stdout",
     "output_type": "stream",
     "text": [
      "<ContentSerialize id:0, children:[]>\n"
     ]
    }
   ],
   "source": [
    "c = ContentSerialize()\n",
    "print(c)"
   ]
  },
  {
   "cell_type": "code",
   "execution_count": 3,
   "id": "7500de7e-d34f-43f3-b36c-75cf576c8e9c",
   "metadata": {},
   "outputs": [
    {
     "name": "stdout",
     "output_type": "stream",
     "text": [
      "<ContentSerialize id:0, children:['<id:0.1>', '<id:0.2>']>\n"
     ]
    }
   ],
   "source": [
    "c.add_item()\n",
    "c.add_item()\n",
    "print(c)"
   ]
  },
  {
   "cell_type": "code",
   "execution_count": 4,
   "id": "868c85e5-ca58-4df2-95fb-ef966e84afac",
   "metadata": {},
   "outputs": [
    {
     "name": "stdout",
     "output_type": "stream",
     "text": [
      "<ContentSerialize id:0, children:['<id:0.1>', '<id:0.2>']>\n"
     ]
    }
   ],
   "source": [
    "print(c)"
   ]
  },
  {
   "cell_type": "code",
   "execution_count": 5,
   "id": "f4d3b8f2-46c3-42b7-8afe-3e896bc21106",
   "metadata": {},
   "outputs": [
    {
     "data": {
      "text/plain": [
       "{1: <langchain_chinese.writing.serialize.ContentSerialize at 0x1087388b0>,\n",
       " 2: <langchain_chinese.writing.serialize.ContentSerialize at 0x1087387c0>}"
      ]
     },
     "execution_count": 5,
     "metadata": {},
     "output_type": "execute_result"
    }
   ],
   "source": [
    "c._children"
   ]
  },
  {
   "cell_type": "code",
   "execution_count": 6,
   "id": "b383fe8d-c3c8-4479-93e1-2459bd58e56a",
   "metadata": {},
   "outputs": [
    {
     "data": {
      "text/plain": [
       "<langchain_chinese.writing.serialize.ContentSerialize at 0x108738550>"
      ]
     },
     "execution_count": 6,
     "metadata": {},
     "output_type": "execute_result"
    }
   ],
   "source": [
    "c._children[2].add_item()\n",
    "c._children[2].add_item()"
   ]
  },
  {
   "cell_type": "code",
   "execution_count": 7,
   "id": "fa2ea12a-4d35-4902-beea-ce6970fcee14",
   "metadata": {},
   "outputs": [
    {
     "name": "stdout",
     "output_type": "stream",
     "text": [
      "<ContentSerialize id:0.2, children:['<id:0.2.1>', '<id:0.2.2>']>\n"
     ]
    }
   ],
   "source": [
    "print(c._children[2])"
   ]
  },
  {
   "cell_type": "markdown",
   "id": "4bf098f8-43ed-4fb1-a5a0-e02d167da8a7",
   "metadata": {},
   "source": [
    "### get_item_by_id"
   ]
  },
  {
   "cell_type": "code",
   "execution_count": 8,
   "id": "3903e922-2532-433e-9ef5-ec778e6cf228",
   "metadata": {},
   "outputs": [
    {
     "data": {
      "text/plain": [
       "'0'"
      ]
     },
     "execution_count": 8,
     "metadata": {},
     "output_type": "execute_result"
    }
   ],
   "source": [
    "c.id"
   ]
  },
  {
   "cell_type": "code",
   "execution_count": 9,
   "id": "74b32993-3e2d-434d-85a6-f8055e896873",
   "metadata": {},
   "outputs": [
    {
     "name": "stdout",
     "output_type": "stream",
     "text": [
      "<ContentSerialize id:0, children:['<id:0.1>', '<id:0.2>']>\n"
     ]
    }
   ],
   "source": [
    "print(c.get_item_by_id('0'))"
   ]
  },
  {
   "cell_type": "code",
   "execution_count": 10,
   "id": "738456cc-bd32-4e6e-a6ab-0ecc3d0bab9f",
   "metadata": {},
   "outputs": [
    {
     "name": "stdout",
     "output_type": "stream",
     "text": [
      "<ContentSerialize id:0.1, children:[]>\n"
     ]
    }
   ],
   "source": [
    "print(c.get_item_by_id(\"0.1\"))"
   ]
  },
  {
   "cell_type": "code",
   "execution_count": 11,
   "id": "065b0916-f179-4eef-b6b5-e7b0e7090783",
   "metadata": {},
   "outputs": [
    {
     "name": "stdout",
     "output_type": "stream",
     "text": [
      "<ContentSerialize id:0.2.1, children:[]>\n"
     ]
    }
   ],
   "source": [
    "print(c.get_item_by_id(\"0.2\").get_item_by_id(\"2.1\"))"
   ]
  },
  {
   "cell_type": "code",
   "execution_count": 13,
   "id": "3ceeef04-fe41-47b8-850d-8ae091729cb3",
   "metadata": {},
   "outputs": [
    {
     "name": "stdout",
     "output_type": "stream",
     "text": [
      "<ContentSerialize id:0.2.1, children:[]>\n"
     ]
    }
   ],
   "source": [
    "print(c.get_item_by_id(\"0.2.1\"))"
   ]
  },
  {
   "cell_type": "code",
   "execution_count": 14,
   "id": "3d6f9e1e-358d-4183-8827-502d4216ab24",
   "metadata": {},
   "outputs": [
    {
     "ename": "BaseException",
     "evalue": "Invalid id: 在{a}.{b}.{c}中{a}必须与当前对象的id_counter一致",
     "output_type": "error",
     "traceback": [
      "\u001b[0;31m---------------------------------------------------------------------------\u001b[0m",
      "\u001b[0;31mBaseException\u001b[0m                             Traceback (most recent call last)",
      "Cell \u001b[0;32mIn[14], line 1\u001b[0m\n\u001b[0;32m----> 1\u001b[0m \u001b[38;5;28mprint\u001b[39m(\u001b[43mc\u001b[49m\u001b[38;5;241;43m.\u001b[39;49m\u001b[43mget_item_by_id\u001b[49m\u001b[43m(\u001b[49m\u001b[38;5;124;43m\"\u001b[39;49m\u001b[38;5;124;43m1.2.1\u001b[39;49m\u001b[38;5;124;43m\"\u001b[39;49m\u001b[43m)\u001b[49m)\n",
      "File \u001b[0;32m~/github/langchain_chinese/langchain_chinese/writing/serialize.py:38\u001b[0m, in \u001b[0;36mContentSerialize.get_item_by_id\u001b[0;34m(self, id)\u001b[0m\n\u001b[1;32m     36\u001b[0m id_counters \u001b[38;5;241m=\u001b[39m [\u001b[38;5;28mint\u001b[39m(counter) \u001b[38;5;28;01mfor\u001b[39;00m counter \u001b[38;5;129;01min\u001b[39;00m \u001b[38;5;28mid\u001b[39m\u001b[38;5;241m.\u001b[39msplit(\u001b[38;5;124m\"\u001b[39m\u001b[38;5;124m.\u001b[39m\u001b[38;5;124m\"\u001b[39m)]\n\u001b[1;32m     37\u001b[0m \u001b[38;5;28;01mif\u001b[39;00m id_counters[\u001b[38;5;241m0\u001b[39m] \u001b[38;5;241m!=\u001b[39m \u001b[38;5;28mself\u001b[39m\u001b[38;5;241m.\u001b[39m_id_counter:\n\u001b[0;32m---> 38\u001b[0m     \u001b[38;5;28;01mraise\u001b[39;00m \u001b[38;5;167;01mBaseException\u001b[39;00m(\u001b[38;5;124m\"\u001b[39m\u001b[38;5;124mInvalid id: 在\u001b[39m\u001b[38;5;132;01m{a}\u001b[39;00m\u001b[38;5;124m.\u001b[39m\u001b[38;5;132;01m{b}\u001b[39;00m\u001b[38;5;124m.\u001b[39m\u001b[38;5;132;01m{c}\u001b[39;00m\u001b[38;5;124m中\u001b[39m\u001b[38;5;132;01m{a}\u001b[39;00m\u001b[38;5;124m必须与当前对象的id_counter一致\u001b[39m\u001b[38;5;124m\"\u001b[39m)\n\u001b[1;32m     40\u001b[0m current_item \u001b[38;5;241m=\u001b[39m \u001b[38;5;28mself\u001b[39m\n\u001b[1;32m     42\u001b[0m \u001b[38;5;28;01mif\u001b[39;00m \u001b[38;5;28mlen\u001b[39m(id_counters) \u001b[38;5;241m>\u001b[39m \u001b[38;5;241m1\u001b[39m:\n",
      "\u001b[0;31mBaseException\u001b[0m: Invalid id: 在{a}.{b}.{c}中{a}必须与当前对象的id_counter一致"
     ]
    }
   ],
   "source": [
    "print(c.get_item_by_id(\"1.2.1\"))"
   ]
  },
  {
   "cell_type": "code",
   "execution_count": 12,
   "id": "ea33cd2b-78c9-4c59-94f3-52d34010916f",
   "metadata": {},
   "outputs": [
    {
     "data": {
      "text/plain": [
       "[0, 1]"
      ]
     },
     "execution_count": 12,
     "metadata": {},
     "output_type": "execute_result"
    }
   ],
   "source": [
    "id = '0.1'\n",
    "id_counters = [int(counter) for counter in id.split(\".\")]\n",
    "id_counters"
   ]
  },
  {
   "cell_type": "code",
   "execution_count": 27,
   "id": "1693196e-09b3-4343-82b9-407d6130fde4",
   "metadata": {},
   "outputs": [
    {
     "name": "stdout",
     "output_type": "stream",
     "text": [
      "{1: <langchain_chinese.writing.serialize.ContentSerialize object at 0x10aae4160>, 2: <langchain_chinese.writing.serialize.ContentSerialize object at 0x10aa8ac10>}\n",
      "None\n"
     ]
    }
   ],
   "source": [
    "current_item = c\n",
    "\n",
    "if len(id_counters) > 1:\n",
    "    for counter in id_counters:\n",
    "        print(current_item._children)\n",
    "        current_item = current_item._children.get(counter)\n",
    "        print(current_item)\n",
    "    \n",
    "        if current_item is None:\n",
    "            break\n",
    "current_item"
   ]
  },
  {
   "cell_type": "code",
   "execution_count": 24,
   "id": "1d148963-dbd6-45bb-9a54-d86783d92283",
   "metadata": {},
   "outputs": [],
   "source": [
    "current_item"
   ]
  },
  {
   "cell_type": "code",
   "execution_count": null,
   "id": "f360255c-5288-4eef-a070-22787e6db950",
   "metadata": {},
   "outputs": [],
   "source": []
  }
 ],
 "metadata": {
  "kernelspec": {
   "display_name": "langchain-chinese-py3.9-ipkyernel",
   "language": "python",
   "name": "langchain-chinese-py3.9-ipkyernel"
  },
  "language_info": {
   "codemirror_mode": {
    "name": "ipython",
    "version": 3
   },
   "file_extension": ".py",
   "mimetype": "text/x-python",
   "name": "python",
   "nbconvert_exporter": "python",
   "pygments_lexer": "ipython3",
   "version": "3.9.18"
  }
 },
 "nbformat": 4,
 "nbformat_minor": 5
}
