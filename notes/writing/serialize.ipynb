{
 "cells": [
  {
   "cell_type": "markdown",
   "id": "2d6b2faf-6bbc-472f-b950-7731d200b747",
   "metadata": {},
   "source": [
    "## ContentSerialize"
   ]
  },
  {
   "cell_type": "code",
   "execution_count": 1,
   "id": "0c38966b-94ca-4891-8c41-7e053999c45e",
   "metadata": {},
   "outputs": [],
   "source": [
    "import os\n",
    "from dotenv import load_dotenv, find_dotenv\n",
    "load_dotenv(find_dotenv(), override=True)\n",
    "\n",
    "os.chdir('..')"
   ]
  },
  {
   "cell_type": "code",
   "execution_count": 2,
   "id": "e88f783b-51bc-413b-8f9c-adfa20d160cb",
   "metadata": {},
   "outputs": [],
   "source": [
    "from textlong.serialize import ContentSerialize"
   ]
  },
  {
   "cell_type": "markdown",
   "id": "d09c8abd-627d-4f02-b137-9687acdec68c",
   "metadata": {},
   "source": [
    "### add_item"
   ]
  },
  {
   "cell_type": "code",
   "execution_count": 3,
   "id": "ed9afe0e-e21f-4296-b1ef-fdb8a6754d87",
   "metadata": {},
   "outputs": [
    {
     "name": "stdout",
     "output_type": "stream",
     "text": [
      "<ContentSerialize id:0, children:[]>\n"
     ]
    }
   ],
   "source": [
    "c = ContentSerialize()\n",
    "print(c)"
   ]
  },
  {
   "cell_type": "code",
   "execution_count": 5,
   "id": "7500de7e-d34f-43f3-b36c-75cf576c8e9c",
   "metadata": {},
   "outputs": [
    {
     "name": "stdout",
     "output_type": "stream",
     "text": [
      "<ContentSerialize id:0, children:['<id:0.1>', '<id:0.2>']>\n"
     ]
    }
   ],
   "source": [
    "c.add_item()\n",
    "c.add_item()\n",
    "print(c)"
   ]
  },
  {
   "cell_type": "code",
   "execution_count": 6,
   "id": "868c85e5-ca58-4df2-95fb-ef966e84afac",
   "metadata": {},
   "outputs": [
    {
     "name": "stdout",
     "output_type": "stream",
     "text": [
      "<ContentSerialize id:0, children:['<id:0.1>', '<id:0.2>']>\n"
     ]
    }
   ],
   "source": [
    "print(c)"
   ]
  },
  {
   "cell_type": "code",
   "execution_count": 7,
   "id": "f4d3b8f2-46c3-42b7-8afe-3e896bc21106",
   "metadata": {},
   "outputs": [
    {
     "data": {
      "text/plain": [
       "{1: <textlong.serialize.ContentSerialize at 0x115731240>,\n",
       " 2: <textlong.serialize.ContentSerialize at 0x1157339a0>}"
      ]
     },
     "execution_count": 7,
     "metadata": {},
     "output_type": "execute_result"
    }
   ],
   "source": [
    "c._children"
   ]
  },
  {
   "cell_type": "code",
   "execution_count": 8,
   "id": "b383fe8d-c3c8-4479-93e1-2459bd58e56a",
   "metadata": {},
   "outputs": [
    {
     "data": {
      "text/plain": [
       "<textlong.serialize.ContentSerialize at 0x1157310f0>"
      ]
     },
     "execution_count": 8,
     "metadata": {},
     "output_type": "execute_result"
    }
   ],
   "source": [
    "c._children[2].add_item()\n",
    "c._children[2].add_item()"
   ]
  },
  {
   "cell_type": "code",
   "execution_count": 9,
   "id": "fa2ea12a-4d35-4902-beea-ce6970fcee14",
   "metadata": {},
   "outputs": [
    {
     "name": "stdout",
     "output_type": "stream",
     "text": [
      "<ContentSerialize id:0.2, children:['<id:0.2.1>', '<id:0.2.2>']>\n"
     ]
    }
   ],
   "source": [
    "print(c._children[2])"
   ]
  },
  {
   "cell_type": "markdown",
   "id": "4bf098f8-43ed-4fb1-a5a0-e02d167da8a7",
   "metadata": {},
   "source": [
    "### get_item_by_id"
   ]
  },
  {
   "cell_type": "code",
   "execution_count": 10,
   "id": "3903e922-2532-433e-9ef5-ec778e6cf228",
   "metadata": {},
   "outputs": [
    {
     "data": {
      "text/plain": [
       "'0'"
      ]
     },
     "execution_count": 10,
     "metadata": {},
     "output_type": "execute_result"
    }
   ],
   "source": [
    "c.id"
   ]
  },
  {
   "cell_type": "code",
   "execution_count": 11,
   "id": "74b32993-3e2d-434d-85a6-f8055e896873",
   "metadata": {},
   "outputs": [
    {
     "name": "stdout",
     "output_type": "stream",
     "text": [
      "<ContentSerialize id:0, children:['<id:0.1>', '<id:0.2>']>\n"
     ]
    }
   ],
   "source": [
    "print(c.get_item_by_id('0'))"
   ]
  },
  {
   "cell_type": "code",
   "execution_count": 12,
   "id": "738456cc-bd32-4e6e-a6ab-0ecc3d0bab9f",
   "metadata": {},
   "outputs": [
    {
     "name": "stdout",
     "output_type": "stream",
     "text": [
      "<ContentSerialize id:0.1, children:[]>\n"
     ]
    }
   ],
   "source": [
    "print(c.get_item_by_id(\"0.1\"))"
   ]
  },
  {
   "cell_type": "code",
   "execution_count": 13,
   "id": "065b0916-f179-4eef-b6b5-e7b0e7090783",
   "metadata": {},
   "outputs": [
    {
     "name": "stdout",
     "output_type": "stream",
     "text": [
      "<ContentSerialize id:0.2.1, children:[]>\n"
     ]
    }
   ],
   "source": [
    "print(c.get_item_by_id(\"0.2\").get_item_by_id(\"2.1\"))"
   ]
  },
  {
   "cell_type": "code",
   "execution_count": 14,
   "id": "3ceeef04-fe41-47b8-850d-8ae091729cb3",
   "metadata": {},
   "outputs": [
    {
     "name": "stdout",
     "output_type": "stream",
     "text": [
      "<ContentSerialize id:0.2.1, children:[]>\n"
     ]
    }
   ],
   "source": [
    "print(c.get_item_by_id(\"0.2.1\"))"
   ]
  },
  {
   "cell_type": "markdown",
   "id": "34ca1f6a-de18-4b79-8114-1968a3926aee",
   "metadata": {},
   "source": [
    "### dump"
   ]
  },
  {
   "cell_type": "code",
   "execution_count": 3,
   "id": "df8f742f-e4be-446c-85d6-2713fa5e460d",
   "metadata": {},
   "outputs": [
    {
     "name": "stdout",
     "output_type": "stream",
     "text": [
      "{'id': '0'}\n"
     ]
    }
   ],
   "source": [
    "c = ContentSerialize()\n",
    "c.dump()"
   ]
  },
  {
   "cell_type": "code",
   "execution_count": 4,
   "id": "3f1bde8e-0de4-438d-a2c7-4389a08ee5cd",
   "metadata": {},
   "outputs": [
    {
     "name": "stdout",
     "output_type": "stream",
     "text": [
      "{'id': '0'}\n",
      "{'id': '0.1'}\n",
      "{'id': '0.2'}\n"
     ]
    }
   ],
   "source": [
    "c.add_item()\n",
    "c.add_item()\n",
    "c.dump()"
   ]
  },
  {
   "cell_type": "code",
   "execution_count": 10,
   "id": "3d48f1f8-392c-4a75-92fb-f7cf2efc34c4",
   "metadata": {},
   "outputs": [
    {
     "name": "stdout",
     "output_type": "stream",
     "text": [
      "<ContentSerialize id:0, children:['<id:0.1>', '<id:0.2>']>\n"
     ]
    }
   ],
   "source": [
    "print(c)"
   ]
  },
  {
   "cell_type": "code",
   "execution_count": 5,
   "id": "863e0d5a-a240-4771-9d30-0c683f32d5a5",
   "metadata": {},
   "outputs": [
    {
     "data": {
      "text/plain": [
       "[{'id': '0'}, {'id': '0.1'}, {'id': '0.2'}]"
      ]
     },
     "execution_count": 5,
     "metadata": {},
     "output_type": "execute_result"
    }
   ],
   "source": [
    "c.all_content"
   ]
  },
  {
   "cell_type": "code",
   "execution_count": 6,
   "id": "4e71599f-7b9a-4cc5-851f-958e0d82539f",
   "metadata": {},
   "outputs": [
    {
     "name": "stdout",
     "output_type": "stream",
     "text": [
      "{'id': '0', 'type': 'unknown', 'state': 'init', 'is_complete': False, 'is_draft': False, 'words_advice': None, 'title': '', 'howto': '', 'summarise': None, 'text': ''}\n",
      "{'id': '0.1', 'type': 'unknown', 'state': 'init', 'is_complete': False, 'is_draft': False, 'words_advice': None, 'title': '', 'howto': '', 'summarise': None, 'text': ''}\n",
      "{'id': '0.2', 'type': 'unknown', 'state': 'init', 'is_complete': False, 'is_draft': False, 'words_advice': None, 'title': '', 'howto': '', 'summarise': None, 'text': ''}\n",
      "{'id': '0.2.1', 'type': 'unknown', 'state': 'init', 'is_complete': False, 'is_draft': False, 'words_advice': None, 'title': '', 'howto': '', 'summarise': None, 'text': ''}\n",
      "{'id': '0.2.2', 'type': 'unknown', 'state': 'init', 'is_complete': False, 'is_draft': False, 'words_advice': None, 'title': '', 'howto': '', 'summarise': None, 'text': ''}\n"
     ]
    }
   ],
   "source": [
    "from textlong.node import ContentNode\n",
    "n = ContentNode()\n",
    "n.add_item()\n",
    "n2 = n.add_item()\n",
    "n2.add_item()\n",
    "n2.add_item()\n",
    "\n",
    "n.dump()"
   ]
  },
  {
   "cell_type": "code",
   "execution_count": null,
   "id": "e6e23f6a-30c6-415d-b2d8-34aad0b11f0f",
   "metadata": {},
   "outputs": [],
   "source": []
  }
 ],
 "metadata": {
  "kernelspec": {
   "display_name": "langchani-book-py3.10-ipykernel",
   "language": "python",
   "name": "langchani-book-py3.10-ipykernel"
  },
  "language_info": {
   "codemirror_mode": {
    "name": "ipython",
    "version": 3
   },
   "file_extension": ".py",
   "mimetype": "text/x-python",
   "name": "python",
   "nbconvert_exporter": "python",
   "pygments_lexer": "ipython3",
   "version": "3.10.0"
  }
 },
 "nbformat": 4,
 "nbformat_minor": 5
}
