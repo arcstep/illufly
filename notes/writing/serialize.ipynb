{
 "cells": [
  {
   "cell_type": "markdown",
   "id": "2d6b2faf-6bbc-472f-b950-7731d200b747",
   "metadata": {},
   "source": [
    "## ContentSerialize"
   ]
  },
  {
   "cell_type": "code",
   "execution_count": 1,
   "id": "0c38966b-94ca-4891-8c41-7e053999c45e",
   "metadata": {},
   "outputs": [],
   "source": [
    "import os\n",
    "from dotenv import load_dotenv, find_dotenv\n",
    "load_dotenv(find_dotenv(), override=True)\n",
    "\n",
    "os.chdir('..')"
   ]
  },
  {
   "cell_type": "code",
   "execution_count": 2,
   "id": "e88f783b-51bc-413b-8f9c-adfa20d160cb",
   "metadata": {},
   "outputs": [],
   "source": [
    "from textlong.serialize import ContentSerialize"
   ]
  },
  {
   "cell_type": "markdown",
   "id": "d09c8abd-627d-4f02-b137-9687acdec68c",
   "metadata": {},
   "source": [
    "### add_item"
   ]
  },
  {
   "cell_type": "code",
   "execution_count": 3,
   "id": "ed9afe0e-e21f-4296-b1ef-fdb8a6754d87",
   "metadata": {},
   "outputs": [
    {
     "name": "stdout",
     "output_type": "stream",
     "text": [
      "<ContentSerialize id:0, children:[]>\n"
     ]
    }
   ],
   "source": [
    "c = ContentSerialize()\n",
    "print(c)"
   ]
  },
  {
   "cell_type": "code",
   "execution_count": 4,
   "id": "7500de7e-d34f-43f3-b36c-75cf576c8e9c",
   "metadata": {},
   "outputs": [
    {
     "name": "stdout",
     "output_type": "stream",
     "text": [
      "<ContentSerialize id:0, children:['<id:0.1>', '<id:0.2>']>\n"
     ]
    }
   ],
   "source": [
    "c.add_item()\n",
    "c.add_item()\n",
    "print(c)"
   ]
  },
  {
   "cell_type": "code",
   "execution_count": 5,
   "id": "868c85e5-ca58-4df2-95fb-ef966e84afac",
   "metadata": {},
   "outputs": [
    {
     "name": "stdout",
     "output_type": "stream",
     "text": [
      "<ContentSerialize id:0, children:['<id:0.1>', '<id:0.2>']>\n"
     ]
    }
   ],
   "source": [
    "print(c)"
   ]
  },
  {
   "cell_type": "code",
   "execution_count": 6,
   "id": "f4d3b8f2-46c3-42b7-8afe-3e896bc21106",
   "metadata": {},
   "outputs": [
    {
     "data": {
      "text/plain": [
       "{1: <textlong.serialize.ContentSerialize at 0x1083c43d0>,\n",
       " 2: <textlong.serialize.ContentSerialize at 0x1083c4460>}"
      ]
     },
     "execution_count": 6,
     "metadata": {},
     "output_type": "execute_result"
    }
   ],
   "source": [
    "c._children"
   ]
  },
  {
   "cell_type": "code",
   "execution_count": 7,
   "id": "b383fe8d-c3c8-4479-93e1-2459bd58e56a",
   "metadata": {},
   "outputs": [
    {
     "data": {
      "text/plain": [
       "<textlong.serialize.ContentSerialize at 0x1083c4820>"
      ]
     },
     "execution_count": 7,
     "metadata": {},
     "output_type": "execute_result"
    }
   ],
   "source": [
    "c._children[2].add_item()\n",
    "c._children[2].add_item()"
   ]
  },
  {
   "cell_type": "code",
   "execution_count": 8,
   "id": "fa2ea12a-4d35-4902-beea-ce6970fcee14",
   "metadata": {},
   "outputs": [
    {
     "name": "stdout",
     "output_type": "stream",
     "text": [
      "<ContentSerialize id:0.2, children:['<id:0.2.1>', '<id:0.2.2>']>\n"
     ]
    }
   ],
   "source": [
    "print(c._children[2])"
   ]
  },
  {
   "cell_type": "markdown",
   "id": "4bf098f8-43ed-4fb1-a5a0-e02d167da8a7",
   "metadata": {},
   "source": [
    "### get_item_by_id"
   ]
  },
  {
   "cell_type": "code",
   "execution_count": 9,
   "id": "3903e922-2532-433e-9ef5-ec778e6cf228",
   "metadata": {},
   "outputs": [
    {
     "data": {
      "text/plain": [
       "'0'"
      ]
     },
     "execution_count": 9,
     "metadata": {},
     "output_type": "execute_result"
    }
   ],
   "source": [
    "c.id"
   ]
  },
  {
   "cell_type": "code",
   "execution_count": 10,
   "id": "74b32993-3e2d-434d-85a6-f8055e896873",
   "metadata": {},
   "outputs": [
    {
     "name": "stdout",
     "output_type": "stream",
     "text": [
      "<ContentSerialize id:0, children:['<id:0.1>', '<id:0.2>']>\n"
     ]
    }
   ],
   "source": [
    "print(c.get_item_by_id('0'))"
   ]
  },
  {
   "cell_type": "code",
   "execution_count": 11,
   "id": "738456cc-bd32-4e6e-a6ab-0ecc3d0bab9f",
   "metadata": {},
   "outputs": [
    {
     "name": "stdout",
     "output_type": "stream",
     "text": [
      "<ContentSerialize id:0.1, children:[]>\n"
     ]
    }
   ],
   "source": [
    "print(c.get_item_by_id(\"0.1\"))"
   ]
  },
  {
   "cell_type": "code",
   "execution_count": 12,
   "id": "065b0916-f179-4eef-b6b5-e7b0e7090783",
   "metadata": {},
   "outputs": [
    {
     "name": "stdout",
     "output_type": "stream",
     "text": [
      "<ContentSerialize id:0.2.1, children:[]>\n"
     ]
    }
   ],
   "source": [
    "print(c.get_item_by_id(\"0.2\").get_item_by_id(\"2.1\"))"
   ]
  },
  {
   "cell_type": "code",
   "execution_count": 13,
   "id": "3ceeef04-fe41-47b8-850d-8ae091729cb3",
   "metadata": {},
   "outputs": [
    {
     "name": "stdout",
     "output_type": "stream",
     "text": [
      "<ContentSerialize id:0.2.1, children:[]>\n"
     ]
    }
   ],
   "source": [
    "print(c.get_item_by_id(\"0.2.1\"))"
   ]
  },
  {
   "cell_type": "markdown",
   "id": "34ca1f6a-de18-4b79-8114-1968a3926aee",
   "metadata": {},
   "source": [
    "### base-dump"
   ]
  },
  {
   "cell_type": "code",
   "execution_count": 14,
   "id": "df8f742f-e4be-446c-85d6-2713fa5e460d",
   "metadata": {},
   "outputs": [
    {
     "name": "stdout",
     "output_type": "stream",
     "text": [
      "{'id': '0'}\n"
     ]
    }
   ],
   "source": [
    "c = ContentSerialize()\n",
    "c.dump()"
   ]
  },
  {
   "cell_type": "code",
   "execution_count": 15,
   "id": "3f1bde8e-0de4-438d-a2c7-4389a08ee5cd",
   "metadata": {},
   "outputs": [
    {
     "name": "stdout",
     "output_type": "stream",
     "text": [
      "{'id': '0'}\n",
      "{'id': '0.1'}\n",
      "{'id': '0.2'}\n"
     ]
    }
   ],
   "source": [
    "c.add_item()\n",
    "c.add_item()\n",
    "c.dump()"
   ]
  },
  {
   "cell_type": "code",
   "execution_count": 16,
   "id": "3d48f1f8-392c-4a75-92fb-f7cf2efc34c4",
   "metadata": {},
   "outputs": [
    {
     "name": "stdout",
     "output_type": "stream",
     "text": [
      "<ContentSerialize id:0, children:['<id:0.1>', '<id:0.2>']>\n"
     ]
    }
   ],
   "source": [
    "print(c)"
   ]
  },
  {
   "cell_type": "code",
   "execution_count": 17,
   "id": "863e0d5a-a240-4771-9d30-0c683f32d5a5",
   "metadata": {},
   "outputs": [
    {
     "data": {
      "text/plain": [
       "[{'id': '0'}, {'id': '0.1'}, {'id': '0.2'}]"
      ]
     },
     "execution_count": 17,
     "metadata": {},
     "output_type": "execute_result"
    }
   ],
   "source": [
    "c.all_content"
   ]
  },
  {
   "cell_type": "markdown",
   "id": "1a616228-60da-40f1-9e26-7a44b7cd80bc",
   "metadata": {},
   "source": [
    "### base-load"
   ]
  },
  {
   "cell_type": "code",
   "execution_count": 18,
   "id": "c116cc3a-9054-4be6-9944-a3a3500388ba",
   "metadata": {},
   "outputs": [
    {
     "name": "stdout",
     "output_type": "stream",
     "text": [
      "['0.json', '0.1.json', '0.2.json']\n"
     ]
    },
    {
     "data": {
      "text/plain": [
       "<textlong.serialize.ContentSerialize at 0x1083c7160>"
      ]
     },
     "execution_count": 18,
     "metadata": {},
     "output_type": "execute_result"
    }
   ],
   "source": [
    "c_new = ContentSerialize()\n",
    "c_new.load()"
   ]
  },
  {
   "cell_type": "markdown",
   "id": "f4b92007-1a29-44e8-8d11-37686dcdefc8",
   "metadata": {},
   "source": [
    "### content-dump"
   ]
  },
  {
   "cell_type": "code",
   "execution_count": 19,
   "id": "4e71599f-7b9a-4cc5-851f-958e0d82539f",
   "metadata": {},
   "outputs": [
    {
     "name": "stdout",
     "output_type": "stream",
     "text": [
      "{'id': '0', 'type': 'unknown', 'state': 'init', 'is_complete': False, 'is_draft': False, 'words_advice': None, 'title': '', 'howto': '', 'summarise': None, 'text': ''}\n",
      "{'id': '0.1', 'type': 'unknown', 'state': 'init', 'is_complete': False, 'is_draft': False, 'words_advice': None, 'title': 'ABC', 'howto': '', 'summarise': None, 'text': ''}\n",
      "{'id': '0.2', 'type': 'unknown', 'state': 'init', 'is_complete': False, 'is_draft': False, 'words_advice': None, 'title': 'XYZ', 'howto': '', 'summarise': None, 'text': ''}\n",
      "{'id': '0.2.1', 'type': 'unknown', 'state': 'init', 'is_complete': False, 'is_draft': False, 'words_advice': None, 'title': '', 'howto': '你好好写', 'summarise': None, 'text': ''}\n",
      "{'id': '0.2.2', 'type': 'unknown', 'state': 'init', 'is_complete': False, 'is_draft': False, 'words_advice': None, 'title': '', 'howto': '', 'summarise': None, 'text': ''}\n"
     ]
    }
   ],
   "source": [
    "from textlong.node import ContentNode\n",
    "n = ContentNode()\n",
    "n.add_item(title=\"ABC\")\n",
    "n2 = n.add_item(title=\"XYZ\")\n",
    "n2.add_item(howto=\"你好好写\")\n",
    "n2.add_item()\n",
    "\n",
    "n.dump()"
   ]
  },
  {
   "cell_type": "code",
   "execution_count": 20,
   "id": "e6e23f6a-30c6-415d-b2d8-34aad0b11f0f",
   "metadata": {},
   "outputs": [
    {
     "data": {
      "text/plain": [
       "[{'id': '0',\n",
       "  'type': 'unknown',\n",
       "  'state': 'init',\n",
       "  'is_complete': False,\n",
       "  'is_draft': False,\n",
       "  'words_advice': None,\n",
       "  'title': '',\n",
       "  'howto': '',\n",
       "  'summarise': None,\n",
       "  'text': ''},\n",
       " {'id': '0.1',\n",
       "  'type': 'unknown',\n",
       "  'state': 'init',\n",
       "  'is_complete': False,\n",
       "  'is_draft': False,\n",
       "  'words_advice': None,\n",
       "  'title': 'ABC',\n",
       "  'howto': '',\n",
       "  'summarise': None,\n",
       "  'text': ''},\n",
       " {'id': '0.2',\n",
       "  'type': 'unknown',\n",
       "  'state': 'init',\n",
       "  'is_complete': False,\n",
       "  'is_draft': False,\n",
       "  'words_advice': None,\n",
       "  'title': 'XYZ',\n",
       "  'howto': '',\n",
       "  'summarise': None,\n",
       "  'text': ''},\n",
       " {'id': '0.2.1',\n",
       "  'type': 'unknown',\n",
       "  'state': 'init',\n",
       "  'is_complete': False,\n",
       "  'is_draft': False,\n",
       "  'words_advice': None,\n",
       "  'title': '',\n",
       "  'howto': '你好好写',\n",
       "  'summarise': None,\n",
       "  'text': ''},\n",
       " {'id': '0.2.2',\n",
       "  'type': 'unknown',\n",
       "  'state': 'init',\n",
       "  'is_complete': False,\n",
       "  'is_draft': False,\n",
       "  'words_advice': None,\n",
       "  'title': '',\n",
       "  'howto': '',\n",
       "  'summarise': None,\n",
       "  'text': ''}]"
      ]
     },
     "execution_count": 20,
     "metadata": {},
     "output_type": "execute_result"
    }
   ],
   "source": [
    "n.all_content"
   ]
  },
  {
   "cell_type": "markdown",
   "id": "49396550-9a9b-4dbd-a531-bd347c0ce0e1",
   "metadata": {},
   "source": [
    "### content-load"
   ]
  },
  {
   "cell_type": "code",
   "execution_count": 21,
   "id": "89ff6325-6a93-44af-a550-a593521e327b",
   "metadata": {},
   "outputs": [
    {
     "name": "stdout",
     "output_type": "stream",
     "text": [
      "['0.json', '0.1.json', '0.2.json', '0.2.1.json', '0.2.2.json']\n"
     ]
    },
    {
     "data": {
      "image/svg+xml": [
       "<?xml version=\"1.0\" encoding=\"UTF-8\" standalone=\"no\"?>\n",
       "<!DOCTYPE svg PUBLIC \"-//W3C//DTD SVG 1.1//EN\"\n",
       " \"http://www.w3.org/Graphics/SVG/1.1/DTD/svg11.dtd\">\n",
       "<!-- Generated by graphviz version 10.0.1 (20240210.2158)\n",
       " -->\n",
       "<!-- Title: list Pages: 1 -->\n",
       "<svg width=\"563pt\" height=\"132pt\"\n",
       " viewBox=\"0.00 0.00 562.65 131.98\" xmlns=\"http://www.w3.org/2000/svg\" xmlns:xlink=\"http://www.w3.org/1999/xlink\">\n",
       "<g id=\"graph0\" class=\"graph\" transform=\"scale(1 1) rotate(0) translate(4 127.98)\">\n",
       "<title>list</title>\n",
       "<polygon fill=\"white\" stroke=\"none\" points=\"-4,4 -4,-127.98 558.65,-127.98 558.65,4 -4,4\"/>\n",
       "<text text-anchor=\"middle\" x=\"277.33\" y=\"-6.5\" font-family=\"Arial\" font-size=\"10.00\">ContentNode</text>\n",
       "<!-- i -->\n",
       "<g id=\"node1\" class=\"node\">\n",
       "<title>i</title>\n",
       "<ellipse fill=\"black\" stroke=\"black\" cx=\"7.2\" cy=\"-59.48\" rx=\"7.2\" ry=\"7.2\"/>\n",
       "<text text-anchor=\"middle\" x=\"7.2\" y=\"-59.18\" font-family=\"Times,serif\" font-size=\"1.00\">i</text>\n",
       "</g>\n",
       "<!-- s_init -->\n",
       "<g id=\"node2\" class=\"node\">\n",
       "<title>s_init</title>\n",
       "<path fill=\"turquoise\" stroke=\"black\" stroke-width=\"2\" d=\"M93.4,-77.48C93.4,-77.48 63.4,-77.48 63.4,-77.48 57.4,-77.48 51.4,-71.48 51.4,-65.48 51.4,-65.48 51.4,-53.48 51.4,-53.48 51.4,-47.48 57.4,-41.48 63.4,-41.48 63.4,-41.48 93.4,-41.48 93.4,-41.48 99.4,-41.48 105.4,-47.48 105.4,-53.48 105.4,-53.48 105.4,-65.48 105.4,-65.48 105.4,-71.48 99.4,-77.48 93.4,-77.48\"/>\n",
       "<text text-anchor=\"middle\" x=\"78.4\" y=\"-55.98\" font-family=\"Arial\" font-size=\"10.00\">init</text>\n",
       "</g>\n",
       "<!-- i&#45;&gt;s_init -->\n",
       "<g id=\"edge1\" class=\"edge\">\n",
       "<title>i&#45;&gt;s_init</title>\n",
       "<path fill=\"none\" stroke=\"blue\" d=\"M14.84,-59.48C20.7,-59.48 29.78,-59.48 39.21,-59.48\"/>\n",
       "<polygon fill=\"blue\" stroke=\"blue\" points=\"39.19,-62.98 49.19,-59.48 39.19,-55.98 39.19,-62.98\"/>\n",
       "</g>\n",
       "<!-- s_todo -->\n",
       "<g id=\"node4\" class=\"node\">\n",
       "<title>s_todo</title>\n",
       "<path fill=\"white\" stroke=\"black\" d=\"M230.65,-77.48C230.65,-77.48 200.65,-77.48 200.65,-77.48 194.65,-77.48 188.65,-71.48 188.65,-65.48 188.65,-65.48 188.65,-53.48 188.65,-53.48 188.65,-47.48 194.65,-41.48 200.65,-41.48 200.65,-41.48 230.65,-41.48 230.65,-41.48 236.65,-41.48 242.65,-47.48 242.65,-53.48 242.65,-53.48 242.65,-65.48 242.65,-65.48 242.65,-71.48 236.65,-77.48 230.65,-77.48\"/>\n",
       "<text text-anchor=\"middle\" x=\"215.65\" y=\"-55.98\" font-family=\"Arial\" font-size=\"10.00\">todo</text>\n",
       "</g>\n",
       "<!-- s_init&#45;&gt;s_todo -->\n",
       "<g id=\"edge5\" class=\"edge\">\n",
       "<title>s_init&#45;&gt;s_todo</title>\n",
       "<path fill=\"none\" stroke=\"blue\" d=\"M106.12,-59.48C126.44,-59.48 154.66,-59.48 177.23,-59.48\"/>\n",
       "<polygon fill=\"blue\" stroke=\"blue\" points=\"176.93,-62.98 186.93,-59.48 176.93,-55.98 176.93,-62.98\"/>\n",
       "<text text-anchor=\"middle\" x=\"147.03\" y=\"-61.43\" font-family=\"Arial\" font-size=\"9.00\">init_todo ok</text>\n",
       "</g>\n",
       "<!-- s_init&#45;&gt;s_todo -->\n",
       "<g id=\"edge6\" class=\"edge\">\n",
       "<title>s_init&#45;&gt;s_todo</title>\n",
       "<path fill=\"none\" stroke=\"blue\" d=\"M106.05,-49.19C111.7,-47.44 117.68,-45.89 123.4,-44.98 144.13,-41.65 149.92,-41.65 170.65,-44.98 172.95,-45.34 175.28,-45.81 177.63,-46.36\"/>\n",
       "<polygon fill=\"blue\" stroke=\"blue\" points=\"176.44,-49.66 187.01,-48.94 178.29,-42.91 176.44,-49.66\"/>\n",
       "<text text-anchor=\"middle\" x=\"147.03\" y=\"-47.43\" font-family=\"Arial\" font-size=\"9.00\">edit</text>\n",
       "</g>\n",
       "<!-- s_done -->\n",
       "<g id=\"node3\" class=\"node\">\n",
       "<title>s_done</title>\n",
       "<path fill=\"white\" stroke=\"black\" d=\"M386.65,-111.48C386.65,-111.48 356.65,-111.48 356.65,-111.48 350.65,-111.48 344.65,-105.48 344.65,-99.48 344.65,-99.48 344.65,-87.48 344.65,-87.48 344.65,-81.48 350.65,-75.48 356.65,-75.48 356.65,-75.48 386.65,-75.48 386.65,-75.48 392.65,-75.48 398.65,-81.48 398.65,-87.48 398.65,-87.48 398.65,-99.48 398.65,-99.48 398.65,-105.48 392.65,-111.48 386.65,-111.48\"/>\n",
       "<text text-anchor=\"middle\" x=\"371.65\" y=\"-89.98\" font-family=\"Arial\" font-size=\"10.00\">done</text>\n",
       "</g>\n",
       "<!-- s_done&#45;&gt;s_todo -->\n",
       "<g id=\"edge2\" class=\"edge\">\n",
       "<title>s_done&#45;&gt;s_todo</title>\n",
       "<path fill=\"none\" stroke=\"blue\" d=\"M344.36,-93.21C321.75,-92.37 288.48,-89.66 260.65,-81.48 258.25,-80.77 255.83,-79.94 253.42,-79.02\"/>\n",
       "<polygon fill=\"blue\" stroke=\"blue\" points=\"254.98,-75.88 244.41,-75.14 252.21,-82.31 254.98,-75.88\"/>\n",
       "<text text-anchor=\"middle\" x=\"293.65\" y=\"-94.43\" font-family=\"Arial\" font-size=\"9.00\">edit</text>\n",
       "</g>\n",
       "<!-- s_done&#45;&gt;s_todo -->\n",
       "<g id=\"edge3\" class=\"edge\">\n",
       "<title>s_done&#45;&gt;s_todo</title>\n",
       "<path fill=\"none\" stroke=\"blue\" d=\"M354.52,-75.16C346.89,-67.87 337.15,-60.31 326.65,-56.48 303.52,-48.05 275.81,-48.86 253.99,-51.75\"/>\n",
       "<polygon fill=\"blue\" stroke=\"blue\" points=\"253.7,-48.25 244.35,-53.24 254.77,-55.17 253.7,-48.25\"/>\n",
       "<text text-anchor=\"middle\" x=\"293.65\" y=\"-68.93\" font-family=\"Arial\" font-size=\"9.00\">done_todo</text>\n",
       "<text text-anchor=\"middle\" x=\"293.65\" y=\"-58.43\" font-family=\"Arial\" font-size=\"9.00\">[existing_howto]</text>\n",
       "</g>\n",
       "<!-- s_modi -->\n",
       "<g id=\"node5\" class=\"node\">\n",
       "<title>s_modi</title>\n",
       "<path fill=\"white\" stroke=\"black\" d=\"M542.65,-60.48C542.65,-60.48 512.65,-60.48 512.65,-60.48 506.65,-60.48 500.65,-54.48 500.65,-48.48 500.65,-48.48 500.65,-36.48 500.65,-36.48 500.65,-30.48 506.65,-24.48 512.65,-24.48 512.65,-24.48 542.65,-24.48 542.65,-24.48 548.65,-24.48 554.65,-30.48 554.65,-36.48 554.65,-36.48 554.65,-48.48 554.65,-48.48 554.65,-54.48 548.65,-60.48 542.65,-60.48\"/>\n",
       "<text text-anchor=\"middle\" x=\"527.65\" y=\"-38.98\" font-family=\"Arial\" font-size=\"10.00\">modi</text>\n",
       "</g>\n",
       "<!-- s_done&#45;&gt;s_modi -->\n",
       "<g id=\"edge4\" class=\"edge\">\n",
       "<title>s_done&#45;&gt;s_modi</title>\n",
       "<path fill=\"none\" stroke=\"blue\" d=\"M398.81,-91.11C421.63,-88.38 455.27,-82.73 482.65,-71.48 486.03,-70.08 489.44,-68.42 492.77,-66.6\"/>\n",
       "<polygon fill=\"blue\" stroke=\"blue\" points=\"494.37,-69.72 501.15,-61.58 490.78,-63.71 494.37,-69.72\"/>\n",
       "<text text-anchor=\"middle\" x=\"449.65\" y=\"-100.93\" font-family=\"Arial\" font-size=\"9.00\">done_modi</text>\n",
       "<text text-anchor=\"middle\" x=\"449.65\" y=\"-90.43\" font-family=\"Arial\" font-size=\"9.00\">[existing_howto]</text>\n",
       "</g>\n",
       "<!-- s_todo&#45;&gt;s_done -->\n",
       "<g id=\"edge10\" class=\"edge\">\n",
       "<title>s_todo&#45;&gt;s_done</title>\n",
       "<path fill=\"none\" stroke=\"blue\" d=\"M227.66,-77.63C235.38,-88.51 246.78,-101.38 260.65,-107.48 283.46,-117.51 311.32,-113.82 333.3,-107.72\"/>\n",
       "<polygon fill=\"blue\" stroke=\"blue\" points=\"334.22,-111.09 342.75,-104.81 332.17,-104.4 334.22,-111.09\"/>\n",
       "<text text-anchor=\"middle\" x=\"293.65\" y=\"-115.43\" font-family=\"Arial\" font-size=\"9.00\">ok todo_done</text>\n",
       "</g>\n",
       "<!-- s_modi&#45;&gt;s_done -->\n",
       "<g id=\"edge7\" class=\"edge\">\n",
       "<title>s_modi&#45;&gt;s_done</title>\n",
       "<path fill=\"none\" stroke=\"blue\" d=\"M500.28,-42.68C477.33,-43.72 443.61,-47.36 416.65,-58.98 410.97,-61.43 405.39,-64.79 400.21,-68.47\"/>\n",
       "<polygon fill=\"blue\" stroke=\"blue\" points=\"398.35,-65.48 392.59,-74.37 402.64,-71.02 398.35,-65.48\"/>\n",
       "<text text-anchor=\"middle\" x=\"449.65\" y=\"-61.43\" font-family=\"Arial\" font-size=\"9.00\">modi_done ok</text>\n",
       "</g>\n",
       "<!-- s_modi&#45;&gt;s_todo -->\n",
       "<g id=\"edge8\" class=\"edge\">\n",
       "<title>s_modi&#45;&gt;s_todo</title>\n",
       "<path fill=\"none\" stroke=\"blue\" d=\"M500.37,-40.33C452.37,-36.96 347.47,-32.21 260.65,-46.48 258.47,-46.83 256.24,-47.27 254.01,-47.76\"/>\n",
       "<polygon fill=\"blue\" stroke=\"blue\" points=\"253.23,-44.34 244.39,-50.19 254.95,-51.13 253.23,-44.34\"/>\n",
       "<text text-anchor=\"middle\" x=\"371.65\" y=\"-40.43\" font-family=\"Arial\" font-size=\"9.00\">edit</text>\n",
       "</g>\n",
       "<!-- s_modi&#45;&gt;s_todo -->\n",
       "<g id=\"edge9\" class=\"edge\">\n",
       "<title>s_modi&#45;&gt;s_todo</title>\n",
       "<path fill=\"none\" stroke=\"blue\" d=\"M500.48,-36.01C451.76,-25.22 344.53,-7.35 260.65,-35.48 258.14,-36.32 255.61,-37.3 253.1,-38.37\"/>\n",
       "<polygon fill=\"blue\" stroke=\"blue\" points=\"251.85,-35.08 244.33,-42.54 254.86,-41.41 251.85,-35.08\"/>\n",
       "<text text-anchor=\"middle\" x=\"371.65\" y=\"-23.43\" font-family=\"Arial\" font-size=\"9.00\">modi_todo</text>\n",
       "</g>\n",
       "</g>\n",
       "</svg>\n"
      ],
      "text/html": [
       "<div class=\"statemachine\"><?xml version=\"1.0\" encoding=\"UTF-8\" standalone=\"no\"?>\n",
       "<!DOCTYPE svg PUBLIC \"-//W3C//DTD SVG 1.1//EN\"\n",
       " \"http://www.w3.org/Graphics/SVG/1.1/DTD/svg11.dtd\">\n",
       "<!-- Generated by graphviz version 10.0.1 (20240210.2158)\n",
       " -->\n",
       "<!-- Title: list Pages: 1 -->\n",
       "<svg width=\"563pt\" height=\"132pt\"\n",
       " viewBox=\"0.00 0.00 562.65 131.98\" xmlns=\"http://www.w3.org/2000/svg\" xmlns:xlink=\"http://www.w3.org/1999/xlink\">\n",
       "<g id=\"graph0\" class=\"graph\" transform=\"scale(1 1) rotate(0) translate(4 127.98)\">\n",
       "<title>list</title>\n",
       "<polygon fill=\"white\" stroke=\"none\" points=\"-4,4 -4,-127.98 558.65,-127.98 558.65,4 -4,4\"/>\n",
       "<text text-anchor=\"middle\" x=\"277.33\" y=\"-6.5\" font-family=\"Arial\" font-size=\"10.00\">ContentNode</text>\n",
       "<!-- i -->\n",
       "<g id=\"node1\" class=\"node\">\n",
       "<title>i</title>\n",
       "<ellipse fill=\"black\" stroke=\"black\" cx=\"7.2\" cy=\"-59.48\" rx=\"7.2\" ry=\"7.2\"/>\n",
       "<text text-anchor=\"middle\" x=\"7.2\" y=\"-59.18\" font-family=\"Times,serif\" font-size=\"1.00\">i</text>\n",
       "</g>\n",
       "<!-- s_init -->\n",
       "<g id=\"node2\" class=\"node\">\n",
       "<title>s_init</title>\n",
       "<path fill=\"turquoise\" stroke=\"black\" stroke-width=\"2\" d=\"M93.4,-77.48C93.4,-77.48 63.4,-77.48 63.4,-77.48 57.4,-77.48 51.4,-71.48 51.4,-65.48 51.4,-65.48 51.4,-53.48 51.4,-53.48 51.4,-47.48 57.4,-41.48 63.4,-41.48 63.4,-41.48 93.4,-41.48 93.4,-41.48 99.4,-41.48 105.4,-47.48 105.4,-53.48 105.4,-53.48 105.4,-65.48 105.4,-65.48 105.4,-71.48 99.4,-77.48 93.4,-77.48\"/>\n",
       "<text text-anchor=\"middle\" x=\"78.4\" y=\"-55.98\" font-family=\"Arial\" font-size=\"10.00\">init</text>\n",
       "</g>\n",
       "<!-- i&#45;&gt;s_init -->\n",
       "<g id=\"edge1\" class=\"edge\">\n",
       "<title>i&#45;&gt;s_init</title>\n",
       "<path fill=\"none\" stroke=\"blue\" d=\"M14.84,-59.48C20.7,-59.48 29.78,-59.48 39.21,-59.48\"/>\n",
       "<polygon fill=\"blue\" stroke=\"blue\" points=\"39.19,-62.98 49.19,-59.48 39.19,-55.98 39.19,-62.98\"/>\n",
       "</g>\n",
       "<!-- s_todo -->\n",
       "<g id=\"node4\" class=\"node\">\n",
       "<title>s_todo</title>\n",
       "<path fill=\"white\" stroke=\"black\" d=\"M230.65,-77.48C230.65,-77.48 200.65,-77.48 200.65,-77.48 194.65,-77.48 188.65,-71.48 188.65,-65.48 188.65,-65.48 188.65,-53.48 188.65,-53.48 188.65,-47.48 194.65,-41.48 200.65,-41.48 200.65,-41.48 230.65,-41.48 230.65,-41.48 236.65,-41.48 242.65,-47.48 242.65,-53.48 242.65,-53.48 242.65,-65.48 242.65,-65.48 242.65,-71.48 236.65,-77.48 230.65,-77.48\"/>\n",
       "<text text-anchor=\"middle\" x=\"215.65\" y=\"-55.98\" font-family=\"Arial\" font-size=\"10.00\">todo</text>\n",
       "</g>\n",
       "<!-- s_init&#45;&gt;s_todo -->\n",
       "<g id=\"edge5\" class=\"edge\">\n",
       "<title>s_init&#45;&gt;s_todo</title>\n",
       "<path fill=\"none\" stroke=\"blue\" d=\"M106.12,-59.48C126.44,-59.48 154.66,-59.48 177.23,-59.48\"/>\n",
       "<polygon fill=\"blue\" stroke=\"blue\" points=\"176.93,-62.98 186.93,-59.48 176.93,-55.98 176.93,-62.98\"/>\n",
       "<text text-anchor=\"middle\" x=\"147.03\" y=\"-61.43\" font-family=\"Arial\" font-size=\"9.00\">init_todo ok</text>\n",
       "</g>\n",
       "<!-- s_init&#45;&gt;s_todo -->\n",
       "<g id=\"edge6\" class=\"edge\">\n",
       "<title>s_init&#45;&gt;s_todo</title>\n",
       "<path fill=\"none\" stroke=\"blue\" d=\"M106.05,-49.19C111.7,-47.44 117.68,-45.89 123.4,-44.98 144.13,-41.65 149.92,-41.65 170.65,-44.98 172.95,-45.34 175.28,-45.81 177.63,-46.36\"/>\n",
       "<polygon fill=\"blue\" stroke=\"blue\" points=\"176.44,-49.66 187.01,-48.94 178.29,-42.91 176.44,-49.66\"/>\n",
       "<text text-anchor=\"middle\" x=\"147.03\" y=\"-47.43\" font-family=\"Arial\" font-size=\"9.00\">edit</text>\n",
       "</g>\n",
       "<!-- s_done -->\n",
       "<g id=\"node3\" class=\"node\">\n",
       "<title>s_done</title>\n",
       "<path fill=\"white\" stroke=\"black\" d=\"M386.65,-111.48C386.65,-111.48 356.65,-111.48 356.65,-111.48 350.65,-111.48 344.65,-105.48 344.65,-99.48 344.65,-99.48 344.65,-87.48 344.65,-87.48 344.65,-81.48 350.65,-75.48 356.65,-75.48 356.65,-75.48 386.65,-75.48 386.65,-75.48 392.65,-75.48 398.65,-81.48 398.65,-87.48 398.65,-87.48 398.65,-99.48 398.65,-99.48 398.65,-105.48 392.65,-111.48 386.65,-111.48\"/>\n",
       "<text text-anchor=\"middle\" x=\"371.65\" y=\"-89.98\" font-family=\"Arial\" font-size=\"10.00\">done</text>\n",
       "</g>\n",
       "<!-- s_done&#45;&gt;s_todo -->\n",
       "<g id=\"edge2\" class=\"edge\">\n",
       "<title>s_done&#45;&gt;s_todo</title>\n",
       "<path fill=\"none\" stroke=\"blue\" d=\"M344.36,-93.21C321.75,-92.37 288.48,-89.66 260.65,-81.48 258.25,-80.77 255.83,-79.94 253.42,-79.02\"/>\n",
       "<polygon fill=\"blue\" stroke=\"blue\" points=\"254.98,-75.88 244.41,-75.14 252.21,-82.31 254.98,-75.88\"/>\n",
       "<text text-anchor=\"middle\" x=\"293.65\" y=\"-94.43\" font-family=\"Arial\" font-size=\"9.00\">edit</text>\n",
       "</g>\n",
       "<!-- s_done&#45;&gt;s_todo -->\n",
       "<g id=\"edge3\" class=\"edge\">\n",
       "<title>s_done&#45;&gt;s_todo</title>\n",
       "<path fill=\"none\" stroke=\"blue\" d=\"M354.52,-75.16C346.89,-67.87 337.15,-60.31 326.65,-56.48 303.52,-48.05 275.81,-48.86 253.99,-51.75\"/>\n",
       "<polygon fill=\"blue\" stroke=\"blue\" points=\"253.7,-48.25 244.35,-53.24 254.77,-55.17 253.7,-48.25\"/>\n",
       "<text text-anchor=\"middle\" x=\"293.65\" y=\"-68.93\" font-family=\"Arial\" font-size=\"9.00\">done_todo</text>\n",
       "<text text-anchor=\"middle\" x=\"293.65\" y=\"-58.43\" font-family=\"Arial\" font-size=\"9.00\">[existing_howto]</text>\n",
       "</g>\n",
       "<!-- s_modi -->\n",
       "<g id=\"node5\" class=\"node\">\n",
       "<title>s_modi</title>\n",
       "<path fill=\"white\" stroke=\"black\" d=\"M542.65,-60.48C542.65,-60.48 512.65,-60.48 512.65,-60.48 506.65,-60.48 500.65,-54.48 500.65,-48.48 500.65,-48.48 500.65,-36.48 500.65,-36.48 500.65,-30.48 506.65,-24.48 512.65,-24.48 512.65,-24.48 542.65,-24.48 542.65,-24.48 548.65,-24.48 554.65,-30.48 554.65,-36.48 554.65,-36.48 554.65,-48.48 554.65,-48.48 554.65,-54.48 548.65,-60.48 542.65,-60.48\"/>\n",
       "<text text-anchor=\"middle\" x=\"527.65\" y=\"-38.98\" font-family=\"Arial\" font-size=\"10.00\">modi</text>\n",
       "</g>\n",
       "<!-- s_done&#45;&gt;s_modi -->\n",
       "<g id=\"edge4\" class=\"edge\">\n",
       "<title>s_done&#45;&gt;s_modi</title>\n",
       "<path fill=\"none\" stroke=\"blue\" d=\"M398.81,-91.11C421.63,-88.38 455.27,-82.73 482.65,-71.48 486.03,-70.08 489.44,-68.42 492.77,-66.6\"/>\n",
       "<polygon fill=\"blue\" stroke=\"blue\" points=\"494.37,-69.72 501.15,-61.58 490.78,-63.71 494.37,-69.72\"/>\n",
       "<text text-anchor=\"middle\" x=\"449.65\" y=\"-100.93\" font-family=\"Arial\" font-size=\"9.00\">done_modi</text>\n",
       "<text text-anchor=\"middle\" x=\"449.65\" y=\"-90.43\" font-family=\"Arial\" font-size=\"9.00\">[existing_howto]</text>\n",
       "</g>\n",
       "<!-- s_todo&#45;&gt;s_done -->\n",
       "<g id=\"edge10\" class=\"edge\">\n",
       "<title>s_todo&#45;&gt;s_done</title>\n",
       "<path fill=\"none\" stroke=\"blue\" d=\"M227.66,-77.63C235.38,-88.51 246.78,-101.38 260.65,-107.48 283.46,-117.51 311.32,-113.82 333.3,-107.72\"/>\n",
       "<polygon fill=\"blue\" stroke=\"blue\" points=\"334.22,-111.09 342.75,-104.81 332.17,-104.4 334.22,-111.09\"/>\n",
       "<text text-anchor=\"middle\" x=\"293.65\" y=\"-115.43\" font-family=\"Arial\" font-size=\"9.00\">ok todo_done</text>\n",
       "</g>\n",
       "<!-- s_modi&#45;&gt;s_done -->\n",
       "<g id=\"edge7\" class=\"edge\">\n",
       "<title>s_modi&#45;&gt;s_done</title>\n",
       "<path fill=\"none\" stroke=\"blue\" d=\"M500.28,-42.68C477.33,-43.72 443.61,-47.36 416.65,-58.98 410.97,-61.43 405.39,-64.79 400.21,-68.47\"/>\n",
       "<polygon fill=\"blue\" stroke=\"blue\" points=\"398.35,-65.48 392.59,-74.37 402.64,-71.02 398.35,-65.48\"/>\n",
       "<text text-anchor=\"middle\" x=\"449.65\" y=\"-61.43\" font-family=\"Arial\" font-size=\"9.00\">modi_done ok</text>\n",
       "</g>\n",
       "<!-- s_modi&#45;&gt;s_todo -->\n",
       "<g id=\"edge8\" class=\"edge\">\n",
       "<title>s_modi&#45;&gt;s_todo</title>\n",
       "<path fill=\"none\" stroke=\"blue\" d=\"M500.37,-40.33C452.37,-36.96 347.47,-32.21 260.65,-46.48 258.47,-46.83 256.24,-47.27 254.01,-47.76\"/>\n",
       "<polygon fill=\"blue\" stroke=\"blue\" points=\"253.23,-44.34 244.39,-50.19 254.95,-51.13 253.23,-44.34\"/>\n",
       "<text text-anchor=\"middle\" x=\"371.65\" y=\"-40.43\" font-family=\"Arial\" font-size=\"9.00\">edit</text>\n",
       "</g>\n",
       "<!-- s_modi&#45;&gt;s_todo -->\n",
       "<g id=\"edge9\" class=\"edge\">\n",
       "<title>s_modi&#45;&gt;s_todo</title>\n",
       "<path fill=\"none\" stroke=\"blue\" d=\"M500.48,-36.01C451.76,-25.22 344.53,-7.35 260.65,-35.48 258.14,-36.32 255.61,-37.3 253.1,-38.37\"/>\n",
       "<polygon fill=\"blue\" stroke=\"blue\" points=\"251.85,-35.08 244.33,-42.54 254.86,-41.41 251.85,-35.08\"/>\n",
       "<text text-anchor=\"middle\" x=\"371.65\" y=\"-23.43\" font-family=\"Arial\" font-size=\"9.00\">modi_todo</text>\n",
       "</g>\n",
       "</g>\n",
       "</svg>\n",
       "</div>"
      ],
      "text/plain": [
       "ContentNode(model=Model(state=init), state_field='state', current_state='s_init')"
      ]
     },
     "execution_count": 21,
     "metadata": {},
     "output_type": "execute_result"
    }
   ],
   "source": [
    "n_new = ContentNode()\n",
    "n_new.load()"
   ]
  },
  {
   "cell_type": "code",
   "execution_count": 22,
   "id": "b6bf619a-baca-4389-9d93-3af834cde5de",
   "metadata": {},
   "outputs": [
    {
     "name": "stdout",
     "output_type": "stream",
     "text": [
      "<ContentNode id:0, children:['<id:0.1>', '<id:0.2>']>\n",
      "<ContentNode id:0.2, children:['<id:0.2.1>', '<id:0.2.2>']>\n",
      "0  \n",
      "  扩写指南 >>> \n",
      "  内容摘要 >>> None\n",
      "0.1 ABC \n",
      "  扩写指南 >>> \n",
      "  内容摘要 >>> None\n",
      "0.2 XYZ \n",
      "  扩写指南 >>> \n",
      "  内容摘要 >>> None\n",
      "0.2.1  \n",
      "  扩写指南 >>> 你好好写\n",
      "  内容摘要 >>> None\n",
      "0.2.2  \n",
      "  扩写指南 >>> \n",
      "  内容摘要 >>> None\n"
     ]
    }
   ],
   "source": [
    "print(n_new)\n",
    "print(n_new.get_item_by_id(\"0.2\"))\n",
    "print(n_new.get_outlines())"
   ]
  },
  {
   "cell_type": "code",
   "execution_count": 24,
   "id": "e0559953-e9c4-46db-a236-ea9a1432d06b",
   "metadata": {},
   "outputs": [
    {
     "data": {
      "text/plain": [
       "'default'"
      ]
     },
     "execution_count": 24,
     "metadata": {},
     "output_type": "execute_result"
    }
   ],
   "source": [
    "n_new._project_id"
   ]
  },
  {
   "cell_type": "code",
   "execution_count": null,
   "id": "684db32e-5d65-4718-88fc-5618b6a72466",
   "metadata": {},
   "outputs": [],
   "source": []
  }
 ],
 "metadata": {
  "kernelspec": {
   "display_name": "langchani-book-py3.10-ipykernel",
   "language": "python",
   "name": "langchani-book-py3.10-ipykernel"
  },
  "language_info": {
   "codemirror_mode": {
    "name": "ipython",
    "version": 3
   },
   "file_extension": ".py",
   "mimetype": "text/x-python",
   "name": "python",
   "nbconvert_exporter": "python",
   "pygments_lexer": "ipython3",
   "version": "3.10.0"
  }
 },
 "nbformat": 4,
 "nbformat_minor": 5
}
