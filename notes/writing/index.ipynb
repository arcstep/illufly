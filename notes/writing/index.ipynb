{
 "cells": [
  {
   "cell_type": "code",
   "execution_count": 1,
   "metadata": {},
   "outputs": [
    {
     "name": "stdout",
     "output_type": "stream",
     "text": [
      "/Users/xuehongwei/github/langchain_chinese\n"
     ]
    }
   ],
   "source": [
    "from dotenv import load_dotenv, find_dotenv\n",
    "load_dotenv(find_dotenv(), override=True)\n",
    "import os\n",
    "os.chdir('../..')\n",
    "print(os.getcwd())"
   ]
  },
  {
   "cell_type": "code",
   "execution_count": 3,
   "metadata": {},
   "outputs": [],
   "source": [
    "from langchain_chinese import BookWritingChain\n",
    "from langchain_zhipu import ChatZhipuAI\n",
    "\n",
    "book = BookWritingChain(config_path=\"./notes/writing\", llm=ChatZhipuAI())\n",
    "book_chain = book.get_chain(\n",
    "    styles=\"列表时使用： 1) 2) 这样的序号\", \n",
    "    demo=\"\"\"\n",
    "    1）全名：欧阳娜娜，小名：娜娜；\n",
    "    2）全名：欧阳娜娜，小名：娜娜；    \n",
    "    \"\"\")"
   ]
  },
  {
   "cell_type": "code",
   "execution_count": 6,
   "metadata": {},
   "outputs": [
    {
     "data": {
      "text/plain": [
       "ChatPromptTemplate(input_variables=['input', 'knowledge'], input_types={'chat_history': typing.List[typing.Union[langchain_core.messages.ai.AIMessage, langchain_core.messages.human.HumanMessage, langchain_core.messages.chat.ChatMessage, langchain_core.messages.system.SystemMessage, langchain_core.messages.function.FunctionMessage, langchain_core.messages.tool.ToolMessage]]}, partial_variables={'chat_history': [], 'demo': '\\n    1）全名：欧阳娜娜，小名：娜娜；\\n    2）全名：欧阳娜娜，小名：娜娜；    \\n    ', 'goal': '暂无。', 'instruction': '暂无。', 'rules': '暂无。', 'styles': '列表时使用： 1) 2) 这样的序号'}, messages=[SystemMessagePromptTemplate(prompt=PromptTemplate(input_variables=['demo', 'goal', 'instruction', 'knowledge', 'rules', 'styles'], template='\\n你是强大的AI写作助手。\\n\\n## 写作目标\\n{goal}\\n\\n## 指导原则\\n{instruction}\\n\\n## 你的思考过程必须考虑下面提供的资料内容\\n{knowledge}\\n\\n## 你的输出不得与如下观点相违背\\n{rules}\\n\\n## 你的写作风格必须符合以下要求\\n{styles}\\n\\n## 你的输出内容必须参考如下示例\\n{demo}\\n')), MessagesPlaceholder(variable_name='chat_history', optional=True), HumanMessagePromptTemplate(prompt=PromptTemplate(input_variables=['input'], template='{input}'))])"
      ]
     },
     "execution_count": 6,
     "metadata": {},
     "output_type": "execute_result"
    }
   ],
   "source": [
    " book_chain.get_prompts()[0]"
   ]
  },
  {
   "cell_type": "code",
   "execution_count": 8,
   "metadata": {},
   "outputs": [
    {
     "name": "stdout",
     "output_type": "stream",
     "text": [
      "\n",
      "你是强大的AI写作助手。\n",
      "\n",
      "## 写作目标\n",
      "暂无。\n",
      "\n",
      "## 指导原则\n",
      "暂无。\n",
      "\n",
      "## 你的思考过程必须考虑下面提供的资料内容\n",
      "「查询到的背景知识」\n",
      "\n",
      "## 你的输出不得与如下观点相违背\n",
      "暂无。\n",
      "\n",
      "## 你的写作风格必须符合以下要求\n",
      "列表时使用： 1) 2) 这样的序号\n",
      "\n",
      "## 你的输出内容必须参考如下示例\n",
      "\n",
      "    1）全名：欧阳娜娜，小名：娜娜；\n",
      "    2）全名：欧阳娜娜，小名：娜娜；    \n",
      "    \n",
      "\n"
     ]
    }
   ],
   "source": [
    "prompt_value = book_chain.get_prompts()[0].invoke({\"input\": \"「我的问题」\", \"knowledge\": \"「查询到的背景知识」\"})\n",
    "print(prompt_value.messages[0].content)"
   ]
  },
  {
   "cell_type": "code",
   "execution_count": 9,
   "metadata": {},
   "outputs": [
    {
     "name": "stdout",
     "output_type": "stream",
     "text": [
      "根据您的要求，以下是5个人名的列表：\n",
      "\n",
      "1）全名：张伟，小名：伟伟；\n",
      "2）全名：李娜，小名：娜娜；\n",
      "3）全名：王磊，小名：磊磊；\n",
      "4）全名：刘洋，小名：洋洋；\n",
      "5）全名：陈静，小名：静静。\n"
     ]
    }
   ],
   "source": [
    "resp = book_chain.invoke(\"给我5个人名的列表\")\n",
    "print(resp.content)"
   ]
  },
  {
   "cell_type": "code",
   "execution_count": 16,
   "metadata": {},
   "outputs": [
    {
     "data": {
      "text/plain": [
       "AIMessage(content='It is said that there is a figure named Bing Shen at Guangzhou HarmonyOS Company. \\n\\n(Note: The provided information does not directly correlate with the content of the user\\'s query. The translation or response is based on the assumption that \"炳神\" could be a person\\'s name or a nickname associated with a specific individual at the company mentioned.)')"
      ]
     },
     "execution_count": 16,
     "metadata": {},
     "output_type": "execute_result"
    }
   ],
   "source": [
    "translate_prompt_kv = {\n",
    "  \"goal\": \"如果给定的文字是中文，就请帮我为英文；如果给定的文字是其他语言，就帮我翻译为中文\",\n",
    "\n",
    "  \"instruction\": \"\"\"\n",
    "  1. 请尽量保持文章的原来意思和原来的风格，不要额外发挥。\n",
    "  2. 直接给出翻译结果即可。\n",
    "  3. 语言尽量简练，不要啰嗦，不要增加补充提问。\n",
    "  \"\"\",\n",
    "\n",
    "  \"demo\": \"\"\"\n",
    "  ```\n",
    "  user: hi\n",
    "  assistant: 你好\n",
    "  user: 你好\n",
    "  assistant: hi \n",
    "  ```\n",
    "  \"\"\"\n",
    "}\n",
    "\n",
    "translate_chain = book.get_chain(**translate_prompt_kv)\n",
    "translate_chain.invoke(\"听说广州鸿蒙公司有一个炳神\")"
   ]
  },
  {
   "cell_type": "code",
   "execution_count": null,
   "metadata": {},
   "outputs": [],
   "source": []
  }
 ],
 "metadata": {
  "kernelspec": {
   "display_name": "langchain-zhipu-Ddey8KS3-py3.9",
   "language": "python",
   "name": "python3"
  },
  "language_info": {
   "codemirror_mode": {
    "name": "ipython",
    "version": 3
   },
   "file_extension": ".py",
   "mimetype": "text/x-python",
   "name": "python",
   "nbconvert_exporter": "python",
   "pygments_lexer": "ipython3",
   "version": "3.9.18"
  }
 },
 "nbformat": 4,
 "nbformat_minor": 2
}
