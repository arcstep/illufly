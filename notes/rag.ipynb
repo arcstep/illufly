{
 "cells": [
  {
   "cell_type": "code",
   "execution_count": 1,
   "metadata": {},
   "outputs": [],
   "source": [
    "from dotenv import load_dotenv, find_dotenv\n",
    "load_dotenv(find_dotenv(), override=True)\n",
    "import os\n",
    "os.chdir('..')"
   ]
  },
  {
   "cell_type": "code",
   "execution_count": 7,
   "metadata": {},
   "outputs": [],
   "source": [
    "from langchain_openai import ChatOpenAI, OpenAIEmbeddings\n",
    "from langchain_community.vectorstores import Chroma\n",
    "from langchain_chinese import LocalFilesLoader, create_qa_chain\n",
    "\n",
    "docs = LocalFilesLoader()\n",
    "chunks = docs.load_and_split()\n",
    "\n",
    "db = Chroma.from_documents(chunks, OpenAIEmbeddings(model=\"text-embedding-3-small\"))\n",
    "\n",
    "chain = create_qa_chain(ChatOpenAI(), db.as_retriever())"
   ]
  },
  {
   "cell_type": "code",
   "execution_count": 8,
   "metadata": {},
   "outputs": [
    {
     "data": {
      "text/plain": [
       "AIMessage(content='供应商达标的业绩要求包括具备健全和稳定的财务状况、月销售额不得低于人民币3万元、产品必须符合国家及行业标准并通过相关质量认证、具有至少五年的相关行业经验、有良好的业务声誉和客户满意度记录。')"
      ]
     },
     "execution_count": 8,
     "metadata": {},
     "output_type": "execute_result"
    }
   ],
   "source": [
    "chain.invoke(\"供应商达标的业绩要求是什么\")"
   ]
  },
  {
   "cell_type": "code",
   "execution_count": 6,
   "metadata": {},
   "outputs": [
    {
     "name": "stderr",
     "output_type": "stream",
     "text": [
      "/Users/xuehongwei/Library/Caches/pypoetry/virtualenvs/langchain-chinese-gSQlHcwW-py3.9/lib/python3.9/site-packages/langchain_core/_api/beta_decorator.py:86: LangChainBetaWarning: This API is in beta and may change in the future.\n",
      "  warn_beta(\n"
     ]
    },
    {
     "name": "stdout",
     "output_type": "stream",
     "text": [
      "/Users/xuehongwei/github/wencheng/data/documents/autogpt-demo/供应商资格要求.pdf\n",
      "/Users/xuehongwei/github/wencheng/data/documents/autogpt-demo/供应商资格要求.pdf\n",
      "/Users/xuehongwei/github/wencheng/data/documents/autogpt-demo/供应商资格要求.pdf\n",
      "/Users/xuehongwei/github/wencheng/data/documents/autogpt-demo/求职简历.docx\n",
      "|供|应|商|达|标|的|业|绩|要|求|是|每|个|月|销|售|的|产品|总|价|不|得|低|于|人|民|币|3|万元|。||"
     ]
    }
   ],
   "source": [
    "async for chunk in chain.astream_events(\"供应商达标的业绩要求是什么?\", version=\"v1\"):\n",
    "\t# print(chunk)\n",
    "\t# print(chunk['event'])\n",
    "\tif(chunk['event'] == \"on_chat_model_stream\"):\n",
    "\t\tprint(chunk['data']['chunk'].content, end=\"|\", flush=True)\n",
    "\telif(chunk['event'] == \"on_retriever_end\"):\n",
    "\t\tfor doc in chunk['data']['output']['documents']:\n",
    "\t\t\tprint(doc.metadata['source'])\n"
   ]
  },
  {
   "cell_type": "code",
   "execution_count": null,
   "metadata": {},
   "outputs": [],
   "source": []
  }
 ],
 "metadata": {
  "kernelspec": {
   "display_name": "langchain-chinese-py3.9-ipkyernel",
   "language": "python",
   "name": "langchain-chinese-py3.9-ipkyernel"
  },
  "language_info": {
   "codemirror_mode": {
    "name": "ipython",
    "version": 3
   },
   "file_extension": ".py",
   "mimetype": "text/x-python",
   "name": "python",
   "nbconvert_exporter": "python",
   "pygments_lexer": "ipython3",
   "version": "3.9.18"
  }
 },
 "nbformat": 4,
 "nbformat_minor": 2
}
