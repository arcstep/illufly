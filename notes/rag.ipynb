{
 "cells": [
  {
   "cell_type": "code",
   "execution_count": 1,
   "metadata": {},
   "outputs": [],
   "source": [
    "from dotenv import load_dotenv, find_dotenv\n",
    "load_dotenv(find_dotenv(), override=True)\n",
    "import os\n",
    "os.chdir('..')"
   ]
  },
  {
   "cell_type": "code",
   "execution_count": 2,
   "metadata": {},
   "outputs": [],
   "source": [
    "from langchain_chinese import ChatZhipuAI, ZhipuAIEmbeddings\n",
    "from langchain_chinese import LocalFilesLoader, create_qa_chain\n",
    "from langchain_community.vectorstores import Chroma\n",
    "\n",
    "docs = LocalFilesLoader()\n",
    "chunks = docs.load_and_split()\n",
    "\n",
    "db = Chroma.from_documents(chunks, ZhipuAIEmbeddings())\n",
    "\n",
    "chain = create_qa_chain(ChatZhipuAI(), db.as_retriever())"
   ]
  },
  {
   "cell_type": "code",
   "execution_count": 3,
   "metadata": {},
   "outputs": [
    {
     "data": {
      "text/plain": [
       "AIMessage(content='供应商达标的业绩要求包括：\\n\\n1. 月销售额：与我方合作的月份，经我方销售的产品月总价不得低于人民币3万元。\\n2. 稳定的财务状况：供应商应具备健全和稳定的财务状况，以及良好的信用记录。\\n3. 流动资金：供应商应具备足够的流动资金来支持合同执行。')"
      ]
     },
     "execution_count": 3,
     "metadata": {},
     "output_type": "execute_result"
    }
   ],
   "source": [
    "chain.invoke(\"供应商达标的业绩要求是什么\")"
   ]
  },
  {
   "cell_type": "code",
   "execution_count": 4,
   "metadata": {},
   "outputs": [
    {
     "name": "stderr",
     "output_type": "stream",
     "text": [
      "/Users/xuehongwei/Library/Caches/pypoetry/virtualenvs/langchain-chinese-gSQlHcwW-py3.9/lib/python3.9/site-packages/langchain_core/_api/beta_decorator.py:86: LangChainBetaWarning: This API is in beta and may change in the future.\n",
      "  warn_beta(\n"
     ]
    },
    {
     "name": "stdout",
     "output_type": "stream",
     "text": [
      "/Users/xuehongwei/github/wencheng/data/documents/autogpt-demo/供应商资格要求.pdf\n",
      "/Users/xuehongwei/github/wencheng/data/documents/autogpt-demo/供应商资格要求.pdf\n",
      "/Users/xuehongwei/github/wencheng/data/documents/autogpt-demo/求职简历.docx\n",
      "/Users/xuehongwei/github/wencheng/data/documents/autogpt-demo/供应商资格要求.pdf\n",
      "供应商|达|标的|业绩|要求|包括|以下|几点|：|\n",
      "\n",
      "1|.| 月|销售额|：|与我|方|合作的|月份|，|经|我|方|销售|的产品|月|总价|不得|低于|人民币|3|万元|。|\n",
      "2|.| |稳定的|财务|状况|：|供应商|应|具备|健全|和|稳定的|财务|状况|，|以及|良好的|信用|记录|。|\n",
      "3|.| |流动|资金|：|供应商|应|具备|足够的|流动|资金|来|支持|合同|执行|。||"
     ]
    }
   ],
   "source": [
    "async for chunk in chain.astream_events(\"供应商达标的业绩要求是什么?\", version=\"v1\"):\n",
    "\t# print(chunk)\n",
    "\t# print(chunk['event'])\n",
    "\tif(chunk['event'] == \"on_chat_model_stream\"):\n",
    "\t\tprint(chunk['data']['chunk'].content, end=\"|\", flush=True)\n",
    "\telif(chunk['event'] == \"on_retriever_end\"):\n",
    "\t\tfor doc in chunk['data']['output']['documents']:\n",
    "\t\t\tprint(doc.metadata['source'])\n"
   ]
  },
  {
   "cell_type": "code",
   "execution_count": null,
   "metadata": {},
   "outputs": [],
   "source": []
  }
 ],
 "metadata": {
  "kernelspec": {
   "display_name": "langchain-chinese-py3.9-ipkyernel",
   "language": "python",
   "name": "langchain-chinese-py3.9-ipkyernel"
  },
  "language_info": {
   "codemirror_mode": {
    "name": "ipython",
    "version": 3
   },
   "file_extension": ".py",
   "mimetype": "text/x-python",
   "name": "python",
   "nbconvert_exporter": "python",
   "pygments_lexer": "ipython3",
   "version": "3.9.18"
  }
 },
 "nbformat": 4,
 "nbformat_minor": 2
}
