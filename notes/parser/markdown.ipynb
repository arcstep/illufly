{
 "cells": [
  {
   "cell_type": "code",
   "execution_count": 1,
   "id": "8c8741a9-96ed-4ba0-b2b9-7a61f1062f10",
   "metadata": {},
   "outputs": [],
   "source": [
    "from textlong.parser import parse_markdown\n",
    "from textlong.writing import MarkdownDocuments"
   ]
  },
  {
   "cell_type": "code",
   "execution_count": 9,
   "id": "6c77831b-30d3-435d-a137-bbe6db4d23d8",
   "metadata": {},
   "outputs": [
    {
     "data": {
      "text/plain": [
       "{'cmd_kwargs': {'input_doc': None,\n",
       "  'input_file': None,\n",
       "  'output_file': '(提纲)我修了个假仙.md',\n",
       "  'prompt_id': 'OUTLINE',\n",
       "  'task': '\\n请帮我创作500字的修仙小说，标题为《我修了个假仙》，主角是夏小兰，男一号是周成，\\n每一个章节都适用意外、打脸的线索推动。\\n'},\n",
       " 'cmd_name': 'from_idea',\n",
       " 'modified_at': '2024-06-15 16:53:32',\n",
       " 'id': '1718533656-0',\n",
       " 'type': 'front_matter'}"
      ]
     },
     "execution_count": 9,
     "metadata": {},
     "output_type": "execute_result"
    }
   ],
   "source": [
    "md = \"\"\"\n",
    "---\n",
    "cmd_kwargs:\n",
    "  input_doc: null\n",
    "  input_file: null\n",
    "  output_file: (提纲)我修了个假仙.md\n",
    "  prompt_id: OUTLINE\n",
    "  task: '\n",
    "\n",
    "    请帮我创作500字的修仙小说，标题为《我修了个假仙》，主角是夏小兰，男一号是周成，\n",
    "\n",
    "    每一个章节都适用意外、打脸的线索推动。\n",
    "\n",
    "    '\n",
    "cmd_name: from_idea\n",
    "modified_at: '2024-06-15 16:53:32'\n",
    "---\n",
    "\n",
    "\n",
    "# 《我修了个假仙》\n",
    "\n",
    "## 第一章：误入仙途\n",
    "\n",
    "This is the content of my document...\n",
    "\"\"\"\n",
    "\n",
    "doc = parse_markdown(md)\n",
    "doc[0].metadata"
   ]
  },
  {
   "cell_type": "code",
   "execution_count": 5,
   "id": "8cf42402-4e2b-47b9-aa67-61ebdc54a5d1",
   "metadata": {},
   "outputs": [
    {
     "name": "stdout",
     "output_type": "stream",
     "text": [
      "---\n",
      "cmd_kwargs:\n",
      "  input_doc: null\n",
      "  input_file: null\n",
      "  output_file: (提纲)我修了个假仙.md\n",
      "  prompt_id: OUTLINE\n",
      "  task: '\n",
      "\n",
      "    请帮我创作500字的修仙小说，标题为《我修了个假仙》，主角是夏小兰，男一号是周成，\n",
      "\n",
      "    每一个章节都适用意外、打脸的线索推动。\n",
      "\n",
      "    '\n",
      "cmd_name: from_idea\n",
      "modified_at: '2024-06-15 16:53:32'\n",
      "---\n",
      "\n",
      "# 《我修了个假仙》\n",
      "\n",
      "## 第一章：误入仙途\n",
      "\n",
      "This is the content of my document...\n",
      "\n",
      "\n"
     ]
    }
   ],
   "source": [
    "print(MarkdownDocuments.to_markdown(doc))"
   ]
  },
  {
   "cell_type": "code",
   "execution_count": 11,
   "id": "f4f06647-395a-405e-a9f5-7826b285356f",
   "metadata": {},
   "outputs": [
    {
     "name": "stdout",
     "output_type": "stream",
     "text": [
      "<hr />\n",
      "<p>cmd_kwargs:\n",
      "input_doc: null\n",
      "input_file: null\n",
      "output_file: (提纲)我修了个假仙.md\n",
      "prompt_id: OUTLINE\n",
      "task: '</p>\n",
      "<pre><code>请帮我创作500字的修仙小说，标题为《我修了个假仙》，主角是夏小兰，男一号是周成，\n",
      "\n",
      "每一个章节都适用意外、打脸的线索推动。\n",
      "\n",
      "'</code></pre>\n",
      "<h2>cmd_name: from_idea\n",
      "modified_at: '2024-06-15 16:53:32'</h2>\n",
      "<h1>《我修了个假仙》</h1>\n",
      "<h2>第一章：误入仙途</h2>\n",
      "<p>This is the content of my document...</p>\n",
      "\n"
     ]
    }
   ],
   "source": [
    "import mistune\n",
    "print(mistune.html(md))"
   ]
  },
  {
   "cell_type": "code",
   "execution_count": null,
   "id": "13082466-2d59-460f-8790-1688db2eb534",
   "metadata": {},
   "outputs": [],
   "source": []
  }
 ],
 "metadata": {
  "kernelspec": {
   "display_name": "langchani-book-py3.10-ipykernel",
   "language": "python",
   "name": "langchani-book-py3.10-ipykernel"
  },
  "language_info": {
   "codemirror_mode": {
    "name": "ipython",
    "version": 3
   },
   "file_extension": ".py",
   "mimetype": "text/x-python",
   "name": "python",
   "nbconvert_exporter": "python",
   "pygments_lexer": "ipython3",
   "version": "3.10.0"
  }
 },
 "nbformat": 4,
 "nbformat_minor": 5
}
