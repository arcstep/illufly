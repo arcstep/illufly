{
 "cells": [
  {
   "cell_type": "code",
   "execution_count": 1,
   "metadata": {},
   "outputs": [],
   "source": [
    "from dotenv import load_dotenv, find_dotenv\n",
    "load_dotenv(find_dotenv(), override=True)\n",
    "import os\n",
    "os.chdir('..')"
   ]
  },
  {
   "cell_type": "code",
   "execution_count": 2,
   "metadata": {},
   "outputs": [],
   "source": [
    "from langchain_core.prompts import ChatPromptTemplate, MessagesPlaceholder\n",
    "from langchain_openai.chat_models import ChatOpenAI\n",
    "\n",
    "model = ChatOpenAI()\n",
    "prompt = ChatPromptTemplate.from_messages(\n",
    "    [\n",
    "        (\"system\", \"你是一个数学老师。\"),\n",
    "        MessagesPlaceholder(variable_name=\"history\"),\n",
    "        (\"human\", \"{input}\"),\n",
    "    ]\n",
    ")\n",
    "chain = prompt | model"
   ]
  },
  {
   "cell_type": "code",
   "execution_count": 3,
   "metadata": {},
   "outputs": [],
   "source": [
    "from langchain_community.chat_message_histories import ChatMessageHistory\n",
    "from langchain_core.chat_history import BaseChatMessageHistory\n",
    "\n",
    "store = {}\n",
    "\n",
    "def get_session_history(session_id: str) -> BaseChatMessageHistory:\n",
    "    if session_id not in store:\n",
    "        store[session_id] = ChatMessageHistory()\n",
    "    return store[session_id]"
   ]
  },
  {
   "cell_type": "code",
   "execution_count": 4,
   "metadata": {},
   "outputs": [],
   "source": [
    "from langchain.memory import ConversationBufferMemory, ConversationBufferWindowMemory\n",
    "\n",
    "memory = ConversationBufferWindowMemory(return_messages=True, k=2)"
   ]
  },
  {
   "cell_type": "code",
   "execution_count": 5,
   "metadata": {},
   "outputs": [],
   "source": [
    "from langchain_chinese import WithMemoryBinding\n",
    "\n",
    "withMemoryChain = WithMemoryBinding(\n",
    "  chain,\n",
    "  get_session_history,\n",
    "  memory,\n",
    "  input_messages_key=\"input\",\n",
    "  history_messages_key=\"history\",\n",
    ")"
   ]
  },
  {
   "cell_type": "code",
   "execution_count": 6,
   "metadata": {},
   "outputs": [
    {
     "data": {
      "text/plain": [
       "AIMessage(content='三角函数是一类描述角度关系的数学函数。在三角函数中，最常见的包括正弦函数（sine）、余弦函数（cosine）、正切函数（tangent）、余切函数（cotangent）、正割函数（secant）和余割函数（cosecant）。这些函数可以用来描述直角三角形中角度和边长之间的关系，以及周期性现象中的波动特征。在数学和物理学中，三角函数被广泛应用于各种领域，如信号处理、振动学、天文学等。')"
      ]
     },
     "execution_count": 6,
     "metadata": {},
     "output_type": "execute_result"
    }
   ],
   "source": [
    "withMemoryChain.invoke(\n",
    "  {\"input\": \"三角函数什么意思？?\"},\n",
    "  config={\"configurable\": {\"session_id\": \"abc123\"}},\n",
    ")"
   ]
  },
  {
   "cell_type": "code",
   "execution_count": 7,
   "metadata": {},
   "outputs": [
    {
     "data": {
      "text/plain": [
       "AIMessage(content='正弦是三角函数中的一种，通常用符号sin表示。在直角三角形中，正弦函数代表着一个角的对边长度与斜边长度之比。具体来说，对于一个角为θ的直角三角形，正弦函数的定义为：\\n\\nsin(θ) = 对边 / 斜边\\n\\n其中，对边是与角θ相对的那条边的长度，斜边是直角三角形的斜边长度。正弦函数的取值范围在-1到1之间，当角度为0度时，正弦函数的值为0；当角度为90度时，正弦函数的值为1；当角度为180度时，正弦函数的值再次为0。正弦函数在周期性为360度的情况下，呈现出波动的特性，常被用于描述周期性现象中的变化规律。')"
      ]
     },
     "execution_count": 7,
     "metadata": {},
     "output_type": "execute_result"
    }
   ],
   "source": [
    "withMemoryChain.invoke(\n",
    "  {\"input\": \"正弦是什么?\"},\n",
    "  config={\"configurable\": {\"session_id\": \"abc123\"}},\n",
    ")"
   ]
  },
  {
   "cell_type": "code",
   "execution_count": 8,
   "metadata": {},
   "outputs": [
    {
     "data": {
      "text/plain": [
       "AIMessage(content='正弦函数通常不是小学阶段的数学课程内容。一般来说，正弦函数是在中学阶段的数学学习中出现的内容，特别是在学习三角函数时会详细讨论正弦函数的概念和性质。小学阶段的数学课程主要侧重于基本的数学概念、算术运算、几何形状等内容，一般不会涉及到三角函数这样的高阶数学概念。')"
      ]
     },
     "execution_count": 8,
     "metadata": {},
     "output_type": "execute_result"
    }
   ],
   "source": [
    "withMemoryChain.invoke(\n",
    "  {\"input\": \"小学会学到吗?\"},\n",
    "  config={\"configurable\": {\"session_id\": \"abc123\"}},\n",
    ")"
   ]
  },
  {
   "cell_type": "code",
   "execution_count": 9,
   "metadata": {},
   "outputs": [
    {
     "data": {
      "text/plain": [
       "[HumanMessage(content='三角函数什么意思？?'),\n",
       " AIMessage(content='三角函数是一类描述角度关系的数学函数。在三角函数中，最常见的包括正弦函数（sine）、余弦函数（cosine）、正切函数（tangent）、余切函数（cotangent）、正割函数（secant）和余割函数（cosecant）。这些函数可以用来描述直角三角形中角度和边长之间的关系，以及周期性现象中的波动特征。在数学和物理学中，三角函数被广泛应用于各种领域，如信号处理、振动学、天文学等。'),\n",
       " HumanMessage(content='正弦是什么?'),\n",
       " AIMessage(content='正弦是三角函数中的一种，通常用符号sin表示。在直角三角形中，正弦函数代表着一个角的对边长度与斜边长度之比。具体来说，对于一个角为θ的直角三角形，正弦函数的定义为：\\n\\nsin(θ) = 对边 / 斜边\\n\\n其中，对边是与角θ相对的那条边的长度，斜边是直角三角形的斜边长度。正弦函数的取值范围在-1到1之间，当角度为0度时，正弦函数的值为0；当角度为90度时，正弦函数的值为1；当角度为180度时，正弦函数的值再次为0。正弦函数在周期性为360度的情况下，呈现出波动的特性，常被用于描述周期性现象中的变化规律。'),\n",
       " HumanMessage(content='小学会学到吗?'),\n",
       " AIMessage(content='正弦函数通常不是小学阶段的数学课程内容。一般来说，正弦函数是在中学阶段的数学学习中出现的内容，特别是在学习三角函数时会详细讨论正弦函数的概念和性质。小学阶段的数学课程主要侧重于基本的数学概念、算术运算、几何形状等内容，一般不会涉及到三角函数这样的高阶数学概念。')]"
      ]
     },
     "execution_count": 9,
     "metadata": {},
     "output_type": "execute_result"
    }
   ],
   "source": [
    "store['abc123'].messages"
   ]
  },
  {
   "cell_type": "code",
   "execution_count": 10,
   "metadata": {},
   "outputs": [
    {
     "data": {
      "text/plain": [
       "[HumanMessage(content='正弦是什么?'),\n",
       " AIMessage(content='正弦是三角函数中的一种，通常用符号sin表示。在直角三角形中，正弦函数代表着一个角的对边长度与斜边长度之比。具体来说，对于一个角为θ的直角三角形，正弦函数的定义为：\\n\\nsin(θ) = 对边 / 斜边\\n\\n其中，对边是与角θ相对的那条边的长度，斜边是直角三角形的斜边长度。正弦函数的取值范围在-1到1之间，当角度为0度时，正弦函数的值为0；当角度为90度时，正弦函数的值为1；当角度为180度时，正弦函数的值再次为0。正弦函数在周期性为360度的情况下，呈现出波动的特性，常被用于描述周期性现象中的变化规律。'),\n",
       " HumanMessage(content='小学会学到吗?'),\n",
       " AIMessage(content='正弦函数通常不是小学阶段的数学课程内容。一般来说，正弦函数是在中学阶段的数学学习中出现的内容，特别是在学习三角函数时会详细讨论正弦函数的概念和性质。小学阶段的数学课程主要侧重于基本的数学概念、算术运算、几何形状等内容，一般不会涉及到三角函数这样的高阶数学概念。')]"
      ]
     },
     "execution_count": 10,
     "metadata": {},
     "output_type": "execute_result"
    }
   ],
   "source": [
    "memory.buffer_as_messages"
   ]
  },
  {
   "cell_type": "code",
   "execution_count": null,
   "metadata": {},
   "outputs": [],
   "source": []
  }
 ],
 "metadata": {
  "kernelspec": {
   "display_name": "langchain-chinese-py3.9-ipkyernel",
   "language": "python",
   "name": "langchain-chinese-py3.9-ipkyernel"
  },
  "language_info": {
   "codemirror_mode": {
    "name": "ipython",
    "version": 3
   },
   "file_extension": ".py",
   "mimetype": "text/x-python",
   "name": "python",
   "nbconvert_exporter": "python",
   "pygments_lexer": "ipython3",
   "version": "3.9.18"
  }
 },
 "nbformat": 4,
 "nbformat_minor": 2
}
