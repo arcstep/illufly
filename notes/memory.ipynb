{
 "cells": [
  {
   "cell_type": "code",
   "execution_count": 1,
   "metadata": {},
   "outputs": [],
   "source": [
    "from dotenv import load_dotenv, find_dotenv\n",
    "load_dotenv(find_dotenv(), override=True)\n",
    "import os\n",
    "os.chdir('..')"
   ]
  },
  {
   "cell_type": "code",
   "execution_count": 12,
   "metadata": {},
   "outputs": [],
   "source": [
    "from langchain_core.prompts import ChatPromptTemplate, MessagesPlaceholder\n",
    "from langchain_openai.chat_models import ChatOpenAI\n",
    "from langchain_core.output_parsers import StrOutputParser\n",
    "\n",
    "model = ChatOpenAI()\n",
    "prompt = ChatPromptTemplate.from_messages(\n",
    "    [\n",
    "        (\"system\", \"你是一个数学老师。\"),\n",
    "        MessagesPlaceholder(variable_name=\"history\"),\n",
    "        (\"human\", \"{input}\"),\n",
    "    ]\n",
    ")\n",
    "chain = prompt | model | StrOutputParser()"
   ]
  },
  {
   "cell_type": "code",
   "execution_count": 13,
   "metadata": {},
   "outputs": [],
   "source": [
    "from langchain_community.chat_message_histories import ChatMessageHistory\n",
    "from langchain_core.chat_history import BaseChatMessageHistory\n",
    "\n",
    "store = {}\n",
    "\n",
    "def get_session_history(session_id: str) -> BaseChatMessageHistory:\n",
    "    if session_id not in store:\n",
    "        store[session_id] = ChatMessageHistory()\n",
    "    return store[session_id]"
   ]
  },
  {
   "cell_type": "code",
   "execution_count": 14,
   "metadata": {},
   "outputs": [],
   "source": [
    "from langchain.memory import ConversationBufferMemory, ConversationBufferWindowMemory\n",
    "\n",
    "memory = ConversationBufferWindowMemory(return_messages=True, k=2)"
   ]
  },
  {
   "cell_type": "code",
   "execution_count": 15,
   "metadata": {},
   "outputs": [],
   "source": [
    "from langchain_chinese import WithMemoryBinding\n",
    "\n",
    "withMemoryChain = WithMemoryBinding(\n",
    "  chain,\n",
    "  get_session_history,\n",
    "  memory,\n",
    "  input_messages_key=\"input\",\n",
    "  history_messages_key=\"history\",\n",
    ")"
   ]
  },
  {
   "cell_type": "code",
   "execution_count": 16,
   "metadata": {},
   "outputs": [
    {
     "data": {
      "text/plain": [
       "'三角函数是用来描述角度和三角形之间关系的数学函数。常见的三角函数有正弦函数、余弦函数、正切函数等。这些函数在三角学和几何学中有着重要的应用，可以帮助我们计算角度、边长和面积等问题。三角函数在物理学、工程学、计算机图形学等领域也有着广泛的应用。'"
      ]
     },
     "execution_count": 16,
     "metadata": {},
     "output_type": "execute_result"
    }
   ],
   "source": [
    "withMemoryChain.invoke(\n",
    "  {\"input\": \"三角函数什么意思？?\"},\n",
    "  config={\"configurable\": {\"session_id\": \"abc123\"}},\n",
    ")"
   ]
  },
  {
   "cell_type": "code",
   "execution_count": 17,
   "metadata": {},
   "outputs": [
    {
     "data": {
      "text/plain": [
       "'在三角函数中，正弦函数（sine function）是一个描述角度和直角三角形边长之间关系的函数。在一个直角三角形中，正弦值表示对边与斜边的比值。正弦函数通常用sin表示，在数学中的定义为：\\n\\nsin(θ) = 对边 / 斜边\\n\\n其中，θ表示角度，对边表示与这个角度相对应的直角三角形的对边长，斜边表示直角三角形的斜边长。\\n\\n正弦函数在三角学中有着重要的应用，可以帮助我们计算角度、边长和面积等问题。它也是三角函数中最为基础和常见的函数之一。'"
      ]
     },
     "execution_count": 17,
     "metadata": {},
     "output_type": "execute_result"
    }
   ],
   "source": [
    "withMemoryChain.invoke(\n",
    "  {\"input\": \"正弦是什么?\"},\n",
    "  config={\"configurable\": {\"session_id\": \"abc123\"}},\n",
    ")"
   ]
  },
  {
   "cell_type": "code",
   "execution_count": 18,
   "metadata": {},
   "outputs": [
    {
     "data": {
      "text/plain": [
       "'一般来说，小学并不会涉及到正式的三角函数的概念，包括正弦函数。小学阶段通常主要学习基础的数学概念，如加减乘除、数的大小比较、几何图形等。正弦函数是在中学阶段开始学习的数学内容，通常在初中阶段会首次接触三角函数的概念和应用。\\n\\n即便在小学阶段没有学习正弦函数，但在将来学习数学时，正弦函数会成为一个重要的概念。因此，对于想要深入学习数学的学生来说，了解和掌握正弦函数等三角函数的知识是很有帮助的。'"
      ]
     },
     "execution_count": 18,
     "metadata": {},
     "output_type": "execute_result"
    }
   ],
   "source": [
    "withMemoryChain.invoke(\n",
    "  {\"input\": \"小学会学到吗?\"},\n",
    "  config={\"configurable\": {\"session_id\": \"abc123\"}},\n",
    ")"
   ]
  },
  {
   "cell_type": "code",
   "execution_count": 19,
   "metadata": {},
   "outputs": [
    {
     "data": {
      "text/plain": [
       "[HumanMessage(content='三角函数什么意思？?'),\n",
       " AIMessage(content='三角函数是用来描述角度和三角形之间关系的数学函数。常见的三角函数有正弦函数、余弦函数、正切函数等。这些函数在三角学和几何学中有着重要的应用，可以帮助我们计算角度、边长和面积等问题。三角函数在物理学、工程学、计算机图形学等领域也有着广泛的应用。'),\n",
       " HumanMessage(content='正弦是什么?'),\n",
       " AIMessage(content='在三角函数中，正弦函数（sine function）是一个描述角度和直角三角形边长之间关系的函数。在一个直角三角形中，正弦值表示对边与斜边的比值。正弦函数通常用sin表示，在数学中的定义为：\\n\\nsin(θ) = 对边 / 斜边\\n\\n其中，θ表示角度，对边表示与这个角度相对应的直角三角形的对边长，斜边表示直角三角形的斜边长。\\n\\n正弦函数在三角学中有着重要的应用，可以帮助我们计算角度、边长和面积等问题。它也是三角函数中最为基础和常见的函数之一。'),\n",
       " HumanMessage(content='小学会学到吗?'),\n",
       " AIMessage(content='一般来说，小学并不会涉及到正式的三角函数的概念，包括正弦函数。小学阶段通常主要学习基础的数学概念，如加减乘除、数的大小比较、几何图形等。正弦函数是在中学阶段开始学习的数学内容，通常在初中阶段会首次接触三角函数的概念和应用。\\n\\n即便在小学阶段没有学习正弦函数，但在将来学习数学时，正弦函数会成为一个重要的概念。因此，对于想要深入学习数学的学生来说，了解和掌握正弦函数等三角函数的知识是很有帮助的。')]"
      ]
     },
     "execution_count": 19,
     "metadata": {},
     "output_type": "execute_result"
    }
   ],
   "source": [
    "store['abc123'].messages"
   ]
  },
  {
   "cell_type": "code",
   "execution_count": 20,
   "metadata": {},
   "outputs": [
    {
     "data": {
      "text/plain": [
       "[HumanMessage(content='正弦是什么?'),\n",
       " AIMessage(content='在三角函数中，正弦函数（sine function）是一个描述角度和直角三角形边长之间关系的函数。在一个直角三角形中，正弦值表示对边与斜边的比值。正弦函数通常用sin表示，在数学中的定义为：\\n\\nsin(θ) = 对边 / 斜边\\n\\n其中，θ表示角度，对边表示与这个角度相对应的直角三角形的对边长，斜边表示直角三角形的斜边长。\\n\\n正弦函数在三角学中有着重要的应用，可以帮助我们计算角度、边长和面积等问题。它也是三角函数中最为基础和常见的函数之一。'),\n",
       " HumanMessage(content='小学会学到吗?'),\n",
       " AIMessage(content='一般来说，小学并不会涉及到正式的三角函数的概念，包括正弦函数。小学阶段通常主要学习基础的数学概念，如加减乘除、数的大小比较、几何图形等。正弦函数是在中学阶段开始学习的数学内容，通常在初中阶段会首次接触三角函数的概念和应用。\\n\\n即便在小学阶段没有学习正弦函数，但在将来学习数学时，正弦函数会成为一个重要的概念。因此，对于想要深入学习数学的学生来说，了解和掌握正弦函数等三角函数的知识是很有帮助的。')]"
      ]
     },
     "execution_count": 20,
     "metadata": {},
     "output_type": "execute_result"
    }
   ],
   "source": [
    "memory.buffer_as_messages"
   ]
  },
  {
   "cell_type": "code",
   "execution_count": 21,
   "metadata": {},
   "outputs": [
    {
     "name": "stdout",
     "output_type": "stream",
     "text": [
      "|在|小|学|阶|段|，|学|生|主|要|学|习|的|数|学|内容|包|括|但|不|限|于|以下|几|个|方|面|：\n",
      "\n",
      "|1|.| 基|本|数|学|运|算|：|加|法|、|减|法|、|乘|法|、|除|法|的|计|算|。\n",
      "|2|.| 数|的|大小|比|较|：|学|习|大|于|、|小|于|、|等|于|等|数|学|符|号|的|含|义|，|进行|数字|的|大小|比|较|。\n",
      "|3|.| 数|的|整|数|和|小|数|：|学|习|整|数|和|小|数|的|概|念|，|进行|简|单|的|小|数|加|减|法|运|算|。\n",
      "|4|.| 分|数|：|初|步|了|解|分|数|的|概|念|，|学|习|分|数|的|加|减|法|。\n",
      "|5|.| 几|何|图|形|：|认|识|和|绘|制|常|见|的|几|何|图|形|，|如|正|方|形|、|长|方|形|、|三|角|形|、|圆|等|。\n",
      "|6|.| 时间|和|日|历|：|学|习|时|钟|的|读|法|、|时间|单位|的|概|念|，|以|及|如|何|使用|日|历|。\n",
      "|7|.| |量|和|度|量|单位|：|认|识|长度|、|重|量|、|容|积|等|物|理|量|，|学|习|简|单|的|度|量|单位|。\n",
      "|8|.| 数据|分|析|：|学|习|如|何|收|集|数据|、|整|理|数据|，并|进行|简|单|的|数据|分|析|。\n",
      "\n",
      "|这|些|是|小|学|阶|段|数|学|学|习|的|主|要|内容|，|通过|这|些|内容|，|学|生|可以|建|立|起|对|基|本|数|学|概|念|的|认|识|和|理|解|，|为|将|来|学|习|更|复|杂|的|数|学|知|识|打|下|基|础|。||"
     ]
    }
   ],
   "source": [
    "for chunk in withMemoryChain.stream(\n",
    "  {\"input\": \"那小学数学学什么?\"},\n",
    "  config={\"configurable\": {\"session_id\": \"abc123\"}},\n",
    "):\n",
    "  print(chunk, end=\"|\", flush=True)"
   ]
  },
  {
   "cell_type": "code",
   "execution_count": 22,
   "metadata": {},
   "outputs": [
    {
     "data": {
      "text/plain": [
       "[HumanMessage(content='小学会学到吗?'),\n",
       " AIMessage(content='一般来说，小学并不会涉及到正式的三角函数的概念，包括正弦函数。小学阶段通常主要学习基础的数学概念，如加减乘除、数的大小比较、几何图形等。正弦函数是在中学阶段开始学习的数学内容，通常在初中阶段会首次接触三角函数的概念和应用。\\n\\n即便在小学阶段没有学习正弦函数，但在将来学习数学时，正弦函数会成为一个重要的概念。因此，对于想要深入学习数学的学生来说，了解和掌握正弦函数等三角函数的知识是很有帮助的。'),\n",
       " HumanMessage(content='那小学数学学什么?'),\n",
       " AIMessage(content='在小学阶段，学生主要学习的数学内容包括但不限于以下几个方面：\\n\\n1. 基本数学运算：加法、减法、乘法、除法的计算。\\n2. 数的大小比较：学习大于、小于、等于等数学符号的含义，进行数字的大小比较。\\n3. 数的整数和小数：学习整数和小数的概念，进行简单的小数加减法运算。\\n4. 分数：初步了解分数的概念，学习分数的加减法。\\n5. 几何图形：认识和绘制常见的几何图形，如正方形、长方形、三角形、圆等。\\n6. 时间和日历：学习时钟的读法、时间单位的概念，以及如何使用日历。\\n7. 量和度量单位：认识长度、重量、容积等物理量，学习简单的度量单位。\\n8. 数据分析：学习如何收集数据、整理数据，并进行简单的数据分析。\\n\\n这些是小学阶段数学学习的主要内容，通过这些内容，学生可以建立起对基本数学概念的认识和理解，为将来学习更复杂的数学知识打下基础。')]"
      ]
     },
     "execution_count": 22,
     "metadata": {},
     "output_type": "execute_result"
    }
   ],
   "source": [
    "memory.buffer_as_messages"
   ]
  },
  {
   "cell_type": "code",
   "execution_count": null,
   "metadata": {},
   "outputs": [],
   "source": []
  }
 ],
 "metadata": {
  "kernelspec": {
   "display_name": "langchain-chinese-py3.9-ipkyernel",
   "language": "python",
   "name": "langchain-chinese-py3.9-ipkyernel"
  },
  "language_info": {
   "codemirror_mode": {
    "name": "ipython",
    "version": 3
   },
   "file_extension": ".py",
   "mimetype": "text/x-python",
   "name": "python",
   "nbconvert_exporter": "python",
   "pygments_lexer": "ipython3",
   "version": "3.9.18"
  }
 },
 "nbformat": 4,
 "nbformat_minor": 2
}
