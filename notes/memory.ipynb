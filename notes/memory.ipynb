{
 "cells": [
  {
   "cell_type": "code",
   "execution_count": 1,
   "metadata": {},
   "outputs": [],
   "source": [
    "from dotenv import load_dotenv, find_dotenv\n",
    "load_dotenv(find_dotenv(), override=True)\n",
    "import os\n",
    "os.chdir('..')"
   ]
  },
  {
   "cell_type": "code",
   "execution_count": 2,
   "metadata": {},
   "outputs": [],
   "source": [
    "from langchain_core.prompts import ChatPromptTemplate, MessagesPlaceholder\n",
    "from langchain_openai.chat_models import ChatOpenAI\n",
    "\n",
    "model = ChatOpenAI()\n",
    "prompt = ChatPromptTemplate.from_messages(\n",
    "    [\n",
    "        (\n",
    "            \"system\",\n",
    "            \"You're an assistant who's good at {ability}. Respond in 20 words or fewer\",\n",
    "        ),\n",
    "        MessagesPlaceholder(variable_name=\"history\"),\n",
    "        (\"human\", \"{input}\"),\n",
    "    ]\n",
    ")\n",
    "chain = prompt | model"
   ]
  },
  {
   "cell_type": "code",
   "execution_count": 3,
   "metadata": {},
   "outputs": [],
   "source": [
    "from langchain_community.chat_message_histories import ChatMessageHistory\n",
    "from langchain_core.chat_history import BaseChatMessageHistory\n",
    "\n",
    "store = {}\n",
    "\n",
    "def get_session_history(session_id: str) -> BaseChatMessageHistory:\n",
    "    if session_id not in store:\n",
    "        store[session_id] = ChatMessageHistory()\n",
    "    return store[session_id]"
   ]
  },
  {
   "cell_type": "code",
   "execution_count": 11,
   "metadata": {},
   "outputs": [],
   "source": [
    "from langchain.memory import ConversationBufferMemory, ConversationBufferWindowMemory\n",
    "\n",
    "memory = ConversationBufferWindowMemory(return_messages=True, k=2)"
   ]
  },
  {
   "cell_type": "code",
   "execution_count": 12,
   "metadata": {},
   "outputs": [],
   "source": [
    "from langchain_chinese import WithMemoryBinding\n",
    "\n",
    "withMemoryChain = WithMemoryBinding(\n",
    "  chain,\n",
    "  get_session_history,\n",
    "  memory,\n",
    "  input_messages_key=\"input\",\n",
    "  history_messages_key=\"history\",\n",
    ")"
   ]
  },
  {
   "cell_type": "code",
   "execution_count": 13,
   "metadata": {},
   "outputs": [
    {
     "name": "stdout",
     "output_type": "stream",
     "text": [
      "------------------------------ enter-history ------------------------------\n",
      "history messages:  [HumanMessage(content='What does cosine mean?'), AIMessage(content='Cosine is a trigonometric function that represents the ratio of the adjacent side to the hypotenuse in a triangle.'), HumanMessage(content='What does cosine mean?'), AIMessage(content='Ratio of adjacent side to hypotenuse in a right triangle. Helps calculate angles and sides in trigonometry.')]\n",
      "temp-memory:  []\n",
      "------------------------------ exit-history ------------------------------\n"
     ]
    },
    {
     "data": {
      "text/plain": [
       "AIMessage(content='三角函数是一种描述角度和边长之间关系的数学函数，如正弦、余弦和正切。')"
      ]
     },
     "execution_count": 13,
     "metadata": {},
     "output_type": "execute_result"
    }
   ],
   "source": [
    "withMemoryChain.invoke(\n",
    "  {\"ability\": \"math\", \"input\": \"三角函数什么意思？?\"},\n",
    "  config={\"configurable\": {\"session_id\": \"abc123\"}},\n",
    ")"
   ]
  },
  {
   "cell_type": "code",
   "execution_count": 14,
   "metadata": {},
   "outputs": [
    {
     "name": "stdout",
     "output_type": "stream",
     "text": [
      "------------------------------ enter-history ------------------------------\n",
      "history messages:  [HumanMessage(content='What does cosine mean?'), AIMessage(content='Cosine is a trigonometric function that represents the ratio of the adjacent side to the hypotenuse in a triangle.'), HumanMessage(content='What does cosine mean?'), AIMessage(content='Ratio of adjacent side to hypotenuse in a right triangle. Helps calculate angles and sides in trigonometry.'), HumanMessage(content='三角函数什么意思？?'), AIMessage(content='三角函数是一种描述角度和边长之间关系的数学函数，如正弦、余弦和正切。')]\n",
      "temp-memory:  [HumanMessage(content='三角函数什么意思？?'), AIMessage(content='三角函数是一种描述角度和边长之间关系的数学函数，如正弦、余弦和正切。')]\n",
      "------------------------------ exit-history ------------------------------\n"
     ]
    },
    {
     "data": {
      "text/plain": [
       "AIMessage(content='正弦是一个三角函数，表示一个角的对边与斜边的比值。通常用sin表示，例如sin(30°) = 0.5。')"
      ]
     },
     "execution_count": 14,
     "metadata": {},
     "output_type": "execute_result"
    }
   ],
   "source": [
    "withMemoryChain.invoke(\n",
    "  {\"ability\": \"math\", \"input\": \"正弦是什么?\"},\n",
    "  config={\"configurable\": {\"session_id\": \"abc123\"}},\n",
    ")"
   ]
  },
  {
   "cell_type": "code",
   "execution_count": 15,
   "metadata": {},
   "outputs": [
    {
     "name": "stdout",
     "output_type": "stream",
     "text": [
      "------------------------------ enter-history ------------------------------\n",
      "history messages:  [HumanMessage(content='What does cosine mean?'), AIMessage(content='Cosine is a trigonometric function that represents the ratio of the adjacent side to the hypotenuse in a triangle.'), HumanMessage(content='What does cosine mean?'), AIMessage(content='Ratio of adjacent side to hypotenuse in a right triangle. Helps calculate angles and sides in trigonometry.'), HumanMessage(content='三角函数什么意思？?'), AIMessage(content='三角函数是一种描述角度和边长之间关系的数学函数，如正弦、余弦和正切。'), HumanMessage(content='正弦是什么?'), AIMessage(content='正弦是一个三角函数，表示一个角的对边与斜边的比值。通常用sin表示，例如sin(30°) = 0.5。')]\n",
      "temp-memory:  [HumanMessage(content='三角函数什么意思？?'), AIMessage(content='三角函数是一种描述角度和边长之间关系的数学函数，如正弦、余弦和正切。'), HumanMessage(content='正弦是什么?'), AIMessage(content='正弦是一个三角函数，表示一个角的对边与斜边的比值。通常用sin表示，例如sin(30°) = 0.5。')]\n",
      "------------------------------ exit-history ------------------------------\n"
     ]
    },
    {
     "data": {
      "text/plain": [
       "AIMessage(content='一般在初中阶段学习三角函数，小学阶段通常不包括正弦、余弦和正切等概念。')"
      ]
     },
     "execution_count": 15,
     "metadata": {},
     "output_type": "execute_result"
    }
   ],
   "source": [
    "withMemoryChain.invoke(\n",
    "  {\"ability\": \"math\", \"input\": \"小学会学到吗?\"},\n",
    "  config={\"configurable\": {\"session_id\": \"abc123\"}},\n",
    ")"
   ]
  },
  {
   "cell_type": "code",
   "execution_count": 21,
   "metadata": {},
   "outputs": [
    {
     "data": {
      "text/plain": [
       "[HumanMessage(content='What does cosine mean?'),\n",
       " AIMessage(content='Cosine is a trigonometric function that represents the ratio of the adjacent side to the hypotenuse in a triangle.'),\n",
       " HumanMessage(content='What does cosine mean?'),\n",
       " AIMessage(content='Ratio of adjacent side to hypotenuse in a right triangle. Helps calculate angles and sides in trigonometry.'),\n",
       " HumanMessage(content='三角函数什么意思？?'),\n",
       " AIMessage(content='三角函数是一种描述角度和边长之间关系的数学函数，如正弦、余弦和正切。'),\n",
       " HumanMessage(content='正弦是什么?'),\n",
       " AIMessage(content='正弦是一个三角函数，表示一个角的对边与斜边的比值。通常用sin表示，例如sin(30°) = 0.5。'),\n",
       " HumanMessage(content='小学会学到吗?'),\n",
       " AIMessage(content='一般在初中阶段学习三角函数，小学阶段通常不包括正弦、余弦和正切等概念。')]"
      ]
     },
     "execution_count": 21,
     "metadata": {},
     "output_type": "execute_result"
    }
   ],
   "source": [
    "store['abc123'].messages"
   ]
  },
  {
   "cell_type": "code",
   "execution_count": 18,
   "metadata": {},
   "outputs": [
    {
     "data": {
      "text/plain": [
       "[HumanMessage(content='正弦是什么?'),\n",
       " AIMessage(content='正弦是一个三角函数，表示一个角的对边与斜边的比值。通常用sin表示，例如sin(30°) = 0.5。'),\n",
       " HumanMessage(content='小学会学到吗?'),\n",
       " AIMessage(content='一般在初中阶段学习三角函数，小学阶段通常不包括正弦、余弦和正切等概念。')]"
      ]
     },
     "execution_count": 18,
     "metadata": {},
     "output_type": "execute_result"
    }
   ],
   "source": [
    "memory.buffer_as_messages"
   ]
  },
  {
   "cell_type": "code",
   "execution_count": null,
   "metadata": {},
   "outputs": [],
   "source": []
  }
 ],
 "metadata": {
  "kernelspec": {
   "display_name": "langchain-chinese-py3.9-ipkyernel",
   "language": "python",
   "name": "langchain-chinese-py3.9-ipkyernel"
  },
  "language_info": {
   "codemirror_mode": {
    "name": "ipython",
    "version": 3
   },
   "file_extension": ".py",
   "mimetype": "text/x-python",
   "name": "python",
   "nbconvert_exporter": "python",
   "pygments_lexer": "ipython3",
   "version": "3.9.18"
  }
 },
 "nbformat": 4,
 "nbformat_minor": 2
}
