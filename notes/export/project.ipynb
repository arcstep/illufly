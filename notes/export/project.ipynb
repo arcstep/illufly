{
 "cells": [
  {
   "cell_type": "code",
   "execution_count": 1,
   "id": "ad864711-4e2c-4c95-896c-6958692942be",
   "metadata": {},
   "outputs": [],
   "source": [
    "from dotenv import load_dotenv, find_dotenv\n",
    "load_dotenv(find_dotenv(), override=True)\n",
    "\n",
    "import os\n",
    "os.chdir('..')"
   ]
  },
  {
   "cell_type": "code",
   "execution_count": null,
   "id": "793e0e78-9b73-456b-8753-b81c0adce0e1",
   "metadata": {},
   "outputs": [],
   "source": [
    "from textlong import from_idea, from_outline, from_chunk, extract\n",
    "from langchain_zhipu import ChatZhipuAI\n",
    "\n",
    "llm=ChatZhipuAI(model=\"glm-4\")\n",
    "task = \"\"\"\n",
    "请帮我创作500字的修仙小说，标题为《我修了个假仙》，主角是夏小兰，男一号是周成，\n",
    "每一个章节都用意外、打脸的对话场景推动。\n",
    "\"\"\"\n",
    "\n",
    "md_outline = \"\"\n",
    "for x in from_idea(llm, task):\n",
    "    md_outline += x\n",
    "    print(x, end=\"\")"
   ]
  },
  {
   "cell_type": "code",
   "execution_count": null,
   "id": "099a38d9-9f27-4bd9-bca8-5e0c17dcb353",
   "metadata": {},
   "outputs": [],
   "source": []
  }
 ],
 "metadata": {
  "kernelspec": {
   "display_name": "langchani-book-py3.10-ipykernel",
   "language": "python",
   "name": "langchani-book-py3.10-ipykernel"
  },
  "language_info": {
   "codemirror_mode": {
    "name": "ipython",
    "version": 3
   },
   "file_extension": ".py",
   "mimetype": "text/x-python",
   "name": "python",
   "nbconvert_exporter": "python",
   "pygments_lexer": "ipython3",
   "version": "3.10.0"
  }
 },
 "nbformat": 4,
 "nbformat_minor": 5
}
