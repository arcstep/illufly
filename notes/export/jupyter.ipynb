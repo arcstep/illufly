{
 "cells": [
  {
   "cell_type": "code",
   "execution_count": null,
   "id": "626a24f8-42c3-4b08-9d08-9b2d35e449be",
   "metadata": {},
   "outputs": [],
   "source": [
    "!pip install jupytext"
   ]
  },
  {
   "cell_type": "markdown",
   "id": "569711b0-5941-4684-be32-6c86fc1032d6",
   "metadata": {},
   "source": [
    "## cmd: ipynb -> markdown"
   ]
  },
  {
   "cell_type": "code",
   "execution_count": 5,
   "id": "6d9576df-4451-4403-ba1d-0569658d58db",
   "metadata": {},
   "outputs": [
    {
     "name": "stdout",
     "output_type": "stream",
     "text": [
      "[jupytext] Reading 2.ipynb in format ipynb\n",
      "[jupytext] Writing 3.md\n"
     ]
    }
   ],
   "source": [
    "!jupytext --to markdown 2.ipynb --output 3.md"
   ]
  },
  {
   "cell_type": "markdown",
   "id": "7a6e37bb-938e-435a-851f-ab5a10360c1e",
   "metadata": {},
   "source": [
    "## cmd: markdown -> ipynb"
   ]
  },
  {
   "cell_type": "code",
   "execution_count": 7,
   "id": "fa1a0b40-11a5-40c5-af71-0138357625ee",
   "metadata": {},
   "outputs": [
    {
     "name": "stdout",
     "output_type": "stream",
     "text": [
      "[jupytext] Reading 2.md in format md\n",
      "[jupytext] Writing 2.ipynb (destination file replaced [use --update to preserve cell outputs and ids])\n"
     ]
    }
   ],
   "source": [
    "!jupytext --to ipynb 2.md --output 2.ipynb"
   ]
  },
  {
   "cell_type": "markdown",
   "id": "fbbe208e-ed4f-4480-8274-1115067978f6",
   "metadata": {},
   "source": [
    "## code: markdown -> ipynb"
   ]
  },
  {
   "cell_type": "code",
   "execution_count": 10,
   "id": "2a9760c6-1f5b-4db6-87a2-6f44211b8f12",
   "metadata": {},
   "outputs": [],
   "source": [
    "import jupytext\n",
    "\n",
    "with open('3.md', 'r') as md_file:\n",
    "    md_contents = md_file.read()\n",
    "notebook = jupytext.reads(md_contents, fmt='md')\n",
    "\n",
    "jupytext.write(notebook, '3.ipynb', fmt='ipynb')"
   ]
  }
 ],
 "metadata": {
  "kernelspec": {
   "display_name": "langchani-book-py3.10-ipykernel",
   "language": "python",
   "name": "langchani-book-py3.10-ipykernel"
  },
  "language_info": {
   "codemirror_mode": {
    "name": "ipython",
    "version": 3
   },
   "file_extension": ".py",
   "mimetype": "text/x-python",
   "name": "python",
   "nbconvert_exporter": "python",
   "pygments_lexer": "ipython3",
   "version": "3.10.0"
  }
 },
 "nbformat": 4,
 "nbformat_minor": 5
}
