{
 "cells": [
  {
   "cell_type": "code",
   "execution_count": 1,
   "id": "70eb4768-42f3-43c9-84e3-f067e79dd4fe",
   "metadata": {},
   "outputs": [
    {
     "data": {
      "text/plain": [
       "True"
      ]
     },
     "execution_count": 1,
     "metadata": {},
     "output_type": "execute_result"
    }
   ],
   "source": [
    "import os\n",
    "from dotenv import load_dotenv, find_dotenv\n",
    "load_dotenv(find_dotenv(), override=True)"
   ]
  },
  {
   "cell_type": "code",
   "execution_count": 2,
   "id": "3af48d02-9d70-4006-a7b9-c8cde99acdd5",
   "metadata": {},
   "outputs": [],
   "source": [
    "from textlong.chain import create_idea_chain\n",
    "from langchain_zhipu import ChatZhipuAI\n",
    "runnable = create_idea_chain(ChatZhipuAI())"
   ]
  },
  {
   "cell_type": "code",
   "execution_count": 3,
   "id": "46e48487-5346-4771-ac40-6610800a8658",
   "metadata": {},
   "outputs": [
    {
     "name": "stdout",
     "output_type": "stream",
     "text": [
      "山川藏秀色，水波荡漾间。\n",
      "绿意盎然处，鸟语花香天。\n",
      "\n",
      "风轻云淡里，时光缓缓行。\n",
      "心随白云舞，梦枕星河醒。"
     ]
    }
   ],
   "source": [
    "for x in runnable.stream({\"task\": \"写一首小诗\"}):\n",
    "    print(x, end=\"\")"
   ]
  },
  {
   "cell_type": "code",
   "execution_count": 4,
   "id": "fd914c4b-88e4-4dfa-adcd-56cc93ddb826",
   "metadata": {},
   "outputs": [
    {
     "data": {
      "text/plain": [
       "'春日细雨洒枝头，\\n轻风扶柳舞翩翩。\\n花开花落悠悠岁，\\n梦回时光似水流。'"
      ]
     },
     "execution_count": 4,
     "metadata": {},
     "output_type": "execute_result"
    }
   ],
   "source": [
    "runnable.invoke({\"task\": \"写一首小诗\"})"
   ]
  },
  {
   "cell_type": "code",
   "execution_count": 5,
   "id": "31dd7515-a53b-490f-9608-692326cd6670",
   "metadata": {},
   "outputs": [
    {
     "data": {
      "text/plain": [
       "'山川藏秀色，流水映霞光。\\n绿意盎然处，心随白云翔。\\n\\n轻风吹过岸，落英舞芬芳。\\n悠悠天地间，诗意任徜徉。'"
      ]
     },
     "execution_count": 5,
     "metadata": {},
     "output_type": "execute_result"
    }
   ],
   "source": [
    "await runnable.ainvoke({\"task\": \"写一首小诗\"})"
   ]
  },
  {
   "cell_type": "code",
   "execution_count": 4,
   "id": "7db80a9f-7390-444c-bc62-c5524f7e714b",
   "metadata": {},
   "outputs": [
    {
     "name": "stdout",
     "output_type": "stream",
     "text": [
      "春日细雨洒芳田，\n",
      "柳绿花红映日边。\n",
      "微风轻拂过水面，\n",
      "波光粼粼舞翩翩。"
     ]
    }
   ],
   "source": [
    "async for x in runnable.astream({\"task\": \"写一首小诗\"}):\n",
    "    print(x, end=\"\")"
   ]
  },
  {
   "cell_type": "code",
   "execution_count": 7,
   "id": "83b82471-948e-414e-9a64-04b7d813941f",
   "metadata": {},
   "outputs": [
    {
     "data": {
      "text/plain": [
       "['夜幕低垂月儿明，\\n闲步花间听虫鸣。\\n心随清风舞翩跹，\\n静享时光片刻宁。']"
      ]
     },
     "execution_count": 7,
     "metadata": {},
     "output_type": "execute_result"
    }
   ],
   "source": [
    "runnable.batch([{\"task\": \"写一首小诗\"}])"
   ]
  },
  {
   "cell_type": "code",
   "execution_count": 5,
   "id": "dd14491c-ace5-439c-ae27-a7c65e8c8c4b",
   "metadata": {},
   "outputs": [
    {
     "data": {
      "text/plain": [
       "{'title': 'writing_input',\n",
       " 'type': 'object',\n",
       " 'properties': {'task': {'title': 'Task', 'type': 'string'},\n",
       "  'input': {'title': 'Input',\n",
       "   'anyOf': [{'type': 'string'},\n",
       "    {'type': 'array', 'items': {'type': 'string'}}]},\n",
       "  'knowledge': {'title': 'Knowledge',\n",
       "   'anyOf': [{'type': 'string'},\n",
       "    {'type': 'array', 'items': {'type': 'string'}}]},\n",
       "  'output_file': {'title': 'Output File', 'type': 'string'},\n",
       "  'base_folder': {'title': 'Base Folder', 'type': 'string'},\n",
       "  'prompt_id': {'title': 'Prompt Id', 'type': 'string'}}}"
      ]
     },
     "execution_count": 5,
     "metadata": {},
     "output_type": "execute_result"
    }
   ],
   "source": [
    "runnable.input_schema.schema()"
   ]
  },
  {
   "cell_type": "code",
   "execution_count": 6,
   "id": "c5f884e8-81e0-42a6-812f-df2bac55670d",
   "metadata": {},
   "outputs": [
    {
     "data": {
      "text/plain": [
       "{'title': 'gen_output', 'allOf': [{'type': 'string'}]}"
      ]
     },
     "execution_count": 6,
     "metadata": {},
     "output_type": "execute_result"
    }
   ],
   "source": [
    "runnable.output_schema.schema()"
   ]
  },
  {
   "cell_type": "code",
   "execution_count": null,
   "id": "7bfebc23-46df-44cf-9fa2-7784b61958b4",
   "metadata": {},
   "outputs": [],
   "source": []
  }
 ],
 "metadata": {
  "kernelspec": {
   "display_name": "langchani-book-py3.10-ipykernel",
   "language": "python",
   "name": "langchani-book-py3.10-ipykernel"
  },
  "language_info": {
   "codemirror_mode": {
    "name": "ipython",
    "version": 3
   },
   "file_extension": ".py",
   "mimetype": "text/x-python",
   "name": "python",
   "nbconvert_exporter": "python",
   "pygments_lexer": "ipython3",
   "version": "3.10.0"
  }
 },
 "nbformat": 4,
 "nbformat_minor": 5
}
