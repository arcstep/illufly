{
 "cells": [
  {
   "cell_type": "markdown",
   "id": "0bf17745-8090-413b-9b53-aa0c318bcadd",
   "metadata": {},
   "source": [
    "# HUB"
   ]
  },
  {
   "cell_type": "code",
   "execution_count": 2,
   "id": "2c1c944f-7474-4215-80f9-a47518e2bc86",
   "metadata": {},
   "outputs": [],
   "source": [
    "from langchain_core.prompts import ChatPromptTemplate, MessagesPlaceholder\n",
    "from textlong.hub import find_resource_prompt, load_resource_prompt, load_prompt, save_prompt, clone_prompt"
   ]
  },
  {
   "cell_type": "code",
   "execution_count": 3,
   "id": "0c575fd4-fd76-4def-ad29-3eb9d916a464",
   "metadata": {},
   "outputs": [
    {
     "data": {
      "text/plain": [
       "['MORE_OUTLINE', 'SUMMARISE', 'IDEA', 'OUTLINE', 'FROM_OUTLINE']"
      ]
     },
     "execution_count": 3,
     "metadata": {},
     "output_type": "execute_result"
    }
   ],
   "source": [
    "find_resource_prompt()"
   ]
  },
  {
   "cell_type": "markdown",
   "id": "1593d9ff-9bdc-45c5-b27c-512a6e0da5a4",
   "metadata": {},
   "source": [
    "## load_resource_prompt"
   ]
  },
  {
   "cell_type": "code",
   "execution_count": 4,
   "id": "a092cea9-a0db-41b6-886d-a8676e069638",
   "metadata": {},
   "outputs": [
    {
     "data": {
      "text/plain": [
       "'你是强大的写作助手。\\n\\n\\n你必须遵循以下约束来完成任务:\\n1. 按照markdown格式输出，直接输出你的结果，不要评论，不要啰嗦\\n2. 不要使用```符号包裹markdown内容\\n3. 扩写要求中包括预估字数、创意要点、创作思路、创作中涉及到的实体名称等\\n4. 你必须确保每一部份的扩写要求被完整的 <OUTLINE>...</OUTLINE> 包裹\\n5. 你只能输出提纲，不要输出具体的扩写内容\\n\\n>>>>>>>>>>>>>>>>>>>> 标题格式参考:\\n# 第一章 标题1\\n## 一、标题2\\n### 1、标题3\\n**（1）标题4**\\n\\n\\n\\n>>>>>>>>>>>>>>>>>>>> 输出例子：\\n# XXX\\n## XXX\\n<OUTLINE>\\n扩写摘要...\\n\\n扩写要求：\\n- xxx\\n- xxx\\n</OUTLINE>\\n\\n**按需增加N个 <OUTLINE>...</OUTLINE>**\\n'"
      ]
     },
     "execution_count": 4,
     "metadata": {},
     "output_type": "execute_result"
    }
   ],
   "source": [
    "prompt = load_resource_prompt(\"OUTLINE\")\n",
    "prompt.format()"
   ]
  },
  {
   "cell_type": "code",
   "execution_count": 6,
   "id": "16146825-0567-49d2-8195-2e430b8ec24c",
   "metadata": {},
   "outputs": [
    {
     "name": "stdout",
     "output_type": "stream",
     "text": [
      "你是强大的写作助手。\n",
      "\n",
      "\n",
      "你必须遵循以下约束来完成任务:\n",
      "1. 按照markdown格式输出，直接输出你的结果，不要评论，不要啰嗦\n",
      "2. 不要使用```符号包裹markdown内容\n",
      "3. 你必须根据已有提纲扩写，不要修改提纲中对扩写的要求和限定，不要额外发挥\n",
      "4. 你只能选择一段<OUTLINE>...<OUTLINE/>扩写\n",
      "\n",
      ">>>>>>>>>>>>>>>>>>>> 标题格式参考:\n",
      "# 第一章 标题1\n",
      "## 一、标题2\n",
      "### 1、标题3\n",
      "**（1）标题4**\n",
      "\n",
      "\n",
      "你只能对下面指定的部份展开扩写：\n",
      "\n",
      ">>>>>>>>>>>>>>>>>>>> 以下是你要扩写的内容，其中包括扩写要求：\n",
      "TODO_DOC\n",
      "\n",
      "\n",
      ">>>>>>>>>>>>>>>>>>>> 你必须参考这些已有资料：\n",
      "我的资料库\n",
      "\n",
      ">>>>>>>>>>>>>>>>>>>> 输出例子：\n",
      "<OUTLINE>\n",
      "你的扩写结果\n",
      "</OUTLINE>\n",
      "\n"
     ]
    }
   ],
   "source": [
    "prompt_detail = load_resource_prompt(\"FROM_OUTLINE\")\n",
    "print(prompt_detail.format(todo_doc__=\"TODO_DOC\", knowledge__=\"我的资料库\"))"
   ]
  },
  {
   "cell_type": "markdown",
   "id": "82e310d4-119a-4e03-8898-e8b0854c4708",
   "metadata": {},
   "source": [
    "## save_prompt"
   ]
  },
  {
   "cell_type": "code",
   "execution_count": 7,
   "id": "34241450-ff4c-46cc-a9b6-769130ce7e5f",
   "metadata": {},
   "outputs": [
    {
     "data": {
      "text/plain": [
       "'/Users/xuehongwei/github/textlong/notes'"
      ]
     },
     "execution_count": 7,
     "metadata": {},
     "output_type": "execute_result"
    }
   ],
   "source": [
    "%pwd"
   ]
  },
  {
   "cell_type": "code",
   "execution_count": 10,
   "id": "d78ed97a-da01-423f-ba1b-262f02b502c2",
   "metadata": {},
   "outputs": [
    {
     "data": {
      "text/plain": [
       "True"
      ]
     },
     "execution_count": 10,
     "metadata": {},
     "output_type": "execute_result"
    }
   ],
   "source": [
    "save_prompt(prompt_detail, \"DETAIL\", \"01 writing/小说\")"
   ]
  },
  {
   "cell_type": "code",
   "execution_count": 11,
   "id": "b252c90b-0a5f-4e79-a03f-40959129bb42",
   "metadata": {},
   "outputs": [
    {
     "data": {
      "text/plain": [
       "True"
      ]
     },
     "execution_count": 11,
     "metadata": {},
     "output_type": "execute_result"
    }
   ],
   "source": [
    "clone_prompt(\"OUTLINE\", \"01 writing/小说\")"
   ]
  },
  {
   "cell_type": "code",
   "execution_count": 22,
   "id": "6ed17046-1842-466a-ae42-ddbc797ae438",
   "metadata": {},
   "outputs": [
    {
     "name": "stdout",
     "output_type": "stream",
     "text": [
      "你是强大的写作助手。\n",
      "\n",
      "\n",
      "你必须遵循以下约束来完成任务:\n",
      "1. 按照markdown格式输出，直接输出你的结果，不要评论，不要啰嗦\n",
      "2. 不要使用```符号包裹markdown内容\n",
      "3. 你必须根据已有提纲扩写，不要修改提纲中对扩写的要求和限定，不要额外发挥\n",
      "4. 你只能选择一段<OUTLINE>...<OUTLINE/>扩写\n",
      "\n",
      ">>>>>>>>>>>>>>>>>>>> 标题格式参考:\n",
      "# 第一章 标题1\n",
      "## 一、标题2\n",
      "### 1、标题3\n",
      "**（1）标题4**\n",
      "\n",
      "\n",
      "你只能对下面指定的部份展开扩写：\n",
      "\n",
      ">>>>>>>>>>>>>>>>>>>> 以下是已经完成的内容，你必须与其保持连贯：\n",
      "前面的文字\n",
      ">>>>>>>>>>>>>>>>>>>> 以下是你要扩写的内容，其中包括扩写要求：\n",
      "TODO_DOC\n",
      "\n",
      "\n",
      ">>>>>>>>>>>>>>>>>>>> 你必须参考这些已有资料：\n",
      "我的资料库\n",
      "\n",
      ">>>>>>>>>>>>>>>>>>>> 输出例子：\n",
      "<OUTLINE>\n",
      "你的扩写结果\n",
      "</OUTLINE>\n",
      "\n"
     ]
    }
   ],
   "source": [
    "print(load_prompt(\"DETAIL\", \"01 writing/小说\").format(\n",
    "    prev_doc__=\"前面的文字\",\n",
    "    todo_doc__=\"TODO_DOC\",\n",
    "    knowledge__=\"我的资料库\"\n",
    "))"
   ]
  },
  {
   "cell_type": "markdown",
   "id": "4850c6dc-01cf-43a6-8857-4946ced5d08e",
   "metadata": {},
   "source": [
    "# Mustache"
   ]
  },
  {
   "cell_type": "code",
   "execution_count": 14,
   "id": "092a4ab7-520c-4b16-abff-6890a7e3acde",
   "metadata": {},
   "outputs": [],
   "source": [
    "from langchain.prompts import (\n",
    "    PromptTemplate\n",
    ")"
   ]
  },
  {
   "cell_type": "code",
   "execution_count": 15,
   "id": "baa3ced4-b213-4747-9775-45663d937c20",
   "metadata": {},
   "outputs": [
    {
     "data": {
      "text/plain": [
       "PromptTemplate(input_variables=['task'], template='\\n    {{>hub_header}}\\n    你是一个写作助手。\\n    {{#task}}\\n    你的任务是：\\n    {{task}}\\n    {{/task}}\\n    ', template_format='mustache')"
      ]
     },
     "execution_count": 15,
     "metadata": {},
     "output_type": "execute_result"
    }
   ],
   "source": [
    "prompt = PromptTemplate.from_template(\n",
    "    \"\"\"\n",
    "    {{>hub_header}}\n",
    "    你是一个写作助手。\n",
    "    {{#task}}\n",
    "    你的任务是：\n",
    "    {{task}}\n",
    "    {{/task}}\n",
    "    \"\"\",\n",
    "    template_format=\"mustache\",\n",
    "    partials_path=\"notes\",\n",
    ")\n",
    "prompt"
   ]
  },
  {
   "cell_type": "code",
   "execution_count": 16,
   "id": "e6c27716-c706-4a2f-b320-1bb9ca754a7d",
   "metadata": {},
   "outputs": [
    {
     "data": {
      "text/plain": [
       "'\\n        你是一个写作助手。\\n    你的任务是：\\n    写一份报告\\n    '"
      ]
     },
     "execution_count": 16,
     "metadata": {},
     "output_type": "execute_result"
    }
   ],
   "source": [
    "prompt.format(task=\"写一份报告\", user=\"Adi\")"
   ]
  },
  {
   "cell_type": "code",
   "execution_count": 17,
   "id": "5bbf3de9-b877-41f6-9b12-e0e5c73101fc",
   "metadata": {},
   "outputs": [
    {
     "data": {
      "text/plain": [
       "'\\n        你是一个写作助手。\\n    '"
      ]
     },
     "execution_count": 17,
     "metadata": {},
     "output_type": "execute_result"
    }
   ],
   "source": [
    "prompt.partial(header=\"hub_header\").format(task=\"\")"
   ]
  },
  {
   "cell_type": "code",
   "execution_count": null,
   "id": "5a8c3882-d5c7-406d-8c6c-a34a4b608d8f",
   "metadata": {},
   "outputs": [],
   "source": []
  }
 ],
 "metadata": {
  "kernelspec": {
   "display_name": "Python 3 (ipykernel)",
   "language": "python",
   "name": "python3"
  },
  "language_info": {
   "codemirror_mode": {
    "name": "ipython",
    "version": 3
   },
   "file_extension": ".py",
   "mimetype": "text/x-python",
   "name": "python",
   "nbconvert_exporter": "python",
   "pygments_lexer": "ipython3",
   "version": "3.10.0"
  }
 },
 "nbformat": 4,
 "nbformat_minor": 5
}
