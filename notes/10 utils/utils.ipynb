{
    "cells": [
        {
            "cell_type": "code",
            "execution_count": 1,
            "id": "75c739bd-1f32-49bf-aec5-d165093d424c",
            "metadata": {},
            "outputs": [],
            "source": [
                "from illufly.utils import extract_text"
            ]
        },
        {
            "cell_type": "code",
            "execution_count": 7,
            "id": "42b2f160-be85-492a-a723-9b132b9e8c14",
            "metadata": {},
            "outputs": [
                {
                    "data": {
                        "text/plain": [
                            "'你的建议很合理'"
                        ]
                    },
                    "execution_count": 7,
                    "metadata": {},
                    "output_type": "execute_result"
                }
            ],
            "source": [
                "extract_text(\n",
                "    \"\"\"\n",
                "    输出结果：\n",
                "    <OUTLINE>\n",
                "    你的建议很合理\n",
                "    </OUTLINE>\n",
                "    \"\"\",\n",
                "    \"<OUTLINE>\",\n",
                "    \"</OUTLINE>\"\n",
                ")"
            ]
        },
        {
            "cell_type": "code",
            "execution_count": 8,
            "id": "34ac37f4-d3c9-4f05-9e10-d0aee1789c64",
            "metadata": {},
            "outputs": [
                {
                    "data": {
                        "text/plain": [
                            "'输出结果：\\n    <OUTLINE>\\n    你的建议很合理\\n    </OUTLINE>'"
                        ]
                    },
                    "execution_count": 8,
                    "metadata": {},
                    "output_type": "execute_result"
                }
            ],
            "source": [
                "extract_text(\n",
                "    \"\"\"\n",
                "    ```md\n",
                "    输出结果：\n",
                "    <OUTLINE>\n",
                "    你的建议很合理\n",
                "    </OUTLINE>\n",
                "    ```\n",
                "    \"\"\", \n",
                "    '```',\n",
                "    '```'\n",
                ")"
            ]
        },
        {
            "cell_type": "code",
            "execution_count": 9,
            "id": "27ab0ac3-0c4a-4ca3-be84-151a34da2cfb",
            "metadata": {},
            "outputs": [
                {
                    "data": {
                        "text/plain": [
                            "'\\n    # 这是我的示范\\n    ```md\\n    输出结果：\\n    <OUTLINE>\\n    你的建议很合理\\n    </OUTLINE>\\n    ```\\n    '"
                        ]
                    },
                    "execution_count": 9,
                    "metadata": {},
                    "output_type": "execute_result"
                }
            ],
            "source": [
                "extract_text(\n",
                "    \"\"\"\n",
                "    # 这是我的示范\n",
                "    ```md\n",
                "    输出结果：\n",
                "    <OUTLINE>\n",
                "    你的建议很合理\n",
                "    </OUTLINE>\n",
                "    ```\n",
                "    \"\"\", \n",
                "    '```',\n",
                "    '```')"
            ]
        },
        {
            "cell_type": "code",
            "execution_count": 10,
            "id": "301a1801-bc06-4505-badf-9795365d55bf",
            "metadata": {},
            "outputs": [
                {
                    "data": {
                        "text/plain": [
                            "'你的建议很合理\\n    这里有一个示范：\\n    >->>>\\n    是不是这样？\\n    <<<-<'"
                        ]
                    },
                    "execution_count": 10,
                    "metadata": {},
                    "output_type": "execute_result"
                }
            ],
            "source": [
                "extract_text(\n",
                "    \"\"\"\n",
                "    你的输出结果：\n",
                "    >->>>\n",
                "    你的建议很合理\n",
                "    这里有一个示范：\n",
                "    >->>>\n",
                "    是不是这样？\n",
                "    <<<-<\n",
                "    <<<-<\n",
                "    总字数约50字\n",
                "    \"\"\",\n",
                "    \">->>>\",\n",
                "    \"<<<-<\"\n",
                ")"
            ]
        },
        {
            "cell_type": "code",
            "execution_count": null,
            "id": "c4fc3d81-74e2-4d33-b961-cdba46276c8e",
            "metadata": {},
            "outputs": [],
            "source": []
        }
    ],
    "metadata": {
        "kernelspec": {
            "display_name": "illufly-same-ipykernel",
            "language": "python",
            "name": "illufly-same-ipykernel"
        },
        "language_info": {
            "codemirror_mode": {
                "name": "ipython",
                "version": 3
            },
            "file_extension": ".py",
            "mimetype": "text/x-python",
            "name": "python",
            "nbconvert_exporter": "python",
            "pygments_lexer": "ipython3",
            "version": "3.10.0"
        }
    },
    "nbformat": 4,
    "nbformat_minor": 5
}