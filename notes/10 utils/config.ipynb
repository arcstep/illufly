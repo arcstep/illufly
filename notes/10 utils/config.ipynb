{
 "cells": [
  {
   "cell_type": "code",
   "execution_count": 7,
   "id": "42d2c58f-32d7-4a31-b9bb-ad3964b5a83a",
   "metadata": {},
   "outputs": [],
   "source": [
    "import os\n",
    "from textlong.config import get_default_env, get_folder_root"
   ]
  },
  {
   "cell_type": "code",
   "execution_count": 4,
   "id": "b6bb4ba2-725f-4966-9d02-5513dabb33d5",
   "metadata": {},
   "outputs": [
    {
     "data": {
      "text/plain": [
       "'./'"
      ]
     },
     "execution_count": 4,
     "metadata": {},
     "output_type": "execute_result"
    }
   ],
   "source": [
    "get_default_env(\"TEXTLONG_ROOT\")"
   ]
  },
  {
   "cell_type": "code",
   "execution_count": 5,
   "id": "50f57229-a28e-414e-86ae-a99fd1fa07bf",
   "metadata": {},
   "outputs": [],
   "source": [
    "os.environ['TEXTLONG_ROOT'] = \"ABC\""
   ]
  },
  {
   "cell_type": "code",
   "execution_count": 6,
   "id": "2604a7c2-456a-4ebc-a3ef-b9efb8656d1a",
   "metadata": {},
   "outputs": [
    {
     "data": {
      "text/plain": [
       "'ABC'"
      ]
     },
     "execution_count": 6,
     "metadata": {},
     "output_type": "execute_result"
    }
   ],
   "source": [
    "get_default_env(\"TEXTLONG_ROOT\")"
   ]
  },
  {
   "cell_type": "code",
   "execution_count": 8,
   "id": "3263bcef-faa2-4c0a-833b-8b635576ac4c",
   "metadata": {},
   "outputs": [
    {
     "data": {
      "text/plain": [
       "'ABC'"
      ]
     },
     "execution_count": 8,
     "metadata": {},
     "output_type": "execute_result"
    }
   ],
   "source": [
    "get_folder_root()"
   ]
  },
  {
   "cell_type": "code",
   "execution_count": 9,
   "id": "293368f9-bbba-4f57-97fc-fabe24f21d4d",
   "metadata": {},
   "outputs": [],
   "source": [
    "os.environ['TEXTLONG_ROOT'] = \"../\""
   ]
  },
  {
   "cell_type": "code",
   "execution_count": 10,
   "id": "1df4889b-6080-4de2-9d29-8fc1e375e100",
   "metadata": {},
   "outputs": [
    {
     "data": {
      "text/plain": [
       "'../'"
      ]
     },
     "execution_count": 10,
     "metadata": {},
     "output_type": "execute_result"
    }
   ],
   "source": [
    "get_folder_root()"
   ]
  },
  {
   "cell_type": "code",
   "execution_count": null,
   "id": "ef3fa5f5-32e7-4683-b134-540ebacca32c",
   "metadata": {},
   "outputs": [],
   "source": []
  }
 ],
 "metadata": {
  "kernelspec": {
   "display_name": "textlong-same-ipykernel",
   "language": "python",
   "name": "textlong-same-ipykernel"
  },
  "language_info": {
   "codemirror_mode": {
    "name": "ipython",
    "version": 3
   },
   "file_extension": ".py",
   "mimetype": "text/x-python",
   "name": "python",
   "nbconvert_exporter": "python",
   "pygments_lexer": "ipython3",
   "version": "3.10.0"
  }
 },
 "nbformat": 4,
 "nbformat_minor": 5
}
