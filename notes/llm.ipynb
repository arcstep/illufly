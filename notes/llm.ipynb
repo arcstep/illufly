{
 "cells": [
  {
   "cell_type": "markdown",
   "id": "532d485f-8069-427a-9934-d74b71f80be1",
   "metadata": {},
   "source": [
    "# 重新定义大模型和智能体"
   ]
  },
  {
   "cell_type": "markdown",
   "id": "b6603c70-4837-4892-8e60-47ccef9af3c4",
   "metadata": {},
   "source": [
    "## IO：基于标准输入输出的流式调用"
   ]
  },
  {
   "cell_type": "code",
   "execution_count": null,
   "id": "62c46544-1fe5-4508-b799-a42255799c39",
   "metadata": {},
   "outputs": [],
   "source": [
    "from textlong.io import TextBlock, stream_log"
   ]
  },
  {
   "cell_type": "code",
   "execution_count": null,
   "id": "c14b271f-82fc-435d-a1bb-da1b93ea0fc8",
   "metadata": {},
   "outputs": [],
   "source": [
    "def hello():\n",
    "    yield TextBlock(\"info\", \"hello textlong\")\n",
    "    yield TextBlock(\"chunk\", \"Textlong\")\n",
    "    yield TextBlock(\"chunk\", \"很\")\n",
    "    yield TextBlock(\"chunk\", \"棒！\")\n",
    "\n",
    "stream_log(hello)"
   ]
  },
  {
   "cell_type": "markdown",
   "id": "8eb5edae-1f35-4e4c-b1e4-1fb250f2ac75",
   "metadata": {},
   "source": [
    "## 调用大模型"
   ]
  },
  {
   "cell_type": "markdown",
   "id": "bcacf5c5-7262-447e-aee4-0cafd8319eee",
   "metadata": {},
   "source": [
    "### 大模型能力：通义千问"
   ]
  },
  {
   "cell_type": "code",
   "execution_count": null,
   "id": "ec98a4d7-91e9-41fe-8fd2-a263997e8bdf",
   "metadata": {},
   "outputs": [],
   "source": [
    "from textlong.llm.dashscope import qwen\n",
    "from textlong.io import stream_log\n",
    "\n",
    "stream_log(\n",
    "    qwen,\n",
    "    [{\"role\": \"user\", \"content\": \"你能帮我写一首关于兔子做梦的四句儿歌?\"}],\n",
    "    model=\"qwen2-1.5b-instruct\"\n",
    ")"
   ]
  },
  {
   "cell_type": "markdown",
   "id": "bf1ab1d3-09d7-44da-94dc-264851b31963",
   "metadata": {},
   "source": [
    "### fake_llm: 模拟大模型调用过程\n",
    "\n",
    "这可以观察提示语等内部结构。"
   ]
  },
  {
   "cell_type": "code",
   "execution_count": null,
   "id": "8fec6aca-48c5-4006-9505-14bdfe208144",
   "metadata": {},
   "outputs": [],
   "source": [
    "from textlong.llm import fake_llm\n",
    "from textlong.io import stream_log\n",
    "\n",
    "stream_log(\n",
    "    fake_llm,\n",
    "    [\n",
    "        {\"role\": \"system\", \"content\": \"你是一个写作能手。\"},\n",
    "        {\"role\": \"user\", \"content\": \"你能帮我写一首关于兔子做梦的四句儿歌?\"}\n",
    "    ],\n",
    "    model=\"qwen2-1.5b-instruct\"\n",
    ")"
   ]
  },
  {
   "cell_type": "markdown",
   "id": "daebcb1f-592d-48ec-aa99-f11b3efb377a",
   "metadata": {},
   "source": [
    "### 多轮对话"
   ]
  },
  {
   "cell_type": "markdown",
   "id": "8790399f-d4b4-4dd0-9559-136224b2c7cf",
   "metadata": {},
   "source": [
    "使用`messages`管理多轮对话的记忆。<br>\n",
    "你也可以在`chat`函数中通过参数`k`限制希望保留的对话轮次，但这不影响`messages`记录完整的对话过程。"
   ]
  },
  {
   "cell_type": "code",
   "execution_count": null,
   "id": "db74091f-7698-4d62-9aee-68f36e2c0a7b",
   "metadata": {},
   "outputs": [],
   "source": [
    "from textlong.llm import chat, fake_llm\n",
    "from textlong.llm.dashscope import qwen\n",
    "messages = []"
   ]
  },
  {
   "cell_type": "code",
   "execution_count": null,
   "id": "40386d26-92fc-4606-a9fd-092517ceaacf",
   "metadata": {},
   "outputs": [],
   "source": [
    "chat(qwen, \"你能帮我写一首关于兔子做梦的四句儿歌?\", messages)"
   ]
  },
  {
   "cell_type": "code",
   "execution_count": null,
   "id": "5c9cf574-d7b6-4b16-b774-542c3901a95a",
   "metadata": {},
   "outputs": [],
   "source": [
    "chat(qwen, \"换成小羊吧\", messages)"
   ]
  },
  {
   "cell_type": "code",
   "execution_count": null,
   "id": "cb4a8781-f7cb-4330-98d4-1d1b549f6c8d",
   "metadata": {},
   "outputs": [],
   "source": [
    "messages"
   ]
  },
  {
   "cell_type": "code",
   "execution_count": null,
   "id": "fbb77df1-1f87-4ef7-8e91-7289796d4f31",
   "metadata": {},
   "outputs": [],
   "source": [
    "chat(qwen, \"改为在蓝天上\", messages, k=1)"
   ]
  },
  {
   "cell_type": "code",
   "execution_count": null,
   "id": "d013a1fd-deaa-4124-9804-6121d04705e6",
   "metadata": {},
   "outputs": [],
   "source": [
    "chat(fake_llm, \"改为在草地上\", messages, k=10)"
   ]
  },
  {
   "cell_type": "code",
   "execution_count": null,
   "id": "07aef6d1-dd76-4f60-94b6-01607adf9d8b",
   "metadata": {},
   "outputs": [],
   "source": [
    "messages"
   ]
  },
  {
   "cell_type": "markdown",
   "id": "031dee26-4a77-44c0-9a35-9e670c2ca655",
   "metadata": {},
   "source": [
    "### 在大模型中支持回调工具"
   ]
  },
  {
   "cell_type": "markdown",
   "id": "e32c407d-7940-4eda-b4dc-00a980e84506",
   "metadata": {},
   "source": [
    "仍然采纳`langchain`来定义工具，这可以大大简化回调工具的管理。\n",
    "\n",
    "涉及定义工具的技巧主要包括：\n",
    "- 使用 tool 装饰函数将新函数定义为工具类型\n",
    "- 使用 StructTool 转换已有的函数为工具类型\n",
    "- 使用 BaseModel 补充工具的参数定义\n",
    "\n",
    "采用以上方法定义好工具，就可以使用 convert_to_openai_tool 将其转换为官方要求的 JSON 结构（确实会比手写节省很多精力）。"
   ]
  },
  {
   "cell_type": "code",
   "execution_count": null,
   "id": "a7f9904e-699b-49fe-9354-c72a3f987fac",
   "metadata": {},
   "outputs": [],
   "source": [
    "from textlong.llm.tools import tool, convert_to_openai_tool, \n",
    "from textlong.llm.dashscope import qwen\n",
    "from textlong.io import stream_log\n",
    "import json\n",
    "\n",
    "@tool\n",
    "def get_current_weather(location: str):\n",
    "    \"\"\"获取城市的天气情况\"\"\"\n",
    "    return f\"{location}今天是晴天。 \"\n",
    "\n",
    "stream_log(qwen, \"今天广州天气如何啊\", tools=[convert_to_openai_tool(get_current_weather)])"
   ]
  },
  {
   "cell_type": "markdown",
   "id": "6e667cad-8bc8-4ea2-b68e-d1c3687e71d0",
   "metadata": {},
   "source": [
    "### 在多轮对话中支持回调工具"
   ]
  },
  {
   "cell_type": "code",
   "execution_count": null,
   "id": "d898e2c1-a56b-4ffc-bf22-48351429c883",
   "metadata": {},
   "outputs": [],
   "source": [
    "from textlong.llm.tools import tool, convert_to_openai_tool\n",
    "from textlong.llm.dashscope import qwen\n",
    "from textlong.llm import chat\n",
    "import json\n",
    "\n",
    "@tool\n",
    "def get_current_weather(location: str):\n",
    "    \"\"\"获取城市的天气情况\"\"\"\n",
    "    return f\"{location}今天是晴天。 \"\n",
    "\n",
    "messages = []\n",
    "chat(qwen, \"今天广州天气如何啊\", messages, tools=[convert_to_openai_tool(get_current_weather)], toolkits=[get_current_weather])"
   ]
  },
  {
   "cell_type": "code",
   "execution_count": null,
   "id": "67fe453f-dd4a-4c1d-a0aa-8e8122c88538",
   "metadata": {},
   "outputs": [],
   "source": [
    "chat(qwen, \"这是怎么得出来的？\", messages, tools=[convert_to_openai_tool(get_current_weather)], toolkits=[get_current_weather])"
   ]
  },
  {
   "cell_type": "code",
   "execution_count": null,
   "id": "f5a78d8a-9de4-4718-be14-a900cc20fc60",
   "metadata": {},
   "outputs": [],
   "source": [
    "chat(qwen, \"再看看上海\", messages, tools=[convert_to_openai_tool(get_current_weather)], toolkits=[get_current_weather])"
   ]
  },
  {
   "cell_type": "code",
   "execution_count": null,
   "id": "d346cd93-8539-4570-bcea-ecbdf370e0a7",
   "metadata": {},
   "outputs": [],
   "source": [
    "messages"
   ]
  },
  {
   "cell_type": "markdown",
   "id": "a999b6b4-dea0-4ea9-8951-61e6c99a9aa9",
   "metadata": {},
   "source": [
    "## 写作提示语"
   ]
  },
  {
   "cell_type": "code",
   "execution_count": null,
   "id": "1bbed0f8-1a77-4b9e-9227-37dff26abf4f",
   "metadata": {},
   "outputs": [],
   "source": [
    "from textlong.hub import load_chat_template, load_resource_chat_template"
   ]
  },
  {
   "cell_type": "markdown",
   "id": "173b5dbe-360a-41ba-97ee-f944b7293f04",
   "metadata": {},
   "source": [
    "### 加载对话模板的资源\n",
    "\n",
    "指定资源库中的模板ID即可加载模板。"
   ]
  },
  {
   "cell_type": "code",
   "execution_count": null,
   "id": "dc6cfba0-b58a-445a-9c85-32213033d0b1",
   "metadata": {},
   "outputs": [],
   "source": [
    "load_chat_template(\"IDEA\")"
   ]
  },
  {
   "cell_type": "code",
   "execution_count": null,
   "id": "113b4bfb-d5b5-4635-bb02-0b32024d1d1c",
   "metadata": {},
   "outputs": [],
   "source": [
    "load_chat_template(\"OUTLINE\")"
   ]
  },
  {
   "cell_type": "markdown",
   "id": "60919f9d-d687-498d-a36c-68b56ebec19e",
   "metadata": {},
   "source": [
    "### 查看构造出的提示语模板"
   ]
  },
  {
   "cell_type": "code",
   "execution_count": null,
   "id": "69e492c6-bbdf-4fc5-95e9-0aae43a98c30",
   "metadata": {},
   "outputs": [],
   "source": [
    "print(load_chat_template(\"OUTLINE\").format(task=\"请帮我写一首歌\"))"
   ]
  },
  {
   "cell_type": "markdown",
   "id": "14216ff2-faba-4015-b262-6a8c8eba2457",
   "metadata": {},
   "source": [
    "### 单轮写作"
   ]
  },
  {
   "cell_type": "code",
   "execution_count": 8,
   "id": "20a94ba4-63b4-4933-950d-334ebcaf4a55",
   "metadata": {},
   "outputs": [],
   "source": [
    "from textlong.llm import chat, write, fake_llm\n",
    "from textlong.llm.dashscope import qwen\n",
    "messages = []"
   ]
  },
  {
   "cell_type": "code",
   "execution_count": 9,
   "id": "b5ea70c5-26a9-4927-afc0-6bc15168f2d6",
   "metadata": {},
   "outputs": [
    {
     "name": "stdout",
     "output_type": "stream",
     "text": [
      "\u001b[32m小白\u001b[0m\u001b[32m兔\u001b[0m\u001b[32m，\u001b[0m\u001b[32m蹦蹦跳，  \n",
      "\u001b[0m\u001b[32m耳朵长，尾巴小。  \n",
      "爱吃\u001b[0m\u001b[32m萝卜和青菜，  \n",
      "快乐生活在\u001b[0m\u001b[32m林间。\u001b[0m\u001b[32m\u001b[0m\n",
      "\n"
     ]
    },
    {
     "data": {
      "text/plain": [
       "'小白兔，蹦蹦跳，  \\n耳朵长，尾巴小。  \\n爱吃萝卜和青菜，  \\n快乐生活在林间。'"
      ]
     },
     "execution_count": 9,
     "metadata": {},
     "output_type": "execute_result"
    }
   ],
   "source": [
    "write(qwen, \"IDEA\", {\"task\": \"帮我写一首关于兔子的四句儿歌\"}, messages)"
   ]
  },
  {
   "cell_type": "code",
   "execution_count": 10,
   "id": "e79616f0-dd74-4773-a8e0-972cd311fdcf",
   "metadata": {},
   "outputs": [
    {
     "name": "stdout",
     "output_type": "stream",
     "text": [
      "\u001b[32m小\u001b[0m\u001b[32m马\u001b[0m\u001b[32m儿\u001b[0m\u001b[32m小马儿, \u001b[0m\u001b[32m欢快在草原跑,\n",
      "四\u001b[0m\u001b[32m蹄轻盈如飞, \u001b[0m\u001b[32m毛发闪亮真妙。\n",
      "尾巴\u001b[0m\u001b[32m摇摇乐悠悠, 叫声\u001b[0m\u001b[32m咿呀真娇俏,\n",
      "朋友遍\u001b[0m\u001b[32m地都是, 快乐生活多\u001b[0m\u001b[32m美好。\u001b[0m\u001b[32m\u001b[0m\n",
      "\n"
     ]
    },
    {
     "data": {
      "text/plain": [
       "'小马儿小马儿, 欢快在草原跑,\\n四蹄轻盈如飞, 毛发闪亮真妙。\\n尾巴摇摇乐悠悠, 叫声咿呀真娇俏,\\n朋友遍地都是, 快乐生活多美好。'"
      ]
     },
     "execution_count": 10,
     "metadata": {},
     "output_type": "execute_result"
    }
   ],
   "source": [
    "write(qwen, \"IDEA\", {\"task\": \"帮我写一首关于小马的四句儿歌\"}, messages)"
   ]
  },
  {
   "cell_type": "code",
   "execution_count": 11,
   "id": "0f5d03f2-169e-4bef-9fa9-1d0264dba923",
   "metadata": {},
   "outputs": [
    {
     "data": {
      "text/plain": [
       "[{'role': 'system',\n",
       "  'content': '你是强大的写作助手。\\n\\n你必须遵循以下约束来完成任务:\\n1. 直接输出你的结果，不要评论，不要啰嗦\\n2. 使用markdown格式输出\\n\\n**你的任务是:**\\n帮我写一首关于小马的四句儿歌\\n'},\n",
       " {'role': 'user', 'content': '请你开始'},\n",
       " {'role': 'assistant',\n",
       "  'content': '小马儿小马儿, 欢快在草原跑,\\n四蹄轻盈如飞, 毛发闪亮真妙。\\n尾巴摇摇乐悠悠, 叫声咿呀真娇俏,\\n朋友遍地都是, 快乐生活多美好。'}]"
      ]
     },
     "execution_count": 11,
     "metadata": {},
     "output_type": "execute_result"
    }
   ],
   "source": [
    "messages"
   ]
  },
  {
   "cell_type": "markdown",
   "id": "3eb3f172-e76a-4933-b039-afc635d58ae9",
   "metadata": {},
   "source": [
    "### 单轮写作 + 多轮对话"
   ]
  },
  {
   "cell_type": "code",
   "execution_count": 12,
   "id": "23c1241c-6f5d-4773-ab83-8a5e04ac4d6b",
   "metadata": {},
   "outputs": [
    {
     "name": "stdout",
     "output_type": "stream",
     "text": [
      "\u001b[32m小\u001b[0m\u001b[32m马\u001b[0m\u001b[32m儿\u001b[0m\u001b[32m小马儿, \u001b[0m\u001b[32m草原上蹦蹦跳,\n",
      "\u001b[0m\u001b[32m四蹄蹬开晨露, \u001b[0m\u001b[32m迎着阳光笑。\n",
      "鬃毛飘\u001b[0m\u001b[32m飘似彩云, 眼\u001b[0m\u001b[32m中星光闪耀,\n",
      "穿过青青草地\u001b[0m\u001b[32m, 快乐歌声飘。\n",
      "\n",
      "彩虹\u001b[0m\u001b[32m下它起舞, 尾巴\u001b[0m\u001b[32m摇出欢乐曲,\n",
      "小河旁\u001b[0m\u001b[32m饮水清, 波光里映\u001b[0m\u001b[32m俏影。\n",
      "朋友小兔小鹿\u001b[0m\u001b[32m, 一起玩耍不孤寂,\n",
      "\u001b[0m\u001b[32m小马儿的天地, \u001b[0m\u001b[32m满是爱与奇迹。\u001b[0m\u001b[32m\u001b[0m\n",
      "\n"
     ]
    },
    {
     "data": {
      "text/plain": [
       "'小马儿小马儿, 草原上蹦蹦跳,\\n四蹄蹬开晨露, 迎着阳光笑。\\n鬃毛飘飘似彩云, 眼中星光闪耀,\\n穿过青青草地, 快乐歌声飘。\\n\\n彩虹下它起舞, 尾巴摇出欢乐曲,\\n小河旁饮水清, 波光里映俏影。\\n朋友小兔小鹿, 一起玩耍不孤寂,\\n小马儿的天地, 满是爱与奇迹。'"
      ]
     },
     "execution_count": 12,
     "metadata": {},
     "output_type": "execute_result"
    }
   ],
   "source": [
    "chat(qwen, \"改为8句吧\", messages)"
   ]
  },
  {
   "cell_type": "code",
   "execution_count": null,
   "id": "91c4457f-96fe-40e9-9bbd-c4cf293fa1b6",
   "metadata": {},
   "outputs": [],
   "source": [
    "messages"
   ]
  },
  {
   "cell_type": "code",
   "execution_count": null,
   "id": "e9e63c6b-af47-4595-a581-90494477e0eb",
   "metadata": {},
   "outputs": [],
   "source": [
    "chat(qwen, \"类似西方的诗歌那样风格\", messages, k=3, model=\"qwen2-1.5b-instruct\")"
   ]
  },
  {
   "cell_type": "code",
   "execution_count": null,
   "id": "207dd6f3-4a6a-45f0-a5b6-c368bbab170d",
   "metadata": {},
   "outputs": [],
   "source": [
    "messages"
   ]
  }
 ],
 "metadata": {
  "jpcodetoc-autonumbering": false,
  "kernelspec": {
   "display_name": "textlong-same-ipykernel",
   "language": "python",
   "name": "textlong-same-ipykernel"
  },
  "language_info": {
   "codemirror_mode": {
    "name": "ipython",
    "version": 3
   },
   "file_extension": ".py",
   "mimetype": "text/x-python",
   "name": "python",
   "nbconvert_exporter": "python",
   "pygments_lexer": "ipython3",
   "version": "3.10.0"
  }
 },
 "nbformat": 4,
 "nbformat_minor": 5
}
