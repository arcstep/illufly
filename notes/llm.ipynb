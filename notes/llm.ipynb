{
 "cells": [
  {
   "cell_type": "markdown",
   "id": "9d29c40a-2a13-4a7f-a465-189d2ea5ead2",
   "metadata": {},
   "source": [
    "# 大模型"
   ]
  },
  {
   "cell_type": "markdown",
   "id": "30e55ec8-ba21-4701-96d5-6a54f9199b24",
   "metadata": {},
   "source": [
    "## 模型支持"
   ]
  },
  {
   "cell_type": "markdown",
   "id": "a5334318-b9fb-419c-a268-50baf4f5c24d",
   "metadata": {},
   "source": [
    "### OpenAI"
   ]
  },
  {
   "cell_type": "code",
   "execution_count": 1,
   "id": "50fd539c-4307-4a0e-bfd4-c2fbc18aa2f6",
   "metadata": {},
   "outputs": [
    {
     "name": "stdout",
     "output_type": "stream",
     "text": [
      "\u001b[32m小\u001b[0m\u001b[32m兔\u001b[0m\u001b[32m子\u001b[0m\u001b[32m闭\u001b[0m\u001b[32m上\u001b[0m\u001b[32m眼\u001b[0m\u001b[32m，\u001b[0m\u001b[32m做\u001b[0m\u001b[32m着\u001b[0m\u001b[32m甜\u001b[0m\u001b[32m美\u001b[0m\u001b[32m的\u001b[0m\u001b[32m梦\u001b[0m\u001b[32m，\n",
      "\u001b[0m\u001b[32m甜\u001b[0m\u001b[32m甜\u001b[0m\u001b[32m的\u001b[0m\u001b[32m草\u001b[0m\u001b[32m莓\u001b[0m\u001b[32m味\u001b[0m\u001b[32m，\u001b[0m\u001b[32m让\u001b[0m\u001b[32m它\u001b[0m\u001b[32m迷\u001b[0m\u001b[32m失\u001b[0m\u001b[32m在\u001b[0m\u001b[32m其中\u001b[0m\u001b[32m。\n",
      "\u001b[0m\u001b[32m梦\u001b[0m\u001b[32m里\u001b[0m\u001b[32m有\u001b[0m\u001b[32m欢\u001b[0m\u001b[32m乐\u001b[0m\u001b[32m的\u001b[0m\u001b[32m游\u001b[0m\u001b[32m戏\u001b[0m\u001b[32m，\u001b[0m\u001b[32m和\u001b[0m\u001b[32m朋\u001b[0m\u001b[32m友\u001b[0m\u001b[32m们\u001b[0m\u001b[32m一\u001b[0m\u001b[32m起\u001b[0m\u001b[32m玩\u001b[0m\u001b[32m，\n",
      "\u001b[0m\u001b[32m睡\u001b[0m\u001b[32m醒\u001b[0m\u001b[32m了\u001b[0m\u001b[32m它\u001b[0m\u001b[32m还\u001b[0m\u001b[32m在\u001b[0m\u001b[32m微\u001b[0m\u001b[32m笑\u001b[0m\u001b[32m，\u001b[0m\u001b[32m因\u001b[0m\u001b[32m为\u001b[0m\u001b[32m梦\u001b[0m\u001b[32m想\u001b[0m\u001b[32m成\u001b[0m\u001b[32m真\u001b[0m\u001b[32m的\u001b[0m\u001b[32m感\u001b[0m\u001b[32m觉\u001b[0m\u001b[32m。\u001b[0m\n",
      "\n"
     ]
    },
    {
     "data": {
      "text/plain": [
       "{'output': '小兔子闭上眼，做着甜美的梦，\\n甜甜的草莓味，让它迷失在其中。\\n梦里有欢乐的游戏，和朋友们一起玩，\\n睡醒了它还在微笑，因为梦想成真的感觉。',\n",
       " 'tools_call': {}}"
      ]
     },
     "execution_count": 1,
     "metadata": {},
     "output_type": "execute_result"
    }
   ],
   "source": [
    "from textlong.llm import openai\n",
    "from textlong.io import log\n",
    "\n",
    "log(\n",
    "    openai,\n",
    "    [{\"role\": \"user\", \"content\": \"你能帮我写一首关于兔子做梦的四句儿歌?\"}],\n",
    "    model=\"gpt-3.5-turbo\"\n",
    ")"
   ]
  },
  {
   "cell_type": "code",
   "execution_count": 2,
   "id": "0c02e36b-97d1-4077-83e3-3867f74010f3",
   "metadata": {},
   "outputs": [
    {
     "name": "stdout",
     "output_type": "stream",
     "text": [
      "[TOOLS_CALL] \u001b[34m{\"index\": 0, \"function\": {\"id\": \"call_2YNg3iXT0zqdFc11RUAaqIrD\", \"type\": \"function\", \"name\": \"get_current_weather\", \"arguments\": \"\"}}\u001b[0m\n",
      "[TOOLS_CALL] \u001b[34m{\"index\": 0, \"function\": {\"id\": \"\", \"type\": \"function\", \"name\": null, \"arguments\": \"{\\n\"}}\u001b[0m\n",
      "[TOOLS_CALL] \u001b[34m{\"index\": 0, \"function\": {\"id\": \"\", \"type\": \"function\", \"name\": null, \"arguments\": \" \"}}\u001b[0m\n",
      "[TOOLS_CALL] \u001b[34m{\"index\": 0, \"function\": {\"id\": \"\", \"type\": \"function\", \"name\": null, \"arguments\": \" \\\"\"}}\u001b[0m\n",
      "[TOOLS_CALL] \u001b[34m{\"index\": 0, \"function\": {\"id\": \"\", \"type\": \"function\", \"name\": null, \"arguments\": \"location\"}}\u001b[0m\n",
      "[TOOLS_CALL] \u001b[34m{\"index\": 0, \"function\": {\"id\": \"\", \"type\": \"function\", \"name\": null, \"arguments\": \"\\\":\"}}\u001b[0m\n",
      "[TOOLS_CALL] \u001b[34m{\"index\": 0, \"function\": {\"id\": \"\", \"type\": \"function\", \"name\": null, \"arguments\": \" \\\"\"}}\u001b[0m\n",
      "[TOOLS_CALL] \u001b[34m{\"index\": 0, \"function\": {\"id\": \"\", \"type\": \"function\", \"name\": null, \"arguments\": \"广\"}}\u001b[0m\n",
      "[TOOLS_CALL] \u001b[34m{\"index\": 0, \"function\": {\"id\": \"\", \"type\": \"function\", \"name\": null, \"arguments\": \"州\"}}\u001b[0m\n",
      "[TOOLS_CALL] \u001b[34m{\"index\": 0, \"function\": {\"id\": \"\", \"type\": \"function\", \"name\": null, \"arguments\": \"\\\"\\n\"}}\u001b[0m\n",
      "[TOOLS_CALL] \u001b[34m{\"index\": 0, \"function\": {\"id\": \"\", \"type\": \"function\", \"name\": null, \"arguments\": \"}\"}}\u001b[0m\n",
      "\u001b[34m{\"0\": {\"index\": 0, \"function\": {\"id\": \"call_2YNg3iXT0zqdFc11RUAaqIrD\", \"type\": \"function\", \"name\": null, \"arguments\": \"{\\n  \\\"location\\\": \\\"广州\\\"\\n}\"}}}\u001b[0m\n"
     ]
    },
    {
     "data": {
      "text/plain": [
       "{'output': '',\n",
       " 'tools_call': {0: {'index': 0,\n",
       "   'function': {'id': 'call_2YNg3iXT0zqdFc11RUAaqIrD',\n",
       "    'type': 'function',\n",
       "    'name': None,\n",
       "    'arguments': '{\\n  \"location\": \"广州\"\\n}'}}}}"
      ]
     },
     "execution_count": 2,
     "metadata": {},
     "output_type": "execute_result"
    }
   ],
   "source": [
    "from textlong.llm.tools import tool, convert_to_openai_tool\n",
    "from textlong.llm import openai\n",
    "from textlong.io import log\n",
    "import json\n",
    "\n",
    "@tool\n",
    "def get_current_weather(location: str):\n",
    "    \"\"\"获取城市的天气情况\"\"\"\n",
    "    return f\"{location}今天是晴天。 \"\n",
    "\n",
    "log(openai, \"今天广州天气如何啊\", tools=[convert_to_openai_tool(get_current_weather)], model=\"gpt-3.5-turbo\")"
   ]
  },
  {
   "cell_type": "markdown",
   "id": "57373ba5-19d6-4a9a-a744-3b485a272164",
   "metadata": {},
   "source": [
    "### 智谱AI"
   ]
  },
  {
   "cell_type": "code",
   "execution_count": 3,
   "id": "5312c9e9-9ab8-4a48-bfc8-c75fcb01631c",
   "metadata": {},
   "outputs": [
    {
     "name": "stdout",
     "output_type": "stream",
     "text": [
      "\u001b[32m小\u001b[0m\u001b[32m兔子\u001b[0m\u001b[32m乖乖\u001b[0m\u001b[32m梦\u001b[0m\u001b[32m儿\u001b[0m\u001b[32m甜\u001b[0m\u001b[32m，\n",
      "梦中\u001b[0m\u001b[32m草原\u001b[0m\u001b[32m绿\u001b[0m\u001b[32m油\u001b[0m\u001b[32m油\u001b[0m\u001b[32m，\n",
      "月亮\u001b[0m\u001b[32m当\u001b[0m\u001b[32m灯\u001b[0m\u001b[32m星星\u001b[0m\u001b[32m点\u001b[0m\u001b[32m，\n",
      "梦\u001b[0m\u001b[32m回\u001b[0m\u001b[32m田野\u001b[0m\u001b[32m跑\u001b[0m\u001b[32m欢\u001b[0m\u001b[32m欢\u001b[0m\u001b[32m。\u001b[0m\n",
      "\n"
     ]
    },
    {
     "data": {
      "text/plain": [
       "{'output': '小兔子乖乖梦儿甜，\\n梦中草原绿油油，\\n月亮当灯星星点，\\n梦回田野跑欢欢。', 'tools_call': {}}"
      ]
     },
     "execution_count": 3,
     "metadata": {},
     "output_type": "execute_result"
    }
   ],
   "source": [
    "from textlong.llm import zhipu\n",
    "from textlong.io import log\n",
    "\n",
    "log(\n",
    "    zhipu,\n",
    "    [{\"role\": \"user\", \"content\": \"你能帮我写一首关于兔子做梦的四句儿歌?\"}],\n",
    "    model=\"glm-4-flash\"\n",
    ")"
   ]
  },
  {
   "cell_type": "code",
   "execution_count": 4,
   "id": "fed97be4-2b81-4b8d-ac2c-4877219f73ce",
   "metadata": {},
   "outputs": [
    {
     "name": "stdout",
     "output_type": "stream",
     "text": [
      "\u001b[32m好的\u001b[0m\u001b[32m，\u001b[0m\u001b[32m我可以\u001b[0m\u001b[32m帮你\u001b[0m\u001b[32m查询\u001b[0m\u001b[32m广州\u001b[0m\u001b[32m的\u001b[0m\u001b[32m天气\u001b[0m\u001b[32m。\u001b[0m\u001b[32m请问\u001b[0m\u001b[32m你需要\u001b[0m\u001b[32m我\u001b[0m\u001b[32m调用\u001b[0m\u001b[32m哪个\u001b[0m\u001b[32mAPI\u001b[0m\u001b[32m呢\u001b[0m\u001b[32m？\u001b[0m\n",
      "\n"
     ]
    },
    {
     "data": {
      "text/plain": [
       "{'output': '好的，我可以帮你查询广州的天气。请问你需要我调用哪个API呢？', 'tools_call': {}}"
      ]
     },
     "execution_count": 4,
     "metadata": {},
     "output_type": "execute_result"
    }
   ],
   "source": [
    "from textlong.llm.tools import tool, convert_to_openai_tool\n",
    "from textlong.llm import zhipu\n",
    "from textlong.io import log\n",
    "import json\n",
    "\n",
    "@tool\n",
    "def get_current_weather(location: str):\n",
    "    \"\"\"获取城市的天气情况\"\"\"\n",
    "    return f\"{location}今天是晴天。 \"\n",
    "\n",
    "log(zhipu, \"今天广州天气如何啊\", tools=[convert_to_openai_tool(get_current_weather)], model=\"glm-4-air\")"
   ]
  },
  {
   "cell_type": "markdown",
   "id": "8e43ca89-6ded-487b-b619-32eb11d653e9",
   "metadata": {},
   "source": [
    "### 通义千问"
   ]
  },
  {
   "cell_type": "code",
   "execution_count": 5,
   "id": "75628fec-7952-42b9-87d9-f8c54e04bdec",
   "metadata": {},
   "outputs": [
    {
     "name": "stdout",
     "output_type": "stream",
     "text": [
      "\u001b[32m小\u001b[0m\u001b[32m兔子\u001b[0m\u001b[32m，\u001b[0m\u001b[32m梦中跳，  \n",
      "\u001b[0m\u001b[32m胡萝卜，满天空飘。  \n",
      "月亮\u001b[0m\u001b[32m船，带它逛，  \n",
      "醒来\u001b[0m\u001b[32m笑，梦多妙。\u001b[0m\u001b[32m\u001b[0m\n",
      "\n"
     ]
    },
    {
     "data": {
      "text/plain": [
       "{'output': '小兔子，梦中跳，  \\n胡萝卜，满天空飘。  \\n月亮船，带它逛，  \\n醒来笑，梦多妙。', 'tools_call': {}}"
      ]
     },
     "execution_count": 5,
     "metadata": {},
     "output_type": "execute_result"
    }
   ],
   "source": [
    "from textlong.llm import qwen\n",
    "from textlong.io import log\n",
    "\n",
    "log(\n",
    "    qwen,\n",
    "    [{\"role\": \"user\", \"content\": \"你能帮我写一首关于兔子做梦的四句儿歌?\"}],\n",
    "    model=\"qwen2-1.5b-instruct\"\n",
    ")"
   ]
  },
  {
   "cell_type": "code",
   "execution_count": 6,
   "id": "4b2fef77-8fb1-43ce-9edf-8753158f21e1",
   "metadata": {},
   "outputs": [
    {
     "name": "stdout",
     "output_type": "stream",
     "text": [
      "[TOOLS_CALL] \u001b[34m{\"index\": 0, \"id\": \"call_0b9e6473108047529b24f0\", \"type\": \"function\", \"function\": {\"name\": \"get_current_weather\", \"arguments\": \"\"}}\u001b[0m\n",
      "[TOOLS_CALL] \u001b[34m{\"index\": 0, \"id\": \"\", \"type\": \"function\", \"function\": {\"arguments\": \"{\\\"location\\\": \\\"\"}}\u001b[0m\n",
      "[TOOLS_CALL] \u001b[34m{\"index\": 0, \"id\": \"\", \"type\": \"function\", \"function\": {\"arguments\": \"广州\\\"}\"}}\u001b[0m\n",
      "[TOOLS_CALL] \u001b[34m{\"index\": 0, \"id\": \"\", \"type\": \"function\", \"function\": {}}\u001b[0m\n",
      "\u001b[34m{\"0\": {\"index\": 0, \"id\": \"call_0b9e6473108047529b24f0\", \"type\": \"function\", \"function\": {\"name\": \"get_current_weather\", \"arguments\": \"{\\\"location\\\": \\\"广州\\\"}\"}}}\u001b[0m\n"
     ]
    },
    {
     "data": {
      "text/plain": [
       "{'output': '',\n",
       " 'tools_call': {0: {'index': 0,\n",
       "   'id': 'call_0b9e6473108047529b24f0',\n",
       "   'type': 'function',\n",
       "   'function': {'name': 'get_current_weather',\n",
       "    'arguments': '{\"location\": \"广州\"}'}}}}"
      ]
     },
     "execution_count": 6,
     "metadata": {},
     "output_type": "execute_result"
    }
   ],
   "source": [
    "from textlong.llm.tools import tool, convert_to_openai_tool\n",
    "from textlong.llm import qwen\n",
    "from textlong.io import log\n",
    "import json\n",
    "\n",
    "@tool\n",
    "def get_current_weather(location: str):\n",
    "    \"\"\"获取城市的天气情况\"\"\"\n",
    "    return f\"{location}今天是晴天。 \"\n",
    "\n",
    "log(qwen, \"今天广州天气如何啊\", tools=[convert_to_openai_tool(get_current_weather)])"
   ]
  },
  {
   "cell_type": "markdown",
   "id": "4b9d80d9-b2f7-4f3d-856b-f2280b534484",
   "metadata": {},
   "source": [
    "## Fake"
   ]
  },
  {
   "cell_type": "markdown",
   "id": "32fc77aa-8e40-4d1d-b124-37c517d8fdf6",
   "metadata": {},
   "source": [
    "### fake_llm: 模拟大模型调用过程\n",
    "\n",
    "这可以观察提示语等内部结构。"
   ]
  },
  {
   "cell_type": "code",
   "execution_count": 7,
   "id": "433e3074-d1ed-4912-919a-5c4b55fb7b28",
   "metadata": {},
   "outputs": [
    {
     "name": "stdout",
     "output_type": "stream",
     "text": [
      "[INFO] \u001b[34msystem: 你是一个写作能手。\u001b[0m\n",
      "[INFO] \u001b[34muser: 你能帮我写一首关于兔子做梦的四句儿歌?\u001b[0m\n",
      "\u001b[32m这\u001b[0m\u001b[32m是\u001b[0m\u001b[32m一个\u001b[0m\u001b[32m模拟\u001b[0m\u001b[32m调用\u001b[0m\u001b[32m!\u001b[0m\n",
      "\n"
     ]
    },
    {
     "data": {
      "text/plain": [
       "{'output': '这是一个模拟调用!', 'tools_call': {}}"
      ]
     },
     "execution_count": 7,
     "metadata": {},
     "output_type": "execute_result"
    }
   ],
   "source": [
    "from textlong.llm import fake_llm\n",
    "from textlong.io import log\n",
    "\n",
    "log(\n",
    "    fake_llm,\n",
    "    [\n",
    "        {\"role\": \"system\", \"content\": \"你是一个写作能手。\"},\n",
    "        {\"role\": \"user\", \"content\": \"你能帮我写一首关于兔子做梦的四句儿歌?\"}\n",
    "    ],\n",
    "    model=\"qwen2-1.5b-instruct\"\n",
    ")"
   ]
  },
  {
   "cell_type": "code",
   "execution_count": null,
   "id": "699bd017-f5f2-48eb-82ff-4c47dfdc595f",
   "metadata": {},
   "outputs": [],
   "source": []
  }
 ],
 "metadata": {
  "kernelspec": {
   "display_name": "textlong-same-ipykernel",
   "language": "python",
   "name": "textlong-same-ipykernel"
  },
  "language_info": {
   "codemirror_mode": {
    "name": "ipython",
    "version": 3
   },
   "file_extension": ".py",
   "mimetype": "text/x-python",
   "name": "python",
   "nbconvert_exporter": "python",
   "pygments_lexer": "ipython3",
   "version": "3.10.0"
  }
 },
 "nbformat": 4,
 "nbformat_minor": 5
}
