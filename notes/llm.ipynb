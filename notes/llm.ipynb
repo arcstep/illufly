{
    "cells": [
        {
            "cell_type": "markdown",
            "id": "9d29c40a-2a13-4a7f-a465-189d2ea5ead2",
            "metadata": {},
            "source": [
                "# 大模型"
            ]
        },
        {
            "cell_type": "markdown",
            "id": "30e55ec8-ba21-4701-96d5-6a54f9199b24",
            "metadata": {},
            "source": [
                "## 模型支持"
            ]
        },
        {
            "cell_type": "markdown",
            "id": "a5334318-b9fb-419c-a268-50baf4f5c24d",
            "metadata": {},
            "source": [
                "### OpenAI"
            ]
        },
        {
            "cell_type": "code",
            "execution_count": 1,
            "id": "50fd539c-4307-4a0e-bfd4-c2fbc18aa2f6",
            "metadata": {},
            "outputs": [],
            "source": [
                "from illufly.llm import ChatOpenAI\n",
                "from illufly.io import log, alog"
            ]
        },
        {
            "cell_type": "code",
            "execution_count": 2,
            "id": "54add976-5cc5-42af-96c2-55851d0178b0",
            "metadata": {},
            "outputs": [
                {
                    "name": "stdout",
                    "output_type": "stream",
                    "text": [
                        "\u001b[32m嗨\u001b[0m\u001b[32m，\u001b[0m\u001b[32m我\u001b[0m\u001b[32m来\u001b[0m\u001b[32m帮\u001b[0m\u001b[32m你\u001b[0m\u001b[32m写\u001b[0m\u001b[32m一\u001b[0m\u001b[32m首\u001b[0m\u001b[32m关\u001b[0m\u001b[32m于\u001b[0m\u001b[32m兔\u001b[0m\u001b[32m子\u001b[0m\u001b[32m做\u001b[0m\u001b[32m梦\u001b[0m\u001b[32m的\u001b[0m\u001b[32m四\u001b[0m\u001b[32m句\u001b[0m\u001b[32m儿\u001b[0m\u001b[32m歌\u001b[0m\u001b[32m：\n",
                        "\n",
                        "\u001b[0m\u001b[32m兔\u001b[0m\u001b[32m兔\u001b[0m\u001b[32m做\u001b[0m\u001b[32m梦\u001b[0m\u001b[32m声\u001b[0m\u001b[32m呼\u001b[0m\u001b[32m呼\u001b[0m\u001b[32m，\n",
                        "\u001b[0m\u001b[32m梦\u001b[0m\u001b[32m见\u001b[0m\u001b[32m大\u001b[0m\u001b[32m草\u001b[0m\u001b[32m原\u001b[0m\u001b[32m奔\u001b[0m\u001b[32m跑\u001b[0m\u001b[32m跳\u001b[0m\u001b[32m。\n",
                        "\u001b[0m\u001b[32m它\u001b[0m\u001b[32m是\u001b[0m\u001b[32m天\u001b[0m\u001b[32m空\u001b[0m\u001b[32m最\u001b[0m\u001b[32m快\u001b[0m\u001b[32m乐\u001b[0m\u001b[32m的\u001b[0m\u001b[32m舞\u001b[0m\u001b[32m者\u001b[0m\u001b[32m，\n",
                        "\u001b[0m\u001b[32m在\u001b[0m\u001b[32m梦\u001b[0m\u001b[32m中\u001b[0m\u001b[32m兔\u001b[0m\u001b[32m子\u001b[0m\u001b[32m笑\u001b[0m\u001b[32m得\u001b[0m\u001b[32m多\u001b[0m\u001b[32m好\u001b[0m\u001b[32m看\u001b[0m\u001b[32m！\n",
                        "\n",
                        "\u001b[0m\u001b[32m希\u001b[0m\u001b[32m望\u001b[0m\u001b[32m这\u001b[0m\u001b[32m首\u001b[0m\u001b[32m歌\u001b[0m\u001b[32m合\u001b[0m\u001b[32m你\u001b[0m\u001b[32m意\u001b[0m\u001b[32m！\u001b[0m\n",
                        "\n",
                        "[END] \u001b[34m【内容由幻蝶AI生成，其观点仅代表创作者个人立场，可登录 http://www.illufly.com 查验其校验码 65086549】\u001b[0m\n"
                    ]
                },
                {
                    "data": {
                        "text/plain": [
                            "'嗨，我来帮你写一首关于兔子做梦的四句儿歌：\\n\\n兔兔做梦声呼呼，\\n梦见大草原奔跑跳。\\n它是天空最快乐的舞者，\\n在梦中兔子笑得多好看！\\n\\n希望这首歌合你意！'"
                        ]
                    },
                    "execution_count": 2,
                    "metadata": {},
                    "output_type": "execute_result"
                }
            ],
            "source": [
                "log(\n",
                "    ChatOpenAI(),\n",
                "    \"你能帮我写一首关于兔子做梦的四句儿歌?\",\n",
                "    model=\"gpt-3.5-turbo\"\n",
                ")"
            ]
        },
        {
            "cell_type": "code",
            "execution_count": 9,
            "id": "a7145a95-f03e-4783-910b-4e225f62fc2c",
            "metadata": {},
            "outputs": [
                {
                    "name": "stdout",
                    "output_type": "stream",
                    "text": [
                        "\u001b[32m小\u001b[0m\u001b[32m兔\u001b[0m\u001b[32m子\u001b[0m\u001b[32m做\u001b[0m\u001b[32m梦\u001b[0m\u001b[32m梦\u001b[0m\u001b[32m见\u001b[0m\u001b[32m彩\u001b[0m\u001b[32m虹\u001b[0m\u001b[32m，\n",
                        "\u001b[0m\u001b[32m跳\u001b[0m\u001b[32m跳\u001b[0m\u001b[32m跳\u001b[0m\u001b[32m，\u001b[0m\u001b[32m好\u001b[0m\u001b[32m开\u001b[0m\u001b[32m心\u001b[0m\u001b[32m！\u001b[0m\u001b[32m\n",
                        "\u001b[0m\u001b[32m梦\u001b[0m\u001b[32m里\u001b[0m\u001b[32m有\u001b[0m\u001b[32m花\u001b[0m\u001b[32m儿\u001b[0m\u001b[32m，\u001b[0m\u001b[32m梦\u001b[0m\u001b[32m里\u001b[0m\u001b[32m有\u001b[0m\u001b[32m草\u001b[0m\u001b[32m，\n",
                        "\u001b[0m\u001b[32m小\u001b[0m\u001b[32m兔\u001b[0m\u001b[32m子\u001b[0m\u001b[32m笑\u001b[0m\u001b[32m得\u001b[0m\u001b[32m嘴\u001b[0m\u001b[32m巴\u001b[0m\u001b[32m大\u001b[0m\u001b[32m。\u001b[0m\n",
                        "\n"
                    ]
                },
                {
                    "data": {
                        "text/plain": [
                            "'小兔子做梦梦见彩虹，\\n跳跳跳，好开心！\\n梦里有花儿，梦里有草，\\n小兔子笑得嘴巴大。'"
                        ]
                    },
                    "execution_count": 9,
                    "metadata": {},
                    "output_type": "execute_result"
                }
            ],
            "source": [
                "await alog(\n",
                "    ChatOpenAI(),\n",
                "    \"你能帮我写一首关于兔子做梦的四句儿歌?\",\n",
                "    model=\"gpt-3.5-turbo\",\n",
                "    temperature=0.1\n",
                ")"
            ]
        },
        {
            "cell_type": "code",
            "execution_count": 1,
            "id": "0c02e36b-97d1-4077-83e3-3867f74010f3",
            "metadata": {},
            "outputs": [],
            "source": [
                "from illufly.tools import tool, convert_to_openai_tool\n",
                "from illufly.llm import ChatOpenAI\n",
                "from illufly.io import log, alog\n",
                "import json\n",
                "\n",
                "@tool\n",
                "def get_current_weather(location: str):\n",
                "    \"\"\"获取城市的天气情况\"\"\"\n",
                "    return f\"{location}今天是晴天。 \""
            ]
        },
        {
            "cell_type": "markdown",
            "id": "577d4020-491f-49ed-af56-1ae3a8de157a",
            "metadata": {},
            "source": [
                "**直接返回回调函数信息**"
            ]
        },
        {
            "cell_type": "code",
            "execution_count": 2,
            "id": "3a7a049e-2f49-4a25-871a-3af27f5b48eb",
            "metadata": {},
            "outputs": [
                {
                    "name": "stdout",
                    "output_type": "stream",
                    "text": [
                        "[TOOLS_CALL_CHUNK] \u001b[32m{\"index\": 0, \"id\": \"call_rfv1K4hqz10DhyYDf5MwlUsr\", \"type\": \"function\", \"function\": {\"name\": \"get_current_weather\", \"arguments\": \"\"}}\u001b[0m\n",
                        "[TOOLS_CALL_CHUNK] \u001b[32m{\"index\": 0, \"id\": \"\", \"type\": \"function\", \"function\": {\"name\": \"\", \"arguments\": \"{\\n\"}}\u001b[0m\n",
                        "[TOOLS_CALL_CHUNK] \u001b[32m{\"index\": 0, \"id\": \"\", \"type\": \"function\", \"function\": {\"name\": \"\", \"arguments\": \" \"}}\u001b[0m\n",
                        "[TOOLS_CALL_CHUNK] \u001b[32m{\"index\": 0, \"id\": \"\", \"type\": \"function\", \"function\": {\"name\": \"\", \"arguments\": \" \\\"\"}}\u001b[0m\n",
                        "[TOOLS_CALL_CHUNK] \u001b[32m{\"index\": 0, \"id\": \"\", \"type\": \"function\", \"function\": {\"name\": \"\", \"arguments\": \"location\"}}\u001b[0m\n",
                        "[TOOLS_CALL_CHUNK] \u001b[32m{\"index\": 0, \"id\": \"\", \"type\": \"function\", \"function\": {\"name\": \"\", \"arguments\": \"\\\":\"}}\u001b[0m\n",
                        "[TOOLS_CALL_CHUNK] \u001b[32m{\"index\": 0, \"id\": \"\", \"type\": \"function\", \"function\": {\"name\": \"\", \"arguments\": \" \\\"\"}}\u001b[0m\n",
                        "[TOOLS_CALL_CHUNK] \u001b[32m{\"index\": 0, \"id\": \"\", \"type\": \"function\", \"function\": {\"name\": \"\", \"arguments\": \"广\"}}\u001b[0m\n",
                        "[TOOLS_CALL_CHUNK] \u001b[32m{\"index\": 0, \"id\": \"\", \"type\": \"function\", \"function\": {\"name\": \"\", \"arguments\": \"州\"}}\u001b[0m\n",
                        "[TOOLS_CALL_CHUNK] \u001b[32m{\"index\": 0, \"id\": \"\", \"type\": \"function\", \"function\": {\"name\": \"\", \"arguments\": \"\\\"\\n\"}}\u001b[0m\n",
                        "[TOOLS_CALL_CHUNK] \u001b[32m{\"index\": 0, \"id\": \"\", \"type\": \"function\", \"function\": {\"name\": \"\", \"arguments\": \"}\"}}\u001b[0m\n",
                        "[TOOLS_CALL_FINAL] \u001b[36m{\"0\": {\"index\": 0, \"id\": \"call_rfv1K4hqz10DhyYDf5MwlUsr\", \"type\": \"function\", \"function\": {\"name\": \"get_current_weather\", \"arguments\": \"{\\n  \\\"location\\\": \\\"广州\\\"\\n}\"}}}\u001b[0m\n",
                        "[END] \u001b[34m【内容由幻蝶AI生成，其观点仅代表创作者个人立场，可登录 http://www.illufly.com 查验其校验码 65086549】\u001b[0m\n"
                    ]
                },
                {
                    "data": {
                        "text/plain": [
                            "'{\"0\": {\"index\": 0, \"id\": \"call_rfv1K4hqz10DhyYDf5MwlUsr\", \"type\": \"function\", \"function\": {\"name\": \"get_current_weather\", \"arguments\": \"{\\\\n  \\\\\"location\\\\\": \\\\\"广州\\\\\"\\\\n}\"}}}'"
                        ]
                    },
                    "execution_count": 2,
                    "metadata": {},
                    "output_type": "execute_result"
                }
            ],
            "source": [
                "log(\n",
                "    ChatOpenAI(),\n",
                "    \"今天广州天气如何啊\",\n",
                "    model=\"gpt-3.5-turbo\",\n",
                "    tools=[convert_to_openai_tool(get_current_weather)]\n",
                ")"
            ]
        },
        {
            "cell_type": "markdown",
            "id": "39471837-d860-4ee3-a9b1-6e854c760e06",
            "metadata": {},
            "source": [
                "**在智能体实例中声明，直接返回回调函数信息**"
            ]
        },
        {
            "cell_type": "code",
            "execution_count": 3,
            "id": "09c7c3c2-d636-487f-9a92-5c803754c069",
            "metadata": {},
            "outputs": [
                {
                    "name": "stdout",
                    "output_type": "stream",
                    "text": [
                        "[TOOLS_CALL_CHUNK] \u001b[32m{\"index\": 0, \"id\": \"call_mYxz3nrunXHExKYtB7l8ZkZf\", \"type\": \"function\", \"function\": {\"name\": \"get_current_weather\", \"arguments\": \"\"}}\u001b[0m\n",
                        "[TOOLS_CALL_CHUNK] \u001b[32m{\"index\": 0, \"id\": \"\", \"type\": \"function\", \"function\": {\"name\": \"\", \"arguments\": \"{\\n\"}}\u001b[0m\n",
                        "[TOOLS_CALL_CHUNK] \u001b[32m{\"index\": 0, \"id\": \"\", \"type\": \"function\", \"function\": {\"name\": \"\", \"arguments\": \" \"}}\u001b[0m\n",
                        "[TOOLS_CALL_CHUNK] \u001b[32m{\"index\": 0, \"id\": \"\", \"type\": \"function\", \"function\": {\"name\": \"\", \"arguments\": \" \\\"\"}}\u001b[0m\n",
                        "[TOOLS_CALL_CHUNK] \u001b[32m{\"index\": 0, \"id\": \"\", \"type\": \"function\", \"function\": {\"name\": \"\", \"arguments\": \"location\"}}\u001b[0m\n",
                        "[TOOLS_CALL_CHUNK] \u001b[32m{\"index\": 0, \"id\": \"\", \"type\": \"function\", \"function\": {\"name\": \"\", \"arguments\": \"\\\":\"}}\u001b[0m\n",
                        "[TOOLS_CALL_CHUNK] \u001b[32m{\"index\": 0, \"id\": \"\", \"type\": \"function\", \"function\": {\"name\": \"\", \"arguments\": \" \\\"\"}}\u001b[0m\n",
                        "[TOOLS_CALL_CHUNK] \u001b[32m{\"index\": 0, \"id\": \"\", \"type\": \"function\", \"function\": {\"name\": \"\", \"arguments\": \"广\"}}\u001b[0m\n",
                        "[TOOLS_CALL_CHUNK] \u001b[32m{\"index\": 0, \"id\": \"\", \"type\": \"function\", \"function\": {\"name\": \"\", \"arguments\": \"州\"}}\u001b[0m\n",
                        "[TOOLS_CALL_CHUNK] \u001b[32m{\"index\": 0, \"id\": \"\", \"type\": \"function\", \"function\": {\"name\": \"\", \"arguments\": \"\\\"\\n\"}}\u001b[0m\n",
                        "[TOOLS_CALL_CHUNK] \u001b[32m{\"index\": 0, \"id\": \"\", \"type\": \"function\", \"function\": {\"name\": \"\", \"arguments\": \"}\"}}\u001b[0m\n",
                        "[TOOLS_CALL_FINAL] \u001b[36m{\"0\": {\"index\": 0, \"id\": \"call_mYxz3nrunXHExKYtB7l8ZkZf\", \"type\": \"function\", \"function\": {\"name\": \"get_current_weather\", \"arguments\": \"{\\n  \\\"location\\\": \\\"广州\\\"\\n}\"}}}\u001b[0m\n",
                        "[END] \u001b[34m【内容由幻蝶AI生成，其观点仅代表创作者个人立场，可登录 http://www.illufly.com 查验其校验码 65086549】\u001b[0m\n"
                    ]
                },
                {
                    "data": {
                        "text/plain": [
                            "'{\"0\": {\"index\": 0, \"id\": \"call_mYxz3nrunXHExKYtB7l8ZkZf\", \"type\": \"function\", \"function\": {\"name\": \"get_current_weather\", \"arguments\": \"{\\\\n  \\\\\"location\\\\\": \\\\\"广州\\\\\"\\\\n}\"}}}'"
                        ]
                    },
                    "execution_count": 3,
                    "metadata": {},
                    "output_type": "execute_result"
                }
            ],
            "source": [
                "openai = ChatOpenAI(tools=[convert_to_openai_tool(get_current_weather)])\n",
                "\n",
                "log(openai, \"今天广州天气如何啊\", model=\"gpt-3.5-turbo\")"
            ]
        },
        {
            "cell_type": "markdown",
            "id": "bf4054a4-8c99-4ed4-bc79-a71648051bca",
            "metadata": {},
            "source": [
                "**直接处理回调函数**"
            ]
        },
        {
            "cell_type": "code",
            "execution_count": 5,
            "id": "3c6024dd-05e1-4688-b62f-e379a3e89144",
            "metadata": {},
            "outputs": [
                {
                    "name": "stdout",
                    "output_type": "stream",
                    "text": [
                        "[TOOLS_CALL_CHUNK] \u001b[32m{\"index\": 0, \"id\": \"call_DqGG0QijToAiXue5HBu0M4MU\", \"type\": \"function\", \"function\": {\"name\": \"get_current_weather\", \"arguments\": \"\"}}\u001b[0m\n",
                        "[TOOLS_CALL_CHUNK] \u001b[32m{\"index\": 0, \"id\": \"\", \"type\": \"function\", \"function\": {\"name\": \"\", \"arguments\": \"{\\\"\"}}\u001b[0m\n",
                        "[TOOLS_CALL_CHUNK] \u001b[32m{\"index\": 0, \"id\": \"\", \"type\": \"function\", \"function\": {\"name\": \"\", \"arguments\": \"location\"}}\u001b[0m\n",
                        "[TOOLS_CALL_CHUNK] \u001b[32m{\"index\": 0, \"id\": \"\", \"type\": \"function\", \"function\": {\"name\": \"\", \"arguments\": \"\\\":\\\"\"}}\u001b[0m\n",
                        "[TOOLS_CALL_CHUNK] \u001b[32m{\"index\": 0, \"id\": \"\", \"type\": \"function\", \"function\": {\"name\": \"\", \"arguments\": \"广\"}}\u001b[0m\n",
                        "[TOOLS_CALL_CHUNK] \u001b[32m{\"index\": 0, \"id\": \"\", \"type\": \"function\", \"function\": {\"name\": \"\", \"arguments\": \"州\"}}\u001b[0m\n",
                        "[TOOLS_CALL_CHUNK] \u001b[32m{\"index\": 0, \"id\": \"\", \"type\": \"function\", \"function\": {\"name\": \"\", \"arguments\": \"\\\"}\"}}\u001b[0m\n",
                        "[TOOLS_CALL_FINAL] \u001b[36m{\"0\": {\"index\": 0, \"id\": \"call_DqGG0QijToAiXue5HBu0M4MU\", \"type\": \"function\", \"function\": {\"name\": \"get_current_weather\", \"arguments\": \"{\\\"location\\\":\\\"广州\\\"}\"}}}\u001b[0m\n",
                        "\u001b[32m广\u001b[0m\u001b[32m州\u001b[0m\u001b[32m今\u001b[0m\u001b[32m天\u001b[0m\u001b[32m是\u001b[0m\u001b[32m晴\u001b[0m\u001b[32m天\u001b[0m\u001b[32m。\u001b[0m\u001b[32m \u001b[0m\n",
                        "\n",
                        "\u001b[32m广\u001b[0m\u001b[32m州\u001b[0m\u001b[32m今\u001b[0m\u001b[32m天\u001b[0m\u001b[32m是\u001b[0m\u001b[32m晴\u001b[0m\u001b[32m天\u001b[0m\u001b[32m，\u001b[0m\u001b[32m出\u001b[0m\u001b[32m门\u001b[0m\u001b[32m可以\u001b[0m\u001b[32m准\u001b[0m\u001b[32m备\u001b[0m\u001b[32m太\u001b[0m\u001b[32m阳\u001b[0m\u001b[32m镜\u001b[0m\u001b[32m、\u001b[0m\u001b[32m防\u001b[0m\u001b[32m晒\u001b[0m\u001b[32m霜\u001b[0m\u001b[32m和\u001b[0m\u001b[32m帽\u001b[0m\u001b[32m子\u001b[0m\u001b[32m，\u001b[0m\u001b[32m还\u001b[0m\u001b[32m可以\u001b[0m\u001b[32m穿\u001b[0m\u001b[32m着\u001b[0m\u001b[32m轻\u001b[0m\u001b[32m便\u001b[0m\u001b[32m的\u001b[0m\u001b[32m衣\u001b[0m\u001b[32m物\u001b[0m\u001b[32m。\u001b[0m\u001b[32m祝\u001b[0m\u001b[32m您\u001b[0m\u001b[32m有\u001b[0m\u001b[32m一个\u001b[0m\u001b[32m愉\u001b[0m\u001b[32m快\u001b[0m\u001b[32m的\u001b[0m\u001b[32m一\u001b[0m\u001b[32m天\u001b[0m\u001b[32m！\u001b[0m\u001b[32m如果\u001b[0m\u001b[32m您\u001b[0m\u001b[32m需要\u001b[0m\u001b[32m更\u001b[0m\u001b[32m多\u001b[0m\u001b[32m建\u001b[0m\u001b[32m议\u001b[0m\u001b[32m或\u001b[0m\u001b[32m信息\u001b[0m\u001b[32m，请\u001b[0m\u001b[32m随\u001b[0m\u001b[32m时\u001b[0m\u001b[32m告\u001b[0m\u001b[32m诉\u001b[0m\u001b[32m我\u001b[0m\u001b[32m。\u001b[0m\n",
                        "\n",
                        "[END] \u001b[34m【内容由幻蝶AI生成，其观点仅代表创作者个人立场，可登录 http://www.illufly.com 查验其校验码 65086549】\u001b[0m\n"
                    ]
                },
                {
                    "data": {
                        "text/plain": [
                            "'{\"0\": {\"index\": 0, \"id\": \"call_DqGG0QijToAiXue5HBu0M4MU\", \"type\": \"function\", \"function\": {\"name\": \"get_current_weather\", \"arguments\": \"{\\\\\"location\\\\\":\\\\\"广州\\\\\"}\"}}}广州今天是晴天，出门可以准备太阳镜、防晒霜和帽子，还可以穿着轻便的衣物。祝您有一个愉快的一天！如果您需要更多建议或信息，请随时告诉我。'"
                        ]
                    },
                    "execution_count": 5,
                    "metadata": {},
                    "output_type": "execute_result"
                }
            ],
            "source": [
                "openai = ChatOpenAI(\n",
                "    tools=[convert_to_openai_tool(get_current_weather)],\n",
                "    toolkits=[get_current_weather]\n",
                ")\n",
                "\n",
                "log(openai, \"今天广州出门要准备什么？\", model=\"gpt-3.5-turbo\")"
            ]
        },
        {
            "cell_type": "markdown",
            "id": "57373ba5-19d6-4a9a-a744-3b485a272164",
            "metadata": {},
            "source": [
                "### 智谱AI"
            ]
        },
        {
            "cell_type": "code",
            "execution_count": 7,
            "id": "5312c9e9-9ab8-4a48-bfc8-c75fcb01631c",
            "metadata": {},
            "outputs": [
                {
                    "name": "stdout",
                    "output_type": "stream",
                    "text": [
                        "toolkits []\n",
                        "\u001b[32m小\u001b[0m\u001b[32m兔子\u001b[0m\u001b[32m，\u001b[0m\u001b[32m梦\u001b[0m\u001b[32m儿\u001b[0m\u001b[32m飞\u001b[0m\u001b[32m，\n",
                        "草\u001b[0m\u001b[32m丛\u001b[0m\u001b[32m中\u001b[0m\u001b[32m，\u001b[0m\u001b[32m欢乐\u001b[0m\u001b[32m追\u001b[0m\u001b[32m。\n",
                        "彩虹\u001b[0m\u001b[32m桥\u001b[0m\u001b[32m，\u001b[0m\u001b[32m月光\u001b[0m\u001b[32m下\u001b[0m\u001b[32m，\n",
                        "梦\u001b[0m\u001b[32m乡\u001b[0m\u001b[32m里\u001b[0m\u001b[32m，\u001b[0m\u001b[32m笑\u001b[0m\u001b[32m颜\u001b[0m\u001b[32m开\u001b[0m\u001b[32m。\u001b[0m\n",
                        "\n"
                    ]
                },
                {
                    "data": {
                        "text/plain": [
                            "'小兔子，梦儿飞，\\n草丛中，欢乐追。\\n彩虹桥，月光下，\\n梦乡里，笑颜开。'"
                        ]
                    },
                    "execution_count": 7,
                    "metadata": {},
                    "output_type": "execute_result"
                }
            ],
            "source": [
                "from illufly.llm import ChatZhipu\n",
                "from illufly.io import log, alog\n",
                "\n",
                "zhipu = ChatZhipu()\n",
                "log(\n",
                "    zhipu,\n",
                "    \"你能帮我写一首关于兔子做梦的四句儿歌?\",\n",
                "    model=\"glm-4-flash\"\n",
                ")"
            ]
        },
        {
            "cell_type": "code",
            "execution_count": 10,
            "id": "32aa8a2d-bf55-4b4e-9962-8125e56b7649",
            "metadata": {},
            "outputs": [
                {
                    "name": "stdout",
                    "output_type": "stream",
                    "text": [
                        "\u001b[32m梦里\u001b[0m\u001b[32m花开\u001b[0m\u001b[32m兔子\u001b[0m\u001b[32m跳\u001b[0m\u001b[32m，\n",
                        "夜\u001b[0m\u001b[32m色\u001b[0m\u001b[32m温柔\u001b[0m\u001b[32m入\u001b[0m\u001b[32m梦\u001b[0m\u001b[32m遥\u001b[0m\u001b[32m。\n",
                        "兔子\u001b[0m\u001b[32m轻轻\u001b[0m\u001b[32m翻\u001b[0m\u001b[32m跟\u001b[0m\u001b[32m头\u001b[0m\u001b[32m，\n",
                        "追逐\u001b[0m\u001b[32m彩虹\u001b[0m\u001b[32m彩\u001b[0m\u001b[32m霞\u001b[0m\u001b[32m飘\u001b[0m\u001b[32m。\n",
                        "梦境\u001b[0m\u001b[32m深处\u001b[0m\u001b[32m歌声\u001b[0m\u001b[32m起\u001b[0m\u001b[32m，\n",
                        "阳光\u001b[0m\u001b[32m透过\u001b[0m\u001b[32m窗\u001b[0m\u001b[32m棂\u001b[0m\u001b[32m照\u001b[0m\u001b[32m。\n",
                        "醒来\u001b[0m\u001b[32m一笑\u001b[0m\u001b[32m梦中\u001b[0m\u001b[32m事\u001b[0m\u001b[32m，\n",
                        "快乐\u001b[0m\u001b[32m兔子\u001b[0m\u001b[32m笑\u001b[0m\u001b[32m哈哈\u001b[0m\u001b[32m。\u001b[0m\n",
                        "\n"
                    ]
                },
                {
                    "data": {
                        "text/plain": [
                            "'梦里花开兔子跳，\\n夜色温柔入梦遥。\\n兔子轻轻翻跟头，\\n追逐彩虹彩霞飘。\\n梦境深处歌声起，\\n阳光透过窗棂照。\\n醒来一笑梦中事，\\n快乐兔子笑哈哈。'"
                        ]
                    },
                    "execution_count": 10,
                    "metadata": {},
                    "output_type": "execute_result"
                }
            ],
            "source": [
                "await alog(zhipu, \"能改为6句？\")"
            ]
        },
        {
            "cell_type": "code",
            "execution_count": 11,
            "id": "4ed261db-32e1-4a14-8dc4-80fa64bb7251",
            "metadata": {},
            "outputs": [
                {
                    "data": {
                        "text/plain": [
                            "[{'role': 'user', 'content': '你能帮我写一首关于兔子做梦的四句儿歌?'},\n",
                            " {'role': 'assistant', 'content': '梦里花开兔儿跳，\\n绿野仙踪笑声飘。\\n兔子梦乡寻奇妙，\\n晨光初照醒神摇。'},\n",
                            " {'role': 'user', 'content': '能改为6句？'},\n",
                            " {'role': 'assistant',\n",
                            "  'content': '梦里花开兔子跳，\\n夜色温柔入梦遥。\\n兔子轻轻翻跟头，\\n追逐彩虹彩霞飘。\\n梦境深处歌声起，\\n阳光透过窗棂照。\\n醒来一笑梦中事，\\n快乐兔子笑哈哈。'}]"
                        ]
                    },
                    "execution_count": 11,
                    "metadata": {},
                    "output_type": "execute_result"
                }
            ],
            "source": [
                "zhipu.memory"
            ]
        },
        {
            "cell_type": "code",
            "execution_count": 1,
            "id": "fed97be4-2b81-4b8d-ac2c-4877219f73ce",
            "metadata": {},
            "outputs": [
                {
                    "name": "stdout",
                    "output_type": "stream",
                    "text": [
                        "toolkits []\n",
                        "[TOOLS_CALL_CHUNK] \u001b[32m{\"index\": 0, \"id\": \"call_202409120948000561609d8a264011\", \"type\": \"function\", \"function\": {\"name\": \"get_current_weather\", \"arguments\": \"{\\\"location\\\":\\\"Guangzhou\\\"}\"}}\u001b[0m\n",
                        "[TOOLS_CALL_FINAL] \u001b[36m{\"0\": {\"index\": 0, \"id\": \"call_202409120948000561609d8a264011\", \"type\": \"function\", \"function\": {\"name\": \"get_current_weather\", \"arguments\": \"{\\\"location\\\":\\\"Guangzhou\\\"}\"}}}\u001b[0m\n"
                    ]
                },
                {
                    "data": {
                        "text/plain": [
                            "'{\"0\": {\"index\": 0, \"id\": \"call_202409120948000561609d8a264011\", \"type\": \"function\", \"function\": {\"name\": \"get_current_weather\", \"arguments\": \"{\\\\\"location\\\\\":\\\\\"Guangzhou\\\\\"}\"}}}'"
                        ]
                    },
                    "execution_count": 1,
                    "metadata": {},
                    "output_type": "execute_result"
                }
            ],
            "source": [
                "from illufly.tools import tool, convert_to_openai_tool\n",
                "from illufly.llm import ChatZhipu\n",
                "from illufly.io import alog\n",
                "import json\n",
                "\n",
                "@tool\n",
                "def get_current_weather(location: str):\n",
                "    \"\"\"获取城市的天气情况\"\"\"\n",
                "    return f\"{location}今天是晴天。 \"\n",
                "\n",
                "await alog(\n",
                "    ChatZhipu(),\n",
                "    \"今天广州天气如何啊\",\n",
                "    tools=[convert_to_openai_tool(get_current_weather)],\n",
                "    model=\"glm-4\"\n",
                ")"
            ]
        },
        {
            "cell_type": "code",
            "execution_count": 3,
            "id": "8a55177d-b973-46bc-81be-96b1e5e87cbd",
            "metadata": {},
            "outputs": [
                {
                    "name": "stdout",
                    "output_type": "stream",
                    "text": [
                        "toolkits [StructuredTool(name='get_current_weather', description='获取城市的天气情况', args_schema=<class 'pydantic.main.get_current_weatherSchema'>, func=<function get_current_weather at 0x10834b6d0>)]\n",
                        "toolkits [StructuredTool(name='get_current_weather', description='获取城市的天气情况', args_schema=<class 'pydantic.main.get_current_weatherSchema'>, func=<function get_current_weather at 0x10834b6d0>)]\n",
                        "new_memory [{'role': 'user', 'content': '广州今天出门要带雨具吗？'}]\n",
                        "[TOOLS_CALL_CHUNK] \u001b[32m{\"index\": 0, \"id\": \"call_20240912094904b02d0c9035ab4c93\", \"type\": \"function\", \"function\": {\"name\": \"get_current_weather\", \"arguments\": \"{\\\"location\\\":\\\"Guangzhou\\\"}\"}}\u001b[0m\n",
                        "[TOOLS_CALL_FINAL] \u001b[36m{\"0\": {\"index\": 0, \"id\": \"call_20240912094904b02d0c9035ab4c93\", \"type\": \"function\", \"function\": {\"name\": \"get_current_weather\", \"arguments\": \"{\\\"location\\\":\\\"Guangzhou\\\"}\"}}}\u001b[0m\n",
                        "tool {'index': 0, 'id': 'call_20240912094904b02d0c9035ab4c93', 'type': 'function', 'function': {'name': 'get_current_weather', 'arguments': '{\"location\":\"Guangzhou\"}'}}\n",
                        "\u001b[32mG\u001b[0m\u001b[32mu\u001b[0m\u001b[32ma\u001b[0m\u001b[32mn\u001b[0m\u001b[32mg\u001b[0m\u001b[32mz\u001b[0m\u001b[32mh\u001b[0m\u001b[32mo\u001b[0m\u001b[32mu\u001b[0m\u001b[32m今\u001b[0m\u001b[32m天\u001b[0m\u001b[32m是\u001b[0m\u001b[32m晴\u001b[0m\u001b[32m天\u001b[0m\u001b[32m。\u001b[0m\u001b[32m \u001b[0mnew_memory [{'role': 'user', 'content': '广州今天出门要带雨具吗？'}, {'role': 'assistant', 'content': '', 'tool_calls': [{'index': 0, 'id': 'call_20240912094904b02d0c9035ab4c93', 'type': 'function', 'function': {'name': 'get_current_weather', 'arguments': '{\"location\":\"Guangzhou\"}'}}]}, {'tool_call_id': 'call_20240912094904b02d0c9035ab4c93', 'role': 'tool', 'name': 'get_current_weather', 'content': 'Guangzhou今天是晴天。 '}]\n",
                        "\n",
                        "\n",
                        "\u001b[32m根据\u001b[0m\u001b[32mAPI\u001b[0m\u001b[32m调用\u001b[0m\u001b[32m结果\u001b[0m\u001b[32m，\u001b[0m\u001b[32mGu\u001b[0m\u001b[32mang\u001b[0m\u001b[32mzhou\u001b[0m\u001b[32m今天是\u001b[0m\u001b[32m晴天\u001b[0m\u001b[32m，\u001b[0m\u001b[32m因此\u001b[0m\u001b[32m不需要\u001b[0m\u001b[32m带\u001b[0m\u001b[32m雨\u001b[0m\u001b[32m具\u001b[0m\u001b[32m。\u001b[0m\n",
                        "\n",
                        "[END] \u001b[34m【内容由幻蝶AI生成，其观点仅代表创作者个人立场，可登录 http://www.illufly.com 查验其校验码 63819228】\u001b[0m\n"
                    ]
                },
                {
                    "data": {
                        "text/plain": [
                            "'{\"0\": {\"index\": 0, \"id\": \"call_20240912094904b02d0c9035ab4c93\", \"type\": \"function\", \"function\": {\"name\": \"get_current_weather\", \"arguments\": \"{\\\\\"location\\\\\":\\\\\"Guangzhou\\\\\"}\"}}}根据API调用结果，Guangzhou今天是晴天，因此不需要带雨具。'"
                        ]
                    },
                    "execution_count": 3,
                    "metadata": {},
                    "output_type": "execute_result"
                }
            ],
            "source": [
                "await alog(\n",
                "    ChatZhipu(),\n",
                "    \"广州今天出门要带雨具吗？\",\n",
                "    tools=[convert_to_openai_tool(get_current_weather)],\n",
                "    toolkits=[get_current_weather],\n",
                "    model=\"glm-4\"\n",
                ")"
            ]
        },
        {
            "cell_type": "markdown",
            "id": "8e43ca89-6ded-487b-b619-32eb11d653e9",
            "metadata": {},
            "source": [
                "### 通义千问"
            ]
        },
        {
            "cell_type": "code",
            "execution_count": 1,
            "id": "75628fec-7952-42b9-87d9-f8c54e04bdec",
            "metadata": {},
            "outputs": [
                {
                    "name": "stdout",
                    "output_type": "stream",
                    "text": [
                        "toolkits []\n",
                        "\u001b[32m当然\u001b[0m\u001b[32m可以\u001b[0m\u001b[32m！\u001b[0m\u001b[32m以下是一首关于兔子\u001b[0m\u001b[32m做梦的四句儿歌：\n",
                        "\n",
                        "小\u001b[0m\u001b[32m兔子，蹦蹦跳，\n",
                        "梦见自己\u001b[0m\u001b[32m变成花。\n",
                        "在花园里玩耍，\n",
                        "\u001b[0m\u001b[32m和蝴蝶、蜜蜂一起笑。\n",
                        "\n",
                        "希望\u001b[0m\u001b[32m这首儿歌能够满足您的需求。\u001b[0m\u001b[32m如果您需要进一步的帮助或有任何其他问题\u001b[0m\u001b[32m，请随时告诉我。\u001b[0m\u001b[32m\u001b[0m\n",
                        "\n"
                    ]
                },
                {
                    "data": {
                        "text/plain": [
                            "'当然可以！以下是一首关于兔子做梦的四句儿歌：\\n\\n小兔子，蹦蹦跳，\\n梦见自己变成花。\\n在花园里玩耍，\\n和蝴蝶、蜜蜂一起笑。\\n\\n希望这首儿歌能够满足您的需求。如果您需要进一步的帮助或有任何其他问题，请随时告诉我。'"
                        ]
                    },
                    "execution_count": 1,
                    "metadata": {},
                    "output_type": "execute_result"
                }
            ],
            "source": [
                "from illufly.llm import ChatQwen\n",
                "from illufly.io import log\n",
                "\n",
                "qwen = ChatQwen()\n",
                "log(\n",
                "    qwen,\n",
                "    [{\"role\": \"user\", \"content\": \"你能帮我写一首关于兔子做梦的四句儿歌?\"}],\n",
                "    model=\"qwen2-1.5b-instruct\"\n",
                ")"
            ]
        },
        {
            "cell_type": "code",
            "execution_count": 2,
            "id": "dfb73248-a53e-4579-87d0-677a49072ae7",
            "metadata": {},
            "outputs": [
                {
                    "data": {
                        "text/plain": [
                            "[{'role': 'user', 'content': '你能帮我写一首关于兔子做梦的四句儿歌?'},\n",
                            " {'role': 'assistant',\n",
                            "  'content': '当然可以！以下是我为你创作的一首关于兔子做梦的儿歌：\\n\\n小兔子，蹦蹦跳，\\n梦里遇见彩虹桥。\\n桥上有个大苹果，\\n小兔子吃掉它。\\n\\n希望这首儿歌能够给你带来快乐和启示。如果你需要更多帮助，请随时告诉我！'}]"
                        ]
                    },
                    "execution_count": 2,
                    "metadata": {},
                    "output_type": "execute_result"
                }
            ],
            "source": [
                "qwen.memory"
            ]
        },
        {
            "cell_type": "code",
            "execution_count": 5,
            "id": "f565bd03-3df6-4d47-85ec-2e89ca96e618",
            "metadata": {},
            "outputs": [
                {
                    "data": {
                        "text/plain": [
                            "{'CHAT_QWEN': {'max_workers': 5, 'used_workers': 0, 'waiting_threads': 0},\n",
                            " 'CHAT_ZHIPU': {'max_workers': 5, 'used_workers': 0, 'waiting_threads': 0}}"
                        ]
                    },
                    "execution_count": 5,
                    "metadata": {},
                    "output_type": "execute_result"
                }
            ],
            "source": [
                "qwen.monitor_executors()"
            ]
        },
        {
            "cell_type": "code",
            "execution_count": 4,
            "id": "4b2fef77-8fb1-43ce-9edf-8753158f21e1",
            "metadata": {},
            "outputs": [],
            "source": [
                "from illufly.tools import tool, convert_to_openai_tool\n",
                "from illufly.llm import ChatQwen\n",
                "from illufly.io import log\n",
                "import json\n",
                "\n",
                "@tool\n",
                "def get_current_weather(location: str=None):\n",
                "    \"\"\"获取城市的天气情况\"\"\"\n",
                "    return f\"{location}今天是晴天。 \""
            ]
        },
        {
            "cell_type": "code",
            "execution_count": 5,
            "id": "6c2c7aa4-df97-4176-9a1c-1c67ca522c05",
            "metadata": {},
            "outputs": [
                {
                    "name": "stdout",
                    "output_type": "stream",
                    "text": [
                        "toolkits []\n",
                        "[TOOLS_CALL_CHUNK] \u001b[32m{\"index\": 0, \"id\": \"call_cb7e6b9789bc4b0e8f468b\", \"type\": \"function\", \"function\": {\"name\": \"get_current_weather\", \"arguments\": \"\"}}\u001b[0m\n",
                        "[TOOLS_CALL_CHUNK] \u001b[32m{\"index\": 0, \"id\": \"\", \"type\": \"function\", \"function\": {\"arguments\": \"{\\\"location\\\": \\\"\"}}\u001b[0m\n",
                        "[TOOLS_CALL_CHUNK] \u001b[32m{\"index\": 0, \"id\": \"\", \"type\": \"function\", \"function\": {\"arguments\": \"广州\\\"}\"}}\u001b[0m\n",
                        "[TOOLS_CALL_CHUNK] \u001b[32m{\"index\": 0, \"id\": \"\", \"type\": \"function\", \"function\": {}}\u001b[0m\n",
                        "[TOOLS_CALL_FINAL] \u001b[36m{\"0\": {\"index\": 0, \"id\": \"call_cb7e6b9789bc4b0e8f468b\", \"type\": \"function\", \"function\": {\"name\": \"get_current_weather\", \"arguments\": \"{\\\"location\\\": \\\"广州\\\"}\"}}}\u001b[0m\n"
                    ]
                },
                {
                    "data": {
                        "text/plain": [
                            "'{\"0\": {\"index\": 0, \"id\": \"call_cb7e6b9789bc4b0e8f468b\", \"type\": \"function\", \"function\": {\"name\": \"get_current_weather\", \"arguments\": \"{\\\\\"location\\\\\": \\\\\"广州\\\\\"}\"}}}'"
                        ]
                    },
                    "execution_count": 5,
                    "metadata": {},
                    "output_type": "execute_result"
                }
            ],
            "source": [
                "log(ChatQwen(), \"今天广州天气如何啊\", tools=[convert_to_openai_tool(get_current_weather)])\n",
                "# log(ChatQwen(), \"今天广州天气如何啊\", tools=[convert_to_openai_tool(get_current_weather)], toolkits=[get_current_weather])"
            ]
        },
        {
            "cell_type": "code",
            "execution_count": 6,
            "id": "a454b4fe-c789-4a7f-962c-c11a71a91674",
            "metadata": {},
            "outputs": [
                {
                    "name": "stdout",
                    "output_type": "stream",
                    "text": [
                        "toolkits [StructuredTool(name='get_current_weather', description='获取城市的天气情况', args_schema=<class 'pydantic.main.get_current_weatherSchema'>, func=<function get_current_weather at 0x11648b880>)]\n",
                        "toolkits [StructuredTool(name='get_current_weather', description='获取城市的天气情况', args_schema=<class 'pydantic.main.get_current_weatherSchema'>, func=<function get_current_weather at 0x11648b880>)]\n",
                        "new_memory [{'role': 'user', 'content': '今天广州天气如何啊'}]\n",
                        "[TOOLS_CALL_CHUNK] \u001b[32m{\"index\": 0, \"id\": \"call_050ed6bbabc9464fb1e182\", \"type\": \"function\", \"function\": {\"name\": \"get_current_weather\", \"arguments\": \"\"}}\u001b[0m\n",
                        "[TOOLS_CALL_CHUNK] \u001b[32m{\"index\": 0, \"id\": \"\", \"type\": \"function\", \"function\": {\"arguments\": \"{\\\"location\\\": \\\"\"}}\u001b[0m\n",
                        "[TOOLS_CALL_CHUNK] \u001b[32m{\"index\": 0, \"id\": \"\", \"type\": \"function\", \"function\": {\"arguments\": \"广州\\\"}\"}}\u001b[0m\n",
                        "[TOOLS_CALL_CHUNK] \u001b[32m{\"index\": 0, \"id\": \"\", \"type\": \"function\", \"function\": {}}\u001b[0m\n",
                        "[TOOLS_CALL_FINAL] \u001b[36m{\"0\": {\"index\": 0, \"id\": \"call_050ed6bbabc9464fb1e182\", \"type\": \"function\", \"function\": {\"name\": \"get_current_weather\", \"arguments\": \"{\\\"location\\\": \\\"广州\\\"}\"}}}\u001b[0m\n",
                        "tool {'index': 0, 'id': 'call_050ed6bbabc9464fb1e182', 'type': 'function', 'function': {'name': 'get_current_weather', 'arguments': '{\"location\": \"广州\"}'}}\n",
                        "\u001b[32m广\u001b[0m\u001b[32m州\u001b[0m\u001b[32m今\u001b[0m\u001b[32m天\u001b[0m\u001b[32m是\u001b[0m\u001b[32m晴\u001b[0m\u001b[32m天\u001b[0m\u001b[32m。\u001b[0m\u001b[32m \u001b[0mnew_memory [{'role': 'user', 'content': '今天广州天气如何啊'}, {'role': 'assistant', 'content': '', 'tool_calls': [{'index': 0, 'id': 'call_050ed6bbabc9464fb1e182', 'type': 'function', 'function': {'name': 'get_current_weather', 'arguments': '{\"location\": \"广州\"}'}}]}, {'tool_call_id': 'call_050ed6bbabc9464fb1e182', 'role': 'tool', 'name': 'get_current_weather', 'content': '广州今天是晴天。 '}]\n",
                        "\n",
                        "\n",
                        "\u001b[32m广\u001b[0m\u001b[32m州今天是晴朗\u001b[0m\u001b[32m的好天气。\u001b[0m\u001b[32m\u001b[0m\n",
                        "\n",
                        "[END] \u001b[34m【内容由幻蝶AI生成，其观点仅代表创作者个人立场，可登录 http://www.illufly.com 查验其校验码 99597605】\u001b[0m\n"
                    ]
                },
                {
                    "data": {
                        "text/plain": [
                            "'{\"0\": {\"index\": 0, \"id\": \"call_050ed6bbabc9464fb1e182\", \"type\": \"function\", \"function\": {\"name\": \"get_current_weather\", \"arguments\": \"{\\\\\"location\\\\\": \\\\\"广州\\\\\"}\"}}}广州今天是晴朗的好天气。'"
                        ]
                    },
                    "execution_count": 6,
                    "metadata": {},
                    "output_type": "execute_result"
                }
            ],
            "source": [
                "qwen = ChatQwen(\n",
                "    tools=[convert_to_openai_tool(get_current_weather)],\n",
                "    toolkits=[get_current_weather]\n",
                ")\n",
                "\n",
                "log(qwen, \"今天广州天气如何啊\")"
            ]
        },
        {
            "cell_type": "markdown",
            "id": "4b9d80d9-b2f7-4f3d-856b-f2280b534484",
            "metadata": {},
            "source": [
                "## Fake"
            ]
        },
        {
            "cell_type": "markdown",
            "id": "32fc77aa-8e40-4d1d-b124-37c517d8fdf6",
            "metadata": {},
            "source": [
                "### fake_llm: 模拟大模型调用过程\n",
                "\n",
                "这可以观察提示语等内部结构。"
            ]
        },
        {
            "cell_type": "code",
            "execution_count": 5,
            "id": "433e3074-d1ed-4912-919a-5c4b55fb7b28",
            "metadata": {},
            "outputs": [
                {
                    "name": "stdout",
                    "output_type": "stream",
                    "text": [
                        "[INFO] \u001b[34muser: 你能帮我写一首关于兔子做梦的四句儿歌?\u001b[0m\n",
                        "\u001b[32m这\u001b[0m\u001b[32m是\u001b[0m\u001b[32m一个\u001b[0m\u001b[32m模拟\u001b[0m\u001b[32m调用\u001b[0m\u001b[32m!\u001b[0m\n",
                        "\n"
                    ]
                },
                {
                    "data": {
                        "text/plain": [
                            "'这是一个模拟调用!'"
                        ]
                    },
                    "execution_count": 5,
                    "metadata": {},
                    "output_type": "execute_result"
                }
            ],
            "source": [
                "from illufly.llm import FakeLLM\n",
                "from illufly.io import log\n",
                "\n",
                "log(\n",
                "    FakeLLM(),\n",
                "    [\n",
                "        {\"role\": \"system\", \"content\": \"你是一个写作能手。\"},\n",
                "        {\"role\": \"user\", \"content\": \"你能帮我写一首关于兔子做梦的四句儿歌?\"}\n",
                "    ],\n",
                "    model=\"qwen2-1.5b-instruct\"\n",
                ")"
            ]
        },
        {
            "cell_type": "code",
            "execution_count": 6,
            "id": "699bd017-f5f2-48eb-82ff-4c47dfdc595f",
            "metadata": {},
            "outputs": [
                {
                    "data": {
                        "text/plain": [
                            "{'base_llm': {'max_workers': 5, 'used_workers': 1, 'waiting_threads': 0}}"
                        ]
                    },
                    "execution_count": 6,
                    "metadata": {},
                    "output_type": "execute_result"
                }
            ],
            "source": [
                "FakeLLM.monitor_executors()"
            ]
        }
    ],
    "metadata": {
        "kernelspec": {
            "display_name": "illufly-same-ipykernel",
            "language": "python",
            "name": "illufly-same-ipykernel"
        },
        "language_info": {
            "codemirror_mode": {
                "name": "ipython",
                "version": 3
            },
            "file_extension": ".py",
            "mimetype": "text/x-python",
            "name": "python",
            "nbconvert_exporter": "python",
            "pygments_lexer": "ipython3",
            "version": "3.10.0"
        }
    },
    "nbformat": 4,
    "nbformat_minor": 5
}