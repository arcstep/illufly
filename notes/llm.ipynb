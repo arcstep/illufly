{
 "cells": [
  {
   "cell_type": "markdown",
   "id": "532d485f-8069-427a-9934-d74b71f80be1",
   "metadata": {},
   "source": [
    "# 重新定义大模型和智能体"
   ]
  },
  {
   "cell_type": "markdown",
   "id": "b6603c70-4837-4892-8e60-47ccef9af3c4",
   "metadata": {},
   "source": [
    "## IO：基于标准输入输出的流式调用"
   ]
  },
  {
   "cell_type": "code",
   "execution_count": 1,
   "id": "62c46544-1fe5-4508-b799-a42255799c39",
   "metadata": {},
   "outputs": [],
   "source": [
    "from textlong.io import TextBlock, stream_log"
   ]
  },
  {
   "cell_type": "code",
   "execution_count": 2,
   "id": "c14b271f-82fc-435d-a1bb-da1b93ea0fc8",
   "metadata": {},
   "outputs": [
    {
     "name": "stdout",
     "output_type": "stream",
     "text": [
      ">-[INFO]>> \u001b[34mhello textlong\u001b[0m\n",
      "\u001b[32mTextlong\u001b[0m\u001b[32m很\u001b[0m\u001b[32m棒！\u001b[0m\n",
      "\n"
     ]
    },
    {
     "data": {
      "text/plain": [
       "{'output': 'Textlong很棒！', 'tools_call': {}}"
      ]
     },
     "execution_count": 2,
     "metadata": {},
     "output_type": "execute_result"
    }
   ],
   "source": [
    "def hello():\n",
    "    yield TextBlock(\"info\", \"hello textlong\")\n",
    "    yield TextBlock(\"chunk\", \"Textlong\")\n",
    "    yield TextBlock(\"chunk\", \"很\")\n",
    "    yield TextBlock(\"chunk\", \"棒！\")\n",
    "\n",
    "stream_log(hello)"
   ]
  },
  {
   "cell_type": "markdown",
   "id": "8eb5edae-1f35-4e4c-b1e4-1fb250f2ac75",
   "metadata": {},
   "source": [
    "## 调用大模型"
   ]
  },
  {
   "cell_type": "markdown",
   "id": "bcacf5c5-7262-447e-aee4-0cafd8319eee",
   "metadata": {},
   "source": [
    "### 大模型能力：通义千问"
   ]
  },
  {
   "cell_type": "code",
   "execution_count": 3,
   "id": "ec98a4d7-91e9-41fe-8fd2-a263997e8bdf",
   "metadata": {},
   "outputs": [
    {
     "name": "stdout",
     "output_type": "stream",
     "text": [
      "\u001b[32m小\u001b[0m\u001b[32m兔子\u001b[0m\u001b[32m，\u001b[0m\u001b[32m睡梦乡，  \n",
      "\u001b[0m\u001b[32m梦见自己穿花裳。  \n",
      "耳朵\u001b[0m\u001b[32m长，蹦蹦跳，  \n",
      "月\u001b[0m\u001b[32m光下，梦儿飘。\u001b[0m\u001b[32m\u001b[0m\n",
      "\n"
     ]
    },
    {
     "data": {
      "text/plain": [
       "{'output': '小兔子，睡梦乡，  \\n梦见自己穿花裳。  \\n耳朵长，蹦蹦跳，  \\n月光下，梦儿飘。', 'tools_call': {}}"
      ]
     },
     "execution_count": 3,
     "metadata": {},
     "output_type": "execute_result"
    }
   ],
   "source": [
    "from textlong.llm.dashscope import qwen\n",
    "from textlong.io import stream_log\n",
    "\n",
    "stream_log(\n",
    "    qwen,\n",
    "    [{\"role\": \"user\", \"content\": \"你能帮我写一首关于兔子做梦的四句儿歌?\"}],\n",
    "    model=\"qwen2-1.5b-instruct\"\n",
    ")"
   ]
  },
  {
   "cell_type": "markdown",
   "id": "bf1ab1d3-09d7-44da-94dc-264851b31963",
   "metadata": {},
   "source": [
    "### fake_llm: 模拟大模型调用过程\n",
    "\n",
    "这可以观察提示语等内部结构。"
   ]
  },
  {
   "cell_type": "code",
   "execution_count": 4,
   "id": "8fec6aca-48c5-4006-9505-14bdfe208144",
   "metadata": {},
   "outputs": [
    {
     "name": "stdout",
     "output_type": "stream",
     "text": [
      ">-[INFO]>> \u001b[34msystem: 你是一个写作能手。\u001b[0m\n",
      ">-[INFO]>> \u001b[34muser: 你能帮我写一首关于兔子做梦的四句儿歌?\u001b[0m\n",
      "\u001b[32m这\u001b[0m\u001b[32m是\u001b[0m\u001b[32m一个\u001b[0m\u001b[32m模拟\u001b[0m\u001b[32m调用\u001b[0m\u001b[32m!\u001b[0m\n",
      "\n"
     ]
    },
    {
     "data": {
      "text/plain": [
       "{'output': '这是一个模拟调用!', 'tools_call': {}}"
      ]
     },
     "execution_count": 4,
     "metadata": {},
     "output_type": "execute_result"
    }
   ],
   "source": [
    "from textlong.llm import fake_llm\n",
    "from textlong.io import stream_log\n",
    "\n",
    "stream_log(\n",
    "    fake_llm,\n",
    "    [\n",
    "        {\"role\": \"system\", \"content\": \"你是一个写作能手。\"},\n",
    "        {\"role\": \"user\", \"content\": \"你能帮我写一首关于兔子做梦的四句儿歌?\"}\n",
    "    ],\n",
    "    model=\"qwen2-1.5b-instruct\"\n",
    ")"
   ]
  },
  {
   "cell_type": "markdown",
   "id": "daebcb1f-592d-48ec-aa99-f11b3efb377a",
   "metadata": {},
   "source": [
    "### 多轮对话"
   ]
  },
  {
   "cell_type": "markdown",
   "id": "8790399f-d4b4-4dd0-9559-136224b2c7cf",
   "metadata": {},
   "source": [
    "使用`messages`管理多轮对话的记忆。<br>\n",
    "你也可以在`chat`函数中通过参数`k`限制希望保留的对话轮次，但这不影响`messages`记录完整的对话过程。"
   ]
  },
  {
   "cell_type": "code",
   "execution_count": 1,
   "id": "db74091f-7698-4d62-9aee-68f36e2c0a7b",
   "metadata": {},
   "outputs": [],
   "source": [
    "from textlong.llm import chat, fake_llm\n",
    "from textlong.llm.dashscope import qwen\n",
    "messages = []"
   ]
  },
  {
   "cell_type": "code",
   "execution_count": 2,
   "id": "40386d26-92fc-4606-a9fd-092517ceaacf",
   "metadata": {},
   "outputs": [
    {
     "name": "stdout",
     "output_type": "stream",
     "text": [
      "\u001b[32m小\u001b[0m\u001b[32m兔子\u001b[0m\u001b[32m，\u001b[0m\u001b[32m睡梦乡，  \n",
      "\u001b[0m\u001b[32m梦见自己穿花裳。  \n",
      "耳朵\u001b[0m\u001b[32m长，尾巴摇，  \n",
      "月亮船上\u001b[0m\u001b[32m蹦蹦跳。\u001b[0m\u001b[32m\u001b[0m\n",
      "\n"
     ]
    },
    {
     "data": {
      "text/plain": [
       "'小兔子，睡梦乡，  \\n梦见自己穿花裳。  \\n耳朵长，尾巴摇，  \\n月亮船上蹦蹦跳。'"
      ]
     },
     "execution_count": 2,
     "metadata": {},
     "output_type": "execute_result"
    }
   ],
   "source": [
    "chat(qwen, \"你能帮我写一首关于兔子做梦的四句儿歌?\", messages)"
   ]
  },
  {
   "cell_type": "code",
   "execution_count": 3,
   "id": "5c9cf574-d7b6-4b16-b774-542c3901a95a",
   "metadata": {},
   "outputs": [
    {
     "name": "stdout",
     "output_type": "stream",
     "text": [
      "\u001b[32m小\u001b[0m\u001b[32m羊\u001b[0m\u001b[32m羔\u001b[0m\u001b[32m，梦中游，\u001b[0m\u001b[32m  \n",
      "云朵床，轻轻悠。\u001b[0m\u001b[32m  \n",
      "羊毛软，咩咩笑，\u001b[0m\u001b[32m  \n",
      "星空下，舞步巧。\u001b[0m\u001b[32m\u001b[0m\n",
      "\n"
     ]
    },
    {
     "data": {
      "text/plain": [
       "'小羊羔，梦中游，  \\n云朵床，轻轻悠。  \\n羊毛软，咩咩笑，  \\n星空下，舞步巧。'"
      ]
     },
     "execution_count": 3,
     "metadata": {},
     "output_type": "execute_result"
    }
   ],
   "source": [
    "chat(qwen, \"换成小羊吧\", messages)"
   ]
  },
  {
   "cell_type": "code",
   "execution_count": 4,
   "id": "cb4a8781-f7cb-4330-98d4-1d1b549f6c8d",
   "metadata": {},
   "outputs": [
    {
     "data": {
      "text/plain": [
       "[{'role': 'user', 'content': '你能帮我写一首关于兔子做梦的四句儿歌?'},\n",
       " {'role': 'assistant',\n",
       "  'content': '小兔子，睡梦乡，  \\n梦见自己穿花裳。  \\n耳朵长，尾巴摇，  \\n月亮船上蹦蹦跳。'},\n",
       " {'role': 'user', 'content': '换成小羊吧'},\n",
       " {'role': 'assistant',\n",
       "  'content': '小羊羔，梦中游，  \\n云朵床，轻轻悠。  \\n羊毛软，咩咩笑，  \\n星空下，舞步巧。'}]"
      ]
     },
     "execution_count": 4,
     "metadata": {},
     "output_type": "execute_result"
    }
   ],
   "source": [
    "messages"
   ]
  },
  {
   "cell_type": "code",
   "execution_count": 5,
   "id": "fbb77df1-1f87-4ef7-8e91-7289796d4f31",
   "metadata": {},
   "outputs": [
    {
     "name": "stdout",
     "output_type": "stream",
     "text": [
      "\u001b[32m翱\u001b[0m\u001b[32m翔\u001b[0m\u001b[32m在\u001b[0m\u001b[32m蓝天上，白云悠悠\u001b[0m\u001b[32m，阳光明媚，仿佛整个世界都\u001b[0m\u001b[32m变得无限宽广。鸟儿们\u001b[0m\u001b[32m自由地穿梭在碧空之中，\u001b[0m\u001b[32m留下一串串悠扬的歌声\u001b[0m\u001b[32m，它们的影子在广袤\u001b[0m\u001b[32m的大地上轻轻掠过，绘出\u001b[0m\u001b[32m一幅幅生动的画卷。飞机划\u001b[0m\u001b[32m过天际，留下一条长长的尾\u001b[0m\u001b[32m云，像是天空的轨迹，记录\u001b[0m\u001b[32m着人类探索的渴望与梦想。\u001b[0m\u001b[32m在这样的蓝天下，人们仰望\u001b[0m\u001b[32m，不仅能看到自然的美好，更能感受到\u001b[0m\u001b[32m心灵的宁静与自由，仿佛所有的\u001b[0m\u001b[32m烦恼都随风而去，只剩下纯粹\u001b[0m\u001b[32m与宁静伴随着每一次深呼吸。\u001b[0m\u001b[32m\u001b[0m\n",
      "\n"
     ]
    },
    {
     "data": {
      "text/plain": [
       "'翱翔在蓝天上，白云悠悠，阳光明媚，仿佛整个世界都变得无限宽广。鸟儿们自由地穿梭在碧空之中，留下一串串悠扬的歌声，它们的影子在广袤的大地上轻轻掠过，绘出一幅幅生动的画卷。飞机划过天际，留下一条长长的尾云，像是天空的轨迹，记录着人类探索的渴望与梦想。在这样的蓝天下，人们仰望，不仅能看到自然的美好，更能感受到心灵的宁静与自由，仿佛所有的烦恼都随风而去，只剩下纯粹与宁静伴随着每一次深呼吸。'"
      ]
     },
     "execution_count": 5,
     "metadata": {},
     "output_type": "execute_result"
    }
   ],
   "source": [
    "chat(qwen, \"改为在蓝天上\", messages, k=1)"
   ]
  },
  {
   "cell_type": "code",
   "execution_count": 6,
   "id": "d013a1fd-deaa-4124-9804-6121d04705e6",
   "metadata": {},
   "outputs": [
    {
     "name": "stdout",
     "output_type": "stream",
     "text": [
      ">-[INFO]>> \u001b[34muser: 你能帮我写一首关于兔子做梦的四句儿歌?\u001b[0m\n",
      ">-[INFO]>> \u001b[34massistant: 小兔子，睡梦乡，  \n",
      "梦见自己穿花裳。  \n",
      "耳朵长，尾巴摇，  \n",
      "月亮船上蹦蹦跳。\u001b[0m\n",
      ">-[INFO]>> \u001b[34muser: 换成小羊吧\u001b[0m\n",
      ">-[INFO]>> \u001b[34massistant: 小羊羔，梦中游，  \n",
      "云朵床，轻轻悠。  \n",
      "羊毛软，咩咩笑，  \n",
      "星空下，舞步巧。\u001b[0m\n",
      ">-[INFO]>> \u001b[34muser: 改为在蓝天上\u001b[0m\n",
      ">-[INFO]>> \u001b[34massistant: 翱翔在蓝天上，白云悠悠，阳光明媚，仿佛整个世界都变得无限宽广。鸟儿们自由地穿梭在碧空之中，留下一串串悠扬的歌声，它们的影子在广袤的大地上轻轻掠过，绘出一幅幅生动的画卷。飞机划过天际，留下一条长长的尾云，像是天空的轨迹，记录着人类探索的渴望与梦想。在这样的蓝天下，人们仰望，不仅能看到自然的美好，更能感受到心灵的宁静与自由，仿佛所有的烦恼都随风而去，只剩下纯粹与宁静伴随着每一次深呼吸。\u001b[0m\n",
      ">-[INFO]>> \u001b[34muser: 改为在草地上\u001b[0m\n",
      "\u001b[32m这\u001b[0m\u001b[32m是\u001b[0m\u001b[32m一个\u001b[0m\u001b[32m模拟\u001b[0m\u001b[32m调用\u001b[0m\u001b[32m!\u001b[0m\n",
      "\n"
     ]
    },
    {
     "data": {
      "text/plain": [
       "'这是一个模拟调用!'"
      ]
     },
     "execution_count": 6,
     "metadata": {},
     "output_type": "execute_result"
    }
   ],
   "source": [
    "chat(fake_llm, \"改为在草地上\", messages, k=10)"
   ]
  },
  {
   "cell_type": "code",
   "execution_count": 7,
   "id": "07aef6d1-dd76-4f60-94b6-01607adf9d8b",
   "metadata": {},
   "outputs": [
    {
     "data": {
      "text/plain": [
       "[{'role': 'user', 'content': '你能帮我写一首关于兔子做梦的四句儿歌?'},\n",
       " {'role': 'assistant',\n",
       "  'content': '小兔子，睡梦乡，  \\n梦见自己穿花裳。  \\n耳朵长，尾巴摇，  \\n月亮船上蹦蹦跳。'},\n",
       " {'role': 'user', 'content': '换成小羊吧'},\n",
       " {'role': 'assistant',\n",
       "  'content': '小羊羔，梦中游，  \\n云朵床，轻轻悠。  \\n羊毛软，咩咩笑，  \\n星空下，舞步巧。'},\n",
       " {'role': 'user', 'content': '改为在蓝天上'},\n",
       " {'role': 'assistant',\n",
       "  'content': '翱翔在蓝天上，白云悠悠，阳光明媚，仿佛整个世界都变得无限宽广。鸟儿们自由地穿梭在碧空之中，留下一串串悠扬的歌声，它们的影子在广袤的大地上轻轻掠过，绘出一幅幅生动的画卷。飞机划过天际，留下一条长长的尾云，像是天空的轨迹，记录着人类探索的渴望与梦想。在这样的蓝天下，人们仰望，不仅能看到自然的美好，更能感受到心灵的宁静与自由，仿佛所有的烦恼都随风而去，只剩下纯粹与宁静伴随着每一次深呼吸。'},\n",
       " {'role': 'user', 'content': '改为在草地上'},\n",
       " {'role': 'assistant', 'content': '这是一个模拟调用!'}]"
      ]
     },
     "execution_count": 7,
     "metadata": {},
     "output_type": "execute_result"
    }
   ],
   "source": [
    "messages"
   ]
  },
  {
   "cell_type": "markdown",
   "id": "031dee26-4a77-44c0-9a35-9e670c2ca655",
   "metadata": {},
   "source": [
    "### 在大模型中支持回调工具"
   ]
  },
  {
   "cell_type": "markdown",
   "id": "e32c407d-7940-4eda-b4dc-00a980e84506",
   "metadata": {},
   "source": [
    "仍然采纳`langchain`来定义工具，这可以大大简化回调工具的管理。\n",
    "\n",
    "涉及定义工具的技巧主要包括：\n",
    "- 使用 tool 装饰函数将新函数定义为工具类型\n",
    "- 使用 StructTool 转换已有的函数为工具类型\n",
    "- 使用 BaseModel 补充工具的参数定义\n",
    "\n",
    "采用以上方法定义好工具，就可以使用 convert_to_openai_tool 将其转换为官方要求的 JSON 结构（确实会比手写节省很多精力）。"
   ]
  },
  {
   "cell_type": "code",
   "execution_count": 8,
   "id": "a7f9904e-699b-49fe-9354-c72a3f987fac",
   "metadata": {},
   "outputs": [
    {
     "name": "stdout",
     "output_type": "stream",
     "text": [
      ">-[TOOLS_CALL]>> {\"0\": {\"index\": 0, \"id\": \"\", \"type\": \"function\", \"function\": {\"name\": \"get_current_weather\", \"arguments\": \"{\\\"location\\\": \\\"\\u5e7f\\u5dde\\\"}\"}}}\n"
     ]
    },
    {
     "data": {
      "text/plain": [
       "{'output': '',\n",
       " 'tools_call': {0: {'index': 0,\n",
       "   'id': '',\n",
       "   'type': 'function',\n",
       "   'function': {'name': 'get_current_weather',\n",
       "    'arguments': '{\"location\": \"广州\"}'}}}}"
      ]
     },
     "execution_count": 8,
     "metadata": {},
     "output_type": "execute_result"
    }
   ],
   "source": [
    "from textlong.llm.tools import tool, convert_to_openai_tool\n",
    "from textlong.llm.dashscope import qwen\n",
    "from textlong.io import stream_log\n",
    "import json\n",
    "\n",
    "@tool\n",
    "def get_current_weather(location: str):\n",
    "    \"\"\"获取城市的天气情况\"\"\"\n",
    "    return f\"{location}今天是晴天。 \"\n",
    "\n",
    "stream_log(qwen, \"今天广州天气如何啊\", tools=[convert_to_openai_tool(get_current_weather)])"
   ]
  },
  {
   "cell_type": "markdown",
   "id": "9d83797b-c4d2-4254-aba5-69ba836a7641",
   "metadata": {},
   "source": [
    "<div class=\"alert alert-info\">\n",
    "⚠️ 上面的调用仅仅是返回了工具描述，尚未真正执行工具代码。\n",
    "</div>"
   ]
  },
  {
   "cell_type": "markdown",
   "id": "6e667cad-8bc8-4ea2-b68e-d1c3687e71d0",
   "metadata": {},
   "source": [
    "### 在多轮对话中支持回调工具"
   ]
  },
  {
   "cell_type": "code",
   "execution_count": 9,
   "id": "d898e2c1-a56b-4ffc-bf22-48351429c883",
   "metadata": {},
   "outputs": [
    {
     "name": "stdout",
     "output_type": "stream",
     "text": [
      ">-[TOOLS_CALL]>> {\"0\": {\"index\": 0, \"id\": \"\", \"type\": \"function\", \"function\": {\"name\": \"get_current_weather\", \"arguments\": \"{\\\"location\\\": \\\"\\u5e7f\\u5dde\\\"}\"}}}\n",
      "\u001b[32m广\u001b[0m\u001b[32m州今天是晴天\u001b[0m\u001b[32m。不过，请注意实时天气可能会有所\u001b[0m\u001b[32m变化，出行记得查看最新的天气预报\u001b[0m\u001b[32m。\u001b[0m\u001b[32m\u001b[0m\n",
      "\n"
     ]
    },
    {
     "data": {
      "text/plain": [
       "'广州今天是晴天。不过，请注意实时天气可能会有所变化，出行记得查看最新的天气预报。'"
      ]
     },
     "execution_count": 9,
     "metadata": {},
     "output_type": "execute_result"
    }
   ],
   "source": [
    "from textlong.llm.tools import tool, convert_to_openai_tool\n",
    "from textlong.llm.dashscope import qwen\n",
    "from textlong.llm import chat\n",
    "import json\n",
    "\n",
    "@tool\n",
    "def get_current_weather(location: str):\n",
    "    \"\"\"获取城市的天气情况\"\"\"\n",
    "    return f\"{location}今天是晴天。 \"\n",
    "\n",
    "messages = []\n",
    "chat(qwen, \"今天广州天气如何啊\", messages, tools=[convert_to_openai_tool(get_current_weather)], toolkits=[get_current_weather])"
   ]
  },
  {
   "cell_type": "code",
   "execution_count": 10,
   "id": "67fe453f-dd4a-4c1d-a0aa-8e8122c88538",
   "metadata": {},
   "outputs": [
    {
     "name": "stdout",
     "output_type": "stream",
     "text": [
      "\u001b[32m我\u001b[0m\u001b[32m使用\u001b[0m\u001b[32m了\u001b[0m\u001b[32m天气查询工具来获取\u001b[0m\u001b[32m信息。工具接收到请求后，\u001b[0m\u001b[32m会从它的数据源中查找广州\u001b[0m\u001b[32m当前的天气状况，并返回结果给我\u001b[0m\u001b[32m。根据查询结果，我得知广州\u001b[0m\u001b[32m今天是晴天。这种方式可以提供\u001b[0m\u001b[32m实时或接近实时的天气信息。\u001b[0m\u001b[32m\u001b[0m\u001b[32m\u001b[0m\n",
      "\n"
     ]
    },
    {
     "data": {
      "text/plain": [
       "'我使用了天气查询工具来获取信息。工具接收到请求后，会从它的数据源中查找广州当前的天气状况，并返回结果给我。根据查询结果，我得知广州今天是晴天。这种方式可以提供实时或接近实时的天气信息。'"
      ]
     },
     "execution_count": 10,
     "metadata": {},
     "output_type": "execute_result"
    }
   ],
   "source": [
    "chat(qwen, \"这是怎么得出来的？\", messages, tools=[convert_to_openai_tool(get_current_weather)], toolkits=[get_current_weather])"
   ]
  },
  {
   "cell_type": "code",
   "execution_count": 11,
   "id": "f5a78d8a-9de4-4718-be14-a900cc20fc60",
   "metadata": {},
   "outputs": [
    {
     "name": "stdout",
     "output_type": "stream",
     "text": [
      ">-[TOOLS_CALL]>> {\"0\": {\"index\": 0, \"id\": \"\", \"type\": \"function\", \"function\": {\"name\": \"get_current_weather\", \"arguments\": \"{\\\"location\\\": \\\"\\u4e0a\\u6d77\\\"}\"}}}\n",
      "\u001b[32m上\u001b[0m\u001b[32m海\u001b[0m\u001b[32m今天的天气是晴朗\u001b[0m\u001b[32m的。\u001b[0m\u001b[32m\u001b[0m\n",
      "\n"
     ]
    },
    {
     "data": {
      "text/plain": [
       "'上海今天的天气是晴朗的。'"
      ]
     },
     "execution_count": 11,
     "metadata": {},
     "output_type": "execute_result"
    }
   ],
   "source": [
    "chat(qwen, \"再看看上海\", messages, tools=[convert_to_openai_tool(get_current_weather)], toolkits=[get_current_weather])"
   ]
  },
  {
   "cell_type": "code",
   "execution_count": 12,
   "id": "d346cd93-8539-4570-bcea-ecbdf370e0a7",
   "metadata": {},
   "outputs": [
    {
     "data": {
      "text/plain": [
       "[{'role': 'user', 'content': '今天广州天气如何啊'},\n",
       " {'role': 'assistant',\n",
       "  'content': '',\n",
       "  'tool_calls': [{'index': 0,\n",
       "    'id': '',\n",
       "    'type': 'function',\n",
       "    'function': {'name': 'get_current_weather',\n",
       "     'arguments': '{\"location\": \"广州\"}'}}]},\n",
       " {'role': 'tool', 'name': 'get_current_weather', 'content': '广州今天是晴天。 '},\n",
       " {'role': 'assistant', 'content': '广州今天是晴天。不过，请注意实时天气可能会有所变化，出行记得查看最新的天气预报。'},\n",
       " {'role': 'user', 'content': '这是怎么得出来的？'},\n",
       " {'role': 'assistant',\n",
       "  'content': '我使用了天气查询工具来获取信息。工具接收到请求后，会从它的数据源中查找广州当前的天气状况，并返回结果给我。根据查询结果，我得知广州今天是晴天。这种方式可以提供实时或接近实时的天气信息。'},\n",
       " {'role': 'user', 'content': '再看看上海'},\n",
       " {'role': 'assistant',\n",
       "  'content': '',\n",
       "  'tool_calls': [{'index': 0,\n",
       "    'id': '',\n",
       "    'type': 'function',\n",
       "    'function': {'name': 'get_current_weather',\n",
       "     'arguments': '{\"location\": \"上海\"}'}}]},\n",
       " {'role': 'tool', 'name': 'get_current_weather', 'content': '上海今天是晴天。 '},\n",
       " {'role': 'assistant', 'content': '上海今天的天气是晴朗的。'}]"
      ]
     },
     "execution_count": 12,
     "metadata": {},
     "output_type": "execute_result"
    }
   ],
   "source": [
    "messages"
   ]
  },
  {
   "cell_type": "markdown",
   "id": "a999b6b4-dea0-4ea9-8951-61e6c99a9aa9",
   "metadata": {},
   "source": [
    "## 写作提示语模板"
   ]
  },
  {
   "cell_type": "code",
   "execution_count": 13,
   "id": "1bbed0f8-1a77-4b9e-9227-37dff26abf4f",
   "metadata": {},
   "outputs": [],
   "source": [
    "from textlong.hub import load_chat_template, load_resource_chat_template"
   ]
  },
  {
   "cell_type": "markdown",
   "id": "173b5dbe-360a-41ba-97ee-f944b7293f04",
   "metadata": {},
   "source": [
    "### 加载对话模板的资源\n",
    "\n",
    "指定资源库中的模板ID即可加载模板。"
   ]
  },
  {
   "cell_type": "code",
   "execution_count": 14,
   "id": "dc6cfba0-b58a-445a-9c85-32213033d0b1",
   "metadata": {},
   "outputs": [
    {
     "data": {
      "text/plain": [
       "PromptTemplate(input_variables=['task'], template='你是强大的写作助手。\\n\\n你必须遵循以下约束来完成任务:\\n1. 直接输出你的结果，不要评论，不要啰嗦\\n2. 使用markdown格式输出\\n\\n**你的任务是:**\\n{{task}}\\n', template_format='mustache')"
      ]
     },
     "execution_count": 14,
     "metadata": {},
     "output_type": "execute_result"
    }
   ],
   "source": [
    "load_chat_template(\"IDEA\")"
   ]
  },
  {
   "cell_type": "code",
   "execution_count": 15,
   "id": "113b4bfb-d5b5-4635-bb02-0b32024d1d1c",
   "metadata": {},
   "outputs": [
    {
     "data": {
      "text/plain": [
       "PromptTemplate(input_variables=['task'], template='你是强大的写作助手。\\n\\n你必须遵循以下约束来完成任务:\\n1. 直接输出你的结果，不要评论，不要啰嗦\\n2. 使用markdown格式输出\\n3. 请按照需要输出一份写作提纲\\n4. 提纲的构成应当由多个阔系额要求构成\\n5. 扩写要求必须包含清晰描述，如预估字数、创意要点、创作思路、创作中涉及到的实体名称等\\n5. 每一个扩写要求由完整的 `<OUTLINE>`和`</OUTLINE>` 包裹\\n6. 你只能输出提纲，不要输出具体的扩写内容\\n\\n\\n**你的任务是:**\\n{{task}}\\n\\n\\n**输出例子1**\\n```\\n# 第一章 标题1\\n## 一、XXXX\\n<OUTLINE>\\n扩写摘要:\\n对扩写内容做摘要总结\\n\\n扩写要求：\\n- xxx\\n- xxx\\n</OUTLINE>\\n\\n## 二、XXXX\\n<OUTLINE>\\n</OUTLINE>\\n\\n## （更多扩写提纲）\\n```\\n\\n', template_format='mustache')"
      ]
     },
     "execution_count": 15,
     "metadata": {},
     "output_type": "execute_result"
    }
   ],
   "source": [
    "load_chat_template(\"OUTLINE\")"
   ]
  },
  {
   "cell_type": "markdown",
   "id": "60919f9d-d687-498d-a36c-68b56ebec19e",
   "metadata": {},
   "source": [
    "### 查看构造出的提示语模板"
   ]
  },
  {
   "cell_type": "code",
   "execution_count": 16,
   "id": "69e492c6-bbdf-4fc5-95e9-0aae43a98c30",
   "metadata": {},
   "outputs": [
    {
     "name": "stdout",
     "output_type": "stream",
     "text": [
      "你是强大的写作助手。\n",
      "\n",
      "你必须遵循以下约束来完成任务:\n",
      "1. 直接输出你的结果，不要评论，不要啰嗦\n",
      "2. 使用markdown格式输出\n",
      "3. 请按照需要输出一份写作提纲\n",
      "4. 提纲的构成应当由多个阔系额要求构成\n",
      "5. 扩写要求必须包含清晰描述，如预估字数、创意要点、创作思路、创作中涉及到的实体名称等\n",
      "5. 每一个扩写要求由完整的 `<OUTLINE>`和`</OUTLINE>` 包裹\n",
      "6. 你只能输出提纲，不要输出具体的扩写内容\n",
      "\n",
      "\n",
      "**你的任务是:**\n",
      "请帮我写一首歌\n",
      "\n",
      "\n",
      "**输出例子1**\n",
      "```\n",
      "# 第一章 标题1\n",
      "## 一、XXXX\n",
      "<OUTLINE>\n",
      "扩写摘要:\n",
      "对扩写内容做摘要总结\n",
      "\n",
      "扩写要求：\n",
      "- xxx\n",
      "- xxx\n",
      "</OUTLINE>\n",
      "\n",
      "## 二、XXXX\n",
      "<OUTLINE>\n",
      "</OUTLINE>\n",
      "\n",
      "## （更多扩写提纲）\n",
      "```\n",
      "\n",
      "\n"
     ]
    }
   ],
   "source": [
    "print(load_chat_template(\"OUTLINE\").format(task=\"请帮我写一首歌\"))"
   ]
  },
  {
   "cell_type": "markdown",
   "id": "14216ff2-faba-4015-b262-6a8c8eba2457",
   "metadata": {},
   "source": [
    "### 单轮写作"
   ]
  },
  {
   "cell_type": "code",
   "execution_count": 17,
   "id": "20a94ba4-63b4-4933-950d-334ebcaf4a55",
   "metadata": {},
   "outputs": [],
   "source": [
    "from textlong.llm import chat, write, fake_llm\n",
    "from textlong.llm.dashscope import qwen\n",
    "messages = []"
   ]
  },
  {
   "cell_type": "code",
   "execution_count": 18,
   "id": "b5ea70c5-26a9-4927-afc0-6bc15168f2d6",
   "metadata": {},
   "outputs": [
    {
     "name": "stdout",
     "output_type": "stream",
     "text": [
      "\u001b[32m小白\u001b[0m\u001b[32m兔\u001b[0m\u001b[32m，\u001b[0m\u001b[32m蹦蹦跳，  \n",
      "\u001b[0m\u001b[32m耳朵长，尾巴短摇摇。\u001b[0m\u001b[32m  \n",
      "爱吃萝卜和青菜，  \n",
      "\u001b[0m\u001b[32m快快乐乐满地跑。\u001b[0m\u001b[32m\u001b[0m\n",
      "\n"
     ]
    },
    {
     "data": {
      "text/plain": [
       "'小白兔，蹦蹦跳，  \\n耳朵长，尾巴短摇摇。  \\n爱吃萝卜和青菜，  \\n快快乐乐满地跑。'"
      ]
     },
     "execution_count": 18,
     "metadata": {},
     "output_type": "execute_result"
    }
   ],
   "source": [
    "write(qwen, \"IDEA\", {\"task\": \"帮我写一首关于兔子的四句儿歌\"}, messages)"
   ]
  },
  {
   "cell_type": "code",
   "execution_count": 19,
   "id": "e79616f0-dd74-4773-a8e0-972cd311fdcf",
   "metadata": {},
   "outputs": [
    {
     "name": "stdout",
     "output_type": "stream",
     "text": [
      "\u001b[32m小\u001b[0m\u001b[32m马\u001b[0m\u001b[32m儿\u001b[0m\u001b[32m小马儿，蹄\u001b[0m\u001b[32m儿踏踏响，\n",
      "草原上奔跑\u001b[0m\u001b[32m，快乐无边疆。\n",
      "尾巴摇\u001b[0m\u001b[32m摇，鬃毛闪闪亮，\n",
      "朋友\u001b[0m\u001b[32m遍天下，笑声多欢畅。\u001b[0m\u001b[32m\u001b[0m\n",
      "\n"
     ]
    },
    {
     "data": {
      "text/plain": [
       "'小马儿小马儿，蹄儿踏踏响，\\n草原上奔跑，快乐无边疆。\\n尾巴摇摇，鬃毛闪闪亮，\\n朋友遍天下，笑声多欢畅。'"
      ]
     },
     "execution_count": 19,
     "metadata": {},
     "output_type": "execute_result"
    }
   ],
   "source": [
    "write(qwen, \"IDEA\", {\"task\": \"帮我写一首关于小马的四句儿歌\"}, messages)"
   ]
  },
  {
   "cell_type": "code",
   "execution_count": 20,
   "id": "0f5d03f2-169e-4bef-9fa9-1d0264dba923",
   "metadata": {},
   "outputs": [
    {
     "data": {
      "text/plain": [
       "[{'role': 'system',\n",
       "  'content': '你是强大的写作助手。\\n\\n你必须遵循以下约束来完成任务:\\n1. 直接输出你的结果，不要评论，不要啰嗦\\n2. 使用markdown格式输出\\n\\n**你的任务是:**\\n帮我写一首关于小马的四句儿歌\\n'},\n",
       " {'role': 'user', 'content': '请你开始'},\n",
       " {'role': 'assistant',\n",
       "  'content': '小马儿小马儿，蹄儿踏踏响，\\n草原上奔跑，快乐无边疆。\\n尾巴摇摇，鬃毛闪闪亮，\\n朋友遍天下，笑声多欢畅。'}]"
      ]
     },
     "execution_count": 20,
     "metadata": {},
     "output_type": "execute_result"
    }
   ],
   "source": [
    "messages"
   ]
  },
  {
   "cell_type": "markdown",
   "id": "3eb3f172-e76a-4933-b039-afc635d58ae9",
   "metadata": {},
   "source": [
    "### 单轮写作 + 多轮对话"
   ]
  },
  {
   "cell_type": "code",
   "execution_count": 21,
   "id": "23c1241c-6f5d-4773-ab83-8a5e04ac4d6b",
   "metadata": {},
   "outputs": [
    {
     "name": "stdout",
     "output_type": "stream",
     "text": [
      "\u001b[32m小\u001b[0m\u001b[32m马\u001b[0m\u001b[32m儿\u001b[0m\u001b[32m小马儿，清晨\u001b[0m\u001b[32m蹄声忙，\n",
      "踏上绿茵茵\u001b[0m\u001b[32m，草原是它房。\n",
      "太阳笑\u001b[0m\u001b[32m眯眯，云朵轻飘扬\u001b[0m\u001b[32m，\n",
      "小马悠悠跑，心儿\u001b[0m\u001b[32m多欢畅。\n",
      "\n",
      "河边弯弯饮\u001b[0m\u001b[32m清水，波光映它靓影\u001b[0m\u001b[32m长，\n",
      "花儿点头迎风笑\u001b[0m\u001b[32m，小马世界美如画框\u001b[0m\u001b[32m。\n",
      "朋友小兔跳跳来，\u001b[0m\u001b[32m小鸟啾啾话家常，\n",
      "大\u001b[0m\u001b[32m伙儿一起乐悠悠，草原生活\u001b[0m\u001b[32m甜如糖。\u001b[0m\u001b[32m\u001b[0m\n",
      "\n"
     ]
    },
    {
     "data": {
      "text/plain": [
       "'小马儿小马儿，清晨蹄声忙，\\n踏上绿茵茵，草原是它房。\\n太阳笑眯眯，云朵轻飘扬，\\n小马悠悠跑，心儿多欢畅。\\n\\n河边弯弯饮清水，波光映它靓影长，\\n花儿点头迎风笑，小马世界美如画框。\\n朋友小兔跳跳来，小鸟啾啾话家常，\\n大伙儿一起乐悠悠，草原生活甜如糖。'"
      ]
     },
     "execution_count": 21,
     "metadata": {},
     "output_type": "execute_result"
    }
   ],
   "source": [
    "chat(qwen, \"改为8句吧\", messages)"
   ]
  },
  {
   "cell_type": "code",
   "execution_count": 22,
   "id": "91c4457f-96fe-40e9-9bbd-c4cf293fa1b6",
   "metadata": {},
   "outputs": [
    {
     "data": {
      "text/plain": [
       "[{'role': 'system',\n",
       "  'content': '你是强大的写作助手。\\n\\n你必须遵循以下约束来完成任务:\\n1. 直接输出你的结果，不要评论，不要啰嗦\\n2. 使用markdown格式输出\\n\\n**你的任务是:**\\n帮我写一首关于小马的四句儿歌\\n'},\n",
       " {'role': 'user', 'content': '请你开始'},\n",
       " {'role': 'assistant',\n",
       "  'content': '小马儿小马儿，蹄儿踏踏响，\\n草原上奔跑，快乐无边疆。\\n尾巴摇摇，鬃毛闪闪亮，\\n朋友遍天下，笑声多欢畅。'},\n",
       " {'role': 'user', 'content': '改为8句吧'},\n",
       " {'role': 'assistant',\n",
       "  'content': '小马儿小马儿，清晨蹄声忙，\\n踏上绿茵茵，草原是它房。\\n太阳笑眯眯，云朵轻飘扬，\\n小马悠悠跑，心儿多欢畅。\\n\\n河边弯弯饮清水，波光映它靓影长，\\n花儿点头迎风笑，小马世界美如画框。\\n朋友小兔跳跳来，小鸟啾啾话家常，\\n大伙儿一起乐悠悠，草原生活甜如糖。'}]"
      ]
     },
     "execution_count": 22,
     "metadata": {},
     "output_type": "execute_result"
    }
   ],
   "source": [
    "messages"
   ]
  },
  {
   "cell_type": "code",
   "execution_count": 23,
   "id": "e9e63c6b-af47-4595-a581-90494477e0eb",
   "metadata": {},
   "outputs": [
    {
     "name": "stdout",
     "output_type": "stream",
     "text": [
      "\u001b[32mIn\u001b[0m\u001b[32m me\u001b[0m\u001b[32madows\u001b[0m\u001b[32m of gold, where the\u001b[0m\u001b[32m dawn gently tiptoes,\n",
      "A little\u001b[0m\u001b[32m pony trots, its mane in the\u001b[0m\u001b[32m morning breeze flows.\n",
      "Hooves create a\u001b[0m\u001b[32m melody, in rhythm with the gale\u001b[0m\u001b[32m,\n",
      "Through the emerald valley, it\u001b[0m\u001b[32m weaves a carefree tale.\n",
      "\n",
      "With\u001b[0m\u001b[32m a tail that sways, in harmony\u001b[0m\u001b[32m so rare,\n",
      "Its coat shines like silver\u001b[0m\u001b[32m, under the sun's tender stare.\n",
      "\u001b[0m\u001b[32mThe pony explores, with a spirit bold\u001b[0m\u001b[32m and free,\n",
      "Friendship's bonds it\u001b[0m\u001b[32m forges, in this vast sanctuary.\n",
      "\n",
      "\u001b[0m\u001b[32mThe willows bow, as it graz\u001b[0m\u001b[32mes by the stream,\n",
      "Reflecting in\u001b[0m\u001b[32m waters, a picture like a dream.\n",
      "\u001b[0m\u001b[32mRabbit hops nearby, birds sing in\u001b[0m\u001b[32m the trees,\n",
      "Nature's symphony,\u001b[0m\u001b[32m a choir for the pony's ease.\n",
      "\n",
      "\u001b[0m\u001b[32mAs twilight descends, stars begin to\u001b[0m\u001b[32m appear,\n",
      "The pony rests, under the\u001b[0m\u001b[32m moon's watchful leer.\n",
      "In dreams\u001b[0m\u001b[32m it gallops, through enchanted forests deep\u001b[0m\u001b[32m,\n",
      "A western ballad, in the\u001b[0m\u001b[32m heart of the wild it'll keep.\u001b[0m\u001b[32m\u001b[0m\n",
      "\n"
     ]
    },
    {
     "data": {
      "text/plain": [
       "\"In meadows of gold, where the dawn gently tiptoes,\\nA little pony trots, its mane in the morning breeze flows.\\nHooves create a melody, in rhythm with the gale,\\nThrough the emerald valley, it weaves a carefree tale.\\n\\nWith a tail that sways, in harmony so rare,\\nIts coat shines like silver, under the sun's tender stare.\\nThe pony explores, with a spirit bold and free,\\nFriendship's bonds it forges, in this vast sanctuary.\\n\\nThe willows bow, as it grazes by the stream,\\nReflecting in waters, a picture like a dream.\\nRabbit hops nearby, birds sing in the trees,\\nNature's symphony, a choir for the pony's ease.\\n\\nAs twilight descends, stars begin to appear,\\nThe pony rests, under the moon's watchful leer.\\nIn dreams it gallops, through enchanted forests deep,\\nA western ballad, in the heart of the wild it'll keep.\""
      ]
     },
     "execution_count": 23,
     "metadata": {},
     "output_type": "execute_result"
    }
   ],
   "source": [
    "chat(qwen, \"类似西方的诗歌那样风格\", messages, k=3, model=\"qwen2-1.5b-instruct\")"
   ]
  },
  {
   "cell_type": "code",
   "execution_count": 24,
   "id": "207dd6f3-4a6a-45f0-a5b6-c368bbab170d",
   "metadata": {},
   "outputs": [
    {
     "data": {
      "text/plain": [
       "[{'role': 'system',\n",
       "  'content': '你是强大的写作助手。\\n\\n你必须遵循以下约束来完成任务:\\n1. 直接输出你的结果，不要评论，不要啰嗦\\n2. 使用markdown格式输出\\n\\n**你的任务是:**\\n帮我写一首关于小马的四句儿歌\\n'},\n",
       " {'role': 'user', 'content': '请你开始'},\n",
       " {'role': 'assistant',\n",
       "  'content': '小马儿小马儿，蹄儿踏踏响，\\n草原上奔跑，快乐无边疆。\\n尾巴摇摇，鬃毛闪闪亮，\\n朋友遍天下，笑声多欢畅。'},\n",
       " {'role': 'user', 'content': '改为8句吧'},\n",
       " {'role': 'assistant',\n",
       "  'content': '小马儿小马儿，清晨蹄声忙，\\n踏上绿茵茵，草原是它房。\\n太阳笑眯眯，云朵轻飘扬，\\n小马悠悠跑，心儿多欢畅。\\n\\n河边弯弯饮清水，波光映它靓影长，\\n花儿点头迎风笑，小马世界美如画框。\\n朋友小兔跳跳来，小鸟啾啾话家常，\\n大伙儿一起乐悠悠，草原生活甜如糖。'},\n",
       " {'role': 'user', 'content': '类似西方的诗歌那样风格'},\n",
       " {'role': 'assistant',\n",
       "  'content': \"In meadows of gold, where the dawn gently tiptoes,\\nA little pony trots, its mane in the morning breeze flows.\\nHooves create a melody, in rhythm with the gale,\\nThrough the emerald valley, it weaves a carefree tale.\\n\\nWith a tail that sways, in harmony so rare,\\nIts coat shines like silver, under the sun's tender stare.\\nThe pony explores, with a spirit bold and free,\\nFriendship's bonds it forges, in this vast sanctuary.\\n\\nThe willows bow, as it grazes by the stream,\\nReflecting in waters, a picture like a dream.\\nRabbit hops nearby, birds sing in the trees,\\nNature's symphony, a choir for the pony's ease.\\n\\nAs twilight descends, stars begin to appear,\\nThe pony rests, under the moon's watchful leer.\\nIn dreams it gallops, through enchanted forests deep,\\nA western ballad, in the heart of the wild it'll keep.\"}]"
      ]
     },
     "execution_count": 24,
     "metadata": {},
     "output_type": "execute_result"
    }
   ],
   "source": [
    "messages"
   ]
  },
  {
   "cell_type": "code",
   "execution_count": null,
   "id": "b29b1a13-5f10-415b-a82a-eb10c5e24887",
   "metadata": {},
   "outputs": [],
   "source": []
  }
 ],
 "metadata": {
  "jpcodetoc-autonumbering": false,
  "kernelspec": {
   "display_name": "textlong-same-ipykernel",
   "language": "python",
   "name": "textlong-same-ipykernel"
  },
  "language_info": {
   "codemirror_mode": {
    "name": "ipython",
    "version": 3
   },
   "file_extension": ".py",
   "mimetype": "text/x-python",
   "name": "python",
   "nbconvert_exporter": "python",
   "pygments_lexer": "ipython3",
   "version": "3.10.0"
  }
 },
 "nbformat": 4,
 "nbformat_minor": 5
}
