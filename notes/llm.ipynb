{
 "cells": [
  {
   "cell_type": "markdown",
   "id": "9d29c40a-2a13-4a7f-a465-189d2ea5ead2",
   "metadata": {},
   "source": [
    "# 大模型"
   ]
  },
  {
   "cell_type": "markdown",
   "id": "30e55ec8-ba21-4701-96d5-6a54f9199b24",
   "metadata": {},
   "source": [
    "## 模型支持"
   ]
  },
  {
   "cell_type": "markdown",
   "id": "a5334318-b9fb-419c-a268-50baf4f5c24d",
   "metadata": {},
   "source": [
    "### OpenAI"
   ]
  },
  {
   "cell_type": "code",
   "execution_count": 1,
   "id": "54add976-5cc5-42af-96c2-55851d0178b0",
   "metadata": {},
   "outputs": [
    {
     "name": "stdout",
     "output_type": "stream",
     "text": [
      "\u001b[32m小\u001b[0m\u001b[32m兔\u001b[0m\u001b[32m子\u001b[0m\u001b[32m梦\u001b[0m\u001b[32m里\u001b[0m\u001b[32m游\u001b[0m\u001b[32m，\n",
      "\u001b[0m\u001b[32m梦\u001b[0m\u001b[32m见\u001b[0m\u001b[32m田\u001b[0m\u001b[32m野\u001b[0m\u001b[32m花\u001b[0m\u001b[32m开\u001b[0m\u001b[32m朵\u001b[0m\u001b[32m朵\u001b[0m\u001b[32m。\n",
      "\u001b[0m\u001b[32m月\u001b[0m\u001b[32m光\u001b[0m\u001b[32m下\u001b[0m\u001b[32m跳\u001b[0m\u001b[32m舞\u001b[0m\u001b[32m伴\u001b[0m\u001b[32m，\n",
      "\u001b[0m\u001b[32m梦\u001b[0m\u001b[32m醒\u001b[0m\u001b[32m时\u001b[0m\u001b[32m笑\u001b[0m\u001b[32m容\u001b[0m\u001b[32m依\u001b[0m\u001b[32m旧\u001b[0m\u001b[32m。\u001b[0m\n",
      "\n"
     ]
    },
    {
     "data": {
      "text/plain": [
       "'小兔子梦里游，\\n梦见田野花开朵朵。\\n月光下跳舞伴，\\n梦醒时笑容依旧。'"
      ]
     },
     "execution_count": 1,
     "metadata": {},
     "output_type": "execute_result"
    }
   ],
   "source": [
    "from illufly.llm import ChatOpenAI\n",
    "from illufly.io import log, alog\n",
    "a = ChatOpenAI()\n",
    "log(\n",
    "    a,\n",
    "    \"你能帮我写一首关于兔子做梦的四句儿歌?\",\n",
    "    model=\"gpt-3.5-turbo\",\n",
    "    verbose=True\n",
    ")"
   ]
  },
  {
   "cell_type": "code",
   "execution_count": 2,
   "id": "7f2c9a7e-500c-4be5-b72e-3f9705315bda",
   "metadata": {},
   "outputs": [
    {
     "data": {
      "text/plain": [
       "[{'role': 'user', 'content': '你能帮我写一首关于兔子做梦的四句儿歌?'},\n",
       " {'role': 'assistant', 'content': '小兔子梦里游，\\n梦见田野花开朵朵。\\n月光下跳舞伴，\\n梦醒时笑容依旧。'}]"
      ]
     },
     "execution_count": 2,
     "metadata": {},
     "output_type": "execute_result"
    }
   ],
   "source": [
    "a.memory"
   ]
  },
  {
   "cell_type": "code",
   "execution_count": 3,
   "id": "a7145a95-f03e-4783-910b-4e225f62fc2c",
   "metadata": {},
   "outputs": [
    {
     "name": "stdout",
     "output_type": "stream",
     "text": [
      "\u001b[32m当然\u001b[0m\u001b[32m可以\u001b[0m\u001b[32m！\u001b[0m\u001b[32m以下\u001b[0m\u001b[32m是一\u001b[0m\u001b[32m首\u001b[0m\u001b[32m关于\u001b[0m\u001b[32m兔\u001b[0m\u001b[32m子\u001b[0m\u001b[32m做\u001b[0m\u001b[32m梦\u001b[0m\u001b[32m的\u001b[0m\u001b[32m四\u001b[0m\u001b[32m句\u001b[0m\u001b[32m儿\u001b[0m\u001b[32m歌\u001b[0m\u001b[32m：\n",
      "\n",
      "\u001b[0m\u001b[32m小\u001b[0m\u001b[32m兔\u001b[0m\u001b[32m子\u001b[0m\u001b[32m，\u001b[0m\u001b[32m梦\u001b[0m\u001b[32m中\u001b[0m\u001b[32m飞\u001b[0m\u001b[32m，\u001b[0m\u001b[32m  \n",
      "\u001b[0m\u001b[32m月\u001b[0m\u001b[32m亮\u001b[0m\u001b[32m下\u001b[0m\u001b[32m，\u001b[0m\u001b[32m花\u001b[0m\u001b[32m儿\u001b[0m\u001b[32m开\u001b[0m\u001b[32m。\u001b[0m\u001b[32m  \n",
      "\u001b[0m\u001b[32m追\u001b[0m\u001b[32m逐\u001b[0m\u001b[32m星\u001b[0m\u001b[32m星\u001b[0m\u001b[32m跑\u001b[0m\u001b[32m不停\u001b[0m\u001b[32m，\u001b[0m\u001b[32m  \n",
      "\u001b[0m\u001b[32m梦\u001b[0m\u001b[32m里\u001b[0m\u001b[32m世界\u001b[0m\u001b[32m真\u001b[0m\u001b[32m奇\u001b[0m\u001b[32m妙\u001b[0m\u001b[32m。\u001b[0m\n",
      "\n"
     ]
    },
    {
     "data": {
      "text/plain": [
       "'当然可以！以下是一首关于兔子做梦的四句儿歌：\\n\\n小兔子，梦中飞，  \\n月亮下，花儿开。  \\n追逐星星跑不停，  \\n梦里世界真奇妙。'"
      ]
     },
     "execution_count": 3,
     "metadata": {},
     "output_type": "execute_result"
    }
   ],
   "source": [
    "await alog(\n",
    "    ChatOpenAI(),\n",
    "    \"你能帮我写一首关于兔子做梦的四句儿歌?\",\n",
    "    model=\"gpt-3.5-turbo\",\n",
    "    temperature=0.1\n",
    ")"
   ]
  },
  {
   "cell_type": "markdown",
   "id": "577d4020-491f-49ed-af56-1ae3a8de157a",
   "metadata": {},
   "source": [
    "**在调用时指定工具，返回应当调用的工具信息**"
   ]
  },
  {
   "cell_type": "code",
   "execution_count": 2,
   "id": "0c02e36b-97d1-4077-83e3-3867f74010f3",
   "metadata": {},
   "outputs": [
    {
     "name": "stdout",
     "output_type": "stream",
     "text": [
      "[TOOLS_CALL_CHUNK] \u001b[32m{\"index\": 0, \"id\": \"call_20240917093759a83befdb77e0492e\", \"type\": \"function\", \"function\": {\"name\": \"get_current_weather\", \"arguments\": \"{\\\"location\\\": \\\"广州\\\"}\"}}\u001b[0m\n",
      "[TOOLS_CALL_FINAL] \u001b[36m{\"0\": {\"index\": 0, \"id\": \"call_20240917093759a83befdb77e0492e\", \"type\": \"function\", \"function\": {\"name\": \"get_current_weather\", \"arguments\": \"{\\\"location\\\": \\\"广州\\\"}\"}}}\u001b[0m\n",
      "\u001b[32m广州今天是晴天。 \u001b[0m\n",
      "\n",
      "\u001b[32m广州\u001b[0m\u001b[32m今天是\u001b[0m\u001b[32m晴天\u001b[0m\u001b[32m，\u001b[0m\u001b[32m出门\u001b[0m\u001b[32m时\u001b[0m\u001b[32m可以\u001b[0m\u001b[32m穿\u001b[0m\u001b[32m轻\u001b[0m\u001b[32m便\u001b[0m\u001b[32m的衣服\u001b[0m\u001b[32m，\u001b[0m\u001b[32m携带\u001b[0m\u001b[32m防晒\u001b[0m\u001b[32m霜\u001b[0m\u001b[32m和\u001b[0m\u001b[32m遮\u001b[0m\u001b[32m阳\u001b[0m\u001b[32m帽\u001b[0m\u001b[32m，\u001b[0m\u001b[32m以\u001b[0m\u001b[32m防晒\u001b[0m\u001b[32m晒\u001b[0m\u001b[32m伤\u001b[0m\u001b[32m。\u001b[0m\u001b[32m同时\u001b[0m\u001b[32m，\u001b[0m\u001b[32m由于\u001b[0m\u001b[32m天气\u001b[0m\u001b[32m晴\u001b[0m\u001b[32m朗\u001b[0m\u001b[32m，\u001b[0m\u001b[32m建议\u001b[0m\u001b[32m携带\u001b[0m\u001b[32m雨\u001b[0m\u001b[32m具\u001b[0m\u001b[32m以防\u001b[0m\u001b[32m突然\u001b[0m\u001b[32m降雨\u001b[0m\u001b[32m。\u001b[0m\n",
      "\n"
     ]
    },
    {
     "data": {
      "text/plain": [
       "[{'role': 'user', 'content': '今天广州出门要准备什么'},\n",
       " {'role': 'assistant', 'content': ''},\n",
       " {'role': 'tool', 'content': '广州今天是晴天。 '},\n",
       " {'role': 'assistant',\n",
       "  'content': '广州今天是晴天，出门时可以穿轻便的衣服，携带防晒霜和遮阳帽，以防晒晒伤。同时，由于天气晴朗，建议携带雨具以防突然降雨。'}]"
      ]
     },
     "execution_count": 2,
     "metadata": {},
     "output_type": "execute_result"
    }
   ],
   "source": [
    "from illufly.llm import ChatOpenAI, ChatQwen, ChatZhipu\n",
    "from illufly.tools import ToolAgent\n",
    "from illufly.io import log, alog\n",
    "import json\n",
    "\n",
    "def get_current_weather(location: str):\n",
    "    \"\"\"获取城市的天气情况\"\"\"\n",
    "    yield f\"{location}今天是晴天。 \"\n",
    "\n",
    "a = ChatZhipu(tools=[ToolAgent(get_current_weather)])\n",
    "log(a, \"今天广州出门要准备什么\", verbose=True, new_chat=True)\n",
    "a.memory"
   ]
  },
  {
   "cell_type": "code",
   "execution_count": null,
   "id": "eea7418f-5b6d-41d4-af76-bcc7ffde25fb",
   "metadata": {},
   "outputs": [],
   "source": [
    "#\n",
    "PYTHON_TO_JSON_TYPES = {\n",
    "    \"str\": \"string\",\n",
    "    \"int\": \"integer\",\n",
    "    \"float\": \"number\",\n",
    "    \"bool\": \"boolean\",\n",
    "}\n"
   ]
  },
  {
   "cell_type": "code",
   "execution_count": 1,
   "id": "e202e7d1-6812-49a1-b8b9-7b3cce8480c1",
   "metadata": {},
   "outputs": [
    {
     "name": "stdout",
     "output_type": "stream",
     "text": [
      "model args {'api_key': 'sk-8WLGNC5Y3g0LS7NA6d3b625e31Ef4a93A4E3D953063f852c'}\n",
      "call args {'stream': True, 'model': 'gpt-3.5-turbo', 'messages': [{'role': 'user', 'content': '今天广州出门要准备什么'}], 'tools': [{'type': 'function', 'function': {'name': 'get_current_weather', 'description': '获取城市的天气情况', 'parameters': {'type': 'object', 'properties': {'location': {'type': 'string', 'description': ''}}, 'required': ['location']}}}]}\n",
      "messages [{'role': 'user', 'content': '今天广州出门要准备什么'}]\n",
      "[TOOLS_CALL_CHUNK] \u001b[32m{\"index\": 0, \"id\": \"call_RScdl6wLZbAeexk0wqgxv032\", \"type\": \"function\", \"function\": {\"name\": \"get_current_weather\", \"arguments\": \"\"}}\u001b[0m\n",
      "[TOOLS_CALL_CHUNK] \u001b[32m{\"index\": 0, \"id\": \"\", \"type\": \"function\", \"function\": {\"name\": \"\", \"arguments\": \"{\\\"lo\"}}\u001b[0m\n",
      "[TOOLS_CALL_CHUNK] \u001b[32m{\"index\": 0, \"id\": \"\", \"type\": \"function\", \"function\": {\"name\": \"\", \"arguments\": \"catio\"}}\u001b[0m\n",
      "[TOOLS_CALL_CHUNK] \u001b[32m{\"index\": 0, \"id\": \"\", \"type\": \"function\", \"function\": {\"name\": \"\", \"arguments\": \"n\\\": \\\"g\"}}\u001b[0m\n",
      "[TOOLS_CALL_CHUNK] \u001b[32m{\"index\": 0, \"id\": \"\", \"type\": \"function\", \"function\": {\"name\": \"\", \"arguments\": \"uang\"}}\u001b[0m\n",
      "[TOOLS_CALL_CHUNK] \u001b[32m{\"index\": 0, \"id\": \"\", \"type\": \"function\", \"function\": {\"name\": \"\", \"arguments\": \"zhou\\\"\"}}\u001b[0m\n",
      "[TOOLS_CALL_CHUNK] \u001b[32m{\"index\": 0, \"id\": \"\", \"type\": \"function\", \"function\": {\"name\": \"\", \"arguments\": \"}\"}}\u001b[0m\n",
      "[TOOLS_CALL_FINAL] \u001b[36m{\"0\": {\"index\": 0, \"id\": \"call_RScdl6wLZbAeexk0wqgxv032\", \"type\": \"function\", \"function\": {\"name\": \"get_current_weather\", \"arguments\": \"{\\\"location\\\": \\\"guangzhou\\\"}\"}}}\u001b[0m\n",
      "\u001b[32mguangzhou今天是晴天。 \u001b[0mmodel args {'api_key': 'sk-8WLGNC5Y3g0LS7NA6d3b625e31Ef4a93A4E3D953063f852c'}\n",
      "call args {'stream': True, 'model': 'gpt-3.5-turbo', 'messages': [{'role': 'user', 'content': '今天广州出门要准备什么'}, {'role': 'assistant', 'content': '', 'tool_calls': [{'index': 0, 'id': 'call_RScdl6wLZbAeexk0wqgxv032', 'type': 'function', 'function': {'name': 'get_current_weather', 'arguments': '{\"location\": \"guangzhou\"}'}}]}, {'tool_call_id': 'call_RScdl6wLZbAeexk0wqgxv032', 'role': 'tool', 'name': 'get_current_weather', 'content': 'guangzhou今天是晴天。 '}], 'tools': [{'type': 'function', 'function': {'name': 'get_current_weather', 'description': '获取城市的天气情况', 'parameters': {'type': 'object', 'properties': {'location': {'type': 'string', 'description': ''}}, 'required': ['location']}}}]}\n",
      "messages [{'role': 'user', 'content': '今天广州出门要准备什么'}, {'role': 'assistant', 'content': '', 'tool_calls': [{'index': 0, 'id': 'call_RScdl6wLZbAeexk0wqgxv032', 'type': 'function', 'function': {'name': 'get_current_weather', 'arguments': '{\"location\": \"guangzhou\"}'}}]}, {'tool_call_id': 'call_RScdl6wLZbAeexk0wqgxv032', 'role': 'tool', 'name': 'get_current_weather', 'content': 'guangzhou今天是晴天。 '}]\n",
      "\n",
      "\n",
      "\u001b[32m今天\u001b[0m\u001b[32m广州\u001b[0m\u001b[32m是\u001b[0m\u001b[32m晴\u001b[0m\u001b[32m天\u001b[0m\u001b[32m，\u001b[0m\u001b[32m出\u001b[0m\u001b[32m门\u001b[0m\u001b[32m时\u001b[0m\u001b[32m可以\u001b[0m\u001b[32m准备\u001b[0m\u001b[32m以下\u001b[0m\u001b[32m事项\u001b[0m\u001b[32m：\n",
      "\n",
      "\u001b[0m\u001b[32m1\u001b[0m\u001b[32m.\u001b[0m\u001b[32m **\u001b[0m\u001b[32m防\u001b[0m\u001b[32m晒\u001b[0m\u001b[32m**\u001b[0m\u001b[32m：\u001b[0m\u001b[32m涂\u001b[0m\u001b[32m抹\u001b[0m\u001b[32m防\u001b[0m\u001b[32m晒\u001b[0m\u001b[32m霜\u001b[0m\u001b[32m，\u001b[0m\u001b[32m戴\u001b[0m\u001b[32m上\u001b[0m\u001b[32m太阳\u001b[0m\u001b[32m帽\u001b[0m\u001b[32m或\u001b[0m\u001b[32m太阳\u001b[0m\u001b[32m镜\u001b[0m\u001b[32m，以\u001b[0m\u001b[32m保护\u001b[0m\u001b[32m皮\u001b[0m\u001b[32m肤\u001b[0m\u001b[32m。\n",
      "\u001b[0m\u001b[32m2\u001b[0m\u001b[32m.\u001b[0m\u001b[32m **\u001b[0m\u001b[32m轻\u001b[0m\u001b[32m便\u001b[0m\u001b[32m服\u001b[0m\u001b[32m装\u001b[0m\u001b[32m**\u001b[0m\u001b[32m：\u001b[0m\u001b[32m穿\u001b[0m\u001b[32m着\u001b[0m\u001b[32m轻\u001b[0m\u001b[32m薄\u001b[0m\u001b[32m、\u001b[0m\u001b[32m透\u001b[0m\u001b[32m气\u001b[0m\u001b[32m的\u001b[0m\u001b[32m衣\u001b[0m\u001b[32m物\u001b[0m\u001b[32m，以\u001b[0m\u001b[32m应\u001b[0m\u001b[32m对\u001b[0m\u001b[32m炎\u001b[0m\u001b[32m热\u001b[0m\u001b[32m的\u001b[0m\u001b[32m天气\u001b[0m\u001b[32m。\n",
      "\u001b[0m\u001b[32m3\u001b[0m\u001b[32m.\u001b[0m\u001b[32m **\u001b[0m\u001b[32m水\u001b[0m\u001b[32m瓶\u001b[0m\u001b[32m**\u001b[0m\u001b[32m：\u001b[0m\u001b[32m多\u001b[0m\u001b[32m喝\u001b[0m\u001b[32m水\u001b[0m\u001b[32m，\u001b[0m\u001b[32m保持\u001b[0m\u001b[32m水\u001b[0m\u001b[32m分\u001b[0m\u001b[32m摄\u001b[0m\u001b[32m入\u001b[0m\u001b[32m。\n",
      "\u001b[0m\u001b[32m4\u001b[0m\u001b[32m.\u001b[0m\u001b[32m **\u001b[0m\u001b[32m舒\u001b[0m\u001b[32m适\u001b[0m\u001b[32m鞋\u001b[0m\u001b[32m子\u001b[0m\u001b[32m**\u001b[0m\u001b[32m：\u001b[0m\u001b[32m如果\u001b[0m\u001b[32m需要\u001b[0m\u001b[32m走\u001b[0m\u001b[32m路\u001b[0m\u001b[32m，\u001b[0m\u001b[32m选择\u001b[0m\u001b[32m舒\u001b[0m\u001b[32m适\u001b[0m\u001b[32m的\u001b[0m\u001b[32m鞋\u001b[0m\u001b[32m子\u001b[0m\u001b[32m。\n",
      "\n",
      "\u001b[0m\u001b[32m准备\u001b[0m\u001b[32m好\u001b[0m\u001b[32m这些\u001b[0m\u001b[32m就\u001b[0m\u001b[32m可以\u001b[0m\u001b[32m愉\u001b[0m\u001b[32m快\u001b[0m\u001b[32m出\u001b[0m\u001b[32m门\u001b[0m\u001b[32m了\u001b[0m\u001b[32m！\u001b[0m\n",
      "\n"
     ]
    },
    {
     "data": {
      "text/plain": [
       "[{'role': 'user', 'content': '今天广州出门要准备什么'},\n",
       " {'role': 'assistant', 'content': ''},\n",
       " {'role': 'tool', 'content': 'guangzhou今天是晴天。 '},\n",
       " {'role': 'assistant',\n",
       "  'content': '今天广州是晴天，出门时可以准备以下事项：\\n\\n1. **防晒**：涂抹防晒霜，戴上太阳帽或太阳镜，以保护皮肤。\\n2. **轻便服装**：穿着轻薄、透气的衣物，以应对炎热的天气。\\n3. **水瓶**：多喝水，保持水分摄入。\\n4. **舒适鞋子**：如果需要走路，选择舒适的鞋子。\\n\\n准备好这些就可以愉快出门了！'}]"
      ]
     },
     "execution_count": 1,
     "metadata": {},
     "output_type": "execute_result"
    }
   ],
   "source": [
    "from illufly.llm import ChatOpenAI\n",
    "from illufly.tools import ToolAgent\n",
    "from illufly.io import log, alog\n",
    "import json\n",
    "\n",
    "def get_current_weather(location: str):\n",
    "    \"\"\"获取城市的天气情况\"\"\"\n",
    "    yield f\"{location}今天是晴天。 \"\n",
    "    \n",
    "a = ChatOpenAI(tools=[ToolAgent(get_current_weather)])\n",
    "log(a, \"今天广州出门要准备什么\", verbose=True, new_chat=True)\n",
    "a.memory"
   ]
  },
  {
   "cell_type": "markdown",
   "id": "bf4054a4-8c99-4ed4-bc79-a71648051bca",
   "metadata": {},
   "source": [
    "**指定 toolkits 来运行回调函数**"
   ]
  },
  {
   "cell_type": "code",
   "execution_count": 7,
   "id": "7410b8c4-77a2-4a1e-b533-b678489c5994",
   "metadata": {},
   "outputs": [
    {
     "name": "stdout",
     "output_type": "stream",
     "text": [
      "[TOOLS_CALL_CHUNK] \u001b[32m{\"index\": 0, \"id\": \"call_3b47bee25f1b490783826a\", \"type\": \"function\", \"function\": {\"name\": \"get_current_weather\", \"arguments\": \"\"}}\u001b[0m\n",
      "[TOOLS_CALL_CHUNK] \u001b[32m{\"index\": 0, \"id\": \"\", \"type\": \"function\", \"function\": {\"arguments\": \"{\\\"location\\\": \\\"\"}}\u001b[0m\n",
      "[TOOLS_CALL_CHUNK] \u001b[32m{\"index\": 0, \"id\": \"\", \"type\": \"function\", \"function\": {\"arguments\": \"广州\\\"}\"}}\u001b[0m\n",
      "[TOOLS_CALL_CHUNK] \u001b[32m{\"index\": 0, \"id\": \"\", \"type\": \"function\", \"function\": {}}\u001b[0m\n",
      "[TOOLS_CALL_FINAL] \u001b[36m{\"0\": {\"index\": 0, \"id\": \"call_3b47bee25f1b490783826a\", \"type\": \"function\", \"function\": {\"name\": \"get_current_weather\", \"arguments\": \"{\\\"location\\\": \\\"广州\\\"}\"}}}\u001b[0m\n",
      "\u001b[32m广州今天是晴天。 \u001b[0m[INFO] \u001b[34mRequest id: 87d4bb6c-f139-9a3e-9897-02b200dac314, Status code: HTTPStatus.BAD_REQUEST, error code: InvalidParameter, error message: <400> InternalError.Algo.InvalidParameter: value is not a valid list: input.messages.1.tool_calls\u001b[0m\n"
     ]
    },
    {
     "data": {
      "text/plain": [
       "[{'role': 'user', 'content': '今天广州可以晒被子吗'},\n",
       " {'role': 'assistant',\n",
       "  'content': '',\n",
       "  'tool_calls': '{\"0\": {\"index\": 0, \"id\": \"call_3b47bee25f1b490783826a\", \"type\": \"function\", \"function\": {\"name\": \"get_current_weather\", \"arguments\": \"{\\\\\"location\\\\\": \\\\\"广州\\\\\"}\"}}}'},\n",
       " {'tool_call_id': 'call_3b47bee25f1b490783826a',\n",
       "  'role': 'tool',\n",
       "  'name': 'get_current_weather',\n",
       "  'content': '广州今天是晴天。 '}]"
      ]
     },
     "execution_count": 7,
     "metadata": {},
     "output_type": "execute_result"
    }
   ],
   "source": [
    "q = ChatQwen(tools=[Tool(get_current_weather)], exec_tool=True)\n",
    "log(q, \"今天广州可以晒被子吗\", verbose=True)\n",
    "q.memory"
   ]
  },
  {
   "cell_type": "code",
   "execution_count": 4,
   "id": "3c6024dd-05e1-4688-b62f-e379a3e89144",
   "metadata": {},
   "outputs": [
    {
     "ename": "BadRequestError",
     "evalue": "Error code: 400 - {'error': {'message': \"Invalid schema for function 'get_current_weather': 'str' is not valid under any of the given schemas. (request id: 20240917082305248266620MUH8V0oZ) (request id: 20240917082305141995393yKnDA59L) (request id: 20240917082248354626444LwcbJRAa)\", 'type': 'invalid_request_error', 'param': 'tools[0].function.parameters', 'code': 'invalid_function_parameters'}}",
     "output_type": "error",
     "traceback": [
      "\u001b[0;31m---------------------------------------------------------------------------\u001b[0m",
      "\u001b[0;31mBadRequestError\u001b[0m                           Traceback (most recent call last)",
      "Cell \u001b[0;32mIn[4], line 5\u001b[0m\n\u001b[1;32m      2\u001b[0m \u001b[38;5;28;01mfrom\u001b[39;00m \u001b[38;5;21;01millufly\u001b[39;00m\u001b[38;5;21;01m.\u001b[39;00m\u001b[38;5;21;01mio\u001b[39;00m \u001b[38;5;28;01mimport\u001b[39;00m log\n\u001b[1;32m      3\u001b[0m openai \u001b[38;5;241m=\u001b[39m ChatOpenAI(tools\u001b[38;5;241m=\u001b[39m[ToolAgent(get_current_weather)])\n\u001b[0;32m----> 5\u001b[0m \u001b[43mlog\u001b[49m\u001b[43m(\u001b[49m\u001b[43mopenai\u001b[49m\u001b[43m,\u001b[49m\u001b[43m \u001b[49m\u001b[38;5;124;43m\"\u001b[39;49m\u001b[38;5;124;43m今天广州出门要准备什么？\u001b[39;49m\u001b[38;5;124;43m\"\u001b[39;49m\u001b[43m,\u001b[49m\u001b[43m \u001b[49m\u001b[43mmodel\u001b[49m\u001b[38;5;241;43m=\u001b[39;49m\u001b[38;5;124;43m\"\u001b[39;49m\u001b[38;5;124;43mgpt-3.5-turbo\u001b[39;49m\u001b[38;5;124;43m\"\u001b[39;49m\u001b[43m,\u001b[49m\u001b[43m \u001b[49m\u001b[43mverbose\u001b[49m\u001b[38;5;241;43m=\u001b[39;49m\u001b[38;5;28;43;01mTrue\u001b[39;49;00m\u001b[43m)\u001b[49m\n",
      "File \u001b[0;32m~/github/illufly/illufly/io/log.py:41\u001b[0m, in \u001b[0;36mlog\u001b[0;34m(runnable, verbose, *args, **kwargs)\u001b[0m\n\u001b[1;32m     37\u001b[0m     \u001b[38;5;28;01mraise\u001b[39;00m \u001b[38;5;167;01mValueError\u001b[39;00m(\u001b[38;5;124m\"\u001b[39m\u001b[38;5;124mcall_obj 必须是 Runnable 实例\u001b[39m\u001b[38;5;124m\"\u001b[39m)\n\u001b[1;32m     39\u001b[0m last_block_type \u001b[38;5;241m=\u001b[39m \u001b[38;5;124m\"\u001b[39m\u001b[38;5;124m\"\u001b[39m\n\u001b[0;32m---> 41\u001b[0m \u001b[38;5;28;01mfor\u001b[39;00m block \u001b[38;5;129;01min\u001b[39;00m runnable\u001b[38;5;241m.\u001b[39mcall(\u001b[38;5;241m*\u001b[39margs, \u001b[38;5;241m*\u001b[39m\u001b[38;5;241m*\u001b[39mkwargs):\n\u001b[1;32m     42\u001b[0m     \u001b[38;5;28;01mif\u001b[39;00m \u001b[38;5;28misinstance\u001b[39m(block, TextBlock) \u001b[38;5;129;01mand\u001b[39;00m block\u001b[38;5;241m.\u001b[39mblock_type \u001b[38;5;129;01min\u001b[39;00m __NOT_PRINT_BLOCK_TYPES__:\n\u001b[1;32m     43\u001b[0m         \u001b[38;5;28;01mcontinue\u001b[39;00m\n",
      "File \u001b[0;32m~/github/illufly/illufly/agent/chat.py:119\u001b[0m, in \u001b[0;36mChatAgent.call\u001b[0;34m(self, prompt, *args, **kwargs)\u001b[0m\n\u001b[1;32m    116\u001b[0m \u001b[38;5;28;01melse\u001b[39;00m:\n\u001b[1;32m    117\u001b[0m     resp \u001b[38;5;241m=\u001b[39m \u001b[38;5;28mself\u001b[39m\u001b[38;5;241m.\u001b[39monly_chat(_prompt, \u001b[38;5;241m*\u001b[39margs, \u001b[38;5;241m*\u001b[39m\u001b[38;5;241m*\u001b[39mkwargs)\n\u001b[0;32m--> 119\u001b[0m \u001b[38;5;28;01mfor\u001b[39;00m block \u001b[38;5;129;01min\u001b[39;00m resp:\n\u001b[1;32m    120\u001b[0m     \u001b[38;5;28;01myield\u001b[39;00m block\n\u001b[1;32m    122\u001b[0m \u001b[38;5;66;03m# 补充校验的尾缀\u001b[39;00m\n",
      "File \u001b[0;32m~/github/illufly/illufly/agent/chat.py:170\u001b[0m, in \u001b[0;36mChatAgent.chat_with_tools_calling\u001b[0;34m(self, prompt, *args, **kwargs)\u001b[0m\n\u001b[1;32m    167\u001b[0m tools_call \u001b[38;5;241m=\u001b[39m []\n\u001b[1;32m    169\u001b[0m \u001b[38;5;66;03m# 大模型推理\u001b[39;00m\n\u001b[0;32m--> 170\u001b[0m \u001b[38;5;28;01mfor\u001b[39;00m block \u001b[38;5;129;01min\u001b[39;00m \u001b[38;5;28mself\u001b[39m\u001b[38;5;241m.\u001b[39mgenerate(messages, \u001b[38;5;241m*\u001b[39margs, \u001b[38;5;241m*\u001b[39m\u001b[38;5;241m*\u001b[39mkwargs):\n\u001b[1;32m    171\u001b[0m     \u001b[38;5;28;01myield\u001b[39;00m block\n\u001b[1;32m    172\u001b[0m     \u001b[38;5;28;01mif\u001b[39;00m block\u001b[38;5;241m.\u001b[39mblock_type \u001b[38;5;241m==\u001b[39m \u001b[38;5;124m\"\u001b[39m\u001b[38;5;124mchunk\u001b[39m\u001b[38;5;124m\"\u001b[39m:\n",
      "File \u001b[0;32m~/github/illufly/illufly/community/openai/chat.py:42\u001b[0m, in \u001b[0;36mChatOpenAI.generate\u001b[0;34m(self, messages, *args, **kwargs)\u001b[0m\n\u001b[1;32m     35\u001b[0m _kwargs\u001b[38;5;241m.\u001b[39mupdate({\n\u001b[1;32m     36\u001b[0m     \u001b[38;5;124m\"\u001b[39m\u001b[38;5;124mmessages\u001b[39m\u001b[38;5;124m\"\u001b[39m: messages,\n\u001b[1;32m     37\u001b[0m     \u001b[38;5;124m\"\u001b[39m\u001b[38;5;124mtools\u001b[39m\u001b[38;5;124m\"\u001b[39m: tools_desc,\n\u001b[1;32m     38\u001b[0m     \u001b[38;5;241m*\u001b[39m\u001b[38;5;241m*\u001b[39mkwargs\n\u001b[1;32m     39\u001b[0m })\n\u001b[1;32m     41\u001b[0m client \u001b[38;5;241m=\u001b[39m OpenAI(\u001b[38;5;241m*\u001b[39m\u001b[38;5;241m*\u001b[39m\u001b[38;5;28mself\u001b[39m\u001b[38;5;241m.\u001b[39mmodel_args)\n\u001b[0;32m---> 42\u001b[0m completion \u001b[38;5;241m=\u001b[39m \u001b[43mclient\u001b[49m\u001b[38;5;241;43m.\u001b[39;49m\u001b[43mchat\u001b[49m\u001b[38;5;241;43m.\u001b[39;49m\u001b[43mcompletions\u001b[49m\u001b[38;5;241;43m.\u001b[39;49m\u001b[43mcreate\u001b[49m\u001b[43m(\u001b[49m\u001b[38;5;241;43m*\u001b[39;49m\u001b[38;5;241;43m*\u001b[39;49m\u001b[43m_kwargs\u001b[49m\u001b[43m)\u001b[49m\n\u001b[1;32m     44\u001b[0m \u001b[38;5;28;01mfor\u001b[39;00m response \u001b[38;5;129;01min\u001b[39;00m completion:\n\u001b[1;32m     45\u001b[0m     \u001b[38;5;28;01mif\u001b[39;00m response\u001b[38;5;241m.\u001b[39mchoices:\n",
      "File \u001b[0;32m~/.pyenv/versions/3.10.0/lib/python3.10/site-packages/openai/_utils/_utils.py:277\u001b[0m, in \u001b[0;36mrequired_args.<locals>.inner.<locals>.wrapper\u001b[0;34m(*args, **kwargs)\u001b[0m\n\u001b[1;32m    275\u001b[0m             msg \u001b[38;5;241m=\u001b[39m \u001b[38;5;124mf\u001b[39m\u001b[38;5;124m\"\u001b[39m\u001b[38;5;124mMissing required argument: \u001b[39m\u001b[38;5;132;01m{\u001b[39;00mquote(missing[\u001b[38;5;241m0\u001b[39m])\u001b[38;5;132;01m}\u001b[39;00m\u001b[38;5;124m\"\u001b[39m\n\u001b[1;32m    276\u001b[0m     \u001b[38;5;28;01mraise\u001b[39;00m \u001b[38;5;167;01mTypeError\u001b[39;00m(msg)\n\u001b[0;32m--> 277\u001b[0m \u001b[38;5;28;01mreturn\u001b[39;00m \u001b[43mfunc\u001b[49m\u001b[43m(\u001b[49m\u001b[38;5;241;43m*\u001b[39;49m\u001b[43margs\u001b[49m\u001b[43m,\u001b[49m\u001b[43m \u001b[49m\u001b[38;5;241;43m*\u001b[39;49m\u001b[38;5;241;43m*\u001b[39;49m\u001b[43mkwargs\u001b[49m\u001b[43m)\u001b[49m\n",
      "File \u001b[0;32m~/.pyenv/versions/3.10.0/lib/python3.10/site-packages/openai/resources/chat/completions.py:643\u001b[0m, in \u001b[0;36mCompletions.create\u001b[0;34m(self, messages, model, frequency_penalty, function_call, functions, logit_bias, logprobs, max_tokens, n, parallel_tool_calls, presence_penalty, response_format, seed, service_tier, stop, stream, stream_options, temperature, tool_choice, tools, top_logprobs, top_p, user, extra_headers, extra_query, extra_body, timeout)\u001b[0m\n\u001b[1;32m    609\u001b[0m \u001b[38;5;129m@required_args\u001b[39m([\u001b[38;5;124m\"\u001b[39m\u001b[38;5;124mmessages\u001b[39m\u001b[38;5;124m\"\u001b[39m, \u001b[38;5;124m\"\u001b[39m\u001b[38;5;124mmodel\u001b[39m\u001b[38;5;124m\"\u001b[39m], [\u001b[38;5;124m\"\u001b[39m\u001b[38;5;124mmessages\u001b[39m\u001b[38;5;124m\"\u001b[39m, \u001b[38;5;124m\"\u001b[39m\u001b[38;5;124mmodel\u001b[39m\u001b[38;5;124m\"\u001b[39m, \u001b[38;5;124m\"\u001b[39m\u001b[38;5;124mstream\u001b[39m\u001b[38;5;124m\"\u001b[39m])\n\u001b[1;32m    610\u001b[0m \u001b[38;5;28;01mdef\u001b[39;00m \u001b[38;5;21mcreate\u001b[39m(\n\u001b[1;32m    611\u001b[0m     \u001b[38;5;28mself\u001b[39m,\n\u001b[0;32m   (...)\u001b[0m\n\u001b[1;32m    641\u001b[0m     timeout: \u001b[38;5;28mfloat\u001b[39m \u001b[38;5;241m|\u001b[39m httpx\u001b[38;5;241m.\u001b[39mTimeout \u001b[38;5;241m|\u001b[39m \u001b[38;5;28;01mNone\u001b[39;00m \u001b[38;5;241m|\u001b[39m NotGiven \u001b[38;5;241m=\u001b[39m NOT_GIVEN,\n\u001b[1;32m    642\u001b[0m ) \u001b[38;5;241m-\u001b[39m\u001b[38;5;241m>\u001b[39m ChatCompletion \u001b[38;5;241m|\u001b[39m Stream[ChatCompletionChunk]:\n\u001b[0;32m--> 643\u001b[0m     \u001b[38;5;28;01mreturn\u001b[39;00m \u001b[38;5;28;43mself\u001b[39;49m\u001b[38;5;241;43m.\u001b[39;49m\u001b[43m_post\u001b[49m\u001b[43m(\u001b[49m\n\u001b[1;32m    644\u001b[0m \u001b[43m        \u001b[49m\u001b[38;5;124;43m\"\u001b[39;49m\u001b[38;5;124;43m/chat/completions\u001b[39;49m\u001b[38;5;124;43m\"\u001b[39;49m\u001b[43m,\u001b[49m\n\u001b[1;32m    645\u001b[0m \u001b[43m        \u001b[49m\u001b[43mbody\u001b[49m\u001b[38;5;241;43m=\u001b[39;49m\u001b[43mmaybe_transform\u001b[49m\u001b[43m(\u001b[49m\n\u001b[1;32m    646\u001b[0m \u001b[43m            \u001b[49m\u001b[43m{\u001b[49m\n\u001b[1;32m    647\u001b[0m \u001b[43m                \u001b[49m\u001b[38;5;124;43m\"\u001b[39;49m\u001b[38;5;124;43mmessages\u001b[39;49m\u001b[38;5;124;43m\"\u001b[39;49m\u001b[43m:\u001b[49m\u001b[43m \u001b[49m\u001b[43mmessages\u001b[49m\u001b[43m,\u001b[49m\n\u001b[1;32m    648\u001b[0m \u001b[43m                \u001b[49m\u001b[38;5;124;43m\"\u001b[39;49m\u001b[38;5;124;43mmodel\u001b[39;49m\u001b[38;5;124;43m\"\u001b[39;49m\u001b[43m:\u001b[49m\u001b[43m \u001b[49m\u001b[43mmodel\u001b[49m\u001b[43m,\u001b[49m\n\u001b[1;32m    649\u001b[0m \u001b[43m                \u001b[49m\u001b[38;5;124;43m\"\u001b[39;49m\u001b[38;5;124;43mfrequency_penalty\u001b[39;49m\u001b[38;5;124;43m\"\u001b[39;49m\u001b[43m:\u001b[49m\u001b[43m \u001b[49m\u001b[43mfrequency_penalty\u001b[49m\u001b[43m,\u001b[49m\n\u001b[1;32m    650\u001b[0m \u001b[43m                \u001b[49m\u001b[38;5;124;43m\"\u001b[39;49m\u001b[38;5;124;43mfunction_call\u001b[39;49m\u001b[38;5;124;43m\"\u001b[39;49m\u001b[43m:\u001b[49m\u001b[43m \u001b[49m\u001b[43mfunction_call\u001b[49m\u001b[43m,\u001b[49m\n\u001b[1;32m    651\u001b[0m \u001b[43m                \u001b[49m\u001b[38;5;124;43m\"\u001b[39;49m\u001b[38;5;124;43mfunctions\u001b[39;49m\u001b[38;5;124;43m\"\u001b[39;49m\u001b[43m:\u001b[49m\u001b[43m \u001b[49m\u001b[43mfunctions\u001b[49m\u001b[43m,\u001b[49m\n\u001b[1;32m    652\u001b[0m \u001b[43m                \u001b[49m\u001b[38;5;124;43m\"\u001b[39;49m\u001b[38;5;124;43mlogit_bias\u001b[39;49m\u001b[38;5;124;43m\"\u001b[39;49m\u001b[43m:\u001b[49m\u001b[43m \u001b[49m\u001b[43mlogit_bias\u001b[49m\u001b[43m,\u001b[49m\n\u001b[1;32m    653\u001b[0m \u001b[43m                \u001b[49m\u001b[38;5;124;43m\"\u001b[39;49m\u001b[38;5;124;43mlogprobs\u001b[39;49m\u001b[38;5;124;43m\"\u001b[39;49m\u001b[43m:\u001b[49m\u001b[43m \u001b[49m\u001b[43mlogprobs\u001b[49m\u001b[43m,\u001b[49m\n\u001b[1;32m    654\u001b[0m \u001b[43m                \u001b[49m\u001b[38;5;124;43m\"\u001b[39;49m\u001b[38;5;124;43mmax_tokens\u001b[39;49m\u001b[38;5;124;43m\"\u001b[39;49m\u001b[43m:\u001b[49m\u001b[43m \u001b[49m\u001b[43mmax_tokens\u001b[49m\u001b[43m,\u001b[49m\n\u001b[1;32m    655\u001b[0m \u001b[43m                \u001b[49m\u001b[38;5;124;43m\"\u001b[39;49m\u001b[38;5;124;43mn\u001b[39;49m\u001b[38;5;124;43m\"\u001b[39;49m\u001b[43m:\u001b[49m\u001b[43m \u001b[49m\u001b[43mn\u001b[49m\u001b[43m,\u001b[49m\n\u001b[1;32m    656\u001b[0m \u001b[43m                \u001b[49m\u001b[38;5;124;43m\"\u001b[39;49m\u001b[38;5;124;43mparallel_tool_calls\u001b[39;49m\u001b[38;5;124;43m\"\u001b[39;49m\u001b[43m:\u001b[49m\u001b[43m \u001b[49m\u001b[43mparallel_tool_calls\u001b[49m\u001b[43m,\u001b[49m\n\u001b[1;32m    657\u001b[0m \u001b[43m                \u001b[49m\u001b[38;5;124;43m\"\u001b[39;49m\u001b[38;5;124;43mpresence_penalty\u001b[39;49m\u001b[38;5;124;43m\"\u001b[39;49m\u001b[43m:\u001b[49m\u001b[43m \u001b[49m\u001b[43mpresence_penalty\u001b[49m\u001b[43m,\u001b[49m\n\u001b[1;32m    658\u001b[0m \u001b[43m                \u001b[49m\u001b[38;5;124;43m\"\u001b[39;49m\u001b[38;5;124;43mresponse_format\u001b[39;49m\u001b[38;5;124;43m\"\u001b[39;49m\u001b[43m:\u001b[49m\u001b[43m \u001b[49m\u001b[43mresponse_format\u001b[49m\u001b[43m,\u001b[49m\n\u001b[1;32m    659\u001b[0m \u001b[43m                \u001b[49m\u001b[38;5;124;43m\"\u001b[39;49m\u001b[38;5;124;43mseed\u001b[39;49m\u001b[38;5;124;43m\"\u001b[39;49m\u001b[43m:\u001b[49m\u001b[43m \u001b[49m\u001b[43mseed\u001b[49m\u001b[43m,\u001b[49m\n\u001b[1;32m    660\u001b[0m \u001b[43m                \u001b[49m\u001b[38;5;124;43m\"\u001b[39;49m\u001b[38;5;124;43mservice_tier\u001b[39;49m\u001b[38;5;124;43m\"\u001b[39;49m\u001b[43m:\u001b[49m\u001b[43m \u001b[49m\u001b[43mservice_tier\u001b[49m\u001b[43m,\u001b[49m\n\u001b[1;32m    661\u001b[0m \u001b[43m                \u001b[49m\u001b[38;5;124;43m\"\u001b[39;49m\u001b[38;5;124;43mstop\u001b[39;49m\u001b[38;5;124;43m\"\u001b[39;49m\u001b[43m:\u001b[49m\u001b[43m \u001b[49m\u001b[43mstop\u001b[49m\u001b[43m,\u001b[49m\n\u001b[1;32m    662\u001b[0m \u001b[43m                \u001b[49m\u001b[38;5;124;43m\"\u001b[39;49m\u001b[38;5;124;43mstream\u001b[39;49m\u001b[38;5;124;43m\"\u001b[39;49m\u001b[43m:\u001b[49m\u001b[43m \u001b[49m\u001b[43mstream\u001b[49m\u001b[43m,\u001b[49m\n\u001b[1;32m    663\u001b[0m \u001b[43m                \u001b[49m\u001b[38;5;124;43m\"\u001b[39;49m\u001b[38;5;124;43mstream_options\u001b[39;49m\u001b[38;5;124;43m\"\u001b[39;49m\u001b[43m:\u001b[49m\u001b[43m \u001b[49m\u001b[43mstream_options\u001b[49m\u001b[43m,\u001b[49m\n\u001b[1;32m    664\u001b[0m \u001b[43m                \u001b[49m\u001b[38;5;124;43m\"\u001b[39;49m\u001b[38;5;124;43mtemperature\u001b[39;49m\u001b[38;5;124;43m\"\u001b[39;49m\u001b[43m:\u001b[49m\u001b[43m \u001b[49m\u001b[43mtemperature\u001b[49m\u001b[43m,\u001b[49m\n\u001b[1;32m    665\u001b[0m \u001b[43m                \u001b[49m\u001b[38;5;124;43m\"\u001b[39;49m\u001b[38;5;124;43mtool_choice\u001b[39;49m\u001b[38;5;124;43m\"\u001b[39;49m\u001b[43m:\u001b[49m\u001b[43m \u001b[49m\u001b[43mtool_choice\u001b[49m\u001b[43m,\u001b[49m\n\u001b[1;32m    666\u001b[0m \u001b[43m                \u001b[49m\u001b[38;5;124;43m\"\u001b[39;49m\u001b[38;5;124;43mtools\u001b[39;49m\u001b[38;5;124;43m\"\u001b[39;49m\u001b[43m:\u001b[49m\u001b[43m \u001b[49m\u001b[43mtools\u001b[49m\u001b[43m,\u001b[49m\n\u001b[1;32m    667\u001b[0m \u001b[43m                \u001b[49m\u001b[38;5;124;43m\"\u001b[39;49m\u001b[38;5;124;43mtop_logprobs\u001b[39;49m\u001b[38;5;124;43m\"\u001b[39;49m\u001b[43m:\u001b[49m\u001b[43m \u001b[49m\u001b[43mtop_logprobs\u001b[49m\u001b[43m,\u001b[49m\n\u001b[1;32m    668\u001b[0m \u001b[43m                \u001b[49m\u001b[38;5;124;43m\"\u001b[39;49m\u001b[38;5;124;43mtop_p\u001b[39;49m\u001b[38;5;124;43m\"\u001b[39;49m\u001b[43m:\u001b[49m\u001b[43m \u001b[49m\u001b[43mtop_p\u001b[49m\u001b[43m,\u001b[49m\n\u001b[1;32m    669\u001b[0m \u001b[43m                \u001b[49m\u001b[38;5;124;43m\"\u001b[39;49m\u001b[38;5;124;43muser\u001b[39;49m\u001b[38;5;124;43m\"\u001b[39;49m\u001b[43m:\u001b[49m\u001b[43m \u001b[49m\u001b[43muser\u001b[49m\u001b[43m,\u001b[49m\n\u001b[1;32m    670\u001b[0m \u001b[43m            \u001b[49m\u001b[43m}\u001b[49m\u001b[43m,\u001b[49m\n\u001b[1;32m    671\u001b[0m \u001b[43m            \u001b[49m\u001b[43mcompletion_create_params\u001b[49m\u001b[38;5;241;43m.\u001b[39;49m\u001b[43mCompletionCreateParams\u001b[49m\u001b[43m,\u001b[49m\n\u001b[1;32m    672\u001b[0m \u001b[43m        \u001b[49m\u001b[43m)\u001b[49m\u001b[43m,\u001b[49m\n\u001b[1;32m    673\u001b[0m \u001b[43m        \u001b[49m\u001b[43moptions\u001b[49m\u001b[38;5;241;43m=\u001b[39;49m\u001b[43mmake_request_options\u001b[49m\u001b[43m(\u001b[49m\n\u001b[1;32m    674\u001b[0m \u001b[43m            \u001b[49m\u001b[43mextra_headers\u001b[49m\u001b[38;5;241;43m=\u001b[39;49m\u001b[43mextra_headers\u001b[49m\u001b[43m,\u001b[49m\u001b[43m \u001b[49m\u001b[43mextra_query\u001b[49m\u001b[38;5;241;43m=\u001b[39;49m\u001b[43mextra_query\u001b[49m\u001b[43m,\u001b[49m\u001b[43m \u001b[49m\u001b[43mextra_body\u001b[49m\u001b[38;5;241;43m=\u001b[39;49m\u001b[43mextra_body\u001b[49m\u001b[43m,\u001b[49m\u001b[43m \u001b[49m\u001b[43mtimeout\u001b[49m\u001b[38;5;241;43m=\u001b[39;49m\u001b[43mtimeout\u001b[49m\n\u001b[1;32m    675\u001b[0m \u001b[43m        \u001b[49m\u001b[43m)\u001b[49m\u001b[43m,\u001b[49m\n\u001b[1;32m    676\u001b[0m \u001b[43m        \u001b[49m\u001b[43mcast_to\u001b[49m\u001b[38;5;241;43m=\u001b[39;49m\u001b[43mChatCompletion\u001b[49m\u001b[43m,\u001b[49m\n\u001b[1;32m    677\u001b[0m \u001b[43m        \u001b[49m\u001b[43mstream\u001b[49m\u001b[38;5;241;43m=\u001b[39;49m\u001b[43mstream\u001b[49m\u001b[43m \u001b[49m\u001b[38;5;129;43;01mor\u001b[39;49;00m\u001b[43m \u001b[49m\u001b[38;5;28;43;01mFalse\u001b[39;49;00m\u001b[43m,\u001b[49m\n\u001b[1;32m    678\u001b[0m \u001b[43m        \u001b[49m\u001b[43mstream_cls\u001b[49m\u001b[38;5;241;43m=\u001b[39;49m\u001b[43mStream\u001b[49m\u001b[43m[\u001b[49m\u001b[43mChatCompletionChunk\u001b[49m\u001b[43m]\u001b[49m\u001b[43m,\u001b[49m\n\u001b[1;32m    679\u001b[0m \u001b[43m    \u001b[49m\u001b[43m)\u001b[49m\n",
      "File \u001b[0;32m~/.pyenv/versions/3.10.0/lib/python3.10/site-packages/openai/_base_client.py:1266\u001b[0m, in \u001b[0;36mSyncAPIClient.post\u001b[0;34m(self, path, cast_to, body, options, files, stream, stream_cls)\u001b[0m\n\u001b[1;32m   1252\u001b[0m \u001b[38;5;28;01mdef\u001b[39;00m \u001b[38;5;21mpost\u001b[39m(\n\u001b[1;32m   1253\u001b[0m     \u001b[38;5;28mself\u001b[39m,\n\u001b[1;32m   1254\u001b[0m     path: \u001b[38;5;28mstr\u001b[39m,\n\u001b[0;32m   (...)\u001b[0m\n\u001b[1;32m   1261\u001b[0m     stream_cls: \u001b[38;5;28mtype\u001b[39m[_StreamT] \u001b[38;5;241m|\u001b[39m \u001b[38;5;28;01mNone\u001b[39;00m \u001b[38;5;241m=\u001b[39m \u001b[38;5;28;01mNone\u001b[39;00m,\n\u001b[1;32m   1262\u001b[0m ) \u001b[38;5;241m-\u001b[39m\u001b[38;5;241m>\u001b[39m ResponseT \u001b[38;5;241m|\u001b[39m _StreamT:\n\u001b[1;32m   1263\u001b[0m     opts \u001b[38;5;241m=\u001b[39m FinalRequestOptions\u001b[38;5;241m.\u001b[39mconstruct(\n\u001b[1;32m   1264\u001b[0m         method\u001b[38;5;241m=\u001b[39m\u001b[38;5;124m\"\u001b[39m\u001b[38;5;124mpost\u001b[39m\u001b[38;5;124m\"\u001b[39m, url\u001b[38;5;241m=\u001b[39mpath, json_data\u001b[38;5;241m=\u001b[39mbody, files\u001b[38;5;241m=\u001b[39mto_httpx_files(files), \u001b[38;5;241m*\u001b[39m\u001b[38;5;241m*\u001b[39moptions\n\u001b[1;32m   1265\u001b[0m     )\n\u001b[0;32m-> 1266\u001b[0m     \u001b[38;5;28;01mreturn\u001b[39;00m cast(ResponseT, \u001b[38;5;28;43mself\u001b[39;49m\u001b[38;5;241;43m.\u001b[39;49m\u001b[43mrequest\u001b[49m\u001b[43m(\u001b[49m\u001b[43mcast_to\u001b[49m\u001b[43m,\u001b[49m\u001b[43m \u001b[49m\u001b[43mopts\u001b[49m\u001b[43m,\u001b[49m\u001b[43m \u001b[49m\u001b[43mstream\u001b[49m\u001b[38;5;241;43m=\u001b[39;49m\u001b[43mstream\u001b[49m\u001b[43m,\u001b[49m\u001b[43m \u001b[49m\u001b[43mstream_cls\u001b[49m\u001b[38;5;241;43m=\u001b[39;49m\u001b[43mstream_cls\u001b[49m\u001b[43m)\u001b[49m)\n",
      "File \u001b[0;32m~/.pyenv/versions/3.10.0/lib/python3.10/site-packages/openai/_base_client.py:942\u001b[0m, in \u001b[0;36mSyncAPIClient.request\u001b[0;34m(self, cast_to, options, remaining_retries, stream, stream_cls)\u001b[0m\n\u001b[1;32m    933\u001b[0m \u001b[38;5;28;01mdef\u001b[39;00m \u001b[38;5;21mrequest\u001b[39m(\n\u001b[1;32m    934\u001b[0m     \u001b[38;5;28mself\u001b[39m,\n\u001b[1;32m    935\u001b[0m     cast_to: Type[ResponseT],\n\u001b[0;32m   (...)\u001b[0m\n\u001b[1;32m    940\u001b[0m     stream_cls: \u001b[38;5;28mtype\u001b[39m[_StreamT] \u001b[38;5;241m|\u001b[39m \u001b[38;5;28;01mNone\u001b[39;00m \u001b[38;5;241m=\u001b[39m \u001b[38;5;28;01mNone\u001b[39;00m,\n\u001b[1;32m    941\u001b[0m ) \u001b[38;5;241m-\u001b[39m\u001b[38;5;241m>\u001b[39m ResponseT \u001b[38;5;241m|\u001b[39m _StreamT:\n\u001b[0;32m--> 942\u001b[0m     \u001b[38;5;28;01mreturn\u001b[39;00m \u001b[38;5;28;43mself\u001b[39;49m\u001b[38;5;241;43m.\u001b[39;49m\u001b[43m_request\u001b[49m\u001b[43m(\u001b[49m\n\u001b[1;32m    943\u001b[0m \u001b[43m        \u001b[49m\u001b[43mcast_to\u001b[49m\u001b[38;5;241;43m=\u001b[39;49m\u001b[43mcast_to\u001b[49m\u001b[43m,\u001b[49m\n\u001b[1;32m    944\u001b[0m \u001b[43m        \u001b[49m\u001b[43moptions\u001b[49m\u001b[38;5;241;43m=\u001b[39;49m\u001b[43moptions\u001b[49m\u001b[43m,\u001b[49m\n\u001b[1;32m    945\u001b[0m \u001b[43m        \u001b[49m\u001b[43mstream\u001b[49m\u001b[38;5;241;43m=\u001b[39;49m\u001b[43mstream\u001b[49m\u001b[43m,\u001b[49m\n\u001b[1;32m    946\u001b[0m \u001b[43m        \u001b[49m\u001b[43mstream_cls\u001b[49m\u001b[38;5;241;43m=\u001b[39;49m\u001b[43mstream_cls\u001b[49m\u001b[43m,\u001b[49m\n\u001b[1;32m    947\u001b[0m \u001b[43m        \u001b[49m\u001b[43mremaining_retries\u001b[49m\u001b[38;5;241;43m=\u001b[39;49m\u001b[43mremaining_retries\u001b[49m\u001b[43m,\u001b[49m\n\u001b[1;32m    948\u001b[0m \u001b[43m    \u001b[49m\u001b[43m)\u001b[49m\n",
      "File \u001b[0;32m~/.pyenv/versions/3.10.0/lib/python3.10/site-packages/openai/_base_client.py:1046\u001b[0m, in \u001b[0;36mSyncAPIClient._request\u001b[0;34m(self, cast_to, options, remaining_retries, stream, stream_cls)\u001b[0m\n\u001b[1;32m   1043\u001b[0m         err\u001b[38;5;241m.\u001b[39mresponse\u001b[38;5;241m.\u001b[39mread()\n\u001b[1;32m   1045\u001b[0m     log\u001b[38;5;241m.\u001b[39mdebug(\u001b[38;5;124m\"\u001b[39m\u001b[38;5;124mRe-raising status error\u001b[39m\u001b[38;5;124m\"\u001b[39m)\n\u001b[0;32m-> 1046\u001b[0m     \u001b[38;5;28;01mraise\u001b[39;00m \u001b[38;5;28mself\u001b[39m\u001b[38;5;241m.\u001b[39m_make_status_error_from_response(err\u001b[38;5;241m.\u001b[39mresponse) \u001b[38;5;28;01mfrom\u001b[39;00m \u001b[38;5;28;01mNone\u001b[39;00m\n\u001b[1;32m   1048\u001b[0m \u001b[38;5;28;01mreturn\u001b[39;00m \u001b[38;5;28mself\u001b[39m\u001b[38;5;241m.\u001b[39m_process_response(\n\u001b[1;32m   1049\u001b[0m     cast_to\u001b[38;5;241m=\u001b[39mcast_to,\n\u001b[1;32m   1050\u001b[0m     options\u001b[38;5;241m=\u001b[39moptions,\n\u001b[0;32m   (...)\u001b[0m\n\u001b[1;32m   1053\u001b[0m     stream_cls\u001b[38;5;241m=\u001b[39mstream_cls,\n\u001b[1;32m   1054\u001b[0m )\n",
      "\u001b[0;31mBadRequestError\u001b[0m: Error code: 400 - {'error': {'message': \"Invalid schema for function 'get_current_weather': 'str' is not valid under any of the given schemas. (request id: 20240917082305248266620MUH8V0oZ) (request id: 20240917082305141995393yKnDA59L) (request id: 20240917082248354626444LwcbJRAa)\", 'type': 'invalid_request_error', 'param': 'tools[0].function.parameters', 'code': 'invalid_function_parameters'}}"
     ]
    }
   ],
   "source": [
    "from illufly import ChatOpenAI, ToolAgent\n",
    "from illufly.io import log\n",
    "openai = ChatOpenAI(tools=[ToolAgent(get_current_weather)])\n",
    "\n",
    "log(openai, \"今天广州出门要准备什么？\", model=\"gpt-3.5-turbo\", verbose=True)"
   ]
  },
  {
   "cell_type": "markdown",
   "id": "57373ba5-19d6-4a9a-a744-3b485a272164",
   "metadata": {},
   "source": [
    "### 智谱AI"
   ]
  },
  {
   "cell_type": "code",
   "execution_count": 5,
   "id": "5312c9e9-9ab8-4a48-bfc8-c75fcb01631c",
   "metadata": {},
   "outputs": [
    {
     "name": "stdout",
     "output_type": "stream",
     "text": [
      "\u001b[32m当然\u001b[0m\u001b[32m可以\u001b[0m\u001b[32m！\u001b[0m\u001b[32m以下\u001b[0m\u001b[32m是一\u001b[0m\u001b[32m首\u001b[0m\u001b[32m关于\u001b[0m\u001b[32m兔子\u001b[0m\u001b[32m做梦\u001b[0m\u001b[32m的四\u001b[0m\u001b[32m句\u001b[0m\u001b[32m儿\u001b[0m\u001b[32m歌\u001b[0m\u001b[32m：\n",
      "\n",
      "梦里\u001b[0m\u001b[32m花\u001b[0m\u001b[32m丛\u001b[0m\u001b[32m兔子\u001b[0m\u001b[32m跳\u001b[0m\u001b[32m，\n",
      "彩虹\u001b[0m\u001b[32m桥\u001b[0m\u001b[32m上\u001b[0m\u001b[32m追逐\u001b[0m\u001b[32m跑\u001b[0m\u001b[32m。\n",
      "星\u001b[0m\u001b[32m河\u001b[0m\u001b[32m闪烁\u001b[0m\u001b[32m梦中\u001b[0m\u001b[32m游\u001b[0m\u001b[32m，\n",
      "甜蜜\u001b[0m\u001b[32m梦境\u001b[0m\u001b[32m伴\u001b[0m\u001b[32m夜\u001b[0m\u001b[32m长\u001b[0m\u001b[32m。\u001b[0m\n",
      "\n"
     ]
    },
    {
     "data": {
      "text/plain": [
       "'当然可以！以下是一首关于兔子做梦的四句儿歌：\\n\\n梦里花丛兔子跳，\\n彩虹桥上追逐跑。\\n星河闪烁梦中游，\\n甜蜜梦境伴夜长。'"
      ]
     },
     "execution_count": 5,
     "metadata": {},
     "output_type": "execute_result"
    }
   ],
   "source": [
    "from illufly import ChatZhipu\n",
    "from illufly.io import log, alog\n",
    "\n",
    "zhipu = ChatZhipu()\n",
    "log(\n",
    "    zhipu,\n",
    "    \"你能帮我写一首关于兔子做梦的四句儿歌?\",\n",
    "    model=\"glm-4-flash\"\n",
    ")"
   ]
  },
  {
   "cell_type": "code",
   "execution_count": 9,
   "id": "32aa8a2d-bf55-4b4e-9962-8125e56b7649",
   "metadata": {},
   "outputs": [
    {
     "name": "stdout",
     "output_type": "stream",
     "text": [
      "\u001b[32m小白\u001b[0m\u001b[32m兔\u001b[0m\u001b[32m儿\u001b[0m\u001b[32m入\u001b[0m\u001b[32m梦\u001b[0m\u001b[32m乡\u001b[0m\u001b[32m，\n",
      "梦中\u001b[0m\u001b[32m草原\u001b[0m\u001b[32m绿\u001b[0m\u001b[32m意\u001b[0m\u001b[32m长\u001b[0m\u001b[32m，\n",
      "风\u001b[0m\u001b[32m儿\u001b[0m\u001b[32m轻\u001b[0m\u001b[32m拂\u001b[0m\u001b[32m吹\u001b[0m\u001b[32m梦\u001b[0m\u001b[32m乡\u001b[0m\u001b[32m，\n",
      "星星\u001b[0m\u001b[32m点点\u001b[0m\u001b[32m伴\u001b[0m\u001b[32m兔\u001b[0m\u001b[32m行\u001b[0m\u001b[32m，\n",
      "彩虹\u001b[0m\u001b[32m桥\u001b[0m\u001b[32m上\u001b[0m\u001b[32m跳跃\u001b[0m\u001b[32m起\u001b[0m\u001b[32m，\n",
      "花\u001b[0m\u001b[32m丛\u001b[0m\u001b[32m深处\u001b[0m\u001b[32m笑声\u001b[0m\u001b[32m扬\u001b[0m\u001b[32m，\n",
      "醒来\u001b[0m\u001b[32m阳光\u001b[0m\u001b[32m洒\u001b[0m\u001b[32m窗\u001b[0m\u001b[32m前\u001b[0m\u001b[32m，\n",
      "梦境\u001b[0m\u001b[32m美好\u001b[0m\u001b[32m心中\u001b[0m\u001b[32m藏\u001b[0m\u001b[32m。\u001b[0m\n",
      "\n"
     ]
    },
    {
     "data": {
      "text/plain": [
       "'小白兔儿入梦乡，\\n梦中草原绿意长，\\n风儿轻拂吹梦乡，\\n星星点点伴兔行，\\n彩虹桥上跳跃起，\\n花丛深处笑声扬，\\n醒来阳光洒窗前，\\n梦境美好心中藏。'"
      ]
     },
     "execution_count": 9,
     "metadata": {},
     "output_type": "execute_result"
    }
   ],
   "source": [
    "await alog(zhipu, \"能改为6句？\")"
   ]
  },
  {
   "cell_type": "code",
   "execution_count": 10,
   "id": "4ed261db-32e1-4a14-8dc4-80fa64bb7251",
   "metadata": {},
   "outputs": [
    {
     "data": {
      "text/plain": [
       "[{'role': 'user', 'content': '你能帮我写一首关于兔子做梦的四句儿歌?'},\n",
       " {'role': 'assistant', 'content': '小白兔儿梦飞翔，\\n碧绿草丛绕身旁。\\n月儿弯弯照梦境，\\n梦中花海笑颜开。'},\n",
       " {'role': 'user', 'content': '能改为6句？'},\n",
       " {'role': 'assistant',\n",
       "  'content': '小白兔儿入梦乡，\\n梦中草原绿意长，\\n风儿轻拂吹梦乡，\\n星星点点伴兔行，\\n彩虹桥上跳跃起，\\n花丛深处笑声扬，\\n醒来阳光洒窗前，\\n梦境美好心中藏。'}]"
      ]
     },
     "execution_count": 10,
     "metadata": {},
     "output_type": "execute_result"
    }
   ],
   "source": [
    "zhipu.memory"
   ]
  },
  {
   "cell_type": "code",
   "execution_count": 11,
   "id": "fed97be4-2b81-4b8d-ac2c-4877219f73ce",
   "metadata": {},
   "outputs": [
    {
     "data": {
      "text/plain": [
       "'{\"0\": {\"index\": 0, \"id\": \"call_20240914141003c9258a74982b4e76\", \"type\": \"function\", \"function\": {\"name\": \"get_current_weather\", \"arguments\": \"{\\\\\"location\\\\\":\\\\\"Guangzhou\\\\\"}\"}}}'"
      ]
     },
     "execution_count": 11,
     "metadata": {},
     "output_type": "execute_result"
    }
   ],
   "source": [
    "from illufly.tools import tool, convert_to_openai_tool\n",
    "from illufly.agent import ChatZhipu\n",
    "from illufly.io import alog\n",
    "import json\n",
    "\n",
    "@tool\n",
    "def get_current_weather(location: str):\n",
    "    \"\"\"获取城市的天气情况\"\"\"\n",
    "    return f\"{location}今天是晴天。 \"\n",
    "\n",
    "await alog(\n",
    "    ChatZhipu(),\n",
    "    \"今天广州天气如何啊\",\n",
    "    tools=[convert_to_openai_tool(get_current_weather)],\n",
    "    model=\"glm-4\"\n",
    ")"
   ]
  },
  {
   "cell_type": "code",
   "execution_count": 12,
   "id": "8a55177d-b973-46bc-81be-96b1e5e87cbd",
   "metadata": {},
   "outputs": [
    {
     "name": "stdout",
     "output_type": "stream",
     "text": [
      "\u001b[32mG\u001b[0m\u001b[32mu\u001b[0m\u001b[32ma\u001b[0m\u001b[32mn\u001b[0m\u001b[32mg\u001b[0m\u001b[32mz\u001b[0m\u001b[32mh\u001b[0m\u001b[32mo\u001b[0m\u001b[32mu\u001b[0m\u001b[32m今\u001b[0m\u001b[32m天\u001b[0m\u001b[32m是\u001b[0m\u001b[32m晴\u001b[0m\u001b[32m天\u001b[0m\u001b[32m。\u001b[0m\u001b[32m \u001b[0m\n",
      "\n",
      "\u001b[32m根据\u001b[0m\u001b[32mAPI\u001b[0m\u001b[32m返回\u001b[0m\u001b[32m的结果\u001b[0m\u001b[32m，\u001b[0m\u001b[32mGu\u001b[0m\u001b[32mang\u001b[0m\u001b[32mzhou\u001b[0m\u001b[32m今天是\u001b[0m\u001b[32m晴天\u001b[0m\u001b[32m，\u001b[0m\u001b[32m所以\u001b[0m\u001b[32m不需要\u001b[0m\u001b[32m带\u001b[0m\u001b[32m雨\u001b[0m\u001b[32m具\u001b[0m\u001b[32m。\u001b[0m\n",
      "\n"
     ]
    },
    {
     "data": {
      "text/plain": [
       "'{\"0\": {\"index\": 0, \"id\": \"call_20240914141003a6b41109d0b34137\", \"type\": \"function\", \"function\": {\"name\": \"get_current_weather\", \"arguments\": \"{\\\\\"location\\\\\":\\\\\"Guangzhou\\\\\"}\"}}}根据API返回的结果，Guangzhou今天是晴天，所以不需要带雨具。'"
      ]
     },
     "execution_count": 12,
     "metadata": {},
     "output_type": "execute_result"
    }
   ],
   "source": [
    "await alog(\n",
    "    ChatZhipu(),\n",
    "    \"广州今天出门要带雨具吗？\",\n",
    "    tools=[convert_to_openai_tool(get_current_weather)],\n",
    "    toolkits=[get_current_weather],\n",
    "    model=\"glm-4\"\n",
    ")"
   ]
  },
  {
   "cell_type": "markdown",
   "id": "8e43ca89-6ded-487b-b619-32eb11d653e9",
   "metadata": {},
   "source": [
    "### 通义千问"
   ]
  },
  {
   "cell_type": "code",
   "execution_count": 13,
   "id": "75628fec-7952-42b9-87d9-f8c54e04bdec",
   "metadata": {},
   "outputs": [
    {
     "name": "stdout",
     "output_type": "stream",
     "text": [
      "\u001b[32m当然\u001b[0m\u001b[32m可以\u001b[0m\u001b[32m，\u001b[0m\u001b[32m以下是根据您要求创作\u001b[0m\u001b[32m的一首兔子梦到的四行\u001b[0m\u001b[32m儿歌：\n",
      "“小兔子啊小\u001b[0m\u001b[32m兔子，你为什么总在梦中\u001b[0m\u001b[32m跑，\n",
      "梦见森林里，有好多\u001b[0m\u001b[32m好吃的蘑菇，\n",
      "可是到了第二天，\u001b[0m\u001b[32m你就把它们全都吃光，\n",
      "只好\u001b[0m\u001b[32m去河边洗个澡，换上\u001b[0m\u001b[32m干净的衣服。”\n",
      "\n",
      "希望这首儿歌能\u001b[0m\u001b[32m给您带来快乐和乐趣。如果您有任何\u001b[0m\u001b[32m其他要求或者需要进一步的帮助，请随时\u001b[0m\u001b[32m告诉我。\u001b[0m\u001b[32m\u001b[0m\n",
      "\n"
     ]
    },
    {
     "data": {
      "text/plain": [
       "'当然可以，以下是根据您要求创作的一首兔子梦到的四行儿歌：\\n“小兔子啊小兔子，你为什么总在梦中跑，\\n梦见森林里，有好多好吃的蘑菇，\\n可是到了第二天，你就把它们全都吃光，\\n只好去河边洗个澡，换上干净的衣服。”\\n\\n希望这首儿歌能给您带来快乐和乐趣。如果您有任何其他要求或者需要进一步的帮助，请随时告诉我。'"
      ]
     },
     "execution_count": 13,
     "metadata": {},
     "output_type": "execute_result"
    }
   ],
   "source": [
    "from illufly.agent import ChatQwen\n",
    "from illufly.io import log\n",
    "\n",
    "qwen = ChatQwen()\n",
    "log(\n",
    "    qwen,\n",
    "    [{\"role\": \"user\", \"content\": \"你能帮我写一首关于兔子做梦的四句儿歌?\"}],\n",
    "    model=\"qwen2-1.5b-instruct\"\n",
    ")"
   ]
  },
  {
   "cell_type": "code",
   "execution_count": 14,
   "id": "dfb73248-a53e-4579-87d0-677a49072ae7",
   "metadata": {},
   "outputs": [
    {
     "data": {
      "text/plain": [
       "[{'role': 'user', 'content': '你能帮我写一首关于兔子做梦的四句儿歌?'},\n",
       " {'role': 'assistant',\n",
       "  'content': '当然可以，以下是根据您要求创作的一首兔子梦到的四行儿歌：\\n“小兔子啊小兔子，你为什么总在梦中跑，\\n梦见森林里，有好多好吃的蘑菇，\\n可是到了第二天，你就把它们全都吃光，\\n只好去河边洗个澡，换上干净的衣服。”\\n\\n希望这首儿歌能给您带来快乐和乐趣。如果您有任何其他要求或者需要进一步的帮助，请随时告诉我。'}]"
      ]
     },
     "execution_count": 14,
     "metadata": {},
     "output_type": "execute_result"
    }
   ],
   "source": [
    "qwen.memory"
   ]
  },
  {
   "cell_type": "code",
   "execution_count": 15,
   "id": "f565bd03-3df6-4d47-85ec-2e89ca96e618",
   "metadata": {},
   "outputs": [
    {
     "data": {
      "text/plain": [
       "{'CHAT_OPENAI': {'max_workers': 5, 'used_workers': 1, 'waiting_threads': 0},\n",
       " 'CHAT_ZHIPU': {'max_workers': 5, 'used_workers': 1, 'waiting_threads': 0},\n",
       " 'CHAT_QWEN': {'max_workers': 5, 'used_workers': 0, 'waiting_threads': 0}}"
      ]
     },
     "execution_count": 15,
     "metadata": {},
     "output_type": "execute_result"
    }
   ],
   "source": [
    "qwen.monitor_executors()"
   ]
  },
  {
   "cell_type": "code",
   "execution_count": 16,
   "id": "4b2fef77-8fb1-43ce-9edf-8753158f21e1",
   "metadata": {},
   "outputs": [],
   "source": [
    "from illufly.tools import tool, convert_to_openai_tool\n",
    "from illufly.agent import ChatQwen\n",
    "from illufly.io import log\n",
    "import json\n",
    "\n",
    "@tool\n",
    "def get_current_weather(location: str=None):\n",
    "    \"\"\"获取城市的天气情况\"\"\"\n",
    "    return f\"{location}今天是晴天。 \""
   ]
  },
  {
   "cell_type": "code",
   "execution_count": 17,
   "id": "6c2c7aa4-df97-4176-9a1c-1c67ca522c05",
   "metadata": {},
   "outputs": [
    {
     "data": {
      "text/plain": [
       "'{\"0\": {\"index\": 0, \"id\": \"call_17eb8f52a80a438c8e16a6\", \"type\": \"function\", \"function\": {\"name\": \"get_current_weather\", \"arguments\": \"{\\\\\"location\\\\\": \\\\\"广州\\\\\"}\"}}}'"
      ]
     },
     "execution_count": 17,
     "metadata": {},
     "output_type": "execute_result"
    }
   ],
   "source": [
    "log(ChatQwen(), \"今天广州天气如何啊\", tools=[convert_to_openai_tool(get_current_weather)])\n",
    "# log(ChatQwen(), \"今天广州天气如何啊\", tools=[convert_to_openai_tool(get_current_weather)], toolkits=[get_current_weather])"
   ]
  },
  {
   "cell_type": "code",
   "execution_count": 9,
   "id": "a454b4fe-c789-4a7f-962c-c11a71a91674",
   "metadata": {},
   "outputs": [
    {
     "name": "stdout",
     "output_type": "stream",
     "text": [
      "\u001b[32m广\u001b[0m\u001b[32m州\u001b[0m\u001b[32m今\u001b[0m\u001b[32m天\u001b[0m\u001b[32m是\u001b[0m\u001b[32m晴\u001b[0m\u001b[32m天\u001b[0m\u001b[32m。\u001b[0m\u001b[32m \u001b[0m\n",
      "\n",
      "\u001b[32m今天\u001b[0m\u001b[32m广州天气是晴朗\u001b[0m\u001b[32m的，并没有台风。\u001b[0m\u001b[32m\u001b[0m\n",
      "\n"
     ]
    },
    {
     "data": {
      "text/plain": [
       "'{\"0\": {\"index\": 0, \"id\": \"call_965feb9286e24c9e815e3b\", \"type\": \"function\", \"function\": {\"name\": \"get_current_weather\", \"arguments\": \"{\\\\\"location\\\\\": \\\\\"广州\\\\\"}\"}}}今天广州天气是晴朗的，并没有台风。'"
      ]
     },
     "execution_count": 9,
     "metadata": {},
     "output_type": "execute_result"
    }
   ],
   "source": [
    "qwen = ChatQwen(\n",
    "    tools=[convert_to_openai_tool(get_current_weather)],\n",
    "    toolkits=[get_current_weather]\n",
    ")\n",
    "\n",
    "log(qwen, \"今天广州有台风吗\")"
   ]
  },
  {
   "cell_type": "markdown",
   "id": "4b9d80d9-b2f7-4f3d-856b-f2280b534484",
   "metadata": {},
   "source": [
    "## Fake"
   ]
  },
  {
   "cell_type": "markdown",
   "id": "32fc77aa-8e40-4d1d-b124-37c517d8fdf6",
   "metadata": {},
   "source": [
    "### fake_llm: 模拟大模型调用过程\n",
    "\n",
    "这可以观察提示语等内部结构。"
   ]
  },
  {
   "cell_type": "code",
   "execution_count": 11,
   "id": "433e3074-d1ed-4912-919a-5c4b55fb7b28",
   "metadata": {},
   "outputs": [
    {
     "name": "stdout",
     "output_type": "stream",
     "text": [
      "\u001b[32m这\u001b[0m\u001b[32m是\u001b[0m\u001b[32m一个\u001b[0m\u001b[32m模拟\u001b[0m\u001b[32m调用\u001b[0m\u001b[32m!\u001b[0m\n",
      "\n"
     ]
    },
    {
     "data": {
      "text/plain": [
       "'这是一个模拟调用!'"
      ]
     },
     "execution_count": 11,
     "metadata": {},
     "output_type": "execute_result"
    }
   ],
   "source": [
    "from illufly.agent import FakeLLM\n",
    "from illufly.io import log\n",
    "\n",
    "log(\n",
    "    FakeLLM(),\n",
    "    [\n",
    "        {\"role\": \"system\", \"content\": \"你是一个写作能手。\"},\n",
    "        {\"role\": \"user\", \"content\": \"你能帮我写一首关于兔子做梦的四句儿歌?\"}\n",
    "    ],\n",
    "    model=\"qwen2-1.5b-instruct\"\n",
    ")"
   ]
  },
  {
   "cell_type": "code",
   "execution_count": 12,
   "id": "699bd017-f5f2-48eb-82ff-4c47dfdc595f",
   "metadata": {},
   "outputs": [
    {
     "data": {
      "text/plain": [
       "{'CHAT_OPENAI': {'max_workers': 5, 'used_workers': 0, 'waiting_threads': 0},\n",
       " 'FAKE_LLM': {'max_workers': 5, 'used_workers': 0, 'waiting_threads': 0}}"
      ]
     },
     "execution_count": 12,
     "metadata": {},
     "output_type": "execute_result"
    }
   ],
   "source": [
    "FakeLLM.monitor_executors()"
   ]
  },
  {
   "cell_type": "code",
   "execution_count": null,
   "id": "1208f91f-d8aa-4779-aa23-2f3ee1991ab1",
   "metadata": {},
   "outputs": [],
   "source": []
  }
 ],
 "metadata": {
  "kernelspec": {
   "display_name": "Python 3 (ipykernel)",
   "language": "python",
   "name": "python3"
  },
  "language_info": {
   "codemirror_mode": {
    "name": "ipython",
    "version": 3
   },
   "file_extension": ".py",
   "mimetype": "text/x-python",
   "name": "python",
   "nbconvert_exporter": "python",
   "pygments_lexer": "ipython3",
   "version": "3.10.0"
  }
 },
 "nbformat": 4,
 "nbformat_minor": 5
}
