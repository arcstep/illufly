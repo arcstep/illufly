{
 "cells": [
  {
   "cell_type": "markdown",
   "id": "9d29c40a-2a13-4a7f-a465-189d2ea5ead2",
   "metadata": {},
   "source": [
    "# 大模型"
   ]
  },
  {
   "cell_type": "markdown",
   "id": "647dbf55-8b78-4a13-82ff-832e126ca8ed",
   "metadata": {},
   "source": [
    "## IO：基于标准输入输出的流式调用"
   ]
  },
  {
   "cell_type": "markdown",
   "id": "ba6508d4-84d6-4f38-8543-eb4603a73f17",
   "metadata": {},
   "source": [
    "### 直接打印日志"
   ]
  },
  {
   "cell_type": "code",
   "execution_count": 1,
   "id": "c03cb935-2281-494e-ad42-46f67fb15810",
   "metadata": {},
   "outputs": [
    {
     "name": "stdout",
     "output_type": "stream",
     "text": [
      ">-[INFO]>> \u001b[34mhello textlong\u001b[0m\n",
      "\u001b[32mTextlong\u001b[0m\u001b[32m很\u001b[0m\u001b[32m棒！\u001b[0m\n",
      "\n"
     ]
    },
    {
     "data": {
      "text/plain": [
       "{'output': 'Textlong很棒！', 'tools_call': {}}"
      ]
     },
     "execution_count": 1,
     "metadata": {},
     "output_type": "execute_result"
    }
   ],
   "source": [
    "from textlong.io import TextBlock, stream_log, StreamLog, QueueLog\n",
    "\n",
    "def hello():\n",
    "    yield TextBlock(\"info\", \"hello textlong\")\n",
    "    yield TextBlock(\"chunk\", \"Textlong\")\n",
    "    yield TextBlock(\"chunk\", \"很\")\n",
    "    yield TextBlock(\"chunk\", \"棒！\")\n",
    "\n",
    "stream_log(hello)"
   ]
  },
  {
   "cell_type": "code",
   "execution_count": 2,
   "id": "36696d1c-fbc0-4b9f-bd72-89ddf6a3fa7c",
   "metadata": {},
   "outputs": [
    {
     "name": "stdout",
     "output_type": "stream",
     "text": [
      ">-[INFO]>> \u001b[34mhello textlong\u001b[0m\n",
      "\u001b[32mTextlong\u001b[0m\u001b[32m很\u001b[0m\u001b[32m棒！\u001b[0m\n",
      "\n"
     ]
    },
    {
     "data": {
      "text/plain": [
       "{'output': 'Textlong很棒！', 'tools_call': {}}"
      ]
     },
     "execution_count": 2,
     "metadata": {},
     "output_type": "execute_result"
    }
   ],
   "source": [
    "log = StreamLog()\n",
    "log(hello)"
   ]
  },
  {
   "cell_type": "markdown",
   "id": "91488a26-fef9-44f8-9141-9816595688dc",
   "metadata": {},
   "source": [
    "### 使用队列实现流式消息"
   ]
  },
  {
   "cell_type": "code",
   "execution_count": 3,
   "id": "8e506230-0dce-4cd3-a38a-19200fc83890",
   "metadata": {},
   "outputs": [],
   "source": [
    "qlog = QueueLog()\n",
    "qlog(hello)"
   ]
  },
  {
   "cell_type": "code",
   "execution_count": 4,
   "id": "bcf782df-2456-4139-8eff-81d552dfeaeb",
   "metadata": {},
   "outputs": [
    {
     "data": {
      "text/plain": [
       "QueueLog(queue=<multiprocessing.queues.Queue object at 0x10ab52440>)"
      ]
     },
     "execution_count": 4,
     "metadata": {},
     "output_type": "execute_result"
    }
   ],
   "source": [
    "qlog"
   ]
  },
  {
   "cell_type": "markdown",
   "id": "ab573143-ceb2-4cb3-964e-b5576f009d61",
   "metadata": {},
   "source": [
    "<div class=\"alert alert-info\">\n",
    "    ⚠️ 如果之前没有调用，可能会导致一直等待。\n",
    "</div>"
   ]
  },
  {
   "cell_type": "code",
   "execution_count": 5,
   "id": "77209635-a4fe-4771-a5e5-0c2e9ba4c32f",
   "metadata": {},
   "outputs": [
    {
     "name": "stdout",
     "output_type": "stream",
     "text": [
      "hello textlong\n",
      "Textlong|很|棒！|"
     ]
    }
   ],
   "source": [
    "for block in qlog:\n",
    "    if block.block_type in ['chunk']:\n",
    "        print(block.text, end=\"|\")\n",
    "    else:\n",
    "        print(block.text)"
   ]
  },
  {
   "cell_type": "markdown",
   "id": "b17d250f-8576-4eb5-b0b6-de361928ebf4",
   "metadata": {},
   "source": [
    "## Tools Calling"
   ]
  },
  {
   "cell_type": "markdown",
   "id": "e67dd59b-d3be-4ba3-874c-d4d0cfcec20c",
   "metadata": {},
   "source": [
    "仍然采纳`langchain`来定义工具，这可以大大简化回调工具的管理。\n",
    "\n",
    "涉及定义工具的技巧主要包括：\n",
    "- 使用 tool 装饰函数将新函数定义为工具类型\n",
    "- 使用 StructTool 转换已有的函数为工具类型\n",
    "- 使用 BaseModel 补充工具的参数定义\n",
    "\n",
    "采用以上方法定义好工具，就可以使用 convert_to_openai_tool 将其转换为官方要求的 JSON 结构（确实会比手写节省很多精力）。"
   ]
  },
  {
   "cell_type": "code",
   "execution_count": 6,
   "id": "1ed68fbf-0d0a-48cc-bfa9-f5c04b37ef51",
   "metadata": {},
   "outputs": [
    {
     "name": "stdout",
     "output_type": "stream",
     "text": [
      ">-[TOOLS_CALL]>> \u001b[34m{\"index\": 0, \"id\": \"call_e16899d71a194795b24d43\", \"type\": \"function\", \"function\": {\"name\": \"get_current_weather\", \"arguments\": \"\"}}\u001b[0m\n",
      ">-[TOOLS_CALL]>> \u001b[34m{\"index\": 0, \"id\": \"\", \"type\": \"function\", \"function\": {\"arguments\": \"{\\\"location\\\": \\\"\"}}\u001b[0m\n",
      ">-[TOOLS_CALL]>> \u001b[34m{\"index\": 0, \"id\": \"\", \"type\": \"function\", \"function\": {\"arguments\": \"广州\\\"}\"}}\u001b[0m\n",
      ">-[TOOLS_CALL]>> \u001b[34m{\"index\": 0, \"id\": \"\", \"type\": \"function\", \"function\": {}}\u001b[0m\n",
      "\u001b[34m{\"0\": {\"index\": 0, \"id\": \"call_e16899d71a194795b24d43\", \"type\": \"function\", \"function\": {\"name\": \"get_current_weather\", \"arguments\": \"{\\\"location\\\": \\\"广州\\\"}\"}}}\u001b[0m\n"
     ]
    },
    {
     "data": {
      "text/plain": [
       "{'output': '',\n",
       " 'tools_call': {0: {'index': 0,\n",
       "   'id': 'call_e16899d71a194795b24d43',\n",
       "   'type': 'function',\n",
       "   'function': {'name': 'get_current_weather',\n",
       "    'arguments': '{\"location\": \"广州\"}'}}}}"
      ]
     },
     "execution_count": 6,
     "metadata": {},
     "output_type": "execute_result"
    }
   ],
   "source": [
    "from textlong.llm.tools import tool, convert_to_openai_tool\n",
    "from textlong.llm import qwen\n",
    "from textlong.io import stream_log\n",
    "import json\n",
    "\n",
    "@tool\n",
    "def get_current_weather(location: str):\n",
    "    \"\"\"获取城市的天气情况\"\"\"\n",
    "    return f\"{location}今天是晴天。 \"\n",
    "\n",
    "stream_log(qwen, \"今天广州天气如何啊\", tools=[convert_to_openai_tool(get_current_weather)])"
   ]
  },
  {
   "cell_type": "markdown",
   "id": "ac7747e5-eeb1-45c3-9bfa-2a76e211bff7",
   "metadata": {},
   "source": [
    "<div class=\"alert alert-info\">\n",
    "⚠️ 上面的调用仅仅是返回了工具描述，尚未真正执行工具代码。\n",
    "</div>"
   ]
  },
  {
   "cell_type": "markdown",
   "id": "30e55ec8-ba21-4701-96d5-6a54f9199b24",
   "metadata": {},
   "source": [
    "## 模型支持"
   ]
  },
  {
   "cell_type": "markdown",
   "id": "a5334318-b9fb-419c-a268-50baf4f5c24d",
   "metadata": {},
   "source": [
    "### OpenAI"
   ]
  },
  {
   "cell_type": "code",
   "execution_count": 2,
   "id": "50fd539c-4307-4a0e-bfd4-c2fbc18aa2f6",
   "metadata": {},
   "outputs": [
    {
     "name": "stdout",
     "output_type": "stream",
     "text": [
      "\u001b[32m小\u001b[0m\u001b[32m兔\u001b[0m\u001b[32m子\u001b[0m\u001b[32m在\u001b[0m\u001b[32m梦\u001b[0m\u001b[32m里\u001b[0m\u001b[32m\n",
      "\u001b[0m\u001b[32m跳\u001b[0m\u001b[32m来\u001b[0m\u001b[32m跳\u001b[0m\u001b[32m去\u001b[0m\u001b[32m好\u001b[0m\u001b[32m开\u001b[0m\u001b[32m心\u001b[0m\u001b[32m\n",
      "\u001b[0m\u001b[32m甜\u001b[0m\u001b[32m甜\u001b[0m\u001b[32m的\u001b[0m\u001b[32m胡\u001b[0m\u001b[32m萝\u001b[0m\u001b[32m卜\u001b[0m\u001b[32m味\u001b[0m\u001b[32m\n",
      "\u001b[0m\u001b[32m梦\u001b[0m\u001b[32m里\u001b[0m\u001b[32m的\u001b[0m\u001b[32m世\u001b[0m\u001b[32m界\u001b[0m\u001b[32m美\u001b[0m\u001b[32m丽\u001b[0m\u001b[32m又\u001b[0m\u001b[32m甜\u001b[0m\n",
      "\n"
     ]
    },
    {
     "data": {
      "text/plain": [
       "{'output': '小兔子在梦里\\n跳来跳去好开心\\n甜甜的胡萝卜味\\n梦里的世界美丽又甜', 'tools_call': {}}"
      ]
     },
     "execution_count": 2,
     "metadata": {},
     "output_type": "execute_result"
    }
   ],
   "source": [
    "from textlong.llm import openai\n",
    "from textlong.io import stream_log\n",
    "\n",
    "stream_log(\n",
    "    openai,\n",
    "    [{\"role\": \"user\", \"content\": \"你能帮我写一首关于兔子做梦的四句儿歌?\"}],\n",
    "    model=\"gpt-3.5-turbo\"\n",
    ")"
   ]
  },
  {
   "cell_type": "code",
   "execution_count": 1,
   "id": "0c02e36b-97d1-4077-83e3-3867f74010f3",
   "metadata": {},
   "outputs": [
    {
     "name": "stdout",
     "output_type": "stream",
     "text": [
      ">-[TOOLS_CALL]>> \u001b[34m{\"index\": 0, \"function\": {\"id\": \"call_pHjBYW05KyMyzYjURI5g4FHr\", \"type\": \"function\", \"name\": \"get_current_weather\", \"arguments\": \"\"}}\u001b[0m\n",
      ">-[TOOLS_CALL]>> \u001b[34m{\"index\": 0, \"function\": {\"id\": \"\", \"type\": \"function\", \"name\": \"\", \"arguments\": \"{\\\"\"}}\u001b[0m\n",
      ">-[TOOLS_CALL]>> \u001b[34m{\"index\": 0, \"function\": {\"id\": \"\", \"type\": \"function\", \"name\": \"\", \"arguments\": \"location\"}}\u001b[0m\n",
      ">-[TOOLS_CALL]>> \u001b[34m{\"index\": 0, \"function\": {\"id\": \"\", \"type\": \"function\", \"name\": \"\", \"arguments\": \"\\\":\\\"\"}}\u001b[0m\n",
      ">-[TOOLS_CALL]>> \u001b[34m{\"index\": 0, \"function\": {\"id\": \"\", \"type\": \"function\", \"name\": \"\", \"arguments\": \"gu\"}}\u001b[0m\n",
      ">-[TOOLS_CALL]>> \u001b[34m{\"index\": 0, \"function\": {\"id\": \"\", \"type\": \"function\", \"name\": \"\", \"arguments\": \"ang\"}}\u001b[0m\n",
      ">-[TOOLS_CALL]>> \u001b[34m{\"index\": 0, \"function\": {\"id\": \"\", \"type\": \"function\", \"name\": \"\", \"arguments\": \"zhou\"}}\u001b[0m\n",
      ">-[TOOLS_CALL]>> \u001b[34m{\"index\": 0, \"function\": {\"id\": \"\", \"type\": \"function\", \"name\": \"\", \"arguments\": \"\\\"}\"}}\u001b[0m\n",
      "\u001b[34m{\"0\": {\"index\": 0, \"function\": {\"id\": \"call_pHjBYW05KyMyzYjURI5g4FHr\", \"type\": \"function\", \"name\": \"get_current_weather\", \"arguments\": \"{\\\"location\\\":\\\"guangzhou\\\"}\"}}}\u001b[0m\n"
     ]
    },
    {
     "data": {
      "text/plain": [
       "{'output': '',\n",
       " 'tools_call': {0: {'index': 0,\n",
       "   'function': {'id': 'call_pHjBYW05KyMyzYjURI5g4FHr',\n",
       "    'type': 'function',\n",
       "    'name': 'get_current_weather',\n",
       "    'arguments': '{\"location\":\"guangzhou\"}'}}}}"
      ]
     },
     "execution_count": 1,
     "metadata": {},
     "output_type": "execute_result"
    }
   ],
   "source": [
    "from textlong.llm.tools import tool, convert_to_openai_tool\n",
    "from textlong.llm import openai\n",
    "from textlong.io import stream_log\n",
    "import json\n",
    "\n",
    "@tool\n",
    "def get_current_weather(location: str):\n",
    "    \"\"\"获取城市的天气情况\"\"\"\n",
    "    return f\"{location}今天是晴天。 \"\n",
    "\n",
    "stream_log(openai, \"今天广州天气如何啊\", tools=[convert_to_openai_tool(get_current_weather)], model=\"gpt-3.5-turbo\")"
   ]
  },
  {
   "cell_type": "markdown",
   "id": "57373ba5-19d6-4a9a-a744-3b485a272164",
   "metadata": {},
   "source": [
    "### 智谱AI"
   ]
  },
  {
   "cell_type": "code",
   "execution_count": 6,
   "id": "5312c9e9-9ab8-4a48-bfc8-c75fcb01631c",
   "metadata": {},
   "outputs": [
    {
     "name": "stdout",
     "output_type": "stream",
     "text": [
      "\u001b[32m兔子\u001b[0m\u001b[32m乖乖\u001b[0m\u001b[32m入\u001b[0m\u001b[32m梦\u001b[0m\u001b[32m乡\u001b[0m\u001b[32m，\n",
      "星星\u001b[0m\u001b[32m月亮\u001b[0m\u001b[32m做\u001b[0m\u001b[32m伴\u001b[0m\u001b[32m航\u001b[0m\u001b[32m，\n",
      "梦里\u001b[0m\u001b[32m花开\u001b[0m\u001b[32m花\u001b[0m\u001b[32m又\u001b[0m\u001b[32m落\u001b[0m\u001b[32m，\n",
      "清晨\u001b[0m\u001b[32m醒来\u001b[0m\u001b[32m笑\u001b[0m\u001b[32m开\u001b[0m\u001b[32m颜\u001b[0m\u001b[32m。\u001b[0m\n",
      "\n"
     ]
    },
    {
     "data": {
      "text/plain": [
       "{'output': '兔子乖乖入梦乡，\\n星星月亮做伴航，\\n梦里花开花又落，\\n清晨醒来笑开颜。', 'tools_call': {}}"
      ]
     },
     "execution_count": 6,
     "metadata": {},
     "output_type": "execute_result"
    }
   ],
   "source": [
    "from textlong.llm import zhipu\n",
    "from textlong.io import stream_log\n",
    "\n",
    "stream_log(\n",
    "    zhipu,\n",
    "    [{\"role\": \"user\", \"content\": \"你能帮我写一首关于兔子做梦的四句儿歌?\"}],\n",
    "    model=\"glm-4-flash\"\n",
    ")"
   ]
  },
  {
   "cell_type": "code",
   "execution_count": 4,
   "id": "fed97be4-2b81-4b8d-ac2c-4877219f73ce",
   "metadata": {},
   "outputs": [
    {
     "name": "stdout",
     "output_type": "stream",
     "text": [
      ">-[TOOLS_CALL]>> \u001b[34m{\"index\": 0, \"function\": {\"id\": \"call_20240907213847cd86e6447ada47c0\", \"type\": \"function\", \"name\": \"get_current_weather\", \"arguments\": \"{\\\"location\\\": \\\"广州\\\"}\"}}\u001b[0m\n",
      "\u001b[34m{\"0\": {\"index\": 0, \"function\": {\"id\": \"call_20240907213847cd86e6447ada47c0\", \"type\": \"function\", \"name\": \"get_current_weather\", \"arguments\": \"{\\\"location\\\": \\\"广州\\\"}\"}}}\u001b[0m\n"
     ]
    },
    {
     "data": {
      "text/plain": [
       "{'output': '',\n",
       " 'tools_call': {0: {'index': 0,\n",
       "   'function': {'id': 'call_20240907213847cd86e6447ada47c0',\n",
       "    'type': 'function',\n",
       "    'name': 'get_current_weather',\n",
       "    'arguments': '{\"location\": \"广州\"}'}}}}"
      ]
     },
     "execution_count": 4,
     "metadata": {},
     "output_type": "execute_result"
    }
   ],
   "source": [
    "from textlong.llm.tools import tool, convert_to_openai_tool\n",
    "from textlong.llm import zhipu\n",
    "from textlong.io import stream_log\n",
    "import json\n",
    "\n",
    "@tool\n",
    "def get_current_weather(location: str):\n",
    "    \"\"\"获取城市的天气情况\"\"\"\n",
    "    return f\"{location}今天是晴天。 \"\n",
    "\n",
    "stream_log(zhipu, \"今天广州天气如何啊\", tools=[convert_to_openai_tool(get_current_weather)], model=\"glm-4-air\")"
   ]
  },
  {
   "cell_type": "markdown",
   "id": "8e43ca89-6ded-487b-b619-32eb11d653e9",
   "metadata": {},
   "source": [
    "### 通义千问"
   ]
  },
  {
   "cell_type": "code",
   "execution_count": 7,
   "id": "75628fec-7952-42b9-87d9-f8c54e04bdec",
   "metadata": {},
   "outputs": [
    {
     "name": "stdout",
     "output_type": "stream",
     "text": [
      "\u001b[32m小白\u001b[0m\u001b[32m兔\u001b[0m\u001b[32m，\u001b[0m\u001b[32m梦中跑，  \n",
      "\u001b[0m\u001b[32m胡萝卜，满天空飘。  \n",
      "月亮\u001b[0m\u001b[32m船，载它游，  \n",
      "梦\u001b[0m\u001b[32m里世界乐悠悠。\u001b[0m\u001b[32m\u001b[0m\n",
      "\n"
     ]
    },
    {
     "data": {
      "text/plain": [
       "{'output': '小白兔，梦中跑，  \\n胡萝卜，满天空飘。  \\n月亮船，载它游，  \\n梦里世界乐悠悠。', 'tools_call': {}}"
      ]
     },
     "execution_count": 7,
     "metadata": {},
     "output_type": "execute_result"
    }
   ],
   "source": [
    "from textlong.llm import qwen\n",
    "from textlong.io import stream_log\n",
    "\n",
    "stream_log(\n",
    "    qwen,\n",
    "    [{\"role\": \"user\", \"content\": \"你能帮我写一首关于兔子做梦的四句儿歌?\"}],\n",
    "    model=\"qwen2-1.5b-instruct\"\n",
    ")"
   ]
  },
  {
   "cell_type": "code",
   "execution_count": 1,
   "id": "4b2fef77-8fb1-43ce-9edf-8753158f21e1",
   "metadata": {},
   "outputs": [
    {
     "name": "stdout",
     "output_type": "stream",
     "text": [
      "********************************************************************************\n",
      "{'tools': [{'type': 'function', 'function': {'name': 'get_current_weather', 'description': '获取城市的天气情况', 'parameters': {'type': 'object', 'properties': {'location': {'type': 'string'}}, 'required': ['location']}}}]}\n",
      "********************************************************************************\n",
      ">-[TOOLS_CALL]>> \u001b[34m{\"index\": 0, \"id\": \"call_9d03534e089e4e658db2a7\", \"type\": \"function\", \"function\": {\"name\": \"get_current_weather\", \"arguments\": \"\"}}\u001b[0m\n",
      ">-[TOOLS_CALL]>> \u001b[34m{\"index\": 0, \"id\": \"\", \"type\": \"function\", \"function\": {\"arguments\": \"{\\\"location\\\": \\\"\"}}\u001b[0m\n",
      ">-[TOOLS_CALL]>> \u001b[34m{\"index\": 0, \"id\": \"\", \"type\": \"function\", \"function\": {\"arguments\": \"广州\\\"}\"}}\u001b[0m\n",
      ">-[TOOLS_CALL]>> \u001b[34m{\"index\": 0, \"id\": \"\", \"type\": \"function\", \"function\": {}}\u001b[0m\n",
      "\u001b[34m{\"0\": {\"index\": 0, \"id\": \"call_9d03534e089e4e658db2a7\", \"type\": \"function\", \"function\": {\"name\": \"get_current_weather\", \"arguments\": \"{\\\"location\\\": \\\"广州\\\"}\"}}}\u001b[0m\n"
     ]
    },
    {
     "data": {
      "text/plain": [
       "{'output': '',\n",
       " 'tools_call': {0: {'index': 0,\n",
       "   'id': 'call_9d03534e089e4e658db2a7',\n",
       "   'type': 'function',\n",
       "   'function': {'name': 'get_current_weather',\n",
       "    'arguments': '{\"location\": \"广州\"}'}}}}"
      ]
     },
     "execution_count": 1,
     "metadata": {},
     "output_type": "execute_result"
    }
   ],
   "source": [
    "from textlong.llm.tools import tool, convert_to_openai_tool\n",
    "from textlong.llm import qwen\n",
    "from textlong.io import stream_log\n",
    "import json\n",
    "\n",
    "@tool\n",
    "def get_current_weather(location: str):\n",
    "    \"\"\"获取城市的天气情况\"\"\"\n",
    "    return f\"{location}今天是晴天。 \"\n",
    "\n",
    "stream_log(qwen, \"今天广州天气如何啊\", tools=[convert_to_openai_tool(get_current_weather)])"
   ]
  },
  {
   "cell_type": "markdown",
   "id": "4b9d80d9-b2f7-4f3d-856b-f2280b534484",
   "metadata": {},
   "source": [
    "## Fake"
   ]
  },
  {
   "cell_type": "markdown",
   "id": "32fc77aa-8e40-4d1d-b124-37c517d8fdf6",
   "metadata": {},
   "source": [
    "### fake_llm: 模拟大模型调用过程\n",
    "\n",
    "这可以观察提示语等内部结构。"
   ]
  },
  {
   "cell_type": "code",
   "execution_count": 4,
   "id": "433e3074-d1ed-4912-919a-5c4b55fb7b28",
   "metadata": {},
   "outputs": [
    {
     "name": "stdout",
     "output_type": "stream",
     "text": [
      ">-[INFO]>> \u001b[34msystem: 你是一个写作能手。\u001b[0m\n",
      ">-[INFO]>> \u001b[34muser: 你能帮我写一首关于兔子做梦的四句儿歌?\u001b[0m\n",
      "\u001b[32m这\u001b[0m\u001b[32m是\u001b[0m\u001b[32m一个\u001b[0m\u001b[32m模拟\u001b[0m\u001b[32m调用\u001b[0m\u001b[32m!\u001b[0m\n",
      "\n"
     ]
    },
    {
     "data": {
      "text/plain": [
       "{'output': '这是一个模拟调用!', 'tools_call': {}}"
      ]
     },
     "execution_count": 4,
     "metadata": {},
     "output_type": "execute_result"
    }
   ],
   "source": [
    "from textlong.llm import fake_llm\n",
    "from textlong.io import stream_log\n",
    "\n",
    "stream_log(\n",
    "    fake_llm,\n",
    "    [\n",
    "        {\"role\": \"system\", \"content\": \"你是一个写作能手。\"},\n",
    "        {\"role\": \"user\", \"content\": \"你能帮我写一首关于兔子做梦的四句儿歌?\"}\n",
    "    ],\n",
    "    model=\"qwen2-1.5b-instruct\"\n",
    ")"
   ]
  }
 ],
 "metadata": {
  "kernelspec": {
   "display_name": "textlong-same-ipykernel",
   "language": "python",
   "name": "textlong-same-ipykernel"
  },
  "language_info": {
   "codemirror_mode": {
    "name": "ipython",
    "version": 3
   },
   "file_extension": ".py",
   "mimetype": "text/x-python",
   "name": "python",
   "nbconvert_exporter": "python",
   "pygments_lexer": "ipython3",
   "version": "3.10.0"
  }
 },
 "nbformat": 4,
 "nbformat_minor": 5
}
