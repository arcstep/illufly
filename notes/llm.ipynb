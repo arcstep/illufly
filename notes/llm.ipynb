{
 "cells": [
  {
   "cell_type": "markdown",
   "id": "9d29c40a-2a13-4a7f-a465-189d2ea5ead2",
   "metadata": {},
   "source": [
    "# 大模型"
   ]
  },
  {
   "cell_type": "markdown",
   "id": "30e55ec8-ba21-4701-96d5-6a54f9199b24",
   "metadata": {},
   "source": [
    "## 模型支持"
   ]
  },
  {
   "cell_type": "markdown",
   "id": "a5334318-b9fb-419c-a268-50baf4f5c24d",
   "metadata": {},
   "source": [
    "### OpenAI"
   ]
  },
  {
   "cell_type": "code",
   "execution_count": 1,
   "id": "50fd539c-4307-4a0e-bfd4-c2fbc18aa2f6",
   "metadata": {},
   "outputs": [],
   "source": [
    "from illufly.agent import ChatOpenAI\n",
    "from illufly.io import log, alog"
   ]
  },
  {
   "cell_type": "code",
   "execution_count": 2,
   "id": "54add976-5cc5-42af-96c2-55851d0178b0",
   "metadata": {},
   "outputs": [
    {
     "name": "stdout",
     "output_type": "stream",
     "text": [
      "\u001b[32m当\u001b[0m\u001b[32m兔\u001b[0m\u001b[32m子\u001b[0m\u001b[32m闭\u001b[0m\u001b[32m上\u001b[0m\u001b[32m眼\u001b[0m\u001b[32m，\u001b[0m\u001b[32m梦\u001b[0m\u001b[32m中\u001b[0m\u001b[32m的\u001b[0m\u001b[32m世\u001b[0m\u001b[32m界\u001b[0m\u001b[32m如\u001b[0m\u001b[32m此\u001b[0m\u001b[32m美\u001b[0m\u001b[32m，\n",
      "\u001b[0m\u001b[32m蹦\u001b[0m\u001b[32m蹦\u001b[0m\u001b[32m跳\u001b[0m\u001b[32m跳\u001b[0m\u001b[32m在\u001b[0m\u001b[32m花\u001b[0m\u001b[32m丛\u001b[0m\u001b[32m中\u001b[0m\u001b[32m，\u001b[0m\u001b[32m自\u001b[0m\u001b[32m由\u001b[0m\u001b[32m自\u001b[0m\u001b[32m在\u001b[0m\u001b[32m欢\u001b[0m\u001b[32m乐\u001b[0m\u001b[32m悦\u001b[0m\u001b[32m。\n",
      "\u001b[0m\u001b[32m梦\u001b[0m\u001b[32m见\u001b[0m\u001b[32m甜\u001b[0m\u001b[32m美\u001b[0m\u001b[32m的\u001b[0m\u001b[32m胡\u001b[0m\u001b[32m萝\u001b[0m\u001b[32m卜\u001b[0m\u001b[32m，\u001b[0m\u001b[32m吃\u001b[0m\u001b[32m得\u001b[0m\u001b[32m好\u001b[0m\u001b[32m开\u001b[0m\u001b[32m心\u001b[0m\u001b[32m，\n",
      "\u001b[0m\u001b[32m兔\u001b[0m\u001b[32m子\u001b[0m\u001b[32m在\u001b[0m\u001b[32m梦\u001b[0m\u001b[32m中\u001b[0m\u001b[32m快\u001b[0m\u001b[32m乐\u001b[0m\u001b[32m无\u001b[0m\u001b[32m边\u001b[0m\u001b[32m，\u001b[0m\u001b[32m睡\u001b[0m\u001b[32m得\u001b[0m\u001b[32m安\u001b[0m\u001b[32m稳\u001b[0m\u001b[32m又\u001b[0m\u001b[32m甜\u001b[0m\u001b[32m。\u001b[0m\n",
      "\n"
     ]
    },
    {
     "data": {
      "text/plain": [
       "'当兔子闭上眼，梦中的世界如此美，\\n蹦蹦跳跳在花丛中，自由自在欢乐悦。\\n梦见甜美的胡萝卜，吃得好开心，\\n兔子在梦中快乐无边，睡得安稳又甜。'"
      ]
     },
     "execution_count": 2,
     "metadata": {},
     "output_type": "execute_result"
    }
   ],
   "source": [
    "log(\n",
    "    ChatOpenAI(),\n",
    "    \"你能帮我写一首关于兔子做梦的四句儿歌?\",\n",
    "    model=\"gpt-3.5-turbo\"\n",
    ")"
   ]
  },
  {
   "cell_type": "code",
   "execution_count": 3,
   "id": "a7145a95-f03e-4783-910b-4e225f62fc2c",
   "metadata": {},
   "outputs": [
    {
     "name": "stdout",
     "output_type": "stream",
     "text": [
      "\u001b[32m当\u001b[0m\u001b[32m然\u001b[0m\u001b[32m可以\u001b[0m\u001b[32m！\u001b[0m\u001b[32m以下\u001b[0m\u001b[32m是\u001b[0m\u001b[32m关\u001b[0m\u001b[32m于\u001b[0m\u001b[32m兔\u001b[0m\u001b[32m子\u001b[0m\u001b[32m做\u001b[0m\u001b[32m梦\u001b[0m\u001b[32m的\u001b[0m\u001b[32m四\u001b[0m\u001b[32m句\u001b[0m\u001b[32m儿\u001b[0m\u001b[32m歌\u001b[0m\u001b[32m：\n",
      "\n",
      "\u001b[0m\u001b[32m兔\u001b[0m\u001b[32m子\u001b[0m\u001b[32m闭\u001b[0m\u001b[32m上\u001b[0m\u001b[32m眼\u001b[0m\u001b[32m，\u001b[0m\u001b[32m做\u001b[0m\u001b[32m着\u001b[0m\u001b[32m美\u001b[0m\u001b[32m梦\u001b[0m\u001b[32m\n",
      "\u001b[0m\u001b[32m梦\u001b[0m\u001b[32m里\u001b[0m\u001b[32m有\u001b[0m\u001b[32m甘\u001b[0m\u001b[32m草\u001b[0m\u001b[32m和\u001b[0m\u001b[32m胡\u001b[0m\u001b[32m萝\u001b[0m\u001b[32m卜\u001b[0m\u001b[32m\n",
      "\u001b[0m\u001b[32m跳\u001b[0m\u001b[32m来\u001b[0m\u001b[32m跳\u001b[0m\u001b[32m去\u001b[0m\u001b[32m开\u001b[0m\u001b[32m心\u001b[0m\u001b[32m极\u001b[0m\u001b[32m\n",
      "\u001b[0m\u001b[32m醒\u001b[0m\u001b[32m来\u001b[0m\u001b[32m一\u001b[0m\u001b[32m看\u001b[0m\u001b[32m还\u001b[0m\u001b[32m在\u001b[0m\u001b[32m梦\u001b[0m\u001b[32m中\u001b[0m\n",
      "\n"
     ]
    },
    {
     "data": {
      "text/plain": [
       "'当然可以！以下是关于兔子做梦的四句儿歌：\\n\\n兔子闭上眼，做着美梦\\n梦里有甘草和胡萝卜\\n跳来跳去开心极\\n醒来一看还在梦中'"
      ]
     },
     "execution_count": 3,
     "metadata": {},
     "output_type": "execute_result"
    }
   ],
   "source": [
    "await alog(\n",
    "    ChatOpenAI(),\n",
    "    \"你能帮我写一首关于兔子做梦的四句儿歌?\",\n",
    "    model=\"gpt-3.5-turbo\",\n",
    "    temperature=0.1\n",
    ")"
   ]
  },
  {
   "cell_type": "code",
   "execution_count": 4,
   "id": "0c02e36b-97d1-4077-83e3-3867f74010f3",
   "metadata": {},
   "outputs": [],
   "source": [
    "from illufly.tools import tool, convert_to_openai_tool\n",
    "from illufly.agent import ChatOpenAI\n",
    "from illufly.io import log, alog\n",
    "import json\n",
    "\n",
    "@tool\n",
    "def get_current_weather(location: str):\n",
    "    \"\"\"获取城市的天气情况\"\"\"\n",
    "    return f\"{location}今天是晴天。 \""
   ]
  },
  {
   "cell_type": "markdown",
   "id": "577d4020-491f-49ed-af56-1ae3a8de157a",
   "metadata": {},
   "source": [
    "**在调用时指定工具，返回应当调用的工具信息**"
   ]
  },
  {
   "cell_type": "code",
   "execution_count": 5,
   "id": "3a7a049e-2f49-4a25-871a-3af27f5b48eb",
   "metadata": {},
   "outputs": [
    {
     "data": {
      "text/plain": [
       "'{\"0\": {\"index\": 0, \"id\": \"call_5r6iauEgSkm7I2AiAia4YUQk\", \"type\": \"function\", \"function\": {\"name\": \"get_current_weather\", \"arguments\": \"{\\\\n  \\\\\"location\\\\\": \\\\\"广州\\\\\"\\\\n}\"}}}'"
      ]
     },
     "execution_count": 5,
     "metadata": {},
     "output_type": "execute_result"
    }
   ],
   "source": [
    "log(\n",
    "    ChatOpenAI(),\n",
    "    \"今天广州天气如何啊\",\n",
    "    model=\"gpt-3.5-turbo\",\n",
    "    tools=[convert_to_openai_tool(get_current_weather)]\n",
    ")"
   ]
  },
  {
   "cell_type": "markdown",
   "id": "39471837-d860-4ee3-a9b1-6e854c760e06",
   "metadata": {},
   "source": [
    "**工具也可以在Agent实例中声明**"
   ]
  },
  {
   "cell_type": "code",
   "execution_count": 6,
   "id": "09c7c3c2-d636-487f-9a92-5c803754c069",
   "metadata": {},
   "outputs": [
    {
     "data": {
      "text/plain": [
       "'{\"0\": {\"index\": 0, \"id\": \"call_7F8nvIQhIH5LBRsXKseA5O7s\", \"type\": \"function\", \"function\": {\"name\": \"get_current_weather\", \"arguments\": \"{\\\\\"location\\\\\":\\\\\"Guangzhou\\\\\"}\"}}}'"
      ]
     },
     "execution_count": 6,
     "metadata": {},
     "output_type": "execute_result"
    }
   ],
   "source": [
    "openai = ChatOpenAI(tools=[convert_to_openai_tool(get_current_weather)])\n",
    "\n",
    "log(openai, \"今天广州天气如何啊\", model=\"gpt-3.5-turbo\")"
   ]
  },
  {
   "cell_type": "markdown",
   "id": "bf4054a4-8c99-4ed4-bc79-a71648051bca",
   "metadata": {},
   "source": [
    "**指定 toolkits 来运行回调函数**"
   ]
  },
  {
   "cell_type": "code",
   "execution_count": 7,
   "id": "3c6024dd-05e1-4688-b62f-e379a3e89144",
   "metadata": {},
   "outputs": [
    {
     "name": "stdout",
     "output_type": "stream",
     "text": [
      "[TOOLS_CALL_CHUNK] \u001b[32m{\"index\": 0, \"id\": \"call_zEBXM1Aev90Rz5jjq5n9nj95\", \"type\": \"function\", \"function\": {\"name\": \"get_current_weather\", \"arguments\": \"\"}}\u001b[0m\n",
      "[TOOLS_CALL_CHUNK] \u001b[32m{\"index\": 0, \"id\": \"\", \"type\": \"function\", \"function\": {\"name\": \"\", \"arguments\": \"{\\n\"}}\u001b[0m\n",
      "[TOOLS_CALL_CHUNK] \u001b[32m{\"index\": 0, \"id\": \"\", \"type\": \"function\", \"function\": {\"name\": \"\", \"arguments\": \" \"}}\u001b[0m\n",
      "[TOOLS_CALL_CHUNK] \u001b[32m{\"index\": 0, \"id\": \"\", \"type\": \"function\", \"function\": {\"name\": \"\", \"arguments\": \" \\\"\"}}\u001b[0m\n",
      "[TOOLS_CALL_CHUNK] \u001b[32m{\"index\": 0, \"id\": \"\", \"type\": \"function\", \"function\": {\"name\": \"\", \"arguments\": \"location\"}}\u001b[0m\n",
      "[TOOLS_CALL_CHUNK] \u001b[32m{\"index\": 0, \"id\": \"\", \"type\": \"function\", \"function\": {\"name\": \"\", \"arguments\": \"\\\":\"}}\u001b[0m\n",
      "[TOOLS_CALL_CHUNK] \u001b[32m{\"index\": 0, \"id\": \"\", \"type\": \"function\", \"function\": {\"name\": \"\", \"arguments\": \" \\\"\"}}\u001b[0m\n",
      "[TOOLS_CALL_CHUNK] \u001b[32m{\"index\": 0, \"id\": \"\", \"type\": \"function\", \"function\": {\"name\": \"\", \"arguments\": \"广\"}}\u001b[0m\n",
      "[TOOLS_CALL_CHUNK] \u001b[32m{\"index\": 0, \"id\": \"\", \"type\": \"function\", \"function\": {\"name\": \"\", \"arguments\": \"州\"}}\u001b[0m\n",
      "[TOOLS_CALL_CHUNK] \u001b[32m{\"index\": 0, \"id\": \"\", \"type\": \"function\", \"function\": {\"name\": \"\", \"arguments\": \"\\\"\\n\"}}\u001b[0m\n",
      "[TOOLS_CALL_CHUNK] \u001b[32m{\"index\": 0, \"id\": \"\", \"type\": \"function\", \"function\": {\"name\": \"\", \"arguments\": \"}\"}}\u001b[0m\n",
      "[TOOLS_CALL_FINAL] \u001b[36m{\"0\": {\"index\": 0, \"id\": \"call_zEBXM1Aev90Rz5jjq5n9nj95\", \"type\": \"function\", \"function\": {\"name\": \"get_current_weather\", \"arguments\": \"{\\n  \\\"location\\\": \\\"广州\\\"\\n}\"}}}\u001b[0m\n",
      "\u001b[32m广\u001b[0m\u001b[32m州\u001b[0m\u001b[32m今\u001b[0m\u001b[32m天\u001b[0m\u001b[32m是\u001b[0m\u001b[32m晴\u001b[0m\u001b[32m天\u001b[0m\u001b[32m。\u001b[0m\u001b[32m \u001b[0m\n",
      "\n",
      "\u001b[32m根\u001b[0m\u001b[32m据\u001b[0m\u001b[32m今\u001b[0m\u001b[32m天\u001b[0m\u001b[32m广\u001b[0m\u001b[32m州\u001b[0m\u001b[32m的\u001b[0m\u001b[32m天\u001b[0m\u001b[32m气\u001b[0m\u001b[32m情\u001b[0m\u001b[32m况\u001b[0m\u001b[32m，\u001b[0m\u001b[32m您\u001b[0m\u001b[32m出\u001b[0m\u001b[32m门\u001b[0m\u001b[32m可以\u001b[0m\u001b[32m准\u001b[0m\u001b[32m备\u001b[0m\u001b[32m以下\u001b[0m\u001b[32m物\u001b[0m\u001b[32m品\u001b[0m\u001b[32m：\n",
      "\u001b[0m\u001b[32m1\u001b[0m\u001b[32m.\u001b[0m\u001b[32m 防\u001b[0m\u001b[32m晒\u001b[0m\u001b[32m霜\u001b[0m\u001b[32m和\u001b[0m\u001b[32m太\u001b[0m\u001b[32m阳\u001b[0m\u001b[32m镜\u001b[0m\u001b[32m：\u001b[0m\u001b[32m因\u001b[0m\u001b[32m为\u001b[0m\u001b[32m是\u001b[0m\u001b[32m晴\u001b[0m\u001b[32m天\u001b[0m\u001b[32m，\u001b[0m\u001b[32m阳\u001b[0m\u001b[32m光\u001b[0m\u001b[32m强\u001b[0m\u001b[32m烈\u001b[0m\u001b[32m，\u001b[0m\u001b[32m建\u001b[0m\u001b[32m议\u001b[0m\u001b[32m携\u001b[0m\u001b[32m带\u001b[0m\u001b[32m防\u001b[0m\u001b[32m晒\u001b[0m\u001b[32m霜\u001b[0m\u001b[32m和\u001b[0m\u001b[32m太\u001b[0m\u001b[32m阳\u001b[0m\u001b[32m镜\u001b[0m\u001b[32m。\n",
      "\u001b[0m\u001b[32m2\u001b[0m\u001b[32m.\u001b[0m\u001b[32m 薄\u001b[0m\u001b[32m外\u001b[0m\u001b[32m套\u001b[0m\u001b[32m：\u001b[0m\u001b[32m虽\u001b[0m\u001b[32m然\u001b[0m\u001b[32m是\u001b[0m\u001b[32m晴\u001b[0m\u001b[32m天\u001b[0m\u001b[32m，\u001b[0m\u001b[32m但\u001b[0m\u001b[32m气\u001b[0m\u001b[32m温\u001b[0m\u001b[32m可能\u001b[0m\u001b[32m有\u001b[0m\u001b[32m些\u001b[0m\u001b[32m起\u001b[0m\u001b[32m伏\u001b[0m\u001b[32m，\u001b[0m\u001b[32m准\u001b[0m\u001b[32m备\u001b[0m\u001b[32m一\u001b[0m\u001b[32m件\u001b[0m\u001b[32m薄\u001b[0m\u001b[32m外\u001b[0m\u001b[32m套\u001b[0m\u001b[32m以\u001b[0m\u001b[32m备\u001b[0m\u001b[32m不\u001b[0m\u001b[32m时\u001b[0m\u001b[32m之\u001b[0m\u001b[32m需\u001b[0m\u001b[32m。\n",
      "\u001b[0m\u001b[32m3\u001b[0m\u001b[32m.\u001b[0m\u001b[32m 饮\u001b[0m\u001b[32m水\u001b[0m\u001b[32m：\u001b[0m\u001b[32m外\u001b[0m\u001b[32m出\u001b[0m\u001b[32m时\u001b[0m\u001b[32m记\u001b[0m\u001b[32m得\u001b[0m\u001b[32m携\u001b[0m\u001b[32m带\u001b[0m\u001b[32m足\u001b[0m\u001b[32m够\u001b[0m\u001b[32m的\u001b[0m\u001b[32m水\u001b[0m\u001b[32m，\u001b[0m\u001b[32m保\u001b[0m\u001b[32m持\u001b[0m\u001b[32m水\u001b[0m\u001b[32m分\u001b[0m\u001b[32m补\u001b[0m\u001b[32m给\u001b[0m\u001b[32m。\n",
      "\u001b[0m\u001b[32m4\u001b[0m\u001b[32m.\u001b[0m\u001b[32m 防\u001b[0m\u001b[32m蚊\u001b[0m\u001b[32m液\u001b[0m\u001b[32m：\u001b[0m\u001b[32m如果\u001b[0m\u001b[32m您\u001b[0m\u001b[32m打\u001b[0m\u001b[32m算\u001b[0m\u001b[32m去\u001b[0m\u001b[32m户\u001b[0m\u001b[32m外\u001b[0m\u001b[32m活\u001b[0m\u001b[32m动\u001b[0m\u001b[32m，\u001b[0m\u001b[32m可以\u001b[0m\u001b[32m考\u001b[0m\u001b[32m虑\u001b[0m\u001b[32m携\u001b[0m\u001b[32m带\u001b[0m\u001b[32m防\u001b[0m\u001b[32m蚊\u001b[0m\u001b[32m液\u001b[0m\u001b[32m，\u001b[0m\u001b[32m预\u001b[0m\u001b[32m防\u001b[0m\u001b[32m蚊\u001b[0m\u001b[32m虫\u001b[0m\u001b[32m叮\u001b[0m\u001b[32m咬\u001b[0m\u001b[32m。\n",
      "\u001b[0m\u001b[32m希\u001b[0m\u001b[32m望\u001b[0m\u001b[32m您\u001b[0m\u001b[32m有\u001b[0m\u001b[32m一个\u001b[0m\u001b[32m愉\u001b[0m\u001b[32m快\u001b[0m\u001b[32m的\u001b[0m\u001b[32m出\u001b[0m\u001b[32m行\u001b[0m\u001b[32m！\u001b[0m\n",
      "\n"
     ]
    },
    {
     "data": {
      "text/plain": [
       "'{\"0\": {\"index\": 0, \"id\": \"call_zEBXM1Aev90Rz5jjq5n9nj95\", \"type\": \"function\", \"function\": {\"name\": \"get_current_weather\", \"arguments\": \"{\\\\n  \\\\\"location\\\\\": \\\\\"广州\\\\\"\\\\n}\"}}}根据今天广州的天气情况，您出门可以准备以下物品：\\n1. 防晒霜和太阳镜：因为是晴天，阳光强烈，建议携带防晒霜和太阳镜。\\n2. 薄外套：虽然是晴天，但气温可能有些起伏，准备一件薄外套以备不时之需。\\n3. 饮水：外出时记得携带足够的水，保持水分补给。\\n4. 防蚊液：如果您打算去户外活动，可以考虑携带防蚊液，预防蚊虫叮咬。\\n希望您有一个愉快的出行！'"
      ]
     },
     "execution_count": 7,
     "metadata": {},
     "output_type": "execute_result"
    }
   ],
   "source": [
    "openai = ChatOpenAI(\n",
    "    tools=[convert_to_openai_tool(get_current_weather)],\n",
    "    toolkits=[get_current_weather]\n",
    ")\n",
    "\n",
    "log(openai, \"今天广州出门要准备什么？\", model=\"gpt-3.5-turbo\", verbose=True)"
   ]
  },
  {
   "cell_type": "markdown",
   "id": "57373ba5-19d6-4a9a-a744-3b485a272164",
   "metadata": {},
   "source": [
    "### 智谱AI"
   ]
  },
  {
   "cell_type": "code",
   "execution_count": 8,
   "id": "5312c9e9-9ab8-4a48-bfc8-c75fcb01631c",
   "metadata": {},
   "outputs": [
    {
     "name": "stdout",
     "output_type": "stream",
     "text": [
      "\u001b[32m小白\u001b[0m\u001b[32m兔\u001b[0m\u001b[32m儿\u001b[0m\u001b[32m梦\u001b[0m\u001b[32m飞翔\u001b[0m\u001b[32m，\n",
      "碧\u001b[0m\u001b[32m绿\u001b[0m\u001b[32m草\u001b[0m\u001b[32m丛\u001b[0m\u001b[32m绕\u001b[0m\u001b[32m身旁\u001b[0m\u001b[32m。\n",
      "月\u001b[0m\u001b[32m儿\u001b[0m\u001b[32m弯\u001b[0m\u001b[32m弯\u001b[0m\u001b[32m照\u001b[0m\u001b[32m梦境\u001b[0m\u001b[32m，\n",
      "梦中\u001b[0m\u001b[32m花\u001b[0m\u001b[32m海\u001b[0m\u001b[32m笑\u001b[0m\u001b[32m颜\u001b[0m\u001b[32m开\u001b[0m\u001b[32m。\u001b[0m\n",
      "\n"
     ]
    },
    {
     "data": {
      "text/plain": [
       "'小白兔儿梦飞翔，\\n碧绿草丛绕身旁。\\n月儿弯弯照梦境，\\n梦中花海笑颜开。'"
      ]
     },
     "execution_count": 8,
     "metadata": {},
     "output_type": "execute_result"
    }
   ],
   "source": [
    "from illufly.agent import ChatZhipu\n",
    "from illufly.io import log, alog\n",
    "\n",
    "zhipu = ChatZhipu()\n",
    "log(\n",
    "    zhipu,\n",
    "    \"你能帮我写一首关于兔子做梦的四句儿歌?\",\n",
    "    model=\"glm-4-flash\"\n",
    ")"
   ]
  },
  {
   "cell_type": "code",
   "execution_count": 9,
   "id": "32aa8a2d-bf55-4b4e-9962-8125e56b7649",
   "metadata": {},
   "outputs": [
    {
     "name": "stdout",
     "output_type": "stream",
     "text": [
      "\u001b[32m小白\u001b[0m\u001b[32m兔\u001b[0m\u001b[32m儿\u001b[0m\u001b[32m入\u001b[0m\u001b[32m梦\u001b[0m\u001b[32m乡\u001b[0m\u001b[32m，\n",
      "梦中\u001b[0m\u001b[32m草原\u001b[0m\u001b[32m绿\u001b[0m\u001b[32m意\u001b[0m\u001b[32m长\u001b[0m\u001b[32m，\n",
      "风\u001b[0m\u001b[32m儿\u001b[0m\u001b[32m轻\u001b[0m\u001b[32m拂\u001b[0m\u001b[32m吹\u001b[0m\u001b[32m梦\u001b[0m\u001b[32m乡\u001b[0m\u001b[32m，\n",
      "星星\u001b[0m\u001b[32m点点\u001b[0m\u001b[32m伴\u001b[0m\u001b[32m兔\u001b[0m\u001b[32m行\u001b[0m\u001b[32m，\n",
      "彩虹\u001b[0m\u001b[32m桥\u001b[0m\u001b[32m上\u001b[0m\u001b[32m跳跃\u001b[0m\u001b[32m起\u001b[0m\u001b[32m，\n",
      "花\u001b[0m\u001b[32m丛\u001b[0m\u001b[32m深处\u001b[0m\u001b[32m笑声\u001b[0m\u001b[32m扬\u001b[0m\u001b[32m，\n",
      "醒来\u001b[0m\u001b[32m阳光\u001b[0m\u001b[32m洒\u001b[0m\u001b[32m窗\u001b[0m\u001b[32m前\u001b[0m\u001b[32m，\n",
      "梦境\u001b[0m\u001b[32m美好\u001b[0m\u001b[32m心中\u001b[0m\u001b[32m藏\u001b[0m\u001b[32m。\u001b[0m\n",
      "\n"
     ]
    },
    {
     "data": {
      "text/plain": [
       "'小白兔儿入梦乡，\\n梦中草原绿意长，\\n风儿轻拂吹梦乡，\\n星星点点伴兔行，\\n彩虹桥上跳跃起，\\n花丛深处笑声扬，\\n醒来阳光洒窗前，\\n梦境美好心中藏。'"
      ]
     },
     "execution_count": 9,
     "metadata": {},
     "output_type": "execute_result"
    }
   ],
   "source": [
    "await alog(zhipu, \"能改为6句？\")"
   ]
  },
  {
   "cell_type": "code",
   "execution_count": 10,
   "id": "4ed261db-32e1-4a14-8dc4-80fa64bb7251",
   "metadata": {},
   "outputs": [
    {
     "data": {
      "text/plain": [
       "[{'role': 'user', 'content': '你能帮我写一首关于兔子做梦的四句儿歌?'},\n",
       " {'role': 'assistant', 'content': '小白兔儿梦飞翔，\\n碧绿草丛绕身旁。\\n月儿弯弯照梦境，\\n梦中花海笑颜开。'},\n",
       " {'role': 'user', 'content': '能改为6句？'},\n",
       " {'role': 'assistant',\n",
       "  'content': '小白兔儿入梦乡，\\n梦中草原绿意长，\\n风儿轻拂吹梦乡，\\n星星点点伴兔行，\\n彩虹桥上跳跃起，\\n花丛深处笑声扬，\\n醒来阳光洒窗前，\\n梦境美好心中藏。'}]"
      ]
     },
     "execution_count": 10,
     "metadata": {},
     "output_type": "execute_result"
    }
   ],
   "source": [
    "zhipu.memory"
   ]
  },
  {
   "cell_type": "code",
   "execution_count": 11,
   "id": "fed97be4-2b81-4b8d-ac2c-4877219f73ce",
   "metadata": {},
   "outputs": [
    {
     "data": {
      "text/plain": [
       "'{\"0\": {\"index\": 0, \"id\": \"call_20240914141003c9258a74982b4e76\", \"type\": \"function\", \"function\": {\"name\": \"get_current_weather\", \"arguments\": \"{\\\\\"location\\\\\":\\\\\"Guangzhou\\\\\"}\"}}}'"
      ]
     },
     "execution_count": 11,
     "metadata": {},
     "output_type": "execute_result"
    }
   ],
   "source": [
    "from illufly.tools import tool, convert_to_openai_tool\n",
    "from illufly.agent import ChatZhipu\n",
    "from illufly.io import alog\n",
    "import json\n",
    "\n",
    "@tool\n",
    "def get_current_weather(location: str):\n",
    "    \"\"\"获取城市的天气情况\"\"\"\n",
    "    return f\"{location}今天是晴天。 \"\n",
    "\n",
    "await alog(\n",
    "    ChatZhipu(),\n",
    "    \"今天广州天气如何啊\",\n",
    "    tools=[convert_to_openai_tool(get_current_weather)],\n",
    "    model=\"glm-4\"\n",
    ")"
   ]
  },
  {
   "cell_type": "code",
   "execution_count": 12,
   "id": "8a55177d-b973-46bc-81be-96b1e5e87cbd",
   "metadata": {},
   "outputs": [
    {
     "name": "stdout",
     "output_type": "stream",
     "text": [
      "\u001b[32mG\u001b[0m\u001b[32mu\u001b[0m\u001b[32ma\u001b[0m\u001b[32mn\u001b[0m\u001b[32mg\u001b[0m\u001b[32mz\u001b[0m\u001b[32mh\u001b[0m\u001b[32mo\u001b[0m\u001b[32mu\u001b[0m\u001b[32m今\u001b[0m\u001b[32m天\u001b[0m\u001b[32m是\u001b[0m\u001b[32m晴\u001b[0m\u001b[32m天\u001b[0m\u001b[32m。\u001b[0m\u001b[32m \u001b[0m\n",
      "\n",
      "\u001b[32m根据\u001b[0m\u001b[32mAPI\u001b[0m\u001b[32m返回\u001b[0m\u001b[32m的结果\u001b[0m\u001b[32m，\u001b[0m\u001b[32mGu\u001b[0m\u001b[32mang\u001b[0m\u001b[32mzhou\u001b[0m\u001b[32m今天是\u001b[0m\u001b[32m晴天\u001b[0m\u001b[32m，\u001b[0m\u001b[32m所以\u001b[0m\u001b[32m不需要\u001b[0m\u001b[32m带\u001b[0m\u001b[32m雨\u001b[0m\u001b[32m具\u001b[0m\u001b[32m。\u001b[0m\n",
      "\n"
     ]
    },
    {
     "data": {
      "text/plain": [
       "'{\"0\": {\"index\": 0, \"id\": \"call_20240914141003a6b41109d0b34137\", \"type\": \"function\", \"function\": {\"name\": \"get_current_weather\", \"arguments\": \"{\\\\\"location\\\\\":\\\\\"Guangzhou\\\\\"}\"}}}根据API返回的结果，Guangzhou今天是晴天，所以不需要带雨具。'"
      ]
     },
     "execution_count": 12,
     "metadata": {},
     "output_type": "execute_result"
    }
   ],
   "source": [
    "await alog(\n",
    "    ChatZhipu(),\n",
    "    \"广州今天出门要带雨具吗？\",\n",
    "    tools=[convert_to_openai_tool(get_current_weather)],\n",
    "    toolkits=[get_current_weather],\n",
    "    model=\"glm-4\"\n",
    ")"
   ]
  },
  {
   "cell_type": "markdown",
   "id": "8e43ca89-6ded-487b-b619-32eb11d653e9",
   "metadata": {},
   "source": [
    "### 通义千问"
   ]
  },
  {
   "cell_type": "code",
   "execution_count": 13,
   "id": "75628fec-7952-42b9-87d9-f8c54e04bdec",
   "metadata": {},
   "outputs": [
    {
     "name": "stdout",
     "output_type": "stream",
     "text": [
      "\u001b[32m当然\u001b[0m\u001b[32m可以\u001b[0m\u001b[32m，\u001b[0m\u001b[32m以下是根据您要求创作\u001b[0m\u001b[32m的一首兔子梦到的四行\u001b[0m\u001b[32m儿歌：\n",
      "“小兔子啊小\u001b[0m\u001b[32m兔子，你为什么总在梦中\u001b[0m\u001b[32m跑，\n",
      "梦见森林里，有好多\u001b[0m\u001b[32m好吃的蘑菇，\n",
      "可是到了第二天，\u001b[0m\u001b[32m你就把它们全都吃光，\n",
      "只好\u001b[0m\u001b[32m去河边洗个澡，换上\u001b[0m\u001b[32m干净的衣服。”\n",
      "\n",
      "希望这首儿歌能\u001b[0m\u001b[32m给您带来快乐和乐趣。如果您有任何\u001b[0m\u001b[32m其他要求或者需要进一步的帮助，请随时\u001b[0m\u001b[32m告诉我。\u001b[0m\u001b[32m\u001b[0m\n",
      "\n"
     ]
    },
    {
     "data": {
      "text/plain": [
       "'当然可以，以下是根据您要求创作的一首兔子梦到的四行儿歌：\\n“小兔子啊小兔子，你为什么总在梦中跑，\\n梦见森林里，有好多好吃的蘑菇，\\n可是到了第二天，你就把它们全都吃光，\\n只好去河边洗个澡，换上干净的衣服。”\\n\\n希望这首儿歌能给您带来快乐和乐趣。如果您有任何其他要求或者需要进一步的帮助，请随时告诉我。'"
      ]
     },
     "execution_count": 13,
     "metadata": {},
     "output_type": "execute_result"
    }
   ],
   "source": [
    "from illufly.agent import ChatQwen\n",
    "from illufly.io import log\n",
    "\n",
    "qwen = ChatQwen()\n",
    "log(\n",
    "    qwen,\n",
    "    [{\"role\": \"user\", \"content\": \"你能帮我写一首关于兔子做梦的四句儿歌?\"}],\n",
    "    model=\"qwen2-1.5b-instruct\"\n",
    ")"
   ]
  },
  {
   "cell_type": "code",
   "execution_count": 14,
   "id": "dfb73248-a53e-4579-87d0-677a49072ae7",
   "metadata": {},
   "outputs": [
    {
     "data": {
      "text/plain": [
       "[{'role': 'user', 'content': '你能帮我写一首关于兔子做梦的四句儿歌?'},\n",
       " {'role': 'assistant',\n",
       "  'content': '当然可以，以下是根据您要求创作的一首兔子梦到的四行儿歌：\\n“小兔子啊小兔子，你为什么总在梦中跑，\\n梦见森林里，有好多好吃的蘑菇，\\n可是到了第二天，你就把它们全都吃光，\\n只好去河边洗个澡，换上干净的衣服。”\\n\\n希望这首儿歌能给您带来快乐和乐趣。如果您有任何其他要求或者需要进一步的帮助，请随时告诉我。'}]"
      ]
     },
     "execution_count": 14,
     "metadata": {},
     "output_type": "execute_result"
    }
   ],
   "source": [
    "qwen.memory"
   ]
  },
  {
   "cell_type": "code",
   "execution_count": 15,
   "id": "f565bd03-3df6-4d47-85ec-2e89ca96e618",
   "metadata": {},
   "outputs": [
    {
     "data": {
      "text/plain": [
       "{'CHAT_OPENAI': {'max_workers': 5, 'used_workers': 1, 'waiting_threads': 0},\n",
       " 'CHAT_ZHIPU': {'max_workers': 5, 'used_workers': 1, 'waiting_threads': 0},\n",
       " 'CHAT_QWEN': {'max_workers': 5, 'used_workers': 0, 'waiting_threads': 0}}"
      ]
     },
     "execution_count": 15,
     "metadata": {},
     "output_type": "execute_result"
    }
   ],
   "source": [
    "qwen.monitor_executors()"
   ]
  },
  {
   "cell_type": "code",
   "execution_count": 16,
   "id": "4b2fef77-8fb1-43ce-9edf-8753158f21e1",
   "metadata": {},
   "outputs": [],
   "source": [
    "from illufly.tools import tool, convert_to_openai_tool\n",
    "from illufly.agent import ChatQwen\n",
    "from illufly.io import log\n",
    "import json\n",
    "\n",
    "@tool\n",
    "def get_current_weather(location: str=None):\n",
    "    \"\"\"获取城市的天气情况\"\"\"\n",
    "    return f\"{location}今天是晴天。 \""
   ]
  },
  {
   "cell_type": "code",
   "execution_count": 17,
   "id": "6c2c7aa4-df97-4176-9a1c-1c67ca522c05",
   "metadata": {},
   "outputs": [
    {
     "data": {
      "text/plain": [
       "'{\"0\": {\"index\": 0, \"id\": \"call_17eb8f52a80a438c8e16a6\", \"type\": \"function\", \"function\": {\"name\": \"get_current_weather\", \"arguments\": \"{\\\\\"location\\\\\": \\\\\"广州\\\\\"}\"}}}'"
      ]
     },
     "execution_count": 17,
     "metadata": {},
     "output_type": "execute_result"
    }
   ],
   "source": [
    "log(ChatQwen(), \"今天广州天气如何啊\", tools=[convert_to_openai_tool(get_current_weather)])\n",
    "# log(ChatQwen(), \"今天广州天气如何啊\", tools=[convert_to_openai_tool(get_current_weather)], toolkits=[get_current_weather])"
   ]
  },
  {
   "cell_type": "code",
   "execution_count": 9,
   "id": "a454b4fe-c789-4a7f-962c-c11a71a91674",
   "metadata": {},
   "outputs": [
    {
     "name": "stdout",
     "output_type": "stream",
     "text": [
      "\u001b[32m广\u001b[0m\u001b[32m州\u001b[0m\u001b[32m今\u001b[0m\u001b[32m天\u001b[0m\u001b[32m是\u001b[0m\u001b[32m晴\u001b[0m\u001b[32m天\u001b[0m\u001b[32m。\u001b[0m\u001b[32m \u001b[0m\n",
      "\n",
      "\u001b[32m今天\u001b[0m\u001b[32m广州天气是晴朗\u001b[0m\u001b[32m的，并没有台风。\u001b[0m\u001b[32m\u001b[0m\n",
      "\n"
     ]
    },
    {
     "data": {
      "text/plain": [
       "'{\"0\": {\"index\": 0, \"id\": \"call_965feb9286e24c9e815e3b\", \"type\": \"function\", \"function\": {\"name\": \"get_current_weather\", \"arguments\": \"{\\\\\"location\\\\\": \\\\\"广州\\\\\"}\"}}}今天广州天气是晴朗的，并没有台风。'"
      ]
     },
     "execution_count": 9,
     "metadata": {},
     "output_type": "execute_result"
    }
   ],
   "source": [
    "qwen = ChatQwen(\n",
    "    tools=[convert_to_openai_tool(get_current_weather)],\n",
    "    toolkits=[get_current_weather]\n",
    ")\n",
    "\n",
    "log(qwen, \"今天广州有台风吗\")"
   ]
  },
  {
   "cell_type": "markdown",
   "id": "4b9d80d9-b2f7-4f3d-856b-f2280b534484",
   "metadata": {},
   "source": [
    "## Fake"
   ]
  },
  {
   "cell_type": "markdown",
   "id": "32fc77aa-8e40-4d1d-b124-37c517d8fdf6",
   "metadata": {},
   "source": [
    "### fake_llm: 模拟大模型调用过程\n",
    "\n",
    "这可以观察提示语等内部结构。"
   ]
  },
  {
   "cell_type": "code",
   "execution_count": 11,
   "id": "433e3074-d1ed-4912-919a-5c4b55fb7b28",
   "metadata": {},
   "outputs": [
    {
     "name": "stdout",
     "output_type": "stream",
     "text": [
      "\u001b[32m这\u001b[0m\u001b[32m是\u001b[0m\u001b[32m一个\u001b[0m\u001b[32m模拟\u001b[0m\u001b[32m调用\u001b[0m\u001b[32m!\u001b[0m\n",
      "\n"
     ]
    },
    {
     "data": {
      "text/plain": [
       "'这是一个模拟调用!'"
      ]
     },
     "execution_count": 11,
     "metadata": {},
     "output_type": "execute_result"
    }
   ],
   "source": [
    "from illufly.agent import FakeLLM\n",
    "from illufly.io import log\n",
    "\n",
    "log(\n",
    "    FakeLLM(),\n",
    "    [\n",
    "        {\"role\": \"system\", \"content\": \"你是一个写作能手。\"},\n",
    "        {\"role\": \"user\", \"content\": \"你能帮我写一首关于兔子做梦的四句儿歌?\"}\n",
    "    ],\n",
    "    model=\"qwen2-1.5b-instruct\"\n",
    ")"
   ]
  },
  {
   "cell_type": "code",
   "execution_count": 12,
   "id": "699bd017-f5f2-48eb-82ff-4c47dfdc595f",
   "metadata": {},
   "outputs": [
    {
     "data": {
      "text/plain": [
       "{'CHAT_OPENAI': {'max_workers': 5, 'used_workers': 0, 'waiting_threads': 0},\n",
       " 'FAKE_LLM': {'max_workers': 5, 'used_workers': 0, 'waiting_threads': 0}}"
      ]
     },
     "execution_count": 12,
     "metadata": {},
     "output_type": "execute_result"
    }
   ],
   "source": [
    "FakeLLM.monitor_executors()"
   ]
  },
  {
   "cell_type": "code",
   "execution_count": null,
   "id": "1208f91f-d8aa-4779-aa23-2f3ee1991ab1",
   "metadata": {},
   "outputs": [],
   "source": []
  }
 ],
 "metadata": {
  "kernelspec": {
   "display_name": "Python 3 (ipykernel)",
   "language": "python",
   "name": "python3"
  },
  "language_info": {
   "codemirror_mode": {
    "name": "ipython",
    "version": 3
   },
   "file_extension": ".py",
   "mimetype": "text/x-python",
   "name": "python",
   "nbconvert_exporter": "python",
   "pygments_lexer": "ipython3",
   "version": "3.10.0"
  }
 },
 "nbformat": 4,
 "nbformat_minor": 5
}
