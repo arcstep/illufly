{
 "cells": [
  {
   "cell_type": "markdown",
   "id": "9d29c40a-2a13-4a7f-a465-189d2ea5ead2",
   "metadata": {},
   "source": [
    "# 大模型"
   ]
  },
  {
   "cell_type": "markdown",
   "id": "30e55ec8-ba21-4701-96d5-6a54f9199b24",
   "metadata": {},
   "source": [
    "## 模型支持"
   ]
  },
  {
   "cell_type": "markdown",
   "id": "a5334318-b9fb-419c-a268-50baf4f5c24d",
   "metadata": {},
   "source": [
    "### OpenAI"
   ]
  },
  {
   "cell_type": "code",
   "execution_count": 1,
   "id": "50fd539c-4307-4a0e-bfd4-c2fbc18aa2f6",
   "metadata": {},
   "outputs": [],
   "source": [
    "from illufly.agent import ChatOpenAI\n",
    "from illufly.io import log, alog"
   ]
  },
  {
   "cell_type": "code",
   "execution_count": 2,
   "id": "54add976-5cc5-42af-96c2-55851d0178b0",
   "metadata": {},
   "outputs": [
    {
     "name": "stdout",
     "output_type": "stream",
     "text": [
      "\u001b[32m小\u001b[0m\u001b[32m兔\u001b[0m\u001b[32m做\u001b[0m\u001b[32m梦\u001b[0m\u001b[32m睡\u001b[0m\u001b[32m得\u001b[0m\u001b[32m安\u001b[0m\u001b[32m稳\u001b[0m\u001b[32m，\n",
      "\u001b[0m\u001b[32m梦\u001b[0m\u001b[32m里\u001b[0m\u001b[32m长\u001b[0m\u001b[32m出\u001b[0m\u001b[32m一\u001b[0m\u001b[32m对\u001b[0m\u001b[32m大\u001b[0m\u001b[32m耳\u001b[0m\u001b[32m朵\u001b[0m\u001b[32m。\n",
      "\u001b[0m\u001b[32m跳\u001b[0m\u001b[32m来\u001b[0m\u001b[32m跳\u001b[0m\u001b[32m去\u001b[0m\u001b[32m开\u001b[0m\u001b[32m心\u001b[0m\u001b[32m疯\u001b[0m\u001b[32m，\n",
      "\u001b[0m\u001b[32m梦\u001b[0m\u001b[32m里\u001b[0m\u001b[32m的\u001b[0m\u001b[32m兔\u001b[0m\u001b[32m子\u001b[0m\u001b[32m真\u001b[0m\u001b[32m可\u001b[0m\u001b[32m爱\u001b[0m\u001b[32m。\u001b[0m\n",
      "\n"
     ]
    },
    {
     "data": {
      "text/plain": [
       "'小兔做梦睡得安稳，\\n梦里长出一对大耳朵。\\n跳来跳去开心疯，\\n梦里的兔子真可爱。'"
      ]
     },
     "execution_count": 2,
     "metadata": {},
     "output_type": "execute_result"
    }
   ],
   "source": [
    "log(\n",
    "    ChatOpenAI(),\n",
    "    \"你能帮我写一首关于兔子做梦的四句儿歌?\",\n",
    "    model=\"gpt-3.5-turbo\"\n",
    ")"
   ]
  },
  {
   "cell_type": "code",
   "execution_count": 3,
   "id": "a7145a95-f03e-4783-910b-4e225f62fc2c",
   "metadata": {},
   "outputs": [
    {
     "name": "stdout",
     "output_type": "stream",
     "text": [
      "\u001b[32m当\u001b[0m\u001b[32m然\u001b[0m\u001b[32m可以\u001b[0m\u001b[32m，\u001b[0m\u001b[32m以下\u001b[0m\u001b[32m是\u001b[0m\u001b[32m我\u001b[0m\u001b[32m为\u001b[0m\u001b[32m您\u001b[0m\u001b[32m创\u001b[0m\u001b[32m作\u001b[0m\u001b[32m的\u001b[0m\u001b[32m四\u001b[0m\u001b[32m句\u001b[0m\u001b[32m儿\u001b[0m\u001b[32m歌\u001b[0m\u001b[32m：\n",
      "\n",
      "\u001b[0m\u001b[32m兔\u001b[0m\u001b[32m子\u001b[0m\u001b[32m闭\u001b[0m\u001b[32m上\u001b[0m\u001b[32m眼\u001b[0m\u001b[32m，\u001b[0m\u001b[32m做\u001b[0m\u001b[32m着\u001b[0m\u001b[32m美\u001b[0m\u001b[32m梦\u001b[0m\u001b[32m\n",
      "\u001b[0m\u001b[32m梦\u001b[0m\u001b[32m里\u001b[0m\u001b[32m有\u001b[0m\u001b[32m甜\u001b[0m\u001b[32m甜\u001b[0m\u001b[32m的\u001b[0m\u001b[32m胡\u001b[0m\u001b[32m萝\u001b[0m\u001b[32m卜\u001b[0m\u001b[32m\n",
      "\u001b[0m\u001b[32m跳\u001b[0m\u001b[32m来\u001b[0m\u001b[32m跳\u001b[0m\u001b[32m去\u001b[0m\u001b[32m开\u001b[0m\u001b[32m心\u001b[0m\u001b[32m极\u001b[0m\u001b[32m\n",
      "\u001b[0m\u001b[32m醒\u001b[0m\u001b[32m来\u001b[0m\u001b[32m一\u001b[0m\u001b[32m笑\u001b[0m\u001b[32m忘\u001b[0m\u001b[32m了\u001b[0m\u001b[32m疲\u001b[0m\u001b[32m惫\u001b[0m\n",
      "\n"
     ]
    },
    {
     "data": {
      "text/plain": [
       "'当然可以，以下是我为您创作的四句儿歌：\\n\\n兔子闭上眼，做着美梦\\n梦里有甜甜的胡萝卜\\n跳来跳去开心极\\n醒来一笑忘了疲惫'"
      ]
     },
     "execution_count": 3,
     "metadata": {},
     "output_type": "execute_result"
    }
   ],
   "source": [
    "await alog(\n",
    "    ChatOpenAI(),\n",
    "    \"你能帮我写一首关于兔子做梦的四句儿歌?\",\n",
    "    model=\"gpt-3.5-turbo\",\n",
    "    temperature=0.1\n",
    ")"
   ]
  },
  {
   "cell_type": "code",
   "execution_count": 4,
   "id": "0c02e36b-97d1-4077-83e3-3867f74010f3",
   "metadata": {},
   "outputs": [],
   "source": [
    "from illufly.tools import tool, convert_to_openai_tool\n",
    "from illufly.agent import ChatOpenAI\n",
    "from illufly.io import log, alog\n",
    "import json\n",
    "\n",
    "@tool\n",
    "def get_current_weather(location: str):\n",
    "    \"\"\"获取城市的天气情况\"\"\"\n",
    "    return f\"{location}今天是晴天。 \""
   ]
  },
  {
   "cell_type": "markdown",
   "id": "577d4020-491f-49ed-af56-1ae3a8de157a",
   "metadata": {},
   "source": [
    "**在调用时指定工具，返回应当调用的工具信息**"
   ]
  },
  {
   "cell_type": "code",
   "execution_count": 5,
   "id": "3a7a049e-2f49-4a25-871a-3af27f5b48eb",
   "metadata": {},
   "outputs": [
    {
     "data": {
      "text/plain": [
       "'{\"0\": {\"index\": 0, \"id\": \"call_eZJeCmHAXo2HenqwkXwj7tKM\", \"type\": \"function\", \"function\": {\"name\": \"get_current_weather\", \"arguments\": \"{\\\\\"location\\\\\":\\\\\"Guangzhou\\\\\"}\"}}}'"
      ]
     },
     "execution_count": 5,
     "metadata": {},
     "output_type": "execute_result"
    }
   ],
   "source": [
    "log(\n",
    "    ChatOpenAI(),\n",
    "    \"今天广州天气如何啊\",\n",
    "    model=\"gpt-3.5-turbo\",\n",
    "    tools=[convert_to_openai_tool(get_current_weather)]\n",
    ")"
   ]
  },
  {
   "cell_type": "markdown",
   "id": "39471837-d860-4ee3-a9b1-6e854c760e06",
   "metadata": {},
   "source": [
    "**工具也可以在Agent实例中声明**"
   ]
  },
  {
   "cell_type": "code",
   "execution_count": 7,
   "id": "09c7c3c2-d636-487f-9a92-5c803754c069",
   "metadata": {},
   "outputs": [
    {
     "data": {
      "text/plain": [
       "'{\"0\": {\"index\": 0, \"id\": \"call_2YNg3iXT0zqdFc11RUAaqIrD\", \"type\": \"function\", \"function\": {\"name\": \"get_current_weather\", \"arguments\": \"{\\\\n  \\\\\"location\\\\\": \\\\\"广州\\\\\"\\\\n}\"}}}'"
      ]
     },
     "execution_count": 7,
     "metadata": {},
     "output_type": "execute_result"
    }
   ],
   "source": [
    "openai = ChatOpenAI(tools=[convert_to_openai_tool(get_current_weather)])\n",
    "\n",
    "log(openai, \"今天广州天气如何啊\", model=\"gpt-3.5-turbo\")"
   ]
  },
  {
   "cell_type": "markdown",
   "id": "bf4054a4-8c99-4ed4-bc79-a71648051bca",
   "metadata": {},
   "source": [
    "**指定 toolkits 来运行回调函数**"
   ]
  },
  {
   "cell_type": "code",
   "execution_count": 9,
   "id": "3c6024dd-05e1-4688-b62f-e379a3e89144",
   "metadata": {},
   "outputs": [
    {
     "name": "stdout",
     "output_type": "stream",
     "text": [
      "[TOOLS_CALL_CHUNK] \u001b[32m{\"index\": 0, \"id\": \"call_zpsByHnJBq5vouzbE41Fk4pH\", \"type\": \"function\", \"function\": {\"name\": \"get_current_weather\", \"arguments\": \"\"}}\u001b[0m\n",
      "[TOOLS_CALL_CHUNK] \u001b[32m{\"index\": 0, \"id\": \"\", \"type\": \"function\", \"function\": {\"name\": \"\", \"arguments\": \"{\\n\"}}\u001b[0m\n",
      "[TOOLS_CALL_CHUNK] \u001b[32m{\"index\": 0, \"id\": \"\", \"type\": \"function\", \"function\": {\"name\": \"\", \"arguments\": \" \"}}\u001b[0m\n",
      "[TOOLS_CALL_CHUNK] \u001b[32m{\"index\": 0, \"id\": \"\", \"type\": \"function\", \"function\": {\"name\": \"\", \"arguments\": \" \\\"\"}}\u001b[0m\n",
      "[TOOLS_CALL_CHUNK] \u001b[32m{\"index\": 0, \"id\": \"\", \"type\": \"function\", \"function\": {\"name\": \"\", \"arguments\": \"location\"}}\u001b[0m\n",
      "[TOOLS_CALL_CHUNK] \u001b[32m{\"index\": 0, \"id\": \"\", \"type\": \"function\", \"function\": {\"name\": \"\", \"arguments\": \"\\\":\"}}\u001b[0m\n",
      "[TOOLS_CALL_CHUNK] \u001b[32m{\"index\": 0, \"id\": \"\", \"type\": \"function\", \"function\": {\"name\": \"\", \"arguments\": \" \\\"\"}}\u001b[0m\n",
      "[TOOLS_CALL_CHUNK] \u001b[32m{\"index\": 0, \"id\": \"\", \"type\": \"function\", \"function\": {\"name\": \"\", \"arguments\": \"广\"}}\u001b[0m\n",
      "[TOOLS_CALL_CHUNK] \u001b[32m{\"index\": 0, \"id\": \"\", \"type\": \"function\", \"function\": {\"name\": \"\", \"arguments\": \"州\"}}\u001b[0m\n",
      "[TOOLS_CALL_CHUNK] \u001b[32m{\"index\": 0, \"id\": \"\", \"type\": \"function\", \"function\": {\"name\": \"\", \"arguments\": \"\\\"\\n\"}}\u001b[0m\n",
      "[TOOLS_CALL_CHUNK] \u001b[32m{\"index\": 0, \"id\": \"\", \"type\": \"function\", \"function\": {\"name\": \"\", \"arguments\": \"}\"}}\u001b[0m\n",
      "[TOOLS_CALL_FINAL] \u001b[36m{\"0\": {\"index\": 0, \"id\": \"call_zpsByHnJBq5vouzbE41Fk4pH\", \"type\": \"function\", \"function\": {\"name\": \"get_current_weather\", \"arguments\": \"{\\n  \\\"location\\\": \\\"广州\\\"\\n}\"}}}\u001b[0m\n",
      "\u001b[32m广\u001b[0m\u001b[32m州\u001b[0m\u001b[32m今\u001b[0m\u001b[32m天\u001b[0m\u001b[32m是\u001b[0m\u001b[32m晴\u001b[0m\u001b[32m天\u001b[0m\u001b[32m。\u001b[0m\u001b[32m \u001b[0m\n",
      "\n",
      "\u001b[32m今\u001b[0m\u001b[32m天\u001b[0m\u001b[32m广\u001b[0m\u001b[32m州\u001b[0m\u001b[32m是\u001b[0m\u001b[32m晴\u001b[0m\u001b[32m天\u001b[0m\u001b[32m，\u001b[0m\u001b[32m出\u001b[0m\u001b[32m门\u001b[0m\u001b[32m记\u001b[0m\u001b[32m得\u001b[0m\u001b[32m带\u001b[0m\u001b[32m上\u001b[0m\u001b[32m太\u001b[0m\u001b[32m阳\u001b[0m\u001b[32m镜\u001b[0m\u001b[32m，\u001b[0m\u001b[32m防\u001b[0m\u001b[32m晒\u001b[0m\u001b[32m霜\u001b[0m\u001b[32m和\u001b[0m\u001b[32m遮\u001b[0m\u001b[32m阳\u001b[0m\u001b[32m帽\u001b[0m\u001b[32m。\u001b[0m\u001b[32m还\u001b[0m\u001b[32m可以\u001b[0m\u001b[32m穿\u001b[0m\u001b[32m轻\u001b[0m\u001b[32m便\u001b[0m\u001b[32m的\u001b[0m\u001b[32m衣\u001b[0m\u001b[32m服\u001b[0m\u001b[32m，\u001b[0m\u001b[32m例如\u001b[0m\u001b[32m短\u001b[0m\u001b[32m袖\u001b[0m\u001b[32m或\u001b[0m\u001b[32m连\u001b[0m\u001b[32m衣\u001b[0m\u001b[32m裙\u001b[0m\u001b[32m。\u001b[0m\u001b[32m同时\u001b[0m\u001b[32m，\u001b[0m\u001b[32m记\u001b[0m\u001b[32m得\u001b[0m\u001b[32m携\u001b[0m\u001b[32m带\u001b[0m\u001b[32m饮\u001b[0m\u001b[32m水\u001b[0m\u001b[32m和\u001b[0m\u001b[32m防\u001b[0m\u001b[32m蚊\u001b[0m\u001b[32m用\u001b[0m\u001b[32m品\u001b[0m\u001b[32m，\u001b[0m\u001b[32m以\u001b[0m\u001b[32m备\u001b[0m\u001b[32m不\u001b[0m\u001b[32m时\u001b[0m\u001b[32m之\u001b[0m\u001b[32m需\u001b[0m\u001b[32m。\u001b[0m\u001b[32m祝\u001b[0m\u001b[32m你\u001b[0m\u001b[32m有\u001b[0m\u001b[32m个\u001b[0m\u001b[32m愉\u001b[0m\u001b[32m快\u001b[0m\u001b[32m的\u001b[0m\u001b[32m一\u001b[0m\u001b[32m天\u001b[0m\u001b[32m！\u001b[0m\n",
      "\n"
     ]
    },
    {
     "data": {
      "text/plain": [
       "'{\"0\": {\"index\": 0, \"id\": \"call_zpsByHnJBq5vouzbE41Fk4pH\", \"type\": \"function\", \"function\": {\"name\": \"get_current_weather\", \"arguments\": \"{\\\\n  \\\\\"location\\\\\": \\\\\"广州\\\\\"\\\\n}\"}}}今天广州是晴天，出门记得带上太阳镜，防晒霜和遮阳帽。还可以穿轻便的衣服，例如短袖或连衣裙。同时，记得携带饮水和防蚊用品，以备不时之需。祝你有个愉快的一天！'"
      ]
     },
     "execution_count": 9,
     "metadata": {},
     "output_type": "execute_result"
    }
   ],
   "source": [
    "openai = ChatOpenAI(\n",
    "    tools=[convert_to_openai_tool(get_current_weather)],\n",
    "    toolkits=[get_current_weather]\n",
    ")\n",
    "\n",
    "log(openai, \"今天广州出门要准备什么？\", model=\"gpt-3.5-turbo\", verbose=True)"
   ]
  },
  {
   "cell_type": "markdown",
   "id": "57373ba5-19d6-4a9a-a744-3b485a272164",
   "metadata": {},
   "source": [
    "### 智谱AI"
   ]
  },
  {
   "cell_type": "code",
   "execution_count": 1,
   "id": "5312c9e9-9ab8-4a48-bfc8-c75fcb01631c",
   "metadata": {},
   "outputs": [
    {
     "name": "stdout",
     "output_type": "stream",
     "text": [
      "\u001b[32m小\u001b[0m\u001b[32m兔子\u001b[0m\u001b[32m梦见\u001b[0m\u001b[32m花\u001b[0m\u001b[32m丛\u001b[0m\u001b[32m中\u001b[0m\u001b[32m，\n",
      "彩\u001b[0m\u001b[32m蝶\u001b[0m\u001b[32m翩\u001b[0m\u001b[32m翩\u001b[0m\u001b[32m舞\u001b[0m\u001b[32m翩\u001b[0m\u001b[32m跹\u001b[0m\u001b[32m，\n",
      "月亮\u001b[0m\u001b[32m弯\u001b[0m\u001b[32m弯\u001b[0m\u001b[32m照\u001b[0m\u001b[32m梦中\u001b[0m\u001b[32m，\n",
      "醒来\u001b[0m\u001b[32m花儿\u001b[0m\u001b[32m笑\u001b[0m\u001b[32m盈\u001b[0m\u001b[32m盈\u001b[0m\u001b[32m。\u001b[0m\n",
      "\n"
     ]
    },
    {
     "data": {
      "text/plain": [
       "'小兔子梦见花丛中，\\n彩蝶翩翩舞翩跹，\\n月亮弯弯照梦中，\\n醒来花儿笑盈盈。'"
      ]
     },
     "execution_count": 1,
     "metadata": {},
     "output_type": "execute_result"
    }
   ],
   "source": [
    "from illufly.agent import ChatZhipu\n",
    "from illufly.io import log, alog\n",
    "\n",
    "zhipu = ChatZhipu()\n",
    "log(\n",
    "    zhipu,\n",
    "    \"你能帮我写一首关于兔子做梦的四句儿歌?\",\n",
    "    model=\"glm-4-flash\"\n",
    ")"
   ]
  },
  {
   "cell_type": "code",
   "execution_count": 2,
   "id": "32aa8a2d-bf55-4b4e-9962-8125e56b7649",
   "metadata": {},
   "outputs": [
    {
     "name": "stdout",
     "output_type": "stream",
     "text": [
      "\u001b[32m小\u001b[0m\u001b[32m兔子\u001b[0m\u001b[32m儿\u001b[0m\u001b[32m入\u001b[0m\u001b[32m梦\u001b[0m\u001b[32m乡\u001b[0m\u001b[32m，\n",
      "梦里\u001b[0m\u001b[32m花儿\u001b[0m\u001b[32m竞\u001b[0m\u001b[32m开放\u001b[0m\u001b[32m，\n",
      "蝴蝶\u001b[0m\u001b[32m飞\u001b[0m\u001b[32m舞\u001b[0m\u001b[32m彩\u001b[0m\u001b[32m衣\u001b[0m\u001b[32m裳\u001b[0m\u001b[32m，\n",
      "月亮\u001b[0m\u001b[32m姐姐\u001b[0m\u001b[32m当\u001b[0m\u001b[32m灯\u001b[0m\u001b[32m亮\u001b[0m\u001b[32m，\n",
      "兔子\u001b[0m\u001b[32m跳跃\u001b[0m\u001b[32m跳\u001b[0m\u001b[32m得\u001b[0m\u001b[32m欢\u001b[0m\u001b[32m，\n",
      "醒来\u001b[0m\u001b[32m一笑\u001b[0m\u001b[32m花儿\u001b[0m\u001b[32m香\u001b[0m\u001b[32m。\u001b[0m\n",
      "\n"
     ]
    },
    {
     "data": {
      "text/plain": [
       "'小兔子儿入梦乡，\\n梦里花儿竞开放，\\n蝴蝶飞舞彩衣裳，\\n月亮姐姐当灯亮，\\n兔子跳跃跳得欢，\\n醒来一笑花儿香。'"
      ]
     },
     "execution_count": 2,
     "metadata": {},
     "output_type": "execute_result"
    }
   ],
   "source": [
    "await alog(zhipu, \"能改为6句？\")"
   ]
  },
  {
   "cell_type": "code",
   "execution_count": 3,
   "id": "4ed261db-32e1-4a14-8dc4-80fa64bb7251",
   "metadata": {},
   "outputs": [
    {
     "data": {
      "text/plain": [
       "[{'role': 'user', 'content': '你能帮我写一首关于兔子做梦的四句儿歌?'},\n",
       " {'role': 'assistant', 'content': '小兔子梦见花丛中，\\n彩蝶翩翩舞翩跹，\\n月亮弯弯照梦中，\\n醒来花儿笑盈盈。'},\n",
       " {'role': 'user', 'content': '能改为6句？'},\n",
       " {'role': 'assistant',\n",
       "  'content': '小兔子儿入梦乡，\\n梦里花儿竞开放，\\n蝴蝶飞舞彩衣裳，\\n月亮姐姐当灯亮，\\n兔子跳跃跳得欢，\\n醒来一笑花儿香。'}]"
      ]
     },
     "execution_count": 3,
     "metadata": {},
     "output_type": "execute_result"
    }
   ],
   "source": [
    "zhipu.memory"
   ]
  },
  {
   "cell_type": "code",
   "execution_count": 5,
   "id": "fed97be4-2b81-4b8d-ac2c-4877219f73ce",
   "metadata": {},
   "outputs": [
    {
     "data": {
      "text/plain": [
       "'{\"0\": {\"index\": 0, \"id\": \"call_20240914073319281fd1daf19e4d85\", \"type\": \"function\", \"function\": {\"name\": \"get_current_weather\", \"arguments\": \"{\\\\\"location\\\\\":\\\\\"Guangzhou\\\\\"}\"}}}'"
      ]
     },
     "execution_count": 5,
     "metadata": {},
     "output_type": "execute_result"
    }
   ],
   "source": [
    "from illufly.tools import tool, convert_to_openai_tool\n",
    "from illufly.agent import ChatZhipu\n",
    "from illufly.io import alog\n",
    "import json\n",
    "\n",
    "@tool\n",
    "def get_current_weather(location: str):\n",
    "    \"\"\"获取城市的天气情况\"\"\"\n",
    "    return f\"{location}今天是晴天。 \"\n",
    "\n",
    "await alog(\n",
    "    ChatZhipu(),\n",
    "    \"今天广州天气如何啊\",\n",
    "    tools=[convert_to_openai_tool(get_current_weather)],\n",
    "    model=\"glm-4\"\n",
    ")"
   ]
  },
  {
   "cell_type": "code",
   "execution_count": 6,
   "id": "8a55177d-b973-46bc-81be-96b1e5e87cbd",
   "metadata": {},
   "outputs": [
    {
     "name": "stdout",
     "output_type": "stream",
     "text": [
      "\u001b[32mG\u001b[0m\u001b[32mu\u001b[0m\u001b[32ma\u001b[0m\u001b[32mn\u001b[0m\u001b[32mg\u001b[0m\u001b[32mz\u001b[0m\u001b[32mh\u001b[0m\u001b[32mo\u001b[0m\u001b[32mu\u001b[0m\u001b[32m今\u001b[0m\u001b[32m天\u001b[0m\u001b[32m是\u001b[0m\u001b[32m晴\u001b[0m\u001b[32m天\u001b[0m\u001b[32m。\u001b[0m\u001b[32m \u001b[0m\n",
      "\n",
      "\u001b[32m根据\u001b[0m\u001b[32mAPI\u001b[0m\u001b[32m返回\u001b[0m\u001b[32m的结果\u001b[0m\u001b[32m，\u001b[0m\u001b[32mGu\u001b[0m\u001b[32mang\u001b[0m\u001b[32mzhou\u001b[0m\u001b[32m今天是\u001b[0m\u001b[32m晴天\u001b[0m\u001b[32m，\u001b[0m\u001b[32m所以\u001b[0m\u001b[32m不需要\u001b[0m\u001b[32m带\u001b[0m\u001b[32m雨\u001b[0m\u001b[32m具\u001b[0m\u001b[32m。\u001b[0m\n",
      "\n"
     ]
    },
    {
     "data": {
      "text/plain": [
       "'{\"0\": {\"index\": 0, \"id\": \"call_20240914073452f434be1818bf4bb9\", \"type\": \"function\", \"function\": {\"name\": \"get_current_weather\", \"arguments\": \"{\\\\\"location\\\\\":\\\\\"Guangzhou\\\\\"}\"}}}根据API返回的结果，Guangzhou今天是晴天，所以不需要带雨具。'"
      ]
     },
     "execution_count": 6,
     "metadata": {},
     "output_type": "execute_result"
    }
   ],
   "source": [
    "await alog(\n",
    "    ChatZhipu(),\n",
    "    \"广州今天出门要带雨具吗？\",\n",
    "    tools=[convert_to_openai_tool(get_current_weather)],\n",
    "    toolkits=[get_current_weather],\n",
    "    model=\"glm-4\"\n",
    ")"
   ]
  },
  {
   "cell_type": "markdown",
   "id": "8e43ca89-6ded-487b-b619-32eb11d653e9",
   "metadata": {},
   "source": [
    "### 通义千问"
   ]
  },
  {
   "cell_type": "code",
   "execution_count": 2,
   "id": "75628fec-7952-42b9-87d9-f8c54e04bdec",
   "metadata": {},
   "outputs": [
    {
     "name": "stdout",
     "output_type": "stream",
     "text": [
      "\u001b[32m当然\u001b[0m\u001b[32m可以\u001b[0m\u001b[32m，\u001b[0m\u001b[32m以下是一首关于兔子\u001b[0m\u001b[32m做梦的儿歌：\n",
      "  \n",
      "小兔子\u001b[0m\u001b[32m睡觉时，\n",
      "梦见自己变成花，\n",
      "\u001b[0m\u001b[32m花瓣轻轻飘，\n",
      "飞到遥远的地方\u001b[0m\u001b[32m。\n",
      "这首儿歌简单易懂，\u001b[0m\u001b[32m同时富有想象力和趣味性。希望\u001b[0m\u001b[32m你喜欢！\u001b[0m\u001b[32m\u001b[0m\n",
      "\n"
     ]
    },
    {
     "data": {
      "text/plain": [
       "'当然可以，以下是一首关于兔子做梦的儿歌：\\n  \\n小兔子睡觉时，\\n梦见自己变成花，\\n花瓣轻轻飘，\\n飞到遥远的地方。\\n这首儿歌简单易懂，同时富有想象力和趣味性。希望你喜欢！'"
      ]
     },
     "execution_count": 2,
     "metadata": {},
     "output_type": "execute_result"
    }
   ],
   "source": [
    "from illufly.agent import ChatQwen\n",
    "from illufly.io import log\n",
    "\n",
    "qwen = ChatQwen()\n",
    "log(\n",
    "    qwen,\n",
    "    [{\"role\": \"user\", \"content\": \"你能帮我写一首关于兔子做梦的四句儿歌?\"}],\n",
    "    model=\"qwen2-1.5b-instruct\"\n",
    ")"
   ]
  },
  {
   "cell_type": "code",
   "execution_count": 3,
   "id": "dfb73248-a53e-4579-87d0-677a49072ae7",
   "metadata": {},
   "outputs": [
    {
     "data": {
      "text/plain": [
       "[{'role': 'user', 'content': '你能帮我写一首关于兔子做梦的四句儿歌?'},\n",
       " {'role': 'assistant',\n",
       "  'content': '当然可以，以下是一首关于兔子做梦的儿歌：\\n  \\n小兔子睡觉时，\\n梦见自己变成花，\\n花瓣轻轻飘，\\n飞到遥远的地方。\\n这首儿歌简单易懂，同时富有想象力和趣味性。希望你喜欢！'}]"
      ]
     },
     "execution_count": 3,
     "metadata": {},
     "output_type": "execute_result"
    }
   ],
   "source": [
    "qwen.memory"
   ]
  },
  {
   "cell_type": "code",
   "execution_count": 4,
   "id": "f565bd03-3df6-4d47-85ec-2e89ca96e618",
   "metadata": {},
   "outputs": [
    {
     "data": {
      "text/plain": [
       "{'CHAT_OPENAI': {'max_workers': 5, 'used_workers': 0, 'waiting_threads': 0}}"
      ]
     },
     "execution_count": 4,
     "metadata": {},
     "output_type": "execute_result"
    }
   ],
   "source": [
    "qwen.monitor_executors()"
   ]
  },
  {
   "cell_type": "code",
   "execution_count": 6,
   "id": "4b2fef77-8fb1-43ce-9edf-8753158f21e1",
   "metadata": {},
   "outputs": [],
   "source": [
    "from illufly.tools import tool, convert_to_openai_tool\n",
    "from illufly.agent import ChatQwen\n",
    "from illufly.io import log\n",
    "import json\n",
    "\n",
    "@tool\n",
    "def get_current_weather(location: str=None):\n",
    "    \"\"\"获取城市的天气情况\"\"\"\n",
    "    return f\"{location}今天是晴天。 \""
   ]
  },
  {
   "cell_type": "code",
   "execution_count": 7,
   "id": "6c2c7aa4-df97-4176-9a1c-1c67ca522c05",
   "metadata": {},
   "outputs": [
    {
     "data": {
      "text/plain": [
       "'{\"0\": {\"index\": 0, \"id\": \"call_5e26ef3886db4eda82609a\", \"type\": \"function\", \"function\": {\"name\": \"get_current_weather\", \"arguments\": \"{\\\\\"location\\\\\": \\\\\"广州\\\\\"}\"}}}'"
      ]
     },
     "execution_count": 7,
     "metadata": {},
     "output_type": "execute_result"
    }
   ],
   "source": [
    "log(ChatQwen(), \"今天广州天气如何啊\", tools=[convert_to_openai_tool(get_current_weather)])\n",
    "# log(ChatQwen(), \"今天广州天气如何啊\", tools=[convert_to_openai_tool(get_current_weather)], toolkits=[get_current_weather])"
   ]
  },
  {
   "cell_type": "code",
   "execution_count": 9,
   "id": "a454b4fe-c789-4a7f-962c-c11a71a91674",
   "metadata": {},
   "outputs": [
    {
     "name": "stdout",
     "output_type": "stream",
     "text": [
      "\u001b[32m广\u001b[0m\u001b[32m州\u001b[0m\u001b[32m今\u001b[0m\u001b[32m天\u001b[0m\u001b[32m是\u001b[0m\u001b[32m晴\u001b[0m\u001b[32m天\u001b[0m\u001b[32m。\u001b[0m\u001b[32m \u001b[0m\n",
      "\n",
      "\u001b[32m今天\u001b[0m\u001b[32m广州天气是晴朗\u001b[0m\u001b[32m的，并没有台风。\u001b[0m\u001b[32m\u001b[0m\n",
      "\n"
     ]
    },
    {
     "data": {
      "text/plain": [
       "'{\"0\": {\"index\": 0, \"id\": \"call_965feb9286e24c9e815e3b\", \"type\": \"function\", \"function\": {\"name\": \"get_current_weather\", \"arguments\": \"{\\\\\"location\\\\\": \\\\\"广州\\\\\"}\"}}}今天广州天气是晴朗的，并没有台风。'"
      ]
     },
     "execution_count": 9,
     "metadata": {},
     "output_type": "execute_result"
    }
   ],
   "source": [
    "qwen = ChatQwen(\n",
    "    tools=[convert_to_openai_tool(get_current_weather)],\n",
    "    toolkits=[get_current_weather]\n",
    ")\n",
    "\n",
    "log(qwen, \"今天广州有台风吗\")"
   ]
  },
  {
   "cell_type": "markdown",
   "id": "4b9d80d9-b2f7-4f3d-856b-f2280b534484",
   "metadata": {},
   "source": [
    "## Fake"
   ]
  },
  {
   "cell_type": "markdown",
   "id": "32fc77aa-8e40-4d1d-b124-37c517d8fdf6",
   "metadata": {},
   "source": [
    "### fake_llm: 模拟大模型调用过程\n",
    "\n",
    "这可以观察提示语等内部结构。"
   ]
  },
  {
   "cell_type": "code",
   "execution_count": 11,
   "id": "433e3074-d1ed-4912-919a-5c4b55fb7b28",
   "metadata": {},
   "outputs": [
    {
     "name": "stdout",
     "output_type": "stream",
     "text": [
      "\u001b[32m这\u001b[0m\u001b[32m是\u001b[0m\u001b[32m一个\u001b[0m\u001b[32m模拟\u001b[0m\u001b[32m调用\u001b[0m\u001b[32m!\u001b[0m\n",
      "\n"
     ]
    },
    {
     "data": {
      "text/plain": [
       "'这是一个模拟调用!'"
      ]
     },
     "execution_count": 11,
     "metadata": {},
     "output_type": "execute_result"
    }
   ],
   "source": [
    "from illufly.agent import FakeLLM\n",
    "from illufly.io import log\n",
    "\n",
    "log(\n",
    "    FakeLLM(),\n",
    "    [\n",
    "        {\"role\": \"system\", \"content\": \"你是一个写作能手。\"},\n",
    "        {\"role\": \"user\", \"content\": \"你能帮我写一首关于兔子做梦的四句儿歌?\"}\n",
    "    ],\n",
    "    model=\"qwen2-1.5b-instruct\"\n",
    ")"
   ]
  },
  {
   "cell_type": "code",
   "execution_count": 12,
   "id": "699bd017-f5f2-48eb-82ff-4c47dfdc595f",
   "metadata": {},
   "outputs": [
    {
     "data": {
      "text/plain": [
       "{'CHAT_OPENAI': {'max_workers': 5, 'used_workers': 0, 'waiting_threads': 0},\n",
       " 'FAKE_LLM': {'max_workers': 5, 'used_workers': 0, 'waiting_threads': 0}}"
      ]
     },
     "execution_count": 12,
     "metadata": {},
     "output_type": "execute_result"
    }
   ],
   "source": [
    "FakeLLM.monitor_executors()"
   ]
  },
  {
   "cell_type": "code",
   "execution_count": null,
   "id": "1208f91f-d8aa-4779-aa23-2f3ee1991ab1",
   "metadata": {},
   "outputs": [],
   "source": []
  }
 ],
 "metadata": {
  "kernelspec": {
   "display_name": "Python 3 (ipykernel)",
   "language": "python",
   "name": "python3"
  },
  "language_info": {
   "codemirror_mode": {
    "name": "ipython",
    "version": 3
   },
   "file_extension": ".py",
   "mimetype": "text/x-python",
   "name": "python",
   "nbconvert_exporter": "python",
   "pygments_lexer": "ipython3",
   "version": "3.10.0"
  }
 },
 "nbformat": 4,
 "nbformat_minor": 5
}
