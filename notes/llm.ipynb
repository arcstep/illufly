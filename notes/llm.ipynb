{
 "cells": [
  {
   "cell_type": "markdown",
   "id": "9d29c40a-2a13-4a7f-a465-189d2ea5ead2",
   "metadata": {},
   "source": [
    "# 大模型"
   ]
  },
  {
   "cell_type": "markdown",
   "id": "30e55ec8-ba21-4701-96d5-6a54f9199b24",
   "metadata": {},
   "source": [
    "## 模型支持"
   ]
  },
  {
   "cell_type": "markdown",
   "id": "a5334318-b9fb-419c-a268-50baf4f5c24d",
   "metadata": {},
   "source": [
    "### OpenAI"
   ]
  },
  {
   "cell_type": "code",
   "execution_count": 9,
   "id": "54add976-5cc5-42af-96c2-55851d0178b0",
   "metadata": {},
   "outputs": [
    {
     "name": "stdout",
     "output_type": "stream",
     "text": [
      "\u001b[32m小\u001b[0m\u001b[32m兔\u001b[0m\u001b[32m子\u001b[0m\u001b[32m做\u001b[0m\u001b[32m梦\u001b[0m\u001b[32m真\u001b[0m\u001b[32m迷\u001b[0m\u001b[32m人\u001b[0m\u001b[32m，\n",
      "\u001b[0m\u001b[32m奔\u001b[0m\u001b[32m跑\u001b[0m\u001b[32m的\u001b[0m\u001b[32m草\u001b[0m\u001b[32m原\u001b[0m\u001b[32m是\u001b[0m\u001b[32m它\u001b[0m\u001b[32m的\u001b[0m\u001b[32m舞\u001b[0m\u001b[32m台\u001b[0m\u001b[32m，\n",
      "\u001b[0m\u001b[32m它\u001b[0m\u001b[32m梦\u001b[0m\u001b[32m见\u001b[0m\u001b[32m胡\u001b[0m\u001b[32m萝\u001b[0m\u001b[32m卜\u001b[0m\u001b[32m变\u001b[0m\u001b[32m成\u001b[0m\u001b[32m钻\u001b[0m\u001b[32m石\u001b[0m\u001b[32m，\n",
      "\u001b[0m\u001b[32m幸\u001b[0m\u001b[32m福\u001b[0m\u001b[32m的\u001b[0m\u001b[32m笑\u001b[0m\u001b[32m容\u001b[0m\u001b[32m洋\u001b[0m\u001b[32m溢\u001b[0m\u001b[32m脸\u001b[0m\u001b[32m庞\u001b[0m\u001b[32m。\u001b[0m\n",
      "\n"
     ]
    },
    {
     "data": {
      "text/plain": [
       "'小兔子做梦真迷人，\\n奔跑的草原是它的舞台，\\n它梦见胡萝卜变成钻石，\\n幸福的笑容洋溢脸庞。'"
      ]
     },
     "execution_count": 9,
     "metadata": {},
     "output_type": "execute_result"
    }
   ],
   "source": [
    "from illufly.llm import ChatOpenAI\n",
    "\n",
    "a = ChatOpenAI()\n",
    "a(\"你能帮我写一首关于兔子做梦的四句儿歌?\", verbose=True)"
   ]
  },
  {
   "cell_type": "code",
   "execution_count": 5,
   "id": "0f888312-1a6c-4995-b9e6-d767cad1512a",
   "metadata": {},
   "outputs": [
    {
     "name": "stdout",
     "output_type": "stream",
     "text": [
      "\u001b[32m小\u001b[0m\u001b[32m兔\u001b[0m\u001b[32m子\u001b[0m\u001b[32m卧\u001b[0m\u001b[32m着\u001b[0m\u001b[32m梦\u001b[0m\u001b[32m\n",
      "\u001b[0m\u001b[32m梦\u001b[0m\u001b[32m见\u001b[0m\u001b[32m彩\u001b[0m\u001b[32m虹\u001b[0m\u001b[32m真\u001b[0m\u001b[32m美\u001b[0m\u001b[32m妙\u001b[0m\u001b[32m\n",
      "\u001b[0m\u001b[32m跳\u001b[0m\u001b[32m跃\u001b[0m\u001b[32m欢\u001b[0m\u001b[32m快\u001b[0m\u001b[32m像\u001b[0m\u001b[32m飞\u001b[0m\u001b[32m鸟\u001b[0m\u001b[32m\n",
      "\u001b[0m\u001b[32m兔\u001b[0m\u001b[32m子\u001b[0m\u001b[32m梦\u001b[0m\u001b[32m境\u001b[0m\u001b[32m笑\u001b[0m\u001b[32m哈\u001b[0m\u001b[32m哈\u001b[0m\n",
      "\n"
     ]
    },
    {
     "data": {
      "text/plain": [
       "'小兔子卧着梦\\n梦见彩虹真美妙\\n跳跃欢快像飞鸟\\n兔子梦境笑哈哈'"
      ]
     },
     "execution_count": 5,
     "metadata": {},
     "output_type": "execute_result"
    }
   ],
   "source": [
    "# 使用 handler 函数的另一种方式：\n",
    "from illufly.llm import ChatOpenAI\n",
    "from illufly.io import log\n",
    "\n",
    "log(ChatOpenAI(), \"你能帮我写一首关于兔子做梦的四句儿歌?\", verbose=True)"
   ]
  },
  {
   "cell_type": "code",
   "execution_count": 8,
   "id": "212d95fc-5dfd-4578-90d9-115736ab7ade",
   "metadata": {},
   "outputs": [
    {
     "name": "stdout",
     "output_type": "stream",
     "text": [
      "\u001b[32m小\u001b[0m\u001b[32m兔\u001b[0m\u001b[32m做\u001b[0m\u001b[32m梦\u001b[0m\u001b[32m躺\u001b[0m\u001b[32m在\u001b[0m\u001b[32m床\u001b[0m\u001b[32m，\n",
      "\u001b[0m\u001b[32m梦\u001b[0m\u001b[32m里\u001b[0m\u001b[32m长\u001b[0m\u001b[32m满\u001b[0m\u001b[32m了\u001b[0m\u001b[32m胡\u001b[0m\u001b[32m萝\u001b[0m\u001b[32m卜\u001b[0m\u001b[32m，\n",
      "\u001b[0m\u001b[32m梦\u001b[0m\u001b[32m见\u001b[0m\u001b[32m朋\u001b[0m\u001b[32m友\u001b[0m\u001b[32m来\u001b[0m\u001b[32m陪\u001b[0m\u001b[32m伴\u001b[0m\u001b[32m他\u001b[0m\u001b[32m，\n",
      "\u001b[0m\u001b[32m幸\u001b[0m\u001b[32m福\u001b[0m\u001b[32m笑\u001b[0m\u001b[32m容\u001b[0m\u001b[32m绽\u001b[0m\u001b[32m放\u001b[0m\u001b[32m花\u001b[0m\u001b[32m。\u001b[0m\n",
      "\n"
     ]
    },
    {
     "data": {
      "text/plain": [
       "[{'role': 'user', 'content': '你能帮我写一首关于兔子做梦的四句儿歌?'},\n",
       " {'role': 'assistant', 'content': '小兔做梦躺在床，\\n梦里长满了胡萝卜，\\n梦见朋友来陪伴他，\\n幸福笑容绽放花。'}]"
      ]
     },
     "execution_count": 8,
     "metadata": {},
     "output_type": "execute_result"
    }
   ],
   "source": [
    "# 异步输出\n",
    "from illufly.llm import ChatOpenAI\n",
    "from illufly.io import alog\n",
    "\n",
    "a = ChatOpenAI(model=\"gpt-3.5-turbo\")\n",
    "await a(\n",
    "    \"你能帮我写一首关于兔子做梦的四句儿歌?\",\n",
    "    verbose=True,\n",
    "    handler=alog\n",
    ")\n",
    "a.memory"
   ]
  },
  {
   "cell_type": "code",
   "execution_count": 7,
   "id": "a7145a95-f03e-4783-910b-4e225f62fc2c",
   "metadata": {},
   "outputs": [
    {
     "name": "stdout",
     "output_type": "stream",
     "text": [
      "\u001b[32m当\u001b[0m\u001b[32m然\u001b[0m\u001b[32m可以\u001b[0m\u001b[32m！\u001b[0m\u001b[32m以下\u001b[0m\u001b[32m是\u001b[0m\u001b[32m关\u001b[0m\u001b[32m于\u001b[0m\u001b[32m兔\u001b[0m\u001b[32m子\u001b[0m\u001b[32m做\u001b[0m\u001b[32m梦\u001b[0m\u001b[32m的\u001b[0m\u001b[32m四\u001b[0m\u001b[32m句\u001b[0m\u001b[32m儿\u001b[0m\u001b[32m歌\u001b[0m\u001b[32m：\n",
      "\n",
      "\u001b[0m\u001b[32m兔\u001b[0m\u001b[32m子\u001b[0m\u001b[32m闭\u001b[0m\u001b[32m上\u001b[0m\u001b[32m眼\u001b[0m\u001b[32m，\u001b[0m\u001b[32m做\u001b[0m\u001b[32m着\u001b[0m\u001b[32m美\u001b[0m\u001b[32m梦\u001b[0m\u001b[32m\n",
      "\u001b[0m\u001b[32m梦\u001b[0m\u001b[32m里\u001b[0m\u001b[32m有\u001b[0m\u001b[32m甘\u001b[0m\u001b[32m草\u001b[0m\u001b[32m和\u001b[0m\u001b[32m胡\u001b[0m\u001b[32m萝\u001b[0m\u001b[32m卜\u001b[0m\u001b[32m\n",
      "\u001b[0m\u001b[32m跳\u001b[0m\u001b[32m来\u001b[0m\u001b[32m跳\u001b[0m\u001b[32m去\u001b[0m\u001b[32m，\u001b[0m\u001b[32m开\u001b[0m\u001b[32m心\u001b[0m\u001b[32m无\u001b[0m\u001b[32m比\u001b[0m\u001b[32m\n",
      "\u001b[0m\u001b[32m梦\u001b[0m\u001b[32m醒\u001b[0m\u001b[32m时\u001b[0m\u001b[32m，\u001b[0m\u001b[32m还\u001b[0m\u001b[32m在\u001b[0m\u001b[32m微\u001b[0m\u001b[32m笑\u001b[0m\u001b[32m着\u001b[0m\u001b[32m。\u001b[0m\n",
      "\n"
     ]
    },
    {
     "data": {
      "text/plain": [
       "[{'role': 'user', 'content': '你能帮我写一首关于兔子做梦的四句儿歌?'},\n",
       " {'role': 'assistant',\n",
       "  'content': '小兔梦中游，探索乐无忧。\\n彩虹穿云翻，欢乐心路长。\\n梦境中的花海，兔子笑哈哈。\\n醒来快去追，美梦留心间。'}]"
      ]
     },
     "execution_count": 7,
     "metadata": {},
     "output_type": "execute_result"
    }
   ],
   "source": [
    "# 在调用时指定模型名称\n",
    "await ChatOpenAI()(\n",
    "    \"你能帮我写一首关于兔子做梦的四句儿歌?\",\n",
    "    handler=alog,\n",
    "    model=\"gpt-3.5-turbo\",\n",
    "    temperature=0.1\n",
    ")\n",
    "a.memory"
   ]
  },
  {
   "cell_type": "markdown",
   "id": "577d4020-491f-49ed-af56-1ae3a8de157a",
   "metadata": {},
   "source": [
    "**在调用时指定工具，返回应当调用的工具信息**"
   ]
  },
  {
   "cell_type": "code",
   "execution_count": 2,
   "id": "e202e7d1-6812-49a1-b8b9-7b3cce8480c1",
   "metadata": {},
   "outputs": [
    {
     "name": "stdout",
     "output_type": "stream",
     "text": [
      "\u001b[32mGuangzhou今天是晴天。 \u001b[0m\n",
      "\n",
      "\u001b[32m今\u001b[0m\u001b[32m天\u001b[0m\u001b[32m广\u001b[0m\u001b[32m州\u001b[0m\u001b[32m是\u001b[0m\u001b[32m晴\u001b[0m\u001b[32m天\u001b[0m\u001b[32m，\u001b[0m\u001b[32m出\u001b[0m\u001b[32m门\u001b[0m\u001b[32m可以\u001b[0m\u001b[32m准\u001b[0m\u001b[32m备\u001b[0m\u001b[32m轻\u001b[0m\u001b[32m便\u001b[0m\u001b[32m的\u001b[0m\u001b[32m衣\u001b[0m\u001b[32m物\u001b[0m\u001b[32m和\u001b[0m\u001b[32m太\u001b[0m\u001b[32m阳\u001b[0m\u001b[32m镜\u001b[0m\u001b[32m，\u001b[0m\u001b[32m带\u001b[0m\u001b[32m上\u001b[0m\u001b[32m防\u001b[0m\u001b[32m晒\u001b[0m\u001b[32m霜\u001b[0m\u001b[32m也\u001b[0m\u001b[32m是\u001b[0m\u001b[32m个\u001b[0m\u001b[32m不\u001b[0m\u001b[32m错\u001b[0m\u001b[32m的\u001b[0m\u001b[32m选择\u001b[0m\u001b[32m。\u001b[0m\u001b[32m祝\u001b[0m\u001b[32m您\u001b[0m\u001b[32m有\u001b[0m\u001b[32m一个\u001b[0m\u001b[32m愉\u001b[0m\u001b[32m快\u001b[0m\u001b[32m的\u001b[0m\u001b[32m一\u001b[0m\u001b[32m天\u001b[0m\u001b[32m！\u001b[0m\u001b[32m如\u001b[0m\u001b[32m有\u001b[0m\u001b[32m其他\u001b[0m\u001b[32m需\u001b[0m\u001b[32m求\u001b[0m\u001b[32m或\u001b[0m\u001b[32m问题\u001b[0m\u001b[32m，请\u001b[0m\u001b[32m随\u001b[0m\u001b[32m时\u001b[0m\u001b[32m告\u001b[0m\u001b[32m诉\u001b[0m\u001b[32m我\u001b[0m\u001b[32m。\u001b[0m\n",
      "\n"
     ]
    },
    {
     "data": {
      "text/plain": [
       "[{'role': 'user', 'content': '今天广州出门要准备什么'},\n",
       " {'role': 'assistant', 'content': ''},\n",
       " {'role': 'tool', 'content': 'Guangzhou今天是晴天。 '},\n",
       " {'role': 'assistant',\n",
       "  'content': '今天广州是晴天，出门可以准备轻便的衣物和太阳镜，带上防晒霜也是个不错的选择。祝您有一个愉快的一天！如有其他需求或问题，请随时告诉我。'}]"
      ]
     },
     "execution_count": 2,
     "metadata": {},
     "output_type": "execute_result"
    }
   ],
   "source": [
    "from illufly.llm import ChatOpenAI\n",
    "from illufly.tools import ToolAgent\n",
    "\n",
    "def get_current_weather(location: str):\n",
    "    \"\"\"获取城市的天气情况\"\"\"\n",
    "    yield f\"{location}今天是晴天。 \"\n",
    "    \n",
    "a = ChatOpenAI(tools=[ToolAgent(get_current_weather)])\n",
    "a(\"今天广州出门要准备什么\", new_chat=True)\n",
    "a.memory"
   ]
  },
  {
   "cell_type": "markdown",
   "id": "57373ba5-19d6-4a9a-a744-3b485a272164",
   "metadata": {},
   "source": [
    "### 智谱AI"
   ]
  },
  {
   "cell_type": "code",
   "execution_count": 1,
   "id": "5312c9e9-9ab8-4a48-bfc8-c75fcb01631c",
   "metadata": {},
   "outputs": [
    {
     "name": "stdout",
     "output_type": "stream",
     "text": [
      "\u001b[32m小白\u001b[0m\u001b[32m兔\u001b[0m\u001b[32m儿\u001b[0m\u001b[32m梦\u001b[0m\u001b[32m儿\u001b[0m\u001b[32m香\u001b[0m\u001b[32m，\n",
      "草\u001b[0m\u001b[32m地上\u001b[0m\u001b[32m跳\u001b[0m\u001b[32m呀\u001b[0m\u001b[32m跳\u001b[0m\u001b[32m得\u001b[0m\u001b[32m欢\u001b[0m\u001b[32m。\n",
      "月亮\u001b[0m\u001b[32m姐姐\u001b[0m\u001b[32m当\u001b[0m\u001b[32m灯\u001b[0m\u001b[32m照\u001b[0m\u001b[32m，\n",
      "梦里\u001b[0m\u001b[32m花开\u001b[0m\u001b[32m笑声\u001b[0m\u001b[32m扬\u001b[0m\u001b[32m。\u001b[0m\n",
      "\n"
     ]
    },
    {
     "data": {
      "text/plain": [
       "[{'role': 'user', 'content': '你能帮我写一首关于兔子做梦的四句儿歌?'},\n",
       " {'role': 'assistant', 'content': '小白兔儿梦儿香，\\n草地上跳呀跳得欢。\\n月亮姐姐当灯照，\\n梦里花开笑声扬。'}]"
      ]
     },
     "execution_count": 1,
     "metadata": {},
     "output_type": "execute_result"
    }
   ],
   "source": [
    "from illufly.llm import ChatZhipu\n",
    "\n",
    "zhipu = ChatZhipu()\n",
    "zhipu(\n",
    "    \"你能帮我写一首关于兔子做梦的四句儿歌?\",\n",
    "    model=\"glm-4-flash\"\n",
    ")\n",
    "zhipu.memory"
   ]
  },
  {
   "cell_type": "code",
   "execution_count": 2,
   "id": "32aa8a2d-bf55-4b4e-9962-8125e56b7649",
   "metadata": {},
   "outputs": [
    {
     "name": "stdout",
     "output_type": "stream",
     "text": [
      "\u001b[32m小白\u001b[0m\u001b[32m兔\u001b[0m\u001b[32m儿\u001b[0m\u001b[32m梦中\u001b[0m\u001b[32m游\u001b[0m\u001b[32m，\n",
      "草\u001b[0m\u001b[32m丛\u001b[0m\u001b[32m深处\u001b[0m\u001b[32m闻\u001b[0m\u001b[32m花香\u001b[0m\u001b[32m。\n",
      "月亮\u001b[0m\u001b[32m婆婆\u001b[0m\u001b[32m笑\u001b[0m\u001b[32m眯\u001b[0m\u001b[32m眯\u001b[0m\u001b[32m，\n",
      "星星\u001b[0m\u001b[32m点点\u001b[0m\u001b[32m伴\u001b[0m\u001b[32m左右\u001b[0m\u001b[32m。\n",
      "梦里\u001b[0m\u001b[32m遇见\u001b[0m\u001b[32m好朋友\u001b[0m\u001b[32m，\n",
      "一起\u001b[0m\u001b[32m玩耍\u001b[0m\u001b[32m乐\u001b[0m\u001b[32m悠悠\u001b[0m\u001b[32m。\n",
      "醒来\u001b[0m\u001b[32m阳光\u001b[0m\u001b[32m照\u001b[0m\u001b[32m窗\u001b[0m\u001b[32m前\u001b[0m\u001b[32m，\n",
      "梦中\u001b[0m\u001b[32m快乐\u001b[0m\u001b[32m记\u001b[0m\u001b[32m心\u001b[0m\u001b[32m间\u001b[0m\u001b[32m。\u001b[0m\n",
      "\n"
     ]
    },
    {
     "data": {
      "text/plain": [
       "[{'role': 'user', 'content': '你能帮我写一首关于兔子做梦的四句儿歌?'},\n",
       " {'role': 'assistant', 'content': '小白兔儿梦儿香，\\n草地上跳呀跳得欢。\\n月亮姐姐当灯照，\\n梦里花开笑声扬。'},\n",
       " {'role': 'user', 'content': '能改为6句？'},\n",
       " {'role': 'assistant',\n",
       "  'content': '小白兔儿梦中游，\\n草丛深处闻花香。\\n月亮婆婆笑眯眯，\\n星星点点伴左右。\\n梦里遇见好朋友，\\n一起玩耍乐悠悠。\\n醒来阳光照窗前，\\n梦中快乐记心间。'}]"
      ]
     },
     "execution_count": 2,
     "metadata": {},
     "output_type": "execute_result"
    }
   ],
   "source": [
    "from illufly.io import alog\n",
    "await zhipu(\"能改为6句？\", handler=alog)\n",
    "zhipu.memory"
   ]
  },
  {
   "cell_type": "code",
   "execution_count": 3,
   "id": "fed97be4-2b81-4b8d-ac2c-4877219f73ce",
   "metadata": {},
   "outputs": [
    {
     "name": "stdout",
     "output_type": "stream",
     "text": [
      "\u001b[32m广\u001b[0m\u001b[32m州\u001b[0m\u001b[32m今\u001b[0m\u001b[32m天\u001b[0m\u001b[32m是\u001b[0m\u001b[32m晴\u001b[0m\u001b[32m天\u001b[0m\u001b[32m。\u001b[0m\u001b[32m \u001b[0m\n",
      "\n",
      "\u001b[32m今天\u001b[0m\u001b[32m广州\u001b[0m\u001b[32m的\u001b[0m\u001b[32m天气\u001b[0m\u001b[32m情况\u001b[0m\u001b[32m是\u001b[0m\u001b[32m晴天\u001b[0m\u001b[32m哦\u001b[0m\u001b[32m！\u001b[0m\n",
      "\n"
     ]
    },
    {
     "data": {
      "text/plain": [
       "'今天广州的天气情况是晴天哦！'"
      ]
     },
     "execution_count": 3,
     "metadata": {},
     "output_type": "execute_result"
    }
   ],
   "source": [
    "from illufly.tools import ToolAgent\n",
    "from illufly.llm import ChatZhipu\n",
    "from illufly.io import alog\n",
    "\n",
    "def get_current_weather(location: str):\n",
    "    \"\"\"获取城市的天气情况\"\"\"\n",
    "    return f\"{location}今天是晴天。 \"\n",
    "\n",
    "zhipu = ChatZhipu(\n",
    "    tools=[ToolAgent(get_current_weather)],\n",
    "    model=\"glm-4-air\"\n",
    ")\n",
    "await zhipu(\"今天广州天气如何啊\", handler=alog)"
   ]
  },
  {
   "cell_type": "markdown",
   "id": "8e43ca89-6ded-487b-b619-32eb11d653e9",
   "metadata": {},
   "source": [
    "### 通义千问"
   ]
  },
  {
   "cell_type": "code",
   "execution_count": 4,
   "id": "75628fec-7952-42b9-87d9-f8c54e04bdec",
   "metadata": {},
   "outputs": [
    {
     "name": "stdout",
     "output_type": "stream",
     "text": [
      "\u001b[32m当然\u001b[0m\u001b[32m可以\u001b[0m\u001b[32m，\u001b[0m\u001b[32m以下是一首关于兔子\u001b[0m\u001b[32m做梦的四句儿歌：\n",
      "\n",
      "兔子\u001b[0m\u001b[32m梦中见彩虹，\n",
      "飞翔在蓝天\u001b[0m\u001b[32m上空。\n",
      "与小鸟一同嬉戏\u001b[0m\u001b[32m，\n",
      "快乐无边又无忧。\u001b[0m\u001b[32m\u001b[0m\n",
      "\n"
     ]
    },
    {
     "data": {
      "text/plain": [
       "'当然可以，以下是一首关于兔子做梦的四句儿歌：\\n\\n兔子梦中见彩虹，\\n飞翔在蓝天上空。\\n与小鸟一同嬉戏，\\n快乐无边又无忧。'"
      ]
     },
     "execution_count": 4,
     "metadata": {},
     "output_type": "execute_result"
    }
   ],
   "source": [
    "from illufly.llm import ChatQwen\n",
    "from illufly.io import log\n",
    "\n",
    "qwen = ChatQwen()\n",
    "log(\n",
    "    qwen,\n",
    "    [{\"role\": \"user\", \"content\": \"你能帮我写一首关于兔子做梦的四句儿歌?\"}],\n",
    "    model=\"qwen2-1.5b-instruct\"\n",
    ")"
   ]
  },
  {
   "cell_type": "code",
   "execution_count": 15,
   "id": "dfb73248-a53e-4579-87d0-677a49072ae7",
   "metadata": {},
   "outputs": [
    {
     "data": {
      "text/plain": [
       "[{'role': 'user', 'content': '你能帮我写一首关于兔子做梦的四句儿歌?'},\n",
       " {'role': 'assistant',\n",
       "  'content': '当然可以，以下是一首关于兔子做梦的儿歌：\\n兔子在梦中游荡，\\n梦见自己变成了一只小鸟，\\n飞上天空自由翱翔，\\n醒来时发现这是个美丽的梦。'}]"
      ]
     },
     "execution_count": 15,
     "metadata": {},
     "output_type": "execute_result"
    }
   ],
   "source": [
    "qwen.memory"
   ]
  },
  {
   "cell_type": "code",
   "execution_count": 16,
   "id": "f565bd03-3df6-4d47-85ec-2e89ca96e618",
   "metadata": {},
   "outputs": [
    {
     "data": {
      "text/plain": [
       "{'CHAT_OPENAI': {'max_workers': 5, 'used_workers': 1, 'waiting_threads': 0},\n",
       " 'DEFAULT': {'max_workers': 5, 'used_workers': 0, 'waiting_threads': 0},\n",
       " 'CHAT_ZHIPU': {'max_workers': 5, 'used_workers': 1, 'waiting_threads': 0},\n",
       " 'CHAT_QWEN': {'max_workers': 5, 'used_workers': 0, 'waiting_threads': 0}}"
      ]
     },
     "execution_count": 16,
     "metadata": {},
     "output_type": "execute_result"
    }
   ],
   "source": [
    "qwen.monitor_executors()"
   ]
  },
  {
   "cell_type": "code",
   "execution_count": 18,
   "id": "4b2fef77-8fb1-43ce-9edf-8753158f21e1",
   "metadata": {},
   "outputs": [],
   "source": [
    "from illufly.tools import ToolAgent\n",
    "from illufly.llm import ChatQwen\n",
    "from illufly.io import log\n",
    "import json\n",
    "\n",
    "def get_current_weather(location: str=None):\n",
    "    \"\"\"获取城市的天气情况\"\"\"\n",
    "    return f\"{location}今天是晴天。 \""
   ]
  },
  {
   "cell_type": "code",
   "execution_count": 19,
   "id": "6c2c7aa4-df97-4176-9a1c-1c67ca522c05",
   "metadata": {},
   "outputs": [
    {
     "name": "stdout",
     "output_type": "stream",
     "text": [
      "\u001b[32m广\u001b[0m\u001b[32m州\u001b[0m\u001b[32m今\u001b[0m\u001b[32m天\u001b[0m\u001b[32m是\u001b[0m\u001b[32m晴\u001b[0m\u001b[32m天\u001b[0m\u001b[32m。\u001b[0m\u001b[32m \u001b[0m\n",
      "\n",
      "\u001b[32m广\u001b[0m\u001b[32m州今天的天气是晴\u001b[0m\u001b[32m朗的。\u001b[0m\u001b[32m\u001b[0m\n",
      "\n"
     ]
    },
    {
     "data": {
      "text/plain": [
       "'广州今天的天气是晴朗的。'"
      ]
     },
     "execution_count": 19,
     "metadata": {},
     "output_type": "execute_result"
    }
   ],
   "source": [
    "log(ChatQwen(), \"今天广州天气如何啊\", tools=[ToolAgent(get_current_weather)])\n",
    "# log(ChatQwen(), \"今天广州天气如何啊\", tools=[convert_to_openai_tool(get_current_weather)], toolkits=[get_current_weather])"
   ]
  },
  {
   "cell_type": "markdown",
   "id": "4b9d80d9-b2f7-4f3d-856b-f2280b534484",
   "metadata": {},
   "source": [
    "## Fake"
   ]
  },
  {
   "cell_type": "markdown",
   "id": "32fc77aa-8e40-4d1d-b124-37c517d8fdf6",
   "metadata": {},
   "source": [
    "### fake_llm: 模拟大模型调用过程\n",
    "\n",
    "这可以观察提示语等内部结构。"
   ]
  },
  {
   "cell_type": "code",
   "execution_count": 20,
   "id": "433e3074-d1ed-4912-919a-5c4b55fb7b28",
   "metadata": {},
   "outputs": [
    {
     "name": "stdout",
     "output_type": "stream",
     "text": [
      "\u001b[32m这\u001b[0m\u001b[32m是\u001b[0m\u001b[32m一个\u001b[0m\u001b[32m模拟\u001b[0m\u001b[32m调用\u001b[0m\u001b[32m!\u001b[0m\n",
      "\n"
     ]
    },
    {
     "data": {
      "text/plain": [
       "'这是一个模拟调用!'"
      ]
     },
     "execution_count": 20,
     "metadata": {},
     "output_type": "execute_result"
    }
   ],
   "source": [
    "from illufly.llm import FakeLLM\n",
    "from illufly.io import log\n",
    "\n",
    "log(\n",
    "    FakeLLM(),\n",
    "    [\n",
    "        {\"role\": \"system\", \"content\": \"你是一个写作能手。\"},\n",
    "        {\"role\": \"user\", \"content\": \"你能帮我写一首关于兔子做梦的四句儿歌?\"}\n",
    "    ],\n",
    "    model=\"qwen2-1.5b-instruct\"\n",
    ")"
   ]
  },
  {
   "cell_type": "code",
   "execution_count": 21,
   "id": "699bd017-f5f2-48eb-82ff-4c47dfdc595f",
   "metadata": {},
   "outputs": [
    {
     "data": {
      "text/plain": [
       "{'CHAT_OPENAI': {'max_workers': 5, 'used_workers': 1, 'waiting_threads': 0},\n",
       " 'DEFAULT': {'max_workers': 5, 'used_workers': 0, 'waiting_threads': 0},\n",
       " 'CHAT_ZHIPU': {'max_workers': 5, 'used_workers': 1, 'waiting_threads': 0},\n",
       " 'CHAT_QWEN': {'max_workers': 5, 'used_workers': 0, 'waiting_threads': 0},\n",
       " 'FAKE_LLM': {'max_workers': 5, 'used_workers': 0, 'waiting_threads': 0}}"
      ]
     },
     "execution_count": 21,
     "metadata": {},
     "output_type": "execute_result"
    }
   ],
   "source": [
    "FakeLLM.monitor_executors()"
   ]
  },
  {
   "cell_type": "code",
   "execution_count": null,
   "id": "1208f91f-d8aa-4779-aa23-2f3ee1991ab1",
   "metadata": {},
   "outputs": [],
   "source": []
  }
 ],
 "metadata": {
  "kernelspec": {
   "display_name": "Python 3 (ipykernel)",
   "language": "python",
   "name": "python3"
  },
  "language_info": {
   "codemirror_mode": {
    "name": "ipython",
    "version": 3
   },
   "file_extension": ".py",
   "mimetype": "text/x-python",
   "name": "python",
   "nbconvert_exporter": "python",
   "pygments_lexer": "ipython3",
   "version": "3.10.0"
  }
 },
 "nbformat": 4,
 "nbformat_minor": 5
}
