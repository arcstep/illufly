{
 "cells": [
  {
   "cell_type": "markdown",
   "id": "9d29c40a-2a13-4a7f-a465-189d2ea5ead2",
   "metadata": {},
   "source": [
    "# 大模型"
   ]
  },
  {
   "cell_type": "markdown",
   "id": "30e55ec8-ba21-4701-96d5-6a54f9199b24",
   "metadata": {},
   "source": [
    "## 模型支持"
   ]
  },
  {
   "cell_type": "markdown",
   "id": "a5334318-b9fb-419c-a268-50baf4f5c24d",
   "metadata": {},
   "source": [
    "### OpenAI"
   ]
  },
  {
   "cell_type": "code",
   "execution_count": 2,
   "id": "54add976-5cc5-42af-96c2-55851d0178b0",
   "metadata": {},
   "outputs": [
    {
     "name": "stdout",
     "output_type": "stream",
     "text": [
      "\u001b[32m兔\u001b[0m\u001b[32m宝\u001b[0m\u001b[32m宝\u001b[0m\u001b[32m做\u001b[0m\u001b[32m梦\u001b[0m\u001b[32m睡\u001b[0m\u001b[32m，\u001b[0m\u001b[32m梦\u001b[0m\u001b[32m里\u001b[0m\u001b[32m长\u001b[0m\u001b[32m出\u001b[0m\u001b[32m大\u001b[0m\u001b[32m胡\u001b[0m\u001b[32m萝\u001b[0m\u001b[32m卜\u001b[0m\u001b[32m\n",
      "\u001b[0m\u001b[32m跳\u001b[0m\u001b[32m来\u001b[0m\u001b[32m跳\u001b[0m\u001b[32m去\u001b[0m\u001b[32m嘴\u001b[0m\u001b[32m馋\u001b[0m\u001b[32m痒\u001b[0m\u001b[32m，\u001b[0m\u001b[32m咯\u001b[0m\u001b[32m咯\u001b[0m\u001b[32m笑\u001b[0m\u001b[32m声\u001b[0m\u001b[32m乐\u001b[0m\u001b[32m陶\u001b[0m\u001b[32m陶\u001b[0m\u001b[32m\n",
      "\u001b[0m\u001b[32m梦\u001b[0m\u001b[32m醒\u001b[0m\u001b[32m了\u001b[0m\u001b[32m还\u001b[0m\u001b[32m在\u001b[0m\u001b[32m美\u001b[0m\u001b[32m梦\u001b[0m\u001b[32m中\u001b[0m\u001b[32m，\u001b[0m\u001b[32m兔\u001b[0m\u001b[32m宝\u001b[0m\u001b[32m宝\u001b[0m\u001b[32m开\u001b[0m\u001b[32m心\u001b[0m\u001b[32m笑\u001b[0m\u001b[32m哈\u001b[0m\u001b[32m哈\u001b[0m\u001b[32m\n",
      "\u001b[0m\u001b[32m今\u001b[0m\u001b[32m天\u001b[0m\u001b[32m快\u001b[0m\u001b[32m乐\u001b[0m\u001b[32m好\u001b[0m\u001b[32m心\u001b[0m\u001b[32m情\u001b[0m\u001b[32m，\u001b[0m\u001b[32m做\u001b[0m\u001b[32m梦\u001b[0m\u001b[32m也\u001b[0m\u001b[32m要\u001b[0m\u001b[32m开\u001b[0m\u001b[32m心\u001b[0m\u001b[32m哟\u001b[0m\u001b[32m。\u001b[0m\n",
      "\n"
     ]
    },
    {
     "data": {
      "text/plain": [
       "'兔宝宝做梦睡，梦里长出大胡萝卜\\n跳来跳去嘴馋痒，咯咯笑声乐陶陶\\n梦醒了还在美梦中，兔宝宝开心笑哈哈\\n今天快乐好心情，做梦也要开心哟。'"
      ]
     },
     "execution_count": 2,
     "metadata": {},
     "output_type": "execute_result"
    }
   ],
   "source": [
    "from illufly.llm import ChatOpenAI\n",
    "from illufly.io import log, alog\n",
    "a = ChatOpenAI(model=\"gpt-3.5-turbo\")\n",
    "log(\n",
    "    a,\n",
    "    \"你能帮我写一首关于兔子做梦的四句儿歌?\",\n",
    "    verbose=True\n",
    ")"
   ]
  },
  {
   "cell_type": "code",
   "execution_count": 3,
   "id": "7f2c9a7e-500c-4be5-b72e-3f9705315bda",
   "metadata": {},
   "outputs": [
    {
     "data": {
      "text/plain": [
       "[{'role': 'user', 'content': '你能帮我写一首关于兔子做梦的四句儿歌?'},\n",
       " {'role': 'assistant',\n",
       "  'content': '兔宝宝做梦睡，梦里长出大胡萝卜\\n跳来跳去嘴馋痒，咯咯笑声乐陶陶\\n梦醒了还在美梦中，兔宝宝开心笑哈哈\\n今天快乐好心情，做梦也要开心哟。'}]"
      ]
     },
     "execution_count": 3,
     "metadata": {},
     "output_type": "execute_result"
    }
   ],
   "source": [
    "a.memory"
   ]
  },
  {
   "cell_type": "code",
   "execution_count": 4,
   "id": "a7145a95-f03e-4783-910b-4e225f62fc2c",
   "metadata": {},
   "outputs": [
    {
     "name": "stdout",
     "output_type": "stream",
     "text": [
      "\u001b[32m小\u001b[0m\u001b[32m兔\u001b[0m\u001b[32m子\u001b[0m\u001b[32m做\u001b[0m\u001b[32m梦\u001b[0m\u001b[32m梦\u001b[0m\u001b[32m见\u001b[0m\u001b[32m大\u001b[0m\u001b[32m胡\u001b[0m\u001b[32m萝\u001b[0m\u001b[32m卜\u001b[0m\u001b[32m\n",
      "\u001b[0m\u001b[32m甜\u001b[0m\u001b[32m甜\u001b[0m\u001b[32m的\u001b[0m\u001b[32m梦\u001b[0m\u001b[32m境\u001b[0m\u001b[32m让\u001b[0m\u001b[32m它\u001b[0m\u001b[32m笑\u001b[0m\u001b[32m得\u001b[0m\u001b[32m合\u001b[0m\u001b[32m不\u001b[0m\u001b[32m拢\u001b[0m\u001b[32m嘴\u001b[0m\u001b[32m\n",
      "\u001b[0m\u001b[32m梦\u001b[0m\u001b[32m里\u001b[0m\u001b[32m的\u001b[0m\u001b[32m世\u001b[0m\u001b[32m界\u001b[0m\u001b[32m充\u001b[0m\u001b[32m满\u001b[0m\u001b[32m了\u001b[0m\u001b[32m欢\u001b[0m\u001b[32m乐\u001b[0m\u001b[32m和\u001b[0m\u001b[32m快\u001b[0m\u001b[32m乐\u001b[0m\u001b[32m\n",
      "\u001b[0m\u001b[32m醒\u001b[0m\u001b[32m来\u001b[0m\u001b[32m后\u001b[0m\u001b[32m它\u001b[0m\u001b[32m还\u001b[0m\u001b[32m在\u001b[0m\u001b[32m微\u001b[0m\u001b[32m笑\u001b[0m\u001b[32m，\u001b[0m\u001b[32m心\u001b[0m\u001b[32m情\u001b[0m\u001b[32m格\u001b[0m\u001b[32m外\u001b[0m\u001b[32m美\u001b[0m\u001b[32m好\u001b[0m\n",
      "\n"
     ]
    },
    {
     "data": {
      "text/plain": [
       "'小兔子做梦梦见大胡萝卜\\n甜甜的梦境让它笑得合不拢嘴\\n梦里的世界充满了欢乐和快乐\\n醒来后它还在微笑，心情格外美好'"
      ]
     },
     "execution_count": 4,
     "metadata": {},
     "output_type": "execute_result"
    }
   ],
   "source": [
    "await alog(\n",
    "    ChatOpenAI(),\n",
    "    \"你能帮我写一首关于兔子做梦的四句儿歌?\",\n",
    "    model=\"gpt-3.5-turbo\",\n",
    "    temperature=0.1\n",
    ")"
   ]
  },
  {
   "cell_type": "markdown",
   "id": "577d4020-491f-49ed-af56-1ae3a8de157a",
   "metadata": {},
   "source": [
    "**在调用时指定工具，返回应当调用的工具信息**"
   ]
  },
  {
   "cell_type": "code",
   "execution_count": 7,
   "id": "e202e7d1-6812-49a1-b8b9-7b3cce8480c1",
   "metadata": {},
   "outputs": [
    {
     "name": "stdout",
     "output_type": "stream",
     "text": [
      "\u001b[32m广州今天是晴天。 \u001b[0m\n",
      "\n",
      "\u001b[32m今天\u001b[0m\u001b[32m广州\u001b[0m\u001b[32m的\u001b[0m\u001b[32m天气\u001b[0m\u001b[32m是\u001b[0m\u001b[32m晴\u001b[0m\u001b[32m天\u001b[0m\u001b[32m，你\u001b[0m\u001b[32m出\u001b[0m\u001b[32m门\u001b[0m\u001b[32m时\u001b[0m\u001b[32m可以\u001b[0m\u001b[32m准备\u001b[0m\u001b[32m以下\u001b[0m\u001b[32m物\u001b[0m\u001b[32m品\u001b[0m\u001b[32m：\n",
      "\n",
      "\u001b[0m\u001b[32m1\u001b[0m\u001b[32m.\u001b[0m\u001b[32m **\u001b[0m\u001b[32m防\u001b[0m\u001b[32m晒\u001b[0m\u001b[32m霜\u001b[0m\u001b[32m**\u001b[0m\u001b[32m：\u001b[0m\u001b[32m保护\u001b[0m\u001b[32m皮\u001b[0m\u001b[32m肤\u001b[0m\u001b[32m免\u001b[0m\u001b[32m受\u001b[0m\u001b[32m阳\u001b[0m\u001b[32m光\u001b[0m\u001b[32m伤\u001b[0m\u001b[32m害\u001b[0m\u001b[32m。\n",
      "\u001b[0m\u001b[32m2\u001b[0m\u001b[32m.\u001b[0m\u001b[32m **\u001b[0m\u001b[32m太阳\u001b[0m\u001b[32m帽\u001b[0m\u001b[32m或\u001b[0m\u001b[32m太阳\u001b[0m\u001b[32m镜\u001b[0m\u001b[32m**\u001b[0m\u001b[32m：\u001b[0m\u001b[32m增加\u001b[0m\u001b[32m防\u001b[0m\u001b[32m晒\u001b[0m\u001b[32m效果\u001b[0m\u001b[32m，同时\u001b[0m\u001b[32m提供\u001b[0m\u001b[32m舒\u001b[0m\u001b[32m适\u001b[0m\u001b[32m感\u001b[0m\u001b[32m。\n",
      "\u001b[0m\u001b[32m3\u001b[0m\u001b[32m.\u001b[0m\u001b[32m **\u001b[0m\u001b[32m水\u001b[0m\u001b[32m瓶\u001b[0m\u001b[32m**\u001b[0m\u001b[32m：\u001b[0m\u001b[32m保持\u001b[0m\u001b[32m水\u001b[0m\u001b[32m分\u001b[0m\u001b[32m，\u001b[0m\u001b[32m特别\u001b[0m\u001b[32m是在\u001b[0m\u001b[32m户\u001b[0m\u001b[32m外\u001b[0m\u001b[32m活动\u001b[0m\u001b[32m时\u001b[0m\u001b[32m。\n",
      "\u001b[0m\u001b[32m4\u001b[0m\u001b[32m.\u001b[0m\u001b[32m **\u001b[0m\u001b[32m轻\u001b[0m\u001b[32m便\u001b[0m\u001b[32m的\u001b[0m\u001b[32m衣\u001b[0m\u001b[32m物\u001b[0m\u001b[32m**\u001b[0m\u001b[32m：\u001b[0m\u001b[32m建议\u001b[0m\u001b[32m穿\u001b[0m\u001b[32m舒\u001b[0m\u001b[32m适\u001b[0m\u001b[32m的\u001b[0m\u001b[32m短\u001b[0m\u001b[32m袖\u001b[0m\u001b[32m或\u001b[0m\u001b[32m轻\u001b[0m\u001b[32m薄\u001b[0m\u001b[32m的\u001b[0m\u001b[32m衣\u001b[0m\u001b[32m服\u001b[0m\u001b[32m以\u001b[0m\u001b[32m应\u001b[0m\u001b[32m对\u001b[0m\u001b[32m温\u001b[0m\u001b[32m暖\u001b[0m\u001b[32m的\u001b[0m\u001b[32m天气\u001b[0m\u001b[32m。\n",
      "\u001b[0m\u001b[32m5\u001b[0m\u001b[32m.\u001b[0m\u001b[32m **\u001b[0m\u001b[32m鞋\u001b[0m\u001b[32m子\u001b[0m\u001b[32m**\u001b[0m\u001b[32m：\u001b[0m\u001b[32m选择\u001b[0m\u001b[32m舒\u001b[0m\u001b[32m适\u001b[0m\u001b[32m的\u001b[0m\u001b[32m鞋\u001b[0m\u001b[32m子\u001b[0m\u001b[32m，\u001b[0m\u001b[32m方便\u001b[0m\u001b[32m步\u001b[0m\u001b[32m行\u001b[0m\u001b[32m或\u001b[0m\u001b[32m出\u001b[0m\u001b[32m行\u001b[0m\u001b[32m。\n",
      "\n",
      "\u001b[0m\u001b[32m如果\u001b[0m\u001b[32m你\u001b[0m\u001b[32m有\u001b[0m\u001b[32m具体\u001b[0m\u001b[32m的\u001b[0m\u001b[32m活动\u001b[0m\u001b[32m计划\u001b[0m\u001b[32m，还\u001b[0m\u001b[32m可以\u001b[0m\u001b[32m根据\u001b[0m\u001b[32m情况\u001b[0m\u001b[32m添加\u001b[0m\u001b[32m其他\u001b[0m\u001b[32m物\u001b[0m\u001b[32m品\u001b[0m\u001b[32m。\u001b[0m\u001b[32m希望\u001b[0m\u001b[32m你\u001b[0m\u001b[32m今天\u001b[0m\u001b[32m过\u001b[0m\u001b[32m得\u001b[0m\u001b[32m愉\u001b[0m\u001b[32m快\u001b[0m\u001b[32m！\u001b[0m\n",
      "\n"
     ]
    },
    {
     "data": {
      "text/plain": [
       "[{'role': 'user', 'content': '今天广州出门要准备什么'},\n",
       " {'role': 'assistant', 'content': ''},\n",
       " {'role': 'tool', 'content': '广州今天是晴天。 '},\n",
       " {'role': 'assistant',\n",
       "  'content': '今天广州的天气是晴天，你出门时可以准备以下物品：\\n\\n1. **防晒霜**：保护皮肤免受阳光伤害。\\n2. **太阳帽或太阳镜**：增加防晒效果，同时提供舒适感。\\n3. **水瓶**：保持水分，特别是在户外活动时。\\n4. **轻便的衣物**：建议穿舒适的短袖或轻薄的衣服以应对温暖的天气。\\n5. **鞋子**：选择舒适的鞋子，方便步行或出行。\\n\\n如果你有具体的活动计划，还可以根据情况添加其他物品。希望你今天过得愉快！'}]"
      ]
     },
     "execution_count": 7,
     "metadata": {},
     "output_type": "execute_result"
    }
   ],
   "source": [
    "from illufly.llm import ChatOpenAI\n",
    "from illufly.tools import ToolAgent\n",
    "from illufly.io import log, alog\n",
    "import json\n",
    "\n",
    "def get_current_weather(location: str):\n",
    "    \"\"\"获取城市的天气情况\"\"\"\n",
    "    yield f\"{location}今天是晴天。 \"\n",
    "    \n",
    "a = ChatOpenAI(tools=[ToolAgent(get_current_weather)])\n",
    "log(a, \"今天广州出门要准备什么\", new_chat=True)\n",
    "a.memory"
   ]
  },
  {
   "cell_type": "markdown",
   "id": "57373ba5-19d6-4a9a-a744-3b485a272164",
   "metadata": {},
   "source": [
    "### 智谱AI"
   ]
  },
  {
   "cell_type": "code",
   "execution_count": 9,
   "id": "5312c9e9-9ab8-4a48-bfc8-c75fcb01631c",
   "metadata": {},
   "outputs": [
    {
     "name": "stdout",
     "output_type": "stream",
     "text": [
      "\u001b[32m小\u001b[0m\u001b[32m兔子\u001b[0m\u001b[32m乖乖\u001b[0m\u001b[32m梦\u001b[0m\u001b[32m飞翔\u001b[0m\u001b[32m，\n",
      "夜\u001b[0m\u001b[32m幕\u001b[0m\u001b[32m降临\u001b[0m\u001b[32m入\u001b[0m\u001b[32m梦\u001b[0m\u001b[32m乡\u001b[0m\u001b[32m。\n",
      "草\u001b[0m\u001b[32m丛\u001b[0m\u001b[32m深处\u001b[0m\u001b[32m歌声\u001b[0m\u001b[32m起\u001b[0m\u001b[32m，\n",
      "彩虹\u001b[0m\u001b[32m桥\u001b[0m\u001b[32m上\u001b[0m\u001b[32m兔子\u001b[0m\u001b[32m跳\u001b[0m\u001b[32m。\u001b[0m\n",
      "\n"
     ]
    },
    {
     "data": {
      "text/plain": [
       "'小兔子乖乖梦飞翔，\\n夜幕降临入梦乡。\\n草丛深处歌声起，\\n彩虹桥上兔子跳。'"
      ]
     },
     "execution_count": 9,
     "metadata": {},
     "output_type": "execute_result"
    }
   ],
   "source": [
    "from illufly.llm import ChatZhipu\n",
    "from illufly.io import log, alog\n",
    "\n",
    "zhipu = ChatZhipu()\n",
    "log(\n",
    "    zhipu,\n",
    "    \"你能帮我写一首关于兔子做梦的四句儿歌?\",\n",
    "    model=\"glm-4-flash\"\n",
    ")"
   ]
  },
  {
   "cell_type": "code",
   "execution_count": 10,
   "id": "32aa8a2d-bf55-4b4e-9962-8125e56b7649",
   "metadata": {},
   "outputs": [
    {
     "name": "stdout",
     "output_type": "stream",
     "text": [
      "\u001b[32m小\u001b[0m\u001b[32m兔子\u001b[0m\u001b[32m乖乖\u001b[0m\u001b[32m，\u001b[0m\u001b[32m梦里\u001b[0m\u001b[32m飞\u001b[0m\u001b[32m得\u001b[0m\u001b[32m高\u001b[0m\u001b[32m，\n",
      "夜\u001b[0m\u001b[32m色\u001b[0m\u001b[32m温柔\u001b[0m\u001b[32m，\u001b[0m\u001b[32m轻轻\u001b[0m\u001b[32m把\u001b[0m\u001b[32m梦\u001b[0m\u001b[32m摇\u001b[0m\u001b[32m。\n",
      "草\u001b[0m\u001b[32m地上\u001b[0m\u001b[32m跳\u001b[0m\u001b[32m，\u001b[0m\u001b[32m梦见\u001b[0m\u001b[32m自己\u001b[0m\u001b[32m大\u001b[0m\u001b[32m，\n",
      "彩虹\u001b[0m\u001b[32m桥\u001b[0m\u001b[32m上\u001b[0m\u001b[32m，\u001b[0m\u001b[32m兔子\u001b[0m\u001b[32m跳舞\u001b[0m\u001b[32m笑\u001b[0m\u001b[32m。\n",
      "星星\u001b[0m\u001b[32m点点\u001b[0m\u001b[32m，\u001b[0m\u001b[32m照亮\u001b[0m\u001b[32m兔子\u001b[0m\u001b[32m家\u001b[0m\u001b[32m，\n",
      "醒来\u001b[0m\u001b[32m一笑\u001b[0m\u001b[32m，\u001b[0m\u001b[32m梦里\u001b[0m\u001b[32m花儿\u001b[0m\u001b[32m开\u001b[0m\u001b[32m。\u001b[0m\n",
      "\n"
     ]
    },
    {
     "data": {
      "text/plain": [
       "'小兔子乖乖，梦里飞得高，\\n夜色温柔，轻轻把梦摇。\\n草地上跳，梦见自己大，\\n彩虹桥上，兔子跳舞笑。\\n星星点点，照亮兔子家，\\n醒来一笑，梦里花儿开。'"
      ]
     },
     "execution_count": 10,
     "metadata": {},
     "output_type": "execute_result"
    }
   ],
   "source": [
    "await alog(zhipu, \"能改为6句？\")"
   ]
  },
  {
   "cell_type": "code",
   "execution_count": 11,
   "id": "4ed261db-32e1-4a14-8dc4-80fa64bb7251",
   "metadata": {},
   "outputs": [
    {
     "data": {
      "text/plain": [
       "[{'role': 'user', 'content': '你能帮我写一首关于兔子做梦的四句儿歌?'},\n",
       " {'role': 'assistant', 'content': '小兔子乖乖梦飞翔，\\n夜幕降临入梦乡。\\n草丛深处歌声起，\\n彩虹桥上兔子跳。'},\n",
       " {'role': 'user', 'content': '能改为6句？'},\n",
       " {'role': 'assistant',\n",
       "  'content': '小兔子乖乖，梦里飞得高，\\n夜色温柔，轻轻把梦摇。\\n草地上跳，梦见自己大，\\n彩虹桥上，兔子跳舞笑。\\n星星点点，照亮兔子家，\\n醒来一笑，梦里花儿开。'}]"
      ]
     },
     "execution_count": 11,
     "metadata": {},
     "output_type": "execute_result"
    }
   ],
   "source": [
    "zhipu.memory"
   ]
  },
  {
   "cell_type": "code",
   "execution_count": 13,
   "id": "fed97be4-2b81-4b8d-ac2c-4877219f73ce",
   "metadata": {},
   "outputs": [
    {
     "name": "stdout",
     "output_type": "stream",
     "text": [
      "\u001b[32mG\u001b[0m\u001b[32mu\u001b[0m\u001b[32ma\u001b[0m\u001b[32mn\u001b[0m\u001b[32mg\u001b[0m\u001b[32mz\u001b[0m\u001b[32mh\u001b[0m\u001b[32mo\u001b[0m\u001b[32mu\u001b[0m\u001b[32m今\u001b[0m\u001b[32m天\u001b[0m\u001b[32m是\u001b[0m\u001b[32m晴\u001b[0m\u001b[32m天\u001b[0m\u001b[32m。\u001b[0m\u001b[32m \u001b[0m\n",
      "\n",
      "\u001b[32m好的\u001b[0m\u001b[32m，\u001b[0m\u001b[32m我\u001b[0m\u001b[32m需要\u001b[0m\u001b[32m调用\u001b[0m\u001b[32m一个\u001b[0m\u001b[32m天气\u001b[0m\u001b[32mAPI\u001b[0m\u001b[32m来\u001b[0m\u001b[32m获取\u001b[0m\u001b[32m广州\u001b[0m\u001b[32m的\u001b[0m\u001b[32m天气\u001b[0m\u001b[32m信息\u001b[0m\u001b[32m。\u001b[0m\u001b[32m请\u001b[0m\u001b[32m稍\u001b[0m\u001b[32m等\u001b[0m\u001b[32m片刻\u001b[0m\u001b[32m今天\u001b[0m\u001b[32m广州\u001b[0m\u001b[32m天气\u001b[0m\u001b[32m如何\u001b[0m\u001b[32m啊\u001b[0m\u001b[32m？\u001b[0m\n",
      "\n"
     ]
    },
    {
     "data": {
      "text/plain": [
       "'好的，我需要调用一个天气API来获取广州的天气信息。请稍等片刻今天广州天气如何啊？'"
      ]
     },
     "execution_count": 13,
     "metadata": {},
     "output_type": "execute_result"
    }
   ],
   "source": [
    "from illufly.tools import ToolAgent\n",
    "from illufly.llm import ChatZhipu\n",
    "from illufly.io import alog\n",
    "import json\n",
    "\n",
    "def get_current_weather(location: str):\n",
    "    \"\"\"获取城市的天气情况\"\"\"\n",
    "    return f\"{location}今天是晴天。 \"\n",
    "\n",
    "await alog(\n",
    "    ChatZhipu(),\n",
    "    \"今天广州天气如何啊\",\n",
    "    tools=[ToolAgent(get_current_weather)],\n",
    "    model=\"glm-4\"\n",
    ")"
   ]
  },
  {
   "cell_type": "markdown",
   "id": "8e43ca89-6ded-487b-b619-32eb11d653e9",
   "metadata": {},
   "source": [
    "### 通义千问"
   ]
  },
  {
   "cell_type": "code",
   "execution_count": 14,
   "id": "75628fec-7952-42b9-87d9-f8c54e04bdec",
   "metadata": {},
   "outputs": [
    {
     "name": "stdout",
     "output_type": "stream",
     "text": [
      "\u001b[32m当然\u001b[0m\u001b[32m可以\u001b[0m\u001b[32m，\u001b[0m\u001b[32m以下是一首关于兔子\u001b[0m\u001b[32m做梦的儿歌：\n",
      "兔子在梦\u001b[0m\u001b[32m中游荡，\n",
      "梦见自己变成了一\u001b[0m\u001b[32m只小鸟，\n",
      "飞上天空自由翱\u001b[0m\u001b[32m翔，\n",
      "醒来时发现这是个美丽的\u001b[0m\u001b[32m梦。\u001b[0m\u001b[32m\u001b[0m\n",
      "\n"
     ]
    },
    {
     "data": {
      "text/plain": [
       "'当然可以，以下是一首关于兔子做梦的儿歌：\\n兔子在梦中游荡，\\n梦见自己变成了一只小鸟，\\n飞上天空自由翱翔，\\n醒来时发现这是个美丽的梦。'"
      ]
     },
     "execution_count": 14,
     "metadata": {},
     "output_type": "execute_result"
    }
   ],
   "source": [
    "from illufly.llm import ChatQwen\n",
    "from illufly.io import log\n",
    "\n",
    "qwen = ChatQwen()\n",
    "log(\n",
    "    qwen,\n",
    "    [{\"role\": \"user\", \"content\": \"你能帮我写一首关于兔子做梦的四句儿歌?\"}],\n",
    "    model=\"qwen2-1.5b-instruct\"\n",
    ")"
   ]
  },
  {
   "cell_type": "code",
   "execution_count": 15,
   "id": "dfb73248-a53e-4579-87d0-677a49072ae7",
   "metadata": {},
   "outputs": [
    {
     "data": {
      "text/plain": [
       "[{'role': 'user', 'content': '你能帮我写一首关于兔子做梦的四句儿歌?'},\n",
       " {'role': 'assistant',\n",
       "  'content': '当然可以，以下是一首关于兔子做梦的儿歌：\\n兔子在梦中游荡，\\n梦见自己变成了一只小鸟，\\n飞上天空自由翱翔，\\n醒来时发现这是个美丽的梦。'}]"
      ]
     },
     "execution_count": 15,
     "metadata": {},
     "output_type": "execute_result"
    }
   ],
   "source": [
    "qwen.memory"
   ]
  },
  {
   "cell_type": "code",
   "execution_count": 16,
   "id": "f565bd03-3df6-4d47-85ec-2e89ca96e618",
   "metadata": {},
   "outputs": [
    {
     "data": {
      "text/plain": [
       "{'CHAT_OPENAI': {'max_workers': 5, 'used_workers': 1, 'waiting_threads': 0},\n",
       " 'DEFAULT': {'max_workers': 5, 'used_workers': 0, 'waiting_threads': 0},\n",
       " 'CHAT_ZHIPU': {'max_workers': 5, 'used_workers': 1, 'waiting_threads': 0},\n",
       " 'CHAT_QWEN': {'max_workers': 5, 'used_workers': 0, 'waiting_threads': 0}}"
      ]
     },
     "execution_count": 16,
     "metadata": {},
     "output_type": "execute_result"
    }
   ],
   "source": [
    "qwen.monitor_executors()"
   ]
  },
  {
   "cell_type": "code",
   "execution_count": 18,
   "id": "4b2fef77-8fb1-43ce-9edf-8753158f21e1",
   "metadata": {},
   "outputs": [],
   "source": [
    "from illufly.tools import ToolAgent\n",
    "from illufly.llm import ChatQwen\n",
    "from illufly.io import log\n",
    "import json\n",
    "\n",
    "def get_current_weather(location: str=None):\n",
    "    \"\"\"获取城市的天气情况\"\"\"\n",
    "    return f\"{location}今天是晴天。 \""
   ]
  },
  {
   "cell_type": "code",
   "execution_count": 19,
   "id": "6c2c7aa4-df97-4176-9a1c-1c67ca522c05",
   "metadata": {},
   "outputs": [
    {
     "name": "stdout",
     "output_type": "stream",
     "text": [
      "\u001b[32m广\u001b[0m\u001b[32m州\u001b[0m\u001b[32m今\u001b[0m\u001b[32m天\u001b[0m\u001b[32m是\u001b[0m\u001b[32m晴\u001b[0m\u001b[32m天\u001b[0m\u001b[32m。\u001b[0m\u001b[32m \u001b[0m\n",
      "\n",
      "\u001b[32m广\u001b[0m\u001b[32m州今天的天气是晴\u001b[0m\u001b[32m朗的。\u001b[0m\u001b[32m\u001b[0m\n",
      "\n"
     ]
    },
    {
     "data": {
      "text/plain": [
       "'广州今天的天气是晴朗的。'"
      ]
     },
     "execution_count": 19,
     "metadata": {},
     "output_type": "execute_result"
    }
   ],
   "source": [
    "log(ChatQwen(), \"今天广州天气如何啊\", tools=[ToolAgent(get_current_weather)])\n",
    "# log(ChatQwen(), \"今天广州天气如何啊\", tools=[convert_to_openai_tool(get_current_weather)], toolkits=[get_current_weather])"
   ]
  },
  {
   "cell_type": "markdown",
   "id": "4b9d80d9-b2f7-4f3d-856b-f2280b534484",
   "metadata": {},
   "source": [
    "## Fake"
   ]
  },
  {
   "cell_type": "markdown",
   "id": "32fc77aa-8e40-4d1d-b124-37c517d8fdf6",
   "metadata": {},
   "source": [
    "### fake_llm: 模拟大模型调用过程\n",
    "\n",
    "这可以观察提示语等内部结构。"
   ]
  },
  {
   "cell_type": "code",
   "execution_count": 20,
   "id": "433e3074-d1ed-4912-919a-5c4b55fb7b28",
   "metadata": {},
   "outputs": [
    {
     "name": "stdout",
     "output_type": "stream",
     "text": [
      "\u001b[32m这\u001b[0m\u001b[32m是\u001b[0m\u001b[32m一个\u001b[0m\u001b[32m模拟\u001b[0m\u001b[32m调用\u001b[0m\u001b[32m!\u001b[0m\n",
      "\n"
     ]
    },
    {
     "data": {
      "text/plain": [
       "'这是一个模拟调用!'"
      ]
     },
     "execution_count": 20,
     "metadata": {},
     "output_type": "execute_result"
    }
   ],
   "source": [
    "from illufly.llm import FakeLLM\n",
    "from illufly.io import log\n",
    "\n",
    "log(\n",
    "    FakeLLM(),\n",
    "    [\n",
    "        {\"role\": \"system\", \"content\": \"你是一个写作能手。\"},\n",
    "        {\"role\": \"user\", \"content\": \"你能帮我写一首关于兔子做梦的四句儿歌?\"}\n",
    "    ],\n",
    "    model=\"qwen2-1.5b-instruct\"\n",
    ")"
   ]
  },
  {
   "cell_type": "code",
   "execution_count": 21,
   "id": "699bd017-f5f2-48eb-82ff-4c47dfdc595f",
   "metadata": {},
   "outputs": [
    {
     "data": {
      "text/plain": [
       "{'CHAT_OPENAI': {'max_workers': 5, 'used_workers': 1, 'waiting_threads': 0},\n",
       " 'DEFAULT': {'max_workers': 5, 'used_workers': 0, 'waiting_threads': 0},\n",
       " 'CHAT_ZHIPU': {'max_workers': 5, 'used_workers': 1, 'waiting_threads': 0},\n",
       " 'CHAT_QWEN': {'max_workers': 5, 'used_workers': 0, 'waiting_threads': 0},\n",
       " 'FAKE_LLM': {'max_workers': 5, 'used_workers': 0, 'waiting_threads': 0}}"
      ]
     },
     "execution_count": 21,
     "metadata": {},
     "output_type": "execute_result"
    }
   ],
   "source": [
    "FakeLLM.monitor_executors()"
   ]
  },
  {
   "cell_type": "code",
   "execution_count": null,
   "id": "1208f91f-d8aa-4779-aa23-2f3ee1991ab1",
   "metadata": {},
   "outputs": [],
   "source": []
  }
 ],
 "metadata": {
  "kernelspec": {
   "display_name": "Python 3 (ipykernel)",
   "language": "python",
   "name": "python3"
  },
  "language_info": {
   "codemirror_mode": {
    "name": "ipython",
    "version": 3
   },
   "file_extension": ".py",
   "mimetype": "text/x-python",
   "name": "python",
   "nbconvert_exporter": "python",
   "pygments_lexer": "ipython3",
   "version": "3.10.0"
  }
 },
 "nbformat": 4,
 "nbformat_minor": 5
}
