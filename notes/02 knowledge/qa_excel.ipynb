{
 "cells": [
  {
   "cell_type": "markdown",
   "id": "a99e6763-b7fe-4786-8fa1-3e4cb3c7b844",
   "metadata": {},
   "source": [
    "# 基于 Excel 的 QA 资料"
   ]
  },
  {
   "cell_type": "code",
   "execution_count": 1,
   "id": "c7f8b4c8-b5e1-4a81-94e8-2de68ca931c6",
   "metadata": {},
   "outputs": [],
   "source": [
    "from dotenv import load_dotenv, find_dotenv\n",
    "load_dotenv(find_dotenv(), override=True)\n",
    "import os"
   ]
  },
  {
   "cell_type": "code",
   "execution_count": 61,
   "id": "3c951706-2be9-4c02-ab8d-552a88459ad6",
   "metadata": {},
   "outputs": [],
   "source": [
    "from textlong import idea\n",
    "from langchain_zhipu import ChatZhipuAI, ZhipuAIEmbeddings\n",
    "from textlong.knowledge import LocalFilesLoader"
   ]
  },
  {
   "cell_type": "markdown",
   "id": "572c2ad2-18ff-47e8-a255-6801eb3244b1",
   "metadata": {},
   "source": [
    "## 加载文档"
   ]
  },
  {
   "cell_type": "markdown",
   "id": "a735a65c-db87-418c-b79e-c95edd185db3",
   "metadata": {},
   "source": [
    "<div class=\"alert alert-warning\">\n",
    "    LocalFilesLoader默认支持Markdown、QAExcel，并实现混合加载。\n",
    "</div>"
   ]
  },
  {
   "cell_type": "code",
   "execution_count": 4,
   "id": "f7963c56-ef3d-4103-acd7-ad670476f44f",
   "metadata": {},
   "outputs": [
    {
     "data": {
      "text/plain": [
       "[Document(page_content='低层建筑 \\n场景：大于300平方米的银行营业厅;问题：是否需要设置自动喷水系统？', metadata={'answer': '问题答案：需要设立自动喷水灭火系统。&#10;&#10;相关规范解释：《建筑设计防火规范》（GB 50016-2014）第5.3.1条规定，公共建筑中的人员密集场所应设置自动喷水灭火系统。银行营业厅作为公共场所，且面积大于300平米，符合此规范要求。&#10;&#10;', 'source': 'QA/demo.xlsx', 'sheet': 'QA_50个问题'}),\n",
       " Document(page_content='低层建筑 \\n场景：大于300平方米的银行营业厅&#10;问题：&#10;（1）是不是人员密集场所？&#10;（2）依据哪条规范？', metadata={'answer': '问题（1）答案：是人员密集场所。&#10;&#10;相关规范解释：《建筑设计防火规范》（GB 50016-2014）第5.3.1条明确了人员密集场所的定义，并要求这类场所应采取相应的防火措施。银行营业厅通常会有较多的客户和工作人员，因此属于人员密集场所。&#10;&#10;问题（2）答案：《建筑设计防火规范》（GB50016-2014）。&#10;&#10;相关规范解释：该规范是中国建筑设计和消防审核的重要标准之一，其中包含了关于建筑分类、防火分区、安全疏散、消防设施等方面的详细规定，是判断一个场所是否为人员密集场所的重要依据之一。', 'source': 'QA/demo.xlsx', 'sheet': 'QA_50个问题'}),\n",
       " Document(page_content='低层建筑 \\n场景：5层高的大学实验楼&#10;（主要是化工、物理等实验室，并且采用了分体式空调）&#10;问题：是否需要设置自动喷淋系统吗，还是局部设置气体灭火系统？？', metadata={'answer': '问题答案：需要设置自动喷淋系统。&#10;&#10;相关规范解释：《建筑设计防火规范》（GB 50016-2014）和《自动喷水灭火系统设计规范》（GB 50084-2001）规定，大学实验楼作为教育科研建筑，尤其是含有化工、物理等实验室，存在较高的火灾风险，应设置自动喷淋系统。此外，根据实际情况评估，可考虑在特定区域增设气体灭火系统作为补充。&#10;', 'source': 'QA/demo.xlsx', 'sheet': 'QA_50个问题'}),\n",
       " Document(page_content=\"Pandas是Python数据分析库，提供快速、灵活、直观的数据结构操作。关键语法包括：`import pandas as pd`导入库；使用`pd.DataFrame`创建数据框；通过`df.head()`、`df.tail()`查看数据；`df['column']`选择列，`df.loc`、`df.iloc`进行行选择；使用`df.isnull()`检查缺失值；`df.dropna()`、`df.fillna()`处理缺失值；`df.corr()`计算相关系数；`df.describe()`描述统计；`df.groupby()`进行分组；`df.merge()`合并数据；`df.pivot_table()`创建透视表；`df.plot()`绘图等。这些语法是Pandas操作数据的基石。\", metadata={'source': 'python/pandas语法摘要.md'}),\n",
       " Document(page_content='Python是一种高级、解释型、交互式、面向对象的语言。关键语法包括：\\n\\n\\n\\n\\n- 数据类型：整数、浮点数、字符串、列表、元组、字典、集合。\\n- 控制流：if-elif-else条件语句，for和while循环。\\n- 函数定义：使用def关键字，支持默认参数、任意数量参数。\\n- 类与对象：class定义类，支持继承和多态。\\n- 异常处理：try-except块捕获和处理异常。\\n- 模块导入：使用import导入模块，from...import...来导入特定部分。\\n- 标准库：丰富的内置函数和模块，如sys、os、math、json等。\\n- 运算符：算术、比较、逻辑运算符，以及成员和身份测试。\\n- 文件操作：open函数用于文件读写，支持with语句管理资源。\\n\\n\\n> > > > > > >>>>>>>>>>>>>> 输出结果：\\n> > > > > > Python关键语法包括数据类型、控制流、函数定义、类与对象、异常处理、模块导入、标准库、运算符和文件操作等，具有简洁明了的特点，适合初学者和专业人士。', metadata={'source': 'python/python语法摘要.md'})]"
      ]
     },
     "execution_count": 4,
     "metadata": {},
     "output_type": "execute_result"
    }
   ],
   "source": [
    "qa = LocalFilesLoader([\"QA\", \"python\"])\n",
    "qa.load()"
   ]
  },
  {
   "cell_type": "markdown",
   "id": "51e951ea-a961-48cd-bfe1-045cd248dfa3",
   "metadata": {},
   "source": [
    "## 构建缓存"
   ]
  },
  {
   "cell_type": "code",
   "execution_count": 62,
   "id": "60d3c74b-b396-4aee-af5f-4edea483decd",
   "metadata": {},
   "outputs": [
    {
     "name": "stdout",
     "output_type": "stream",
     "text": [
      "\u001b[34mNo embeddings to cached!\u001b[0m\n"
     ]
    },
    {
     "data": {
      "text/plain": [
       "False"
      ]
     },
     "execution_count": 62,
     "metadata": {},
     "output_type": "execute_result"
    }
   ],
   "source": [
    "from langchain_zhipu import ZhipuAIEmbeddings\n",
    "model = ZhipuAIEmbeddings()\n",
    "qa.cache_embeddings(model)"
   ]
  },
  {
   "cell_type": "markdown",
   "id": "07a5a2fb-2863-45d3-8134-a64edf3dd175",
   "metadata": {},
   "source": [
    "## 加载文本嵌入缓存"
   ]
  },
  {
   "cell_type": "code",
   "execution_count": 64,
   "id": "aa7999c4-e154-4d86-ae88-ac95efea0e32",
   "metadata": {},
   "outputs": [],
   "source": [
    "# load_embeddings 方法可以直接返回 from_embeddings 所需参数\n",
    "emb, _m, metadata = qa.load_embeddings()"
   ]
  },
  {
   "cell_type": "markdown",
   "id": "816921f0-da1d-44b0-b569-1a9bf56688b9",
   "metadata": {},
   "source": [
    "## 基于文本嵌入缓存查询"
   ]
  },
  {
   "cell_type": "code",
   "execution_count": 69,
   "id": "2ff67040-dd8e-45a9-9c0b-d8d2342ea1e6",
   "metadata": {},
   "outputs": [],
   "source": [
    "from langchain_community.vectorstores import FAISS\n",
    "from textlong.knowledge import collect_docs\n",
    "\n",
    "# 一行加载文本嵌入\n",
    "db = FAISS.from_embeddings(*qa.load_embeddings(model))\n",
    "\n",
    "# 微调向量查询策略\n",
    "retriever = db.as_retriever(\n",
    "    search_type=\"mmr\",\n",
    "    search_kwargs={'k': 1}\n",
    ")"
   ]
  },
  {
   "cell_type": "code",
   "execution_count": 68,
   "id": "7bd8525a-fd2f-4b91-8dbf-37147a480d4d",
   "metadata": {},
   "outputs": [
    {
     "name": "stdout",
     "output_type": "stream",
     "text": [
      "Python是一种高级、解释型、交互式、面向对象的语言。关键语法包括：\n",
      "\n",
      "\n",
      "\n",
      "\n",
      "- 数据类型：整数、浮点数、字符串、列表、元组、字典、集合。\n",
      "- 控制流：if-elif-else条件语句，for和while循环。\n",
      "- 函数定义：使用def关键字，支持默认参数、任意数量参数。\n",
      "- 类与对象：class定义类，支持继承和多态。\n",
      "- 异常处理：try-except块捕获和处理异常。\n",
      "- 模块导入：使用import导入模块，from...import...来导入特定部分。\n",
      "- 标准库：丰富的内置函数和模块，如sys、os、math、json等。\n",
      "- 运算符：算术、比较、逻辑运算符，以及成员和身份测试。\n",
      "- 文件操作：open函数用于文件读写，支持with语句管理资源。\n",
      "\n",
      "\n",
      "> > > > > > >>>>>>>>>>>>>> 输出结果：\n",
      "> > > > > > Python关键语法包括数据类型、控制流、函数定义、类与对象、异常处理、模块导入、标准库、运算符和文件操作等，具有简洁明了的特点，适合初学者和专业人士。\n"
     ]
    }
   ],
   "source": [
    "print((retriever|collect_docs).invoke('元组'))"
   ]
  },
  {
   "cell_type": "markdown",
   "id": "1d683dfe-9b72-4357-b6fe-550dbbfac010",
   "metadata": {},
   "source": [
    "# RAG 查询"
   ]
  },
  {
   "cell_type": "code",
   "execution_count": 71,
   "id": "31e8a90c-0569-453f-ae88-bede20636fd8",
   "metadata": {},
   "outputs": [
    {
     "data": {
      "text/plain": [
       "['QA/demo.xlsx', 'python/pandas语法摘要.md', 'python/python语法摘要.md']"
      ]
     },
     "execution_count": 71,
     "metadata": {},
     "output_type": "execute_result"
    }
   ],
   "source": [
    "from textlong.memory import MemoryManager, WithMemoryBinding\n",
    "from textlong.knowledge import LocalFilesLoader, collect_docs\n",
    "from textlong.chain import create_qa_chain\n",
    "from langchain_community.vectorstores import FAISS\n",
    "from langchain_zhipu import ChatZhipuAI, ZhipuAIEmbeddings\n",
    "\n",
    "qa = LocalFilesLoader([\"QA\", \"python\"])\n",
    "qa.get_files()"
   ]
  },
  {
   "cell_type": "code",
   "execution_count": 72,
   "id": "c7a30ff0-5125-4889-8c32-f7e24d43fbd8",
   "metadata": {},
   "outputs": [],
   "source": [
    "es = qa.load_embeddings(ZhipuAIEmbeddings())\n",
    "db = FAISS.from_embeddings(*es)"
   ]
  },
  {
   "cell_type": "markdown",
   "id": "fb04ed64-ee9c-4720-b68b-a970ce364564",
   "metadata": {},
   "source": [
    "**不使用记忆：**"
   ]
  },
  {
   "cell_type": "code",
   "execution_count": 73,
   "id": "fc52c386-aa58-47c1-a396-0408184cbb39",
   "metadata": {},
   "outputs": [
    {
     "name": "stdout",
     "output_type": "stream",
     "text": [
      "问题答案：元组是一种不可变序列。\n",
      "\n",
      "相关规范解释：在Python中，元组是一个可以包含多个元素的有序集合，这些元素可以是不同的数据类型。元组用小括号()来表示，元素之间用逗号,分隔。由于不可变，一旦创建，元组内的元素不能被增加、删除或更改。这使得元组在确保数据不会被修改的情况下非常有用。"
     ]
    }
   ],
   "source": [
    "retriever = db.as_retriever(\n",
    "    search_type=\"mmr\",\n",
    "    search_kwargs={'k': 1}\n",
    ")\n",
    "chain = create_qa_chain(ChatZhipuAI(), retriever)\n",
    "for x in chain.stream(\"元组是什么？\"):\n",
    "    print(x.content, end=\"\")"
   ]
  },
  {
   "cell_type": "markdown",
   "id": "25969f8e-dbaf-480a-b9ae-15edb98a4024",
   "metadata": {},
   "source": [
    "**使用默认对话ID(default)：**"
   ]
  },
  {
   "cell_type": "code",
   "execution_count": 74,
   "id": "cf20429e-2b5d-4786-9ac6-cf9d611b887a",
   "metadata": {},
   "outputs": [
    {
     "name": "stdout",
     "output_type": "stream",
     "text": [
      "问题答案：需要设立自动喷水灭火系统。\n",
      "\n",
      "相关规范解释：《建筑设计防火规范》（GB 50016-2014）第5.3.1条规定，公共建筑中的人员密集场所应设置自动喷水灭火系统。银行营业厅作为公共场所，且面积大于300平米，符合此规范要求。"
     ]
    }
   ],
   "source": [
    "memory = MemoryManager()\n",
    "chain_with_memory = create_qa_chain(ChatZhipuAI(), db.as_retriever(), memory)\n",
    "for x in chain_with_memory.stream({\"input\": \"银行大厅要不要设置喷淋？\"}):\n",
    "    print(x.content, end=\"\")"
   ]
  },
  {
   "cell_type": "markdown",
   "id": "f1d798c9-479d-4e18-87c6-bf18b7d29bb8",
   "metadata": {},
   "source": [
    "**指定对话ID(1)：**"
   ]
  },
  {
   "cell_type": "code",
   "execution_count": 75,
   "id": "eac8e09c-ddc8-4a75-a4e7-de40e5bad644",
   "metadata": {},
   "outputs": [
    {
     "name": "stdout",
     "output_type": "stream",
     "text": [
      "问题答案：需要。\n",
      "\n",
      "相关规范解释：《建筑设计防火规范》（GB 50016-2014）对宿舍楼等居住建筑也有相应的规定，要求在一定的条件下必须设置自动喷水灭火系统，尤其是对于多层或高层宿舍楼，以确保人员生命安全。"
     ]
    }
   ],
   "source": [
    "config = {\"configurable\": {\"session_id\": \"1\"}}\n",
    "for x in chain_with_memory.stream({\"input\": \"宿舍楼要不要设置喷淋？\"}, config):\n",
    "    print(x.content, end=\"\")"
   ]
  },
  {
   "cell_type": "markdown",
   "id": "467abd8c-b7f5-4324-9e37-b5b36200ddb1",
   "metadata": {},
   "source": [
    "**检查历史对话：**"
   ]
  },
  {
   "cell_type": "code",
   "execution_count": 12,
   "id": "8bf473a1-8a17-4e92-9760-effeabd6a45f",
   "metadata": {},
   "outputs": [
    {
     "data": {
      "text/plain": [
       "[HumanMessage(content='银行大厅要不要设置喷淋？'),\n",
       " AIMessageChunk(content='问题答案：需要设置自动喷水灭火系统。\\n\\n相关规范解释：《建筑设计防火规范》（GB 50016-2014）第5.3.1条规定，公共建筑中的人员密集场所应设置自动喷水灭火系统。银行营业厅作为公共场所，且面积大于300平米，符合此规范要求。', response_metadata={'finish_reason': 'stop', 'model': 'glm-4', 'created': 1719319881, 'index': 0, 'usage': {'prompt_tokens': 567, 'completion_tokens': 68, 'total_tokens': 635}}, id='8783880265663443368')]"
      ]
     },
     "execution_count": 12,
     "metadata": {},
     "output_type": "execute_result"
    }
   ],
   "source": [
    "memory.get_memory(\"default\")"
   ]
  },
  {
   "cell_type": "code",
   "execution_count": 13,
   "id": "cbcf114a-3796-42ab-9cd5-a8f0b2b7eaa6",
   "metadata": {},
   "outputs": [
    {
     "data": {
      "text/plain": [
       "[HumanMessage(content='宿舍楼要不要设置喷淋？'),\n",
       " AIMessageChunk(content='问题答案：需要设置喷淋系统。\\n\\n相关规范解释：《建筑设计防火规范》（GB 50016-2014）对宿舍楼等居住建筑也有相应的要求，根据建筑的高度、人员密度等因素，可能需要配备自动喷水灭火系统，以保障人员安全。', response_metadata={'finish_reason': 'stop', 'model': 'glm-4', 'created': 1719319888, 'index': 0, 'usage': {'prompt_tokens': 567, 'completion_tokens': 59, 'total_tokens': 626}}, id='8783891741816342315')]"
      ]
     },
     "execution_count": 13,
     "metadata": {},
     "output_type": "execute_result"
    }
   ],
   "source": [
    "memory.get_memory(\"1\")"
   ]
  },
  {
   "cell_type": "code",
   "execution_count": null,
   "id": "2f9e614e-e9ed-4138-a3a7-bf2d954a5ed6",
   "metadata": {},
   "outputs": [],
   "source": []
  }
 ],
 "metadata": {
  "kernelspec": {
   "display_name": "langchani-book-py3.10-ipykernel",
   "language": "python",
   "name": "langchani-book-py3.10-ipykernel"
  },
  "language_info": {
   "codemirror_mode": {
    "name": "ipython",
    "version": 3
   },
   "file_extension": ".py",
   "mimetype": "text/x-python",
   "name": "python",
   "nbconvert_exporter": "python",
   "pygments_lexer": "ipython3",
   "version": "3.10.0"
  }
 },
 "nbformat": 4,
 "nbformat_minor": 5
}
