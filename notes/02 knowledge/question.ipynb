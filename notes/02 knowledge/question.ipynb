{
 "cells": [
  {
   "cell_type": "markdown",
   "id": "7ac166aa-9393-4c9c-baeb-5b1e19ea5092",
   "metadata": {},
   "source": [
    "# 构造问题"
   ]
  },
  {
   "cell_type": "code",
   "execution_count": 2,
   "id": "ea72eef3-7b85-47c0-bd65-763b390616ba",
   "metadata": {},
   "outputs": [],
   "source": [
    "from textlong.project import WritingProject\n",
    "from langchain_zhipu import ChatZhipuAI\n",
    "\n",
    "p = WritingProject(llm=ChatZhipuAI(model=\"glm-4-air\"), project_id=\"构造问题\")"
   ]
  },
  {
   "cell_type": "markdown",
   "id": "c2ac41f0-f162-4a5e-a62b-32928f4d9abe",
   "metadata": {},
   "source": [
    "构造数据查询能力的知识结构：\n",
    "\n",
    "1. 字段名称与类型：\n",
    "    - 确认每个字段的准确名称，包括大小写敏感问题。\n",
    "    - 确认每个字段的数据类型（例如，字符串、日期、整数、布尔值等）。\n",
    "2. 字段值范围：\n",
    "    - 了解每个字段可能的值范围，特别是对于枚举类型的字段（如“是否真实”字段）。\n",
    "    - 确认字段值的数据格式，例如日期字段可能遵循特定的日期格式。\n",
    "3. 字段间关系：\n",
    "    - 理解字段之间的逻辑关系，例如外键约束、唯一性约束等。\n",
    "4. 索引与性能：\n",
    "    - 确认哪些字段有索引，这对于查询性能至关重要。"
   ]
  },
  {
   "cell_type": "markdown",
   "id": "de4a3b3b-88f1-4636-ab0c-a476867bb12f",
   "metadata": {},
   "source": [
    "1. 字段名称与类型确认：\n",
    "    - 物业名称: 字符串\n",
    "    - 隔离区名称: 字符串\n",
    "    - 设备名称: 字符串\n",
    "    - 生产厂家: 字符串\n",
    "    - 除装时间: 日期/时间\n",
    "    - 告警时间: 日期/时间\n",
    "    - 告警月份: 字符串/整数\n",
    "    - 告警年度: 整数\n",
    "    - 告警内容: 字符串\n",
    "    - 告警级别: 字符串/整数\n",
    "    - 是否消警: 布尔值 (可能是 '是'/'否', True/False, 1/0 等)\n",
    "    - 是否真实: 布尔值 (同上)\n",
    "2. 字段值范围与格式\n",
    "   - 是否消警: 可能的值 ('是', '否') 或 (True, False) 或 (1, 0)\n",
    "    - 是否真实: 可能的值 ('是', '否') 或 (True, False) 或 (1, 0)\n",
    "    - 告警时间: 格式 'YYYY-MM-DD HH:MM:SS'\n",
    "    - 除装时间: 格式 'YYYY-MM-DD HH:MM:SS'"
   ]
  },
  {
   "cell_type": "code",
   "execution_count": 8,
   "id": "76f7e729-7904-4964-bf82-c7c5aba2f175",
   "metadata": {},
   "outputs": [
    {
     "name": "stdout",
     "output_type": "stream",
     "text": [
      ">-[INFO]>> \u001b[34mPrompt ID: IDEA | output.md\n",
      "\u001b[0m\n",
      "\u001b[32m-\u001b[0m\u001b[32m 嘿\u001b[0m\u001b[32m，\u001b[0m\u001b[32m你\u001b[0m\u001b[32m能不能\u001b[0m\u001b[32m帮我\u001b[0m\u001b[32m查\u001b[0m\u001b[32m一下\u001b[0m\u001b[32m最近\u001b[0m\u001b[32m有哪些\u001b[0m\u001b[32m物业\u001b[0m\u001b[32m的\u001b[0m\u001b[32m消防\u001b[0m\u001b[32m预警\u001b[0m\u001b[32m设备\u001b[0m\u001b[32m出了\u001b[0m\u001b[32m问题\u001b[0m\u001b[32m？\n",
      "-\u001b[0m\u001b[32m 我们\u001b[0m\u001b[32m可以\u001b[0m\u001b[32m看看\u001b[0m\u001b[32m哪些\u001b[0m\u001b[32m区域的\u001b[0m\u001b[32m消防\u001b[0m\u001b[32m预警\u001b[0m\u001b[32m设备\u001b[0m\u001b[32m最\u001b[0m\u001b[32m经常\u001b[0m\u001b[32m报\u001b[0m\u001b[32m故障\u001b[0m\u001b[32m吗\u001b[0m\u001b[32m？\n",
      "-\u001b[0m\u001b[32m 你\u001b[0m\u001b[32m能\u001b[0m\u001b[32m帮我\u001b[0m\u001b[32m汇总\u001b[0m\u001b[32m一下\u001b[0m\u001b[32m，\u001b[0m\u001b[32m这个\u001b[0m\u001b[32m月\u001b[0m\u001b[32m都有\u001b[0m\u001b[32m哪些\u001b[0m\u001b[32m类型的\u001b[0m\u001b[32m消防\u001b[0m\u001b[32m预警\u001b[0m\u001b[32m吗\u001b[0m\u001b[32m？\n",
      "-\u001b[0m\u001b[32m 我\u001b[0m\u001b[32m想知道\u001b[0m\u001b[32m，\u001b[0m\u001b[32m这些\u001b[0m\u001b[32m消防\u001b[0m\u001b[32m预警\u001b[0m\u001b[32m设备\u001b[0m\u001b[32m都是\u001b[0m\u001b[32m什么时候\u001b[0m\u001b[32m安装\u001b[0m\u001b[32m的\u001b[0m\u001b[32m，\u001b[0m\u001b[32m有没有\u001b[0m\u001b[32m什么\u001b[0m\u001b[32m时间段\u001b[0m\u001b[32m特别\u001b[0m\u001b[32m容易\u001b[0m\u001b[32m出\u001b[0m\u001b[32m问题\u001b[0m\u001b[32m？\n",
      "-\u001b[0m\u001b[32m 你\u001b[0m\u001b[32m能\u001b[0m\u001b[32m帮\u001b[0m\u001b[32m我把\u001b[0m\u001b[32m那些\u001b[0m\u001b[32m已经\u001b[0m\u001b[32m确认\u001b[0m\u001b[32m是\u001b[0m\u001b[32m真实\u001b[0m\u001b[32m火灾\u001b[0m\u001b[32m的\u001b[0m\u001b[32m预警\u001b[0m\u001b[32m记录\u001b[0m\u001b[32m找\u001b[0m\u001b[32m出来\u001b[0m\u001b[32m吗\u001b[0m\u001b[32m？\n",
      "-\u001b[0m\u001b[32m 我们\u001b[0m\u001b[32m能不能\u001b[0m\u001b[32m分析\u001b[0m\u001b[32m一下\u001b[0m\u001b[32m，\u001b[0m\u001b[32m哪些\u001b[0m\u001b[32m消防\u001b[0m\u001b[32m预警\u001b[0m\u001b[32m是最\u001b[0m\u001b[32m频繁\u001b[0m\u001b[32m发生的\u001b[0m\u001b[32m？\n",
      "-\u001b[0m\u001b[32m 能\u001b[0m\u001b[32m不能\u001b[0m\u001b[32m查\u001b[0m\u001b[32m一下\u001b[0m\u001b[32m，\u001b[0m\u001b[32m哪些\u001b[0m\u001b[32m预警\u001b[0m\u001b[32m设备\u001b[0m\u001b[32m是由\u001b[0m\u001b[32m同\u001b[0m\u001b[32m一家\u001b[0m\u001b[32m厂家\u001b[0m\u001b[32m生产的\u001b[0m\u001b[32m，\u001b[0m\u001b[32m我想\u001b[0m\u001b[32m对比\u001b[0m\u001b[32m一下\u001b[0m\u001b[32m质量\u001b[0m\u001b[32m。\n",
      "-\u001b[0m\u001b[32m 你\u001b[0m\u001b[32m知道\u001b[0m\u001b[32m最近\u001b[0m\u001b[32m有没有\u001b[0m\u001b[32m哪些\u001b[0m\u001b[32m预警\u001b[0m\u001b[32m级别\u001b[0m\u001b[32m比较\u001b[0m\u001b[32m高的\u001b[0m\u001b[32m消防\u001b[0m\u001b[32m事件\u001b[0m\u001b[32m，\u001b[0m\u001b[32m需要\u001b[0m\u001b[32m我们\u001b[0m\u001b[32m特别注意\u001b[0m\u001b[32m的吗\u001b[0m\u001b[32m？\n",
      "-\u001b[0m\u001b[32m 可以\u001b[0m\u001b[32m帮我\u001b[0m\u001b[32m看看\u001b[0m\u001b[32m，\u001b[0m\u001b[32m哪些\u001b[0m\u001b[32m预警\u001b[0m\u001b[32m最后\u001b[0m\u001b[32m被\u001b[0m\u001b[32m确认\u001b[0m\u001b[32m是\u001b[0m\u001b[32m误\u001b[0m\u001b[32m报\u001b[0m\u001b[32m的吗\u001b[0m\u001b[32m？\n",
      "-\u001b[0m\u001b[32m 我们\u001b[0m\u001b[32m可以\u001b[0m\u001b[32m按\u001b[0m\u001b[32m年度\u001b[0m\u001b[32m或者\u001b[0m\u001b[32m月份\u001b[0m\u001b[32m来\u001b[0m\u001b[32m统计\u001b[0m\u001b[32m一下\u001b[0m\u001b[32m消防\u001b[0m\u001b[32m预警\u001b[0m\u001b[32m的情况\u001b[0m\u001b[32m吗\u001b[0m\u001b[32m？\u001b[0m\u001b[32m我想\u001b[0m\u001b[32m看看\u001b[0m\u001b[32m有没有\u001b[0m\u001b[32m什么\u001b[0m\u001b[32m趋势\u001b[0m\u001b[32m。\u001b[0m\u001b[32m\u001b[0m\n",
      "\n",
      ">-[WARN]>> \u001b[31m已保存 ./构造问题/output.md, 共计 324 字。\u001b[0m\n",
      ">-[END]>> 【内容由幻蝶AI生成，其观点仅代表创作者个人立场，可登录 http://www.illufly.com 查验其校验码 17865732】\n"
     ]
    }
   ],
   "source": [
    "p.idea(\"\"\"\n",
    "我有如下知识，请帮我构造几个用户问题。\n",
    "\n",
    "你必须遵循以下原则：\n",
    "1. 使用常见的同事间聊天的语气\n",
    "2. 不要使用专业名词，或提及具体的表信息、字段信息，而是采用问题导向的口吻提出问题\n",
    "\n",
    "例如：\n",
    "- 嘿，你那儿有没有最近一段时间哪个小区的消防警报记录啊？我想看看有没有什么异常情况。\n",
    "- 我们能查一下哪些设备经常出问题，导致消防警报响个不停吗？最好是能告诉我设备的生产厂家，这样我好跟他们沟通。\n",
    "- 上个月有几个消防警报没处理完，你能不能帮我看一下都是哪些地方，以及具体是什么问题？\n",
    "- 我记得去年好像有个地方的消防警报特别多，你能帮我汇总一下是哪个区域吗？\n",
    "- 有没有办法快速找出那些已经处理过的消防警报，我想对比一下哪些是误报，哪些是真实情况。\n",
    "- 你知道哪些消防警报比较严重，需要我们重点关注吗？能不能按级别给我列一下。\n",
    "\n",
    "以下是数据描述：\n",
    "\n",
    "- 数据集1\n",
    "    - 表名称：alarm\n",
    "    - 数据集描述：消防预警记录清单\n",
    "    - 字段\n",
    "        - 物业名称\n",
    "        - 隔离区名称\n",
    "        - 设备名称\n",
    "        - 生产厂家\n",
    "        - 初装时间\n",
    "        - 告警时间\n",
    "        - 告警月份\n",
    "        - 告警年度\n",
    "        - 告警内容\n",
    "        - 告警级别\n",
    "        - 是否消警\n",
    "        - 是否真实\n",
    "\n",
    "\"\"\")"
   ]
  },
  {
   "cell_type": "markdown",
   "id": "4800749c-277c-44fe-89fe-c603f4a61cbb",
   "metadata": {},
   "source": [
    "这两个例子非常好，请再给我一些类似的例子，但可以更换其他的视角和概念：\n",
    "\n",
    "1. “哪些物业在过去一年内多次出现未及时消警的情况？这里的‘多次’指的是至少三次，并且‘未及时消警’是指告警发生后超过一小时未进行消警处理。”\n",
    "2. “根据过去三个月的告警记录，哪些生产厂家的设备在平均告警次数上低于行业平均水平？这里的‘行业平均水平’是指每台设备每月平均告警次数。”\n",
    "\n",
    "当然可以，以下是一些更换视角和概念的类似问题：\n",
    "1. **设备维护问题**：\n",
    "   - \"哪些物业的设备在过去一年内因未及时维护而导致的告警次数最多？这里的‘未及时维护’是指设备在告警后超过两周仍未进行维护。\"\n",
    "2. **告警类型分布问题**：\n",
    "   - \"在最近六个月内，哪些生产厂家的设备在特定类型的告警（如烟雾告警）上出现频率较高？请分析这些告警类型是否与特定的生产厂家有关联。\"\n",
    "3. **告警响应效率问题**：\n",
    "   - \"根据过去一年的数据，哪些物业在处理消防告警时的平均响应时间超过了行业标准？这里的‘行业标准’是指从告警发生到消警的平均时间不超过30分钟。\"\n",
    "4. **设备故障率问题**：\n",
    "   - \"在过去半年内，哪些生产厂家的设备故障率最高？故障率是指设备发生故障的次数与总告警次数的比率。\"\n",
    "5. **告警趋势问题**：\n",
    "   - \"哪些物业在过去的三个季度中，消防告警次数呈现上升趋势？请分析这种趋势是否与物业的某些管理措施或设备更新有关。\"\n",
    "6. **生产厂家性能对比问题**：\n",
    "   - \"在最近一年内，哪些生产厂家的设备在告警后平均修复时间最短？这可能反映了这些厂家在售后服务方面的表现。\"\n",
    "7. **物业安全管理效果问题**：\n",
    "   - \"哪些物业在实施新的安全管理制度后，消防告警次数显著下降？这里的‘显著下降’是指告警次数减少超过50%。\"\n",
    "8. **告警级别与处理时间问题**：\n",
    "   - \"哪些生产厂家的设备在发生高等级告警时，物业的平均处理时间超过了预设的紧急响应时间？预设的紧急响应时间是指高等级告警发生后必须在15分钟内得到处理。\"\n",
    "\n",
    "这些问题同样需要通过综合分析多个字段的数据来得出答案，可能涉及到复杂的SQL查询或者需要使用数据分析工具进行更深入的处理。\n"
   ]
  },
  {
   "cell_type": "markdown",
   "id": "1e17351e-f3a3-4794-9939-6959e64765a7",
   "metadata": {},
   "source": [
    "## 测试知识构造模板"
   ]
  },
  {
   "cell_type": "code",
   "execution_count": 3,
   "id": "fcdf4967-bd3e-4862-b459-43d498c0aaea",
   "metadata": {},
   "outputs": [],
   "source": [
    "from textlong.hub import load_resource_prompt"
   ]
  },
  {
   "cell_type": "code",
   "execution_count": 4,
   "id": "4cacd5bc-1a50-4b58-8f1e-d6986dae3a56",
   "metadata": {},
   "outputs": [
    {
     "ename": "ValueError",
     "evalue": "<QUESTION> prompt_id not exist !",
     "output_type": "error",
     "traceback": [
      "\u001b[0;31m---------------------------------------------------------------------------\u001b[0m",
      "\u001b[0;31mValueError\u001b[0m                                Traceback (most recent call last)",
      "Cell \u001b[0;32mIn[4], line 1\u001b[0m\n\u001b[0;32m----> 1\u001b[0m \u001b[43mload_resource_prompt\u001b[49m\u001b[43m(\u001b[49m\u001b[38;5;124;43m\"\u001b[39;49m\u001b[38;5;124;43mQUESTION\u001b[39;49m\u001b[38;5;124;43m\"\u001b[39;49m\u001b[43m,\u001b[49m\u001b[43m \u001b[49m\u001b[38;5;124;43m\"\u001b[39;49m\u001b[38;5;124;43mkg\u001b[39;49m\u001b[38;5;124;43m\"\u001b[39;49m\u001b[43m)\u001b[49m\n",
      "File \u001b[0;32m~/github/textlong/textlong/hub/resource.py:30\u001b[0m, in \u001b[0;36mload_resource_prompt\u001b[0;34m(prompt_id, tag)\u001b[0m\n\u001b[1;32m     27\u001b[0m     tag \u001b[38;5;241m=\u001b[39m \u001b[38;5;124m'\u001b[39m\u001b[38;5;124mwriting\u001b[39m\u001b[38;5;124m'\u001b[39m\n\u001b[1;32m     29\u001b[0m \u001b[38;5;28;01mif\u001b[39;00m prompt_id \u001b[38;5;129;01mnot\u001b[39;00m \u001b[38;5;129;01min\u001b[39;00m find_resource_prompt(tag):\n\u001b[0;32m---> 30\u001b[0m     \u001b[38;5;28;01mraise\u001b[39;00m \u001b[38;5;167;01mValueError\u001b[39;00m(\u001b[38;5;124mf\u001b[39m\u001b[38;5;124m\"\u001b[39m\u001b[38;5;124m<\u001b[39m\u001b[38;5;132;01m{\u001b[39;00mprompt_id\u001b[38;5;132;01m}\u001b[39;00m\u001b[38;5;124m> prompt_id not exist !\u001b[39m\u001b[38;5;124m\"\u001b[39m)\n\u001b[1;32m     32\u001b[0m \u001b[38;5;28;01mdef\u001b[39;00m \u001b[38;5;21m_get_prompt_str\u001b[39m(res_file: \u001b[38;5;28mstr\u001b[39m):\n\u001b[1;32m     33\u001b[0m     \u001b[38;5;28;01mif\u001b[39;00m (res_folder \u001b[38;5;241m:=\u001b[39m \u001b[38;5;124mf\u001b[39m\u001b[38;5;124m'\u001b[39m\u001b[38;5;132;01m{\u001b[39;00mPROMPT_WRITING_BASE\u001b[38;5;132;01m}\u001b[39;00m\u001b[38;5;124m.\u001b[39m\u001b[38;5;132;01m{\u001b[39;00mtag\u001b[38;5;132;01m}\u001b[39;00m\u001b[38;5;124m.\u001b[39m\u001b[38;5;132;01m{\u001b[39;00mprompt_id\u001b[38;5;132;01m}\u001b[39;00m\u001b[38;5;124m'\u001b[39m) \u001b[38;5;129;01mand\u001b[39;00m is_resource(res_folder, res_file):\n",
      "\u001b[0;31mValueError\u001b[0m: <QUESTION> prompt_id not exist !"
     ]
    }
   ],
   "source": [
    "load_resource_prompt(\"QUESTION\", \"kg\")"
   ]
  },
  {
   "cell_type": "code",
   "execution_count": 6,
   "id": "37fb5e08-613a-4527-92ef-989d268d078f",
   "metadata": {},
   "outputs": [
    {
     "name": "stdout",
     "output_type": "stream",
     "text": [
      ">-[INFO]>> \u001b[34mPrompt ID: QUESTION | output.md\n",
      "\u001b[0m\n"
     ]
    },
    {
     "ename": "ValueError",
     "evalue": "<QUESTION> prompt_id not exist !",
     "output_type": "error",
     "traceback": [
      "\u001b[0;31m---------------------------------------------------------------------------\u001b[0m",
      "\u001b[0;31mValueError\u001b[0m                                Traceback (most recent call last)",
      "Cell \u001b[0;32mIn[6], line 1\u001b[0m\n\u001b[0;32m----> 1\u001b[0m \u001b[43mp\u001b[49m\u001b[38;5;241;43m.\u001b[39;49m\u001b[43mstream_log\u001b[49m\u001b[43m(\u001b[49m\u001b[43mtask\u001b[49m\u001b[38;5;241;43m=\u001b[39;49m\u001b[38;5;124;43m\"\u001b[39;49m\u001b[38;5;124;43m请帮我以初学者的口吻整理Python入门的问题\u001b[39;49m\u001b[38;5;124;43m\"\u001b[39;49m\u001b[43m,\u001b[49m\u001b[43m \u001b[49m\u001b[43mprompt_id\u001b[49m\u001b[38;5;241;43m=\u001b[39;49m\u001b[38;5;124;43m\"\u001b[39;49m\u001b[38;5;124;43mQUESTION\u001b[39;49m\u001b[38;5;124;43m\"\u001b[39;49m\u001b[43m,\u001b[49m\u001b[43m \u001b[49m\u001b[43mprompt_tag\u001b[49m\u001b[38;5;241;43m=\u001b[39;49m\u001b[38;5;124;43m\"\u001b[39;49m\u001b[38;5;124;43mkg\u001b[39;49m\u001b[38;5;124;43m\"\u001b[39;49m\u001b[43m,\u001b[49m\u001b[43m \u001b[49m\u001b[43mis_fake\u001b[49m\u001b[38;5;241;43m=\u001b[39;49m\u001b[38;5;28;43;01mFalse\u001b[39;49;00m\u001b[43m)\u001b[49m\n",
      "File \u001b[0;32m~/github/textlong/textlong/project/base.py:437\u001b[0m, in \u001b[0;36mWritingProject.stream_log\u001b[0;34m(self, task_func, output_file, **kwargs)\u001b[0m\n\u001b[1;32m    435\u001b[0m kwargs[\u001b[38;5;124m'\u001b[39m\u001b[38;5;124mprompt_tag\u001b[39m\u001b[38;5;124m'\u001b[39m] \u001b[38;5;241m=\u001b[39m kwargs\u001b[38;5;241m.\u001b[39mget(\u001b[38;5;124m'\u001b[39m\u001b[38;5;124mprompt_tag\u001b[39m\u001b[38;5;124m'\u001b[39m, \u001b[38;5;28mself\u001b[39m\u001b[38;5;241m.\u001b[39mprompt_tag)\n\u001b[1;32m    436\u001b[0m kwargs[\u001b[38;5;124m'\u001b[39m\u001b[38;5;124mmemory\u001b[39m\u001b[38;5;124m'\u001b[39m] \u001b[38;5;241m=\u001b[39m \u001b[38;5;28mself\u001b[39m\u001b[38;5;241m.\u001b[39mget_memory(output_file)\n\u001b[0;32m--> 437\u001b[0m output_text \u001b[38;5;241m=\u001b[39m \u001b[43mtask_func\u001b[49m\u001b[43m(\u001b[49m\n\u001b[1;32m    438\u001b[0m \u001b[43m    \u001b[49m\u001b[38;5;28;43mself\u001b[39;49m\u001b[38;5;241;43m.\u001b[39;49m\u001b[43mllm\u001b[49m\u001b[43m,\u001b[49m\n\u001b[1;32m    439\u001b[0m \u001b[43m    \u001b[49m\u001b[38;5;241;43m*\u001b[39;49m\u001b[38;5;241;43m*\u001b[39;49m\u001b[43mkwargs\u001b[49m\n\u001b[1;32m    440\u001b[0m \u001b[43m\u001b[49m\u001b[43m)\u001b[49m\n\u001b[1;32m    442\u001b[0m \u001b[38;5;28mself\u001b[39m\u001b[38;5;241m.\u001b[39msave_output_history(output_file, output_text)\n\u001b[1;32m    444\u001b[0m \u001b[38;5;28;01mif\u001b[39;00m output_file \u001b[38;5;129;01mand\u001b[39;00m output_file \u001b[38;5;129;01mnot\u001b[39;00m \u001b[38;5;129;01min\u001b[39;00m \u001b[38;5;28mself\u001b[39m\u001b[38;5;241m.\u001b[39moutput_files:\n",
      "File \u001b[0;32m~/github/textlong/textlong/writing/base.py:242\u001b[0m, in \u001b[0;36mstream_log\u001b[0;34m(llm, **kwargs)\u001b[0m\n\u001b[1;32m    239\u001b[0m output_text \u001b[38;5;241m=\u001b[39m \u001b[38;5;124m\"\u001b[39m\u001b[38;5;124m\"\u001b[39m\n\u001b[1;32m    240\u001b[0m last_print_mode \u001b[38;5;241m=\u001b[39m \u001b[38;5;124m\"\u001b[39m\u001b[38;5;124m\"\u001b[39m\n\u001b[0;32m--> 242\u001b[0m \u001b[38;5;28;01mfor\u001b[39;00m chunk \u001b[38;5;129;01min\u001b[39;00m stream(llm, \u001b[38;5;241m*\u001b[39m\u001b[38;5;241m*\u001b[39mkwargs):\n\u001b[1;32m    243\u001b[0m     \u001b[38;5;28;01mif\u001b[39;00m chunk\u001b[38;5;241m.\u001b[39mmode \u001b[38;5;129;01min\u001b[39;00m [\u001b[38;5;124m'\u001b[39m\u001b[38;5;124mtext\u001b[39m\u001b[38;5;124m'\u001b[39m, \u001b[38;5;124m'\u001b[39m\u001b[38;5;124mfinal\u001b[39m\u001b[38;5;124m'\u001b[39m, \u001b[38;5;124m'\u001b[39m\u001b[38;5;124mfront_matter\u001b[39m\u001b[38;5;124m'\u001b[39m]:\n\u001b[1;32m    244\u001b[0m         output_text \u001b[38;5;241m+\u001b[39m\u001b[38;5;241m=\u001b[39m chunk\u001b[38;5;241m.\u001b[39mtext\n",
      "File \u001b[0;32m~/github/textlong/textlong/writing/base.py:145\u001b[0m, in \u001b[0;36mstream\u001b[0;34m(llm, task, completed, sep_mode, knowledge, prompt_id, prompt_tag, base_folder, output_file, tag_start, tag_end, verbose, is_fake, template_folder, memory, **kwargs)\u001b[0m\n\u001b[1;32m    142\u001b[0m kg_doc \u001b[38;5;241m=\u001b[39m gather_docs(knowledge, base_folder) \u001b[38;5;129;01mor\u001b[39;00m \u001b[38;5;124m'\u001b[39m\u001b[38;5;124m'\u001b[39m\n\u001b[1;32m    144\u001b[0m \u001b[38;5;66;03m# prompt\u001b[39;00m\n\u001b[0;32m--> 145\u001b[0m prompt \u001b[38;5;241m=\u001b[39m \u001b[43mload_prompt\u001b[49m\u001b[43m(\u001b[49m\u001b[43mprompt_id\u001b[49m\u001b[43m,\u001b[49m\u001b[43m \u001b[49m\u001b[43mtemplate_folder\u001b[49m\u001b[38;5;241;43m=\u001b[39;49m\u001b[43mtemplate_folder\u001b[49m\u001b[43m,\u001b[49m\u001b[43m \u001b[49m\u001b[43mtag\u001b[49m\u001b[38;5;241;43m=\u001b[39;49m\u001b[43mprompt_tag\u001b[49m\u001b[43m)\u001b[49m\n\u001b[1;32m    147\u001b[0m \u001b[38;5;28;01mif\u001b[39;00m input_doc:\n\u001b[1;32m    148\u001b[0m     old_docs \u001b[38;5;241m=\u001b[39m MarkdownLoader(input_doc)\n",
      "File \u001b[0;32m~/github/textlong/textlong/hub/resource.py:126\u001b[0m, in \u001b[0;36mload_prompt\u001b[0;34m(prompt_id, template_folder, tag)\u001b[0m\n\u001b[1;32m    124\u001b[0m         \u001b[38;5;28;01mreturn\u001b[39;00m template\u001b[38;5;241m.\u001b[39mpartial(\u001b[38;5;241m*\u001b[39m\u001b[38;5;241m*\u001b[39mkwargs)\n\u001b[1;32m    125\u001b[0m \u001b[38;5;28;01melse\u001b[39;00m:\n\u001b[0;32m--> 126\u001b[0m     template \u001b[38;5;241m=\u001b[39m \u001b[43mload_resource_prompt\u001b[49m\u001b[43m(\u001b[49m\u001b[43mprompt_id\u001b[49m\u001b[43m,\u001b[49m\u001b[43m \u001b[49m\u001b[43mtag\u001b[49m\u001b[43m)\u001b[49m\n\u001b[1;32m    127\u001b[0m     \u001b[38;5;28;01mif\u001b[39;00m template:\n\u001b[1;32m    128\u001b[0m         \u001b[38;5;28;01mreturn\u001b[39;00m template\n",
      "File \u001b[0;32m~/github/textlong/textlong/hub/resource.py:30\u001b[0m, in \u001b[0;36mload_resource_prompt\u001b[0;34m(prompt_id, tag)\u001b[0m\n\u001b[1;32m     27\u001b[0m     tag \u001b[38;5;241m=\u001b[39m \u001b[38;5;124m'\u001b[39m\u001b[38;5;124mwriting\u001b[39m\u001b[38;5;124m'\u001b[39m\n\u001b[1;32m     29\u001b[0m \u001b[38;5;28;01mif\u001b[39;00m prompt_id \u001b[38;5;129;01mnot\u001b[39;00m \u001b[38;5;129;01min\u001b[39;00m find_resource_prompt(tag):\n\u001b[0;32m---> 30\u001b[0m     \u001b[38;5;28;01mraise\u001b[39;00m \u001b[38;5;167;01mValueError\u001b[39;00m(\u001b[38;5;124mf\u001b[39m\u001b[38;5;124m\"\u001b[39m\u001b[38;5;124m<\u001b[39m\u001b[38;5;132;01m{\u001b[39;00mprompt_id\u001b[38;5;132;01m}\u001b[39;00m\u001b[38;5;124m> prompt_id not exist !\u001b[39m\u001b[38;5;124m\"\u001b[39m)\n\u001b[1;32m     32\u001b[0m \u001b[38;5;28;01mdef\u001b[39;00m \u001b[38;5;21m_get_prompt_str\u001b[39m(res_file: \u001b[38;5;28mstr\u001b[39m):\n\u001b[1;32m     33\u001b[0m     \u001b[38;5;28;01mif\u001b[39;00m (res_folder \u001b[38;5;241m:=\u001b[39m \u001b[38;5;124mf\u001b[39m\u001b[38;5;124m'\u001b[39m\u001b[38;5;132;01m{\u001b[39;00mPROMPT_WRITING_BASE\u001b[38;5;132;01m}\u001b[39;00m\u001b[38;5;124m.\u001b[39m\u001b[38;5;132;01m{\u001b[39;00mtag\u001b[38;5;132;01m}\u001b[39;00m\u001b[38;5;124m.\u001b[39m\u001b[38;5;132;01m{\u001b[39;00mprompt_id\u001b[38;5;132;01m}\u001b[39;00m\u001b[38;5;124m'\u001b[39m) \u001b[38;5;129;01mand\u001b[39;00m is_resource(res_folder, res_file):\n",
      "\u001b[0;31mValueError\u001b[0m: <QUESTION> prompt_id not exist !"
     ]
    }
   ],
   "source": [
    "p.stream_log(task=\"请帮我以初学者的口吻整理Python入门的问题\", prompt_id=\"QUESTION\", prompt_tag=\"kg\", is_fake=False)"
   ]
  },
  {
   "cell_type": "code",
   "execution_count": null,
   "id": "e7e99d6d-3b45-4879-9645-75faa5429be2",
   "metadata": {},
   "outputs": [],
   "source": []
  }
 ],
 "metadata": {
  "kernelspec": {
   "display_name": "textlong-same-ipykernel",
   "language": "python",
   "name": "textlong-same-ipykernel"
  },
  "language_info": {
   "codemirror_mode": {
    "name": "ipython",
    "version": 3
   },
   "file_extension": ".py",
   "mimetype": "text/x-python",
   "name": "python",
   "nbconvert_exporter": "python",
   "pygments_lexer": "ipython3",
   "version": "3.10.0"
  }
 },
 "nbformat": 4,
 "nbformat_minor": 5
}
