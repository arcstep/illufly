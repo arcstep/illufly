{
    "cells": [
        {
            "cell_type": "code",
            "execution_count": 1,
            "id": "f4b8f772-96ae-4083-a414-719a87b108cb",
            "metadata": {},
            "outputs": [
                {
                    "name": "stdout",
                    "output_type": "stream",
                    "text": [
                        "Collecting dashscope\n",
                        "\u001b[33m  WARNING: Retrying (Retry(total=4, connect=None, read=None, redirect=None, status=None)) after connection broken by 'ConnectTimeoutError(<pip._vendor.urllib3.connection.HTTPSConnection object at 0x103134640>, 'Connection to files.pythonhosted.org timed out. (connect timeout=15)')': /packages/23/97/7b07c2ca3d8f6ee3f90baeb97fb8821d943250d3b594ca47704d64723baf/dashscope-1.20.6-py3-none-any.whl.metadata\u001b[0m\u001b[33m\n",
                        "\u001b[0m  Downloading dashscope-1.20.6-py3-none-any.whl.metadata (6.7 kB)\n",
                        "Requirement already satisfied: aiohttp in /Users/xuehongwei/.pyenv/versions/3.10.0/lib/python3.10/site-packages (from dashscope) (3.9.2)\n",
                        "Requirement already satisfied: requests in /Users/xuehongwei/.pyenv/versions/3.10.0/lib/python3.10/site-packages (from dashscope) (2.31.0)\n",
                        "Requirement already satisfied: websocket-client in /Users/xuehongwei/.pyenv/versions/3.10.0/lib/python3.10/site-packages (from dashscope) (1.7.0)\n",
                        "Requirement already satisfied: aiosignal>=1.1.2 in /Users/xuehongwei/.pyenv/versions/3.10.0/lib/python3.10/site-packages (from aiohttp->dashscope) (1.3.1)\n",
                        "Requirement already satisfied: attrs>=17.3.0 in /Users/xuehongwei/.pyenv/versions/3.10.0/lib/python3.10/site-packages (from aiohttp->dashscope) (23.2.0)\n",
                        "Requirement already satisfied: frozenlist>=1.1.1 in /Users/xuehongwei/.pyenv/versions/3.10.0/lib/python3.10/site-packages (from aiohttp->dashscope) (1.4.1)\n",
                        "Requirement already satisfied: multidict<7.0,>=4.5 in /Users/xuehongwei/.pyenv/versions/3.10.0/lib/python3.10/site-packages (from aiohttp->dashscope) (6.0.4)\n",
                        "Requirement already satisfied: yarl<2.0,>=1.0 in /Users/xuehongwei/.pyenv/versions/3.10.0/lib/python3.10/site-packages (from aiohttp->dashscope) (1.9.4)\n",
                        "Requirement already satisfied: async-timeout<5.0,>=4.0 in /Users/xuehongwei/.pyenv/versions/3.10.0/lib/python3.10/site-packages (from aiohttp->dashscope) (4.0.3)\n",
                        "Requirement already satisfied: charset-normalizer<4,>=2 in /Users/xuehongwei/.pyenv/versions/3.10.0/lib/python3.10/site-packages (from requests->dashscope) (3.3.2)\n",
                        "Requirement already satisfied: idna<4,>=2.5 in /Users/xuehongwei/.pyenv/versions/3.10.0/lib/python3.10/site-packages (from requests->dashscope) (3.6)\n",
                        "Requirement already satisfied: urllib3<3,>=1.21.1 in /Users/xuehongwei/.pyenv/versions/3.10.0/lib/python3.10/site-packages (from requests->dashscope) (2.1.0)\n",
                        "Requirement already satisfied: certifi>=2017.4.17 in /Users/xuehongwei/.pyenv/versions/3.10.0/lib/python3.10/site-packages (from requests->dashscope) (2023.11.17)\n",
                        "Downloading dashscope-1.20.6-py3-none-any.whl (117 kB)\n",
                        "\u001b[2K   \u001b[90m━━━━━━━━━━━━━━━━━━━━━━━━━━━━━━━━━━━━━━━━\u001b[0m \u001b[32m117.2/117.2 kB\u001b[0m \u001b[31m86.7 kB/s\u001b[0m eta \u001b[36m0:00:00\u001b[0ma \u001b[36m0:00:01\u001b[0m\n",
                        "\u001b[?25hInstalling collected packages: dashscope\n",
                        "Successfully installed dashscope-1.20.6\n"
                    ]
                }
            ],
            "source": [
                "!pip install dashscope"
            ]
        },
        {
            "cell_type": "markdown",
            "id": "be487146-b0e8-4a22-a143-b0d3db9c8e79",
            "metadata": {},
            "source": [
                "# 通义千问模型"
            ]
        },
        {
            "cell_type": "markdown",
            "id": "c286959b-917b-4c93-8d15-fea0a9cce59c",
            "metadata": {},
            "source": [
                "## 零一万物"
            ]
        },
        {
            "cell_type": "code",
            "execution_count": 4,
            "id": "9f701f2a-24a9-44f0-927d-2bd8d9ea122b",
            "metadata": {},
            "outputs": [
                {
                    "name": "stdout",
                    "output_type": "stream",
                    "text": [
                        "{\"status_code\": 200, \"request_id\": \"2120d801-7bf1-92ea-b459-0bdfb1d7337d\", \"code\": \"\", \"message\": \"\", \"output\": {\"text\": null, \"finish_reason\": null, \"choices\": [{\"finish_reason\": \"stop\", \"message\": {\"role\": \"assistant\", \"content\": \"杭州，简称“杭”，是浙江省的省会城市，位于中国大陆东南沿海的长江三角洲南翼，是中国著名的风景旅游城市和历史文化名城。杭州以其美丽的自然风光、丰富的历史文化和现代化的经济建设而闻名。\\n\\n杭州拥有得天独厚的自然环境，特别是西湖及其周边地区，被誉为人间天堂。西湖是中国的十大名胜之一，是一个集自然风光、人文景观和休闲娱乐为一体的综合性景区。湖中有三座人工岛屿——小瀛洲、湖心亭和阮公墩，以及众多历史悠久的寺庙、亭台楼阁和园林，如雷峰塔、断桥、苏堤、白堤等。\\n\\n杭州也是中国古代文人墨客聚集的地方，留下了许多诗词歌赋和历史遗迹。其中最著名的是宋代的“西湖十景”，包括苏堤春晓、曲院风荷、平湖秋月、断桥残雪等，这些景点至今仍是游客们流连忘返的地方。\\n\\n除了自然风光和历史文化，杭州也是一个现代化的经济中心。杭州市的电子商务、互联网科技、文化创意等产业在国内乃至国际上都有重要地位。阿里巴巴集团等知名企业总部位于杭州，使这座城市成为了中国乃至全球的互联网经济重镇。\\n\\n总之，杭州是一个集自然美景、历史文化、现代经济于一体的多元化城市，吸引了大量国内外游客和投资者。\"}}]}, \"usage\": {\"input_tokens\": 21, \"output_tokens\": 297, \"total_tokens\": 318}}\n"
                    ]
                }
            ],
            "source": [
                "from dashscope import Generation\n",
                "\n",
                "def call_with_messages():\n",
                "    messages = [\n",
                "        {'role': 'system', 'content': 'You are a helpful assistant.'},\n",
                "        {'role': 'user', 'content': '介绍下杭州'}]\n",
                "    gen = Generation()\n",
                "    response = gen.call(\n",
                "        'yi-34b-chat',\n",
                "        messages=messages,\n",
                "        result_format='message',  # set the result is message format.\n",
                "    )\n",
                "    print(response)\n",
                "\n",
                "call_with_messages()"
            ]
        },
        {
            "cell_type": "markdown",
            "id": "b3aae9d3-866c-4523-b6dd-23393bf8fba4",
            "metadata": {},
            "source": [
                "## 通义万相：文生图"
            ]
        },
        {
            "cell_type": "code",
            "execution_count": 3,
            "id": "f934354e-0aba-4240-915e-7e2df1458c1e",
            "metadata": {},
            "outputs": [
                {
                    "name": "stdout",
                    "output_type": "stream",
                    "text": [
                        "{\"task_id\": \"a7996540-5d37-4d67-88ce-f6a6246f6ca2\", \"task_status\": \"SUCCEEDED\", \"results\": [{\"url\": \"https://dashscope-result-sh.oss-cn-shanghai.aliyuncs.com/1d/b8/20240830/1b61f1c0/4e4605da-84bf-4adc-9756-5cca7fafa76c-1.png?Expires=1725107287&OSSAccessKeyId=LTAI5tQZd8AEcZX6KZV4G8qL&Signature=WkcSs8jh1ymSP7zYieX%2Fk1QjOSs%3D\"}, {\"url\": \"https://dashscope-result-sh.oss-cn-shanghai.aliyuncs.com/1d/33/20240830/1b61f1c0/ebdce470-e05e-49fc-bceb-8816cd7ac722-1.png?Expires=1725107287&OSSAccessKeyId=LTAI5tQZd8AEcZX6KZV4G8qL&Signature=V2UfI2%2F6ZzzDWOS3FHJIRtpKv7g%3D\"}, {\"url\": \"https://dashscope-result-sh.oss-cn-shanghai.aliyuncs.com/1d/21/20240830/1b61f1c0/e88e8f11-2ded-41f6-b76c-81b5b5681ba4-1.png?Expires=1725107287&OSSAccessKeyId=LTAI5tQZd8AEcZX6KZV4G8qL&Signature=lHgCzzVVH6PksUZbA77uVlH40fM%3D\"}, {\"url\": \"https://dashscope-result-hz.oss-cn-hangzhou.aliyuncs.com/1d/ac/20240830/522176a8/18c52c83-0f31-485d-9adc-ab3f7ce8f01a-1.png?Expires=1725107287&OSSAccessKeyId=LTAI5tQZd8AEcZX6KZV4G8qL&Signature=be3cQfPHTZBojjGZz%2FNWaqN2is8%3D\"}], \"submit_time\": \"2024-08-30 20:27:37.617\", \"scheduled_time\": \"2024-08-30 20:27:37.644\", \"end_time\": \"2024-08-30 20:28:08.696\", \"task_metrics\": {\"TOTAL\": 4, \"SUCCEEDED\": 4, \"FAILED\": 0}}\n",
                        "{\"image_count\": 4}\n"
                    ]
                }
            ],
            "source": [
                "from http import HTTPStatus\n",
                "from urllib.parse import urlparse, unquote\n",
                "from pathlib import PurePosixPath\n",
                "import requests\n",
                "import dashscope\n",
                "\n",
                "def simple_call():\n",
                "    prompt = 'Mouse rides elephant'\n",
                "    rsp = dashscope.ImageSynthesis.call(model=dashscope.ImageSynthesis.Models.wanx_v1,\n",
                "                              prompt=prompt,\n",
                "                              n=4,\n",
                "                              size='1024*1024')\n",
                "    if rsp.status_code == HTTPStatus.OK:\n",
                "        print(rsp.output)\n",
                "        print(rsp.usage)\n",
                "        # save file to current directory\n",
                "        for result in rsp.output.results:\n",
                "            file_name = PurePosixPath(unquote(urlparse(result.url).path)).parts[-1]\n",
                "            with open('./%s' % file_name, 'wb+') as f:\n",
                "                f.write(requests.get(result.url).content)\n",
                "    else:\n",
                "        print('Failed, status_code: %s, code: %s, message: %s' %\n",
                "              (rsp.status_code, rsp.code, rsp.message))\n",
                "\n",
                "\n",
                "simple_call()"
            ]
        },
        {
            "cell_type": "markdown",
            "id": "7ac166aa-9393-4c9c-baeb-5b1e19ea5092",
            "metadata": {},
            "source": [
                "# 构造问题"
            ]
        },
        {
            "cell_type": "code",
            "execution_count": 1,
            "id": "ea72eef3-7b85-47c0-bd65-763b390616ba",
            "metadata": {},
            "outputs": [],
            "source": [
                "from illufly.project import WritingProject\n",
                "from langchain_zhipu import ChatZhipuAI\n",
                "\n",
                "p = WritingProject(llm=ChatZhipuAI(model=\"glm-4-air\"), project_id=\"构造问题\")"
            ]
        },
        {
            "cell_type": "markdown",
            "id": "c2ac41f0-f162-4a5e-a62b-32928f4d9abe",
            "metadata": {},
            "source": [
                "构造数据查询能力的知识结构：\n",
                "\n",
                "1. 字段名称与类型：\n",
                "    - 确认每个字段的准确名称，包括大小写敏感问题。\n",
                "    - 确认每个字段的数据类型（例如，字符串、日期、整数、布尔值等）。\n",
                "2. 字段值范围：\n",
                "    - 了解每个字段可能的值范围，特别是对于枚举类型的字段（如“是否真实”字段）。\n",
                "    - 确认字段值的数据格式，例如日期字段可能遵循特定的日期格式。\n",
                "3. 字段间关系：\n",
                "    - 理解字段之间的逻辑关系，例如外键约束、唯一性约束等。\n",
                "4. 索引与性能：\n",
                "    - 确认哪些字段有索引，这对于查询性能至关重要。"
            ]
        },
        {
            "cell_type": "markdown",
            "id": "de4a3b3b-88f1-4636-ab0c-a476867bb12f",
            "metadata": {},
            "source": [
                "1. 字段名称与类型确认：\n",
                "    - 物业名称: 字符串\n",
                "    - 隔离区名称: 字符串\n",
                "    - 设备名称: 字符串\n",
                "    - 生产厂家: 字符串\n",
                "    - 除装时间: 日期/时间\n",
                "    - 告警时间: 日期/时间\n",
                "    - 告警月份: 字符串/整数\n",
                "    - 告警年度: 整数\n",
                "    - 告警内容: 字符串\n",
                "    - 告警级别: 字符串/整数\n",
                "    - 是否消警: 布尔值 (可能是 '是'/'否', True/False, 1/0 等)\n",
                "    - 是否真实: 布尔值 (同上)\n",
                "2. 字段值范围与格式\n",
                "   - 是否消警: 可能的值 ('是', '否') 或 (True, False) 或 (1, 0)\n",
                "    - 是否真实: 可能的值 ('是', '否') 或 (True, False) 或 (1, 0)\n",
                "    - 告警时间: 格式 'YYYY-MM-DD HH:MM:SS'\n",
                "    - 除装时间: 格式 'YYYY-MM-DD HH:MM:SS'"
            ]
        },
        {
            "cell_type": "code",
            "execution_count": 2,
            "id": "76f7e729-7904-4964-bf82-c7c5aba2f175",
            "metadata": {},
            "outputs": [
                {
                    "name": "stdout",
                    "output_type": "stream",
                    "text": [
                        ">-[INFO]>> \u001b[34mPrompt ID: IDEA | output.md\n",
                        "\u001b[0m\n",
                        "\u001b[32m-\u001b[0m\u001b[32m 嘿\u001b[0m\u001b[32m，\u001b[0m\u001b[32m最近\u001b[0m\u001b[32m哪个\u001b[0m\u001b[32m小区\u001b[0m\u001b[32m的\u001b[0m\u001b[32m消防\u001b[0m\u001b[32m警报\u001b[0m\u001b[32m比较\u001b[0m\u001b[32m频繁\u001b[0m\u001b[32m啊\u001b[0m\u001b[32m？\u001b[0m\u001b[32m我想\u001b[0m\u001b[32m了解一下\u001b[0m\u001b[32m那个\u001b[0m\u001b[32m小区\u001b[0m\u001b[32m的具体\u001b[0m\u001b[32m情况\u001b[0m\u001b[32m。\n",
                        "-\u001b[0m\u001b[32m 最近\u001b[0m\u001b[32m哪些\u001b[0m\u001b[32m设备的\u001b[0m\u001b[32m警报\u001b[0m\u001b[32m声音\u001b[0m\u001b[32m最多\u001b[0m\u001b[32m？\u001b[0m\u001b[32m能\u001b[0m\u001b[32m告诉我\u001b[0m\u001b[32m这些\u001b[0m\u001b[32m设备的\u001b[0m\u001b[32m品牌\u001b[0m\u001b[32m和\u001b[0m\u001b[32m型号\u001b[0m\u001b[32m吗\u001b[0m\u001b[32m？\n",
                        "-\u001b[0m\u001b[32m 上\u001b[0m\u001b[32m个月\u001b[0m\u001b[32m还有\u001b[0m\u001b[32m哪些\u001b[0m\u001b[32m警报\u001b[0m\u001b[32m没有\u001b[0m\u001b[32m处理\u001b[0m\u001b[32m完毕\u001b[0m\u001b[32m？\u001b[0m\u001b[32m我想\u001b[0m\u001b[32m知道\u001b[0m\u001b[32m具体\u001b[0m\u001b[32m是\u001b[0m\u001b[32m哪些\u001b[0m\u001b[32m地方\u001b[0m\u001b[32m出了\u001b[0m\u001b[32m问题\u001b[0m\u001b[32m。\n",
                        "-\u001b[0m\u001b[32m 去\u001b[0m\u001b[32m年\u001b[0m\u001b[32m那个\u001b[0m\u001b[32m警报\u001b[0m\u001b[32m特别\u001b[0m\u001b[32m多的\u001b[0m\u001b[32m地方\u001b[0m\u001b[32m，\u001b[0m\u001b[32m能\u001b[0m\u001b[32m帮我\u001b[0m\u001b[32m统计\u001b[0m\u001b[32m一下\u001b[0m\u001b[32m具体\u001b[0m\u001b[32m是\u001b[0m\u001b[32m哪个\u001b[0m\u001b[32m区域\u001b[0m\u001b[32m吗\u001b[0m\u001b[32m？\n",
                        "-\u001b[0m\u001b[32m 能\u001b[0m\u001b[32m不能\u001b[0m\u001b[32m快速\u001b[0m\u001b[32m筛选\u001b[0m\u001b[32m出\u001b[0m\u001b[32m已经\u001b[0m\u001b[32m处理\u001b[0m\u001b[32m过的\u001b[0m\u001b[32m警报\u001b[0m\u001b[32m记录\u001b[0m\u001b[32m，\u001b[0m\u001b[32m我想\u001b[0m\u001b[32m对比\u001b[0m\u001b[32m一下\u001b[0m\u001b[32m误\u001b[0m\u001b[32m报\u001b[0m\u001b[32m和\u001b[0m\u001b[32m实际\u001b[0m\u001b[32m发生\u001b[0m\u001b[32m的情况\u001b[0m\u001b[32m。\n",
                        "-\u001b[0m\u001b[32m 哪\u001b[0m\u001b[32m些\u001b[0m\u001b[32m级别的\u001b[0m\u001b[32m警报\u001b[0m\u001b[32m需要\u001b[0m\u001b[32m我们\u001b[0m\u001b[32m特别\u001b[0m\u001b[32m留意\u001b[0m\u001b[32m？\u001b[0m\u001b[32m你\u001b[0m\u001b[32m能不能\u001b[0m\u001b[32m按照\u001b[0m\u001b[32m紧急\u001b[0m\u001b[32m程度\u001b[0m\u001b[32m排\u001b[0m\u001b[32m个\u001b[0m\u001b[32m序\u001b[0m\u001b[32m给我\u001b[0m\u001b[32m看一下\u001b[0m\u001b[32m？\u001b[0m\u001b[32m\u001b[0m\n",
                        "\n",
                        ">-[WARN]>> \u001b[31m已保存 ./构造问题/output.md, 共计 214 字。\u001b[0m\n",
                        ">-[END]>> 【内容由幻蝶AI生成，其观点仅代表创作者个人立场，可登录 http://www.illufly.com 查验其校验码 76345505】\n"
                    ]
                }
            ],
            "source": [
                "p.idea(\"\"\"\n",
                "我有如下知识，请帮我构造几个用户问题。\n",
                "\n",
                "你必须遵循以下原则：\n",
                "1. 使用常见的同事间聊天的语气\n",
                "2. 不要使用专业名词，或提及具体的表信息、字段信息，而是采用问题导向的口吻提出问题\n",
                "\n",
                "例如：\n",
                "- 嘿，你那儿有没有最近一段时间哪个小区的消防警报记录啊？我想看看有没有什么异常情况。\n",
                "- 我们能查一下哪些设备经常出问题，导致消防警报响个不停吗？最好是能告诉我设备的生产厂家，这样我好跟他们沟通。\n",
                "- 上个月有几个消防警报没处理完，你能不能帮我看一下都是哪些地方，以及具体是什么问题？\n",
                "- 我记得去年好像有个地方的消防警报特别多，你能帮我汇总一下是哪个区域吗？\n",
                "- 有没有办法快速找出那些已经处理过的消防警报，我想对比一下哪些是误报，哪些是真实情况。\n",
                "- 你知道哪些消防警报比较严重，需要我们重点关注吗？能不能按级别给我列一下。\n",
                "\n",
                "以下是数据描述：\n",
                "\n",
                "- 数据集1\n",
                "    - 表名称：alarm\n",
                "    - 数据集描述：消防预警记录清单\n",
                "    - 字段\n",
                "        - 物业名称\n",
                "        - 隔离区名称\n",
                "        - 设备名称\n",
                "        - 生产厂家\n",
                "        - 初装时间\n",
                "        - 告警时间\n",
                "        - 告警月份\n",
                "        - 告警年度\n",
                "        - 告警内容\n",
                "        - 告警级别\n",
                "        - 是否消警\n",
                "        - 是否真实\n",
                "\n",
                "\"\"\")"
            ]
        },
        {
            "cell_type": "code",
            "execution_count": 9,
            "id": "5b568733-5c21-4aca-8609-91f82e516526",
            "metadata": {},
            "outputs": [
                {
                    "name": "stdout",
                    "output_type": "stream",
                    "text": [
                        ">-[INFO]>> \u001b[34mPrompt ID: CHAT | output.md\n",
                        "\u001b[0m\n",
                        "\u001b[32m-\u001b[0m\u001b[32m 你\u001b[0m\u001b[32m能\u001b[0m\u001b[32m详细\u001b[0m\u001b[32m说说\u001b[0m\u001b[32m吗\u001b[0m\u001b[32m？\n",
                        "-\u001b[0m\u001b[32m 你\u001b[0m\u001b[32m最近\u001b[0m\u001b[32m在\u001b[0m\u001b[32m忙\u001b[0m\u001b[32m些什么\u001b[0m\u001b[32m项目\u001b[0m\u001b[32m呢\u001b[0m\u001b[32m？\u001b[0m\u001b[32m能\u001b[0m\u001b[32m跟我\u001b[0m\u001b[32m分享一下\u001b[0m\u001b[32m具体\u001b[0m\u001b[32m的工作\u001b[0m\u001b[32m进展\u001b[0m\u001b[32m吗\u001b[0m\u001b[32m？\n",
                        "-\u001b[0m\u001b[32m 那\u001b[0m\u001b[32m个\u001b[0m\u001b[32m新\u001b[0m\u001b[32m开发的\u001b[0m\u001b[32m系统\u001b[0m\u001b[32m功能\u001b[0m\u001b[32m测试\u001b[0m\u001b[32m得\u001b[0m\u001b[32m怎么样\u001b[0m\u001b[32m了\u001b[0m\u001b[32m？\u001b[0m\u001b[32m有没有\u001b[0m\u001b[32m遇到\u001b[0m\u001b[32m什么\u001b[0m\u001b[32m有趣\u001b[0m\u001b[32m的问题\u001b[0m\u001b[32m？\n",
                        "-\u001b[0m\u001b[32m 我们\u001b[0m\u001b[32m团队\u001b[0m\u001b[32m最近\u001b[0m\u001b[32m有什么\u001b[0m\u001b[32m值得\u001b[0m\u001b[32m关注的\u001b[0m\u001b[32m成就\u001b[0m\u001b[32m或者\u001b[0m\u001b[32m挑战\u001b[0m\u001b[32m吗\u001b[0m\u001b[32m？\n",
                        "-\u001b[0m\u001b[32m 这\u001b[0m\u001b[32m个月\u001b[0m\u001b[32m的工作\u001b[0m\u001b[32m计划\u001b[0m\u001b[32m都\u001b[0m\u001b[32m安排\u001b[0m\u001b[32m好了\u001b[0m\u001b[32m吗\u001b[0m\u001b[32m？\u001b[0m\u001b[32m有没有\u001b[0m\u001b[32m什么\u001b[0m\u001b[32m特别\u001b[0m\u001b[32m需要注意\u001b[0m\u001b[32m的事项\u001b[0m\u001b[32m？\n",
                        "-\u001b[0m\u001b[32m 对于\u001b[0m\u001b[32m即将\u001b[0m\u001b[32m到来的\u001b[0m\u001b[32m项目\u001b[0m\u001b[32m评审\u001b[0m\u001b[32m，\u001b[0m\u001b[32m你\u001b[0m\u001b[32m有什么\u001b[0m\u001b[32m准备\u001b[0m\u001b[32m或者\u001b[0m\u001b[32m建议\u001b[0m\u001b[32m吗\u001b[0m\u001b[32m？\u001b[0m\u001b[32m\u001b[0m\n",
                        "\n",
                        ">-[WARN]>> \u001b[31m已保存 ./构造问题/output.md, 共计 160 字。\u001b[0m\n",
                        ">-[END]>> 【内容由幻蝶AI生成，其观点仅代表创作者个人立场，可登录 http://www.illufly.com 查验其校验码 30477798】\n"
                    ]
                }
            ],
            "source": [
                "p.chat(\"每次都问了啥？\", is_fake=False)"
            ]
        },
        {
            "cell_type": "markdown",
            "id": "4800749c-277c-44fe-89fe-c603f4a61cbb",
            "metadata": {},
            "source": [
                "这两个例子非常好，请再给我一些类似的例子，但可以更换其他的视角和概念：\n",
                "\n",
                "1. “哪些物业在过去一年内多次出现未及时消警的情况？这里的‘多次’指的是至少三次，并且‘未及时消警’是指告警发生后超过一小时未进行消警处理。”\n",
                "2. “根据过去三个月的告警记录，哪些生产厂家的设备在平均告警次数上低于行业平均水平？这里的‘行业平均水平’是指每台设备每月平均告警次数。”\n",
                "\n",
                "当然可以，以下是一些更换视角和概念的类似问题：\n",
                "1. **设备维护问题**：\n",
                "   - \"哪些物业的设备在过去一年内因未及时维护而导致的告警次数最多？这里的‘未及时维护’是指设备在告警后超过两周仍未进行维护。\"\n",
                "2. **告警类型分布问题**：\n",
                "   - \"在最近六个月内，哪些生产厂家的设备在特定类型的告警（如烟雾告警）上出现频率较高？请分析这些告警类型是否与特定的生产厂家有关联。\"\n",
                "3. **告警响应效率问题**：\n",
                "   - \"根据过去一年的数据，哪些物业在处理消防告警时的平均响应时间超过了行业标准？这里的‘行业标准’是指从告警发生到消警的平均时间不超过30分钟。\"\n",
                "4. **设备故障率问题**：\n",
                "   - \"在过去半年内，哪些生产厂家的设备故障率最高？故障率是指设备发生故障的次数与总告警次数的比率。\"\n",
                "5. **告警趋势问题**：\n",
                "   - \"哪些物业在过去的三个季度中，消防告警次数呈现上升趋势？请分析这种趋势是否与物业的某些管理措施或设备更新有关。\"\n",
                "6. **生产厂家性能对比问题**：\n",
                "   - \"在最近一年内，哪些生产厂家的设备在告警后平均修复时间最短？这可能反映了这些厂家在售后服务方面的表现。\"\n",
                "7. **物业安全管理效果问题**：\n",
                "   - \"哪些物业在实施新的安全管理制度后，消防告警次数显著下降？这里的‘显著下降’是指告警次数减少超过50%。\"\n",
                "8. **告警级别与处理时间问题**：\n",
                "   - \"哪些生产厂家的设备在发生高等级告警时，物业的平均处理时间超过了预设的紧急响应时间？预设的紧急响应时间是指高等级告警发生后必须在15分钟内得到处理。\"\n",
                "\n",
                "这些问题同样需要通过综合分析多个字段的数据来得出答案，可能涉及到复杂的SQL查询或者需要使用数据分析工具进行更深入的处理。\n"
            ]
        },
        {
            "cell_type": "markdown",
            "id": "1e17351e-f3a3-4794-9939-6959e64765a7",
            "metadata": {},
            "source": [
                "## 测试知识构造模板"
            ]
        },
        {
            "cell_type": "code",
            "execution_count": 2,
            "id": "fcdf4967-bd3e-4862-b459-43d498c0aaea",
            "metadata": {},
            "outputs": [],
            "source": [
                "from illufly.hub import load_resource_prompt"
            ]
        },
        {
            "cell_type": "code",
            "execution_count": 3,
            "id": "4cacd5bc-1a50-4b58-8f1e-d6986dae3a56",
            "metadata": {},
            "outputs": [
                {
                    "data": {
                        "text/plain": [
                            "PromptTemplate(input_variables=['task'], partial_variables={'knowledge__': ''}, template='你是强大的知识管理助手，负责根据知识文档梳理问题清单。\\n\\n你必须遵循以下约束来完成任务:\\n1. 直接输出你的结果，不要评论，不要啰嗦\\n2. 使用markdown格式输出，但不要强调markdown格式，也不要使用```符号包裹输出内容\\n{{> history}}\\n\\n{{#knowledge__}}\\n\\n>>>>>>>>>>>>>>>>>>>> 你可以参考的知识文档如下：\\n{{knowledge__}}\\n{{/knowledge__}}\\n{{task}}\\n', template_format='mustache')"
                        ]
                    },
                    "execution_count": 3,
                    "metadata": {},
                    "output_type": "execute_result"
                }
            ],
            "source": [
                "load_resource_prompt(\"QUESTION\", \"kg\")"
            ]
        },
        {
            "cell_type": "code",
            "execution_count": 4,
            "id": "37fb5e08-613a-4527-92ef-989d268d078f",
            "metadata": {},
            "outputs": [
                {
                    "name": "stdout",
                    "output_type": "stream",
                    "text": [
                        ">-[INFO]>> \u001b[34mPrompt ID: QUESTION | output.md\n",
                        "\u001b[0m\n",
                        "\u001b[32m-\u001b[0m\u001b[32m Python\u001b[0m\u001b[32m 语言\u001b[0m\u001b[32m的特点\u001b[0m\u001b[32m有哪些\u001b[0m\u001b[32m？\n",
                        "-\u001b[0m\u001b[32m Python\u001b[0m\u001b[32m 的\u001b[0m\u001b[32m应用\u001b[0m\u001b[32m领域\u001b[0m\u001b[32m有哪些\u001b[0m\u001b[32m？\n",
                        "-\u001b[0m\u001b[32m 如何\u001b[0m\u001b[32m安装\u001b[0m\u001b[32m Python\u001b[0m\u001b[32m？\n",
                        "-\u001b[0m\u001b[32m Python\u001b[0m\u001b[32m 的\u001b[0m\u001b[32m基本\u001b[0m\u001b[32m数据\u001b[0m\u001b[32m类型\u001b[0m\u001b[32m有哪些\u001b[0m\u001b[32m？\n",
                        "-\u001b[0m\u001b[32m 如何\u001b[0m\u001b[32m定义\u001b[0m\u001b[32m和使用\u001b[0m\u001b[32m变量\u001b[0m\u001b[32m？\n",
                        "-\u001b[0m\u001b[32m 如何\u001b[0m\u001b[32m进行\u001b[0m\u001b[32m条件\u001b[0m\u001b[32m判断\u001b[0m\u001b[32m？\n",
                        "-\u001b[0m\u001b[32m 如何\u001b[0m\u001b[32m进行\u001b[0m\u001b[32m循环\u001b[0m\u001b[32m操作\u001b[0m\u001b[32m？\n",
                        "-\u001b[0m\u001b[32m 如何\u001b[0m\u001b[32m定义\u001b[0m\u001b[32m和使用\u001b[0m\u001b[32m函数\u001b[0m\u001b[32m？\n",
                        "-\u001b[0m\u001b[32m Python\u001b[0m\u001b[32m \u001b[0m\u001b[32m中的\u001b[0m\u001b[32m列表\u001b[0m\u001b[32m（\u001b[0m\u001b[32mList\u001b[0m\u001b[32m）\u001b[0m\u001b[32m是什么\u001b[0m\u001b[32m？\u001b[0m\u001b[32m如何\u001b[0m\u001b[32m使用\u001b[0m\u001b[32m？\n",
                        "-\u001b[0m\u001b[32m Python\u001b[0m\u001b[32m \u001b[0m\u001b[32m中的\u001b[0m\u001b[32m元\u001b[0m\u001b[32m组\u001b[0m\u001b[32m（\u001b[0m\u001b[32mTuple\u001b[0m\u001b[32m）\u001b[0m\u001b[32m是什么\u001b[0m\u001b[32m？\u001b[0m\u001b[32m如何\u001b[0m\u001b[32m使用\u001b[0m\u001b[32m？\n",
                        "-\u001b[0m\u001b[32m Python\u001b[0m\u001b[32m \u001b[0m\u001b[32m中的\u001b[0m\u001b[32m字典\u001b[0m\u001b[32m（\u001b[0m\u001b[32mDictionary\u001b[0m\u001b[32m）\u001b[0m\u001b[32m是什么\u001b[0m\u001b[32m？\u001b[0m\u001b[32m如何\u001b[0m\u001b[32m使用\u001b[0m\u001b[32m？\n",
                        "-\u001b[0m\u001b[32m Python\u001b[0m\u001b[32m \u001b[0m\u001b[32m中的\u001b[0m\u001b[32m集合\u001b[0m\u001b[32m（\u001b[0m\u001b[32mSet\u001b[0m\u001b[32m）\u001b[0m\u001b[32m是什么\u001b[0m\u001b[32m？\u001b[0m\u001b[32m如何\u001b[0m\u001b[32m使用\u001b[0m\u001b[32m？\n",
                        "-\u001b[0m\u001b[32m 如何\u001b[0m\u001b[32m处理\u001b[0m\u001b[32m异常\u001b[0m\u001b[32m？\n",
                        "-\u001b[0m\u001b[32m Python\u001b[0m\u001b[32m \u001b[0m\u001b[32m中的\u001b[0m\u001b[32m文件\u001b[0m\u001b[32m操作\u001b[0m\u001b[32m有哪些\u001b[0m\u001b[32m？\n",
                        "-\u001b[0m\u001b[32m 如何\u001b[0m\u001b[32m使用\u001b[0m\u001b[32m Python\u001b[0m\u001b[32m 进行\u001b[0m\u001b[32m数据\u001b[0m\u001b[32m可视化\u001b[0m\u001b[32m？\n",
                        "-\u001b[0m\u001b[32m Python\u001b[0m\u001b[32m 中\u001b[0m\u001b[32m有哪些\u001b[0m\u001b[32m常用的\u001b[0m\u001b[32m标准\u001b[0m\u001b[32m库\u001b[0m\u001b[32m？\n",
                        "-\u001b[0m\u001b[32m 如何\u001b[0m\u001b[32m安装\u001b[0m\u001b[32m和使用\u001b[0m\u001b[32m第三方\u001b[0m\u001b[32m库\u001b[0m\u001b[32m？\n",
                        "-\u001b[0m\u001b[32m Python\u001b[0m\u001b[32m 的\u001b[0m\u001b[32m面向\u001b[0m\u001b[32m对象\u001b[0m\u001b[32m编程\u001b[0m\u001b[32m是如何\u001b[0m\u001b[32m实现的\u001b[0m\u001b[32m？\n",
                        "-\u001b[0m\u001b[32m 如何\u001b[0m\u001b[32m定义\u001b[0m\u001b[32m类\u001b[0m\u001b[32m和\u001b[0m\u001b[32m对象\u001b[0m\u001b[32m？\n",
                        "-\u001b[0m\u001b[32m Python\u001b[0m\u001b[32m \u001b[0m\u001b[32m中的\u001b[0m\u001b[32m继承\u001b[0m\u001b[32m、\u001b[0m\u001b[32m封装\u001b[0m\u001b[32m、\u001b[0m\u001b[32m多\u001b[0m\u001b[32m态\u001b[0m\u001b[32m是什么\u001b[0m\u001b[32m意思\u001b[0m\u001b[32m？\n",
                        "-\u001b[0m\u001b[32m 如何\u001b[0m\u001b[32m使用\u001b[0m\u001b[32m Python\u001b[0m\u001b[32m 的\u001b[0m\u001b[32m模块\u001b[0m\u001b[32m和\u001b[0m\u001b[32m包\u001b[0m\u001b[32m？\n",
                        "-\u001b[0m\u001b[32m Python\u001b[0m\u001b[32m \u001b[0m\u001b[32m中的\u001b[0m\u001b[32m多\u001b[0m\u001b[32m线程\u001b[0m\u001b[32m和多\u001b[0m\u001b[32m进程\u001b[0m\u001b[32m是如何\u001b[0m\u001b[32m实现的\u001b[0m\u001b[32m？\n",
                        "-\u001b[0m\u001b[32m 如何\u001b[0m\u001b[32m在\u001b[0m\u001b[32m Python\u001b[0m\u001b[32m 中\u001b[0m\u001b[32m进行\u001b[0m\u001b[32m网络\u001b[0m\u001b[32m编程\u001b[0m\u001b[32m？\n",
                        "-\u001b[0m\u001b[32m Python\u001b[0m\u001b[32m 中\u001b[0m\u001b[32m如何\u001b[0m\u001b[32m处理\u001b[0m\u001b[32m日期\u001b[0m\u001b[32m和时间\u001b[0m\u001b[32m？\n",
                        "-\u001b[0m\u001b[32m 如何\u001b[0m\u001b[32m使用\u001b[0m\u001b[32m Python\u001b[0m\u001b[32m 进行\u001b[0m\u001b[32m数据分析\u001b[0m\u001b[32m？\n",
                        "-\u001b[0m\u001b[32m Python\u001b[0m\u001b[32m 中\u001b[0m\u001b[32m如何\u001b[0m\u001b[32m使用\u001b[0m\u001b[32m正\u001b[0m\u001b[32m则\u001b[0m\u001b[32m表达式\u001b[0m\u001b[32m？\n",
                        "-\u001b[0m\u001b[32m Python\u001b[0m\u001b[32m 如何\u001b[0m\u001b[32m进行\u001b[0m\u001b[32m单元\u001b[0m\u001b[32m测试\u001b[0m\u001b[32m？\n",
                        "-\u001b[0m\u001b[32m Python\u001b[0m\u001b[32m 的\u001b[0m\u001b[32m虚拟\u001b[0m\u001b[32m环境\u001b[0m\u001b[32m是什么\u001b[0m\u001b[32m？\u001b[0m\u001b[32m如何\u001b[0m\u001b[32m创建\u001b[0m\u001b[32m和使用\u001b[0m\u001b[32m？\n",
                        "-\u001b[0m\u001b[32m Python\u001b[0m\u001b[32m 中\u001b[0m\u001b[32m如何\u001b[0m\u001b[32m进行\u001b[0m\u001b[32m性能\u001b[0m\u001b[32m优化\u001b[0m\u001b[32m？\u001b[0m\u001b[32m\u001b[0m\n",
                        "\n",
                        ">-[WARN]>> \u001b[31m已保存 ./构造问题/output.md, 共计 595 字。\u001b[0m\n",
                        ">-[END]>> 【内容由幻蝶AI生成，其观点仅代表创作者个人立场，可登录 http://www.illufly.com 查验其校验码 50203961】\n"
                    ]
                }
            ],
            "source": [
                "p.stream_log(task=\"请帮我以初学者的口吻整理Python入门的问题\", prompt_id=\"QUESTION\", prompt_tag=\"kg\", is_fake=False)"
            ]
        },
        {
            "cell_type": "code",
            "execution_count": null,
            "id": "e7e99d6d-3b45-4879-9645-75faa5429be2",
            "metadata": {},
            "outputs": [],
            "source": []
        }
    ],
    "metadata": {
        "kernelspec": {
            "display_name": "illufly-same-ipykernel",
            "language": "python",
            "name": "illufly-same-ipykernel"
        },
        "language_info": {
            "codemirror_mode": {
                "name": "ipython",
                "version": 3
            },
            "file_extension": ".py",
            "mimetype": "text/x-python",
            "name": "python",
            "nbconvert_exporter": "python",
            "pygments_lexer": "ipython3",
            "version": "3.10.0"
        }
    },
    "nbformat": 4,
    "nbformat_minor": 5
}