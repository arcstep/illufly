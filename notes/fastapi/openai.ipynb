{
 "cells": [
  {
   "cell_type": "code",
   "execution_count": 8,
   "id": "18f5a396-0234-4f3f-bb28-756474af2731",
   "metadata": {},
   "outputs": [
    {
     "name": "stdout",
     "output_type": "stream",
     "text": [
      "('id', 'chatcmpl-69c8f2dac5af488c87fe6992ce1d40f4')\n",
      "('choices', [Choice(finish_reason='stop', index=0, logprobs=None, message=ChatCompletionMessage(content='Hello! This is a test response from the OpenAI-compatible API.', refusal=None, role='assistant', audio=None, function_call=None, tool_calls=None), delta=None)])\n",
      "('created', 1738743831)\n",
      "('model', 'deepseek-reasoner')\n",
      "('object', 'chat.completion')\n",
      "('service_tier', None)\n",
      "('system_fingerprint', 'fp_9876543210')\n",
      "('usage', CompletionUsage(completion_tokens=20, prompt_tokens=10, total_tokens=30, completion_tokens_details=None, prompt_tokens_details=None))\n",
      "('extra', None)\n"
     ]
    }
   ],
   "source": [
    "from openai import OpenAI\n",
    "\n",
    "api_base = \"http://localhost:8000/v1\"\n",
    "api_key = \"sk-1234567890abcdef\"\n",
    "client = OpenAI(base_url=api_base, api_key=api_key)\n",
    "\n",
    "# Round 1\n",
    "messages = [{\"role\": \"user\", \"content\": \"9.11 and 9.8, which is greater?\"}]\n",
    "response = client.chat.completions.create(\n",
    "    model=\"deepseek-reasoner\",\n",
    "    messages=messages\n",
    ")\n",
    "\n",
    "for x in response:\n",
    "    print(x)\n",
    "\n",
    "reasoning_content = response.choices[0].message.content\n",
    "content = response.choices[0].message.content"
   ]
  },
  {
   "cell_type": "code",
   "execution_count": null,
   "id": "507045a8-80d2-454a-9090-1d71ccec00f2",
   "metadata": {},
   "outputs": [],
   "source": []
  }
 ],
 "metadata": {
  "kernelspec": {
   "display_name": "Python 3 (ipykernel)",
   "language": "python",
   "name": "python3"
  },
  "language_info": {
   "codemirror_mode": {
    "name": "ipython",
    "version": 3
   },
   "file_extension": ".py",
   "mimetype": "text/x-python",
   "name": "python",
   "nbconvert_exporter": "python",
   "pygments_lexer": "ipython3",
   "version": "3.11.7"
  }
 },
 "nbformat": 4,
 "nbformat_minor": 5
}
