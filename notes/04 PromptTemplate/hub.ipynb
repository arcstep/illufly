{
 "cells": [
  {
   "cell_type": "markdown",
   "id": "20c21029-0066-4e5e-8956-8b500aebf3a9",
   "metadata": {},
   "source": [
    "# 提示语模板管理"
   ]
  },
  {
   "cell_type": "markdown",
   "id": "972e9ca3-3bb9-483a-a268-fcaadca5955f",
   "metadata": {},
   "source": [
    "## Hub"
   ]
  },
  {
   "cell_type": "code",
   "execution_count": 1,
   "id": "989736c9-e81d-4eec-94bd-a53b7f814f17",
   "metadata": {},
   "outputs": [],
   "source": [
    "from illufly.hub import load_resource_template, load_prompt_template"
   ]
  },
  {
   "cell_type": "code",
   "execution_count": 3,
   "id": "fc500651-60f8-48f9-910a-d7d4d8a23e26",
   "metadata": {},
   "outputs": [
    {
     "data": {
      "text/plain": [
       "'你是强大的写作助手。\\n\\n你必须遵循以下约束来完成任务:\\n1. 直接输出你的结果，不要评论，不要啰嗦\\n2. 使用markdown格式输出\\n\\n**你的任务是:**\\n{{task}}\\n'"
      ]
     },
     "execution_count": 3,
     "metadata": {},
     "output_type": "execute_result"
    }
   ],
   "source": [
    "load_resource_template(\"WRITER/IDEA\")"
   ]
  },
  {
   "cell_type": "code",
   "execution_count": 4,
   "id": "b50db90c-c71a-4802-a483-78d0ba434456",
   "metadata": {},
   "outputs": [
    {
     "data": {
      "text/plain": [
       "'你是强大的写作助手。\\n\\n你必须遵循以下约束来完成任务:\\n1. 直接输出你的结果，不要评论，不要啰嗦\\n2. 使用markdown格式输出\\n3. 请按照需要输出一份写作提纲\\n4. 提纲的构成应当由多个阔系额要求构成\\n5. 扩写要求必须包含清晰描述，如预估字数、创意要点、创作思路、创作中涉及到的实体名称等\\n5. 每一个扩写要求由完整的 `<OUTLINE>`和`</OUTLINE>` 包裹\\n6. 你只能输出提纲，不要输出具体的扩写内容\\n\\n**你的任务是:**\\n{{task}}\\n\\n\\n**输出例子1**\\n```\\n# 第一章 标题1\\n## 一、XXXX\\n<OUTLINE>\\n扩写摘要:\\n对扩写内容做摘要总结\\n\\n扩写要求：\\n- xxx\\n- xxx\\n</OUTLINE>\\n\\n## 二、XXXX\\n<OUTLINE>\\n</OUTLINE>\\n\\n## （更多扩写提纲）\\n```\\n\\n'"
      ]
     },
     "execution_count": 4,
     "metadata": {},
     "output_type": "execute_result"
    }
   ],
   "source": [
    "load_prompt_template(\"WRITER/OUTLINE\")"
   ]
  },
  {
   "cell_type": "markdown",
   "id": "daaa1ed0-29b3-4421-a40c-5cbf1fefda3c",
   "metadata": {},
   "source": [
    "## PromptTemplate"
   ]
  },
  {
   "cell_type": "code",
   "execution_count": 5,
   "id": "1871309c-ebbf-4f62-bbe1-c2d392f27c1e",
   "metadata": {},
   "outputs": [
    {
     "data": {
      "text/plain": [
       "'你是强大的写作助手。\\n\\n你必须遵循以下约束来完成任务:\\n1. 直接输出你的结果，不要评论，不要啰嗦\\n2. 使用markdown格式输出\\n\\n**你的任务是:**\\n\\n'"
      ]
     },
     "execution_count": 5,
     "metadata": {},
     "output_type": "execute_result"
    }
   ],
   "source": [
    "from illufly.types import PromptTemplate\n",
    "\n",
    "PromptTemplate(\"WRITER/IDEA\").format()"
   ]
  },
  {
   "cell_type": "code",
   "execution_count": 6,
   "id": "5057d8b3-0ca0-4e97-876c-63a52cf0de23",
   "metadata": {},
   "outputs": [
    {
     "data": {
      "text/plain": [
       "<PromptTemplate consumer_dict={'task'} text='你是一个AI助手，擅长{{task}}'>"
      ]
     },
     "execution_count": 6,
     "metadata": {},
     "output_type": "execute_result"
    }
   ],
   "source": [
    "PromptTemplate(text=\"你是一个AI助手，擅长{{task}}\")"
   ]
  },
  {
   "cell_type": "code",
   "execution_count": 7,
   "id": "20067c7a-adc3-431e-a023-be2a6895a24f",
   "metadata": {},
   "outputs": [
    {
     "data": {
      "text/plain": [
       "'你是一个写手，擅长摸鱼'"
      ]
     },
     "execution_count": 7,
     "metadata": {},
     "output_type": "execute_result"
    }
   ],
   "source": [
    "PromptTemplate(text=\"你是一个写手，擅长{{task}}\").format({\"task\": \"摸鱼\"})"
   ]
  },
  {
   "cell_type": "markdown",
   "id": "47e8b96b-1aee-48cf-bc50-8b368db48f23",
   "metadata": {},
   "source": [
    "## Clone 到本地"
   ]
  },
  {
   "cell_type": "markdown",
   "id": "fb173fff-605e-434c-8daf-b54e275bb559",
   "metadata": {},
   "source": [
    "### 将提示语模板克隆到本地"
   ]
  },
  {
   "cell_type": "code",
   "execution_count": 8,
   "id": "391c8ca7-919c-4852-9918-33ef96129951",
   "metadata": {},
   "outputs": [
    {
     "data": {
      "text/plain": [
       "'__PROMPTS__/WRITER/IDEA'"
      ]
     },
     "execution_count": 8,
     "metadata": {},
     "output_type": "execute_result"
    }
   ],
   "source": [
    "#\n",
    "from illufly.hub import clone_prompt_template, load_prompt_template, load_resource_template\n",
    "\n",
    "clone_prompt_template(\"WRITER/IDEA\")"
   ]
  },
  {
   "cell_type": "markdown",
   "id": "09971a15-9196-4c70-babd-68ef07193835",
   "metadata": {},
   "source": [
    "### 使用时优先从本地提取"
   ]
  },
  {
   "cell_type": "code",
   "execution_count": 16,
   "id": "bfe776ae-11ce-46a1-acaa-f6a887572b0f",
   "metadata": {},
   "outputs": [
    {
     "data": {
      "text/plain": [
       "<PromptTemplate consumer_dict={'task'} text='你是强大的写作助手。<br><br>你必须遵循以下约束来完成任务:<br>1. 直接输出你的结果，不要评论，不要啰嗦<br>2. 使用markdown格式输出<br><br>**你的任务是:**<br>{{task}}'>"
      ]
     },
     "execution_count": 16,
     "metadata": {},
     "output_type": "execute_result"
    }
   ],
   "source": [
    "from illufly.types import PromptTemplate\n",
    "PromptTemplate(\"WRITER/IDEA\")"
   ]
  },
  {
   "cell_type": "markdown",
   "id": "179f1b75-2aba-4d9e-8787-c4b09b34db6d",
   "metadata": {},
   "source": [
    "### 你也可以直接在本地管理提示语"
   ]
  },
  {
   "cell_type": "code",
   "execution_count": 17,
   "id": "29f378c7-33fe-4058-a8a4-8883ed6f64a3",
   "metadata": {},
   "outputs": [
    {
     "data": {
      "text/plain": [
       "<PromptTemplate consumer_dict={'task'} text='你是擅长摸鱼的写手。写作时特别擅长凑字数。<br><br>你必须遵循以下约束来完成任务:<br>1. 直接输出你的结果，不要评论，不要啰嗦<br>2. 使用markdown格式输出<br><br>**你的任务是:**<br>{{task}}'>"
      ]
     },
     "execution_count": 17,
     "metadata": {},
     "output_type": "execute_result"
    }
   ],
   "source": [
    "PromptTemplate(\"IDEA\")"
   ]
  },
  {
   "cell_type": "code",
   "execution_count": null,
   "id": "c96e771e-ea24-44ed-bac2-bd85bf665630",
   "metadata": {},
   "outputs": [],
   "source": []
  }
 ],
 "metadata": {
  "kernelspec": {
   "display_name": "Python 3 (ipykernel)",
   "language": "python",
   "name": "python3"
  },
  "language_info": {
   "codemirror_mode": {
    "name": "ipython",
    "version": 3
   },
   "file_extension": ".py",
   "mimetype": "text/x-python",
   "name": "python",
   "nbconvert_exporter": "python",
   "pygments_lexer": "ipython3",
   "version": "3.10.0"
  }
 },
 "nbformat": 4,
 "nbformat_minor": 5
}
