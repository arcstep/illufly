{
 "cells": [
  {
   "cell_type": "markdown",
   "id": "472d7585-44b2-4ef0-9fa8-ed05ab445e5f",
   "metadata": {},
   "source": [
    "# 提示语模板"
   ]
  },
  {
   "cell_type": "markdown",
   "id": "3da2461b-8b6e-4427-b742-eeb47ea5775d",
   "metadata": {},
   "source": [
    "## Mustache"
   ]
  },
  {
   "cell_type": "code",
   "execution_count": null,
   "id": "22ecbc8a-6640-4c02-b604-48c9148c62eb",
   "metadata": {},
   "outputs": [],
   "source": [
    "%pip install chevron"
   ]
  },
  {
   "cell_type": "code",
   "execution_count": 1,
   "id": "080915e9-0b49-48a4-86f7-d8e7beeff924",
   "metadata": {},
   "outputs": [
    {
     "data": {
      "text/plain": [
       "'Hello, ! '"
      ]
     },
     "execution_count": 1,
     "metadata": {},
     "output_type": "execute_result"
    }
   ],
   "source": [
    "from chevron.renderer import render as mustache_render\n",
    "from chevron.tokenizer import tokenize as mustache_tokenize\n",
    "\n",
    "mustache_render(template='Hello, {{ mustache }}! {{ name }}')"
   ]
  },
  {
   "cell_type": "markdown",
   "id": "18992812-3c87-4472-8e3a-4f1938ee92c3",
   "metadata": {},
   "source": [
    "## 通过 binding 提前定义 Template"
   ]
  },
  {
   "cell_type": "code",
   "execution_count": 2,
   "id": "9ad9f371-60e9-4b56-93b0-739eaed5592e",
   "metadata": {},
   "outputs": [
    {
     "data": {
      "text/plain": [
       "'你是强大的写作助手。\\n\\n你必须遵循以下约束来完成任务:\\n1. 直接输出你的结果，不要评论，不要啰嗦\\n2. 使用markdown格式输出\\n\\n**你的任务是:**\\nhi\\n'"
      ]
     },
     "execution_count": 2,
     "metadata": {},
     "output_type": "execute_result"
    }
   ],
   "source": [
    "from illufly.types import Template, Messages, Runnable\n",
    "\n",
    "t = Template(\"IDEA\", binding_map={\"task\": \"hi\"})\n",
    "t.format()"
   ]
  },
  {
   "cell_type": "markdown",
   "id": "9781029b-3567-41b1-b13d-84d421028ed7",
   "metadata": {},
   "source": [
    "## 通过 format 提供变量"
   ]
  },
  {
   "cell_type": "code",
   "execution_count": 3,
   "id": "1f374094-6b08-4633-9da7-6aec6e9d5c7f",
   "metadata": {},
   "outputs": [
    {
     "data": {
      "text/plain": [
       "'你是强大的写作助手。\\n\\n你必须遵循以下约束来完成任务:\\n1. 直接输出你的结果，不要评论，不要啰嗦\\n2. 使用markdown格式输出\\n\\n**你的任务是:**\\n帮我写一首儿歌\\n'"
      ]
     },
     "execution_count": 3,
     "metadata": {},
     "output_type": "execute_result"
    }
   ],
   "source": [
    "t.format({\"task\": \"帮我写一首儿歌\"})"
   ]
  },
  {
   "cell_type": "markdown",
   "id": "7bdd317a-2d7d-413e-97d2-552df8228d98",
   "metadata": {},
   "source": [
    "## 通过绑定 Runnable 提供变量"
   ]
  },
  {
   "cell_type": "code",
   "execution_count": 2,
   "id": "6f7277a5-7c0b-4da0-b822-006840c1d141",
   "metadata": {},
   "outputs": [
    {
     "data": {
      "text/plain": [
       "'你的任务是：帮我写一首儿歌'"
      ]
     },
     "execution_count": 2,
     "metadata": {},
     "output_type": "execute_result"
    }
   ],
   "source": [
    "from illufly.types import Template, Messages, Runnable\n",
    "\n",
    "class A(Runnable):\n",
    "    def call(self, prompt: str, **kwargs):\n",
    "        return prompt\n",
    "\n",
    "a = A()\n",
    "t = Template(text=\"你的任务是：{{last_output}}\")\n",
    "a.bind_consumer(t)\n",
    "\n",
    "a(\"帮我写一首儿歌\")\n",
    "t.format()"
   ]
  },
  {
   "cell_type": "code",
   "execution_count": 3,
   "id": "0d996bf5-5dda-41b8-9d8c-af3f0bb9492b",
   "metadata": {},
   "outputs": [
    {
     "data": {
      "text/plain": [
       "{'last_output': '帮我写一首儿歌'}"
      ]
     },
     "execution_count": 3,
     "metadata": {},
     "output_type": "execute_result"
    }
   ],
   "source": [
    "a.provider_dict"
   ]
  },
  {
   "cell_type": "markdown",
   "id": "9a843aef-8ebb-43d0-9dc5-5a6a74551807",
   "metadata": {},
   "source": [
    "## 绑定中使用函数"
   ]
  },
  {
   "cell_type": "code",
   "execution_count": 5,
   "id": "c6d5df0a-cd4d-440d-b510-a6131ef676cb",
   "metadata": {},
   "outputs": [
    {
     "data": {
      "text/plain": [
       "'你是强大的写作助手。\\n\\n你必须遵循以下约束来完成任务:\\n1. 直接输出你的结果，不要评论，不要啰嗦\\n2. 使用markdown格式输出\\n\\n**你的任务是:**\\n请帮我写一首歌\\n'"
      ]
     },
     "execution_count": 5,
     "metadata": {},
     "output_type": "execute_result"
    }
   ],
   "source": [
    "# 映射到深层嵌套的字典变量\n",
    "Template(\n",
    "    \"IDEA\",\n",
    "    binding_map={\"task\": lambda x: f\"请帮我写一首歌\"}\n",
    ").format()"
   ]
  },
  {
   "cell_type": "markdown",
   "id": "31f5baba-bdd3-4342-bd33-d4a0a549eee5",
   "metadata": {},
   "source": [
    "## 使用 bind_provider"
   ]
  },
  {
   "cell_type": "code",
   "execution_count": 8,
   "id": "f5f6e463-9780-476a-aeea-06fa548868b1",
   "metadata": {},
   "outputs": [
    {
     "data": {
      "text/plain": [
       "'你的任务是：帮我写一首儿歌'"
      ]
     },
     "execution_count": 8,
     "metadata": {},
     "output_type": "execute_result"
    }
   ],
   "source": [
    "class A(Runnable):\n",
    "    def call(self, prompt: str, **kwargs):\n",
    "        return prompt\n",
    "\n",
    "a = A()\n",
    "t = Template(text=\"你的任务是：{{task}}\")\n",
    "t.bind_provider(a, {\"task\": \"last_output\"})\n",
    "\n",
    "a(\"帮我写一首儿歌\")\n",
    "t.format()"
   ]
  },
  {
   "cell_type": "markdown",
   "id": "4ab06346-bbc9-4c04-9b4c-a4f20064c21d",
   "metadata": {},
   "source": [
    "## 使用 lazy_binding_map\n",
    "\n",
    "使用 lazy_binding_map 可以先声明对象，然后在合适的时机自动实现绑定。"
   ]
  },
  {
   "cell_type": "code",
   "execution_count": 3,
   "id": "f556803c-7924-43a6-a3f4-65bcb1900a31",
   "metadata": {},
   "outputs": [
    {
     "data": {
      "text/plain": [
       "'你的任务是：帮我写一首儿歌'"
      ]
     },
     "execution_count": 3,
     "metadata": {},
     "output_type": "execute_result"
    }
   ],
   "source": [
    "from illufly.types import Template, Messages, Runnable\n",
    "\n",
    "class A(Runnable):\n",
    "    def call(self, prompt: str, **kwargs):\n",
    "        return prompt\n",
    "\n",
    "t = Template(text=\"你的任务是：{{task}}\", lazy_binding_map={\"task\": \"last_output\"})\n",
    "\n",
    "a = A()\n",
    "a.bind_consumer(t)\n",
    "\n",
    "a(\"帮我写一首儿歌\")\n",
    "t.format()"
   ]
  },
  {
   "cell_type": "markdown",
   "id": "033a9052-dc47-4fa4-af2d-c9584bf93efe",
   "metadata": {},
   "source": [
    "**对话模型可以使用 lazy_binding_map 实现灵活的多模板绑定：**"
   ]
  },
  {
   "cell_type": "code",
   "execution_count": 19,
   "id": "71c581a4-d2f5-405b-a723-959422348bce",
   "metadata": {},
   "outputs": [
    {
     "data": {
      "text/plain": [
       "[{'role': 'system', 'content': '你的任务是：写一首歌'},\n",
       " {'role': 'user', 'content': '请认真帮我完成：写一首歌'}]"
      ]
     },
     "execution_count": 19,
     "metadata": {},
     "output_type": "execute_result"
    }
   ],
   "source": [
    "from illufly.chat import ChatQwen\n",
    "from illufly.types import Template\n",
    "\n",
    "qwen = ChatQwen(\n",
    "    memory=[\n",
    "        Template(text=\"你的任务是：{{mytask}}\", lazy_binding_map={\"mytask\": \"task\"}),\n",
    "        Template(text=\"请认真帮我完成：{{recall}}\", lazy_binding_map={\"recall\": \"task\"})\n",
    "    ]\n",
    ")\n",
    "qwen.get_chat_memory(\"写一首歌\")"
   ]
  },
  {
   "cell_type": "code",
   "execution_count": null,
   "id": "5a4bdac8-63ba-4f42-96ec-0831611957f4",
   "metadata": {},
   "outputs": [],
   "source": []
  }
 ],
 "metadata": {
  "kernelspec": {
   "display_name": "textlong-same-ipykernel",
   "language": "python",
   "name": "textlong-same-ipykernel"
  },
  "language_info": {
   "codemirror_mode": {
    "name": "ipython",
    "version": 3
   },
   "file_extension": ".py",
   "mimetype": "text/x-python",
   "name": "python",
   "nbconvert_exporter": "python",
   "pygments_lexer": "ipython3",
   "version": "3.10.0"
  }
 },
 "nbformat": 4,
 "nbformat_minor": 5
}
