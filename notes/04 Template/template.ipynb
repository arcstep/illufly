{
    "cells": [
        {
            "cell_type": "markdown",
            "id": "472d7585-44b2-4ef0-9fa8-ed05ab445e5f",
            "metadata": {},
            "source": [
                "## 提示语模板"
            ]
        },
        {
            "cell_type": "code",
            "execution_count": 1,
            "id": "9ad9f371-60e9-4b56-93b0-739eaed5592e",
            "metadata": {},
            "outputs": [
                {
                    "data": {
                        "text/plain": [
                            "{'task': 'hi'}"
                        ]
                    },
                    "execution_count": 1,
                    "metadata": {},
                    "output_type": "execute_result"
                }
            ],
            "source": [
                "from illufly.types import Template, Messages, Runnable\n",
                "\n",
                "t = Template(\"IDEA\", binding={\"task\": \"hi\"})\n",
                "t.consumer_dict"
            ]
        },
        {
            "cell_type": "code",
            "execution_count": 2,
            "id": "e530ad9a-f251-4f90-9a42-895501deec69",
            "metadata": {},
            "outputs": [
                {
                    "data": {
                        "text/plain": [
                            "'你是强大的写作助手。\\n\\n你必须遵循以下约束来完成任务:\\n1. 直接输出你的结果，不要评论，不要啰嗦\\n2. 使用markdown格式输出\\n\\n**你的任务是:**\\nhi\\n'"
                        ]
                    },
                    "execution_count": 2,
                    "metadata": {},
                    "output_type": "execute_result"
                }
            ],
            "source": [
                "t.format()"
            ]
        },
        {
            "cell_type": "markdown",
            "id": "9781029b-3567-41b1-b13d-84d421028ed7",
            "metadata": {},
            "source": [
                "### 通过 format 提供变量"
            ]
        },
        {
            "cell_type": "code",
            "execution_count": 3,
            "id": "1f374094-6b08-4633-9da7-6aec6e9d5c7f",
            "metadata": {},
            "outputs": [
                {
                    "data": {
                        "text/plain": [
                            "'你是强大的写作助手。\\n\\n你必须遵循以下约束来完成任务:\\n1. 直接输出你的结果，不要评论，不要啰嗦\\n2. 使用markdown格式输出\\n\\n**你的任务是:**\\n帮我写一首儿歌\\n'"
                        ]
                    },
                    "execution_count": 3,
                    "metadata": {},
                    "output_type": "execute_result"
                }
            ],
            "source": [
                "t.format({\"task\": \"帮我写一首儿歌\"})"
            ]
        },
        {
            "cell_type": "markdown",
            "id": "7bdd317a-2d7d-413e-97d2-552df8228d98",
            "metadata": {},
            "source": [
                "### 通过绑定 Runnable 提供变量"
            ]
        },
        {
            "cell_type": "code",
            "execution_count": 4,
            "id": "6f7277a5-7c0b-4da0-b822-006840c1d141",
            "metadata": {},
            "outputs": [
                {
                    "data": {
                        "text/plain": [
                            "'你是强大的写作助手。\\n\\n你必须遵循以下约束来完成任务:\\n1. 直接输出你的结果，不要评论，不要啰嗦\\n2. 使用markdown格式输出\\n\\n**你的任务是:**\\n帮我写一首儿歌\\n'"
                        ]
                    },
                    "execution_count": 4,
                    "metadata": {},
                    "output_type": "execute_result"
                }
            ],
            "source": [
                "from illufly.types import Template, Messages, Runnable\n",
                "\n",
                "class A(Runnable):\n",
                "    def __init__(self):\n",
                "        self.task = \"\"\n",
                "    @property\n",
                "    def provider_dict(self):\n",
                "        return {\"task\": self.task}\n",
                "\n",
                "    def call(self, task: str, **kwargs):\n",
                "        self.task = task\n",
                "\n",
                "a = A()\n",
                "t = Template(\"IDEA\")\n",
                "t.bind_providers(a)\n",
                "\n",
                "a.call(\"帮我写一首儿歌\")\n",
                "t.format()"
            ]
        },
        {
            "cell_type": "markdown",
            "id": "31f5baba-bdd3-4342-bd33-d4a0a549eee5",
            "metadata": {},
            "source": [
                "### 绑定时使用映射"
            ]
        },
        {
            "cell_type": "code",
            "execution_count": 5,
            "id": "f5f6e463-9780-476a-aeea-06fa548868b1",
            "metadata": {},
            "outputs": [
                {
                    "data": {
                        "text/plain": [
                            "'你是强大的写作助手。\\n\\n你必须遵循以下约束来完成任务:\\n1. 直接输出你的结果，不要评论，不要啰嗦\\n2. 使用markdown格式输出\\n\\n**你的任务是:**\\n帮我写一首儿歌\\n'"
                        ]
                    },
                    "execution_count": 5,
                    "metadata": {},
                    "output_type": "execute_result"
                }
            ],
            "source": [
                "class A(Runnable):\n",
                "    def call(self, prompt: str, **kwargs):\n",
                "        self._last_input = prompt\n",
                "        self._last_output = f\"你说{prompt}？\"\n",
                "\n",
                "a = A()\n",
                "t = Template(\"IDEA\")\n",
                "t.bind_providers((a, {\"task\": \"last_input\"}))\n",
                "\n",
                "a.call(\"帮我写一首儿歌\")\n",
                "t.format()"
            ]
        },
        {
            "cell_type": "markdown",
            "id": "1d591574-95d6-41ee-b149-78a3cd7793b6",
            "metadata": {},
            "source": [
                "## Messages 中使用提示语模板"
            ]
        },
        {
            "cell_type": "code",
            "execution_count": 6,
            "id": "2ab31c5b-e57c-4ed7-bac6-28fcbac40233",
            "metadata": {},
            "outputs": [],
            "source": [
                "from illufly.chat import FakeLLM\n",
                "from illufly.types import Template\n",
                "\n",
                "llm = FakeLLM(\n",
                "    memory=[\n",
                "        Template(text=\"请你帮我写{{mytask}}\"),\n",
                "        \"请开始\"\n",
                "    ],\n",
                "    template_binding={\"mytask\": \"task\"}\n",
                ")"
            ]
        },
        {
            "cell_type": "code",
            "execution_count": 7,
            "id": "18123f29-4ddf-4819-a216-9aa7d436d223",
            "metadata": {},
            "outputs": [
                {
                    "name": "stdout",
                    "output_type": "stream",
                    "text": [
                        "[INFO] \u001b[34mFakeLLM: [{'role': 'system', 'content': '请你帮我写一首诗词'}, {'role': 'user', 'content': '请开始'}]\u001b[0m\n",
                        "\u001b[32m这\u001b[0m\u001b[32m是\u001b[0m\u001b[32m一个\u001b[0m\u001b[32m模拟\u001b[0m\u001b[32m调用\u001b[0m\u001b[32m!\u001b[0m"
                    ]
                },
                {
                    "data": {
                        "text/plain": [
                            "'这是一个模拟调用!'"
                        ]
                    },
                    "execution_count": 7,
                    "metadata": {},
                    "output_type": "execute_result"
                }
            ],
            "source": [
                "llm(\"一首诗词\", verbose=True, new_chat=True)"
            ]
        },
        {
            "cell_type": "code",
            "execution_count": 8,
            "id": "c589830a-2e37-48b2-9d0c-438714757b03",
            "metadata": {},
            "outputs": [
                {
                    "data": {
                        "text/plain": [
                            "[{'role': 'system', 'content': '请你帮我写一首诗词'},\n",
                            " {'role': 'user', 'content': '请开始'},\n",
                            " {'role': 'assistant', 'content': '这是一个模拟调用!'}]"
                        ]
                    },
                    "execution_count": 8,
                    "metadata": {},
                    "output_type": "execute_result"
                }
            ],
            "source": [
                "llm.memory"
            ]
        },
        {
            "cell_type": "code",
            "execution_count": 11,
            "id": "2a853f06-c11f-4b20-8369-99bfb3993ef9",
            "metadata": {},
            "outputs": [
                {
                    "data": {
                        "text/plain": [
                            "{'last_output', 'mytask', 'task'}"
                        ]
                    },
                    "execution_count": 11,
                    "metadata": {},
                    "output_type": "execute_result"
                }
            ],
            "source": [
                "llm.init_messages_bound_vars"
            ]
        },
        {
            "cell_type": "code",
            "execution_count": 10,
            "id": "64f8b600-d779-4727-bc6e-528ed27bfd86",
            "metadata": {},
            "outputs": [
                {
                    "name": "stdout",
                    "output_type": "stream",
                    "text": [
                        "{'last_input': '一首诗词', 'last_output': '这是一个模拟调用!', 'mytask': '一首诗词'}\n"
                    ]
                }
            ],
            "source": [
                "for template in llm.init_messages.all_templates:\n",
                "    print(template.consumer_dict)"
            ]
        },
        {
            "cell_type": "code",
            "execution_count": 11,
            "id": "0a39704d-6bc9-4e27-9a6e-8d06d3952c40",
            "metadata": {},
            "outputs": [
                {
                    "data": {
                        "text/plain": [
                            "[{'role': 'system', 'content': '请你帮我写一首诗词'},\n",
                            " {'role': 'user', 'content': '请开始'},\n",
                            " {'role': 'assistant', 'content': '这是一个模拟调用!'}]"
                        ]
                    },
                    "execution_count": 11,
                    "metadata": {},
                    "output_type": "execute_result"
                }
            ],
            "source": [
                "llm.get_chat_memory()"
            ]
        },
        {
            "cell_type": "code",
            "execution_count": 14,
            "id": "afc74a5c-50c0-4260-93e5-5a80930f215d",
            "metadata": {},
            "outputs": [
                {
                    "name": "stdout",
                    "output_type": "stream",
                    "text": [
                        "\u001b[32m小兔子\u001b[0m\u001b[32m乖乖\u001b[0m\u001b[32m，\u001b[0m\u001b[32m  \n",
                        "蹦蹦跳\u001b[0m\u001b[32m跳真快活\u001b[0m\u001b[32m，  \n",
                        "红萝卜\u001b[0m\u001b[32m甜甜，  \n",
                        "幸福\u001b[0m\u001b[32m日子每一天。\u001b[0m\u001b[32m\u001b[0m\n"
                    ]
                },
                {
                    "data": {
                        "text/plain": [
                            "'小兔子乖乖，  \\n蹦蹦跳跳真快活，  \\n红萝卜甜甜，  \\n幸福日子每一天。'"
                        ]
                    },
                    "execution_count": 14,
                    "metadata": {},
                    "output_type": "execute_result"
                }
            ],
            "source": [
                "from illufly.chat import ChatQwen\n",
                "from illufly.types import Template\n",
                "\n",
                "llm = ChatQwen(\n",
                "    memory=[Template(text=\"请你帮我写{{mytask}}\"), \"请开始\"],\n",
                "    template_binding={\n",
                "        \"mytask\": \"task\"\n",
                "    }\n",
                ")\n",
                "llm(\"一首儿歌，4行\")"
            ]
        },
        {
            "cell_type": "code",
            "execution_count": 15,
            "id": "20a15c91-5625-46bf-9738-a6e7d6b35c68",
            "metadata": {},
            "outputs": [
                {
                    "data": {
                        "text/plain": [
                            "[{'role': 'system', 'content': '请你帮我写一首儿歌，4行'},\n",
                            " {'role': 'user', 'content': '请开始'},\n",
                            " {'role': 'assistant', 'content': '小兔子乖乖，  \\n蹦蹦跳跳真快活，  \\n红萝卜甜甜，  \\n幸福日子每一天。'}]"
                        ]
                    },
                    "execution_count": 15,
                    "metadata": {},
                    "output_type": "execute_result"
                }
            ],
            "source": [
                "llm.memory"
            ]
        },
        {
            "cell_type": "code",
            "execution_count": 16,
            "id": "527c2f4e-e3ac-4d9e-8048-3ad22b079aba",
            "metadata": {},
            "outputs": [
                {
                    "name": "stdout",
                    "output_type": "stream",
                    "text": [
                        "\u001b[32m小狗\u001b[0m\u001b[32m汪\u001b[0m\u001b[32m汪\u001b[0m\u001b[32m叫\u001b[0m\u001b[32m，\n",
                        "尾巴摇摇\u001b[0m\u001b[32m跟着跑，\n",
                        "骨头\u001b[0m\u001b[32m香又脆，\n",
                        "\u001b[0m\u001b[32m快乐时光不疲惫\u001b[0m\u001b[32m。\u001b[0m\u001b[32m\u001b[0m\n"
                    ]
                },
                {
                    "data": {
                        "text/plain": [
                            "'小狗汪汪叫，\\n尾巴摇摇跟着跑，\\n骨头香又脆，\\n快乐时光不疲惫。'"
                        ]
                    },
                    "execution_count": 16,
                    "metadata": {},
                    "output_type": "execute_result"
                }
            ],
            "source": [
                "llm(\"换成小狗\")"
            ]
        },
        {
            "cell_type": "code",
            "execution_count": 17,
            "id": "4bb5a239-3b24-44b0-a648-2a7e24b50e86",
            "metadata": {},
            "outputs": [
                {
                    "data": {
                        "text/plain": [
                            "[{'role': 'system', 'content': '请你帮我写一首儿歌，4行'},\n",
                            " {'role': 'user', 'content': '请开始'},\n",
                            " {'role': 'assistant', 'content': '小兔子乖乖，  \\n蹦蹦跳跳真快活，  \\n红萝卜甜甜，  \\n幸福日子每一天。'},\n",
                            " {'role': 'user', 'content': '换成小狗'},\n",
                            " {'role': 'assistant', 'content': '小狗汪汪叫，\\n尾巴摇摇跟着跑，\\n骨头香又脆，\\n快乐时光不疲惫。'}]"
                        ]
                    },
                    "execution_count": 17,
                    "metadata": {},
                    "output_type": "execute_result"
                }
            ],
            "source": [
                "llm.memory"
            ]
        },
        {
            "cell_type": "code",
            "execution_count": null,
            "id": "1f000f80-06d0-47bc-8aa5-d03e606f6d95",
            "metadata": {},
            "outputs": [],
            "source": []
        }
    ],
    "metadata": {
        "kernelspec": {
            "display_name": "textlong-same-ipykernel",
            "language": "python",
            "name": "textlong-same-ipykernel"
        },
        "language_info": {
            "codemirror_mode": {
                "name": "ipython",
                "version": 3
            },
            "file_extension": ".py",
            "mimetype": "text/x-python",
            "name": "python",
            "nbconvert_exporter": "python",
            "pygments_lexer": "ipython3",
            "version": "3.10.0"
        }
    },
    "nbformat": 4,
    "nbformat_minor": 5
}