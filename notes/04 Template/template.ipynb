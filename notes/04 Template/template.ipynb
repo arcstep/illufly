{
    "cells": [
        {
            "cell_type": "markdown",
            "id": "472d7585-44b2-4ef0-9fa8-ed05ab445e5f",
            "metadata": {},
            "source": [
                "# 提示语模板"
            ]
        },
        {
            "cell_type": "markdown",
            "id": "3da2461b-8b6e-4427-b742-eeb47ea5775d",
            "metadata": {},
            "source": [
                "## Mustache"
            ]
        },
        {
            "cell_type": "code",
            "execution_count": null,
            "id": "22ecbc8a-6640-4c02-b604-48c9148c62eb",
            "metadata": {},
            "outputs": [],
            "source": [
                "%pip install chevron"
            ]
        },
        {
            "cell_type": "code",
            "execution_count": 1,
            "id": "080915e9-0b49-48a4-86f7-d8e7beeff924",
            "metadata": {},
            "outputs": [
                {
                    "data": {
                        "text/plain": [
                            "'Hello, ! '"
                        ]
                    },
                    "execution_count": 1,
                    "metadata": {},
                    "output_type": "execute_result"
                }
            ],
            "source": [
                "from chevron.renderer import render as mustache_render\n",
                "from chevron.tokenizer import tokenize as mustache_tokenize\n",
                "\n",
                "mustache_render(template='Hello, {{ mustache }}! {{ name }}')"
            ]
        },
        {
            "cell_type": "markdown",
            "id": "18992812-3c87-4472-8e3a-4f1938ee92c3",
            "metadata": {},
            "source": [
                "## 通过 bindings 提前定义 Template"
            ]
        },
        {
            "cell_type": "code",
            "execution_count": 1,
            "id": "9ad9f371-60e9-4b56-93b0-739eaed5592e",
            "metadata": {},
            "outputs": [
                {
                    "data": {
                        "text/plain": [
                            "'你是强大的写作助手。\\n\\n你必须遵循以下约束来完成任务:\\n1. 直接输出你的结果，不要评论，不要啰嗦\\n2. 使用markdown格式输出\\n\\n**你的任务是:**\\nhi\\n'"
                        ]
                    },
                    "execution_count": 1,
                    "metadata": {},
                    "output_type": "execute_result"
                }
            ],
            "source": [
                "from illufly.types import Template, Messages, Runnable\n",
                "\n",
                "t = Template(\"IDEA\", bindings={\"task\": \"hi\"})\n",
                "t.format()"
            ]
        },
        {
            "cell_type": "markdown",
            "id": "9781029b-3567-41b1-b13d-84d421028ed7",
            "metadata": {},
            "source": [
                "## 通过 format 提供变量"
            ]
        },
        {
            "cell_type": "code",
            "execution_count": 2,
            "id": "1f374094-6b08-4633-9da7-6aec6e9d5c7f",
            "metadata": {},
            "outputs": [
                {
                    "data": {
                        "text/plain": [
                            "'你是强大的写作助手。\\n\\n你必须遵循以下约束来完成任务:\\n1. 直接输出你的结果，不要评论，不要啰嗦\\n2. 使用markdown格式输出\\n\\n**你的任务是:**\\n帮我写一首儿歌\\n'"
                        ]
                    },
                    "execution_count": 2,
                    "metadata": {},
                    "output_type": "execute_result"
                }
            ],
            "source": [
                "t.format({\"task\": \"帮我写一首儿歌\"})"
            ]
        },
        {
            "cell_type": "markdown",
            "id": "7bdd317a-2d7d-413e-97d2-552df8228d98",
            "metadata": {},
            "source": [
                "## 通过绑定 Runnable 提供变量"
            ]
        },
        {
            "cell_type": "code",
            "execution_count": 3,
            "id": "6f7277a5-7c0b-4da0-b822-006840c1d141",
            "metadata": {},
            "outputs": [
                {
                    "data": {
                        "text/plain": [
                            "'你的任务是：帮我写一首儿歌'"
                        ]
                    },
                    "execution_count": 3,
                    "metadata": {},
                    "output_type": "execute_result"
                }
            ],
            "source": [
                "from illufly.types import Template, Messages, Runnable\n",
                "\n",
                "class A(Runnable):\n",
                "    def call(self, prompt: str, **kwargs):\n",
                "        self._last_input = prompt\n",
                "\n",
                "a = A()\n",
                "t = Template(text=\"你的任务是：{{last_input}}\")\n",
                "a.bind_consumer(t)\n",
                "\n",
                "a.call(\"帮我写一首儿歌\")\n",
                "t.format()"
            ]
        },
        {
            "cell_type": "code",
            "execution_count": 22,
            "id": "0d996bf5-5dda-41b8-9d8c-af3f0bb9492b",
            "metadata": {},
            "outputs": [
                {
                    "data": {
                        "text/plain": [
                            "{'last_input': '帮我写一首儿歌'}"
                        ]
                    },
                    "execution_count": 22,
                    "metadata": {},
                    "output_type": "execute_result"
                }
            ],
            "source": [
                "a.provider_dict"
            ]
        },
        {
            "cell_type": "markdown",
            "id": "9a843aef-8ebb-43d0-9dc5-5a6a74551807",
            "metadata": {},
            "source": [
                "## 绑定中使用函数"
            ]
        },
        {
            "cell_type": "code",
            "execution_count": 23,
            "id": "c6d5df0a-cd4d-440d-b510-a6131ef676cb",
            "metadata": {},
            "outputs": [
                {
                    "data": {
                        "text/plain": [
                            "'你是强大的写作助手。\\n\\n你必须遵循以下约束来完成任务:\\n1. 直接输出你的结果，不要评论，不要啰嗦\\n2. 使用markdown格式输出\\n\\n**你的任务是:**\\n请帮我写一首歌\\n'"
                        ]
                    },
                    "execution_count": 23,
                    "metadata": {},
                    "output_type": "execute_result"
                }
            ],
            "source": [
                "# 映射到深层嵌套的字典变量\n",
                "Template(\n",
                "    \"IDEA\",\n",
                "    bindings={\"task\": lambda x: f\"请帮我写一首歌\"}\n",
                ").format()"
            ]
        },
        {
            "cell_type": "markdown",
            "id": "31f5baba-bdd3-4342-bd33-d4a0a549eee5",
            "metadata": {},
            "source": [
                "## 绑定时使用映射"
            ]
        },
        {
            "cell_type": "code",
            "execution_count": 13,
            "id": "f5f6e463-9780-476a-aeea-06fa548868b1",
            "metadata": {},
            "outputs": [
                {
                    "data": {
                        "text/plain": [
                            "'你的任务是：帮我写一首儿歌'"
                        ]
                    },
                    "execution_count": 13,
                    "metadata": {},
                    "output_type": "execute_result"
                }
            ],
            "source": [
                "class A(Runnable):\n",
                "    def call(self, prompt: str, **kwargs):\n",
                "        self._last_input = prompt\n",
                "\n",
                "a = A()\n",
                "t = Template(text=\"你的任务是：{{task}}\")\n",
                "t.bind_provider((a, {\"task\": \"last_input\"}))\n",
                "\n",
                "a.call(\"帮我写一首儿歌\")\n",
                "t.format()"
            ]
        }
    ],
    "metadata": {
        "kernelspec": {
            "display_name": "textlong-same-ipykernel",
            "language": "python",
            "name": "textlong-same-ipykernel"
        },
        "language_info": {
            "codemirror_mode": {
                "name": "ipython",
                "version": 3
            },
            "file_extension": ".py",
            "mimetype": "text/x-python",
            "name": "python",
            "nbconvert_exporter": "python",
            "pygments_lexer": "ipython3",
            "version": "3.10.0"
        }
    },
    "nbformat": 4,
    "nbformat_minor": 5
}