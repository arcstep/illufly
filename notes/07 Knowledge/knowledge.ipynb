{
    "cells": [
        {
            "cell_type": "markdown",
            "id": "5111a110-4336-42ab-b481-71ab2434595b",
            "metadata": {},
            "source": [
                "## 知识管理"
            ]
        },
        {
            "cell_type": "markdown",
            "id": "76c94052-2be5-41ad-9f75-22f5b4af5556",
            "metadata": {},
            "source": [
                "### 基本结构\n",
                "\n",
                "- 表示：MarkMeta, 从 Markdown 语法扩展，使用 @meta 标记知识点文本的段落边界，可作为向量切分的依据\n",
                "- 存取：BaseKnowledgeDB, 可存取 MarkMeta 结构的文本，可从多种来源导入知识\n",
                "- 检索：VectorDB, 可加载 BaseKnowledgeDB"
            ]
        },
        {
            "cell_type": "markdown",
            "id": "e88e8888-ca72-481a-a1f0-5e2eea6e6a8b",
            "metadata": {},
            "source": [
                "## 在内存中管理知识"
            ]
        },
        {
            "cell_type": "markdown",
            "id": "285e8486-aa1c-496b-a62e-aaf908f13c35",
            "metadata": {},
            "source": [
                "### 创建"
            ]
        },
        {
            "cell_type": "code",
            "execution_count": 1,
            "id": "4300ea32-89d1-45b8-b9c8-d56855290e79",
            "metadata": {},
            "outputs": [],
            "source": [
                "from illufly.io import BaseKnowledgeDB\n",
                "\n",
                "kg = BaseKnowledgeDB()"
            ]
        },
        {
            "cell_type": "code",
            "execution_count": 2,
            "id": "e1beb7ab-ef42-49a1-a980-4d3c62d44c73",
            "metadata": {},
            "outputs": [
                {
                    "data": {
                        "text/plain": [
                            "'20241208-87871-0001-6395'"
                        ]
                    },
                    "execution_count": 2,
                    "metadata": {},
                    "output_type": "execute_result"
                }
            ],
            "source": [
                "kg.add(\"我是诸葛浪\", tags=[\"个人资料\"])\n",
                "kg.add(\"草船借箭\", tags=[\"故事\", \"三国\"])"
            ]
        },
        {
            "cell_type": "markdown",
            "id": "fb56721e-e936-4542-8df0-12c516e81794",
            "metadata": {},
            "source": [
                "### 查询"
            ]
        },
        {
            "cell_type": "code",
            "execution_count": 3,
            "id": "de1bd4d6-d1b3-4fb6-85c6-08fdcd59fca1",
            "metadata": {},
            "outputs": [],
            "source": [
                "kg.get('20241207-70418-0003-8926')"
            ]
        },
        {
            "cell_type": "code",
            "execution_count": 4,
            "id": "226b30dd-749d-4655-a8b7-0a0f8ad487b3",
            "metadata": {},
            "outputs": [
                {
                    "data": {
                        "text/plain": [
                            "[Document(text=\"我是诸葛浪\", meta=['source', 'raw_meta', 'id', 'tags', 'summary']),\n",
                            " Document(text=\"草船借箭\", meta=['source', 'raw_meta', 'id', 'tags', 'summary'])]"
                        ]
                    },
                    "execution_count": 4,
                    "metadata": {},
                    "output_type": "execute_result"
                }
            ],
            "source": [
                "kg.all()"
            ]
        },
        {
            "cell_type": "code",
            "execution_count": 5,
            "id": "0586a17c-da29-4d17-a63d-b2ab62130c46",
            "metadata": {},
            "outputs": [
                {
                    "data": {
                        "text/plain": [
                            "['20241208-87871-0000-3914']"
                        ]
                    },
                    "execution_count": 5,
                    "metadata": {},
                    "output_type": "execute_result"
                }
            ],
            "source": [
                "kg.find_by_tags([\"个人资料\"])"
            ]
        },
        {
            "cell_type": "code",
            "execution_count": 6,
            "id": "48baafd5-21ff-4e74-ac30-6e2bf7bec489",
            "metadata": {},
            "outputs": [
                {
                    "data": {
                        "text/plain": [
                            "['个人资料', '故事', '三国']"
                        ]
                    },
                    "execution_count": 6,
                    "metadata": {},
                    "output_type": "execute_result"
                }
            ],
            "source": [
                "kg.tags"
            ]
        },
        {
            "cell_type": "markdown",
            "id": "ab5956c2-e2b8-4521-adb6-1ddd5e3b1d27",
            "metadata": {},
            "source": [
                "## 使用 MarkMeta 解析文本"
            ]
        },
        {
            "cell_type": "code",
            "execution_count": 1,
            "id": "0d878092-1bd2-4cf3-a1b1-ef01af6f5231",
            "metadata": {},
            "outputs": [],
            "source": [
                "md1 = \"\"\"\n",
                "<!-- @meta {\"tag\": \"related\"} -->\n",
                "**Question:**\n",
                "如何在家里制作美味的比萨？\n",
                "\n",
                "**Answer:**\n",
                "首先准备面团，然后加入番茄酱，放上你喜欢的配料，最后撒上奶酪，放入预热至200度的烤箱中烤约15分钟即可。\n",
                "\n",
                "<!-- @meta {\"tag\": \"related\"} -->\n",
                "**Question:**\n",
                "有没有简单的方法在家做比萨？\n",
                "\n",
                "**Answer:**\n",
                "可以买现成的比萨饼底，加上自己喜欢的食材，放入烤箱烤制即可。\n",
                "\n",
                "<!-- @meta {\"tag\": \"related\"} -->\n",
                "**Question:**\n",
                "自己动手做比萨需要注意哪些步骤？\n",
                "\n",
                "**Answer:**\n",
                "注意面团发酵时间，酱料的选择，配料的新鲜程度以及烘烤温度和时间。\n",
                "\n",
                "<!-- @meta {\"tag\": \"related\"} -->\n",
                "**Question:**\n",
                "在家中怎样才能做出餐厅级别的比萨？\n",
                "\n",
                "**Answer:**\n",
                "选用高质量的原材料，掌握正确的烘焙技巧，尝试不同的配料组合。\n",
                "\n",
                "<!-- @meta {\"tag\":\"related\"} -->\n",
                "**Question:**\n",
                "想在家里给家人做一顿特别的晚餐，有什么推荐？\n",
                "\n",
                "**Answer:**\n",
                "自制比萨是个不错的选择，可以根据家人的口味定制各种风味。\n",
                "\n",
                "<!-- @meta {\"tag\": \"unrelated\"} -->\n",
                "**Question:**\n",
                "如何训练一只小狗成为导盲犬？\n",
                "\n",
                "**Answer:**\n",
                "从小狗三个月大时开始基础训练，之后进行专业技能训练，通过测试后与视障者配合训练。\n",
                "\n",
                "<!-- @meta {\"tag\": \"unrelated\"} -->\n",
                "**Question:**\n",
                "怎样才能提高自己的编程能力？\n",
                "\n",
                "**Answer:**\n",
                "多练习，参与开源项目，阅读优秀的代码，不断学习新的技术和框架。\n",
                "\n",
                "<!-- @meta {\"tag\": \"unrelated\"} -->\n",
                "**Question:**\n",
                "为什么我的盆栽植物总是长不好？\n",
                "\n",
                "**Answer:**\n",
                "可能是浇水过多或过少，光照不足，或者土壤不适合植物生长，需要调整养护方法。\n",
                "\n",
                "<!-- @meta {\"tag\": \"unrelated\"} -->\n",
                "**Question:**\n",
                "如何挑选一双适合跑步的运动鞋？\n",
                "\n",
                "**Answer:**\n",
                "要选择适合自己脚型的鞋子，注意鞋子的缓震性和透气性，最好在下午试穿以确保大小合适。\n",
                "\n",
                "<!-- @meta {\"tag\": \"unrelated\"} -->\n",
                "**Question:**\n",
                "怎样才能有效地减肥？\n",
                "\n",
                "**Answer:**\n",
                "制定合理的饮食计划，增加日常活动量，保证充足的睡眠，必要时可以寻求专业人士的帮助。\n",
                "\n",
                "@meta\n",
                "\"\"\""
            ]
        },
        {
            "cell_type": "markdown",
            "id": "eff52a74-9c39-477b-9788-4d0f3cced5f3",
            "metadata": {},
            "source": [
                "### 解析 MarkMeta 文本"
            ]
        },
        {
            "cell_type": "code",
            "execution_count": 2,
            "id": "c98897af-0875-411f-826f-1bb35fa4ae19",
            "metadata": {
                "scrolled": true
            },
            "outputs": [
                {
                    "data": {
                        "text/plain": [
                            "[Document(text=\"**Question:**<br>如何在家里制作美味的比萨？<br><br>**Answer:**<br>首先准备面团，然后加入番茄酱，放上你喜欢的配料，最后撒上奶酪，放入预热至200度的烤箱中烤约15分钟即可。\", meta=['source', 'tag', 'id']),\n",
                            " Document(text=\"**Question:**<br>有没有简单的方法在家做比萨？<br><br>**Answer:**<br>可以买现成的比萨饼底，加上自己喜欢的食材，放入烤箱烤制即可。\", meta=['source', 'tag', 'id']),\n",
                            " Document(text=\"**Question:**<br>自己动手做比萨需要注意哪些步骤？<br><br>**Answer:**<br>注意面团发酵时间，酱料的选择，配料的新鲜程度以及烘烤温度和时间。\", meta=['source', 'tag', 'id']),\n",
                            " Document(text=\"**Question:**<br>在家中怎样才能做出餐厅级别的比萨？<br><br>**Answer:**<br>选用高质量的原材料，掌握正确的烘焙技巧，尝试不同的配料组合。\", meta=['source', 'tag', 'id']),\n",
                            " Document(text=\"**Question:**<br>想在家里给家人做一顿特别的晚餐，有什么推荐？<br><br>**Answer:**<br>自制比萨是个不错的选择，可以根据家人的口味定制各种风味。\", meta=['source', 'tag', 'id']),\n",
                            " Document(text=\"**Question:**<br>如何训练一只小狗成为导盲犬？<br><br>**Answer:**<br>从小狗三个月大时开始基础训练，之后进行专业技能训练，通过测试后与视障者配合训练。\", meta=['source', 'tag', 'id']),\n",
                            " Document(text=\"**Question:**<br>怎样才能提高自己的编程能力？<br><br>**Answer:**<br>多练习，参与开源项目，阅读优秀的代码，不断学习新的技术和框架。\", meta=['source', 'tag', 'id']),\n",
                            " Document(text=\"**Question:**<br>为什么我的盆栽植物总是长不好？<br><br>**Answer:**<br>可能是浇水过多或过少，光照不足，或者土壤不适合植物生长，需要调整养护方法。\", meta=['source', 'tag', 'id']),\n",
                            " Document(text=\"**Question:**<br>如何挑选一双适合跑步的运动鞋？<br><br>**Answer:**<br>要选择适合自己脚型的鞋子，注意鞋子的缓震性和透气性，最好在下午试穿以确保大小合适。\", meta=['source', 'tag', 'id']),\n",
                            " Document(text=\"**Question:**<br>怎样才能有效地减肥？<br><br>**Answer:**<br>制定合理的饮食计划，增加日常活动量，保证充足的睡眠，必要时可以寻求专业人士的帮助。<br><br>@meta\", meta=['source', 'tag', 'id'])]"
                        ]
                    },
                    "execution_count": 2,
                    "metadata": {},
                    "output_type": "execute_result"
                }
            ],
            "source": [
                "from illufly.types import MarkMeta\n",
                "\n",
                "mm = MarkMeta()\n",
                "mm.parse_text(md1, source=\"001.md\")"
            ]
        },
        {
            "cell_type": "markdown",
            "id": "de20e41e-1943-4be6-998b-12bde7db287c",
            "metadata": {},
            "source": [
                "### 按照 Meta 标记分割文档"
            ]
        },
        {
            "cell_type": "code",
            "execution_count": 3,
            "id": "bad08c92-dbf3-48b5-9097-a2be7c4c4a25",
            "metadata": {},
            "outputs": [
                {
                    "name": "stdout",
                    "output_type": "stream",
                    "text": [
                        "hello {'raw_meta': '', 'id': '20241208-18678-0010-7428'}\n",
                        "illufly {'raw_meta': '', 'id': '20241208-18678-0011-3786'}\n"
                    ]
                }
            ],
            "source": [
                "from illufly.types import MarkMeta\n",
                "\n",
                "mm = MarkMeta()\n",
                "docs = mm.parse_text(\n",
                "    \"\\n\".join([\n",
                "        'hello',\n",
                "        '<!-- @meta -->',\n",
                "        'illufly'\n",
                "]))\n",
                "for d in docs:\n",
                "    print(d.text, d.meta)"
            ]
        },
        {
            "cell_type": "markdown",
            "id": "cbadffc0-6d4e-4daa-9d09-5106ff2935f1",
            "metadata": {},
            "source": [
                "### 提供 Meta 元数据"
            ]
        },
        {
            "cell_type": "code",
            "execution_count": 5,
            "id": "f6ddcc2d-6dad-4681-a339-278b6e052070",
            "metadata": {},
            "outputs": [
                {
                    "name": "stdout",
                    "output_type": "stream",
                    "text": [
                        "hello {'raw_meta': '', 'id': '20241208-18678-0010-7428'}\n",
                        "illufly {'raw_meta': '', 'id': '20241208-18678-0011-3786'}\n"
                    ]
                }
            ],
            "source": [
                "import os\n",
                "os.environ['ILLUFLY_DOCS'] = 'docs'\n",
                "\n",
                "from illufly.types import MarkMeta\n",
                "\n",
                "mm = MarkMeta()\n",
                "mm.parse_text(\n",
                "    \"\\n\".join([\n",
                "        '<!-- @meta {\"id\": \"1\", \"source\": \"1.md\"} -->',\n",
                "        'hello',\n",
                "        '<!-- @meta {\"id\": \"2\", \"source\": \"2.md\"} -->',\n",
                "        'illufly'\n",
                "    ])\n",
                ")\n",
                "for d in docs:\n",
                "    print(d.text, d.meta)"
            ]
        },
        {
            "cell_type": "markdown",
            "id": "ae5771dd-a448-4e69-8c04-dad8a1770287",
            "metadata": {},
            "source": [
                "## 从 MarkMeta 文件中导入知识到 BaseKnowledgeDB"
            ]
        },
        {
            "cell_type": "code",
            "execution_count": 8,
            "id": "33dc7ecc-0b3b-46fd-8186-cc33bc15759b",
            "metadata": {},
            "outputs": [
                {
                    "data": {
                        "text/plain": [
                            "['20241208-87871-0011-7368',\n",
                            " '20241208-87871-0007-0778',\n",
                            " '20241208-87871-0010-1938',\n",
                            " '20241208-87871-0002-3187',\n",
                            " '20241208-87871-0003-7697',\n",
                            " '20241208-87871-0008-8872',\n",
                            " '20241208-87871-0009-6989',\n",
                            " '20241208-87871-0004-2240',\n",
                            " '20241208-87871-0006-4943',\n",
                            " '20241208-87871-0005-8078']"
                        ]
                    },
                    "execution_count": 8,
                    "metadata": {},
                    "output_type": "execute_result"
                }
            ],
            "source": [
                "kg.import_files(\"__mydocs__\")"
            ]
        },
        {
            "cell_type": "code",
            "execution_count": 9,
            "id": "4e0e4327-9141-44eb-9cf9-ce96c089cdf6",
            "metadata": {},
            "outputs": [
                {
                    "data": {
                        "text/plain": [
                            "{'个人资料': {'20241208-87871-0000-3914'},\n",
                            " '故事': {'20241208-87871-0001-6395'},\n",
                            " '三国': {'20241208-87871-0001-6395'},\n",
                            " 'imported_files': {'20241208-87871-0002-3187',\n",
                            "  '20241208-87871-0003-7697',\n",
                            "  '20241208-87871-0004-2240',\n",
                            "  '20241208-87871-0005-8078',\n",
                            "  '20241208-87871-0006-4943',\n",
                            "  '20241208-87871-0007-0778',\n",
                            "  '20241208-87871-0008-8872',\n",
                            "  '20241208-87871-0009-6989',\n",
                            "  '20241208-87871-0010-1938',\n",
                            "  '20241208-87871-0011-7368'}}"
                        ]
                    },
                    "execution_count": 9,
                    "metadata": {},
                    "output_type": "execute_result"
                }
            ],
            "source": [
                "kg.tag_index"
            ]
        },
        {
            "cell_type": "code",
            "execution_count": 10,
            "id": "fbcb1359-f4f8-47e1-a73b-aa9b1fb8a0df",
            "metadata": {},
            "outputs": [
                {
                    "data": {
                        "text/plain": [
                            "['个人资料', '故事', '三国', 'imported_files']"
                        ]
                    },
                    "execution_count": 10,
                    "metadata": {},
                    "output_type": "execute_result"
                }
            ],
            "source": [
                "kg.tags"
            ]
        },
        {
            "cell_type": "markdown",
            "id": "5e05b3de-7242-4dbd-83c1-4f41235ef7d8",
            "metadata": {},
            "source": [
                "## 在本地文件中管理知识"
            ]
        },
        {
            "cell_type": "markdown",
            "id": "73fee0c0-a97d-4bb9-adea-fa957f668f8a",
            "metadata": {},
            "source": [
                "### 创建"
            ]
        },
        {
            "cell_type": "code",
            "execution_count": 11,
            "id": "8a71da1f-34d3-4d21-9926-bf00ae4854d0",
            "metadata": {},
            "outputs": [],
            "source": [
                "from illufly.io import LocalFileKnowledgeDB\n",
                "\n",
                "kg = LocalFileKnowledgeDB()"
            ]
        },
        {
            "cell_type": "code",
            "execution_count": 12,
            "id": "c9cee606-443c-4304-a790-c5cc466f4395",
            "metadata": {},
            "outputs": [
                {
                    "data": {
                        "text/plain": [
                            "False"
                        ]
                    },
                    "execution_count": 12,
                    "metadata": {},
                    "output_type": "execute_result"
                }
            ],
            "source": [
                "kg.add(\"我是诸葛浪\", tags=[\"个人资料\"])\n",
                "kg.add(\"草船借箭\", tags=[\"故事\", \"三国\"])\n",
                "kg.update(\"草船借箭\", tags=[\"故事\", \"三国\"])"
            ]
        },
        {
            "cell_type": "markdown",
            "id": "ef0112c5-f709-4047-b509-b1a7f2edb9bd",
            "metadata": {},
            "source": [
                "### 从文件导入到 LocalFileKnowledgeDB"
            ]
        },
        {
            "cell_type": "code",
            "execution_count": 13,
            "id": "c7f97905-6a43-4d72-ab44-badf5d6477b7",
            "metadata": {},
            "outputs": [
                {
                    "data": {
                        "text/plain": [
                            "['20241208-87871-0021-7753',\n",
                            " '20241208-87871-0020-7723',\n",
                            " '20241208-87871-0017-0198',\n",
                            " '20241208-87871-0014-8387',\n",
                            " '20241208-87871-0016-3996',\n",
                            " '20241208-87871-0012-2621',\n",
                            " '20241208-87871-0015-1119',\n",
                            " '20241208-87871-0018-6310',\n",
                            " '20241208-87871-0013-3688',\n",
                            " '20241208-87871-0019-0646']"
                        ]
                    },
                    "execution_count": 13,
                    "metadata": {},
                    "output_type": "execute_result"
                }
            ],
            "source": [
                "kg.import_files(\"__mydocs__\")"
            ]
        },
        {
            "cell_type": "markdown",
            "id": "bb5b8a22-ae00-466a-9172-d5699b7e3e14",
            "metadata": {},
            "source": [
                "### 查询"
            ]
        },
        {
            "cell_type": "code",
            "execution_count": 14,
            "id": "9899665b-3088-4443-964f-0a3d345308f6",
            "metadata": {},
            "outputs": [],
            "source": [
                "kg.get('20241207-70418-0003-8926')"
            ]
        },
        {
            "cell_type": "code",
            "execution_count": 15,
            "id": "25304aae-ac82-4080-9985-07553dca4601",
            "metadata": {
                "scrolled": true
            },
            "outputs": [
                {
                    "data": {
                        "text/plain": [
                            "[Document(text=\"我是诸葛浪\", meta=['tags', 'summary', 'source', 'id']),\n",
                            " Document(text=\"**Question:**<br>如何训练一只小狗成为导盲犬？<br><br>**Answer:**<br>从小狗三个月大时开始基础训练，之后进行专业技能训练，通过测试后与视障者配合训练。\", meta=['tags', 'summary', 'source', 'id']),\n",
                            " Document(text=\"**Question:**<br>想在家里给家人做一顿特别的晚餐，有什么推荐？<br><br>**Answer:**<br>自制比萨是个不错的选择，可以根据家人的口味定制各种风味。\", meta=['tags', 'summary', 'source', 'id']),\n",
                            " Document(text=\"**Question:**<br>在家中怎样才能做出餐厅级别的比萨？<br><br>**Answer:**<br>选用高质量的原材料，掌握正确的烘焙技巧，尝试不同的配料组合。\", meta=['tags', 'summary', 'source', 'id']),\n",
                            " Document(text=\"**Question:**<br>如何在家里制作美味的比萨？<br><br>**Answer:**<br>首先准备面团，然后加入番茄酱，放上你喜欢的配料，最后撒上奶酪，放入预热至200度的烤箱中烤约15分钟即可。\", meta=['tags', 'summary', 'source', 'id']),\n",
                            " Document(text=\"**Question:**<br>怎样才能有效地减肥？<br><br>**Answer:**<br>制定合理的饮食计划，增加日常活动量，保证充足的睡眠，必要时可以寻求专业人士的帮助。<br><br>@meta\", meta=['tags', 'summary', 'source', 'id']),\n",
                            " Document(text=\"**Question:**<br>为什么我的盆栽植物总是长不好？<br><br>**Answer:**<br>可能是浇水过多或过少，光照不足，或者土壤不适合植物生长，需要调整养护方法。\", meta=['tags', 'summary', 'source', 'id']),\n",
                            " Document(text=\"**Question:**<br>自己动手做比萨需要注意哪些步骤？<br><br>**Answer:**<br>注意面团发酵时间，酱料的选择，配料的新鲜程度以及烘烤温度和时间。\", meta=['tags', 'summary', 'source', 'id']),\n",
                            " Document(text=\"**Question:**<br>如何挑选一双适合跑步的运动鞋？<br><br>**Answer:**<br>要选择适合自己脚型的鞋子，注意鞋子的缓震性和透气性，最好在下午试穿以确保大小合适。\", meta=['tags', 'summary', 'source', 'id']),\n",
                            " Document(text=\"**Question:**<br>有没有简单的方法在家做比萨？<br><br>**Answer:**<br>可以买现成的比萨饼底，加上自己喜欢的食材，放入烤箱烤制即可。\", meta=['tags', 'summary', 'source', 'id']),\n",
                            " Document(text=\"**Question:**<br>怎样才能提高自己的编程能力？<br><br>**Answer:**<br>多练习，参与开源项目，阅读优秀的代码，不断学习新的技术和框架。\", meta=['tags', 'summary', 'source', 'id']),\n",
                            " Document(text=\"草船借箭\", meta=['tags', 'summary', 'source', 'id']),\n",
                            " Document(text=\"**Question:**<br>如何在家里制作美味的比萨？<br><br>**Answer:**<br>首先准备面团，然后加入番茄酱，放上你喜欢的配料，最后撒上奶酪，放入预热至200度的烤箱中烤约15分钟即可。\", meta=['source', 'raw_meta', 'id', 'tags', 'summary']),\n",
                            " Document(text=\"**Question:**<br>有没有简单的方法在家做比萨？<br><br>**Answer:**<br>可以买现成的比萨饼底，加上自己喜欢的食材，放入烤箱烤制即可。\", meta=['source', 'raw_meta', 'id', 'tags', 'summary']),\n",
                            " Document(text=\"**Question:**<br>自己动手做比萨需要注意哪些步骤？<br><br>**Answer:**<br>注意面团发酵时间，酱料的选择，配料的新鲜程度以及烘烤温度和时间。\", meta=['source', 'raw_meta', 'id', 'tags', 'summary']),\n",
                            " Document(text=\"**Question:**<br>在家中怎样才能做出餐厅级别的比萨？<br><br>**Answer:**<br>选用高质量的原材料，掌握正确的烘焙技巧，尝试不同的配料组合。\", meta=['source', 'raw_meta', 'id', 'tags', 'summary']),\n",
                            " Document(text=\"**Question:**<br>想在家里给家人做一顿特别的晚餐，有什么推荐？<br><br>**Answer:**<br>自制比萨是个不错的选择，可以根据家人的口味定制各种风味。\", meta=['source', 'raw_meta', 'id', 'tags', 'summary']),\n",
                            " Document(text=\"**Question:**<br>如何训练一只小狗成为导盲犬？<br><br>**Answer:**<br>从小狗三个月大时开始基础训练，之后进行专业技能训练，通过测试后与视障者配合训练。\", meta=['source', 'raw_meta', 'id', 'tags', 'summary']),\n",
                            " Document(text=\"**Question:**<br>怎样才能提高自己的编程能力？<br><br>**Answer:**<br>多练习，参与开源项目，阅读优秀的代码，不断学习新的技术和框架。\", meta=['source', 'raw_meta', 'id', 'tags', 'summary']),\n",
                            " Document(text=\"**Question:**<br>为什么我的盆栽植物总是长不好？<br><br>**Answer:**<br>可能是浇水过多或过少，光照不足，或者土壤不适合植物生长，需要调整养护方法。\", meta=['source', 'raw_meta', 'id', 'tags', 'summary']),\n",
                            " Document(text=\"**Question:**<br>如何挑选一双适合跑步的运动鞋？<br><br>**Answer:**<br>要选择适合自己脚型的鞋子，注意鞋子的缓震性和透气性，最好在下午试穿以确保大小合适。\", meta=['source', 'raw_meta', 'id', 'tags', 'summary']),\n",
                            " Document(text=\"**Question:**<br>怎样才能有效地减肥？<br><br>**Answer:**<br>制定合理的饮食计划，增加日常活动量，保证充足的睡眠，必要时可以寻求专业人士的帮助。<br><br>@meta\", meta=['source', 'raw_meta', 'id', 'tags', 'summary'])]"
                        ]
                    },
                    "execution_count": 15,
                    "metadata": {},
                    "output_type": "execute_result"
                }
            ],
            "source": [
                "kg.all()"
            ]
        },
        {
            "cell_type": "code",
            "execution_count": 16,
            "id": "bf9a5490-dc11-417e-a4b8-f3fddeacaa98",
            "metadata": {},
            "outputs": [
                {
                    "data": {
                        "text/plain": [
                            "['20241207-85719-0014-1485',\n",
                            " '20241207-85719-0013-4634',\n",
                            " '20241207-85719-0017-0164',\n",
                            " '20241207-85719-0016-6886',\n",
                            " '20241207-85719-0020-4674',\n",
                            " '20241207-85719-0019-9233',\n",
                            " '20241207-85719-0018-9913',\n",
                            " '20241207-85719-0015-9907',\n",
                            " '20241207-85719-0012-0832',\n",
                            " '20241207-85719-0021-5607']"
                        ]
                    },
                    "execution_count": 16,
                    "metadata": {},
                    "output_type": "execute_result"
                }
            ],
            "source": [
                "kg.find_by_tags([\"import_files\"])"
            ]
        },
        {
            "cell_type": "code",
            "execution_count": 17,
            "id": "7b0a6a98-b774-4610-bc14-66bec155b065",
            "metadata": {},
            "outputs": [
                {
                    "data": {
                        "text/plain": [
                            "['个人资料', '故事', '三国', 'import_files', 'imported_files']"
                        ]
                    },
                    "execution_count": 17,
                    "metadata": {},
                    "output_type": "execute_result"
                }
            ],
            "source": [
                "kg.tags"
            ]
        },
        {
            "cell_type": "code",
            "execution_count": 18,
            "id": "f2c3ca59-ce03-4c5a-ba96-02213c5ab473",
            "metadata": {},
            "outputs": [
                {
                    "name": "stdout",
                    "output_type": "stream",
                    "text": [
                        "\u001b[1m\u001b[36mimport_files\u001b[m\u001b[m   \u001b[1m\u001b[36mimported_files\u001b[m\u001b[m tag_index.json \u001b[1m\u001b[36m故事\u001b[m\u001b[m           \u001b[1m\u001b[36m个人资料\u001b[m\u001b[m\n"
                    ]
                }
            ],
            "source": [
                "!ls /var/folders/f5/rlf27f4n6wzc_k4x7y4vzm5h0000gn/T/__ILLUFLY__/CHART_LEARN"
            ]
        },
        {
            "cell_type": "code",
            "execution_count": 19,
            "id": "86fd4408-df43-409f-88f1-9382d434a0ee",
            "metadata": {},
            "outputs": [
                {
                    "data": {
                        "text/plain": [
                            "{'total': 22,\n",
                            " 'total_pages': 3,\n",
                            " 'current_page': 1,\n",
                            " 'items': [{'id': '20241207-72867-0000-4616',\n",
                            "   'summary': '我是诸葛浪',\n",
                            "   'tags': ['个人资料'],\n",
                            "   'source': None},\n",
                            "  {'id': '20241207-72867-0001-4094',\n",
                            "   'summary': '草船借箭',\n",
                            "   'tags': ['故事', '三国'],\n",
                            "   'source': None},\n",
                            "  {'id': '20241207-85719-0012-0832',\n",
                            "   'summary': '**Question:**\\n如何在家里制作美味的比萨？\\n\\n**Answer:**\\n首先准备面团，然后加入番茄酱，放上你喜欢的配料，最后撒上奶酪，放入预热至200度的烤箱中烤约15分钟即可。...',\n",
                            "   'tags': ['import_files'],\n",
                            "   'source': '__mydocs__/创意/001.md'},\n",
                            "  {'id': '20241207-85719-0013-4634',\n",
                            "   'summary': '**Question:**\\n有没有简单的方法在家做比萨？\\n\\n**Answer:**\\n可以买现成的比萨饼底，加上自己喜欢的食材，放入烤箱烤制即可。...',\n",
                            "   'tags': ['import_files'],\n",
                            "   'source': '__mydocs__/创意/001.md'},\n",
                            "  {'id': '20241207-85719-0014-1485',\n",
                            "   'summary': '**Question:**\\n自己动手做比萨需要注意哪些步骤？\\n\\n**Answer:**\\n注意面团发酵时间，酱料的选择，配料的新鲜程度以及烘烤温度和时间。...',\n",
                            "   'tags': ['import_files'],\n",
                            "   'source': '__mydocs__/创意/001.md'},\n",
                            "  {'id': '20241207-85719-0015-9907',\n",
                            "   'summary': '**Question:**\\n在家中怎样才能做出餐厅级别的比萨？\\n\\n**Answer:**\\n选用高质量的原材料，掌握正确的烘焙技巧，尝试不同的配料组合。...',\n",
                            "   'tags': ['import_files'],\n",
                            "   'source': '__mydocs__/创意/001.md'},\n",
                            "  {'id': '20241207-85719-0016-6886',\n",
                            "   'summary': '**Question:**\\n想在家里给家人做一顿特别的晚餐，有什么推荐？\\n\\n**Answer:**\\n自制比萨是个不错的选择，可以根据家人的口味定制各种风味。...',\n",
                            "   'tags': ['import_files'],\n",
                            "   'source': '__mydocs__/创意/001.md'},\n",
                            "  {'id': '20241207-85719-0017-0164',\n",
                            "   'summary': '**Question:**\\n如何训练一只小狗成为导盲犬？\\n\\n**Answer:**\\n从小狗三个月大时开始基础训练，之后进行专业技能训练，通过测试后与视障者配合训练。...',\n",
                            "   'tags': ['import_files'],\n",
                            "   'source': '__mydocs__/创意/001.md'},\n",
                            "  {'id': '20241207-85719-0018-9913',\n",
                            "   'summary': '**Question:**\\n怎样才能提高自己的编程能力？\\n\\n**Answer:**\\n多练习，参与开源项目，阅读优秀的代码，不断学习新的技术和框架。...',\n",
                            "   'tags': ['import_files'],\n",
                            "   'source': '__mydocs__/创意/001.md'},\n",
                            "  {'id': '20241207-85719-0019-9233',\n",
                            "   'summary': '**Question:**\\n为什么我的盆栽植物总是长不好？\\n\\n**Answer:**\\n可能是浇水过多或过少，光照不足，或者土壤不适合植物生长，需要调整养护方法。...',\n",
                            "   'tags': ['import_files'],\n",
                            "   'source': '__mydocs__/创意/001.md'}],\n",
                            " 'filters': {'tags': [], 'match_all_tags': True}}"
                        ]
                    },
                    "execution_count": 19,
                    "metadata": {},
                    "output_type": "execute_result"
                }
            ],
            "source": [
                "kg.get_meta_list()"
            ]
        },
        {
            "cell_type": "code",
            "execution_count": null,
            "id": "ef3c1479-1cc4-4fbf-8135-65fcf53b63b3",
            "metadata": {},
            "outputs": [],
            "source": []
        }
    ],
    "metadata": {
        "kernelspec": {
            "display_name": "same_to_illufly",
            "language": "python",
            "name": "same_to_illufly"
        },
        "language_info": {
            "codemirror_mode": {
                "name": "ipython",
                "version": 3
            },
            "file_extension": ".py",
            "mimetype": "text/x-python",
            "name": "python",
            "nbconvert_exporter": "python",
            "pygments_lexer": "ipython3",
            "version": "3.10.0"
        }
    },
    "nbformat": 4,
    "nbformat_minor": 5
}