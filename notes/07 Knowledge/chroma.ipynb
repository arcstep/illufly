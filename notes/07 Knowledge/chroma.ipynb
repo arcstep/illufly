{
 "cells": [
  {
   "cell_type": "markdown",
   "id": "b18afce6-0f88-4ce9-b9ca-09c1ee73ae66",
   "metadata": {},
   "source": [
    "### 从 VectorDB 添加本地文件"
   ]
  },
  {
   "cell_type": "code",
   "execution_count": null,
   "id": "1f43dd95-e733-4c21-b6de-cb60376b5401",
   "metadata": {
    "scrolled": true
   },
   "outputs": [],
   "source": [
    "%pip install chromadb"
   ]
  },
  {
   "cell_type": "code",
   "execution_count": 1,
   "id": "d73d283d-f0fc-4678-999b-268198e8c04e",
   "metadata": {},
   "outputs": [
    {
     "data": {
      "text/plain": [
       "[Document(text=\"**Question:**<br>如何在家里制作美味的比萨？<br><br>**Answer:**<br>首先准备面团，然后加入番茄酱，放上你喜欢的配料，最后撒上奶酪，放入预热至200度的烤箱中烤约15分钟即可。\", meta=['id', 'distance', 'score', 'raw_meta', 'source', 'summary', 'tags']),\n",
       " Document(text=\"**Question:**<br>自己动手做比萨需要注意哪些步骤？<br><br>**Answer:**<br>注意面团发酵时间，酱料的选择，配料的新鲜程度以及烘烤温度和时间。\", meta=['id', 'distance', 'score', 'raw_meta', 'source', 'summary', 'tags'])]"
      ]
     },
     "execution_count": 1,
     "metadata": {},
     "output_type": "execute_result"
    }
   ],
   "source": [
    "from illufly.rag import ChromaDB, TextEmbeddings\n",
    "\n",
    "# 文档嵌入\n",
    "db = ChromaDB(persist_directory=\"./__chroma__\", embeddings=TextEmbeddings())\n",
    "\n",
    "# 从目录加载\n",
    "db.knowledge.import_files(\"__DOCS__\")\n",
    "db.rebuild_index()\n",
    "# 查询\n",
    "db(\"披萨要烤几分钟？\", top_k=2)"
   ]
  },
  {
   "cell_type": "code",
   "execution_count": 2,
   "id": "2cda8d3a-869f-43ea-be97-d6fef155d309",
   "metadata": {},
   "outputs": [
    {
     "data": {
      "text/plain": [
       "[Document(text=\"# illufly 设计理念介绍<br><br>- [开箱即用的原则](#开箱即用的原则)<br>- [减少新概念的原则](#减少新概念的原则)<br>- [原厂优先的原则](#原厂优先的原则)<br>- [围绕智能体对象的原则]...\", meta=['id', 'distance', 'score', 'raw_meta', 'source', 'summary', 'tags']),\n",
       " Document(text=\"类似的事情会在很多地方发生。<br><br>你的初衷是，通过这些新类的定义来简化工作，但是现在不得不记住很多新东西。<br><br>### illufly 中的解决方案<br><br>```python<br>[<br>    {<br>        ...\", meta=['id', 'distance', 'score', 'raw_meta', 'source', 'summary', 'tags']),\n",
       " Document(text=\"# 常见的智能体推理模式和 illufly 的实现<br><br>## 常见推理模式<br><br>ReAct模式是最早出现的Agent设计模式，目前也是应用最广泛的。从ReAct出发，有两条发展路线：一条更偏重Agent的...\", meta=['id', 'distance', 'score', 'raw_meta', 'source', 'summary', 'tags']),\n",
       " Document(text=\"# 常见的智能体推理模式和 illufly 的实现<br><br>## 常见推理模式<br><br>ReAct模式是最早出现的Agent设计模式，目前也是应用最广泛的。从ReAct出发，有两条发展路线：一条更偏重Agent的...\", meta=['id', 'distance', 'score', 'raw_meta', 'source', 'summary', 'tags']),\n",
       " Document(text=\"- 重规划器Replanner：根据执行情况和反馈调整计划。<br><br>Plan-and-Execute的优点是具备明确的长期规划，降低执行成本。局限性在于任务按顺序执行，可能导致总执行时间增加。改进办法是将...\", meta=['id', 'distance', 'score', 'raw_meta', 'source', 'summary', 'tags'])]"
      ]
     },
     "execution_count": 2,
     "metadata": {},
     "output_type": "execute_result"
    }
   ],
   "source": [
    "db(\"illufly是什么？\")"
   ]
  },
  {
   "cell_type": "code",
   "execution_count": null,
   "id": "ab8c4cbc-dbed-411a-8583-23465f3851c4",
   "metadata": {},
   "outputs": [],
   "source": []
  }
 ],
 "metadata": {
  "kernelspec": {
   "display_name": "same_to_illufly",
   "language": "python",
   "name": "same_to_illufly"
  },
  "language_info": {
   "codemirror_mode": {
    "name": "ipython",
    "version": 3
   },
   "file_extension": ".py",
   "mimetype": "text/x-python",
   "name": "python",
   "nbconvert_exporter": "python",
   "pygments_lexer": "ipython3",
   "version": "3.10.0"
  }
 },
 "nbformat": 4,
 "nbformat_minor": 5
}
