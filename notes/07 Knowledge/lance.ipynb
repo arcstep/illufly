{
 "cells": [
  {
   "cell_type": "markdown",
   "id": "b18afce6-0f88-4ce9-b9ca-09c1ee73ae66",
   "metadata": {},
   "source": [
    "### 从 VectorDB 添加本地文件"
   ]
  },
  {
   "cell_type": "code",
   "execution_count": null,
   "id": "1f43dd95-e733-4c21-b6de-cb60376b5401",
   "metadata": {
    "scrolled": true
   },
   "outputs": [],
   "source": [
    "%pip install lancedb pyarrow"
   ]
  },
  {
   "cell_type": "code",
   "execution_count": 1,
   "id": "d73d283d-f0fc-4678-999b-268198e8c04e",
   "metadata": {},
   "outputs": [
    {
     "name": "stderr",
     "output_type": "stream",
     "text": [
      "/Users/xuehongwei/Library/Caches/pypoetry/virtualenvs/illufly-S5GgtCoU-py3.10/lib/python3.10/site-packages/tqdm/auto.py:21: TqdmWarning: IProgress not found. Please update jupyter and ipywidgets. See https://ipywidgets.readthedocs.io/en/stable/user_install.html\n",
      "  from .autonotebook import tqdm as notebook_tqdm\n"
     ]
    },
    {
     "ename": "AttributeError",
     "evalue": "'LanceDB' object has no attribute 'table_name'",
     "output_type": "error",
     "traceback": [
      "\u001b[0;31m---------------------------------------------------------------------------\u001b[0m",
      "\u001b[0;31mAttributeError\u001b[0m                            Traceback (most recent call last)",
      "Cell \u001b[0;32mIn[1], line 4\u001b[0m\n\u001b[1;32m      1\u001b[0m \u001b[38;5;28;01mfrom\u001b[39;00m \u001b[38;5;21;01millufly\u001b[39;00m\u001b[38;5;21;01m.\u001b[39;00m\u001b[38;5;21;01mrag\u001b[39;00m \u001b[38;5;28;01mimport\u001b[39;00m LanceDB, TextEmbeddings\n\u001b[1;32m      3\u001b[0m \u001b[38;5;66;03m# 文档嵌入\u001b[39;00m\n\u001b[0;32m----> 4\u001b[0m db \u001b[38;5;241m=\u001b[39m \u001b[43mLanceDB\u001b[49m\u001b[43m(\u001b[49m\n\u001b[1;32m      5\u001b[0m \u001b[43m    \u001b[49m\u001b[43membeddings\u001b[49m\u001b[38;5;241;43m=\u001b[39;49m\u001b[43mTextEmbeddings\u001b[49m\u001b[43m(\u001b[49m\u001b[43m)\u001b[49m\u001b[43m,\u001b[49m\n\u001b[1;32m      6\u001b[0m \u001b[43m    \u001b[49m\u001b[43muri\u001b[49m\u001b[38;5;241;43m=\u001b[39;49m\u001b[38;5;124;43m\"\u001b[39;49m\u001b[38;5;124;43m./lance_data\u001b[39;49m\u001b[38;5;124;43m\"\u001b[39;49m\u001b[43m,\u001b[49m\u001b[43m           \u001b[49m\u001b[38;5;66;43;03m# 数据存储路径\u001b[39;49;00m\n\u001b[1;32m      7\u001b[0m \u001b[43m    \u001b[49m\u001b[43mtable_name\u001b[49m\u001b[38;5;241;43m=\u001b[39;49m\u001b[38;5;124;43m\"\u001b[39;49m\u001b[38;5;124;43mmy_docs\u001b[39;49m\u001b[38;5;124;43m\"\u001b[39;49m\u001b[43m,\u001b[49m\u001b[43m         \u001b[49m\u001b[38;5;66;43;03m# 表名\u001b[39;49;00m\n\u001b[1;32m      8\u001b[0m \u001b[43m    \u001b[49m\u001b[43mdistance_metric\u001b[49m\u001b[38;5;241;43m=\u001b[39;49m\u001b[38;5;124;43m\"\u001b[39;49m\u001b[38;5;124;43mcosine\u001b[39;49m\u001b[38;5;124;43m\"\u001b[39;49m\u001b[43m      \u001b[49m\u001b[38;5;66;43;03m# 距离计算方式\u001b[39;49;00m\n\u001b[1;32m      9\u001b[0m \u001b[43m)\u001b[49m\n\u001b[1;32m     11\u001b[0m \u001b[38;5;66;03m# 从目录加载\u001b[39;00m\n\u001b[1;32m     12\u001b[0m db\u001b[38;5;241m.\u001b[39mknowledge\u001b[38;5;241m.\u001b[39mimport_files(\u001b[38;5;124m\"\u001b[39m\u001b[38;5;124m__DOCS__\u001b[39m\u001b[38;5;124m\"\u001b[39m)\n",
      "File \u001b[0;32m~/codeup/illufly/illufly/community/lance/lance_db.py:101\u001b[0m, in \u001b[0;36mLanceDB.__init__\u001b[0;34m(self, uri, table_name, distance_metric, num_partitions, num_sub_vectors, accelerator, index_cache_size, **kwargs)\u001b[0m\n\u001b[1;32m     95\u001b[0m     \u001b[38;5;28;01mraise\u001b[39;00m \u001b[38;5;167;01mImportError\u001b[39;00m(\n\u001b[1;32m     96\u001b[0m         \u001b[38;5;124m\"\u001b[39m\u001b[38;5;124m未找到lancedb包。请通过以下命令安装：\u001b[39m\u001b[38;5;130;01m\\n\u001b[39;00m\u001b[38;5;124m\"\u001b[39m\n\u001b[1;32m     97\u001b[0m         \u001b[38;5;124m\"\u001b[39m\u001b[38;5;124mpip install lancedb pyarrow\u001b[39m\u001b[38;5;124m\"\u001b[39m\n\u001b[1;32m     98\u001b[0m     )\n\u001b[1;32m    100\u001b[0m \u001b[38;5;66;03m# 3. 调用父类初始化，获取embeddings和dim\u001b[39;00m\n\u001b[0;32m--> 101\u001b[0m \u001b[38;5;28;43msuper\u001b[39;49m\u001b[43m(\u001b[49m\u001b[43m)\u001b[49m\u001b[38;5;241;43m.\u001b[39;49m\u001b[38;5;21;43m__init__\u001b[39;49m\u001b[43m(\u001b[49m\u001b[38;5;241;43m*\u001b[39;49m\u001b[38;5;241;43m*\u001b[39;49m\u001b[43mkwargs\u001b[49m\u001b[43m)\u001b[49m\n\u001b[1;32m    103\u001b[0m \u001b[38;5;66;03m# 4. 设置基本属性\u001b[39;00m\n\u001b[1;32m    104\u001b[0m \u001b[38;5;28mself\u001b[39m\u001b[38;5;241m.\u001b[39muri \u001b[38;5;241m=\u001b[39m uri\n",
      "File \u001b[0;32m~/codeup/illufly/illufly/core/runnable/vectordb/base.py:77\u001b[0m, in \u001b[0;36mVectorDB.__init__\u001b[0;34m(self, knowledge, embeddings, top_k, **kwargs)\u001b[0m\n\u001b[1;32m     74\u001b[0m \u001b[38;5;28mself\u001b[39m\u001b[38;5;241m.\u001b[39mtop_k \u001b[38;5;241m=\u001b[39m top_k\n\u001b[1;32m     76\u001b[0m \u001b[38;5;66;03m# 初始化向量索引\u001b[39;00m\n\u001b[0;32m---> 77\u001b[0m \u001b[38;5;28;43mself\u001b[39;49m\u001b[38;5;241;43m.\u001b[39;49m\u001b[43m_init_index\u001b[49m\u001b[43m(\u001b[49m\u001b[43m)\u001b[49m\n\u001b[1;32m     78\u001b[0m \u001b[38;5;28mself\u001b[39m\u001b[38;5;241m.\u001b[39mload_all_documents()\n",
      "File \u001b[0;32m~/codeup/illufly/illufly/community/lance/lance_db.py:154\u001b[0m, in \u001b[0;36mLanceDB._init_index\u001b[0;34m(self)\u001b[0m\n\u001b[1;32m    145\u001b[0m schema \u001b[38;5;241m=\u001b[39m pa\u001b[38;5;241m.\u001b[39mschema([\n\u001b[1;32m    146\u001b[0m     (\u001b[38;5;124m'\u001b[39m\u001b[38;5;124mid\u001b[39m\u001b[38;5;124m'\u001b[39m, pa\u001b[38;5;241m.\u001b[39mstring()),\n\u001b[1;32m    147\u001b[0m     (\u001b[38;5;124m'\u001b[39m\u001b[38;5;124mtext\u001b[39m\u001b[38;5;124m'\u001b[39m, pa\u001b[38;5;241m.\u001b[39mstring()),\n\u001b[0;32m   (...)\u001b[0m\n\u001b[1;32m    150\u001b[0m     (\u001b[38;5;124m'\u001b[39m\u001b[38;5;124mmetadata\u001b[39m\u001b[38;5;124m'\u001b[39m, pa\u001b[38;5;241m.\u001b[39mstring()),  \u001b[38;5;66;03m# JSON格式的其他元数据\u001b[39;00m\n\u001b[1;32m    151\u001b[0m ])\n\u001b[1;32m    153\u001b[0m \u001b[38;5;66;03m# 获取或创建表\u001b[39;00m\n\u001b[0;32m--> 154\u001b[0m \u001b[38;5;28;01mif\u001b[39;00m \u001b[38;5;28;43mself\u001b[39;49m\u001b[38;5;241;43m.\u001b[39;49m\u001b[43mtable_name\u001b[49m \u001b[38;5;129;01min\u001b[39;00m \u001b[38;5;28mself\u001b[39m\u001b[38;5;241m.\u001b[39mconnection\u001b[38;5;241m.\u001b[39mtable_names():\n\u001b[1;32m    155\u001b[0m     \u001b[38;5;28mself\u001b[39m\u001b[38;5;241m.\u001b[39mtable \u001b[38;5;241m=\u001b[39m \u001b[38;5;28mself\u001b[39m\u001b[38;5;241m.\u001b[39mconnection\u001b[38;5;241m.\u001b[39mopen_table(\u001b[38;5;28mself\u001b[39m\u001b[38;5;241m.\u001b[39mtable_name)\n\u001b[1;32m    156\u001b[0m \u001b[38;5;28;01melse\u001b[39;00m:\n",
      "\u001b[0;31mAttributeError\u001b[0m: 'LanceDB' object has no attribute 'table_name'"
     ]
    }
   ],
   "source": [
    "from illufly.rag import LanceDB, TextEmbeddings\n",
    "\n",
    "# 文档嵌入\n",
    "db = LanceDB(\n",
    "    embeddings=TextEmbeddings(),\n",
    "    uri=\"./lance_data\",           # 数据存储路径\n",
    "    table_name=\"my_docs\",         # 表名\n",
    "    distance_metric=\"cosine\"      # 距离计算方式\n",
    ")\n",
    "\n",
    "# 从目录加载\n",
    "db.knowledge.import_files(\"__DOCS__\")\n",
    "db.rebuild_index()\n",
    "# 查询\n",
    "db(\"披萨要烤几分钟？\", top_k=2)"
   ]
  },
  {
   "cell_type": "code",
   "execution_count": 4,
   "id": "2cda8d3a-869f-43ea-be97-d6fef155d309",
   "metadata": {},
   "outputs": [
    {
     "data": {
      "text/plain": [
       "[Document(text=\"# illufly 设计理念介绍<br><br>- [开箱即用的原则](#开箱即用的原则)<br>- [减少新概念的原则](#减少新概念的原则)<br>- [原厂优先的原则](#原厂优先的原则)<br>- [围绕智能体对象的原则]...\", meta=['id', 'distance', 'score', 'raw_meta', 'source', 'summary', 'tags']),\n",
       " Document(text=\"类似的事情会在很多地方发生。<br><br>你的初衷是，通过这些新类的定义来简化工作，但是现在不得不记住很多新东西。<br><br>### illufly 中的解决方案<br><br>```python<br>[<br>    {<br>        ...\", meta=['id', 'distance', 'score', 'raw_meta', 'source', 'summary', 'tags']),\n",
       " Document(text=\"# 常见的智能体推理模式和 illufly 的实现<br><br>## 常见推理模式<br><br>ReAct模式是最早出现的Agent设计模式，目前也是应用最广泛的。从ReAct出发，有两条发展路线：一条更偏重Agent的...\", meta=['id', 'distance', 'score', 'raw_meta', 'source', 'summary', 'tags']),\n",
       " Document(text=\"# 常见的智能体推理模式和 illufly 的实现<br><br>## 常见推理模式<br><br>ReAct模式是最早出现的Agent设计模式，目前也是应用最广泛的。从ReAct出发，有两条发展路线：一条更偏重Agent的...\", meta=['id', 'distance', 'score', 'raw_meta', 'source', 'summary', 'tags']),\n",
       " Document(text=\"- 重规划器Replanner：根据执行情况和反馈调整计划。<br><br>Plan-and-Execute的优点是具备明确的长期规划，降低执行成本。局限性在于任务按顺序执行，可能导致总执行时间增加。改进办法是将...\", meta=['id', 'distance', 'score', 'raw_meta', 'source', 'summary', 'tags'])]"
      ]
     },
     "execution_count": 4,
     "metadata": {},
     "output_type": "execute_result"
    }
   ],
   "source": [
    "db(\"illufly是什么？\")"
   ]
  },
  {
   "cell_type": "code",
   "execution_count": null,
   "id": "ab8c4cbc-dbed-411a-8583-23465f3851c4",
   "metadata": {},
   "outputs": [],
   "source": []
  }
 ],
 "metadata": {
  "kernelspec": {
   "display_name": "same_to_illufly",
   "language": "python",
   "name": "same_to_illufly"
  },
  "language_info": {
   "codemirror_mode": {
    "name": "ipython",
    "version": 3
   },
   "file_extension": ".py",
   "mimetype": "text/x-python",
   "name": "python",
   "nbconvert_exporter": "python",
   "pygments_lexer": "ipython3",
   "version": "3.10.0"
  }
 },
 "nbformat": 4,
 "nbformat_minor": 5
}
