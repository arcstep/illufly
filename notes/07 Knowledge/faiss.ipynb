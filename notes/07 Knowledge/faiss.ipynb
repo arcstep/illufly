{
 "cells": [
  {
   "cell_type": "markdown",
   "id": "43eea709-b5dc-45ed-a535-640106d5421b",
   "metadata": {},
   "source": [
    "## 构造 FaissDB"
   ]
  },
  {
   "cell_type": "markdown",
   "id": "14096530-3bc0-4b96-8759-b6d896c41174",
   "metadata": {},
   "source": [
    "### 从 VectorDB 添加文本"
   ]
  },
  {
   "cell_type": "code",
   "execution_count": 2,
   "id": "8948fe10-feed-47d5-86cc-91f9535aba9e",
   "metadata": {},
   "outputs": [
    {
     "name": "stdout",
     "output_type": "stream",
     "text": [
      "[INFO] \u001b[34m查询到2条结果\u001b[0m\n"
     ]
    },
    {
     "data": {
      "text/plain": [
       "[Document(text=\"普鸿是一家做数字消防业务的公司\", meta=['id', 'distance', 'score', 'source', 'raw_meta', 'tags', 'summary']),\n",
       " Document(text=\"幻蝶是一家AI技术公司\", meta=['id', 'distance', 'score', 'source', 'raw_meta', 'tags', 'summary'])]"
      ]
     },
     "execution_count": 2,
     "metadata": {},
     "output_type": "execute_result"
    }
   ],
   "source": [
    "from illufly.rag import FaissDB, TextEmbeddings\n",
    "\n",
    "# 文档嵌入\n",
    "db = FaissDB(embeddings=TextEmbeddings())\n",
    "db.add(\"普鸿是一家做数字消防业务的公司\")\n",
    "db.add(\"幻蝶是一家AI技术公司\")\n",
    "\n",
    "# 查询\n",
    "db(\"普鸿是啥？\", top_k=5, verbose=True)"
   ]
  },
  {
   "cell_type": "code",
   "execution_count": 3,
   "id": "2eeaa39d-6cfe-443c-a6eb-fab1c7d8ca3b",
   "metadata": {},
   "outputs": [
    {
     "data": {
      "text/plain": [
       "{'total': 2,\n",
       " 'total_pages': 1,\n",
       " 'current_page': 1,\n",
       " 'items': [{'id': '20241208-27932-0002-3656',\n",
       "   'summary': '普鸿是一家做数字消防业务的公司',\n",
       "   'tags': [],\n",
       "   'source': ''},\n",
       "  {'id': '20241208-27932-0003-7400',\n",
       "   'summary': '幻蝶是一家AI技术公司',\n",
       "   'tags': [],\n",
       "   'source': ''}],\n",
       " 'filters': {'tags': [], 'match_all_tags': True}}"
      ]
     },
     "execution_count": 3,
     "metadata": {},
     "output_type": "execute_result"
    }
   ],
   "source": [
    "db.knowledge.get_meta_list()"
   ]
  },
  {
   "cell_type": "markdown",
   "id": "23bd49cb-5601-492f-9130-2bec7f56e905",
   "metadata": {},
   "source": [
    "### 从 VectorDB 添加本地文件"
   ]
  },
  {
   "cell_type": "code",
   "execution_count": 8,
   "id": "9c710455-e87d-45f4-81e6-263109820450",
   "metadata": {},
   "outputs": [
    {
     "data": {
      "text/plain": [
       "[Document(text=\"**Question:**<br>如何在家里制作美味的比萨？<br><br>**Answer:**<br>首先准备面团，然后加入番茄酱，放上你喜欢的配料，最后撒上奶酪，放入预热至200度的烤箱中烤约15分钟即可。\", meta=['id', 'distance', 'score', 'source', 'raw_meta', 'tags', 'summary']),\n",
       " Document(text=\"**Question:**<br>自己动手做比萨需要注意哪些步骤？<br><br>**Answer:**<br>注意面团发酵时间，酱料的选择，配料的新鲜程度以及烘烤温度和时间。\", meta=['id', 'distance', 'score', 'source', 'raw_meta', 'tags', 'summary'])]"
      ]
     },
     "execution_count": 8,
     "metadata": {},
     "output_type": "execute_result"
    }
   ],
   "source": [
    "from illufly.rag import FaissDB, TextEmbeddings\n",
    "\n",
    "# 文档嵌入\n",
    "db = FaissDB(embeddings=TextEmbeddings())\n",
    "\n",
    "# 从目录加载\n",
    "db.knowledge.import_files(\"__DOCS__\")\n",
    "db.rebuild_index()\n",
    "# 查询\n",
    "db(\"披萨要烤几分钟？\", top_k=2)"
   ]
  },
  {
   "cell_type": "markdown",
   "id": "199ebab7-c66f-4923-9b13-3368dfb85610",
   "metadata": {},
   "source": [
    "### 使用本地知识库"
   ]
  },
  {
   "cell_type": "code",
   "execution_count": 2,
   "id": "11d55bd6-80d5-4d5b-a4de-b69363b54ae9",
   "metadata": {},
   "outputs": [
    {
     "data": {
      "text/plain": [
       "[Document(text=\"**Question:**<br>如何在家里制作美味的比萨？<br><br>**Answer:**<br>首先准备面团，然后加入番茄酱，放上你喜欢的配料，最后撒上奶酪，放入预热至200度的烤箱中烤约15分钟即可。\", meta=['id', 'distance', 'score', 'source', 'raw_meta', 'tags', 'summary']),\n",
       " Document(text=\"**Question:**<br>自己动手做比萨需要注意哪些步骤？<br><br>**Answer:**<br>注意面团发酵时间，酱料的选择，配料的新鲜程度以及烘烤温度和时间。\", meta=['id', 'distance', 'score', 'source', 'raw_meta', 'tags', 'summary'])]"
      ]
     },
     "execution_count": 2,
     "metadata": {},
     "output_type": "execute_result"
    }
   ],
   "source": [
    "from illufly.rag import FaissDB, TextEmbeddings\n",
    "from illufly.io import LocalFileKnowledge\n",
    "\n",
    "# 文档嵌入\n",
    "db = FaissDB(knowledge=LocalFileKnowledge(\"__KG__\"), embeddings=TextEmbeddings())\n",
    "\n",
    "# 从目录加载\n",
    "db.knowledge.import_files(\"__DOCS__\")\n",
    "db.rebuild_index()\n",
    "# 查询\n",
    "db(\"披萨要烤几分钟？\", top_k=2)"
   ]
  },
  {
   "cell_type": "code",
   "execution_count": 4,
   "id": "d66ef4dc-5579-4036-b4e2-128152228c91",
   "metadata": {},
   "outputs": [
    {
     "data": {
      "text/plain": [
       "PosixPath('__KG__')"
      ]
     },
     "execution_count": 4,
     "metadata": {},
     "output_type": "execute_result"
    }
   ],
   "source": [
    "db.knowledge.directory"
   ]
  },
  {
   "cell_type": "markdown",
   "id": "ea1b5c2f-8cf1-42a0-a22b-707960b7f850",
   "metadata": {},
   "source": [
    "## 相似性比较实验\n",
    "\n",
    "1. 如果文本完全相同，距离就是 (0)\n",
    "2. 如果包含相同文本，混入没有实体的文本，即使很多，距离仍相近 (0.29)\n",
    "3. 如果包含相同文本，混入其他实体后的文本，哪怕很少，距离依然增加 (0.43)\n",
    "4. 如果表达接近，且实体不多，依然距离较近 (0.34)\n",
    "5. 如果表达接近，但混入文本多，实体也多，距离就非常大 (0.94)"
   ]
  },
  {
   "cell_type": "code",
   "execution_count": 11,
   "id": "1a5e5c28-7afb-4485-9bef-c064e9f1cafc",
   "metadata": {},
   "outputs": [
    {
     "name": "stdout",
     "output_type": "stream",
     "text": [
      "[INFO] \u001b[34m查询到10条结果\u001b[0m\n",
      "0.0 >> 普鸿是一家做数字消防业务的公司\n",
      "0.07940569519996643 >> 普鸿是一家做数字消防业务的公司，在广州做消防业务\n",
      "0.17805656790733337 >> 普鸿是一家做数字消防业务的公司，在广州做消防业务，大概是2024年成立，公司业绩一直很好，全国各地开展新业务试点\n",
      "0.29316282272338867 >> 普鸿是一家做数字消防业务的公司在广州做消防业务，大概是2024年成立，公司业绩一直很好，全国各地开展新业务试点在广州做消防业务，大概是2024年成立，公司业绩一直很好，全国各地开展新业务试点在广州做消防业务，大概是2024年成立，公司业绩一直很好，全国各地开展新业务试点在广州做消防业务，大概是2024年成立，公司业绩一直很好，全国各地开展新业务试点在广州做消防业务，大概是2024年成立，公司业绩一直很好，全国各地开展新业务试点在广州做消防业务，大概是2024年成立，公司业绩一直很好，全国各地开展新业务试点在广州做消防业务，大概是2024年成立，公司业绩一直很好，全国各地开展新业务试点在广州做消防业务，大概是2024年成立，公司业绩一直很好，全国各地开展新业务试点在广州做消防业务，大概是2024年成立，公司业绩一直很好，全国各地开展新业务试点在广州做消防业务，大概是2024年成立，公司业绩一直很好，全国各地开展新业务试点\n",
      "0.3356439471244812 >> 普鸿在广州做消防业务，大概是2024年成立，公司业绩一直很好，全国各地开展新业务试点\n",
      "0.3436765670776367 >> 普鸿是一家做数字消防业务的公司, 幻蝶是一家AI技术公司\n",
      "0.3740360140800476 >> 2024年新成立的，主要股东有广州鸿蒙信息科技有限公司，普鸿是一家做数字消防业务的公司，是2024年新成立的，主要股东有广州鸿蒙信息科技有限公司\n",
      "0.43234312534332275 >> 普鸿做消防业务, 幻蝶做AI的，鸿蒙做政企服务\n",
      "0.9443018436431885 >> 幻蝶的AI很厉害幻蝶的AI很厉害幻蝶的AI很厉害幻蝶的AI很厉害幻蝶的AI很厉害幻蝶的AI很厉害幻蝶的AI很厉害幻蝶的AI很厉害幻蝶的AI很厉害幻蝶的AI很厉害幻蝶的AI很厉害幻蝶的AI很厉害幻蝶的AI很厉害幻蝶的AI很厉害幻蝶的AI很厉害消防业务\n",
      "1.2295746803283691 >> 幻蝶的AI很厉害幻蝶的AI很厉害幻蝶的AI很厉害幻蝶的AI很厉害幻蝶的AI很厉害幻蝶的AI很厉害幻蝶的AI很厉害幻蝶的AI很厉害幻蝶的AI很厉害幻蝶的AI很厉害幻蝶的AI很厉害幻蝶的AI很厉害幻蝶的AI很厉害幻蝶的AI很厉害幻蝶的AI很厉害\n"
     ]
    }
   ],
   "source": [
    "from illufly.rag import FaissDB, TextEmbeddings\n",
    "\n",
    "# 文档嵌入\n",
    "db = FaissDB(embeddings=TextEmbeddings())\n",
    "db.add(\"普鸿是一家做数字消防业务的公司\")\n",
    "db.add(\"普鸿是一家做数字消防业务的公司，在广州做消防业务\")\n",
    "db.add(\"普鸿是一家做数字消防业务的公司，在广州做消防业务，大概是2024年成立，公司业绩一直很好，全国各地开展新业务试点\")\n",
    "db.add(\"普鸿是一家做数字消防业务的公司\" + \"在广州做消防业务，大概是2024年成立，公司业绩一直很好，全国各地开展新业务试点\"*10)\n",
    "db.add(\"普鸿是一家做数字消防业务的公司, 幻蝶是一家AI技术公司\")\n",
    "db.add(\"普鸿在广州做消防业务，大概是2024年成立，公司业绩一直很好，全国各地开展新业务试点\")\n",
    "db.add(\"普鸿做消防业务, 幻蝶做AI的，鸿蒙做政企服务\")\n",
    "db.add(\"2024年新成立的，主要股东有广州鸿蒙信息科技有限公司，普鸿是一家做数字消防业务的公司，是2024年新成立的，主要股东有广州鸿蒙信息科技有限公司\")\n",
    "db.add(\"幻蝶的AI很厉害\"*15 + \"消防业务\")\n",
    "db.add(\"幻蝶的AI很厉害\"*15)\n",
    "\n",
    "# 查询\n",
    "for x in db(\"普鸿是一家做数字消防业务的公司\", top_k=10, verbose=True):\n",
    "    print(x.meta['distance'], \">>\", x.text)"
   ]
  },
  {
   "cell_type": "code",
   "execution_count": null,
   "id": "3df93b81-d7cb-499c-8cef-2aa5a9ea864f",
   "metadata": {},
   "outputs": [],
   "source": []
  }
 ],
 "metadata": {
  "kernelspec": {
   "display_name": "same_to_illufly",
   "language": "python",
   "name": "same_to_illufly"
  },
  "language_info": {
   "codemirror_mode": {
    "name": "ipython",
    "version": 3
   },
   "file_extension": ".py",
   "mimetype": "text/x-python",
   "name": "python",
   "nbconvert_exporter": "python",
   "pygments_lexer": "ipython3",
   "version": "3.10.0"
  }
 },
 "nbformat": 4,
 "nbformat_minor": 5
}
