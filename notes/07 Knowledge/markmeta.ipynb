{
 "cells": [
  {
   "cell_type": "markdown",
   "id": "37c4f008-ca85-4507-b622-a12d9ce0d6f4",
   "metadata": {},
   "source": [
    "## 从 MarkMeta 持久化"
   ]
  },
  {
   "cell_type": "code",
   "execution_count": 1,
   "id": "41866452-e548-4e75-b236-574e78040956",
   "metadata": {},
   "outputs": [],
   "source": [
    "md1 = \"\"\"\n",
    "<!-- @meta {\"tag\": \"related\"} -->\n",
    "**Question:**\n",
    "如何在家里制作美味的比萨？\n",
    "\n",
    "**Answer:**\n",
    "首先准备面团，然后加入番茄酱，放上你喜欢的配料，最后撒上奶酪，放入预热至200度的烤箱中烤约15分钟即可。\n",
    "\n",
    "<!-- @meta {\"tag\": \"related\"} -->\n",
    "**Question:**\n",
    "有没有简单的方法在家做比萨？\n",
    "\n",
    "**Answer:**\n",
    "可以买现成的比萨饼底，加上自己喜欢的食材，放入烤箱烤制即可。\n",
    "\n",
    "<!-- @meta {\"tag\": \"related\"} -->\n",
    "**Question:**\n",
    "自己动手做比萨需要注意哪些步骤？\n",
    "\n",
    "**Answer:**\n",
    "注意面团发酵时间，酱料的选择，配料的新鲜程度以及烘烤温度和时间。\n",
    "\n",
    "<!-- @meta {\"tag\": \"related\"} -->\n",
    "**Question:**\n",
    "在家中怎样才能做出餐厅级别的比萨？\n",
    "\n",
    "**Answer:**\n",
    "选用高质量的原材料，掌握正确的烘焙技巧，尝试不同的配料组合。\n",
    "\n",
    "<!-- @meta {\"tag\":\"related\"} -->\n",
    "**Question:**\n",
    "想在家里给家人做一顿特别的晚餐，有什么推荐？\n",
    "\n",
    "**Answer:**\n",
    "自制比萨是个不错的选择，可以根据家人的口味定制各种风味。\n",
    "\n",
    "<!-- @meta {\"tag\": \"unrelated\"} -->\n",
    "**Question:**\n",
    "如何训练一只小狗成为导盲犬？\n",
    "\n",
    "**Answer:**\n",
    "从小狗三个月大时开始基础训练，之后进行专业技能训练，通过测试后与视障者配合训练。\n",
    "\n",
    "<!-- @meta {\"tag\": \"unrelated\"} -->\n",
    "**Question:**\n",
    "怎样才能提高自己的编程能力？\n",
    "\n",
    "**Answer:**\n",
    "多练习，参与开源项目，阅读优秀的代码，不断学习新的技术和框架。\n",
    "\n",
    "<!-- @meta {\"tag\": \"unrelated\"} -->\n",
    "**Question:**\n",
    "为什么我的盆栽植物总是长不好？\n",
    "\n",
    "**Answer:**\n",
    "可能是浇水过多或过少，光照不足，或者土壤不适合植物生长，需要调整养护方法。\n",
    "\n",
    "<!-- @meta {\"tag\": \"unrelated\"} -->\n",
    "**Question:**\n",
    "如何挑选一双适合跑步的运动鞋？\n",
    "\n",
    "**Answer:**\n",
    "要选择适合自己脚型的鞋子，注意鞋子的缓震性和透气性，最好在下午试穿以确保大小合适。\n",
    "\n",
    "<!-- @meta {\"tag\": \"unrelated\"} -->\n",
    "**Question:**\n",
    "怎样才能有效地减肥？\n",
    "\n",
    "**Answer:**\n",
    "制定合理的饮食计划，增加日常活动量，保证充足的睡眠，必要时可以寻求专业人士的帮助。\n",
    "\n",
    "@meta\n",
    "\"\"\""
   ]
  },
  {
   "cell_type": "markdown",
   "id": "03a2f482-fbc5-486f-91a7-5e1b53460ebf",
   "metadata": {},
   "source": [
    "### 从文本加载MD"
   ]
  },
  {
   "cell_type": "code",
   "execution_count": 2,
   "id": "7ba09417-d21c-4a70-b045-fbdd67e1fa3a",
   "metadata": {
    "scrolled": true
   },
   "outputs": [
    {
     "data": {
      "text/plain": [
       "[Document(text=\"**Question:**<br>如何在家里制作美味的比萨？<br><br>**Answer:**<br>首先准备面团，然后加入番茄酱，放上你喜欢的配料，最后撒上奶酪，放入预热至200度的烤箱中烤约15分钟即可。\", meta=['tag', 'id', 'source']),\n",
       " Document(text=\"**Question:**<br>有没有简单的方法在家做比萨？<br><br>**Answer:**<br>可以买现成的比萨饼底，加上自己喜欢的食材，放入烤箱烤制即可。\", meta=['tag', 'id', 'source']),\n",
       " Document(text=\"**Question:**<br>自己动手做比萨需要注意哪些步骤？<br><br>**Answer:**<br>注意面团发酵时间，酱料的选择，配料的新鲜程度以及烘烤温度和时间。\", meta=['tag', 'id', 'source']),\n",
       " Document(text=\"**Question:**<br>在家中怎样才能做出餐厅级别的比萨？<br><br>**Answer:**<br>选用高质量的原材料，掌握正确的烘焙技巧，尝试不同的配料组合。\", meta=['tag', 'id', 'source']),\n",
       " Document(text=\"**Question:**<br>想在家里给家人做一顿特别的晚餐，有什么推荐？<br><br>**Answer:**<br>自制比萨是个不错的选择，可以根据家人的口味定制各种风味。\", meta=['tag', 'id', 'source']),\n",
       " Document(text=\"**Question:**<br>如何训练一只小狗成为导盲犬？<br><br>**Answer:**<br>从小狗三个月大时开始基础训练，之后进行专业技能训练，通过测试后与视障者配合训练。\", meta=['tag', 'id', 'source']),\n",
       " Document(text=\"**Question:**<br>怎样才能提高自己的编程能力？<br><br>**Answer:**<br>多练习，参与开源项目，阅读优秀的代码，不断学习新的技术和框架。\", meta=['tag', 'id', 'source']),\n",
       " Document(text=\"**Question:**<br>为什么我的盆栽植物总是长不好？<br><br>**Answer:**<br>可能是浇水过多或过少，光照不足，或者土壤不适合植物生长，需要调整养护方法。\", meta=['tag', 'id', 'source']),\n",
       " Document(text=\"**Question:**<br>如何挑选一双适合跑步的运动鞋？<br><br>**Answer:**<br>要选择适合自己脚型的鞋子，注意鞋子的缓震性和透气性，最好在下午试穿以确保大小合适。\", meta=['tag', 'id', 'source']),\n",
       " Document(text=\"**Question:**<br>怎样才能有效地减肥？<br><br>**Answer:**<br>制定合理的饮食计划，增加日常活动量，保证充足的睡眠，必要时可以寻求专业人士的帮助。<br><br>@meta\", meta=['tag', 'id', 'source'])]"
      ]
     },
     "execution_count": 2,
     "metadata": {},
     "output_type": "execute_result"
    }
   ],
   "source": [
    "from illufly.types import MarkMeta\n",
    "\n",
    "mm = MarkMeta()\n",
    "mm.load_text(md1, source=\"001.md\")\n",
    "mm.documents"
   ]
  },
  {
   "cell_type": "markdown",
   "id": "fb70b33e-eecf-43dc-949d-388d5c597971",
   "metadata": {},
   "source": [
    "### 保存到磁盘"
   ]
  },
  {
   "cell_type": "code",
   "execution_count": 3,
   "id": "3a9f1b45-3e71-41bb-ba73-e09f425f2365",
   "metadata": {},
   "outputs": [
    {
     "data": {
      "text/plain": [
       "<generator object MarkMeta.save at 0x118e0ac00>"
      ]
     },
     "execution_count": 3,
     "metadata": {},
     "output_type": "execute_result"
    }
   ],
   "source": [
    "mm.save()"
   ]
  },
  {
   "cell_type": "markdown",
   "id": "f2b2fcf2-5f44-455c-bf6e-db1e67aad390",
   "metadata": {},
   "source": [
    "### 列举 MarkMeta"
   ]
  },
  {
   "cell_type": "code",
   "execution_count": 8,
   "id": "157b6ec6-6cb0-454a-aba4-0165e9dfa508",
   "metadata": {},
   "outputs": [
    {
     "data": {
      "text/plain": [
       "['__mydocs__/创意/001.md', '__mydocs__/创意-Copy1/001.md']"
      ]
     },
     "execution_count": 8,
     "metadata": {},
     "output_type": "execute_result"
    }
   ],
   "source": [
    "from illufly.types import MarkMeta\n",
    "mm = MarkMeta()\n",
    "mm.get_files(\"__mydocs__\")"
   ]
  },
  {
   "cell_type": "markdown",
   "id": "1c3a011d-0c61-4092-b278-e4b49e601889",
   "metadata": {},
   "source": [
    "## 加载 MarkMeta"
   ]
  },
  {
   "cell_type": "markdown",
   "id": "c73b8ac7-70e4-4023-b9fa-683ac7990923",
   "metadata": {},
   "source": [
    "### 从文件加载 MarkMeta"
   ]
  },
  {
   "cell_type": "code",
   "execution_count": 6,
   "id": "79216f80-9d84-470c-93be-8a5b98703ea2",
   "metadata": {},
   "outputs": [
    {
     "data": {
      "text/plain": [
       "[Document(text=\"**Question:**<br>如何在家里制作美味的比萨？<br><br>**Answer:**<br>首先准备面团，然后加入番茄酱，放上你喜欢的配料，最后撒上奶酪，放入预热至200度的烤箱中烤约15分钟即可。\", meta=['tag', 'id', 'source']),\n",
       " Document(text=\"**Question:**<br>有没有简单的方法在家做比萨？<br><br>**Answer:**<br>可以买现成的比萨饼底，加上自己喜欢的食材，放入烤箱烤制即可。\", meta=['tag', 'id', 'source']),\n",
       " Document(text=\"**Question:**<br>自己动手做比萨需要注意哪些步骤？<br><br>**Answer:**<br>注意面团发酵时间，酱料的选择，配料的新鲜程度以及烘烤温度和时间。\", meta=['tag', 'id', 'source']),\n",
       " Document(text=\"**Question:**<br>在家中怎样才能做出餐厅级别的比萨？<br><br>**Answer:**<br>选用高质量的原材料，掌握正确的烘焙技巧，尝试不同的配料组合。\", meta=['tag', 'id', 'source']),\n",
       " Document(text=\"**Question:**<br>想在家里给家人做一顿特别的晚餐，有什么推荐？<br><br>**Answer:**<br>自制比萨是个不错的选择，可以根据家人的口味定制各种风味。\", meta=['tag', 'id', 'source']),\n",
       " Document(text=\"**Question:**<br>如何训练一只小狗成为导盲犬？<br><br>**Answer:**<br>从小狗三个月大时开始基础训练，之后进行专业技能训练，通过测试后与视障者配合训练。\", meta=['tag', 'id', 'source']),\n",
       " Document(text=\"**Question:**<br>怎样才能提高自己的编程能力？<br><br>**Answer:**<br>多练习，参与开源项目，阅读优秀的代码，不断学习新的技术和框架。\", meta=['tag', 'id', 'source']),\n",
       " Document(text=\"**Question:**<br>为什么我的盆栽植物总是长不好？<br><br>**Answer:**<br>可能是浇水过多或过少，光照不足，或者土壤不适合植物生长，需要调整养护方法。\", meta=['tag', 'id', 'source']),\n",
       " Document(text=\"**Question:**<br>如何挑选一双适合跑步的运动鞋？<br><br>**Answer:**<br>要选择适合自己脚型的鞋子，注意鞋子的缓震性和透气性，最好在下午试穿以确保大小合适。\", meta=['tag', 'id', 'source']),\n",
       " Document(text=\"**Question:**<br>怎样才能有效地减肥？<br><br>**Answer:**<br>制定合理的饮食计划，增加日常活动量，保证充足的睡眠，必要时可以寻求专业人士的帮助。<br><br>@meta\", meta=['tag', 'id', 'source'])]"
      ]
     },
     "execution_count": 6,
     "metadata": {},
     "output_type": "execute_result"
    }
   ],
   "source": [
    "import os\n",
    "os.environ['ILLUFLY_DOCS'] = '__mydocs__'\n",
    "\n",
    "from illufly.types import MarkMeta\n",
    "\n",
    "mm = MarkMeta()\n",
    "mm.load_dir()"
   ]
  },
  {
   "cell_type": "code",
   "execution_count": 2,
   "id": "9c9001b2-3fa1-4ca0-b863-1f0f0688f802",
   "metadata": {},
   "outputs": [
    {
     "data": {
      "text/plain": [
       "Document(text=\"**Question:**<br>怎样才能有效地减肥？<br><br>**Answer:**<br>制定合理的饮食计划，增加日常活动量，保证充足的睡眠，必要时可以寻求专业人士的帮助。<br><br>@meta\", meta=['tag', 'id', 'source'])"
      ]
     },
     "execution_count": 2,
     "metadata": {},
     "output_type": "execute_result"
    }
   ],
   "source": [
    "mm.documents[-1]"
   ]
  },
  {
   "cell_type": "markdown",
   "id": "f4f758f1-8989-485c-983a-5f4902627887",
   "metadata": {},
   "source": [
    "### 从文本构造 MarkMeta"
   ]
  },
  {
   "cell_type": "code",
   "execution_count": 7,
   "id": "e2790845-86ca-4dad-8737-e201b84b7a22",
   "metadata": {},
   "outputs": [
    {
     "data": {
      "text/plain": [
       "Document(text=\"hello\", meta=['raw_meta', 'id', 'source'])"
      ]
     },
     "execution_count": 7,
     "metadata": {},
     "output_type": "execute_result"
    }
   ],
   "source": [
    "import os\n",
    "os.environ['ILLUFLY_DOCS'] = 'docs'\n",
    "\n",
    "from illufly.types import MarkMeta\n",
    "\n",
    "mm = MarkMeta()\n",
    "mm.load_text(\"hello\")\n",
    "mm.documents[-1]"
   ]
  },
  {
   "cell_type": "markdown",
   "id": "b5818c85-095b-4b73-9037-8f0b6e337e6a",
   "metadata": {},
   "source": [
    "### 按照 Meta 标记分割文档"
   ]
  },
  {
   "cell_type": "code",
   "execution_count": 10,
   "id": "b3c4f700-1fbd-428b-9b0d-35158d42d0e5",
   "metadata": {},
   "outputs": [
    {
     "name": "stdout",
     "output_type": "stream",
     "text": [
      "hello {'raw_meta': '', 'id': '20241203-92158-0005-0404', 'source': '20241203-92158-0005-0404.md'}\n",
      "illufly {'raw_meta': '', 'id': '20241203-92158-0006-0577', 'source': '20241203-92158-0005-0404.md'}\n"
     ]
    }
   ],
   "source": [
    "import os\n",
    "os.environ['ILLUFLY_DOCS'] = 'docs'\n",
    "\n",
    "from illufly.types import MarkMeta\n",
    "\n",
    "mm = MarkMeta()\n",
    "mm.load_text(\n",
    "    \"\\n\".join([\n",
    "        'hello',\n",
    "        '<!-- @meta -->',\n",
    "        'illufly'\n",
    "]))\n",
    "for d in mm.documents:\n",
    "    print(d.text, d.meta)"
   ]
  },
  {
   "cell_type": "markdown",
   "id": "81c261a0-338b-4535-b61d-740fce64aea2",
   "metadata": {},
   "source": [
    "### 提供 Meta 元数据"
   ]
  },
  {
   "cell_type": "code",
   "execution_count": 12,
   "id": "2d5531b4-48e1-45c0-bc8f-33a0afee02a4",
   "metadata": {},
   "outputs": [
    {
     "name": "stdout",
     "output_type": "stream",
     "text": [
      "{'id': '1', 'source': '1.md'}\n",
      "{'id': '2', 'source': '2.md'}\n"
     ]
    }
   ],
   "source": [
    "import os\n",
    "os.environ['ILLUFLY_DOCS'] = 'docs'\n",
    "\n",
    "from illufly.types import MarkMeta\n",
    "\n",
    "mm = MarkMeta()\n",
    "mm.load_text(\n",
    "    \"\\n\".join([\n",
    "        '<!-- @meta {\"id\": \"1\", \"source\": \"1.md\"} -->',\n",
    "        'hello',\n",
    "        '<!-- @meta {\"id\": \"2\", \"source\": \"2.md\"} -->',\n",
    "        'illufly'\n",
    "    ])\n",
    ")\n",
    "for d in mm.documents:\n",
    "    print(d.meta)"
   ]
  },
  {
   "cell_type": "markdown",
   "id": "5544d740-4c8a-4e6a-b08a-fe8ee0640bdd",
   "metadata": {},
   "source": [
    "### meta 只需要包含在注释行中"
   ]
  },
  {
   "cell_type": "code",
   "execution_count": 13,
   "id": "99d46968-b42e-451a-bd81-30e83120f049",
   "metadata": {},
   "outputs": [
    {
     "name": "stdout",
     "output_type": "stream",
     "text": [
      "{'id': '1', 'source': '1.md'} hello,\n",
      "{'id': '2', 'source': '2.md'} illufly\n"
     ]
    }
   ],
   "source": [
    "import os\n",
    "os.environ['ILLUFLY_DOCS'] = 'docs'\n",
    "\n",
    "from illufly.types import MarkMeta\n",
    "\n",
    "mm = MarkMeta()\n",
    "mm.load_text(\n",
    "    \"\"\"\n",
    "    <!-- @meta {\"id\": \"1\", \"source\": \"1.md\"} -->\n",
    "    hello,\n",
    "    <!-- @meta {\"id\": \"2\", \"source\": \"2.md\"} -->\n",
    "    illufly\n",
    "    \"\"\"\n",
    ")\n",
    "for d in mm.documents:\n",
    "    print(d.meta, d.text)"
   ]
  },
  {
   "cell_type": "markdown",
   "id": "3f4b9e80-8a2e-484b-9345-c4a8b643c225",
   "metadata": {},
   "source": [
    "## 列举 MarkMeta"
   ]
  }
 ],
 "metadata": {
  "kernelspec": {
   "display_name": "same_to_illufly",
   "language": "python",
   "name": "same_to_illufly"
  },
  "language_info": {
   "codemirror_mode": {
    "name": "ipython",
    "version": 3
   },
   "file_extension": ".py",
   "mimetype": "text/x-python",
   "name": "python",
   "nbconvert_exporter": "python",
   "pygments_lexer": "ipython3",
   "version": "3.10.0"
  }
 },
 "nbformat": 4,
 "nbformat_minor": 5
}
