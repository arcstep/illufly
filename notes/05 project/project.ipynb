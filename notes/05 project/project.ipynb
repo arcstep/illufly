{
 "cells": [
  {
   "cell_type": "markdown",
   "id": "7ad08efd-c98b-441e-b698-bc1c99cc4808",
   "metadata": {},
   "source": [
    "## 初始化项目"
   ]
  },
  {
   "cell_type": "markdown",
   "id": "ae5eff19-82a7-4c1b-8853-963b4d162bb9",
   "metadata": {},
   "source": [
    "### 自动加载历史"
   ]
  },
  {
   "cell_type": "code",
   "execution_count": 2,
   "id": "5abd4244-e420-4bb6-97d2-81ce9c70c22d",
   "metadata": {},
   "outputs": [
    {
     "name": "stdout",
     "output_type": "stream",
     "text": [
      "Project<llm: 'zhipuai/glm-4-flash', project_folder: './教程', output_files: ['人物设定.md', '我修了个假仙人.md', 'README提纲.md', 'README.md', '提纲.md']>\n"
     ]
    }
   ],
   "source": [
    "from textlong import WritingProject\n",
    "from langchain_zhipu import ChatZhipuAI\n",
    "\n",
    "p = WritingProject(project_id=\"教程\", llm=ChatZhipuAI(model=\"glm-4-flash\"))\n",
    "print(p)"
   ]
  },
  {
   "cell_type": "code",
   "execution_count": 3,
   "id": "64eb9eba-d730-458c-bec2-635097f6fb82",
   "metadata": {},
   "outputs": [
    {
     "data": {
      "text/plain": [
       "['README.md', '我修了个假仙人.md', 'README提纲.md', '提纲.md', '人物设定.md']"
      ]
     },
     "execution_count": 3,
     "metadata": {},
     "output_type": "execute_result"
    }
   ],
   "source": [
    "p.list_resource()"
   ]
  },
  {
   "cell_type": "code",
   "execution_count": 4,
   "id": "2c17b312-9f2a-4d9e-ad48-10e2f9648015",
   "metadata": {},
   "outputs": [
    {
     "data": {
      "text/plain": [
       "\"---\\nmodified_at: '2024-06-25 22:07:02'\\noutput_file: 人物设定.md\\ncommand: stream\\nargs:\\n  task: 我要写一个修仙小说，主角是夏小兰，男一号是周成，请帮我设想一下这两个人的出身，要非常魔幻。\\n  sep_mode: all\\n  prompt_id: IDEA\\n  base_folder: 教程\\n---\\n\\n夏小兰，出生于神秘的「兰花仙谷」，她的家族世代修炼「兰花神诀」，拥有能操控花木、灵气为食的奇特能力。在仙谷中，有一株万年兰花，传闻它是上古花神遗留的仙种，夏小兰便是由这株兰花孕育而生，因此她自幼便身怀异禀，被视为兰花仙谷的奇迹。\\n\\n周成，来自「星辰之海」的神秘家族，其祖先曾是九天之上的星君，因一次意外流落凡间，开创了周家。周成自小受到家族秘传的「星辰神诀」栽培，能够操控星辰之力，与天地共鸣。他的出生伴随着天象异变，星辰闪耀，被认为承载着星辰之海的命运。\\n\\n**人物设定：**\\n\\n- **夏小兰**\\n  - 出身：兰花仙谷\\n  - 特点：花神后代，操控花木，食灵气\\n  - 法诀：兰花神诀\\n\\n- **周成**\\n  - 出身：星辰之海周家\\n  - 特点：星君后裔，控星辰之力\\n  - 法诀：星辰神诀\""
      ]
     },
     "execution_count": 4,
     "metadata": {},
     "output_type": "execute_result"
    }
   ],
   "source": [
    "p.load_markdown(\"人物设定.md\")"
   ]
  },
  {
   "cell_type": "markdown",
   "id": "62a16b56-4efb-4089-88f8-ea568f46147d",
   "metadata": {},
   "source": [
    "## 指定嵌入"
   ]
  },
  {
   "cell_type": "code",
   "execution_count": 5,
   "id": "7050c97b-072f-4040-92ca-28934dfd3c75",
   "metadata": {},
   "outputs": [
    {
     "data": {
      "text/plain": [
       "True"
      ]
     },
     "execution_count": 5,
     "metadata": {},
     "output_type": "execute_result"
    }
   ],
   "source": [
    "p.to_embedding(\"人物设定.md\", False)"
   ]
  },
  {
   "cell_type": "code",
   "execution_count": 6,
   "id": "4f58444f-46cd-4dcd-aac7-88c8474d7dc7",
   "metadata": {},
   "outputs": [
    {
     "data": {
      "text/plain": [
       "True"
      ]
     },
     "execution_count": 6,
     "metadata": {},
     "output_type": "execute_result"
    }
   ],
   "source": [
    "p.to_embedding(\"我修了个假仙人.md\", True)"
   ]
  },
  {
   "cell_type": "code",
   "execution_count": 7,
   "id": "808685a8-a1fc-4093-baab-0dad1d0a1ea6",
   "metadata": {},
   "outputs": [
    {
     "data": {
      "text/plain": [
       "{'我修了个假仙人.md'}"
      ]
     },
     "execution_count": 7,
     "metadata": {},
     "output_type": "execute_result"
    }
   ],
   "source": [
    "p.embedding_files"
   ]
  },
  {
   "cell_type": "markdown",
   "id": "07f0524d-89f8-4f60-8a53-fcfc10d912b9",
   "metadata": {},
   "source": [
    "### 查看每个文件的最后一条指令"
   ]
  },
  {
   "cell_type": "code",
   "execution_count": 8,
   "id": "225b7b7b-a1d7-4b65-9c27-3a9abad885cb",
   "metadata": {},
   "outputs": [
    {
     "data": {
      "text/plain": [
       "[{'modified_at': '2024-06-28 08:55:29',\n",
       "  'output_file': 'README提纲.md',\n",
       "  'command': 'stream',\n",
       "  'args': {'task': ' 请帮生成一个中文readme.文件，从第一级标题开始。 内容是指导新手如何使用`textlong`这个python包。 这需要包括dotenv使用、textlong加载、使用Project创作长文（其中又包括创作提纲、扩写、引用素材等几部份） ',\n",
       "   'sep_mode': 'all',\n",
       "   'prompt_id': 'OUTLINE',\n",
       "   'base_folder': './教程'}},\n",
       " {'modified_at': '2024-06-25 22:07:02',\n",
       "  'output_file': '人物设定.md',\n",
       "  'command': 'stream',\n",
       "  'args': {'task': '我要写一个修仙小说，主角是夏小兰，男一号是周成，请帮我设想一下这两个人的出身，要非常魔幻。',\n",
       "   'sep_mode': 'all',\n",
       "   'prompt_id': 'IDEA',\n",
       "   'base_folder': '教程'}},\n",
       " {'modified_at': '2024-06-25 22:07:11',\n",
       "  'output_file': '提纲.md',\n",
       "  'command': 'stream',\n",
       "  'args': {'task': '请帮我创作500字的修仙小说，标题为《我修了个假仙》，主角是夏小兰，男一号是周成，每一个章节都适用意外、打脸的线索推动。',\n",
       "   'sep_mode': 'all',\n",
       "   'knowledge': ['人物设定.md'],\n",
       "   'prompt_id': 'OUTLINE',\n",
       "   'base_folder': '教程'}},\n",
       " {'modified_at': '2024-06-25 22:07:31',\n",
       "  'output_file': '我修了个假仙人.md',\n",
       "  'command': 'stream',\n",
       "  'args': {'task': '多使用人物细节、对话描写、打斗描写，减少抽象叙事',\n",
       "   'input': '提纲.md',\n",
       "   'sep_mode': 'outline',\n",
       "   'knowledge': ['人物设定.md'],\n",
       "   'prompt_id': 'FROM_OUTLINE',\n",
       "   'tag_start': '<OUTLINE>',\n",
       "   'tag_end': '</OUTLINE>',\n",
       "   'base_folder': '教程'}},\n",
       " {'modified_at': '2024-06-23 12:00:34',\n",
       "  'output_file': 'README.md',\n",
       "  'command': 'stream_log',\n",
       "  'args': {'sep_mode': 'outline',\n",
       "   'input': 'README提纲.md',\n",
       "   'prompt_id': 'FROM_OUTLINE'}}]"
      ]
     },
     "execution_count": 8,
     "metadata": {},
     "output_type": "execute_result"
    }
   ],
   "source": [
    "p.load_commands(-1)"
   ]
  },
  {
   "cell_type": "markdown",
   "id": "9b44270c-f824-4373-a47a-1eebf40cc643",
   "metadata": {},
   "source": [
    "## README项目"
   ]
  },
  {
   "cell_type": "markdown",
   "id": "5486d447-3ffb-4e0a-8ebb-5783ba15ea91",
   "metadata": {},
   "source": [
    "### 创建大纲"
   ]
  },
  {
   "cell_type": "code",
   "execution_count": 9,
   "id": "693fd333-977d-4ca2-8eae-4482dc4fa69c",
   "metadata": {},
   "outputs": [
    {
     "name": "stdout",
     "output_type": "stream",
     "text": [
      "\u001b[34m\n",
      ">->>> Prompt ID: OUTLINE | README提纲.md <<<-<\n",
      "\u001b[0m\u001b[32m#\u001b[0m\u001b[32m 使用\u001b[0m\u001b[32m`\u001b[0m\u001b[32mtext\u001b[0m\u001b[32mlong\u001b[0m\u001b[32m`\u001b[0m\u001b[32m包\u001b[0m\u001b[32m创作\u001b[0m\u001b[32m长\u001b[0m\u001b[32m文\u001b[0m\u001b[32m指南\u001b[0m\u001b[32m\n",
      "\n",
      "##\u001b[0m\u001b[32m 一\u001b[0m\u001b[32m、\u001b[0m\u001b[32mdotenv\u001b[0m\u001b[32m使用\u001b[0m\u001b[32m\n",
      "<\u001b[0m\u001b[32mOUT\u001b[0m\u001b[32mLINE\u001b[0m\u001b[32m>\n",
      "扩\u001b[0m\u001b[32m写\u001b[0m\u001b[32m摘要\u001b[0m\u001b[32m:\n",
      "dotenv\u001b[0m\u001b[32m是一个\u001b[0m\u001b[32m用于\u001b[0m\u001b[32m管理\u001b[0m\u001b[32m环境\u001b[0m\u001b[32m变量的\u001b[0m\u001b[32m库\u001b[0m\u001b[32m，\u001b[0m\u001b[32m可以帮助\u001b[0m\u001b[32m我们在\u001b[0m\u001b[32mPython\u001b[0m\u001b[32m项目中\u001b[0m\u001b[32m隔离\u001b[0m\u001b[32m不同的\u001b[0m\u001b[32m环境\u001b[0m\u001b[32m配置\u001b[0m\u001b[32m。\n",
      "\n",
      "扩\u001b[0m\u001b[32m写\u001b[0m\u001b[32m要求\u001b[0m\u001b[32m：\n",
      "-\u001b[0m\u001b[32m \u001b[0m\u001b[32m介绍\u001b[0m\u001b[32mdotenv\u001b[0m\u001b[32m的基本\u001b[0m\u001b[32m安装\u001b[0m\u001b[32m和使用\u001b[0m\u001b[32m方法\u001b[0m\u001b[32m\n",
      "-\u001b[0m\u001b[32m 解释\u001b[0m\u001b[32m如何\u001b[0m\u001b[32m通过\u001b[0m\u001b[32mdotenv\u001b[0m\u001b[32m加载\u001b[0m\u001b[32m不同的\u001b[0m\u001b[32m环境\u001b[0m\u001b[32m配置\u001b[0m\u001b[32m文件\u001b[0m\u001b[32m\n",
      "-\u001b[0m\u001b[32m 提\u001b[0m\u001b[32m供\u001b[0m\u001b[32m一个\u001b[0m\u001b[32m示例\u001b[0m\u001b[32m，\u001b[0m\u001b[32m展示\u001b[0m\u001b[32m如何在\u001b[0m\u001b[32mPython\u001b[0m\u001b[32m项目中\u001b[0m\u001b[32m使用\u001b[0m\u001b[32mdotenv\u001b[0m\u001b[32m\n",
      "</\u001b[0m\u001b[32mOUT\u001b[0m\u001b[32mLINE\u001b[0m\u001b[32m>\n",
      "\n",
      "##\u001b[0m\u001b[32m 二\u001b[0m\u001b[32m、\u001b[0m\u001b[32mtext\u001b[0m\u001b[32mlong\u001b[0m\u001b[32m加载\u001b[0m\u001b[32m\n",
      "<\u001b[0m\u001b[32mOUT\u001b[0m\u001b[32mLINE\u001b[0m\u001b[32m>\n",
      "扩\u001b[0m\u001b[32m写\u001b[0m\u001b[32m摘要\u001b[0m\u001b[32m:\n",
      "text\u001b[0m\u001b[32mlong\u001b[0m\u001b[32m是一个\u001b[0m\u001b[32m用于\u001b[0m\u001b[32m创作\u001b[0m\u001b[32m长\u001b[0m\u001b[32m文的\u001b[0m\u001b[32mPython\u001b[0m\u001b[32m包\u001b[0m\u001b[32m，\u001b[0m\u001b[32m它\u001b[0m\u001b[32m提供了\u001b[0m\u001b[32m丰富的\u001b[0m\u001b[32m工具\u001b[0m\u001b[32m和\u001b[0m\u001b[32m功能\u001b[0m\u001b[32m来\u001b[0m\u001b[32m帮助\u001b[0m\u001b[32m用户\u001b[0m\u001b[32m创作\u001b[0m\u001b[32m。\n",
      "\n",
      "扩\u001b[0m\u001b[32m写\u001b[0m\u001b[32m要求\u001b[0m\u001b[32m：\n",
      "-\u001b[0m\u001b[32m \u001b[0m\u001b[32m介绍\u001b[0m\u001b[32mtext\u001b[0m\u001b[32mlong\u001b[0m\u001b[32m的基本\u001b[0m\u001b[32m安装\u001b[0m\u001b[32m方法\u001b[0m\u001b[32m\n",
      "-\u001b[0m\u001b[32m 解释\u001b[0m\u001b[32m如何\u001b[0m\u001b[32m导入\u001b[0m\u001b[32mtext\u001b[0m\u001b[32mlong\u001b[0m\u001b[32m包\u001b[0m\u001b[32m\n",
      "-\u001b[0m\u001b[32m 提\u001b[0m\u001b[32m供\u001b[0m\u001b[32m一个\u001b[0m\u001b[32m示例\u001b[0m\u001b[32m，\u001b[0m\u001b[32m展示\u001b[0m\u001b[32m如何\u001b[0m\u001b[32m使用\u001b[0m\u001b[32mtext\u001b[0m\u001b[32mlong\u001b[0m\u001b[32m包\u001b[0m\u001b[32m进行\u001b[0m\u001b[32m文本\u001b[0m\u001b[32m操作\u001b[0m\u001b[32m\n",
      "</\u001b[0m\u001b[32mOUT\u001b[0m\u001b[32mLINE\u001b[0m\u001b[32m>\n",
      "\n",
      "##\u001b[0m\u001b[32m 三\u001b[0m\u001b[32m、\u001b[0m\u001b[32m使用\u001b[0m\u001b[32mtext\u001b[0m\u001b[32mlong\u001b[0m\u001b[32m创作\u001b[0m\u001b[32m长\u001b[0m\u001b[32m文\u001b[0m\u001b[32m\n",
      "###\u001b[0m\u001b[32m \u001b[0m\u001b[32m1\u001b[0m\u001b[32m、\u001b[0m\u001b[32m创作\u001b[0m\u001b[32m提\u001b[0m\u001b[32m纲\u001b[0m\u001b[32m\n",
      "<\u001b[0m\u001b[32mOUT\u001b[0m\u001b[32mLINE\u001b[0m\u001b[32m>\n",
      "扩\u001b[0m\u001b[32m写\u001b[0m\u001b[32m摘要\u001b[0m\u001b[32m:\n",
      "创作\u001b[0m\u001b[32m提\u001b[0m\u001b[32m纲\u001b[0m\u001b[32m是\u001b[0m\u001b[32m写作\u001b[0m\u001b[32m长\u001b[0m\u001b[32m文\u001b[0m\u001b[32m的第一\u001b[0m\u001b[32m步\u001b[0m\u001b[32m，\u001b[0m\u001b[32m它\u001b[0m\u001b[32m有助于\u001b[0m\u001b[32m组织和\u001b[0m\u001b[32m规划\u001b[0m\u001b[32m文章\u001b[0m\u001b[32m的结构\u001b[0m\u001b[32m。\n",
      "\n",
      "扩\u001b[0m\u001b[32m写\u001b[0m\u001b[32m要求\u001b[0m\u001b[32m：\n",
      "-\u001b[0m\u001b[32m \u001b[0m\u001b[32m介绍\u001b[0m\u001b[32m创作\u001b[0m\u001b[32m提\u001b[0m\u001b[32m纲\u001b[0m\u001b[32m的重要性\u001b[0m\u001b[32m\n",
      "-\u001b[0m\u001b[32m 提\u001b[0m\u001b[32m供\u001b[0m\u001b[32m创作\u001b[0m\u001b[32m提\u001b[0m\u001b[32m纲\u001b[0m\u001b[32m的基本\u001b[0m\u001b[32m步骤\u001b[0m\u001b[32m\n",
      "-\u001b[0m\u001b[32m 预\u001b[0m\u001b[32m估\u001b[0m\u001b[32m字\u001b[0m\u001b[32m数\u001b[0m\u001b[32m：\u001b[0m\u001b[32m500\u001b[0m\u001b[32m字\u001b[0m\u001b[32m\n",
      "-\u001b[0m\u001b[32m 创\u001b[0m\u001b[32m意\u001b[0m\u001b[32m要点\u001b[0m\u001b[32m：\u001b[0m\u001b[32m如何\u001b[0m\u001b[32m根据\u001b[0m\u001b[32m主题\u001b[0m\u001b[32m和\u001b[0m\u001b[32m目标\u001b[0m\u001b[32m受众\u001b[0m\u001b[32m制定\u001b[0m\u001b[32m提\u001b[0m\u001b[32m纲\u001b[0m\u001b[32m\n",
      "-\u001b[0m\u001b[32m 创\u001b[0m\u001b[32m作\u001b[0m\u001b[32m思路\u001b[0m\u001b[32m：\u001b[0m\u001b[32m如何\u001b[0m\u001b[32m将\u001b[0m\u001b[32m提\u001b[0m\u001b[32m纲\u001b[0m\u001b[32m转化为\u001b[0m\u001b[32m具体\u001b[0m\u001b[32m内容\u001b[0m\u001b[32m\n",
      "-\u001b[0m\u001b[32m 创\u001b[0m\u001b[32m作\u001b[0m\u001b[32m中\u001b[0m\u001b[32m涉及\u001b[0m\u001b[32m到的\u001b[0m\u001b[32m实体\u001b[0m\u001b[32m名称\u001b[0m\u001b[32m：\u001b[0m\u001b[32m提\u001b[0m\u001b[32m纲\u001b[0m\u001b[32m、\u001b[0m\u001b[32m章节\u001b[0m\u001b[32m、\u001b[0m\u001b[32m段落\u001b[0m\u001b[32m、\u001b[0m\u001b[32m标题\u001b[0m\u001b[32m\n",
      "</\u001b[0m\u001b[32mOUT\u001b[0m\u001b[32mLINE\u001b[0m\u001b[32m>\n",
      "\n",
      "###\u001b[0m\u001b[32m \u001b[0m\u001b[32m2\u001b[0m\u001b[32m、\u001b[0m\u001b[32m扩\u001b[0m\u001b[32m写\u001b[0m\u001b[32m\n",
      "<\u001b[0m\u001b[32mOUT\u001b[0m\u001b[32mLINE\u001b[0m\u001b[32m>\n",
      "扩\u001b[0m\u001b[32m写\u001b[0m\u001b[32m摘要\u001b[0m\u001b[32m:\n",
      "扩\u001b[0m\u001b[32m写\u001b[0m\u001b[32m是\u001b[0m\u001b[32m创作\u001b[0m\u001b[32m长\u001b[0m\u001b[32m文\u001b[0m\u001b[32m的核心\u001b[0m\u001b[32m步骤\u001b[0m\u001b[32m，\u001b[0m\u001b[32m它\u001b[0m\u001b[32m涉及到\u001b[0m\u001b[32m将\u001b[0m\u001b[32m提\u001b[0m\u001b[32m纲\u001b[0m\u001b[32m转化为\u001b[0m\u001b[32m详细\u001b[0m\u001b[32m的内容\u001b[0m\u001b[32m。\n",
      "\n",
      "扩\u001b[0m\u001b[32m写\u001b[0m\u001b[32m要求\u001b[0m\u001b[32m：\n",
      "-\u001b[0m\u001b[32m \u001b[0m\u001b[32m介绍\u001b[0m\u001b[32m扩\u001b[0m\u001b[32m写\u001b[0m\u001b[32m的基本\u001b[0m\u001b[32m方法\u001b[0m\u001b[32m\n",
      "-\u001b[0m\u001b[32m 提\u001b[0m\u001b[32m供\u001b[0m\u001b[32m扩\u001b[0m\u001b[32m写的\u001b[0m\u001b[32m技巧\u001b[0m\u001b[32m和\u001b[0m\u001b[32m策略\u001b[0m\u001b[32m\n",
      "-\u001b[0m\u001b[32m 预\u001b[0m\u001b[32m估\u001b[0m\u001b[32m字\u001b[0m\u001b[32m数\u001b[0m\u001b[32m：\u001b[0m\u001b[32m100\u001b[0m\u001b[32m0\u001b[0m\u001b[32m字\u001b[0m\u001b[32m\n",
      "-\u001b[0m\u001b[32m 创\u001b[0m\u001b[32m意\u001b[0m\u001b[32m要点\u001b[0m\u001b[32m：\u001b[0m\u001b[32m如何\u001b[0m\u001b[32m保持\u001b[0m\u001b[32m文章\u001b[0m\u001b[32m连贯\u001b[0m\u001b[32m性和\u001b[0m\u001b[32m吸引力\u001b[0m\u001b[32m\n",
      "-\u001b[0m\u001b[32m 创\u001b[0m\u001b[32m作\u001b[0m\u001b[32m思路\u001b[0m\u001b[32m：\u001b[0m\u001b[32m如何\u001b[0m\u001b[32m从\u001b[0m\u001b[32m提\u001b[0m\u001b[32m纲\u001b[0m\u001b[32m过渡\u001b[0m\u001b[32m到\u001b[0m\u001b[32m详细\u001b[0m\u001b[32m内容\u001b[0m\u001b[32m\n",
      "-\u001b[0m\u001b[32m 创\u001b[0m\u001b[32m作\u001b[0m\u001b[32m中\u001b[0m\u001b[32m涉及\u001b[0m\u001b[32m到的\u001b[0m\u001b[32m实体\u001b[0m\u001b[32m名称\u001b[0m\u001b[32m：\u001b[0m\u001b[32m主题\u001b[0m\u001b[32m、\u001b[0m\u001b[32m论\u001b[0m\u001b[32m点\u001b[0m\u001b[32m、\u001b[0m\u001b[32m论\u001b[0m\u001b[32m据\u001b[0m\u001b[32m、\u001b[0m\u001b[32m例子\u001b[0m\u001b[32m\n",
      "</\u001b[0m\u001b[32mOUT\u001b[0m\u001b[32mLINE\u001b[0m\u001b[32m>\n",
      "\n",
      "###\u001b[0m\u001b[32m \u001b[0m\u001b[32m3\u001b[0m\u001b[32m、\u001b[0m\u001b[32m引用\u001b[0m\u001b[32m素材\u001b[0m\u001b[32m\n",
      "<\u001b[0m\u001b[32mOUT\u001b[0m\u001b[32mLINE\u001b[0m\u001b[32m>\n",
      "扩\u001b[0m\u001b[32m写\u001b[0m\u001b[32m摘要\u001b[0m\u001b[32m:\n",
      "引用\u001b[0m\u001b[32m素材\u001b[0m\u001b[32m是\u001b[0m\u001b[32m增强\u001b[0m\u001b[32m文章\u001b[0m\u001b[32m说服\u001b[0m\u001b[32m力和\u001b[0m\u001b[32m丰富\u001b[0m\u001b[32m性的\u001b[0m\u001b[32m重要\u001b[0m\u001b[32m手段\u001b[0m\u001b[32m。\n",
      "\n",
      "扩\u001b[0m\u001b[32m写\u001b[0m\u001b[32m要求\u001b[0m\u001b[32m：\n",
      "-\u001b[0m\u001b[32m \u001b[0m\u001b[32m介绍\u001b[0m\u001b[32m引用\u001b[0m\u001b[32m素材\u001b[0m\u001b[32m的种类\u001b[0m\u001b[32m和\u001b[0m\u001b[32m来源\u001b[0m\u001b[32m\n",
      "-\u001b[0m\u001b[32m 解释\u001b[0m\u001b[32m如何\u001b[0m\u001b[32m选择\u001b[0m\u001b[32m合适的\u001b[0m\u001b[32m素材\u001b[0m\u001b[32m\n",
      "-\u001b[0m\u001b[32m 提\u001b[0m\u001b[32m供\u001b[0m\u001b[32m引用\u001b[0m\u001b[32m素材\u001b[0m\u001b[32m的方法\u001b[0m\u001b[32m和\u001b[0m\u001b[32m技巧\u001b[0m\u001b[32m\n",
      "-\u001b[0m\u001b[32m 预\u001b[0m\u001b[32m估\u001b[0m\u001b[32m字\u001b[0m\u001b[32m数\u001b[0m\u001b[32m：\u001b[0m\u001b[32m500\u001b[0m\u001b[32m字\u001b[0m\u001b[32m\n",
      "-\u001b[0m\u001b[32m 创\u001b[0m\u001b[32m意\u001b[0m\u001b[32m要点\u001b[0m\u001b[32m：\u001b[0m\u001b[32m如何\u001b[0m\u001b[32m使\u001b[0m\u001b[32m引用\u001b[0m\u001b[32m素材\u001b[0m\u001b[32m与\u001b[0m\u001b[32m文章\u001b[0m\u001b[32m内容\u001b[0m\u001b[32m紧密结合\u001b[0m\u001b[32m\n",
      "-\u001b[0m\u001b[32m 创\u001b[0m\u001b[32m作\u001b[0m\u001b[32m思路\u001b[0m\u001b[32m：\u001b[0m\u001b[32m如何\u001b[0m\u001b[32m将\u001b[0m\u001b[32m素材\u001b[0m\u001b[32m融入\u001b[0m\u001b[32m文章\u001b[0m\u001b[32m中\u001b[0m\u001b[32m\n",
      "-\u001b[0m\u001b[32m 创\u001b[0m\u001b[32m作\u001b[0m\u001b[32m中\u001b[0m\u001b[32m涉及\u001b[0m\u001b[32m到的\u001b[0m\u001b[32m实体\u001b[0m\u001b[32m名称\u001b[0m\u001b[32m：\u001b[0m\u001b[32m引用\u001b[0m\u001b[32m、\u001b[0m\u001b[32m参考文献\u001b[0m\u001b[32m、\u001b[0m\u001b[32m数据\u001b[0m\u001b[32m、\u001b[0m\u001b[32m案例\u001b[0m\u001b[32m\n",
      "</\u001b[0m\u001b[32mOUT\u001b[0m\u001b[32mLINE\u001b[0m\u001b[32m>\u001b[0m\u001b[32m\u001b[0m\u001b[31m\n",
      "\n",
      "已保存 ./教程/README提纲.md, 共计 941 字。\n",
      "\u001b[0m"
     ]
    }
   ],
   "source": [
    "task = \"\"\"\n",
    "请帮生成一个中文readme.文件，从第一级标题开始。\n",
    "内容是指导新手如何使用`textlong`这个python包。\n",
    "这需要包括dotenv使用、textlong加载、使用Project创作长文（其中又包括创作提纲、扩写、引用素材等几部份）\n",
    "\"\"\"\n",
    "p.outline(output_file=\"README提纲.md\", task=task, verbose=False)"
   ]
  },
  {
   "cell_type": "markdown",
   "id": "858fde14-bca5-4ccf-9089-e89fa4ad3bf4",
   "metadata": {},
   "source": [
    "### 扩写"
   ]
  },
  {
   "cell_type": "code",
   "execution_count": 11,
   "id": "4bd73470-f48b-4d8a-a3a7-7a902c71b063",
   "metadata": {},
   "outputs": [
    {
     "name": "stdout",
     "output_type": "stream",
     "text": [
      "{'heading', 'OUTLINE', 'blank_line'}\n"
     ]
    }
   ],
   "source": [
    "from textlong.writing import from_outline, MarkdownLoader\n",
    "from textlong.writing.base import gather_docs\n",
    "\n",
    "d = MarkdownLoader(gather_docs(\"README提纲.md\", \"教程\"))\n",
    "d.get_todo_documents('outline')\n",
    "d.types"
   ]
  },
  {
   "cell_type": "code",
   "execution_count": 13,
   "id": "2b3dc504-ac88-40b1-b3cd-20c5f07602e1",
   "metadata": {},
   "outputs": [
    {
     "name": "stdout",
     "output_type": "stream",
     "text": [
      "\u001b[34m\n",
      ">->>> Prompt ID: FROM_OUTLINE | README.md <<<-<\n",
      "\u001b[0m\u001b[33m\n",
      "# 使用`textlong`包创作长文指南\n",
      "\n",
      "\n",
      "## 一、dotenv使用\n",
      "\n",
      "\n",
      "\u001b[0m\u001b[32m<\u001b[0m\u001b[32mOUT\u001b[0m\u001b[32mLINE\u001b[0m\u001b[32m>\n",
      "dotenv\u001b[0m\u001b[32m是一个\u001b[0m\u001b[32m强大的\u001b[0m\u001b[32mPython\u001b[0m\u001b[32m库\u001b[0m\u001b[32m，\u001b[0m\u001b[32m用于\u001b[0m\u001b[32m管理\u001b[0m\u001b[32m环境\u001b[0m\u001b[32m变量\u001b[0m\u001b[32m。\u001b[0m\u001b[32m通过\u001b[0m\u001b[32m使用\u001b[0m\u001b[32mdotenv\u001b[0m\u001b[32m，\u001b[0m\u001b[32m我们\u001b[0m\u001b[32m可以在\u001b[0m\u001b[32mPython\u001b[0m\u001b[32m项目中\u001b[0m\u001b[32m隔离\u001b[0m\u001b[32m不同的\u001b[0m\u001b[32m环境\u001b[0m\u001b[32m配置\u001b[0m\u001b[32m，\u001b[0m\u001b[32m使\u001b[0m\u001b[32m代码\u001b[0m\u001b[32m更\u001b[0m\u001b[32m易于\u001b[0m\u001b[32m维护\u001b[0m\u001b[32m和\u001b[0m\u001b[32m部署\u001b[0m\u001b[32m。\n",
      "\n",
      "###\u001b[0m\u001b[32m \u001b[0m\u001b[32m1\u001b[0m\u001b[32m、\u001b[0m\u001b[32mdotenv\u001b[0m\u001b[32m的基本\u001b[0m\u001b[32m安装\u001b[0m\u001b[32m和使用\u001b[0m\u001b[32m方法\u001b[0m\u001b[32m\n",
      "\n",
      "首先\u001b[0m\u001b[32m，\u001b[0m\u001b[32m你需要\u001b[0m\u001b[32m安装\u001b[0m\u001b[32mdotenv\u001b[0m\u001b[32m库\u001b[0m\u001b[32m。\u001b[0m\u001b[32m可以通过\u001b[0m\u001b[32m以下\u001b[0m\u001b[32m命令\u001b[0m\u001b[32m进行\u001b[0m\u001b[32m安装\u001b[0m\u001b[32m：\n",
      "\n",
      "```\u001b[0m\u001b[32mbash\u001b[0m\u001b[32m\n",
      "pip\u001b[0m\u001b[32m install\u001b[0m\u001b[32m python\u001b[0m\u001b[32m-dot\u001b[0m\u001b[32menv\u001b[0m\u001b[32m\n",
      "``\u001b[0m\u001b[32m`\n",
      "\n",
      "安装\u001b[0m\u001b[32m完成后\u001b[0m\u001b[32m，\u001b[0m\u001b[32m你\u001b[0m\u001b[32m可以在\u001b[0m\u001b[32mPython\u001b[0m\u001b[32m项目中\u001b[0m\u001b[32m创建\u001b[0m\u001b[32m一个\u001b[0m\u001b[32m名为\u001b[0m\u001b[32m`.\u001b[0m\u001b[32menv\u001b[0m\u001b[32m`\u001b[0m\u001b[32m的\u001b[0m\u001b[32m文件\u001b[0m\u001b[32m，\u001b[0m\u001b[32m并将\u001b[0m\u001b[32m需要\u001b[0m\u001b[32m设置\u001b[0m\u001b[32m的环境\u001b[0m\u001b[32m变量\u001b[0m\u001b[32m以\u001b[0m\u001b[32m键\u001b[0m\u001b[32m值\u001b[0m\u001b[32m对\u001b[0m\u001b[32m的形式\u001b[0m\u001b[32m写入\u001b[0m\u001b[32m其中\u001b[0m\u001b[32m。\u001b[0m\u001b[32m例如\u001b[0m\u001b[32m：\n",
      "\n",
      "``\u001b[0m\u001b[32m`\n",
      "#\u001b[0m\u001b[32m .\u001b[0m\u001b[32menv\u001b[0m\u001b[32m文件\u001b[0m\u001b[32m\n",
      "API\u001b[0m\u001b[32m_KEY\u001b[0m\u001b[32m=\u001b[0m\u001b[32myour\u001b[0m\u001b[32m_api\u001b[0m\u001b[32m_key\u001b[0m\u001b[32m\n",
      "DATABASE\u001b[0m\u001b[32m_URL\u001b[0m\u001b[32m=\u001b[0m\u001b[32myour\u001b[0m\u001b[32m_database\u001b[0m\u001b[32m_url\u001b[0m\u001b[32m\n",
      "``\u001b[0m\u001b[32m`\n",
      "\n",
      "接下来\u001b[0m\u001b[32m，\u001b[0m\u001b[32m在\u001b[0m\u001b[32mPython\u001b[0m\u001b[32m代码\u001b[0m\u001b[32m中\u001b[0m\u001b[32m，\u001b[0m\u001b[32m你可以\u001b[0m\u001b[32m使用\u001b[0m\u001b[32m以下\u001b[0m\u001b[32m代码\u001b[0m\u001b[32m加载\u001b[0m\u001b[32m`.\u001b[0m\u001b[32menv\u001b[0m\u001b[32m`\u001b[0m\u001b[32m文件\u001b[0m\u001b[32m：\n",
      "\n",
      "```\u001b[0m\u001b[32mpython\u001b[0m\u001b[32m\n",
      "from\u001b[0m\u001b[32m dotenv\u001b[0m\u001b[32m import\u001b[0m\u001b[32m load\u001b[0m\u001b[32m_dot\u001b[0m\u001b[32menv\u001b[0m\u001b[32m\n",
      "\n",
      "load\u001b[0m\u001b[32m_dot\u001b[0m\u001b[32menv\u001b[0m\u001b[32m('.\u001b[0m\u001b[32menv\u001b[0m\u001b[32m')\n",
      "``\u001b[0m\u001b[32m`\n",
      "\n",
      "这样\u001b[0m\u001b[32m，\u001b[0m\u001b[32mdotenv\u001b[0m\u001b[32m就会\u001b[0m\u001b[32m自动\u001b[0m\u001b[32m解析\u001b[0m\u001b[32m`.\u001b[0m\u001b[32menv\u001b[0m\u001b[32m`\u001b[0m\u001b[32m文件\u001b[0m\u001b[32m中的\u001b[0m\u001b[32m环境\u001b[0m\u001b[32m变量\u001b[0m\u001b[32m，\u001b[0m\u001b[32m并在\u001b[0m\u001b[32m你的\u001b[0m\u001b[32mPython\u001b[0m\u001b[32m代码\u001b[0m\u001b[32m中使用\u001b[0m\u001b[32m它们\u001b[0m\u001b[32m。\n",
      "\n",
      "###\u001b[0m\u001b[32m \u001b[0m\u001b[32m2\u001b[0m\u001b[32m、\u001b[0m\u001b[32m通过\u001b[0m\u001b[32mdotenv\u001b[0m\u001b[32m加载\u001b[0m\u001b[32m不同的\u001b[0m\u001b[32m环境\u001b[0m\u001b[32m配置\u001b[0m\u001b[32m文件\u001b[0m\u001b[32m\n",
      "\n",
      "有时\u001b[0m\u001b[32m，\u001b[0m\u001b[32m你可能\u001b[0m\u001b[32m需要\u001b[0m\u001b[32m根据\u001b[0m\u001b[32m不同的\u001b[0m\u001b[32m环境\u001b[0m\u001b[32m（\u001b[0m\u001b[32m如\u001b[0m\u001b[32m开发\u001b[0m\u001b[32m、\u001b[0m\u001b[32m测试\u001b[0m\u001b[32m、\u001b[0m\u001b[32m生产\u001b[0m\u001b[32m）\u001b[0m\u001b[32m加载\u001b[0m\u001b[32m不同的\u001b[0m\u001b[32m配置\u001b[0m\u001b[32m文件\u001b[0m\u001b[32m。\u001b[0m\u001b[32m在这种情况下\u001b[0m\u001b[32m，\u001b[0m\u001b[32m你可以\u001b[0m\u001b[32m使用\u001b[0m\u001b[32m以下\u001b[0m\u001b[32m方法\u001b[0m\u001b[32m：\n",
      "\n",
      "首先\u001b[0m\u001b[32m，\u001b[0m\u001b[32m创建\u001b[0m\u001b[32m不同的\u001b[0m\u001b[32m环境\u001b[0m\u001b[32m配置\u001b[0m\u001b[32m文件\u001b[0m\u001b[32m，\u001b[0m\u001b[32m例如\u001b[0m\u001b[32m：\n",
      "\n",
      "-\u001b[0m\u001b[32m `.\u001b[0m\u001b[32menv\u001b[0m\u001b[32m.de\u001b[0m\u001b[32mvelopment\u001b[0m\u001b[32m`\n",
      "-\u001b[0m\u001b[32m `.\u001b[0m\u001b[32menv\u001b[0m\u001b[32m.test\u001b[0m\u001b[32m`\n",
      "-\u001b[0m\u001b[32m `.\u001b[0m\u001b[32menv\u001b[0m\u001b[32m.production\u001b[0m\u001b[32m`\n",
      "\n",
      "然后\u001b[0m\u001b[32m，\u001b[0m\u001b[32m在\u001b[0m\u001b[32m代码\u001b[0m\u001b[32m中\u001b[0m\u001b[32m根据\u001b[0m\u001b[32m当前\u001b[0m\u001b[32m环境\u001b[0m\u001b[32m加载\u001b[0m\u001b[32m相应的\u001b[0m\u001b[32m配置\u001b[0m\u001b[32m文件\u001b[0m\u001b[32m：\n",
      "\n",
      "```\u001b[0m\u001b[32mpython\u001b[0m\u001b[32m\n",
      "import\u001b[0m\u001b[32m os\u001b[0m\u001b[32m\n",
      "\n",
      "#\u001b[0m\u001b[32m 获取\u001b[0m\u001b[32m当前\u001b[0m\u001b[32m环境\u001b[0m\u001b[32m变量\u001b[0m\u001b[32m\n",
      "env\u001b[0m\u001b[32m =\u001b[0m\u001b[32m os\u001b[0m\u001b[32m.getenv\u001b[0m\u001b[32m('\u001b[0m\u001b[32mENV\u001b[0m\u001b[32m',\u001b[0m\u001b[32m '\u001b[0m\u001b[32mdevelopment\u001b[0m\u001b[32m')\n",
      "\n",
      "#\u001b[0m\u001b[32m 加\u001b[0m\u001b[32m载\u001b[0m\u001b[32m对应\u001b[0m\u001b[32m环境的\u001b[0m\u001b[32m配置\u001b[0m\u001b[32m文件\u001b[0m\u001b[32m\n",
      "load\u001b[0m\u001b[32m_dot\u001b[0m\u001b[32menv\u001b[0m\u001b[32m(f\u001b[0m\u001b[32m'.\u001b[0m\u001b[32menv\u001b[0m\u001b[32m.{\u001b[0m\u001b[32menv\u001b[0m\u001b[32m}')\n",
      "``\u001b[0m\u001b[32m`\n",
      "\n",
      "这样\u001b[0m\u001b[32m，\u001b[0m\u001b[32m你的\u001b[0m\u001b[32mPython\u001b[0m\u001b[32m项目\u001b[0m\u001b[32m就可以\u001b[0m\u001b[32m根据\u001b[0m\u001b[32m当前\u001b[0m\u001b[32m环境\u001b[0m\u001b[32m加载\u001b[0m\u001b[32m相应的\u001b[0m\u001b[32m配置\u001b[0m\u001b[32m了\u001b[0m\u001b[32m。\n",
      "\n",
      "###\u001b[0m\u001b[32m \u001b[0m\u001b[32m3\u001b[0m\u001b[32m、\u001b[0m\u001b[32m示例\u001b[0m\u001b[32m：\u001b[0m\u001b[32m在\u001b[0m\u001b[32mPython\u001b[0m\u001b[32m项目中\u001b[0m\u001b[32m使用\u001b[0m\u001b[32mdotenv\u001b[0m\u001b[32m\n",
      "\n",
      "以下\u001b[0m\u001b[32m是一个\u001b[0m\u001b[32m简单的\u001b[0m\u001b[32m示例\u001b[0m\u001b[32m，\u001b[0m\u001b[32m展示\u001b[0m\u001b[32m如何在\u001b[0m\u001b[32mPython\u001b[0m\u001b[32m项目中\u001b[0m\u001b[32m使用\u001b[0m\u001b[32mdotenv\u001b[0m\u001b[32m：\n",
      "\n",
      "```\u001b[0m\u001b[32mpython\u001b[0m\u001b[32m\n",
      "from\u001b[0m\u001b[32m dotenv\u001b[0m\u001b[32m import\u001b[0m\u001b[32m load\u001b[0m\u001b[32m_dot\u001b[0m\u001b[32menv\u001b[0m\u001b[32m\n",
      "\n",
      "#\u001b[0m\u001b[32m 加\u001b[0m\u001b[32m载\u001b[0m\u001b[32m.env\u001b[0m\u001b[32m文件\u001b[0m\u001b[32m\n",
      "load\u001b[0m\u001b[32m_dot\u001b[0m\u001b[32menv\u001b[0m\u001b[32m('.\u001b[0m\u001b[32menv\u001b[0m\u001b[32m')\n",
      "\n",
      "#\u001b[0m\u001b[32m 使用\u001b[0m\u001b[32m环境\u001b[0m\u001b[32m变量\u001b[0m\u001b[32m\n",
      "api\u001b[0m\u001b[32m_key\u001b[0m\u001b[32m =\u001b[0m\u001b[32m os\u001b[0m\u001b[32m.getenv\u001b[0m\u001b[32m('\u001b[0m\u001b[32mAPI\u001b[0m\u001b[32m_KEY\u001b[0m\u001b[32m')\n",
      "database\u001b[0m\u001b[32m_url\u001b[0m\u001b[32m =\u001b[0m\u001b[32m os\u001b[0m\u001b[32m.getenv\u001b[0m\u001b[32m('\u001b[0m\u001b[32mDATABASE\u001b[0m\u001b[32m_URL\u001b[0m\u001b[32m')\n",
      "\n",
      "print\u001b[0m\u001b[32m(f\u001b[0m\u001b[32m'\u001b[0m\u001b[32mAPI\u001b[0m\u001b[32m Key\u001b[0m\u001b[32m:\u001b[0m\u001b[32m {\u001b[0m\u001b[32mapi\u001b[0m\u001b[32m_key\u001b[0m\u001b[32m}')\n",
      "print\u001b[0m\u001b[32m(f\u001b[0m\u001b[32m'D\u001b[0m\u001b[32matabase\u001b[0m\u001b[32m URL\u001b[0m\u001b[32m:\u001b[0m\u001b[32m {\u001b[0m\u001b[32mdatabase\u001b[0m\u001b[32m_url\u001b[0m\u001b[32m}')\n",
      "``\u001b[0m\u001b[32m`\n",
      "\n",
      "在这个\u001b[0m\u001b[32m示例\u001b[0m\u001b[32m中\u001b[0m\u001b[32m，\u001b[0m\u001b[32m我们\u001b[0m\u001b[32m首先\u001b[0m\u001b[32m加载\u001b[0m\u001b[32m了\u001b[0m\u001b[32m`.\u001b[0m\u001b[32menv\u001b[0m\u001b[32m`\u001b[0m\u001b[32m文件\u001b[0m\u001b[32m，\u001b[0m\u001b[32m然后\u001b[0m\u001b[32m获取\u001b[0m\u001b[32m了\u001b[0m\u001b[32m其中的\u001b[0m\u001b[32m`\u001b[0m\u001b[32mAPI\u001b[0m\u001b[32m_KEY\u001b[0m\u001b[32m`\u001b[0m\u001b[32m和\u001b[0m\u001b[32m`\u001b[0m\u001b[32mDATABASE\u001b[0m\u001b[32m_URL\u001b[0m\u001b[32m`\u001b[0m\u001b[32m环境\u001b[0m\u001b[32m变量\u001b[0m\u001b[32m，\u001b[0m\u001b[32m并在\u001b[0m\u001b[32m控制\u001b[0m\u001b[32m台中\u001b[0m\u001b[32m打印\u001b[0m\u001b[32m了\u001b[0m\u001b[32m它们\u001b[0m\u001b[32m。\u001b[0m\u001b[32m这样\u001b[0m\u001b[32m，\u001b[0m\u001b[32m你\u001b[0m\u001b[32m就可以\u001b[0m\u001b[32m在\u001b[0m\u001b[32mPython\u001b[0m\u001b[32m项目中\u001b[0m\u001b[32m轻松\u001b[0m\u001b[32m地\u001b[0m\u001b[32m使用\u001b[0m\u001b[32m环境\u001b[0m\u001b[32m变量\u001b[0m\u001b[32m了\u001b[0m\u001b[32m。\n",
      "</\u001b[0m\u001b[32mOUT\u001b[0m\u001b[32mLINE\u001b[0m\u001b[32m>\u001b[0m\u001b[32m\u001b[0m\u001b[33m\n",
      "\u001b[0m\u001b[33m\n",
      "## 二、textlong加载\n",
      "\n",
      "\n",
      "\u001b[0m\u001b[32m<\u001b[0m\u001b[32mOUT\u001b[0m\u001b[32mLINE\u001b[0m\u001b[32m>\n",
      "##\u001b[0m\u001b[32m 二\u001b[0m\u001b[32m、\u001b[0m\u001b[32mtext\u001b[0m\u001b[32mlong\u001b[0m\u001b[32m加载\u001b[0m\u001b[32m\n",
      "\n",
      "###\u001b[0m\u001b[32m \u001b[0m\u001b[32m1\u001b[0m\u001b[32m、\u001b[0m\u001b[32mtext\u001b[0m\u001b[32mlong\u001b[0m\u001b[32m的基本\u001b[0m\u001b[32m安装\u001b[0m\u001b[32m方法\u001b[0m\u001b[32m\n",
      "\n",
      "text\u001b[0m\u001b[32mlong\u001b[0m\u001b[32m是一个\u001b[0m\u001b[32m开源\u001b[0m\u001b[32m的\u001b[0m\u001b[32mPython\u001b[0m\u001b[32m包\u001b[0m\u001b[32m，\u001b[0m\u001b[32m可以通过\u001b[0m\u001b[32mpip\u001b[0m\u001b[32m工具\u001b[0m\u001b[32m轻松\u001b[0m\u001b[32m安装\u001b[0m\u001b[32m。\u001b[0m\u001b[32m在\u001b[0m\u001b[32m命令\u001b[0m\u001b[32m行\u001b[0m\u001b[32m中\u001b[0m\u001b[32m运行\u001b[0m\u001b[32m以下\u001b[0m\u001b[32m命令\u001b[0m\u001b[32m即可\u001b[0m\u001b[32m完成\u001b[0m\u001b[32m安装\u001b[0m\u001b[32m：\n",
      "\n",
      "```\u001b[0m\u001b[32mshell\u001b[0m\u001b[32m\n",
      "pip\u001b[0m\u001b[32m install\u001b[0m\u001b[32m text\u001b[0m\u001b[32mlong\u001b[0m\u001b[32m\n",
      "``\u001b[0m\u001b[32m`\n",
      "\n",
      "###\u001b[0m\u001b[32m \u001b[0m\u001b[32m2\u001b[0m\u001b[32m、\u001b[0m\u001b[32m导入\u001b[0m\u001b[32mtext\u001b[0m\u001b[32mlong\u001b[0m\u001b[32m包\u001b[0m\u001b[32m\n",
      "\n",
      "安装\u001b[0m\u001b[32m完成后\u001b[0m\u001b[32m，\u001b[0m\u001b[32m你\u001b[0m\u001b[32m可以在\u001b[0m\u001b[32mPython\u001b[0m\u001b[32m代码\u001b[0m\u001b[32m中\u001b[0m\u001b[32m导入\u001b[0m\u001b[32mtext\u001b[0m\u001b[32mlong\u001b[0m\u001b[32m包\u001b[0m\u001b[32m，\u001b[0m\u001b[32m以便\u001b[0m\u001b[32m使用\u001b[0m\u001b[32m它\u001b[0m\u001b[32m提供的\u001b[0m\u001b[32m功能\u001b[0m\u001b[32m。\u001b[0m\u001b[32m以下是\u001b[0m\u001b[32m导入\u001b[0m\u001b[32mtext\u001b[0m\u001b[32mlong\u001b[0m\u001b[32m包\u001b[0m\u001b[32m的\u001b[0m\u001b[32m示例\u001b[0m\u001b[32m：\n",
      "\n",
      "```\u001b[0m\u001b[32mpython\u001b[0m\u001b[32m\n",
      "import\u001b[0m\u001b[32m text\u001b[0m\u001b[32mlong\u001b[0m\u001b[32m\n",
      "``\u001b[0m\u001b[32m`\n",
      "\n",
      "###\u001b[0m\u001b[32m \u001b[0m\u001b[32m3\u001b[0m\u001b[32m、\u001b[0m\u001b[32m示例\u001b[0m\u001b[32m：\u001b[0m\u001b[32m使用\u001b[0m\u001b[32mtext\u001b[0m\u001b[32mlong\u001b[0m\u001b[32m包\u001b[0m\u001b[32m进行\u001b[0m\u001b[32m文本\u001b[0m\u001b[32m操作\u001b[0m\u001b[32m\n",
      "\n",
      "以下\u001b[0m\u001b[32m是一个\u001b[0m\u001b[32m简单的\u001b[0m\u001b[32m示例\u001b[0m\u001b[32m，\u001b[0m\u001b[32m展示\u001b[0m\u001b[32m如何\u001b[0m\u001b[32m使用\u001b[0m\u001b[32mtext\u001b[0m\u001b[32mlong\u001b[0m\u001b[32m包\u001b[0m\u001b[32m进行\u001b[0m\u001b[32m文本\u001b[0m\u001b[32m操作\u001b[0m\u001b[32m：\n",
      "\n",
      "```\u001b[0m\u001b[32mpython\u001b[0m\u001b[32m\n",
      "import\u001b[0m\u001b[32m text\u001b[0m\u001b[32mlong\u001b[0m\u001b[32m\n",
      "\n",
      "#\u001b[0m\u001b[32m 创建\u001b[0m\u001b[32m一个\u001b[0m\u001b[32m文本\u001b[0m\u001b[32m对象\u001b[0m\u001b[32m\n",
      "text\u001b[0m\u001b[32m =\u001b[0m\u001b[32m text\u001b[0m\u001b[32mlong\u001b[0m\u001b[32m.Text\u001b[0m\u001b[32m(\"\u001b[0m\u001b[32mHello\u001b[0m\u001b[32m,\u001b[0m\u001b[32m world\u001b[0m\u001b[32m!\")\n",
      "\n",
      "#\u001b[0m\u001b[32m 添加\u001b[0m\u001b[32m段落\u001b[0m\u001b[32m\n",
      "text\u001b[0m\u001b[32m.add\u001b[0m\u001b[32m_paragraph\u001b[0m\u001b[32m(\"\u001b[0m\u001b[32mThis\u001b[0m\u001b[32m is\u001b[0m\u001b[32m the\u001b[0m\u001b[32m first\u001b[0m\u001b[32m paragraph\u001b[0m\u001b[32m.\")\n",
      "text\u001b[0m\u001b[32m.add\u001b[0m\u001b[32m_paragraph\u001b[0m\u001b[32m(\"\u001b[0m\u001b[32mThis\u001b[0m\u001b[32m is\u001b[0m\u001b[32m the\u001b[0m\u001b[32m second\u001b[0m\u001b[32m paragraph\u001b[0m\u001b[32m.\")\n",
      "\n",
      "#\u001b[0m\u001b[32m 添加\u001b[0m\u001b[32m标题\u001b[0m\u001b[32m\n",
      "text\u001b[0m\u001b[32m.add\u001b[0m\u001b[32m_heading\u001b[0m\u001b[32m(\u001b[0m\u001b[32m1\u001b[0m\u001b[32m,\u001b[0m\u001b[32m \"\u001b[0m\u001b[32mThis\u001b[0m\u001b[32m is\u001b[0m\u001b[32m a\u001b[0m\u001b[32m heading\u001b[0m\u001b[32m\")\n",
      "text\u001b[0m\u001b[32m.add\u001b[0m\u001b[32m_heading\u001b[0m\u001b[32m(\u001b[0m\u001b[32m2\u001b[0m\u001b[32m,\u001b[0m\u001b[32m \"\u001b[0m\u001b[32mThis\u001b[0m\u001b[32m is\u001b[0m\u001b[32m another\u001b[0m\u001b[32m heading\u001b[0m\u001b[32m\")\n",
      "\n",
      "#\u001b[0m\u001b[32m 打\u001b[0m\u001b[32m印\u001b[0m\u001b[32m文本\u001b[0m\u001b[32m\n",
      "print\u001b[0m\u001b[32m(text\u001b[0m\u001b[32m.get\u001b[0m\u001b[32m_text\u001b[0m\u001b[32m())\n",
      "``\u001b[0m\u001b[32m`\n",
      "\n",
      "在这个\u001b[0m\u001b[32m示例\u001b[0m\u001b[32m中\u001b[0m\u001b[32m，\u001b[0m\u001b[32m我们\u001b[0m\u001b[32m首先\u001b[0m\u001b[32m创建\u001b[0m\u001b[32m了一个\u001b[0m\u001b[32m文本\u001b[0m\u001b[32m对象\u001b[0m\u001b[32m，\u001b[0m\u001b[32m然后\u001b[0m\u001b[32m向\u001b[0m\u001b[32m其中\u001b[0m\u001b[32m添加\u001b[0m\u001b[32m了\u001b[0m\u001b[32m段落\u001b[0m\u001b[32m和\u001b[0m\u001b[32m标题\u001b[0m\u001b[32m。\u001b[0m\u001b[32m最后\u001b[0m\u001b[32m，\u001b[0m\u001b[32m我们\u001b[0m\u001b[32m使用\u001b[0m\u001b[32m`\u001b[0m\u001b[32mget\u001b[0m\u001b[32m_text\u001b[0m\u001b[32m()`\u001b[0m\u001b[32m方法\u001b[0m\u001b[32m获取\u001b[0m\u001b[32m并\u001b[0m\u001b[32m打印\u001b[0m\u001b[32m整个\u001b[0m\u001b[32m文本\u001b[0m\u001b[32m内容\u001b[0m\u001b[32m。\u001b[0m\u001b[32m这样\u001b[0m\u001b[32m，\u001b[0m\u001b[32m你\u001b[0m\u001b[32m就可以\u001b[0m\u001b[32m使用\u001b[0m\u001b[32mtext\u001b[0m\u001b[32mlong\u001b[0m\u001b[32m包\u001b[0m\u001b[32m来\u001b[0m\u001b[32m创建\u001b[0m\u001b[32m和管理\u001b[0m\u001b[32m长\u001b[0m\u001b[32m文\u001b[0m\u001b[32m内容\u001b[0m\u001b[32m了\u001b[0m\u001b[32m。\u001b[0m\u001b[32m \n",
      "</\u001b[0m\u001b[32mOUT\u001b[0m\u001b[32mLINE\u001b[0m\u001b[32m>\u001b[0m\u001b[32m\u001b[0m\u001b[33m\n",
      "\u001b[0m\u001b[33m\n",
      "## 三、使用textlong创作长文\n",
      "\n",
      "\n",
      "### 1、创作提纲\n",
      "\n",
      "\n",
      "\u001b[0m\u001b[32m<\u001b[0m\u001b[32mOUT\u001b[0m\u001b[32mLINE\u001b[0m\u001b[32m>\n",
      "创作\u001b[0m\u001b[32m提\u001b[0m\u001b[32m纲\u001b[0m\u001b[32m是\u001b[0m\u001b[32m写作\u001b[0m\u001b[32m长\u001b[0m\u001b[32m文\u001b[0m\u001b[32m的第一\u001b[0m\u001b[32m步\u001b[0m\u001b[32m，\u001b[0m\u001b[32m它\u001b[0m\u001b[32m对于\u001b[0m\u001b[32m组织和\u001b[0m\u001b[32m规划\u001b[0m\u001b[32m文章\u001b[0m\u001b[32m的结构\u001b[0m\u001b[32m至关重要\u001b[0m\u001b[32m。\u001b[0m\u001b[32m一个\u001b[0m\u001b[32m清晰\u001b[0m\u001b[32m、\u001b[0m\u001b[32m合理的\u001b[0m\u001b[32m提\u001b[0m\u001b[32m纲\u001b[0m\u001b[32m能够\u001b[0m\u001b[32m帮助\u001b[0m\u001b[32m作者\u001b[0m\u001b[32m理\u001b[0m\u001b[32m清\u001b[0m\u001b[32m思路\u001b[0m\u001b[32m，\u001b[0m\u001b[32m确保\u001b[0m\u001b[32m文章\u001b[0m\u001b[32m内容的\u001b[0m\u001b[32m连贯\u001b[0m\u001b[32m性和\u001b[0m\u001b[32m逻辑\u001b[0m\u001b[32m性\u001b[0m\u001b[32m。\n",
      "\n",
      "创作\u001b[0m\u001b[32m提\u001b[0m\u001b[32m纲\u001b[0m\u001b[32m的基本\u001b[0m\u001b[32m步骤\u001b[0m\u001b[32m如下\u001b[0m\u001b[32m：\n",
      "\n",
      "1\u001b[0m\u001b[32m.\u001b[0m\u001b[32m **\u001b[0m\u001b[32m明确\u001b[0m\u001b[32m主题\u001b[0m\u001b[32m和\u001b[0m\u001b[32m目的\u001b[0m\u001b[32m**\u001b[0m\u001b[32m：\u001b[0m\u001b[32m在\u001b[0m\u001b[32m开始\u001b[0m\u001b[32m创作\u001b[0m\u001b[32m提\u001b[0m\u001b[32m纲\u001b[0m\u001b[32m之前\u001b[0m\u001b[32m，\u001b[0m\u001b[32m首先要\u001b[0m\u001b[32m明确\u001b[0m\u001b[32m文章\u001b[0m\u001b[32m的主题\u001b[0m\u001b[32m和\u001b[0m\u001b[32m写作\u001b[0m\u001b[32m目的\u001b[0m\u001b[32m。\u001b[0m\u001b[32m这将\u001b[0m\u001b[32m有助于\u001b[0m\u001b[32m确保\u001b[0m\u001b[32m提\u001b[0m\u001b[32m纲\u001b[0m\u001b[32m的\u001b[0m\u001b[32m针对性\u001b[0m\u001b[32m，\u001b[0m\u001b[32m使\u001b[0m\u001b[32m文章\u001b[0m\u001b[32m更加\u001b[0m\u001b[32m聚焦\u001b[0m\u001b[32m。\n",
      "\n",
      "2\u001b[0m\u001b[32m.\u001b[0m\u001b[32m **\u001b[0m\u001b[32m收集\u001b[0m\u001b[32m资料\u001b[0m\u001b[32m**\u001b[0m\u001b[32m：\u001b[0m\u001b[32m根据\u001b[0m\u001b[32m主题\u001b[0m\u001b[32m和\u001b[0m\u001b[32m目的\u001b[0m\u001b[32m，\u001b[0m\u001b[32m搜集\u001b[0m\u001b[32m相关\u001b[0m\u001b[32m资料\u001b[0m\u001b[32m，\u001b[0m\u001b[32m为\u001b[0m\u001b[32m提\u001b[0m\u001b[32m纲\u001b[0m\u001b[32m提供\u001b[0m\u001b[32m支撑\u001b[0m\u001b[32m。\u001b[0m\u001b[32m这些\u001b[0m\u001b[32m资料\u001b[0m\u001b[32m可以\u001b[0m\u001b[32m包括\u001b[0m\u001b[32m书籍\u001b[0m\u001b[32m、\u001b[0m\u001b[32m文章\u001b[0m\u001b[32m、\u001b[0m\u001b[32m研究报告\u001b[0m\u001b[32m等\u001b[0m\u001b[32m。\n",
      "\n",
      "3\u001b[0m\u001b[32m.\u001b[0m\u001b[32m **\u001b[0m\u001b[32m列出\u001b[0m\u001b[32m主要\u001b[0m\u001b[32m观点\u001b[0m\u001b[32m**\u001b[0m\u001b[32m：\u001b[0m\u001b[32m将\u001b[0m\u001b[32m收集\u001b[0m\u001b[32m到的\u001b[0m\u001b[32m资料\u001b[0m\u001b[32m进行\u001b[0m\u001b[32m整理\u001b[0m\u001b[32m，\u001b[0m\u001b[32m提炼\u001b[0m\u001b[32m出\u001b[0m\u001b[32m文章\u001b[0m\u001b[32m的主要\u001b[0m\u001b[32m观点\u001b[0m\u001b[32m。\u001b[0m\u001b[32m这些\u001b[0m\u001b[32m观点\u001b[0m\u001b[32m将成为\u001b[0m\u001b[32m提\u001b[0m\u001b[32m纲\u001b[0m\u001b[32m的核心\u001b[0m\u001b[32m内容\u001b[0m\u001b[32m。\n",
      "\n",
      "4\u001b[0m\u001b[32m.\u001b[0m\u001b[32m **\u001b[0m\u001b[32m构建\u001b[0m\u001b[32m结构\u001b[0m\u001b[32m**\u001b[0m\u001b[32m：\u001b[0m\u001b[32m根据\u001b[0m\u001b[32m主要\u001b[0m\u001b[32m观点\u001b[0m\u001b[32m，\u001b[0m\u001b[32m将\u001b[0m\u001b[32m文章\u001b[0m\u001b[32m分为\u001b[0m\u001b[32m若干\u001b[0m\u001b[32m章节\u001b[0m\u001b[32m，\u001b[0m\u001b[32m并\u001b[0m\u001b[32m确定\u001b[0m\u001b[32m各\u001b[0m\u001b[32m章节\u001b[0m\u001b[32m之间的\u001b[0m\u001b[32m逻辑\u001b[0m\u001b[32m关系\u001b[0m\u001b[32m。\n",
      "\n",
      "5\u001b[0m\u001b[32m.\u001b[0m\u001b[32m **\u001b[0m\u001b[32m细化\u001b[0m\u001b[32m内容\u001b[0m\u001b[32m**\u001b[0m\u001b[32m：\u001b[0m\u001b[32m在\u001b[0m\u001b[32m章节\u001b[0m\u001b[32m的基础上\u001b[0m\u001b[32m，\u001b[0m\u001b[32m进一步\u001b[0m\u001b[32m细化\u001b[0m\u001b[32m内容\u001b[0m\u001b[32m，\u001b[0m\u001b[32m列出\u001b[0m\u001b[32m每个\u001b[0m\u001b[32m章节\u001b[0m\u001b[32m下的\u001b[0m\u001b[32m主要\u001b[0m\u001b[32m段落\u001b[0m\u001b[32m和\u001b[0m\u001b[32m子\u001b[0m\u001b[32m观点\u001b[0m\u001b[32m。\n",
      "\n",
      "6\u001b[0m\u001b[32m.\u001b[0m\u001b[32m **\u001b[0m\u001b[32m调整\u001b[0m\u001b[32m和\u001b[0m\u001b[32m优化\u001b[0m\u001b[32m**\u001b[0m\u001b[32m：\u001b[0m\u001b[32m完成\u001b[0m\u001b[32m初步\u001b[0m\u001b[32m提\u001b[0m\u001b[32m纲\u001b[0m\u001b[32m后\u001b[0m\u001b[32m，\u001b[0m\u001b[32m对\u001b[0m\u001b[32m提\u001b[0m\u001b[32m纲\u001b[0m\u001b[32m进行\u001b[0m\u001b[32m多次\u001b[0m\u001b[32m调整\u001b[0m\u001b[32m和\u001b[0m\u001b[32m优化\u001b[0m\u001b[32m，\u001b[0m\u001b[32m确保\u001b[0m\u001b[32m其\u001b[0m\u001b[32m合理\u001b[0m\u001b[32m性和\u001b[0m\u001b[32m可\u001b[0m\u001b[32m操作性\u001b[0m\u001b[32m。\n",
      "\n",
      "根据\u001b[0m\u001b[32m主题\u001b[0m\u001b[32m和\u001b[0m\u001b[32m目标\u001b[0m\u001b[32m受众\u001b[0m\u001b[32m制定\u001b[0m\u001b[32m提\u001b[0m\u001b[32m纲\u001b[0m\u001b[32m时\u001b[0m\u001b[32m，\u001b[0m\u001b[32m以下\u001b[0m\u001b[32m是一些\u001b[0m\u001b[32m创意\u001b[0m\u001b[32m要点\u001b[0m\u001b[32m：\n",
      "\n",
      "-\u001b[0m\u001b[32m **\u001b[0m\u001b[32m考虑\u001b[0m\u001b[32m受众\u001b[0m\u001b[32m需求\u001b[0m\u001b[32m**\u001b[0m\u001b[32m：\u001b[0m\u001b[32m根据\u001b[0m\u001b[32m目标\u001b[0m\u001b[32m受众\u001b[0m\u001b[32m的兴趣\u001b[0m\u001b[32m、\u001b[0m\u001b[32m需求和\u001b[0m\u001b[32m知识\u001b[0m\u001b[32m水平\u001b[0m\u001b[32m，\u001b[0m\u001b[32m调整\u001b[0m\u001b[32m提\u001b[0m\u001b[32m纲\u001b[0m\u001b[32m的内容\u001b[0m\u001b[32m和\u001b[0m\u001b[32m深度\u001b[0m\u001b[32m。\n",
      "\n",
      "-\u001b[0m\u001b[32m **\u001b[0m\u001b[32m突出\u001b[0m\u001b[32m重点\u001b[0m\u001b[32m**\u001b[0m\u001b[32m：\u001b[0m\u001b[32m针对\u001b[0m\u001b[32m重要\u001b[0m\u001b[32m观点\u001b[0m\u001b[32m和\u001b[0m\u001b[32m关键\u001b[0m\u001b[32m信息\u001b[0m\u001b[32m，\u001b[0m\u001b[32m在\u001b[0m\u001b[32m提\u001b[0m\u001b[32m纲\u001b[0m\u001b[32m中\u001b[0m\u001b[32m加以\u001b[0m\u001b[32m强调\u001b[0m\u001b[32m。\n",
      "\n",
      "-\u001b[0m\u001b[32m **\u001b[0m\u001b[32m保持\u001b[0m\u001b[32m简洁\u001b[0m\u001b[32m**\u001b[0m\u001b[32m：\u001b[0m\u001b[32m尽量\u001b[0m\u001b[32m使\u001b[0m\u001b[32m提\u001b[0m\u001b[32m纲\u001b[0m\u001b[32m简洁\u001b[0m\u001b[32m明了\u001b[0m\u001b[32m，\u001b[0m\u001b[32m避免\u001b[0m\u001b[32m冗\u001b[0m\u001b[32m余\u001b[0m\u001b[32m信息\u001b[0m\u001b[32m。\n",
      "\n",
      "将\u001b[0m\u001b[32m提\u001b[0m\u001b[32m纲\u001b[0m\u001b[32m转化为\u001b[0m\u001b[32m具体\u001b[0m\u001b[32m内容\u001b[0m\u001b[32m时\u001b[0m\u001b[32m，\u001b[0m\u001b[32m可以\u001b[0m\u001b[32m遵循\u001b[0m\u001b[32m以下\u001b[0m\u001b[32m创作\u001b[0m\u001b[32m思路\u001b[0m\u001b[32m：\n",
      "\n",
      "-\u001b[0m\u001b[32m **\u001b[0m\u001b[32m从\u001b[0m\u001b[32m章节\u001b[0m\u001b[32m到\u001b[0m\u001b[32m段落\u001b[0m\u001b[32m**\u001b[0m\u001b[32m：\u001b[0m\u001b[32m按照\u001b[0m\u001b[32m提\u001b[0m\u001b[32m纲\u001b[0m\u001b[32m的结构\u001b[0m\u001b[32m，\u001b[0m\u001b[32m将\u001b[0m\u001b[32m章节\u001b[0m\u001b[32m内容\u001b[0m\u001b[32m细\u001b[0m\u001b[32m化为\u001b[0m\u001b[32m段落\u001b[0m\u001b[32m。\n",
      "\n",
      "-\u001b[0m\u001b[32m **\u001b[0m\u001b[32m添加\u001b[0m\u001b[32m细节\u001b[0m\u001b[32m**\u001b[0m\u001b[32m：\u001b[0m\u001b[32m在\u001b[0m\u001b[32m段落\u001b[0m\u001b[32m中\u001b[0m\u001b[32m添加\u001b[0m\u001b[32m具体\u001b[0m\u001b[32m案例\u001b[0m\u001b[32m、\u001b[0m\u001b[32m数据和\u001b[0m\u001b[32m实例\u001b[0m\u001b[32m，\u001b[0m\u001b[32m使\u001b[0m\u001b[32m文章\u001b[0m\u001b[32m更具\u001b[0m\u001b[32m说服\u001b[0m\u001b[32m力\u001b[0m\u001b[32m。\n",
      "\n",
      "-\u001b[0m\u001b[32m **\u001b[0m\u001b[32m注意\u001b[0m\u001b[32m逻辑\u001b[0m\u001b[32m**\u001b[0m\u001b[32m：\u001b[0m\u001b[32m确保\u001b[0m\u001b[32m段落\u001b[0m\u001b[32m之间的\u001b[0m\u001b[32m逻辑\u001b[0m\u001b[32m关系\u001b[0m\u001b[32m清晰\u001b[0m\u001b[32m，\u001b[0m\u001b[32m使\u001b[0m\u001b[32m文章\u001b[0m\u001b[32m读\u001b[0m\u001b[32m起来\u001b[0m\u001b[32m流畅\u001b[0m\u001b[32m。\n",
      "\n",
      "在\u001b[0m\u001b[32m创作\u001b[0m\u001b[32m过程中\u001b[0m\u001b[32m，\u001b[0m\u001b[32m以下\u001b[0m\u001b[32m实体\u001b[0m\u001b[32m名称\u001b[0m\u001b[32m将\u001b[0m\u001b[32m涉及\u001b[0m\u001b[32m：\n",
      "\n",
      "-\u001b[0m\u001b[32m **\u001b[0m\u001b[32m提\u001b[0m\u001b[32m纲\u001b[0m\u001b[32m**\u001b[0m\u001b[32m：\u001b[0m\u001b[32m文章\u001b[0m\u001b[32m的整体\u001b[0m\u001b[32m结构\u001b[0m\u001b[32m框架\u001b[0m\u001b[32m。\n",
      "-\u001b[0m\u001b[32m **\u001b[0m\u001b[32m章节\u001b[0m\u001b[32m**\u001b[0m\u001b[32m：\u001b[0m\u001b[32m文章\u001b[0m\u001b[32m的主要\u001b[0m\u001b[32m部分\u001b[0m\u001b[32m，\u001b[0m\u001b[32m包含\u001b[0m\u001b[32m相关\u001b[0m\u001b[32m内容\u001b[0m\u001b[32m。\n",
      "-\u001b[0m\u001b[32m **\u001b[0m\u001b[32m段落\u001b[0m\u001b[32m**\u001b[0m\u001b[32m：\u001b[0m\u001b[32m章节\u001b[0m\u001b[32m中的\u001b[0m\u001b[32m具体\u001b[0m\u001b[32m内容\u001b[0m\u001b[32m，\u001b[0m\u001b[32m通常\u001b[0m\u001b[32m围绕\u001b[0m\u001b[32m一个\u001b[0m\u001b[32m中心\u001b[0m\u001b[32m思想\u001b[0m\u001b[32m展开\u001b[0m\u001b[32m。\n",
      "-\u001b[0m\u001b[32m **\u001b[0m\u001b[32m标题\u001b[0m\u001b[32m**\u001b[0m\u001b[32m：\u001b[0m\u001b[32m对\u001b[0m\u001b[32m段落\u001b[0m\u001b[32m或\u001b[0m\u001b[32m章节\u001b[0m\u001b[32m内容的\u001b[0m\u001b[32m概括\u001b[0m\u001b[32m，\u001b[0m\u001b[32m有助于\u001b[0m\u001b[32m读者\u001b[0m\u001b[32m快速\u001b[0m\u001b[32m了解\u001b[0m\u001b[32m文章\u001b[0m\u001b[32m结构\u001b[0m\u001b[32m。\n",
      "\n",
      "扩\u001b[0m\u001b[32m写\u001b[0m\u001b[32m完成后\u001b[0m\u001b[32m，\u001b[0m\u001b[32m您\u001b[0m\u001b[32m可以根据\u001b[0m\u001b[32m上述\u001b[0m\u001b[32m步骤\u001b[0m\u001b[32m和\u001b[0m\u001b[32m思路\u001b[0m\u001b[32m，\u001b[0m\u001b[32m创作\u001b[0m\u001b[32m出\u001b[0m\u001b[32m高质量\u001b[0m\u001b[32m的长\u001b[0m\u001b[32m文\u001b[0m\u001b[32m。</\u001b[0m\u001b[32mOUT\u001b[0m\u001b[32mLINE\u001b[0m\u001b[32m>\u001b[0m\u001b[32m\u001b[0m\u001b[33m\n",
      "\u001b[0m\u001b[33m\n",
      "### 2、扩写\n",
      "\n",
      "\n",
      "\u001b[0m\u001b[32m###\u001b[0m\u001b[32m \u001b[0m\u001b[32m2\u001b[0m\u001b[32m、\u001b[0m\u001b[32m扩\u001b[0m\u001b[32m写\u001b[0m\u001b[32m\n",
      "\n",
      "扩\u001b[0m\u001b[32m写\u001b[0m\u001b[32m是\u001b[0m\u001b[32m创作\u001b[0m\u001b[32m长\u001b[0m\u001b[32m文\u001b[0m\u001b[32m的核心\u001b[0m\u001b[32m步骤\u001b[0m\u001b[32m，\u001b[0m\u001b[32m它\u001b[0m\u001b[32m涉及到\u001b[0m\u001b[32m将\u001b[0m\u001b[32m提\u001b[0m\u001b[32m纲\u001b[0m\u001b[32m转化为\u001b[0m\u001b[32m详细\u001b[0m\u001b[32m的内容\u001b[0m\u001b[32m。\u001b[0m\u001b[32m以下\u001b[0m\u001b[32m是一些\u001b[0m\u001b[32m扩\u001b[0m\u001b[32m写\u001b[0m\u001b[32m的基本\u001b[0m\u001b[32m方法\u001b[0m\u001b[32m、\u001b[0m\u001b[32m技巧\u001b[0m\u001b[32m和\u001b[0m\u001b[32m策略\u001b[0m\u001b[32m，\u001b[0m\u001b[32m以及\u001b[0m\u001b[32m如何\u001b[0m\u001b[32m保持\u001b[0m\u001b[32m文章\u001b[0m\u001b[32m连贯\u001b[0m\u001b[32m性和\u001b[0m\u001b[32m吸引力\u001b[0m\u001b[32m。\n",
      "\n",
      "####\u001b[0m\u001b[32m 扩\u001b[0m\u001b[32m写\u001b[0m\u001b[32m的基本\u001b[0m\u001b[32m方法\u001b[0m\u001b[32m\n",
      "\n",
      "1\u001b[0m\u001b[32m.\u001b[0m\u001b[32m **\u001b[0m\u001b[32m逐\u001b[0m\u001b[32m点\u001b[0m\u001b[32m扩\u001b[0m\u001b[32m写\u001b[0m\u001b[32m**\u001b[0m\u001b[32m：\u001b[0m\u001b[32m按照\u001b[0m\u001b[32m提\u001b[0m\u001b[32m纲\u001b[0m\u001b[32m的\u001b[0m\u001b[32m顺序\u001b[0m\u001b[32m，\u001b[0m\u001b[32m逐\u001b[0m\u001b[32m一对\u001b[0m\u001b[32m每个\u001b[0m\u001b[32m观点\u001b[0m\u001b[32m进行\u001b[0m\u001b[32m详细\u001b[0m\u001b[32m阐述\u001b[0m\u001b[32m。\u001b[0m\u001b[32m这种方法\u001b[0m\u001b[32m有助于\u001b[0m\u001b[32m保持\u001b[0m\u001b[32m文章\u001b[0m\u001b[32m的逻辑\u001b[0m\u001b[32m性和\u001b[0m\u001b[32m连贯\u001b[0m\u001b[32m性\u001b[0m\u001b[32m。\n",
      "\n",
      "2\u001b[0m\u001b[32m.\u001b[0m\u001b[32m **\u001b[0m\u001b[32m分段\u001b[0m\u001b[32m落\u001b[0m\u001b[32m扩\u001b[0m\u001b[32m写\u001b[0m\u001b[32m**\u001b[0m\u001b[32m：\u001b[0m\u001b[32m将\u001b[0m\u001b[32m每个\u001b[0m\u001b[32m观点\u001b[0m\u001b[32m分为\u001b[0m\u001b[32m几个\u001b[0m\u001b[32m段落\u001b[0m\u001b[32m，\u001b[0m\u001b[32m每个\u001b[0m\u001b[32m段落\u001b[0m\u001b[32m阐述\u001b[0m\u001b[32m一个\u001b[0m\u001b[32m方面的\u001b[0m\u001b[32m内容\u001b[0m\u001b[32m。\u001b[0m\u001b[32m这样做\u001b[0m\u001b[32m可以使\u001b[0m\u001b[32m文章\u001b[0m\u001b[32m结构\u001b[0m\u001b[32m清晰\u001b[0m\u001b[32m，\u001b[0m\u001b[32m易于\u001b[0m\u001b[32m阅读\u001b[0m\u001b[32m。\n",
      "\n",
      "3\u001b[0m\u001b[32m.\u001b[0m\u001b[32m **\u001b[0m\u001b[32m插入\u001b[0m\u001b[32m案例\u001b[0m\u001b[32m**\u001b[0m\u001b[32m：\u001b[0m\u001b[32m在\u001b[0m\u001b[32m阐述\u001b[0m\u001b[32m观点\u001b[0m\u001b[32m时\u001b[0m\u001b[32m，\u001b[0m\u001b[32m适当\u001b[0m\u001b[32m插入\u001b[0m\u001b[32m相关\u001b[0m\u001b[32m案例\u001b[0m\u001b[32m，\u001b[0m\u001b[32m使\u001b[0m\u001b[32m文章\u001b[0m\u001b[32m更具\u001b[0m\u001b[32m说服\u001b[0m\u001b[32m力\u001b[0m\u001b[32m。\n",
      "\n",
      "4\u001b[0m\u001b[32m.\u001b[0m\u001b[32m **\u001b[0m\u001b[32m引用\u001b[0m\u001b[32m权威\u001b[0m\u001b[32m资料\u001b[0m\u001b[32m**\u001b[0m\u001b[32m：\u001b[0m\u001b[32m引用\u001b[0m\u001b[32m权威\u001b[0m\u001b[32m资料\u001b[0m\u001b[32m可以\u001b[0m\u001b[32m增强\u001b[0m\u001b[32m观点\u001b[0m\u001b[32m的可\u001b[0m\u001b[32m信\u001b[0m\u001b[32m度\u001b[0m\u001b[32m，\u001b[0m\u001b[32m同时\u001b[0m\u001b[32m为\u001b[0m\u001b[32m读者\u001b[0m\u001b[32m提供\u001b[0m\u001b[32m更多\u001b[0m\u001b[32m参考\u001b[0m\u001b[32m。\n",
      "\n",
      "####\u001b[0m\u001b[32m 扩\u001b[0m\u001b[32m写的\u001b[0m\u001b[32m技巧\u001b[0m\u001b[32m和\u001b[0m\u001b[32m策略\u001b[0m\u001b[32m\n",
      "\n",
      "1\u001b[0m\u001b[32m.\u001b[0m\u001b[32m **\u001b[0m\u001b[32m使用\u001b[0m\u001b[32m过渡\u001b[0m\u001b[32m词\u001b[0m\u001b[32m**\u001b[0m\u001b[32m：\u001b[0m\u001b[32m在\u001b[0m\u001b[32m段落\u001b[0m\u001b[32m之间\u001b[0m\u001b[32m使用\u001b[0m\u001b[32m过渡\u001b[0m\u001b[32m词\u001b[0m\u001b[32m，\u001b[0m\u001b[32m使\u001b[0m\u001b[32m文章\u001b[0m\u001b[32m更加\u001b[0m\u001b[32m流畅\u001b[0m\u001b[32m。\n",
      "\n",
      "2\u001b[0m\u001b[32m.\u001b[0m\u001b[32m **\u001b[0m\u001b[32m变换\u001b[0m\u001b[32m句\u001b[0m\u001b[32m式\u001b[0m\u001b[32m**\u001b[0m\u001b[32m：\u001b[0m\u001b[32m避免\u001b[0m\u001b[32m过多\u001b[0m\u001b[32m使用\u001b[0m\u001b[32m简单\u001b[0m\u001b[32m句\u001b[0m\u001b[32m，\u001b[0m\u001b[32m适当\u001b[0m\u001b[32m运用\u001b[0m\u001b[32m复合\u001b[0m\u001b[32m句\u001b[0m\u001b[32m和\u001b[0m\u001b[32m并列\u001b[0m\u001b[32m句\u001b[0m\u001b[32m，\u001b[0m\u001b[32m使\u001b[0m\u001b[32m文章\u001b[0m\u001b[32m更具\u001b[0m\u001b[32m文\u001b[0m\u001b[32m采\u001b[0m\u001b[32m。\n",
      "\n",
      "3\u001b[0m\u001b[32m.\u001b[0m\u001b[32m **\u001b[0m\u001b[32m突出\u001b[0m\u001b[32m重点\u001b[0m\u001b[32m**\u001b[0m\u001b[32m：\u001b[0m\u001b[32m使用\u001b[0m\u001b[32m加\u001b[0m\u001b[32m粗\u001b[0m\u001b[32m、\u001b[0m\u001b[32m斜\u001b[0m\u001b[32m体\u001b[0m\u001b[32m等方式\u001b[0m\u001b[32m突出\u001b[0m\u001b[32m重点\u001b[0m\u001b[32m内容\u001b[0m\u001b[32m，\u001b[0m\u001b[32m吸引\u001b[0m\u001b[32m读者\u001b[0m\u001b[32m注意力\u001b[0m\u001b[32m。\n",
      "\n",
      "4\u001b[0m\u001b[32m.\u001b[0m\u001b[32m **\u001b[0m\u001b[32m精\u001b[0m\u001b[32m简\u001b[0m\u001b[32m语言\u001b[0m\u001b[32m**\u001b[0m\u001b[32m：\u001b[0m\u001b[32m避免\u001b[0m\u001b[32m冗\u001b[0m\u001b[32m余\u001b[0m\u001b[32m信息\u001b[0m\u001b[32m，\u001b[0m\u001b[32m使\u001b[0m\u001b[32m文章\u001b[0m\u001b[32m简洁\u001b[0m\u001b[32m明了\u001b[0m\u001b[32m。\n",
      "\n",
      "####\u001b[0m\u001b[32m 保持\u001b[0m\u001b[32m文章\u001b[0m\u001b[32m连贯\u001b[0m\u001b[32m性和\u001b[0m\u001b[32m吸引力\u001b[0m\u001b[32m\n",
      "\n",
      "1\u001b[0m\u001b[32m.\u001b[0m\u001b[32m **\u001b[0m\u001b[32m紧扣\u001b[0m\u001b[32m主题\u001b[0m\u001b[32m**\u001b[0m\u001b[32m：\u001b[0m\u001b[32m确保\u001b[0m\u001b[32m文章\u001b[0m\u001b[32m内容\u001b[0m\u001b[32m始终\u001b[0m\u001b[32m围绕\u001b[0m\u001b[32m主题\u001b[0m\u001b[32m展开\u001b[0m\u001b[32m，\u001b[0m\u001b[32m避免\u001b[0m\u001b[32m跑\u001b[0m\u001b[32m题\u001b[0m\u001b[32m。\n",
      "\n",
      "2\u001b[0m\u001b[32m.\u001b[0m\u001b[32m **\u001b[0m\u001b[32m设置\u001b[0m\u001b[32m悬念\u001b[0m\u001b[32m**\u001b[0m\u001b[32m：\u001b[0m\u001b[32m在\u001b[0m\u001b[32m适当\u001b[0m\u001b[32m的位置\u001b[0m\u001b[32m设置\u001b[0m\u001b[32m悬念\u001b[0m\u001b[32m，\u001b[0m\u001b[32m引发\u001b[0m\u001b[32m读者\u001b[0m\u001b[32m好奇心\u001b[0m\u001b[32m。\n",
      "\n",
      "3\u001b[0m\u001b[32m.\u001b[0m\u001b[32m **\u001b[0m\u001b[32m情感\u001b[0m\u001b[32m共鸣\u001b[0m\u001b[32m**\u001b[0m\u001b[32m：\u001b[0m\u001b[32m运用\u001b[0m\u001b[32m情感\u001b[0m\u001b[32m色彩\u001b[0m\u001b[32m，\u001b[0m\u001b[32m引发\u001b[0m\u001b[32m读者\u001b[0m\u001b[32m共鸣\u001b[0m\u001b[32m。\n",
      "\n",
      "4\u001b[0m\u001b[32m.\u001b[0m\u001b[32m **\u001b[0m\u001b[32m图文\u001b[0m\u001b[32m并茂\u001b[0m\u001b[32m**\u001b[0m\u001b[32m：\u001b[0m\u001b[32m适当\u001b[0m\u001b[32m插入\u001b[0m\u001b[32m图片\u001b[0m\u001b[32m、\u001b[0m\u001b[32m图表\u001b[0m\u001b[32m等\u001b[0m\u001b[32m，\u001b[0m\u001b[32m使\u001b[0m\u001b[32m文章\u001b[0m\u001b[32m更具\u001b[0m\u001b[32m吸引力\u001b[0m\u001b[32m。\n",
      "\n",
      "####\u001b[0m\u001b[32m 创\u001b[0m\u001b[32m作\u001b[0m\u001b[32m思路\u001b[0m\u001b[32m：\u001b[0m\u001b[32m如何\u001b[0m\u001b[32m从\u001b[0m\u001b[32m提\u001b[0m\u001b[32m纲\u001b[0m\u001b[32m过渡\u001b[0m\u001b[32m到\u001b[0m\u001b[32m详细\u001b[0m\u001b[32m内容\u001b[0m\u001b[32m\n",
      "\n",
      "1\u001b[0m\u001b[32m.\u001b[0m\u001b[32m **\u001b[0m\u001b[32m分析\u001b[0m\u001b[32m提\u001b[0m\u001b[32m纲\u001b[0m\u001b[32m**\u001b[0m\u001b[32m：\u001b[0m\u001b[32m仔细\u001b[0m\u001b[32m分析\u001b[0m\u001b[32m提\u001b[0m\u001b[32m纲\u001b[0m\u001b[32m中的\u001b[0m\u001b[32m每个\u001b[0m\u001b[32m观点\u001b[0m\u001b[32m，\u001b[0m\u001b[32m明确\u001b[0m\u001b[32m其\u001b[0m\u001b[32m核心\u001b[0m\u001b[32m内容和\u001b[0m\u001b[32m逻辑\u001b[0m\u001b[32m关系\u001b[0m\u001b[32m。\n",
      "\n",
      "2\u001b[0m\u001b[32m.\u001b[0m\u001b[32m **\u001b[0m\u001b[32m构思\u001b[0m\u001b[32m段落\u001b[0m\u001b[32m**\u001b[0m\u001b[32m：\u001b[0m\u001b[32m根据\u001b[0m\u001b[32m提\u001b[0m\u001b[32m纲\u001b[0m\u001b[32m，\u001b[0m\u001b[32m构思\u001b[0m\u001b[32m每个\u001b[0m\u001b[32m段\u001b[0m\u001b[32m落的\u001b[0m\u001b[32m主题\u001b[0m\u001b[32m和\u001b[0m\u001b[32m内容\u001b[0m\u001b[32m。\n",
      "\n",
      "3\u001b[0m\u001b[32m.\u001b[0m\u001b[32m **\u001b[0m\u001b[32m撰写\u001b[0m\u001b[32m初\u001b[0m\u001b[32m稿\u001b[0m\u001b[32m**\u001b[0m\u001b[32m：\u001b[0m\u001b[32m按照\u001b[0m\u001b[32m构思\u001b[0m\u001b[32m好的\u001b[0m\u001b[32m段落\u001b[0m\u001b[32m，\u001b[0m\u001b[32m撰写\u001b[0m\u001b[32m初\u001b[0m\u001b[32m稿\u001b[0m\u001b[32m。\n",
      "\n",
      "4\u001b[0m\u001b[32m.\u001b[0m\u001b[32m **\u001b[0m\u001b[32m修改\u001b[0m\u001b[32m润\u001b[0m\u001b[32m色\u001b[0m\u001b[32m**\u001b[0m\u001b[32m：\u001b[0m\u001b[32m反复\u001b[0m\u001b[32m修改\u001b[0m\u001b[32m润\u001b[0m\u001b[32m色\u001b[0m\u001b[32m，\u001b[0m\u001b[32m确保\u001b[0m\u001b[32m文章\u001b[0m\u001b[32m质量\u001b[0m\u001b[32m。\n",
      "\n",
      "####\u001b[0m\u001b[32m 创\u001b[0m\u001b[32m作\u001b[0m\u001b[32m中\u001b[0m\u001b[32m涉及\u001b[0m\u001b[32m到的\u001b[0m\u001b[32m实体\u001b[0m\u001b[32m名称\u001b[0m\u001b[32m\n",
      "\n",
      "-\u001b[0m\u001b[32m **\u001b[0m\u001b[32m主题\u001b[0m\u001b[32m**\u001b[0m\u001b[32m：\u001b[0m\u001b[32m文章\u001b[0m\u001b[32m的核心\u001b[0m\u001b[32m内容\u001b[0m\u001b[32m，\u001b[0m\u001b[32m是\u001b[0m\u001b[32m读者\u001b[0m\u001b[32m关注的\u001b[0m\u001b[32m焦点\u001b[0m\u001b[32m。\n",
      "\n",
      "-\u001b[0m\u001b[32m **\u001b[0m\u001b[32m论\u001b[0m\u001b[32m点\u001b[0m\u001b[32m**\u001b[0m\u001b[32m：\u001b[0m\u001b[32m作者\u001b[0m\u001b[32m对\u001b[0m\u001b[32m主题\u001b[0m\u001b[32m的观点\u001b[0m\u001b[32m和\u001b[0m\u001b[32m看法\u001b[0m\u001b[32m。\n",
      "\n",
      "-\u001b[0m\u001b[32m **\u001b[0m\u001b[32m论\u001b[0m\u001b[32m据\u001b[0m\u001b[32m**\u001b[0m\u001b[32m：\u001b[0m\u001b[32m支持\u001b[0m\u001b[32m论\u001b[0m\u001b[32m点的\u001b[0m\u001b[32m证据\u001b[0m\u001b[32m和\u001b[0m\u001b[32m事实\u001b[0m\u001b[32m。\n",
      "\n",
      "-\u001b[0m\u001b[32m **\u001b[0m\u001b[32m例子\u001b[0m\u001b[32m**\u001b[0m\u001b[32m：\u001b[0m\u001b[32m用于\u001b[0m\u001b[32m说明\u001b[0m\u001b[32m论\u001b[0m\u001b[32m点的\u001b[0m\u001b[32m具体\u001b[0m\u001b[32m实例\u001b[0m\u001b[32m。\n",
      "\n",
      "通过\u001b[0m\u001b[32m以上\u001b[0m\u001b[32m方法\u001b[0m\u001b[32m、\u001b[0m\u001b[32m技巧\u001b[0m\u001b[32m和\u001b[0m\u001b[32m策略\u001b[0m\u001b[32m，\u001b[0m\u001b[32m结合\u001b[0m\u001b[32m创意\u001b[0m\u001b[32m要点\u001b[0m\u001b[32m，\u001b[0m\u001b[32m将\u001b[0m\u001b[32m提\u001b[0m\u001b[32m纲\u001b[0m\u001b[32m转化为\u001b[0m\u001b[32m详细\u001b[0m\u001b[32m的内容\u001b[0m\u001b[32m，\u001b[0m\u001b[32m创作\u001b[0m\u001b[32m出一\u001b[0m\u001b[32m篇\u001b[0m\u001b[32m高质量\u001b[0m\u001b[32m的长\u001b[0m\u001b[32m文\u001b[0m\u001b[32m。\u001b[0m\u001b[32m\u001b[0m\u001b[33m\n",
      "\u001b[0m\u001b[33m\n",
      "### 3、引用素材\n",
      "\n",
      "\n",
      "\u001b[0m\u001b[32m<\u001b[0m\u001b[32mOUT\u001b[0m\u001b[32mLINE\u001b[0m\u001b[32m>\n",
      "引用\u001b[0m\u001b[32m素材\u001b[0m\u001b[32m是\u001b[0m\u001b[32m增强\u001b[0m\u001b[32m文章\u001b[0m\u001b[32m说服\u001b[0m\u001b[32m力和\u001b[0m\u001b[32m丰富\u001b[0m\u001b[32m性的\u001b[0m\u001b[32m重要\u001b[0m\u001b[32m手段\u001b[0m\u001b[32m。\n",
      "\n",
      "在\u001b[0m\u001b[32m创作\u001b[0m\u001b[32m长\u001b[0m\u001b[32m文\u001b[0m\u001b[32m时\u001b[0m\u001b[32m，\u001b[0m\u001b[32m引用\u001b[0m\u001b[32m素材\u001b[0m\u001b[32m的种类\u001b[0m\u001b[32m繁多\u001b[0m\u001b[32m，\u001b[0m\u001b[32m包括\u001b[0m\u001b[32m但不\u001b[0m\u001b[32m限于\u001b[0m\u001b[32m以下\u001b[0m\u001b[32m几种\u001b[0m\u001b[32m：\n",
      "\n",
      "1\u001b[0m\u001b[32m.\u001b[0m\u001b[32m **\u001b[0m\u001b[32m参考文献\u001b[0m\u001b[32m**\u001b[0m\u001b[32m：\u001b[0m\u001b[32m引用\u001b[0m\u001b[32m学术\u001b[0m\u001b[32m著作\u001b[0m\u001b[32m、\u001b[0m\u001b[32m权威\u001b[0m\u001b[32m报告\u001b[0m\u001b[32m等\u001b[0m\u001b[32m，\u001b[0m\u001b[32m用于\u001b[0m\u001b[32m支撑\u001b[0m\u001b[32m论\u001b[0m\u001b[32m点的\u001b[0m\u001b[32m科学\u001b[0m\u001b[32m性和\u001b[0m\u001b[32m严谨\u001b[0m\u001b[32m性\u001b[0m\u001b[32m。\n",
      "2\u001b[0m\u001b[32m.\u001b[0m\u001b[32m **\u001b[0m\u001b[32m数据\u001b[0m\u001b[32m**\u001b[0m\u001b[32m：\u001b[0m\u001b[32m引用\u001b[0m\u001b[32m调查\u001b[0m\u001b[32m数据\u001b[0m\u001b[32m、\u001b[0m\u001b[32m统计\u001b[0m\u001b[32m数字\u001b[0m\u001b[32m等\u001b[0m\u001b[32m，\u001b[0m\u001b[32m用于\u001b[0m\u001b[32m量化\u001b[0m\u001b[32m论\u001b[0m\u001b[32m点\u001b[0m\u001b[32m，\u001b[0m\u001b[32m增强\u001b[0m\u001b[32m说服\u001b[0m\u001b[32m力\u001b[0m\u001b[32m。\n",
      "3\u001b[0m\u001b[32m.\u001b[0m\u001b[32m **\u001b[0m\u001b[32m案例\u001b[0m\u001b[32m**\u001b[0m\u001b[32m：\u001b[0m\u001b[32m引用\u001b[0m\u001b[32m真实\u001b[0m\u001b[32m案例\u001b[0m\u001b[32m，\u001b[0m\u001b[32m用于\u001b[0m\u001b[32m具体\u001b[0m\u001b[32m说明\u001b[0m\u001b[32m论\u001b[0m\u001b[32m点\u001b[0m\u001b[32m，\u001b[0m\u001b[32m使\u001b[0m\u001b[32m文章\u001b[0m\u001b[32m更具\u001b[0m\u001b[32m说服\u001b[0m\u001b[32m力\u001b[0m\u001b[32m。\n",
      "\n",
      "选择\u001b[0m\u001b[32m合适的\u001b[0m\u001b[32m引用\u001b[0m\u001b[32m素材\u001b[0m\u001b[32m至关重要\u001b[0m\u001b[32m。\u001b[0m\u001b[32m以下\u001b[0m\u001b[32m是一些\u001b[0m\u001b[32m选择\u001b[0m\u001b[32m素材\u001b[0m\u001b[32m的方法\u001b[0m\u001b[32m和\u001b[0m\u001b[32m技巧\u001b[0m\u001b[32m：\n",
      "\n",
      "1\u001b[0m\u001b[32m.\u001b[0m\u001b[32m **\u001b[0m\u001b[32m相关性\u001b[0m\u001b[32m**\u001b[0m\u001b[32m：\u001b[0m\u001b[32m选择\u001b[0m\u001b[32m与\u001b[0m\u001b[32m文章\u001b[0m\u001b[32m主题\u001b[0m\u001b[32m紧密\u001b[0m\u001b[32m相关的\u001b[0m\u001b[32m素材\u001b[0m\u001b[32m，\u001b[0m\u001b[32m确保\u001b[0m\u001b[32m素材\u001b[0m\u001b[32m能够\u001b[0m\u001b[32m支撑\u001b[0m\u001b[32m论\u001b[0m\u001b[32m点\u001b[0m\u001b[32m。\n",
      "2\u001b[0m\u001b[32m.\u001b[0m\u001b[32m **\u001b[0m\u001b[32m权威\u001b[0m\u001b[32m性\u001b[0m\u001b[32m**\u001b[0m\u001b[32m：\u001b[0m\u001b[32m优先\u001b[0m\u001b[32m选择\u001b[0m\u001b[32m权威\u001b[0m\u001b[32m机构\u001b[0m\u001b[32m或\u001b[0m\u001b[32m专家\u001b[0m\u001b[32m的观点\u001b[0m\u001b[32m和数据\u001b[0m\u001b[32m，\u001b[0m\u001b[32m提高\u001b[0m\u001b[32m素材\u001b[0m\u001b[32m的可\u001b[0m\u001b[32m信\u001b[0m\u001b[32m度\u001b[0m\u001b[32m。\n",
      "3\u001b[0m\u001b[32m.\u001b[0m\u001b[32m **\u001b[0m\u001b[32m新颖\u001b[0m\u001b[32m性\u001b[0m\u001b[32m**\u001b[0m\u001b[32m：\u001b[0m\u001b[32m选择\u001b[0m\u001b[32m具有\u001b[0m\u001b[32m时效\u001b[0m\u001b[32m性\u001b[0m\u001b[32m或\u001b[0m\u001b[32m独特\u001b[0m\u001b[32m性的\u001b[0m\u001b[32m素材\u001b[0m\u001b[32m，\u001b[0m\u001b[32m使\u001b[0m\u001b[32m文章\u001b[0m\u001b[32m更具\u001b[0m\u001b[32m吸引力\u001b[0m\u001b[32m。\n",
      "\n",
      "将\u001b[0m\u001b[32m引用\u001b[0m\u001b[32m素材\u001b[0m\u001b[32m融入\u001b[0m\u001b[32m文章\u001b[0m\u001b[32m的方法\u001b[0m\u001b[32m和\u001b[0m\u001b[32m技巧\u001b[0m\u001b[32m如下\u001b[0m\u001b[32m：\n",
      "\n",
      "1\u001b[0m\u001b[32m.\u001b[0m\u001b[32m **\u001b[0m\u001b[32m直接\u001b[0m\u001b[32m引用\u001b[0m\u001b[32m**\u001b[0m\u001b[32m：\u001b[0m\u001b[32m直接\u001b[0m\u001b[32m引用\u001b[0m\u001b[32m原文\u001b[0m\u001b[32m，\u001b[0m\u001b[32m并在\u001b[0m\u001b[32m括\u001b[0m\u001b[32m号\u001b[0m\u001b[32m内\u001b[0m\u001b[32m注明\u001b[0m\u001b[32m出处\u001b[0m\u001b[32m。\n",
      "2\u001b[0m\u001b[32m.\u001b[0m\u001b[32m **\u001b[0m\u001b[32m间接\u001b[0m\u001b[32m引用\u001b[0m\u001b[32m**\u001b[0m\u001b[32m：\u001b[0m\u001b[32m用自己的\u001b[0m\u001b[32m话\u001b[0m\u001b[32m概括\u001b[0m\u001b[32m引用\u001b[0m\u001b[32m内容\u001b[0m\u001b[32m，\u001b[0m\u001b[32m并在\u001b[0m\u001b[32m文\u001b[0m\u001b[32m末\u001b[0m\u001b[32m注明\u001b[0m\u001b[32m出处\u001b[0m\u001b[32m。\n",
      "3\u001b[0m\u001b[32m.\u001b[0m\u001b[32m **\u001b[0m\u001b[32m数据\u001b[0m\u001b[32m可视化\u001b[0m\u001b[32m**\u001b[0m\u001b[32m：\u001b[0m\u001b[32m将\u001b[0m\u001b[32m数据\u001b[0m\u001b[32m转化为\u001b[0m\u001b[32m图表\u001b[0m\u001b[32m或\u001b[0m\u001b[32m图形\u001b[0m\u001b[32m，\u001b[0m\u001b[32m使\u001b[0m\u001b[32m文章\u001b[0m\u001b[32m更\u001b[0m\u001b[32m直观\u001b[0m\u001b[32m易懂\u001b[0m\u001b[32m。\n",
      "\n",
      "为了\u001b[0m\u001b[32m使\u001b[0m\u001b[32m引用\u001b[0m\u001b[32m素材\u001b[0m\u001b[32m与\u001b[0m\u001b[32m文章\u001b[0m\u001b[32m内容\u001b[0m\u001b[32m紧密结合\u001b[0m\u001b[32m，\u001b[0m\u001b[32m可以\u001b[0m\u001b[32m采取\u001b[0m\u001b[32m以下\u001b[0m\u001b[32m措施\u001b[0m\u001b[32m：\n",
      "\n",
      "1\u001b[0m\u001b[32m.\u001b[0m\u001b[32m **\u001b[0m\u001b[32m明确\u001b[0m\u001b[32m引用\u001b[0m\u001b[32m目的\u001b[0m\u001b[32m**\u001b[0m\u001b[32m：\u001b[0m\u001b[32m在\u001b[0m\u001b[32m引用\u001b[0m\u001b[32m素材\u001b[0m\u001b[32m前\u001b[0m\u001b[32m，\u001b[0m\u001b[32m明确\u001b[0m\u001b[32m其\u001b[0m\u001b[32m作用\u001b[0m\u001b[32m和\u001b[0m\u001b[32m目的\u001b[0m\u001b[32m，\u001b[0m\u001b[32m确保\u001b[0m\u001b[32m素材\u001b[0m\u001b[32m与\u001b[0m\u001b[32m文章\u001b[0m\u001b[32m主题\u001b[0m\u001b[32m相符\u001b[0m\u001b[32m。\n",
      "2\u001b[0m\u001b[32m.\u001b[0m\u001b[32m **\u001b[0m\u001b[32m巧妙\u001b[0m\u001b[32m过渡\u001b[0m\u001b[32m**\u001b[0m\u001b[32m：\u001b[0m\u001b[32m在\u001b[0m\u001b[32m引用\u001b[0m\u001b[32m素材\u001b[0m\u001b[32m前后\u001b[0m\u001b[32m，\u001b[0m\u001b[32m使用\u001b[0m\u001b[32m过渡\u001b[0m\u001b[32m词\u001b[0m\u001b[32m或\u001b[0m\u001b[32m句子\u001b[0m\u001b[32m，\u001b[0m\u001b[32m使\u001b[0m\u001b[32m文章\u001b[0m\u001b[32m流畅\u001b[0m\u001b[32m自然\u001b[0m\u001b[32m。\n",
      "\n",
      "在\u001b[0m\u001b[32m创作\u001b[0m\u001b[32m过程中\u001b[0m\u001b[32m，\u001b[0m\u001b[32m以下\u001b[0m\u001b[32m实体\u001b[0m\u001b[32m名称\u001b[0m\u001b[32m需要\u001b[0m\u001b[32m关注\u001b[0m\u001b[32m：\n",
      "\n",
      "-\u001b[0m\u001b[32m **\u001b[0m\u001b[32m引用\u001b[0m\u001b[32m**\u001b[0m\u001b[32m：\u001b[0m\u001b[32m直接\u001b[0m\u001b[32m或\u001b[0m\u001b[32m间接\u001b[0m\u001b[32m引用\u001b[0m\u001b[32m的\u001b[0m\u001b[32m素材\u001b[0m\u001b[32m。\n",
      "-\u001b[0m\u001b[32m **\u001b[0m\u001b[32m参考文献\u001b[0m\u001b[32m**\u001b[0m\u001b[32m：\u001b[0m\u001b[32m用于\u001b[0m\u001b[32m支撑\u001b[0m\u001b[32m论\u001b[0m\u001b[32m点的\u001b[0m\u001b[32m学术\u001b[0m\u001b[32m著作\u001b[0m\u001b[32m或\u001b[0m\u001b[32m报告\u001b[0m\u001b[32m。\n",
      "-\u001b[0m\u001b[32m **\u001b[0m\u001b[32m数据\u001b[0m\u001b[32m**\u001b[0m\u001b[32m：\u001b[0m\u001b[32m用于\u001b[0m\u001b[32m量化\u001b[0m\u001b[32m论\u001b[0m\u001b[32m点的\u001b[0m\u001b[32m调查\u001b[0m\u001b[32m数据\u001b[0m\u001b[32m或\u001b[0m\u001b[32m统计\u001b[0m\u001b[32m数字\u001b[0m\u001b[32m。\n",
      "-\u001b[0m\u001b[32m **\u001b[0m\u001b[32m案例\u001b[0m\u001b[32m**\u001b[0m\u001b[32m：\u001b[0m\u001b[32m用于\u001b[0m\u001b[32m具体\u001b[0m\u001b[32m说明\u001b[0m\u001b[32m论\u001b[0m\u001b[32m点的\u001b[0m\u001b[32m真实\u001b[0m\u001b[32m案例\u001b[0m\u001b[32m。\n",
      "\n",
      "通过\u001b[0m\u001b[32m以上\u001b[0m\u001b[32m方法\u001b[0m\u001b[32m，\u001b[0m\u001b[32m将\u001b[0m\u001b[32m引用\u001b[0m\u001b[32m素材\u001b[0m\u001b[32m巧妙\u001b[0m\u001b[32m地\u001b[0m\u001b[32m融入\u001b[0m\u001b[32m文章\u001b[0m\u001b[32m，\u001b[0m\u001b[32m既能\u001b[0m\u001b[32m增强\u001b[0m\u001b[32m文章\u001b[0m\u001b[32m的说\u001b[0m\u001b[32m服\u001b[0m\u001b[32m力和\u001b[0m\u001b[32m丰富\u001b[0m\u001b[32m性\u001b[0m\u001b[32m，\u001b[0m\u001b[32m又能\u001b[0m\u001b[32m使\u001b[0m\u001b[32m文章\u001b[0m\u001b[32m更具\u001b[0m\u001b[32m逻辑\u001b[0m\u001b[32m性和\u001b[0m\u001b[32m可\u001b[0m\u001b[32m读\u001b[0m\u001b[32m性\u001b[0m\u001b[32m。</\u001b[0m\u001b[32mOUT\u001b[0m\u001b[32mLINE\u001b[0m\u001b[32m>\u001b[0m\u001b[32m\u001b[0m\u001b[33m\n",
      "\u001b[0m\u001b[31m\n",
      "\n",
      "已保存 教程/README.md, 共计 4423 字。\n",
      "\u001b[0m"
     ]
    },
    {
     "data": {
      "text/plain": [
       "'---\\nmodified_at: \\'2024-07-02 21:22:39\\'\\noutput_file: README.md\\ncommand: stream\\nargs:\\n  completed: README提纲.md\\n  sep_mode: outline\\n  prompt_id: FROM_OUTLINE\\n  tag_start: <OUTLINE>\\n  tag_end: </OUTLINE>\\n  base_folder: 教程\\n---\\n\\n\\n# 使用`textlong`包创作长文指南\\n\\n\\n## 一、dotenv使用\\n\\n\\ndotenv是一个强大的Python库，用于管理环境变量。通过使用dotenv，我们可以在Python项目中隔离不同的环境配置，使代码更易于维护和部署。\\n\\n\\n### 1、dotenv的基本安装和使用方法\\n\\n\\n首先，你需要安装dotenv库。可以通过以下命令进行安装：\\n\\n\\n```bash\\npip install python-dotenv\\n```\\n\\n\\n安装完成后，你可以在Python项目中创建一个名为`.env`的文件，并将需要设置的环境变量以键值对的形式写入其中。例如：\\n\\n\\n```\\n# .env文件\\nAPI_KEY=your_api_key\\nDATABASE_URL=your_database_url\\n```\\n\\n\\n接下来，在Python代码中，你可以使用以下代码加载`.env`文件：\\n\\n\\n```python\\nfrom dotenv import load_dotenv\\n\\nload_dotenv(\\'.env\\')\\n```\\n\\n\\n这样，dotenv就会自动解析`.env`文件中的环境变量，并在你的Python代码中使用它们。\\n\\n\\n### 2、通过dotenv加载不同的环境配置文件\\n\\n\\n有时，你可能需要根据不同的环境（如开发、测试、生产）加载不同的配置文件。在这种情况下，你可以使用以下方法：\\n\\n\\n首先，创建不同的环境配置文件，例如：\\n\\n\\n- `.env.development`\\n- `.env.test`\\n- `.env.production`\\n\\n然后，在代码中根据当前环境加载相应的配置文件：\\n\\n\\n```python\\nimport os\\n\\n# 获取当前环境变量\\nenv = os.getenv(\\'ENV\\', \\'development\\')\\n\\n# 加载对应环境的配置文件\\nload_dotenv(f\\'.env.{env}\\')\\n```\\n\\n\\n这样，你的Python项目就可以根据当前环境加载相应的配置了。\\n\\n\\n### 3、示例：在Python项目中使用dotenv\\n\\n\\n以下是一个简单的示例，展示如何在Python项目中使用dotenv：\\n\\n\\n```python\\nfrom dotenv import load_dotenv\\n\\n# 加载.env文件\\nload_dotenv(\\'.env\\')\\n\\n# 使用环境变量\\napi_key = os.getenv(\\'API_KEY\\')\\ndatabase_url = os.getenv(\\'DATABASE_URL\\')\\n\\nprint(f\\'API Key: {api_key}\\')\\nprint(f\\'Database URL: {database_url}\\')\\n```\\n\\n\\n在这个示例中，我们首先加载了`.env`文件，然后获取了其中的`API_KEY`和`DATABASE_URL`环境变量，并在控制台中打印了它们。这样，你就可以在Python项目中轻松地使用环境变量了。\\n\\n## 二、textlong加载\\n\\n\\n### 1、textlong的基本安装方法\\n\\n\\ntextlong是一个开源的Python包，可以通过pip工具轻松安装。在命令行中运行以下命令即可完成安装：\\n\\n\\n```shell\\npip install textlong\\n```\\n\\n\\n### 2、导入textlong包\\n\\n\\n安装完成后，你可以在Python代码中导入textlong包，以便使用它提供的功能。以下是导入textlong包的示例：\\n\\n\\n```python\\nimport textlong\\n```\\n\\n\\n### 3、示例：使用textlong包进行文本操作\\n\\n\\n以下是一个简单的示例，展示如何使用textlong包进行文本操作：\\n\\n\\n```python\\nimport textlong\\n\\n# 创建一个文本对象\\ntext = textlong.Text(\"Hello, world!\")\\n\\n# 添加段落\\ntext.add_paragraph(\"This is the first paragraph.\")\\ntext.add_paragraph(\"This is the second paragraph.\")\\n\\n# 添加标题\\ntext.add_heading(1, \"This is a heading\")\\ntext.add_heading(2, \"This is another heading\")\\n\\n# 打印文本\\nprint(text.get_text())\\n```\\n\\n\\n在这个示例中，我们首先创建了一个文本对象，然后向其中添加了段落和标题。最后，我们使用`get_text()`方法获取并打印整个文本内容。这样，你就可以使用textlong包来创建和管理长文内容了。\\n\\n## 三、使用textlong创作长文\\n\\n\\n### 1、创作提纲\\n\\n\\n创作提纲是写作长文的第一步，它对于组织和规划文章的结构至关重要。一个清晰、合理的提纲能够帮助作者理清思路，确保文章内容的连贯性和逻辑性。\\n\\n\\n创作提纲的基本步骤如下：\\n\\n\\n1. **明确主题和目的**：在开始创作提纲之前，首先要明确文章的主题和写作目的。这将有助于确保提纲的针对性，使文章更加聚焦。\\n\\n2. **收集资料**：根据主题和目的，搜集相关资料，为提纲提供支撑。这些资料可以包括书籍、文章、研究报告等。\\n\\n3. **列出主要观点**：将收集到的资料进行整理，提炼出文章的主要观点。这些观点将成为提纲的核心内容。\\n\\n4. **构建结构**：根据主要观点，将文章分为若干章节，并确定各章节之间的逻辑关系。\\n\\n5. **细化内容**：在章节的基础上，进一步细化内容，列出每个章节下的主要段落和子观点。\\n\\n6. **调整和优化**：完成初步提纲后，对提纲进行多次调整和优化，确保其合理性和可操作性。\\n\\n根据主题和目标受众制定提纲时，以下是一些创意要点：\\n\\n\\n- **考虑受众需求**：根据目标受众的兴趣、需求和知识水平，调整提纲的内容和深度。\\n\\n- **突出重点**：针对重要观点和关键信息，在提纲中加以强调。\\n\\n- **保持简洁**：尽量使提纲简洁明了，避免冗余信息。\\n\\n将提纲转化为具体内容时，可以遵循以下创作思路：\\n\\n\\n- **从章节到段落**：按照提纲的结构，将章节内容细化为段落。\\n\\n- **添加细节**：在段落中添加具体案例、数据和实例，使文章更具说服力。\\n\\n- **注意逻辑**：确保段落之间的逻辑关系清晰，使文章读起来流畅。\\n\\n在创作过程中，以下实体名称将涉及：\\n\\n\\n- **提纲**：文章的整体结构框架。\\n- **章节**：文章的主要部分，包含相关内容。\\n- **段落**：章节中的具体内容，通常围绕一个中心思想展开。\\n- **标题**：对段落或章节内容的概括，有助于读者快速了解文章结构。\\n\\n### 2、扩写\\n\\n\\n扩写是创作长文的核心步骤，它涉及到将提纲转化为详细的内容。以下是一些扩写的基本方法、技巧和策略，以及如何保持文章连贯性和吸引力。\\n\\n\\n#### 扩写的基本方法\\n\\n\\n1. **逐点扩写**：按照提纲的顺序，逐一对每个观点进行详细阐述。这种方法有助于保持文章的逻辑性和连贯性。\\n\\n2. **分段落扩写**：将每个观点分为几个段落，每个段落阐述一个方面的内容。这样做可以使文章结构清晰，易于阅读。\\n\\n3. **插入案例**：在阐述观点时，适当插入相关案例，使文章更具说服力。\\n\\n4. **引用权威资料**：引用权威资料可以增强观点的可信度，同时为读者提供更多参考。\\n\\n#### 扩写的技巧和策略\\n\\n\\n1. **使用过渡词**：在段落之间使用过渡词，使文章更加流畅。\\n\\n2. **变换句式**：避免过多使用简单句，适当运用复合句和并列句，使文章更具文采。\\n\\n3. **突出重点**：使用加粗、斜体等方式突出重点内容，吸引读者注意力。\\n\\n4. **精简语言**：避免冗余信息，使文章简洁明了。\\n\\n#### 保持文章连贯性和吸引力\\n\\n\\n1. **紧扣主题**：确保文章内容始终围绕主题展开，避免跑题。\\n\\n2. **设置悬念**：在适当的位置设置悬念，引发读者好奇心。\\n\\n3. **情感共鸣**：运用情感色彩，引发读者共鸣。\\n\\n4. **图文并茂**：适当插入图片、图表等，使文章更具吸引力。\\n\\n#### 创作思路：如何从提纲过渡到详细内容\\n\\n\\n1. **分析提纲**：仔细分析提纲中的每个观点，明确其核心内容和逻辑关系。\\n\\n2. **构思段落**：根据提纲，构思每个段落的主题和内容。\\n\\n3. **撰写初稿**：按照构思好的段落，撰写初稿。\\n\\n4. **修改润色**：反复修改润色，确保文章质量。\\n\\n#### 创作中涉及到的实体名称\\n\\n\\n- **主题**：文章的核心内容，是读者关注的焦点。\\n\\n- **论点**：作者对主题的观点和看法。\\n\\n- **论据**：支持论点的证据和事实。\\n\\n- **例子**：用于说明论点的具体实例。\\n\\n通过以上方法、技巧和策略，结合创意要点，将提纲转化为详细的内容，创作出一篇高质量的长文。\\n\\n### 3、引用素材\\n\\n\\n引用素材是增强文章说服力和丰富性的重要手段。\\n\\n\\n在创作长文时，引用素材的种类繁多，包括但不限于以下几种：\\n\\n\\n1. **参考文献**：引用学术著作、权威报告等，用于支撑论点的科学性和严谨性。\\n2. **数据**：引用调查数据、统计数字等，用于量化论点，增强说服力。\\n3. **案例**：引用真实案例，用于具体说明论点，使文章更具说服力。\\n\\n选择合适的引用素材至关重要。以下是一些选择素材的方法和技巧：\\n\\n\\n1. **相关性**：选择与文章主题紧密相关的素材，确保素材能够支撑论点。\\n2. **权威性**：优先选择权威机构或专家的观点和数据，提高素材的可信度。\\n3. **新颖性**：选择具有时效性或独特性的素材，使文章更具吸引力。\\n\\n将引用素材融入文章的方法和技巧如下：\\n\\n\\n1. **直接引用**：直接引用原文，并在括号内注明出处。\\n2. **间接引用**：用自己的话概括引用内容，并在文末注明出处。\\n3. **数据可视化**：将数据转化为图表或图形，使文章更直观易懂。\\n\\n为了使引用素材与文章内容紧密结合，可以采取以下措施：\\n\\n\\n1. **明确引用目的**：在引用素材前，明确其作用和目的，确保素材与文章主题相符。\\n2. **巧妙过渡**：在引用素材前后，使用过渡词或句子，使文章流畅自然。\\n\\n在创作过程中，以下实体名称需要关注：\\n\\n\\n- **引用**：直接或间接引用的素材。\\n- **参考文献**：用于支撑论点的学术著作或报告。\\n- **数据**：用于量化论点的调查数据或统计数字。\\n- **案例**：用于具体说明论点的真实案例。\\n'"
      ]
     },
     "execution_count": 13,
     "metadata": {},
     "output_type": "execute_result"
    }
   ],
   "source": [
    "from_outline(\n",
    "    ChatZhipuAI(model=\"glm-4-flash\"),\n",
    "    output_file=\"README.md\",\n",
    "    completed=\"README提纲.md\",\n",
    "    base_folder=\"教程\",\n",
    ")"
   ]
  },
  {
   "cell_type": "markdown",
   "id": "817e1915-c17d-4fe3-a686-3719dba95a87",
   "metadata": {},
   "source": [
    "## 创建小说"
   ]
  },
  {
   "cell_type": "markdown",
   "id": "7542423b-497c-4e3c-9022-23b16936894a",
   "metadata": {},
   "source": [
    "### 创建大纲"
   ]
  },
  {
   "cell_type": "code",
   "execution_count": 17,
   "id": "6debc314-2442-4264-b25e-2e05658c340c",
   "metadata": {},
   "outputs": [
    {
     "name": "stdout",
     "output_type": "stream",
     "text": [
      "\u001b[34m\n",
      ">->>> Prompt ID: IDEAIDEA | 人物设定.md <<<-<\n",
      "\u001b[0m\u001b[32m夏\u001b[0m\u001b[32m小\u001b[0m\u001b[32m兰\u001b[0m\u001b[32m，\u001b[0m\u001b[32m生于\u001b[0m\u001b[32m天\u001b[0m\u001b[32m元\u001b[0m\u001b[32m大陆\u001b[0m\u001b[32m的\u001b[0m\u001b[32m神秘\u001b[0m\u001b[32m之地\u001b[0m\u001b[32m——\u001b[0m\u001b[32m幽\u001b[0m\u001b[32m兰\u001b[0m\u001b[32m谷\u001b[0m\u001b[32m，\u001b[0m\u001b[32m这里是\u001b[0m\u001b[32m传说\u001b[0m\u001b[32m中\u001b[0m\u001b[32m仙\u001b[0m\u001b[32m界\u001b[0m\u001b[32m灵\u001b[0m\u001b[32m气\u001b[0m\u001b[32m最\u001b[0m\u001b[32m浓郁\u001b[0m\u001b[32m的地方\u001b[0m\u001b[32m。\u001b[0m\u001b[32m她的\u001b[0m\u001b[32m父母\u001b[0m\u001b[32m是\u001b[0m\u001b[32m谷\u001b[0m\u001b[32m中的\u001b[0m\u001b[32m守护\u001b[0m\u001b[32m神\u001b[0m\u001b[32m，\u001b[0m\u001b[32m原\u001b[0m\u001b[32m是\u001b[0m\u001b[32m上古\u001b[0m\u001b[32m神\u001b[0m\u001b[32m兽\u001b[0m\u001b[32m幻\u001b[0m\u001b[32m化\u001b[0m\u001b[32m而成\u001b[0m\u001b[32m，\u001b[0m\u001b[32m分别\u001b[0m\u001b[32m拥有\u001b[0m\u001b[32m九\u001b[0m\u001b[32m天\u001b[0m\u001b[32m神\u001b[0m\u001b[32m龙\u001b[0m\u001b[32m和\u001b[0m\u001b[32m紫\u001b[0m\u001b[32m霞\u001b[0m\u001b[32m仙\u001b[0m\u001b[32m狐\u001b[0m\u001b[32m的\u001b[0m\u001b[32m血脉\u001b[0m\u001b[32m。\u001b[0m\u001b[32m夏\u001b[0m\u001b[32m小\u001b[0m\u001b[32m兰\u001b[0m\u001b[32m自\u001b[0m\u001b[32m幼\u001b[0m\u001b[32m便\u001b[0m\u001b[32m在\u001b[0m\u001b[32m谷\u001b[0m\u001b[32m中\u001b[0m\u001b[32m灵\u001b[0m\u001b[32m气的\u001b[0m\u001b[32m滋养\u001b[0m\u001b[32m下\u001b[0m\u001b[32m，\u001b[0m\u001b[32m拥有\u001b[0m\u001b[32m通\u001b[0m\u001b[32m灵\u001b[0m\u001b[32m的能力\u001b[0m\u001b[32m。\n",
      "\n",
      "周\u001b[0m\u001b[32m成\u001b[0m\u001b[32m，\u001b[0m\u001b[32m出生\u001b[0m\u001b[32m在\u001b[0m\u001b[32m遥远\u001b[0m\u001b[32m的天\u001b[0m\u001b[32m外\u001b[0m\u001b[32m星\u001b[0m\u001b[32m域\u001b[0m\u001b[32m，\u001b[0m\u001b[32m名为\u001b[0m\u001b[32m“\u001b[0m\u001b[32m破碎\u001b[0m\u001b[32m星辰\u001b[0m\u001b[32m”\u001b[0m\u001b[32m的\u001b[0m\u001b[32m神秘\u001b[0m\u001b[32m世界\u001b[0m\u001b[32m。\u001b[0m\u001b[32m他的\u001b[0m\u001b[32m家族\u001b[0m\u001b[32m是\u001b[0m\u001b[32m控制\u001b[0m\u001b[32m星辰\u001b[0m\u001b[32m运转\u001b[0m\u001b[32m的\u001b[0m\u001b[32m守护\u001b[0m\u001b[32m者\u001b[0m\u001b[32m，\u001b[0m\u001b[32m拥有\u001b[0m\u001b[32m操控\u001b[0m\u001b[32m星辰\u001b[0m\u001b[32m之\u001b[0m\u001b[32m力的\u001b[0m\u001b[32m神奇\u001b[0m\u001b[32m血脉\u001b[0m\u001b[32m。\u001b[0m\u001b[32m由于\u001b[0m\u001b[32m一次\u001b[0m\u001b[32m意外\u001b[0m\u001b[32m，\u001b[0m\u001b[32m周\u001b[0m\u001b[32m成\u001b[0m\u001b[32m流\u001b[0m\u001b[32m落\u001b[0m\u001b[32m至\u001b[0m\u001b[32m天\u001b[0m\u001b[32m元\u001b[0m\u001b[32m大陆\u001b[0m\u001b[32m，\u001b[0m\u001b[32m被\u001b[0m\u001b[32m夏\u001b[0m\u001b[32m小\u001b[0m\u001b[32m兰\u001b[0m\u001b[32m所在的\u001b[0m\u001b[32m幽\u001b[0m\u001b[32m兰\u001b[0m\u001b[32m谷\u001b[0m\u001b[32m所\u001b[0m\u001b[32m救\u001b[0m\u001b[32m，\u001b[0m\u001b[32m从此\u001b[0m\u001b[32m与\u001b[0m\u001b[32m夏\u001b[0m\u001b[32m小\u001b[0m\u001b[32m兰\u001b[0m\u001b[32m结\u001b[0m\u001b[32m下\u001b[0m\u001b[32m不解\u001b[0m\u001b[32m之\u001b[0m\u001b[32m缘\u001b[0m\u001b[32m。\u001b[0m\u001b[32m\u001b[0m\u001b[31m\n",
      "\n",
      "已保存 教程/人物设定.md, 共计 205 字。\n",
      "\u001b[0m"
     ]
    }
   ],
   "source": [
    "task = \"我要写一个修仙小说，主角是夏小兰，男一号是周成，请帮我设想一下这两个人的出身，要非常魔幻。\"\n",
    "p.idea(\"人物设定.md\", task)"
   ]
  },
  {
   "cell_type": "code",
   "execution_count": 18,
   "id": "8bd6a44f-7f82-4c96-b0ef-c0298cd616df",
   "metadata": {},
   "outputs": [
    {
     "name": "stdout",
     "output_type": "stream",
     "text": [
      "\u001b[34m\n",
      ">->>> Prompt ID: OUTLINEOUTLINE | 提纲.md <<<-<\n",
      "\u001b[0m\u001b[32m#\u001b[0m\u001b[32m 《\u001b[0m\u001b[32m我\u001b[0m\u001b[32m修\u001b[0m\u001b[32m了个\u001b[0m\u001b[32m假\u001b[0m\u001b[32m仙\u001b[0m\u001b[32m》\u001b[0m\u001b[32m\n",
      "##\u001b[0m\u001b[32m 第一章\u001b[0m\u001b[32m 灵\u001b[0m\u001b[32m谷\u001b[0m\u001b[32m遇\u001b[0m\u001b[32m缘\u001b[0m\u001b[32m\n",
      "###\u001b[0m\u001b[32m 一\u001b[0m\u001b[32m、\u001b[0m\u001b[32m幽\u001b[0m\u001b[32m兰\u001b[0m\u001b[32m谷\u001b[0m\u001b[32m的\u001b[0m\u001b[32m神秘\u001b[0m\u001b[32m来\u001b[0m\u001b[32m客\u001b[0m\u001b[32m\n",
      "<\u001b[0m\u001b[32mOUT\u001b[0m\u001b[32mLINE\u001b[0m\u001b[32m>\n",
      "夏\u001b[0m\u001b[32m小\u001b[0m\u001b[32m兰\u001b[0m\u001b[32m在\u001b[0m\u001b[32m幽\u001b[0m\u001b[32m兰\u001b[0m\u001b[32m谷\u001b[0m\u001b[32m中\u001b[0m\u001b[32m过着\u001b[0m\u001b[32m与\u001b[0m\u001b[32m世\u001b[0m\u001b[32m无\u001b[0m\u001b[32m争\u001b[0m\u001b[32m的生活\u001b[0m\u001b[32m，\u001b[0m\u001b[32m一日\u001b[0m\u001b[32m，\u001b[0m\u001b[32m意外\u001b[0m\u001b[32m发现\u001b[0m\u001b[32m一位\u001b[0m\u001b[32m外来\u001b[0m\u001b[32m者\u001b[0m\u001b[32m昏迷\u001b[0m\u001b[32m在\u001b[0m\u001b[32m谷\u001b[0m\u001b[32m口\u001b[0m\u001b[32m，\u001b[0m\u001b[32m这人\u001b[0m\u001b[32m正是\u001b[0m\u001b[32m周\u001b[0m\u001b[32m成\u001b[0m\u001b[32m。\u001b[0m\u001b[32m原本\u001b[0m\u001b[32m平静\u001b[0m\u001b[32m的生活\u001b[0m\u001b[32m因此\u001b[0m\u001b[32m被打\u001b[0m\u001b[32m乱\u001b[0m\u001b[32m。\n",
      "\n",
      "扩\u001b[0m\u001b[32m写\u001b[0m\u001b[32m要求\u001b[0m\u001b[32m：\n",
      "-\u001b[0m\u001b[32m 描述\u001b[0m\u001b[32m幽\u001b[0m\u001b[32m兰\u001b[0m\u001b[32m谷\u001b[0m\u001b[32m的\u001b[0m\u001b[32m仙\u001b[0m\u001b[32m侠\u001b[0m\u001b[32m环境\u001b[0m\u001b[32m\n",
      "-\u001b[0m\u001b[32m 夏\u001b[0m\u001b[32m小\u001b[0m\u001b[32m兰\u001b[0m\u001b[32m的\u001b[0m\u001b[32m日常生活\u001b[0m\u001b[32m以及\u001b[0m\u001b[32m她对\u001b[0m\u001b[32m突然\u001b[0m\u001b[32m出现的\u001b[0m\u001b[32m周\u001b[0m\u001b[32m成的\u001b[0m\u001b[32m初步\u001b[0m\u001b[32m印象\u001b[0m\u001b[32m\n",
      "-\u001b[0m\u001b[32m 夏\u001b[0m\u001b[32m小\u001b[0m\u001b[32m兰\u001b[0m\u001b[32m决定\u001b[0m\u001b[32m救助\u001b[0m\u001b[32m周\u001b[0m\u001b[32m成的\u001b[0m\u001b[32m动机\u001b[0m\u001b[32m和\u001b[0m\u001b[32m过程\u001b[0m\u001b[32m\n",
      "</\u001b[0m\u001b[32mOUT\u001b[0m\u001b[32mLINE\u001b[0m\u001b[32m>\n",
      "\n",
      "###\u001b[0m\u001b[32m 二\u001b[0m\u001b[32m、\u001b[0m\u001b[32m星辰\u001b[0m\u001b[32m之\u001b[0m\u001b[32m力的\u001b[0m\u001b[32m初\u001b[0m\u001b[32m现\u001b[0m\u001b[32m\n",
      "<\u001b[0m\u001b[32mOUT\u001b[0m\u001b[32mLINE\u001b[0m\u001b[32m>\n",
      "周\u001b[0m\u001b[32m成\u001b[0m\u001b[32m苏\u001b[0m\u001b[32m醒\u001b[0m\u001b[32m后\u001b[0m\u001b[32m，\u001b[0m\u001b[32m为\u001b[0m\u001b[32m表\u001b[0m\u001b[32m感激\u001b[0m\u001b[32m，\u001b[0m\u001b[32m展示\u001b[0m\u001b[32m了他\u001b[0m\u001b[32m操控\u001b[0m\u001b[32m星辰\u001b[0m\u001b[32m之\u001b[0m\u001b[32m力的\u001b[0m\u001b[32m能力\u001b[0m\u001b[32m，\u001b[0m\u001b[32m夏\u001b[0m\u001b[32m小\u001b[0m\u001b[32m兰\u001b[0m\u001b[32m惊叹\u001b[0m\u001b[32m之余\u001b[0m\u001b[32m，\u001b[0m\u001b[32m也\u001b[0m\u001b[32m发现自己\u001b[0m\u001b[32m对\u001b[0m\u001b[32m修\u001b[0m\u001b[32m仙\u001b[0m\u001b[32m有了\u001b[0m\u001b[32m新的\u001b[0m\u001b[32m认识\u001b[0m\u001b[32m。\n",
      "\n",
      "扩\u001b[0m\u001b[32m写\u001b[0m\u001b[32m要求\u001b[0m\u001b[32m：\n",
      "-\u001b[0m\u001b[32m 周\u001b[0m\u001b[32m成\u001b[0m\u001b[32m苏\u001b[0m\u001b[32m醒\u001b[0m\u001b[32m后\u001b[0m\u001b[32m与\u001b[0m\u001b[32m夏\u001b[0m\u001b[32m小\u001b[0m\u001b[32m兰\u001b[0m\u001b[32m的\u001b[0m\u001b[32m初次\u001b[0m\u001b[32m交流\u001b[0m\u001b[32m\n",
      "-\u001b[0m\u001b[32m 描述\u001b[0m\u001b[32m周\u001b[0m\u001b[32m成\u001b[0m\u001b[32m展示\u001b[0m\u001b[32m星辰\u001b[0m\u001b[32m之\u001b[0m\u001b[32m力的\u001b[0m\u001b[32m场景\u001b[0m\u001b[32m\n",
      "-\u001b[0m\u001b[32m 夏\u001b[0m\u001b[32m小\u001b[0m\u001b[32m兰\u001b[0m\u001b[32m内心的\u001b[0m\u001b[32m变化\u001b[0m\u001b[32m和对\u001b[0m\u001b[32m修\u001b[0m\u001b[32m仙\u001b[0m\u001b[32m的新\u001b[0m\u001b[32m看法\u001b[0m\u001b[32m\n",
      "</\u001b[0m\u001b[32mOUT\u001b[0m\u001b[32mLINE\u001b[0m\u001b[32m>\n",
      "\n",
      "###\u001b[0m\u001b[32m 三\u001b[0m\u001b[32m、\u001b[0m\u001b[32m假\u001b[0m\u001b[32m仙\u001b[0m\u001b[32m的\u001b[0m\u001b[32m误会\u001b[0m\u001b[32m\n",
      "<\u001b[0m\u001b[32mOUT\u001b[0m\u001b[32mLINE\u001b[0m\u001b[32m>\n",
      "夏\u001b[0m\u001b[32m小\u001b[0m\u001b[32m兰\u001b[0m\u001b[32m开始\u001b[0m\u001b[32m向\u001b[0m\u001b[32m周\u001b[0m\u001b[32m成\u001b[0m\u001b[32m学习\u001b[0m\u001b[32m星辰\u001b[0m\u001b[32m之力\u001b[0m\u001b[32m，\u001b[0m\u001b[32m却发现\u001b[0m\u001b[32m周\u001b[0m\u001b[32m成的\u001b[0m\u001b[32m修\u001b[0m\u001b[32m仙\u001b[0m\u001b[32m方式\u001b[0m\u001b[32m与\u001b[0m\u001b[32m谷\u001b[0m\u001b[32m中的\u001b[0m\u001b[32m传统\u001b[0m\u001b[32m截然\u001b[0m\u001b[32m不同\u001b[0m\u001b[32m，\u001b[0m\u001b[32m引发\u001b[0m\u001b[32m一系列\u001b[0m\u001b[32m令人\u001b[0m\u001b[32m啼\u001b[0m\u001b[32m笑\u001b[0m\u001b[32m皆\u001b[0m\u001b[32m非\u001b[0m\u001b[32m的\u001b[0m\u001b[32m误会\u001b[0m\u001b[32m。\n",
      "\n",
      "扩\u001b[0m\u001b[32m写\u001b[0m\u001b[32m要求\u001b[0m\u001b[32m：\n",
      "-\u001b[0m\u001b[32m 描述\u001b[0m\u001b[32m两种\u001b[0m\u001b[32m不同\u001b[0m\u001b[32m修\u001b[0m\u001b[32m仙\u001b[0m\u001b[32m方式的\u001b[0m\u001b[32m对比\u001b[0m\u001b[32m\n",
      "-\u001b[0m\u001b[32m 夏\u001b[0m\u001b[32m小\u001b[0m\u001b[32m兰\u001b[0m\u001b[32m和\u001b[0m\u001b[32m周\u001b[0m\u001b[32m成\u001b[0m\u001b[32m在学习\u001b[0m\u001b[32m过程中的\u001b[0m\u001b[32m误会\u001b[0m\u001b[32m和\u001b[0m\u001b[32m冲突\u001b[0m\u001b[32m\n",
      "-\u001b[0m\u001b[32m \u001b[0m\u001b[32m误会\u001b[0m\u001b[32m解开\u001b[0m\u001b[32m后的\u001b[0m\u001b[32m互相\u001b[0m\u001b[32m理解和\u001b[0m\u001b[32m尊重\u001b[0m\u001b[32m\n",
      "</\u001b[0m\u001b[32mOUT\u001b[0m\u001b[32mLINE\u001b[0m\u001b[32m>\n",
      "\n",
      "###\u001b[0m\u001b[32m 四\u001b[0m\u001b[32m、\u001b[0m\u001b[32m打\u001b[0m\u001b[32m脸\u001b[0m\u001b[32m的\u001b[0m\u001b[32m真相\u001b[0m\u001b[32m\n",
      "<\u001b[0m\u001b[32mOUT\u001b[0m\u001b[32mLINE\u001b[0m\u001b[32m>\n",
      "在一次\u001b[0m\u001b[32m意外\u001b[0m\u001b[32m中\u001b[0m\u001b[32m，\u001b[0m\u001b[32m夏\u001b[0m\u001b[32m小\u001b[0m\u001b[32m兰\u001b[0m\u001b[32m和\u001b[0m\u001b[32m周\u001b[0m\u001b[32m成\u001b[0m\u001b[32m合力\u001b[0m\u001b[32m击败\u001b[0m\u001b[32m了一名\u001b[0m\u001b[32m侵犯\u001b[0m\u001b[32m幽\u001b[0m\u001b[32m兰\u001b[0m\u001b[32m谷\u001b[0m\u001b[32m的\u001b[0m\u001b[32m修\u001b[0m\u001b[32m仙\u001b[0m\u001b[32m者\u001b[0m\u001b[32m，\u001b[0m\u001b[32m揭示\u001b[0m\u001b[32m出\u001b[0m\u001b[32m夏\u001b[0m\u001b[32m小\u001b[0m\u001b[32m兰\u001b[0m\u001b[32m原本\u001b[0m\u001b[32m的\u001b[0m\u001b[32m修\u001b[0m\u001b[32m仙\u001b[0m\u001b[32m方法\u001b[0m\u001b[32m有\u001b[0m\u001b[32m缺陷\u001b[0m\u001b[32m，\u001b[0m\u001b[32m而\u001b[0m\u001b[32m周\u001b[0m\u001b[32m成的\u001b[0m\u001b[32m“\u001b[0m\u001b[32m假\u001b[0m\u001b[32m仙\u001b[0m\u001b[32m”\u001b[0m\u001b[32m之\u001b[0m\u001b[32m术\u001b[0m\u001b[32m却\u001b[0m\u001b[32m大\u001b[0m\u001b[32m放\u001b[0m\u001b[32m异\u001b[0m\u001b[32m彩\u001b[0m\u001b[32m。\n",
      "\n",
      "扩\u001b[0m\u001b[32m写\u001b[0m\u001b[32m要求\u001b[0m\u001b[32m：\n",
      "-\u001b[0m\u001b[32m 描述\u001b[0m\u001b[32m侵犯\u001b[0m\u001b[32m者的\u001b[0m\u001b[32m出现\u001b[0m\u001b[32m和\u001b[0m\u001b[32m引发的\u001b[0m\u001b[32m战斗\u001b[0m\u001b[32m\n",
      "-\u001b[0m\u001b[32m 夏\u001b[0m\u001b[32m小\u001b[0m\u001b[32m兰\u001b[0m\u001b[32m和\u001b[0m\u001b[32m周\u001b[0m\u001b[32m成的\u001b[0m\u001b[32m合作\u001b[0m\u001b[32m过程\u001b[0m\u001b[32m以及\u001b[0m\u001b[32m周\u001b[0m\u001b[32m成\u001b[0m\u001b[32m“\u001b[0m\u001b[32m假\u001b[0m\u001b[32m仙\u001b[0m\u001b[32m”\u001b[0m\u001b[32m术\u001b[0m\u001b[32m的\u001b[0m\u001b[32m惊艳\u001b[0m\u001b[32m表现\u001b[0m\u001b[32m\n",
      "-\u001b[0m\u001b[32m 战\u001b[0m\u001b[32m后\u001b[0m\u001b[32m夏\u001b[0m\u001b[32m小\u001b[0m\u001b[32m兰\u001b[0m\u001b[32m对\u001b[0m\u001b[32m周\u001b[0m\u001b[32m成\u001b[0m\u001b[32m真正的\u001b[0m\u001b[32m修\u001b[0m\u001b[32m仙\u001b[0m\u001b[32m之\u001b[0m\u001b[32m术\u001b[0m\u001b[32m的\u001b[0m\u001b[32m重新\u001b[0m\u001b[32m认识和\u001b[0m\u001b[32m内心的\u001b[0m\u001b[32m震撼\u001b[0m\u001b[32m\n",
      "</\u001b[0m\u001b[32mOUT\u001b[0m\u001b[32mLINE\u001b[0m\u001b[32m>\u001b[0m\u001b[32m\u001b[0m\u001b[31m\n",
      "\n",
      "已保存 教程/提纲.md, 共计 649 字。\n",
      "\u001b[0m"
     ]
    }
   ],
   "source": [
    "task = \"请帮我创作500字的修仙小说，标题为《我修了个假仙》，主角是夏小兰，男一号是周成，每一个章节都适用意外、打脸的线索推动。\"\n",
    "p.outline(\"提纲.md\", task, knowledge=[\"人物设定.md\"], prompt_id=\"OUTLINE\")"
   ]
  },
  {
   "cell_type": "markdown",
   "id": "5b34ecef-4703-44c6-837f-3787d5c6cdd7",
   "metadata": {},
   "source": [
    "### 扩写"
   ]
  },
  {
   "cell_type": "code",
   "execution_count": 19,
   "id": "29c57f86-41b4-4595-8393-a3e29be82110",
   "metadata": {},
   "outputs": [
    {
     "name": "stdout",
     "output_type": "stream",
     "text": [
      "\u001b[34m\n",
      ">->>> Prompt ID: FROM_OUTLINEFROM_OUTLINE | 我修了个假仙人.md <<<-<\n",
      "\u001b[0m\u001b[33m\n",
      "# 《我修了个假仙》\n",
      "\n",
      "\n",
      "## 第一章 灵谷遇缘\n",
      "\n",
      "\n",
      "### 一、幽兰谷的神秘来客\n",
      "\n",
      "\n",
      "\u001b[0m\u001b[32m<\u001b[0m\u001b[32mOUT\u001b[0m\u001b[32mLINE\u001b[0m\u001b[32m>\n",
      "夏\u001b[0m\u001b[32m小\u001b[0m\u001b[32m兰\u001b[0m\u001b[32m悠\u001b[0m\u001b[32m然\u001b[0m\u001b[32m自\u001b[0m\u001b[32m得\u001b[0m\u001b[32m地在\u001b[0m\u001b[32m幽\u001b[0m\u001b[32m兰\u001b[0m\u001b[32m谷\u001b[0m\u001b[32m中\u001b[0m\u001b[32m漫步\u001b[0m\u001b[32m，\u001b[0m\u001b[32m这里是\u001b[0m\u001b[32m天\u001b[0m\u001b[32m元\u001b[0m\u001b[32m大陆\u001b[0m\u001b[32m的一\u001b[0m\u001b[32m处\u001b[0m\u001b[32m神秘\u001b[0m\u001b[32m仙境\u001b[0m\u001b[32m，\u001b[0m\u001b[32m四处\u001b[0m\u001b[32m弥漫\u001b[0m\u001b[32m着\u001b[0m\u001b[32m淡淡的\u001b[0m\u001b[32m灵\u001b[0m\u001b[32m气\u001b[0m\u001b[32m，\u001b[0m\u001b[32m仿佛\u001b[0m\u001b[32m一\u001b[0m\u001b[32m吸气\u001b[0m\u001b[32m就能\u001b[0m\u001b[32m与\u001b[0m\u001b[32m天地\u001b[0m\u001b[32m共鸣\u001b[0m\u001b[32m。\u001b[0m\u001b[32m谷\u001b[0m\u001b[32m中\u001b[0m\u001b[32m兰花\u001b[0m\u001b[32m盛开\u001b[0m\u001b[32m，\u001b[0m\u001b[32m色彩\u001b[0m\u001b[32m斑斓\u001b[0m\u001b[32m，\u001b[0m\u001b[32m瀑布\u001b[0m\u001b[32m如\u001b[0m\u001b[32m练\u001b[0m\u001b[32m，\u001b[0m\u001b[32m仙\u001b[0m\u001b[32m鹤\u001b[0m\u001b[32m舞\u001b[0m\u001b[32m动\u001b[0m\u001b[32m。\u001b[0m\u001b[32m她的\u001b[0m\u001b[32m日常\u001b[0m\u001b[32m便是\u001b[0m\u001b[32m修炼\u001b[0m\u001b[32m通\u001b[0m\u001b[32m灵\u001b[0m\u001b[32m之\u001b[0m\u001b[32m术\u001b[0m\u001b[32m，\u001b[0m\u001b[32m与\u001b[0m\u001b[32m仙\u001b[0m\u001b[32m谷\u001b[0m\u001b[32m中的\u001b[0m\u001b[32m灵\u001b[0m\u001b[32m兽\u001b[0m\u001b[32m为\u001b[0m\u001b[32m伴\u001b[0m\u001b[32m，\u001b[0m\u001b[32m日子\u001b[0m\u001b[32m过得\u001b[0m\u001b[32m清\u001b[0m\u001b[32m静\u001b[0m\u001b[32m而\u001b[0m\u001b[32m祥和\u001b[0m\u001b[32m。\n",
      "\n",
      "这一\u001b[0m\u001b[32m日\u001b[0m\u001b[32m，\u001b[0m\u001b[32m夏\u001b[0m\u001b[32m小\u001b[0m\u001b[32m兰\u001b[0m\u001b[32m意外\u001b[0m\u001b[32m地\u001b[0m\u001b[32m发现\u001b[0m\u001b[32m谷\u001b[0m\u001b[32m口\u001b[0m\u001b[32m躺\u001b[0m\u001b[32m着一个\u001b[0m\u001b[32m陌生人\u001b[0m\u001b[32m，\u001b[0m\u001b[32m他\u001b[0m\u001b[32m身穿\u001b[0m\u001b[32m异\u001b[0m\u001b[32m域\u001b[0m\u001b[32m服饰\u001b[0m\u001b[32m，\u001b[0m\u001b[32m身\u001b[0m\u001b[32m形\u001b[0m\u001b[32m瘦\u001b[0m\u001b[32m削\u001b[0m\u001b[32m，\u001b[0m\u001b[32m脸上\u001b[0m\u001b[32m带着\u001b[0m\u001b[32m几\u001b[0m\u001b[32m许\u001b[0m\u001b[32m疲惫\u001b[0m\u001b[32m。\u001b[0m\u001b[32m这人\u001b[0m\u001b[32m正是\u001b[0m\u001b[32m周\u001b[0m\u001b[32m成\u001b[0m\u001b[32m。\u001b[0m\u001b[32m夏\u001b[0m\u001b[32m小\u001b[0m\u001b[32m兰\u001b[0m\u001b[32m心头\u001b[0m\u001b[32m一\u001b[0m\u001b[32m紧\u001b[0m\u001b[32m，\u001b[0m\u001b[32m她\u001b[0m\u001b[32m从未\u001b[0m\u001b[32m在\u001b[0m\u001b[32m谷\u001b[0m\u001b[32m中\u001b[0m\u001b[32m见过\u001b[0m\u001b[32m外\u001b[0m\u001b[32m客\u001b[0m\u001b[32m，\u001b[0m\u001b[32m更\u001b[0m\u001b[32m不用\u001b[0m\u001b[32m说是\u001b[0m\u001b[32m如此\u001b[0m\u001b[32m突然\u001b[0m\u001b[32m地\u001b[0m\u001b[32m出现在\u001b[0m\u001b[32m这里\u001b[0m\u001b[32m。\u001b[0m\u001b[32m她对\u001b[0m\u001b[32m周\u001b[0m\u001b[32m成的\u001b[0m\u001b[32m初步\u001b[0m\u001b[32m印象\u001b[0m\u001b[32m是\u001b[0m\u001b[32m疑惑\u001b[0m\u001b[32m与\u001b[0m\u001b[32m好奇\u001b[0m\u001b[32m，\u001b[0m\u001b[32m心想\u001b[0m\u001b[32m：\u001b[0m\u001b[32m他\u001b[0m\u001b[32m究竟\u001b[0m\u001b[32m是谁\u001b[0m\u001b[32m，\u001b[0m\u001b[32m为何\u001b[0m\u001b[32m会\u001b[0m\u001b[32m出现在\u001b[0m\u001b[32m这里\u001b[0m\u001b[32m？\n",
      "\n",
      "夏\u001b[0m\u001b[32m小\u001b[0m\u001b[32m兰\u001b[0m\u001b[32m天性\u001b[0m\u001b[32m善良\u001b[0m\u001b[32m，\u001b[0m\u001b[32m见\u001b[0m\u001b[32m周\u001b[0m\u001b[32m成\u001b[0m\u001b[32m昏迷\u001b[0m\u001b[32m不\u001b[0m\u001b[32m醒\u001b[0m\u001b[32m，\u001b[0m\u001b[32m便\u001b[0m\u001b[32m决定\u001b[0m\u001b[32m救助\u001b[0m\u001b[32m他\u001b[0m\u001b[32m。\u001b[0m\u001b[32m她\u001b[0m\u001b[32m小心翼翼\u001b[0m\u001b[32m地将\u001b[0m\u001b[32m周\u001b[0m\u001b[32m成\u001b[0m\u001b[32m扶\u001b[0m\u001b[32m到\u001b[0m\u001b[32m谷\u001b[0m\u001b[32m中的\u001b[0m\u001b[32m石\u001b[0m\u001b[32m床上\u001b[0m\u001b[32m，\u001b[0m\u001b[32m用法\u001b[0m\u001b[32m术\u001b[0m\u001b[32m清理\u001b[0m\u001b[32m了他的\u001b[0m\u001b[32m伤口\u001b[0m\u001b[32m，\u001b[0m\u001b[32m又\u001b[0m\u001b[32m熬\u001b[0m\u001b[32m制\u001b[0m\u001b[32m了\u001b[0m\u001b[32m灵\u001b[0m\u001b[32m草\u001b[0m\u001b[32m仙\u001b[0m\u001b[32m露\u001b[0m\u001b[32m喂\u001b[0m\u001b[32m他\u001b[0m\u001b[32m喝\u001b[0m\u001b[32m下\u001b[0m\u001b[32m。\u001b[0m\u001b[32m夏\u001b[0m\u001b[32m小\u001b[0m\u001b[32m兰\u001b[0m\u001b[32m心里\u001b[0m\u001b[32m只有一个\u001b[0m\u001b[32m念头\u001b[0m\u001b[32m，\u001b[0m\u001b[32m那就是\u001b[0m\u001b[32m不能\u001b[0m\u001b[32m见\u001b[0m\u001b[32m死\u001b[0m\u001b[32m不\u001b[0m\u001b[32m救\u001b[0m\u001b[32m，\u001b[0m\u001b[32m即便\u001b[0m\u001b[32m这个\u001b[0m\u001b[32m人是\u001b[0m\u001b[32m她\u001b[0m\u001b[32m平静\u001b[0m\u001b[32m生活\u001b[0m\u001b[32m里的\u001b[0m\u001b[32m不\u001b[0m\u001b[32m速\u001b[0m\u001b[32m之\u001b[0m\u001b[32m客\u001b[0m\u001b[32m。\n",
      "</\u001b[0m\u001b[32mOUT\u001b[0m\u001b[32mLINE\u001b[0m\u001b[32m>\u001b[0m\u001b[32m\u001b[0m\u001b[33m\n",
      "\u001b[0m\u001b[33m\n",
      "### 二、星辰之力的初现\n",
      "\n",
      "\n",
      "\u001b[0m\u001b[32m<\u001b[0m\u001b[32mOUT\u001b[0m\u001b[32mLINE\u001b[0m\u001b[32m>\n",
      "周\u001b[0m\u001b[32m成\u001b[0m\u001b[32m缓缓\u001b[0m\u001b[32m地\u001b[0m\u001b[32m睁开\u001b[0m\u001b[32m眼睛\u001b[0m\u001b[32m，\u001b[0m\u001b[32m眼前\u001b[0m\u001b[32m是一片\u001b[0m\u001b[32m模糊\u001b[0m\u001b[32m的\u001b[0m\u001b[32m景象\u001b[0m\u001b[32m，\u001b[0m\u001b[32m空气中\u001b[0m\u001b[32m夹杂\u001b[0m\u001b[32m着\u001b[0m\u001b[32m清\u001b[0m\u001b[32m新的\u001b[0m\u001b[32m灵\u001b[0m\u001b[32m气\u001b[0m\u001b[32m。\u001b[0m\u001b[32m夏\u001b[0m\u001b[32m小\u001b[0m\u001b[32m兰\u001b[0m\u001b[32m正\u001b[0m\u001b[32m坐在\u001b[0m\u001b[32m他的\u001b[0m\u001b[32m身边\u001b[0m\u001b[32m，\u001b[0m\u001b[32m关\u001b[0m\u001b[32m切的\u001b[0m\u001b[32m目光\u001b[0m\u001b[32m如同\u001b[0m\u001b[32m春\u001b[0m\u001b[32m日的\u001b[0m\u001b[32m暖\u001b[0m\u001b[32m阳\u001b[0m\u001b[32m。\u001b[0m\u001b[32m周\u001b[0m\u001b[32m成\u001b[0m\u001b[32m坐\u001b[0m\u001b[32m起身\u001b[0m\u001b[32m来\u001b[0m\u001b[32m，\u001b[0m\u001b[32m对\u001b[0m\u001b[32m夏\u001b[0m\u001b[32m小\u001b[0m\u001b[32m兰\u001b[0m\u001b[32m深深\u001b[0m\u001b[32m一\u001b[0m\u001b[32m揖\u001b[0m\u001b[32m，\u001b[0m\u001b[32m声音\u001b[0m\u001b[32m微\u001b[0m\u001b[32m弱\u001b[0m\u001b[32m却\u001b[0m\u001b[32m坚定\u001b[0m\u001b[32m：“\u001b[0m\u001b[32m多\u001b[0m\u001b[32m谢\u001b[0m\u001b[32m姑娘\u001b[0m\u001b[32m相\u001b[0m\u001b[32m救\u001b[0m\u001b[32m，\u001b[0m\u001b[32m周\u001b[0m\u001b[32m成\u001b[0m\u001b[32m没\u001b[0m\u001b[32m齿\u001b[0m\u001b[32m难忘\u001b[0m\u001b[32m。”\n",
      "\n",
      "夏\u001b[0m\u001b[32m小\u001b[0m\u001b[32m兰\u001b[0m\u001b[32m微笑\u001b[0m\u001b[32m着\u001b[0m\u001b[32m摇\u001b[0m\u001b[32m了\u001b[0m\u001b[32m摇头\u001b[0m\u001b[32m，\u001b[0m\u001b[32m示意\u001b[0m\u001b[32m他\u001b[0m\u001b[32m不必\u001b[0m\u001b[32m多\u001b[0m\u001b[32m礼\u001b[0m\u001b[32m。\u001b[0m\u001b[32m周\u001b[0m\u001b[32m成\u001b[0m\u001b[32m环\u001b[0m\u001b[32m视\u001b[0m\u001b[32m四周\u001b[0m\u001b[32m，\u001b[0m\u001b[32m眼中\u001b[0m\u001b[32m闪\u001b[0m\u001b[32m过\u001b[0m\u001b[32m一丝\u001b[0m\u001b[32m精\u001b[0m\u001b[32m光\u001b[0m\u001b[32m，\u001b[0m\u001b[32m突然\u001b[0m\u001b[32m间\u001b[0m\u001b[32m，\u001b[0m\u001b[32m他\u001b[0m\u001b[32m抬起\u001b[0m\u001b[32m手\u001b[0m\u001b[32m，\u001b[0m\u001b[32m指向\u001b[0m\u001b[32m天空\u001b[0m\u001b[32m。\u001b[0m\u001b[32m夜\u001b[0m\u001b[32m幕\u001b[0m\u001b[32m降临\u001b[0m\u001b[32m，\u001b[0m\u001b[32m星辰\u001b[0m\u001b[32m熠\u001b[0m\u001b[32m熠\u001b[0m\u001b[32m生\u001b[0m\u001b[32m辉\u001b[0m\u001b[32m，\u001b[0m\u001b[32m随着\u001b[0m\u001b[32m周\u001b[0m\u001b[32m成的\u001b[0m\u001b[32m手势\u001b[0m\u001b[32m，\u001b[0m\u001b[32m星辰\u001b[0m\u001b[32m之光\u001b[0m\u001b[32m似乎\u001b[0m\u001b[32m有了\u001b[0m\u001b[32m回应\u001b[0m\u001b[32m，\u001b[0m\u001b[32m缓缓\u001b[0m\u001b[32m流动\u001b[0m\u001b[32m，\u001b[0m\u001b[32m最终\u001b[0m\u001b[32m汇聚\u001b[0m\u001b[32m成一\u001b[0m\u001b[32m束\u001b[0m\u001b[32m明亮\u001b[0m\u001b[32m的光\u001b[0m\u001b[32m芒\u001b[0m\u001b[32m，\u001b[0m\u001b[32m直\u001b[0m\u001b[32m射\u001b[0m\u001b[32m幽\u001b[0m\u001b[32m兰\u001b[0m\u001b[32m谷\u001b[0m\u001b[32m中\u001b[0m\u001b[32m。\n",
      "\n",
      "夏\u001b[0m\u001b[32m小\u001b[0m\u001b[32m兰\u001b[0m\u001b[32m屏\u001b[0m\u001b[32m息\u001b[0m\u001b[32m凝\u001b[0m\u001b[32m视\u001b[0m\u001b[32m，\u001b[0m\u001b[32m她\u001b[0m\u001b[32m感觉到\u001b[0m\u001b[32m那\u001b[0m\u001b[32m束\u001b[0m\u001b[32m星光\u001b[0m\u001b[32m中\u001b[0m\u001b[32m蕴含\u001b[0m\u001b[32m的\u001b[0m\u001b[32m纯净\u001b[0m\u001b[32m能量\u001b[0m\u001b[32m，\u001b[0m\u001b[32m与\u001b[0m\u001b[32m她在\u001b[0m\u001b[32m谷\u001b[0m\u001b[32m中\u001b[0m\u001b[32m修炼\u001b[0m\u001b[32m的\u001b[0m\u001b[32m灵\u001b[0m\u001b[32m气\u001b[0m\u001b[32m大\u001b[0m\u001b[32m相\u001b[0m\u001b[32m径\u001b[0m\u001b[32m庭\u001b[0m\u001b[32m。\u001b[0m\u001b[32m周\u001b[0m\u001b[32m成\u001b[0m\u001b[32m淡淡\u001b[0m\u001b[32m解释\u001b[0m\u001b[32m：“\u001b[0m\u001b[32m这是\u001b[0m\u001b[32m星辰\u001b[0m\u001b[32m之力\u001b[0m\u001b[32m，\u001b[0m\u001b[32m宇宙\u001b[0m\u001b[32m间\u001b[0m\u001b[32m最为\u001b[0m\u001b[32m古老\u001b[0m\u001b[32m而\u001b[0m\u001b[32m神秘\u001b[0m\u001b[32m的力量\u001b[0m\u001b[32m。”\u001b[0m\u001b[32m夏\u001b[0m\u001b[32m小\u001b[0m\u001b[32m兰\u001b[0m\u001b[32m眼中\u001b[0m\u001b[32m露出\u001b[0m\u001b[32m向往\u001b[0m\u001b[32m之光\u001b[0m\u001b[32m，\u001b[0m\u001b[32m内心\u001b[0m\u001b[32m深处\u001b[0m\u001b[32m对\u001b[0m\u001b[32m修\u001b[0m\u001b[32m仙\u001b[0m\u001b[32m的理解\u001b[0m\u001b[32m被\u001b[0m\u001b[32m这\u001b[0m\u001b[32m股\u001b[0m\u001b[32m力量\u001b[0m\u001b[32m悄然\u001b[0m\u001b[32m改变\u001b[0m\u001b[32m。\n",
      "\n",
      "“\u001b[0m\u001b[32m原来\u001b[0m\u001b[32m修\u001b[0m\u001b[32m仙\u001b[0m\u001b[32m不仅仅是\u001b[0m\u001b[32m吸纳\u001b[0m\u001b[32m灵\u001b[0m\u001b[32m气\u001b[0m\u001b[32m，\u001b[0m\u001b[32m还可以\u001b[0m\u001b[32m与\u001b[0m\u001b[32m星辰\u001b[0m\u001b[32m共鸣\u001b[0m\u001b[32m。”\u001b[0m\u001b[32m夏\u001b[0m\u001b[32m小\u001b[0m\u001b[32m兰\u001b[0m\u001b[32m自\u001b[0m\u001b[32m语\u001b[0m\u001b[32m，\u001b[0m\u001b[32m她\u001b[0m\u001b[32m开始\u001b[0m\u001b[32m意识到\u001b[0m\u001b[32m，\u001b[0m\u001b[32m幽\u001b[0m\u001b[32m兰\u001b[0m\u001b[32m谷\u001b[0m\u001b[32m的\u001b[0m\u001b[32m修炼\u001b[0m\u001b[32m之道\u001b[0m\u001b[32m或许\u001b[0m\u001b[32m只是\u001b[0m\u001b[32m修\u001b[0m\u001b[32m仙\u001b[0m\u001b[32m的\u001b[0m\u001b[32m冰\u001b[0m\u001b[32m山\u001b[0m\u001b[32m一角\u001b[0m\u001b[32m。\u001b[0m\u001b[32m周\u001b[0m\u001b[32m成的\u001b[0m\u001b[32m出现\u001b[0m\u001b[32m，\u001b[0m\u001b[32m为她\u001b[0m\u001b[32m打开\u001b[0m\u001b[32m了一\u001b[0m\u001b[32m扇\u001b[0m\u001b[32m通往\u001b[0m\u001b[32m更\u001b[0m\u001b[32m广阔\u001b[0m\u001b[32m世界\u001b[0m\u001b[32m的大门\u001b[0m\u001b[32m。\n",
      "</\u001b[0m\u001b[32mOUT\u001b[0m\u001b[32mLINE\u001b[0m\u001b[32m>\u001b[0m\u001b[32m\u001b[0m\u001b[33m\n",
      "\u001b[0m\u001b[33m\n",
      "### 三、假仙的误会\n",
      "\n",
      "\n",
      "\u001b[0m\u001b[32m<\u001b[0m\u001b[32mOUT\u001b[0m\u001b[32mLINE\u001b[0m\u001b[32m>\n",
      "夏\u001b[0m\u001b[32m小\u001b[0m\u001b[32m兰\u001b[0m\u001b[32m开始了\u001b[0m\u001b[32m向\u001b[0m\u001b[32m周\u001b[0m\u001b[32m成\u001b[0m\u001b[32m学习\u001b[0m\u001b[32m星辰\u001b[0m\u001b[32m之\u001b[0m\u001b[32m力的\u001b[0m\u001b[32m旅程\u001b[0m\u001b[32m。\u001b[0m\u001b[32m在\u001b[0m\u001b[32m幽\u001b[0m\u001b[32m兰\u001b[0m\u001b[32m谷\u001b[0m\u001b[32m中\u001b[0m\u001b[32m，\u001b[0m\u001b[32m修炼\u001b[0m\u001b[32m主要是\u001b[0m\u001b[32m依靠\u001b[0m\u001b[32m吸纳\u001b[0m\u001b[32m天地\u001b[0m\u001b[32m灵\u001b[0m\u001b[32m气\u001b[0m\u001b[32m，\u001b[0m\u001b[32m以\u001b[0m\u001b[32m静\u001b[0m\u001b[32m心\u001b[0m\u001b[32m定性\u001b[0m\u001b[32m，\u001b[0m\u001b[32m调和\u001b[0m\u001b[32m阴阳\u001b[0m\u001b[32m五行\u001b[0m\u001b[32m，\u001b[0m\u001b[32m逐步\u001b[0m\u001b[32m提升\u001b[0m\u001b[32m自身的\u001b[0m\u001b[32m灵\u001b[0m\u001b[32m力\u001b[0m\u001b[32m。\u001b[0m\u001b[32m然而\u001b[0m\u001b[32m周\u001b[0m\u001b[32m成的\u001b[0m\u001b[32m修炼\u001b[0m\u001b[32m方式\u001b[0m\u001b[32m却是\u001b[0m\u001b[32m与\u001b[0m\u001b[32m星辰\u001b[0m\u001b[32m共鸣\u001b[0m\u001b[32m，\u001b[0m\u001b[32m动\u001b[0m\u001b[32m用\u001b[0m\u001b[32m体内的\u001b[0m\u001b[32m神奇\u001b[0m\u001b[32m血脉\u001b[0m\u001b[32m，\u001b[0m\u001b[32m操控\u001b[0m\u001b[32m星辰\u001b[0m\u001b[32m之力\u001b[0m\u001b[32m，\u001b[0m\u001b[32m其\u001b[0m\u001b[32m过程\u001b[0m\u001b[32m充满了\u001b[0m\u001b[32m节奏\u001b[0m\u001b[32m感\u001b[0m\u001b[32m与\u001b[0m\u001b[32m动态\u001b[0m\u001b[32m。\n",
      "\n",
      "起初\u001b[0m\u001b[32m，\u001b[0m\u001b[32m夏\u001b[0m\u001b[32m小\u001b[0m\u001b[32m兰\u001b[0m\u001b[32m对于\u001b[0m\u001b[32m周\u001b[0m\u001b[32m成\u001b[0m\u001b[32m教授\u001b[0m\u001b[32m的方法\u001b[0m\u001b[32m感到\u001b[0m\u001b[32m困惑\u001b[0m\u001b[32m不解\u001b[0m\u001b[32m。\u001b[0m\u001b[32m在一次\u001b[0m\u001b[32m修炼\u001b[0m\u001b[32m中\u001b[0m\u001b[32m，\u001b[0m\u001b[32m她\u001b[0m\u001b[32m按照\u001b[0m\u001b[32m周\u001b[0m\u001b[32m成的\u001b[0m\u001b[32m指示\u001b[0m\u001b[32m，\u001b[0m\u001b[32m尝试\u001b[0m\u001b[32m着\u001b[0m\u001b[32m引\u001b[0m\u001b[32m动\u001b[0m\u001b[32m星辰\u001b[0m\u001b[32m之力\u001b[0m\u001b[32m，\u001b[0m\u001b[32m却\u001b[0m\u001b[32m因为\u001b[0m\u001b[32m动作\u001b[0m\u001b[32m生\u001b[0m\u001b[32m疏\u001b[0m\u001b[32m而\u001b[0m\u001b[32m引发\u001b[0m\u001b[32m了一\u001b[0m\u001b[32m连\u001b[0m\u001b[32m串\u001b[0m\u001b[32m的小\u001b[0m\u001b[32m型\u001b[0m\u001b[32m灵\u001b[0m\u001b[32m气\u001b[0m\u001b[32m爆炸\u001b[0m\u001b[32m，\u001b[0m\u001b[32m将\u001b[0m\u001b[32m周围的\u001b[0m\u001b[32m灵\u001b[0m\u001b[32m草\u001b[0m\u001b[32m灵\u001b[0m\u001b[32m花\u001b[0m\u001b[32m破坏\u001b[0m\u001b[32m殆\u001b[0m\u001b[32m尽\u001b[0m\u001b[32m。\u001b[0m\u001b[32m周\u001b[0m\u001b[32m成\u001b[0m\u001b[32m皱\u001b[0m\u001b[32m着\u001b[0m\u001b[32m眉头\u001b[0m\u001b[32m，\u001b[0m\u001b[32m试图\u001b[0m\u001b[32m解释\u001b[0m\u001b[32m动作\u001b[0m\u001b[32m的\u001b[0m\u001b[32m细腻\u001b[0m\u001b[32m之处\u001b[0m\u001b[32m，\u001b[0m\u001b[32m但\u001b[0m\u001b[32m夏\u001b[0m\u001b[32m小\u001b[0m\u001b[32m兰\u001b[0m\u001b[32m却\u001b[0m\u001b[32m觉得\u001b[0m\u001b[32m他的\u001b[0m\u001b[32m方法\u001b[0m\u001b[32m过于\u001b[0m\u001b[32m玄\u001b[0m\u001b[32m妙\u001b[0m\u001b[32m，\u001b[0m\u001b[32m难以\u001b[0m\u001b[32m掌握\u001b[0m\u001b[32m。\n",
      "\n",
      "“\u001b[0m\u001b[32m你的\u001b[0m\u001b[32m方式\u001b[0m\u001b[32m太\u001b[0m\u001b[32m激烈\u001b[0m\u001b[32m了\u001b[0m\u001b[32m，\u001b[0m\u001b[32m和我们\u001b[0m\u001b[32m谷\u001b[0m\u001b[32m中的\u001b[0m\u001b[32m修炼\u001b[0m\u001b[32m完全\u001b[0m\u001b[32m不同\u001b[0m\u001b[32m。”\u001b[0m\u001b[32m夏\u001b[0m\u001b[32m小\u001b[0m\u001b[32m兰\u001b[0m\u001b[32m有些\u001b[0m\u001b[32m气\u001b[0m\u001b[32m馁\u001b[0m\u001b[32m，\u001b[0m\u001b[32m心中\u001b[0m\u001b[32m对\u001b[0m\u001b[32m周\u001b[0m\u001b[32m成的\u001b[0m\u001b[32m“\u001b[0m\u001b[32m假\u001b[0m\u001b[32m仙\u001b[0m\u001b[32m”\u001b[0m\u001b[32m之\u001b[0m\u001b[32m术\u001b[0m\u001b[32m产生了\u001b[0m\u001b[32m怀疑\u001b[0m\u001b[32m。\n",
      "\n",
      "“\u001b[0m\u001b[32m传统\u001b[0m\u001b[32m也有\u001b[0m\u001b[32m其\u001b[0m\u001b[32m局限性\u001b[0m\u001b[32m。”\u001b[0m\u001b[32m周\u001b[0m\u001b[32m成\u001b[0m\u001b[32m回应\u001b[0m\u001b[32m，\u001b[0m\u001b[32m他\u001b[0m\u001b[32m试图\u001b[0m\u001b[32m让\u001b[0m\u001b[32m夏\u001b[0m\u001b[32m小\u001b[0m\u001b[32m兰\u001b[0m\u001b[32m理解\u001b[0m\u001b[32m星辰\u001b[0m\u001b[32m之\u001b[0m\u001b[32m力的\u001b[0m\u001b[32m奥\u001b[0m\u001b[32m妙\u001b[0m\u001b[32m，\u001b[0m\u001b[32m但\u001b[0m\u001b[32m两人\u001b[0m\u001b[32m之间的\u001b[0m\u001b[32m误会\u001b[0m\u001b[32m和\u001b[0m\u001b[32m冲突\u001b[0m\u001b[32m却\u001b[0m\u001b[32m愈发\u001b[0m\u001b[32m明显\u001b[0m\u001b[32m。\n",
      "\n",
      "一次\u001b[0m\u001b[32m偶然\u001b[0m\u001b[32m的机会\u001b[0m\u001b[32m，\u001b[0m\u001b[32m夏\u001b[0m\u001b[32m小\u001b[0m\u001b[32m兰\u001b[0m\u001b[32m在\u001b[0m\u001b[32m练习\u001b[0m\u001b[32m时不\u001b[0m\u001b[32m小心\u001b[0m\u001b[32m触动\u001b[0m\u001b[32m了一\u001b[0m\u001b[32m颗\u001b[0m\u001b[32m流星\u001b[0m\u001b[32m，\u001b[0m\u001b[32m流星\u001b[0m\u001b[32m的力量\u001b[0m\u001b[32m被\u001b[0m\u001b[32m她\u001b[0m\u001b[32m体内\u001b[0m\u001b[32m隐藏\u001b[0m\u001b[32m的\u001b[0m\u001b[32m血脉\u001b[0m\u001b[32m所\u001b[0m\u001b[32m感应\u001b[0m\u001b[32m，\u001b[0m\u001b[32m瞬间\u001b[0m\u001b[32m形成\u001b[0m\u001b[32m了一\u001b[0m\u001b[32m道\u001b[0m\u001b[32m美丽的\u001b[0m\u001b[32m星\u001b[0m\u001b[32m轨\u001b[0m\u001b[32m。\u001b[0m\u001b[32m夏\u001b[0m\u001b[32m小\u001b[0m\u001b[32m兰\u001b[0m\u001b[32m惊讶\u001b[0m\u001b[32m地\u001b[0m\u001b[32m发现\u001b[0m\u001b[32m，\u001b[0m\u001b[32m自己\u001b[0m\u001b[32m竟然\u001b[0m\u001b[32m能够\u001b[0m\u001b[32m理解\u001b[0m\u001b[32m周\u001b[0m\u001b[32m成\u001b[0m\u001b[32m所说的\u001b[0m\u001b[32m星辰\u001b[0m\u001b[32m之力\u001b[0m\u001b[32m了\u001b[0m\u001b[32m。\u001b[0m\u001b[32m她\u001b[0m\u001b[32m看向\u001b[0m\u001b[32m周\u001b[0m\u001b[32m成\u001b[0m\u001b[32m，\u001b[0m\u001b[32m发现\u001b[0m\u001b[32m对方\u001b[0m\u001b[32m眼中\u001b[0m\u001b[32m同样\u001b[0m\u001b[32m带着\u001b[0m\u001b[32m惊喜\u001b[0m\u001b[32m。\n",
      "\n",
      "“\u001b[0m\u001b[32m原来\u001b[0m\u001b[32m是这样\u001b[0m\u001b[32m！”\u001b[0m\u001b[32m夏\u001b[0m\u001b[32m小\u001b[0m\u001b[32m兰\u001b[0m\u001b[32m兴奋\u001b[0m\u001b[32m地\u001b[0m\u001b[32m喊\u001b[0m\u001b[32m道\u001b[0m\u001b[32m。\n",
      "\n",
      "误会\u001b[0m\u001b[32m终于\u001b[0m\u001b[32m解开\u001b[0m\u001b[32m，\u001b[0m\u001b[32m夏\u001b[0m\u001b[32m小\u001b[0m\u001b[32m兰\u001b[0m\u001b[32m和\u001b[0m\u001b[32m周\u001b[0m\u001b[32m成\u001b[0m\u001b[32m开始\u001b[0m\u001b[32m互相\u001b[0m\u001b[32m理解和\u001b[0m\u001b[32m尊重\u001b[0m\u001b[32m对方的\u001b[0m\u001b[32m修炼\u001b[0m\u001b[32m方式\u001b[0m\u001b[32m。\u001b[0m\u001b[32m夏\u001b[0m\u001b[32m小\u001b[0m\u001b[32m兰\u001b[0m\u001b[32m领悟\u001b[0m\u001b[32m到\u001b[0m\u001b[32m星辰\u001b[0m\u001b[32m之\u001b[0m\u001b[32m力的\u001b[0m\u001b[32m灵动\u001b[0m\u001b[32m与\u001b[0m\u001b[32m强大\u001b[0m\u001b[32m，\u001b[0m\u001b[32m而\u001b[0m\u001b[32m周\u001b[0m\u001b[32m成\u001b[0m\u001b[32m也\u001b[0m\u001b[32m体会到\u001b[0m\u001b[32m幽\u001b[0m\u001b[32m兰\u001b[0m\u001b[32m谷\u001b[0m\u001b[32m灵\u001b[0m\u001b[32m气的\u001b[0m\u001b[32m细腻\u001b[0m\u001b[32m与\u001b[0m\u001b[32m平和\u001b[0m\u001b[32m。\u001b[0m\u001b[32m两人\u001b[0m\u001b[32m决定\u001b[0m\u001b[32m结合\u001b[0m\u001b[32m两种\u001b[0m\u001b[32m修炼\u001b[0m\u001b[32m方法\u001b[0m\u001b[32m，\u001b[0m\u001b[32m探索\u001b[0m\u001b[32m出\u001b[0m\u001b[32m一条\u001b[0m\u001b[32m全新的\u001b[0m\u001b[32m修\u001b[0m\u001b[32m仙\u001b[0m\u001b[32m之道\u001b[0m\u001b[32m。\n",
      "</\u001b[0m\u001b[32mOUT\u001b[0m\u001b[32mLINE\u001b[0m\u001b[32m>\u001b[0m\u001b[32m\u001b[0m\u001b[33m\n",
      "\u001b[0m\u001b[33m\n",
      "### 四、打脸的真相\n",
      "\n",
      "\n",
      "\u001b[0m\u001b[32m<\u001b[0m\u001b[32mOUT\u001b[0m\u001b[32mLINE\u001b[0m\u001b[32m>\n",
      "一天\u001b[0m\u001b[32m，\u001b[0m\u001b[32m幽\u001b[0m\u001b[32m兰\u001b[0m\u001b[32m谷\u001b[0m\u001b[32m的\u001b[0m\u001b[32m宁静\u001b[0m\u001b[32m被\u001b[0m\u001b[32m一名\u001b[0m\u001b[32m身穿\u001b[0m\u001b[32m黑\u001b[0m\u001b[32m袍\u001b[0m\u001b[32m的\u001b[0m\u001b[32m修\u001b[0m\u001b[32m仙\u001b[0m\u001b[32m者\u001b[0m\u001b[32m打破\u001b[0m\u001b[32m。\u001b[0m\u001b[32m他\u001b[0m\u001b[32m身上\u001b[0m\u001b[32m散发\u001b[0m\u001b[32m出的\u001b[0m\u001b[32m邪\u001b[0m\u001b[32m气\u001b[0m\u001b[32m与\u001b[0m\u001b[32m幽\u001b[0m\u001b[32m兰\u001b[0m\u001b[32m谷\u001b[0m\u001b[32m的\u001b[0m\u001b[32m灵\u001b[0m\u001b[32m气\u001b[0m\u001b[32m格格\u001b[0m\u001b[32m不入\u001b[0m\u001b[32m，\u001b[0m\u001b[32m显然\u001b[0m\u001b[32m来\u001b[0m\u001b[32m者\u001b[0m\u001b[32m不善\u001b[0m\u001b[32m。\u001b[0m\u001b[32m黑\u001b[0m\u001b[32m袍\u001b[0m\u001b[32m人\u001b[0m\u001b[32m目光\u001b[0m\u001b[32m凶\u001b[0m\u001b[32m狠\u001b[0m\u001b[32m，\u001b[0m\u001b[32m嘴角\u001b[0m\u001b[32m挂着\u001b[0m\u001b[32m冷\u001b[0m\u001b[32m笑\u001b[0m\u001b[32m，\u001b[0m\u001b[32m一步一步\u001b[0m\u001b[32m地向\u001b[0m\u001b[32m谷\u001b[0m\u001b[32m中\u001b[0m\u001b[32m深处\u001b[0m\u001b[32m走去\u001b[0m\u001b[32m。\n",
      "\n",
      "夏\u001b[0m\u001b[32m小\u001b[0m\u001b[32m兰\u001b[0m\u001b[32m和\u001b[0m\u001b[32m周\u001b[0m\u001b[32m成\u001b[0m\u001b[32m感应\u001b[0m\u001b[32m到了\u001b[0m\u001b[32m这\u001b[0m\u001b[32m股\u001b[0m\u001b[32m异\u001b[0m\u001b[32m样的\u001b[0m\u001b[32m气息\u001b[0m\u001b[32m，\u001b[0m\u001b[32m立刻\u001b[0m\u001b[32m警\u001b[0m\u001b[32m觉\u001b[0m\u001b[32m起来\u001b[0m\u001b[32m。\u001b[0m\u001b[32m他们\u001b[0m\u001b[32m迅速\u001b[0m\u001b[32m交换\u001b[0m\u001b[32m了一个\u001b[0m\u001b[32m眼\u001b[0m\u001b[32m色\u001b[0m\u001b[32m，\u001b[0m\u001b[32m决定\u001b[0m\u001b[32m合力\u001b[0m\u001b[32m对抗\u001b[0m\u001b[32m这位\u001b[0m\u001b[32m不\u001b[0m\u001b[32m速\u001b[0m\u001b[32m之\u001b[0m\u001b[32m客\u001b[0m\u001b[32m。\u001b[0m\u001b[32m黑\u001b[0m\u001b[32m袍\u001b[0m\u001b[32m人\u001b[0m\u001b[32m发现了\u001b[0m\u001b[32m他们的\u001b[0m\u001b[32m踪\u001b[0m\u001b[32m迹\u001b[0m\u001b[32m，\u001b[0m\u001b[32m狞\u001b[0m\u001b[32m笑\u001b[0m\u001b[32m一声\u001b[0m\u001b[32m，\u001b[0m\u001b[32m挥手\u001b[0m\u001b[32m间\u001b[0m\u001b[32m便\u001b[0m\u001b[32m释放\u001b[0m\u001b[32m出一\u001b[0m\u001b[32m道\u001b[0m\u001b[32m强大的\u001b[0m\u001b[32m灵\u001b[0m\u001b[32m气\u001b[0m\u001b[32m攻击\u001b[0m\u001b[32m。\n",
      "\n",
      "战斗\u001b[0m\u001b[32m一\u001b[0m\u001b[32m触\u001b[0m\u001b[32m即\u001b[0m\u001b[32m发\u001b[0m\u001b[32m，\u001b[0m\u001b[32m夏\u001b[0m\u001b[32m小\u001b[0m\u001b[32m兰\u001b[0m\u001b[32m运用\u001b[0m\u001b[32m谷\u001b[0m\u001b[32m中\u001b[0m\u001b[32m修炼\u001b[0m\u001b[32m多年的\u001b[0m\u001b[32m灵\u001b[0m\u001b[32m气\u001b[0m\u001b[32m，\u001b[0m\u001b[32m与\u001b[0m\u001b[32m黑\u001b[0m\u001b[32m袍\u001b[0m\u001b[32m人\u001b[0m\u001b[32m展开\u001b[0m\u001b[32m激烈的\u001b[0m\u001b[32m对抗\u001b[0m\u001b[32m。\u001b[0m\u001b[32m然而\u001b[0m\u001b[32m，\u001b[0m\u001b[32m她\u001b[0m\u001b[32m发现自己\u001b[0m\u001b[32m原本\u001b[0m\u001b[32m的\u001b[0m\u001b[32m修炼\u001b[0m\u001b[32m方法\u001b[0m\u001b[32m在面对\u001b[0m\u001b[32m黑\u001b[0m\u001b[32m袍\u001b[0m\u001b[32m人\u001b[0m\u001b[32m时\u001b[0m\u001b[32m显得\u001b[0m\u001b[32m有些\u001b[0m\u001b[32m力\u001b[0m\u001b[32m不从\u001b[0m\u001b[32m心\u001b[0m\u001b[32m。\u001b[0m\u001b[32m黑\u001b[0m\u001b[32m袍\u001b[0m\u001b[32m人的\u001b[0m\u001b[32m攻击\u001b[0m\u001b[32m猛烈\u001b[0m\u001b[32m而\u001b[0m\u001b[32m狡\u001b[0m\u001b[32m猾\u001b[0m\u001b[32m，\u001b[0m\u001b[32m一时间\u001b[0m\u001b[32m竟\u001b[0m\u001b[32m让\u001b[0m\u001b[32m夏\u001b[0m\u001b[32m小\u001b[0m\u001b[32m兰\u001b[0m\u001b[32m陷入了\u001b[0m\u001b[32m被动\u001b[0m\u001b[32m。\n",
      "\n",
      "就在\u001b[0m\u001b[32m此时\u001b[0m\u001b[32m，\u001b[0m\u001b[32m周\u001b[0m\u001b[32m成\u001b[0m\u001b[32m挺\u001b[0m\u001b[32m身\u001b[0m\u001b[32m而出\u001b[0m\u001b[32m，\u001b[0m\u001b[32m双眼\u001b[0m\u001b[32m闪烁\u001b[0m\u001b[32m着\u001b[0m\u001b[32m星辰\u001b[0m\u001b[32m般\u001b[0m\u001b[32m的光\u001b[0m\u001b[32m芒\u001b[0m\u001b[32m。\u001b[0m\u001b[32m他\u001b[0m\u001b[32m双手\u001b[0m\u001b[32m快速\u001b[0m\u001b[32m结\u001b[0m\u001b[32m印\u001b[0m\u001b[32m，\u001b[0m\u001b[32m操控\u001b[0m\u001b[32m星辰\u001b[0m\u001b[32m之力\u001b[0m\u001b[32m与\u001b[0m\u001b[32m黑\u001b[0m\u001b[32m袍\u001b[0m\u001b[32m人\u001b[0m\u001b[32m展开\u001b[0m\u001b[32m激\u001b[0m\u001b[32m战\u001b[0m\u001b[32m。\u001b[0m\u001b[32m周\u001b[0m\u001b[32m成的\u001b[0m\u001b[32m“\u001b[0m\u001b[32m假\u001b[0m\u001b[32m仙\u001b[0m\u001b[32m”\u001b[0m\u001b[32m术\u001b[0m\u001b[32m惊艳\u001b[0m\u001b[32m全场\u001b[0m\u001b[32m，\u001b[0m\u001b[32m他\u001b[0m\u001b[32m不仅\u001b[0m\u001b[32m能够\u001b[0m\u001b[32m迅速\u001b[0m\u001b[32m躲避\u001b[0m\u001b[32m黑\u001b[0m\u001b[32m袍\u001b[0m\u001b[32m人的\u001b[0m\u001b[32m攻击\u001b[0m\u001b[32m，\u001b[0m\u001b[32m还能\u001b[0m\u001b[32m借助\u001b[0m\u001b[32m星辰\u001b[0m\u001b[32m之力\u001b[0m\u001b[32m进行\u001b[0m\u001b[32m反击\u001b[0m\u001b[32m，\u001b[0m\u001b[32m每一次\u001b[0m\u001b[32m出手\u001b[0m\u001b[32m都\u001b[0m\u001b[32m让\u001b[0m\u001b[32m黑\u001b[0m\u001b[32m袍\u001b[0m\u001b[32m人\u001b[0m\u001b[32m痛\u001b[0m\u001b[32m不\u001b[0m\u001b[32m欲\u001b[0m\u001b[32m生\u001b[0m\u001b[32m。\n",
      "\n",
      "合作\u001b[0m\u001b[32m过程中\u001b[0m\u001b[32m，\u001b[0m\u001b[32m夏\u001b[0m\u001b[32m小\u001b[0m\u001b[32m兰\u001b[0m\u001b[32m目睹\u001b[0m\u001b[32m了\u001b[0m\u001b[32m周\u001b[0m\u001b[32m成\u001b[0m\u001b[32m那\u001b[0m\u001b[32m神\u001b[0m\u001b[32m乎\u001b[0m\u001b[32m其\u001b[0m\u001b[32m技\u001b[0m\u001b[32m的\u001b[0m\u001b[32m星辰\u001b[0m\u001b[32m操控\u001b[0m\u001b[32m之力\u001b[0m\u001b[32m，\u001b[0m\u001b[32m内心\u001b[0m\u001b[32m震撼\u001b[0m\u001b[32m不已\u001b[0m\u001b[32m。\u001b[0m\u001b[32m她\u001b[0m\u001b[32m发现\u001b[0m\u001b[32m周\u001b[0m\u001b[32m成的\u001b[0m\u001b[32m修炼\u001b[0m\u001b[32m方法\u001b[0m\u001b[32m并非\u001b[0m\u001b[32m她\u001b[0m\u001b[32m想象\u001b[0m\u001b[32m中的\u001b[0m\u001b[32m“\u001b[0m\u001b[32m假\u001b[0m\u001b[32m仙\u001b[0m\u001b[32m”，\u001b[0m\u001b[32m而\u001b[0m\u001b[32m是一种\u001b[0m\u001b[32m真正\u001b[0m\u001b[32m强大的\u001b[0m\u001b[32m修\u001b[0m\u001b[32m仙\u001b[0m\u001b[32m之\u001b[0m\u001b[32m术\u001b[0m\u001b[32m。\n",
      "\n",
      "经过\u001b[0m\u001b[32m一番\u001b[0m\u001b[32m激\u001b[0m\u001b[32m战\u001b[0m\u001b[32m，\u001b[0m\u001b[32m黑\u001b[0m\u001b[32m袍\u001b[0m\u001b[32m人\u001b[0m\u001b[32m终于\u001b[0m\u001b[32m被\u001b[0m\u001b[32m夏\u001b[0m\u001b[32m小\u001b[0m\u001b[32m兰\u001b[0m\u001b[32m和\u001b[0m\u001b[32m周\u001b[0m\u001b[32m成\u001b[0m\u001b[32m联手\u001b[0m\u001b[32m击败\u001b[0m\u001b[32m，\u001b[0m\u001b[32m狼\u001b[0m\u001b[32m狈\u001b[0m\u001b[32m地\u001b[0m\u001b[32m逃离\u001b[0m\u001b[32m了\u001b[0m\u001b[32m幽\u001b[0m\u001b[32m兰\u001b[0m\u001b[32m谷\u001b[0m\u001b[32m。\u001b[0m\u001b[32m战斗\u001b[0m\u001b[32m结束后\u001b[0m\u001b[32m，\u001b[0m\u001b[32m夏\u001b[0m\u001b[32m小\u001b[0m\u001b[32m兰\u001b[0m\u001b[32m对\u001b[0m\u001b[32m周\u001b[0m\u001b[32m成\u001b[0m\u001b[32m投\u001b[0m\u001b[32m去\u001b[0m\u001b[32m敬佩\u001b[0m\u001b[32m的目光\u001b[0m\u001b[32m，\u001b[0m\u001b[32m心中\u001b[0m\u001b[32m已经\u001b[0m\u001b[32m完全\u001b[0m\u001b[32m改变\u001b[0m\u001b[32m了对\u001b[0m\u001b[32m他的\u001b[0m\u001b[32m看法\u001b[0m\u001b[32m。\n",
      "\n",
      "“\u001b[0m\u001b[32m周\u001b[0m\u001b[32m成\u001b[0m\u001b[32m，\u001b[0m\u001b[32m你的\u001b[0m\u001b[32m修\u001b[0m\u001b[32m仙\u001b[0m\u001b[32m之\u001b[0m\u001b[32m术\u001b[0m\u001b[32m真的\u001b[0m\u001b[32m让我\u001b[0m\u001b[32m叹\u001b[0m\u001b[32m为\u001b[0m\u001b[32m观\u001b[0m\u001b[32m止\u001b[0m\u001b[32m。”\u001b[0m\u001b[32m夏\u001b[0m\u001b[32m小\u001b[0m\u001b[32m兰\u001b[0m\u001b[32m由\u001b[0m\u001b[32m衷\u001b[0m\u001b[32m地说道\u001b[0m\u001b[32m，“\u001b[0m\u001b[32m以前\u001b[0m\u001b[32m是我\u001b[0m\u001b[32m误会\u001b[0m\u001b[32m了你\u001b[0m\u001b[32m，\u001b[0m\u001b[32m从\u001b[0m\u001b[32m今\u001b[0m\u001b[32m以后\u001b[0m\u001b[32m，\u001b[0m\u001b[32m我要\u001b[0m\u001b[32m向你\u001b[0m\u001b[32m认真学习\u001b[0m\u001b[32m星辰\u001b[0m\u001b[32m之力\u001b[0m\u001b[32m。”\n",
      "\n",
      "周\u001b[0m\u001b[32m成\u001b[0m\u001b[32m微笑\u001b[0m\u001b[32m着\u001b[0m\u001b[32m点了\u001b[0m\u001b[32m点头\u001b[0m\u001b[32m，\u001b[0m\u001b[32m两人\u001b[0m\u001b[32m因\u001b[0m\u001b[32m这场\u001b[0m\u001b[32m战斗\u001b[0m\u001b[32m而\u001b[0m\u001b[32m加深\u001b[0m\u001b[32m了\u001b[0m\u001b[32m彼此\u001b[0m\u001b[32m的\u001b[0m\u001b[32m信任\u001b[0m\u001b[32m，\u001b[0m\u001b[32m也为\u001b[0m\u001b[32m今后的\u001b[0m\u001b[32m修炼\u001b[0m\u001b[32m之路\u001b[0m\u001b[32m奠定了\u001b[0m\u001b[32m坚实的基础\u001b[0m\u001b[32m。\n",
      "</\u001b[0m\u001b[32mOUT\u001b[0m\u001b[32mLINE\u001b[0m\u001b[32m>\u001b[0m\u001b[32m\u001b[0m\u001b[33m\n",
      "\u001b[0m\u001b[31m\n",
      "\n",
      "已保存 教程/我修了个假仙人.md, 共计 1997 字。\n",
      "\u001b[0m"
     ]
    }
   ],
   "source": [
    "p.from_outline(\n",
    "    output_file=\"我修了个假仙人.md\",\n",
    "    completed=\"提纲.md\",\n",
    "    task=\"多使用人物细节、对话描写、打斗描写，减少抽象叙事\",\n",
    "    knowledge=[\"人物设定.md\"]\n",
    ")"
   ]
  },
  {
   "cell_type": "code",
   "execution_count": null,
   "id": "d7e72467-282f-410a-9c7d-bb19413e0646",
   "metadata": {},
   "outputs": [],
   "source": [
    "p.more_outline(\n",
    "    output_file=\"更细的大纲.md\",\n",
    "    completed=\"提纲.md\",\n",
    "    task=\"多使用人物细节、对话描写、打斗描写，减少抽象叙事\",\n",
    "    knowledge=[\"人物设定.md\"]\"\n",
    ")"
   ]
  },
  {
   "cell_type": "markdown",
   "id": "1b238dbf-570b-4440-902c-ffae5b8bd38d",
   "metadata": {},
   "source": [
    "## 运行脚本"
   ]
  },
  {
   "cell_type": "markdown",
   "id": "056eca60-e11a-4e07-bbef-b5c08e33d354",
   "metadata": {},
   "source": [
    "### 保存脚本"
   ]
  },
  {
   "cell_type": "code",
   "execution_count": 4,
   "id": "0c3341c8-a129-4f31-9fad-fad623155e53",
   "metadata": {},
   "outputs": [
    {
     "data": {
      "text/plain": [
       "True"
      ]
     },
     "execution_count": 4,
     "metadata": {},
     "output_type": "execute_result"
    }
   ],
   "source": [
    "p.save_script()"
   ]
  },
  {
   "cell_type": "markdown",
   "id": "1932d971-4bcd-4fc2-a1f2-faf2110efdde",
   "metadata": {},
   "source": [
    "### 查看脚本"
   ]
  },
  {
   "cell_type": "code",
   "execution_count": 3,
   "id": "cda71037-c092-4da6-aec8-dd5b3818c562",
   "metadata": {},
   "outputs": [
    {
     "data": {
      "text/plain": [
       "[{'modified_at': '2024-06-25 21:47:42',\n",
       "  'output_file': '人物设定.md',\n",
       "  'command': 'stream',\n",
       "  'args': {'task': '我要写一个修仙小说，主角是夏小兰，男一号是周成，请帮我设想一下这两个人的出身，要非常魔幻。',\n",
       "   'sep_mode': 'all',\n",
       "   'prompt_id': 'IDEA',\n",
       "   'base_folder': '教程'}},\n",
       " {'modified_at': '2024-06-25 21:47:51',\n",
       "  'output_file': '提纲.md',\n",
       "  'command': 'stream',\n",
       "  'args': {'task': '请帮我创作500字的修仙小说，标题为《我修了个假仙》，主角是夏小兰，男一号是周成，每一个章节都适用意外、打脸的线索推动。',\n",
       "   'sep_mode': 'all',\n",
       "   'knowledge': ['人物设定.md'],\n",
       "   'prompt_id': 'OUTLINE',\n",
       "   'base_folder': '教程'}},\n",
       " {'modified_at': '2024-06-25 21:48:09',\n",
       "  'output_file': '我修了个假仙人.md',\n",
       "  'command': 'stream',\n",
       "  'args': {'task': '多使用人物细节、对话描写、打斗描写，减少抽象叙事',\n",
       "   'input': '提纲.md',\n",
       "   'sep_mode': 'outline',\n",
       "   'knowledge': ['人物设定.md'],\n",
       "   'prompt_id': 'FROM_OUTLINE',\n",
       "   'tag_start': '<OUTLINE>',\n",
       "   'tag_end': '</OUTLINE>',\n",
       "   'base_folder': '教程'}}]"
      ]
     },
     "execution_count": 3,
     "metadata": {},
     "output_type": "execute_result"
    }
   ],
   "source": [
    "p.load_script()"
   ]
  },
  {
   "cell_type": "markdown",
   "id": "9b7c0930-4fde-4c4f-9213-297054c21e9e",
   "metadata": {},
   "source": [
    "### 运行脚本"
   ]
  },
  {
   "cell_type": "code",
   "execution_count": 3,
   "id": "04e0b944-d88b-4ba7-8dbb-f4a85f9cb920",
   "metadata": {},
   "outputs": [
    {
     "name": "stdout",
     "output_type": "stream",
     "text": [
      "\u001b[34m\n",
      ">->>> Prompt ID: IDEAIDEA | 人物设定.md <<<-<\n",
      "\u001b[0m\u001b[32m夏\u001b[0m\u001b[32m小\u001b[0m\u001b[32m兰\u001b[0m\u001b[32m，\u001b[0m\u001b[32m出生于\u001b[0m\u001b[32m神秘的\u001b[0m\u001b[32m「\u001b[0m\u001b[32m兰花\u001b[0m\u001b[32m仙\u001b[0m\u001b[32m谷\u001b[0m\u001b[32m」，\u001b[0m\u001b[32m她的\u001b[0m\u001b[32m家族\u001b[0m\u001b[32m世代\u001b[0m\u001b[32m修炼\u001b[0m\u001b[32m「\u001b[0m\u001b[32m兰花\u001b[0m\u001b[32m神\u001b[0m\u001b[32m诀\u001b[0m\u001b[32m」，\u001b[0m\u001b[32m拥有\u001b[0m\u001b[32m能\u001b[0m\u001b[32m操控\u001b[0m\u001b[32m花\u001b[0m\u001b[32m木\u001b[0m\u001b[32m、\u001b[0m\u001b[32m灵\u001b[0m\u001b[32m气\u001b[0m\u001b[32m为\u001b[0m\u001b[32m食\u001b[0m\u001b[32m的\u001b[0m\u001b[32m奇特\u001b[0m\u001b[32m能力\u001b[0m\u001b[32m。\u001b[0m\u001b[32m在\u001b[0m\u001b[32m仙\u001b[0m\u001b[32m谷\u001b[0m\u001b[32m中\u001b[0m\u001b[32m，\u001b[0m\u001b[32m有一\u001b[0m\u001b[32m株\u001b[0m\u001b[32m万年\u001b[0m\u001b[32m兰花\u001b[0m\u001b[32m，\u001b[0m\u001b[32m传闻\u001b[0m\u001b[32m它是\u001b[0m\u001b[32m上古\u001b[0m\u001b[32m花\u001b[0m\u001b[32m神\u001b[0m\u001b[32m遗留\u001b[0m\u001b[32m的\u001b[0m\u001b[32m仙\u001b[0m\u001b[32m种\u001b[0m\u001b[32m，\u001b[0m\u001b[32m夏\u001b[0m\u001b[32m小\u001b[0m\u001b[32m兰\u001b[0m\u001b[32m便\u001b[0m\u001b[32m是由\u001b[0m\u001b[32m这\u001b[0m\u001b[32m株\u001b[0m\u001b[32m兰花\u001b[0m\u001b[32m孕育\u001b[0m\u001b[32m而生\u001b[0m\u001b[32m，\u001b[0m\u001b[32m因此\u001b[0m\u001b[32m她\u001b[0m\u001b[32m自\u001b[0m\u001b[32m幼\u001b[0m\u001b[32m便\u001b[0m\u001b[32m身\u001b[0m\u001b[32m怀\u001b[0m\u001b[32m异\u001b[0m\u001b[32m禀\u001b[0m\u001b[32m，\u001b[0m\u001b[32m被视为\u001b[0m\u001b[32m兰花\u001b[0m\u001b[32m仙\u001b[0m\u001b[32m谷\u001b[0m\u001b[32m的\u001b[0m\u001b[32m奇迹\u001b[0m\u001b[32m。\n",
      "\n",
      "周\u001b[0m\u001b[32m成\u001b[0m\u001b[32m，\u001b[0m\u001b[32m来自\u001b[0m\u001b[32m「\u001b[0m\u001b[32m星辰\u001b[0m\u001b[32m之\u001b[0m\u001b[32m海\u001b[0m\u001b[32m」\u001b[0m\u001b[32m的\u001b[0m\u001b[32m神秘\u001b[0m\u001b[32m家族\u001b[0m\u001b[32m，\u001b[0m\u001b[32m其\u001b[0m\u001b[32m祖先\u001b[0m\u001b[32m曾是\u001b[0m\u001b[32m九\u001b[0m\u001b[32m天\u001b[0m\u001b[32m之上的\u001b[0m\u001b[32m星\u001b[0m\u001b[32m君\u001b[0m\u001b[32m，\u001b[0m\u001b[32m因\u001b[0m\u001b[32m一次\u001b[0m\u001b[32m意外\u001b[0m\u001b[32m流\u001b[0m\u001b[32m落\u001b[0m\u001b[32m凡\u001b[0m\u001b[32m间\u001b[0m\u001b[32m，\u001b[0m\u001b[32m开创\u001b[0m\u001b[32m了\u001b[0m\u001b[32m周\u001b[0m\u001b[32m家\u001b[0m\u001b[32m。\u001b[0m\u001b[32m周\u001b[0m\u001b[32m成\u001b[0m\u001b[32m自\u001b[0m\u001b[32m小\u001b[0m\u001b[32m受到\u001b[0m\u001b[32m家族\u001b[0m\u001b[32m秘\u001b[0m\u001b[32m传\u001b[0m\u001b[32m的\u001b[0m\u001b[32m「\u001b[0m\u001b[32m星辰\u001b[0m\u001b[32m神\u001b[0m\u001b[32m诀\u001b[0m\u001b[32m」\u001b[0m\u001b[32m栽培\u001b[0m\u001b[32m，\u001b[0m\u001b[32m能够\u001b[0m\u001b[32m操控\u001b[0m\u001b[32m星辰\u001b[0m\u001b[32m之力\u001b[0m\u001b[32m，\u001b[0m\u001b[32m与\u001b[0m\u001b[32m天地\u001b[0m\u001b[32m共鸣\u001b[0m\u001b[32m。\u001b[0m\u001b[32m他的\u001b[0m\u001b[32m出生\u001b[0m\u001b[32m伴随着\u001b[0m\u001b[32m天\u001b[0m\u001b[32m象\u001b[0m\u001b[32m异\u001b[0m\u001b[32m变\u001b[0m\u001b[32m，\u001b[0m\u001b[32m星辰\u001b[0m\u001b[32m闪耀\u001b[0m\u001b[32m，\u001b[0m\u001b[32m被认为\u001b[0m\u001b[32m承载\u001b[0m\u001b[32m着\u001b[0m\u001b[32m星辰\u001b[0m\u001b[32m之\u001b[0m\u001b[32m海的\u001b[0m\u001b[32m命运\u001b[0m\u001b[32m。\n",
      "\n",
      "**\u001b[0m\u001b[32m人物\u001b[0m\u001b[32m设定\u001b[0m\u001b[32m：\u001b[0m\u001b[32m**\n",
      "\n",
      "-\u001b[0m\u001b[32m **\u001b[0m\u001b[32m夏\u001b[0m\u001b[32m小\u001b[0m\u001b[32m兰\u001b[0m\u001b[32m**\n",
      " \u001b[0m\u001b[32m -\u001b[0m\u001b[32m 出\u001b[0m\u001b[32m身\u001b[0m\u001b[32m：\u001b[0m\u001b[32m兰花\u001b[0m\u001b[32m仙\u001b[0m\u001b[32m谷\u001b[0m\u001b[32m\n",
      " \u001b[0m\u001b[32m -\u001b[0m\u001b[32m 特\u001b[0m\u001b[32m点\u001b[0m\u001b[32m：\u001b[0m\u001b[32m花\u001b[0m\u001b[32m神\u001b[0m\u001b[32m后代\u001b[0m\u001b[32m，\u001b[0m\u001b[32m操控\u001b[0m\u001b[32m花\u001b[0m\u001b[32m木\u001b[0m\u001b[32m，\u001b[0m\u001b[32m食\u001b[0m\u001b[32m灵\u001b[0m\u001b[32m气\u001b[0m\u001b[32m\n",
      " \u001b[0m\u001b[32m -\u001b[0m\u001b[32m 法\u001b[0m\u001b[32m诀\u001b[0m\u001b[32m：\u001b[0m\u001b[32m兰花\u001b[0m\u001b[32m神\u001b[0m\u001b[32m诀\u001b[0m\u001b[32m\n",
      "\n",
      "-\u001b[0m\u001b[32m **\u001b[0m\u001b[32m周\u001b[0m\u001b[32m成\u001b[0m\u001b[32m**\n",
      " \u001b[0m\u001b[32m -\u001b[0m\u001b[32m 出\u001b[0m\u001b[32m身\u001b[0m\u001b[32m：\u001b[0m\u001b[32m星辰\u001b[0m\u001b[32m之\u001b[0m\u001b[32m海\u001b[0m\u001b[32m周\u001b[0m\u001b[32m家\u001b[0m\u001b[32m\n",
      " \u001b[0m\u001b[32m -\u001b[0m\u001b[32m 特\u001b[0m\u001b[32m点\u001b[0m\u001b[32m：\u001b[0m\u001b[32m星\u001b[0m\u001b[32m君\u001b[0m\u001b[32m后\u001b[0m\u001b[32m裔\u001b[0m\u001b[32m，\u001b[0m\u001b[32m控\u001b[0m\u001b[32m星辰\u001b[0m\u001b[32m之力\u001b[0m\u001b[32m\n",
      " \u001b[0m\u001b[32m -\u001b[0m\u001b[32m 法\u001b[0m\u001b[32m诀\u001b[0m\u001b[32m：\u001b[0m\u001b[32m星辰\u001b[0m\u001b[32m神\u001b[0m\u001b[32m诀\u001b[0m\u001b[32m\u001b[0m\u001b[31m\n",
      "\n",
      "已保存 教程/人物设定.md, 共计 349 字。\n",
      "\u001b[0m\u001b[34m\n",
      ">->>> Prompt ID: OUTLINEOUTLINE | 提纲.md <<<-<\n",
      "\u001b[0m\u001b[32m#\u001b[0m\u001b[32m 《\u001b[0m\u001b[32m我\u001b[0m\u001b[32m修\u001b[0m\u001b[32m了个\u001b[0m\u001b[32m假\u001b[0m\u001b[32m仙\u001b[0m\u001b[32m》\u001b[0m\u001b[32m\n",
      "\n",
      "##\u001b[0m\u001b[32m 第一章\u001b[0m\u001b[32m 真\u001b[0m\u001b[32m假\u001b[0m\u001b[32m仙\u001b[0m\u001b[32m缘\u001b[0m\u001b[32m\n",
      "###\u001b[0m\u001b[32m 一\u001b[0m\u001b[32m、\u001b[0m\u001b[32m仙\u001b[0m\u001b[32m谷\u001b[0m\u001b[32m奇迹\u001b[0m\u001b[32m\n",
      "<\u001b[0m\u001b[32mOUT\u001b[0m\u001b[32mLINE\u001b[0m\u001b[32m>\n",
      "夏\u001b[0m\u001b[32m小\u001b[0m\u001b[32m兰\u001b[0m\u001b[32m在\u001b[0m\u001b[32m兰花\u001b[0m\u001b[32m仙\u001b[0m\u001b[32m谷\u001b[0m\u001b[32m中被\u001b[0m\u001b[32m视为\u001b[0m\u001b[32m千年\u001b[0m\u001b[32m一\u001b[0m\u001b[32m遇\u001b[0m\u001b[32m的\u001b[0m\u001b[32m奇\u001b[0m\u001b[32m才\u001b[0m\u001b[32m，\u001b[0m\u001b[32m然而\u001b[0m\u001b[32m一次\u001b[0m\u001b[32m意外\u001b[0m\u001b[32m让她\u001b[0m\u001b[32m发现自己\u001b[0m\u001b[32m可能\u001b[0m\u001b[32m修\u001b[0m\u001b[32m了个\u001b[0m\u001b[32m假\u001b[0m\u001b[32m仙\u001b[0m\u001b[32m。\n",
      "\n",
      "扩\u001b[0m\u001b[32m写\u001b[0m\u001b[32m要求\u001b[0m\u001b[32m：\n",
      "-\u001b[0m\u001b[32m 描述\u001b[0m\u001b[32m夏\u001b[0m\u001b[32m小\u001b[0m\u001b[32m兰\u001b[0m\u001b[32m的特殊\u001b[0m\u001b[32m身份\u001b[0m\u001b[32m和\u001b[0m\u001b[32m天赋\u001b[0m\u001b[32m\n",
      "-\u001b[0m\u001b[32m 意\u001b[0m\u001b[32m外\u001b[0m\u001b[32m发生\u001b[0m\u001b[32m，\u001b[0m\u001b[32m夏\u001b[0m\u001b[32m小\u001b[0m\u001b[32m兰\u001b[0m\u001b[32m发现自己的\u001b[0m\u001b[32m修\u001b[0m\u001b[32m为\u001b[0m\u001b[32m有\u001b[0m\u001b[32m假\u001b[0m\u001b[32m\n",
      "-\u001b[0m\u001b[32m 夏\u001b[0m\u001b[32m小\u001b[0m\u001b[32m兰\u001b[0m\u001b[32m的\u001b[0m\u001b[32m内心\u001b[0m\u001b[32m挣扎\u001b[0m\u001b[32m和\u001b[0m\u001b[32m决定\u001b[0m\u001b[32m\n",
      "</\u001b[0m\u001b[32mOUT\u001b[0m\u001b[32mLINE\u001b[0m\u001b[32m>\n",
      "\n",
      "###\u001b[0m\u001b[32m 二\u001b[0m\u001b[32m、\u001b[0m\u001b[32m星辰\u001b[0m\u001b[32m之子\u001b[0m\u001b[32m\n",
      "<\u001b[0m\u001b[32mOUT\u001b[0m\u001b[32mLINE\u001b[0m\u001b[32m>\n",
      "周\u001b[0m\u001b[32m成\u001b[0m\u001b[32m在\u001b[0m\u001b[32m星辰\u001b[0m\u001b[32m之\u001b[0m\u001b[32m海\u001b[0m\u001b[32m中\u001b[0m\u001b[32m备受\u001b[0m\u001b[32m期待\u001b[0m\u001b[32m，\u001b[0m\u001b[32m但\u001b[0m\u001b[32m他的\u001b[0m\u001b[32m命运\u001b[0m\u001b[32m与\u001b[0m\u001b[32m夏\u001b[0m\u001b[32m小\u001b[0m\u001b[32m兰\u001b[0m\u001b[32m产生了\u001b[0m\u001b[32m意外的\u001b[0m\u001b[32m交织\u001b[0m\u001b[32m。\n",
      "\n",
      "扩\u001b[0m\u001b[32m写\u001b[0m\u001b[32m要求\u001b[0m\u001b[32m：\n",
      "-\u001b[0m\u001b[32m 描述\u001b[0m\u001b[32m周\u001b[0m\u001b[32m成的\u001b[0m\u001b[32m神秘\u001b[0m\u001b[32m出身\u001b[0m\u001b[32m和\u001b[0m\u001b[32m家族\u001b[0m\u001b[32m期望\u001b[0m\u001b[32m\n",
      "-\u001b[0m\u001b[32m 周\u001b[0m\u001b[32m成\u001b[0m\u001b[32m初次\u001b[0m\u001b[32m展现\u001b[0m\u001b[32m星辰\u001b[0m\u001b[32m神\u001b[0m\u001b[32m诀\u001b[0m\u001b[32m，\u001b[0m\u001b[32m却\u001b[0m\u001b[32m遭遇\u001b[0m\u001b[32m质疑\u001b[0m\u001b[32m\n",
      "-\u001b[0m\u001b[32m 周\u001b[0m\u001b[32m成\u001b[0m\u001b[32m与\u001b[0m\u001b[32m夏\u001b[0m\u001b[32m小\u001b[0m\u001b[32m兰\u001b[0m\u001b[32m的\u001b[0m\u001b[32m偶然\u001b[0m\u001b[32m相遇\u001b[0m\u001b[32m，\u001b[0m\u001b[32m产生的\u001b[0m\u001b[32m误会\u001b[0m\u001b[32m和\u001b[0m\u001b[32m冲突\u001b[0m\u001b[32m\n",
      "</\u001b[0m\u001b[32mOUT\u001b[0m\u001b[32mLINE\u001b[0m\u001b[32m>\n",
      "\n",
      "##\u001b[0m\u001b[32m 第二章\u001b[0m\u001b[32m 意\u001b[0m\u001b[32m外\u001b[0m\u001b[32m之旅\u001b[0m\u001b[32m\n",
      "###\u001b[0m\u001b[32m 一\u001b[0m\u001b[32m、\u001b[0m\u001b[32m误\u001b[0m\u001b[32m闯\u001b[0m\u001b[32m禁\u001b[0m\u001b[32m地\u001b[0m\u001b[32m\n",
      "<\u001b[0m\u001b[32mOUT\u001b[0m\u001b[32mLINE\u001b[0m\u001b[32m>\n",
      "夏\u001b[0m\u001b[32m小\u001b[0m\u001b[32m兰\u001b[0m\u001b[32m和\u001b[0m\u001b[32m周\u001b[0m\u001b[32m成为\u001b[0m\u001b[32m躲避\u001b[0m\u001b[32m追\u001b[0m\u001b[32m击\u001b[0m\u001b[32m，\u001b[0m\u001b[32m不\u001b[0m\u001b[32m慎\u001b[0m\u001b[32m闯\u001b[0m\u001b[32m入\u001b[0m\u001b[32m禁\u001b[0m\u001b[32m地\u001b[0m\u001b[32m，\u001b[0m\u001b[32m却\u001b[0m\u001b[32m意外\u001b[0m\u001b[32m发现\u001b[0m\u001b[32m提升\u001b[0m\u001b[32m修\u001b[0m\u001b[32m为\u001b[0m\u001b[32m的\u001b[0m\u001b[32m机\u001b[0m\u001b[32m缘\u001b[0m\u001b[32m。\n",
      "\n",
      "扩\u001b[0m\u001b[32m写\u001b[0m\u001b[32m要求\u001b[0m\u001b[32m：\n",
      "-\u001b[0m\u001b[32m 禁\u001b[0m\u001b[32m地的\u001b[0m\u001b[32m神秘\u001b[0m\u001b[32m与\u001b[0m\u001b[32m危险\u001b[0m\u001b[32m\n",
      "-\u001b[0m\u001b[32m 夏\u001b[0m\u001b[32m小\u001b[0m\u001b[32m兰\u001b[0m\u001b[32m和\u001b[0m\u001b[32m周\u001b[0m\u001b[32m成的\u001b[0m\u001b[32m合作\u001b[0m\u001b[32m与\u001b[0m\u001b[32m打\u001b[0m\u001b[32m脸\u001b[0m\u001b[32m对手\u001b[0m\u001b[32m\n",
      "-\u001b[0m\u001b[32m \u001b[0m\u001b[32m两人\u001b[0m\u001b[32m修\u001b[0m\u001b[32m为\u001b[0m\u001b[32m的\u001b[0m\u001b[32m意外\u001b[0m\u001b[32m提升\u001b[0m\u001b[32m，\u001b[0m\u001b[32m发现\u001b[0m\u001b[32m假\u001b[0m\u001b[32m仙\u001b[0m\u001b[32m背后的\u001b[0m\u001b[32m秘密\u001b[0m\u001b[32m\n",
      "</\u001b[0m\u001b[32mOUT\u001b[0m\u001b[32mLINE\u001b[0m\u001b[32m>\n",
      "\n",
      "###\u001b[0m\u001b[32m 二\u001b[0m\u001b[32m、\u001b[0m\u001b[32m真假\u001b[0m\u001b[32m难\u001b[0m\u001b[32m辨\u001b[0m\u001b[32m\n",
      "<\u001b[0m\u001b[32mOUT\u001b[0m\u001b[32mLINE\u001b[0m\u001b[32m>\n",
      "夏\u001b[0m\u001b[32m小\u001b[0m\u001b[32m兰\u001b[0m\u001b[32m和\u001b[0m\u001b[32m周\u001b[0m\u001b[32m成\u001b[0m\u001b[32m在\u001b[0m\u001b[32m探索\u001b[0m\u001b[32m禁\u001b[0m\u001b[32m地\u001b[0m\u001b[32m时\u001b[0m\u001b[32m，\u001b[0m\u001b[32m发现\u001b[0m\u001b[32m隐藏\u001b[0m\u001b[32m在\u001b[0m\u001b[32m兰花\u001b[0m\u001b[32m仙\u001b[0m\u001b[32m谷\u001b[0m\u001b[32m和\u001b[0m\u001b[32m星辰\u001b[0m\u001b[32m之\u001b[0m\u001b[32m海\u001b[0m\u001b[32m的秘密\u001b[0m\u001b[32m。\n",
      "\n",
      "扩\u001b[0m\u001b[32m写\u001b[0m\u001b[32m要求\u001b[0m\u001b[32m：\n",
      "-\u001b[0m\u001b[32m 揭\u001b[0m\u001b[32m示\u001b[0m\u001b[32m夏\u001b[0m\u001b[32m小\u001b[0m\u001b[32m兰\u001b[0m\u001b[32m家族\u001b[0m\u001b[32m和\u001b[0m\u001b[32m周\u001b[0m\u001b[32m成\u001b[0m\u001b[32m家族\u001b[0m\u001b[32m的\u001b[0m\u001b[32m过去\u001b[0m\u001b[32m\n",
      "-\u001b[0m\u001b[32m 真\u001b[0m\u001b[32m假\u001b[0m\u001b[32m仙\u001b[0m\u001b[32m术\u001b[0m\u001b[32m的\u001b[0m\u001b[32m辨别\u001b[0m\u001b[32m与\u001b[0m\u001b[32m选择\u001b[0m\u001b[32m\n",
      "-\u001b[0m\u001b[32m 夏\u001b[0m\u001b[32m小\u001b[0m\u001b[32m兰\u001b[0m\u001b[32m和\u001b[0m\u001b[32m周\u001b[0m\u001b[32m成的\u001b[0m\u001b[32m信任\u001b[0m\u001b[32m与\u001b[0m\u001b[32m背叛\u001b[0m\u001b[32m\n",
      "</\u001b[0m\u001b[32mOUT\u001b[0m\u001b[32mLINE\u001b[0m\u001b[32m>\n",
      "\n",
      "##\u001b[0m\u001b[32m 第三章\u001b[0m\u001b[32m 命\u001b[0m\u001b[32m运\u001b[0m\u001b[32m交锋\u001b[0m\u001b[32m\n",
      "###\u001b[0m\u001b[32m 一\u001b[0m\u001b[32m、\u001b[0m\u001b[32m决战\u001b[0m\u001b[32m仙\u001b[0m\u001b[32m台\u001b[0m\u001b[32m\n",
      "<\u001b[0m\u001b[32mOUT\u001b[0m\u001b[32mLINE\u001b[0m\u001b[32m>\n",
      "夏\u001b[0m\u001b[32m小\u001b[0m\u001b[32m兰\u001b[0m\u001b[32m和\u001b[0m\u001b[32m周\u001b[0m\u001b[32m成\u001b[0m\u001b[32m在\u001b[0m\u001b[32m仙\u001b[0m\u001b[32m台上\u001b[0m\u001b[32m与\u001b[0m\u001b[32m敌\u001b[0m\u001b[32m对\u001b[0m\u001b[32m势力\u001b[0m\u001b[32m展开\u001b[0m\u001b[32m决战\u001b[0m\u001b[32m。\n",
      "\n",
      "扩\u001b[0m\u001b[32m写\u001b[0m\u001b[32m要求\u001b[0m\u001b[32m：\n",
      "-\u001b[0m\u001b[32m 决\u001b[0m\u001b[32m战的\u001b[0m\u001b[32m紧张\u001b[0m\u001b[32m与\u001b[0m\u001b[32m刺激\u001b[0m\u001b[32m\n",
      "-\u001b[0m\u001b[32m 夏\u001b[0m\u001b[32m小\u001b[0m\u001b[32m兰\u001b[0m\u001b[32m和\u001b[0m\u001b[32m周\u001b[0m\u001b[32m成的\u001b[0m\u001b[32m实力\u001b[0m\u001b[32m展现\u001b[0m\u001b[32m，\u001b[0m\u001b[32m打\u001b[0m\u001b[32m脸\u001b[0m\u001b[32m对手\u001b[0m\u001b[32m\n",
      "-\u001b[0m\u001b[32m 揭\u001b[0m\u001b[32m露\u001b[0m\u001b[32m假\u001b[0m\u001b[32m仙\u001b[0m\u001b[32m背后的\u001b[0m\u001b[32m真相\u001b[0m\u001b[32m，\u001b[0m\u001b[32m夏\u001b[0m\u001b[32m小\u001b[0m\u001b[32m兰\u001b[0m\u001b[32m和\u001b[0m\u001b[32m周\u001b[0m\u001b[32m成的\u001b[0m\u001b[32m命运\u001b[0m\u001b[32m抉择\u001b[0m\u001b[32m\n",
      "</\u001b[0m\u001b[32mOUT\u001b[0m\u001b[32mLINE\u001b[0m\u001b[32m>\n",
      "\n",
      "###\u001b[0m\u001b[32m 二\u001b[0m\u001b[32m、\u001b[0m\u001b[32m真假\u001b[0m\u001b[32m相\u001b[0m\u001b[32m融\u001b[0m\u001b[32m\n",
      "<\u001b[0m\u001b[32mOUT\u001b[0m\u001b[32mLINE\u001b[0m\u001b[32m>\n",
      "夏\u001b[0m\u001b[32m小\u001b[0m\u001b[32m兰\u001b[0m\u001b[32m和\u001b[0m\u001b[32m周\u001b[0m\u001b[32m成\u001b[0m\u001b[32m在\u001b[0m\u001b[32m决战\u001b[0m\u001b[32m中\u001b[0m\u001b[32m找到\u001b[0m\u001b[32m真假\u001b[0m\u001b[32m仙\u001b[0m\u001b[32m术\u001b[0m\u001b[32m的\u001b[0m\u001b[32m融合\u001b[0m\u001b[32m之道\u001b[0m\u001b[32m。\n",
      "\n",
      "扩\u001b[0m\u001b[32m写\u001b[0m\u001b[32m要求\u001b[0m\u001b[32m：\n",
      "-\u001b[0m\u001b[32m 真\u001b[0m\u001b[32m假\u001b[0m\u001b[32m仙\u001b[0m\u001b[32m术\u001b[0m\u001b[32m的\u001b[0m\u001b[32m融合\u001b[0m\u001b[32m与创新\u001b[0m\u001b[32m\n",
      "-\u001b[0m\u001b[32m 夏\u001b[0m\u001b[32m小\u001b[0m\u001b[32m兰\u001b[0m\u001b[32m和\u001b[0m\u001b[32m周\u001b[0m\u001b[32m成的\u001b[0m\u001b[32m信任\u001b[0m\u001b[32m加深\u001b[0m\u001b[32m，\u001b[0m\u001b[32m共同\u001b[0m\u001b[32m面对\u001b[0m\u001b[32m未来\u001b[0m\u001b[32m\n",
      "-\u001b[0m\u001b[32m 兰\u001b[0m\u001b[32m花\u001b[0m\u001b[32m仙\u001b[0m\u001b[32m谷\u001b[0m\u001b[32m和\u001b[0m\u001b[32m星辰\u001b[0m\u001b[32m之\u001b[0m\u001b[32m海的\u001b[0m\u001b[32m和平\u001b[0m\u001b[32m与\u001b[0m\u001b[32m繁荣\u001b[0m\u001b[32m\n",
      "</\u001b[0m\u001b[32mOUT\u001b[0m\u001b[32mLINE\u001b[0m\u001b[32m>\u001b[0m\u001b[32m\u001b[0m\u001b[31m\n",
      "\n",
      "已保存 教程/提纲.md, 共计 779 字。\n",
      "\u001b[0m\u001b[34m\n",
      ">->>> Prompt ID: FROM_OUTLINEFROM_OUTLINE | 我修了个假仙人.md <<<-<\n",
      "\u001b[0m\u001b[33m\n",
      "# 《我修了个假仙》\n",
      "\n",
      "\n",
      "## 第一章 真假仙缘\n",
      "\n",
      "\n",
      "### 一、仙谷奇迹\n",
      "\n",
      "\n",
      "\u001b[0m\u001b[32m<\u001b[0m\u001b[32mOUT\u001b[0m\u001b[32mLINE\u001b[0m\u001b[32m>\n",
      "夏\u001b[0m\u001b[32m小\u001b[0m\u001b[32m兰\u001b[0m\u001b[32m，\u001b[0m\u001b[32m兰花\u001b[0m\u001b[32m仙\u001b[0m\u001b[32m谷\u001b[0m\u001b[32m的\u001b[0m\u001b[32m骄傲\u001b[0m\u001b[32m，\u001b[0m\u001b[32m她\u001b[0m\u001b[32m自\u001b[0m\u001b[32m幼\u001b[0m\u001b[32m就\u001b[0m\u001b[32m表现出\u001b[0m\u001b[32m异\u001b[0m\u001b[32m于\u001b[0m\u001b[32m常\u001b[0m\u001b[32m人的\u001b[0m\u001b[32m天赋\u001b[0m\u001b[32m。\u001b[0m\u001b[32m她的\u001b[0m\u001b[32m出生\u001b[0m\u001b[32m便\u001b[0m\u001b[32m充满了\u001b[0m\u001b[32m传奇\u001b[0m\u001b[32m色彩\u001b[0m\u001b[32m，\u001b[0m\u001b[32m由\u001b[0m\u001b[32m那\u001b[0m\u001b[32m株\u001b[0m\u001b[32m万年\u001b[0m\u001b[32m兰花\u001b[0m\u001b[32m孕育\u001b[0m\u001b[32m，\u001b[0m\u001b[32m夏\u001b[0m\u001b[32m小\u001b[0m\u001b[32m兰\u001b[0m\u001b[32m的身\u001b[0m\u001b[32m躯\u001b[0m\u001b[32m里\u001b[0m\u001b[32m流淌\u001b[0m\u001b[32m着\u001b[0m\u001b[32m花\u001b[0m\u001b[32m神的\u001b[0m\u001b[32m血脉\u001b[0m\u001b[32m，\u001b[0m\u001b[32m她\u001b[0m\u001b[32m能\u001b[0m\u001b[32m以\u001b[0m\u001b[32m操控\u001b[0m\u001b[32m花\u001b[0m\u001b[32m木\u001b[0m\u001b[32m为\u001b[0m\u001b[32m武器\u001b[0m\u001b[32m，\u001b[0m\u001b[32m以\u001b[0m\u001b[32m灵\u001b[0m\u001b[32m气\u001b[0m\u001b[32m为\u001b[0m\u001b[32m食\u001b[0m\u001b[32m，\u001b[0m\u001b[32m修炼\u001b[0m\u001b[32m速度\u001b[0m\u001b[32m更是\u001b[0m\u001b[32m让人\u001b[0m\u001b[32m瞠\u001b[0m\u001b[32m目\u001b[0m\u001b[32m结\u001b[0m\u001b[32m舌\u001b[0m\u001b[32m。\u001b[0m\u001b[32m在\u001b[0m\u001b[32m众人\u001b[0m\u001b[32m眼中\u001b[0m\u001b[32m，\u001b[0m\u001b[32m夏\u001b[0m\u001b[32m小\u001b[0m\u001b[32m兰\u001b[0m\u001b[32m就是\u001b[0m\u001b[32m千年\u001b[0m\u001b[32m一\u001b[0m\u001b[32m遇\u001b[0m\u001b[32m的\u001b[0m\u001b[32m奇\u001b[0m\u001b[32m才\u001b[0m\u001b[32m，\u001b[0m\u001b[32m兰花\u001b[0m\u001b[32m仙\u001b[0m\u001b[32m谷\u001b[0m\u001b[32m的\u001b[0m\u001b[32m明日\u001b[0m\u001b[32m之星\u001b[0m\u001b[32m。\n",
      "\n",
      "然而\u001b[0m\u001b[32m，\u001b[0m\u001b[32m在一次\u001b[0m\u001b[32m与\u001b[0m\u001b[32m仙\u001b[0m\u001b[32m谷\u001b[0m\u001b[32m外\u001b[0m\u001b[32m敌\u001b[0m\u001b[32m的\u001b[0m\u001b[32m激烈\u001b[0m\u001b[32m战斗\u001b[0m\u001b[32m中\u001b[0m\u001b[32m，\u001b[0m\u001b[32m夏\u001b[0m\u001b[32m小\u001b[0m\u001b[32m兰\u001b[0m\u001b[32m全力以赴\u001b[0m\u001b[32m，\u001b[0m\u001b[32m却\u001b[0m\u001b[32m发现自己的\u001b[0m\u001b[32m修\u001b[0m\u001b[32m为\u001b[0m\u001b[32m在\u001b[0m\u001b[32m关键时刻\u001b[0m\u001b[32m动摇\u001b[0m\u001b[32m不定\u001b[0m\u001b[32m，\u001b[0m\u001b[32m仿佛\u001b[0m\u001b[32m沙滩\u001b[0m\u001b[32m上的\u001b[0m\u001b[32m城堡\u001b[0m\u001b[32m，\u001b[0m\u001b[32m瞬间\u001b[0m\u001b[32m崩\u001b[0m\u001b[32m塌\u001b[0m\u001b[32m。\u001b[0m\u001b[32m她的\u001b[0m\u001b[32m兰花\u001b[0m\u001b[32m神\u001b[0m\u001b[32m诀\u001b[0m\u001b[32m失效\u001b[0m\u001b[32m，\u001b[0m\u001b[32m那些\u001b[0m\u001b[32m平日\u001b[0m\u001b[32m里\u001b[0m\u001b[32m驯\u001b[0m\u001b[32m服\u001b[0m\u001b[32m的花\u001b[0m\u001b[32m木\u001b[0m\u001b[32m突然\u001b[0m\u001b[32m反\u001b[0m\u001b[32m叛\u001b[0m\u001b[32m，\u001b[0m\u001b[32m灵\u001b[0m\u001b[32m气\u001b[0m\u001b[32m也在\u001b[0m\u001b[32m体内\u001b[0m\u001b[32m乱\u001b[0m\u001b[32m窜\u001b[0m\u001b[32m，\u001b[0m\u001b[32m如同\u001b[0m\u001b[32m脱\u001b[0m\u001b[32m缰\u001b[0m\u001b[32m的\u001b[0m\u001b[32m野\u001b[0m\u001b[32m马\u001b[0m\u001b[32m。\n",
      "\n",
      "夏\u001b[0m\u001b[32m小\u001b[0m\u001b[32m兰\u001b[0m\u001b[32m心中\u001b[0m\u001b[32m满是\u001b[0m\u001b[32m疑惑\u001b[0m\u001b[32m和\u001b[0m\u001b[32m恐惧\u001b[0m\u001b[32m，\u001b[0m\u001b[32m她\u001b[0m\u001b[32m无法\u001b[0m\u001b[32m接受\u001b[0m\u001b[32m自己\u001b[0m\u001b[32m可能\u001b[0m\u001b[32m修\u001b[0m\u001b[32m了个\u001b[0m\u001b[32m假\u001b[0m\u001b[32m仙\u001b[0m\u001b[32m的事实\u001b[0m\u001b[32m。\u001b[0m\u001b[32m几个\u001b[0m\u001b[32m夜晚\u001b[0m\u001b[32m，\u001b[0m\u001b[32m她\u001b[0m\u001b[32m独\u001b[0m\u001b[32m坐在\u001b[0m\u001b[32m兰花\u001b[0m\u001b[32m丛\u001b[0m\u001b[32m中\u001b[0m\u001b[32m，\u001b[0m\u001b[32m眼\u001b[0m\u001b[32m眸\u001b[0m\u001b[32m中\u001b[0m\u001b[32m闪烁\u001b[0m\u001b[32m着\u001b[0m\u001b[32m挣扎\u001b[0m\u001b[32m与\u001b[0m\u001b[32m不甘\u001b[0m\u001b[32m。\u001b[0m\u001b[32m她\u001b[0m\u001b[32m想过\u001b[0m\u001b[32m放弃\u001b[0m\u001b[32m，\u001b[0m\u001b[32m想过\u001b[0m\u001b[32m逃避\u001b[0m\u001b[32m，\u001b[0m\u001b[32m但\u001b[0m\u001b[32m内心\u001b[0m\u001b[32m深处\u001b[0m\u001b[32m的那\u001b[0m\u001b[32m股\u001b[0m\u001b[32m不屈\u001b[0m\u001b[32m的\u001b[0m\u001b[32m劲\u001b[0m\u001b[32m头\u001b[0m\u001b[32m最终\u001b[0m\u001b[32m占了\u001b[0m\u001b[32m上\u001b[0m\u001b[32m风\u001b[0m\u001b[32m。\"\u001b[0m\u001b[32m即使\u001b[0m\u001b[32m是真的\u001b[0m\u001b[32m修\u001b[0m\u001b[32m了个\u001b[0m\u001b[32m假\u001b[0m\u001b[32m仙\u001b[0m\u001b[32m，\u001b[0m\u001b[32m我\u001b[0m\u001b[32m也要\u001b[0m\u001b[32m弄\u001b[0m\u001b[32m个\u001b[0m\u001b[32m明白\u001b[0m\u001b[32m！\"\u001b[0m\u001b[32m夏\u001b[0m\u001b[32m小\u001b[0m\u001b[32m兰\u001b[0m\u001b[32m咬\u001b[0m\u001b[32m紧\u001b[0m\u001b[32m牙\u001b[0m\u001b[32m关\u001b[0m\u001b[32m，\u001b[0m\u001b[32m决定\u001b[0m\u001b[32m无论如何\u001b[0m\u001b[32m，\u001b[0m\u001b[32m都要\u001b[0m\u001b[32m寻\u001b[0m\u001b[32m找到\u001b[0m\u001b[32m答案\u001b[0m\u001b[32m，\u001b[0m\u001b[32m修复\u001b[0m\u001b[32m自己的\u001b[0m\u001b[32m修\u001b[0m\u001b[32m为\u001b[0m\u001b[32m。\n",
      "\n",
      "</\u001b[0m\u001b[32mOUT\u001b[0m\u001b[32mLINE\u001b[0m\u001b[32m>\u001b[0m\u001b[32m\u001b[0m\u001b[33m\n",
      "\u001b[0m\u001b[33m\n",
      "### 二、星辰之子\n",
      "\n",
      "\n",
      "\u001b[0m\u001b[32m<\u001b[0m\u001b[32mOUT\u001b[0m\u001b[32mLINE\u001b[0m\u001b[32m>\n",
      "周\u001b[0m\u001b[32m成\u001b[0m\u001b[32m，\u001b[0m\u001b[32m星辰\u001b[0m\u001b[32m之\u001b[0m\u001b[32m海的\u001b[0m\u001b[32m骄傲\u001b[0m\u001b[32m，\u001b[0m\u001b[32m他的\u001b[0m\u001b[32m家族\u001b[0m\u001b[32m期待\u001b[0m\u001b[32m着他\u001b[0m\u001b[32m能\u001b[0m\u001b[32m继承\u001b[0m\u001b[32m祖先\u001b[0m\u001b[32m的\u001b[0m\u001b[32m衣\u001b[0m\u001b[32m钵\u001b[0m\u001b[32m，\u001b[0m\u001b[32m成为\u001b[0m\u001b[32m掌控\u001b[0m\u001b[32m星辰\u001b[0m\u001b[32m力量的\u001b[0m\u001b[32m新一代\u001b[0m\u001b[32m星\u001b[0m\u001b[32m君\u001b[0m\u001b[32m。\u001b[0m\u001b[32m他的\u001b[0m\u001b[32m神秘\u001b[0m\u001b[32m出身\u001b[0m\u001b[32m让\u001b[0m\u001b[32m族人\u001b[0m\u001b[32m寄\u001b[0m\u001b[32m予\u001b[0m\u001b[32m厚\u001b[0m\u001b[32m望\u001b[0m\u001b[32m，\u001b[0m\u001b[32m自\u001b[0m\u001b[32m幼\u001b[0m\u001b[32m便\u001b[0m\u001b[32m开始\u001b[0m\u001b[32m修炼\u001b[0m\u001b[32m家族\u001b[0m\u001b[32m秘\u001b[0m\u001b[32m传\u001b[0m\u001b[32m的\u001b[0m\u001b[32m星辰\u001b[0m\u001b[32m神\u001b[0m\u001b[32m诀\u001b[0m\u001b[32m。\n",
      "\n",
      "一日\u001b[0m\u001b[32m，\u001b[0m\u001b[32m周\u001b[0m\u001b[32m成\u001b[0m\u001b[32m在\u001b[0m\u001b[32m族人\u001b[0m\u001b[32m面前\u001b[0m\u001b[32m初次\u001b[0m\u001b[32m展现\u001b[0m\u001b[32m星辰\u001b[0m\u001b[32m神\u001b[0m\u001b[32m诀\u001b[0m\u001b[32m，\u001b[0m\u001b[32m原本\u001b[0m\u001b[32m期待\u001b[0m\u001b[32m着他\u001b[0m\u001b[32m能\u001b[0m\u001b[32m引起\u001b[0m\u001b[32m星辰\u001b[0m\u001b[32m共鸣\u001b[0m\u001b[32m，\u001b[0m\u001b[32m却\u001b[0m\u001b[32m没想到\u001b[0m\u001b[32m神\u001b[0m\u001b[32m诀\u001b[0m\u001b[32m的\u001b[0m\u001b[32m威力\u001b[0m\u001b[32m远\u001b[0m\u001b[32m不如\u001b[0m\u001b[32m预期\u001b[0m\u001b[32m，\u001b[0m\u001b[32m引发了\u001b[0m\u001b[32m族\u001b[0m\u001b[32m人的\u001b[0m\u001b[32m质疑\u001b[0m\u001b[32m和\u001b[0m\u001b[32m失望\u001b[0m\u001b[32m。\u001b[0m\u001b[32m他的\u001b[0m\u001b[32m眼\u001b[0m\u001b[32m眸\u001b[0m\u001b[32m中\u001b[0m\u001b[32m闪\u001b[0m\u001b[32m过\u001b[0m\u001b[32m一丝\u001b[0m\u001b[32m慌\u001b[0m\u001b[32m乱\u001b[0m\u001b[32m，\u001b[0m\u001b[32m但\u001b[0m\u001b[32m更多的是\u001b[0m\u001b[32m坚定\u001b[0m\u001b[32m，\u001b[0m\u001b[32m他\u001b[0m\u001b[32m相信自己\u001b[0m\u001b[32m终\u001b[0m\u001b[32m将\u001b[0m\u001b[32m掌握\u001b[0m\u001b[32m星辰\u001b[0m\u001b[32m之力\u001b[0m\u001b[32m。\n",
      "\n",
      "就在\u001b[0m\u001b[32m这时\u001b[0m\u001b[32m，\u001b[0m\u001b[32m周\u001b[0m\u001b[32m成\u001b[0m\u001b[32m在\u001b[0m\u001b[32m星辰\u001b[0m\u001b[32m之\u001b[0m\u001b[32m海\u001b[0m\u001b[32m边缘\u001b[0m\u001b[32m与\u001b[0m\u001b[32m夏\u001b[0m\u001b[32m小\u001b[0m\u001b[32m兰\u001b[0m\u001b[32m意外\u001b[0m\u001b[32m相遇\u001b[0m\u001b[32m。\u001b[0m\u001b[32m夏\u001b[0m\u001b[32m小\u001b[0m\u001b[32m兰\u001b[0m\u001b[32m正在\u001b[0m\u001b[32m寻找\u001b[0m\u001b[32m修复\u001b[0m\u001b[32m修\u001b[0m\u001b[32m为\u001b[0m\u001b[32m的方法\u001b[0m\u001b[32m，\u001b[0m\u001b[32m误\u001b[0m\u001b[32m打\u001b[0m\u001b[32m误\u001b[0m\u001b[32m撞\u001b[0m\u001b[32m进入了\u001b[0m\u001b[32m星辰\u001b[0m\u001b[32m之\u001b[0m\u001b[32m海\u001b[0m\u001b[32m。\u001b[0m\u001b[32m两人\u001b[0m\u001b[32m因\u001b[0m\u001b[32m误会\u001b[0m\u001b[32m而发生\u001b[0m\u001b[32m冲突\u001b[0m\u001b[32m，\u001b[0m\u001b[32m花\u001b[0m\u001b[32m木\u001b[0m\u001b[32m与\u001b[0m\u001b[32m星辰\u001b[0m\u001b[32m之力\u001b[0m\u001b[32m在\u001b[0m\u001b[32m空中\u001b[0m\u001b[32m碰撞\u001b[0m\u001b[32m，\u001b[0m\u001b[32m激\u001b[0m\u001b[32m起了\u001b[0m\u001b[32m激烈的\u001b[0m\u001b[32m战斗\u001b[0m\u001b[32m。\n",
      "\n",
      "“\u001b[0m\u001b[32m你是\u001b[0m\u001b[32m何\u001b[0m\u001b[32m人\u001b[0m\u001b[32m？\u001b[0m\u001b[32m为何\u001b[0m\u001b[32m闯\u001b[0m\u001b[32m入\u001b[0m\u001b[32m星辰\u001b[0m\u001b[32m之\u001b[0m\u001b[32m海\u001b[0m\u001b[32m？”\u001b[0m\u001b[32m周\u001b[0m\u001b[32m成\u001b[0m\u001b[32m目光\u001b[0m\u001b[32m如\u001b[0m\u001b[32m炬\u001b[0m\u001b[32m，\u001b[0m\u001b[32m星辰\u001b[0m\u001b[32m之力\u001b[0m\u001b[32m环绕\u001b[0m\u001b[32m在他的\u001b[0m\u001b[32m指尖\u001b[0m\u001b[32m。\n",
      "\n",
      "“\u001b[0m\u001b[32m我叫\u001b[0m\u001b[32m夏\u001b[0m\u001b[32m小\u001b[0m\u001b[32m兰\u001b[0m\u001b[32m，\u001b[0m\u001b[32m来自\u001b[0m\u001b[32m兰花\u001b[0m\u001b[32m仙\u001b[0m\u001b[32m谷\u001b[0m\u001b[32m，\u001b[0m\u001b[32m我来\u001b[0m\u001b[32m这里\u001b[0m\u001b[32m是为了\u001b[0m\u001b[32m寻找\u001b[0m\u001b[32m答案\u001b[0m\u001b[32m。”\u001b[0m\u001b[32m夏\u001b[0m\u001b[32m小\u001b[0m\u001b[32m兰\u001b[0m\u001b[32m眼神\u001b[0m\u001b[32m坚定\u001b[0m\u001b[32m，\u001b[0m\u001b[32m操控\u001b[0m\u001b[32m着\u001b[0m\u001b[32m花\u001b[0m\u001b[32m木\u001b[0m\u001b[32m形成\u001b[0m\u001b[32m防御\u001b[0m\u001b[32m。\n",
      "\n",
      "“\u001b[0m\u001b[32m兰花\u001b[0m\u001b[32m仙\u001b[0m\u001b[32m谷\u001b[0m\u001b[32m？\u001b[0m\u001b[32m哈哈\u001b[0m\u001b[32m，\u001b[0m\u001b[32m原来\u001b[0m\u001b[32m是个\u001b[0m\u001b[32m修\u001b[0m\u001b[32m了个\u001b[0m\u001b[32m假\u001b[0m\u001b[32m仙\u001b[0m\u001b[32m的\u001b[0m\u001b[32m废物\u001b[0m\u001b[32m！”\u001b[0m\u001b[32m周\u001b[0m\u001b[32m成\u001b[0m\u001b[32m嘲笑\u001b[0m\u001b[32m道\u001b[0m\u001b[32m。\n",
      "\n",
      "愤怒\u001b[0m\u001b[32m的\u001b[0m\u001b[32m夏\u001b[0m\u001b[32m小\u001b[0m\u001b[32m兰\u001b[0m\u001b[32m不顾\u001b[0m\u001b[32m一切\u001b[0m\u001b[32m地\u001b[0m\u001b[32m发动\u001b[0m\u001b[32m攻击\u001b[0m\u001b[32m，\u001b[0m\u001b[32m花\u001b[0m\u001b[32m木\u001b[0m\u001b[32m如同\u001b[0m\u001b[32m利\u001b[0m\u001b[32m箭\u001b[0m\u001b[32m射\u001b[0m\u001b[32m向\u001b[0m\u001b[32m周\u001b[0m\u001b[32m成\u001b[0m\u001b[32m。\u001b[0m\u001b[32m周\u001b[0m\u001b[32m成\u001b[0m\u001b[32m不甘\u001b[0m\u001b[32m示\u001b[0m\u001b[32m弱\u001b[0m\u001b[32m，\u001b[0m\u001b[32m星辰\u001b[0m\u001b[32m之力\u001b[0m\u001b[32m化作\u001b[0m\u001b[32m屏障\u001b[0m\u001b[32m，\u001b[0m\u001b[32m与\u001b[0m\u001b[32m夏\u001b[0m\u001b[32m小\u001b[0m\u001b[32m兰\u001b[0m\u001b[32m的\u001b[0m\u001b[32m攻击\u001b[0m\u001b[32m相\u001b[0m\u001b[32m抗\u001b[0m\u001b[32m衡\u001b[0m\u001b[32m。\u001b[0m\u001b[32m两人的\u001b[0m\u001b[32m打\u001b[0m\u001b[32m斗\u001b[0m\u001b[32m引\u001b[0m\u001b[32m来了\u001b[0m\u001b[32m周围\u001b[0m\u001b[32m修\u001b[0m\u001b[32m士\u001b[0m\u001b[32m的\u001b[0m\u001b[32m围观\u001b[0m\u001b[32m，\u001b[0m\u001b[32m一时间\u001b[0m\u001b[32m，\u001b[0m\u001b[32m星辰\u001b[0m\u001b[32m之\u001b[0m\u001b[32m海\u001b[0m\u001b[32m边缘\u001b[0m\u001b[32m变得\u001b[0m\u001b[32m热闹\u001b[0m\u001b[32m非凡\u001b[0m\u001b[32m。\n",
      "\n",
      "在\u001b[0m\u001b[32m激\u001b[0m\u001b[32m战中\u001b[0m\u001b[32m，\u001b[0m\u001b[32m两人\u001b[0m\u001b[32m无意\u001b[0m\u001b[32m间\u001b[0m\u001b[32m触\u001b[0m\u001b[32m发了\u001b[0m\u001b[32m某种\u001b[0m\u001b[32m神秘\u001b[0m\u001b[32m力量\u001b[0m\u001b[32m，\u001b[0m\u001b[32m他们的\u001b[0m\u001b[32m修\u001b[0m\u001b[32m为\u001b[0m\u001b[32m竟然\u001b[0m\u001b[32m在\u001b[0m\u001b[32m战斗\u001b[0m\u001b[32m中\u001b[0m\u001b[32m有了\u001b[0m\u001b[32m意外的\u001b[0m\u001b[32m提升\u001b[0m\u001b[32m。\u001b[0m\u001b[32m这让\u001b[0m\u001b[32m原本\u001b[0m\u001b[32m瞧\u001b[0m\u001b[32m不起\u001b[0m\u001b[32m夏\u001b[0m\u001b[32m小\u001b[0m\u001b[32m兰\u001b[0m\u001b[32m的\u001b[0m\u001b[32m周\u001b[0m\u001b[32m成\u001b[0m\u001b[32m开始\u001b[0m\u001b[32m对她\u001b[0m\u001b[32m刮\u001b[0m\u001b[32m目\u001b[0m\u001b[32m相\u001b[0m\u001b[32m看\u001b[0m\u001b[32m，\u001b[0m\u001b[32m而\u001b[0m\u001b[32m夏\u001b[0m\u001b[32m小\u001b[0m\u001b[32m兰\u001b[0m\u001b[32m也对\u001b[0m\u001b[32m周\u001b[0m\u001b[32m成的\u001b[0m\u001b[32m星辰\u001b[0m\u001b[32m神\u001b[0m\u001b[32m诀\u001b[0m\u001b[32m产生了\u001b[0m\u001b[32m好奇\u001b[0m\u001b[32m。\n",
      "\n",
      "误会\u001b[0m\u001b[32m解开\u001b[0m\u001b[32m，\u001b[0m\u001b[32m两人\u001b[0m\u001b[32m决定\u001b[0m\u001b[32m暂时\u001b[0m\u001b[32m放下\u001b[0m\u001b[32m争执\u001b[0m\u001b[32m，\u001b[0m\u001b[32m共同\u001b[0m\u001b[32m探索\u001b[0m\u001b[32m这\u001b[0m\u001b[32m股\u001b[0m\u001b[32m神秘\u001b[0m\u001b[32m力量\u001b[0m\u001b[32m背后的\u001b[0m\u001b[32m秘密\u001b[0m\u001b[32m，\u001b[0m\u001b[32m以期\u001b[0m\u001b[32m找到\u001b[0m\u001b[32m修复\u001b[0m\u001b[32m夏\u001b[0m\u001b[32m小\u001b[0m\u001b[32m兰\u001b[0m\u001b[32m修\u001b[0m\u001b[32m为\u001b[0m\u001b[32m的方法\u001b[0m\u001b[32m。\n",
      "</\u001b[0m\u001b[32mOUT\u001b[0m\u001b[32mLINE\u001b[0m\u001b[32m>\u001b[0m\u001b[32m\u001b[0m\u001b[33m\n",
      "\u001b[0m\u001b[33m\n",
      "## 第二章 意外之旅\n",
      "\n",
      "\n",
      "### 一、误闯禁地\n",
      "\n",
      "\n",
      "\u001b[0m\u001b[32m<\u001b[0m\u001b[32mOUT\u001b[0m\u001b[32mLINE\u001b[0m\u001b[32m>\n",
      "夏\u001b[0m\u001b[32m小\u001b[0m\u001b[32m兰\u001b[0m\u001b[32m与\u001b[0m\u001b[32m周\u001b[0m\u001b[32m成\u001b[0m\u001b[32m在\u001b[0m\u001b[32m逃离\u001b[0m\u001b[32m追\u001b[0m\u001b[32m击\u001b[0m\u001b[32m的过程中\u001b[0m\u001b[32m，\u001b[0m\u001b[32m不\u001b[0m\u001b[32m慎\u001b[0m\u001b[32m踏入\u001b[0m\u001b[32m了一\u001b[0m\u001b[32m片\u001b[0m\u001b[32m被\u001b[0m\u001b[32m雾\u001b[0m\u001b[32m气\u001b[0m\u001b[32m笼罩\u001b[0m\u001b[32m的\u001b[0m\u001b[32m禁\u001b[0m\u001b[32m地\u001b[0m\u001b[32m。\u001b[0m\u001b[32m这里\u001b[0m\u001b[32m的花\u001b[0m\u001b[32m木\u001b[0m\u001b[32m与\u001b[0m\u001b[32m外界\u001b[0m\u001b[32m截然\u001b[0m\u001b[32m不同\u001b[0m\u001b[32m，\u001b[0m\u001b[32m每一\u001b[0m\u001b[32m株\u001b[0m\u001b[32m都\u001b[0m\u001b[32m散发着\u001b[0m\u001b[32m诡\u001b[0m\u001b[32m异的\u001b[0m\u001b[32m气息\u001b[0m\u001b[32m，\u001b[0m\u001b[32m仿佛\u001b[0m\u001b[32m时刻\u001b[0m\u001b[32m准备\u001b[0m\u001b[32m吞噬\u001b[0m\u001b[32m误\u001b[0m\u001b[32m入\u001b[0m\u001b[32m者\u001b[0m\u001b[32m。\u001b[0m\u001b[32m禁\u001b[0m\u001b[32m地的\u001b[0m\u001b[32m空气中\u001b[0m\u001b[32m弥漫\u001b[0m\u001b[32m着\u001b[0m\u001b[32m一种\u001b[0m\u001b[32m令人\u001b[0m\u001b[32m心\u001b[0m\u001b[32m悸\u001b[0m\u001b[32m的\u001b[0m\u001b[32m宁静\u001b[0m\u001b[32m，\u001b[0m\u001b[32m危险\u001b[0m\u001b[32m潜伏\u001b[0m\u001b[32m在\u001b[0m\u001b[32m每一\u001b[0m\u001b[32m寸\u001b[0m\u001b[32m土地\u001b[0m\u001b[32m下\u001b[0m\u001b[32m。\n",
      "\n",
      "“\u001b[0m\u001b[32m周\u001b[0m\u001b[32m成\u001b[0m\u001b[32m，\u001b[0m\u001b[32m这里\u001b[0m\u001b[32m的感觉\u001b[0m\u001b[32m不对\u001b[0m\u001b[32m劲\u001b[0m\u001b[32m，\u001b[0m\u001b[32m我们\u001b[0m\u001b[32m得\u001b[0m\u001b[32m小心\u001b[0m\u001b[32m行事\u001b[0m\u001b[32m。”\u001b[0m\u001b[32m夏\u001b[0m\u001b[32m小\u001b[0m\u001b[32m兰\u001b[0m\u001b[32m紧\u001b[0m\u001b[32m握\u001b[0m\u001b[32m着\u001b[0m\u001b[32m兰花\u001b[0m\u001b[32m神\u001b[0m\u001b[32m诀\u001b[0m\u001b[32m，\u001b[0m\u001b[32m警惕\u001b[0m\u001b[32m地\u001b[0m\u001b[32m观察\u001b[0m\u001b[32m四周\u001b[0m\u001b[32m。\n",
      "\n",
      "“\u001b[0m\u001b[32m星辰\u001b[0m\u001b[32m之力\u001b[0m\u001b[32m会\u001b[0m\u001b[32m保护\u001b[0m\u001b[32m我们\u001b[0m\u001b[32m。”\u001b[0m\u001b[32m周\u001b[0m\u001b[32m成\u001b[0m\u001b[32m回应\u001b[0m\u001b[32m着\u001b[0m\u001b[32m，\u001b[0m\u001b[32m星辰\u001b[0m\u001b[32m神\u001b[0m\u001b[32m诀\u001b[0m\u001b[32m在他的\u001b[0m\u001b[32m指尖\u001b[0m\u001b[32m若\u001b[0m\u001b[32m隐\u001b[0m\u001b[32m若\u001b[0m\u001b[32m现\u001b[0m\u001b[32m，\u001b[0m\u001b[32m仿佛\u001b[0m\u001b[32m与\u001b[0m\u001b[32m这片\u001b[0m\u001b[32m禁\u001b[0m\u001b[32m地\u001b[0m\u001b[32m中的\u001b[0m\u001b[32m某种\u001b[0m\u001b[32m力量\u001b[0m\u001b[32m相互\u001b[0m\u001b[32m呼应\u001b[0m\u001b[32m。\n",
      "\n",
      "突然\u001b[0m\u001b[32m，\u001b[0m\u001b[32m一群\u001b[0m\u001b[32m不明\u001b[0m\u001b[32m身份\u001b[0m\u001b[32m的\u001b[0m\u001b[32m修\u001b[0m\u001b[32m士\u001b[0m\u001b[32m出现\u001b[0m\u001b[32m，\u001b[0m\u001b[32m试图\u001b[0m\u001b[32m将\u001b[0m\u001b[32m他们\u001b[0m\u001b[32m围\u001b[0m\u001b[32m住\u001b[0m\u001b[32m。\u001b[0m\u001b[32m夏\u001b[0m\u001b[32m小\u001b[0m\u001b[32m兰\u001b[0m\u001b[32m与\u001b[0m\u001b[32m周\u001b[0m\u001b[32m成\u001b[0m\u001b[32m对\u001b[0m\u001b[32m视\u001b[0m\u001b[32m一眼\u001b[0m\u001b[32m，\u001b[0m\u001b[32m瞬间\u001b[0m\u001b[32m明白了\u001b[0m\u001b[32m彼此\u001b[0m\u001b[32m的\u001b[0m\u001b[32m意图\u001b[0m\u001b[32m——\u001b[0m\u001b[32m合作\u001b[0m\u001b[32m抵御\u001b[0m\u001b[32m外\u001b[0m\u001b[32m敌\u001b[0m\u001b[32m。\n",
      "\n",
      "“\u001b[0m\u001b[32m你们\u001b[0m\u001b[32m这些\u001b[0m\u001b[32m废物\u001b[0m\u001b[32m，\u001b[0m\u001b[32m也\u001b[0m\u001b[32m敢\u001b[0m\u001b[32m来\u001b[0m\u001b[32m禁\u001b[0m\u001b[32m地\u001b[0m\u001b[32m撒\u001b[0m\u001b[32m野\u001b[0m\u001b[32m？”\u001b[0m\u001b[32m周\u001b[0m\u001b[32m成\u001b[0m\u001b[32m冷\u001b[0m\u001b[32m笑\u001b[0m\u001b[32m一声\u001b[0m\u001b[32m，\u001b[0m\u001b[32m星辰\u001b[0m\u001b[32m之力\u001b[0m\u001b[32m在他\u001b[0m\u001b[32m掌\u001b[0m\u001b[32m心\u001b[0m\u001b[32m凝聚\u001b[0m\u001b[32m，\u001b[0m\u001b[32m瞬间\u001b[0m\u001b[32m爆发\u001b[0m\u001b[32m，\u001b[0m\u001b[32m击\u001b[0m\u001b[32m退\u001b[0m\u001b[32m了\u001b[0m\u001b[32m几个\u001b[0m\u001b[32m冲\u001b[0m\u001b[32m在最\u001b[0m\u001b[32m前的\u001b[0m\u001b[32m修\u001b[0m\u001b[32m士\u001b[0m\u001b[32m。\n",
      "\n",
      "夏\u001b[0m\u001b[32m小\u001b[0m\u001b[32m兰\u001b[0m\u001b[32m也不\u001b[0m\u001b[32m甘\u001b[0m\u001b[32m示\u001b[0m\u001b[32m弱\u001b[0m\u001b[32m，\u001b[0m\u001b[32m她的\u001b[0m\u001b[32m兰花\u001b[0m\u001b[32m神\u001b[0m\u001b[32m诀\u001b[0m\u001b[32m与\u001b[0m\u001b[32m禁\u001b[0m\u001b[32m地\u001b[0m\u001b[32m中的\u001b[0m\u001b[32m花\u001b[0m\u001b[32m木\u001b[0m\u001b[32m产生了\u001b[0m\u001b[32m共鸣\u001b[0m\u001b[32m，\u001b[0m\u001b[32m那些\u001b[0m\u001b[32m原本\u001b[0m\u001b[32m诡异\u001b[0m\u001b[32m的花\u001b[0m\u001b[32m木\u001b[0m\u001b[32m竟然\u001b[0m\u001b[32m开始\u001b[0m\u001b[32m为她\u001b[0m\u001b[32m所用\u001b[0m\u001b[32m，\u001b[0m\u001b[32m编织\u001b[0m\u001b[32m成\u001b[0m\u001b[32m一道\u001b[0m\u001b[32m道\u001b[0m\u001b[32m花\u001b[0m\u001b[32m墙\u001b[0m\u001b[32m，\u001b[0m\u001b[32m挡\u001b[0m\u001b[32m住了\u001b[0m\u001b[32m敌人的\u001b[0m\u001b[32m攻击\u001b[0m\u001b[32m。\n",
      "\n",
      "在\u001b[0m\u001b[32m激\u001b[0m\u001b[32m战中\u001b[0m\u001b[32m，\u001b[0m\u001b[32m两人\u001b[0m\u001b[32m意外\u001b[0m\u001b[32m地\u001b[0m\u001b[32m发现\u001b[0m\u001b[32m，\u001b[0m\u001b[32m每当\u001b[0m\u001b[32m他们的\u001b[0m\u001b[32m力量\u001b[0m\u001b[32m融合\u001b[0m\u001b[32m在一起\u001b[0m\u001b[32m时\u001b[0m\u001b[32m，\u001b[0m\u001b[32m修\u001b[0m\u001b[32m为\u001b[0m\u001b[32m便\u001b[0m\u001b[32m会有\u001b[0m\u001b[32m所\u001b[0m\u001b[32m提升\u001b[0m\u001b[32m。\u001b[0m\u001b[32m这\u001b[0m\u001b[32m让他们\u001b[0m\u001b[32m意识到\u001b[0m\u001b[32m，\u001b[0m\u001b[32m或许\u001b[0m\u001b[32m禁\u001b[0m\u001b[32m地\u001b[0m\u001b[32m中\u001b[0m\u001b[32m隐藏\u001b[0m\u001b[32m着\u001b[0m\u001b[32m能够\u001b[0m\u001b[32m帮助他们\u001b[0m\u001b[32m找到\u001b[0m\u001b[32m假\u001b[0m\u001b[32m仙\u001b[0m\u001b[32m背后\u001b[0m\u001b[32m秘密\u001b[0m\u001b[32m的力量\u001b[0m\u001b[32m。\n",
      "\n",
      "“\u001b[0m\u001b[32m夏\u001b[0m\u001b[32m小\u001b[0m\u001b[32m兰\u001b[0m\u001b[32m，\u001b[0m\u001b[32m我们的\u001b[0m\u001b[32m力量\u001b[0m\u001b[32m似乎\u001b[0m\u001b[32m可以\u001b[0m\u001b[32m互相\u001b[0m\u001b[32m激发\u001b[0m\u001b[32m！”\u001b[0m\u001b[32m周\u001b[0m\u001b[32m成\u001b[0m\u001b[32m在\u001b[0m\u001b[32m战斗\u001b[0m\u001b[32m间隙\u001b[0m\u001b[32m兴奋\u001b[0m\u001b[32m地说\u001b[0m\u001b[32m。\n",
      "\n",
      "“\u001b[0m\u001b[32m这说明\u001b[0m\u001b[32m禁\u001b[0m\u001b[32m地\u001b[0m\u001b[32m里的\u001b[0m\u001b[32m力量\u001b[0m\u001b[32m对我们\u001b[0m\u001b[32m并不\u001b[0m\u001b[32m排斥\u001b[0m\u001b[32m，\u001b[0m\u001b[32m或许\u001b[0m\u001b[32m我们能\u001b[0m\u001b[32m在这里\u001b[0m\u001b[32m找到\u001b[0m\u001b[32m真正的\u001b[0m\u001b[32m仙\u001b[0m\u001b[32m缘\u001b[0m\u001b[32m。”\u001b[0m\u001b[32m夏\u001b[0m\u001b[32m小\u001b[0m\u001b[32m兰\u001b[0m\u001b[32m眼中\u001b[0m\u001b[32m闪\u001b[0m\u001b[32m过\u001b[0m\u001b[32m一丝\u001b[0m\u001b[32m希望\u001b[0m\u001b[32m。\n",
      "\n",
      "最终\u001b[0m\u001b[32m，\u001b[0m\u001b[32m在\u001b[0m\u001b[32m两人的\u001b[0m\u001b[32m联手\u001b[0m\u001b[32m之下\u001b[0m\u001b[32m，\u001b[0m\u001b[32m那些\u001b[0m\u001b[32m修\u001b[0m\u001b[32m士\u001b[0m\u001b[32m被\u001b[0m\u001b[32m彻底\u001b[0m\u001b[32m击败\u001b[0m\u001b[32m，\u001b[0m\u001b[32m落\u001b[0m\u001b[32m荒\u001b[0m\u001b[32m而\u001b[0m\u001b[32m逃\u001b[0m\u001b[32m。\u001b[0m\u001b[32m夏\u001b[0m\u001b[32m小\u001b[0m\u001b[32m兰\u001b[0m\u001b[32m和\u001b[0m\u001b[32m周\u001b[0m\u001b[32m成\u001b[0m\u001b[32m在\u001b[0m\u001b[32m禁\u001b[0m\u001b[32m地\u001b[0m\u001b[32m中\u001b[0m\u001b[32m探索\u001b[0m\u001b[32m，\u001b[0m\u001b[32m发现\u001b[0m\u001b[32m了一些\u001b[0m\u001b[32m关于\u001b[0m\u001b[32m假\u001b[0m\u001b[32m仙\u001b[0m\u001b[32m术\u001b[0m\u001b[32m的\u001b[0m\u001b[32m线索\u001b[0m\u001b[32m，\u001b[0m\u001b[32m以及\u001b[0m\u001b[32m他们\u001b[0m\u001b[32m家族\u001b[0m\u001b[32m历史的\u001b[0m\u001b[32m秘密\u001b[0m\u001b[32m，\u001b[0m\u001b[32m这一切\u001b[0m\u001b[32m似乎\u001b[0m\u001b[32m都在\u001b[0m\u001b[32m引导\u001b[0m\u001b[32m他们\u001b[0m\u001b[32m走向\u001b[0m\u001b[32m一个\u001b[0m\u001b[32m未\u001b[0m\u001b[32m知的\u001b[0m\u001b[32m真相\u001b[0m\u001b[32m。\n",
      "</\u001b[0m\u001b[32mOUT\u001b[0m\u001b[32mLINE\u001b[0m\u001b[32m>\u001b[0m\u001b[32m\u001b[0m\u001b[33m\n",
      "\u001b[0m\u001b[33m\n",
      "### 二、真假难辨\n",
      "\n",
      "\n",
      "\u001b[0m\u001b[32m<\u001b[0m\u001b[32mOUT\u001b[0m\u001b[32mLINE\u001b[0m\u001b[32m>\n",
      "在\u001b[0m\u001b[32m禁\u001b[0m\u001b[32m地的\u001b[0m\u001b[32m深处\u001b[0m\u001b[32m，\u001b[0m\u001b[32m夏\u001b[0m\u001b[32m小\u001b[0m\u001b[32m兰\u001b[0m\u001b[32m和\u001b[0m\u001b[32m周\u001b[0m\u001b[32m成\u001b[0m\u001b[32m发现\u001b[0m\u001b[32m了一\u001b[0m\u001b[32m处\u001b[0m\u001b[32m古老的\u001b[0m\u001b[32m洞\u001b[0m\u001b[32m府\u001b[0m\u001b[32m，\u001b[0m\u001b[32m洞\u001b[0m\u001b[32m府\u001b[0m\u001b[32m内\u001b[0m\u001b[32m刻\u001b[0m\u001b[32m满了\u001b[0m\u001b[32m关于\u001b[0m\u001b[32m兰花\u001b[0m\u001b[32m仙\u001b[0m\u001b[32m谷\u001b[0m\u001b[32m和\u001b[0m\u001b[32m星辰\u001b[0m\u001b[32m之\u001b[0m\u001b[32m海的\u001b[0m\u001b[32m秘\u001b[0m\u001b[32m辛\u001b[0m\u001b[32m。\u001b[0m\u001b[32m他们\u001b[0m\u001b[32m逐渐\u001b[0m\u001b[32m揭\u001b[0m\u001b[32m开了\u001b[0m\u001b[32m夏\u001b[0m\u001b[32m小\u001b[0m\u001b[32m兰\u001b[0m\u001b[32m家族\u001b[0m\u001b[32m和\u001b[0m\u001b[32m周\u001b[0m\u001b[32m成\u001b[0m\u001b[32m家族\u001b[0m\u001b[32m的\u001b[0m\u001b[32m过往\u001b[0m\u001b[32m。\n",
      "\n",
      "原来\u001b[0m\u001b[32m，\u001b[0m\u001b[32m夏\u001b[0m\u001b[32m小\u001b[0m\u001b[32m兰\u001b[0m\u001b[32m的\u001b[0m\u001b[32m家族\u001b[0m\u001b[32m并非\u001b[0m\u001b[32m只是\u001b[0m\u001b[32m兰花\u001b[0m\u001b[32m仙\u001b[0m\u001b[32m谷\u001b[0m\u001b[32m的\u001b[0m\u001b[32m守护\u001b[0m\u001b[32m者\u001b[0m\u001b[32m，\u001b[0m\u001b[32m而是\u001b[0m\u001b[32m兰花\u001b[0m\u001b[32m神的\u001b[0m\u001b[32m直\u001b[0m\u001b[32m系\u001b[0m\u001b[32m后\u001b[0m\u001b[32m裔\u001b[0m\u001b[32m，\u001b[0m\u001b[32m兰花\u001b[0m\u001b[32m神\u001b[0m\u001b[32m诀\u001b[0m\u001b[32m不仅仅是\u001b[0m\u001b[32m操控\u001b[0m\u001b[32m花\u001b[0m\u001b[32m木\u001b[0m\u001b[32m，\u001b[0m\u001b[32m更有\u001b[0m\u001b[32m净化\u001b[0m\u001b[32m和\u001b[0m\u001b[32m孕育\u001b[0m\u001b[32m生命的\u001b[0m\u001b[32m神秘\u001b[0m\u001b[32m力量\u001b[0m\u001b[32m。\u001b[0m\u001b[32m而\u001b[0m\u001b[32m周\u001b[0m\u001b[32m成的\u001b[0m\u001b[32m家族\u001b[0m\u001b[32m，\u001b[0m\u001b[32m则是\u001b[0m\u001b[32m因\u001b[0m\u001b[32m星辰\u001b[0m\u001b[32m之\u001b[0m\u001b[32m海的\u001b[0m\u001b[32m星辰\u001b[0m\u001b[32m力量\u001b[0m\u001b[32m与\u001b[0m\u001b[32m兰花\u001b[0m\u001b[32m仙\u001b[0m\u001b[32m谷\u001b[0m\u001b[32m的\u001b[0m\u001b[32m灵\u001b[0m\u001b[32m气\u001b[0m\u001b[32m相\u001b[0m\u001b[32m冲\u001b[0m\u001b[32m，\u001b[0m\u001b[32m导致\u001b[0m\u001b[32m两\u001b[0m\u001b[32m族\u001b[0m\u001b[32m长期\u001b[0m\u001b[32m不和\u001b[0m\u001b[32m，\u001b[0m\u001b[32m甚至\u001b[0m\u001b[32m有一\u001b[0m\u001b[32m段\u001b[0m\u001b[32m不\u001b[0m\u001b[32m为人\u001b[0m\u001b[32m知的\u001b[0m\u001b[32m血\u001b[0m\u001b[32m腥\u001b[0m\u001b[32m过往\u001b[0m\u001b[32m。\n",
      "\n",
      "在\u001b[0m\u001b[32m洞\u001b[0m\u001b[32m府\u001b[0m\u001b[32m中\u001b[0m\u001b[32m，\u001b[0m\u001b[32m他们\u001b[0m\u001b[32m还\u001b[0m\u001b[32m找到了\u001b[0m\u001b[32m关于\u001b[0m\u001b[32m真假\u001b[0m\u001b[32m仙\u001b[0m\u001b[32m术\u001b[0m\u001b[32m的\u001b[0m\u001b[32m辨别\u001b[0m\u001b[32m方法\u001b[0m\u001b[32m。\u001b[0m\u001b[32m夏\u001b[0m\u001b[32m小\u001b[0m\u001b[32m兰\u001b[0m\u001b[32m和\u001b[0m\u001b[32m周\u001b[0m\u001b[32m成\u001b[0m\u001b[32m意识到\u001b[0m\u001b[32m，\u001b[0m\u001b[32m他们\u001b[0m\u001b[32m一直以来\u001b[0m\u001b[32m所\u001b[0m\u001b[32m修炼\u001b[0m\u001b[32m的力量\u001b[0m\u001b[32m，\u001b[0m\u001b[32m都有\u001b[0m\u001b[32m真\u001b[0m\u001b[32m伪\u001b[0m\u001b[32m之分\u001b[0m\u001b[32m。\u001b[0m\u001b[32m真\u001b[0m\u001b[32m仙\u001b[0m\u001b[32m术\u001b[0m\u001b[32m能\u001b[0m\u001b[32m净化\u001b[0m\u001b[32m心灵\u001b[0m\u001b[32m，\u001b[0m\u001b[32m增强\u001b[0m\u001b[32m修\u001b[0m\u001b[32m为\u001b[0m\u001b[32m，\u001b[0m\u001b[32m而\u001b[0m\u001b[32m假\u001b[0m\u001b[32m仙\u001b[0m\u001b[32m术\u001b[0m\u001b[32m虽然\u001b[0m\u001b[32m威力\u001b[0m\u001b[32m巨大\u001b[0m\u001b[32m，\u001b[0m\u001b[32m却\u001b[0m\u001b[32m会\u001b[0m\u001b[32m逐渐\u001b[0m\u001b[32m腐蚀\u001b[0m\u001b[32m修炼\u001b[0m\u001b[32m者的\u001b[0m\u001b[32m本\u001b[0m\u001b[32m心\u001b[0m\u001b[32m。\n",
      "\n",
      "面对\u001b[0m\u001b[32m这一\u001b[0m\u001b[32m发现\u001b[0m\u001b[32m，\u001b[0m\u001b[32m周\u001b[0m\u001b[32m成\u001b[0m\u001b[32m感到\u001b[0m\u001b[32m矛盾\u001b[0m\u001b[32m和\u001b[0m\u001b[32m迷茫\u001b[0m\u001b[32m，\u001b[0m\u001b[32m他曾\u001b[0m\u001b[32m因\u001b[0m\u001b[32m假\u001b[0m\u001b[32m仙\u001b[0m\u001b[32m术\u001b[0m\u001b[32m的力量\u001b[0m\u001b[32m而\u001b[0m\u001b[32m感到\u001b[0m\u001b[32m自豪\u001b[0m\u001b[32m，\u001b[0m\u001b[32m而现在\u001b[0m\u001b[32m，\u001b[0m\u001b[32m他\u001b[0m\u001b[32m必须在\u001b[0m\u001b[32m真\u001b[0m\u001b[32m与\u001b[0m\u001b[32m假\u001b[0m\u001b[32m之间\u001b[0m\u001b[32m做出\u001b[0m\u001b[32m选择\u001b[0m\u001b[32m。\u001b[0m\u001b[32m夏\u001b[0m\u001b[32m小\u001b[0m\u001b[32m兰\u001b[0m\u001b[32m则\u001b[0m\u001b[32m坚信\u001b[0m\u001b[32m只有\u001b[0m\u001b[32m真实的\u001b[0m\u001b[32m修\u001b[0m\u001b[32m为\u001b[0m\u001b[32m才能\u001b[0m\u001b[32m得到\u001b[0m\u001b[32m真正的\u001b[0m\u001b[32m仙\u001b[0m\u001b[32m缘\u001b[0m\u001b[32m，\u001b[0m\u001b[32m她\u001b[0m\u001b[32m决定\u001b[0m\u001b[32m坚持\u001b[0m\u001b[32m自己的\u001b[0m\u001b[32m道路\u001b[0m\u001b[32m。\n",
      "\n",
      "然而\u001b[0m\u001b[32m，\u001b[0m\u001b[32m在\u001b[0m\u001b[32m探索\u001b[0m\u001b[32m中\u001b[0m\u001b[32m，\u001b[0m\u001b[32m夏\u001b[0m\u001b[32m小\u001b[0m\u001b[32m兰\u001b[0m\u001b[32m发现\u001b[0m\u001b[32m周\u001b[0m\u001b[32m成\u001b[0m\u001b[32m私下\u001b[0m\u001b[32m练习\u001b[0m\u001b[32m假\u001b[0m\u001b[32m仙\u001b[0m\u001b[32m术\u001b[0m\u001b[32m，\u001b[0m\u001b[32m心生\u001b[0m\u001b[32m疑\u001b[0m\u001b[32m虑\u001b[0m\u001b[32m。\u001b[0m\u001b[32m在一次\u001b[0m\u001b[32m险\u001b[0m\u001b[32m境\u001b[0m\u001b[32m中\u001b[0m\u001b[32m，\u001b[0m\u001b[32m周\u001b[0m\u001b[32m成\u001b[0m\u001b[32m选择了\u001b[0m\u001b[32m背叛\u001b[0m\u001b[32m，\u001b[0m\u001b[32m用\u001b[0m\u001b[32m假\u001b[0m\u001b[32m仙\u001b[0m\u001b[32m术\u001b[0m\u001b[32m救\u001b[0m\u001b[32m了\u001b[0m\u001b[32m夏\u001b[0m\u001b[32m小\u001b[0m\u001b[32m兰\u001b[0m\u001b[32m，\u001b[0m\u001b[32m却\u001b[0m\u001b[32m也因此\u001b[0m\u001b[32m陷入了\u001b[0m\u001b[32m更\u001b[0m\u001b[32m深的\u001b[0m\u001b[32m矛盾\u001b[0m\u001b[32m。\u001b[0m\u001b[32m夏\u001b[0m\u001b[32m小\u001b[0m\u001b[32m兰\u001b[0m\u001b[32m在\u001b[0m\u001b[32m感激\u001b[0m\u001b[32m之余\u001b[0m\u001b[32m，\u001b[0m\u001b[32m也对\u001b[0m\u001b[32m周\u001b[0m\u001b[32m成\u001b[0m\u001b[32m产生了\u001b[0m\u001b[32m不\u001b[0m\u001b[32m信任\u001b[0m\u001b[32m。\n",
      "\n",
      "“\u001b[0m\u001b[32m你\u001b[0m\u001b[32m为什么要\u001b[0m\u001b[32m使用\u001b[0m\u001b[32m假\u001b[0m\u001b[32m仙\u001b[0m\u001b[32m术\u001b[0m\u001b[32m？”\u001b[0m\u001b[32m夏\u001b[0m\u001b[32m小\u001b[0m\u001b[32m兰\u001b[0m\u001b[32m质\u001b[0m\u001b[32m问道\u001b[0m\u001b[32m，\u001b[0m\u001b[32m眼中\u001b[0m\u001b[32m满是\u001b[0m\u001b[32m困惑\u001b[0m\u001b[32m和\u001b[0m\u001b[32m失望\u001b[0m\u001b[32m。\n",
      "\n",
      "周\u001b[0m\u001b[32m成\u001b[0m\u001b[32m默\u001b[0m\u001b[32m然\u001b[0m\u001b[32m片刻\u001b[0m\u001b[32m，\u001b[0m\u001b[32m缓缓\u001b[0m\u001b[32m开口\u001b[0m\u001b[32m：“\u001b[0m\u001b[32m我\u001b[0m\u001b[32m害怕\u001b[0m\u001b[32m失去\u001b[0m\u001b[32m力量\u001b[0m\u001b[32m，\u001b[0m\u001b[32m但\u001b[0m\u001b[32m我也\u001b[0m\u001b[32m害怕\u001b[0m\u001b[32m失去\u001b[0m\u001b[32m你\u001b[0m\u001b[32m。”\n",
      "\n",
      "两人的\u001b[0m\u001b[32m信任\u001b[0m\u001b[32m出现了\u001b[0m\u001b[32m裂\u001b[0m\u001b[32m痕\u001b[0m\u001b[32m，\u001b[0m\u001b[32m但\u001b[0m\u001b[32m共同的\u001b[0m\u001b[32m探索\u001b[0m\u001b[32m和\u001b[0m\u001b[32m战斗\u001b[0m\u001b[32m经历\u001b[0m\u001b[32m又\u001b[0m\u001b[32m让他们\u001b[0m\u001b[32m无法\u001b[0m\u001b[32m割\u001b[0m\u001b[32m舍\u001b[0m\u001b[32m彼此\u001b[0m\u001b[32m。\u001b[0m\u001b[32m在\u001b[0m\u001b[32m洞\u001b[0m\u001b[32m府\u001b[0m\u001b[32m的最\u001b[0m\u001b[32m深处\u001b[0m\u001b[32m，\u001b[0m\u001b[32m他们\u001b[0m\u001b[32m找到了\u001b[0m\u001b[32m一个\u001b[0m\u001b[32m神秘\u001b[0m\u001b[32m阵\u001b[0m\u001b[32m法\u001b[0m\u001b[32m，\u001b[0m\u001b[32m阵\u001b[0m\u001b[32m法\u001b[0m\u001b[32m中\u001b[0m\u001b[32m蕴含\u001b[0m\u001b[32m着\u001b[0m\u001b[32m真假\u001b[0m\u001b[32m仙\u001b[0m\u001b[32m术\u001b[0m\u001b[32m融合\u001b[0m\u001b[32m的秘密\u001b[0m\u001b[32m，\u001b[0m\u001b[32m这可能\u001b[0m\u001b[32m成为\u001b[0m\u001b[32m他们\u001b[0m\u001b[32m修补\u001b[0m\u001b[32m信任\u001b[0m\u001b[32m的\u001b[0m\u001b[32m契机\u001b[0m\u001b[32m。\n",
      "</\u001b[0m\u001b[32mOUT\u001b[0m\u001b[32mLINE\u001b[0m\u001b[32m>\u001b[0m\u001b[32m\u001b[0m\u001b[33m\n",
      "\u001b[0m\u001b[33m\n",
      "## 第三章 命运交锋\n",
      "\n",
      "\n",
      "### 一、决战仙台\n",
      "\n",
      "\n",
      "\u001b[0m\u001b[32m<\u001b[0m\u001b[32mOUT\u001b[0m\u001b[32mLINE\u001b[0m\u001b[32m>\n",
      "夏\u001b[0m\u001b[32m小\u001b[0m\u001b[32m兰\u001b[0m\u001b[32m和\u001b[0m\u001b[32m周\u001b[0m\u001b[32m成\u001b[0m\u001b[32m站在\u001b[0m\u001b[32m仙\u001b[0m\u001b[32m台\u001b[0m\u001b[32m之上\u001b[0m\u001b[32m，\u001b[0m\u001b[32m风\u001b[0m\u001b[32m卷\u001b[0m\u001b[32m云\u001b[0m\u001b[32m涌\u001b[0m\u001b[32m，\u001b[0m\u001b[32m气氛\u001b[0m\u001b[32m紧张\u001b[0m\u001b[32m。\u001b[0m\u001b[32m他们的\u001b[0m\u001b[32m对手\u001b[0m\u001b[32m是一\u001b[0m\u001b[32m群\u001b[0m\u001b[32m来自\u001b[0m\u001b[32m敌\u001b[0m\u001b[32m对\u001b[0m\u001b[32m势\u001b[0m\u001b[32m力的\u001b[0m\u001b[32m修\u001b[0m\u001b[32m士\u001b[0m\u001b[32m，\u001b[0m\u001b[32m眼神\u001b[0m\u001b[32m冷酷\u001b[0m\u001b[32m，\u001b[0m\u001b[32m手中\u001b[0m\u001b[32m法\u001b[0m\u001b[32m器\u001b[0m\u001b[32m散\u001b[0m\u001b[32m发出\u001b[0m\u001b[32m森\u001b[0m\u001b[32m然\u001b[0m\u001b[32m杀\u001b[0m\u001b[32m气\u001b[0m\u001b[32m。\n",
      "\n",
      "“\u001b[0m\u001b[32m你们\u001b[0m\u001b[32m这两个\u001b[0m\u001b[32m小\u001b[0m\u001b[32m辈\u001b[0m\u001b[32m，\u001b[0m\u001b[32m也\u001b[0m\u001b[32m敢\u001b[0m\u001b[32m挡\u001b[0m\u001b[32m我们的\u001b[0m\u001b[32m路\u001b[0m\u001b[32m？”\u001b[0m\u001b[32m对方\u001b[0m\u001b[32m领头\u001b[0m\u001b[32m者\u001b[0m\u001b[32m狂\u001b[0m\u001b[32m妄\u001b[0m\u001b[32m地\u001b[0m\u001b[32m笑道\u001b[0m\u001b[32m。\n",
      "\n",
      "夏\u001b[0m\u001b[32m小\u001b[0m\u001b[32m兰\u001b[0m\u001b[32m眼神\u001b[0m\u001b[32m坚定\u001b[0m\u001b[32m，\u001b[0m\u001b[32m兰花\u001b[0m\u001b[32m神\u001b[0m\u001b[32m诀\u001b[0m\u001b[32m运转\u001b[0m\u001b[32m，\u001b[0m\u001b[32m周\u001b[0m\u001b[32m身\u001b[0m\u001b[32m环绕\u001b[0m\u001b[32m着\u001b[0m\u001b[32m浓郁\u001b[0m\u001b[32m的花\u001b[0m\u001b[32m香\u001b[0m\u001b[32m。\u001b[0m\u001b[32m她\u001b[0m\u001b[32m轻轻\u001b[0m\u001b[32m一笑\u001b[0m\u001b[32m：“\u001b[0m\u001b[32m我们\u001b[0m\u001b[32m是为了\u001b[0m\u001b[32m寻找\u001b[0m\u001b[32m真相\u001b[0m\u001b[32m，\u001b[0m\u001b[32m守护\u001b[0m\u001b[32m家族\u001b[0m\u001b[32m，\u001b[0m\u001b[32m你们\u001b[0m\u001b[32m这些\u001b[0m\u001b[32m滥用\u001b[0m\u001b[32m假\u001b[0m\u001b[32m仙\u001b[0m\u001b[32m术\u001b[0m\u001b[32m的人\u001b[0m\u001b[32m，\u001b[0m\u001b[32m才是\u001b[0m\u001b[32m真正\u001b[0m\u001b[32m挡\u001b[0m\u001b[32m路\u001b[0m\u001b[32m者\u001b[0m\u001b[32m。”\n",
      "\n",
      "战斗\u001b[0m\u001b[32m一\u001b[0m\u001b[32m触\u001b[0m\u001b[32m即\u001b[0m\u001b[32m发\u001b[0m\u001b[32m，\u001b[0m\u001b[32m夏\u001b[0m\u001b[32m小\u001b[0m\u001b[32m兰\u001b[0m\u001b[32m操控\u001b[0m\u001b[32m花\u001b[0m\u001b[32m木\u001b[0m\u001b[32m，\u001b[0m\u001b[32m形成\u001b[0m\u001b[32m一片\u001b[0m\u001b[32m花\u001b[0m\u001b[32m海\u001b[0m\u001b[32m，\u001b[0m\u001b[32m美丽\u001b[0m\u001b[32m中\u001b[0m\u001b[32m藏着\u001b[0m\u001b[32m杀\u001b[0m\u001b[32m机\u001b[0m\u001b[32m。\u001b[0m\u001b[32m周\u001b[0m\u001b[32m成\u001b[0m\u001b[32m双手\u001b[0m\u001b[32m结\u001b[0m\u001b[32m印\u001b[0m\u001b[32m，\u001b[0m\u001b[32m星辰\u001b[0m\u001b[32m之力\u001b[0m\u001b[32m汇聚\u001b[0m\u001b[32m，\u001b[0m\u001b[32m仿佛\u001b[0m\u001b[32m夜\u001b[0m\u001b[32m空中\u001b[0m\u001b[32m最\u001b[0m\u001b[32m亮的\u001b[0m\u001b[32m星辰\u001b[0m\u001b[32m。\n",
      "\n",
      "“\u001b[0m\u001b[32m看\u001b[0m\u001b[32m你们\u001b[0m\u001b[32m怎么\u001b[0m\u001b[32m接\u001b[0m\u001b[32m我\u001b[0m\u001b[32m这一\u001b[0m\u001b[32m招\u001b[0m\u001b[32m！”\u001b[0m\u001b[32m对方\u001b[0m\u001b[32m领头\u001b[0m\u001b[32m者\u001b[0m\u001b[32m怒\u001b[0m\u001b[32m喝\u001b[0m\u001b[32m一声\u001b[0m\u001b[32m，\u001b[0m\u001b[32m施展\u001b[0m\u001b[32m出一\u001b[0m\u001b[32m记\u001b[0m\u001b[32m强大的\u001b[0m\u001b[32m假\u001b[0m\u001b[32m仙\u001b[0m\u001b[32m术\u001b[0m\u001b[32m。\u001b[0m\u001b[32m然而\u001b[0m\u001b[32m，\u001b[0m\u001b[32m夏\u001b[0m\u001b[32m小\u001b[0m\u001b[32m兰\u001b[0m\u001b[32m和\u001b[0m\u001b[32m周\u001b[0m\u001b[32m成\u001b[0m\u001b[32m默契\u001b[0m\u001b[32m地\u001b[0m\u001b[32m联手\u001b[0m\u001b[32m，\u001b[0m\u001b[32m真\u001b[0m\u001b[32m仙\u001b[0m\u001b[32m术\u001b[0m\u001b[32m与\u001b[0m\u001b[32m星辰\u001b[0m\u001b[32m之力\u001b[0m\u001b[32m相\u001b[0m\u001b[32m融\u001b[0m\u001b[32m，\u001b[0m\u001b[32m瞬间\u001b[0m\u001b[32m击\u001b[0m\u001b[32m溃\u001b[0m\u001b[32m了\u001b[0m\u001b[32m对方的\u001b[0m\u001b[32m攻击\u001b[0m\u001b[32m。\n",
      "\n",
      "“\u001b[0m\u001b[32m这\u001b[0m\u001b[32m怎么可能\u001b[0m\u001b[32m？”\u001b[0m\u001b[32m对方\u001b[0m\u001b[32m惊\u001b[0m\u001b[32m恐\u001b[0m\u001b[32m地\u001b[0m\u001b[32m望着\u001b[0m\u001b[32m被打\u001b[0m\u001b[32m脸\u001b[0m\u001b[32m的事实\u001b[0m\u001b[32m。\n",
      "\n",
      "夏\u001b[0m\u001b[32m小\u001b[0m\u001b[32m兰\u001b[0m\u001b[32m和\u001b[0m\u001b[32m周\u001b[0m\u001b[32m成\u001b[0m\u001b[32m乘\u001b[0m\u001b[32m胜\u001b[0m\u001b[32m追\u001b[0m\u001b[32m击\u001b[0m\u001b[32m，\u001b[0m\u001b[32m揭露\u001b[0m\u001b[32m了\u001b[0m\u001b[32m假\u001b[0m\u001b[32m仙\u001b[0m\u001b[32m背后的\u001b[0m\u001b[32m真相\u001b[0m\u001b[32m。\u001b[0m\u001b[32m原来\u001b[0m\u001b[32m，\u001b[0m\u001b[32m这些\u001b[0m\u001b[32m敌\u001b[0m\u001b[32m对\u001b[0m\u001b[32m势力\u001b[0m\u001b[32m为了\u001b[0m\u001b[32m追求\u001b[0m\u001b[32m短暂\u001b[0m\u001b[32m的力量\u001b[0m\u001b[32m，\u001b[0m\u001b[32m修炼\u001b[0m\u001b[32m了\u001b[0m\u001b[32m腐\u001b[0m\u001b[32m化\u001b[0m\u001b[32m心灵的\u001b[0m\u001b[32m假\u001b[0m\u001b[32m仙\u001b[0m\u001b[32m术\u001b[0m\u001b[32m，\u001b[0m\u001b[32m企图\u001b[0m\u001b[32m操控\u001b[0m\u001b[32m整个\u001b[0m\u001b[32m修\u001b[0m\u001b[32m仙\u001b[0m\u001b[32m界\u001b[0m\u001b[32m。\n",
      "\n",
      "在\u001b[0m\u001b[32m决战\u001b[0m\u001b[32m中\u001b[0m\u001b[32m，\u001b[0m\u001b[32m夏\u001b[0m\u001b[32m小\u001b[0m\u001b[32m兰\u001b[0m\u001b[32m和\u001b[0m\u001b[32m周\u001b[0m\u001b[32m成\u001b[0m\u001b[32m面临\u001b[0m\u001b[32m命运\u001b[0m\u001b[32m抉择\u001b[0m\u001b[32m。\u001b[0m\u001b[32m是\u001b[0m\u001b[32m坚守\u001b[0m\u001b[32m真\u001b[0m\u001b[32m仙\u001b[0m\u001b[32m术\u001b[0m\u001b[32m，\u001b[0m\u001b[32m还是\u001b[0m\u001b[32m屈服\u001b[0m\u001b[32m于\u001b[0m\u001b[32m假\u001b[0m\u001b[32m仙\u001b[0m\u001b[32m术\u001b[0m\u001b[32m的\u001b[0m\u001b[32m诱惑\u001b[0m\u001b[32m？\n",
      "\n",
      "“\u001b[0m\u001b[32m我们\u001b[0m\u001b[32m选择\u001b[0m\u001b[32m真相\u001b[0m\u001b[32m！”\u001b[0m\u001b[32m夏\u001b[0m\u001b[32m小\u001b[0m\u001b[32m兰\u001b[0m\u001b[32m和\u001b[0m\u001b[32m周\u001b[0m\u001b[32m成\u001b[0m\u001b[32m齐\u001b[0m\u001b[32m声\u001b[0m\u001b[32m说道\u001b[0m\u001b[32m。\n",
      "\n",
      "他们\u001b[0m\u001b[32m信念\u001b[0m\u001b[32m坚定\u001b[0m\u001b[32m，\u001b[0m\u001b[32m实力\u001b[0m\u001b[32m展现\u001b[0m\u001b[32m，\u001b[0m\u001b[32m最终\u001b[0m\u001b[32m击败\u001b[0m\u001b[32m了\u001b[0m\u001b[32m敌\u001b[0m\u001b[32m对\u001b[0m\u001b[32m势力\u001b[0m\u001b[32m，\u001b[0m\u001b[32m为\u001b[0m\u001b[32m修\u001b[0m\u001b[32m仙\u001b[0m\u001b[32m界\u001b[0m\u001b[32m带来了\u001b[0m\u001b[32m和平\u001b[0m\u001b[32m与\u001b[0m\u001b[32m希望\u001b[0m\u001b[32m。\n",
      "\n",
      "</\u001b[0m\u001b[32mOUT\u001b[0m\u001b[32mLINE\u001b[0m\u001b[32m>\u001b[0m\u001b[32m\u001b[0m\u001b[33m\n",
      "\u001b[0m\u001b[33m\n",
      "### 二、真假相融\n",
      "\n",
      "\n",
      "\u001b[0m\u001b[32m<\u001b[0m\u001b[32mOUT\u001b[0m\u001b[32mLINE\u001b[0m\u001b[32m>\n",
      "在\u001b[0m\u001b[32m决战\u001b[0m\u001b[32m的关键\u001b[0m\u001b[32m时刻\u001b[0m\u001b[32m，\u001b[0m\u001b[32m夏\u001b[0m\u001b[32m小\u001b[0m\u001b[32m兰\u001b[0m\u001b[32m和\u001b[0m\u001b[32m周\u001b[0m\u001b[32m成\u001b[0m\u001b[32m凭借着\u001b[0m\u001b[32m对\u001b[0m\u001b[32m彼此\u001b[0m\u001b[32m的\u001b[0m\u001b[32m信任\u001b[0m\u001b[32m，\u001b[0m\u001b[32m以及对\u001b[0m\u001b[32m真\u001b[0m\u001b[32m仙\u001b[0m\u001b[32m术\u001b[0m\u001b[32m的\u001b[0m\u001b[32m坚持\u001b[0m\u001b[32m，\u001b[0m\u001b[32m终于\u001b[0m\u001b[32m找到了\u001b[0m\u001b[32m真假\u001b[0m\u001b[32m仙\u001b[0m\u001b[32m术\u001b[0m\u001b[32m的\u001b[0m\u001b[32m融合\u001b[0m\u001b[32m之道\u001b[0m\u001b[32m。\u001b[0m\u001b[32m夏\u001b[0m\u001b[32m小\u001b[0m\u001b[32m兰\u001b[0m\u001b[32m的\u001b[0m\u001b[32m兰花\u001b[0m\u001b[32m神\u001b[0m\u001b[32m诀\u001b[0m\u001b[32m与\u001b[0m\u001b[32m周\u001b[0m\u001b[32m成的\u001b[0m\u001b[32m星辰\u001b[0m\u001b[32m神\u001b[0m\u001b[32m诀\u001b[0m\u001b[32m，\u001b[0m\u001b[32m本\u001b[0m\u001b[32m就\u001b[0m\u001b[32m有着\u001b[0m\u001b[32m天然的\u001b[0m\u001b[32m互补\u001b[0m\u001b[32m，\u001b[0m\u001b[32m他们在\u001b[0m\u001b[32m战斗\u001b[0m\u001b[32m中\u001b[0m\u001b[32m不断\u001b[0m\u001b[32m尝试\u001b[0m\u001b[32m，\u001b[0m\u001b[32m将\u001b[0m\u001b[32m两种\u001b[0m\u001b[32m法\u001b[0m\u001b[32m诀\u001b[0m\u001b[32m巧妙\u001b[0m\u001b[32m地\u001b[0m\u001b[32m结合起来\u001b[0m\u001b[32m。\n",
      "\n",
      "在一次\u001b[0m\u001b[32m凶\u001b[0m\u001b[32m险\u001b[0m\u001b[32m的\u001b[0m\u001b[32m交锋\u001b[0m\u001b[32m中\u001b[0m\u001b[32m，\u001b[0m\u001b[32m夏\u001b[0m\u001b[32m小\u001b[0m\u001b[32m兰\u001b[0m\u001b[32m操控\u001b[0m\u001b[32m的花\u001b[0m\u001b[32m木\u001b[0m\u001b[32m与\u001b[0m\u001b[32m周\u001b[0m\u001b[32m成的\u001b[0m\u001b[32m星辰\u001b[0m\u001b[32m之力\u001b[0m\u001b[32m，\u001b[0m\u001b[32m意外\u001b[0m\u001b[32m地\u001b[0m\u001b[32m形成\u001b[0m\u001b[32m了一\u001b[0m\u001b[32m片\u001b[0m\u001b[32m繁\u001b[0m\u001b[32m星\u001b[0m\u001b[32m闪烁\u001b[0m\u001b[32m的花\u001b[0m\u001b[32m海\u001b[0m\u001b[32m。\u001b[0m\u001b[32m这片\u001b[0m\u001b[32m花\u001b[0m\u001b[32m海\u001b[0m\u001b[32m不仅\u001b[0m\u001b[32m美丽\u001b[0m\u001b[32m，\u001b[0m\u001b[32m而且\u001b[0m\u001b[32m蕴含\u001b[0m\u001b[32m着\u001b[0m\u001b[32m强大的\u001b[0m\u001b[32m力量\u001b[0m\u001b[32m，\u001b[0m\u001b[32m真假\u001b[0m\u001b[32m仙\u001b[0m\u001b[32m术\u001b[0m\u001b[32m在这\u001b[0m\u001b[32m片\u001b[0m\u001b[32m花\u001b[0m\u001b[32m海\u001b[0m\u001b[32m中\u001b[0m\u001b[32m完美\u001b[0m\u001b[32m融合\u001b[0m\u001b[32m，\u001b[0m\u001b[32m焕\u001b[0m\u001b[32m发出\u001b[0m\u001b[32m前所未有的\u001b[0m\u001b[32m威力\u001b[0m\u001b[32m。\n",
      "\n",
      "“\u001b[0m\u001b[32m小\u001b[0m\u001b[32m兰\u001b[0m\u001b[32m，\u001b[0m\u001b[32m我们\u001b[0m\u001b[32m做到了\u001b[0m\u001b[32m！”\u001b[0m\u001b[32m周\u001b[0m\u001b[32m成\u001b[0m\u001b[32m激动\u001b[0m\u001b[32m地\u001b[0m\u001b[32m喊\u001b[0m\u001b[32m道\u001b[0m\u001b[32m，\u001b[0m\u001b[32m眼中\u001b[0m\u001b[32m闪烁\u001b[0m\u001b[32m着\u001b[0m\u001b[32m星辰\u001b[0m\u001b[32m般\u001b[0m\u001b[32m的光\u001b[0m\u001b[32m芒\u001b[0m\u001b[32m。\n",
      "\n",
      "“\u001b[0m\u001b[32m是的\u001b[0m\u001b[32m，\u001b[0m\u001b[32m成\u001b[0m\u001b[32m哥\u001b[0m\u001b[32m，\u001b[0m\u001b[32m我们\u001b[0m\u001b[32m找到了\u001b[0m\u001b[32m新的\u001b[0m\u001b[32m道路\u001b[0m\u001b[32m！”\u001b[0m\u001b[32m夏\u001b[0m\u001b[32m小\u001b[0m\u001b[32m兰\u001b[0m\u001b[32m笑着\u001b[0m\u001b[32m回应\u001b[0m\u001b[32m，\u001b[0m\u001b[32m心中\u001b[0m\u001b[32m对\u001b[0m\u001b[32m周\u001b[0m\u001b[32m成的\u001b[0m\u001b[32m信任\u001b[0m\u001b[32m更深\u001b[0m\u001b[32m了一\u001b[0m\u001b[32m层\u001b[0m\u001b[32m。\n",
      "\n",
      "这场\u001b[0m\u001b[32m战斗\u001b[0m\u001b[32m过后\u001b[0m\u001b[32m，\u001b[0m\u001b[32m兰花\u001b[0m\u001b[32m仙\u001b[0m\u001b[32m谷\u001b[0m\u001b[32m和\u001b[0m\u001b[32m星辰\u001b[0m\u001b[32m之\u001b[0m\u001b[32m海\u001b[0m\u001b[32m因为\u001b[0m\u001b[32m夏\u001b[0m\u001b[32m小\u001b[0m\u001b[32m兰\u001b[0m\u001b[32m和\u001b[0m\u001b[32m周\u001b[0m\u001b[32m成的\u001b[0m\u001b[32m融合\u001b[0m\u001b[32m仙\u001b[0m\u001b[32m术\u001b[0m\u001b[32m，\u001b[0m\u001b[32m迎来了\u001b[0m\u001b[32m和平\u001b[0m\u001b[32m与\u001b[0m\u001b[32m繁荣\u001b[0m\u001b[32m。\u001b[0m\u001b[32m两个\u001b[0m\u001b[32m家族\u001b[0m\u001b[32m开始\u001b[0m\u001b[32m携手\u001b[0m\u001b[32m研究\u001b[0m\u001b[32m真假\u001b[0m\u001b[32m仙\u001b[0m\u001b[32m术\u001b[0m\u001b[32m的\u001b[0m\u001b[32m融合\u001b[0m\u001b[32m与创新\u001b[0m\u001b[32m，\u001b[0m\u001b[32m逐渐\u001b[0m\u001b[32m发展\u001b[0m\u001b[32m出一\u001b[0m\u001b[32m套\u001b[0m\u001b[32m全新的\u001b[0m\u001b[32m修炼\u001b[0m\u001b[32m体系\u001b[0m\u001b[32m。\n",
      "\n",
      "夏\u001b[0m\u001b[32m小\u001b[0m\u001b[32m兰\u001b[0m\u001b[32m和\u001b[0m\u001b[32m周\u001b[0m\u001b[32m成\u001b[0m\u001b[32m在\u001b[0m\u001b[32m共同的\u001b[0m\u001b[32m探索\u001b[0m\u001b[32m中\u001b[0m\u001b[32m，\u001b[0m\u001b[32m信任\u001b[0m\u001b[32m越发\u001b[0m\u001b[32m深厚\u001b[0m\u001b[32m，\u001b[0m\u001b[32m他们\u001b[0m\u001b[32m一起\u001b[0m\u001b[32m面对\u001b[0m\u001b[32m未来\u001b[0m\u001b[32m，\u001b[0m\u001b[32m守护\u001b[0m\u001b[32m着\u001b[0m\u001b[32m家族\u001b[0m\u001b[32m和\u001b[0m\u001b[32m修\u001b[0m\u001b[32m仙\u001b[0m\u001b[32m界的\u001b[0m\u001b[32m和平\u001b[0m\u001b[32m。\u001b[0m\u001b[32m而\u001b[0m\u001b[32m兰花\u001b[0m\u001b[32m仙\u001b[0m\u001b[32m谷\u001b[0m\u001b[32m和\u001b[0m\u001b[32m星辰\u001b[0m\u001b[32m之\u001b[0m\u001b[32m海\u001b[0m\u001b[32m，\u001b[0m\u001b[32m也因为\u001b[0m\u001b[32m他们的\u001b[0m\u001b[32m努力\u001b[0m\u001b[32m，\u001b[0m\u001b[32m成为了\u001b[0m\u001b[32m修\u001b[0m\u001b[32m仙\u001b[0m\u001b[32m界\u001b[0m\u001b[32m最为\u001b[0m\u001b[32m繁荣\u001b[0m\u001b[32m的地方\u001b[0m\u001b[32m。\n",
      "\n",
      "</\u001b[0m\u001b[32mOUT\u001b[0m\u001b[32mLINE\u001b[0m\u001b[32m>\u001b[0m\u001b[32m\u001b[0m\u001b[33m\n",
      "\u001b[0m\u001b[31m\n",
      "\n",
      "已保存 教程/我修了个假仙人.md, 共计 3221 字。\n",
      "\u001b[0m"
     ]
    }
   ],
   "source": [
    "p.run_script()"
   ]
  },
  {
   "cell_type": "code",
   "execution_count": 4,
   "id": "269096ff-7027-4b74-a822-f65612df0629",
   "metadata": {},
   "outputs": [
    {
     "data": {
      "text/plain": [
       "True"
      ]
     },
     "execution_count": 4,
     "metadata": {},
     "output_type": "execute_result"
    }
   ],
   "source": [
    "p.checkout(\"README提纲.md\", -1)"
   ]
  },
  {
   "cell_type": "code",
   "execution_count": 10,
   "id": "678cd636-dd39-430c-a4aa-a79d1fb887a8",
   "metadata": {},
   "outputs": [
    {
     "data": {
      "text/plain": [
       "{'modified_at': '2024-06-25 21:39:11',\n",
       " 'output_file': 'README提纲.md',\n",
       " 'command': 'stream',\n",
       " 'args': {'task': ' 请帮生成一个中文readme.文件，从第一级标题开始。 内容是指导新手如何使用`textlong`这个python包。 这需要包括dotenv使用、textlong加载、使用Project创作长文（其中又包括创作提纲、扩写、引用素材等几部份） ',\n",
       "  'sep_mode': 'all',\n",
       "  'prompt_id': 'OUTLINE',\n",
       "  'base_folder': '教程'},\n",
       " 'output_text': \"---\\nmodified_at: '2024-06-25 21:39:11'\\noutput_file: README提纲.md\\ncommand: stream\\nargs:\\n  task: '\\n    请帮生成一个中文readme.文件，从第一级标题开始。\\n    内容是指导新手如何使用`textlong`这个python包。\\n    这需要包括dotenv使用、textlong加载、使用Project创作长文（其中又包括创作提纲、扩写、引用素材等几部份）\\n    '\\n  sep_mode: all\\n  prompt_id: OUTLINE\\n  base_folder: 教程\\n---\\n\\n# `textlong` 新手使用指南\\n\\n## 一、环境配置\\n### 1、安装Python\\n确保您的计算机上已安装Python环境。\\n\\n### 2、安装`textlong`包\\n在命令行中输入以下命令以安装`textlong`包。\\n\\n<OUTLINE>\\n扩写摘要：介绍如何通过pip安装textlong包。\\n\\n扩写要求：\\n- pip安装命令\\n- 确保网络连接稳定\\n</OUTLINE>\\n\\n### 3、使用dotenv管理环境变量\\n为了安全地管理您的项目配置信息，我们建议使用dotenv。\\n\\n<OUTLINE>\\n扩写摘要：介绍dotenv的安装与使用。\\n\\n扩写要求：\\n- dotenv安装命令\\n- 创建和使用`.env`文件\\n- 环境变量加载方法\\n</OUTLINE>\\n\\n## 二、`textlong`加载与配置\\n### 1、加载`textlong`\\n在您的Python脚本中，首先需要导入并加载`textlong`模块。\\n\\n<OUTLINE>\\n扩写摘要：介绍如何导入`textlong`模块。\\n\\n扩写要求：\\n- 导入`textlong`的代码示例\\n- 初始化配置方法\\n</OUTLINE>\\n\\n## 三、使用Project创作长文\\n### 1、创建创作提纲\\n在创作长文之前，制定一个清晰的结构提纲是非常重要的。\\n\\n<OUTLINE>\\n扩写摘要：指导如何制定文章提纲。\\n\\n扩写要求：\\n- 提纲包含的章节和部分\\n- 预估字数分配\\n- 创意要点分布\\n</OUTLINE>\\n\\n### 2、文章扩写\\n根据创建的提纲，利用`textlong`进行文章的扩写。\\n\\n<OUTLINE>\\n扩写摘要：介绍如何使用`textlong`进行文章扩写。\\n\\n扩写要求：\\n- 使用`textlong`的关键步骤\\n- 文章扩写流程\\n- 涉及的关键功能介绍\\n</OUTLINE>\\n\\n### 3、引用素材\\n在文章中引用合适的素材，可以增强文章的说服力和趣味性。\\n\\n<OUTLINE>\\n扩写摘要：指导如何在文章中引用素材。\\n\\n扩写要求：\\n- 素材查找的方法\\n- 引用素材的格式\\n- 注意事项（如版权问题）\\n</OUTLINE>\\n\\n### 4、实体名称处理\\n合理地处理文章中出现的实体名称，有助于提升文章的专业性。\\n\\n<OUTLINE>\\n扩写摘要：讨论在文章创作中处理实体名称的策略。\\n\\n扩写要求：\\n- 实体名称的识别\\n- 命名规范\\n- 实体名称在文章中的应用\\n</OUTLINE>\\n\\n## 四、结语\\n恭喜您完成了使用`textlong`进行长文创作的初步学习。接下来，请开始您的创作之旅吧！\"}"
      ]
     },
     "execution_count": 10,
     "metadata": {},
     "output_type": "execute_result"
    }
   ],
   "source": [
    "p.load_history(\"README提纲.md\")[-1]"
   ]
  },
  {
   "cell_type": "code",
   "execution_count": null,
   "id": "fb03b205-c9da-4d73-b5b0-797a2f218d68",
   "metadata": {},
   "outputs": [],
   "source": []
  }
 ],
 "metadata": {
  "kernelspec": {
   "display_name": "textlong-same-ipykernel",
   "language": "python",
   "name": "textlong-same-ipykernel"
  },
  "language_info": {
   "codemirror_mode": {
    "name": "ipython",
    "version": 3
   },
   "file_extension": ".py",
   "mimetype": "text/x-python",
   "name": "python",
   "nbconvert_exporter": "python",
   "pygments_lexer": "ipython3",
   "version": "3.10.0"
  }
 },
 "nbformat": 4,
 "nbformat_minor": 5
}
