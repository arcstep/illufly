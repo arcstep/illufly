{
 "cells": [
  {
   "cell_type": "markdown",
   "id": "7ad08efd-c98b-441e-b698-bc1c99cc4808",
   "metadata": {},
   "source": [
    "## 初始化项目"
   ]
  },
  {
   "cell_type": "markdown",
   "id": "ae5eff19-82a7-4c1b-8853-963b4d162bb9",
   "metadata": {},
   "source": [
    "### 自动加载历史"
   ]
  },
  {
   "cell_type": "code",
   "execution_count": 1,
   "id": "5abd4244-e420-4bb6-97d2-81ce9c70c22d",
   "metadata": {},
   "outputs": [
    {
     "name": "stdout",
     "output_type": "stream",
     "text": [
      "Project<llm: 'zhipuai/glm-4-flash', project_folder: './教程', output_files: ['README提纲.md', 'README.md', '提纲.md', '人物设定.md', '我修了个假仙人.md']>\n"
     ]
    }
   ],
   "source": [
    "from textlong import WritingProject\n",
    "from langchain_zhipu import ChatZhipuAI\n",
    "\n",
    "p = WritingProject(project_id=\"教程\", llm=ChatZhipuAI(model=\"glm-4-flash\"))\n",
    "print(p)"
   ]
  },
  {
   "cell_type": "code",
   "execution_count": 2,
   "id": "64eb9eba-d730-458c-bec2-635097f6fb82",
   "metadata": {},
   "outputs": [
    {
     "data": {
      "text/plain": [
       "['README.md', '我修了个假仙人.md', 'README提纲.md', '提纲.md', '人物设定.md']"
      ]
     },
     "execution_count": 2,
     "metadata": {},
     "output_type": "execute_result"
    }
   ],
   "source": [
    "p.list_resource()"
   ]
  },
  {
   "cell_type": "code",
   "execution_count": 3,
   "id": "2c17b312-9f2a-4d9e-ad48-10e2f9648015",
   "metadata": {},
   "outputs": [
    {
     "data": {
      "text/plain": [
       "\"---\\nmodified_at: '2024-06-25 22:07:02'\\noutput_file: 人物设定.md\\ncommand: stream\\nargs:\\n  task: 我要写一个修仙小说，主角是夏小兰，男一号是周成，请帮我设想一下这两个人的出身，要非常魔幻。\\n  sep_mode: all\\n  prompt_id: IDEA\\n  base_folder: 教程\\n---\\n\\n夏小兰，出生于神秘的「兰花仙谷」，她的家族世代修炼「兰花神诀」，拥有能操控花木、灵气为食的奇特能力。在仙谷中，有一株万年兰花，传闻它是上古花神遗留的仙种，夏小兰便是由这株兰花孕育而生，因此她自幼便身怀异禀，被视为兰花仙谷的奇迹。\\n\\n周成，来自「星辰之海」的神秘家族，其祖先曾是九天之上的星君，因一次意外流落凡间，开创了周家。周成自小受到家族秘传的「星辰神诀」栽培，能够操控星辰之力，与天地共鸣。他的出生伴随着天象异变，星辰闪耀，被认为承载着星辰之海的命运。\\n\\n**人物设定：**\\n\\n- **夏小兰**\\n  - 出身：兰花仙谷\\n  - 特点：花神后代，操控花木，食灵气\\n  - 法诀：兰花神诀\\n\\n- **周成**\\n  - 出身：星辰之海周家\\n  - 特点：星君后裔，控星辰之力\\n  - 法诀：星辰神诀\""
      ]
     },
     "execution_count": 3,
     "metadata": {},
     "output_type": "execute_result"
    }
   ],
   "source": [
    "p.load_markdown(\"人物设定.md\")"
   ]
  },
  {
   "cell_type": "markdown",
   "id": "62a16b56-4efb-4089-88f8-ea568f46147d",
   "metadata": {},
   "source": [
    "## 指定嵌入"
   ]
  },
  {
   "cell_type": "code",
   "execution_count": null,
   "id": "7050c97b-072f-4040-92ca-28934dfd3c75",
   "metadata": {},
   "outputs": [],
   "source": [
    "p.to_embedding(\"人物设定.md\", False)"
   ]
  },
  {
   "cell_type": "code",
   "execution_count": null,
   "id": "4f58444f-46cd-4dcd-aac7-88c8474d7dc7",
   "metadata": {},
   "outputs": [],
   "source": [
    "p.to_embedding(\"我修了个假仙人.md\", True)"
   ]
  },
  {
   "cell_type": "code",
   "execution_count": null,
   "id": "808685a8-a1fc-4093-baab-0dad1d0a1ea6",
   "metadata": {},
   "outputs": [],
   "source": [
    "p.embedding_files"
   ]
  },
  {
   "cell_type": "markdown",
   "id": "07f0524d-89f8-4f60-8a53-fcfc10d912b9",
   "metadata": {},
   "source": [
    "### 查看每个文件的最后一条指令"
   ]
  },
  {
   "cell_type": "code",
   "execution_count": null,
   "id": "225b7b7b-a1d7-4b65-9c27-3a9abad885cb",
   "metadata": {},
   "outputs": [],
   "source": [
    "p.load_commands(-1)"
   ]
  },
  {
   "cell_type": "markdown",
   "id": "9b44270c-f824-4373-a47a-1eebf40cc643",
   "metadata": {},
   "source": [
    "## README项目"
   ]
  },
  {
   "cell_type": "markdown",
   "id": "5486d447-3ffb-4e0a-8ebb-5783ba15ea91",
   "metadata": {},
   "source": [
    "### 创建大纲"
   ]
  },
  {
   "cell_type": "code",
   "execution_count": null,
   "id": "693fd333-977d-4ca2-8eae-4482dc4fa69c",
   "metadata": {},
   "outputs": [],
   "source": [
    "task = \"\"\"\n",
    "请帮生成一个中文readme.文件，从第一级标题开始。\n",
    "内容是指导新手如何使用`textlong`这个python包。\n",
    "这需要包括dotenv使用、textlong加载、使用Project创作长文（其中又包括创作提纲、扩写、引用素材等几部份）\n",
    "\"\"\"\n",
    "p.outline(output_file=\"README提纲.md\", task=task, verbose=False)"
   ]
  },
  {
   "cell_type": "markdown",
   "id": "858fde14-bca5-4ccf-9089-e89fa4ad3bf4",
   "metadata": {},
   "source": [
    "### 扩写"
   ]
  },
  {
   "cell_type": "code",
   "execution_count": null,
   "id": "4bd73470-f48b-4d8a-a3a7-7a902c71b063",
   "metadata": {},
   "outputs": [],
   "source": [
    "from textlong.writing import from_outline, MarkdownLoader\n",
    "from textlong.writing.base import gather_docs\n",
    "\n",
    "d = MarkdownLoader(gather_docs(\"README提纲.md\", \"教程\"))\n",
    "d.get_todo_documents('outline')\n",
    "d.types"
   ]
  },
  {
   "cell_type": "code",
   "execution_count": null,
   "id": "2b3dc504-ac88-40b1-b3cd-20c5f07602e1",
   "metadata": {},
   "outputs": [],
   "source": [
    "from_outline(\n",
    "    ChatZhipuAI(model=\"glm-4-flash\"),\n",
    "    output_file=\"README.md\",\n",
    "    completed=\"README提纲.md\",\n",
    "    base_folder=\"教程\",\n",
    ")"
   ]
  },
  {
   "cell_type": "markdown",
   "id": "817e1915-c17d-4fe3-a686-3719dba95a87",
   "metadata": {},
   "source": [
    "## 创建小说"
   ]
  },
  {
   "cell_type": "markdown",
   "id": "7542423b-497c-4e3c-9022-23b16936894a",
   "metadata": {},
   "source": [
    "### 创建大纲"
   ]
  },
  {
   "cell_type": "code",
   "execution_count": 4,
   "id": "6debc314-2442-4264-b25e-2e05658c340c",
   "metadata": {},
   "outputs": [
    {
     "name": "stdout",
     "output_type": "stream",
     "text": [
      "\u001b[34m\n",
      ">->>> Prompt ID: IDEA | 人物设定.md <<<-<\n",
      "\u001b[0m\u001b[32m夏\u001b[0m\u001b[32m小\u001b[0m\u001b[32m兰\u001b[0m\u001b[32m，\u001b[0m\u001b[32m出身\u001b[0m\u001b[32m于\u001b[0m\u001b[32m上古\u001b[0m\u001b[32m神秘\u001b[0m\u001b[32m家族\u001b[0m\u001b[32m“\u001b[0m\u001b[32m苍\u001b[0m\u001b[32m穹\u001b[0m\u001b[32m世家\u001b[0m\u001b[32m”，\u001b[0m\u001b[32m其\u001b[0m\u001b[32m祖\u001b[0m\u001b[32m先是\u001b[0m\u001b[32m天\u001b[0m\u001b[32m庭\u001b[0m\u001b[32m战\u001b[0m\u001b[32m神\u001b[0m\u001b[32m，\u001b[0m\u001b[32m因\u001b[0m\u001b[32m一次\u001b[0m\u001b[32m意外\u001b[0m\u001b[32m陨\u001b[0m\u001b[32m落\u001b[0m\u001b[32m凡\u001b[0m\u001b[32m间\u001b[0m\u001b[32m，\u001b[0m\u001b[32m遗\u001b[0m\u001b[32m世\u001b[0m\u001b[32m独立\u001b[0m\u001b[32m，\u001b[0m\u001b[32m繁\u001b[0m\u001b[32m衍\u001b[0m\u001b[32m出了\u001b[0m\u001b[32m苍\u001b[0m\u001b[32m穹\u001b[0m\u001b[32m世家\u001b[0m\u001b[32m。\u001b[0m\u001b[32m夏\u001b[0m\u001b[32m家\u001b[0m\u001b[32m自\u001b[0m\u001b[32m上古\u001b[0m\u001b[32m起\u001b[0m\u001b[32m便\u001b[0m\u001b[32m修炼\u001b[0m\u001b[32m神秘\u001b[0m\u001b[32m功\u001b[0m\u001b[32m法\u001b[0m\u001b[32m，\u001b[0m\u001b[32m与\u001b[0m\u001b[32m天地\u001b[0m\u001b[32m万物\u001b[0m\u001b[32m相\u001b[0m\u001b[32m契合\u001b[0m\u001b[32m，\u001b[0m\u001b[32m家族\u001b[0m\u001b[32m成员\u001b[0m\u001b[32m皆\u001b[0m\u001b[32m拥有\u001b[0m\u001b[32m超\u001b[0m\u001b[32m凡\u001b[0m\u001b[32m脱\u001b[0m\u001b[32m俗\u001b[0m\u001b[32m之\u001b[0m\u001b[32m能\u001b[0m\u001b[32m。\n",
      "\n",
      "周\u001b[0m\u001b[32m成\u001b[0m\u001b[32m，\u001b[0m\u001b[32m男\u001b[0m\u001b[32m一号\u001b[0m\u001b[32m，\u001b[0m\u001b[32m出生于\u001b[0m\u001b[32m人\u001b[0m\u001b[32m神\u001b[0m\u001b[32m共\u001b[0m\u001b[32m居\u001b[0m\u001b[32m的\u001b[0m\u001b[32m“\u001b[0m\u001b[32m青\u001b[0m\u001b[32m霄\u001b[0m\u001b[32m界\u001b[0m\u001b[32m”，\u001b[0m\u001b[32m其\u001b[0m\u001b[32m父\u001b[0m\u001b[32m为\u001b[0m\u001b[32m天\u001b[0m\u001b[32m界\u001b[0m\u001b[32m大\u001b[0m\u001b[32m将军\u001b[0m\u001b[32m，\u001b[0m\u001b[32m母亲\u001b[0m\u001b[32m则是\u001b[0m\u001b[32m神\u001b[0m\u001b[32m族\u001b[0m\u001b[32m仙女\u001b[0m\u001b[32m。\u001b[0m\u001b[32m周\u001b[0m\u001b[32m成\u001b[0m\u001b[32m自\u001b[0m\u001b[32m幼\u001b[0m\u001b[32m受\u001b[0m\u001b[32m天地\u001b[0m\u001b[32m精华\u001b[0m\u001b[32m滋养\u001b[0m\u001b[32m，\u001b[0m\u001b[32m天生\u001b[0m\u001b[32m神\u001b[0m\u001b[32m力\u001b[0m\u001b[32m，\u001b[0m\u001b[32m更\u001b[0m\u001b[32m得\u001b[0m\u001b[32m神\u001b[0m\u001b[32m魔\u001b[0m\u001b[32m传承\u001b[0m\u001b[32m，\u001b[0m\u001b[32m拥有\u001b[0m\u001b[32m操控\u001b[0m\u001b[32m元素\u001b[0m\u001b[32m之力\u001b[0m\u001b[32m，\u001b[0m\u001b[32m是\u001b[0m\u001b[32m青\u001b[0m\u001b[32m霄\u001b[0m\u001b[32m界\u001b[0m\u001b[32m中\u001b[0m\u001b[32m备受\u001b[0m\u001b[32m瞩目的\u001b[0m\u001b[32m天才\u001b[0m\u001b[32m少年\u001b[0m\u001b[32m。\u001b[0m\u001b[32m\u001b[0m\u001b[31m\n",
      "\n",
      "已保存 ./教程/人物设定.md, 共计 179 字。\n",
      "\u001b[0m"
     ]
    }
   ],
   "source": [
    "task = \"我要写一个修仙小说，主角是夏小兰，男一号是周成，请帮我设想一下这两个人的出身，要非常魔幻。\"\n",
    "p.idea(\"人物设定.md\", task)"
   ]
  },
  {
   "cell_type": "code",
   "execution_count": null,
   "id": "8bd6a44f-7f82-4c96-b0ef-c0298cd616df",
   "metadata": {},
   "outputs": [],
   "source": [
    "task = \"请帮我创作500字的修仙小说，标题为《我修了个假仙》，主角是夏小兰，男一号是周成，每一个章节都适用意外、打脸的线索推动。\"\n",
    "p.outline(\"提纲.md\", task, knowledge=[\"人物设定.md\"], prompt_id=\"OUTLINE\")"
   ]
  },
  {
   "cell_type": "markdown",
   "id": "5b34ecef-4703-44c6-837f-3787d5c6cdd7",
   "metadata": {},
   "source": [
    "### 扩写"
   ]
  },
  {
   "cell_type": "code",
   "execution_count": null,
   "id": "29c57f86-41b4-4595-8393-a3e29be82110",
   "metadata": {},
   "outputs": [],
   "source": [
    "p.from_outline(\n",
    "    output_file=\"我修了个假仙人.md\",\n",
    "    completed=\"提纲.md\",\n",
    "    task=\"多使用人物细节、对话描写、打斗描写，减少抽象叙事\",\n",
    "    knowledge=[\"人物设定.md\"]\n",
    ")"
   ]
  },
  {
   "cell_type": "code",
   "execution_count": null,
   "id": "d7e72467-282f-410a-9c7d-bb19413e0646",
   "metadata": {},
   "outputs": [],
   "source": [
    "p.more_outline(\n",
    "    output_file=\"更细的大纲.md\",\n",
    "    completed=\"提纲.md\",\n",
    "    task=\"多使用人物细节、对话描写、打斗描写，减少抽象叙事\",\n",
    "    knowledge=[\"人物设定.md\"]\"\n",
    ")"
   ]
  },
  {
   "cell_type": "markdown",
   "id": "1b238dbf-570b-4440-902c-ffae5b8bd38d",
   "metadata": {},
   "source": [
    "## 运行脚本"
   ]
  },
  {
   "cell_type": "markdown",
   "id": "056eca60-e11a-4e07-bbef-b5c08e33d354",
   "metadata": {},
   "source": [
    "### 保存脚本"
   ]
  },
  {
   "cell_type": "code",
   "execution_count": null,
   "id": "0c3341c8-a129-4f31-9fad-fad623155e53",
   "metadata": {},
   "outputs": [],
   "source": [
    "p.save_script()"
   ]
  },
  {
   "cell_type": "markdown",
   "id": "1932d971-4bcd-4fc2-a1f2-faf2110efdde",
   "metadata": {},
   "source": [
    "### 查看脚本"
   ]
  },
  {
   "cell_type": "code",
   "execution_count": null,
   "id": "cda71037-c092-4da6-aec8-dd5b3818c562",
   "metadata": {},
   "outputs": [],
   "source": [
    "p.load_script()"
   ]
  },
  {
   "cell_type": "markdown",
   "id": "9b7c0930-4fde-4c4f-9213-297054c21e9e",
   "metadata": {},
   "source": [
    "### 运行脚本"
   ]
  },
  {
   "cell_type": "code",
   "execution_count": null,
   "id": "04e0b944-d88b-4ba7-8dbb-f4a85f9cb920",
   "metadata": {},
   "outputs": [],
   "source": [
    "p.run_script()"
   ]
  },
  {
   "cell_type": "code",
   "execution_count": null,
   "id": "269096ff-7027-4b74-a822-f65612df0629",
   "metadata": {},
   "outputs": [],
   "source": [
    "p.checkout(\"README提纲.md\", -1)"
   ]
  },
  {
   "cell_type": "code",
   "execution_count": null,
   "id": "678cd636-dd39-430c-a4aa-a79d1fb887a8",
   "metadata": {},
   "outputs": [],
   "source": [
    "p.load_history(\"README提纲.md\")[-1]"
   ]
  },
  {
   "cell_type": "code",
   "execution_count": null,
   "id": "fb03b205-c9da-4d73-b5b0-797a2f218d68",
   "metadata": {},
   "outputs": [],
   "source": []
  }
 ],
 "metadata": {
  "kernelspec": {
   "display_name": "textlong-same-ipykernel",
   "language": "python",
   "name": "textlong-same-ipykernel"
  },
  "language_info": {
   "codemirror_mode": {
    "name": "ipython",
    "version": 3
   },
   "file_extension": ".py",
   "mimetype": "text/x-python",
   "name": "python",
   "nbconvert_exporter": "python",
   "pygments_lexer": "ipython3",
   "version": "3.10.0"
  }
 },
 "nbformat": 4,
 "nbformat_minor": 5
}
