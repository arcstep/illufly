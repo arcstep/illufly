{
 "cells": [
  {
   "cell_type": "code",
   "execution_count": 2,
   "id": "a0533b6a-c158-4c40-853e-b5901b6ede52",
   "metadata": {},
   "outputs": [],
   "source": [
    "import os\n",
    "from langchain_zhipu import ChatZhipuAI\n",
    "from textlong.project import (\n",
    "    list_projects, init_project, is_project_existing, Project\n",
    ")"
   ]
  },
  {
   "cell_type": "code",
   "execution_count": 3,
   "id": "f6c5c481-96fb-45e5-935e-cba3b6698c0d",
   "metadata": {},
   "outputs": [
    {
     "data": {
      "text/plain": [
       "['A/B', 'Hello', '教程']"
      ]
     },
     "execution_count": 3,
     "metadata": {},
     "output_type": "execute_result"
    }
   ],
   "source": [
    "list_projects()"
   ]
  },
  {
   "cell_type": "code",
   "execution_count": 4,
   "id": "8033ac51-9222-42e0-9882-fdde5a1144df",
   "metadata": {},
   "outputs": [
    {
     "data": {
      "text/plain": [
       "['B']"
      ]
     },
     "execution_count": 4,
     "metadata": {},
     "output_type": "execute_result"
    }
   ],
   "source": [
    "list_projects(\"A\")"
   ]
  },
  {
   "cell_type": "code",
   "execution_count": 5,
   "id": "2698801c-8834-410a-b373-e4919d3a5b62",
   "metadata": {},
   "outputs": [],
   "source": [
    "os.environ['TEXTLONG_ROOT'] = \"A\""
   ]
  },
  {
   "cell_type": "code",
   "execution_count": 12,
   "id": "5c2bd8b3-1afa-482d-b302-5a4b85ba5461",
   "metadata": {},
   "outputs": [
    {
     "data": {
      "text/plain": [
       "['A/B', 'Hello', '教程', 'A/B/C']"
      ]
     },
     "execution_count": 12,
     "metadata": {},
     "output_type": "execute_result"
    }
   ],
   "source": [
    "list_projects()"
   ]
  },
  {
   "cell_type": "code",
   "execution_count": 7,
   "id": "3a95c29f-42d3-4a42-b9f1-57b71f5116cf",
   "metadata": {},
   "outputs": [],
   "source": [
    "os.environ['TEXTLONG_ROOT'] = \"./\""
   ]
  },
  {
   "cell_type": "code",
   "execution_count": 11,
   "id": "e3e7c7bc-efd3-4e49-8247-2c96505bbeb6",
   "metadata": {},
   "outputs": [
    {
     "data": {
      "text/plain": [
       "['A/B', 'Hello', '教程', 'A/B/C']"
      ]
     },
     "execution_count": 11,
     "metadata": {},
     "output_type": "execute_result"
    }
   ],
   "source": [
    "list_projects()"
   ]
  },
  {
   "cell_type": "code",
   "execution_count": 9,
   "id": "c6774f2b-220e-437a-842c-22cbeea889f2",
   "metadata": {},
   "outputs": [
    {
     "data": {
      "text/plain": [
       "True"
      ]
     },
     "execution_count": 9,
     "metadata": {},
     "output_type": "execute_result"
    }
   ],
   "source": [
    "init_project(\"Hello\")"
   ]
  },
  {
   "cell_type": "code",
   "execution_count": 10,
   "id": "49bc23ff-88bb-4e4e-bfa4-91c1140d87e6",
   "metadata": {},
   "outputs": [
    {
     "data": {
      "text/plain": [
       "True"
      ]
     },
     "execution_count": 10,
     "metadata": {},
     "output_type": "execute_result"
    }
   ],
   "source": [
    "init_project(\"A/B/C\")"
   ]
  },
  {
   "cell_type": "code",
   "execution_count": 19,
   "id": "052afa16-44a3-4035-aee2-817bb5909e8f",
   "metadata": {},
   "outputs": [
    {
     "data": {
      "text/plain": [
       "Project<llm: 'zhipuai/glm-4', project_folder: './A/B', output_files: ['python环境变量.md']>"
      ]
     },
     "execution_count": 19,
     "metadata": {},
     "output_type": "execute_result"
    }
   ],
   "source": [
    "from langchain_zhipu import ChatZhipuAI\n",
    "p = Project(ChatZhipuAI(), project_id=\"A/B\", base_folder=\"./\")\n",
    "p"
   ]
  },
  {
   "cell_type": "code",
   "execution_count": 20,
   "id": "4715132f-f187-4c3c-956d-2dece5d1841b",
   "metadata": {},
   "outputs": [
    {
     "name": "stdout",
     "output_type": "stream",
     "text": [
      "\u001b[34m\n",
      ">->>> Prompt ID: IDEAIDEA | python环境变量.md <<<-<\n",
      "\u001b[0m\u001b[32m#\u001b[0m\u001b[32m Python\u001b[0m\u001b[32m环境\u001b[0m\u001b[32m变量\u001b[0m\u001b[32m解析\u001b[0m\u001b[32m\n",
      "\n",
      "环境\u001b[0m\u001b[32m变量\u001b[0m\u001b[32m是\u001b[0m\u001b[32m操作系统\u001b[0m\u001b[32m用来\u001b[0m\u001b[32m确定\u001b[0m\u001b[32m如何\u001b[0m\u001b[32m运行\u001b[0m\u001b[32m程序\u001b[0m\u001b[32m的一\u001b[0m\u001b[32m组\u001b[0m\u001b[32m动态\u001b[0m\u001b[32m值\u001b[0m\u001b[32m。\u001b[0m\u001b[32m在\u001b[0m\u001b[32mPython\u001b[0m\u001b[32m中\u001b[0m\u001b[32m，\u001b[0m\u001b[32m环境\u001b[0m\u001b[32m变量\u001b[0m\u001b[32m可以\u001b[0m\u001b[32m影响\u001b[0m\u001b[32m解释\u001b[0m\u001b[32m器的\u001b[0m\u001b[32m行为\u001b[0m\u001b[32m、\u001b[0m\u001b[32m库\u001b[0m\u001b[32m的\u001b[0m\u001b[32m查找\u001b[0m\u001b[32m路径\u001b[0m\u001b[32m等\u001b[0m\u001b[32m。\n",
      "\n",
      "###\u001b[0m\u001b[32m \u001b[0m\u001b[32m作用\u001b[0m\u001b[32m：\n",
      "1\u001b[0m\u001b[32m.\u001b[0m\u001b[32m **\u001b[0m\u001b[32m路径\u001b[0m\u001b[32m设置\u001b[0m\u001b[32m**\u001b[0m\u001b[32m：\u001b[0m\u001b[32m如\u001b[0m\u001b[32m`\u001b[0m\u001b[32mPATH\u001b[0m\u001b[32m`\u001b[0m\u001b[32m环境\u001b[0m\u001b[32m变量\u001b[0m\u001b[32m，\u001b[0m\u001b[32m包含了\u001b[0m\u001b[32m操作系统\u001b[0m\u001b[32m查找\u001b[0m\u001b[32m可\u001b[0m\u001b[32m执行\u001b[0m\u001b[32m文件的\u001b[0m\u001b[32m目录\u001b[0m\u001b[32m列表\u001b[0m\u001b[32m。\n",
      "2\u001b[0m\u001b[32m.\u001b[0m\u001b[32m **\u001b[0m\u001b[32mPython\u001b[0m\u001b[32m解释\u001b[0m\u001b[32m器\u001b[0m\u001b[32m查找\u001b[0m\u001b[32m**\u001b[0m\u001b[32m：\u001b[0m\u001b[32m通过\u001b[0m\u001b[32m`\u001b[0m\u001b[32mPYTHON\u001b[0m\u001b[32mPATH\u001b[0m\u001b[32m`\u001b[0m\u001b[32m环境\u001b[0m\u001b[32m变量\u001b[0m\u001b[32m，\u001b[0m\u001b[32m可以\u001b[0m\u001b[32m指定\u001b[0m\u001b[32mPython\u001b[0m\u001b[32m解释\u001b[0m\u001b[32m器\u001b[0m\u001b[32m搜索\u001b[0m\u001b[32m模块\u001b[0m\u001b[32m的\u001b[0m\u001b[32m目录\u001b[0m\u001b[32m。\n",
      "3\u001b[0m\u001b[32m.\u001b[0m\u001b[32m **\u001b[0m\u001b[32m配置\u001b[0m\u001b[32m设置\u001b[0m\u001b[32m**\u001b[0m\u001b[32m：\u001b[0m\u001b[32m一些\u001b[0m\u001b[32mPython\u001b[0m\u001b[32m库\u001b[0m\u001b[32m和\u001b[0m\u001b[32m框架\u001b[0m\u001b[32m会\u001b[0m\u001b[32m读取\u001b[0m\u001b[32m特定的\u001b[0m\u001b[32m环境\u001b[0m\u001b[32m变量\u001b[0m\u001b[32m来\u001b[0m\u001b[32m改变\u001b[0m\u001b[32m其\u001b[0m\u001b[32m行为\u001b[0m\u001b[32m。\n",
      "\n",
      "###\u001b[0m\u001b[32m 常\u001b[0m\u001b[32m见的\u001b[0m\u001b[32mPython\u001b[0m\u001b[32m相关\u001b[0m\u001b[32m环境\u001b[0m\u001b[32m变量\u001b[0m\u001b[32m：\n",
      "-\u001b[0m\u001b[32m `\u001b[0m\u001b[32mPATH\u001b[0m\u001b[32m`\u001b[0m\u001b[32m：\u001b[0m\u001b[32m执行\u001b[0m\u001b[32m命令\u001b[0m\u001b[32m时\u001b[0m\u001b[32m搜索\u001b[0m\u001b[32m的\u001b[0m\u001b[32m目录\u001b[0m\u001b[32m列表\u001b[0m\u001b[32m。\n",
      "-\u001b[0m\u001b[32m `\u001b[0m\u001b[32mPYTHON\u001b[0m\u001b[32mPATH\u001b[0m\u001b[32m`\u001b[0m\u001b[32m：\u001b[0m\u001b[32mPython\u001b[0m\u001b[32m解释\u001b[0m\u001b[32m器\u001b[0m\u001b[32m搜索\u001b[0m\u001b[32m模块\u001b[0m\u001b[32m的\u001b[0m\u001b[32m目录\u001b[0m\u001b[32m列表\u001b[0m\u001b[32m。\n",
      "-\u001b[0m\u001b[32m `\u001b[0m\u001b[32mPYTHON\u001b[0m\u001b[32mHOME\u001b[0m\u001b[32m`\u001b[0m\u001b[32m：\u001b[0m\u001b[32m指向\u001b[0m\u001b[32mPython\u001b[0m\u001b[32m安装\u001b[0m\u001b[32m目录\u001b[0m\u001b[32m的\u001b[0m\u001b[32m路径\u001b[0m\u001b[32m，\u001b[0m\u001b[32m用于\u001b[0m\u001b[32m某些\u001b[0m\u001b[32mUnix\u001b[0m\u001b[32m系统\u001b[0m\u001b[32m。\n",
      "-\u001b[0m\u001b[32m `\u001b[0m\u001b[32mPYTHON\u001b[0m\u001b[32mSTART\u001b[0m\u001b[32mUP\u001b[0m\u001b[32m`\u001b[0m\u001b[32m：\u001b[0m\u001b[32m指定\u001b[0m\u001b[32m一个\u001b[0m\u001b[32m启动\u001b[0m\u001b[32m文件\u001b[0m\u001b[32m，\u001b[0m\u001b[32m每次\u001b[0m\u001b[32m启动\u001b[0m\u001b[32m解释\u001b[0m\u001b[32m器\u001b[0m\u001b[32m时\u001b[0m\u001b[32m都会\u001b[0m\u001b[32m运行\u001b[0m\u001b[32m该\u001b[0m\u001b[32m文件\u001b[0m\u001b[32m。\n",
      "-\u001b[0m\u001b[32m `\u001b[0m\u001b[32mPYTHON\u001b[0m\u001b[32mCASE\u001b[0m\u001b[32mOK\u001b[0m\u001b[32m`\u001b[0m\u001b[32m：\u001b[0m\u001b[32m在\u001b[0m\u001b[32mUnix\u001b[0m\u001b[32m系统中\u001b[0m\u001b[32m，\u001b[0m\u001b[32m忽略\u001b[0m\u001b[32m大小\u001b[0m\u001b[32m写\u001b[0m\u001b[32m。\n",
      "-\u001b[0m\u001b[32m `\u001b[0m\u001b[32mPYTHON\u001b[0m\u001b[32mIO\u001b[0m\u001b[32mENC\u001b[0m\u001b[32mOD\u001b[0m\u001b[32mING\u001b[0m\u001b[32m`\u001b[0m\u001b[32m：\u001b[0m\u001b[32m指定\u001b[0m\u001b[32mPython\u001b[0m\u001b[32m的标准\u001b[0m\u001b[32m输入\u001b[0m\u001b[32m输出\u001b[0m\u001b[32m错误\u001b[0m\u001b[32m编码\u001b[0m\u001b[32m。\n",
      "\n",
      "###\u001b[0m\u001b[32m 如何\u001b[0m\u001b[32m在\u001b[0m\u001b[32mPython\u001b[0m\u001b[32m中\u001b[0m\u001b[32m操作\u001b[0m\u001b[32m环境\u001b[0m\u001b[32m变量\u001b[0m\u001b[32m：\n",
      "-\u001b[0m\u001b[32m **\u001b[0m\u001b[32m读取\u001b[0m\u001b[32m环境\u001b[0m\u001b[32m变量\u001b[0m\u001b[32m**\u001b[0m\u001b[32m：\u001b[0m\u001b[32m使用\u001b[0m\u001b[32m`\u001b[0m\u001b[32mos\u001b[0m\u001b[32m.environ\u001b[0m\u001b[32m`\u001b[0m\u001b[32m字典\u001b[0m\u001b[32m。\n",
      " \u001b[0m\u001b[32m ```\u001b[0m\u001b[32mpython\u001b[0m\u001b[32m\n",
      " \u001b[0m\u001b[32m import\u001b[0m\u001b[32m os\u001b[0m\u001b[32m\n",
      " \u001b[0m\u001b[32m print\u001b[0m\u001b[32m(os\u001b[0m\u001b[32m.environ\u001b[0m\u001b[32m.get\u001b[0m\u001b[32m(\"\u001b[0m\u001b[32mPATH\u001b[0m\u001b[32m\"))\n",
      " \u001b[0m\u001b[32m ```\n",
      "-\u001b[0m\u001b[32m **\u001b[0m\u001b[32m设置\u001b[0m\u001b[32m环境\u001b[0m\u001b[32m变量\u001b[0m\u001b[32m**\u001b[0m\u001b[32m：\u001b[0m\u001b[32m同样\u001b[0m\u001b[32m使用\u001b[0m\u001b[32m`\u001b[0m\u001b[32mos\u001b[0m\u001b[32m.environ\u001b[0m\u001b[32m`\u001b[0m\u001b[32m。\n",
      " \u001b[0m\u001b[32m ```\u001b[0m\u001b[32mpython\u001b[0m\u001b[32m\n",
      " \u001b[0m\u001b[32m os\u001b[0m\u001b[32m.environ\u001b[0m\u001b[32m[\"\u001b[0m\u001b[32mNEW\u001b[0m\u001b[32m_ENV\u001b[0m\u001b[32m_VAR\u001b[0m\u001b[32m\"]\u001b[0m\u001b[32m =\u001b[0m\u001b[32m \"\u001b[0m\u001b[32mvalue\u001b[0m\u001b[32m\"\n",
      " \u001b[0m\u001b[32m ```\n",
      "-\u001b[0m\u001b[32m **\u001b[0m\u001b[32m删除\u001b[0m\u001b[32m环境\u001b[0m\u001b[32m变量\u001b[0m\u001b[32m**\u001b[0m\u001b[32m：\u001b[0m\u001b[32m从\u001b[0m\u001b[32m`\u001b[0m\u001b[32mos\u001b[0m\u001b[32m.environ\u001b[0m\u001b[32m`\u001b[0m\u001b[32m中\u001b[0m\u001b[32m删除\u001b[0m\u001b[32m键\u001b[0m\u001b[32m值\u001b[0m\u001b[32m对\u001b[0m\u001b[32m。\n",
      " \u001b[0m\u001b[32m ```\u001b[0m\u001b[32mpython\u001b[0m\u001b[32m\n",
      " \u001b[0m\u001b[32m del\u001b[0m\u001b[32m os\u001b[0m\u001b[32m.environ\u001b[0m\u001b[32m[\"\u001b[0m\u001b[32mNEW\u001b[0m\u001b[32m_ENV\u001b[0m\u001b[32m_VAR\u001b[0m\u001b[32m\"]\n",
      " \u001b[0m\u001b[32m ``\u001b[0m\u001b[32m`\n",
      "\n",
      "正确\u001b[0m\u001b[32m使用\u001b[0m\u001b[32m环境\u001b[0m\u001b[32m变量\u001b[0m\u001b[32m可以帮助\u001b[0m\u001b[32m我们\u001b[0m\u001b[32m更好地\u001b[0m\u001b[32m控制\u001b[0m\u001b[32m程序的\u001b[0m\u001b[32m运行\u001b[0m\u001b[32m环境\u001b[0m\u001b[32m，\u001b[0m\u001b[32m提高\u001b[0m\u001b[32m开发\u001b[0m\u001b[32m效率\u001b[0m\u001b[32m。\u001b[0m\u001b[32m\u001b[0m\u001b[31m\n",
      "\n",
      "已保存 ./A/B/python环境变量.md, 共计 795 字。\n",
      "\u001b[0m"
     ]
    }
   ],
   "source": [
    "p.idea(output_file=\"python环境变量.md\", task=\"python的环境变量是怎么回事\")"
   ]
  },
  {
   "cell_type": "code",
   "execution_count": null,
   "id": "5c2a0454-2c1f-4cfe-a91b-abd95d5997ce",
   "metadata": {},
   "outputs": [],
   "source": []
  }
 ],
 "metadata": {
  "kernelspec": {
   "display_name": "textlong-same-ipykernel",
   "language": "python",
   "name": "textlong-same-ipykernel"
  },
  "language_info": {
   "codemirror_mode": {
    "name": "ipython",
    "version": 3
   },
   "file_extension": ".py",
   "mimetype": "text/x-python",
   "name": "python",
   "nbconvert_exporter": "python",
   "pygments_lexer": "ipython3",
   "version": "3.10.0"
  }
 },
 "nbformat": 4,
 "nbformat_minor": 5
}
