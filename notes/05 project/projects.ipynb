{
 "cells": [
  {
   "cell_type": "code",
   "execution_count": 1,
   "id": "a0533b6a-c158-4c40-853e-b5901b6ede52",
   "metadata": {},
   "outputs": [],
   "source": [
    "import os\n",
    "from langchain_zhipu import ChatZhipuAI\n",
    "from textlong.project import (\n",
    "    list_projects, init_project, is_project_existing, BaseProject, WritingProject\n",
    ")"
   ]
  },
  {
   "cell_type": "code",
   "execution_count": 2,
   "id": "f6c5c481-96fb-45e5-935e-cba3b6698c0d",
   "metadata": {},
   "outputs": [
    {
     "data": {
      "text/plain": [
       "['A/B', 'Hello', '教程', 'A/B/C']"
      ]
     },
     "execution_count": 2,
     "metadata": {},
     "output_type": "execute_result"
    }
   ],
   "source": [
    "list_projects()"
   ]
  },
  {
   "cell_type": "code",
   "execution_count": 4,
   "id": "8033ac51-9222-42e0-9882-fdde5a1144df",
   "metadata": {},
   "outputs": [
    {
     "data": {
      "text/plain": [
       "['B']"
      ]
     },
     "execution_count": 4,
     "metadata": {},
     "output_type": "execute_result"
    }
   ],
   "source": [
    "list_projects(\"A\")"
   ]
  },
  {
   "cell_type": "code",
   "execution_count": 5,
   "id": "2698801c-8834-410a-b373-e4919d3a5b62",
   "metadata": {},
   "outputs": [],
   "source": [
    "os.environ['TEXTLONG_ROOT'] = \"A\""
   ]
  },
  {
   "cell_type": "code",
   "execution_count": 6,
   "id": "5c2bd8b3-1afa-482d-b302-5a4b85ba5461",
   "metadata": {},
   "outputs": [
    {
     "data": {
      "text/plain": [
       "['B']"
      ]
     },
     "execution_count": 6,
     "metadata": {},
     "output_type": "execute_result"
    }
   ],
   "source": [
    "list_projects()"
   ]
  },
  {
   "cell_type": "code",
   "execution_count": 7,
   "id": "3a95c29f-42d3-4a42-b9f1-57b71f5116cf",
   "metadata": {},
   "outputs": [],
   "source": [
    "os.environ['TEXTLONG_ROOT'] = \"./\""
   ]
  },
  {
   "cell_type": "code",
   "execution_count": 8,
   "id": "e3e7c7bc-efd3-4e49-8247-2c96505bbeb6",
   "metadata": {},
   "outputs": [
    {
     "data": {
      "text/plain": [
       "['A/B', 'Hello', '教程', 'A/B/C']"
      ]
     },
     "execution_count": 8,
     "metadata": {},
     "output_type": "execute_result"
    }
   ],
   "source": [
    "list_projects()"
   ]
  },
  {
   "cell_type": "code",
   "execution_count": 9,
   "id": "c6774f2b-220e-437a-842c-22cbeea889f2",
   "metadata": {},
   "outputs": [
    {
     "data": {
      "text/plain": [
       "True"
      ]
     },
     "execution_count": 9,
     "metadata": {},
     "output_type": "execute_result"
    }
   ],
   "source": [
    "init_project(\"Hello\")"
   ]
  },
  {
   "cell_type": "code",
   "execution_count": 10,
   "id": "49bc23ff-88bb-4e4e-bfa4-91c1140d87e6",
   "metadata": {},
   "outputs": [
    {
     "data": {
      "text/plain": [
       "True"
      ]
     },
     "execution_count": 10,
     "metadata": {},
     "output_type": "execute_result"
    }
   ],
   "source": [
    "init_project(\"A/B/C\")"
   ]
  },
  {
   "cell_type": "code",
   "execution_count": 3,
   "id": "052afa16-44a3-4035-aee2-817bb5909e8f",
   "metadata": {},
   "outputs": [
    {
     "data": {
      "text/plain": [
       "Project<llm: 'zhipuai/glm-4-flash', project_folder: './A/B', output_files: ['python环境变量.md']>"
      ]
     },
     "execution_count": 3,
     "metadata": {},
     "output_type": "execute_result"
    }
   ],
   "source": [
    "from langchain_zhipu import ChatZhipuAI\n",
    "p = WritingProject(ChatZhipuAI(model=\"glm-4-flash\"), project_id=\"A/B\", base_folder=\"./\")\n",
    "p"
   ]
  },
  {
   "cell_type": "code",
   "execution_count": 4,
   "id": "4715132f-f187-4c3c-956d-2dece5d1841b",
   "metadata": {},
   "outputs": [
    {
     "name": "stdout",
     "output_type": "stream",
     "text": [
      "\u001b[34m\n",
      ">->>> Prompt ID: IDEA | python环境变量.md <<<-<\n",
      "\u001b[0m\u001b[32mPython\u001b[0m\u001b[32m的环境\u001b[0m\u001b[32m变量\u001b[0m\u001b[32m是\u001b[0m\u001b[32m用于\u001b[0m\u001b[32m在\u001b[0m\u001b[32m操作系统\u001b[0m\u001b[32m级别\u001b[0m\u001b[32m设置\u001b[0m\u001b[32m和\u001b[0m\u001b[32m访问\u001b[0m\u001b[32m配置\u001b[0m\u001b[32m信息的\u001b[0m\u001b[32m变量\u001b[0m\u001b[32m。\u001b[0m\u001b[32m这些\u001b[0m\u001b[32m变量\u001b[0m\u001b[32m可以在\u001b[0m\u001b[32mPython\u001b[0m\u001b[32m脚本\u001b[0m\u001b[32m中\u001b[0m\u001b[32m直接\u001b[0m\u001b[32m访问\u001b[0m\u001b[32m，\u001b[0m\u001b[32m并在\u001b[0m\u001b[32m脚本\u001b[0m\u001b[32m执行\u001b[0m\u001b[32m时\u001b[0m\u001b[32m影响\u001b[0m\u001b[32m其\u001b[0m\u001b[32m行为\u001b[0m\u001b[32m。\n",
      "\n",
      "```\u001b[0m\u001b[32mpython\u001b[0m\u001b[32m\n",
      "import\u001b[0m\u001b[32m os\u001b[0m\u001b[32m\n",
      "\n",
      "#\u001b[0m\u001b[32m 获取\u001b[0m\u001b[32m环境\u001b[0m\u001b[32m变量\u001b[0m\u001b[32m\n",
      "path\u001b[0m\u001b[32m =\u001b[0m\u001b[32m os\u001b[0m\u001b[32m.getenv\u001b[0m\u001b[32m('\u001b[0m\u001b[32mPATH\u001b[0m\u001b[32m')\n",
      "python\u001b[0m\u001b[32m_home\u001b[0m\u001b[32m =\u001b[0m\u001b[32m os\u001b[0m\u001b[32m.getenv\u001b[0m\u001b[32m('\u001b[0m\u001b[32mPYTHON\u001b[0m\u001b[32mHOME\u001b[0m\u001b[32m')\n",
      "python\u001b[0m\u001b[32m_version\u001b[0m\u001b[32m =\u001b[0m\u001b[32m os\u001b[0m\u001b[32m.getenv\u001b[0m\u001b[32m('\u001b[0m\u001b[32mPYTHON\u001b[0m\u001b[32m_VERSION\u001b[0m\u001b[32m')\n",
      "\n",
      "#\u001b[0m\u001b[32m 输\u001b[0m\u001b[32m出\u001b[0m\u001b[32m环境\u001b[0m\u001b[32m变量\u001b[0m\u001b[32m\n",
      "path\u001b[0m\u001b[32m\n",
      "python\u001b[0m\u001b[32m_home\u001b[0m\u001b[32m\n",
      "python\u001b[0m\u001b[32m_version\u001b[0m\u001b[32m\n",
      "```\u001b[0m\u001b[32m\u001b[0m\u001b[31m\n",
      "\n",
      "已保存 ./A/B/python环境变量.md, 共计 169 字。\n",
      "\u001b[0m"
     ]
    }
   ],
   "source": [
    "p.chat(output_file=\"python环境变量.md\", task=\"python的环境变量是怎么回事\")"
   ]
  },
  {
   "cell_type": "code",
   "execution_count": null,
   "id": "5c2a0454-2c1f-4cfe-a91b-abd95d5997ce",
   "metadata": {},
   "outputs": [],
   "source": []
  }
 ],
 "metadata": {
  "kernelspec": {
   "display_name": "textlong-same-ipykernel",
   "language": "python",
   "name": "textlong-same-ipykernel"
  },
  "language_info": {
   "codemirror_mode": {
    "name": "ipython",
    "version": 3
   },
   "file_extension": ".py",
   "mimetype": "text/x-python",
   "name": "python",
   "nbconvert_exporter": "python",
   "pygments_lexer": "ipython3",
   "version": "3.10.0"
  }
 },
 "nbformat": 4,
 "nbformat_minor": 5
}
