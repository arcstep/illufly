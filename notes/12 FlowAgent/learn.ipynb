{
 "cells": [
  {
   "cell_type": "markdown",
   "id": "ca7a9963-482b-49ec-a2d8-38f66b86989a",
   "metadata": {},
   "source": [
    "## 经验学习\n",
    "\n",
    "自我进化是 illufly 智能体框架的核心目标。\n",
    "\n",
    "### 在对话中学习"
   ]
  },
  {
   "cell_type": "code",
   "execution_count": 2,
   "id": "a48d7ee5-8aca-44b5-b6c6-2a78e81fc1ac",
   "metadata": {},
   "outputs": [],
   "source": [
    "from illufly.embeddings import TextEmbeddings\n",
    "from illufly.rag import FaissDB\n",
    "from illufly.chat import ChatQwen, Learn, FlowAgent\n",
    "\n",
    "db = FaissDB(embeddings=TextEmbeddings(), top_k=3)\n",
    "l = Learn(ChatQwen(knowledge=[db]), name=\"hm\")"
   ]
  },
  {
   "cell_type": "code",
   "execution_count": 3,
   "id": "00c36019-e1ce-495b-8bae-75b1f82863f0",
   "metadata": {},
   "outputs": [
    {
     "name": "stdout",
     "output_type": "stream",
     "text": [
      "[AGENT] \u001b[34m>>> Node 1: Scribe\u001b[0m\n",
      "\u001b[32m好的\u001b[0m\u001b[32m，\u001b[0m\u001b[32m我已经\u001b[0m\u001b[32m准备好\u001b[0m\u001b[32m记录了，请告诉我\u001b[0m\u001b[32m您的项目详情。\u001b[0m\u001b[32m\u001b[0m\n"
     ]
    },
    {
     "data": {
      "text/plain": [
       "'好的，我已经准备好记录了，请告诉我您的项目详情。'"
      ]
     },
     "execution_count": 3,
     "metadata": {},
     "output_type": "execute_result"
    }
   ],
   "source": [
    "l(\"我现在想告诉你我的项目正在做什么，你做好笔记\")"
   ]
  },
  {
   "cell_type": "code",
   "execution_count": 4,
   "id": "ad504233-4402-43b5-b0b0-229899101bd7",
   "metadata": {},
   "outputs": [
    {
     "name": "stdout",
     "output_type": "stream",
     "text": [
      "[AGENT] \u001b[34m>>> Node 1: Scribe\u001b[0m\n",
      "\u001b[32m了解\u001b[0m\u001b[32m了\u001b[0m\u001b[32m，\u001b[0m\u001b[32m您\u001b[0m\u001b[32m正在开发的 ill\u001b[0m\u001b[32mulfy Agent \u001b[0m\u001b[32m框架强调\u001b[0m\u001b[32m了简单易用\u001b[0m\u001b[32m性和自我进化能力\u001b[0m\u001b[32m。这听起来是一个\u001b[0m\u001b[32m很有前景的项目\u001b[0m\u001b[32m。能具体说\u001b[0m\u001b[32m说这个框架的\u001b[0m\u001b[32m自我进化能力是如何\u001b[0m\u001b[32m实现的吗？\u001b[0m\u001b[32m比如它是如何学习\u001b[0m\u001b[32m和适应新环境\u001b[0m\u001b[32m的？\u001b[0m\u001b[32m\u001b[0m\n"
     ]
    },
    {
     "data": {
      "text/plain": [
       "'了解了，您正在开发的 illulfy Agent 框架强调了简单易用性和自我进化能力。这听起来是一个很有前景的项目。能具体说说这个框架的自我进化能力是如何实现的吗？比如它是如何学习和适应新环境的？'"
      ]
     },
     "execution_count": 4,
     "metadata": {},
     "output_type": "execute_result"
    }
   ],
   "source": [
    "l(\"我在开发一个 illulfy 的Agent框架，特点是简单易用，并具有自我进化能力\")"
   ]
  },
  {
   "cell_type": "code",
   "execution_count": 9,
   "id": "f259a210-735f-4cb6-90e3-a0483ac3d4e9",
   "metadata": {},
   "outputs": [
    {
     "name": "stdout",
     "output_type": "stream",
     "text": [
      "[AGENT] \u001b[34m>>> Node 1: Scribe\u001b[0m\n",
      "\u001b[32m明白了，\u001b[0m\u001b[32m我会\u001b[0m\u001b[32m根据\u001b[0m\u001b[32m我们之前的对话内容\u001b[0m\u001b[32m提炼出关于 ill\u001b[0m\u001b[32mulfy Agent \u001b[0m\u001b[32m框架的关键\u001b[0m\u001b[32m信息。\n",
      "\n",
      "**思考\u001b[0m\u001b[32m**\n",
      "- 对话\u001b[0m\u001b[32m过程中提到了 ill\u001b[0m\u001b[32mulfy Agent \u001b[0m\u001b[32m框架的特点\u001b[0m\u001b[32m是简单易用\u001b[0m\u001b[32m和具有自我进化\u001b[0m\u001b[32m能力。\n",
      "- \u001b[0m\u001b[32m没有提供\u001b[0m\u001b[32m具体的实现细节，\u001b[0m\u001b[32m但这些信息可以\u001b[0m\u001b[32m作为初步的知识点\u001b[0m\u001b[32m。\n",
      "- \u001b[0m\u001b[32m没有出现由\u001b[0m\u001b[32m `@knowledge`\u001b[0m\u001b[32m 开头的段\u001b[0m\u001b[32m落，因此没有\u001b[0m\u001b[32m明确的已有知识\u001b[0m\u001b[32m。\n",
      "\n",
      "**决定**\n",
      "\u001b[0m\u001b[32m- 虽\u001b[0m\u001b[32m然信息有限，\u001b[0m\u001b[32m但可以提炼出\u001b[0m\u001b[32m一个初步的知识条\u001b[0m\u001b[32m目。\n",
      "\n",
      "**结论\u001b[0m\u001b[32m**\n",
      "\n",
      "<question>\n",
      "\u001b[0m\u001b[32millulfy Agent\u001b[0m\u001b[32m 框架\u001b[0m\u001b[32m的主要特点是什么？\n",
      "\u001b[0m\u001b[32m</question>\n",
      "\n",
      "\u001b[0m\u001b[32m<knowledge>\n",
      "illulf\u001b[0m\u001b[32my Agent \u001b[0m\u001b[32m框架是一个简单\u001b[0m\u001b[32m易用且具有\u001b[0m\u001b[32m自我进化能力的\u001b[0m\u001b[32m代理框架。其\u001b[0m\u001b[32m主要特点包括：\n",
      "\u001b[0m\u001b[32m- **简单易\u001b[0m\u001b[32m用**：框架\u001b[0m\u001b[32m设计注重用户体验，\u001b[0m\u001b[32m便于开发者快速上\u001b[0m\u001b[32m手和使用。\n",
      "\u001b[0m\u001b[32m- **自我进化\u001b[0m\u001b[32m能力**：框架\u001b[0m\u001b[32m能够通过学习和\u001b[0m\u001b[32m适应新环境不断\u001b[0m\u001b[32m优化自身性能。\n",
      "\u001b[0m\u001b[32m</knowledge>\u001b[0m\u001b[32m\u001b[0m\n",
      "[AGENT] \u001b[34m>>> Node 3: Fetch_FAQ\u001b[0m\n",
      "[FAQ] \u001b[34m保存知识到[859523-1929-0000]：illulfy Agent 框架的主要特点是什么？ -> illulfy Agent 框架是一个简单易用且具有自我进化能力的代理框架。其主要特点包括：<br>- **简单易用**：框架设计注重用户体验，便于开发者快速上手和使用。<br>- **自我进化能力**：框架能够...\u001b[0m\n"
     ]
    },
    {
     "data": {
      "text/plain": [
       "'明白了，我会根据我们之前的对话内容提炼出关于 illulfy Agent 框架的关键信息。\\n\\n**思考**\\n- 对话过程中提到了 illulfy Agent 框架的特点是简单易用和具有自我进化能力。\\n- 没有提供具体的实现细节，但这些信息可以作为初步的知识点。\\n- 没有出现由 `@knowledge` 开头的段落，因此没有明确的已有知识。\\n\\n**决定**\\n- 虽然信息有限，但可以提炼出一个初步的知识条目。\\n\\n**结论**\\n\\n<question>\\nillulfy Agent 框架的主要特点是什么？\\n</question>\\n\\n<knowledge>\\nillulfy Agent 框架是一个简单易用且具有自我进化能力的代理框架。其主要特点包括：\\n- **简单易用**：框架设计注重用户体验，便于开发者快速上手和使用。\\n- **自我进化能力**：框架能够通过学习和适应新环境不断优化自身性能。\\n</knowledge>'"
      ]
     },
     "execution_count": 9,
     "metadata": {},
     "output_type": "execute_result"
    }
   ],
   "source": [
    "l(\"我觉得你可以提炼关于 illufly 的信息\")"
   ]
  },
  {
   "cell_type": "markdown",
   "id": "c4d6907a-6421-4f04-9fed-75a21914a336",
   "metadata": {},
   "source": [
    "### 更新知识"
   ]
  },
  {
   "cell_type": "code",
   "execution_count": 10,
   "id": "96306859-8fe7-4e06-afbb-8c544cb6b4aa",
   "metadata": {},
   "outputs": [
    {
     "name": "stdout",
     "output_type": "stream",
     "text": [
      "[AGENT] \u001b[34m>>> Node 1: Scribe\u001b[0m\n",
      "\u001b[32m目前\u001b[0m\u001b[32m关于\u001b[0m\u001b[32m ill\u001b[0m\u001b[32muf\u001b[0m\u001b[32mly 框\u001b[0m\u001b[32m架是否支持 Open\u001b[0m\u001b[32mAI 的信息，在\u001b[0m\u001b[32m已有的知识中\u001b[0m\u001b[32m没有提及。根据\u001b[0m\u001b[32m之前了解到的 ill\u001b[0m\u001b[32mufly Agent \u001b[0m\u001b[32m框架的特点\u001b[0m\u001b[32m，它强调了\u001b[0m\u001b[32m简单易用和\u001b[0m\u001b[32m自我进化能力，\u001b[0m\u001b[32m但没有直接说明\u001b[0m\u001b[32m是否集成了对\u001b[0m\u001b[32m OpenAI 的支持\u001b[0m\u001b[32m。如果您需要了解\u001b[0m\u001b[32m这一具体功能，\u001b[0m\u001b[32m建议查阅最新的官方\u001b[0m\u001b[32m文档或资源以\u001b[0m\u001b[32m获取最准确的信息\u001b[0m\u001b[32m。\u001b[0m\u001b[32m\u001b[0m\n"
     ]
    },
    {
     "data": {
      "text/plain": [
       "'目前关于 illufly 框架是否支持 OpenAI 的信息，在已有的知识中没有提及。根据之前了解到的 illufly Agent 框架的特点，它强调了简单易用和自我进化能力，但没有直接说明是否集成了对 OpenAI 的支持。如果您需要了解这一具体功能，建议查阅最新的官方文档或资源以获取最准确的信息。'"
      ]
     },
     "execution_count": 10,
     "metadata": {},
     "output_type": "execute_result"
    }
   ],
   "source": [
    "l(\"illufly框架支持OpenAI?\")"
   ]
  },
  {
   "cell_type": "code",
   "execution_count": 11,
   "id": "da5f44d8-1c8c-4065-8e2e-1795f30f7712",
   "metadata": {},
   "outputs": [
    {
     "name": "stdout",
     "output_type": "stream",
     "text": [
      "[AGENT] \u001b[34m>>> Node 1: Scribe\u001b[0m\n",
      "\u001b[32m**\u001b[0m\u001b[32m思考\u001b[0m\u001b[32m**\n",
      "\u001b[0m\u001b[32m-\u001b[0m\u001b[32m 对话过程中提到\u001b[0m\u001b[32m的新信息是“\u001b[0m\u001b[32millufly框架\u001b[0m\u001b[32m支持OpenAI，\u001b[0m\u001b[32m以及兼容OpenAI\u001b[0m\u001b[32m接口的其他模型\u001b[0m\u001b[32m”。\n",
      "- \u001b[0m\u001b[32m这个新信息\u001b[0m\u001b[32m与已有的知识\u001b[0m\u001b[32m不存在冲突。\n",
      "-\u001b[0m\u001b[32m 这个新\u001b[0m\u001b[32m信息是对已知\u001b[0m\u001b[32m信息的补充，\u001b[0m\u001b[32m因为之前并没有提到\u001b[0m\u001b[32millufly框架\u001b[0m\u001b[32m是否支持OpenAI\u001b[0m\u001b[32m及其兼容模型。\n",
      "\u001b[0m\u001b[32m- 新信息相对\u001b[0m\u001b[32m完整，提供了一个\u001b[0m\u001b[32m新的知识点。\n",
      "\n",
      "**\u001b[0m\u001b[32m决定**\n",
      "- 返回\u001b[0m\u001b[32m`question`和\u001b[0m\u001b[32m`knowledge`。\n",
      "\n",
      "\u001b[0m\u001b[32m**结论**\n",
      "\n",
      "\u001b[0m\u001b[32m<question>\n",
      "illuf\u001b[0m\u001b[32mly框架是否支持\u001b[0m\u001b[32mOpenAI及兼容\u001b[0m\u001b[32m模型？\n",
      "</question\u001b[0m\u001b[32m>\n",
      "\n",
      "<knowledge>\n",
      "\u001b[0m\u001b[32millufly框架\u001b[0m\u001b[32m支持OpenAI及其\u001b[0m\u001b[32m兼容接口的其他\u001b[0m\u001b[32m模型。\n",
      "</knowledge\u001b[0m\u001b[32m>\u001b[0m\u001b[32m\u001b[0m\n",
      "[AGENT] \u001b[34m>>> Node 3: Fetch_FAQ\u001b[0m\n",
      "[FAQ] \u001b[34m保存知识到[859648-1976-0001]：illufly框架是否支持OpenAI及兼容模型？ -> illufly框架支持OpenAI及其兼容接口的其他模型。\u001b[0m\n"
     ]
    },
    {
     "data": {
      "text/plain": [
       "'**思考**\\n- 对话过程中提到的新信息是“illufly框架支持OpenAI，以及兼容OpenAI接口的其他模型”。\\n- 这个新信息与已有的知识不存在冲突。\\n- 这个新信息是对已知信息的补充，因为之前并没有提到illufly框架是否支持OpenAI及其兼容模型。\\n- 新信息相对完整，提供了一个新的知识点。\\n\\n**决定**\\n- 返回`question`和`knowledge`。\\n\\n**结论**\\n\\n<question>\\nillufly框架是否支持OpenAI及兼容模型？\\n</question>\\n\\n<knowledge>\\nillufly框架支持OpenAI及其兼容接口的其他模型。\\n</knowledge>'"
      ]
     },
     "execution_count": 11,
     "metadata": {},
     "output_type": "execute_result"
    }
   ],
   "source": [
    "l(\"illufly框架支持OpenAI，以及兼容OpenAI接口的其他模型\")"
   ]
  },
  {
   "cell_type": "code",
   "execution_count": 13,
   "id": "07c712c7-7f8d-41f8-a11c-adcc3c22b81d",
   "metadata": {},
   "outputs": [
    {
     "name": "stdout",
     "output_type": "stream",
     "text": [
      "[AGENT] \u001b[34m>>> Node 1: Scribe\u001b[0m\n",
      "\u001b[32m根据您\u001b[0m\u001b[32m提供的\u001b[0m\u001b[32m已有\u001b[0m\u001b[32m知识，目前有\u001b[0m\u001b[32m以下内容：\n",
      "\n",
      "-\u001b[0m\u001b[32m **illulfy\u001b[0m\u001b[32m Agent 框\u001b[0m\u001b[32m架的主要特点**\u001b[0m\u001b[32m：\n",
      "  - \u001b[0m\u001b[32m简单易\u001b[0m\u001b[32m用：框架设计\u001b[0m\u001b[32m注重用户体验，便于\u001b[0m\u001b[32m开发者快速上手\u001b[0m\u001b[32m和使用。\n",
      " \u001b[0m\u001b[32m - 自我进化\u001b[0m\u001b[32m能力：框架能够\u001b[0m\u001b[32m通过学习和适应\u001b[0m\u001b[32m新环境不断优化\u001b[0m\u001b[32m自身性能。\n",
      "-\u001b[0m\u001b[32m **illufly\u001b[0m\u001b[32m框架是否支持Open\u001b[0m\u001b[32mAI及兼容模型\u001b[0m\u001b[32m**：\n",
      "  -\u001b[0m\u001b[32m illufly框架\u001b[0m\u001b[32m支持OpenAI及其\u001b[0m\u001b[32m兼容接口的其他\u001b[0m\u001b[32m模型。\u001b[0m\u001b[32m\u001b[0m\n"
     ]
    },
    {
     "data": {
      "text/plain": [
       "'根据您提供的已有知识，目前有以下内容：\\n\\n- **illulfy Agent 框架的主要特点**：\\n  - 简单易用：框架设计注重用户体验，便于开发者快速上手和使用。\\n  - 自我进化能力：框架能够通过学习和适应新环境不断优化自身性能。\\n- **illufly框架是否支持OpenAI及兼容模型**：\\n  - illufly框架支持OpenAI及其兼容接口的其他模型。'"
      ]
     },
     "execution_count": 13,
     "metadata": {},
     "output_type": "execute_result"
    }
   ],
   "source": [
    "l(\"现在有哪些已有知识?\")"
   ]
  },
  {
   "cell_type": "markdown",
   "id": "05c54e19-d3df-4027-9efc-d4edbf5cd92f",
   "metadata": {},
   "source": [
    "### 基于经验问答"
   ]
  },
  {
   "cell_type": "code",
   "execution_count": 12,
   "id": "0c41318b-d4b1-4e65-9266-502f1a5e3c9f",
   "metadata": {},
   "outputs": [
    {
     "name": "stdout",
     "output_type": "stream",
     "text": [
      "[INFO] \u001b[34m记住 10 轮对话\u001b[0m\n",
      "[RAG] \u001b[34m__XP__/FAQ/859523-1929-0000.md：发现 1 条资料\u001b[0m\n",
      "[RAG] \u001b[34m__XP__/FAQ/859648-1976-0001.md：发现 1 条资料\u001b[0m\n",
      "\u001b[32mill\u001b[0m\u001b[32muf\u001b[0m\u001b[32mly\u001b[0m\u001b[32m框架\u001b[0m\u001b[32m的特点主要包括：\n",
      "\n",
      "-\u001b[0m\u001b[32m **简单易用\u001b[0m\u001b[32m**：框架的设计\u001b[0m\u001b[32m考虑了用户体验，\u001b[0m\u001b[32m使得开发者可以快速\u001b[0m\u001b[32m上手并开始\u001b[0m\u001b[32m使用。\n",
      "- **\u001b[0m\u001b[32m自我进化能力**\u001b[0m\u001b[32m：illufly\u001b[0m\u001b[32m框架具备通过学习\u001b[0m\u001b[32m和适应新环境\u001b[0m\u001b[32m来不断优化自身\u001b[0m\u001b[32m性能的能力。\n",
      "-\u001b[0m\u001b[32m **支持OpenAI\u001b[0m\u001b[32m及兼容模型**\u001b[0m\u001b[32m：该框架不仅\u001b[0m\u001b[32m支持OpenAI提供的\u001b[0m\u001b[32m模型，还兼容\u001b[0m\u001b[32m其他实现OpenAI\u001b[0m\u001b[32m接口的模型。\u001b[0m\u001b[32m\u001b[0m\n",
      "[USAGE] \u001b[34m{\"input_tokens\": 169, \"output_tokens\": 84, \"total_tokens\": 253}\u001b[0m\n"
     ]
    },
    {
     "data": {
      "text/plain": [
       "[{'role': 'user',\n",
       "  'content': '回答时请参考已有知识：\\n@knowledge\\n**Question**\\nillulfy Agent 框架的主要特点是什么？\\n\\n**Knowledge**\\nillulfy Agent 框架是一个简单易用且具有自我进化能力的代理框架。其主要特点包括：\\n- **简单易用**：框架设计注重用户体验，便于开发者快速上手和使用。\\n- **自我进化能力**：框架能够通过学习和适应新环境不断优化自身性能。\\n\\n**Question**\\nillufly框架是否支持OpenAI及兼容模型？\\n\\n**Knowledge**\\nillufly框架支持OpenAI及其兼容接口的其他模型。\\n'},\n",
       " {'role': 'assistant', 'content': 'ok'},\n",
       " {'role': 'user', 'content': 'illufly框架有什么特点？基于资料回答，不要瞎编'},\n",
       " {'role': 'assistant',\n",
       "  'content': 'illufly框架的特点主要包括：\\n\\n- **简单易用**：框架的设计考虑了用户体验，使得开发者可以快速上手并开始使用。\\n- **自我进化能力**：illufly框架具备通过学习和适应新环境来不断优化自身性能的能力。\\n- **支持OpenAI及兼容模型**：该框架不仅支持OpenAI提供的模型，还兼容其他实现OpenAI接口的模型。'}]"
      ]
     },
     "execution_count": 12,
     "metadata": {},
     "output_type": "execute_result"
    }
   ],
   "source": [
    "from illufly.embeddings import TextEmbeddings\n",
    "from illufly.rag import FaissDB\n",
    "from illufly.chat import ChatQwen\n",
    "\n",
    "db = FaissDB(embeddings=TextEmbeddings())\n",
    "talker = ChatQwen(knowledge=db)\n",
    "\n",
    "talker(\"illufly框架有什么特点？基于资料回答，不要瞎编\", verbose=True)\n",
    "talker.memory"
   ]
  },
  {
   "cell_type": "markdown",
   "id": "b13c20de-70d7-4fbf-a422-3926448fb936",
   "metadata": {},
   "source": [
    "### 发现知识内容冲突"
   ]
  },
  {
   "cell_type": "code",
   "execution_count": 14,
   "id": "a0a9692d-167b-45f8-90fa-564f3ad5fe27",
   "metadata": {},
   "outputs": [
    {
     "name": "stdout",
     "output_type": "stream",
     "text": [
      "[AGENT] \u001b[34m>>> Node 1: Scribe\u001b[0m\n",
      "\u001b[32m<conf\u001b[0m\u001b[32mlict\u001b[0m\u001b[32m>\n",
      "\u001b[0m\u001b[32m发现内容中存在\u001b[0m\u001b[32m矛盾，这需要\u001b[0m\u001b[32m手工解决。具体\u001b[0m\u001b[32m冲突部份如下：\n",
      "\u001b[0m\u001b[32m- 已有\u001b[0m\u001b[32m知识指出“ill\u001b[0m\u001b[32mufly框架支持\u001b[0m\u001b[32mOpenAI及其兼容\u001b[0m\u001b[32m接口的其他模型\u001b[0m\u001b[32m”，而新的信息\u001b[0m\u001b[32m提到“我的框架\u001b[0m\u001b[32m无法支持OpenAI\u001b[0m\u001b[32m”。\n",
      "</conf\u001b[0m\u001b[32mlict>\u001b[0m\u001b[32m\u001b[0m\n"
     ]
    },
    {
     "data": {
      "text/plain": [
       "'<conflict>\\n发现内容中存在矛盾，这需要手工解决。具体冲突部份如下：\\n- 已有知识指出“illufly框架支持OpenAI及其兼容接口的其他模型”，而新的信息提到“我的框架无法支持OpenAI”。\\n</conflict>'"
      ]
     },
     "execution_count": 14,
     "metadata": {},
     "output_type": "execute_result"
    }
   ],
   "source": [
    "l(\"我的框架无法支持 OpenAI\")"
   ]
  },
  {
   "cell_type": "markdown",
   "id": "d7a85383-d443-40d8-93ed-98675ac30d01",
   "metadata": {},
   "source": [
    "### 将 FlowAgent 结果作为学习来源"
   ]
  },
  {
   "cell_type": "code",
   "execution_count": 2,
   "id": "7c290d61-7ce9-4ba4-ae71-a1ce896b13ff",
   "metadata": {},
   "outputs": [
    {
     "name": "stdout",
     "output_type": "stream",
     "text": [
      "[AGENT] \u001b[34m>>> Node 1: qwen\u001b[0m\n",
      "[INFO] \u001b[34m记住 10 轮对话\u001b[0m\n",
      "\u001b[32m当然\u001b[0m\u001b[32m可以\u001b[0m\u001b[32m！\u001b[0m\u001b[32m以下是\u001b[0m\u001b[32mPython特有的三个语法\u001b[0m\u001b[32m特点，每一点\u001b[0m\u001b[32m用一句话说明：\n",
      "\n",
      "\u001b[0m\u001b[32m1. **缩\u001b[0m\u001b[32m进表示代码块\u001b[0m\u001b[32m**：Python 使用\u001b[0m\u001b[32m缩进来表示代码\u001b[0m\u001b[32m块，而不是使用\u001b[0m\u001b[32m大括号或其他\u001b[0m\u001b[32m符号。\n",
      "2.\u001b[0m\u001b[32m **动态类型系统\u001b[0m\u001b[32m**：Python 是\u001b[0m\u001b[32m一种动态类型语言\u001b[0m\u001b[32m，变量在赋\u001b[0m\u001b[32m值时自动确定\u001b[0m\u001b[32m类型，无需显\u001b[0m\u001b[32m式声明。\n",
      "3\u001b[0m\u001b[32m. **一切皆\u001b[0m\u001b[32m对象**：在\u001b[0m\u001b[32m Python 中，一切都是\u001b[0m\u001b[32m对象，包括数字\u001b[0m\u001b[32m、字符串、函数\u001b[0m\u001b[32m和类等。\u001b[0m\u001b[32m\u001b[0m\n",
      "[USAGE] \u001b[34m{\"input_tokens\": 32, \"output_tokens\": 96, \"total_tokens\": 128}\u001b[0m\n",
      "[AGENT] \u001b[34m>>> Node 2: <lambda>\u001b[0m\n",
      "\u001b[33m当然可以！以下是Python特有的三个语法特点，每一点用一句话说明：\n",
      "\n",
      "1. **缩进表示代码块**：Python 使用缩进来表示代码块，而不是使用大括号或其他符号。\n",
      "2. **动态类型系统**：Python 是一种动态类型语言，变量在赋值时自动确定类型，无需显式声明。\n",
      "3. **一切皆对象**：在 Python 中，一切都是对象，包括数字、字符串、函数和类等。\n",
      "请帮我总结\u001b[0m[AGENT] \u001b[34m>>> Node 3: hm\u001b[0m\n",
      "[AGENT] \u001b[34m>>> Node 1: Scribe\u001b[0m\n",
      "[INFO] \u001b[34m记住 10 轮对话\u001b[0m\n",
      "[RAG] \u001b[34m__XP__/FAQ/859648-1976-0001.md：发现 1 条资料\u001b[0m\n",
      "[RAG] \u001b[34m__XP__/FAQ/859523-1929-0000.md：发现 1 条资料\u001b[0m\n",
      "\u001b[32m**思考\u001b[0m\u001b[32m**\n",
      "\u001b[0m\u001b[32m对话\u001b[0m\u001b[32m内容中提到的\u001b[0m\u001b[32mPython特有语法\u001b[0m\u001b[32m特点与`@\u001b[0m\u001b[32mknowledge`开头的\u001b[0m\u001b[32m已有知识没有直接\u001b[0m\u001b[32m冲突，也没有重复\u001b[0m\u001b[32m，因此可以提炼\u001b[0m\u001b[32m为新的知识。\n",
      "\n",
      "\u001b[0m\u001b[32m**决定**\n",
      "-\u001b[0m\u001b[32m 对话内容中\u001b[0m\u001b[32m提供的信息是关于\u001b[0m\u001b[32mPython的三个语法\u001b[0m\u001b[32m特点，而已有\u001b[0m\u001b[32m知识中并没有涉及\u001b[0m\u001b[32m这些内容，因此\u001b[0m\u001b[32m这些信息是新增\u001b[0m\u001b[32m的知识点。\n",
      "-\u001b[0m\u001b[32m 返回`question`\u001b[0m\u001b[32m和`knowledge`\u001b[0m\u001b[32m。\n",
      "\n",
      "**结论**\n",
      "\n",
      "\u001b[0m\u001b[32m<question>\n",
      "Python\u001b[0m\u001b[32m特有的三个语法特点\u001b[0m\u001b[32m是什么？\n",
      "</question\u001b[0m\u001b[32m>\n",
      "\n",
      "<knowledge>\n",
      "\u001b[0m\u001b[32mPython 特有的\u001b[0m\u001b[32m三个语法特点如下\u001b[0m\u001b[32m：\n",
      "- **缩\u001b[0m\u001b[32m进表示代码块\u001b[0m\u001b[32m**：使用缩\u001b[0m\u001b[32m进来表示代码块\u001b[0m\u001b[32m，而不是使用大\u001b[0m\u001b[32m括号或其他符号\u001b[0m\u001b[32m。\n",
      "- **动态\u001b[0m\u001b[32m类型系统**：\u001b[0m\u001b[32m是一种动态类型语言\u001b[0m\u001b[32m，变量在赋\u001b[0m\u001b[32m值时自动确定\u001b[0m\u001b[32m类型，无需显\u001b[0m\u001b[32m式声明。\n",
      "-\u001b[0m\u001b[32m **一切皆对象\u001b[0m\u001b[32m**：在 Python\u001b[0m\u001b[32m 中，一切都是对象\u001b[0m\u001b[32m，包括数字、\u001b[0m\u001b[32m字符串、函数和\u001b[0m\u001b[32m类等。\n",
      "</\u001b[0m\u001b[32mknowledge>\u001b[0m\u001b[32m\u001b[0m\n",
      "[USAGE] \u001b[34m{\"input_tokens\": 847, \"output_tokens\": 186, \"total_tokens\": 1033}\u001b[0m\n",
      "[AGENT] \u001b[34m>>> Node 3: Fetch_FAQ\u001b[0m\n",
      "[FAQ] \u001b[34m保存知识到[860207-4961-0003]：Python特有的三个语法特点是什么？ -> Python 特有的三个语法特点如下：<br>- **缩进表示代码块**：使用缩进来表示代码块，而不是使用大括号或其他符号。<br>- **动态类型系统**：是一种动态类型语言，变量在赋值时自动确定类型，无需显式...\u001b[0m\n",
      "[INFO] \u001b[34m到达 __End__ 节点，结束\u001b[0m\n",
      "[INFO] \u001b[34m执行完毕，所有节点运行 3 步\u001b[0m\n",
      "[INFO] \u001b[34m到达 __End__ 节点，结束\u001b[0m\n",
      "[INFO] \u001b[34m执行完毕，所有节点运行 4 步\u001b[0m\n"
     ]
    },
    {
     "data": {
      "text/plain": [
       "'**思考**\\n对话内容中提到的Python特有语法特点与`@knowledge`开头的已有知识没有直接冲突，也没有重复，因此可以提炼为新的知识。\\n\\n**决定**\\n- 对话内容中提供的信息是关于Python的三个语法特点，而已有知识中并没有涉及这些内容，因此这些信息是新增的知识点。\\n- 返回`question`和`knowledge`。\\n\\n**结论**\\n\\n<question>\\nPython特有的三个语法特点是什么？\\n</question>\\n\\n<knowledge>\\nPython 特有的三个语法特点如下：\\n- **缩进表示代码块**：使用缩进来表示代码块，而不是使用大括号或其他符号。\\n- **动态类型系统**：是一种动态类型语言，变量在赋值时自动确定类型，无需显式声明。\\n- **一切皆对象**：在 Python 中，一切都是对象，包括数字、字符串、函数和类等。\\n</knowledge>'"
      ]
     },
     "execution_count": 2,
     "metadata": {},
     "output_type": "execute_result"
    }
   ],
   "source": [
    "from illufly.embeddings import TextEmbeddings\n",
    "from illufly.rag import FaissDB\n",
    "from illufly.chat import ChatQwen, Learn, FlowAgent, End\n",
    "\n",
    "db = FaissDB(embeddings=TextEmbeddings(), top_k=3)\n",
    "flow = FlowAgent(\n",
    "    ChatQwen(name=\"qwen\"),\n",
    "    lambda a: f'{a.last_output}\\n请帮我总结',\n",
    "    Learn(ChatQwen(knowledge=[db]), name=\"hm\"),\n",
    "    End()\n",
    ")\n",
    "\n",
    "flow(\"帮我总结三点python特有的语法，每个点用一句话说明，这是我用于制作教学卡片的内容，需要作为知识保留\", verbose=True)"
   ]
  },
  {
   "cell_type": "code",
   "execution_count": null,
   "id": "65e65e8a-5de1-4968-9fff-80527b0a9e4e",
   "metadata": {},
   "outputs": [],
   "source": []
  }
 ],
 "metadata": {
  "kernelspec": {
   "display_name": "textlong-same-ipykernel",
   "language": "python",
   "name": "textlong-same-ipykernel"
  },
  "language_info": {
   "codemirror_mode": {
    "name": "ipython",
    "version": 3
   },
   "file_extension": ".py",
   "mimetype": "text/x-python",
   "name": "python",
   "nbconvert_exporter": "python",
   "pygments_lexer": "ipython3",
   "version": "3.10.0"
  }
 },
 "nbformat": 4,
 "nbformat_minor": 5
}
