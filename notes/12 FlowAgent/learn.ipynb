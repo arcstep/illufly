{
 "cells": [
  {
   "cell_type": "markdown",
   "id": "ca7a9963-482b-49ec-a2d8-38f66b86989a",
   "metadata": {},
   "source": [
    "## 经验学习\n",
    "\n",
    "自我进化是 illufly 智能体框架的核心目标。\n",
    "\n",
    "### 在对话中学习"
   ]
  },
  {
   "cell_type": "code",
   "execution_count": 1,
   "id": "a48d7ee5-8aca-44b5-b6c6-2a78e81fc1ac",
   "metadata": {},
   "outputs": [],
   "source": [
    "from illufly.embeddings import TextEmbeddings\n",
    "from illufly.rag import FaissDB\n",
    "from illufly.chat import ChatQwen, Learn, FlowAgent\n",
    "\n",
    "db = FaissDB(embeddings=TextEmbeddings(), top_k=3)\n",
    "l = Learn(ChatQwen(knowledge=[db]), name=\"hm\")"
   ]
  },
  {
   "cell_type": "code",
   "execution_count": 2,
   "id": "00c36019-e1ce-495b-8bae-75b1f82863f0",
   "metadata": {},
   "outputs": [
    {
     "name": "stdout",
     "output_type": "stream",
     "text": [
      "[AGENT] \u001b[34m>>> Node 1: Scribe\u001b[0m\n",
      "\u001b[32m好的\u001b[0m\u001b[32m，\u001b[0m\u001b[32m我已经\u001b[0m\u001b[32m准备好\u001b[0m\u001b[32m倾听并记录你的\u001b[0m\u001b[32m项目详情了，请\u001b[0m\u001b[32m开始吧。\u001b[0m\u001b[32m\u001b[0m\n"
     ]
    },
    {
     "data": {
      "text/plain": [
       "[{'role': 'system',\n",
       "  'content': '你是强大的AI助手，擅长通过对话过程总结内容并发现新知识。\\n\\n你正在与用户进行对话，并跟随用户的节奏讨论问题。\\n\\n但在用户要求结束对话，或提出明确指示要求你总结对话内容时，你应当按照下面的步骤一步一步思考，完成新知识的提炼过程；\\n如果用户没有提出明确指示要求你总结对话内容，则可以跳过下面的思考步骤，直接与用户就话题展开讨论。\\n\\n**思考**\\n提炼对话过程中的关键信息，并仔细与对话过程中明确指明的「已有知识」对比，对话内容中是否包含新知识？\\n这些新知识与已有知识存在冲突吗？\\n这些新知识与已有知识是否包含新增的信息？如果包含我需要将其提炼出来。\\n这些新知识与已有知识是否基本重复？\\n新知识应当是相对完整的知识表达，例如具备知识三元组的基本结构，如果对话内容仅仅是疑问或缺乏明确的结论，则不必提炼。\\n\\n**决定**\\n按照下面的分析过程，输出我做出决定的理由:\\n- 如果新知识与已有知识存在冲突，则返回`conflict`;\\n- 如果新知识与已有知识内容基本重复，则返回`nothing`;\\n- 否则返回`question`和`knowledge`。\\n\\n**结论**\\n- 总结`question`时应当以概念名词或提问的方式重新描述问题，使其与最终答案具有关联性\\n- 总结`knowledge`时应当以类似 wiki 知识结构的风格提炼知识内容，对于缺少信息的内容不必提及或罗列\\n- 总结时以客观口吻，不要出现你、我、他等指代关系不明确的词汇，不要啰嗦，不要编造聊天内容之外的内容\\n\\n输出`nothing`时的格式要求:\\n<nothing>\\n内容已经存在, 无需重复提取\\n</nothing>\\n\\n如果输出`nothing`，则立即停止输出，不必输出`question`和`knowledge`。\\n\\n输出`conflict`时的格式要求:\\n<conflict>\\n我发现内容中存在矛盾，这需要你自己解决。具体冲突部份如下：\\n冲突的详细描述\\n</conflict>\\n\\n输出`question`时的格式要求:\\n<question>\\n问题描述\\n</question>\\n\\n输出`knowledge`时的格式要求:\\n<knowledge>\\n你提炼的知识内容\\n</knowledge>\\n\\n我的输出:\\n'},\n",
       " {'role': 'user', 'content': '我现在想告诉你我的项目正在做什么，你做好笔记'},\n",
       " {'role': 'assistant', 'content': '好的，我已经准备好倾听并记录你的项目详情了，请开始吧。'}]"
      ]
     },
     "execution_count": 2,
     "metadata": {},
     "output_type": "execute_result"
    }
   ],
   "source": [
    "l(\"我现在想告诉你我的项目正在做什么，你做好笔记\")\n",
    "l.agents[0][1].memory"
   ]
  },
  {
   "cell_type": "code",
   "execution_count": 3,
   "id": "ad504233-4402-43b5-b0b0-229899101bd7",
   "metadata": {},
   "outputs": [
    {
     "name": "stdout",
     "output_type": "stream",
     "text": [
      "[AGENT] \u001b[34m>>> Node 1: Scribe\u001b[0m\n",
      "\u001b[32m了解了\u001b[0m\u001b[32m，\u001b[0m\u001b[32m你\u001b[0m\u001b[32m正在开发的 ill\u001b[0m\u001b[32mulfy Agent \u001b[0m\u001b[32m框架强调\u001b[0m\u001b[32m简单易用性和\u001b[0m\u001b[32m自我进化能力。\u001b[0m\u001b[32m这听起来是一个很有\u001b[0m\u001b[32m前景的项目。\u001b[0m\u001b[32m能否再分享一些\u001b[0m\u001b[32m细节，比如它是\u001b[0m\u001b[32m如何实现自我进\u001b[0m\u001b[32m化的？或者它的\u001b[0m\u001b[32m应用场景有哪些？\u001b[0m\u001b[32m\u001b[0m\n"
     ]
    },
    {
     "data": {
      "text/plain": [
       "'了解了，你正在开发的 illulfy Agent 框架强调简单易用性和自我进化能力。这听起来是一个很有前景的项目。能否再分享一些细节，比如它是如何实现自我进化的？或者它的应用场景有哪些？'"
      ]
     },
     "execution_count": 3,
     "metadata": {},
     "output_type": "execute_result"
    }
   ],
   "source": [
    "l(\"我在开发一个 illulfy 的Agent框架，特点是简单易用，并具有自我进化能力\")"
   ]
  },
  {
   "cell_type": "code",
   "execution_count": 4,
   "id": "f259a210-735f-4cb6-90e3-a0483ac3d4e9",
   "metadata": {},
   "outputs": [
    {
     "name": "stdout",
     "output_type": "stream",
     "text": [
      "[AGENT] \u001b[34m>>> Node 1: Scribe\u001b[0m\n",
      "\u001b[32m**\u001b[0m\u001b[32m思考\u001b[0m\u001b[32m**\n",
      "\u001b[0m\u001b[32m-\u001b[0m\u001b[32m 对话中的关键\u001b[0m\u001b[32m信息包括：ill\u001b[0m\u001b[32mulfy Agent \u001b[0m\u001b[32m框架的特点\u001b[0m\u001b[32m是简单易用\u001b[0m\u001b[32m和自我进化能力\u001b[0m\u001b[32m。\n",
      "- 这\u001b[0m\u001b[32m些信息与已\u001b[0m\u001b[32m有的关于软件开发\u001b[0m\u001b[32m的知识并不冲突，\u001b[0m\u001b[32m且提供了新的具体\u001b[0m\u001b[32m项目信息。\n",
      "-\u001b[0m\u001b[32m 新信息包括：\u001b[0m\u001b[32m项目的名称（ill\u001b[0m\u001b[32mulfy Agent \u001b[0m\u001b[32m框架）、\u001b[0m\u001b[32m特点（简单易\u001b[0m\u001b[32m用和自我进化\u001b[0m\u001b[32m能力）。\n",
      "-\u001b[0m\u001b[32m 信息不是简单的\u001b[0m\u001b[32m重复，而是具体的\u001b[0m\u001b[32m项目描述。\n",
      "-\u001b[0m\u001b[32m 信息相对完整\u001b[0m\u001b[32m，可以提炼为\u001b[0m\u001b[32m知识。\n",
      "\n",
      "**决定\u001b[0m\u001b[32m**\n",
      "- 新知识\u001b[0m\u001b[32m与已有知识不存在\u001b[0m\u001b[32m冲突。\n",
      "- 新\u001b[0m\u001b[32m知识提供了具体的项目\u001b[0m\u001b[32m描述，与已有\u001b[0m\u001b[32m知识不重复。\n",
      "\n",
      "\u001b[0m\u001b[32m**结论**\n",
      "\u001b[0m\u001b[32m<question>\n",
      "illulf\u001b[0m\u001b[32my Agent \u001b[0m\u001b[32m框架的核心特点\u001b[0m\u001b[32m是什么？\n",
      "</question\u001b[0m\u001b[32m>\n",
      "<knowledge>\n",
      "\u001b[0m\u001b[32millulfy Agent\u001b[0m\u001b[32m 框架\u001b[0m\u001b[32m是一种强调简单易\u001b[0m\u001b[32m用性和自我进化\u001b[0m\u001b[32m能力的开发框架\u001b[0m\u001b[32m。该框架旨在\u001b[0m\u001b[32m为用户提供便捷的\u001b[0m\u001b[32m开发体验，同时\u001b[0m\u001b[32m通过自我进化机制\u001b[0m\u001b[32m不断优化性能和\u001b[0m\u001b[32m功能。\n",
      "</knowledge\u001b[0m\u001b[32m>\u001b[0m\u001b[32m\u001b[0m\n",
      "[AGENT] \u001b[34m>>> Node 3: Fetch_FAQ\u001b[0m\n",
      "[FAQ] \u001b[34m保存知识到[856533-9052-0000]：illulfy Agent 框架的核心特点是什么？ -> illulfy Agent 框架是一种强调简单易用性和自我进化能力的开发框架。该框架旨在为用户提供便捷的开发体验，同时通过自我进化机制不断优化性能和功能。\u001b[0m\n"
     ]
    },
    {
     "data": {
      "text/plain": [
       "'**思考**\\n- 对话中的关键信息包括：illulfy Agent 框架的特点是简单易用和自我进化能力。\\n- 这些信息与已有的关于软件开发的知识并不冲突，且提供了新的具体项目信息。\\n- 新信息包括：项目的名称（illulfy Agent 框架）、特点（简单易用和自我进化能力）。\\n- 信息不是简单的重复，而是具体的项目描述。\\n- 信息相对完整，可以提炼为知识。\\n\\n**决定**\\n- 新知识与已有知识不存在冲突。\\n- 新知识提供了具体的项目描述，与已有知识不重复。\\n\\n**结论**\\n<question>\\nillulfy Agent 框架的核心特点是什么？\\n</question>\\n<knowledge>\\nillulfy Agent 框架是一种强调简单易用性和自我进化能力的开发框架。该框架旨在为用户提供便捷的开发体验，同时通过自我进化机制不断优化性能和功能。\\n</knowledge>'"
      ]
     },
     "execution_count": 4,
     "metadata": {},
     "output_type": "execute_result"
    }
   ],
   "source": [
    "l(\"帮我总结\")"
   ]
  },
  {
   "cell_type": "markdown",
   "id": "c4d6907a-6421-4f04-9fed-75a21914a336",
   "metadata": {},
   "source": [
    "### 更新知识"
   ]
  },
  {
   "cell_type": "code",
   "execution_count": 5,
   "id": "96306859-8fe7-4e06-afbb-8c544cb6b4aa",
   "metadata": {},
   "outputs": [
    {
     "name": "stdout",
     "output_type": "stream",
     "text": [
      "[AGENT] \u001b[34m>>> Node 1: Scribe\u001b[0m\n",
      "\u001b[32m了解\u001b[0m\u001b[32m了\u001b[0m\u001b[32m，\u001b[0m\u001b[32m你\u001b[0m\u001b[32m提到 illufly\u001b[0m\u001b[32m 框架\u001b[0m\u001b[32m是否支持 OpenAI\u001b[0m\u001b[32m。这是一个具体的技术\u001b[0m\u001b[32m问题，我们可以进一步\u001b[0m\u001b[32m探讨。\n",
      "\n",
      "**思考\u001b[0m\u001b[32m**\n",
      "- 对话\u001b[0m\u001b[32m中提出了一个新的问题\u001b[0m\u001b[32m：illufly\u001b[0m\u001b[32m 框架\u001b[0m\u001b[32m是否支持 OpenAI\u001b[0m\u001b[32m。\n",
      "- 这\u001b[0m\u001b[32m个问题是新的信息\u001b[0m\u001b[32m点，但目前\u001b[0m\u001b[32m还没有明确的答案。\n",
      "\u001b[0m\u001b[32m- 问题本身\u001b[0m\u001b[32m是具体的，可以\u001b[0m\u001b[32m提炼为知识的一部分\u001b[0m\u001b[32m。\n",
      "\n",
      "**决定**\n",
      "\u001b[0m\u001b[32m- 问题明确\u001b[0m\u001b[32m，但没有提供\u001b[0m\u001b[32m足够的信息来提炼\u001b[0m\u001b[32m出新知识。\n",
      "\n",
      "\u001b[0m\u001b[32m**结论**\n",
      "\u001b[0m\u001b[32m<question>\n",
      "illuf\u001b[0m\u001b[32mly 框\u001b[0m\u001b[32m架是否支持 Open\u001b[0m\u001b[32mAI？\n",
      "</question\u001b[0m\u001b[32m>\u001b[0m\u001b[32m\u001b[0m\n"
     ]
    },
    {
     "data": {
      "text/plain": [
       "'了解了，你提到 illufly 框架是否支持 OpenAI。这是一个具体的技术问题，我们可以进一步探讨。\\n\\n**思考**\\n- 对话中提出了一个新的问题：illufly 框架是否支持 OpenAI。\\n- 这个问题是新的信息点，但目前还没有明确的答案。\\n- 问题本身是具体的，可以提炼为知识的一部分。\\n\\n**决定**\\n- 问题明确，但没有提供足够的信息来提炼出新知识。\\n\\n**结论**\\n<question>\\nillufly 框架是否支持 OpenAI？\\n</question>'"
      ]
     },
     "execution_count": 5,
     "metadata": {},
     "output_type": "execute_result"
    }
   ],
   "source": [
    "l(\"illufly框架支持OpenAI?\")"
   ]
  },
  {
   "cell_type": "code",
   "execution_count": 6,
   "id": "da5f44d8-1c8c-4065-8e2e-1795f30f7712",
   "metadata": {},
   "outputs": [
    {
     "name": "stdout",
     "output_type": "stream",
     "text": [
      "[AGENT] \u001b[34m>>> Node 1: Scribe\u001b[0m\n",
      "\u001b[32m**思考\u001b[0m\u001b[32m**\n",
      "\u001b[0m\u001b[32m-\u001b[0m\u001b[32m 对话中明确了\u001b[0m\u001b[32m illufly \u001b[0m\u001b[32m框架支持\u001b[0m\u001b[32m OpenAI 及\u001b[0m\u001b[32m其兼容接口的\u001b[0m\u001b[32m其他模型。\n",
      "-\u001b[0m\u001b[32m 这一信息\u001b[0m\u001b[32m是新的，且\u001b[0m\u001b[32m与已有的知识\u001b[0m\u001b[32m不冲突。\n",
      "-\u001b[0m\u001b[32m 信息具体且\u001b[0m\u001b[32m完整，可以提炼\u001b[0m\u001b[32m为知识。\n",
      "\n",
      "**\u001b[0m\u001b[32m决定**\n",
      "- 新\u001b[0m\u001b[32m知识与已有知识\u001b[0m\u001b[32m不存在冲突。\n",
      "-\u001b[0m\u001b[32m 新知识提供了具体的\u001b[0m\u001b[32m项目技术细节，\u001b[0m\u001b[32m与已有知识不\u001b[0m\u001b[32m重复。\n",
      "\n",
      "**结论\u001b[0m\u001b[32m**\n",
      "<question>\n",
      "\u001b[0m\u001b[32millufly \u001b[0m\u001b[32m框架是否\u001b[0m\u001b[32m支持 OpenAI \u001b[0m\u001b[32m及其兼容接口\u001b[0m\u001b[32m的其他模型？\n",
      "\u001b[0m\u001b[32m</question>\n",
      "\u001b[0m\u001b[32m<knowledge>\n",
      "illuf\u001b[0m\u001b[32mly 框\u001b[0m\u001b[32m架支持 OpenAI\u001b[0m\u001b[32m 及其兼容\u001b[0m\u001b[32m接口的其他模型\u001b[0m\u001b[32m。这使得开发者\u001b[0m\u001b[32m可以利用多种 AI\u001b[0m\u001b[32m 模型进行\u001b[0m\u001b[32m集成和开发，\u001b[0m\u001b[32m增强了框架的灵活性\u001b[0m\u001b[32m和适用范围。\n",
      "\u001b[0m\u001b[32m</knowledge>\u001b[0m\u001b[32m\u001b[0m\n",
      "[AGENT] \u001b[34m>>> Node 3: Fetch_FAQ\u001b[0m\n",
      "[FAQ] \u001b[34m保存知识到[856533-9052-0000]：illufly 框架是否支持 OpenAI 及其兼容接口的其他模型？ -> illufly 框架支持 OpenAI 及其兼容接口的其他模型。这使得开发者可以利用多种 AI 模型进行集成和开发，增强了框架的灵活性和适用范围。\u001b[0m\n"
     ]
    },
    {
     "data": {
      "text/plain": [
       "'**思考**\\n- 对话中明确了 illufly 框架支持 OpenAI 及其兼容接口的其他模型。\\n- 这一信息是新的，且与已有的知识不冲突。\\n- 信息具体且完整，可以提炼为知识。\\n\\n**决定**\\n- 新知识与已有知识不存在冲突。\\n- 新知识提供了具体的项目技术细节，与已有知识不重复。\\n\\n**结论**\\n<question>\\nillufly 框架是否支持 OpenAI 及其兼容接口的其他模型？\\n</question>\\n<knowledge>\\nillufly 框架支持 OpenAI 及其兼容接口的其他模型。这使得开发者可以利用多种 AI 模型进行集成和开发，增强了框架的灵活性和适用范围。\\n</knowledge>'"
      ]
     },
     "execution_count": 6,
     "metadata": {},
     "output_type": "execute_result"
    }
   ],
   "source": [
    "l(\"illufly框架支持OpenAI，以及兼容OpenAI接口的其他模型\")"
   ]
  },
  {
   "cell_type": "markdown",
   "id": "05c54e19-d3df-4027-9efc-d4edbf5cd92f",
   "metadata": {},
   "source": [
    "### 基于经验问答"
   ]
  },
  {
   "cell_type": "code",
   "execution_count": 7,
   "id": "0c41318b-d4b1-4e65-9266-502f1a5e3c9f",
   "metadata": {},
   "outputs": [
    {
     "name": "stdout",
     "output_type": "stream",
     "text": [
      "[INFO] \u001b[34m记住 10 轮对话\u001b[0m\n",
      "[RAG] \u001b[34m__XP__/FAQ/856533-9052-0000.md：发现 1 条资料\u001b[0m\n",
      "\u001b[32mill\u001b[0m\u001b[32muf\u001b[0m\u001b[32mly\u001b[0m\u001b[32m \u001b[0m\u001b[32m框架的特点\u001b[0m\u001b[32m包括：\n",
      "\n",
      "1.\u001b[0m\u001b[32m **支持 OpenAI\u001b[0m\u001b[32m 及其兼容\u001b[0m\u001b[32m接口的其他模型\u001b[0m\u001b[32m**：这意味着开发者\u001b[0m\u001b[32m可以利用多种 AI\u001b[0m\u001b[32m 模型进行\u001b[0m\u001b[32m集成和开发，\u001b[0m\u001b[32m增强了框架的灵活性\u001b[0m\u001b[32m和适用范围。\n",
      "\u001b[0m\u001b[32m2. **灵活性\u001b[0m\u001b[32m高**：由于\u001b[0m\u001b[32m支持多种模型，\u001b[0m\u001b[32m开发者可以根据具体需求\u001b[0m\u001b[32m选择最适合的模型\u001b[0m\u001b[32m，提高了开发效率\u001b[0m\u001b[32m和项目的适应性\u001b[0m\u001b[32m。\n",
      "3. **\u001b[0m\u001b[32m易于集成**：\u001b[0m\u001b[32m框架设计考虑了\u001b[0m\u001b[32m易用性和集成\u001b[0m\u001b[32m性，使得开发者\u001b[0m\u001b[32m能够快速将 AI\u001b[0m\u001b[32m 功能集成到\u001b[0m\u001b[32m自己的项目中。\n",
      "\n",
      "\u001b[0m\u001b[32m这些特点共同使得\u001b[0m\u001b[32m illufly 成\u001b[0m\u001b[32m为一个强大且\u001b[0m\u001b[32m灵活的开发工具\u001b[0m\u001b[32m，适用于需要集成\u001b[0m\u001b[32m多种 AI 模\u001b[0m\u001b[32m型的应用场景。\u001b[0m\u001b[32m\u001b[0m\n",
      "[USAGE] \u001b[34m{\"input_tokens\": 120, \"output_tokens\": 136, \"total_tokens\": 256}\u001b[0m\n"
     ]
    },
    {
     "data": {
      "text/plain": [
       "[{'role': 'user',\n",
       "  'content': '回答时请参考已有资料类的知识：\\n**Question**\\nillufly 框架是否支持 OpenAI 及其兼容接口的其他模型？\\n\\n**Knowledge**\\nillufly 框架支持 OpenAI 及其兼容接口的其他模型。这使得开发者可以利用多种 AI 模型进行集成和开发，增强了框架的灵活性和适用范围。\\n'},\n",
       " {'role': 'assistant', 'content': 'ok'},\n",
       " {'role': 'user', 'content': 'illufly框架有什么特点？基于资料回答，不要瞎编'},\n",
       " {'role': 'assistant',\n",
       "  'content': 'illufly 框架的特点包括：\\n\\n1. **支持 OpenAI 及其兼容接口的其他模型**：这意味着开发者可以利用多种 AI 模型进行集成和开发，增强了框架的灵活性和适用范围。\\n2. **灵活性高**：由于支持多种模型，开发者可以根据具体需求选择最适合的模型，提高了开发效率和项目的适应性。\\n3. **易于集成**：框架设计考虑了易用性和集成性，使得开发者能够快速将 AI 功能集成到自己的项目中。\\n\\n这些特点共同使得 illufly 成为一个强大且灵活的开发工具，适用于需要集成多种 AI 模型的应用场景。'}]"
      ]
     },
     "execution_count": 7,
     "metadata": {},
     "output_type": "execute_result"
    }
   ],
   "source": [
    "from illufly.embeddings import TextEmbeddings\n",
    "from illufly.rag import FaissDB\n",
    "from illufly.chat import ChatQwen\n",
    "\n",
    "db = FaissDB(embeddings=TextEmbeddings())\n",
    "talker = ChatQwen(knowledge=db)\n",
    "\n",
    "talker(\"illufly框架有什么特点？基于资料回答，不要瞎编\", verbose=True)\n",
    "talker.memory"
   ]
  },
  {
   "cell_type": "markdown",
   "id": "b13c20de-70d7-4fbf-a422-3926448fb936",
   "metadata": {},
   "source": [
    "### 发现知识内容冲突"
   ]
  },
  {
   "cell_type": "code",
   "execution_count": 7,
   "id": "a0a9692d-167b-45f8-90fa-564f3ad5fe27",
   "metadata": {},
   "outputs": [
    {
     "name": "stdout",
     "output_type": "stream",
     "text": [
      "[AGENT] \u001b[34m>>> Node 1: Scribe\u001b[0m\n",
      "[RAG] \u001b[34m__XP__/FAQ/845234-1247-0001.md：发现 1 条资料\u001b[0m\n",
      "[RAG] \u001b[34m__XP__/FAQ/845385-6917-0002.md：发现 1 条资料\u001b[0m\n",
      "\u001b[32m明白了\u001b[0m\u001b[32m，\u001b[0m\u001b[32m感谢\u001b[0m\u001b[32m你的\u001b[0m\u001b[32m澄清。以下是更新\u001b[0m\u001b[32m后的总结：\n",
      "\n",
      "**\u001b[0m\u001b[32m思考**\n",
      "- 提\u001b[0m\u001b[32m炼的关键信息：\u001b[0m\u001b[32m用户的 illulfy\u001b[0m\u001b[32m Agent 框\u001b[0m\u001b[32m架支持 OpenAI\u001b[0m\u001b[32m。\n",
      "- 对比\u001b[0m\u001b[32m已有知识：已\u001b[0m\u001b[32m有的知识中提到\u001b[0m\u001b[32m illulfy Agent\u001b[0m\u001b[32m 框架\u001b[0m\u001b[32m支持 OpenAI，\u001b[0m\u001b[32m用户再次确认了\u001b[0m\u001b[32m这一点。\n",
      "- 新\u001b[0m\u001b[32m知识：无。\n",
      "\u001b[0m\u001b[32m- 冲突\u001b[0m\u001b[32m：无。\n",
      "-\u001b[0m\u001b[32m 新增信息：\u001b[0m\u001b[32m无。\n",
      "- \u001b[0m\u001b[32m基本重复\u001b[0m\u001b[32m：信息一致，\u001b[0m\u001b[32m无新增内容。\n",
      "\n",
      "\u001b[0m\u001b[32m**决定**\n",
      "-\u001b[0m\u001b[32m 返回 `nothing`\u001b[0m\u001b[32m。\n",
      "\n",
      "**结论**\n",
      "\u001b[0m\u001b[32m<nothing>\n",
      "内容\u001b[0m\u001b[32m已经存在, \u001b[0m\u001b[32m无需重复提取\n",
      "\u001b[0m\u001b[32m</nothing>\u001b[0m\u001b[32m\u001b[0m\n"
     ]
    },
    {
     "data": {
      "text/plain": [
       "'明白了，感谢你的澄清。以下是更新后的总结：\\n\\n**思考**\\n- 提炼的关键信息：用户的 illulfy Agent 框架支持 OpenAI。\\n- 对比已有知识：已有的知识中提到 illulfy Agent 框架支持 OpenAI，用户再次确认了这一点。\\n- 新知识：无。\\n- 冲突：无。\\n- 新增信息：无。\\n- 基本重复：信息一致，无新增内容。\\n\\n**决定**\\n- 返回 `nothing`。\\n\\n**结论**\\n<nothing>\\n内容已经存在, 无需重复提取\\n</nothing>'"
      ]
     },
     "execution_count": 7,
     "metadata": {},
     "output_type": "execute_result"
    }
   ],
   "source": [
    "l(\"不不，我的框架支持 OpenAI\")"
   ]
  },
  {
   "cell_type": "code",
   "execution_count": 6,
   "id": "20fcbfb9-41ad-4ee7-8c4b-4951f6a4a29a",
   "metadata": {},
   "outputs": [
    {
     "name": "stdout",
     "output_type": "stream",
     "text": [
      "[AGENT] \u001b[34m>>> Node 1: Scribe\u001b[0m\n",
      "\u001b[32m<nothing\u001b[0m\u001b[32m>\n",
      "\u001b[0m\u001b[32m内容\u001b[0m\u001b[32m已经存在, \u001b[0m\u001b[32m无需重复提取\n",
      "\u001b[0m\u001b[32m</nothing> \n",
      "\n",
      "\u001b[0m\u001b[32m不过，根据最新的\u001b[0m\u001b[32m对话内容，实际上\u001b[0m\u001b[32m有新的知识点被\u001b[0m\u001b[32m提及，因此更新\u001b[0m\u001b[32m如下：\n",
      "\n",
      "<question\u001b[0m\u001b[32m>\n",
      "illulfy\u001b[0m\u001b[32m Agent 框\u001b[0m\u001b[32m架支持哪些大\u001b[0m\u001b[32m模型接口？\n",
      "</\u001b[0m\u001b[32mquestion>\n",
      "<knowledge\u001b[0m\u001b[32m>\n",
      "illulfy\u001b[0m\u001b[32m Agent 框\u001b[0m\u001b[32m架支持阿里云\u001b[0m\u001b[32m的通义千\u001b[0m\u001b[32m问、智谱\u001b[0m\u001b[32mAI，以及与\u001b[0m\u001b[32mOpenAI兼容的大\u001b[0m\u001b[32m模型接口。\n",
      "</\u001b[0m\u001b[32mknowledge>\u001b[0m\u001b[32m\u001b[0m\n",
      "[AGENT] \u001b[34m>>> Node 3: Fetch_FAQ\u001b[0m\n",
      "[FAQ] \u001b[34m保存 FAQ 语料：illulfy Agent 框架支持哪些大模型接口？ -> illulfy Agent 框架支持阿里云的通义千问、智谱AI，以及与OpenAI兼容的大模型接口。\u001b[0m\n"
     ]
    },
    {
     "data": {
      "text/plain": [
       "'<nothing>\\n内容已经存在, 无需重复提取\\n</nothing> \\n\\n不过，根据最新的对话内容，实际上有新的知识点被提及，因此更新如下：\\n\\n<question>\\nillulfy Agent 框架支持哪些大模型接口？\\n</question>\\n<knowledge>\\nillulfy Agent 框架支持阿里云的通义千问、智谱AI，以及与OpenAI兼容的大模型接口。\\n</knowledge>'"
      ]
     },
     "execution_count": 6,
     "metadata": {},
     "output_type": "execute_result"
    }
   ],
   "source": [
    "l(\"可以了，你总结吧\")"
   ]
  },
  {
   "cell_type": "markdown",
   "id": "d7a85383-d443-40d8-93ed-98675ac30d01",
   "metadata": {},
   "source": [
    "### 将 FlowAgent 结果作为学习来源"
   ]
  },
  {
   "cell_type": "code",
   "execution_count": 1,
   "id": "7c290d61-7ce9-4ba4-ae71-a1ce896b13ff",
   "metadata": {},
   "outputs": [
    {
     "name": "stdout",
     "output_type": "stream",
     "text": [
      "[AGENT] \u001b[34m>>> Node 1: qwen\u001b[0m\n",
      "[INFO] \u001b[34m记住 10 轮对话\u001b[0m\n",
      "\u001b[32m1.\u001b[0m\u001b[32m Python\u001b[0m\u001b[32m使用\u001b[0m\u001b[32m缩进来定义代码\u001b[0m\u001b[32m块，而不是使用\u001b[0m\u001b[32m大括号或\u001b[0m\u001b[32m关键字。\n",
      "2.\u001b[0m\u001b[32m Python支持动态类型\u001b[0m\u001b[32m，变量在赋\u001b[0m\u001b[32m值时自动获得\u001b[0m\u001b[32m类型，无需事先\u001b[0m\u001b[32m声明。\n",
      "3.\u001b[0m\u001b[32m Python中的列表推\u001b[0m\u001b[32m导式提供了一\u001b[0m\u001b[32m种简洁的方式来创建\u001b[0m\u001b[32m列表，基于已\u001b[0m\u001b[32m有的迭代器生成\u001b[0m\u001b[32m新列表。\u001b[0m\u001b[32m\u001b[0m\n",
      "[USAGE] \u001b[34m{\"input_tokens\": 30, \"output_tokens\": 63, \"total_tokens\": 93}\u001b[0m\n",
      "[AGENT] \u001b[34m>>> Node 2: <lambda>\u001b[0m\n",
      "\u001b[33m1. Python使用缩进来定义代码块，而不是使用大括号或关键字。\n",
      "2. Python支持动态类型，变量在赋值时自动获得类型，无需事先声明。\n",
      "3. Python中的列表推导式提供了一种简洁的方式来创建列表，基于已有的迭代器生成新列表。\n",
      "请帮我总结\u001b[0m[AGENT] \u001b[34m>>> Node 3: hm\u001b[0m\n",
      "[AGENT] \u001b[34m>>> Node 1: Scribe\u001b[0m\n",
      "[INFO] \u001b[34m记住 10 轮对话\u001b[0m\n",
      "\u001b[32m\u001b[0m\u001b[32m<question\u001b[0m\u001b[32m>\n",
      "\u001b[0m\u001b[32mPython\u001b[0m\u001b[32m语言特性\n",
      "</\u001b[0m\u001b[32mquestion>\n",
      "<knowledge\u001b[0m\u001b[32m>\n",
      "Python 使用缩\u001b[0m\u001b[32m进定义代码块\u001b[0m\u001b[32m，而非大括\u001b[0m\u001b[32m号或关键字。\u001b[0m\u001b[32m该语言支持动态\u001b[0m\u001b[32m类型，变量在\u001b[0m\u001b[32m赋值时自动\u001b[0m\u001b[32m获取类型，无需\u001b[0m\u001b[32m显式声明。\u001b[0m\u001b[32m此外，Python 提\u001b[0m\u001b[32m供了列表推\u001b[0m\u001b[32m导式，这是一种\u001b[0m\u001b[32m简洁地根据现有\u001b[0m\u001b[32m迭代器生成新\u001b[0m\u001b[32m列表的方法。\n",
      "</\u001b[0m\u001b[32mknowledge>\u001b[0m\u001b[32m\u001b[0m\n",
      "[USAGE] \u001b[34m{\"input_tokens\": 629, \"output_tokens\": 74, \"total_tokens\": 703}\u001b[0m\n",
      "[AGENT] \u001b[34m>>> Node 3: Fetch_FAQ\u001b[0m\n",
      "[FAQ] \u001b[34m保存知识到[857815-9115-0001]：Python语言特性 -> Python 使用缩进定义代码块，而非大括号或关键字。该语言支持动态类型，变量在赋值时自动获取类型，无需显式声明。此外，Python 提供了列表推导式，这是一种简洁地根据现有迭代器生成新列表的方法。\u001b[0m\n",
      "[INFO] \u001b[34m到达 __End__ 节点，结束\u001b[0m\n",
      "[INFO] \u001b[34m执行完毕，所有节点运行 3 步\u001b[0m\n",
      "[INFO] \u001b[34m到达 __End__ 节点，结束\u001b[0m\n",
      "[INFO] \u001b[34m执行完毕，所有节点运行 4 步\u001b[0m\n"
     ]
    },
    {
     "data": {
      "text/plain": [
       "'<question>\\nPython语言特性\\n</question>\\n<knowledge>\\nPython 使用缩进定义代码块，而非大括号或关键字。该语言支持动态类型，变量在赋值时自动获取类型，无需显式声明。此外，Python 提供了列表推导式，这是一种简洁地根据现有迭代器生成新列表的方法。\\n</knowledge>'"
      ]
     },
     "execution_count": 1,
     "metadata": {},
     "output_type": "execute_result"
    }
   ],
   "source": [
    "from illufly.embeddings import TextEmbeddings\n",
    "from illufly.rag import FaissDB\n",
    "from illufly.chat import ChatQwen, Learn, FlowAgent, End\n",
    "\n",
    "db = FaissDB(embeddings=TextEmbeddings(), top_k=3)\n",
    "flow = FlowAgent(\n",
    "    ChatQwen(name=\"qwen\"),\n",
    "    lambda a: f'{a.last_output}\\n请帮我总结',\n",
    "    Learn(ChatQwen(knowledge=[db]), name=\"hm\"),\n",
    "    End()\n",
    ")\n",
    "\n",
    "flow(\"帮我总结三点python特有的语法，每个点用一句话说明\", verbose=True)"
   ]
  },
  {
   "cell_type": "code",
   "execution_count": 2,
   "id": "9918780f-1d63-4ce0-b2fd-6aaefd45ba8e",
   "metadata": {},
   "outputs": [
    {
     "name": "stdout",
     "output_type": "stream",
     "text": [
      "[AGENT] \u001b[34m>>> Node 1: Scribe\u001b[0m\n",
      "\u001b[32m这是\u001b[0m\u001b[32m您\u001b[0m\u001b[32m明确\u001b[0m\u001b[32m指出\u001b[0m\u001b[32m的知识来源，已\u001b[0m\u001b[32m标记为已有知识\u001b[0m\u001b[32m。我们可以基于这些\u001b[0m\u001b[32m信息进一步讨论 Python\u001b[0m\u001b[32m 的语言特性，\u001b[0m\u001b[32m或者探索其他相关\u001b[0m\u001b[32m话题。您有什么\u001b[0m\u001b[32m具体的问题或想要\u001b[0m\u001b[32m深入了解的内容吗？\u001b[0m\u001b[32m\u001b[0m\n"
     ]
    },
    {
     "data": {
      "text/plain": [
       "'这是您明确指出的知识来源，已标记为已有知识。我们可以基于这些信息进一步讨论 Python 的语言特性，或者探索其他相关话题。您有什么具体的问题或想要深入了解的内容吗？'"
      ]
     },
     "execution_count": 2,
     "metadata": {},
     "output_type": "execute_result"
    }
   ],
   "source": [
    "learn = Learn(ChatQwen(knowledge=[db]), name=\"hm\")\n",
    "learn(\"这是你原先了解的知识，还是我明确指出的知识来源？\")"
   ]
  },
  {
   "cell_type": "code",
   "execution_count": 3,
   "id": "10c40ad6-ca76-4efa-b4cd-2c5029f2b360",
   "metadata": {},
   "outputs": [
    {
     "name": "stdout",
     "output_type": "stream",
     "text": [
      "[AGENT] \u001b[34m>>> Node 1: Scribe\u001b[0m\n",
      "\u001b[32m当然\u001b[0m\u001b[32m可以\u001b[0m\u001b[32m。\u001b[0m\u001b[32m根据\u001b[0m\u001b[32m已有的知识，\u001b[0m\u001b[32mPython 的三个显著\u001b[0m\u001b[32m特点是：\n",
      "\n",
      "1.\u001b[0m\u001b[32m **使用缩进\u001b[0m\u001b[32m定义代码块**\u001b[0m\u001b[32m：Python 用\u001b[0m\u001b[32m缩进来表示代码\u001b[0m\u001b[32m块，而不是像\u001b[0m\u001b[32m C 语言那样\u001b[0m\u001b[32m使用大括号\u001b[0m\u001b[32m `{}` 或者\u001b[0m\u001b[32m Pascal 语言中的\u001b[0m\u001b[32m `begin` 和\u001b[0m\u001b[32m `end` 关\u001b[0m\u001b[32m键字。这种\u001b[0m\u001b[32m设计使得代码更加\u001b[0m\u001b[32m整洁和易读\u001b[0m\u001b[32m。\n",
      "\n",
      "2. **\u001b[0m\u001b[32m支持动态类型**\u001b[0m\u001b[32m：Python 是一种\u001b[0m\u001b[32m动态类型语言，\u001b[0m\u001b[32m这意味着变量在赋\u001b[0m\u001b[32m值时会自动\u001b[0m\u001b[32m获取类型，而\u001b[0m\u001b[32m不需要显式声明\u001b[0m\u001b[32m。例如，你可以\u001b[0m\u001b[32m直接写 `x\u001b[0m\u001b[32m = 5`\u001b[0m\u001b[32m，此时 `x\u001b[0m\u001b[32m` 就是一个\u001b[0m\u001b[32m整数类型；\u001b[0m\u001b[32m如果之后写 `\u001b[0m\u001b[32mx = \"hello\u001b[0m\u001b[32m\"`，`x\u001b[0m\u001b[32m` 就变成了\u001b[0m\u001b[32m字符串类型。\n",
      "\n",
      "3\u001b[0m\u001b[32m. **提供列表\u001b[0m\u001b[32m推导式**\u001b[0m\u001b[32m：列表推导\u001b[0m\u001b[32m式是一种简洁的方法\u001b[0m\u001b[32m，可以根据现有的迭代\u001b[0m\u001b[32m器生成新的列表\u001b[0m\u001b[32m。例如，你可以\u001b[0m\u001b[32m用 `[x *\u001b[0m\u001b[32m x for x in\u001b[0m\u001b[32m range(10\u001b[0m\u001b[32m)]` 生成\u001b[0m\u001b[32m一个包含 0\u001b[0m\u001b[32m 到 9\u001b[0m\u001b[32m 的平方的列表\u001b[0m\u001b[32m。\n",
      "\n",
      "这三个特点使得\u001b[0m\u001b[32m Python 成为一种\u001b[0m\u001b[32m非常灵活且易于\u001b[0m\u001b[32m使用的编程语言。\u001b[0m\u001b[32m您对这些特点\u001b[0m\u001b[32m有更具体的问题\u001b[0m\u001b[32m或需要进一步的例子\u001b[0m\u001b[32m吗？\u001b[0m\u001b[32m\u001b[0m\n"
     ]
    },
    {
     "data": {
      "text/plain": [
       "'当然可以。根据已有的知识，Python 的三个显著特点是：\\n\\n1. **使用缩进定义代码块**：Python 用缩进来表示代码块，而不是像 C 语言那样使用大括号 `{}` 或者 Pascal 语言中的 `begin` 和 `end` 关键字。这种设计使得代码更加整洁和易读。\\n\\n2. **支持动态类型**：Python 是一种动态类型语言，这意味着变量在赋值时会自动获取类型，而不需要显式声明。例如，你可以直接写 `x = 5`，此时 `x` 就是一个整数类型；如果之后写 `x = \"hello\"`，`x` 就变成了字符串类型。\\n\\n3. **提供列表推导式**：列表推导式是一种简洁的方法，可以根据现有的迭代器生成新的列表。例如，你可以用 `[x * x for x in range(10)]` 生成一个包含 0 到 9 的平方的列表。\\n\\n这三个特点使得 Python 成为一种非常灵活且易于使用的编程语言。您对这些特点有更具体的问题或需要进一步的例子吗？'"
      ]
     },
     "execution_count": 3,
     "metadata": {},
     "output_type": "execute_result"
    }
   ],
   "source": [
    "learn(\"你能给我讲讲 python 的三个特点?\")"
   ]
  },
  {
   "cell_type": "code",
   "execution_count": 4,
   "id": "e0d78d6d-16c2-428a-87c9-e9bb454822b4",
   "metadata": {},
   "outputs": [
    {
     "name": "stdout",
     "output_type": "stream",
     "text": [
      "[AGENT] \u001b[34m>>> Node 1: Scribe\u001b[0m\n",
      "\u001b[32m这些特点\u001b[0m\u001b[32m确实\u001b[0m\u001b[32m是从\u001b[0m\u001b[32m您提供的已有知识\u001b[0m\u001b[32m中提取和扩展\u001b[0m\u001b[32m的。为了确保\u001b[0m\u001b[32m清晰，以下是根据\u001b[0m\u001b[32m已有知识提炼出\u001b[0m\u001b[32m的 Python 的三个\u001b[0m\u001b[32m特点：\n",
      "\n",
      "1.\u001b[0m\u001b[32m **使用缩进\u001b[0m\u001b[32m定义代码块**\u001b[0m\u001b[32m：Python 用\u001b[0m\u001b[32m缩进来表示代码\u001b[0m\u001b[32m块，而不是大\u001b[0m\u001b[32m括号 `{}`\u001b[0m\u001b[32m 或关键字。\n",
      "2\u001b[0m\u001b[32m. **支持动态\u001b[0m\u001b[32m类型**：变量\u001b[0m\u001b[32m在赋值时\u001b[0m\u001b[32m自动获取类型，\u001b[0m\u001b[32m无需显式声明\u001b[0m\u001b[32m。\n",
      "3. **\u001b[0m\u001b[32m提供列表推导\u001b[0m\u001b[32m式**：这是一种\u001b[0m\u001b[32m简洁地根据现有\u001b[0m\u001b[32m迭代器生成新\u001b[0m\u001b[32m列表的方法。\n",
      "\n",
      "这些\u001b[0m\u001b[32m特点已经包含在\u001b[0m\u001b[32m您提供的已有知识\u001b[0m\u001b[32m中。如果您有\u001b[0m\u001b[32m其他问题或需要\u001b[0m\u001b[32m进一步讨论，请告诉我\u001b[0m\u001b[32m。\u001b[0m\u001b[32m\u001b[0m\n"
     ]
    },
    {
     "data": {
      "text/plain": [
       "'这些特点确实是从您提供的已有知识中提取和扩展的。为了确保清晰，以下是根据已有知识提炼出的 Python 的三个特点：\\n\\n1. **使用缩进定义代码块**：Python 用缩进来表示代码块，而不是大括号 `{}` 或关键字。\\n2. **支持动态类型**：变量在赋值时自动获取类型，无需显式声明。\\n3. **提供列表推导式**：这是一种简洁地根据现有迭代器生成新列表的方法。\\n\\n这些特点已经包含在您提供的已有知识中。如果您有其他问题或需要进一步讨论，请告诉我。'"
      ]
     },
     "execution_count": 4,
     "metadata": {},
     "output_type": "execute_result"
    }
   ],
   "source": [
    "learn(\"这是已有知识吗？\")"
   ]
  },
  {
   "cell_type": "code",
   "execution_count": null,
   "id": "65e65e8a-5de1-4968-9fff-80527b0a9e4e",
   "metadata": {},
   "outputs": [],
   "source": []
  }
 ],
 "metadata": {
  "kernelspec": {
   "display_name": "textlong-same-ipykernel",
   "language": "python",
   "name": "textlong-same-ipykernel"
  },
  "language_info": {
   "codemirror_mode": {
    "name": "ipython",
    "version": 3
   },
   "file_extension": ".py",
   "mimetype": "text/x-python",
   "name": "python",
   "nbconvert_exporter": "python",
   "pygments_lexer": "ipython3",
   "version": "3.10.0"
  }
 },
 "nbformat": 4,
 "nbformat_minor": 5
}
