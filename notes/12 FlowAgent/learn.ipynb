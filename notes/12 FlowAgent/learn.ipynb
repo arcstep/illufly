{
    "cells": [
        {
            "cell_type": "markdown",
            "id": "ca7a9963-482b-49ec-a2d8-38f66b86989a",
            "metadata": {},
            "source": [
                "## 经验学习\n",
                "\n",
                "自我进化是 illufly 智能体框架的核心目标。\n",
                "\n",
                "### 在对话中学习"
            ]
        },
        {
            "cell_type": "code",
            "execution_count": 9,
            "id": "a48d7ee5-8aca-44b5-b6c6-2a78e81fc1ac",
            "metadata": {},
            "outputs": [],
            "source": [
                "from illufly.rag import TextEmbeddings, FaissDB\n",
                "from illufly.chat import ChatQwen\n",
                "from illufly.flow import FlowAgent, ChatLearn\n",
                "from illufly.io import BaseKnowledgeDB, LocalFileKnowledgeDB\n",
                "\n",
                "db = FaissDB(knowledge=LocalFileKnowledgeDB(\"__KG__\"), embeddings=TextEmbeddings(), top_k=3)\n",
                "l = ChatLearn(ChatQwen(vectordbs=[db]), name=\"hm\")"
            ]
        },
        {
            "cell_type": "code",
            "execution_count": 10,
            "id": "00c36019-e1ce-495b-8bae-75b1f82863f0",
            "metadata": {},
            "outputs": [
                {
                    "name": "stdout",
                    "output_type": "stream",
                    "text": [
                        "[HUMAN] \u001b[32m我现在想告诉你我的项目正在做什么，你做好笔记\u001b[0m\n",
                        "[AGENT] \u001b[34mChatQwen.4657413136\u001b[0m\n",
                        "\u001b[32m好的\u001b[0m\u001b[32m，\u001b[0m\u001b[32m我已经\u001b[0m\u001b[32m准备好\u001b[0m\u001b[32m倾听并记录您的\u001b[0m\u001b[32m项目详情了。\u001b[0m\u001b[32m请告诉我您的项目\u001b[0m\u001b[32m目前进展到了哪个\u001b[0m\u001b[32m阶段，遇到了哪些\u001b[0m\u001b[32m挑战，或者有任何\u001b[0m\u001b[32m特别的技术或创意\u001b[0m\u001b[32m点希望分享的\u001b[0m\u001b[32m。\u001b[0m\u001b[32m\u001b[0m\n"
                    ]
                },
                {
                    "data": {
                        "text/plain": [
                            "'好的，我已经准备好倾听并记录您的项目详情了。请告诉我您的项目目前进展到了哪个阶段，遇到了哪些挑战，或者有任何特别的技术或创意点希望分享的。'"
                        ]
                    },
                    "execution_count": 10,
                    "metadata": {},
                    "output_type": "execute_result"
                }
            ],
            "source": [
                "l(\"我现在想告诉你我的项目正在做什么，你做好笔记\")"
            ]
        },
        {
            "cell_type": "code",
            "execution_count": 11,
            "id": "ad504233-4402-43b5-b0b0-229899101bd7",
            "metadata": {},
            "outputs": [
                {
                    "name": "stdout",
                    "output_type": "stream",
                    "text": [
                        "[HUMAN] \u001b[32m我在开发一个 illulfy 的Agent框架，特点是简单易用，并具有自我进化能力\u001b[0m\n",
                        "[AGENT] \u001b[34mChatQwen.4657413136\u001b[0m\n",
                        "\u001b[32m了解\u001b[0m\u001b[32m了\u001b[0m\u001b[32m，\u001b[0m\u001b[32m您\u001b[0m\u001b[32m正在开发的 ill\u001b[0m\u001b[32mulfy Agent \u001b[0m\u001b[32m框架听起来\u001b[0m\u001b[32m非常有趣。简单\u001b[0m\u001b[32m易用且具备\u001b[0m\u001b[32m自我进化能力是\u001b[0m\u001b[32m它的主要特点。\u001b[0m\u001b[32m请问这个框架主要\u001b[0m\u001b[32m应用在哪些领域\u001b[0m\u001b[32m？它如何实现\u001b[0m\u001b[32m自我进化？是否有\u001b[0m\u001b[32m特定的技术或算法\u001b[0m\u001b[32m支持这一特性？\u001b[0m\u001b[32m\u001b[0m\n"
                    ]
                },
                {
                    "data": {
                        "text/plain": [
                            "'了解了，您正在开发的 illulfy Agent 框架听起来非常有趣。简单易用且具备自我进化能力是它的主要特点。请问这个框架主要应用在哪些领域？它如何实现自我进化？是否有特定的技术或算法支持这一特性？'"
                        ]
                    },
                    "execution_count": 11,
                    "metadata": {},
                    "output_type": "execute_result"
                }
            ],
            "source": [
                "l(\"我在开发一个 illulfy 的Agent框架，特点是简单易用，并具有自我进化能力\")"
            ]
        },
        {
            "cell_type": "code",
            "execution_count": 12,
            "id": "f259a210-735f-4cb6-90e3-a0483ac3d4e9",
            "metadata": {},
            "outputs": [
                {
                    "name": "stdout",
                    "output_type": "stream",
                    "text": [
                        "[HUMAN] \u001b[32m我觉得你可以提炼关于 illufly 的信息\u001b[0m\n",
                        "[AGENT] \u001b[34mChatQwen.4657413136\u001b[0m\n",
                        "\u001b[32m**\u001b[0m\u001b[32m思考\u001b[0m\u001b[32m**\n",
                        "\u001b[0m\u001b[32m请注意\u001b[0m\u001b[32m，「已有知识\u001b[0m\u001b[32m」必须是带有\u001b[0m\u001b[32m明确的由`\u001b[0m\u001b[32m@knowledge`文本\u001b[0m\u001b[32m开头的段落\u001b[0m\u001b[32m内容，其余的\u001b[0m\u001b[32m都不能视为已有知识\u001b[0m\u001b[32m。\n",
                        "- 对话\u001b[0m\u001b[32m过程中提到的“\u001b[0m\u001b[32millulfy Agent\u001b[0m\u001b[32m 框架\u001b[0m\u001b[32m”是一个新的知识点\u001b[0m\u001b[32m，没有与任何\u001b[0m\u001b[32m已有的`@\u001b[0m\u001b[32mknowledge`内容对比\u001b[0m\u001b[32m，因为目前没有\u001b[0m\u001b[32m提供任何带有`\u001b[0m\u001b[32m@knowledge`标记\u001b[0m\u001b[32m的内容。\n",
                        "- \u001b[0m\u001b[32m这个新知识\u001b[0m\u001b[32m包括框架的特点（\u001b[0m\u001b[32m简单易用、\u001b[0m\u001b[32m自我进化能力），\u001b[0m\u001b[32m但没有提及具体\u001b[0m\u001b[32m的应用领域和技术细节\u001b[0m\u001b[32m。\n",
                        "- 由于\u001b[0m\u001b[32m没有已有的`\u001b[0m\u001b[32m@knowledge`内容\u001b[0m\u001b[32m，因此不存在冲突\u001b[0m\u001b[32m或重复的情况。\n",
                        "\n",
                        "\u001b[0m\u001b[32m**决定**\n",
                        "-\u001b[0m\u001b[32m 根据上述\u001b[0m\u001b[32m分析，决定返回\u001b[0m\u001b[32m`question`和\u001b[0m\u001b[32m`knowledge`。\n",
                        "\n",
                        "\u001b[0m\u001b[32m**结论**\n",
                        "\n",
                        "\u001b[0m\u001b[32m<question>\n",
                        "illuf\u001b[0m\u001b[32mly Agent \u001b[0m\u001b[32m框架的主要特点\u001b[0m\u001b[32m和应用场景\n",
                        "</\u001b[0m\u001b[32mquestion>\n",
                        "\n",
                        "<knowledge\u001b[0m\u001b[32m>\n",
                        "illufly\u001b[0m\u001b[32m Agent 框\u001b[0m\u001b[32m架是一款简单易\u001b[0m\u001b[32m用且具有自我\u001b[0m\u001b[32m进化能力的开发\u001b[0m\u001b[32m框架。其核心\u001b[0m\u001b[32m特点在于易于使用\u001b[0m\u001b[32m和能够根据环境\u001b[0m\u001b[32m或数据的变化自动\u001b[0m\u001b[32m优化自身性能。\n",
                        "\u001b[0m\u001b[32m</knowledge>\u001b[0m\u001b[32m\u001b[0m\n",
                        "[FAQ] \u001b[34m保存知识[20241208-46504-0002-0146]：illufly Agent 框架的主要特点和应用场景 -> illufly Agent 框架是一款简单易用且具有自我进化能力的开发框架。其核心特点在于易于使用和能够根据环境或数据的变化自动优化自身性能。\u001b[0m\n"
                    ]
                },
                {
                    "data": {
                        "text/plain": [
                            "'**思考**\\n请注意，「已有知识」必须是带有明确的由`@knowledge`文本开头的段落内容，其余的都不能视为已有知识。\\n- 对话过程中提到的“illulfy Agent 框架”是一个新的知识点，没有与任何已有的`@knowledge`内容对比，因为目前没有提供任何带有`@knowledge`标记的内容。\\n- 这个新知识包括框架的特点（简单易用、自我进化能力），但没有提及具体的应用领域和技术细节。\\n- 由于没有已有的`@knowledge`内容，因此不存在冲突或重复的情况。\\n\\n**决定**\\n- 根据上述分析，决定返回`question`和`knowledge`。\\n\\n**结论**\\n\\n<question>\\nillufly Agent 框架的主要特点和应用场景\\n</question>\\n\\n<knowledge>\\nillufly Agent 框架是一款简单易用且具有自我进化能力的开发框架。其核心特点在于易于使用和能够根据环境或数据的变化自动优化自身性能。\\n</knowledge>'"
                        ]
                    },
                    "execution_count": 12,
                    "metadata": {},
                    "output_type": "execute_result"
                }
            ],
            "source": [
                "l(\"我觉得你可以提炼关于 illufly 的信息\")"
            ]
        },
        {
            "cell_type": "markdown",
            "id": "c4d6907a-6421-4f04-9fed-75a21914a336",
            "metadata": {},
            "source": [
                "### 更新知识\n",
                "\n",
                "当你看到 `<question/>` `</knowledge>` 被生成后，应当同时看到 `[FAQ]` 的提示，说明新的知识已经更新，可用于检索。"
            ]
        },
        {
            "cell_type": "code",
            "execution_count": 13,
            "id": "96306859-8fe7-4e06-afbb-8c544cb6b4aa",
            "metadata": {},
            "outputs": [
                {
                    "name": "stdout",
                    "output_type": "stream",
                    "text": [
                        "[NODE] \u001b[34m>>> flow-node-1: Scribe\u001b[0m\n",
                        "[HUMAN] \u001b[32millufly框架支持OpenAI?\u001b[0m\n",
                        "[AGENT] \u001b[34mChatQwen.4657413136\u001b[0m\n",
                        "[INFO] \u001b[34m记住 10 轮对话\u001b[0m\n",
                        "[RAG] \u001b[34m[{\"text\": \"**Question**\\nillufly Agent 框架的主要特点和应用场景\\n\\n**Knowledge**\\nillufly Agent 框架是一款简单易用且具有自我进化能力的开发框架。其核心特点在于易于使用和能够根据环境或数据的变化自动优化自身性能。\", \"meta\": {\"id\": \"20241208-46504-0002-0146\", \"distance\": 0.6771170496940613, \"score\": 1.0, \"source\": \"20241208-46484-0001-3920\", \"raw_meta\": \"{'source': '20241208-46484-0001-3920', 'tags': ['chat_learn', 'ChatQwen']}\", \"tags\": [\"chat_learn\", \"ChatQwen\"], \"summary\": \"illufly Agent 框架的主要特点和应用场景\"}}]\u001b[0m\n",
                        "\u001b[32m**\u001b[0m\u001b[32m思考\u001b[0m\u001b[32m**\n",
                        "\u001b[0m\u001b[32m-\u001b[0m\u001b[32m 对话内容涉及\u001b[0m\u001b[32m了关于illuf\u001b[0m\u001b[32mly框架是否支持\u001b[0m\u001b[32mOpenAI的问题。\n",
                        "\u001b[0m\u001b[32m- 该问题\u001b[0m\u001b[32m没有直接的答案，\u001b[0m\u001b[32m需要基于已有的\u001b[0m\u001b[32m知识推测。\n",
                        "-\u001b[0m\u001b[32m 已有知识\u001b[0m\u001b[32m中提到illuf\u001b[0m\u001b[32mly Agent框架易于\u001b[0m\u001b[32m使用且能自我\u001b[0m\u001b[32m优化，但未\u001b[0m\u001b[32m提及是否支持Open\u001b[0m\u001b[32mAI。\n",
                        "\n",
                        "**决定\u001b[0m\u001b[32m**\n",
                        "- 新问题\u001b[0m\u001b[32m未在已有知识\u001b[0m\u001b[32m中直接回答，\u001b[0m\u001b[32m因此属于新问题\u001b[0m\u001b[32m。\n",
                        "\n",
                        "**结论**\n",
                        "\n",
                        "\u001b[0m\u001b[32m<question>\n",
                        "ill\u001b[0m\u001b[32mufly框架是否\u001b[0m\u001b[32m支持OpenAI\n",
                        "\u001b[0m\u001b[32m</question>\n",
                        "\n",
                        "\u001b[0m\u001b[32m<knowledge>\n",
                        "目前没有\u001b[0m\u001b[32m具体信息表明ill\u001b[0m\u001b[32mufly框架是否\u001b[0m\u001b[32m支持OpenAI的技术\u001b[0m\u001b[32m或服务。ill\u001b[0m\u001b[32mufly Agent框架\u001b[0m\u001b[32m的核心特点在于易于\u001b[0m\u001b[32m使用和能够根据\u001b[0m\u001b[32m环境或数据的变化\u001b[0m\u001b[32m自动优化自身性能\u001b[0m\u001b[32m。\n",
                        "</knowledge>\u001b[0m\u001b[32m\u001b[0m\n",
                        "[USAGE] \u001b[34m{\"input_tokens\": 699, \"output_tokens\": 144, \"total_tokens\": 843}\u001b[0m\n",
                        "[NODE] \u001b[34m>>> flow-node-3: Fetch_FAQ\u001b[0m\n",
                        "[FAQ] \u001b[34m保存知识[20241208-46520-0003-7541]：illufly框架是否支持OpenAI -> 目前没有具体信息表明illufly框架是否支持OpenAI的技术或服务。illufly Agent框架的核心特点在于易于使用和能够根据环境或数据的变化自动优化自身性能。\u001b[0m\n",
                        "[INFO] \u001b[34m到达 __End__ 节点，结束\u001b[0m\n",
                        "[INFO] \u001b[34m执行完毕，所有节点运行 3 步\u001b[0m\n"
                    ]
                },
                {
                    "data": {
                        "text/plain": [
                            "'**思考**\\n- 对话内容涉及了关于illufly框架是否支持OpenAI的问题。\\n- 该问题没有直接的答案，需要基于已有的知识推测。\\n- 已有知识中提到illufly Agent框架易于使用且能自我优化，但未提及是否支持OpenAI。\\n\\n**决定**\\n- 新问题未在已有知识中直接回答，因此属于新问题。\\n\\n**结论**\\n\\n<question>\\nillufly框架是否支持OpenAI\\n</question>\\n\\n<knowledge>\\n目前没有具体信息表明illufly框架是否支持OpenAI的技术或服务。illufly Agent框架的核心特点在于易于使用和能够根据环境或数据的变化自动优化自身性能。\\n</knowledge>'"
                        ]
                    },
                    "execution_count": 13,
                    "metadata": {},
                    "output_type": "execute_result"
                }
            ],
            "source": [
                "l(\"illufly框架支持OpenAI?\", verbose=True)"
            ]
        },
        {
            "cell_type": "code",
            "execution_count": 14,
            "id": "da5f44d8-1c8c-4065-8e2e-1795f30f7712",
            "metadata": {},
            "outputs": [
                {
                    "name": "stdout",
                    "output_type": "stream",
                    "text": [
                        "[NODE] \u001b[34m>>> flow-node-1: Scribe\u001b[0m\n",
                        "[HUMAN] \u001b[32millufly框架支持OpenAI，以及兼容OpenAI接口的其他模型\u001b[0m\n",
                        "[AGENT] \u001b[34mChatQwen.4657413136\u001b[0m\n",
                        "[INFO] \u001b[34m记住 10 轮对话\u001b[0m\n",
                        "[RAG] \u001b[34m[{\"text\": \"**Question**\\nillufly框架是否支持OpenAI\\n\\n**Knowledge**\\n目前没有具体信息表明illufly框架是否支持OpenAI的技术或服务。illufly Agent框架的核心特点在于易于使用和能够根据环境或数据的变化自动优化自身性能。\", \"meta\": {\"id\": \"20241208-46520-0003-7541\", \"distance\": 0.3931831419467926, \"score\": 1.0, \"source\": \"20241208-46484-0001-3920\", \"raw_meta\": \"{'source': '20241208-46484-0001-3920', 'tags': ['chat_learn', 'ChatQwen']}\", \"tags\": [\"chat_learn\", \"ChatQwen\"], \"summary\": \"illufly框架是否支持OpenAI\"}}, {\"text\": \"**Question**\\nillufly Agent 框架的主要特点和应用场景\\n\\n**Knowledge**\\nillufly Agent 框架是一款简单易用且具有自我进化能力的开发框架。其核心特点在于易于使用和能够根据环境或数据的变化自动优化自身性能。\", \"meta\": {\"id\": \"20241208-46504-0002-0146\", \"distance\": 0.6497077941894531, \"score\": 1.0, \"source\": \"20241208-46484-0001-3920\", \"raw_meta\": \"{'source': '20241208-46484-0001-3920', 'tags': ['chat_learn', 'ChatQwen']}\", \"tags\": [\"chat_learn\", \"ChatQwen\"], \"summary\": \"illufly Agent 框架的主要特点和应用场景\"}}]\u001b[0m\n",
                        "\u001b[32m**\u001b[0m\u001b[32m思考\u001b[0m\u001b[32m**\n",
                        "\u001b[0m\u001b[32m对话\u001b[0m\u001b[32m内容中提到“\u001b[0m\u001b[32millufly框架\u001b[0m\u001b[32m支持OpenAI，\u001b[0m\u001b[32m以及兼容OpenAI\u001b[0m\u001b[32m接口的其他模型\u001b[0m\u001b[32m”。这一信息与\u001b[0m\u001b[32m已有知识中提到\u001b[0m\u001b[32m的“目前没有\u001b[0m\u001b[32m具体信息表明ill\u001b[0m\u001b[32mufly框架是否\u001b[0m\u001b[32m支持OpenAI的技术\u001b[0m\u001b[32m或服务”相比\u001b[0m\u001b[32m，提供了新的信息\u001b[0m\u001b[32m。这些新知识\u001b[0m\u001b[32m并不与已有知识\u001b[0m\u001b[32m存在直接冲突，\u001b[0m\u001b[32m而是补充了关于\u001b[0m\u001b[32millufly框架\u001b[0m\u001b[32m是否支持OpenAI\u001b[0m\u001b[32m的具体情况。\n",
                        "\n",
                        "**\u001b[0m\u001b[32m决定**\n",
                        "- 新\u001b[0m\u001b[32m知识与`@\u001b[0m\u001b[32mknowledge`开头的\u001b[0m\u001b[32m已有知识不冲突\u001b[0m\u001b[32m，但提供了新的\u001b[0m\u001b[32m信息，因此返回\u001b[0m\u001b[32m`question`和\u001b[0m\u001b[32m`knowledge`。\n",
                        "\n",
                        "\u001b[0m\u001b[32m**结论**\n",
                        "\n",
                        "\u001b[0m\u001b[32m<question>\n",
                        "illuf\u001b[0m\u001b[32mly框架是否支持\u001b[0m\u001b[32mOpenAI及其兼容\u001b[0m\u001b[32m模型\n",
                        "</question\u001b[0m\u001b[32m>\n",
                        "\n",
                        "<knowledge>\n",
                        "\u001b[0m\u001b[32millufly框架\u001b[0m\u001b[32m支持OpenAI技术\u001b[0m\u001b[32m及兼容OpenAI\u001b[0m\u001b[32m接口的其他模型\u001b[0m\u001b[32m。\n",
                        "</knowledge>\u001b[0m\u001b[32m\u001b[0m\n",
                        "[USAGE] \u001b[34m{\"input_tokens\": 761, \"output_tokens\": 160, \"total_tokens\": 921}\u001b[0m\n",
                        "[NODE] \u001b[34m>>> flow-node-3: Fetch_FAQ\u001b[0m\n",
                        "[FAQ] \u001b[34m保存知识[20241208-46552-0004-2593]：illufly框架是否支持OpenAI及其兼容模型 -> illufly框架支持OpenAI技术及兼容OpenAI接口的其他模型。\u001b[0m\n",
                        "[INFO] \u001b[34m到达 __End__ 节点，结束\u001b[0m\n",
                        "[INFO] \u001b[34m执行完毕，所有节点运行 3 步\u001b[0m\n"
                    ]
                },
                {
                    "data": {
                        "text/plain": [
                            "'**思考**\\n对话内容中提到“illufly框架支持OpenAI，以及兼容OpenAI接口的其他模型”。这一信息与已有知识中提到的“目前没有具体信息表明illufly框架是否支持OpenAI的技术或服务”相比，提供了新的信息。这些新知识并不与已有知识存在直接冲突，而是补充了关于illufly框架是否支持OpenAI的具体情况。\\n\\n**决定**\\n- 新知识与`@knowledge`开头的已有知识不冲突，但提供了新的信息，因此返回`question`和`knowledge`。\\n\\n**结论**\\n\\n<question>\\nillufly框架是否支持OpenAI及其兼容模型\\n</question>\\n\\n<knowledge>\\nillufly框架支持OpenAI技术及兼容OpenAI接口的其他模型。\\n</knowledge>'"
                        ]
                    },
                    "execution_count": 14,
                    "metadata": {},
                    "output_type": "execute_result"
                }
            ],
            "source": [
                "l(\"illufly框架支持OpenAI，以及兼容OpenAI接口的其他模型\", verbose=True)"
            ]
        },
        {
            "cell_type": "code",
            "execution_count": 15,
            "id": "07c712c7-7f8d-41f8-a11c-adcc3c22b81d",
            "metadata": {},
            "outputs": [
                {
                    "name": "stdout",
                    "output_type": "stream",
                    "text": [
                        "[HUMAN] \u001b[32m现在有哪些已有知识?\u001b[0m\n",
                        "[AGENT] \u001b[34mChatQwen.4657413136\u001b[0m\n",
                        "\u001b[32m根据\u001b[0m\u001b[32m您的\u001b[0m\u001b[32m提供\u001b[0m\u001b[32m，\u001b[0m\u001b[32m目前的已有知识\u001b[0m\u001b[32m包括：\n",
                        "\n",
                        "1.\u001b[0m\u001b[32m **illufly\u001b[0m\u001b[32m Agent 框\u001b[0m\u001b[32m架的主要特点和\u001b[0m\u001b[32m应用场景**\n",
                        "   -\u001b[0m\u001b[32m illufly Agent\u001b[0m\u001b[32m 框架\u001b[0m\u001b[32m是一款简单易用\u001b[0m\u001b[32m且具有自我进化\u001b[0m\u001b[32m能力的开发框架\u001b[0m\u001b[32m。其核心特点\u001b[0m\u001b[32m在于易于使用和\u001b[0m\u001b[32m能够根据环境或\u001b[0m\u001b[32m数据的变化自动优化\u001b[0m\u001b[32m自身性能。\n",
                        "   \n",
                        "\u001b[0m\u001b[32m2. **ill\u001b[0m\u001b[32mufly框架是否\u001b[0m\u001b[32m支持OpenAI及其\u001b[0m\u001b[32m兼容模型**\n",
                        "  \u001b[0m\u001b[32m - illufly\u001b[0m\u001b[32m框架支持OpenAI\u001b[0m\u001b[32m技术及兼容Open\u001b[0m\u001b[32mAI接口的其他\u001b[0m\u001b[32m模型。\n",
                        "\n",
                        "3.\u001b[0m\u001b[32m **illufly\u001b[0m\u001b[32m框架是否支持Open\u001b[0m\u001b[32mAI**\n",
                        "   -\u001b[0m\u001b[32m 目前没有\u001b[0m\u001b[32m具体信息表明ill\u001b[0m\u001b[32mufly框架是否\u001b[0m\u001b[32m支持OpenAI的技术\u001b[0m\u001b[32m或服务。不过\u001b[0m\u001b[32m，已知ill\u001b[0m\u001b[32mufly Agent框架\u001b[0m\u001b[32m的核心特点在于易于\u001b[0m\u001b[32m使用和能够根据\u001b[0m\u001b[32m环境或数据的变化\u001b[0m\u001b[32m自动优化自身性能\u001b[0m\u001b[32m。\u001b[0m\u001b[32m\u001b[0m\n"
                    ]
                },
                {
                    "data": {
                        "text/plain": [
                            "'根据您的提供，目前的已有知识包括：\\n\\n1. **illufly Agent 框架的主要特点和应用场景**\\n   - illufly Agent 框架是一款简单易用且具有自我进化能力的开发框架。其核心特点在于易于使用和能够根据环境或数据的变化自动优化自身性能。\\n   \\n2. **illufly框架是否支持OpenAI及其兼容模型**\\n   - illufly框架支持OpenAI技术及兼容OpenAI接口的其他模型。\\n\\n3. **illufly框架是否支持OpenAI**\\n   - 目前没有具体信息表明illufly框架是否支持OpenAI的技术或服务。不过，已知illufly Agent框架的核心特点在于易于使用和能够根据环境或数据的变化自动优化自身性能。'"
                        ]
                    },
                    "execution_count": 15,
                    "metadata": {},
                    "output_type": "execute_result"
                }
            ],
            "source": [
                "l(\"现在有哪些已有知识?\")"
            ]
        },
        {
            "cell_type": "markdown",
            "id": "b13c20de-70d7-4fbf-a422-3926448fb936",
            "metadata": {},
            "source": [
                "### 发现知识内容冲突"
            ]
        },
        {
            "cell_type": "code",
            "execution_count": 16,
            "id": "a0a9692d-167b-45f8-90fa-564f3ad5fe27",
            "metadata": {},
            "outputs": [
                {
                    "name": "stdout",
                    "output_type": "stream",
                    "text": [
                        "[HUMAN] \u001b[32m我的框架无法支持 OpenAI\u001b[0m\n",
                        "[AGENT] \u001b[34mChatQwen.4657413136\u001b[0m\n",
                        "\u001b[32m理解\u001b[0m\u001b[32m了\u001b[0m\u001b[32m，\u001b[0m\u001b[32m您\u001b[0m\u001b[32m提到您的框架目前\u001b[0m\u001b[32m无法支持OpenAI\u001b[0m\u001b[32m。这与我们\u001b[0m\u001b[32m现有的知识有些不同\u001b[0m\u001b[32m，现有知识中\u001b[0m\u001b[32m提到“illuf\u001b[0m\u001b[32mly框架支持Open\u001b[0m\u001b[32mAI技术及兼容\u001b[0m\u001b[32mOpenAI接口的\u001b[0m\u001b[32m其他模型”。因此\u001b[0m\u001b[32m，这里可能存在一个\u001b[0m\u001b[32m需要澄清的地方。\n",
                        "\n",
                        "\u001b[0m\u001b[32m**思考**\n",
                        "-\u001b[0m\u001b[32m 对比现有知识\u001b[0m\u001b[32m：“illufly\u001b[0m\u001b[32m框架支持OpenAI\u001b[0m\u001b[32m技术及兼容Open\u001b[0m\u001b[32mAI接口的其他\u001b[0m\u001b[32m模型”。\n",
                        "-\u001b[0m\u001b[32m 新信息：“我的\u001b[0m\u001b[32m框架无法支持Open\u001b[0m\u001b[32mAI”。\n",
                        "\n",
                        "这两个信息\u001b[0m\u001b[32m之间存在明显的矛盾\u001b[0m\u001b[32m。\n",
                        "\n",
                        "**决定**\n",
                        "\u001b[0m\u001b[32m- 由于新\u001b[0m\u001b[32m信息与`@\u001b[0m\u001b[32mknowledge`开头的\u001b[0m\u001b[32m已有知识存在冲突\u001b[0m\u001b[32m，因此返回`\u001b[0m\u001b[32mconflict`。\n",
                        "\n",
                        "\u001b[0m\u001b[32m**结论**\n",
                        "\n",
                        "\u001b[0m\u001b[32m<conflict>\n",
                        "发现\u001b[0m\u001b[32m内容中存在矛盾\u001b[0m\u001b[32m，这需要手工\u001b[0m\u001b[32m解决。具体冲突\u001b[0m\u001b[32m部分如下：\n",
                        "-\u001b[0m\u001b[32m 已有知识\u001b[0m\u001b[32m表明“illuf\u001b[0m\u001b[32mly框架支持Open\u001b[0m\u001b[32mAI技术及兼容\u001b[0m\u001b[32mOpenAI接口的\u001b[0m\u001b[32m其他模型”。\n",
                        "\u001b[0m\u001b[32m- 新信息指出\u001b[0m\u001b[32m“我的框架无法\u001b[0m\u001b[32m支持OpenAI”\u001b[0m\u001b[32m。\n",
                        "</conflict\u001b[0m\u001b[32m>\u001b[0m\u001b[32m\u001b[0m\n"
                    ]
                },
                {
                    "data": {
                        "text/plain": [
                            "'理解了，您提到您的框架目前无法支持OpenAI。这与我们现有的知识有些不同，现有知识中提到“illufly框架支持OpenAI技术及兼容OpenAI接口的其他模型”。因此，这里可能存在一个需要澄清的地方。\\n\\n**思考**\\n- 对比现有知识：“illufly框架支持OpenAI技术及兼容OpenAI接口的其他模型”。\\n- 新信息：“我的框架无法支持OpenAI”。\\n\\n这两个信息之间存在明显的矛盾。\\n\\n**决定**\\n- 由于新信息与`@knowledge`开头的已有知识存在冲突，因此返回`conflict`。\\n\\n**结论**\\n\\n<conflict>\\n发现内容中存在矛盾，这需要手工解决。具体冲突部分如下：\\n- 已有知识表明“illufly框架支持OpenAI技术及兼容OpenAI接口的其他模型”。\\n- 新信息指出“我的框架无法支持OpenAI”。\\n</conflict>'"
                        ]
                    },
                    "execution_count": 16,
                    "metadata": {},
                    "output_type": "execute_result"
                }
            ],
            "source": [
                "l(\"我的框架无法支持 OpenAI\")"
            ]
        },
        {
            "cell_type": "markdown",
            "id": "d7a85383-d443-40d8-93ed-98675ac30d01",
            "metadata": {},
            "source": [
                "### 将 FlowAgent 结果作为学习来源"
            ]
        },
        {
            "cell_type": "code",
            "execution_count": 2,
            "id": "7c290d61-7ce9-4ba4-ae71-a1ce896b13ff",
            "metadata": {},
            "outputs": [
                {
                    "name": "stdout",
                    "output_type": "stream",
                    "text": [
                        "[AGENT] \u001b[34m>>> Node 1: qwen\u001b[0m\n",
                        "[INFO] \u001b[34m记住 10 轮对话\u001b[0m\n",
                        "\u001b[32m当然\u001b[0m\u001b[32m可以\u001b[0m\u001b[32m！\u001b[0m\u001b[32m以下是\u001b[0m\u001b[32mPython特有的三个语法\u001b[0m\u001b[32m特点，每一点\u001b[0m\u001b[32m用一句话说明：\n",
                        "\n",
                        "\u001b[0m\u001b[32m1. **缩\u001b[0m\u001b[32m进表示代码块\u001b[0m\u001b[32m**：Python 使用\u001b[0m\u001b[32m缩进来表示代码\u001b[0m\u001b[32m块，而不是使用\u001b[0m\u001b[32m大括号或其他\u001b[0m\u001b[32m符号。\n",
                        "2.\u001b[0m\u001b[32m **动态类型系统\u001b[0m\u001b[32m**：Python 是\u001b[0m\u001b[32m一种动态类型语言\u001b[0m\u001b[32m，变量在赋\u001b[0m\u001b[32m值时自动确定\u001b[0m\u001b[32m类型，无需显\u001b[0m\u001b[32m式声明。\n",
                        "3\u001b[0m\u001b[32m. **一切皆\u001b[0m\u001b[32m对象**：在\u001b[0m\u001b[32m Python 中，一切都是\u001b[0m\u001b[32m对象，包括数字\u001b[0m\u001b[32m、字符串、函数\u001b[0m\u001b[32m和类等。\u001b[0m\u001b[32m\u001b[0m\n",
                        "[USAGE] \u001b[34m{\"input_tokens\": 32, \"output_tokens\": 96, \"total_tokens\": 128}\u001b[0m\n",
                        "[AGENT] \u001b[34m>>> Node 2: <lambda>\u001b[0m\n",
                        "\u001b[33m当然可以！以下是Python特有的三个语法特点，每一点用一句话说明：\n",
                        "\n",
                        "1. **缩进表示代码块**：Python 使用缩进来表示代码块，而不是使用大括号或其他符号。\n",
                        "2. **动态类型系统**：Python 是一种动态类型语言，变量在赋值时自动确定类型，无需显式声明。\n",
                        "3. **一切皆对象**：在 Python 中，一切都是对象，包括数字、字符串、函数和类等。\n",
                        "请帮我总结\u001b[0m[AGENT] \u001b[34m>>> Node 3: hm\u001b[0m\n",
                        "[AGENT] \u001b[34m>>> Node 1: Scribe\u001b[0m\n",
                        "[INFO] \u001b[34m记住 10 轮对话\u001b[0m\n",
                        "[RAG] \u001b[34m__XP__/FAQ/859648-1976-0001.md：发现 1 条资料\u001b[0m\n",
                        "[RAG] \u001b[34m__XP__/FAQ/859523-1929-0000.md：发现 1 条资料\u001b[0m\n",
                        "\u001b[32m**思考\u001b[0m\u001b[32m**\n",
                        "\u001b[0m\u001b[32m对话\u001b[0m\u001b[32m内容中提到的\u001b[0m\u001b[32mPython特有语法\u001b[0m\u001b[32m特点与`@\u001b[0m\u001b[32mknowledge`开头的\u001b[0m\u001b[32m已有知识没有直接\u001b[0m\u001b[32m冲突，也没有重复\u001b[0m\u001b[32m，因此可以提炼\u001b[0m\u001b[32m为新的知识。\n",
                        "\n",
                        "\u001b[0m\u001b[32m**决定**\n",
                        "-\u001b[0m\u001b[32m 对话内容中\u001b[0m\u001b[32m提供的信息是关于\u001b[0m\u001b[32mPython的三个语法\u001b[0m\u001b[32m特点，而已有\u001b[0m\u001b[32m知识中并没有涉及\u001b[0m\u001b[32m这些内容，因此\u001b[0m\u001b[32m这些信息是新增\u001b[0m\u001b[32m的知识点。\n",
                        "-\u001b[0m\u001b[32m 返回`question`\u001b[0m\u001b[32m和`knowledge`\u001b[0m\u001b[32m。\n",
                        "\n",
                        "**结论**\n",
                        "\n",
                        "\u001b[0m\u001b[32m<question>\n",
                        "Python\u001b[0m\u001b[32m特有的三个语法特点\u001b[0m\u001b[32m是什么？\n",
                        "</question\u001b[0m\u001b[32m>\n",
                        "\n",
                        "<knowledge>\n",
                        "\u001b[0m\u001b[32mPython 特有的\u001b[0m\u001b[32m三个语法特点如下\u001b[0m\u001b[32m：\n",
                        "- **缩\u001b[0m\u001b[32m进表示代码块\u001b[0m\u001b[32m**：使用缩\u001b[0m\u001b[32m进来表示代码块\u001b[0m\u001b[32m，而不是使用大\u001b[0m\u001b[32m括号或其他符号\u001b[0m\u001b[32m。\n",
                        "- **动态\u001b[0m\u001b[32m类型系统**：\u001b[0m\u001b[32m是一种动态类型语言\u001b[0m\u001b[32m，变量在赋\u001b[0m\u001b[32m值时自动确定\u001b[0m\u001b[32m类型，无需显\u001b[0m\u001b[32m式声明。\n",
                        "-\u001b[0m\u001b[32m **一切皆对象\u001b[0m\u001b[32m**：在 Python\u001b[0m\u001b[32m 中，一切都是对象\u001b[0m\u001b[32m，包括数字、\u001b[0m\u001b[32m字符串、函数和\u001b[0m\u001b[32m类等。\n",
                        "</\u001b[0m\u001b[32mknowledge>\u001b[0m\u001b[32m\u001b[0m\n",
                        "[USAGE] \u001b[34m{\"input_tokens\": 847, \"output_tokens\": 186, \"total_tokens\": 1033}\u001b[0m\n",
                        "[AGENT] \u001b[34m>>> Node 3: Fetch_FAQ\u001b[0m\n",
                        "[FAQ] \u001b[34m保存知识到[860207-4961-0003]：Python特有的三个语法特点是什么？ -> Python 特有的三个语法特点如下：<br>- **缩进表示代码块**：使用缩进来表示代码块，而不是使用大括号或其他符号。<br>- **动态类型系统**：是一种动态类型语言，变量在赋值时自动确定类型，无需显式...\u001b[0m\n",
                        "[INFO] \u001b[34m到达 __End__ 节点，结束\u001b[0m\n",
                        "[INFO] \u001b[34m执行完毕，所有节点运行 3 步\u001b[0m\n",
                        "[INFO] \u001b[34m到达 __End__ 节点，结束\u001b[0m\n",
                        "[INFO] \u001b[34m执行完毕，所有节点运行 4 步\u001b[0m\n"
                    ]
                },
                {
                    "data": {
                        "text/plain": [
                            "'**思考**\\n对话内容中提到的Python特有语法特点与`@knowledge`开头的已有知识没有直接冲突，也没有重复，因此可以提炼为新的知识。\\n\\n**决定**\\n- 对话内容中提供的信息是关于Python的三个语法特点，而已有知识中并没有涉及这些内容，因此这些信息是新增的知识点。\\n- 返回`question`和`knowledge`。\\n\\n**结论**\\n\\n<question>\\nPython特有的三个语法特点是什么？\\n</question>\\n\\n<knowledge>\\nPython 特有的三个语法特点如下：\\n- **缩进表示代码块**：使用缩进来表示代码块，而不是使用大括号或其他符号。\\n- **动态类型系统**：是一种动态类型语言，变量在赋值时自动确定类型，无需显式声明。\\n- **一切皆对象**：在 Python 中，一切都是对象，包括数字、字符串、函数和类等。\\n</knowledge>'"
                        ]
                    },
                    "execution_count": 2,
                    "metadata": {},
                    "output_type": "execute_result"
                }
            ],
            "source": [
                "from illufly.embeddings import TextEmbeddings\n",
                "from illufly.rag import FaissDB\n",
                "from illufly.chat import ChatQwen, ChatLearn, FlowAgent, End\n",
                "\n",
                "db = FaissDB(embeddings=TextEmbeddings(), top_k=3)\n",
                "flow = FlowAgent(\n",
                "    ChatQwen(name=\"qwen\"),\n",
                "    lambda a: f'{a.last_output}\\n请帮我总结',\n",
                "    ChatLearn(ChatQwen(knowledge=[db]), name=\"hm\"),\n",
                "    End()\n",
                ")\n",
                "\n",
                "flow(\"帮我总结三点python特有的语法，每个点用一句话说明，这是我用于制作教学卡片的内容，需要作为知识保留\", verbose=True)"
            ]
        },
        {
            "cell_type": "markdown",
            "id": "8b05d5b6-0673-48d0-a445-bd5f2de0eb8d",
            "metadata": {},
            "source": [
                "## 基于经验问答\n",
                "### 发现经验"
            ]
        },
        {
            "cell_type": "code",
            "execution_count": 1,
            "id": "0c41318b-d4b1-4e65-9266-502f1a5e3c9f",
            "metadata": {},
            "outputs": [
                {
                    "name": "stdout",
                    "output_type": "stream",
                    "text": [
                        "[HUMAN] \u001b[32millufly框架有什么特点？基于资料回答，不要瞎编\u001b[0m\n",
                        "[AGENT] \u001b[34mFakeLLM.4447987328\u001b[0m\n",
                        "[INFO] \u001b[34m记住 10 轮对话\u001b[0m\n",
                        "[RAG] \u001b[34m[{\"text\": \"**Question**\\nNext.js 中的根模板是什么？\\n\\n**Knowledge**\\n在 Next.js 应用中，根模板（Root Layout）是指在应用的文件系统中定义的一个特殊组件，通常位于 `app` 目录下的 `layout.js` 或 `layout.tsx` 文件中。根模板在整个应用程序中共享，可以包含如导航栏、页脚等全局 UI 元素。它允许开发者定义一个一致的布局，该布局将应用于所有子路由，除非子路由中定义了特定的布局来覆盖默认设置。根模板支持动态导入和静态生成，提高了应用的性能和可维护性。\", \"meta\": {\"id\": \"20241205-84230-0002-9331\", \"source\": \"/var/folders/f5/rlf27f4n6wzc_k4x7y4vzm5h0000gn/T/__ILLUFLY__/CHART_LEARN/20241122-47257-0003-4985.md\", \"distance\": 1.1529803276062012}}, {\"text\": \"**Question**\\nNext.js 中的重定向方法有哪些？\\n\\n**Knowledge**\\nNext.js 中的重定向可以通过多种方式实现，包括但不限于：\\n\\n- **使用 `middleware` 进行重定向**：\\n- 在 `src/middleware.js` 或 `src/middleware.ts` 文件中定义中间件。\\n- 示例代码：\\n```javascript\\nimport { NextResponse } from 'next/server';\\nimport type { NextRequest } from 'next/server';\\n\\nexport function middleware(request: NextRequest) {\\nif (request.nextUrl.pathname.startsWith('/old-page')) {\\nreturn NextResponse.redirect(new URL('/new-page', request.url));\\n}\\n}\\n\\nexport const config = {\\nmatcher: '/old-page',\\n};\\n```\\n\\n- **使用 `app` 目录中的 `route.js` 或 `route.ts` 进行重定向**：\\n- 在 `app` 目录下的某个路由文件中定义。\\n- 示例代码：\\n```javascript\\nimport { NextResponse } from 'next/server';\\n\\nexport async function GET(request) {\\nreturn NextResponse.redirect(new URL('/new-page', request.url));\\n}\\n```\\n\\n- **客户端重定向**：\\n- 使用 `router.push`：\\n```javascript\\nimport { useRouter } from 'next/router';\\n\\nconst router = useRouter();\\n\\n// 在某个事件中触发重定向\\nrouter.push('/new-page');\\n```\\n\\n- **服务器端重定向**：\\n- 使用 `getServerSideProps`：\\n```javascript\\nexport async function getServerSideProps(context) {\\nreturn {\\nredirect: {\\ndestination: '/new-page',\\npermanent: false,\\n},\\n};\\n}\\n```\\n\\n**注意事项**：\\n- 重定向会增加额外的HTTP请求，可能影响性能。\\n- 使用301重定向（永久重定向）有助于SEO，而302重定向（临时重定向）则不会。\", \"meta\": {\"id\": \"20241205-84230-0000-7534\", \"source\": \"/var/folders/f5/rlf27f4n6wzc_k4x7y4vzm5h0000gn/T/__ILLUFLY__/CHART_LEARN/20241122-46671-0002-2250.md\", \"distance\": 1.3049590587615967}}, {\"text\": \"**Question**\\n如何在Next.js应用中实现重定向？\\n\\n**Knowledge**\\n在Next.js应用中实现重定向可以通过多种方式完成。一种方法是在`pages`文件夹下的特定页面中使用`getServerSideProps`或`getInitialProps`函数，通过返回一个包含`redirect`对象的属性来执行重定向。`redirect`对象可以包含`destination`（目标URL）和`permanent`（是否为永久重定向，默认值为`false`）两个属性。另一种方法是利用Next.js的中间件功能，在`middleware.js`文件中定义更复杂的重定向逻辑，适用于需要基于请求条件进行重定向的场景。\", \"meta\": {\"id\": \"20241205-84230-0001-4430\", \"source\": \"/var/folders/f5/rlf27f4n6wzc_k4x7y4vzm5h0000gn/T/__ILLUFLY__/CHART_LEARN/20241122-46526-0000-0174.md\", \"distance\": 1.3387571573257446}}]\u001b[0m\n",
                        "[INFO] \u001b[34mI am FakeLLM\u001b[0m\n",
                        "\u001b[32mR\u001b[0m\u001b[32me\u001b[0m\u001b[32mp\u001b[0m\u001b[32ml\u001b[0m\u001b[32my\u001b[0m\u001b[32m \u001b[0m\u001b[32m>\u001b[0m\u001b[32m>\u001b[0m\u001b[32m \u001b[0m\u001b[32mi\u001b[0m\u001b[32ml\u001b[0m\u001b[32ml\u001b[0m\u001b[32mu\u001b[0m\u001b[32mf\u001b[0m\u001b[32ml\u001b[0m\u001b[32my\u001b[0m\u001b[32m框\u001b[0m\u001b[32m架\u001b[0m\u001b[32m有\u001b[0m\u001b[32m什\u001b[0m\u001b[32m么\u001b[0m\u001b[32m特\u001b[0m\u001b[32m点\u001b[0m\u001b[32m？\u001b[0m\u001b[32m基\u001b[0m\u001b[32m于\u001b[0m\u001b[32m资\u001b[0m\u001b[32m料\u001b[0m\u001b[32m回\u001b[0m\u001b[32m答\u001b[0m\u001b[32m，\u001b[0m\u001b[32m不\u001b[0m\u001b[32m要\u001b[0m\u001b[32m瞎\u001b[0m\u001b[32m编\u001b[0m\n"
                    ]
                },
                {
                    "data": {
                        "text/plain": [
                            "'Reply >> illufly框架有什么特点？基于资料回答，不要瞎编'"
                        ]
                    },
                    "execution_count": 1,
                    "metadata": {},
                    "output_type": "execute_result"
                }
            ],
            "source": [
                "from illufly.rag import FaissDB, TextEmbeddings\n",
                "from illufly.chat import FakeLLM\n",
                "\n",
                "db = FaissDB(embeddings=TextEmbeddings())\n",
                "talker = FakeLLM(knowledge=db)\n",
                "\n",
                "talker(\"illufly框架有什么特点？基于资料回答，不要瞎编\", verbose=True)"
            ]
        },
        {
            "cell_type": "markdown",
            "id": "d26a7e63-4d3b-4d43-8648-71d95153484b",
            "metadata": {},
            "source": [
                "## 将其他 Agent 的记忆作为提取来源 "
            ]
        },
        {
            "cell_type": "code",
            "execution_count": 1,
            "id": "dd3c5b20-4c2a-4f5f-a1d8-36bac0cac1c1",
            "metadata": {},
            "outputs": [],
            "source": [
                "from illufly.chat import ChatQwen\n",
                "from illufly.flow import FlowAgent, ChatLearn\n",
                "\n",
                "t = ChatQwen(name=\"老师\")\n",
                "s = ChatLearn(ChatQwen(), name=\"学生\")"
            ]
        },
        {
            "cell_type": "code",
            "execution_count": 2,
            "id": "a6dc7b23-c598-49e9-8e7a-327f2fdf6e96",
            "metadata": {},
            "outputs": [
                {
                    "name": "stdout",
                    "output_type": "stream",
                    "text": [
                        "\u001b[32m作为\u001b[0m\u001b[32m一款\u001b[0m\u001b[32m智能\u001b[0m\u001b[32m体\u001b[0m\u001b[32m框架，illuf\u001b[0m\u001b[32mly 在使用工具\u001b[0m\u001b[32m方面秉持着简约\u001b[0m\u001b[32m设计与极简\u001b[0m\u001b[32m风格的原则，致力于\u001b[0m\u001b[32m为用户提供直观、\u001b[0m\u001b[32m高效的操作体验，\u001b[0m\u001b[32m确保每个功能都能\u001b[0m\u001b[32m以最简洁的方式\u001b[0m\u001b[32m呈现，同时不失\u001b[0m\u001b[32m其强大与灵活性\u001b[0m\u001b[32m。这种设计理念不仅\u001b[0m\u001b[32m提升了用户体验，也\u001b[0m\u001b[32m使得illufly\u001b[0m\u001b[32m能够更好地适应各种\u001b[0m\u001b[32m应用场景，满足不同\u001b[0m\u001b[32m用户的需求。\u001b[0m\u001b[32m\u001b[0m\n"
                    ]
                },
                {
                    "data": {
                        "text/plain": [
                            "'作为一款智能体框架，illufly 在使用工具方面秉持着简约设计与极简风格的原则，致力于为用户提供直观、高效的操作体验，确保每个功能都能以最简洁的方式呈现，同时不失其强大与灵活性。这种设计理念不仅提升了用户体验，也使得illufly能够更好地适应各种应用场景，满足不同用户的需求。'"
                        ]
                    },
                    "execution_count": 2,
                    "metadata": {},
                    "output_type": "execute_result"
                }
            ],
            "source": [
                "t(\"作为一个智能体框架，illufly 在使用工具方面的特性是什么？是简约设计，极简风格。请帮我润色和丰富这一句话。\")"
            ]
        },
        {
            "cell_type": "code",
            "execution_count": 3,
            "id": "e1c96b0c-20a1-4da5-9c41-d86b093a29e1",
            "metadata": {},
            "outputs": [
                {
                    "name": "stdout",
                    "output_type": "stream",
                    "text": [
                        "\u001b[32m作为\u001b[0m\u001b[32m一款\u001b[0m\u001b[32m智能\u001b[0m\u001b[32m体\u001b[0m\u001b[32m框架，illuf\u001b[0m\u001b[32mly 在工具的\u001b[0m\u001b[32m定义和使用方面\u001b[0m\u001b[32m都秉持着简约\u001b[0m\u001b[32m设计与极简\u001b[0m\u001b[32m风格的原则。\n",
                        "\n",
                        "在\u001b[0m\u001b[32m工具定义方面，\u001b[0m\u001b[32millufly \u001b[0m\u001b[32m采用自发现机制\u001b[0m\u001b[32m，所有属性和\u001b[0m\u001b[32m规格都能自动识别\u001b[0m\u001b[32m和配置，极大地\u001b[0m\u001b[32m简化了初始设置\u001b[0m\u001b[32m过程。用户无需\u001b[0m\u001b[32m手动输入复杂的参数\u001b[0m\u001b[32m或进行繁琐的\u001b[0m\u001b[32m配置，系统会\u001b[0m\u001b[32m智能地识别并\u001b[0m\u001b[32m优化各项属性，\u001b[0m\u001b[32m确保工具的快速\u001b[0m\u001b[32m搭建和高效运行\u001b[0m\u001b[32m。\n",
                        "\n",
                        "在工具使用\u001b[0m\u001b[32m方面，illuf\u001b[0m\u001b[32mly 提供了\u001b[0m\u001b[32m简洁的操作界面和\u001b[0m\u001b[32m流程，避免了\u001b[0m\u001b[32m冗长的格式\u001b[0m\u001b[32m转换和复杂的操作\u001b[0m\u001b[32m步骤。用户可以\u001b[0m\u001b[32m轻松调用和\u001b[0m\u001b[32m管理工具，无论是\u001b[0m\u001b[32m数据处理、模型\u001b[0m\u001b[32m训练还是结果分析\u001b[0m\u001b[32m，都能通过简单的\u001b[0m\u001b[32m命令或图形界面\u001b[0m\u001b[32m完成。这种设计\u001b[0m\u001b[32m不仅提升了用户体验，\u001b[0m\u001b[32m还显著提高了工作效率\u001b[0m\u001b[32m，使用户能够\u001b[0m\u001b[32m更专注于核心任务\u001b[0m\u001b[32m，而无需被\u001b[0m\u001b[32m繁琐的技术细节所\u001b[0m\u001b[32m困扰。\u001b[0m\u001b[32m\u001b[0m\n"
                    ]
                },
                {
                    "data": {
                        "text/plain": [
                            "'作为一款智能体框架，illufly 在工具的定义和使用方面都秉持着简约设计与极简风格的原则。\\n\\n在工具定义方面，illufly 采用自发现机制，所有属性和规格都能自动识别和配置，极大地简化了初始设置过程。用户无需手动输入复杂的参数或进行繁琐的配置，系统会智能地识别并优化各项属性，确保工具的快速搭建和高效运行。\\n\\n在工具使用方面，illufly 提供了简洁的操作界面和流程，避免了冗长的格式转换和复杂的操作步骤。用户可以轻松调用和管理工具，无论是数据处理、模型训练还是结果分析，都能通过简单的命令或图形界面完成。这种设计不仅提升了用户体验，还显著提高了工作效率，使用户能够更专注于核心任务，而无需被繁琐的技术细节所困扰。'"
                        ]
                    },
                    "execution_count": 3,
                    "metadata": {},
                    "output_type": "execute_result"
                }
            ],
            "source": [
                "\n",
                "t(\"具体来说，你应当分为定义工具、使用工具两个方面说，都很简约，定义时所有属性规格都是自发现的，修改属性时也很简洁，使用时没有冗长的格式转换\")\n"
            ]
        },
        {
            "cell_type": "code",
            "execution_count": 4,
            "id": "c018e9ae-ceec-429c-87ee-e518b5b169a1",
            "metadata": {},
            "outputs": [
                {
                    "data": {
                        "text/plain": [
                            "[{'role': 'user',\n",
                            "  'content': '作为一个智能体框架，illufly 在使用工具方面的特性是什么？是简约设计，极简风格。请帮我润色和丰富这一句话。'},\n",
                            " {'role': 'assistant',\n",
                            "  'content': '作为一款智能体框架，illufly 在使用工具方面秉持着简约设计与极简风格的原则，致力于为用户提供直观、高效的操作体验，确保每个功能都能以最简洁的方式呈现，同时不失其强大与灵活性。这种设计理念不仅提升了用户体验，也使得illufly能够更好地适应各种应用场景，满足不同用户的需求。'},\n",
                            " {'role': 'user',\n",
                            "  'content': '具体来说，你应当分为定义工具、使用工具两个方面说，都很简约，定义时所有属性规格都是自发现的，修改属性时也很简洁，使用时没有冗长的格式转换'},\n",
                            " {'role': 'assistant',\n",
                            "  'content': '作为一款智能体框架，illufly 在工具的定义和使用方面都秉持着简约设计与极简风格的原则。\\n\\n在工具定义方面，illufly 采用自发现机制，所有属性和规格都能自动识别和配置，极大地简化了初始设置过程。用户无需手动输入复杂的参数或进行繁琐的配置，系统会智能地识别并优化各项属性，确保工具的快速搭建和高效运行。\\n\\n在工具使用方面，illufly 提供了简洁的操作界面和流程，避免了冗长的格式转换和复杂的操作步骤。用户可以轻松调用和管理工具，无论是数据处理、模型训练还是结果分析，都能通过简单的命令或图形界面完成。这种设计不仅提升了用户体验，还显著提高了工作效率，使用户能够更专注于核心任务，而无需被繁琐的技术细节所困扰。'}]"
                        ]
                    },
                    "execution_count": 4,
                    "metadata": {},
                    "output_type": "execute_result"
                }
            ],
            "source": [
                "t.memory"
            ]
        },
        {
            "cell_type": "code",
            "execution_count": 5,
            "id": "71a5d3fe-e51a-4bdc-9b0b-f7c3a01356b5",
            "metadata": {},
            "outputs": [
                {
                    "name": "stdout",
                    "output_type": "stream",
                    "text": [
                        "[AGENT] \u001b[34m>>> Node 1: Scribe\u001b[0m\n",
                        "\u001b[32m**\u001b[0m\u001b[32m思考\u001b[0m\u001b[32m**\n",
                        "\u001b[0m\u001b[32m请注意\u001b[0m\u001b[32m，「已有知识\u001b[0m\u001b[32m」必须是带有\u001b[0m\u001b[32m明确的由`\u001b[0m\u001b[32m@knowledge`文本\u001b[0m\u001b[32m开头的段落\u001b[0m\u001b[32m内容，其余的\u001b[0m\u001b[32m都不能视为已有知识\u001b[0m\u001b[32m。\n",
                        "- 对话\u001b[0m\u001b[32m中的关键信息包括\u001b[0m\u001b[32millufly框架\u001b[0m\u001b[32m在工具定义和\u001b[0m\u001b[32m使用方面的简约设计\u001b[0m\u001b[32m原则，具体表现为\u001b[0m\u001b[32m工具定义时的\u001b[0m\u001b[32m自发现机制和\u001b[0m\u001b[32m工具使用时的\u001b[0m\u001b[32m简洁操作界面。\n",
                        "\u001b[0m\u001b[32m- 对比对话\u001b[0m\u001b[32m内容与已有的\u001b[0m\u001b[32m知识，当前对话\u001b[0m\u001b[32m提供了新的具体信息\u001b[0m\u001b[32m，即工具定义\u001b[0m\u001b[32m时的自发现\u001b[0m\u001b[32m机制和工具使用\u001b[0m\u001b[32m时避免冗长\u001b[0m\u001b[32m格式转换的特点。\n",
                        "\u001b[0m\u001b[32m- 这些\u001b[0m\u001b[32m新信息与已\u001b[0m\u001b[32m知知识不冲突\u001b[0m\u001b[32m，也不完全重复\u001b[0m\u001b[32m，因为它们提供了\u001b[0m\u001b[32m更详细的描述和\u001b[0m\u001b[32m具体的实现方式。\n",
                        "\u001b[0m\u001b[32m- 新信息包括\u001b[0m\u001b[32m了工具定义时\u001b[0m\u001b[32m的自发现机制\u001b[0m\u001b[32m和工具使用时\u001b[0m\u001b[32m的简洁操作流程\u001b[0m\u001b[32m，这些都是相对完整\u001b[0m\u001b[32m的新知识表达。\n",
                        "\n",
                        "\u001b[0m\u001b[32m**决定**\n",
                        "-\u001b[0m\u001b[32m 根据上述\u001b[0m\u001b[32m分析，新知识\u001b[0m\u001b[32m既不与已有\u001b[0m\u001b[32m知识冲突，也不\u001b[0m\u001b[32m完全重复，因此\u001b[0m\u001b[32m应提炼出新的\u001b[0m\u001b[32m问题和知识。\n",
                        "\n",
                        "\u001b[0m\u001b[32m**结论**\n",
                        "\n",
                        "\u001b[0m\u001b[32m<question>\n",
                        "illuf\u001b[0m\u001b[32mly 框\u001b[0m\u001b[32m架在工具定义\u001b[0m\u001b[32m和使用上的简约\u001b[0m\u001b[32m设计体现在哪些方面\u001b[0m\u001b[32m？\n",
                        "</question>\n",
                        "\n",
                        "\u001b[0m\u001b[32m<knowledge>\n",
                        "ill\u001b[0m\u001b[32mufly \u001b[0m\u001b[32m框架在工具\u001b[0m\u001b[32m定义和使用上\u001b[0m\u001b[32m均采用了简约设计\u001b[0m\u001b[32m原则。在工具\u001b[0m\u001b[32m定义方面，ill\u001b[0m\u001b[32mufly 实现\u001b[0m\u001b[32m了自发现机制\u001b[0m\u001b[32m，能够自动识别\u001b[0m\u001b[32m和配置所有属性\u001b[0m\u001b[32m与规格，简化\u001b[0m\u001b[32m了初始设置过程\u001b[0m\u001b[32m。在工具使用\u001b[0m\u001b[32m方面，illuf\u001b[0m\u001b[32mly 提供了\u001b[0m\u001b[32m简洁的操作界面和\u001b[0m\u001b[32m流程，避免了\u001b[0m\u001b[32m冗长的格式\u001b[0m\u001b[32m转换和复杂的操作\u001b[0m\u001b[32m步骤，提升了用户体验\u001b[0m\u001b[32m和工作效率。\n",
                        "</\u001b[0m\u001b[32mknowledge>\u001b[0m\u001b[32m\u001b[0m\n",
                        "[AGENT] \u001b[34m>>> Node 3: Fetch_FAQ\u001b[0m\n",
                        "[FAQ] \u001b[34m保存知识到[298676-0689-0000]：illufly 框架在工具定义和使用上的简约设计体现在哪些方面？ -> illufly 框架在工具定义和使用上均采用了简约设计原则。在工具定义方面，illufly 实现了自发现机制，能够自动识别和配置所有属性与规格，简化了初始设置过程。在工具使用方面，illufly 提供...\u001b[0m\n"
                    ]
                },
                {
                    "data": {
                        "text/plain": [
                            "'**思考**\\n请注意，「已有知识」必须是带有明确的由`@knowledge`文本开头的段落内容，其余的都不能视为已有知识。\\n- 对话中的关键信息包括illufly框架在工具定义和使用方面的简约设计原则，具体表现为工具定义时的自发现机制和工具使用时的简洁操作界面。\\n- 对比对话内容与已有的知识，当前对话提供了新的具体信息，即工具定义时的自发现机制和工具使用时避免冗长格式转换的特点。\\n- 这些新信息与已知知识不冲突，也不完全重复，因为它们提供了更详细的描述和具体的实现方式。\\n- 新信息包括了工具定义时的自发现机制和工具使用时的简洁操作流程，这些都是相对完整的新知识表达。\\n\\n**决定**\\n- 根据上述分析，新知识既不与已有知识冲突，也不完全重复，因此应提炼出新的问题和知识。\\n\\n**结论**\\n\\n<question>\\nillufly 框架在工具定义和使用上的简约设计体现在哪些方面？\\n</question>\\n\\n<knowledge>\\nillufly 框架在工具定义和使用上均采用了简约设计原则。在工具定义方面，illufly 实现了自发现机制，能够自动识别和配置所有属性与规格，简化了初始设置过程。在工具使用方面，illufly 提供了简洁的操作界面和流程，避免了冗长的格式转换和复杂的操作步骤，提升了用户体验和工作效率。\\n</knowledge>'"
                        ]
                    },
                    "execution_count": 5,
                    "metadata": {},
                    "output_type": "execute_result"
                }
            ],
            "source": [
                "s(t)"
            ]
        },
        {
            "cell_type": "markdown",
            "id": "7548f26b-7edd-43c4-b678-bfe215336f86",
            "metadata": {},
            "source": [
                "## 从互联网学习"
            ]
        },
        {
            "cell_type": "code",
            "execution_count": 13,
            "id": "cd3abf4c-da6a-413b-a055-902b7d3ddcdd",
            "metadata": {},
            "outputs": [
                {
                    "name": "stdout",
                    "output_type": "stream",
                    "text": [
                        "[AGENT] \u001b[34m老师\u001b[0m\n",
                        "\u001b[32m根据\u001b[0m\u001b[32m您\u001b[0m\u001b[32m提供的\u001b[0m\u001b[32m链接\u001b[0m\u001b[32m，页面中包含\u001b[0m\u001b[32m的代码示例\u001b[0m\u001b[32m如下：\n",
                        "\n",
                        "```javascript\u001b[0m\u001b[32m\n",
                        "// app/shop\u001b[0m\u001b[32m/[slug]/route\u001b[0m\u001b[32m.js\n",
                        "\n",
                        "import {\u001b[0m\u001b[32m redirect } from '\u001b[0m\u001b[32mnext/navigation';\n",
                        "\n",
                        "export\u001b[0m\u001b[32m async function GET(request\u001b[0m\u001b[32m) {\n",
                        "  const\u001b[0m\u001b[32m slug = request.next\u001b[0m\u001b[32mUrl.pathname.split('/\u001b[0m\u001b[32m').pop();\n",
                        " \u001b[0m\u001b[32m const product = await\u001b[0m\u001b[32m getProductBySlug(slug\u001b[0m\u001b[32m);\n",
                        "\n",
                        "  if (\u001b[0m\u001b[32mproduct.isArchived\u001b[0m\u001b[32m) {\n",
                        "    //\u001b[0m\u001b[32m Redirect to the `/\u001b[0m\u001b[32mshop` page with\u001b[0m\u001b[32m a `status`\u001b[0m\u001b[32m of `30\u001b[0m\u001b[32m1`\n",
                        "    redirect\u001b[0m\u001b[32m('/shop', \u001b[0m\u001b[32m301);\n",
                        "\u001b[0m\u001b[32m  }\n",
                        "\n",
                        "  return\u001b[0m\u001b[32m new Response('Product\u001b[0m\u001b[32m details', { status\u001b[0m\u001b[32m: 20\u001b[0m\u001b[32m0 });\n",
                        "}\n",
                        "``\u001b[0m\u001b[32m`\n",
                        "\n",
                        "这个示例\u001b[0m\u001b[32m展示了如何在 Next\u001b[0m\u001b[32m.js 中使用路由\u001b[0m\u001b[32m拦截功能来重\u001b[0m\u001b[32m定向请求。如果\u001b[0m\u001b[32m产品已归档\u001b[0m\u001b[32m，则将用户重\u001b[0m\u001b[32m定向到 `/shop\u001b[0m\u001b[32m` 页面，并设置\u001b[0m\u001b[32m状态码为 `\u001b[0m\u001b[32m301`\u001b[0m\u001b[32m。\u001b[0m\u001b[32m\u001b[0m\n"
                    ]
                },
                {
                    "data": {
                        "text/plain": [
                            "\"根据您提供的链接，页面中包含的代码示例如下：\\n\\n```javascript\\n// app/shop/[slug]/route.js\\n\\nimport { redirect } from 'next/navigation';\\n\\nexport async function GET(request) {\\n  const slug = request.nextUrl.pathname.split('/').pop();\\n  const product = await getProductBySlug(slug);\\n\\n  if (product.isArchived) {\\n    // Redirect to the `/shop` page with a `status` of `301`\\n    redirect('/shop', 301);\\n  }\\n\\n  return new Response('Product details', { status: 200 });\\n}\\n```\\n\\n这个示例展示了如何在 Next.js 中使用路由拦截功能来重定向请求。如果产品已归档，则将用户重定向到 `/shop` 页面，并设置状态码为 `301`。\""
                        ]
                    },
                    "execution_count": 13,
                    "metadata": {},
                    "output_type": "execute_result"
                }
            ],
            "source": [
                "from illufly.chat import ChatQwen\n",
                "from illufly.flow import FlowAgent, ChatLearn\n",
                "\n",
                "t = ChatQwen(name=\"老师\", enable_search=True)\n",
                "s = ChatLearn(ChatQwen(), name=\"学生\")\n",
                "t(\"\"\"\n",
                "请帮我提取页面中的代码例子。尽量保持原有叙述，不要编造，不要啰嗦。 \n",
                "https://nextjs.org/docs/app/building-your-application/routing/intercepting-routes\n",
                "\"\"\")"
            ]
        },
        {
            "cell_type": "code",
            "execution_count": 3,
            "id": "72fd632a-2a71-42f8-8e0f-d01cfc265863",
            "metadata": {},
            "outputs": [
                {
                    "name": "stdout",
                    "output_type": "stream",
                    "text": [
                        "[AGENT] \u001b[34mChatQwen.4519907376\u001b[0m\n",
                        "\u001b[32m**\u001b[0m\u001b[32m思考\u001b[0m\u001b[32m**\n",
                        "\u001b[0m\u001b[32m-\u001b[0m\u001b[32m 对话内容是对\u001b[0m\u001b[32mNext.js官方文档\u001b[0m\u001b[32m中关于重定向\u001b[0m\u001b[32m部分的总结，\u001b[0m\u001b[32m没有提到任何已\u001b[0m\u001b[32m有的`@knowledge\u001b[0m\u001b[32m`。\n",
                        "- 对\u001b[0m\u001b[32m话内容提供了详细的\u001b[0m\u001b[32m重定向方法和\u001b[0m\u001b[32m示例代码，\u001b[0m\u001b[32m这些都是新的知识点\u001b[0m\u001b[32m。\n",
                        "- 这\u001b[0m\u001b[32m些新知识与\u001b[0m\u001b[32m已有知识不存在冲突\u001b[0m\u001b[32m，因为没有提及\u001b[0m\u001b[32m任何已有的知识\u001b[0m\u001b[32m。\n",
                        "- 这\u001b[0m\u001b[32m些新知识包含了\u001b[0m\u001b[32mNext.js中重\u001b[0m\u001b[32m定向的各种方法和\u001b[0m\u001b[32m注意事项，是对已有\u001b[0m\u001b[32m知识的补充。\n",
                        "\n",
                        "\u001b[0m\u001b[32m**决定**\n",
                        "-\u001b[0m\u001b[32m 返回`question`\u001b[0m\u001b[32m和`knowledge`\u001b[0m\u001b[32m，因为这些是\u001b[0m\u001b[32m新的知识点，\u001b[0m\u001b[32m且内容完整。\n",
                        "\n",
                        "\u001b[0m\u001b[32m**结论**\n",
                        "\n",
                        "\u001b[0m\u001b[32m<question>\n",
                        "Next.js\u001b[0m\u001b[32m 中的重定向\u001b[0m\u001b[32m方法有哪些？\n",
                        "</\u001b[0m\u001b[32mquestion>\n",
                        "\n",
                        "<knowledge\u001b[0m\u001b[32m>\n",
                        "Next.js 中\u001b[0m\u001b[32m的重定向可以通过\u001b[0m\u001b[32m多种方式实现，\u001b[0m\u001b[32m包括但不限于：\n",
                        "\n",
                        "-\u001b[0m\u001b[32m **使用 `middleware\u001b[0m\u001b[32m` 进行\u001b[0m\u001b[32m重定向**：\n",
                        "\u001b[0m\u001b[32m  - 在 `\u001b[0m\u001b[32msrc/middleware.js\u001b[0m\u001b[32m` 或 `src\u001b[0m\u001b[32m/middleware.ts`\u001b[0m\u001b[32m 文件中定义中间\u001b[0m\u001b[32m件。\n",
                        "  -\u001b[0m\u001b[32m 示例代码：\n",
                        "   \u001b[0m\u001b[32m ```javascript\n",
                        "   \u001b[0m\u001b[32m import { NextResponse\u001b[0m\u001b[32m } from 'next\u001b[0m\u001b[32m/server';\n",
                        "    import\u001b[0m\u001b[32m type { NextRequest\u001b[0m\u001b[32m } from 'next\u001b[0m\u001b[32m/server';\n",
                        "\n",
                        "    export\u001b[0m\u001b[32m function middleware(request:\u001b[0m\u001b[32m NextRequest) {\n",
                        "\u001b[0m\u001b[32m      if (request\u001b[0m\u001b[32m.nextUrl.pathname.startsWith\u001b[0m\u001b[32m('/old-page'))\u001b[0m\u001b[32m {\n",
                        "        return Next\u001b[0m\u001b[32mResponse.redirect(new URL\u001b[0m\u001b[32m('/new-page',\u001b[0m\u001b[32m request.url));\n",
                        "     \u001b[0m\u001b[32m }\n",
                        "    }\n",
                        "\n",
                        "   \u001b[0m\u001b[32m export const config =\u001b[0m\u001b[32m {\n",
                        "      matcher:\u001b[0m\u001b[32m '/old-page',\n",
                        "\u001b[0m\u001b[32m    };\n",
                        "    ``\u001b[0m\u001b[32m`\n",
                        "\n",
                        "- **使用\u001b[0m\u001b[32m `app` \u001b[0m\u001b[32m目录中的 `\u001b[0m\u001b[32mroute.js` 或\u001b[0m\u001b[32m `route.ts`\u001b[0m\u001b[32m 进行重\u001b[0m\u001b[32m定向**：\n",
                        " \u001b[0m\u001b[32m - 在 `app\u001b[0m\u001b[32m` 目录\u001b[0m\u001b[32m下的某个路由文件\u001b[0m\u001b[32m中定义。\n",
                        " \u001b[0m\u001b[32m - 示例代码：\n",
                        "\u001b[0m\u001b[32m    ```javascript\n",
                        "\u001b[0m\u001b[32m    import { Next\u001b[0m\u001b[32mResponse } from '\u001b[0m\u001b[32mnext/server';\n",
                        "\n",
                        "   \u001b[0m\u001b[32m export async function GET\u001b[0m\u001b[32m(request) {\n",
                        "     \u001b[0m\u001b[32m return NextResponse.redirect\u001b[0m\u001b[32m(new URL('/new\u001b[0m\u001b[32m-page', request.url\u001b[0m\u001b[32m));\n",
                        "    }\n",
                        "   \u001b[0m\u001b[32m ```\n",
                        "\n",
                        "- **\u001b[0m\u001b[32m客户端重定向**\u001b[0m\u001b[32m：\n",
                        "  - 使用\u001b[0m\u001b[32m `router.push`\u001b[0m\u001b[32m：\n",
                        "    ```javascript\u001b[0m\u001b[32m\n",
                        "    import {\u001b[0m\u001b[32m useRouter } from '\u001b[0m\u001b[32mnext/router';\n",
                        "\n",
                        "   \u001b[0m\u001b[32m const router = useRouter\u001b[0m\u001b[32m();\n",
                        "\n",
                        "    // 在\u001b[0m\u001b[32m某个事件中触发\u001b[0m\u001b[32m重定向\n",
                        "   \u001b[0m\u001b[32m router.push('/new\u001b[0m\u001b[32m-page');\n",
                        "    ``\u001b[0m\u001b[32m`\n",
                        "\n",
                        "- **服务器\u001b[0m\u001b[32m端重定向**\u001b[0m\u001b[32m：\n",
                        "  - 使用\u001b[0m\u001b[32m `getServerSide\u001b[0m\u001b[32mProps`：\n",
                        "   \u001b[0m\u001b[32m ```javascript\n",
                        "   \u001b[0m\u001b[32m export async function get\u001b[0m\u001b[32mServerSideProps(context\u001b[0m\u001b[32m) {\n",
                        "      return\u001b[0m\u001b[32m {\n",
                        "        redirect:\u001b[0m\u001b[32m {\n",
                        "          destination:\u001b[0m\u001b[32m '/new-page',\n",
                        "\u001b[0m\u001b[32m          permanent: false\u001b[0m\u001b[32m,\n",
                        "        },\n",
                        "     \u001b[0m\u001b[32m };\n",
                        "    }\n",
                        "   \u001b[0m\u001b[32m ```\n",
                        "\n",
                        "**注意事项\u001b[0m\u001b[32m**：\n",
                        "- \u001b[0m\u001b[32m重定向会增加\u001b[0m\u001b[32m额外的HTTP请求\u001b[0m\u001b[32m，可能影响性能\u001b[0m\u001b[32m。\n",
                        "- 使用3\u001b[0m\u001b[32m01重定向\u001b[0m\u001b[32m（永久重定向\u001b[0m\u001b[32m）有助于SEO，\u001b[0m\u001b[32m而302\u001b[0m\u001b[32m重定向（临时\u001b[0m\u001b[32m重定向）则\u001b[0m\u001b[32m不会。\n",
                        "</knowledge\u001b[0m\u001b[32m>\u001b[0m\u001b[32m\u001b[0m\n",
                        "[FAQ] \u001b[34m保存知识到[20241122-46671-0002-2250]：Next.js 中的重定向方法有哪些？ -> Next.js 中的重定向可以通过多种方式实现，包括但不限于：<br><br>- **使用 `middleware` 进行重定向**：<br>- 在 `src/middleware.js` 或 `src/middlew...\u001b[0m\n"
                    ]
                },
                {
                    "data": {
                        "text/plain": [
                            "\"**思考**\\n- 对话内容是对Next.js官方文档中关于重定向部分的总结，没有提到任何已有的`@knowledge`。\\n- 对话内容提供了详细的重定向方法和示例代码，这些都是新的知识点。\\n- 这些新知识与已有知识不存在冲突，因为没有提及任何已有的知识。\\n- 这些新知识包含了Next.js中重定向的各种方法和注意事项，是对已有知识的补充。\\n\\n**决定**\\n- 返回`question`和`knowledge`，因为这些是新的知识点，且内容完整。\\n\\n**结论**\\n\\n<question>\\nNext.js 中的重定向方法有哪些？\\n</question>\\n\\n<knowledge>\\nNext.js 中的重定向可以通过多种方式实现，包括但不限于：\\n\\n- **使用 `middleware` 进行重定向**：\\n  - 在 `src/middleware.js` 或 `src/middleware.ts` 文件中定义中间件。\\n  - 示例代码：\\n    ```javascript\\n    import { NextResponse } from 'next/server';\\n    import type { NextRequest } from 'next/server';\\n\\n    export function middleware(request: NextRequest) {\\n      if (request.nextUrl.pathname.startsWith('/old-page')) {\\n        return NextResponse.redirect(new URL('/new-page', request.url));\\n      }\\n    }\\n\\n    export const config = {\\n      matcher: '/old-page',\\n    };\\n    ```\\n\\n- **使用 `app` 目录中的 `route.js` 或 `route.ts` 进行重定向**：\\n  - 在 `app` 目录下的某个路由文件中定义。\\n  - 示例代码：\\n    ```javascript\\n    import { NextResponse } from 'next/server';\\n\\n    export async function GET(request) {\\n      return NextResponse.redirect(new URL('/new-page', request.url));\\n    }\\n    ```\\n\\n- **客户端重定向**：\\n  - 使用 `router.push`：\\n    ```javascript\\n    import { useRouter } from 'next/router';\\n\\n    const router = useRouter();\\n\\n    // 在某个事件中触发重定向\\n    router.push('/new-page');\\n    ```\\n\\n- **服务器端重定向**：\\n  - 使用 `getServerSideProps`：\\n    ```javascript\\n    export async function getServerSideProps(context) {\\n      return {\\n        redirect: {\\n          destination: '/new-page',\\n          permanent: false,\\n        },\\n      };\\n    }\\n    ```\\n\\n**注意事项**：\\n- 重定向会增加额外的HTTP请求，可能影响性能。\\n- 使用301重定向（永久重定向）有助于SEO，而302重定向（临时重定向）则不会。\\n</knowledge>\""
                        ]
                    },
                    "execution_count": 3,
                    "metadata": {},
                    "output_type": "execute_result"
                }
            ],
            "source": [
                "s(t)"
            ]
        },
        {
            "cell_type": "markdown",
            "id": "9dce8814-1a1a-4c29-8c51-5a6a857d0023",
            "metadata": {},
            "source": [
                "## 作为工具使用"
            ]
        },
        {
            "cell_type": "code",
            "execution_count": 1,
            "id": "95f0f882-bc8a-41ff-95ac-bec57fa34f67",
            "metadata": {},
            "outputs": [
                {
                    "data": {
                        "text/plain": [
                            "[{'type': 'function',\n",
                            "  'function': {'name': 'ChatLearn.4718492976',\n",
                            "   'description': '我擅长提炼新知识，所有涉及到总结、提炼新知识的地方都可以召唤我来完成任务',\n",
                            "   'parameters': {'type': 'object',\n",
                            "    'properties': {'prompt': {'type': 'string',\n",
                            "      'description': '请给出你要总结的内容，并在结尾附上一句`请帮我总结其中的新知识`'}},\n",
                            "    'required': ['prompt']}}}]"
                        ]
                    },
                    "execution_count": 1,
                    "metadata": {},
                    "output_type": "execute_result"
                }
            ],
            "source": [
                "from illufly.chat import ChatQwen\n",
                "from illufly.flow import ChatLearn\n",
                "\n",
                "qwen = ChatQwen(tools=[ChatLearn(ChatQwen())])\n",
                "qwen.get_tools_desc()"
            ]
        },
        {
            "cell_type": "code",
            "execution_count": 2,
            "id": "2ad9b21b-d6f7-49aa-84ff-6302add234ae",
            "metadata": {},
            "outputs": [
                {
                    "name": "stdout",
                    "output_type": "stream",
                    "text": [
                        "\u001b[32m在一个\u001b[0m\u001b[32m被\u001b[0m\u001b[32m遗忘\u001b[0m\u001b[32m的\u001b[0m\u001b[32m古老村庄里，\u001b[0m\u001b[32m时间似乎静止\u001b[0m\u001b[32m了。主角，\u001b[0m\u001b[32m一位年轻的考古学家\u001b[0m\u001b[32m，在寻找失落文明\u001b[0m\u001b[32m的过程中偶然发现了这个\u001b[0m\u001b[32m村庄。随着他对\u001b[0m\u001b[32m村庄历史的深入\u001b[0m\u001b[32m研究，他发现\u001b[0m\u001b[32m了一个惊人的秘密\u001b[0m\u001b[32m：村里的居民\u001b[0m\u001b[32m每一百年就会\u001b[0m\u001b[32m集体进入一种神秘\u001b[0m\u001b[32m的状态，他们的意识\u001b[0m\u001b[32m会融入到一个\u001b[0m\u001b[32m共享的记忆池中\u001b[0m\u001b[32m，使得整个村庄\u001b[0m\u001b[32m的历史和文化得以\u001b[0m\u001b[32m保存。然而，\u001b[0m\u001b[32m这种状态也带来了\u001b[0m\u001b[32m巨大的代价，那就是\u001b[0m\u001b[32m每一次的融合都会\u001b[0m\u001b[32m使一部分记忆永久\u001b[0m\u001b[32m丧失。主角意识到\u001b[0m\u001b[32m，下一个百年即将到来\u001b[0m\u001b[32m，而这一次，\u001b[0m\u001b[32m可能会失去最关键的记忆\u001b[0m\u001b[32m——关于一个能够\u001b[0m\u001b[32m改变世界的古代技术\u001b[0m\u001b[32m的秘密。为了防止\u001b[0m\u001b[32m这一灾难的发生，\u001b[0m\u001b[32m他必须解开这个\u001b[0m\u001b[32m谜团，同时\u001b[0m\u001b[32m还要应对那些觊\u001b[0m\u001b[32m觎这项技术的\u001b[0m\u001b[32m外部势力。在这个\u001b[0m\u001b[32m过程中，他逐渐\u001b[0m\u001b[32m揭开了自己与\u001b[0m\u001b[32m这个村庄之间意想不到\u001b[0m\u001b[32m的联系，以及\u001b[0m\u001b[32m他真正的命运。\u001b[0m\u001b[32m\u001b[0m\u001b[32m\u001b[0m\n"
                    ]
                },
                {
                    "data": {
                        "text/plain": [
                            "'在一个被遗忘的古老村庄里，时间似乎静止了。主角，一位年轻的考古学家，在寻找失落文明的过程中偶然发现了这个村庄。随着他对村庄历史的深入研究，他发现了一个惊人的秘密：村里的居民每一百年就会集体进入一种神秘的状态，他们的意识会融入到一个共享的记忆池中，使得整个村庄的历史和文化得以保存。然而，这种状态也带来了巨大的代价，那就是每一次的融合都会使一部分记忆永久丧失。主角意识到，下一个百年即将到来，而这一次，可能会失去最关键的记忆——关于一个能够改变世界的古代技术的秘密。为了防止这一灾难的发生，他必须解开这个谜团，同时还要应对那些觊觎这项技术的外部势力。在这个过程中，他逐渐揭开了自己与这个村庄之间意想不到的联系，以及他真正的命运。'"
                        ]
                    },
                    "execution_count": 2,
                    "metadata": {},
                    "output_type": "execute_result"
                }
            ],
            "source": [
                "qwen(\"帮我设想出一个精彩的小说梗概，一段话说明即可\")"
            ]
        },
        {
            "cell_type": "code",
            "execution_count": 3,
            "id": "8a9e8927-b15d-446c-b71d-3d2992b3f04b",
            "metadata": {},
            "outputs": [
                {
                    "name": "stdout",
                    "output_type": "stream",
                    "text": [
                        "\n",
                        "\n",
                        "[FINAL_TOOLS_CALL] \u001b[36m[{\"index\": 0, \"id\": \"call_79a7d49bfa4b46e7a02fa6\", \"type\": \"function\", \"function\": {\"name\": \"ChatLearn.4718492976\", \"arguments\": \"{\\\"prompt\\\": \\\"在一个被遗忘的古老村庄里，时间似乎静止了。主角，一位年轻的考古学家，在寻找失落文明的过程中偶然发现了这个村庄。随着他对村庄历史的深入研究，他发现了一个惊人的秘密：村里的居民每一百年就会集体进入一种神秘的状态，他们的意识会融入到一个共享的记忆池中，使得整个村庄的历史和文化得以保存。然而，这种状态也带来了巨大的代价，那就是每一次的融合都会使一部分记忆永久丧失。主角意识到，下一个百年即将到来，而这一次，可能会失去最关键的记忆——关于一个能够改变世界的古代技术的秘密。为了防止这一灾难的发生，他必须解开这个谜团，同时还要应对那些觊觎这项技术的外部势力。在这个过程中，他逐渐揭开了自己与这个村庄之间意想不到的联系，以及他真正的命运。请帮我总结其中的新知识\\\"}\"}}]\u001b[0m\n",
                        "[AGENT] \u001b[34mChatLearn.4718492976\u001b[0m\n",
                        "[AGENT] \u001b[34m>>> Node 1: Scribe\u001b[0m\n",
                        "\u001b[32m**\u001b[0m\u001b[32m思考\u001b[0m\u001b[32m**\n",
                        "\u001b[0m\u001b[32m-\u001b[0m\u001b[32m 对话内容描述\u001b[0m\u001b[32m了一个故事背景，\u001b[0m\u001b[32m其中涉及一个古老的\u001b[0m\u001b[32m村庄、年轻考古\u001b[0m\u001b[32m学家、村民每\u001b[0m\u001b[32m百年一次的意识\u001b[0m\u001b[32m融合、记忆损失\u001b[0m\u001b[32m、以及即将失去\u001b[0m\u001b[32m的关键记忆等内容。\n",
                        "\u001b[0m\u001b[32m- 对比对话\u001b[0m\u001b[32m内容，没有发现\u001b[0m\u001b[32m与`@knowledge\u001b[0m\u001b[32m`开头的已有\u001b[0m\u001b[32m知识存在直接冲突\u001b[0m\u001b[32m。\n",
                        "- 对话\u001b[0m\u001b[32m内容提供了新的故\u001b[0m\u001b[32m事情节和设定\u001b[0m\u001b[32m，特别是关于村民\u001b[0m\u001b[32m每百年一次的\u001b[0m\u001b[32m意识融合及其带来的\u001b[0m\u001b[32m记忆损失，以及\u001b[0m\u001b[32m一个可能改变世界的\u001b[0m\u001b[32m古代技术的秘密。\n",
                        "\u001b[0m\u001b[32m- 这些\u001b[0m\u001b[32m信息与已有的\u001b[0m\u001b[32m知识（如果有）\u001b[0m\u001b[32m并不重复，因为\u001b[0m\u001b[32m它们构成了一个独特\u001b[0m\u001b[32m的故事框架。\n",
                        "\n",
                        "**\u001b[0m\u001b[32m决定**\n",
                        "- \u001b[0m\u001b[32m根据上述分析\u001b[0m\u001b[32m，对话内容提供了\u001b[0m\u001b[32m新的知识点，\u001b[0m\u001b[32m且这些知识点是\u001b[0m\u001b[32m相对完整的信息表达\u001b[0m\u001b[32m，因此需要提炼\u001b[0m\u001b[32m为`question`\u001b[0m\u001b[32m和`knowledge`\u001b[0m\u001b[32m。\n",
                        "\n",
                        "**结论**\n",
                        "\n",
                        "\u001b[0m\u001b[32m<question>\n",
                        "古老\u001b[0m\u001b[32m村庄中村民每\u001b[0m\u001b[32m百年一次的意识\u001b[0m\u001b[32m融合及其后果是什么\u001b[0m\u001b[32m？\n",
                        "</question>\n",
                        "\n",
                        "\u001b[0m\u001b[32m<knowledge>\n",
                        "在一个\u001b[0m\u001b[32m被遗忘的古老\u001b[0m\u001b[32m村庄中，村民们\u001b[0m\u001b[32m每一百年会\u001b[0m\u001b[32m集体进入一种神秘\u001b[0m\u001b[32m的状态，其意识\u001b[0m\u001b[32m会融入到一个\u001b[0m\u001b[32m共享的记忆池中\u001b[0m\u001b[32m，以此方式保存\u001b[0m\u001b[32m村庄的历史和文化\u001b[0m\u001b[32m。然而，每次\u001b[0m\u001b[32m融合都会导致部分\u001b[0m\u001b[32m记忆永久丧失。\u001b[0m\u001b[32m特别地，下\u001b[0m\u001b[32m一次融合可能会导致\u001b[0m\u001b[32m关于一项能改变\u001b[0m\u001b[32m世界的古代技术的关键\u001b[0m\u001b[32m记忆丢失。\n",
                        "</\u001b[0m\u001b[32mknowledge>\u001b[0m\u001b[32m\u001b[0m\n",
                        "[AGENT] \u001b[34m>>> Node 3: Fetch_FAQ\u001b[0m\n",
                        "[FAQ] \u001b[34m保存知识到[632478-5430-0000]：古老村庄中村民每百年一次的意识融合及其后果是什么？ -> 在一个被遗忘的古老村庄中，村民们每一百年会集体进入一种神秘的状态，其意识会融入到一个共享的记忆池中，以此方式保存村庄的历史和文化。然而，每次融合都会导致部分记忆永久丧失。特别地，下一次融合可能会导致关...\u001b[0m\n",
                        "\n",
                        "\u001b[32m从\u001b[0m\u001b[32m这个\u001b[0m\u001b[32m小说梗概中\u001b[0m\u001b[32m提炼出的新知识\u001b[0m\u001b[32m可以总结如下：\u001b[0m\u001b[32m\n",
                        "\n",
                        "**问题**:\u001b[0m\u001b[32m 古老村庄中\u001b[0m\u001b[32m村民每百年一次\u001b[0m\u001b[32m的意识融合及其\u001b[0m\u001b[32m后果是什么？\n",
                        "\n",
                        "**\u001b[0m\u001b[32m知识**: 在一个\u001b[0m\u001b[32m被遗忘的古老\u001b[0m\u001b[32m村庄中，村民们\u001b[0m\u001b[32m每一百年会\u001b[0m\u001b[32m集体进入一种神秘\u001b[0m\u001b[32m的状态，其意识\u001b[0m\u001b[32m会融入到一个\u001b[0m\u001b[32m共享的记忆池中\u001b[0m\u001b[32m，以此方式保存\u001b[0m\u001b[32m村庄的历史和文化\u001b[0m\u001b[32m。然而，每次\u001b[0m\u001b[32m融合都会导致部分\u001b[0m\u001b[32m记忆永久丧失。\u001b[0m\u001b[32m特别地，下\u001b[0m\u001b[32m一次融合可能会导致\u001b[0m\u001b[32m关于一项能改变\u001b[0m\u001b[32m世界的古代技术的关键\u001b[0m\u001b[32m记忆丢失。\u001b[0m\u001b[32m\u001b[0m\n"
                    ]
                },
                {
                    "data": {
                        "text/plain": [
                            "'从这个小说梗概中提炼出的新知识可以总结如下：\\n\\n**问题**: 古老村庄中村民每百年一次的意识融合及其后果是什么？\\n\\n**知识**: 在一个被遗忘的古老村庄中，村民们每一百年会集体进入一种神秘的状态，其意识会融入到一个共享的记忆池中，以此方式保存村庄的历史和文化。然而，每次融合都会导致部分记忆永久丧失。特别地，下一次融合可能会导致关于一项能改变世界的古代技术的关键记忆丢失。'"
                        ]
                    },
                    "execution_count": 3,
                    "metadata": {},
                    "output_type": "execute_result"
                }
            ],
            "source": [
                "qwen(\"提炼为知识\")"
            ]
        },
        {
            "cell_type": "code",
            "execution_count": 4,
            "id": "af0010e1-ae5a-45db-b524-537ec9af5f8f",
            "metadata": {},
            "outputs": [
                {
                    "data": {
                        "text/plain": [
                            "[{'role': 'user', 'content': '帮我设想出一个精彩的小说梗概，一段话说明即可'},\n",
                            " {'role': 'assistant',\n",
                            "  'content': '在一个被遗忘的古老村庄里，时间似乎静止了。主角，一位年轻的考古学家，在寻找失落文明的过程中偶然发现了这个村庄。随着他对村庄历史的深入研究，他发现了一个惊人的秘密：村里的居民每一百年就会集体进入一种神秘的状态，他们的意识会融入到一个共享的记忆池中，使得整个村庄的历史和文化得以保存。然而，这种状态也带来了巨大的代价，那就是每一次的融合都会使一部分记忆永久丧失。主角意识到，下一个百年即将到来，而这一次，可能会失去最关键的记忆——关于一个能够改变世界的古代技术的秘密。为了防止这一灾难的发生，他必须解开这个谜团，同时还要应对那些觊觎这项技术的外部势力。在这个过程中，他逐渐揭开了自己与这个村庄之间意想不到的联系，以及他真正的命运。'},\n",
                            " {'role': 'user', 'content': '提炼为知识'},\n",
                            " {'role': 'assistant',\n",
                            "  'content': '',\n",
                            "  'tool_calls': [{'index': 0,\n",
                            "    'id': 'call_79a7d49bfa4b46e7a02fa6',\n",
                            "    'type': 'function',\n",
                            "    'function': {'name': 'ChatLearn.4718492976',\n",
                            "     'arguments': '{\"prompt\": \"在一个被遗忘的古老村庄里，时间似乎静止了。主角，一位年轻的考古学家，在寻找失落文明的过程中偶然发现了这个村庄。随着他对村庄历史的深入研究，他发现了一个惊人的秘密：村里的居民每一百年就会集体进入一种神秘的状态，他们的意识会融入到一个共享的记忆池中，使得整个村庄的历史和文化得以保存。然而，这种状态也带来了巨大的代价，那就是每一次的融合都会使一部分记忆永久丧失。主角意识到，下一个百年即将到来，而这一次，可能会失去最关键的记忆——关于一个能够改变世界的古代技术的秘密。为了防止这一灾难的发生，他必须解开这个谜团，同时还要应对那些觊觎这项技术的外部势力。在这个过程中，他逐渐揭开了自己与这个村庄之间意想不到的联系，以及他真正的命运。请帮我总结其中的新知识\"}'}}]},\n",
                            " {'tool_call_id': 'call_79a7d49bfa4b46e7a02fa6',\n",
                            "  'role': 'tool',\n",
                            "  'name': 'ChatLearn.4718492976',\n",
                            "  'content': '**思考**\\n- 对话内容描述了一个故事背景，其中涉及一个古老的村庄、年轻考古学家、村民每百年一次的意识融合、记忆损失、以及即将失去的关键记忆等内容。\\n- 对比对话内容，没有发现与`@knowledge`开头的已有知识存在直接冲突。\\n- 对话内容提供了新的故事情节和设定，特别是关于村民每百年一次的意识融合及其带来的记忆损失，以及一个可能改变世界的古代技术的秘密。\\n- 这些信息与已有的知识（如果有）并不重复，因为它们构成了一个独特的故事框架。\\n\\n**决定**\\n- 根据上述分析，对话内容提供了新的知识点，且这些知识点是相对完整的信息表达，因此需要提炼为`question`和`knowledge`。\\n\\n**结论**\\n\\n<question>\\n古老村庄中村民每百年一次的意识融合及其后果是什么？\\n</question>\\n\\n<knowledge>\\n在一个被遗忘的古老村庄中，村民们每一百年会集体进入一种神秘的状态，其意识会融入到一个共享的记忆池中，以此方式保存村庄的历史和文化。然而，每次融合都会导致部分记忆永久丧失。特别地，下一次融合可能会导致关于一项能改变世界的古代技术的关键记忆丢失。\\n</knowledge>'},\n",
                            " {'role': 'assistant',\n",
                            "  'content': '从这个小说梗概中提炼出的新知识可以总结如下：\\n\\n**问题**: 古老村庄中村民每百年一次的意识融合及其后果是什么？\\n\\n**知识**: 在一个被遗忘的古老村庄中，村民们每一百年会集体进入一种神秘的状态，其意识会融入到一个共享的记忆池中，以此方式保存村庄的历史和文化。然而，每次融合都会导致部分记忆永久丧失。特别地，下一次融合可能会导致关于一项能改变世界的古代技术的关键记忆丢失。'}]"
                        ]
                    },
                    "execution_count": 4,
                    "metadata": {},
                    "output_type": "execute_result"
                }
            ],
            "source": [
                "qwen.memory"
            ]
        },
        {
            "cell_type": "code",
            "execution_count": null,
            "id": "d7923e35-aeab-4155-a091-97f4bb1f4c39",
            "metadata": {},
            "outputs": [],
            "source": []
        }
    ],
    "metadata": {
        "kernelspec": {
            "display_name": "same_to_illufly",
            "language": "python",
            "name": "same_to_illufly"
        },
        "language_info": {
            "codemirror_mode": {
                "name": "ipython",
                "version": 3
            },
            "file_extension": ".py",
            "mimetype": "text/x-python",
            "name": "python",
            "nbconvert_exporter": "python",
            "pygments_lexer": "ipython3",
            "version": "3.10.0"
        }
    },
    "nbformat": 4,
    "nbformat_minor": 5
}