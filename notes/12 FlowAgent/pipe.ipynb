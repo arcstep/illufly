{
 "cells": [
  {
   "cell_type": "code",
   "execution_count": null,
   "id": "6d9e9de7-85e7-4e8b-b94a-501fce09a7a6",
   "metadata": {},
   "outputs": [],
   "source": []
  },
  {
   "cell_type": "markdown",
   "id": "748744c9-1123-4c52-95a4-5d10235726eb",
   "metadata": {},
   "source": [
    "# 多智能体协作"
   ]
  },
  {
   "cell_type": "markdown",
   "id": "9b97ccfb-8dc7-4c7c-842b-abf6820769f6",
   "metadata": {},
   "source": [
    "## 管道"
   ]
  },
  {
   "cell_type": "code",
   "execution_count": 7,
   "id": "a4bbd07f-e12a-40b6-b830-62e21eb90fd0",
   "metadata": {},
   "outputs": [
    {
     "name": "stdout",
     "output_type": "stream",
     "text": [
      "[AGENT] \u001b[34m>>> Node 1: ChatQwen\u001b[0m\n",
      "\u001b[32m小\u001b[0m\u001b[32m兔\u001b[0m\u001b[32m乖乖\u001b[0m\u001b[32m，梦中蹦跶\u001b[0m\u001b[32m嗨，\n",
      "胡萝卜大餐，月光\u001b[0m\u001b[32m下翩翩。\n",
      "云朵当床\u001b[0m\u001b[32m，星河作被毯，\n",
      "梦\u001b[0m\u001b[32m醒晨来，笑迎阳光怀\u001b[0m\u001b[32m。\u001b[0m\u001b[32m\u001b[0m\n",
      "\n",
      "[AGENT] \u001b[34m>>> Node 2: ChatQwen\u001b[0m\n",
      "\u001b[32m这篇\u001b[0m\u001b[32m作品\u001b[0m\u001b[32m充满了\u001b[0m\u001b[32m童真与想象力，\u001b[0m\u001b[32m生动描绘了小兔的梦幻世界\u001b[0m\u001b[32m，给人以温馨美好的感受。不足\u001b[0m\u001b[32m之处在于结构较为简单，可适当\u001b[0m\u001b[32m增加情节层次，使故事更加丰富\u001b[0m\u001b[32m饱满。\u001b[0m\u001b[32m\u001b[0m\n",
      "\n",
      "[AGENT] \u001b[34m>>> Node 3: ChatQwen\u001b[0m\n",
      "\u001b[32m4\u001b[0m\u001b[32m分\u001b[0m\u001b[32m\u001b[0m\n",
      "\n"
     ]
    },
    {
     "data": {
      "text/plain": [
       "'4分'"
      ]
     },
     "execution_count": 7,
     "metadata": {},
     "output_type": "execute_result"
    }
   ],
   "source": [
    "from illufly.agent import ChatQwen, Pipe\n",
    "from illufly.io import log\n",
    "\n",
    "pipe = Pipe(\n",
    "    ChatQwen(),\n",
    "    ChatQwen(memory=\"我将告诉你我的写作成果，你负责帮我评价文章特色，说说缺点，两句话即可\"),\n",
    "    ChatQwen(memory=\"我将告诉你我的写作成果，请按照评价打一个分数，从1分至5分\")\n",
    ")\n",
    "\n",
    "log(pipe, \"你能帮我写一首关于兔子做梦的四句儿歌?\")"
   ]
  },
  {
   "cell_type": "code",
   "execution_count": 8,
   "id": "4537cd7e-e18e-4fa7-80cf-180de7a82592",
   "metadata": {},
   "outputs": [
    {
     "data": {
      "text/plain": [
       "[{'role': 'user', 'content': '节点 <0> 正在处理任务...'},\n",
       " {'role': 'assistant',\n",
       "  'content': '小兔乖乖，梦中蹦跶嗨，\\n胡萝卜大餐，月光下翩翩。\\n云朵当床，星河作被毯，\\n梦醒晨来，笑迎阳光怀。'},\n",
       " {'role': 'user', 'content': '节点 <1> 正在处理任务...'},\n",
       " {'role': 'assistant',\n",
       "  'content': '这篇作品充满了童真与想象力，生动描绘了小兔的梦幻世界，给人以温馨美好的感受。不足之处在于结构较为简单，可适当增加情节层次，使故事更加丰富饱满。'},\n",
       " {'role': 'user', 'content': '节点 <2> 正在处理任务...'},\n",
       " {'role': 'assistant', 'content': '4分'}]"
      ]
     },
     "execution_count": 8,
     "metadata": {},
     "output_type": "execute_result"
    }
   ],
   "source": [
    "pipe.memory"
   ]
  },
  {
   "cell_type": "code",
   "execution_count": 9,
   "id": "44fbecd9-3bef-4177-9618-ad865befdcc1",
   "metadata": {},
   "outputs": [
    {
     "data": {
      "text/plain": [
       "[{'role': 'system', 'content': '我将告诉你我的写作成果，你负责帮我评价文章特色，说说缺点，两句话即可'},\n",
       " {'role': 'user',\n",
       "  'content': '小兔乖乖，梦中蹦跶嗨，\\n胡萝卜大餐，月光下翩翩。\\n云朵当床，星河作被毯，\\n梦醒晨来，笑迎阳光怀。'},\n",
       " {'role': 'assistant',\n",
       "  'content': '这篇作品充满了童真与想象力，生动描绘了小兔的梦幻世界，给人以温馨美好的感受。不足之处在于结构较为简单，可适当增加情节层次，使故事更加丰富饱满。'}]"
      ]
     },
     "execution_count": 9,
     "metadata": {},
     "output_type": "execute_result"
    }
   ],
   "source": [
    "pipe.runnables[1].memory"
   ]
  },
  {
   "cell_type": "markdown",
   "id": "c6393119-5133-45ed-b317-f40138ceaaa7",
   "metadata": {},
   "source": [
    "## 模板"
   ]
  },
  {
   "cell_type": "code",
   "execution_count": 1,
   "id": "d47eb92b-5f81-4fff-9557-e6866d7b4724",
   "metadata": {},
   "outputs": [],
   "source": [
    "from illufly.agent import ChatQwen, Pipe\n",
    "from illufly.io import log, alog\n",
    "from illufly.hub import Template"
   ]
  },
  {
   "cell_type": "code",
   "execution_count": 2,
   "id": "c796ebff-5fb6-406a-9d44-bf3159ff865b",
   "metadata": {},
   "outputs": [
    {
     "name": "stdout",
     "output_type": "stream",
     "text": [
      "[AGENT] \u001b[34m>>> Node 1: ChatQwen\u001b[0m\n",
      "\u001b[32m小\u001b[0m\u001b[32m蜜蜂\u001b[0m\u001b[32m嗡\u001b[0m\u001b[32m嗡飞，\n",
      "花园里\u001b[0m\u001b[32m采花忙。\n",
      "太阳笑眯眯\u001b[0m\u001b[32m，\n",
      "快乐的一天长。\u001b[0m\u001b[32m\u001b[0m\n",
      "\n",
      "[AGENT] \u001b[34m>>> Node 2: ChatQwen\u001b[0m\n",
      "\u001b[32m作品\u001b[0m\u001b[32m评价\u001b[0m\u001b[32m：\u001b[0m\u001b[32m这首诗简洁明快\u001b[0m\u001b[32m，富有童趣，营造了温馨\u001b[0m\u001b[32m愉快的氛围。但为了进一步提升\u001b[0m\u001b[32m，可以考虑以下三点：\n",
      "\n",
      "1.\u001b[0m\u001b[32m **缺乏复杂度和深度**：\u001b[0m\u001b[32m诗歌内容较为浅显，可以尝试\u001b[0m\u001b[32m加入更多层次的情感或意义，使\u001b[0m\u001b[32m读者有更深的思考空间。\n",
      "2\u001b[0m\u001b[32m. **意象单一**：主要\u001b[0m\u001b[32m围绕小蜜蜂和花园展开，虽\u001b[0m\u001b[32m具象生动，但整体意象\u001b[0m\u001b[32m较为单一，增加多样化的自然元素\u001b[0m\u001b[32m或更丰富的场景描述会更吸引\u001b[0m\u001b[32m人。\n",
      "3. **结构与韵\u001b[0m\u001b[32m律**：虽然本诗节奏感\u001b[0m\u001b[32m良好，但整体上没有明显的韵\u001b[0m\u001b[32m脚变化，尝试不同的韵律结构\u001b[0m\u001b[32m能增添诗歌的音乐美。\n",
      "\n",
      "一句话\u001b[0m\u001b[32m总结：这是一首充满童真\u001b[0m\u001b[32m与生机的短诗，若能在\u001b[0m\u001b[32m情感深度、意象丰富性和韵\u001b[0m\u001b[32m律变化上加以改进，将更加\u001b[0m\u001b[32m引人入胜。\u001b[0m\u001b[32m\u001b[0m\n",
      "\n"
     ]
    },
    {
     "data": {
      "text/plain": [
       "[{'role': 'user', 'content': '节点 <0> 正在处理任务...'},\n",
       " {'role': 'assistant', 'content': '小蜜蜂嗡嗡飞，\\n花园里采花忙。\\n太阳笑眯眯，\\n快乐的一天长。'},\n",
       " {'role': 'user', 'content': '节点 <1> 正在处理任务...'},\n",
       " {'role': 'assistant',\n",
       "  'content': '作品评价：这首诗简洁明快，富有童趣，营造了温馨愉快的氛围。但为了进一步提升，可以考虑以下三点：\\n\\n1. **缺乏复杂度和深度**：诗歌内容较为浅显，可以尝试加入更多层次的情感或意义，使读者有更深的思考空间。\\n2. **意象单一**：主要围绕小蜜蜂和花园展开，虽具象生动，但整体意象较为单一，增加多样化的自然元素或更丰富的场景描述会更吸引人。\\n3. **结构与韵律**：虽然本诗节奏感良好，但整体上没有明显的韵脚变化，尝试不同的韵律结构能增添诗歌的音乐美。\\n\\n一句话总结：这是一首充满童真与生机的短诗，若能在情感深度、意象丰富性和韵律变化上加以改进，将更加引人入胜。'}]"
      ]
     },
     "execution_count": 2,
     "metadata": {},
     "output_type": "execute_result"
    }
   ],
   "source": [
    "pipe = Pipe(\n",
    "    ChatQwen(memory=[Template(template_id=\"IDEA\"), \"请开始\"]),\n",
    "    ChatQwen(memory=\"请帮我对作品进行评价，找出三个缺点，一句话总结。\")\n",
    ")\n",
    "\n",
    "log(pipe, \"请你帮我写一首4行儿歌\")\n",
    "pipe.memory"
   ]
  },
  {
   "cell_type": "code",
   "execution_count": 3,
   "id": "d1e5e26b-2b90-4dd4-961f-3c091d1fb81d",
   "metadata": {},
   "outputs": [
    {
     "data": {
      "text/plain": [
       "[{'role': 'system',\n",
       "  'content': '你是强大的写作助手。\\n\\n你必须遵循以下约束来完成任务:\\n1. 直接输出你的结果，不要评论，不要啰嗦\\n2. 使用markdown格式输出\\n\\n**你的任务是:**\\n请你帮我写一首4行儿歌\\n'},\n",
       " {'role': 'user', 'content': '请开始'},\n",
       " {'role': 'assistant', 'content': '小蜜蜂嗡嗡飞，\\n花园里采花忙。\\n太阳笑眯眯，\\n快乐的一天长。'}]"
      ]
     },
     "execution_count": 3,
     "metadata": {},
     "output_type": "execute_result"
    }
   ],
   "source": [
    "pipe.runnables[0].memory"
   ]
  },
  {
   "cell_type": "code",
   "execution_count": 4,
   "id": "08249738-6495-4ea2-80f9-070775b8e5c2",
   "metadata": {},
   "outputs": [
    {
     "data": {
      "text/plain": [
       "[{'role': 'system', 'content': '请帮我对作品进行评价，找出三个缺点，一句话总结。'},\n",
       " {'role': 'user', 'content': '小蜜蜂嗡嗡飞，\\n花园里采花忙。\\n太阳笑眯眯，\\n快乐的一天长。'},\n",
       " {'role': 'assistant',\n",
       "  'content': '作品评价：这首诗简洁明快，富有童趣，营造了温馨愉快的氛围。但为了进一步提升，可以考虑以下三点：\\n\\n1. **缺乏复杂度和深度**：诗歌内容较为浅显，可以尝试加入更多层次的情感或意义，使读者有更深的思考空间。\\n2. **意象单一**：主要围绕小蜜蜂和花园展开，虽具象生动，但整体意象较为单一，增加多样化的自然元素或更丰富的场景描述会更吸引人。\\n3. **结构与韵律**：虽然本诗节奏感良好，但整体上没有明显的韵脚变化，尝试不同的韵律结构能增添诗歌的音乐美。\\n\\n一句话总结：这是一首充满童真与生机的短诗，若能在情感深度、意象丰富性和韵律变化上加以改进，将更加引人入胜。'}]"
      ]
     },
     "execution_count": 4,
     "metadata": {},
     "output_type": "execute_result"
    }
   ],
   "source": [
    "pipe.runnables[1].memory"
   ]
  },
  {
   "cell_type": "code",
   "execution_count": null,
   "id": "241668a4-e138-4c61-8a99-0f52be9a1351",
   "metadata": {},
   "outputs": [],
   "source": []
  }
 ],
 "metadata": {
  "kernelspec": {
   "display_name": "Python 3 (ipykernel)",
   "language": "python",
   "name": "python3"
  },
  "language_info": {
   "codemirror_mode": {
    "name": "ipython",
    "version": 3
   },
   "file_extension": ".py",
   "mimetype": "text/x-python",
   "name": "python",
   "nbconvert_exporter": "python",
   "pygments_lexer": "ipython3",
   "version": "3.10.0"
  }
 },
 "nbformat": 4,
 "nbformat_minor": 5
}
