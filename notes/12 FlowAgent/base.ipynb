{
 "cells": [
  {
   "cell_type": "markdown",
   "id": "748744c9-1123-4c52-95a4-5d10235726eb",
   "metadata": {},
   "source": [
    "# 多智能体协作"
   ]
  },
  {
   "cell_type": "markdown",
   "id": "9b97ccfb-8dc7-4c7c-842b-abf6820769f6",
   "metadata": {},
   "source": [
    "## 多智能体管道"
   ]
  },
  {
   "cell_type": "code",
   "execution_count": 4,
   "id": "a4bbd07f-e12a-40b6-b830-62e21eb90fd0",
   "metadata": {},
   "outputs": [
    {
     "name": "stdout",
     "output_type": "stream",
     "text": [
      "[AGENT] \u001b[34m>>> Node 1: ChatQwen\u001b[0m\n",
      "\u001b[32m小兔子\u001b[0m\u001b[32m乖乖\u001b[0m\u001b[32m把\u001b[0m\u001b[32m梦做，\n",
      "\n",
      "棉\u001b[0m\u001b[32m尾摇摇笑容\u001b[0m\u001b[32m多，\n",
      "\n",
      "月亮妈妈\u001b[0m\u001b[32m轻拂过，\n",
      "\n",
      "\u001b[0m\u001b[32m青草地上舞\u001b[0m\u001b[32m步和。 \n",
      "\n",
      "\u001b[0m\u001b[32m（注：此\u001b[0m\u001b[32m儿歌意为\u001b[0m\u001b[32m小兔子在月\u001b[0m\u001b[32m光下甜甜地\u001b[0m\u001b[32m做着美梦\u001b[0m\u001b[32m，棉尾巴摇\u001b[0m\u001b[32m晃，仿佛与\u001b[0m\u001b[32m月亮和草地共\u001b[0m\u001b[32m舞。）\u001b[0m\u001b[32m\u001b[0m\n",
      "[AGENT] \u001b[34m>>> Node 2: ChatQwen\u001b[0m\n",
      "\u001b[32m这首儿\u001b[0m\u001b[32m歌\u001b[0m\u001b[32m以\u001b[0m\u001b[32m简洁的语言营造了一个\u001b[0m\u001b[32m温馨甜美的梦境\u001b[0m\u001b[32m场景，充满了童\u001b[0m\u001b[32m趣和想象力。\u001b[0m\u001b[32m不过，可以考虑\u001b[0m\u001b[32m增加一些动词\u001b[0m\u001b[32m的变化或更丰富的\u001b[0m\u001b[32m意象来增强\u001b[0m\u001b[32m节奏感和画面\u001b[0m\u001b[32m感。此外，\u001b[0m\u001b[32m尝试扩展歌词的\u001b[0m\u001b[32m长度可能会使故事\u001b[0m\u001b[32m更加完整，更具\u001b[0m\u001b[32m吸引力。\u001b[0m\u001b[32m\u001b[0m\n",
      "[AGENT] \u001b[34m>>> Node 3: ChatQwen\u001b[0m\n",
      "\u001b[32m根据您的\u001b[0m\u001b[32m描述\u001b[0m\u001b[32m，\u001b[0m\u001b[32m我会给这首儿\u001b[0m\u001b[32m歌打4分\u001b[0m\u001b[32m。儿歌已经\u001b[0m\u001b[32m能够通过简单的语言\u001b[0m\u001b[32m创造出一个充满童\u001b[0m\u001b[32m趣和想象力的\u001b[0m\u001b[32m梦幻场景，这是\u001b[0m\u001b[32m非常宝贵的。建议\u001b[0m\u001b[32m中的改进方向更多\u001b[0m\u001b[32m是为了锦上添\u001b[0m\u001b[32m花，让作品\u001b[0m\u001b[32m更为丰富和完善。\u001b[0m\u001b[32m如果能够在动词\u001b[0m\u001b[32m变化和意象\u001b[0m\u001b[32m丰富性上有所\u001b[0m\u001b[32m加强，并适当扩展\u001b[0m\u001b[32m歌词长度，那么\u001b[0m\u001b[32m这首儿歌将会\u001b[0m\u001b[32m更加完美。\u001b[0m\u001b[32m\u001b[0m\n"
     ]
    },
    {
     "data": {
      "text/plain": [
       "'根据您的描述，我会给这首儿歌打4分。儿歌已经能够通过简单的语言创造出一个充满童趣和想象力的梦幻场景，这是非常宝贵的。建议中的改进方向更多是为了锦上添花，让作品更为丰富和完善。如果能够在动词变化和意象丰富性上有所加强，并适当扩展歌词长度，那么这首儿歌将会更加完美。'"
      ]
     },
     "execution_count": 4,
     "metadata": {},
     "output_type": "execute_result"
    }
   ],
   "source": [
    "from illufly.chat import FlowAgent, ChatQwen\n",
    "\n",
    "flow = FlowAgent(\n",
    "    ChatQwen(),\n",
    "    ChatQwen(memory=\"我将告诉你我的写作成果，你负责帮我评价文章特色，说说缺点，两句话即可\"),\n",
    "    ChatQwen(memory=\"我将告诉你我的写作成果，请按照评价打一个分数，从1分至5分\")\n",
    ")\n",
    "\n",
    "flow(\"你能帮我写一首关于兔子做梦的四句儿歌?\")"
   ]
  },
  {
   "cell_type": "code",
   "execution_count": 5,
   "id": "4537cd7e-e18e-4fa7-80cf-180de7a82592",
   "metadata": {},
   "outputs": [
    {
     "data": {
      "text/plain": [
       "{'last_output': '根据您的描述，我会给这首儿歌打4分。儿歌已经能够通过简单的语言创造出一个充满童趣和想象力的梦幻场景，这是非常宝贵的。建议中的改进方向更多是为了锦上添花，让作品更为丰富和完善。如果能够在动词变化和意象丰富性上有所加强，并适当扩展歌词长度，那么这首儿歌将会更加完美。',\n",
       " 'resources': '',\n",
       " 'steps': [],\n",
       " 'task': '你能帮我写一首关于兔子做梦的四句儿歌?'}"
      ]
     },
     "execution_count": 5,
     "metadata": {},
     "output_type": "execute_result"
    }
   ],
   "source": [
    "flow.provider_dict"
   ]
  },
  {
   "cell_type": "code",
   "execution_count": 6,
   "id": "44fbecd9-3bef-4177-9618-ad865befdcc1",
   "metadata": {},
   "outputs": [
    {
     "data": {
      "text/plain": [
       "[{'role': 'system', 'content': '我将告诉你我的写作成果，你负责帮我评价文章特色，说说缺点，两句话即可'},\n",
       " {'role': 'user',\n",
       "  'content': '小兔子乖乖把梦做，\\n\\n棉尾摇摇笑容多，\\n\\n月亮妈妈轻拂过，\\n\\n青草地上舞步和。 \\n\\n（注：此儿歌意为小兔子在月光下甜甜地做着美梦，棉尾巴摇晃，仿佛与月亮和草地共舞。）'},\n",
       " {'role': 'assistant',\n",
       "  'content': '这首儿歌以简洁的语言营造了一个温馨甜美的梦境场景，充满了童趣和想象力。不过，可以考虑增加一些动词的变化或更丰富的意象来增强节奏感和画面感。此外，尝试扩展歌词的长度可能会使故事更加完整，更具吸引力。'}]"
      ]
     },
     "execution_count": 6,
     "metadata": {},
     "output_type": "execute_result"
    }
   ],
   "source": [
    "flow.agents[1].memory"
   ]
  },
  {
   "cell_type": "markdown",
   "id": "c6393119-5133-45ed-b317-f40138ceaaa7",
   "metadata": {},
   "source": [
    "## 带有模板的智能体"
   ]
  },
  {
   "cell_type": "code",
   "execution_count": 1,
   "id": "d47eb92b-5f81-4fff-9557-e6866d7b4724",
   "metadata": {},
   "outputs": [
    {
     "name": "stdout",
     "output_type": "stream",
     "text": [
      "[AGENT] \u001b[34m>>> Node 1: ChatQwen\u001b[0m\n",
      "\u001b[32m小\u001b[0m\u001b[32m兔子\u001b[0m\u001b[32m乖乖\u001b[0m\u001b[32m睡\u001b[0m\u001b[32m，\n",
      "梦中花\u001b[0m\u001b[32m儿开。\n",
      "跳\u001b[0m\u001b[32m过山丘与\u001b[0m\u001b[32m河流，\n",
      "醒来笑容\u001b[0m\u001b[32m在。\u001b[0m\u001b[32m\u001b[0m\n"
     ]
    },
    {
     "data": {
      "text/plain": [
       "'小兔子乖乖睡，\\n梦中花儿开。\\n跳过山丘与河流，\\n醒来笑容在。'"
      ]
     },
     "execution_count": 1,
     "metadata": {},
     "output_type": "execute_result"
    }
   ],
   "source": [
    "from illufly.chat import FlowAgent, ChatQwen\n",
    "from illufly.types import Template\n",
    "\n",
    "flow = FlowAgent(\n",
    "    ChatQwen(memory=[Template(\"IDEA\")]),\n",
    ")\n",
    "\n",
    "flow(\"你能帮我写一首关于兔子做梦的四句儿歌?\")"
   ]
  },
  {
   "cell_type": "code",
   "execution_count": 3,
   "id": "702f4a98-6606-48f1-be66-0183897773d5",
   "metadata": {},
   "outputs": [
    {
     "name": "stdout",
     "output_type": "stream",
     "text": [
      "[AGENT] \u001b[34m>>> Node 1: ChatQwen\u001b[0m\n",
      "\u001b[32m小兔子\u001b[0m\u001b[32m，\u001b[0m\u001b[32m扑\u001b[0m\u001b[32m通跳，水中\u001b[0m\u001b[32m游得快又\u001b[0m\u001b[32m轻。  \n",
      "清澈\u001b[0m\u001b[32m池塘，乐\u001b[0m\u001b[32m悠悠，白绒\u001b[0m\u001b[32m身影点点浮\u001b[0m\u001b[32m。  \n",
      "耳旁\u001b[0m\u001b[32m风，哗啦\u001b[0m\u001b[32m啦，夏日清凉\u001b[0m\u001b[32m乐无边。\u001b[0m\u001b[32m\u001b[0m\n"
     ]
    },
    {
     "data": {
      "text/plain": [
       "[{'role': 'system',\n",
       "  'content': '你是强大的写作助手。\\n\\n你必须遵循以下约束来完成任务:\\n1. 直接输出你的结果，不要评论，不要啰嗦\\n2. 使用markdown格式输出\\n\\n**你的任务是:**\\n你能帮我写一首关于兔子游泳的3句儿歌?\\n'},\n",
       " {'role': 'user', 'content': '请开始'},\n",
       " {'role': 'assistant',\n",
       "  'content': '小兔子，扑通跳，水中游得快又轻。  \\n清澈池塘，乐悠悠，白绒身影点点浮。  \\n耳旁风，哗啦啦，夏日清凉乐无边。'}]"
      ]
     },
     "execution_count": 3,
     "metadata": {},
     "output_type": "execute_result"
    }
   ],
   "source": [
    "flow(\"你能帮我写一首关于兔子游泳的3句儿歌?\")\n",
    "flow.agents[0].memory"
   ]
  },
  {
   "cell_type": "code",
   "execution_count": null,
   "id": "241668a4-e138-4c61-8a99-0f52be9a1351",
   "metadata": {},
   "outputs": [],
   "source": []
  }
 ],
 "metadata": {
  "kernelspec": {
   "display_name": "Python 3 (ipykernel)",
   "language": "python",
   "name": "python3"
  },
  "language_info": {
   "codemirror_mode": {
    "name": "ipython",
    "version": 3
   },
   "file_extension": ".py",
   "mimetype": "text/x-python",
   "name": "python",
   "nbconvert_exporter": "python",
   "pygments_lexer": "ipython3",
   "version": "3.10.0"
  }
 },
 "nbformat": 4,
 "nbformat_minor": 5
}
