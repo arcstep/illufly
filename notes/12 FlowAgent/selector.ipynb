{
 "cells": [
  {
   "cell_type": "markdown",
   "id": "df8879fd-83c8-49ca-84d1-3bd230bed0cd",
   "metadata": {},
   "source": [
    "## 使用 Selector 实现意图路由\n",
    "\n",
    "智能体路由可以扩展为更广泛的场景，比如根据不同的工具集合、向量库类型等，配置为不同的智能体，\n",
    "然后根据用户的意图和场景，使用 Selector 动态选择最佳的智能体。\n",
    "\n",
    "\n",
    "Selector 有两个参数：\n",
    "- condition 可以自定义，或者采用内置的方法名称，包括：\n",
    "    - first : 第一个，这是默认选项，主要用于测试\n",
    "    - random : 随机选一个\n",
    "    - similar : 输入与备选 Runnable 的 description 属性接近（要使用这一方法必须提供向量嵌入模型）\n",
    "- agents 智能体列表"
   ]
  },
  {
   "cell_type": "markdown",
   "id": "2629800f-d848-48c2-ad29-c17781756c48",
   "metadata": {},
   "source": [
    "### 基础示范"
   ]
  },
  {
   "cell_type": "code",
   "execution_count": 1,
   "id": "934242d2-87f8-4b2d-bfc5-499ced7378a1",
   "metadata": {},
   "outputs": [
    {
     "name": "stdout",
     "output_type": "stream",
     "text": [
      "[INFO] \u001b[34m记住 10 轮对话\u001b[0m\n",
      "[INFO] \u001b[34mI am FakeLLM\u001b[0m\n",
      "\u001b[32ma\u001b[0m\u001b[32mb\u001b[0m\u001b[32mc\u001b[0m\n"
     ]
    },
    {
     "data": {
      "text/plain": [
       "'abc'"
      ]
     },
     "execution_count": 1,
     "metadata": {},
     "output_type": "execute_result"
    }
   ],
   "source": [
    "from illufly.chat import ChatQwen, ChatZhipu, FakeLLM, Selector\n",
    "from illufly.io import alog\n",
    "\n",
    "# 默认选择了第一个 Runnable 作为 selected\n",
    "agent = Selector([FakeLLM([\"abc\", \"df\"]), ChatQwen(), ChatZhipu()], condition=\"first\")\n",
    "agent.select()\n",
    "agent.bind_provider({\"task\": \"写一首歌\"})\n",
    "\n",
    "agent(\"你是什么模型？\", verbose=True)"
   ]
  },
  {
   "cell_type": "code",
   "execution_count": 2,
   "id": "08de15f6-c4c9-4b25-ae39-222b942430b9",
   "metadata": {},
   "outputs": [
    {
     "name": "stdout",
     "output_type": "stream",
     "text": [
      "[INFO] \u001b[34m记住 10 轮对话\u001b[0m\n",
      "[INFO] \u001b[34mI am FakeLLM\u001b[0m\n",
      "\u001b[32md\u001b[0m\u001b[32mf\u001b[0m\n"
     ]
    },
    {
     "data": {
      "text/plain": [
       "'df'"
      ]
     },
     "execution_count": 2,
     "metadata": {},
     "output_type": "execute_result"
    }
   ],
   "source": [
    "agent.selected(\"你是什么模型？\", verbose=True)"
   ]
  },
  {
   "cell_type": "code",
   "execution_count": 3,
   "id": "419421aa-ed46-441c-b2c4-dbb844d69769",
   "metadata": {},
   "outputs": [
    {
     "data": {
      "text/plain": [
       "<FakeLLM.4504487392>"
      ]
     },
     "execution_count": 3,
     "metadata": {},
     "output_type": "execute_result"
    }
   ],
   "source": [
    "agent.selected"
   ]
  },
  {
   "cell_type": "markdown",
   "id": "eaccc94c-86db-43df-bb86-2b469a43098e",
   "metadata": {},
   "source": [
    "### 路由 ChatAgent\n",
    "\n",
    "考虑到你有两个专业的 ChatAgent:\n",
    "\n",
    "- data_agent 擅长数据分析\n",
    "- writer_agent 擅长写作\n",
    "\n",
    "你已经根据为他们分别配置了提示语模板、工具集、数据库等，但现在你需要根据用户的意图匹配到底使用哪一个智能体。<br>\n",
    "\n",
    "那么如何判断用户意图呢？\n",
    "- 方案1 可以使用大模型来做甄别，这会增加一个环节，推理过程可能延长用户的等待\n",
    "- 方案2 可以根据问题做文本相似性比较，这样做效率很高\n",
    "\n",
    "我们的例子中探讨方案2如何实现，关键就是与什么做比较？\n",
    "\n",
    "原始的可比较信息是：用户问题与智能体描述文本之间的比较，但这明显不太够用。<br>\n",
    "可以使用**检索器**和**经验缓存**来弥补。\n"
   ]
  },
  {
   "cell_type": "code",
   "execution_count": 3,
   "id": "587e02a1-7163-474d-82f6-1841c45cb1cb",
   "metadata": {},
   "outputs": [
    {
     "name": "stdout",
     "output_type": "stream",
     "text": [
      "\u001b[32m在每个\u001b[0m\u001b[32m黎明\u001b[0m\u001b[32m破\u001b[0m\u001b[32m晓前，我\u001b[0m\u001b[32m与希望并肩\u001b[0m\u001b[32m站，\n",
      "穿越风雨\u001b[0m\u001b[32m拥抱晴天，\u001b[0m\u001b[32m你是我心中的光\u001b[0m\u001b[32m，\n",
      "这首歌献给\u001b[0m\u001b[32m梦，献给\u001b[0m\u001b[32m爱，献给\u001b[0m\u001b[32m每一个不屈的\u001b[0m\u001b[32m瞬间。\u001b[0m\u001b[32m\u001b[0m\n"
     ]
    },
    {
     "data": {
      "text/plain": [
       "'在每个黎明破晓前，我与希望并肩站，\\n穿越风雨拥抱晴天，你是我心中的光，\\n这首歌献给梦，献给爱，献给每一个不屈的瞬间。'"
      ]
     },
     "execution_count": 3,
     "metadata": {},
     "output_type": "execute_result"
    }
   ],
   "source": [
    "from illufly.chat import ChatQwen, ChatZhipu, FakeLLM, Selector\n",
    "from illufly.embeddings import TextEmbeddings\n",
    "\n",
    "agent = Selector(\n",
    "    [\n",
    "        FakeLLM(description=\"模拟调用\"),\n",
    "        ChatQwen(description=\"写歌\"),\n",
    "        ChatZhipu(description=\"数据分析\")\n",
    "    ],\n",
    "    condition=\"similar\",\n",
    "    embeddings=TextEmbeddings()\n",
    ")\n",
    "\n",
    "task = \"写一首歌，3句\"\n",
    "agent.bind_provider({\"task\": task})\n",
    "agent(task)"
   ]
  },
  {
   "cell_type": "code",
   "execution_count": 3,
   "id": "894f4bfa-e490-4ead-bc6b-49a02053fe7b",
   "metadata": {},
   "outputs": [
    {
     "data": {
      "text/plain": [
       "{'task': '写一首歌，3句'}"
      ]
     },
     "execution_count": 3,
     "metadata": {},
     "output_type": "execute_result"
    }
   ],
   "source": [
    "agent.consumer_dict"
   ]
  },
  {
   "cell_type": "markdown",
   "id": "9de28635-ab3c-4b24-9541-1f63fad9d5c2",
   "metadata": {},
   "source": [
    "### 路由 PromptTemplate"
   ]
  },
  {
   "cell_type": "code",
   "execution_count": 2,
   "id": "6db8ec60-3de3-4b0d-b7d7-168f4124368e",
   "metadata": {},
   "outputs": [
    {
     "data": {
      "text/plain": [
       "<PromptTemplate consumer_dict={'task'} text='请帮我：{{task}}'>"
      ]
     },
     "execution_count": 2,
     "metadata": {},
     "output_type": "execute_result"
    }
   ],
   "source": [
    "from illufly.types import PromptTemplate\n",
    "from illufly.chat import Selector\n",
    "\n",
    "r = Selector(\n",
    "    runnables=[PromptTemplate(text=\"请帮我：{{task}}\"), PromptTemplate(text=\"你是一个作家\")]\n",
    ")\n",
    "r.bind_provider({\"task\": \"写一首歌\"})\n",
    "\n",
    "r.selected"
   ]
  },
  {
   "cell_type": "markdown",
   "id": "5721697a-d4ee-4601-9e08-8f0c072784df",
   "metadata": {},
   "source": [
    "使用 lazy_binding_map 可以先声明对象，然后在合适的时机自动实现绑定。"
   ]
  },
  {
   "cell_type": "code",
   "execution_count": 1,
   "id": "e71427d8-9b51-4207-ab2d-38762a684456",
   "metadata": {},
   "outputs": [
    {
     "name": "stdout",
     "output_type": "stream",
     "text": [
      "\u001b[32m小兔子\u001b[0m\u001b[32m乖乖\u001b[0m\u001b[32m，\u001b[0m\u001b[32m耳朵竖起来，\n",
      "\u001b[0m\u001b[32m蹦蹦跳跳\u001b[0m\u001b[32m真可爱，红\u001b[0m\u001b[32m红眼睛像玫瑰\u001b[0m\u001b[32m。 \n",
      "\n",
      "注：\u001b[0m\u001b[32m一般儿歌为了\u001b[0m\u001b[32m便于儿童记忆和\u001b[0m\u001b[32m朗诵，通常会\u001b[0m\u001b[32m采用简单重复的\u001b[0m\u001b[32m结构，这里第三\u001b[0m\u001b[32m、第四句稍微\u001b[0m\u001b[32m变化，强调了\u001b[0m\u001b[32m小兔子的活泼\u001b[0m\u001b[32m与美丽特征。\u001b[0m\u001b[32m实际上，可以根据需要\u001b[0m\u001b[32m进一步简化，保持\u001b[0m\u001b[32m重复性，如\u001b[0m\u001b[32m：“小兔子乖乖\u001b[0m\u001b[32m，耳朵竖起来\u001b[0m\u001b[32m，蹦蹦跳\u001b[0m\u001b[32m跳真可爱，\u001b[0m\u001b[32m乖乖小兔子乖\u001b[0m\u001b[32m。” 这样的\u001b[0m\u001b[32m方式更有助于\u001b[0m\u001b[32m孩子们学习和记忆\u001b[0m\u001b[32m。\u001b[0m\u001b[32m\u001b[0m\n"
     ]
    },
    {
     "data": {
      "text/plain": [
       "'小兔子乖乖，耳朵竖起来，\\n蹦蹦跳跳真可爱，红红眼睛像玫瑰。 \\n\\n注：一般儿歌为了便于儿童记忆和朗诵，通常会采用简单重复的结构，这里第三、第四句稍微变化，强调了小兔子的活泼与美丽特征。实际上，可以根据需要进一步简化，保持重复性，如：“小兔子乖乖，耳朵竖起来，蹦蹦跳跳真可爱，乖乖小兔子乖。” 这样的方式更有助于孩子们学习和记忆。'"
      ]
     },
     "execution_count": 1,
     "metadata": {},
     "output_type": "execute_result"
    }
   ],
   "source": [
    "from illufly.chat import ChatQwen, Selector\n",
    "from illufly.types import PromptTemplate\n",
    "\n",
    "t = Selector(\n",
    "    [\n",
    "        PromptTemplate(text=\"请帮我写一首关于《{{task}}》的儿歌，四句\"),\n",
    "        PromptTemplate(text=\"请帮我起一个{{name}}的名字，3个字\", lazy_binding_map={\"name\": \"task\"})\n",
    "    ],\n",
    "    condition=lambda vars, runs: runs[0]\n",
    ")\n",
    "qwen = ChatQwen(memory=[t])\n",
    "qwen(\"小兔子\")"
   ]
  },
  {
   "cell_type": "markdown",
   "id": "5f910a53-d4c3-4fba-a13b-527f6c0e9f95",
   "metadata": {},
   "source": [
    "## 自定义 Selector\n",
    "\n",
    "### 返回 Runnable"
   ]
  },
  {
   "cell_type": "code",
   "execution_count": 1,
   "id": "339f3b55-2735-4086-a78e-b0a152008866",
   "metadata": {},
   "outputs": [
    {
     "data": {
      "text/plain": [
       "<PromptTemplate consumer_dict={'task'} text='请帮我写一首关于《{{task}}》的儿歌，四句'>"
      ]
     },
     "execution_count": 1,
     "metadata": {},
     "output_type": "execute_result"
    }
   ],
   "source": [
    "from illufly.chat import ChatQwen, Selector\n",
    "from illufly.types import PromptTemplate\n",
    "\n",
    "t = Selector(\n",
    "    [\n",
    "        PromptTemplate(text=\"请帮我写一首关于《{{task}}》的儿歌，四句\"),\n",
    "        PromptTemplate(text=\"请帮我起一个{{name}}的名字，3个字\", lazy_binding_map={\"name\": \"task\"})\n",
    "    ],\n",
    "    condition=lambda vars, runs: runs[0]\n",
    ")\n",
    "t.selected"
   ]
  },
  {
   "cell_type": "markdown",
   "id": "a91619f9-a46f-4ca0-a252-6fc0ad7a0dd4",
   "metadata": {},
   "source": [
    "### 返回 name"
   ]
  },
  {
   "cell_type": "code",
   "execution_count": 2,
   "id": "f77b83a4-3554-4e43-8803-b629d9bf5177",
   "metadata": {},
   "outputs": [
    {
     "data": {
      "text/plain": [
       "'PromptTemplate.4365337936'"
      ]
     },
     "execution_count": 2,
     "metadata": {},
     "output_type": "execute_result"
    }
   ],
   "source": [
    "from illufly.chat import ChatQwen, Selector\n",
    "from illufly.types import PromptTemplate\n",
    "\n",
    "t = Selector(\n",
    "    [\n",
    "        PromptTemplate(text=\"请帮我写一首关于《{{task}}》的儿歌，四句\"),\n",
    "        PromptTemplate(text=\"请帮我起一个{{name}}的名字，3个字\", lazy_binding_map={\"name\": \"task\"})\n",
    "    ],\n",
    "    condition=lambda vars, runs: runs[0].name\n",
    ")\n",
    "t.selected"
   ]
  },
  {
   "cell_type": "markdown",
   "id": "33e14a2e-93c7-494e-b0db-7c0a618e3a8c",
   "metadata": {},
   "source": [
    "### 返回 End"
   ]
  },
  {
   "cell_type": "code",
   "execution_count": 4,
   "id": "fe32c4c4-d2c3-4e20-8419-3d4a735aedf9",
   "metadata": {},
   "outputs": [
    {
     "data": {
      "text/plain": [
       "<__End__>"
      ]
     },
     "execution_count": 4,
     "metadata": {},
     "output_type": "execute_result"
    }
   ],
   "source": [
    "from illufly.chat import ChatQwen, Selector\n",
    "from illufly.types import PromptTemplate\n",
    "\n",
    "t = Selector(\n",
    "    [\n",
    "        PromptTemplate(text=\"请帮我写一首关于《{{task}}》的儿歌，四句\"),\n",
    "        PromptTemplate(text=\"请帮我起一个{{name}}的名字，3个字\", lazy_binding_map={\"name\": \"task\"})\n",
    "    ],\n",
    "    condition=lambda: \"End\"\n",
    ")\n",
    "t.selected"
   ]
  },
  {
   "cell_type": "code",
   "execution_count": null,
   "id": "08b5bcce-3f97-4dcb-baa7-297c742e9ef0",
   "metadata": {},
   "outputs": [],
   "source": []
  }
 ],
 "metadata": {
  "kernelspec": {
   "display_name": "textlong-same-ipykernel",
   "language": "python",
   "name": "textlong-same-ipykernel"
  },
  "language_info": {
   "codemirror_mode": {
    "name": "ipython",
    "version": 3
   },
   "file_extension": ".py",
   "mimetype": "text/x-python",
   "name": "python",
   "nbconvert_exporter": "python",
   "pygments_lexer": "ipython3",
   "version": "3.10.0"
  }
 },
 "nbformat": 4,
 "nbformat_minor": 5
}
