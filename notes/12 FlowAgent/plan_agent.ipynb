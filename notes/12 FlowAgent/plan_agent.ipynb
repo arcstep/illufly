{
 "cells": [
  {
   "cell_type": "markdown",
   "id": "796bab09-5f89-4ae3-a686-859b4740c1a9",
   "metadata": {},
   "source": [
    "## 结合工具规划逻辑\n",
    "\n",
    "包括 ReAct、ReWoo、Plan 等复杂的工具规划推理也可以通过 FlowAgent 实现。"
   ]
  },
  {
   "cell_type": "markdown",
   "id": "232ba47b-75ae-474c-9479-1e88460ea800",
   "metadata": {},
   "source": [
    "## ReAct\n",
    "\n",
    "### 查天气"
   ]
  },
  {
   "cell_type": "code",
   "execution_count": 8,
   "id": "4a7cc5f4-ff7d-42d3-bc85-f2c2a74a64ca",
   "metadata": {},
   "outputs": [
    {
     "name": "stdout",
     "output_type": "stream",
     "text": [
      "[AGENT] \u001b[34mSTEP 1 >>> Node 1: ChatQwen.4466821728\u001b[0m\n",
      "\u001b[32m**思考\u001b[0m\u001b[32m**\u001b[0m\u001b[32m  \n",
      "\u001b[0m\u001b[32m首先，我需要\u001b[0m\u001b[32m确定鸿蒙公司的\u001b[0m\u001b[32m具体位置或所在\u001b[0m\u001b[32m城市，因为这\u001b[0m\u001b[32m将直接影响到我\u001b[0m\u001b[32m查询的天气信息\u001b[0m\u001b[32m是否准确。因此\u001b[0m\u001b[32m，我的第一步应该是\u001b[0m\u001b[32m使用“get_city\u001b[0m\u001b[32m”工具来确定\u001b[0m\u001b[32m鸿蒙公司所在的\u001b[0m\u001b[32m地理位置。\n",
      "\n",
      "**行动\u001b[0m\u001b[32m**  \n",
      "Plan:\u001b[0m\u001b[32m 查询鸿蒙公司\u001b[0m\u001b[32m所在城市. #\u001b[0m\u001b[32mE1 = get\u001b[0m\u001b[32m_city[{\"location\u001b[0m\u001b[32m\": \"鸿蒙\u001b[0m\u001b[32m公司\"}]\u001b[0m\u001b[32m\u001b[0m\n",
      "\u001b[32m广州\u001b[0m\n",
      "\u001b[33m\n",
      "**观察** 上面的行动结果为:\n",
      "广州\n",
      "\u001b[0m[AGENT] \u001b[34mSTEP 2 >>> Node 1: ChatQwen.4466821728\u001b[0m\n",
      "\u001b[32m**思考\u001b[0m\u001b[32m**\u001b[0m\u001b[32m  \n",
      "\u001b[0m\u001b[32m既然已经确定了\u001b[0m\u001b[32m鸿蒙公司位于\u001b[0m\u001b[32m广州市，接下来的\u001b[0m\u001b[32m步骤应该是查询广州\u001b[0m\u001b[32m的天气情况。\u001b[0m\u001b[32m为了获取准确的信息\u001b[0m\u001b[32m，我将使用\u001b[0m\u001b[32m“get_weather”\u001b[0m\u001b[32m工具来完成这个\u001b[0m\u001b[32m任务。\n",
      "\n",
      "**行动\u001b[0m\u001b[32m**  \n",
      "Plan:\u001b[0m\u001b[32m 查询广州天气情况\u001b[0m\u001b[32m. #E2\u001b[0m\u001b[32m = get_weather[\u001b[0m\u001b[32m{\"city\": \"\u001b[0m\u001b[32m广州\"}]\u001b[0m\u001b[32m\u001b[0m\n",
      "\u001b[32m广州\u001b[0m\n",
      "\u001b[32m广州天气不错，一直是大晴天\u001b[0m\n",
      "\u001b[33m\n",
      "**观察** 上面的行动结果为:\n",
      "广州\n",
      "广州天气不错，一直是大晴天\n",
      "\u001b[0m[AGENT] \u001b[34mSTEP 3 >>> Node 1: ChatQwen.4466821728\u001b[0m\n",
      "\u001b[32m**思考\u001b[0m\u001b[32m**\u001b[0m\u001b[32m  \n",
      "\u001b[0m\u001b[32m根据已有的信息\u001b[0m\u001b[32m，我们知道鸿蒙\u001b[0m\u001b[32m公司位于广州，\u001b[0m\u001b[32m而且广州的天气\u001b[0m\u001b[32m情况是晴天\u001b[0m\u001b[32m。考虑到用户询问\u001b[0m\u001b[32m的是天气情况，\u001b[0m\u001b[32m我们已经获得了所需\u001b[0m\u001b[32m的信息。因此，\u001b[0m\u001b[32m我认为现在可以结束\u001b[0m\u001b[32m任务并输出最终\u001b[0m\u001b[32m答案。\n",
      "\n",
      "**最终\u001b[0m\u001b[32m答案**\n",
      "鸿蒙\u001b[0m\u001b[32m公司位于广州，\u001b[0m\u001b[32m广州的天气情况\u001b[0m\u001b[32m非常好，一直保持\u001b[0m\u001b[32m晴朗。希望\u001b[0m\u001b[32m这个信息对您\u001b[0m\u001b[32m有帮助！\u001b[0m\u001b[32m\u001b[0m\n"
     ]
    },
    {
     "data": {
      "text/plain": [
       "[{'role': 'system',\n",
       "  'content': '尽你所能完成任务。\\n\\n**你要解决的问题是: ** 我在鸿蒙公司，帮我查询一下天气情况\\n\\n\\n**思考**  \\n首先，我需要确定鸿蒙公司的具体位置或所在城市，因为这将直接影响到我查询的天气信息是否准确。因此，我的第一步应该是使用“get_city”工具来确定鸿蒙公司所在的地理位置。\\n\\n**行动**  \\nPlan: 查询鸿蒙公司所在城市. #E1 = get_city[{\"location\": \"鸿蒙公司\"}]\\n\\n**观察** 上面的行动结果为:\\n广州\\n\\n**思考**  \\n既然已经确定了鸿蒙公司位于广州市，接下来的步骤应该是查询广州的天气情况。为了获取准确的信息，我将使用“get_weather”工具来完成这个任务。\\n\\n**行动**  \\nPlan: 查询广州天气情况. #E2 = get_weather[{\"city\": \"广州\"}]\\n\\n**观察** 上面的行动结果为:\\n广州\\n广州天气不错，一直是大晴天\\n\\n\\n(现在不要急于解决问题，而是继续按照如下步骤一步一步输出你的推理过程。)\\n\\n**思考** \\n对当前情况进行反思, 然后说明你现在的决策：当前就结束任务并输出**最终答案**，还是继续考虑下一步行动的应当如何执行。\\n\\n**最终答案**\\n(在此输出你的最终答案。)\\n如果输出最终答案，就结束任务，停止所有输出。\\n\\n**行动** \\n你可以尝试直接解决问题，并输出解决的详细过程；\\n或者从 ** get_city,get_weather,booking ** 中选择一个工具来解决问题。\\n\\n这些工具的详细描述如下:\\n{\"type\": \"function\", \"function\": {\"name\": \"get_city\", \"description\": \"由任意地址描述查询出所在的城市\", \"parameters\": {\"type\": \"object\", \"properties\": {\"location\": {\"type\": \"string\", \"description\": \"\"}}, \"required\": [\"location\"]}}}\\n{\"type\": \"function\", \"function\": {\"name\": \"get_weather\", \"description\": \"我可以查询城市的天气情况。city必须是城市名称。\", \"parameters\": {\"type\": \"object\", \"properties\": {\"city\": {\"type\": \"string\", \"description\": \"\"}}, \"required\": [\"city\"]}}}\\n{\"type\": \"function\", \"function\": {\"name\": \"booking\", \"description\": \"我可以根据你的需求预订球场\", \"parameters\": {\"type\": \"object\", \"properties\": {\"request\": {\"type\": \"string\", \"description\": \"\"}}, \"required\": [\"request\"]}}}\\n\\n请你按如下格式整理行动的详细计划，其中 #E{n} 时用于保存计划执行后的变量名，n 是子任务的序号:\\nPlan: (子任务描述) #E{n} = function_name[kwargs_with_json]\\n\\n例如：\\nPlan: 查看天气状况. #E1 = get_weather[{\"city\": \"北京\"}]\\n\\n...你必须按照 **思考-行动-观察** 的循环过程输出，可以重复N次，直到结束。\\n'},\n",
       " {'role': 'user', 'content': '请开始'},\n",
       " {'role': 'assistant',\n",
       "  'content': '**思考**  \\n根据已有的信息，我们知道鸿蒙公司位于广州，而且广州的天气情况是晴天。考虑到用户询问的是天气情况，我们已经获得了所需的信息。因此，我认为现在可以结束任务并输出最终答案。\\n\\n**最终答案**\\n鸿蒙公司位于广州，广州的天气情况非常好，一直保持晴朗。希望这个信息对您有帮助！'}]"
      ]
     },
     "execution_count": 8,
     "metadata": {},
     "output_type": "execute_result"
    }
   ],
   "source": [
    "from illufly.types import BaseAgent, PromptTemplate\n",
    "from illufly.chat import ChatQwen, ReAct\n",
    "\n",
    "def get_city(location: str):\n",
    "    \"\"\"由任意地址描述查询出所在的城市\"\"\"\n",
    "    return \"广州\"\n",
    "\n",
    "def get_weather(city: str):\n",
    "    \"\"\"我可以查询城市的天气情况。city必须是城市名称。\"\"\"\n",
    "    return f'{city}天气不错，一直是大晴天'\n",
    "\n",
    "def booking(request: str):\n",
    "    \"\"\"我可以根据你的需求预订球场\"\"\"\n",
    "    return '我已经帮你预订好了，祝你玩得愉快'\n",
    "\n",
    "flow = ReAct(planner=ChatQwen(), tools=[get_city, get_weather, booking])\n",
    "flow(\"我在鸿蒙公司，帮我查询一下天气情况\")\n",
    "\n",
    "flow.agents[0].memory"
   ]
  },
  {
   "cell_type": "markdown",
   "id": "8591386d-5855-4bb3-8121-7c61c17b1c98",
   "metadata": {},
   "source": [
    "### 订球场"
   ]
  },
  {
   "cell_type": "code",
   "execution_count": 2,
   "id": "e4926ebe-34bb-47a5-91f8-b4101164a3d5",
   "metadata": {},
   "outputs": [
    {
     "name": "stdout",
     "output_type": "stream",
     "text": [
      "[AGENT] \u001b[34mSTEP 1 >>> Node 1: ChatQwen.4558667440\u001b[0m\n",
      "\u001b[32m**思考\u001b[0m\u001b[32m**\u001b[0m\u001b[32m  \n",
      "\u001b[0m\u001b[32m首先，我需要\u001b[0m\u001b[32m知道鸿蒙公司\u001b[0m\u001b[32m所在的地点，以便\u001b[0m\u001b[32m了解该地区的天气\u001b[0m\u001b[32m情况。因此，\u001b[0m\u001b[32m我的第一个步骤应该是\u001b[0m\u001b[32m使用 `get_city\u001b[0m\u001b[32m` 工具\u001b[0m\u001b[32m来获取鸿蒙\u001b[0m\u001b[32m公司所在的城市。\n",
      "\n",
      "\u001b[0m\u001b[32m**行动**  \n",
      "\u001b[0m\u001b[32mPlan: 获取鸿\u001b[0m\u001b[32m蒙公司所在城市\u001b[0m\u001b[32m. #E1\u001b[0m\u001b[32m = get_city[\u001b[0m\u001b[32m{\"location\": \"\u001b[0m\u001b[32m鸿蒙公司\"}\u001b[0m\u001b[32m]\u001b[0m\u001b[32m\u001b[0m\n",
      "\u001b[32m广州\u001b[0m\n",
      "\u001b[33m\n",
      "**观察** 上面的行动结果为:\n",
      "广州\n",
      "\u001b[0m[AGENT] \u001b[34mSTEP 2 >>> Node 1: ChatQwen.4558667440\u001b[0m\n",
      "\u001b[32m**思考\u001b[0m\u001b[32m**\u001b[0m\u001b[32m  \n",
      "\u001b[0m\u001b[32m既然已经知道了鸿\u001b[0m\u001b[32m蒙公司位于广州\u001b[0m\u001b[32m，接下来我需要\u001b[0m\u001b[32m查看广州的天气\u001b[0m\u001b[32m情况，以确定\u001b[0m\u001b[32m是否需要预订球场\u001b[0m\u001b[32m。\n",
      "\n",
      "**行动**\u001b[0m\u001b[32m  \n",
      "Plan: 查\u001b[0m\u001b[32m看广州的天气\u001b[0m\u001b[32m状况. #E\u001b[0m\u001b[32m2 = get_weather\u001b[0m\u001b[32m[{\"city\":\u001b[0m\u001b[32m \"广州\"}]\u001b[0m\u001b[32m\u001b[0m\n",
      "\u001b[32m广州\u001b[0m\n",
      "\u001b[32m广州天气不错，一直是大晴天\u001b[0m\n",
      "\u001b[33m\n",
      "**观察** 上面的行动结果为:\n",
      "广州\n",
      "广州天气不错，一直是大晴天\n",
      "\u001b[0m[AGENT] \u001b[34mSTEP 3 >>> Node 1: ChatQwen.4558667440\u001b[0m\n",
      "\u001b[32m**思考\u001b[0m\u001b[32m**\u001b[0m\u001b[32m  \n",
      "\u001b[0m\u001b[32m既然广州的天气\u001b[0m\u001b[32m是大晴天\u001b[0m\u001b[32m，没有下雨的情况\u001b[0m\u001b[32m，那么接下来的\u001b[0m\u001b[32m步骤应该是预订球场\u001b[0m\u001b[32m。\n",
      "\n",
      "**行动**\u001b[0m\u001b[32m  \n",
      "Plan: \u001b[0m\u001b[32m预订球场\u001b[0m\u001b[32m. #E3\u001b[0m\u001b[32m = booking[{\"\u001b[0m\u001b[32mrequest\": \"在广州\u001b[0m\u001b[32m订个球场\"}\u001b[0m\u001b[32m]\u001b[0m\u001b[32m\u001b[0m\n",
      "\u001b[32m广州\u001b[0m\n",
      "\u001b[32m广州天气不错，一直是大晴天\u001b[0m\n",
      "\u001b[32m我已经帮你预订好了，祝你玩得愉快\u001b[0m\n",
      "\u001b[33m\n",
      "**观察** 上面的行动结果为:\n",
      "广州\n",
      "广州天气不错，一直是大晴天\n",
      "我已经帮你预订好了，祝你玩得愉快\n",
      "\u001b[0m[AGENT] \u001b[34mSTEP 4 >>> Node 1: ChatQwen.4558667440\u001b[0m\n",
      "\u001b[32m**思考\u001b[0m\u001b[32m**\u001b[0m\u001b[32m  \n",
      "\u001b[0m\u001b[32m基于之前的行动和\u001b[0m\u001b[32m观察结果，我们知道\u001b[0m\u001b[32m广州的天气非常好\u001b[0m\u001b[32m，没有下雨，\u001b[0m\u001b[32m而且球场已经成功\u001b[0m\u001b[32m预订了。在这种\u001b[0m\u001b[32m情况下，不需要进一步\u001b[0m\u001b[32m采取行动，可以\u001b[0m\u001b[32m结束任务了。\n",
      "\n",
      "\u001b[0m\u001b[32m**最终答案**\u001b[0m\u001b[32m  \n",
      "球场已经成功\u001b[0m\u001b[32m预订，祝你在\u001b[0m\u001b[32m广州的活动顺利\u001b[0m\u001b[32m，玩得开心\u001b[0m\u001b[32m！\u001b[0m\u001b[32m\u001b[0m\n"
     ]
    },
    {
     "data": {
      "text/plain": [
       "'我在鸿蒙公司，如果不下雨就帮我订个球场'"
      ]
     },
     "execution_count": 2,
     "metadata": {},
     "output_type": "execute_result"
    }
   ],
   "source": [
    "flow(\"我在鸿蒙公司，如果不下雨就帮我订个球场\")"
   ]
  },
  {
   "cell_type": "markdown",
   "id": "fa8f9d07-36c3-4d0f-bd84-94ed0c22fb5a",
   "metadata": {},
   "source": [
    "### 查看提示语组装结果"
   ]
  },
  {
   "cell_type": "code",
   "execution_count": 3,
   "id": "bfaa5e59-0405-45b8-b361-1eb3216af88d",
   "metadata": {},
   "outputs": [
    {
     "name": "stdout",
     "output_type": "stream",
     "text": [
      "尽你所能完成任务。\n",
      "\n",
      "**你要解决的问题是: ** 我在鸿蒙公司，如果不下雨就帮我订个球场\n",
      "\n",
      "\n",
      "**思考**  \n",
      "首先，我需要知道鸿蒙公司所在的地点，以便了解该地区的天气情况。因此，我的第一个步骤应该是使用 `get_city` 工具来获取鸿蒙公司所在的城市。\n",
      "\n",
      "**行动**  \n",
      "Plan: 获取鸿蒙公司所在城市. #E1 = get_city[{\"location\": \"鸿蒙公司\"}]\n",
      "\n",
      "**观察** 上面的行动结果为:\n",
      "广州\n",
      "\n",
      "**思考**  \n",
      "既然已经知道了鸿蒙公司位于广州，接下来我需要查看广州的天气情况，以确定是否需要预订球场。\n",
      "\n",
      "**行动**  \n",
      "Plan: 查看广州的天气状况. #E2 = get_weather[{\"city\": \"广州\"}]\n",
      "\n",
      "**观察** 上面的行动结果为:\n",
      "广州\n",
      "广州天气不错，一直是大晴天\n",
      "\n",
      "**思考**  \n",
      "既然广州的天气是大晴天，没有下雨的情况，那么接下来的步骤应该是预订球场。\n",
      "\n",
      "**行动**  \n",
      "Plan: 预订球场. #E3 = booking[{\"request\": \"在广州订个球场\"}]\n",
      "\n",
      "**观察** 上面的行动结果为:\n",
      "广州\n",
      "广州天气不错，一直是大晴天\n",
      "我已经帮你预订好了，祝你玩得愉快\n",
      "\n",
      "\n",
      "(现在不要急于解决问题，而是继续按照如下步骤一步一步输出你的推理过程。)\n",
      "\n",
      "**思考** \n",
      "对当前情况进行反思, 然后说明你现在的决策：当前就结束任务并输出**最终答案**，还是继续考虑下一步行动的应当如何执行。\n",
      "\n",
      "**最终答案**\n",
      "(在此输出你的最终答案。)\n",
      "如果输出最终答案，就结束任务，停止所有输出。\n",
      "\n",
      "**行动** \n",
      "你可以尝试直接解决问题，并输出解决的详细过程；\n",
      "或者从 ** get_city,get_weather,booking ** 中选择一个工具来解决问题。\n",
      "\n",
      "这些工具的详细描述如下:\n",
      "{\"type\": \"function\", \"function\": {\"name\": \"get_city\", \"description\": \"由任意地址描述查询出所在的城市\", \"parameters\": {\"type\": \"object\", \"properties\": {\"location\": {\"type\": \"string\", \"description\": \"\"}}, \"required\": [\"location\"]}}}\n",
      "{\"type\": \"function\", \"function\": {\"name\": \"get_weather\", \"description\": \"我可以查询城市的天气情况。city必须是城市名称。\", \"parameters\": {\"type\": \"object\", \"properties\": {\"city\": {\"type\": \"string\", \"description\": \"\"}}, \"required\": [\"city\"]}}}\n",
      "{\"type\": \"function\", \"function\": {\"name\": \"booking\", \"description\": \"我可以根据你的需求预订球场\", \"parameters\": {\"type\": \"object\", \"properties\": {\"request\": {\"type\": \"string\", \"description\": \"\"}}, \"required\": [\"request\"]}}}\n",
      "\n",
      "请你按如下格式整理行动的详细计划，其中 #E{n} 时用于保存计划执行后的变量名，n 是子任务的序号:\n",
      "Plan: (子任务描述) #E{n} = function_name[kwargs_with_json]\n",
      "\n",
      "例如：\n",
      "Plan: 查看天气状况. #E1 = get_weather[{\"city\": \"北京\"}]\n",
      "\n",
      "...你必须按照 **思考-行动-观察** 的循环过程输出，可以重复N次，直到结束。\n",
      "\n"
     ]
    }
   ],
   "source": [
    "print(flow.agents[0].memory[0]['content'])"
   ]
  },
  {
   "cell_type": "markdown",
   "id": "7a08691f-af0b-4da3-b74c-b45e08780b51",
   "metadata": {},
   "source": [
    "### 查看思考过程"
   ]
  },
  {
   "cell_type": "code",
   "execution_count": 4,
   "id": "2c725797-fd50-4c26-8f9f-b413b3b13b7c",
   "metadata": {},
   "outputs": [
    {
     "name": "stdout",
     "output_type": "stream",
     "text": [
      "**思考**  \n",
      "首先，我需要知道鸿蒙公司所在的地点，以便了解该地区的天气情况。因此，我的第一个步骤应该是使用 `get_city` 工具来获取鸿蒙公司所在的城市。\n",
      "\n",
      "**行动**  \n",
      "Plan: 获取鸿蒙公司所在城市. #E1 = get_city[{\"location\": \"鸿蒙公司\"}]\n",
      "\n",
      "**观察** 上面的行动结果为:\n",
      "广州\n",
      "\n",
      "**思考**  \n",
      "既然已经知道了鸿蒙公司位于广州，接下来我需要查看广州的天气情况，以确定是否需要预订球场。\n",
      "\n",
      "**行动**  \n",
      "Plan: 查看广州的天气状况. #E2 = get_weather[{\"city\": \"广州\"}]\n",
      "\n",
      "**观察** 上面的行动结果为:\n",
      "广州\n",
      "广州天气不错，一直是大晴天\n",
      "\n",
      "**思考**  \n",
      "既然广州的天气是大晴天，没有下雨的情况，那么接下来的步骤应该是预订球场。\n",
      "\n",
      "**行动**  \n",
      "Plan: 预订球场. #E3 = booking[{\"request\": \"在广州订个球场\"}]\n",
      "\n",
      "**观察** 上面的行动结果为:\n",
      "广州\n",
      "广州天气不错，一直是大晴天\n",
      "我已经帮你预订好了，祝你玩得愉快\n",
      "\n",
      "**思考**  \n",
      "基于之前的行动和观察结果，我们知道广州的天气非常好，没有下雨，而且球场已经成功预订了。在这种情况下，不需要进一步采取行动，可以结束任务了。\n",
      "\n",
      "**最终答案**  \n",
      "球场已经成功预订，祝你在广州的活动顺利，玩得开心！\n"
     ]
    }
   ],
   "source": [
    "print(flow.provider_dict['completed_work'])"
   ]
  },
  {
   "cell_type": "code",
   "execution_count": 5,
   "id": "7398d289-12b5-4986-841b-da4971cf9972",
   "metadata": {},
   "outputs": [
    {
     "data": {
      "text/plain": [
       "'球场已经成功预订，祝你在广州的活动顺利，玩得开心！'"
      ]
     },
     "execution_count": 5,
     "metadata": {},
     "output_type": "execute_result"
    }
   ],
   "source": [
    "flow.final_answer"
   ]
  },
  {
   "cell_type": "markdown",
   "id": "04c5f41e-6664-4115-9226-2596049e4096",
   "metadata": {},
   "source": [
    "## ReWOO\n",
    "\n",
    "- 管道计算场景：上一个任务的输出，作为下一个任务的输入\n",
    "- 参数组装场景：上一个任务的输出需要做一定转换，才能作为下一个任务的输入（执行哪个任务是确定的，但参数需要组装）\n",
    "- 条件分支场景：上一个任务的输出作为一种判定条件，决定执行接下来哪个任务（执行哪个任务不确定，需要根据当前任务返回来判定）\n",
    "\n",
    "### 查天气"
   ]
  },
  {
   "cell_type": "code",
   "execution_count": 1,
   "id": "4df100e8-c809-4be5-9ee0-d0bc40ef47ed",
   "metadata": {},
   "outputs": [
    {
     "name": "stdout",
     "output_type": "stream",
     "text": [
      "[AGENT] \u001b[34mSTEP 1 >>> Node 1: planner\u001b[0m\n",
      "[INFO] \u001b[34m记住 10 轮对话\u001b[0m\n",
      "\u001b[32mPlan:\u001b[0m\u001b[32m \u001b[0m\u001b[32m首先需要确定\u001b[0m\u001b[32m鸿蒙公司的位置\u001b[0m\u001b[32m所在城市。#\u001b[0m\u001b[32mE1 = get\u001b[0m\u001b[32m_city({\"location\":\u001b[0m\u001b[32m \"鸿蒙公司\u001b[0m\u001b[32m\"})\n",
      "Plan: 使用\u001b[0m\u001b[32m上一步找到的城市\u001b[0m\u001b[32m名称查询该城市的\u001b[0m\u001b[32m天气情况。#\u001b[0m\u001b[32mE2 = get\u001b[0m\u001b[32m_weather({\"city\":\u001b[0m\u001b[32m \"#E1\"})\u001b[0m\u001b[32m\u001b[0m\n",
      "[USAGE] \u001b[34m{\"input_tokens\": 527, \"output_tokens\": 56, \"total_tokens\": 583}\u001b[0m\n",
      "\u001b[32m广州\u001b[0m\n",
      "[TOOL_RESP_FINAL] \u001b[36m广州\u001b[0m\n",
      "\u001b[32m广州天气不错，一直是大晴天\u001b[0m\n",
      "[TOOL_RESP_FINAL] \u001b[36m广州天气不错，一直是大晴天\u001b[0m\n",
      "[INFO] \u001b[34m记住 10 轮对话\u001b[0m\n",
      "\u001b[32m广州天气\u001b[0m\u001b[32m不错\u001b[0m\u001b[32m，\u001b[0m\u001b[32m一直是大晴天\u001b[0m\u001b[32m。\u001b[0m\u001b[32m\u001b[0m\n",
      "[USAGE] \u001b[34m{\"input_tokens\": 172, \"output_tokens\": 9, \"total_tokens\": 181}\u001b[0m\n",
      "\u001b[33m\n",
      "**最终答案**\n",
      "广州天气不错，一直是大晴天。\n",
      "\u001b[0m"
     ]
    },
    {
     "data": {
      "text/plain": [
       "[{'role': 'system',\n",
       "  'content': '对于以下任务，制定可以逐步解决问题的计划。\\n对于每个计划，指明使用哪个外部工具以及工具输入来获取证据。\\n你可以将具体计划的执行结果存储在一个变量 #E 中，后续工具可以调用该变量。\\n(Plan, #E1, Plan, #E2, Plan, ...)\\n\\n工具可以是以下之一：\\n{\"type\": \"function\", \"function\": {\"name\": \"get_city\", \"description\": \"由任意地址描述查询出所在的城市\", \"parameters\": {\"type\": \"object\", \"properties\": {\"location\": {\"type\": \"string\", \"description\": \"\"}}, \"required\": [\"location\"]}}}\\n{\"type\": \"function\", \"function\": {\"name\": \"get_weather\", \"description\": \"我可以查询城市的天气情况。city必须是城市名称。\", \"parameters\": {\"type\": \"object\", \"properties\": {\"city\": {\"type\": \"string\", \"description\": \"\"}}, \"required\": [\"city\"]}}}\\n{\"type\": \"function\", \"function\": {\"name\": \"booking\", \"description\": \"我可以根据你的需求预订球场\", \"parameters\": {\"type\": \"object\", \"properties\": {\"request\": {\"type\": \"string\", \"description\": \"\"}}, \"required\": [\"request\"]}}}\\n\\n**Example:**\\n任务: Thomas、Toby 和 Rebecca 在一周内总共工作了 157 小时。\\nThomas 工作了 x 小时。\\nToby 工作的时间比 Thomas 的两倍少 10 小时，而 Rebecca 工作的时间比 Toby 少 8 小时。\\nRebecca 工作了多少小时？\\n\\nPlan: 假设 Thomas 工作了 x 小时，将问题转化为代数表达式并使用 Wolfram Alpha 解决。#E1 = WolframAlpha({\"prompt\":\"Solve x + (2x − 10) + ((2x − 10) − 8) = 157\"})\\nPlan: 找出 Thomas 工作的小时数。#E2 = LLM({\"prompt\": \"What is x, given #E1\"})\\nPlan: 计算 Rebecca 工作的小时数。#E3 = Calculator({\"expr\": \"(2 ∗ #E2 − 10) − 8\"})\\n\\n开始！\\n详细描述你的计划。每个计划后面应只跟一个 #E。\\n\\n任务：我在鸿蒙公司，帮我查询一下天气情况'},\n",
       " {'role': 'user', 'content': '请开始'},\n",
       " {'role': 'assistant',\n",
       "  'content': 'Plan: 首先需要确定鸿蒙公司的位置所在城市。#E1 = get_city({\"location\": \"鸿蒙公司\"})\\nPlan: 使用上一步找到的城市名称查询该城市的天气情况。#E2 = get_weather({\"city\": \"#E1\"})'}]"
      ]
     },
     "execution_count": 1,
     "metadata": {},
     "output_type": "execute_result"
    }
   ],
   "source": [
    "from illufly.types import BaseAgent, PromptTemplate\n",
    "from illufly.chat import ChatQwen, ReWOO\n",
    "def get_city(location: str):\n",
    "    \"\"\"由任意地址描述查询出所在的城市\"\"\"\n",
    "    return \"广州\"\n",
    "\n",
    "def get_weather(city: str):\n",
    "    \"\"\"我可以查询城市的天气情况。city必须是城市名称。\"\"\"\n",
    "    return f'{city}天气不错，一直是大晴天'\n",
    "\n",
    "def booking(request: str):\n",
    "    \"\"\"我可以根据你的需求预订球场\"\"\"\n",
    "    return '我已经帮你预订好了，祝你玩得愉快'\n",
    "\n",
    "flow = ReWOO(planner=ChatQwen(), solver=ChatQwen(), tools=[get_city, get_weather, booking])\n",
    "flow(\"我在鸿蒙公司，帮我查询一下天气情况\", verbose=True)\n",
    "flow.agents[0].memory"
   ]
  },
  {
   "cell_type": "code",
   "execution_count": 2,
   "id": "9abd6c79-4ba4-4e5f-a23a-3ec5d3fc5813",
   "metadata": {},
   "outputs": [
    {
     "data": {
      "text/plain": [
       "'广州天气不错，一直是大晴天。'"
      ]
     },
     "execution_count": 2,
     "metadata": {},
     "output_type": "execute_result"
    }
   ],
   "source": [
    "flow.final_answer"
   ]
  },
  {
   "cell_type": "code",
   "execution_count": 3,
   "id": "560479a2-c0cd-4e8c-a131-2f473961b9fa",
   "metadata": {},
   "outputs": [
    {
     "data": {
      "text/plain": [
       "[{'id': '#E1',\n",
       "  'description': '首先需要确定鸿蒙公司的位置所在城市。',\n",
       "  'name': 'get_city',\n",
       "  'arguments': '{\"location\": \"鸿蒙公司\"}',\n",
       "  'result': '广州'},\n",
       " {'id': '#E2',\n",
       "  'description': '使用上一步找到的城市名称查询该城市的天气情况。',\n",
       "  'name': 'get_weather',\n",
       "  'arguments': '{\"city\": \"#E1\"}',\n",
       "  'result': '广州天气不错，一直是大晴天'}]"
      ]
     },
     "execution_count": 3,
     "metadata": {},
     "output_type": "execute_result"
    }
   ],
   "source": [
    "flow.handler_tool_call.steps"
   ]
  },
  {
   "cell_type": "code",
   "execution_count": 4,
   "id": "e724348f-e8f4-4e80-ad4a-922259a4a283",
   "metadata": {},
   "outputs": [
    {
     "name": "stdout",
     "output_type": "stream",
     "text": [
      "Plan: 首先需要确定鸿蒙公司的位置所在城市。 \n",
      "#E1 = get_city[{\"location\": \"鸿蒙公司\"}]\n",
      "result: 广州\n",
      "Plan: 使用上一步找到的城市名称查询该城市的天气情况。 \n",
      "#E2 = get_weather[{\"city\": \"#E1\"}]\n",
      "result: 广州天气不错，一直是大晴天\n"
     ]
    }
   ],
   "source": [
    "print(flow.handler_tool_call.completed_work)"
   ]
  },
  {
   "cell_type": "code",
   "execution_count": 6,
   "id": "cf5380c4-f383-403d-98d8-8e4574d7e2cb",
   "metadata": {},
   "outputs": [
    {
     "name": "stdout",
     "output_type": "stream",
     "text": [
      "对于以下任务，制定可以逐步解决问题的计划。\n",
      "对于每个计划，指明使用哪个外部工具以及工具输入来获取证据。\n",
      "你可以将具体计划的执行结果存储在一个变量 #E 中，后续工具可以调用该变量。\n",
      "(Plan, #E1, Plan, #E2, Plan, ...)\n",
      "\n",
      "工具可以是以下之一：\n",
      "{\"type\": \"function\", \"function\": {\"name\": \"get_city\", \"description\": \"由任意地址描述查询出所在的城市\", \"parameters\": {\"type\": \"object\", \"properties\": {\"location\": {\"type\": \"string\", \"description\": \"\"}}, \"required\": [\"location\"]}}}\n",
      "{\"type\": \"function\", \"function\": {\"name\": \"get_weather\", \"description\": \"我可以查询城市的天气情况。city必须是城市名称。\", \"parameters\": {\"type\": \"object\", \"properties\": {\"city\": {\"type\": \"string\", \"description\": \"\"}}, \"required\": [\"city\"]}}}\n",
      "{\"type\": \"function\", \"function\": {\"name\": \"booking\", \"description\": \"我可以根据你的需求预订球场\", \"parameters\": {\"type\": \"object\", \"properties\": {\"request\": {\"type\": \"string\", \"description\": \"\"}}, \"required\": [\"request\"]}}}\n",
      "\n",
      "**Example:**\n",
      "任务: Thomas、Toby 和 Rebecca 在一周内总共工作了 157 小时。\n",
      "Thomas 工作了 x 小时。\n",
      "Toby 工作的时间比 Thomas 的两倍少 10 小时，而 Rebecca 工作的时间比 Toby 少 8 小时。\n",
      "Rebecca 工作了多少小时？\n",
      "\n",
      "Plan: 假设 Thomas 工作了 x 小时，将问题转化为代数表达式并使用 Wolfram Alpha 解决。#E1 = WolframAlpha({\"prompt\":\"Solve x + (2x − 10) + ((2x − 10) − 8) = 157\"})\n",
      "Plan: 找出 Thomas 工作的小时数。#E2 = LLM({\"prompt\": \"What is x, given #E1\"})\n",
      "Plan: 计算 Rebecca 工作的小时数。#E3 = Calculator({\"expr\": \"(2 ∗ #E2 − 10) − 8\"})\n",
      "\n",
      "开始！\n",
      "详细描述你的计划。每个计划后面应只跟一个 #E。\n",
      "\n",
      "任务：我在鸿蒙公司，帮我查询一下天气情况\n"
     ]
    }
   ],
   "source": [
    "print(flow.agents[0].memory[0]['content'])"
   ]
  },
  {
   "cell_type": "code",
   "execution_count": 10,
   "id": "1bf9aebe-022c-46fd-b947-8f53cbda0a16",
   "metadata": {},
   "outputs": [
    {
     "name": "stdout",
     "output_type": "stream",
     "text": [
      "解决以下任务或问题。\n",
      "为了解决这个问题，我们制定了逐步计划，并获得了每个计划的执行结果。\n",
      "请谨慎使用这些执行结果，因为其中可能包含不相关的信息。\n",
      "\n",
      "Plan: 首先需要确定鸿蒙公司的位置所在城市。 \n",
      "#E1 = get_city[{\"location\": \"鸿蒙公司\"}]\n",
      "result: 广州\n",
      "Plan: 使用上一步找到的城市名称查询该城市的天气情况。 \n",
      "#E2 = get_weather[{\"city\": \"#E1\"}]\n",
      "result: 广州天气不错，一直是大晴天\n",
      "\n",
      "现在根据上面提供的执行结果解决问题或任务。\n",
      "直接回答问题，不要废话，不要评论。\n",
      "\n",
      "任务: 我在鸿蒙公司，帮我查询一下天气情况\n",
      "\n",
      "你的回答:\n",
      "\n"
     ]
    }
   ],
   "source": [
    "print(flow.solver.memory[0]['content'])"
   ]
  },
  {
   "cell_type": "code",
   "execution_count": 9,
   "id": "d432db03-8af3-426f-a7bd-5f19267bd9ea",
   "metadata": {},
   "outputs": [
    {
     "name": "stdout",
     "output_type": "stream",
     "text": [
      "[AGENT] \u001b[34mSTEP 1 >>> Node 1: planner\u001b[0m\n",
      "\u001b[32mPlan:\u001b[0m\u001b[32m \u001b[0m\u001b[32m首先，我们需要\u001b[0m\u001b[32m确定用户所在的地理位置\u001b[0m\u001b[32m，以便为他们\u001b[0m\u001b[32m预订附近的球场。\n",
      "\u001b[0m\u001b[32m#E1 =\u001b[0m\u001b[32m get_city({\"location\u001b[0m\u001b[32m\": \"用户的位置\u001b[0m\u001b[32m\"})\n",
      "\n",
      "Plan:\u001b[0m\u001b[32m 接下来，\u001b[0m\u001b[32m我们将查询该城市\u001b[0m\u001b[32m当天的天气预报\u001b[0m\u001b[32m，以确定是否会\u001b[0m\u001b[32m下雨。\n",
      "#E\u001b[0m\u001b[32m2 = get_weather\u001b[0m\u001b[32m({\"city\": \"#\u001b[0m\u001b[32mE1\"})\n",
      "\n",
      "\u001b[0m\u001b[32mPlan: 如果天气\u001b[0m\u001b[32m预报显示不会下雨\u001b[0m\u001b[32m，那么我们将根据\u001b[0m\u001b[32m用户的需求预订一个\u001b[0m\u001b[32m球场。\n",
      "#E\u001b[0m\u001b[32m3 = booking({\"\u001b[0m\u001b[32mrequest\": \"预订\u001b[0m\u001b[32m一个适合用户的球场\u001b[0m\u001b[32m，确保天气预报\u001b[0m\u001b[32m显示不会下雨\"})\u001b[0m\u001b[32m\u001b[0m\n",
      "\u001b[32m广州\u001b[0m\n",
      "\u001b[32m广州天气不错，一直是大晴天\u001b[0m\n",
      "\u001b[32m我已经帮你预订好了，祝你玩得愉快\u001b[0m\n",
      "\u001b[32m我已经帮你\u001b[0m\u001b[32m预订\u001b[0m\u001b[32m好了\u001b[0m\u001b[32m，祝你玩\u001b[0m\u001b[32m得愉快。\u001b[0m\u001b[32m\u001b[0m\n",
      "\u001b[33m\n",
      "**最终答案**\n",
      "我已经帮你预订好了，祝你玩得愉快。\n",
      "\u001b[0m"
     ]
    },
    {
     "data": {
      "text/plain": [
       "'如果不下雨，你帮我订一个球场？'"
      ]
     },
     "execution_count": 9,
     "metadata": {},
     "output_type": "execute_result"
    }
   ],
   "source": [
    "flow(\"如果不下雨，你帮我订一个球场？\")"
   ]
  },
  {
   "cell_type": "code",
   "execution_count": null,
   "id": "f47fb663-9e61-44e6-85e2-c556da379593",
   "metadata": {},
   "outputs": [],
   "source": []
  }
 ],
 "metadata": {
  "kernelspec": {
   "display_name": "textlong-same-ipykernel",
   "language": "python",
   "name": "textlong-same-ipykernel"
  },
  "language_info": {
   "codemirror_mode": {
    "name": "ipython",
    "version": 3
   },
   "file_extension": ".py",
   "mimetype": "text/x-python",
   "name": "python",
   "nbconvert_exporter": "python",
   "pygments_lexer": "ipython3",
   "version": "3.10.0"
  }
 },
 "nbformat": 4,
 "nbformat_minor": 5
}
