{
 "cells": [
  {
   "cell_type": "markdown",
   "id": "796bab09-5f89-4ae3-a686-859b4740c1a9",
   "metadata": {},
   "source": [
    "## 结合工具规划逻辑\n",
    "\n",
    "包括 ReAct、ReWoo、Plan 等复杂的工具规划推理也可以通过 FlowAgent 实现。"
   ]
  },
  {
   "cell_type": "markdown",
   "id": "232ba47b-75ae-474c-9479-1e88460ea800",
   "metadata": {},
   "source": [
    "## CoT\n",
    "### 讨论一个复杂问题"
   ]
  },
  {
   "cell_type": "code",
   "execution_count": 1,
   "id": "e243a999-2c48-4b58-b8e9-1c4f91027cc5",
   "metadata": {},
   "outputs": [
    {
     "name": "stdout",
     "output_type": "stream",
     "text": [
      "[AGENT] \u001b[34m>>> Node 1: planner\u001b[0m\n",
      "\u001b[32m**\u001b[0m\u001b[32m思考\u001b[0m\u001b[32m**\n",
      "\n",
      "\u001b[0m\u001b[32m1\u001b[0m\u001b[32m. 任务中\u001b[0m\u001b[32m是否包含关键概念\u001b[0m\u001b[32m: 比\u001b[0m\u001b[32m较两个数字的\u001b[0m\u001b[32m大小。已知\u001b[0m\u001b[32m的数字是9\u001b[0m\u001b[32m.11和\u001b[0m\u001b[32m9.9。\n",
      "\u001b[0m\u001b[32m   - 数字\u001b[0m\u001b[32m1: 9\u001b[0m\u001b[32m.11\n",
      "\u001b[0m\u001b[32m   - 数字\u001b[0m\u001b[32m2: 9\u001b[0m\u001b[32m.9\n",
      "\n",
      "2\u001b[0m\u001b[32m. 将任务\u001b[0m\u001b[32m中的关键概念拆\u001b[0m\u001b[32m解为一系列待\u001b[0m\u001b[32m查询的子要素\u001b[0m\u001b[32m：\n",
      "   - 数\u001b[0m\u001b[32m字1 (9\u001b[0m\u001b[32m.11)\n",
      "\u001b[0m\u001b[32m     - 整\u001b[0m\u001b[32m数部分: \u001b[0m\u001b[32m9\n",
      "     -\u001b[0m\u001b[32m 小数部分\u001b[0m\u001b[32m: 0.\u001b[0m\u001b[32m11\n",
      "  \u001b[0m\u001b[32m - 数字2\u001b[0m\u001b[32m (9.9\u001b[0m\u001b[32m)\n",
      "     - \u001b[0m\u001b[32m整数部分:\u001b[0m\u001b[32m 9\n",
      "    \u001b[0m\u001b[32m - 小数\u001b[0m\u001b[32m部分: 0\u001b[0m\u001b[32m.9\n",
      "\n",
      "3\u001b[0m\u001b[32m. 观察\u001b[0m\u001b[32m以前的执行记录\u001b[0m\u001b[32m：概念拆解\u001b[0m\u001b[32m已经完整、准确\u001b[0m\u001b[32m。每个关键概念\u001b[0m\u001b[32m或要素的查询\u001b[0m\u001b[32m都已经得到了准确的结果\u001b[0m\u001b[32m。从当前的信息\u001b[0m\u001b[32m中，我们可以直接\u001b[0m\u001b[32m比较这两个数字的\u001b[0m\u001b[32m大小。\n",
      "\n",
      "**行动\u001b[0m\u001b[32m**\n",
      "\n",
      "要比较9\u001b[0m\u001b[32m.11和\u001b[0m\u001b[32m9.9的\u001b[0m\u001b[32m大小，我们首先\u001b[0m\u001b[32m比较它们的整\u001b[0m\u001b[32m数部分。两个\u001b[0m\u001b[32m数字的整数\u001b[0m\u001b[32m部分都是9，\u001b[0m\u001b[32m所以接下来需要比较\u001b[0m\u001b[32m它们的小数部分\u001b[0m\u001b[32m。9.1\u001b[0m\u001b[32m1的小数部分\u001b[0m\u001b[32m是0.1\u001b[0m\u001b[32m1，而9\u001b[0m\u001b[32m.9的小数\u001b[0m\u001b[32m部分是0.\u001b[0m\u001b[32m9。因为0\u001b[0m\u001b[32m.11 \u001b[0m\u001b[32m< 0.9\u001b[0m\u001b[32m，所以9.\u001b[0m\u001b[32m11 < \u001b[0m\u001b[32m9.9。\n",
      "\n",
      "\u001b[0m\u001b[32m**最终答案**\n",
      "\u001b[0m\u001b[32m<final_answer>\n",
      "\u001b[0m\u001b[32m9.9更大\u001b[0m\u001b[32m。\n",
      "</final_answer\u001b[0m\u001b[32m>\u001b[0m\u001b[32m\u001b[0m\n",
      "[AGENT] \u001b[34m>>> Node 2: observer\u001b[0m\n"
     ]
    },
    {
     "data": {
      "text/plain": [
       "'\\n9.9更大。\\n'"
      ]
     },
     "execution_count": 1,
     "metadata": {},
     "output_type": "execute_result"
    }
   ],
   "source": [
    "from illufly.chat import ChatQwen\n",
    "from illufly.flow import CoT\n",
    "\n",
    "flow = CoT(ChatQwen())\n",
    "flow(\"9.11和9.9哪个更大？\")"
   ]
  },
  {
   "cell_type": "markdown",
   "id": "720fb355-119a-4542-997e-ee1d8a3e42b0",
   "metadata": {},
   "source": [
    "### 支持异步"
   ]
  },
  {
   "cell_type": "code",
   "execution_count": 1,
   "id": "a35823a1-4a2e-4d47-a2a6-9f6324586424",
   "metadata": {},
   "outputs": [
    {
     "name": "stdout",
     "output_type": "stream",
     "text": [
      "[AGENT] \u001b[34mChatQwen.4486347936\u001b[0m\n",
      "\u001b[32m**\u001b[0m\u001b[32m思考\u001b[0m\u001b[32m**\u001b[0m\u001b[32m  \n",
      "\u001b[0m\u001b[32m当前的任务是比较两个\u001b[0m\u001b[32m数字：9.\u001b[0m\u001b[32m11和9\u001b[0m\u001b[32m.9，以\u001b[0m\u001b[32m确定哪个更大。\u001b[0m\u001b[32m这涉及到基本的\u001b[0m\u001b[32m数学比较原则。\u001b[0m\u001b[32m在这个任务中，\u001b[0m\u001b[32m没有复杂的组合型\u001b[0m\u001b[32m概念或实体需要\u001b[0m\u001b[32m处理，主要是理解\u001b[0m\u001b[32m小数的概念以及\u001b[0m\u001b[32m如何比较它们的\u001b[0m\u001b[32m大小。\n",
      "\n",
      "1.\u001b[0m\u001b[32m 任务中是否\u001b[0m\u001b[32m包含关键概念:\u001b[0m\u001b[32m 比较\u001b[0m\u001b[32m两个小数的\u001b[0m\u001b[32m大小。\n",
      "   -\u001b[0m\u001b[32m 数字1:\u001b[0m\u001b[32m 9.1\u001b[0m\u001b[32m1\n",
      "   -\u001b[0m\u001b[32m 数字2:\u001b[0m\u001b[32m 9.9\u001b[0m\u001b[32m\n",
      "\n",
      "2. \u001b[0m\u001b[32m将任务中的关键\u001b[0m\u001b[32m概念拆解为\u001b[0m\u001b[32m一系列待查询的\u001b[0m\u001b[32m子要素：\n",
      "  \u001b[0m\u001b[32m - 比\u001b[0m\u001b[32m较两个小数\u001b[0m\u001b[32m的方法\n",
      "     -\u001b[0m\u001b[32m 比较\u001b[0m\u001b[32m整数部分\n",
      "\u001b[0m\u001b[32m     - 如果整\u001b[0m\u001b[32m数部分相同，则\u001b[0m\u001b[32m比较小数点\u001b[0m\u001b[32m后的第一位\n",
      "    \u001b[0m\u001b[32m - 如果小数\u001b[0m\u001b[32m点后的第一位也\u001b[0m\u001b[32m相同，则继续比较\u001b[0m\u001b[32m下一位，直至\u001b[0m\u001b[32m找到不同之处\n",
      "\n",
      "\u001b[0m\u001b[32m3. 观\u001b[0m\u001b[32m察以前的执行\u001b[0m\u001b[32m记录：在这个简单的\u001b[0m\u001b[32m任务中，我们\u001b[0m\u001b[32m已经有了足够的信息来\u001b[0m\u001b[32m做出判断，不需要\u001b[0m\u001b[32m进一步查询或获取\u001b[0m\u001b[32m额外的信息。\n",
      "\n",
      "**\u001b[0m\u001b[32m行动**  \n",
      "根据\u001b[0m\u001b[32m上述分析，首先\u001b[0m\u001b[32m比较这两个数字的\u001b[0m\u001b[32m整数部分。\u001b[0m\u001b[32m9.11\u001b[0m\u001b[32m 和 9.\u001b[0m\u001b[32m9 的整数\u001b[0m\u001b[32m部分都是 9\u001b[0m\u001b[32m，所以接下来比较\u001b[0m\u001b[32m小数部分。\u001b[0m\u001b[32m9.11\u001b[0m\u001b[32m 的小数部分\u001b[0m\u001b[32m是 .11\u001b[0m\u001b[32m，而 9\u001b[0m\u001b[32m.9 的小\u001b[0m\u001b[32m数部分是 .\u001b[0m\u001b[32m9。显然，\u001b[0m\u001b[32m.11 \u001b[0m\u001b[32m< .9，因此\u001b[0m\u001b[32m 9.1\u001b[0m\u001b[32m1 < 9\u001b[0m\u001b[32m.9。\n",
      "\n",
      "**\u001b[0m\u001b[32m最终答案**\n",
      "\u001b[0m\u001b[32m<final_answer>9\u001b[0m\u001b[32m.9</final\u001b[0m\u001b[32m_answer>\u001b[0m\u001b[32m\u001b[0m\n",
      "\u001b[33m'EventBlock' object has no attribute 'type'\u001b[0m"
     ]
    },
    {
     "data": {
      "text/plain": [
       "'**思考**  \\n当前的任务是比较两个数字：9.11和9.9，以确定哪个更大。这涉及到基本的数学比较原则。在这个任务中，没有复杂的组合型概念或实体需要处理，主要是理解小数的概念以及如何比较它们的大小。\\n\\n1. 任务中是否包含关键概念: 比较两个小数的大小。\\n   - 数字1: 9.11\\n   - 数字2: 9.9\\n\\n2. 将任务中的关键概念拆解为一系列待查询的子要素：\\n   - 比较两个小数的方法\\n     - 比较整数部分\\n     - 如果整数部分相同，则比较小数点后的第一位\\n     - 如果小数点后的第一位也相同，则继续比较下一位，直至找到不同之处\\n\\n3. 观察以前的执行记录：在这个简单的任务中，我们已经有了足够的信息来做出判断，不需要进一步查询或获取额外的信息。\\n\\n**行动**  \\n根据上述分析，首先比较这两个数字的整数部分。9.11 和 9.9 的整数部分都是 9，所以接下来比较小数部分。9.11 的小数部分是 .11，而 9.9 的小数部分是 .9。显然，.11 < .9，因此 9.11 < 9.9。\\n\\n**最终答案**\\n<final_answer>9.9</final_answer>'"
      ]
     },
     "execution_count": 1,
     "metadata": {},
     "output_type": "execute_result"
    }
   ],
   "source": [
    "from illufly.chat import ChatQwen\n",
    "from illufly.flow import CoT\n",
    "from illufly.io import alog\n",
    "\n",
    "flow = CoT(ChatQwen(), handlers=[alog])\n",
    "await flow(\"9.11和9.9哪个更大？\")"
   ]
  },
  {
   "cell_type": "code",
   "execution_count": 2,
   "id": "641bc280-6ad1-4329-8fef-ecdf27536f7b",
   "metadata": {},
   "outputs": [
    {
     "data": {
      "text/plain": [
       "'\\n9.9更大。\\n'"
      ]
     },
     "execution_count": 2,
     "metadata": {},
     "output_type": "execute_result"
    }
   ],
   "source": [
    "flow.agents[0][1].final_answer"
   ]
  },
  {
   "cell_type": "markdown",
   "id": "30eca3b7-dd65-49cd-8a87-01a66843b176",
   "metadata": {},
   "source": [
    "## ReAct\n",
    "\n",
    "### 查天气"
   ]
  },
  {
   "cell_type": "code",
   "execution_count": 2,
   "id": "4a7cc5f4-ff7d-42d3-bc85-f2c2a74a64ca",
   "metadata": {},
   "outputs": [
    {
     "name": "stdout",
     "output_type": "stream",
     "text": [
      "[AGENT] \u001b[34m>>> Node 1: planner\u001b[0m\n",
      "\u001b[32m**\u001b[0m\u001b[32m思考\u001b[0m\u001b[32m**\u001b[0m\u001b[32m  \n",
      "\u001b[0m\u001b[32m当前任务是查询\u001b[0m\u001b[32m鸿蒙公司的天气\u001b[0m\u001b[32m情况。然而，\u001b[0m\u001b[32m我需要先确定\u001b[0m\u001b[32m鸿蒙公司具体\u001b[0m\u001b[32m位于哪个城市，\u001b[0m\u001b[32m因为不同的城市天气\u001b[0m\u001b[32m可能不同。此外\u001b[0m\u001b[32m，我还需要确认\u001b[0m\u001b[32m是否有可用的工具\u001b[0m\u001b[32m来查询天气。\u001b[0m\u001b[32m根据给定的\u001b[0m\u001b[32m工具列表，我\u001b[0m\u001b[32m将选择合适的工具\u001b[0m\u001b[32m来获取天气信息\u001b[0m\u001b[32m。如果缺少必要的\u001b[0m\u001b[32m工具或信息，\u001b[0m\u001b[32m我将直接输出\u001b[0m\u001b[32m最终答案，说明\u001b[0m\u001b[32m无法解决问题。\n",
      "\n",
      "**\u001b[0m\u001b[32m关键概念及子\u001b[0m\u001b[32m要素拆解：\u001b[0m\u001b[32m**\n",
      "- \u001b[0m\u001b[32m鸿蒙公司\n",
      "\u001b[0m\u001b[32m  - 公\u001b[0m\u001b[32m司所在城市\n",
      "\n",
      "\u001b[0m\u001b[32m**观察**  \n",
      "\u001b[0m\u001b[32m目前，我还没有\u001b[0m\u001b[32m采取任何行动，\u001b[0m\u001b[32m因此没有上一步\u001b[0m\u001b[32m的行动结果可供\u001b[0m\u001b[32m参考。接下来，\u001b[0m\u001b[32m我需要先确定\u001b[0m\u001b[32m鸿蒙公司所在\u001b[0m\u001b[32m的城市。\n",
      "\n",
      "**行动\u001b[0m\u001b[32m**  \n",
      "Step1\u001b[0m\u001b[32m: 查询鸿蒙\u001b[0m\u001b[32m公司所在城市.\u001b[0m\u001b[32m #E1 =\u001b[0m\u001b[32m find_company_location[\u001b[0m\u001b[32m{\"company_name\":\u001b[0m\u001b[32m \"鸿蒙公司\u001b[0m\u001b[32m\"}]\u001b[0m\u001b[32m\u001b[0m\n",
      "[WARN] \u001b[31mtools_to_exec is empty\u001b[0m\n",
      "[AGENT] \u001b[34m>>> Node 2: observer\u001b[0m\n",
      "\u001b[33m\n",
      "**观察**\n",
      "上面的行动结果为:\n",
      "\n",
      "\u001b[0m[AGENT] \u001b[34m>>> Node 1: planner\u001b[0m\n",
      "\u001b[32m**思考\u001b[0m\u001b[32m**\u001b[0m\u001b[32m  \n",
      "\u001b[0m\u001b[32m我需要先确定\u001b[0m\u001b[32m鸿蒙公司所在\u001b[0m\u001b[32m的城市。由于没有\u001b[0m\u001b[32m具体的工具列表提供\u001b[0m\u001b[32m，我将尝试\u001b[0m\u001b[32m直接输出解决方案。\u001b[0m\u001b[32m但首先，我\u001b[0m\u001b[32m需要假定一个\u001b[0m\u001b[32m城市，因为“\u001b[0m\u001b[32m鸿蒙公司”\u001b[0m\u001b[32m这个名字并不足以确定\u001b[0m\u001b[32m其地理位置。在中国\u001b[0m\u001b[32m，最知名的鸿\u001b[0m\u001b[32m蒙公司是华为\u001b[0m\u001b[32m技术有限公司，它\u001b[0m\u001b[32m总部位于中国深圳\u001b[0m\u001b[32m。如果没有其他指示\u001b[0m\u001b[32m，我将假设\u001b[0m\u001b[32m查询的是深圳的\u001b[0m\u001b[32m天气情况。\n",
      "\n",
      "**\u001b[0m\u001b[32m最终答案**  \n",
      "\u001b[0m\u001b[32m由于没有具体的工具\u001b[0m\u001b[32m列表来查询天气\u001b[0m\u001b[32m，我将基于\u001b[0m\u001b[32m假设提供答案：\u001b[0m\u001b[32m假设您询问的是\u001b[0m\u001b[32m位于中国深圳的\u001b[0m\u001b[32m鸿蒙公司（\u001b[0m\u001b[32m华为技术有限公司）\u001b[0m\u001b[32m的天气情况。\u001b[0m\u001b[32m建议您查看当地\u001b[0m\u001b[32m天气预报或使用\u001b[0m\u001b[32m常用的天气应用来\u001b[0m\u001b[32m获取最新、最\u001b[0m\u001b[32m准确的天气信息\u001b[0m\u001b[32m。如果您能提供\u001b[0m\u001b[32m更具体的位置或其他\u001b[0m\u001b[32m信息，我将\u001b[0m\u001b[32m能够提供更精确\u001b[0m\u001b[32m的帮助。\u001b[0m\u001b[32m\u001b[0m\n",
      "[AGENT] \u001b[34m>>> Node 2: observer\u001b[0m\n"
     ]
    },
    {
     "data": {
      "text/plain": [
       "'由于没有具体的工具列表来查询天气，我将基于假设提供答案：假设您询问的是位于中国深圳的鸿蒙公司（华为技术有限公司）的天气情况。建议您查看当地天气预报或使用常用的天气应用来获取最新、最准确的天气信息。如果您能提供更具体的位置或其他信息，我将能够提供更精确的帮助。'"
      ]
     },
     "execution_count": 2,
     "metadata": {},
     "output_type": "execute_result"
    }
   ],
   "source": [
    "from illufly.types import BaseAgent, PromptTemplate\n",
    "from illufly.chat import ChatQwen\n",
    "from illufly.flow import ReAct\n",
    "\n",
    "flow = ReAct(ChatQwen(name=\"react-planner\"))\n",
    "flow(\"我在鸿蒙公司，帮我查询一下天气情况\", verbose=False)\n",
    "\n",
    "flow.last_output"
   ]
  },
  {
   "cell_type": "code",
   "execution_count": 3,
   "id": "85e53525-53d3-40af-8d84-555d153f975e",
   "metadata": {},
   "outputs": [
    {
     "name": "stdout",
     "output_type": "stream",
     "text": [
      "[AGENT] \u001b[34m>>> Node 1: planner\u001b[0m\n",
      "\u001b[32m**\u001b[0m\u001b[32m思考\u001b[0m\u001b[32m**\u001b[0m\u001b[32m  \n",
      "\u001b[0m\u001b[32m任务要求查询我在\u001b[0m\u001b[32m鸿蒙公司的天气\u001b[0m\u001b[32m情况。然而，\u001b[0m\u001b[32m我需要先确定\u001b[0m\u001b[32m鸿蒙公司位于\u001b[0m\u001b[32m哪个城市。因此\u001b[0m\u001b[32m，我首先应该\u001b[0m\u001b[32m使用 `get_city\u001b[0m\u001b[32m` 工具\u001b[0m\u001b[32m来获取鸿蒙\u001b[0m\u001b[32m公司所在的城市信息\u001b[0m\u001b[32m。一旦获得了城市\u001b[0m\u001b[32m信息，我就可以\u001b[0m\u001b[32m使用 `get_weather\u001b[0m\u001b[32m` 工具\u001b[0m\u001b[32m来查询该城市的\u001b[0m\u001b[32m天气情况。\n",
      "\n",
      "任务\u001b[0m\u001b[32m中包含的关键概念\u001b[0m\u001b[32m有：\n",
      "- \u001b[0m\u001b[32m鸿蒙公司\u001b[0m\u001b[32m\n",
      " - 所\u001b[0m\u001b[32m在城市\n",
      "\n",
      "观察\u001b[0m\u001b[32m以前的执行记录\u001b[0m\u001b[32m：目前还没有执行\u001b[0m\u001b[32m过任何工具调\u001b[0m\u001b[32m用，因此没有\u001b[0m\u001b[32m相关信息。接下来，\u001b[0m\u001b[32m我将调用\u001b[0m\u001b[32m `get_city`\u001b[0m\u001b[32m 工具来\u001b[0m\u001b[32m确定鸿蒙公司\u001b[0m\u001b[32m所在的地点。\n",
      "\n",
      "**\u001b[0m\u001b[32m行动**  \n",
      "Step\u001b[0m\u001b[32m1: 获取鸿\u001b[0m\u001b[32m蒙公司所在城市\u001b[0m\u001b[32m. #E1\u001b[0m\u001b[32m = get_city[\u001b[0m\u001b[32m{\"location\": \"\u001b[0m\u001b[32m鸿蒙公司\"}\u001b[0m\u001b[32m]\u001b[0m\u001b[32m\u001b[0m\n",
      "[AGENT] \u001b[34mget_city\u001b[0m\n",
      "\u001b[33m广州\u001b[0m\n",
      "[AGENT] \u001b[34m>>> Node 2: observer\u001b[0m\n",
      "\u001b[33m\n",
      "**观察**\n",
      "上面的行动结果为:\n",
      "广州\n",
      "\u001b[0m[AGENT] \u001b[34m>>> Node 1: planner\u001b[0m\n",
      "\u001b[32m**\u001b[0m\u001b[32m思考\u001b[0m\u001b[32m**\u001b[0m\u001b[32m  \n",
      "\u001b[0m\u001b[32m现在我们已经知道\u001b[0m\u001b[32m鸿蒙公司位于\u001b[0m\u001b[32m广州，下一步应该\u001b[0m\u001b[32m使用 `get_weather\u001b[0m\u001b[32m` 工具\u001b[0m\u001b[32m来查询广州的\u001b[0m\u001b[32m天气情况。\n",
      "\n",
      "**\u001b[0m\u001b[32m行动**  \n",
      "Step\u001b[0m\u001b[32m1: 查询广州\u001b[0m\u001b[32m的天气情况.\u001b[0m\u001b[32m #E1 =\u001b[0m\u001b[32m get_weather[{\"\u001b[0m\u001b[32mcity\": \"广州\u001b[0m\u001b[32m\"}]\u001b[0m\u001b[32m\u001b[0m\n",
      "[AGENT] \u001b[34mget_weather\u001b[0m\n",
      "\u001b[33m广州天气不错，一直是大晴天\u001b[0m\n",
      "[AGENT] \u001b[34m>>> Node 2: observer\u001b[0m\n",
      "\u001b[33m\n",
      "**观察**\n",
      "上面的行动结果为:\n",
      "广州天气不错，一直是大晴天\n",
      "\u001b[0m[AGENT] \u001b[34m>>> Node 1: planner\u001b[0m\n",
      "\u001b[32m**\u001b[0m\u001b[32m思考\u001b[0m\u001b[32m**\u001b[0m\u001b[32m  \n",
      "\u001b[0m\u001b[32m我已经获得了鸿蒙\u001b[0m\u001b[32m公司所在的城市——\u001b[0m\u001b[32m广州，并且查询\u001b[0m\u001b[32m了广州的天气\u001b[0m\u001b[32m情况，得知广州\u001b[0m\u001b[32m天气不错，一直是\u001b[0m\u001b[32m大晴天。\u001b[0m\u001b[32m这意味着任务已经完成\u001b[0m\u001b[32m，无需进一步的\u001b[0m\u001b[32m工具调用或其他\u001b[0m\u001b[32m行动。\n",
      "\n",
      "**最终\u001b[0m\u001b[32m答案**  \n",
      "广州\u001b[0m\u001b[32m天气不错，一直是\u001b[0m\u001b[32m大晴天。\u001b[0m\u001b[32m\u001b[0m\n",
      "[AGENT] \u001b[34m>>> Node 2: observer\u001b[0m\n"
     ]
    },
    {
     "data": {
      "text/plain": [
       "'广州天气不错，一直是大晴天。'"
      ]
     },
     "execution_count": 3,
     "metadata": {},
     "output_type": "execute_result"
    }
   ],
   "source": [
    "from illufly.types import BaseAgent, PromptTemplate\n",
    "from illufly.chat import ChatQwen\n",
    "from illufly.flow import ReAct\n",
    "\n",
    "def get_city(location: str):\n",
    "    \"\"\"由任意地名或地址描述查询出所在的城市\"\"\"\n",
    "    return \"广州\"\n",
    "\n",
    "def get_weather(city: str):\n",
    "    \"\"\"我可以查询城市的天气情况。city必须是城市名称。\"\"\"\n",
    "    return f'{city}天气不错，一直是大晴天'\n",
    "\n",
    "def booking(request: str):\n",
    "    \"\"\"我可以根据你的需求预订球场\"\"\"\n",
    "    return '我已经帮你预订好了，祝你玩得愉快'\n",
    "\n",
    "flow = ReAct(ChatQwen(name=\"react-planner\", tools=[get_city, get_weather, booking]))\n",
    "flow(\"我在鸿蒙公司，帮我查询一下天气情况\", verbose=False)\n",
    "\n",
    "flow.last_output"
   ]
  },
  {
   "cell_type": "code",
   "execution_count": 4,
   "id": "4b6a8cf7-5a8c-4a08-a1f7-89682fddd0ea",
   "metadata": {},
   "outputs": [
    {
     "name": "stdout",
     "output_type": "stream",
     "text": [
      "**思考**  \n",
      "任务要求查询我在鸿蒙公司的天气情况。然而，我需要先确定鸿蒙公司位于哪个城市。因此，我首先应该使用 `get_city` 工具来获取鸿蒙公司所在的城市信息。一旦获得了城市信息，我就可以使用 `get_weather` 工具来查询该城市的天气情况。\n",
      "\n",
      "任务中包含的关键概念有：\n",
      "- 鸿蒙公司\n",
      " - 所在城市\n",
      "\n",
      "观察以前的执行记录：目前还没有执行过任何工具调用，因此没有相关信息。接下来，我将调用 `get_city` 工具来确定鸿蒙公司所在的地点。\n",
      "\n",
      "**行动**  \n",
      "Step1: 获取鸿蒙公司所在城市. #E1 = get_city[{\"location\": \"鸿蒙公司\"}]\n",
      "\n",
      "**观察**\n",
      "上面的行动结果为:\n",
      "广州\n",
      "\n",
      "**思考**  \n",
      "现在我们已经知道鸿蒙公司位于广州，下一步应该使用 `get_weather` 工具来查询广州的天气情况。\n",
      "\n",
      "**行动**  \n",
      "Step1: 查询广州的天气情况. #E1 = get_weather[{\"city\": \"广州\"}]\n",
      "\n",
      "**观察**\n",
      "上面的行动结果为:\n",
      "广州天气不错，一直是大晴天\n",
      "\n",
      "**思考**  \n",
      "我已经获得了鸿蒙公司所在的城市——广州，并且查询了广州的天气情况，得知广州天气不错，一直是大晴天。这意味着任务已经完成，无需进一步的工具调用或其他行动。\n",
      "\n",
      "**最终答案**  \n",
      "广州天气不错，一直是大晴天。\n"
     ]
    }
   ],
   "source": [
    "print(\"\\n\".join(flow.completed_work))"
   ]
  },
  {
   "cell_type": "markdown",
   "id": "8591386d-5855-4bb3-8121-7c61c17b1c98",
   "metadata": {},
   "source": [
    "### 订球场"
   ]
  },
  {
   "cell_type": "code",
   "execution_count": 5,
   "id": "e4926ebe-34bb-47a5-91f8-b4101164a3d5",
   "metadata": {},
   "outputs": [
    {
     "name": "stdout",
     "output_type": "stream",
     "text": [
      "[AGENT] \u001b[34m>>> Node 1: planner\u001b[0m\n",
      "\u001b[32m**思考\u001b[0m\u001b[32m**\u001b[0m\u001b[32m  \n",
      "\u001b[0m\u001b[32m首先，我需要\u001b[0m\u001b[32m知道鸿蒙公司\u001b[0m\u001b[32m位于哪个城市，\u001b[0m\u001b[32m以便查询该城市的\u001b[0m\u001b[32m天气情况。因此\u001b[0m\u001b[32m，我的第一步应该是\u001b[0m\u001b[32m使用 `get_city\u001b[0m\u001b[32m` 工具\u001b[0m\u001b[32m来确定鸿蒙\u001b[0m\u001b[32m公司的具体位置。\u001b[0m\u001b[32m一旦确定了城市\u001b[0m\u001b[32m，我将使用\u001b[0m\u001b[32m `get_weather`\u001b[0m\u001b[32m 来检查天气\u001b[0m\u001b[32m状况，最后根据\u001b[0m\u001b[32m天气决定是否使用\u001b[0m\u001b[32m `booking` \u001b[0m\u001b[32m工具来预订\u001b[0m\u001b[32m球场。\n",
      "\n",
      "任务中\u001b[0m\u001b[32m包含的关键概念:\n",
      "\u001b[0m\u001b[32m- 鸿\u001b[0m\u001b[32m蒙公司的位置\n",
      "\u001b[0m\u001b[32m- 当前城市的\u001b[0m\u001b[32m天气情况\n",
      "\n",
      "将\u001b[0m\u001b[32m任务中的关键概念\u001b[0m\u001b[32m拆解为一系列\u001b[0m\u001b[32m待查询的子\u001b[0m\u001b[32m要素：\n",
      "- \u001b[0m\u001b[32m鸿蒙公司的\u001b[0m\u001b[32m位置\n",
      " - \u001b[0m\u001b[32m具体城市\n",
      "\u001b[0m\u001b[32m- 当前城市的\u001b[0m\u001b[32m天气情况\n",
      " -\u001b[0m\u001b[32m 是否下雨\n",
      "\n",
      "**\u001b[0m\u001b[32m行动**  \n",
      "Step\u001b[0m\u001b[32m1: 查询鸿\u001b[0m\u001b[32m蒙公司所在的 city\u001b[0m\u001b[32m. #E1\u001b[0m\u001b[32m = get_city[\u001b[0m\u001b[32m{\"location\": \"\u001b[0m\u001b[32m鸿蒙公司\"}\u001b[0m\u001b[32m]\u001b[0m\u001b[32m\u001b[0m\n",
      "[AGENT] \u001b[34mget_city\u001b[0m\n",
      "\u001b[33m广州\u001b[0m\n",
      "[AGENT] \u001b[34m>>> Node 2: observer\u001b[0m\n",
      "\u001b[33m\n",
      "**观察**\n",
      "上面的行动结果为:\n",
      "广州\n",
      "\u001b[0m[AGENT] \u001b[34m>>> Node 1: planner\u001b[0m\n",
      "\u001b[32m**\u001b[0m\u001b[32m思考\u001b[0m\u001b[32m**\u001b[0m\u001b[32m  \n",
      "\u001b[0m\u001b[32m既然已经知道了鸿\u001b[0m\u001b[32m蒙公司位于广州\u001b[0m\u001b[32m，接下来应该查询\u001b[0m\u001b[32m广州的天气情况\u001b[0m\u001b[32m，了解是否下雨\u001b[0m\u001b[32m。如果不下雨\u001b[0m\u001b[32m，则可以继续预订\u001b[0m\u001b[32m球场。\n",
      "\n",
      "**行动\u001b[0m\u001b[32m**  \n",
      "Step1\u001b[0m\u001b[32m: 查询广州的\u001b[0m\u001b[32m天气情况. #\u001b[0m\u001b[32mE1 = get\u001b[0m\u001b[32m_weather[{\"city\u001b[0m\u001b[32m\": \"广州\"}\u001b[0m\u001b[32m]\u001b[0m\u001b[32m\u001b[0m\n",
      "[AGENT] \u001b[34mget_weather\u001b[0m\n",
      "\u001b[33m广州天气不错，一直是大晴天\u001b[0m\n",
      "[AGENT] \u001b[34m>>> Node 2: observer\u001b[0m\n",
      "\u001b[33m\n",
      "**观察**\n",
      "上面的行动结果为:\n",
      "广州天气不错，一直是大晴天\n",
      "\u001b[0m[AGENT] \u001b[34m>>> Node 1: planner\u001b[0m\n",
      "\u001b[32m**\u001b[0m\u001b[32m思考\u001b[0m\u001b[32m**\u001b[0m\u001b[32m  \n",
      "\u001b[0m\u001b[32m根据已知信息\u001b[0m\u001b[32m，广州的天气\u001b[0m\u001b[32m是晴天，\u001b[0m\u001b[32m这意味着没有下雨。\u001b[0m\u001b[32m因此，按照请求\u001b[0m\u001b[32m，我现在应该预订\u001b[0m\u001b[32m一个球场。\n",
      "\n",
      "**\u001b[0m\u001b[32m行动**  \n",
      "Step\u001b[0m\u001b[32m1: 订\u001b[0m\u001b[32m个球场. #\u001b[0m\u001b[32mE1 = booking\u001b[0m\u001b[32m[{\"request\":\u001b[0m\u001b[32m \"在广州预订一个\u001b[0m\u001b[32m球场\"}]\u001b[0m\u001b[32m\u001b[0m\n",
      "[AGENT] \u001b[34mbooking\u001b[0m\n",
      "\u001b[33m我已经帮你预订好了，祝你玩得愉快\u001b[0m\n",
      "[AGENT] \u001b[34m>>> Node 2: observer\u001b[0m\n",
      "\u001b[33m\n",
      "**观察**\n",
      "上面的行动结果为:\n",
      "我已经帮你预订好了，祝你玩得愉快\n",
      "\u001b[0m[AGENT] \u001b[34m>>> Node 1: planner\u001b[0m\n",
      "\u001b[32m**\u001b[0m\u001b[32m思考\u001b[0m\u001b[32m**\u001b[0m\u001b[32m  \n",
      "\u001b[0m\u001b[32m目前，我们已经\u001b[0m\u001b[32m完成了所有必要的步骤\u001b[0m\u001b[32m，包括确定鸿\u001b[0m\u001b[32m蒙公司位于广州\u001b[0m\u001b[32m，查询广州的\u001b[0m\u001b[32m天气情况得知为\u001b[0m\u001b[32m晴天，且\u001b[0m\u001b[32m已经成功预订了一个\u001b[0m\u001b[32m球场。因此，\u001b[0m\u001b[32m现在可以输出最终\u001b[0m\u001b[32m答案了。\n",
      "\n",
      "**\u001b[0m\u001b[32m最终答案**\n",
      "我已经\u001b[0m\u001b[32m为你预订好了一个\u001b[0m\u001b[32m球场，祝你\u001b[0m\u001b[32m玩得愉快！\u001b[0m\u001b[32m\u001b[0m\n",
      "[AGENT] \u001b[34m>>> Node 2: observer\u001b[0m\n"
     ]
    },
    {
     "data": {
      "text/plain": [
       "'我已经为你预订好了一个球场，祝你玩得愉快！'"
      ]
     },
     "execution_count": 5,
     "metadata": {},
     "output_type": "execute_result"
    }
   ],
   "source": [
    "flow(\"我在鸿蒙公司，如果不下雨就帮我订个球场\")"
   ]
  },
  {
   "cell_type": "code",
   "execution_count": 4,
   "id": "16e5b327-6cd5-4a12-b2e5-88ec59b9d0c4",
   "metadata": {},
   "outputs": [
    {
     "name": "stdout",
     "output_type": "stream",
     "text": [
      "**思考**  \n",
      "首先，我需要知道鸿蒙公司位于哪个城市，以便查询该地区的天气情况。因此，我的第一步应该是使用 `get_city` 工具来确定鸿蒙公司的具体位置。\n",
      "\n",
      "**行动**  \n",
      "Step1: 确定鸿蒙公司所在城市. #E1 = get_city[{\"location\": \"鸿蒙公司\"}]\n",
      "\n",
      "**观察**\n",
      "上面的行动结果为:\n",
      "广州\n",
      "\n",
      "**思考**  \n",
      "既然已经知道了鸿蒙公司位于广州，接下来应该查询广州的天气情况，以判断是否需要预订球场。\n",
      "\n",
      "**行动**  \n",
      "Step2: 查询广州天气情况. #E2 = get_weather[{\"city\": \"广州\"}]\n",
      "\n",
      "**观察**\n",
      "上面的行动结果为:\n",
      "广州天气不错，一直是大晴天\n",
      "\n",
      "**思考**  \n",
      "既然广州的天气是大晴天，没有下雨，那么接下来应该预订一个球场。为了确保预订成功，我会使用 `booking` 工具来完成这项任务。\n",
      "\n",
      "**行动**  \n",
      "Step3: 预订一个球场. #E3 = booking[{\"request\": \"在广州预订一个球场\"}]\n",
      "\n",
      "**观察**\n",
      "上面的行动结果为:\n",
      "我已经帮你预订好了，祝你玩得愉快\n",
      "\n",
      "**思考**  \n",
      "既然已经完成了预订球场的任务，而且确认了天气状况良好，适合进行户外活动，当前没有其他需要处理的事项。因此，现在可以结束任务并输出最终答案。\n",
      "\n",
      "**最终答案**  \n",
      "已经帮您在广州预订好了球场，祝您玩得愉快！\n"
     ]
    }
   ],
   "source": [
    "print(\"\\n\".join(flow.completed_work))"
   ]
  },
  {
   "cell_type": "markdown",
   "id": "04c5f41e-6664-4115-9226-2596049e4096",
   "metadata": {},
   "source": [
    "## ReWOO\n",
    "\n",
    "- 管道计算场景：上一个任务的输出，作为下一个任务的输入\n",
    "- 参数组装场景：上一个任务的输出需要做一定转换，才能作为下一个任务的输入（执行哪个任务是确定的，但参数需要组装）\n",
    "- 条件分支场景：上一个任务的输出作为一种判定条件，决定执行接下来哪个任务（执行哪个任务不确定，需要根据当前任务返回来判定）\n",
    "\n",
    "### 查天气"
   ]
  },
  {
   "cell_type": "code",
   "execution_count": 4,
   "id": "4df100e8-c809-4be5-9ee0-d0bc40ef47ed",
   "metadata": {},
   "outputs": [
    {
     "name": "stdout",
     "output_type": "stream",
     "text": [
      "[AGENT] \u001b[34m>>> Node 1: rewoo-planner\u001b[0m\n",
      "\u001b[32mStep\u001b[0m\u001b[32m1\u001b[0m\u001b[32m:\u001b[0m\u001b[32m 查询\u001b[0m\u001b[32m鸿蒙公司所在的\u001b[0m\u001b[32m地理位置以确定城市\u001b[0m\u001b[32m。#E1\u001b[0m\u001b[32m = get_city[\u001b[0m\u001b[32m{\"location\": \"\u001b[0m\u001b[32m鸿蒙公司\"}\u001b[0m\u001b[32m]\n",
      "Step2:\u001b[0m\u001b[32m 使用上一步获取\u001b[0m\u001b[32m的城市信息查询天气\u001b[0m\u001b[32m情况。#E\u001b[0m\u001b[32m2 = get_weather\u001b[0m\u001b[32m[{\"city\":\u001b[0m\u001b[32m \"#E1\"}\u001b[0m\u001b[32m]\u001b[0m\u001b[32m\u001b[0m\n",
      "[AGENT] \u001b[34mget_city\u001b[0m\n",
      "\u001b[34m广州\u001b[0m\n",
      "[AGENT] \u001b[34mget_weather\u001b[0m\n",
      "\u001b[34m#E1天气不错，一直是大晴天\u001b[0m\n",
      "[AGENT] \u001b[34m>>> Node 2: observe_func\u001b[0m\n",
      "\u001b[33m我在鸿蒙公司，帮我查询一下天气情况\u001b[0m[AGENT] \u001b[34m>>> Node 3: rewoo-solver\u001b[0m\n",
      "\u001b[32m```\u001b[0m\u001b[32mmarkdown\u001b[0m\u001b[32m\n",
      "\u001b[0m\u001b[32m**\u001b[0m\u001b[32m最终答案**\n",
      "\u001b[0m\u001b[32m<final_answer>\n",
      "广州\u001b[0m\u001b[32m天气不错，一直是\u001b[0m\u001b[32m大晴天\n",
      "\u001b[0m\u001b[32m</final_answer>\n",
      "\u001b[0m\u001b[32m```\u001b[0m\u001b[32m\u001b[0m\n",
      "Step1: 查询鸿蒙公司所在的地理位置以确定城市。\n",
      "E1 = get_city[{\"location\": \"鸿蒙公司\"}]\n",
      "E1 执行结果: 广州\n",
      "\n",
      "Step2: 使用上一步获取的城市信息查询天气情况。\n",
      "E2 = get_weather[{\"city\": \"#E1\"}]\n",
      "E2 执行结果: #E1天气不错，一直是大晴天\n",
      "\n"
     ]
    }
   ],
   "source": [
    "from illufly.types import BaseAgent, PromptTemplate\n",
    "from illufly.chat import ChatQwen\n",
    "from illufly.flow import ReWOO\n",
    "def get_city(location: str):\n",
    "    \"\"\"由任意地址描述查询出所在的城市\"\"\"\n",
    "    return \"广州\"\n",
    "\n",
    "def get_weather(city: str):\n",
    "    \"\"\"我可以查询城市的天气情况。city必须是城市名称。\"\"\"\n",
    "    return f'{city}天气不错，一直是大晴天'\n",
    "\n",
    "def booking(request: str):\n",
    "    \"\"\"我可以根据你的需求预订球场\"\"\"\n",
    "    return '我已经帮你预订好了，祝你玩得愉快'\n",
    "\n",
    "flow = ReWOO(\n",
    "    ChatQwen(name=\"rewoo-planner\", tools=[get_city, get_weather, booking]),\n",
    "    ChatQwen(name=\"rewoo-solver\")\n",
    ")\n",
    "flow(\"我在鸿蒙公司，帮我查询一下天气情况\", verbose=False)\n",
    "\n",
    "print(flow.solver_template.provider_dict['completed_work'])"
   ]
  },
  {
   "cell_type": "code",
   "execution_count": 2,
   "id": "d5266c92-50ad-488e-adae-feace804443f",
   "metadata": {},
   "outputs": [
    {
     "data": {
      "text/plain": [
       "[{'role': 'system',\n",
       "  'content': '尽你所能解决问题和完成任务。\\n\\n**你要解决的问题是: ** 我在鸿蒙公司，帮我查询一下天气情况\\n\\n你可以制定可以逐步解决问题的计划。\\n对于每个计划，指明使用哪个外部工具以及工具输入来获取证据。\\n\\n工具可以是以下之一：\\n{\"type\": \"function\", \"function\": {\"name\": \"get_city\", \"description\": \"由任意地址描述查询出所在的城市\", \"parameters\": {\"type\": \"object\", \"properties\": {\"location\": {\"type\": \"string\", \"description\": \"\"}}, \"required\": [\"location\"]}}}\\n{\"type\": \"function\", \"function\": {\"name\": \"get_weather\", \"description\": \"我可以查询城市的天气情况。city必须是城市名称。\", \"parameters\": {\"type\": \"object\", \"properties\": {\"city\": {\"type\": \"string\", \"description\": \"\"}}, \"required\": [\"city\"]}}}\\n{\"type\": \"function\", \"function\": {\"name\": \"booking\", \"description\": \"我可以根据你的需求预订球场\", \"parameters\": {\"type\": \"object\", \"properties\": {\"request\": {\"type\": \"string\", \"description\": \"\"}}, \"required\": [\"request\"]}}}\\n\\n你可以将具体计划的执行结果存储在一个变量 #E{n} 中，后续工具可以调用该变量。\\n(Step1, #E1, Step2, #E2, Step3, ...)\\n\\n其中 #E{n} 用于保存计划执行后的变量名，n 是子任务的序号，格式为:\\nStep{n}: (子任务描述) #E{n} = function_name[kwargs_with_json]\\n\\n例如：\\nStep1: 假设 Thomas 工作了 x 小时，将问题转化为代数表达式并使用 Wolfram Alpha 解决。#E1 = WolframAlpha[{\"prompt\":\"Solve x + (2x − 10) + ((2x − 10) − 8) = 157\"}]\\nStep2: 找出 Thomas 工作的小时数。#E2 = LLM[{\"prompt\": \"What is x, given #E1\"}]\\nStep3: 计算 Rebecca 工作的小时数。#E3 = Calculator[{\"expr\": \"(2 ∗ #E2 − 10) − 8\"}]\\n\\n开始！\\n详细描述你的步骤。每个步骤后面应只跟一个 #E{n}。\\n'},\n",
       " {'role': 'user', 'content': '请开始'},\n",
       " {'role': 'assistant',\n",
       "  'content': 'Step1: 首先，我们需要确定鸿蒙公司位于哪个城市。#E1 = get_city[{\"location\": \"鸿蒙公司\"}]\\nStep2: 获取到鸿蒙公司所在城市后，查询该城市的天气情况。#E2 = get_weather[{\"city\": \"#E1\"}]'}]"
      ]
     },
     "execution_count": 2,
     "metadata": {},
     "output_type": "execute_result"
    }
   ],
   "source": [
    "flow.planner.memory"
   ]
  },
  {
   "cell_type": "code",
   "execution_count": 3,
   "id": "bb3f802c-b31f-48c0-87f9-a8850b3b6153",
   "metadata": {},
   "outputs": [
    {
     "name": "stdout",
     "output_type": "stream",
     "text": [
      "Step1: 首先，我们需要确定鸿蒙公司位于哪个城市。\n",
      "E1 = get_city[{\"location\": \"鸿蒙公司\"}]\n",
      "E1 执行结果: 广州\n",
      "\n",
      "Step2: 获取到鸿蒙公司所在城市后，查询该城市的天气情况。\n",
      "E2 = get_weather[{\"city\": \"#E1\"}]\n",
      "E2 执行结果: #E1天气不错，一直是大晴天\n",
      "\n"
     ]
    }
   ],
   "source": [
    "print(flow.solver_template.provider_dict['completed_work'])"
   ]
  },
  {
   "cell_type": "markdown",
   "id": "d85e809c-95a6-4a66-a9c9-7acfab9481f2",
   "metadata": {},
   "source": [
    "### 查看 Planner 提示语组装结果"
   ]
  },
  {
   "cell_type": "code",
   "execution_count": 4,
   "id": "cf5380c4-f383-403d-98d8-8e4574d7e2cb",
   "metadata": {},
   "outputs": [
    {
     "name": "stdout",
     "output_type": "stream",
     "text": [
      "尽你所能解决问题和完成任务。\n",
      "\n",
      "**你要解决的问题是: ** 我在鸿蒙公司，帮我查询一下天气情况\n",
      "\n",
      "你可以制定可以逐步解决问题的计划。\n",
      "对于每个计划，指明使用哪个外部工具以及工具输入来获取证据。\n",
      "\n",
      "工具可以是以下之一：\n",
      "{\"type\": \"function\", \"function\": {\"name\": \"get_city\", \"description\": \"由任意地址描述查询出所在的城市\", \"parameters\": {\"type\": \"object\", \"properties\": {\"location\": {\"type\": \"string\", \"description\": \"\"}}, \"required\": [\"location\"]}}}\n",
      "{\"type\": \"function\", \"function\": {\"name\": \"get_weather\", \"description\": \"我可以查询城市的天气情况。city必须是城市名称。\", \"parameters\": {\"type\": \"object\", \"properties\": {\"city\": {\"type\": \"string\", \"description\": \"\"}}, \"required\": [\"city\"]}}}\n",
      "{\"type\": \"function\", \"function\": {\"name\": \"booking\", \"description\": \"我可以根据你的需求预订球场\", \"parameters\": {\"type\": \"object\", \"properties\": {\"request\": {\"type\": \"string\", \"description\": \"\"}}, \"required\": [\"request\"]}}}\n",
      "\n",
      "你可以将具体计划的执行结果存储在一个变量 #E{n} 中，后续工具可以调用该变量。\n",
      "(Step1, #E1, Step2, #E2, Step3, ...)\n",
      "\n",
      "其中 #E{n} 用于保存计划执行后的变量名，n 是子任务的序号，格式为:\n",
      "Step{n}: (子任务描述) #E{n} = function_name[kwargs_with_json]\n",
      "\n",
      "例如：\n",
      "Step1: 假设 Thomas 工作了 x 小时，将问题转化为代数表达式并使用 Wolfram Alpha 解决。#E1 = WolframAlpha[{\"prompt\":\"Solve x + (2x − 10) + ((2x − 10) − 8) = 157\"}]\n",
      "Step2: 找出 Thomas 工作的小时数。#E2 = LLM[{\"prompt\": \"What is x, given #E1\"}]\n",
      "Step3: 计算 Rebecca 工作的小时数。#E3 = Calculator[{\"expr\": \"(2 ∗ #E2 − 10) − 8\"}]\n",
      "\n",
      "开始！\n",
      "详细描述你的步骤。每个步骤后面应只跟一个 #E{n}。\n",
      "\n"
     ]
    }
   ],
   "source": [
    "print(flow.planner.memory[0]['content'])"
   ]
  },
  {
   "cell_type": "markdown",
   "id": "c0c77aae-5ef3-418f-ab0b-4fc7b15d281d",
   "metadata": {},
   "source": [
    "### 查看 Solver 提示语组装结果"
   ]
  },
  {
   "cell_type": "code",
   "execution_count": 5,
   "id": "1bf9aebe-022c-46fd-b947-8f53cbda0a16",
   "metadata": {},
   "outputs": [
    {
     "name": "stdout",
     "output_type": "stream",
     "text": [
      "尽你所能解决问题和完成任务。\n",
      "\n",
      "**你要解决的问题是: ** 我在鸿蒙公司，帮我查询一下天气情况\n",
      "\n",
      "为了解决这个问题，我们制定了逐步计划，并获得了每个计划的执行结果。\n",
      "请谨慎使用这些执行结果，因为其中可能包含不相关的信息。\n",
      "\n",
      "Step1: 首先，我们需要确定鸿蒙公司位于哪个城市。\n",
      "E1 = get_city[{\"location\": \"鸿蒙公司\"}]\n",
      "E1 执行结果: 广州\n",
      "\n",
      "Step2: 获取到鸿蒙公司所在城市后，查询该城市的天气情况。\n",
      "E2 = get_weather[{\"city\": \"#E1\"}]\n",
      "E2 执行结果: #E1天气不错，一直是大晴天\n",
      "\n",
      "\n",
      "现在根据上面提供的执行结果解决问题或任务。\n",
      "直接回答问题，不要废话，不要评论。\n",
      "请按如下格式输出你的回答:\n",
      "\n",
      "```markdown\n",
      "**最终答案**\n",
      "(你的回答)\n",
      "```\n"
     ]
    }
   ],
   "source": [
    "# flow.agents_index.getf('rewoo-solver')[1]\n",
    "print(flow.get_agent(\"rewoo-solver\").memory[0]['content'])"
   ]
  },
  {
   "cell_type": "markdown",
   "id": "cb7051b5-29e4-4572-ae7a-7ec983cbbcde",
   "metadata": {},
   "source": [
    "### 复杂情况：订球场"
   ]
  },
  {
   "cell_type": "code",
   "execution_count": 6,
   "id": "d432db03-8af3-426f-a7bd-5f19267bd9ea",
   "metadata": {},
   "outputs": [
    {
     "name": "stdout",
     "output_type": "stream",
     "text": [
      "[AGENT] \u001b[34m>>> Node 1: rewoo-planner\u001b[0m\n",
      "\u001b[32mStep1\u001b[0m\u001b[32m:\u001b[0m\u001b[32m \u001b[0m\u001b[32m首先，\u001b[0m\u001b[32m我需要确定你\u001b[0m\u001b[32m所在的城市，以便\u001b[0m\u001b[32m查询天气情况。\u001b[0m\u001b[32m#E1 =\u001b[0m\u001b[32m get_city[{\"\u001b[0m\u001b[32mlocation\": \"我的\u001b[0m\u001b[32m位置\"}]\n",
      "Step\u001b[0m\u001b[32m2: 查询你\u001b[0m\u001b[32m所在城市的天气情况\u001b[0m\u001b[32m，确认是否下雨\u001b[0m\u001b[32m。#E2\u001b[0m\u001b[32m = get_weather[\u001b[0m\u001b[32m{\"city\": \"#\u001b[0m\u001b[32mE1\"}]\n",
      "\u001b[0m\u001b[32mStep3: 如果\u001b[0m\u001b[32m天气预报显示不会\u001b[0m\u001b[32m下雨，那么我\u001b[0m\u001b[32m将为你预订一个\u001b[0m\u001b[32m球场。#E\u001b[0m\u001b[32m3 = booking[\u001b[0m\u001b[32m{\"request\": \"\u001b[0m\u001b[32m如果 #E2\u001b[0m\u001b[32m 显示没有雨\u001b[0m\u001b[32m，则预订一个球场\u001b[0m\u001b[32m\"}]\u001b[0m\u001b[32m\u001b[0m\n",
      "\u001b[33m广州\u001b[0m\n",
      "\u001b[33m#E1天气不错，一直是大晴天\u001b[0m\n",
      "\u001b[33m我已经帮你预订好了，祝你玩得愉快\u001b[0m\n",
      "[AGENT] \u001b[34m>>> Node 2: observe_func\u001b[0m\n",
      "\u001b[33m如果不下雨，你帮我订一个球场？\u001b[0m[AGENT] \u001b[34m>>> Node 3: rewoo-solver\u001b[0m\n",
      "\u001b[32m```markdown\u001b[0m\u001b[32m\n",
      "\u001b[0m\u001b[32m**\u001b[0m\u001b[32m最终答案**\n",
      "我已经\u001b[0m\u001b[32m帮你预订好了，\u001b[0m\u001b[32m祝你玩得\u001b[0m\u001b[32m愉快\n",
      "```\u001b[0m\u001b[32m\u001b[0m\n"
     ]
    },
    {
     "data": {
      "text/plain": [
       "'我已经帮你预订好了，祝你玩得愉快'"
      ]
     },
     "execution_count": 6,
     "metadata": {},
     "output_type": "execute_result"
    }
   ],
   "source": [
    "flow(\"如果不下雨，你帮我订一个球场？\")"
   ]
  },
  {
   "cell_type": "code",
   "execution_count": 8,
   "id": "3bc42738-f304-402e-bb8d-c6d0f9829265",
   "metadata": {},
   "outputs": [
    {
     "data": {
      "text/plain": [
       "[{'role': 'system',\n",
       "  'content': '尽你所能解决问题和完成任务。\\n\\n**你要解决的问题是: ** 如果不下雨，你帮我订一个球场？\\n\\n你可以制定可以逐步解决问题的计划。\\n对于每个计划，指明使用哪个外部工具以及工具输入来获取证据。\\n\\n工具可以是以下之一：\\n{\"type\": \"function\", \"function\": {\"name\": \"get_city\", \"description\": \"由任意地址描述查询出所在的城市\", \"parameters\": {\"type\": \"object\", \"properties\": {\"location\": {\"type\": \"string\", \"description\": \"\"}}, \"required\": [\"location\"]}}}\\n{\"type\": \"function\", \"function\": {\"name\": \"get_weather\", \"description\": \"我可以查询城市的天气情况。city必须是城市名称。\", \"parameters\": {\"type\": \"object\", \"properties\": {\"city\": {\"type\": \"string\", \"description\": \"\"}}, \"required\": [\"city\"]}}}\\n{\"type\": \"function\", \"function\": {\"name\": \"booking\", \"description\": \"我可以根据你的需求预订球场\", \"parameters\": {\"type\": \"object\", \"properties\": {\"request\": {\"type\": \"string\", \"description\": \"\"}}, \"required\": [\"request\"]}}}\\n\\n你可以将具体计划的执行结果存储在一个变量 #E{n} 中，后续工具可以调用该变量。\\n(Step1, #E1, Step2, #E2, Step3, ...)\\n\\n其中 #E{n} 用于保存计划执行后的变量名，n 是子任务的序号，格式为:\\nStep{n}: (子任务描述) #E{n} = function_name[kwargs_with_json]\\n\\n例如：\\nStep1: 假设 Thomas 工作了 x 小时，将问题转化为代数表达式并使用 Wolfram Alpha 解决。#E1 = WolframAlpha[{\"prompt\":\"Solve x + (2x − 10) + ((2x − 10) − 8) = 157\"}]\\nStep2: 找出 Thomas 工作的小时数。#E2 = LLM[{\"prompt\": \"What is x, given #E1\"}]\\nStep3: 计算 Rebecca 工作的小时数。#E3 = Calculator[{\"expr\": \"(2 ∗ #E2 − 10) − 8\"}]\\n\\n开始！\\n详细描述你的步骤。每个步骤后面应只跟一个 #E{n}。\\n'},\n",
       " {'role': 'user', 'content': '请开始'},\n",
       " {'role': 'assistant',\n",
       "  'content': 'Step1: 首先，我需要确定你所在的城市，以便查询天气情况。#E1 = get_city[{\"location\": \"我的位置\"}]\\nStep2: 查询你所在城市的天气情况，确认是否下雨。#E2 = get_weather[{\"city\": \"#E1\"}]\\nStep3: 如果天气预报显示不会下雨，那么我将为你预订一个球场。#E3 = booking[{\"request\": \"如果 #E2 显示没有雨，则预订一个球场\"}]'}]"
      ]
     },
     "execution_count": 8,
     "metadata": {},
     "output_type": "execute_result"
    }
   ],
   "source": [
    "flow.planner.memory"
   ]
  },
  {
   "cell_type": "markdown",
   "id": "b059e2d3-eb68-40b0-8682-91933a897f0c",
   "metadata": {},
   "source": [
    "## Plan And Solve\n",
    "\n",
    "### 复杂情况：出差、订球场"
   ]
  },
  {
   "cell_type": "code",
   "execution_count": 1,
   "id": "ae2fb913-1c94-433c-9b08-e9d6762af31c",
   "metadata": {},
   "outputs": [
    {
     "name": "stdout",
     "output_type": "stream",
     "text": [
      "[AGENT] \u001b[34m>>> Node 1: planner\u001b[0m\n",
      "\u001b[32mStep\u001b[0m\u001b[32m1\u001b[0m\u001b[32m:\u001b[0m\u001b[32m 使用\u001b[0m\u001b[32m guess_city 函数\u001b[0m\u001b[32m确定海珠区\u001b[0m\u001b[32m所在的市 #E\u001b[0m\u001b[32m1\n",
      "Step2\u001b[0m\u001b[32m: 使用 get_weather\u001b[0m\u001b[32m 函数查询 #\u001b[0m\u001b[32mE1 所\u001b[0m\u001b[32m在市的天气\u001b[0m\u001b[32m情况 #E2\u001b[0m\u001b[32m\n",
      "Step3:\u001b[0m\u001b[32m 根据 #\u001b[0m\u001b[32mE2 的天气\u001b[0m\u001b[32m情况判断是否需要\u001b[0m\u001b[32m带伞 #E\u001b[0m\u001b[32m3\n",
      "Step4\u001b[0m\u001b[32m: 使用 booking \u001b[0m\u001b[32m函数预订羽毛球场\u001b[0m\u001b[32m #E4\u001b[0m\u001b[32m\u001b[0m\n",
      "[AGENT] \u001b[34m>>> Node 2: observe_plan_for_worker\u001b[0m\n",
      "[AGENT] \u001b[34m>>> Node 3: worker\u001b[0m\n",
      "\u001b[32mStep\u001b[0m\u001b[32m1\u001b[0m\u001b[32m:\u001b[0m\u001b[32m 使用\u001b[0m\u001b[32m guess_city 函数\u001b[0m\u001b[32m确定海珠区\u001b[0m\u001b[32m所在的市 #E\u001b[0m\u001b[32m1 = guess_city\u001b[0m\u001b[32m[{\"prompt\":\u001b[0m\u001b[32m \"海珠区\u001b[0m\u001b[32m\"}]\u001b[0m\u001b[32m\u001b[0m\n",
      "\u001b[33m广州\u001b[0m\n",
      "[AGENT] \u001b[34m>>> Node 4: observe_worker_for_replanner\u001b[0m\n",
      "[AGENT] \u001b[34m>>> Node 5: replanner\u001b[0m\n",
      "\u001b[32mStep\u001b[0m\u001b[32m1\u001b[0m\u001b[32m:\u001b[0m\u001b[32m 使用\u001b[0m\u001b[32m get_weather 函数\u001b[0m\u001b[32m查询广州的天气\u001b[0m\u001b[32m情况 #E2\u001b[0m\u001b[32m\n",
      "Step2:\u001b[0m\u001b[32m 使用 booking 函数\u001b[0m\u001b[32m预订羽毛球场 #\u001b[0m\u001b[32mE3\u001b[0m\u001b[32m\u001b[0m\n",
      "[AGENT] \u001b[34m>>> Node 2: observe_plan_for_worker\u001b[0m\n",
      "[AGENT] \u001b[34m>>> Node 3: worker\u001b[0m\n",
      "\u001b[32mStep\u001b[0m\u001b[32m1\u001b[0m\u001b[32m:\u001b[0m\u001b[32m 使用\u001b[0m\u001b[32m get_weather 函数\u001b[0m\u001b[32m查询广州的天气\u001b[0m\u001b[32m情况 #E1\u001b[0m\u001b[32m = get_weather[\u001b[0m\u001b[32m{\"city\": \"\u001b[0m\u001b[32m广州\"}]\u001b[0m\u001b[32m\u001b[0m\n",
      "\u001b[33m广州天气不错，一直是大晴天\u001b[0m\n",
      "[AGENT] \u001b[34m>>> Node 4: observe_worker_for_replanner\u001b[0m\n",
      "[AGENT] \u001b[34m>>> Node 5: replanner\u001b[0m\n",
      "\u001b[32mStep\u001b[0m\u001b[32m1\u001b[0m\u001b[32m:\u001b[0m\u001b[32m 使用\u001b[0m\u001b[32m booking 函数预订\u001b[0m\u001b[32m羽毛球场 #E\u001b[0m\u001b[32m2\u001b[0m\u001b[32m\u001b[0m\n",
      "[AGENT] \u001b[34m>>> Node 2: observe_plan_for_worker\u001b[0m\n",
      "[AGENT] \u001b[34m>>> Node 3: worker\u001b[0m\n",
      "\u001b[32mStep\u001b[0m\u001b[32m1\u001b[0m\u001b[32m:\u001b[0m\u001b[32m 使用\u001b[0m\u001b[32m booking 函数预订\u001b[0m\u001b[32m羽毛球场. #\u001b[0m\u001b[32mE1 = booking\u001b[0m\u001b[32m[{\"request\":\u001b[0m\u001b[32m \"预订羽毛球场\u001b[0m\u001b[32m\"}]\u001b[0m\u001b[32m\u001b[0m\n",
      "\u001b[33m我已经帮你预订好了，祝你玩得愉快\u001b[0m\n",
      "[AGENT] \u001b[34m>>> Node 4: observe_worker_for_replanner\u001b[0m\n",
      "[AGENT] \u001b[34m>>> Node 5: replanner\u001b[0m\n",
      "\u001b[32m**\u001b[0m\u001b[32m最终\u001b[0m\u001b[32m答案\u001b[0m\u001b[32m**\n",
      "\u001b[0m\u001b[32m根据广州的天气\u001b[0m\u001b[32m情况，今天是\u001b[0m\u001b[32m大晴天，\u001b[0m\u001b[32m所以你不需要带\u001b[0m\u001b[32m伞。我已经帮你\u001b[0m\u001b[32m预订好了羽毛球场\u001b[0m\u001b[32m，祝你玩\u001b[0m\u001b[32m得愉快。\u001b[0m\u001b[32m\u001b[0m\n"
     ]
    },
    {
     "data": {
      "text/plain": [
       "'根据广州的天气情况，今天是大晴天，所以你不需要带伞。我已经帮你预订好了羽毛球场，祝你玩得愉快。'"
      ]
     },
     "execution_count": 1,
     "metadata": {},
     "output_type": "execute_result"
    }
   ],
   "source": [
    "from illufly.types import BaseAgent, PromptTemplate\n",
    "from illufly.chat import ChatQwen, PlanAndSolve\n",
    "\n",
    "def guess_city(prompt: str):\n",
    "    \"\"\"由任意地址描述查询出所在的城市\"\"\"\n",
    "    return \"广州\"\n",
    "\n",
    "def get_weather(city: str):\n",
    "    \"\"\"我可以查询城市的天气情况。city必须是城市名称。\"\"\"\n",
    "    return f'{city}天气不错，一直是大晴天'\n",
    "\n",
    "def booking(request: str):\n",
    "    \"\"\"我可以根据你的需求预订球场\"\"\"\n",
    "    return '我已经帮你预订好了，祝你玩得愉快'\n",
    "\n",
    "toolkits = [guess_city, get_weather, booking]\n",
    "planner = ChatQwen(tools=toolkits)\n",
    "worker = ChatQwen(tools=toolkits)\n",
    "replanner = ChatQwen(tools=toolkits)\n",
    "\n",
    "flow = PlanAndSolve(planner, worker, replanner)\n",
    "flow(\"我要去见海珠区的客户，看看我是否需要带伞，另外帮我订一个羽毛球场\")"
   ]
  },
  {
   "cell_type": "code",
   "execution_count": 10,
   "id": "22b64781-d06b-4364-812d-69932f0ae6cc",
   "metadata": {},
   "outputs": [
    {
     "data": {
      "text/plain": [
       "'我要去见海珠区的客户，看看我是否需要带伞，另外帮我订一个羽毛球场'"
      ]
     },
     "execution_count": 10,
     "metadata": {},
     "output_type": "execute_result"
    }
   ],
   "source": [
    "flow.task"
   ]
  },
  {
   "cell_type": "code",
   "execution_count": 11,
   "id": "dbaa64aa-cd5c-40e1-9b6e-a4b5375ae504",
   "metadata": {},
   "outputs": [
    {
     "data": {
      "text/plain": [
       "['Step1: 使用 guess_city 函数确定海珠区所在的 city\\nE1 = guess_city[{\"prompt\": \"海珠区\"}]\\nE1 执行结果: 广州\\n',\n",
       " 'Step1: 使用 get_weather 函数查询广州的天气情况\\nE1 = get_weather[{\"city\": \"广州\"}]\\nE1 执行结果: 广州天气不错，一直是大晴天\\n',\n",
       " 'Step1: 使用 booking 函数预订羽毛球场.\\nE1 = booking[{\"request\": \"预订羽毛球场\"}]\\nE1 执行结果: 我已经帮你预订好了，祝你玩得愉快\\n']"
      ]
     },
     "execution_count": 11,
     "metadata": {},
     "output_type": "execute_result"
    }
   ],
   "source": [
    "flow.completed_work"
   ]
  },
  {
   "cell_type": "markdown",
   "id": "68426823-8d7e-42f3-aa82-c4ae87c74627",
   "metadata": {},
   "source": [
    "### 查看提示语组装结果"
   ]
  },
  {
   "cell_type": "code",
   "execution_count": 12,
   "id": "1171852c-5fa6-41a6-9d59-0f75b2063ee6",
   "metadata": {},
   "outputs": [
    {
     "data": {
      "text/plain": [
       "[{'role': 'system',\n",
       "  'content': '尽你所能解决问题和完成任务。\\n\\n**你要解决的问题是: ** 我要去见海珠区的客户，看看我是否需要带伞，另外帮我订一个羽毛球场\\n\\n结合可用的工具，为给定目标制定一个简单的逐步执行的计划。\\n这个计划应包括各个任务，如果正确执行，将得出正确答案。\\n不要添加任何多余的步骤。\\n最终步骤的结果应该是最终答案。\\n确保每个步骤都有所需的所有信息 - 不要跳过步骤。\\n\\n你可以从 guess_city,get_weather,booking 中选择一个或多个工具使用。这些工具的详细描述为：\\n\\n{\"type\": \"function\", \"function\": {\"name\": \"guess_city\", \"description\": \"由任意地址描述查询出所在的城市\", \"parameters\": {\"type\": \"object\", \"properties\": {\"prompt\": {\"type\": \"string\", \"description\": \"\"}}, \"required\": [\"prompt\"]}}}\\n{\"type\": \"function\", \"function\": {\"name\": \"get_weather\", \"description\": \"我可以查询城市的天气情况。city必须是城市名称。\", \"parameters\": {\"type\": \"object\", \"properties\": {\"city\": {\"type\": \"string\", \"description\": \"\"}}, \"required\": [\"city\"]}}}\\n{\"type\": \"function\", \"function\": {\"name\": \"booking\", \"description\": \"我可以根据你的需求预订球场\", \"parameters\": {\"type\": \"object\", \"properties\": {\"request\": {\"type\": \"string\", \"description\": \"\"}}, \"required\": [\"request\"]}}}\\n\\n你最新的计划是：\\n\\n\\n结合之前的计划和最新计划，你目前已经完成了以下步骤：\\nStep1: 使用 guess_city 函数确定海珠区所在的 city\\nE1 = guess_city[{\"prompt\": \"海珠区\"}]\\nE1 执行结果: 广州\\n\\nStep1: 使用 get_weather 函数查询广州的天气情况\\nE1 = get_weather[{\"city\": \"广州\"}]\\nE1 执行结果: 广州天气不错，一直是大晴天\\n\\nStep1: 使用 booking 函数预订羽毛球场.\\nE1 = booking[{\"request\": \"预订羽毛球场\"}]\\nE1 执行结果: 我已经帮你预订好了，祝你玩得愉快\\n\\n\\n请你继续更新计划。\\n如果不需要更多步骤，并且可以返回给用户，那么就直接跳到**最终答案**；\\n否则，就对未完成的计划更新或保留，进入到**更新计划**部份。\\n更新时只添加仍需要完成的步骤到计划中。不要将之前已完成的步骤作为计划的一部分返回。\\n\\n**最终答案**\\n(在此输出你的最终答案。)\\n如果输出最终答案，就结束任务，停止所有输出。\\n\\n**更新计划**\\n你输出的计划必须将执行结果存储在一个变量 #E{n} 中，任务间的依赖关系可以在任务秒速中引用该变量来反应。\\n(Step1, #E1, Step2, #E2, Step3, ...)\\n\\n其中 #E{n} 用于保存计划执行后的变量名，n 是子任务的序号，格式为:\\nStep{n}: (子任务描述) #E{n}\\n每个计划后面应只跟一个 #E{n}。\\n\\n例子：\\nStep1: 详细的计划描述 #E1\\nStep2: 详细的计划描述 #E2\\n\\n'},\n",
       " {'role': 'user', 'content': '请开始'},\n",
       " {'role': 'assistant',\n",
       "  'content': '**最终答案**\\n根据广州的天气情况，今天是大晴天，所以你不需要带伞。我已经为你预订好了羽毛球场，祝你玩得愉快。'}]"
      ]
     },
     "execution_count": 12,
     "metadata": {},
     "output_type": "execute_result"
    }
   ],
   "source": [
    "flow.replanner.memory"
   ]
  },
  {
   "cell_type": "markdown",
   "id": "ecaf6c41-080a-4b95-ba96-be2d38596e16",
   "metadata": {},
   "source": [
    "## 谈论历史中的工具回调\n",
    "\n",
    "使用 tools_behavior 参数可以控制 ChatAgent 不要将输出中的工具回调清单当作指令对待。<br>\n",
    "因为我们在讨论他们，而不是真的希望发生工具回调。"
   ]
  },
  {
   "cell_type": "code",
   "execution_count": 5,
   "id": "f45607e7-1b6d-4618-8e8a-4c5e0bd5c692",
   "metadata": {},
   "outputs": [
    {
     "name": "stdout",
     "output_type": "stream",
     "text": [
      "\u001b[32m我\u001b[0m\u001b[32m制定了\u001b[0m\u001b[32m以下\u001b[0m\u001b[32m两个\u001b[0m\u001b[32m步骤来解决问题：\n",
      "\n",
      "\u001b[0m\u001b[32m1. **Step\u001b[0m\u001b[32m1:** 查询鸿\u001b[0m\u001b[32m蒙公司所在城市\u001b[0m\u001b[32m. #E1\u001b[0m\u001b[32m = get_city[\u001b[0m\u001b[32m{\"location\": \"\u001b[0m\u001b[32m鸿蒙公司\"}\u001b[0m\u001b[32m]\n",
      "2. **\u001b[0m\u001b[32mStep2:** 查询\u001b[0m\u001b[32m广州的天气情况\u001b[0m\u001b[32m. #E2\u001b[0m\u001b[32m = get_weather[\u001b[0m\u001b[32m{\"city\": \"\u001b[0m\u001b[32m广州\"}]\n",
      "\n",
      "这两个\u001b[0m\u001b[32m步骤依次执行，\u001b[0m\u001b[32m最终得到了鸿蒙\u001b[0m\u001b[32m公司所在地（广州\u001b[0m\u001b[32m）的天气情况\u001b[0m\u001b[32m。\u001b[0m\u001b[32m\u001b[0m\n"
     ]
    },
    {
     "data": {
      "text/plain": [
       "[{'role': 'system',\n",
       "  'content': '尽你所能完成任务。\\n\\n**你要解决的问题是: ** 我在鸿蒙公司，帮我查询一下天气情况\\n\\n\\n**思考**  \\n首先，我需要确定鸿蒙公司所在的地理位置，即所在城市，然后才能查询该城市的天气情况。因此，我的第一步应该是使用 `get_city` 函数来获取鸿蒙公司的具体位置信息。\\n\\n**行动**  \\nStep1: 查询鸿蒙公司所在城市. #E1 = get_city[{\"location\": \"鸿蒙公司\"}]\\n\\n**观察**\\n上面的行动结果为:\\n广州\\n\\n**思考**  \\n既然已经得知鸿蒙公司位于广州，接下来的步骤就是查询广州的天气情况了。\\n\\n**行动**  \\nStep1: 查询广州的天气情况. #E1 = get_weather[{\"city\": \"广州\"}]\\n\\n**观察**\\n上面的行动结果为:\\n广州天气不错，一直是大晴天\\n\\n\\n(现在不要急于解决问题，而是继续按照如下步骤一步一步输出你的推理过程。)\\n\\n**思考** \\n对当前情况进行反思, 然后说明你现在的决策：当前就结束任务并输出**最终答案**，还是继续考虑下一步行动的应当如何执行。\\n\\n**最终答案**\\n(在此输出你的最终答案。)\\n如果输出最终答案，就结束任务，停止所有输出。\\n\\n**行动** \\n你可以尝试直接解决问题，并输出解决的详细过程；\\n或者从 ** get_city,get_weather,booking ** 中选择一个工具来解决问题。\\n\\n这些工具的详细描述如下:\\n{\"type\": \"function\", \"function\": {\"name\": \"get_city\", \"description\": \"由任意地名或地址描述查询出所在的城市\", \"parameters\": {\"type\": \"object\", \"properties\": {\"location\": {\"type\": \"string\", \"description\": \"\"}}, \"required\": [\"location\"]}}}\\n{\"type\": \"function\", \"function\": {\"name\": \"get_weather\", \"description\": \"我可以查询城市的天气情况。city必须是城市名称。\", \"parameters\": {\"type\": \"object\", \"properties\": {\"city\": {\"type\": \"string\", \"description\": \"\"}}, \"required\": [\"city\"]}}}\\n{\"type\": \"function\", \"function\": {\"name\": \"booking\", \"description\": \"我可以根据你的需求预订球场\", \"parameters\": {\"type\": \"object\", \"properties\": {\"request\": {\"type\": \"string\", \"description\": \"\"}}, \"required\": [\"request\"]}}}\\n\\n请你按如下格式整理行动的详细计划，其中 #E{n} 时用于保存计划执行后的变量名，n 是子任务的序号:\\nStep{n}: (子任务描述) #E{n} = function_name[kwargs_with_json]\\n\\n例如：\\nStep1: 查看天气状况. #E1 = get_weather[{\"city\": \"北京\"}]\\n\\n...你必须按照 **思考-行动-观察** 的循环过程输出，可以重复N次，直到结束。\\n'},\n",
       " {'role': 'user', 'content': '我在鸿蒙公司，帮我查询一下天气情况'},\n",
       " {'role': 'assistant',\n",
       "  'content': '**思考**  \\n我已经知道鸿蒙公司位于广州，上一步查询的结果表明广州的天气情况是“广州天气不错，一直是大晴天”。基于这个信息，我认为没有必要再进行额外的查询，可以直接给出最终的答案。\\n\\n**最终答案**\\n目前在广州的鸿蒙公司，天气非常好，一直是大晴天。'},\n",
       " {'role': 'user', 'content': '你制定了几个步骤？'},\n",
       " {'role': 'assistant',\n",
       "  'content': '在这个过程中，我实际上制定了两个主要步骤来解决问题：\\n\\n1. **Step1:** 查询鸿蒙公司所在城市. #E1 = get_city[{\"location\": \"鸿蒙公司\"}]\\n2. **Step2:** 查询广州的天气情况. #E1 = get_weather[{\"city\": \"广州\"}]\\n\\n每个步骤都是为了逐步获得所需的信息，最终得出鸿蒙公司所在地（广州）的天气情况。在获得了这些信息之后，我进行了总结并给出了最终答案。'},\n",
       " {'role': 'user', 'content': '你制定了几个步骤？'},\n",
       " {'role': 'assistant',\n",
       "  'content': '我制定了以下两个步骤来解决问题：\\n\\n1. **Step1:** 查询鸿蒙公司所在城市. #E1 = get_city[{\"location\": \"鸿蒙公司\"}]\\n2. **Step2:** 查询广州的天气情况. #E2 = get_weather[{\"city\": \"广州\"}]\\n\\n这两个步骤依次执行，最终得到了鸿蒙公司所在地（广州）的天气情况。'}]"
      ]
     },
     "execution_count": 5,
     "metadata": {},
     "output_type": "execute_result"
    }
   ],
   "source": [
    "chat(\"你制定了几个步骤？\", tools_behavior=\"none\")\n",
    "chat.memory"
   ]
  },
  {
   "cell_type": "code",
   "execution_count": 6,
   "id": "f3a8739d-3bf6-4c64-8ad4-3404abf35a1e",
   "metadata": {},
   "outputs": [
    {
     "data": {
      "text/plain": [
       "[{'role': 'user', 'content': '写一首两句儿歌?'},\n",
       " {'role': 'assistant', 'content': '小鸟儿，飞呀飞，\\n快乐歌声，满山开。'},\n",
       " {'role': 'user', 'content': '增加一句'},\n",
       " {'role': 'assistant', 'content': '小鸟儿，飞呀飞，\\n快乐歌声，满山开，阳光彩虹，笑哈哈。'}]"
      ]
     },
     "execution_count": 6,
     "metadata": {},
     "output_type": "execute_result"
    }
   ],
   "source": [
    "from illufly.chat import ChatZhipu\n",
    "zhipu = ChatZhipu(name=\"智谱测试\")\n",
    "zhipu.load_memory(-1)\n",
    "zhipu.memory"
   ]
  },
  {
   "cell_type": "code",
   "execution_count": 2,
   "id": "5d067f2a-ad5c-49b9-9561-ad89c28071d6",
   "metadata": {},
   "outputs": [
    {
     "name": "stdout",
     "output_type": "stream",
     "text": [
      "\u001b[32m我是一个\u001b[0m\u001b[32m基于\u001b[0m\u001b[32m人工智能\u001b[0m\u001b[32m的语言\u001b[0m\u001b[32m模型\u001b[0m\u001b[32m，\u001b[0m\u001b[32m具体\u001b[0m\u001b[32m来说是\u001b[0m\u001b[32m基于\u001b[0m\u001b[32m清华大学\u001b[0m\u001b[32m K\u001b[0m\u001b[32mEG\u001b[0m\u001b[32m 实\u001b[0m\u001b[32m验\u001b[0m\u001b[32m室\u001b[0m\u001b[32m和\u001b[0m\u001b[32m智\u001b[0m\u001b[32m谱\u001b[0m\u001b[32m AI\u001b[0m\u001b[32m 公司\u001b[0m\u001b[32m共同\u001b[0m\u001b[32m训练\u001b[0m\u001b[32m的\u001b[0m\u001b[32m GL\u001b[0m\u001b[32mM\u001b[0m\u001b[32m-\u001b[0m\u001b[32m4\u001b[0m\u001b[32m 模\u001b[0m\u001b[32m型\u001b[0m\u001b[32m。\u001b[0m\u001b[32m我的\u001b[0m\u001b[32m任务是\u001b[0m\u001b[32m针对\u001b[0m\u001b[32m用户\u001b[0m\u001b[32m的问题\u001b[0m\u001b[32m和要求\u001b[0m\u001b[32m提供\u001b[0m\u001b[32m适当的\u001b[0m\u001b[32m答复\u001b[0m\u001b[32m和支持\u001b[0m\u001b[32m。\u001b[0m\u001b[32m由于\u001b[0m\u001b[32m我只能\u001b[0m\u001b[32m根据\u001b[0m\u001b[32m我的\u001b[0m\u001b[32m训练\u001b[0m\u001b[32m数据\u001b[0m\u001b[32m回答\u001b[0m\u001b[32m，\u001b[0m\u001b[32m我所\u001b[0m\u001b[32m掌握\u001b[0m\u001b[32m的信息\u001b[0m\u001b[32m可能\u001b[0m\u001b[32m不是\u001b[0m\u001b[32m最新的\u001b[0m\u001b[32m。\u001b[0m\n"
     ]
    },
    {
     "data": {
      "text/plain": [
       "[{'role': 'user', 'content': '你是什么模型?'},\n",
       " {'role': 'assistant',\n",
       "  'content': '我是一个基于人工智能的语言模型，具体来说是基于清华大学 KEG 实验室和智谱 AI 公司共同训练的 GLM-4 模型。我的任务是针对用户的问题和要求提供适当的答复和支持。由于我只能根据我的训练数据回答，我所掌握的信息可能不是最新的。'}]"
      ]
     },
     "execution_count": 2,
     "metadata": {},
     "output_type": "execute_result"
    }
   ],
   "source": [
    "zhipu(\"你是什么模型?\")\n",
    "zhipu.memory"
   ]
  },
  {
   "cell_type": "code",
   "execution_count": 3,
   "id": "3ded9a41-4f71-4472-8fcf-c78392094d79",
   "metadata": {},
   "outputs": [
    {
     "name": "stdout",
     "output_type": "stream",
     "text": [
      "\u001b[32m小鸟\u001b[0m\u001b[32m儿\u001b[0m\u001b[32m，\u001b[0m\u001b[32m飞\u001b[0m\u001b[32m呀\u001b[0m\u001b[32m飞\u001b[0m\u001b[32m，\n",
      "快乐\u001b[0m\u001b[32m歌声\u001b[0m\u001b[32m，\u001b[0m\u001b[32m满\u001b[0m\u001b[32m山\u001b[0m\u001b[32m开\u001b[0m\u001b[32m。\u001b[0m\n"
     ]
    },
    {
     "data": {
      "text/plain": [
       "'小鸟儿，飞呀飞，\\n快乐歌声，满山开。'"
      ]
     },
     "execution_count": 3,
     "metadata": {},
     "output_type": "execute_result"
    }
   ],
   "source": [
    "zhipu(\"写一首两句儿歌?\", new_chat=True)"
   ]
  },
  {
   "cell_type": "code",
   "execution_count": 4,
   "id": "cbeec68e-ccf4-4bf9-baa6-be9f4ca80805",
   "metadata": {},
   "outputs": [
    {
     "name": "stdout",
     "output_type": "stream",
     "text": [
      "\u001b[32m小鸟\u001b[0m\u001b[32m儿\u001b[0m\u001b[32m，\u001b[0m\u001b[32m飞\u001b[0m\u001b[32m呀\u001b[0m\u001b[32m飞\u001b[0m\u001b[32m，\n",
      "快乐\u001b[0m\u001b[32m歌声\u001b[0m\u001b[32m，\u001b[0m\u001b[32m满\u001b[0m\u001b[32m山\u001b[0m\u001b[32m开\u001b[0m\u001b[32m，\u001b[0m\u001b[32m阳光\u001b[0m\u001b[32m彩虹\u001b[0m\u001b[32m，\u001b[0m\u001b[32m笑\u001b[0m\u001b[32m哈哈\u001b[0m\u001b[32m。\u001b[0m\n"
     ]
    },
    {
     "data": {
      "text/plain": [
       "'小鸟儿，飞呀飞，\\n快乐歌声，满山开，阳光彩虹，笑哈哈。'"
      ]
     },
     "execution_count": 4,
     "metadata": {},
     "output_type": "execute_result"
    }
   ],
   "source": [
    "zhipu(\"增加一句\")"
   ]
  },
  {
   "cell_type": "markdown",
   "id": "c6fed604-a5d1-42a0-b6ed-891882829b20",
   "metadata": {},
   "source": [
    "## 基于经验的RAG"
   ]
  },
  {
   "cell_type": "code",
   "execution_count": 3,
   "id": "b8a0aac0-ff41-4653-bd94-e3fb5cfa51a5",
   "metadata": {},
   "outputs": [
    {
     "name": "stdout",
     "output_type": "stream",
     "text": [
      "[INFO] \u001b[34m记住 10 轮对话\u001b[0m\n",
      "\u001b[32m根据\u001b[0m\u001b[32m之前\u001b[0m\u001b[32m的信息\u001b[0m\u001b[32m，\u001b[0m\u001b[32m鸿蒙公司所在的\u001b[0m\u001b[32m广州在今天（\u001b[0m\u001b[32m2024\u001b[0m\u001b[32m年10月\u001b[0m\u001b[32m24日）\u001b[0m\u001b[32m的天气情况良好\u001b[0m\u001b[32m，一直是大晴\u001b[0m\u001b[32m天。不过，\u001b[0m\u001b[32m如果您需要最新的天气\u001b[0m\u001b[32m更新，建议查看\u001b[0m\u001b[32m当地气象站或\u001b[0m\u001b[32m天气预报应用以\u001b[0m\u001b[32m获取最准确的信息\u001b[0m\u001b[32m。\u001b[0m\u001b[32m\u001b[0m\n",
      "[USAGE] \u001b[34m{\"input_tokens\": 129, \"output_tokens\": 57, \"total_tokens\": 186}\u001b[0m\n"
     ]
    },
    {
     "data": {
      "text/plain": [
       "[{'role': 'user',\n",
       "  'content': '回答时你必须参考已有信息：\\n**任务名称**\\n我在鸿蒙公司，帮我查询一下天气情况\\n\\n**最终答案**\\n鸿蒙公司所在的广州天气情况良好，一直是大晴天。\\n\\n**备注**\\n生成时间: 2024年10月24日 15:30:30\\n现在时间: 2024年10月24日 16:00:30'},\n",
       " {'role': 'assistant', 'content': 'ok'},\n",
       " {'role': 'user', 'content': '帮我看看，今天天气如何？'},\n",
       " {'role': 'assistant',\n",
       "  'content': '根据之前的信息，鸿蒙公司所在的广州在今天（2024年10月24日）的天气情况良好，一直是大晴天。不过，如果您需要最新的天气更新，建议查看当地气象站或天气预报应用以获取最准确的信息。'}]"
      ]
     },
     "execution_count": 3,
     "metadata": {},
     "output_type": "execute_result"
    }
   ],
   "source": [
    "from illufly.embeddings import TextEmbeddings\n",
    "from illufly.rag import FaissDB\n",
    "from illufly.chat import ChatQwen\n",
    "\n",
    "qwen = ChatQwen(faq=FaissDB(embeddings=TextEmbeddings()))\n",
    "qwen(\"帮我看看，今天天气如何？\", verbose=True)\n",
    "qwen.memory"
   ]
  },
  {
   "cell_type": "code",
   "execution_count": null,
   "id": "d0e03a0d-8d5a-4e6f-9343-9f8ee87fbe46",
   "metadata": {},
   "outputs": [],
   "source": []
  }
 ],
 "metadata": {
  "kernelspec": {
   "display_name": "same_to_illufly",
   "language": "python",
   "name": "same_to_illufly"
  },
  "language_info": {
   "codemirror_mode": {
    "name": "ipython",
    "version": 3
   },
   "file_extension": ".py",
   "mimetype": "text/x-python",
   "name": "python",
   "nbconvert_exporter": "python",
   "pygments_lexer": "ipython3",
   "version": "3.10.0"
  }
 },
 "nbformat": 4,
 "nbformat_minor": 5
}
