{
 "cells": [
  {
   "cell_type": "markdown",
   "id": "796bab09-5f89-4ae3-a686-859b4740c1a9",
   "metadata": {},
   "source": [
    "## 结合工具规划逻辑\n",
    "\n",
    "包括 ReAct、ReWoo、Plan 等复杂的工具规划推理也可以通过 FlowAgent 实现。"
   ]
  },
  {
   "cell_type": "markdown",
   "id": "232ba47b-75ae-474c-9479-1e88460ea800",
   "metadata": {},
   "source": [
    "## ReAct\n",
    "\n",
    "### 查天气"
   ]
  },
  {
   "cell_type": "code",
   "execution_count": 2,
   "id": "4a7cc5f4-ff7d-42d3-bc85-f2c2a74a64ca",
   "metadata": {},
   "outputs": [
    {
     "name": "stdout",
     "output_type": "stream",
     "text": [
      "[AGENT] \u001b[34m>>> Node 1: planner\u001b[0m\n",
      "\u001b[32m**思考\u001b[0m\u001b[32m**\u001b[0m\u001b[32m  \n",
      "\u001b[0m\u001b[32m我需要先确定\u001b[0m\u001b[32m鸿蒙公司位于\u001b[0m\u001b[32m哪个城市，才能\u001b[0m\u001b[32m查询该地区的天气\u001b[0m\u001b[32m情况。因此，\u001b[0m\u001b[32m我的第一步应该是使用\u001b[0m\u001b[32m `get_city`\u001b[0m\u001b[32m 工具来\u001b[0m\u001b[32m获取鸿蒙公司的\u001b[0m\u001b[32m具体位置信息。\n",
      "\n",
      "\u001b[0m\u001b[32m**行动**  \n",
      "\u001b[0m\u001b[32mStep1: 查询\u001b[0m\u001b[32m鸿蒙公司所在\u001b[0m\u001b[32m城市. #E\u001b[0m\u001b[32m1 = get_city\u001b[0m\u001b[32m[{\"location\":\u001b[0m\u001b[32m \"鸿蒙公司\u001b[0m\u001b[32m\"}]\u001b[0m\u001b[32m\u001b[0m\n",
      "\u001b[33m广州\u001b[0m\n",
      "[AGENT] \u001b[34m>>> Node 2: observer\u001b[0m\n",
      "\u001b[33m\n",
      "**观察**\n",
      "上面的行动结果为:\n",
      "广州\n",
      "\u001b[0m[AGENT] \u001b[34m>>> Node 1: planner\u001b[0m\n",
      "\u001b[32m**思考\u001b[0m\u001b[32m**\u001b[0m\u001b[32m  \n",
      "\u001b[0m\u001b[32m既然已经确定了\u001b[0m\u001b[32m鸿蒙公司位于\u001b[0m\u001b[32m广州，接下来的\u001b[0m\u001b[32m步骤就是使用 `\u001b[0m\u001b[32mget_weather` \u001b[0m\u001b[32m工具来查询\u001b[0m\u001b[32m广州的天气情况\u001b[0m\u001b[32m。\n",
      "\n",
      "**行动**\u001b[0m\u001b[32m  \n",
      "Step2:\u001b[0m\u001b[32m 查询广州的天气\u001b[0m\u001b[32m情况. #E\u001b[0m\u001b[32m2 = get_weather\u001b[0m\u001b[32m[{\"city\":\u001b[0m\u001b[32m \"广州\"}]\u001b[0m\u001b[32m\u001b[0m\n",
      "\u001b[33m广州天气不错，一直是大晴天\u001b[0m\n",
      "[AGENT] \u001b[34m>>> Node 2: observer\u001b[0m\n",
      "\u001b[33m\n",
      "**观察**\n",
      "上面的行动结果为:\n",
      "广州天气不错，一直是大晴天\n",
      "\u001b[0m[AGENT] \u001b[34m>>> Node 1: planner\u001b[0m\n",
      "\u001b[32m**思考\u001b[0m\u001b[32m**\u001b[0m\u001b[32m  \n",
      "\u001b[0m\u001b[32m我已经得到了鸿蒙\u001b[0m\u001b[32m公司所在的地理位置是\u001b[0m\u001b[32m广州，以及广州\u001b[0m\u001b[32m的天气情况是\u001b[0m\u001b[32m大晴天。\u001b[0m\u001b[32m基于这些信息，\u001b[0m\u001b[32m我认为没有必要再采取\u001b[0m\u001b[32m进一步的行动，\u001b[0m\u001b[32m因为问题已经被解答\u001b[0m\u001b[32m了。\n",
      "\n",
      "**最终\u001b[0m\u001b[32m答案**  \n",
      "鸿\u001b[0m\u001b[32m蒙公司位于广州\u001b[0m\u001b[32m，目前广州的\u001b[0m\u001b[32m天气非常好，一直是\u001b[0m\u001b[32m大晴天。\u001b[0m\u001b[32m\u001b[0m\n",
      "[AGENT] \u001b[34m>>> Node 2: observer\u001b[0m\n"
     ]
    },
    {
     "data": {
      "text/plain": [
       "'鸿蒙公司位于广州，目前广州的天气非常好，一直是大晴天。'"
      ]
     },
     "execution_count": 2,
     "metadata": {},
     "output_type": "execute_result"
    }
   ],
   "source": [
    "from illufly.types import BaseAgent, PromptTemplate\n",
    "from illufly.chat import ChatQwen, ReAct\n",
    "\n",
    "def get_city(location: str):\n",
    "    \"\"\"由任意地名或地址描述查询出所在的城市\"\"\"\n",
    "    return \"广州\"\n",
    "\n",
    "def get_weather(city: str):\n",
    "    \"\"\"我可以查询城市的天气情况。city必须是城市名称。\"\"\"\n",
    "    return f'{city}天气不错，一直是大晴天'\n",
    "\n",
    "def booking(request: str):\n",
    "    \"\"\"我可以根据你的需求预订球场\"\"\"\n",
    "    return '我已经帮你预订好了，祝你玩得愉快'\n",
    "\n",
    "flow = ReAct(ChatQwen(name=\"qwen\", tools=[get_city, get_weather, booking]))\n",
    "flow(\"我在鸿蒙公司，帮我查询一下天气情况\", verbose=False)\n",
    "\n",
    "flow.last_output"
   ]
  },
  {
   "cell_type": "code",
   "execution_count": 3,
   "id": "4b6a8cf7-5a8c-4a08-a1f7-89682fddd0ea",
   "metadata": {},
   "outputs": [
    {
     "name": "stdout",
     "output_type": "stream",
     "text": [
      "**思考**  \n",
      "我需要先确定鸿蒙公司位于哪个城市，才能查询该地区的天气情况。因此，我的第一步应该是使用 `get_city` 工具来获取鸿蒙公司的具体位置信息。\n",
      "\n",
      "**行动**  \n",
      "Step1: 查询鸿蒙公司所在城市. #E1 = get_city[{\"location\": \"鸿蒙公司\"}]\n",
      "\n",
      "**观察**\n",
      "上面的行动结果为:\n",
      "广州\n",
      "\n",
      "**思考**  \n",
      "既然已经确定了鸿蒙公司位于广州，接下来的步骤就是使用 `get_weather` 工具来查询广州的天气情况。\n",
      "\n",
      "**行动**  \n",
      "Step2: 查询广州的天气情况. #E2 = get_weather[{\"city\": \"广州\"}]\n",
      "\n",
      "**观察**\n",
      "上面的行动结果为:\n",
      "广州天气不错，一直是大晴天\n",
      "\n",
      "**思考**  \n",
      "我已经得到了鸿蒙公司所在的地理位置是广州，以及广州的天气情况是大晴天。基于这些信息，我认为没有必要再采取进一步的行动，因为问题已经被解答了。\n",
      "\n",
      "**最终答案**  \n",
      "鸿蒙公司位于广州，目前广州的天气非常好，一直是大晴天。\n"
     ]
    }
   ],
   "source": [
    "print(\"\\n\".join(flow.completed_work))"
   ]
  },
  {
   "cell_type": "markdown",
   "id": "8591386d-5855-4bb3-8121-7c61c17b1c98",
   "metadata": {},
   "source": [
    "### 订球场"
   ]
  },
  {
   "cell_type": "code",
   "execution_count": 4,
   "id": "e4926ebe-34bb-47a5-91f8-b4101164a3d5",
   "metadata": {},
   "outputs": [
    {
     "name": "stdout",
     "output_type": "stream",
     "text": [
      "[AGENT] \u001b[34m>>> Node 1: planner\u001b[0m\n",
      "\u001b[32m**思考\u001b[0m\u001b[32m**\u001b[0m\u001b[32m  \n",
      "\u001b[0m\u001b[32m首先，我需要\u001b[0m\u001b[32m了解鸿蒙公司\u001b[0m\u001b[32m所在的地点，以便\u001b[0m\u001b[32m进一步查询该地区的\u001b[0m\u001b[32m天气情况。因此\u001b[0m\u001b[32m，我的第一步应该是\u001b[0m\u001b[32m确定鸿蒙公司\u001b[0m\u001b[32m所在的城市。\n",
      "\n",
      "**\u001b[0m\u001b[32m行动**  \n",
      "Step\u001b[0m\u001b[32m1: 查询鸿\u001b[0m\u001b[32m蒙公司所在城市\u001b[0m\u001b[32m. #E1\u001b[0m\u001b[32m = get_city[\u001b[0m\u001b[32m{\"location\": \"\u001b[0m\u001b[32m鸿蒙公司\"}\u001b[0m\u001b[32m]\u001b[0m\u001b[32m\u001b[0m\n",
      "\u001b[33m广州\u001b[0m\n",
      "[AGENT] \u001b[34m>>> Node 2: observer\u001b[0m\n",
      "\u001b[33m\n",
      "**观察**\n",
      "上面的行动结果为:\n",
      "广州\n",
      "\u001b[0m[AGENT] \u001b[34m>>> Node 1: planner\u001b[0m\n",
      "\u001b[32m**思考\u001b[0m\u001b[32m**\u001b[0m\u001b[32m  \n",
      "\u001b[0m\u001b[32m既然已经知道鸿\u001b[0m\u001b[32m蒙公司位于广州\u001b[0m\u001b[32m，接下来应该查询\u001b[0m\u001b[32m广州的天气情况\u001b[0m\u001b[32m，以判断是否\u001b[0m\u001b[32m下雨。如果天气\u001b[0m\u001b[32m预报显示不下雨\u001b[0m\u001b[32m，那么就可以进行\u001b[0m\u001b[32m球场预订。\n",
      "\n",
      "**\u001b[0m\u001b[32m行动**  \n",
      "Step\u001b[0m\u001b[32m2: 查询广州\u001b[0m\u001b[32m天气状况. #\u001b[0m\u001b[32mE2 = get\u001b[0m\u001b[32m_weather[{\"city\u001b[0m\u001b[32m\": \"广州\"}\u001b[0m\u001b[32m]\u001b[0m\u001b[32m\u001b[0m\n",
      "\u001b[33m广州天气不错，一直是大晴天\u001b[0m\n",
      "[AGENT] \u001b[34m>>> Node 2: observer\u001b[0m\n",
      "\u001b[33m\n",
      "**观察**\n",
      "上面的行动结果为:\n",
      "广州天气不错，一直是大晴天\n",
      "\u001b[0m[AGENT] \u001b[34m>>> Node 1: planner\u001b[0m\n",
      "\u001b[32m**思考\u001b[0m\u001b[32m**\u001b[0m\u001b[32m  \n",
      "\u001b[0m\u001b[32m既然广州的天气\u001b[0m\u001b[32m是大晴天\u001b[0m\u001b[32m，没有下雨的情况\u001b[0m\u001b[32m，那么现在可以\u001b[0m\u001b[32m进行球场的预订\u001b[0m\u001b[32m了。下一步，\u001b[0m\u001b[32m我将使用预订\u001b[0m\u001b[32m功能来完成任务\u001b[0m\u001b[32m。\n",
      "\n",
      "**行动**\u001b[0m\u001b[32m  \n",
      "Step3:\u001b[0m\u001b[32m 预订\u001b[0m\u001b[32m球场. #E\u001b[0m\u001b[32m3 = booking[\u001b[0m\u001b[32m{\"request\": \"\u001b[0m\u001b[32m在广州预订一个球场\u001b[0m\u001b[32m\"}]\u001b[0m\u001b[32m\u001b[0m\n",
      "\u001b[33m我已经帮你预订好了，祝你玩得愉快\u001b[0m\n",
      "[AGENT] \u001b[34m>>> Node 2: observer\u001b[0m\n",
      "\u001b[33m\n",
      "**观察**\n",
      "上面的行动结果为:\n",
      "我已经帮你预订好了，祝你玩得愉快\n",
      "\u001b[0m[AGENT] \u001b[34m>>> Node 1: planner\u001b[0m\n",
      "\u001b[32m**思考\u001b[0m\u001b[32m**\u001b[0m\u001b[32m  \n",
      "\u001b[0m\u001b[32m既然球场已经成功\u001b[0m\u001b[32m预订，任务的主要\u001b[0m\u001b[32m目标已经达成。\u001b[0m\u001b[32m目前没有其他需要\u001b[0m\u001b[32m处理的问题，因此\u001b[0m\u001b[32m可以结束任务。\n",
      "\n",
      "\u001b[0m\u001b[32m**最终答案**\n",
      "\u001b[0m\u001b[32m我已经帮你在广州\u001b[0m\u001b[32m预订好了球场，\u001b[0m\u001b[32m祝你玩得\u001b[0m\u001b[32m愉快！\u001b[0m\u001b[32m\u001b[0m\n",
      "[AGENT] \u001b[34m>>> Node 2: observer\u001b[0m\n"
     ]
    },
    {
     "data": {
      "text/plain": [
       "'我已经帮你在广州预订好了球场，祝你玩得愉快！'"
      ]
     },
     "execution_count": 4,
     "metadata": {},
     "output_type": "execute_result"
    }
   ],
   "source": [
    "flow(\"我在鸿蒙公司，如果不下雨就帮我订个球场\")"
   ]
  },
  {
   "cell_type": "code",
   "execution_count": 5,
   "id": "16e5b327-6cd5-4a12-b2e5-88ec59b9d0c4",
   "metadata": {},
   "outputs": [
    {
     "name": "stdout",
     "output_type": "stream",
     "text": [
      "**思考**  \n",
      "首先，我需要了解鸿蒙公司所在的地点，以便进一步查询该地区的天气情况。因此，我的第一步应该是确定鸿蒙公司所在的城市。\n",
      "\n",
      "**行动**  \n",
      "Step1: 查询鸿蒙公司所在城市. #E1 = get_city[{\"location\": \"鸿蒙公司\"}]\n",
      "\n",
      "**观察**\n",
      "上面的行动结果为:\n",
      "广州\n",
      "\n",
      "**思考**  \n",
      "既然已经知道鸿蒙公司位于广州，接下来应该查询广州的天气情况，以判断是否下雨。如果天气预报显示不下雨，那么就可以进行球场预订。\n",
      "\n",
      "**行动**  \n",
      "Step2: 查询广州天气状况. #E2 = get_weather[{\"city\": \"广州\"}]\n",
      "\n",
      "**观察**\n",
      "上面的行动结果为:\n",
      "广州天气不错，一直是大晴天\n",
      "\n",
      "**思考**  \n",
      "既然广州的天气是大晴天，没有下雨的情况，那么现在可以进行球场的预订了。下一步，我将使用预订功能来完成任务。\n",
      "\n",
      "**行动**  \n",
      "Step3: 预订球场. #E3 = booking[{\"request\": \"在广州预订一个球场\"}]\n",
      "\n",
      "**观察**\n",
      "上面的行动结果为:\n",
      "我已经帮你预订好了，祝你玩得愉快\n",
      "\n",
      "**思考**  \n",
      "既然球场已经成功预订，任务的主要目标已经达成。目前没有其他需要处理的问题，因此可以结束任务。\n",
      "\n",
      "**最终答案**\n",
      "我已经帮你在广州预订好了球场，祝你玩得愉快！\n"
     ]
    }
   ],
   "source": [
    "print(\"\\n\".join(flow.completed_work))"
   ]
  },
  {
   "cell_type": "markdown",
   "id": "04c5f41e-6664-4115-9226-2596049e4096",
   "metadata": {},
   "source": [
    "## ReWOO\n",
    "\n",
    "- 管道计算场景：上一个任务的输出，作为下一个任务的输入\n",
    "- 参数组装场景：上一个任务的输出需要做一定转换，才能作为下一个任务的输入（执行哪个任务是确定的，但参数需要组装）\n",
    "- 条件分支场景：上一个任务的输出作为一种判定条件，决定执行接下来哪个任务（执行哪个任务不确定，需要根据当前任务返回来判定）\n",
    "\n",
    "### 查天气"
   ]
  },
  {
   "cell_type": "code",
   "execution_count": 3,
   "id": "4df100e8-c809-4be5-9ee0-d0bc40ef47ed",
   "metadata": {},
   "outputs": [
    {
     "name": "stdout",
     "output_type": "stream",
     "text": [
      "[AGENT] \u001b[34m>>> Node 1: planner\u001b[0m\n",
      "\u001b[32mStep1\u001b[0m\u001b[32m:\u001b[0m\u001b[32m \u001b[0m\u001b[32m首先，\u001b[0m\u001b[32m我们需要确定鸿蒙\u001b[0m\u001b[32m公司所在的地址。\u001b[0m\u001b[32m#E1 =\u001b[0m\u001b[32m get_city[{\"\u001b[0m\u001b[32mlocation\": \"鸿\u001b[0m\u001b[32m蒙公司\"}]\n",
      "\u001b[0m\u001b[32mStep2: \u001b[0m\u001b[32m然后，\u001b[0m\u001b[32m我们使用上一步\u001b[0m\u001b[32m得到的城市信息来\u001b[0m\u001b[32m查询天气情况。\u001b[0m\u001b[32m#E2 =\u001b[0m\u001b[32m get_weather[{\"\u001b[0m\u001b[32mcity\": \"#E\u001b[0m\u001b[32m1\"}]\u001b[0m\u001b[32m\u001b[0m\n",
      "\u001b[33m广州\u001b[0m\n",
      "\u001b[33m广州天气不错，一直是大晴天\u001b[0m\n",
      "[AGENT] \u001b[34m>>> Node 2: observe_func\u001b[0m\n",
      "\u001b[33m我在鸿蒙公司，帮我查询一下天气情况\u001b[0m[AGENT] \u001b[34m>>> Node 3: solver\u001b[0m\n",
      "\u001b[32m```markdown\u001b[0m\u001b[32m\n",
      "\u001b[0m\u001b[32m**\u001b[0m\u001b[32m最终答案**\n",
      "广州\u001b[0m\u001b[32m天气不错，一直是\u001b[0m\u001b[32m大晴天\n",
      "\u001b[0m\u001b[32m```\u001b[0m\u001b[32m\u001b[0m\n",
      "Step1: 首先，我们需要确定鸿蒙公司所在的地址。\n",
      "#E1 = get_city[{\"location\": \"鸿蒙公司\"}]\n",
      "#E1 执行结果: 广州\n",
      "\n",
      "Step2: 然后，我们使用上一步得到的城市信息来查询天气情况。\n",
      "#E2 = get_weather[{\"city\": \"#E1\"}]\n",
      "#E2 执行结果: 广州天气不错，一直是大晴天\n",
      "\n"
     ]
    }
   ],
   "source": [
    "from illufly.types import BaseAgent, PromptTemplate\n",
    "from illufly.chat import ChatQwen, ReWOO\n",
    "def get_city(location: str):\n",
    "    \"\"\"由任意地址描述查询出所在的城市\"\"\"\n",
    "    return \"广州\"\n",
    "\n",
    "def get_weather(city: str):\n",
    "    \"\"\"我可以查询城市的天气情况。city必须是城市名称。\"\"\"\n",
    "    return f'{city}天气不错，一直是大晴天'\n",
    "\n",
    "def booking(request: str):\n",
    "    \"\"\"我可以根据你的需求预订球场\"\"\"\n",
    "    return '我已经帮你预订好了，祝你玩得愉快'\n",
    "\n",
    "flow = ReWOO(\n",
    "    ChatQwen(name=\"planner\", tools=[get_city, get_weather, booking]),\n",
    "    ChatQwen(name=\"solver\")\n",
    ")\n",
    "flow(\"我在鸿蒙公司，帮我查询一下天气情况\", verbose=False)\n",
    "print(flow.solver_template.provider_dict['completed_work'])"
   ]
  },
  {
   "cell_type": "code",
   "execution_count": 2,
   "id": "bb3f802c-b31f-48c0-87f9-a8850b3b6153",
   "metadata": {},
   "outputs": [
    {
     "name": "stdout",
     "output_type": "stream",
     "text": [
      "Step1: 首先，我们需要确定鸿蒙公司的位置所在城市。\n",
      "#E1 = get_city[{\"location\": \"鸿蒙公司\"}]\n",
      "#E1 执行结果: 广州\n",
      "\n",
      "Step2: 接着，我们使用上一步骤中获得的城市名称来查询天气情况。\n",
      "#E2 = get_weather[{\"city\": \"#E1\"}]\n",
      "#E2 执行结果: 广州天气不错，一直是大晴天\n",
      "\n"
     ]
    }
   ],
   "source": [
    "print(flow.solver_template.provider_dict['completed_work'])"
   ]
  },
  {
   "cell_type": "markdown",
   "id": "d85e809c-95a6-4a66-a9c9-7acfab9481f2",
   "metadata": {},
   "source": [
    "### 查看 Planner 提示语组装结果"
   ]
  },
  {
   "cell_type": "code",
   "execution_count": 11,
   "id": "cf5380c4-f383-403d-98d8-8e4574d7e2cb",
   "metadata": {},
   "outputs": [
    {
     "name": "stdout",
     "output_type": "stream",
     "text": [
      "对于以下任务，制定可以逐步解决问题的计划。\n",
      "对于每个计划，指明使用哪个外部工具以及工具输入来获取证据。\n",
      "\n",
      "工具可以是以下之一：\n",
      "{\"type\": \"function\", \"function\": {\"name\": \"get_city\", \"description\": \"由任意地址描述查询出所在的城市\", \"parameters\": {\"type\": \"object\", \"properties\": {\"location\": {\"type\": \"string\", \"description\": \"\"}}, \"required\": [\"location\"]}}}\n",
      "{\"type\": \"function\", \"function\": {\"name\": \"get_weather\", \"description\": \"我可以查询城市的天气情况。city必须是城市名称。\", \"parameters\": {\"type\": \"object\", \"properties\": {\"city\": {\"type\": \"string\", \"description\": \"\"}}, \"required\": [\"city\"]}}}\n",
      "{\"type\": \"function\", \"function\": {\"name\": \"booking\", \"description\": \"我可以根据你的需求预订球场\", \"parameters\": {\"type\": \"object\", \"properties\": {\"request\": {\"type\": \"string\", \"description\": \"\"}}, \"required\": [\"request\"]}}}\n",
      "\n",
      "你可以将具体计划的执行结果存储在一个变量 #E{n} 中，后续工具可以调用该变量。\n",
      "(Step1, #E1, Step2, #E2, Step3, ...)\n",
      "\n",
      "其中 #E{n} 用于保存计划执行后的变量名，n 是子任务的序号，格式为:\n",
      "Step{n}: (子任务描述) #E{n} = function_name[kwargs_with_json]\n",
      "\n",
      "例如：\n",
      "Step1: 假设 Thomas 工作了 x 小时，将问题转化为代数表达式并使用 Wolfram Alpha 解决。#E1 = WolframAlpha[{\"prompt\":\"Solve x + (2x − 10) + ((2x − 10) − 8) = 157\"}]\n",
      "Step2: 找出 Thomas 工作的小时数。#E2 = LLM[{\"prompt\": \"What is x, given #E1\"}]\n",
      "Step3: 计算 Rebecca 工作的小时数。#E3 = Calculator[{\"expr\": \"(2 ∗ #E2 − 10) − 8\"}]\n",
      "\n",
      "开始！\n",
      "详细描述你的步骤。每个步骤后面应只跟一个 #E{n}。\n",
      "\n",
      "任务：如果不下雨，你帮我订一个球场？\n"
     ]
    }
   ],
   "source": [
    "print(flow.planner.memory[0]['content'])"
   ]
  },
  {
   "cell_type": "markdown",
   "id": "c0c77aae-5ef3-418f-ab0b-4fc7b15d281d",
   "metadata": {},
   "source": [
    "### 查看 Solver 提示语组装结果"
   ]
  },
  {
   "cell_type": "code",
   "execution_count": 12,
   "id": "1bf9aebe-022c-46fd-b947-8f53cbda0a16",
   "metadata": {},
   "outputs": [
    {
     "name": "stdout",
     "output_type": "stream",
     "text": [
      "解决以下任务或问题。\n",
      "为了解决这个问题，我们制定了逐步计划，并获得了每个计划的执行结果。\n",
      "请谨慎使用这些执行结果，因为其中可能包含不相关的信息。\n",
      "\n",
      "Step1: 首先，需要确定鸿蒙公司的具体位置，以便查询其所在城市的天气。\n",
      "#E1 = get_city[{\"location\": \"鸿蒙公司\"}]\n",
      "#E1 执行结果: 广州\n",
      "\n",
      "Step2: 使用上一步得到的城市信息，查询该城市的天气情况。\n",
      "#E2 = get_weather[{\"city\": \"#E1\"}]\n",
      "#E2 执行结果: 广州天气不错，一直是大晴天\n",
      "\n",
      "Step1: 获取当前所在城市\n",
      "#E1 = get_city[{\"location\": \"我的位置\"}]\n",
      "#E1 执行结果: 广州\n",
      "\n",
      "Step2: 查询该城市的天气情况\n",
      "#E2 = get_weather[{\"city\": \"#E1\"}]\n",
      "#E2 执行结果: 广州天气不错，一直是大晴天\n",
      "\n",
      "Step3: 根据天气情况决定是否预订球场\n",
      "#E3 = booking[{\"request\": \"如果 #E2 不包含'雨'，则预订一个足球场\"}]\n",
      "#E3 执行结果: 我已经帮你预订好了，祝你玩得愉快\n",
      "\n",
      "\n",
      "现在根据上面提供的执行结果解决问题或任务。\n",
      "直接回答问题，不要废话，不要评论。\n",
      "\n",
      "任务: 如果不下雨，你帮我订一个球场？\n",
      "\n",
      "请按如下格式输出你的回答:\n",
      "\n",
      "```markdown\n",
      "**最终答案**\n",
      "(你的回答)\n",
      "```\n"
     ]
    }
   ],
   "source": [
    "print(flow.get_agent(\"solver\").memory[0]['content'])"
   ]
  },
  {
   "cell_type": "markdown",
   "id": "cb7051b5-29e4-4572-ae7a-7ec983cbbcde",
   "metadata": {},
   "source": [
    "### 复杂情况：订球场"
   ]
  },
  {
   "cell_type": "code",
   "execution_count": 4,
   "id": "d432db03-8af3-426f-a7bd-5f19267bd9ea",
   "metadata": {},
   "outputs": [
    {
     "name": "stdout",
     "output_type": "stream",
     "text": [
      "[AGENT] \u001b[34m>>> Node 1: planner\u001b[0m\n",
      "\u001b[32mStep1\u001b[0m\u001b[32m:\u001b[0m\u001b[32m 获取\u001b[0m\u001b[32m当前位置所在城市 #\u001b[0m\u001b[32mE1 = get\u001b[0m\u001b[32m_city[{\"location\u001b[0m\u001b[32m\": \"我的位置\u001b[0m\u001b[32m\"}]\n",
      "Step2\u001b[0m\u001b[32m: 查询该城市的\u001b[0m\u001b[32m天气情况 #E\u001b[0m\u001b[32m2 = get_weather\u001b[0m\u001b[32m[{\"city\":\u001b[0m\u001b[32m \"#E1\"}\u001b[0m\u001b[32m]\n",
      "Step3:\u001b[0m\u001b[32m 根据天气\u001b[0m\u001b[32m情况决定是否预订\u001b[0m\u001b[32m球场 #E3\u001b[0m\u001b[32m = booking[{\"\u001b[0m\u001b[32mrequest\": \"如果\u001b[0m\u001b[32m #E2 不\u001b[0m\u001b[32m包含 '雨'\u001b[0m\u001b[32m，则预订一个\u001b[0m\u001b[32m球场\"}]\u001b[0m\u001b[32m\u001b[0m\n",
      "\u001b[33m广州\u001b[0m\n",
      "\u001b[33m广州天气不错，一直是大晴天\u001b[0m\n",
      "\u001b[33m我已经帮你预订好了，祝你玩得愉快\u001b[0m\n",
      "[AGENT] \u001b[34m>>> Node 2: observe_func\u001b[0m\n",
      "\u001b[33m如果不下雨，你帮我订一个球场？\u001b[0m[AGENT] \u001b[34m>>> Node 3: solver\u001b[0m\n",
      "\u001b[32m```markdown\u001b[0m\u001b[32m\n",
      "\u001b[0m\u001b[32m**\u001b[0m\u001b[32m最终答案**\n",
      "我已经\u001b[0m\u001b[32m帮你预订好了，\u001b[0m\u001b[32m祝你玩得\u001b[0m\u001b[32m愉快\n",
      "```\u001b[0m\u001b[32m\u001b[0m\n"
     ]
    },
    {
     "data": {
      "text/plain": [
       "'我已经帮你预订好了，祝你玩得愉快'"
      ]
     },
     "execution_count": 4,
     "metadata": {},
     "output_type": "execute_result"
    }
   ],
   "source": [
    "flow(\"如果不下雨，你帮我订一个球场？\")"
   ]
  },
  {
   "cell_type": "code",
   "execution_count": 13,
   "id": "3bc42738-f304-402e-bb8d-c6d0f9829265",
   "metadata": {},
   "outputs": [
    {
     "name": "stdout",
     "output_type": "stream",
     "text": [
      "对于以下任务，制定可以逐步解决问题的计划。\n",
      "对于每个计划，指明使用哪个外部工具以及工具输入来获取证据。\n",
      "\n",
      "工具可以是以下之一：\n",
      "{\"type\": \"function\", \"function\": {\"name\": \"get_city\", \"description\": \"由任意地址描述查询出所在的城市\", \"parameters\": {\"type\": \"object\", \"properties\": {\"location\": {\"type\": \"string\", \"description\": \"\"}}, \"required\": [\"location\"]}}}\n",
      "{\"type\": \"function\", \"function\": {\"name\": \"get_weather\", \"description\": \"我可以查询城市的天气情况。city必须是城市名称。\", \"parameters\": {\"type\": \"object\", \"properties\": {\"city\": {\"type\": \"string\", \"description\": \"\"}}, \"required\": [\"city\"]}}}\n",
      "{\"type\": \"function\", \"function\": {\"name\": \"booking\", \"description\": \"我可以根据你的需求预订球场\", \"parameters\": {\"type\": \"object\", \"properties\": {\"request\": {\"type\": \"string\", \"description\": \"\"}}, \"required\": [\"request\"]}}}\n",
      "\n",
      "你可以将具体计划的执行结果存储在一个变量 #E{n} 中，后续工具可以调用该变量。\n",
      "(Step1, #E1, Step2, #E2, Step3, ...)\n",
      "\n",
      "其中 #E{n} 用于保存计划执行后的变量名，n 是子任务的序号，格式为:\n",
      "Step{n}: (子任务描述) #E{n} = function_name[kwargs_with_json]\n",
      "\n",
      "例如：\n",
      "Step1: 假设 Thomas 工作了 x 小时，将问题转化为代数表达式并使用 Wolfram Alpha 解决。#E1 = WolframAlpha[{\"prompt\":\"Solve x + (2x − 10) + ((2x − 10) − 8) = 157\"}]\n",
      "Step2: 找出 Thomas 工作的小时数。#E2 = LLM[{\"prompt\": \"What is x, given #E1\"}]\n",
      "Step3: 计算 Rebecca 工作的小时数。#E3 = Calculator[{\"expr\": \"(2 ∗ #E2 − 10) − 8\"}]\n",
      "\n",
      "开始！\n",
      "详细描述你的步骤。每个步骤后面应只跟一个 #E{n}。\n",
      "\n",
      "任务：如果不下雨，你帮我订一个球场？\n"
     ]
    }
   ],
   "source": [
    "print(flow.planner.memory[0]['content'])"
   ]
  },
  {
   "cell_type": "markdown",
   "id": "b059e2d3-eb68-40b0-8682-91933a897f0c",
   "metadata": {},
   "source": [
    "## Plan And Execute"
   ]
  },
  {
   "cell_type": "markdown",
   "id": "c884c453-d5dd-4c63-a0ae-5827d0971265",
   "metadata": {},
   "source": [
    "### 提示语测试"
   ]
  },
  {
   "cell_type": "code",
   "execution_count": 1,
   "id": "624a6a73-d91c-4272-aaf9-54626e138495",
   "metadata": {},
   "outputs": [],
   "source": [
    "from illufly.types import BaseAgent, PromptTemplate\n",
    "from illufly.chat import ChatQwen, ReAct\n",
    "\n",
    "def get_city(location: str):\n",
    "    \"\"\"由任意地址描述查询出所在的城市\"\"\"\n",
    "    return \"广州\"\n",
    "\n",
    "def get_weather(city: str):\n",
    "    \"\"\"我可以查询城市的天气情况。city必须是城市名称。\"\"\"\n",
    "    return f'{city}天气不错，一直是大晴天'\n",
    "\n",
    "def booking(request: str):\n",
    "    \"\"\"我可以根据你的需求预订球场\"\"\"\n",
    "    return '我已经帮你预订好了，祝你玩得愉快'\n",
    "\n",
    "qwen = ChatQwen(memory=PromptTemplate(\"FLOW/PlanAndExe/Planner\"), tools=[get_city, get_weather, booking])\n",
    "\n",
    "task = \"我要回公司，看看我是否需要带伞，另外帮我订一个羽毛球场\"\n",
    "qwen(task, new_chat=True)"
   ]
  },
  {
   "cell_type": "code",
   "execution_count": 2,
   "id": "a4afa158-6397-483e-bb07-a28418b8dc9e",
   "metadata": {},
   "outputs": [
    {
     "name": "stdout",
     "output_type": "stream",
     "text": [
      "\n",
      "\n",
      "[TOOLS_CALL_FINAL] \u001b[36m[{\"index\": 0, \"id\": \"call_ac6cf72f876747d99f3e7b\", \"type\": \"function\", \"function\": {\"name\": \"get_weather\", \"arguments\": \"{\\\"city\\\": \\\"广州\\\"}\"}}]\u001b[0m\n",
      "\u001b[32m广州天气不错，一直是大晴天\u001b[0m\n",
      "\u001b[32m好\u001b[0m\u001b[32m的，已经查询\u001b[0m\u001b[32m到广州今天的天气\u001b[0m\u001b[32m情况是大晴\u001b[0m\u001b[32m天。\u001b[0m\u001b[32m\u001b[0m\n"
     ]
    },
    {
     "data": {
      "text/plain": [
       "'好的，已经查询到广州今天的天气情况是大晴天。'"
      ]
     },
     "execution_count": 2,
     "metadata": {},
     "output_type": "execute_result"
    }
   ],
   "source": [
    "from illufly.types import BaseAgent, PromptTemplate\n",
    "from illufly.chat import ChatQwen, ReAct\n",
    "\n",
    "def get_city(location: str):\n",
    "    \"\"\"由任意地址描述查询出所在的城市\"\"\"\n",
    "    return \"广州\"\n",
    "\n",
    "def get_weather(city: str):\n",
    "    \"\"\"我可以查询城市的天气情况。city必须是城市名称。\"\"\"\n",
    "    return f'{city}天气不错，一直是大晴天'\n",
    "\n",
    "def booking(request: str):\n",
    "    \"\"\"我可以根据你的需求预订球场\"\"\"\n",
    "    return '我已经帮你预订好了，祝你玩得愉快'\n",
    "\n",
    "plan = \"\"\"\n",
    "Step1: 使用 get_city 函数通过公司地址确定所在城市 #E1 Value = 广州\n",
    "Step2: 使用 get_weather 函数查询 #E1 所得城市今天的天气情况 #E2\n",
    "Step3: 根据 #E2 的天气情况判断是否需要带伞 #E3\n",
    "Step4: 使用 booking 函数预订羽毛球场 #E4\n",
    "\"\"\"\n",
    "\n",
    "step2 = \"使用 get_weather 函数查询 #E1 所得城市今天的天气情况 #E2\"\n",
    "\n",
    "qwen = ChatQwen(tools=[get_city, get_weather, booking])\n",
    "qwen([(\"user\", PromptTemplate(\"FLOW/PlanAndExe/Worker\", binding_map={\"plan\": plan, \"step_n\": 2}))])"
   ]
  },
  {
   "cell_type": "code",
   "execution_count": 1,
   "id": "23dc3368-6795-4561-924c-f863397dacd0",
   "metadata": {},
   "outputs": [
    {
     "name": "stdout",
     "output_type": "stream",
     "text": [
      "\u001b[32mStep3\u001b[0m\u001b[32m:\u001b[0m\u001b[32m \u001b[0m\u001b[32m根据 #E\u001b[0m\u001b[32m2 的天气情况\u001b[0m\u001b[32m判断是否需要带\u001b[0m\u001b[32m伞 #E3\u001b[0m\u001b[32m\n",
      "Step4:\u001b[0m\u001b[32m 使用 booking 函数\u001b[0m\u001b[32m预订羽毛球场 #\u001b[0m\u001b[32mE4\u001b[0m\u001b[32m\u001b[0m\n"
     ]
    },
    {
     "data": {
      "text/plain": [
       "'Step3: 根据 #E2 的天气情况判断是否需要带伞 #E3\\nStep4: 使用 booking 函数预订羽毛球场 #E4'"
      ]
     },
     "execution_count": 1,
     "metadata": {},
     "output_type": "execute_result"
    }
   ],
   "source": [
    "from illufly.types import BaseAgent, PromptTemplate\n",
    "from illufly.chat import ChatQwen, ReAct\n",
    "\n",
    "def get_city(location: str):\n",
    "    \"\"\"由任意地址描述查询出所在的城市\"\"\"\n",
    "    return \"广州\"\n",
    "\n",
    "def get_weather(city: str):\n",
    "    \"\"\"我可以查询城市的天气情况。city必须是城市名称。\"\"\"\n",
    "    return f'{city}天气不错，一直是大晴天'\n",
    "\n",
    "def booking(request: str):\n",
    "    \"\"\"我可以根据你的需求预订球场\"\"\"\n",
    "    return '我已经帮你预订好了，祝你玩得愉快'\n",
    "\n",
    "plan = \"\"\"\n",
    "Step1: 使用 get_city 函数通过公司地址确定所在城市 #E1 Value = 广州\n",
    "Step2: 使用 get_weather 函数查询 #E1 所得城市今天的天气情况 #E2\n",
    "Step3: 根据 #E2 的天气情况判断是否需要带伞 #E3\n",
    "Step4: 使用 booking 函数预订羽毛球场 #E4\n",
    "\"\"\"\n",
    "\n",
    "completed_work = \"\"\"\n",
    "Step1: 使用 get_city 函数通过公司地址确定所在城市 #E1\n",
    "Step2: 使用 get_weather 函数查询 #E1 所得城市今天的天气情况 #E2\n",
    "\"\"\"\n",
    "\n",
    "task = \"我要回公司，看看我是否需要带伞，另外帮我订一个羽毛球场\"\n",
    "\n",
    "qwen = ChatQwen(memory=PromptTemplate(\"FLOW/PlanAndExe/RePlanner\"), tools=[get_city, get_weather, booking])\n",
    "qwen.bind_provider({\"completed_work\": completed_work, \"plan\": plan, \"task\": task})\n",
    "qwen(\"请开始\", new_chat=True)"
   ]
  },
  {
   "cell_type": "code",
   "execution_count": 1,
   "id": "6d3a698a-f1e3-4475-8e50-3b7023945f35",
   "metadata": {},
   "outputs": [
    {
     "name": "stdout",
     "output_type": "stream",
     "text": [
      "结合可用的工具，为给定目标制定一个简单的逐步执行的计划。\n",
      "这个计划应包括各个任务，如果正确执行，将得出正确答案。\n",
      "不要添加任何多余的步骤。\n",
      "最终步骤的结果应该是最终答案。\n",
      "确保每个步骤都有所需的所有信息 - 不要跳过步骤。\n",
      "\n",
      "你可以从  中选择一个或多个工具使用。这些工具的详细描述为：\n",
      "\n",
      "\n",
      "\n",
      "你输出的计划必须将执行结果存储在一个变量 #E{n} 中，任务间的依赖关系可以在任务秒速中引用该变量来反应。\n",
      "(Step1, #E1, Step2, #E2, Step3, ...)\n",
      "\n",
      "其中 #E{n} 用于保存计划执行后的变量名，n 是子任务的序号，格式为:\n",
      "Step{n}: (子任务描述) #E{n}\n",
      "每个计划后面应只跟一个 #E{n}。\n",
      "\n",
      "例子：\n",
      "Step1: (详细的计划描述) #E1\n",
      "Step2: (详细的计划描述) #E2\n",
      "...\n",
      "\n"
     ]
    }
   ],
   "source": [
    "from illufly.types import BaseAgent, PromptTemplate\n",
    "\n",
    "plan = \"\"\"\n",
    "Step1: 使用 get_city 函数通过公司地址确定所在城市 #E1 Value = 广州\n",
    "Step2: 使用 get_weather 函数查询 #E1 所得城市今天的天气情况 #E2\n",
    "Step3: 根据 #E2 的天气情况判断是否需要带伞 #E3\n",
    "Step4: 使用 booking 函数预订羽毛球场 #E4\n",
    "\"\"\"\n",
    "\n",
    "completed_work = \"\"\"\n",
    "Step1: 使用 get_city 函数通过公司地址确定所在城市 #E1\n",
    "Step2: 使用 get_weather 函数查询 #E1 所得城市今天的天气情况 #E2\n",
    "\"\"\"\n",
    "\n",
    "task = \"我要回公司，看看我是否需要带伞，另外帮我订一个羽毛球场\"\n",
    "\n",
    "print(\n",
    "    PromptTemplate(\n",
    "        \"FLOW/PlanAndExe/Planner\",\n",
    "        binding_map = {\n",
    "            \"task\": task\n",
    "        }\n",
    "    ).format()\n",
    ")"
   ]
  },
  {
   "cell_type": "code",
   "execution_count": 3,
   "id": "226f511c-09d0-4e94-8152-92d5d20981a0",
   "metadata": {},
   "outputs": [
    {
     "name": "stdout",
     "output_type": "stream",
     "text": [
      "你是强大的写作助手。\n",
      "\n",
      "你必须遵循以下约束来完成任务:\n",
      "1. 直接输出你的结果，不要评论，不要啰嗦\n",
      "2. 使用markdown格式输出\n",
      "3. 请按照需要输出一份写作提纲\n",
      "4. 提纲的构成应当由多个阔系额要求构成\n",
      "5. 扩写要求必须包含清晰描述，如预估字数、创意要点、创作思路、创作中涉及到的实体名称等\n",
      "5. 每一个扩写要求由完整的 `<OUTLINE>`和`</OUTLINE>` 包裹\n",
      "6. 你只能输出提纲，不要输出具体的扩写内容\n",
      "\n",
      "**你的任务是:**\n",
      "我要回公司，看看我是否需要带伞，另外帮我订一个羽毛球场\n",
      "\n",
      "\n",
      "**输出例子1**\n",
      "```\n",
      "# 第一章 标题1\n",
      "## 一、XXXX\n",
      "<OUTLINE>\n",
      "扩写摘要:\n",
      "对扩写内容做摘要总结\n",
      "\n",
      "扩写要求：\n",
      "- xxx\n",
      "- xxx\n",
      "</OUTLINE>\n",
      "\n",
      "## 二、XXXX\n",
      "<OUTLINE>\n",
      "</OUTLINE>\n",
      "\n",
      "## （更多扩写提纲）\n",
      "```\n",
      "\n",
      "\n"
     ]
    }
   ],
   "source": [
    "print(\n",
    "    PromptTemplate(\n",
    "        \"OUTLINE\",\n",
    "        binding_map = {\n",
    "            \"task\": task\n",
    "        }\n",
    "    ).format()\n",
    ")"
   ]
  },
  {
   "cell_type": "code",
   "execution_count": null,
   "id": "a699cafd-af77-4a64-b73e-dc06dc98b235",
   "metadata": {},
   "outputs": [],
   "source": []
  }
 ],
 "metadata": {
  "kernelspec": {
   "display_name": "textlong-same-ipykernel",
   "language": "python",
   "name": "textlong-same-ipykernel"
  },
  "language_info": {
   "codemirror_mode": {
    "name": "ipython",
    "version": 3
   },
   "file_extension": ".py",
   "mimetype": "text/x-python",
   "name": "python",
   "nbconvert_exporter": "python",
   "pygments_lexer": "ipython3",
   "version": "3.10.0"
  }
 },
 "nbformat": 4,
 "nbformat_minor": 5
}
