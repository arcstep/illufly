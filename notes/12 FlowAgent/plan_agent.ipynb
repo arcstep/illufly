{
 "cells": [
  {
   "cell_type": "markdown",
   "id": "796bab09-5f89-4ae3-a686-859b4740c1a9",
   "metadata": {},
   "source": [
    "## 结合工具规划逻辑\n",
    "\n",
    "包括 ReAct、ReWoo、Plan 等复杂的工具规划推理也可以通过 FlowAgent 实现。"
   ]
  },
  {
   "cell_type": "markdown",
   "id": "232ba47b-75ae-474c-9479-1e88460ea800",
   "metadata": {},
   "source": [
    "## ReAct\n",
    "\n",
    "### 查天气"
   ]
  },
  {
   "cell_type": "code",
   "execution_count": 1,
   "id": "4a7cc5f4-ff7d-42d3-bc85-f2c2a74a64ca",
   "metadata": {},
   "outputs": [
    {
     "name": "stdout",
     "output_type": "stream",
     "text": [
      "[AGENT] \u001b[34m>>> Node 1: planner\u001b[0m\n",
      "\u001b[32m**思考\u001b[0m\u001b[32m**\u001b[0m\u001b[32m  \n",
      "\u001b[0m\u001b[32m首先，我需要\u001b[0m\u001b[32m确定鸿蒙公司\u001b[0m\u001b[32m位于哪个城市。\u001b[0m\u001b[32m因为这将决定\u001b[0m\u001b[32m我查询天气的具体\u001b[0m\u001b[32m位置。所以我的\u001b[0m\u001b[32m下一步应该是使用 `\u001b[0m\u001b[32mget_city` \u001b[0m\u001b[32m工具来获取\u001b[0m\u001b[32m鸿蒙公司的具体\u001b[0m\u001b[32m城市信息。\n",
      "\n",
      "**\u001b[0m\u001b[32m行动**  \n",
      "Step\u001b[0m\u001b[32m1: 查询鸿\u001b[0m\u001b[32m蒙公司所在的 city\u001b[0m\u001b[32m. #E1\u001b[0m\u001b[32m = get_city[\u001b[0m\u001b[32m{\"location\": \"\u001b[0m\u001b[32m鸿蒙公司\"}\u001b[0m\u001b[32m]\u001b[0m\u001b[32m\u001b[0m\n",
      "\u001b[33m广州\u001b[0m\n",
      "[AGENT] \u001b[34m>>> Node 2: observer\u001b[0m\n",
      "\u001b[33m\n",
      "**观察**\n",
      "上面的行动结果为:\n",
      "广州\n",
      "\u001b[0m[AGENT] \u001b[34m>>> Node 1: planner\u001b[0m\n",
      "\u001b[32m**思考\u001b[0m\u001b[32m**\u001b[0m\u001b[32m  \n",
      "\u001b[0m\u001b[32m既然已经知道了鸿\u001b[0m\u001b[32m蒙公司位于广州\u001b[0m\u001b[32m，接下来我应该\u001b[0m\u001b[32m使用 `get_weather\u001b[0m\u001b[32m` 工具\u001b[0m\u001b[32m来查询广州的\u001b[0m\u001b[32m天气情况。\n",
      "\n",
      "**\u001b[0m\u001b[32m行动**  \n",
      "Step\u001b[0m\u001b[32m1: 查询广州\u001b[0m\u001b[32m的天气情况.\u001b[0m\u001b[32m #E1 =\u001b[0m\u001b[32m get_weather[{\"\u001b[0m\u001b[32mcity\": \"广州\u001b[0m\u001b[32m\"}]\u001b[0m\u001b[32m\u001b[0m\n",
      "\u001b[33m广州天气不错，一直是大晴天\u001b[0m\n",
      "[AGENT] \u001b[34m>>> Node 2: observer\u001b[0m\n",
      "\u001b[33m\n",
      "**观察**\n",
      "上面的行动结果为:\n",
      "广州天气不错，一直是大晴天\n",
      "\u001b[0m[AGENT] \u001b[34m>>> Node 1: planner\u001b[0m\n",
      "\u001b[32m**思考\u001b[0m\u001b[32m**\u001b[0m\u001b[32m  \n",
      "\u001b[0m\u001b[32m我已经获得了鸿蒙\u001b[0m\u001b[32m公司所在的城市信息\u001b[0m\u001b[32m，即广州，并\u001b[0m\u001b[32m且查询了广州\u001b[0m\u001b[32m的天气情况。\u001b[0m\u001b[32m根据获得的信息，\u001b[0m\u001b[32m广州的天气非常好\u001b[0m\u001b[32m，一直是大晴\u001b[0m\u001b[32m天。因此，\u001b[0m\u001b[32m现在可以输出最终\u001b[0m\u001b[32m答案了。\n",
      "\n",
      "**\u001b[0m\u001b[32m最终答案**  \n",
      "\u001b[0m\u001b[32m鸿蒙公司位于\u001b[0m\u001b[32m广州，目前广州\u001b[0m\u001b[32m的天气非常好，\u001b[0m\u001b[32m一直是大晴天\u001b[0m\u001b[32m。\u001b[0m\u001b[32m\u001b[0m\n",
      "[AGENT] \u001b[34m>>> Node 2: observer\u001b[0m\n"
     ]
    },
    {
     "data": {
      "text/plain": [
       "'鸿蒙公司位于广州，目前广州的天气非常好，一直是大晴天。'"
      ]
     },
     "execution_count": 1,
     "metadata": {},
     "output_type": "execute_result"
    }
   ],
   "source": [
    "from illufly.types import BaseAgent, PromptTemplate\n",
    "from illufly.chat import ChatQwen, ReAct\n",
    "\n",
    "def get_city(location: str):\n",
    "    \"\"\"由任意地名或地址描述查询出所在的城市\"\"\"\n",
    "    return \"广州\"\n",
    "\n",
    "def get_weather(city: str):\n",
    "    \"\"\"我可以查询城市的天气情况。city必须是城市名称。\"\"\"\n",
    "    return f'{city}天气不错，一直是大晴天'\n",
    "\n",
    "def booking(request: str):\n",
    "    \"\"\"我可以根据你的需求预订球场\"\"\"\n",
    "    return '我已经帮你预订好了，祝你玩得愉快'\n",
    "\n",
    "flow = ReAct(ChatQwen(name=\"qwen\", tools=[get_city, get_weather, booking]))\n",
    "flow(\"我在鸿蒙公司，帮我查询一下天气情况\", verbose=False)\n",
    "\n",
    "flow.last_output"
   ]
  },
  {
   "cell_type": "code",
   "execution_count": 3,
   "id": "4b6a8cf7-5a8c-4a08-a1f7-89682fddd0ea",
   "metadata": {},
   "outputs": [
    {
     "name": "stdout",
     "output_type": "stream",
     "text": [
      "**思考**  \n",
      "我需要先确定鸿蒙公司位于哪个城市，才能查询该地区的天气情况。因此，我的第一步应该是使用 `get_city` 工具来获取鸿蒙公司的具体位置信息。\n",
      "\n",
      "**行动**  \n",
      "Step1: 查询鸿蒙公司所在城市. #E1 = get_city[{\"location\": \"鸿蒙公司\"}]\n",
      "\n",
      "**观察**\n",
      "上面的行动结果为:\n",
      "广州\n",
      "\n",
      "**思考**  \n",
      "既然已经确定了鸿蒙公司位于广州，接下来的步骤就是使用 `get_weather` 工具来查询广州的天气情况。\n",
      "\n",
      "**行动**  \n",
      "Step2: 查询广州的天气情况. #E2 = get_weather[{\"city\": \"广州\"}]\n",
      "\n",
      "**观察**\n",
      "上面的行动结果为:\n",
      "广州天气不错，一直是大晴天\n",
      "\n",
      "**思考**  \n",
      "我已经得到了鸿蒙公司所在的地理位置是广州，以及广州的天气情况是大晴天。基于这些信息，我认为没有必要再采取进一步的行动，因为问题已经被解答了。\n",
      "\n",
      "**最终答案**  \n",
      "鸿蒙公司位于广州，目前广州的天气非常好，一直是大晴天。\n"
     ]
    }
   ],
   "source": [
    "print(\"\\n\".join(flow.completed_work))"
   ]
  },
  {
   "cell_type": "markdown",
   "id": "8591386d-5855-4bb3-8121-7c61c17b1c98",
   "metadata": {},
   "source": [
    "### 订球场"
   ]
  },
  {
   "cell_type": "code",
   "execution_count": 4,
   "id": "e4926ebe-34bb-47a5-91f8-b4101164a3d5",
   "metadata": {},
   "outputs": [
    {
     "name": "stdout",
     "output_type": "stream",
     "text": [
      "[AGENT] \u001b[34m>>> Node 1: planner\u001b[0m\n",
      "\u001b[32m**思考\u001b[0m\u001b[32m**\u001b[0m\u001b[32m  \n",
      "\u001b[0m\u001b[32m首先，我需要\u001b[0m\u001b[32m了解鸿蒙公司\u001b[0m\u001b[32m所在的地点，以便\u001b[0m\u001b[32m进一步查询该地区的\u001b[0m\u001b[32m天气情况。因此\u001b[0m\u001b[32m，我的第一步应该是\u001b[0m\u001b[32m确定鸿蒙公司\u001b[0m\u001b[32m所在的城市。\n",
      "\n",
      "**\u001b[0m\u001b[32m行动**  \n",
      "Step\u001b[0m\u001b[32m1: 查询鸿\u001b[0m\u001b[32m蒙公司所在城市\u001b[0m\u001b[32m. #E1\u001b[0m\u001b[32m = get_city[\u001b[0m\u001b[32m{\"location\": \"\u001b[0m\u001b[32m鸿蒙公司\"}\u001b[0m\u001b[32m]\u001b[0m\u001b[32m\u001b[0m\n",
      "\u001b[33m广州\u001b[0m\n",
      "[AGENT] \u001b[34m>>> Node 2: observer\u001b[0m\n",
      "\u001b[33m\n",
      "**观察**\n",
      "上面的行动结果为:\n",
      "广州\n",
      "\u001b[0m[AGENT] \u001b[34m>>> Node 1: planner\u001b[0m\n",
      "\u001b[32m**思考\u001b[0m\u001b[32m**\u001b[0m\u001b[32m  \n",
      "\u001b[0m\u001b[32m既然已经知道鸿\u001b[0m\u001b[32m蒙公司位于广州\u001b[0m\u001b[32m，接下来应该查询\u001b[0m\u001b[32m广州的天气情况\u001b[0m\u001b[32m，以判断是否\u001b[0m\u001b[32m下雨。如果天气\u001b[0m\u001b[32m预报显示不下雨\u001b[0m\u001b[32m，那么就可以进行\u001b[0m\u001b[32m球场预订。\n",
      "\n",
      "**\u001b[0m\u001b[32m行动**  \n",
      "Step\u001b[0m\u001b[32m2: 查询广州\u001b[0m\u001b[32m天气状况. #\u001b[0m\u001b[32mE2 = get\u001b[0m\u001b[32m_weather[{\"city\u001b[0m\u001b[32m\": \"广州\"}\u001b[0m\u001b[32m]\u001b[0m\u001b[32m\u001b[0m\n",
      "\u001b[33m广州天气不错，一直是大晴天\u001b[0m\n",
      "[AGENT] \u001b[34m>>> Node 2: observer\u001b[0m\n",
      "\u001b[33m\n",
      "**观察**\n",
      "上面的行动结果为:\n",
      "广州天气不错，一直是大晴天\n",
      "\u001b[0m[AGENT] \u001b[34m>>> Node 1: planner\u001b[0m\n",
      "\u001b[32m**思考\u001b[0m\u001b[32m**\u001b[0m\u001b[32m  \n",
      "\u001b[0m\u001b[32m既然广州的天气\u001b[0m\u001b[32m是大晴天\u001b[0m\u001b[32m，没有下雨的情况\u001b[0m\u001b[32m，那么现在可以\u001b[0m\u001b[32m进行球场的预订\u001b[0m\u001b[32m了。下一步，\u001b[0m\u001b[32m我将使用预订\u001b[0m\u001b[32m功能来完成任务\u001b[0m\u001b[32m。\n",
      "\n",
      "**行动**\u001b[0m\u001b[32m  \n",
      "Step3:\u001b[0m\u001b[32m 预订\u001b[0m\u001b[32m球场. #E\u001b[0m\u001b[32m3 = booking[\u001b[0m\u001b[32m{\"request\": \"\u001b[0m\u001b[32m在广州预订一个球场\u001b[0m\u001b[32m\"}]\u001b[0m\u001b[32m\u001b[0m\n",
      "\u001b[33m我已经帮你预订好了，祝你玩得愉快\u001b[0m\n",
      "[AGENT] \u001b[34m>>> Node 2: observer\u001b[0m\n",
      "\u001b[33m\n",
      "**观察**\n",
      "上面的行动结果为:\n",
      "我已经帮你预订好了，祝你玩得愉快\n",
      "\u001b[0m[AGENT] \u001b[34m>>> Node 1: planner\u001b[0m\n",
      "\u001b[32m**思考\u001b[0m\u001b[32m**\u001b[0m\u001b[32m  \n",
      "\u001b[0m\u001b[32m既然球场已经成功\u001b[0m\u001b[32m预订，任务的主要\u001b[0m\u001b[32m目标已经达成。\u001b[0m\u001b[32m目前没有其他需要\u001b[0m\u001b[32m处理的问题，因此\u001b[0m\u001b[32m可以结束任务。\n",
      "\n",
      "\u001b[0m\u001b[32m**最终答案**\n",
      "\u001b[0m\u001b[32m我已经帮你在广州\u001b[0m\u001b[32m预订好了球场，\u001b[0m\u001b[32m祝你玩得\u001b[0m\u001b[32m愉快！\u001b[0m\u001b[32m\u001b[0m\n",
      "[AGENT] \u001b[34m>>> Node 2: observer\u001b[0m\n"
     ]
    },
    {
     "data": {
      "text/plain": [
       "'我已经帮你在广州预订好了球场，祝你玩得愉快！'"
      ]
     },
     "execution_count": 4,
     "metadata": {},
     "output_type": "execute_result"
    }
   ],
   "source": [
    "flow(\"我在鸿蒙公司，如果不下雨就帮我订个球场\")"
   ]
  },
  {
   "cell_type": "code",
   "execution_count": 5,
   "id": "16e5b327-6cd5-4a12-b2e5-88ec59b9d0c4",
   "metadata": {},
   "outputs": [
    {
     "name": "stdout",
     "output_type": "stream",
     "text": [
      "**思考**  \n",
      "首先，我需要了解鸿蒙公司所在的地点，以便进一步查询该地区的天气情况。因此，我的第一步应该是确定鸿蒙公司所在的城市。\n",
      "\n",
      "**行动**  \n",
      "Step1: 查询鸿蒙公司所在城市. #E1 = get_city[{\"location\": \"鸿蒙公司\"}]\n",
      "\n",
      "**观察**\n",
      "上面的行动结果为:\n",
      "广州\n",
      "\n",
      "**思考**  \n",
      "既然已经知道鸿蒙公司位于广州，接下来应该查询广州的天气情况，以判断是否下雨。如果天气预报显示不下雨，那么就可以进行球场预订。\n",
      "\n",
      "**行动**  \n",
      "Step2: 查询广州天气状况. #E2 = get_weather[{\"city\": \"广州\"}]\n",
      "\n",
      "**观察**\n",
      "上面的行动结果为:\n",
      "广州天气不错，一直是大晴天\n",
      "\n",
      "**思考**  \n",
      "既然广州的天气是大晴天，没有下雨的情况，那么现在可以进行球场的预订了。下一步，我将使用预订功能来完成任务。\n",
      "\n",
      "**行动**  \n",
      "Step3: 预订球场. #E3 = booking[{\"request\": \"在广州预订一个球场\"}]\n",
      "\n",
      "**观察**\n",
      "上面的行动结果为:\n",
      "我已经帮你预订好了，祝你玩得愉快\n",
      "\n",
      "**思考**  \n",
      "既然球场已经成功预订，任务的主要目标已经达成。目前没有其他需要处理的问题，因此可以结束任务。\n",
      "\n",
      "**最终答案**\n",
      "我已经帮你在广州预订好了球场，祝你玩得愉快！\n"
     ]
    }
   ],
   "source": [
    "print(\"\\n\".join(flow.completed_work))"
   ]
  },
  {
   "cell_type": "markdown",
   "id": "04c5f41e-6664-4115-9226-2596049e4096",
   "metadata": {},
   "source": [
    "## ReWOO\n",
    "\n",
    "- 管道计算场景：上一个任务的输出，作为下一个任务的输入\n",
    "- 参数组装场景：上一个任务的输出需要做一定转换，才能作为下一个任务的输入（执行哪个任务是确定的，但参数需要组装）\n",
    "- 条件分支场景：上一个任务的输出作为一种判定条件，决定执行接下来哪个任务（执行哪个任务不确定，需要根据当前任务返回来判定）\n",
    "\n",
    "### 查天气"
   ]
  },
  {
   "cell_type": "code",
   "execution_count": 1,
   "id": "4df100e8-c809-4be5-9ee0-d0bc40ef47ed",
   "metadata": {},
   "outputs": [
    {
     "name": "stdout",
     "output_type": "stream",
     "text": [
      "[AGENT] \u001b[34m>>> Node 1: planner\u001b[0m\n",
      "\u001b[32mStep1\u001b[0m\u001b[32m:\u001b[0m\u001b[32m \u001b[0m\u001b[32m首先需要\u001b[0m\u001b[32m确定鸿蒙公司的\u001b[0m\u001b[32m位置所在城市。\u001b[0m\u001b[32m#E1 =\u001b[0m\u001b[32m get_city[{\"\u001b[0m\u001b[32mlocation\": \"鸿\u001b[0m\u001b[32m蒙公司\"}]\n",
      "\u001b[0m\u001b[32mStep2: 查询\u001b[0m\u001b[32m该城市的天气情况\u001b[0m\u001b[32m。#E2\u001b[0m\u001b[32m = get_weather[\u001b[0m\u001b[32m{\"city\": \"#\u001b[0m\u001b[32mE1\"}]\u001b[0m\u001b[32m\u001b[0m\n",
      "\u001b[33m广州\u001b[0m\n",
      "\u001b[33m#E1天气不错，一直是大晴天\u001b[0m\n",
      "[AGENT] \u001b[34m>>> Node 2: observe_func\u001b[0m\n",
      "\u001b[33m我在鸿蒙公司，帮我查询一下天气情况\u001b[0m[AGENT] \u001b[34m>>> Node 3: solver\u001b[0m\n",
      "\u001b[32m```markdown\u001b[0m\u001b[32m\n",
      "\u001b[0m\u001b[32m**\u001b[0m\u001b[32m最终答案**\n",
      "广州\u001b[0m\u001b[32m天气不错，一直是\u001b[0m\u001b[32m大晴天\n",
      "\u001b[0m\u001b[32m```\u001b[0m\u001b[32m\u001b[0m\n",
      "Step1: 首先需要确定鸿蒙公司的位置所在城市。\n",
      "E1 = get_city[{\"location\": \"鸿蒙公司\"}]\n",
      "E1 执行结果: 广州\n",
      "\n",
      "Step2: 查询该城市的天气情况。\n",
      "E2 = get_weather[{\"city\": \"#E1\"}]\n",
      "E2 执行结果: #E1天气不错，一直是大晴天\n",
      "\n"
     ]
    }
   ],
   "source": [
    "from illufly.types import BaseAgent, PromptTemplate\n",
    "from illufly.chat import ChatQwen, ReWOO\n",
    "def get_city(location: str):\n",
    "    \"\"\"由任意地址描述查询出所在的城市\"\"\"\n",
    "    return \"广州\"\n",
    "\n",
    "def get_weather(city: str):\n",
    "    \"\"\"我可以查询城市的天气情况。city必须是城市名称。\"\"\"\n",
    "    return f'{city}天气不错，一直是大晴天'\n",
    "\n",
    "def booking(request: str):\n",
    "    \"\"\"我可以根据你的需求预订球场\"\"\"\n",
    "    return '我已经帮你预订好了，祝你玩得愉快'\n",
    "\n",
    "flow = ReWOO(\n",
    "    ChatQwen(name=\"planner\", tools=[get_city, get_weather, booking]),\n",
    "    ChatQwen(name=\"solver\")\n",
    ")\n",
    "flow(\"我在鸿蒙公司，帮我查询一下天气情况\", verbose=False)\n",
    "print(flow.solver_template.provider_dict['completed_work'])"
   ]
  },
  {
   "cell_type": "code",
   "execution_count": 2,
   "id": "bb3f802c-b31f-48c0-87f9-a8850b3b6153",
   "metadata": {},
   "outputs": [
    {
     "name": "stdout",
     "output_type": "stream",
     "text": [
      "Step1: 首先，我们需要确定鸿蒙公司的位置所在城市。\n",
      "#E1 = get_city[{\"location\": \"鸿蒙公司\"}]\n",
      "#E1 执行结果: 广州\n",
      "\n",
      "Step2: 接着，我们使用上一步骤中获得的城市名称来查询天气情况。\n",
      "#E2 = get_weather[{\"city\": \"#E1\"}]\n",
      "#E2 执行结果: 广州天气不错，一直是大晴天\n",
      "\n"
     ]
    }
   ],
   "source": [
    "print(flow.solver_template.provider_dict['completed_work'])"
   ]
  },
  {
   "cell_type": "markdown",
   "id": "d85e809c-95a6-4a66-a9c9-7acfab9481f2",
   "metadata": {},
   "source": [
    "### 查看 Planner 提示语组装结果"
   ]
  },
  {
   "cell_type": "code",
   "execution_count": 11,
   "id": "cf5380c4-f383-403d-98d8-8e4574d7e2cb",
   "metadata": {},
   "outputs": [
    {
     "name": "stdout",
     "output_type": "stream",
     "text": [
      "对于以下任务，制定可以逐步解决问题的计划。\n",
      "对于每个计划，指明使用哪个外部工具以及工具输入来获取证据。\n",
      "\n",
      "工具可以是以下之一：\n",
      "{\"type\": \"function\", \"function\": {\"name\": \"get_city\", \"description\": \"由任意地址描述查询出所在的城市\", \"parameters\": {\"type\": \"object\", \"properties\": {\"location\": {\"type\": \"string\", \"description\": \"\"}}, \"required\": [\"location\"]}}}\n",
      "{\"type\": \"function\", \"function\": {\"name\": \"get_weather\", \"description\": \"我可以查询城市的天气情况。city必须是城市名称。\", \"parameters\": {\"type\": \"object\", \"properties\": {\"city\": {\"type\": \"string\", \"description\": \"\"}}, \"required\": [\"city\"]}}}\n",
      "{\"type\": \"function\", \"function\": {\"name\": \"booking\", \"description\": \"我可以根据你的需求预订球场\", \"parameters\": {\"type\": \"object\", \"properties\": {\"request\": {\"type\": \"string\", \"description\": \"\"}}, \"required\": [\"request\"]}}}\n",
      "\n",
      "你可以将具体计划的执行结果存储在一个变量 #E{n} 中，后续工具可以调用该变量。\n",
      "(Step1, #E1, Step2, #E2, Step3, ...)\n",
      "\n",
      "其中 #E{n} 用于保存计划执行后的变量名，n 是子任务的序号，格式为:\n",
      "Step{n}: (子任务描述) #E{n} = function_name[kwargs_with_json]\n",
      "\n",
      "例如：\n",
      "Step1: 假设 Thomas 工作了 x 小时，将问题转化为代数表达式并使用 Wolfram Alpha 解决。#E1 = WolframAlpha[{\"prompt\":\"Solve x + (2x − 10) + ((2x − 10) − 8) = 157\"}]\n",
      "Step2: 找出 Thomas 工作的小时数。#E2 = LLM[{\"prompt\": \"What is x, given #E1\"}]\n",
      "Step3: 计算 Rebecca 工作的小时数。#E3 = Calculator[{\"expr\": \"(2 ∗ #E2 − 10) − 8\"}]\n",
      "\n",
      "开始！\n",
      "详细描述你的步骤。每个步骤后面应只跟一个 #E{n}。\n",
      "\n",
      "任务：如果不下雨，你帮我订一个球场？\n"
     ]
    }
   ],
   "source": [
    "print(flow.planner.memory[0]['content'])"
   ]
  },
  {
   "cell_type": "markdown",
   "id": "c0c77aae-5ef3-418f-ab0b-4fc7b15d281d",
   "metadata": {},
   "source": [
    "### 查看 Solver 提示语组装结果"
   ]
  },
  {
   "cell_type": "code",
   "execution_count": 12,
   "id": "1bf9aebe-022c-46fd-b947-8f53cbda0a16",
   "metadata": {},
   "outputs": [
    {
     "name": "stdout",
     "output_type": "stream",
     "text": [
      "解决以下任务或问题。\n",
      "为了解决这个问题，我们制定了逐步计划，并获得了每个计划的执行结果。\n",
      "请谨慎使用这些执行结果，因为其中可能包含不相关的信息。\n",
      "\n",
      "Step1: 首先，需要确定鸿蒙公司的具体位置，以便查询其所在城市的天气。\n",
      "#E1 = get_city[{\"location\": \"鸿蒙公司\"}]\n",
      "#E1 执行结果: 广州\n",
      "\n",
      "Step2: 使用上一步得到的城市信息，查询该城市的天气情况。\n",
      "#E2 = get_weather[{\"city\": \"#E1\"}]\n",
      "#E2 执行结果: 广州天气不错，一直是大晴天\n",
      "\n",
      "Step1: 获取当前所在城市\n",
      "#E1 = get_city[{\"location\": \"我的位置\"}]\n",
      "#E1 执行结果: 广州\n",
      "\n",
      "Step2: 查询该城市的天气情况\n",
      "#E2 = get_weather[{\"city\": \"#E1\"}]\n",
      "#E2 执行结果: 广州天气不错，一直是大晴天\n",
      "\n",
      "Step3: 根据天气情况决定是否预订球场\n",
      "#E3 = booking[{\"request\": \"如果 #E2 不包含'雨'，则预订一个足球场\"}]\n",
      "#E3 执行结果: 我已经帮你预订好了，祝你玩得愉快\n",
      "\n",
      "\n",
      "现在根据上面提供的执行结果解决问题或任务。\n",
      "直接回答问题，不要废话，不要评论。\n",
      "\n",
      "任务: 如果不下雨，你帮我订一个球场？\n",
      "\n",
      "请按如下格式输出你的回答:\n",
      "\n",
      "```markdown\n",
      "**最终答案**\n",
      "(你的回答)\n",
      "```\n"
     ]
    }
   ],
   "source": [
    "print(flow.get_agent(\"solver\").memory[0]['content'])"
   ]
  },
  {
   "cell_type": "markdown",
   "id": "cb7051b5-29e4-4572-ae7a-7ec983cbbcde",
   "metadata": {},
   "source": [
    "### 复杂情况：订球场"
   ]
  },
  {
   "cell_type": "code",
   "execution_count": 4,
   "id": "d432db03-8af3-426f-a7bd-5f19267bd9ea",
   "metadata": {},
   "outputs": [
    {
     "name": "stdout",
     "output_type": "stream",
     "text": [
      "[AGENT] \u001b[34m>>> Node 1: planner\u001b[0m\n",
      "\u001b[32mStep1\u001b[0m\u001b[32m:\u001b[0m\u001b[32m 获取\u001b[0m\u001b[32m当前位置所在城市 #\u001b[0m\u001b[32mE1 = get\u001b[0m\u001b[32m_city[{\"location\u001b[0m\u001b[32m\": \"我的位置\u001b[0m\u001b[32m\"}]\n",
      "Step2\u001b[0m\u001b[32m: 查询该城市的\u001b[0m\u001b[32m天气情况 #E\u001b[0m\u001b[32m2 = get_weather\u001b[0m\u001b[32m[{\"city\":\u001b[0m\u001b[32m \"#E1\"}\u001b[0m\u001b[32m]\n",
      "Step3:\u001b[0m\u001b[32m 根据天气\u001b[0m\u001b[32m情况决定是否预订\u001b[0m\u001b[32m球场 #E3\u001b[0m\u001b[32m = booking[{\"\u001b[0m\u001b[32mrequest\": \"如果\u001b[0m\u001b[32m #E2 不\u001b[0m\u001b[32m包含 '雨'\u001b[0m\u001b[32m，则预订一个\u001b[0m\u001b[32m球场\"}]\u001b[0m\u001b[32m\u001b[0m\n",
      "\u001b[33m广州\u001b[0m\n",
      "\u001b[33m广州天气不错，一直是大晴天\u001b[0m\n",
      "\u001b[33m我已经帮你预订好了，祝你玩得愉快\u001b[0m\n",
      "[AGENT] \u001b[34m>>> Node 2: observe_func\u001b[0m\n",
      "\u001b[33m如果不下雨，你帮我订一个球场？\u001b[0m[AGENT] \u001b[34m>>> Node 3: solver\u001b[0m\n",
      "\u001b[32m```markdown\u001b[0m\u001b[32m\n",
      "\u001b[0m\u001b[32m**\u001b[0m\u001b[32m最终答案**\n",
      "我已经\u001b[0m\u001b[32m帮你预订好了，\u001b[0m\u001b[32m祝你玩得\u001b[0m\u001b[32m愉快\n",
      "```\u001b[0m\u001b[32m\u001b[0m\n"
     ]
    },
    {
     "data": {
      "text/plain": [
       "'我已经帮你预订好了，祝你玩得愉快'"
      ]
     },
     "execution_count": 4,
     "metadata": {},
     "output_type": "execute_result"
    }
   ],
   "source": [
    "flow(\"如果不下雨，你帮我订一个球场？\")"
   ]
  },
  {
   "cell_type": "code",
   "execution_count": 13,
   "id": "3bc42738-f304-402e-bb8d-c6d0f9829265",
   "metadata": {},
   "outputs": [
    {
     "name": "stdout",
     "output_type": "stream",
     "text": [
      "对于以下任务，制定可以逐步解决问题的计划。\n",
      "对于每个计划，指明使用哪个外部工具以及工具输入来获取证据。\n",
      "\n",
      "工具可以是以下之一：\n",
      "{\"type\": \"function\", \"function\": {\"name\": \"get_city\", \"description\": \"由任意地址描述查询出所在的城市\", \"parameters\": {\"type\": \"object\", \"properties\": {\"location\": {\"type\": \"string\", \"description\": \"\"}}, \"required\": [\"location\"]}}}\n",
      "{\"type\": \"function\", \"function\": {\"name\": \"get_weather\", \"description\": \"我可以查询城市的天气情况。city必须是城市名称。\", \"parameters\": {\"type\": \"object\", \"properties\": {\"city\": {\"type\": \"string\", \"description\": \"\"}}, \"required\": [\"city\"]}}}\n",
      "{\"type\": \"function\", \"function\": {\"name\": \"booking\", \"description\": \"我可以根据你的需求预订球场\", \"parameters\": {\"type\": \"object\", \"properties\": {\"request\": {\"type\": \"string\", \"description\": \"\"}}, \"required\": [\"request\"]}}}\n",
      "\n",
      "你可以将具体计划的执行结果存储在一个变量 #E{n} 中，后续工具可以调用该变量。\n",
      "(Step1, #E1, Step2, #E2, Step3, ...)\n",
      "\n",
      "其中 #E{n} 用于保存计划执行后的变量名，n 是子任务的序号，格式为:\n",
      "Step{n}: (子任务描述) #E{n} = function_name[kwargs_with_json]\n",
      "\n",
      "例如：\n",
      "Step1: 假设 Thomas 工作了 x 小时，将问题转化为代数表达式并使用 Wolfram Alpha 解决。#E1 = WolframAlpha[{\"prompt\":\"Solve x + (2x − 10) + ((2x − 10) − 8) = 157\"}]\n",
      "Step2: 找出 Thomas 工作的小时数。#E2 = LLM[{\"prompt\": \"What is x, given #E1\"}]\n",
      "Step3: 计算 Rebecca 工作的小时数。#E3 = Calculator[{\"expr\": \"(2 ∗ #E2 − 10) − 8\"}]\n",
      "\n",
      "开始！\n",
      "详细描述你的步骤。每个步骤后面应只跟一个 #E{n}。\n",
      "\n",
      "任务：如果不下雨，你帮我订一个球场？\n"
     ]
    }
   ],
   "source": [
    "print(flow.planner.memory[0]['content'])"
   ]
  },
  {
   "cell_type": "markdown",
   "id": "b059e2d3-eb68-40b0-8682-91933a897f0c",
   "metadata": {},
   "source": [
    "## Plan And Solve\n",
    "\n",
    "### 复杂情况：出差、订球场"
   ]
  },
  {
   "cell_type": "code",
   "execution_count": 2,
   "id": "ae2fb913-1c94-433c-9b08-e9d6762af31c",
   "metadata": {},
   "outputs": [
    {
     "name": "stdout",
     "output_type": "stream",
     "text": [
      "[AGENT] \u001b[34m>>> Node 1: planner\u001b[0m\n",
      "\u001b[32mStep1\u001b[0m\u001b[32m:\u001b[0m\u001b[32m 使用\u001b[0m\u001b[32m guess_city 函数\u001b[0m\u001b[32m根据地址描述“\u001b[0m\u001b[32m海珠区”\u001b[0m\u001b[32m查询所在城市 #\u001b[0m\u001b[32mE1\n",
      "Step\u001b[0m\u001b[32m2: 使用 get\u001b[0m\u001b[32m_weather 函数查询\u001b[0m\u001b[32m #E1 返回\u001b[0m\u001b[32m的城市的天气情况\u001b[0m\u001b[32m #E2\n",
      "\u001b[0m\u001b[32mStep3: 使用\u001b[0m\u001b[32m booking 函数根据\u001b[0m\u001b[32m需求预订羽毛球场\u001b[0m\u001b[32m #E3\u001b[0m\u001b[32m\u001b[0m\n",
      "[AGENT] \u001b[34m>>> Node 2: observe_plan_for_worker\u001b[0m\n",
      "[AGENT] \u001b[34m>>> Node 3: worker\u001b[0m\n",
      "\u001b[32mStep1\u001b[0m\u001b[32m:\u001b[0m\u001b[32m 使用\u001b[0m\u001b[32m guess_city 函数\u001b[0m\u001b[32m根据地址描述“\u001b[0m\u001b[32m海珠区”\u001b[0m\u001b[32m查询所在城市 #\u001b[0m\u001b[32mE1 = guess\u001b[0m\u001b[32m_city[{\"prompt\u001b[0m\u001b[32m\": \"海珠\u001b[0m\u001b[32m区\"}]\u001b[0m\u001b[32m\u001b[0m\n",
      "\u001b[33m广州\u001b[0m\n",
      "[AGENT] \u001b[34m>>> Node 4: observe_worker_for_replanner\u001b[0m\n",
      "[AGENT] \u001b[34m>>> Node 5: replanner\u001b[0m\n",
      "\u001b[32m**更新\u001b[0m\u001b[32m计划\u001b[0m\u001b[32m**\n",
      "\n",
      "\u001b[0m\u001b[32mStep1: 使用\u001b[0m\u001b[32m get_weather 函数\u001b[0m\u001b[32m查询广州的天气\u001b[0m\u001b[32m情况 #E2\u001b[0m\u001b[32m\n",
      "Step2:\u001b[0m\u001b[32m 使用 booking 函数\u001b[0m\u001b[32m预订一个羽毛球场\u001b[0m\u001b[32m #E3\u001b[0m\u001b[32m\u001b[0m\n",
      "[AGENT] \u001b[34m>>> Node 2: observe_plan_for_worker\u001b[0m\n",
      "[AGENT] \u001b[34m>>> Node 3: worker\u001b[0m\n",
      "\u001b[32mStep1\u001b[0m\u001b[32m:\u001b[0m\u001b[32m 使用\u001b[0m\u001b[32m get_weather 函数\u001b[0m\u001b[32m查询广州的天气\u001b[0m\u001b[32m情况 #E1\u001b[0m\u001b[32m = get_weather[\u001b[0m\u001b[32m{\"city\": \"\u001b[0m\u001b[32m广州\"}]\u001b[0m\u001b[32m\u001b[0m\n",
      "\u001b[33m广州天气不错，一直是大晴天\u001b[0m\n",
      "[AGENT] \u001b[34m>>> Node 4: observe_worker_for_replanner\u001b[0m\n",
      "[AGENT] \u001b[34m>>> Node 5: replanner\u001b[0m\n",
      "\u001b[32m**更新\u001b[0m\u001b[32m计划\u001b[0m\u001b[32m**\n",
      "\n",
      "\u001b[0m\u001b[32mStep1: 使用\u001b[0m\u001b[32m booking 函数预订\u001b[0m\u001b[32m羽毛球场 #E\u001b[0m\u001b[32m1\n",
      "\n",
      "请执行\u001b[0m\u001b[32m上述计划。\u001b[0m\u001b[32m\u001b[0m\n",
      "[AGENT] \u001b[34m>>> Node 2: observe_plan_for_worker\u001b[0m\n",
      "[AGENT] \u001b[34m>>> Node 3: worker\u001b[0m\n",
      "\u001b[32mStep1\u001b[0m\u001b[32m:\u001b[0m\u001b[32m 使用\u001b[0m\u001b[32m booking 函数预订\u001b[0m\u001b[32m羽毛球场. #\u001b[0m\u001b[32mE1 = booking\u001b[0m\u001b[32m[{\"request\":\u001b[0m\u001b[32m \"预订羽毛球场\u001b[0m\u001b[32m\"}]\u001b[0m\u001b[32m\u001b[0m\n",
      "\u001b[33m我已经帮你预订好了，祝你玩得愉快\u001b[0m\n",
      "[AGENT] \u001b[34m>>> Node 4: observe_worker_for_replanner\u001b[0m\n",
      "[AGENT] \u001b[34m>>> Node 5: replanner\u001b[0m\n",
      "\u001b[32m**最终\u001b[0m\u001b[32m答案\u001b[0m\u001b[32m**\n",
      "\u001b[0m\u001b[32m根据广州的天气\u001b[0m\u001b[32m情况，今天是\u001b[0m\u001b[32m大晴天，\u001b[0m\u001b[32m所以你不需要带\u001b[0m\u001b[32m伞。我已经为你\u001b[0m\u001b[32m预订了一个羽毛球场\u001b[0m\u001b[32m，祝你玩\u001b[0m\u001b[32m得愉快。\u001b[0m\u001b[32m\u001b[0m\n"
     ]
    },
    {
     "data": {
      "text/plain": [
       "'根据广州的天气情况，今天是大晴天，所以你不需要带伞。我已经为你预订了一个羽毛球场，祝你玩得愉快。'"
      ]
     },
     "execution_count": 2,
     "metadata": {},
     "output_type": "execute_result"
    }
   ],
   "source": [
    "from illufly.types import BaseAgent, PromptTemplate\n",
    "from illufly.chat import ChatQwen, PlanAndSolve\n",
    "\n",
    "def guess_city(prompt: str):\n",
    "    \"\"\"由任意地址描述查询出所在的城市\"\"\"\n",
    "    return \"广州\"\n",
    "\n",
    "def get_weather(city: str):\n",
    "    \"\"\"我可以查询城市的天气情况。city必须是城市名称。\"\"\"\n",
    "    return f'{city}天气不错，一直是大晴天'\n",
    "\n",
    "def booking(request: str):\n",
    "    \"\"\"我可以根据你的需求预订球场\"\"\"\n",
    "    return '我已经帮你预订好了，祝你玩得愉快'\n",
    "\n",
    "toolkits = [guess_city, get_weather, booking]\n",
    "planner = ChatQwen(tools=toolkits)\n",
    "worker = ChatQwen(tools=toolkits)\n",
    "replanner = ChatQwen(tools=toolkits)\n",
    "\n",
    "flow = PlanAndSolve(planner, worker, replanner)\n",
    "flow(\"我要去见海珠区的客户，看看我是否需要带伞，另外帮我订一个羽毛球场\")"
   ]
  },
  {
   "cell_type": "code",
   "execution_count": 3,
   "id": "22b64781-d06b-4364-812d-69932f0ae6cc",
   "metadata": {},
   "outputs": [
    {
     "data": {
      "text/plain": [
       "'我要去见海珠区的客户，看看我是否需要带伞，另外帮我订一个羽毛球场'"
      ]
     },
     "execution_count": 3,
     "metadata": {},
     "output_type": "execute_result"
    }
   ],
   "source": [
    "flow.task"
   ]
  },
  {
   "cell_type": "code",
   "execution_count": 4,
   "id": "dbaa64aa-cd5c-40e1-9b6e-a4b5375ae504",
   "metadata": {},
   "outputs": [
    {
     "data": {
      "text/plain": [
       "['Step1: 使用 guess_city 函数确定海珠区所在的准确城市\\nE1 = guess_city[{\"prompt\": \"海珠区\"}]\\nE1 执行结果: 广州\\n',\n",
       " 'Step1: 使用 get_weather 函数查询广州的天气情况\\nE1 = get_weather[{\"city\": \"广州\"}]\\nE1 执行结果: 广州天气不错，一直是大晴天\\n',\n",
       " 'Step1: 使用 booking 函数预订羽毛球场.\\nE1 = booking[{\"request\": \"预订羽毛球场\"}]\\nE1 执行结果: 我已经帮你预订好了，祝你玩得愉快\\n']"
      ]
     },
     "execution_count": 4,
     "metadata": {},
     "output_type": "execute_result"
    }
   ],
   "source": [
    "flow.completed_work"
   ]
  },
  {
   "cell_type": "markdown",
   "id": "68426823-8d7e-42f3-aa82-c4ae87c74627",
   "metadata": {},
   "source": [
    "### 查看提示语组装结果"
   ]
  },
  {
   "cell_type": "code",
   "execution_count": 4,
   "id": "1171852c-5fa6-41a6-9d59-0f75b2063ee6",
   "metadata": {},
   "outputs": [
    {
     "name": "stdout",
     "output_type": "stream",
     "text": [
      "结合可用的工具，为给定目标制定一个简单的逐步执行的计划。\n",
      "这个计划应包括各个任务，如果正确执行，将得出正确答案。\n",
      "不要添加任何多余的步骤。\n",
      "最终步骤的结果应该是最终答案。\n",
      "确保每个步骤都有所需的所有信息 - 不要跳过步骤。\n",
      "\n",
      "你可以从 guess_city,get_weather,booking 中选择一个或多个工具使用。这些工具的详细描述为：\n",
      "\n",
      "{\"type\": \"function\", \"function\": {\"name\": \"guess_city\", \"description\": \"由任意地址描述查询出所在的城市，包括公司等一些场景概念，我也可以猜测出具体地址\", \"parameters\": {\"type\": \"object\", \"properties\": {\"prompt\": {\"type\": \"string\", \"description\": \"\"}}, \"required\": [\"prompt\"]}}}\n",
      "{\"type\": \"function\", \"function\": {\"name\": \"get_weather\", \"description\": \"我可以查询城市的天气情况。city必须是城市名称。\", \"parameters\": {\"type\": \"object\", \"properties\": {\"city\": {\"type\": \"string\", \"description\": \"\"}}, \"required\": [\"city\"]}}}\n",
      "{\"type\": \"function\", \"function\": {\"name\": \"booking\", \"description\": \"我可以根据你的需求预订球场\", \"parameters\": {\"type\": \"object\", \"properties\": {\"request\": {\"type\": \"string\", \"description\": \"\"}}, \"required\": [\"request\"]}}}\n",
      "\n",
      "你的目标是：\n",
      "请开始\n",
      "\n",
      "\n",
      "你最新的计划是：\n",
      "\n",
      "\n",
      "结合之前的计划和最新计划，你目前已经完成了以下步骤：\n",
      "Step1: 使用 guess_city 函数根据提供的地址描述“海珠区”确定所在城市\n",
      "E1 = guess_city[{\"prompt\": \"海珠区\"}]\n",
      "E1 执行结果: 广州\n",
      "\n",
      "Step1: 使用 get_weather 函数查询广州的天气情况\n",
      "E1 = get_weather[{\"city\": \"广州\"}]\n",
      "E1 执行结果: 广州天气不错，一直是大晴天\n",
      "\n",
      "\n",
      "请你继续更新计划。\n",
      "如果不需要更多步骤，并且可以返回给用户，那么就直接跳到**最终答案**；\n",
      "否则，就对未完成的计划更新或保留，进入到**更新计划**部份。\n",
      "更新时只添加仍需要完成的步骤到计划中。不要将之前已完成的步骤作为计划的一部分返回。\n",
      "\n",
      "**最终答案**\n",
      "(在此输出你的最终答案。)\n",
      "如果输出最终答案，就结束任务，停止所有输出。\n",
      "\n",
      "**更新计划**\n",
      "你输出的计划必须将执行结果存储在一个变量 #E{n} 中，任务间的依赖关系可以在任务秒速中引用该变量来反应。\n",
      "(Step1, #E1, Step2, #E2, Step3, ...)\n",
      "\n",
      "其中 #E{n} 用于保存计划执行后的变量名，n 是子任务的序号，格式为:\n",
      "Step{n}: (子任务描述) #E{n}\n",
      "每个计划后面应只跟一个 #E{n}。\n",
      "\n",
      "例子：\n",
      "Step1: (详细的计划描述) #E1\n",
      "Step2: (详细的计划描述) #E2\n",
      "\n",
      "\n"
     ]
    }
   ],
   "source": [
    "print(flow.replanner.memory[0]['content'])"
   ]
  },
  {
   "cell_type": "code",
   "execution_count": null,
   "id": "a699cafd-af77-4a64-b73e-dc06dc98b235",
   "metadata": {},
   "outputs": [],
   "source": []
  }
 ],
 "metadata": {
  "kernelspec": {
   "display_name": "textlong-same-ipykernel",
   "language": "python",
   "name": "textlong-same-ipykernel"
  },
  "language_info": {
   "codemirror_mode": {
    "name": "ipython",
    "version": 3
   },
   "file_extension": ".py",
   "mimetype": "text/x-python",
   "name": "python",
   "nbconvert_exporter": "python",
   "pygments_lexer": "ipython3",
   "version": "3.10.0"
  }
 },
 "nbformat": 4,
 "nbformat_minor": 5
}
