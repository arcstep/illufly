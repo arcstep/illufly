{
 "cells": [
  {
   "cell_type": "markdown",
   "id": "796bab09-5f89-4ae3-a686-859b4740c1a9",
   "metadata": {},
   "source": [
    "## 结合工具规划逻辑\n",
    "\n",
    "包括 ReAct、ReWoo、Plan 等复杂的工具规划推理也可以通过 FlowAgent 实现。"
   ]
  },
  {
   "cell_type": "markdown",
   "id": "232ba47b-75ae-474c-9479-1e88460ea800",
   "metadata": {},
   "source": [
    "## ReAct\n",
    "\n",
    "### 查天气"
   ]
  },
  {
   "cell_type": "code",
   "execution_count": 1,
   "id": "c03edc3f-a347-4f6c-8d38-02b38544563e",
   "metadata": {},
   "outputs": [
    {
     "name": "stdout",
     "output_type": "stream",
     "text": [
      "\n",
      "    ReAct 提供了一种更易于人类理解、诊断和控制的决策和推理过程。\n",
      "    它的典型流程可以用一个有趣的循环来描述：思考（Thought）→ 行动（Action）→ 观察（Observation），简称TAO循环。\n",
      "    \n"
     ]
    },
    {
     "data": {
      "text/plain": [
       "'hi'"
      ]
     },
     "execution_count": 1,
     "metadata": {},
     "output_type": "execute_result"
    }
   ],
   "source": [
    "from illufly.chat import ChatQwen, ReAct\n",
    "from illufly.types import Messages\n",
    "print(ReAct.__doc__)\n",
    "\n",
    "Messages([\"hi\"]).messages[-1].content"
   ]
  },
  {
   "cell_type": "code",
   "execution_count": 1,
   "id": "4a7cc5f4-ff7d-42d3-bc85-f2c2a74a64ca",
   "metadata": {},
   "outputs": [
    {
     "name": "stdout",
     "output_type": "stream",
     "text": [
      "[AGENT] \u001b[34m>>> Node 1: qwen\u001b[0m\n",
      "[INFO] \u001b[34m记住 10 轮对话\u001b[0m\n",
      "\u001b[32m**思考\u001b[0m\u001b[32m**\u001b[0m\u001b[32m  \n",
      "\u001b[0m\u001b[32m首先，我需要\u001b[0m\u001b[32m确定鸿蒙公司\u001b[0m\u001b[32m位于哪个城市。\u001b[0m\u001b[32m因此，我的第一步\u001b[0m\u001b[32m应该是使用 `get\u001b[0m\u001b[32m_city` 工\u001b[0m\u001b[32m具来获取鸿\u001b[0m\u001b[32m蒙公司的位置信息\u001b[0m\u001b[32m。\n",
      "\n",
      "**行动**\u001b[0m\u001b[32m  \n",
      "Step1:\u001b[0m\u001b[32m 查询鸿蒙公司\u001b[0m\u001b[32m所在城市. #\u001b[0m\u001b[32mE1 = get\u001b[0m\u001b[32m_city[{\"location\u001b[0m\u001b[32m\": \"鸿蒙\u001b[0m\u001b[32m公司\"}]\u001b[0m\u001b[32m\u001b[0m\n",
      "[USAGE] \u001b[34m{\"input_tokens\": 456, \"output_tokens\": 67, \"total_tokens\": 523}\u001b[0m\n",
      "\u001b[32m广州\u001b[0m\n",
      "[FINAL_TOOL_RESP] \u001b[36m广州\u001b[0m\n",
      "[AGENT] \u001b[34m>>> Node 2: observer\u001b[0m\n",
      "\u001b[33m\n",
      "**观察**\n",
      "上面的行动结果为:\n",
      "广州\n",
      "\u001b[0m[AGENT] \u001b[34m>>> Node 1: qwen\u001b[0m\n",
      "[INFO] \u001b[34m记住 10 轮对话\u001b[0m\n",
      "\u001b[32m**思考\u001b[0m\u001b[32m**\u001b[0m\u001b[32m  \n",
      "\u001b[0m\u001b[32m既然已经知道鸿\u001b[0m\u001b[32m蒙公司位于广州\u001b[0m\u001b[32m，那么接下来的\u001b[0m\u001b[32m步骤应该是使用 `\u001b[0m\u001b[32mget_weather` \u001b[0m\u001b[32m工具来查询\u001b[0m\u001b[32m广州的天气情况\u001b[0m\u001b[32m。\n",
      "\n",
      "**行动**\u001b[0m\u001b[32m  \n",
      "Step2:\u001b[0m\u001b[32m 查询广州的天气\u001b[0m\u001b[32m状况. #E\u001b[0m\u001b[32m2 = get_weather\u001b[0m\u001b[32m[{\"city\":\u001b[0m\u001b[32m \"广州\"}]\u001b[0m\u001b[32m\u001b[0m\n",
      "[USAGE] \u001b[34m{\"input_tokens\": 534, \"output_tokens\": 60, \"total_tokens\": 594}\u001b[0m\n",
      "\u001b[32m广州天气不错，一直是大晴天\u001b[0m\n",
      "[FINAL_TOOL_RESP] \u001b[36m广州天气不错，一直是大晴天\u001b[0m\n",
      "[AGENT] \u001b[34m>>> Node 2: observer\u001b[0m\n",
      "\u001b[33m\n",
      "**观察**\n",
      "上面的行动结果为:\n",
      "广州天气不错，一直是大晴天\n",
      "\u001b[0m[AGENT] \u001b[34m>>> Node 1: qwen\u001b[0m\n",
      "[INFO] \u001b[34m记住 10 轮对话\u001b[0m\n",
      "\u001b[32m**思考\u001b[0m\u001b[32m**\u001b[0m\u001b[32m  \n",
      "\u001b[0m\u001b[32m我已经获得了鸿蒙\u001b[0m\u001b[32m公司所在的城市（\u001b[0m\u001b[32m广州）以及该\u001b[0m\u001b[32m城市的天气情况（\u001b[0m\u001b[32m大晴天）。\u001b[0m\u001b[32m基于此信息，\u001b[0m\u001b[32m我认为没有必要采取进一步\u001b[0m\u001b[32m的行动，可以直接\u001b[0m\u001b[32m给出最终答案。\n",
      "\n",
      "\u001b[0m\u001b[32m**最终答案**\u001b[0m\u001b[32m  \n",
      "鸿蒙公司\u001b[0m\u001b[32m所在的广州天气非常好\u001b[0m\u001b[32m，一直是大晴\u001b[0m\u001b[32m天。\u001b[0m\u001b[32m\u001b[0m\n",
      "[USAGE] \u001b[34m{\"input_tokens\": 612, \"output_tokens\": 58, \"total_tokens\": 670}\u001b[0m\n",
      "[AGENT] \u001b[34m>>> Node 2: observer\u001b[0m\n",
      "[INFO] \u001b[34m执行完毕，所有节点运行 6 步\u001b[0m\n"
     ]
    },
    {
     "data": {
      "text/plain": [
       "'鸿蒙公司所在的广州天气非常好，一直是大晴天。'"
      ]
     },
     "execution_count": 1,
     "metadata": {},
     "output_type": "execute_result"
    }
   ],
   "source": [
    "from illufly.types import BaseAgent, PromptTemplate\n",
    "from illufly.chat import ChatQwen, ReAct\n",
    "\n",
    "def get_city(location: str):\n",
    "    \"\"\"由任意地名或地址描述查询出所在的城市\"\"\"\n",
    "    return \"广州\"\n",
    "\n",
    "def get_weather(city: str):\n",
    "    \"\"\"我可以查询城市的天气情况。city必须是城市名称。\"\"\"\n",
    "    return f'{city}天气不错，一直是大晴天'\n",
    "\n",
    "def booking(request: str):\n",
    "    \"\"\"我可以根据你的需求预订球场\"\"\"\n",
    "    return '我已经帮你预订好了，祝你玩得愉快'\n",
    "\n",
    "flow = ReAct(ChatQwen(name=\"qwen\", tools=[get_city, get_weather, booking]))\n",
    "flow(\"我在鸿蒙公司，帮我查询一下天气情况\", verbose=True)\n",
    "\n",
    "flow.last_output"
   ]
  },
  {
   "cell_type": "code",
   "execution_count": 3,
   "id": "4b6a8cf7-5a8c-4a08-a1f7-89682fddd0ea",
   "metadata": {},
   "outputs": [
    {
     "data": {
      "text/plain": [
       "'**思考**  \\n我已经得到了鸿蒙公司位于广州的信息，并且也获取了广州的天气情况，即“广州天气不错，一直是大晴天”。基于这些信息，我认为没有必要再进行进一步的查询或行动，可以直接给出最终答案了。\\n\\n**最终答案**  \\n鸿蒙公司的所在地广州天气很好，一直保持晴朗。希望这能帮到您！如果有其他需要了解的信息，请随时告知。'"
      ]
     },
     "execution_count": 3,
     "metadata": {},
     "output_type": "execute_result"
    }
   ],
   "source": [
    "flow.agents[0].last_output"
   ]
  },
  {
   "cell_type": "code",
   "execution_count": 6,
   "id": "08bfc442-1d3d-40e7-9115-bc25109f8409",
   "metadata": {},
   "outputs": [
    {
     "data": {
      "text/plain": [
       "['**思考**  \\n首先，我需要知道鸿蒙公司位于哪个城市，才能进一步查询该地区的天气情况。因此，我的第一步应该是确定鸿蒙公司的具体位置。\\n\\n**行动**  \\nStep1: 查询鸿蒙公司所在城市. #E1 = get_city[{\"location\": \"鸿蒙公司\"}]',\n",
       " '\\n**观察**\\n上面的行动结果为:\\n广州\\n',\n",
       " '**思考**  \\n既然已经知道了鸿蒙公司位于广州，接下来我应该查询广州的天气情况。\\n\\n**行动**  \\nStep1: 查询广州的天气情况. #E1 = get_weather[{\"city\": \"广州\"}]',\n",
       " '\\n**观察**\\n上面的行动结果为:\\n广州天气不错，一直是大晴天\\n',\n",
       " '**思考**  \\n我已经获得了鸿蒙公司所在的地理位置信息，即广州，同时我也查询到了广州的天气情况，即“广州天气不错，一直是大晴天”。基于这些信息，我认为可以结束任务并向用户报告天气情况了。\\n\\n**最终答案**\\n您在鸿蒙公司所在地——广州的天气情况非常好，一直保持晴朗。希望这样的好天气能为您带来愉快的一天！']"
      ]
     },
     "execution_count": 6,
     "metadata": {},
     "output_type": "execute_result"
    }
   ],
   "source": [
    "flow.agents[1].completed_work"
   ]
  },
  {
   "cell_type": "code",
   "execution_count": 2,
   "id": "c3e3578f-a2f2-4c55-ba59-4fc84b339f71",
   "metadata": {},
   "outputs": [
    {
     "name": "stdout",
     "output_type": "stream",
     "text": [
      "[{'role': 'system', 'content': '尽你所能完成任务。\\n\\n**你要解决的问题是: ** 我在鸿蒙公司，帮我查询一下天气情况\\n\\n\\n**思考**  \\n首先，我需要知道鸿蒙公司位于哪个城市，才能进一步查询该地区的天气情况。因此，我的第一步应该是确定鸿蒙公司的具体位置。\\n\\n**行动**  \\nStep1: 查询鸿蒙公司所在城市. #E1 = get_city[{\"location\": \"鸿蒙公司\"}]\\n\\n**观察**\\n上面的行动结果为:\\n广州\\n\\n**思考**  \\n既然已经知道了鸿蒙公司位于广州，接下来我应该查询广州的天气情况。\\n\\n**行动**  \\nStep1: 查询广州的天气情况. #E1 = get_weather[{\"city\": \"广州\"}]\\n\\n**观察**\\n上面的行动结果为:\\n广州天气不错，一直是大晴天\\n\\n\\n(现在不要急于解决问题，而是继续按照如下步骤一步一步输出你的推理过程。)\\n\\n**思考** \\n对当前情况进行反思, 然后说明你现在的决策：当前就结束任务并输出**最终答案**，还是继续考虑下一步行动的应当如何执行。\\n\\n**最终答案**\\n(在此输出你的最终答案。)\\n如果输出最终答案，就结束任务，停止所有输出。\\n\\n**行动** \\n你可以尝试直接解决问题，并输出解决的详细过程；\\n或者从 ** get_city,get_weather,booking ** 中选择一个工具来解决问题。\\n\\n这些工具的详细描述如下:\\n{\"type\": \"function\", \"function\": {\"name\": \"get_city\", \"description\": \"由任意地名或地址描述查询出所在的城市\", \"parameters\": {\"type\": \"object\", \"properties\": {\"location\": {\"type\": \"string\", \"description\": \"\"}}, \"required\": [\"location\"]}}}\\n{\"type\": \"function\", \"function\": {\"name\": \"get_weather\", \"description\": \"我可以查询城市的天气情况。city必须是城市名称。\", \"parameters\": {\"type\": \"object\", \"properties\": {\"city\": {\"type\": \"string\", \"description\": \"\"}}, \"required\": [\"city\"]}}}\\n{\"type\": \"function\", \"function\": {\"name\": \"booking\", \"description\": \"我可以根据你的需求预订球场\", \"parameters\": {\"type\": \"object\", \"properties\": {\"request\": {\"type\": \"string\", \"description\": \"\"}}, \"required\": [\"request\"]}}}\\n\\n请你按如下格式整理行动的详细计划，其中 #E{n} 时用于保存计划执行后的变量名，n 是子任务的序号:\\nStep{n}: (子任务描述) #E{n} = function_name[kwargs_with_json]\\n\\n例如：\\nStep1: 查看天气状况. #E1 = get_weather[{\"city\": \"北京\"}]\\n\\n...你必须按照 **思考-行动-观察** 的循环过程输出，可以重复N次，直到结束。\\n'}, {'role': 'user', 'content': '请开始'}, {'role': 'assistant', 'content': '**思考**  \\n我已经获得了鸿蒙公司所在的地理位置信息，即广州，同时我也查询到了广州的天气情况，即“广州天气不错，一直是大晴天”。基于这些信息，我认为可以结束任务并向用户报告天气情况了。\\n\\n**最终答案**\\n您在鸿蒙公司所在地——广州的天气情况非常好，一直保持晴朗。希望这样的好天气能为您带来愉快的一天！'}]\n"
     ]
    }
   ],
   "source": [
    "print(flow.agents[0].memory)"
   ]
  },
  {
   "cell_type": "code",
   "execution_count": 6,
   "id": "04684089-52ff-44b5-b42f-51ef822d5f89",
   "metadata": {},
   "outputs": [
    {
     "name": "stdout",
     "output_type": "stream",
     "text": [
      "我在鸿蒙公司，帮我查询一下天气情况\n"
     ]
    }
   ],
   "source": [
    "print(flow.agents[1].consumer_dict['task'])"
   ]
  },
  {
   "cell_type": "markdown",
   "id": "8591386d-5855-4bb3-8121-7c61c17b1c98",
   "metadata": {},
   "source": [
    "### 订球场"
   ]
  },
  {
   "cell_type": "code",
   "execution_count": 2,
   "id": "e4926ebe-34bb-47a5-91f8-b4101164a3d5",
   "metadata": {},
   "outputs": [
    {
     "name": "stdout",
     "output_type": "stream",
     "text": [
      "[AGENT] \u001b[34mSTEP 1 >>> Node 1: ChatQwen.4428024992\u001b[0m\n",
      "\u001b[32m**思考\u001b[0m\u001b[32m**\u001b[0m\u001b[32m  \n",
      "\u001b[0m\u001b[32m首先，我需要\u001b[0m\u001b[32m知道鸿蒙公司\u001b[0m\u001b[32m所在的地点，以便\u001b[0m\u001b[32m确定具体城市，\u001b[0m\u001b[32m之后才能查询该\u001b[0m\u001b[32m城市的天气情况。\u001b[0m\u001b[32m因此，我的第一步\u001b[0m\u001b[32m行动是使用 get\u001b[0m\u001b[32m_city 工具\u001b[0m\u001b[32m来确定鸿蒙\u001b[0m\u001b[32m公司所在的城市。\n",
      "\n",
      "\u001b[0m\u001b[32m**行动**  \n",
      "\u001b[0m\u001b[32mPlan: 查询鸿\u001b[0m\u001b[32m蒙公司所在城市\u001b[0m\u001b[32m. #E1\u001b[0m\u001b[32m = get_city[\u001b[0m\u001b[32m{\"location\": \"\u001b[0m\u001b[32m鸿蒙公司\"}\u001b[0m\u001b[32m]\u001b[0m\u001b[32m\u001b[0m\n",
      "\u001b[32m广州\u001b[0m\n",
      "\u001b[33m\n",
      "**观察** 上面的行动结果为:\n",
      "广州\n",
      "\u001b[0m[AGENT] \u001b[34mSTEP 2 >>> Node 1: ChatQwen.4428024992\u001b[0m\n",
      "\u001b[32m**思考\u001b[0m\u001b[32m**\u001b[0m\u001b[32m  \n",
      "\u001b[0m\u001b[32m既然已经得知鸿\u001b[0m\u001b[32m蒙公司位于广州\u001b[0m\u001b[32m，接下来我需要\u001b[0m\u001b[32m查询广州的天气\u001b[0m\u001b[32m情况，以判断\u001b[0m\u001b[32m是否需要预订球场\u001b[0m\u001b[32m。因此，我的\u001b[0m\u001b[32m下一步行动是使用\u001b[0m\u001b[32m get_weather 工\u001b[0m\u001b[32m具来获取广州\u001b[0m\u001b[32m的天气信息。\n",
      "\n",
      "\u001b[0m\u001b[32m**行动**  \n",
      "\u001b[0m\u001b[32mPlan: 查询广州\u001b[0m\u001b[32m的天气状况.\u001b[0m\u001b[32m #E2 =\u001b[0m\u001b[32m get_weather[{\"\u001b[0m\u001b[32mcity\": \"广州\u001b[0m\u001b[32m\"}]\u001b[0m\u001b[32m\u001b[0m\n",
      "\u001b[32m广州\u001b[0m\n",
      "\u001b[32m广州天气不错，一直是大晴天\u001b[0m\n",
      "\u001b[33m\n",
      "**观察** 上面的行动结果为:\n",
      "广州\n",
      "广州天气不错，一直是大晴天\n",
      "\u001b[0m[AGENT] \u001b[34mSTEP 3 >>> Node 1: ChatQwen.4428024992\u001b[0m\n",
      "\u001b[32m**思考\u001b[0m\u001b[32m**\u001b[0m\u001b[32m  \n",
      "\u001b[0m\u001b[32m既然广州的天气\u001b[0m\u001b[32m是大晴天\u001b[0m\u001b[32m，没有下雨，\u001b[0m\u001b[32m那么接下来应该预订\u001b[0m\u001b[32m一个球场。因此\u001b[0m\u001b[32m，我的下一步行动\u001b[0m\u001b[32m是使用 booking \u001b[0m\u001b[32m工具来预订\u001b[0m\u001b[32m一个球场。\n",
      "\n",
      "**\u001b[0m\u001b[32m行动**  \n",
      "Plan\u001b[0m\u001b[32m: 预\u001b[0m\u001b[32m订一个球场.\u001b[0m\u001b[32m #E3 =\u001b[0m\u001b[32m booking[{\"request\u001b[0m\u001b[32m\": \"在广州预订\u001b[0m\u001b[32m一个球场\"}]\u001b[0m\u001b[32m\u001b[0m\n",
      "\u001b[32m广州\u001b[0m\n",
      "\u001b[32m广州天气不错，一直是大晴天\u001b[0m\n",
      "\u001b[32m我已经帮你预订好了，祝你玩得愉快\u001b[0m\n",
      "\u001b[33m\n",
      "**观察** 上面的行动结果为:\n",
      "广州\n",
      "广州天气不错，一直是大晴天\n",
      "我已经帮你预订好了，祝你玩得愉快\n",
      "\u001b[0m[AGENT] \u001b[34mSTEP 4 >>> Node 1: ChatQwen.4428024992\u001b[0m\n",
      "\u001b[32m**思考\u001b[0m\u001b[32m**\u001b[0m\u001b[32m  \n",
      "\u001b[0m\u001b[32m根据之前获得的信息\u001b[0m\u001b[32m，广州天气晴\u001b[0m\u001b[32m朗，适合户外\u001b[0m\u001b[32m活动，而且已经\u001b[0m\u001b[32m成功预订了一个球场\u001b[0m\u001b[32m。因此，现在\u001b[0m\u001b[32m可以结束任务了\u001b[0m\u001b[32m，告知用户球场\u001b[0m\u001b[32m已预订好，并\u001b[0m\u001b[32m祝其玩得\u001b[0m\u001b[32m愉快。\n",
      "\n",
      "**最终\u001b[0m\u001b[32m答案**\n",
      "我已经为你\u001b[0m\u001b[32m在广州预订好了一个\u001b[0m\u001b[32m球场，天气晴\u001b[0m\u001b[32m朗，非常适合户外\u001b[0m\u001b[32m运动，希望你能\u001b[0m\u001b[32m玩得开心！\u001b[0m\u001b[32m\u001b[0m\n"
     ]
    },
    {
     "data": {
      "text/plain": [
       "'我在鸿蒙公司，如果不下雨就帮我订个球场'"
      ]
     },
     "execution_count": 2,
     "metadata": {},
     "output_type": "execute_result"
    }
   ],
   "source": [
    "flow(\"我在鸿蒙公司，如果不下雨就帮我订个球场\")"
   ]
  },
  {
   "cell_type": "markdown",
   "id": "fa8f9d07-36c3-4d0f-bd84-94ed0c22fb5a",
   "metadata": {},
   "source": [
    "### 查看提示语组装结果"
   ]
  },
  {
   "cell_type": "code",
   "execution_count": 3,
   "id": "bfaa5e59-0405-45b8-b361-1eb3216af88d",
   "metadata": {},
   "outputs": [
    {
     "name": "stdout",
     "output_type": "stream",
     "text": [
      "尽你所能完成任务。\n",
      "\n",
      "**你要解决的问题是: ** 我在鸿蒙公司，如果不下雨就帮我订个球场\n",
      "\n",
      "\n",
      "**思考**  \n",
      "首先，我需要知道鸿蒙公司所在的地点，以便了解该地区的天气情况。因此，我的第一个步骤应该是使用 `get_city` 工具来获取鸿蒙公司所在的城市。\n",
      "\n",
      "**行动**  \n",
      "Plan: 获取鸿蒙公司所在城市. #E1 = get_city[{\"location\": \"鸿蒙公司\"}]\n",
      "\n",
      "**观察** 上面的行动结果为:\n",
      "广州\n",
      "\n",
      "**思考**  \n",
      "既然已经知道了鸿蒙公司位于广州，接下来我需要查看广州的天气情况，以确定是否需要预订球场。\n",
      "\n",
      "**行动**  \n",
      "Plan: 查看广州的天气状况. #E2 = get_weather[{\"city\": \"广州\"}]\n",
      "\n",
      "**观察** 上面的行动结果为:\n",
      "广州\n",
      "广州天气不错，一直是大晴天\n",
      "\n",
      "**思考**  \n",
      "既然广州的天气是大晴天，没有下雨的情况，那么接下来的步骤应该是预订球场。\n",
      "\n",
      "**行动**  \n",
      "Plan: 预订球场. #E3 = booking[{\"request\": \"在广州订个球场\"}]\n",
      "\n",
      "**观察** 上面的行动结果为:\n",
      "广州\n",
      "广州天气不错，一直是大晴天\n",
      "我已经帮你预订好了，祝你玩得愉快\n",
      "\n",
      "\n",
      "(现在不要急于解决问题，而是继续按照如下步骤一步一步输出你的推理过程。)\n",
      "\n",
      "**思考** \n",
      "对当前情况进行反思, 然后说明你现在的决策：当前就结束任务并输出**最终答案**，还是继续考虑下一步行动的应当如何执行。\n",
      "\n",
      "**最终答案**\n",
      "(在此输出你的最终答案。)\n",
      "如果输出最终答案，就结束任务，停止所有输出。\n",
      "\n",
      "**行动** \n",
      "你可以尝试直接解决问题，并输出解决的详细过程；\n",
      "或者从 ** get_city,get_weather,booking ** 中选择一个工具来解决问题。\n",
      "\n",
      "这些工具的详细描述如下:\n",
      "{\"type\": \"function\", \"function\": {\"name\": \"get_city\", \"description\": \"由任意地址描述查询出所在的城市\", \"parameters\": {\"type\": \"object\", \"properties\": {\"location\": {\"type\": \"string\", \"description\": \"\"}}, \"required\": [\"location\"]}}}\n",
      "{\"type\": \"function\", \"function\": {\"name\": \"get_weather\", \"description\": \"我可以查询城市的天气情况。city必须是城市名称。\", \"parameters\": {\"type\": \"object\", \"properties\": {\"city\": {\"type\": \"string\", \"description\": \"\"}}, \"required\": [\"city\"]}}}\n",
      "{\"type\": \"function\", \"function\": {\"name\": \"booking\", \"description\": \"我可以根据你的需求预订球场\", \"parameters\": {\"type\": \"object\", \"properties\": {\"request\": {\"type\": \"string\", \"description\": \"\"}}, \"required\": [\"request\"]}}}\n",
      "\n",
      "请你按如下格式整理行动的详细计划，其中 #E{n} 时用于保存计划执行后的变量名，n 是子任务的序号:\n",
      "Plan: (子任务描述) #E{n} = function_name[kwargs_with_json]\n",
      "\n",
      "例如：\n",
      "Plan: 查看天气状况. #E1 = get_weather[{\"city\": \"北京\"}]\n",
      "\n",
      "...你必须按照 **思考-行动-观察** 的循环过程输出，可以重复N次，直到结束。\n",
      "\n"
     ]
    }
   ],
   "source": [
    "print(flow.agents[0].memory[0]['content'])"
   ]
  },
  {
   "cell_type": "markdown",
   "id": "7a08691f-af0b-4da3-b74c-b45e08780b51",
   "metadata": {},
   "source": [
    "### 查看思考过程"
   ]
  },
  {
   "cell_type": "code",
   "execution_count": 4,
   "id": "2c725797-fd50-4c26-8f9f-b413b3b13b7c",
   "metadata": {},
   "outputs": [
    {
     "name": "stdout",
     "output_type": "stream",
     "text": [
      "**思考**  \n",
      "首先，我需要知道鸿蒙公司所在的地点，以便了解该地区的天气情况。因此，我的第一个步骤应该是使用 `get_city` 工具来获取鸿蒙公司所在的城市。\n",
      "\n",
      "**行动**  \n",
      "Plan: 获取鸿蒙公司所在城市. #E1 = get_city[{\"location\": \"鸿蒙公司\"}]\n",
      "\n",
      "**观察** 上面的行动结果为:\n",
      "广州\n",
      "\n",
      "**思考**  \n",
      "既然已经知道了鸿蒙公司位于广州，接下来我需要查看广州的天气情况，以确定是否需要预订球场。\n",
      "\n",
      "**行动**  \n",
      "Plan: 查看广州的天气状况. #E2 = get_weather[{\"city\": \"广州\"}]\n",
      "\n",
      "**观察** 上面的行动结果为:\n",
      "广州\n",
      "广州天气不错，一直是大晴天\n",
      "\n",
      "**思考**  \n",
      "既然广州的天气是大晴天，没有下雨的情况，那么接下来的步骤应该是预订球场。\n",
      "\n",
      "**行动**  \n",
      "Plan: 预订球场. #E3 = booking[{\"request\": \"在广州订个球场\"}]\n",
      "\n",
      "**观察** 上面的行动结果为:\n",
      "广州\n",
      "广州天气不错，一直是大晴天\n",
      "我已经帮你预订好了，祝你玩得愉快\n",
      "\n",
      "**思考**  \n",
      "基于之前的行动和观察结果，我们知道广州的天气非常好，没有下雨，而且球场已经成功预订了。在这种情况下，不需要进一步采取行动，可以结束任务了。\n",
      "\n",
      "**最终答案**  \n",
      "球场已经成功预订，祝你在广州的活动顺利，玩得开心！\n"
     ]
    }
   ],
   "source": [
    "print(flow.provider_dict['completed_work'])"
   ]
  },
  {
   "cell_type": "code",
   "execution_count": 5,
   "id": "7398d289-12b5-4986-841b-da4971cf9972",
   "metadata": {},
   "outputs": [
    {
     "data": {
      "text/plain": [
       "'球场已经成功预订，祝你在广州的活动顺利，玩得开心！'"
      ]
     },
     "execution_count": 5,
     "metadata": {},
     "output_type": "execute_result"
    }
   ],
   "source": [
    "flow.final_answer"
   ]
  },
  {
   "cell_type": "markdown",
   "id": "04c5f41e-6664-4115-9226-2596049e4096",
   "metadata": {},
   "source": [
    "## ReWOO\n",
    "\n",
    "- 管道计算场景：上一个任务的输出，作为下一个任务的输入\n",
    "- 参数组装场景：上一个任务的输出需要做一定转换，才能作为下一个任务的输入（执行哪个任务是确定的，但参数需要组装）\n",
    "- 条件分支场景：上一个任务的输出作为一种判定条件，决定执行接下来哪个任务（执行哪个任务不确定，需要根据当前任务返回来判定）\n",
    "\n",
    "### 查天气"
   ]
  },
  {
   "cell_type": "code",
   "execution_count": 2,
   "id": "2f794ee2-eb26-4e2f-a168-1e87b411fe0c",
   "metadata": {},
   "outputs": [
    {
     "data": {
      "text/plain": [
       "(<ChatQwen qwen>, <Observer observer>, <Selector should_continue>)"
      ]
     },
     "execution_count": 2,
     "metadata": {},
     "output_type": "execute_result"
    }
   ],
   "source": [
    "flow.agents"
   ]
  },
  {
   "cell_type": "code",
   "execution_count": 1,
   "id": "4df100e8-c809-4be5-9ee0-d0bc40ef47ed",
   "metadata": {},
   "outputs": [
    {
     "name": "stdout",
     "output_type": "stream",
     "text": [
      "[AGENT] \u001b[34m>>> Node 1: planner\u001b[0m\n",
      "[INFO] \u001b[34m记住 10 轮对话\u001b[0m\n",
      "\u001b[32mStep1\u001b[0m\u001b[32m:\u001b[0m\u001b[32m \u001b[0m\u001b[32m首先需要\u001b[0m\u001b[32m确定鸿蒙公司\u001b[0m\u001b[32m所在的地址或城市\u001b[0m\u001b[32m。#E1\u001b[0m\u001b[32m = get_city[\u001b[0m\u001b[32m{\"location\": \"\u001b[0m\u001b[32m鸿蒙公司\"}\u001b[0m\u001b[32m]\n",
      "Step2:\u001b[0m\u001b[32m 使用上一步获取\u001b[0m\u001b[32m到的城市信息查询\u001b[0m\u001b[32m天气情况。#\u001b[0m\u001b[32mE2 = get\u001b[0m\u001b[32m_weather[{\"city\u001b[0m\u001b[32m\": \"#E1\u001b[0m\u001b[32m\"}]\u001b[0m\u001b[32m\u001b[0m\n",
      "[USAGE] \u001b[34m{\"input_tokens\": 511, \"output_tokens\": 62, \"total_tokens\": 573}\u001b[0m\n",
      "\u001b[32m广州\u001b[0m\n",
      "[FINAL_TOOL_RESP] \u001b[36m广州\u001b[0m\n",
      "\u001b[32m广州天气不错，一直是大晴天\u001b[0m\n",
      "[FINAL_TOOL_RESP] \u001b[36m广州天气不错，一直是大晴天\u001b[0m\n",
      "[AGENT] \u001b[34m>>> Node 2: observer\u001b[0m\n",
      "[AGENT] \u001b[34m>>> Node 3: solver\u001b[0m\n",
      "[INFO] \u001b[34m记住 10 轮对话\u001b[0m\n",
      "\u001b[32m```markdown\u001b[0m\u001b[32m\n",
      "\u001b[0m\u001b[32m**\u001b[0m\u001b[32m最终答案**\n",
      "广州\u001b[0m\u001b[32m天气不错，一直是\u001b[0m\u001b[32m大晴天\n",
      "\u001b[0m\u001b[32m```\u001b[0m\u001b[32m\u001b[0m\n",
      "[USAGE] \u001b[34m{\"input_tokens\": 199, \"output_tokens\": 17, \"total_tokens\": 216}\u001b[0m\n",
      "[INFO] \u001b[34m执行完毕，所有节点运行 2 步\u001b[0m\n",
      "Step1: 首先需要确定鸿蒙公司所在的地址或城市。\n",
      "#E1 = get_city[{\"location\": \"鸿蒙公司\"}]\n",
      "#E1 执行结果: 广州\n",
      "\n",
      "Step2: 使用上一步获取到的城市信息查询天气情况。\n",
      "#E2 = get_weather[{\"city\": \"#E1\"}]\n",
      "#E2 执行结果: 广州天气不错，一直是大晴天\n",
      "\n"
     ]
    },
    {
     "data": {
      "text/plain": [
       "'广州天气不错，一直是大晴天'"
      ]
     },
     "execution_count": 1,
     "metadata": {},
     "output_type": "execute_result"
    }
   ],
   "source": [
    "from illufly.types import BaseAgent, PromptTemplate\n",
    "from illufly.chat import ChatQwen, ReWOO\n",
    "def get_city(location: str):\n",
    "    \"\"\"由任意地址描述查询出所在的城市\"\"\"\n",
    "    return \"广州\"\n",
    "\n",
    "def get_weather(city: str):\n",
    "    \"\"\"我可以查询城市的天气情况。city必须是城市名称。\"\"\"\n",
    "    return f'{city}天气不错，一直是大晴天'\n",
    "\n",
    "def booking(request: str):\n",
    "    \"\"\"我可以根据你的需求预订球场\"\"\"\n",
    "    return '我已经帮你预订好了，祝你玩得愉快'\n",
    "\n",
    "flow = ReWOO(\n",
    "    ChatQwen(name=\"planner\", tools=[get_city, get_weather, booking]),\n",
    "    ChatQwen(name=\"solver\")\n",
    ")\n",
    "flow(\"我在鸿蒙公司，帮我查询一下天气情况\", verbose=True)\n",
    "\n",
    "print(flow.agents[1].provider_dict['completed_work'])\n",
    "flow.last_output"
   ]
  },
  {
   "cell_type": "code",
   "execution_count": 3,
   "id": "5204b72f-1754-4d3f-94e7-1153fa680a13",
   "metadata": {},
   "outputs": [],
   "source": [
    "flow.last_output"
   ]
  },
  {
   "cell_type": "markdown",
   "id": "12912b19-4b37-4ffc-9b12-82c9cb3b6c80",
   "metadata": {},
   "source": [
    "### 查看规划"
   ]
  },
  {
   "cell_type": "code",
   "execution_count": 3,
   "id": "560479a2-c0cd-4e8c-a131-2f473961b9fa",
   "metadata": {},
   "outputs": [
    {
     "data": {
      "text/plain": [
       "[{'id': '#E1',\n",
       "  'description': '首先，我们需要确定鸿蒙公司的位置所在城市。',\n",
       "  'name': 'get_city',\n",
       "  'arguments': '{\"location\": \"鸿蒙公司\"}',\n",
       "  'result': '广州'},\n",
       " {'id': '#E2',\n",
       "  'description': '然后，我们根据得到的城市信息查询该城市的天气情况。',\n",
       "  'name': 'get_weather',\n",
       "  'arguments': '{\"city\": \"#E1\"}',\n",
       "  'result': '广州天气不错，一直是大晴天'}]"
      ]
     },
     "execution_count": 3,
     "metadata": {},
     "output_type": "execute_result"
    }
   ],
   "source": [
    "flow.handler_tool_call.steps"
   ]
  },
  {
   "cell_type": "markdown",
   "id": "f0e480f3-3391-4101-947b-0a815c8ad5d3",
   "metadata": {},
   "source": [
    "### 查看已完成工作"
   ]
  },
  {
   "cell_type": "code",
   "execution_count": 4,
   "id": "e724348f-e8f4-4e80-ad4a-922259a4a283",
   "metadata": {},
   "outputs": [
    {
     "name": "stdout",
     "output_type": "stream",
     "text": [
      "Plan: 首先，我们需要确定鸿蒙公司的位置所在城市。 \n",
      "#E1 = get_city[{\"location\": \"鸿蒙公司\"}] \n",
      "get_city Value = 广州\n",
      "Plan: 然后，我们根据得到的城市信息查询该城市的天气情况。 \n",
      "#E2 = get_weather[{\"city\": \"#E1\"}] \n",
      "get_weather Value = 广州天气不错，一直是大晴天\n"
     ]
    }
   ],
   "source": [
    "print(flow.handler_tool_call.completed_work)"
   ]
  },
  {
   "cell_type": "markdown",
   "id": "d85e809c-95a6-4a66-a9c9-7acfab9481f2",
   "metadata": {},
   "source": [
    "### 查看 Planner 提示语组装结果"
   ]
  },
  {
   "cell_type": "code",
   "execution_count": 5,
   "id": "cf5380c4-f383-403d-98d8-8e4574d7e2cb",
   "metadata": {},
   "outputs": [
    {
     "name": "stdout",
     "output_type": "stream",
     "text": [
      "对于以下任务，制定可以逐步解决问题的计划。\n",
      "对于每个计划，指明使用哪个外部工具以及工具输入来获取证据。\n",
      "你可以将具体计划的执行结果存储在一个变量 #E 中，后续工具可以调用该变量。\n",
      "(Plan, #E1, Plan, #E2, Plan, ...)\n",
      "\n",
      "工具可以是以下之一：\n",
      "{\"type\": \"function\", \"function\": {\"name\": \"get_city\", \"description\": \"由任意地址描述查询出所在的城市\", \"parameters\": {\"type\": \"object\", \"properties\": {\"location\": {\"type\": \"string\", \"description\": \"\"}}, \"required\": [\"location\"]}}}\n",
      "{\"type\": \"function\", \"function\": {\"name\": \"get_weather\", \"description\": \"我可以查询城市的天气情况。city必须是城市名称。\", \"parameters\": {\"type\": \"object\", \"properties\": {\"city\": {\"type\": \"string\", \"description\": \"\"}}, \"required\": [\"city\"]}}}\n",
      "{\"type\": \"function\", \"function\": {\"name\": \"booking\", \"description\": \"我可以根据你的需求预订球场\", \"parameters\": {\"type\": \"object\", \"properties\": {\"request\": {\"type\": \"string\", \"description\": \"\"}}, \"required\": [\"request\"]}}}\n",
      "\n",
      "**Example:**\n",
      "任务: Thomas、Toby 和 Rebecca 在一周内总共工作了 157 小时。\n",
      "Thomas 工作了 x 小时。\n",
      "Toby 工作的时间比 Thomas 的两倍少 10 小时，而 Rebecca 工作的时间比 Toby 少 8 小时。\n",
      "Rebecca 工作了多少小时？\n",
      "\n",
      "Plan: 假设 Thomas 工作了 x 小时，将问题转化为代数表达式并使用 Wolfram Alpha 解决。#E1 = WolframAlpha({\"prompt\":\"Solve x + (2x − 10) + ((2x − 10) − 8) = 157\"})\n",
      "Plan: 找出 Thomas 工作的小时数。#E2 = LLM({\"prompt\": \"What is x, given #E1\"})\n",
      "Plan: 计算 Rebecca 工作的小时数。#E3 = Calculator({\"expr\": \"(2 ∗ #E2 − 10) − 8\"})\n",
      "\n",
      "开始！\n",
      "详细描述你的计划。每个计划后面应只跟一个 #E。\n",
      "\n",
      "任务：我在鸿蒙公司，帮我查询一下天气情况\n"
     ]
    }
   ],
   "source": [
    "print(flow.agents[0].memory[0]['content'])"
   ]
  },
  {
   "cell_type": "markdown",
   "id": "c0c77aae-5ef3-418f-ab0b-4fc7b15d281d",
   "metadata": {},
   "source": [
    "### 查看 Solver 提示语组装结果"
   ]
  },
  {
   "cell_type": "code",
   "execution_count": 6,
   "id": "1bf9aebe-022c-46fd-b947-8f53cbda0a16",
   "metadata": {},
   "outputs": [
    {
     "name": "stdout",
     "output_type": "stream",
     "text": [
      "解决以下任务或问题。\n",
      "为了解决这个问题，我们制定了逐步计划，并获得了每个计划的执行结果。\n",
      "请谨慎使用这些执行结果，因为其中可能包含不相关的信息。\n",
      "\n",
      "Plan: 首先，我们需要确定鸿蒙公司的位置所在城市。 \n",
      "#E1 = get_city[{\"location\": \"鸿蒙公司\"}] \n",
      "get_city Value = 广州\n",
      "Plan: 然后，我们根据得到的城市信息查询该城市的天气情况。 \n",
      "#E2 = get_weather[{\"city\": \"#E1\"}] \n",
      "get_weather Value = 广州天气不错，一直是大晴天\n",
      "\n",
      "现在根据上面提供的执行结果解决问题或任务。\n",
      "直接回答问题，不要废话，不要评论。\n",
      "\n",
      "任务: 我在鸿蒙公司，帮我查询一下天气情况\n",
      "\n",
      "你的回答:\n",
      "\n"
     ]
    }
   ],
   "source": [
    "print(flow.solver.memory[0]['content'])"
   ]
  },
  {
   "cell_type": "markdown",
   "id": "cb7051b5-29e4-4572-ae7a-7ec983cbbcde",
   "metadata": {},
   "source": [
    "### 复杂情况：订球场"
   ]
  },
  {
   "cell_type": "code",
   "execution_count": 2,
   "id": "d432db03-8af3-426f-a7bd-5f19267bd9ea",
   "metadata": {},
   "outputs": [
    {
     "name": "stdout",
     "output_type": "stream",
     "text": [
      "[AGENT] \u001b[34mSTEP 1 >>> Node 1: ChatQwen.4561190192\u001b[0m\n",
      "\u001b[32mPlan:\u001b[0m\u001b[32m \u001b[0m\u001b[32m首先，我们需要\u001b[0m\u001b[32m确定用户的位置信息\u001b[0m\u001b[32m以便查询当地的天气\u001b[0m\u001b[32m情况。#E\u001b[0m\u001b[32m1 = get_city\u001b[0m\u001b[32m({\"location\": \"\u001b[0m\u001b[32m用户位置\"})\n",
      "Plan\u001b[0m\u001b[32m: 根据\u001b[0m\u001b[32m获得的城市信息查询\u001b[0m\u001b[32m天气预报。#\u001b[0m\u001b[32mE2 = get\u001b[0m\u001b[32m_weather({\"city\":\u001b[0m\u001b[32m \"#E1\"})\n",
      "\u001b[0m\u001b[32mPlan: 如果天气\u001b[0m\u001b[32m预报显示不会下雨\u001b[0m\u001b[32m，那么我们就可以\u001b[0m\u001b[32m预订球场。#\u001b[0m\u001b[32mE3 = booking\u001b[0m\u001b[32m({\"request\": \"\u001b[0m\u001b[32m如果 #E2\u001b[0m\u001b[32m 表明没有\u001b[0m\u001b[32m雨，则预订一个\u001b[0m\u001b[32m球场\"})\u001b[0m\u001b[32m\u001b[0m\n",
      "\u001b[32m广州\u001b[0m\n",
      "\u001b[32m广州天气不错，一直是大晴天\u001b[0m\n",
      "\u001b[32m我已经帮你预订好了，祝你玩得愉快\u001b[0m\n",
      "\u001b[32m我已经帮你\u001b[0m\u001b[32m预订\u001b[0m\u001b[32m好了\u001b[0m\u001b[32m，祝你玩\u001b[0m\u001b[32m得愉快。\u001b[0m\u001b[32m\u001b[0m\n",
      "\u001b[33m\n",
      "**最终答案**\n",
      "我已经帮你预订好了，祝你玩得愉快。\u001b[0m"
     ]
    },
    {
     "data": {
      "text/plain": [
       "'我已经帮你预订好了，祝你玩得愉快。'"
      ]
     },
     "execution_count": 2,
     "metadata": {},
     "output_type": "execute_result"
    }
   ],
   "source": [
    "flow(\"如果不下雨，你帮我订一个球场？\")"
   ]
  },
  {
   "cell_type": "code",
   "execution_count": 10,
   "id": "3bc42738-f304-402e-bb8d-c6d0f9829265",
   "metadata": {},
   "outputs": [
    {
     "data": {
      "text/plain": [
       "[{'role': 'system',\n",
       "  'content': '对于以下任务，制定可以逐步解决问题的计划。\\n对于每个计划，指明使用哪个外部工具以及工具输入来获取证据。\\n你可以将具体计划的执行结果存储在一个变量 #E 中，后续工具可以调用该变量。\\n(Plan, #E1, Plan, #E2, Plan, ...)\\n\\n工具可以是以下之一：\\n{\"type\": \"function\", \"function\": {\"name\": \"get_city\", \"description\": \"由任意地址描述查询出所在的城市\", \"parameters\": {\"type\": \"object\", \"properties\": {\"location\": {\"type\": \"string\", \"description\": \"\"}}, \"required\": [\"location\"]}}}\\n{\"type\": \"function\", \"function\": {\"name\": \"get_weather\", \"description\": \"我可以查询城市的天气情况。city必须是城市名称。\", \"parameters\": {\"type\": \"object\", \"properties\": {\"city\": {\"type\": \"string\", \"description\": \"\"}}, \"required\": [\"city\"]}}}\\n{\"type\": \"function\", \"function\": {\"name\": \"booking\", \"description\": \"我可以根据你的需求预订球场\", \"parameters\": {\"type\": \"object\", \"properties\": {\"request\": {\"type\": \"string\", \"description\": \"\"}}, \"required\": [\"request\"]}}}\\n\\n**Example:**\\n任务: Thomas、Toby 和 Rebecca 在一周内总共工作了 157 小时。\\nThomas 工作了 x 小时。\\nToby 工作的时间比 Thomas 的两倍少 10 小时，而 Rebecca 工作的时间比 Toby 少 8 小时。\\nRebecca 工作了多少小时？\\n\\nPlan: 假设 Thomas 工作了 x 小时，将问题转化为代数表达式并使用 Wolfram Alpha 解决。#E1 = WolframAlpha({\"prompt\":\"Solve x + (2x − 10) + ((2x − 10) − 8) = 157\"})\\nPlan: 找出 Thomas 工作的小时数。#E2 = LLM({\"prompt\": \"What is x, given #E1\"})\\nPlan: 计算 Rebecca 工作的小时数。#E3 = Calculator({\"expr\": \"(2 ∗ #E2 − 10) − 8\"})\\n\\n开始！\\n详细描述你的计划。每个计划后面应只跟一个 #E。\\n\\n任务：我在鸿蒙公司，帮我查询一下天气情况'},\n",
       " {'role': 'user', 'content': '请开始'},\n",
       " {'role': 'assistant',\n",
       "  'content': 'Plan: 首先，我们需要确定鸿蒙公司的位置所在城市。#E1 = get_city({\"location\": \"鸿蒙公司\"})\\nPlan: 然后，我们根据得到的城市信息查询该城市的天气情况。#E2 = get_weather({\"city\": \"#E1\"})'},\n",
       " {'role': 'assistant',\n",
       "  'content': 'Plan: 首先，我们需要确定鸿蒙公司的位置所在城市。#E1 = get_city({\"location\": \"鸿蒙公司\"})\\nPlan: 然后，我们根据得到的城市信息查询该城市的天气情况。#E2 = get_weather({\"city\": \"#E1\"})'}]"
      ]
     },
     "execution_count": 10,
     "metadata": {},
     "output_type": "execute_result"
    }
   ],
   "source": [
    "flow.planner.memory"
   ]
  },
  {
   "cell_type": "markdown",
   "id": "b059e2d3-eb68-40b0-8682-91933a897f0c",
   "metadata": {},
   "source": [
    "## Plan And Execute"
   ]
  },
  {
   "cell_type": "markdown",
   "id": "c884c453-d5dd-4c63-a0ae-5827d0971265",
   "metadata": {},
   "source": [
    "### 提示语测试"
   ]
  },
  {
   "cell_type": "code",
   "execution_count": 1,
   "id": "624a6a73-d91c-4272-aaf9-54626e138495",
   "metadata": {},
   "outputs": [],
   "source": [
    "from illufly.types import BaseAgent, PromptTemplate\n",
    "from illufly.chat import ChatQwen, ReAct\n",
    "\n",
    "def get_city(location: str):\n",
    "    \"\"\"由任意地址描述查询出所在的城市\"\"\"\n",
    "    return \"广州\"\n",
    "\n",
    "def get_weather(city: str):\n",
    "    \"\"\"我可以查询城市的天气情况。city必须是城市名称。\"\"\"\n",
    "    return f'{city}天气不错，一直是大晴天'\n",
    "\n",
    "def booking(request: str):\n",
    "    \"\"\"我可以根据你的需求预订球场\"\"\"\n",
    "    return '我已经帮你预订好了，祝你玩得愉快'\n",
    "\n",
    "qwen = ChatQwen(memory=PromptTemplate(\"FLOW/PlanAndExe/Planner\"), tools=[get_city, get_weather, booking])\n",
    "\n",
    "task = \"我要回公司，看看我是否需要带伞，另外帮我订一个羽毛球场\"\n",
    "qwen(task, new_chat=True)"
   ]
  },
  {
   "cell_type": "code",
   "execution_count": 2,
   "id": "a4afa158-6397-483e-bb07-a28418b8dc9e",
   "metadata": {},
   "outputs": [
    {
     "name": "stdout",
     "output_type": "stream",
     "text": [
      "\n",
      "\n",
      "[TOOLS_CALL_FINAL] \u001b[36m[{\"index\": 0, \"id\": \"call_ac6cf72f876747d99f3e7b\", \"type\": \"function\", \"function\": {\"name\": \"get_weather\", \"arguments\": \"{\\\"city\\\": \\\"广州\\\"}\"}}]\u001b[0m\n",
      "\u001b[32m广州天气不错，一直是大晴天\u001b[0m\n",
      "\u001b[32m好\u001b[0m\u001b[32m的，已经查询\u001b[0m\u001b[32m到广州今天的天气\u001b[0m\u001b[32m情况是大晴\u001b[0m\u001b[32m天。\u001b[0m\u001b[32m\u001b[0m\n"
     ]
    },
    {
     "data": {
      "text/plain": [
       "'好的，已经查询到广州今天的天气情况是大晴天。'"
      ]
     },
     "execution_count": 2,
     "metadata": {},
     "output_type": "execute_result"
    }
   ],
   "source": [
    "from illufly.types import BaseAgent, PromptTemplate\n",
    "from illufly.chat import ChatQwen, ReAct\n",
    "\n",
    "def get_city(location: str):\n",
    "    \"\"\"由任意地址描述查询出所在的城市\"\"\"\n",
    "    return \"广州\"\n",
    "\n",
    "def get_weather(city: str):\n",
    "    \"\"\"我可以查询城市的天气情况。city必须是城市名称。\"\"\"\n",
    "    return f'{city}天气不错，一直是大晴天'\n",
    "\n",
    "def booking(request: str):\n",
    "    \"\"\"我可以根据你的需求预订球场\"\"\"\n",
    "    return '我已经帮你预订好了，祝你玩得愉快'\n",
    "\n",
    "plan = \"\"\"\n",
    "Step1: 使用 get_city 函数通过公司地址确定所在城市 #E1 Value = 广州\n",
    "Step2: 使用 get_weather 函数查询 #E1 所得城市今天的天气情况 #E2\n",
    "Step3: 根据 #E2 的天气情况判断是否需要带伞 #E3\n",
    "Step4: 使用 booking 函数预订羽毛球场 #E4\n",
    "\"\"\"\n",
    "\n",
    "step2 = \"使用 get_weather 函数查询 #E1 所得城市今天的天气情况 #E2\"\n",
    "\n",
    "qwen = ChatQwen(tools=[get_city, get_weather, booking])\n",
    "qwen([(\"user\", PromptTemplate(\"FLOW/PlanAndExe/Worker\", binding_map={\"plan\": plan, \"step_n\": 2}))])"
   ]
  },
  {
   "cell_type": "code",
   "execution_count": 1,
   "id": "23dc3368-6795-4561-924c-f863397dacd0",
   "metadata": {},
   "outputs": [
    {
     "name": "stdout",
     "output_type": "stream",
     "text": [
      "\u001b[32mStep3\u001b[0m\u001b[32m:\u001b[0m\u001b[32m \u001b[0m\u001b[32m根据 #E\u001b[0m\u001b[32m2 的天气情况\u001b[0m\u001b[32m判断是否需要带\u001b[0m\u001b[32m伞 #E3\u001b[0m\u001b[32m\n",
      "Step4:\u001b[0m\u001b[32m 使用 booking 函数\u001b[0m\u001b[32m预订羽毛球场 #\u001b[0m\u001b[32mE4\u001b[0m\u001b[32m\u001b[0m\n"
     ]
    },
    {
     "data": {
      "text/plain": [
       "'Step3: 根据 #E2 的天气情况判断是否需要带伞 #E3\\nStep4: 使用 booking 函数预订羽毛球场 #E4'"
      ]
     },
     "execution_count": 1,
     "metadata": {},
     "output_type": "execute_result"
    }
   ],
   "source": [
    "from illufly.types import BaseAgent, PromptTemplate\n",
    "from illufly.chat import ChatQwen, ReAct\n",
    "\n",
    "def get_city(location: str):\n",
    "    \"\"\"由任意地址描述查询出所在的城市\"\"\"\n",
    "    return \"广州\"\n",
    "\n",
    "def get_weather(city: str):\n",
    "    \"\"\"我可以查询城市的天气情况。city必须是城市名称。\"\"\"\n",
    "    return f'{city}天气不错，一直是大晴天'\n",
    "\n",
    "def booking(request: str):\n",
    "    \"\"\"我可以根据你的需求预订球场\"\"\"\n",
    "    return '我已经帮你预订好了，祝你玩得愉快'\n",
    "\n",
    "plan = \"\"\"\n",
    "Step1: 使用 get_city 函数通过公司地址确定所在城市 #E1 Value = 广州\n",
    "Step2: 使用 get_weather 函数查询 #E1 所得城市今天的天气情况 #E2\n",
    "Step3: 根据 #E2 的天气情况判断是否需要带伞 #E3\n",
    "Step4: 使用 booking 函数预订羽毛球场 #E4\n",
    "\"\"\"\n",
    "\n",
    "completed_work = \"\"\"\n",
    "Step1: 使用 get_city 函数通过公司地址确定所在城市 #E1\n",
    "Step2: 使用 get_weather 函数查询 #E1 所得城市今天的天气情况 #E2\n",
    "\"\"\"\n",
    "\n",
    "task = \"我要回公司，看看我是否需要带伞，另外帮我订一个羽毛球场\"\n",
    "\n",
    "qwen = ChatQwen(memory=PromptTemplate(\"FLOW/PlanAndExe/RePlanner\"), tools=[get_city, get_weather, booking])\n",
    "qwen.bind_provider({\"completed_work\": completed_work, \"plan\": plan, \"task\": task})\n",
    "qwen(\"请开始\", new_chat=True)"
   ]
  },
  {
   "cell_type": "code",
   "execution_count": 1,
   "id": "6d3a698a-f1e3-4475-8e50-3b7023945f35",
   "metadata": {},
   "outputs": [
    {
     "name": "stdout",
     "output_type": "stream",
     "text": [
      "结合可用的工具，为给定目标制定一个简单的逐步执行的计划。\n",
      "这个计划应包括各个任务，如果正确执行，将得出正确答案。\n",
      "不要添加任何多余的步骤。\n",
      "最终步骤的结果应该是最终答案。\n",
      "确保每个步骤都有所需的所有信息 - 不要跳过步骤。\n",
      "\n",
      "你可以从  中选择一个或多个工具使用。这些工具的详细描述为：\n",
      "\n",
      "\n",
      "\n",
      "你输出的计划必须将执行结果存储在一个变量 #E{n} 中，任务间的依赖关系可以在任务秒速中引用该变量来反应。\n",
      "(Step1, #E1, Step2, #E2, Step3, ...)\n",
      "\n",
      "其中 #E{n} 用于保存计划执行后的变量名，n 是子任务的序号，格式为:\n",
      "Step{n}: (子任务描述) #E{n}\n",
      "每个计划后面应只跟一个 #E{n}。\n",
      "\n",
      "例子：\n",
      "Step1: (详细的计划描述) #E1\n",
      "Step2: (详细的计划描述) #E2\n",
      "...\n",
      "\n"
     ]
    }
   ],
   "source": [
    "from illufly.types import BaseAgent, PromptTemplate\n",
    "\n",
    "plan = \"\"\"\n",
    "Step1: 使用 get_city 函数通过公司地址确定所在城市 #E1 Value = 广州\n",
    "Step2: 使用 get_weather 函数查询 #E1 所得城市今天的天气情况 #E2\n",
    "Step3: 根据 #E2 的天气情况判断是否需要带伞 #E3\n",
    "Step4: 使用 booking 函数预订羽毛球场 #E4\n",
    "\"\"\"\n",
    "\n",
    "completed_work = \"\"\"\n",
    "Step1: 使用 get_city 函数通过公司地址确定所在城市 #E1\n",
    "Step2: 使用 get_weather 函数查询 #E1 所得城市今天的天气情况 #E2\n",
    "\"\"\"\n",
    "\n",
    "task = \"我要回公司，看看我是否需要带伞，另外帮我订一个羽毛球场\"\n",
    "\n",
    "print(\n",
    "    PromptTemplate(\n",
    "        \"FLOW/PlanAndExe/Planner\",\n",
    "        binding_map = {\n",
    "            \"task\": task\n",
    "        }\n",
    "    ).format()\n",
    ")"
   ]
  },
  {
   "cell_type": "code",
   "execution_count": 3,
   "id": "226f511c-09d0-4e94-8152-92d5d20981a0",
   "metadata": {},
   "outputs": [
    {
     "name": "stdout",
     "output_type": "stream",
     "text": [
      "你是强大的写作助手。\n",
      "\n",
      "你必须遵循以下约束来完成任务:\n",
      "1. 直接输出你的结果，不要评论，不要啰嗦\n",
      "2. 使用markdown格式输出\n",
      "3. 请按照需要输出一份写作提纲\n",
      "4. 提纲的构成应当由多个阔系额要求构成\n",
      "5. 扩写要求必须包含清晰描述，如预估字数、创意要点、创作思路、创作中涉及到的实体名称等\n",
      "5. 每一个扩写要求由完整的 `<OUTLINE>`和`</OUTLINE>` 包裹\n",
      "6. 你只能输出提纲，不要输出具体的扩写内容\n",
      "\n",
      "**你的任务是:**\n",
      "我要回公司，看看我是否需要带伞，另外帮我订一个羽毛球场\n",
      "\n",
      "\n",
      "**输出例子1**\n",
      "```\n",
      "# 第一章 标题1\n",
      "## 一、XXXX\n",
      "<OUTLINE>\n",
      "扩写摘要:\n",
      "对扩写内容做摘要总结\n",
      "\n",
      "扩写要求：\n",
      "- xxx\n",
      "- xxx\n",
      "</OUTLINE>\n",
      "\n",
      "## 二、XXXX\n",
      "<OUTLINE>\n",
      "</OUTLINE>\n",
      "\n",
      "## （更多扩写提纲）\n",
      "```\n",
      "\n",
      "\n"
     ]
    }
   ],
   "source": [
    "print(\n",
    "    PromptTemplate(\n",
    "        \"OUTLINE\",\n",
    "        binding_map = {\n",
    "            \"task\": task\n",
    "        }\n",
    "    ).format()\n",
    ")"
   ]
  },
  {
   "cell_type": "code",
   "execution_count": null,
   "id": "a699cafd-af77-4a64-b73e-dc06dc98b235",
   "metadata": {},
   "outputs": [],
   "source": []
  }
 ],
 "metadata": {
  "kernelspec": {
   "display_name": "textlong-same-ipykernel",
   "language": "python",
   "name": "textlong-same-ipykernel"
  },
  "language_info": {
   "codemirror_mode": {
    "name": "ipython",
    "version": 3
   },
   "file_extension": ".py",
   "mimetype": "text/x-python",
   "name": "python",
   "nbconvert_exporter": "python",
   "pygments_lexer": "ipython3",
   "version": "3.10.0"
  }
 },
 "nbformat": 4,
 "nbformat_minor": 5
}
