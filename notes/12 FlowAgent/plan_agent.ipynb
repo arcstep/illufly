{
 "cells": [
  {
   "cell_type": "markdown",
   "id": "796bab09-5f89-4ae3-a686-859b4740c1a9",
   "metadata": {},
   "source": [
    "## 结合工具规划逻辑\n",
    "\n",
    "包括 ReAct、ReWoo、Plan 等复杂的工具规划推理也可以通过 FlowAgent 实现。"
   ]
  },
  {
   "cell_type": "markdown",
   "id": "232ba47b-75ae-474c-9479-1e88460ea800",
   "metadata": {},
   "source": [
    "## ReAct"
   ]
  },
  {
   "cell_type": "code",
   "execution_count": 1,
   "id": "4a7cc5f4-ff7d-42d3-bc85-f2c2a74a64ca",
   "metadata": {},
   "outputs": [
    {
     "name": "stdout",
     "output_type": "stream",
     "text": [
      "[AGENT] \u001b[34mSTEP 1 >>> Node 1: ChatQwen.4380704432\u001b[0m\n",
      "\u001b[32m**思考\u001b[0m\u001b[32m**\u001b[0m\u001b[32m  \n",
      "\u001b[0m\u001b[32m首先，我需要\u001b[0m\u001b[32m确定鸿蒙公司的\u001b[0m\u001b[32m具体位置或所在\u001b[0m\u001b[32m城市，因为这\u001b[0m\u001b[32m将帮助我查询\u001b[0m\u001b[32m该地区的天气情况\u001b[0m\u001b[32m。接下来，我会\u001b[0m\u001b[32m使用 `get_city\u001b[0m\u001b[32m` 工具\u001b[0m\u001b[32m来获取鸿蒙\u001b[0m\u001b[32m公司所在的城市信息\u001b[0m\u001b[32m。\n",
      "\n",
      "**行动**\u001b[0m\u001b[32m  \n",
      "Plan: 查询\u001b[0m\u001b[32m鸿蒙公司所在的\u001b[0m\u001b[32m详细城市. #\u001b[0m\u001b[32mE1 = get\u001b[0m\u001b[32m_city[{\"location\u001b[0m\u001b[32m\": \"鸿蒙\u001b[0m\u001b[32m公司\"}]\u001b[0m\u001b[32m\u001b[0m\n",
      "\u001b[32m广州\u001b[0m\n",
      "\u001b[33m\n",
      "**观察** 上面的行动结果为:\n",
      "广州\n",
      "\u001b[0m[AGENT] \u001b[34mSTEP 2 >>> Node 1: ChatQwen.4380704432\u001b[0m\n",
      "\u001b[32m**思考\u001b[0m\u001b[32m**\u001b[0m\u001b[32m  \n",
      "\u001b[0m\u001b[32m既然已经知道鸿\u001b[0m\u001b[32m蒙公司位于广州\u001b[0m\u001b[32m，那么下一步就是\u001b[0m\u001b[32m查询广州的天气\u001b[0m\u001b[32m情况。为了获得\u001b[0m\u001b[32m这个信息，我\u001b[0m\u001b[32m将使用 `get\u001b[0m\u001b[32m_weather` 工\u001b[0m\u001b[32m具。\n",
      "\n",
      "**行动\u001b[0m\u001b[32m**  \n",
      "Plan:\u001b[0m\u001b[32m 查询广州的天气\u001b[0m\u001b[32m情况. #E\u001b[0m\u001b[32m2 = get_weather\u001b[0m\u001b[32m[{\"city\":\u001b[0m\u001b[32m \"广州\"}]\u001b[0m\u001b[32m\u001b[0m\n",
      "\u001b[32m广州\u001b[0m\n",
      "\u001b[32m广州天气不错，一直是大晴天\u001b[0m\n",
      "\u001b[33m\n",
      "**观察** 上面的行动结果为:\n",
      "广州\n",
      "广州天气不错，一直是大晴天\n",
      "\u001b[0m[AGENT] \u001b[34mSTEP 3 >>> Node 1: ChatQwen.4380704432\u001b[0m\n",
      "\u001b[32m**思考\u001b[0m\u001b[32m**\u001b[0m\u001b[32m  \n",
      "\u001b[0m\u001b[32m我已经获得了鸿蒙\u001b[0m\u001b[32m公司所在的城市（\u001b[0m\u001b[32m广州）以及广州\u001b[0m\u001b[32m的天气情况（\u001b[0m\u001b[32m天气不错，一直是\u001b[0m\u001b[32m大晴天）。\u001b[0m\u001b[32m基于这些信息，\u001b[0m\u001b[32m我认为没有必要采取进一步\u001b[0m\u001b[32m的行动，可以直接\u001b[0m\u001b[32m提供最终的答案。\n",
      "\n",
      "\u001b[0m\u001b[32m**最终答案**\u001b[0m\u001b[32m  \n",
      "鸿蒙公司\u001b[0m\u001b[32m所在的广州天气非常好\u001b[0m\u001b[32m，一直保持晴\u001b[0m\u001b[32m朗。希望这个\u001b[0m\u001b[32m信息对你有帮助\u001b[0m\u001b[32m！\u001b[0m\u001b[32m\u001b[0m\n"
     ]
    },
    {
     "data": {
      "text/plain": [
       "[{'role': 'system',\n",
       "  'content': '尽你所能完成任务。\\n\\n**你要解决的问题是: ** 我在鸿蒙公司，帮我查询一下天气情况\\n\\n\\n**思考**  \\n首先，我需要确定鸿蒙公司的具体位置或所在城市，因为这将帮助我查询该地区的天气情况。接下来，我会使用 `get_city` 工具来获取鸿蒙公司所在的城市信息。\\n\\n**行动**  \\nPlan: 查询鸿蒙公司所在的详细城市. #E1 = get_city[{\"location\": \"鸿蒙公司\"}]\\n\\n**观察** 上面的行动结果为:\\n广州\\n\\n**思考**  \\n既然已经知道鸿蒙公司位于广州，那么下一步就是查询广州的天气情况。为了获得这个信息，我将使用 `get_weather` 工具。\\n\\n**行动**  \\nPlan: 查询广州的天气情况. #E2 = get_weather[{\"city\": \"广州\"}]\\n\\n**观察** 上面的行动结果为:\\n广州\\n广州天气不错，一直是大晴天\\n\\n\\n(现在不要急于解决问题，而是继续按照如下步骤一步一步输出你的推理过程。)\\n\\n**思考** \\n对当前情况进行反思, 然后说明你现在的决策：当前就结束任务并输出**最终答案**，还是继续考虑下一步行动的应当如何执行。\\n\\n**最终答案**\\n(在此输出你的最终答案。)\\n如果输出最终答案，就结束任务，停止所有输出。\\n\\n**行动** \\n你可以尝试直接解决问题，并输出解决的详细过程；\\n或者从 ** get_city,get_weather,booking ** 中选择一个工具来解决问题。\\n\\n这些工具的详细描述如下:\\n{\"type\": \"function\", \"function\": {\"name\": \"get_city\", \"description\": \"由任意地址描述查询出所在的城市\", \"parameters\": {\"type\": \"object\", \"properties\": {\"location\": {\"type\": \"string\", \"description\": \"\"}}, \"required\": [\"location\"]}}}\\n{\"type\": \"function\", \"function\": {\"name\": \"get_weather\", \"description\": \"我可以查询城市的天气情况。city必须是城市名称。\", \"parameters\": {\"type\": \"object\", \"properties\": {\"city\": {\"type\": \"string\", \"description\": \"\"}}, \"required\": [\"city\"]}}}\\n{\"type\": \"function\", \"function\": {\"name\": \"booking\", \"description\": \"我可以根据你的需求预订球场\", \"parameters\": {\"type\": \"object\", \"properties\": {\"request\": {\"type\": \"string\", \"description\": \"\"}}, \"required\": [\"request\"]}}}\\n\\n请你按如下格式整理行动的详细计划，其中 #E{n} 时用于保存计划执行后的变量名，n 是子任务的序号:\\nPlan: (子任务描述) #E{n} = function_name[kwargs_with_json]\\n\\n例如：\\nPlan: 查看天气状况. #E1 = get_weather[{\"city\": \"北京\"}]\\n\\n...你必须按照 **思考-行动-观察** 的循环过程输出，可以重复N次，直到结束。\\n'},\n",
       " {'role': 'user', 'content': '请开始'},\n",
       " {'role': 'assistant',\n",
       "  'content': '**思考**  \\n我已经获得了鸿蒙公司所在的城市（广州）以及广州的天气情况（天气不错，一直是大晴天）。基于这些信息，我认为没有必要采取进一步的行动，可以直接提供最终的答案。\\n\\n**最终答案**  \\n鸿蒙公司所在的广州天气非常好，一直保持晴朗。希望这个信息对你有帮助！'}]"
      ]
     },
     "execution_count": 1,
     "metadata": {},
     "output_type": "execute_result"
    }
   ],
   "source": [
    "from illufly.types import BaseAgent, PromptTemplate\n",
    "from illufly.chat import ChatQwen, ReAct\n",
    "\n",
    "def get_city(location: str):\n",
    "    \"\"\"由任意地址描述查询出所在的城市\"\"\"\n",
    "    return \"广州\"\n",
    "\n",
    "def get_weather(city: str):\n",
    "    \"\"\"我可以查询城市的天气情况。city必须是城市名称。\"\"\"\n",
    "    return f'{city}天气不错，一直是大晴天'\n",
    "\n",
    "def booking(request: str):\n",
    "    \"\"\"我可以根据你的需求预订球场\"\"\"\n",
    "    return '我已经帮你预订好了，祝你玩得愉快'\n",
    "\n",
    "flow = ReAct(planner=ChatQwen(), tools=[get_city, get_weather, booking])\n",
    "flow(\"我在鸿蒙公司，帮我查询一下天气情况\")\n",
    "\n",
    "flow.agents[0].memory"
   ]
  },
  {
   "cell_type": "code",
   "execution_count": 2,
   "id": "bfaa5e59-0405-45b8-b361-1eb3216af88d",
   "metadata": {},
   "outputs": [
    {
     "name": "stdout",
     "output_type": "stream",
     "text": [
      "尽你所能完成任务。\n",
      "\n",
      "**你要解决的问题是: ** 我在鸿蒙公司，帮我查询一下天气情况\n",
      "\n",
      "\n",
      "**思考**  \n",
      "首先，我需要确定鸿蒙公司的具体位置或所在城市，因为这将帮助我查询该地区的天气情况。接下来，我会使用 `get_city` 工具来获取鸿蒙公司所在的城市信息。\n",
      "\n",
      "**行动**  \n",
      "Plan: 查询鸿蒙公司所在的详细城市. #E1 = get_city[{\"location\": \"鸿蒙公司\"}]\n",
      "\n",
      "**观察** 上面的行动结果为:\n",
      "广州\n",
      "\n",
      "**思考**  \n",
      "既然已经知道鸿蒙公司位于广州，那么下一步就是查询广州的天气情况。为了获得这个信息，我将使用 `get_weather` 工具。\n",
      "\n",
      "**行动**  \n",
      "Plan: 查询广州的天气情况. #E2 = get_weather[{\"city\": \"广州\"}]\n",
      "\n",
      "**观察** 上面的行动结果为:\n",
      "广州\n",
      "广州天气不错，一直是大晴天\n",
      "\n",
      "\n",
      "(现在不要急于解决问题，而是继续按照如下步骤一步一步输出你的推理过程。)\n",
      "\n",
      "**思考** \n",
      "对当前情况进行反思, 然后说明你现在的决策：当前就结束任务并输出**最终答案**，还是继续考虑下一步行动的应当如何执行。\n",
      "\n",
      "**最终答案**\n",
      "(在此输出你的最终答案。)\n",
      "如果输出最终答案，就结束任务，停止所有输出。\n",
      "\n",
      "**行动** \n",
      "你可以尝试直接解决问题，并输出解决的详细过程；\n",
      "或者从 ** get_city,get_weather,booking ** 中选择一个工具来解决问题。\n",
      "\n",
      "这些工具的详细描述如下:\n",
      "{\"type\": \"function\", \"function\": {\"name\": \"get_city\", \"description\": \"由任意地址描述查询出所在的城市\", \"parameters\": {\"type\": \"object\", \"properties\": {\"location\": {\"type\": \"string\", \"description\": \"\"}}, \"required\": [\"location\"]}}}\n",
      "{\"type\": \"function\", \"function\": {\"name\": \"get_weather\", \"description\": \"我可以查询城市的天气情况。city必须是城市名称。\", \"parameters\": {\"type\": \"object\", \"properties\": {\"city\": {\"type\": \"string\", \"description\": \"\"}}, \"required\": [\"city\"]}}}\n",
      "{\"type\": \"function\", \"function\": {\"name\": \"booking\", \"description\": \"我可以根据你的需求预订球场\", \"parameters\": {\"type\": \"object\", \"properties\": {\"request\": {\"type\": \"string\", \"description\": \"\"}}, \"required\": [\"request\"]}}}\n",
      "\n",
      "请你按如下格式整理行动的详细计划，其中 #E{n} 时用于保存计划执行后的变量名，n 是子任务的序号:\n",
      "Plan: (子任务描述) #E{n} = function_name[kwargs_with_json]\n",
      "\n",
      "例如：\n",
      "Plan: 查看天气状况. #E1 = get_weather[{\"city\": \"北京\"}]\n",
      "\n",
      "...你必须按照 **思考-行动-观察** 的循环过程输出，可以重复N次，直到结束。\n",
      "\n"
     ]
    }
   ],
   "source": [
    "print(flow.agents[0].memory[0]['content'])"
   ]
  },
  {
   "cell_type": "code",
   "execution_count": 3,
   "id": "2c725797-fd50-4c26-8f9f-b413b3b13b7c",
   "metadata": {},
   "outputs": [
    {
     "name": "stdout",
     "output_type": "stream",
     "text": [
      "**思考**  \n",
      "首先，我需要确定鸿蒙公司的具体位置或所在城市，因为这将帮助我查询该地区的天气情况。接下来，我会使用 `get_city` 工具来获取鸿蒙公司所在的城市信息。\n",
      "\n",
      "**行动**  \n",
      "Plan: 查询鸿蒙公司所在的详细城市. #E1 = get_city[{\"location\": \"鸿蒙公司\"}]\n",
      "\n",
      "**观察** 上面的行动结果为:\n",
      "广州\n",
      "\n",
      "**思考**  \n",
      "既然已经知道鸿蒙公司位于广州，那么下一步就是查询广州的天气情况。为了获得这个信息，我将使用 `get_weather` 工具。\n",
      "\n",
      "**行动**  \n",
      "Plan: 查询广州的天气情况. #E2 = get_weather[{\"city\": \"广州\"}]\n",
      "\n",
      "**观察** 上面的行动结果为:\n",
      "广州\n",
      "广州天气不错，一直是大晴天\n",
      "\n",
      "**思考**  \n",
      "我已经获得了鸿蒙公司所在的城市（广州）以及广州的天气情况（天气不错，一直是大晴天）。基于这些信息，我认为没有必要采取进一步的行动，可以直接提供最终的答案。\n",
      "\n",
      "**最终答案**  \n",
      "鸿蒙公司所在的广州天气非常好，一直保持晴朗。希望这个信息对你有帮助！\n"
     ]
    }
   ],
   "source": [
    "print(flow.provider_dict['completed_work'])"
   ]
  },
  {
   "cell_type": "code",
   "execution_count": 4,
   "id": "7398d289-12b5-4986-841b-da4971cf9972",
   "metadata": {},
   "outputs": [
    {
     "data": {
      "text/plain": [
       "'鸿蒙公司所在的广州天气非常好，一直保持晴朗。希望这个信息对你有帮助！'"
      ]
     },
     "execution_count": 4,
     "metadata": {},
     "output_type": "execute_result"
    }
   ],
   "source": [
    "flow.final_answer"
   ]
  },
  {
   "cell_type": "markdown",
   "id": "04c5f41e-6664-4115-9226-2596049e4096",
   "metadata": {},
   "source": [
    "## ReWOO\n",
    "\n",
    "- 管道计算场景：上一个任务的输出，作为下一个任务的输入\n",
    "- 参数组装场景：上一个任务的输出需要做一定转换，才能作为下一个任务的输入（执行哪个任务是确定的，但参数需要组装）\n",
    "- 条件分支场景：上一个任务的输出作为一种判定条件，决定执行接下来哪个任务（执行哪个任务不确定，需要根据当前任务返回来判定）"
   ]
  },
  {
   "cell_type": "code",
   "execution_count": 1,
   "id": "4df100e8-c809-4be5-9ee0-d0bc40ef47ed",
   "metadata": {},
   "outputs": [
    {
     "name": "stdout",
     "output_type": "stream",
     "text": [
      "[AGENT] \u001b[34mSTEP 1 >>> Node 1: planner\u001b[0m\n",
      "\u001b[32mPlan:\u001b[0m\u001b[32m \u001b[0m\u001b[32m首先，需要\u001b[0m\u001b[32m确定鸿蒙公司的\u001b[0m\u001b[32m具体位置或所在\u001b[0m\u001b[32m城市。\n",
      "#E\u001b[0m\u001b[32m1 = get_city\u001b[0m\u001b[32m({\"location\": \"\u001b[0m\u001b[32m鸿蒙公司\"\u001b[0m\u001b[32m})\n",
      "\n",
      "Plan: \u001b[0m\u001b[32m根据获取到\u001b[0m\u001b[32m的城市信息，查询\u001b[0m\u001b[32m该城市的天气情况\u001b[0m\u001b[32m。\n",
      "#E2\u001b[0m\u001b[32m = get_weather({\"\u001b[0m\u001b[32mcity\": \"#E\u001b[0m\u001b[32m1\"})\u001b[0m\u001b[32m\u001b[0m\n",
      "\u001b[32m广州\u001b[0m\n",
      "\u001b[33m\n",
      "\n",
      "**观察** 上面的行动结果为:\n",
      "广州\n",
      "\u001b[0m\u001b[32m广州天气不错，一直是大晴天\u001b[0m\n",
      "\u001b[33m\n",
      "\n",
      "**观察** 上面的行动结果为:\n",
      "广州天气不错，一直是大晴天\n",
      "\u001b[0m"
     ]
    },
    {
     "data": {
      "text/plain": [
       "[{'role': 'system',\n",
       "  'content': 'For the following task, make plans that can solve the problem step by step. \\nFor each plan, indicate which external tool together with tool input to retrieve evidence. \\nYou can store the evidence into a variable #E that can be called by later tools. \\n(Plan, #E1, Plan, #E2, Plan, ...)\\n\\nTools can be one of the following:\\n{\"type\": \"function\", \"function\": {\"name\": \"get_city\", \"description\": \"由任意地址描述查询出所在的城市\", \"parameters\": {\"type\": \"object\", \"properties\": {\"location\": {\"type\": \"string\", \"description\": \"\"}}, \"required\": [\"location\"]}}}\\n{\"type\": \"function\", \"function\": {\"name\": \"get_weather\", \"description\": \"我可以查询城市的天气情况。city必须是城市名称。\", \"parameters\": {\"type\": \"object\", \"properties\": {\"city\": {\"type\": \"string\", \"description\": \"\"}}, \"required\": [\"city\"]}}}\\n{\"type\": \"function\", \"function\": {\"name\": \"booking\", \"description\": \"我可以根据你的需求预订球场\", \"parameters\": {\"type\": \"object\", \"properties\": {\"request\": {\"type\": \"string\", \"description\": \"\"}}, \"required\": [\"request\"]}}}\\n\\nFor example,\\nTask: Thomas, Toby, and Rebecca worked a total of 157 hours in one week. \\nThomas worked xhours. \\nToby worked 10 hours less than twice what Thomas worked, and Rebecca worked 8 hoursless than Toby. \\nHow many hours did Rebecca work?\\n\\nPlan: Given Thomas worked x hours, translate the problem into algebraic expressions and solvewith Wolfram Alpha. #E1 = WolframAlpha({\"prompt\":\"Solve x + (2x − 10) + ((2x − 10) − 8) = 157\"})\\nPlan: Find out the number of hours Thomas worked. #E2 = LLM({\"prompt\": \"What is x, given #E1\"})\\nPlan: Calculate the number of hours Rebecca worked. #E3 = Calculator({\"expr\": \"(2 ∗ #E2 − 10) − 8\"})\\n\\nBegin! \\nDescribe your plans with rich details. Each Plan should be followed by only one #E.\\n\\nTask: 我在鸿蒙公司，帮我查询一下天气情况'},\n",
       " {'role': 'user', 'content': '请开始'},\n",
       " {'role': 'assistant',\n",
       "  'content': 'Plan: 首先，需要确定鸿蒙公司的具体位置或所在城市。\\n#E1 = get_city({\"location\": \"鸿蒙公司\"})\\n\\nPlan: 根据获取到的城市信息，查询该城市的天气情况。\\n#E2 = get_weather({\"city\": \"#E1\"})'}]"
      ]
     },
     "execution_count": 1,
     "metadata": {},
     "output_type": "execute_result"
    }
   ],
   "source": [
    "from illufly.types import BaseAgent, PromptTemplate\n",
    "from illufly.chat import ChatQwen, ReWOO\n",
    "def get_city(location: str):\n",
    "    \"\"\"由任意地址描述查询出所在的城市\"\"\"\n",
    "    return \"广州\"\n",
    "\n",
    "def get_weather(city: str):\n",
    "    \"\"\"我可以查询城市的天气情况。city必须是城市名称。\"\"\"\n",
    "    return f'{city}天气不错，一直是大晴天'\n",
    "\n",
    "def booking(request: str):\n",
    "    \"\"\"我可以根据你的需求预订球场\"\"\"\n",
    "    return '我已经帮你预订好了，祝你玩得愉快'\n",
    "\n",
    "flow = ReWOO(planner=ChatQwen(), tools=[get_city, get_weather, booking])\n",
    "flow(\"我在鸿蒙公司，帮我查询一下天气情况\")\n",
    "flow.agents[0].memory"
   ]
  },
  {
   "cell_type": "code",
   "execution_count": 2,
   "id": "cf5380c4-f383-403d-98d8-8e4574d7e2cb",
   "metadata": {},
   "outputs": [
    {
     "data": {
      "text/plain": [
       "[{'id': '#E1',\n",
       "  'description': '首先，需要确定鸿蒙公司的具体位置或所在城市。',\n",
       "  'name': 'get_city',\n",
       "  'arguments': '{\"location\": \"鸿蒙公司\"}',\n",
       "  'result': '广州'},\n",
       " {'id': '#E2',\n",
       "  'description': '根据获取到的城市信息，查询该城市的天气情况。',\n",
       "  'name': 'get_weather',\n",
       "  'arguments': '{\"city\": \"#E1\"}',\n",
       "  'result': '广州天气不错，一直是大晴天'}]"
      ]
     },
     "execution_count": 2,
     "metadata": {},
     "output_type": "execute_result"
    }
   ],
   "source": [
    "flow.handler_tool_call.steps"
   ]
  },
  {
   "cell_type": "code",
   "execution_count": null,
   "id": "1bf9aebe-022c-46fd-b947-8f53cbda0a16",
   "metadata": {},
   "outputs": [],
   "source": []
  }
 ],
 "metadata": {
  "kernelspec": {
   "display_name": "textlong-same-ipykernel",
   "language": "python",
   "name": "textlong-same-ipykernel"
  },
  "language_info": {
   "codemirror_mode": {
    "name": "ipython",
    "version": 3
   },
   "file_extension": ".py",
   "mimetype": "text/x-python",
   "name": "python",
   "nbconvert_exporter": "python",
   "pygments_lexer": "ipython3",
   "version": "3.10.0"
  }
 },
 "nbformat": 4,
 "nbformat_minor": 5
}
