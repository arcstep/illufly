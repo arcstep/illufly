{
 "cells": [
  {
   "cell_type": "markdown",
   "id": "796bab09-5f89-4ae3-a686-859b4740c1a9",
   "metadata": {},
   "source": [
    "## 结合工具规划逻辑\n",
    "\n",
    "包括 ReAct、ReWoo、Plan 等复杂的工具规划推理也可以通过 FlowAgent 实现。"
   ]
  },
  {
   "cell_type": "markdown",
   "id": "232ba47b-75ae-474c-9479-1e88460ea800",
   "metadata": {},
   "source": [
    "## ReAct"
   ]
  },
  {
   "cell_type": "code",
   "execution_count": 7,
   "id": "4a7cc5f4-ff7d-42d3-bc85-f2c2a74a64ca",
   "metadata": {},
   "outputs": [
    {
     "name": "stdout",
     "output_type": "stream",
     "text": [
      "[AGENT] \u001b[34mSTEP 1 >>> Node 1: ChatQwen.4723354368\u001b[0m\n",
      "\u001b[32m**思考\u001b[0m\u001b[32m**\u001b[0m\u001b[32m \n",
      "\u001b[0m\u001b[32m由于需要查询的是\u001b[0m\u001b[32m鸿蒙公司所在地\u001b[0m\u001b[32m的天气情况，\u001b[0m\u001b[32m首先我需要确定\u001b[0m\u001b[32m鸿蒙公司的具体\u001b[0m\u001b[32m位置是在哪个城市\u001b[0m\u001b[32m。这一步需要用到\u001b[0m\u001b[32m `get_city`\u001b[0m\u001b[32m 函数来通过\u001b[0m\u001b[32m提供的地址信息（\u001b[0m\u001b[32m这里是鸿蒙公司\u001b[0m\u001b[32m）获取所在城市\u001b[0m\u001b[32m的信息。\n",
      "\n",
      "**规划\u001b[0m\u001b[32m** \n",
      "为了找出\u001b[0m\u001b[32m鸿蒙公司所在\u001b[0m\u001b[32m的城市，我的第一步\u001b[0m\u001b[32m应该是调用 `\u001b[0m\u001b[32mget_city` \u001b[0m\u001b[32m函数，并提供鸿\u001b[0m\u001b[32m蒙公司作为位置\u001b[0m\u001b[32m参数。\n",
      "\n",
      "**行动\u001b[0m\u001b[32m** \n",
      "Plan:\u001b[0m\u001b[32m 获取鸿蒙公司\u001b[0m\u001b[32m所在城市. #\u001b[0m\u001b[32mE1 = get\u001b[0m\u001b[32m_city[{\"location\u001b[0m\u001b[32m\": \"鸿蒙\u001b[0m\u001b[32m公司\"}]\u001b[0m\u001b[32m\u001b[0m\n",
      "tool_to_exec {'function': {'name': 'get_city', 'arguments': '{\"location\": \"鸿蒙公司\"}'}}\n",
      "\u001b[32m广州\u001b[0m\n",
      "\u001b[33m\n",
      "\n",
      "**观察** 上面的行动结果为:\n",
      "广州\n",
      "\u001b[0m[AGENT] \u001b[34mSTEP 2 >>> Node 1: ChatQwen.4723354368\u001b[0m\n",
      "\u001b[32m**\u001b[0m\u001b[32m思考\u001b[0m\u001b[32m**\u001b[0m\u001b[32m \n",
      "\u001b[0m\u001b[32m既然已经知道鸿\u001b[0m\u001b[32m蒙公司位于广州\u001b[0m\u001b[32m，那么接下来的任务\u001b[0m\u001b[32m就是查询广州的\u001b[0m\u001b[32m天气情况了。\u001b[0m\u001b[32m这一步骤需要用到\u001b[0m\u001b[32m `get_weather`\u001b[0m\u001b[32m 函数，并且\u001b[0m\u001b[32m要向它提供\u001b[0m\u001b[32m广州作为城市参数\u001b[0m\u001b[32m。\n",
      "\n",
      "**规划**\u001b[0m\u001b[32m \n",
      "下一步的计划\u001b[0m\u001b[32m是查询广州的\u001b[0m\u001b[32m天气情况，为此\u001b[0m\u001b[32m需要调用 `\u001b[0m\u001b[32mget_weather` \u001b[0m\u001b[32m函数，并设置参数\u001b[0m\u001b[32m `city` \u001b[0m\u001b[32m为广州。\n",
      "\n",
      "**\u001b[0m\u001b[32m行动** \n",
      "Plan\u001b[0m\u001b[32m: 查询广州的\u001b[0m\u001b[32m天气情况. #\u001b[0m\u001b[32mE2 = get\u001b[0m\u001b[32m_weather[{\"city\u001b[0m\u001b[32m\": \"广州\"}\u001b[0m\u001b[32m]\u001b[0m\u001b[32m\u001b[0m\n",
      "tool_to_exec {'function': {'name': 'get_weather', 'arguments': '{\"city\": \"广州\"}'}}\n",
      "\u001b[32m广州天气不错，一直是大晴天\u001b[0m\n",
      "\u001b[33m\n",
      "\n",
      "**观察** 上面的行动结果为:\n",
      "广州天气不错，一直是大晴天\n",
      "\u001b[0m[AGENT] \u001b[34mSTEP 3 >>> Node 1: ChatQwen.4723354368\u001b[0m\n",
      "\u001b[32m**思考\u001b[0m\u001b[32m**\u001b[0m\u001b[32m \n",
      "\u001b[0m\u001b[32m既然已经得到了广州\u001b[0m\u001b[32m的天气情况，\u001b[0m\u001b[32m即“广州天气\u001b[0m\u001b[32m不错，一直是大\u001b[0m\u001b[32m晴天”，这就\u001b[0m\u001b[32m意味着我已经完成了查询\u001b[0m\u001b[32m鸿蒙公司所在地\u001b[0m\u001b[32m天气的任务。\n",
      "\n",
      "**\u001b[0m\u001b[32m规划** \n",
      "现在\u001b[0m\u001b[32m可以输出最终的答案\u001b[0m\u001b[32m。\n",
      "\n",
      "**行动**\u001b[0m\u001b[32m \n",
      "整理并输出\u001b[0m\u001b[32m最终答案。\n",
      "\n",
      "\u001b[0m\u001b[32m<final_answer>\n",
      "鸿\u001b[0m\u001b[32m蒙公司所在的广州\u001b[0m\u001b[32m天气不错，一直是\u001b[0m\u001b[32m大晴天。\n",
      "\u001b[0m\u001b[32m</final_answer>\u001b[0m\u001b[32m\u001b[0m\n",
      "\u001b[33m最终答案为: ['鸿蒙公司所在的广州天气不错，一直是大晴天。']\u001b[0mselected_agent <__End__>\n"
     ]
    },
    {
     "data": {
      "text/plain": [
       "[{'role': 'system',\n",
       "  'content': '尽你所能完成任务。\\n\\n**你要解决的问题是: ** 我在鸿蒙公司，帮我查询一下天气情况\\n\\n\\n\\n**思考** \\n由于需要查询的是鸿蒙公司所在地的天气情况，首先我需要确定鸿蒙公司的具体位置是在哪个城市。这一步需要用到 `get_city` 函数来通过提供的地址信息（这里是鸿蒙公司）获取所在城市的信息。\\n\\n**规划** \\n为了找出鸿蒙公司所在的城市，我的第一步应该是调用 `get_city` 函数，并提供鸿蒙公司作为位置参数。\\n\\n**行动** \\nPlan: 获取鸿蒙公司所在城市. #E1 = get_city[{\"location\": \"鸿蒙公司\"}]\\n\\n**观察** 上面的行动结果为:\\n广州\\n\\n**思考** \\n既然已经知道鸿蒙公司位于广州，那么接下来的任务就是查询广州的天气情况了。这一步骤需要用到 `get_weather` 函数，并且要向它提供广州作为城市参数。\\n\\n**规划** \\n下一步的计划是查询广州的天气情况，为此需要调用 `get_weather` 函数，并设置参数 `city` 为广州。\\n\\n**行动** \\nPlan: 查询广州的天气情况. #E2 = get_weather[{\"city\": \"广州\"}]\\n\\n**观察** 上面的行动结果为:\\n广州天气不错，一直是大晴天\\n\\n\\n(现在不要急于解决问题，而是继续按照如下步骤一步一步输出你的推理过程。)\\n\\n**思考** \\n对当前情况进行反思, 然后说明你现在的决策：当前就结束任务并输出最终答案，还是继续下一个子任务。\\n\\n请你按如下格式整理最终答案:\\n<final_answer>\\n(在此输出你的最终答案)\\n</final_answer>\\n\\n如果已经输出最终答案，就必须立即停止输出。\\n\\n**规划** \\n你可以尝试直接解决下一步的问题；\\n但如果涉及工具擅长擅长的领域，即使任务简单也必须使用工具回调。\\n\\n如果你尝试自己解决问题，请将详细过程输出在如下位置：\\n\\n(在此输出你自己解决的子任务目标和结果)\\n\\n**行动** \\n你可以从 ** get_city,get_weather,booking ** 中选择一个工具来建立一个行动清单。\\n\\n这些工具的详细描述如下:\\n{\"type\": \"function\", \"function\": {\"name\": \"get_city\", \"description\": \"由任意地址描述查询出所在的城市\", \"parameters\": {\"type\": \"object\", \"properties\": {\"location\": {\"type\": \"string\", \"description\": \"\"}}, \"required\": [\"location\"]}}}\\n{\"type\": \"function\", \"function\": {\"name\": \"get_weather\", \"description\": \"我可以查询城市的天气情况。city必须是城市名称。\", \"parameters\": {\"type\": \"object\", \"properties\": {\"city\": {\"type\": \"string\", \"description\": \"\"}}, \"required\": [\"city\"]}}}\\n{\"type\": \"function\", \"function\": {\"name\": \"booking\", \"description\": \"我可以根据你的需求预订球场\", \"parameters\": {\"type\": \"object\", \"properties\": {\"request\": {\"type\": \"string\", \"description\": \"\"}}, \"required\": [\"request\"]}}}\\n\\n请你按如下格式整理子任务计划，其中 #E{n} 是子任务的变量名，n 是子任务的序号:\\nPlan: (子任务描述) #E{n} = function_name[kwargs_with_json]\\n\\n例如：\\nPlan: 查看天气状况. #E1 = get_weather[{\"city\": \"北京\"}]\\n\\n...你必须按照 **思考-规划-行动-观察** 的循环过程输出，可以重复N次，直到结束。\\n'},\n",
       " {'role': 'user', 'content': '请开始'},\n",
       " {'role': 'assistant',\n",
       "  'content': '**思考** \\n既然已经得到了广州的天气情况，即“广州天气不错，一直是大晴天”，这就意味着我已经完成了查询鸿蒙公司所在地天气的任务。\\n\\n**规划** \\n现在可以输出最终的答案。\\n\\n**行动** \\n整理并输出最终答案。\\n\\n<final_answer>\\n鸿蒙公司所在的广州天气不错，一直是大晴天。\\n</final_answer>'}]"
      ]
     },
     "execution_count": 7,
     "metadata": {},
     "output_type": "execute_result"
    }
   ],
   "source": [
    "from illufly.types import BaseAgent, PromptTemplate\n",
    "from illufly.chat import ChatQwen, ReAct\n",
    "\n",
    "def get_city(location: str):\n",
    "    \"\"\"由任意地址描述查询出所在的城市\"\"\"\n",
    "    return \"广州\"\n",
    "\n",
    "def get_weather(city: str):\n",
    "    \"\"\"我可以查询城市的天气情况。city必须是城市名称。\"\"\"\n",
    "    return f'{city}天气不错，一直是大晴天'\n",
    "\n",
    "def booking(request: str):\n",
    "    \"\"\"我可以根据你的需求预订球场\"\"\"\n",
    "    return '我已经帮你预订好了，祝你玩得愉快'\n",
    "\n",
    "flow = ReAct(planner=ChatQwen(), tools=[get_city, get_weather, booking])\n",
    "flow(\"我在鸿蒙公司，帮我查询一下天气情况\")\n",
    "flow.agents[0].memory"
   ]
  },
  {
   "cell_type": "code",
   "execution_count": 2,
   "id": "2c725797-fd50-4c26-8f9f-b413b3b13b7c",
   "metadata": {},
   "outputs": [
    {
     "name": "stdout",
     "output_type": "stream",
     "text": [
      "\n",
      "<final_answer>\n",
      "已经为你预订好了广州的羽毛球场，祝你玩得愉快！\n",
      "</final_answer>最终答案为: ['已经为你预订好了广州的羽毛球场，祝你玩得愉快！']\n"
     ]
    }
   ],
   "source": [
    "print(flow.completed_work)"
   ]
  },
  {
   "cell_type": "code",
   "execution_count": 7,
   "id": "7398d289-12b5-4986-841b-da4971cf9972",
   "metadata": {},
   "outputs": [
    {
     "data": {
      "text/plain": [
       "20"
      ]
     },
     "execution_count": 7,
     "metadata": {},
     "output_type": "execute_result"
    }
   ],
   "source": [
    "flow.max_steps"
   ]
  },
  {
   "cell_type": "markdown",
   "id": "04c5f41e-6664-4115-9226-2596049e4096",
   "metadata": {},
   "source": [
    "## ReWOO\n",
    "\n",
    "- 管道计算场景：上一个任务的输出，作为下一个任务的输入\n",
    "- 参数组装场景：上一个任务的输出需要做一定转换，才能作为下一个任务的输入（执行哪个任务是确定的，但参数需要组装）\n",
    "- 条件分支场景：上一个任务的输出作为一种判定条件，决定执行接下来哪个任务（执行哪个任务不确定，需要根据当前任务返回来判定）"
   ]
  },
  {
   "cell_type": "code",
   "execution_count": 1,
   "id": "4df100e8-c809-4be5-9ee0-d0bc40ef47ed",
   "metadata": {},
   "outputs": [
    {
     "name": "stdout",
     "output_type": "stream",
     "text": [
      "[AGENT] \u001b[34mSTEP 1 >>> Node 1: planner\u001b[0m\n",
      "\u001b[32mPlan:\u001b[0m\u001b[32m \u001b[0m\u001b[32m首先，我们需要\u001b[0m\u001b[32m确定鸿蒙公司的\u001b[0m\u001b[32m位置所在城市。\n",
      "\u001b[0m\u001b[32m#E1 =\u001b[0m\u001b[32m get_city({\"location\u001b[0m\u001b[32m\": \"鸿蒙\u001b[0m\u001b[32m公司\"})\n",
      "\n",
      "Plan\u001b[0m\u001b[32m: 使用上一步\u001b[0m\u001b[32m获取的城市信息，\u001b[0m\u001b[32m查询该城市的天气\u001b[0m\u001b[32m情况。\n",
      "#E\u001b[0m\u001b[32m2 = get_weather\u001b[0m\u001b[32m({\"city\": \"#\u001b[0m\u001b[32mE1\"})\u001b[0m\u001b[32m\u001b[0m\n",
      "tool_to_exec {'function': {'name': 'get_city', 'arguments': '{\"location\": \"鸿蒙公司\"}'}}\n",
      "\u001b[32m广州\u001b[0m\n",
      "\u001b[33m\n",
      "\n",
      "**观察** 上面的行动结果为:\n",
      "广州\n",
      "\u001b[0mtool_to_exec {'function': {'name': 'get_weather', 'arguments': '{\"city\": \"广州\"}'}}\n",
      "\u001b[32m广州天气不错，一直是大晴天\u001b[0m\n",
      "\u001b[33m\n",
      "\n",
      "**观察** 上面的行动结果为:\n",
      "广州天气不错，一直是大晴天\n",
      "\u001b[0m"
     ]
    },
    {
     "data": {
      "text/plain": [
       "[{'role': 'system',\n",
       "  'content': 'For the following task, make plans that can solve the problem step by step. \\nFor each plan, indicate which external tool together with tool input to retrieve evidence. \\nYou can store the evidence into a variable #E that can be called by later tools. \\n(Plan, #E1, Plan, #E2, Plan, ...)\\n\\nTools can be one of the following:\\n{\"type\": \"function\", \"function\": {\"name\": \"get_city\", \"description\": \"由任意地址描述查询出所在的城市\", \"parameters\": {\"type\": \"object\", \"properties\": {\"location\": {\"type\": \"string\", \"description\": \"\"}}, \"required\": [\"location\"]}}}\\n{\"type\": \"function\", \"function\": {\"name\": \"get_weather\", \"description\": \"我可以查询城市的天气情况。city必须是城市名称。\", \"parameters\": {\"type\": \"object\", \"properties\": {\"city\": {\"type\": \"string\", \"description\": \"\"}}, \"required\": [\"city\"]}}}\\n{\"type\": \"function\", \"function\": {\"name\": \"booking\", \"description\": \"我可以根据你的需求预订球场\", \"parameters\": {\"type\": \"object\", \"properties\": {\"request\": {\"type\": \"string\", \"description\": \"\"}}, \"required\": [\"request\"]}}}\\n\\nFor example,\\nTask: Thomas, Toby, and Rebecca worked a total of 157 hours in one week. \\nThomas worked xhours. \\nToby worked 10 hours less than twice what Thomas worked, and Rebecca worked 8 hoursless than Toby. \\nHow many hours did Rebecca work?\\n\\nPlan: Given Thomas worked x hours, translate the problem into algebraic expressions and solvewith Wolfram Alpha. #E1 = WolframAlpha({\"prompt\":\"Solve x + (2x − 10) + ((2x − 10) − 8) = 157\"})\\nPlan: Find out the number of hours Thomas worked. #E2 = LLM({\"prompt\": \"What is x, given #E1\"})\\nPlan: Calculate the number of hours Rebecca worked. #E3 = Calculator({\"expr\": \"(2 ∗ #E2 − 10) − 8\"})\\n\\nBegin! \\nDescribe your plans with rich details. Each Plan should be followed by only one #E.\\n\\nTask: 我在鸿蒙公司，帮我查询一下天气情况'},\n",
       " {'role': 'user', 'content': '请开始'},\n",
       " {'role': 'assistant',\n",
       "  'content': 'Plan: 首先，我们需要确定鸿蒙公司的位置所在城市。\\n#E1 = get_city({\"location\": \"鸿蒙公司\"})\\n\\nPlan: 使用上一步获取的城市信息，查询该城市的天气情况。\\n#E2 = get_weather({\"city\": \"#E1\"})'}]"
      ]
     },
     "execution_count": 1,
     "metadata": {},
     "output_type": "execute_result"
    }
   ],
   "source": [
    "from illufly.types import BaseAgent, PromptTemplate\n",
    "from illufly.chat import ChatQwen, ReWOO\n",
    "def get_city(location: str):\n",
    "    \"\"\"由任意地址描述查询出所在的城市\"\"\"\n",
    "    return \"广州\"\n",
    "\n",
    "def get_weather(city: str):\n",
    "    \"\"\"我可以查询城市的天气情况。city必须是城市名称。\"\"\"\n",
    "    return f'{city}天气不错，一直是大晴天'\n",
    "\n",
    "def booking(request: str):\n",
    "    \"\"\"我可以根据你的需求预订球场\"\"\"\n",
    "    return '我已经帮你预订好了，祝你玩得愉快'\n",
    "\n",
    "flow = ReWOO(planner=ChatQwen(), tools=[get_city, get_weather, booking])\n",
    "flow(\"我在鸿蒙公司，帮我查询一下天气情况\")\n",
    "flow.agents[0].memory"
   ]
  },
  {
   "cell_type": "code",
   "execution_count": null,
   "id": "cf5380c4-f383-403d-98d8-8e4574d7e2cb",
   "metadata": {},
   "outputs": [],
   "source": []
  }
 ],
 "metadata": {
  "kernelspec": {
   "display_name": "textlong-same-ipykernel",
   "language": "python",
   "name": "textlong-same-ipykernel"
  },
  "language_info": {
   "codemirror_mode": {
    "name": "ipython",
    "version": 3
   },
   "file_extension": ".py",
   "mimetype": "text/x-python",
   "name": "python",
   "nbconvert_exporter": "python",
   "pygments_lexer": "ipython3",
   "version": "3.10.0"
  }
 },
 "nbformat": 4,
 "nbformat_minor": 5
}
