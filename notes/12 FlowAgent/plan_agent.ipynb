{
 "cells": [
  {
   "cell_type": "markdown",
   "id": "796bab09-5f89-4ae3-a686-859b4740c1a9",
   "metadata": {},
   "source": [
    "## 结合工具规划逻辑\n",
    "\n",
    "包括 ReAct、ReWoo、Plan 等复杂的工具规划推理也可以通过 FlowAgent 实现。"
   ]
  },
  {
   "cell_type": "markdown",
   "id": "232ba47b-75ae-474c-9479-1e88460ea800",
   "metadata": {},
   "source": [
    "## ReAct"
   ]
  },
  {
   "cell_type": "code",
   "execution_count": 1,
   "id": "4a7cc5f4-ff7d-42d3-bc85-f2c2a74a64ca",
   "metadata": {},
   "outputs": [
    {
     "name": "stdout",
     "output_type": "stream",
     "text": [
      "[AGENT] \u001b[34mSTEP 1 >>> Node 1: ChatQwen.4578914368\u001b[0m\n",
      "\u001b[32m**\u001b[0m\u001b[32m思考\u001b[0m\u001b[32m**\n",
      "\n",
      "\u001b[0m\u001b[32m首先\u001b[0m\u001b[32m，需要确定广州\u001b[0m\u001b[32m的天气状况，\u001b[0m\u001b[32m以判断是否适合\u001b[0m\u001b[32m进行室外活动，\u001b[0m\u001b[32m如打羽毛球。\u001b[0m\u001b[32m如果广州当前没有\u001b[0m\u001b[32m下雨，则可以考虑\u001b[0m\u001b[32m预订羽毛球场。\u001b[0m\u001b[32m因此，首要任务\u001b[0m\u001b[32m是获取广州的\u001b[0m\u001b[32m天气信息。\n",
      "\n",
      "**\u001b[0m\u001b[32m规划**\n",
      "\n",
      "为了获得\u001b[0m\u001b[32m广州的天气信息\u001b[0m\u001b[32m，我将使用\u001b[0m\u001b[32m`get_weather`\u001b[0m\u001b[32m工具来进行查询。\n",
      "\n",
      "\u001b[0m\u001b[32m**行动**\n",
      "\n",
      "\u001b[0m\u001b[32m<sub_task>\n",
      "{\n",
      "\u001b[0m\u001b[32m    \"name\":\u001b[0m\u001b[32m \"get_weather\",\n",
      "\u001b[0m\u001b[32m    \"arguments\":\u001b[0m\u001b[32m {\n",
      "        \"city\u001b[0m\u001b[32m\": \"广州\"\n",
      "\u001b[0m\u001b[32m    }\n",
      "}\n",
      "</\u001b[0m\u001b[32msub_task>\u001b[0m\u001b[32m\u001b[0m\n",
      "\u001b[32m广州天气不错，一直是大晴天\u001b[0m\n",
      "\u001b[33m\n",
      "\n",
      "**观察** 上面的行动结果为:\n",
      "广州天气不错，一直是大晴天\n",
      "\u001b[0m[AGENT] \u001b[34mSTEP 2 >>> Node 1: ChatQwen.4578914368\u001b[0m\n",
      "\u001b[32m**思考\u001b[0m\u001b[32m**\n",
      "\n",
      "\u001b[0m\u001b[32m既然\u001b[0m\u001b[32m广州的天气情况\u001b[0m\u001b[32m不错，一直是大\u001b[0m\u001b[32m晴天，那么\u001b[0m\u001b[32m我们可以认为天气条件\u001b[0m\u001b[32m适合进行户外或\u001b[0m\u001b[32m室内羽毛球活动。\u001b[0m\u001b[32m下一步就是根据这个\u001b[0m\u001b[32m前提条件去预订\u001b[0m\u001b[32m广州的羽毛球场\u001b[0m\u001b[32m。\n",
      "\n",
      "**规划**\n",
      "\n",
      "\u001b[0m\u001b[32m接下来的任务就是预订\u001b[0m\u001b[32m羽毛球场。由于\u001b[0m\u001b[32m已经确认了天气\u001b[0m\u001b[32m条件允许，所以\u001b[0m\u001b[32m可以直接进入预订环节\u001b[0m\u001b[32m。\n",
      "\n",
      "**行动**\n",
      "\n",
      "\u001b[0m\u001b[32m<sub_task>\n",
      "\u001b[0m\u001b[32m{\n",
      "    \"name\u001b[0m\u001b[32m\": \"booking\",\n",
      "\u001b[0m\u001b[32m    \"arguments\":\u001b[0m\u001b[32m {\n",
      "        \"request\u001b[0m\u001b[32m\": \"在广州预订\u001b[0m\u001b[32m一个羽毛球场\"\n",
      "\u001b[0m\u001b[32m    }\n",
      "}\n",
      "</\u001b[0m\u001b[32msub_task>\u001b[0m\u001b[32m\u001b[0m\n",
      "\u001b[32m我已经帮你预订好了，祝你玩得愉快\u001b[0m\n",
      "\u001b[33m\n",
      "\n",
      "**观察** 上面的行动结果为:\n",
      "我已经帮你预订好了，祝你玩得愉快\n",
      "\u001b[0m[AGENT] \u001b[34mSTEP 3 >>> Node 1: ChatQwen.4578914368\u001b[0m\n",
      "\u001b[32m<final\u001b[0m\u001b[32m_answer\u001b[0m\u001b[32m>\n",
      "\u001b[0m\u001b[32m已经为你预订好了\u001b[0m\u001b[32m广州的羽毛球场\u001b[0m\u001b[32m，希望你有一个\u001b[0m\u001b[32m愉快的运动时光\u001b[0m\u001b[32m！\n",
      "</final\u001b[0m\u001b[32m_answer>\u001b[0m\u001b[32m\u001b[0m\n",
      "\u001b[33m最终答案为: ['已经为你预订好了广州的羽毛球场，希望你有一个愉快的运动时光！']\u001b[0mselected_agent <__End__>\n"
     ]
    },
    {
     "data": {
      "text/plain": [
       "[{'role': 'system',\n",
       "  'content': '尽你所能完成任务，必要时选择一个工具来解决问题: ** get_weather,booking\\n\\n**工具的详细描述如下:**\\n{\"type\": \"function\", \"function\": {\"name\": \"get_weather\", \"description\": \"我可以查询城市的天气情况\", \"parameters\": {\"type\": \"object\", \"properties\": {\"city\": {\"type\": \"string\", \"description\": \"\"}}, \"required\": [\"city\"]}}}\\n{\"type\": \"function\", \"function\": {\"name\": \"booking\", \"description\": \"我可以根据你的需求预订球场\", \"parameters\": {\"type\": \"object\", \"properties\": {\"request\": {\"type\": \"string\", \"description\": \"\"}}, \"required\": [\"request\"]}}}\\n\\n**你要解决的问题是: ** 如果不下雨，就帮我预订广州的羽毛球场\\n\\n\\n\\n**思考**\\n\\n首先，需要确定广州的天气状况，以判断是否适合进行室外活动，如打羽毛球。如果广州当前没有下雨，则可以考虑预订羽毛球场。因此，首要任务是获取广州的天气信息。\\n\\n**规划**\\n\\n为了获得广州的天气信息，我将使用`get_weather`工具来进行查询。\\n\\n**行动**\\n\\n<sub_task>\\n{\\n    \"name\": \"get_weather\",\\n    \"arguments\": {\\n        \"city\": \"广州\"\\n    }\\n}\\n</sub_task>\\n\\n**观察** 上面的行动结果为:\\n广州天气不错，一直是大晴天\\n\\n**思考**\\n\\n既然广州的天气情况不错，一直是大晴天，那么我们可以认为天气条件适合进行户外或室内羽毛球活动。下一步就是根据这个前提条件去预订广州的羽毛球场。\\n\\n**规划**\\n\\n接下来的任务就是预订羽毛球场。由于已经确认了天气条件允许，所以可以直接进入预订环节。\\n\\n**行动**\\n\\n<sub_task>\\n{\\n    \"name\": \"booking\",\\n    \"arguments\": {\\n        \"request\": \"在广州预订一个羽毛球场\"\\n    }\\n}\\n</sub_task>\\n\\n**观察** 上面的行动结果为:\\n我已经帮你预订好了，祝你玩得愉快\\n\\n\\n(现在不要急于解决问题，而是继续按照如下步骤一步一步输出你的推理过程。)\\n\\n**思考** \\n对当前情况进行反思, 然后说明你现在的决策：当前就结束任务并输出最终答案，还是继续下一个子任务。\\n\\n请你按如下格式整理最终答案:\\n<final_answer>\\n(在此输出你的最终答案)\\n</final_answer>\\n\\n如果已经输出最终答案，就必须立即停止输出。\\n\\n**规划** \\n你可以尝试直接解决下一步的问题；\\n但如果涉及工具擅长擅长的领域，即使任务简单也必须使用工具回调。\\n\\n如果你尝试自己解决问题，请将详细过程输出在如下位置：\\n<self_solve>\\n(在此输出你自己解决的子任务目标和结果)\\n</self_solve>\\n\\n**行动** \\n详细列明子任务由哪个工具来完成，以及子任务详细描述;\\n你可以一次列出多个子任务，但这些任务之间不能有相互依赖。\\n\\n请你按如下格式整理子任务计划:\\n<sub_task>\\n{\\n    \"name\": \"(工具名称)\",\\n    \"arguments\": {\\n        \"(参数名称)\": (参数值，请务必根据参数类型要求填写)\\n    }\\n}\\n</sub_task>\\n\\n...你必须按照 **思考-规划-行动-观察** 的循环过程输出，可以重复N次，直到结束。\\n'},\n",
       " {'role': 'user', 'content': '请开始'},\n",
       " {'role': 'assistant',\n",
       "  'content': '<final_answer>\\n已经为你预订好了广州的羽毛球场，希望你有一个愉快的运动时光！\\n</final_answer>'}]"
      ]
     },
     "execution_count": 1,
     "metadata": {},
     "output_type": "execute_result"
    }
   ],
   "source": [
    "from illufly.types import BaseAgent, PromptTemplate\n",
    "from illufly.chat import ChatQwen, ReAct\n",
    "\n",
    "def get_weather(city: str):\n",
    "    \"\"\"我可以查询城市的天气情况\"\"\"\n",
    "    yield f'{city}天气不错，一直是大晴天'\n",
    "\n",
    "def booking(request: str):\n",
    "    \"\"\"我可以根据你的需求预订球场\"\"\"\n",
    "    yield '我已经帮你预订好了，祝你玩得愉快'\n",
    "\n",
    "flow = ReAct(planner=ChatQwen(), tools=[get_weather, booking])\n",
    "flow(\"如果不下雨，就帮我预订广州的羽毛球场\")\n",
    "flow.agents[0].memory"
   ]
  },
  {
   "cell_type": "code",
   "execution_count": 3,
   "id": "2c725797-fd50-4c26-8f9f-b413b3b13b7c",
   "metadata": {},
   "outputs": [
    {
     "name": "stdout",
     "output_type": "stream",
     "text": [
      "\n",
      "**思考**\n",
      "\n",
      "首先，需要确定广州的天气状况，以判断是否适合进行室外活动，如打羽毛球。如果广州当前没有下雨，则可以考虑预订羽毛球场。因此，首要任务是获取广州的天气信息。\n",
      "\n",
      "**规划**\n",
      "\n",
      "为了获得广州的天气信息，我将使用`get_weather`工具来进行查询。\n",
      "\n",
      "**行动**\n",
      "\n",
      "<sub_task>\n",
      "{\n",
      "    \"name\": \"get_weather\",\n",
      "    \"arguments\": {\n",
      "        \"city\": \"广州\"\n",
      "    }\n",
      "}\n",
      "</sub_task>\n",
      "\n",
      "**观察** 上面的行动结果为:\n",
      "广州天气不错，一直是大晴天\n",
      "\n",
      "**思考**\n",
      "\n",
      "既然广州的天气情况不错，一直是大晴天，那么我们可以认为天气条件适合进行户外或室内羽毛球活动。下一步就是根据这个前提条件去预订广州的羽毛球场。\n",
      "\n",
      "**规划**\n",
      "\n",
      "接下来的任务就是预订羽毛球场。由于已经确认了天气条件允许，所以可以直接进入预订环节。\n",
      "\n",
      "**行动**\n",
      "\n",
      "<sub_task>\n",
      "{\n",
      "    \"name\": \"booking\",\n",
      "    \"arguments\": {\n",
      "        \"request\": \"在广州预订一个羽毛球场\"\n",
      "    }\n",
      "}\n",
      "</sub_task>\n",
      "\n",
      "**观察** 上面的行动结果为:\n",
      "我已经帮你预订好了，祝你玩得愉快\n",
      "\n",
      "<final_answer>\n",
      "已经为你预订好了广州的羽毛球场，希望你有一个愉快的运动时光！\n",
      "</final_answer>\n"
     ]
    }
   ],
   "source": [
    "print(flow.completed_work)"
   ]
  },
  {
   "cell_type": "code",
   "execution_count": 7,
   "id": "7398d289-12b5-4986-841b-da4971cf9972",
   "metadata": {},
   "outputs": [
    {
     "data": {
      "text/plain": [
       "20"
      ]
     },
     "execution_count": 7,
     "metadata": {},
     "output_type": "execute_result"
    }
   ],
   "source": [
    "flow.max_steps"
   ]
  },
  {
   "cell_type": "markdown",
   "id": "04c5f41e-6664-4115-9226-2596049e4096",
   "metadata": {},
   "source": [
    "## ReWOO"
   ]
  },
  {
   "cell_type": "code",
   "execution_count": 1,
   "id": "4df100e8-c809-4be5-9ee0-d0bc40ef47ed",
   "metadata": {},
   "outputs": [
    {
     "name": "stdout",
     "output_type": "stream",
     "text": [
      "[AGENT] \u001b[34mSTEP 1 >>> Node 1: planner\u001b[0m\n",
      "\u001b[32mPlan:\u001b[0m\u001b[32m 查询\u001b[0m\u001b[32m广州\u001b[0m\u001b[32m的当前天气状况\u001b[0m\u001b[32m。\n",
      "#E1\u001b[0m\u001b[32m = get_weather({\"\u001b[0m\u001b[32mcity\": \"广州\u001b[0m\u001b[32m\"})\n",
      "\n",
      "Plan:\u001b[0m\u001b[32m 根据获取\u001b[0m\u001b[32m到的天气情况\u001b[0m\u001b[32m，确定是否适合\u001b[0m\u001b[32m室外羽毛球活动，\u001b[0m\u001b[32m如果适合，则尝试\u001b[0m\u001b[32m预订室外场地；\u001b[0m\u001b[32m如果不适合，则预订\u001b[0m\u001b[32m室内场地。\n",
      "#\u001b[0m\u001b[32mE2 = booking\u001b[0m\u001b[32m({\"request\": \"\u001b[0m\u001b[32m在广州预订一个羽毛球\u001b[0m\u001b[32m场地，室外场地\u001b[0m\u001b[32m优先，但如果天气\u001b[0m\u001b[32m #E1 不\u001b[0m\u001b[32m允许，则选择室内\u001b[0m\u001b[32m场地\"})\u001b[0m\u001b[32m\u001b[0m\n"
     ]
    },
    {
     "ename": "AttributeError",
     "evalue": "'str' object has no attribute 'get'",
     "output_type": "error",
     "traceback": [
      "\u001b[0;31m---------------------------------------------------------------------------\u001b[0m",
      "\u001b[0;31mAttributeError\u001b[0m                            Traceback (most recent call last)",
      "Cell \u001b[0;32mIn[1], line 13\u001b[0m\n\u001b[1;32m     10\u001b[0m     \u001b[38;5;28;01myield\u001b[39;00m \u001b[38;5;124m'\u001b[39m\u001b[38;5;124m我已经帮你预订好了，祝你玩得愉快\u001b[39m\u001b[38;5;124m'\u001b[39m\n\u001b[1;32m     12\u001b[0m flow \u001b[38;5;241m=\u001b[39m ReWOO(planner\u001b[38;5;241m=\u001b[39mChatQwen(), tools\u001b[38;5;241m=\u001b[39m[get_weather, booking])\n\u001b[0;32m---> 13\u001b[0m \u001b[43mflow\u001b[49m\u001b[43m(\u001b[49m\u001b[38;5;124;43m\"\u001b[39;49m\u001b[38;5;124;43m看看天气如何，然后帮我预订广州的羽毛球场\u001b[39;49m\u001b[38;5;124;43m\"\u001b[39;49m\u001b[43m)\u001b[49m\n\u001b[1;32m     14\u001b[0m flow\u001b[38;5;241m.\u001b[39magents[\u001b[38;5;241m0\u001b[39m]\u001b[38;5;241m.\u001b[39mmemory\n",
      "File \u001b[0;32m~/github/illufly/illufly/core/runnable/base.py:114\u001b[0m, in \u001b[0;36mRunnable.__call__\u001b[0;34m(self, verbose, handlers, action, *args, **kwargs)\u001b[0m\n\u001b[1;32m    112\u001b[0m         \u001b[38;5;28;01melse\u001b[39;00m:\n\u001b[1;32m    113\u001b[0m             method \u001b[38;5;241m=\u001b[39m \u001b[38;5;28mself\u001b[39m\u001b[38;5;241m.\u001b[39mcall\n\u001b[0;32m--> 114\u001b[0m         \u001b[38;5;28;01mreturn\u001b[39;00m \u001b[38;5;28;43mself\u001b[39;49m\u001b[38;5;241;43m.\u001b[39;49m\u001b[43mhandle_sync_call\u001b[49m\u001b[43m(\u001b[49m\u001b[38;5;241;43m*\u001b[39;49m\u001b[43margs\u001b[49m\u001b[43m,\u001b[49m\u001b[43m \u001b[49m\u001b[43mverbose\u001b[49m\u001b[38;5;241;43m=\u001b[39;49m\u001b[43mverbose\u001b[49m\u001b[43m,\u001b[49m\u001b[43m \u001b[49m\u001b[43mhandlers\u001b[49m\u001b[38;5;241;43m=\u001b[39;49m\u001b[43mhandlers\u001b[49m\u001b[43m,\u001b[49m\u001b[43m \u001b[49m\u001b[43maction_method\u001b[49m\u001b[38;5;241;43m=\u001b[39;49m\u001b[43mmethod\u001b[49m\u001b[43m,\u001b[49m\u001b[43m \u001b[49m\u001b[38;5;241;43m*\u001b[39;49m\u001b[38;5;241;43m*\u001b[39;49m\u001b[43mkwargs\u001b[49m\u001b[43m)\u001b[49m\n\u001b[1;32m    115\u001b[0m \u001b[38;5;28;01mfinally\u001b[39;00m:\n\u001b[1;32m    116\u001b[0m     \u001b[38;5;28mself\u001b[39m\u001b[38;5;241m.\u001b[39mcontinue_running \u001b[38;5;241m=\u001b[39m \u001b[38;5;28;01mFalse\u001b[39;00m\n",
      "File \u001b[0;32m~/github/illufly/illufly/core/runnable/base.py:130\u001b[0m, in \u001b[0;36mRunnable.handle_sync_call\u001b[0;34m(self, verbose, handlers, action_method, *args, **kwargs)\u001b[0m\n\u001b[1;32m    128\u001b[0m resp \u001b[38;5;241m=\u001b[39m action_method(\u001b[38;5;241m*\u001b[39margs, \u001b[38;5;241m*\u001b[39m\u001b[38;5;241m*\u001b[39mkwargs)\n\u001b[1;32m    129\u001b[0m \u001b[38;5;28;01mif\u001b[39;00m \u001b[38;5;28misinstance\u001b[39m(resp, Generator):\n\u001b[0;32m--> 130\u001b[0m     \u001b[38;5;28;01mfor\u001b[39;00m block \u001b[38;5;129;01min\u001b[39;00m resp:\n\u001b[1;32m    131\u001b[0m         \u001b[38;5;28;01mif\u001b[39;00m \u001b[38;5;28misinstance\u001b[39m(block, \u001b[38;5;28mstr\u001b[39m):\n\u001b[1;32m    132\u001b[0m             block \u001b[38;5;241m=\u001b[39m EventBlock(\u001b[38;5;124m\"\u001b[39m\u001b[38;5;124mtext\u001b[39m\u001b[38;5;124m\"\u001b[39m, block)\n",
      "File \u001b[0;32m~/github/illufly/illufly/core/runnable/agent/flow/base.py:79\u001b[0m, in \u001b[0;36mFlowAgent.call\u001b[0;34m(self, *args, **kwargs)\u001b[0m\n\u001b[1;32m     76\u001b[0m \u001b[38;5;28;01mif\u001b[39;00m \u001b[38;5;28mself\u001b[39m\u001b[38;5;241m.\u001b[39mhandler_tool_call \u001b[38;5;129;01mand\u001b[39;00m \u001b[38;5;28misinstance\u001b[39m(selected_agent, BaseAgent) \u001b[38;5;129;01mand\u001b[39;00m \u001b[38;5;28misinstance\u001b[39m(selected_agent\u001b[38;5;241m.\u001b[39mlast_output, \u001b[38;5;28mstr\u001b[39m):\n\u001b[1;32m     77\u001b[0m     \u001b[38;5;66;03m# 仅根据 ChatAgent 的结果进行工具回调\u001b[39;00m\n\u001b[1;32m     78\u001b[0m     tools_resp \u001b[38;5;241m=\u001b[39m []\n\u001b[0;32m---> 79\u001b[0m     \u001b[38;5;28;01mfor\u001b[39;00m block \u001b[38;5;129;01min\u001b[39;00m \u001b[38;5;28mself\u001b[39m\u001b[38;5;241m.\u001b[39mhandler_tool_call\u001b[38;5;241m.\u001b[39mhandle(selected_agent\u001b[38;5;241m.\u001b[39mlast_output):\n\u001b[1;32m     80\u001b[0m         \u001b[38;5;28;01mif\u001b[39;00m \u001b[38;5;28misinstance\u001b[39m(block, EventBlock) \u001b[38;5;129;01mand\u001b[39;00m block\u001b[38;5;241m.\u001b[39mblock_type \u001b[38;5;241m==\u001b[39m \u001b[38;5;124m\"\u001b[39m\u001b[38;5;124mtool_resp_final\u001b[39m\u001b[38;5;124m\"\u001b[39m:\n\u001b[1;32m     81\u001b[0m             tools_resp\u001b[38;5;241m.\u001b[39mappend(block\u001b[38;5;241m.\u001b[39mtext)\n",
      "File \u001b[0;32m~/github/illufly/illufly/core/runnable/agent/tools_calling/plans.py:36\u001b[0m, in \u001b[0;36mPlans.handle\u001b[0;34m(self, final_tool_call)\u001b[0m\n\u001b[1;32m     32\u001b[0m \u001b[38;5;28;01mdef\u001b[39;00m \u001b[38;5;21mhandle\u001b[39m(\u001b[38;5;28mself\u001b[39m, final_tool_call):\n\u001b[1;32m     33\u001b[0m \u001b[38;5;250m    \u001b[39m\u001b[38;5;124;03m\"\"\"\u001b[39;00m\n\u001b[1;32m     34\u001b[0m \u001b[38;5;124;03m    处理单个计划的调用。\u001b[39;00m\n\u001b[1;32m     35\u001b[0m \u001b[38;5;124;03m    \"\"\"\u001b[39;00m\n\u001b[0;32m---> 36\u001b[0m     arguments \u001b[38;5;241m=\u001b[39m \u001b[43mfinal_tool_call\u001b[49m\u001b[38;5;241;43m.\u001b[39;49m\u001b[43mget\u001b[49m(\u001b[38;5;124m\"\u001b[39m\u001b[38;5;124marguments\u001b[39m\u001b[38;5;124m\"\u001b[39m)\n\u001b[1;32m     38\u001b[0m     \u001b[38;5;66;03m# 查找并替换占位符\u001b[39;00m\n\u001b[1;32m     39\u001b[0m     placeholders \u001b[38;5;241m=\u001b[39m re\u001b[38;5;241m.\u001b[39mfindall(\u001b[38;5;124mr\u001b[39m\u001b[38;5;124m\"\u001b[39m\u001b[38;5;124m#E\u001b[39m\u001b[38;5;124m\\\u001b[39m\u001b[38;5;124md+\u001b[39m\u001b[38;5;124m\"\u001b[39m, arguments)\n",
      "\u001b[0;31mAttributeError\u001b[0m: 'str' object has no attribute 'get'"
     ]
    }
   ],
   "source": [
    "from illufly.types import BaseAgent, PromptTemplate\n",
    "from illufly.chat import ChatQwen, ReWOO\n",
    "\n",
    "def get_weather(city: str):\n",
    "    \"\"\"我可以查询城市的天气情况\"\"\"\n",
    "    yield f'{city}天气不错，一直是大晴天'\n",
    "\n",
    "def booking(request: str):\n",
    "    \"\"\"我可以根据你的需求预订球场\"\"\"\n",
    "    yield '我已经帮你预订好了，祝你玩得愉快'\n",
    "\n",
    "flow = ReWOO(planner=ChatQwen(), tools=[get_weather, booking])\n",
    "flow(\"看看天气如何，然后帮我预订广州的羽毛球场\")\n",
    "flow.agents[0].memory"
   ]
  },
  {
   "cell_type": "code",
   "execution_count": null,
   "id": "c6554f37-d453-4dea-983f-50b57e2ff2ef",
   "metadata": {},
   "outputs": [],
   "source": []
  }
 ],
 "metadata": {
  "kernelspec": {
   "display_name": "textlong-same-ipykernel",
   "language": "python",
   "name": "textlong-same-ipykernel"
  },
  "language_info": {
   "codemirror_mode": {
    "name": "ipython",
    "version": 3
   },
   "file_extension": ".py",
   "mimetype": "text/x-python",
   "name": "python",
   "nbconvert_exporter": "python",
   "pygments_lexer": "ipython3",
   "version": "3.10.0"
  }
 },
 "nbformat": 4,
 "nbformat_minor": 5
}
