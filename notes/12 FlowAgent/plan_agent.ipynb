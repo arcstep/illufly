{
 "cells": [
  {
   "cell_type": "markdown",
   "id": "796bab09-5f89-4ae3-a686-859b4740c1a9",
   "metadata": {},
   "source": [
    "## 结合工具规划逻辑\n",
    "\n",
    "包括 ReAct、ReWoo、Plan 等复杂的工具规划推理也可以通过 FlowAgent 实现。"
   ]
  },
  {
   "cell_type": "markdown",
   "id": "232ba47b-75ae-474c-9479-1e88460ea800",
   "metadata": {},
   "source": [
    "## ReAct"
   ]
  },
  {
   "cell_type": "code",
   "execution_count": 1,
   "id": "4a7cc5f4-ff7d-42d3-bc85-f2c2a74a64ca",
   "metadata": {},
   "outputs": [
    {
     "name": "stdout",
     "output_type": "stream",
     "text": [
      "[AGENT] \u001b[34mSTEP 1 >>> Node 1: ChatQwen.4701608048\u001b[0m\n",
      "\u001b[32m**\u001b[0m\u001b[32m思考\u001b[0m\u001b[32m**\n",
      "\n",
      "\u001b[0m\u001b[32m首先\u001b[0m\u001b[32m，我们需要知道广州\u001b[0m\u001b[32m当前的天气情况\u001b[0m\u001b[32m以判断是否下雨\u001b[0m\u001b[32m。如果天气晴\u001b[0m\u001b[32m朗或没有降雨\u001b[0m\u001b[32m，那么我们将进入\u001b[0m\u001b[32m下一步骤，即\u001b[0m\u001b[32m预订羽毛球场。\u001b[0m\u001b[32m因此，首先应该\u001b[0m\u001b[32m查询广州的天气\u001b[0m\u001b[32m情况。\n",
      "\n",
      "**规划\u001b[0m\u001b[32m**\n",
      "\n",
      "为了获取广州\u001b[0m\u001b[32m的天气信息，\u001b[0m\u001b[32m我将调用\u001b[0m\u001b[32m `get_weather`\u001b[0m\u001b[32m 工具。\n",
      "\n",
      "\u001b[0m\u001b[32m<sub_task>\n",
      "\u001b[0m\u001b[32m{\n",
      "    \"name\u001b[0m\u001b[32m\": \"get_weather\u001b[0m\u001b[32m\",\n",
      "    \"arguments\u001b[0m\u001b[32m\": {\n",
      "        \"\u001b[0m\u001b[32mcity\": \"广州\u001b[0m\u001b[32m\"\n",
      "    }\n",
      "}\n",
      "\u001b[0m\u001b[32m</sub_task>\u001b[0m\u001b[32m\u001b[0m\n",
      "\u001b[32m广州天气不错，一直是大晴天\u001b[0m\n",
      "\u001b[33m\n",
      "\n",
      "**观察** 上面的行动结果为:\n",
      "广州天气不错，一直是大晴天\n",
      "\u001b[0m[AGENT] \u001b[34mSTEP 2 >>> Node 2: ChatQwen.4701608048\u001b[0m\n",
      "\u001b[32m**\u001b[0m\u001b[32m思考\u001b[0m\u001b[32m**\n",
      "\n",
      "\u001b[0m\u001b[32m既然\u001b[0m\u001b[32m广州的天气状况\u001b[0m\u001b[32m是大晴天\u001b[0m\u001b[32m，那么我们可以继续\u001b[0m\u001b[32m进行下一步，即\u001b[0m\u001b[32m预订羽毛球场。\n",
      "\n",
      "\u001b[0m\u001b[32m**规划**\n",
      "\n",
      "接下来\u001b[0m\u001b[32m的任务是预订羽毛\u001b[0m\u001b[32m球场，这需要\u001b[0m\u001b[32m调用 `booking\u001b[0m\u001b[32m` 工具\u001b[0m\u001b[32m。\n",
      "\n",
      "**行动**\n",
      "\n",
      "\u001b[0m\u001b[32m<sub_task>\n",
      "\u001b[0m\u001b[32m{\n",
      "    \"name\u001b[0m\u001b[32m\": \"booking\",\n",
      "\u001b[0m\u001b[32m    \"arguments\":\u001b[0m\u001b[32m {\n",
      "        \"request\u001b[0m\u001b[32m\": \"预订广州\u001b[0m\u001b[32m的羽毛球场\"\n",
      "\u001b[0m\u001b[32m    }\n",
      "}\n",
      "</\u001b[0m\u001b[32msub_task>\u001b[0m\u001b[32m\u001b[0m\n",
      "\u001b[32m我已经帮你预订好了，祝你玩得愉快\u001b[0m\n",
      "\u001b[33m\n",
      "\n",
      "**观察** 上面的行动结果为:\n",
      "我已经帮你预订好了，祝你玩得愉快\n",
      "\u001b[0m"
     ]
    },
    {
     "data": {
      "text/plain": [
       "[{'role': 'system',\n",
       "  'content': '尽你所能完成任务，必要时选择一个工具来解决问题: ** get_weather,booking\\n\\n**工具的详细描述如下:**\\n{\"type\": \"function\", \"function\": {\"name\": \"get_weather\", \"description\": \"我可以查询城市的天气情况\", \"parameters\": {\"type\": \"object\", \"properties\": {\"city\": {\"type\": \"string\", \"description\": \"\"}}, \"required\": [\"city\"]}}}\\n{\"type\": \"function\", \"function\": {\"name\": \"booking\", \"description\": \"我可以根据你的需求预订球场\", \"parameters\": {\"type\": \"object\", \"properties\": {\"request\": {\"type\": \"string\", \"description\": \"\"}}, \"required\": [\"request\"]}}}\\n\\n**你要解决的问题是: ** 如果不下雨，就帮我预订广州的羽毛球场\\n\\n\\n\\n**思考**\\n\\n首先，我们需要知道广州当前的天气情况以判断是否下雨。如果天气晴朗或没有降雨，那么我们将进入下一步骤，即预订羽毛球场。因此，首先应该查询广州的天气情况。\\n\\n**规划**\\n\\n为了获取广州的天气信息，我将调用 `get_weather` 工具。\\n\\n<sub_task>\\n{\\n    \"name\": \"get_weather\",\\n    \"arguments\": {\\n        \"city\": \"广州\"\\n    }\\n}\\n</sub_task>\\n\\n**观察** 上面的行动结果为:\\n广州天气不错，一直是大晴天\\n\\n\\n(现在不要急于解决问题，而是继续按照如下步骤一步一步输出你的推理过程。)\\n\\n**思考** \\n对当前情况进行反思, 然后说明你现在的决策：当前就结束任务并输出最终答案，还是继续下一个子任务。\\n\\n请你按如下格式整理最终答案:\\n<final_answer>\\n(在此输出你的最终答案)\\n</final_answer>\\n\\n如果已经输出最终答案，就必须立即停止输出。\\n\\n**规划** \\n你可以尝试直接解决下一步的问题；\\n但如果涉及工具擅长擅长的领域，即使任务简单也必须使用工具回调。\\n\\n如果你尝试自己解决问题，请将详细过程输出在如下位置：\\n<self_solve>\\n(在此输出你自己解决的子任务目标和结果)\\n</self_solve>\\n\\n**行动** \\n详细列明子任务由哪个工具来完成，以及子任务详细描述;\\n你可以一次列出多个子任务，但这些任务之间不能有相互依赖。\\n\\n请你按如下格式整理子任务计划:\\n<sub_task>\\n{\\n    \"name\": \"(工具名称)\",\\n    \"arguments\": {\\n        \"(参数名称)\": (参数值，请务必根据参数类型要求填写)\\n    }\\n}\\n</sub_task>\\n\\n...你必须按照 **思考-规划-行动-观察** 的循环过程输出，可以重复N次，直到结束。\\n'},\n",
       " {'role': 'user', 'content': '请开始'},\n",
       " {'role': 'assistant',\n",
       "  'content': '**思考**\\n\\n既然广州的天气状况是大晴天，那么我们可以继续进行下一步，即预订羽毛球场。\\n\\n**规划**\\n\\n接下来的任务是预订羽毛球场，这需要调用 `booking` 工具。\\n\\n**行动**\\n\\n<sub_task>\\n{\\n    \"name\": \"booking\",\\n    \"arguments\": {\\n        \"request\": \"预订广州的羽毛球场\"\\n    }\\n}\\n</sub_task>'}]"
      ]
     },
     "execution_count": 1,
     "metadata": {},
     "output_type": "execute_result"
    }
   ],
   "source": [
    "from illufly.types import BaseAgent, PromptTemplate\n",
    "from illufly.chat import ChatQwen, ReAct\n",
    "\n",
    "def get_weather(city: str):\n",
    "    \"\"\"我可以查询城市的天气情况\"\"\"\n",
    "    yield f'{city}天气不错，一直是大晴天'\n",
    "\n",
    "def booking(request: str):\n",
    "    \"\"\"我可以根据你的需求预订球场\"\"\"\n",
    "    yield '我已经帮你预订好了，祝你玩得愉快'\n",
    "\n",
    "flow = ReAct(planner=ChatQwen(), tools=[get_weather, booking])\n",
    "flow(\"如果不下雨，就帮我预订广州的羽毛球场\")\n",
    "flow.agents[0].memory"
   ]
  },
  {
   "cell_type": "code",
   "execution_count": 2,
   "id": "2c725797-fd50-4c26-8f9f-b413b3b13b7c",
   "metadata": {},
   "outputs": [
    {
     "name": "stdout",
     "output_type": "stream",
     "text": [
      "\n",
      "**思考**\n",
      "\n",
      "首先，我们需要知道广州当前的天气情况以判断是否下雨。如果天气晴朗或没有降雨，那么我们将进入下一步骤，即预订羽毛球场。因此，首先应该查询广州的天气情况。\n",
      "\n",
      "**规划**\n",
      "\n",
      "为了获取广州的天气信息，我将调用 `get_weather` 工具。\n",
      "\n",
      "<sub_task>\n",
      "{\n",
      "    \"name\": \"get_weather\",\n",
      "    \"arguments\": {\n",
      "        \"city\": \"广州\"\n",
      "    }\n",
      "}\n",
      "</sub_task>\n",
      "\n",
      "**观察** 上面的行动结果为:\n",
      "广州天气不错，一直是大晴天\n",
      "\n",
      "**思考**\n",
      "\n",
      "既然广州的天气状况是大晴天，那么我们可以继续进行下一步，即预订羽毛球场。\n",
      "\n",
      "**规划**\n",
      "\n",
      "接下来的任务是预订羽毛球场，这需要调用 `booking` 工具。\n",
      "\n",
      "**行动**\n",
      "\n",
      "<sub_task>\n",
      "{\n",
      "    \"name\": \"booking\",\n",
      "    \"arguments\": {\n",
      "        \"request\": \"预订广州的羽毛球场\"\n",
      "    }\n",
      "}\n",
      "</sub_task>\n",
      "\n",
      "**观察** 上面的行动结果为:\n",
      "我已经帮你预订好了，祝你玩得愉快\n",
      "\n"
     ]
    }
   ],
   "source": [
    "print(flow.completed_work)"
   ]
  },
  {
   "cell_type": "markdown",
   "id": "04c5f41e-6664-4115-9226-2596049e4096",
   "metadata": {},
   "source": [
    "## ReWoo"
   ]
  },
  {
   "cell_type": "code",
   "execution_count": null,
   "id": "4df100e8-c809-4be5-9ee0-d0bc40ef47ed",
   "metadata": {},
   "outputs": [],
   "source": []
  }
 ],
 "metadata": {
  "kernelspec": {
   "display_name": "textlong-same-ipykernel",
   "language": "python",
   "name": "textlong-same-ipykernel"
  },
  "language_info": {
   "codemirror_mode": {
    "name": "ipython",
    "version": 3
   },
   "file_extension": ".py",
   "mimetype": "text/x-python",
   "name": "python",
   "nbconvert_exporter": "python",
   "pygments_lexer": "ipython3",
   "version": "3.10.0"
  }
 },
 "nbformat": 4,
 "nbformat_minor": 5
}
