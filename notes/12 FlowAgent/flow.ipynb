{
 "cells": [
  {
   "cell_type": "markdown",
   "id": "9b97ccfb-8dc7-4c7c-842b-abf6820769f6",
   "metadata": {},
   "source": [
    "## 多智能体管道"
   ]
  },
  {
   "cell_type": "code",
   "execution_count": 1,
   "id": "a4bbd07f-e12a-40b6-b830-62e21eb90fd0",
   "metadata": {},
   "outputs": [
    {
     "name": "stdout",
     "output_type": "stream",
     "text": [
      "[AGENT] \u001b[34mSTEP 1 >>> Node 1: ChatQwen.4412592704\u001b[0m\n",
      "\u001b[32m当然可以\u001b[0m\u001b[32m，\u001b[0m\u001b[32m下面\u001b[0m\u001b[32m是一首简短\u001b[0m\u001b[32m的儿歌，\u001b[0m\u001b[32m希望你喜欢：\n",
      "\n",
      "小\u001b[0m\u001b[32m兔乖乖睡梦\u001b[0m\u001b[32m乡，\n",
      "月亮姐姐\u001b[0m\u001b[32m讲故事。\n",
      "梦里\u001b[0m\u001b[32m花开草儿长\u001b[0m\u001b[32m，\n",
      "蹦蹦跳\u001b[0m\u001b[32m跳找宝藏。\u001b[0m\u001b[32m\u001b[0m\n",
      "[AGENT] \u001b[34mSTEP 2 >>> Node 2: ChatQwen.4687004720\u001b[0m\n",
      "\u001b[32m这首儿\u001b[0m\u001b[32m歌\u001b[0m\u001b[32m语言\u001b[0m\u001b[32m简洁、意象\u001b[0m\u001b[32m生动，能够很好地\u001b[0m\u001b[32m吸引小朋友的注意力\u001b[0m\u001b[32m。如果能在故事\u001b[0m\u001b[32m性和互动性上\u001b[0m\u001b[32m再做一些设计，\u001b[0m\u001b[32m会更加有趣味\u001b[0m\u001b[32m性和教育意义。\u001b[0m\u001b[32m\u001b[0m\n",
      "[AGENT] \u001b[34mSTEP 3 >>> Node 3: ChatQwen.4687276608\u001b[0m\n",
      "\u001b[32m根据你的\u001b[0m\u001b[32m描述\u001b[0m\u001b[32m，\u001b[0m\u001b[32m这首儿歌已经\u001b[0m\u001b[32m具备了很好的基础\u001b[0m\u001b[32m，语言简洁、\u001b[0m\u001b[32m意象生动是\u001b[0m\u001b[32m儿童文学作品非常\u001b[0m\u001b[32m重要的特点，能够\u001b[0m\u001b[32m有效地吸引小朋友的\u001b[0m\u001b[32m注意力。考虑到你\u001b[0m\u001b[32m提到的故事性和互动\u001b[0m\u001b[32m性的进一步提升空间\u001b[0m\u001b[32m，我会给它\u001b[0m\u001b[32m打4分。\u001b[0m\u001b[32m这表示它已经\u001b[0m\u001b[32m非常不错了，\u001b[0m\u001b[32m但还有改进的空间\u001b[0m\u001b[32m以达到更佳\u001b[0m\u001b[32m的效果。\u001b[0m\u001b[32m\u001b[0m\n"
     ]
    },
    {
     "data": {
      "text/plain": [
       "'根据你的描述，这首儿歌已经具备了很好的基础，语言简洁、意象生动是儿童文学作品非常重要的特点，能够有效地吸引小朋友的注意力。考虑到你提到的故事性和互动性的进一步提升空间，我会给它打4分。这表示它已经非常不错了，但还有改进的空间以达到更佳的效果。'"
      ]
     },
     "execution_count": 1,
     "metadata": {},
     "output_type": "execute_result"
    }
   ],
   "source": [
    "from illufly.chat import FlowAgent, ChatQwen\n",
    "\n",
    "flow = FlowAgent(\n",
    "    ChatQwen(),\n",
    "    ChatQwen(memory=(\"system\", \"我将告诉你我的写作成果，你负责帮我评价文章特色，说说缺点，两句话即可\")),\n",
    "    ChatQwen(memory=(\"system\", \"我将告诉你我的写作成果，请按照评价打一个分数，从1分至5分\"))\n",
    ")\n",
    "\n",
    "flow(\"你能帮我写一首关于兔子做梦的四句儿歌?\")"
   ]
  },
  {
   "cell_type": "code",
   "execution_count": 2,
   "id": "4537cd7e-e18e-4fa7-80cf-180de7a82592",
   "metadata": {},
   "outputs": [
    {
     "data": {
      "text/plain": [
       "{'last_output': '根据你的描述，这首儿歌已经具备了很好的基础，语言简洁、意象生动是儿童文学作品非常重要的特点，能够有效地吸引小朋友的注意力。考虑到你提到的故事性和互动性的进一步提升空间，我会给它打4分。这表示它已经非常不错了，但还有改进的空间以达到更佳的效果。',\n",
       " 'resources': ''}"
      ]
     },
     "execution_count": 2,
     "metadata": {},
     "output_type": "execute_result"
    }
   ],
   "source": [
    "flow.provider_dict"
   ]
  },
  {
   "cell_type": "code",
   "execution_count": 3,
   "id": "98e900ce-d365-42db-be59-c3b565e225d2",
   "metadata": {},
   "outputs": [
    {
     "name": "stdout",
     "output_type": "stream",
     "text": [
      "[AGENT] \u001b[34mSTEP 1 >>> Node 1: ChatQwen.4412592704\u001b[0m\n",
      "\u001b[32m当然可以\u001b[0m\u001b[32m，\u001b[0m\u001b[32m这\u001b[0m\u001b[32m是一首简单又\u001b[0m\u001b[32m温馨的四句\u001b[0m\u001b[32m儿歌：\n",
      "\n",
      "小小\u001b[0m\u001b[32m琴键排排\u001b[0m\u001b[32m坐，  \n",
      "手指\u001b[0m\u001b[32m跳跃唱欢乐。\u001b[0m\u001b[32m  \n",
      "黑白之间有\u001b[0m\u001b[32m魔法，  \n",
      "弹\u001b[0m\u001b[32m出梦想和希望\u001b[0m\u001b[32m花。\u001b[0m\u001b[32m\u001b[0m\n",
      "[AGENT] \u001b[34mSTEP 2 >>> Node 2: ChatQwen.4687004720\u001b[0m\n",
      "\u001b[32m这首儿\u001b[0m\u001b[32m歌\u001b[0m\u001b[32m语言\u001b[0m\u001b[32m简洁、形象生动\u001b[0m\u001b[32m，能够很好地激发\u001b[0m\u001b[32m孩子们的想象力。\u001b[0m\u001b[32m不过在韵律\u001b[0m\u001b[32m上还可以再调整\u001b[0m\u001b[32m，使每一句\u001b[0m\u001b[32m的节奏更加一致\u001b[0m\u001b[32m，读起来更\u001b[0m\u001b[32m顺口。\u001b[0m\u001b[32m\u001b[0m\n",
      "[AGENT] \u001b[34mSTEP 3 >>> Node 3: ChatQwen.4687276608\u001b[0m\n",
      "\u001b[32m根据\u001b[0m\u001b[32m您的\u001b[0m\u001b[32m描述\u001b[0m\u001b[32m，\u001b[0m\u001b[32m我会给这首儿\u001b[0m\u001b[32m歌打4分\u001b[0m\u001b[32m。它已经达到了\u001b[0m\u001b[32m激发孩子想象力的效果\u001b[0m\u001b[32m，并且语言简洁\u001b[0m\u001b[32m、形象生动。\u001b[0m\u001b[32m如果能在韵律\u001b[0m\u001b[32m上做一些改进，\u001b[0m\u001b[32m使其更为流畅，\u001b[0m\u001b[32m那么就可以得到满分\u001b[0m\u001b[32m了。\u001b[0m\u001b[32m\u001b[0m\n"
     ]
    },
    {
     "data": {
      "text/plain": [
       "'根据您的描述，我会给这首儿歌打4分。它已经达到了激发孩子想象力的效果，并且语言简洁、形象生动。如果能在韵律上做一些改进，使其更为流畅，那么就可以得到满分了。'"
      ]
     },
     "execution_count": 3,
     "metadata": {},
     "output_type": "execute_result"
    }
   ],
   "source": [
    "flow(\"你能帮我写一首关于钢琴的四句儿歌?\")"
   ]
  },
  {
   "cell_type": "code",
   "execution_count": 6,
   "id": "44fbecd9-3bef-4177-9618-ad865befdcc1",
   "metadata": {},
   "outputs": [
    {
     "data": {
      "text/plain": [
       "[{'role': 'system', 'content': '我将告诉你我的写作成果，你负责帮我评价文章特色，说说缺点，两句话即可'},\n",
       " {'role': 'user',\n",
       "  'content': '当然可以，这是一首简单又温馨的四句儿歌：\\n\\n小小琴键排排坐，  \\n手指跳跃唱欢乐。  \\n黑白之间有魔法，  \\n弹出梦想和希望花。'},\n",
       " {'role': 'assistant',\n",
       "  'content': '这首儿歌语言简洁、形象生动，能够很好地激发孩子们的想象力。不过在韵律上还可以再调整，使每一句的节奏更加一致，读起来更顺口。'}]"
      ]
     },
     "execution_count": 6,
     "metadata": {},
     "output_type": "execute_result"
    }
   ],
   "source": [
    "flow.agents[1].memory"
   ]
  },
  {
   "cell_type": "markdown",
   "id": "c6393119-5133-45ed-b317-f40138ceaaa7",
   "metadata": {},
   "source": [
    "## 带有模板的智能体"
   ]
  },
  {
   "cell_type": "code",
   "execution_count": 7,
   "id": "d47eb92b-5f81-4fff-9557-e6866d7b4724",
   "metadata": {},
   "outputs": [
    {
     "name": "stdout",
     "output_type": "stream",
     "text": [
      "[AGENT] \u001b[34mSTEP 1 >>> Node 1: ChatQwen.4671410224\u001b[0m\n",
      "\u001b[32m小兔\u001b[0m\u001b[32m乖乖\u001b[0m\u001b[32m梦\u001b[0m\u001b[32m中游，  \n",
      "\u001b[0m\u001b[32m花儿朵朵\u001b[0m\u001b[32m绕它头。\u001b[0m\u001b[32m  \n",
      "月亮婆婆轻\u001b[0m\u001b[32m声笑，  \n",
      "\u001b[0m\u001b[32m梦里世界甜\u001b[0m\u001b[32m如糖。\u001b[0m\u001b[32m\u001b[0m\n"
     ]
    },
    {
     "data": {
      "text/plain": [
       "'小兔乖乖梦中游，  \\n花儿朵朵绕它头。  \\n月亮婆婆轻声笑，  \\n梦里世界甜如糖。'"
      ]
     },
     "execution_count": 7,
     "metadata": {},
     "output_type": "execute_result"
    }
   ],
   "source": [
    "from illufly.chat import FlowAgent, ChatQwen\n",
    "from illufly.types import PromptTemplate\n",
    "\n",
    "flow = FlowAgent(\n",
    "    ChatQwen(memory=[PromptTemplate(\"IDEA\")]),\n",
    ")\n",
    "\n",
    "flow(\"你能帮我写一首关于兔子做梦的四句儿歌?\")"
   ]
  },
  {
   "cell_type": "code",
   "execution_count": 8,
   "id": "702f4a98-6606-48f1-be66-0183897773d5",
   "metadata": {},
   "outputs": [
    {
     "name": "stdout",
     "output_type": "stream",
     "text": [
      "[AGENT] \u001b[34mSTEP 1 >>> Node 1: ChatQwen.4671410224\u001b[0m\n",
      "\u001b[32m小兔子\u001b[0m\u001b[32m跳\u001b[0m\u001b[32m跳\u001b[0m\u001b[32m，水里游\u001b[0m\u001b[32m得高，  \n",
      "\u001b[0m\u001b[32m扑腾小脚\u001b[0m\u001b[32m丫，快乐水上\u001b[0m\u001b[32m漂。  \n",
      "妈妈\u001b[0m\u001b[32m夸它好，\u001b[0m\u001b[32m勇敢又灵巧\u001b[0m\u001b[32m。\u001b[0m\u001b[32m\u001b[0m\n"
     ]
    },
    {
     "data": {
      "text/plain": [
       "[{'role': 'system',\n",
       "  'content': '你是强大的写作助手。\\n\\n你必须遵循以下约束来完成任务:\\n1. 直接输出你的结果，不要评论，不要啰嗦\\n2. 使用markdown格式输出\\n\\n**你的任务是:**\\n你能帮我写一首关于兔子游泳的3句儿歌?\\n'},\n",
       " {'role': 'user', 'content': '请开始'},\n",
       " {'role': 'assistant',\n",
       "  'content': '小兔子跳跳，水里游得高，  \\n扑腾小脚丫，快乐水上漂。  \\n妈妈夸它好，勇敢又灵巧。'}]"
      ]
     },
     "execution_count": 8,
     "metadata": {},
     "output_type": "execute_result"
    }
   ],
   "source": [
    "flow(\"你能帮我写一首关于兔子游泳的3句儿歌?\")\n",
    "flow.agents[0].memory"
   ]
  },
  {
   "cell_type": "markdown",
   "id": "f1650e89-4f2c-4157-9741-c9ea6c07a4ad",
   "metadata": {},
   "source": [
    "## 条件分支：选择一种路径"
   ]
  },
  {
   "cell_type": "code",
   "execution_count": 1,
   "id": "cd19e3e4-3259-40ee-badb-ed126b213f70",
   "metadata": {},
   "outputs": [
    {
     "name": "stdout",
     "output_type": "stream",
     "text": [
      "[AGENT] \u001b[34mSTEP 1 >>> Node 1: 写手\u001b[0m\n",
      "\u001b[32m小\u001b[0m\u001b[32m白\u001b[0m\u001b[32m兔\u001b[0m\u001b[32m白\u001b[0m\u001b[32m又\u001b[0m\u001b[32m白\u001b[0m\u001b[32m,\u001b[0m\u001b[32m两\u001b[0m\u001b[32m只\u001b[0m\u001b[32m耳\u001b[0m\u001b[32m朵\u001b[0m\u001b[32m粘\u001b[0m\u001b[32m一\u001b[0m\u001b[32m块\u001b[0m\n",
      "[AGENT] \u001b[34mSTEP 2 >>> Node 2: 评论家2\u001b[0m\n",
      "\u001b[32m你\u001b[0m\u001b[32m写\u001b[0m\u001b[32m了\u001b[0m\u001b[32m一\u001b[0m\u001b[32m坨\u001b[0m\u001b[32m垃\u001b[0m\u001b[32m圾\u001b[0m\n",
      "[AGENT] \u001b[34mSTEP 3 >>> Node 3: 打分专家\u001b[0m\n",
      "\u001b[32m3\u001b[0m\u001b[32m分\u001b[0m\u001b[32m。\u001b[0m\u001b[32m我\u001b[0m\u001b[32m胡\u001b[0m\u001b[32m乱\u001b[0m\u001b[32m打\u001b[0m\u001b[32m的\u001b[0m\u001b[32m分\u001b[0m\u001b[32m。\u001b[0m\n"
     ]
    },
    {
     "data": {
      "text/plain": [
       "'3分。我胡乱打的分。'"
      ]
     },
     "execution_count": 1,
     "metadata": {},
     "output_type": "execute_result"
    }
   ],
   "source": [
    "from illufly.chat import FlowAgent, FakeLLM, Selector\n",
    "\n",
    "flow = FlowAgent(\n",
    "    FakeLLM(name=\"写手\", response=[\"小白兔白又白,两只耳朵粘一块\"]),\n",
    "    Selector([\n",
    "        FakeLLM(name=\"评论家1\", response=\"我觉得你写的不错\"),\n",
    "        FakeLLM(name=\"评论家2\", response=\"你写了一坨垃圾\"),\n",
    "    ], \"random\"),\n",
    "    FakeLLM(name=\"打分专家\", response=\"3分。我胡乱打的分。\")\n",
    ")\n",
    "\n",
    "flow(\"你能帮我写一首关于兔子做梦的四句儿歌?\", verbose=False)"
   ]
  },
  {
   "cell_type": "code",
   "execution_count": 2,
   "id": "9e91a985-8890-4cb6-ae47-ecb9a3b43187",
   "metadata": {},
   "outputs": [
    {
     "name": "stdout",
     "output_type": "stream",
     "text": [
      "\u001b[32m我\u001b[0m\u001b[32m觉\u001b[0m\u001b[32m得\u001b[0m\u001b[32m你\u001b[0m\u001b[32m写\u001b[0m\u001b[32m的\u001b[0m\u001b[32m不\u001b[0m\u001b[32m错\u001b[0m\n"
     ]
    },
    {
     "data": {
      "text/plain": [
       "'我觉得你写的不错'"
      ]
     },
     "execution_count": 2,
     "metadata": {},
     "output_type": "execute_result"
    }
   ],
   "source": [
    "s = Selector([\n",
    "        FakeLLM(name=\"评论家1\", response=\"我觉得你写的不错\"),\n",
    "        FakeLLM(name=\"评论家2\", response=\"你写了一坨垃圾\")\n",
    "    ])\n",
    "s.selected(\"hi\")"
   ]
  },
  {
   "cell_type": "markdown",
   "id": "436fcc41-4b5f-430f-b62a-ac1315d6ec9e",
   "metadata": {},
   "source": [
    "## 支持循环和退出：创作和打分互动\n",
    "\n",
    "**退出机制在于 Selector 节点是否返回 END 字符串。**<br>\n",
    "下面实现了典型的机制，其要点在于 Selector 条件函数针对前面节点的 _last_output 属性做检查。"
   ]
  },
  {
   "cell_type": "code",
   "execution_count": 3,
   "id": "733c6020-a104-4528-a2fb-4a5f4a9344fe",
   "metadata": {},
   "outputs": [
    {
     "name": "stdout",
     "output_type": "stream",
     "text": [
      "[AGENT] \u001b[34mSTEP 1 >>> Node 1: 写手\u001b[0m\n",
      "\u001b[32m你\u001b[0m\u001b[32m能\u001b[0m\u001b[32m帮\u001b[0m\u001b[32m我\u001b[0m\u001b[32m写\u001b[0m\u001b[32m一\u001b[0m\u001b[32m首\u001b[0m\u001b[32m关\u001b[0m\u001b[32m于\u001b[0m\u001b[32m兔\u001b[0m\u001b[32m子\u001b[0m\u001b[32m的\u001b[0m\u001b[32m四\u001b[0m\u001b[32m句\u001b[0m\u001b[32m儿\u001b[0m\u001b[32m歌\u001b[0m\u001b[32m?\u001b[0m\n",
      "[AGENT] \u001b[34mSTEP 2 >>> Node 2: 打分专家\u001b[0m\n",
      "\u001b[32m1\u001b[0m\u001b[32m分\u001b[0m\n",
      "vars:  {'last_output': '1分', 'resources': ''}\n",
      "[AGENT] \u001b[34mSTEP 3 >>> Node 1: 写手\u001b[0m\n",
      "\u001b[32m1\u001b[0m\u001b[32m分\u001b[0m\n",
      "[AGENT] \u001b[34mSTEP 4 >>> Node 2: 打分专家\u001b[0m\n",
      "\u001b[32m3\u001b[0m\u001b[32m分\u001b[0m\n",
      "vars:  {'last_output': '3分', 'resources': ''}\n",
      "[AGENT] \u001b[34mSTEP 5 >>> Node 1: 写手\u001b[0m\n",
      "\u001b[32m3\u001b[0m\u001b[32m分\u001b[0m\n",
      "[AGENT] \u001b[34mSTEP 6 >>> Node 2: 打分专家\u001b[0m\n",
      "\u001b[32m5\u001b[0m\u001b[32m分\u001b[0m\n",
      "vars:  {'last_output': '5分', 'resources': ''}\n"
     ]
    },
    {
     "data": {
      "text/plain": [
       "'5分'"
      ]
     },
     "execution_count": 3,
     "metadata": {},
     "output_type": "execute_result"
    }
   ],
   "source": [
    "from illufly.chat import FlowAgent, FakeLLM, Selector\n",
    "\n",
    "def should_continue(vars, runs):\n",
    "    print(\"vars: \", vars)\n",
    "    return \"END\" if \"5\" in vars['last_output'] else \"写手\"\n",
    "\n",
    "flow = FlowAgent(\n",
    "    FakeLLM(name=\"写手\", sleep=0),\n",
    "    FakeLLM(name=\"打分专家\", sleep=0.001, response=[\"1分\", \"3分\", \"5分\"]),\n",
    "    Selector(condition=should_continue)\n",
    ")\n",
    "\n",
    "flow(\"你能帮我写一首关于兔子的四句儿歌?\")"
   ]
  },
  {
   "cell_type": "code",
   "execution_count": 5,
   "id": "d7442d05-fd2b-4a3e-a10d-c9a09362603e",
   "metadata": {},
   "outputs": [
    {
     "name": "stdout",
     "output_type": "stream",
     "text": [
      "[AGENT] \u001b[34mSTEP 1 >>> Node 1: 写手\u001b[0m\n",
      "\u001b[32m小白兔\u001b[0m\u001b[32m，\u001b[0m\u001b[32m白\u001b[0m\u001b[32m又白，\n",
      "两只\u001b[0m\u001b[32m耳朵竖起来，\n",
      "\u001b[0m\u001b[32m爱吃萝卜和青\u001b[0m\u001b[32m菜，\n",
      "蹦蹦\u001b[0m\u001b[32m跳跳真可爱\u001b[0m\u001b[32m。\u001b[0m\u001b[32m\u001b[0m\n",
      "[AGENT] \u001b[34mSTEP 2 >>> Node 2: 打分专家\u001b[0m\n",
      "\u001b[32m你的这首\u001b[0m\u001b[32m诗\u001b[0m\u001b[32m简洁\u001b[0m\u001b[32m明快，富有\u001b[0m\u001b[32m童趣，读\u001b[0m\u001b[32m起来朗朗上\u001b[0m\u001b[32m口，形象生动\u001b[0m\u001b[32m地描绘了小白\u001b[0m\u001b[32m兔的特征与\u001b[0m\u001b[32m习性。给\u001b[0m\u001b[32m它打4分\u001b[0m\u001b[32m。\n",
      "\n",
      "改进意见：\n",
      "\u001b[0m\u001b[32m1. 你可以\u001b[0m\u001b[32m尝试增加一些细节\u001b[0m\u001b[32m或场景描述，\u001b[0m\u001b[32m让诗歌内容更加\u001b[0m\u001b[32m丰富饱满。例如\u001b[0m\u001b[32m：可以描写小白\u001b[0m\u001b[32m兔的生活环境，\u001b[0m\u001b[32m如“林间\u001b[0m\u001b[32m小屋旁，\u001b[0m\u001b[32m绿草丛中\u001b[0m\u001b[32m藏”。\n",
      "2\u001b[0m\u001b[32m. 尝试\u001b[0m\u001b[32m运用更多的修辞\u001b[0m\u001b[32m手法，如拟\u001b[0m\u001b[32m人、比喻等\u001b[0m\u001b[32m，使语言更加\u001b[0m\u001b[32m生动有趣。比如\u001b[0m\u001b[32m：“红宝石般\u001b[0m\u001b[32m的眼睛，好奇地\u001b[0m\u001b[32m四处张望”，\u001b[0m\u001b[32m这样可以增加诗歌\u001b[0m\u001b[32m的艺术感染力。\n",
      "\u001b[0m\u001b[32m3. 可\u001b[0m\u001b[32m以在最后一句\u001b[0m\u001b[32m加入情感色彩，\u001b[0m\u001b[32m表达作者对小白\u001b[0m\u001b[32m兔的喜爱之情，\u001b[0m\u001b[32m增强诗歌的感染\u001b[0m\u001b[32m力，如：“\u001b[0m\u001b[32m蹦蹦跳跳\u001b[0m\u001b[32m真可爱，是我\u001b[0m\u001b[32m心中的小宝贝”。\u001b[0m\u001b[32m\u001b[0m\n",
      "vars:  {'last_output': '你的这首诗简洁明快，富有童趣，读起来朗朗上口，形象生动地描绘了小白兔的特征与习性。给它打4分。\\n\\n改进意见：\\n1. 你可以尝试增加一些细节或场景描述，让诗歌内容更加丰富饱满。例如：可以描写小白兔的生活环境，如“林间小屋旁，绿草丛中藏”。\\n2. 尝试运用更多的修辞手法，如拟人、比喻等，使语言更加生动有趣。比如：“红宝石般的眼睛，好奇地四处张望”，这样可以增加诗歌的艺术感染力。\\n3. 可以在最后一句加入情感色彩，表达作者对小白兔的喜爱之情，增强诗歌的感染力，如：“蹦蹦跳跳真可爱，是我心中的小宝贝”。', 'resources': ''}\n",
      "[AGENT] \u001b[34mSTEP 3 >>> Node 1: 写手\u001b[0m\n",
      "\u001b[32m非常感谢\u001b[0m\u001b[32m您的\u001b[0m\u001b[32m评价\u001b[0m\u001b[32m和宝贵的意见！\u001b[0m\u001b[32m根据您的建议，\u001b[0m\u001b[32m我将这首儿\u001b[0m\u001b[32m歌进行了修改，\u001b[0m\u001b[32m希望您会喜欢\u001b[0m\u001b[32m：\n",
      "\n",
      "小白兔，\u001b[0m\u001b[32m白又白，\n",
      "\u001b[0m\u001b[32m林间小屋\u001b[0m\u001b[32m旁，绿草\u001b[0m\u001b[32m丛中藏。\n",
      "\u001b[0m\u001b[32m红宝石般的眼睛\u001b[0m\u001b[32m，好奇地四处\u001b[0m\u001b[32m张望，\n",
      "蹦\u001b[0m\u001b[32m蹦跳跳真\u001b[0m\u001b[32m可爱，是我心中的\u001b[0m\u001b[32m小宝贝。\u001b[0m\u001b[32m\u001b[0m\n",
      "[AGENT] \u001b[34mSTEP 4 >>> Node 2: 打分专家\u001b[0m\n",
      "\u001b[32m你的修改\u001b[0m\u001b[32m非常\u001b[0m\u001b[32m成功\u001b[0m\u001b[32m！新版本不仅\u001b[0m\u001b[32m保留了原作\u001b[0m\u001b[32m的简洁明快\u001b[0m\u001b[32m，还增加了许多\u001b[0m\u001b[32m生动的细节，\u001b[0m\u001b[32m使得整个画面更加\u001b[0m\u001b[32m鲜活有趣。特别是\u001b[0m\u001b[32m“林间小\u001b[0m\u001b[32m屋旁，绿\u001b[0m\u001b[32m草丛中藏\u001b[0m\u001b[32m”和“红\u001b[0m\u001b[32m宝石般的眼睛，\u001b[0m\u001b[32m好奇地四处张\u001b[0m\u001b[32m望”这两句\u001b[0m\u001b[32m，不仅增强了画面\u001b[0m\u001b[32m感，还增添了\u001b[0m\u001b[32m丰富的想象力。最后\u001b[0m\u001b[32m加上“是我心中的\u001b[0m\u001b[32m小宝贝”，表达了\u001b[0m\u001b[32m对小白兔的喜爱\u001b[0m\u001b[32m之情，使整\u001b[0m\u001b[32m首诗的情感更加\u001b[0m\u001b[32m饱满。\n",
      "\n",
      "给你这次\u001b[0m\u001b[32m的作品打5分\u001b[0m\u001b[32m，非常棒！\u001b[0m\u001b[32m继续保持这种创作热情\u001b[0m\u001b[32m，相信你会写出\u001b[0m\u001b[32m更多优秀的作品。\u001b[0m\u001b[32m\u001b[0m\n",
      "vars:  {'last_output': '你的修改非常成功！新版本不仅保留了原作的简洁明快，还增加了许多生动的细节，使得整个画面更加鲜活有趣。特别是“林间小屋旁，绿草丛中藏”和“红宝石般的眼睛，好奇地四处张望”这两句，不仅增强了画面感，还增添了丰富的想象力。最后加上“是我心中的小宝贝”，表达了对小白兔的喜爱之情，使整首诗的情感更加饱满。\\n\\n给你这次的作品打5分，非常棒！继续保持这种创作热情，相信你会写出更多优秀的作品。', 'resources': ''}\n"
     ]
    },
    {
     "data": {
      "text/plain": [
       "'你的修改非常成功！新版本不仅保留了原作的简洁明快，还增加了许多生动的细节，使得整个画面更加鲜活有趣。特别是“林间小屋旁，绿草丛中藏”和“红宝石般的眼睛，好奇地四处张望”这两句，不仅增强了画面感，还增添了丰富的想象力。最后加上“是我心中的小宝贝”，表达了对小白兔的喜爱之情，使整首诗的情感更加饱满。\\n\\n给你这次的作品打5分，非常棒！继续保持这种创作热情，相信你会写出更多优秀的作品。'"
      ]
     },
     "execution_count": 5,
     "metadata": {},
     "output_type": "execute_result"
    }
   ],
   "source": [
    "from illufly.chat import FlowAgent, ChatQwen, Selector\n",
    "\n",
    "def should_continue(vars, runs):\n",
    "    print(\"vars: \", vars)\n",
    "    return \"END\" if \"5\" in vars['last_output'] else \"写手\"\n",
    "\n",
    "flow = FlowAgent(\n",
    "    ChatQwen(name=\"写手\"),\n",
    "    ChatQwen(name=\"打分专家\", memory=\"请你对我的作品简单评论，给我的作品打一个分数，从1分至5分，并给出改进意见。\"),\n",
    "    Selector(condition=should_continue)\n",
    ")\n",
    "\n",
    "flow(\"你能帮我写一首关于兔子的四句儿歌?\")"
   ]
  },
  {
   "cell_type": "code",
   "execution_count": 6,
   "id": "02ee25c2-cab1-46ca-9a18-770518e5678d",
   "metadata": {},
   "outputs": [
    {
     "data": {
      "text/plain": [
       "[{'role': 'user', 'content': '你能帮我写一首关于兔子的四句儿歌?'},\n",
       " {'role': 'assistant',\n",
       "  'content': '小兔子，白又白，  \\n蹦蹦跳跳真可爱。  \\n红眼睛，三瓣嘴，  \\n吃起萝卜真灵巧。  \\n\\n这是一首简单的四句儿歌，描述了小白兔的外貌和它吃食物时的样子。希望你会喜欢。蹦蹦跳跳的小兔子是不是也很想让你加入它欢乐的世界呢？'},\n",
       " {'role': 'user',\n",
       "  'content': '4分。这首儿歌简短易懂，生动形象地描绘了小白兔的特征和它吃食的样子，同时也传达了一种欢快的气氛。不过，如果能在内容上再多一些变化或创意，可能会更加吸引人。'},\n",
       " {'role': 'assistant',\n",
       "  'content': '感谢你的评价和建议，我明白了你的需求。让我们再试一次：\\n\\n小白兔，穿花衣，\\n林间草丛做游戏。\\n长耳朵，竖起来，\\n听风听雨听花开。\\n\\n这样的歌词是否有更多的变化和创意呢？希望这次能够更符合你的期待。'}]"
      ]
     },
     "execution_count": 6,
     "metadata": {},
     "output_type": "execute_result"
    }
   ],
   "source": [
    "flow.agents[0].memory"
   ]
  },
  {
   "cell_type": "markdown",
   "id": "9edae2db-0327-4d2a-998f-d47b6fd3efff",
   "metadata": {},
   "source": [
    "## 嵌套 FlowAgent\n",
    "\n",
    "因为 FlowAgent 也是一个 BaseAgent, 并且在实现时支持了对 _last_output 属性的管理，因此支持嵌套使用。"
   ]
  },
  {
   "cell_type": "code",
   "execution_count": 11,
   "id": "015e2af2-266e-47a0-84de-306ac93020c1",
   "metadata": {},
   "outputs": [
    {
     "name": "stdout",
     "output_type": "stream",
     "text": [
      "[AGENT] \u001b[34mSTEP 0 >>> Node 1: 写手\u001b[0m\n",
      "\u001b[32m小\u001b[0m\u001b[32m白\u001b[0m\u001b[32m兔\u001b[0m\u001b[32m白\u001b[0m\u001b[32m又\u001b[0m\u001b[32m白\u001b[0m\u001b[32m,\u001b[0m\u001b[32m两\u001b[0m\u001b[32m只\u001b[0m\u001b[32m耳\u001b[0m\u001b[32m朵\u001b[0m\u001b[32m粘\u001b[0m\u001b[32m一\u001b[0m\u001b[32m块\u001b[0m\n",
      "[AGENT] \u001b[34mSTEP 1 >>> Node 2: FlowAgent.4884221808\u001b[0m\n",
      "[AGENT] \u001b[34mSTEP 0 >>> Node 1: 评论家2\u001b[0m\n",
      "\u001b[32m你\u001b[0m\u001b[32m写\u001b[0m\u001b[32m了\u001b[0m\u001b[32m一\u001b[0m\u001b[32m坨\u001b[0m\u001b[32m垃\u001b[0m\u001b[32m圾\u001b[0m\n",
      "[AGENT] \u001b[34mSTEP 1 >>> Node 2: 打分专家\u001b[0m\n",
      "\u001b[32m3\u001b[0m\u001b[32m分\u001b[0m\u001b[32m。\u001b[0m\u001b[32m我\u001b[0m\u001b[32m胡\u001b[0m\u001b[32m乱\u001b[0m\u001b[32m打\u001b[0m\u001b[32m的\u001b[0m\u001b[32m分\u001b[0m\u001b[32m。\u001b[0m\n"
     ]
    },
    {
     "data": {
      "text/plain": [
       "'3分。我胡乱打的分。'"
      ]
     },
     "execution_count": 11,
     "metadata": {},
     "output_type": "execute_result"
    }
   ],
   "source": [
    "from illufly.chat import FlowAgent, FakeLLM, Selector\n",
    "\n",
    "flow0 = FlowAgent(\n",
    "    Selector([\n",
    "        FakeLLM(name=\"评论家1\", response=\"我觉得你写的不错\"),\n",
    "        FakeLLM(name=\"评论家2\", response=\"你写了一坨垃圾\"),\n",
    "    ], \"random\"),\n",
    "    FakeLLM(name=\"打分专家\", response=\"3分。我胡乱打的分。\")\n",
    ")\n",
    "\n",
    "flow = FlowAgent(\n",
    "    FakeLLM(name=\"写手\", response=[\"小白兔白又白,两只耳朵粘一块\"]),\n",
    "    flow0\n",
    ")\n",
    "\n",
    "flow(\"你能帮我写一首关于兔子做梦的四句儿歌?\", verbose=False)"
   ]
  }
 ],
 "metadata": {
  "kernelspec": {
   "display_name": "Python 3 (ipykernel)",
   "language": "python",
   "name": "python3"
  },
  "language_info": {
   "codemirror_mode": {
    "name": "ipython",
    "version": 3
   },
   "file_extension": ".py",
   "mimetype": "text/x-python",
   "name": "python",
   "nbconvert_exporter": "python",
   "pygments_lexer": "ipython3",
   "version": "3.10.0"
  }
 },
 "nbformat": 4,
 "nbformat_minor": 5
}
