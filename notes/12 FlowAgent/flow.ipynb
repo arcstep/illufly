{
 "cells": [
  {
   "cell_type": "markdown",
   "id": "9b97ccfb-8dc7-4c7c-842b-abf6820769f6",
   "metadata": {},
   "source": [
    "## 多智能体管道"
   ]
  },
  {
   "cell_type": "code",
   "execution_count": 1,
   "id": "a4bbd07f-e12a-40b6-b830-62e21eb90fd0",
   "metadata": {},
   "outputs": [
    {
     "name": "stdout",
     "output_type": "stream",
     "text": [
      "[AGENT] \u001b[34m>>> Node 1: ChatQwen.4469922288\u001b[0m\n",
      "\u001b[32m小\u001b[0m\u001b[32m兔子\u001b[0m\u001b[32m乖乖\u001b[0m\u001b[32m躺\u001b[0m\u001b[32m床上，\n",
      "\n",
      "梦中\u001b[0m\u001b[32m萝卜堆成山\u001b[0m\u001b[32m，\n",
      "\n",
      "月光轻\u001b[0m\u001b[32m抚它耳朵，\n",
      "\n",
      "\u001b[0m\u001b[32m幸福入眠到\u001b[0m\u001b[32m天明。\u001b[0m\u001b[32m\u001b[0m\n",
      "[AGENT] \u001b[34m>>> Node 2: ChatQwen.4743186512\u001b[0m\n",
      "\u001b[32m这首\u001b[0m\u001b[32m小\u001b[0m\u001b[32m诗\u001b[0m\u001b[32m以\u001b[0m\u001b[32m简洁的语言营造了一个\u001b[0m\u001b[32m温馨甜美的画面\u001b[0m\u001b[32m，让人感到宁静\u001b[0m\u001b[32m与幸福。但\u001b[0m\u001b[32m若能加入一些\u001b[0m\u001b[32m更具特色的描绘或\u001b[0m\u001b[32m情感深度，会\u001b[0m\u001b[32m更引人入\u001b[0m\u001b[32m胜。另外，\u001b[0m\u001b[32m可以尝试增加一些\u001b[0m\u001b[32m韵律变化，\u001b[0m\u001b[32m使诗歌读起来\u001b[0m\u001b[32m更加朗朗上\u001b[0m\u001b[32m口。\u001b[0m\u001b[32m\u001b[0m\n",
      "[AGENT] \u001b[34m>>> Node 3: ChatQwen.4743475120\u001b[0m\n",
      "\u001b[32m根据你的\u001b[0m\u001b[32m描述\u001b[0m\u001b[32m，\u001b[0m\u001b[32m我会给这首小\u001b[0m\u001b[32m诗打4分\u001b[0m\u001b[32m。它成功地\u001b[0m\u001b[32m创造了一个温馨甜\u001b[0m\u001b[32m美的场景，给\u001b[0m\u001b[32m读者带来了宁静和\u001b[0m\u001b[32m幸福的感觉。为了\u001b[0m\u001b[32m使作品更加出色\u001b[0m\u001b[32m，可以在特色描绘\u001b[0m\u001b[32m和情感深度上\u001b[0m\u001b[32m进一步加强，并考虑\u001b[0m\u001b[32m引入更多的韵律\u001b[0m\u001b[32m变化。这样的改进\u001b[0m\u001b[32m会使诗歌更具吸引力\u001b[0m\u001b[32m和音乐性。\u001b[0m\u001b[32m\u001b[0m\n"
     ]
    },
    {
     "data": {
      "text/plain": [
       "'根据你的描述，我会给这首小诗打4分。它成功地创造了一个温馨甜美的场景，给读者带来了宁静和幸福的感觉。为了使作品更加出色，可以在特色描绘和情感深度上进一步加强，并考虑引入更多的韵律变化。这样的改进会使诗歌更具吸引力和音乐性。'"
      ]
     },
     "execution_count": 1,
     "metadata": {},
     "output_type": "execute_result"
    }
   ],
   "source": [
    "from illufly.chat import FlowAgent, ChatQwen\n",
    "\n",
    "flow = FlowAgent(\n",
    "    ChatQwen(),\n",
    "    ChatQwen(memory=\"我将告诉你我的写作成果，你负责帮我评价文章特色，说说缺点，两句话即可\"),\n",
    "    ChatQwen(memory=\"我将告诉你我的写作成果，请按照评价打一个分数，从1分至5分\")\n",
    ")\n",
    "\n",
    "flow(\"你能帮我写一首关于兔子做梦的四句儿歌?\")"
   ]
  },
  {
   "cell_type": "code",
   "execution_count": 5,
   "id": "4537cd7e-e18e-4fa7-80cf-180de7a82592",
   "metadata": {},
   "outputs": [
    {
     "data": {
      "text/plain": [
       "{'last_output': '根据您的描述，我会给这首儿歌打4分。儿歌已经能够通过简单的语言创造出一个充满童趣和想象力的梦幻场景，这是非常宝贵的。建议中的改进方向更多是为了锦上添花，让作品更为丰富和完善。如果能够在动词变化和意象丰富性上有所加强，并适当扩展歌词长度，那么这首儿歌将会更加完美。',\n",
       " 'resources': '',\n",
       " 'steps': [],\n",
       " 'task': '你能帮我写一首关于兔子做梦的四句儿歌?'}"
      ]
     },
     "execution_count": 5,
     "metadata": {},
     "output_type": "execute_result"
    }
   ],
   "source": [
    "flow.provider_dict"
   ]
  },
  {
   "cell_type": "code",
   "execution_count": 6,
   "id": "44fbecd9-3bef-4177-9618-ad865befdcc1",
   "metadata": {},
   "outputs": [
    {
     "data": {
      "text/plain": [
       "[{'role': 'system', 'content': '我将告诉你我的写作成果，你负责帮我评价文章特色，说说缺点，两句话即可'},\n",
       " {'role': 'user',\n",
       "  'content': '小兔子乖乖把梦做，\\n\\n棉尾摇摇笑容多，\\n\\n月亮妈妈轻拂过，\\n\\n青草地上舞步和。 \\n\\n（注：此儿歌意为小兔子在月光下甜甜地做着美梦，棉尾巴摇晃，仿佛与月亮和草地共舞。）'},\n",
       " {'role': 'assistant',\n",
       "  'content': '这首儿歌以简洁的语言营造了一个温馨甜美的梦境场景，充满了童趣和想象力。不过，可以考虑增加一些动词的变化或更丰富的意象来增强节奏感和画面感。此外，尝试扩展歌词的长度可能会使故事更加完整，更具吸引力。'}]"
      ]
     },
     "execution_count": 6,
     "metadata": {},
     "output_type": "execute_result"
    }
   ],
   "source": [
    "flow.agents[1].memory"
   ]
  },
  {
   "cell_type": "markdown",
   "id": "c6393119-5133-45ed-b317-f40138ceaaa7",
   "metadata": {},
   "source": [
    "## 带有模板的智能体"
   ]
  },
  {
   "cell_type": "code",
   "execution_count": 1,
   "id": "d47eb92b-5f81-4fff-9557-e6866d7b4724",
   "metadata": {},
   "outputs": [
    {
     "name": "stdout",
     "output_type": "stream",
     "text": [
      "[AGENT] \u001b[34m>>> Node 1: ChatQwen\u001b[0m\n",
      "\u001b[32m小\u001b[0m\u001b[32m兔子\u001b[0m\u001b[32m乖乖\u001b[0m\u001b[32m睡\u001b[0m\u001b[32m，\n",
      "梦中花\u001b[0m\u001b[32m儿开。\n",
      "跳\u001b[0m\u001b[32m过山丘与\u001b[0m\u001b[32m河流，\n",
      "醒来笑容\u001b[0m\u001b[32m在。\u001b[0m\u001b[32m\u001b[0m\n"
     ]
    },
    {
     "data": {
      "text/plain": [
       "'小兔子乖乖睡，\\n梦中花儿开。\\n跳过山丘与河流，\\n醒来笑容在。'"
      ]
     },
     "execution_count": 1,
     "metadata": {},
     "output_type": "execute_result"
    }
   ],
   "source": [
    "from illufly.chat import FlowAgent, ChatQwen\n",
    "from illufly.types import Template\n",
    "\n",
    "flow = FlowAgent(\n",
    "    ChatQwen(memory=[Template(\"IDEA\")]),\n",
    ")\n",
    "\n",
    "flow(\"你能帮我写一首关于兔子做梦的四句儿歌?\")"
   ]
  },
  {
   "cell_type": "code",
   "execution_count": 3,
   "id": "702f4a98-6606-48f1-be66-0183897773d5",
   "metadata": {},
   "outputs": [
    {
     "name": "stdout",
     "output_type": "stream",
     "text": [
      "[AGENT] \u001b[34m>>> Node 1: ChatQwen\u001b[0m\n",
      "\u001b[32m小兔子\u001b[0m\u001b[32m，\u001b[0m\u001b[32m扑\u001b[0m\u001b[32m通跳，水中\u001b[0m\u001b[32m游得快又\u001b[0m\u001b[32m轻。  \n",
      "清澈\u001b[0m\u001b[32m池塘，乐\u001b[0m\u001b[32m悠悠，白绒\u001b[0m\u001b[32m身影点点浮\u001b[0m\u001b[32m。  \n",
      "耳旁\u001b[0m\u001b[32m风，哗啦\u001b[0m\u001b[32m啦，夏日清凉\u001b[0m\u001b[32m乐无边。\u001b[0m\u001b[32m\u001b[0m\n"
     ]
    },
    {
     "data": {
      "text/plain": [
       "[{'role': 'system',\n",
       "  'content': '你是强大的写作助手。\\n\\n你必须遵循以下约束来完成任务:\\n1. 直接输出你的结果，不要评论，不要啰嗦\\n2. 使用markdown格式输出\\n\\n**你的任务是:**\\n你能帮我写一首关于兔子游泳的3句儿歌?\\n'},\n",
       " {'role': 'user', 'content': '请开始'},\n",
       " {'role': 'assistant',\n",
       "  'content': '小兔子，扑通跳，水中游得快又轻。  \\n清澈池塘，乐悠悠，白绒身影点点浮。  \\n耳旁风，哗啦啦，夏日清凉乐无边。'}]"
      ]
     },
     "execution_count": 3,
     "metadata": {},
     "output_type": "execute_result"
    }
   ],
   "source": [
    "flow(\"你能帮我写一首关于兔子游泳的3句儿歌?\")\n",
    "flow.agents[0].memory"
   ]
  },
  {
   "cell_type": "markdown",
   "id": "f1650e89-4f2c-4157-9741-c9ea6c07a4ad",
   "metadata": {},
   "source": [
    "## 条件分支：选择一种路径"
   ]
  },
  {
   "cell_type": "code",
   "execution_count": 10,
   "id": "cd19e3e4-3259-40ee-badb-ed126b213f70",
   "metadata": {},
   "outputs": [
    {
     "name": "stdout",
     "output_type": "stream",
     "text": [
      "[AGENT] \u001b[34mSTEP 0 >>> Node 1: 写手\u001b[0m\n",
      "\u001b[32m小\u001b[0m\u001b[32m白\u001b[0m\u001b[32m兔\u001b[0m\u001b[32m白\u001b[0m\u001b[32m又\u001b[0m\u001b[32m白\u001b[0m\u001b[32m,\u001b[0m\u001b[32m两\u001b[0m\u001b[32m只\u001b[0m\u001b[32m耳\u001b[0m\u001b[32m朵\u001b[0m\u001b[32m粘\u001b[0m\u001b[32m一\u001b[0m\u001b[32m块\u001b[0m\n",
      "[AGENT] \u001b[34mSTEP 1 >>> Node 2: 评论家1\u001b[0m\n",
      "\u001b[32m我\u001b[0m\u001b[32m觉\u001b[0m\u001b[32m得\u001b[0m\u001b[32m你\u001b[0m\u001b[32m写\u001b[0m\u001b[32m的\u001b[0m\u001b[32m不\u001b[0m\u001b[32m错\u001b[0m\n",
      "[AGENT] \u001b[34mSTEP 2 >>> Node 3: 打分专家\u001b[0m\n",
      "\u001b[32m3\u001b[0m\u001b[32m分\u001b[0m\u001b[32m。\u001b[0m\u001b[32m我\u001b[0m\u001b[32m胡\u001b[0m\u001b[32m乱\u001b[0m\u001b[32m打\u001b[0m\u001b[32m的\u001b[0m\u001b[32m分\u001b[0m\u001b[32m。\u001b[0m\n"
     ]
    },
    {
     "data": {
      "text/plain": [
       "'3分。我胡乱打的分。'"
      ]
     },
     "execution_count": 10,
     "metadata": {},
     "output_type": "execute_result"
    }
   ],
   "source": [
    "from illufly.chat import FlowAgent, FakeLLM, Selector\n",
    "\n",
    "flow = FlowAgent(\n",
    "    FakeLLM(name=\"写手\", response=[\"小白兔白又白,两只耳朵粘一块\"]),\n",
    "    Selector([\n",
    "        FakeLLM(name=\"评论家1\", response=\"我觉得你写的不错\"),\n",
    "        FakeLLM(name=\"评论家2\", response=\"你写了一坨垃圾\"),\n",
    "    ], \"random\"),\n",
    "    FakeLLM(name=\"打分专家\", response=\"3分。我胡乱打的分。\")\n",
    ")\n",
    "\n",
    "flow(\"你能帮我写一首关于兔子做梦的四句儿歌?\", verbose=False)"
   ]
  },
  {
   "cell_type": "code",
   "execution_count": 27,
   "id": "9e91a985-8890-4cb6-ae47-ecb9a3b43187",
   "metadata": {},
   "outputs": [
    {
     "name": "stdout",
     "output_type": "stream",
     "text": [
      "\u001b[32m我\u001b[0m\u001b[32m觉\u001b[0m\u001b[32m得\u001b[0m\u001b[32m你\u001b[0m\u001b[32m写\u001b[0m\u001b[32m的\u001b[0m\u001b[32m不\u001b[0m\u001b[32m错\u001b[0m"
     ]
    },
    {
     "data": {
      "text/plain": [
       "'我觉得你写的不错'"
      ]
     },
     "execution_count": 27,
     "metadata": {},
     "output_type": "execute_result"
    }
   ],
   "source": [
    "s = Selector([\n",
    "        FakeLLM(name=\"评论家1\", response=\"我觉得你写的不错\"),\n",
    "        FakeLLM(name=\"评论家2\", response=\"你写了一坨垃圾\")\n",
    "    ])\n",
    "s.selected(\"hi\")"
   ]
  },
  {
   "cell_type": "markdown",
   "id": "436fcc41-4b5f-430f-b62a-ac1315d6ec9e",
   "metadata": {},
   "source": [
    "## 支持循环和退出：创作和打分互动"
   ]
  },
  {
   "cell_type": "code",
   "execution_count": 1,
   "id": "733c6020-a104-4528-a2fb-4a5f4a9344fe",
   "metadata": {},
   "outputs": [
    {
     "name": "stdout",
     "output_type": "stream",
     "text": [
      "[AGENT] \u001b[34m(STEP 0) >>> Node 1: 写手\u001b[0m\n",
      "\u001b[32m你\u001b[0m\u001b[32m能\u001b[0m\u001b[32m帮\u001b[0m\u001b[32m我\u001b[0m\u001b[32m写\u001b[0m\u001b[32m一\u001b[0m\u001b[32m首\u001b[0m\u001b[32m关\u001b[0m\u001b[32m于\u001b[0m\u001b[32m兔\u001b[0m\u001b[32m子\u001b[0m\u001b[32m的\u001b[0m\u001b[32m四\u001b[0m\u001b[32m句\u001b[0m\u001b[32m儿\u001b[0m\u001b[32m歌\u001b[0m\u001b[32m?\u001b[0m[AGENT] \u001b[34m(STEP 1) >>> Node 2: 打分专家\u001b[0m\n",
      "\u001b[32m1\u001b[0m\u001b[32m分\u001b[0m[AGENT] \u001b[34m(STEP 2) >>> Node 1: 写手\u001b[0m\n",
      "\u001b[32m1\u001b[0m\u001b[32m分\u001b[0m[AGENT] \u001b[34m(STEP 3) >>> Node 2: 打分专家\u001b[0m\n",
      "\u001b[32m3\u001b[0m\u001b[32m分\u001b[0m[AGENT] \u001b[34m(STEP 4) >>> Node 1: 写手\u001b[0m\n",
      "\u001b[32m3\u001b[0m\u001b[32m分\u001b[0m[AGENT] \u001b[34m(STEP 5) >>> Node 2: 打分专家\u001b[0m\n",
      "\u001b[32m5\u001b[0m\u001b[32m分\u001b[0m"
     ]
    },
    {
     "data": {
      "text/plain": [
       "'5分'"
      ]
     },
     "execution_count": 1,
     "metadata": {},
     "output_type": "execute_result"
    }
   ],
   "source": [
    "from illufly.chat import FlowAgent, FakeLLM, Selector\n",
    "\n",
    "def should_continue(vars, runs):\n",
    "    return \"END\" if \"5分\" in vars['last_output'] else \"写手\"\n",
    "\n",
    "flow = FlowAgent(\n",
    "    FakeLLM(name=\"写手\", sleep=0),\n",
    "    FakeLLM(name=\"打分专家\", sleep=0.001, response=[\"1分\", \"3分\", \"5分\"]),\n",
    "    Selector(condition=should_continue)\n",
    ")\n",
    "\n",
    "flow(\"你能帮我写一首关于兔子的四句儿歌?\")"
   ]
  },
  {
   "cell_type": "code",
   "execution_count": 1,
   "id": "d7442d05-fd2b-4a3e-a10d-c9a09362603e",
   "metadata": {},
   "outputs": [
    {
     "name": "stdout",
     "output_type": "stream",
     "text": [
      "[AGENT] \u001b[34m(STEP 0) >>> Node 1: 写手\u001b[0m\n",
      "\u001b[32m小兔子\u001b[0m\u001b[32m，\u001b[0m\u001b[32m白\u001b[0m\u001b[32m又胖，  \n",
      "\u001b[0m\u001b[32m长耳朵，红\u001b[0m\u001b[32m眼睛。  \n",
      "蹦\u001b[0m\u001b[32m蹦跳跳真\u001b[0m\u001b[32m灵活，  \n",
      "胡萝卜\u001b[0m\u001b[32m里找乐趣。\u001b[0m\u001b[32m  \n",
      "\n",
      "这是一首\u001b[0m\u001b[32m简单的四句儿\u001b[0m\u001b[32m歌，描述了\u001b[0m\u001b[32m兔子的外观特征\u001b[0m\u001b[32m和它喜欢的食物\u001b[0m\u001b[32m。希望你会喜欢\u001b[0m\u001b[32m！\u001b[0m\u001b[32m\u001b[0m\n",
      "[AGENT] \u001b[34m(STEP 1) >>> Node 2: 打分专家\u001b[0m\n",
      "\u001b[32m3分\u001b[0m\u001b[32m\n",
      "\n",
      "\u001b[0m\u001b[32m这首\u001b[0m\u001b[32m儿歌简单地\u001b[0m\u001b[32m描述了兔子的特点\u001b[0m\u001b[32m和行为，但是\u001b[0m\u001b[32m可以考虑增加一些\u001b[0m\u001b[32m生动的细节或\u001b[0m\u001b[32m变化来提升趣味\u001b[0m\u001b[32m性和韵律感\u001b[0m\u001b[32m。\u001b[0m\u001b[32m\u001b[0m\n",
      "[AGENT] \u001b[34m(STEP 2) >>> Node 1: 写手\u001b[0m\n",
      "\u001b[32m感谢你的\u001b[0m\u001b[32m评分\u001b[0m\u001b[32m和\u001b[0m\u001b[32m反馈！我们可以尝试\u001b[0m\u001b[32m调整一下，让\u001b[0m\u001b[32m儿歌更加生动\u001b[0m\u001b[32m有趣：\n",
      "\n",
      "小兔子\u001b[0m\u001b[32m，白又软\u001b[0m\u001b[32m，\n",
      "长耳垂\u001b[0m\u001b[32m，红眼闪\u001b[0m\u001b[32m。\n",
      "轻盈跳跃\u001b[0m\u001b[32m草地上，\n",
      "胡萝卜\u001b[0m\u001b[32m田乐无边\u001b[0m\u001b[32m。\n",
      "\n",
      "希望这个版本\u001b[0m\u001b[32m能更符合你的\u001b[0m\u001b[32m期望！如果还有\u001b[0m\u001b[32m其他需求或想要\u001b[0m\u001b[32m调整的地方，请随时\u001b[0m\u001b[32m告诉我。\u001b[0m\u001b[32m\u001b[0m\n",
      "[AGENT] \u001b[34m(STEP 3) >>> Node 2: 打分专家\u001b[0m\n",
      "\u001b[32m4\u001b[0m\u001b[32m分\u001b[0m\u001b[32m\n",
      "\n",
      "\u001b[0m\u001b[32m这个\u001b[0m\u001b[32m版本增加了对兔子\u001b[0m\u001b[32m毛发质感的\u001b[0m\u001b[32m描述，并且通过\u001b[0m\u001b[32m“红眼闪\u001b[0m\u001b[32m”增强了形象的\u001b[0m\u001b[32m生动性。同时\u001b[0m\u001b[32m，“轻盈跳跃\u001b[0m\u001b[32m草地上”这一\u001b[0m\u001b[32m句更好地展现了兔子\u001b[0m\u001b[32m活泼的形象。继续保持\u001b[0m\u001b[32m这种改进，可以使\u001b[0m\u001b[32m儿歌更加吸引\u001b[0m\u001b[32m人。很好！\u001b[0m\u001b[32m继续加油！\u001b[0m\u001b[32m\u001b[0m\n",
      "[AGENT] \u001b[34m(STEP 4) >>> Node 1: 写手\u001b[0m\n",
      "\u001b[32m非常感谢\u001b[0m\u001b[32m你的\u001b[0m\u001b[32m详细\u001b[0m\u001b[32m反馈和鼓励！\u001b[0m\u001b[32m我会继续努力改进\u001b[0m\u001b[32m。如果你有任何进一步\u001b[0m\u001b[32m的要求或想法，\u001b[0m\u001b[32m欢迎随时告诉我。\u001b[0m\u001b[32m这里还有一个版本，\u001b[0m\u001b[32m希望能更符合你的\u001b[0m\u001b[32m期待：\n",
      "\n",
      "小兔子\u001b[0m\u001b[32m，白又软\u001b[0m\u001b[32m，\n",
      "长耳垂\u001b[0m\u001b[32m，红眼闪\u001b[0m\u001b[32m。\n",
      "轻盈跳跃\u001b[0m\u001b[32m草地上，\n",
      "胡萝卜\u001b[0m\u001b[32m田笑声甜。\n",
      "\n",
      "\u001b[0m\u001b[32m希望这个版本能\u001b[0m\u001b[32m让你更加满意！\u001b[0m\u001b[32m如果你还有其他建议\u001b[0m\u001b[32m或需要调整的地方\u001b[0m\u001b[32m，请随时告诉我。\u001b[0m\u001b[32m\u001b[0m\n",
      "[AGENT] \u001b[34m(STEP 5) >>> Node 2: 打分专家\u001b[0m\n",
      "\u001b[32m5\u001b[0m\u001b[32m分\u001b[0m\u001b[32m\n",
      "\n",
      "\u001b[0m\u001b[32m这个\u001b[0m\u001b[32m版本在保持原有\u001b[0m\u001b[32m生动形象的基础上，\u001b[0m\u001b[32m加入了“胡萝卜田\u001b[0m\u001b[32m笑声甜”这样\u001b[0m\u001b[32m富有情感和场景\u001b[0m\u001b[32m感的描述，\u001b[0m\u001b[32m使整首儿\u001b[0m\u001b[32m歌更加完整和\u001b[0m\u001b[32m吸引人。非常好\u001b[0m\u001b[32m！\u001b[0m\u001b[32m\u001b[0m\n"
     ]
    },
    {
     "data": {
      "text/plain": [
       "'5分\\n\\n这个版本在保持原有生动形象的基础上，加入了“胡萝卜田笑声甜”这样富有情感和场景感的描述，使整首儿歌更加完整和吸引人。非常好！'"
      ]
     },
     "execution_count": 1,
     "metadata": {},
     "output_type": "execute_result"
    }
   ],
   "source": [
    "from illufly.chat import FlowAgent, ChatQwen, Selector\n",
    "\n",
    "def should_continue(vars, runs):\n",
    "    return \"END\" if \"5分\" in vars['last_output'] else \"写手\"\n",
    "\n",
    "flow = FlowAgent(\n",
    "    ChatQwen(name=\"写手\"),\n",
    "    ChatQwen(name=\"打分专家\", memory=\"我告诉你我的写作成果，请给我的作品打一个分数，从1分至5分。直接给分数。\"),\n",
    "    Selector(condition=should_continue)\n",
    ")\n",
    "\n",
    "flow(\"你能帮我写一首关于兔子的四句儿歌?\")"
   ]
  },
  {
   "cell_type": "code",
   "execution_count": 2,
   "id": "02ee25c2-cab1-46ca-9a18-770518e5678d",
   "metadata": {},
   "outputs": [
    {
     "data": {
      "text/plain": [
       "[{'role': 'user', 'content': '你能帮我写一首关于兔子的四句儿歌?'},\n",
       " {'role': 'assistant',\n",
       "  'content': '小兔子，白又胖，  \\n长耳朵，红眼睛。  \\n蹦蹦跳跳真灵活，  \\n胡萝卜里找乐趣。  \\n\\n这是一首简单的四句儿歌，描述了兔子的外观特征和它喜欢的食物。希望你会喜欢！'},\n",
       " {'role': 'user',\n",
       "  'content': '3分\\n\\n这首儿歌简单地描述了兔子的特点和行为，但是可以考虑增加一些生动的细节或变化来提升趣味性和韵律感。'},\n",
       " {'role': 'assistant',\n",
       "  'content': '感谢你的评分和反馈！我们可以尝试调整一下，让儿歌更加生动有趣：\\n\\n小兔子，白又软，\\n长耳垂，红眼闪。\\n轻盈跳跃草地上，\\n胡萝卜田乐无边。\\n\\n希望这个版本能更符合你的期望！如果还有其他需求或想要调整的地方，请随时告诉我。'},\n",
       " {'role': 'user',\n",
       "  'content': '4分\\n\\n这个版本增加了对兔子毛发质感的描述，并且通过“红眼闪”增强了形象的生动性。同时，“轻盈跳跃草地上”这一句更好地展现了兔子活泼的形象。继续保持这种改进，可以使儿歌更加吸引人。很好！继续加油！'},\n",
       " {'role': 'assistant',\n",
       "  'content': '非常感谢你的详细反馈和鼓励！我会继续努力改进。如果你有任何进一步的要求或想法，欢迎随时告诉我。这里还有一个版本，希望能更符合你的期待：\\n\\n小兔子，白又软，\\n长耳垂，红眼闪。\\n轻盈跳跃草地上，\\n胡萝卜田笑声甜。\\n\\n希望这个版本能让你更加满意！如果你还有其他建议或需要调整的地方，请随时告诉我。'}]"
      ]
     },
     "execution_count": 2,
     "metadata": {},
     "output_type": "execute_result"
    }
   ],
   "source": [
    "flow.agents[0].memory"
   ]
  },
  {
   "cell_type": "markdown",
   "id": "9edae2db-0327-4d2a-998f-d47b6fd3efff",
   "metadata": {},
   "source": [
    "## 嵌套"
   ]
  },
  {
   "cell_type": "markdown",
   "id": "f084d7c1-f4b8-4706-a773-58b0f8edafc0",
   "metadata": {},
   "source": [
    "## 推理逻辑"
   ]
  },
  {
   "cell_type": "markdown",
   "id": "b1040a96-ee11-4325-9229-639423ce92a3",
   "metadata": {},
   "source": [
    "### ReAct"
   ]
  },
  {
   "cell_type": "markdown",
   "id": "8137c96c-dbf6-4a36-a0f6-7ad27b83fe97",
   "metadata": {},
   "source": [
    "### ReWoo"
   ]
  },
  {
   "cell_type": "code",
   "execution_count": null,
   "id": "725eabd3-ff0f-48ef-b8aa-d6588d43f178",
   "metadata": {},
   "outputs": [],
   "source": []
  }
 ],
 "metadata": {
  "kernelspec": {
   "display_name": "Python 3 (ipykernel)",
   "language": "python",
   "name": "python3"
  },
  "language_info": {
   "codemirror_mode": {
    "name": "ipython",
    "version": 3
   },
   "file_extension": ".py",
   "mimetype": "text/x-python",
   "name": "python",
   "nbconvert_exporter": "python",
   "pygments_lexer": "ipython3",
   "version": "3.10.0"
  }
 },
 "nbformat": 4,
 "nbformat_minor": 5
}
