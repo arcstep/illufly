{
 "cells": [
  {
   "cell_type": "markdown",
   "id": "9b97ccfb-8dc7-4c7c-842b-abf6820769f6",
   "metadata": {},
   "source": [
    "## 多智能体管道"
   ]
  },
  {
   "cell_type": "code",
   "execution_count": 1,
   "id": "a4bbd07f-e12a-40b6-b830-62e21eb90fd0",
   "metadata": {},
   "outputs": [
    {
     "name": "stdout",
     "output_type": "stream",
     "text": [
      "[AGENT] \u001b[34m>>> Node 1: ChatQwen.4469922288\u001b[0m\n",
      "\u001b[32m小\u001b[0m\u001b[32m兔子\u001b[0m\u001b[32m乖乖\u001b[0m\u001b[32m躺\u001b[0m\u001b[32m床上，\n",
      "\n",
      "梦中\u001b[0m\u001b[32m萝卜堆成山\u001b[0m\u001b[32m，\n",
      "\n",
      "月光轻\u001b[0m\u001b[32m抚它耳朵，\n",
      "\n",
      "\u001b[0m\u001b[32m幸福入眠到\u001b[0m\u001b[32m天明。\u001b[0m\u001b[32m\u001b[0m\n",
      "[AGENT] \u001b[34m>>> Node 2: ChatQwen.4743186512\u001b[0m\n",
      "\u001b[32m这首\u001b[0m\u001b[32m小\u001b[0m\u001b[32m诗\u001b[0m\u001b[32m以\u001b[0m\u001b[32m简洁的语言营造了一个\u001b[0m\u001b[32m温馨甜美的画面\u001b[0m\u001b[32m，让人感到宁静\u001b[0m\u001b[32m与幸福。但\u001b[0m\u001b[32m若能加入一些\u001b[0m\u001b[32m更具特色的描绘或\u001b[0m\u001b[32m情感深度，会\u001b[0m\u001b[32m更引人入\u001b[0m\u001b[32m胜。另外，\u001b[0m\u001b[32m可以尝试增加一些\u001b[0m\u001b[32m韵律变化，\u001b[0m\u001b[32m使诗歌读起来\u001b[0m\u001b[32m更加朗朗上\u001b[0m\u001b[32m口。\u001b[0m\u001b[32m\u001b[0m\n",
      "[AGENT] \u001b[34m>>> Node 3: ChatQwen.4743475120\u001b[0m\n",
      "\u001b[32m根据你的\u001b[0m\u001b[32m描述\u001b[0m\u001b[32m，\u001b[0m\u001b[32m我会给这首小\u001b[0m\u001b[32m诗打4分\u001b[0m\u001b[32m。它成功地\u001b[0m\u001b[32m创造了一个温馨甜\u001b[0m\u001b[32m美的场景，给\u001b[0m\u001b[32m读者带来了宁静和\u001b[0m\u001b[32m幸福的感觉。为了\u001b[0m\u001b[32m使作品更加出色\u001b[0m\u001b[32m，可以在特色描绘\u001b[0m\u001b[32m和情感深度上\u001b[0m\u001b[32m进一步加强，并考虑\u001b[0m\u001b[32m引入更多的韵律\u001b[0m\u001b[32m变化。这样的改进\u001b[0m\u001b[32m会使诗歌更具吸引力\u001b[0m\u001b[32m和音乐性。\u001b[0m\u001b[32m\u001b[0m\n"
     ]
    },
    {
     "data": {
      "text/plain": [
       "'根据你的描述，我会给这首小诗打4分。它成功地创造了一个温馨甜美的场景，给读者带来了宁静和幸福的感觉。为了使作品更加出色，可以在特色描绘和情感深度上进一步加强，并考虑引入更多的韵律变化。这样的改进会使诗歌更具吸引力和音乐性。'"
      ]
     },
     "execution_count": 1,
     "metadata": {},
     "output_type": "execute_result"
    }
   ],
   "source": [
    "from illufly.chat import FlowAgent, ChatQwen\n",
    "\n",
    "flow = FlowAgent(\n",
    "    ChatQwen(),\n",
    "    ChatQwen(memory=\"我将告诉你我的写作成果，你负责帮我评价文章特色，说说缺点，两句话即可\"),\n",
    "    ChatQwen(memory=\"我将告诉你我的写作成果，请按照评价打一个分数，从1分至5分\")\n",
    ")\n",
    "\n",
    "flow(\"你能帮我写一首关于兔子做梦的四句儿歌?\")"
   ]
  },
  {
   "cell_type": "code",
   "execution_count": 5,
   "id": "4537cd7e-e18e-4fa7-80cf-180de7a82592",
   "metadata": {},
   "outputs": [
    {
     "data": {
      "text/plain": [
       "{'last_output': '根据您的描述，我会给这首儿歌打4分。儿歌已经能够通过简单的语言创造出一个充满童趣和想象力的梦幻场景，这是非常宝贵的。建议中的改进方向更多是为了锦上添花，让作品更为丰富和完善。如果能够在动词变化和意象丰富性上有所加强，并适当扩展歌词长度，那么这首儿歌将会更加完美。',\n",
       " 'resources': '',\n",
       " 'steps': [],\n",
       " 'task': '你能帮我写一首关于兔子做梦的四句儿歌?'}"
      ]
     },
     "execution_count": 5,
     "metadata": {},
     "output_type": "execute_result"
    }
   ],
   "source": [
    "flow.provider_dict"
   ]
  },
  {
   "cell_type": "code",
   "execution_count": 6,
   "id": "44fbecd9-3bef-4177-9618-ad865befdcc1",
   "metadata": {},
   "outputs": [
    {
     "data": {
      "text/plain": [
       "[{'role': 'system', 'content': '我将告诉你我的写作成果，你负责帮我评价文章特色，说说缺点，两句话即可'},\n",
       " {'role': 'user',\n",
       "  'content': '小兔子乖乖把梦做，\\n\\n棉尾摇摇笑容多，\\n\\n月亮妈妈轻拂过，\\n\\n青草地上舞步和。 \\n\\n（注：此儿歌意为小兔子在月光下甜甜地做着美梦，棉尾巴摇晃，仿佛与月亮和草地共舞。）'},\n",
       " {'role': 'assistant',\n",
       "  'content': '这首儿歌以简洁的语言营造了一个温馨甜美的梦境场景，充满了童趣和想象力。不过，可以考虑增加一些动词的变化或更丰富的意象来增强节奏感和画面感。此外，尝试扩展歌词的长度可能会使故事更加完整，更具吸引力。'}]"
      ]
     },
     "execution_count": 6,
     "metadata": {},
     "output_type": "execute_result"
    }
   ],
   "source": [
    "flow.agents[1].memory"
   ]
  },
  {
   "cell_type": "markdown",
   "id": "c6393119-5133-45ed-b317-f40138ceaaa7",
   "metadata": {},
   "source": [
    "## 带有模板的智能体"
   ]
  },
  {
   "cell_type": "code",
   "execution_count": 1,
   "id": "d47eb92b-5f81-4fff-9557-e6866d7b4724",
   "metadata": {},
   "outputs": [
    {
     "name": "stdout",
     "output_type": "stream",
     "text": [
      "[AGENT] \u001b[34m>>> Node 1: ChatQwen\u001b[0m\n",
      "\u001b[32m小\u001b[0m\u001b[32m兔子\u001b[0m\u001b[32m乖乖\u001b[0m\u001b[32m睡\u001b[0m\u001b[32m，\n",
      "梦中花\u001b[0m\u001b[32m儿开。\n",
      "跳\u001b[0m\u001b[32m过山丘与\u001b[0m\u001b[32m河流，\n",
      "醒来笑容\u001b[0m\u001b[32m在。\u001b[0m\u001b[32m\u001b[0m\n"
     ]
    },
    {
     "data": {
      "text/plain": [
       "'小兔子乖乖睡，\\n梦中花儿开。\\n跳过山丘与河流，\\n醒来笑容在。'"
      ]
     },
     "execution_count": 1,
     "metadata": {},
     "output_type": "execute_result"
    }
   ],
   "source": [
    "from illufly.chat import FlowAgent, ChatQwen\n",
    "from illufly.types import PromptTemplate\n",
    "\n",
    "flow = FlowAgent(\n",
    "    ChatQwen(memory=[PromptTemplate(\"IDEA\")]),\n",
    ")\n",
    "\n",
    "flow(\"你能帮我写一首关于兔子做梦的四句儿歌?\")"
   ]
  },
  {
   "cell_type": "code",
   "execution_count": 3,
   "id": "702f4a98-6606-48f1-be66-0183897773d5",
   "metadata": {},
   "outputs": [
    {
     "name": "stdout",
     "output_type": "stream",
     "text": [
      "[AGENT] \u001b[34m>>> Node 1: ChatQwen\u001b[0m\n",
      "\u001b[32m小兔子\u001b[0m\u001b[32m，\u001b[0m\u001b[32m扑\u001b[0m\u001b[32m通跳，水中\u001b[0m\u001b[32m游得快又\u001b[0m\u001b[32m轻。  \n",
      "清澈\u001b[0m\u001b[32m池塘，乐\u001b[0m\u001b[32m悠悠，白绒\u001b[0m\u001b[32m身影点点浮\u001b[0m\u001b[32m。  \n",
      "耳旁\u001b[0m\u001b[32m风，哗啦\u001b[0m\u001b[32m啦，夏日清凉\u001b[0m\u001b[32m乐无边。\u001b[0m\u001b[32m\u001b[0m\n"
     ]
    },
    {
     "data": {
      "text/plain": [
       "[{'role': 'system',\n",
       "  'content': '你是强大的写作助手。\\n\\n你必须遵循以下约束来完成任务:\\n1. 直接输出你的结果，不要评论，不要啰嗦\\n2. 使用markdown格式输出\\n\\n**你的任务是:**\\n你能帮我写一首关于兔子游泳的3句儿歌?\\n'},\n",
       " {'role': 'user', 'content': '请开始'},\n",
       " {'role': 'assistant',\n",
       "  'content': '小兔子，扑通跳，水中游得快又轻。  \\n清澈池塘，乐悠悠，白绒身影点点浮。  \\n耳旁风，哗啦啦，夏日清凉乐无边。'}]"
      ]
     },
     "execution_count": 3,
     "metadata": {},
     "output_type": "execute_result"
    }
   ],
   "source": [
    "flow(\"你能帮我写一首关于兔子游泳的3句儿歌?\")\n",
    "flow.agents[0].memory"
   ]
  },
  {
   "cell_type": "markdown",
   "id": "f1650e89-4f2c-4157-9741-c9ea6c07a4ad",
   "metadata": {},
   "source": [
    "## 条件分支：选择一种路径"
   ]
  },
  {
   "cell_type": "code",
   "execution_count": 1,
   "id": "cd19e3e4-3259-40ee-badb-ed126b213f70",
   "metadata": {},
   "outputs": [
    {
     "name": "stdout",
     "output_type": "stream",
     "text": [
      "[AGENT] \u001b[34mSTEP 1 >>> Node 1: 写手\u001b[0m\n",
      "\u001b[32m小\u001b[0m\u001b[32m白\u001b[0m\u001b[32m兔\u001b[0m\u001b[32m白\u001b[0m\u001b[32m又\u001b[0m\u001b[32m白\u001b[0m\u001b[32m,\u001b[0m\u001b[32m两\u001b[0m\u001b[32m只\u001b[0m\u001b[32m耳\u001b[0m\u001b[32m朵\u001b[0m\u001b[32m粘\u001b[0m\u001b[32m一\u001b[0m\u001b[32m块\u001b[0m\n",
      "[AGENT] \u001b[34mSTEP 2 >>> Node 2: 评论家2\u001b[0m\n",
      "\u001b[32m你\u001b[0m\u001b[32m写\u001b[0m\u001b[32m了\u001b[0m\u001b[32m一\u001b[0m\u001b[32m坨\u001b[0m\u001b[32m垃\u001b[0m\u001b[32m圾\u001b[0m\n",
      "[AGENT] \u001b[34mSTEP 3 >>> Node 3: 打分专家\u001b[0m\n",
      "\u001b[32m3\u001b[0m\u001b[32m分\u001b[0m\u001b[32m。\u001b[0m\u001b[32m我\u001b[0m\u001b[32m胡\u001b[0m\u001b[32m乱\u001b[0m\u001b[32m打\u001b[0m\u001b[32m的\u001b[0m\u001b[32m分\u001b[0m\u001b[32m。\u001b[0m\n"
     ]
    },
    {
     "data": {
      "text/plain": [
       "'3分。我胡乱打的分。'"
      ]
     },
     "execution_count": 1,
     "metadata": {},
     "output_type": "execute_result"
    }
   ],
   "source": [
    "from illufly.chat import FlowAgent, FakeLLM, Selector\n",
    "\n",
    "flow = FlowAgent(\n",
    "    FakeLLM(name=\"写手\", response=[\"小白兔白又白,两只耳朵粘一块\"]),\n",
    "    Selector([\n",
    "        FakeLLM(name=\"评论家1\", response=\"我觉得你写的不错\"),\n",
    "        FakeLLM(name=\"评论家2\", response=\"你写了一坨垃圾\"),\n",
    "    ], \"random\"),\n",
    "    FakeLLM(name=\"打分专家\", response=\"3分。我胡乱打的分。\")\n",
    ")\n",
    "\n",
    "flow(\"你能帮我写一首关于兔子做梦的四句儿歌?\", verbose=False)"
   ]
  },
  {
   "cell_type": "code",
   "execution_count": 2,
   "id": "9e91a985-8890-4cb6-ae47-ecb9a3b43187",
   "metadata": {},
   "outputs": [
    {
     "name": "stdout",
     "output_type": "stream",
     "text": [
      "\u001b[32m我\u001b[0m\u001b[32m觉\u001b[0m\u001b[32m得\u001b[0m\u001b[32m你\u001b[0m\u001b[32m写\u001b[0m\u001b[32m的\u001b[0m\u001b[32m不\u001b[0m\u001b[32m错\u001b[0m\n"
     ]
    },
    {
     "data": {
      "text/plain": [
       "'我觉得你写的不错'"
      ]
     },
     "execution_count": 2,
     "metadata": {},
     "output_type": "execute_result"
    }
   ],
   "source": [
    "s = Selector([\n",
    "        FakeLLM(name=\"评论家1\", response=\"我觉得你写的不错\"),\n",
    "        FakeLLM(name=\"评论家2\", response=\"你写了一坨垃圾\")\n",
    "    ])\n",
    "s.selected(\"hi\")"
   ]
  },
  {
   "cell_type": "markdown",
   "id": "436fcc41-4b5f-430f-b62a-ac1315d6ec9e",
   "metadata": {},
   "source": [
    "## 支持循环和退出：创作和打分互动\n",
    "\n",
    "**退出机制在于 Selector 节点是否返回 END 字符串。**<br>\n",
    "下面实现了典型的机制，其要点在于 Selector 条件函数针对前面节点的 _last_output 属性做检查。"
   ]
  },
  {
   "cell_type": "code",
   "execution_count": 4,
   "id": "733c6020-a104-4528-a2fb-4a5f4a9344fe",
   "metadata": {},
   "outputs": [
    {
     "name": "stdout",
     "output_type": "stream",
     "text": [
      "[AGENT] \u001b[34mSTEP 1 >>> Node 1: 写手\u001b[0m\n",
      "\u001b[32m你\u001b[0m\u001b[32m能\u001b[0m\u001b[32m帮\u001b[0m\u001b[32m我\u001b[0m\u001b[32m写\u001b[0m\u001b[32m一\u001b[0m\u001b[32m首\u001b[0m\u001b[32m关\u001b[0m\u001b[32m于\u001b[0m\u001b[32m兔\u001b[0m\u001b[32m子\u001b[0m\u001b[32m的\u001b[0m\u001b[32m四\u001b[0m\u001b[32m句\u001b[0m\u001b[32m儿\u001b[0m\u001b[32m歌\u001b[0m\u001b[32m?\u001b[0m\n",
      "[AGENT] \u001b[34mSTEP 2 >>> Node 2: 打分专家\u001b[0m\n",
      "\u001b[32m1\u001b[0m\u001b[32m分\u001b[0m\n",
      "vars:  {'last_output': '1分', 'resources': ''}\n",
      "[AGENT] \u001b[34mSTEP 3 >>> Node 1: 写手\u001b[0m\n",
      "\u001b[32m1\u001b[0m\u001b[32m分\u001b[0m\n",
      "[AGENT] \u001b[34mSTEP 4 >>> Node 2: 打分专家\u001b[0m\n",
      "\u001b[32m3\u001b[0m\u001b[32m分\u001b[0m\n",
      "vars:  {'last_output': '3分', 'resources': ''}\n",
      "[AGENT] \u001b[34mSTEP 5 >>> Node 1: 写手\u001b[0m\n",
      "\u001b[32m3\u001b[0m\u001b[32m分\u001b[0m\n",
      "[AGENT] \u001b[34mSTEP 6 >>> Node 2: 打分专家\u001b[0m\n",
      "\u001b[32m5\u001b[0m\u001b[32m分\u001b[0m\n",
      "vars:  {'last_output': '5分', 'resources': ''}\n"
     ]
    },
    {
     "data": {
      "text/plain": [
       "'5分'"
      ]
     },
     "execution_count": 4,
     "metadata": {},
     "output_type": "execute_result"
    }
   ],
   "source": [
    "from illufly.chat import FlowAgent, FakeLLM, Selector\n",
    "\n",
    "def should_continue(vars, runs):\n",
    "    print(\"vars: \", vars)\n",
    "    return \"END\" if \"5分\" in vars['last_output'] else \"写手\"\n",
    "\n",
    "flow = FlowAgent(\n",
    "    FakeLLM(name=\"写手\", sleep=0),\n",
    "    FakeLLM(name=\"打分专家\", sleep=0.001, response=[\"1分\", \"3分\", \"5分\"]),\n",
    "    Selector(condition=should_continue)\n",
    ")\n",
    "\n",
    "flow(\"你能帮我写一首关于兔子的四句儿歌?\")"
   ]
  },
  {
   "cell_type": "code",
   "execution_count": 5,
   "id": "d7442d05-fd2b-4a3e-a10d-c9a09362603e",
   "metadata": {},
   "outputs": [
    {
     "name": "stdout",
     "output_type": "stream",
     "text": [
      "[AGENT] \u001b[34mSTEP 1 >>> Node 1: 写手\u001b[0m\n",
      "\u001b[32m小\u001b[0m\u001b[32m兔子\u001b[0m\u001b[32m，\u001b[0m\u001b[32m白\u001b[0m\u001b[32m又白，  \n",
      "\u001b[0m\u001b[32m蹦蹦跳跳\u001b[0m\u001b[32m真可爱。  \n",
      "\u001b[0m\u001b[32m红眼睛，三\u001b[0m\u001b[32m瓣嘴，  \n",
      "\u001b[0m\u001b[32m吃起萝卜真\u001b[0m\u001b[32m灵巧。  \n",
      "\n",
      "\u001b[0m\u001b[32m这是一首简单的\u001b[0m\u001b[32m四句儿歌\u001b[0m\u001b[32m，描述了小白\u001b[0m\u001b[32m兔的外貌\u001b[0m\u001b[32m和它吃食物\u001b[0m\u001b[32m时的样子。希望\u001b[0m\u001b[32m你会喜欢。蹦\u001b[0m\u001b[32m蹦跳跳的小\u001b[0m\u001b[32m兔子是不是也很想\u001b[0m\u001b[32m让你加入它欢乐\u001b[0m\u001b[32m的世界呢？\u001b[0m\u001b[32m\u001b[0m\n",
      "[AGENT] \u001b[34mSTEP 2 >>> Node 2: 打分专家\u001b[0m\n",
      "\u001b[32m4\u001b[0m\u001b[32m分\u001b[0m\u001b[32m。\u001b[0m\u001b[32m这首\u001b[0m\u001b[32m儿歌简短\u001b[0m\u001b[32m易懂，生动\u001b[0m\u001b[32m形象地描绘了\u001b[0m\u001b[32m小白兔的特征\u001b[0m\u001b[32m和它吃食\u001b[0m\u001b[32m的样子，同时也传达\u001b[0m\u001b[32m了一种欢快的\u001b[0m\u001b[32m气氛。不过，\u001b[0m\u001b[32m如果能在内容上\u001b[0m\u001b[32m再多一些变化或\u001b[0m\u001b[32m创意，可能会更加\u001b[0m\u001b[32m吸引人。\u001b[0m\u001b[32m\u001b[0m\n",
      "[AGENT] \u001b[34mSTEP 3 >>> Node 1: 写手\u001b[0m\n",
      "\u001b[32m感谢\u001b[0m\u001b[32m你的\u001b[0m\u001b[32m评价\u001b[0m\u001b[32m和\u001b[0m\u001b[32m建议，我明白了\u001b[0m\u001b[32m你的需求。让我们\u001b[0m\u001b[32m再试一次：\n",
      "\n",
      "\u001b[0m\u001b[32m小白兔，穿\u001b[0m\u001b[32m花衣，\n",
      "林\u001b[0m\u001b[32m间草丛做\u001b[0m\u001b[32m游戏。\n",
      "长耳朵\u001b[0m\u001b[32m，竖起来，\n",
      "\u001b[0m\u001b[32m听风听雨\u001b[0m\u001b[32m听花开。\n",
      "\n",
      "这样的\u001b[0m\u001b[32m歌词是否有更多的变化\u001b[0m\u001b[32m和创意呢？\u001b[0m\u001b[32m希望这次能够更\u001b[0m\u001b[32m符合你的期待。\u001b[0m\u001b[32m\u001b[0m\n",
      "[AGENT] \u001b[34mSTEP 4 >>> Node 2: 打分专家\u001b[0m\n",
      "\u001b[32m5\u001b[0m\u001b[32m分\u001b[0m\u001b[32m。\u001b[0m\u001b[32m这首\u001b[0m\u001b[32m歌词增加了更多细节\u001b[0m\u001b[32m描写，如“\u001b[0m\u001b[32m穿花衣”\u001b[0m\u001b[32m、“林间草\u001b[0m\u001b[32m丛做游戏”，\u001b[0m\u001b[32m这些都使得画面\u001b[0m\u001b[32m更加丰富和生动\u001b[0m\u001b[32m。同时，“长\u001b[0m\u001b[32m耳朵，竖起来\u001b[0m\u001b[32m，听风听\u001b[0m\u001b[32m雨听花开”\u001b[0m\u001b[32m不仅突出了小白\u001b[0m\u001b[32m兔的特征，\u001b[0m\u001b[32m还增添了一种\u001b[0m\u001b[32m诗意，整体感觉\u001b[0m\u001b[32m更有创意和吸引力\u001b[0m\u001b[32m。很好！\u001b[0m\u001b[32m\u001b[0m\n"
     ]
    },
    {
     "data": {
      "text/plain": [
       "'5分。这首歌词增加了更多细节描写，如“穿花衣”、“林间草丛做游戏”，这些都使得画面更加丰富和生动。同时，“长耳朵，竖起来，听风听雨听花开”不仅突出了小白兔的特征，还增添了一种诗意，整体感觉更有创意和吸引力。很好！'"
      ]
     },
     "execution_count": 5,
     "metadata": {},
     "output_type": "execute_result"
    }
   ],
   "source": [
    "from illufly.chat import FlowAgent, ChatQwen, Selector\n",
    "\n",
    "def should_continue(vars, runs):\n",
    "    return \"END\" if \"5分\" in vars['last_output'] else \"写手\"\n",
    "\n",
    "flow = FlowAgent(\n",
    "    ChatQwen(name=\"写手\"),\n",
    "    ChatQwen(name=\"打分专家\", memory=\"我告诉你我的写作成果，请给我的作品打一个分数，从1分至5分。直接给分数。\"),\n",
    "    Selector(condition=should_continue)\n",
    ")\n",
    "\n",
    "flow(\"你能帮我写一首关于兔子的四句儿歌?\")"
   ]
  },
  {
   "cell_type": "code",
   "execution_count": 6,
   "id": "02ee25c2-cab1-46ca-9a18-770518e5678d",
   "metadata": {},
   "outputs": [
    {
     "data": {
      "text/plain": [
       "[{'role': 'user', 'content': '你能帮我写一首关于兔子的四句儿歌?'},\n",
       " {'role': 'assistant',\n",
       "  'content': '小兔子，白又白，  \\n蹦蹦跳跳真可爱。  \\n红眼睛，三瓣嘴，  \\n吃起萝卜真灵巧。  \\n\\n这是一首简单的四句儿歌，描述了小白兔的外貌和它吃食物时的样子。希望你会喜欢。蹦蹦跳跳的小兔子是不是也很想让你加入它欢乐的世界呢？'},\n",
       " {'role': 'user',\n",
       "  'content': '4分。这首儿歌简短易懂，生动形象地描绘了小白兔的特征和它吃食的样子，同时也传达了一种欢快的气氛。不过，如果能在内容上再多一些变化或创意，可能会更加吸引人。'},\n",
       " {'role': 'assistant',\n",
       "  'content': '感谢你的评价和建议，我明白了你的需求。让我们再试一次：\\n\\n小白兔，穿花衣，\\n林间草丛做游戏。\\n长耳朵，竖起来，\\n听风听雨听花开。\\n\\n这样的歌词是否有更多的变化和创意呢？希望这次能够更符合你的期待。'}]"
      ]
     },
     "execution_count": 6,
     "metadata": {},
     "output_type": "execute_result"
    }
   ],
   "source": [
    "flow.agents[0].memory"
   ]
  },
  {
   "cell_type": "markdown",
   "id": "9edae2db-0327-4d2a-998f-d47b6fd3efff",
   "metadata": {},
   "source": [
    "## 嵌套 FlowAgent\n",
    "\n",
    "因为 FlowAgent 也是一个 BaseAgent, 并且在实现时支持了对 _last_output 属性的管理，因此支持嵌套使用。"
   ]
  },
  {
   "cell_type": "code",
   "execution_count": 11,
   "id": "015e2af2-266e-47a0-84de-306ac93020c1",
   "metadata": {},
   "outputs": [
    {
     "name": "stdout",
     "output_type": "stream",
     "text": [
      "[AGENT] \u001b[34mSTEP 0 >>> Node 1: 写手\u001b[0m\n",
      "\u001b[32m小\u001b[0m\u001b[32m白\u001b[0m\u001b[32m兔\u001b[0m\u001b[32m白\u001b[0m\u001b[32m又\u001b[0m\u001b[32m白\u001b[0m\u001b[32m,\u001b[0m\u001b[32m两\u001b[0m\u001b[32m只\u001b[0m\u001b[32m耳\u001b[0m\u001b[32m朵\u001b[0m\u001b[32m粘\u001b[0m\u001b[32m一\u001b[0m\u001b[32m块\u001b[0m\n",
      "[AGENT] \u001b[34mSTEP 1 >>> Node 2: FlowAgent.4884221808\u001b[0m\n",
      "[AGENT] \u001b[34mSTEP 0 >>> Node 1: 评论家2\u001b[0m\n",
      "\u001b[32m你\u001b[0m\u001b[32m写\u001b[0m\u001b[32m了\u001b[0m\u001b[32m一\u001b[0m\u001b[32m坨\u001b[0m\u001b[32m垃\u001b[0m\u001b[32m圾\u001b[0m\n",
      "[AGENT] \u001b[34mSTEP 1 >>> Node 2: 打分专家\u001b[0m\n",
      "\u001b[32m3\u001b[0m\u001b[32m分\u001b[0m\u001b[32m。\u001b[0m\u001b[32m我\u001b[0m\u001b[32m胡\u001b[0m\u001b[32m乱\u001b[0m\u001b[32m打\u001b[0m\u001b[32m的\u001b[0m\u001b[32m分\u001b[0m\u001b[32m。\u001b[0m\n"
     ]
    },
    {
     "data": {
      "text/plain": [
       "'3分。我胡乱打的分。'"
      ]
     },
     "execution_count": 11,
     "metadata": {},
     "output_type": "execute_result"
    }
   ],
   "source": [
    "from illufly.chat import FlowAgent, FakeLLM, Selector\n",
    "\n",
    "flow0 = FlowAgent(\n",
    "    Selector([\n",
    "        FakeLLM(name=\"评论家1\", response=\"我觉得你写的不错\"),\n",
    "        FakeLLM(name=\"评论家2\", response=\"你写了一坨垃圾\"),\n",
    "    ], \"random\"),\n",
    "    FakeLLM(name=\"打分专家\", response=\"3分。我胡乱打的分。\")\n",
    ")\n",
    "\n",
    "flow = FlowAgent(\n",
    "    FakeLLM(name=\"写手\", response=[\"小白兔白又白,两只耳朵粘一块\"]),\n",
    "    flow0\n",
    ")\n",
    "\n",
    "flow(\"你能帮我写一首关于兔子做梦的四句儿歌?\", verbose=False)"
   ]
  }
 ],
 "metadata": {
  "kernelspec": {
   "display_name": "Python 3 (ipykernel)",
   "language": "python",
   "name": "python3"
  },
  "language_info": {
   "codemirror_mode": {
    "name": "ipython",
    "version": 3
   },
   "file_extension": ".py",
   "mimetype": "text/x-python",
   "name": "python",
   "nbconvert_exporter": "python",
   "pygments_lexer": "ipython3",
   "version": "3.10.0"
  }
 },
 "nbformat": 4,
 "nbformat_minor": 5
}
