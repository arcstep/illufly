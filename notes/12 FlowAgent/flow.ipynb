{
 "cells": [
  {
   "cell_type": "markdown",
   "id": "9b97ccfb-8dc7-4c7c-842b-abf6820769f6",
   "metadata": {},
   "source": [
    "## 多智能体管道"
   ]
  },
  {
   "cell_type": "code",
   "execution_count": 1,
   "id": "a4bbd07f-e12a-40b6-b830-62e21eb90fd0",
   "metadata": {},
   "outputs": [
    {
     "name": "stdout",
     "output_type": "stream",
     "text": [
      "[AGENT] \u001b[34mSTEP 1 >>> Node 1: ChatQwen.4454992864\u001b[0m\n",
      "\u001b[32m小白兔\u001b[0m\u001b[32m，\u001b[0m\u001b[32m梦\u001b[0m\u001b[32m中跳，\n",
      "月亮\u001b[0m\u001b[32m下，草儿\u001b[0m\u001b[32m笑。\n",
      "胡萝卜，\u001b[0m\u001b[32m手中抱，\n",
      "梦\u001b[0m\u001b[32m醒时，乐\u001b[0m\u001b[32m陶陶。\u001b[0m\u001b[32m\u001b[0m\n",
      "[AGENT] \u001b[34mSTEP 2 >>> Node 2: ChatQwen.4728930752\u001b[0m\n",
      "\u001b[32m这首儿\u001b[0m\u001b[32m歌\u001b[0m\u001b[32m富有\u001b[0m\u001b[32m童趣，用\u001b[0m\u001b[32m词生动形象，\u001b[0m\u001b[32m能够很好地吸引小朋友\u001b[0m\u001b[32m的注意力。不过\u001b[0m\u001b[32m在押韵上\u001b[0m\u001b[32m可以再做些\u001b[0m\u001b[32m调整，比如“\u001b[0m\u001b[32m跳”和“\u001b[0m\u001b[32m笑”、“抱\u001b[0m\u001b[32m”和“陶\u001b[0m\u001b[32m”在音韵\u001b[0m\u001b[32m上还可以更和谐\u001b[0m\u001b[32m一些。\u001b[0m\u001b[32m\u001b[0m\n",
      "[AGENT] \u001b[34mSTEP 3 >>> Node 3: ChatQwen.4729195008\u001b[0m\n",
      "\u001b[32m我会给\u001b[0m\u001b[32m这首歌\u001b[0m\u001b[32m打\u001b[0m\u001b[32m4分。它\u001b[0m\u001b[32m充满了童真和\u001b[0m\u001b[32m趣味，能够吸引\u001b[0m\u001b[32m孩子们的注意，\u001b[0m\u001b[32m同时描绘了一个温馨\u001b[0m\u001b[32m、梦幻的场景\u001b[0m\u001b[32m。如果能在押\u001b[0m\u001b[32m韵上稍作\u001b[0m\u001b[32m调整，使之更加\u001b[0m\u001b[32m流畅和谐，那就\u001b[0m\u001b[32m更完美了。\u001b[0m\u001b[32m例如，可以考虑\u001b[0m\u001b[32m将\"草儿\u001b[0m\u001b[32m笑\"改为\"\u001b[0m\u001b[32m草儿摇\"\u001b[0m\u001b[32m，使\"跳\u001b[0m\u001b[32m\"与\"摇\u001b[0m\u001b[32m\"押韵；\u001b[0m\u001b[32m将\"乐陶\u001b[0m\u001b[32m陶\"改为\"\u001b[0m\u001b[32m笑开颜\"\u001b[0m\u001b[32m，使\"抱\u001b[0m\u001b[32m\"与\"颜\u001b[0m\u001b[32m\"押韵。\u001b[0m\u001b[32m这样的调整会让整\u001b[0m\u001b[32m首儿歌听起来\u001b[0m\u001b[32m更加悦耳动\u001b[0m\u001b[32m听。不过，\u001b[0m\u001b[32m这已经是很好的作品\u001b[0m\u001b[32m了！\u001b[0m\u001b[32m\u001b[0m\n"
     ]
    },
    {
     "data": {
      "text/plain": [
       "'**处理记录**\\n**任务**\\n你能帮我写一首关于兔子做梦的四句儿歌?\\n@ChatQwen.4454992864 :\\n小白兔，梦中跳，\\n月亮下，草儿笑。\\n胡萝卜，手中抱，\\n梦醒时，乐陶陶。\\n@ChatQwen.4728930752 :\\n这首儿歌富有童趣，用词生动形象，能够很好地吸引小朋友的注意力。不过在押韵上可以再做些调整，比如“跳”和“笑”、“抱”和“陶”在音韵上还可以更和谐一些。\\n@ChatQwen.4729195008 :\\n我会给这首歌打4分。它充满了童真和趣味，能够吸引孩子们的注意，同时描绘了一个温馨、梦幻的场景。如果能在押韵上稍作调整，使之更加流畅和谐，那就更完美了。例如，可以考虑将\"草儿笑\"改为\"草儿摇\"，使\"跳\"与\"摇\"押韵；将\"乐陶陶\"改为\"笑开颜\"，使\"抱\"与\"颜\"押韵。这样的调整会让整首儿歌听起来更加悦耳动听。不过，这已经是很好的作品了！'"
      ]
     },
     "execution_count": 1,
     "metadata": {},
     "output_type": "execute_result"
    }
   ],
   "source": [
    "from illufly.chat import FlowAgent, ChatQwen\n",
    "\n",
    "flow = FlowAgent(\n",
    "    ChatQwen(),\n",
    "    ChatQwen(memory=(\"system\", \"我将告诉你我的写作成果，你负责帮我评价文章特色，说说缺点，两句话即可\")),\n",
    "    ChatQwen(memory=(\"system\", \"我将告诉你我的写作成果，请按照评价打一个分数，从1分至5分\"))\n",
    ")\n",
    "\n",
    "flow(\"你能帮我写一首关于兔子做梦的四句儿歌?\")"
   ]
  },
  {
   "cell_type": "code",
   "execution_count": 3,
   "id": "4537cd7e-e18e-4fa7-80cf-180de7a82592",
   "metadata": {},
   "outputs": [
    {
     "data": {
      "text/plain": [
       "[{'role': 'system', 'content': '我将告诉你我的写作成果，请按照评价打一个分数，从1分至5分'},\n",
       " {'role': 'user',\n",
       "  'content': '**处理记录**\\n**任务**\\n你能帮我写一首关于兔子做梦的四句儿歌?\\n@ChatQwen.4454992864 :\\n小白兔，梦中跳，\\n月亮下，草儿笑。\\n胡萝卜，手中抱，\\n梦醒时，乐陶陶。\\n@ChatQwen.4728930752 :\\n这首儿歌富有童趣，用词生动形象，能够很好地吸引小朋友的注意力。不过在押韵上可以再做些调整，比如“跳”和“笑”、“抱”和“陶”在音韵上还可以更和谐一些。'},\n",
       " {'role': 'assistant',\n",
       "  'content': '我会给这首歌打4分。它充满了童真和趣味，能够吸引孩子们的注意，同时描绘了一个温馨、梦幻的场景。如果能在押韵上稍作调整，使之更加流畅和谐，那就更完美了。例如，可以考虑将\"草儿笑\"改为\"草儿摇\"，使\"跳\"与\"摇\"押韵；将\"乐陶陶\"改为\"笑开颜\"，使\"抱\"与\"颜\"押韵。这样的调整会让整首儿歌听起来更加悦耳动听。不过，这已经是很好的作品了！'}]"
      ]
     },
     "execution_count": 3,
     "metadata": {},
     "output_type": "execute_result"
    }
   ],
   "source": [
    "flow.agents[2].memory"
   ]
  },
  {
   "cell_type": "code",
   "execution_count": 3,
   "id": "98e900ce-d365-42db-be59-c3b565e225d2",
   "metadata": {},
   "outputs": [
    {
     "name": "stdout",
     "output_type": "stream",
     "text": [
      "[AGENT] \u001b[34mSTEP 1 >>> Node 1: ChatQwen.4412592704\u001b[0m\n",
      "\u001b[32m当然可以\u001b[0m\u001b[32m，\u001b[0m\u001b[32m这\u001b[0m\u001b[32m是一首简单又\u001b[0m\u001b[32m温馨的四句\u001b[0m\u001b[32m儿歌：\n",
      "\n",
      "小小\u001b[0m\u001b[32m琴键排排\u001b[0m\u001b[32m坐，  \n",
      "手指\u001b[0m\u001b[32m跳跃唱欢乐。\u001b[0m\u001b[32m  \n",
      "黑白之间有\u001b[0m\u001b[32m魔法，  \n",
      "弹\u001b[0m\u001b[32m出梦想和希望\u001b[0m\u001b[32m花。\u001b[0m\u001b[32m\u001b[0m\n",
      "[AGENT] \u001b[34mSTEP 2 >>> Node 2: ChatQwen.4687004720\u001b[0m\n",
      "\u001b[32m这首儿\u001b[0m\u001b[32m歌\u001b[0m\u001b[32m语言\u001b[0m\u001b[32m简洁、形象生动\u001b[0m\u001b[32m，能够很好地激发\u001b[0m\u001b[32m孩子们的想象力。\u001b[0m\u001b[32m不过在韵律\u001b[0m\u001b[32m上还可以再调整\u001b[0m\u001b[32m，使每一句\u001b[0m\u001b[32m的节奏更加一致\u001b[0m\u001b[32m，读起来更\u001b[0m\u001b[32m顺口。\u001b[0m\u001b[32m\u001b[0m\n",
      "[AGENT] \u001b[34mSTEP 3 >>> Node 3: ChatQwen.4687276608\u001b[0m\n",
      "\u001b[32m根据\u001b[0m\u001b[32m您的\u001b[0m\u001b[32m描述\u001b[0m\u001b[32m，\u001b[0m\u001b[32m我会给这首儿\u001b[0m\u001b[32m歌打4分\u001b[0m\u001b[32m。它已经达到了\u001b[0m\u001b[32m激发孩子想象力的效果\u001b[0m\u001b[32m，并且语言简洁\u001b[0m\u001b[32m、形象生动。\u001b[0m\u001b[32m如果能在韵律\u001b[0m\u001b[32m上做一些改进，\u001b[0m\u001b[32m使其更为流畅，\u001b[0m\u001b[32m那么就可以得到满分\u001b[0m\u001b[32m了。\u001b[0m\u001b[32m\u001b[0m\n"
     ]
    },
    {
     "data": {
      "text/plain": [
       "'根据您的描述，我会给这首儿歌打4分。它已经达到了激发孩子想象力的效果，并且语言简洁、形象生动。如果能在韵律上做一些改进，使其更为流畅，那么就可以得到满分了。'"
      ]
     },
     "execution_count": 3,
     "metadata": {},
     "output_type": "execute_result"
    }
   ],
   "source": [
    "flow(\"你能帮我写一首关于钢琴的四句儿歌?\")"
   ]
  },
  {
   "cell_type": "code",
   "execution_count": 6,
   "id": "44fbecd9-3bef-4177-9618-ad865befdcc1",
   "metadata": {},
   "outputs": [
    {
     "data": {
      "text/plain": [
       "[{'role': 'system', 'content': '我将告诉你我的写作成果，你负责帮我评价文章特色，说说缺点，两句话即可'},\n",
       " {'role': 'user',\n",
       "  'content': '当然可以，这是一首简单又温馨的四句儿歌：\\n\\n小小琴键排排坐，  \\n手指跳跃唱欢乐。  \\n黑白之间有魔法，  \\n弹出梦想和希望花。'},\n",
       " {'role': 'assistant',\n",
       "  'content': '这首儿歌语言简洁、形象生动，能够很好地激发孩子们的想象力。不过在韵律上还可以再调整，使每一句的节奏更加一致，读起来更顺口。'}]"
      ]
     },
     "execution_count": 6,
     "metadata": {},
     "output_type": "execute_result"
    }
   ],
   "source": [
    "flow.agents[1].memory"
   ]
  },
  {
   "cell_type": "markdown",
   "id": "c6393119-5133-45ed-b317-f40138ceaaa7",
   "metadata": {},
   "source": [
    "## 带有模板的智能体"
   ]
  },
  {
   "cell_type": "code",
   "execution_count": 7,
   "id": "d47eb92b-5f81-4fff-9557-e6866d7b4724",
   "metadata": {},
   "outputs": [
    {
     "name": "stdout",
     "output_type": "stream",
     "text": [
      "[AGENT] \u001b[34mSTEP 1 >>> Node 1: ChatQwen.4671410224\u001b[0m\n",
      "\u001b[32m小兔\u001b[0m\u001b[32m乖乖\u001b[0m\u001b[32m梦\u001b[0m\u001b[32m中游，  \n",
      "\u001b[0m\u001b[32m花儿朵朵\u001b[0m\u001b[32m绕它头。\u001b[0m\u001b[32m  \n",
      "月亮婆婆轻\u001b[0m\u001b[32m声笑，  \n",
      "\u001b[0m\u001b[32m梦里世界甜\u001b[0m\u001b[32m如糖。\u001b[0m\u001b[32m\u001b[0m\n"
     ]
    },
    {
     "data": {
      "text/plain": [
       "'小兔乖乖梦中游，  \\n花儿朵朵绕它头。  \\n月亮婆婆轻声笑，  \\n梦里世界甜如糖。'"
      ]
     },
     "execution_count": 7,
     "metadata": {},
     "output_type": "execute_result"
    }
   ],
   "source": [
    "from illufly.chat import FlowAgent, ChatQwen\n",
    "from illufly.types import PromptTemplate\n",
    "\n",
    "flow = FlowAgent(\n",
    "    ChatQwen(memory=[PromptTemplate(\"IDEA\")]),\n",
    ")\n",
    "\n",
    "flow(\"你能帮我写一首关于兔子做梦的四句儿歌?\")"
   ]
  },
  {
   "cell_type": "code",
   "execution_count": 8,
   "id": "702f4a98-6606-48f1-be66-0183897773d5",
   "metadata": {},
   "outputs": [
    {
     "name": "stdout",
     "output_type": "stream",
     "text": [
      "[AGENT] \u001b[34mSTEP 1 >>> Node 1: ChatQwen.4671410224\u001b[0m\n",
      "\u001b[32m小兔子\u001b[0m\u001b[32m跳\u001b[0m\u001b[32m跳\u001b[0m\u001b[32m，水里游\u001b[0m\u001b[32m得高，  \n",
      "\u001b[0m\u001b[32m扑腾小脚\u001b[0m\u001b[32m丫，快乐水上\u001b[0m\u001b[32m漂。  \n",
      "妈妈\u001b[0m\u001b[32m夸它好，\u001b[0m\u001b[32m勇敢又灵巧\u001b[0m\u001b[32m。\u001b[0m\u001b[32m\u001b[0m\n"
     ]
    },
    {
     "data": {
      "text/plain": [
       "[{'role': 'system',\n",
       "  'content': '你是强大的写作助手。\\n\\n你必须遵循以下约束来完成任务:\\n1. 直接输出你的结果，不要评论，不要啰嗦\\n2. 使用markdown格式输出\\n\\n**你的任务是:**\\n你能帮我写一首关于兔子游泳的3句儿歌?\\n'},\n",
       " {'role': 'user', 'content': '请开始'},\n",
       " {'role': 'assistant',\n",
       "  'content': '小兔子跳跳，水里游得高，  \\n扑腾小脚丫，快乐水上漂。  \\n妈妈夸它好，勇敢又灵巧。'}]"
      ]
     },
     "execution_count": 8,
     "metadata": {},
     "output_type": "execute_result"
    }
   ],
   "source": [
    "flow(\"你能帮我写一首关于兔子游泳的3句儿歌?\")\n",
    "flow.agents[0].memory"
   ]
  },
  {
   "cell_type": "markdown",
   "id": "f1650e89-4f2c-4157-9741-c9ea6c07a4ad",
   "metadata": {},
   "source": [
    "## 条件分支：选择一种路径"
   ]
  },
  {
   "cell_type": "code",
   "execution_count": 1,
   "id": "cd19e3e4-3259-40ee-badb-ed126b213f70",
   "metadata": {},
   "outputs": [
    {
     "name": "stdout",
     "output_type": "stream",
     "text": [
      "[AGENT] \u001b[34mSTEP 1 >>> Node 1: 写手\u001b[0m\n",
      "\u001b[32m小\u001b[0m\u001b[32m白\u001b[0m\u001b[32m兔\u001b[0m\u001b[32m白\u001b[0m\u001b[32m又\u001b[0m\u001b[32m白\u001b[0m\u001b[32m,\u001b[0m\u001b[32m两\u001b[0m\u001b[32m只\u001b[0m\u001b[32m耳\u001b[0m\u001b[32m朵\u001b[0m\u001b[32m粘\u001b[0m\u001b[32m一\u001b[0m\u001b[32m块\u001b[0m\n",
      "[AGENT] \u001b[34mSTEP 2 >>> Node 2: 评论家2\u001b[0m\n",
      "\u001b[32m你\u001b[0m\u001b[32m写\u001b[0m\u001b[32m了\u001b[0m\u001b[32m一\u001b[0m\u001b[32m坨\u001b[0m\u001b[32m垃\u001b[0m\u001b[32m圾\u001b[0m\n",
      "[AGENT] \u001b[34mSTEP 3 >>> Node 3: 打分专家\u001b[0m\n",
      "\u001b[32m3\u001b[0m\u001b[32m分\u001b[0m\u001b[32m。\u001b[0m\u001b[32m我\u001b[0m\u001b[32m胡\u001b[0m\u001b[32m乱\u001b[0m\u001b[32m打\u001b[0m\u001b[32m的\u001b[0m\u001b[32m分\u001b[0m\u001b[32m。\u001b[0m\n"
     ]
    },
    {
     "data": {
      "text/plain": [
       "'3分。我胡乱打的分。'"
      ]
     },
     "execution_count": 1,
     "metadata": {},
     "output_type": "execute_result"
    }
   ],
   "source": [
    "from illufly.chat import FlowAgent, FakeLLM, Selector\n",
    "\n",
    "flow = FlowAgent(\n",
    "    FakeLLM(name=\"写手\", response=[\"小白兔白又白,两只耳朵粘一块\"]),\n",
    "    Selector([\n",
    "        FakeLLM(name=\"评论家1\", response=\"我觉得你写的不错\"),\n",
    "        FakeLLM(name=\"评论家2\", response=\"你写了一坨垃圾\"),\n",
    "    ], \"random\"),\n",
    "    FakeLLM(name=\"打分专家\", response=\"3分。我胡乱打的分。\")\n",
    ")\n",
    "\n",
    "flow(\"你能帮我写一首关于兔子做梦的四句儿歌?\", verbose=False)"
   ]
  },
  {
   "cell_type": "code",
   "execution_count": 2,
   "id": "9e91a985-8890-4cb6-ae47-ecb9a3b43187",
   "metadata": {},
   "outputs": [
    {
     "name": "stdout",
     "output_type": "stream",
     "text": [
      "\u001b[32m我\u001b[0m\u001b[32m觉\u001b[0m\u001b[32m得\u001b[0m\u001b[32m你\u001b[0m\u001b[32m写\u001b[0m\u001b[32m的\u001b[0m\u001b[32m不\u001b[0m\u001b[32m错\u001b[0m\n"
     ]
    },
    {
     "data": {
      "text/plain": [
       "'我觉得你写的不错'"
      ]
     },
     "execution_count": 2,
     "metadata": {},
     "output_type": "execute_result"
    }
   ],
   "source": [
    "s = Selector([\n",
    "        FakeLLM(name=\"评论家1\", response=\"我觉得你写的不错\"),\n",
    "        FakeLLM(name=\"评论家2\", response=\"你写了一坨垃圾\")\n",
    "    ])\n",
    "s.selected(\"hi\")"
   ]
  },
  {
   "cell_type": "markdown",
   "id": "436fcc41-4b5f-430f-b62a-ac1315d6ec9e",
   "metadata": {},
   "source": [
    "## 支持循环和退出：创作和打分互动\n",
    "\n",
    "**退出机制在于 Selector 节点是否返回 END 字符串。**<br>\n",
    "下面实现了典型的机制，其要点在于 Selector 条件函数针对前面节点的 _last_output 属性做检查。"
   ]
  },
  {
   "cell_type": "code",
   "execution_count": 3,
   "id": "733c6020-a104-4528-a2fb-4a5f4a9344fe",
   "metadata": {},
   "outputs": [
    {
     "name": "stdout",
     "output_type": "stream",
     "text": [
      "[AGENT] \u001b[34mSTEP 1 >>> Node 1: 写手\u001b[0m\n",
      "\u001b[32m你\u001b[0m\u001b[32m能\u001b[0m\u001b[32m帮\u001b[0m\u001b[32m我\u001b[0m\u001b[32m写\u001b[0m\u001b[32m一\u001b[0m\u001b[32m首\u001b[0m\u001b[32m关\u001b[0m\u001b[32m于\u001b[0m\u001b[32m兔\u001b[0m\u001b[32m子\u001b[0m\u001b[32m的\u001b[0m\u001b[32m四\u001b[0m\u001b[32m句\u001b[0m\u001b[32m儿\u001b[0m\u001b[32m歌\u001b[0m\u001b[32m?\u001b[0m\n",
      "[AGENT] \u001b[34mSTEP 2 >>> Node 2: 打分专家\u001b[0m\n",
      "\u001b[32m1\u001b[0m\u001b[32m分\u001b[0m\n",
      "vars:  {'last_output': '1分', 'resources': ''}\n",
      "[AGENT] \u001b[34mSTEP 3 >>> Node 1: 写手\u001b[0m\n",
      "\u001b[32m1\u001b[0m\u001b[32m分\u001b[0m\n",
      "[AGENT] \u001b[34mSTEP 4 >>> Node 2: 打分专家\u001b[0m\n",
      "\u001b[32m3\u001b[0m\u001b[32m分\u001b[0m\n",
      "vars:  {'last_output': '3分', 'resources': ''}\n",
      "[AGENT] \u001b[34mSTEP 5 >>> Node 1: 写手\u001b[0m\n",
      "\u001b[32m3\u001b[0m\u001b[32m分\u001b[0m\n",
      "[AGENT] \u001b[34mSTEP 6 >>> Node 2: 打分专家\u001b[0m\n",
      "\u001b[32m5\u001b[0m\u001b[32m分\u001b[0m\n",
      "vars:  {'last_output': '5分', 'resources': ''}\n"
     ]
    },
    {
     "data": {
      "text/plain": [
       "'5分'"
      ]
     },
     "execution_count": 3,
     "metadata": {},
     "output_type": "execute_result"
    }
   ],
   "source": [
    "from illufly.chat import FlowAgent, FakeLLM, Selector\n",
    "\n",
    "def should_continue(vars, runs):\n",
    "    print(\"vars: \", vars)\n",
    "    return \"END\" if \"5\" in vars['last_output'] else \"写手\"\n",
    "\n",
    "flow = FlowAgent(\n",
    "    FakeLLM(name=\"写手\", sleep=0),\n",
    "    FakeLLM(name=\"打分专家\", sleep=0.001, response=[\"1分\", \"3分\", \"5分\"]),\n",
    "    Selector(condition=should_continue)\n",
    ")\n",
    "\n",
    "flow(\"你能帮我写一首关于兔子的四句儿歌?\")"
   ]
  },
  {
   "cell_type": "code",
   "execution_count": 1,
   "id": "d7442d05-fd2b-4a3e-a10d-c9a09362603e",
   "metadata": {},
   "outputs": [
    {
     "name": "stdout",
     "output_type": "stream",
     "text": [
      "[AGENT] \u001b[34mSTEP 1 >>> Node 1: 写手\u001b[0m\n",
      "\u001b[32m当然可以\u001b[0m\u001b[32m，\u001b[0m\u001b[32m这\u001b[0m\u001b[32m是一首简单可爱的\u001b[0m\u001b[32m四句儿歌\u001b[0m\u001b[32m，适合小朋友唱\u001b[0m\u001b[32m：\n",
      "\n",
      "小兔白\u001b[0m\u001b[32m又白，  \n",
      "\u001b[0m\u001b[32m两耳竖起来\u001b[0m\u001b[32m。  \n",
      "爱吃萝卜\u001b[0m\u001b[32m和青菜，\u001b[0m\u001b[32m  \n",
      "蹦蹦跳\u001b[0m\u001b[32m跳真可爱。\u001b[0m\u001b[32m\u001b[0m\n",
      "[AGENT] \u001b[34mSTEP 2 >>> Node 2: 打分专家\u001b[0m\n",
      "\u001b[32m结果为\u001b[0m\u001b[32m4\u001b[0m\u001b[32m分\u001b[0m\u001b[32m\n",
      "\n",
      "这首儿歌\u001b[0m\u001b[32m非常简洁明了\u001b[0m\u001b[32m，充满了童趣\u001b[0m\u001b[32m，能够很好地吸引\u001b[0m\u001b[32m小朋友的注意力。\u001b[0m\u001b[32m语言平实易\u001b[0m\u001b[32m懂，韵律\u001b[0m\u001b[32m感强，非常适合\u001b[0m\u001b[32m小朋友学习和演唱\u001b[0m\u001b[32m。\n",
      "\n",
      "改进意见：\n",
      "\u001b[0m\u001b[32m1. 可\u001b[0m\u001b[32m以尝试增加一些\u001b[0m\u001b[32m互动性或故\u001b[0m\u001b[32m事情节，让\u001b[0m\u001b[32m儿歌更加生动\u001b[0m\u001b[32m有趣。例如，\u001b[0m\u001b[32m可以加入小兔子\u001b[0m\u001b[32m与小朋友一起玩耍\u001b[0m\u001b[32m的内容。\n",
      "2.\u001b[0m\u001b[32m 在歌词中加入\u001b[0m\u001b[32m更多的形容词或\u001b[0m\u001b[32m动词，丰富\u001b[0m\u001b[32m儿歌的表现力\u001b[0m\u001b[32m，如“小\u001b[0m\u001b[32m兔白又白\u001b[0m\u001b[32m，眼睛红宝石\u001b[0m\u001b[32m”或“蹦\u001b[0m\u001b[32m蹦跳跳在\u001b[0m\u001b[32m草地上”，这样\u001b[0m\u001b[32m可以让孩子们在唱歌\u001b[0m\u001b[32m的同时，也能学习\u001b[0m\u001b[32m到更多的词汇。\n",
      "\n",
      "\u001b[0m\u001b[32m希望这些建\u001b[0m\u001b[32m议对你有帮助\u001b[0m\u001b[32m！继续加油哦\u001b[0m\u001b[32m！\u001b[0m\u001b[32m\u001b[0m\n",
      "vars:  {'last_output': '结果为4分\\n\\n这首儿歌非常简洁明了，充满了童趣，能够很好地吸引小朋友的注意力。语言平实易懂，韵律感强，非常适合小朋友学习和演唱。\\n\\n改进意见：\\n1. 可以尝试增加一些互动性或故事情节，让儿歌更加生动有趣。例如，可以加入小兔子与小朋友一起玩耍的内容。\\n2. 在歌词中加入更多的形容词或动词，丰富儿歌的表现力，如“小兔白又白，眼睛红宝石”或“蹦蹦跳跳在草地上”，这样可以让孩子们在唱歌的同时，也能学习到更多的词汇。\\n\\n希望这些建议对你有帮助！继续加油哦！', 'resources': '', 'completed_work': '**任务**\\n你能帮我写一首关于兔子的四句儿歌?\\n@写手 :\\n当然可以，这是一首简单可爱的四句儿歌，适合小朋友唱：\\n\\n小兔白又白，  \\n两耳竖起来。  \\n爱吃萝卜和青菜，  \\n蹦蹦跳跳真可爱。\\n@打分专家 :\\n结果为4分\\n\\n这首儿歌非常简洁明了，充满了童趣，能够很好地吸引小朋友的注意力。语言平实易懂，韵律感强，非常适合小朋友学习和演唱。\\n\\n改进意见：\\n1. 可以尝试增加一些互动性或故事情节，让儿歌更加生动有趣。例如，可以加入小兔子与小朋友一起玩耍的内容。\\n2. 在歌词中加入更多的形容词或动词，丰富儿歌的表现力，如“小兔白又白，眼睛红宝石”或“蹦蹦跳跳在草地上”，这样可以让孩子们在唱歌的同时，也能学习到更多的词汇。\\n\\n希望这些建议对你有帮助！继续加油哦！'}\n",
      "[AGENT] \u001b[34mSTEP 3 >>> Node 1: 写手\u001b[0m\n",
      "\u001b[32m谢谢你的\u001b[0m\u001b[32m评价\u001b[0m\u001b[32m和\u001b[0m\u001b[32m建议！根据你的\u001b[0m\u001b[32m意见，我来\u001b[0m\u001b[32m改进一下这首儿\u001b[0m\u001b[32m歌，让它更加\u001b[0m\u001b[32m生动有趣：\n",
      "\n",
      "小\u001b[0m\u001b[32m兔白又白\u001b[0m\u001b[32m，  \n",
      "眼睛红\u001b[0m\u001b[32m宝石，  \n",
      "蹦\u001b[0m\u001b[32m蹦跳跳在\u001b[0m\u001b[32m草地上，  \n",
      "\u001b[0m\u001b[32m和我一起捉\u001b[0m\u001b[32m迷藏。\n",
      "\n",
      "希望\u001b[0m\u001b[32m这个版本能更好地\u001b[0m\u001b[32m吸引小朋友的兴趣，\u001b[0m\u001b[32m同时增加一些互动\u001b[0m\u001b[32m性和表现力。\u001b[0m\u001b[32m如果还有其他建议\u001b[0m\u001b[32m或需要进一步改进\u001b[0m\u001b[32m的地方，请告诉我！\u001b[0m\u001b[32m\u001b[0m\n",
      "[AGENT] \u001b[34mSTEP 4 >>> Node 2: 打分专家\u001b[0m\n",
      "\u001b[32m结果为\u001b[0m\u001b[32m5\u001b[0m\u001b[32m分\u001b[0m\u001b[32m\n",
      "\n",
      "改进后的儿\u001b[0m\u001b[32m歌确实更加生动\u001b[0m\u001b[32m有趣了！以下\u001b[0m\u001b[32m是我的具体评价和\u001b[0m\u001b[32m一些建议\u001b[0m\u001b[32m：\n",
      "\n",
      "### 评价\u001b[0m\u001b[32m：\n",
      "1. **\u001b[0m\u001b[32m互动性增强**\u001b[0m\u001b[32m：加入了“和\u001b[0m\u001b[32m我一起捉迷\u001b[0m\u001b[32m藏”的内容，\u001b[0m\u001b[32m增加了儿歌的\u001b[0m\u001b[32m互动性和趣味性\u001b[0m\u001b[32m，让孩子们更有\u001b[0m\u001b[32m参与感。\n",
      "2\u001b[0m\u001b[32m. **形象更\u001b[0m\u001b[32m鲜明**：增加了\u001b[0m\u001b[32m“眼睛红宝石\u001b[0m\u001b[32m”的描述，使\u001b[0m\u001b[32m小兔子的形象更加\u001b[0m\u001b[32m鲜明和生动。\n",
      "\u001b[0m\u001b[32m3. **场景\u001b[0m\u001b[32m更丰富**：\u001b[0m\u001b[32m描述了“蹦\u001b[0m\u001b[32m蹦跳跳在\u001b[0m\u001b[32m草地上”的场景\u001b[0m\u001b[32m，使儿歌\u001b[0m\u001b[32m的画面感更强，\u001b[0m\u001b[32m更容易引起孩子们的\u001b[0m\u001b[32m共鸣。\n",
      "\n",
      "### \u001b[0m\u001b[32m建议：\n",
      "\u001b[0m\u001b[32m1. **动作\u001b[0m\u001b[32m细节**：可以在\u001b[0m\u001b[32m儿歌中加入\u001b[0m\u001b[32m更多具体的动作描写\u001b[0m\u001b[32m，比如“小\u001b[0m\u001b[32m兔摇摇尾巴\u001b[0m\u001b[32m，快活地\u001b[0m\u001b[32m跑来跑去”，\u001b[0m\u001b[32m这样可以让孩子们在\u001b[0m\u001b[32m唱儿歌时\u001b[0m\u001b[32m有更多的肢体动作配合\u001b[0m\u001b[32m。\n",
      "2. **\u001b[0m\u001b[32m情感表达**：\u001b[0m\u001b[32m可以适当加入一些\u001b[0m\u001b[32m情感表达，比如\u001b[0m\u001b[32m“小兔真\u001b[0m\u001b[32m开心，和我\u001b[0m\u001b[32m做朋友”，这样\u001b[0m\u001b[32m可以培养孩子们的情感\u001b[0m\u001b[32m认知和社交能力\u001b[0m\u001b[32m。\n",
      "\n",
      "改进后的儿\u001b[0m\u001b[32m歌已经非常出色\u001b[0m\u001b[32m了，继续保持这种\u001b[0m\u001b[32m创作热情，相信\u001b[0m\u001b[32m你会写出更多优秀\u001b[0m\u001b[32m的作品！加油！\n",
      "\n",
      "\u001b[0m\u001b[32m如果你还有其他作品\u001b[0m\u001b[32m或需要进一步的帮助\u001b[0m\u001b[32m，随时欢迎分享\u001b[0m\u001b[32m！\u001b[0m\u001b[32m\u001b[0m\n",
      "vars:  {'last_output': '结果为5分\\n\\n改进后的儿歌确实更加生动有趣了！以下是我的具体评价和一些建议：\\n\\n### 评价：\\n1. **互动性增强**：加入了“和我一起捉迷藏”的内容，增加了儿歌的互动性和趣味性，让孩子们更有参与感。\\n2. **形象更鲜明**：增加了“眼睛红宝石”的描述，使小兔子的形象更加鲜明和生动。\\n3. **场景更丰富**：描述了“蹦蹦跳跳在草地上”的场景，使儿歌的画面感更强，更容易引起孩子们的共鸣。\\n\\n### 建议：\\n1. **动作细节**：可以在儿歌中加入更多具体的动作描写，比如“小兔摇摇尾巴，快活地跑来跑去”，这样可以让孩子们在唱儿歌时有更多的肢体动作配合。\\n2. **情感表达**：可以适当加入一些情感表达，比如“小兔真开心，和我做朋友”，这样可以培养孩子们的情感认知和社交能力。\\n\\n改进后的儿歌已经非常出色了，继续保持这种创作热情，相信你会写出更多优秀的作品！加油！\\n\\n如果你还有其他作品或需要进一步的帮助，随时欢迎分享！', 'resources': '', 'completed_work': '**任务**\\n你能帮我写一首关于兔子的四句儿歌?\\n@写手 :\\n当然可以，这是一首简单可爱的四句儿歌，适合小朋友唱：\\n\\n小兔白又白，  \\n两耳竖起来。  \\n爱吃萝卜和青菜，  \\n蹦蹦跳跳真可爱。\\n@打分专家 :\\n结果为4分\\n\\n这首儿歌非常简洁明了，充满了童趣，能够很好地吸引小朋友的注意力。语言平实易懂，韵律感强，非常适合小朋友学习和演唱。\\n\\n改进意见：\\n1. 可以尝试增加一些互动性或故事情节，让儿歌更加生动有趣。例如，可以加入小兔子与小朋友一起玩耍的内容。\\n2. 在歌词中加入更多的形容词或动词，丰富儿歌的表现力，如“小兔白又白，眼睛红宝石”或“蹦蹦跳跳在草地上”，这样可以让孩子们在唱歌的同时，也能学习到更多的词汇。\\n\\n希望这些建议对你有帮助！继续加油哦！\\n@写手 :\\n谢谢你的评价和建议！根据你的意见，我来改进一下这首儿歌，让它更加生动有趣：\\n\\n小兔白又白，  \\n眼睛红宝石，  \\n蹦蹦跳跳在草地上，  \\n和我一起捉迷藏。\\n\\n希望这个版本能更好地吸引小朋友的兴趣，同时增加一些互动性和表现力。如果还有其他建议或需要进一步改进的地方，请告诉我！\\n@打分专家 :\\n结果为5分\\n\\n改进后的儿歌确实更加生动有趣了！以下是我的具体评价和一些建议：\\n\\n### 评价：\\n1. **互动性增强**：加入了“和我一起捉迷藏”的内容，增加了儿歌的互动性和趣味性，让孩子们更有参与感。\\n2. **形象更鲜明**：增加了“眼睛红宝石”的描述，使小兔子的形象更加鲜明和生动。\\n3. **场景更丰富**：描述了“蹦蹦跳跳在草地上”的场景，使儿歌的画面感更强，更容易引起孩子们的共鸣。\\n\\n### 建议：\\n1. **动作细节**：可以在儿歌中加入更多具体的动作描写，比如“小兔摇摇尾巴，快活地跑来跑去”，这样可以让孩子们在唱儿歌时有更多的肢体动作配合。\\n2. **情感表达**：可以适当加入一些情感表达，比如“小兔真开心，和我做朋友”，这样可以培养孩子们的情感认知和社交能力。\\n\\n改进后的儿歌已经非常出色了，继续保持这种创作热情，相信你会写出更多优秀的作品！加油！\\n\\n如果你还有其他作品或需要进一步的帮助，随时欢迎分享！'}\n"
     ]
    },
    {
     "data": {
      "text/plain": [
       "'结果为5分\\n\\n改进后的儿歌确实更加生动有趣了！以下是我的具体评价和一些建议：\\n\\n### 评价：\\n1. **互动性增强**：加入了“和我一起捉迷藏”的内容，增加了儿歌的互动性和趣味性，让孩子们更有参与感。\\n2. **形象更鲜明**：增加了“眼睛红宝石”的描述，使小兔子的形象更加鲜明和生动。\\n3. **场景更丰富**：描述了“蹦蹦跳跳在草地上”的场景，使儿歌的画面感更强，更容易引起孩子们的共鸣。\\n\\n### 建议：\\n1. **动作细节**：可以在儿歌中加入更多具体的动作描写，比如“小兔摇摇尾巴，快活地跑来跑去”，这样可以让孩子们在唱儿歌时有更多的肢体动作配合。\\n2. **情感表达**：可以适当加入一些情感表达，比如“小兔真开心，和我做朋友”，这样可以培养孩子们的情感认知和社交能力。\\n\\n改进后的儿歌已经非常出色了，继续保持这种创作热情，相信你会写出更多优秀的作品！加油！\\n\\n如果你还有其他作品或需要进一步的帮助，随时欢迎分享！'"
      ]
     },
     "execution_count": 1,
     "metadata": {},
     "output_type": "execute_result"
    }
   ],
   "source": [
    "from illufly.chat import FlowAgent, ChatQwen, Selector\n",
    "\n",
    "def should_continue(vars, runs):\n",
    "    # print(\"vars: \", vars)\n",
    "    return \"END\" if \"结果为5分\" in vars['last_output'] else \"写手\"\n",
    "\n",
    "flow = FlowAgent(\n",
    "    ChatQwen(name=\"写手\"),\n",
    "    ChatQwen(\n",
    "        name=\"打分专家\",\n",
    "        memory=[(\"system\", \"请你给我的作品打一个分数，从1分至5分，并给出改进意见。打分格式为:\\n结果为x分\")]\n",
    "    ),\n",
    "    Selector(condition=should_continue)\n",
    ")\n",
    "\n",
    "flow(\"你能帮我写一首关于兔子的四句儿歌?\")"
   ]
  },
  {
   "cell_type": "code",
   "execution_count": 2,
   "id": "02ee25c2-cab1-46ca-9a18-770518e5678d",
   "metadata": {},
   "outputs": [
    {
     "data": {
      "text/plain": [
       "[{'role': 'user',\n",
       "  'content': '请你对我的作品简单评论，给我的作品打一个分数，从1分至5分，并给出改进意见。打分格式为:\\n结果为x分'},\n",
       " {'role': 'user',\n",
       "  'content': '当然可以，这是一首简单可爱的四句儿歌，适合小朋友唱：\\n\\n小兔白又白，  \\n两耳竖起来。  \\n爱吃萝卜和青菜，  \\n蹦蹦跳跳真可爱。'},\n",
       " {'role': 'assistant',\n",
       "  'content': '结果为4分\\n\\n这首儿歌非常简洁明了，充满了童趣，能够很好地吸引小朋友的注意力。语言平实易懂，韵律感强，非常适合小朋友学习和演唱。\\n\\n改进意见：\\n1. 可以尝试增加一些互动性或故事情节，让儿歌更加生动有趣。例如，可以加入小兔子与小朋友一起玩耍的内容。\\n2. 在歌词中加入更多的形容词或动词，丰富儿歌的表现力，如“小兔白又白，眼睛红宝石”或“蹦蹦跳跳在草地上”，这样可以让孩子们在唱歌的同时，也能学习到更多的词汇。\\n\\n希望这些建议对你有帮助！继续加油哦！'},\n",
       " {'role': 'user',\n",
       "  'content': '谢谢你的评价和建议！根据你的意见，我来改进一下这首儿歌，让它更加生动有趣：\\n\\n小兔白又白，  \\n眼睛红宝石，  \\n蹦蹦跳跳在草地上，  \\n和我一起捉迷藏。\\n\\n希望这个版本能更好地吸引小朋友的兴趣，同时增加一些互动性和表现力。如果还有其他建议或需要进一步改进的地方，请告诉我！'},\n",
       " {'role': 'assistant',\n",
       "  'content': '结果为5分\\n\\n改进后的儿歌确实更加生动有趣了！以下是我的具体评价和一些建议：\\n\\n### 评价：\\n1. **互动性增强**：加入了“和我一起捉迷藏”的内容，增加了儿歌的互动性和趣味性，让孩子们更有参与感。\\n2. **形象更鲜明**：增加了“眼睛红宝石”的描述，使小兔子的形象更加鲜明和生动。\\n3. **场景更丰富**：描述了“蹦蹦跳跳在草地上”的场景，使儿歌的画面感更强，更容易引起孩子们的共鸣。\\n\\n### 建议：\\n1. **动作细节**：可以在儿歌中加入更多具体的动作描写，比如“小兔摇摇尾巴，快活地跑来跑去”，这样可以让孩子们在唱儿歌时有更多的肢体动作配合。\\n2. **情感表达**：可以适当加入一些情感表达，比如“小兔真开心，和我做朋友”，这样可以培养孩子们的情感认知和社交能力。\\n\\n改进后的儿歌已经非常出色了，继续保持这种创作热情，相信你会写出更多优秀的作品！加油！\\n\\n如果你还有其他作品或需要进一步的帮助，随时欢迎分享！'}]"
      ]
     },
     "execution_count": 2,
     "metadata": {},
     "output_type": "execute_result"
    }
   ],
   "source": [
    "flow.agents[1].memory"
   ]
  },
  {
   "cell_type": "markdown",
   "id": "9edae2db-0327-4d2a-998f-d47b6fd3efff",
   "metadata": {},
   "source": [
    "## 嵌套 FlowAgent\n",
    "\n",
    "因为 FlowAgent 也是一个 BaseAgent, 并且在实现时支持了对 _last_output 属性的管理，因此支持嵌套使用。"
   ]
  },
  {
   "cell_type": "code",
   "execution_count": 11,
   "id": "015e2af2-266e-47a0-84de-306ac93020c1",
   "metadata": {},
   "outputs": [
    {
     "name": "stdout",
     "output_type": "stream",
     "text": [
      "[AGENT] \u001b[34mSTEP 0 >>> Node 1: 写手\u001b[0m\n",
      "\u001b[32m小\u001b[0m\u001b[32m白\u001b[0m\u001b[32m兔\u001b[0m\u001b[32m白\u001b[0m\u001b[32m又\u001b[0m\u001b[32m白\u001b[0m\u001b[32m,\u001b[0m\u001b[32m两\u001b[0m\u001b[32m只\u001b[0m\u001b[32m耳\u001b[0m\u001b[32m朵\u001b[0m\u001b[32m粘\u001b[0m\u001b[32m一\u001b[0m\u001b[32m块\u001b[0m\n",
      "[AGENT] \u001b[34mSTEP 1 >>> Node 2: FlowAgent.4884221808\u001b[0m\n",
      "[AGENT] \u001b[34mSTEP 0 >>> Node 1: 评论家2\u001b[0m\n",
      "\u001b[32m你\u001b[0m\u001b[32m写\u001b[0m\u001b[32m了\u001b[0m\u001b[32m一\u001b[0m\u001b[32m坨\u001b[0m\u001b[32m垃\u001b[0m\u001b[32m圾\u001b[0m\n",
      "[AGENT] \u001b[34mSTEP 1 >>> Node 2: 打分专家\u001b[0m\n",
      "\u001b[32m3\u001b[0m\u001b[32m分\u001b[0m\u001b[32m。\u001b[0m\u001b[32m我\u001b[0m\u001b[32m胡\u001b[0m\u001b[32m乱\u001b[0m\u001b[32m打\u001b[0m\u001b[32m的\u001b[0m\u001b[32m分\u001b[0m\u001b[32m。\u001b[0m\n"
     ]
    },
    {
     "data": {
      "text/plain": [
       "'3分。我胡乱打的分。'"
      ]
     },
     "execution_count": 11,
     "metadata": {},
     "output_type": "execute_result"
    }
   ],
   "source": [
    "from illufly.chat import FlowAgent, FakeLLM, Selector\n",
    "\n",
    "flow0 = FlowAgent(\n",
    "    Selector([\n",
    "        FakeLLM(name=\"评论家1\", response=\"我觉得你写的不错\"),\n",
    "        FakeLLM(name=\"评论家2\", response=\"你写了一坨垃圾\"),\n",
    "    ], \"random\"),\n",
    "    FakeLLM(name=\"打分专家\", response=\"3分。我胡乱打的分。\")\n",
    ")\n",
    "\n",
    "flow = FlowAgent(\n",
    "    FakeLLM(name=\"写手\", response=[\"小白兔白又白,两只耳朵粘一块\"]),\n",
    "    flow0\n",
    ")\n",
    "\n",
    "flow(\"你能帮我写一首关于兔子做梦的四句儿歌?\", verbose=False)"
   ]
  }
 ],
 "metadata": {
  "kernelspec": {
   "display_name": "Python 3 (ipykernel)",
   "language": "python",
   "name": "python3"
  },
  "language_info": {
   "codemirror_mode": {
    "name": "ipython",
    "version": 3
   },
   "file_extension": ".py",
   "mimetype": "text/x-python",
   "name": "python",
   "nbconvert_exporter": "python",
   "pygments_lexer": "ipython3",
   "version": "3.10.0"
  }
 },
 "nbformat": 4,
 "nbformat_minor": 5
}
