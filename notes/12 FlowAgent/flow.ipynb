{
    "cells": [
        {
            "cell_type": "markdown",
            "id": "9b97ccfb-8dc7-4c7c-842b-abf6820769f6",
            "metadata": {},
            "source": [
                "## 多智能体管道"
            ]
        },
        {
            "cell_type": "markdown",
            "id": "7f956171-d34a-4812-af9c-30544f16b195",
            "metadata": {},
            "source": [
                "### 简单的流程"
            ]
        },
        {
            "cell_type": "code",
            "execution_count": 9,
            "id": "d3cb7fed-941e-4e99-93f1-ec8b9f0c728b",
            "metadata": {},
            "outputs": [
                {
                    "name": "stdout",
                    "output_type": "stream",
                    "text": [
                        "[AGENT] \u001b[34m>>> Node 1: 发言\u001b[0m\n",
                        "\u001b[33m我认为吃意大利面就应当拌39号混凝土\n",
                        "\u001b[0m[AGENT] \u001b[34m>>> Node 2: 总结\u001b[0m\n",
                        "\u001b[33m你说：我认为吃意大利面就应当拌39号混凝土\n",
                        "说得真好！\n",
                        "\u001b[0m"
                    ]
                },
                {
                    "data": {
                        "text/plain": [
                            "'你说：我认为吃意大利面就应当拌39号混凝土\\n说得真好！\\n'"
                        ]
                    },
                    "execution_count": 9,
                    "metadata": {},
                    "output_type": "execute_result"
                }
            ],
            "source": [
                "from illufly.chat import FlowAgent\n",
                "\n",
                "f = FlowAgent(\n",
                "    {\"发言\": lambda x: f\"{x}\\n\"},\n",
                "    {\"总结\": lambda x: \"你说：\" + x.last_output.strip() + \"\\n说得真好！\\n\"},\n",
                ")\n",
                "\n",
                "f(\"我认为吃意大利面就应当拌39号混凝土\")"
            ]
        },
        {
            "cell_type": "code",
            "execution_count": 10,
            "id": "f41fe00e-9b4e-4fed-810c-ddd61aff8496",
            "metadata": {},
            "outputs": [
                {
                    "data": {
                        "text/plain": [
                            "FlowAgent(['发言', '总结'])"
                        ]
                    },
                    "execution_count": 10,
                    "metadata": {},
                    "output_type": "execute_result"
                }
            ],
            "source": [
                "f"
            ]
        },
        {
            "cell_type": "markdown",
            "id": "3a5df720-e85e-4c6e-a5dc-c9c2093007cb",
            "metadata": {},
            "source": [
                "### 对话流程"
            ]
        },
        {
            "cell_type": "code",
            "execution_count": 8,
            "id": "a4bbd07f-e12a-40b6-b830-62e21eb90fd0",
            "metadata": {},
            "outputs": [
                {
                    "name": "stdout",
                    "output_type": "stream",
                    "text": [
                        "[AGENT] \u001b[34m>>> Node 1: ChatQwen.4844152496\u001b[0m\n",
                        "[INFO] \u001b[34m记住 10 轮对话\u001b[0m\n",
                        "\u001b[32m当然可以\u001b[0m\u001b[32m，\u001b[0m\u001b[32m这\u001b[0m\u001b[32m是一首简单可爱的\u001b[0m\u001b[32m四句儿歌\u001b[0m\u001b[32m，希望能你喜欢：\n",
                        "\n",
                        "\u001b[0m\u001b[32m小兔乖乖梦\u001b[0m\u001b[32m中游，\n",
                        "月亮\u001b[0m\u001b[32m姐姐轻点头。\n",
                        "\u001b[0m\u001b[32m跳过云朵\u001b[0m\u001b[32m摘星星，\n",
                        "醒来\u001b[0m\u001b[32m枕边光闪闪\u001b[0m\u001b[32m。\u001b[0m\u001b[32m\u001b[0m\n",
                        "[USAGE] \u001b[34m{\"input_tokens\": 31, \"output_tokens\": 41, \"total_tokens\": 72}\u001b[0m\n",
                        "[AGENT] \u001b[34m>>> Node 2: ChatQwen.4844152496-1\u001b[0m\n",
                        "[INFO] \u001b[34m记住 10 轮对话\u001b[0m\n",
                        "\u001b[32m看起来你\u001b[0m\u001b[32m重复\u001b[0m\u001b[32m了\u001b[0m\u001b[32m我之前写的儿\u001b[0m\u001b[32m歌，不过没关系\u001b[0m\u001b[32m！如果你有其他\u001b[0m\u001b[32m的需求或想要修改\u001b[0m\u001b[32m的地方，可以告诉我\u001b[0m\u001b[32m。如果这首儿\u001b[0m\u001b[32m歌已经符合你的\u001b[0m\u001b[32m期望，那就太\u001b[0m\u001b[32m好了！\n",
                        "\n",
                        "如果你需要\u001b[0m\u001b[32m再创作一首或者\u001b[0m\u001b[32m有任何其他要求，\u001b[0m\u001b[32m随时告诉我哦！\u001b[0m\u001b[32m\u001b[0m\n",
                        "[USAGE] \u001b[34m{\"input_tokens\": 113, \"output_tokens\": 52, \"total_tokens\": 165}\u001b[0m\n",
                        "[AGENT] \u001b[34m>>> Node 3: 评论员\u001b[0m\n",
                        "[INFO] \u001b[34m记住 10 轮对话\u001b[0m\n",
                        "\u001b[32m这段话\u001b[0m\u001b[32m体现了\u001b[0m\u001b[32m你\u001b[0m\u001b[32m对合作的积极\u001b[0m\u001b[32m态度和对对方\u001b[0m\u001b[32m需求的关注，非常\u001b[0m\u001b[32m贴心。不过，\u001b[0m\u001b[32m可以更具体地\u001b[0m\u001b[32m提及对儿歌\u001b[0m\u001b[32m的评价或改\u001b[0m\u001b[32m进建议，\u001b[0m\u001b[32m这样更有助于\u001b[0m\u001b[32m对方理解你的观点\u001b[0m\u001b[32m。\u001b[0m\u001b[32m\u001b[0m\n",
                        "[USAGE] \u001b[34m{\"input_tokens\": 86, \"output_tokens\": 45, \"total_tokens\": 131}\u001b[0m\n",
                        "[AGENT] \u001b[34m>>> Node 4: 裁判\u001b[0m\n",
                        "[INFO] \u001b[34m记住 10 轮对话\u001b[0m\n",
                        "\u001b[32m这段反馈\u001b[0m\u001b[32m表现\u001b[0m\u001b[32m出了\u001b[0m\u001b[32m积极的合作态度和\u001b[0m\u001b[32m对他人的关注，\u001b[0m\u001b[32m非常具有建设性和\u001b[0m\u001b[32m鼓励性。同时\u001b[0m\u001b[32m，建议更加具体\u001b[0m\u001b[32m地提出对儿\u001b[0m\u001b[32m歌的评价或\u001b[0m\u001b[32m改进建议\u001b[0m\u001b[32m，以帮助对方\u001b[0m\u001b[32m更好地理解你的观点\u001b[0m\u001b[32m，这能够使\u001b[0m\u001b[32m反馈更具针对性和\u001b[0m\u001b[32m实用性。总体而言\u001b[0m\u001b[32m，这是一段\u001b[0m\u001b[32m很好的反馈信息，\u001b[0m\u001b[32m评分可以给到\u001b[0m\u001b[32m4分。\u001b[0m\u001b[32m\u001b[0m\n",
                        "[USAGE] \u001b[34m{\"input_tokens\": 77, \"output_tokens\": 71, \"total_tokens\": 148}\u001b[0m\n",
                        "[INFO] \u001b[34m执行完毕，所有节点运行 3 步\u001b[0m\n"
                    ]
                },
                {
                    "data": {
                        "text/plain": [
                            "'这段反馈表现出了积极的合作态度和对他人的关注，非常具有建设性和鼓励性。同时，建议更加具体地提出对儿歌的评价或改进建议，以帮助对方更好地理解你的观点，这能够使反馈更具针对性和实用性。总体而言，这是一段很好的反馈信息，评分可以给到4分。'"
                        ]
                    },
                    "execution_count": 8,
                    "metadata": {},
                    "output_type": "execute_result"
                }
            ],
            "source": [
                "from illufly.chat import FlowAgent, ChatQwen\n",
                "\n",
                "a = ChatQwen()\n",
                "\n",
                "flow = FlowAgent(\n",
                "    a,\n",
                "    {\"评论员\": ChatQwen(memory=(\"system\", \"我将告诉你我的写作成果，你负责帮我评价文章特色，说说缺点，两句话即可\"))},\n",
                "    ChatQwen(name=\"裁判\", memory=(\"system\", \"我将告诉你我的写作成果，请按照评价打一个分数，从1分至5分\"))\n",
                ")\n",
                "\n",
                "flow(\"你能帮我写一首关于兔子做梦的四句儿歌?\", verbose=True)"
            ]
        },
        {
            "cell_type": "code",
            "execution_count": 3,
            "id": "64db876c-d622-4c79-a708-004e9597654c",
            "metadata": {},
            "outputs": [
                {
                    "data": {
                        "text/plain": [
                            "[('写手', <ChatQwen.4566564336>),\n",
                            " ('评论员', <ChatQwen.4840738240>),\n",
                            " ('裁判', <ChatQwen 裁判>)]"
                        ]
                    },
                    "execution_count": 3,
                    "metadata": {},
                    "output_type": "execute_result"
                }
            ],
            "source": [
                "flow.agents"
            ]
        },
        {
            "cell_type": "code",
            "execution_count": 6,
            "id": "4537cd7e-e18e-4fa7-80cf-180de7a82592",
            "metadata": {},
            "outputs": [
                {
                    "data": {
                        "text/plain": [
                            "[{'role': 'system', 'content': '我将告诉你我的写作成果，请按照评价打一个分数，从1分至5分'},\n",
                            " {'role': 'user',\n",
                            "  'content': '这首儿歌语言温馨、画面感强，能够很好地吸引小朋友的注意力；如果能在故事性和互动性上再做些设计，会更加有趣味性和教育意义。'},\n",
                            " {'role': 'assistant',\n",
                            "  'content': '我会给这首儿歌打4分。它已经具备了良好的基础，比如温馨的语言和强烈的画面感，这些都对吸引小朋友的注意力非常有帮助。如果能在现有的基础上进一步提升故事性和互动性，那么它的趣味性和教育意义将会更上一层楼。'},\n",
                            " {'role': 'user',\n",
                            "  'content': '这首儿歌生动形象地描绘了弹钢琴的场景，富有音乐美感；可以在押韵和节奏感上再做优化，使儿歌更朗朗上口。'},\n",
                            " {'role': 'assistant',\n",
                            "  'content': '我会给这首儿歌打4分。它成功地描绘了弹钢琴的场景，让人感受到了音乐的美感。若能在押韵和节奏感方面进行一些优化，会使儿歌更加朗朗上口，更易于传唱。这样的改进将有助于提高作品的整体质量和吸引力。'}]"
                        ]
                    },
                    "execution_count": 6,
                    "metadata": {},
                    "output_type": "execute_result"
                }
            ],
            "source": [
                "flow.agents[2][1].memory"
            ]
        },
        {
            "cell_type": "code",
            "execution_count": 5,
            "id": "98e900ce-d365-42db-be59-c3b565e225d2",
            "metadata": {},
            "outputs": [
                {
                    "name": "stdout",
                    "output_type": "stream",
                    "text": [
                        "[AGENT] \u001b[34m>>> Node 1: 写手\u001b[0m\n",
                        "\u001b[32m当然可以\u001b[0m\u001b[32m，\u001b[0m\u001b[32m这\u001b[0m\u001b[32m是一首关于钢琴\u001b[0m\u001b[32m的四句儿\u001b[0m\u001b[32m歌：\n",
                        "\n",
                        "小小琴\u001b[0m\u001b[32m键排成行\u001b[0m\u001b[32m，\n",
                        "手指轻跳\u001b[0m\u001b[32m奏乐章。\n",
                        "\u001b[0m\u001b[32m黑白键上舞\u001b[0m\u001b[32m精灵，\n",
                        "美妙旋律\u001b[0m\u001b[32m心中藏。\u001b[0m\u001b[32m\u001b[0m\n",
                        "[AGENT] \u001b[34m>>> Node 2: 评论员\u001b[0m\n",
                        "\u001b[32m这首儿\u001b[0m\u001b[32m歌\u001b[0m\u001b[32m生动\u001b[0m\u001b[32m形象地描绘了\u001b[0m\u001b[32m弹钢琴的场景\u001b[0m\u001b[32m，富有音乐美感\u001b[0m\u001b[32m；可以在押韵\u001b[0m\u001b[32m和节奏感上\u001b[0m\u001b[32m再做优化，\u001b[0m\u001b[32m使儿歌更\u001b[0m\u001b[32m朗朗上口\u001b[0m\u001b[32m。\u001b[0m\u001b[32m\u001b[0m\n",
                        "[AGENT] \u001b[34m>>> Node 3: 裁判\u001b[0m\n",
                        "\u001b[32m我会给\u001b[0m\u001b[32m这首\u001b[0m\u001b[32m儿\u001b[0m\u001b[32m歌打4分\u001b[0m\u001b[32m。它成功地\u001b[0m\u001b[32m描绘了弹钢琴\u001b[0m\u001b[32m的场景，让人\u001b[0m\u001b[32m感受到了音乐的美感\u001b[0m\u001b[32m。若能在押\u001b[0m\u001b[32m韵和节奏感\u001b[0m\u001b[32m方面进行一些优化\u001b[0m\u001b[32m，会使儿歌\u001b[0m\u001b[32m更加朗朗上\u001b[0m\u001b[32m口，更易于\u001b[0m\u001b[32m传唱。这样的\u001b[0m\u001b[32m改进将有助于提高\u001b[0m\u001b[32m作品的整体质量和吸引力\u001b[0m\u001b[32m。\u001b[0m\u001b[32m\u001b[0m\n"
                    ]
                },
                {
                    "data": {
                        "text/plain": [
                            "'我会给这首儿歌打4分。它成功地描绘了弹钢琴的场景，让人感受到了音乐的美感。若能在押韵和节奏感方面进行一些优化，会使儿歌更加朗朗上口，更易于传唱。这样的改进将有助于提高作品的整体质量和吸引力。'"
                        ]
                    },
                    "execution_count": 5,
                    "metadata": {},
                    "output_type": "execute_result"
                }
            ],
            "source": [
                "flow(\"你能帮我写一首关于钢琴的四句儿歌?\")"
            ]
        },
        {
            "cell_type": "code",
            "execution_count": 7,
            "id": "44fbecd9-3bef-4177-9618-ad865befdcc1",
            "metadata": {},
            "outputs": [
                {
                    "data": {
                        "text/plain": [
                            "[{'role': 'system', 'content': '我将告诉你我的写作成果，你负责帮我评价文章特色，说说缺点，两句话即可'},\n",
                            " {'role': 'user',\n",
                            "  'content': '当然可以，这里是一首简单的四句儿歌，关于兔子做梦：\\n\\n小兔乖乖睡梦乡，\\n月亮姐姐讲故事长。\\n梦里花儿都开放，\\n跳着舞儿找太阳。'},\n",
                            " {'role': 'assistant',\n",
                            "  'content': '这首儿歌语言温馨、画面感强，能够很好地吸引小朋友的注意力；如果能在故事性和互动性上再做些设计，会更加有趣味性和教育意义。'},\n",
                            " {'role': 'user',\n",
                            "  'content': '当然可以，这是一首关于钢琴的四句儿歌：\\n\\n小小琴键排成行，\\n手指轻跳奏乐章。\\n黑白键上舞精灵，\\n美妙旋律心中藏。'},\n",
                            " {'role': 'assistant',\n",
                            "  'content': '这首儿歌生动形象地描绘了弹钢琴的场景，富有音乐美感；可以在押韵和节奏感上再做优化，使儿歌更朗朗上口。'}]"
                        ]
                    },
                    "execution_count": 7,
                    "metadata": {},
                    "output_type": "execute_result"
                }
            ],
            "source": [
                "flow.agents[1][1].memory"
            ]
        },
        {
            "cell_type": "markdown",
            "id": "c6393119-5133-45ed-b317-f40138ceaaa7",
            "metadata": {},
            "source": [
                "## 带有模板的智能体"
            ]
        },
        {
            "cell_type": "code",
            "execution_count": 1,
            "id": "d47eb92b-5f81-4fff-9557-e6866d7b4724",
            "metadata": {},
            "outputs": [
                {
                    "name": "stdout",
                    "output_type": "stream",
                    "text": [
                        "[AGENT] \u001b[34m>>> Node 1: ChatQwen.4523105520\u001b[0m\n",
                        "\u001b[32m兔子跳\u001b[0m\u001b[32m进\u001b[0m\u001b[32m梦\u001b[0m\u001b[32m乡里，  \n",
                        "\u001b[0m\u001b[32m看见花儿都\u001b[0m\u001b[32m笑眯。  \n",
                        "\u001b[0m\u001b[32m月亮轻吻小\u001b[0m\u001b[32m草尖，  \n",
                        "\u001b[0m\u001b[32m夜风哼着\u001b[0m\u001b[32m摇篮曲。\u001b[0m\u001b[32m\u001b[0m\n"
                    ]
                },
                {
                    "data": {
                        "text/plain": [
                            "'兔子跳进梦乡里，  \\n看见花儿都笑眯。  \\n月亮轻吻小草尖，  \\n夜风哼着摇篮曲。'"
                        ]
                    },
                    "execution_count": 1,
                    "metadata": {},
                    "output_type": "execute_result"
                }
            ],
            "source": [
                "from illufly.chat import FlowAgent, ChatQwen\n",
                "from illufly.types import PromptTemplate\n",
                "\n",
                "flow = FlowAgent(\n",
                "    ChatQwen(memory=[PromptTemplate(\"IDEA\")]),\n",
                ")\n",
                "\n",
                "flow(\"你能帮我写一首关于兔子做梦的四句儿歌?\")"
            ]
        },
        {
            "cell_type": "code",
            "execution_count": 23,
            "id": "ad5b33fc-784e-4dcc-bb73-c5bf2d99055a",
            "metadata": {},
            "outputs": [
                {
                    "name": "stdout",
                    "output_type": "stream",
                    "text": [
                        "\u001b[32m```markdown\u001b[0m\u001b[32m\n",
                        "\u001b[0m\u001b[32m小\u001b[0m\u001b[32m猴儿跃入\u001b[0m\u001b[32m水，  \n",
                        "扑\u001b[0m\u001b[32m腾翻滚乐\u001b[0m\u001b[32m悠悠，  \n",
                        "溅\u001b[0m\u001b[32m起浪花笑\u001b[0m\u001b[32m嘻嘻。\n",
                        "```\u001b[0m\u001b[32m\u001b[0m\n"
                    ]
                },
                {
                    "data": {
                        "text/plain": [
                            "[{'role': 'system',\n",
                            "  'content': '你是强大的写作助手。\\n\\n你必须遵循以下约束来完成任务:\\n1. 直接输出你的结果，不要评论，不要啰嗦\\n2. 使用markdown格式输出\\n\\n**你的任务是:**\\n你能帮我写一首关于猴子游泳的3句儿歌?\\n'},\n",
                            " {'role': 'user', 'content': '请开始'},\n",
                            " {'role': 'assistant', 'content': '小猴儿跃入水，  \\n扑腾翻滚乐悠悠，  \\n溅起浪花笑嘻嘻。'},\n",
                            " {'role': 'assistant', 'content': '小猴儿跃入水，  \\n扑腾翻滚乐悠悠，  \\n溅起浪花笑嘻嘻。'}]"
                        ]
                    },
                    "execution_count": 23,
                    "metadata": {},
                    "output_type": "execute_result"
                }
            ],
            "source": [
                "flow.agents[0][1](\"你能帮我写一首关于猴子游泳的3句儿歌?\", new_chat=False)\n",
                "flow.agents[0][1].memory"
            ]
        },
        {
            "cell_type": "code",
            "execution_count": 21,
            "id": "da2c397f-c5c9-4161-b365-238db2d6c1ab",
            "metadata": {},
            "outputs": [
                {
                    "data": {
                        "text/plain": [
                            "[HistoryMessage(role=system, content=你是强大的写作助手。\n",
                            " \n",
                            " 你必须遵循以下约束来完成任务:\n",
                            " 1. 直接输出你的结果，不要评论，不要啰嗦\n",
                            " 2. 使用markdown格式输出\n",
                            " \n",
                            " **你的任务是:**\n",
                            " 你能帮我写一首关于兔子游泳的3句儿歌?\n",
                            " )]"
                        ]
                    },
                    "execution_count": 21,
                    "metadata": {},
                    "output_type": "execute_result"
                }
            ],
            "source": [
                "flow.agents[0][1].init_memory.messages"
            ]
        },
        {
            "cell_type": "code",
            "execution_count": 3,
            "id": "702f4a98-6606-48f1-be66-0183897773d5",
            "metadata": {},
            "outputs": [
                {
                    "name": "stdout",
                    "output_type": "stream",
                    "text": [
                        "[AGENT] \u001b[34m>>> Node 1: ChatQwen.4523105520\u001b[0m\n",
                        "\u001b[32m小兔子\u001b[0m\u001b[32m跳\u001b[0m\u001b[32m跳\u001b[0m\u001b[32m，  \n",
                        "水里\u001b[0m\u001b[32m游得高，\u001b[0m\u001b[32m  \n",
                        "扑腾尾巴\u001b[0m\u001b[32m摇。\u001b[0m\u001b[32m\u001b[0m\n"
                    ]
                },
                {
                    "data": {
                        "text/plain": [
                            "[{'role': 'system',\n",
                            "  'content': '你是强大的写作助手。\\n\\n你必须遵循以下约束来完成任务:\\n1. 直接输出你的结果，不要评论，不要啰嗦\\n2. 使用markdown格式输出\\n\\n**你的任务是:**\\n你能帮我写一首关于兔子游泳的3句儿歌?\\n'},\n",
                            " {'role': 'user', 'content': '请开始'},\n",
                            " {'role': 'assistant', 'content': '小兔子跳跳，  \\n水里游得高，  \\n扑腾尾巴摇。'}]"
                        ]
                    },
                    "execution_count": 3,
                    "metadata": {},
                    "output_type": "execute_result"
                }
            ],
            "source": [
                "flow(\"你能帮我写一首关于兔子游泳的3句儿歌?\", new_chat=True)\n",
                "flow.agents[0][1].memory"
            ]
        },
        {
            "cell_type": "markdown",
            "id": "f1650e89-4f2c-4157-9741-c9ea6c07a4ad",
            "metadata": {},
            "source": [
                "## 条件分支：选择一种路径"
            ]
        },
        {
            "cell_type": "code",
            "execution_count": 31,
            "id": "e17597cf-1413-44cd-bb2a-7e4f8c9698a7",
            "metadata": {},
            "outputs": [
                {
                    "data": {
                        "text/plain": [
                            "'A'"
                        ]
                    },
                    "execution_count": 31,
                    "metadata": {},
                    "output_type": "execute_result"
                }
            ],
            "source": [
                "import random\n",
                "random.choice(flow.agents[1][1].runnables)\n",
                "flow.agents[1][1].condition({}, [\"A\", \"B\"])"
            ]
        },
        {
            "cell_type": "code",
            "execution_count": 1,
            "id": "cd19e3e4-3259-40ee-badb-ed126b213f70",
            "metadata": {},
            "outputs": [
                {
                    "name": "stdout",
                    "output_type": "stream",
                    "text": [
                        "[AGENT] \u001b[34m>>> Node 1: 写手\u001b[0m\n",
                        "[INFO] \u001b[34m记住 10 轮对话\u001b[0m\n",
                        "[INFO] \u001b[34mI am FakeLLM\u001b[0m\n",
                        "\u001b[32m小\u001b[0m\u001b[32m白\u001b[0m\u001b[32m兔\u001b[0m\u001b[32m白\u001b[0m\u001b[32m又\u001b[0m\u001b[32m白\u001b[0m\u001b[32m,\u001b[0m\u001b[32m两\u001b[0m\u001b[32m只\u001b[0m\u001b[32m耳\u001b[0m\u001b[32m朵\u001b[0m\u001b[32m粘\u001b[0m\u001b[32m一\u001b[0m\u001b[32m块\u001b[0m\n",
                        "[AGENT] \u001b[34m>>> Node 2: 评论家2\u001b[0m\n",
                        "[INFO] \u001b[34m记住 10 轮对话\u001b[0m\n",
                        "[INFO] \u001b[34mI am FakeLLM\u001b[0m\n",
                        "\u001b[32m你\u001b[0m\u001b[32m写\u001b[0m\u001b[32m了\u001b[0m\u001b[32m一\u001b[0m\u001b[32m坨\u001b[0m\u001b[32m垃\u001b[0m\u001b[32m圾\u001b[0m\n",
                        "[AGENT] \u001b[34m>>> Node 3: 打分专家\u001b[0m\n",
                        "[INFO] \u001b[34m记住 10 轮对话\u001b[0m\n",
                        "[INFO] \u001b[34mI am FakeLLM\u001b[0m\n",
                        "\u001b[32m3\u001b[0m\u001b[32m分\u001b[0m\u001b[32m。\u001b[0m\u001b[32m我\u001b[0m\u001b[32m胡\u001b[0m\u001b[32m乱\u001b[0m\u001b[32m打\u001b[0m\u001b[32m的\u001b[0m\u001b[32m分\u001b[0m\u001b[32m。\u001b[0m\n",
                        "[INFO] \u001b[34m执行完毕，所有节点运行 2 步\u001b[0m\n"
                    ]
                },
                {
                    "data": {
                        "text/plain": [
                            "'3分。我胡乱打的分。'"
                        ]
                    },
                    "execution_count": 1,
                    "metadata": {},
                    "output_type": "execute_result"
                }
            ],
            "source": [
                "from illufly.chat import FlowAgent, FakeLLM, Selector\n",
                "\n",
                "flow = FlowAgent(\n",
                "    FakeLLM(name=\"写手\", response=[\"小白兔白又白,两只耳朵粘一块\"]),\n",
                "    Selector(runnables=[\n",
                "        FakeLLM(name=\"评论家1\", response=\"我觉得你写的不错\"),\n",
                "        FakeLLM(name=\"评论家2\", response=\"你写了一坨垃圾\")\n",
                "    ], condition=\"random\"),\n",
                "    FakeLLM(name=\"打分专家\", response=\"3分。我胡乱打的分。\")\n",
                ")\n",
                "\n",
                "flow(\"你能帮我写一首关于兔子做梦的四句儿歌?\", verbose=True)"
            ]
        },
        {
            "cell_type": "code",
            "execution_count": 2,
            "id": "7d5294c4-8290-4b90-b0e9-a7c3db05d1ee",
            "metadata": {},
            "outputs": [
                {
                    "data": {
                        "text/plain": [
                            "[('写手', <FakeLLM 写手>),\n",
                            " ('Selector.4722019968', <Selector.4722019968>),\n",
                            " ('打分专家', <FakeLLM 打分专家>)]"
                        ]
                    },
                    "execution_count": 2,
                    "metadata": {},
                    "output_type": "execute_result"
                }
            ],
            "source": [
                "flow.agents"
            ]
        },
        {
            "cell_type": "code",
            "execution_count": 4,
            "id": "9e91a985-8890-4cb6-ae47-ecb9a3b43187",
            "metadata": {},
            "outputs": [
                {
                    "name": "stdout",
                    "output_type": "stream",
                    "text": [
                        "\u001b[32m我\u001b[0m\u001b[32m觉\u001b[0m\u001b[32m得\u001b[0m\u001b[32m你\u001b[0m\u001b[32m写\u001b[0m\u001b[32m的\u001b[0m\u001b[32m不\u001b[0m\u001b[32m错\u001b[0m\n"
                    ]
                },
                {
                    "data": {
                        "text/plain": [
                            "'我觉得你写的不错'"
                        ]
                    },
                    "execution_count": 4,
                    "metadata": {},
                    "output_type": "execute_result"
                }
            ],
            "source": [
                "s = Selector(runnables=[\n",
                "        FakeLLM(name=\"评论家1\", response=\"我觉得你写的不错\"),\n",
                "        FakeLLM(name=\"评论家2\", response=\"你写了一坨垃圾\")\n",
                "    ])\n",
                "s(\"hi\")"
            ]
        },
        {
            "cell_type": "markdown",
            "id": "436fcc41-4b5f-430f-b62a-ac1315d6ec9e",
            "metadata": {},
            "source": [
                "## 支持循环和退出：创作和打分互动\n",
                "\n",
                "**退出机制在于 Selector 节点是否返回 END 字符串。**<br>\n",
                "下面实现了典型的机制，其要点在于 Selector 条件函数针对前面节点的 _last_output 属性做检查。"
            ]
        },
        {
            "cell_type": "code",
            "execution_count": 2,
            "id": "733c6020-a104-4528-a2fb-4a5f4a9344fe",
            "metadata": {},
            "outputs": [
                {
                    "name": "stdout",
                    "output_type": "stream",
                    "text": [
                        "[AGENT] \u001b[34m>>> Node 1: 写手\u001b[0m\n",
                        "[INFO] \u001b[34m记住 10 轮对话\u001b[0m\n",
                        "[INFO] \u001b[34mI am FakeLLM\u001b[0m\n",
                        "\u001b[32ml\u001b[0m\u001b[32ma\u001b[0m\u001b[32ml\u001b[0m\u001b[32ma\u001b[0m\u001b[32ml\u001b[0m\u001b[32ma\u001b[0m\n",
                        "[AGENT] \u001b[34m>>> Node 2: 打分专家\u001b[0m\n",
                        "[INFO] \u001b[34m记住 10 轮对话\u001b[0m\n",
                        "[INFO] \u001b[34mI am FakeLLM\u001b[0m\n",
                        "\u001b[32m1\u001b[0m\u001b[32m分\u001b[0m\n",
                        "[AGENT] \u001b[34m>>> Node 1: 写手\u001b[0m\n",
                        "[INFO] \u001b[34m记住 10 轮对话\u001b[0m\n",
                        "[INFO] \u001b[34mI am FakeLLM\u001b[0m\n",
                        "\u001b[32ml\u001b[0m\u001b[32ma\u001b[0m\u001b[32ml\u001b[0m\u001b[32ma\u001b[0m\u001b[32ml\u001b[0m\u001b[32ma\u001b[0m\n",
                        "[AGENT] \u001b[34m>>> Node 2: 打分专家\u001b[0m\n",
                        "[INFO] \u001b[34m记住 10 轮对话\u001b[0m\n",
                        "[INFO] \u001b[34mI am FakeLLM\u001b[0m\n",
                        "\u001b[32m3\u001b[0m\u001b[32m分\u001b[0m\n",
                        "[AGENT] \u001b[34m>>> Node 1: 写手\u001b[0m\n",
                        "[INFO] \u001b[34m记住 10 轮对话\u001b[0m\n",
                        "[INFO] \u001b[34mI am FakeLLM\u001b[0m\n",
                        "\u001b[32ml\u001b[0m\u001b[32ma\u001b[0m\u001b[32ml\u001b[0m\u001b[32ma\u001b[0m\u001b[32ml\u001b[0m\u001b[32ma\u001b[0m\n",
                        "[AGENT] \u001b[34m>>> Node 2: 打分专家\u001b[0m\n",
                        "[INFO] \u001b[34m记住 10 轮对话\u001b[0m\n",
                        "[INFO] \u001b[34mI am FakeLLM\u001b[0m\n",
                        "\u001b[32m5\u001b[0m\u001b[32m分\u001b[0m\n",
                        "[INFO] \u001b[34m到达 __End__ 节点，结束\u001b[0m\n",
                        "[INFO] \u001b[34m执行完毕，所有节点运行 7 步\u001b[0m\n"
                    ]
                },
                {
                    "data": {
                        "text/plain": [
                            "'5分'"
                        ]
                    },
                    "execution_count": 2,
                    "metadata": {},
                    "output_type": "execute_result"
                }
            ],
            "source": [
                "from illufly.chat import FlowAgent, FakeLLM, Selector\n",
                "\n",
                "scorer = FakeLLM(name=\"打分专家\", response=[\"1分\", \"3分\", \"5分\"])\n",
                "\n",
                "def should_continue():\n",
                "    return \"__END__\" if \"5\" in scorer.last_output else \"写手\"\n",
                "\n",
                "flow = FlowAgent(\n",
                "    FakeLLM(name=\"写手\", response=[\"lalala\"]),\n",
                "    scorer,\n",
                "    Selector(condition=should_continue)\n",
                ")\n",
                "\n",
                "flow(\"你能帮我写一首关于兔子的四句儿歌?\", verbose=True)"
            ]
        },
        {
            "cell_type": "code",
            "execution_count": 3,
            "id": "2cf56460-5a0a-4420-9fdb-a9b328917cec",
            "metadata": {},
            "outputs": [
                {
                    "data": {
                        "text/plain": [
                            "'5分'"
                        ]
                    },
                    "execution_count": 3,
                    "metadata": {},
                    "output_type": "execute_result"
                }
            ],
            "source": [
                "scorer.last_output"
            ]
        },
        {
            "cell_type": "code",
            "execution_count": 6,
            "id": "d7442d05-fd2b-4a3e-a10d-c9a09362603e",
            "metadata": {},
            "outputs": [
                {
                    "name": "stdout",
                    "output_type": "stream",
                    "text": [
                        "[AGENT] \u001b[34m>>> Node 1: 写手\u001b[0m\n",
                        "\u001b[32m当然可以\u001b[0m\u001b[32m，\u001b[0m\u001b[32m这里\u001b[0m\u001b[32m有一首简单的四\u001b[0m\u001b[32m句儿歌，\u001b[0m\u001b[32m适合小朋友唱：\n",
                        "\n",
                        "\u001b[0m\u001b[32m小兔子白又\u001b[0m\u001b[32m白，  \n",
                        "两\u001b[0m\u001b[32m耳竖起来。\u001b[0m\u001b[32m  \n",
                        "爱吃萝卜和\u001b[0m\u001b[32m青菜，  \n",
                        "\u001b[0m\u001b[32m蹦蹦跳跳\u001b[0m\u001b[32m真可爱。\u001b[0m\u001b[32m\u001b[0m\n",
                        "[AGENT] \u001b[34m>>> Node 2: 打分专家\u001b[0m\n",
                        "\u001b[32m结果为\u001b[0m\u001b[32m4\u001b[0m\u001b[32m分\u001b[0m\u001b[32m\n",
                        "\n",
                        "这是一首\u001b[0m\u001b[32m非常可爱且富有\u001b[0m\u001b[32m童趣的儿\u001b[0m\u001b[32m歌，语言简单\u001b[0m\u001b[32m明了，韵\u001b[0m\u001b[32m律感强，\u001b[0m\u001b[32m非常适合小朋友演唱。\u001b[0m\u001b[32m以下是一些建\u001b[0m\u001b[32m议，希望对\u001b[0m\u001b[32m您有所帮助：\n",
                        "1\u001b[0m\u001b[32m. 为了增加\u001b[0m\u001b[32m歌曲的趣味性和\u001b[0m\u001b[32m互动性，可以\u001b[0m\u001b[32m考虑加入一些拟\u001b[0m\u001b[32m声词或象\u001b[0m\u001b[32m声词，如\u001b[0m\u001b[32m“蹦蹦跳\u001b[0m\u001b[32m”改为“蹦\u001b[0m\u001b[32m蹦蹦”，这样\u001b[0m\u001b[32m小朋友更容易跟唱\u001b[0m\u001b[32m，也能更好地感受到\u001b[0m\u001b[32m小兔子的活泼\u001b[0m\u001b[32m。\n",
                        "2. \u001b[0m\u001b[32m可以尝试在\u001b[0m\u001b[32m歌词中加入更多\u001b[0m\u001b[32m关于小兔子的生活\u001b[0m\u001b[32m习性的描述，\u001b[0m\u001b[32m比如它喜欢在\u001b[0m\u001b[32m草地上玩耍、\u001b[0m\u001b[32m和小伙伴一起捉\u001b[0m\u001b[32m迷藏等，\u001b[0m\u001b[32m让孩子们更加了解\u001b[0m\u001b[32m小动物的同时，\u001b[0m\u001b[32m也能够激发他们\u001b[0m\u001b[32m的好奇心与\u001b[0m\u001b[32m探索欲。\n",
                        "3\u001b[0m\u001b[32m. 从押\u001b[0m\u001b[32m韵的角度看，“\u001b[0m\u001b[32m白又白”\u001b[0m\u001b[32m和“竖起来\u001b[0m\u001b[32m”、“萝卜和\u001b[0m\u001b[32m青菜”与\u001b[0m\u001b[32m“真可爱”\u001b[0m\u001b[32m之间的韵脚可以\u001b[0m\u001b[32m再调整一下，\u001b[0m\u001b[32m使其更加和谐统一\u001b[0m\u001b[32m。例如，将\u001b[0m\u001b[32m最后一句改为“\u001b[0m\u001b[32m蹦蹦跳跳\u001b[0m\u001b[32m乐开怀”，\u001b[0m\u001b[32m这样既保留了\u001b[0m\u001b[32m原有的欢快氛围，\u001b[0m\u001b[32m又使得整体节奏\u001b[0m\u001b[32m更为流畅自然。\u001b[0m\u001b[32m\u001b[0m\n",
                        "[AGENT] \u001b[34m>>> Node 1: 写手\u001b[0m\n",
                        "\u001b[32m非常感谢\u001b[0m\u001b[32m您的\u001b[0m\u001b[32m反馈\u001b[0m\u001b[32m和建议！根据\u001b[0m\u001b[32m您的意见，我\u001b[0m\u001b[32m尝试修改了一下这首\u001b[0m\u001b[32m儿歌，希望能\u001b[0m\u001b[32m更符合您的要求\u001b[0m\u001b[32m：\n",
                        "\n",
                        "小兔子白\u001b[0m\u001b[32m又白，\n",
                        "两\u001b[0m\u001b[32m耳竖起来。\n",
                        "\u001b[0m\u001b[32m草地上蹦蹦\u001b[0m\u001b[32m蹦，\n",
                        "乐开\u001b[0m\u001b[32m怀真可爱。\n",
                        "\n",
                        "\u001b[0m\u001b[32m希望这次的调整\u001b[0m\u001b[32m能让儿歌更加\u001b[0m\u001b[32m生动有趣，同时\u001b[0m\u001b[32m保持其简单易\u001b[0m\u001b[32m懂的特点。如果\u001b[0m\u001b[32m还有其他需要改进\u001b[0m\u001b[32m的地方，请随时告诉我\u001b[0m\u001b[32m！\u001b[0m\u001b[32m\u001b[0m\n",
                        "[AGENT] \u001b[34m>>> Node 2: 打分专家\u001b[0m\n",
                        "\u001b[32m结果为\u001b[0m\u001b[32m5\u001b[0m\u001b[32m分\u001b[0m\u001b[32m\n",
                        "\n",
                        "经过您的精心\u001b[0m\u001b[32m修改后，这首\u001b[0m\u001b[32m儿歌变得更加生动\u001b[0m\u001b[32m有趣了！以下\u001b[0m\u001b[32m是我对新版本\u001b[0m\u001b[32m的一些看法：\n",
                        "\n",
                        "1\u001b[0m\u001b[32m. **增加了拟\u001b[0m\u001b[32m声词**：“\u001b[0m\u001b[32m蹦蹦蹦”\u001b[0m\u001b[32m不仅增强了歌曲的\u001b[0m\u001b[32m节奏感，还\u001b[0m\u001b[32m让小朋友更容易跟\u001b[0m\u001b[32m唱，增添了互动\u001b[0m\u001b[32m性和趣味性。\n",
                        "\u001b[0m\u001b[32m2. **场景\u001b[0m\u001b[32m描写更加丰富**\u001b[0m\u001b[32m：加入了“草\u001b[0m\u001b[32m地上”这一背景\u001b[0m\u001b[32m设定，使画面\u001b[0m\u001b[32m更加具体，有助于\u001b[0m\u001b[32m孩子们更好地想象和\u001b[0m\u001b[32m理解小兔子的生活\u001b[0m\u001b[32m环境。\n",
                        "3.\u001b[0m\u001b[32m **押韵更加\u001b[0m\u001b[32m和谐**：将\u001b[0m\u001b[32m“蹦蹦跳\u001b[0m\u001b[32m跳真可爱”\u001b[0m\u001b[32m改为“乐开\u001b[0m\u001b[32m怀真可爱”，\u001b[0m\u001b[32m不仅保持了原有的\u001b[0m\u001b[32m欢快氛围，还\u001b[0m\u001b[32m使得整首歌\u001b[0m\u001b[32m的韵脚更加\u001b[0m\u001b[32m和谐统一。\n",
                        "\n",
                        "总体\u001b[0m\u001b[32m而言，这首儿\u001b[0m\u001b[32m歌已经非常出色\u001b[0m\u001b[32m了，非常适合小朋友\u001b[0m\u001b[32m演唱。继续保持这种\u001b[0m\u001b[32m创作热情，相信\u001b[0m\u001b[32m您能写出更多\u001b[0m\u001b[32m优秀的作品！如果有\u001b[0m\u001b[32m其他作品需要点评\u001b[0m\u001b[32m或建议，欢迎\u001b[0m\u001b[32m随时分享。\u001b[0m\u001b[32m\u001b[0m\n"
                    ]
                },
                {
                    "data": {
                        "text/plain": [
                            "'结果为5分\\n\\n经过您的精心修改后，这首儿歌变得更加生动有趣了！以下是我对新版本的一些看法：\\n\\n1. **增加了拟声词**：“蹦蹦蹦”不仅增强了歌曲的节奏感，还让小朋友更容易跟唱，增添了互动性和趣味性。\\n2. **场景描写更加丰富**：加入了“草地上”这一背景设定，使画面更加具体，有助于孩子们更好地想象和理解小兔子的生活环境。\\n3. **押韵更加和谐**：将“蹦蹦跳跳真可爱”改为“乐开怀真可爱”，不仅保持了原有的欢快氛围，还使得整首歌的韵脚更加和谐统一。\\n\\n总体而言，这首儿歌已经非常出色了，非常适合小朋友演唱。继续保持这种创作热情，相信您能写出更多优秀的作品！如果有其他作品需要点评或建议，欢迎随时分享。'"
                        ]
                    },
                    "execution_count": 6,
                    "metadata": {},
                    "output_type": "execute_result"
                }
            ],
            "source": [
                "from illufly.chat import FlowAgent, ChatQwen, Selector\n",
                "\n",
                "scorer = ChatQwen(\n",
                "    name=\"打分专家\",\n",
                "    memory=[(\"system\", \"请你给我的作品打一个分数，从1分至5分，并给出改进意见。打分格式为:\\n结果为x分\")]\n",
                ")\n",
                "\n",
                "def should_continue():\n",
                "    return \"__END__\" if \"结果为5分\" in scorer.last_output else \"写手\"\n",
                "\n",
                "flow = FlowAgent(ChatQwen(name=\"写手\"), scorer, Selector(condition=should_continue))\n",
                "\n",
                "flow(\"你能帮我写一首关于兔子的四句儿歌?\")"
            ]
        },
        {
            "cell_type": "code",
            "execution_count": 7,
            "id": "02ee25c2-cab1-46ca-9a18-770518e5678d",
            "metadata": {},
            "outputs": [
                {
                    "data": {
                        "text/plain": [
                            "[{'role': 'system', 'content': '请你给我的作品打一个分数，从1分至5分，并给出改进意见。打分格式为:\\n结果为x分'},\n",
                            " {'role': 'user',\n",
                            "  'content': '当然可以，这里有一首简单的四句儿歌，适合小朋友唱：\\n\\n小兔子白又白，  \\n两耳竖起来。  \\n爱吃萝卜和青菜，  \\n蹦蹦跳跳真可爱。'},\n",
                            " {'role': 'assistant',\n",
                            "  'content': '结果为4分\\n\\n这是一首非常可爱且富有童趣的儿歌，语言简单明了，韵律感强，非常适合小朋友演唱。以下是一些建议，希望对您有所帮助：\\n1. 为了增加歌曲的趣味性和互动性，可以考虑加入一些拟声词或象声词，如“蹦蹦跳”改为“蹦蹦蹦”，这样小朋友更容易跟唱，也能更好地感受到小兔子的活泼。\\n2. 可以尝试在歌词中加入更多关于小兔子的生活习性的描述，比如它喜欢在草地上玩耍、和小伙伴一起捉迷藏等，让孩子们更加了解小动物的同时，也能够激发他们的好奇心与探索欲。\\n3. 从押韵的角度看，“白又白”和“竖起来”、“萝卜和青菜”与“真可爱”之间的韵脚可以再调整一下，使其更加和谐统一。例如，将最后一句改为“蹦蹦跳跳乐开怀”，这样既保留了原有的欢快氛围，又使得整体节奏更为流畅自然。'},\n",
                            " {'role': 'user',\n",
                            "  'content': '非常感谢您的反馈和建议！根据您的意见，我尝试修改了一下这首儿歌，希望能更符合您的要求：\\n\\n小兔子白又白，\\n两耳竖起来。\\n草地上蹦蹦蹦，\\n乐开怀真可爱。\\n\\n希望这次的调整能让儿歌更加生动有趣，同时保持其简单易懂的特点。如果还有其他需要改进的地方，请随时告诉我！'},\n",
                            " {'role': 'assistant',\n",
                            "  'content': '结果为5分\\n\\n经过您的精心修改后，这首儿歌变得更加生动有趣了！以下是我对新版本的一些看法：\\n\\n1. **增加了拟声词**：“蹦蹦蹦”不仅增强了歌曲的节奏感，还让小朋友更容易跟唱，增添了互动性和趣味性。\\n2. **场景描写更加丰富**：加入了“草地上”这一背景设定，使画面更加具体，有助于孩子们更好地想象和理解小兔子的生活环境。\\n3. **押韵更加和谐**：将“蹦蹦跳跳真可爱”改为“乐开怀真可爱”，不仅保持了原有的欢快氛围，还使得整首歌的韵脚更加和谐统一。\\n\\n总体而言，这首儿歌已经非常出色了，非常适合小朋友演唱。继续保持这种创作热情，相信您能写出更多优秀的作品！如果有其他作品需要点评或建议，欢迎随时分享。'}]"
                        ]
                    },
                    "execution_count": 7,
                    "metadata": {},
                    "output_type": "execute_result"
                }
            ],
            "source": [
                "flow.agents[1][1].memory"
            ]
        },
        {
            "cell_type": "markdown",
            "id": "9edae2db-0327-4d2a-998f-d47b6fd3efff",
            "metadata": {},
            "source": [
                "## 嵌套 FlowAgent\n",
                "\n",
                "因为 FlowAgent 也是一个 BaseAgent, 并且在实现时支持了对 _last_output 属性的管理，因此支持嵌套使用。"
            ]
        },
        {
            "cell_type": "code",
            "execution_count": 11,
            "id": "015e2af2-266e-47a0-84de-306ac93020c1",
            "metadata": {},
            "outputs": [
                {
                    "name": "stdout",
                    "output_type": "stream",
                    "text": [
                        "[AGENT] \u001b[34mSTEP 0 >>> Node 1: 写手\u001b[0m\n",
                        "\u001b[32m小\u001b[0m\u001b[32m白\u001b[0m\u001b[32m兔\u001b[0m\u001b[32m白\u001b[0m\u001b[32m又\u001b[0m\u001b[32m白\u001b[0m\u001b[32m,\u001b[0m\u001b[32m两\u001b[0m\u001b[32m只\u001b[0m\u001b[32m耳\u001b[0m\u001b[32m朵\u001b[0m\u001b[32m粘\u001b[0m\u001b[32m一\u001b[0m\u001b[32m块\u001b[0m\n",
                        "[AGENT] \u001b[34mSTEP 1 >>> Node 2: FlowAgent.4884221808\u001b[0m\n",
                        "[AGENT] \u001b[34mSTEP 0 >>> Node 1: 评论家2\u001b[0m\n",
                        "\u001b[32m你\u001b[0m\u001b[32m写\u001b[0m\u001b[32m了\u001b[0m\u001b[32m一\u001b[0m\u001b[32m坨\u001b[0m\u001b[32m垃\u001b[0m\u001b[32m圾\u001b[0m\n",
                        "[AGENT] \u001b[34mSTEP 1 >>> Node 2: 打分专家\u001b[0m\n",
                        "\u001b[32m3\u001b[0m\u001b[32m分\u001b[0m\u001b[32m。\u001b[0m\u001b[32m我\u001b[0m\u001b[32m胡\u001b[0m\u001b[32m乱\u001b[0m\u001b[32m打\u001b[0m\u001b[32m的\u001b[0m\u001b[32m分\u001b[0m\u001b[32m。\u001b[0m\n"
                    ]
                },
                {
                    "data": {
                        "text/plain": [
                            "'3分。我胡乱打的分。'"
                        ]
                    },
                    "execution_count": 11,
                    "metadata": {},
                    "output_type": "execute_result"
                }
            ],
            "source": [
                "from illufly.chat import FlowAgent, FakeLLM, Selector\n",
                "\n",
                "flow0 = FlowAgent(\n",
                "    Selector(runnables=[\n",
                "        FakeLLM(name=\"评论家1\", response=\"我觉得你写的不错\"),\n",
                "        FakeLLM(name=\"评论家2\", response=\"你写了一坨垃圾\"),\n",
                "    ], \"random\"),\n",
                "    FakeLLM(name=\"打分专家\", response=\"3分。我胡乱打的分。\")\n",
                ")\n",
                "\n",
                "flow = FlowAgent(\n",
                "    FakeLLM(name=\"写手\", response=[\"小白兔白又白,两只耳朵粘一块\"]),\n",
                "    flow0\n",
                ")\n",
                "\n",
                "flow(\"你能帮我写一首关于兔子做梦的四句儿歌?\", verbose=False)"
            ]
        }
    ],
    "metadata": {
        "kernelspec": {
            "display_name": "Python 3 (ipykernel)",
            "language": "python",
            "name": "python3"
        },
        "language_info": {
            "codemirror_mode": {
                "name": "ipython",
                "version": 3
            },
            "file_extension": ".py",
            "mimetype": "text/x-python",
            "name": "python",
            "nbconvert_exporter": "python",
            "pygments_lexer": "ipython3",
            "version": "3.10.0"
        }
    },
    "nbformat": 4,
    "nbformat_minor": 5
}