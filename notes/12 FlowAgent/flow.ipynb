{
 "cells": [
  {
   "cell_type": "markdown",
   "id": "9b97ccfb-8dc7-4c7c-842b-abf6820769f6",
   "metadata": {},
   "source": [
    "## 多智能体管道"
   ]
  },
  {
   "cell_type": "code",
   "execution_count": 8,
   "id": "a4bbd07f-e12a-40b6-b830-62e21eb90fd0",
   "metadata": {},
   "outputs": [
    {
     "name": "stdout",
     "output_type": "stream",
     "text": [
      "[AGENT] \u001b[34m>>> Node 1: ChatQwen.4844152496\u001b[0m\n",
      "[INFO] \u001b[34m记住 10 轮对话\u001b[0m\n",
      "\u001b[32m当然可以\u001b[0m\u001b[32m，\u001b[0m\u001b[32m这\u001b[0m\u001b[32m是一首简单可爱的\u001b[0m\u001b[32m四句儿歌\u001b[0m\u001b[32m，希望能你喜欢：\n",
      "\n",
      "\u001b[0m\u001b[32m小兔乖乖梦\u001b[0m\u001b[32m中游，\n",
      "月亮\u001b[0m\u001b[32m姐姐轻点头。\n",
      "\u001b[0m\u001b[32m跳过云朵\u001b[0m\u001b[32m摘星星，\n",
      "醒来\u001b[0m\u001b[32m枕边光闪闪\u001b[0m\u001b[32m。\u001b[0m\u001b[32m\u001b[0m\n",
      "[USAGE] \u001b[34m{\"input_tokens\": 31, \"output_tokens\": 41, \"total_tokens\": 72}\u001b[0m\n",
      "[AGENT] \u001b[34m>>> Node 2: ChatQwen.4844152496-1\u001b[0m\n",
      "[INFO] \u001b[34m记住 10 轮对话\u001b[0m\n",
      "\u001b[32m看起来你\u001b[0m\u001b[32m重复\u001b[0m\u001b[32m了\u001b[0m\u001b[32m我之前写的儿\u001b[0m\u001b[32m歌，不过没关系\u001b[0m\u001b[32m！如果你有其他\u001b[0m\u001b[32m的需求或想要修改\u001b[0m\u001b[32m的地方，可以告诉我\u001b[0m\u001b[32m。如果这首儿\u001b[0m\u001b[32m歌已经符合你的\u001b[0m\u001b[32m期望，那就太\u001b[0m\u001b[32m好了！\n",
      "\n",
      "如果你需要\u001b[0m\u001b[32m再创作一首或者\u001b[0m\u001b[32m有任何其他要求，\u001b[0m\u001b[32m随时告诉我哦！\u001b[0m\u001b[32m\u001b[0m\n",
      "[USAGE] \u001b[34m{\"input_tokens\": 113, \"output_tokens\": 52, \"total_tokens\": 165}\u001b[0m\n",
      "[AGENT] \u001b[34m>>> Node 3: 评论员\u001b[0m\n",
      "[INFO] \u001b[34m记住 10 轮对话\u001b[0m\n",
      "\u001b[32m这段话\u001b[0m\u001b[32m体现了\u001b[0m\u001b[32m你\u001b[0m\u001b[32m对合作的积极\u001b[0m\u001b[32m态度和对对方\u001b[0m\u001b[32m需求的关注，非常\u001b[0m\u001b[32m贴心。不过，\u001b[0m\u001b[32m可以更具体地\u001b[0m\u001b[32m提及对儿歌\u001b[0m\u001b[32m的评价或改\u001b[0m\u001b[32m进建议，\u001b[0m\u001b[32m这样更有助于\u001b[0m\u001b[32m对方理解你的观点\u001b[0m\u001b[32m。\u001b[0m\u001b[32m\u001b[0m\n",
      "[USAGE] \u001b[34m{\"input_tokens\": 86, \"output_tokens\": 45, \"total_tokens\": 131}\u001b[0m\n",
      "[AGENT] \u001b[34m>>> Node 4: 裁判\u001b[0m\n",
      "[INFO] \u001b[34m记住 10 轮对话\u001b[0m\n",
      "\u001b[32m这段反馈\u001b[0m\u001b[32m表现\u001b[0m\u001b[32m出了\u001b[0m\u001b[32m积极的合作态度和\u001b[0m\u001b[32m对他人的关注，\u001b[0m\u001b[32m非常具有建设性和\u001b[0m\u001b[32m鼓励性。同时\u001b[0m\u001b[32m，建议更加具体\u001b[0m\u001b[32m地提出对儿\u001b[0m\u001b[32m歌的评价或\u001b[0m\u001b[32m改进建议\u001b[0m\u001b[32m，以帮助对方\u001b[0m\u001b[32m更好地理解你的观点\u001b[0m\u001b[32m，这能够使\u001b[0m\u001b[32m反馈更具针对性和\u001b[0m\u001b[32m实用性。总体而言\u001b[0m\u001b[32m，这是一段\u001b[0m\u001b[32m很好的反馈信息，\u001b[0m\u001b[32m评分可以给到\u001b[0m\u001b[32m4分。\u001b[0m\u001b[32m\u001b[0m\n",
      "[USAGE] \u001b[34m{\"input_tokens\": 77, \"output_tokens\": 71, \"total_tokens\": 148}\u001b[0m\n",
      "[INFO] \u001b[34m执行完毕，所有节点运行 3 步\u001b[0m\n"
     ]
    },
    {
     "data": {
      "text/plain": [
       "'这段反馈表现出了积极的合作态度和对他人的关注，非常具有建设性和鼓励性。同时，建议更加具体地提出对儿歌的评价或改进建议，以帮助对方更好地理解你的观点，这能够使反馈更具针对性和实用性。总体而言，这是一段很好的反馈信息，评分可以给到4分。'"
      ]
     },
     "execution_count": 8,
     "metadata": {},
     "output_type": "execute_result"
    }
   ],
   "source": [
    "from illufly.chat import FlowAgent, ChatQwen\n",
    "\n",
    "a = ChatQwen()\n",
    "\n",
    "flow = FlowAgent(\n",
    "    a, a,\n",
    "    {\"评论员\": ChatQwen(memory=(\"system\", \"我将告诉你我的写作成果，你负责帮我评价文章特色，说说缺点，两句话即可\"))},\n",
    "    ChatQwen(name=\"裁判\", memory=(\"system\", \"我将告诉你我的写作成果，请按照评价打一个分数，从1分至5分\"))\n",
    ")\n",
    "\n",
    "flow(\"你能帮我写一首关于兔子做梦的四句儿歌?\", verbose=True)"
   ]
  },
  {
   "cell_type": "code",
   "execution_count": 3,
   "id": "64db876c-d622-4c79-a708-004e9597654c",
   "metadata": {},
   "outputs": [
    {
     "data": {
      "text/plain": [
       "[('写手', <ChatQwen.4566564336>),\n",
       " ('评论员', <ChatQwen.4840738240>),\n",
       " ('裁判', <ChatQwen 裁判>)]"
      ]
     },
     "execution_count": 3,
     "metadata": {},
     "output_type": "execute_result"
    }
   ],
   "source": [
    "flow.agents"
   ]
  },
  {
   "cell_type": "code",
   "execution_count": 6,
   "id": "4537cd7e-e18e-4fa7-80cf-180de7a82592",
   "metadata": {},
   "outputs": [
    {
     "data": {
      "text/plain": [
       "[{'role': 'system', 'content': '我将告诉你我的写作成果，请按照评价打一个分数，从1分至5分'},\n",
       " {'role': 'user',\n",
       "  'content': '这首儿歌语言温馨、画面感强，能够很好地吸引小朋友的注意力；如果能在故事性和互动性上再做些设计，会更加有趣味性和教育意义。'},\n",
       " {'role': 'assistant',\n",
       "  'content': '我会给这首儿歌打4分。它已经具备了良好的基础，比如温馨的语言和强烈的画面感，这些都对吸引小朋友的注意力非常有帮助。如果能在现有的基础上进一步提升故事性和互动性，那么它的趣味性和教育意义将会更上一层楼。'},\n",
       " {'role': 'user',\n",
       "  'content': '这首儿歌生动形象地描绘了弹钢琴的场景，富有音乐美感；可以在押韵和节奏感上再做优化，使儿歌更朗朗上口。'},\n",
       " {'role': 'assistant',\n",
       "  'content': '我会给这首儿歌打4分。它成功地描绘了弹钢琴的场景，让人感受到了音乐的美感。若能在押韵和节奏感方面进行一些优化，会使儿歌更加朗朗上口，更易于传唱。这样的改进将有助于提高作品的整体质量和吸引力。'}]"
      ]
     },
     "execution_count": 6,
     "metadata": {},
     "output_type": "execute_result"
    }
   ],
   "source": [
    "flow.agents[2][1].memory"
   ]
  },
  {
   "cell_type": "code",
   "execution_count": 5,
   "id": "98e900ce-d365-42db-be59-c3b565e225d2",
   "metadata": {},
   "outputs": [
    {
     "name": "stdout",
     "output_type": "stream",
     "text": [
      "[AGENT] \u001b[34m>>> Node 1: 写手\u001b[0m\n",
      "\u001b[32m当然可以\u001b[0m\u001b[32m，\u001b[0m\u001b[32m这\u001b[0m\u001b[32m是一首关于钢琴\u001b[0m\u001b[32m的四句儿\u001b[0m\u001b[32m歌：\n",
      "\n",
      "小小琴\u001b[0m\u001b[32m键排成行\u001b[0m\u001b[32m，\n",
      "手指轻跳\u001b[0m\u001b[32m奏乐章。\n",
      "\u001b[0m\u001b[32m黑白键上舞\u001b[0m\u001b[32m精灵，\n",
      "美妙旋律\u001b[0m\u001b[32m心中藏。\u001b[0m\u001b[32m\u001b[0m\n",
      "[AGENT] \u001b[34m>>> Node 2: 评论员\u001b[0m\n",
      "\u001b[32m这首儿\u001b[0m\u001b[32m歌\u001b[0m\u001b[32m生动\u001b[0m\u001b[32m形象地描绘了\u001b[0m\u001b[32m弹钢琴的场景\u001b[0m\u001b[32m，富有音乐美感\u001b[0m\u001b[32m；可以在押韵\u001b[0m\u001b[32m和节奏感上\u001b[0m\u001b[32m再做优化，\u001b[0m\u001b[32m使儿歌更\u001b[0m\u001b[32m朗朗上口\u001b[0m\u001b[32m。\u001b[0m\u001b[32m\u001b[0m\n",
      "[AGENT] \u001b[34m>>> Node 3: 裁判\u001b[0m\n",
      "\u001b[32m我会给\u001b[0m\u001b[32m这首\u001b[0m\u001b[32m儿\u001b[0m\u001b[32m歌打4分\u001b[0m\u001b[32m。它成功地\u001b[0m\u001b[32m描绘了弹钢琴\u001b[0m\u001b[32m的场景，让人\u001b[0m\u001b[32m感受到了音乐的美感\u001b[0m\u001b[32m。若能在押\u001b[0m\u001b[32m韵和节奏感\u001b[0m\u001b[32m方面进行一些优化\u001b[0m\u001b[32m，会使儿歌\u001b[0m\u001b[32m更加朗朗上\u001b[0m\u001b[32m口，更易于\u001b[0m\u001b[32m传唱。这样的\u001b[0m\u001b[32m改进将有助于提高\u001b[0m\u001b[32m作品的整体质量和吸引力\u001b[0m\u001b[32m。\u001b[0m\u001b[32m\u001b[0m\n"
     ]
    },
    {
     "data": {
      "text/plain": [
       "'我会给这首儿歌打4分。它成功地描绘了弹钢琴的场景，让人感受到了音乐的美感。若能在押韵和节奏感方面进行一些优化，会使儿歌更加朗朗上口，更易于传唱。这样的改进将有助于提高作品的整体质量和吸引力。'"
      ]
     },
     "execution_count": 5,
     "metadata": {},
     "output_type": "execute_result"
    }
   ],
   "source": [
    "flow(\"你能帮我写一首关于钢琴的四句儿歌?\")"
   ]
  },
  {
   "cell_type": "code",
   "execution_count": 7,
   "id": "44fbecd9-3bef-4177-9618-ad865befdcc1",
   "metadata": {},
   "outputs": [
    {
     "data": {
      "text/plain": [
       "[{'role': 'system', 'content': '我将告诉你我的写作成果，你负责帮我评价文章特色，说说缺点，两句话即可'},\n",
       " {'role': 'user',\n",
       "  'content': '当然可以，这里是一首简单的四句儿歌，关于兔子做梦：\\n\\n小兔乖乖睡梦乡，\\n月亮姐姐讲故事长。\\n梦里花儿都开放，\\n跳着舞儿找太阳。'},\n",
       " {'role': 'assistant',\n",
       "  'content': '这首儿歌语言温馨、画面感强，能够很好地吸引小朋友的注意力；如果能在故事性和互动性上再做些设计，会更加有趣味性和教育意义。'},\n",
       " {'role': 'user',\n",
       "  'content': '当然可以，这是一首关于钢琴的四句儿歌：\\n\\n小小琴键排成行，\\n手指轻跳奏乐章。\\n黑白键上舞精灵，\\n美妙旋律心中藏。'},\n",
       " {'role': 'assistant',\n",
       "  'content': '这首儿歌生动形象地描绘了弹钢琴的场景，富有音乐美感；可以在押韵和节奏感上再做优化，使儿歌更朗朗上口。'}]"
      ]
     },
     "execution_count": 7,
     "metadata": {},
     "output_type": "execute_result"
    }
   ],
   "source": [
    "flow.agents[1][1].memory"
   ]
  },
  {
   "cell_type": "markdown",
   "id": "c6393119-5133-45ed-b317-f40138ceaaa7",
   "metadata": {},
   "source": [
    "## 带有模板的智能体"
   ]
  },
  {
   "cell_type": "code",
   "execution_count": 7,
   "id": "d47eb92b-5f81-4fff-9557-e6866d7b4724",
   "metadata": {},
   "outputs": [
    {
     "name": "stdout",
     "output_type": "stream",
     "text": [
      "[AGENT] \u001b[34mSTEP 1 >>> Node 1: ChatQwen.4671410224\u001b[0m\n",
      "\u001b[32m小兔\u001b[0m\u001b[32m乖乖\u001b[0m\u001b[32m梦\u001b[0m\u001b[32m中游，  \n",
      "\u001b[0m\u001b[32m花儿朵朵\u001b[0m\u001b[32m绕它头。\u001b[0m\u001b[32m  \n",
      "月亮婆婆轻\u001b[0m\u001b[32m声笑，  \n",
      "\u001b[0m\u001b[32m梦里世界甜\u001b[0m\u001b[32m如糖。\u001b[0m\u001b[32m\u001b[0m\n"
     ]
    },
    {
     "data": {
      "text/plain": [
       "'小兔乖乖梦中游，  \\n花儿朵朵绕它头。  \\n月亮婆婆轻声笑，  \\n梦里世界甜如糖。'"
      ]
     },
     "execution_count": 7,
     "metadata": {},
     "output_type": "execute_result"
    }
   ],
   "source": [
    "from illufly.chat import FlowAgent, ChatQwen\n",
    "from illufly.types import PromptTemplate\n",
    "\n",
    "flow = FlowAgent(\n",
    "    ChatQwen(memory=[PromptTemplate(\"IDEA\")]),\n",
    ")\n",
    "\n",
    "flow(\"你能帮我写一首关于兔子做梦的四句儿歌?\")"
   ]
  },
  {
   "cell_type": "code",
   "execution_count": 8,
   "id": "702f4a98-6606-48f1-be66-0183897773d5",
   "metadata": {},
   "outputs": [
    {
     "name": "stdout",
     "output_type": "stream",
     "text": [
      "[AGENT] \u001b[34mSTEP 1 >>> Node 1: ChatQwen.4671410224\u001b[0m\n",
      "\u001b[32m小兔子\u001b[0m\u001b[32m跳\u001b[0m\u001b[32m跳\u001b[0m\u001b[32m，水里游\u001b[0m\u001b[32m得高，  \n",
      "\u001b[0m\u001b[32m扑腾小脚\u001b[0m\u001b[32m丫，快乐水上\u001b[0m\u001b[32m漂。  \n",
      "妈妈\u001b[0m\u001b[32m夸它好，\u001b[0m\u001b[32m勇敢又灵巧\u001b[0m\u001b[32m。\u001b[0m\u001b[32m\u001b[0m\n"
     ]
    },
    {
     "data": {
      "text/plain": [
       "[{'role': 'system',\n",
       "  'content': '你是强大的写作助手。\\n\\n你必须遵循以下约束来完成任务:\\n1. 直接输出你的结果，不要评论，不要啰嗦\\n2. 使用markdown格式输出\\n\\n**你的任务是:**\\n你能帮我写一首关于兔子游泳的3句儿歌?\\n'},\n",
       " {'role': 'user', 'content': '请开始'},\n",
       " {'role': 'assistant',\n",
       "  'content': '小兔子跳跳，水里游得高，  \\n扑腾小脚丫，快乐水上漂。  \\n妈妈夸它好，勇敢又灵巧。'}]"
      ]
     },
     "execution_count": 8,
     "metadata": {},
     "output_type": "execute_result"
    }
   ],
   "source": [
    "flow(\"你能帮我写一首关于兔子游泳的3句儿歌?\")\n",
    "flow.agents[0].memory"
   ]
  },
  {
   "cell_type": "markdown",
   "id": "f1650e89-4f2c-4157-9741-c9ea6c07a4ad",
   "metadata": {},
   "source": [
    "## 条件分支：选择一种路径"
   ]
  },
  {
   "cell_type": "code",
   "execution_count": 1,
   "id": "cd19e3e4-3259-40ee-badb-ed126b213f70",
   "metadata": {},
   "outputs": [
    {
     "name": "stdout",
     "output_type": "stream",
     "text": [
      "[AGENT] \u001b[34mSTEP 1 >>> Node 1: 写手\u001b[0m\n",
      "\u001b[32m小\u001b[0m\u001b[32m白\u001b[0m\u001b[32m兔\u001b[0m\u001b[32m白\u001b[0m\u001b[32m又\u001b[0m\u001b[32m白\u001b[0m\u001b[32m,\u001b[0m\u001b[32m两\u001b[0m\u001b[32m只\u001b[0m\u001b[32m耳\u001b[0m\u001b[32m朵\u001b[0m\u001b[32m粘\u001b[0m\u001b[32m一\u001b[0m\u001b[32m块\u001b[0m\n",
      "[AGENT] \u001b[34mSTEP 2 >>> Node 2: 评论家2\u001b[0m\n",
      "\u001b[32m你\u001b[0m\u001b[32m写\u001b[0m\u001b[32m了\u001b[0m\u001b[32m一\u001b[0m\u001b[32m坨\u001b[0m\u001b[32m垃\u001b[0m\u001b[32m圾\u001b[0m\n",
      "[AGENT] \u001b[34mSTEP 3 >>> Node 3: 打分专家\u001b[0m\n",
      "\u001b[32m3\u001b[0m\u001b[32m分\u001b[0m\u001b[32m。\u001b[0m\u001b[32m我\u001b[0m\u001b[32m胡\u001b[0m\u001b[32m乱\u001b[0m\u001b[32m打\u001b[0m\u001b[32m的\u001b[0m\u001b[32m分\u001b[0m\u001b[32m。\u001b[0m\n"
     ]
    },
    {
     "data": {
      "text/plain": [
       "'3分。我胡乱打的分。'"
      ]
     },
     "execution_count": 1,
     "metadata": {},
     "output_type": "execute_result"
    }
   ],
   "source": [
    "from illufly.chat import FlowAgent, FakeLLM, Selector\n",
    "\n",
    "flow = FlowAgent(\n",
    "    FakeLLM(name=\"写手\", response=[\"小白兔白又白,两只耳朵粘一块\"]),\n",
    "    Selector([\n",
    "        FakeLLM(name=\"评论家1\", response=\"我觉得你写的不错\"),\n",
    "        FakeLLM(name=\"评论家2\", response=\"你写了一坨垃圾\"),\n",
    "    ], \"random\"),\n",
    "    FakeLLM(name=\"打分专家\", response=\"3分。我胡乱打的分。\")\n",
    ")\n",
    "\n",
    "flow(\"你能帮我写一首关于兔子做梦的四句儿歌?\", verbose=False)"
   ]
  },
  {
   "cell_type": "code",
   "execution_count": 2,
   "id": "9e91a985-8890-4cb6-ae47-ecb9a3b43187",
   "metadata": {},
   "outputs": [
    {
     "name": "stdout",
     "output_type": "stream",
     "text": [
      "\u001b[32m我\u001b[0m\u001b[32m觉\u001b[0m\u001b[32m得\u001b[0m\u001b[32m你\u001b[0m\u001b[32m写\u001b[0m\u001b[32m的\u001b[0m\u001b[32m不\u001b[0m\u001b[32m错\u001b[0m\n"
     ]
    },
    {
     "data": {
      "text/plain": [
       "'我觉得你写的不错'"
      ]
     },
     "execution_count": 2,
     "metadata": {},
     "output_type": "execute_result"
    }
   ],
   "source": [
    "s = Selector([\n",
    "        FakeLLM(name=\"评论家1\", response=\"我觉得你写的不错\"),\n",
    "        FakeLLM(name=\"评论家2\", response=\"你写了一坨垃圾\")\n",
    "    ])\n",
    "s.selected(\"hi\")"
   ]
  },
  {
   "cell_type": "markdown",
   "id": "436fcc41-4b5f-430f-b62a-ac1315d6ec9e",
   "metadata": {},
   "source": [
    "## 支持循环和退出：创作和打分互动\n",
    "\n",
    "**退出机制在于 Selector 节点是否返回 END 字符串。**<br>\n",
    "下面实现了典型的机制，其要点在于 Selector 条件函数针对前面节点的 _last_output 属性做检查。"
   ]
  },
  {
   "cell_type": "code",
   "execution_count": 3,
   "id": "733c6020-a104-4528-a2fb-4a5f4a9344fe",
   "metadata": {},
   "outputs": [
    {
     "name": "stdout",
     "output_type": "stream",
     "text": [
      "[AGENT] \u001b[34mSTEP 1 >>> Node 1: 写手\u001b[0m\n",
      "\u001b[32m你\u001b[0m\u001b[32m能\u001b[0m\u001b[32m帮\u001b[0m\u001b[32m我\u001b[0m\u001b[32m写\u001b[0m\u001b[32m一\u001b[0m\u001b[32m首\u001b[0m\u001b[32m关\u001b[0m\u001b[32m于\u001b[0m\u001b[32m兔\u001b[0m\u001b[32m子\u001b[0m\u001b[32m的\u001b[0m\u001b[32m四\u001b[0m\u001b[32m句\u001b[0m\u001b[32m儿\u001b[0m\u001b[32m歌\u001b[0m\u001b[32m?\u001b[0m\n",
      "[AGENT] \u001b[34mSTEP 2 >>> Node 2: 打分专家\u001b[0m\n",
      "\u001b[32m1\u001b[0m\u001b[32m分\u001b[0m\n",
      "vars:  {'last_output': '1分', 'resources': ''}\n",
      "[AGENT] \u001b[34mSTEP 3 >>> Node 1: 写手\u001b[0m\n",
      "\u001b[32m1\u001b[0m\u001b[32m分\u001b[0m\n",
      "[AGENT] \u001b[34mSTEP 4 >>> Node 2: 打分专家\u001b[0m\n",
      "\u001b[32m3\u001b[0m\u001b[32m分\u001b[0m\n",
      "vars:  {'last_output': '3分', 'resources': ''}\n",
      "[AGENT] \u001b[34mSTEP 5 >>> Node 1: 写手\u001b[0m\n",
      "\u001b[32m3\u001b[0m\u001b[32m分\u001b[0m\n",
      "[AGENT] \u001b[34mSTEP 6 >>> Node 2: 打分专家\u001b[0m\n",
      "\u001b[32m5\u001b[0m\u001b[32m分\u001b[0m\n",
      "vars:  {'last_output': '5分', 'resources': ''}\n"
     ]
    },
    {
     "data": {
      "text/plain": [
       "'5分'"
      ]
     },
     "execution_count": 3,
     "metadata": {},
     "output_type": "execute_result"
    }
   ],
   "source": [
    "from illufly.chat import FlowAgent, FakeLLM, Selector\n",
    "\n",
    "def should_continue(vars, runs):\n",
    "    print(\"vars: \", vars)\n",
    "    return \"END\" if \"5\" in vars['last_output'] else \"写手\"\n",
    "\n",
    "flow = FlowAgent(\n",
    "    FakeLLM(name=\"写手\", sleep=0),\n",
    "    FakeLLM(name=\"打分专家\", sleep=0.001, response=[\"1分\", \"3分\", \"5分\"]),\n",
    "    Selector(condition=should_continue)\n",
    ")\n",
    "\n",
    "flow(\"你能帮我写一首关于兔子的四句儿歌?\")"
   ]
  },
  {
   "cell_type": "code",
   "execution_count": 1,
   "id": "d7442d05-fd2b-4a3e-a10d-c9a09362603e",
   "metadata": {},
   "outputs": [
    {
     "name": "stdout",
     "output_type": "stream",
     "text": [
      "[AGENT] \u001b[34mSTEP 1 >>> Node 1: 写手\u001b[0m\n",
      "\u001b[32m当然可以\u001b[0m\u001b[32m，\u001b[0m\u001b[32m这\u001b[0m\u001b[32m是一首简单可爱的\u001b[0m\u001b[32m四句儿歌\u001b[0m\u001b[32m，适合小朋友唱\u001b[0m\u001b[32m：\n",
      "\n",
      "小兔白\u001b[0m\u001b[32m又白，  \n",
      "\u001b[0m\u001b[32m两耳竖起来\u001b[0m\u001b[32m。  \n",
      "爱吃萝卜\u001b[0m\u001b[32m和青菜，\u001b[0m\u001b[32m  \n",
      "蹦蹦跳\u001b[0m\u001b[32m跳真可爱。\u001b[0m\u001b[32m\u001b[0m\n",
      "[AGENT] \u001b[34mSTEP 2 >>> Node 2: 打分专家\u001b[0m\n",
      "\u001b[32m结果为\u001b[0m\u001b[32m4\u001b[0m\u001b[32m分\u001b[0m\u001b[32m\n",
      "\n",
      "这首儿歌\u001b[0m\u001b[32m非常简洁明了\u001b[0m\u001b[32m，充满了童趣\u001b[0m\u001b[32m，能够很好地吸引\u001b[0m\u001b[32m小朋友的注意力。\u001b[0m\u001b[32m语言平实易\u001b[0m\u001b[32m懂，韵律\u001b[0m\u001b[32m感强，非常适合\u001b[0m\u001b[32m小朋友学习和演唱\u001b[0m\u001b[32m。\n",
      "\n",
      "改进意见：\n",
      "\u001b[0m\u001b[32m1. 可\u001b[0m\u001b[32m以尝试增加一些\u001b[0m\u001b[32m互动性或故\u001b[0m\u001b[32m事情节，让\u001b[0m\u001b[32m儿歌更加生动\u001b[0m\u001b[32m有趣。例如，\u001b[0m\u001b[32m可以加入小兔子\u001b[0m\u001b[32m与小朋友一起玩耍\u001b[0m\u001b[32m的内容。\n",
      "2.\u001b[0m\u001b[32m 在歌词中加入\u001b[0m\u001b[32m更多的形容词或\u001b[0m\u001b[32m动词，丰富\u001b[0m\u001b[32m儿歌的表现力\u001b[0m\u001b[32m，如“小\u001b[0m\u001b[32m兔白又白\u001b[0m\u001b[32m，眼睛红宝石\u001b[0m\u001b[32m”或“蹦\u001b[0m\u001b[32m蹦跳跳在\u001b[0m\u001b[32m草地上”，这样\u001b[0m\u001b[32m可以让孩子们在唱歌\u001b[0m\u001b[32m的同时，也能学习\u001b[0m\u001b[32m到更多的词汇。\n",
      "\n",
      "\u001b[0m\u001b[32m希望这些建\u001b[0m\u001b[32m议对你有帮助\u001b[0m\u001b[32m！继续加油哦\u001b[0m\u001b[32m！\u001b[0m\u001b[32m\u001b[0m\n",
      "vars:  {'last_output': '结果为4分\\n\\n这首儿歌非常简洁明了，充满了童趣，能够很好地吸引小朋友的注意力。语言平实易懂，韵律感强，非常适合小朋友学习和演唱。\\n\\n改进意见：\\n1. 可以尝试增加一些互动性或故事情节，让儿歌更加生动有趣。例如，可以加入小兔子与小朋友一起玩耍的内容。\\n2. 在歌词中加入更多的形容词或动词，丰富儿歌的表现力，如“小兔白又白，眼睛红宝石”或“蹦蹦跳跳在草地上”，这样可以让孩子们在唱歌的同时，也能学习到更多的词汇。\\n\\n希望这些建议对你有帮助！继续加油哦！', 'resources': '', 'completed_work': '**任务**\\n你能帮我写一首关于兔子的四句儿歌?\\n@写手 :\\n当然可以，这是一首简单可爱的四句儿歌，适合小朋友唱：\\n\\n小兔白又白，  \\n两耳竖起来。  \\n爱吃萝卜和青菜，  \\n蹦蹦跳跳真可爱。\\n@打分专家 :\\n结果为4分\\n\\n这首儿歌非常简洁明了，充满了童趣，能够很好地吸引小朋友的注意力。语言平实易懂，韵律感强，非常适合小朋友学习和演唱。\\n\\n改进意见：\\n1. 可以尝试增加一些互动性或故事情节，让儿歌更加生动有趣。例如，可以加入小兔子与小朋友一起玩耍的内容。\\n2. 在歌词中加入更多的形容词或动词，丰富儿歌的表现力，如“小兔白又白，眼睛红宝石”或“蹦蹦跳跳在草地上”，这样可以让孩子们在唱歌的同时，也能学习到更多的词汇。\\n\\n希望这些建议对你有帮助！继续加油哦！'}\n",
      "[AGENT] \u001b[34mSTEP 3 >>> Node 1: 写手\u001b[0m\n",
      "\u001b[32m谢谢你的\u001b[0m\u001b[32m评价\u001b[0m\u001b[32m和\u001b[0m\u001b[32m建议！根据你的\u001b[0m\u001b[32m意见，我来\u001b[0m\u001b[32m改进一下这首儿\u001b[0m\u001b[32m歌，让它更加\u001b[0m\u001b[32m生动有趣：\n",
      "\n",
      "小\u001b[0m\u001b[32m兔白又白\u001b[0m\u001b[32m，  \n",
      "眼睛红\u001b[0m\u001b[32m宝石，  \n",
      "蹦\u001b[0m\u001b[32m蹦跳跳在\u001b[0m\u001b[32m草地上，  \n",
      "\u001b[0m\u001b[32m和我一起捉\u001b[0m\u001b[32m迷藏。\n",
      "\n",
      "希望\u001b[0m\u001b[32m这个版本能更好地\u001b[0m\u001b[32m吸引小朋友的兴趣，\u001b[0m\u001b[32m同时增加一些互动\u001b[0m\u001b[32m性和表现力。\u001b[0m\u001b[32m如果还有其他建议\u001b[0m\u001b[32m或需要进一步改进\u001b[0m\u001b[32m的地方，请告诉我！\u001b[0m\u001b[32m\u001b[0m\n",
      "[AGENT] \u001b[34mSTEP 4 >>> Node 2: 打分专家\u001b[0m\n",
      "\u001b[32m结果为\u001b[0m\u001b[32m5\u001b[0m\u001b[32m分\u001b[0m\u001b[32m\n",
      "\n",
      "改进后的儿\u001b[0m\u001b[32m歌确实更加生动\u001b[0m\u001b[32m有趣了！以下\u001b[0m\u001b[32m是我的具体评价和\u001b[0m\u001b[32m一些建议\u001b[0m\u001b[32m：\n",
      "\n",
      "### 评价\u001b[0m\u001b[32m：\n",
      "1. **\u001b[0m\u001b[32m互动性增强**\u001b[0m\u001b[32m：加入了“和\u001b[0m\u001b[32m我一起捉迷\u001b[0m\u001b[32m藏”的内容，\u001b[0m\u001b[32m增加了儿歌的\u001b[0m\u001b[32m互动性和趣味性\u001b[0m\u001b[32m，让孩子们更有\u001b[0m\u001b[32m参与感。\n",
      "2\u001b[0m\u001b[32m. **形象更\u001b[0m\u001b[32m鲜明**：增加了\u001b[0m\u001b[32m“眼睛红宝石\u001b[0m\u001b[32m”的描述，使\u001b[0m\u001b[32m小兔子的形象更加\u001b[0m\u001b[32m鲜明和生动。\n",
      "\u001b[0m\u001b[32m3. **场景\u001b[0m\u001b[32m更丰富**：\u001b[0m\u001b[32m描述了“蹦\u001b[0m\u001b[32m蹦跳跳在\u001b[0m\u001b[32m草地上”的场景\u001b[0m\u001b[32m，使儿歌\u001b[0m\u001b[32m的画面感更强，\u001b[0m\u001b[32m更容易引起孩子们的\u001b[0m\u001b[32m共鸣。\n",
      "\n",
      "### \u001b[0m\u001b[32m建议：\n",
      "\u001b[0m\u001b[32m1. **动作\u001b[0m\u001b[32m细节**：可以在\u001b[0m\u001b[32m儿歌中加入\u001b[0m\u001b[32m更多具体的动作描写\u001b[0m\u001b[32m，比如“小\u001b[0m\u001b[32m兔摇摇尾巴\u001b[0m\u001b[32m，快活地\u001b[0m\u001b[32m跑来跑去”，\u001b[0m\u001b[32m这样可以让孩子们在\u001b[0m\u001b[32m唱儿歌时\u001b[0m\u001b[32m有更多的肢体动作配合\u001b[0m\u001b[32m。\n",
      "2. **\u001b[0m\u001b[32m情感表达**：\u001b[0m\u001b[32m可以适当加入一些\u001b[0m\u001b[32m情感表达，比如\u001b[0m\u001b[32m“小兔真\u001b[0m\u001b[32m开心，和我\u001b[0m\u001b[32m做朋友”，这样\u001b[0m\u001b[32m可以培养孩子们的情感\u001b[0m\u001b[32m认知和社交能力\u001b[0m\u001b[32m。\n",
      "\n",
      "改进后的儿\u001b[0m\u001b[32m歌已经非常出色\u001b[0m\u001b[32m了，继续保持这种\u001b[0m\u001b[32m创作热情，相信\u001b[0m\u001b[32m你会写出更多优秀\u001b[0m\u001b[32m的作品！加油！\n",
      "\n",
      "\u001b[0m\u001b[32m如果你还有其他作品\u001b[0m\u001b[32m或需要进一步的帮助\u001b[0m\u001b[32m，随时欢迎分享\u001b[0m\u001b[32m！\u001b[0m\u001b[32m\u001b[0m\n",
      "vars:  {'last_output': '结果为5分\\n\\n改进后的儿歌确实更加生动有趣了！以下是我的具体评价和一些建议：\\n\\n### 评价：\\n1. **互动性增强**：加入了“和我一起捉迷藏”的内容，增加了儿歌的互动性和趣味性，让孩子们更有参与感。\\n2. **形象更鲜明**：增加了“眼睛红宝石”的描述，使小兔子的形象更加鲜明和生动。\\n3. **场景更丰富**：描述了“蹦蹦跳跳在草地上”的场景，使儿歌的画面感更强，更容易引起孩子们的共鸣。\\n\\n### 建议：\\n1. **动作细节**：可以在儿歌中加入更多具体的动作描写，比如“小兔摇摇尾巴，快活地跑来跑去”，这样可以让孩子们在唱儿歌时有更多的肢体动作配合。\\n2. **情感表达**：可以适当加入一些情感表达，比如“小兔真开心，和我做朋友”，这样可以培养孩子们的情感认知和社交能力。\\n\\n改进后的儿歌已经非常出色了，继续保持这种创作热情，相信你会写出更多优秀的作品！加油！\\n\\n如果你还有其他作品或需要进一步的帮助，随时欢迎分享！', 'resources': '', 'completed_work': '**任务**\\n你能帮我写一首关于兔子的四句儿歌?\\n@写手 :\\n当然可以，这是一首简单可爱的四句儿歌，适合小朋友唱：\\n\\n小兔白又白，  \\n两耳竖起来。  \\n爱吃萝卜和青菜，  \\n蹦蹦跳跳真可爱。\\n@打分专家 :\\n结果为4分\\n\\n这首儿歌非常简洁明了，充满了童趣，能够很好地吸引小朋友的注意力。语言平实易懂，韵律感强，非常适合小朋友学习和演唱。\\n\\n改进意见：\\n1. 可以尝试增加一些互动性或故事情节，让儿歌更加生动有趣。例如，可以加入小兔子与小朋友一起玩耍的内容。\\n2. 在歌词中加入更多的形容词或动词，丰富儿歌的表现力，如“小兔白又白，眼睛红宝石”或“蹦蹦跳跳在草地上”，这样可以让孩子们在唱歌的同时，也能学习到更多的词汇。\\n\\n希望这些建议对你有帮助！继续加油哦！\\n@写手 :\\n谢谢你的评价和建议！根据你的意见，我来改进一下这首儿歌，让它更加生动有趣：\\n\\n小兔白又白，  \\n眼睛红宝石，  \\n蹦蹦跳跳在草地上，  \\n和我一起捉迷藏。\\n\\n希望这个版本能更好地吸引小朋友的兴趣，同时增加一些互动性和表现力。如果还有其他建议或需要进一步改进的地方，请告诉我！\\n@打分专家 :\\n结果为5分\\n\\n改进后的儿歌确实更加生动有趣了！以下是我的具体评价和一些建议：\\n\\n### 评价：\\n1. **互动性增强**：加入了“和我一起捉迷藏”的内容，增加了儿歌的互动性和趣味性，让孩子们更有参与感。\\n2. **形象更鲜明**：增加了“眼睛红宝石”的描述，使小兔子的形象更加鲜明和生动。\\n3. **场景更丰富**：描述了“蹦蹦跳跳在草地上”的场景，使儿歌的画面感更强，更容易引起孩子们的共鸣。\\n\\n### 建议：\\n1. **动作细节**：可以在儿歌中加入更多具体的动作描写，比如“小兔摇摇尾巴，快活地跑来跑去”，这样可以让孩子们在唱儿歌时有更多的肢体动作配合。\\n2. **情感表达**：可以适当加入一些情感表达，比如“小兔真开心，和我做朋友”，这样可以培养孩子们的情感认知和社交能力。\\n\\n改进后的儿歌已经非常出色了，继续保持这种创作热情，相信你会写出更多优秀的作品！加油！\\n\\n如果你还有其他作品或需要进一步的帮助，随时欢迎分享！'}\n"
     ]
    },
    {
     "data": {
      "text/plain": [
       "'结果为5分\\n\\n改进后的儿歌确实更加生动有趣了！以下是我的具体评价和一些建议：\\n\\n### 评价：\\n1. **互动性增强**：加入了“和我一起捉迷藏”的内容，增加了儿歌的互动性和趣味性，让孩子们更有参与感。\\n2. **形象更鲜明**：增加了“眼睛红宝石”的描述，使小兔子的形象更加鲜明和生动。\\n3. **场景更丰富**：描述了“蹦蹦跳跳在草地上”的场景，使儿歌的画面感更强，更容易引起孩子们的共鸣。\\n\\n### 建议：\\n1. **动作细节**：可以在儿歌中加入更多具体的动作描写，比如“小兔摇摇尾巴，快活地跑来跑去”，这样可以让孩子们在唱儿歌时有更多的肢体动作配合。\\n2. **情感表达**：可以适当加入一些情感表达，比如“小兔真开心，和我做朋友”，这样可以培养孩子们的情感认知和社交能力。\\n\\n改进后的儿歌已经非常出色了，继续保持这种创作热情，相信你会写出更多优秀的作品！加油！\\n\\n如果你还有其他作品或需要进一步的帮助，随时欢迎分享！'"
      ]
     },
     "execution_count": 1,
     "metadata": {},
     "output_type": "execute_result"
    }
   ],
   "source": [
    "from illufly.chat import FlowAgent, ChatQwen, Selector\n",
    "\n",
    "def should_continue(vars, runs):\n",
    "    # print(\"vars: \", vars)\n",
    "    return \"END\" if \"结果为5分\" in vars['last_output'] else \"写手\"\n",
    "\n",
    "flow = FlowAgent(\n",
    "    ChatQwen(name=\"写手\"),\n",
    "    ChatQwen(\n",
    "        name=\"打分专家\",\n",
    "        memory=[(\"system\", \"请你给我的作品打一个分数，从1分至5分，并给出改进意见。打分格式为:\\n结果为x分\")]\n",
    "    ),\n",
    "    Selector(condition=should_continue)\n",
    ")\n",
    "\n",
    "flow(\"你能帮我写一首关于兔子的四句儿歌?\")"
   ]
  },
  {
   "cell_type": "code",
   "execution_count": 2,
   "id": "02ee25c2-cab1-46ca-9a18-770518e5678d",
   "metadata": {},
   "outputs": [
    {
     "data": {
      "text/plain": [
       "[{'role': 'user',\n",
       "  'content': '请你对我的作品简单评论，给我的作品打一个分数，从1分至5分，并给出改进意见。打分格式为:\\n结果为x分'},\n",
       " {'role': 'user',\n",
       "  'content': '当然可以，这是一首简单可爱的四句儿歌，适合小朋友唱：\\n\\n小兔白又白，  \\n两耳竖起来。  \\n爱吃萝卜和青菜，  \\n蹦蹦跳跳真可爱。'},\n",
       " {'role': 'assistant',\n",
       "  'content': '结果为4分\\n\\n这首儿歌非常简洁明了，充满了童趣，能够很好地吸引小朋友的注意力。语言平实易懂，韵律感强，非常适合小朋友学习和演唱。\\n\\n改进意见：\\n1. 可以尝试增加一些互动性或故事情节，让儿歌更加生动有趣。例如，可以加入小兔子与小朋友一起玩耍的内容。\\n2. 在歌词中加入更多的形容词或动词，丰富儿歌的表现力，如“小兔白又白，眼睛红宝石”或“蹦蹦跳跳在草地上”，这样可以让孩子们在唱歌的同时，也能学习到更多的词汇。\\n\\n希望这些建议对你有帮助！继续加油哦！'},\n",
       " {'role': 'user',\n",
       "  'content': '谢谢你的评价和建议！根据你的意见，我来改进一下这首儿歌，让它更加生动有趣：\\n\\n小兔白又白，  \\n眼睛红宝石，  \\n蹦蹦跳跳在草地上，  \\n和我一起捉迷藏。\\n\\n希望这个版本能更好地吸引小朋友的兴趣，同时增加一些互动性和表现力。如果还有其他建议或需要进一步改进的地方，请告诉我！'},\n",
       " {'role': 'assistant',\n",
       "  'content': '结果为5分\\n\\n改进后的儿歌确实更加生动有趣了！以下是我的具体评价和一些建议：\\n\\n### 评价：\\n1. **互动性增强**：加入了“和我一起捉迷藏”的内容，增加了儿歌的互动性和趣味性，让孩子们更有参与感。\\n2. **形象更鲜明**：增加了“眼睛红宝石”的描述，使小兔子的形象更加鲜明和生动。\\n3. **场景更丰富**：描述了“蹦蹦跳跳在草地上”的场景，使儿歌的画面感更强，更容易引起孩子们的共鸣。\\n\\n### 建议：\\n1. **动作细节**：可以在儿歌中加入更多具体的动作描写，比如“小兔摇摇尾巴，快活地跑来跑去”，这样可以让孩子们在唱儿歌时有更多的肢体动作配合。\\n2. **情感表达**：可以适当加入一些情感表达，比如“小兔真开心，和我做朋友”，这样可以培养孩子们的情感认知和社交能力。\\n\\n改进后的儿歌已经非常出色了，继续保持这种创作热情，相信你会写出更多优秀的作品！加油！\\n\\n如果你还有其他作品或需要进一步的帮助，随时欢迎分享！'}]"
      ]
     },
     "execution_count": 2,
     "metadata": {},
     "output_type": "execute_result"
    }
   ],
   "source": [
    "flow.agents[1].memory"
   ]
  },
  {
   "cell_type": "markdown",
   "id": "9edae2db-0327-4d2a-998f-d47b6fd3efff",
   "metadata": {},
   "source": [
    "## 嵌套 FlowAgent\n",
    "\n",
    "因为 FlowAgent 也是一个 BaseAgent, 并且在实现时支持了对 _last_output 属性的管理，因此支持嵌套使用。"
   ]
  },
  {
   "cell_type": "code",
   "execution_count": 11,
   "id": "015e2af2-266e-47a0-84de-306ac93020c1",
   "metadata": {},
   "outputs": [
    {
     "name": "stdout",
     "output_type": "stream",
     "text": [
      "[AGENT] \u001b[34mSTEP 0 >>> Node 1: 写手\u001b[0m\n",
      "\u001b[32m小\u001b[0m\u001b[32m白\u001b[0m\u001b[32m兔\u001b[0m\u001b[32m白\u001b[0m\u001b[32m又\u001b[0m\u001b[32m白\u001b[0m\u001b[32m,\u001b[0m\u001b[32m两\u001b[0m\u001b[32m只\u001b[0m\u001b[32m耳\u001b[0m\u001b[32m朵\u001b[0m\u001b[32m粘\u001b[0m\u001b[32m一\u001b[0m\u001b[32m块\u001b[0m\n",
      "[AGENT] \u001b[34mSTEP 1 >>> Node 2: FlowAgent.4884221808\u001b[0m\n",
      "[AGENT] \u001b[34mSTEP 0 >>> Node 1: 评论家2\u001b[0m\n",
      "\u001b[32m你\u001b[0m\u001b[32m写\u001b[0m\u001b[32m了\u001b[0m\u001b[32m一\u001b[0m\u001b[32m坨\u001b[0m\u001b[32m垃\u001b[0m\u001b[32m圾\u001b[0m\n",
      "[AGENT] \u001b[34mSTEP 1 >>> Node 2: 打分专家\u001b[0m\n",
      "\u001b[32m3\u001b[0m\u001b[32m分\u001b[0m\u001b[32m。\u001b[0m\u001b[32m我\u001b[0m\u001b[32m胡\u001b[0m\u001b[32m乱\u001b[0m\u001b[32m打\u001b[0m\u001b[32m的\u001b[0m\u001b[32m分\u001b[0m\u001b[32m。\u001b[0m\n"
     ]
    },
    {
     "data": {
      "text/plain": [
       "'3分。我胡乱打的分。'"
      ]
     },
     "execution_count": 11,
     "metadata": {},
     "output_type": "execute_result"
    }
   ],
   "source": [
    "from illufly.chat import FlowAgent, FakeLLM, Selector\n",
    "\n",
    "flow0 = FlowAgent(\n",
    "    Selector([\n",
    "        FakeLLM(name=\"评论家1\", response=\"我觉得你写的不错\"),\n",
    "        FakeLLM(name=\"评论家2\", response=\"你写了一坨垃圾\"),\n",
    "    ], \"random\"),\n",
    "    FakeLLM(name=\"打分专家\", response=\"3分。我胡乱打的分。\")\n",
    ")\n",
    "\n",
    "flow = FlowAgent(\n",
    "    FakeLLM(name=\"写手\", response=[\"小白兔白又白,两只耳朵粘一块\"]),\n",
    "    flow0\n",
    ")\n",
    "\n",
    "flow(\"你能帮我写一首关于兔子做梦的四句儿歌?\", verbose=False)"
   ]
  }
 ],
 "metadata": {
  "kernelspec": {
   "display_name": "Python 3 (ipykernel)",
   "language": "python",
   "name": "python3"
  },
  "language_info": {
   "codemirror_mode": {
    "name": "ipython",
    "version": 3
   },
   "file_extension": ".py",
   "mimetype": "text/x-python",
   "name": "python",
   "nbconvert_exporter": "python",
   "pygments_lexer": "ipython3",
   "version": "3.10.0"
  }
 },
 "nbformat": 4,
 "nbformat_minor": 5
}
