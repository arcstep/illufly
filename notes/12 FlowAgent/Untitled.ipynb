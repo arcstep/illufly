{
 "cells": [
  {
   "cell_type": "code",
   "execution_count": 1,
   "id": "7b9848bb-595c-4bea-a971-334679c206d2",
   "metadata": {},
   "outputs": [
    {
     "name": "stdout",
     "output_type": "stream",
     "text": [
      "[AGENT] \u001b[34m>>> Node 1: planner\u001b[0m\n",
      "\u001b[32m**思考\u001b[0m\u001b[32m**\u001b[0m\u001b[32m  \n",
      "\u001b[0m\u001b[32m考虑到问题“你\u001b[0m\u001b[32m是什么模型？”是\u001b[0m\u001b[32m关于我自身的性质\u001b[0m\u001b[32m或类型的问题，\u001b[0m\u001b[32m这并不需要使用\u001b[0m\u001b[32m外部工具来回答\u001b[0m\u001b[32m。我可以直接基于\u001b[0m\u001b[32m我的自我认知和\u001b[0m\u001b[32m设计目的来提供\u001b[0m\u001b[32m答案。因此，\u001b[0m\u001b[32m当前就结束任务\u001b[0m\u001b[32m并输出最终答案\u001b[0m\u001b[32m是最合适的决策。\n",
      "\n",
      "\u001b[0m\u001b[32m**最终答案**\u001b[0m\u001b[32m  \n",
      "我是一个由\u001b[0m\u001b[32m阿里云开发的语言\u001b[0m\u001b[32m模型，名为通\u001b[0m\u001b[32m义千问。\u001b[0m\u001b[32m我的主要功能是\u001b[0m\u001b[32m生成文本，包括\u001b[0m\u001b[32m但不限于回答问题、\u001b[0m\u001b[32m创作故事、撰写\u001b[0m\u001b[32m文章等。我\u001b[0m\u001b[32m被设计成能够\u001b[0m\u001b[32m理解多种语言，并\u001b[0m\u001b[32m且能够在多个领域\u001b[0m\u001b[32m内提供帮助。\u001b[0m\u001b[32m\u001b[0m\n",
      "[AGENT] \u001b[34m>>> Node 2: observer\u001b[0m\n"
     ]
    },
    {
     "data": {
      "text/plain": [
       "'我是一个由阿里云开发的语言模型，名为通义千问。我的主要功能是生成文本，包括但不限于回答问题、创作故事、撰写文章等。我被设计成能够理解多种语言，并且能够在多个领域内提供帮助。'"
      ]
     },
     "execution_count": 1,
     "metadata": {},
     "output_type": "execute_result"
    }
   ],
   "source": [
    "from illufly.chat import ChatQwen, ReAct\n",
    "\n",
    "def tool1(input: str):\n",
    "    \"\"\"我是一个会写诗的工具\"\"\"\n",
    "    return \"大海啊, 全是水\"\n",
    "\n",
    "chat = ReAct(\n",
    "    planner=ChatQwen(tools=[tool1])\n",
    ")\n",
    "chat(\"你是什么模型？\")"
   ]
  },
  {
   "cell_type": "code",
   "execution_count": 3,
   "id": "a98e7d91-8929-4da2-9092-bc3b2e28a7b7",
   "metadata": {},
   "outputs": [
    {
     "name": "stdout",
     "output_type": "stream",
     "text": [
      "[AGENT] \u001b[34m>>> Node 1: 写手\u001b[0m\n",
      "[INFO] \u001b[34m记住 10 轮对话\u001b[0m\n",
      "\u001b[32m当然可以\u001b[0m\u001b[32m，\u001b[0m\u001b[32m以下\u001b[0m\u001b[32m是一首简短\u001b[0m\u001b[32m可爱的兔子儿歌\u001b[0m\u001b[32m：\n",
      "\n",
      "小兔白\u001b[0m\u001b[32m又白，  \n",
      "\u001b[0m\u001b[32m两耳竖起来\u001b[0m\u001b[32m。  \n",
      "爱吃红\u001b[0m\u001b[32m萝卜，  \n",
      "蹦\u001b[0m\u001b[32m蹦又跳跳\u001b[0m\u001b[32m。\u001b[0m\u001b[32m\u001b[0m\n",
      "[USAGE] \u001b[34m{\"input_tokens\": 29, \"output_tokens\": 37, \"total_tokens\": 66}\u001b[0m\n",
      "[AGENT] \u001b[34m>>> Node 2: 评分专家\u001b[0m\n",
      "[INFO] \u001b[34m记住 10 轮对话\u001b[0m\n",
      "\u001b[32m4分\u001b[0m\u001b[32m\n",
      "\n",
      "\u001b[0m\u001b[32m这首\u001b[0m\u001b[32m儿歌简洁明\u001b[0m\u001b[32m快，富有童\u001b[0m\u001b[32m趣，能够很好地\u001b[0m\u001b[32m吸引小朋友的注意力\u001b[0m\u001b[32m。语言通俗易\u001b[0m\u001b[32m懂，形象生动\u001b[0m\u001b[32m，节奏感强\u001b[0m\u001b[32m。如果能在内容\u001b[0m\u001b[32m上稍加丰富\u001b[0m\u001b[32m，比如增加一些\u001b[0m\u001b[32m小兔的生活习\u001b[0m\u001b[32m性或互动情节\u001b[0m\u001b[32m，会更有趣\u001b[0m\u001b[32m味性和教育意义\u001b[0m\u001b[32m。\u001b[0m\u001b[32m\u001b[0m\n",
      "[USAGE] \u001b[34m{\"input_tokens\": 72, \"output_tokens\": 61, \"total_tokens\": 133}\u001b[0m\n",
      "[AGENT] \u001b[34m>>> Node 1: 写手\u001b[0m\n",
      "[INFO] \u001b[34m记住 10 轮对话\u001b[0m\n",
      "\u001b[32m谢谢你的\u001b[0m\u001b[32m反馈\u001b[0m\u001b[32m！\u001b[0m\u001b[32m我会在原有的基础上\u001b[0m\u001b[32m增加一些内容，\u001b[0m\u001b[32m让儿歌更加\u001b[0m\u001b[32m丰富和有趣。\n",
      "\n",
      "\u001b[0m\u001b[32m小兔白又\u001b[0m\u001b[32m白，  \n",
      "两\u001b[0m\u001b[32m耳竖起来。\u001b[0m\u001b[32m  \n",
      "爱吃红萝卜\u001b[0m\u001b[32m，  \n",
      "蹦蹦\u001b[0m\u001b[32m又跳跳。\u001b[0m\u001b[32m  \n",
      "早晨去采\u001b[0m\u001b[32m花，  \n",
      "傍晚\u001b[0m\u001b[32m回家跑。  \n",
      "\u001b[0m\u001b[32m妈妈夸它乖\u001b[0m\u001b[32m，  \n",
      "快乐每一天\u001b[0m\u001b[32m。\u001b[0m\u001b[32m\u001b[0m\n",
      "[USAGE] \u001b[34m{\"input_tokens\": 137, \"output_tokens\": 65, \"total_tokens\": 202}\u001b[0m\n",
      "[AGENT] \u001b[34m>>> Node 2: 评分专家\u001b[0m\n",
      "[INFO] \u001b[34m记住 10 轮对话\u001b[0m\n",
      "\u001b[32m5分\u001b[0m\u001b[32m\n",
      "\n",
      "\u001b[0m\u001b[32m这首\u001b[0m\u001b[32m儿歌经过修改\u001b[0m\u001b[32m后更加丰富有趣\u001b[0m\u001b[32m，不仅保留了\u001b[0m\u001b[32m原有的简洁明快\u001b[0m\u001b[32m，还增加了小\u001b[0m\u001b[32m兔的日常生活细节\u001b[0m\u001b[32m，使内容更加\u001b[0m\u001b[32m生动。同时，\u001b[0m\u001b[32m加入了妈妈的夸\u001b[0m\u001b[32m奖和快乐的情感\u001b[0m\u001b[32m，增强了儿歌\u001b[0m\u001b[32m的温馨感和\u001b[0m\u001b[32m教育意义。非常\u001b[0m\u001b[32m棒！\u001b[0m\u001b[32m\u001b[0m\n",
      "[USAGE] \u001b[34m{\"input_tokens\": 208, \"output_tokens\": 58, \"total_tokens\": 266}\u001b[0m\n",
      "[INFO] \u001b[34m到达 __End__ 节点，结束\u001b[0m\n",
      "[INFO] \u001b[34m执行完毕，所有节点运行 5 步\u001b[0m\n"
     ]
    },
    {
     "data": {
      "text/plain": [
       "'5分\\n\\n这首儿歌经过修改后更加丰富有趣，不仅保留了原有的简洁明快，还增加了小兔的日常生活细节，使内容更加生动。同时，加入了妈妈的夸奖和快乐的情感，增强了儿歌的温馨感和教育意义。非常棒！'"
      ]
     },
     "execution_count": 3,
     "metadata": {},
     "output_type": "execute_result"
    }
   ],
   "source": [
    "from illufly.chat import FlowAgent, ChatQwen, Selector\n",
    "\n",
    "writer = ChatQwen(\n",
    "    name=\"写手\",\n",
    "    memory=(\"system\", \"你是一个写手\")\n",
    ")\n",
    "\n",
    "evaluator = ChatQwen(\n",
    "    name=\"评分专家\",\n",
    "    memory=(\"system\", \"你是一个评分专家，根据对方写的内容评价1分-5分，仅输出评价和最终结果\")\n",
    ")\n",
    "\n",
    "def should_continue():\n",
    "    return \"__END__\" if \"5\" in evaluator.last_output else \"写手\"\n",
    "\n",
    "flow = FlowAgent(writer, evaluator, Selector(condition=should_continue))\n",
    "\n",
    "flow(\"你能帮我写一首关于兔子的四句儿歌?\", verbose=True)"
   ]
  },
  {
   "cell_type": "code",
   "execution_count": null,
   "id": "83dd8554-1a0a-4d9f-a04c-fc41599efdbb",
   "metadata": {},
   "outputs": [],
   "source": []
  }
 ],
 "metadata": {
  "kernelspec": {
   "display_name": "textlong-same-ipykernel",
   "language": "python",
   "name": "textlong-same-ipykernel"
  },
  "language_info": {
   "codemirror_mode": {
    "name": "ipython",
    "version": 3
   },
   "file_extension": ".py",
   "mimetype": "text/x-python",
   "name": "python",
   "nbconvert_exporter": "python",
   "pygments_lexer": "ipython3",
   "version": "3.10.0"
  }
 },
 "nbformat": 4,
 "nbformat_minor": 5
}
