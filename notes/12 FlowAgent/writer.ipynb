{
 "cells": [
  {
   "cell_type": "markdown",
   "id": "03b0eeaa-3935-4db0-9456-0496a2997da8",
   "metadata": {},
   "source": [
    "## 写作提示语模板"
   ]
  },
  {
   "cell_type": "code",
   "execution_count": 1,
   "id": "2129c241-f37d-4e69-9af4-9db90f0b54fb",
   "metadata": {},
   "outputs": [],
   "source": [
    "from illufly.hub import load_prompt_template, load_resource_template"
   ]
  },
  {
   "cell_type": "markdown",
   "id": "49b4bbf5-2c71-41dc-854b-8acb7e0f5f3a",
   "metadata": {},
   "source": [
    "### 加载对话模板的资源\n",
    "\n",
    "指定资源库中的模板ID即可加载模板。"
   ]
  },
  {
   "cell_type": "code",
   "execution_count": 4,
   "id": "2146cdb2-c2c8-4409-a808-d47989e00959",
   "metadata": {},
   "outputs": [
    {
     "data": {
      "text/plain": [
       "'你是强大的写作助手。\\n\\n你必须遵循以下约束来完成任务:\\n1. 直接输出你的结果，不要评论，不要啰嗦\\n2. 使用markdown格式输出\\n\\n**你的任务是:**\\n{{task}}\\n'"
      ]
     },
     "execution_count": 4,
     "metadata": {},
     "output_type": "execute_result"
    }
   ],
   "source": [
    "load_prompt_template(\"WRITER/IDEA\")"
   ]
  },
  {
   "cell_type": "code",
   "execution_count": 5,
   "id": "1336f88f-be74-4cb0-9bcf-00d1445e57c2",
   "metadata": {},
   "outputs": [
    {
     "data": {
      "text/plain": [
       "'你是强大的写作助手。\\n\\n你必须遵循以下约束来完成任务:\\n1. 直接输出你的结果，不要评论，不要啰嗦\\n2. 使用markdown格式输出\\n3. 请按照需要输出一份写作提纲\\n4. 提纲的构成应当由多个阔系额要求构成\\n5. 扩写要求必须包含清晰描述，如预估字数、创意要点、创作思路、创作中涉及到的实体名称等\\n5. 每一个扩写要求由完整的 `<OUTLINE>`和`</OUTLINE>` 包裹\\n6. 你只能输出提纲，不要输出具体的扩写内容\\n\\n**你的任务是:**\\n{{task}}\\n\\n{\\n**输出例子1**\\n```\\n# 第一章 标题1\\n## 一、XXXX\\n<OUTLINE>\\n扩写摘要:\\n对扩写内容做摘要总结\\n\\n扩写要求：\\n- xxx\\n- xxx\\n</OUTLINE>\\n\\n## 二、XXXX\\n<OUTLINE>\\n</OUTLINE>\\n\\n## （更多扩写提纲）\\n```\\n}\\n'"
      ]
     },
     "execution_count": 5,
     "metadata": {},
     "output_type": "execute_result"
    }
   ],
   "source": [
    "load_prompt_template(\"WRITER/OUTLINE\")"
   ]
  },
  {
   "cell_type": "markdown",
   "id": "e39c0064-4fd2-43ad-9b08-be05d9b0493d",
   "metadata": {},
   "source": [
    "## 单轮写作"
   ]
  },
  {
   "cell_type": "code",
   "execution_count": 6,
   "id": "36a03ed6-3643-4e96-8815-8634c88176a0",
   "metadata": {},
   "outputs": [
    {
     "name": "stdout",
     "output_type": "stream",
     "text": [
      "\u001b[32m小兔\u001b[0m\u001b[32m白\u001b[0m\u001b[32m又\u001b[0m\u001b[32m白，  \n",
      "两\u001b[0m\u001b[32m耳竖起来。\u001b[0m\u001b[32m  \n",
      "爱吃红萝卜\u001b[0m\u001b[32m，  \n",
      "蹦跳\u001b[0m\u001b[32m乐开怀。\u001b[0m\u001b[32m\u001b[0m\n"
     ]
    },
    {
     "data": {
      "text/plain": [
       "'小兔白又白，  \\n两耳竖起来。  \\n爱吃红萝卜，  \\n蹦跳乐开怀。'"
      ]
     },
     "execution_count": 6,
     "metadata": {},
     "output_type": "execute_result"
    }
   ],
   "source": [
    "from illufly.chat import ChatQwen\n",
    "from illufly.types import PromptTemplate\n",
    "\n",
    "a = ChatQwen(memory=PromptTemplate(\"WRITER/IDEA\"))\n",
    "a(\"帮我写一首关于兔子的四句儿歌\")"
   ]
  },
  {
   "cell_type": "markdown",
   "id": "c86b524c-e504-42b8-a84c-e31e5e8c5a66",
   "metadata": {},
   "source": [
    "## 使用 ChatAgent 扩写\n",
    "\n",
    "### 提纲 + 扩写"
   ]
  },
  {
   "cell_type": "code",
   "execution_count": 1,
   "id": "9b0503f8-04d2-489c-8c7e-876a43110f2b",
   "metadata": {
    "scrolled": true
   },
   "outputs": [
    {
     "name": "stdout",
     "output_type": "stream",
     "text": [
      "\u001b[32m\u001b[0m\u001b[32m<OUT\u001b[0m\u001b[32mLINE\u001b[0m\u001b[32m>\n",
      "\u001b[0m\u001b[32m- **标题**:\u001b[0m\u001b[32m 兔子和他的\u001b[0m\u001b[32m朋友们\n",
      "- **\u001b[0m\u001b[32m预估字数\u001b[0m\u001b[32m**: 10\u001b[0m\u001b[32m0-15\u001b[0m\u001b[32m0字\n",
      "-\u001b[0m\u001b[32m **创意要点**:\u001b[0m\u001b[32m 通过儿歌\u001b[0m\u001b[32m的形式，展现兔子\u001b[0m\u001b[32m与不同动物朋友\u001b[0m\u001b[32m之间的友谊和快乐\u001b[0m\u001b[32m时光。\n",
      "- **\u001b[0m\u001b[32m创作思路**: 第\u001b[0m\u001b[32m一段介绍兔子的朋友\u001b[0m\u001b[32m，使用简单明\u001b[0m\u001b[32m快的语言，让\u001b[0m\u001b[32m小朋友容易理解。\u001b[0m\u001b[32m第二段描述兔子\u001b[0m\u001b[32m和朋友们一起玩耍\u001b[0m\u001b[32m的具体场景，增加\u001b[0m\u001b[32m趣味性和互动感\u001b[0m\u001b[32m。\n",
      "- **涉及\u001b[0m\u001b[32m实体名称**: \u001b[0m\u001b[32m兔子、小\u001b[0m\u001b[32m猫、小狗、\u001b[0m\u001b[32m小鸭子、\u001b[0m\u001b[32m小猪\n",
      "\n",
      "###\u001b[0m\u001b[32m 第一段\n",
      "-\u001b[0m\u001b[32m **内容**: \u001b[0m\u001b[32m描述兔子的朋友\n",
      "\u001b[0m\u001b[32m- **具体要求\u001b[0m\u001b[32m**: 列举\u001b[0m\u001b[32m兔子的几位好朋友\u001b[0m\u001b[32m，如小猫\u001b[0m\u001b[32m、小狗、小\u001b[0m\u001b[32m鸭子、小\u001b[0m\u001b[32m猪等，用\u001b[0m\u001b[32m简单的语言表达他们\u001b[0m\u001b[32m之间的友情。\n",
      "-\u001b[0m\u001b[32m **示例句\u001b[0m\u001b[32m式**: 小\u001b[0m\u001b[32m白兔有好多\u001b[0m\u001b[32m朋友，小猫\u001b[0m\u001b[32m喵喵叫，\u001b[0m\u001b[32m小狗汪汪跑\u001b[0m\u001b[32m，小鸭子\u001b[0m\u001b[32m嘎嘎笑，\u001b[0m\u001b[32m小猪呼呼\u001b[0m\u001b[32m睡。\n",
      "\n",
      "### 第\u001b[0m\u001b[32m二段\n",
      "-\u001b[0m\u001b[32m **内容**: \u001b[0m\u001b[32m描述兔子和朋友们\u001b[0m\u001b[32m一起玩的场景\u001b[0m\u001b[32m\n",
      "- **具体\u001b[0m\u001b[32m要求**: 描述\u001b[0m\u001b[32m兔子和朋友们一起\u001b[0m\u001b[32m玩耍的具体活动，\u001b[0m\u001b[32m如捉迷藏\u001b[0m\u001b[32m、跳绳、\u001b[0m\u001b[32m唱歌等，突出\u001b[0m\u001b[32m欢乐的氛围。\n",
      "\u001b[0m\u001b[32m- **示例\u001b[0m\u001b[32m句式**: \u001b[0m\u001b[32m他们一起捉迷\u001b[0m\u001b[32m藏，你躲\u001b[0m\u001b[32m我来找；一起\u001b[0m\u001b[32m跳绳唱儿\u001b[0m\u001b[32m歌，笑声传\u001b[0m\u001b[32m遍田野间。\n",
      "\u001b[0m\u001b[32m</OUTLINE>\u001b[0m\u001b[32m\u001b[0m\n",
      "[AGENT] \u001b[34m执行扩写任务 <3388-237-000>：\n",
      "- **标题**: 兔子和他的朋友们<br>- **预估字数**: 100-150字<br>- **创意要点**: 通过儿歌的形式，展现兔子与不同动物朋友之间的友谊和快乐时光。<br>- **创作思路**: 第一段介绍...\u001b[0m\n",
      "\u001b[32m```\u001b[0m\u001b[32mmarkdown\u001b[0m\u001b[32m\n",
      "\u001b[0m\u001b[32m小白\u001b[0m\u001b[32m兔有好多朋友\u001b[0m\u001b[32m，小猫喵\u001b[0m\u001b[32m喵叫，小狗\u001b[0m\u001b[32m汪汪跑，\u001b[0m\u001b[32m小鸭子嘎\u001b[0m\u001b[32m嘎笑，小\u001b[0m\u001b[32m猪呼呼睡\u001b[0m\u001b[32m。他们一起捉\u001b[0m\u001b[32m迷藏，你\u001b[0m\u001b[32m躲我来找；\u001b[0m\u001b[32m一起跳绳唱\u001b[0m\u001b[32m儿歌，笑声\u001b[0m\u001b[32m传遍田野间\u001b[0m\u001b[32m。\n",
      "```\u001b[0m\u001b[32m\u001b[0m\n",
      "小白兔有好多朋友，小猫喵喵叫，小狗汪汪跑，小鸭子嘎嘎笑，小猪呼呼睡。他们一起捉迷藏，你躲我来找；一起跳绳唱儿歌，笑声传遍田野间。\n",
      "\n"
     ]
    }
   ],
   "source": [
    "from illufly.chat import ChatQwen\n",
    "from illufly.flow import FromOutline\n",
    "from illufly.types import PromptTemplate\n",
    "\n",
    "a = ChatQwen(memory=PromptTemplate(\"WRITER/OUTLINE\"))\n",
    "a(\"帮我写一首关于兔子的儿歌，两段即可，第一段些兔子有哪些朋友，第二段些和朋友们一起玩（要求提到具体的朋友）\")\n",
    "fo = FromOutline(ChatQwen(name=\"小作家\"))\n",
    "fo(a)\n",
    "print(fo.last_output)"
   ]
  },
  {
   "cell_type": "code",
   "execution_count": 2,
   "id": "ad6595d8-63c6-47f2-8d92-a65313dd3b9c",
   "metadata": {},
   "outputs": [
    {
     "name": "stdout",
     "output_type": "stream",
     "text": [
      "小白兔有好多朋友，小猫喵喵叫，小狗汪汪跑，小鸭子嘎嘎笑，小猪呼呼睡。他们一起捉迷藏，你躲我来找；一起跳绳唱儿歌，笑声传遍田野间。\n",
      "\n"
     ]
    }
   ],
   "source": [
    "print(fo.last_output)"
   ]
  },
  {
   "cell_type": "markdown",
   "id": "44706b47-2461-4832-ac94-9fb880656535",
   "metadata": {},
   "source": [
    "### 局部 `<OUTLINE/>`"
   ]
  },
  {
   "cell_type": "code",
   "execution_count": 1,
   "id": "de52bd30-e89c-4bb9-8798-f20ef80f3237",
   "metadata": {},
   "outputs": [
    {
     "name": "stdout",
     "output_type": "stream",
     "text": [
      "[AGENT] \u001b[34m执行扩写任务 <2433-444-001>：\n",
      "扩写摘要:<br>介绍兔子拥有的好朋友，通过欢快的节奏展现它们之间的友谊。<br><br>扩写要求：<br>- 字数：约40字<br>- 创意要点：提到至少三种不同的动物朋友，如小鸡、小鸭、小羊<br>- 创作思路：用简单易懂的语言，让...\u001b[0m\n",
      "\u001b[32m小\u001b[0m\u001b[32m兔\u001b[0m\u001b[32m有\u001b[0m\u001b[32m朋友\u001b[0m\u001b[32m，小鸡叽\u001b[0m\u001b[32m叽叫，小\u001b[0m\u001b[32m鸭嘎嘎笑\u001b[0m\u001b[32m，小羊咩\u001b[0m\u001b[32m咩闹，大家\u001b[0m\u001b[32m真友好。\u001b[0m\u001b[32m\u001b[0m\n",
      "[AGENT] \u001b[34m执行扩写任务 <2433-808-003>：\n",
      "扩写摘要:<br>描述兔子和它的朋友们一起玩耍的快乐场景，增加儿歌的互动性和趣味性。<br><br>扩写要求：<br>- 字数：约40字<br>- 创意要点：具体描述一种或几种游戏，如捉迷藏、跳绳<br>- 创作思路：通过生动的场景描写...\u001b[0m\n",
      "\u001b[32m小\u001b[0m\u001b[32m兔\u001b[0m\u001b[32m和\u001b[0m\u001b[32m朋友们\u001b[0m\u001b[32m玩捉迷藏\u001b[0m\u001b[32m，小鸡躲\u001b[0m\u001b[32m进草丛，\u001b[0m\u001b[32m小鸭藏在\u001b[0m\u001b[32m树后，小\u001b[0m\u001b[32m羊跳绳欢\u001b[0m\u001b[32m笑，大家乐\u001b[0m\u001b[32m逍遥。\u001b[0m\u001b[32m\u001b[0m\n"
     ]
    },
    {
     "data": {
      "text/plain": [
       "'\\n小兔有朋友，小鸡叽叽叫，小鸭嘎嘎笑，小羊咩咩闹，大家真友好。\\n\\n小兔和朋友们玩捉迷藏，小鸡躲进草丛，小鸭藏在树后，小羊跳绳欢笑，大家乐逍遥。\\n\\n'"
      ]
     },
     "execution_count": 1,
     "metadata": {},
     "output_type": "execute_result"
    }
   ],
   "source": [
    "outline = \"\"\"\n",
    "<OUTLINE>\n",
    "扩写摘要:\n",
    "介绍兔子拥有的好朋友，通过欢快的节奏展现它们之间的友谊。\n",
    "\n",
    "扩写要求：\n",
    "- 字数：约40字\n",
    "- 创意要点：提到至少三种不同的动物朋友，如小鸡、小鸭、小羊\n",
    "- 创作思路：用简单易懂的语言，让小朋友容易理解和记忆\n",
    "- 实体名称：小兔、小鸡、小鸭、小羊\n",
    "</OUTLINE>\n",
    "\n",
    "<OUTLINE>\n",
    "扩写摘要:\n",
    "描述兔子和它的朋友们一起玩耍的快乐场景，增加儿歌的互动性和趣味性。\n",
    "\n",
    "扩写要求：\n",
    "- 字数：约40字\n",
    "- 创意要点：具体描述一种或几种游戏，如捉迷藏、跳绳\n",
    "- 创作思路：通过生动的场景描写，激发小朋友的想象力\n",
    "- 实体名称：小兔、小鸡、小鸭、小羊、捉迷藏、跳绳\n",
    "</OUTLINE>\n",
    "\"\"\"\n",
    "\n",
    "from illufly.chat import ChatQwen\n",
    "from illufly.flow import FromOutline\n",
    "from illufly.types import PromptTemplate\n",
    "\n",
    "from_outline = FromOutline(ChatQwen(name=\"小作家\"))\n",
    "from_outline(outline)"
   ]
  },
  {
   "cell_type": "markdown",
   "id": "21959935-35b0-41ad-bee4-b73b2c42820e",
   "metadata": {},
   "source": [
    "### 完整 `<OUTLINE/>`"
   ]
  },
  {
   "cell_type": "code",
   "execution_count": 3,
   "id": "a4d71a4c-7d16-4a21-b279-630ac780b6c0",
   "metadata": {},
   "outputs": [
    {
     "name": "stdout",
     "output_type": "stream",
     "text": [
      "[AGENT] \u001b[34m执行扩写任务 <2455-479-003>：\n",
      "扩写摘要:<br>介绍兔子拥有的好朋友，通过欢快的节奏展现它们之间的友谊。<br><br>扩写要求：<br>- 字数：约40字<br>- 创意要点：提到至少三种不同的动物朋友，如小鸡、小鸭、小羊<br>- 创作思路：用简单易懂的语言，让...\u001b[0m\n",
      "[USER] \u001b[34m请开始扩写\u001b[0m\n",
      "[INFO] \u001b[34m记住 10 轮对话\u001b[0m\n",
      "\u001b[32m```\u001b[0m\u001b[32mmarkdown\u001b[0m\u001b[32m\n",
      "\u001b[0m\u001b[32m小\u001b[0m\u001b[32m兔有朋友，\u001b[0m\u001b[32m小鸡叽叽\u001b[0m\u001b[32m叫，小鸭\u001b[0m\u001b[32m嘎嘎笑，\u001b[0m\u001b[32m小羊咩咩\u001b[0m\u001b[32m闹，大家真\u001b[0m\u001b[32m友好。\n",
      "```\u001b[0m\u001b[32m\u001b[0m\n",
      "[USAGE] \u001b[34m{\"input_tokens\": 399, \"output_tokens\": 31, \"total_tokens\": 430}\u001b[0m\n",
      "[AGENT] \u001b[34m执行扩写任务 <2455-900-006>：\n",
      "扩写摘要:<br>描述兔子和它的朋友们一起玩耍的快乐场景，增加儿歌的互动性和趣味性。<br><br>扩写要求：<br>- 字数：约40字<br>- 创意要点：具体描述一种或几种游戏，如捉迷藏、跳绳<br>- 创作思路：通过生动的场景描写...\u001b[0m\n",
      "[USER] \u001b[34m请开始扩写\u001b[0m\n",
      "[INFO] \u001b[34m记住 10 轮对话\u001b[0m\n",
      "\u001b[32m```\u001b[0m\u001b[32mmarkdown\u001b[0m\u001b[32m\n",
      "\u001b[0m\u001b[32m小\u001b[0m\u001b[32m兔和朋友们玩\u001b[0m\u001b[32m捉迷藏，\u001b[0m\u001b[32m小鸡躲草\u001b[0m\u001b[32m丛，小鸭\u001b[0m\u001b[32m藏树后，\u001b[0m\u001b[32m小羊找来找\u001b[0m\u001b[32m去乐悠悠。\n",
      "\u001b[0m\u001b[32m```\u001b[0m\u001b[32m\u001b[0m\n",
      "[USAGE] \u001b[34m{\"input_tokens\": 408, \"output_tokens\": 33, \"total_tokens\": 441}\u001b[0m\n"
     ]
    },
    {
     "data": {
      "text/plain": [
       "'\\n# 兔子的儿歌\\n\\n## 一、兔子的朋友\\n\\n小兔有朋友，小鸡叽叽叫，小鸭嘎嘎笑，小羊咩咩闹，大家真友好。\\n\\n## 二、和朋友们一起玩\\n\\n小兔和朋友们玩捉迷藏，小鸡躲草丛，小鸭藏树后，小羊找来找去乐悠悠。\\n\\n'"
      ]
     },
     "execution_count": 3,
     "metadata": {},
     "output_type": "execute_result"
    }
   ],
   "source": [
    "outline = \"\"\"\n",
    "# 兔子的儿歌\n",
    "## 一、兔子的朋友\n",
    "<OUTLINE>\n",
    "扩写摘要:\n",
    "介绍兔子拥有的好朋友，通过欢快的节奏展现它们之间的友谊。\n",
    "\n",
    "扩写要求：\n",
    "- 字数：约40字\n",
    "- 创意要点：提到至少三种不同的动物朋友，如小鸡、小鸭、小羊\n",
    "- 创作思路：用简单易懂的语言，让小朋友容易理解和记忆\n",
    "- 实体名称：小兔、小鸡、小鸭、小羊\n",
    "</OUTLINE>\n",
    "\n",
    "## 二、和朋友们一起玩\n",
    "<OUTLINE>\n",
    "扩写摘要:\n",
    "描述兔子和它的朋友们一起玩耍的快乐场景，增加儿歌的互动性和趣味性。\n",
    "\n",
    "扩写要求：\n",
    "- 字数：约40字\n",
    "- 创意要点：具体描述一种或几种游戏，如捉迷藏、跳绳\n",
    "- 创作思路：通过生动的场景描写，激发小朋友的想象力\n",
    "- 实体名称：小兔、小鸡、小鸭、小羊、捉迷藏、跳绳\n",
    "</OUTLINE>\n",
    "\"\"\"\n",
    "\n",
    "from illufly.chat import ChatQwen\n",
    "from illufly.flow import FromOutline\n",
    "from illufly.types import PromptTemplate\n",
    "\n",
    "from_outline = FromOutline(ChatQwen(name=\"小作家\"))\n",
    "from_outline(outline, verbose=True)"
   ]
  },
  {
   "cell_type": "markdown",
   "id": "a73287b8-2aaf-4fd9-a730-e3a9d14ca615",
   "metadata": {},
   "source": [
    "### 异步版本"
   ]
  },
  {
   "cell_type": "code",
   "execution_count": 2,
   "id": "1ab65a1d-fd4f-4184-890b-5391b83a8d1a",
   "metadata": {
    "scrolled": true
   },
   "outputs": [
    {
     "name": "stdout",
     "output_type": "stream",
     "text": [
      "[AGENT] \u001b[34m执行扩写任务 <6897-929-003>：\n",
      "扩写摘要:<br>介绍兔子拥有的好朋友，通过欢快的节奏展现它们之间的友谊。<br><br>扩写要求：<br>- 字数：约240字<br>- 创意要点：提到至少三种不同的动物朋友，如小鸡、小鸭、小羊<br>- 创作思路：用简单易懂的语言，...\u001b[0m\n",
      "[USER] \u001b[34m请开始扩写\u001b[0m\n",
      "[INFO] \u001b[34m记住 10 轮对话\u001b[0m\n",
      "\u001b[32m```\u001b[0m\u001b[32mmarkdown\u001b[0m\u001b[32m\n",
      "\u001b[0m\u001b[32m小\u001b[0m\u001b[32m兔有朋友，\u001b[0m\u001b[32m小鸡叽叽\u001b[0m\u001b[32m叫，小鸭\u001b[0m\u001b[32m嘎嘎笑，\u001b[0m\u001b[32m小羊咩咩\u001b[0m\u001b[32m闹，大家真\u001b[0m\u001b[32m友好。\n",
      "小兔\u001b[0m\u001b[32m蹦蹦跳，\u001b[0m\u001b[32m小鸡跟在\u001b[0m\u001b[32m后，小鸭\u001b[0m\u001b[32m摇摇摆，\u001b[0m\u001b[32m小羊跑得\u001b[0m\u001b[32m快，一起乐\u001b[0m\u001b[32m逍遥。\n",
      "小兔\u001b[0m\u001b[32m爱胡萝卜，小\u001b[0m\u001b[32m鸡啄米忙\u001b[0m\u001b[32m，小鸭戏\u001b[0m\u001b[32m水欢，小\u001b[0m\u001b[32m羊吃草香\u001b[0m\u001b[32m，各有所长\u001b[0m\u001b[32m。\n",
      "小兔搭\u001b[0m\u001b[32m窝棚，小\u001b[0m\u001b[32m鸡帮忙找草\u001b[0m\u001b[32m，小鸭挖\u001b[0m\u001b[32m泥坑，小\u001b[0m\u001b[32m羊搬石头，\u001b[0m\u001b[32m齐心协力\u001b[0m\u001b[32m。\n",
      "小兔讲故事\u001b[0m\u001b[32m，小鸡听\u001b[0m\u001b[32m得很认真，小\u001b[0m\u001b[32m鸭扑腾翅膀\u001b[0m\u001b[32m，小羊围\u001b[0m\u001b[32m成圈，笑声\u001b[0m\u001b[32m连连。\n",
      "```\u001b[0m\u001b[32m\u001b[0m\n",
      "[USAGE] \u001b[34m{\"input_tokens\": 398, \"output_tokens\": 139, \"total_tokens\": 537}\u001b[0m\n",
      "[AGENT] \u001b[34m执行扩写任务 <6897-489-006>：\n",
      "扩写摘要:<br>描述兔子和它的朋友们一起玩耍的快乐场景，增加儿歌的互动性和趣味性。<br><br>扩写要求：<br>- 字数：约240字<br>- 创意要点：具体描述一种或几种游戏，如捉迷藏、跳绳<br>- 创作思路：通过生动的场景描...\u001b[0m\n",
      "[USER] \u001b[34m请开始扩写\u001b[0m\n",
      "[INFO] \u001b[34m记住 10 轮对话\u001b[0m\n",
      "\u001b[32m```\u001b[0m\u001b[32mmarkdown\u001b[0m\u001b[32m\n",
      "\u001b[0m\u001b[32m小\u001b[0m\u001b[32m兔和朋友们在\u001b[0m\u001b[32m草地上快乐地\u001b[0m\u001b[32m玩耍。阳光明媚\u001b[0m\u001b[32m，微风轻\u001b[0m\u001b[32m拂，草地上的\u001b[0m\u001b[32m花儿也跟着\u001b[0m\u001b[32m摇曳。小\u001b[0m\u001b[32m兔提议玩捉\u001b[0m\u001b[32m迷藏，大家都\u001b[0m\u001b[32m兴奋地同意了\u001b[0m\u001b[32m。\n",
      "\n",
      "小鸡自\u001b[0m\u001b[32m告奋勇当\u001b[0m\u001b[32m“鬼”，闭\u001b[0m\u001b[32m上眼睛数数\u001b[0m\u001b[32m：“一、二\u001b[0m\u001b[32m、三……”\u001b[0m\u001b[32m小兔、小\u001b[0m\u001b[32m鸭和小羊\u001b[0m\u001b[32m赶紧找地方躲\u001b[0m\u001b[32m起来。小兔\u001b[0m\u001b[32m躲在了一棵大树\u001b[0m\u001b[32m后面，小鸭\u001b[0m\u001b[32m藏在了花\u001b[0m\u001b[32m丛里，小\u001b[0m\u001b[32m羊则钻进\u001b[0m\u001b[32m了一个小山洞\u001b[0m\u001b[32m。小鸡数\u001b[0m\u001b[32m完后，开始\u001b[0m\u001b[32m四处寻找。它\u001b[0m\u001b[32m先找到了小鸭\u001b[0m\u001b[32m，小鸭吓得\u001b[0m\u001b[32m咯咯直笑\u001b[0m\u001b[32m。接着，小\u001b[0m\u001b[32m鸡又发现了小\u001b[0m\u001b[32m羊，小羊\u001b[0m\u001b[32m也笑着跑了出来\u001b[0m\u001b[32m。最后，小\u001b[0m\u001b[32m鸡终于找到了小\u001b[0m\u001b[32m兔，大家一起欢呼\u001b[0m\u001b[32m雀跃。\n",
      "\n",
      "玩\u001b[0m\u001b[32m累了，小兔\u001b[0m\u001b[32m又拿出了跳\u001b[0m\u001b[32m绳，邀请朋友们\u001b[0m\u001b[32m一起跳。小\u001b[0m\u001b[32m鸡、小鸭\u001b[0m\u001b[32m和小羊轮流\u001b[0m\u001b[32m跳，跳得\u001b[0m\u001b[32m不亦乐乎\u001b[0m\u001b[32m。小兔还\u001b[0m\u001b[32m教大家一些有趣的\u001b[0m\u001b[32m跳绳花样，\u001b[0m\u001b[32m大家学得津\u001b[0m\u001b[32m津有味。\u001b[0m\u001b[32m整个下午，他们\u001b[0m\u001b[32m都在笑声和欢乐\u001b[0m\u001b[32m中度过，度\u001b[0m\u001b[32m过了一个美好的时光\u001b[0m\u001b[32m。\n",
      "```\u001b[0m\u001b[32m\u001b[0m\n",
      "[USAGE] \u001b[34m{\"input_tokens\": 407, \"output_tokens\": 234, \"total_tokens\": 641}\u001b[0m\n"
     ]
    },
    {
     "data": {
      "text/plain": [
       "'\\n# 兔子的儿歌\\n\\n## 一、兔子的朋友\\n\\n小兔有朋友，小鸡叽叽叫，小鸭嘎嘎笑，小羊咩咩闹，大家真友好。\\n小兔蹦蹦跳，小鸡跟在后，小鸭摇摇摆，小羊跑得快，一起乐逍遥。\\n小兔爱胡萝卜，小鸡啄米忙，小鸭戏水欢，小羊吃草香，各有所长。\\n小兔搭窝棚，小鸡帮忙找草，小鸭挖泥坑，小羊搬石头，齐心协力。\\n小兔讲故事，小鸡听得很认真，小鸭扑腾翅膀，小羊围成圈，笑声连连。\\n\\n## 二、和朋友们一起玩\\n\\n小兔和朋友们在草地上快乐地玩耍。阳光明媚，微风轻拂，草地上的花儿也跟着摇曳。小兔提议玩捉迷藏，大家都兴奋地同意了。\\n\\n小鸡自告奋勇当“鬼”，闭上眼睛数数：“一、二、三……”小兔、小鸭和小羊赶紧找地方躲起来。小兔躲在了一棵大树后面，小鸭藏在了花丛里，小羊则钻进了一个小山洞。小鸡数完后，开始四处寻找。它先找到了小鸭，小鸭吓得咯咯直笑。接着，小鸡又发现了小羊，小羊也笑着跑了出来。最后，小鸡终于找到了小兔，大家一起欢呼雀跃。\\n\\n玩累了，小兔又拿出了跳绳，邀请朋友们一起跳。小鸡、小鸭和小羊轮流跳，跳得不亦乐乎。小兔还教大家一些有趣的跳绳花样，大家学得津津有味。整个下午，他们都在笑声和欢乐中度过，度过了一个美好的时光。\\n\\n'"
      ]
     },
     "execution_count": 2,
     "metadata": {},
     "output_type": "execute_result"
    }
   ],
   "source": [
    "from illufly.io import alog\n",
    "await from_outline(outline, verbose=True, handlers=[alog])"
   ]
  },
  {
   "cell_type": "code",
   "execution_count": null,
   "id": "821bca80-acaf-4017-9f55-9cfde1621e82",
   "metadata": {},
   "outputs": [],
   "source": [
    "print(from_outline.last_output)"
   ]
  },
  {
   "cell_type": "markdown",
   "id": "e08d4557-908b-47d6-b0a6-3c48ddb6f4ea",
   "metadata": {},
   "source": [
    "### 查看生成中间文档"
   ]
  },
  {
   "cell_type": "code",
   "execution_count": 6,
   "id": "545dcac7-d34b-4212-8538-0942d7e80152",
   "metadata": {},
   "outputs": [
    {
     "data": {
      "text/plain": [
       "[('bl-046-000', '\\n'),\n",
       " ('he-733-001', '# 兔子的儿歌\\n\\n'),\n",
       " ('he-922-002', '## 一、兔子的朋友\\n\\n'),\n",
       " ('OU-700-003',\n",
       "  '<OUTLINE>\\n扩写摘要:\\n介绍兔子拥有的好朋友，通过欢快的节奏展现它们之间的友谊。\\n\\n扩写要求：\\n- 字数：约40字\\n- 创意要点：提到至少三种不同的动物朋友，如小鸡、小鸭、小羊\\n- 创作思路：用简单易懂的语言，让小朋友容易理解和记忆\\n- 实体名称：小兔、小鸡、小鸭、小羊\\n</OUTLINE>\\n\\n'),\n",
       " ('bl-862-004', '\\n'),\n",
       " ('he-050-005', '## 二、和朋友们一起玩\\n\\n'),\n",
       " ('OU-188-006',\n",
       "  '<OUTLINE>\\n扩写摘要:\\n描述兔子和它的朋友们一起玩耍的快乐场景，增加儿歌的互动性和趣味性。\\n\\n扩写要求：\\n- 字数：约40字\\n- 创意要点：具体描述一种或几种游戏，如捉迷藏、跳绳\\n- 创作思路：通过生动的场景描写，激发小朋友的想象力\\n- 实体名称：小兔、小鸡、小鸭、小羊、捉迷藏、跳绳\\n</OUTLINE>\\n\\n'),\n",
       " ('bl-886-007', '\\n')]"
      ]
     },
     "execution_count": 6,
     "metadata": {},
     "output_type": "execute_result"
    }
   ],
   "source": [
    "from illufly.core.runnable.agent.writer.markdown import list_markdown\n",
    "list_markdown(from_outline.markdown.documents)"
   ]
  },
  {
   "cell_type": "markdown",
   "id": "c4afdafa-42d9-49c2-a1c2-f1a31433619d",
   "metadata": {},
   "source": [
    "## 使用 FlowAgent 扩写： CoT 长思考"
   ]
  },
  {
   "cell_type": "code",
   "execution_count": 1,
   "id": "a44c0533-9fa0-4f99-95ab-e089fda1d7b7",
   "metadata": {},
   "outputs": [
    {
     "name": "stdout",
     "output_type": "stream",
     "text": [
      "[AGENT] \u001b[34m执行扩写任务 <4205-111-003>：\n",
      "扩写摘要:<br>介绍兔子拥有的好朋友，通过欢快的节奏展现它们之间的友谊。<br><br>扩写要求：<br>- 字数：约200字<br>- 创意要点：提到至少三种不同的动物朋友，如小鸡、小鸭、小羊，为每个动物起一个好名字<br>- 创作...\u001b[0m\n",
      "[AGENT] \u001b[34m>>> Node 1: planner\u001b[0m\n",
      "\u001b[32m**\u001b[0m\u001b[32m思考\u001b[0m\u001b[32m**\u001b[0m\u001b[32m \n",
      "\n",
      "\u001b[0m\u001b[32m1. 任务\u001b[0m\u001b[32m中是否包含关键\u001b[0m\u001b[32m概念: \n",
      "  \u001b[0m\u001b[32m - 动物\u001b[0m\u001b[32m朋友（小鸡\u001b[0m\u001b[32m、小鸭、\u001b[0m\u001b[32m小羊）\n",
      "  \u001b[0m\u001b[32m - 友谊\u001b[0m\u001b[32m\n",
      "   - \u001b[0m\u001b[32m欢快的\u001b[0m\u001b[32m节奏\n",
      "   -\u001b[0m\u001b[32m 简单\u001b[0m\u001b[32m易懂的语言\n",
      "\u001b[0m\u001b[32m2. 将\u001b[0m\u001b[32m任务中的关键概念\u001b[0m\u001b[32m拆解为一系列\u001b[0m\u001b[32m待查询的子\u001b[0m\u001b[32m要素：\n",
      "   -\u001b[0m\u001b[32m 动物朋友\u001b[0m\u001b[32m\n",
      "     - \u001b[0m\u001b[32m小鸡的名字\n",
      "\u001b[0m\u001b[32m     - 小\u001b[0m\u001b[32m鸭的名字\n",
      "    \u001b[0m\u001b[32m - 小羊\u001b[0m\u001b[32m的名字\n",
      "   -\u001b[0m\u001b[32m 友谊\n",
      "\u001b[0m\u001b[32m     - 如何\u001b[0m\u001b[32m表现友谊\n",
      "  \u001b[0m\u001b[32m - 欢\u001b[0m\u001b[32m快的节奏\n",
      "\u001b[0m\u001b[32m     - 如何\u001b[0m\u001b[32m用语言表达欢快\u001b[0m\u001b[32m的节奏\n",
      "  \u001b[0m\u001b[32m - 简\u001b[0m\u001b[32m单易懂的语言\u001b[0m\u001b[32m\n",
      "     - \u001b[0m\u001b[32m适合小朋友的语言特点\u001b[0m\u001b[32m\n",
      "3. \u001b[0m\u001b[32m观察以前的\u001b[0m\u001b[32m执行记录：\n",
      "  \u001b[0m\u001b[32m - 概念\u001b[0m\u001b[32m拆解已经完整\u001b[0m\u001b[32m且准确。\n",
      "  \u001b[0m\u001b[32m - 每\u001b[0m\u001b[32m个关键概念或\u001b[0m\u001b[32m要素的查询都\u001b[0m\u001b[32m得到了准确的结果。\n",
      "\u001b[0m\u001b[32m   - 当前\u001b[0m\u001b[32m的信息中已经包含了\u001b[0m\u001b[32m所有需要的要素\u001b[0m\u001b[32m/概念。\n",
      "\n",
      "**\u001b[0m\u001b[32m行动** \n",
      "\n",
      "根据\u001b[0m\u001b[32m上述拆解和\u001b[0m\u001b[32m分析，我将\u001b[0m\u001b[32m开始创作符合要求\u001b[0m\u001b[32m的文字内容。\n",
      "\n",
      "**\u001b[0m\u001b[32m最终答案**\n",
      "\n",
      "```\u001b[0m\u001b[32mmarkdown\n",
      "小兔\u001b[0m\u001b[32m有朋友，小\u001b[0m\u001b[32m鸡名叫啾啾\u001b[0m\u001b[32m，小鸭名叫\u001b[0m\u001b[32m嘎嘎，小\u001b[0m\u001b[32m羊名叫咩咩\u001b[0m\u001b[32m。啾啾叽\u001b[0m\u001b[32m叽叫，嘎\u001b[0m\u001b[32m嘎嘎嘎笑\u001b[0m\u001b[32m，咩咩咩\u001b[0m\u001b[32m咩闹，大家\u001b[0m\u001b[32m真友好。小\u001b[0m\u001b[32m兔蹦蹦跳\u001b[0m\u001b[32m，啾啾飞\u001b[0m\u001b[32m得高，嘎\u001b[0m\u001b[32m嘎水中游，\u001b[0m\u001b[32m咩咩草地跑\u001b[0m\u001b[32m。他们一起唱歌\u001b[0m\u001b[32m，一起跳舞，\u001b[0m\u001b[32m快乐的时光永不\u001b[0m\u001b[32m老。\n",
      "```\u001b[0m\u001b[32m\u001b[0m\n",
      "[AGENT] \u001b[34m>>> Node 2: observer\u001b[0m\n",
      "[AGENT] \u001b[34m执行扩写任务 <4205-267-006>：\n",
      "扩写摘要:<br>描述兔子和它的朋友们一起玩耍的快乐场景，增加儿歌的互动性和趣味性。<br><br>扩写要求：<br>- 字数：约200字<br>- 创意要点：具体描述一种或几种游戏，如捉迷藏、跳绳<br>- 创作思路：通过生动的场景描...\u001b[0m\n",
      "[AGENT] \u001b[34m>>> Node 1: planner\u001b[0m\n",
      "\u001b[32m**\u001b[0m\u001b[32m思考\u001b[0m\u001b[32m**\u001b[0m\u001b[32m  \n",
      "\u001b[0m\u001b[32m1. 任务\u001b[0m\u001b[32m中是否包含关键\u001b[0m\u001b[32m概念: 描述\u001b[0m\u001b[32m兔子和朋友们一起\u001b[0m\u001b[32m玩耍的快乐场景\u001b[0m\u001b[32m，包括游戏如\u001b[0m\u001b[32m捉迷藏、\u001b[0m\u001b[32m跳绳等。\u001b[0m\u001b[32m  \n",
      "   - \u001b[0m\u001b[32m场景：快乐\u001b[0m\u001b[32m的玩耍场景\n",
      "\u001b[0m\u001b[32m   - 游\u001b[0m\u001b[32m戏：捉迷\u001b[0m\u001b[32m藏、跳绳\u001b[0m\u001b[32m\n",
      "   - \u001b[0m\u001b[32m参与者：\u001b[0m\u001b[32m小兔、小\u001b[0m\u001b[32m鸡、小鸭\u001b[0m\u001b[32m、小羊\n",
      "\n",
      "\u001b[0m\u001b[32m2. 将\u001b[0m\u001b[32m任务中的关键概念\u001b[0m\u001b[32m拆解为一系列\u001b[0m\u001b[32m待查询的子\u001b[0m\u001b[32m要素：\n",
      "   -\u001b[0m\u001b[32m 场景\n",
      "\u001b[0m\u001b[32m     - 快\u001b[0m\u001b[32m乐的氛围\n",
      "\u001b[0m\u001b[32m     - 生动\u001b[0m\u001b[32m的细节\n",
      "  \u001b[0m\u001b[32m - 游戏\u001b[0m\u001b[32m\n",
      "     - \u001b[0m\u001b[32m捉迷藏\u001b[0m\u001b[32m的规则和乐趣\u001b[0m\u001b[32m\n",
      "     - \u001b[0m\u001b[32m跳绳的过程\u001b[0m\u001b[32m和技巧\n",
      "  \u001b[0m\u001b[32m - 参与\u001b[0m\u001b[32m者\n",
      "     -\u001b[0m\u001b[32m 各自的特点\u001b[0m\u001b[32m和表现\n",
      "\n",
      "3\u001b[0m\u001b[32m. 观察\u001b[0m\u001b[32m以前的执行记录\u001b[0m\u001b[32m：概念拆解\u001b[0m\u001b[32m较为完整，但\u001b[0m\u001b[32m需要进一步细化每个\u001b[0m\u001b[32m要素的具体内容，\u001b[0m\u001b[32m以确保能够写出\u001b[0m\u001b[32m符合要求的2\u001b[0m\u001b[32m00字左右\u001b[0m\u001b[32m的段落。\n",
      "\n",
      "\u001b[0m\u001b[32m**行动**  \n",
      "\u001b[0m\u001b[32m根据上述分析，\u001b[0m\u001b[32m我将详细描述\u001b[0m\u001b[32m小兔和朋友们\u001b[0m\u001b[32m一起玩耍的场景\u001b[0m\u001b[32m，包括具体的捉\u001b[0m\u001b[32m迷藏和跳\u001b[0m\u001b[32m绳的游戏过程，\u001b[0m\u001b[32m以及每个角色的表现\u001b[0m\u001b[32m。\n",
      "\n",
      "**最终答案\u001b[0m\u001b[32m**\n",
      "```markdown\n",
      "\u001b[0m\u001b[32m小兔和朋友们\u001b[0m\u001b[32m来到了一片绿油\u001b[0m\u001b[32m油的草地上\u001b[0m\u001b[32m，阳光明媚，\u001b[0m\u001b[32m微风轻拂\u001b[0m\u001b[32m。小兔提议\u001b[0m\u001b[32m：“我们来玩\u001b[0m\u001b[32m捉迷藏吧\u001b[0m\u001b[32m！”小鸡、\u001b[0m\u001b[32m小鸭和小\u001b[0m\u001b[32m羊都高兴地\u001b[0m\u001b[32m点头同意。小\u001b[0m\u001b[32m兔闭上眼睛\u001b[0m\u001b[32m数数，其他\u001b[0m\u001b[32m小伙伴四散开\u001b[0m\u001b[32m去寻找藏身\u001b[0m\u001b[32m之处。小鸡\u001b[0m\u001b[32m躲在了一棵大树\u001b[0m\u001b[32m后面，小鸭\u001b[0m\u001b[32m藏在了草\u001b[0m\u001b[32m丛里，小\u001b[0m\u001b[32m羊则躲在了一\u001b[0m\u001b[32m块大石头后面\u001b[0m\u001b[32m。小兔数\u001b[0m\u001b[32m完后开始寻找\u001b[0m\u001b[32m，它先找到了\u001b[0m\u001b[32m小鸡，然后\u001b[0m\u001b[32m是小鸭，\u001b[0m\u001b[32m最后才发现了小\u001b[0m\u001b[32m羊。大家开心\u001b[0m\u001b[32m地笑着，决定\u001b[0m\u001b[32m再玩一次。\u001b[0m\u001b[32m这次轮到小\u001b[0m\u001b[32m鸭来捉，\u001b[0m\u001b[32m小兔、小\u001b[0m\u001b[32m鸡和小羊\u001b[0m\u001b[32m又开始了新一轮的\u001b[0m\u001b[32m藏匿。玩\u001b[0m\u001b[32m累了，小兔\u001b[0m\u001b[32m提议：“我们来\u001b[0m\u001b[32m跳绳吧！”\u001b[0m\u001b[32m小鸡和小\u001b[0m\u001b[32m鸭轮流跳，\u001b[0m\u001b[32m小羊在一旁为\u001b[0m\u001b[32m他们加油。小\u001b[0m\u001b[32m兔跳得特别\u001b[0m\u001b[32m好，连着\u001b[0m\u001b[32m跳了好几十下\u001b[0m\u001b[32m。小鸡和\u001b[0m\u001b[32m小鸭也越\u001b[0m\u001b[32m跳越好，大家\u001b[0m\u001b[32m玩得不亦\u001b[0m\u001b[32m乐乎。夕阳\u001b[0m\u001b[32m西下，小伙伴们\u001b[0m\u001b[32m依依不舍地\u001b[0m\u001b[32m告别，相约\u001b[0m\u001b[32m明天再来这里玩耍\u001b[0m\u001b[32m。\n",
      "```\u001b[0m\u001b[32m\u001b[0m\n",
      "[AGENT] \u001b[34m>>> Node 2: observer\u001b[0m\n"
     ]
    },
    {
     "data": {
      "text/plain": [
       "'\\n# 兔子的儿歌\\n\\n## 一、兔子的朋友\\n\\n小兔有朋友，小鸡名叫啾啾，小鸭名叫嘎嘎，小羊名叫咩咩。啾啾叽叽叫，嘎嘎嘎嘎笑，咩咩咩咩闹，大家真友好。小兔蹦蹦跳，啾啾飞得高，嘎嘎水中游，咩咩草地跑。他们一起唱歌，一起跳舞，快乐的时光永不老。\\n\\n## 二、和朋友们一起玩\\n\\n小兔和朋友们来到了一片绿油油的草地上，阳光明媚，微风轻拂。小兔提议：“我们来玩捉迷藏吧！”小鸡、小鸭和小羊都高兴地点头同意。小兔闭上眼睛数数，其他小伙伴四散开去寻找藏身之处。小鸡躲在了一棵大树后面，小鸭藏在了草丛里，小羊则躲在了一块大石头后面。小兔数完后开始寻找，它先找到了小鸡，然后是小鸭，最后才发现了小羊。大家开心地笑着，决定再玩一次。这次轮到小鸭来捉，小兔、小鸡和小羊又开始了新一轮的藏匿。玩累了，小兔提议：“我们来跳绳吧！”小鸡和小鸭轮流跳，小羊在一旁为他们加油。小兔跳得特别好，连着跳了好几十下。小鸡和小鸭也越跳越好，大家玩得不亦乐乎。夕阳西下，小伙伴们依依不舍地告别，相约明天再来这里玩耍。\\n\\n'"
      ]
     },
     "execution_count": 1,
     "metadata": {},
     "output_type": "execute_result"
    }
   ],
   "source": [
    "outline = \"\"\"\n",
    "# 兔子的儿歌\n",
    "## 一、兔子的朋友\n",
    "<OUTLINE>\n",
    "扩写摘要:\n",
    "介绍兔子拥有的好朋友，通过欢快的节奏展现它们之间的友谊。\n",
    "\n",
    "扩写要求：\n",
    "- 字数：约200字\n",
    "- 创意要点：提到至少三种不同的动物朋友，如小鸡、小鸭、小羊，为每个动物起一个好名字\n",
    "- 创作思路：用简单易懂的语言，让小朋友容易理解和记忆\n",
    "- 实体名称：小兔、小鸡、小鸭、小羊\n",
    "</OUTLINE>\n",
    "\n",
    "## 二、和朋友们一起玩\n",
    "<OUTLINE>\n",
    "扩写摘要:\n",
    "描述兔子和它的朋友们一起玩耍的快乐场景，增加儿歌的互动性和趣味性。\n",
    "\n",
    "扩写要求：\n",
    "- 字数：约200字\n",
    "- 创意要点：具体描述一种或几种游戏，如捉迷藏、跳绳\n",
    "- 创作思路：通过生动的场景描写，激发小朋友的想象力\n",
    "- 实体名称：小兔、小鸡、小鸭、小羊、捉迷藏、跳绳\n",
    "</OUTLINE>\n",
    "\"\"\"\n",
    "\n",
    "from illufly.chat import ChatQwen\n",
    "from illufly.flow import FromOutline, ReAct, CoT\n",
    "from illufly.types import PromptTemplate\n",
    "\n",
    "from_outline = FromOutline(CoT(ChatQwen(name=\"小作家\")))\n",
    "from_outline(outline, verbose=False)"
   ]
  },
  {
   "cell_type": "code",
   "execution_count": 2,
   "id": "72bda708-3d6e-45a1-aee0-fe58a0144fde",
   "metadata": {
    "scrolled": true
   },
   "outputs": [
    {
     "name": "stdout",
     "output_type": "stream",
     "text": [
      "尽你所能解决问题和完成任务。\n",
      "\n",
      "**你要解决的问题是: ** 你是强大的写作助手。\n",
      "\n",
      "你必须遵循以下约束来完成任务:\n",
      "1. 直接输出你的结果，不要评论，不要啰嗦\n",
      "2. 使用markdown格式输出\n",
      "3. 你必须根据已有提纲扩写，不要修改提纲中对扩写的要求和限定，不要额外发挥\n",
      "\n",
      "**已有文字草稿如下:**\n",
      "```markdown\n",
      "\n",
      "# 兔子的儿歌\n",
      "\n",
      "## 一、兔子的朋友\n",
      "\n",
      "...\n",
      "\n",
      "## 二、和朋友们一起玩\n",
      "\n",
      "<<<YOUR_TEXT>>>\n",
      "\n",
      "\n",
      "\n",
      "```\n",
      "\n",
      "**请你按照如下扩写任务要求生成一段文字，使其适合替换上面文字草稿中`<<<YOUR_TEXT>>>`所在位置:**\n",
      "```markdown\n",
      "扩写摘要:\n",
      "描述兔子和它的朋友们一起玩耍的快乐场景，增加儿歌的互动性和趣味性。\n",
      "\n",
      "扩写要求：\n",
      "- 字数：约200字\n",
      "- 创意要点：具体描述一种或几种游戏，如捉迷藏、跳绳\n",
      "- 创作思路：通过生动的场景描写，激发小朋友的想象力\n",
      "- 实体名称：小兔、小鸡、小鸭、小羊、捉迷藏、跳绳\n",
      "```\n",
      "\n",
      "**例子**\n",
      "\n",
      "当我要求替换如下位置的文字时:\n",
      "```markdown\n",
      "# 兔子的儿歌\n",
      "## 一、兔子的朋友\n",
      "<<<YOUR_TEXT>>>\n",
      "## 二、和朋友们一起玩 ...\n",
      "```\n",
      "\n",
      "正确的做法是对照<<<YOUR_TEXT>>>位置的文字直接输出对应内容:\n",
      "```markdown\n",
      "小兔有朋友，小鸡叽叽叫，小鸭嘎嘎笑，小羊咩咩闹，大家真友好。\n",
      "```\n",
      "\n",
      "错误的做法是，输出与原有文字中上半部份或下班部份重叠的文字，例如：\n",
      "```markdown\n",
      "# 兔子的儿歌\n",
      "## 一、兔子的朋友\n",
      "<<<YOUR_TEXT>>>\n",
      "## 二、和朋友们一起玩\n",
      "```\n",
      "\n",
      "\n",
      "\n",
      "(现在不要急于解决问题，而是继续按照如下步骤一步一步输出你的推理过程。)\n",
      "\n",
      "**思考** \n",
      "对当前情况进行反思, 然后说明你现在的决策：当前就结束任务并输出**最终答案**，还是继续考虑下一步行动的应当如何执行。\n",
      "\n",
      "在你反思的过程中，请基于给定的事实思考，从如下几个方面进行反思：\n",
      " 1. 任务中是否包含关键概念: 任务中涉及的组合型概念或实体。已经明确获得取值的关键概念，将其取值完整备注在概念后。\n",
      " 2. 将任务中的关键概念拆解为一系列待查询的子要素：每个关键概念一行，后接这个概念的子要素，每个子要素一行，行前以' -'开始。\n",
      " 3. 观察以前的执行记录：思考概念拆解是否完整、准确？每个关键概念或要素的查询都得到了准确的结果？从当前的信息中还不能得到哪些要素/概念？\n",
      "\n",
      "**最终答案**\n",
      "(在此输出你的最终答案。)\n",
      "如果输出最终答案，就结束任务，停止所有输出。\n",
      "\n",
      "**行动** \n",
      "请你在缜密思考下直接输出当前步骤问题的详细过程。\n",
      "\n",
      "...你必须按照 **思考-行动-观察** 的循环过程输出，可以重复N次，直到结束。\n",
      "\n"
     ]
    }
   ],
   "source": [
    "print(from_outline.writer.planner.memory[0]['content'])"
   ]
  },
  {
   "cell_type": "markdown",
   "id": "334fad77-a14d-4c88-9b25-bfb2c22dc074",
   "metadata": {},
   "source": [
    "## 使用 Selector 扩写：嵌入数据表"
   ]
  },
  {
   "cell_type": "code",
   "execution_count": 2,
   "id": "25fb35e5-75b2-4fb0-b877-867772d6d3bc",
   "metadata": {},
   "outputs": [
    {
     "name": "stdout",
     "output_type": "stream",
     "text": [
      "[AGENT] \u001b[34m执行扩写任务 <4585-049-003>：\n",
      "扩写摘要:<br>介绍兔子拥有的好朋友，通过欢快的节奏展现它们之间的友谊。<br><br>扩写要求：<br>- 字数：约200字<br>- 创作思路：用简单易懂的语言，让小朋友容易理解和记忆\u001b[0m\n",
      "{'last_output': '\\n# 兔子的儿歌\\n## 一、兔子的朋友\\n<OUTLINE>\\n扩写摘要:\\n介绍兔子拥有的好朋友，通过欢快的节奏展现它们之间的友谊。\\n\\n扩写要求：\\n- 字数：约200字\\n- 创作思路：用简单易懂的语言，让小朋友容易理解和记忆\\n</OUTLINE>\\n\\n## 二、和朋友们一起玩\\n<OUTLINE>\\n<!--@datalist-->\\n考试成绩排行榜\\n</OUTLINE>\\n', 'task': '扩写摘要:\\n介绍兔子拥有的好朋友，通过欢快的节奏展现它们之间的友谊。\\n\\n扩写要求：\\n- 字数：约200字\\n- 创作思路：用简单易懂的语言，让小朋友容易理解和记忆', 'outline': '```markdown\\n扩写摘要:\\n介绍兔子拥有的好朋友，通过欢快的节奏展现它们之间的友谊。\\n\\n扩写要求：\\n- 字数：约200字\\n- 创作思路：用简单易懂的语言，让小朋友容易理解和记忆\\n```', 'draft': '```markdown\\n\\n# 兔子的儿歌\\n\\n## 一、兔子的朋友\\n\\n<<<YOUR_TEXT>>>\\n\\n\\n## 二、和朋友们一起玩\\n\\n...\\n\\n\\n```'}\n",
      "[USER] \u001b[34m请开始扩写\u001b[0m\n",
      "[INFO] \u001b[34m记住 10 轮对话\u001b[0m\n",
      "\u001b[32m```\u001b[0m\u001b[32mmarkdown\u001b[0m\u001b[32m\n",
      "\u001b[0m\u001b[32m小\u001b[0m\u001b[32m兔有朋友，\u001b[0m\u001b[32m小鸡叽叽\u001b[0m\u001b[32m叫，小鸭\u001b[0m\u001b[32m嘎嘎笑，\u001b[0m\u001b[32m小羊咩咩\u001b[0m\u001b[32m闹，大家真\u001b[0m\u001b[32m友好。\n",
      "小兔\u001b[0m\u001b[32m蹦蹦跳，\u001b[0m\u001b[32m小猫喵喵\u001b[0m\u001b[32m跑，小狗汪\u001b[0m\u001b[32m汪叫，小\u001b[0m\u001b[32m猪哼哼笑\u001b[0m\u001b[32m，一起乐逍遥\u001b[0m\u001b[32m。\n",
      "小兔爱\u001b[0m\u001b[32m胡萝卜，小鸡\u001b[0m\u001b[32m爱捉虫，\u001b[0m\u001b[32m小鸭爱戏\u001b[0m\u001b[32m水，小羊\u001b[0m\u001b[32m爱青草，\u001b[0m\u001b[32m各有所好。\n",
      "\u001b[0m\u001b[32m小兔心地\u001b[0m\u001b[32m善良，小鸡\u001b[0m\u001b[32m聪明伶俐，\u001b[0m\u001b[32m小鸭活泼可爱\u001b[0m\u001b[32m，小羊温柔\u001b[0m\u001b[32m体贴，友谊长\u001b[0m\u001b[32m存心间。\n",
      "\u001b[0m\u001b[32m```\u001b[0m\u001b[32m\u001b[0m\n",
      "[USAGE] \u001b[34m{\"input_tokens\": 360, \"output_tokens\": 113, \"total_tokens\": 473}\u001b[0m\n",
      "[AGENT] \u001b[34m执行扩写任务 <4585-708-006>：\n",
      "<!--@datalist--><br>考试成绩排行榜\u001b[0m\n",
      "{'last_output': '\\n# 兔子的儿歌\\n\\n## 一、兔子的朋友\\n\\n小兔有朋友，小鸡叽叽叫，小鸭嘎嘎笑，小羊咩咩闹，大家真友好。\\n小兔蹦蹦跳，小猫喵喵跑，小狗汪汪叫，小猪哼哼笑，一起乐逍遥。\\n小兔爱胡萝卜，小鸡爱捉虫，小鸭爱戏水，小羊爱青草，各有所好。\\n小兔心地善良，小鸡聪明伶俐，小鸭活泼可爱，小羊温柔体贴，友谊长存心间。\\n\\n## 二、和朋友们一起玩\\n\\n<OUTLINE>\\n<!--@datalist-->\\n考试成绩排行榜\\n</OUTLINE>\\n\\n\\n', 'task': '<!--@datalist-->\\n考试成绩排行榜', 'outline': '```markdown\\n<!--@datalist-->\\n考试成绩排行榜\\n```', 'draft': '```markdown\\n\\n# 兔子的儿歌\\n\\n## 一、兔子的朋友\\n\\n...\\n\\n## 二、和朋友们一起玩\\n\\n<<<YOUR_TEXT>>>\\n\\n\\n\\n```'}\n",
      "[USER] \u001b[34m<!--@datalist-->\n",
      "考试成绩排行榜\u001b[0m\n",
      "[INFO] \u001b[34m记住 10 轮对话\u001b[0m\n",
      "\u001b[32m```\u001b[0m\u001b[32mpython\u001b[0m\u001b[32m\n",
      "\u001b[0m\u001b[32mdef\u001b[0m\u001b[32m main():\n",
      "    #\u001b[0m\u001b[32m 获取考试成绩数据\u001b[0m\u001b[32m集\n",
      "    exam\u001b[0m\u001b[32m_scores = datasets['\u001b[0m\u001b[32m考试成绩'].df\u001b[0m\u001b[32m\n",
      "    \n",
      "    # \u001b[0m\u001b[32m计算总分\u001b[0m\u001b[32m\n",
      "    exam_scores\u001b[0m\u001b[32m['总分']\u001b[0m\u001b[32m = exam_scores['\u001b[0m\u001b[32m语文'] + exam\u001b[0m\u001b[32m_scores['数学']\n",
      "\u001b[0m\u001b[32m    \n",
      "    # \u001b[0m\u001b[32m按照总\u001b[0m\u001b[32m分排序，如果\u001b[0m\u001b[32m总分相同则\u001b[0m\u001b[32m按姓名排序\n",
      "\u001b[0m\u001b[32m    ranked_scores =\u001b[0m\u001b[32m exam_scores.sort_values\u001b[0m\u001b[32m(by=['总分\u001b[0m\u001b[32m', '姓名'],\u001b[0m\u001b[32m ascending=[False,\u001b[0m\u001b[32m True])\n",
      "    \n",
      "   \u001b[0m\u001b[32m # 重置\u001b[0m\u001b[32m索引\n",
      "   \u001b[0m\u001b[32m ranked_scores.reset_index\u001b[0m\u001b[32m(drop=True, inplace\u001b[0m\u001b[32m=True)\n",
      "    \n",
      "   \u001b[0m\u001b[32m # 添加排名列\u001b[0m\u001b[32m\n",
      "    ranked_scores\u001b[0m\u001b[32m.insert(0,\u001b[0m\u001b[32m '排名', range\u001b[0m\u001b[32m(1, len\u001b[0m\u001b[32m(ranked_scores)\u001b[0m\u001b[32m + 1))\n",
      "\u001b[0m\u001b[32m    \n",
      "    # \u001b[0m\u001b[32m将新数据集\u001b[0m\u001b[32m添加到数据集中\u001b[0m\u001b[32m\n",
      "    add_dataset\u001b[0m\u001b[32m(ranked_scores,\u001b[0m\u001b[32m \"考试成绩排行榜\u001b[0m\u001b[32m\", \"按照总\u001b[0m\u001b[32m分排序后的考试\u001b[0m\u001b[32m成绩排行榜\")\n",
      "    \n",
      "\u001b[0m\u001b[32m    return ranked_scores\u001b[0m\u001b[32m\n",
      "```\u001b[0m\u001b[32m\u001b[0m\n",
      "[USAGE] \u001b[34m{\"input_tokens\": 822, \"output_tokens\": 186, \"total_tokens\": 1008}\u001b[0m\n",
      "\u001b[33m|    |   排名 | 姓名   |   语文 |   数学 |   总分 |\n",
      "|---:|-------:|:-------|-------:|-------:|-------:|\n",
      "|  0 |      1 | 薛一凡 |     90 |    135 |    225 |\n",
      "|  1 |      2 | 赖国良 |    105 |    120 |    225 |\n",
      "|  2 |      3 | 吴红兵 |    110 |     90 |    200 |\n",
      "|  3 |      4 | 肖一笑 |     80 |    110 |    190 |\u001b[0m\n",
      "# 兔子的儿歌\n",
      "\n",
      "## 一、兔子的朋友\n",
      "\n",
      "小兔有朋友，小鸡叽叽叫，小鸭嘎嘎笑，小羊咩咩闹，大家真友好。\n",
      "小兔蹦蹦跳，小猫喵喵跑，小狗汪汪叫，小猪哼哼笑，一起乐逍遥。\n",
      "小兔爱胡萝卜，小鸡爱捉虫，小鸭爱戏水，小羊爱青草，各有所好。\n",
      "小兔心地善良，小鸡聪明伶俐，小鸭活泼可爱，小羊温柔体贴，友谊长存心间。\n",
      "\n",
      "## 二、和朋友们一起玩\n",
      "\n",
      "|    |   排名 | 姓名   |   语文 |   数学 |   总分 |\n",
      "|---:|-------:|:-------|-------:|-------:|-------:|\n",
      "|  0 |      1 | 薛一凡 |     90 |    135 |    225 |\n",
      "|  1 |      2 | 赖国良 |    105 |    120 |    225 |\n",
      "|  2 |      3 | 吴红兵 |    110 |     90 |    200 |\n",
      "|  3 |      4 | 肖一笑 |     80 |    110 |    190 |\n",
      "\n",
      "\n"
     ]
    }
   ],
   "source": [
    "outline = \"\"\"\n",
    "# 兔子的儿歌\n",
    "## 一、兔子的朋友\n",
    "<OUTLINE>\n",
    "扩写摘要:\n",
    "介绍兔子拥有的好朋友，通过欢快的节奏展现它们之间的友谊。\n",
    "\n",
    "扩写要求：\n",
    "- 字数：约200字\n",
    "- 创作思路：用简单易懂的语言，让小朋友容易理解和记忆\n",
    "</OUTLINE>\n",
    "\n",
    "## 二、和朋友们一起玩\n",
    "<OUTLINE>\n",
    "<!--@datalist-->\n",
    "考试成绩排行榜\n",
    "</OUTLINE>\n",
    "\"\"\"\n",
    "\n",
    "import pandas as pd\n",
    "from illufly.chat import ChatQwen\n",
    "from illufly.flow import FromOutline, Selector\n",
    "from illufly.toolkits import PandasAgent\n",
    "from illufly.types import PromptTemplate, Dataset\n",
    "\n",
    "# 一般段落扩写\n",
    "w = ChatQwen(name=\"小作家\")\n",
    "\n",
    "# 直接根据需求生成数据表\n",
    "da = PandasAgent(ChatQwen(), [\n",
    "    Dataset(name=\"考试成绩\", df=pd.DataFrame({\n",
    "        \"姓名\": [\"薛一凡\", \"肖一笑\", \"赖国良\", \"吴红兵\"],\n",
    "        \"语文\": [90, 80, 105, 110],\n",
    "        \"数学\": [135, 110, 120, 90]\n",
    "    }))\n",
    "])\n",
    "\n",
    "def my_cond(vars, runs):\n",
    "    print(vars)\n",
    "    return da if \"@datalist\" in vars[\"outline\"] else w\n",
    "\n",
    "from_outline = FromOutline(Selector(condition=my_cond, runnables=[da, w]))\n",
    "from_outline(outline, verbose=True)\n",
    "\n",
    "print(from_outline.last_output)"
   ]
  },
  {
   "cell_type": "code",
   "execution_count": 5,
   "id": "8a5fde30-0248-43aa-84d6-dbefa4c26831",
   "metadata": {},
   "outputs": [
    {
     "data": {
      "text/plain": [
       "[{'role': 'system',\n",
       "  'content': 'system\\n你是强大的写作助手。\\n\\n你必须遵循以下约束来完成任务:\\n1. 直接输出你的结果，不要评论，不要啰嗦\\n2. 使用markdown格式输出\\n3. 你必须根据已有提纲扩写，不要修改提纲中对扩写的要求和限定，不要额外发挥\\n\\n**已有文字草稿如下:**\\n```markdown\\n\\n# 兔子的儿歌\\n\\n## 一、兔子的朋友\\n\\n<<<YOUR_TEXT>>>\\n\\n\\n## 二、和朋友们一起玩\\n\\n...\\n\\n\\n```\\n\\n**请你按照如下扩写任务要求生成一段文字，使其适合替换上面文字草稿中`<<<YOUR_TEXT>>>`所在位置:**\\n```markdown\\n扩写摘要:\\n介绍兔子拥有的好朋友，通过欢快的节奏展现它们之间的友谊。\\n\\n扩写要求：\\n- 字数：约200字\\n- 创作思路：用简单易懂的语言，让小朋友容易理解和记忆\\n```\\n\\n**例子**\\n\\n当我要求替换如下位置的文字时:\\n```markdown\\n# 兔子的儿歌\\n## 一、兔子的朋友\\n<<<YOUR_TEXT>>>\\n## 二、和朋友们一起玩 ...\\n```\\n\\n正确的做法是对照<<<YOUR_TEXT>>>位置的文字直接输出对应内容:\\n```markdown\\n小兔有朋友，小鸡叽叽叫，小鸭嘎嘎笑，小羊咩咩闹，大家真友好。\\n```\\n\\n错误的做法是，输出与原有文字中上半部份或下班部份重叠的文字，例如：\\n```markdown\\n# 兔子的儿歌\\n## 一、兔子的朋友\\n<<<YOUR_TEXT>>>\\n## 二、和朋友们一起玩\\n```\\n'},\n",
       " {'role': 'user', 'content': '请开始扩写'},\n",
       " {'role': 'assistant',\n",
       "  'content': '小兔有朋友，小鸡叽叽叫，小鸭嘎嘎笑，小羊咩咩闹，大家真友好。\\n小兔蹦蹦跳，小猫喵喵跑，小狗汪汪叫，小猪哼哼笑，一起乐逍遥。\\n小兔爱胡萝卜，小鸡爱捉虫，小鸭爱戏水，小羊爱青草，各有所好。\\n小兔心地善良，小鸡聪明伶俐，小鸭活泼可爱，小羊温柔体贴，友谊长存心间。'}]"
      ]
     },
     "execution_count": 5,
     "metadata": {},
     "output_type": "execute_result"
    }
   ],
   "source": [
    "w.memory"
   ]
  },
  {
   "cell_type": "markdown",
   "id": "84955351-4524-41e3-acf2-a3e916582304",
   "metadata": {},
   "source": [
    "## 使用其他自定义工具扩写"
   ]
  },
  {
   "cell_type": "code",
   "execution_count": 1,
   "id": "58319793-8777-4739-8dea-4aab09f4c51e",
   "metadata": {},
   "outputs": [
    {
     "name": "stdout",
     "output_type": "stream",
     "text": [
      "[AGENT] \u001b[34m执行扩写任务 <4903-456-003>：\n",
      "扩写摘要:<br>介绍兔子拥有的好朋友，通过欢快的节奏展现它们之间的友谊。<br><br>扩写要求：<br>- 字数：约200字<br>- 创作思路：用简单易懂的语言，让小朋友容易理解和记忆\u001b[0m\n",
      "\u001b[33m<<<<我是一个占位符>>>>\n",
      "\u001b[0m[AGENT] \u001b[34m执行扩写任务 <4903-584-006>：\n",
      "<!--@datalist--><br>考试成绩排行榜\u001b[0m\n",
      "\u001b[33m<<<<我是一个占位符>>>>\n",
      "\u001b[0m\n",
      "# 兔子的儿歌\n",
      "\n",
      "## 一、兔子的朋友\n",
      "\n",
      "<<<<我是一个占位符>>>>\n",
      "\n",
      "\n",
      "## 二、和朋友们一起玩\n",
      "\n",
      "<<<<我是一个占位符>>>>\n",
      "\n",
      "\n",
      "\n"
     ]
    }
   ],
   "source": [
    "outline = \"\"\"\n",
    "# 兔子的儿歌\n",
    "## 一、兔子的朋友\n",
    "<OUTLINE>\n",
    "扩写摘要:\n",
    "介绍兔子拥有的好朋友，通过欢快的节奏展现它们之间的友谊。\n",
    "\n",
    "扩写要求：\n",
    "- 字数：约200字\n",
    "- 创作思路：用简单易懂的语言，让小朋友容易理解和记忆\n",
    "</OUTLINE>\n",
    "\n",
    "## 二、和朋友们一起玩\n",
    "<OUTLINE>\n",
    "<!--@datalist-->\n",
    "考试成绩排行榜\n",
    "</OUTLINE>\n",
    "\"\"\"\n",
    "\n",
    "from illufly.flow import FromOutline\n",
    "from illufly.types import BaseAgent\n",
    "\n",
    "from_outline = FromOutline(BaseAgent(lambda x: \"<<<<我是一个占位符>>>>\\n\"))\n",
    "from_outline(outline, verbose=True)\n",
    "\n",
    "print(from_outline.last_output)"
   ]
  },
  {
   "cell_type": "code",
   "execution_count": null,
   "id": "baef92e2-e390-4c35-9493-68d6052a8844",
   "metadata": {},
   "outputs": [],
   "source": []
  }
 ],
 "metadata": {
  "kernelspec": {
   "display_name": "same_to_illufly",
   "language": "python",
   "name": "same_to_illufly"
  },
  "language_info": {
   "codemirror_mode": {
    "name": "ipython",
    "version": 3
   },
   "file_extension": ".py",
   "mimetype": "text/x-python",
   "name": "python",
   "nbconvert_exporter": "python",
   "pygments_lexer": "ipython3",
   "version": "3.10.0"
  }
 },
 "nbformat": 4,
 "nbformat_minor": 5
}
