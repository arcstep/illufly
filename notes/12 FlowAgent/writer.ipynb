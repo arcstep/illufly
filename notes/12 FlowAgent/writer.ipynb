{
 "cells": [
  {
   "cell_type": "markdown",
   "id": "03b0eeaa-3935-4db0-9456-0496a2997da8",
   "metadata": {},
   "source": [
    "## 写作提示语模板"
   ]
  },
  {
   "cell_type": "code",
   "execution_count": 1,
   "id": "2129c241-f37d-4e69-9af4-9db90f0b54fb",
   "metadata": {},
   "outputs": [],
   "source": [
    "from illufly.hub import load_prompt_template, load_resource_template"
   ]
  },
  {
   "cell_type": "markdown",
   "id": "49b4bbf5-2c71-41dc-854b-8acb7e0f5f3a",
   "metadata": {},
   "source": [
    "### 加载对话模板的资源\n",
    "\n",
    "指定资源库中的模板ID即可加载模板。"
   ]
  },
  {
   "cell_type": "code",
   "execution_count": 2,
   "id": "2146cdb2-c2c8-4409-a808-d47989e00959",
   "metadata": {},
   "outputs": [
    {
     "data": {
      "text/plain": [
       "'你是强大的写作助手。\\n\\n你必须遵循以下约束来完成任务:\\n1. 直接输出你的结果，不要评论，不要啰嗦\\n2. 使用markdown格式输出\\n\\n**你的任务是:**\\n{{task}}\\n'"
      ]
     },
     "execution_count": 2,
     "metadata": {},
     "output_type": "execute_result"
    }
   ],
   "source": [
    "load_prompt_template(\"IDEA\")"
   ]
  },
  {
   "cell_type": "code",
   "execution_count": 3,
   "id": "1336f88f-be74-4cb0-9bcf-00d1445e57c2",
   "metadata": {},
   "outputs": [
    {
     "data": {
      "text/plain": [
       "'你是强大的写作助手。\\n\\n你必须遵循以下约束来完成任务:\\n1. 直接输出你的结果，不要评论，不要啰嗦\\n2. 使用markdown格式输出\\n3. 请按照需要输出一份写作提纲\\n4. 提纲的构成应当由多个阔系额要求构成\\n5. 扩写要求必须包含清晰描述，如预估字数、创意要点、创作思路、创作中涉及到的实体名称等\\n5. 每一个扩写要求由完整的 `<OUTLINE>`和`</OUTLINE>` 包裹\\n6. 你只能输出提纲，不要输出具体的扩写内容\\n\\n**你的任务是:**\\n{{task}}\\n\\n\\n**输出例子1**\\n```\\n# 第一章 标题1\\n## 一、XXXX\\n<OUTLINE>\\n扩写摘要:\\n对扩写内容做摘要总结\\n\\n扩写要求：\\n- xxx\\n- xxx\\n</OUTLINE>\\n\\n## 二、XXXX\\n<OUTLINE>\\n</OUTLINE>\\n\\n## （更多扩写提纲）\\n```\\n\\n'"
      ]
     },
     "execution_count": 3,
     "metadata": {},
     "output_type": "execute_result"
    }
   ],
   "source": [
    "load_prompt_template(\"OUTLINE\")"
   ]
  },
  {
   "cell_type": "markdown",
   "id": "e39c0064-4fd2-43ad-9b08-be05d9b0493d",
   "metadata": {},
   "source": [
    "### 单轮写作"
   ]
  },
  {
   "cell_type": "code",
   "execution_count": 1,
   "id": "36a03ed6-3643-4e96-8815-8634c88176a0",
   "metadata": {},
   "outputs": [
    {
     "name": "stdout",
     "output_type": "stream",
     "text": [
      "\u001b[32m小\u001b[0m\u001b[32m兔\u001b[0m\u001b[32m白\u001b[0m\u001b[32m又\u001b[0m\u001b[32m白，  \n",
      "蹦\u001b[0m\u001b[32m蹦又跳跳\u001b[0m\u001b[32m。  \n",
      "爱吃红\u001b[0m\u001b[32m萝卜，  \n",
      "林\u001b[0m\u001b[32m中躲猫猫\u001b[0m\u001b[32m。\u001b[0m\u001b[32m\u001b[0m\n"
     ]
    },
    {
     "data": {
      "text/plain": [
       "'小兔白又白，  \\n蹦蹦又跳跳。  \\n爱吃红萝卜，  \\n林中躲猫猫。'"
      ]
     },
     "execution_count": 1,
     "metadata": {},
     "output_type": "execute_result"
    }
   ],
   "source": [
    "from illufly.chat import ChatQwen\n",
    "from illufly.types import PromptTemplate\n",
    "\n",
    "a = ChatQwen(memory=PromptTemplate(\"IDEA\"))\n",
    "a(\"帮我写一首关于兔子的四句儿歌\")"
   ]
  },
  {
   "cell_type": "markdown",
   "id": "c86b524c-e504-42b8-a84c-e31e5e8c5a66",
   "metadata": {},
   "source": [
    "### 提纲 + 扩写"
   ]
  },
  {
   "cell_type": "code",
   "execution_count": 2,
   "id": "9b0503f8-04d2-489c-8c7e-876a43110f2b",
   "metadata": {},
   "outputs": [
    {
     "name": "stdout",
     "output_type": "stream",
     "text": [
      "\u001b[32m#\u001b[0m\u001b[32m \u001b[0m\u001b[32m兔\u001b[0m\u001b[32m子\u001b[0m\u001b[32m的儿歌\n",
      "\u001b[0m\u001b[32m## 一、\u001b[0m\u001b[32m兔子的朋友\n",
      "\u001b[0m\u001b[32m<OUTLINE>\n",
      "扩\u001b[0m\u001b[32m写摘要:\n",
      "介绍\u001b[0m\u001b[32m兔子拥有的几位\u001b[0m\u001b[32m好朋友，通过简\u001b[0m\u001b[32m短而富有节奏\u001b[0m\u001b[32m感的语言，让\u001b[0m\u001b[32m孩子们记住这些动物\u001b[0m\u001b[32m朋友的名字和特点\u001b[0m\u001b[32m。\n",
      "\n",
      "扩写要求\u001b[0m\u001b[32m：\n",
      "- 字数\u001b[0m\u001b[32m：约40\u001b[0m\u001b[32m字\n",
      "- \u001b[0m\u001b[32m创意要点：\u001b[0m\u001b[32m使用拟人化的\u001b[0m\u001b[32m手法，使每\u001b[0m\u001b[32m种动物都有独特的\u001b[0m\u001b[32m个性。\n",
      "- \u001b[0m\u001b[32m创作思路：\u001b[0m\u001b[32m以兔子为中心，\u001b[0m\u001b[32m列举出它的几个\u001b[0m\u001b[32m好朋友，比如小\u001b[0m\u001b[32m猫、小狗、\u001b[0m\u001b[32m小鸭等，\u001b[0m\u001b[32m用简单的句子描述\u001b[0m\u001b[32m它们的特点。\n",
      "-\u001b[0m\u001b[32m 实体名称：\u001b[0m\u001b[32m小兔、小\u001b[0m\u001b[32m猫、小狗、\u001b[0m\u001b[32m小鸭\n",
      "</\u001b[0m\u001b[32mOUTLINE>\n",
      "\n",
      "##\u001b[0m\u001b[32m 二、和\u001b[0m\u001b[32m朋友们一起玩\n",
      "\u001b[0m\u001b[32m<OUTLINE>\n",
      "\u001b[0m\u001b[32m扩写摘要:\n",
      "\u001b[0m\u001b[32m描述兔子与它\u001b[0m\u001b[32m的好朋友们一起玩耍\u001b[0m\u001b[32m的场景，通过\u001b[0m\u001b[32m生动的描绘激发\u001b[0m\u001b[32m孩子们的想象力。\n",
      "\n",
      "\u001b[0m\u001b[32m扩写要求：\n",
      "\u001b[0m\u001b[32m- 字数：\u001b[0m\u001b[32m约40字\u001b[0m\u001b[32m\n",
      "- 创\u001b[0m\u001b[32m意要点：设置\u001b[0m\u001b[32m几个有趣的活动，\u001b[0m\u001b[32m如捉迷藏\u001b[0m\u001b[32m、跳绳等\u001b[0m\u001b[32m，增加互动性和\u001b[0m\u001b[32m趣味性。\n",
      "-\u001b[0m\u001b[32m 创作思路\u001b[0m\u001b[32m：继续以兔子\u001b[0m\u001b[32m为主角，讲述\u001b[0m\u001b[32m它和朋友们一起\u001b[0m\u001b[32m玩游戏的故事，强调\u001b[0m\u001b[32m友谊和快乐。\n",
      "\u001b[0m\u001b[32m- 实体名称\u001b[0m\u001b[32m：小兔、\u001b[0m\u001b[32m小猫、小狗\u001b[0m\u001b[32m、小鸭\n",
      "\u001b[0m\u001b[32m</OUTLINE>\u001b[0m\u001b[32m\u001b[0m\n",
      "[AGENT] \u001b[34m执行扩写任务 <3987-334-002>：\n",
      "扩写摘要:\n",
      "介绍兔子拥有的几位好朋友，通过简短而富有节奏感的语言，让孩子们记住这些动物朋友的名字和特点。\n",
      "\n",
      "扩写要求：\n",
      "- 字数：约40字\n",
      "- 创意要点：使用拟人化的手法，使每种动物都有独特的个性。\n",
      "- 创作思路：以兔子为中心，列举出它的几个好朋友，比如小猫、小狗、小鸭等，用简单的句子描述它们的特点。\n",
      "- 实体名称：小兔、小猫、小狗、小鸭\u001b[0m\n",
      "\u001b[32m```\u001b[0m\u001b[32mmarkdown\u001b[0m\u001b[32m\n",
      "\u001b[0m\u001b[32m#\u001b[0m\u001b[32m 兔子的\u001b[0m\u001b[32m儿歌\n",
      "\n",
      "##\u001b[0m\u001b[32m 一、兔子\u001b[0m\u001b[32m的朋友\n",
      "\n",
      "小兔\u001b[0m\u001b[32m有朋友，小\u001b[0m\u001b[32m猫爱捉迷\u001b[0m\u001b[32m藏，小狗常\u001b[0m\u001b[32m摇尾巴，小\u001b[0m\u001b[32m鸭总爱嘎\u001b[0m\u001b[32m嘎叫。\n",
      "\n",
      "##\u001b[0m\u001b[32m 二、和\u001b[0m\u001b[32m朋友们一起玩\n",
      "\n",
      "\u001b[0m\u001b[32m...\n",
      "```\u001b[0m\u001b[32m\u001b[0m\n",
      "[AGENT] \u001b[34m执行扩写任务 <3987-671-005>：\n",
      "扩写摘要:\n",
      "描述兔子与它的好朋友们一起玩耍的场景，通过生动的描绘激发孩子们的想象力。\n",
      "\n",
      "扩写要求：\n",
      "- 字数：约40字\n",
      "- 创意要点：设置几个有趣的活动，如捉迷藏、跳绳等，增加互动性和趣味性。\n",
      "- 创作思路：继续以兔子为主角，讲述它和朋友们一起玩游戏的故事，强调友谊和快乐。\n",
      "- 实体名称：小兔、小猫、小狗、小鸭\u001b[0m\n",
      "\u001b[32m```markdown\u001b[0m\u001b[32m\n",
      "\u001b[0m\u001b[32m##\u001b[0m\u001b[32m 二、和\u001b[0m\u001b[32m朋友们一起玩\n",
      "\n",
      "\u001b[0m\u001b[32m小兔和小\u001b[0m\u001b[32m猫、小狗、\u001b[0m\u001b[32m小鸭一起玩\u001b[0m\u001b[32m捉迷藏和\u001b[0m\u001b[32m跳绳，大家\u001b[0m\u001b[32m笑得非常开心\u001b[0m\u001b[32m，友谊和快乐\u001b[0m\u001b[32m充满了整个草地。\n",
      "\u001b[0m\u001b[32m```\u001b[0m\u001b[32m\u001b[0m\n"
     ]
    },
    {
     "data": {
      "text/plain": [
       "'# 兔子的儿歌\\n\\n## 一、兔子的朋友\\n\\n\\n## 二、和朋友们一起玩\\n\\n\\n小兔和小猫、小狗、小鸭一起玩捉迷藏和跳绳，大家笑得非常开心，友谊和快乐充满了整个草地。\\n\\n'"
      ]
     },
     "execution_count": 2,
     "metadata": {},
     "output_type": "execute_result"
    }
   ],
   "source": [
    "from illufly.chat import ChatQwen, FromOutline\n",
    "from illufly.types import PromptTemplate\n",
    "\n",
    "a = ChatQwen(memory=PromptTemplate(\"OUTLINE\"))\n",
    "a(\"帮我写一首关于兔子的儿歌，两段即可，第一段些兔子有哪些朋友，第二段些和朋友们一起玩（要求提到具体的朋友）\")\n",
    "fo = FromOutline(ChatQwen())\n",
    "fo(a.last_output)"
   ]
  },
  {
   "cell_type": "code",
   "execution_count": 1,
   "id": "a4d71a4c-7d16-4a21-b279-630ac780b6c0",
   "metadata": {},
   "outputs": [
    {
     "name": "stdout",
     "output_type": "stream",
     "text": [
      "******************** <OUTLINE>\n",
      "扩写摘要:\n",
      "介绍兔子拥有的好朋友，通过欢快的节奏展现它们之间的友谊。\n",
      "\n",
      "扩写要求：\n",
      "- 字数：约40字\n",
      "- 创意要点：提到至少三种不同的动物朋友，如小鸡、小鸭、小羊\n",
      "- 创作思路：用简单易懂的语言，让小朋友容易理解和记忆\n",
      "- 实体名称：小兔、小鸡、小鸭、小羊\n",
      "</OUTLINE>\n",
      "\n",
      "\n",
      "[AGENT] \u001b[34m执行扩写任务 <3570-014-003>：\n",
      "扩写摘要:\n",
      "介绍兔子拥有的好朋友，通过欢快的节奏展现它们之间的友谊。\n",
      "\n",
      "扩写要求：\n",
      "- 字数：约40字\n",
      "- 创意要点：提到至少三种不同的动物朋友，如小鸡、小鸭、小羊\n",
      "- 创作思路：用简单易懂的语言，让小朋友容易理解和记忆\n",
      "- 实体名称：小兔、小鸡、小鸭、小羊\u001b[0m\n",
      "\u001b[32m```\u001b[0m\u001b[32mmarkdown\u001b[0m\u001b[32m\n",
      "\u001b[0m\u001b[32m#\u001b[0m\u001b[32m 兔子的\u001b[0m\u001b[32m儿歌\n",
      "\n",
      "##\u001b[0m\u001b[32m 一、兔子\u001b[0m\u001b[32m的朋友\n",
      "\n",
      "小兔\u001b[0m\u001b[32m有朋友，小\u001b[0m\u001b[32m鸡小鸭小\u001b[0m\u001b[32m羊，一起唱歌\u001b[0m\u001b[32m跳舞，快乐无\u001b[0m\u001b[32m边。\n",
      "\n",
      "## \u001b[0m\u001b[32m二、和朋友们\u001b[0m\u001b[32m一起玩\n",
      "\n",
      "...\n",
      "\u001b[0m\u001b[32m```\u001b[0m\u001b[32m\u001b[0m\n",
      "******************** <OUTLINE>\n",
      "扩写摘要:\n",
      "描述兔子和它的朋友们一起玩耍的快乐场景，增加儿歌的互动性和趣味性。\n",
      "\n",
      "扩写要求：\n",
      "- 字数：约40字\n",
      "- 创意要点：具体描述一种或几种游戏，如捉迷藏、跳绳\n",
      "- 创作思路：通过生动的场景描写，激发小朋友的想象力\n",
      "- 实体名称：小兔、小鸡、小鸭、小羊、捉迷藏、跳绳\n",
      "</OUTLINE>\n",
      "\n",
      "\n",
      "[AGENT] \u001b[34m执行扩写任务 <3570-195-006>：\n",
      "扩写摘要:\n",
      "描述兔子和它的朋友们一起玩耍的快乐场景，增加儿歌的互动性和趣味性。\n",
      "\n",
      "扩写要求：\n",
      "- 字数：约40字\n",
      "- 创意要点：具体描述一种或几种游戏，如捉迷藏、跳绳\n",
      "- 创作思路：通过生动的场景描写，激发小朋友的想象力\n",
      "- 实体名称：小兔、小鸡、小鸭、小羊、捉迷藏、跳绳\u001b[0m\n",
      "\u001b[32m```\u001b[0m\u001b[32mmarkdown\u001b[0m\u001b[32m\n",
      "\u001b[0m\u001b[32m##\u001b[0m\u001b[32m 二、和\u001b[0m\u001b[32m朋友们一起玩\n",
      "\n",
      "\u001b[0m\u001b[32m小兔和小\u001b[0m\u001b[32m鸡、小鸭\u001b[0m\u001b[32m、小羊一起\u001b[0m\u001b[32m玩捉迷藏\u001b[0m\u001b[32m和跳绳，\u001b[0m\u001b[32m笑声和欢呼声\u001b[0m\u001b[32m此起彼伏\u001b[0m\u001b[32m，好不热闹\u001b[0m\u001b[32m。\n",
      "```\u001b[0m\u001b[32m\u001b[0m\n"
     ]
    },
    {
     "data": {
      "text/plain": [
       "'\\n# 兔子的儿歌\\n\\n## 一、兔子的朋友\\n\\n\\n## 二、和朋友们一起玩\\n\\n\\n小兔和小鸡、小鸭、小羊一起玩捉迷藏和跳绳，笑声和欢呼声此起彼伏，好不热闹。\\n\\n\\n'"
      ]
     },
     "execution_count": 1,
     "metadata": {},
     "output_type": "execute_result"
    }
   ],
   "source": [
    "outline = \"\"\"\n",
    "# 兔子的儿歌\n",
    "## 一、兔子的朋友\n",
    "<OUTLINE>\n",
    "扩写摘要:\n",
    "介绍兔子拥有的好朋友，通过欢快的节奏展现它们之间的友谊。\n",
    "\n",
    "扩写要求：\n",
    "- 字数：约40字\n",
    "- 创意要点：提到至少三种不同的动物朋友，如小鸡、小鸭、小羊\n",
    "- 创作思路：用简单易懂的语言，让小朋友容易理解和记忆\n",
    "- 实体名称：小兔、小鸡、小鸭、小羊\n",
    "</OUTLINE>\n",
    "\n",
    "## 二、和朋友们一起玩\n",
    "<OUTLINE>\n",
    "扩写摘要:\n",
    "描述兔子和它的朋友们一起玩耍的快乐场景，增加儿歌的互动性和趣味性。\n",
    "\n",
    "扩写要求：\n",
    "- 字数：约40字\n",
    "- 创意要点：具体描述一种或几种游戏，如捉迷藏、跳绳\n",
    "- 创作思路：通过生动的场景描写，激发小朋友的想象力\n",
    "- 实体名称：小兔、小鸡、小鸭、小羊、捉迷藏、跳绳\n",
    "</OUTLINE>\n",
    "\"\"\"\n",
    "\n",
    "from illufly.chat import ChatQwen, FromOutline\n",
    "from illufly.types import PromptTemplate\n",
    "\n",
    "from_outline = FromOutline(ChatQwen())\n",
    "from_outline(outline)"
   ]
  },
  {
   "cell_type": "code",
   "execution_count": 8,
   "id": "02d9f6a0-b6b2-4a0e-9986-f4a2c7cfcbe1",
   "metadata": {},
   "outputs": [
    {
     "name": "stdout",
     "output_type": "stream",
     "text": [
      "[('783570-8486-0000', '3570-014-003', '# 兔子的儿歌\\n\\n## 一、兔子的朋友\\n\\n小兔有朋友，小鸡小鸭小羊，一起唱歌跳舞，快乐无边。\\n\\n## 二、和朋友们一起玩\\n\\n...'), ('783573-5859-0001', '3570-195-006', '## 二、和朋友们一起玩\\n\\n小兔和小鸡、小鸭、小羊一起玩捉迷藏和跳绳，笑声和欢呼声此起彼伏，好不热闹。')]\n"
     ]
    }
   ],
   "source": [
    "print(from_outline.segments)"
   ]
  },
  {
   "cell_type": "code",
   "execution_count": 10,
   "id": "821bca80-acaf-4017-9f55-9cfde1621e82",
   "metadata": {},
   "outputs": [
    {
     "data": {
      "text/plain": [
       "{'id': '3570-014-003', 'type': 'OUTLINE', 'source': None}"
      ]
     },
     "execution_count": 10,
     "metadata": {},
     "output_type": "execute_result"
    }
   ],
   "source": [
    "from_outline.markdown.documents[3].meta"
   ]
  },
  {
   "cell_type": "code",
   "execution_count": 11,
   "id": "479445e4-6a57-41e0-8367-f3980a8a1e7e",
   "metadata": {},
   "outputs": [
    {
     "data": {
      "text/plain": [
       "'\\n# 兔子的儿歌\\n\\n## 一、兔子的朋友\\n\\n\\n## 二、和朋友们一起玩\\n\\n\\n小兔和小鸡、小鸭、小羊一起玩捉迷藏和跳绳，笑声和欢呼声此起彼伏，好不热闹。\\n\\n\\n'"
      ]
     },
     "execution_count": 11,
     "metadata": {},
     "output_type": "execute_result"
    }
   ],
   "source": [
    "from_outline.last_output"
   ]
  },
  {
   "cell_type": "code",
   "execution_count": null,
   "id": "545dcac7-d34b-4212-8538-0942d7e80152",
   "metadata": {},
   "outputs": [],
   "source": []
  }
 ],
 "metadata": {
  "kernelspec": {
   "display_name": "textlong-same-ipykernel",
   "language": "python",
   "name": "textlong-same-ipykernel"
  },
  "language_info": {
   "codemirror_mode": {
    "name": "ipython",
    "version": 3
   },
   "file_extension": ".py",
   "mimetype": "text/x-python",
   "name": "python",
   "nbconvert_exporter": "python",
   "pygments_lexer": "ipython3",
   "version": "3.10.0"
  }
 },
 "nbformat": 4,
 "nbformat_minor": 5
}
