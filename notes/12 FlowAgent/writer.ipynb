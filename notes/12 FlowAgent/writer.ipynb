{
 "cells": [
  {
   "cell_type": "markdown",
   "id": "03b0eeaa-3935-4db0-9456-0496a2997da8",
   "metadata": {},
   "source": [
    "## 写作提示语模板"
   ]
  },
  {
   "cell_type": "code",
   "execution_count": 1,
   "id": "2129c241-f37d-4e69-9af4-9db90f0b54fb",
   "metadata": {},
   "outputs": [],
   "source": [
    "from illufly.hub import load_prompt_template, load_resource_template"
   ]
  },
  {
   "cell_type": "markdown",
   "id": "49b4bbf5-2c71-41dc-854b-8acb7e0f5f3a",
   "metadata": {},
   "source": [
    "### 加载对话模板的资源\n",
    "\n",
    "指定资源库中的模板ID即可加载模板。"
   ]
  },
  {
   "cell_type": "code",
   "execution_count": 4,
   "id": "2146cdb2-c2c8-4409-a808-d47989e00959",
   "metadata": {},
   "outputs": [
    {
     "data": {
      "text/plain": [
       "'你是强大的写作助手。\\n\\n你必须遵循以下约束来完成任务:\\n1. 直接输出你的结果，不要评论，不要啰嗦\\n2. 使用markdown格式输出\\n\\n**你的任务是:**\\n{{task}}\\n'"
      ]
     },
     "execution_count": 4,
     "metadata": {},
     "output_type": "execute_result"
    }
   ],
   "source": [
    "load_prompt_template(\"WRITER/IDEA\")"
   ]
  },
  {
   "cell_type": "code",
   "execution_count": 5,
   "id": "1336f88f-be74-4cb0-9bcf-00d1445e57c2",
   "metadata": {},
   "outputs": [
    {
     "data": {
      "text/plain": [
       "'你是强大的写作助手。\\n\\n你必须遵循以下约束来完成任务:\\n1. 直接输出你的结果，不要评论，不要啰嗦\\n2. 使用markdown格式输出\\n3. 请按照需要输出一份写作提纲\\n4. 提纲的构成应当由多个阔系额要求构成\\n5. 扩写要求必须包含清晰描述，如预估字数、创意要点、创作思路、创作中涉及到的实体名称等\\n5. 每一个扩写要求由完整的 `<OUTLINE>`和`</OUTLINE>` 包裹\\n6. 你只能输出提纲，不要输出具体的扩写内容\\n\\n**你的任务是:**\\n{{task}}\\n\\n{\\n**输出例子1**\\n```\\n# 第一章 标题1\\n## 一、XXXX\\n<OUTLINE>\\n扩写摘要:\\n对扩写内容做摘要总结\\n\\n扩写要求：\\n- xxx\\n- xxx\\n</OUTLINE>\\n\\n## 二、XXXX\\n<OUTLINE>\\n</OUTLINE>\\n\\n## （更多扩写提纲）\\n```\\n}\\n'"
      ]
     },
     "execution_count": 5,
     "metadata": {},
     "output_type": "execute_result"
    }
   ],
   "source": [
    "load_prompt_template(\"WRITER/OUTLINE\")"
   ]
  },
  {
   "cell_type": "markdown",
   "id": "e39c0064-4fd2-43ad-9b08-be05d9b0493d",
   "metadata": {},
   "source": [
    "### 单轮写作"
   ]
  },
  {
   "cell_type": "code",
   "execution_count": 6,
   "id": "36a03ed6-3643-4e96-8815-8634c88176a0",
   "metadata": {},
   "outputs": [
    {
     "name": "stdout",
     "output_type": "stream",
     "text": [
      "\u001b[32m小兔\u001b[0m\u001b[32m白\u001b[0m\u001b[32m又\u001b[0m\u001b[32m白，  \n",
      "两\u001b[0m\u001b[32m耳竖起来。\u001b[0m\u001b[32m  \n",
      "爱吃红萝卜\u001b[0m\u001b[32m，  \n",
      "蹦跳\u001b[0m\u001b[32m乐开怀。\u001b[0m\u001b[32m\u001b[0m\n"
     ]
    },
    {
     "data": {
      "text/plain": [
       "'小兔白又白，  \\n两耳竖起来。  \\n爱吃红萝卜，  \\n蹦跳乐开怀。'"
      ]
     },
     "execution_count": 6,
     "metadata": {},
     "output_type": "execute_result"
    }
   ],
   "source": [
    "from illufly.chat import ChatQwen\n",
    "from illufly.types import PromptTemplate\n",
    "\n",
    "a = ChatQwen(memory=PromptTemplate(\"WRITER/IDEA\"))\n",
    "a(\"帮我写一首关于兔子的四句儿歌\")"
   ]
  },
  {
   "cell_type": "markdown",
   "id": "c86b524c-e504-42b8-a84c-e31e5e8c5a66",
   "metadata": {},
   "source": [
    "### 提纲 + 扩写"
   ]
  },
  {
   "cell_type": "code",
   "execution_count": 8,
   "id": "9b0503f8-04d2-489c-8c7e-876a43110f2b",
   "metadata": {},
   "outputs": [
    {
     "name": "stdout",
     "output_type": "stream",
     "text": [
      "\u001b[32m#\u001b[0m\u001b[32m \u001b[0m\u001b[32m兔\u001b[0m\u001b[32m子\u001b[0m\u001b[32m的儿歌\n",
      "\u001b[0m\u001b[32m## 一、\u001b[0m\u001b[32m兔子的朋友\n",
      "\u001b[0m\u001b[32m<OUTLINE>\n",
      "扩\u001b[0m\u001b[32m写摘要:\n",
      "介绍\u001b[0m\u001b[32m兔子的朋友们，\u001b[0m\u001b[32m包括小猫、\u001b[0m\u001b[32m小狗、小鸡\u001b[0m\u001b[32m等动物伙伴。\n",
      "\n",
      "\u001b[0m\u001b[32m扩写要求：\n",
      "\u001b[0m\u001b[32m- 预\u001b[0m\u001b[32m估字数：\u001b[0m\u001b[32m40-5\u001b[0m\u001b[32m0字\n",
      "-\u001b[0m\u001b[32m 创意要点\u001b[0m\u001b[32m：使用拟人\u001b[0m\u001b[32m化的手法，让\u001b[0m\u001b[32m每个动物都有自己的\u001b[0m\u001b[32m特点\n",
      "- \u001b[0m\u001b[32m创作思路：\u001b[0m\u001b[32m通过简单的语言描述\u001b[0m\u001b[32m兔子与不同动物\u001b[0m\u001b[32m朋友之间的互动\n",
      "\u001b[0m\u001b[32m- 创作\u001b[0m\u001b[32m中涉及到的实体\u001b[0m\u001b[32m名称：小猫\u001b[0m\u001b[32m、小狗、小\u001b[0m\u001b[32m鸡\n",
      "</OUT\u001b[0m\u001b[32mLINE>\n",
      "\n",
      "## \u001b[0m\u001b[32m二、和朋友们\u001b[0m\u001b[32m一起玩\n",
      "\u001b[0m\u001b[32m<OUTLINE>\n",
      "扩\u001b[0m\u001b[32m写摘要:\n",
      "描述\u001b[0m\u001b[32m兔子和朋友们一起\u001b[0m\u001b[32m玩耍的场景，\u001b[0m\u001b[32m如在草地上\u001b[0m\u001b[32m追逐、捉迷\u001b[0m\u001b[32m藏等。\n",
      "\n",
      "扩\u001b[0m\u001b[32m写要求：\n",
      "-\u001b[0m\u001b[32m 预估\u001b[0m\u001b[32m字数：4\u001b[0m\u001b[32m0-50\u001b[0m\u001b[32m字\n",
      "- \u001b[0m\u001b[32m创意要点：\u001b[0m\u001b[32m营造欢乐的氛围\u001b[0m\u001b[32m，突出友谊的美好\u001b[0m\u001b[32m\n",
      "- 创\u001b[0m\u001b[32m作思路：通过\u001b[0m\u001b[32m生动的场景描写\u001b[0m\u001b[32m，展现孩子们喜欢\u001b[0m\u001b[32m的游戏活动\n",
      "-\u001b[0m\u001b[32m 创作中\u001b[0m\u001b[32m涉及到的实体名称\u001b[0m\u001b[32m：小猫、\u001b[0m\u001b[32m小狗、小鸡\u001b[0m\u001b[32m\n",
      "</OUTLINE\u001b[0m\u001b[32m>\u001b[0m\u001b[32m\u001b[0m\n",
      "[AGENT] \u001b[34m执行扩写任务 <8712-262-002>：\n",
      "扩写摘要:<br>介绍兔子的朋友们，包括小猫、小狗、小鸡等动物伙伴。<br><br>扩写要求：<br>- 预估字数：40-50字<br>- 创意要点：使用拟人化的手法，让每个动物都有自己的特点<br>- 创作思路：通过简单的语言描述兔子...\u001b[0m\n",
      "\u001b[32m小\u001b[0m\u001b[32m兔\u001b[0m\u001b[32m的朋友\u001b[0m\u001b[32m多\u001b[0m\u001b[32m，小猫温柔\u001b[0m\u001b[32m又好奇，小狗\u001b[0m\u001b[32m忠诚爱玩耍，\u001b[0m\u001b[32m小鸡活泼总\u001b[0m\u001b[32m跟跑。\u001b[0m\u001b[32m\u001b[0m\n",
      "[AGENT] \u001b[34m执行扩写任务 <8712-474-005>：\n",
      "扩写摘要:<br>描述兔子和朋友们一起玩耍的场景，如在草地上追逐、捉迷藏等。<br><br>扩写要求：<br>- 预估字数：40-50字<br>- 创意要点：营造欢乐的氛围，突出友谊的美好<br>- 创作思路：通过生动的场景描写，展现孩...\u001b[0m\n",
      "\u001b[32m小\u001b[0m\u001b[32m兔\u001b[0m\u001b[32m和\u001b[0m\u001b[32m小\u001b[0m\u001b[32m猫、小狗、\u001b[0m\u001b[32m小鸡在草\u001b[0m\u001b[32m地上追逐嬉戏\u001b[0m\u001b[32m，捉迷藏\u001b[0m\u001b[32m，笑声此起\u001b[0m\u001b[32m彼伏，快乐\u001b[0m\u001b[32m无比。\u001b[0m\u001b[32m\u001b[0m\n",
      "# 兔子的儿歌\n",
      "\n",
      "## 一、兔子的朋友\n",
      "\n",
      "小兔的朋友多，小猫温柔又好奇，小狗忠诚爱玩耍，小鸡活泼总跟跑。\n",
      "\n",
      "## 二、和朋友们一起玩\n",
      "\n",
      "小兔和小猫、小狗、小鸡在草地上追逐嬉戏，捉迷藏，笑声此起彼伏，快乐无比。\n",
      "\n"
     ]
    }
   ],
   "source": [
    "from illufly.chat import ChatQwen\n",
    "from illufly.flow import FromOutline\n",
    "from illufly.types import PromptTemplate\n",
    "\n",
    "a = ChatQwen(memory=PromptTemplate(\"WRITER/OUTLINE\"))\n",
    "a(\"帮我写一首关于兔子的儿歌，两段即可，第一段些兔子有哪些朋友，第二段些和朋友们一起玩（要求提到具体的朋友）\")\n",
    "fo = FromOutline(ChatQwen(name=\"小作家\"))\n",
    "fo(a)\n",
    "print(fo.last_output)"
   ]
  },
  {
   "cell_type": "code",
   "execution_count": 3,
   "id": "ad6595d8-63c6-47f2-8d92-a65313dd3b9c",
   "metadata": {},
   "outputs": [
    {
     "name": "stdout",
     "output_type": "stream",
     "text": [
      "# 兔子的儿歌\n",
      "\n",
      "## 一、兔子的朋友\n",
      "\n",
      "小兔有朋友，小猫喵喵叫，小狗汪汪笑，小鸭嘎嘎跳，大家真友好。\n",
      "\n",
      "## 二、和朋友们一起玩\n",
      "\n",
      "小兔和小猫追，小狗躲草丛，小鸭找不见，笑声满空中。\n",
      "\n"
     ]
    }
   ],
   "source": [
    "print(fo.last_output)"
   ]
  },
  {
   "cell_type": "markdown",
   "id": "21959935-35b0-41ad-bee4-b73b2c42820e",
   "metadata": {},
   "source": [
    "### 单独测试扩写能力"
   ]
  },
  {
   "cell_type": "code",
   "execution_count": 1,
   "id": "a4d71a4c-7d16-4a21-b279-630ac780b6c0",
   "metadata": {},
   "outputs": [
    {
     "name": "stdout",
     "output_type": "stream",
     "text": [
      "[AGENT] \u001b[34m执行扩写任务 <9228-501-003>：\n",
      "扩写摘要:<br>介绍兔子拥有的好朋友，通过欢快的节奏展现它们之间的友谊。<br><br>扩写要求：<br>- 字数：约40字<br>- 创意要点：提到至少三种不同的动物朋友，如小鸡、小鸭、小羊<br>- 创作思路：用简单易懂的语言，让...\u001b[0m\n",
      "\u001b[32m```\u001b[0m\u001b[32mmarkdown\u001b[0m\u001b[32m\n",
      "\u001b[0m\u001b[32m小\u001b[0m\u001b[32m兔有朋友，\u001b[0m\u001b[32m小鸡叽叽\u001b[0m\u001b[32m叫，小鸭\u001b[0m\u001b[32m嘎嘎笑，\u001b[0m\u001b[32m小羊咩咩\u001b[0m\u001b[32m闹，大家真\u001b[0m\u001b[32m友好。\n",
      "```\u001b[0m\u001b[32m\u001b[0m\n",
      "[AGENT] \u001b[34m执行扩写任务 <9228-315-006>：\n",
      "扩写摘要:<br>描述兔子和它的朋友们一起玩耍的快乐场景，增加儿歌的互动性和趣味性。<br><br>扩写要求：<br>- 字数：约40字<br>- 创意要点：具体描述一种或几种游戏，如捉迷藏、跳绳<br>- 创作思路：通过生动的场景描写...\u001b[0m\n",
      "\u001b[32m```\u001b[0m\u001b[32mmarkdown\u001b[0m\u001b[32m\n",
      "\u001b[0m\u001b[32m小\u001b[0m\u001b[32m兔和朋友们玩\u001b[0m\u001b[32m捉迷藏，\u001b[0m\u001b[32m小鸡躲进\u001b[0m\u001b[32m草丛里，\u001b[0m\u001b[32m小鸭藏在\u001b[0m\u001b[32m树后面，小\u001b[0m\u001b[32m羊跳绳跳\u001b[0m\u001b[32m得高，大家\u001b[0m\u001b[32m笑声多美妙。\n",
      "\u001b[0m\u001b[32m```\u001b[0m\u001b[32m\u001b[0m\n"
     ]
    },
    {
     "data": {
      "text/plain": [
       "'\\n# 兔子的儿歌\\n\\n## 一、兔子的朋友\\n\\n小兔有朋友，小鸡叽叽叫，小鸭嘎嘎笑，小羊咩咩闹，大家真友好。\\n## 二、和朋友们一起玩\\n\\n小兔和朋友们玩捉迷藏，小鸡躲进草丛里，小鸭藏在树后面，小羊跳绳跳得高，大家笑声多美妙。\\n'"
      ]
     },
     "execution_count": 1,
     "metadata": {},
     "output_type": "execute_result"
    }
   ],
   "source": [
    "outline = \"\"\"\n",
    "# 兔子的儿歌\n",
    "## 一、兔子的朋友\n",
    "<OUTLINE>\n",
    "扩写摘要:\n",
    "介绍兔子拥有的好朋友，通过欢快的节奏展现它们之间的友谊。\n",
    "\n",
    "扩写要求：\n",
    "- 字数：约40字\n",
    "- 创意要点：提到至少三种不同的动物朋友，如小鸡、小鸭、小羊\n",
    "- 创作思路：用简单易懂的语言，让小朋友容易理解和记忆\n",
    "- 实体名称：小兔、小鸡、小鸭、小羊\n",
    "</OUTLINE>\n",
    "\n",
    "## 二、和朋友们一起玩\n",
    "<OUTLINE>\n",
    "扩写摘要:\n",
    "描述兔子和它的朋友们一起玩耍的快乐场景，增加儿歌的互动性和趣味性。\n",
    "\n",
    "扩写要求：\n",
    "- 字数：约40字\n",
    "- 创意要点：具体描述一种或几种游戏，如捉迷藏、跳绳\n",
    "- 创作思路：通过生动的场景描写，激发小朋友的想象力\n",
    "- 实体名称：小兔、小鸡、小鸭、小羊、捉迷藏、跳绳\n",
    "</OUTLINE>\n",
    "\"\"\"\n",
    "\n",
    "from illufly.chat import ChatQwen, FromOutline\n",
    "from illufly.types import PromptTemplate\n",
    "\n",
    "from_outline = FromOutline(ChatQwen(name=\"小作家\"))\n",
    "from_outline(outline)"
   ]
  },
  {
   "cell_type": "code",
   "execution_count": 2,
   "id": "821bca80-acaf-4017-9f55-9cfde1621e82",
   "metadata": {},
   "outputs": [
    {
     "name": "stdout",
     "output_type": "stream",
     "text": [
      "\n",
      "# 兔子的儿歌\n",
      "\n",
      "## 一、兔子的朋友\n",
      "\n",
      "小兔有朋友，小鸡叽叽叫，小鸭嘎嘎笑，小羊咩咩闹，大家真友好。\n",
      "## 二、和朋友们一起玩\n",
      "\n",
      "小兔和朋友们玩捉迷藏，小鸡躲进草丛里，小鸭藏在树后面，小羊跳绳跳得高，大家笑声多美妙。\n",
      "\n"
     ]
    }
   ],
   "source": [
    "print(from_outline.last_output)"
   ]
  },
  {
   "cell_type": "markdown",
   "id": "e08d4557-908b-47d6-b0a6-3c48ddb6f4ea",
   "metadata": {},
   "source": [
    "### 查看生成中间文档"
   ]
  },
  {
   "cell_type": "code",
   "execution_count": 12,
   "id": "545dcac7-d34b-4212-8538-0942d7e80152",
   "metadata": {},
   "outputs": [
    {
     "data": {
      "text/plain": [
       "[('bl-238-000', '\\n'),\n",
       " ('he-659-001', '# 兔子的儿歌\\n\\n'),\n",
       " ('he-525-002', '## 一、兔子的朋友\\n\\n'),\n",
       " ('OU-569-003',\n",
       "  '<OUTLINE>\\n扩写摘要:\\n介绍兔子拥有的好朋友，通过欢快的节奏展现它们之间的友谊。\\n\\n扩写要求：\\n- 字数：约40字\\n- 创意要点：提到至少三种不同的动物朋友，如小鸡、小鸭、小羊\\n- 创作思路：用简单易懂的语言，让小朋友容易理解和记忆\\n- 实体名称：小兔、小鸡、小鸭、小羊\\n</OUTLINE>\\n\\n'),\n",
       " ('bl-060-004', '\\n'),\n",
       " ('he-972-005', '## 二、和朋友们一起玩\\n\\n'),\n",
       " ('OU-201-006',\n",
       "  '<OUTLINE>\\n扩写摘要:\\n描述兔子和它的朋友们一起玩耍的快乐场景，增加儿歌的互动性和趣味性。\\n\\n扩写要求：\\n- 字数：约40字\\n- 创意要点：具体描述一种或几种游戏，如捉迷藏、跳绳\\n- 创作思路：通过生动的场景描写，激发小朋友的想象力\\n- 实体名称：小兔、小鸡、小鸭、小羊、捉迷藏、跳绳\\n</OUTLINE>\\n\\n'),\n",
       " ('bl-109-007', '\\n')]"
      ]
     },
     "execution_count": 12,
     "metadata": {},
     "output_type": "execute_result"
    }
   ],
   "source": [
    "from illufly.core.runnable.agent.writer.markdown import list_markdown\n",
    "list_markdown(from_outline.markdown.documents)"
   ]
  },
  {
   "cell_type": "code",
   "execution_count": null,
   "id": "a44c0533-9fa0-4f99-95ab-e089fda1d7b7",
   "metadata": {},
   "outputs": [],
   "source": []
  }
 ],
 "metadata": {
  "kernelspec": {
   "display_name": "same_to_illufly",
   "language": "python",
   "name": "same_to_illufly"
  },
  "language_info": {
   "codemirror_mode": {
    "name": "ipython",
    "version": 3
   },
   "file_extension": ".py",
   "mimetype": "text/x-python",
   "name": "python",
   "nbconvert_exporter": "python",
   "pygments_lexer": "ipython3",
   "version": "3.10.0"
  }
 },
 "nbformat": 4,
 "nbformat_minor": 5
}
