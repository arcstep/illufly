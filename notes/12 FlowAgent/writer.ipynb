{
 "cells": [
  {
   "cell_type": "markdown",
   "id": "03b0eeaa-3935-4db0-9456-0496a2997da8",
   "metadata": {},
   "source": [
    "## 写作提示语模板"
   ]
  },
  {
   "cell_type": "code",
   "execution_count": 1,
   "id": "2129c241-f37d-4e69-9af4-9db90f0b54fb",
   "metadata": {},
   "outputs": [],
   "source": [
    "from illufly.hub import load_prompt_template, load_resource_template"
   ]
  },
  {
   "cell_type": "markdown",
   "id": "49b4bbf5-2c71-41dc-854b-8acb7e0f5f3a",
   "metadata": {},
   "source": [
    "### 加载对话模板的资源\n",
    "\n",
    "指定资源库中的模板ID即可加载模板。"
   ]
  },
  {
   "cell_type": "code",
   "execution_count": 4,
   "id": "2146cdb2-c2c8-4409-a808-d47989e00959",
   "metadata": {},
   "outputs": [
    {
     "data": {
      "text/plain": [
       "'你是强大的写作助手。\\n\\n你必须遵循以下约束来完成任务:\\n1. 直接输出你的结果，不要评论，不要啰嗦\\n2. 使用markdown格式输出\\n\\n**你的任务是:**\\n{{task}}\\n'"
      ]
     },
     "execution_count": 4,
     "metadata": {},
     "output_type": "execute_result"
    }
   ],
   "source": [
    "load_prompt_template(\"WRITER/IDEA\")"
   ]
  },
  {
   "cell_type": "code",
   "execution_count": 5,
   "id": "1336f88f-be74-4cb0-9bcf-00d1445e57c2",
   "metadata": {},
   "outputs": [
    {
     "data": {
      "text/plain": [
       "'你是强大的写作助手。\\n\\n你必须遵循以下约束来完成任务:\\n1. 直接输出你的结果，不要评论，不要啰嗦\\n2. 使用markdown格式输出\\n3. 请按照需要输出一份写作提纲\\n4. 提纲的构成应当由多个阔系额要求构成\\n5. 扩写要求必须包含清晰描述，如预估字数、创意要点、创作思路、创作中涉及到的实体名称等\\n5. 每一个扩写要求由完整的 `<OUTLINE>`和`</OUTLINE>` 包裹\\n6. 你只能输出提纲，不要输出具体的扩写内容\\n\\n**你的任务是:**\\n{{task}}\\n\\n{\\n**输出例子1**\\n```\\n# 第一章 标题1\\n## 一、XXXX\\n<OUTLINE>\\n扩写摘要:\\n对扩写内容做摘要总结\\n\\n扩写要求：\\n- xxx\\n- xxx\\n</OUTLINE>\\n\\n## 二、XXXX\\n<OUTLINE>\\n</OUTLINE>\\n\\n## （更多扩写提纲）\\n```\\n}\\n'"
      ]
     },
     "execution_count": 5,
     "metadata": {},
     "output_type": "execute_result"
    }
   ],
   "source": [
    "load_prompt_template(\"WRITER/OUTLINE\")"
   ]
  },
  {
   "cell_type": "markdown",
   "id": "e39c0064-4fd2-43ad-9b08-be05d9b0493d",
   "metadata": {},
   "source": [
    "## 单轮写作"
   ]
  },
  {
   "cell_type": "code",
   "execution_count": 6,
   "id": "36a03ed6-3643-4e96-8815-8634c88176a0",
   "metadata": {},
   "outputs": [
    {
     "name": "stdout",
     "output_type": "stream",
     "text": [
      "\u001b[32m小兔\u001b[0m\u001b[32m白\u001b[0m\u001b[32m又\u001b[0m\u001b[32m白，  \n",
      "两\u001b[0m\u001b[32m耳竖起来。\u001b[0m\u001b[32m  \n",
      "爱吃红萝卜\u001b[0m\u001b[32m，  \n",
      "蹦跳\u001b[0m\u001b[32m乐开怀。\u001b[0m\u001b[32m\u001b[0m\n"
     ]
    },
    {
     "data": {
      "text/plain": [
       "'小兔白又白，  \\n两耳竖起来。  \\n爱吃红萝卜，  \\n蹦跳乐开怀。'"
      ]
     },
     "execution_count": 6,
     "metadata": {},
     "output_type": "execute_result"
    }
   ],
   "source": [
    "from illufly.chat import ChatQwen\n",
    "from illufly.types import PromptTemplate\n",
    "\n",
    "a = ChatQwen(memory=PromptTemplate(\"WRITER/IDEA\"))\n",
    "a(\"帮我写一首关于兔子的四句儿歌\")"
   ]
  },
  {
   "cell_type": "markdown",
   "id": "c86b524c-e504-42b8-a84c-e31e5e8c5a66",
   "metadata": {},
   "source": [
    "## 使用 ChatAgent 扩写\n",
    "\n",
    "### 提纲 + 扩写"
   ]
  },
  {
   "cell_type": "code",
   "execution_count": 8,
   "id": "9b0503f8-04d2-489c-8c7e-876a43110f2b",
   "metadata": {},
   "outputs": [
    {
     "name": "stdout",
     "output_type": "stream",
     "text": [
      "\u001b[32m#\u001b[0m\u001b[32m \u001b[0m\u001b[32m兔\u001b[0m\u001b[32m子\u001b[0m\u001b[32m的儿歌\n",
      "\u001b[0m\u001b[32m## 一、\u001b[0m\u001b[32m兔子的朋友\n",
      "\u001b[0m\u001b[32m<OUTLINE>\n",
      "扩\u001b[0m\u001b[32m写摘要:\n",
      "介绍\u001b[0m\u001b[32m兔子的朋友们，\u001b[0m\u001b[32m包括小猫、\u001b[0m\u001b[32m小狗、小鸡\u001b[0m\u001b[32m等动物伙伴。\n",
      "\n",
      "\u001b[0m\u001b[32m扩写要求：\n",
      "\u001b[0m\u001b[32m- 预\u001b[0m\u001b[32m估字数：\u001b[0m\u001b[32m40-5\u001b[0m\u001b[32m0字\n",
      "-\u001b[0m\u001b[32m 创意要点\u001b[0m\u001b[32m：使用拟人\u001b[0m\u001b[32m化的手法，让\u001b[0m\u001b[32m每个动物都有自己的\u001b[0m\u001b[32m特点\n",
      "- \u001b[0m\u001b[32m创作思路：\u001b[0m\u001b[32m通过简单的语言描述\u001b[0m\u001b[32m兔子与不同动物\u001b[0m\u001b[32m朋友之间的互动\n",
      "\u001b[0m\u001b[32m- 创作\u001b[0m\u001b[32m中涉及到的实体\u001b[0m\u001b[32m名称：小猫\u001b[0m\u001b[32m、小狗、小\u001b[0m\u001b[32m鸡\n",
      "</OUT\u001b[0m\u001b[32mLINE>\n",
      "\n",
      "## \u001b[0m\u001b[32m二、和朋友们\u001b[0m\u001b[32m一起玩\n",
      "\u001b[0m\u001b[32m<OUTLINE>\n",
      "扩\u001b[0m\u001b[32m写摘要:\n",
      "描述\u001b[0m\u001b[32m兔子和朋友们一起\u001b[0m\u001b[32m玩耍的场景，\u001b[0m\u001b[32m如在草地上\u001b[0m\u001b[32m追逐、捉迷\u001b[0m\u001b[32m藏等。\n",
      "\n",
      "扩\u001b[0m\u001b[32m写要求：\n",
      "-\u001b[0m\u001b[32m 预估\u001b[0m\u001b[32m字数：4\u001b[0m\u001b[32m0-50\u001b[0m\u001b[32m字\n",
      "- \u001b[0m\u001b[32m创意要点：\u001b[0m\u001b[32m营造欢乐的氛围\u001b[0m\u001b[32m，突出友谊的美好\u001b[0m\u001b[32m\n",
      "- 创\u001b[0m\u001b[32m作思路：通过\u001b[0m\u001b[32m生动的场景描写\u001b[0m\u001b[32m，展现孩子们喜欢\u001b[0m\u001b[32m的游戏活动\n",
      "-\u001b[0m\u001b[32m 创作中\u001b[0m\u001b[32m涉及到的实体名称\u001b[0m\u001b[32m：小猫、\u001b[0m\u001b[32m小狗、小鸡\u001b[0m\u001b[32m\n",
      "</OUTLINE\u001b[0m\u001b[32m>\u001b[0m\u001b[32m\u001b[0m\n",
      "[AGENT] \u001b[34m执行扩写任务 <8712-262-002>：\n",
      "扩写摘要:<br>介绍兔子的朋友们，包括小猫、小狗、小鸡等动物伙伴。<br><br>扩写要求：<br>- 预估字数：40-50字<br>- 创意要点：使用拟人化的手法，让每个动物都有自己的特点<br>- 创作思路：通过简单的语言描述兔子...\u001b[0m\n",
      "\u001b[32m小\u001b[0m\u001b[32m兔\u001b[0m\u001b[32m的朋友\u001b[0m\u001b[32m多\u001b[0m\u001b[32m，小猫温柔\u001b[0m\u001b[32m又好奇，小狗\u001b[0m\u001b[32m忠诚爱玩耍，\u001b[0m\u001b[32m小鸡活泼总\u001b[0m\u001b[32m跟跑。\u001b[0m\u001b[32m\u001b[0m\n",
      "[AGENT] \u001b[34m执行扩写任务 <8712-474-005>：\n",
      "扩写摘要:<br>描述兔子和朋友们一起玩耍的场景，如在草地上追逐、捉迷藏等。<br><br>扩写要求：<br>- 预估字数：40-50字<br>- 创意要点：营造欢乐的氛围，突出友谊的美好<br>- 创作思路：通过生动的场景描写，展现孩...\u001b[0m\n",
      "\u001b[32m小\u001b[0m\u001b[32m兔\u001b[0m\u001b[32m和\u001b[0m\u001b[32m小\u001b[0m\u001b[32m猫、小狗、\u001b[0m\u001b[32m小鸡在草\u001b[0m\u001b[32m地上追逐嬉戏\u001b[0m\u001b[32m，捉迷藏\u001b[0m\u001b[32m，笑声此起\u001b[0m\u001b[32m彼伏，快乐\u001b[0m\u001b[32m无比。\u001b[0m\u001b[32m\u001b[0m\n",
      "# 兔子的儿歌\n",
      "\n",
      "## 一、兔子的朋友\n",
      "\n",
      "小兔的朋友多，小猫温柔又好奇，小狗忠诚爱玩耍，小鸡活泼总跟跑。\n",
      "\n",
      "## 二、和朋友们一起玩\n",
      "\n",
      "小兔和小猫、小狗、小鸡在草地上追逐嬉戏，捉迷藏，笑声此起彼伏，快乐无比。\n",
      "\n"
     ]
    }
   ],
   "source": [
    "from illufly.chat import ChatQwen\n",
    "from illufly.flow import FromOutline\n",
    "from illufly.types import PromptTemplate\n",
    "\n",
    "a = ChatQwen(memory=PromptTemplate(\"WRITER/OUTLINE\"))\n",
    "a(\"帮我写一首关于兔子的儿歌，两段即可，第一段些兔子有哪些朋友，第二段些和朋友们一起玩（要求提到具体的朋友）\")\n",
    "fo = FromOutline(ChatQwen(name=\"小作家\"))\n",
    "fo(a)\n",
    "print(fo.last_output)"
   ]
  },
  {
   "cell_type": "code",
   "execution_count": 3,
   "id": "ad6595d8-63c6-47f2-8d92-a65313dd3b9c",
   "metadata": {},
   "outputs": [
    {
     "name": "stdout",
     "output_type": "stream",
     "text": [
      "# 兔子的儿歌\n",
      "\n",
      "## 一、兔子的朋友\n",
      "\n",
      "小兔有朋友，小猫喵喵叫，小狗汪汪笑，小鸭嘎嘎跳，大家真友好。\n",
      "\n",
      "## 二、和朋友们一起玩\n",
      "\n",
      "小兔和小猫追，小狗躲草丛，小鸭找不见，笑声满空中。\n",
      "\n"
     ]
    }
   ],
   "source": [
    "print(fo.last_output)"
   ]
  },
  {
   "cell_type": "markdown",
   "id": "44706b47-2461-4832-ac94-9fb880656535",
   "metadata": {},
   "source": [
    "### 局部 `<OUTLINE/>`"
   ]
  },
  {
   "cell_type": "code",
   "execution_count": 1,
   "id": "de52bd30-e89c-4bb9-8798-f20ef80f3237",
   "metadata": {},
   "outputs": [
    {
     "name": "stdout",
     "output_type": "stream",
     "text": [
      "[AGENT] \u001b[34m执行扩写任务 <9920-965-001>：\n",
      "扩写摘要:<br>介绍兔子拥有的好朋友，通过欢快的节奏展现它们之间的友谊。<br><br>扩写要求：<br>- 字数：约40字<br>- 创意要点：提到至少三种不同的动物朋友，如小鸡、小鸭、小羊<br>- 创作思路：用简单易懂的语言，让...\u001b[0m\n",
      "\u001b[32m小兔\u001b[0m\u001b[32m有\u001b[0m\u001b[32m朋友\u001b[0m\u001b[32m，小鸡叽\u001b[0m\u001b[32m叽叫，小\u001b[0m\u001b[32m鸭嘎嘎笑\u001b[0m\u001b[32m，小羊咩\u001b[0m\u001b[32m咩闹，大家\u001b[0m\u001b[32m真友好。\u001b[0m\u001b[32m\u001b[0m\n",
      "[AGENT] \u001b[34m执行扩写任务 <9920-836-003>：\n",
      "扩写摘要:<br>描述兔子和它的朋友们一起玩耍的快乐场景，增加儿歌的互动性和趣味性。<br><br>扩写要求：<br>- 字数：约40字<br>- 创意要点：具体描述一种或几种游戏，如捉迷藏、跳绳<br>- 创作思路：通过生动的场景描写...\u001b[0m\n",
      "\u001b[32m小\u001b[0m\u001b[32m兔\u001b[0m\u001b[32m和\u001b[0m\u001b[32m朋友们\u001b[0m\u001b[32m玩捉迷藏\u001b[0m\u001b[32m，小鸡躲\u001b[0m\u001b[32m草丛，小\u001b[0m\u001b[32m鸭藏树后\u001b[0m\u001b[32m，小羊跳\u001b[0m\u001b[32m绳乐呵呵。\u001b[0m\u001b[32m\u001b[0m\n"
     ]
    },
    {
     "data": {
      "text/plain": [
       "'\\n小兔有朋友，小鸡叽叽叫，小鸭嘎嘎笑，小羊咩咩闹，大家真友好。\\n\\n小兔和朋友们玩捉迷藏，小鸡躲草丛，小鸭藏树后，小羊跳绳乐呵呵。\\n\\n'"
      ]
     },
     "execution_count": 1,
     "metadata": {},
     "output_type": "execute_result"
    }
   ],
   "source": [
    "outline = \"\"\"\n",
    "<OUTLINE>\n",
    "扩写摘要:\n",
    "介绍兔子拥有的好朋友，通过欢快的节奏展现它们之间的友谊。\n",
    "\n",
    "扩写要求：\n",
    "- 字数：约40字\n",
    "- 创意要点：提到至少三种不同的动物朋友，如小鸡、小鸭、小羊\n",
    "- 创作思路：用简单易懂的语言，让小朋友容易理解和记忆\n",
    "- 实体名称：小兔、小鸡、小鸭、小羊\n",
    "</OUTLINE>\n",
    "\n",
    "<OUTLINE>\n",
    "扩写摘要:\n",
    "描述兔子和它的朋友们一起玩耍的快乐场景，增加儿歌的互动性和趣味性。\n",
    "\n",
    "扩写要求：\n",
    "- 字数：约40字\n",
    "- 创意要点：具体描述一种或几种游戏，如捉迷藏、跳绳\n",
    "- 创作思路：通过生动的场景描写，激发小朋友的想象力\n",
    "- 实体名称：小兔、小鸡、小鸭、小羊、捉迷藏、跳绳\n",
    "</OUTLINE>\n",
    "\"\"\"\n",
    "\n",
    "from illufly.chat import ChatQwen\n",
    "from illufly.flow import FromOutline\n",
    "from illufly.types import PromptTemplate\n",
    "\n",
    "from_outline = FromOutline(ChatQwen(name=\"小作家\"))\n",
    "from_outline(outline)"
   ]
  },
  {
   "cell_type": "markdown",
   "id": "21959935-35b0-41ad-bee4-b73b2c42820e",
   "metadata": {},
   "source": [
    "### 完整 `<OUTLINE/>`"
   ]
  },
  {
   "cell_type": "code",
   "execution_count": 1,
   "id": "a4d71a4c-7d16-4a21-b279-630ac780b6c0",
   "metadata": {},
   "outputs": [
    {
     "name": "stdout",
     "output_type": "stream",
     "text": [
      "[AGENT] \u001b[34m执行扩写任务 <6440-903-003>：\n",
      "# 兔子的儿歌<br>## 一、兔子的朋友<br><OUTLINE><br>扩写摘要:<br>介绍兔子拥有的好朋友，通过欢快的节奏展现它们之间的友谊。<br><br>扩写要求：<br>- 字数：约40字<br>- 创意要点：提到至少三种不同的动物朋...\u001b[0m\n",
      "****************************************************************************************************\n",
      "\n",
      "# 兔子的儿歌\n",
      "\n",
      "## 一、兔子的朋友\n",
      "\n",
      "<<<YOUR_TEXT>>>\n",
      "\n",
      "\n",
      "## 二、和朋友们一起玩\n",
      "\n",
      "...\n",
      "\n",
      "\n",
      "[USER] \u001b[34m请开始扩写\u001b[0m\n",
      "[INFO] \u001b[34m记住 10 轮对话\u001b[0m\n",
      "\u001b[32m```\u001b[0m\u001b[32mmarkdown\u001b[0m\u001b[32m\n",
      "\u001b[0m\u001b[32m小\u001b[0m\u001b[32m兔有朋友，\u001b[0m\u001b[32m小鸡叽叽\u001b[0m\u001b[32m叫，小鸭\u001b[0m\u001b[32m嘎嘎笑，\u001b[0m\u001b[32m小羊咩咩\u001b[0m\u001b[32m闹，大家真\u001b[0m\u001b[32m友好。\n",
      "```\u001b[0m\u001b[32m\u001b[0m\n",
      "[USAGE] \u001b[34m{\"input_tokens\": 400, \"output_tokens\": 31, \"total_tokens\": 431}\u001b[0m\n",
      "****************************************************************************************************\n",
      "[('386440-5118-0000', '6440-903-003', '小兔有朋友，小鸡叽叽叫，小鸭嘎嘎笑，小羊咩咩闹，大家真友好。')]\n",
      "[AGENT] \u001b[34m执行扩写任务 <6440-629-006>：\n",
      "扩写摘要:<br>介绍兔子拥有的好朋友，通过欢快的节奏展现它们之间的友谊。<br><br>扩写要求：<br>- 字数：约40字<br>- 创意要点：提到至少三种不同的动物朋友，如小鸡、小鸭、小羊<br>- 创作思路：用简单易懂的语言，让...\u001b[0m\n",
      "****************************************************************************************************\n",
      "\n",
      "# 兔子的儿歌\n",
      "\n",
      "## 一、兔子的朋友\n",
      "\n",
      "...\n",
      "\n",
      "## 二、和朋友们一起玩\n",
      "\n",
      "<<<YOUR_TEXT>>>\n",
      "\n",
      "\n",
      "\n",
      "[USER] \u001b[34m请开始扩写\u001b[0m\n",
      "[INFO] \u001b[34m记住 10 轮对话\u001b[0m\n",
      "\u001b[32m```\u001b[0m\u001b[32mmarkdown\u001b[0m\u001b[32m\n",
      "\u001b[0m\u001b[32m小\u001b[0m\u001b[32m兔和朋友们玩\u001b[0m\u001b[32m捉迷藏，\u001b[0m\u001b[32m小鸡躲草\u001b[0m\u001b[32m丛，小鸭\u001b[0m\u001b[32m藏树后，\u001b[0m\u001b[32m小羊找得\u001b[0m\u001b[32m乐呵呵。\n",
      "```\u001b[0m\u001b[32m\u001b[0m\n",
      "[USAGE] \u001b[34m{\"input_tokens\": 409, \"output_tokens\": 32, \"total_tokens\": 441}\u001b[0m\n",
      "****************************************************************************************************\n",
      "[('386440-5118-0000', '6440-903-003', '小兔有朋友，小鸡叽叽叫，小鸭嘎嘎笑，小羊咩咩闹，大家真友好。'), ('386443-4217-0001', '6440-629-006', '小兔和朋友们玩捉迷藏，小鸡躲草丛，小鸭藏树后，小羊找得乐呵呵。')]\n"
     ]
    },
    {
     "data": {
      "text/plain": [
       "'\\n# 兔子的儿歌\\n\\n## 一、兔子的朋友\\n\\n小兔有朋友，小鸡叽叽叫，小鸭嘎嘎笑，小羊咩咩闹，大家真友好。\\n\\n## 二、和朋友们一起玩\\n\\n小兔和朋友们玩捉迷藏，小鸡躲草丛，小鸭藏树后，小羊找得乐呵呵。\\n\\n'"
      ]
     },
     "execution_count": 1,
     "metadata": {},
     "output_type": "execute_result"
    }
   ],
   "source": [
    "outline = \"\"\"\n",
    "# 兔子的儿歌\n",
    "## 一、兔子的朋友\n",
    "<OUTLINE>\n",
    "扩写摘要:\n",
    "介绍兔子拥有的好朋友，通过欢快的节奏展现它们之间的友谊。\n",
    "\n",
    "扩写要求：\n",
    "- 字数：约40字\n",
    "- 创意要点：提到至少三种不同的动物朋友，如小鸡、小鸭、小羊\n",
    "- 创作思路：用简单易懂的语言，让小朋友容易理解和记忆\n",
    "- 实体名称：小兔、小鸡、小鸭、小羊\n",
    "</OUTLINE>\n",
    "\n",
    "## 二、和朋友们一起玩\n",
    "<OUTLINE>\n",
    "扩写摘要:\n",
    "描述兔子和它的朋友们一起玩耍的快乐场景，增加儿歌的互动性和趣味性。\n",
    "\n",
    "扩写要求：\n",
    "- 字数：约40字\n",
    "- 创意要点：具体描述一种或几种游戏，如捉迷藏、跳绳\n",
    "- 创作思路：通过生动的场景描写，激发小朋友的想象力\n",
    "- 实体名称：小兔、小鸡、小鸭、小羊、捉迷藏、跳绳\n",
    "</OUTLINE>\n",
    "\"\"\"\n",
    "\n",
    "from illufly.chat import ChatQwen\n",
    "from illufly.flow import FromOutline\n",
    "from illufly.types import PromptTemplate\n",
    "\n",
    "from_outline = FromOutline(ChatQwen(name=\"小作家\"))\n",
    "from_outline(outline, verbose=True)"
   ]
  },
  {
   "cell_type": "code",
   "execution_count": 2,
   "id": "821bca80-acaf-4017-9f55-9cfde1621e82",
   "metadata": {},
   "outputs": [
    {
     "name": "stdout",
     "output_type": "stream",
     "text": [
      "\n",
      "# 兔子的儿歌\n",
      "\n",
      "## 一、兔子的朋友\n",
      "\n",
      "小兔有朋友，小鸡叽叽叫，小鸭嘎嘎笑，小羊咩咩闹，大家真友好。\n",
      "## 二、和朋友们一起玩\n",
      "\n",
      "小兔和朋友们玩捉迷藏，小鸡躲进草丛里，小鸭藏在树后面，小羊跳绳跳得高，大家笑声多美妙。\n",
      "\n"
     ]
    }
   ],
   "source": [
    "print(from_outline.last_output)"
   ]
  },
  {
   "cell_type": "markdown",
   "id": "e08d4557-908b-47d6-b0a6-3c48ddb6f4ea",
   "metadata": {},
   "source": [
    "### 查看生成中间文档"
   ]
  },
  {
   "cell_type": "code",
   "execution_count": 12,
   "id": "545dcac7-d34b-4212-8538-0942d7e80152",
   "metadata": {},
   "outputs": [
    {
     "data": {
      "text/plain": [
       "[('bl-238-000', '\\n'),\n",
       " ('he-659-001', '# 兔子的儿歌\\n\\n'),\n",
       " ('he-525-002', '## 一、兔子的朋友\\n\\n'),\n",
       " ('OU-569-003',\n",
       "  '<OUTLINE>\\n扩写摘要:\\n介绍兔子拥有的好朋友，通过欢快的节奏展现它们之间的友谊。\\n\\n扩写要求：\\n- 字数：约40字\\n- 创意要点：提到至少三种不同的动物朋友，如小鸡、小鸭、小羊\\n- 创作思路：用简单易懂的语言，让小朋友容易理解和记忆\\n- 实体名称：小兔、小鸡、小鸭、小羊\\n</OUTLINE>\\n\\n'),\n",
       " ('bl-060-004', '\\n'),\n",
       " ('he-972-005', '## 二、和朋友们一起玩\\n\\n'),\n",
       " ('OU-201-006',\n",
       "  '<OUTLINE>\\n扩写摘要:\\n描述兔子和它的朋友们一起玩耍的快乐场景，增加儿歌的互动性和趣味性。\\n\\n扩写要求：\\n- 字数：约40字\\n- 创意要点：具体描述一种或几种游戏，如捉迷藏、跳绳\\n- 创作思路：通过生动的场景描写，激发小朋友的想象力\\n- 实体名称：小兔、小鸡、小鸭、小羊、捉迷藏、跳绳\\n</OUTLINE>\\n\\n'),\n",
       " ('bl-109-007', '\\n')]"
      ]
     },
     "execution_count": 12,
     "metadata": {},
     "output_type": "execute_result"
    }
   ],
   "source": [
    "from illufly.core.runnable.agent.writer.markdown import list_markdown\n",
    "list_markdown(from_outline.markdown.documents)"
   ]
  },
  {
   "cell_type": "markdown",
   "id": "c4afdafa-42d9-49c2-a1c2-f1a31433619d",
   "metadata": {},
   "source": [
    "## 使用 FlowAgent 扩写"
   ]
  },
  {
   "cell_type": "code",
   "execution_count": 1,
   "id": "a44c0533-9fa0-4f99-95ab-e089fda1d7b7",
   "metadata": {},
   "outputs": [
    {
     "name": "stdout",
     "output_type": "stream",
     "text": [
      "[AGENT] \u001b[34m执行扩写任务 <8069-073-003>：\n",
      "扩写摘要:<br>介绍兔子拥有的好朋友，通过欢快的节奏展现它们之间的友谊。<br><br>扩写要求：<br>- 字数：约200字<br>- 创意要点：提到至少三种不同的动物朋友，如小鸡、小鸭、小羊，为每个动物起一个好名字<br>- 创作...\u001b[0m\n",
      "[AGENT] \u001b[34m>>> Node 1: planner\u001b[0m\n",
      "\u001b[32m**思考\u001b[0m\u001b[32m**\u001b[0m\u001b[32m \n",
      "\n",
      "\u001b[0m\u001b[32m在这个任务中，\u001b[0m\u001b[32m我需要根据给\u001b[0m\u001b[32m定的扩写\u001b[0m\u001b[32m要求，创作一段\u001b[0m\u001b[32m关于兔子和它\u001b[0m\u001b[32m朋友们的儿歌\u001b[0m\u001b[32m。任务中涉及\u001b[0m\u001b[32m的关键概念包括：\u001b[0m\u001b[32m小兔、小\u001b[0m\u001b[32m鸡、小鸭\u001b[0m\u001b[32m、小羊。\u001b[0m\u001b[32m这些角色需要被\u001b[0m\u001b[32m赋予具体的名字，并\u001b[0m\u001b[32m且要通过简单的\u001b[0m\u001b[32m语言展现它们之间的\u001b[0m\u001b[32m友谊。根据任务\u001b[0m\u001b[32m要求，我不需要\u001b[0m\u001b[32m使用任何工具，\u001b[0m\u001b[32m因为任务主要是创意\u001b[0m\u001b[32m写作，而不是信息\u001b[0m\u001b[32m查询或数据处理\u001b[0m\u001b[32m。因此，我可以\u001b[0m\u001b[32m直接进入创作阶段\u001b[0m\u001b[32m，撰写符合要求\u001b[0m\u001b[32m的内容。\n",
      "\n",
      "**最终\u001b[0m\u001b[32m答案**\n",
      "```markdown\u001b[0m\u001b[32m\n",
      "小兔名叫\u001b[0m\u001b[32m白绒绒，\u001b[0m\u001b[32m小鸡名叫黄\u001b[0m\u001b[32m嘟嘟，小\u001b[0m\u001b[32m鸭名叫绿尾巴\u001b[0m\u001b[32m，小羊名叫\u001b[0m\u001b[32m灰卷毛。\u001b[0m\u001b[32m它们每天一起玩耍\u001b[0m\u001b[32m，白绒绒\u001b[0m\u001b[32m蹦蹦跳跳\u001b[0m\u001b[32m，黄嘟嘟\u001b[0m\u001b[32m叽叽喳喳\u001b[0m\u001b[32m，绿尾巴摇\u001b[0m\u001b[32m摇摆摆，\u001b[0m\u001b[32m灰卷毛咩\u001b[0m\u001b[32m咩叫着。\u001b[0m\u001b[32m太阳下山了\u001b[0m\u001b[32m，它们手拉\u001b[0m\u001b[32m手回家，大家\u001b[0m\u001b[32m围在一起讲故事，\u001b[0m\u001b[32m笑声飘满了整个\u001b[0m\u001b[32m草原。\n",
      "```\u001b[0m\u001b[32m\u001b[0m\n",
      "[AGENT] \u001b[34m>>> Node 2: observer\u001b[0m\n",
      "[AGENT] \u001b[34m执行扩写任务 <8069-737-006>：\n",
      "扩写摘要:<br>描述兔子和它的朋友们一起玩耍的快乐场景，增加儿歌的互动性和趣味性。<br><br>扩写要求：<br>- 字数：约200字<br>- 创意要点：具体描述一种或几种游戏，如捉迷藏、跳绳<br>- 创作思路：通过生动的场景描...\u001b[0m\n",
      "[AGENT] \u001b[34m>>> Node 1: planner\u001b[0m\n",
      "\u001b[32m**\u001b[0m\u001b[32m思考\u001b[0m\u001b[32m**\u001b[0m\u001b[32m \n",
      "\n",
      "\u001b[0m\u001b[32m在这个任务中，\u001b[0m\u001b[32m我的目标是根据\u001b[0m\u001b[32m给定的扩\u001b[0m\u001b[32m写要求，创作\u001b[0m\u001b[32m一段关于兔子和\u001b[0m\u001b[32m它的朋友们一起玩耍\u001b[0m\u001b[32m的文字，这段文字\u001b[0m\u001b[32m需要符合儿歌\u001b[0m\u001b[32m的特点，同时具有\u001b[0m\u001b[32m一定的互动性和趣味\u001b[0m\u001b[32m性。任务中\u001b[0m\u001b[32m提到的具体实体包括\u001b[0m\u001b[32m小兔、小\u001b[0m\u001b[32m鸡、小鸭\u001b[0m\u001b[32m、小羊等\u001b[0m\u001b[32m，以及它们参与\u001b[0m\u001b[32m的游戏活动如捉\u001b[0m\u001b[32m迷藏、跳\u001b[0m\u001b[32m绳等。基于\u001b[0m\u001b[32m这些信息，我可以\u001b[0m\u001b[32m直接开始创作，\u001b[0m\u001b[32m无需使用任何工具\u001b[0m\u001b[32m辅助。\n",
      "\n",
      "**行动\u001b[0m\u001b[32m** \n",
      "\n",
      "根据给\u001b[0m\u001b[32m定的扩写\u001b[0m\u001b[32m要求，我将\u001b[0m\u001b[32m创作一段描述兔子\u001b[0m\u001b[32m和它的朋友们一起\u001b[0m\u001b[32m玩耍的文字，确保\u001b[0m\u001b[32m满足字数、\u001b[0m\u001b[32m创意要点、创作\u001b[0m\u001b[32m思路等要求。\n",
      "\n",
      "\u001b[0m\u001b[32m**最终答案**\n",
      "\n",
      "\u001b[0m\u001b[32m```markdown\n",
      "小\u001b[0m\u001b[32m兔和朋友们手\u001b[0m\u001b[32m拉手，来到\u001b[0m\u001b[32m绿油油的\u001b[0m\u001b[32m草地中央，阳光\u001b[0m\u001b[32m洒满每个角落\u001b[0m\u001b[32m，快乐的气息弥漫\u001b[0m\u001b[32m四周。小鸡\u001b[0m\u001b[32m叽叽喳喳\u001b[0m\u001b[32m地提议：“我们\u001b[0m\u001b[32m来玩捉迷\u001b[0m\u001b[32m藏吧！”小\u001b[0m\u001b[32m鸭嘎嘎笑着\u001b[0m\u001b[32m点头，小羊\u001b[0m\u001b[32m也咩咩表示\u001b[0m\u001b[32m赞同。小兔\u001b[0m\u001b[32m闭上眼睛数\u001b[0m\u001b[32m数，其他小伙伴\u001b[0m\u001b[32m四散开去\u001b[0m\u001b[32m寻找藏身之处\u001b[0m\u001b[32m。小鸡躲\u001b[0m\u001b[32m进了草丛里\u001b[0m\u001b[32m，小鸭藏\u001b[0m\u001b[32m在了树后\u001b[0m\u001b[32m，小羊则\u001b[0m\u001b[32m悄悄溜到了石头\u001b[0m\u001b[32m后面。小兔\u001b[0m\u001b[32m数完数，\u001b[0m\u001b[32m开始寻找它的朋友们\u001b[0m\u001b[32m。每找到一个\u001b[0m\u001b[32m，大家都会发出\u001b[0m\u001b[32m欢快的笑声。\u001b[0m\u001b[32m接着，他们又\u001b[0m\u001b[32m围成一圈，\u001b[0m\u001b[32m拿出一条长长的绳\u001b[0m\u001b[32m子，开始了跳\u001b[0m\u001b[32m绳游戏。小\u001b[0m\u001b[32m兔灵活地跳跃\u001b[0m\u001b[32m着，小鸡\u001b[0m\u001b[32m、小鸭和\u001b[0m\u001b[32m小羊轮流尝试\u001b[0m\u001b[32m，每一次成功跳\u001b[0m\u001b[32m过都会引来一阵\u001b[0m\u001b[32m欢呼。这一天，\u001b[0m\u001b[32m小兔和它的\u001b[0m\u001b[32m朋友们度过了无比\u001b[0m\u001b[32m快乐的一天。\n",
      "\u001b[0m\u001b[32m```\u001b[0m\u001b[32m\u001b[0m\n",
      "[AGENT] \u001b[34m>>> Node 2: observer\u001b[0m\n"
     ]
    },
    {
     "data": {
      "text/plain": [
       "'\\n# 兔子的儿歌\\n\\n## 一、兔子的朋友\\n\\n小兔名叫白绒绒，小鸡名叫黄嘟嘟，小鸭名叫绿尾巴，小羊名叫灰卷毛。它们每天一起玩耍，白绒绒蹦蹦跳跳，黄嘟嘟叽叽喳喳，绿尾巴摇摇摆摆，灰卷毛咩咩叫着。太阳下山了，它们手拉手回家，大家围在一起讲故事，笑声飘满了整个草原。\\n\\n## 二、和朋友们一起玩\\n\\n小兔和朋友们手拉手，来到绿油油的草地中央，阳光洒满每个角落，快乐的气息弥漫四周。小鸡叽叽喳喳地提议：“我们来玩捉迷藏吧！”小鸭嘎嘎笑着点头，小羊也咩咩表示赞同。小兔闭上眼睛数数，其他小伙伴四散开去寻找藏身之处。小鸡躲进了草丛里，小鸭藏在了树后，小羊则悄悄溜到了石头后面。小兔数完数，开始寻找它的朋友们。每找到一个，大家都会发出欢快的笑声。接着，他们又围成一圈，拿出一条长长的绳子，开始了跳绳游戏。小兔灵活地跳跃着，小鸡、小鸭和小羊轮流尝试，每一次成功跳过都会引来一阵欢呼。这一天，小兔和它的朋友们度过了无比快乐的一天。\\n\\n'"
      ]
     },
     "execution_count": 1,
     "metadata": {},
     "output_type": "execute_result"
    }
   ],
   "source": [
    "outline = \"\"\"\n",
    "# 兔子的儿歌\n",
    "## 一、兔子的朋友\n",
    "<OUTLINE>\n",
    "扩写摘要:\n",
    "介绍兔子拥有的好朋友，通过欢快的节奏展现它们之间的友谊。\n",
    "\n",
    "扩写要求：\n",
    "- 字数：约200字\n",
    "- 创意要点：提到至少三种不同的动物朋友，如小鸡、小鸭、小羊，为每个动物起一个好名字\n",
    "- 创作思路：用简单易懂的语言，让小朋友容易理解和记忆\n",
    "- 实体名称：小兔、小鸡、小鸭、小羊\n",
    "</OUTLINE>\n",
    "\n",
    "## 二、和朋友们一起玩\n",
    "<OUTLINE>\n",
    "扩写摘要:\n",
    "描述兔子和它的朋友们一起玩耍的快乐场景，增加儿歌的互动性和趣味性。\n",
    "\n",
    "扩写要求：\n",
    "- 字数：约200字\n",
    "- 创意要点：具体描述一种或几种游戏，如捉迷藏、跳绳\n",
    "- 创作思路：通过生动的场景描写，激发小朋友的想象力\n",
    "- 实体名称：小兔、小鸡、小鸭、小羊、捉迷藏、跳绳\n",
    "</OUTLINE>\n",
    "\"\"\"\n",
    "\n",
    "from illufly.chat import ChatQwen\n",
    "from illufly.flow import FromOutline, ReAct\n",
    "from illufly.types import PromptTemplate\n",
    "\n",
    "naming = ChatQwen(name=\"起名专家\", description=\"我擅长给小动物起名字,起名字的事情必须找我\")\n",
    "\n",
    "from_outline = FromOutline(ReAct(ChatQwen(name=\"小作家\", tools=[naming])))\n",
    "from_outline(outline, verbose=False)"
   ]
  },
  {
   "cell_type": "code",
   "execution_count": 2,
   "id": "72bda708-3d6e-45a1-aee0-fe58a0144fde",
   "metadata": {},
   "outputs": [
    {
     "name": "stdout",
     "output_type": "stream",
     "text": [
      "\n",
      "# 兔子的儿歌\n",
      "\n",
      "## 一、兔子的朋友\n",
      "\n",
      "小兔名叫白绒绒，小鸡名叫黄嘟嘟，小鸭名叫绿尾巴，小羊名叫灰卷毛。它们每天一起玩耍，白绒绒蹦蹦跳跳，黄嘟嘟叽叽喳喳，绿尾巴摇摇摆摆，灰卷毛咩咩叫着。太阳下山了，它们手拉手回家，大家围在一起讲故事，笑声飘满了整个草原。\n",
      "\n",
      "## 二、和朋友们一起玩\n",
      "\n",
      "小兔和朋友们手拉手，来到绿油油的草地中央，阳光洒满每个角落，快乐的气息弥漫四周。小鸡叽叽喳喳地提议：“我们来玩捉迷藏吧！”小鸭嘎嘎笑着点头，小羊也咩咩表示赞同。小兔闭上眼睛数数，其他小伙伴四散开去寻找藏身之处。小鸡躲进了草丛里，小鸭藏在了树后，小羊则悄悄溜到了石头后面。小兔数完数，开始寻找它的朋友们。每找到一个，大家都会发出欢快的笑声。接着，他们又围成一圈，拿出一条长长的绳子，开始了跳绳游戏。小兔灵活地跳跃着，小鸡、小鸭和小羊轮流尝试，每一次成功跳过都会引来一阵欢呼。这一天，小兔和它的朋友们度过了无比快乐的一天。\n",
      "\n",
      "\n"
     ]
    }
   ],
   "source": [
    "print(from_outline.last_output)"
   ]
  },
  {
   "cell_type": "code",
   "execution_count": null,
   "id": "b87f0270-f4e4-4d92-b5a7-64fe4b778f4f",
   "metadata": {},
   "outputs": [],
   "source": []
  }
 ],
 "metadata": {
  "kernelspec": {
   "display_name": "same_to_illufly",
   "language": "python",
   "name": "same_to_illufly"
  },
  "language_info": {
   "codemirror_mode": {
    "name": "ipython",
    "version": 3
   },
   "file_extension": ".py",
   "mimetype": "text/x-python",
   "name": "python",
   "nbconvert_exporter": "python",
   "pygments_lexer": "ipython3",
   "version": "3.10.0"
  }
 },
 "nbformat": 4,
 "nbformat_minor": 5
}
