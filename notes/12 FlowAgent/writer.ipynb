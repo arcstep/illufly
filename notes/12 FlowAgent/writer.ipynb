{
 "cells": [
  {
   "cell_type": "markdown",
   "id": "03b0eeaa-3935-4db0-9456-0496a2997da8",
   "metadata": {},
   "source": [
    "## 写作提示语模板"
   ]
  },
  {
   "cell_type": "code",
   "execution_count": 20,
   "id": "2129c241-f37d-4e69-9af4-9db90f0b54fb",
   "metadata": {},
   "outputs": [],
   "source": [
    "from illufly.hub import load_template, load_resource_template"
   ]
  },
  {
   "cell_type": "markdown",
   "id": "49b4bbf5-2c71-41dc-854b-8acb7e0f5f3a",
   "metadata": {},
   "source": [
    "### 加载对话模板的资源\n",
    "\n",
    "指定资源库中的模板ID即可加载模板。"
   ]
  },
  {
   "cell_type": "code",
   "execution_count": 21,
   "id": "2146cdb2-c2c8-4409-a808-d47989e00959",
   "metadata": {},
   "outputs": [
    {
     "data": {
      "text/plain": [
       "PromptTemplate(input_variables=['task'], template='你是强大的写作助手。\\n\\n你必须遵循以下约束来完成任务:\\n1. 直接输出你的结果，不要评论，不要啰嗦\\n2. 使用markdown格式输出\\n\\n**你的任务是:**\\n{{task}}\\n', template_format='mustache')"
      ]
     },
     "execution_count": 21,
     "metadata": {},
     "output_type": "execute_result"
    }
   ],
   "source": [
    "load_template(\"IDEA\")"
   ]
  },
  {
   "cell_type": "code",
   "execution_count": 22,
   "id": "1336f88f-be74-4cb0-9bcf-00d1445e57c2",
   "metadata": {},
   "outputs": [
    {
     "data": {
      "text/plain": [
       "PromptTemplate(input_variables=['task'], template='你是强大的写作助手。\\n\\n你必须遵循以下约束来完成任务:\\n1. 直接输出你的结果，不要评论，不要啰嗦\\n2. 使用markdown格式输出\\n3. 请按照需要输出一份写作提纲\\n4. 提纲的构成应当由多个阔系额要求构成\\n5. 扩写要求必须包含清晰描述，如预估字数、创意要点、创作思路、创作中涉及到的实体名称等\\n5. 每一个扩写要求由完整的 `<OUTLINE>`和`</OUTLINE>` 包裹\\n6. 你只能输出提纲，不要输出具体的扩写内容\\n\\n**你的任务是:**\\n{{task}}\\n\\n\\n**输出例子1**\\n```\\n# 第一章 标题1\\n## 一、XXXX\\n<OUTLINE>\\n扩写摘要:\\n对扩写内容做摘要总结\\n\\n扩写要求：\\n- xxx\\n- xxx\\n</OUTLINE>\\n\\n## 二、XXXX\\n<OUTLINE>\\n</OUTLINE>\\n\\n## （更多扩写提纲）\\n```\\n\\n', template_format='mustache')"
      ]
     },
     "execution_count": 22,
     "metadata": {},
     "output_type": "execute_result"
    }
   ],
   "source": [
    "load_template(\"OUTLINE\")"
   ]
  },
  {
   "cell_type": "markdown",
   "id": "a898fcb1-5fd3-4995-ba78-23b8baea732e",
   "metadata": {},
   "source": [
    "### 查看构造出的提示语模板"
   ]
  },
  {
   "cell_type": "code",
   "execution_count": 20,
   "id": "048ccd06-f1e0-4643-8b02-dd83f34b5436",
   "metadata": {},
   "outputs": [
    {
     "name": "stdout",
     "output_type": "stream",
     "text": [
      "你是强大的写作助手。\n",
      "\n",
      "你必须遵循以下约束来完成任务:\n",
      "1. 直接输出你的结果，不要评论，不要啰嗦\n",
      "2. 使用markdown格式输出\n",
      "3. 请按照需要输出一份写作提纲\n",
      "4. 提纲的构成应当由多个阔系额要求构成\n",
      "5. 扩写要求必须包含清晰描述，如预估字数、创意要点、创作思路、创作中涉及到的实体名称等\n",
      "5. 每一个扩写要求由完整的 `<OUTLINE>`和`</OUTLINE>` 包裹\n",
      "6. 你只能输出提纲，不要输出具体的扩写内容\n",
      "\n",
      "**你的任务是:**\n",
      "请帮我写一首歌\n",
      "\n",
      "\n",
      "**输出例子1**\n",
      "```\n",
      "# 第一章 标题1\n",
      "## 一、XXXX\n",
      "<OUTLINE>\n",
      "扩写摘要:\n",
      "对扩写内容做摘要总结\n",
      "\n",
      "扩写要求：\n",
      "- xxx\n",
      "- xxx\n",
      "</OUTLINE>\n",
      "\n",
      "## 二、XXXX\n",
      "<OUTLINE>\n",
      "</OUTLINE>\n",
      "\n",
      "## （更多扩写提纲）\n",
      "```\n",
      "\n",
      "\n"
     ]
    }
   ],
   "source": [
    "print(load_template(\"OUTLINE\").format(task=\"请帮我写一首歌\"))"
   ]
  },
  {
   "cell_type": "markdown",
   "id": "e39c0064-4fd2-43ad-9b08-be05d9b0493d",
   "metadata": {},
   "source": [
    "### 单轮写作"
   ]
  },
  {
   "cell_type": "code",
   "execution_count": 23,
   "id": "36a03ed6-3643-4e96-8815-8634c88176a0",
   "metadata": {},
   "outputs": [],
   "source": [
    "from illufly.llm import qwen, fake_llm\n",
    "from illufly.agent import Agent\n",
    "from illufly.io import log, alog\n",
    "\n",
    "a = Agent(qwen)"
   ]
  },
  {
   "cell_type": "code",
   "execution_count": 24,
   "id": "97734a29-0ec3-4693-b8f6-d829c2121ba5",
   "metadata": {},
   "outputs": [
    {
     "name": "stdout",
     "output_type": "stream",
     "text": [
      "\u001b[32m小白\u001b[0m\u001b[32m兔\u001b[0m\u001b[32m白\u001b[0m\u001b[32m又白，  \n",
      "耳朵\u001b[0m\u001b[32m长长跳得欢。  \n",
      "爱吃萝卜\u001b[0m\u001b[32m和青菜，  \n",
      "蹦蹦跳\u001b[0m\u001b[32m跳真可爱。\u001b[0m\u001b[32m\u001b[0m\n",
      "\n",
      "[END] \u001b[34m【内容由幻蝶AI生成，其观点仅代表创作者个人立场，可登录 http://www.illufly.com 查验其校验码 75971425】\u001b[0m\n"
     ]
    },
    {
     "data": {
      "text/plain": [
       "'小白兔白又白，  \\n耳朵长长跳得欢。  \\n爱吃萝卜和青菜，  \\n蹦蹦跳跳真可爱。'"
      ]
     },
     "execution_count": 24,
     "metadata": {},
     "output_type": "execute_result"
    }
   ],
   "source": [
    "log(a.write(\"帮我写一首关于兔子的四句儿歌\", template=\"IDEA\"))"
   ]
  },
  {
   "cell_type": "code",
   "execution_count": 25,
   "id": "0fbaf652-5249-4084-bd4b-dce092873c62",
   "metadata": {},
   "outputs": [
    {
     "name": "stdout",
     "output_type": "stream",
     "text": [
      "\u001b[32m``\u001b[0m\u001b[32m`\u001b[0m\u001b[32m\n",
      "小白\u001b[0m\u001b[32m兔白又白，\u001b[0m\u001b[32m\n",
      "耳朵长长跳得快，\n",
      "爱吃萝卜\u001b[0m\u001b[32m和青菜，\n",
      "蹦蹦跳跳\u001b[0m\u001b[32m真可爱。\n",
      "```\u001b[0m\u001b[32m\u001b[0m\n",
      "\n",
      "[END] \u001b[34m【内容由幻蝶AI生成，其观点仅代表创作者个人立场，可登录 http://www.illufly.com 查验其校验码 79679940】\u001b[0m\n"
     ]
    },
    {
     "data": {
      "text/plain": [
       "'```\\n小白兔白又白，\\n耳朵长长跳得快，\\n爱吃萝卜和青菜，\\n蹦蹦跳跳真可爱。\\n```'"
      ]
     },
     "execution_count": 25,
     "metadata": {},
     "output_type": "execute_result"
    }
   ],
   "source": [
    "await alog(a.awrite(\"帮我写一首关于兔子的四句儿歌\", template=\"IDEA\"))"
   ]
  },
  {
   "cell_type": "code",
   "execution_count": 23,
   "id": "2798dead-c009-4553-bf56-d8f48299709d",
   "metadata": {},
   "outputs": [
    {
     "name": "stdout",
     "output_type": "stream",
     "text": [
      "[INFO] \u001b[34msystem: 你是强大的写作助手。\n",
      "\n",
      "你必须遵循以下约束来完成任务:\n",
      "1. 直接输出你的结果，不要评论，不要啰嗦\n",
      "2. 使用markdown格式输出\n",
      "\n",
      "**你的任务是:**\n",
      "帮我写一首关于兔子的四句儿歌\n",
      "\u001b[0m\n",
      "[INFO] \u001b[34muser: 请开始\u001b[0m\n",
      "[INFO] \u001b[34massistant: 小白兔白又白，  \n",
      "耳朵长长跳得欢。  \n",
      "爱吃萝卜和青菜，  \n",
      "蹦蹦跳跳真可爱。\u001b[0m\n",
      "[INFO] \u001b[34muser: 它喜欢吃什么？\u001b[0m\n",
      "\u001b[32m这\u001b[0m\u001b[32m是\u001b[0m\u001b[32m一个\u001b[0m\u001b[32m模拟\u001b[0m\u001b[32m调用\u001b[0m\u001b[32m!\u001b[0m\n",
      "\n",
      "[END] \u001b[34m【内容由幻蝶AI生成，其观点仅代表创作者个人立场，可登录 http://www.illufly.com 查验其校验码 88267255】\u001b[0m\n"
     ]
    },
    {
     "data": {
      "text/plain": [
       "'这是一个模拟调用!'"
      ]
     },
     "execution_count": 23,
     "metadata": {},
     "output_type": "execute_result"
    }
   ],
   "source": [
    "log(d.chat(\"它喜欢吃什么？\", k=1, llm=fake_llm))"
   ]
  },
  {
   "cell_type": "code",
   "execution_count": 26,
   "id": "e73c8fd1-8f39-403b-821b-ff902f9da2b1",
   "metadata": {},
   "outputs": [
    {
     "name": "stdout",
     "output_type": "stream",
     "text": [
      "[INFO] \u001b[34m没有提纲可供扩写\u001b[0m\n"
     ]
    },
    {
     "data": {
      "text/plain": [
       "''"
      ]
     },
     "execution_count": 26,
     "metadata": {},
     "output_type": "execute_result"
    }
   ],
   "source": [
    "await alog(a.afrom_outline())"
   ]
  },
  {
   "cell_type": "code",
   "execution_count": 25,
   "id": "f9dcdb8c-b2b8-42cd-8531-0295e9daf164",
   "metadata": {},
   "outputs": [
    {
     "data": {
      "text/plain": [
       "[{'role': 'system',\n",
       "  'content': '你是强大的写作助手。\\n\\n你必须遵循以下约束来完成任务:\\n1. 直接输出你的结果，不要评论，不要啰嗦\\n2. 使用markdown格式输出\\n\\n**你的任务是:**\\n帮我写一首关于兔子的四句儿歌\\n'},\n",
       " {'role': 'user', 'content': '请开始'},\n",
       " {'role': 'assistant',\n",
       "  'content': '小白兔白又白，  \\n耳朵长长跳得欢。  \\n爱吃萝卜和青菜，  \\n蹦蹦跳跳真可爱。'},\n",
       " {'role': 'user', 'content': '它喜欢吃什么？'},\n",
       " {'role': 'assistant', 'content': '这是一个模拟调用!'}]"
      ]
     },
     "execution_count": 25,
     "metadata": {},
     "output_type": "execute_result"
    }
   ],
   "source": [
    "d.messages"
   ]
  },
  {
   "cell_type": "markdown",
   "id": "e97bb3b6-3fd2-4da2-9ebe-b81fe9de0fa3",
   "metadata": {},
   "source": [
    "### 单轮写作 + 回调工具"
   ]
  },
  {
   "cell_type": "code",
   "execution_count": 27,
   "id": "c786f72c-aecb-4beb-9bc2-cd2737342a75",
   "metadata": {},
   "outputs": [
    {
     "name": "stdout",
     "output_type": "stream",
     "text": [
      "[TOOLS_CALL_CHUNK] \u001b[32m{\"index\": 0, \"id\": \"call_074c0f36ad64405ea2c391\", \"type\": \"function\", \"function\": {\"name\": \"get_current_weather\", \"arguments\": \"\"}}\u001b[0m\n",
      "[TOOLS_CALL_CHUNK] \u001b[32m{\"index\": 0, \"id\": \"\", \"type\": \"function\", \"function\": {\"arguments\": \"{\\\"location\\\": \\\"\"}}\u001b[0m\n",
      "[TOOLS_CALL_CHUNK] \u001b[32m{\"index\": 0, \"id\": \"\", \"type\": \"function\", \"function\": {\"arguments\": \"广州\\\"}\"}}\u001b[0m\n",
      "[TOOLS_CALL_CHUNK] \u001b[32m{\"index\": 0, \"id\": \"\", \"type\": \"function\", \"function\": {}}\u001b[0m\n",
      "[TOOLS_CALL_FINAL] \u001b[36m{\"0\": {\"index\": 0, \"id\": \"call_074c0f36ad64405ea2c391\", \"type\": \"function\", \"function\": {\"name\": \"get_current_weather\", \"arguments\": \"{\\\"location\\\": \\\"广州\\\"}\"}}}\u001b[0m\n",
      "\u001b[32m广\u001b[0m\u001b[32m州\u001b[0m\u001b[32m今\u001b[0m\u001b[32m天\u001b[0m\u001b[32m下\u001b[0m\u001b[32m大\u001b[0m\u001b[32m雨\u001b[0m\u001b[32m。\u001b[0m\u001b[32m \u001b[0m\n",
      "\n",
      "\u001b[32m雨\u001b[0m\u001b[32m幕\u001b[0m\u001b[32m笼羊城，水\u001b[0m\u001b[32m珠轻敲窗。\n",
      "街巷人\u001b[0m\u001b[32m匆匆，伞下各怀想。\u001b[0m\u001b[32m\u001b[0m\u001b[32m\u001b[0m\n",
      "\n",
      "[END] \u001b[34m【内容由幻蝶AI生成，其观点仅代表创作者个人立场，可登录 http://www.illufly.com 查验其校验码 9107250】\u001b[0m\n"
     ]
    },
    {
     "data": {
      "text/plain": [
       "'雨幕笼羊城，水珠轻敲窗。\\n街巷人匆匆，伞下各怀想。'"
      ]
     },
     "execution_count": 27,
     "metadata": {},
     "output_type": "execute_result"
    }
   ],
   "source": [
    "from illufly.tools import tool, convert_to_openai_tool\n",
    "from illufly.llm import qwen\n",
    "from illufly.agent import Agent\n",
    "from illufly.io import log\n",
    "import json\n",
    "\n",
    "@tool\n",
    "def get_current_weather(location: str):\n",
    "    \"\"\"获取城市的天气情况\"\"\"\n",
    "    return f\"{location}今天下大雨。 \"\n",
    "\n",
    "a = Agent(qwen, tools=[convert_to_openai_tool(get_current_weather)], toolkits=[get_current_weather])\n",
    "log(a.write({\"task\": \"根据广州今天的天气写一首4句歌词\"}, template=\"IDEA\"))"
   ]
  },
  {
   "cell_type": "code",
   "execution_count": 28,
   "id": "46a17a0f-fbbe-4ba1-a5d4-6e5488f608c0",
   "metadata": {},
   "outputs": [
    {
     "data": {
      "text/plain": [
       "'雨幕笼羊城，水珠轻敲窗。\\n街巷人匆匆，伞下各怀想。\\n\\n'"
      ]
     },
     "execution_count": 28,
     "metadata": {},
     "output_type": "execute_result"
    }
   ],
   "source": [
    "a.output"
   ]
  },
  {
   "cell_type": "markdown",
   "id": "4537a00f-ddc7-4d05-94eb-33538b96fa6b",
   "metadata": {},
   "source": [
    "### 单轮写作 + 多轮对话"
   ]
  },
  {
   "cell_type": "code",
   "execution_count": 30,
   "id": "b4ba1923-b1d1-458e-bbb6-54f66802a82a",
   "metadata": {},
   "outputs": [
    {
     "name": "stdout",
     "output_type": "stream",
     "text": [
      "\u001b[32m雨\u001b[0m\u001b[32m帘\u001b[0m\u001b[32m密\u001b[0m\u001b[32m织粤空中，羊\u001b[0m\u001b[32m城笼罩在蒙胧。\n",
      "大街小\u001b[0m\u001b[32m巷涟漪起，步伐加快躲\u001b[0m\u001b[32m雨中。\n",
      "伞花朵朵色彩艳\u001b[0m\u001b[32m，擦肩而过是缘逢\u001b[0m\u001b[32m。\n",
      "水滴落在老石板，\u001b[0m\u001b[32m古韵新声共和鸣。\n",
      "天\u001b[0m\u001b[32m际灰蒙待放晴，静\u001b[0m\u001b[32m候阳光笑颜生。\n",
      "今朝\u001b[0m\u001b[32m雨中情更切，明朝晴\u001b[0m\u001b[32m日照珠江。\u001b[0m\u001b[32m\u001b[0m\n",
      "\n",
      "[END] \u001b[34m【内容由幻蝶AI生成，其观点仅代表创作者个人立场，可登录 http://www.illufly.com 查验其校验码 96226455】\u001b[0m\n"
     ]
    },
    {
     "data": {
      "text/plain": [
       "'雨帘密织粤空中，羊城笼罩在蒙胧。\\n大街小巷涟漪起，步伐加快躲雨中。\\n伞花朵朵色彩艳，擦肩而过是缘逢。\\n水滴落在老石板，古韵新声共和鸣。\\n天际灰蒙待放晴，静候阳光笑颜生。\\n今朝雨中情更切，明朝晴日照珠江。'"
      ]
     },
     "execution_count": 30,
     "metadata": {},
     "output_type": "execute_result"
    }
   ],
   "source": [
    "log(a.chat(\"改为8句吧\"))"
   ]
  },
  {
   "cell_type": "code",
   "execution_count": 31,
   "id": "6860735f-24fe-4d3d-bf46-413b1b2bb41a",
   "metadata": {},
   "outputs": [
    {
     "data": {
      "text/plain": [
       "[{'role': 'system',\n",
       "  'content': '你是强大的写作助手。\\n\\n你必须遵循以下约束来完成任务:\\n1. 直接输出你的结果，不要评论，不要啰嗦\\n2. 使用markdown格式输出\\n\\n**你的任务是:**\\n根据广州今天的天气写一首4句歌词\\n'},\n",
       " {'role': 'user', 'content': '请开始'},\n",
       " {'role': 'assistant',\n",
       "  'content': '',\n",
       "  'tool_calls': [{'index': 0,\n",
       "    'id': 'call_074c0f36ad64405ea2c391',\n",
       "    'type': 'function',\n",
       "    'function': {'name': 'get_current_weather',\n",
       "     'arguments': '{\"location\": \"广州\"}'}}]},\n",
       " {'role': 'tool', 'name': 'get_current_weather', 'content': '广州今天下大雨。 '},\n",
       " {'role': 'assistant', 'content': '雨幕笼羊城，水珠轻敲窗。\\n街巷人匆匆，伞下各怀想。'},\n",
       " {'role': 'user', 'content': '改为8句吧'},\n",
       " {'role': 'assistant',\n",
       "  'content': '雨帘密织粤空中，羊城笼罩在蒙胧。\\n大街小巷涟漪起，步伐加快躲雨中。\\n伞花朵朵色彩艳，擦肩而过是缘逢。\\n水滴落在老石板，古韵新声共和鸣。\\n天际灰蒙待放晴，静候阳光笑颜生。\\n今朝雨中情更切，明朝晴日照珠江。'}]"
      ]
     },
     "execution_count": 31,
     "metadata": {},
     "output_type": "execute_result"
    }
   ],
   "source": [
    "a.messages"
   ]
  },
  {
   "cell_type": "code",
   "execution_count": 32,
   "id": "6c09d0f2-521e-4c0c-bfbd-276d51c718e3",
   "metadata": {},
   "outputs": [
    {
     "name": "stdout",
     "output_type": "stream",
     "text": [
      "\u001b[32m是\u001b[0m\u001b[32m的\u001b[0m\u001b[32m，\u001b[0m\u001b[32m这首诗采用了近似\u001b[0m\u001b[32m古典的风格与意象，每\u001b[0m\u001b[32m句五言，共八句，\u001b[0m\u001b[32m形成了一个简短的篇幅，\u001b[0m\u001b[32m试图捕捉广州雨天的景象与\u001b[0m\u001b[32m氛围，其中融入了古典诗歌中\u001b[0m\u001b[32m常见的自然景观描绘及人文情感的\u001b[0m\u001b[32m抒发。\u001b[0m\u001b[32m\u001b[0m\n",
      "\n",
      "[END] \u001b[34m【内容由幻蝶AI生成，其观点仅代表创作者个人立场，可登录 http://www.illufly.com 查验其校验码 21568440】\u001b[0m\n"
     ]
    },
    {
     "data": {
      "text/plain": [
       "'是的，这首诗采用了近似古典的风格与意象，每句五言，共八句，形成了一个简短的篇幅，试图捕捉广州雨天的景象与氛围，其中融入了古典诗歌中常见的自然景观描绘及人文情感的抒发。'"
      ]
     },
     "execution_count": 32,
     "metadata": {},
     "output_type": "execute_result"
    }
   ],
   "source": [
    "log(a.chat(\"这是古典诗歌吗？\", llm=qwen, k=1))"
   ]
  },
  {
   "cell_type": "markdown",
   "id": "c86b524c-e504-42b8-a84c-e31e5e8c5a66",
   "metadata": {},
   "source": [
    "### 提纲 + 扩写"
   ]
  },
  {
   "cell_type": "code",
   "execution_count": 33,
   "id": "9b0503f8-04d2-489c-8c7e-876a43110f2b",
   "metadata": {},
   "outputs": [],
   "source": [
    "from illufly.llm import qwen, fake_llm\n",
    "from illufly.agent import Agent\n",
    "from illufly.io import log, alog\n",
    "\n",
    "a = Agent(qwen)"
   ]
  },
  {
   "cell_type": "code",
   "execution_count": 34,
   "id": "7758c26c-56bb-4a23-be67-94bb7bb2e3a2",
   "metadata": {},
   "outputs": [
    {
     "name": "stdout",
     "output_type": "stream",
     "text": [
      "\u001b[32m#\u001b[0m\u001b[32m\u001b[0m\u001b[32m 兔\u001b[0m\u001b[32m子的欢乐朋友歌\u001b[0m\u001b[32m\n",
      "\n",
      "## 第一段：兔子的朋友圈\u001b[0m\u001b[32m\n",
      "<OUTLINE>\n",
      "扩写摘要\u001b[0m\u001b[32m:\n",
      "介绍兔子在森林中的几位好朋友\u001b[0m\u001b[32m，强调友谊的多彩与温馨。\u001b[0m\u001b[32m\n",
      "\n",
      "扩写要求：\n",
      "- 预\u001b[0m\u001b[32m估字数：30字\u001b[0m\u001b[32m\n",
      "- 创意要点：提及三种\u001b[0m\u001b[32m不同类型的动物作为兔子的朋友，如\u001b[0m\u001b[32m慢吞吞的乌龟、活泼\u001b[0m\u001b[32m的松鼠、智慧的猫头\u001b[0m\u001b[32m鹰。\n",
      "- 创作思路：\u001b[0m\u001b[32m通过生动形象的描绘，展现每\u001b[0m\u001b[32m种动物的特点，营造一个和谐共\u001b[0m\u001b[32m处的自然环境。\n",
      "- 实体\u001b[0m\u001b[32m名称：兔子、乌龟、松\u001b[0m\u001b[32m鼠、猫头鹰\n",
      "</OUT\u001b[0m\u001b[32mLINE>\n",
      "\n",
      "## 第二段：快乐\u001b[0m\u001b[32m的游玩时光\n",
      "<OUTLINE>\u001b[0m\u001b[32m\n",
      "扩写摘要:\n",
      "描述兔子与它的\u001b[0m\u001b[32m朋友们一起游戏的场景，突出团结\u001b[0m\u001b[32m与乐趣。\n",
      "\n",
      "扩写要求：\n",
      "-\u001b[0m\u001b[32m 预估字数：3\u001b[0m\u001b[32m0字\n",
      "- 创意要点\u001b[0m\u001b[32m：兔子与乌龟赛跑却\u001b[0m\u001b[32m故意落后共享欢笑；与松\u001b[0m\u001b[32m鼠一起跳跃收集松果；听\u001b[0m\u001b[32m猫头鹰讲睡前故事。\n",
      "-\u001b[0m\u001b[32m 创作思路：通过具体的游戏\u001b[0m\u001b[32m活动，体现友情的加深和不同\u001b[0m\u001b[32m性格间的互补，营造一个充满童\u001b[0m\u001b[32m趣和想象力的世界。\n",
      "- 实体\u001b[0m\u001b[32m名称：兔子、乌龟、松\u001b[0m\u001b[32m鼠、猫头鹰\n",
      "</OUT\u001b[0m\u001b[32mLINE>\u001b[0m\u001b[32m\u001b[0m\n",
      "\n",
      "[END] \u001b[34m【内容由幻蝶AI生成，其观点仅代表创作者个人立场，可登录 http://www.illufly.com 查验其校验码 25235368】\u001b[0m\n"
     ]
    },
    {
     "data": {
      "text/plain": [
       "'# 兔子的欢乐朋友歌\\n\\n## 第一段：兔子的朋友圈\\n<OUTLINE>\\n扩写摘要:\\n介绍兔子在森林中的几位好朋友，强调友谊的多彩与温馨。\\n\\n扩写要求：\\n- 预估字数：30字\\n- 创意要点：提及三种不同类型的动物作为兔子的朋友，如慢吞吞的乌龟、活泼的松鼠、智慧的猫头鹰。\\n- 创作思路：通过生动形象的描绘，展现每种动物的特点，营造一个和谐共处的自然环境。\\n- 实体名称：兔子、乌龟、松鼠、猫头鹰\\n</OUTLINE>\\n\\n## 第二段：快乐的游玩时光\\n<OUTLINE>\\n扩写摘要:\\n描述兔子与它的朋友们一起游戏的场景，突出团结与乐趣。\\n\\n扩写要求：\\n- 预估字数：30字\\n- 创意要点：兔子与乌龟赛跑却故意落后共享欢笑；与松鼠一起跳跃收集松果；听猫头鹰讲睡前故事。\\n- 创作思路：通过具体的游戏活动，体现友情的加深和不同性格间的互补，营造一个充满童趣和想象力的世界。\\n- 实体名称：兔子、乌龟、松鼠、猫头鹰\\n</OUTLINE>'"
      ]
     },
     "execution_count": 34,
     "metadata": {},
     "output_type": "execute_result"
    }
   ],
   "source": [
    "await alog(a.awrite({\n",
    "    \"task\": \"帮我写一首关于兔子的儿歌，两段即可，第一段些兔子有哪些朋友，第二段些和朋友们一起玩（要求提到具体的朋友）\"\n",
    "}))"
   ]
  },
  {
   "cell_type": "code",
   "execution_count": 35,
   "id": "a4d71a4c-7d16-4a21-b279-630ac780b6c0",
   "metadata": {},
   "outputs": [
    {
     "name": "stdout",
     "output_type": "stream",
     "text": [
      "7893-658-000\n",
      "7893-256-001\n",
      "7893-014-002\n",
      "7893-190-003\n",
      "7893-516-004\n",
      "7893-411-005\n",
      "7893-652-006\n"
     ]
    }
   ],
   "source": [
    "for doc in a.state.markdown.documents:\n",
    "    print(doc.metadata['id'])"
   ]
  },
  {
   "cell_type": "code",
   "execution_count": 7,
   "id": "d44819d3-f5d6-4992-8e50-6b2ac4d4125a",
   "metadata": {},
   "outputs": [
    {
     "name": "stdout",
     "output_type": "stream",
     "text": [
      "[INFO] \u001b[34m执行扩写任务 <1898-638-002>：\n",
      "扩写摘要:\n",
      "介绍兔子在森林中的几位好朋友，强调友谊的多彩与温馨。\n",
      "\n",
      "扩写要求：\n",
      "- 预估字数：30字\n",
      "- 创意要点：提到至少三种不同的动物作为兔子的朋友，每种动物简要描述其特征或习性，以增加趣味性和教育意义。\n",
      "- 创作思路：通过欢快的节奏，展现一个和谐共处的动物世界，让孩子们感受到友情的美好。\n",
      "- 实体名称：兔子、小鸟（爱唱歌）、小松鼠（爱收集坚果）、小青蛙（跳跳活泼）\u001b[0m\n",
      "\u001b[32m##\u001b[0m\u001b[32m\u001b[0m\u001b[32m 一\u001b[0m\u001b[32m、兔子与它的朋友们\u001b[0m\u001b[32m\n",
      "\n",
      "在葱郁的森林深处，\u001b[0m\u001b[32m兔子拥有一群快乐的伙伴。\u001b[0m\u001b[32m有爱在晨光中唱着\u001b[0m\u001b[32m悦耳歌曲的小鸟，它们的\u001b[0m\u001b[32m旋律总能让森林充满生机；小\u001b[0m\u001b[32m松鼠是位勤劳的坚果收藏\u001b[0m\u001b[32m家，蹦蹦跳跳间，\u001b[0m\u001b[32m为冬天储粮，它那毛\u001b[0m\u001b[32m茸茸的大尾巴，是森林中最\u001b[0m\u001b[32m温暖的风景；还有小青蛙，\u001b[0m\u001b[32m一蹦一跳活泼极了，\u001b[0m\u001b[32m它绿油油的身影在池塘\u001b[0m\u001b[32m边忽隐忽现，讲述着\u001b[0m\u001b[32m勇敢探险的故事。这三两知己\u001b[0m\u001b[32m，让兔子的每一天都充满了色彩\u001b[0m\u001b[32m与欢笑。\u001b[0m\u001b[32m\u001b[0m\n",
      "\n",
      "[END] \u001b[34m【内容由幻蝶AI生成，其观点仅代表创作者个人立场，可登录 http://www.illufly.com 查验其校验码 40107261】\u001b[0m\n",
      "[INFO] \u001b[34m执行扩写任务 <1898-397-005>：\n",
      "扩写摘要:\n",
      "描绘兔子与朋友们一起玩耍的快乐场景，强调游戏的乐趣和团队合作。\n",
      "\n",
      "扩写要求：\n",
      "- 预估字数：30字\n",
      "- 创意要点：描述一个具体的游戏或活动，如“躲猫猫”或“森林接力赛”，展示每个朋友如何利用自己的特长参与其中。\n",
      "- 创作思路：使用富有节奏感的语言，营造出一种活泼、欢快的氛围，同时传达出团结协作的重要性。\n",
      "- 实体名称：兔子（灵活领队）、小鸟（高空侦查）、小松鼠（快速攀爬）、小青蛙（池塘裁判）\u001b[0m\n",
      "\u001b[32m##\u001b[0m\u001b[32m\u001b[0m\u001b[32m 二\u001b[0m\u001b[32m、欢聚同乐\u001b[0m\u001b[32m日\n",
      "\n",
      "阳光洒满林间空\u001b[0m\u001b[32m地，兔子与朋友们开启了“森林\u001b[0m\u001b[32m接力赛”。兔子作为灵活领队\u001b[0m\u001b[32m，灵巧规划路线；小鸟高空\u001b[0m\u001b[32m侦查，指引方向；小松鼠\u001b[0m\u001b[32m在树木间快速攀爬，展示\u001b[0m\u001b[32m非凡技巧；小青蛙则在池\u001b[0m\u001b[32m塘边担任裁判，公正而欢\u001b[0m\u001b[32m腾。它们穿梭于自然之中，\u001b[0m\u001b[32m每一次接力都伴随着笑声与鼓励，\u001b[0m\u001b[32m共同绘制了一幅活力四射的\u001b[0m\u001b[32m友谊画卷。\u001b[0m\u001b[32m\u001b[0m\n",
      "\n",
      "[END] \u001b[34m【内容由幻蝶AI生成，其观点仅代表创作者个人立场，可登录 http://www.illufly.com 查验其校验码 73708393】\u001b[0m\n"
     ]
    },
    {
     "data": {
      "text/plain": [
       "'## 一、兔子与它的朋友们\\n\\n在葱郁的森林深处，兔子拥有一群快乐的伙伴。有爱在晨光中唱着悦耳歌曲的小鸟，它们的旋律总能让森林充满生机；小松鼠是位勤劳的坚果收藏家，蹦蹦跳跳间，为冬天储粮，它那毛茸茸的大尾巴，是森林中最温暖的风景；还有小青蛙，一蹦一跳活泼极了，它绿油油的身影在池塘边忽隐忽现，讲述着勇敢探险的故事。这三两知己，让兔子的每一天都充满了色彩与欢笑。## 二、欢聚同乐日\\n\\n阳光洒满林间空地，兔子与朋友们开启了“森林接力赛”。兔子作为灵活领队，灵巧规划路线；小鸟高空侦查，指引方向；小松鼠在树木间快速攀爬，展示非凡技巧；小青蛙则在池塘边担任裁判，公正而欢腾。它们穿梭于自然之中，每一次接力都伴随着笑声与鼓励，共同绘制了一幅活力四射的友谊画卷。'"
      ]
     },
     "execution_count": 7,
     "metadata": {},
     "output_type": "execute_result"
    }
   ],
   "source": [
    "await alog(a.afrom_outline(llm=qwen))"
   ]
  },
  {
   "cell_type": "code",
   "execution_count": 8,
   "id": "8d29c5c4-cca9-4f8f-b02b-b127e7d107c7",
   "metadata": {},
   "outputs": [
    {
     "data": {
      "text/plain": [
       "{'1898-638-002': [{'role': 'system',\n",
       "   'content': '你是强大的写作助手。\\n\\n你必须遵循以下约束来完成任务:\\n1. 直接输出你的结果，不要评论，不要啰嗦\\n2. 使用markdown格式输出\\n3. 你必须根据已有提纲扩写，不要修改提纲中对扩写的要求和限定，不要额外发挥\\n\\n**已有文字草稿如下:**\\n```markdown\\n# 兔子的欢乐时光\\n\\n## 一、兔子与它的朋友们\\n\\n&lt;&lt;&lt;YOUR_TEXT&gt;&gt;&gt;\\n\\n\\n## 二、欢聚同乐日\\n\\n...\\n\\n```\\n\\n**请你按照如下扩写任务要求生成一段文字，使其适合替换上面文字草稿中`<<<YOUR_TEXT>>>`所在位置:**\\n```markdown\\n扩写摘要:\\n介绍兔子在森林中的几位好朋友，强调友谊的多彩与温馨。\\n\\n扩写要求：\\n- 预估字数：30字\\n- 创意要点：提到至少三种不同的动物作为兔子的朋友，每种动物简要描述其特征或习性，以增加趣味性和教育意义。\\n- 创作思路：通过欢快的节奏，展现一个和谐共处的动物世界，让孩子们感受到友情的美好。\\n- 实体名称：兔子、小鸟（爱唱歌）、小松鼠（爱收集坚果）、小青蛙（跳跳活泼）\\n```\\n'},\n",
       "  {'role': 'user', 'content': '请开始'},\n",
       "  {'role': 'assistant',\n",
       "   'content': '## 一、兔子与它的朋友们\\n\\n在葱郁的森林深处，兔子拥有一群快乐的伙伴。有爱在晨光中唱着悦耳歌曲的小鸟，它们的旋律总能让森林充满生机；小松鼠是位勤劳的坚果收藏家，蹦蹦跳跳间，为冬天储粮，它那毛茸茸的大尾巴，是森林中最温暖的风景；还有小青蛙，一蹦一跳活泼极了，它绿油油的身影在池塘边忽隐忽现，讲述着勇敢探险的故事。这三两知己，让兔子的每一天都充满了色彩与欢笑。'}],\n",
       " '1898-397-005': [{'role': 'system',\n",
       "   'content': '你是强大的写作助手。\\n\\n你必须遵循以下约束来完成任务:\\n1. 直接输出你的结果，不要评论，不要啰嗦\\n2. 使用markdown格式输出\\n3. 你必须根据已有提纲扩写，不要修改提纲中对扩写的要求和限定，不要额外发挥\\n\\n**已有文字草稿如下:**\\n```markdown\\n# 兔子的欢乐时光\\n\\n## 一、兔子与它的朋友们\\n\\n...\\n\\n## 二、欢聚同乐日\\n\\n&lt;&lt;&lt;YOUR_TEXT&gt;&gt;&gt;\\n\\n\\n```\\n\\n**请你按照如下扩写任务要求生成一段文字，使其适合替换上面文字草稿中`<<<YOUR_TEXT>>>`所在位置:**\\n```markdown\\n扩写摘要:\\n描绘兔子与朋友们一起玩耍的快乐场景，强调游戏的乐趣和团队合作。\\n\\n扩写要求：\\n- 预估字数：30字\\n- 创意要点：描述一个具体的游戏或活动，如“躲猫猫”或“森林接力赛”，展示每个朋友如何利用自己的特长参与其中。\\n- 创作思路：使用富有节奏感的语言，营造出一种活泼、欢快的氛围，同时传达出团结协作的重要性。\\n- 实体名称：兔子（灵活领队）、小鸟（高空侦查）、小松鼠（快速攀爬）、小青蛙（池塘裁判）\\n```\\n'},\n",
       "  {'role': 'user', 'content': '请开始'},\n",
       "  {'role': 'assistant',\n",
       "   'content': '## 二、欢聚同乐日\\n\\n阳光洒满林间空地，兔子与朋友们开启了“森林接力赛”。兔子作为灵活领队，灵巧规划路线；小鸟高空侦查，指引方向；小松鼠在树木间快速攀爬，展示非凡技巧；小青蛙则在池塘边担任裁判，公正而欢腾。它们穿梭于自然之中，每一次接力都伴随着笑声与鼓励，共同绘制了一幅活力四射的友谊画卷。'}]}"
      ]
     },
     "execution_count": 8,
     "metadata": {},
     "output_type": "execute_result"
    }
   ],
   "source": [
    "a.state.from_outline"
   ]
  },
  {
   "cell_type": "code",
   "execution_count": 9,
   "id": "b288600b-3526-466d-8b21-f8fac39aaead",
   "metadata": {},
   "outputs": [
    {
     "name": "stdout",
     "output_type": "stream",
     "text": [
      "# 兔子的欢乐时光\n",
      "\n",
      "## 一、兔子与它的朋友们\n",
      "\n",
      "\n",
      "在葱郁的森林深处，兔子拥有一群快乐的伙伴。有爱在晨光中唱着悦耳歌曲的小鸟，它们的旋律总能让森林充满生机；小松鼠是位勤劳的坚果收藏家，蹦蹦跳跳间，为冬天储粮，它那毛茸茸的大尾巴，是森林中最温暖的风景；还有小青蛙，一蹦一跳活泼极了，它绿油油的身影在池塘边忽隐忽现，讲述着勇敢探险的故事。这三两知己，让兔子的每一天都充满了色彩与欢笑。\n",
      "\n",
      "\n",
      "## 二、欢聚同乐日\n",
      "\n",
      "\n",
      "阳光洒满林间空地，兔子与朋友们开启了“森林接力赛”。兔子作为灵活领队，灵巧规划路线；小鸟高空侦查，指引方向；小松鼠在树木间快速攀爬，展示非凡技巧；小青蛙则在池塘边担任裁判，公正而欢腾。它们穿梭于自然之中，每一次接力都伴随着笑声与鼓励，共同绘制了一幅活力四射的友谊画卷。\n",
      "\n",
      "\n"
     ]
    }
   ],
   "source": [
    "print(a.output)"
   ]
  },
  {
   "cell_type": "code",
   "execution_count": null,
   "id": "02d9f6a0-b6b2-4a0e-9986-f4a2c7cfcbe1",
   "metadata": {},
   "outputs": [],
   "source": []
  }
 ],
 "metadata": {
  "kernelspec": {
   "display_name": "textlong-same-ipykernel",
   "language": "python",
   "name": "textlong-same-ipykernel"
  },
  "language_info": {
   "codemirror_mode": {
    "name": "ipython",
    "version": 3
   },
   "file_extension": ".py",
   "mimetype": "text/x-python",
   "name": "python",
   "nbconvert_exporter": "python",
   "pygments_lexer": "ipython3",
   "version": "3.10.0"
  }
 },
 "nbformat": 4,
 "nbformat_minor": 5
}
