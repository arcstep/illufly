{
 "cells": [
  {
   "cell_type": "markdown",
   "id": "54b22e45-e4e3-428a-a7e4-c03cbc5224a0",
   "metadata": {},
   "source": [
    "## 从 ChatAgent 池中临时选择\n",
    "\n",
    "实际上 illufly 实现了 Selector 可以动态选择所有 Runnable 实例。<br>\n",
    "与 Selector 不同的是，ChatPool 动态替换的是不同 ChatAgent 中的 generate 函数，更类似于数据库连接池。"
   ]
  },
  {
   "cell_type": "code",
   "execution_count": 2,
   "id": "a9d64356-8eb4-431e-9ca9-ee497a1246a5",
   "metadata": {},
   "outputs": [
    {
     "name": "stdout",
     "output_type": "stream",
     "text": [
      "[USER] \u001b[34m你是什么模型？\u001b[0m\n",
      "\u001b[32mR\u001b[0m\u001b[32me\u001b[0m\u001b[32mp\u001b[0m\u001b[32ml\u001b[0m\u001b[32my\u001b[0m\u001b[32m \u001b[0m\u001b[32m>\u001b[0m\u001b[32m>\u001b[0m\u001b[32m \u001b[0m\u001b[32m你\u001b[0m\u001b[32m是\u001b[0m\u001b[32m什\u001b[0m\u001b[32m么\u001b[0m\u001b[32m模\u001b[0m\u001b[32m型\u001b[0m\u001b[32m？\u001b[0m\n"
     ]
    },
    {
     "data": {
      "text/plain": [
       "'Reply >> 你是什么模型？'"
      ]
     },
     "execution_count": 2,
     "metadata": {},
     "output_type": "execute_result"
    }
   ],
   "source": [
    "from illufly.chat import FakeLLM, ChatQwen\n",
    "from illufly.flow import ChatPool\n",
    "\n",
    "chat = ChatPool(\n",
    "    FakeLLM(name=\"fake\"),\n",
    "    ChatQwen(name=\"qwen\")\n",
    ")\n",
    "chat(\"你是什么模型？\", select=lambda x: \"fake\")"
   ]
  },
  {
   "cell_type": "code",
   "execution_count": null,
   "id": "7c5382a0-fa1d-43af-a7a9-d23acd76b800",
   "metadata": {},
   "outputs": [],
   "source": []
  }
 ],
 "metadata": {
  "kernelspec": {
   "display_name": "textlong-same-ipykernel",
   "language": "python",
   "name": "textlong-same-ipykernel"
  },
  "language_info": {
   "codemirror_mode": {
    "name": "ipython",
    "version": 3
   },
   "file_extension": ".py",
   "mimetype": "text/x-python",
   "name": "python",
   "nbconvert_exporter": "python",
   "pygments_lexer": "ipython3",
   "version": "3.10.0"
  }
 },
 "nbformat": 4,
 "nbformat_minor": 5
}
