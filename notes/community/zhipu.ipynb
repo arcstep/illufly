{
 "cells": [
  {
   "cell_type": "markdown",
   "id": "9d29c40a-2a13-4a7f-a465-189d2ea5ead2",
   "metadata": {},
   "source": [
    "# 大模型"
   ]
  },
  {
   "cell_type": "markdown",
   "id": "30e55ec8-ba21-4701-96d5-6a54f9199b24",
   "metadata": {},
   "source": [
    "## 对话模型"
   ]
  },
  {
   "cell_type": "markdown",
   "id": "06c86626-1acc-407e-a01c-6e3139183790",
   "metadata": {},
   "source": [
    "### 同步调用"
   ]
  },
  {
   "cell_type": "code",
   "execution_count": 1,
   "id": "5312c9e9-9ab8-4a48-bfc8-c75fcb01631c",
   "metadata": {},
   "outputs": [
    {
     "name": "stdout",
     "output_type": "stream",
     "text": [
      "\u001b[32m兔子\u001b[0m\u001b[32m梦里\u001b[0m\u001b[32m飞\u001b[0m\u001b[32m呀\u001b[0m\u001b[32m飞\u001b[0m\u001b[32m，\n",
      "草\u001b[0m\u001b[32m丛\u001b[0m\u001b[32m深处\u001b[0m\u001b[32m笑声\u001b[0m\u001b[32m脆\u001b[0m\u001b[32m。\n",
      "月光\u001b[0m\u001b[32m作\u001b[0m\u001b[32m伴\u001b[0m\u001b[32m跳\u001b[0m\u001b[32m跳舞\u001b[0m\u001b[32m，\n",
      "醒来\u001b[0m\u001b[32m嘴角\u001b[0m\u001b[32m还\u001b[0m\u001b[32m带\u001b[0m\u001b[32m笑\u001b[0m\u001b[32m。\u001b[0m\n",
      "\n"
     ]
    },
    {
     "data": {
      "text/plain": [
       "[{'role': 'user', 'content': '你能帮我写一首关于兔子做梦的四句儿歌?'},\n",
       " {'role': 'assistant', 'content': '兔子梦里飞呀飞，\\n草丛深处笑声脆。\\n月光作伴跳跳舞，\\n醒来嘴角还带笑。'}]"
      ]
     },
     "execution_count": 1,
     "metadata": {},
     "output_type": "execute_result"
    }
   ],
   "source": [
    "from illufly.chat import ChatZhipu\n",
    "\n",
    "zhipu = ChatZhipu()\n",
    "zhipu(\n",
    "    \"你能帮我写一首关于兔子做梦的四句儿歌?\",\n",
    "    model=\"glm-4-flash\"\n",
    ")\n",
    "zhipu.memory"
   ]
  },
  {
   "cell_type": "markdown",
   "id": "1a071d6e-d5d3-47b9-86ae-ee56ec6de246",
   "metadata": {},
   "source": [
    "### 异步调用"
   ]
  },
  {
   "cell_type": "code",
   "execution_count": 2,
   "id": "32aa8a2d-bf55-4b4e-9962-8125e56b7649",
   "metadata": {},
   "outputs": [
    {
     "name": "stdout",
     "output_type": "stream",
     "text": [
      "\u001b[32m小\u001b[0m\u001b[32m兔子\u001b[0m\u001b[32m梦里\u001b[0m\u001b[32m草\u001b[0m\u001b[32m香\u001b[0m\u001b[32m香\u001b[0m\u001b[32m，\n",
      "梦见\u001b[0m\u001b[32m自己在\u001b[0m\u001b[32m花\u001b[0m\u001b[32m丛\u001b[0m\u001b[32m中\u001b[0m\u001b[32m跳\u001b[0m\u001b[32m。\n",
      "彩虹\u001b[0m\u001b[32m桥\u001b[0m\u001b[32m上\u001b[0m\u001b[32m弯\u001b[0m\u001b[32m弯\u001b[0m\u001b[32m腰\u001b[0m\u001b[32m，\n",
      "星星\u001b[0m\u001b[32m点点\u001b[0m\u001b[32m照\u001b[0m\u001b[32m心跳\u001b[0m\u001b[32m。\n",
      "醒来\u001b[0m\u001b[32m耳朵\u001b[0m\u001b[32m轻轻\u001b[0m\u001b[32m摇\u001b[0m\u001b[32m，\n",
      "梦里\u001b[0m\u001b[32m花儿\u001b[0m\u001b[32m还在\u001b[0m\u001b[32m笑\u001b[0m\u001b[32m，\n",
      "清晨\u001b[0m\u001b[32m阳光\u001b[0m\u001b[32m来\u001b[0m\u001b[32m拥抱\u001b[0m\u001b[32m。\u001b[0m\n",
      "\n"
     ]
    },
    {
     "data": {
      "text/plain": [
       "[{'role': 'user', 'content': '你能帮我写一首关于兔子做梦的四句儿歌?'},\n",
       " {'role': 'assistant', 'content': '兔子梦里飞呀飞，\\n草丛深处笑声脆。\\n月光作伴跳跳舞，\\n醒来嘴角还带笑。'},\n",
       " {'role': 'user', 'content': '能改为6句？'},\n",
       " {'role': 'assistant',\n",
       "  'content': '小兔子梦里草香香，\\n梦见自己在花丛中跳。\\n彩虹桥上弯弯腰，\\n星星点点照心跳。\\n醒来耳朵轻轻摇，\\n梦里花儿还在笑，\\n清晨阳光来拥抱。'}]"
      ]
     },
     "execution_count": 2,
     "metadata": {},
     "output_type": "execute_result"
    }
   ],
   "source": [
    "from illufly.io import alog\n",
    "await zhipu(\"能改为6句？\", handler=alog)\n",
    "zhipu.memory"
   ]
  },
  {
   "cell_type": "code",
   "execution_count": 4,
   "id": "10d84b45-56f9-491a-92ee-7157199abed4",
   "metadata": {},
   "outputs": [
    {
     "name": "stdout",
     "output_type": "stream",
     "text": [
      "\u001b[32m当然\u001b[0m\u001b[32m可以\u001b[0m\u001b[32m。\u001b[0m\u001b[32m让我\u001b[0m\u001b[32m来\u001b[0m\u001b[32m为您\u001b[0m\u001b[32m简洁\u001b[0m\u001b[32m地\u001b[0m\u001b[32m描述\u001b[0m\u001b[32m一下\u001b[0m\u001b[32m广州\u001b[0m\u001b[32m今天的\u001b[0m\u001b[32m天气\u001b[0m\u001b[32m情况\u001b[0m\u001b[32m：\n",
      "\n",
      "今天\u001b[0m\u001b[32m广州\u001b[0m\u001b[32m的\u001b[0m\u001b[32m天气\u001b[0m\u001b[32m晴\u001b[0m\u001b[32m朗\u001b[0m\u001b[32m，\u001b[0m\u001b[32m气温\u001b[0m\u001b[32m适中\u001b[0m\u001b[32m，\u001b[0m\u001b[32m适宜\u001b[0m\u001b[32m户外\u001b[0m\u001b[32m活动\u001b[0m\u001b[32m。\u001b[0m\u001b[32m早上\u001b[0m\u001b[32m有些\u001b[0m\u001b[32m轻微\u001b[0m\u001b[32m的\u001b[0m\u001b[32m雾霾\u001b[0m\u001b[32m，\u001b[0m\u001b[32m但\u001b[0m\u001b[32m现在已经\u001b[0m\u001b[32m消\u001b[0m\u001b[32m散\u001b[0m\u001b[32m。\u001b[0m\u001b[32m紫外线\u001b[0m\u001b[32m强度\u001b[0m\u001b[32m偏\u001b[0m\u001b[32m强\u001b[0m\u001b[32m，\u001b[0m\u001b[32m请注意\u001b[0m\u001b[32m防晒\u001b[0m\u001b[32m。\u001b[0m\u001b[32m空气中\u001b[0m\u001b[32m湿度\u001b[0m\u001b[32m适宜\u001b[0m\u001b[32m，\u001b[0m\u001b[32m整体\u001b[0m\u001b[32m感觉\u001b[0m\u001b[32m比较\u001b[0m\u001b[32m舒适\u001b[0m\u001b[32m。\u001b[0m\u001b[32m午后\u001b[0m\u001b[32m可能会有\u001b[0m\u001b[32m一些\u001b[0m\u001b[32m云\u001b[0m\u001b[32m彩\u001b[0m\u001b[32m，\u001b[0m\u001b[32m但\u001b[0m\u001b[32m不会\u001b[0m\u001b[32m影响\u001b[0m\u001b[32m天气\u001b[0m\u001b[32m状况\u001b[0m\u001b[32m。\u001b[0m\u001b[32m记得\u001b[0m\u001b[32m携带\u001b[0m\u001b[32m雨\u001b[0m\u001b[32m具\u001b[0m\u001b[32m的可能性\u001b[0m\u001b[32m较低\u001b[0m\u001b[32m。\u001b[0m\n",
      "\n"
     ]
    },
    {
     "data": {
      "text/plain": [
       "[{'role': 'user', 'content': '今天广州天气如何啊'},\n",
       " {'role': 'assistant', 'content': '好的，我可以帮你查询广州的天气。请问你需要我使用哪个API呢？'},\n",
       " {'role': 'user', 'content': '能改为6句？'},\n",
       " {'role': 'assistant',\n",
       "  'content': '当然可以。让我来为您简洁地描述一下广州今天的天气情况：\\n\\n今天广州的天气晴朗，气温适中，适宜户外活动。早上有些轻微的雾霾，但现在已经消散。紫外线强度偏强，请注意防晒。空气中湿度适宜，整体感觉比较舒适。午后可能会有一些云彩，但不会影响天气状况。记得携带雨具的可能性较低。'}]"
      ]
     },
     "execution_count": 4,
     "metadata": {},
     "output_type": "execute_result"
    }
   ],
   "source": [
    "from illufly.io import alog\n",
    "await alog(zhipu, \"能改为6句？\")\n",
    "zhipu.memory"
   ]
  },
  {
   "cell_type": "markdown",
   "id": "63f1367f-799a-449f-97d5-83098259a513",
   "metadata": {},
   "source": [
    "### 工具回调"
   ]
  },
  {
   "cell_type": "code",
   "execution_count": 3,
   "id": "fed97be4-2b81-4b8d-ac2c-4877219f73ce",
   "metadata": {},
   "outputs": [
    {
     "name": "stdout",
     "output_type": "stream",
     "text": [
      "\u001b[32m好的\u001b[0m\u001b[32m，\u001b[0m\u001b[32m我可以\u001b[0m\u001b[32m帮你\u001b[0m\u001b[32m查询\u001b[0m\u001b[32m广州\u001b[0m\u001b[32m的\u001b[0m\u001b[32m天气\u001b[0m\u001b[32m。\u001b[0m\u001b[32m请问\u001b[0m\u001b[32m你需要\u001b[0m\u001b[32m我\u001b[0m\u001b[32m使用\u001b[0m\u001b[32m哪个\u001b[0m\u001b[32mAPI\u001b[0m\u001b[32m呢\u001b[0m\u001b[32m？\u001b[0m\n",
      "\n"
     ]
    },
    {
     "data": {
      "text/plain": [
       "'好的，我可以帮你查询广州的天气。请问你需要我使用哪个API呢？'"
      ]
     },
     "execution_count": 3,
     "metadata": {},
     "output_type": "execute_result"
    }
   ],
   "source": [
    "from illufly.types import ToolAgent\n",
    "from illufly.chat import ChatZhipu\n",
    "from illufly.io import alog\n",
    "\n",
    "def get_current_weather(location: str):\n",
    "    \"\"\"获取城市的天气情况\"\"\"\n",
    "    return f\"{location}今天是晴天。 \"\n",
    "\n",
    "zhipu = ChatZhipu(\n",
    "    tools=[ToolAgent(get_current_weather)],\n",
    "    model=\"glm-4-air\"\n",
    ")\n",
    "await zhipu(\"今天广州天气如何啊\", handler=alog)"
   ]
  },
  {
   "cell_type": "code",
   "execution_count": null,
   "id": "1208f91f-d8aa-4779-aa23-2f3ee1991ab1",
   "metadata": {},
   "outputs": [],
   "source": []
  }
 ],
 "metadata": {
  "kernelspec": {
   "display_name": "Python 3 (ipykernel)",
   "language": "python",
   "name": "python3"
  },
  "language_info": {
   "codemirror_mode": {
    "name": "ipython",
    "version": 3
   },
   "file_extension": ".py",
   "mimetype": "text/x-python",
   "name": "python",
   "nbconvert_exporter": "python",
   "pygments_lexer": "ipython3",
   "version": "3.10.0"
  }
 },
 "nbformat": 4,
 "nbformat_minor": 5
}
