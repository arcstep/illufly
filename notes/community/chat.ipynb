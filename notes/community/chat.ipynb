{
 "cells": [
  {
   "cell_type": "markdown",
   "id": "9d29c40a-2a13-4a7f-a465-189d2ea5ead2",
   "metadata": {},
   "source": [
    "# 大模型"
   ]
  },
  {
   "cell_type": "markdown",
   "id": "30e55ec8-ba21-4701-96d5-6a54f9199b24",
   "metadata": {},
   "source": [
    "## 模型支持"
   ]
  },
  {
   "cell_type": "markdown",
   "id": "a5334318-b9fb-419c-a268-50baf4f5c24d",
   "metadata": {},
   "source": [
    "### OpenAI"
   ]
  },
  {
   "cell_type": "code",
   "execution_count": 1,
   "id": "54add976-5cc5-42af-96c2-55851d0178b0",
   "metadata": {},
   "outputs": [
    {
     "name": "stdout",
     "output_type": "stream",
     "text": [
      "\u001b[32m兔\u001b[0m\u001b[32m子\u001b[0m\u001b[32m小\u001b[0m\u001b[32m兔\u001b[0m\u001b[32m兔\u001b[0m\u001b[32m，\u001b[0m\u001b[32m快\u001b[0m\u001b[32m去\u001b[0m\u001b[32m做\u001b[0m\u001b[32m梦\u001b[0m\u001b[32m乡\u001b[0m\u001b[32m。\n",
      "\u001b[0m\u001b[32m梦\u001b[0m\u001b[32m里\u001b[0m\u001b[32m有\u001b[0m\u001b[32m田\u001b[0m\u001b[32m野\u001b[0m\u001b[32m绿\u001b[0m\u001b[32m，\u001b[0m\u001b[32m和\u001b[0m\u001b[32m翩\u001b[0m\u001b[32m跹\u001b[0m\u001b[32m舞\u001b[0m\u001b[32m动\u001b[0m\u001b[32m身\u001b[0m\u001b[32m。\n",
      "\u001b[0m\u001b[32m追\u001b[0m\u001b[32m逐\u001b[0m\u001b[32m彩\u001b[0m\u001b[32m虹\u001b[0m\u001b[32m云\u001b[0m\u001b[32m，\u001b[0m\u001b[32m甜\u001b[0m\u001b[32m梦\u001b[0m\u001b[32m会\u001b[0m\u001b[32m永\u001b[0m\u001b[32m恒\u001b[0m\u001b[32m。\n",
      "\u001b[0m\u001b[32m兔\u001b[0m\u001b[32m子\u001b[0m\u001b[32m小\u001b[0m\u001b[32m兔\u001b[0m\u001b[32m兔\u001b[0m\u001b[32m，\u001b[0m\u001b[32m愿\u001b[0m\u001b[32m你\u001b[0m\u001b[32m梦\u001b[0m\u001b[32m境\u001b[0m\u001b[32m美\u001b[0m\u001b[32m无\u001b[0m\u001b[32m边\u001b[0m\u001b[32m。\u001b[0m\n",
      "\n"
     ]
    },
    {
     "data": {
      "text/plain": [
       "'兔子小兔兔，快去做梦乡。\\n梦里有田野绿，和翩跹舞动身。\\n追逐彩虹云，甜梦会永恒。\\n兔子小兔兔，愿你梦境美无边。'"
      ]
     },
     "execution_count": 1,
     "metadata": {},
     "output_type": "execute_result"
    }
   ],
   "source": [
    "from illufly.chat import ChatOpenAI\n",
    "\n",
    "a = ChatOpenAI()\n",
    "a(\"你能帮我写一首关于兔子做梦的四句儿歌?\", verbose=True)"
   ]
  },
  {
   "cell_type": "code",
   "execution_count": 2,
   "id": "0f888312-1a6c-4995-b9e6-d767cad1512a",
   "metadata": {},
   "outputs": [
    {
     "name": "stdout",
     "output_type": "stream",
     "text": [
      "\u001b[32m兔\u001b[0m\u001b[32m子\u001b[0m\u001b[32m做\u001b[0m\u001b[32m梦\u001b[0m\u001b[32m梦\u001b[0m\u001b[32m见\u001b[0m\u001b[32m草\u001b[0m\u001b[32m原\u001b[0m\u001b[32m花\u001b[0m\u001b[32m\n",
      "\u001b[0m\u001b[32m跳\u001b[0m\u001b[32m来\u001b[0m\u001b[32m跳\u001b[0m\u001b[32m去\u001b[0m\u001b[32m乐\u001b[0m\u001b[32m开\u001b[0m\u001b[32m花\u001b[0m\u001b[32m\n",
      "\u001b[0m\u001b[32m梦\u001b[0m\u001b[32m里\u001b[0m\u001b[32m有\u001b[0m\u001b[32m树\u001b[0m\u001b[32m梦\u001b[0m\u001b[32m里\u001b[0m\u001b[32m有\u001b[0m\u001b[32m草\u001b[0m\u001b[32m\n",
      "\u001b[0m\u001b[32m梦\u001b[0m\u001b[32m见\u001b[0m\u001b[32m了\u001b[0m\u001b[32m家\u001b[0m\u001b[32m乡\u001b[0m\u001b[32m的\u001b[0m\u001b[32m小\u001b[0m\u001b[32m巧\u001b[0m\u001b[32m家\u001b[0m\n",
      "\n"
     ]
    },
    {
     "data": {
      "text/plain": [
       "'兔子做梦梦见草原花\\n跳来跳去乐开花\\n梦里有树梦里有草\\n梦见了家乡的小巧家'"
      ]
     },
     "execution_count": 2,
     "metadata": {},
     "output_type": "execute_result"
    }
   ],
   "source": [
    "# 使用 handler 函数的另一种方式：\n",
    "from illufly.chat import ChatOpenAI\n",
    "from illufly.io import log\n",
    "\n",
    "log(ChatOpenAI(), \"你能帮我写一首关于兔子做梦的四句儿歌?\", verbose=True)"
   ]
  },
  {
   "cell_type": "code",
   "execution_count": 3,
   "id": "212d95fc-5dfd-4578-90d9-115736ab7ade",
   "metadata": {},
   "outputs": [
    {
     "name": "stdout",
     "output_type": "stream",
     "text": [
      "\u001b[32m小\u001b[0m\u001b[32m兔\u001b[0m\u001b[32m子\u001b[0m\u001b[32m闭\u001b[0m\u001b[32m上\u001b[0m\u001b[32m眼\u001b[0m\u001b[32m\n",
      "\u001b[0m\u001b[32m做\u001b[0m\u001b[32m梦\u001b[0m\u001b[32m飞\u001b[0m\u001b[32m上\u001b[0m\u001b[32m云\u001b[0m\u001b[32m端\u001b[0m\u001b[32m\n",
      "\u001b[0m\u001b[32m好\u001b[0m\u001b[32m像\u001b[0m\u001b[32m变\u001b[0m\u001b[32m成\u001b[0m\u001b[32m了\u001b[0m\u001b[32m仙\u001b[0m\u001b[32m子\u001b[0m\u001b[32m\n",
      "\u001b[0m\u001b[32m在\u001b[0m\u001b[32m梦\u001b[0m\u001b[32m境\u001b[0m\u001b[32m中\u001b[0m\u001b[32m自\u001b[0m\u001b[32m由\u001b[0m\u001b[32m飞\u001b[0m\u001b[32m舞\u001b[0m\n",
      "\n"
     ]
    },
    {
     "data": {
      "text/plain": [
       "[{'role': 'user', 'content': '你能帮我写一首关于兔子做梦的四句儿歌?'},\n",
       " {'role': 'assistant', 'content': '小兔子闭上眼\\n做梦飞上云端\\n好像变成了仙子\\n在梦境中自由飞舞'}]"
      ]
     },
     "execution_count": 3,
     "metadata": {},
     "output_type": "execute_result"
    }
   ],
   "source": [
    "# 异步输出\n",
    "from illufly.chat import ChatOpenAI\n",
    "from illufly.io import alog\n",
    "\n",
    "a = ChatOpenAI(model=\"gpt-3.5-turbo\")\n",
    "await a(\n",
    "    \"你能帮我写一首关于兔子做梦的四句儿歌?\",\n",
    "    verbose=True,\n",
    "    handler=alog\n",
    ")\n",
    "a.memory"
   ]
  },
  {
   "cell_type": "code",
   "execution_count": 4,
   "id": "a7145a95-f03e-4783-910b-4e225f62fc2c",
   "metadata": {},
   "outputs": [
    {
     "name": "stdout",
     "output_type": "stream",
     "text": [
      "\u001b[32m小\u001b[0m\u001b[32m兔\u001b[0m\u001b[32m子\u001b[0m\u001b[32m做\u001b[0m\u001b[32m梦\u001b[0m\u001b[32m梦\u001b[0m\u001b[32m见\u001b[0m\u001b[32m大\u001b[0m\u001b[32m胡\u001b[0m\u001b[32m萝\u001b[0m\u001b[32m卜\u001b[0m\u001b[32m\n",
      "\u001b[0m\u001b[32m甜\u001b[0m\u001b[32m甜\u001b[0m\u001b[32m的\u001b[0m\u001b[32m梦\u001b[0m\u001b[32m境\u001b[0m\u001b[32m让\u001b[0m\u001b[32m它\u001b[0m\u001b[32m笑\u001b[0m\u001b[32m得\u001b[0m\u001b[32m合\u001b[0m\u001b[32m不\u001b[0m\u001b[32m拢\u001b[0m\u001b[32m嘴\u001b[0m\u001b[32m\n",
      "\u001b[0m\u001b[32m梦\u001b[0m\u001b[32m里\u001b[0m\u001b[32m的\u001b[0m\u001b[32m世\u001b[0m\u001b[32m界\u001b[0m\u001b[32m充\u001b[0m\u001b[32m满\u001b[0m\u001b[32m了\u001b[0m\u001b[32m快\u001b[0m\u001b[32m乐\u001b[0m\u001b[32m和\u001b[0m\u001b[32m温\u001b[0m\u001b[32m馨\u001b[0m\u001b[32m\n",
      "\u001b[0m\u001b[32m醒\u001b[0m\u001b[32m来\u001b[0m\u001b[32m后\u001b[0m\u001b[32m它\u001b[0m\u001b[32m还\u001b[0m\u001b[32m在\u001b[0m\u001b[32m微\u001b[0m\u001b[32m笑\u001b[0m\u001b[32m，\u001b[0m\u001b[32m心\u001b[0m\u001b[32m情\u001b[0m\u001b[32m格\u001b[0m\u001b[32m外\u001b[0m\u001b[32m美\u001b[0m\u001b[32m丽\u001b[0m\n",
      "\n"
     ]
    },
    {
     "data": {
      "text/plain": [
       "[{'role': 'user', 'content': '你能帮我写一首关于兔子做梦的四句儿歌?'},\n",
       " {'role': 'assistant', 'content': '小兔子闭上眼\\n做梦飞上云端\\n好像变成了仙子\\n在梦境中自由飞舞'}]"
      ]
     },
     "execution_count": 4,
     "metadata": {},
     "output_type": "execute_result"
    }
   ],
   "source": [
    "# 在调用时指定模型名称\n",
    "await ChatOpenAI()(\n",
    "    \"你能帮我写一首关于兔子做梦的四句儿歌?\",\n",
    "    handler=alog,\n",
    "    model=\"gpt-3.5-turbo\",\n",
    "    temperature=0.1\n",
    ")\n",
    "a.memory"
   ]
  },
  {
   "cell_type": "markdown",
   "id": "577d4020-491f-49ed-af56-1ae3a8de157a",
   "metadata": {},
   "source": [
    "**在调用时指定工具，返回应当调用的工具信息**"
   ]
  },
  {
   "cell_type": "code",
   "execution_count": 1,
   "id": "e202e7d1-6812-49a1-b8b9-7b3cce8480c1",
   "metadata": {},
   "outputs": [
    {
     "name": "stdout",
     "output_type": "stream",
     "text": [
      "  0s [TOOLS_CALL_CHUNK] \u001b[32m{\"index\": 0, \"id\": \"call_2ihvgzROsqaQxhKYYUdF9i91\", \"type\": \"function\", \"function\": {\"name\": \"get_current_weather\", \"arguments\": \"\"}}\u001b[0m\n",
      "  0s [TOOLS_CALL_CHUNK] \u001b[32m{\"index\": 0, \"id\": \"\", \"type\": \"function\", \"function\": {\"name\": \"\", \"arguments\": \"{\\\"\"}}\u001b[0m\n",
      "  0s [TOOLS_CALL_CHUNK] \u001b[32m{\"index\": 0, \"id\": \"\", \"type\": \"function\", \"function\": {\"name\": \"\", \"arguments\": \"location\"}}\u001b[0m\n",
      "  0s [TOOLS_CALL_CHUNK] \u001b[32m{\"index\": 0, \"id\": \"\", \"type\": \"function\", \"function\": {\"name\": \"\", \"arguments\": \"\\\":\\\"\"}}\u001b[0m\n",
      "  0s [TOOLS_CALL_CHUNK] \u001b[32m{\"index\": 0, \"id\": \"\", \"type\": \"function\", \"function\": {\"name\": \"\", \"arguments\": \"Gu\"}}\u001b[0m\n",
      "  0s [TOOLS_CALL_CHUNK] \u001b[32m{\"index\": 0, \"id\": \"\", \"type\": \"function\", \"function\": {\"name\": \"\", \"arguments\": \"ang\"}}\u001b[0m\n",
      "  0s [TOOLS_CALL_CHUNK] \u001b[32m{\"index\": 0, \"id\": \"\", \"type\": \"function\", \"function\": {\"name\": \"\", \"arguments\": \"zhou\"}}\u001b[0m\n",
      "  0s [TOOLS_CALL_CHUNK] \u001b[32m{\"index\": 0, \"id\": \"\", \"type\": \"function\", \"function\": {\"name\": \"\", \"arguments\": \"\\\"}\"}}\u001b[0m\n",
      "  1s [TOOLS_CALL_FINAL] \u001b[36m{\"0\": {\"index\": 0, \"id\": \"call_2ihvgzROsqaQxhKYYUdF9i91\", \"type\": \"function\", \"function\": {\"name\": \"get_current_weather\", \"arguments\": \"{\\\"location\\\":\\\"Guangzhou\\\"}\"}}}\u001b[0m\n"
     ]
    },
    {
     "data": {
      "text/plain": [
       "[{'role': 'user', 'content': '今天广州出门要准备什么'},\n",
       " {'role': 'assistant',\n",
       "  'content': '',\n",
       "  'tool_calls': [{'index': 0,\n",
       "    'id': 'call_2ihvgzROsqaQxhKYYUdF9i91',\n",
       "    'type': 'function',\n",
       "    'function': {'name': 'get_current_weather',\n",
       "     'arguments': '{\"location\":\"Guangzhou\"}'}}]}]"
      ]
     },
     "execution_count": 1,
     "metadata": {},
     "output_type": "execute_result"
    }
   ],
   "source": [
    "from illufly.chat import ChatOpenAI\n",
    "from illufly.types import ToolAgent\n",
    "\n",
    "def get_current_weather(location: str):\n",
    "    \"\"\"获取城市的天气情况\"\"\"\n",
    "    yield f\"{location}今天是晴天。 \"\n",
    "    \n",
    "a = ChatOpenAI(tools=[ToolAgent(get_current_weather)], exec_tool=False)\n",
    "a(\"今天广州出门要准备什么\", new_chat=True, verbose=True)\n",
    "a.memory"
   ]
  },
  {
   "cell_type": "code",
   "execution_count": 1,
   "id": "da1c3d70-917d-41aa-8490-0237f55c57ca",
   "metadata": {},
   "outputs": [
    {
     "name": "stdout",
     "output_type": "stream",
     "text": [
      "  1s [TOOLS_CALL_CHUNK] \u001b[32m{\"index\": 0, \"id\": \"call_QEhleHKNZDbiAArF6MEmPazF\", \"type\": \"function\", \"function\": {\"name\": \"get_current_weather\", \"arguments\": \"\"}}\u001b[0m\n",
      "  1s [TOOLS_CALL_CHUNK] \u001b[32m{\"index\": 0, \"id\": \"\", \"type\": \"function\", \"function\": {\"name\": \"\", \"arguments\": \"{\\\"\"}}\u001b[0m\n",
      "  1s [TOOLS_CALL_CHUNK] \u001b[32m{\"index\": 0, \"id\": \"\", \"type\": \"function\", \"function\": {\"name\": \"\", \"arguments\": \"location\"}}\u001b[0m\n",
      "  1s [TOOLS_CALL_CHUNK] \u001b[32m{\"index\": 0, \"id\": \"\", \"type\": \"function\", \"function\": {\"name\": \"\", \"arguments\": \"\\\":\\\"\"}}\u001b[0m\n",
      "  1s [TOOLS_CALL_CHUNK] \u001b[32m{\"index\": 0, \"id\": \"\", \"type\": \"function\", \"function\": {\"name\": \"\", \"arguments\": \"广州\"}}\u001b[0m\n",
      "  1s [TOOLS_CALL_CHUNK] \u001b[32m{\"index\": 0, \"id\": \"\", \"type\": \"function\", \"function\": {\"name\": \"\", \"arguments\": \"\\\"}\"}}\u001b[0m\n",
      "  1s [TOOLS_CALL_FINAL] \u001b[36m{\"0\": {\"index\": 0, \"id\": \"call_QEhleHKNZDbiAArF6MEmPazF\", \"type\": \"function\", \"function\": {\"name\": \"get_current_weather\", \"arguments\": \"{\\\"location\\\":\\\"广州\\\"}\"}}}\u001b[0m\n",
      "\u001b[32m广州今天是晴天， 25摄氏度。 \u001b[0m\n",
      "\n",
      "\u001b[32m今\u001b[0m\u001b[32m天\u001b[0m\u001b[32m广\u001b[0m\u001b[32m州\u001b[0m\u001b[32m是\u001b[0m\u001b[32m晴\u001b[0m\u001b[32m天\u001b[0m\u001b[32m，\u001b[0m\u001b[32m气\u001b[0m\u001b[32m温\u001b[0m\u001b[32m为\u001b[0m\u001b[32m25\u001b[0m\u001b[32m摄\u001b[0m\u001b[32m氏\u001b[0m\u001b[32m度\u001b[0m\u001b[32m，\u001b[0m\u001b[32m不\u001b[0m\u001b[32m需要\u001b[0m\u001b[32m穿\u001b[0m\u001b[32m羽\u001b[0m\u001b[32m绒\u001b[0m\u001b[32m服\u001b[0m\u001b[32m哦\u001b[0m\u001b[32m。\u001b[0m\n",
      "\n"
     ]
    },
    {
     "data": {
      "text/plain": [
       "[{'role': 'user', 'content': '今天广州出门要穿羽绒服吗？'},\n",
       " {'role': 'assistant',\n",
       "  'content': '',\n",
       "  'tool_calls': [{'index': 0,\n",
       "    'id': 'call_QEhleHKNZDbiAArF6MEmPazF',\n",
       "    'type': 'function',\n",
       "    'function': {'name': 'get_current_weather',\n",
       "     'arguments': '{\"location\":\"广州\"}'}}]},\n",
       " {'tool_call_id': 'call_QEhleHKNZDbiAArF6MEmPazF',\n",
       "  'role': 'tool',\n",
       "  'name': 'get_current_weather',\n",
       "  'content': '广州今天是晴天， 25摄氏度。 '},\n",
       " {'role': 'assistant', 'content': '今天广州是晴天，气温为25摄氏度，不需要穿羽绒服哦。'}]"
      ]
     },
     "execution_count": 1,
     "metadata": {},
     "output_type": "execute_result"
    }
   ],
   "source": [
    "from illufly.chat import ChatOpenAI\n",
    "from illufly.types import ToolAgent\n",
    "\n",
    "def get_current_weather(location: str):\n",
    "    \"\"\"获取城市的天气情况\"\"\"\n",
    "    yield f\"{location}今天是晴天， 25摄氏度。 \"\n",
    "    \n",
    "a = ChatOpenAI()\n",
    "a(\"今天广州出门要穿羽绒服吗？\", tools=[ToolAgent(get_current_weather)], new_chat=True, verbose=True)\n",
    "a.memory"
   ]
  },
  {
   "cell_type": "markdown",
   "id": "57373ba5-19d6-4a9a-a744-3b485a272164",
   "metadata": {},
   "source": [
    "### 智谱AI"
   ]
  },
  {
   "cell_type": "code",
   "execution_count": 2,
   "id": "5312c9e9-9ab8-4a48-bfc8-c75fcb01631c",
   "metadata": {},
   "outputs": [
    {
     "name": "stdout",
     "output_type": "stream",
     "text": [
      "\u001b[32m梦里\u001b[0m\u001b[32m花开\u001b[0m\u001b[32m兔子\u001b[0m\u001b[32m跳\u001b[0m\u001b[32m，\n",
      "绿\u001b[0m\u001b[32m草\u001b[0m\u001b[32m如\u001b[0m\u001b[32m茵\u001b[0m\u001b[32m乐\u001b[0m\u001b[32m逍遥\u001b[0m\u001b[32m。\n",
      "月亮\u001b[0m\u001b[32m做\u001b[0m\u001b[32m灯\u001b[0m\u001b[32m星光\u001b[0m\u001b[32m闪\u001b[0m\u001b[32m，\n",
      "兔子\u001b[0m\u001b[32m梦中\u001b[0m\u001b[32m笑\u001b[0m\u001b[32m哈哈\u001b[0m\u001b[32m。\u001b[0m\n",
      "\n"
     ]
    },
    {
     "data": {
      "text/plain": [
       "[{'role': 'user', 'content': '你能帮我写一首关于兔子做梦的四句儿歌?'},\n",
       " {'role': 'assistant', 'content': '梦里花开兔子跳，\\n绿草如茵乐逍遥。\\n月亮做灯星光闪，\\n兔子梦中笑哈哈。'}]"
      ]
     },
     "execution_count": 2,
     "metadata": {},
     "output_type": "execute_result"
    }
   ],
   "source": [
    "from illufly.chat import ChatZhipu\n",
    "\n",
    "zhipu = ChatZhipu()\n",
    "zhipu(\n",
    "    \"你能帮我写一首关于兔子做梦的四句儿歌?\",\n",
    "    model=\"glm-4-flash\"\n",
    ")\n",
    "zhipu.memory"
   ]
  },
  {
   "cell_type": "code",
   "execution_count": 3,
   "id": "32aa8a2d-bf55-4b4e-9962-8125e56b7649",
   "metadata": {},
   "outputs": [
    {
     "name": "stdout",
     "output_type": "stream",
     "text": [
      "\u001b[32m梦里\u001b[0m\u001b[32m兔子\u001b[0m\u001b[32m跃\u001b[0m\u001b[32m花\u001b[0m\u001b[32m间\u001b[0m\u001b[32m，\n",
      "草地\u001b[0m\u001b[32m柔软\u001b[0m\u001b[32m梦\u001b[0m\u001b[32m开始\u001b[0m\u001b[32m。\n",
      "月亮\u001b[0m\u001b[32m轻\u001b[0m\u001b[32m抚\u001b[0m\u001b[32m星\u001b[0m\u001b[32m河\u001b[0m\u001b[32m浅\u001b[0m\u001b[32m，\n",
      "兔子\u001b[0m\u001b[32m轻\u001b[0m\u001b[32m跳\u001b[0m\u001b[32m乐\u001b[0m\u001b[32m无边\u001b[0m\u001b[32m。\n",
      "彩虹\u001b[0m\u001b[32m桥\u001b[0m\u001b[32m上\u001b[0m\u001b[32m梦\u001b[0m\u001b[32m飞翔\u001b[0m\u001b[32m，\n",
      "兔\u001b[0m\u001b[32m儿\u001b[0m\u001b[32m心中\u001b[0m\u001b[32m歌声\u001b[0m\u001b[32m扬\u001b[0m\u001b[32m，\n",
      "清晨\u001b[0m\u001b[32m醒来\u001b[0m\u001b[32m梦\u001b[0m\u001b[32m犹\u001b[0m\u001b[32m在\u001b[0m\u001b[32m，\n",
      "兔子\u001b[0m\u001b[32m开心\u001b[0m\u001b[32m笑\u001b[0m\u001b[32m洋洋\u001b[0m\u001b[32m。\u001b[0m\n",
      "\n"
     ]
    },
    {
     "data": {
      "text/plain": [
       "[{'role': 'user', 'content': '你能帮我写一首关于兔子做梦的四句儿歌?'},\n",
       " {'role': 'assistant', 'content': '梦里花开兔子跳，\\n绿草如茵乐逍遥。\\n月亮做灯星光闪，\\n兔子梦中笑哈哈。'},\n",
       " {'role': 'user', 'content': '能改为6句？'},\n",
       " {'role': 'assistant',\n",
       "  'content': '梦里兔子跃花间，\\n草地柔软梦开始。\\n月亮轻抚星河浅，\\n兔子轻跳乐无边。\\n彩虹桥上梦飞翔，\\n兔儿心中歌声扬，\\n清晨醒来梦犹在，\\n兔子开心笑洋洋。'}]"
      ]
     },
     "execution_count": 3,
     "metadata": {},
     "output_type": "execute_result"
    }
   ],
   "source": [
    "from illufly.io import alog\n",
    "await zhipu(\"能改为6句？\", handler=alog)\n",
    "zhipu.memory"
   ]
  },
  {
   "cell_type": "code",
   "execution_count": 4,
   "id": "fed97be4-2b81-4b8d-ac2c-4877219f73ce",
   "metadata": {},
   "outputs": [
    {
     "name": "stdout",
     "output_type": "stream",
     "text": [
      "\u001b[32m好的\u001b[0m\u001b[32m，\u001b[0m\u001b[32m我可以\u001b[0m\u001b[32m帮你\u001b[0m\u001b[32m查询\u001b[0m\u001b[32m广州\u001b[0m\u001b[32m的\u001b[0m\u001b[32m天气\u001b[0m\u001b[32m。\u001b[0m\u001b[32m请问\u001b[0m\u001b[32m你想\u001b[0m\u001b[32m知道\u001b[0m\u001b[32m当前的\u001b[0m\u001b[32m天气\u001b[0m\u001b[32m情况\u001b[0m\u001b[32m还是\u001b[0m\u001b[32m未来\u001b[0m\u001b[32m几\u001b[0m\u001b[32m天的\u001b[0m\u001b[32m天气\u001b[0m\u001b[32m情况\u001b[0m\u001b[32m呢\u001b[0m\u001b[32m？\u001b[0m\n",
      "\n"
     ]
    },
    {
     "data": {
      "text/plain": [
       "'好的，我可以帮你查询广州的天气。请问你想知道当前的天气情况还是未来几天的天气情况呢？'"
      ]
     },
     "execution_count": 4,
     "metadata": {},
     "output_type": "execute_result"
    }
   ],
   "source": [
    "from illufly.types import ToolAgent\n",
    "from illufly.chat import ChatZhipu\n",
    "from illufly.io import alog\n",
    "\n",
    "def get_current_weather(location: str):\n",
    "    \"\"\"获取城市的天气情况\"\"\"\n",
    "    return f\"{location}今天是晴天。 \"\n",
    "\n",
    "zhipu = ChatZhipu(\n",
    "    tools=[ToolAgent(get_current_weather)],\n",
    "    model=\"glm-4-air\"\n",
    ")\n",
    "await zhipu(\"今天广州天气如何啊\", handler=alog)"
   ]
  },
  {
   "cell_type": "markdown",
   "id": "8e43ca89-6ded-487b-b619-32eb11d653e9",
   "metadata": {},
   "source": [
    "### 通义千问"
   ]
  },
  {
   "cell_type": "code",
   "execution_count": 5,
   "id": "75628fec-7952-42b9-87d9-f8c54e04bdec",
   "metadata": {},
   "outputs": [
    {
     "name": "stdout",
     "output_type": "stream",
     "text": [
      "\u001b[32m当然\u001b[0m\u001b[32m可以\u001b[0m\u001b[32m，\u001b[0m\u001b[32m以下是一首简单的儿\u001b[0m\u001b[32m歌：\n",
      "\n",
      "兔子兔子做美梦，\n",
      "\u001b[0m\u001b[32m梦见自己变成小精灵。\n",
      "跳上\u001b[0m\u001b[32m云朵飞向天，\n",
      "醒来发现自己\u001b[0m\u001b[32m还在梦中。\u001b[0m\u001b[32m\u001b[0m\n",
      "\n"
     ]
    },
    {
     "data": {
      "text/plain": [
       "'当然可以，以下是一首简单的儿歌：\\n\\n兔子兔子做美梦，\\n梦见自己变成小精灵。\\n跳上云朵飞向天，\\n醒来发现自己还在梦中。'"
      ]
     },
     "execution_count": 5,
     "metadata": {},
     "output_type": "execute_result"
    }
   ],
   "source": [
    "from illufly.chat import ChatQwen\n",
    "from illufly.io import log\n",
    "\n",
    "qwen = ChatQwen()\n",
    "log(\n",
    "    qwen,\n",
    "    [{\"role\": \"user\", \"content\": \"你能帮我写一首关于兔子做梦的四句儿歌?\"}],\n",
    "    model=\"qwen2-1.5b-instruct\"\n",
    ")"
   ]
  },
  {
   "cell_type": "code",
   "execution_count": 6,
   "id": "dfb73248-a53e-4579-87d0-677a49072ae7",
   "metadata": {},
   "outputs": [
    {
     "data": {
      "text/plain": [
       "[{'role': 'user', 'content': '你能帮我写一首关于兔子做梦的四句儿歌?'},\n",
       " {'role': 'assistant',\n",
       "  'content': '当然可以，以下是一首简单的儿歌：\\n\\n兔子兔子做美梦，\\n梦见自己变成小精灵。\\n跳上云朵飞向天，\\n醒来发现自己还在梦中。'}]"
      ]
     },
     "execution_count": 6,
     "metadata": {},
     "output_type": "execute_result"
    }
   ],
   "source": [
    "qwen.memory"
   ]
  },
  {
   "cell_type": "code",
   "execution_count": 7,
   "id": "f565bd03-3df6-4d47-85ec-2e89ca96e618",
   "metadata": {},
   "outputs": [
    {
     "data": {
      "text/plain": [
       "{'DEFAULT': {'max_workers': 5, 'used_workers': 0, 'waiting_threads': 0},\n",
       " 'CHAT_OPENAI': {'max_workers': 5, 'used_workers': 0, 'waiting_threads': 0},\n",
       " 'CHAT_ZHIPU': {'max_workers': 5, 'used_workers': 1, 'waiting_threads': 0},\n",
       " 'CHAT_QWEN': {'max_workers': 5, 'used_workers': 0, 'waiting_threads': 0}}"
      ]
     },
     "execution_count": 7,
     "metadata": {},
     "output_type": "execute_result"
    }
   ],
   "source": [
    "qwen.monitor_executors()"
   ]
  },
  {
   "cell_type": "code",
   "execution_count": 3,
   "id": "4b2fef77-8fb1-43ce-9edf-8753158f21e1",
   "metadata": {},
   "outputs": [
    {
     "name": "stdout",
     "output_type": "stream",
     "text": [
      "\u001b[32m广\u001b[0m\u001b[32m州\u001b[0m\u001b[32m今\u001b[0m\u001b[32m天\u001b[0m\u001b[32m是\u001b[0m\u001b[32m晴\u001b[0m\u001b[32m天\u001b[0m\u001b[32m。\u001b[0m\u001b[32m \u001b[0m\n",
      "\n",
      "\u001b[32m广\u001b[0m\u001b[32m州今天是晴朗\u001b[0m\u001b[32m的天气。\u001b[0m\u001b[32m\u001b[0m\n",
      "\n"
     ]
    },
    {
     "data": {
      "text/plain": [
       "'广州今天是晴朗的天气。'"
      ]
     },
     "execution_count": 3,
     "metadata": {},
     "output_type": "execute_result"
    }
   ],
   "source": [
    "from illufly.types import ToolAgent\n",
    "from illufly.chat import ChatQwen\n",
    "import json\n",
    "\n",
    "def get_current_weather(location: str=None):\n",
    "    \"\"\"获取城市的天气情况\"\"\"\n",
    "    return f\"{location}今天是晴天。 \"\n",
    "\n",
    "a = ChatQwen()\n",
    "a(\"今天广州天气如何啊\", tools=[ToolAgent(get_current_weather)])"
   ]
  },
  {
   "cell_type": "markdown",
   "id": "4b9d80d9-b2f7-4f3d-856b-f2280b534484",
   "metadata": {},
   "source": [
    "## Fake"
   ]
  },
  {
   "cell_type": "markdown",
   "id": "32fc77aa-8e40-4d1d-b124-37c517d8fdf6",
   "metadata": {},
   "source": [
    "### fake_llm: 模拟大模型调用过程\n",
    "\n",
    "这可以观察提示语等内部结构。"
   ]
  },
  {
   "cell_type": "code",
   "execution_count": 1,
   "id": "433e3074-d1ed-4912-919a-5c4b55fb7b28",
   "metadata": {},
   "outputs": [
    {
     "name": "stdout",
     "output_type": "stream",
     "text": [
      "\u001b[32m这\u001b[0m\u001b[32m是\u001b[0m\u001b[32m一个\u001b[0m\u001b[32m模拟\u001b[0m\u001b[32m调用\u001b[0m\u001b[32m!\u001b[0m\n",
      "\n"
     ]
    },
    {
     "data": {
      "text/plain": [
       "'这是一个模拟调用!'"
      ]
     },
     "execution_count": 1,
     "metadata": {},
     "output_type": "execute_result"
    }
   ],
   "source": [
    "from illufly.chat import FakeLLM\n",
    "from illufly.io import log\n",
    "\n",
    "log(\n",
    "    FakeLLM(),\n",
    "    [\n",
    "        {\"role\": \"system\", \"content\": \"你是一个写作能手。\"},\n",
    "        {\"role\": \"user\", \"content\": \"你能帮我写一首关于兔子做梦的四句儿歌?\"}\n",
    "    ],\n",
    "    model=\"qwen2-1.5b-instruct\"\n",
    ")"
   ]
  },
  {
   "cell_type": "code",
   "execution_count": 2,
   "id": "699bd017-f5f2-48eb-82ff-4c47dfdc595f",
   "metadata": {},
   "outputs": [
    {
     "data": {
      "text/plain": [
       "{'FAKE_LLM': {'max_workers': 5, 'used_workers': 0, 'waiting_threads': 0}}"
      ]
     },
     "execution_count": 2,
     "metadata": {},
     "output_type": "execute_result"
    }
   ],
   "source": [
    "FakeLLM.monitor_executors()"
   ]
  },
  {
   "cell_type": "code",
   "execution_count": null,
   "id": "1208f91f-d8aa-4779-aa23-2f3ee1991ab1",
   "metadata": {},
   "outputs": [],
   "source": []
  }
 ],
 "metadata": {
  "kernelspec": {
   "display_name": "Python 3 (ipykernel)",
   "language": "python",
   "name": "python3"
  },
  "language_info": {
   "codemirror_mode": {
    "name": "ipython",
    "version": 3
   },
   "file_extension": ".py",
   "mimetype": "text/x-python",
   "name": "python",
   "nbconvert_exporter": "python",
   "pygments_lexer": "ipython3",
   "version": "3.10.0"
  }
 },
 "nbformat": 4,
 "nbformat_minor": 5
}
