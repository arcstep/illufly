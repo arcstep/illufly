{
 "cells": [
  {
   "cell_type": "markdown",
   "id": "9d29c40a-2a13-4a7f-a465-189d2ea5ead2",
   "metadata": {},
   "source": [
    "# 模型"
   ]
  },
  {
   "cell_type": "markdown",
   "id": "30e55ec8-ba21-4701-96d5-6a54f9199b24",
   "metadata": {},
   "source": [
    "## 对话模型"
   ]
  },
  {
   "cell_type": "markdown",
   "id": "75734f38-bdad-4b9e-9638-f65647af36e7",
   "metadata": {},
   "source": [
    "### 同步调用"
   ]
  },
  {
   "cell_type": "code",
   "execution_count": 3,
   "id": "75628fec-7952-42b9-87d9-f8c54e04bdec",
   "metadata": {},
   "outputs": [
    {
     "name": "stdout",
     "output_type": "stream",
     "text": [
      "\u001b[32m好的\u001b[0m\u001b[32m，\u001b[0m\u001b[32m我\u001b[0m\u001b[32m来帮你创作一首关于\u001b[0m\u001b[32m兔子做梦的四句儿歌：\n",
      "\u001b[0m\u001b[32m小兔子，蹦蹦跳，\n",
      "梦见\u001b[0m\u001b[32m森林里，有花香。\n",
      "醒来\u001b[0m\u001b[32m一看，还是梦中，\n",
      "心里美\u001b[0m\u001b[32m滋滋，乐悠悠。\u001b[0m\u001b[32m\u001b[0m\n",
      "\n"
     ]
    },
    {
     "data": {
      "text/plain": [
       "'好的，我来帮你创作一首关于兔子做梦的四句儿歌：\\n小兔子，蹦蹦跳，\\n梦见森林里，有花香。\\n醒来一看，还是梦中，\\n心里美滋滋，乐悠悠。'"
      ]
     },
     "execution_count": 3,
     "metadata": {},
     "output_type": "execute_result"
    }
   ],
   "source": [
    "from illufly.chat import ChatQwen\n",
    "\n",
    "qwen = ChatQwen()\n",
    "qwen(\n",
    "    [{\"role\": \"user\", \"content\": \"你能帮我写一首关于兔子做梦的四句儿歌?\"}],\n",
    "    model=\"qwen2-1.5b-instruct\"\n",
    ")"
   ]
  },
  {
   "cell_type": "code",
   "execution_count": 4,
   "id": "dfb73248-a53e-4579-87d0-677a49072ae7",
   "metadata": {},
   "outputs": [
    {
     "data": {
      "text/plain": [
       "[{'role': 'user', 'content': '你能帮我写一首关于兔子做梦的四句儿歌?'},\n",
       " {'role': 'assistant',\n",
       "  'content': '好的，我来帮你创作一首关于兔子做梦的四句儿歌：\\n小兔子，蹦蹦跳，\\n梦见森林里，有花香。\\n醒来一看，还是梦中，\\n心里美滋滋，乐悠悠。'}]"
      ]
     },
     "execution_count": 4,
     "metadata": {},
     "output_type": "execute_result"
    }
   ],
   "source": [
    "qwen.memory"
   ]
  },
  {
   "cell_type": "code",
   "execution_count": 5,
   "id": "f565bd03-3df6-4d47-85ec-2e89ca96e618",
   "metadata": {},
   "outputs": [
    {
     "data": {
      "text/plain": [
       "{'CHAT_QWEN': {'max_workers': 5, 'used_workers': 0, 'waiting_threads': 0},\n",
       " 'DEFAULT': {'max_workers': 5, 'used_workers': 0, 'waiting_threads': 0}}"
      ]
     },
     "execution_count": 5,
     "metadata": {},
     "output_type": "execute_result"
    }
   ],
   "source": [
    "qwen.monitor_executors()"
   ]
  },
  {
   "cell_type": "markdown",
   "id": "475de1dd-80f4-4fa2-96f2-9d6736dc235a",
   "metadata": {},
   "source": [
    "### 工具回调"
   ]
  },
  {
   "cell_type": "code",
   "execution_count": 21,
   "id": "4b2fef77-8fb1-43ce-9edf-8753158f21e1",
   "metadata": {},
   "outputs": [
    {
     "name": "stdout",
     "output_type": "stream",
     "text": [
      "\u001b[32m上\u001b[0m\u001b[32m海\u001b[0m\u001b[32m今\u001b[0m\u001b[32m天\u001b[0m\u001b[32m是\u001b[0m\u001b[32m晴\u001b[0m\u001b[32m天\u001b[0m\u001b[32m。\u001b[0m\u001b[32m \u001b[0m\n",
      "\n",
      "\u001b[32m广\u001b[0m\u001b[32m州\u001b[0m\u001b[32m今\u001b[0m\u001b[32m天\u001b[0m\u001b[32m是\u001b[0m\u001b[32m晴\u001b[0m\u001b[32m天\u001b[0m\u001b[32m。\u001b[0m\u001b[32m \u001b[0m\n",
      "\n",
      "\u001b[32m今天\u001b[0m\u001b[32m上海和广州都是晴\u001b[0m\u001b[32m天哦。\u001b[0m\u001b[32m\u001b[0m\n",
      "\n"
     ]
    },
    {
     "data": {
      "text/plain": [
       "[{'role': 'user', 'content': '今天上海和广州天气如何啊，一起调用工具查查再回答'},\n",
       " {'role': 'assistant',\n",
       "  'content': '',\n",
       "  'tool_calls': [{'index': 0,\n",
       "    'id': 'call_84806adfd47c4320b3b98d',\n",
       "    'type': 'function',\n",
       "    'function': {'name': 'get_current_weather',\n",
       "     'arguments': '{\"location\": \"上海\"}'}}]},\n",
       " {'tool_call_id': 'call_84806adfd47c4320b3b98d',\n",
       "  'role': 'tool',\n",
       "  'name': 'get_current_weather',\n",
       "  'content': '上海今天是晴天。 '},\n",
       " {'role': 'assistant',\n",
       "  'content': '',\n",
       "  'tool_calls': [{'index': 0,\n",
       "    'id': 'call_d07e52a284cb4ac2b9ebcd',\n",
       "    'type': 'function',\n",
       "    'function': {'name': 'get_current_weather',\n",
       "     'arguments': '{\"location\": \"广州\"}'}}]},\n",
       " {'tool_call_id': 'call_d07e52a284cb4ac2b9ebcd',\n",
       "  'role': 'tool',\n",
       "  'name': 'get_current_weather',\n",
       "  'content': '广州今天是晴天。 '},\n",
       " {'role': 'assistant', 'content': '今天上海和广州都是晴天哦。'}]"
      ]
     },
     "execution_count": 21,
     "metadata": {},
     "output_type": "execute_result"
    }
   ],
   "source": [
    "from illufly.types import ToolAgent\n",
    "from illufly.chat import ChatQwen\n",
    "\n",
    "def get_current_weather(location: str=None):\n",
    "    \"\"\"获取城市的天气情况\"\"\"\n",
    "    return f\"{location}今天是晴天。 \"\n",
    "\n",
    "a = ChatQwen()\n",
    "a(\"今天上海和广州天气如何啊，一起调用工具查查再回答\", tools=[ToolAgent(get_current_weather)])\n",
    "a.memory"
   ]
  },
  {
   "cell_type": "code",
   "execution_count": 2,
   "id": "7012dfe9-1c1c-47d8-8dcd-be3d76a5f168",
   "metadata": {},
   "outputs": [
    {
     "name": "stdout",
     "output_type": "stream",
     "text": [
      "  1s [TOOLS_CALL_CHUNK] \u001b[32m{\"index\": 0, \"id\": \"call_f1167ac8b38942efbdfa71\", \"type\": \"function\", \"function\": {\"name\": \"get_current_weather\", \"arguments\": \"\"}}\u001b[0m\n",
      "  1s [TOOLS_CALL_CHUNK] \u001b[32m{\"index\": 0, \"id\": \"\", \"type\": \"function\", \"function\": {\"arguments\": \"{\\\"location\\\": \\\"\"}}\u001b[0m\n",
      "  1s [TOOLS_CALL_CHUNK] \u001b[32m{\"index\": 0, \"id\": \"\", \"type\": \"function\", \"function\": {\"arguments\": \"广州\\\"}\"}}\u001b[0m\n",
      "  1s [TOOLS_CALL_CHUNK] \u001b[32m{\"index\": 0, \"id\": \"\", \"type\": \"function\", \"function\": {}}\u001b[0m\n",
      "  1s [TOOLS_CALL_FINAL] \u001b[36m[{\"index\": 0, \"id\": \"call_f1167ac8b38942efbdfa71\", \"type\": \"function\", \"function\": {\"name\": \"get_current_weather\", \"arguments\": \"{\\\"location\\\": \\\"广州\\\"}\"}}]\u001b[0m\n",
      "\u001b[32m广\u001b[0m\u001b[32m州\u001b[0m\u001b[32m今\u001b[0m\u001b[32m天\u001b[0m\u001b[32m是\u001b[0m\u001b[32m晴\u001b[0m\u001b[32m天\u001b[0m\u001b[32m。\u001b[0m\u001b[32m \u001b[0m\n",
      "\n",
      "  1s [TOOL_RESP_FINAL] \u001b[36m广州今天是晴天。 \u001b[0m\n",
      "  3s [TOOLS_CALL_CHUNK] \u001b[32m{\"index\": 0, \"id\": \"call_9f5a035ffe954838b33600\", \"type\": \"function\", \"function\": {\"name\": \"get_p\", \"arguments\": \"\"}}\u001b[0m\n",
      "  4s [TOOLS_CALL_CHUNK] \u001b[32m{\"index\": 0, \"id\": \"\", \"type\": \"function\", \"function\": {\"name\": \"ices\", \"arguments\": \"{\\\"hours\"}}\u001b[0m\n",
      "  4s [TOOLS_CALL_CHUNK] \u001b[32m{\"index\": 0, \"id\": \"\", \"type\": \"function\", \"function\": {\"arguments\": \"\\\": \\\"2\\\"}\"}}\u001b[0m\n",
      "  4s [TOOLS_CALL_CHUNK] \u001b[32m{\"index\": 0, \"id\": \"\", \"type\": \"function\", \"function\": {}}\u001b[0m\n",
      "  4s [TOOLS_CALL_FINAL] \u001b[36m[{\"index\": 0, \"id\": \"call_9f5a035ffe954838b33600\", \"type\": \"function\", \"function\": {\"name\": \"get_pices\", \"arguments\": \"{\\\"hours\\\": \\\"2\\\"}\"}}]\u001b[0m\n",
      "\u001b[32m球场每小时25元，你要定2小时，所以是50元。\u001b[0m\n",
      "\n",
      "  4s [TOOL_RESP_FINAL] \u001b[36m球场每小时25元，你要定2小时，所以是50元。\u001b[0m\n",
      "\u001b[32m广\u001b[0m\u001b[32m州今天的天气是晴\u001b[0m\u001b[32m朗的。至于预订2小时的\u001b[0m\u001b[32m羽毛球球场费用，每小时的价格是\u001b[0m\u001b[32m25元，因此2小时总计\u001b[0m\u001b[32m需要50元。\u001b[0m\u001b[32m\u001b[0m\n",
      "\n"
     ]
    },
    {
     "data": {
      "text/plain": [
       "[{'role': 'user', 'content': '帮我看看广州天气，顺便看看订2小时的羽毛球球场多少钱'},\n",
       " {'role': 'assistant',\n",
       "  'content': '',\n",
       "  'tool_calls': [{'index': 0,\n",
       "    'id': 'call_f1167ac8b38942efbdfa71',\n",
       "    'type': 'function',\n",
       "    'function': {'name': 'get_current_weather',\n",
       "     'arguments': '{\"location\": \"广州\"}'}}]},\n",
       " {'tool_call_id': 'call_f1167ac8b38942efbdfa71',\n",
       "  'role': 'tool',\n",
       "  'name': 'get_current_weather',\n",
       "  'content': '广州今天是晴天。 '},\n",
       " {'role': 'assistant',\n",
       "  'content': '',\n",
       "  'tool_calls': [{'index': 0,\n",
       "    'id': 'call_9f5a035ffe954838b33600',\n",
       "    'type': 'function',\n",
       "    'function': {'name': 'get_pices', 'arguments': '{\"hours\": \"2\"}'}}]},\n",
       " {'tool_call_id': 'call_9f5a035ffe954838b33600',\n",
       "  'role': 'tool',\n",
       "  'name': 'get_pices',\n",
       "  'content': '球场每小时25元，你要定2小时，所以是50元。'},\n",
       " {'role': 'assistant',\n",
       "  'content': '广州今天的天气是晴朗的。至于预订2小时的羽毛球球场费用，每小时的价格是25元，因此2小时总计需要50元。'}]"
      ]
     },
     "execution_count": 2,
     "metadata": {},
     "output_type": "execute_result"
    }
   ],
   "source": [
    "from illufly.types import ToolAgent\n",
    "from illufly.chat import ChatQwen\n",
    "\n",
    "def get_current_weather(location: str=None):\n",
    "    \"\"\"获取城市的天气情况\"\"\"\n",
    "    return f\"{location}今天是晴天。 \"\n",
    "\n",
    "def get_pices(hours: int=1):\n",
    "    \"\"\"预测订羽毛球球场的价格，hours是预订球场的小时数，因为球场价格是按照小时计算的\"\"\"\n",
    "    yield f\"球场每小时25元，你要定{hours}小时，所以是{hours*25}元。\"\n",
    "\n",
    "a = ChatQwen()\n",
    "toolkits = [ToolAgent(t) for t in [get_current_weather, get_pices]]\n",
    "a(\"帮我看看广州天气，顺便看看订2小时的羽毛球球场多少钱\", tools=toolkits, new_chat=True, verbose=True)\n",
    "a.memory"
   ]
  },
  {
   "cell_type": "markdown",
   "id": "46b3d3f2-cb5a-41cb-bc49-4ae24aa72200",
   "metadata": {},
   "source": [
    "### openai兼容"
   ]
  },
  {
   "cell_type": "code",
   "execution_count": 7,
   "id": "bf5ae191-7418-46e6-b438-a43a1b969cb2",
   "metadata": {},
   "outputs": [
    {
     "data": {
      "text/plain": [
       "[{'role': 'user', 'content': '你能帮我写一首关于兔子做梦的四句儿歌?'},\n",
       " {'role': 'assistant',\n",
       "  'content': '好的，我来帮你创作一首关于兔子做梦的四句儿歌：\\n小兔子，蹦蹦跳，\\n梦见森林里，有花香。\\n醒来一看，还是梦中，\\n心里美滋滋，乐悠悠。'}]"
      ]
     },
     "execution_count": 7,
     "metadata": {},
     "output_type": "execute_result"
    }
   ],
   "source": [
    "qwen.memory"
   ]
  },
  {
   "cell_type": "code",
   "execution_count": 8,
   "id": "8965bd1f-6e3b-4f59-8491-87ec6ac9bb7e",
   "metadata": {},
   "outputs": [
    {
     "name": "stdout",
     "output_type": "stream",
     "text": [
      "\u001b[32m当然\u001b[0m\u001b[32m可以\u001b[0m\u001b[32m！\u001b[0m\u001b[32m以下是一首关于兔子\u001b[0m\u001b[32m做梦的四句儿歌：\n",
      "\n",
      "小白\u001b[0m\u001b[32m兔，白又白，\n",
      "梦中\u001b[0m\u001b[32m游，快乐无比。\n",
      "跳上高山\u001b[0m\u001b[32m，下海里，\n",
      "寻找宝藏，\u001b[0m\u001b[32m梦想成真。\n",
      "\n",
      "希望这首儿歌\u001b[0m\u001b[32m能够满足你的需求。如果有其他要求\u001b[0m\u001b[32m或需要进一步的帮助，请随时告诉我。\u001b[0m\n",
      "\n"
     ]
    },
    {
     "data": {
      "text/plain": [
       "'当然可以！以下是一首关于兔子做梦的四句儿歌：\\n\\n小白兔，白又白，\\n梦中游，快乐无比。\\n跳上高山，下海里，\\n寻找宝藏，梦想成真。\\n\\n希望这首儿歌能够满足你的需求。如果有其他要求或需要进一步的帮助，请随时告诉我。'"
      ]
     },
     "execution_count": 8,
     "metadata": {},
     "output_type": "execute_result"
    }
   ],
   "source": [
    "from illufly.chat import ChatOpenAI\n",
    "\n",
    "qwen = ChatOpenAI(model=\"qwen2-1.5b-instruct\", imitator=\"Qwen\")\n",
    "qwen(\n",
    "    [{\"role\": \"user\", \"content\": \"你能帮我写一首关于兔子做梦的四句儿歌?\"}],\n",
    ")"
   ]
  },
  {
   "cell_type": "code",
   "execution_count": 15,
   "id": "b20e1f88-0550-4cde-862b-b15e09da2e2f",
   "metadata": {},
   "outputs": [
    {
     "data": {
      "text/plain": [
       "[{'role': 'user', 'content': '今天广州适合徒步吗'},\n",
       " {'role': 'assistant',\n",
       "  'content': '',\n",
       "  'tool_calls': [{'index': 0,\n",
       "    'id': 'call_4991f1ee78a14d41bd5f77',\n",
       "    'type': 'function',\n",
       "    'function': {'name': 'get_current_weather',\n",
       "     'arguments': '{\"location\": \"广州\"}'}}]},\n",
       " {'tool_call_id': 'call_4991f1ee78a14d41bd5f77',\n",
       "  'role': 'tool',\n",
       "  'name': 'get_current_weather',\n",
       "  'content': '广州今天是晴天。 '},\n",
       " {'role': 'assistant', 'content': '今天广州是晴天，所以非常适合徒步。不过建议在户外活动时注意防晒和保持水分哦！'}]"
      ]
     },
     "execution_count": 15,
     "metadata": {},
     "output_type": "execute_result"
    }
   ],
   "source": [
    "a.memory"
   ]
  },
  {
   "cell_type": "code",
   "execution_count": 17,
   "id": "a48a599c-e2cc-478c-8931-a23ae2d17bd0",
   "metadata": {},
   "outputs": [
    {
     "name": "stdout",
     "output_type": "stream",
     "text": [
      "\u001b[32m上\u001b[0m\u001b[32m海\u001b[0m\u001b[32m今\u001b[0m\u001b[32m天\u001b[0m\u001b[32m是\u001b[0m\u001b[32m晴\u001b[0m\u001b[32m天\u001b[0m\u001b[32m。\u001b[0m\u001b[32m \u001b[0m\n",
      "\n",
      "\u001b[32m广\u001b[0m\u001b[32m州\u001b[0m\u001b[32m今\u001b[0m\u001b[32m天\u001b[0m\u001b[32m是\u001b[0m\u001b[32m晴\u001b[0m\u001b[32m天\u001b[0m\u001b[32m。\u001b[0m\u001b[32m \u001b[0m\n",
      "\n",
      "\u001b[32m从\u001b[0m\u001b[32m今天的天气情况来看，上海\u001b[0m\u001b[32m和广州都是晴天，所以这两个\u001b[0m\u001b[32m城市都适合徒步。不过具体的徒步\u001b[0m\u001b[32m路线选择还需要考虑当地的风向和\u001b[0m\u001b[32m温度等因素。\u001b[0m\n",
      "\n"
     ]
    },
    {
     "data": {
      "text/plain": [
       "'从今天的天气情况来看，上海和广州都是晴天，所以这两个城市都适合徒步。不过具体的徒步路线选择还需要考虑当地的风向和温度等因素。'"
      ]
     },
     "execution_count": 17,
     "metadata": {},
     "output_type": "execute_result"
    }
   ],
   "source": [
    "from illufly.types import ToolAgent\n",
    "from illufly.chat import ChatOpenAI\n",
    "\n",
    "def get_current_weather(location: str=None):\n",
    "    \"\"\"获取城市的天气情况\"\"\"\n",
    "    return f\"{location}今天是晴天。 \"\n",
    "\n",
    "a = ChatOpenAI(model=\"qwen2-1.5b-instruct\", imitator=\"Qwen\")\n",
    "a(\"今天上海和广州适合徒步吗\", tools=[ToolAgent(get_current_weather)])"
   ]
  },
  {
   "cell_type": "code",
   "execution_count": 22,
   "id": "bffeff51-1da3-4481-ae53-ed236e2d4873",
   "metadata": {},
   "outputs": [
    {
     "data": {
      "text/plain": [
       "[{'role': 'user', 'content': '今天上海和广州天气如何啊，一起调用工具查查再回答'},\n",
       " {'role': 'assistant',\n",
       "  'content': '',\n",
       "  'tool_calls': [{'index': 0,\n",
       "    'id': 'call_84806adfd47c4320b3b98d',\n",
       "    'type': 'function',\n",
       "    'function': {'name': 'get_current_weather',\n",
       "     'arguments': '{\"location\": \"上海\"}'}}]},\n",
       " {'tool_call_id': 'call_84806adfd47c4320b3b98d',\n",
       "  'role': 'tool',\n",
       "  'name': 'get_current_weather',\n",
       "  'content': '上海今天是晴天。 '},\n",
       " {'role': 'assistant',\n",
       "  'content': '',\n",
       "  'tool_calls': [{'index': 0,\n",
       "    'id': 'call_d07e52a284cb4ac2b9ebcd',\n",
       "    'type': 'function',\n",
       "    'function': {'name': 'get_current_weather',\n",
       "     'arguments': '{\"location\": \"广州\"}'}}]},\n",
       " {'tool_call_id': 'call_d07e52a284cb4ac2b9ebcd',\n",
       "  'role': 'tool',\n",
       "  'name': 'get_current_weather',\n",
       "  'content': '广州今天是晴天。 '},\n",
       " {'role': 'assistant', 'content': '今天上海和广州都是晴天哦。'}]"
      ]
     },
     "execution_count": 22,
     "metadata": {},
     "output_type": "execute_result"
    }
   ],
   "source": [
    "a.memory"
   ]
  },
  {
   "cell_type": "markdown",
   "id": "983390ba-cdeb-4651-b0df-0a59204be8fc",
   "metadata": {},
   "source": [
    "## 向量模型"
   ]
  },
  {
   "cell_type": "code",
   "execution_count": 1,
   "id": "9aaadc6e-9b13-4bf6-80c6-930e0e5997e1",
   "metadata": {},
   "outputs": [
    {
     "name": "stdout",
     "output_type": "stream",
     "text": [
      "[-0.10436907410621643, 0.043999478220939636, -0.07047602534294128]\n"
     ]
    }
   ],
   "source": [
    "from illufly.types import Document\n",
    "from illufly.embeddings import DashScopeEmbeddings\n",
    "\n",
    "embeddings = DashScopeEmbeddings()\n",
    "doc = [Document(\"这是一个测试文本\")]\n",
    "embeddings(doc)\n",
    "print(embeddings.last_output[0].metadata['embeddings'][:3])"
   ]
  },
  {
   "cell_type": "code",
   "execution_count": 2,
   "id": "53d9527f-0c20-4111-9af7-24c0d56a9a16",
   "metadata": {},
   "outputs": [
    {
     "data": {
      "text/plain": [
       "[Document(text='illufly？ 这是一个专注于写作和对话场景的多智能体框架', metadata='{\"source\": \"unknown\", \"embeddings\": [-0.0847005844116211, 0.04371895268559456, 0.000247611606027931,...'),\n",
       " Document(text='普鸿是做消防业务的专业公司', metadata='{\"source\": \"unknown\", \"embeddings\": [-0.0868479385972023, 0.0248136967420578, -0.027287213131785393,...'),\n",
       " Document(text='幻蝶AI的智能体框架非常领先', metadata='{\"source\": \"unknown\", \"embeddings\": [-0.05167926475405693, 0.00564523134380579, -0.00589442625641822...')]"
      ]
     },
     "execution_count": 2,
     "metadata": {},
     "output_type": "execute_result"
    }
   ],
   "source": [
    "from illufly.embeddings import ZhipuEmbeddings, DashScopeEmbeddings\n",
    "from illufly.io import log\n",
    "import os\n",
    "# os.environ[\"ILLUFLY_CACHE_EMBEDDINGS\"] = \"./__CACHE_EMBEDDINGS__\"\n",
    "\n",
    "e = DashScopeEmbeddings()\n",
    "e(\n",
    "    docs=[\n",
    "        \"illufly？ 这是一个专注于写作和对话场景的多智能体框架\",\n",
    "        \"普鸿是做消防业务的专业公司\",\n",
    "        \"幻蝶AI的智能体框架非常领先\",\n",
    "    ],\n",
    "    verbose=True\n",
    ")"
   ]
  },
  {
   "cell_type": "code",
   "execution_count": 3,
   "id": "bdad84de-c824-4fef-beda-fd9db62e72c2",
   "metadata": {},
   "outputs": [
    {
     "data": {
      "text/plain": [
       "[Document(text='illufly？ 这是一个专注于写作和对话场景的多智能体框架', metadata='{\"source\": \"unknown\", \"embeddings\": [-0.0847005844116211, 0.04371895268559456, 0.000247611606027931,...'),\n",
       " Document(text='普鸿是做消防业务的专业公司', metadata='{\"source\": \"unknown\", \"embeddings\": [-0.0868479385972023, 0.0248136967420578, -0.027287213131785393,...'),\n",
       " Document(text='幻蝶AI的智能体框架非常领先', metadata='{\"source\": \"unknown\", \"embeddings\": [-0.05167926475405693, 0.00564523134380579, -0.00589442625641822...'),\n",
       " Document(text='模型：这里列出了被评估的模型名称，都是基于\"text-embedding-v3\"', metadata='{\"source\": \"unknown\", \"embeddings\": [-0.062373656779527664, -0.028722155839204788, -0.02404510229825...'),\n",
       " Document(text='模型维度：这是指向量模型的维度，即每个向量在嵌入空间中的特征数量。在这个例子中，模型的维度分别为1024、768和512。', metadata='{\"source\": \"unknown\", \"embeddings\": [-0.04857911914587021, -0.028379620984196663, -0.053788159042596...'),\n",
       " Document(text='MTEB：这可能是模型在某个基准测试（可能是多任务情感分析基准，Multi-Task Emotion Benchmark）上的总体准确率或得分。数值越高，表示模型在该基准测试上的表现越好。', metadata='{\"source\": \"unknown\", \"embeddings\": [-0.028462227433919907, -0.06827855855226517, -0.073512986302375...'),\n",
       " Document(text='MTEB（Retrieval task）：这是模型在MTEB基准的检索任务上的得分。检索任务通常涉及到从数据集中检索与给定查询最相关的项。', metadata='{\"source\": \"unknown\", \"embeddings\": [-0.022207587957382202, -0.05412628874182701, -0.058304328471422...'),\n",
       " Document(text='CMTEB：这可能是模型在某种上下文修改的MTEB基准测试上的得分。这里的“C”可能代表“Contextual”或其他某种修改版。', metadata='{\"source\": \"unknown\", \"embeddings\": [-0.029237115755677223, -0.01602769084274769, -0.062231920659542...'),\n",
       " Document(text='CMTEB (Retrieval task)：这是模型在CMTEB基准的检索任务上的得分。', metadata='{\"source\": \"unknown\", \"embeddings\": [-0.035427939146757126, -0.047904737293720245, -0.06265354156494...')]"
      ]
     },
     "execution_count": 3,
     "metadata": {},
     "output_type": "execute_result"
    }
   ],
   "source": [
    "from illufly.embeddings import DashScopeEmbeddings\n",
    "import os\n",
    "\n",
    "e = DashScopeEmbeddings()\n",
    "e(\n",
    "    [\n",
    "        \"illufly？ 这是一个专注于写作和对话场景的多智能体框架\",\n",
    "        \"普鸿是做消防业务的专业公司\",\n",
    "        \"幻蝶AI的智能体框架非常领先\",\n",
    "        '模型：这里列出了被评估的模型名称，都是基于\"text-embedding-v3\"',\n",
    "        '模型维度：这是指向量模型的维度，即每个向量在嵌入空间中的特征数量。在这个例子中，模型的维度分别为1024、768和512。',\n",
    "        'MTEB：这可能是模型在某个基准测试（可能是多任务情感分析基准，Multi-Task Emotion Benchmark）上的总体准确率或得分。数值越高，表示模型在该基准测试上的表现越好。',\n",
    "        'MTEB（Retrieval task）：这是模型在MTEB基准的检索任务上的得分。检索任务通常涉及到从数据集中检索与给定查询最相关的项。',\n",
    "        'CMTEB：这可能是模型在某种上下文修改的MTEB基准测试上的得分。这里的“C”可能代表“Contextual”或其他某种修改版。',\n",
    "        'CMTEB (Retrieval task)：这是模型在CMTEB基准的检索任务上的得分。'\n",
    "    ],\n",
    "    verbose=True\n",
    ")"
   ]
  },
  {
   "cell_type": "markdown",
   "id": "223b45b5-1d30-4b71-9569-86b0a031ccdf",
   "metadata": {},
   "source": [
    "### 在FaissDB 中使用"
   ]
  },
  {
   "cell_type": "code",
   "execution_count": 13,
   "id": "a1fa0450-c364-4e01-bed2-511457dade79",
   "metadata": {},
   "outputs": [
    {
     "name": "stdout",
     "output_type": "stream",
     "text": [
      "  0s [INFO] \u001b[34m[0.410] unknown: 普鸿是做消防业务的专业公司\u001b[0m\n",
      "  0s [INFO] \u001b[34m[1.165] unknown: illufly？ 这是一个专注于写作和对话场景的多智能体框架\u001b[0m\n",
      "  0s [INFO] \u001b[34m[1.312] unknown: 幻蝶AI的智能体框架非常领先\u001b[0m\n",
      "  0s [INFO] \u001b[34m[1.313] unknown: MTEB（Retrieval task）：这是模型在MTEB基准的检索任务上的得分。检索任务通常涉及到从数据集中检索与给定查询最相关的项。\u001b[0m\n",
      "  0s [INFO] \u001b[34m[1.336] unknown: MTEB：这可能是模型在某个基准测试（可能是多任务情感分析基准，Multi-Task Emotion Benchmark）上的总体准确率或得分。数值越高，表示模型在该基准测试上的表现越好。\u001b[0m\n",
      "耗时0.3778669834136963s\n"
     ]
    }
   ],
   "source": [
    "import time\n",
    "start = time.time()\n",
    "from illufly.vectordb import FaissDB\n",
    "db = FaissDB(e, train=False)\n",
    "db(\"普鸿干嘛的？\", verbose=True)\n",
    "# v(\"幻蝶是啥？\", verbose=True)\n",
    "end = time.time()\n",
    "print(\"耗时{}s\".format(end-start))"
   ]
  },
  {
   "cell_type": "markdown",
   "id": "9ad94cbb-a876-4342-9779-f05ef38c984c",
   "metadata": {},
   "source": [
    "## 文生图"
   ]
  },
  {
   "cell_type": "code",
   "execution_count": 8,
   "id": "d76e64f9-ec0c-4198-9339-f262789b810e",
   "metadata": {},
   "outputs": [
    {
     "data": {
      "text/plain": [
       "'oss://dashscope-instant/12f4548225cc392d3fef98d0c2f1ac68/2024-09-26/9d9f0ea9-173a-985d-a4c5-e83680b5ed5e/girl6.png'"
      ]
     },
     "execution_count": 8,
     "metadata": {},
     "output_type": "execute_result"
    }
   ],
   "source": [
    "import os\n",
    "import dashscope\n",
    "from dashscope.utils.oss_utils import check_and_upload, upload_file\n",
    "\n",
    "upload_file(\"wanx-sketch-to-image-v1\", \"file://girl6.png\", os.getenv(\"DASHSCOPE_API_KEY\"))\n",
    "# w.upload(\"girl6.png\")"
   ]
  },
  {
   "cell_type": "code",
   "execution_count": 1,
   "id": "9e4e6e2c-6ca4-44d3-94ba-9c459069d408",
   "metadata": {},
   "outputs": [
    {
     "name": "stdout",
     "output_type": "stream",
     "text": [
      "  0s [INFO] \u001b[34m{\"output\": {\"task_status\": \"PENDING\", \"task_id\": \"d46bb793-968d-4a98-a2a8-491c5ac76b29\"}, \"request_id\": \"5dde45eb-7ab8-96e3-8833-b22fdb8660db\"}\u001b[0m\n",
      "  0s [INFO] \u001b[34md46bb793-968d-4a98-a2a8-491c5ac76b29: PENDING\u001b[0m\n",
      "  2s [INFO] \u001b[34md46bb793-968d-4a98-a2a8-491c5ac76b29: RUNNING\u001b[0m\n",
      "  5s [INFO] \u001b[34md46bb793-968d-4a98-a2a8-491c5ac76b29: RUNNING\u001b[0m\n",
      "  7s [INFO] \u001b[34md46bb793-968d-4a98-a2a8-491c5ac76b29: RUNNING\u001b[0m\n",
      " 10s [INFO] \u001b[34md46bb793-968d-4a98-a2a8-491c5ac76b29: RUNNING\u001b[0m\n",
      " 12s [INFO] \u001b[34md46bb793-968d-4a98-a2a8-491c5ac76b29: RUNNING\u001b[0m\n",
      " 14s [INFO] \u001b[34md46bb793-968d-4a98-a2a8-491c5ac76b29: RUNNING\u001b[0m\n",
      " 18s [INFO] \u001b[34md46bb793-968d-4a98-a2a8-491c5ac76b29: RUNNING\u001b[0m\n",
      " 21s [INFO] \u001b[34md46bb793-968d-4a98-a2a8-491c5ac76b29: RUNNING\u001b[0m\n",
      " 23s [INFO] \u001b[34md46bb793-968d-4a98-a2a8-491c5ac76b29: RUNNING\u001b[0m\n",
      " 25s [INFO] \u001b[34md46bb793-968d-4a98-a2a8-491c5ac76b29: RUNNING\u001b[0m\n",
      " 28s [INFO] \u001b[34md46bb793-968d-4a98-a2a8-491c5ac76b29: RUNNING\u001b[0m\n",
      " 30s [INFO] \u001b[34md46bb793-968d-4a98-a2a8-491c5ac76b29: SUCCEEDED\u001b[0m\n",
      "output ['girl8.png']\n",
      "result_index 0\n",
      " 30s [IMAGE_URL] \u001b[33mhttps://dashscope-result-hz.oss-cn-hangzhou.aliyuncs.com/1d/b1/20240926/522176a8/ae073b99-95b1-4009-b23f-fb4c63ca61f7-1.png?Expires=1727433207&OSSAccessKeyId=LTAI5tQZd8AEcZX6KZV4G8qL&Signature=mboNJO1LrjVcjNdDsvYGS7T2uLU%3D\u001b[0m\n",
      " 31s [INFO] \u001b[34moutput image to girl8.png\u001b[0m\n",
      "output ['girl8.png']\n",
      "result_index 1\n",
      " 31s [IMAGE_URL] \u001b[33mhttps://dashscope-result-sh.oss-cn-shanghai.aliyuncs.com/1d/f4/20240926/1b61f1c0/385eb81a-ad24-4636-808b-5dab01d24ea4-1.png?Expires=1727433207&OSSAccessKeyId=LTAI5tQZd8AEcZX6KZV4G8qL&Signature=8xXYJv%2F04rF8Y6jidue0XkSro58%3D\u001b[0m\n",
      " 32s [INFO] \u001b[34moutput image to 385eb81a-ad24-4636-808b-5dab01d24ea4-1.png\u001b[0m\n",
      "output ['girl8.png']\n",
      "result_index 2\n",
      " 32s [IMAGE_URL] \u001b[33mhttps://dashscope-result-sh.oss-cn-shanghai.aliyuncs.com/1d/57/20240926/1b61f1c0/5757718b-fc1f-4130-af73-b945dc1c7d37-1.png?Expires=1727433207&OSSAccessKeyId=LTAI5tQZd8AEcZX6KZV4G8qL&Signature=82u%2FouOoz4CDKwYOvfNzyl1E3j8%3D\u001b[0m\n",
      " 33s [INFO] \u001b[34moutput image to 5757718b-fc1f-4130-af73-b945dc1c7d37-1.png\u001b[0m\n",
      "output ['girl8.png']\n",
      "result_index 3\n",
      " 33s [IMAGE_URL] \u001b[33mhttps://dashscope-result-hz.oss-cn-hangzhou.aliyuncs.com/1d/65/20240926/522176a8/6024034b-15b6-4487-a8f5-a845032b4a3d-1.png?Expires=1727433207&OSSAccessKeyId=LTAI5tQZd8AEcZX6KZV4G8qL&Signature=oNtylZ%2F8s%2B5ttCKfyLw%2FUTO%2B9R4%3D\u001b[0m\n",
      " 34s [INFO] \u001b[34moutput image to 6024034b-15b6-4487-a8f5-a845032b4a3d-1.png\u001b[0m\n",
      " 34s [USAGE] \u001b[34m{\"image_count\": 4}\u001b[0m\n"
     ]
    }
   ],
   "source": [
    "from illufly.tools import Text2ImageWanx\n",
    "\n",
    "w = Text2ImageWanx()\n",
    "w(\n",
    "    input={\n",
    "        \"prompt\": \"换成红色泳衣\",\n",
    "        \"ref_img\": \"girl4.png\"\n",
    "    },\n",
    "    output=\"girl8.png\",\n",
    "    verbose=True\n",
    ")"
   ]
  },
  {
   "cell_type": "code",
   "execution_count": 4,
   "id": "18b9509b-df82-4a8e-8b5b-28e5d969633d",
   "metadata": {},
   "outputs": [
    {
     "name": "stdout",
     "output_type": "stream",
     "text": [
      "  2s [INFO] \u001b[34m{\"output\": {\"task_status\": \"PENDING\", \"task_id\": \"0816b079-1106-4f4e-82ee-25af7a9f8fdc\"}, \"request_id\": \"85af7bbb-54b2-9d6d-9a41-514e00cf6b38\"}\u001b[0m\n",
      "  2s [INFO] \u001b[34m0816b079-1106-4f4e-82ee-25af7a9f8fdc: PENDING\u001b[0m\n",
      "  5s [INFO] \u001b[34m0816b079-1106-4f4e-82ee-25af7a9f8fdc: RUNNING\u001b[0m\n",
      "  7s [INFO] \u001b[34m0816b079-1106-4f4e-82ee-25af7a9f8fdc: RUNNING\u001b[0m\n",
      "  9s [INFO] \u001b[34m0816b079-1106-4f4e-82ee-25af7a9f8fdc: RUNNING\u001b[0m\n",
      " 11s [INFO] \u001b[34m0816b079-1106-4f4e-82ee-25af7a9f8fdc: RUNNING\u001b[0m\n",
      " 13s [INFO] \u001b[34m0816b079-1106-4f4e-82ee-25af7a9f8fdc: RUNNING\u001b[0m\n",
      " 15s [INFO] \u001b[34m0816b079-1106-4f4e-82ee-25af7a9f8fdc: RUNNING\u001b[0m\n",
      " 17s [INFO] \u001b[34m0816b079-1106-4f4e-82ee-25af7a9f8fdc: RUNNING\u001b[0m\n",
      " 19s [INFO] \u001b[34m0816b079-1106-4f4e-82ee-25af7a9f8fdc: RUNNING\u001b[0m\n",
      " 22s [INFO] \u001b[34m0816b079-1106-4f4e-82ee-25af7a9f8fdc: RUNNING\u001b[0m\n",
      " 24s [INFO] \u001b[34m0816b079-1106-4f4e-82ee-25af7a9f8fdc: RUNNING\u001b[0m\n",
      " 26s [INFO] \u001b[34m0816b079-1106-4f4e-82ee-25af7a9f8fdc: RUNNING\u001b[0m\n",
      " 28s [INFO] \u001b[34m0816b079-1106-4f4e-82ee-25af7a9f8fdc: RUNNING\u001b[0m\n",
      " 30s [INFO] \u001b[34m0816b079-1106-4f4e-82ee-25af7a9f8fdc: SUCCEEDED\u001b[0m\n",
      "output None\n",
      "result_index 0\n",
      " 30s [IMAGE_URL] \u001b[33mhttps://dashscope-result-sh.oss-cn-shanghai.aliyuncs.com/1d/84/20240926/1b61f1c0/bf05d6fd-2437-40e1-899e-c2a7aeaeeea2-1.png?Expires=1727434026&OSSAccessKeyId=LTAI5tQZd8AEcZX6KZV4G8qL&Signature=oFF0Dk51LEajUhQLMzxFbnzMC%2Fw%3D\u001b[0m\n",
      " 31s [INFO] \u001b[34moutput image to bf05d6fd-2437-40e1-899e-c2a7aeaeeea2-1.png\u001b[0m\n",
      " 31s [USAGE] \u001b[34m{\"image_count\": 1}\u001b[0m\n"
     ]
    }
   ],
   "source": [
    "from illufly.tools import Text2ImageWanx\n",
    "from illufly.io import log, alog\n",
    "\n",
    "w = Text2ImageWanx()\n",
    "await alog(w, input={\"prompt\": \"an asia girl in water\"}, parameters={\"n\": 1}, verbose=True)"
   ]
  },
  {
   "cell_type": "markdown",
   "id": "39c4515c-8ff2-40b1-a559-f8007676be8d",
   "metadata": {},
   "source": [
    "## Cosplay"
   ]
  },
  {
   "cell_type": "code",
   "execution_count": 3,
   "id": "e8ddbb18-dbf8-4c64-b74c-fda3d93472ae",
   "metadata": {},
   "outputs": [
    {
     "data": {
      "text/plain": [
       "'20240917184529907756_1_rpndhug9lk.jpg'"
      ]
     },
     "execution_count": 3,
     "metadata": {},
     "output_type": "execute_result"
    }
   ],
   "source": [
    "import os\n",
    "from urllib.parse import urlparse, unquote\n",
    "parsed_url = urlparse(\"https://dashscope-result-bj.oss-cn-beijing.aliyuncs.com/viapi-video/2024-09-17/63309626-c9d7-48c6-9df4-ec579212a613/20240917184529907756_1_rpndhug9lk.jpg?Expires=1726656336&OSSAccessKeyId=LTAI5tQZd8AEcZX6KZV4G8qL&Signature=jlv8VajsiYWGmeRiqn%2F4Wah6zyg%3D\")\n",
    "os.path.basename(parsed_url.path)"
   ]
  },
  {
   "cell_type": "code",
   "execution_count": 4,
   "id": "4926f9f9-cffe-4a41-8d1a-77525774248b",
   "metadata": {},
   "outputs": [
    {
     "name": "stdout",
     "output_type": "stream",
     "text": [
      "  1s [INFO] \u001b[34m{\"output\": {\"task_status\": \"PENDING\", \"task_id\": \"65b648c9-73a8-4b38-8154-7913254ccc30\"}, \"request_id\": \"c6de1abc-d965-9fce-8fc1-bbf21a50c836\"}\u001b[0m\n",
      "  1s [INFO] \u001b[34m65b648c9-73a8-4b38-8154-7913254ccc30: PENDING\u001b[0m\n",
      " 10s [IMAGE_URL] \u001b[33mhttps://dashscope-result-bj.oss-cn-beijing.aliyuncs.com/viapi-video/2024-09-18/8fecf20d-cc0f-4e12-8139-f127d3ebac23/20240918012300341467_1_25kptsg4mc.jpg?Expires=1726680186&OSSAccessKeyId=LTAI5tQZd8AEcZX6KZV4G8qL&Signature=W7fR3qmXkUMnpZyunOaWmU8xe7w%3D\u001b[0m\n",
      " 10s [INFO] \u001b[34moutput image to 20240918012300341467_1_25kptsg4mc.jpg\u001b[0m\n",
      " 10s [USAGE] \u001b[34m{\"image_count\": 1}\u001b[0m\n"
     ]
    },
    {
     "data": {
      "text/plain": [
       "''"
      ]
     },
     "execution_count": 4,
     "metadata": {},
     "output_type": "execute_result"
    }
   ],
   "source": [
    "from illufly.tools import CosplayWanx\n",
    "from illufly.io import log, alog\n",
    "\n",
    "w = CosplayWanx()\n",
    "log(w, verbose=True)"
   ]
  },
  {
   "cell_type": "code",
   "execution_count": 1,
   "id": "4bab28ab-ad09-4fca-865f-5e08e484e15b",
   "metadata": {},
   "outputs": [
    {
     "name": "stdout",
     "output_type": "stream",
     "text": [
      "  1s [INFO] \u001b[34m{\"output\": {\"task_status\": \"PENDING\", \"task_id\": \"1543b458-5e7c-4107-a183-650f7896d87d\"}, \"request_id\": \"4d4ec17b-bb48-9ebc-8f07-ffd21b1979d8\"}\u001b[0m\n",
      "  1s [INFO] \u001b[34m1543b458-5e7c-4107-a183-650f7896d87d: PENDING\u001b[0m\n",
      " 10s [IMAGE_URL] \u001b[33mhttps://dashscope-result-bj.oss-cn-beijing.aliyuncs.com/viapi-video/2024-09-18/d77476b6-012f-48f7-ad79-9e0905702d52/20240918014238320881_1_rs3nxbi9l4.jpg?Expires=1726681365&OSSAccessKeyId=LTAI5tQZd8AEcZX6KZV4G8qL&Signature=oigH4uGNO3ZZGK%2FzmJMB8rzLRjA%3D\u001b[0m\n",
      " 10s [INFO] \u001b[34moutput image to 20240918014238320881_1_rs3nxbi9l4.jpg\u001b[0m\n",
      " 10s [USAGE] \u001b[34m{\"image_count\": 1}\u001b[0m\n"
     ]
    },
    {
     "data": {
      "text/plain": [
       "''"
      ]
     },
     "execution_count": 1,
     "metadata": {},
     "output_type": "execute_result"
    }
   ],
   "source": [
    "from illufly.tools import CosplayWanx\n",
    "from illufly.io import log, alog\n",
    "\n",
    "w = CosplayWanx()\n",
    "await alog(w, verbose=True)"
   ]
  }
 ],
 "metadata": {
  "kernelspec": {
   "display_name": "Python 3 (ipykernel)",
   "language": "python",
   "name": "python3"
  },
  "language_info": {
   "codemirror_mode": {
    "name": "ipython",
    "version": 3
   },
   "file_extension": ".py",
   "mimetype": "text/x-python",
   "name": "python",
   "nbconvert_exporter": "python",
   "pygments_lexer": "ipython3",
   "version": "3.10.0"
  }
 },
 "nbformat": 4,
 "nbformat_minor": 5
}
