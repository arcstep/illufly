{
 "cells": [
  {
   "cell_type": "markdown",
   "id": "9d29c40a-2a13-4a7f-a465-189d2ea5ead2",
   "metadata": {},
   "source": [
    "# 大模型"
   ]
  },
  {
   "cell_type": "markdown",
   "id": "30e55ec8-ba21-4701-96d5-6a54f9199b24",
   "metadata": {},
   "source": [
    "## 对话模型"
   ]
  },
  {
   "cell_type": "markdown",
   "id": "75734f38-bdad-4b9e-9638-f65647af36e7",
   "metadata": {},
   "source": [
    "### 同步调用"
   ]
  },
  {
   "cell_type": "code",
   "execution_count": 3,
   "id": "75628fec-7952-42b9-87d9-f8c54e04bdec",
   "metadata": {},
   "outputs": [
    {
     "name": "stdout",
     "output_type": "stream",
     "text": [
      "\u001b[32m好的\u001b[0m\u001b[32m，\u001b[0m\u001b[32m我\u001b[0m\u001b[32m来帮你创作一首关于\u001b[0m\u001b[32m兔子做梦的四句儿歌：\n",
      "\u001b[0m\u001b[32m小兔子，蹦蹦跳，\n",
      "梦见\u001b[0m\u001b[32m森林里，有花香。\n",
      "醒来\u001b[0m\u001b[32m一看，还是梦中，\n",
      "心里美\u001b[0m\u001b[32m滋滋，乐悠悠。\u001b[0m\u001b[32m\u001b[0m\n",
      "\n"
     ]
    },
    {
     "data": {
      "text/plain": [
       "'好的，我来帮你创作一首关于兔子做梦的四句儿歌：\\n小兔子，蹦蹦跳，\\n梦见森林里，有花香。\\n醒来一看，还是梦中，\\n心里美滋滋，乐悠悠。'"
      ]
     },
     "execution_count": 3,
     "metadata": {},
     "output_type": "execute_result"
    }
   ],
   "source": [
    "from illufly.chat import ChatQwen\n",
    "\n",
    "qwen = ChatQwen()\n",
    "qwen(\n",
    "    [{\"role\": \"user\", \"content\": \"你能帮我写一首关于兔子做梦的四句儿歌?\"}],\n",
    "    model=\"qwen2-1.5b-instruct\"\n",
    ")"
   ]
  },
  {
   "cell_type": "code",
   "execution_count": 4,
   "id": "dfb73248-a53e-4579-87d0-677a49072ae7",
   "metadata": {},
   "outputs": [
    {
     "data": {
      "text/plain": [
       "[{'role': 'user', 'content': '你能帮我写一首关于兔子做梦的四句儿歌?'},\n",
       " {'role': 'assistant',\n",
       "  'content': '好的，我来帮你创作一首关于兔子做梦的四句儿歌：\\n小兔子，蹦蹦跳，\\n梦见森林里，有花香。\\n醒来一看，还是梦中，\\n心里美滋滋，乐悠悠。'}]"
      ]
     },
     "execution_count": 4,
     "metadata": {},
     "output_type": "execute_result"
    }
   ],
   "source": [
    "qwen.memory"
   ]
  },
  {
   "cell_type": "code",
   "execution_count": 5,
   "id": "f565bd03-3df6-4d47-85ec-2e89ca96e618",
   "metadata": {},
   "outputs": [
    {
     "data": {
      "text/plain": [
       "{'CHAT_QWEN': {'max_workers': 5, 'used_workers': 0, 'waiting_threads': 0},\n",
       " 'DEFAULT': {'max_workers': 5, 'used_workers': 0, 'waiting_threads': 0}}"
      ]
     },
     "execution_count": 5,
     "metadata": {},
     "output_type": "execute_result"
    }
   ],
   "source": [
    "qwen.monitor_executors()"
   ]
  },
  {
   "cell_type": "markdown",
   "id": "475de1dd-80f4-4fa2-96f2-9d6736dc235a",
   "metadata": {},
   "source": [
    "### 工具回调"
   ]
  },
  {
   "cell_type": "code",
   "execution_count": 6,
   "id": "4b2fef77-8fb1-43ce-9edf-8753158f21e1",
   "metadata": {},
   "outputs": [
    {
     "name": "stdout",
     "output_type": "stream",
     "text": [
      "\u001b[32m广\u001b[0m\u001b[32m州\u001b[0m\u001b[32m今\u001b[0m\u001b[32m天\u001b[0m\u001b[32m是\u001b[0m\u001b[32m晴\u001b[0m\u001b[32m天\u001b[0m\u001b[32m。\u001b[0m\u001b[32m \u001b[0m\n",
      "\n",
      "\u001b[32m广\u001b[0m\u001b[32m州今天是晴朗\u001b[0m\u001b[32m的好天气。\u001b[0m\u001b[32m\u001b[0m\n",
      "\n"
     ]
    },
    {
     "data": {
      "text/plain": [
       "'广州今天是晴朗的好天气。'"
      ]
     },
     "execution_count": 6,
     "metadata": {},
     "output_type": "execute_result"
    }
   ],
   "source": [
    "from illufly.types import ToolAgent\n",
    "from illufly.chat import ChatQwen\n",
    "\n",
    "def get_current_weather(location: str=None):\n",
    "    \"\"\"获取城市的天气情况\"\"\"\n",
    "    return f\"{location}今天是晴天。 \"\n",
    "\n",
    "a = ChatQwen()\n",
    "a(\"今天广州天气如何啊\", tools=[ToolAgent(get_current_weather)])"
   ]
  },
  {
   "cell_type": "markdown",
   "id": "46b3d3f2-cb5a-41cb-bc49-4ae24aa72200",
   "metadata": {},
   "source": [
    "### openai兼容"
   ]
  },
  {
   "cell_type": "code",
   "execution_count": 7,
   "id": "bf5ae191-7418-46e6-b438-a43a1b969cb2",
   "metadata": {},
   "outputs": [
    {
     "data": {
      "text/plain": [
       "[{'role': 'user', 'content': '你能帮我写一首关于兔子做梦的四句儿歌?'},\n",
       " {'role': 'assistant',\n",
       "  'content': '好的，我来帮你创作一首关于兔子做梦的四句儿歌：\\n小兔子，蹦蹦跳，\\n梦见森林里，有花香。\\n醒来一看，还是梦中，\\n心里美滋滋，乐悠悠。'}]"
      ]
     },
     "execution_count": 7,
     "metadata": {},
     "output_type": "execute_result"
    }
   ],
   "source": [
    "qwen.memory"
   ]
  },
  {
   "cell_type": "code",
   "execution_count": 8,
   "id": "8965bd1f-6e3b-4f59-8491-87ec6ac9bb7e",
   "metadata": {},
   "outputs": [
    {
     "name": "stdout",
     "output_type": "stream",
     "text": [
      "\u001b[32m当然\u001b[0m\u001b[32m可以\u001b[0m\u001b[32m！\u001b[0m\u001b[32m以下是一首关于兔子\u001b[0m\u001b[32m做梦的四句儿歌：\n",
      "\n",
      "小白\u001b[0m\u001b[32m兔，白又白，\n",
      "梦中\u001b[0m\u001b[32m游，快乐无比。\n",
      "跳上高山\u001b[0m\u001b[32m，下海里，\n",
      "寻找宝藏，\u001b[0m\u001b[32m梦想成真。\n",
      "\n",
      "希望这首儿歌\u001b[0m\u001b[32m能够满足你的需求。如果有其他要求\u001b[0m\u001b[32m或需要进一步的帮助，请随时告诉我。\u001b[0m\n",
      "\n"
     ]
    },
    {
     "data": {
      "text/plain": [
       "'当然可以！以下是一首关于兔子做梦的四句儿歌：\\n\\n小白兔，白又白，\\n梦中游，快乐无比。\\n跳上高山，下海里，\\n寻找宝藏，梦想成真。\\n\\n希望这首儿歌能够满足你的需求。如果有其他要求或需要进一步的帮助，请随时告诉我。'"
      ]
     },
     "execution_count": 8,
     "metadata": {},
     "output_type": "execute_result"
    }
   ],
   "source": [
    "from illufly.chat import ChatOpenAI\n",
    "\n",
    "qwen = ChatOpenAI(model=\"qwen2-1.5b-instruct\", imitator=\"Qwen\")\n",
    "qwen(\n",
    "    [{\"role\": \"user\", \"content\": \"你能帮我写一首关于兔子做梦的四句儿歌?\"}],\n",
    ")"
   ]
  },
  {
   "cell_type": "code",
   "execution_count": 11,
   "id": "a48a599c-e2cc-478c-8931-a23ae2d17bd0",
   "metadata": {},
   "outputs": [
    {
     "name": "stdout",
     "output_type": "stream",
     "text": [
      "\u001b[32m广\u001b[0m\u001b[32m州\u001b[0m\u001b[32m今\u001b[0m\u001b[32m天\u001b[0m\u001b[32m是\u001b[0m\u001b[32m晴\u001b[0m\u001b[32m天\u001b[0m\u001b[32m。\u001b[0m\u001b[32m \u001b[0m\n",
      "\n",
      "\u001b[32m今天\u001b[0m\u001b[32m广州是晴天，\u001b[0m\u001b[32m因此在这样的天气条件下，适合进行\u001b[0m\u001b[32m户外活动，包括徒步。但请注意\u001b[0m\u001b[32m保持适当的防晒和水分补充哦！\u001b[0m\n",
      "\n"
     ]
    },
    {
     "data": {
      "text/plain": [
       "'今天广州是晴天，因此在这样的天气条件下，适合进行户外活动，包括徒步。但请注意保持适当的防晒和水分补充哦！'"
      ]
     },
     "execution_count": 11,
     "metadata": {},
     "output_type": "execute_result"
    }
   ],
   "source": [
    "from illufly.types import ToolAgent\n",
    "from illufly.chat import ChatOpenAI\n",
    "\n",
    "def get_current_weather(location: str=None):\n",
    "    \"\"\"获取城市的天气情况\"\"\"\n",
    "    return f\"{location}今天是晴天。 \"\n",
    "\n",
    "a = ChatOpenAI(model=\"qwen2-1.5b-instruct\", imitator=\"Qwen\")\n",
    "a(\"今天广州适合徒步吗\", tools=[ToolAgent(get_current_weather)])"
   ]
  },
  {
   "cell_type": "code",
   "execution_count": 12,
   "id": "bffeff51-1da3-4481-ae53-ed236e2d4873",
   "metadata": {},
   "outputs": [
    {
     "data": {
      "text/plain": [
       "[{'role': 'user', 'content': '今天广州适合徒步吗'},\n",
       " {'role': 'assistant',\n",
       "  'content': '',\n",
       "  'tool_calls': [{'index': 0,\n",
       "    'id': 'call_0246623959aa4e7b91e41b',\n",
       "    'type': 'function',\n",
       "    'function': {'name': 'get_current_weather',\n",
       "     'arguments': '{\\n  \"location\": \"广州\"\\n}'}}]},\n",
       " {'tool_call_id': 'call_0246623959aa4e7b91e41b',\n",
       "  'role': 'tool',\n",
       "  'name': 'get_current_weather',\n",
       "  'content': '广州今天是晴天。 '},\n",
       " {'role': 'assistant',\n",
       "  'content': '今天广州是晴天，因此在这样的天气条件下，适合进行户外活动，包括徒步。但请注意保持适当的防晒和水分补充哦！'}]"
      ]
     },
     "execution_count": 12,
     "metadata": {},
     "output_type": "execute_result"
    }
   ],
   "source": [
    "a.memory"
   ]
  },
  {
   "cell_type": "code",
   "execution_count": null,
   "id": "a8776fbe-589e-4ed2-b133-1223ddc94dfd",
   "metadata": {},
   "outputs": [],
   "source": []
  }
 ],
 "metadata": {
  "kernelspec": {
   "display_name": "Python 3 (ipykernel)",
   "language": "python",
   "name": "python3"
  },
  "language_info": {
   "codemirror_mode": {
    "name": "ipython",
    "version": 3
   },
   "file_extension": ".py",
   "mimetype": "text/x-python",
   "name": "python",
   "nbconvert_exporter": "python",
   "pygments_lexer": "ipython3",
   "version": "3.10.0"
  }
 },
 "nbformat": 4,
 "nbformat_minor": 5
}
