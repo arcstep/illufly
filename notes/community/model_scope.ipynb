{
 "cells": [
  {
   "cell_type": "markdown",
   "id": "9d29c40a-2a13-4a7f-a465-189d2ea5ead2",
   "metadata": {},
   "source": [
    "# 魔搭社区"
   ]
  },
  {
   "cell_type": "markdown",
   "id": "30e55ec8-ba21-4701-96d5-6a54f9199b24",
   "metadata": {},
   "source": [
    "## 对话模型"
   ]
  },
  {
   "cell_type": "markdown",
   "id": "a56ebc64-4071-443b-8143-c7a3b2182eea",
   "metadata": {},
   "source": [
    "### 同步调用"
   ]
  },
  {
   "cell_type": "code",
   "execution_count": 1,
   "id": "54add976-5cc5-42af-96c2-55851d0178b0",
   "metadata": {},
   "outputs": [
    {
     "name": "stdout",
     "output_type": "stream",
     "text": [
      "\u001b[32m当\u001b[0m\u001b[32m夜\u001b[0m\u001b[32m幕\u001b[0m\u001b[32m低\u001b[0m\u001b[32m垂\u001b[0m\u001b[32m，\u001b[0m\u001b[32m月亮\u001b[0m\u001b[32m轻\u001b[0m\u001b[32m挂\u001b[0m\u001b[32m，\n",
      "\u001b[0m\u001b[32m小\u001b[0m\u001b[32m兔子\u001b[0m\u001b[32m钻\u001b[0m\u001b[32m进\u001b[0m\u001b[32m柔软\u001b[0m\u001b[32m窝\u001b[0m\u001b[32m，\u001b[0m\u001b[32m入\u001b[0m\u001b[32m梦\u001b[0m\u001b[32m乡\u001b[0m\u001b[32m。\n",
      "\u001b[0m\u001b[32m它\u001b[0m\u001b[32m梦见\u001b[0m\u001b[32m一片\u001b[0m\u001b[32m花\u001b[0m\u001b[32m田\u001b[0m\u001b[32m，\u001b[0m\u001b[32m春风\u001b[0m\u001b[32m轻\u001b[0m\u001b[32m抚\u001b[0m\u001b[32m，\n",
      "\u001b[0m\u001b[32m花朵\u001b[0m\u001b[32m为\u001b[0m\u001b[32m它\u001b[0m\u001b[32m歌唱\u001b[0m\u001b[32m，\u001b[0m\u001b[32m世界\u001b[0m\u001b[32m如此\u001b[0m\u001b[32m美妙\u001b[0m\u001b[32m。\n",
      "\n",
      "\u001b[0m\u001b[32m第二\u001b[0m\u001b[32m夜\u001b[0m\u001b[32m，\u001b[0m\u001b[32m梦\u001b[0m\u001b[32m游\u001b[0m\u001b[32m森林\u001b[0m\u001b[32m边\u001b[0m\u001b[32m，\n",
      "\u001b[0m\u001b[32m遇见\u001b[0m\u001b[32m了\u001b[0m\u001b[32m精灵\u001b[0m\u001b[32m们\u001b[0m\u001b[32m，\u001b[0m\u001b[32m闪闪\u001b[0m\u001b[32m发光\u001b[0m\u001b[32m眼\u001b[0m\u001b[32m。\n",
      "\u001b[0m\u001b[32m它们\u001b[0m\u001b[32m教\u001b[0m\u001b[32m兔子\u001b[0m\u001b[32m游戏\u001b[0m\u001b[32m，\u001b[0m\u001b[32m唱\u001b[0m\u001b[32m着\u001b[0m\u001b[32m欢\u001b[0m\u001b[32m响\u001b[0m\u001b[32m曲\u001b[0m\u001b[32m，\n",
      "\u001b[0m\u001b[32m兔子\u001b[0m\u001b[32m笑\u001b[0m\u001b[32m得\u001b[0m\u001b[32m那么\u001b[0m\u001b[32m甜\u001b[0m\u001b[32m，\u001b[0m\u001b[32m梦\u001b[0m\u001b[32m中\u001b[0m\u001b[32m乐\u001b[0m\u001b[32m无\u001b[0m\u001b[32m边\u001b[0m\u001b[32m。\n",
      "\n",
      "\u001b[0m\u001b[32m第三\u001b[0m\u001b[32m日\u001b[0m\u001b[32m，\u001b[0m\u001b[32m梦境\u001b[0m\u001b[32m变成\u001b[0m\u001b[32m浩\u001b[0m\u001b[32m瀚\u001b[0m\u001b[32m海\u001b[0m\u001b[32m，\n",
      "\u001b[0m\u001b[32m小\u001b[0m\u001b[32m兔子\u001b[0m\u001b[32m驾\u001b[0m\u001b[32m着\u001b[0m\u001b[32m云\u001b[0m\u001b[32m船\u001b[0m\u001b[32m，\u001b[0m\u001b[32m追逐\u001b[0m\u001b[32m那\u001b[0m\u001b[32m金色\u001b[0m\u001b[32m太阳\u001b[0m\u001b[32m。\n",
      "\u001b[0m\u001b[32m海\u001b[0m\u001b[32m浪\u001b[0m\u001b[32m轻\u001b[0m\u001b[32m拍\u001b[0m\u001b[32m船\u001b[0m\u001b[32m身\u001b[0m\u001b[32m，\u001b[0m\u001b[32m星星\u001b[0m\u001b[32m在\u001b[0m\u001b[32m耳边\u001b[0m\u001b[32m轻\u001b[0m\u001b[32m语\u001b[0m\u001b[32m，\n",
      "\u001b[0m\u001b[32m这是\u001b[0m\u001b[32m兔子\u001b[0m\u001b[32m冒险\u001b[0m\u001b[32m又\u001b[0m\u001b[32m欢乐\u001b[0m\u001b[32m的一\u001b[0m\u001b[32m夜\u001b[0m\u001b[32m。\n",
      "\n",
      "\u001b[0m\u001b[32m月亮\u001b[0m\u001b[32m为\u001b[0m\u001b[32m它\u001b[0m\u001b[32m盖\u001b[0m\u001b[32m上\u001b[0m\u001b[32m薄\u001b[0m\u001b[32m纱\u001b[0m\u001b[32m，\u001b[0m\u001b[32m星光\u001b[0m\u001b[32m为\u001b[0m\u001b[32m它\u001b[0m\u001b[32m点亮\u001b[0m\u001b[32m路径\u001b[0m\u001b[32m，\n",
      "\u001b[0m\u001b[32m小\u001b[0m\u001b[32m兔子\u001b[0m\u001b[32m在\u001b[0m\u001b[32m梦\u001b[0m\u001b[32m里\u001b[0m\u001b[32m编织\u001b[0m\u001b[32m奇妙\u001b[0m\u001b[32m的故事\u001b[0m\u001b[32m，\n",
      "\u001b[0m\u001b[32m醒来\u001b[0m\u001b[32m时\u001b[0m\u001b[32m带着\u001b[0m\u001b[32m微笑\u001b[0m\u001b[32m，\u001b[0m\u001b[32m梦\u001b[0m\u001b[32m中\u001b[0m\u001b[32m世界\u001b[0m\u001b[32m在\u001b[0m\u001b[32m心中\u001b[0m\u001b[32m常\u001b[0m\u001b[32m存\u001b[0m\u001b[32m，\n",
      "\u001b[0m\u001b[32m关于\u001b[0m\u001b[32m兔子\u001b[0m\u001b[32m的\u001b[0m\u001b[32m梦\u001b[0m\u001b[32m，\u001b[0m\u001b[32m是\u001b[0m\u001b[32m每一个\u001b[0m\u001b[32m孩子的\u001b[0m\u001b[32m快乐\u001b[0m\u001b[32m源\u001b[0m\u001b[32m。\u001b[0m\n",
      "\n"
     ]
    },
    {
     "data": {
      "text/plain": [
       "[{'role': 'user', 'content': '你能帮我写一首关于兔子做梦的四句儿歌?'},\n",
       " {'role': 'assistant',\n",
       "  'content': '当夜幕低垂，月亮轻挂，\\n小兔子钻进柔软窝，入梦乡。\\n它梦见一片花田，春风轻抚，\\n花朵为它歌唱，世界如此美妙。\\n\\n第二夜，梦游森林边，\\n遇见了精灵们，闪闪发光眼。\\n它们教兔子游戏，唱着欢响曲，\\n兔子笑得那么甜，梦中乐无边。\\n\\n第三日，梦境变成浩瀚海，\\n小兔子驾着云船，追逐那金色太阳。\\n海浪轻拍船身，星星在耳边轻语，\\n这是兔子冒险又欢乐的一夜。\\n\\n月亮为它盖上薄纱，星光为它点亮路径，\\n小兔子在梦里编织奇妙的故事，\\n醒来时带着微笑，梦中世界在心中常存，\\n关于兔子的梦，是每一个孩子的快乐源。'}]"
      ]
     },
     "execution_count": 1,
     "metadata": {},
     "output_type": "execute_result"
    }
   ],
   "source": [
    "from illufly.chat import ChatOpenAI\n",
    "\n",
    "a = ChatOpenAI(imitator=\"QWEN2_7B\")\n",
    "a(\"你能帮我写一首关于兔子做梦的四句儿歌?\", verbose=True)\n",
    "a.memory"
   ]
  },
  {
   "cell_type": "markdown",
   "id": "ce9e2f9a-5732-497a-b12d-4bd6a50e087a",
   "metadata": {},
   "source": [
    "### 显示使用 log"
   ]
  },
  {
   "cell_type": "code",
   "execution_count": 10,
   "id": "0f888312-1a6c-4995-b9e6-d767cad1512a",
   "metadata": {},
   "outputs": [
    {
     "name": "stdout",
     "output_type": "stream",
     "text": [
      "\u001b[32m当然\u001b[0m\u001b[32m可以\u001b[0m\u001b[32m，\u001b[0m\u001b[32m很高兴\u001b[0m\u001b[32m帮助\u001b[0m\u001b[32m你\u001b[0m\u001b[32m创作\u001b[0m\u001b[32m这首\u001b[0m\u001b[32m儿\u001b[0m\u001b[32m歌\u001b[0m\u001b[32m。\u001b[0m\u001b[32m以下是\u001b[0m\u001b[32m关于\u001b[0m\u001b[32m兔子\u001b[0m\u001b[32m做梦\u001b[0m\u001b[32m的\u001b[0m\u001b[32m四\u001b[0m\u001b[32m句\u001b[0m\u001b[32m儿\u001b[0m\u001b[32m歌\u001b[0m\u001b[32m：\n",
      "\n",
      "\u001b[0m\u001b[32m月亮\u001b[0m\u001b[32m挂在\u001b[0m\u001b[32m天空\u001b[0m\u001b[32m高\u001b[0m\u001b[32m，\u001b[0m\u001b[32m兔子\u001b[0m\u001b[32m在\u001b[0m\u001b[32m窝\u001b[0m\u001b[32m里\u001b[0m\u001b[32m睡\u001b[0m\u001b[32m得\u001b[0m\u001b[32m牢\u001b[0m\u001b[32m，\n",
      "\u001b[0m\u001b[32m梦\u001b[0m\u001b[32m游\u001b[0m\u001b[32m花\u001b[0m\u001b[32m海\u001b[0m\u001b[32m彩色\u001b[0m\u001b[32m泡\u001b[0m\u001b[32m，\u001b[0m\u001b[32m轻轻\u001b[0m\u001b[32m跳跃\u001b[0m\u001b[32m笑\u001b[0m\u001b[32m盈\u001b[0m\u001b[32m闹\u001b[0m\u001b[32m。\n",
      "\n",
      "\u001b[0m\u001b[32m风\u001b[0m\u001b[32m轻轻\u001b[0m\u001b[32m吹\u001b[0m\u001b[32m过\u001b[0m\u001b[32m草地\u001b[0m\u001b[32m，\u001b[0m\u001b[32m带着\u001b[0m\u001b[32m野\u001b[0m\u001b[32m花\u001b[0m\u001b[32m的\u001b[0m\u001b[32m香气\u001b[0m\u001b[32m，\n",
      "\u001b[0m\u001b[32m兔子\u001b[0m\u001b[32m梦\u001b[0m\u001b[32m中\u001b[0m\u001b[32m吃\u001b[0m\u001b[32m胡萝卜\u001b[0m\u001b[32m，\u001b[0m\u001b[32m快乐\u001b[0m\u001b[32m如\u001b[0m\u001b[32m泉水\u001b[0m\u001b[32m清澈\u001b[0m\u001b[32m。\n",
      "\n",
      "\u001b[0m\u001b[32m星星\u001b[0m\u001b[32m眨眼\u001b[0m\u001b[32m夜\u001b[0m\u001b[32m深\u001b[0m\u001b[32m沉\u001b[0m\u001b[32m，\u001b[0m\u001b[32m月亮\u001b[0m\u001b[32m为\u001b[0m\u001b[32m它\u001b[0m\u001b[32m轻\u001b[0m\u001b[32m吟\u001b[0m\u001b[32m，\n",
      "\u001b[0m\u001b[32m梦\u001b[0m\u001b[32m乡\u001b[0m\u001b[32m里的\u001b[0m\u001b[32m兔子\u001b[0m\u001b[32m甜\u001b[0m\u001b[32m如\u001b[0m\u001b[32m蜜\u001b[0m\u001b[32m，\u001b[0m\u001b[32m美\u001b[0m\u001b[32m梦\u001b[0m\u001b[32m一\u001b[0m\u001b[32m整\u001b[0m\u001b[32m夜\u001b[0m\u001b[32m不停\u001b[0m\u001b[32m。\n",
      "\n",
      "\u001b[0m\u001b[32m希望\u001b[0m\u001b[32m这首\u001b[0m\u001b[32m儿\u001b[0m\u001b[32m歌\u001b[0m\u001b[32m能\u001b[0m\u001b[32m带给\u001b[0m\u001b[32m孩子们\u001b[0m\u001b[32m欢乐\u001b[0m\u001b[32m与\u001b[0m\u001b[32m甜蜜\u001b[0m\u001b[32m的\u001b[0m\u001b[32m幻想\u001b[0m\u001b[32m。\u001b[0m\n",
      "\n"
     ]
    },
    {
     "data": {
      "text/plain": [
       "[{'role': 'user', 'content': '你能帮我写一首关于兔子做梦的四句儿歌?'},\n",
       " {'role': 'assistant',\n",
       "  'content': '当然可以，很高兴帮助你创作这首儿歌。以下是关于兔子做梦的四句儿歌：\\n\\n月亮挂在天空高，兔子在窝里睡得牢，\\n梦游花海彩色泡，轻轻跳跃笑盈闹。\\n\\n风轻轻吹过草地，带着野花的香气，\\n兔子梦中吃胡萝卜，快乐如泉水清澈。\\n\\n星星眨眼夜深沉，月亮为它轻吟，\\n梦乡里的兔子甜如蜜，美梦一整夜不停。\\n\\n希望这首儿歌能带给孩子们欢乐与甜蜜的幻想。'}]"
      ]
     },
     "execution_count": 10,
     "metadata": {},
     "output_type": "execute_result"
    }
   ],
   "source": [
    "# 使用 handler 函数的另一种方式：\n",
    "from illufly.chat import ChatOpenAI\n",
    "from illufly.io import log\n",
    "\n",
    "a = ChatOpenAI(imitator=\"QWEN2_7B\")\n",
    "log(a, \"你能帮我写一首关于兔子做梦的四句儿歌?\", verbose=True)\n",
    "a.memory"
   ]
  },
  {
   "cell_type": "markdown",
   "id": "928208a4-9f2b-44b8-8345-911925488f7f",
   "metadata": {},
   "source": [
    "### 异步调用"
   ]
  },
  {
   "cell_type": "code",
   "execution_count": 2,
   "id": "212d95fc-5dfd-4578-90d9-115736ab7ade",
   "metadata": {},
   "outputs": [
    {
     "name": "stdout",
     "output_type": "stream",
     "text": [
      "\u001b[32m当然\u001b[0m\u001b[32m可以\u001b[0m\u001b[32m，\u001b[0m\u001b[32m下面\u001b[0m\u001b[32m是一\u001b[0m\u001b[32m首\u001b[0m\u001b[32m关于\u001b[0m\u001b[32m兔子\u001b[0m\u001b[32m做梦\u001b[0m\u001b[32m的\u001b[0m\u001b[32m四\u001b[0m\u001b[32m句\u001b[0m\u001b[32m儿\u001b[0m\u001b[32m歌\u001b[0m\u001b[32m：\n",
      "\n",
      "\u001b[0m\u001b[32m月亮\u001b[0m\u001b[32m弯\u001b[0m\u001b[32m弯\u001b[0m\u001b[32m枝\u001b[0m\u001b[32m头\u001b[0m\u001b[32m挂\u001b[0m\u001b[32m，\u001b[0m\u001b[32m兔子\u001b[0m\u001b[32m轻\u001b[0m\u001b[32m跳\u001b[0m\u001b[32m入\u001b[0m\u001b[32m梦\u001b[0m\u001b[32m纱\u001b[0m\u001b[32m。\u001b[0m\u001b[32m  \n",
      "\u001b[0m\u001b[32m翠\u001b[0m\u001b[32m绿\u001b[0m\u001b[32m森林\u001b[0m\u001b[32m变\u001b[0m\u001b[32m幻\u001b[0m\u001b[32m境\u001b[0m\u001b[32m，\u001b[0m\u001b[32m小\u001b[0m\u001b[32m耳朵\u001b[0m\u001b[32m竖\u001b[0m\u001b[32m听\u001b[0m\u001b[32m蛙\u001b[0m\u001b[32m歌\u001b[0m\u001b[32m哗\u001b[0m\u001b[32m。\n",
      "\n",
      "\u001b[0m\u001b[32m花\u001b[0m\u001b[32m香\u001b[0m\u001b[32m伴\u001b[0m\u001b[32m着\u001b[0m\u001b[32m露\u001b[0m\u001b[32m珠\u001b[0m\u001b[32m夜\u001b[0m\u001b[32m，\u001b[0m\u001b[32m兔子\u001b[0m\u001b[32m在\u001b[0m\u001b[32m梦\u001b[0m\u001b[32m里\u001b[0m\u001b[32m遨\u001b[0m\u001b[32m游\u001b[0m\u001b[32m涯\u001b[0m\u001b[32m。\u001b[0m\u001b[32m  \n",
      "\u001b[0m\u001b[32m追逐\u001b[0m\u001b[32m彩虹\u001b[0m\u001b[32m穿\u001b[0m\u001b[32m云\u001b[0m\u001b[32m彩\u001b[0m\u001b[32m，\u001b[0m\u001b[32m梦\u001b[0m\u001b[32m中的\u001b[0m\u001b[32m欢乐\u001b[0m\u001b[32m无\u001b[0m\u001b[32m边际\u001b[0m\u001b[32m。\n",
      "\n",
      "\u001b[0m\u001b[32m晨\u001b[0m\u001b[32m光\u001b[0m\u001b[32m温柔\u001b[0m\u001b[32m轻\u001b[0m\u001b[32m抚\u001b[0m\u001b[32m面\u001b[0m\u001b[32m，\u001b[0m\u001b[32m兔\u001b[0m\u001b[32m梦\u001b[0m\u001b[32m醒来\u001b[0m\u001b[32m见\u001b[0m\u001b[32m新\u001b[0m\u001b[32m日\u001b[0m\u001b[32m。\u001b[0m\u001b[32m  \n",
      "\u001b[0m\u001b[32m尾巴\u001b[0m\u001b[32m轻轻\u001b[0m\u001b[32m摇\u001b[0m\u001b[32m一\u001b[0m\u001b[32m摇\u001b[0m\u001b[32m，\u001b[0m\u001b[32m一天\u001b[0m\u001b[32m美好\u001b[0m\u001b[32m从此\u001b[0m\u001b[32m启\u001b[0m\u001b[32m。\n",
      "\n",
      "\u001b[0m\u001b[32m希望\u001b[0m\u001b[32m这首\u001b[0m\u001b[32m儿\u001b[0m\u001b[32m歌\u001b[0m\u001b[32m能\u001b[0m\u001b[32m让你\u001b[0m\u001b[32m和\u001b[0m\u001b[32m孩子们\u001b[0m\u001b[32m感受到\u001b[0m\u001b[32m兔子\u001b[0m\u001b[32m做梦\u001b[0m\u001b[32m的乐趣\u001b[0m\u001b[32m与\u001b[0m\u001b[32m奇妙\u001b[0m\u001b[32m旅程\u001b[0m\u001b[32m！\u001b[0m\n",
      "\n"
     ]
    },
    {
     "data": {
      "text/plain": [
       "[{'role': 'user', 'content': '你能帮我写一首关于兔子做梦的四句儿歌?'},\n",
       " {'role': 'assistant',\n",
       "  'content': '当然可以，下面是一首关于兔子做梦的四句儿歌：\\n\\n月亮弯弯枝头挂，兔子轻跳入梦纱。  \\n翠绿森林变幻境，小耳朵竖听蛙歌哗。\\n\\n花香伴着露珠夜，兔子在梦里遨游涯。  \\n追逐彩虹穿云彩，梦中的欢乐无边际。\\n\\n晨光温柔轻抚面，兔梦醒来见新日。  \\n尾巴轻轻摇一摇，一天美好从此启。\\n\\n希望这首儿歌能让你和孩子们感受到兔子做梦的乐趣与奇妙旅程！'}]"
      ]
     },
     "execution_count": 2,
     "metadata": {},
     "output_type": "execute_result"
    }
   ],
   "source": [
    "# 异步输出\n",
    "from illufly.chat import ChatOpenAI\n",
    "from illufly.io import alog\n",
    "\n",
    "a = ChatOpenAI(imitator=\"QWEN2_7B\")\n",
    "await a(\n",
    "    \"你能帮我写一首关于兔子做梦的四句儿歌?\",\n",
    "    verbose=True,\n",
    "    handler=alog\n",
    ")\n",
    "a.memory"
   ]
  },
  {
   "cell_type": "code",
   "execution_count": 6,
   "id": "a7145a95-f03e-4783-910b-4e225f62fc2c",
   "metadata": {},
   "outputs": [
    {
     "name": "stdout",
     "output_type": "stream",
     "text": [
      "\u001b[32m当然\u001b[0m\u001b[32m可以\u001b[0m\u001b[32m，\u001b[0m\u001b[32m以下\u001b[0m\u001b[32m是一\u001b[0m\u001b[32m首\u001b[0m\u001b[32m关于\u001b[0m\u001b[32m兔子\u001b[0m\u001b[32m做梦\u001b[0m\u001b[32m的\u001b[0m\u001b[32m四\u001b[0m\u001b[32m句\u001b[0m\u001b[32m儿\u001b[0m\u001b[32m歌\u001b[0m\u001b[32m：\n",
      "\n",
      "\u001b[0m\u001b[32m月亮\u001b[0m\u001b[32m挂在\u001b[0m\u001b[32m夜\u001b[0m\u001b[32m空中\u001b[0m\u001b[32m，\u001b[0m\u001b[32m  \n",
      "\u001b[0m\u001b[32m兔子\u001b[0m\u001b[32m跳\u001b[0m\u001b[32m上\u001b[0m\u001b[32m柔软\u001b[0m\u001b[32m绒\u001b[0m\u001b[32m。\u001b[0m\u001b[32m  \n",
      "\u001b[0m\u001b[32m梦\u001b[0m\u001b[32m里\u001b[0m\u001b[32m花\u001b[0m\u001b[32m香\u001b[0m\u001b[32m甜\u001b[0m\u001b[32m如\u001b[0m\u001b[32m蜜\u001b[0m\u001b[32m，\u001b[0m\u001b[32m  \n",
      "\u001b[0m\u001b[32m轻\u001b[0m\u001b[32m舞\u001b[0m\u001b[32m跳跃\u001b[0m\u001b[32m乐\u001b[0m\u001b[32m无穷\u001b[0m\u001b[32m。\n",
      "\n",
      "\u001b[0m\u001b[32m希望\u001b[0m\u001b[32m这首\u001b[0m\u001b[32m儿\u001b[0m\u001b[32m歌\u001b[0m\u001b[32m能够\u001b[0m\u001b[32m满足\u001b[0m\u001b[32m您的\u001b[0m\u001b[32m需求\u001b[0m\u001b[32m，\u001b[0m\u001b[32m带给\u001b[0m\u001b[32m孩子们\u001b[0m\u001b[32m欢乐\u001b[0m\u001b[32m的\u001b[0m\u001b[32m夜晚\u001b[0m\u001b[32m！\u001b[0m\n",
      "\n"
     ]
    },
    {
     "data": {
      "text/plain": [
       "[{'role': 'user', 'content': '你能帮我写一首关于兔子做梦的四句儿歌?'},\n",
       " {'role': 'assistant',\n",
       "  'content': '当然可以，以下是一首关于兔子做梦的四句儿歌：\\n\\n月亮挂在夜空中，  \\n兔子跳上柔软绒。  \\n梦里花香甜如蜜，  \\n轻舞跳跃乐无穷。\\n\\n希望这首儿歌能够满足您的需求，带给孩子们欢乐的夜晚！'}]"
      ]
     },
     "execution_count": 6,
     "metadata": {},
     "output_type": "execute_result"
    }
   ],
   "source": [
    "# 在调用时指定模型名称\n",
    "a = ChatOpenAI(imitator=\"QWEN2_7B\")\n",
    "await a(\n",
    "    \"你能帮我写一首关于兔子做梦的四句儿歌?\",\n",
    "    handler=alog,\n",
    "    model=\"qwen/Qwen2-7B-Instruct-GGUF\",\n",
    "    temperature=0.1\n",
    ")\n",
    "a.memory"
   ]
  },
  {
   "cell_type": "markdown",
   "id": "577d4020-491f-49ed-af56-1ae3a8de157a",
   "metadata": {},
   "source": [
    "**在调用时指定工具，返回应当调用的工具信息**"
   ]
  },
  {
   "cell_type": "markdown",
   "id": "1464e250-8321-4983-b800-2b4c2c3b4a22",
   "metadata": {},
   "source": [
    "### 工具回调"
   ]
  },
  {
   "cell_type": "code",
   "execution_count": 3,
   "id": "e202e7d1-6812-49a1-b8b9-7b3cce8480c1",
   "metadata": {},
   "outputs": [
    {
     "name": "stdout",
     "output_type": "stream",
     "text": [
      "\u001b[32m<tool\u001b[0m\u001b[32m_call\u001b[0m\u001b[32m>\n",
      "\u001b[0m\u001b[32m{\"\u001b[0m\u001b[32mname\u001b[0m\u001b[32m\":\u001b[0m\u001b[32m \"\u001b[0m\u001b[32mget\u001b[0m\u001b[32m_current\u001b[0m\u001b[32m_weather\u001b[0m\u001b[32m\",\u001b[0m\u001b[32m \"\u001b[0m\u001b[32marguments\u001b[0m\u001b[32m\":\u001b[0m\u001b[32m {\"\u001b[0m\u001b[32mlocation\u001b[0m\u001b[32m\":\u001b[0m\u001b[32m \"\u001b[0m\u001b[32m广州\u001b[0m\u001b[32m\"}}\n",
      "\u001b[0m\u001b[32m</\u001b[0m\u001b[32mtool\u001b[0m\u001b[32m_call\u001b[0m\u001b[32m>\u001b[0m\n",
      "\n",
      "\u001b[32m广州今天是晴天。 \u001b[0m\n",
      "\n",
      "  1s [TOOL_RESP_FINAL] \u001b[36m广州今天是晴天。 \u001b[0m\n",
      "\u001b[32m根据\u001b[0m\u001b[32m天气\u001b[0m\u001b[32m预报\u001b[0m\u001b[32m，\u001b[0m\u001b[32m广州\u001b[0m\u001b[32m今天\u001b[0m\u001b[32m是\u001b[0m\u001b[32m晴\u001b[0m\u001b[32m天\u001b[0m\u001b[32m。\u001b[0m\u001b[32m您\u001b[0m\u001b[32m出门\u001b[0m\u001b[32m时\u001b[0m\u001b[32m可能\u001b[0m\u001b[32m不需要\u001b[0m\u001b[32m携带\u001b[0m\u001b[32m雨\u001b[0m\u001b[32m具\u001b[0m\u001b[32m，\u001b[0m\u001b[32m但\u001b[0m\u001b[32m记得\u001b[0m\u001b[32m涂\u001b[0m\u001b[32m上\u001b[0m\u001b[32m防晒\u001b[0m\u001b[32m霜\u001b[0m\u001b[32m并\u001b[0m\u001b[32m适当\u001b[0m\u001b[32m补充\u001b[0m\u001b[32m水分\u001b[0m\u001b[32m，\u001b[0m\u001b[32m因为\u001b[0m\u001b[32m阳光\u001b[0m\u001b[32m可能会\u001b[0m\u001b[32m比较\u001b[0m\u001b[32m强烈\u001b[0m\u001b[32m。\u001b[0m\n",
      "\n",
      "用时 2.478632926940918 秒\n"
     ]
    },
    {
     "data": {
      "text/plain": [
       "[{'role': 'user', 'content': '今天广州出门要准备什么'},\n",
       " {'role': 'assistant',\n",
       "  'content': '<tool_call>\\n{\"name\": \"get_current_weather\", \"arguments\": {\"location\": \"广州\"}}\\n</tool_call>'},\n",
       " {'role': 'user', 'content': '<tool_resp>广州今天是晴天。 </tool_resp>'},\n",
       " {'role': 'assistant',\n",
       "  'content': '根据天气预报，广州今天是晴天。您出门时可能不需要携带雨具，但记得涂上防晒霜并适当补充水分，因为阳光可能会比较强烈。'}]"
      ]
     },
     "execution_count": 3,
     "metadata": {},
     "output_type": "execute_result"
    }
   ],
   "source": [
    "from illufly.chat import ChatOpenAI\n",
    "from illufly.types import ToolAgent\n",
    "\n",
    "def get_current_weather(location: str):\n",
    "    \"\"\"获取城市的天气情况\"\"\"\n",
    "    yield f\"{location}今天是晴天。 \"\n",
    "    \n",
    "a = ChatOpenAI(imitator=\"QWEN2_7B\", tools=[ToolAgent(get_current_weather)], exec_tool=True)\n",
    "\n",
    "import time\n",
    "start_time = time.time()\n",
    "a(\"今天广州出门要准备什么\", new_chat=True, verbose=True)\n",
    "end_time = time.time()\n",
    "print(f'用时 {end_time - start_time} 秒')\n",
    "a.memory"
   ]
  },
  {
   "cell_type": "code",
   "execution_count": 2,
   "id": "6836829f-e34a-4584-bcd6-6d18eb91c2c2",
   "metadata": {},
   "outputs": [
    {
     "data": {
      "text/plain": [
       "[{'role': 'user', 'content': '今天广州出门要准备什么'},\n",
       " {'role': 'assistant',\n",
       "  'content': '<tool_call>\\n{\"name\": \"get_current_weather\", \"arguments\": {\"location\": \"广州\"}}\\n</tool_call>'},\n",
       " {'role': 'assistant',\n",
       "  'content': '<tool_call>{\"function\": {\"name\": \"get_current_weather\", \"arguments\": \"{\\\\\"location\\\\\": \\\\\"广州\\\\\"}\"}}</tool_call>'},\n",
       " {'role': 'user', 'content': '<tool_resp>广州今天是晴天。 </tool_resp>'},\n",
       " {'role': 'assistant',\n",
       "  'content': '根据天气预报，广州今天是晴天。你可以查看实时的紫外线指数和气温，以决定是否需要防晒或携带雨具等。一般来说晴天阳光充足，可以适当的晒太阳获取维生素D，但要注意保护皮肤防止晒伤。别忘了带上水，保持水分补充。希望你有一段愉快且安全的一天！'}]"
      ]
     },
     "execution_count": 2,
     "metadata": {},
     "output_type": "execute_result"
    }
   ],
   "source": [
    "a.memory"
   ]
  },
  {
   "cell_type": "code",
   "execution_count": null,
   "id": "7c99f96d-d0b9-4722-8cd7-ba3647402779",
   "metadata": {},
   "outputs": [],
   "source": []
  }
 ],
 "metadata": {
  "kernelspec": {
   "display_name": "Python 3 (ipykernel)",
   "language": "python",
   "name": "python3"
  },
  "language_info": {
   "codemirror_mode": {
    "name": "ipython",
    "version": 3
   },
   "file_extension": ".py",
   "mimetype": "text/x-python",
   "name": "python",
   "nbconvert_exporter": "python",
   "pygments_lexer": "ipython3",
   "version": "3.10.0"
  }
 },
 "nbformat": 4,
 "nbformat_minor": 5
}
