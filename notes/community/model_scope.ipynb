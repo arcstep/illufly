{
 "cells": [
  {
   "cell_type": "markdown",
   "id": "9d29c40a-2a13-4a7f-a465-189d2ea5ead2",
   "metadata": {},
   "source": [
    "# 魔搭社区"
   ]
  },
  {
   "cell_type": "markdown",
   "id": "30e55ec8-ba21-4701-96d5-6a54f9199b24",
   "metadata": {},
   "source": [
    "## 对话模型"
   ]
  },
  {
   "cell_type": "markdown",
   "id": "a56ebc64-4071-443b-8143-c7a3b2182eea",
   "metadata": {},
   "source": [
    "### 同步调用"
   ]
  },
  {
   "cell_type": "code",
   "execution_count": 1,
   "id": "54add976-5cc5-42af-96c2-55851d0178b0",
   "metadata": {},
   "outputs": [
    {
     "name": "stdout",
     "output_type": "stream",
     "text": [
      "\u001b[32m当然\u001b[0m\u001b[32m可以\u001b[0m\u001b[32m，\u001b[0m\u001b[32m下面\u001b[0m\u001b[32m是我\u001b[0m\u001b[32m为您\u001b[0m\u001b[32m量\u001b[0m\u001b[32m身\u001b[0m\u001b[32m打造\u001b[0m\u001b[32m的一\u001b[0m\u001b[32m首\u001b[0m\u001b[32m关于\u001b[0m\u001b[32m兔子\u001b[0m\u001b[32m做梦\u001b[0m\u001b[32m的\u001b[0m\u001b[32m四\u001b[0m\u001b[32m句\u001b[0m\u001b[32m儿\u001b[0m\u001b[32m歌\u001b[0m\u001b[32m：\n",
      "\n",
      "\u001b[0m\u001b[32m月亮\u001b[0m\u001b[32m挂\u001b[0m\u001b[32m高\u001b[0m\u001b[32m高\u001b[0m\u001b[32m，\u001b[0m\u001b[32m夜\u001b[0m\u001b[32m幕\u001b[0m\u001b[32m轻轻\u001b[0m\u001b[32m垂\u001b[0m\u001b[32m，\n",
      "\u001b[0m\u001b[32m小\u001b[0m\u001b[32m兔子\u001b[0m\u001b[32m枕\u001b[0m\u001b[32m草\u001b[0m\u001b[32m睡\u001b[0m\u001b[32m，\u001b[0m\u001b[32m梦\u001b[0m\u001b[32m入\u001b[0m\u001b[32m奇妙\u001b[0m\u001b[32m追\u001b[0m\u001b[32m。\n",
      "\n",
      "\u001b[0m\u001b[32m梦\u001b[0m\u001b[32m中\u001b[0m\u001b[32m花\u001b[0m\u001b[32m香\u001b[0m\u001b[32m浓郁\u001b[0m\u001b[32m，\u001b[0m\u001b[32m满\u001b[0m\u001b[32m地\u001b[0m\u001b[32m春\u001b[0m\u001b[32m色\u001b[0m\u001b[32m铺\u001b[0m\u001b[32m，\n",
      "\u001b[0m\u001b[32m兔子\u001b[0m\u001b[32m蹦\u001b[0m\u001b[32m跳\u001b[0m\u001b[32m乐\u001b[0m\u001b[32m，\u001b[0m\u001b[32m笑\u001b[0m\u001b[32m声响\u001b[0m\u001b[32m山谷\u001b[0m\u001b[32m。\n",
      "\n",
      "\u001b[0m\u001b[32m翅膀\u001b[0m\u001b[32m轻\u001b[0m\u001b[32m展\u001b[0m\u001b[32m动\u001b[0m\u001b[32m，\u001b[0m\u001b[32m飞\u001b[0m\u001b[32m越\u001b[0m\u001b[32m万\u001b[0m\u001b[32m重\u001b[0m\u001b[32m山\u001b[0m\u001b[32m，\n",
      "\u001b[0m\u001b[32m醒来\u001b[0m\u001b[32m仍\u001b[0m\u001b[32m回味\u001b[0m\u001b[32m，\u001b[0m\u001b[32m一场\u001b[0m\u001b[32m甜\u001b[0m\u001b[32m梦\u001b[0m\u001b[32m间\u001b[0m\u001b[32m。\n",
      "\n",
      "\u001b[0m\u001b[32m这首\u001b[0m\u001b[32m儿\u001b[0m\u001b[32m歌\u001b[0m\u001b[32m试图\u001b[0m\u001b[32m用\u001b[0m\u001b[32m温馨\u001b[0m\u001b[32m、\u001b[0m\u001b[32m充满\u001b[0m\u001b[32m想象力\u001b[0m\u001b[32m的语言\u001b[0m\u001b[32m来\u001b[0m\u001b[32m描绘\u001b[0m\u001b[32m一只\u001b[0m\u001b[32m兔子\u001b[0m\u001b[32m在\u001b[0m\u001b[32m宁静\u001b[0m\u001b[32m夜晚\u001b[0m\u001b[32m的\u001b[0m\u001b[32m梦境\u001b[0m\u001b[32m。\u001b[0m\u001b[32m希望\u001b[0m\u001b[32m它\u001b[0m\u001b[32m能够\u001b[0m\u001b[32m激发\u001b[0m\u001b[32m孩子们\u001b[0m\u001b[32m对\u001b[0m\u001b[32m梦想\u001b[0m\u001b[32m和\u001b[0m\u001b[32m冒险\u001b[0m\u001b[32m的\u001b[0m\u001b[32m向往\u001b[0m\u001b[32m与\u001b[0m\u001b[32m兴趣\u001b[0m\u001b[32m。\u001b[0m\n",
      "\n"
     ]
    },
    {
     "data": {
      "text/plain": [
       "[{'role': 'user', 'content': '你能帮我写一首关于兔子做梦的四句儿歌?'},\n",
       " {'role': 'assistant',\n",
       "  'content': '当然可以，下面是我为您量身打造的一首关于兔子做梦的四句儿歌：\\n\\n月亮挂高高，夜幕轻轻垂，\\n小兔子枕草睡，梦入奇妙追。\\n\\n梦中花香浓郁，满地春色铺，\\n兔子蹦跳乐，笑声响山谷。\\n\\n翅膀轻展动，飞越万重山，\\n醒来仍回味，一场甜梦间。\\n\\n这首儿歌试图用温馨、充满想象力的语言来描绘一只兔子在宁静夜晚的梦境。希望它能够激发孩子们对梦想和冒险的向往与兴趣。'}]"
      ]
     },
     "execution_count": 1,
     "metadata": {},
     "output_type": "execute_result"
    }
   ],
   "source": [
    "from illufly.chat import ChatOpenAI\n",
    "\n",
    "a = ChatOpenAI(imitator=\"QWEN2_7B\")\n",
    "a(\"你能帮我写一首关于兔子做梦的四句儿歌?\", verbose=True)\n",
    "a.memory"
   ]
  },
  {
   "cell_type": "markdown",
   "id": "ce9e2f9a-5732-497a-b12d-4bd6a50e087a",
   "metadata": {},
   "source": [
    "### 显示使用 log"
   ]
  },
  {
   "cell_type": "code",
   "execution_count": 2,
   "id": "0f888312-1a6c-4995-b9e6-d767cad1512a",
   "metadata": {},
   "outputs": [
    {
     "name": "stdout",
     "output_type": "stream",
     "text": [
      "\u001b[32m当然\u001b[0m\u001b[32m可以\u001b[0m\u001b[32m，\u001b[0m\u001b[32m下面是\u001b[0m\u001b[32m专门为\u001b[0m\u001b[32m兔子\u001b[0m\u001b[32m设计\u001b[0m\u001b[32m的一\u001b[0m\u001b[32m首\u001b[0m\u001b[32m梦\u001b[0m\u001b[32m中的\u001b[0m\u001b[32m小\u001b[0m\u001b[32m诗\u001b[0m\u001b[32m，\u001b[0m\u001b[32m用\u001b[0m\u001b[32m简单\u001b[0m\u001b[32m、\u001b[0m\u001b[32m韵\u001b[0m\u001b[32m律\u001b[0m\u001b[32m的方式\u001b[0m\u001b[32m呈现\u001b[0m\u001b[32m，\u001b[0m\u001b[32m希望能\u001b[0m\u001b[32m符合\u001b[0m\u001b[32m您\u001b[0m\u001b[32m所需\u001b[0m\u001b[32m：\n",
      "\n",
      "\u001b[0m\u001b[32m轻\u001b[0m\u001b[32m盈\u001b[0m\u001b[32m的\u001b[0m\u001b[32m月\u001b[0m\u001b[32m光\u001b[0m\u001b[32m洒\u001b[0m\u001b[32m落在\u001b[0m\u001b[32m梦\u001b[0m\u001b[32m田\u001b[0m\u001b[32m，\n",
      "\u001b[0m\u001b[32m兔子\u001b[0m\u001b[32m悄悄\u001b[0m\u001b[32m钻\u001b[0m\u001b[32m进\u001b[0m\u001b[32m柔软\u001b[0m\u001b[32m的\u001b[0m\u001b[32m晚\u001b[0m\u001b[32m，\n",
      "\u001b[0m\u001b[32m在\u001b[0m\u001b[32m棉花\u001b[0m\u001b[32m糖\u001b[0m\u001b[32m般的\u001b[0m\u001b[32m云\u001b[0m\u001b[32m朵\u001b[0m\u001b[32m上\u001b[0m\u001b[32m飞\u001b[0m\u001b[32m旋\u001b[0m\u001b[32m，\n",
      "\u001b[0m\u001b[32m追逐\u001b[0m\u001b[32m着\u001b[0m\u001b[32m金色\u001b[0m\u001b[32m的\u001b[0m\u001b[32m银\u001b[0m\u001b[32m色\u001b[0m\u001b[32m光环\u001b[0m\u001b[32m。\n",
      "\n",
      "\u001b[0m\u001b[32m梦境\u001b[0m\u001b[32m里\u001b[0m\u001b[32m，\u001b[0m\u001b[32m森林\u001b[0m\u001b[32m变成了\u001b[0m\u001b[32m奇幻\u001b[0m\u001b[32m的\u001b[0m\u001b[32m舞台\u001b[0m\u001b[32m，\n",
      "\u001b[0m\u001b[32m每\u001b[0m\u001b[32m一步\u001b[0m\u001b[32m都\u001b[0m\u001b[32m踏\u001b[0m\u001b[32m出\u001b[0m\u001b[32m绿色\u001b[0m\u001b[32m的\u001b[0m\u001b[32m节\u001b[0m\u001b[32m拍\u001b[0m\u001b[32m，\n",
      "\u001b[0m\u001b[32m月亮\u001b[0m\u001b[32m仙\u001b[0m\u001b[32m子\u001b[0m\u001b[32m轻轻\u001b[0m\u001b[32m吹\u001b[0m\u001b[32m起\u001b[0m\u001b[32m风\u001b[0m\u001b[32m笛\u001b[0m\u001b[32m，\n",
      "\u001b[0m\u001b[32m带来\u001b[0m\u001b[32m花瓣\u001b[0m\u001b[32m雨\u001b[0m\u001b[32m，\u001b[0m\u001b[32m温柔\u001b[0m\u001b[32m地\u001b[0m\u001b[32m吻\u001b[0m\u001b[32m过\u001b[0m\u001b[32m小\u001b[0m\u001b[32m兔\u001b[0m\u001b[32m的眼\u001b[0m\u001b[32m睫\u001b[0m\u001b[32m。\n",
      "\n",
      "\u001b[0m\u001b[32m醒来\u001b[0m\u001b[32m时\u001b[0m\u001b[32m，\u001b[0m\u001b[32m嘴角\u001b[0m\u001b[32m还\u001b[0m\u001b[32m带着\u001b[0m\u001b[32m微笑\u001b[0m\u001b[32m的\u001b[0m\u001b[32m痕迹\u001b[0m\u001b[32m，\n",
      "\u001b[0m\u001b[32m仿佛\u001b[0m\u001b[32m整个\u001b[0m\u001b[32m夜晚\u001b[0m\u001b[32m，\u001b[0m\u001b[32m都\u001b[0m\u001b[32m藏\u001b[0m\u001b[32m在\u001b[0m\u001b[32m了\u001b[0m\u001b[32m心中\u001b[0m\u001b[32m秘密\u001b[0m\u001b[32m，\n",
      "\u001b[0m\u001b[32m每一次\u001b[0m\u001b[32m梦\u001b[0m\u001b[32m到\u001b[0m\u001b[32m远方\u001b[0m\u001b[32m的\u001b[0m\u001b[32m冒险\u001b[0m\u001b[32m，\n",
      "\u001b[0m\u001b[32m都是\u001b[0m\u001b[32m对\u001b[0m\u001b[32m这个世界\u001b[0m\u001b[32m最\u001b[0m\u001b[32m温柔\u001b[0m\u001b[32m的\u001b[0m\u001b[32m回应\u001b[0m\u001b[32m。\u001b[0m\n",
      "\n"
     ]
    },
    {
     "data": {
      "text/plain": [
       "[{'role': 'user', 'content': '你能帮我写一首关于兔子做梦的四句儿歌?'},\n",
       " {'role': 'assistant',\n",
       "  'content': '当然可以，下面是专门为兔子设计的一首梦中的小诗，用简单、韵律的方式呈现，希望能符合您所需：\\n\\n轻盈的月光洒落在梦田，\\n兔子悄悄钻进柔软的晚，\\n在棉花糖般的云朵上飞旋，\\n追逐着金色的银色光环。\\n\\n梦境里，森林变成了奇幻的舞台，\\n每一步都踏出绿色的节拍，\\n月亮仙子轻轻吹起风笛，\\n带来花瓣雨，温柔地吻过小兔的眼睫。\\n\\n醒来时，嘴角还带着微笑的痕迹，\\n仿佛整个夜晚，都藏在了心中秘密，\\n每一次梦到远方的冒险，\\n都是对这个世界最温柔的回应。'}]"
      ]
     },
     "execution_count": 2,
     "metadata": {},
     "output_type": "execute_result"
    }
   ],
   "source": [
    "# 使用 handler 函数的另一种方式：\n",
    "from illufly.chat import ChatOpenAI\n",
    "from illufly.io import log\n",
    "\n",
    "a = ChatOpenAI(imitator=\"QWEN2_7B\")\n",
    "log(a, \"你能帮我写一首关于兔子做梦的四句儿歌?\", verbose=True)\n",
    "a.memory"
   ]
  },
  {
   "cell_type": "markdown",
   "id": "928208a4-9f2b-44b8-8345-911925488f7f",
   "metadata": {},
   "source": [
    "### 异步调用"
   ]
  },
  {
   "cell_type": "code",
   "execution_count": 4,
   "id": "212d95fc-5dfd-4578-90d9-115736ab7ade",
   "metadata": {},
   "outputs": [
    {
     "name": "stdout",
     "output_type": "stream",
     "text": [
      "\u001b[32m当然\u001b[0m\u001b[32m可以\u001b[0m\u001b[32m，\u001b[0m\u001b[32m下面\u001b[0m\u001b[32m是一\u001b[0m\u001b[32m首\u001b[0m\u001b[32m简易\u001b[0m\u001b[32m的\u001b[0m\u001b[32m关于\u001b[0m\u001b[32m兔子\u001b[0m\u001b[32m做梦\u001b[0m\u001b[32m的\u001b[0m\u001b[32m儿\u001b[0m\u001b[32m歌\u001b[0m\u001b[32m，\u001b[0m\u001b[32m供\u001b[0m\u001b[32m您\u001b[0m\u001b[32m参考\u001b[0m\u001b[32m：\n",
      "\n",
      "\u001b[0m\u001b[32m【\u001b[0m\u001b[32m柔和\u001b[0m\u001b[32m月\u001b[0m\u001b[32m光\u001b[0m\u001b[32m洒\u001b[0m\u001b[32m窗\u001b[0m\u001b[32m台\u001b[0m\u001b[32m，\u001b[0m\u001b[32m小\u001b[0m\u001b[32m兔\u001b[0m\u001b[32m梦见\u001b[0m\u001b[32m花园\u001b[0m\u001b[32m开\u001b[0m\u001b[32m。\u001b[0m\u001b[32m】\u001b[0m\u001b[32m  \n",
      "\u001b[0m\u001b[32m【\u001b[0m\u001b[32m彩\u001b[0m\u001b[32m蝶\u001b[0m\u001b[32m飞\u001b[0m\u001b[32m舞\u001b[0m\u001b[32m绕\u001b[0m\u001b[32m花\u001b[0m\u001b[32m旁\u001b[0m\u001b[32m，\u001b[0m\u001b[32m满\u001b[0m\u001b[32m园\u001b[0m\u001b[32m香气\u001b[0m\u001b[32m乐\u001b[0m\u001b[32m无穷\u001b[0m\u001b[32m。\u001b[0m\u001b[32m】\u001b[0m\u001b[32m  \n",
      "\u001b[0m\u001b[32m【\u001b[0m\u001b[32m甜蜜\u001b[0m\u001b[32m梦境\u001b[0m\u001b[32m里\u001b[0m\u001b[32m游\u001b[0m\u001b[32m逛\u001b[0m\u001b[32m，\u001b[0m\u001b[32m兔子\u001b[0m\u001b[32m笑声\u001b[0m\u001b[32m轻\u001b[0m\u001b[32m如\u001b[0m\u001b[32m歌\u001b[0m\u001b[32m。\u001b[0m\u001b[32m】\u001b[0m\u001b[32m  \n",
      "\u001b[0m\u001b[32m【\u001b[0m\u001b[32m晨\u001b[0m\u001b[32m曦\u001b[0m\u001b[32m微\u001b[0m\u001b[32m光\u001b[0m\u001b[32m破\u001b[0m\u001b[32m梦\u001b[0m\u001b[32m来\u001b[0m\u001b[32m，\u001b[0m\u001b[32m醒来\u001b[0m\u001b[32m仍\u001b[0m\u001b[32m记\u001b[0m\u001b[32m那\u001b[0m\u001b[32m香\u001b[0m\u001b[32m甜\u001b[0m\u001b[32m。\u001b[0m\u001b[32m】\n",
      "\n",
      "\u001b[0m\u001b[32m这首\u001b[0m\u001b[32m儿\u001b[0m\u001b[32m歌\u001b[0m\u001b[32m融合\u001b[0m\u001b[32m了\u001b[0m\u001b[32m兔子\u001b[0m\u001b[32m、\u001b[0m\u001b[32m梦想\u001b[0m\u001b[32m、\u001b[0m\u001b[32m花园\u001b[0m\u001b[32m和\u001b[0m\u001b[32m自然\u001b[0m\u001b[32m元素\u001b[0m\u001b[32m，\u001b[0m\u001b[32m希望\u001b[0m\u001b[32m它可以\u001b[0m\u001b[32m激发\u001b[0m\u001b[32m小朋友\u001b[0m\u001b[32m的\u001b[0m\u001b[32m想象力\u001b[0m\u001b[32m，\u001b[0m\u001b[32m也可以\u001b[0m\u001b[32m配合\u001b[0m\u001b[32m音乐\u001b[0m\u001b[32m或者\u001b[0m\u001b[32m动作\u001b[0m\u001b[32m让\u001b[0m\u001b[32m儿童\u001b[0m\u001b[32m更\u001b[0m\u001b[32m感兴趣\u001b[0m\u001b[32m。\u001b[0m\u001b[32m您可以\u001b[0m\u001b[32m根据\u001b[0m\u001b[32m实际情况\u001b[0m\u001b[32m调整\u001b[0m\u001b[32m，\u001b[0m\u001b[32m以\u001b[0m\u001b[32m符合\u001b[0m\u001b[32m教学\u001b[0m\u001b[32m或\u001b[0m\u001b[32m使用\u001b[0m\u001b[32m场景\u001b[0m\u001b[32m的需求\u001b[0m\u001b[32m。\u001b[0m\n",
      "\n"
     ]
    },
    {
     "data": {
      "text/plain": [
       "[{'role': 'user', 'content': '你能帮我写一首关于兔子做梦的四句儿歌?'},\n",
       " {'role': 'assistant',\n",
       "  'content': '当然可以，下面是一首简易的关于兔子做梦的儿歌，供您参考：\\n\\n【柔和月光洒窗台，小兔梦见花园开。】  \\n【彩蝶飞舞绕花旁，满园香气乐无穷。】  \\n【甜蜜梦境里游逛，兔子笑声轻如歌。】  \\n【晨曦微光破梦来，醒来仍记那香甜。】\\n\\n这首儿歌融合了兔子、梦想、花园和自然元素，希望它可以激发小朋友的想象力，也可以配合音乐或者动作让儿童更感兴趣。您可以根据实际情况调整，以符合教学或使用场景的需求。'}]"
      ]
     },
     "execution_count": 4,
     "metadata": {},
     "output_type": "execute_result"
    }
   ],
   "source": [
    "# 异步输出\n",
    "from illufly.chat import ChatOpenAI\n",
    "from illufly.io import alog\n",
    "\n",
    "a = ChatOpenAI(imitator=\"QWEN2_7B\")\n",
    "await a(\n",
    "    \"你能帮我写一首关于兔子做梦的四句儿歌?\",\n",
    "    verbose=True,\n",
    "    handler=alog\n",
    ")\n",
    "a.memory"
   ]
  },
  {
   "cell_type": "code",
   "execution_count": 5,
   "id": "a7145a95-f03e-4783-910b-4e225f62fc2c",
   "metadata": {},
   "outputs": [
    {
     "name": "stdout",
     "output_type": "stream",
     "text": [
      "\u001b[32m当然\u001b[0m\u001b[32m可以\u001b[0m\u001b[32m，\u001b[0m\u001b[32m以下\u001b[0m\u001b[32m是一\u001b[0m\u001b[32m首\u001b[0m\u001b[32m关于\u001b[0m\u001b[32m兔子\u001b[0m\u001b[32m做梦\u001b[0m\u001b[32m的\u001b[0m\u001b[32m四\u001b[0m\u001b[32m句\u001b[0m\u001b[32m儿\u001b[0m\u001b[32m歌\u001b[0m\u001b[32m：\n",
      "\n",
      "\u001b[0m\u001b[32m月亮\u001b[0m\u001b[32m高\u001b[0m\u001b[32m挂\u001b[0m\u001b[32m夜\u001b[0m\u001b[32m深\u001b[0m\u001b[32m沉\u001b[0m\u001b[32m，\n",
      "\u001b[0m\u001b[32m兔子\u001b[0m\u001b[32m窝\u001b[0m\u001b[32m里\u001b[0m\u001b[32m做\u001b[0m\u001b[32m美\u001b[0m\u001b[32m梦\u001b[0m\u001b[32m。\n",
      "\u001b[0m\u001b[32m森林\u001b[0m\u001b[32m故事\u001b[0m\u001b[32m它\u001b[0m\u001b[32m听\u001b[0m\u001b[32m遍\u001b[0m\u001b[32m，\n",
      "\u001b[0m\u001b[32m笑\u001b[0m\u001b[32m语\u001b[0m\u001b[32m声\u001b[0m\u001b[32m中\u001b[0m\u001b[32m入\u001b[0m\u001b[32m甜\u001b[0m\u001b[32m境\u001b[0m\u001b[32m。\n",
      "\n",
      "\u001b[0m\u001b[32m希望\u001b[0m\u001b[32m这首\u001b[0m\u001b[32m儿\u001b[0m\u001b[32m歌\u001b[0m\u001b[32m能够\u001b[0m\u001b[32m满足\u001b[0m\u001b[32m您的\u001b[0m\u001b[32m需求\u001b[0m\u001b[32m，\u001b[0m\u001b[32m让\u001b[0m\u001b[32m孩子们\u001b[0m\u001b[32m在\u001b[0m\u001b[32m愉快\u001b[0m\u001b[32m的\u001b[0m\u001b[32m旋律\u001b[0m\u001b[32m中\u001b[0m\u001b[32m感受\u001b[0m\u001b[32m兔子\u001b[0m\u001b[32m的\u001b[0m\u001b[32m奇妙\u001b[0m\u001b[32m梦境\u001b[0m\u001b[32m。\u001b[0m\n",
      "\n"
     ]
    },
    {
     "data": {
      "text/plain": [
       "[{'role': 'user', 'content': '你能帮我写一首关于兔子做梦的四句儿歌?'},\n",
       " {'role': 'assistant',\n",
       "  'content': '当然可以，以下是一首关于兔子做梦的四句儿歌：\\n\\n月亮高挂夜深沉，\\n兔子窝里做美梦。\\n森林故事它听遍，\\n笑语声中入甜境。\\n\\n希望这首儿歌能够满足您的需求，让孩子们在愉快的旋律中感受兔子的奇妙梦境。'}]"
      ]
     },
     "execution_count": 5,
     "metadata": {},
     "output_type": "execute_result"
    }
   ],
   "source": [
    "# 在调用时指定模型名称\n",
    "a = ChatOpenAI(imitator=\"QWEN2_7B\")\n",
    "await a(\n",
    "    \"你能帮我写一首关于兔子做梦的四句儿歌?\",\n",
    "    handler=alog,\n",
    "    model=\"qwen/Qwen2-7B-Instruct-GGUF\",\n",
    "    temperature=0.1\n",
    ")\n",
    "a.memory"
   ]
  },
  {
   "cell_type": "code",
   "execution_count": 6,
   "id": "7af95c5c-4b6d-4241-a49c-162bcf77eebb",
   "metadata": {},
   "outputs": [
    {
     "name": "stdout",
     "output_type": "stream",
     "text": [
      "\u001b[32m当然\u001b[0m\u001b[32m可以\u001b[0m\u001b[32m，\u001b[0m\u001b[32m以下\u001b[0m\u001b[32m是一\u001b[0m\u001b[32m首\u001b[0m\u001b[32m关于\u001b[0m\u001b[32m小\u001b[0m\u001b[32m羊\u001b[0m\u001b[32m做梦\u001b[0m\u001b[32m的\u001b[0m\u001b[32m四\u001b[0m\u001b[32m句\u001b[0m\u001b[32m儿\u001b[0m\u001b[32m歌\u001b[0m\u001b[32m：\n",
      "\n",
      "\u001b[0m\u001b[32m星光\u001b[0m\u001b[32m如\u001b[0m\u001b[32m诗\u001b[0m\u001b[32m夜\u001b[0m\u001b[32m更\u001b[0m\u001b[32m长\u001b[0m\u001b[32m，\n",
      "\u001b[0m\u001b[32m山\u001b[0m\u001b[32m中小\u001b[0m\u001b[32m屋里\u001b[0m\u001b[32m沉\u001b[0m\u001b[32m香\u001b[0m\u001b[32m。\n",
      "\u001b[0m\u001b[32m梦\u001b[0m\u001b[32m里\u001b[0m\u001b[32m草原\u001b[0m\u001b[32m绿\u001b[0m\u001b[32m如\u001b[0m\u001b[32m海\u001b[0m\u001b[32m，\n",
      "\u001b[0m\u001b[32m小\u001b[0m\u001b[32m羊\u001b[0m\u001b[32m跳\u001b[0m\u001b[32m蹦\u001b[0m\u001b[32m笑声\u001b[0m\u001b[32m扬\u001b[0m\u001b[32m。\n",
      "\n",
      "\u001b[0m\u001b[32m这首\u001b[0m\u001b[32m儿\u001b[0m\u001b[32m歌\u001b[0m\u001b[32m借\u001b[0m\u001b[32m着\u001b[0m\u001b[32m夜晚\u001b[0m\u001b[32m的\u001b[0m\u001b[32m宁静\u001b[0m\u001b[32m与\u001b[0m\u001b[32m星光\u001b[0m\u001b[32m下的\u001b[0m\u001b[32m山\u001b[0m\u001b[32m居\u001b[0m\u001b[32m生活\u001b[0m\u001b[32m背景\u001b[0m\u001b[32m，\u001b[0m\u001b[32m描绘\u001b[0m\u001b[32m了一\u001b[0m\u001b[32m只\u001b[0m\u001b[32m在\u001b[0m\u001b[32m梦\u001b[0m\u001b[32m中\u001b[0m\u001b[32m享受\u001b[0m\u001b[32m草原\u001b[0m\u001b[32m美景\u001b[0m\u001b[32m和\u001b[0m\u001b[32m自由\u001b[0m\u001b[32m欢\u001b[0m\u001b[32m跃\u001b[0m\u001b[32m的小\u001b[0m\u001b[32m羊\u001b[0m\u001b[32m形象\u001b[0m\u001b[32m。\u001b[0m\u001b[32m希望能\u001b[0m\u001b[32m带\u001b[0m\u001b[32m给你\u001b[0m\u001b[32m喜爱\u001b[0m\u001b[32m的声音\u001b[0m\u001b[32m与\u001b[0m\u001b[32m感受\u001b[0m\u001b[32m。\u001b[0m\n",
      "\n"
     ]
    },
    {
     "data": {
      "text/plain": [
       "'当然可以，以下是一首关于小羊做梦的四句儿歌：\\n\\n星光如诗夜更长，\\n山中小屋里沉香。\\n梦里草原绿如海，\\n小羊跳蹦笑声扬。\\n\\n这首儿歌借着夜晚的宁静与星光下的山居生活背景，描绘了一只在梦中享受草原美景和自由欢跃的小羊形象。希望能带给你喜爱的声音与感受。'"
      ]
     },
     "execution_count": 6,
     "metadata": {},
     "output_type": "execute_result"
    }
   ],
   "source": [
    "a(\"改成小羊的主题吧\")"
   ]
  },
  {
   "cell_type": "markdown",
   "id": "577d4020-491f-49ed-af56-1ae3a8de157a",
   "metadata": {},
   "source": [
    "**在调用时指定工具，返回应当调用的工具信息**"
   ]
  },
  {
   "cell_type": "markdown",
   "id": "1464e250-8321-4983-b800-2b4c2c3b4a22",
   "metadata": {},
   "source": [
    "### 工具回调"
   ]
  },
  {
   "cell_type": "code",
   "execution_count": 2,
   "id": "e202e7d1-6812-49a1-b8b9-7b3cce8480c1",
   "metadata": {},
   "outputs": [
    {
     "name": "stdout",
     "output_type": "stream",
     "text": [
      "\u001b[32m<tool\u001b[0m\u001b[32m_call\u001b[0m\u001b[32m>\n",
      "\u001b[0m\u001b[32m{\"\u001b[0m\u001b[32mname\u001b[0m\u001b[32m\":\u001b[0m\u001b[32m \"\u001b[0m\u001b[32mget\u001b[0m\u001b[32m_current\u001b[0m\u001b[32m_weather\u001b[0m\u001b[32m\",\u001b[0m\u001b[32m \"\u001b[0m\u001b[32marguments\u001b[0m\u001b[32m\":\u001b[0m\u001b[32m {\"\u001b[0m\u001b[32mlocation\u001b[0m\u001b[32m\":\u001b[0m\u001b[32m \"\u001b[0m\u001b[32m广州\u001b[0m\u001b[32m\"}}\n",
      "\u001b[0m\u001b[32m</\u001b[0m\u001b[32mtool\u001b[0m\u001b[32m_call\u001b[0m\u001b[32m>\n",
      "\n",
      "\u001b[0m\u001b[32m<tool\u001b[0m\u001b[32m_call\u001b[0m\u001b[32m>\n",
      "\u001b[0m\u001b[32m{\"\u001b[0m\u001b[32mname\u001b[0m\u001b[32m\":\u001b[0m\u001b[32m \"\u001b[0m\u001b[32mget\u001b[0m\u001b[32m_current\u001b[0m\u001b[32m_weather\u001b[0m\u001b[32m\",\u001b[0m\u001b[32m \"\u001b[0m\u001b[32marguments\u001b[0m\u001b[32m\":\u001b[0m\u001b[32m {\"\u001b[0m\u001b[32mlocation\u001b[0m\u001b[32m\":\u001b[0m\u001b[32m \"\u001b[0m\u001b[32m上海\u001b[0m\u001b[32m\"}}\n",
      "\u001b[0m\u001b[32m</\u001b[0m\u001b[32mtool\u001b[0m\u001b[32m_call\u001b[0m\u001b[32m>\u001b[0m\n",
      "\n",
      "\u001b[32m广州今天是晴天。 \u001b[0m\n",
      "\n",
      "  2s [TOOL_RESP_FINAL] \u001b[36m广州今天是晴天。 \u001b[0m\n",
      "\u001b[32m上海今天是晴天。 \u001b[0m\n",
      "\n",
      "  2s [TOOL_RESP_FINAL] \u001b[36m上海今天是晴天。 \u001b[0m\n",
      "\u001b[32m根据\u001b[0m\u001b[32m获取\u001b[0m\u001b[32m的信息\u001b[0m\u001b[32m，\u001b[0m\u001b[32m广州\u001b[0m\u001b[32m和\u001b[0m\u001b[32m上海\u001b[0m\u001b[32m今天的\u001b[0m\u001b[32m天气\u001b[0m\u001b[32m都是\u001b[0m\u001b[32m晴\u001b[0m\u001b[32m天\u001b[0m\u001b[32m。\n",
      "\n",
      "\u001b[0m\u001b[32m在广州\u001b[0m\u001b[32m和\u001b[0m\u001b[32m上海\u001b[0m\u001b[32m出门\u001b[0m\u001b[32m时\u001b[0m\u001b[32m，\u001b[0m\u001b[32m建议\u001b[0m\u001b[32m您\u001b[0m\u001b[32m：\n",
      "\n",
      "\u001b[0m\u001b[32m1\u001b[0m\u001b[32m.\u001b[0m\u001b[32m 注意\u001b[0m\u001b[32m防晒\u001b[0m\u001b[32m。\u001b[0m\u001b[32m晴\u001b[0m\u001b[32m天\u001b[0m\u001b[32m的日\u001b[0m\u001b[32m晒\u001b[0m\u001b[32m较强\u001b[0m\u001b[32m，\u001b[0m\u001b[32m外出\u001b[0m\u001b[32m时\u001b[0m\u001b[32m应\u001b[0m\u001b[32m涂抹\u001b[0m\u001b[32m防晒\u001b[0m\u001b[32m霜\u001b[0m\u001b[32m或\u001b[0m\u001b[32m使用\u001b[0m\u001b[32m遮\u001b[0m\u001b[32m阳\u001b[0m\u001b[32m伞\u001b[0m\u001b[32m、\u001b[0m\u001b[32m太阳\u001b[0m\u001b[32m帽\u001b[0m\u001b[32m等\u001b[0m\u001b[32m防止\u001b[0m\u001b[32m紫外线\u001b[0m\u001b[32m伤害\u001b[0m\u001b[32m。\n",
      "\u001b[0m\u001b[32m2\u001b[0m\u001b[32m.\u001b[0m\u001b[32m 充\u001b[0m\u001b[32m足\u001b[0m\u001b[32m饮水\u001b[0m\u001b[32m。\u001b[0m\u001b[32m在\u001b[0m\u001b[32m户外\u001b[0m\u001b[32m活动\u001b[0m\u001b[32m时\u001b[0m\u001b[32m，\u001b[0m\u001b[32m人体\u001b[0m\u001b[32m容易\u001b[0m\u001b[32m流失\u001b[0m\u001b[32m水分\u001b[0m\u001b[32m，\u001b[0m\u001b[32m及时\u001b[0m\u001b[32m补充\u001b[0m\u001b[32m水分\u001b[0m\u001b[32m对\u001b[0m\u001b[32m维持\u001b[0m\u001b[32m身体健康\u001b[0m\u001b[32m有很大\u001b[0m\u001b[32m帮助\u001b[0m\u001b[32m。\n",
      "\u001b[0m\u001b[32m3\u001b[0m\u001b[32m.\u001b[0m\u001b[32m 监\u001b[0m\u001b[32m测\u001b[0m\u001b[32m气温\u001b[0m\u001b[32m变化\u001b[0m\u001b[32m。\u001b[0m\u001b[32m即使\u001b[0m\u001b[32m天气\u001b[0m\u001b[32m晴\u001b[0m\u001b[32m朗\u001b[0m\u001b[32m，\u001b[0m\u001b[32m温\u001b[0m\u001b[32m差\u001b[0m\u001b[32m也可能\u001b[0m\u001b[32m较大\u001b[0m\u001b[32m，请\u001b[0m\u001b[32m根据\u001b[0m\u001b[32m实际\u001b[0m\u001b[32m气温\u001b[0m\u001b[32m调整\u001b[0m\u001b[32m穿着\u001b[0m\u001b[32m，\u001b[0m\u001b[32m避免\u001b[0m\u001b[32m感冒\u001b[0m\u001b[32m。\u001b[0m\n",
      "\n",
      "用时 5.700110197067261 秒\n"
     ]
    },
    {
     "data": {
      "text/plain": [
       "[{'role': 'user', 'content': '今天广州和上海出门要准备什么'},\n",
       " {'role': 'assistant',\n",
       "  'content': '<tool_call>\\n{\"name\": \"get_current_weather\", \"arguments\": {\"location\": \"广州\"}}\\n</tool_call>\\n\\n<tool_call>\\n{\"name\": \"get_current_weather\", \"arguments\": {\"location\": \"上海\"}}\\n</tool_call>'},\n",
       " {'role': 'user', 'content': '<tool_resp>广州今天是晴天。 </tool_resp>'},\n",
       " {'role': 'assistant',\n",
       "  'content': '请继续: {\"function\": {\"name\": \"get_current_weather\", \"arguments\": \"{\\\\\"location\\\\\": \\\\\"上海\\\\\"}\"}}'},\n",
       " {'role': 'user', 'content': '<tool_resp>上海今天是晴天。 </tool_resp>'},\n",
       " {'role': 'assistant',\n",
       "  'content': '根据获取的信息，广州和上海今天的天气都是晴天。\\n\\n在广州和上海出门时，建议您：\\n\\n1. 注意防晒。晴天的日晒较强，外出时应涂抹防晒霜或使用遮阳伞、太阳帽等防止紫外线伤害。\\n2. 充足饮水。在户外活动时，人体容易流失水分，及时补充水分对维持身体健康有很大帮助。\\n3. 监测气温变化。即使天气晴朗，温差也可能较大，请根据实际气温调整穿着，避免感冒。'}]"
      ]
     },
     "execution_count": 2,
     "metadata": {},
     "output_type": "execute_result"
    }
   ],
   "source": [
    "from illufly.chat import ChatOpenAI\n",
    "from illufly.types import ToolAgent\n",
    "\n",
    "def get_current_weather(location: str):\n",
    "    \"\"\"获取城市的天气情况\"\"\"\n",
    "    yield f\"{location}今天是晴天。 \"\n",
    "    \n",
    "a = ChatOpenAI(imitator=\"QWEN2_7B\", tools=[ToolAgent(get_current_weather)], exec_tool=True)\n",
    "\n",
    "import time\n",
    "start_time = time.time()\n",
    "a(\"今天广州和上海出门要准备什么\", new_chat=True, verbose=True)\n",
    "end_time = time.time()\n",
    "print(f'用时 {end_time - start_time} 秒')\n",
    "a.memory"
   ]
  },
  {
   "cell_type": "code",
   "execution_count": 1,
   "id": "9104f60f-fada-42c3-a98a-f03eb0996fb0",
   "metadata": {},
   "outputs": [
    {
     "name": "stdout",
     "output_type": "stream",
     "text": [
      "\u001b[32m<tool\u001b[0m\u001b[32m_call\u001b[0m\u001b[32m>\n",
      "\u001b[0m\u001b[32m{\"\u001b[0m\u001b[32mname\u001b[0m\u001b[32m\":\u001b[0m\u001b[32m \"\u001b[0m\u001b[32mget\u001b[0m\u001b[32m_current\u001b[0m\u001b[32m_weather\u001b[0m\u001b[32m\",\u001b[0m\u001b[32m \"\u001b[0m\u001b[32marguments\u001b[0m\u001b[32m\":\u001b[0m\u001b[32m {\"\u001b[0m\u001b[32mlocation\u001b[0m\u001b[32m\":\u001b[0m\u001b[32m \"\u001b[0m\u001b[32m广州\u001b[0m\u001b[32m\"}}\n",
      "\u001b[0m\u001b[32m</\u001b[0m\u001b[32mtool\u001b[0m\u001b[32m_call\u001b[0m\u001b[32m>\n",
      "\n",
      "\u001b[0m\u001b[32m<tool\u001b[0m\u001b[32m_call\u001b[0m\u001b[32m>\n",
      "\u001b[0m\u001b[32m{\"\u001b[0m\u001b[32mname\u001b[0m\u001b[32m\":\u001b[0m\u001b[32m \"\u001b[0m\u001b[32mget\u001b[0m\u001b[32m_p\u001b[0m\u001b[32mices\u001b[0m\u001b[32m\",\u001b[0m\u001b[32m \"\u001b[0m\u001b[32marguments\u001b[0m\u001b[32m\":\u001b[0m\u001b[32m {\"\u001b[0m\u001b[32mhours\u001b[0m\u001b[32m\":\u001b[0m\u001b[32m \"\u001b[0m\u001b[32m2\u001b[0m\u001b[32m\"}}\n",
      "\u001b[0m\u001b[32m</\u001b[0m\u001b[32mtool\u001b[0m\u001b[32m_call\u001b[0m\u001b[32m>\u001b[0m\n",
      "\n",
      "\u001b[32m广州今天是晴天， 25摄氏度。 \u001b[0m\n",
      "\n",
      "  2s [TOOL_RESP_FINAL] \u001b[36m广州今天是晴天， 25摄氏度。 \u001b[0m\n",
      "\u001b[32m球场每小时25元，你要定2小时，所以是50元。\u001b[0m\n",
      "\n",
      "  2s [TOOL_RESP_FINAL] \u001b[36m球场每小时25元，你要定2小时，所以是50元。\u001b[0m\n",
      "\u001b[32m广州\u001b[0m\u001b[32m今天\u001b[0m\u001b[32m是\u001b[0m\u001b[32m晴\u001b[0m\u001b[32m天\u001b[0m\u001b[32m，\u001b[0m\u001b[32m温度\u001b[0m\u001b[32m为\u001b[0m\u001b[32m2\u001b[0m\u001b[32m5\u001b[0m\u001b[32m摄\u001b[0m\u001b[32m氏\u001b[0m\u001b[32m度\u001b[0m\u001b[32m。\u001b[0m\u001b[32m订\u001b[0m\u001b[32m2\u001b[0m\u001b[32m小时\u001b[0m\u001b[32m的\u001b[0m\u001b[32m羽毛球\u001b[0m\u001b[32m球场\u001b[0m\u001b[32m需要\u001b[0m\u001b[32m付费\u001b[0m\u001b[32m5\u001b[0m\u001b[32m0\u001b[0m\u001b[32m元\u001b[0m\u001b[32m。\u001b[0m\n",
      "\n",
      "用时 3.365593671798706 秒\n"
     ]
    },
    {
     "data": {
      "text/plain": [
       "[{'role': 'user', 'content': '帮我看看广州天气，顺便看看订2小时的羽毛球球场多少钱'},\n",
       " {'role': 'assistant',\n",
       "  'content': '<tool_call>\\n{\"name\": \"get_current_weather\", \"arguments\": {\"location\": \"广州\"}}\\n</tool_call>\\n\\n<tool_call>\\n{\"name\": \"get_pices\", \"arguments\": {\"hours\": \"2\"}}\\n</tool_call>'},\n",
       " {'role': 'user', 'content': '<tool_resp>广州今天是晴天， 25摄氏度。 </tool_resp>'},\n",
       " {'role': 'assistant',\n",
       "  'content': '请继续: {\"function\": {\"name\": \"get_pices\", \"arguments\": \"{\\\\\"hours\\\\\": \\\\\"2\\\\\"}\"}}'},\n",
       " {'role': 'user', 'content': '<tool_resp>球场每小时25元，你要定2小时，所以是50元。</tool_resp>'},\n",
       " {'role': 'assistant', 'content': '广州今天是晴天，温度为25摄氏度。订2小时的羽毛球球场需要付费50元。'}]"
      ]
     },
     "execution_count": 1,
     "metadata": {},
     "output_type": "execute_result"
    }
   ],
   "source": [
    "from illufly.chat import ChatOpenAI\n",
    "from illufly.types import ToolAgent\n",
    "\n",
    "def get_current_weather(location: str):\n",
    "    \"\"\"获取城市的天气情况\"\"\"\n",
    "    yield f\"{location}今天是晴天， 25摄氏度。 \"\n",
    "\n",
    "def get_pices(hours: int=1):\n",
    "    \"\"\"预测订羽毛球球场的价格，hours是预订球场的小时数，因为球场价格是按照小时计算的\"\"\"\n",
    "    yield f\"球场每小时25元，你要定{hours}小时，所以是{hours*25}元。\"\n",
    "\n",
    "a = ChatOpenAI(imitator=\"QWEN2_7B\", exec_tool=True)\n",
    "\n",
    "import time\n",
    "start_time = time.time()\n",
    "\n",
    "toolkits = [ToolAgent(t) for t in [get_current_weather, get_pices]]\n",
    "a(\"帮我看看广州天气，顺便看看订2小时的羽毛球球场多少钱\", tools=toolkits, new_chat=True, verbose=True)\n",
    "\n",
    "end_time = time.time()\n",
    "print(f'用时 {end_time - start_time} 秒')\n",
    "\n",
    "a.memory"
   ]
  },
  {
   "cell_type": "code",
   "execution_count": 6,
   "id": "6836829f-e34a-4584-bcd6-6d18eb91c2c2",
   "metadata": {},
   "outputs": [
    {
     "data": {
      "text/plain": [
       "[{'role': 'user', 'content': '今天广州出门要准备什么'},\n",
       " {'role': 'assistant',\n",
       "  'content': '<tool_call>\\n{\"name\": \"get_current_weather\", \"arguments\": {\"location\": \"广州\"}}\\n</tool_call>'},\n",
       " {'role': 'user', 'content': '<tool_resp>广州今天是晴天。 </tool_resp>'},\n",
       " {'role': 'assistant',\n",
       "  'content': '广州今天天气晴朗，出门时你可以选择轻便的上衣，并注意防晒和补水，带上太阳镜和遮阳帽也是一个不错的选择。不过天气多变，建议出发前再次查看最新的天气预报。'}]"
      ]
     },
     "execution_count": 6,
     "metadata": {},
     "output_type": "execute_result"
    }
   ],
   "source": [
    "a.memory"
   ]
  },
  {
   "cell_type": "code",
   "execution_count": null,
   "id": "7c99f96d-d0b9-4722-8cd7-ba3647402779",
   "metadata": {},
   "outputs": [],
   "source": []
  }
 ],
 "metadata": {
  "kernelspec": {
   "display_name": "Python 3 (ipykernel)",
   "language": "python",
   "name": "python3"
  },
  "language_info": {
   "codemirror_mode": {
    "name": "ipython",
    "version": 3
   },
   "file_extension": ".py",
   "mimetype": "text/x-python",
   "name": "python",
   "nbconvert_exporter": "python",
   "pygments_lexer": "ipython3",
   "version": "3.10.0"
  }
 },
 "nbformat": 4,
 "nbformat_minor": 5
}
