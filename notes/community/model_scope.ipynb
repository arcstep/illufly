{
 "cells": [
  {
   "cell_type": "markdown",
   "id": "9d29c40a-2a13-4a7f-a465-189d2ea5ead2",
   "metadata": {},
   "source": [
    "# 魔搭社区"
   ]
  },
  {
   "cell_type": "markdown",
   "id": "30e55ec8-ba21-4701-96d5-6a54f9199b24",
   "metadata": {},
   "source": [
    "## 对话模型"
   ]
  },
  {
   "cell_type": "markdown",
   "id": "a56ebc64-4071-443b-8143-c7a3b2182eea",
   "metadata": {},
   "source": [
    "### 同步调用"
   ]
  },
  {
   "cell_type": "code",
   "execution_count": 1,
   "id": "54add976-5cc5-42af-96c2-55851d0178b0",
   "metadata": {},
   "outputs": [
    {
     "name": "stdout",
     "output_type": "stream",
     "text": [
      "\u001b[32m当然\u001b[0m\u001b[32m可以\u001b[0m\u001b[32m，\u001b[0m\u001b[32m下面\u001b[0m\u001b[32m是我\u001b[0m\u001b[32m为您\u001b[0m\u001b[32m量\u001b[0m\u001b[32m身\u001b[0m\u001b[32m打造\u001b[0m\u001b[32m的一\u001b[0m\u001b[32m首\u001b[0m\u001b[32m关于\u001b[0m\u001b[32m兔子\u001b[0m\u001b[32m做梦\u001b[0m\u001b[32m的\u001b[0m\u001b[32m四\u001b[0m\u001b[32m句\u001b[0m\u001b[32m儿\u001b[0m\u001b[32m歌\u001b[0m\u001b[32m：\n",
      "\n",
      "\u001b[0m\u001b[32m月亮\u001b[0m\u001b[32m挂\u001b[0m\u001b[32m高\u001b[0m\u001b[32m高\u001b[0m\u001b[32m，\u001b[0m\u001b[32m夜\u001b[0m\u001b[32m幕\u001b[0m\u001b[32m轻轻\u001b[0m\u001b[32m垂\u001b[0m\u001b[32m，\n",
      "\u001b[0m\u001b[32m小\u001b[0m\u001b[32m兔子\u001b[0m\u001b[32m枕\u001b[0m\u001b[32m草\u001b[0m\u001b[32m睡\u001b[0m\u001b[32m，\u001b[0m\u001b[32m梦\u001b[0m\u001b[32m入\u001b[0m\u001b[32m奇妙\u001b[0m\u001b[32m追\u001b[0m\u001b[32m。\n",
      "\n",
      "\u001b[0m\u001b[32m梦\u001b[0m\u001b[32m中\u001b[0m\u001b[32m花\u001b[0m\u001b[32m香\u001b[0m\u001b[32m浓郁\u001b[0m\u001b[32m，\u001b[0m\u001b[32m满\u001b[0m\u001b[32m地\u001b[0m\u001b[32m春\u001b[0m\u001b[32m色\u001b[0m\u001b[32m铺\u001b[0m\u001b[32m，\n",
      "\u001b[0m\u001b[32m兔子\u001b[0m\u001b[32m蹦\u001b[0m\u001b[32m跳\u001b[0m\u001b[32m乐\u001b[0m\u001b[32m，\u001b[0m\u001b[32m笑\u001b[0m\u001b[32m声响\u001b[0m\u001b[32m山谷\u001b[0m\u001b[32m。\n",
      "\n",
      "\u001b[0m\u001b[32m翅膀\u001b[0m\u001b[32m轻\u001b[0m\u001b[32m展\u001b[0m\u001b[32m动\u001b[0m\u001b[32m，\u001b[0m\u001b[32m飞\u001b[0m\u001b[32m越\u001b[0m\u001b[32m万\u001b[0m\u001b[32m重\u001b[0m\u001b[32m山\u001b[0m\u001b[32m，\n",
      "\u001b[0m\u001b[32m醒来\u001b[0m\u001b[32m仍\u001b[0m\u001b[32m回味\u001b[0m\u001b[32m，\u001b[0m\u001b[32m一场\u001b[0m\u001b[32m甜\u001b[0m\u001b[32m梦\u001b[0m\u001b[32m间\u001b[0m\u001b[32m。\n",
      "\n",
      "\u001b[0m\u001b[32m这首\u001b[0m\u001b[32m儿\u001b[0m\u001b[32m歌\u001b[0m\u001b[32m试图\u001b[0m\u001b[32m用\u001b[0m\u001b[32m温馨\u001b[0m\u001b[32m、\u001b[0m\u001b[32m充满\u001b[0m\u001b[32m想象力\u001b[0m\u001b[32m的语言\u001b[0m\u001b[32m来\u001b[0m\u001b[32m描绘\u001b[0m\u001b[32m一只\u001b[0m\u001b[32m兔子\u001b[0m\u001b[32m在\u001b[0m\u001b[32m宁静\u001b[0m\u001b[32m夜晚\u001b[0m\u001b[32m的\u001b[0m\u001b[32m梦境\u001b[0m\u001b[32m。\u001b[0m\u001b[32m希望\u001b[0m\u001b[32m它\u001b[0m\u001b[32m能够\u001b[0m\u001b[32m激发\u001b[0m\u001b[32m孩子们\u001b[0m\u001b[32m对\u001b[0m\u001b[32m梦想\u001b[0m\u001b[32m和\u001b[0m\u001b[32m冒险\u001b[0m\u001b[32m的\u001b[0m\u001b[32m向往\u001b[0m\u001b[32m与\u001b[0m\u001b[32m兴趣\u001b[0m\u001b[32m。\u001b[0m\n",
      "\n"
     ]
    },
    {
     "data": {
      "text/plain": [
       "[{'role': 'user', 'content': '你能帮我写一首关于兔子做梦的四句儿歌?'},\n",
       " {'role': 'assistant',\n",
       "  'content': '当然可以，下面是我为您量身打造的一首关于兔子做梦的四句儿歌：\\n\\n月亮挂高高，夜幕轻轻垂，\\n小兔子枕草睡，梦入奇妙追。\\n\\n梦中花香浓郁，满地春色铺，\\n兔子蹦跳乐，笑声响山谷。\\n\\n翅膀轻展动，飞越万重山，\\n醒来仍回味，一场甜梦间。\\n\\n这首儿歌试图用温馨、充满想象力的语言来描绘一只兔子在宁静夜晚的梦境。希望它能够激发孩子们对梦想和冒险的向往与兴趣。'}]"
      ]
     },
     "execution_count": 1,
     "metadata": {},
     "output_type": "execute_result"
    }
   ],
   "source": [
    "from illufly.chat import ChatOpenAI\n",
    "\n",
    "a = ChatOpenAI(imitator=\"QWEN2_7B\")\n",
    "a(\"你能帮我写一首关于兔子做梦的四句儿歌?\", verbose=True)\n",
    "a.memory"
   ]
  },
  {
   "cell_type": "markdown",
   "id": "ce9e2f9a-5732-497a-b12d-4bd6a50e087a",
   "metadata": {},
   "source": [
    "### 显示使用 log"
   ]
  },
  {
   "cell_type": "code",
   "execution_count": 2,
   "id": "0f888312-1a6c-4995-b9e6-d767cad1512a",
   "metadata": {},
   "outputs": [
    {
     "name": "stdout",
     "output_type": "stream",
     "text": [
      "\u001b[32m当然\u001b[0m\u001b[32m可以\u001b[0m\u001b[32m，\u001b[0m\u001b[32m下面是\u001b[0m\u001b[32m专门为\u001b[0m\u001b[32m兔子\u001b[0m\u001b[32m设计\u001b[0m\u001b[32m的一\u001b[0m\u001b[32m首\u001b[0m\u001b[32m梦\u001b[0m\u001b[32m中的\u001b[0m\u001b[32m小\u001b[0m\u001b[32m诗\u001b[0m\u001b[32m，\u001b[0m\u001b[32m用\u001b[0m\u001b[32m简单\u001b[0m\u001b[32m、\u001b[0m\u001b[32m韵\u001b[0m\u001b[32m律\u001b[0m\u001b[32m的方式\u001b[0m\u001b[32m呈现\u001b[0m\u001b[32m，\u001b[0m\u001b[32m希望能\u001b[0m\u001b[32m符合\u001b[0m\u001b[32m您\u001b[0m\u001b[32m所需\u001b[0m\u001b[32m：\n",
      "\n",
      "\u001b[0m\u001b[32m轻\u001b[0m\u001b[32m盈\u001b[0m\u001b[32m的\u001b[0m\u001b[32m月\u001b[0m\u001b[32m光\u001b[0m\u001b[32m洒\u001b[0m\u001b[32m落在\u001b[0m\u001b[32m梦\u001b[0m\u001b[32m田\u001b[0m\u001b[32m，\n",
      "\u001b[0m\u001b[32m兔子\u001b[0m\u001b[32m悄悄\u001b[0m\u001b[32m钻\u001b[0m\u001b[32m进\u001b[0m\u001b[32m柔软\u001b[0m\u001b[32m的\u001b[0m\u001b[32m晚\u001b[0m\u001b[32m，\n",
      "\u001b[0m\u001b[32m在\u001b[0m\u001b[32m棉花\u001b[0m\u001b[32m糖\u001b[0m\u001b[32m般的\u001b[0m\u001b[32m云\u001b[0m\u001b[32m朵\u001b[0m\u001b[32m上\u001b[0m\u001b[32m飞\u001b[0m\u001b[32m旋\u001b[0m\u001b[32m，\n",
      "\u001b[0m\u001b[32m追逐\u001b[0m\u001b[32m着\u001b[0m\u001b[32m金色\u001b[0m\u001b[32m的\u001b[0m\u001b[32m银\u001b[0m\u001b[32m色\u001b[0m\u001b[32m光环\u001b[0m\u001b[32m。\n",
      "\n",
      "\u001b[0m\u001b[32m梦境\u001b[0m\u001b[32m里\u001b[0m\u001b[32m，\u001b[0m\u001b[32m森林\u001b[0m\u001b[32m变成了\u001b[0m\u001b[32m奇幻\u001b[0m\u001b[32m的\u001b[0m\u001b[32m舞台\u001b[0m\u001b[32m，\n",
      "\u001b[0m\u001b[32m每\u001b[0m\u001b[32m一步\u001b[0m\u001b[32m都\u001b[0m\u001b[32m踏\u001b[0m\u001b[32m出\u001b[0m\u001b[32m绿色\u001b[0m\u001b[32m的\u001b[0m\u001b[32m节\u001b[0m\u001b[32m拍\u001b[0m\u001b[32m，\n",
      "\u001b[0m\u001b[32m月亮\u001b[0m\u001b[32m仙\u001b[0m\u001b[32m子\u001b[0m\u001b[32m轻轻\u001b[0m\u001b[32m吹\u001b[0m\u001b[32m起\u001b[0m\u001b[32m风\u001b[0m\u001b[32m笛\u001b[0m\u001b[32m，\n",
      "\u001b[0m\u001b[32m带来\u001b[0m\u001b[32m花瓣\u001b[0m\u001b[32m雨\u001b[0m\u001b[32m，\u001b[0m\u001b[32m温柔\u001b[0m\u001b[32m地\u001b[0m\u001b[32m吻\u001b[0m\u001b[32m过\u001b[0m\u001b[32m小\u001b[0m\u001b[32m兔\u001b[0m\u001b[32m的眼\u001b[0m\u001b[32m睫\u001b[0m\u001b[32m。\n",
      "\n",
      "\u001b[0m\u001b[32m醒来\u001b[0m\u001b[32m时\u001b[0m\u001b[32m，\u001b[0m\u001b[32m嘴角\u001b[0m\u001b[32m还\u001b[0m\u001b[32m带着\u001b[0m\u001b[32m微笑\u001b[0m\u001b[32m的\u001b[0m\u001b[32m痕迹\u001b[0m\u001b[32m，\n",
      "\u001b[0m\u001b[32m仿佛\u001b[0m\u001b[32m整个\u001b[0m\u001b[32m夜晚\u001b[0m\u001b[32m，\u001b[0m\u001b[32m都\u001b[0m\u001b[32m藏\u001b[0m\u001b[32m在\u001b[0m\u001b[32m了\u001b[0m\u001b[32m心中\u001b[0m\u001b[32m秘密\u001b[0m\u001b[32m，\n",
      "\u001b[0m\u001b[32m每一次\u001b[0m\u001b[32m梦\u001b[0m\u001b[32m到\u001b[0m\u001b[32m远方\u001b[0m\u001b[32m的\u001b[0m\u001b[32m冒险\u001b[0m\u001b[32m，\n",
      "\u001b[0m\u001b[32m都是\u001b[0m\u001b[32m对\u001b[0m\u001b[32m这个世界\u001b[0m\u001b[32m最\u001b[0m\u001b[32m温柔\u001b[0m\u001b[32m的\u001b[0m\u001b[32m回应\u001b[0m\u001b[32m。\u001b[0m\n",
      "\n"
     ]
    },
    {
     "data": {
      "text/plain": [
       "[{'role': 'user', 'content': '你能帮我写一首关于兔子做梦的四句儿歌?'},\n",
       " {'role': 'assistant',\n",
       "  'content': '当然可以，下面是专门为兔子设计的一首梦中的小诗，用简单、韵律的方式呈现，希望能符合您所需：\\n\\n轻盈的月光洒落在梦田，\\n兔子悄悄钻进柔软的晚，\\n在棉花糖般的云朵上飞旋，\\n追逐着金色的银色光环。\\n\\n梦境里，森林变成了奇幻的舞台，\\n每一步都踏出绿色的节拍，\\n月亮仙子轻轻吹起风笛，\\n带来花瓣雨，温柔地吻过小兔的眼睫。\\n\\n醒来时，嘴角还带着微笑的痕迹，\\n仿佛整个夜晚，都藏在了心中秘密，\\n每一次梦到远方的冒险，\\n都是对这个世界最温柔的回应。'}]"
      ]
     },
     "execution_count": 2,
     "metadata": {},
     "output_type": "execute_result"
    }
   ],
   "source": [
    "# 使用 handler 函数的另一种方式：\n",
    "from illufly.chat import ChatOpenAI\n",
    "from illufly.io import log\n",
    "\n",
    "a = ChatOpenAI(imitator=\"QWEN2_7B\")\n",
    "log(a, \"你能帮我写一首关于兔子做梦的四句儿歌?\", verbose=True)\n",
    "a.memory"
   ]
  },
  {
   "cell_type": "markdown",
   "id": "928208a4-9f2b-44b8-8345-911925488f7f",
   "metadata": {},
   "source": [
    "### 异步调用"
   ]
  },
  {
   "cell_type": "code",
   "execution_count": 3,
   "id": "212d95fc-5dfd-4578-90d9-115736ab7ade",
   "metadata": {},
   "outputs": [
    {
     "name": "stdout",
     "output_type": "stream",
     "text": [
      "\u001b[32m当然\u001b[0m\u001b[32m可以\u001b[0m\u001b[32m，\u001b[0m\u001b[32m下面\u001b[0m\u001b[32m是一\u001b[0m\u001b[32m首\u001b[0m\u001b[32m关于\u001b[0m\u001b[32m兔子\u001b[0m\u001b[32m做梦\u001b[0m\u001b[32m的\u001b[0m\u001b[32m四\u001b[0m\u001b[32m句\u001b[0m\u001b[32m儿\u001b[0m\u001b[32m歌\u001b[0m\u001b[32m：\n",
      "\n",
      "\u001b[0m\u001b[32m兔\u001b[0m\u001b[32m宝宝\u001b[0m\u001b[32m梦\u001b[0m\u001b[32m里\u001b[0m\u001b[32m找\u001b[0m\u001b[32m食\u001b[0m\u001b[32m粮\u001b[0m\u001b[32m，\n",
      "\u001b[0m\u001b[32m月亮\u001b[0m\u001b[32m下\u001b[0m\u001b[32m边\u001b[0m\u001b[32m蹦\u001b[0m\u001b[32m又\u001b[0m\u001b[32m跳\u001b[0m\u001b[32m。\n",
      "\u001b[0m\u001b[32m摘\u001b[0m\u001b[32m一朵\u001b[0m\u001b[32m云\u001b[0m\u001b[32m做\u001b[0m\u001b[32m甜\u001b[0m\u001b[32m饼\u001b[0m\u001b[32m，\n",
      "\u001b[0m\u001b[32m月\u001b[0m\u001b[32m光\u001b[0m\u001b[32m海\u001b[0m\u001b[32m里\u001b[0m\u001b[32m游泳\u001b[0m\u001b[32m浪\u001b[0m\u001b[32m。\n",
      "\n",
      "\u001b[0m\u001b[32m希望\u001b[0m\u001b[32m这首\u001b[0m\u001b[32m儿\u001b[0m\u001b[32m歌\u001b[0m\u001b[32m能\u001b[0m\u001b[32m让你\u001b[0m\u001b[32m感受到\u001b[0m\u001b[32m兔子\u001b[0m\u001b[32m在\u001b[0m\u001b[32m梦境\u001b[0m\u001b[32m中的\u001b[0m\u001b[32m奇\u001b[0m\u001b[32m遇\u001b[0m\u001b[32m和\u001b[0m\u001b[32m快乐\u001b[0m\u001b[32m！\u001b[0m\n",
      "\n"
     ]
    },
    {
     "data": {
      "text/plain": [
       "[{'role': 'user', 'content': '你能帮我写一首关于兔子做梦的四句儿歌?'},\n",
       " {'role': 'assistant',\n",
       "  'content': '当然可以，下面是一首关于兔子做梦的四句儿歌：\\n\\n兔宝宝梦里找食粮，\\n月亮下边蹦又跳。\\n摘一朵云做甜饼，\\n月光海里游泳浪。\\n\\n希望这首儿歌能让你感受到兔子在梦境中的奇遇和快乐！'}]"
      ]
     },
     "execution_count": 3,
     "metadata": {},
     "output_type": "execute_result"
    }
   ],
   "source": [
    "# 异步输出\n",
    "from illufly.chat import ChatOpenAI\n",
    "from illufly.io import alog\n",
    "\n",
    "a = ChatOpenAI(imitator=\"QWEN2_7B\")\n",
    "await a(\n",
    "    \"你能帮我写一首关于兔子做梦的四句儿歌?\",\n",
    "    verbose=True,\n",
    "    handler=alog\n",
    ")\n",
    "a.memory"
   ]
  },
  {
   "cell_type": "code",
   "execution_count": 4,
   "id": "a7145a95-f03e-4783-910b-4e225f62fc2c",
   "metadata": {},
   "outputs": [
    {
     "name": "stdout",
     "output_type": "stream",
     "text": [
      "\u001b[32m当然\u001b[0m\u001b[32m可以\u001b[0m\u001b[32m，\u001b[0m\u001b[32m以下\u001b[0m\u001b[32m是一\u001b[0m\u001b[32m首\u001b[0m\u001b[32m关于\u001b[0m\u001b[32m兔子\u001b[0m\u001b[32m做梦\u001b[0m\u001b[32m的\u001b[0m\u001b[32m四\u001b[0m\u001b[32m句\u001b[0m\u001b[32m儿\u001b[0m\u001b[32m歌\u001b[0m\u001b[32m：\n",
      "\n",
      "\u001b[0m\u001b[32m月亮\u001b[0m\u001b[32m挂在\u001b[0m\u001b[32m夜\u001b[0m\u001b[32m空中\u001b[0m\u001b[32m，\u001b[0m\u001b[32m  \n",
      "\u001b[0m\u001b[32m兔子\u001b[0m\u001b[32m轻轻\u001b[0m\u001b[32m跳\u001b[0m\u001b[32m入\u001b[0m\u001b[32m梦\u001b[0m\u001b[32m。\u001b[0m\u001b[32m  \n",
      "\u001b[0m\u001b[32m梦\u001b[0m\u001b[32m里\u001b[0m\u001b[32m有\u001b[0m\u001b[32m花\u001b[0m\u001b[32m香\u001b[0m\u001b[32m四\u001b[0m\u001b[32m溢\u001b[0m\u001b[32m，\u001b[0m\u001b[32m  \n",
      "\u001b[0m\u001b[32m兔子\u001b[0m\u001b[32m笑\u001b[0m\u001b[32m醒\u001b[0m\u001b[32m在\u001b[0m\u001b[32m春\u001b[0m\u001b[32m晨\u001b[0m\u001b[32m。\n",
      "\n",
      "\u001b[0m\u001b[32m这首\u001b[0m\u001b[32m儿\u001b[0m\u001b[32m歌\u001b[0m\u001b[32m简单\u001b[0m\u001b[32m地\u001b[0m\u001b[32m描绘\u001b[0m\u001b[32m了\u001b[0m\u001b[32m兔子\u001b[0m\u001b[32m在\u001b[0m\u001b[32m月\u001b[0m\u001b[32m光\u001b[0m\u001b[32m下的\u001b[0m\u001b[32m梦境\u001b[0m\u001b[32m，\u001b[0m\u001b[32m充满了\u001b[0m\u001b[32m温馨\u001b[0m\u001b[32m和\u001b[0m\u001b[32m想象力\u001b[0m\u001b[32m。\u001b[0m\u001b[32m希望\u001b[0m\u001b[32m你喜欢\u001b[0m\u001b[32m！\u001b[0m\n",
      "\n"
     ]
    },
    {
     "data": {
      "text/plain": [
       "[{'role': 'user', 'content': '你能帮我写一首关于兔子做梦的四句儿歌?'},\n",
       " {'role': 'assistant',\n",
       "  'content': '当然可以，以下是一首关于兔子做梦的四句儿歌：\\n\\n月亮挂在夜空中，  \\n兔子轻轻跳入梦。  \\n梦里有花香四溢，  \\n兔子笑醒在春晨。\\n\\n这首儿歌简单地描绘了兔子在月光下的梦境，充满了温馨和想象力。希望你喜欢！'}]"
      ]
     },
     "execution_count": 4,
     "metadata": {},
     "output_type": "execute_result"
    }
   ],
   "source": [
    "# 在调用时指定模型名称\n",
    "a = ChatOpenAI(imitator=\"QWEN2_7B\")\n",
    "await a(\n",
    "    \"你能帮我写一首关于兔子做梦的四句儿歌?\",\n",
    "    handler=alog,\n",
    "    model=\"qwen/Qwen2-7B-Instruct-GGUF\",\n",
    "    temperature=0.1\n",
    ")\n",
    "a.memory"
   ]
  },
  {
   "cell_type": "markdown",
   "id": "577d4020-491f-49ed-af56-1ae3a8de157a",
   "metadata": {},
   "source": [
    "**在调用时指定工具，返回应当调用的工具信息**"
   ]
  },
  {
   "cell_type": "markdown",
   "id": "1464e250-8321-4983-b800-2b4c2c3b4a22",
   "metadata": {},
   "source": [
    "### 工具回调"
   ]
  },
  {
   "cell_type": "code",
   "execution_count": 1,
   "id": "e202e7d1-6812-49a1-b8b9-7b3cce8480c1",
   "metadata": {},
   "outputs": [
    {
     "name": "stdout",
     "output_type": "stream",
     "text": [
      "\u001b[32m<tool\u001b[0m\u001b[32m_call\u001b[0m\u001b[32m>\n",
      "\u001b[0m\u001b[32m{\"\u001b[0m\u001b[32mname\u001b[0m\u001b[32m\":\u001b[0m\u001b[32m \"\u001b[0m\u001b[32mget\u001b[0m\u001b[32m_current\u001b[0m\u001b[32m_weather\u001b[0m\u001b[32m\",\u001b[0m\u001b[32m \"\u001b[0m\u001b[32marguments\u001b[0m\u001b[32m\":\u001b[0m\u001b[32m {\"\u001b[0m\u001b[32mlocation\u001b[0m\u001b[32m\":\u001b[0m\u001b[32m \"\u001b[0m\u001b[32m广州\u001b[0m\u001b[32m\"}}\n",
      "\u001b[0m\u001b[32m</\u001b[0m\u001b[32mtool\u001b[0m\u001b[32m_call\u001b[0m\u001b[32m>\n",
      "\n",
      "\u001b[0m\u001b[32m<tool\u001b[0m\u001b[32m_call\u001b[0m\u001b[32m>\n",
      "\u001b[0m\u001b[32m{\"\u001b[0m\u001b[32mname\u001b[0m\u001b[32m\":\u001b[0m\u001b[32m \"\u001b[0m\u001b[32mget\u001b[0m\u001b[32m_current\u001b[0m\u001b[32m_weather\u001b[0m\u001b[32m\",\u001b[0m\u001b[32m \"\u001b[0m\u001b[32marguments\u001b[0m\u001b[32m\":\u001b[0m\u001b[32m {\"\u001b[0m\u001b[32mlocation\u001b[0m\u001b[32m\":\u001b[0m\u001b[32m \"\u001b[0m\u001b[32m上海\u001b[0m\u001b[32m\"}}\n",
      "\u001b[0m\u001b[32m</\u001b[0m\u001b[32mtool\u001b[0m\u001b[32m_call\u001b[0m\u001b[32m>\u001b[0m\n",
      "\n",
      "\u001b[32m广州今天是晴天。 \u001b[0m\n",
      "\n",
      "  1s [TOOL_RESP_FINAL] \u001b[36m广州今天是晴天。 \u001b[0m\n",
      "\u001b[32m上海今天是晴天。 \u001b[0m\n",
      "\n",
      "  1s [TOOL_RESP_FINAL] \u001b[36m上海今天是晴天。 \u001b[0m\n",
      "\u001b[32m根据\u001b[0m\u001b[32m天气\u001b[0m\u001b[32m预报\u001b[0m\u001b[32m，\u001b[0m\u001b[32m广州\u001b[0m\u001b[32m和\u001b[0m\u001b[32m上海\u001b[0m\u001b[32m今天\u001b[0m\u001b[32m都是\u001b[0m\u001b[32m晴\u001b[0m\u001b[32m天\u001b[0m\u001b[32m。\u001b[0m\u001b[32m因此\u001b[0m\u001b[32m，\u001b[0m\u001b[32m出门\u001b[0m\u001b[32m时\u001b[0m\u001b[32m你可以\u001b[0m\u001b[32m考虑\u001b[0m\u001b[32m带上\u001b[0m\u001b[32m防晒\u001b[0m\u001b[32m物品\u001b[0m\u001b[32m，\u001b[0m\u001b[32m如\u001b[0m\u001b[32m太阳\u001b[0m\u001b[32m帽\u001b[0m\u001b[32m或\u001b[0m\u001b[32m太阳\u001b[0m\u001b[32m镜\u001b[0m\u001b[32m，\u001b[0m\u001b[32m以及\u001b[0m\u001b[32m适量\u001b[0m\u001b[32m的\u001b[0m\u001b[32m水\u001b[0m\u001b[32m以防\u001b[0m\u001b[32m脱\u001b[0m\u001b[32m水\u001b[0m\u001b[32m。\u001b[0m\u001b[32m记得\u001b[0m\u001b[32m涂抹\u001b[0m\u001b[32m防晒\u001b[0m\u001b[32m霜\u001b[0m\u001b[32m以\u001b[0m\u001b[32m保护\u001b[0m\u001b[32m皮肤\u001b[0m\u001b[32m免\u001b[0m\u001b[32m受\u001b[0m\u001b[32m紫外线\u001b[0m\u001b[32m伤害\u001b[0m\u001b[32m。\u001b[0m\u001b[32m此外\u001b[0m\u001b[32m，\u001b[0m\u001b[32m由于\u001b[0m\u001b[32m天气\u001b[0m\u001b[32m预报\u001b[0m\u001b[32m没有\u001b[0m\u001b[32m提及\u001b[0m\u001b[32m有\u001b[0m\u001b[32m风\u001b[0m\u001b[32m或\u001b[0m\u001b[32m温度\u001b[0m\u001b[32m过\u001b[0m\u001b[32m热\u001b[0m\u001b[32m，\u001b[0m\u001b[32m所以\u001b[0m\u001b[32m无需\u001b[0m\u001b[32m额外\u001b[0m\u001b[32m携带\u001b[0m\u001b[32m防\u001b[0m\u001b[32m风\u001b[0m\u001b[32m或\u001b[0m\u001b[32m降温\u001b[0m\u001b[32m的\u001b[0m\u001b[32m衣物\u001b[0m\u001b[32m。\u001b[0m\u001b[32m享受\u001b[0m\u001b[32m你的\u001b[0m\u001b[32m外出\u001b[0m\u001b[32m时光\u001b[0m\u001b[32m！\u001b[0m\n",
      "\n",
      "用时 4.818633794784546 秒\n"
     ]
    },
    {
     "data": {
      "text/plain": [
       "[{'role': 'user', 'content': '今天广州和上海出门要准备什么'},\n",
       " {'role': 'assistant',\n",
       "  'content': '<tool_call>\\n{\"name\": \"get_current_weather\", \"arguments\": {\"location\": \"广州\"}}\\n</tool_call>\\n\\n<tool_call>\\n{\"name\": \"get_current_weather\", \"arguments\": {\"location\": \"上海\"}}\\n</tool_call>'},\n",
       " {'role': 'user', 'content': '<tool_resp>广州今天是晴天。 </tool_resp>'},\n",
       " {'role': 'user', 'content': '<tool_resp>上海今天是晴天。 </tool_resp>'},\n",
       " {'role': 'assistant',\n",
       "  'content': '根据天气预报，广州和上海今天都是晴天。因此，出门时你可以考虑带上防晒物品，如太阳帽或太阳镜，以及适量的水以防脱水。记得涂抹防晒霜以保护皮肤免受紫外线伤害。此外，由于天气预报没有提及有风或温度过热，所以无需额外携带防风或降温的衣物。享受你的外出时光！'}]"
      ]
     },
     "execution_count": 1,
     "metadata": {},
     "output_type": "execute_result"
    }
   ],
   "source": [
    "from illufly.chat import ChatOpenAI\n",
    "from illufly.types import ToolAgent\n",
    "\n",
    "def get_current_weather(location: str):\n",
    "    \"\"\"获取城市的天气情况\"\"\"\n",
    "    yield f\"{location}今天是晴天。 \"\n",
    "    \n",
    "a = ChatOpenAI(imitator=\"QWEN2_7B\", tools=[ToolAgent(get_current_weather)], exec_tool=True)\n",
    "\n",
    "import time\n",
    "start_time = time.time()\n",
    "a(\"今天广州和上海出门要准备什么\", new_chat=True, verbose=True)\n",
    "end_time = time.time()\n",
    "print(f'用时 {end_time - start_time} 秒')\n",
    "a.memory"
   ]
  },
  {
   "cell_type": "code",
   "execution_count": 2,
   "id": "9104f60f-fada-42c3-a98a-f03eb0996fb0",
   "metadata": {},
   "outputs": [
    {
     "name": "stdout",
     "output_type": "stream",
     "text": [
      "\u001b[32m<tool\u001b[0m\u001b[32m_call\u001b[0m\u001b[32m>\n",
      "\u001b[0m\u001b[32m{\"\u001b[0m\u001b[32mname\u001b[0m\u001b[32m\":\u001b[0m\u001b[32m \"\u001b[0m\u001b[32mget\u001b[0m\u001b[32m_current\u001b[0m\u001b[32m_weather\u001b[0m\u001b[32m\",\u001b[0m\u001b[32m \"\u001b[0m\u001b[32marguments\u001b[0m\u001b[32m\":\u001b[0m\u001b[32m {\"\u001b[0m\u001b[32mlocation\u001b[0m\u001b[32m\":\u001b[0m\u001b[32m \"\u001b[0m\u001b[32m广州\u001b[0m\u001b[32m\"}}\n",
      "\u001b[0m\u001b[32m</\u001b[0m\u001b[32mtool\u001b[0m\u001b[32m_call\u001b[0m\u001b[32m>\n",
      "\n",
      "\u001b[0m\u001b[32m<tool\u001b[0m\u001b[32m_call\u001b[0m\u001b[32m>\n",
      "\u001b[0m\u001b[32m{\"\u001b[0m\u001b[32mname\u001b[0m\u001b[32m\":\u001b[0m\u001b[32m \"\u001b[0m\u001b[32mget\u001b[0m\u001b[32m_p\u001b[0m\u001b[32mices\u001b[0m\u001b[32m\",\u001b[0m\u001b[32m \"\u001b[0m\u001b[32marguments\u001b[0m\u001b[32m\":\u001b[0m\u001b[32m {\"\u001b[0m\u001b[32mhours\u001b[0m\u001b[32m\":\u001b[0m\u001b[32m \"\u001b[0m\u001b[32m2\u001b[0m\u001b[32m\"}}\n",
      "\u001b[0m\u001b[32m</\u001b[0m\u001b[32mtool\u001b[0m\u001b[32m_call\u001b[0m\u001b[32m>\u001b[0m\n",
      "\n",
      "\u001b[32m广州今天是晴天， 25摄氏度。 \u001b[0m\n",
      "\n",
      "  2s [TOOL_RESP_FINAL] \u001b[36m广州今天是晴天， 25摄氏度。 \u001b[0m\n",
      "\u001b[32m球场每小时25元，你要定2小时，所以是50元。\u001b[0m\n",
      "\n",
      "  2s [TOOL_RESP_FINAL] \u001b[36m球场每小时25元，你要定2小时，所以是50元。\u001b[0m\n",
      "\u001b[32m广州\u001b[0m\u001b[32m今天\u001b[0m\u001b[32m是\u001b[0m\u001b[32m晴\u001b[0m\u001b[32m天\u001b[0m\u001b[32m，\u001b[0m\u001b[32m温度\u001b[0m\u001b[32m为\u001b[0m\u001b[32m2\u001b[0m\u001b[32m5\u001b[0m\u001b[32m摄\u001b[0m\u001b[32m氏\u001b[0m\u001b[32m度\u001b[0m\u001b[32m。\u001b[0m\u001b[32m预订\u001b[0m\u001b[32m2\u001b[0m\u001b[32m小时\u001b[0m\u001b[32m的\u001b[0m\u001b[32m羽毛球\u001b[0m\u001b[32m球场\u001b[0m\u001b[32m费用\u001b[0m\u001b[32m为\u001b[0m\u001b[32m5\u001b[0m\u001b[32m0\u001b[0m\u001b[32m元\u001b[0m\u001b[32m。\u001b[0m\n",
      "\n",
      "用时 3.3281679153442383 秒\n"
     ]
    },
    {
     "data": {
      "text/plain": [
       "[{'role': 'user', 'content': '帮我看看广州天气，顺便看看订2小时的羽毛球球场多少钱'},\n",
       " {'role': 'assistant',\n",
       "  'content': '<tool_call>\\n{\"name\": \"get_current_weather\", \"arguments\": {\"location\": \"广州\"}}\\n</tool_call>\\n\\n<tool_call>\\n{\"name\": \"get_pices\", \"arguments\": {\"hours\": \"2\"}}\\n</tool_call>'},\n",
       " {'role': 'user', 'content': '<tool_resp>广州今天是晴天， 25摄氏度。 </tool_resp>'},\n",
       " {'role': 'user', 'content': '<tool_resp>球场每小时25元，你要定2小时，所以是50元。</tool_resp>'},\n",
       " {'role': 'assistant', 'content': '广州今天是晴天，温度为25摄氏度。预订2小时的羽毛球球场费用为50元。'}]"
      ]
     },
     "execution_count": 2,
     "metadata": {},
     "output_type": "execute_result"
    }
   ],
   "source": [
    "from illufly.chat import ChatOpenAI\n",
    "from illufly.types import ToolAgent\n",
    "\n",
    "def get_current_weather(location: str):\n",
    "    \"\"\"获取城市的天气情况\"\"\"\n",
    "    yield f\"{location}今天是晴天， 25摄氏度。 \"\n",
    "\n",
    "def get_pices(hours: int=1):\n",
    "    \"\"\"预测订羽毛球球场的价格，hours是预订球场的小时数，因为球场价格是按照小时计算的\"\"\"\n",
    "    yield f\"球场每小时25元，你要定{hours}小时，所以是{hours*25}元。\"\n",
    "\n",
    "a = ChatOpenAI(imitator=\"QWEN2_7B\", exec_tool=True)\n",
    "\n",
    "import time\n",
    "start_time = time.time()\n",
    "\n",
    "toolkits = [ToolAgent(t) for t in [get_current_weather, get_pices]]\n",
    "a(\"帮我看看广州天气，顺便看看订2小时的羽毛球球场多少钱\", tools=toolkits, new_chat=True, verbose=True)\n",
    "\n",
    "end_time = time.time()\n",
    "print(f'用时 {end_time - start_time} 秒')\n",
    "\n",
    "a.memory"
   ]
  },
  {
   "cell_type": "code",
   "execution_count": 6,
   "id": "6836829f-e34a-4584-bcd6-6d18eb91c2c2",
   "metadata": {},
   "outputs": [
    {
     "data": {
      "text/plain": [
       "[{'role': 'user', 'content': '今天广州出门要准备什么'},\n",
       " {'role': 'assistant',\n",
       "  'content': '<tool_call>\\n{\"name\": \"get_current_weather\", \"arguments\": {\"location\": \"广州\"}}\\n</tool_call>'},\n",
       " {'role': 'user', 'content': '<tool_resp>广州今天是晴天。 </tool_resp>'},\n",
       " {'role': 'assistant',\n",
       "  'content': '广州今天天气晴朗，出门时你可以选择轻便的上衣，并注意防晒和补水，带上太阳镜和遮阳帽也是一个不错的选择。不过天气多变，建议出发前再次查看最新的天气预报。'}]"
      ]
     },
     "execution_count": 6,
     "metadata": {},
     "output_type": "execute_result"
    }
   ],
   "source": [
    "a.memory"
   ]
  },
  {
   "cell_type": "code",
   "execution_count": null,
   "id": "7c99f96d-d0b9-4722-8cd7-ba3647402779",
   "metadata": {},
   "outputs": [],
   "source": []
  }
 ],
 "metadata": {
  "kernelspec": {
   "display_name": "Python 3 (ipykernel)",
   "language": "python",
   "name": "python3"
  },
  "language_info": {
   "codemirror_mode": {
    "name": "ipython",
    "version": 3
   },
   "file_extension": ".py",
   "mimetype": "text/x-python",
   "name": "python",
   "nbconvert_exporter": "python",
   "pygments_lexer": "ipython3",
   "version": "3.10.0"
  }
 },
 "nbformat": 4,
 "nbformat_minor": 5
}
