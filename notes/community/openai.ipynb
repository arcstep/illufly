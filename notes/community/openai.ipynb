{
 "cells": [
  {
   "cell_type": "markdown",
   "id": "9d29c40a-2a13-4a7f-a465-189d2ea5ead2",
   "metadata": {},
   "source": [
    "# 大模型"
   ]
  },
  {
   "cell_type": "markdown",
   "id": "30e55ec8-ba21-4701-96d5-6a54f9199b24",
   "metadata": {},
   "source": [
    "## 对话模型"
   ]
  },
  {
   "cell_type": "markdown",
   "id": "a56ebc64-4071-443b-8143-c7a3b2182eea",
   "metadata": {},
   "source": [
    "### 同步调用"
   ]
  },
  {
   "cell_type": "code",
   "execution_count": 1,
   "id": "54add976-5cc5-42af-96c2-55851d0178b0",
   "metadata": {},
   "outputs": [
    {
     "name": "stdout",
     "output_type": "stream",
     "text": [
      "\u001b[32m小\u001b[0m\u001b[32m兔\u001b[0m\u001b[32m子\u001b[0m\u001b[32m做\u001b[0m\u001b[32m梦\u001b[0m\u001b[32m\n",
      "\u001b[0m\u001b[32m梦\u001b[0m\u001b[32m见\u001b[0m\u001b[32m大\u001b[0m\u001b[32m胡\u001b[0m\u001b[32m萝\u001b[0m\u001b[32m卜\u001b[0m\u001b[32m\n",
      "\u001b[0m\u001b[32m咬\u001b[0m\u001b[32m一\u001b[0m\u001b[32m口\u001b[0m\u001b[32m甜\u001b[0m\u001b[32m甜\u001b[0m\u001b[32m的\u001b[0m\u001b[32m\n",
      "\u001b[0m\u001b[32m梦\u001b[0m\u001b[32m中\u001b[0m\u001b[32m笑\u001b[0m\u001b[32m得\u001b[0m\u001b[32m很\u001b[0m\u001b[32m开\u001b[0m\u001b[32m心\u001b[0m\n",
      "\n"
     ]
    },
    {
     "data": {
      "text/plain": [
       "'小兔子做梦\\n梦见大胡萝卜\\n咬一口甜甜的\\n梦中笑得很开心'"
      ]
     },
     "execution_count": 1,
     "metadata": {},
     "output_type": "execute_result"
    }
   ],
   "source": [
    "from illufly.chat import ChatOpenAI\n",
    "\n",
    "a = ChatOpenAI()\n",
    "a(\"你能帮我写一首关于兔子做梦的四句儿歌?\", verbose=True)"
   ]
  },
  {
   "cell_type": "markdown",
   "id": "ce9e2f9a-5732-497a-b12d-4bd6a50e087a",
   "metadata": {},
   "source": [
    "### 显示使用 log"
   ]
  },
  {
   "cell_type": "code",
   "execution_count": 2,
   "id": "0f888312-1a6c-4995-b9e6-d767cad1512a",
   "metadata": {},
   "outputs": [
    {
     "name": "stdout",
     "output_type": "stream",
     "text": [
      "\u001b[32m小\u001b[0m\u001b[32m兔\u001b[0m\u001b[32m子\u001b[0m\u001b[32m瞌\u001b[0m\u001b[32m睡\u001b[0m\u001b[32m梦\u001b[0m\u001b[32m中\u001b[0m\u001b[32m飘\u001b[0m\u001b[32m，\u001b[0m\u001b[32m梦\u001b[0m\u001b[32m见\u001b[0m\u001b[32m大\u001b[0m\u001b[32m树\u001b[0m\u001b[32m荡\u001b[0m\u001b[32m秋\u001b[0m\u001b[32m桥\u001b[0m\u001b[32m。\n",
      "\u001b[0m\u001b[32m梦\u001b[0m\u001b[32m里\u001b[0m\u001b[32m有\u001b[0m\u001b[32m糖\u001b[0m\u001b[32m果\u001b[0m\u001b[32m山\u001b[0m\u001b[32m高\u001b[0m\u001b[32m插\u001b[0m\u001b[32m，\u001b[0m\u001b[32m蹦\u001b[0m\u001b[32m跳\u001b[0m\u001b[32m着\u001b[0m\u001b[32m找\u001b[0m\u001b[32m小时\u001b[0m\u001b[32m候\u001b[0m\u001b[32m乐\u001b[0m\u001b[32m。\n",
      "\u001b[0m\u001b[32m醒\u001b[0m\u001b[32m来\u001b[0m\u001b[32m只\u001b[0m\u001b[32m是\u001b[0m\u001b[32m梦\u001b[0m\u001b[32m境\u001b[0m\u001b[32m皮\u001b[0m\u001b[32m，\u001b[0m\u001b[32m可\u001b[0m\u001b[32m笑\u001b[0m\u001b[32m兔\u001b[0m\u001b[32m子\u001b[0m\u001b[32m又\u001b[0m\u001b[32m快\u001b[0m\u001b[32m乐\u001b[0m\u001b[32m。\u001b[0m\n",
      "\n"
     ]
    },
    {
     "data": {
      "text/plain": [
       "'小兔子瞌睡梦中飘，梦见大树荡秋桥。\\n梦里有糖果山高插，蹦跳着找小时候乐。\\n醒来只是梦境皮，可笑兔子又快乐。'"
      ]
     },
     "execution_count": 2,
     "metadata": {},
     "output_type": "execute_result"
    }
   ],
   "source": [
    "# 使用 handler 函数的另一种方式：\n",
    "from illufly.chat import ChatOpenAI\n",
    "from illufly.io import log\n",
    "\n",
    "log(ChatOpenAI(), \"你能帮我写一首关于兔子做梦的四句儿歌?\", verbose=True)"
   ]
  },
  {
   "cell_type": "markdown",
   "id": "928208a4-9f2b-44b8-8345-911925488f7f",
   "metadata": {},
   "source": [
    "### 异步调用"
   ]
  },
  {
   "cell_type": "code",
   "execution_count": 1,
   "id": "212d95fc-5dfd-4578-90d9-115736ab7ade",
   "metadata": {},
   "outputs": [
    {
     "name": "stdout",
     "output_type": "stream",
     "text": [
      "\u001b[32m兔\u001b[0m\u001b[32m子\u001b[0m\u001b[32m睡\u001b[0m\u001b[32m觉\u001b[0m\u001b[32m做\u001b[0m\u001b[32m美\u001b[0m\u001b[32m梦\u001b[0m\u001b[32m，\n",
      "\u001b[0m\u001b[32m梦\u001b[0m\u001b[32m中\u001b[0m\u001b[32m有\u001b[0m\u001b[32m万\u001b[0m\u001b[32m花\u001b[0m\u001b[32m齐\u001b[0m\u001b[32m放\u001b[0m\u001b[32m的\u001b[0m\u001b[32m园\u001b[0m\u001b[32m，\n",
      "\u001b[0m\u001b[32m小\u001b[0m\u001b[32m兔\u001b[0m\u001b[32m在\u001b[0m\u001b[32m花\u001b[0m\u001b[32m海\u001b[0m\u001b[32m里\u001b[0m\u001b[32m蹦\u001b[0m\u001b[32m跳\u001b[0m\u001b[32m，\n",
      "\u001b[0m\u001b[32m快\u001b[0m\u001b[32m乐\u001b[0m\u001b[32m的\u001b[0m\u001b[32m梦\u001b[0m\u001b[32m境\u001b[0m\u001b[32m永\u001b[0m\u001b[32m不\u001b[0m\u001b[32m停\u001b[0m\u001b[32m。\u001b[0m\n",
      "\n"
     ]
    },
    {
     "data": {
      "text/plain": [
       "[{'role': 'user', 'content': '你能帮我写一首关于兔子做梦的四句儿歌?'},\n",
       " {'role': 'assistant',\n",
       "  'content': '兔子睡觉做美梦，\\n梦中有万花齐放的园，\\n小兔在花海里蹦跳，\\n快乐的梦境永不停。'}]"
      ]
     },
     "execution_count": 1,
     "metadata": {},
     "output_type": "execute_result"
    }
   ],
   "source": [
    "# 异步输出\n",
    "from illufly.chat import ChatOpenAI\n",
    "from illufly.io import alog\n",
    "\n",
    "a = ChatOpenAI(model=\"gpt-3.5-turbo\")\n",
    "await a(\n",
    "    \"你能帮我写一首关于兔子做梦的四句儿歌?\",\n",
    "    verbose=True,\n",
    "    handler=alog\n",
    ")\n",
    "a.memory"
   ]
  },
  {
   "cell_type": "code",
   "execution_count": 2,
   "id": "a7145a95-f03e-4783-910b-4e225f62fc2c",
   "metadata": {},
   "outputs": [
    {
     "name": "stdout",
     "output_type": "stream",
     "text": [
      "\u001b[32m当\u001b[0m\u001b[32m兔\u001b[0m\u001b[32m子\u001b[0m\u001b[32m闭\u001b[0m\u001b[32m上\u001b[0m\u001b[32m眼\u001b[0m\u001b[32m，\u001b[0m\u001b[32m梦\u001b[0m\u001b[32m里\u001b[0m\u001b[32m是\u001b[0m\u001b[32m个\u001b[0m\u001b[32m仙\u001b[0m\u001b[32m境\u001b[0m\u001b[32m，\n",
      "\u001b[0m\u001b[32m跳\u001b[0m\u001b[32m跃\u001b[0m\u001b[32m在\u001b[0m\u001b[32m绿\u001b[0m\u001b[32m草\u001b[0m\u001b[32m地\u001b[0m\u001b[32m，\u001b[0m\u001b[32m快\u001b[0m\u001b[32m乐\u001b[0m\u001b[32m无\u001b[0m\u001b[32m比\u001b[0m\u001b[32m轻\u001b[0m\u001b[32m盈\u001b[0m\u001b[32m。\n",
      "\u001b[0m\u001b[32m梦\u001b[0m\u001b[32m中\u001b[0m\u001b[32m有\u001b[0m\u001b[32m胡\u001b[0m\u001b[32m萝\u001b[0m\u001b[32m卜\u001b[0m\u001b[32m，\u001b[0m\u001b[32m还\u001b[0m\u001b[32m有\u001b[0m\u001b[32m甜\u001b[0m\u001b[32m美\u001b[0m\u001b[32m的\u001b[0m\u001b[32m胡\u001b[0m\u001b[32m椒\u001b[0m\u001b[32m，\n",
      "\u001b[0m\u001b[32m兔\u001b[0m\u001b[32m子\u001b[0m\u001b[32m笑\u001b[0m\u001b[32m得\u001b[0m\u001b[32m合\u001b[0m\u001b[32m不\u001b[0m\u001b[32m拢\u001b[0m\u001b[32m嘴\u001b[0m\u001b[32m，\u001b[0m\u001b[32m做\u001b[0m\u001b[32m梦\u001b[0m\u001b[32m也\u001b[0m\u001b[32m是\u001b[0m\u001b[32m如\u001b[0m\u001b[32m此\u001b[0m\u001b[32m快\u001b[0m\u001b[32m乐\u001b[0m\u001b[32m。\u001b[0m\n",
      "\n"
     ]
    },
    {
     "data": {
      "text/plain": [
       "[{'role': 'user', 'content': '你能帮我写一首关于兔子做梦的四句儿歌?'},\n",
       " {'role': 'assistant',\n",
       "  'content': '兔子睡觉做美梦，\\n梦中有万花齐放的园，\\n小兔在花海里蹦跳，\\n快乐的梦境永不停。'}]"
      ]
     },
     "execution_count": 2,
     "metadata": {},
     "output_type": "execute_result"
    }
   ],
   "source": [
    "# 在调用时指定模型名称\n",
    "await ChatOpenAI()(\n",
    "    \"你能帮我写一首关于兔子做梦的四句儿歌?\",\n",
    "    handler=alog,\n",
    "    model=\"gpt-3.5-turbo\",\n",
    "    temperature=0.1\n",
    ")\n",
    "a.memory"
   ]
  },
  {
   "cell_type": "markdown",
   "id": "577d4020-491f-49ed-af56-1ae3a8de157a",
   "metadata": {},
   "source": [
    "**在调用时指定工具，返回应当调用的工具信息**"
   ]
  },
  {
   "cell_type": "markdown",
   "id": "1464e250-8321-4983-b800-2b4c2c3b4a22",
   "metadata": {},
   "source": [
    "### 工具回调"
   ]
  },
  {
   "cell_type": "code",
   "execution_count": 2,
   "id": "e202e7d1-6812-49a1-b8b9-7b3cce8480c1",
   "metadata": {},
   "outputs": [
    {
     "name": "stdout",
     "output_type": "stream",
     "text": [
      "  0s [TOOLS_CALL_CHUNK] \u001b[32m{\"index\": 0, \"id\": \"call_2JXfIwLbkm7vZIjGIzn50djj\", \"type\": \"function\", \"function\": {\"name\": \"get_current_weather\", \"arguments\": \"\"}}\u001b[0m\n",
      "  0s [TOOLS_CALL_CHUNK] \u001b[32m{\"index\": 0, \"id\": \"\", \"type\": \"function\", \"function\": {\"name\": \"\", \"arguments\": \"{\\n\"}}\u001b[0m\n",
      "  0s [TOOLS_CALL_CHUNK] \u001b[32m{\"index\": 0, \"id\": \"\", \"type\": \"function\", \"function\": {\"name\": \"\", \"arguments\": \"\\\"\"}}\u001b[0m\n",
      "  0s [TOOLS_CALL_CHUNK] \u001b[32m{\"index\": 0, \"id\": \"\", \"type\": \"function\", \"function\": {\"name\": \"\", \"arguments\": \"location\"}}\u001b[0m\n",
      "  0s [TOOLS_CALL_CHUNK] \u001b[32m{\"index\": 0, \"id\": \"\", \"type\": \"function\", \"function\": {\"name\": \"\", \"arguments\": \"\\\":\"}}\u001b[0m\n",
      "  0s [TOOLS_CALL_CHUNK] \u001b[32m{\"index\": 0, \"id\": \"\", \"type\": \"function\", \"function\": {\"name\": \"\", \"arguments\": \" \\\"\"}}\u001b[0m\n",
      "  0s [TOOLS_CALL_CHUNK] \u001b[32m{\"index\": 0, \"id\": \"\", \"type\": \"function\", \"function\": {\"name\": \"\", \"arguments\": \"广\"}}\u001b[0m\n",
      "  0s [TOOLS_CALL_CHUNK] \u001b[32m{\"index\": 0, \"id\": \"\", \"type\": \"function\", \"function\": {\"name\": \"\", \"arguments\": \"州\"}}\u001b[0m\n",
      "  0s [TOOLS_CALL_CHUNK] \u001b[32m{\"index\": 0, \"id\": \"\", \"type\": \"function\", \"function\": {\"name\": \"\", \"arguments\": \"\\\"\\n\"}}\u001b[0m\n",
      "  1s [TOOLS_CALL_CHUNK] \u001b[32m{\"index\": 0, \"id\": \"\", \"type\": \"function\", \"function\": {\"name\": \"\", \"arguments\": \"}\"}}\u001b[0m\n",
      "  1s [TOOLS_CALL_FINAL] \u001b[36m{\"0\": {\"index\": 0, \"id\": \"call_2JXfIwLbkm7vZIjGIzn50djj\", \"type\": \"function\", \"function\": {\"name\": \"get_current_weather\", \"arguments\": \"{\\n\\\"location\\\": \\\"广州\\\"\\n}\"}}}\u001b[0m\n",
      "\u001b[32m广州今天是晴天。 \u001b[0m\n",
      "\n",
      "  1s [TOOL_RESP_FINAL] \u001b[36m广州今天是晴天。 \u001b[0m\n",
      "\u001b[32m今天\u001b[0m\u001b[32m广州\u001b[0m\u001b[32m是\u001b[0m\u001b[32m晴\u001b[0m\u001b[32m天\u001b[0m\u001b[32m，\u001b[0m\u001b[32m出\u001b[0m\u001b[32m门\u001b[0m\u001b[32m时\u001b[0m\u001b[32m可以\u001b[0m\u001b[32m准备\u001b[0m\u001b[32m以下\u001b[0m\u001b[32m物\u001b[0m\u001b[32m品\u001b[0m\u001b[32m：\n",
      "\n",
      "\u001b[0m\u001b[32m1\u001b[0m\u001b[32m.\u001b[0m\u001b[32m \u001b[0m\u001b[32m太阳\u001b[0m\u001b[32m镜\u001b[0m\u001b[32m：\u001b[0m\u001b[32m防\u001b[0m\u001b[32m止\u001b[0m\u001b[32m阳\u001b[0m\u001b[32m光\u001b[0m\u001b[32m刺\u001b[0m\u001b[32m眼\u001b[0m\u001b[32m。\n",
      "\u001b[0m\u001b[32m2\u001b[0m\u001b[32m.\u001b[0m\u001b[32m 防\u001b[0m\u001b[32m晒\u001b[0m\u001b[32m霜\u001b[0m\u001b[32m：\u001b[0m\u001b[32m保护\u001b[0m\u001b[32m皮\u001b[0m\u001b[32m肤\u001b[0m\u001b[32m。\n",
      "\u001b[0m\u001b[32m3\u001b[0m\u001b[32m.\u001b[0m\u001b[32m 帽\u001b[0m\u001b[32m子\u001b[0m\u001b[32m：\u001b[0m\u001b[32m遮\u001b[0m\u001b[32m阳\u001b[0m\u001b[32m。\n",
      "\u001b[0m\u001b[32m4\u001b[0m\u001b[32m.\u001b[0m\u001b[32m 清\u001b[0m\u001b[32m凉\u001b[0m\u001b[32m舒\u001b[0m\u001b[32m适\u001b[0m\u001b[32m的\u001b[0m\u001b[32m衣\u001b[0m\u001b[32m物\u001b[0m\u001b[32m：\u001b[0m\u001b[32m适\u001b[0m\u001b[32m合\u001b[0m\u001b[32m温\u001b[0m\u001b[32m暖\u001b[0m\u001b[32m的\u001b[0m\u001b[32m天气\u001b[0m\u001b[32m。\n",
      "\u001b[0m\u001b[32m5\u001b[0m\u001b[32m.\u001b[0m\u001b[32m 水\u001b[0m\u001b[32m：\u001b[0m\u001b[32m保持\u001b[0m\u001b[32m水\u001b[0m\u001b[32m分\u001b[0m\u001b[32m。\n",
      "\n",
      "\u001b[0m\u001b[32m希望\u001b[0m\u001b[32m你\u001b[0m\u001b[32m今天\u001b[0m\u001b[32m有\u001b[0m\u001b[32m个\u001b[0m\u001b[32m愉\u001b[0m\u001b[32m快\u001b[0m\u001b[32m的\u001b[0m\u001b[32m出\u001b[0m\u001b[32m门\u001b[0m\u001b[32m！\u001b[0m\n",
      "\n"
     ]
    },
    {
     "data": {
      "text/plain": [
       "[{'role': 'user', 'content': '今天广州出门要准备什么'},\n",
       " {'role': 'assistant',\n",
       "  'content': '',\n",
       "  'tool_calls': [{'index': 0,\n",
       "    'id': 'call_2JXfIwLbkm7vZIjGIzn50djj',\n",
       "    'type': 'function',\n",
       "    'function': {'name': 'get_current_weather',\n",
       "     'arguments': '{\\n\"location\": \"广州\"\\n}'}}]},\n",
       " {'tool_call_id': 'call_2JXfIwLbkm7vZIjGIzn50djj',\n",
       "  'role': 'tool',\n",
       "  'name': 'get_current_weather',\n",
       "  'content': '广州今天是晴天。 '},\n",
       " {'role': 'assistant',\n",
       "  'content': '今天广州是晴天，出门时可以准备以下物品：\\n\\n1. 太阳镜：防止阳光刺眼。\\n2. 防晒霜：保护皮肤。\\n3. 帽子：遮阳。\\n4. 清凉舒适的衣物：适合温暖的天气。\\n5. 水：保持水分。\\n\\n希望你今天有个愉快的出门！'}]"
      ]
     },
     "execution_count": 2,
     "metadata": {},
     "output_type": "execute_result"
    }
   ],
   "source": [
    "from illufly.chat import ChatOpenAI\n",
    "from illufly.types import ToolAgent\n",
    "\n",
    "def get_current_weather(location: str):\n",
    "    \"\"\"获取城市的天气情况\"\"\"\n",
    "    yield f\"{location}今天是晴天。 \"\n",
    "    \n",
    "a = ChatOpenAI(tools=[ToolAgent(get_current_weather)], exec_tool=True)\n",
    "a(\"今天广州出门要准备什么\", new_chat=True, verbose=True)\n",
    "a.memory"
   ]
  },
  {
   "cell_type": "code",
   "execution_count": 2,
   "id": "da1c3d70-917d-41aa-8490-0237f55c57ca",
   "metadata": {},
   "outputs": [
    {
     "name": "stdout",
     "output_type": "stream",
     "text": [
      "  1s [TOOLS_CALL_CHUNK] \u001b[32m{\"index\": 0, \"id\": \"call_QTx6SGK9MSssDXd9DaKrVHt9\", \"type\": \"function\", \"function\": {\"name\": \"get_current_weather\", \"arguments\": \"\"}}\u001b[0m\n",
      "  1s [TOOLS_CALL_CHUNK] \u001b[32m{\"index\": 0, \"id\": \"\", \"type\": \"function\", \"function\": {\"name\": \"\", \"arguments\": \"{\\\"lo\"}}\u001b[0m\n",
      "  1s [TOOLS_CALL_CHUNK] \u001b[32m{\"index\": 0, \"id\": \"\", \"type\": \"function\", \"function\": {\"name\": \"\", \"arguments\": \"catio\"}}\u001b[0m\n",
      "  1s [TOOLS_CALL_CHUNK] \u001b[32m{\"index\": 0, \"id\": \"\", \"type\": \"function\", \"function\": {\"name\": \"\", \"arguments\": \"n\\\": \\\"广\"}}\u001b[0m\n",
      "  1s [TOOLS_CALL_CHUNK] \u001b[32m{\"index\": 0, \"id\": \"\", \"type\": \"function\", \"function\": {\"name\": \"\", \"arguments\": \"州\\\"}\"}}\u001b[0m\n",
      "  1s [TOOLS_CALL_CHUNK] \u001b[32m{\"index\": 1, \"id\": \"call_RxBPXPQYk7h8n1IX1H32Vcok\", \"type\": \"function\", \"function\": {\"name\": \"get_prices\", \"arguments\": \"\"}}\u001b[0m\n",
      "  1s [TOOLS_CALL_CHUNK] \u001b[32m{\"index\": 1, \"id\": \"\", \"type\": \"function\", \"function\": {\"name\": \"\", \"arguments\": \"{\\\"ho\"}}\u001b[0m\n",
      "  1s [TOOLS_CALL_CHUNK] \u001b[32m{\"index\": 1, \"id\": \"\", \"type\": \"function\", \"function\": {\"name\": \"\", \"arguments\": \"urs\\\":\"}}\u001b[0m\n",
      "  1s [TOOLS_CALL_CHUNK] \u001b[32m{\"index\": 1, \"id\": \"\", \"type\": \"function\", \"function\": {\"name\": \"\", \"arguments\": \" \\\"2\\\"}\"}}\u001b[0m\n",
      "  1s [TOOLS_CALL_FINAL] \u001b[36m[{\"index\": 0, \"id\": \"call_QTx6SGK9MSssDXd9DaKrVHt9\", \"type\": \"function\", \"function\": {\"name\": \"get_current_weather\", \"arguments\": \"{\\\"location\\\": \\\"广州\\\"}\"}}, {\"index\": 1, \"id\": \"call_RxBPXPQYk7h8n1IX1H32Vcok\", \"type\": \"function\", \"function\": {\"name\": \"get_prices\", \"arguments\": \"{\\\"hours\\\": \\\"2\\\"}\"}}]\u001b[0m\n",
      "\u001b[32m广州今天是晴天， 25摄氏度。 \u001b[0m\n",
      "\n",
      "  1s [TOOL_RESP_FINAL] \u001b[36m广州今天是晴天， 25摄氏度。 \u001b[0m\n",
      "\u001b[32m球场每小时25元，你要定2小时，所以是50元。\u001b[0m\n",
      "\n",
      "  1s [TOOL_RESP_FINAL] \u001b[36m球场每小时25元，你要定2小时，所以是50元。\u001b[0m\n",
      "\u001b[32m广\u001b[0m\u001b[32m州\u001b[0m\u001b[32m今\u001b[0m\u001b[32m天\u001b[0m\u001b[32m天\u001b[0m\u001b[32m气\u001b[0m\u001b[32m晴\u001b[0m\u001b[32m朗\u001b[0m\u001b[32m，\u001b[0m\u001b[32m气\u001b[0m\u001b[32m温\u001b[0m\u001b[32m25\u001b[0m\u001b[32m摄\u001b[0m\u001b[32m氏\u001b[0m\u001b[32m度\u001b[0m\u001b[32m。\u001b[0m\u001b[32m如果\u001b[0m\u001b[32m你\u001b[0m\u001b[32m要\u001b[0m\u001b[32m订\u001b[0m\u001b[32m2\u001b[0m\u001b[32m小时\u001b[0m\u001b[32m的\u001b[0m\u001b[32m羽\u001b[0m\u001b[32m毛\u001b[0m\u001b[32m球\u001b[0m\u001b[32m球\u001b[0m\u001b[32m场\u001b[0m\u001b[32m，\u001b[0m\u001b[32m价格\u001b[0m\u001b[32m是\u001b[0m\u001b[32m50\u001b[0m\u001b[32m元\u001b[0m\u001b[32m。\u001b[0m\n",
      "\n"
     ]
    },
    {
     "data": {
      "text/plain": [
       "[{'role': 'user', 'content': '帮我看看广州天气，顺便看看订2小时的羽毛球球场多少钱'},\n",
       " {'role': 'assistant',\n",
       "  'content': '',\n",
       "  'tool_calls': [{'index': 0,\n",
       "    'id': 'call_QTx6SGK9MSssDXd9DaKrVHt9',\n",
       "    'type': 'function',\n",
       "    'function': {'name': 'get_current_weather',\n",
       "     'arguments': '{\"location\": \"广州\"}'}}]},\n",
       " {'tool_call_id': 'call_QTx6SGK9MSssDXd9DaKrVHt9',\n",
       "  'role': 'tool',\n",
       "  'name': 'get_current_weather',\n",
       "  'content': '广州今天是晴天， 25摄氏度。 '},\n",
       " {'role': 'assistant',\n",
       "  'content': '',\n",
       "  'tool_calls': [{'index': 1,\n",
       "    'id': 'call_RxBPXPQYk7h8n1IX1H32Vcok',\n",
       "    'type': 'function',\n",
       "    'function': {'name': 'get_prices', 'arguments': '{\"hours\": \"2\"}'}}]},\n",
       " {'tool_call_id': 'call_RxBPXPQYk7h8n1IX1H32Vcok',\n",
       "  'role': 'tool',\n",
       "  'name': 'get_prices',\n",
       "  'content': '球场每小时25元，你要定2小时，所以是50元。'},\n",
       " {'role': 'assistant', 'content': '广州今天天气晴朗，气温25摄氏度。如果你要订2小时的羽毛球球场，价格是50元。'}]"
      ]
     },
     "execution_count": 2,
     "metadata": {},
     "output_type": "execute_result"
    }
   ],
   "source": [
    "from illufly.chat import ChatOpenAI\n",
    "from illufly.types import ToolAgent\n",
    "\n",
    "def get_current_weather(location: str):\n",
    "    \"\"\"获取城市的天气情况\"\"\"\n",
    "    yield f\"{location}今天是晴天， 25摄氏度。 \"\n",
    "\n",
    "def get_prices(hours: int=1):\n",
    "    \"\"\"预测订羽毛球球场的价格，hours是预订球场的小时数，因为球场价格是按照小时计算的\"\"\"\n",
    "    yield f\"球场每小时25元，你要定{hours}小时，所以是{hours*25}元。\"\n",
    "\n",
    "a = ChatOpenAI()\n",
    "toolkits = [ToolAgent(t) for t in [get_current_weather, get_prices]]\n",
    "a(\"帮我看看广州天气，顺便看看订2小时的羽毛球球场多少钱\", tools=toolkits, new_chat=True, verbose=True)\n",
    "a.memory"
   ]
  },
  {
   "cell_type": "markdown",
   "id": "4b9d80d9-b2f7-4f3d-856b-f2280b534484",
   "metadata": {},
   "source": [
    "## Fake"
   ]
  },
  {
   "cell_type": "markdown",
   "id": "32fc77aa-8e40-4d1d-b124-37c517d8fdf6",
   "metadata": {},
   "source": [
    "### fake_llm: 模拟大模型调用过程\n",
    "\n",
    "这可以观察提示语等内部结构。"
   ]
  },
  {
   "cell_type": "code",
   "execution_count": 1,
   "id": "433e3074-d1ed-4912-919a-5c4b55fb7b28",
   "metadata": {},
   "outputs": [
    {
     "name": "stdout",
     "output_type": "stream",
     "text": [
      "\u001b[32m这\u001b[0m\u001b[32m是\u001b[0m\u001b[32m一个\u001b[0m\u001b[32m模拟\u001b[0m\u001b[32m调用\u001b[0m\u001b[32m!\u001b[0m\n",
      "\n"
     ]
    },
    {
     "data": {
      "text/plain": [
       "'这是一个模拟调用!'"
      ]
     },
     "execution_count": 1,
     "metadata": {},
     "output_type": "execute_result"
    }
   ],
   "source": [
    "from illufly.chat import FakeLLM\n",
    "from illufly.io import log\n",
    "\n",
    "log(\n",
    "    FakeLLM(),\n",
    "    [\n",
    "        {\"role\": \"system\", \"content\": \"你是一个写作能手。\"},\n",
    "        {\"role\": \"user\", \"content\": \"你能帮我写一首关于兔子做梦的四句儿歌?\"}\n",
    "    ],\n",
    "    model=\"qwen2-1.5b-instruct\"\n",
    ")"
   ]
  },
  {
   "cell_type": "code",
   "execution_count": 2,
   "id": "699bd017-f5f2-48eb-82ff-4c47dfdc595f",
   "metadata": {},
   "outputs": [
    {
     "data": {
      "text/plain": [
       "{'FAKE_LLM': {'max_workers': 5, 'used_workers': 0, 'waiting_threads': 0}}"
      ]
     },
     "execution_count": 2,
     "metadata": {},
     "output_type": "execute_result"
    }
   ],
   "source": [
    "FakeLLM.monitor_executors()"
   ]
  },
  {
   "cell_type": "code",
   "execution_count": null,
   "id": "1208f91f-d8aa-4779-aa23-2f3ee1991ab1",
   "metadata": {},
   "outputs": [],
   "source": []
  }
 ],
 "metadata": {
  "kernelspec": {
   "display_name": "Python 3 (ipykernel)",
   "language": "python",
   "name": "python3"
  },
  "language_info": {
   "codemirror_mode": {
    "name": "ipython",
    "version": 3
   },
   "file_extension": ".py",
   "mimetype": "text/x-python",
   "name": "python",
   "nbconvert_exporter": "python",
   "pygments_lexer": "ipython3",
   "version": "3.10.0"
  }
 },
 "nbformat": 4,
 "nbformat_minor": 5
}
