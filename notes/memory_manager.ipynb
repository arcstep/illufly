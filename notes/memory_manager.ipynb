{
 "cells": [
  {
   "cell_type": "code",
   "execution_count": 1,
   "metadata": {},
   "outputs": [],
   "source": [
    "from dotenv import load_dotenv, find_dotenv\n",
    "load_dotenv(find_dotenv(), override=True)\n",
    "import os\n",
    "os.chdir('..')"
   ]
  },
  {
   "cell_type": "markdown",
   "metadata": {},
   "source": [
    "# 内存保存历史 + 窗口记忆"
   ]
  },
  {
   "cell_type": "code",
   "execution_count": 2,
   "metadata": {},
   "outputs": [],
   "source": [
    "from langchain_core.prompts import ChatPromptTemplate, MessagesPlaceholder\n",
    "from langchain_openai.chat_models import ChatOpenAI\n",
    "from langchain_core.output_parsers import StrOutputParser\n",
    "\n",
    "model = ChatOpenAI()\n",
    "prompt = ChatPromptTemplate.from_messages(\n",
    "    [\n",
    "        (\"system\", \"你是一个数学老师。\"),\n",
    "        MessagesPlaceholder(variable_name=\"history\"),\n",
    "        (\"human\", \"{input}\"),\n",
    "    ]\n",
    ")\n",
    "chain = prompt | model | StrOutputParser()"
   ]
  },
  {
   "cell_type": "code",
   "execution_count": 3,
   "metadata": {},
   "outputs": [],
   "source": [
    "from langchain_chinese import MemoryManager\n",
    "from langchain_community.chat_message_histories import ChatMessageHistory\n",
    "from langchain.memory import ConversationBufferMemory, ConversationBufferWindowMemory\n",
    "\n",
    "window = ConversationBufferWindowMemory(\n",
    "  return_messages=True, k=2, chat_memory = ChatMessageHistory()\n",
    ")\n",
    "\n",
    "memory = MemoryManager(shorterm_memory = window)"
   ]
  },
  {
   "cell_type": "code",
   "execution_count": 4,
   "metadata": {},
   "outputs": [],
   "source": [
    "from langchain_chinese import WithMemoryBinding\n",
    "\n",
    "withMemoryChain = WithMemoryBinding(\n",
    "  chain,\n",
    "  memory,\n",
    "  input_messages_key=\"input\",\n",
    "  history_messages_key=\"history\",\n",
    ")"
   ]
  },
  {
   "cell_type": "code",
   "execution_count": 5,
   "metadata": {},
   "outputs": [
    {
     "data": {
      "text/plain": [
       "'三角函数是指在直角三角形中，角的大小关系到三角形的边长比例的函数。常见的三角函数包括正弦函数、余弦函数、正切函数、余切函数、正割函数和余割函数等。这些函数在数学和物理中有着广泛的应用，可以描述角度和三角形之间的关系。'"
      ]
     },
     "execution_count": 5,
     "metadata": {},
     "output_type": "execute_result"
    }
   ],
   "source": [
    "withMemoryChain.invoke(\n",
    "  {\"input\": \"三角函数什么意思？?\"},\n",
    "  config={\"configurable\": {\"session_id\": \"abc123\"}},\n",
    ")"
   ]
  },
  {
   "cell_type": "code",
   "execution_count": 8,
   "metadata": {},
   "outputs": [
    {
     "data": {
      "text/plain": [
       "'在一个直角三角形中，正弦是一个角的对边长度与斜边长度的比值。正弦函数通常用sin表示，对于一个角θ而言，其正弦值可以表示为：sin(θ) = 对边 / 斜边。正弦函数在三角学和数学中有着重要的应用，可以帮助我们计算角度和边长之间的关系。'"
      ]
     },
     "execution_count": 8,
     "metadata": {},
     "output_type": "execute_result"
    }
   ],
   "source": [
    "withMemoryChain.invoke(\n",
    "  {\"input\": \"正弦是什么?\"},\n",
    "  config={\"configurable\": {\"session_id\": \"abc123\"}},\n",
    ")"
   ]
  },
  {
   "cell_type": "code",
   "execution_count": 9,
   "metadata": {},
   "outputs": [
    {
     "data": {
      "text/plain": [
       "'正弦函数通常不是小学阶段的数学内容，因为它涉及到三角函数和三角学的概念，通常在初中或高中阶段学习。小学阶段的数学教育主要集中在基本的数学运算、几何图形、分数、小数等方面，正弦函数等高级数学概念一般在更高年级的学习中才会接触到。'"
      ]
     },
     "execution_count": 9,
     "metadata": {},
     "output_type": "execute_result"
    }
   ],
   "source": [
    "withMemoryChain.invoke(\n",
    "  {\"input\": \"小学会学到吗?\"},\n",
    "  config={\"configurable\": {\"session_id\": \"abc123\"}},\n",
    ")"
   ]
  },
  {
   "cell_type": "code",
   "execution_count": 11,
   "metadata": {},
   "outputs": [
    {
     "data": {
      "text/plain": [
       "[HumanMessage(content='正弦是什么?'),\n",
       " AIMessage(content='在一个直角三角形中，正弦是一个角的对边长度与斜边长度的比值。正弦函数通常用sin表示，对于一个角θ而言，其正弦值可以表示为：sin(θ) = 对边 / 斜边。正弦函数在三角学和数学中有着重要的应用，可以帮助我们计算角度和边长之间的关系。'),\n",
       " HumanMessage(content='小学会学到吗?'),\n",
       " AIMessage(content='正弦函数通常不是小学阶段的数学内容，因为它涉及到三角函数和三角学的概念，通常在初中或高中阶段学习。小学阶段的数学教育主要集中在基本的数学运算、几何图形、分数、小数等方面，正弦函数等高级数学概念一般在更高年级的学习中才会接触到。')]"
      ]
     },
     "execution_count": 11,
     "metadata": {},
     "output_type": "execute_result"
    }
   ],
   "source": [
    "memory.get_shorterm_memory(\"abc123\").buffer_as_messages"
   ]
  },
  {
   "cell_type": "code",
   "execution_count": 12,
   "metadata": {},
   "outputs": [
    {
     "data": {
      "text/plain": [
       "[HumanMessage(content='三角函数什么意思？?'),\n",
       " AIMessage(content='三角函数是指在直角三角形中，角的大小关系到三角形的边长比例的函数。常见的三角函数包括正弦函数、余弦函数、正切函数、余切函数、正割函数和余割函数等。这些函数在数学和物理中有着广泛的应用，可以描述角度和三角形之间的关系。'),\n",
       " HumanMessage(content='正弦是什么?'),\n",
       " AIMessage(content='在一个直角三角形中，正弦是一个角的对边长度与斜边长度的比值。正弦函数通常用sin表示，对于一个角θ而言，其正弦值可以表示为：sin(θ) = 对边 / 斜边。正弦函数在三角学和数学中有着重要的应用，可以帮助我们计算角度和边长之间的关系。'),\n",
       " HumanMessage(content='小学会学到吗?'),\n",
       " AIMessage(content='正弦函数通常不是小学阶段的数学内容，因为它涉及到三角函数和三角学的概念，通常在初中或高中阶段学习。小学阶段的数学教育主要集中在基本的数学运算、几何图形、分数、小数等方面，正弦函数等高级数学概念一般在更高年级的学习中才会接触到。')]"
      ]
     },
     "execution_count": 12,
     "metadata": {},
     "output_type": "execute_result"
    }
   ],
   "source": [
    "memory.get_shorterm_memory(\"abc123\").chat_memory.messages"
   ]
  },
  {
   "cell_type": "code",
   "execution_count": 27,
   "metadata": {},
   "outputs": [
    {
     "name": "stdout",
     "output_type": "stream",
     "text": [
      "|小|学|阶|段|的|数|学|教|育|主|要|围|绕|建|立|学|生|的|数|学|基|础|，|培|养|其|数|学|思|维|和|解|决|问题|的|能|力|。|一|般|来|说|，|小|学|数|学|的|学|习|内容|包|括|但|不|限|于|以下|几|个|方|面|：\n",
      "\n",
      "|1|.| 数|的|认|识|和|运|算|：|包|括|整|数|、|分|数|、|小|数|等|的|认|识|与|四|则|运|算|。\n",
      "|2|.| 几|何|图|形|：|学|习|认|识|各|种|几|何|图|形|，|如|直|线|、|角|、|三|角|形|、|四|边|形|等|，并|学|习|测|量|、|比|较|和|计|算|这|些|几|何|图|形|的|性|质|。\n",
      "|3|.| 时间|和|日|历|：|学|习|认|识|时间|的|概|念|、|钟|表|读|数|、|日期|的|表|达|等|。\n",
      "|4|.| 数据|与|统|计|：|学|习|收|集|数据|、|整|理|数据|、|制|作|简|单|图|表|、|进行|数据|分|析|等|。\n",
      "|5|.| |逻|辑|推|理|：|学|习|简|单|的|逻|辑|推|理|和|解|决|问题|的|方法|。\n",
      "|6|.| 口|算|和|应|用|题|：|通过|日|常|生|活|中|的|实|际|问题|，|培|养|学|生|的|数|学|思|维|和|解|决|问题|的|能|力|。\n",
      "\n",
      "|小|学|数|学|教|育|的|目|标|是|帮|助|学|生|建|立|扎|实|的|数|学|基|础|，|打|下|良|好|的|数|学|基|础|，|为|进|一|步|学|习|更|高|级|的|数|学|知|识|打|下|基|础|。||"
     ]
    }
   ],
   "source": [
    "for chunk in withMemoryChain.stream(\n",
    "  {\"input\": \"那小学数学学什么?\"},\n",
    "  config={\"configurable\": {\"session_id\": \"abc123\"}},\n",
    "):\n",
    "  print(chunk, end=\"|\", flush=True)"
   ]
  },
  {
   "cell_type": "markdown",
   "metadata": {},
   "source": [
    "# redis持久化"
   ]
  },
  {
   "cell_type": "markdown",
   "metadata": {},
   "source": [
    "```shell\n",
    "pip install -U langchain-community redis\n",
    "```"
   ]
  },
  {
   "cell_type": "markdown",
   "metadata": {},
   "source": [
    "创建窗口管理器时要指定redis的工厂函数，其他与上面的例子相同。"
   ]
  },
  {
   "cell_type": "code",
   "execution_count": null,
   "metadata": {},
   "outputs": [],
   "source": [
    "from langchain_chinese import MemoryManager\n",
    "from langchain_community.chat_message_histories import ChatMessageHistory\n",
    "from langchain.memory import ConversationBufferMemory, ConversationBufferWindowMemory\n",
    "from langchain_community.chat_message_histories import RedisChatMessageHistory\n",
    "\n",
    "window = ConversationBufferWindowMemory(\n",
    "    return_messages=True, k=2, chat_memory = ChatMessageHistory()\n",
    ")\n",
    "\n",
    "memory = MemoryManager(\n",
    "    lambda session_id: RedisChatMessageHistory(\n",
    "        session_id, url=\"redis://localhost:6379\"\n",
    "    ),\n",
    "    shorterm_memory = window\n",
    ")"
   ]
  }
 ],
 "metadata": {
  "kernelspec": {
   "display_name": "langchain-chinese-py3.9-ipkyernel",
   "language": "python",
   "name": "langchain-chinese-py3.9-ipkyernel"
  },
  "language_info": {
   "codemirror_mode": {
    "name": "ipython",
    "version": 3
   },
   "file_extension": ".py",
   "mimetype": "text/x-python",
   "name": "python",
   "nbconvert_exporter": "python",
   "pygments_lexer": "ipython3",
   "version": "3.9.18"
  }
 },
 "nbformat": 4,
 "nbformat_minor": 2
}
