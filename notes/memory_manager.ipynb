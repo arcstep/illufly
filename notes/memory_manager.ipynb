{
 "cells": [
  {
   "cell_type": "code",
   "execution_count": 1,
   "metadata": {},
   "outputs": [],
   "source": [
    "from dotenv import load_dotenv, find_dotenv\n",
    "load_dotenv(find_dotenv(), override=True)\n",
    "import os\n",
    "os.chdir('..')"
   ]
  },
  {
   "cell_type": "markdown",
   "metadata": {},
   "source": [
    "# 内存保存历史 + 窗口记忆"
   ]
  },
  {
   "cell_type": "code",
   "execution_count": 2,
   "metadata": {},
   "outputs": [],
   "source": [
    "from langchain_core.prompts import ChatPromptTemplate, MessagesPlaceholder\n",
    "from langchain_openai.chat_models import ChatOpenAI\n",
    "from langchain_core.output_parsers import StrOutputParser\n",
    "\n",
    "model = ChatOpenAI()\n",
    "prompt = ChatPromptTemplate.from_messages(\n",
    "    [\n",
    "        (\"system\", \"你是一个数学老师。\"),\n",
    "        MessagesPlaceholder(variable_name=\"history\"),\n",
    "        (\"human\", \"{input}\"),\n",
    "    ]\n",
    ")\n",
    "chain = prompt | model | StrOutputParser()"
   ]
  },
  {
   "cell_type": "markdown",
   "metadata": {},
   "source": [
    "定义记忆管理器："
   ]
  },
  {
   "cell_type": "code",
   "execution_count": 3,
   "metadata": {},
   "outputs": [],
   "source": [
    "from langchain_chinese import MemoryManager\n",
    "from langchain_community.chat_message_histories import ChatMessageHistory\n",
    "from langchain.memory import ConversationBufferMemory, ConversationBufferWindowMemory\n",
    "\n",
    "window = ConversationBufferWindowMemory(\n",
    "  return_messages=True, k=2, chat_memory = ChatMessageHistory()\n",
    ")\n",
    "\n",
    "memory = MemoryManager(shorterm_memory = window)"
   ]
  },
  {
   "cell_type": "code",
   "execution_count": 4,
   "metadata": {},
   "outputs": [],
   "source": [
    "from langchain_chinese import WithMemoryBinding\n",
    "\n",
    "withMemoryChain = WithMemoryBinding(\n",
    "  chain,\n",
    "  memory,\n",
    "  input_messages_key=\"input\",\n",
    "  history_messages_key=\"history\",\n",
    ")"
   ]
  },
  {
   "cell_type": "code",
   "execution_count": 5,
   "metadata": {},
   "outputs": [
    {
     "data": {
      "text/plain": [
       "'三角函数是指正弦、余弦、正切、余切、正割和余割这六个与直角三角形内角相关的函数。这些函数是数学中重要的概念，用于描述角度和三角形之间的关系。在数学中，三角函数在几何学、物理学、工程学等领域都有重要的应用。常见的三角函数有：\\n\\n- 正弦函数（sin）：描述直角三角形中一个锐角的对边与斜边的比值。\\n- 余弦函数（cos）：描述直角三角形中一个锐角的邻边与斜边的比值。\\n- 正切函数（tan）：描述正弦和余弦的比值，也就是对边与邻边的比值。\\n- 余切函数（cot）：描述正切的倒数，即邻边与对边的比值。\\n- 正割函数（sec）：描述余弦的倒数，即斜边与邻边的比值。\\n- 余割函数（csc）：描述正弦的倒数，即斜边与对边的比值。\\n\\n这些函数在三角学的应用中非常常见，对于解决与角度和三角形相关的问题具有重要作用。'"
      ]
     },
     "execution_count": 5,
     "metadata": {},
     "output_type": "execute_result"
    }
   ],
   "source": [
    "withMemoryChain.invoke(\n",
    "  {\"input\": \"三角函数什么意思？?\"},\n",
    "  config={\"configurable\": {\"session_id\": \"abc123\"}},\n",
    ")"
   ]
  },
  {
   "cell_type": "code",
   "execution_count": 6,
   "metadata": {},
   "outputs": [
    {
     "data": {
      "text/plain": [
       "'“三角函数”之所以称为“三角”函数，是因为它们最初是用来描述三角形内角和边长之间的关系的。在欧几里德几何中，三角形是最基本的几何形状之一，由三条边和三个内角组成。\\n\\n在直角三角形中，我们可以通过三角函数（正弦、余弦、正切等）来描述角度和边长之间的关系。这些函数是基于三角形内角的定义，因此被称为“三角函数”。\\n\\n虽然“三角函数”这个名称中包含“三角”，但实际上这些函数并不仅限于三角形的应用。它们在数学中的应用非常广泛，可以描述圆的弧度、周期性波动等各种现象，不仅仅局限于三角形。因此，“三角函数”这个名称更多是源自最初应用于三角形的背景，而非仅仅限制于三角形的概念。'"
      ]
     },
     "execution_count": 6,
     "metadata": {},
     "output_type": "execute_result"
    }
   ],
   "source": [
    "withMemoryChain.invoke(\n",
    "  {\"input\": \"为什么叫三角而不是四角?\"},\n",
    "  config={\"configurable\": {\"session_id\": \"abc123\"}},\n",
    ")"
   ]
  },
  {
   "cell_type": "code",
   "execution_count": 7,
   "metadata": {},
   "outputs": [
    {
     "data": {
      "text/plain": [
       "'一般来说，小学阶段的数学课程并不会涉及到三角函数这一较为高级的概念。小学阶段主要侧重于基本的数学概念和技能，如加减乘除、分数、几何图形等。\\n\\n三角函数通常是在中学阶段的数学课程中开始学习的，通常是在初中或高中的数学课程中出现。学生在学习三角函数之前，通常需要掌握一定的代数知识和几何知识，以便更好地理解和运用三角函数的概念。\\n\\n因此，三角函数通常不是小学阶段的数学课程内容，而是在更高年级的数学学习中逐渐引入和深入学习的内容。'"
      ]
     },
     "execution_count": 7,
     "metadata": {},
     "output_type": "execute_result"
    }
   ],
   "source": [
    "withMemoryChain.invoke(\n",
    "  {\"input\": \"小学会学到吗?\"},\n",
    "  config={\"configurable\": {\"session_id\": \"abc123\"}},\n",
    ")"
   ]
  },
  {
   "cell_type": "code",
   "execution_count": 8,
   "metadata": {},
   "outputs": [
    {
     "data": {
      "text/plain": [
       "[HumanMessage(content='为什么叫三角而不是四角?'),\n",
       " AIMessage(content='“三角函数”之所以称为“三角”函数，是因为它们最初是用来描述三角形内角和边长之间的关系的。在欧几里德几何中，三角形是最基本的几何形状之一，由三条边和三个内角组成。\\n\\n在直角三角形中，我们可以通过三角函数（正弦、余弦、正切等）来描述角度和边长之间的关系。这些函数是基于三角形内角的定义，因此被称为“三角函数”。\\n\\n虽然“三角函数”这个名称中包含“三角”，但实际上这些函数并不仅限于三角形的应用。它们在数学中的应用非常广泛，可以描述圆的弧度、周期性波动等各种现象，不仅仅局限于三角形。因此，“三角函数”这个名称更多是源自最初应用于三角形的背景，而非仅仅限制于三角形的概念。'),\n",
       " HumanMessage(content='小学会学到吗?'),\n",
       " AIMessage(content='一般来说，小学阶段的数学课程并不会涉及到三角函数这一较为高级的概念。小学阶段主要侧重于基本的数学概念和技能，如加减乘除、分数、几何图形等。\\n\\n三角函数通常是在中学阶段的数学课程中开始学习的，通常是在初中或高中的数学课程中出现。学生在学习三角函数之前，通常需要掌握一定的代数知识和几何知识，以便更好地理解和运用三角函数的概念。\\n\\n因此，三角函数通常不是小学阶段的数学课程内容，而是在更高年级的数学学习中逐渐引入和深入学习的内容。')]"
      ]
     },
     "execution_count": 8,
     "metadata": {},
     "output_type": "execute_result"
    }
   ],
   "source": [
    "memory.shorterm_messages(\"abc123\")"
   ]
  },
  {
   "cell_type": "code",
   "execution_count": 9,
   "metadata": {},
   "outputs": [
    {
     "data": {
      "text/plain": [
       "[HumanMessage(content='三角函数什么意思？?'),\n",
       " AIMessage(content='三角函数是指正弦、余弦、正切、余切、正割和余割这六个与直角三角形内角相关的函数。这些函数是数学中重要的概念，用于描述角度和三角形之间的关系。在数学中，三角函数在几何学、物理学、工程学等领域都有重要的应用。常见的三角函数有：\\n\\n- 正弦函数（sin）：描述直角三角形中一个锐角的对边与斜边的比值。\\n- 余弦函数（cos）：描述直角三角形中一个锐角的邻边与斜边的比值。\\n- 正切函数（tan）：描述正弦和余弦的比值，也就是对边与邻边的比值。\\n- 余切函数（cot）：描述正切的倒数，即邻边与对边的比值。\\n- 正割函数（sec）：描述余弦的倒数，即斜边与邻边的比值。\\n- 余割函数（csc）：描述正弦的倒数，即斜边与对边的比值。\\n\\n这些函数在三角学的应用中非常常见，对于解决与角度和三角形相关的问题具有重要作用。'),\n",
       " HumanMessage(content='为什么叫三角而不是四角?'),\n",
       " AIMessage(content='“三角函数”之所以称为“三角”函数，是因为它们最初是用来描述三角形内角和边长之间的关系的。在欧几里德几何中，三角形是最基本的几何形状之一，由三条边和三个内角组成。\\n\\n在直角三角形中，我们可以通过三角函数（正弦、余弦、正切等）来描述角度和边长之间的关系。这些函数是基于三角形内角的定义，因此被称为“三角函数”。\\n\\n虽然“三角函数”这个名称中包含“三角”，但实际上这些函数并不仅限于三角形的应用。它们在数学中的应用非常广泛，可以描述圆的弧度、周期性波动等各种现象，不仅仅局限于三角形。因此，“三角函数”这个名称更多是源自最初应用于三角形的背景，而非仅仅限制于三角形的概念。'),\n",
       " HumanMessage(content='小学会学到吗?'),\n",
       " AIMessage(content='一般来说，小学阶段的数学课程并不会涉及到三角函数这一较为高级的概念。小学阶段主要侧重于基本的数学概念和技能，如加减乘除、分数、几何图形等。\\n\\n三角函数通常是在中学阶段的数学课程中开始学习的，通常是在初中或高中的数学课程中出现。学生在学习三角函数之前，通常需要掌握一定的代数知识和几何知识，以便更好地理解和运用三角函数的概念。\\n\\n因此，三角函数通常不是小学阶段的数学课程内容，而是在更高年级的数学学习中逐渐引入和深入学习的内容。')]"
      ]
     },
     "execution_count": 9,
     "metadata": {},
     "output_type": "execute_result"
    }
   ],
   "source": [
    "memory.longterm_messages(\"abc123\")"
   ]
  },
  {
   "cell_type": "code",
   "execution_count": 10,
   "metadata": {},
   "outputs": [
    {
     "name": "stdout",
     "output_type": "stream",
     "text": [
      "|你|最|初|的|问题|是|关|于|为|什|么|称|为|“|三|角|”|函数|而|不|是|“|四|角|”|函数|的|。||"
     ]
    }
   ],
   "source": [
    "for chunk in withMemoryChain.stream(\n",
    "  {\"input\": \"我最初的问题是什么来着?\"},\n",
    "  config={\"configurable\": {\"session_id\": \"abc123\"}},\n",
    "):\n",
    "  print(chunk, end=\"|\", flush=True)"
   ]
  },
  {
   "cell_type": "markdown",
   "metadata": {},
   "source": [
    "# redis持久化"
   ]
  },
  {
   "cell_type": "markdown",
   "metadata": {},
   "source": [
    "```shell\n",
    "pip install -U langchain-community redis\n",
    "```"
   ]
  },
  {
   "cell_type": "markdown",
   "metadata": {},
   "source": [
    "创建窗口管理器时要指定redis的工厂函数，其他与上面的例子相同。"
   ]
  },
  {
   "cell_type": "code",
   "execution_count": null,
   "metadata": {},
   "outputs": [],
   "source": [
    "from langchain_chinese import MemoryManager\n",
    "from langchain_community.chat_message_histories import ChatMessageHistory\n",
    "from langchain.memory import ConversationBufferMemory, ConversationBufferWindowMemory\n",
    "from langchain_community.chat_message_histories import RedisChatMessageHistory\n",
    "\n",
    "window = ConversationBufferWindowMemory(\n",
    "    return_messages=True, k=2, chat_memory = ChatMessageHistory()\n",
    ")\n",
    "\n",
    "memory = MemoryManager(\n",
    "    lambda session_id: RedisChatMessageHistory(\n",
    "        session_id, url=\"redis://localhost:6379\"\n",
    "    ),\n",
    "    shorterm_memory = window\n",
    ")"
   ]
  }
 ],
 "metadata": {
  "kernelspec": {
   "display_name": "langchain-chinese-py3.9-ipkyernel",
   "language": "python",
   "name": "langchain-chinese-py3.9-ipkyernel"
  },
  "language_info": {
   "codemirror_mode": {
    "name": "ipython",
    "version": 3
   },
   "file_extension": ".py",
   "mimetype": "text/x-python",
   "name": "python",
   "nbconvert_exporter": "python",
   "pygments_lexer": "ipython3",
   "version": "3.9.18"
  }
 },
 "nbformat": 4,
 "nbformat_minor": 2
}
