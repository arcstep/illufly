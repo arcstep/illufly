{
 "cells": [
  {
   "cell_type": "code",
   "execution_count": 1,
   "metadata": {},
   "outputs": [],
   "source": [
    "from dotenv import load_dotenv, find_dotenv\n",
    "load_dotenv(find_dotenv(), override=True)\n",
    "import os\n",
    "os.chdir('..')"
   ]
  },
  {
   "cell_type": "markdown",
   "metadata": {},
   "source": [
    "# 内存保存历史 + 窗口记忆"
   ]
  },
  {
   "cell_type": "code",
   "execution_count": 1,
   "metadata": {},
   "outputs": [],
   "source": [
    "from langchain_core.prompts import ChatPromptTemplate, MessagesPlaceholder\n",
    "from langchain_openai.chat_models import ChatOpenAI\n",
    "from langchain_core.output_parsers import StrOutputParser\n",
    "\n",
    "model = ChatOpenAI()\n",
    "prompt = ChatPromptTemplate.from_messages(\n",
    "    [\n",
    "        (\"system\", \"你是一个数学老师。\"),\n",
    "        MessagesPlaceholder(variable_name=\"history\"),\n",
    "        (\"human\", \"{input}\"),\n",
    "    ]\n",
    ")\n",
    "chain = prompt | model | StrOutputParser()"
   ]
  },
  {
   "cell_type": "markdown",
   "metadata": {},
   "source": [
    "定义记忆管理器："
   ]
  },
  {
   "cell_type": "code",
   "execution_count": 2,
   "metadata": {},
   "outputs": [],
   "source": [
    "from langchain_chinese import MemoryManager\n",
    "from langchain_community.chat_message_histories import ChatMessageHistory\n",
    "from langchain.memory import ConversationBufferMemory, ConversationBufferWindowMemory\n",
    "\n",
    "window = ConversationBufferWindowMemory(\n",
    "  return_messages=True, k=2, chat_memory = ChatMessageHistory()\n",
    ")\n",
    "\n",
    "memory = MemoryManager(shorterm_memory = window)"
   ]
  },
  {
   "cell_type": "code",
   "execution_count": 3,
   "metadata": {},
   "outputs": [],
   "source": [
    "from langchain_chinese import WithMemoryBinding\n",
    "\n",
    "withMemoryChain = WithMemoryBinding(\n",
    "  chain,\n",
    "  memory,\n",
    "  input_messages_key=\"input\",\n",
    "  history_messages_key=\"history\",\n",
    ")"
   ]
  },
  {
   "cell_type": "code",
   "execution_count": 4,
   "metadata": {},
   "outputs": [
    {
     "data": {
      "text/plain": [
       "'三角函数是一类在三角形中定义的函数，它们以三角形的角度为自变量。这些函数包括正弦、余弦、正切、余切、正割和余割。在三角函数中，最常见的是正弦函数（sin）、余弦函数（cos）和正切函数（tan），它们分别表示了角的对应边与斜边之比。'"
      ]
     },
     "execution_count": 4,
     "metadata": {},
     "output_type": "execute_result"
    }
   ],
   "source": [
    "withMemoryChain.invoke(\n",
    "  {\"input\": \"三角函数什么意思？?\"},\n",
    "  config={\"configurable\": {\"session_id\": \"abc123\"}},\n",
    ")"
   ]
  },
  {
   "cell_type": "code",
   "execution_count": 5,
   "metadata": {},
   "outputs": [
    {
     "data": {
      "text/plain": [
       "'\"三角\"一词来自于这些函数最初是通过三角形的角度定义的事实。三角函数与三角形的角度相关，因此被称为三角函数。尽管这些函数最初是通过三角形定义的，但它们在数学中的应用远不止于此，涉及到许多其他领域，如物理学、工程学和计算机图形学等。'"
      ]
     },
     "execution_count": 5,
     "metadata": {},
     "output_type": "execute_result"
    }
   ],
   "source": [
    "withMemoryChain.invoke(\n",
    "  {\"input\": \"为什么叫三角而不是四角?\"},\n",
    "  config={\"configurable\": {\"session_id\": \"abc123\"}},\n",
    ")"
   ]
  },
  {
   "cell_type": "code",
   "execution_count": 7,
   "metadata": {},
   "outputs": [
    {
     "data": {
      "text/plain": [
       "'小学阶段通常不会深入学习三角函数，因为这需要一些基本的几何和代数知识。通常，三角函数在中学阶段的数学课程中会被介绍和学习，当学生已经具备了一定的数学基础时。'"
      ]
     },
     "execution_count": 7,
     "metadata": {},
     "output_type": "execute_result"
    }
   ],
   "source": [
    "withMemoryChain.invoke(\n",
    "  {\"input\": \"小学会学到吗?\"},\n",
    "  config={\"configurable\": {\"session_id\": \"abc123\"}},\n",
    ")"
   ]
  },
  {
   "cell_type": "code",
   "execution_count": 8,
   "metadata": {},
   "outputs": [
    {
     "data": {
      "text/plain": [
       "[HumanMessage(content='为什么叫三角而不是四角?'),\n",
       " AIMessage(content='\"三角\"一词来自于这些函数最初是通过三角形的角度定义的事实。三角函数与三角形的角度相关，因此被称为三角函数。尽管这些函数最初是通过三角形定义的，但它们在数学中的应用远不止于此，涉及到许多其他领域，如物理学、工程学和计算机图形学等。'),\n",
       " HumanMessage(content='小学会学到吗?'),\n",
       " AIMessage(content='小学阶段通常不会深入学习三角函数，因为这需要一些基本的几何和代数知识。通常，三角函数在中学阶段的数学课程中会被介绍和学习，当学生已经具备了一定的数学基础时。')]"
      ]
     },
     "execution_count": 8,
     "metadata": {},
     "output_type": "execute_result"
    }
   ],
   "source": [
    "memory.shorterm_messages(\"abc123\")"
   ]
  },
  {
   "cell_type": "code",
   "execution_count": 9,
   "metadata": {},
   "outputs": [
    {
     "data": {
      "text/plain": [
       "[HumanMessage(content='三角函数什么意思？?'),\n",
       " AIMessage(content='三角函数是一类在三角形中定义的函数，它们以三角形的角度为自变量。这些函数包括正弦、余弦、正切、余切、正割和余割。在三角函数中，最常见的是正弦函数（sin）、余弦函数（cos）和正切函数（tan），它们分别表示了角的对应边与斜边之比。'),\n",
       " HumanMessage(content='为什么叫三角而不是四角?'),\n",
       " AIMessage(content='\"三角\"一词来自于这些函数最初是通过三角形的角度定义的事实。三角函数与三角形的角度相关，因此被称为三角函数。尽管这些函数最初是通过三角形定义的，但它们在数学中的应用远不止于此，涉及到许多其他领域，如物理学、工程学和计算机图形学等。'),\n",
       " HumanMessage(content='小学会学到吗?'),\n",
       " AIMessage(content='小学阶段通常不会深入学习三角函数，因为这需要一些基本的几何和代数知识。通常，三角函数在中学阶段的数学课程中会被介绍和学习，当学生已经具备了一定的数学基础时。')]"
      ]
     },
     "execution_count": 9,
     "metadata": {},
     "output_type": "execute_result"
    }
   ],
   "source": [
    "memory.longterm_messages(\"abc123\")"
   ]
  },
  {
   "cell_type": "code",
   "execution_count": 10,
   "metadata": {},
   "outputs": [
    {
     "name": "stdout",
     "output_type": "stream",
     "text": [
      "|你|最|初|的|问题|是|关|于|为|什|么|称|呼|三|角|函数|而|不|是|四|角|函数|。||"
     ]
    }
   ],
   "source": [
    "for chunk in withMemoryChain.stream(\n",
    "  {\"input\": \"我最初的问题是什么来着?\"},\n",
    "  config={\"configurable\": {\"session_id\": \"abc123\"}},\n",
    "):\n",
    "  print(chunk, end=\"|\", flush=True)"
   ]
  },
  {
   "cell_type": "markdown",
   "metadata": {},
   "source": [
    "# File持久化"
   ]
  },
  {
   "cell_type": "code",
   "execution_count": 1,
   "metadata": {},
   "outputs": [],
   "source": [
    "from langchain_chinese.memory.history import LocalFileMessageHistory\n",
    "\n",
    "memory = LocalFileMessageHistory(session_id='2024_04_28_161309_9499')"
   ]
  },
  {
   "cell_type": "code",
   "execution_count": 2,
   "metadata": {},
   "outputs": [
    {
     "data": {
      "text/plain": [
       "'2024_04_28_161309_9499'"
      ]
     },
     "execution_count": 2,
     "metadata": {},
     "output_type": "execute_result"
    }
   ],
   "source": [
    "memory.session_id"
   ]
  },
  {
   "cell_type": "code",
   "execution_count": 10,
   "metadata": {},
   "outputs": [],
   "source": [
    "memory.add_user_message(\"请做我的助手吧\")"
   ]
  },
  {
   "cell_type": "code",
   "execution_count": 3,
   "metadata": {},
   "outputs": [
    {
     "data": {
      "text/plain": [
       "[AIMessage(content='hi'), HumanMessage(content='请做我的助手吧')]"
      ]
     },
     "execution_count": 3,
     "metadata": {},
     "output_type": "execute_result"
    }
   ],
   "source": [
    "memory.messages"
   ]
  },
  {
   "cell_type": "markdown",
   "metadata": {},
   "source": [
    "# redis持久化"
   ]
  },
  {
   "cell_type": "markdown",
   "metadata": {},
   "source": [
    "```shell\n",
    "pip install -U langchain-community redis\n",
    "```"
   ]
  },
  {
   "cell_type": "markdown",
   "metadata": {},
   "source": [
    "创建窗口管理器时要指定redis的工厂函数，其他与上面的例子相同。"
   ]
  },
  {
   "cell_type": "code",
   "execution_count": null,
   "metadata": {},
   "outputs": [],
   "source": [
    "from langchain_chinese import MemoryManager\n",
    "from langchain_community.chat_message_histories import ChatMessageHistory\n",
    "from langchain.memory import ConversationBufferMemory, ConversationBufferWindowMemory\n",
    "from langchain_community.chat_message_histories import RedisChatMessageHistory\n",
    "\n",
    "window = ConversationBufferWindowMemory(\n",
    "    return_messages=True, k=2, chat_memory = ChatMessageHistory()\n",
    ")\n",
    "\n",
    "memory = MemoryManager(\n",
    "    lambda session_id: RedisChatMessageHistory(\n",
    "        session_id, url=\"redis://localhost:6379\"\n",
    "    ),\n",
    "    shorterm_memory = window\n",
    ")"
   ]
  }
 ],
 "metadata": {
  "kernelspec": {
   "display_name": "langchain-chinese-py3.9-ipkyernel",
   "language": "python",
   "name": "langchain-chinese-py3.9-ipkyernel"
  },
  "language_info": {
   "codemirror_mode": {
    "name": "ipython",
    "version": 3
   },
   "file_extension": ".py",
   "mimetype": "text/x-python",
   "name": "python",
   "nbconvert_exporter": "python",
   "pygments_lexer": "ipython3",
   "version": "3.9.18"
  }
 },
 "nbformat": 4,
 "nbformat_minor": 2
}
