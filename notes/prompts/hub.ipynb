{
 "cells": [
  {
   "cell_type": "code",
   "execution_count": 1,
   "id": "b24a2db2-ba55-4d39-b2c8-6f5fe938239e",
   "metadata": {},
   "outputs": [],
   "source": [
    "import os\n",
    "from dotenv import load_dotenv, find_dotenv\n",
    "load_dotenv(find_dotenv(), override=True)\n",
    "\n",
    "os.chdir('..')"
   ]
  },
  {
   "cell_type": "markdown",
   "id": "0bf17745-8090-413b-9b53-aa0c318bcadd",
   "metadata": {},
   "source": [
    "# HUB"
   ]
  },
  {
   "cell_type": "code",
   "execution_count": 2,
   "id": "2c1c944f-7474-4215-80f9-a47518e2bc86",
   "metadata": {},
   "outputs": [
    {
     "name": "stdout",
     "output_type": "stream",
     "text": [
      "input_variables=['history', 'input'] input_types={'history': typing.List[typing.Union[langchain_core.messages.ai.AIMessage, langchain_core.messages.human.HumanMessage, langchain_core.messages.chat.ChatMessage, langchain_core.messages.system.SystemMessage, langchain_core.messages.function.FunctionMessage, langchain_core.messages.tool.ToolMessage]]} partial_variables={'hello': '你也好啊'} messages=[SystemMessagePromptTemplate(prompt=PromptTemplate(input_variables=[], template='你是一个翻译机器人，我说中文你就直接翻译成英文，不要啰嗦。')), HumanMessagePromptTemplate(prompt=PromptTemplate(input_variables=[], template='你好')), AIMessagePromptTemplate(prompt=PromptTemplate(input_variables=['hello'], template='{hello}')), MessagesPlaceholder(variable_name='history'), HumanMessagePromptTemplate(prompt=PromptTemplate(input_variables=['input'], template='{input}'))]\n"
     ]
    }
   ],
   "source": [
    "from langchain_core.prompts import ChatPromptTemplate, MessagesPlaceholder\n",
    "from textlong.prompts.hub import save_chat_prompt, load_chat_prompt\n",
    "\n",
    "prompt = ChatPromptTemplate.from_messages([\n",
    "    (\"system\", \"你是一个翻译机器人，我说中文你就直接翻译成英文，不要啰嗦。\"),\n",
    "    (\"human\", \"你好\"),\n",
    "    (\"ai\", \"{hello}\"),\n",
    "    MessagesPlaceholder(\"history\"),\n",
    "    (\"human\", \"{input}\"),\n",
    "]).partial(hello=\"你也好啊\")\n",
    "\n",
    "print(prompt)\n"
   ]
  },
  {
   "cell_type": "code",
   "execution_count": 3,
   "id": "06516da7-dcc2-4622-9922-1ff706a217c0",
   "metadata": {},
   "outputs": [],
   "source": [
    "save_chat_prompt(prompt, template_id=\"translate\", project_id=\"project_test_hub\")"
   ]
  },
  {
   "cell_type": "code",
   "execution_count": 4,
   "id": "cff87b8d-7a54-4379-902a-3ac675260776",
   "metadata": {},
   "outputs": [
    {
     "data": {
      "text/plain": [
       "ChatPromptTemplate(input_variables=['history', 'input'], input_types={'history': typing.List[typing.Union[langchain_core.messages.ai.AIMessage, langchain_core.messages.human.HumanMessage, langchain_core.messages.chat.ChatMessage, langchain_core.messages.system.SystemMessage, langchain_core.messages.function.FunctionMessage, langchain_core.messages.tool.ToolMessage]]}, partial_variables={'hello': '你也好啊'}, messages=[SystemMessagePromptTemplate(prompt=PromptTemplate(input_variables=[], template='你是一个翻译机器人，我说中文你就直接翻译成英文，不要啰嗦。')), HumanMessagePromptTemplate(prompt=PromptTemplate(input_variables=[], template='你好')), AIMessagePromptTemplate(prompt=PromptTemplate(input_variables=['hello'], template='{hello}')), MessagesPlaceholder(variable_name='history'), HumanMessagePromptTemplate(prompt=PromptTemplate(input_variables=['input'], template='{input}')), HumanMessagePromptTemplate(prompt=PromptTemplate(input_variables=['input'], template='{input}'))])"
      ]
     },
     "execution_count": 4,
     "metadata": {},
     "output_type": "execute_result"
    }
   ],
   "source": [
    "load_chat_prompt(template_id=\"translate\", project_id=\"project_test_hub\")"
   ]
  },
  {
   "cell_type": "code",
   "execution_count": null,
   "id": "3af8748b-467f-4bc7-bffb-c5a7c132e5b1",
   "metadata": {},
   "outputs": [],
   "source": []
  }
 ],
 "metadata": {
  "kernelspec": {
   "display_name": "langchani-book-py3.10-ipykernel",
   "language": "python",
   "name": "langchani-book-py3.10-ipykernel"
  },
  "language_info": {
   "codemirror_mode": {
    "name": "ipython",
    "version": 3
   },
   "file_extension": ".py",
   "mimetype": "text/x-python",
   "name": "python",
   "nbconvert_exporter": "python",
   "pygments_lexer": "ipython3",
   "version": "3.10.0"
  }
 },
 "nbformat": 4,
 "nbformat_minor": 5
}
