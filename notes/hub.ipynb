{
 "cells": [
  {
   "cell_type": "code",
   "execution_count": 2,
   "id": "b24a2db2-ba55-4d39-b2c8-6f5fe938239e",
   "metadata": {},
   "outputs": [],
   "source": [
    "import os\n",
    "from dotenv import load_dotenv, find_dotenv\n",
    "load_dotenv(find_dotenv(), override=True)\n",
    "\n",
    "os.chdir('..')"
   ]
  },
  {
   "cell_type": "markdown",
   "id": "0bf17745-8090-413b-9b53-aa0c318bcadd",
   "metadata": {},
   "source": [
    "# HUB"
   ]
  },
  {
   "cell_type": "code",
   "execution_count": 3,
   "id": "2c1c944f-7474-4215-80f9-a47518e2bc86",
   "metadata": {},
   "outputs": [],
   "source": [
    "from langchain_core.prompts import ChatPromptTemplate, MessagesPlaceholder\n",
    "from textlong.hub import save_chat_prompt, load_chat_prompt, load_prompt"
   ]
  },
  {
   "cell_type": "markdown",
   "id": "9126e09b-5dc1-4430-954c-c3ee0a77e343",
   "metadata": {},
   "source": [
    "## load_prompt"
   ]
  },
  {
   "cell_type": "code",
   "execution_count": 7,
   "id": "16fcc674-8075-4b45-b200-1a9a53382e2d",
   "metadata": {},
   "outputs": [
    {
     "name": "stdout",
     "output_type": "stream",
     "text": [
      "你必须遵循以下约束来完成任务:\n",
      "1. 按照markdown格式输出，直接输出你的结果，不要评论，不要啰嗦。\n",
      "2. 输出的markdown内容使用`>->>>`和`<<<-<`包围。\n",
      "\n",
      "你的任务是:\n",
      ">->>>\n",
      "MY-TASK\n",
      "<<<-<\n",
      "\n",
      "输出例子:\n",
      ">->>>\n",
      "你的markdown输出\n",
      "<<<-<\n",
      "\n",
      "你的输出:\n"
     ]
    }
   ],
   "source": [
    "print(load_prompt(\"_PROMPT_WRITING_BASE\").format(task=\"MY-TASK\"))"
   ]
  },
  {
   "cell_type": "code",
   "execution_count": 8,
   "id": "adcc48c9-94d4-4ad1-9e49-615fde2278c3",
   "metadata": {},
   "outputs": [
    {
     "name": "stdout",
     "output_type": "stream",
     "text": [
      "你是强大的写作助手,可以根据任务需求创作写作提纲。\n",
      "\n",
      "你必须遵循以下约束来完成任务:\n",
      "1. 每一个提纲标题和对应内容都可以进一步独立扩写段落。\n",
      "2. 你只能使用标题语法（n个`#`）表示提纲标题。\n",
      "3. 提纲标题中包括创意要点、创作思路、创作中涉及到的实体名称等具体扩写要求和限定。\n",
      "4. 你只能输出提纲，不要输出具体的扩写内容。\n",
      "5. 必须在标题中增加\"预估字数\"，并且注意所有提纲中\"预估字数\"的总和与任务中“总字数要求”的预期相符。\n",
      "6. 按照markdown格式输出，直接输出你的结果，不要评论，不要啰嗦。\n",
      "7. 输出的markdown内容使用`>->>>`和`<<<-<`包围，其中的扩写要求使用`<OUTLINE>`和`</OUTLINE>`包围。\n",
      "\n",
      "你的任务是:\n",
      ">->>>\n",
      "MY-TASK\n",
      "<<<-<\n",
      "\n",
      "输出例子:\n",
      ">->>>\n",
      "# xxx\n",
      "## XXXX（300字）\n",
      "<OUTLINE>\n",
      "扩写要求：\n",
      "- xxx\n",
      "- xxx\n",
      "</OUTLINE>\n",
      "<<<-<\n",
      "\n",
      "你的输出:\n"
     ]
    }
   ],
   "source": [
    "print(load_prompt(\"_PROMPT_OUTLINE_WRITING\").format(task=\"MY-TASK\"))"
   ]
  },
  {
   "cell_type": "code",
   "execution_count": null,
   "id": "6ed17046-1842-466a-ae42-ddbc797ae438",
   "metadata": {},
   "outputs": [],
   "source": []
  },
  {
   "cell_type": "markdown",
   "id": "7ae7ffe9-f03c-45bd-90fe-086f907bab36",
   "metadata": {},
   "source": [
    "## save_chat_prompt"
   ]
  },
  {
   "cell_type": "code",
   "execution_count": null,
   "id": "a2fe5fb0-0ca3-46a2-83f0-10a386560a96",
   "metadata": {},
   "outputs": [],
   "source": [
    "prompt = ChatPromptTemplate.from_messages([\n",
    "    (\"system\", \"你是一个翻译机器人，我说中文你就直接翻译成英文，不要啰嗦。\"),\n",
    "    (\"human\", \"你好\"),\n",
    "    (\"ai\", \"{hello}\"),\n",
    "    MessagesPlaceholder(\"history\"),\n",
    "    (\"human\", \"{input}\"),\n",
    "]).partial(hello=\"你也好啊\")\n",
    "\n",
    "print(prompt)\n"
   ]
  },
  {
   "cell_type": "code",
   "execution_count": 3,
   "id": "06516da7-dcc2-4622-9922-1ff706a217c0",
   "metadata": {},
   "outputs": [],
   "source": [
    "save_chat_prompt(prompt, template_id=\"translate\", project_id=\"project_test_hub\")"
   ]
  },
  {
   "cell_type": "markdown",
   "id": "bd8189bc-4c8a-4d26-acae-83cae6e50537",
   "metadata": {},
   "source": [
    "## load_chat_prompt"
   ]
  },
  {
   "cell_type": "code",
   "execution_count": 4,
   "id": "cff87b8d-7a54-4379-902a-3ac675260776",
   "metadata": {},
   "outputs": [
    {
     "data": {
      "text/plain": [
       "ChatPromptTemplate(input_variables=['history'], input_types={'history': typing.List[typing.Union[langchain_core.messages.ai.AIMessage, langchain_core.messages.human.HumanMessage, langchain_core.messages.chat.ChatMessage, langchain_core.messages.system.SystemMessage, langchain_core.messages.function.FunctionMessage, langchain_core.messages.tool.ToolMessage]]}, partial_variables={'hello': '你也好啊'}, messages=[SystemMessagePromptTemplate(prompt=PromptTemplate(input_variables=[], template='你是一个翻译机器人，我说中文你就直接翻译成英文，不要啰嗦。', template_format='mustache')), HumanMessagePromptTemplate(prompt=PromptTemplate(input_variables=[], template='你好', template_format='mustache')), AIMessagePromptTemplate(prompt=PromptTemplate(input_variables=[], template='{hello}', template_format='mustache')), MessagesPlaceholder(variable_name='history'), HumanMessagePromptTemplate(prompt=PromptTemplate(input_variables=[], template='{input}', template_format='mustache'))])"
      ]
     },
     "execution_count": 4,
     "metadata": {},
     "output_type": "execute_result"
    }
   ],
   "source": [
    "load_chat_prompt(template_id=\"translate\", project_id=\"project_test_hub\")"
   ]
  },
  {
   "cell_type": "code",
   "execution_count": null,
   "id": "3af8748b-467f-4bc7-bffb-c5a7c132e5b1",
   "metadata": {},
   "outputs": [],
   "source": []
  }
 ],
 "metadata": {
  "kernelspec": {
   "display_name": "langchani-book-py3.10-ipykernel",
   "language": "python",
   "name": "langchani-book-py3.10-ipykernel"
  },
  "language_info": {
   "codemirror_mode": {
    "name": "ipython",
    "version": 3
   },
   "file_extension": ".py",
   "mimetype": "text/x-python",
   "name": "python",
   "nbconvert_exporter": "python",
   "pygments_lexer": "ipython3",
   "version": "3.10.0"
  }
 },
 "nbformat": 4,
 "nbformat_minor": 5
}
