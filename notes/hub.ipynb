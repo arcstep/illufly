{
 "cells": [
  {
   "cell_type": "markdown",
   "id": "20c21029-0066-4e5e-8956-8b500aebf3a9",
   "metadata": {},
   "source": [
    "# 提示语模板管理"
   ]
  },
  {
   "cell_type": "markdown",
   "id": "9ea28123-7827-487a-b0c4-6611241c92f6",
   "metadata": {},
   "source": [
    "## Mustache"
   ]
  },
  {
   "cell_type": "code",
   "execution_count": 2,
   "id": "79e0c63b-2576-49d1-90cc-ef6f3961021d",
   "metadata": {},
   "outputs": [
    {
     "name": "stdout",
     "output_type": "stream",
     "text": [
      "Collecting chevron\n",
      "  Downloading chevron-0.14.0-py3-none-any.whl.metadata (4.9 kB)\n",
      "Downloading chevron-0.14.0-py3-none-any.whl (11 kB)\n",
      "Installing collected packages: chevron\n",
      "Successfully installed chevron-0.14.0\n",
      "\n",
      "\u001b[1m[\u001b[0m\u001b[34;49mnotice\u001b[0m\u001b[1;39;49m]\u001b[0m\u001b[39;49m A new release of pip is available: \u001b[0m\u001b[31;49m24.1.2\u001b[0m\u001b[39;49m -> \u001b[0m\u001b[32;49m24.2\u001b[0m\n",
      "\u001b[1m[\u001b[0m\u001b[34;49mnotice\u001b[0m\u001b[1;39;49m]\u001b[0m\u001b[39;49m To update, run: \u001b[0m\u001b[32;49mpip install --upgrade pip\u001b[0m\n",
      "Note: you may need to restart the kernel to use updated packages.\n"
     ]
    }
   ],
   "source": [
    "%pip install chevron"
   ]
  },
  {
   "cell_type": "code",
   "execution_count": 11,
   "id": "3c63c1a1-f6f2-42c1-bc37-595041c82abf",
   "metadata": {},
   "outputs": [
    {
     "data": {
      "text/plain": [
       "'Hello, ! '"
      ]
     },
     "execution_count": 11,
     "metadata": {},
     "output_type": "execute_result"
    }
   ],
   "source": [
    "from chevron.renderer import render as mustache_render\n",
    "from chevron.tokenizer import tokenize as mustache_tokenize\n",
    "\n",
    "mustache_render(template='Hello, {{ mustache }}! {{ name }}')"
   ]
  },
  {
   "cell_type": "code",
   "execution_count": 12,
   "id": "d541fd3c-ad98-4e68-8753-3ca410504c88",
   "metadata": {},
   "outputs": [
    {
     "data": {
      "text/plain": [
       "['name', 'mustache']"
      ]
     },
     "execution_count": 12,
     "metadata": {},
     "output_type": "execute_result"
    }
   ],
   "source": [
    "def get_template_variables(text\n",
    "    vars: Set[str] = set()\n",
    "    section_depth = 0\n",
    "    for type, key in mustache_tokenize(text\n",
    "        if type == \"end\":\n",
    "            section_depth -= 1\n",
    "        elif (\n",
    "            type in (\"variable\", \"section\", \"inverted section\", \"no escape\")\n",
    "            and key != \".\"\n",
    "            and section_depth == 0\n",
    "        ):\n",
    "            vars.add(key.split(\".\")[0])\n",
    "        if type in (\"section\", \"inverted section\"):\n",
    "            section_depth += 1\n",
    "    return vars\n",
    "\n",
    "list(get_template_variables('Hello, {{ mustache }}! {{ name }}'))\n"
   ]
  },
  {
   "cell_type": "markdown",
   "id": "972e9ca3-3bb9-483a-a268-fcaadca5955f",
   "metadata": {},
   "source": [
    "## Hub"
   ]
  },
  {
   "cell_type": "code",
   "execution_count": 1,
   "id": "989736c9-e81d-4eec-94bd-a53b7f814f17",
   "metadata": {},
   "outputs": [],
   "source": [
    "from illufly.hub import load_resource_template, load_template"
   ]
  },
  {
   "cell_type": "code",
   "execution_count": 2,
   "id": "fc500651-60f8-48f9-910a-d7d4d8a23e26",
   "metadata": {},
   "outputs": [
    {
     "data": {
      "text/plain": [
       "'你是强大的写作助手。\\n\\n你必须遵循以下约束来完成任务:\\n1. 直接输出你的结果，不要评论，不要啰嗦\\n2. 使用markdown格式输出\\n\\n**你的任务是:**\\n{{task}}\\n'"
      ]
     },
     "execution_count": 2,
     "metadata": {},
     "output_type": "execute_result"
    }
   ],
   "source": [
    "load_resource_template(\"IDEA\")"
   ]
  },
  {
   "cell_type": "code",
   "execution_count": 5,
   "id": "b50db90c-c71a-4802-a483-78d0ba434456",
   "metadata": {},
   "outputs": [
    {
     "data": {
      "text/plain": [
       "'你是强大的写作助手。\\n\\n你必须遵循以下约束来完成任务:\\n1. 直接输出你的结果，不要评论，不要啰嗦\\n2. 使用markdown格式输出\\n3. 请按照需要输出一份写作提纲\\n4. 提纲的构成应当由多个阔系额要求构成\\n5. 扩写要求必须包含清晰描述，如预估字数、创意要点、创作思路、创作中涉及到的实体名称等\\n5. 每一个扩写要求由完整的 `<OUTLINE>`和`</OUTLINE>` 包裹\\n6. 你只能输出提纲，不要输出具体的扩写内容\\n\\n**你的任务是:**\\n{{task}}\\n\\n\\n**输出例子1**\\n```\\n# 第一章 标题1\\n## 一、XXXX\\n<OUTLINE>\\n扩写摘要:\\n对扩写内容做摘要总结\\n\\n扩写要求：\\n- xxx\\n- xxx\\n</OUTLINE>\\n\\n## 二、XXXX\\n<OUTLINE>\\n</OUTLINE>\\n\\n## （更多扩写提纲）\\n```\\n\\n'"
      ]
     },
     "execution_count": 5,
     "metadata": {},
     "output_type": "execute_result"
    }
   ],
   "source": [
    "load_template(\"OUTLINE\")"
   ]
  },
  {
   "cell_type": "markdown",
   "id": "daaa1ed0-29b3-4421-a40c-5cbf1fefda3c",
   "metadata": {},
   "source": [
    "## Template"
   ]
  },
  {
   "cell_type": "code",
   "execution_count": 1,
   "id": "1871309c-ebbf-4f62-bbe1-c2d392f27c1e",
   "metadata": {},
   "outputs": [
    {
     "data": {
      "text/plain": [
       "'你是强大的写作助手。\\n\\n你必须遵循以下约束来完成任务:\\n1. 直接输出你的结果，不要评论，不要啰嗦\\n2. 使用markdown格式输出\\n\\n**你的任务是:**\\n\\n'"
      ]
     },
     "execution_count": 1,
     "metadata": {},
     "output_type": "execute_result"
    }
   ],
   "source": [
    "from illufly.types import Template\n",
    "\n",
    "Template(\"IDEA\").format()"
   ]
  },
  {
   "cell_type": "code",
   "execution_count": 2,
   "id": "5057d8b3-0ca0-4e97-876c-63a52cf0de23",
   "metadata": {},
   "outputs": [
    {
     "data": {
      "text/plain": [
       "<Template input_variables={'task'} template_text='你是一个AI助手，擅长{{task}}'>"
      ]
     },
     "execution_count": 2,
     "metadata": {},
     "output_type": "execute_result"
    }
   ],
   "source": [
    "Template(text=\"你是一个AI助手，擅长{{task}}\")"
   ]
  },
  {
   "cell_type": "code",
   "execution_count": 5,
   "id": "20067c7a-adc3-431e-a023-be2a6895a24f",
   "metadata": {},
   "outputs": [
    {
     "data": {
      "text/plain": [
       "'你是一个AI助手，擅长摸鱼'"
      ]
     },
     "execution_count": 5,
     "metadata": {},
     "output_type": "execute_result"
    }
   ],
   "source": [
    "Template(text手，擅长{{task}}\").format({\"task\": \"摸鱼\"})"
   ]
  },
  {
   "cell_type": "code",
   "execution_count": null,
   "id": "391c8ca7-919c-4852-9918-33ef96129951",
   "metadata": {},
   "outputs": [],
   "source": []
  }
 ],
 "metadata": {
  "kernelspec": {
   "display_name": "Python 3 (ipykernel)",
   "language": "python",
   "name": "python3"
  },
  "language_info": {
   "codemirror_mode": {
    "name": "ipython",
    "version": 3
   },
   "file_extension": ".py",
   "mimetype": "text/x-python",
   "name": "python",
   "nbconvert_exporter": "python",
   "pygments_lexer": "ipython3",
   "version": "3.10.0"
  }
 },
 "nbformat": 4,
 "nbformat_minor": 5
}
