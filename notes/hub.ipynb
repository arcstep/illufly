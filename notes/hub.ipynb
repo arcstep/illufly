{
 "cells": [
  {
   "cell_type": "code",
   "execution_count": 1,
   "id": "b24a2db2-ba55-4d39-b2c8-6f5fe938239e",
   "metadata": {},
   "outputs": [],
   "source": [
    "import os\n",
    "from dotenv import load_dotenv, find_dotenv\n",
    "load_dotenv(find_dotenv(), override=True)\n",
    "\n",
    "os.chdir('..')"
   ]
  },
  {
   "cell_type": "markdown",
   "id": "0bf17745-8090-413b-9b53-aa0c318bcadd",
   "metadata": {},
   "source": [
    "# HUB"
   ]
  },
  {
   "cell_type": "code",
   "execution_count": 2,
   "id": "2c1c944f-7474-4215-80f9-a47518e2bc86",
   "metadata": {},
   "outputs": [],
   "source": [
    "from langchain_core.prompts import ChatPromptTemplate, MessagesPlaceholder\n",
    "from textlong.hub import find_resource_promopt, save_chat_prompt, load_chat_prompt, load_string_prompt, save_string_prompt, load_resource_prompt"
   ]
  },
  {
   "cell_type": "code",
   "execution_count": 3,
   "id": "0c575fd4-fd76-4def-ad29-3eb9d916a464",
   "metadata": {},
   "outputs": [
    {
     "data": {
      "text/plain": [
       "('STRING_TEMPLATE', 'IDEA')"
      ]
     },
     "execution_count": 3,
     "metadata": {},
     "output_type": "execute_result"
    }
   ],
   "source": [
    "find_resource_promopt()['idea'][0]"
   ]
  },
  {
   "cell_type": "markdown",
   "id": "9126e09b-5dc1-4430-954c-c3ee0a77e343",
   "metadata": {},
   "source": [
    "## load_string_prompt"
   ]
  },
  {
   "cell_type": "code",
   "execution_count": 4,
   "id": "16fcc674-8075-4b45-b200-1a9a53382e2d",
   "metadata": {},
   "outputs": [
    {
     "name": "stdout",
     "output_type": "stream",
     "text": [
      "你是强大的写作助手。\n",
      "\n",
      "你必须遵循以下约束来完成任务:\n",
      "- 按照markdown格式输出，直接输出你的结果，不要评论，不要啰嗦\n",
      "- 输出的markdown内容使用`>->>>`和`<<<-<`包围\n",
      "\n",
      "\n",
      "\n",
      "\n",
      "MY-TASK\n",
      "\n",
      "输出例子:\n",
      ">->>>\n",
      "你的markdown输出\n",
      "<<<-<\n",
      "\n",
      "你的输出:\n"
     ]
    }
   ],
   "source": [
    "print(load_resource_prompt(\"idea\", \"IDEA\").format(task=\"MY-TASK\"))"
   ]
  },
  {
   "cell_type": "markdown",
   "id": "1593d9ff-9bdc-45c5-b27c-512a6e0da5a4",
   "metadata": {},
   "source": [
    "## save_string_prompt"
   ]
  },
  {
   "cell_type": "code",
   "execution_count": 3,
   "id": "a092cea9-a0db-41b6-886d-a8676e069638",
   "metadata": {},
   "outputs": [
    {
     "data": {
      "text/plain": [
       "PromptTemplate(input_variables=[], partial_variables={'example': '**Example 1:**\\n\\n```\\n# XXX\\n\\n## XXX\\n\\n<OUTLINE>\\n扩写摘要...\\n\\n扩写要求：\\n- xxx\\n- xxx\\n</OUTLINE>\\n\\n## XXX\\n\\n<OUTLINE>\\n扩写摘要...\\n\\n扩写要求：\\n- xxx\\n- xxx\\n</OUTLINE>\\n```\\n\\n**Example 2:**\\n\\n```\\n# XXX\\n\\n#..# XXX\\n\\n<OUTLINE>\\n扩写摘要...\\n\\n扩写要求：\\n- xxx\\n- xxx\\n</OUTLINE>\\n\\n## XXX\\n\\n##..# XXX\\n\\n<OUTLINE>\\n扩写摘要...\\n\\n扩写要求：\\n- xxx\\n- xxx\\n</OUTLINE>\\n```', 'instruction': '你还必须确保:\\n1. 扩写要求中包括预估字数、创意要点、创作思路、创作中涉及到的实体名称等\\n2. 扩写中不要包含标题\\n3. 你必须生成高质量标题：不能在标题中增加附加说明，例如“XX提纲”、“标题名（xx字数）”等\\n5. 你的提纲标题应当按markdown语法做树形结构的层次化组织\\n5. 你只能输出提纲，不要输出具体的扩写内容\\n', 'knowledge': '', 'task': ''}, template='你是强大的写作助手。\\n\\n你必须遵循以下约束来完成任务:\\n- 按照markdown格式输出，直接输出你的结果，不要评论，不要啰嗦\\n- 输出的markdown内容使用`>->>>`和`<<<-<`包围\\n{instruction}\\n\\n{knowledge}\\n\\n{task}\\n\\n输出例子:\\n>->>>\\n{example}\\n<<<-<\\n\\n你的输出:')"
      ]
     },
     "execution_count": 3,
     "metadata": {},
     "output_type": "execute_result"
    }
   ],
   "source": [
    "prompt = load_resource_prompt(\"idea\", \"OUTLINE\")\n",
    "prompt"
   ]
  },
  {
   "cell_type": "code",
   "execution_count": 4,
   "id": "d78ed97a-da01-423f-ba1b-262f02b502c2",
   "metadata": {},
   "outputs": [
    {
     "data": {
      "text/plain": [
       "True"
      ]
     },
     "execution_count": 4,
     "metadata": {},
     "output_type": "execute_result"
    }
   ],
   "source": [
    "save_string_prompt(prompt, \"idea\", \"小说大纲\")"
   ]
  },
  {
   "cell_type": "code",
   "execution_count": 5,
   "id": "6ed17046-1842-466a-ae42-ddbc797ae438",
   "metadata": {},
   "outputs": [
    {
     "data": {
      "text/plain": [
       "PromptTemplate(input_variables=[], partial_variables={'example': '**Example 1:**\\n\\n```\\n# XXX\\n\\n## XXX\\n\\n<OUTLINE>\\n扩写摘要...\\n\\n扩写要求：\\n- xxx\\n- xxx\\n</OUTLINE>\\n\\n## XXX\\n\\n<OUTLINE>\\n扩写摘要...\\n\\n扩写要求：\\n- xxx\\n- xxx\\n</OUTLINE>\\n```\\n\\n**Example 2:**\\n\\n```\\n# XXX\\n\\n#..# XXX\\n\\n<OUTLINE>\\n扩写摘要...\\n\\n扩写要求：\\n- xxx\\n- xxx\\n</OUTLINE>\\n\\n## XXX\\n\\n##..# XXX\\n\\n<OUTLINE>\\n扩写摘要...\\n\\n扩写要求：\\n- xxx\\n- xxx\\n</OUTLINE>\\n```', 'instruction': '你还必须确保:\\n1. 扩写要求中包括预估字数、创意要点、创作思路、创作中涉及到的实体名称等\\n2. 扩写中不要包含标题\\n3. 你必须生成高质量标题：不能在标题中增加附加说明，例如“XX提纲”、“标题名（xx字数）”等\\n5. 你的提纲标题应当按markdown语法做树形结构的层次化组织\\n5. 你只能输出提纲，不要输出具体的扩写内容\\n', 'knowledge': '', 'task': ''}, template='你是强大的写作助手。\\n\\n你必须遵循以下约束来完成任务:\\n- 按照markdown格式输出，直接输出你的结果，不要评论，不要啰嗦\\n- 输出的markdown内容使用`>->>>`和`<<<-<`包围\\n{instruction}\\n\\n{knowledge}\\n\\n{task}\\n\\n输出例子:\\n>->>>\\n{example}\\n<<<-<\\n\\n你的输出:')"
      ]
     },
     "execution_count": 5,
     "metadata": {},
     "output_type": "execute_result"
    }
   ],
   "source": [
    "load_string_prompt(\"idea\", \"小说大纲\")"
   ]
  },
  {
   "cell_type": "markdown",
   "id": "7ae7ffe9-f03c-45bd-90fe-086f907bab36",
   "metadata": {},
   "source": [
    "## save_chat_prompt"
   ]
  },
  {
   "cell_type": "code",
   "execution_count": null,
   "id": "a2fe5fb0-0ca3-46a2-83f0-10a386560a96",
   "metadata": {},
   "outputs": [],
   "source": [
    "prompt = ChatPromptTemplate.from_messages([\n",
    "    (\"system\", \"你是一个翻译机器人，我说中文你就直接翻译成英文，不要啰嗦。\"),\n",
    "    (\"human\", \"你好\"),\n",
    "    (\"ai\", \"{hello}\"),\n",
    "    MessagesPlaceholder(\"history\"),\n",
    "    (\"human\", \"{input}\"),\n",
    "]).partial(hello=\"你也好啊\")\n",
    "\n",
    "print(prompt)"
   ]
  },
  {
   "cell_type": "code",
   "execution_count": 3,
   "id": "06516da7-dcc2-4622-9922-1ff706a217c0",
   "metadata": {},
   "outputs": [],
   "source": [
    "save_chat_prompt(prompt, template_id=\"translate\", project_id=\"project_test_hub\")"
   ]
  },
  {
   "cell_type": "markdown",
   "id": "bd8189bc-4c8a-4d26-acae-83cae6e50537",
   "metadata": {},
   "source": [
    "## load_chat_prompt"
   ]
  },
  {
   "cell_type": "code",
   "execution_count": 4,
   "id": "cff87b8d-7a54-4379-902a-3ac675260776",
   "metadata": {},
   "outputs": [
    {
     "data": {
      "text/plain": [
       "ChatPromptTemplate(input_variables=['history'], input_types={'history': typing.List[typing.Union[langchain_core.messages.ai.AIMessage, langchain_core.messages.human.HumanMessage, langchain_core.messages.chat.ChatMessage, langchain_core.messages.system.SystemMessage, langchain_core.messages.function.FunctionMessage, langchain_core.messages.tool.ToolMessage]]}, partial_variables={'hello': '你也好啊'}, messages=[SystemMessagePromptTemplate(prompt=PromptTemplate(input_variables=[], template='你是一个翻译机器人，我说中文你就直接翻译成英文，不要啰嗦。', template_format='mustache')), HumanMessagePromptTemplate(prompt=PromptTemplate(input_variables=[], template='你好', template_format='mustache')), AIMessagePromptTemplate(prompt=PromptTemplate(input_variables=[], template='{hello}', template_format='mustache')), MessagesPlaceholder(variable_name='history'), HumanMessagePromptTemplate(prompt=PromptTemplate(input_variables=[], template='{input}', template_format='mustache'))])"
      ]
     },
     "execution_count": 4,
     "metadata": {},
     "output_type": "execute_result"
    }
   ],
   "source": [
    "load_chat_prompt(template_id=\"translate\", project_id=\"project_test_hub\")"
   ]
  },
  {
   "cell_type": "code",
   "execution_count": null,
   "id": "3af8748b-467f-4bc7-bffb-c5a7c132e5b1",
   "metadata": {},
   "outputs": [],
   "source": []
  }
 ],
 "metadata": {
  "kernelspec": {
   "display_name": "langchani-book-py3.10-ipykernel",
   "language": "python",
   "name": "langchani-book-py3.10-ipykernel"
  },
  "language_info": {
   "codemirror_mode": {
    "name": "ipython",
    "version": 3
   },
   "file_extension": ".py",
   "mimetype": "text/x-python",
   "name": "python",
   "nbconvert_exporter": "python",
   "pygments_lexer": "ipython3",
   "version": "3.10.0"
  }
 },
 "nbformat": 4,
 "nbformat_minor": 5
}
