{
 "cells": [
  {
   "cell_type": "markdown",
   "id": "20c21029-0066-4e5e-8956-8b500aebf3a9",
   "metadata": {},
   "source": [
    "# 提示语模板管理"
   ]
  },
  {
   "cell_type": "markdown",
   "id": "972e9ca3-3bb9-483a-a268-fcaadca5955f",
   "metadata": {},
   "source": [
    "## Hub"
   ]
  },
  {
   "cell_type": "code",
   "execution_count": 14,
   "id": "989736c9-e81d-4eec-94bd-a53b7f814f17",
   "metadata": {},
   "outputs": [],
   "source": [
    "from illufly.hub import load_resource_template, load_template"
   ]
  },
  {
   "cell_type": "code",
   "execution_count": 2,
   "id": "fc500651-60f8-48f9-910a-d7d4d8a23e26",
   "metadata": {},
   "outputs": [
    {
     "data": {
      "text/plain": [
       "PromptTemplate(input_variables=['task'], template='你是强大的写作助手。\\n\\n你必须遵循以下约束来完成任务:\\n1. 直接输出你的结果，不要评论，不要啰嗦\\n2. 使用markdown格式输出\\n\\n**你的任务是:**\\n{{task}}\\n', template_format='mustache')"
      ]
     },
     "execution_count": 2,
     "metadata": {},
     "output_type": "execute_result"
    }
   ],
   "source": [
    "load_resource_template(\"IDEA\")"
   ]
  },
  {
   "cell_type": "code",
   "execution_count": 15,
   "id": "b50db90c-c71a-4802-a483-78d0ba434456",
   "metadata": {},
   "outputs": [
    {
     "data": {
      "text/plain": [
       "PromptTemplate(input_variables=['task'], template='你是强大的写作助手。\\n\\n你必须遵循以下约束来完成任务:\\n1. 直接输出你的结果，不要评论，不要啰嗦\\n2. 使用markdown格式输出\\n3. 请按照需要输出一份写作提纲\\n4. 提纲的构成应当由多个阔系额要求构成\\n5. 扩写要求必须包含清晰描述，如预估字数、创意要点、创作思路、创作中涉及到的实体名称等\\n5. 每一个扩写要求由完整的 `<OUTLINE>`和`</OUTLINE>` 包裹\\n6. 你只能输出提纲，不要输出具体的扩写内容\\n\\n**你的任务是:**\\n{{task}}\\n\\n\\n**输出例子1**\\n```\\n# 第一章 标题1\\n## 一、XXXX\\n<OUTLINE>\\n扩写摘要:\\n对扩写内容做摘要总结\\n\\n扩写要求：\\n- xxx\\n- xxx\\n</OUTLINE>\\n\\n## 二、XXXX\\n<OUTLINE>\\n</OUTLINE>\\n\\n## （更多扩写提纲）\\n```\\n\\n', template_format='mustache')"
      ]
     },
     "execution_count": 15,
     "metadata": {},
     "output_type": "execute_result"
    }
   ],
   "source": [
    "load_template(\"OUTLINE\")"
   ]
  },
  {
   "cell_type": "markdown",
   "id": "daaa1ed0-29b3-4421-a40c-5cbf1fefda3c",
   "metadata": {},
   "source": [
    "## Template"
   ]
  },
  {
   "cell_type": "code",
   "execution_count": 3,
   "id": "1871309c-ebbf-4f62-bbe1-c2d392f27c1e",
   "metadata": {},
   "outputs": [
    {
     "data": {
      "text/plain": [
       "[{'role': 'system',\n",
       "  'content': '你是强大的写作助手。\\n\\n你必须遵循以下约束来完成任务:\\n1. 直接输出你的结果，不要评论，不要啰嗦\\n2. 使用markdown格式输出\\n\\n**你的任务是:**\\n\\n'},\n",
       " {'role': 'user', 'content': 'hi'},\n",
       " {'role': 'assistant', 'content': '我想回家'},\n",
       " {'role': 'user', 'content': '有什么可以帮您?'}]"
      ]
     },
     "execution_count": 3,
     "metadata": {},
     "output_type": "execute_result"
    }
   ],
   "source": [
    "from illufly.agent import convert_prompt_to_messages\n",
    "from illufly.hub import Template\n",
    "\n",
    "convert_prompt_to_messages([Template(\"IDEA\"),\"hi\", '我想回家', \"有什么可以帮您?\"])"
   ]
  },
  {
   "cell_type": "code",
   "execution_count": 2,
   "id": "9a1dc9fa-7e65-42a2-8476-ee20969e8a09",
   "metadata": {},
   "outputs": [
    {
     "data": {
      "text/plain": [
       "[{'role': 'user', 'content': 'hi'},\n",
       " {'role': 'assistant', 'content': '我想回家'},\n",
       " {'role': 'user', 'content': '有什么可以帮您?'}]"
      ]
     },
     "execution_count": 2,
     "metadata": {},
     "output_type": "execute_result"
    }
   ],
   "source": [
    "convert_prompt_to_messages([\"hi\", '我想回家', \"有什么可以帮您?\"])"
   ]
  },
  {
   "cell_type": "code",
   "execution_count": 1,
   "id": "f1d0b6b9-8fac-4fd1-83f1-9df49907ab1f",
   "metadata": {},
   "outputs": [],
   "source": [
    "from illufly.hub import Template\n",
    "t = Template(\"IDEA\")"
   ]
  },
  {
   "cell_type": "code",
   "execution_count": 2,
   "id": "ead5415f-e06d-4ff2-b429-34c9ba0be244",
   "metadata": {},
   "outputs": [
    {
     "data": {
      "text/plain": [
       "PromptTemplate(input_variables=['task'], template='你是强大的写作助手。\\n\\n你必须遵循以下约束来完成任务:\\n1. 直接输出你的结果，不要评论，不要啰嗦\\n2. 使用markdown格式输出\\n\\n**你的任务是:**\\n{{task}}\\n', template_format='mustache')"
      ]
     },
     "execution_count": 2,
     "metadata": {},
     "output_type": "execute_result"
    }
   ],
   "source": [
    "t.template"
   ]
  },
  {
   "cell_type": "code",
   "execution_count": 3,
   "id": "ed09589e-d4d6-4452-9177-65579dace0d9",
   "metadata": {},
   "outputs": [
    {
     "data": {
      "text/plain": [
       "'\\n    你是强大的写作助手。\\n    你必须遵循以下约束来完成任务:\\n    1. 直接输出你的结果，不要评论，不要啰嗦\\n    2. 使用markdown格式输出\\n    \\n    **你的任务是:**帮我写一封情书\\n    '"
      ]
     },
     "execution_count": 3,
     "metadata": {},
     "output_type": "execute_result"
    }
   ],
   "source": [
    "t = Template(\n",
    "    template_text=\"\"\"\n",
    "    你是强大的写作助手。\n",
    "    你必须遵循以下约束来完成任务:\n",
    "    1. 直接输出你的结果，不要评论，不要啰嗦\n",
    "    2. 使用markdown格式输出\n",
    "    \n",
    "    **你的任务是:**{{task}}\n",
    "    \"\"\"\n",
    ")\n",
    "t.get_prompt(task=\"帮我写一封情书\")"
   ]
  },
  {
   "cell_type": "code",
   "execution_count": 5,
   "id": "05256108-5557-4468-9bdc-a820ebbd0f29",
   "metadata": {},
   "outputs": [
    {
     "data": {
      "text/plain": [
       "'\\n    你是强大的写作助手。\\n    你必须遵循以下约束来完成任务:\\n    1. 直接输出你的结果，不要评论，不要啰嗦\\n    2. 使用markdown格式输出\\n    \\n    **你的任务是:**帮我写一封道歉信\\n    '"
      ]
     },
     "execution_count": 5,
     "metadata": {},
     "output_type": "execute_result"
    }
   ],
   "source": [
    "t = Template(\n",
    "    template_text=\"\"\"\n",
    "    你是强大的写作助手。\n",
    "    你必须遵循以下约束来完成任务:\n",
    "    1. 直接输出你的结果，不要评论，不要啰嗦\n",
    "    2. 使用markdown格式输出\n",
    "    \n",
    "    **你的任务是:**{{task}}\n",
    "    \"\"\",\n",
    "    desk_map={\"task\": \"prompt\"},\n",
    "    desk={\"prompt\": \"帮我写一封情书\"}\n",
    ")\n",
    "t.get_prompt(task=\"帮我写一封道歉信\")"
   ]
  },
  {
   "cell_type": "code",
   "execution_count": null,
   "id": "395c7d7d-e8d3-4ac8-8710-7152829f487d",
   "metadata": {},
   "outputs": [],
   "source": []
  },
  {
   "cell_type": "code",
   "execution_count": 5,
   "id": "ed9a8a46-6aeb-4b77-ba67-165137270bb9",
   "metadata": {},
   "outputs": [
    {
     "data": {
      "text/plain": [
       "['task']"
      ]
     },
     "execution_count": 5,
     "metadata": {},
     "output_type": "execute_result"
    }
   ],
   "source": [
    "t.template.input_variables"
   ]
  },
  {
   "cell_type": "code",
   "execution_count": 8,
   "id": "a7608870-af23-4c3f-8d62-5d7ce99fc58f",
   "metadata": {},
   "outputs": [
    {
     "data": {
      "text/plain": [
       "{'name': 'lele', 'age': 5, 'scoe': 90}"
      ]
     },
     "execution_count": 8,
     "metadata": {},
     "output_type": "execute_result"
    }
   ],
   "source": [
    "a = {\"name\": \"adi\", \"age\": 5}\n",
    "b = {\"name\": \"lele\", \"scoe\": 90}\n",
    "{**a, **b}"
   ]
  },
  {
   "cell_type": "code",
   "execution_count": null,
   "id": "8cd16a25-628e-418c-888e-d71d2d0d6a0c",
   "metadata": {},
   "outputs": [],
   "source": []
  }
 ],
 "metadata": {
  "kernelspec": {
   "display_name": "Python 3 (ipykernel)",
   "language": "python",
   "name": "python3"
  },
  "language_info": {
   "codemirror_mode": {
    "name": "ipython",
    "version": 3
   },
   "file_extension": ".py",
   "mimetype": "text/x-python",
   "name": "python",
   "nbconvert_exporter": "python",
   "pygments_lexer": "ipython3",
   "version": "3.10.0"
  }
 },
 "nbformat": 4,
 "nbformat_minor": 5
}
