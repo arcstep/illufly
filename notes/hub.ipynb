{
 "cells": [
  {
   "cell_type": "code",
   "execution_count": 1,
   "id": "b24a2db2-ba55-4d39-b2c8-6f5fe938239e",
   "metadata": {},
   "outputs": [],
   "source": [
    "import os\n",
    "from dotenv import load_dotenv, find_dotenv\n",
    "load_dotenv(find_dotenv(), override=True)\n",
    "\n",
    "os.chdir('..')"
   ]
  },
  {
   "cell_type": "markdown",
   "id": "0bf17745-8090-413b-9b53-aa0c318bcadd",
   "metadata": {},
   "source": [
    "# HUB"
   ]
  },
  {
   "cell_type": "code",
   "execution_count": 2,
   "id": "2c1c944f-7474-4215-80f9-a47518e2bc86",
   "metadata": {},
   "outputs": [],
   "source": [
    "from langchain_core.prompts import ChatPromptTemplate, MessagesPlaceholder\n",
    "from textlong.hub import save_chat_prompt, load_chat_prompt, load_prompt"
   ]
  },
  {
   "cell_type": "markdown",
   "id": "9126e09b-5dc1-4430-954c-c3ee0a77e343",
   "metadata": {},
   "source": [
    "## load_prompt"
   ]
  },
  {
   "cell_type": "code",
   "execution_count": 3,
   "id": "16fcc674-8075-4b45-b200-1a9a53382e2d",
   "metadata": {},
   "outputs": [
    {
     "name": "stdout",
     "output_type": "stream",
     "text": [
      "你是强大的写作助手。\n",
      "\n",
      "你必须遵循以下约束来完成任务:\n",
      "- 按照markdown格式输出，直接输出你的结果，不要评论，不要啰嗦。\n",
      "- 输出的markdown内容使用`>->>>`和`<<<-<`包围。\n",
      "\n",
      "\n",
      "\n",
      "\n",
      "\n",
      "\n",
      "\n",
      "你的任务是:\n",
      "MY-TASK\n",
      "\n",
      "输出例子:\n",
      ">->>>\n",
      "你的markdown输出\n",
      "<<<-<\n",
      "\n",
      "你的输出:\n"
     ]
    }
   ],
   "source": [
    "print(load_prompt(\"创意\").format(task=\"MY-TASK\"))"
   ]
  },
  {
   "cell_type": "code",
   "execution_count": 4,
   "id": "91dab95b-d668-4836-8096-818ae896b824",
   "metadata": {},
   "outputs": [
    {
     "name": "stdout",
     "output_type": "stream",
     "text": [
      "你是强大的写作助手。\n",
      "\n",
      "你必须遵循以下约束来完成任务:\n",
      "- 按照markdown格式输出，直接输出你的结果，不要评论，不要啰嗦。\n",
      "- 输出的markdown内容使用`>->>>`和`<<<-<`包围。\n",
      "\n",
      "你还必须确保:\n",
      "1. 每一个提纲标题和对应内容都可以进一步独立扩写段落。\n",
      "3. 提纲标题中包括创意要点、创作思路、创作中涉及到的实体名称等具体扩写要求和限定。\n",
      "4. 你只能输出提纲，不要输出具体的扩写内容。\n",
      "5. 必须在标题中增加\"预估字数\"，并且注意所有提纲中\"预估字数\"的总和与任务中“总字数要求”的预期相符。\n",
      "\n",
      "\n",
      "\n",
      "\n",
      "\n",
      "\n",
      "你的任务是:\n",
      "MY-TASK\n",
      "\n",
      "输出例子:\n",
      ">->>>\n",
      "# xxx\n",
      "\n",
      "## XXXX（300字）\n",
      "<OUTLINE>\n",
      "扩写要求：\n",
      "- xxx\n",
      "- xxx\n",
      "</OUTLINE>\n",
      "\n",
      "## XXXX（300字）\n",
      "<OUTLINE>\n",
      "扩写要求：\n",
      "- xxx\n",
      "- xxx\n",
      "</OUTLINE>\n",
      "\n",
      "<<<-<\n",
      "\n",
      "你的输出:\n"
     ]
    }
   ],
   "source": [
    "print(load_prompt(\"提纲\").format(task=\"MY-TASK\"))"
   ]
  },
  {
   "cell_type": "code",
   "execution_count": 7,
   "id": "d78ed97a-da01-423f-ba1b-262f02b502c2",
   "metadata": {},
   "outputs": [
    {
     "name": "stdout",
     "output_type": "stream",
     "text": [
      "你是强大的写作助手。\n",
      "\n",
      "你必须遵循以下约束来完成任务:\n",
      "- 按照markdown格式输出，直接输出你的结果，不要评论，不要啰嗦。\n",
      "- 输出的markdown内容使用`>->>>`和`<<<-<`包围。\n",
      "\n",
      "\n",
      "\n",
      "AAA\n",
      "\n",
      "BBB\n",
      "\n",
      "你的任务是:\n",
      "MY-TASK\n",
      "\n",
      "输出例子:\n",
      ">->>>\n",
      "你的markdown输出\n",
      "<<<-<\n",
      "\n",
      "你的输出:\n"
     ]
    }
   ],
   "source": [
    "print(load_prompt(\"创意\").format(task=\"MY-TASK\", prev_doc=\"AAA\", next_doc=\"BBB\"))"
   ]
  },
  {
   "cell_type": "code",
   "execution_count": 8,
   "id": "6ed17046-1842-466a-ae42-ddbc797ae438",
   "metadata": {},
   "outputs": [
    {
     "name": "stdout",
     "output_type": "stream",
     "text": [
      "你擅长提炼文字摘要。\n",
      "\n",
      "你必须遵循以下约束来完成任务:\n",
      "1. 按照markdown格式输出，直接输出你的结果，不要评论，不要啰嗦。\n",
      "2. 输出的markdown内容使用`>->>>`和`<<<-<`包围。\n",
      "\n",
      "另外:\n",
      "你要提取以下资料中的业务概念、人员角色、工作流程、数据清单、引用，以及资料的内容摘要。\n",
      "其中：\n",
      "(1) 业务概念：\n",
      "- 涉及到的行业专业术语和解释\n",
      "- 业务流程中涉及到的概念和解释\n",
      "- 资料中提及的名称缩写或简称和解释\n",
      "\n",
      "(2) 人员角色：\n",
      "- 流程中涉及到的部门、岗位、角色或操作人员账户，以及对其简要描述\n",
      "- 按照组织、岗位、角色和人员账户分层次组织\n",
      "\n",
      "(3) 工作流程：\n",
      "- 明确规定的业务流程和简要描述\n",
      "- 不同情况下的风险处置流程和简要描述\n",
      "- 每个工作流程应当明确指出涉及到哪些角色、账户\n",
      "\n",
      "(4) 数据清单包括：\n",
      "- 明确指出的相关数据记录和主要数据字段\n",
      "- 业务流程操作中需要填写的表格和主要数据字段\n",
      "- 如果一个业务表格分为多种情况或形式，就按照层次分类组织数据清单\n",
      "\n",
      "(5) 引用包括：\n",
      "- 提及的规范、规定、引文出处\n",
      "\n",
      "你的任务是：\n",
      "MY-TASK\n",
      "\n",
      "资料如下：\n",
      "AAA\n",
      "\n",
      "输出例子:\n",
      ">->>>\n",
      "# XXX摘要\n",
      "## 业务概念\n",
      "...\n",
      "## 人员角色\n",
      "...\n",
      "\n",
      "<<<-<\n",
      "\n",
      "你的输出：\n"
     ]
    }
   ],
   "source": [
    "print(load_prompt(\"summarise\", \"技术\").format(task=\"MY-TASK\", info=\"AAA\"))"
   ]
  },
  {
   "cell_type": "markdown",
   "id": "7ae7ffe9-f03c-45bd-90fe-086f907bab36",
   "metadata": {},
   "source": [
    "## save_chat_prompt"
   ]
  },
  {
   "cell_type": "code",
   "execution_count": null,
   "id": "a2fe5fb0-0ca3-46a2-83f0-10a386560a96",
   "metadata": {},
   "outputs": [],
   "source": [
    "prompt = ChatPromptTemplate.from_messages([\n",
    "    (\"system\", \"你是一个翻译机器人，我说中文你就直接翻译成英文，不要啰嗦。\"),\n",
    "    (\"human\", \"你好\"),\n",
    "    (\"ai\", \"{hello}\"),\n",
    "    MessagesPlaceholder(\"history\"),\n",
    "    (\"human\", \"{input}\"),\n",
    "]).partial(hello=\"你也好啊\")\n",
    "\n",
    "print(prompt)\n"
   ]
  },
  {
   "cell_type": "code",
   "execution_count": 3,
   "id": "06516da7-dcc2-4622-9922-1ff706a217c0",
   "metadata": {},
   "outputs": [],
   "source": [
    "save_chat_prompt(prompt, template_id=\"translate\", project_id=\"project_test_hub\")"
   ]
  },
  {
   "cell_type": "markdown",
   "id": "bd8189bc-4c8a-4d26-acae-83cae6e50537",
   "metadata": {},
   "source": [
    "## load_chat_prompt"
   ]
  },
  {
   "cell_type": "code",
   "execution_count": 4,
   "id": "cff87b8d-7a54-4379-902a-3ac675260776",
   "metadata": {},
   "outputs": [
    {
     "data": {
      "text/plain": [
       "ChatPromptTemplate(input_variables=['history'], input_types={'history': typing.List[typing.Union[langchain_core.messages.ai.AIMessage, langchain_core.messages.human.HumanMessage, langchain_core.messages.chat.ChatMessage, langchain_core.messages.system.SystemMessage, langchain_core.messages.function.FunctionMessage, langchain_core.messages.tool.ToolMessage]]}, partial_variables={'hello': '你也好啊'}, messages=[SystemMessagePromptTemplate(prompt=PromptTemplate(input_variables=[], template='你是一个翻译机器人，我说中文你就直接翻译成英文，不要啰嗦。', template_format='mustache')), HumanMessagePromptTemplate(prompt=PromptTemplate(input_variables=[], template='你好', template_format='mustache')), AIMessagePromptTemplate(prompt=PromptTemplate(input_variables=[], template='{hello}', template_format='mustache')), MessagesPlaceholder(variable_name='history'), HumanMessagePromptTemplate(prompt=PromptTemplate(input_variables=[], template='{input}', template_format='mustache'))])"
      ]
     },
     "execution_count": 4,
     "metadata": {},
     "output_type": "execute_result"
    }
   ],
   "source": [
    "load_chat_prompt(template_id=\"translate\", project_id=\"project_test_hub\")"
   ]
  },
  {
   "cell_type": "code",
   "execution_count": null,
   "id": "3af8748b-467f-4bc7-bffb-c5a7c132e5b1",
   "metadata": {},
   "outputs": [],
   "source": []
  }
 ],
 "metadata": {
  "kernelspec": {
   "display_name": "langchani-book-py3.10-ipykernel",
   "language": "python",
   "name": "langchani-book-py3.10-ipykernel"
  },
  "language_info": {
   "codemirror_mode": {
    "name": "ipython",
    "version": 3
   },
   "file_extension": ".py",
   "mimetype": "text/x-python",
   "name": "python",
   "nbconvert_exporter": "python",
   "pygments_lexer": "ipython3",
   "version": "3.10.0"
  }
 },
 "nbformat": 4,
 "nbformat_minor": 5
}
