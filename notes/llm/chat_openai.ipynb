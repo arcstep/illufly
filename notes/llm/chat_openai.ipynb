{
 "cells": [
  {
   "cell_type": "code",
   "execution_count": 1,
   "id": "c3a54fa5-2a82-4f32-83e1-1514e8d35a0b",
   "metadata": {},
   "outputs": [],
   "source": [
    "from illufly.llm import ChatOpenAI\n",
    "import os"
   ]
  },
  {
   "cell_type": "code",
   "execution_count": 2,
   "id": "fc366a4c-4833-4739-b2dc-cf63486819b9",
   "metadata": {},
   "outputs": [
    {
     "data": {
      "text/plain": [
       "'https://open.bigmodel.cn/api/paas/v4/'"
      ]
     },
     "execution_count": 2,
     "metadata": {},
     "output_type": "execute_result"
    }
   ],
   "source": [
    "os.getenv(\"ZHIPU_BASE_URL\")"
   ]
  },
  {
   "cell_type": "code",
   "execution_count": 3,
   "id": "146c8f61-a551-4973-a83f-4fd94d14bfbf",
   "metadata": {},
   "outputs": [
    {
     "data": {
      "text/plain": [
       "ChatOpenAI(address=inproc://ChatOpenAI.281452169, service_name=ChatOpenAI.281452169)"
      ]
     },
     "execution_count": 3,
     "metadata": {},
     "output_type": "execute_result"
    }
   ],
   "source": [
    "chat = ChatOpenAI(prefix=\"QWEN\")\n",
    "chat"
   ]
  },
  {
   "cell_type": "code",
   "execution_count": 4,
   "id": "93409a98-dd88-45c3-8c48-b48639f30c88",
   "metadata": {},
   "outputs": [],
   "source": [
    "x = chat(\"你是什么模型?\")"
   ]
  },
  {
   "cell_type": "code",
   "execution_count": 6,
   "id": "34a71302-281e-4aa5-8b6a-bd16e41c5a6d",
   "metadata": {},
   "outputs": [
    {
     "name": "stdout",
     "output_type": "stream",
     "text": [
      "我是来自阿里云的大规模语言模型，我叫通义千问。"
     ]
    }
   ],
   "source": [
    "for e in x.collect([\"text_chunk\"]):\n",
    "    print(e.content, end=\"\")"
   ]
  },
  {
   "cell_type": "code",
   "execution_count": 12,
   "id": "4f570ee6-87e6-4c2c-ab56-22ce2bba6af9",
   "metadata": {},
   "outputs": [
    {
     "name": "stdout",
     "output_type": "stream",
     "text": [
      "您好！我是由中国的深度求索（DeepSeek）公司开发的智能助手DeepSeek-V3。如您有任何任何问题，我会尽我所能为您提供帮助。"
     ]
    }
   ],
   "source": [
    "deepseek = ChatOpenAI(prefix=\"DEEPSEEK\")\n",
    "for e in deepseek(\"你是什么模型\").collect(\"text_chunk\"):\n",
    "    print(e.content, end=\"\")"
   ]
  },
  {
   "cell_type": "code",
   "execution_count": 3,
   "id": "ee1bf182-d263-4fac-940e-1083f89a789c",
   "metadata": {},
   "outputs": [
    {
     "name": "stdout",
     "output_type": "stream",
     "text": [
      "我是一个基于深度学习的人工智能模型，具体来说，是采用了大量数据训练的神经网络模型。我的设计目的是为了理解和生成自然语言，以便能够与用户进行交流。我所使用的模型架构和训练数据可能因版本和具体应用场景的不同而有所差异。"
     ]
    }
   ],
   "source": [
    "zhipu = ChatOpenAI(prefix=\"ZHIPU\")\n",
    "sub = zhipu(\"你是什么模型\")\n",
    "for e in sub.collect(\"text_chunk\"):\n",
    "    print(e.content, end=\"\")"
   ]
  },
  {
   "cell_type": "code",
   "execution_count": 4,
   "id": "3c3f38b6-c6f8-4542-ba28-c07f49d5e3d8",
   "metadata": {},
   "outputs": [
    {
     "name": "stdout",
     "output_type": "stream",
     "text": [
      "很高兴认识你，一乐！如果你有任何问题或者想要聊聊天，随时告诉我，我会尽力帮助你。有什么我可以为你做的吗？"
     ]
    }
   ],
   "source": [
    "sub = zhipu(\"我叫一乐\")\n",
    "for e in sub.collect(\"text_chunk\"):\n",
    "    print(e.content, end=\"\")"
   ]
  },
  {
   "cell_type": "code",
   "execution_count": 7,
   "id": "8f1b66eb-6dda-4818-b1f7-0e7aa0311f45",
   "metadata": {},
   "outputs": [
    {
     "name": "stdout",
     "output_type": "stream",
     "text": [
      "你的名字听起来很有趣，一乐。如果你有关于“一乐”这个名字的任何问题，或者想要讨论任何话题，都可以告诉我，我会尽力提供帮助。"
     ]
    }
   ],
   "source": [
    "sub = zhipu(\"我的名字如何？\")\n",
    "for e in sub.collect(\"text_chunk\"):\n",
    "    print(e.content, end=\"\")"
   ]
  },
  {
   "cell_type": "code",
   "execution_count": null,
   "id": "7f9328b0-96aa-48ed-af09-d2e4a52d81d6",
   "metadata": {},
   "outputs": [],
   "source": [
    "zhipu.last_input"
   ]
  },
  {
   "cell_type": "code",
   "execution_count": null,
   "id": "c7eba285-4f64-4601-a382-2774a2165f7d",
   "metadata": {},
   "outputs": [],
   "source": [
    "zhipu.last_output"
   ]
  },
  {
   "cell_type": "code",
   "execution_count": 13,
   "id": "57c35823-84fd-459b-9f2b-95a3bd7b3c19",
   "metadata": {},
   "outputs": [
    {
     "name": "stdout",
     "output_type": "stream",
     "text": [
      "根据您当前关注的话题，以下是历史对话的拆分和总结，仅保留最近的谈话主题：\n",
      "\n",
      "1. **用户询问名字的印象**\n",
      "   - 您询问了您的名字“一乐”如何，我回应说这个名字很有趣。\n",
      "\n",
      "2. **请求主题分类**\n",
      "   - 您请求我将历史对话拆分为几个主题。我提供了帮助，并解释了如何进行主题分类。"
     ]
    }
   ],
   "source": [
    "sub = zhipu(f\"就我当前关注的话题将历史对话拆分，只保留最近的谈话主题，其他浓缩总结即可。注意你应当将用户称呼为“您”，将你自己称呼为“我”:\\n{zhipu.last_input}\")\n",
    "for e in sub.collect(\"text_chunk\"):\n",
    "    print(e.content, end=\"\")"
   ]
  },
  {
   "cell_type": "code",
   "execution_count": null,
   "id": "d7afbaeb-5add-4b05-bf5c-aa12497c7eaa",
   "metadata": {},
   "outputs": [],
   "source": []
  }
 ],
 "metadata": {
  "kernelspec": {
   "display_name": "Python 3 (ipykernel)",
   "language": "python",
   "name": "python3"
  },
  "language_info": {
   "codemirror_mode": {
    "name": "ipython",
    "version": 3
   },
   "file_extension": ".py",
   "mimetype": "text/x-python",
   "name": "python",
   "nbconvert_exporter": "python",
   "pygments_lexer": "ipython3",
   "version": "3.11.7"
  }
 },
 "nbformat": 4,
 "nbformat_minor": 5
}
