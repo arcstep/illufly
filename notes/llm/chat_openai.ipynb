{
 "cells": [
  {
   "cell_type": "markdown",
   "id": "0428ecb9-5b76-47f0-9e5d-e80089d4a3c0",
   "metadata": {},
   "source": [
    "## 验证环境变量"
   ]
  },
  {
   "cell_type": "code",
   "execution_count": 1,
   "id": "c3a54fa5-2a82-4f32-83e1-1514e8d35a0b",
   "metadata": {},
   "outputs": [],
   "source": [
    "from illufly.llm import ChatOpenAI\n",
    "import os"
   ]
  },
  {
   "cell_type": "code",
   "execution_count": 2,
   "id": "fc366a4c-4833-4739-b2dc-cf63486819b9",
   "metadata": {},
   "outputs": [
    {
     "data": {
      "text/plain": [
       "'https://open.bigmodel.cn/api/paas/v4/'"
      ]
     },
     "execution_count": 2,
     "metadata": {},
     "output_type": "execute_result"
    }
   ],
   "source": [
    "os.getenv(\"ZHIPU_BASE_URL\")"
   ]
  },
  {
   "cell_type": "markdown",
   "id": "c87b9b7f-f4fd-4762-9d64-4b02bfe461b3",
   "metadata": {},
   "source": [
    "## Qwen"
   ]
  },
  {
   "cell_type": "code",
   "execution_count": 3,
   "id": "146c8f61-a551-4973-a83f-4fd94d14bfbf",
   "metadata": {},
   "outputs": [
    {
     "data": {
      "text/plain": [
       "ChatOpenAI(address=inproc://ChatOpenAI.286440073, service_name=ChatOpenAI.286440073)"
      ]
     },
     "execution_count": 3,
     "metadata": {},
     "output_type": "execute_result"
    }
   ],
   "source": [
    "from illufly.llm import ChatOpenAI\n",
    "\n",
    "chat = ChatOpenAI(prefix=\"QWEN\")\n",
    "chat"
   ]
  },
  {
   "cell_type": "code",
   "execution_count": 4,
   "id": "93409a98-dd88-45c3-8c48-b48639f30c88",
   "metadata": {},
   "outputs": [],
   "source": [
    "x = chat(\"你是什么模型?\")"
   ]
  },
  {
   "cell_type": "code",
   "execution_count": 5,
   "id": "34a71302-281e-4aa5-8b6a-bd16e41c5a6d",
   "metadata": {},
   "outputs": [
    {
     "name": "stdout",
     "output_type": "stream",
     "text": [
      "我是一个基于人工智能的语言模型，具体来说是基于清华大学 KEG 实验室和智谱 AI 公司于 2024 年共同训练的语言模型 GLM-4。我的任务是针对用户的问题和要求提供适当的答复和支持。"
     ]
    }
   ],
   "source": [
    "for e in x.collect([\"text_chunk\"]):\n",
    "    print(e.content, end=\"\")"
   ]
  },
  {
   "cell_type": "markdown",
   "id": "e902d80b-1cfd-451c-8d88-3fe8f86ed92c",
   "metadata": {},
   "source": [
    "## DeepSeek"
   ]
  },
  {
   "cell_type": "code",
   "execution_count": 6,
   "id": "4f570ee6-87e6-4c2c-ab56-22ce2bba6af9",
   "metadata": {},
   "outputs": [
    {
     "name": "stdout",
     "output_type": "stream",
     "text": [
      "您好！我是由中国的深度求索（DeepSeek）公司开发的智能助手DeepSeek-V3。如您有任何任何问题，我会尽我所能为您提供帮助。"
     ]
    }
   ],
   "source": [
    "from illufly.llm import ChatOpenAI\n",
    "\n",
    "deepseek = ChatOpenAI(prefix=\"DEEPSEEK\")\n",
    "for e in deepseek(\"你是什么模型\").collect(\"text_chunk\"):\n",
    "    print(e.content, end=\"\")"
   ]
  },
  {
   "cell_type": "markdown",
   "id": "29f9a9b6-0d63-4e6c-8421-0c7ae5956b07",
   "metadata": {},
   "source": [
    "## ZhipuAI"
   ]
  },
  {
   "cell_type": "code",
   "execution_count": 1,
   "id": "ee1bf182-d263-4fac-940e-1083f89a789c",
   "metadata": {},
   "outputs": [],
   "source": [
    "from illufly.llm import ChatOpenAI\n",
    "from illufly.io.rocksdict import IndexedRocksDB\n",
    "\n",
    "db = IndexedRocksDB(path='/var/folders/f5/rlf27f4n6wzc_k4x7y4vzm5h0000gn/T/ILLUFLY_ROCKSDB_abc')\n",
    "zhipu = ChatOpenAI(prefix=\"ZHIPU\", db=db)"
   ]
  },
  {
   "cell_type": "code",
   "execution_count": 2,
   "id": "6f989246-1ce9-41a3-9031-7f5e6cb86ec8",
   "metadata": {},
   "outputs": [
    {
     "data": {
      "text/plain": [
       "[Thread(user_id='default', thread_id='bf8169b7bd124d1691d2b2ddfc4335df', title='', description='', created_at=datetime.datetime(2025, 1, 28, 17, 59, 40, 544598), updated_at=datetime.datetime(2025, 1, 28, 17, 59, 40, 544601))]"
      ]
     },
     "execution_count": 2,
     "metadata": {},
     "output_type": "execute_result"
    }
   ],
   "source": [
    "zhipu.l0_qa.all_threads()"
   ]
  },
  {
   "cell_type": "code",
   "execution_count": null,
   "id": "c5ae736b-d256-477a-8b29-46f0c82519bb",
   "metadata": {},
   "outputs": [],
   "source": [
    "zhipu.load_thread(\"7330df7f5a0048dc947a3cf3e8e51f92\")"
   ]
  },
  {
   "cell_type": "code",
   "execution_count": 2,
   "id": "fbe7f964-7eb8-4170-a1b0-10acf2c4d7f8",
   "metadata": {},
   "outputs": [
    {
     "data": {
      "text/plain": [
       "[Message(role='user', content='你是什么模型', timestamp=datetime.datetime(2025, 1, 28, 18, 2, 3, 735968)),\n",
       " Message(role='assistant', content='我是一个基于人工智能的语言模型，名为 ChatGLM。我是在清华大学 KEG 实验室和智谱 AI 公司于 2024 年共同训练的语言模型 GLM-4 的基础上开发的。我的任务是针对用户的问题和要求提供适当的答复和支持。', timestamp=datetime.datetime(2025, 1, 28, 18, 2, 5, 837052)),\n",
       " Message(role='user', content='我叫一乐', timestamp=datetime.datetime(2025, 1, 28, 18, 6, 3, 864393)),\n",
       " Message(role='assistant', content='你好，一乐！很高兴认识你。如果你有任何问题或者需要帮助，随时可以告诉我，我会尽力为你提供帮助。有什么我可以为你做的吗？', timestamp=datetime.datetime(2025, 1, 28, 18, 6, 5, 5830)),\n",
       " Message(role='user', content='我的名字如何？我的名字如何？我的名字如何？我的名字如何？', timestamp=datetime.datetime(2025, 1, 28, 18, 6, 6, 707844)),\n",
       " Message(role='assistant', content='你的名字“一乐”听起来很有意思，给人一种快乐、简单、直接的感觉。名字是个人身份的一部分，如果你的名字让你感到满意，那么它就是一个好名字。名字的好坏很大程度上取决于个人的喜好和它所传达的意义。如果你对自己的名字有疑问，可以分享一下你的顾虑，也许我能帮你从不同的角度来考虑。', timestamp=datetime.datetime(2025, 1, 28, 18, 6, 8, 610095))]"
      ]
     },
     "execution_count": 2,
     "metadata": {},
     "output_type": "execute_result"
    }
   ],
   "source": [
    "zhipu.history"
   ]
  },
  {
   "cell_type": "code",
   "execution_count": 5,
   "id": "9a7ea800-da77-4478-b74c-b31b88dbe756",
   "metadata": {},
   "outputs": [
    {
     "name": "stdout",
     "output_type": "stream",
     "text": [
      "我是一个基于人工智能的语言模型，名为 ChatGLM。我是在清华大学 KEG 实验室和智谱 AI 公司于 2024 年共同训练的语言模型 GLM-4 的基础上开发的。我的任务是针对用户的问题和要求提供适当的答复和支持。"
     ]
    }
   ],
   "source": [
    "sub = zhipu(\"你是什么模型\")\n",
    "for e in sub.collect(\"text_chunk\"):\n",
    "    print(e.content, end=\"\")"
   ]
  },
  {
   "cell_type": "code",
   "execution_count": 7,
   "id": "3c3f38b6-c6f8-4542-ba28-c07f49d5e3d8",
   "metadata": {},
   "outputs": [
    {
     "name": "stdout",
     "output_type": "stream",
     "text": [
      "你好，一乐！很高兴认识你。如果你有任何问题或者需要帮助，随时可以告诉我，我会尽力为你提供帮助。有什么我可以为你做的吗？"
     ]
    }
   ],
   "source": [
    "sub = zhipu(\"我叫一乐\")\n",
    "for e in sub.collect(\"text_chunk\"):\n",
    "    print(e.content, end=\"\")"
   ]
  },
  {
   "cell_type": "code",
   "execution_count": 8,
   "id": "8f1b66eb-6dda-4818-b1f7-0e7aa0311f45",
   "metadata": {},
   "outputs": [
    {
     "name": "stdout",
     "output_type": "stream",
     "text": [
      "你的名字“一乐”听起来很有意思，给人一种快乐、简单、直接的感觉。名字是个人身份的一部分，如果你的名字让你感到满意，那么它就是一个好名字。名字的好坏很大程度上取决于个人的喜好和它所传达的意义。如果你对自己的名字有疑问，可以分享一下你的顾虑，也许我能帮你从不同的角度来考虑。"
     ]
    }
   ],
   "source": [
    "sub = zhipu(\"我的名字如何？\"*4)\n",
    "for e in sub.collect(\"text_chunk\"):\n",
    "    print(e.content, end=\"\")"
   ]
  },
  {
   "cell_type": "code",
   "execution_count": 5,
   "id": "7f9328b0-96aa-48ed-af09-d2e4a52d81d6",
   "metadata": {},
   "outputs": [
    {
     "name": "stdout",
     "output_type": "stream",
     "text": [
      "一乐名中来，喜气满心怀，\n",
      "笑迎春色至，乐伴岁月归。\n",
      "天地共欢颂，此名永流传，\n",
      "一乐世间行，喜乐常相伴。"
     ]
    }
   ],
   "source": [
    "sub = zhipu(\"你能为我的名字写一首4句诗吗？\")\n",
    "for e in sub.collect(\"text_chunk\"):\n",
    "    print(e.content, end=\"\")"
   ]
  },
  {
   "cell_type": "code",
   "execution_count": 9,
   "id": "af278676-dbe3-4265-8782-5cd40dc1898c",
   "metadata": {},
   "outputs": [
    {
     "data": {
      "text/plain": [
       "[Message(role='user', content='你是什么模型', timestamp=datetime.datetime(2025, 1, 28, 18, 2, 3, 735968)),\n",
       " Message(role='assistant', content='我是一个基于人工智能的语言模型，名为 ChatGLM。我是在清华大学 KEG 实验室和智谱 AI 公司于 2024 年共同训练的语言模型 GLM-4 的基础上开发的。我的任务是针对用户的问题和要求提供适当的答复和支持。', timestamp=datetime.datetime(2025, 1, 28, 18, 2, 5, 837052)),\n",
       " Message(role='user', content='我叫一乐', timestamp=datetime.datetime(2025, 1, 28, 18, 6, 3, 864393)),\n",
       " Message(role='assistant', content='你好，一乐！很高兴认识你。如果你有任何问题或者需要帮助，随时可以告诉我，我会尽力为你提供帮助。有什么我可以为你做的吗？', timestamp=datetime.datetime(2025, 1, 28, 18, 6, 5, 5830)),\n",
       " Message(role='user', content='我的名字如何？我的名字如何？我的名字如何？我的名字如何？', timestamp=datetime.datetime(2025, 1, 28, 18, 6, 6, 707844)),\n",
       " Message(role='assistant', content='你的名字“一乐”听起来很有意思，给人一种快乐、简单、直接的感觉。名字是个人身份的一部分，如果你的名字让你感到满意，那么它就是一个好名字。名字的好坏很大程度上取决于个人的喜好和它所传达的意义。如果你对自己的名字有疑问，可以分享一下你的顾虑，也许我能帮你从不同的角度来考虑。', timestamp=datetime.datetime(2025, 1, 28, 18, 6, 8, 610095))]"
      ]
     },
     "execution_count": 9,
     "metadata": {},
     "output_type": "execute_result"
    }
   ],
   "source": [
    "zhipu.history"
   ]
  },
  {
   "cell_type": "code",
   "execution_count": 7,
   "id": "c52bd8bf-249a-45e4-ae36-61d5a7596bca",
   "metadata": {},
   "outputs": [
    {
     "data": {
      "text/plain": [
       "[{'role': 'user', 'content': '你是什么模型'},\n",
       " {'role': 'assistant',\n",
       "  'content': '我是一个基于人工智能的语言模型，具体来说是基于清华大学 KEG 实验室和智谱 AI 公司于 2024 年共同训练的语言模型 GLM-4。我的任务是针对用户的问题和要求提供适当的答复和支持。'},\n",
       " {'role': 'user', 'content': '我叫一乐'},\n",
       " {'role': 'assistant',\n",
       "  'content': '你好，一乐！很高兴认识你。有什么可以帮助你的吗？无论是聊天还是解答问题，我都会尽力为你提供帮助。'},\n",
       " {'role': 'user', 'content': '我的名字如何？我的名字如何？我的名字如何？我的名字如何？'},\n",
       " {'role': 'assistant',\n",
       "  'content': '你的名字“一乐”听起来很有趣和独特。它给人一种快乐、积极的感觉，好像寓意着带来快乐或者本身就是快乐本身。在不同的文化和语境中，名字的含义和寓意可能会有所不同，但就字面意义而言，“一乐”是一个很好的名字。如果你对自己的名字有特别的情感或者想要了解更多关于它的含义，可以分享更多背景信息，我会尽力帮助你探索。'},\n",
       " {'role': 'user', 'content': '你能为我的名字写一首4句诗吗？'},\n",
       " {'role': 'assistant',\n",
       "  'content': '一乐名中来，喜气满心怀，\\n笑迎春色至，乐伴岁月归。\\n天地共欢颂，此名永流传，\\n一乐世间行，喜乐常相伴。'}]"
      ]
     },
     "execution_count": 7,
     "metadata": {},
     "output_type": "execute_result"
    }
   ],
   "source": [
    "zhipu.history_messages"
   ]
  },
  {
   "cell_type": "code",
   "execution_count": 14,
   "id": "57c35823-84fd-459b-9f2b-95a3bd7b3c19",
   "metadata": {},
   "outputs": [
    {
     "name": "stdout",
     "output_type": "stream",
     "text": [
      "您：你能为我的名字写一首4句诗吗？\n",
      "我：一乐悠然步云端，\n",
      "笑迎春风入画船。\n",
      "心中自有逍遥意，\n",
      "世间繁华皆过眼。"
     ]
    }
   ],
   "source": [
    "# 常识拆分话题\n",
    "sub = zhipu(f\"就我当前关注的话题将历史对话拆分，只保留最近的谈话主题，其他浓缩总结即可。注意你应当将用户称呼为“您”，将你自己称呼为“我”:\\n{zhipu.history_messages}\")\n",
    "for e in sub.collect(\"text_chunk\"):\n",
    "    print(e.content, end=\"\")"
   ]
  },
  {
   "cell_type": "code",
   "execution_count": 6,
   "id": "2a086e0d-d8c5-4011-a34d-d8b57a492edb",
   "metadata": {},
   "outputs": [
    {
     "data": {
      "text/plain": [
       "'我的名字如何？我的名字如何？我的名字如何？我的名字如何？'"
      ]
     },
     "execution_count": 6,
     "metadata": {},
     "output_type": "execute_result"
    }
   ],
   "source": [
    "zhipu.all_QAs[-1].question"
   ]
  },
  {
   "cell_type": "code",
   "execution_count": 9,
   "id": "71388ae8-6f2f-4b58-82d7-b1f2058461a0",
   "metadata": {},
   "outputs": [
    {
     "data": {
      "text/plain": [
       "[]"
      ]
     },
     "execution_count": 9,
     "metadata": {},
     "output_type": "execute_result"
    }
   ],
   "source": [
    "zhipu.history"
   ]
  },
  {
   "cell_type": "code",
   "execution_count": 8,
   "id": "b4f98b98-f1b1-4ab1-b6eb-58e28376d878",
   "metadata": {},
   "outputs": [],
   "source": [
    "zhipu.new_thread()"
   ]
  },
  {
   "cell_type": "code",
   "execution_count": 11,
   "id": "5adb06a1-bc0e-43d7-b050-4fd55a77d940",
   "metadata": {},
   "outputs": [
    {
     "data": {
      "text/plain": [
       "[Thread(user_id='default', thread_id='113f0f58f5c448759ef6899d8ae35bd1', title='', description='', created_at=datetime.datetime(2025, 1, 28, 21, 0, 20, 960970), updated_at=datetime.datetime(2025, 1, 28, 21, 0, 20, 960978)),\n",
       " Thread(user_id='default', thread_id='bf8169b7bd124d1691d2b2ddfc4335df', title='', description='', created_at=datetime.datetime(2025, 1, 28, 17, 59, 40, 544598), updated_at=datetime.datetime(2025, 1, 28, 17, 59, 40, 544601))]"
      ]
     },
     "execution_count": 11,
     "metadata": {},
     "output_type": "execute_result"
    }
   ],
   "source": [
    "zhipu.l0_qa.all_threads()"
   ]
  }
 ],
 "metadata": {
  "kernelspec": {
   "display_name": "Python 3 (ipykernel)",
   "language": "python",
   "name": "python3"
  },
  "language_info": {
   "codemirror_mode": {
    "name": "ipython",
    "version": 3
   },
   "file_extension": ".py",
   "mimetype": "text/x-python",
   "name": "python",
   "nbconvert_exporter": "python",
   "pygments_lexer": "ipython3",
   "version": "3.11.7"
  }
 },
 "nbformat": 4,
 "nbformat_minor": 5
}
