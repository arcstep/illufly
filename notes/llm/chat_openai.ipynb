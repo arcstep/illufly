{
 "cells": [
  {
   "cell_type": "code",
   "execution_count": 1,
   "id": "c3a54fa5-2a82-4f32-83e1-1514e8d35a0b",
   "metadata": {},
   "outputs": [],
   "source": [
    "from illufly.llm import ChatOpenAI"
   ]
  },
  {
   "cell_type": "code",
   "execution_count": 16,
   "id": "146c8f61-a551-4973-a83f-4fd94d14bfbf",
   "metadata": {},
   "outputs": [],
   "source": [
    "chat = ChatOpenAI(prefix=\"QWEN\", service_name=\"mychat\", enable_cache=True)"
   ]
  },
  {
   "cell_type": "code",
   "execution_count": 17,
   "id": "93409a98-dd88-45c3-8c48-b48639f30c88",
   "metadata": {},
   "outputs": [
    {
     "name": "stderr",
     "output_type": "stream",
     "text": [
      "2025-01-19 00:18:50 - illufly.base.base_call - WARNING - Cache hit for openai.resources.chat.completions.create.874409fb4ee7efa1b53057748d770ead27d6ec6f16bb4fb4928d696a5fefc97d.718098964af3263d7f69813b69550d441b66a8c0c5ef635009fc7ab9abc69bf1\n"
     ]
    }
   ],
   "source": [
    "x = chat(\"你是什么模型?\")"
   ]
  },
  {
   "cell_type": "code",
   "execution_count": 18,
   "id": "eb959a76-3115-4f24-bd1f-4e6be2807cc2",
   "metadata": {},
   "outputs": [
    {
     "name": "stderr",
     "output_type": "stream",
     "text": [
      "2025-01-19 00:18:51 - illufly.base.base_call - WARNING - Cache hit for openai.resources.chat.completions.create.874409fb4ee7efa1b53057748d770ead27d6ec6f16bb4fb4928d696a5fefc97d.718098964af3263d7f69813b69550d441b66a8c0c5ef635009fc7ab9abc69bf1\n"
     ]
    }
   ],
   "source": [
    "x = chat(\"你是什么模型?\")"
   ]
  },
  {
   "cell_type": "code",
   "execution_count": 15,
   "id": "2ada0ade-ac66-4289-b615-46f072b0a82f",
   "metadata": {},
   "outputs": [
    {
     "name": "stdout",
     "output_type": "stream",
     "text": [
      "我是一个通义千问语言模型，由阿里云开发。我是基于大量的文本数据和人工智能算法训练而成的，可以用来回答各种问题、提供信息查询服务等。作为一个AI助手，我会尽力为您提供准确、可靠的帮助。如果您有任何问题，请随时告诉我。"
     ]
    }
   ],
   "source": [
    "for e in x:\n",
    "    if e.block_type == \"chunk\":\n",
    "        print(e.content, end=\"\")"
   ]
  },
  {
   "cell_type": "code",
   "execution_count": 13,
   "id": "b8951d22-2513-4a0c-8ff5-a9ccffa4fb43",
   "metadata": {},
   "outputs": [
    {
     "data": {
      "text/plain": [
       "[StreamingBlock(block_type='start', block_content='', content=None, topic='mychat.dbb69b9e-d5b7-11ef-81e9-acde48001122'),\n",
       " StreamingBlock(block_type='chunk', block_content='', content='我', topic='mychat.dbb69b9e-d5b7-11ef-81e9-acde48001122'),\n",
       " StreamingBlock(block_type='chunk', block_content='', content='是一个', topic='mychat.dbb69b9e-d5b7-11ef-81e9-acde48001122'),\n",
       " StreamingBlock(block_type='chunk', block_content='', content='通', topic='mychat.dbb69b9e-d5b7-11ef-81e9-acde48001122'),\n",
       " StreamingBlock(block_type='chunk', block_content='', content='义千问语言模型', topic='mychat.dbb69b9e-d5b7-11ef-81e9-acde48001122'),\n",
       " StreamingBlock(block_type='chunk', block_content='', content='，由阿里云开发。我是基于', topic='mychat.dbb69b9e-d5b7-11ef-81e9-acde48001122'),\n",
       " StreamingBlock(block_type='chunk', block_content='', content='大量的文本数据和人工智能算法训练而成', topic='mychat.dbb69b9e-d5b7-11ef-81e9-acde48001122'),\n",
       " StreamingBlock(block_type='chunk', block_content='', content='的，可以用来回答各种问题、', topic='mychat.dbb69b9e-d5b7-11ef-81e9-acde48001122'),\n",
       " StreamingBlock(block_type='chunk', block_content='', content='提供信息查询服务等。作为一个AI', topic='mychat.dbb69b9e-d5b7-11ef-81e9-acde48001122'),\n",
       " StreamingBlock(block_type='chunk', block_content='', content='助手，我会尽力为您提供准确、可靠的', topic='mychat.dbb69b9e-d5b7-11ef-81e9-acde48001122'),\n",
       " StreamingBlock(block_type='chunk', block_content='', content='帮助。如果您有任何问题，请随时告诉我', topic='mychat.dbb69b9e-d5b7-11ef-81e9-acde48001122'),\n",
       " StreamingBlock(block_type='chunk', block_content='', content='。', topic='mychat.dbb69b9e-d5b7-11ef-81e9-acde48001122'),\n",
       " StreamingBlock(block_type='end', block_content='', content=None, topic='mychat.dbb69b9e-d5b7-11ef-81e9-acde48001122')]"
      ]
     },
     "execution_count": 13,
     "metadata": {},
     "output_type": "execute_result"
    }
   ],
   "source": [
    "list(x)"
   ]
  },
  {
   "cell_type": "code",
   "execution_count": null,
   "id": "43407f9d-ac36-4a6a-989c-0ea3cce0f3ba",
   "metadata": {},
   "outputs": [],
   "source": []
  }
 ],
 "metadata": {
  "kernelspec": {
   "display_name": "Python 3 (ipykernel)",
   "language": "python",
   "name": "python3"
  },
  "language_info": {
   "codemirror_mode": {
    "name": "ipython",
    "version": 3
   },
   "file_extension": ".py",
   "mimetype": "text/x-python",
   "name": "python",
   "nbconvert_exporter": "python",
   "pygments_lexer": "ipython3",
   "version": "3.11.7"
  }
 },
 "nbformat": 4,
 "nbformat_minor": 5
}
