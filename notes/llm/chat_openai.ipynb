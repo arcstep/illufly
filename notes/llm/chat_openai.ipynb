{
 "cells": [
  {
   "cell_type": "code",
   "execution_count": 1,
   "id": "c3a54fa5-2a82-4f32-83e1-1514e8d35a0b",
   "metadata": {},
   "outputs": [],
   "source": [
    "from illufly.llm import ChatOpenAI\n",
    "from illufly.envir import get_env\n",
    "import logging\n",
    "logging.basicConfig(level=logging.DEBUG)"
   ]
  },
  {
   "cell_type": "code",
   "execution_count": 2,
   "id": "fc366a4c-4833-4739-b2dc-cf63486819b9",
   "metadata": {},
   "outputs": [
    {
     "data": {
      "text/plain": [
       "'/var/folders/f5/rlf27f4n6wzc_k4x7y4vzm5h0000gn/T/__ILLUFLY__/CACHE_CALL'"
      ]
     },
     "execution_count": 2,
     "metadata": {},
     "output_type": "execute_result"
    }
   ],
   "source": [
    "get_env(\"ILLUFLY_CACHE_CALL\")"
   ]
  },
  {
   "cell_type": "code",
   "execution_count": 3,
   "id": "146c8f61-a551-4973-a83f-4fd94d14bfbf",
   "metadata": {},
   "outputs": [],
   "source": [
    "chat = ChatOpenAI(prefix=\"QWEN\", service_name=\"mychat\")"
   ]
  },
  {
   "cell_type": "code",
   "execution_count": 4,
   "id": "93409a98-dd88-45c3-8c48-b48639f30c88",
   "metadata": {},
   "outputs": [
    {
     "name": "stderr",
     "output_type": "stream",
     "text": [
      "2025-01-20 18:45:27 - illufly.base.base_call - WARNING - openai response: ChatCompletionChunk(id='chatcmpl-9c818e70-16fb-9c05-9dc4-d79a3596e376', choices=[Choice(delta=ChoiceDelta(content='', function_call=None, refusal=None, role='assistant', tool_calls=None), finish_reason=None, index=0, logprobs=None)], created=1737369927, model='qwen-vl-plus', object='chat.completion.chunk', service_tier=None, system_fingerprint=None, usage=None)\n",
      "2025-01-20 18:45:27 - illufly.base.base_call - WARNING - openai response: ChatCompletionChunk(id='chatcmpl-9c818e70-16fb-9c05-9dc4-d79a3596e376', choices=[Choice(delta=ChoiceDelta(content='我', function_call=None, refusal=None, role=None, tool_calls=None), finish_reason=None, index=0, logprobs=None)], created=1737369927, model='qwen-vl-plus', object='chat.completion.chunk', service_tier=None, system_fingerprint=None, usage=None)\n",
      "2025-01-20 18:45:27 - illufly.base.base_call - WARNING - openai response: ChatCompletionChunk(id='chatcmpl-9c818e70-16fb-9c05-9dc4-d79a3596e376', choices=[Choice(delta=ChoiceDelta(content='是一个', function_call=None, refusal=None, role=None, tool_calls=None), finish_reason=None, index=0, logprobs=None)], created=1737369927, model='qwen-vl-plus', object='chat.completion.chunk', service_tier=None, system_fingerprint=None, usage=None)\n",
      "2025-01-20 18:45:27 - illufly.base.base_call - WARNING - openai response: ChatCompletionChunk(id='chatcmpl-9c818e70-16fb-9c05-9dc4-d79a3596e376', choices=[Choice(delta=ChoiceDelta(content='通', function_call=None, refusal=None, role=None, tool_calls=None), finish_reason=None, index=0, logprobs=None)], created=1737369927, model='qwen-vl-plus', object='chat.completion.chunk', service_tier=None, system_fingerprint=None, usage=None)\n",
      "2025-01-20 18:45:27 - illufly.base.base_call - WARNING - openai response: ChatCompletionChunk(id='chatcmpl-9c818e70-16fb-9c05-9dc4-d79a3596e376', choices=[Choice(delta=ChoiceDelta(content='义千问语言模型', function_call=None, refusal=None, role=None, tool_calls=None), finish_reason=None, index=0, logprobs=None)], created=1737369927, model='qwen-vl-plus', object='chat.completion.chunk', service_tier=None, system_fingerprint=None, usage=None)\n",
      "2025-01-20 18:45:27 - illufly.base.base_call - WARNING - openai response: ChatCompletionChunk(id='chatcmpl-9c818e70-16fb-9c05-9dc4-d79a3596e376', choices=[Choice(delta=ChoiceDelta(content='，由阿里云开发。我是基于', function_call=None, refusal=None, role=None, tool_calls=None), finish_reason=None, index=0, logprobs=None)], created=1737369927, model='qwen-vl-plus', object='chat.completion.chunk', service_tier=None, system_fingerprint=None, usage=None)\n",
      "2025-01-20 18:45:27 - illufly.base.base_call - WARNING - openai response: ChatCompletionChunk(id='chatcmpl-9c818e70-16fb-9c05-9dc4-d79a3596e376', choices=[Choice(delta=ChoiceDelta(content='大量的文本数据和人工智能算法训练而成', function_call=None, refusal=None, role=None, tool_calls=None), finish_reason=None, index=0, logprobs=None)], created=1737369927, model='qwen-vl-plus', object='chat.completion.chunk', service_tier=None, system_fingerprint=None, usage=None)\n",
      "2025-01-20 18:45:28 - illufly.base.base_call - WARNING - openai response: ChatCompletionChunk(id='chatcmpl-9c818e70-16fb-9c05-9dc4-d79a3596e376', choices=[Choice(delta=ChoiceDelta(content='的，可以用来回答各种问题、', function_call=None, refusal=None, role=None, tool_calls=None), finish_reason=None, index=0, logprobs=None)], created=1737369927, model='qwen-vl-plus', object='chat.completion.chunk', service_tier=None, system_fingerprint=None, usage=None)\n",
      "2025-01-20 18:45:28 - illufly.base.base_call - WARNING - openai response: ChatCompletionChunk(id='chatcmpl-9c818e70-16fb-9c05-9dc4-d79a3596e376', choices=[Choice(delta=ChoiceDelta(content='提供信息查询服务等。作为一个AI', function_call=None, refusal=None, role=None, tool_calls=None), finish_reason=None, index=0, logprobs=None)], created=1737369927, model='qwen-vl-plus', object='chat.completion.chunk', service_tier=None, system_fingerprint=None, usage=None)\n",
      "2025-01-20 18:45:28 - illufly.base.base_call - WARNING - openai response: ChatCompletionChunk(id='chatcmpl-9c818e70-16fb-9c05-9dc4-d79a3596e376', choices=[Choice(delta=ChoiceDelta(content='助手，我会尽力为您提供准确、可靠的', function_call=None, refusal=None, role=None, tool_calls=None), finish_reason=None, index=0, logprobs=None)], created=1737369927, model='qwen-vl-plus', object='chat.completion.chunk', service_tier=None, system_fingerprint=None, usage=None)\n",
      "2025-01-20 18:45:28 - illufly.base.base_call - WARNING - openai response: ChatCompletionChunk(id='chatcmpl-9c818e70-16fb-9c05-9dc4-d79a3596e376', choices=[Choice(delta=ChoiceDelta(content='帮助。如果您有任何问题，请随时告诉我', function_call=None, refusal=None, role=None, tool_calls=None), finish_reason=None, index=0, logprobs=None)], created=1737369927, model='qwen-vl-plus', object='chat.completion.chunk', service_tier=None, system_fingerprint=None, usage=None)\n",
      "2025-01-20 18:45:28 - illufly.base.base_call - WARNING - openai response: ChatCompletionChunk(id='chatcmpl-9c818e70-16fb-9c05-9dc4-d79a3596e376', choices=[Choice(delta=ChoiceDelta(content='。', function_call=None, refusal=None, role=None, tool_calls=None), finish_reason='stop', index=0, logprobs=None)], created=1737369927, model='qwen-vl-plus', object='chat.completion.chunk', service_tier=None, system_fingerprint=None, usage=None)\n"
     ]
    }
   ],
   "source": [
    "x = chat(\"你是什么模型?\")"
   ]
  },
  {
   "cell_type": "code",
   "execution_count": 24,
   "id": "34a71302-281e-4aa5-8b6a-bd16e41c5a6d",
   "metadata": {},
   "outputs": [
    {
     "name": "stdout",
     "output_type": "stream",
     "text": [
      "我是一个通义千问语言模型，由阿里云开发。我是基于大量的文本数据和人工智能算法训练而成的，可以用来回答各种问题、提供信息查询服务等。作为一个AI助手，我会尽力为您提供准确、可靠的帮助。如果您有任何问题，请随时告诉我。"
     ]
    }
   ],
   "source": [
    "for e in x.collect():\n",
    "    if e.block_type == \"chunk\":\n",
    "        print(e.content, end=\"\")"
   ]
  },
  {
   "cell_type": "code",
   "execution_count": 25,
   "id": "ee1bf182-d263-4fac-940e-1083f89a789c",
   "metadata": {},
   "outputs": [
    {
     "data": {
      "text/plain": [
       "[StreamingBlock(block_type='start', block_content='', content=None, topic='mychat.3e7393e3-6da3-4f4a-854b-0a0ef53ff3a3', created_at=1737369859.3417768),\n",
       " StreamingBlock(block_type='chunk', block_content='', content='我', topic='mychat.3e7393e3-6da3-4f4a-854b-0a0ef53ff3a3', created_at=1737369859.681382),\n",
       " StreamingBlock(block_type='chunk', block_content='', content='是一个', topic='mychat.3e7393e3-6da3-4f4a-854b-0a0ef53ff3a3', created_at=1737369859.6944609),\n",
       " StreamingBlock(block_type='chunk', block_content='', content='通', topic='mychat.3e7393e3-6da3-4f4a-854b-0a0ef53ff3a3', created_at=1737369859.7104168),\n",
       " StreamingBlock(block_type='chunk', block_content='', content='义千问语言模型', topic='mychat.3e7393e3-6da3-4f4a-854b-0a0ef53ff3a3', created_at=1737369859.7868319),\n",
       " StreamingBlock(block_type='chunk', block_content='', content='，由阿里云开发。我是基于', topic='mychat.3e7393e3-6da3-4f4a-854b-0a0ef53ff3a3', created_at=1737369859.9814248),\n",
       " StreamingBlock(block_type='chunk', block_content='', content='大量的文本数据和人工智能算法训练而成', topic='mychat.3e7393e3-6da3-4f4a-854b-0a0ef53ff3a3', created_at=1737369860.113729),\n",
       " StreamingBlock(block_type='chunk', block_content='', content='的，可以用来回答各种问题、', topic='mychat.3e7393e3-6da3-4f4a-854b-0a0ef53ff3a3', created_at=1737369860.305697),\n",
       " StreamingBlock(block_type='chunk', block_content='', content='提供信息查询服务等。作为一个AI', topic='mychat.3e7393e3-6da3-4f4a-854b-0a0ef53ff3a3', created_at=1737369860.43856),\n",
       " StreamingBlock(block_type='chunk', block_content='', content='助手，我会尽力为您提供准确、可靠的', topic='mychat.3e7393e3-6da3-4f4a-854b-0a0ef53ff3a3', created_at=1737369860.639074),\n",
       " StreamingBlock(block_type='chunk', block_content='', content='帮助。如果您有任何问题，请随时告诉我', topic='mychat.3e7393e3-6da3-4f4a-854b-0a0ef53ff3a3', created_at=1737369860.7686331),\n",
       " StreamingBlock(block_type='chunk', block_content='', content='。', topic='mychat.3e7393e3-6da3-4f4a-854b-0a0ef53ff3a3', created_at=1737369860.835504),\n",
       " StreamingBlock(block_type='end', block_content='', content=None, topic='', created_at=1737369860.8846662)]"
      ]
     },
     "execution_count": 25,
     "metadata": {},
     "output_type": "execute_result"
    }
   ],
   "source": [
    "list(x.collect())"
   ]
  },
  {
   "cell_type": "code",
   "execution_count": 26,
   "id": "eb959a76-3115-4f24-bd1f-4e6be2807cc2",
   "metadata": {},
   "outputs": [],
   "source": [
    "x = chat(\"能告诉我你所使用的具体是什么模型版本吗？\")"
   ]
  },
  {
   "cell_type": "code",
   "execution_count": 27,
   "id": "2ada0ade-ac66-4289-b615-46f072b0a82f",
   "metadata": {},
   "outputs": [
    {
     "name": "stdout",
     "output_type": "stream",
     "text": [
      "我是一个AI助手，我的背后是基于大量的机器学习和自然语言处理算法。我没有具体的模型版本号，因为我是通过不断的学习和优化来提供服务的。如果你有关于特定问题或者任务的问题，我会尽我所能为你提供帮助。"
     ]
    }
   ],
   "source": [
    "for e in x.collect():\n",
    "    if e.block_type == \"chunk\":\n",
    "        print(e.content, end=\"\")"
   ]
  },
  {
   "cell_type": "code",
   "execution_count": 28,
   "id": "b8951d22-2513-4a0c-8ff5-a9ccffa4fb43",
   "metadata": {},
   "outputs": [
    {
     "data": {
      "text/plain": [
       "[StreamingBlock(block_type='start', block_content='', content=None, topic='mychat.1302b387-3392-45ab-ba36-709950373851', created_at=1737369875.82444),\n",
       " StreamingBlock(block_type='chunk', block_content='', content='我', topic='mychat.1302b387-3392-45ab-ba36-709950373851', created_at=1737369876.143198),\n",
       " StreamingBlock(block_type='chunk', block_content='', content='是一个', topic='mychat.1302b387-3392-45ab-ba36-709950373851', created_at=1737369876.156332),\n",
       " StreamingBlock(block_type='chunk', block_content='', content='AI', topic='mychat.1302b387-3392-45ab-ba36-709950373851', created_at=1737369876.1707048),\n",
       " StreamingBlock(block_type='chunk', block_content='', content='助手，我的背后是', topic='mychat.1302b387-3392-45ab-ba36-709950373851', created_at=1737369876.254754),\n",
       " StreamingBlock(block_type='chunk', block_content='', content='基于大量的机器学习和自然语言处理', topic='mychat.1302b387-3392-45ab-ba36-709950373851', created_at=1737369876.492689),\n",
       " StreamingBlock(block_type='chunk', block_content='', content='算法。我没有具体的模型版本号，', topic='mychat.1302b387-3392-45ab-ba36-709950373851', created_at=1737369876.582248),\n",
       " StreamingBlock(block_type='chunk', block_content='', content='因为我是通过不断的学习和优化来', topic='mychat.1302b387-3392-45ab-ba36-709950373851', created_at=1737369876.789492),\n",
       " StreamingBlock(block_type='chunk', block_content='', content='提供服务的。如果你有关于特定', topic='mychat.1302b387-3392-45ab-ba36-709950373851', created_at=1737369876.912071),\n",
       " StreamingBlock(block_type='chunk', block_content='', content='问题或者任务的问题，我会尽我', topic='mychat.1302b387-3392-45ab-ba36-709950373851', created_at=1737369877.101253),\n",
       " StreamingBlock(block_type='chunk', block_content='', content='所能为你提供帮助。', topic='mychat.1302b387-3392-45ab-ba36-709950373851', created_at=1737369877.23105),\n",
       " StreamingBlock(block_type='end', block_content='', content=None, topic='', created_at=1737369877.276344)]"
      ]
     },
     "execution_count": 28,
     "metadata": {},
     "output_type": "execute_result"
    }
   ],
   "source": [
    "list(x.collect())"
   ]
  },
  {
   "cell_type": "code",
   "execution_count": null,
   "id": "43407f9d-ac36-4a6a-989c-0ea3cce0f3ba",
   "metadata": {},
   "outputs": [],
   "source": []
  }
 ],
 "metadata": {
  "kernelspec": {
   "display_name": "Python 3 (ipykernel)",
   "language": "python",
   "name": "python3"
  },
  "language_info": {
   "codemirror_mode": {
    "name": "ipython",
    "version": 3
   },
   "file_extension": ".py",
   "mimetype": "text/x-python",
   "name": "python",
   "nbconvert_exporter": "python",
   "pygments_lexer": "ipython3",
   "version": "3.11.7"
  }
 },
 "nbformat": 4,
 "nbformat_minor": 5
}
