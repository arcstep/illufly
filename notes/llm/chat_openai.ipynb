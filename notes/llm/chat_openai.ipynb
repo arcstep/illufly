{
 "cells": [
  {
   "cell_type": "code",
   "execution_count": 1,
   "id": "c3a54fa5-2a82-4f32-83e1-1514e8d35a0b",
   "metadata": {},
   "outputs": [],
   "source": [
    "from illufly.llm import ChatOpenAI"
   ]
  },
  {
   "cell_type": "code",
   "execution_count": 11,
   "id": "146c8f61-a551-4973-a83f-4fd94d14bfbf",
   "metadata": {},
   "outputs": [],
   "source": [
    "chat = ChatOpenAI(prefix=\"QWEN\")"
   ]
  },
  {
   "cell_type": "code",
   "execution_count": 12,
   "id": "93409a98-dd88-45c3-8c48-b48639f30c88",
   "metadata": {},
   "outputs": [],
   "source": [
    "x = chat(\"你是什么模型?\")"
   ]
  },
  {
   "cell_type": "code",
   "execution_count": 17,
   "id": "2ada0ade-ac66-4289-b615-46f072b0a82f",
   "metadata": {},
   "outputs": [
    {
     "name": "stdout",
     "output_type": "stream",
     "text": [
      "我是一个通义千问语言模型，由阿里云开发。我是基于大量的文本数据和人工智能算法训练而成的，可以用来回答各种问题、提供信息查询服务等。作为一个AI助手，我会尽力为您提供准确、可靠的帮助。如果您有任何问题，请随时告诉我。"
     ]
    }
   ],
   "source": [
    "for e in x:\n",
    "    if e.block_type == \"chunk\":\n",
    "        print(e.content, end=\"\")"
   ]
  },
  {
   "cell_type": "code",
   "execution_count": 18,
   "id": "b8951d22-2513-4a0c-8ff5-a9ccffa4fb43",
   "metadata": {},
   "outputs": [
    {
     "name": "stdout",
     "output_type": "stream",
     "text": [
      "我是一个通义千问语言模型，由阿里云开发。我是基于大量的文本数据和人工智能算法训练而成的，可以用来回答各种问题、提供信息查询服务等。作为一个AI助手，我会尽力为您提供准确、可靠的帮助。如果您有任何问题，请随时告诉我。"
     ]
    }
   ],
   "source": [
    "for e in x:\n",
    "    if e.block_type == \"chunk\":\n",
    "        print(e.content, end=\"\")"
   ]
  },
  {
   "cell_type": "code",
   "execution_count": null,
   "id": "43407f9d-ac36-4a6a-989c-0ea3cce0f3ba",
   "metadata": {},
   "outputs": [],
   "source": []
  }
 ],
 "metadata": {
  "kernelspec": {
   "display_name": "Python 3 (ipykernel)",
   "language": "python",
   "name": "python3"
  },
  "language_info": {
   "codemirror_mode": {
    "name": "ipython",
    "version": 3
   },
   "file_extension": ".py",
   "mimetype": "text/x-python",
   "name": "python",
   "nbconvert_exporter": "python",
   "pygments_lexer": "ipython3",
   "version": "3.11.7"
  }
 },
 "nbformat": 4,
 "nbformat_minor": 5
}
