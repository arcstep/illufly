{
 "cells": [
  {
   "cell_type": "code",
   "execution_count": 1,
   "id": "c3a54fa5-2a82-4f32-83e1-1514e8d35a0b",
   "metadata": {},
   "outputs": [],
   "source": [
    "from illufly.llm import ChatOpenAI"
   ]
  },
  {
   "cell_type": "code",
   "execution_count": 2,
   "id": "146c8f61-a551-4973-a83f-4fd94d14bfbf",
   "metadata": {},
   "outputs": [],
   "source": [
    "chat = ChatOpenAI(prefix=\"QWEN\")"
   ]
  },
  {
   "cell_type": "code",
   "execution_count": 3,
   "id": "c857028a-7c24-458c-8980-02db7561b346",
   "metadata": {},
   "outputs": [
    {
     "name": "stderr",
     "output_type": "stream",
     "text": [
      "2025-01-18 19:42:39 - illufly.base.base_call - ERROR - Processing resulted in error state: API 调用失败: Error code: 400 - {'error': {'code': 'invalid_parameter_error', 'param': None, 'message': '<400> InternalError.Algo.InvalidParameter: Range of max_tokens should be [1, 2000]', 'type': 'invalid_request_error'}, 'id': 'chatcmpl-6d41f327-b00e-9716-adfb-9b6d540b8c55', 'request_id': '6d41f327-b00e-9716-adfb-9b6d540b8c55'}\n"
     ]
    }
   ],
   "source": [
    "x = chat(messages=\"你是什么模型?\")"
   ]
  },
  {
   "cell_type": "code",
   "execution_count": 4,
   "id": "61383c38-4be4-4f88-97b1-4ac4f60d579c",
   "metadata": {},
   "outputs": [
    {
     "data": {
      "text/plain": [
       "[StreamingBlock(block_type='start', block_content='', content=None, topic='ChatOpenAI.277010245.51eb5f1a-d591-11ef-84d6-acde48001122'),\n",
       " StreamingBlock(block_type='error', block_content='', content=\"API 调用失败: Error code: 400 - {'error': {'code': 'invalid_parameter_error', 'param': None, 'message': '<400> InternalError.Algo.InvalidParameter: Range of max_tokens should be [1, 2000]', 'type': 'invalid_request_error'}, 'id': 'chatcmpl-6d41f327-b00e-9716-adfb-9b6d540b8c55', 'request_id': '6d41f327-b00e-9716-adfb-9b6d540b8c55'}\", topic='ChatOpenAI.277010245.51eb5f1a-d591-11ef-84d6-acde48001122'),\n",
       " StreamingBlock(block_type='end', block_content='', content=None, topic='ChatOpenAI.277010245.51eb5f1a-d591-11ef-84d6-acde48001122')]"
      ]
     },
     "execution_count": 4,
     "metadata": {},
     "output_type": "execute_result"
    }
   ],
   "source": [
    "list(x)"
   ]
  },
  {
   "cell_type": "code",
   "execution_count": null,
   "id": "de3b7ba6-e3eb-407b-a668-2f64f8a02b48",
   "metadata": {},
   "outputs": [],
   "source": []
  }
 ],
 "metadata": {
  "kernelspec": {
   "display_name": "Python 3 (ipykernel)",
   "language": "python",
   "name": "python3"
  },
  "language_info": {
   "codemirror_mode": {
    "name": "ipython",
    "version": 3
   },
   "file_extension": ".py",
   "mimetype": "text/x-python",
   "name": "python",
   "nbconvert_exporter": "python",
   "pygments_lexer": "ipython3",
   "version": "3.11.7"
  }
 },
 "nbformat": 4,
 "nbformat_minor": 5
}
