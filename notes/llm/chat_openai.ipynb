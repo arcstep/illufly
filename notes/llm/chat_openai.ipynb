{
 "cells": [
  {
   "cell_type": "code",
   "execution_count": 1,
   "id": "c3a54fa5-2a82-4f32-83e1-1514e8d35a0b",
   "metadata": {},
   "outputs": [],
   "source": [
    "from illufly.llm import ChatOpenAI\n",
    "from illufly.envir import get_env\n",
    "import logging"
   ]
  },
  {
   "cell_type": "code",
   "execution_count": 2,
   "id": "fc366a4c-4833-4739-b2dc-cf63486819b9",
   "metadata": {},
   "outputs": [
    {
     "data": {
      "text/plain": [
       "'/var/folders/f5/rlf27f4n6wzc_k4x7y4vzm5h0000gn/T/__ILLUFLY__/CACHE_CALL'"
      ]
     },
     "execution_count": 2,
     "metadata": {},
     "output_type": "execute_result"
    }
   ],
   "source": [
    "get_env(\"ILLUFLY_CACHE_CALL\")"
   ]
  },
  {
   "cell_type": "code",
   "execution_count": 3,
   "id": "146c8f61-a551-4973-a83f-4fd94d14bfbf",
   "metadata": {},
   "outputs": [],
   "source": [
    "chat = ChatOpenAI(prefix=\"QWEN\", service_name=\"mychat\")"
   ]
  },
  {
   "cell_type": "code",
   "execution_count": 4,
   "id": "93409a98-dd88-45c3-8c48-b48639f30c88",
   "metadata": {},
   "outputs": [],
   "source": [
    "x = chat(\"你是什么模型?\")"
   ]
  },
  {
   "cell_type": "code",
   "execution_count": 5,
   "id": "34a71302-281e-4aa5-8b6a-bd16e41c5a6d",
   "metadata": {},
   "outputs": [
    {
     "name": "stdout",
     "output_type": "stream",
     "text": [
      "我是一个通义千问语言模型，由阿里云开发。我是基于大量的文本数据和人工智能算法训练而成的，可以用来回答各种问题、提供信息查询服务等。作为一个AI助手，我会尽力为您提供准确、可靠的帮助。如果您有任何问题，请随时告诉我。"
     ]
    }
   ],
   "source": [
    "for e in x.collect([\"chunk\"]):\n",
    "    if e.block_type == \"chunk\":\n",
    "        print(e.content, end=\"\")"
   ]
  },
  {
   "cell_type": "code",
   "execution_count": 6,
   "id": "ee1bf182-d263-4fac-940e-1083f89a789c",
   "metadata": {},
   "outputs": [
    {
     "data": {
      "text/plain": [
       "[StreamingBlock(block_type='start', block_content='', content=None, topic='mychat.256132cc-4915-42cf-8ab3-0572ad514e08', created_at=1737371427.2246442),\n",
       " StreamingBlock(block_type='chunk', block_content='', content='我', topic='mychat.256132cc-4915-42cf-8ab3-0572ad514e08', created_at=1737371427.575809),\n",
       " StreamingBlock(block_type='chunk', block_content='', content='是一个', topic='mychat.256132cc-4915-42cf-8ab3-0572ad514e08', created_at=1737371427.584277),\n",
       " StreamingBlock(block_type='chunk', block_content='', content='通', topic='mychat.256132cc-4915-42cf-8ab3-0572ad514e08', created_at=1737371427.5987682),\n",
       " StreamingBlock(block_type='chunk', block_content='', content='义千问语言模型', topic='mychat.256132cc-4915-42cf-8ab3-0572ad514e08', created_at=1737371427.670666),\n",
       " StreamingBlock(block_type='chunk', block_content='', content='，由阿里云开发。我是基于', topic='mychat.256132cc-4915-42cf-8ab3-0572ad514e08', created_at=1737371427.871312),\n",
       " StreamingBlock(block_type='chunk', block_content='', content='大量的文本数据和人工智能算法训练而成', topic='mychat.256132cc-4915-42cf-8ab3-0572ad514e08', created_at=1737371427.996772),\n",
       " StreamingBlock(block_type='chunk', block_content='', content='的，可以用来回答各种问题、', topic='mychat.256132cc-4915-42cf-8ab3-0572ad514e08', created_at=1737371428.191318),\n",
       " StreamingBlock(block_type='chunk', block_content='', content='提供信息查询服务等。作为一个AI', topic='mychat.256132cc-4915-42cf-8ab3-0572ad514e08', created_at=1737371428.323953),\n",
       " StreamingBlock(block_type='chunk', block_content='', content='助手，我会尽力为您提供准确、可靠的', topic='mychat.256132cc-4915-42cf-8ab3-0572ad514e08', created_at=1737371428.530402),\n",
       " StreamingBlock(block_type='chunk', block_content='', content='帮助。如果您有任何问题，请随时告诉我', topic='mychat.256132cc-4915-42cf-8ab3-0572ad514e08', created_at=1737371428.650333),\n",
       " StreamingBlock(block_type='chunk', block_content='', content='。', topic='mychat.256132cc-4915-42cf-8ab3-0572ad514e08', created_at=1737371428.732542),\n",
       " StreamingBlock(block_type='end', block_content='', content=None, topic='', created_at=1737371428.772307)]"
      ]
     },
     "execution_count": 6,
     "metadata": {},
     "output_type": "execute_result"
    }
   ],
   "source": [
    "list(x.collect())"
   ]
  },
  {
   "cell_type": "code",
   "execution_count": 7,
   "id": "eb959a76-3115-4f24-bd1f-4e6be2807cc2",
   "metadata": {},
   "outputs": [],
   "source": [
    "x = chat(\"能告诉我你所使用的具体是什么模型版本吗？\")"
   ]
  },
  {
   "cell_type": "code",
   "execution_count": 8,
   "id": "2ada0ade-ac66-4289-b615-46f072b0a82f",
   "metadata": {},
   "outputs": [
    {
     "name": "stdout",
     "output_type": "stream",
     "text": [
      "我是一个AI助手，我的背后是基于大量的机器学习和自然语言处理算法。我没有具体的模型版本号，因为我是通过不断的学习和优化来提供服务的。如果你有关于特定问题或者任务的问题，我会尽我所能为你提供帮助。"
     ]
    }
   ],
   "source": [
    "for e in x.collect():\n",
    "    if e.block_type == \"chunk\":\n",
    "        print(e.content, end=\"\")"
   ]
  },
  {
   "cell_type": "code",
   "execution_count": 9,
   "id": "b8951d22-2513-4a0c-8ff5-a9ccffa4fb43",
   "metadata": {},
   "outputs": [
    {
     "data": {
      "text/plain": [
       "[StreamingBlock(block_type='start', block_content='', content=None, topic='mychat.c8423323-32d8-43ac-a41c-ae85b30014ff', created_at=1737371440.202107),\n",
       " StreamingBlock(block_type='chunk', block_content='', content='我', topic='mychat.c8423323-32d8-43ac-a41c-ae85b30014ff', created_at=1737371440.5266309),\n",
       " StreamingBlock(block_type='chunk', block_content='', content='是一个', topic='mychat.c8423323-32d8-43ac-a41c-ae85b30014ff', created_at=1737371440.544033),\n",
       " StreamingBlock(block_type='chunk', block_content='', content='AI', topic='mychat.c8423323-32d8-43ac-a41c-ae85b30014ff', created_at=1737371440.573994),\n",
       " StreamingBlock(block_type='chunk', block_content='', content='助手，我的背后是', topic='mychat.c8423323-32d8-43ac-a41c-ae85b30014ff', created_at=1737371440.632405),\n",
       " StreamingBlock(block_type='chunk', block_content='', content='基于大量的机器学习和自然语言处理', topic='mychat.c8423323-32d8-43ac-a41c-ae85b30014ff', created_at=1737371440.83392),\n",
       " StreamingBlock(block_type='chunk', block_content='', content='算法。我没有具体的模型版本号，', topic='mychat.c8423323-32d8-43ac-a41c-ae85b30014ff', created_at=1737371440.9601111),\n",
       " StreamingBlock(block_type='chunk', block_content='', content='因为我是通过不断的学习和优化来', topic='mychat.c8423323-32d8-43ac-a41c-ae85b30014ff', created_at=1737371441.153174),\n",
       " StreamingBlock(block_type='chunk', block_content='', content='提供服务的。如果你有关于特定', topic='mychat.c8423323-32d8-43ac-a41c-ae85b30014ff', created_at=1737371441.292712),\n",
       " StreamingBlock(block_type='chunk', block_content='', content='问题或者任务的问题，我会尽我', topic='mychat.c8423323-32d8-43ac-a41c-ae85b30014ff', created_at=1737371441.477427),\n",
       " StreamingBlock(block_type='chunk', block_content='', content='所能为你提供帮助。', topic='mychat.c8423323-32d8-43ac-a41c-ae85b30014ff', created_at=1737371441.609586),\n",
       " StreamingBlock(block_type='end', block_content='', content=None, topic='', created_at=1737371441.6519492)]"
      ]
     },
     "execution_count": 9,
     "metadata": {},
     "output_type": "execute_result"
    }
   ],
   "source": [
    "list(x.collect())"
   ]
  },
  {
   "cell_type": "code",
   "execution_count": null,
   "id": "43407f9d-ac36-4a6a-989c-0ea3cce0f3ba",
   "metadata": {},
   "outputs": [],
   "source": []
  }
 ],
 "metadata": {
  "kernelspec": {
   "display_name": "Python 3 (ipykernel)",
   "language": "python",
   "name": "python3"
  },
  "language_info": {
   "codemirror_mode": {
    "name": "ipython",
    "version": 3
   },
   "file_extension": ".py",
   "mimetype": "text/x-python",
   "name": "python",
   "nbconvert_exporter": "python",
   "pygments_lexer": "ipython3",
   "version": "3.11.7"
  }
 },
 "nbformat": 4,
 "nbformat_minor": 5
}
