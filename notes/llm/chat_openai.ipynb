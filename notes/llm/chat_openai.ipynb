{
 "cells": [
  {
   "cell_type": "code",
   "execution_count": 1,
   "id": "c3a54fa5-2a82-4f32-83e1-1514e8d35a0b",
   "metadata": {},
   "outputs": [],
   "source": [
    "from illufly.llm import ChatOpenAI\n",
    "from illufly.envir import get_env"
   ]
  },
  {
   "cell_type": "code",
   "execution_count": 2,
   "id": "fc366a4c-4833-4739-b2dc-cf63486819b9",
   "metadata": {},
   "outputs": [
    {
     "data": {
      "text/plain": [
       "'/var/folders/f5/rlf27f4n6wzc_k4x7y4vzm5h0000gn/T/__ILLUFLY__/CACHE_CALL'"
      ]
     },
     "execution_count": 2,
     "metadata": {},
     "output_type": "execute_result"
    }
   ],
   "source": [
    "get_env(\"ILLUFLY_CACHE_CALL\")"
   ]
  },
  {
   "cell_type": "code",
   "execution_count": 3,
   "id": "146c8f61-a551-4973-a83f-4fd94d14bfbf",
   "metadata": {},
   "outputs": [],
   "source": [
    "chat = ChatOpenAI(prefix=\"QWEN\", service_name=\"mychat\", enable_cache=True)"
   ]
  },
  {
   "cell_type": "code",
   "execution_count": 4,
   "id": "93409a98-dd88-45c3-8c48-b48639f30c88",
   "metadata": {},
   "outputs": [
    {
     "name": "stderr",
     "output_type": "stream",
     "text": [
      "2025-01-19 01:19:13 - illufly.base.base_call - WARNING - Cache hit for openai.resources.chat.completions.create.874409fb4ee7efa1b53057748d770ead27d6ec6f16bb4fb4928d696a5fefc97d.718098964af3263d7f69813b69550d441b66a8c0c5ef635009fc7ab9abc69bf1\n"
     ]
    }
   ],
   "source": [
    "x = chat(\"你是什么模型?\")"
   ]
  },
  {
   "cell_type": "code",
   "execution_count": 5,
   "id": "34a71302-281e-4aa5-8b6a-bd16e41c5a6d",
   "metadata": {},
   "outputs": [
    {
     "name": "stdout",
     "output_type": "stream",
     "text": [
      "我是一个通义千问语言模型，由阿里云开发。我是基于大量的文本数据和人工智能算法训练而成的，可以用来回答各种问题、提供信息查询服务等。作为一个AI助手，我会尽力为您提供准确、可靠的帮助。如果您有任何问题，请随时告诉我。"
     ]
    }
   ],
   "source": [
    "for e in x:\n",
    "    if e.block_type == \"chunk\":\n",
    "        print(e.content, end=\"\")"
   ]
  },
  {
   "cell_type": "code",
   "execution_count": 9,
   "id": "eb959a76-3115-4f24-bd1f-4e6be2807cc2",
   "metadata": {},
   "outputs": [
    {
     "name": "stderr",
     "output_type": "stream",
     "text": [
      "2025-01-19 01:19:21 - illufly.base.base_call - WARNING - Cache hit for openai.resources.chat.completions.create.874409fb4ee7efa1b53057748d770ead27d6ec6f16bb4fb4928d696a5fefc97d.898124b19ddb98858b8113960cb964d6255141e0f6658a43bcca24f0df734b63\n"
     ]
    }
   ],
   "source": [
    "x = chat(\"能告诉我你所使用的具体是什么模型版本吗？\")"
   ]
  },
  {
   "cell_type": "code",
   "execution_count": 10,
   "id": "2ada0ade-ac66-4289-b615-46f072b0a82f",
   "metadata": {},
   "outputs": [
    {
     "name": "stdout",
     "output_type": "stream",
     "text": [
      "我是一个AI助手，我的背后是基于大量的机器学习和自然语言处理算法。我没有具体的模型版本号，因为我是通过不断的学习和优化来提供服务的。如果你有关于特定问题或者任务的问题，我会尽我所能为你提供帮助。"
     ]
    }
   ],
   "source": [
    "for e in x:\n",
    "    if e.block_type == \"chunk\":\n",
    "        print(e.content, end=\"\")"
   ]
  },
  {
   "cell_type": "code",
   "execution_count": 8,
   "id": "b8951d22-2513-4a0c-8ff5-a9ccffa4fb43",
   "metadata": {},
   "outputs": [
    {
     "data": {
      "text/plain": [
       "[StreamingBlock(block_type='start', block_content='', content=None, topic='mychat.58a08d4c-d5c0-11ef-99b1-acde48001122'),\n",
       " StreamingBlock(block_type='chunk', block_content='', content='我', topic='mychat.58a08d4c-d5c0-11ef-99b1-acde48001122'),\n",
       " StreamingBlock(block_type='chunk', block_content='', content='是一个', topic='mychat.58a08d4c-d5c0-11ef-99b1-acde48001122'),\n",
       " StreamingBlock(block_type='chunk', block_content='', content='AI', topic='mychat.58a08d4c-d5c0-11ef-99b1-acde48001122'),\n",
       " StreamingBlock(block_type='chunk', block_content='', content='助手，我的背后是', topic='mychat.58a08d4c-d5c0-11ef-99b1-acde48001122'),\n",
       " StreamingBlock(block_type='chunk', block_content='', content='基于大量的机器学习和自然语言处理', topic='mychat.58a08d4c-d5c0-11ef-99b1-acde48001122'),\n",
       " StreamingBlock(block_type='chunk', block_content='', content='算法。我没有具体的模型版本号，', topic='mychat.58a08d4c-d5c0-11ef-99b1-acde48001122'),\n",
       " StreamingBlock(block_type='chunk', block_content='', content='因为我是通过不断的学习和优化来', topic='mychat.58a08d4c-d5c0-11ef-99b1-acde48001122'),\n",
       " StreamingBlock(block_type='chunk', block_content='', content='提供服务的。如果你有关于特定', topic='mychat.58a08d4c-d5c0-11ef-99b1-acde48001122'),\n",
       " StreamingBlock(block_type='chunk', block_content='', content='问题或者任务的问题，我会尽我', topic='mychat.58a08d4c-d5c0-11ef-99b1-acde48001122'),\n",
       " StreamingBlock(block_type='chunk', block_content='', content='所能为你提供帮助。', topic='mychat.58a08d4c-d5c0-11ef-99b1-acde48001122'),\n",
       " StreamingBlock(block_type='end', block_content='', content=None, topic='mychat.58a08d4c-d5c0-11ef-99b1-acde48001122')]"
      ]
     },
     "execution_count": 8,
     "metadata": {},
     "output_type": "execute_result"
    }
   ],
   "source": [
    "list(x)"
   ]
  },
  {
   "cell_type": "code",
   "execution_count": null,
   "id": "43407f9d-ac36-4a6a-989c-0ea3cce0f3ba",
   "metadata": {},
   "outputs": [],
   "source": []
  }
 ],
 "metadata": {
  "kernelspec": {
   "display_name": "Python 3 (ipykernel)",
   "language": "python",
   "name": "python3"
  },
  "language_info": {
   "codemirror_mode": {
    "name": "ipython",
    "version": 3
   },
   "file_extension": ".py",
   "mimetype": "text/x-python",
   "name": "python",
   "nbconvert_exporter": "python",
   "pygments_lexer": "ipython3",
   "version": "3.11.7"
  }
 },
 "nbformat": 4,
 "nbformat_minor": 5
}
