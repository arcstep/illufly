{
 "cells": [
  {
   "cell_type": "markdown",
   "id": "0428ecb9-5b76-47f0-9e5d-e80089d4a3c0",
   "metadata": {},
   "source": [
    "## 验证环境变量"
   ]
  },
  {
   "cell_type": "code",
   "execution_count": 1,
   "id": "c3a54fa5-2a82-4f32-83e1-1514e8d35a0b",
   "metadata": {},
   "outputs": [],
   "source": [
    "from illufly.llm import ChatOpenAI\n",
    "import os"
   ]
  },
  {
   "cell_type": "code",
   "execution_count": 2,
   "id": "fc366a4c-4833-4739-b2dc-cf63486819b9",
   "metadata": {},
   "outputs": [
    {
     "data": {
      "text/plain": [
       "'https://open.bigmodel.cn/api/paas/v4/'"
      ]
     },
     "execution_count": 2,
     "metadata": {},
     "output_type": "execute_result"
    }
   ],
   "source": [
    "os.getenv(\"ZHIPU_BASE_URL\")"
   ]
  },
  {
   "cell_type": "markdown",
   "id": "c87b9b7f-f4fd-4762-9d64-4b02bfe461b3",
   "metadata": {},
   "source": [
    "## Qwen"
   ]
  },
  {
   "cell_type": "code",
   "execution_count": 1,
   "id": "146c8f61-a551-4973-a83f-4fd94d14bfbf",
   "metadata": {},
   "outputs": [
    {
     "data": {
      "text/plain": [
       "ChatOpenAI(address=inproc://ChatOpenAI.281599993, service_name=ChatOpenAI.281599993)"
      ]
     },
     "execution_count": 1,
     "metadata": {},
     "output_type": "execute_result"
    }
   ],
   "source": [
    "from illufly.llm import ChatOpenAI\n",
    "\n",
    "chat = ChatOpenAI(prefix=\"QWEN\")\n",
    "chat"
   ]
  },
  {
   "cell_type": "code",
   "execution_count": 2,
   "id": "34a71302-281e-4aa5-8b6a-bd16e41c5a6d",
   "metadata": {},
   "outputs": [
    {
     "name": "stdout",
     "output_type": "stream",
     "text": [
      "我是来自阿里云的大规模语言模型，我叫通义千问。"
     ]
    }
   ],
   "source": [
    "for e in chat(\"你是什么模型?\"):\n",
    "    print(e.content, end=\"\")"
   ]
  },
  {
   "cell_type": "markdown",
   "id": "e902d80b-1cfd-451c-8d88-3fe8f86ed92c",
   "metadata": {},
   "source": [
    "## DeepSeek"
   ]
  },
  {
   "cell_type": "code",
   "execution_count": 3,
   "id": "4f570ee6-87e6-4c2c-ab56-22ce2bba6af9",
   "metadata": {},
   "outputs": [
    {
     "name": "stdout",
     "output_type": "stream",
     "text": [
      "我是通义千问，一个由深度求索（DeepSeek）公司开发的人工智能助手，基于先进的语言模型技术构建，旨在提供信息查询、对话交流和解答问题等服务。"
     ]
    }
   ],
   "source": [
    "from illufly.llm import ChatOpenAI\n",
    "\n",
    "deepseek = ChatOpenAI(prefix=\"DEEPSEEK\")\n",
    "for e in deepseek(\"你是什么模型\"):\n",
    "    print(e.content, end=\"\")"
   ]
  },
  {
   "cell_type": "markdown",
   "id": "29f9a9b6-0d63-4e6c-8421-0c7ae5956b07",
   "metadata": {},
   "source": [
    "## ZhipuAI"
   ]
  },
  {
   "cell_type": "code",
   "execution_count": 20,
   "id": "ee1bf182-d263-4fac-940e-1083f89a789c",
   "metadata": {},
   "outputs": [],
   "source": [
    "from illufly.llm import ChatOpenAI\n",
    "from illufly.rocksdict import IndexedRocksDB\n",
    "\n",
    "db = IndexedRocksDB(path='/var/folders/f5/rlf27f4n6wzc_k4x7y4vzm5h0000gn/T/ILLUFLY_ROCKSDB_abc2')\n",
    "zhipu = ChatOpenAI(prefix=\"ZHIPU\", db=db)"
   ]
  },
  {
   "cell_type": "code",
   "execution_count": 21,
   "id": "6f989246-1ce9-41a3-9031-7f5e6cb86ec8",
   "metadata": {},
   "outputs": [
    {
     "data": {
      "text/plain": [
       "[Thread(user_id='default', thread_id='18e0c4767e7a43579f83db9f523c49e2', title='', description='', created_at=datetime.datetime(2025, 1, 29, 10, 11, 11, 842387), updated_at=datetime.datetime(2025, 1, 29, 10, 11, 11, 842390))]"
      ]
     },
     "execution_count": 21,
     "metadata": {},
     "output_type": "execute_result"
    }
   ],
   "source": [
    "zhipu.l0_qa.all_threads()"
   ]
  },
  {
   "cell_type": "code",
   "execution_count": 22,
   "id": "fbe7f964-7eb8-4170-a1b0-10acf2c4d7f8",
   "metadata": {},
   "outputs": [
    {
     "data": {
      "text/plain": [
       "[]"
      ]
     },
     "execution_count": 22,
     "metadata": {},
     "output_type": "execute_result"
    }
   ],
   "source": [
    "zhipu.history"
   ]
  },
  {
   "cell_type": "code",
   "execution_count": 23,
   "id": "9a7ea800-da77-4478-b74c-b31b88dbe756",
   "metadata": {},
   "outputs": [
    {
     "name": "stdout",
     "output_type": "stream",
     "text": [
      "我是一个基于人工智能的语言模型，具体来说是基于清华大学 KEG 实验室和智谱AI共同训练的 GLM-4 模型。我的任务是针对用户的问题和要求提供适当的答复和支持。由于我只能根据我的训练数据回答，我所掌握的信息可能不是最新的。"
     ]
    }
   ],
   "source": [
    "for b in zhipu(\"你是什么模型\"):\n",
    "    print(b.content, end=\"\")"
   ]
  },
  {
   "cell_type": "code",
   "execution_count": 24,
   "id": "8639d58b-f043-42b1-be42-a2c6556391e2",
   "metadata": {},
   "outputs": [
    {
     "name": "stdout",
     "output_type": "stream",
     "text": [
      "GLM（General Language Modeling）和DeepSeek都是人工智能领域中的先进技术，它们各自在不同的应用场景和任务中表现出色。比较两者哪个更好并没有绝对的答案，因为它们的设计目的和侧重点不同。\n",
      "\n",
      "GLM是一种通用语言模型，它被设计用来在各种自然语言处理任务中提供支持，包括但不限于文本生成、机器翻译、问答系统等。GLM旨在捕捉语言的普遍特性，使其能够处理广泛的自然语言任务。\n",
      "\n",
      "DeepSeek则是一个专注于特定领域或特定任务的模型，它可能被设计用来解决更加专业或特定的问题，比如图像识别、视频分析或者特定的知识检索。\n",
      "\n",
      "以下是两者的一些对比点：\n",
      "\n",
      "1. **通用性**：\n",
      "   - GLM：更通用，适用于多种NLP任务。\n",
      "   - DeepSeek：可能更专注于特定领域或任务。\n",
      "\n",
      "2. **性能**：\n",
      "   - GLM：在多种任务上可能都有不错的表现，但可能不是每个任务上的最佳选择。\n",
      "   - DeepSeek：可能在它专注的特定领域或任务上具有更高的性能。\n",
      "\n",
      "3. **效率**：\n",
      "   - GLM：由于通用性，可能需要更多的计算资源来处理特定任务。\n",
      "   - DeepSeek：可能针对特定任务进行了优化，因此在效率上可能更高。\n",
      "\n",
      "4. **适用性**：\n",
      "   - GLM：适用于广泛的场景和需求。\n",
      "   - DeepSeek：适用于需要高度专业化的场景。\n",
      "\n",
      "总的来说，选择哪个更好取决于具体的应用场景和需求。如果你需要一个通用的、能够处理多种任务的模型，GLM可能是一个更好的选择。如果你需要一个针对特定领域高度优化的模型，DeepSeek可能更合适。在实际应用中，通常会根据具体问题来决定使用哪种模型。"
     ]
    }
   ],
   "source": [
    "for b in zhipu(\"你认为GLM和DEEP-SEEK哪一个更好？\"):\n",
    "    print(b.content, end=\"\")"
   ]
  },
  {
   "cell_type": "code",
   "execution_count": 30,
   "id": "57c35823-84fd-459b-9f2b-95a3bd7b3c19",
   "metadata": {},
   "outputs": [
    {
     "name": "stdout",
     "output_type": "stream",
     "text": [
      "Human: 你是什么模型？\n",
      "\n",
      "AI: 我是基于GLM-4的人工智能语言模型。\n",
      "\n",
      "Human: 你认为GLM和DeepSeek哪一个更好？\n",
      "\n",
      "AI: GLM和DeepSeek各有优劣。GLM通用性强，适合多任务；DeepSeek针对特定领域，性能可能更优。"
     ]
    }
   ],
   "source": [
    "one = ChatOpenAI(prefix=\"ZHIPU\", db=db, thread_id=\"once\")\n",
    "\n",
    "# 常识拆分话题\n",
    "resp = one(f\"\"\"\n",
    "重新整理对话内容，只保留有意义的主题表达，按照对话要点只保留必要的对话轮次，去除啰嗦、重复等表达方式，浓缩叙述；\n",
    "然后以human和ai对话形式输出整理后的对话。\n",
    "\n",
    "我的历史对话：\\n{zhipu.history_messages}：\n",
    "\"\"\")\n",
    "\n",
    "for e in resp:\n",
    "    print(e.content, end=\"\")"
   ]
  },
  {
   "cell_type": "code",
   "execution_count": 31,
   "id": "e95efa88-65b3-4e6f-a987-1350ca4e5ede",
   "metadata": {},
   "outputs": [
    {
     "data": {
      "text/plain": [
       "[{'role': 'user', 'content': '你是什么模型'},\n",
       " {'role': 'assistant',\n",
       "  'content': '我是一个基于人工智能的语言模型，具体来说是基于清华大学 KEG 实验室和智谱AI共同训练的 GLM-4 模型。我的任务是针对用户的问题和要求提供适当的答复和支持。由于我只能根据我的训练数据回答，我所掌握的信息可能不是最新的。'},\n",
       " {'role': 'user', 'content': '你认为GLM和DEEP-SEEK哪一个更好？'},\n",
       " {'role': 'assistant',\n",
       "  'content': 'GLM（General Language Modeling）和DeepSeek都是人工智能领域中的先进技术，它们各自在不同的应用场景和任务中表现出色。比较两者哪个更好并没有绝对的答案，因为它们的设计目的和侧重点不同。\\n\\nGLM是一种通用语言模型，它被设计用来在各种自然语言处理任务中提供支持，包括但不限于文本生成、机器翻译、问答系统等。GLM旨在捕捉语言的普遍特性，使其能够处理广泛的自然语言任务。\\n\\nDeepSeek则是一个专注于特定领域或特定任务的模型，它可能被设计用来解决更加专业或特定的问题，比如图像识别、视频分析或者特定的知识检索。\\n\\n以下是两者的一些对比点：\\n\\n1. **通用性**：\\n   - GLM：更通用，适用于多种NLP任务。\\n   - DeepSeek：可能更专注于特定领域或任务。\\n\\n2. **性能**：\\n   - GLM：在多种任务上可能都有不错的表现，但可能不是每个任务上的最佳选择。\\n   - DeepSeek：可能在它专注的特定领域或任务上具有更高的性能。\\n\\n3. **效率**：\\n   - GLM：由于通用性，可能需要更多的计算资源来处理特定任务。\\n   - DeepSeek：可能针对特定任务进行了优化，因此在效率上可能更高。\\n\\n4. **适用性**：\\n   - GLM：适用于广泛的场景和需求。\\n   - DeepSeek：适用于需要高度专业化的场景。\\n\\n总的来说，选择哪个更好取决于具体的应用场景和需求。如果你需要一个通用的、能够处理多种任务的模型，GLM可能是一个更好的选择。如果你需要一个针对特定领域高度优化的模型，DeepSeek可能更合适。在实际应用中，通常会根据具体问题来决定使用哪种模型。'},\n",
       " {'role': 'user',\n",
       "  'content': \"\\n重新整理对话内容，只保留有意义的主题表达，按照对话要点只保留必要的对话轮次，去除啰嗦、重复等表达方式，浓缩叙述；\\n然后以human和ai对话形式输出整理后的对话。\\n\\n我的历史对话：\\n[{'role': 'user', 'content': '你是什么模型'}, {'role': 'assistant', 'content': '我是一个基于人工智能的语言模型，具体来说是基于清华大学 KEG 实验室和智谱AI共同训练的 GLM-4 模型。我的任务是针对用户的问题和要求提供适当的答复和支持。由于我只能根据我的训练数据回答，我所掌握的信息可能不是最新的。'}, {'role': 'user', 'content': '你认为GLM和DEEP-SEEK哪一个更好？'}, {'role': 'assistant', 'content': 'GLM（General Language Modeling）和DeepSeek都是人工智能领域中的先进技术，它们各自在不同的应用场景和任务中表现出色。比较两者哪个更好并没有绝对的答案，因为它们的设计目的和侧重点不同。\\\\n\\\\nGLM是一种通用语言模型，它被设计用来在各种自然语言处理任务中提供支持，包括但不限于文本生成、机器翻译、问答系统等。GLM旨在捕捉语言的普遍特性，使其能够处理广泛的自然语言任务。\\\\n\\\\nDeepSeek则是一个专注于特定领域或特定任务的模型，它可能被设计用来解决更加专业或特定的问题，比如图像识别、视频分析或者特定的知识检索。\\\\n\\\\n以下是两者的一些对比点：\\\\n\\\\n1. **通用性**：\\\\n   - GLM：更通用，适用于多种NLP任务。\\\\n   - DeepSeek：可能更专注于特定领域或任务。\\\\n\\\\n2. **性能**：\\\\n   - GLM：在多种任务上可能都有不错的表现，但可能不是每个任务上的最佳选择。\\\\n   - DeepSeek：可能在它专注的特定领域或任务上具有更高的性能。\\\\n\\\\n3. **效率**：\\\\n   - GLM：由于通用性，可能需要更多的计算资源来处理特定任务。\\\\n   - DeepSeek：可能针对特定任务进行了优化，因此在效率上可能更高。\\\\n\\\\n4. **适用性**：\\\\n   - GLM：适用于广泛的场景和需求。\\\\n   - DeepSeek：适用于需要高度专业化的场景。\\\\n\\\\n总的来说，选择哪个更好取决于具体的应用场景和需求。如果你需要一个通用的、能够处理多种任务的模型，GLM可能是一个更好的选择。如果你需要一个针对特定领域高度优化的模型，DeepSeek可能更合适。在实际应用中，通常会根据具体问题来决定使用哪种模型。'}]：\\n\"},\n",
       " {'role': 'assistant',\n",
       "  'content': 'Human: 你是什么模型？\\nAI: 我是基于GLM-4模型的人工智能语言模型。\\n\\nHuman: 你认为GLM和DeepSeek哪一个更好？\\nAI: GLM和DeepSeek各有优势，选择取决于具体应用。GLM通用性强，适用于多种NLP任务；DeepSeek专注特定领域，可能在特定任务上性能更高。'}]"
      ]
     },
     "execution_count": 31,
     "metadata": {},
     "output_type": "execute_result"
    }
   ],
   "source": [
    "zhipu.history_messages"
   ]
  },
  {
   "cell_type": "code",
   "execution_count": null,
   "id": "75fabf6b-68d6-49de-8505-64f4e2498a38",
   "metadata": {},
   "outputs": [],
   "source": []
  }
 ],
 "metadata": {
  "kernelspec": {
   "display_name": "Python 3 (ipykernel)",
   "language": "python",
   "name": "python3"
  },
  "language_info": {
   "codemirror_mode": {
    "name": "ipython",
    "version": 3
   },
   "file_extension": ".py",
   "mimetype": "text/x-python",
   "name": "python",
   "nbconvert_exporter": "python",
   "pygments_lexer": "ipython3",
   "version": "3.11.7"
  }
 },
 "nbformat": 4,
 "nbformat_minor": 5
}
