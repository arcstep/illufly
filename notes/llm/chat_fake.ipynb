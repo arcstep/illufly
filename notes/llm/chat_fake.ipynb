{
 "cells": [
  {
   "cell_type": "code",
   "execution_count": 1,
   "id": "943553d2-7905-407b-8d71-3a3ffa7a0759",
   "metadata": {},
   "outputs": [
    {
     "name": "stdout",
     "output_type": "stream",
     "text": [
      "Reply >> hello"
     ]
    }
   ],
   "source": [
    "from illufly.llm import ChatFake\n",
    "\n",
    "chat = ChatFake()\n",
    "resp = chat(\"hello\")\n",
    "for x in resp.collect([\"text_chunk\"]):\n",
    "    print(x.content, end=\"\")"
   ]
  },
  {
   "cell_type": "code",
   "execution_count": 2,
   "id": "1ecd6404-fe90-45dc-9394-d1f164aa15fb",
   "metadata": {},
   "outputs": [
    {
     "data": {
      "text/plain": [
       "ChatFake(address=inproc://ChatFake.281578525, service_name=ChatFake.281578525)"
      ]
     },
     "execution_count": 2,
     "metadata": {},
     "output_type": "execute_result"
    }
   ],
   "source": [
    "chat"
   ]
  },
  {
   "cell_type": "code",
   "execution_count": 10,
   "id": "d6d6ce07-0e7a-474e-b91b-3da8ea0709f0",
   "metadata": {},
   "outputs": [
    {
     "data": {
      "text/plain": [
       "['R', 'e', 'p', 'l', 'y', ' ', '>', '>', ' ', 'h', 'i']"
      ]
     },
     "execution_count": 10,
     "metadata": {},
     "output_type": "execute_result"
    }
   ],
   "source": [
    "[a.content for a in list(chat(\"hi\").collect(\"text_chunk\"))]"
   ]
  },
  {
   "cell_type": "code",
   "execution_count": 5,
   "id": "541054ea-a646-4b11-8755-fb222af3bd55",
   "metadata": {},
   "outputs": [
    {
     "name": "stdout",
     "output_type": "stream",
     "text": [
      "你找谁？曲什么梅啊？"
     ]
    }
   ],
   "source": [
    "from illufly.llm import ChatFake\n",
    "\n",
    "chat = ChatFake(response=[\n",
    "    \"你找谁？\",\n",
    "    \"曲什么梅啊？\",\n",
    "    \"什么冬梅?\",\n",
    "    \"曲冬什么？\"\n",
    "])\n",
    "\n",
    "for x in chat(\"hello\").collect([\"chunk\"]):\n",
    "    print(x.content, end=\"\")\n",
    "\n",
    "for x in chat(\"hello\").collect([\"chunk\"]):\n",
    "    print(x.content, end=\"\")"
   ]
  },
  {
   "cell_type": "code",
   "execution_count": 4,
   "id": "59cd66ab-2cf4-4af1-90e9-6b89a30fe21f",
   "metadata": {},
   "outputs": [
    {
     "name": "stdout",
     "output_type": "stream",
     "text": [
      "什么冬梅?"
     ]
    }
   ],
   "source": [
    "resp = await chat.async_call(\"hello\")\n",
    "async for x in resp.async_collect([\"chunk\"]):\n",
    "    print(x.content, end=\"\")"
   ]
  },
  {
   "cell_type": "code",
   "execution_count": null,
   "id": "488f7258-1755-4587-96d7-c3bb03c407e8",
   "metadata": {},
   "outputs": [],
   "source": []
  }
 ],
 "metadata": {
  "kernelspec": {
   "display_name": "Python 3 (ipykernel)",
   "language": "python",
   "name": "python3"
  },
  "language_info": {
   "codemirror_mode": {
    "name": "ipython",
    "version": 3
   },
   "file_extension": ".py",
   "mimetype": "text/x-python",
   "name": "python",
   "nbconvert_exporter": "python",
   "pygments_lexer": "ipython3",
   "version": "3.11.7"
  }
 },
 "nbformat": 4,
 "nbformat_minor": 5
}
