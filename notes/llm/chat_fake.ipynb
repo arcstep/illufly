{
 "cells": [
  {
   "cell_type": "code",
   "execution_count": 1,
   "id": "943553d2-7905-407b-8d71-3a3ffa7a0759",
   "metadata": {},
   "outputs": [
    {
     "name": "stdout",
     "output_type": "stream",
     "text": [
      "Reply >> hello"
     ]
    }
   ],
   "source": [
    "from illufly.llm import ChatFake\n",
    "\n",
    "chat = ChatFake()\n",
    "resp = chat(\"hello\")\n",
    "for x in resp:\n",
    "    print(x['content'], end=\"\")"
   ]
  },
  {
   "cell_type": "code",
   "execution_count": 2,
   "id": "541054ea-a646-4b11-8755-fb222af3bd55",
   "metadata": {},
   "outputs": [
    {
     "name": "stdout",
     "output_type": "stream",
     "text": [
      "你找谁？\n",
      "\n",
      "曲什么梅啊？"
     ]
    }
   ],
   "source": [
    "from illufly.llm import ChatFake\n",
    "\n",
    "chat = ChatFake(response=[\n",
    "    \"你找谁？\",\n",
    "    \"曲什么梅啊？\",\n",
    "    \"什么冬梅?\",\n",
    "    \"曲冬什么？\"\n",
    "])\n",
    "\n",
    "for x in chat(\"hello\"):\n",
    "    print(x['content'], end=\"\")\n",
    "\n",
    "print(\"\\n\")\n",
    "\n",
    "for x in chat(\"hello\"):\n",
    "    print(x['content'], end=\"\")"
   ]
  },
  {
   "cell_type": "code",
   "execution_count": 4,
   "id": "59cd66ab-2cf4-4af1-90e9-6b89a30fe21f",
   "metadata": {},
   "outputs": [
    {
     "name": "stdout",
     "output_type": "stream",
     "text": [
      "什么冬梅?"
     ]
    }
   ],
   "source": [
    "async for x in await chat.async_call(\"hello\"):\n",
    "    print(x['content'], end=\"\")"
   ]
  },
  {
   "cell_type": "code",
   "execution_count": null,
   "id": "488f7258-1755-4587-96d7-c3bb03c407e8",
   "metadata": {},
   "outputs": [],
   "source": []
  }
 ],
 "metadata": {
  "kernelspec": {
   "display_name": "Python 3 (ipykernel)",
   "language": "python",
   "name": "python3"
  },
  "language_info": {
   "codemirror_mode": {
    "name": "ipython",
    "version": 3
   },
   "file_extension": ".py",
   "mimetype": "text/x-python",
   "name": "python",
   "nbconvert_exporter": "python",
   "pygments_lexer": "ipython3",
   "version": "3.11.7"
  }
 },
 "nbformat": 4,
 "nbformat_minor": 5
}
