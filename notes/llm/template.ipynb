{
 "cells": [
  {
   "cell_type": "code",
   "execution_count": 1,
   "id": "f0836ac0-ae33-4e45-8306-905d24ec7ebe",
   "metadata": {},
   "outputs": [],
   "source": [
    "from illufly.llm import SystemTemplate"
   ]
  },
  {
   "cell_type": "code",
   "execution_count": 2,
   "id": "7a983fc1-db6c-4fcd-8a33-8260702b0010",
   "metadata": {},
   "outputs": [],
   "source": [
    "tmp = SystemTemplate(text=\"\"\"\n",
    "{{#name}}\n",
    "  Hello, {{name}}!\n",
    "{{/name}}\n",
    "{{^name}}\n",
    "  Hello, Stranger!\n",
    "{{/name}}\n",
    "\"\"\")"
   ]
  },
  {
   "cell_type": "code",
   "execution_count": 3,
   "id": "8ec25a55-7682-49fd-8166-ec5282148653",
   "metadata": {},
   "outputs": [
    {
     "data": {
      "text/plain": [
       "'\\n  Hello, Stranger!\\n'"
      ]
     },
     "execution_count": 3,
     "metadata": {},
     "output_type": "execute_result"
    }
   ],
   "source": [
    "tmp.format()"
   ]
  },
  {
   "cell_type": "code",
   "execution_count": 4,
   "id": "32597959-1fb2-4db0-98c4-d8e9322e0a35",
   "metadata": {},
   "outputs": [
    {
     "data": {
      "text/plain": [
       "'\\n  Hello, abc!\\n'"
      ]
     },
     "execution_count": 4,
     "metadata": {},
     "output_type": "execute_result"
    }
   ],
   "source": [
    "tmp.format({\"name\": \"abc\"})"
   ]
  },
  {
   "cell_type": "code",
   "execution_count": 5,
   "id": "fedb0e74-06ac-46f6-9a1d-1208c01f4006",
   "metadata": {},
   "outputs": [
    {
     "data": {
      "text/plain": [
       "{'created_at': '2025-01-25 22:40:33.821317',\n",
       " 'source': 'TEXT',\n",
       " 'variables': {'name'}}"
      ]
     },
     "execution_count": 5,
     "metadata": {},
     "output_type": "execute_result"
    }
   ],
   "source": [
    "tmp.metadata"
   ]
  },
  {
   "cell_type": "code",
   "execution_count": 6,
   "id": "06706618-1ad9-4c06-8446-4e89e05caed6",
   "metadata": {},
   "outputs": [
    {
     "data": {
      "text/plain": [
       "False"
      ]
     },
     "execution_count": 6,
     "metadata": {},
     "output_type": "execute_result"
    }
   ],
   "source": [
    "tmp.validate({})"
   ]
  },
  {
   "cell_type": "code",
   "execution_count": null,
   "id": "b146e9ba-6b6a-4aac-9e33-ebd73a075da7",
   "metadata": {},
   "outputs": [],
   "source": []
  }
 ],
 "metadata": {
  "kernelspec": {
   "display_name": "Python 3 (ipykernel)",
   "language": "python",
   "name": "python3"
  },
  "language_info": {
   "codemirror_mode": {
    "name": "ipython",
    "version": 3
   },
   "file_extension": ".py",
   "mimetype": "text/x-python",
   "name": "python",
   "nbconvert_exporter": "python",
   "pygments_lexer": "ipython3",
   "version": "3.11.7"
  }
 },
 "nbformat": 4,
 "nbformat_minor": 5
}
