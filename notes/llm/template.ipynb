{
 "cells": [
  {
   "cell_type": "code",
   "execution_count": 1,
   "id": "f0836ac0-ae33-4e45-8306-905d24ec7ebe",
   "metadata": {},
   "outputs": [],
   "source": [
    "from illufly.llm import SystemTemplate"
   ]
  },
  {
   "cell_type": "code",
   "execution_count": 3,
   "id": "7a983fc1-db6c-4fcd-8a33-8260702b0010",
   "metadata": {},
   "outputs": [],
   "source": [
    "tmp = SystemTemplate(text=\"\"\"\n",
    "{{! 这是一个注释  }}\n",
    "{{#name}}\n",
    "  Hello, {{name}}!\n",
    "{{/name}}\n",
    "{{^name}}\n",
    "  Hello, Stranger!\n",
    "{{/name}}\n",
    "\"\"\")"
   ]
  },
  {
   "cell_type": "code",
   "execution_count": 4,
   "id": "8ec25a55-7682-49fd-8166-ec5282148653",
   "metadata": {},
   "outputs": [
    {
     "data": {
      "text/plain": [
       "'\\n  Hello, Stranger!\\n'"
      ]
     },
     "execution_count": 4,
     "metadata": {},
     "output_type": "execute_result"
    }
   ],
   "source": [
    "tmp.format()"
   ]
  },
  {
   "cell_type": "code",
   "execution_count": 5,
   "id": "32597959-1fb2-4db0-98c4-d8e9322e0a35",
   "metadata": {},
   "outputs": [
    {
     "data": {
      "text/plain": [
       "'\\n  Hello, abc!\\n'"
      ]
     },
     "execution_count": 5,
     "metadata": {},
     "output_type": "execute_result"
    }
   ],
   "source": [
    "tmp.format({\"name\": \"abc\"})"
   ]
  },
  {
   "cell_type": "code",
   "execution_count": 5,
   "id": "fedb0e74-06ac-46f6-9a1d-1208c01f4006",
   "metadata": {},
   "outputs": [
    {
     "data": {
      "text/plain": [
       "{'created_at': '2025-01-25 22:40:33.821317',\n",
       " 'source': 'TEXT',\n",
       " 'variables': {'name'}}"
      ]
     },
     "execution_count": 5,
     "metadata": {},
     "output_type": "execute_result"
    }
   ],
   "source": [
    "tmp.metadata"
   ]
  },
  {
   "cell_type": "code",
   "execution_count": 6,
   "id": "06706618-1ad9-4c06-8446-4e89e05caed6",
   "metadata": {},
   "outputs": [
    {
     "data": {
      "text/plain": [
       "False"
      ]
     },
     "execution_count": 6,
     "metadata": {},
     "output_type": "execute_result"
    }
   ],
   "source": [
    "tmp.validate({})"
   ]
  },
  {
   "cell_type": "code",
   "execution_count": 7,
   "id": "b146e9ba-6b6a-4aac-9e33-ebd73a075da7",
   "metadata": {},
   "outputs": [
    {
     "ename": "ValueError",
     "evalue": "缺少必要的变量: {'user.email', 'content', 'user.name.last', 'user.name.first', 'title'}",
     "output_type": "error",
     "traceback": [
      "\u001b[0;31m---------------------------------------------------------------------------\u001b[0m",
      "\u001b[0;31mValueError\u001b[0m                                Traceback (most recent call last)",
      "Cell \u001b[0;32mIn[7], line 27\u001b[0m\n\u001b[1;32m      3\u001b[0m data \u001b[38;5;241m=\u001b[39m {\n\u001b[1;32m      4\u001b[0m   \u001b[38;5;124m\"\u001b[39m\u001b[38;5;124muser\u001b[39m\u001b[38;5;124m\"\u001b[39m: {\n\u001b[1;32m      5\u001b[0m     \u001b[38;5;124m\"\u001b[39m\u001b[38;5;124mname\u001b[39m\u001b[38;5;124m\"\u001b[39m: {\n\u001b[0;32m   (...)\u001b[0m\n\u001b[1;32m     14\u001b[0m   ]\n\u001b[1;32m     15\u001b[0m }\n\u001b[1;32m     17\u001b[0m tmp \u001b[38;5;241m=\u001b[39m SystemTemplate(text\u001b[38;5;241m=\u001b[39m\u001b[38;5;124m\"\"\"\u001b[39m\n\u001b[1;32m     18\u001b[0m \u001b[38;5;124m{{\u001b[39m\u001b[38;5;124muser.name.first}} \u001b[39m\u001b[38;5;124m{{\u001b[39m\u001b[38;5;124muser.name.last}}\u001b[39m\n\u001b[1;32m     19\u001b[0m \u001b[38;5;124m{{\u001b[39m\u001b[38;5;124muser.email}}\u001b[39m\n\u001b[0;32m   (...)\u001b[0m\n\u001b[1;32m     24\u001b[0m \u001b[38;5;124m{{\u001b[39m\u001b[38;5;124m/posts}}\u001b[39m\n\u001b[1;32m     25\u001b[0m \u001b[38;5;124m\"\"\"\u001b[39m)\n\u001b[0;32m---> 27\u001b[0m \u001b[43mtmp\u001b[49m\u001b[38;5;241;43m.\u001b[39;49m\u001b[43mformat\u001b[49m\u001b[43m(\u001b[49m\u001b[43mdata\u001b[49m\u001b[43m)\u001b[49m\n",
      "File \u001b[0;32m~/codeup/illufly/illufly/llm/system_template/template.py:80\u001b[0m, in \u001b[0;36mSystemTemplate.format\u001b[0;34m(self, variables)\u001b[0m\n\u001b[1;32m     78\u001b[0m missing_vars \u001b[38;5;241m=\u001b[39m required_vars \u001b[38;5;241m-\u001b[39m provided_vars\n\u001b[1;32m     79\u001b[0m \u001b[38;5;28;01mif\u001b[39;00m missing_vars:\n\u001b[0;32m---> 80\u001b[0m     \u001b[38;5;28;01mraise\u001b[39;00m \u001b[38;5;167;01mValueError\u001b[39;00m(\u001b[38;5;124mf\u001b[39m\u001b[38;5;124m\"\u001b[39m\u001b[38;5;124m缺少必要的变量: \u001b[39m\u001b[38;5;132;01m{\u001b[39;00mmissing_vars\u001b[38;5;132;01m}\u001b[39;00m\u001b[38;5;124m\"\u001b[39m)\n\u001b[1;32m     82\u001b[0m \u001b[38;5;66;03m# 预处理变量，确保空字典被视为有效值\u001b[39;00m\n\u001b[1;32m     83\u001b[0m processed_vars \u001b[38;5;241m=\u001b[39m {}\n",
      "\u001b[0;31mValueError\u001b[0m: 缺少必要的变量: {'user.email', 'content', 'user.name.last', 'user.name.first', 'title'}"
     ]
    }
   ],
   "source": [
    "import chevron\n",
    "\n",
    "data = {\n",
    "  \"user\": {\n",
    "    \"name\": {\n",
    "      \"first\": \"John\",\n",
    "      \"last\": \"Doe\"\n",
    "    },\n",
    "    \"email\": \"john.doe@example.com\"\n",
    "  },\n",
    "  \"posts\": [\n",
    "    {\"title\": \"Post One\", \"content\": \"Content of post one\"},\n",
    "    {\"title\": \"Post Two\", \"content\": \"Content of post two\"}\n",
    "  ]\n",
    "}\n",
    "\n",
    "tmp = SystemTemplate(text=\"\"\"\n",
    "{{user.name.first}} {{user.name.last}}\n",
    "{{user.email}}\n",
    "\n",
    "{{#posts}}\n",
    "  <h2>{{title}}</h2>\n",
    "  <p>{{content}}</p>\n",
    "{{/posts}}\n",
    "\"\"\")\n",
    "\n",
    "tmp.format(data)"
   ]
  },
  {
   "cell_type": "code",
   "execution_count": null,
   "id": "a7bb2b00-b4eb-412b-9408-40e1cdd4ae6e",
   "metadata": {},
   "outputs": [],
   "source": []
  }
 ],
 "metadata": {
  "kernelspec": {
   "display_name": "Python 3 (ipykernel)",
   "language": "python",
   "name": "python3"
  },
  "language_info": {
   "codemirror_mode": {
    "name": "ipython",
    "version": 3
   },
   "file_extension": ".py",
   "mimetype": "text/x-python",
   "name": "python",
   "nbconvert_exporter": "python",
   "pygments_lexer": "ipython3",
   "version": "3.11.7"
  }
 },
 "nbformat": 4,
 "nbformat_minor": 5
}
