{
 "cells": [
  {
   "cell_type": "code",
   "execution_count": 10,
   "id": "f0836ac0-ae33-4e45-8306-905d24ec7ebe",
   "metadata": {},
   "outputs": [],
   "source": [
    "from illufly.llm import SystemTemplate\n",
    "from pydantic import BaseModel"
   ]
  },
  {
   "cell_type": "code",
   "execution_count": 11,
   "id": "7a983fc1-db6c-4fcd-8a33-8260702b0010",
   "metadata": {},
   "outputs": [],
   "source": [
    "tmp = SystemTemplate(text=\"\"\"\n",
    "{{! 这是一个注释  }}\n",
    "{{#name}}\n",
    "  Hello, {{name}}!\n",
    "{{/name}}\n",
    "{{^name}}\n",
    "  Hello, Stranger!\n",
    "{{/name}}\n",
    "\"\"\")"
   ]
  },
  {
   "cell_type": "code",
   "execution_count": 12,
   "id": "8ec25a55-7682-49fd-8166-ec5282148653",
   "metadata": {},
   "outputs": [
    {
     "data": {
      "text/plain": [
       "'\\n  Hello, Stranger!\\n'"
      ]
     },
     "execution_count": 12,
     "metadata": {},
     "output_type": "execute_result"
    }
   ],
   "source": [
    "tmp.format()"
   ]
  },
  {
   "cell_type": "code",
   "execution_count": 13,
   "id": "32597959-1fb2-4db0-98c4-d8e9322e0a35",
   "metadata": {},
   "outputs": [
    {
     "data": {
      "text/plain": [
       "'\\n  Hello, abc!\\n'"
      ]
     },
     "execution_count": 13,
     "metadata": {},
     "output_type": "execute_result"
    }
   ],
   "source": [
    "tmp.format({\"name\": \"abc\"})"
   ]
  },
  {
   "cell_type": "code",
   "execution_count": 14,
   "id": "fedb0e74-06ac-46f6-9a1d-1208c01f4006",
   "metadata": {},
   "outputs": [
    {
     "data": {
      "text/plain": [
       "{'created_at': '2025-01-25 23:33:49.244135',\n",
       " 'source': 'TEXT',\n",
       " 'variables': {'name'}}"
      ]
     },
     "execution_count": 14,
     "metadata": {},
     "output_type": "execute_result"
    }
   ],
   "source": [
    "tmp.metadata"
   ]
  },
  {
   "cell_type": "code",
   "execution_count": 15,
   "id": "06706618-1ad9-4c06-8446-4e89e05caed6",
   "metadata": {},
   "outputs": [
    {
     "data": {
      "text/plain": [
       "False"
      ]
     },
     "execution_count": 15,
     "metadata": {},
     "output_type": "execute_result"
    }
   ],
   "source": [
    "tmp.validate({})"
   ]
  },
  {
   "cell_type": "code",
   "execution_count": 18,
   "id": "b146e9ba-6b6a-4aac-9e33-ebd73a075da7",
   "metadata": {},
   "outputs": [
    {
     "name": "stdout",
     "output_type": "stream",
     "text": [
      "\n",
      "John Doe\n",
      "john.doe@example.com\n",
      "\n",
      "  <h2>Post One</h2>\n",
      "  <p>Content of post one</p>\n",
      "  <h2>Post Two</h2>\n",
      "  <p>Content of post two</p>\n",
      "\n"
     ]
    }
   ],
   "source": [
    "from pydantic import BaseModel\n",
    "\n",
    "# 定义姓名模型\n",
    "class Name(BaseModel):\n",
    "    first: str\n",
    "    last: str\n",
    "\n",
    "# 定义用户模型\n",
    "class User(BaseModel):\n",
    "    name: Name\n",
    "    email: str\n",
    "\n",
    "# 定义帖子模型\n",
    "class Post(BaseModel):\n",
    "    title: str\n",
    "    content: str\n",
    "\n",
    "# 定义主数据模型\n",
    "class DataModel(BaseModel):\n",
    "    user: User\n",
    "    posts: list[Post]\n",
    "\n",
    "# 给定的数据\n",
    "data = {\n",
    "    \"user\": {\n",
    "        \"name\": {\n",
    "            \"first\": \"John\",\n",
    "            \"last\": \"Doe\"\n",
    "        },\n",
    "        \"email\": \"john.doe@example.com\"\n",
    "    },\n",
    "    \"posts\": [\n",
    "        {\"title\": \"Post One\", \"content\": \"Content of post one\"},\n",
    "        {\"title\": \"Post Two\", \"content\": \"Content of post two\"}\n",
    "    ]\n",
    "}\n",
    "\n",
    "# 创建对象实例\n",
    "data_model_instance = DataModel(**data)\n",
    "\n",
    "tmp = SystemTemplate(text=\"\"\"\n",
    "{{user.name.first}} {{user.name.last}}\n",
    "{{user.email}}\n",
    "\n",
    "{{#posts}}\n",
    "  <h2>{{title}}</h2>\n",
    "  <p>{{content}}</p>\n",
    "{{/posts}}\n",
    "\"\"\")\n",
    "\n",
    "print(tmp.format(data_model_instance))"
   ]
  },
  {
   "cell_type": "code",
   "execution_count": null,
   "id": "a7bb2b00-b4eb-412b-9408-40e1cdd4ae6e",
   "metadata": {},
   "outputs": [],
   "source": []
  }
 ],
 "metadata": {
  "kernelspec": {
   "display_name": "Python 3 (ipykernel)",
   "language": "python",
   "name": "python3"
  },
  "language_info": {
   "codemirror_mode": {
    "name": "ipython",
    "version": 3
   },
   "file_extension": ".py",
   "mimetype": "text/x-python",
   "name": "python",
   "nbconvert_exporter": "python",
   "pygments_lexer": "ipython3",
   "version": "3.11.7"
  }
 },
 "nbformat": 4,
 "nbformat_minor": 5
}
