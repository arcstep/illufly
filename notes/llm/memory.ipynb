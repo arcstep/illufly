{
 "cells": [
  {
   "cell_type": "code",
   "execution_count": 16,
   "id": "d2277697-9e16-4b7c-94f1-d19ff666f098",
   "metadata": {},
   "outputs": [
    {
     "data": {
      "text/plain": [
       "'/var/folders/f5/rlf27f4n6wzc_k4x7y4vzm5h0000gn/T/ILLUFLY_ROCKSDB_2vskxhhz'"
      ]
     },
     "execution_count": 16,
     "metadata": {},
     "output_type": "execute_result"
    }
   ],
   "source": [
    "import tempfile\n",
    "tempfile.mkdtemp(prefix=\"ILLUFLY_ROCKSDB_\")"
   ]
  },
  {
   "cell_type": "code",
   "execution_count": 13,
   "id": "e9a6d0fd-61bd-4593-9640-3bbe5cf8665f",
   "metadata": {},
   "outputs": [
    {
     "ename": "Exception",
     "evalue": "IO error: lock hold by current process, acquire time 1738047789 acquiring thread 140704352058816: :memory:/LOCK: No locks available",
     "output_type": "error",
     "traceback": [
      "\u001b[0;31m---------------------------------------------------------------------------\u001b[0m",
      "\u001b[0;31mException\u001b[0m                                 Traceback (most recent call last)",
      "Cell \u001b[0;32mIn[13], line 4\u001b[0m\n\u001b[1;32m      1\u001b[0m \u001b[38;5;28;01mfrom\u001b[39;00m\u001b[38;5;250m \u001b[39m\u001b[38;5;21;01mrocksdict\u001b[39;00m\u001b[38;5;250m \u001b[39m\u001b[38;5;28;01mimport\u001b[39;00m Rdict, Options, WriteBatch, WriteOptions\n\u001b[1;32m      3\u001b[0m path \u001b[38;5;241m=\u001b[39m \u001b[38;5;124m\"\u001b[39m\u001b[38;5;124m:memory:\u001b[39m\u001b[38;5;124m\"\u001b[39m\n\u001b[0;32m----> 4\u001b[0m db \u001b[38;5;241m=\u001b[39m \u001b[43mRdict\u001b[49m\u001b[43m(\u001b[49m\u001b[43mpath\u001b[49m\u001b[43m)\u001b[49m\n\u001b[1;32m      6\u001b[0m \u001b[38;5;66;03m# set write options\u001b[39;00m\n\u001b[1;32m      7\u001b[0m write_options \u001b[38;5;241m=\u001b[39m WriteOptions()\n",
      "\u001b[0;31mException\u001b[0m: IO error: lock hold by current process, acquire time 1738047789 acquiring thread 140704352058816: :memory:/LOCK: No locks available"
     ]
    }
   ],
   "source": [
    "from rocksdict import Rdict, Options, WriteBatch, WriteOptions\n",
    "\n",
    "path = \":memory:\"\n",
    "db = Rdict(path)\n",
    "\n",
    "# set write options\n",
    "write_options = WriteOptions()\n",
    "write_options.disable_wal(True)\n",
    "db.set_write_options(write_options)\n",
    "\n",
    "# write to db\n",
    "db[\"my key\"] = \"my value\"\n",
    "db[\"key2\"] = \"value2\"\n",
    "db[\"key3\"] = \"value3\"\n",
    "\n",
    "# remove db\n",
    "del db\n",
    "Rdict.destroy(path)"
   ]
  },
  {
   "cell_type": "code",
   "execution_count": 1,
   "id": "cb17a7b4-f12c-4547-8eca-87a82e928bbe",
   "metadata": {},
   "outputs": [
    {
     "ename": "NameError",
     "evalue": "name 'db' is not defined",
     "output_type": "error",
     "traceback": [
      "\u001b[0;31m---------------------------------------------------------------------------\u001b[0m",
      "\u001b[0;31mNameError\u001b[0m                                 Traceback (most recent call last)",
      "Cell \u001b[0;32mIn[1], line 2\u001b[0m\n\u001b[1;32m      1\u001b[0m \u001b[38;5;66;03m# 使用RocksDB\u001b[39;00m\n\u001b[0;32m----> 2\u001b[0m \u001b[43mdb\u001b[49m[\u001b[38;5;124m\"\u001b[39m\u001b[38;5;124mkey1\u001b[39m\u001b[38;5;124m\"\u001b[39m] \u001b[38;5;241m=\u001b[39m \u001b[38;5;124m\"\u001b[39m\u001b[38;5;124mvalue1\u001b[39m\u001b[38;5;124m\"\u001b[39m\n\u001b[1;32m      3\u001b[0m \u001b[38;5;28mprint\u001b[39m(db[\u001b[38;5;124m\"\u001b[39m\u001b[38;5;124mkey1\u001b[39m\u001b[38;5;124m\"\u001b[39m])\n",
      "\u001b[0;31mNameError\u001b[0m: name 'db' is not defined"
     ]
    }
   ],
   "source": [
    "# 使用RocksDB\n",
    "db[\"key1\"] = \"value1\"\n",
    "print(db[\"key1\"])"
   ]
  },
  {
   "cell_type": "code",
   "execution_count": null,
   "id": "ada3d0f0-51d7-4f0a-9a2e-759f2492b8c9",
   "metadata": {},
   "outputs": [],
   "source": [
    "# 关闭数据库\n",
    "db.close()\n"
   ]
  }
 ],
 "metadata": {
  "kernelspec": {
   "display_name": "Python 3 (ipykernel)",
   "language": "python",
   "name": "python3"
  },
  "language_info": {
   "codemirror_mode": {
    "name": "ipython",
    "version": 3
   },
   "file_extension": ".py",
   "mimetype": "text/x-python",
   "name": "python",
   "nbconvert_exporter": "python",
   "pygments_lexer": "ipython3",
   "version": "3.11.7"
  }
 },
 "nbformat": 4,
 "nbformat_minor": 5
}
