{
 "cells": [
  {
   "cell_type": "code",
   "execution_count": 2,
   "id": "d2277697-9e16-4b7c-94f1-d19ff666f098",
   "metadata": {},
   "outputs": [],
   "source": [
    "from illufly.llm import ChatOpenAI, SystemTemplate, Message\n",
    "from illufly.io.rocksdict import IndexedRocksDB\n",
    "\n",
    "zhipu = ChatOpenAI(prefix=\"ZHIPU\", thread_id=\"once\")"
   ]
  },
  {
   "cell_type": "code",
   "execution_count": 5,
   "id": "aa9b40d1-3dad-4924-9444-b92863ca5c9e",
   "metadata": {},
   "outputs": [
    {
     "data": {
      "text/plain": [
       "{'content', 'memory'}"
      ]
     },
     "execution_count": 5,
     "metadata": {},
     "output_type": "execute_result"
    }
   ],
   "source": [
    "SystemTemplate(template_id=\"summary\").variables"
   ]
  },
  {
   "cell_type": "code",
   "execution_count": 2,
   "id": "927b743f-096b-47bf-8538-432096c912f1",
   "metadata": {},
   "outputs": [
    {
     "name": "stdout",
     "output_type": "stream",
     "text": [
      "角色:\n",
      "作为AI对话摘要助手,你的任务是提炼和简化对话内容.\n",
      "\n",
      "核心任务:\n",
      "\n",
      "保留结构: 维持原有对话的角色分配和对话顺序.\n",
      "精简内容: 去除冗余信息,提炼核心要点.\n",
      "直接输出: 以简洁形式呈现摘要,不添加额外评论或解释.\n",
      "\n",
      "输入内容:\n",
      "```\n",
      "[{'role': 'user', 'content': '你好'}, {'role': 'assistant', 'content': '我能帮你什么?'}, {'role': 'user', 'content': '你知道我的名字不？'}, {'role': 'assistant', 'content': '作为一个AI助手，我无法知道你的名字。你能告诉我吗?'}, {'role': 'user', 'content': '我叫薛一乐，希望你记住'}, {'role': 'assistant', 'content': '好的，我记住了，这是一个有趣的名字'}]\n",
      "```\n",
      "\n",
      "提供简洁、直接的对话摘要.\n",
      "确保摘要反映原始对话的关键信息.\n",
      "\n",
      "开始处理:\n",
      "\n"
     ]
    }
   ],
   "source": [
    "messages = [\n",
    "    (\"user\", \"你好\"),\n",
    "    (\"ai\", \"我能帮你什么?\"),\n",
    "    (\"user\", \"你知道我的名字不？\"),\n",
    "    (\"ai\", \"作为一个AI助手，我无法知道你的名字。你能告诉我吗?\"),\n",
    "    (\"user\", \"我叫薛一乐，希望你记住\"),\n",
    "    (\"ai\", \"好的，我记住了，这是一个有趣的名字\")\n",
    "]\n",
    "\n",
    "template = SystemTemplate(template_id=\"summary\")\n",
    "system_prompt = template.format(variables={\"messages\": [Message.create(m).message_dict for m in messages]})\n",
    "print(system_prompt)"
   ]
  },
  {
   "cell_type": "code",
   "execution_count": 3,
   "id": "4dee8060-2ed1-4ef5-abc7-1781c0f1f34b",
   "metadata": {},
   "outputs": [],
   "source": [
    "sub = zhipu([\n",
    "    (\"system\", system_prompt),\n",
    "    (\"user\", \"请开始\")\n",
    "])"
   ]
  },
  {
   "cell_type": "code",
   "execution_count": 4,
   "id": "cbc92434-bc97-4d4e-8d65-2d7ef8dcf9f1",
   "metadata": {},
   "outputs": [
    {
     "name": "stdout",
     "output_type": "stream",
     "text": [
      "你好，薛一乐。我希望记住你的名字，这是一个有趣的名字。"
     ]
    }
   ],
   "source": [
    "sub.log()"
   ]
  },
  {
   "cell_type": "code",
   "execution_count": 6,
   "id": "ad1f98f1-d83f-472e-b1a8-f15f5538e785",
   "metadata": {},
   "outputs": [
    {
     "data": {
      "text/plain": [
       "'测试问题测试问题测试问题测试问题测试问题测试问题测试问题测试问题测试问题测试问题测试问题测试问题测试问题测试问题测试问题测试问题测试问题测试问题测试问题测试问题测试问题测试问题测试问题测试问题测试问题测试问题测试问题测试问题测试问题测试问题测试问题测试问题测试问题测试问题测试问题测试问题测试问题测试问题测试问题测试问题测试问题测试问题测试问题测试问题测试问题测试问题测试问题测试问题测试问题测试问题测试问题测试问题测试问题测试问题测试问题测试问题测试问题测试问题测试问题测试问题测试问题测试问题测试问题测试问题测试问题测试问题测试问题测试问题测试问题测试问题测试问题测试问题测试问题测试问题测试问题测试问题测试问题测试问题测试问题测试问题测试问题测试问题测试问题测试问题测试问题测试问题测试问题测试问题测试问题测试问题测试问题测试问题测试问题测试问题测试问题测试问题测试问题测试问题测试问题测试问题'"
      ]
     },
     "execution_count": 6,
     "metadata": {},
     "output_type": "execute_result"
    }
   ],
   "source": [
    "\"测试问题\"*100"
   ]
  },
  {
   "cell_type": "code",
   "execution_count": null,
   "id": "e0483220-d4ce-4fca-bbd2-8aaa9fc2f4dc",
   "metadata": {},
   "outputs": [],
   "source": []
  }
 ],
 "metadata": {
  "kernelspec": {
   "display_name": "Python 3 (ipykernel)",
   "language": "python",
   "name": "python3"
  },
  "language_info": {
   "codemirror_mode": {
    "name": "ipython",
    "version": 3
   },
   "file_extension": ".py",
   "mimetype": "text/x-python",
   "name": "python",
   "nbconvert_exporter": "python",
   "pygments_lexer": "ipython3",
   "version": "3.11.7"
  }
 },
 "nbformat": 4,
 "nbformat_minor": 5
}
