{
 "cells": [
  {
   "cell_type": "code",
   "execution_count": 1,
   "id": "70eb4768-42f3-43c9-84e3-f067e79dd4fe",
   "metadata": {},
   "outputs": [
    {
     "data": {
      "text/plain": [
       "True"
      ]
     },
     "execution_count": 1,
     "metadata": {},
     "output_type": "execute_result"
    }
   ],
   "source": [
    "import os\n",
    "from dotenv import load_dotenv, find_dotenv\n",
    "load_dotenv(find_dotenv(), override=True)"
   ]
  },
  {
   "cell_type": "markdown",
   "id": "34d12cf8-8411-405b-9eab-f2eaaf01b649",
   "metadata": {},
   "source": [
    "## create_idea_chain"
   ]
  },
  {
   "cell_type": "code",
   "execution_count": 2,
   "id": "3af48d02-9d70-4006-a7b9-c8cde99acdd5",
   "metadata": {},
   "outputs": [],
   "source": [
    "from textlong.chain import create_idea_chain, create_outline_chain\n",
    "from langchain_zhipu import ChatZhipuAI\n",
    "runnable = create_idea_chain(ChatZhipuAI())"
   ]
  },
  {
   "cell_type": "code",
   "execution_count": 3,
   "id": "46e48487-5346-4771-ac40-6610800a8658",
   "metadata": {},
   "outputs": [
    {
     "name": "stdout",
     "output_type": "stream",
     "text": [
      "---\n",
      "modified_at: '2024-06-25 21:27:24'\n",
      "command: stream\n",
      "args:\n",
      "  task: 写一首小诗\n",
      "  sep_mode: all\n",
      "  prompt_id: IDEA\n",
      "---\n",
      "\n",
      "夜幕低垂月儿明，\n",
      "点点星光伴人行。\n",
      "思绪飘渺如烟雨，\n",
      "笔尖流转诉衷情。\n",
      "\n",
      "山川远阔水悠悠，\n",
      "岁月无声梦依旧。\n",
      "繁华落尽终有时，\n",
      "唯愿诗心永年轻。"
     ]
    }
   ],
   "source": [
    "for x in runnable.stream({\"task\": \"写一首小诗\"}):\n",
    "    print(x, end=\"\")"
   ]
  },
  {
   "cell_type": "code",
   "execution_count": 4,
   "id": "fd914c4b-88e4-4dfa-adcd-56cc93ddb826",
   "metadata": {},
   "outputs": [
    {
     "data": {
      "text/plain": [
       "\"---\\nmodified_at: '2024-06-25 21:27:28'\\ncommand: stream\\nargs:\\n  task: 写一首小诗\\n  sep_mode: all\\n  prompt_id: IDEA\\n---\\n\\n夜幕低垂月儿明，\\n点点星光伴孤影。\\n思绪如潮随风舞，\\n执笔诉尽千行情。\\n\\n山川远阔苍茫间，\\n岁月无声梦里行。\\n尘世浮华皆过客，\\n唯愿诗心永年轻。\""
      ]
     },
     "execution_count": 4,
     "metadata": {},
     "output_type": "execute_result"
    }
   ],
   "source": [
    "runnable.invoke({\"task\": \"写一首小诗\"})"
   ]
  },
  {
   "cell_type": "code",
   "execution_count": 5,
   "id": "31dd7515-a53b-490f-9608-692326cd6670",
   "metadata": {},
   "outputs": [
    {
     "data": {
      "text/plain": [
       "\"---\\nmodified_at: '2024-06-25 21:27:33'\\ncommand: stream\\nargs:\\n  task: 写一首小诗\\n  sep_mode: all\\n  prompt_id: IDEA\\n---\\n\\n夜幕低垂月儿明，\\n闲步花间听虫鸣。\\n心随云影随风舞，\\n诗意人生共谁行。\""
      ]
     },
     "execution_count": 5,
     "metadata": {},
     "output_type": "execute_result"
    }
   ],
   "source": [
    "await runnable.ainvoke({\"task\": \"写一首小诗\"})"
   ]
  },
  {
   "cell_type": "code",
   "execution_count": 6,
   "id": "7db80a9f-7390-444c-bc62-c5524f7e714b",
   "metadata": {},
   "outputs": [
    {
     "name": "stdout",
     "output_type": "stream",
     "text": [
      "---\n",
      "modified_at: '2024-06-25 21:27:35'\n",
      "command: stream\n",
      "args:\n",
      "  task: 写一首小诗\n",
      "  sep_mode: all\n",
      "  prompt_id: IDEA\n",
      "---\n",
      "\n",
      "春日细雨洒枝头，\n",
      "柳绿花红映小楼。\n",
      "微风轻拂水面皱，\n",
      "悠悠时光不言愁。"
     ]
    }
   ],
   "source": [
    "async for x in runnable.astream({\"task\": \"写一首小诗\"}):\n",
    "    print(x, end=\"\")"
   ]
  },
  {
   "cell_type": "code",
   "execution_count": 8,
   "id": "83b82471-948e-414e-9a64-04b7d813941f",
   "metadata": {},
   "outputs": [
    {
     "data": {
      "text/plain": [
       "['\\n>->>> Prompt ID: IDEA <<<-<\\n山川藏秀色，流水韵清音。\\n笔落诗章里，墨香染素心。\\n秋风送爽凉，夜月映花林。\\n静坐品文意，悠然自得吟。']"
      ]
     },
     "execution_count": 8,
     "metadata": {},
     "output_type": "execute_result"
    }
   ],
   "source": [
    "runnable.batch([{\"task\": \"写一首小诗\"}])"
   ]
  },
  {
   "cell_type": "markdown",
   "id": "253d4fe4-5dcf-4adc-bc99-a4d3daaa4a8c",
   "metadata": {},
   "source": [
    "## create_outline_chain"
   ]
  },
  {
   "cell_type": "code",
   "execution_count": 5,
   "id": "29a10664-4eaa-4787-8785-ec4ba3f71cc6",
   "metadata": {},
   "outputs": [
    {
     "name": "stdout",
     "output_type": "stream",
     "text": [
      "---\n",
      "task: 写一首小诗\n",
      "sep_mode: all\n",
      "prompt_id: OUTLINE\n",
      "modified_at: '2024-06-25 17:14:44'\n",
      "---\n",
      "\n",
      "# 《晨曦》\n",
      "\n",
      "## 一、曙光\n",
      "<OUTLINE>\n",
      "描绘晨曦的第一缕阳光，预示新的一天的开始。\n",
      "\n",
      "扩写要求：\n",
      "- 字数：100字左右\n",
      "- 创意要点：运用比喻、拟人手法，形象描绘曙光\n",
      "- 实体名称：太阳、大地、万物\n",
      "\n",
      "</OUTLINE>\n",
      "\n",
      "## 二、生机\n",
      "<OUTLINE>\n",
      "描述大地在晨曦的照耀下，万物复苏，充满生机。\n",
      "\n",
      "扩写要求：\n",
      "- 字数：150字左右\n",
      "- 创意要点：展现大自然生机勃勃的景象，体现生命的力量\n",
      "- 实体名称：花朵、小草、小鸟、河流\n",
      "\n",
      "</OUTLINE>\n",
      "\n",
      "## 三、希望\n",
      "<OUTLINE>\n",
      "表达晨曦带给人们希望，激励人们勇敢面对生活。\n",
      "\n",
      "扩写要求：\n",
      "- 字数：200字左右\n",
      "- 创意要点：运用象征手法，展现晨曦与希望的关系\n",
      "- 实体名称：晨曦、人们、未来\n",
      "\n",
      "</OUTLINE>\n",
      "\n",
      "## 四、尾声\n",
      "<OUTLINE>\n",
      "以简洁的语言收束全诗，强调晨曦的美好。\n",
      "\n",
      "扩写要求：\n",
      "- 字数：50字左右\n",
      "- 创意要点：总结全诗主题，给人以美好期待\n",
      "- 实体名称：晨曦\n",
      "\n",
      "</OUTLINE>"
     ]
    }
   ],
   "source": [
    "outline = create_outline_chain(ChatZhipuAI())\n",
    "for x in outline.stream({\"task\": \"写一首小诗\", \"verbose\": True}):\n",
    "    print(x, end=\"\")"
   ]
  },
  {
   "cell_type": "markdown",
   "id": "9b5215e9-b210-40b0-a90c-0007c93c4916",
   "metadata": {},
   "source": [
    "## schema 自举"
   ]
  },
  {
   "cell_type": "code",
   "execution_count": 6,
   "id": "dd14491c-ace5-439c-ae27-a7c65e8c8c4b",
   "metadata": {},
   "outputs": [
    {
     "data": {
      "text/plain": [
       "{'title': 'writing_input',\n",
       " 'type': 'object',\n",
       " 'properties': {'task': {'title': 'Task', 'type': 'string'},\n",
       "  'input': {'title': 'Input',\n",
       "   'anyOf': [{'type': 'string'},\n",
       "    {'type': 'array', 'items': {'type': 'string'}}]},\n",
       "  'knowledge': {'title': 'Knowledge',\n",
       "   'anyOf': [{'type': 'string'},\n",
       "    {'type': 'array', 'items': {'type': 'string'}}]},\n",
       "  'output_file': {'title': 'Output File', 'type': 'string'},\n",
       "  'base_folder': {'title': 'Base Folder', 'type': 'string'},\n",
       "  'prompt_id': {'title': 'Prompt Id', 'type': 'string'}}}"
      ]
     },
     "execution_count": 6,
     "metadata": {},
     "output_type": "execute_result"
    }
   ],
   "source": [
    "runnable.input_schema.schema()"
   ]
  },
  {
   "cell_type": "code",
   "execution_count": 7,
   "id": "c5f884e8-81e0-42a6-812f-df2bac55670d",
   "metadata": {},
   "outputs": [
    {
     "data": {
      "text/plain": [
       "{'title': 'gen_output', 'allOf': [{'type': 'string'}]}"
      ]
     },
     "execution_count": 7,
     "metadata": {},
     "output_type": "execute_result"
    }
   ],
   "source": [
    "runnable.output_schema.schema()"
   ]
  },
  {
   "cell_type": "markdown",
   "id": "728b3523-79b0-4c2d-98a4-f5ca8715591d",
   "metadata": {},
   "source": [
    "## 回调"
   ]
  },
  {
   "cell_type": "code",
   "execution_count": 8,
   "id": "b02843f6-6d71-40c4-9573-a5146c5b3e7d",
   "metadata": {},
   "outputs": [
    {
     "name": "stdout",
     "output_type": "stream",
     "text": [
      "---\n",
      "task: 写一首小诗\n",
      "sep_mode: all\n",
      "prompt_id: IDEA\n",
      "modified_at: '2024-06-25 17:15:06'\n",
      "---\n",
      "\n",
      "山间清泉潺潺流，\n",
      "林外幽鸟轻轻啼。\n",
      "朝阳微照青石径，\n",
      "漫步云端心自悠。\n",
      "\n",
      " >>>>>>>>>>>>>>>>>>>>>>>>>>>>>>>>>>>>>>>> output >>>>>>>>>>>>>>>>>>>>>>>>>>>>>>>>>>>>>>>>\n",
      "---\n",
      "task: 写一首小诗\n",
      "sep_mode: all\n",
      "prompt_id: IDEA\n",
      "modified_at: '2024-06-25 17:15:06'\n",
      "---\n",
      "\n",
      "山间清泉潺潺流，\n",
      "林外幽鸟轻轻啼。\n",
      "朝阳微照青石径，\n",
      "漫步云端心自悠。\n"
     ]
    }
   ],
   "source": [
    "from langchain_core.tracers.schemas import Run\n",
    "\n",
    "def fn_end(run_obj: Run):\n",
    "    print(\"\\n\\n\", \">\"*40, \"output\", \">\"*40)\n",
    "    print(run_obj.outputs['output'])\n",
    "\n",
    "for x in runnable.with_listeners(on_end=fn_end).stream({\"task\": \"写一首小诗\"}):\n",
    "    print(x, end=\"\")"
   ]
  },
  {
   "cell_type": "markdown",
   "id": "a26ba110-d097-43ab-8322-2117d371fb6e",
   "metadata": {},
   "source": [
    "## 在Project中构建链"
   ]
  },
  {
   "cell_type": "code",
   "execution_count": 3,
   "id": "b2a13a3c-8574-4ee1-9456-04d7660a503a",
   "metadata": {},
   "outputs": [],
   "source": [
    "from textlong.project import Project\n",
    "p = Project(ChatZhipuAI(model=\"glm-4\"), project_id=\"教程\")"
   ]
  },
  {
   "cell_type": "code",
   "execution_count": 4,
   "id": "a8329521-954f-412e-89ad-531338eb529a",
   "metadata": {},
   "outputs": [
    {
     "name": "stdout",
     "output_type": "stream",
     "text": [
      "---\n",
      "modified_at: '2024-06-25 18:01:57'\n",
      "output_file: 小诗.md\n",
      "command: stream\n",
      "args:\n",
      "  task: 写一首小诗\n",
      "  sep_mode: all\n",
      "  prompt_id: IDEA\n",
      "---\n",
      "\n",
      "山川千里秀，  \n",
      "江湖万里程。  \n",
      "心随白云逸，  \n",
      "笔落风雨声。  \n",
      "<<<<<<<<<<<<<<<<<<<<<<<<<<<"
     ]
    }
   ],
   "source": [
    "chain = p.create_idea_chain(output_file=\"小诗.md\")\n",
    "for x in chain.stream({\"task\": \"写一首小诗\"}):\n",
    "    print(x, end=\"\")"
   ]
  },
  {
   "cell_type": "code",
   "execution_count": null,
   "id": "36117426-6a2d-4caa-81ca-78b0a67f6664",
   "metadata": {},
   "outputs": [],
   "source": []
  }
 ],
 "metadata": {
  "kernelspec": {
   "display_name": "langchani-book-py3.10-ipykernel",
   "language": "python",
   "name": "langchani-book-py3.10-ipykernel"
  },
  "language_info": {
   "codemirror_mode": {
    "name": "ipython",
    "version": 3
   },
   "file_extension": ".py",
   "mimetype": "text/x-python",
   "name": "python",
   "nbconvert_exporter": "python",
   "pygments_lexer": "ipython3",
   "version": "3.10.0"
  }
 },
 "nbformat": 4,
 "nbformat_minor": 5
}
