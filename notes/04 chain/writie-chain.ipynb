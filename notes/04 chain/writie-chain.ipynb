{
    "cells": [
        {
            "cell_type": "code",
            "execution_count": 1,
            "id": "9b6c6f5e-4996-4245-a13b-00a43359f90b",
            "metadata": {},
            "outputs": [],
            "source": [
                "import re\n",
                "import os"
            ]
        },
        {
            "cell_type": "markdown",
            "id": "34d12cf8-8411-405b-9eab-f2eaaf01b649",
            "metadata": {},
            "source": [
                "## 构建链"
            ]
        },
        {
            "cell_type": "markdown",
            "id": "1d35e618-7d95-4b2c-b7de-949c0553a51b",
            "metadata": {},
            "source": [
                "### create_idea_chain"
            ]
        },
        {
            "cell_type": "code",
            "execution_count": 11,
            "id": "3af48d02-9d70-4006-a7b9-c8cde99acdd5",
            "metadata": {},
            "outputs": [],
            "source": [
                "from illufly.chain import create_chain\n",
                "from langchain_zhipu import ChatZhipuAI\n",
                "chain = create_chain(ChatZhipuAI(model=\"glm-4-air\"))"
            ]
        },
        {
            "cell_type": "code",
            "execution_count": 12,
            "id": "2d422795-be96-4b42-bbfe-d75b459ddc8e",
            "metadata": {},
            "outputs": [
                {
                    "data": {
                        "text/plain": [
                            "{'title': 'WritingInput',\n",
                            " 'description': '使用 chain 时应当提交以下参数。\\n\\n其中，output_file 可以在使用时指定，而 base_folder 等其他参数只能在构建链时指定。',\n",
                            " 'type': 'object',\n",
                            " 'properties': {'task': {'title': 'Task', 'type': 'string'},\n",
                            "  'input': {'title': 'Input',\n",
                            "   'anyOf': [{'type': 'string'},\n",
                            "    {'type': 'array', 'items': {'type': 'string'}}]},\n",
                            "  'knowledge': {'title': 'Knowledge',\n",
                            "   'anyOf': [{'type': 'string'},\n",
                            "    {'type': 'array', 'items': {'type': 'string'}}]},\n",
                            "  'project_id': {'title': 'Project Id', 'type': 'string'},\n",
                            "  'output_file': {'title': 'Output File', 'type': 'string'},\n",
                            "  'prompt_id': {'title': 'Prompt Id', 'type': 'string'}}}"
                        ]
                    },
                    "execution_count": 12,
                    "metadata": {},
                    "output_type": "execute_result"
                }
            ],
            "source": [
                "chain.input_schema.schema()"
            ]
        },
        {
            "cell_type": "code",
            "execution_count": 13,
            "id": "46e48487-5346-4771-ac40-6610800a8658",
            "metadata": {},
            "outputs": [
                {
                    "name": "stdout",
                    "output_type": "stream",
                    "text": [
                        "---\n",
                        "modified_at: '2024-07-02 21:32:26'\n",
                        "output_file: output.md\n",
                        "command: stream\n",
                        "args:\n",
                        "  task: 写一首小诗\n",
                        "  sep_mode: all\n",
                        "  prompt_id: IDEA\n",
                        "  tag_start: '```'\n",
                        "  tag_end: '```'\n",
                        "  base_folder: ./__DOCS__\n",
                        "---\n",
                        "\n",
                        "```markdown\n",
                        "晨曦轻抚窗前柳，\n",
                        "晚霞漫染天边云。\n",
                        "岁月静好安然度，\n",
                        "心中诗篇缓缓吟。\n",
                        "```"
                    ]
                }
            ],
            "source": [
                "for x in chain.stream({\"task\": \"写一首小诗\"}):\n",
                "    print(x, end=\"\")"
            ]
        },
        {
            "cell_type": "code",
            "execution_count": 6,
            "id": "fd914c4b-88e4-4dfa-adcd-56cc93ddb826",
            "metadata": {},
            "outputs": [
                {
                    "data": {
                        "text/plain": [
                            "\"---\\nmodified_at: '2024-06-28 11:29:58'\\noutput_file: output.md\\ncommand: stream\\nargs:\\n  task: 写一首小诗\\n  sep_mode: all\\n  prompt_id: IDEA\\n  base_folder: ./__DOCS__\\n---\\n\\n山川藏秀色，  \\n水波漾华章。  \\n林间鸟语闹，  \\n云端梦绵长。  \\n\\n风轻花枝舞，  \\n月明夜未央。  \\n笔端诉衷肠，  \\n诗韵染星光。  \\n\""
                        ]
                    },
                    "execution_count": 6,
                    "metadata": {},
                    "output_type": "execute_result"
                }
            ],
            "source": [
                "chain.invoke({\"task\": \"写一首小诗\"})"
            ]
        },
        {
            "cell_type": "code",
            "execution_count": 7,
            "id": "31dd7515-a53b-490f-9608-692326cd6670",
            "metadata": {},
            "outputs": [
                {
                    "data": {
                        "text/plain": [
                            "\"---\\nmodified_at: '2024-06-28 11:30:13'\\noutput_file: output.md\\ncommand: stream\\nargs:\\n  task: 写一首小诗\\n  sep_mode: all\\n  prompt_id: IDEA\\n  base_folder: ./__DOCS__\\n---\\n\\n春日细雨洒枝头，\\n绿意盎然藏鸟啾。\\n柳絮轻舞随风起，\\n悠悠漫步赏花愁。\""
                        ]
                    },
                    "execution_count": 7,
                    "metadata": {},
                    "output_type": "execute_result"
                }
            ],
            "source": [
                "await chain.ainvoke({\"task\": \"写一首小诗\"})"
            ]
        },
        {
            "cell_type": "code",
            "execution_count": 8,
            "id": "7db80a9f-7390-444c-bc62-c5524f7e714b",
            "metadata": {},
            "outputs": [
                {
                    "name": "stdout",
                    "output_type": "stream",
                    "text": [
                        "---\n",
                        "modified_at: '2024-06-28 11:30:24'\n",
                        "output_file: output.md\n",
                        "command: stream\n",
                        "args:\n",
                        "  task: 写一首小诗\n",
                        "  sep_mode: all\n",
                        "  prompt_id: IDEA\n",
                        "  base_folder: ./__DOCS__\n",
                        "---\n",
                        "\n",
                        "山川藏秀色，  \n",
                        "水波漾华章。  \n",
                        "笔端诉衷肠，  \n",
                        "墨舞飞扬。  \n",
                        "春风吹过野，  \n",
                        "繁花似锦张。  \n",
                        "字里行间意，  \n",
                        "诗韵长长。  \n",
                        "静待时光老，  \n",
                        "文字永芬芳。  \n",
                        "记录世间美，  \n",
                        "流转千年光。"
                    ]
                }
            ],
            "source": [
                "async for x in chain.astream({\"task\": \"写一首小诗\"}):\n",
                "    print(x, end=\"\")"
            ]
        },
        {
            "cell_type": "code",
            "execution_count": 11,
            "id": "83b82471-948e-414e-9a64-04b7d813941f",
            "metadata": {},
            "outputs": [
                {
                    "data": {
                        "text/plain": [
                            "[\"---\\nmodified_at: '2024-06-28 11:31:23'\\noutput_file: b.md\\ncommand: stream\\nargs:\\n  task: 写一首小诗\\n  sep_mode: all\\n  prompt_id: IDEA\\n  base_folder: ./__DOCS__\\n---\\n\\n春日细雨洒芳田，\\n柳绿桃花红欲燃。\\n微风轻拂水面皱，\\n千里莺啼绿映天。\",\n",
                            " \"---\\nmodified_at: '2024-06-28 11:31:23'\\noutput_file: c.md\\ncommand: stream\\nargs:\\n  task: 写一首小诗\\n  sep_mode: all\\n  prompt_id: IDEA\\n  base_folder: ./__DOCS__\\n---\\n\\n夜雨敲窗梦不成，\\n思绪随风散如萍。\\n书卷翻翻灯下影，\\n字字珠玑绘心情。\"]"
                        ]
                    },
                    "execution_count": 11,
                    "metadata": {},
                    "output_type": "execute_result"
                }
            ],
            "source": [
                "chain.batch([\n",
                "    {\"task\": \"写一首小诗\", \"output_file\": \"b.md\"},\n",
                "    {\"task\": \"写一首小诗\", \"output_file\": \"c.md\"}\n",
                "])"
            ]
        },
        {
            "cell_type": "markdown",
            "id": "253d4fe4-5dcf-4adc-bc99-a4d3daaa4a8c",
            "metadata": {},
            "source": [
                "### create_outline_chain"
            ]
        },
        {
            "cell_type": "code",
            "execution_count": 14,
            "id": "29a10664-4eaa-4787-8785-ec4ba3f71cc6",
            "metadata": {},
            "outputs": [
                {
                    "name": "stdout",
                    "output_type": "stream",
                    "text": [
                        "---\n",
                        "modified_at: '2024-07-02 21:32:39'\n",
                        "output_file: output.md\n",
                        "command: stream\n",
                        "args:\n",
                        "  task: 写一首小诗\n",
                        "  sep_mode: all\n",
                        "  prompt_id: OUTLINE\n",
                        "  tag_start: '```'\n",
                        "  tag_end: '```'\n",
                        "  base_folder: ./__DOCS__\n",
                        "---\n",
                        "\n",
                        "# 一叶孤舟\n",
                        "\n",
                        "<OUTLINE>\n",
                        "预估字数: 100字左右\n",
                        "创意要点: 通过一叶孤舟的意象，表达出人生的孤独与漂泊感，同时展现出对未来的希望和坚持。\n",
                        "创作思路: 以一叶孤舟为主线索，描绘出舟在江水中行驶的情景，从而引发对人生的思考。\n",
                        "创作中涉及到的实体名称: 孤舟、江水、月色、黎明\n",
                        "</OUTLINE>"
                    ]
                }
            ],
            "source": [
                "for x in chain.stream({\"task\": \"写一首小诗\", \"action\": \"outline\"}):\n",
                "    print(x, end=\"\")"
            ]
        },
        {
            "cell_type": "markdown",
            "id": "9b5215e9-b210-40b0-a90c-0007c93c4916",
            "metadata": {},
            "source": [
                "### schema 自举"
            ]
        },
        {
            "cell_type": "code",
            "execution_count": 13,
            "id": "dd14491c-ace5-439c-ae27-a7c65e8c8c4b",
            "metadata": {},
            "outputs": [
                {
                    "data": {
                        "text/plain": [
                            "{'title': 'WritingInput',\n",
                            " 'description': '使用 chain 时应当提交以下参数。\\n\\n其中，output_file 可以在使用时指定，而 base_folder 等其他参数只能在构建链时指定。',\n",
                            " 'type': 'object',\n",
                            " 'properties': {'task': {'title': 'Task', 'type': 'string'},\n",
                            "  'input': {'title': 'Input',\n",
                            "   'anyOf': [{'type': 'string'},\n",
                            "    {'type': 'array', 'items': {'type': 'string'}}]},\n",
                            "  'knowledge': {'title': 'Knowledge',\n",
                            "   'anyOf': [{'type': 'string'},\n",
                            "    {'type': 'array', 'items': {'type': 'string'}}]},\n",
                            "  'project_id': {'title': 'Project Id', 'type': 'string'},\n",
                            "  'output_file': {'title': 'Output File', 'type': 'string'},\n",
                            "  'prompt_id': {'title': 'Prompt Id', 'type': 'string'}}}"
                        ]
                    },
                    "execution_count": 13,
                    "metadata": {},
                    "output_type": "execute_result"
                }
            ],
            "source": [
                "chain.input_schema.schema()"
            ]
        },
        {
            "cell_type": "code",
            "execution_count": 7,
            "id": "c5f884e8-81e0-42a6-812f-df2bac55670d",
            "metadata": {},
            "outputs": [
                {
                    "data": {
                        "text/plain": [
                            "{'title': 'gen_output', 'allOf': [{'type': 'string'}]}"
                        ]
                    },
                    "execution_count": 7,
                    "metadata": {},
                    "output_type": "execute_result"
                }
            ],
            "source": [
                "runnable.output_schema.schema()"
            ]
        },
        {
            "cell_type": "markdown",
            "id": "728b3523-79b0-4c2d-98a4-f5ca8715591d",
            "metadata": {},
            "source": [
                "### 回调"
            ]
        },
        {
            "cell_type": "code",
            "execution_count": 8,
            "id": "b02843f6-6d71-40c4-9573-a5146c5b3e7d",
            "metadata": {},
            "outputs": [
                {
                    "name": "stdout",
                    "output_type": "stream",
                    "text": [
                        "---\n",
                        "task: 写一首小诗\n",
                        "sep_mode: all\n",
                        "prompt_id: IDEA\n",
                        "modified_at: '2024-06-25 17:15:06'\n",
                        "---\n",
                        "\n",
                        "山间清泉潺潺流，\n",
                        "林外幽鸟轻轻啼。\n",
                        "朝阳微照青石径，\n",
                        "漫步云端心自悠。\n",
                        "\n",
                        " >>>>>>>>>>>>>>>>>>>>>>>>>>>>>>>>>>>>>>>> output >>>>>>>>>>>>>>>>>>>>>>>>>>>>>>>>>>>>>>>>\n",
                        "---\n",
                        "task: 写一首小诗\n",
                        "sep_mode: all\n",
                        "prompt_id: IDEA\n",
                        "modified_at: '2024-06-25 17:15:06'\n",
                        "---\n",
                        "\n",
                        "山间清泉潺潺流，\n",
                        "林外幽鸟轻轻啼。\n",
                        "朝阳微照青石径，\n",
                        "漫步云端心自悠。\n"
                    ]
                }
            ],
            "source": [
                "from langchain_core.tracers.schemas import Run\n",
                "\n",
                "def fn_end(run_obj: Run):\n",
                "    print(\"\\n\\n\", \">\"*40, \"output\", \">\"*40)\n",
                "    print(run_obj.outputs['output'])\n",
                "\n",
                "for x in runnable.with_listeners(on_end=fn_end).stream({\"task\": \"写一首小诗\"}):\n",
                "    print(x, end=\"\")"
            ]
        },
        {
            "cell_type": "markdown",
            "id": "a26ba110-d097-43ab-8322-2117d371fb6e",
            "metadata": {},
            "source": [
                "## 在Project中构建链"
            ]
        },
        {
            "cell_type": "markdown",
            "id": "eefe3019-ed14-4e1c-a21e-3ee7626be95e",
            "metadata": {},
            "source": [
                "### idea"
            ]
        },
        {
            "cell_type": "code",
            "execution_count": 5,
            "id": "b2a13a3c-8574-4ee1-9456-04d7660a503a",
            "metadata": {},
            "outputs": [
                {
                    "name": "stdout",
                    "output_type": "stream",
                    "text": [
                        "---\n",
                        "modified_at: '2024-07-02 21:30:07'\n",
                        "output_file: 小诗.md\n",
                        "command: stream\n",
                        "args:\n",
                        "  task: 写一首小诗\n",
                        "  sep_mode: all\n",
                        "  prompt_id: IDEA\n",
                        "  tag_start: '```'\n",
                        "  tag_end: '```'\n",
                        "  base_folder: ./诗歌\n",
                        "---\n",
                        "\n",
                        "山川如画意，风月共诗篇。\n",
                        "花香随风舞，鸟语入梦眠。"
                    ]
                }
            ],
            "source": [
                "for x in chain.stream({\"task\": \"写一首小诗\", \"project_id\": \"诗歌\", \"output_file\": \"小诗.md\"}):\n",
                "    print(x, end=\"\")"
            ]
        },
        {
            "cell_type": "markdown",
            "id": "abad9b8b-20ff-46f0-bf76-fe7098617e90",
            "metadata": {},
            "source": [
                "### outline"
            ]
        },
        {
            "cell_type": "code",
            "execution_count": 15,
            "id": "36117426-6a2d-4caa-81ca-78b0a67f6664",
            "metadata": {},
            "outputs": [
                {
                    "name": "stdout",
                    "output_type": "stream",
                    "text": [
                        "---\n",
                        "modified_at: '2024-07-02 21:32:52'\n",
                        "output_file: 提纲.md\n",
                        "command: stream\n",
                        "args:\n",
                        "  task: 写一首小诗\n",
                        "  sep_mode: all\n",
                        "  prompt_id: OUTLINE\n",
                        "  tag_start: '```'\n",
                        "  tag_end: '```'\n",
                        "  base_folder: ./诗歌\n",
                        "---\n",
                        "\n",
                        "# 小诗《春日随想》\n",
                        "\n",
                        "<OUTLINE>\n",
                        "扩写摘要:\n",
                        "这首小诗通过对春日景色的描绘，表达了诗人对春天的热爱和对生活的感悟。\n",
                        "\n",
                        "扩写要求：\n",
                        "- 预估字数：100字左右\n",
                        "- 创意要点：以春日为背景，融入诗人的感情，表现出春天的生机与美好\n",
                        "- 创作思路：从春日的自然景色入手，描绘春天的花朵、绿叶、阳光等元素，再通过对这些元素的描绘，引出诗人对生活的感悟\n",
                        "- 创作中涉及到的实体名称：春日、花朵、绿叶、阳光\n",
                        "</OUTLINE>"
                    ]
                }
            ],
            "source": [
                "for x in chain.stream({\n",
                "    \"task\": \"写一首小诗\",\n",
                "    \"project_id\": \"诗歌\",\n",
                "    \"output_file\": \"提纲.md\",\n",
                "    \"action\": \"outline\"\n",
                "}):\n",
                "    print(x, end=\"\")"
            ]
        },
        {
            "cell_type": "markdown",
            "id": "59a9dace-493c-4cba-b2b1-b170710c3b56",
            "metadata": {},
            "source": [
                "### from_outline"
            ]
        },
        {
            "cell_type": "code",
            "execution_count": 18,
            "id": "9557457a-d0b2-415d-af77-34999fa12a8c",
            "metadata": {},
            "outputs": [
                {
                    "name": "stdout",
                    "output_type": "stream",
                    "text": [
                        "---\n",
                        "modified_at: '2024-07-02 21:33:19'\n",
                        "output_file: 小诗.md\n",
                        "command: stream\n",
                        "args:\n",
                        "  task: 写一首小诗\n",
                        "  completed: 提纲.md\n",
                        "  sep_mode: outline\n",
                        "  prompt_id: FROM_OUTLINE\n",
                        "  tag_start: <OUTLINE>\n",
                        "  tag_end: </OUTLINE>\n",
                        "  base_folder: ./诗歌\n",
                        "---\n",
                        "\n",
                        "\n",
                        "# 小诗《春日随想》\n",
                        "\n",
                        "\n",
                        "<OUTLINE>\n",
                        "春日里，花朵盛开，绿叶婆娑，阳光明媚。诗人漫步其中，感受着生机勃勃的景象。春日的美好激发了他对生活的热爱，他感叹生命的奇迹，感悟生活的真谛。\n",
                        "</OUTLINE>\n"
                    ]
                }
            ],
            "source": [
                "for x in chain.stream({\n",
                "    \"task\": \"写一首小诗\",\n",
                "    \"project_id\": \"诗歌\",\n",
                "    \"completed\": \"提纲.md\",\n",
                "    \"output_file\": \"小诗.md\",\n",
                "    \"action\": \"from_outline\"\n",
                "}):\n",
                "    print(x, end=\"\")"
            ]
        },
        {
            "cell_type": "code",
            "execution_count": null,
            "id": "bcb763e7-f3f7-4101-848a-12c2e0de3ece",
            "metadata": {},
            "outputs": [],
            "source": []
        },
        {
            "cell_type": "code",
            "execution_count": null,
            "id": "e78c0ace-9659-491d-9868-6110925aad47",
            "metadata": {},
            "outputs": [],
            "source": []
        }
    ],
    "metadata": {
        "kernelspec": {
            "display_name": "illufly-same-ipykernel",
            "language": "python",
            "name": "illufly-same-ipykernel"
        },
        "language_info": {
            "codemirror_mode": {
                "name": "ipython",
                "version": 3
            },
            "file_extension": ".py",
            "mimetype": "text/x-python",
            "name": "python",
            "nbconvert_exporter": "python",
            "pygments_lexer": "ipython3",
            "version": "3.10.0"
        }
    },
    "nbformat": 4,
    "nbformat_minor": 5
}