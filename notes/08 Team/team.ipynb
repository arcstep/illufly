{
 "cells": [
  {
   "cell_type": "markdown",
   "id": "05d05b30-f4e6-4e49-9a20-3697538d6bdf",
   "metadata": {},
   "source": [
    "## Team\n",
    "\n",
    "### 添加 Agent 到团度"
   ]
  },
  {
   "cell_type": "code",
   "execution_count": 1,
   "id": "6a62035e-72e9-4993-a9fe-019bded0dc19",
   "metadata": {},
   "outputs": [],
   "source": [
    "from illufly.flow import Team\n",
    "from illufly.chat import ChatQwen\n",
    "\n",
    "team = Team(name=\"if1\")\n",
    "team.hire(\n",
    "    ChatQwen(name=\"qwen\"),\n",
    "    ChatQwen(name=\"小说家\", memory=(('system', '你是一个小说家，根据我的问题生成一句话小说')))\n",
    ")"
   ]
  },
  {
   "cell_type": "markdown",
   "id": "062117f3-419f-4ed9-9e92-245197530a0d",
   "metadata": {},
   "source": [
    "**不会重复添加**"
   ]
  },
  {
   "cell_type": "code",
   "execution_count": 2,
   "id": "7041245c-5bad-4e14-8904-f1314b16dfa6",
   "metadata": {},
   "outputs": [
    {
     "data": {
      "text/plain": [
       "{'e7e30f88-a0c4-11ef-a26e-367dda7bcd4a': {'threads': set(), 'callings': {}}}"
      ]
     },
     "execution_count": 2,
     "metadata": {},
     "output_type": "execute_result"
    }
   ],
   "source": [
    "team.hire(\n",
    "    ChatQwen(name=\"qwen\"),\n",
    "    ChatQwen(name=\"小说家\", memory=(('system', '你是一个小说家，根据我的描述生成一句话小说，直接输出即可你创作的小说正文即可')))\n",
    ")\n",
    "team.store"
   ]
  },
  {
   "cell_type": "code",
   "execution_count": 3,
   "id": "746d8dcf-8b1c-46ba-85b3-eb8121896cec",
   "metadata": {},
   "outputs": [
    {
     "data": {
      "text/plain": [
       "Team(name=Team.4467791312, agents=['小说家', 'qwen'], folder=['/var/folders/f5/rlf27f4n6wzc_k4x7y4vzm5h0000gn/T/__ILLUFLY__/CHART_LEARN'])"
      ]
     },
     "execution_count": 3,
     "metadata": {},
     "output_type": "execute_result"
    }
   ],
   "source": [
    "team"
   ]
  },
  {
   "cell_type": "code",
   "execution_count": 4,
   "id": "76b314ff-6db3-42c5-b336-3f9b59b3fc90",
   "metadata": {},
   "outputs": [
    {
     "data": {
      "text/plain": [
       "{'/var/folders/f5/rlf27f4n6wzc_k4x7y4vzm5h0000gn/T/__ILLUFLY__/CHART_LEARN',\n",
       " '__DOCS__'}"
      ]
     },
     "execution_count": 4,
     "metadata": {},
     "output_type": "execute_result"
    }
   ],
   "source": [
    "list(team.agents)[0].default_docs"
   ]
  },
  {
   "cell_type": "markdown",
   "id": "7e624c36-6aac-4e46-8b03-faf85aee1fec",
   "metadata": {},
   "source": [
    "### 构建 handlers"
   ]
  },
  {
   "cell_type": "code",
   "execution_count": 5,
   "id": "4c576494-170f-4a92-91da-bbabeb3cb6bf",
   "metadata": {},
   "outputs": [
    {
     "data": {
      "text/plain": [
       "[<function illufly.io.handlers.log.log(block, verbose: bool = False, **kwargs)>,\n",
       " <function illufly.core.runnable.team.base.Team.collect_event.<locals>._collect(event, **kwargs)>]"
      ]
     },
     "execution_count": 5,
     "metadata": {},
     "output_type": "execute_result"
    }
   ],
   "source": [
    "team.handlers"
   ]
  },
  {
   "cell_type": "markdown",
   "id": "5231824e-1713-4808-a2dc-c192e6d9de99",
   "metadata": {},
   "source": [
    "### 支持 @agent_name 选择智能体"
   ]
  },
  {
   "cell_type": "code",
   "execution_count": 6,
   "id": "b7e12492-842c-4acd-a829-503025728dff",
   "metadata": {},
   "outputs": [
    {
     "data": {
      "text/plain": [
       "['小说家']"
      ]
     },
     "execution_count": 6,
     "metadata": {},
     "output_type": "execute_result"
    }
   ],
   "source": [
    "team.fetch_agent_names(\"@小说家 北风吹，一个人\")"
   ]
  },
  {
   "cell_type": "code",
   "execution_count": 7,
   "id": "490a03c2-3d2b-40cf-a5a0-32d79d8cbf17",
   "metadata": {},
   "outputs": [
    {
     "name": "stdout",
     "output_type": "stream",
     "text": [
      "[AGENT] \u001b[34m小说家\u001b[0m\n",
      "\u001b[32m北\u001b[0m\u001b[32m风吹\u001b[0m\u001b[32m，\u001b[0m\u001b[32m一个人\u001b[0m\u001b[32m孤独地走在雪\u001b[0m\u001b[32m地里，留下\u001b[0m\u001b[32m一串长长的脚\u001b[0m\u001b[32m印。\u001b[0m\u001b[32m\u001b[0m\n"
     ]
    },
    {
     "data": {
      "text/plain": [
       "{'e7e30f88-a0c4-11ef-a26e-367dda7bcd4a': {'threads': {('小说家',\n",
       "    '395319-2896-0000')},\n",
       "  'callings': {'f143919c-a0c4-11ef-a26e-367dda7bcd4a': {'agent_name': 'Team.4467791312',\n",
       "    'input': '北风吹，一个人',\n",
       "    'output': '北风吹，一个人孤独地走在雪地里，留下一串长长的脚印。',\n",
       "    'segments': {'f1440096a0c411efa26e367dda7bcd4a': '北风吹，一个人孤独地走在雪地里，留下一串长长的脚印。'},\n",
       "    'other_events': ['{\"id\": \"f143f0eca0c411efa26e367dda7bcd4a\", \"content_id\": \"f143f1dca0c411efa26e367dda7bcd4a\", \"block_type\": \"info\", \"content\": \"记住 10 轮对话\", \"created_at\": \"2024-11-12T15:08:39.357087\", \"calling_info\": {}, \"runnable_info\": {\"name\": \"小说家\", \"class_name\": \"ChatQwen\", \"calling_id\": \"f143919c-a0c4-11ef-a26e-367dda7bcd4a\", \"agent_name\": \"小说家\", \"agent_description\": \"我还没有工具描述\", \"thread_id\": null, \"model_name\": \"qwen-plus\", \"api_key\": \"sk-4ce3e6659b454968b5c5500f30e99417\", \"base_url\": null}}']}}}}"
      ]
     },
     "execution_count": 7,
     "metadata": {},
     "output_type": "execute_result"
    }
   ],
   "source": [
    "team(\"@小说家 北风吹，一个人\", verbose=False)\n",
    "team.store"
   ]
  },
  {
   "cell_type": "code",
   "execution_count": 8,
   "id": "64219de9-ab50-478a-9184-b5e28a866b66",
   "metadata": {},
   "outputs": [
    {
     "data": {
      "text/plain": [
       "{<ChatQwen qwen>, <ChatQwen 小说家>}"
      ]
     },
     "execution_count": 8,
     "metadata": {},
     "output_type": "execute_result"
    }
   ],
   "source": [
    "team.agents"
   ]
  },
  {
   "cell_type": "code",
   "execution_count": 9,
   "id": "cf17a9be-4c6c-4c0c-a05b-7e230df44604",
   "metadata": {},
   "outputs": [
    {
     "name": "stdout",
     "output_type": "stream",
     "text": [
      "[AGENT] \u001b[34mqwen\u001b[0m\n",
      "\u001b[32m\"\u001b[0m\u001b[32m北\u001b[0m\u001b[32m风吹\u001b[0m\u001b[32m，\u001b[0m\u001b[32m一个人\" 这\u001b[0m\u001b[32m句话似乎是在描述\u001b[0m\u001b[32m一个孤独的人在\u001b[0m\u001b[32m寒冷的北风\u001b[0m\u001b[32m中。这句话可能\u001b[0m\u001b[32m是一个诗歌或者歌词\u001b[0m\u001b[32m的一部分，也可能是一种\u001b[0m\u001b[32m比喻，用来形容\u001b[0m\u001b[32m一个人在艰难困\u001b[0m\u001b[32m苦中独自前行\u001b[0m\u001b[32m的情景。如果你\u001b[0m\u001b[32m有更多背景信息\u001b[0m\u001b[32m或具体情境，\u001b[0m\u001b[32m我可以提供更详细的\u001b[0m\u001b[32m解读或帮助。\u001b[0m\u001b[32m\u001b[0m\n"
     ]
    }
   ],
   "source": [
    "team(\"@qwen 北风吹，一个人\")\n",
    "# team.store"
   ]
  },
  {
   "cell_type": "code",
   "execution_count": 12,
   "id": "e5cac0d7-e35a-499a-92f0-efb690493e92",
   "metadata": {},
   "outputs": [
    {
     "name": "stdout",
     "output_type": "stream",
     "text": [
      "[AGENT] \u001b[34m小说家\u001b[0m\n",
      "\u001b[32m北\u001b[0m\u001b[32m风吹\u001b[0m\u001b[32m，\u001b[0m\u001b[32m雪花\u001b[0m\u001b[32m纷飞，一个人\u001b[0m\u001b[32m孤独地行走在\u001b[0m\u001b[32m雪地里；\u001b[0m\u001b[32m一串长长的脚\u001b[0m\u001b[32m印，默默记录\u001b[0m\u001b[32m着他的足迹。\u001b[0m\u001b[32m\u001b[0m\n"
     ]
    },
    {
     "data": {
      "text/plain": [
       "{'e7e30f88-a0c4-11ef-a26e-367dda7bcd4a': {'threads': {('qwen',\n",
       "    '395330-2670-0000'),\n",
       "   ('小说家', '395319-2896-0000')},\n",
       "  'callings': {'f143919c-a0c4-11ef-a26e-367dda7bcd4a': {'agent_name': 'Team.4467791312',\n",
       "    'input': '北风吹，一个人',\n",
       "    'output': '北风吹，一个人孤独地走在雪地里，留下一串长长的脚印。',\n",
       "    'segments': {'f1440096a0c411efa26e367dda7bcd4a': '北风吹，一个人孤独地走在雪地里，留下一串长长的脚印。'},\n",
       "    'other_events': ['{\"id\": \"f143f0eca0c411efa26e367dda7bcd4a\", \"content_id\": \"f143f1dca0c411efa26e367dda7bcd4a\", \"block_type\": \"info\", \"content\": \"记住 10 轮对话\", \"created_at\": \"2024-11-12T15:08:39.357087\", \"calling_info\": {}, \"runnable_info\": {\"name\": \"小说家\", \"class_name\": \"ChatQwen\", \"calling_id\": \"f143919c-a0c4-11ef-a26e-367dda7bcd4a\", \"agent_name\": \"小说家\", \"agent_description\": \"我还没有工具描述\", \"thread_id\": null, \"model_name\": \"qwen-plus\", \"api_key\": \"sk-4ce3e6659b454968b5c5500f30e99417\", \"base_url\": null}}']},\n",
       "   'f82659cc-a0c4-11ef-a26e-367dda7bcd4a': {'agent_name': 'Team.4467791312',\n",
       "    'input': '北风吹，一个人',\n",
       "    'output': '\"北风吹，一个人\" 这句话似乎是在描述一个孤独的人在寒冷的北风中。这句话可能是一个诗歌或者歌词的一部分，也可能是一种比喻，用来形容一个人在艰难困苦中独自前行的情景。如果你有更多背景信息或具体情境，我可以提供更详细的解读或帮助。',\n",
       "    'segments': {'f8268eb0a0c411efa26e367dda7bcd4a': '\"北风吹，一个人\" 这句话似乎是在描述一个孤独的人在寒冷的北风中。这句话可能是一个诗歌或者歌词的一部分，也可能是一种比喻，用来形容一个人在艰难困苦中独自前行的情景。如果你有更多背景信息或具体情境，我可以提供更详细的解读或帮助。'},\n",
       "    'other_events': ['{\"id\": \"f8268686a0c411efa26e367dda7bcd4a\", \"content_id\": \"f8268730a0c411efa26e367dda7bcd4a\", \"block_type\": \"info\", \"content\": \"记住 10 轮对话\", \"created_at\": \"2024-11-12T15:08:50.908351\", \"calling_info\": {}, \"runnable_info\": {\"name\": \"qwen\", \"class_name\": \"ChatQwen\", \"calling_id\": \"f82659cc-a0c4-11ef-a26e-367dda7bcd4a\", \"agent_name\": \"qwen\", \"agent_description\": \"我还没有工具描述\", \"thread_id\": null, \"model_name\": \"qwen-plus\", \"api_key\": \"sk-4ce3e6659b454968b5c5500f30e99417\", \"base_url\": null}}']},\n",
       "   'fd469912-a0c4-11ef-a26e-367dda7bcd4a': {'agent_name': 'Team.4467791312',\n",
       "    'input': '能改成两句吗？',\n",
       "    'output': '北风吹，雪花飘落，一个人孤独地走在雪地里；身后，一串长长的脚印延伸向远方。',\n",
       "    'segments': {'fd46e714a0c411efa26e367dda7bcd4a': '北风吹，雪花飘落，一个人孤独地走在雪地里；身后，一串长长的脚印延伸向远方。'},\n",
       "    'other_events': ['{\"id\": \"fd46d59ea0c411efa26e367dda7bcd4a\", \"content_id\": \"fd46d71aa0c411efa26e367dda7bcd4a\", \"block_type\": \"info\", \"content\": \"记住 10 轮对话\", \"created_at\": \"2024-11-12T15:08:59.508730\", \"calling_info\": {}, \"runnable_info\": {\"name\": \"小说家\", \"class_name\": \"ChatQwen\", \"calling_id\": \"fd469912-a0c4-11ef-a26e-367dda7bcd4a\", \"agent_name\": \"小说家\", \"agent_description\": \"我还没有工具描述\", \"thread_id\": \"395319-2896-0000\", \"model_name\": \"qwen-plus\", \"api_key\": \"sk-4ce3e6659b454968b5c5500f30e99417\", \"base_url\": null}}']},\n",
       "   '01a815a8-a0c5-11ef-a26e-367dda7bcd4a': {'agent_name': 'Team.4467791312',\n",
       "    'input': '能改成两句吗？',\n",
       "    'output': '北风吹，雪花纷飞，一个人孤独地行走在雪地里；一串长长的脚印，默默记录着他的足迹。',\n",
       "    'segments': {'01a84208a0c511efa26e367dda7bcd4a': '北风吹，雪花纷飞，一个人孤独地行走在雪地里；一串长长的脚印，默默记录着他的足迹。'},\n",
       "    'other_events': ['{\"id\": \"01a83718a0c511efa26e367dda7bcd4a\", \"content_id\": \"01a837f4a0c511efa26e367dda7bcd4a\", \"block_type\": \"info\", \"content\": \"记住 10 轮对话\", \"created_at\": \"2024-11-12T15:09:06.857787\", \"calling_info\": {}, \"runnable_info\": {\"name\": \"小说家\", \"class_name\": \"ChatQwen\", \"calling_id\": \"01a815a8-a0c5-11ef-a26e-367dda7bcd4a\", \"agent_name\": \"小说家\", \"agent_description\": \"我还没有工具描述\", \"thread_id\": \"395319-2896-0000\", \"model_name\": \"qwen-plus\", \"api_key\": \"sk-4ce3e6659b454968b5c5500f30e99417\", \"base_url\": null}}']}}}}"
      ]
     },
     "execution_count": 12,
     "metadata": {},
     "output_type": "execute_result"
    }
   ],
   "source": [
    "team(\"@小说家 能改成两句吗？\", verbose=False)\n",
    "team.store"
   ]
  },
  {
   "cell_type": "code",
   "execution_count": 13,
   "id": "da7e44f0-d656-495d-b379-0e7d01ffdcfd",
   "metadata": {},
   "outputs": [
    {
     "data": {
      "text/plain": [
       "[{'role': 'system', 'content': 'system\\n你是一个小说家，根据我的问题生成一句话小说'},\n",
       " {'role': 'user', 'content': '北风吹，一个人'},\n",
       " {'role': 'assistant', 'content': '北风吹，一个人孤独地走在雪地里，留下一串长长的脚印。'},\n",
       " {'role': 'user', 'content': '能改成两句吗？'},\n",
       " {'role': 'assistant', 'content': '北风吹，雪花飘落，一个人孤独地走在雪地里；身后，一串长长的脚印延伸向远方。'},\n",
       " {'role': 'user', 'content': '能改成两句吗？'},\n",
       " {'role': 'assistant', 'content': '北风吹，雪花纷飞，一个人孤独地行走在雪地里；一串长长的脚印，默默记录着他的足迹。'}]"
      ]
     },
     "execution_count": 13,
     "metadata": {},
     "output_type": "execute_result"
    }
   ],
   "source": [
    "list(team.agents)[0].memory"
   ]
  },
  {
   "cell_type": "markdown",
   "id": "533872a6-04be-45b3-a21d-828810d1eb0b",
   "metadata": {},
   "source": [
    "### 作为事件生成器"
   ]
  },
  {
   "cell_type": "code",
   "execution_count": 14,
   "id": "c8a37cb2-6b4e-41c4-9cd7-4074f9559283",
   "metadata": {
    "scrolled": true
   },
   "outputs": [
    {
     "name": "stdout",
     "output_type": "stream",
     "text": [
      "\n",
      "{'data': {'block_type': 'info', 'content': '记住 10 轮对话', 'content_id': '05fd9bdca0c511efa26e367dda7bcd4a', 'thread_id': None, 'calling_id': '05fd7328-a0c5-11ef-a26e-367dda7bcd4a', 'agent_name': '小说家', 'model_name': 'qwen-plus'}}\n",
      "{'data': {'block_type': 'chunk', 'content': '在', 'content_id': '05fda5dca0c511efa26e367dda7bcd4a', 'thread_id': '395354-4348-0000', 'calling_id': '05fd7328-a0c5-11ef-a26e-367dda7bcd4a', 'agent_name': '小说家', 'model_name': 'qwen-plus'}}\n",
      "{'data': {'block_type': 'chunk', 'content': '遥远', 'content_id': '05fda5dca0c511efa26e367dda7bcd4a', 'thread_id': '395354-4348-0000', 'calling_id': '05fd7328-a0c5-11ef-a26e-367dda7bcd4a', 'agent_name': '小说家', 'model_name': 'qwen-plus'}}\n",
      "{'data': {'block_type': 'chunk', 'content': '的', 'content_id': '05fda5dca0c511efa26e367dda7bcd4a', 'thread_id': '395354-4348-0000', 'calling_id': '05fd7328-a0c5-11ef-a26e-367dda7bcd4a', 'agent_name': '小说家', 'model_name': 'qwen-plus'}}\n",
      "{'data': {'block_type': 'chunk', 'content': '小镇', 'content_id': '05fda5dca0c511efa26e367dda7bcd4a', 'thread_id': '395354-4348-0000', 'calling_id': '05fd7328-a0c5-11ef-a26e-367dda7bcd4a', 'agent_name': '小说家', 'model_name': 'qwen-plus'}}\n",
      "{'data': {'block_type': 'chunk', 'content': '上，有一棵', 'content_id': '05fda5dca0c511efa26e367dda7bcd4a', 'thread_id': '395354-4348-0000', 'calling_id': '05fd7328-a0c5-11ef-a26e-367dda7bcd4a', 'agent_name': '小说家', 'model_name': 'qwen-plus'}}\n",
      "{'data': {'block_type': 'chunk', 'content': '古老的橡树，', 'content_id': '05fda5dca0c511efa26e367dda7bcd4a', 'thread_id': '395354-4348-0000', 'calling_id': '05fd7328-a0c5-11ef-a26e-367dda7bcd4a', 'agent_name': '小说家', 'model_name': 'qwen-plus'}}\n",
      "{'data': {'block_type': 'chunk', 'content': '据说它见证了时间', 'content_id': '05fda5dca0c511efa26e367dda7bcd4a', 'thread_id': '395354-4348-0000', 'calling_id': '05fd7328-a0c5-11ef-a26e-367dda7bcd4a', 'agent_name': '小说家', 'model_name': 'qwen-plus'}}\n",
      "{'data': {'block_type': 'chunk', 'content': '的流转与世', 'content_id': '05fda5dca0c511efa26e367dda7bcd4a', 'thread_id': '395354-4348-0000', 'calling_id': '05fd7328-a0c5-11ef-a26e-367dda7bcd4a', 'agent_name': '小说家', 'model_name': 'qwen-plus'}}\n",
      "{'data': {'block_type': 'chunk', 'content': '事的变迁。', 'content_id': '05fda5dca0c511efa26e367dda7bcd4a', 'thread_id': '395354-4348-0000', 'calling_id': '05fd7328-a0c5-11ef-a26e-367dda7bcd4a', 'agent_name': '小说家', 'model_name': 'qwen-plus'}}\n",
      "{'data': {'block_type': 'chunk', 'content': '每当夜幕降临', 'content_id': '05fda5dca0c511efa26e367dda7bcd4a', 'thread_id': '395354-4348-0000', 'calling_id': '05fd7328-a0c5-11ef-a26e-367dda7bcd4a', 'agent_name': '小说家', 'model_name': 'qwen-plus'}}\n",
      "{'data': {'block_type': 'chunk', 'content': '，月光如', 'content_id': '05fda5dca0c511efa26e367dda7bcd4a', 'thread_id': '395354-4348-0000', 'calling_id': '05fd7328-a0c5-11ef-a26e-367dda7bcd4a', 'agent_name': '小说家', 'model_name': 'qwen-plus'}}\n",
      "{'data': {'block_type': 'chunk', 'content': '水，树下', 'content_id': '05fda5dca0c511efa26e367dda7bcd4a', 'thread_id': '395354-4348-0000', 'calling_id': '05fd7328-a0c5-11ef-a26e-367dda7bcd4a', 'agent_name': '小说家', 'model_name': 'qwen-plus'}}\n",
      "{'data': {'block_type': 'chunk', 'content': '便会出现一个孤独', 'content_id': '05fda5dca0c511efa26e367dda7bcd4a', 'thread_id': '395354-4348-0000', 'calling_id': '05fd7328-a0c5-11ef-a26e-367dda7bcd4a', 'agent_name': '小说家', 'model_name': 'qwen-plus'}}\n",
      "{'data': {'block_type': 'chunk', 'content': '的身影——艾米', 'content_id': '05fda5dca0c511efa26e367dda7bcd4a', 'thread_id': '395354-4348-0000', 'calling_id': '05fd7328-a0c5-11ef-a26e-367dda7bcd4a', 'agent_name': '小说家', 'model_name': 'qwen-plus'}}\n",
      "{'data': {'block_type': 'chunk', 'content': '莉，一位热爱', 'content_id': '05fda5dca0c511efa26e367dda7bcd4a', 'thread_id': '395354-4348-0000', 'calling_id': '05fd7328-a0c5-11ef-a26e-367dda7bcd4a', 'agent_name': '小说家', 'model_name': 'qwen-plus'}}\n",
      "{'data': {'block_type': 'chunk', 'content': '写作的女孩。她', 'content_id': '05fda5dca0c511efa26e367dda7bcd4a', 'thread_id': '395354-4348-0000', 'calling_id': '05fd7328-a0c5-11ef-a26e-367dda7bcd4a', 'agent_name': '小说家', 'model_name': 'qwen-plus'}}\n",
      "{'data': {'block_type': 'chunk', 'content': '相信这棵树有着', 'content_id': '05fda5dca0c511efa26e367dda7bcd4a', 'thread_id': '395354-4348-0000', 'calling_id': '05fd7328-a0c5-11ef-a26e-367dda7bcd4a', 'agent_name': '小说家', 'model_name': 'qwen-plus'}}\n",
      "{'data': {'block_type': 'chunk', 'content': '神奇的力量，能够', 'content_id': '05fda5dca0c511efa26e367dda7bcd4a', 'thread_id': '395354-4348-0000', 'calling_id': '05fd7328-a0c5-11ef-a26e-367dda7bcd4a', 'agent_name': '小说家', 'model_name': 'qwen-plus'}}\n",
      "{'data': {'block_type': 'chunk', 'content': '聆听心声，', 'content_id': '05fda5dca0c511efa26e367dda7bcd4a', 'thread_id': '395354-4348-0000', 'calling_id': '05fd7328-a0c5-11ef-a26e-367dda7bcd4a', 'agent_name': '小说家', 'model_name': 'qwen-plus'}}\n",
      "{'data': {'block_type': 'chunk', 'content': '解答疑惑。每', 'content_id': '05fda5dca0c511efa26e367dda7bcd4a', 'thread_id': '395354-4348-0000', 'calling_id': '05fd7328-a0c5-11ef-a26e-367dda7bcd4a', 'agent_name': '小说家', 'model_name': 'qwen-plus'}}\n",
      "{'data': {'block_type': 'chunk', 'content': '晚，艾米', 'content_id': '05fda5dca0c511efa26e367dda7bcd4a', 'thread_id': '395354-4348-0000', 'calling_id': '05fd7328-a0c5-11ef-a26e-367dda7bcd4a', 'agent_name': '小说家', 'model_name': 'qwen-plus'}}\n",
      "{'data': {'block_type': 'chunk', 'content': '莉都会带着她的', 'content_id': '05fda5dca0c511efa26e367dda7bcd4a', 'thread_id': '395354-4348-0000', 'calling_id': '05fd7328-a0c5-11ef-a26e-367dda7bcd4a', 'agent_name': '小说家', 'model_name': 'qwen-plus'}}\n",
      "{'data': {'block_type': 'chunk', 'content': '笔记本，坐在树', 'content_id': '05fda5dca0c511efa26e367dda7bcd4a', 'thread_id': '395354-4348-0000', 'calling_id': '05fd7328-a0c5-11ef-a26e-367dda7bcd4a', 'agent_name': '小说家', 'model_name': 'qwen-plus'}}\n",
      "{'data': {'block_type': 'chunk', 'content': '根旁，轻', 'content_id': '05fda5dca0c511efa26e367dda7bcd4a', 'thread_id': '395354-4348-0000', 'calling_id': '05fd7328-a0c5-11ef-a26e-367dda7bcd4a', 'agent_name': '小说家', 'model_name': 'qwen-plus'}}\n",
      "{'data': {'block_type': 'chunk', 'content': '声诉说着自己的', 'content_id': '05fda5dca0c511efa26e367dda7bcd4a', 'thread_id': '395354-4348-0000', 'calling_id': '05fd7328-a0c5-11ef-a26e-367dda7bcd4a', 'agent_name': '小说家', 'model_name': 'qwen-plus'}}\n",
      "{'data': {'block_type': 'chunk', 'content': '梦想与困惑。', 'content_id': '05fda5dca0c511efa26e367dda7bcd4a', 'thread_id': '395354-4348-0000', 'calling_id': '05fd7328-a0c5-11ef-a26e-367dda7bcd4a', 'agent_name': '小说家', 'model_name': 'qwen-plus'}}\n",
      "{'data': {'block_type': 'chunk', 'content': '随着时间的推移', 'content_id': '05fda5dca0c511efa26e367dda7bcd4a', 'thread_id': '395354-4348-0000', 'calling_id': '05fd7328-a0c5-11ef-a26e-367dda7bcd4a', 'agent_name': '小说家', 'model_name': 'qwen-plus'}}\n",
      "{'data': {'block_type': 'chunk', 'content': '，她发现自己的', 'content_id': '05fda5dca0c511efa26e367dda7bcd4a', 'thread_id': '395354-4348-0000', 'calling_id': '05fd7328-a0c5-11ef-a26e-367dda7bcd4a', 'agent_name': '小说家', 'model_name': 'qwen-plus'}}\n",
      "{'data': {'block_type': 'chunk', 'content': '文字越来越流畅，', 'content_id': '05fda5dca0c511efa26e367dda7bcd4a', 'thread_id': '395354-4348-0000', 'calling_id': '05fd7328-a0c5-11ef-a26e-367dda7bcd4a', 'agent_name': '小说家', 'model_name': 'qwen-plus'}}\n",
      "{'data': {'block_type': 'chunk', 'content': '故事也更加生动', 'content_id': '05fda5dca0c511efa26e367dda7bcd4a', 'thread_id': '395354-4348-0000', 'calling_id': '05fd7328-a0c5-11ef-a26e-367dda7bcd4a', 'agent_name': '小说家', 'model_name': 'qwen-plus'}}\n",
      "{'data': {'block_type': 'chunk', 'content': '有趣。直到有一天', 'content_id': '05fda5dca0c511efa26e367dda7bcd4a', 'thread_id': '395354-4348-0000', 'calling_id': '05fd7328-a0c5-11ef-a26e-367dda7bcd4a', 'agent_name': '小说家', 'model_name': 'qwen-plus'}}\n",
      "{'data': {'block_type': 'chunk', 'content': '，当她再次', 'content_id': '05fda5dca0c511efa26e367dda7bcd4a', 'thread_id': '395354-4348-0000', 'calling_id': '05fd7328-a0c5-11ef-a26e-367dda7bcd4a', 'agent_name': '小说家', 'model_name': 'qwen-plus'}}\n",
      "{'data': {'block_type': 'chunk', 'content': '来到树下时', 'content_id': '05fda5dca0c511efa26e367dda7bcd4a', 'thread_id': '395354-4348-0000', 'calling_id': '05fd7328-a0c5-11ef-a26e-367dda7bcd4a', 'agent_name': '小说家', 'model_name': 'qwen-plus'}}\n",
      "{'data': {'block_type': 'chunk', 'content': '，发现了一封', 'content_id': '05fda5dca0c511efa26e367dda7bcd4a', 'thread_id': '395354-4348-0000', 'calling_id': '05fd7328-a0c5-11ef-a26e-367dda7bcd4a', 'agent_name': '小说家', 'model_name': 'qwen-plus'}}\n",
      "{'data': {'block_type': 'chunk', 'content': '信，信中', 'content_id': '05fda5dca0c511efa26e367dda7bcd4a', 'thread_id': '395354-4348-0000', 'calling_id': '05fd7328-a0c5-11ef-a26e-367dda7bcd4a', 'agent_name': '小说家', 'model_name': 'qwen-plus'}}\n",
      "{'data': {'block_type': 'chunk', 'content': '写着：“勇敢地', 'content_id': '05fda5dca0c511efa26e367dda7bcd4a', 'thread_id': '395354-4348-0000', 'calling_id': '05fd7328-a0c5-11ef-a26e-367dda7bcd4a', 'agent_name': '小说家', 'model_name': 'qwen-plus'}}\n",
      "{'data': {'block_type': 'chunk', 'content': '追求你的梦想吧', 'content_id': '05fda5dca0c511efa26e367dda7bcd4a', 'thread_id': '395354-4348-0000', 'calling_id': '05fd7328-a0c5-11ef-a26e-367dda7bcd4a', 'agent_name': '小说家', 'model_name': 'qwen-plus'}}\n",
      "{'data': {'block_type': 'chunk', 'content': '，世界因你', 'content_id': '05fda5dca0c511efa26e367dda7bcd4a', 'thread_id': '395354-4348-0000', 'calling_id': '05fd7328-a0c5-11ef-a26e-367dda7bcd4a', 'agent_name': '小说家', 'model_name': 'qwen-plus'}}\n",
      "{'data': {'block_type': 'chunk', 'content': '而精彩。”艾', 'content_id': '05fda5dca0c511efa26e367dda7bcd4a', 'thread_id': '395354-4348-0000', 'calling_id': '05fd7328-a0c5-11ef-a26e-367dda7bcd4a', 'agent_name': '小说家', 'model_name': 'qwen-plus'}}\n",
      "{'data': {'block_type': 'chunk', 'content': '米莉泪流', 'content_id': '05fda5dca0c511efa26e367dda7bcd4a', 'thread_id': '395354-4348-0000', 'calling_id': '05fd7328-a0c5-11ef-a26e-367dda7bcd4a', 'agent_name': '小说家', 'model_name': 'qwen-plus'}}\n",
      "{'data': {'block_type': 'chunk', 'content': '满面，她', 'content_id': '05fda5dca0c511efa26e367dda7bcd4a', 'thread_id': '395354-4348-0000', 'calling_id': '05fd7328-a0c5-11ef-a26e-367dda7bcd4a', 'agent_name': '小说家', 'model_name': 'qwen-plus'}}\n",
      "{'data': {'block_type': 'chunk', 'content': '知道这是来自古老', 'content_id': '05fda5dca0c511efa26e367dda7bcd4a', 'thread_id': '395354-4348-0000', 'calling_id': '05fd7328-a0c5-11ef-a26e-367dda7bcd4a', 'agent_name': '小说家', 'model_name': 'qwen-plus'}}\n",
      "{'data': {'block_type': 'chunk', 'content': '橡树的祝福', 'content_id': '05fda5dca0c511efa26e367dda7bcd4a', 'thread_id': '395354-4348-0000', 'calling_id': '05fd7328-a0c5-11ef-a26e-367dda7bcd4a', 'agent_name': '小说家', 'model_name': 'qwen-plus'}}\n",
      "{'data': {'block_type': 'chunk', 'content': '。从那以后', 'content_id': '05fda5dca0c511efa26e367dda7bcd4a', 'thread_id': '395354-4348-0000', 'calling_id': '05fd7328-a0c5-11ef-a26e-367dda7bcd4a', 'agent_name': '小说家', 'model_name': 'qwen-plus'}}\n",
      "{'data': {'block_type': 'chunk', 'content': '，她不再犹豫', 'content_id': '05fda5dca0c511efa26e367dda7bcd4a', 'thread_id': '395354-4348-0000', 'calling_id': '05fd7328-a0c5-11ef-a26e-367dda7bcd4a', 'agent_name': '小说家', 'model_name': 'qwen-plus'}}\n",
      "{'data': {'block_type': 'chunk', 'content': '，坚定地踏', 'content_id': '05fda5dca0c511efa26e367dda7bcd4a', 'thread_id': '395354-4348-0000', 'calling_id': '05fd7328-a0c5-11ef-a26e-367dda7bcd4a', 'agent_name': '小说家', 'model_name': 'qwen-plus'}}\n",
      "{'data': {'block_type': 'chunk', 'content': '上了成为作家的道路', 'content_id': '05fda5dca0c511efa26e367dda7bcd4a', 'thread_id': '395354-4348-0000', 'calling_id': '05fd7328-a0c5-11ef-a26e-367dda7bcd4a', 'agent_name': '小说家', 'model_name': 'qwen-plus'}}\n",
      "{'data': {'block_type': 'chunk', 'content': '，用笔记录', 'content_id': '05fda5dca0c511efa26e367dda7bcd4a', 'thread_id': '395354-4348-0000', 'calling_id': '05fd7328-a0c5-11ef-a26e-367dda7bcd4a', 'agent_name': '小说家', 'model_name': 'qwen-plus'}}\n",
      "{'data': {'block_type': 'chunk', 'content': '下每一个温暖而', 'content_id': '05fda5dca0c511efa26e367dda7bcd4a', 'thread_id': '395354-4348-0000', 'calling_id': '05fd7328-a0c5-11ef-a26e-367dda7bcd4a', 'agent_name': '小说家', 'model_name': 'qwen-plus'}}\n",
      "{'data': {'block_type': 'chunk', 'content': '美好的瞬间。', 'content_id': '05fda5dca0c511efa26e367dda7bcd4a', 'thread_id': '395354-4348-0000', 'calling_id': '05fd7328-a0c5-11ef-a26e-367dda7bcd4a', 'agent_name': '小说家', 'model_name': 'qwen-plus'}}\n",
      "{'data': {'block_type': 'chunk', 'content': '', 'content_id': '05fda5dca0c511efa26e367dda7bcd4a', 'thread_id': '395354-4348-0000', 'calling_id': '05fd7328-a0c5-11ef-a26e-367dda7bcd4a', 'agent_name': '小说家', 'model_name': 'qwen-plus'}}\n"
     ]
    }
   ],
   "source": [
    "from illufly.flow import Team\n",
    "from illufly.chat import ChatQwen\n",
    "\n",
    "team = Team(name=\"if1\", handlers=[])\n",
    "team.hire(\n",
    "    ChatQwen(name=\"qwen\"),\n",
    "    ChatQwen(name=\"小说家\", memory=(('system', '你是一个小说家，根据我的问题生成一句话小说')))\n",
    ")\n",
    "\n",
    "for b in team(\"给我写一篇200字小作文\", generator=\"sync\"):\n",
    "    print(b)"
   ]
  },
  {
   "cell_type": "markdown",
   "id": "b1bc2731-c35b-48f3-abdb-c64b05d88c51",
   "metadata": {},
   "source": [
    "### 作为异步的事件生成器"
   ]
  },
  {
   "cell_type": "code",
   "execution_count": 15,
   "id": "b1377c00-270e-472b-a685-875cd36fe394",
   "metadata": {
    "scrolled": true
   },
   "outputs": [
    {
     "name": "stdout",
     "output_type": "stream",
     "text": [
      "\n",
      "{'data': {'block_type': 'info', 'content': '记住 10 轮对话', 'content_id': '0c22a2faa0c511efa26e367dda7bcd4a', 'thread_id': None, 'calling_id': '0c225be2-a0c5-11ef-a26e-367dda7bcd4a', 'agent_name': '小说家', 'model_name': 'qwen-plus'}}\n",
      "{'data': {'block_type': 'chunk', 'content': '在', 'content_id': '0c22af7aa0c511efa26e367dda7bcd4a', 'thread_id': '395364-9936-0000', 'calling_id': '0c225be2-a0c5-11ef-a26e-367dda7bcd4a', 'agent_name': '小说家', 'model_name': 'qwen-plus'}}\n",
      "{'data': {'block_type': 'chunk', 'content': '一片', 'content_id': '0c22af7aa0c511efa26e367dda7bcd4a', 'thread_id': '395364-9936-0000', 'calling_id': '0c225be2-a0c5-11ef-a26e-367dda7bcd4a', 'agent_name': '小说家', 'model_name': 'qwen-plus'}}\n",
      "{'data': {'block_type': 'chunk', 'content': '遥远', 'content_id': '0c22af7aa0c511efa26e367dda7bcd4a', 'thread_id': '395364-9936-0000', 'calling_id': '0c225be2-a0c5-11ef-a26e-367dda7bcd4a', 'agent_name': '小说家', 'model_name': 'qwen-plus'}}\n",
      "{'data': {'block_type': 'chunk', 'content': '的', 'content_id': '0c22af7aa0c511efa26e367dda7bcd4a', 'thread_id': '395364-9936-0000', 'calling_id': '0c225be2-a0c5-11ef-a26e-367dda7bcd4a', 'agent_name': '小说家', 'model_name': 'qwen-plus'}}\n",
      "{'data': {'block_type': 'chunk', 'content': '森林里，住', 'content_id': '0c22af7aa0c511efa26e367dda7bcd4a', 'thread_id': '395364-9936-0000', 'calling_id': '0c225be2-a0c5-11ef-a26e-367dda7bcd4a', 'agent_name': '小说家', 'model_name': 'qwen-plus'}}\n",
      "{'data': {'block_type': 'chunk', 'content': '着一只孤独的', 'content_id': '0c22af7aa0c511efa26e367dda7bcd4a', 'thread_id': '395364-9936-0000', 'calling_id': '0c225be2-a0c5-11ef-a26e-367dda7bcd4a', 'agent_name': '小说家', 'model_name': 'qwen-plus'}}\n",
      "{'data': {'block_type': 'chunk', 'content': '狐狸。它的毛', 'content_id': '0c22af7aa0c511efa26e367dda7bcd4a', 'thread_id': '395364-9936-0000', 'calling_id': '0c225be2-a0c5-11ef-a26e-367dda7bcd4a', 'agent_name': '小说家', 'model_name': 'qwen-plus'}}\n",
      "{'data': {'block_type': 'chunk', 'content': '色如同落日', 'content_id': '0c22af7aa0c511efa26e367dda7bcd4a', 'thread_id': '395364-9936-0000', 'calling_id': '0c225be2-a0c5-11ef-a26e-367dda7bcd4a', 'agent_name': '小说家', 'model_name': 'qwen-plus'}}\n",
      "{'data': {'block_type': 'chunk', 'content': '余晖般绚', 'content_id': '0c22af7aa0c511efa26e367dda7bcd4a', 'thread_id': '395364-9936-0000', 'calling_id': '0c225be2-a0c5-11ef-a26e-367dda7bcd4a', 'agent_name': '小说家', 'model_name': 'qwen-plus'}}\n",
      "{'data': {'block_type': 'chunk', 'content': '烂，但它的', 'content_id': '0c22af7aa0c511efa26e367dda7bcd4a', 'thread_id': '395364-9936-0000', 'calling_id': '0c225be2-a0c5-11ef-a26e-367dda7bcd4a', 'agent_name': '小说家', 'model_name': 'qwen-plus'}}\n",
      "{'data': {'block_type': 'chunk', 'content': '内心却像夜', 'content_id': '0c22af7aa0c511efa26e367dda7bcd4a', 'thread_id': '395364-9936-0000', 'calling_id': '0c225be2-a0c5-11ef-a26e-367dda7bcd4a', 'agent_name': '小说家', 'model_name': 'qwen-plus'}}\n",
      "{'data': {'block_type': 'chunk', 'content': '空一样寂寞。', 'content_id': '0c22af7aa0c511efa26e367dda7bcd4a', 'thread_id': '395364-9936-0000', 'calling_id': '0c225be2-a0c5-11ef-a26e-367dda7bcd4a', 'agent_name': '小说家', 'model_name': 'qwen-plus'}}\n",
      "{'data': {'block_type': 'chunk', 'content': '每天，它都会', 'content_id': '0c22af7aa0c511efa26e367dda7bcd4a', 'thread_id': '395364-9936-0000', 'calling_id': '0c225be2-a0c5-11ef-a26e-367dda7bcd4a', 'agent_name': '小说家', 'model_name': 'qwen-plus'}}\n",
      "{'data': {'block_type': 'chunk', 'content': '漫步在林间', 'content_id': '0c22af7aa0c511efa26e367dda7bcd4a', 'thread_id': '395364-9936-0000', 'calling_id': '0c225be2-a0c5-11ef-a26e-367dda7bcd4a', 'agent_name': '小说家', 'model_name': 'qwen-plus'}}\n",
      "{'data': {'block_type': 'chunk', 'content': '小道上，', 'content_id': '0c22af7aa0c511efa26e367dda7bcd4a', 'thread_id': '395364-9936-0000', 'calling_id': '0c225be2-a0c5-11ef-a26e-367dda7bcd4a', 'agent_name': '小说家', 'model_name': 'qwen-plus'}}\n",
      "{'data': {'block_type': 'chunk', 'content': '寻找着一丝温暖', 'content_id': '0c22af7aa0c511efa26e367dda7bcd4a', 'thread_id': '395364-9936-0000', 'calling_id': '0c225be2-a0c5-11ef-a26e-367dda7bcd4a', 'agent_name': '小说家', 'model_name': 'qwen-plus'}}\n",
      "{'data': {'block_type': 'chunk', 'content': '和陪伴。直到', 'content_id': '0c22af7aa0c511efa26e367dda7bcd4a', 'thread_id': '395364-9936-0000', 'calling_id': '0c225be2-a0c5-11ef-a26e-367dda7bcd4a', 'agent_name': '小说家', 'model_name': 'qwen-plus'}}\n",
      "{'data': {'block_type': 'chunk', 'content': '有一天，它遇到了', 'content_id': '0c22af7aa0c511efa26e367dda7bcd4a', 'thread_id': '395364-9936-0000', 'calling_id': '0c225be2-a0c5-11ef-a26e-367dda7bcd4a', 'agent_name': '小说家', 'model_name': 'qwen-plus'}}\n",
      "{'data': {'block_type': 'chunk', 'content': '一只受伤的小鸟', 'content_id': '0c22af7aa0c511efa26e367dda7bcd4a', 'thread_id': '395364-9936-0000', 'calling_id': '0c225be2-a0c5-11ef-a26e-367dda7bcd4a', 'agent_name': '小说家', 'model_name': 'qwen-plus'}}\n",
      "{'data': {'block_type': 'chunk', 'content': '，羽毛凌乱', 'content_id': '0c22af7aa0c511efa26e367dda7bcd4a', 'thread_id': '395364-9936-0000', 'calling_id': '0c225be2-a0c5-11ef-a26e-367dda7bcd4a', 'agent_name': '小说家', 'model_name': 'qwen-plus'}}\n",
      "{'data': {'block_type': 'chunk', 'content': '，眼神中充满了', 'content_id': '0c22af7aa0c511efa26e367dda7bcd4a', 'thread_id': '395364-9936-0000', 'calling_id': '0c225be2-a0c5-11ef-a26e-367dda7bcd4a', 'agent_name': '小说家', 'model_name': 'qwen-plus'}}\n",
      "{'data': {'block_type': 'chunk', 'content': '无助。狐狸轻轻地', 'content_id': '0c22af7aa0c511efa26e367dda7bcd4a', 'thread_id': '395364-9936-0000', 'calling_id': '0c225be2-a0c5-11ef-a26e-367dda7bcd4a', 'agent_name': '小说家', 'model_name': 'qwen-plus'}}\n",
      "{'data': {'block_type': 'chunk', 'content': '将小鸟捧在', 'content_id': '0c22af7aa0c511efa26e367dda7bcd4a', 'thread_id': '395364-9936-0000', 'calling_id': '0c225be2-a0c5-11ef-a26e-367dda7bcd4a', 'agent_name': '小说家', 'model_name': 'qwen-plus'}}\n",
      "{'data': {'block_type': 'chunk', 'content': '手心，用', 'content_id': '0c22af7aa0c511efa26e367dda7bcd4a', 'thread_id': '395364-9936-0000', 'calling_id': '0c225be2-a0c5-11ef-a26e-367dda7bcd4a', 'agent_name': '小说家', 'model_name': 'qwen-plus'}}\n",
      "{'data': {'block_type': 'chunk', 'content': '嘴中的细草', 'content_id': '0c22af7aa0c511efa26e367dda7bcd4a', 'thread_id': '395364-9936-0000', 'calling_id': '0c225be2-a0c5-11ef-a26e-367dda7bcd4a', 'agent_name': '小说家', 'model_name': 'qwen-plus'}}\n",
      "{'data': {'block_type': 'chunk', 'content': '为它包扎', 'content_id': '0c22af7aa0c511efa26e367dda7bcd4a', 'thread_id': '395364-9936-0000', 'calling_id': '0c225be2-a0c5-11ef-a26e-367dda7bcd4a', 'agent_name': '小说家', 'model_name': 'qwen-plus'}}\n",
      "{'data': {'block_type': 'chunk', 'content': '伤口。从那', 'content_id': '0c22af7aa0c511efa26e367dda7bcd4a', 'thread_id': '395364-9936-0000', 'calling_id': '0c225be2-a0c5-11ef-a26e-367dda7bcd4a', 'agent_name': '小说家', 'model_name': 'qwen-plus'}}\n",
      "{'data': {'block_type': 'chunk', 'content': '以后，小鸟成了', 'content_id': '0c22af7aa0c511efa26e367dda7bcd4a', 'thread_id': '395364-9936-0000', 'calling_id': '0c225be2-a0c5-11ef-a26e-367dda7bcd4a', 'agent_name': '小说家', 'model_name': 'qwen-plus'}}\n",
      "{'data': {'block_type': 'chunk', 'content': '狐狸最亲密的朋友', 'content_id': '0c22af7aa0c511efa26e367dda7bcd4a', 'thread_id': '395364-9936-0000', 'calling_id': '0c225be2-a0c5-11ef-a26e-367dda7bcd4a', 'agent_name': '小说家', 'model_name': 'qwen-plus'}}\n",
      "{'data': {'block_type': 'chunk', 'content': '，它们一起探险', 'content_id': '0c22af7aa0c511efa26e367dda7bcd4a', 'thread_id': '395364-9936-0000', 'calling_id': '0c225be2-a0c5-11ef-a26e-367dda7bcd4a', 'agent_name': '小说家', 'model_name': 'qwen-plus'}}\n",
      "{'data': {'block_type': 'chunk', 'content': '，分享快乐与', 'content_id': '0c22af7aa0c511efa26e367dda7bcd4a', 'thread_id': '395364-9936-0000', 'calling_id': '0c225be2-a0c5-11ef-a26e-367dda7bcd4a', 'agent_name': '小说家', 'model_name': 'qwen-plus'}}\n",
      "{'data': {'block_type': 'chunk', 'content': '忧伤。每当', 'content_id': '0c22af7aa0c511efa26e367dda7bcd4a', 'thread_id': '395364-9936-0000', 'calling_id': '0c225be2-a0c5-11ef-a26e-367dda7bcd4a', 'agent_name': '小说家', 'model_name': 'qwen-plus'}}\n",
      "{'data': {'block_type': 'chunk', 'content': '夕阳西下，', 'content_id': '0c22af7aa0c511efa26e367dda7bcd4a', 'thread_id': '395364-9936-0000', 'calling_id': '0c225be2-a0c5-11ef-a26e-367dda7bcd4a', 'agent_name': '小说家', 'model_name': 'qwen-plus'}}\n",
      "{'data': {'block_type': 'chunk', 'content': '它们便会坐在一棵', 'content_id': '0c22af7aa0c511efa26e367dda7bcd4a', 'thread_id': '395364-9936-0000', 'calling_id': '0c225be2-a0c5-11ef-a26e-367dda7bcd4a', 'agent_name': '小说家', 'model_name': 'qwen-plus'}}\n",
      "{'data': {'block_type': 'chunk', 'content': '老树下，', 'content_id': '0c22af7aa0c511efa26e367dda7bcd4a', 'thread_id': '395364-9936-0000', 'calling_id': '0c225be2-a0c5-11ef-a26e-367dda7bcd4a', 'agent_name': '小说家', 'model_name': 'qwen-plus'}}\n",
      "{'data': {'block_type': 'chunk', 'content': '望着天边的', 'content_id': '0c22af7aa0c511efa26e367dda7bcd4a', 'thread_id': '395364-9936-0000', 'calling_id': '0c225be2-a0c5-11ef-a26e-367dda7bcd4a', 'agent_name': '小说家', 'model_name': 'qwen-plus'}}\n",
      "{'data': {'block_type': 'chunk', 'content': '晚霞，心中', 'content_id': '0c22af7aa0c511efa26e367dda7bcd4a', 'thread_id': '395364-9936-0000', 'calling_id': '0c225be2-a0c5-11ef-a26e-367dda7bcd4a', 'agent_name': '小说家', 'model_name': 'qwen-plus'}}\n",
      "{'data': {'block_type': 'chunk', 'content': '充满了对未来的美好', 'content_id': '0c22af7aa0c511efa26e367dda7bcd4a', 'thread_id': '395364-9936-0000', 'calling_id': '0c225be2-a0c5-11ef-a26e-367dda7bcd4a', 'agent_name': '小说家', 'model_name': 'qwen-plus'}}\n",
      "{'data': {'block_type': 'chunk', 'content': '憧憬。从此，', 'content_id': '0c22af7aa0c511efa26e367dda7bcd4a', 'thread_id': '395364-9936-0000', 'calling_id': '0c225be2-a0c5-11ef-a26e-367dda7bcd4a', 'agent_name': '小说家', 'model_name': 'qwen-plus'}}\n",
      "{'data': {'block_type': 'chunk', 'content': '森林里多了一', 'content_id': '0c22af7aa0c511efa26e367dda7bcd4a', 'thread_id': '395364-9936-0000', 'calling_id': '0c225be2-a0c5-11ef-a26e-367dda7bcd4a', 'agent_name': '小说家', 'model_name': 'qwen-plus'}}\n",
      "{'data': {'block_type': 'chunk', 'content': '段关于友谊与', 'content_id': '0c22af7aa0c511efa26e367dda7bcd4a', 'thread_id': '395364-9936-0000', 'calling_id': '0c225be2-a0c5-11ef-a26e-367dda7bcd4a', 'agent_name': '小说家', 'model_name': 'qwen-plus'}}\n",
      "{'data': {'block_type': 'chunk', 'content': '希望的传说。', 'content_id': '0c22af7aa0c511efa26e367dda7bcd4a', 'thread_id': '395364-9936-0000', 'calling_id': '0c225be2-a0c5-11ef-a26e-367dda7bcd4a', 'agent_name': '小说家', 'model_name': 'qwen-plus'}}\n",
      "{'data': {'block_type': 'chunk', 'content': '', 'content_id': '0c22af7aa0c511efa26e367dda7bcd4a', 'thread_id': '395364-9936-0000', 'calling_id': '0c225be2-a0c5-11ef-a26e-367dda7bcd4a', 'agent_name': '小说家', 'model_name': 'qwen-plus'}}\n"
     ]
    }
   ],
   "source": [
    "from illufly.flow import Team\n",
    "from illufly.chat import ChatQwen\n",
    "\n",
    "team = Team(name=\"if1\", handlers=[])\n",
    "team.hire(\n",
    "    ChatQwen(name=\"qwen\"),\n",
    "    ChatQwen(name=\"小说家\", memory=(('system', '你是一个小说家，根据我的问题生成一句话小说')))\n",
    ")\n",
    "\n",
    "async for b in team(\"给我写一篇200字小作文\", generator=\"async\"):\n",
    "    print(b)"
   ]
  },
  {
   "cell_type": "markdown",
   "id": "c2984509-4553-4430-aa59-52dacce5a180",
   "metadata": {},
   "source": [
    "### FastAPI 示范"
   ]
  },
  {
   "cell_type": "code",
   "execution_count": null,
   "id": "ab1b13a1-258a-47aa-a30b-9f706a08ac74",
   "metadata": {},
   "outputs": [],
   "source": [
    "from dotenv import load_dotenv, find_dotenv\n",
    "load_dotenv(find_dotenv(), override=True)\n",
    "\n",
    "from illufly.flow import Team, ReAct\n",
    "from illufly.chat import ChatQwen\n",
    "\n",
    "from fastapi import FastAPI\n",
    "from sse_starlette.sse import EventSourceResponse\n",
    "\n",
    "app = FastAPI()\n",
    "\n",
    "# ChatAgent\n",
    "chat = ChatQwen(name=\"qwen\")\n",
    "@app.get(\"/chat\")\n",
    "async def chat_endpoint(prompt: str):\n",
    "    return EventSourceResponse(chat(prompt, generator=\"async\"))\n",
    "\n",
    "# ReAct\n",
    "naming = ChatQwen(name=\"naming\", description=\"我是一个命名专家，根据问题生成一个名字\")\n",
    "react = ReAct(ChatQwen(tools=[naming]), name=\"react\")\n",
    "@app.get(\"/react\")\n",
    "async def react_endpoint(prompt: str):\n",
    "    return EventSourceResponse(react(prompt, generator=\"async\"))\n",
    "\n",
    "# Team\n",
    "team = Team(name=\"if1\")\n",
    "team.hire(\n",
    "    ChatQwen(name=\"qwen\"),\n",
    "    ChatQwen(name=\"小说家\", memory=(('system', '你是一个小说家，根据我的问题生成一句话小说')))\n",
    ")\n",
    "\n",
    "@app.get(\"/team\")\n",
    "async def team_endpoint(prompt: str):\n",
    "    return EventSourceResponse(team(prompt, generator=\"async\"))\n",
    "\n",
    "# if __name__ == \"__main__\":\n",
    "#     import uvicorn\n",
    "#     uvicorn.run(app, host=\"0.0.0.0\", port=8001, http=\"h11\")"
   ]
  },
  {
   "cell_type": "code",
   "execution_count": null,
   "id": "792fe68a-8deb-4f45-8475-951ec91163e8",
   "metadata": {},
   "outputs": [],
   "source": []
  }
 ],
 "metadata": {
  "kernelspec": {
   "display_name": "same_to_illufly",
   "language": "python",
   "name": "same_to_illufly"
  },
  "language_info": {
   "codemirror_mode": {
    "name": "ipython",
    "version": 3
   },
   "file_extension": ".py",
   "mimetype": "text/x-python",
   "name": "python",
   "nbconvert_exporter": "python",
   "pygments_lexer": "ipython3",
   "version": "3.10.0"
  }
 },
 "nbformat": 4,
 "nbformat_minor": 5
}
