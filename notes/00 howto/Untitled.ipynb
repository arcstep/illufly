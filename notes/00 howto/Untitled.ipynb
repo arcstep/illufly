{
 "cells": [
  {
   "cell_type": "code",
   "execution_count": null,
   "id": "f0068096-dbd7-4fbc-9bfd-915003988cb4",
   "metadata": {},
   "outputs": [],
   "source": []
  }
 ],
 "metadata": {
  "kernelspec": {
   "display_name": "textlong-same-ipykernel",
   "language": "python",
   "name": "textlong-same-ipykernel"
  },
  "language_info": {
   "codemirror_mode": {
    "name": "ipython",
    "version": 3
   },
   "file_extension": ".py",
   "mimetype": "text/x-python",
   "name": "python",
   "nbconvert_exporter": "python",
   "pygments_lexer": "ipython3",
   "version": "3.10.0"
  }
 },
 "nbformat": 4,
 "nbformat_minor": 5
}
