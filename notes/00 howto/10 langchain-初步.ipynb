{
 "cells": [
  {
   "cell_type": "code",
   "execution_count": 4,
   "id": "f0765a5f-2a9d-422f-8ec6-22b85d2c0f03",
   "metadata": {},
   "outputs": [
    {
     "name": "stdout",
     "output_type": "stream",
     "text": [
      "Collecting langchain_zhipu==4.1.8\n",
      "  Using cached langchain_zhipu-4.1.8-py3-none-any.whl.metadata (5.3 kB)\n",
      "Requirement already satisfied: cachetools==4.2.2 in /Users/xuehongwei/Library/Caches/pypoetry/virtualenvs/textlong-1Y1OoLLu-py3.10/lib/python3.10/site-packages (from langchain_zhipu==4.1.8) (4.2.2)\n",
      "Requirement already satisfied: httpx<0.24.0,>=0.23.0 in /Users/xuehongwei/Library/Caches/pypoetry/virtualenvs/textlong-1Y1OoLLu-py3.10/lib/python3.10/site-packages (from langchain_zhipu==4.1.8) (0.23.3)\n",
      "Requirement already satisfied: langchain<0.3.0,>=0.1.20 in /Users/xuehongwei/Library/Caches/pypoetry/virtualenvs/textlong-1Y1OoLLu-py3.10/lib/python3.10/site-packages (from langchain_zhipu==4.1.8) (0.2.6)\n",
      "Requirement already satisfied: langchain-community<0.3.0,>=0.0.38 in /Users/xuehongwei/Library/Caches/pypoetry/virtualenvs/textlong-1Y1OoLLu-py3.10/lib/python3.10/site-packages (from langchain_zhipu==4.1.8) (0.2.6)\n",
      "Requirement already satisfied: pydantic<3,>=1 in /Users/xuehongwei/Library/Caches/pypoetry/virtualenvs/textlong-1Y1OoLLu-py3.10/lib/python3.10/site-packages (from langchain_zhipu==4.1.8) (1.10.13)\n",
      "Requirement already satisfied: pyjwt<3.0.0,>=2.8.0 in /Users/xuehongwei/Library/Caches/pypoetry/virtualenvs/textlong-1Y1OoLLu-py3.10/lib/python3.10/site-packages (from langchain_zhipu==4.1.8) (2.8.0)\n",
      "Requirement already satisfied: regex<2025.0.0,>=2024.4.16 in /Users/xuehongwei/Library/Caches/pypoetry/virtualenvs/textlong-1Y1OoLLu-py3.10/lib/python3.10/site-packages (from langchain_zhipu==4.1.8) (2024.5.15)\n",
      "Requirement already satisfied: tiktoken<0.8.0,>=0.7.0 in /Users/xuehongwei/Library/Caches/pypoetry/virtualenvs/textlong-1Y1OoLLu-py3.10/lib/python3.10/site-packages (from langchain_zhipu==4.1.8) (0.7.0)\n",
      "Requirement already satisfied: tqdm<5.0.0,>=4.66.2 in /Users/xuehongwei/Library/Caches/pypoetry/virtualenvs/textlong-1Y1OoLLu-py3.10/lib/python3.10/site-packages (from langchain_zhipu==4.1.8) (4.66.4)\n",
      "Requirement already satisfied: certifi in /Users/xuehongwei/Library/Caches/pypoetry/virtualenvs/textlong-1Y1OoLLu-py3.10/lib/python3.10/site-packages (from httpx<0.24.0,>=0.23.0->langchain_zhipu==4.1.8) (2024.6.2)\n",
      "Requirement already satisfied: httpcore<0.17.0,>=0.15.0 in /Users/xuehongwei/Library/Caches/pypoetry/virtualenvs/textlong-1Y1OoLLu-py3.10/lib/python3.10/site-packages (from httpx<0.24.0,>=0.23.0->langchain_zhipu==4.1.8) (0.16.3)\n",
      "Requirement already satisfied: rfc3986<2,>=1.3 in /Users/xuehongwei/Library/Caches/pypoetry/virtualenvs/textlong-1Y1OoLLu-py3.10/lib/python3.10/site-packages (from rfc3986[idna2008]<2,>=1.3->httpx<0.24.0,>=0.23.0->langchain_zhipu==4.1.8) (1.5.0)\n",
      "Requirement already satisfied: sniffio in /Users/xuehongwei/Library/Caches/pypoetry/virtualenvs/textlong-1Y1OoLLu-py3.10/lib/python3.10/site-packages (from httpx<0.24.0,>=0.23.0->langchain_zhipu==4.1.8) (1.3.1)\n",
      "Requirement already satisfied: PyYAML>=5.3 in /Users/xuehongwei/Library/Caches/pypoetry/virtualenvs/textlong-1Y1OoLLu-py3.10/lib/python3.10/site-packages (from langchain<0.3.0,>=0.1.20->langchain_zhipu==4.1.8) (6.0.1)\n",
      "Requirement already satisfied: SQLAlchemy<3,>=1.4 in /Users/xuehongwei/Library/Caches/pypoetry/virtualenvs/textlong-1Y1OoLLu-py3.10/lib/python3.10/site-packages (from langchain<0.3.0,>=0.1.20->langchain_zhipu==4.1.8) (2.0.31)\n",
      "Requirement already satisfied: aiohttp<4.0.0,>=3.8.3 in /Users/xuehongwei/Library/Caches/pypoetry/virtualenvs/textlong-1Y1OoLLu-py3.10/lib/python3.10/site-packages (from langchain<0.3.0,>=0.1.20->langchain_zhipu==4.1.8) (3.9.5)\n",
      "Requirement already satisfied: async-timeout<5.0.0,>=4.0.0 in /Users/xuehongwei/Library/Caches/pypoetry/virtualenvs/textlong-1Y1OoLLu-py3.10/lib/python3.10/site-packages (from langchain<0.3.0,>=0.1.20->langchain_zhipu==4.1.8) (4.0.3)\n",
      "Requirement already satisfied: langchain-core<0.3.0,>=0.2.10 in /Users/xuehongwei/Library/Caches/pypoetry/virtualenvs/textlong-1Y1OoLLu-py3.10/lib/python3.10/site-packages (from langchain<0.3.0,>=0.1.20->langchain_zhipu==4.1.8) (0.2.10)\n",
      "Requirement already satisfied: langchain-text-splitters<0.3.0,>=0.2.0 in /Users/xuehongwei/Library/Caches/pypoetry/virtualenvs/textlong-1Y1OoLLu-py3.10/lib/python3.10/site-packages (from langchain<0.3.0,>=0.1.20->langchain_zhipu==4.1.8) (0.2.2)\n",
      "Requirement already satisfied: langsmith<0.2.0,>=0.1.17 in /Users/xuehongwei/Library/Caches/pypoetry/virtualenvs/textlong-1Y1OoLLu-py3.10/lib/python3.10/site-packages (from langchain<0.3.0,>=0.1.20->langchain_zhipu==4.1.8) (0.1.82)\n",
      "Requirement already satisfied: numpy<2,>=1 in /Users/xuehongwei/Library/Caches/pypoetry/virtualenvs/textlong-1Y1OoLLu-py3.10/lib/python3.10/site-packages (from langchain<0.3.0,>=0.1.20->langchain_zhipu==4.1.8) (1.26.4)\n",
      "Requirement already satisfied: requests<3,>=2 in /Users/xuehongwei/Library/Caches/pypoetry/virtualenvs/textlong-1Y1OoLLu-py3.10/lib/python3.10/site-packages (from langchain<0.3.0,>=0.1.20->langchain_zhipu==4.1.8) (2.32.3)\n",
      "Requirement already satisfied: tenacity!=8.4.0,<9.0.0,>=8.1.0 in /Users/xuehongwei/Library/Caches/pypoetry/virtualenvs/textlong-1Y1OoLLu-py3.10/lib/python3.10/site-packages (from langchain<0.3.0,>=0.1.20->langchain_zhipu==4.1.8) (8.4.2)\n",
      "Requirement already satisfied: dataclasses-json<0.7,>=0.5.7 in /Users/xuehongwei/Library/Caches/pypoetry/virtualenvs/textlong-1Y1OoLLu-py3.10/lib/python3.10/site-packages (from langchain-community<0.3.0,>=0.0.38->langchain_zhipu==4.1.8) (0.6.7)\n",
      "Requirement already satisfied: typing-extensions>=4.2.0 in /Users/xuehongwei/Library/Caches/pypoetry/virtualenvs/textlong-1Y1OoLLu-py3.10/lib/python3.10/site-packages (from pydantic<3,>=1->langchain_zhipu==4.1.8) (4.12.2)\n",
      "Requirement already satisfied: aiosignal>=1.1.2 in /Users/xuehongwei/Library/Caches/pypoetry/virtualenvs/textlong-1Y1OoLLu-py3.10/lib/python3.10/site-packages (from aiohttp<4.0.0,>=3.8.3->langchain<0.3.0,>=0.1.20->langchain_zhipu==4.1.8) (1.3.1)\n",
      "Requirement already satisfied: attrs>=17.3.0 in /Users/xuehongwei/Library/Caches/pypoetry/virtualenvs/textlong-1Y1OoLLu-py3.10/lib/python3.10/site-packages (from aiohttp<4.0.0,>=3.8.3->langchain<0.3.0,>=0.1.20->langchain_zhipu==4.1.8) (23.2.0)\n",
      "Requirement already satisfied: frozenlist>=1.1.1 in /Users/xuehongwei/Library/Caches/pypoetry/virtualenvs/textlong-1Y1OoLLu-py3.10/lib/python3.10/site-packages (from aiohttp<4.0.0,>=3.8.3->langchain<0.3.0,>=0.1.20->langchain_zhipu==4.1.8) (1.4.1)\n",
      "Requirement already satisfied: multidict<7.0,>=4.5 in /Users/xuehongwei/Library/Caches/pypoetry/virtualenvs/textlong-1Y1OoLLu-py3.10/lib/python3.10/site-packages (from aiohttp<4.0.0,>=3.8.3->langchain<0.3.0,>=0.1.20->langchain_zhipu==4.1.8) (6.0.5)\n",
      "Requirement already satisfied: yarl<2.0,>=1.0 in /Users/xuehongwei/Library/Caches/pypoetry/virtualenvs/textlong-1Y1OoLLu-py3.10/lib/python3.10/site-packages (from aiohttp<4.0.0,>=3.8.3->langchain<0.3.0,>=0.1.20->langchain_zhipu==4.1.8) (1.9.4)\n",
      "Requirement already satisfied: marshmallow<4.0.0,>=3.18.0 in /Users/xuehongwei/Library/Caches/pypoetry/virtualenvs/textlong-1Y1OoLLu-py3.10/lib/python3.10/site-packages (from dataclasses-json<0.7,>=0.5.7->langchain-community<0.3.0,>=0.0.38->langchain_zhipu==4.1.8) (3.21.3)\n",
      "Requirement already satisfied: typing-inspect<1,>=0.4.0 in /Users/xuehongwei/Library/Caches/pypoetry/virtualenvs/textlong-1Y1OoLLu-py3.10/lib/python3.10/site-packages (from dataclasses-json<0.7,>=0.5.7->langchain-community<0.3.0,>=0.0.38->langchain_zhipu==4.1.8) (0.9.0)\n",
      "Requirement already satisfied: h11<0.15,>=0.13 in /Users/xuehongwei/Library/Caches/pypoetry/virtualenvs/textlong-1Y1OoLLu-py3.10/lib/python3.10/site-packages (from httpcore<0.17.0,>=0.15.0->httpx<0.24.0,>=0.23.0->langchain_zhipu==4.1.8) (0.14.0)\n",
      "Requirement already satisfied: anyio<5.0,>=3.0 in /Users/xuehongwei/Library/Caches/pypoetry/virtualenvs/textlong-1Y1OoLLu-py3.10/lib/python3.10/site-packages (from httpcore<0.17.0,>=0.15.0->httpx<0.24.0,>=0.23.0->langchain_zhipu==4.1.8) (4.4.0)\n",
      "Requirement already satisfied: jsonpatch<2.0,>=1.33 in /Users/xuehongwei/Library/Caches/pypoetry/virtualenvs/textlong-1Y1OoLLu-py3.10/lib/python3.10/site-packages (from langchain-core<0.3.0,>=0.2.10->langchain<0.3.0,>=0.1.20->langchain_zhipu==4.1.8) (1.33)\n",
      "Requirement already satisfied: packaging<25,>=23.2 in /Users/xuehongwei/Library/Caches/pypoetry/virtualenvs/textlong-1Y1OoLLu-py3.10/lib/python3.10/site-packages (from langchain-core<0.3.0,>=0.2.10->langchain<0.3.0,>=0.1.20->langchain_zhipu==4.1.8) (24.1)\n",
      "Requirement already satisfied: orjson<4.0.0,>=3.9.14 in /Users/xuehongwei/Library/Caches/pypoetry/virtualenvs/textlong-1Y1OoLLu-py3.10/lib/python3.10/site-packages (from langsmith<0.2.0,>=0.1.17->langchain<0.3.0,>=0.1.20->langchain_zhipu==4.1.8) (3.10.5)\n",
      "Requirement already satisfied: charset-normalizer<4,>=2 in /Users/xuehongwei/Library/Caches/pypoetry/virtualenvs/textlong-1Y1OoLLu-py3.10/lib/python3.10/site-packages (from requests<3,>=2->langchain<0.3.0,>=0.1.20->langchain_zhipu==4.1.8) (3.3.2)\n",
      "Requirement already satisfied: idna<4,>=2.5 in /Users/xuehongwei/Library/Caches/pypoetry/virtualenvs/textlong-1Y1OoLLu-py3.10/lib/python3.10/site-packages (from requests<3,>=2->langchain<0.3.0,>=0.1.20->langchain_zhipu==4.1.8) (3.7)\n",
      "Requirement already satisfied: urllib3<3,>=1.21.1 in /Users/xuehongwei/Library/Caches/pypoetry/virtualenvs/textlong-1Y1OoLLu-py3.10/lib/python3.10/site-packages (from requests<3,>=2->langchain<0.3.0,>=0.1.20->langchain_zhipu==4.1.8) (2.2.2)\n",
      "Requirement already satisfied: greenlet!=0.4.17 in /Users/xuehongwei/Library/Caches/pypoetry/virtualenvs/textlong-1Y1OoLLu-py3.10/lib/python3.10/site-packages (from SQLAlchemy<3,>=1.4->langchain<0.3.0,>=0.1.20->langchain_zhipu==4.1.8) (3.0.3)\n",
      "Requirement already satisfied: exceptiongroup>=1.0.2 in /Users/xuehongwei/Library/Caches/pypoetry/virtualenvs/textlong-1Y1OoLLu-py3.10/lib/python3.10/site-packages (from anyio<5.0,>=3.0->httpcore<0.17.0,>=0.15.0->httpx<0.24.0,>=0.23.0->langchain_zhipu==4.1.8) (1.2.1)\n",
      "Requirement already satisfied: jsonpointer>=1.9 in /Users/xuehongwei/Library/Caches/pypoetry/virtualenvs/textlong-1Y1OoLLu-py3.10/lib/python3.10/site-packages (from jsonpatch<2.0,>=1.33->langchain-core<0.3.0,>=0.2.10->langchain<0.3.0,>=0.1.20->langchain_zhipu==4.1.8) (3.0.0)\n",
      "Requirement already satisfied: mypy-extensions>=0.3.0 in /Users/xuehongwei/Library/Caches/pypoetry/virtualenvs/textlong-1Y1OoLLu-py3.10/lib/python3.10/site-packages (from typing-inspect<1,>=0.4.0->dataclasses-json<0.7,>=0.5.7->langchain-community<0.3.0,>=0.0.38->langchain_zhipu==4.1.8) (1.0.0)\n",
      "Using cached langchain_zhipu-4.1.8-py3-none-any.whl (18 kB)\n",
      "Installing collected packages: langchain_zhipu\n",
      "  Attempting uninstall: langchain_zhipu\n",
      "    Found existing installation: langchain_zhipu 4.1.6\n",
      "    Uninstalling langchain_zhipu-4.1.6:\n",
      "      Successfully uninstalled langchain_zhipu-4.1.6\n",
      "Successfully installed langchain_zhipu-4.1.8\n",
      "\n",
      "\u001b[1m[\u001b[0m\u001b[34;49mnotice\u001b[0m\u001b[1;39;49m]\u001b[0m\u001b[39;49m A new release of pip is available: \u001b[0m\u001b[31;49m24.1\u001b[0m\u001b[39;49m -> \u001b[0m\u001b[32;49m24.1.2\u001b[0m\n",
      "\u001b[1m[\u001b[0m\u001b[34;49mnotice\u001b[0m\u001b[1;39;49m]\u001b[0m\u001b[39;49m To update, run: \u001b[0m\u001b[32;49mpython -m pip install --upgrade pip\u001b[0m\n",
      "Note: you may need to restart the kernel to use updated packages.\n"
     ]
    }
   ],
   "source": [
    "%pip install -U langchain_zhipu==4.1.8"
   ]
  },
  {
   "cell_type": "code",
   "execution_count": null,
   "id": "48f2aa31-87f1-4188-a0c5-2295b9c4bcf8",
   "metadata": {},
   "outputs": [],
   "source": [
    "!pip install -U langchain-openai"
   ]
  },
  {
   "cell_type": "markdown",
   "id": "fedb7c24-616c-444a-87c6-fbabdf5f02e1",
   "metadata": {},
   "source": [
    "# 关键概念"
   ]
  },
  {
   "cell_type": "markdown",
   "id": "086c05d8-fc89-4dc4-aa85-526a020d2ecc",
   "metadata": {},
   "source": [
    "- 🌹 大模型\n",
    "- 🌹 提示语\n",
    "- 🌹 链\n",
    "- 🌹 文本向量\n",
    "- 🌹 检索\n",
    "- 🌹 工具\n",
    "- 🌹 智能体"
   ]
  },
  {
   "cell_type": "markdown",
   "id": "6ad74e21-aace-423d-be34-f4742065ac8e",
   "metadata": {},
   "source": [
    "## 大模型"
   ]
  },
  {
   "cell_type": "code",
   "execution_count": 1,
   "id": "d9bcde61-87b9-45b0-aafa-03155d8d6837",
   "metadata": {},
   "outputs": [],
   "source": [
    "from langchain_zhipu import ChatZhipuAI\n",
    "chat = ChatZhipuAI()"
   ]
  },
  {
   "cell_type": "code",
   "execution_count": 10,
   "id": "8968a120-d125-4e90-880d-91620901e0bb",
   "metadata": {},
   "outputs": [
    {
     "data": {
      "text/plain": [
       "AIMessage(content='林子轩', response_metadata={'id': '202407161356149c4e8b4478bd45c893c5b838c0ab879a', 'created': 1721109374, 'token_usage': {'completion_tokens': 6, 'prompt_tokens': 13, 'total_tokens': 19}, 'model_name': 'glm-4-air', 'finish_reason': 'stop'}, id='run-c81e7e3a-0579-4164-a8cf-706e1b12fef3-0')"
      ]
     },
     "execution_count": 10,
     "metadata": {},
     "output_type": "execute_result"
    }
   ],
   "source": [
    "chat.invoke(\"给我一个中文名字，三个字\")"
   ]
  },
  {
   "cell_type": "code",
   "execution_count": null,
   "id": "9f556fad-c069-42ec-8b4e-ffc3486ab605",
   "metadata": {},
   "outputs": [],
   "source": [
    "for x in chat.stream(\"给我一个中文名字，三个字\"):\n",
    "    print(x.content, end=\"|\")"
   ]
  },
  {
   "cell_type": "code",
   "execution_count": null,
   "id": "f23d5834-35c0-4b42-9bde-7d418d35da12",
   "metadata": {},
   "outputs": [],
   "source": [
    "from langchain_community.llms import Tongyi\n",
    "llm = Tongyi(model=\"qwen2-1.5b-instruct\")\n",
    "llm.invoke(\"给我一个中文名字，三个字\")"
   ]
  },
  {
   "cell_type": "markdown",
   "id": "2a11fb73-65ea-45cb-a77b-e48a43a136e2",
   "metadata": {},
   "source": [
    "## 提示语"
   ]
  },
  {
   "cell_type": "code",
   "execution_count": null,
   "id": "3d27356f-8a2b-4ca4-8a7d-9e558f3859ab",
   "metadata": {},
   "outputs": [],
   "source": [
    "\"abc\"\n",
    "who = \"Adi\"\n",
    "f'hello {who} <f-string>'"
   ]
  },
  {
   "cell_type": "code",
   "execution_count": null,
   "id": "efe638eb-4d3b-4573-bdfb-9c2290892539",
   "metadata": {},
   "outputs": [],
   "source": [
    "from langchain_core.prompts import PromptTemplate\n",
    "prompt_template = PromptTemplate.from_template(\"讲一个关于 {topic} 的笑话\")\n",
    "prompt_template.invoke(\"abc\")\n",
    "# prompt_template.input_schema.schema()\n",
    "# prompt_template.invoke({\"topic\": \"cats\"})"
   ]
  },
  {
   "cell_type": "code",
   "execution_count": null,
   "id": "403996d8-bc6a-4e32-ad8c-f1d08f1890ef",
   "metadata": {},
   "outputs": [],
   "source": [
    "prompt_template2 = PromptTemplate.from_template(\"告诉我 {topic} 的原理\")"
   ]
  },
  {
   "cell_type": "markdown",
   "id": "4a16b820-7d9f-4548-b965-5bcc524c960c",
   "metadata": {},
   "source": [
    "## Chain 链"
   ]
  },
  {
   "cell_type": "code",
   "execution_count": null,
   "id": "63cee620-f448-4b97-8138-41147de24d0f",
   "metadata": {},
   "outputs": [],
   "source": [
    "chain = prompt_template | llm\n",
    "chain.invoke({\"topic\": \"汽车\"})"
   ]
  },
  {
   "cell_type": "code",
   "execution_count": null,
   "id": "08126e7f-72a4-4189-8bca-9700d91b5d26",
   "metadata": {},
   "outputs": [],
   "source": [
    "chain = prompt_template2 | chat\n",
    "for x in chain.stream({\"topic\": \"汽车\"}):\n",
    "    print(x.content, end=\"\")"
   ]
  },
  {
   "cell_type": "markdown",
   "id": "cb952316-ce6f-40ee-87c3-636af56a8bba",
   "metadata": {},
   "source": [
    "## 文本向量"
   ]
  },
  {
   "cell_type": "code",
   "execution_count": null,
   "id": "e4bf3f5c-ce6c-42fa-b148-64b56f809794",
   "metadata": {},
   "outputs": [],
   "source": [
    "from langchain_zhipu import ZhipuAIEmbeddings\n",
    "embeddings_model = ZhipuAIEmbeddings()"
   ]
  },
  {
   "cell_type": "code",
   "execution_count": null,
   "id": "79cdf005-a9d5-4325-8f9f-a66a9ac1db87",
   "metadata": {},
   "outputs": [],
   "source": [
    "embeddings = embeddings_model.embed_documents(\n",
    "    [\n",
    "        \"Hi there!\",\n",
    "        \"Oh, hello!\",\n",
    "        \"What's your name?\",\n",
    "        \"My friends call me World\",\n",
    "        \"Hello World!\"\n",
    "    ]\n",
    ")\n",
    "len(embeddings), len(embeddings[0])"
   ]
  },
  {
   "cell_type": "code",
   "execution_count": null,
   "id": "862a34e7-08ae-44b3-ac29-ff86b77f6bba",
   "metadata": {},
   "outputs": [],
   "source": [
    "# [-0.06281121,\n",
    "#  0.05147552,\n",
    "#  -0.016494857,\n",
    "#  0.0023994024,\n",
    "#  0.02036759,\n",
    "#  0.009170211,\n",
    "# ...]\n",
    "embeddings[1]"
   ]
  },
  {
   "cell_type": "code",
   "execution_count": null,
   "id": "76bf2a8b-cb70-464f-b32c-846db8015c43",
   "metadata": {},
   "outputs": [],
   "source": [
    "embedded_query = embeddings_model.embed_query(\n",
    "    \"What was the name mentioned in the conversation?\")\n",
    "embedded_query[:5]"
   ]
  },
  {
   "cell_type": "markdown",
   "id": "2d7d2cab-38bc-4419-b22f-b09617c95ace",
   "metadata": {},
   "source": [
    "## RAG 检索"
   ]
  },
  {
   "cell_type": "code",
   "execution_count": null,
   "id": "05c0cec8-01e1-4ab2-a0b7-1105b190f2a4",
   "metadata": {},
   "outputs": [],
   "source": [
    "from langchain_community.document_loaders import TextLoader\n",
    "loader = TextLoader(\"txt/state_of_the_union.txt\")\n",
    "documents = loader.load()\n",
    "\n",
    "from langchain_text_splitters import CharacterTextSplitter\n",
    "text_splitter = CharacterTextSplitter(chunk_size=1000, chunk_overlap=0)\n",
    "texts = text_splitter.split_documents(documents)\n",
    "\n",
    "from langchain_community.vectorstores import FAISS\n",
    "embeddings = ZhipuAIEmbeddings()\n",
    "vectorstore = FAISS.from_documents(texts, embeddings)\n",
    "retriever = vectorstore.as_retriever()"
   ]
  },
  {
   "cell_type": "code",
   "execution_count": null,
   "id": "9b1c9ab4-a5ad-49da-8f01-3e9b5f43a1bd",
   "metadata": {},
   "outputs": [],
   "source": [
    "docs = retriever.invoke(\"请告诉我关于乌克兰的核心观点\")\n",
    "docs"
   ]
  },
  {
   "cell_type": "code",
   "execution_count": null,
   "id": "4ad47d4c-de58-4560-9ff9-6c354ad6cded",
   "metadata": {},
   "outputs": [],
   "source": [
    "from langchain_core.prompts import PromptTemplate\n",
    "prompt_template = PromptTemplate.from_template(\"\"\"\n",
    "总统这样说：\n",
    "----------------\n",
    "{info}\n",
    "----------------\n",
    "请根据上述信息用中文回答我的问题：{task}\n",
    "\"\"\")\n",
    "p = prompt_template.invoke({\n",
    "    \"info\": \"We see the unity among leaders of nations and a more unified Europe a more unified West. And we see unity among the people who are gathering in cities in large crowds around the world even in Russia to demonstrate their support for Ukraine.  \\n\\nIn the battle between democracy and autocracy, democracies are rising to the moment, and the world is clearly choosing the side of peace and security. \\n\\nThis is a real test. It’s going to take time. So let us continue to draw inspiration from the iron will of the Ukrainian people. \\n\\nTo our fellow Ukrainian Americans who forge a deep bond that connects our two nations we stand with you.\",\n",
    "    \"task\": \"请告诉我关于乌克兰的核心观点\"\n",
    "})\n",
    "print(p.text)"
   ]
  },
  {
   "cell_type": "code",
   "execution_count": null,
   "id": "9db55008-2f77-4444-931c-f1ef19a6e0a6",
   "metadata": {},
   "outputs": [],
   "source": [
    "def flat_docs(docs):\n",
    "    return \"\\n\\n\".join([d.page_content for d in docs])\n",
    "\n",
    "chain = {\n",
    "    \"info\": retriever|flat_docs,\n",
    "    \"task\": lambda y: y\n",
    "} | prompt_template | llm"
   ]
  },
  {
   "cell_type": "code",
   "execution_count": null,
   "id": "3be5e452-1e06-415c-a231-3f90591138c9",
   "metadata": {},
   "outputs": [],
   "source": [
    "for x in chain.stream(\"请告诉我关于乌克兰的核心观点\"):\n",
    "    print(x, end=\"\")"
   ]
  },
  {
   "cell_type": "code",
   "execution_count": null,
   "id": "e0159b8c-0705-43b1-82a1-34bd3a46aa48",
   "metadata": {},
   "outputs": [],
   "source": [
    "chat.invoke(\"请问3219的平方是多少\")"
   ]
  },
  {
   "cell_type": "markdown",
   "id": "e0a61e34-7446-4b02-9ffb-993f44409794",
   "metadata": {},
   "source": [
    "## 工具"
   ]
  },
  {
   "cell_type": "code",
   "execution_count": 2,
   "id": "f8e5716c-55db-4a41-a490-94a1717b6a9f",
   "metadata": {},
   "outputs": [],
   "source": [
    "from langchain_core.tools import tool\n",
    "from langchain_core.utils.function_calling import convert_to_openai_tool\n",
    "\n",
    "@tool\n",
    "def add(a: int, b: int) -> int:\n",
    "    \"\"\"Adds a and b.\"\"\"\n",
    "    return a + b\n",
    "\n",
    "@tool\n",
    "def multiply(a: int, b: int) -> int:\n",
    "    \"\"\"Multiplies a and b.\"\"\"\n",
    "    return a * b\n",
    "\n",
    "tools = [add, multiply]"
   ]
  },
  {
   "cell_type": "code",
   "execution_count": 3,
   "id": "46247c12-5804-4eea-98a3-a90cf6cc1f40",
   "metadata": {},
   "outputs": [
    {
     "data": {
      "text/plain": [
       "AIMessage(content='', additional_kwargs={'tool_calls': [{'function': {'arguments': '{\"a\": 3, \"b\": 12}', 'name': 'multiply'}, 'id': 'call_2024071613582400217c2626ec4d0cb9f3b0af77f30381', 'index': 0, 'type': 'function'}]}, response_metadata={'id': '2024071613582400217c2626ec4d0cb9f3b0af77f30381', 'created': 1721109505, 'token_usage': {'completion_tokens': 15, 'prompt_tokens': 270, 'total_tokens': 285}, 'model_name': 'glm-4-air', 'finish_reason': 'tool_calls'}, id='run-c4a08f29-6dfb-4eef-97f0-daeb19e955ea-0', tool_calls=[{'name': 'multiply', 'args': {'a': 3, 'b': 12}, 'id': 'call_2024071613582400217c2626ec4d0cb9f3b0af77f30381'}])"
      ]
     },
     "execution_count": 3,
     "metadata": {},
     "output_type": "execute_result"
    }
   ],
   "source": [
    "llm_with_tools = chat.bind_tools(tools)\n",
    "\n",
    "query = \"What is 3 * 12?\"\n",
    "llm_with_tools.invoke(query)"
   ]
  },
  {
   "cell_type": "markdown",
   "id": "763cdf43-da9e-4bce-98cb-0ba5bbf8dd8b",
   "metadata": {},
   "source": [
    "## Agent 智能体\n",
    "[https://github.com/arcstep/langchain_zhipuai/blob/main/notes/agent.ipynb]"
   ]
  },
  {
   "cell_type": "code",
   "execution_count": null,
   "id": "7ab2a32f-03a9-41aa-8774-36f4554ad3de",
   "metadata": {},
   "outputs": [],
   "source": []
  }
 ],
 "metadata": {
  "kernelspec": {
   "display_name": "textlong-same-ipykernel",
   "language": "python",
   "name": "textlong-same-ipykernel"
  },
  "language_info": {
   "codemirror_mode": {
    "name": "ipython",
    "version": 3
   },
   "file_extension": ".py",
   "mimetype": "text/x-python",
   "name": "python",
   "nbconvert_exporter": "python",
   "pygments_lexer": "ipython3",
   "version": "3.10.0"
  }
 },
 "nbformat": 4,
 "nbformat_minor": 5
}
