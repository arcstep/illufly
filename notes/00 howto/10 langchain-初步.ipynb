{
 "cells": [
  {
   "cell_type": "markdown",
   "id": "fedb7c24-616c-444a-87c6-fbabdf5f02e1",
   "metadata": {},
   "source": [
    "# 关键概念"
   ]
  },
  {
   "cell_type": "markdown",
   "id": "086c05d8-fc89-4dc4-aa85-526a020d2ecc",
   "metadata": {},
   "source": [
    "- 🌹 大模型\n",
    "- 🌹 提示语\n",
    "- 🌹 链\n",
    "- 🌹 文本向量\n",
    "- 🌹 检索\n",
    "- 🌹 工具\n",
    "- 🌹 智能体"
   ]
  },
  {
   "cell_type": "markdown",
   "id": "6ad74e21-aace-423d-be34-f4742065ac8e",
   "metadata": {},
   "source": [
    "## 大模型"
   ]
  },
  {
   "cell_type": "code",
   "execution_count": 63,
   "id": "d9bcde61-87b9-45b0-aafa-03155d8d6837",
   "metadata": {},
   "outputs": [],
   "source": [
    "from langchain_zhipu import ChatZhipuAI"
   ]
  },
  {
   "cell_type": "code",
   "execution_count": 64,
   "id": "8968a120-d125-4e90-880d-91620901e0bb",
   "metadata": {},
   "outputs": [
    {
     "data": {
      "text/plain": [
       "AIMessage(content='林子轩', response_metadata={'id': '8830400293413042041', 'created': 1720684997, 'token_usage': {'completion_tokens': 6, 'prompt_tokens': 13, 'total_tokens': 19}, 'model_name': 'glm-4-air', 'finish_reason': 'stop'}, id='run-765ab466-7aa7-442c-aaaa-5530331067d3-0')"
      ]
     },
     "execution_count": 64,
     "metadata": {},
     "output_type": "execute_result"
    }
   ],
   "source": [
    "chat = ChatZhipuAI()\n",
    "chat.invoke(\"给我一个中文名字，三个字\")"
   ]
  },
  {
   "cell_type": "code",
   "execution_count": 67,
   "id": "9f556fad-c069-42ec-8b4e-ffc3486ab605",
   "metadata": {},
   "outputs": [
    {
     "name": "stdout",
     "output_type": "stream",
     "text": [
      "林|晨|曦||"
     ]
    }
   ],
   "source": [
    "for x in chat.stream(\"给我一个中文名字，三个字\"):\n",
    "    print(x.content, end=\"|\")"
   ]
  },
  {
   "cell_type": "code",
   "execution_count": 68,
   "id": "f23d5834-35c0-4b42-9bde-7d418d35da12",
   "metadata": {},
   "outputs": [
    {
     "data": {
      "text/plain": [
       "'李晓明'"
      ]
     },
     "execution_count": 68,
     "metadata": {},
     "output_type": "execute_result"
    }
   ],
   "source": [
    "from langchain_community.llms import Tongyi\n",
    "llm = Tongyi(model=\"qwen2-1.5b-instruct\")\n",
    "llm.invoke(\"给我一个中文名字，三个字\")"
   ]
  },
  {
   "cell_type": "markdown",
   "id": "2a11fb73-65ea-45cb-a77b-e48a43a136e2",
   "metadata": {},
   "source": [
    "## 提示语"
   ]
  },
  {
   "cell_type": "code",
   "execution_count": 71,
   "id": "3d27356f-8a2b-4ca4-8a7d-9e558f3859ab",
   "metadata": {},
   "outputs": [
    {
     "data": {
      "text/plain": [
       "'hello Adi <f-string>'"
      ]
     },
     "execution_count": 71,
     "metadata": {},
     "output_type": "execute_result"
    }
   ],
   "source": [
    "\"abc\"\n",
    "who = \"Adi\"\n",
    "f'hello {who} <f-string>'"
   ]
  },
  {
   "cell_type": "code",
   "execution_count": 74,
   "id": "efe638eb-4d3b-4573-bdfb-9c2290892539",
   "metadata": {},
   "outputs": [
    {
     "data": {
      "text/plain": [
       "StringPromptValue(text='讲一个关于 abc 的笑话')"
      ]
     },
     "execution_count": 74,
     "metadata": {},
     "output_type": "execute_result"
    }
   ],
   "source": [
    "from langchain_core.prompts import PromptTemplate\n",
    "prompt_template = PromptTemplate.from_template(\"讲一个关于 {topic} 的笑话\")\n",
    "prompt_template.invoke(\"abc\")\n",
    "# prompt_template.input_schema.schema()\n",
    "# prompt_template.invoke({\"topic\": \"cats\"})"
   ]
  },
  {
   "cell_type": "code",
   "execution_count": 81,
   "id": "403996d8-bc6a-4e32-ad8c-f1d08f1890ef",
   "metadata": {},
   "outputs": [],
   "source": [
    "prompt_template2 = PromptTemplate.from_template(\"告诉我 {topic} 的原理\")"
   ]
  },
  {
   "cell_type": "markdown",
   "id": "4a16b820-7d9f-4548-b965-5bcc524c960c",
   "metadata": {},
   "source": [
    "## Chain 链"
   ]
  },
  {
   "cell_type": "code",
   "execution_count": 75,
   "id": "63cee620-f448-4b97-8138-41147de24d0f",
   "metadata": {},
   "outputs": [
    {
     "data": {
      "text/plain": [
       "'好的，这里有一个关于汽车的笑话：\\n\\n有一天，一辆汽车走进了修理厂，对修理工说：“我需要一个新的刹车。”\\n修理工惊讶地问：“你会说话？”\\n汽车回答：“是的，我刹车坏了。” \\n\\n希望这个笑话能让你会心一笑！'"
      ]
     },
     "execution_count": 75,
     "metadata": {},
     "output_type": "execute_result"
    }
   ],
   "source": [
    "chain = prompt_template | llm\n",
    "chain.invoke({\"topic\": \"汽车\"})"
   ]
  },
  {
   "cell_type": "code",
   "execution_count": 84,
   "id": "08126e7f-72a4-4189-8bca-9700d91b5d26",
   "metadata": {},
   "outputs": [
    {
     "name": "stdout",
     "output_type": "stream",
     "text": [
      "汽车是一种通过内燃机或电动机产生动力，驱动车轮行驶的交通工具。下面我将分别介绍内燃机汽车和电动汽车的工作原理。\n",
      "\n",
      "### 内燃机汽车原理\n",
      "\n",
      "内燃机汽车是通过内燃机将燃料的化学能转化为机械能来驱动车辆。内燃机汽车的工作原理主要包括以下几个部分：\n",
      "\n",
      "1. **发动机**：发动机是汽车的心脏，通过燃烧燃料产生动力。它的工作过程通常分为吸气、压缩、做功和排气四个冲程。\n",
      "   \n",
      "2. **燃料系统**：负责将燃料以正确的比例和压力输送到发动机燃烧室内。\n",
      "\n",
      "3. **点火系统**：对于汽油机而言，点火系统负责在恰当的时刻产生火花，点燃燃料混合气。\n",
      "\n",
      "4. **冷却系统**：通过循环水或冷却液吸收发动机产生的热量，防止发动机过热。\n",
      "\n",
      "5. **润滑系统**：通过机油减少发动机内部运动部件之间的摩擦和磨损。\n",
      "\n",
      "6. **传动系统**：包括离合器、变速箱、传动轴等，将发动机产生的动力传递到车轮。\n",
      "\n",
      "7. **制动系统**：通过摩擦力减慢或停止车辆。\n",
      "\n",
      "8. **转向系统**：控制车辆的行驶方向。\n",
      "\n",
      "9. **悬挂系统**：连接车轮和车身，吸收路面冲击，保证行驶平顺。\n",
      "\n",
      "### 电动汽车原理\n",
      "\n",
      "电动汽车则是通过电动机将电池储存的电能转化为机械能来驱动车辆。电动汽车的工作原理主要包括以下几个部分：\n",
      "\n",
      "1. **电池系统**：作为能量存储单元，提供电能给驱动电机。\n",
      "\n",
      "2. **驱动电机系统**：将电能转化为机械能，驱动车轮转动。\n",
      "\n",
      "3. **电控系统**：包括整车控制器、电机控制器等，负责调控电能的输出和电机的运转。\n",
      "\n",
      "4. **充电系统**：为电池系统充电。\n",
      "\n",
      "5. **辅助系统**：如DC/DC转换器、热管理系统等，保证车辆正常运行。\n",
      "\n",
      "与内燃机汽车相比，电动汽车在运行过程中更加安静、清洁，且维护成本较低，但电池的续航里程和充电基础设施建设是其普及的主要限制因素。\n",
      "\n",
      "无论是内燃机汽车还是电动汽车，它们都需要一个复杂的控制系统来确保车辆的安全、高效和舒适运行。"
     ]
    }
   ],
   "source": [
    "chain = prompt_template2 | chat\n",
    "for x in chain.stream({\"topic\": \"汽车\"}):\n",
    "    print(x.content, end=\"\")"
   ]
  },
  {
   "cell_type": "markdown",
   "id": "cb952316-ce6f-40ee-87c3-636af56a8bba",
   "metadata": {},
   "source": [
    "## 文本向量"
   ]
  },
  {
   "cell_type": "code",
   "execution_count": 85,
   "id": "e4bf3f5c-ce6c-42fa-b148-64b56f809794",
   "metadata": {},
   "outputs": [],
   "source": [
    "from langchain_zhipu import ZhipuAIEmbeddings\n",
    "embeddings_model = ZhipuAIEmbeddings()"
   ]
  },
  {
   "cell_type": "code",
   "execution_count": 86,
   "id": "79cdf005-a9d5-4325-8f9f-a66a9ac1db87",
   "metadata": {},
   "outputs": [
    {
     "data": {
      "text/plain": [
       "(5, 1024)"
      ]
     },
     "execution_count": 86,
     "metadata": {},
     "output_type": "execute_result"
    }
   ],
   "source": [
    "embeddings = embeddings_model.embed_documents(\n",
    "    [\n",
    "        \"Hi there!\",\n",
    "        \"Oh, hello!\",\n",
    "        \"What's your name?\",\n",
    "        \"My friends call me World\",\n",
    "        \"Hello World!\"\n",
    "    ]\n",
    ")\n",
    "len(embeddings), len(embeddings[0])"
   ]
  },
  {
   "cell_type": "code",
   "execution_count": null,
   "id": "862a34e7-08ae-44b3-ac29-ff86b77f6bba",
   "metadata": {},
   "outputs": [],
   "source": [
    "# [-0.06281121,\n",
    "#  0.05147552,\n",
    "#  -0.016494857,\n",
    "#  0.0023994024,\n",
    "#  0.02036759,\n",
    "#  0.009170211,\n",
    "# ...]\n",
    "embeddings[1]"
   ]
  },
  {
   "cell_type": "code",
   "execution_count": null,
   "id": "76bf2a8b-cb70-464f-b32c-846db8015c43",
   "metadata": {},
   "outputs": [],
   "source": [
    "embedded_query = embeddings_model.embed_query(\n",
    "    \"What was the name mentioned in the conversation?\")\n",
    "embedded_query[:5]"
   ]
  },
  {
   "cell_type": "markdown",
   "id": "2d7d2cab-38bc-4419-b22f-b09617c95ace",
   "metadata": {},
   "source": [
    "## RAG 检索"
   ]
  },
  {
   "cell_type": "code",
   "execution_count": 89,
   "id": "05c0cec8-01e1-4ab2-a0b7-1105b190f2a4",
   "metadata": {},
   "outputs": [],
   "source": [
    "from langchain_community.document_loaders import TextLoader\n",
    "loader = TextLoader(\"txt/state_of_the_union.txt\")\n",
    "documents = loader.load()\n",
    "\n",
    "from langchain_text_splitters import CharacterTextSplitter\n",
    "text_splitter = CharacterTextSplitter(chunk_size=1000, chunk_overlap=0)\n",
    "texts = text_splitter.split_documents(documents)\n",
    "\n",
    "from langchain_community.vectorstores import FAISS\n",
    "embeddings = ZhipuAIEmbeddings()\n",
    "vectorstore = FAISS.from_documents(texts, embeddings)\n",
    "retriever = vectorstore.as_retriever()"
   ]
  },
  {
   "cell_type": "code",
   "execution_count": 91,
   "id": "9b1c9ab4-a5ad-49da-8f01-3e9b5f43a1bd",
   "metadata": {},
   "outputs": [
    {
     "data": {
      "text/plain": [
       "[Document(page_content='For that purpose we’ve mobilized American ground forces, air squadrons, and ship deployments to protect NATO countries including Poland, Romania, Latvia, Lithuania, and Estonia. \\n\\nAs I have made crystal clear the United States and our Allies will defend every inch of territory of NATO countries with the full force of our collective power.  \\n\\nAnd we remain clear-eyed. The Ukrainians are fighting back with pure courage. But the next few days weeks, months, will be hard on them.  \\n\\nPutin has unleashed violence and chaos.  But while he may make gains on the battlefield – he will pay a continuing high price over the long run. \\n\\nAnd a proud Ukrainian people, who have known 30 years  of independence, have repeatedly shown that they will not tolerate anyone who tries to take their country backwards.  \\n\\nTo all Americans, I will be honest with you, as I’ve always promised. A Russian dictator, invading a foreign country, has costs around the world.', metadata={'source': 'txt/state_of_the_union.txt'}),\n",
       " Document(page_content='We are inflicting pain on Russia and supporting the people of Ukraine. Putin is now isolated from the world more than ever. \\n\\nTogether with our allies –we are right now enforcing powerful economic sanctions. \\n\\nWe are cutting off Russia’s largest banks from the international financial system.  \\n\\nPreventing Russia’s central bank from defending the Russian Ruble making Putin’s $630 Billion “war fund” worthless.   \\n\\nWe are choking off Russia’s access to technology that will sap its economic strength and weaken its military for years to come.  \\n\\nTonight I say to the Russian oligarchs and corrupt leaders who have bilked billions of dollars off this violent regime no more. \\n\\nThe U.S. Department of Justice is assembling a dedicated task force to go after the crimes of Russian oligarchs.  \\n\\nWe are joining with our European allies to find and seize your yachts your luxury apartments your private jets. We are coming for your ill-begotten gains.', metadata={'source': 'txt/state_of_the_union.txt'}),\n",
       " Document(page_content='And tonight I am announcing that we will join our allies in closing off American air space to all Russian flights – further isolating Russia – and adding an additional squeeze –on their economy. The Ruble has lost 30% of its value. \\n\\nThe Russian stock market has lost 40% of its value and trading remains suspended. Russia’s economy is reeling and Putin alone is to blame. \\n\\nTogether with our allies we are providing support to the Ukrainians in their fight for freedom. Military assistance. Economic assistance. Humanitarian assistance. \\n\\nWe are giving more than $1 Billion in direct assistance to Ukraine. \\n\\nAnd we will continue to aid the Ukrainian people as they defend their country and to help ease their suffering.  \\n\\nLet me be clear, our forces are not engaged and will not engage in conflict with Russian forces in Ukraine.  \\n\\nOur forces are not going to Europe to fight in Ukraine, but to defend our NATO Allies – in the event that Putin decides to keep moving west.', metadata={'source': 'txt/state_of_the_union.txt'}),\n",
       " Document(page_content='We see the unity among leaders of nations and a more unified Europe a more unified West. And we see unity among the people who are gathering in cities in large crowds around the world even in Russia to demonstrate their support for Ukraine.  \\n\\nIn the battle between democracy and autocracy, democracies are rising to the moment, and the world is clearly choosing the side of peace and security. \\n\\nThis is a real test. It’s going to take time. So let us continue to draw inspiration from the iron will of the Ukrainian people. \\n\\nTo our fellow Ukrainian Americans who forge a deep bond that connects our two nations we stand with you. \\n\\nPutin may circle Kyiv with tanks, but he will never gain the hearts and souls of the Ukrainian people. \\n\\nHe will never extinguish their love of freedom. He will never weaken the resolve of the free world. \\n\\nWe meet tonight in an America that has lived through two of the hardest years this nation has ever faced. \\n\\nThe pandemic has been punishing.', metadata={'source': 'txt/state_of_the_union.txt'})]"
      ]
     },
     "execution_count": 91,
     "metadata": {},
     "output_type": "execute_result"
    }
   ],
   "source": [
    "docs = retriever.invoke(\"请告诉我关于乌克兰的核心观点\")\n",
    "docs"
   ]
  },
  {
   "cell_type": "code",
   "execution_count": 93,
   "id": "4ad47d4c-de58-4560-9ff9-6c354ad6cded",
   "metadata": {},
   "outputs": [
    {
     "name": "stdout",
     "output_type": "stream",
     "text": [
      "\n",
      "总统这样说：\n",
      "----------------\n",
      "We see the unity among leaders of nations and a more unified Europe a more unified West. And we see unity among the people who are gathering in cities in large crowds around the world even in Russia to demonstrate their support for Ukraine.  \n",
      "\n",
      "In the battle between democracy and autocracy, democracies are rising to the moment, and the world is clearly choosing the side of peace and security. \n",
      "\n",
      "This is a real test. It’s going to take time. So let us continue to draw inspiration from the iron will of the Ukrainian people. \n",
      "\n",
      "To our fellow Ukrainian Americans who forge a deep bond that connects our two nations we stand with you.\n",
      "----------------\n",
      "请根据上述信息用中文回答我的问题：请告诉我关于乌克兰的核心观点\n",
      "\n"
     ]
    }
   ],
   "source": [
    "from langchain_core.prompts import PromptTemplate\n",
    "prompt_template = PromptTemplate.from_template(\"\"\"\n",
    "总统这样说：\n",
    "----------------\n",
    "{info}\n",
    "----------------\n",
    "请根据上述信息用中文回答我的问题：{task}\n",
    "\"\"\")\n",
    "p = prompt_template.invoke({\n",
    "    \"info\": \"We see the unity among leaders of nations and a more unified Europe a more unified West. And we see unity among the people who are gathering in cities in large crowds around the world even in Russia to demonstrate their support for Ukraine.  \\n\\nIn the battle between democracy and autocracy, democracies are rising to the moment, and the world is clearly choosing the side of peace and security. \\n\\nThis is a real test. It’s going to take time. So let us continue to draw inspiration from the iron will of the Ukrainian people. \\n\\nTo our fellow Ukrainian Americans who forge a deep bond that connects our two nations we stand with you.\",\n",
    "    \"task\": \"请告诉我关于乌克兰的核心观点\"\n",
    "})\n",
    "print(p.text)"
   ]
  },
  {
   "cell_type": "code",
   "execution_count": 94,
   "id": "9db55008-2f77-4444-931c-f1ef19a6e0a6",
   "metadata": {},
   "outputs": [],
   "source": [
    "def flat_docs(docs):\n",
    "    return \"\\n\\n\".join([d.page_content for d in docs])\n",
    "\n",
    "chain = {\n",
    "    \"info\": retriever|flat_docs,\n",
    "    \"task\": lambda y: y\n",
    "} | prompt_template | llm"
   ]
  },
  {
   "cell_type": "code",
   "execution_count": 103,
   "id": "3be5e452-1e06-415c-a231-3f90591138c9",
   "metadata": {},
   "outputs": [
    {
     "name": "stdout",
     "output_type": "stream",
     "text": [
      "核心观点如下：\n",
      "\n",
      "1. 国家领导人之间展现出团结，欧洲和西方整体趋向统一。\n",
      "2. 世界各地的人民，包括在俄罗斯，通过大规模集会表达对乌克兰的支持。\n",
      "3. 在民主与专制的斗争中，民主国家正在迎难而上，世界明显选择了和平与安全的立场。\n",
      "4. 这是一场真正的考验，需要时间来解决。\n",
      "5. 应该从乌克兰人民的坚强意志中汲取灵感。\n",
      "6. 对于与乌克兰有着深厚联系的乌克兰裔美国人，表示坚定的支持。"
     ]
    }
   ],
   "source": [
    "for x in chain.stream(\"请告诉我关于乌克兰的核心观点\"):\n",
    "    print(x, end=\"\")"
   ]
  },
  {
   "cell_type": "code",
   "execution_count": 105,
   "id": "e0159b8c-0705-43b1-82a1-34bd3a46aa48",
   "metadata": {},
   "outputs": [
    {
     "data": {
      "text/plain": [
       "AIMessage(content='3219的平方是10371641。', response_metadata={'id': '8830405000697607042', 'created': 1720689859, 'token_usage': {'completion_tokens': 13, 'prompt_tokens': 12, 'total_tokens': 25}, 'model_name': 'glm-4-air', 'finish_reason': 'stop'}, id='run-c1791012-47ba-482e-8727-d7f0865a2765-0')"
      ]
     },
     "execution_count": 105,
     "metadata": {},
     "output_type": "execute_result"
    }
   ],
   "source": [
    "chat.invoke(\"请问3219的平方是多少\")"
   ]
  },
  {
   "cell_type": "markdown",
   "id": "e0a61e34-7446-4b02-9ffb-993f44409794",
   "metadata": {},
   "source": [
    "## 工具"
   ]
  },
  {
   "cell_type": "code",
   "execution_count": 106,
   "id": "f8e5716c-55db-4a41-a490-94a1717b6a9f",
   "metadata": {},
   "outputs": [],
   "source": [
    "from langchain_core.tools import tool\n",
    "from langchain_core.utils.function_calling import convert_to_openai_tool\n",
    "\n",
    "@tool\n",
    "def add(a: int, b: int) -> int:\n",
    "    \"\"\"Adds a and b.\"\"\"\n",
    "    return a + b\n",
    "\n",
    "@tool\n",
    "def multiply(a: int, b: int) -> int:\n",
    "    \"\"\"Multiplies a and b.\"\"\"\n",
    "    return a * b\n",
    "\n",
    "tools = [add, multiply]"
   ]
  },
  {
   "cell_type": "code",
   "execution_count": 107,
   "id": "46247c12-5804-4eea-98a3-a90cf6cc1f40",
   "metadata": {},
   "outputs": [
    {
     "data": {
      "text/plain": [
       "AIMessage(content='', additional_kwargs={'tool_calls': [{'function': {'arguments': '{\"a\": 3, \"b\": 12}', 'name': 'multiply'}, 'id': 'call_8830405619173014472', 'index': 0, 'type': 'function'}]}, response_metadata={'id': '8830405619173014472', 'created': 1720690050, 'token_usage': {'completion_tokens': 15, 'prompt_tokens': 270, 'total_tokens': 285}, 'model_name': 'glm-4-air', 'finish_reason': 'tool_calls'}, id='run-77dd961b-0b89-429d-8fff-f12008ae6996-0', tool_calls=[{'name': 'multiply', 'args': {'a': 3, 'b': 12}, 'id': 'call_8830405619173014472'}])"
      ]
     },
     "execution_count": 107,
     "metadata": {},
     "output_type": "execute_result"
    }
   ],
   "source": [
    "llm_with_tools = chat.bind(tools=[convert_to_openai_tool(t) for t in tools])\n",
    "\n",
    "query = \"What is 3 * 12?\"\n",
    "\n",
    "llm_with_tools.invoke(query)"
   ]
  },
  {
   "cell_type": "markdown",
   "id": "763cdf43-da9e-4bce-98cb-0ba5bbf8dd8b",
   "metadata": {},
   "source": [
    "## Agent 智能体\n",
    "[https://github.com/arcstep/langchain_zhipuai/blob/main/notes/agent.ipynb]"
   ]
  },
  {
   "cell_type": "code",
   "execution_count": null,
   "id": "7ab2a32f-03a9-41aa-8774-36f4554ad3de",
   "metadata": {},
   "outputs": [],
   "source": []
  }
 ],
 "metadata": {
  "kernelspec": {
   "display_name": "textlong-same-ipykernel",
   "language": "python",
   "name": "textlong-same-ipykernel"
  },
  "language_info": {
   "codemirror_mode": {
    "name": "ipython",
    "version": 3
   },
   "file_extension": ".py",
   "mimetype": "text/x-python",
   "name": "python",
   "nbconvert_exporter": "python",
   "pygments_lexer": "ipython3",
   "version": "3.10.0"
  }
 },
 "nbformat": 4,
 "nbformat_minor": 5
}
