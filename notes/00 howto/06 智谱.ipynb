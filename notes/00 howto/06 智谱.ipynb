{
    "cells": [
        {
            "cell_type": "markdown",
            "id": "bb919f4c-4815-464e-93fc-60b60df90676",
            "metadata": {},
            "source": [
                "# 智谱"
            ]
        },
        {
            "cell_type": "code",
            "execution_count": null,
            "id": "c21a4d10-1f72-4ef8-970f-9bc5d8fe7e9e",
            "metadata": {},
            "outputs": [],
            "source": [
                "# %pip install langchain_zhipu"
            ]
        },
        {
            "cell_type": "code",
            "execution_count": null,
            "id": "2ae0f1b3-6284-4a80-a736-4a872f2ee5f9",
            "metadata": {},
            "outputs": [],
            "source": [
                "from illufly.hub import load_prompt, clone_prompt\n",
                "for p in ['IDEA', 'OUTLINE', 'FROM_OUTLINE']:\n",
                "    print(clone_prompt(p), p)"
            ]
        },
        {
            "cell_type": "code",
            "execution_count": null,
            "id": "97109968-96a4-4e3c-8929-0ba4fc368558",
            "metadata": {},
            "outputs": [],
            "source": [
                "project_id = \"智谱\"\n",
                "task = \"帮我整理一份简要的python学习指南\"\n",
                "idea = \"简要指南.md\"\n",
                "outline = \"提纲.md\"\n",
                "final = \"指南正文.md\""
            ]
        },
        {
            "cell_type": "code",
            "execution_count": null,
            "id": "5882823d-406b-4325-9e8f-25979cac39de",
            "metadata": {},
            "outputs": [],
            "source": [
                "import os\n",
                "from langchain_zhipu import ChatZhipuAI\n",
                "from illufly.project import WritingProject\n",
                "\n",
                "def zhipu_demo(model_name, tag):\n",
                "    p = WritingProject(\n",
                "        llm=ChatZhipuAI(model=model_name),\n",
                "        project_id=os.path.join(project_id + '-' + tag, model_name),\n",
                "        prompt_tag=tag\n",
                "    )\n",
                "    p.outline(output_file=outline, task=task)\n",
                "    p.from_outline(completed=outline, output_file=final)"
            ]
        },
        {
            "cell_type": "code",
            "execution_count": null,
            "id": "7f6776ae-1ec2-4ebb-869a-0879d22c8799",
            "metadata": {},
            "outputs": [],
            "source": [
                "zhipu_demo(\"glm-4-flash\", \"zhipu\")"
            ]
        },
        {
            "cell_type": "code",
            "execution_count": null,
            "id": "6f182076-9a6a-4562-b2ec-ef6c8b9ffe11",
            "metadata": {},
            "outputs": [],
            "source": [
                "zhipu_demo(\"glm-4-air\", \"zhipu\")"
            ]
        },
        {
            "cell_type": "markdown",
            "id": "7364bd32-fa38-421f-a47d-b4165bd74df9",
            "metadata": {},
            "source": [
                "## GLM-4-Flash"
            ]
        },
        {
            "cell_type": "code",
            "execution_count": null,
            "id": "c11f0bdb-3d8e-45ae-aa1a-033cb0bcd12e",
            "metadata": {},
            "outputs": [],
            "source": [
                "from langchain_zhipu import ChatZhipuAI\n",
                "from illufly.project import WritingProject\n",
                "import os\n",
                "\n",
                "model_name = \"glm-4-flash\"\n",
                "tag = \"zhipu\"\n",
                "\n",
                "p = WritingProject(\n",
                "    llm=ChatZhipuAI(model=model_name),\n",
                "    project_id=os.path.join(project_id + '-' + tag, model_name),\n",
                "    prompt_tag=tag\n",
                ")"
            ]
        },
        {
            "cell_type": "code",
            "execution_count": null,
            "id": "740b66ae-7648-4782-ad4e-4e28fbe0ef1f",
            "metadata": {},
            "outputs": [],
            "source": [
                "p.idea(output_file=idea, task=task)"
            ]
        },
        {
            "cell_type": "code",
            "execution_count": null,
            "id": "9574ddf8-eead-469a-bdf0-957c0ceb224d",
            "metadata": {},
            "outputs": [],
            "source": [
                "p.outline(output_file=outline, task=task)"
            ]
        },
        {
            "cell_type": "code",
            "execution_count": null,
            "id": "22c066a4-f69d-459f-8239-48f1c068c056",
            "metadata": {},
            "outputs": [],
            "source": [
                "p.from_outline(input=outline, output_file=final, verbose=False)"
            ]
        },
        {
            "cell_type": "code",
            "execution_count": null,
            "id": "d20361cf-f75d-4714-a96e-858f8e8016bf",
            "metadata": {},
            "outputs": [],
            "source": []
        }
    ],
    "metadata": {
        "kernelspec": {
            "display_name": "illufly-same-ipykernel",
            "language": "python",
            "name": "illufly-same-ipykernel"
        },
        "language_info": {
            "codemirror_mode": {
                "name": "ipython",
                "version": 3
            },
            "file_extension": ".py",
            "mimetype": "text/x-python",
            "name": "python",
            "nbconvert_exporter": "python",
            "pygments_lexer": "ipython3",
            "version": "3.10.0"
        }
    },
    "nbformat": 4,
    "nbformat_minor": 5
}