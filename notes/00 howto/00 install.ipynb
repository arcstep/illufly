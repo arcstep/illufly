{
 "cells": [
  {
   "cell_type": "markdown",
   "id": "8ecc26e9-668d-4c29-a537-41bec461bfc0",
   "metadata": {},
   "source": [
    "## 导入正在开发的包"
   ]
  },
  {
   "cell_type": "markdown",
   "id": "f6679de6-9b02-4993-9ccf-801210a2beff",
   "metadata": {},
   "source": [
    "<div class='alert alert-warning'>\n",
    "    因为正在开发中，所以你不必真的安装 textlong 包，而是<b>在 Jupyter 启动时插入正在编辑包的路径</b> 即可。\n",
    "</div>"
   ]
  },
  {
   "cell_type": "code",
   "execution_count": 3,
   "id": "2d415819-3bea-41ed-981f-47e4b6d0226d",
   "metadata": {},
   "outputs": [],
   "source": [
    "!python -m pip list |grep textlong"
   ]
  },
  {
   "cell_type": "code",
   "execution_count": 2,
   "id": "c1263cf3-93bb-49fd-9c58-da7170e2dd21",
   "metadata": {},
   "outputs": [
    {
     "name": "stdout",
     "output_type": "stream",
     "text": [
      "sys.path = [\n",
      "    '/Users/xuehongwei/github/textlong/notes/00 howto',\n",
      "    '/Users/xuehongwei/github/textlong',\n",
      "    '/Users/xuehongwei/.pyenv/versions/3.10.0/lib/python310.zip',\n",
      "    '/Users/xuehongwei/.pyenv/versions/3.10.0/lib/python3.10',\n",
      "    '/Users/xuehongwei/.pyenv/versions/3.10.0/lib/python3.10/lib-dynload',\n",
      "    '/Users/xuehongwei/.pyenv/versions/3.10.0/lib/python3.10/site-packages',\n",
      "]\n",
      "USER_BASE: '/Users/xuehongwei/.local' (exists)\n",
      "USER_SITE: '/Users/xuehongwei/.local/lib/python3.10/site-packages' (doesn't exist)\n",
      "ENABLE_USER_SITE: True\n"
     ]
    }
   ],
   "source": [
    "!python -m site"
   ]
  },
  {
   "cell_type": "code",
   "execution_count": 1,
   "id": "2d5b5d0f-e9e5-4e0a-b5b3-cab88110e453",
   "metadata": {},
   "outputs": [],
   "source": [
    "from textlong.project import Project\n",
    "from textlong.writing import idea, outline, from_outline\n",
    "from langchain_zhipu import ChatZhipuAI"
   ]
  },
  {
   "cell_type": "markdown",
   "id": "327bd833-489e-426a-88d7-779d0ac28b73",
   "metadata": {},
   "source": [
    "## Jupyter Lab"
   ]
  },
  {
   "cell_type": "markdown",
   "id": "35b92fe4-9161-4cc2-a05e-fc75b75f555d",
   "metadata": {},
   "source": [
    "\n",
    "如果希望直接使用Poetry环境，而不是创建自己的ipykernel，你可以按照以下步骤操作：\n",
    "\n",
    "1. **激活Poetry虚拟环境**：首先，确保你的Poetry虚拟环境已经被激活。你可以通过在项目目录下运行`poetry shell`来激活环境。\n",
    "\n",
    "2. **安装Jupyter Lab**：在Poetry虚拟环境中安装Jupyter Lab（如果还没有安装的话）。这可以通过运行`poetry add jupyterlab`来完成。\n",
    "\n",
    "3. **安装ipykernel**：为了让Jupyter能够识别并使用Poetry的虚拟环境，你需要在该环境中安装`ipykernel`。这同样可以通过Poetry来完成：`poetry add ipykernel`。\n",
    "\n",
    "4. **添加虚拟环境到Jupyter**：接下来，你需要将当前的虚拟环境添加为Jupyter的一个内核。这可以通过运行以下命令来完成：\n",
    "\n",
    "   ```sh\n",
    "   poetry run python -m ipykernel install --user --name=<环境名> --display-name=\"Python (Poetry)\"\n",
    "   ```\n",
    "\n",
    "   其中`<环境名>`可以是你选择的任何名称，这将是在Jupyter中选择内核时显示的名称。`--display-name`参数是可选的，它将在Jupyter的内核列表中显示一个更友好的名称。\n",
    "\n",
    "5. **启动Jupyter Lab**：现在，当你在Poetry虚拟环境中启动Jupyter Lab时（使用`poetry run jupyter lab`命令），你应该能够在内核选项中看到你刚刚添加的虚拟环境。选择它，你就可以在Jupyter中使用Poetry虚拟环境中的包了。\n",
    "\n",
    "通过这些步骤，你可以确保Jupyter Lab使用的是Poetry管理的虚拟环境，而不是必须创建自己的ipykernel。\n",
    "这样做的好处是可以确保项目的依赖性与开发环境保持一致。"
   ]
  },
  {
   "cell_type": "markdown",
   "id": "84725a17-b565-4e58-bfd5-2dcc97779926",
   "metadata": {},
   "source": [
    "## ipkernels 管理"
   ]
  },
  {
   "cell_type": "markdown",
   "id": "169908ff-ceb2-4f14-bbbf-3f043c0e58df",
   "metadata": {},
   "source": [
    "\n",
    "在Jupyter中可以选择的ipykernel实际上是通过Jupyter的内核规范（kernelspec）来管理的。每个内核规范定义了一个可用的Jupyter内核，包括它的名称、启动命令和环境。当你使用ipykernel模块将一个Python环境注册为Jupyter内核时，它会在Jupyter的内核目录中创建一个对应的内核规范。\n",
    "\n",
    "要管理这些内核，你可以使用jupyter kernelspec命令。以下是一些常用的子命令：\n",
    "\n",
    "1. **列出所有已安装的内核：**\n",
    "\n",
    "```\n",
    "jupyter kernelspec list\n",
    "```\n",
    "\n",
    "这个命令会显示所有已注册的内核及其安装位置。\n",
    "\n",
    "2. **查看内核的详细信息：**\n",
    "\n",
    "对于每个内核，你可以通过其名称查看更多详细信息：\n",
    "\n",
    "```\n",
    "jupyter kernelspec list\n",
    "```\n",
    "\n",
    "3. **然后使用内核名称查看详细信息：**\n",
    "\n",
    "```\n",
    "jupyter kernelspec show <内核名称>\n",
    "```\n",
    "\n",
    "4. **移除一个内核：**\n",
    "\n",
    "如果你想要移除一个不再需要的内核，可以使用：\n",
    "\n",
    "```\n",
    "jupyter kernelspec remove <内核名称>\n",
    "```\n",
    "\n",
    "请注意，移除内核规范并不会删除任何Python环境或ipykernel包；\n",
    "它只是从Jupyter中移除了对该环境的引用。\n",
    "\n",
    "如果你想要完全删除一个环境，你需要使用相应的环境管理工具（如conda, venv, poetry等）来进行环境的删除。"
   ]
  },
  {
   "cell_type": "code",
   "execution_count": null,
   "id": "63b05d80-5f86-45aa-b9f8-f3b88c3f05e9",
   "metadata": {},
   "outputs": [],
   "source": []
  }
 ],
 "metadata": {
  "kernelspec": {
   "display_name": "textlong-same-ipykernel",
   "language": "python",
   "name": "textlong-same-ipykernel"
  },
  "language_info": {
   "codemirror_mode": {
    "name": "ipython",
    "version": 3
   },
   "file_extension": ".py",
   "mimetype": "text/x-python",
   "name": "python",
   "nbconvert_exporter": "python",
   "pygments_lexer": "ipython3",
   "version": "3.10.0"
  }
 },
 "nbformat": 4,
 "nbformat_minor": 5
}
