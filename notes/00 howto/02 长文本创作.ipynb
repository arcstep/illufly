{
 "cells": [
  {
   "cell_type": "markdown",
   "id": "eb80dcc5-a3f7-478d-9cb5-8cd32fc0bcd5",
   "metadata": {},
   "source": [
    "## 一、项目初始化"
   ]
  },
  {
   "cell_type": "code",
   "execution_count": null,
   "id": "bb4c1699-26ad-492c-ba0d-d2ac16bb2c1f",
   "metadata": {},
   "outputs": [],
   "source": [
    "# 加载库\n",
    "from textlong.project import WritingProject\n",
    "from langchain_community.llms import Tongyi\n",
    "\n",
    "p = WritingProject(llm=Tongyi(model=\"qwen2-0.5b-instruct\"), project_id=\"汇报资料\")"
   ]
  },
  {
   "cell_type": "markdown",
   "id": "3ccfad76-3943-4f89-95cb-507c54172f03",
   "metadata": {},
   "source": [
    "## 二、分步编写\n",
    "### 1、现状总结"
   ]
  },
  {
   "cell_type": "code",
   "execution_count": null,
   "id": "ce6187f9-9c3b-48e0-8330-6c9cf846b25f",
   "metadata": {},
   "outputs": [],
   "source": [
    "p.idea(\n",
    "    output_file=\"现状总结.md\",\n",
    "    task=\"请重新梳理标题层次，并帮我扩写\",\n",
    "    completed=\"\"\"\n",
    "    1、市纪委的公权力监督平台于2024年初已经投入使用\n",
    "    2、公权力监督平台营商环境模块所使用的监督数据来源，因为从旧有“渝快办”系统切换到“新渝快办”系统，导致市纪委和区纪委暂时都无法获得网办件的数据来源。\n",
    "    3、市纪委已经协调相关部门，同意继续由“新渝快办”系统开发商（阿里）继续提供网办件数据。\n",
    "    4、广州鸿蒙接受市纪委的委托，继续负责与“新渝快办”系统开发商（阿里）接洽开发对接工作，目前正在评估可行性和开发进度，预计两个月以内完成。\n",
    "    5、如果区纪委不做相应升级改造，区纪委这边的监督平台将无法继续获得监督网办件的数据来源。\n",
    "    6、公权力监督平台已经由保密局定为涉密项目，目前由重庆移动跟进和总包，但尚未完成方案确认、预算确认和招投标流程，预计广州鸿蒙将负责其中的营商环境监督模块。\n",
    "    7、市纪委监督平台在数据处理环节上分为两部分，一是在政务外网环境中获取数据，二是在纪检监察内网按纪委监督要求处理数据，因此后续预警任务跟进也在纪检监察内网中进行\n",
    "    8、市纪委与政务办公厅洽谈的结果是，因为“新渝快办”系统与“旧渝快办”系统一样部署在政务外网，市纪委不要求全量数据同步，而是将数据抽取的逻辑放入到“渝快办”一侧，仅抽取监督所需数据\n",
    "    9、区纪委平台目前将数据获取和数据处理、预警任务跟进都部署在政务外网，这一点与市纪委平台明显不同\n",
    "    \"\"\"\n",
    ")"
   ]
  },
  {
   "cell_type": "markdown",
   "id": "faab4c52-0ada-4744-8b7b-46231bd9bbc8",
   "metadata": {},
   "source": [
    "### 2、方案一"
   ]
  },
  {
   "cell_type": "code",
   "execution_count": null,
   "id": "8fd653a3-1d12-469b-95e8-d46ba79d048c",
   "metadata": {},
   "outputs": [],
   "source": [
    "p.idea(\n",
    "    output_file=\"方案一.md\",\n",
    "    task=\"请重新梳理标题层次，并帮我扩写\",\n",
    "    completed=\"\"\"\n",
    "    1、总体策略：方案采用改造策略，对现有平台改造，与市纪委平台平行对接\n",
    "    2、预期市纪委可接受的技术方案：由市纪委确定如何支撑各地区纪委，主要是考虑好如何让各区县纪委共享监督数据\n",
    "    3、预期沙区纪委改造内容：\n",
    "    （1）区纪委保留现有部署在政务外网的服务器和系统，从市纪委平台已获取的数据中抽取沙区纪委监督的部份\n",
    "    （2）区纪委必须向市纪委提出补充的数据监督需求，如工程建设数据、网办件统计数据等，由市纪委统一协调获取\n",
    "    （3）沙区纪委本地特有的工程建设、城管渣土、小微工程、三为码等监督数据不必市纪委同步\n",
    "    （4）沙区纪委本地监督模型可以视情况而言，确定是否停用市纪委已经运行的监督模型\n",
    "    （5）沙区纪委的日常监督任务处理将包括：来自市纪委在纪检监察内网的预警任务；来自沙区纪委在政务外网发现的预警任务\n",
    "    4、沙区纪委自行做后续运维\n",
    "    5、沙区纪委可根据自身经验做灵活地个性化改造\n",
    "    6、预期成果：主要是对后台监督数据来源做调整，原有驾驶舱、预警任务处理流程等变化不大\n",
    "    7、涉及工作量和进度：涉及到与市纪委平台做对接改造的工作量，以及本地预警模型、本地数据处理的日常运维工作量\n",
    "    \"\"\"\n",
    ")"
   ]
  },
  {
   "cell_type": "markdown",
   "id": "085af455-21b8-48b8-81f1-0548fd0766a5",
   "metadata": {},
   "source": [
    "### 3、方案二"
   ]
  },
  {
   "cell_type": "code",
   "execution_count": null,
   "id": "c9e4ab81-c697-4bc3-9362-c79e29d740db",
   "metadata": {},
   "outputs": [],
   "source": [
    "p.idea(\n",
    "    output_file=\"方案二.md\",\n",
    "    task=\"请重新梳理标题层次，并帮我扩写\",\n",
    "    completed=\"\"\"\n",
    "    1、总体策略：停用沙区自身平台，将沙区自身的数据和监督模型与市纪委平台融合\n",
    "    2、预期市纪委可接受的技术方案：由市纪委确定如何支撑各地区纪委，要让各地区纪委能够提交自己的特有数据，并建立区县特有的监督模型\n",
    "    3、预期沙区纪委改造内容：\n",
    "    （1）停用网办件数据获取模块、监督模型模块、任务预警模块等\n",
    "    （2）区纪委必须向市纪委提出补充的数据监督需求，如工程建设数据、网办件统计数据等，由市纪委统一协调获取\n",
    "    （3）沙区纪委本地特有的工程建设、城管渣土、小微工程、三为码等监督数据，并与市纪委同步，合并到纪检监察内网中处理\n",
    "    （4）沙区纪委保留三为码监督模块，既作为业务系统，也作为数据供给来源\n",
    "    （5）沙区纪委的日常监督任务处理将包括：仅包括来自市纪委在纪检监察内网的预警任务\n",
    "    4、沙区纪委做后续运维的需求大大减少\n",
    "    5、沙区纪委要做个性化改造需要考虑市纪委平台的限制和兼容性\n",
    "    6、预期成果：停用自身平台主干部份，主要是为市纪委平台添砖加瓦\n",
    "    7、涉及工作量和进度：涉及到与市纪委平台做对接改造的工作量，以及向市纪委转移本地预警模型、本地数据的改造工作量\n",
    "    \"\"\"\n",
    ")"
   ]
  },
  {
   "cell_type": "markdown",
   "id": "676fc5ca-45b1-4a05-8b9f-dce873ca29db",
   "metadata": {},
   "source": [
    "### 4、提纲"
   ]
  },
  {
   "cell_type": "code",
   "execution_count": null,
   "id": "028ab1e4-5708-4a32-a780-676e46bf7d88",
   "metadata": {},
   "outputs": [],
   "source": [
    "p.outline(\n",
    "    output_file=\"提纲.md\",\n",
    "    task=\"帮我整理一份提纲，主要包括现状分析、解决方案一、解决方案二、总结比较等几部份即可\",\n",
    "    knowledge=[\"现状总结.md\", \"方案一.md\", \"方案二.md\"]\n",
    ")"
   ]
  },
  {
   "cell_type": "markdown",
   "id": "fb062e4e-e35a-45e0-9f34-e286838a4f14",
   "metadata": {},
   "source": [
    "### 5、扩写"
   ]
  },
  {
   "cell_type": "code",
   "execution_count": null,
   "id": "248c62d6-33ae-473e-9400-3866ca989cf1",
   "metadata": {},
   "outputs": [],
   "source": [
    "p.from_outline(\n",
    "    output_file=\"建议书.md\",\n",
    "    task=\"帮我按要求扩写，语言要凝练简洁，语气官方正式\",\n",
    "    completed=\"提纲.md\",\n",
    "    knowledge=[\"现状总结.md\", \"方案一.md\", \"方案二.md\"]\n",
    ")"
   ]
  },
  {
   "cell_type": "markdown",
   "id": "0875e64e-8036-42cd-89f8-5bd700e5c63c",
   "metadata": {},
   "source": [
    "## 三、批量执行"
   ]
  },
  {
   "cell_type": "code",
   "execution_count": null,
   "id": "5062a744-5b2e-4c69-bf26-74bd5b13be13",
   "metadata": {},
   "outputs": [],
   "source": [
    "p.save_script()"
   ]
  },
  {
   "cell_type": "code",
   "execution_count": null,
   "id": "6be94b5c-59a8-45d9-81f4-f627deb964b4",
   "metadata": {},
   "outputs": [],
   "source": [
    "p.run_script()"
   ]
  },
  {
   "cell_type": "markdown",
   "id": "3e4de774-a620-49c7-87a8-19cd0df400c8",
   "metadata": {},
   "source": [
    "## 四、转换为 word"
   ]
  },
  {
   "cell_type": "code",
   "execution_count": null,
   "id": "8643c4b0-2fa4-4fd3-834a-6211a75bc41a",
   "metadata": {},
   "outputs": [],
   "source": [
    "!pandoc \"汇报资料/建议书.md\" -o \"汇报资料/建议书.docx\""
   ]
  },
  {
   "cell_type": "code",
   "execution_count": null,
   "id": "46da1336-f986-4408-9f56-f5a1b4673193",
   "metadata": {},
   "outputs": [],
   "source": []
  }
 ],
 "metadata": {
  "kernelspec": {
   "display_name": "textlong-same-ipykernel",
   "language": "python",
   "name": "textlong-same-ipykernel"
  },
  "language_info": {
   "codemirror_mode": {
    "name": "ipython",
    "version": 3
   },
   "file_extension": ".py",
   "mimetype": "text/x-python",
   "name": "python",
   "nbconvert_exporter": "python",
   "pygments_lexer": "ipython3",
   "version": "3.10.0"
  }
 },
 "nbformat": 4,
 "nbformat_minor": 5
}
