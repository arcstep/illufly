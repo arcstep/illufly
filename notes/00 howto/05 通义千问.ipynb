{
 "cells": [
  {
   "cell_type": "code",
   "execution_count": null,
   "id": "8d032d02-ddea-42a5-bf2e-1c40c34e028d",
   "metadata": {},
   "outputs": [],
   "source": [
    "counter = 15\n",
    "f'{counter:03}'"
   ]
  },
  {
   "cell_type": "markdown",
   "id": "bb919f4c-4815-464e-93fc-60b60df90676",
   "metadata": {},
   "source": [
    "# 通义千问"
   ]
  },
  {
   "cell_type": "code",
   "execution_count": null,
   "id": "c21a4d10-1f72-4ef8-970f-9bc5d8fe7e9e",
   "metadata": {},
   "outputs": [],
   "source": [
    "%pip install dashscope"
   ]
  },
  {
   "cell_type": "code",
   "execution_count": null,
   "id": "2ae0f1b3-6284-4a80-a736-4a872f2ee5f9",
   "metadata": {},
   "outputs": [],
   "source": [
    "from textlong.hub import load_prompt, clone_prompt\n",
    "for p in ['IDEA', 'OUTLINE', 'FROM_OUTLINE']:\n",
    "    clone_prompt(p)"
   ]
  },
  {
   "cell_type": "code",
   "execution_count": null,
   "id": "97109968-96a4-4e3c-8929-0ba4fc368558",
   "metadata": {},
   "outputs": [],
   "source": [
    "project_id = \"通义千问\"\n",
    "task = \"帮我整理一份简要的数据分析学习指南\"\n",
    "idea = \"简要指南.md\"\n",
    "outline = \"提纲.md\"\n",
    "final = \"指南正文.md\""
   ]
  },
  {
   "cell_type": "code",
   "execution_count": null,
   "id": "5882823d-406b-4325-9e8f-25979cac39de",
   "metadata": {},
   "outputs": [],
   "source": [
    "import os\n",
    "from langchain_community.llms import Tongyi\n",
    "from textlong.project import WritingProject\n",
    "\n",
    "def tongyi_demo(model_name, tag):\n",
    "    p = WritingProject(\n",
    "        llm=Tongyi(model=model_name),\n",
    "        project_id=os.path.join(project_id + '-' + tag, model_name),\n",
    "        prompt_tag=tag\n",
    "    )\n",
    "    p.outline(output_file=outline, task=task)\n",
    "    p.from_outline(input=outline, output_file=final)"
   ]
  },
  {
   "cell_type": "markdown",
   "id": "4e49c9bb-69b4-4e6f-a641-8fb7445fdfa9",
   "metadata": {},
   "source": [
    "## qwen-max"
   ]
  },
  {
   "cell_type": "code",
   "execution_count": null,
   "id": "7f6776ae-1ec2-4ebb-869a-0879d22c8799",
   "metadata": {},
   "outputs": [],
   "source": [
    "tongyi_demo(\"qwen-max\", \"tongyi\")"
   ]
  },
  {
   "cell_type": "code",
   "execution_count": null,
   "id": "d9fdb8f3-eafb-4908-b13b-1a24d0eb2d3b",
   "metadata": {},
   "outputs": [],
   "source": [
    "tongyi_demo(\"farui-plus\", \"tongyi\")"
   ]
  },
  {
   "cell_type": "code",
   "execution_count": null,
   "id": "6f182076-9a6a-4562-b2ec-ef6c8b9ffe11",
   "metadata": {},
   "outputs": [],
   "source": [
    "tongyi_demo(\"qwen2-1.5b-instruct\", \"tongyi\")"
   ]
  },
  {
   "cell_type": "code",
   "execution_count": null,
   "id": "b211c5d4-79b5-4188-823c-aaa7f63bd2b4",
   "metadata": {},
   "outputs": [],
   "source": [
    "tongyi_demo(\"chatglm3-6b\", \"tongyi\")"
   ]
  },
  {
   "cell_type": "markdown",
   "id": "d6c4500f-2cb2-49af-8a3b-f37982bfb3db",
   "metadata": {},
   "source": [
    "## qwen1.5-32b-chat"
   ]
  },
  {
   "cell_type": "code",
   "execution_count": null,
   "id": "6150890c-e668-474b-bd94-70a1c5624065",
   "metadata": {},
   "outputs": [],
   "source": [
    "tongyi_demo(\"qwen1.5-32b-chat\", \"tongyi\")"
   ]
  },
  {
   "cell_type": "markdown",
   "id": "2d50b3f4-1e89-4b55-9e32-0c4b4045535a",
   "metadata": {},
   "source": [
    "## 法睿大模型"
   ]
  },
  {
   "cell_type": "code",
   "execution_count": null,
   "id": "c11f0bdb-3d8e-45ae-aa1a-033cb0bcd12e",
   "metadata": {},
   "outputs": [],
   "source": [
    "model_name = \"farui-plus\"\n",
    "tag = \"tongyi\"\n",
    "\n",
    "p = WritingProject(\n",
    "    llm=Tongyi(model=model_name),\n",
    "    project_id=os.path.join(project_id + '-' + tag, model_name),\n",
    "    prompt_tag=tag\n",
    ")"
   ]
  },
  {
   "cell_type": "code",
   "execution_count": null,
   "id": "ca0530a3-ff9b-43e6-9ec4-8684df156ac9",
   "metadata": {},
   "outputs": [],
   "source": [
    "p.idea(output_file=\"起诉书.md\", task=\"我哥欠我10000块钱，给我生成起诉书。\")\n",
    "# p.from_outline(input=outline, output_file=final)"
   ]
  },
  {
   "cell_type": "code",
   "execution_count": null,
   "id": "2ebcbbd0-2c83-407a-99f2-c26374af1317",
   "metadata": {},
   "outputs": [],
   "source": [
    "from langchain_community.llms import Tongyi\n",
    "from textlong.project import WritingProject\n",
    "import os\n",
    "\n",
    "model_name = \"qwen2-1.5b-instruct\"\n",
    "tag = \"tongyi\"\n",
    "\n",
    "p = WritingProject(\n",
    "    llm=Tongyi(model=model_name),\n",
    "    project_id=os.path.join(project_id + '-' + tag, model_name),\n",
    "    prompt_tag=tag\n",
    ")"
   ]
  },
  {
   "cell_type": "code",
   "execution_count": null,
   "id": "dea4d3ba-ba42-4831-b6df-8a6c52f1b5ca",
   "metadata": {},
   "outputs": [],
   "source": [
    "p.chat(output_file=\"起诉书.md\", task=\"我哥欠我10000块钱，给我生成起诉书。\")\n",
    "# p.from_outline(input=outline, output_file=final)"
   ]
  },
  {
   "cell_type": "code",
   "execution_count": null,
   "id": "c0b0ab1b-9879-4a48-9ee2-c2dd7719701a",
   "metadata": {},
   "outputs": [],
   "source": [
    "p.get_memory('起诉书.md')"
   ]
  },
  {
   "cell_type": "code",
   "execution_count": null,
   "id": "e56dcb99-f305-425f-99d2-07c39a6c95c6",
   "metadata": {},
   "outputs": [],
   "source": [
    "p.chat(output_file=\"起诉书.md\", task=\"改为1000元呢\")"
   ]
  },
  {
   "cell_type": "code",
   "execution_count": null,
   "id": "4ee6c5a9-3e71-4f89-86b3-dddd4c875054",
   "metadata": {},
   "outputs": [],
   "source": [
    "p.clear_history(\"起诉书.md\")\n",
    "p.get_memory('起诉书.md')"
   ]
  },
  {
   "cell_type": "markdown",
   "id": "7364bd32-fa38-421f-a47d-b4165bd74df9",
   "metadata": {},
   "source": [
    "## Qwen2"
   ]
  },
  {
   "cell_type": "code",
   "execution_count": null,
   "id": "b1adcbc0-c238-4e16-8a1a-4d00c9f1ed8a",
   "metadata": {},
   "outputs": [],
   "source": [
    "model_name = \"qwen2-72b-instruct\"\n",
    "tag = \"tongyi\"\n",
    "\n",
    "p = Project(\n",
    "    llm=Tongyi(model=model_name),\n",
    "    project_id=os.path.join(project_id + '-' + tag, model_name),\n",
    "    prompt_tag=tag\n",
    ")\n",
    "p.outline(output_file=outline, task=task)\n",
    "# p.from_outline(input=outline, output_file=final)"
   ]
  },
  {
   "cell_type": "code",
   "execution_count": null,
   "id": "daf1e0f1-6ec2-4e93-aa9f-2b4a74cd3b07",
   "metadata": {},
   "outputs": [],
   "source": [
    "from langchain_community.llms import Tongyi\n",
    "from textlong.project import WritingProject\n",
    "import os\n",
    "\n",
    "model_name = \"qwen2-7b-instruct\"\n",
    "tag = \"tongyi\"\n",
    "\n",
    "p = WritingProject(\n",
    "    llm=Tongyi(model=model_name),\n",
    "    project_id=os.path.join(project_id + '-' + tag, model_name),\n",
    "    prompt_tag=tag\n",
    ")"
   ]
  },
  {
   "cell_type": "code",
   "execution_count": null,
   "id": "740b66ae-7648-4782-ad4e-4e28fbe0ef1f",
   "metadata": {},
   "outputs": [],
   "source": [
    "p.idea(output_file=idea, task=task)"
   ]
  },
  {
   "cell_type": "code",
   "execution_count": null,
   "id": "9574ddf8-eead-469a-bdf0-957c0ceb224d",
   "metadata": {},
   "outputs": [],
   "source": [
    "p.outline(output_file=outline, task=task)"
   ]
  },
  {
   "cell_type": "code",
   "execution_count": null,
   "id": "22c066a4-f69d-459f-8239-48f1c068c056",
   "metadata": {},
   "outputs": [],
   "source": [
    "p.from_outline(complted=outline, output_file=final, verbose=False)"
   ]
  },
  {
   "cell_type": "code",
   "execution_count": null,
   "id": "d20361cf-f75d-4714-a96e-858f8e8016bf",
   "metadata": {},
   "outputs": [],
   "source": []
  }
 ],
 "metadata": {
  "kernelspec": {
   "display_name": "textlong-same-ipykernel",
   "language": "python",
   "name": "textlong-same-ipykernel"
  },
  "language_info": {
   "codemirror_mode": {
    "name": "ipython",
    "version": 3
   },
   "file_extension": ".py",
   "mimetype": "text/x-python",
   "name": "python",
   "nbconvert_exporter": "python",
   "pygments_lexer": "ipython3",
   "version": "3.10.0"
  }
 },
 "nbformat": 4,
 "nbformat_minor": 5
}
