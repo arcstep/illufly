{
 "cells": [
  {
   "cell_type": "code",
   "execution_count": 4,
   "id": "f94e6c33-f143-49b6-8922-bfae1e87b10a",
   "metadata": {},
   "outputs": [],
   "source": [
    "from textlong import chat, outline, from_outline, more_outline\n",
    "from textlong.parser import parse_markdown\n",
    "from langchain_zhipu import ChatZhipuAI\n",
    "from langchain.memory import ConversationBufferWindowMemory\n",
    "\n",
    "memory = ConversationBufferWindowMemory()"
   ]
  },
  {
   "cell_type": "code",
   "execution_count": 5,
   "id": "15b2ad99-a661-486f-8aad-b17d8f04df69",
   "metadata": {},
   "outputs": [
    {
     "name": "stdout",
     "output_type": "stream",
     "text": [
      "\u001b[34m\n",
      ">->>> Prompt ID: CHAT <<<-<\n",
      "\u001b[0m\u001b[32mJSON\u001b[0m\u001b[32m Web\u001b[0m\u001b[32m Token\u001b[0m\u001b[32m（\u001b[0m\u001b[32mJWT\u001b[0m\u001b[32m）\u001b[0m\u001b[32m是一种\u001b[0m\u001b[32m开放\u001b[0m\u001b[32m标准\u001b[0m\u001b[32m（\u001b[0m\u001b[32mRFC\u001b[0m\u001b[32m \u001b[0m\u001b[32m75\u001b[0m\u001b[32m1\u001b[0m\u001b[32m9\u001b[0m\u001b[32m），\u001b[0m\u001b[32m它\u001b[0m\u001b[32m定义\u001b[0m\u001b[32m了一种\u001b[0m\u001b[32m紧凑\u001b[0m\u001b[32m且\u001b[0m\u001b[32m自\u001b[0m\u001b[32m包含\u001b[0m\u001b[32m的方式\u001b[0m\u001b[32m，\u001b[0m\u001b[32m用于\u001b[0m\u001b[32m在\u001b[0m\u001b[32m各方\u001b[0m\u001b[32m之间\u001b[0m\u001b[32m安全\u001b[0m\u001b[32m地\u001b[0m\u001b[32m传输\u001b[0m\u001b[32m信息\u001b[0m\u001b[32m。\u001b[0m\u001b[32mJWT\u001b[0m\u001b[32m通常\u001b[0m\u001b[32m用于\u001b[0m\u001b[32m身份\u001b[0m\u001b[32m验证\u001b[0m\u001b[32m和信息\u001b[0m\u001b[32m交换\u001b[0m\u001b[32m。\u001b[0m\u001b[32m一个\u001b[0m\u001b[32mJWT\u001b[0m\u001b[32m包含\u001b[0m\u001b[32m三个\u001b[0m\u001b[32m部分\u001b[0m\u001b[32m：\u001b[0m\u001b[32m头部\u001b[0m\u001b[32m（\u001b[0m\u001b[32mHeader\u001b[0m\u001b[32m）、\u001b[0m\u001b[32m载荷\u001b[0m\u001b[32m（\u001b[0m\u001b[32mPayload\u001b[0m\u001b[32m）\u001b[0m\u001b[32m和\u001b[0m\u001b[32m签名\u001b[0m\u001b[32m（\u001b[0m\u001b[32mSignature\u001b[0m\u001b[32m），\u001b[0m\u001b[32m它们\u001b[0m\u001b[32m通过\u001b[0m\u001b[32m点\u001b[0m\u001b[32m（\u001b[0m\u001b[32m`.`\u001b[0m\u001b[32m）\u001b[0m\u001b[32m连接\u001b[0m\u001b[32m。\u001b[0m\u001b[32m\u001b[0m"
     ]
    },
    {
     "data": {
      "text/plain": [
       "\"---\\nmodified_at: '2024-07-03 00:13:36'\\ncommand: stream\\nargs:\\n  task: JWT是什么意思？\\n  sep_mode: all\\n  prompt_id: CHAT\\n  tag_start: '```'\\n  tag_end: '```'\\n---\\n\\nJSON Web Token（JWT）是一种开放标准（RFC 7519），它定义了一种紧凑且自包含的方式，用于在各方之间安全地传输信息。JWT通常用于身份验证和信息交换。一个JWT包含三个部分：头部（Header）、载荷（Payload）和签名（Signature），它们通过点（`.`）连接。\""
      ]
     },
     "execution_count": 5,
     "metadata": {},
     "output_type": "execute_result"
    }
   ],
   "source": [
    "chat(\n",
    "    ChatZhipuAI(model='glm-4-air'),\n",
    "    task=\"JWT是什么意思？\",        \n",
    "    memory=memory\n",
    ")"
   ]
  },
  {
   "cell_type": "code",
   "execution_count": 7,
   "id": "14c66a21-1f6b-4f48-84e5-2000e5494932",
   "metadata": {},
   "outputs": [
    {
     "name": "stdout",
     "output_type": "stream",
     "text": [
      "\u001b[34m\n",
      ">->>> Prompt ID: CHAT <<<-<\n",
      "\u001b[0m\u001b[32m-\u001b[0m\u001b[32m JWT\u001b[0m\u001b[32m简洁\u001b[0m\u001b[32m，\u001b[0m\u001b[32m易于\u001b[0m\u001b[32m传输\u001b[0m\u001b[32m。\n",
      "-\u001b[0m\u001b[32m 可以\u001b[0m\u001b[32m在\u001b[0m\u001b[32m无需\u001b[0m\u001b[32m额外\u001b[0m\u001b[32m服务器\u001b[0m\u001b[32m验证\u001b[0m\u001b[32m的情况下\u001b[0m\u001b[32m安全\u001b[0m\u001b[32m地\u001b[0m\u001b[32m传输\u001b[0m\u001b[32m信息\u001b[0m\u001b[32m。\n",
      "-\u001b[0m\u001b[32m 支\u001b[0m\u001b[32m持\u001b[0m\u001b[32m跨\u001b[0m\u001b[32m域\u001b[0m\u001b[32m认证\u001b[0m\u001b[32m。\n",
      "-\u001b[0m\u001b[32m 无\u001b[0m\u001b[32m状态\u001b[0m\u001b[32m，\u001b[0m\u001b[32m不需要\u001b[0m\u001b[32m在\u001b[0m\u001b[32m服务器\u001b[0m\u001b[32m存储\u001b[0m\u001b[32m会\u001b[0m\u001b[32m话\u001b[0m\u001b[32m信息\u001b[0m\u001b[32m，\u001b[0m\u001b[32m减轻\u001b[0m\u001b[32m服务器\u001b[0m\u001b[32m负担\u001b[0m\u001b[32m。\u001b[0m\u001b[32m\u001b[0m"
     ]
    },
    {
     "data": {
      "text/plain": [
       "\"---\\nmodified_at: '2024-07-03 00:13:50'\\ncommand: stream\\nargs:\\n  task: 这有什么优势吗？\\n  sep_mode: all\\n  prompt_id: CHAT\\n  tag_start: '```'\\n  tag_end: '```'\\n---\\n\\n- JWT简洁，易于传输。\\n- 可以在无需额外服务器验证的情况下安全地传输信息。\\n- 支持跨域认证。\\n- 无状态，不需要在服务器存储会话信息，减轻服务器负担。\""
      ]
     },
     "execution_count": 7,
     "metadata": {},
     "output_type": "execute_result"
    }
   ],
   "source": [
    "chat(\n",
    "    ChatZhipuAI(model='glm-4-air'),\n",
    "    task=\"这有什么优势吗？\",        \n",
    "    memory=memory\n",
    ")"
   ]
  },
  {
   "cell_type": "code",
   "execution_count": 9,
   "id": "73c301d4-cae9-45c6-8826-47783300872a",
   "metadata": {},
   "outputs": [
    {
     "name": "stdout",
     "output_type": "stream",
     "text": [
      "\u001b[34m\n",
      ">->>> Prompt ID: CHAT <<<-<\n",
      "\u001b[0m\u001b[32mJWT\u001b[0m\u001b[32m（\u001b[0m\u001b[32mJSON\u001b[0m\u001b[32m Web\u001b[0m\u001b[32m Token\u001b[0m\u001b[32m）\u001b[0m\u001b[32m与\u001b[0m\u001b[32mOAuth\u001b[0m\u001b[32m（\u001b[0m\u001b[32mOpen\u001b[0m\u001b[32m Authorization\u001b[0m\u001b[32m）\u001b[0m\u001b[32m是\u001b[0m\u001b[32m两个\u001b[0m\u001b[32m不同的\u001b[0m\u001b[32m概念\u001b[0m\u001b[32m，\u001b[0m\u001b[32m它们\u001b[0m\u001b[32m服务于\u001b[0m\u001b[32m不同的\u001b[0m\u001b[32m目的\u001b[0m\u001b[32m：\n",
      "\n",
      "-\u001b[0m\u001b[32m JWT\u001b[0m\u001b[32m是一种\u001b[0m\u001b[32m用于\u001b[0m\u001b[32m双方\u001b[0m\u001b[32m之间\u001b[0m\u001b[32m传递\u001b[0m\u001b[32m安全\u001b[0m\u001b[32m可靠\u001b[0m\u001b[32m信息的\u001b[0m\u001b[32m简洁\u001b[0m\u001b[32m、\u001b[0m\u001b[32m自\u001b[0m\u001b[32m包含\u001b[0m\u001b[32m的方法\u001b[0m\u001b[32m，\u001b[0m\u001b[32m它\u001b[0m\u001b[32m通常\u001b[0m\u001b[32m用于\u001b[0m\u001b[32m身份\u001b[0m\u001b[32m验证\u001b[0m\u001b[32m和\u001b[0m\u001b[32m信息的\u001b[0m\u001b[32m传输\u001b[0m\u001b[32m。\n",
      "-\u001b[0m\u001b[32m OAuth\u001b[0m\u001b[32m是一个\u001b[0m\u001b[32m授权\u001b[0m\u001b[32m框架\u001b[0m\u001b[32m，\u001b[0m\u001b[32m它\u001b[0m\u001b[32m允许\u001b[0m\u001b[32m第三方\u001b[0m\u001b[32m应用\u001b[0m\u001b[32m访问\u001b[0m\u001b[32m服务器\u001b[0m\u001b[32m资源\u001b[0m\u001b[32m而\u001b[0m\u001b[32m无需\u001b[0m\u001b[32m暴露\u001b[0m\u001b[32m用户的\u001b[0m\u001b[32m密码\u001b[0m\u001b[32m。\u001b[0m\u001b[32mOAuth\u001b[0m\u001b[32m主要用于\u001b[0m\u001b[32m授权\u001b[0m\u001b[32m，\u001b[0m\u001b[32m而不是\u001b[0m\u001b[32m身份\u001b[0m\u001b[32m验证\u001b[0m\u001b[32m。\n",
      "\n",
      "主要\u001b[0m\u001b[32m区别\u001b[0m\u001b[32m包括\u001b[0m\u001b[32m：\n",
      "\n",
      "-\u001b[0m\u001b[32m OAuth\u001b[0m\u001b[32m是一个\u001b[0m\u001b[32m授权\u001b[0m\u001b[32m协议\u001b[0m\u001b[32m，\u001b[0m\u001b[32m而\u001b[0m\u001b[32mJWT\u001b[0m\u001b[32m是一种\u001b[0m\u001b[32m数据\u001b[0m\u001b[32m结构\u001b[0m\u001b[32m。\n",
      "-\u001b[0m\u001b[32m OAuth\u001b[0m\u001b[32m涉及\u001b[0m\u001b[32m多个\u001b[0m\u001b[32m步骤\u001b[0m\u001b[32m和\u001b[0m\u001b[32m交互\u001b[0m\u001b[32m，\u001b[0m\u001b[32m而\u001b[0m\u001b[32mJWT\u001b[0m\u001b[32m是\u001b[0m\u001b[32m单个\u001b[0m\u001b[32m令\u001b[0m\u001b[32m牌\u001b[0m\u001b[32m，\u001b[0m\u001b[32m可以\u001b[0m\u001b[32m包含\u001b[0m\u001b[32m用户\u001b[0m\u001b[32m信息和\u001b[0m\u001b[32m访问\u001b[0m\u001b[32m权限\u001b[0m\u001b[32m。\n",
      "-\u001b[0m\u001b[32m OAuth\u001b[0m\u001b[32m通常\u001b[0m\u001b[32m用于\u001b[0m\u001b[32m第三方\u001b[0m\u001b[32m授权\u001b[0m\u001b[32m，\u001b[0m\u001b[32m而\u001b[0m\u001b[32mJWT\u001b[0m\u001b[32m用于\u001b[0m\u001b[32m传递\u001b[0m\u001b[32m用户\u001b[0m\u001b[32m声明\u001b[0m\u001b[32m和\u001b[0m\u001b[32m验证\u001b[0m\u001b[32m用户\u001b[0m\u001b[32m身份\u001b[0m\u001b[32m。\n",
      "-\u001b[0m\u001b[32m OAuth\u001b[0m\u001b[32m令\u001b[0m\u001b[32m牌\u001b[0m\u001b[32m需要\u001b[0m\u001b[32m验证\u001b[0m\u001b[32m服务器\u001b[0m\u001b[32m，\u001b[0m\u001b[32m而\u001b[0m\u001b[32mJWT\u001b[0m\u001b[32m可以在\u001b[0m\u001b[32m客户端\u001b[0m\u001b[32m验证\u001b[0m\u001b[32m（\u001b[0m\u001b[32m如果\u001b[0m\u001b[32m签名\u001b[0m\u001b[32m是\u001b[0m\u001b[32m可信\u001b[0m\u001b[32m的\u001b[0m\u001b[32m）。\u001b[0m\u001b[32m\u001b[0m"
     ]
    },
    {
     "data": {
      "text/plain": [
       "\"---\\nmodified_at: '2024-07-03 00:14:15'\\ncommand: stream\\nargs:\\n  task: 与OAuth什么区别？\\n  sep_mode: all\\n  prompt_id: CHAT\\n  tag_start: '```'\\n  tag_end: '```'\\n---\\n\\nJWT（JSON Web Token）与OAuth（Open Authorization）是两个不同的概念，它们服务于不同的目的：\\n\\n- JWT是一种用于双方之间传递安全可靠信息的简洁、自包含的方法，它通常用于身份验证和信息的传输。\\n- OAuth是一个授权框架，它允许第三方应用访问服务器资源而无需暴露用户的密码。OAuth主要用于授权，而不是身份验证。\\n\\n主要区别包括：\\n\\n- OAuth是一个授权协议，而JWT是一种数据结构。\\n- OAuth涉及多个步骤和交互，而JWT是单个令牌，可以包含用户信息和访问权限。\\n- OAuth通常用于第三方授权，而JWT用于传递用户声明和验证用户身份。\\n- OAuth令牌需要验证服务器，而JWT可以在客户端验证（如果签名是可信的）。\""
      ]
     },
     "execution_count": 9,
     "metadata": {},
     "output_type": "execute_result"
    }
   ],
   "source": [
    "chat(\n",
    "    ChatZhipuAI(model='glm-4-air'),\n",
    "    task=\"与OAuth什么区别？\",        \n",
    "    memory=memory\n",
    ")"
   ]
  },
  {
   "cell_type": "code",
   "execution_count": null,
   "id": "d6b91717-f2fa-4933-8363-4f34f8d739e9",
   "metadata": {},
   "outputs": [],
   "source": []
  }
 ],
 "metadata": {
  "kernelspec": {
   "display_name": "textlong-same-ipykernel",
   "language": "python",
   "name": "textlong-same-ipykernel"
  },
  "language_info": {
   "codemirror_mode": {
    "name": "ipython",
    "version": 3
   },
   "file_extension": ".py",
   "mimetype": "text/x-python",
   "name": "python",
   "nbconvert_exporter": "python",
   "pygments_lexer": "ipython3",
   "version": "3.10.0"
  }
 },
 "nbformat": 4,
 "nbformat_minor": 5
}
