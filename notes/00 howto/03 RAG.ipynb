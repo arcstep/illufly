{
 "cells": [
  {
   "cell_type": "code",
   "execution_count": 1,
   "id": "fdabb2f5-ac1b-4a7c-a0c0-fc5221b81e81",
   "metadata": {},
   "outputs": [],
   "source": [
    "from textlong import idea\n",
    "from langchain_zhipu import ChatZhipuAI, ZhipuAIEmbeddings\n",
    "from textlong.knowledge import LocalFilesLoader"
   ]
  },
  {
   "cell_type": "code",
   "execution_count": 2,
   "id": "4a70373b-6f47-413b-aa82-d033274477a4",
   "metadata": {},
   "outputs": [
    {
     "data": {
      "text/plain": [
       "['./QA/demo.xlsx', './工美港/消防资料.md', '现状总结.md']"
      ]
     },
     "execution_count": 2,
     "metadata": {},
     "output_type": "execute_result"
    }
   ],
   "source": [
    "qa = LocalFilesLoader([\"QA\", \"工美港\", \"汇报资料\"])\n",
    "# qa.load()\n",
    "qa.get_files()"
   ]
  },
  {
   "cell_type": "code",
   "execution_count": 3,
   "id": "8e4f46e4-01eb-4d78-9bc9-832b053a01ff",
   "metadata": {},
   "outputs": [
    {
     "name": "stdout",
     "output_type": "stream",
     "text": [
      "\u001b[34m<_工美港_消防资料_md> 低层建筑 \n",
      "场景：大于300平方米的银行营业厅;问题：是否需要设置自动喷水系统？\u001b[0m\n",
      "\u001b[34m<_工美港_消防资料_md> 低层建筑 \n",
      "场景：大于300平方米的银行营业厅&#10;问题：&#10;（1）是不是人员密集场所？&...\u001b[0m\n",
      "\u001b[34m<_工美港_消防资料_md> 低层建筑 \n",
      "场景：5层高的大学实验楼&#10;（主要是化工、物理等实验室，并且采用了分体式空调）&#...\u001b[0m\n",
      "\u001b[34m<_工美港_消防资料_md> 工美港基本资料：有320个消防阀门，正常水压的阀门有300个，其余略高但属于可控范围，分布在3个隔离...\u001b[0m\n",
      "\u001b[34mCached 4 embeddings to ./__CACHE_EMBEDDINGS__/ !\u001b[0m\n"
     ]
    },
    {
     "data": {
      "text/plain": [
       "True"
      ]
     },
     "execution_count": 3,
     "metadata": {},
     "output_type": "execute_result"
    }
   ],
   "source": [
    "model = ZhipuAIEmbeddings()\n",
    "qa.cache_embeddings(model)"
   ]
  },
  {
   "cell_type": "code",
   "execution_count": 5,
   "id": "d5bda367-3f82-4c3d-8173-4c5564f167b8",
   "metadata": {},
   "outputs": [],
   "source": [
    "from langchain_community.vectorstores import FAISS\n",
    "from textlong.memory import MemoryManager\n",
    "from textlong.knowledge import collect_docs\n",
    "from textlong.chain import create_qa_chain\n",
    "\n",
    "db = FAISS.from_embeddings(*qa.load_embeddings(model))\n",
    "retriever = db.as_retriever()\n",
    "memory = MemoryManager()\n",
    "chain = create_qa_chain(ChatZhipuAI(), db.as_retriever(), memory)"
   ]
  },
  {
   "cell_type": "code",
   "execution_count": 7,
   "id": "a3233f6e-f9de-4551-a01a-74c1b47ed46d",
   "metadata": {},
   "outputs": [
    {
     "name": "stdout",
     "output_type": "stream",
     "text": [
      "问题答案：300个。相关规范解释：工美港基本资料表明，共有320个消防阀门，其中正常水压的阀门有300个，符合正常消防安全标准。"
     ]
    }
   ],
   "source": [
    "for x in chain.stream({\"input\": \"工美港有多少正常的消防阀门？\"}):\n",
    "    print(x.content, end=\"\")"
   ]
  },
  {
   "cell_type": "code",
   "execution_count": 6,
   "id": "601793b7-7b6e-48e9-96a5-b8ee767e6898",
   "metadata": {},
   "outputs": [
    {
     "name": "stdout",
     "output_type": "stream",
     "text": [
      "我只回答与消防领域相关的问题，请重新提问。"
     ]
    }
   ],
   "source": [
    "for x in chain.stream({\"input\": \"辣子鸡怎么做？\"}):\n",
    "    print(x.content, end=\"\")"
   ]
  },
  {
   "cell_type": "code",
   "execution_count": 8,
   "id": "a4859265-bd97-4c93-9110-4852d931ef10",
   "metadata": {},
   "outputs": [
    {
     "data": {
      "text/plain": [
       "PromptTemplate(input_variables=['context', 'question'], partial_variables={'history': ''}, template='你是一名咨询专家，只负责根据资料回答相关提问，禁止回答与此无关的问题。\\n\\n你在回答时必须遵循以下约束：\\n1. 你只能基于参考资料回答问题，务必注意资料的真实性，不要做任何编造\\n2. 请使用简洁的语言回答，不要啰嗦\\n3. 不要生成\"根据提供的资料...\"等字眼\\n\\n>>>>>>>>>>>>>> 你的参考资料：\\n{{{context}}}\\n\\n>>>>>>>>>>>>>> 你必须按照如下格式输出：\\n问题答案：xxx。\\n\\n相关规范解释：xxxxxxxx。\\n\\n>>>>>>>>>>>>>> 之前的对话如下：\\n{{{history}}}\\n\\n我的问题是：{{question}}\\n\\n你的回答：', template_format='mustache')"
      ]
     },
     "execution_count": 8,
     "metadata": {},
     "output_type": "execute_result"
    }
   ],
   "source": [
    "chain.get_prompts()[0]"
   ]
  },
  {
   "cell_type": "code",
   "execution_count": 13,
   "id": "081415ba-0b8c-40c1-87a7-2382a4eb2bcc",
   "metadata": {},
   "outputs": [
    {
     "data": {
      "text/plain": [
       "[HumanMessage(content='银行大厅要不要设置喷淋？'),\n",
       " AIMessageChunk(content='问题答案：需要设立自动喷水灭火系统。\\n\\n相关规范解释：《建筑设计防火规范》（GB 50016-2014）第5.3.1条规定，公共建筑中的人员密集场所应设置自动喷水灭火系统。银行营业厅作为公共场所，且面积大于300平米，符合此规范要求。', response_metadata={'finish_reason': 'stop', 'model': 'glm-4', 'created': 1719388633, 'index': 0, 'usage': {'prompt_tokens': 960, 'completion_tokens': 68, 'total_tokens': 1028}}, id='8783895246509809662'),\n",
       " HumanMessage(content='沙区纪委平台数据来自哪里？'),\n",
       " AIMessageChunk(content='问题答案：沙区纪委平台数据来自“新渝快办”系统开发商阿里提供的数据，以及与市纪委平台的数据共享。\\n\\n相关规范解释：《市纪委公权力监督平台现状分析及发展计划》提出，沙区纪委平台在技术升级与数据共享方面，通过优化数据抽取逻辑和建立数据共享机制，确保监督数据的有效获取和实时同步。沙区纪委同时保留现有系统，并从市纪委平台获取与监督相关的数据。', response_metadata={'finish_reason': 'stop', 'model': 'glm-4', 'created': 1719388647, 'index': 0, 'usage': {'prompt_tokens': 2054, 'completion_tokens': 100, 'total_tokens': 2154}}, id='8783894146998085616')]"
      ]
     },
     "execution_count": 13,
     "metadata": {},
     "output_type": "execute_result"
    }
   ],
   "source": [
    "memory.get_memory(\"default\")"
   ]
  },
  {
   "cell_type": "code",
   "execution_count": 8,
   "id": "bacfb639-616c-480f-971f-96edbc514128",
   "metadata": {},
   "outputs": [],
   "source": [
    "from textlong.hub import load_prompt, clone_prompt"
   ]
  },
  {
   "cell_type": "code",
   "execution_count": 9,
   "id": "06dedd6e-9fed-4123-a6f6-5fc88b81577d",
   "metadata": {},
   "outputs": [
    {
     "data": {
      "text/plain": [
       "True"
      ]
     },
     "execution_count": 9,
     "metadata": {},
     "output_type": "execute_result"
    }
   ],
   "source": [
    "clone_prompt(\"RAG\", tag=\"chat\")"
   ]
  },
  {
   "cell_type": "code",
   "execution_count": 10,
   "id": "99791800-5d35-4be4-843f-a79a8233f653",
   "metadata": {},
   "outputs": [
    {
     "data": {
      "text/plain": [
       "'/Users/xuehongwei/github/textlong/notes/00 howto'"
      ]
     },
     "execution_count": 10,
     "metadata": {},
     "output_type": "execute_result"
    }
   ],
   "source": [
    "%pwd"
   ]
  },
  {
   "cell_type": "code",
   "execution_count": 18,
   "id": "9e733b54-c76f-4e8c-88f6-479f9d89fab3",
   "metadata": {},
   "outputs": [
    {
     "name": "stdout",
     "output_type": "stream",
     "text": [
      "你是一名咨询专家，只负责根据资料回答相关提问，禁止回答与消防领域无关的问题。\n",
      "\n",
      "你在回答时必须遵循以下约束：\n",
      "1. 你只能基于参考资料回答问题，务必注意资料的真实性，不要做任何编造\n",
      "2. 请使用简洁的语言回答，不要啰嗦\n",
      "3. 不要生成\"根据提供的资料...\"等字眼\n",
      "\n",
      ">>>>>>>>>>>>>> 你的参考资料：\n",
      "工美港基本资料：有320个消防阀门，正常水压的阀门有300个，其余略高但属于可控范围，分布在3个隔离区。\n",
      "\n",
      ">>>>>>>>>>>>>> 你必须按照如下格式输出：\n",
      "例子1（如果提问与消防领域）:\n",
      "\n",
      "我只回答与消防领域相关的问题，请重新提问。\n",
      "\n",
      "例子2（其他问题）：\n",
      "\n",
      "问题答案：xxx。\n",
      "相关规范解释：xxxxxxxx。\n",
      "\n",
      ">>>>>>>>>>>>>> 之前的对话如下：\n",
      "\n",
      "\n",
      "我的问题是：有几个隔离区？\n",
      "\n",
      "你的回答：\n"
     ]
    }
   ],
   "source": [
    "print(load_prompt(\"RAG\", tag=\"chat\").format(\n",
    "    question=\"有几个隔离区？\",\n",
    "    context=\"工美港基本资料：有320个消防阀门，正常水压的阀门有300个，其余略高但属于可控范围，分布在3个隔离区。\"))"
   ]
  },
  {
   "cell_type": "code",
   "execution_count": null,
   "id": "66092d2f-0a6b-4581-ac71-a33eb46c1b14",
   "metadata": {},
   "outputs": [],
   "source": []
  }
 ],
 "metadata": {
  "kernelspec": {
   "display_name": "textlong-same-ipykernel",
   "language": "python",
   "name": "textlong-same-ipykernel"
  },
  "language_info": {
   "codemirror_mode": {
    "name": "ipython",
    "version": 3
   },
   "file_extension": ".py",
   "mimetype": "text/x-python",
   "name": "python",
   "nbconvert_exporter": "python",
   "pygments_lexer": "ipython3",
   "version": "3.10.0"
  }
 },
 "nbformat": 4,
 "nbformat_minor": 5
}
