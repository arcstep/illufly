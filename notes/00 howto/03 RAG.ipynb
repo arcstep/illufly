{
    "cells": [
        {
            "cell_type": "markdown",
            "id": "e3a8385f-e69f-4953-ae88-652ecd8bcd23",
            "metadata": {},
            "source": [
                "## 使用OpenAI文本嵌入"
            ]
        },
        {
            "cell_type": "code",
            "execution_count": null,
            "id": "fdabb2f5-ac1b-4a7c-a0c0-fc5221b81e81",
            "metadata": {},
            "outputs": [],
            "source": [
                "from langchain_openai import ChatOpenAI, OpenAIEmbeddings\n",
                "from illufly.knowledge import LocalFilesLoader"
            ]
        },
        {
            "cell_type": "code",
            "execution_count": null,
            "id": "4a70373b-6f47-413b-aa82-d033274477a4",
            "metadata": {},
            "outputs": [],
            "source": [
                "qa = LocalFilesLoader([\"QA\", \"工美港\", \"汇报资料\"])\n",
                "# qa.load()\n",
                "qa.get_files()"
            ]
        },
        {
            "cell_type": "code",
            "execution_count": null,
            "id": "8e4f46e4-01eb-4d78-9bc9-832b053a01ff",
            "metadata": {},
            "outputs": [],
            "source": [
                "model = OpenAIEmbeddings()\n",
                "qa.cache_embeddings(model, 'openai')"
            ]
        },
        {
            "cell_type": "code",
            "execution_count": null,
            "id": "d5bda367-3f82-4c3d-8173-4c5564f167b8",
            "metadata": {},
            "outputs": [],
            "source": [
                "from langchain_community.vectorstores import FAISS\n",
                "from illufly.memory import MemoryManager\n",
                "from illufly.knowledge import collect_docs\n",
                "from illufly.chain import create_qa_chain\n",
                "from langchain_core.runnables import chain\n",
                "\n",
                "db = FAISS.from_embeddings(*qa.load_embeddings(model, 'openai'))\n",
                "retriever = db.as_retriever()\n",
                "\n",
                "@chain\n",
                "def get_retriever(input, config):\n",
                "    session_id = config['configurable'].get('session_id', 'default')\n",
                "    print(input, session_id)\n",
                "    return db.as_retriever()\n",
                "    \n",
                "memory = MemoryManager()\n",
                "chain = create_qa_chain(ChatOpenAI(), get_retriever, memory)"
            ]
        },
        {
            "cell_type": "code",
            "execution_count": null,
            "id": "a3233f6e-f9de-4551-a01a-74c1b47ed46d",
            "metadata": {},
            "outputs": [],
            "source": [
                "for x in chain.stream({\"input\": \"工美港有多少正常的消防阀门？\"}):\n",
                "    print(x.content, end=\"\")"
            ]
        },
        {
            "cell_type": "code",
            "execution_count": null,
            "id": "601793b7-7b6e-48e9-96a5-b8ee767e6898",
            "metadata": {},
            "outputs": [],
            "source": [
                "for x in chain.stream({\"input\": \"辣子鸡怎么做？\"}):\n",
                "    print(x.content, end=\"\")"
            ]
        },
        {
            "cell_type": "code",
            "execution_count": null,
            "id": "a4859265-bd97-4c93-9110-4852d931ef10",
            "metadata": {},
            "outputs": [],
            "source": [
                "chain.get_prompts()[0]"
            ]
        },
        {
            "cell_type": "markdown",
            "id": "9a20da46-bbe7-46d2-a311-b4f1d3030820",
            "metadata": {},
            "source": [
                "## 使用阿里云文本嵌入"
            ]
        },
        {
            "cell_type": "code",
            "execution_count": 13,
            "id": "66092d2f-0a6b-4581-ac71-a33eb46c1b14",
            "metadata": {},
            "outputs": [],
            "source": [
                "from typing import List, Any\n",
                "from illufly.chain import create_qa_chain\n",
                "from illufly.memory import MemoryManager\n",
                "from illufly.knowledge import LocalFilesLoader\n",
                "\n",
                "from langchain_core.runnables import chain, Runnable\n",
                "from langchain_community.llms import Tongyi\n",
                "from langchain_community.vectorstores import FAISS\n",
                "from langchain_community.embeddings import DashScopeEmbeddings\n",
                "\n",
                "llm = Tongyi(model='qwen2-7b-instruct')\n",
                "vectorDB = FAISS\n",
                "embeddings = DashScopeEmbeddings()\n",
                "embeddings_tag = \"qwen\"\n",
                "\n",
                "qa_folders = [\"QA\", \"工美港\", \"汇报资料\"]\n",
                "base_folder = \"\"\n",
                "\n",
                "# 实现动态的文本嵌入加工\n",
                "@chain\n",
                "def get_retriever(input, config):\n",
                "    qa = LocalFilesLoader(qa_folders, base_folder)\n",
                "    qa.cache_embeddings(embeddings, embeddings_tag)\n",
                "\n",
                "    resp = qa.load_embeddings(embeddings, embeddings_tag)\n",
                "    return vectorDB.from_embeddings(*resp).as_retriever()\n",
                "\n",
                "memory = MemoryManager()\n",
                "chain = create_qa_chain(llm, get_retriever, memory, prompt_id=\"RAG-XIAOFANG\")"
            ]
        },
        {
            "cell_type": "code",
            "execution_count": 14,
            "id": "69191980-dc44-46fb-b6b5-64c244689093",
            "metadata": {},
            "outputs": [
                {
                    "name": "stdout",
                    "output_type": "stream",
                    "text": [
                        "问题答案：工美港有300个正常的消防阀门。相关规范解释：这一信息来自于对工美港基本资料的描述，提到在320个消防阀门中，有300个处于正常水压状态，剩余的20个阀门虽然压力略高但仍在可控范围内。"
                    ]
                }
            ],
            "source": [
                "for x in chain.stream({\"input\": \"工美港有多少正常的消防阀门？\"}):\n",
                "    print(x, end=\"\")"
            ]
        },
        {
            "cell_type": "code",
            "execution_count": null,
            "id": "2ea2ffb1-8125-4856-977b-9d30bb687b45",
            "metadata": {},
            "outputs": [],
            "source": []
        }
    ],
    "metadata": {
        "kernelspec": {
            "display_name": "illufly-same-ipykernel",
            "language": "python",
            "name": "illufly-same-ipykernel"
        },
        "language_info": {
            "codemirror_mode": {
                "name": "ipython",
                "version": 3
            },
            "file_extension": ".py",
            "mimetype": "text/x-python",
            "name": "python",
            "nbconvert_exporter": "python",
            "pygments_lexer": "ipython3",
            "version": "3.10.0"
        }
    },
    "nbformat": 4,
    "nbformat_minor": 5
}