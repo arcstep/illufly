{
 "cells": [
  {
   "cell_type": "markdown",
   "id": "a83725c3-2830-48d1-a6ac-43bf467fc302",
   "metadata": {},
   "source": [
    "# RAG 实现"
   ]
  },
  {
   "cell_type": "markdown",
   "id": "edde87b1-ebd3-4f1e-a162-d37c16e32d5a",
   "metadata": {},
   "source": [
    "## 加载文档"
   ]
  },
  {
   "cell_type": "markdown",
   "id": "ebab363b-60d4-409a-bc64-94a18e3ad180",
   "metadata": {},
   "source": [
    "### 从文件读取，并实现拆分"
   ]
  },
  {
   "cell_type": "code",
   "execution_count": 1,
   "id": "9d0370da-cb37-4a83-a707-6130c261d0fd",
   "metadata": {},
   "outputs": [
    {
     "data": {
      "text/plain": [
       "'/Users/xuehongwei/github/illufly/notes/core'"
      ]
     },
     "execution_count": 1,
     "metadata": {},
     "output_type": "execute_result"
    }
   ],
   "source": [
    "import os\n",
    "os.getcwd()"
   ]
  },
  {
   "cell_type": "code",
   "execution_count": 4,
   "id": "33e57703-d03d-405c-8d73-730595d09369",
   "metadata": {},
   "outputs": [
    {
     "data": {
      "text/plain": [
       "[Document(text='# illufly 设计理念介绍...', metadata='{\"source\": \"./docs/设计理念.md\"}'),\n",
       " Document(text='一般的开发框架们为了开发者使用，会提供自己的类定义，例如用下面的代码来替代：...', metadata='{\"source\": \"./docs/设计理念.md\"}'),\n",
       " Document(text='现在，要求你准确记住这些类的名字以及该从哪里引用，就开始慢慢形成挑战了。...', metadata='{\"source\": \"./docs/设计理念.md\"}'),\n",
       " Document(text=''role': 'user',...', metadata='{\"source\": \"./docs/设计理念.md\"}'),\n",
       " Document(text='# 常见的智能体推理模式和 illufly 的实现...', metadata='{\"source\": \"./docs/推理模式.md\"}'),\n",
       " Document(text='REWOO的全称是Reason without Observation，旨在通过以下方式改进ReACT风格的Agent架构：...', metadata='{\"source\": \"./docs/推理模式.md\"}'),\n",
       " Document(text='- 重规划器Replanner：根据执行情况和反馈调整计划。...', metadata='{\"source\": \"./docs/推理模式.md\"}'),\n",
       " Document(text='Self-Discover由Google研究人员提出，允许大型语言模型在没有明确标签情况下，自主选择并组合原子推理模块，生成推理结构。包含两个阶段：...', metadata='{\"source\": \"./docs/推理模式.md\"}'),\n",
       " Document(text='- **自我迭代的改进**：自动收集智能体的反思能力和规划能力的评测依据和微调依据，确保智能体可以不断优化和提升。...', metadata='{\"source\": \"./docs/推理模式.md\"}')]"
      ]
     },
     "execution_count": 4,
     "metadata": {},
     "output_type": "execute_result"
    }
   ],
   "source": [
    "from illufly.importer import MarkdownFileImporter\n",
    "\n",
    "t = MarkdownFileImporter(dir=\"./\", chunk_size=550)\n",
    "t(verbose=True)\n",
    "t.documents"
   ]
  },
  {
   "cell_type": "code",
   "execution_count": 3,
   "id": "e79ca2aa-f3f7-428f-89c7-f2f235ae7d3b",
   "metadata": {},
   "outputs": [
    {
     "name": "stdout",
     "output_type": "stream",
     "text": [
      "一般的开发框架们为了开发者使用，会提供自己的类定义，例如用下面的代码来替代：\n",
      "\n",
      "```python\n",
      "[\n",
      "    SystemMessage('你是一个AI助手'),\n",
      "    UserMessage('你好'),\n",
      "    AIMessage('有什么可以帮你')\n",
      "]\n",
      "```\n",
      "\n",
      "然后要求开发者尽量使用已经创建的 XXMessage 类来封装所有关于消息格式的功能。\n",
      "到目前为止，这看起来很不错，也完全符合一般的设计原则。\n",
      "\n",
      "但问题会逐渐显现。\n",
      "\n",
      "首先是类定义的体系，仅仅上面几个类是不够的。例如：\n",
      "\n",
      "- 你一定需要基类，比如：`BaseMessage`\n",
      "- 也许你需要区分出工具消息，比如： `ToolMessage`？但这样也许不太够，因为要区分大模型返回的和工具执行的，也许是这样：`ToolCallMessage` 和 `ToolRespMessage`\n",
      "- 如果你要区分携带部分信息的消息，可能还要增加 `UserMessageChunk`、`AIMessageChunk`，以及`ToolCallMessageChunk` 和 `ToolRespMessageChunk`\n",
      "- 多模态的能力中图片的消息该如何定义？是否要增加 `ImageMessage`、`AudioMessage`、`VideoMessage`的定义？以及对应的 `ImageMessageChunk`、`AudioMessageChunk`、`VideoMessageChunk`？\n",
      "\n",
      "有了这些类，你要先记住才能开始做其他的，例如：\n",
      "```python\n",
      "from xxxxxx.xxxxxx.messages import UserMessage, AIMessage, ImageMessage, VideoMessage ...\n",
      "```\n",
      "\n",
      "现在，要求你准确记住这些类的名字以及该从哪里引用，就开始慢慢形成挑战了。\n",
      "\n",
      "...\n",
      "\n",
      "类似的事情会在很多地方发生。\n",
      "\n",
      "你的初衷是，通过这些新类的定义来简化工作，但是现在不得不记住很多新东西。\n",
      "\n",
      "### illufly 中的解决方案\n",
      "\n",
      "```python\n",
      "[\n",
      "    {\n",
      "        'role': 'system',\n",
      "        'content': '你是一个AI助手'\n",
      "    },\n",
      "    {\n"
     ]
    }
   ],
   "source": [
    "print(t.documents[1].text)"
   ]
  },
  {
   "cell_type": "markdown",
   "id": "e1963ee4-19dd-4b05-b893-a86ceea7e3db",
   "metadata": {},
   "source": [
    "## 向量数据库"
   ]
  },
  {
   "cell_type": "markdown",
   "id": "e161bb7f-96dd-44af-8396-b902c5f8648e",
   "metadata": {},
   "source": [
    "### 预先从 Embeddings 构建文档"
   ]
  },
  {
   "cell_type": "code",
   "execution_count": 1,
   "id": "b486482f-64d6-4b99-8f12-06ffb48be896",
   "metadata": {},
   "outputs": [
    {
     "name": "stdout",
     "output_type": "stream",
     "text": [
      "  0s [INFO] \u001b[34m[0.706] ./docs/推理模式.md: - **自我迭代的改进**：自动收集智能体的反思能力和规划能力的评测依据和微调依据，确保智能体可以不断优化和提升。...\u001b[0m\n",
      "  0s [INFO] \u001b[34m[0.867] ./docs/推理模式.md: # 常见的智能体推理模式和 illufly 的实现...\u001b[0m\n",
      "  0s [INFO] \u001b[34m[0.934] ./docs/设计理念.md: 'role': 'user',...\u001b[0m\n",
      "  0s [INFO] \u001b[34m[0.951] ./docs/推理模式.md: Self-Discover由Google研究人员提出，允许大型语言模型在没有明确标签情况下，自主选择并组合原子推理模块，生成推理结构。包含两个阶段：...\u001b[0m\n",
      "  0s [INFO] \u001b[34m[0.987] ./docs/设计理念.md: # illufly 设计理念介绍...\u001b[0m\n"
     ]
    },
    {
     "data": {
      "text/plain": [
       "[(0.70617646,\n",
       "  Document(text='- **自我迭代的改进**：自动收集智能体的反思能力和规划能力的评测依据和微调依据，确保智能体可以不断优化和提升。...', metadata='{\"source\": \"./docs/推理模式.md\", \"embeddings\": [-0.06955220550298691, -0.040011003613471985, -0.03216838...')),\n",
       " (0.86662793,\n",
       "  Document(text='# 常见的智能体推理模式和 illufly 的实现...', metadata='{\"source\": \"./docs/推理模式.md\", \"embeddings\": [-0.03823075070977211, 0.025731494650244713, 0.0117180533...')),\n",
       " (0.9336294,\n",
       "  Document(text=''role': 'user',...', metadata='{\"source\": \"./docs/设计理念.md\", \"embeddings\": [-0.061874520033597946, 0.01978103630244732, -0.015418602...')),\n",
       " (0.9512944,\n",
       "  Document(text='Self-Discover由Google研究人员提出，允许大型语言模型在没有明确标签情况下，自主选择并组合原子推理模块，生成推理结构。包含两个阶段：...', metadata='{\"source\": \"./docs/推理模式.md\", \"embeddings\": [-0.04360850527882576, -0.003100050613284111, -0.01595692...')),\n",
       " (0.98729813,\n",
       "  Document(text='# illufly 设计理念介绍...', metadata='{\"source\": \"./docs/设计理念.md\", \"embeddings\": [-0.09724362939596176, 0.012529165484011173, -0.007420137...'))]"
      ]
     },
     "execution_count": 1,
     "metadata": {},
     "output_type": "execute_result"
    }
   ],
   "source": [
    "from illufly.embeddings import TextEmbeddings\n",
    "from illufly.importer import MarkdownFileImporter\n",
    "from illufly.retriever import FaissDB\n",
    "\n",
    "# 导入文档\n",
    "local = MarkdownFileImporter(dir=\"./\", chunk_size=550)\n",
    "local(verbose=True)\n",
    "\n",
    "# 文档嵌入\n",
    "emb = TextEmbeddings()\n",
    "emb(local.documents, verbose=True)\n",
    "\n",
    "# 文档入库\n",
    "faiss = FaissDB(emb, train=False)\n",
    "\n",
    "# 查询\n",
    "faiss(\"智能体有哪些类型？\", verbose=True)"
   ]
  },
  {
   "cell_type": "markdown",
   "id": "f794437c-9372-40db-b85c-b417eda1c95d",
   "metadata": {},
   "source": [
    "### Importer + Embeddings + VectorDB "
   ]
  },
  {
   "cell_type": "code",
   "execution_count": 2,
   "id": "5b00fce7-82ce-4fda-a735-c2dba624c6ed",
   "metadata": {},
   "outputs": [
    {
     "name": "stdout",
     "output_type": "stream",
     "text": [
      "  0s [INFO] \u001b[34m[0.487] unknown: 普鸿是一家做数字消防业务的公司\u001b[0m\n",
      "  0s [INFO] \u001b[34m[1.348] unknown: 幻蝶是一家AI技术公司\u001b[0m\n"
     ]
    },
    {
     "data": {
      "text/plain": [
       "[(0.48679453,\n",
       "  Document(text='普鸿是一家做数字消防业务的公司', metadata='{\"source\": \"unknown\", \"embeddings\": [-0.09413302689790726, 0.01354235503822565, -0.03795371949672699...')),\n",
       " (1.3482788,\n",
       "  Document(text='幻蝶是一家AI技术公司', metadata='{\"source\": \"unknown\", \"embeddings\": [-0.08771800994873047, 0.011481866240501404, 0.00165668292902410...'))]"
      ]
     },
     "execution_count": 2,
     "metadata": {},
     "output_type": "execute_result"
    }
   ],
   "source": [
    "from illufly.embeddings import TextEmbeddings\n",
    "from illufly.vectordb import FaissDB\n",
    "\n",
    "# 文档嵌入\n",
    "db = FaissDB(TextEmbeddings())\n",
    "db.add([\"普鸿是一家做数字消防业务的公司\"])\n",
    "db.add([\"幻蝶是一家AI技术公司\"])\n",
    "\n",
    "# 查询\n",
    "db(\"普鸿是啥？\", top_k=5, verbose=True)"
   ]
  },
  {
   "cell_type": "code",
   "execution_count": 3,
   "id": "c7886fb9-ba99-4cb2-a315-c12c53b2bb7a",
   "metadata": {},
   "outputs": [
    {
     "name": "stdout",
     "output_type": "stream",
     "text": [
      "  0s [INFO] \u001b[34m[0.680] ./docs/推理模式.md: - **自我迭代的改进**：自动收集智能体的反思能力和规划能力的评测依据和微调依据，确保智能体可以不断优化和提升。...\u001b[0m\n",
      "  0s [INFO] \u001b[34m[0.953] ./docs/推理模式.md: # 常见的智能体推理模式和 illufly 的实现...\u001b[0m\n",
      "  0s [INFO] \u001b[34m[0.960] ./docs/设计理念.md: 'role': 'user',...\u001b[0m\n",
      "  0s [INFO] \u001b[34m[1.031] ./docs/推理模式.md: Self-Discover由Google研究人员提出，允许大型语言模型在没有明确标签情况下，自主选择并组合原子推理模块，生成推理结构。包含两个阶段：...\u001b[0m\n",
      "  0s [INFO] \u001b[34m[1.038] ./docs/设计理念.md: # illufly 设计理念介绍...\u001b[0m\n"
     ]
    },
    {
     "data": {
      "text/plain": [
       "[(0.67994213,\n",
       "  Document(text='- **自我迭代的改进**：自动收集智能体的反思能力和规划能力的评测依据和微调依据，确保智能体可以不断优化和提升。...', metadata='{\"source\": \"./docs/推理模式.md\", \"embeddings\": [-0.06955220550298691, -0.040011003613471985, -0.03216838...')),\n",
       " (0.95295113,\n",
       "  Document(text='# 常见的智能体推理模式和 illufly 的实现...', metadata='{\"source\": \"./docs/推理模式.md\", \"embeddings\": [-0.03823075070977211, 0.025731494650244713, 0.0117180533...')),\n",
       " (0.9598516,\n",
       "  Document(text=''role': 'user',...', metadata='{\"source\": \"./docs/设计理念.md\", \"embeddings\": [-0.061874520033597946, 0.01978103630244732, -0.015418602...')),\n",
       " (1.0309153,\n",
       "  Document(text='Self-Discover由Google研究人员提出，允许大型语言模型在没有明确标签情况下，自主选择并组合原子推理模块，生成推理结构。包含两个阶段：...', metadata='{\"source\": \"./docs/推理模式.md\", \"embeddings\": [-0.04360850527882576, -0.003100050613284111, -0.01595692...')),\n",
       " (1.0380639,\n",
       "  Document(text='# illufly 设计理念介绍...', metadata='{\"source\": \"./docs/设计理念.md\", \"embeddings\": [-0.09724362939596176, 0.012529165484011173, -0.007420137...'))]"
      ]
     },
     "execution_count": 3,
     "metadata": {},
     "output_type": "execute_result"
    }
   ],
   "source": [
    "from illufly.embeddings import TextEmbeddings\n",
    "from illufly.vectordb import FaissDB\n",
    "\n",
    "# 文档嵌入\n",
    "db = FaissDB(TextEmbeddings())\n",
    "db.add_files(\"./\", chunk_size=550)\n",
    "# 查询\n",
    "db(\"智能体是啥？\", top_k=5, verbose=True)"
   ]
  },
  {
   "cell_type": "markdown",
   "id": "45507bc9-899a-45ce-9e8b-bbbc42b8c778",
   "metadata": {},
   "source": [
    "## 结合 ChatAgent 构建 RAG"
   ]
  },
  {
   "cell_type": "code",
   "execution_count": 1,
   "id": "21e5caf9-5567-4667-acd1-060428f9da13",
   "metadata": {},
   "outputs": [
    {
     "name": "stdout",
     "output_type": "stream",
     "text": [
      "  0s [INFO] \u001b[34m[0.646] ./docs/推理模式.md: # 常见的智能体推理模式和 illufly 的实现...\u001b[0m\n",
      "\u001b[32mRe\u001b[0m\u001b[32mAct\u001b[0m\u001b[32m是\u001b[0m\u001b[32m“Reason and Act”的\u001b[0m\u001b[32m缩写，是一种结合了推理（\u001b[0m\u001b[32mReasoning）与行动（Acting\u001b[0m\u001b[32m）的语言模型设计框架。这一概念\u001b[0m\u001b[32m源自于人工智能领域的研究，特别是在自然\u001b[0m\u001b[32m语言处理和机器学习中，用于\u001b[0m\u001b[32m提升AI系统的决策能力和执行效率。\u001b[0m\u001b[32m具体来说，ReAct框架通过模拟\u001b[0m\u001b[32m人类解决问题的方式，利用一个循环流程\u001b[0m\u001b[32m来完成任务，这个流程主要包括三个\u001b[0m\u001b[32m步骤：\n",
      "\n",
      "1. **Thought（思考\u001b[0m\u001b[32m）**: 在这个阶段，模型基于\u001b[0m\u001b[32m当前的任务目标和已有的信息进行\u001b[0m\u001b[32m推理，形成一个或多个关于下一步\u001b[0m\u001b[32m应该采取什么行动的“思想”。\u001b[0m\u001b[32m这些思想体现了模型对当前情境的理解\u001b[0m\u001b[32m和对未来行动的规划。\n",
      "\n",
      "2.\u001b[0m\u001b[32m **Action（行动）**: 根\u001b[0m\u001b[32m据上一阶段的思考结果，\u001b[0m\u001b[32m模型执行一个具体的行动。这可能\u001b[0m\u001b[32m涉及向环境提问、执行某个命令\u001b[0m\u001b[32m、或者操作外部系统等，目的是\u001b[0m\u001b[32m获取新的信息或直接推动任务进展\u001b[0m\u001b[32m。\n",
      "\n",
      "3. **Observation（观察\u001b[0m\u001b[32m）**: 执行行动后，模型\u001b[0m\u001b[32m会接收并处理来自环境或系统的\u001b[0m\u001b[32m反馈，这成为新的观察信息。\u001b[0m\u001b[32m这些观察结果被整合进模型的知识\u001b[0m\u001b[32m库中，成为下一轮思考的基础\u001b[0m\u001b[32m。\n",
      "\n",
      "通过这样的Thought-Action-Observ\u001b[0m\u001b[32mation循环，ReAct框架使AI\u001b[0m\u001b[32m代理能够逐步逼近任务目标，同时\u001b[0m\u001b[32m保持决策过程的透明性和可解释\u001b[0m\u001b[32m性。这种方法不仅提高了模型处理复杂\u001b[0m\u001b[32m任务的能力，也便于开发者和用户\u001b[0m\u001b[32m理解和调试模型的行为。然而，它\u001b[0m\u001b[32m也面临着如输出不稳定、成本高昂\u001b[0m\u001b[32m及响应时间较长等挑战，这些问题\u001b[0m\u001b[32m在实际应用中需要通过优化算法\u001b[0m\u001b[32m或系统设计来缓解。\u001b[0m\u001b[32m\u001b[0m\n",
      "\n"
     ]
    },
    {
     "data": {
      "text/plain": [
       "[{'role': 'system', 'content': '你是一个作家'},\n",
       " {'role': 'user', 'content': 'ReAct是什么意思？'},\n",
       " {'role': 'assistant',\n",
       "  'content': 'ReAct是“Reason and Act”的缩写，是一种结合了推理（Reasoning）与行动（Acting）的语言模型设计框架。这一概念源自于人工智能领域的研究，特别是在自然语言处理和机器学习中，用于提升AI系统的决策能力和执行效率。具体来说，ReAct框架通过模拟人类解决问题的方式，利用一个循环流程来完成任务，这个流程主要包括三个步骤：\\n\\n1. **Thought（思考）**: 在这个阶段，模型基于当前的任务目标和已有的信息进行推理，形成一个或多个关于下一步应该采取什么行动的“思想”。这些思想体现了模型对当前情境的理解和对未来行动的规划。\\n\\n2. **Action（行动）**: 根据上一阶段的思考结果，模型执行一个具体的行动。这可能涉及向环境提问、执行某个命令、或者操作外部系统等，目的是获取新的信息或直接推动任务进展。\\n\\n3. **Observation（观察）**: 执行行动后，模型会接收并处理来自环境或系统的反馈，这成为新的观察信息。这些观察结果被整合进模型的知识库中，成为下一轮思考的基础。\\n\\n通过这样的Thought-Action-Observation循环，ReAct框架使AI代理能够逐步逼近任务目标，同时保持决策过程的透明性和可解释性。这种方法不仅提高了模型处理复杂任务的能力，也便于开发者和用户理解和调试模型的行为。然而，它也面临着如输出不稳定、成本高昂及响应时间较长等挑战，这些问题在实际应用中需要通过优化算法或系统设计来缓解。'}]"
      ]
     },
     "execution_count": 1,
     "metadata": {},
     "output_type": "execute_result"
    }
   ],
   "source": [
    "# 创建一个工具\n",
    "from illufly.types import ToolAgent, Template, TextBlock\n",
    "from illufly.embeddings import TextEmbeddings\n",
    "from illufly.vectordb import FaissDB\n",
    "from illufly.chat import ChatQwen\n",
    "\n",
    "# 文档嵌入\n",
    "faiss_db = FaissDB(TextEmbeddings(), top_k=1)\n",
    "faiss_db.add_files(\"./\", chunk_size=500)\n",
    "\n",
    "## 声明大模型\n",
    "qwen = ChatQwen(\n",
    "    knowledge=[\"illufly实现了多智能体结构\", faiss_db],\n",
    "    memory=[(\"system\", \"你是一个作家\")]\n",
    ")\n",
    "\n",
    "qwen(\"ReAct是什么意思？\", verbose=True)\n",
    "qwen.memory"
   ]
  },
  {
   "cell_type": "code",
   "execution_count": 5,
   "id": "c9f16b64-e755-41fe-b393-ba1175f9636e",
   "metadata": {},
   "outputs": [
    {
     "data": {
      "text/plain": [
       "[{'role': 'system', 'content': '你是一个作家'},\n",
       " {'role': 'user', 'content': 'ReAct是什么意思？'},\n",
       " {'role': 'assistant',\n",
       "  'content': 'ReAct是“Reason and Act”的缩写，这是一种设计智能体（agent）的框架或模式，特别是在基于语言的AI系统中。该框架强调在执行任务时结合推理（Reasoning）与行动（Acting）的能力，旨在让AI系统能够像人类一样，通过思考来指导行动，并根据行动结果进一步调整思考和策略。\\n\\n具体来说，ReAct框架通常涉及以下几个核心步骤：\\n\\n1. **观察（Observation）**：智能体接收外界环境或任务的初始信息，作为其行动的起点。\\n2. **思考（Thought/Reasoning）**：基于当前的观察和以往的知识，智能体进行推理，决定下一步应该采取什么行动。这个过程中可能包括对目标的分析、计划的制定等。\\n3. **行动（Action）**：智能体根据思考的结果执行一个或一系列动作，可能是提问、查询数据库、操作物理世界等。\\n4. **反馈（Observation Again）**：行动后，智能体接收新的观察结果，这可以是对之前行动的直接反馈，或是环境状态的更新。\\n5. **循环迭代**：智能体基于新的观察继续进行思考和行动，形成一个循环，直至达到解决问题的目标。\\n\\nReAct框架的优势在于它促进了智能体的透明度和可解释性，因为每一个决策和行动都是基于明确的推理步骤，便于人类理解和调试。同时，这种方法也鼓励了智能体在面对不确定性和复杂性时的适应性和学习能力。然而，它也面临着如成本效率、响应时间和模型稳定性的挑战，正如前面提到的关于LLM（大型语言模型）的一些局限性。'}]"
      ]
     },
     "execution_count": 5,
     "metadata": {},
     "output_type": "execute_result"
    }
   ],
   "source": [
    "qwen.get_chat_memory()"
   ]
  },
  {
   "cell_type": "code",
   "execution_count": 6,
   "id": "4450bcae-730f-4110-9152-49a7681476ca",
   "metadata": {},
   "outputs": [
    {
     "data": {
      "text/plain": [
       "{<illufly.community.faiss.faiss_cpu.FaissDB at 0x1223d4760>,\n",
       " Document(text='illufly实现了多智能体结构', metadata='{\"source\": \"unknown\"}')}"
      ]
     },
     "execution_count": 6,
     "metadata": {},
     "output_type": "execute_result"
    }
   ],
   "source": [
    "qwen.knowledge"
   ]
  },
  {
   "cell_type": "markdown",
   "id": "49939bcc-4c80-4daf-b8bd-7727dfa352b5",
   "metadata": {},
   "source": [
    "## ReRank"
   ]
  },
  {
   "cell_type": "code",
   "execution_count": 3,
   "id": "8560c789-8080-4777-99c2-1f698b849d41",
   "metadata": {},
   "outputs": [
    {
     "name": "stdout",
     "output_type": "stream",
     "text": [
      "{\"status_code\": 200, \"request_id\": \"23b62943-8321-9a17-aa03-21a9ff13d36a\", \"code\": \"\", \"message\": \"\", \"output\": {\"results\": [{\"index\": 0, \"relevance_score\": 0.7314485774089865, \"document\": {\"text\": \"文本排序模型广泛用于搜索引擎和推荐系统中，它们根据文本相关性对候选文本进行排序\"}}, {\"index\": 2, \"relevance_score\": 0.5831720487049298, \"document\": {\"text\": \"预训练语言模型的发展给文本排序模型带来了新的进展\"}}, {\"index\": 1, \"relevance_score\": 0.04973238644524712, \"document\": {\"text\": \"量子计算是计算科学的一个前沿领域\"}}]}, \"usage\": {\"total_tokens\": 79}}\n"
     ]
    }
   ],
   "source": [
    "import dashscope\n",
    "from http import HTTPStatus\n",
    "\n",
    "def text_rerank(): \n",
    "    resp = dashscope.TextReRank.call(\n",
    "        model=dashscope.TextReRank.Models.gte_rerank,\n",
    "        query=\"什么是文本排序模型\",\n",
    "        documents=[\n",
    "            \"文本排序模型广泛用于搜索引擎和推荐系统中，它们根据文本相关性对候选文本进行排序\",\n",
    "            \"量子计算是计算科学的一个前沿领域\",\n",
    "            \"预训练语言模型的发展给文本排序模型带来了新的进展\"\n",
    "        ],\n",
    "        top_n=10,\n",
    "        return_documents=True\n",
    "    )\n",
    "    if resp.status_code == HTTPStatus.OK:\n",
    "        print(resp)\n",
    "    else:\n",
    "        print(resp)\n",
    "\n",
    "text_rerank() "
   ]
  },
  {
   "cell_type": "markdown",
   "id": "3861822a-af58-49cb-8782-a0897115af35",
   "metadata": {},
   "source": [
    "## 构造问题"
   ]
  },
  {
   "cell_type": "code",
   "execution_count": 1,
   "id": "82638217-3662-4459-91c6-2044403e3660",
   "metadata": {},
   "outputs": [
    {
     "name": "stdout",
     "output_type": "stream",
     "text": [
      "\u001b[32m```\u001b[0m\u001b[32mjson\u001b[0m\u001b[32m\n",
      "\u001b[0m\u001b[32m{\n",
      "\u001b[0m\u001b[32m    \"question\":\u001b[0m\u001b[32m \"如何在家制作\u001b[0m\u001b[32m美味的披萨\u001b[0m\u001b[32m？\",\n",
      "    \"\u001b[0m\u001b[32mmore_questions\": [\"\u001b[0m\u001b[32m在家做披萨\u001b[0m\u001b[32m需要哪些材料？\u001b[0m\u001b[32m\", \"披萨\u001b[0m\u001b[32m饼皮怎么做才\u001b[0m\u001b[32m更酥脆？\u001b[0m\u001b[32m\", \"如何选择\u001b[0m\u001b[32m合适的披萨酱\u001b[0m\u001b[32m？\", \"应该\u001b[0m\u001b[32m在披萨上\u001b[0m\u001b[32m加什么配料？\u001b[0m\u001b[32m\", \"如何控制\u001b[0m\u001b[32m烤箱温度来\u001b[0m\u001b[32m烤披萨？\u001b[0m\u001b[32m\", \"有没有简单\u001b[0m\u001b[32m易学的披\u001b[0m\u001b[32m萨食谱？\u001b[0m\u001b[32m\", \"怎样可以让\u001b[0m\u001b[32m披萨更香\u001b[0m\u001b[32m？\", \"披\u001b[0m\u001b[32m萨烤多久才\u001b[0m\u001b[32m熟？\", \"\u001b[0m\u001b[32m如何做出边缘金\u001b[0m\u001b[32m黄的披萨\u001b[0m\u001b[32m？\", \"做\u001b[0m\u001b[32m披萨时面\u001b[0m\u001b[32m团如何发酵？\u001b[0m\u001b[32m\", \"如何防止\u001b[0m\u001b[32m披萨底部变\u001b[0m\u001b[32m湿？\", \"\u001b[0m\u001b[32m披萨上的奶\u001b[0m\u001b[32m酪应该什么时候加\u001b[0m\u001b[32m？\", \"如何\u001b[0m\u001b[32m判断披萨是否\u001b[0m\u001b[32m烤好？\",\u001b[0m\u001b[32m \"披萨出炉\u001b[0m\u001b[32m后应该如何切片\u001b[0m\u001b[32m？\", \"如何\u001b[0m\u001b[32m保存剩余的披\u001b[0m\u001b[32m萨？\", \"\u001b[0m\u001b[32m如何让披萨\u001b[0m\u001b[32m口感更好？\",\u001b[0m\u001b[32m \"披萨做好\u001b[0m\u001b[32m后如何保持热度\u001b[0m\u001b[32m？\", \"如何\u001b[0m\u001b[32m制作不同口味的\u001b[0m\u001b[32m披萨？\",\u001b[0m\u001b[32m \"如何避免披\u001b[0m\u001b[32m萨太油腻？\u001b[0m\u001b[32m\", \"如何在家\u001b[0m\u001b[32m制作健康版披\u001b[0m\u001b[32m萨？\"],\n",
      "   \u001b[0m\u001b[32m \"qa\": [\n",
      "\u001b[0m\u001b[32m        {\n",
      "            \"\u001b[0m\u001b[32mQ\": \"如何\u001b[0m\u001b[32m在家制作美味的\u001b[0m\u001b[32m披萨？\",\n",
      "\u001b[0m\u001b[32m            \"A\":\u001b[0m\u001b[32m \"首先准备好所需\u001b[0m\u001b[32m材料，如面粉\u001b[0m\u001b[32m、酵母、\u001b[0m\u001b[32m番茄酱等，\u001b[0m\u001b[32m然后按照食谱\u001b[0m\u001b[32m制作饼皮并\u001b[0m\u001b[32m添加喜欢的配料\u001b[0m\u001b[32m，最后放入预\u001b[0m\u001b[32m热好的烤箱\u001b[0m\u001b[32m中烘烤至\u001b[0m\u001b[32m金黄色即可。\u001b[0m\u001b[32m\"\n",
      "        },\n",
      "       \u001b[0m\u001b[32m {\n",
      "            \"Q\u001b[0m\u001b[32m\": \"如何在家\u001b[0m\u001b[32m制作美味的披\u001b[0m\u001b[32m萨？\",\n",
      "           \u001b[0m\u001b[32m \"A\": \"\u001b[0m\u001b[32m可以先上网查找\u001b[0m\u001b[32m一些简单的披萨\u001b[0m\u001b[32m食谱，根据\u001b[0m\u001b[32m步骤准备材料和\u001b[0m\u001b[32m烤制。\"\n",
      "\u001b[0m\u001b[32m        },\n",
      "        {\n",
      "\u001b[0m\u001b[32m            \"Q\":\u001b[0m\u001b[32m \"如何在家做\u001b[0m\u001b[32m蛋糕？\",\n",
      "           \u001b[0m\u001b[32m \"A\": \"\u001b[0m\u001b[32m蛋糕的做法与披\u001b[0m\u001b[32m萨完全不同，需要\u001b[0m\u001b[32m准备不同的原料和\u001b[0m\u001b[32m工具。\"\n",
      "       \u001b[0m\u001b[32m },\n",
      "        {\n",
      "           \u001b[0m\u001b[32m \"Q\": \"\u001b[0m\u001b[32m如何选择合适的披\u001b[0m\u001b[32m萨酱？\",\n",
      "\u001b[0m\u001b[32m            \"A\":\u001b[0m\u001b[32m \"根据个人口味\u001b[0m\u001b[32m选择，比如番茄\u001b[0m\u001b[32m酱、白酱\u001b[0m\u001b[32m或BBQ酱\u001b[0m\u001b[32m等。\"\n",
      "       \u001b[0m\u001b[32m },\n",
      "        {\n",
      "           \u001b[0m\u001b[32m \"Q\": \"\u001b[0m\u001b[32m如何选择合适的披\u001b[0m\u001b[32m萨酱？\",\n",
      "\u001b[0m\u001b[32m            \"A\":\u001b[0m\u001b[32m \"可以根据配料来\u001b[0m\u001b[32m搭配，比如海鲜\u001b[0m\u001b[32m配白酱，\u001b[0m\u001b[32m肉类配番茄酱\u001b[0m\u001b[32m。\"\n",
      "        },\n",
      "\u001b[0m\u001b[32m        {\n",
      "            \"\u001b[0m\u001b[32mQ\": \"如何\u001b[0m\u001b[32m训练一只狗坐下\u001b[0m\u001b[32m？\",\n",
      "            \"\u001b[0m\u001b[32mA\": \"用\u001b[0m\u001b[32m奖励的方法，每次\u001b[0m\u001b[32m它坐下就给\u001b[0m\u001b[32m点心。\"\n",
      "\u001b[0m\u001b[32m        },\n",
      "        {\n",
      "\u001b[0m\u001b[32m            \"Q\":\u001b[0m\u001b[32m \"如何让披\u001b[0m\u001b[32m萨更香？\u001b[0m\u001b[32m\",\n",
      "            \"A\u001b[0m\u001b[32m\": \"可以在披\u001b[0m\u001b[32m萨上撒一些\u001b[0m\u001b[32m罗勒叶或者\u001b[0m\u001b[32m牛至增加香气\u001b[0m\u001b[32m。\"\n",
      "        },\n",
      "\u001b[0m\u001b[32m        {\n",
      "            \"\u001b[0m\u001b[32mQ\": \"如何\u001b[0m\u001b[32m让披萨更\u001b[0m\u001b[32m香？\",\n",
      "           \u001b[0m\u001b[32m \"A\": \"\u001b[0m\u001b[32m加入适量的香\u001b[0m\u001b[32m料如迷迭\u001b[0m\u001b[32m香或百里\u001b[0m\u001b[32m香可以提升香味\u001b[0m\u001b[32m。\"\n",
      "        },\n",
      "\u001b[0m\u001b[32m        {\n",
      "            \"\u001b[0m\u001b[32mQ\": \"如何\u001b[0m\u001b[32m种植西红柿？\",\n",
      "\u001b[0m\u001b[32m            \"A\":\u001b[0m\u001b[32m \"挑选健康的种子\u001b[0m\u001b[32m，播种后定期\u001b[0m\u001b[32m浇水施肥。\"\n",
      "\u001b[0m\u001b[32m        },\n",
      "        {\n",
      "\u001b[0m\u001b[32m            \"Q\":\u001b[0m\u001b[32m \"如何控制烤\u001b[0m\u001b[32m箱温度来烤\u001b[0m\u001b[32m披萨？\",\n",
      "\u001b[0m\u001b[32m            \"A\":\u001b[0m\u001b[32m \"通常设置在\u001b[0m\u001b[32m220度\u001b[0m\u001b[32m左右，具体根据\u001b[0m\u001b[32m烤箱类型调整\u001b[0m\u001b[32m。\"\n",
      "        },\n",
      "\u001b[0m\u001b[32m        {\n",
      "            \"\u001b[0m\u001b[32mQ\": \"如何\u001b[0m\u001b[32m控制烤箱温度\u001b[0m\u001b[32m来烤披萨\u001b[0m\u001b[32m？\",\n",
      "            \"\u001b[0m\u001b[32mA\": \"要\u001b[0m\u001b[32m预热烤箱\u001b[0m\u001b[32m，并根据披萨\u001b[0m\u001b[32m大小调整时间。\u001b[0m\u001b[32m\"\n",
      "        },\n",
      "       \u001b[0m\u001b[32m {\n",
      "            \"Q\u001b[0m\u001b[32m\": \"如何更换\u001b[0m\u001b[32m汽车轮胎？\",\n",
      "\u001b[0m\u001b[32m            \"A\":\u001b[0m\u001b[32m \"先用千\u001b[0m\u001b[32m斤顶将车\u001b[0m\u001b[32m抬起，再卸\u001b[0m\u001b[32m下螺丝换上\u001b[0m\u001b[32m新胎。\"\n",
      "\u001b[0m\u001b[32m        },\n",
      "        {\n",
      "\u001b[0m\u001b[32m            \"Q\":\u001b[0m\u001b[32m \"如何做出边缘\u001b[0m\u001b[32m金黄的披\u001b[0m\u001b[32m萨？\",\n",
      "           \u001b[0m\u001b[32m \"A\": \"\u001b[0m\u001b[32m适当提高烤箱\u001b[0m\u001b[32m温度，使边缘\u001b[0m\u001b[32m更快变色。\u001b[0m\u001b[32m\"\n",
      "        },\n",
      "       \u001b[0m\u001b[32m {\n",
      "            \"Q\u001b[0m\u001b[32m\": \"如何做出\u001b[0m\u001b[32m边缘金黄的\u001b[0m\u001b[32m披萨？\",\n",
      "\u001b[0m\u001b[32m            \"A\":\u001b[0m\u001b[32m \"可以在边缘刷\u001b[0m\u001b[32m一层橄榄油帮助\u001b[0m\u001b[32m上色。\"\n",
      "\u001b[0m\u001b[32m        },\n",
      "        {\n",
      "\u001b[0m\u001b[32m            \"Q\":\u001b[0m\u001b[32m \"如何修理漏水\u001b[0m\u001b[32m的水龙头？\u001b[0m\u001b[32m\",\n",
      "            \"A\u001b[0m\u001b[32m\": \"关闭水源\u001b[0m\u001b[32m，拆开水龙头\u001b[0m\u001b[32m更换密封圈。\u001b[0m\u001b[32m\"\n",
      "        },\n",
      "       \u001b[0m\u001b[32m {\n",
      "            \"Q\u001b[0m\u001b[32m\": \"如何保存\u001b[0m\u001b[32m剩余的披萨\u001b[0m\u001b[32m？\",\n",
      "            \"\u001b[0m\u001b[32mA\": \"放\u001b[0m\u001b[32m冰箱冷藏，最好\u001b[0m\u001b[32m两天内吃完。\u001b[0m\u001b[32m\"\n",
      "        },\n",
      "       \u001b[0m\u001b[32m {\n",
      "            \"Q\u001b[0m\u001b[32m\": \"如何保存\u001b[0m\u001b[32m剩余的披萨\u001b[0m\u001b[32m？\",\n",
      "            \"\u001b[0m\u001b[32mA\": \"用\u001b[0m\u001b[32m保鲜膜包好\u001b[0m\u001b[32m放在冰箱冷冻室\u001b[0m\u001b[32m。\"\n",
      "        },\n",
      "\u001b[0m\u001b[32m        {\n",
      "            \"\u001b[0m\u001b[32mQ\": \"如何\u001b[0m\u001b[32m制作巧克力冰淇淋？\u001b[0m\u001b[32m\",\n",
      "            \"A\u001b[0m\u001b[32m\": \"需要奶油\u001b[0m\u001b[32m、糖和巧克力\u001b[0m\u001b[32m粉，搅拌均匀\u001b[0m\u001b[32m后放入冰箱冷冻\u001b[0m\u001b[32m。\"\n",
      "        },\n",
      "\u001b[0m\u001b[32m        {\n",
      "            \"\u001b[0m\u001b[32mQ\": \"如何\u001b[0m\u001b[32m避免披萨太\u001b[0m\u001b[32m油腻？\",\n",
      "           \u001b[0m\u001b[32m \"A\": \"\u001b[0m\u001b[32m减少油脂用量，\u001b[0m\u001b[32m选择低脂配料\u001b[0m\u001b[32m。\"\n",
      "        },\n",
      "\u001b[0m\u001b[32m        {\n",
      "            \"\u001b[0m\u001b[32mQ\": \"如何\u001b[0m\u001b[32m避免披萨太\u001b[0m\u001b[32m油腻？\",\n",
      "           \u001b[0m\u001b[32m \"A\": \"\u001b[0m\u001b[32m在撒奶酪\u001b[0m\u001b[32m前先铺一层\u001b[0m\u001b[32m蔬菜吸油。\u001b[0m\u001b[32m\"\n",
      "        }\n",
      "   \u001b[0m\u001b[32m ]\n",
      "}\n",
      "```\u001b[0m\u001b[32m\u001b[0m\n"
     ]
    },
    {
     "data": {
      "text/plain": [
       "'{\\n    \"question\": \"如何在家制作美味的披萨？\",\\n    \"more_questions\": [\"在家做披萨需要哪些材料？\", \"披萨饼皮怎么做才更酥脆？\", \"如何选择合适的披萨酱？\", \"应该在披萨上加什么配料？\", \"如何控制烤箱温度来烤披萨？\", \"有没有简单易学的披萨食谱？\", \"怎样可以让披萨更香？\", \"披萨烤多久才熟？\", \"如何做出边缘金黄的披萨？\", \"做披萨时面团如何发酵？\", \"如何防止披萨底部变湿？\", \"披萨上的奶酪应该什么时候加？\", \"如何判断披萨是否烤好？\", \"披萨出炉后应该如何切片？\", \"如何保存剩余的披萨？\", \"如何让披萨口感更好？\", \"披萨做好后如何保持热度？\", \"如何制作不同口味的披萨？\", \"如何避免披萨太油腻？\", \"如何在家制作健康版披萨？\"],\\n    \"qa\": [\\n        {\\n            \"Q\": \"如何在家制作美味的披萨？\",\\n            \"A\": \"首先准备好所需材料，如面粉、酵母、番茄酱等，然后按照食谱制作饼皮并添加喜欢的配料，最后放入预热好的烤箱中烘烤至金黄色即可。\"\\n        },\\n        {\\n            \"Q\": \"如何在家制作美味的披萨？\",\\n            \"A\": \"可以先上网查找一些简单的披萨食谱，根据步骤准备材料和烤制。\"\\n        },\\n        {\\n            \"Q\": \"如何在家做蛋糕？\",\\n            \"A\": \"蛋糕的做法与披萨完全不同，需要准备不同的原料和工具。\"\\n        },\\n        {\\n            \"Q\": \"如何选择合适的披萨酱？\",\\n            \"A\": \"根据个人口味选择，比如番茄酱、白酱或BBQ酱等。\"\\n        },\\n        {\\n            \"Q\": \"如何选择合适的披萨酱？\",\\n            \"A\": \"可以根据配料来搭配，比如海鲜配白酱，肉类配番茄酱。\"\\n        },\\n        {\\n            \"Q\": \"如何训练一只狗坐下？\",\\n            \"A\": \"用奖励的方法，每次它坐下就给点心。\"\\n        },\\n        {\\n            \"Q\": \"如何让披萨更香？\",\\n            \"A\": \"可以在披萨上撒一些罗勒叶或者牛至增加香气。\"\\n        },\\n        {\\n            \"Q\": \"如何让披萨更香？\",\\n            \"A\": \"加入适量的香料如迷迭香或百里香可以提升香味。\"\\n        },\\n        {\\n            \"Q\": \"如何种植西红柿？\",\\n            \"A\": \"挑选健康的种子，播种后定期浇水施肥。\"\\n        },\\n        {\\n            \"Q\": \"如何控制烤箱温度来烤披萨？\",\\n            \"A\": \"通常设置在220度左右，具体根据烤箱类型调整。\"\\n        },\\n        {\\n            \"Q\": \"如何控制烤箱温度来烤披萨？\",\\n            \"A\": \"要预热烤箱，并根据披萨大小调整时间。\"\\n        },\\n        {\\n            \"Q\": \"如何更换汽车轮胎？\",\\n            \"A\": \"先用千斤顶将车抬起，再卸下螺丝换上新胎。\"\\n        },\\n        {\\n            \"Q\": \"如何做出边缘金黄的披萨？\",\\n            \"A\": \"适当提高烤箱温度，使边缘更快变色。\"\\n        },\\n        {\\n            \"Q\": \"如何做出边缘金黄的披萨？\",\\n            \"A\": \"可以在边缘刷一层橄榄油帮助上色。\"\\n        },\\n        {\\n            \"Q\": \"如何修理漏水的水龙头？\",\\n            \"A\": \"关闭水源，拆开水龙头更换密封圈。\"\\n        },\\n        {\\n            \"Q\": \"如何保存剩余的披萨？\",\\n            \"A\": \"放冰箱冷藏，最好两天内吃完。\"\\n        },\\n        {\\n            \"Q\": \"如何保存剩余的披萨？\",\\n            \"A\": \"用保鲜膜包好放在冰箱冷冻室。\"\\n        },\\n        {\\n            \"Q\": \"如何制作巧克力冰淇淋？\",\\n            \"A\": \"需要奶油、糖和巧克力粉，搅拌均匀后放入冰箱冷冻。\"\\n        },\\n        {\\n            \"Q\": \"如何避免披萨太油腻？\",\\n            \"A\": \"减少油脂用量，选择低脂配料。\"\\n        },\\n        {\\n            \"Q\": \"如何避免披萨太油腻？\",\\n            \"A\": \"在撒奶酪前先铺一层蔬菜吸油。\"\\n        }\\n    ]\\n}'"
      ]
     },
     "execution_count": 1,
     "metadata": {},
     "output_type": "execute_result"
    }
   ],
   "source": [
    "from illufly.chat import ChatQwen\n",
    "from illufly.types import Template\n",
    "\n",
    "qwen = ChatQwen(\n",
    "    memory=[Template(\"RAG/QUESTION\"), \"请开始\"],\n",
    "    template_binding={\n",
    "        \"count\": lambda x: 20,\n",
    "        \"qa_count\": lambda x: 20\n",
    "    }\n",
    ")\n",
    "qwen(\"任意\")"
   ]
  },
  {
   "cell_type": "code",
   "execution_count": 4,
   "id": "07c501a3-603f-4f83-ab00-1de084ae2c9f",
   "metadata": {},
   "outputs": [
    {
     "data": {
      "text/plain": [
       "{'question': '如何在家制作美味的披萨？',\n",
       " 'more_questions': ['在家做披萨需要哪些材料？',\n",
       "  '披萨饼皮怎么做才更酥脆？',\n",
       "  '如何选择合适的披萨酱？',\n",
       "  '应该在披萨上加什么配料？',\n",
       "  '如何控制烤箱温度来烤披萨？',\n",
       "  '有没有简单易学的披萨食谱？',\n",
       "  '怎样可以让披萨更香？',\n",
       "  '披萨烤多久才熟？',\n",
       "  '如何做出边缘金黄的披萨？',\n",
       "  '做披萨时面团如何发酵？',\n",
       "  '如何防止披萨底部变湿？',\n",
       "  '披萨上的奶酪应该什么时候加？',\n",
       "  '如何判断披萨是否烤好？',\n",
       "  '披萨出炉后应该如何切片？',\n",
       "  '如何保存剩余的披萨？',\n",
       "  '如何让披萨口感更好？',\n",
       "  '披萨做好后如何保持热度？',\n",
       "  '如何制作不同口味的披萨？',\n",
       "  '如何避免披萨太油腻？',\n",
       "  '如何在家制作健康版披萨？'],\n",
       " 'qa': [{'Q': '如何在家制作美味的披萨？',\n",
       "   'A': '首先准备好所需材料，如面粉、酵母、番茄酱等，然后按照食谱制作饼皮并添加喜欢的配料，最后放入预热好的烤箱中烘烤至金黄色即可。'},\n",
       "  {'Q': '如何在家制作美味的披萨？', 'A': '可以先上网查找一些简单的披萨食谱，根据步骤准备材料和烤制。'},\n",
       "  {'Q': '如何在家做蛋糕？', 'A': '蛋糕的做法与披萨完全不同，需要准备不同的原料和工具。'},\n",
       "  {'Q': '如何选择合适的披萨酱？', 'A': '根据个人口味选择，比如番茄酱、白酱或BBQ酱等。'},\n",
       "  {'Q': '如何选择合适的披萨酱？', 'A': '可以根据配料来搭配，比如海鲜配白酱，肉类配番茄酱。'},\n",
       "  {'Q': '如何训练一只狗坐下？', 'A': '用奖励的方法，每次它坐下就给点心。'},\n",
       "  {'Q': '如何让披萨更香？', 'A': '可以在披萨上撒一些罗勒叶或者牛至增加香气。'},\n",
       "  {'Q': '如何让披萨更香？', 'A': '加入适量的香料如迷迭香或百里香可以提升香味。'},\n",
       "  {'Q': '如何种植西红柿？', 'A': '挑选健康的种子，播种后定期浇水施肥。'},\n",
       "  {'Q': '如何控制烤箱温度来烤披萨？', 'A': '通常设置在220度左右，具体根据烤箱类型调整。'},\n",
       "  {'Q': '如何控制烤箱温度来烤披萨？', 'A': '要预热烤箱，并根据披萨大小调整时间。'},\n",
       "  {'Q': '如何更换汽车轮胎？', 'A': '先用千斤顶将车抬起，再卸下螺丝换上新胎。'},\n",
       "  {'Q': '如何做出边缘金黄的披萨？', 'A': '适当提高烤箱温度，使边缘更快变色。'},\n",
       "  {'Q': '如何做出边缘金黄的披萨？', 'A': '可以在边缘刷一层橄榄油帮助上色。'},\n",
       "  {'Q': '如何修理漏水的水龙头？', 'A': '关闭水源，拆开水龙头更换密封圈。'},\n",
       "  {'Q': '如何保存剩余的披萨？', 'A': '放冰箱冷藏，最好两天内吃完。'},\n",
       "  {'Q': '如何保存剩余的披萨？', 'A': '用保鲜膜包好放在冰箱冷冻室。'},\n",
       "  {'Q': '如何制作巧克力冰淇淋？', 'A': '需要奶油、糖和巧克力粉，搅拌均匀后放入冰箱冷冻。'},\n",
       "  {'Q': '如何避免披萨太油腻？', 'A': '减少油脂用量，选择低脂配料。'},\n",
       "  {'Q': '如何避免披萨太油腻？', 'A': '在撒奶酪前先铺一层蔬菜吸油。'}]}"
      ]
     },
     "execution_count": 4,
     "metadata": {},
     "output_type": "execute_result"
    }
   ],
   "source": [
    "import json\n",
    "qa = json.loads(qwen.last_output)\n",
    "qa"
   ]
  },
  {
   "cell_type": "code",
   "execution_count": null,
   "id": "7abf5a53-673f-467e-9871-36f27e3b848d",
   "metadata": {},
   "outputs": [],
   "source": []
  }
 ],
 "metadata": {
  "kernelspec": {
   "display_name": "textlong-same-ipykernel",
   "language": "python",
   "name": "textlong-same-ipykernel"
  },
  "language_info": {
   "codemirror_mode": {
    "name": "ipython",
    "version": 3
   },
   "file_extension": ".py",
   "mimetype": "text/x-python",
   "name": "python",
   "nbconvert_exporter": "python",
   "pygments_lexer": "ipython3",
   "version": "3.10.0"
  }
 },
 "nbformat": 4,
 "nbformat_minor": 5
}
