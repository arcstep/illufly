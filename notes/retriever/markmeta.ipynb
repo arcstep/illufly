{
 "cells": [
  {
   "cell_type": "markdown",
   "id": "37c4f008-ca85-4507-b622-a12d9ce0d6f4",
   "metadata": {},
   "source": [
    "## 保存文件"
   ]
  },
  {
   "cell_type": "code",
   "execution_count": 2,
   "id": "41866452-e548-4e75-b236-574e78040956",
   "metadata": {},
   "outputs": [],
   "source": [
    "md1 = \"\"\"@meta tag='related'\n",
    "**Question:**\n",
    "如何在家里制作美味的比萨？\n",
    "\n",
    "**Answer:**\n",
    "首先准备面团，然后加入番茄酱，放上你喜欢的配料，最后撒上奶酪，放入预热至200度的烤箱中烤约15分钟即可。\n",
    "\n",
    "@meta tag='related'\n",
    "**Question:**\n",
    "有没有简单的方法在家做比萨？\n",
    "\n",
    "**Answer:**\n",
    "可以买现成的比萨饼底，加上自己喜欢的食材，放入烤箱烤制即可。\n",
    "\n",
    "@meta tag='related'\n",
    "**Question:**\n",
    "自己动手做比萨需要注意哪些步骤？\n",
    "\n",
    "**Answer:**\n",
    "注意面团发酵时间，酱料的选择，配料的新鲜程度以及烘烤温度和时间。\n",
    "\n",
    "@meta tag='related'\n",
    "**Question:**\n",
    "在家中怎样才能做出餐厅级别的比萨？\n",
    "\n",
    "**Answer:**\n",
    "选用高质量的原材料，掌握正确的烘焙技巧，尝试不同的配料组合。\n",
    "\n",
    "@meta tag='related'\n",
    "**Question:**\n",
    "想在家里给家人做一顿特别的晚餐，有什么推荐？\n",
    "\n",
    "**Answer:**\n",
    "自制比萨是个不错的选择，可以根据家人的口味定制各种风味。\n",
    "\n",
    "@meta tag='unrelated'\n",
    "**Question:**\n",
    "如何训练一只小狗成为导盲犬？\n",
    "\n",
    "**Answer:**\n",
    "从小狗三个月大时开始基础训练，之后进行专业技能训练，通过测试后与视障者配合训练。\n",
    "\n",
    "@meta tag='unrelated'\n",
    "**Question:**\n",
    "怎样才能提高自己的编程能力？\n",
    "\n",
    "**Answer:**\n",
    "多练习，参与开源项目，阅读优秀的代码，不断学习新的技术和框架。\n",
    "\n",
    "@meta tag='unrelated'\n",
    "**Question:**\n",
    "为什么我的盆栽植物总是长不好？\n",
    "\n",
    "**Answer:**\n",
    "可能是浇水过多或过少，光照不足，或者土壤不适合植物生长，需要调整养护方法。\n",
    "\n",
    "@meta tag='unrelated'\n",
    "**Question:**\n",
    "如何挑选一双适合跑步的运动鞋？\n",
    "\n",
    "**Answer:**\n",
    "要选择适合自己脚型的鞋子，注意鞋子的缓震性和透气性，最好在下午试穿以确保大小合适。\n",
    "\n",
    "@meta tag='unrelated'\n",
    "**Question:**\n",
    "怎样才能有效地减肥？\n",
    "\n",
    "**Answer:**\n",
    "制定合理的饮食计划，增加日常活动量，保证充足的睡眠，必要时可以寻求专业人士的帮助。\n",
    "\"\"\""
   ]
  },
  {
   "cell_type": "code",
   "execution_count": 3,
   "id": "7ba09417-d21c-4a70-b045-fbdd67e1fa3a",
   "metadata": {},
   "outputs": [
    {
     "data": {
      "text/plain": [
       "[Document(text='', meta='{\"source\": \"7894-433-000.md\", \"id\": \"7894-433-000\"}'),\n",
       " Document(text='**Question:**...', meta='{\"source\": \"7894-433-000.md\", \"tag\": \"'related'\", \"id\": \"7894-027-001\"}'),\n",
       " Document(text='**Question:**...', meta='{\"source\": \"7894-433-000.md\", \"tag\": \"'related'\", \"id\": \"7894-802-002\"}'),\n",
       " Document(text='**Question:**...', meta='{\"source\": \"7894-433-000.md\", \"tag\": \"'related'\", \"id\": \"7894-934-003\"}'),\n",
       " Document(text='**Question:**...', meta='{\"source\": \"7894-433-000.md\", \"tag\": \"'related'\", \"id\": \"7894-849-004\"}'),\n",
       " Document(text='**Question:**...', meta='{\"source\": \"7894-433-000.md\", \"tag\": \"'related'\", \"id\": \"7894-626-005\"}'),\n",
       " Document(text='**Question:**...', meta='{\"source\": \"7894-433-000.md\", \"tag\": \"'unrelated'\", \"id\": \"7894-663-006\"}'),\n",
       " Document(text='**Question:**...', meta='{\"source\": \"7894-433-000.md\", \"tag\": \"'unrelated'\", \"id\": \"7894-372-007\"}'),\n",
       " Document(text='**Question:**...', meta='{\"source\": \"7894-433-000.md\", \"tag\": \"'unrelated'\", \"id\": \"7894-407-008\"}'),\n",
       " Document(text='**Question:**...', meta='{\"source\": \"7894-433-000.md\", \"tag\": \"'unrelated'\", \"id\": \"7894-382-009\"}'),\n",
       " Document(text='**Question:**...', meta='{\"source\": \"7894-433-000.md\", \"tag\": \"'unrelated'\", \"id\": \"7894-127-010\"}')]"
      ]
     },
     "execution_count": 3,
     "metadata": {},
     "output_type": "execute_result"
    }
   ],
   "source": [
    "from illufly.retriever import MarkMeta\n",
    "\n",
    "mm = MarkMeta()\n",
    "mm.load_text(md1)\n",
    "mm.documents"
   ]
  },
  {
   "cell_type": "code",
   "execution_count": null,
   "id": "3a9f1b45-3e71-41bb-ba73-e09f425f2365",
   "metadata": {},
   "outputs": [],
   "source": []
  }
 ],
 "metadata": {
  "kernelspec": {
   "display_name": "textlong-same-ipykernel",
   "language": "python",
   "name": "textlong-same-ipykernel"
  },
  "language_info": {
   "codemirror_mode": {
    "name": "ipython",
    "version": 3
   },
   "file_extension": ".py",
   "mimetype": "text/x-python",
   "name": "python",
   "nbconvert_exporter": "python",
   "pygments_lexer": "ipython3",
   "version": "3.10.0"
  }
 },
 "nbformat": 4,
 "nbformat_minor": 5
}
