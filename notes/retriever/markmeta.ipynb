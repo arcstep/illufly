{
 "cells": [
  {
   "cell_type": "markdown",
   "id": "37c4f008-ca85-4507-b622-a12d9ce0d6f4",
   "metadata": {},
   "source": [
    "## 保存文件"
   ]
  },
  {
   "cell_type": "code",
   "execution_count": 1,
   "id": "41866452-e548-4e75-b236-574e78040956",
   "metadata": {},
   "outputs": [],
   "source": [
    "md1 = \"\"\"\n",
    "<!-- @meta {\"tag\": \"related\"} -->\n",
    "**Question:**\n",
    "如何在家里制作美味的比萨？\n",
    "\n",
    "**Answer:**\n",
    "首先准备面团，然后加入番茄酱，放上你喜欢的配料，最后撒上奶酪，放入预热至200度的烤箱中烤约15分钟即可。\n",
    "\n",
    "<!-- @meta {\"tag\": \"related\"} -->\n",
    "**Question:**\n",
    "有没有简单的方法在家做比萨？\n",
    "\n",
    "**Answer:**\n",
    "可以买现成的比萨饼底，加上自己喜欢的食材，放入烤箱烤制即可。\n",
    "\n",
    "<!-- @meta {\"tag\": \"related\"} -->\n",
    "**Question:**\n",
    "自己动手做比萨需要注意哪些步骤？\n",
    "\n",
    "**Answer:**\n",
    "注意面团发酵时间，酱料的选择，配料的新鲜程度以及烘烤温度和时间。\n",
    "\n",
    "<!-- @meta {\"tag\": \"related\"} -->\n",
    "**Question:**\n",
    "在家中怎样才能做出餐厅级别的比萨？\n",
    "\n",
    "**Answer:**\n",
    "选用高质量的原材料，掌握正确的烘焙技巧，尝试不同的配料组合。\n",
    "\n",
    "<!-- @meta {\"tag\":\"related\"} -->\n",
    "**Question:**\n",
    "想在家里给家人做一顿特别的晚餐，有什么推荐？\n",
    "\n",
    "**Answer:**\n",
    "自制比萨是个不错的选择，可以根据家人的口味定制各种风味。\n",
    "\n",
    "<!-- @meta {\"tag\": \"unrelated\"} -->\n",
    "**Question:**\n",
    "如何训练一只小狗成为导盲犬？\n",
    "\n",
    "**Answer:**\n",
    "从小狗三个月大时开始基础训练，之后进行专业技能训练，通过测试后与视障者配合训练。\n",
    "\n",
    "<!-- @meta {\"tag\": \"unrelated\"} -->\n",
    "**Question:**\n",
    "怎样才能提高自己的编程能力？\n",
    "\n",
    "**Answer:**\n",
    "多练习，参与开源项目，阅读优秀的代码，不断学习新的技术和框架。\n",
    "\n",
    "<!-- @meta {\"tag\": \"unrelated\"} -->\n",
    "**Question:**\n",
    "为什么我的盆栽植物总是长不好？\n",
    "\n",
    "**Answer:**\n",
    "可能是浇水过多或过少，光照不足，或者土壤不适合植物生长，需要调整养护方法。\n",
    "\n",
    "<!-- @meta {\"tag\": \"unrelated\"} -->\n",
    "**Question:**\n",
    "如何挑选一双适合跑步的运动鞋？\n",
    "\n",
    "**Answer:**\n",
    "要选择适合自己脚型的鞋子，注意鞋子的缓震性和透气性，最好在下午试穿以确保大小合适。\n",
    "\n",
    "<!-- @meta {\"tag\": \"unrelated\"} -->\n",
    "**Question:**\n",
    "怎样才能有效地减肥？\n",
    "\n",
    "**Answer:**\n",
    "制定合理的饮食计划，增加日常活动量，保证充足的睡眠，必要时可以寻求专业人士的帮助。\n",
    "\n",
    "@meta\n",
    "\"\"\""
   ]
  },
  {
   "cell_type": "markdown",
   "id": "03a2f482-fbc5-486f-91a7-5e1b53460ebf",
   "metadata": {},
   "source": [
    "### 加载文本"
   ]
  },
  {
   "cell_type": "code",
   "execution_count": 2,
   "id": "7ba09417-d21c-4a70-b045-fbdd67e1fa3a",
   "metadata": {},
   "outputs": [
    {
     "data": {
      "text/plain": [
       "[Document(text=\"**Question:**...\", meta={\"tag\": \"related\", \"id\": \"0318-151-000\", \"source\": \"001.md\"}),\n",
       " Document(text=\"**Question:**...\", meta={\"tag\": \"related\", \"id\": \"0318-882-001\", \"source\": \"001.md\"}),\n",
       " Document(text=\"**Question:**...\", meta={\"tag\": \"related\", \"id\": \"0318-496-002\", \"source\": \"001.md\"}),\n",
       " Document(text=\"**Question:**...\", meta={\"tag\": \"related\", \"id\": \"0318-075-003\", \"source\": \"001.md\"}),\n",
       " Document(text=\"**Question:**...\", meta={\"tag\": \"related\", \"id\": \"0318-870-004\", \"source\": \"001.md\"}),\n",
       " Document(text=\"**Question:**...\", meta={\"tag\": \"unrelated\", \"id\": \"0318-077-005\", \"source\": \"001.md\"}),\n",
       " Document(text=\"**Question:**...\", meta={\"tag\": \"unrelated\", \"id\": \"0318-360-006\", \"source\": \"001.md\"}),\n",
       " Document(text=\"**Question:**...\", meta={\"tag\": \"unrelated\", \"id\": \"0318-358-007\", \"source\": \"001.md\"}),\n",
       " Document(text=\"**Question:**...\", meta={\"tag\": \"unrelated\", \"id\": \"0318-499-008\", \"source\": \"001.md\"}),\n",
       " Document(text=\"**Question:**...\", meta={\"tag\": \"unrelated\", \"id\": \"0318-149-009\", \"source\": \"001.md\"})]"
      ]
     },
     "execution_count": 2,
     "metadata": {},
     "output_type": "execute_result"
    }
   ],
   "source": [
    "from illufly.retriever import MarkMeta\n",
    "\n",
    "mm = MarkMeta()\n",
    "mm.load_text(md1, source=\"001.md\")\n",
    "mm.documents"
   ]
  },
  {
   "cell_type": "markdown",
   "id": "fb70b33e-eecf-43dc-949d-388d5c597971",
   "metadata": {},
   "source": [
    "### 保存到文件"
   ]
  },
  {
   "cell_type": "code",
   "execution_count": 3,
   "id": "3a9f1b45-3e71-41bb-ba73-e09f425f2365",
   "metadata": {},
   "outputs": [
    {
     "name": "stdout",
     "output_type": "stream",
     "text": [
      "saved file 001.md with 10 chunks\n"
     ]
    }
   ],
   "source": [
    "resp = mm.save()\n",
    "for k, v in resp.items():\n",
    "    print(f\"saved file {k} with {len(v)} chunks\")"
   ]
  },
  {
   "cell_type": "markdown",
   "id": "f2b2fcf2-5f44-455c-bf6e-db1e67aad390",
   "metadata": {},
   "source": [
    "## 加载文件"
   ]
  },
  {
   "cell_type": "code",
   "execution_count": 1,
   "id": "79216f80-9d84-470c-93be-8a5b98703ea2",
   "metadata": {},
   "outputs": [
    {
     "name": "stdout",
     "output_type": "stream",
     "text": [
      "[INFO] \u001b[34m已成功加载文件 __DOCS__/001.md ，其中包含 10 个片段。\u001b[0m\n",
      "[INFO] \u001b[34m已成功加载文件 __DOCS__/设计理念.md ，其中包含 12 个片段。\u001b[0m\n",
      "[INFO] \u001b[34m已成功加载文件 __DOCS__/推理模式.md ，其中包含 15 个片段。\u001b[0m\n"
     ]
    },
    {
     "data": {
      "text/plain": [
       "[Document(text=\"**Question:**...\", meta={\"tag\": \"related\", \"id\": \"0318-151-000\", \"source\": \"001.md\"}),\n",
       " Document(text=\"**Question:**...\", meta={\"tag\": \"related\", \"id\": \"0318-882-001\", \"source\": \"001.md\"}),\n",
       " Document(text=\"**Question:**...\", meta={\"tag\": \"related\", \"id\": \"0318-496-002\", \"source\": \"001.md\"}),\n",
       " Document(text=\"**Question:**...\", meta={\"tag\": \"related\", \"id\": \"0318-075-003\", \"source\": \"001.md\"}),\n",
       " Document(text=\"**Question:**...\", meta={\"tag\": \"related\", \"id\": \"0318-870-004\", \"source\": \"001.md\"}),\n",
       " Document(text=\"**Question:**...\", meta={\"tag\": \"unrelated\", \"id\": \"0318-077-005\", \"source\": \"001.md\"}),\n",
       " Document(text=\"**Question:**...\", meta={\"tag\": \"unrelated\", \"id\": \"0318-360-006\", \"source\": \"001.md\"}),\n",
       " Document(text=\"**Question:**...\", meta={\"tag\": \"unrelated\", \"id\": \"0318-358-007\", \"source\": \"001.md\"}),\n",
       " Document(text=\"**Question:**...\", meta={\"tag\": \"unrelated\", \"id\": \"0318-499-008\", \"source\": \"001.md\"}),\n",
       " Document(text=\"**Question:**...\", meta={\"tag\": \"unrelated\", \"id\": \"0318-149-009\", \"source\": \"001.md\"}),\n",
       " Document(text=\"# illufly 设计理念介绍...\", meta={\"source\": \"__DOCS__/设计理念.md#0\", \"id\": \"0691-362-001\"}),\n",
       " Document(text=\"类似的事情会在很多地方发生。...\", meta={\"source\": \"__DOCS__/设计理念.md#0\", \"id\": \"0691-805-002\"}),\n",
       " Document(text=\"# 常见的智能体推理模式和 illufly 的实现...\", meta={\"source\": \"__DOCS__/推理模式.md#0\", \"id\": \"0691-973-004\"}),\n",
       " Document(text=\"- 重规划器Replanner：根据执行情况和反馈调整计划。...\", meta={\"source\": \"__DOCS__/推理模式.md#0\", \"id\": \"0691-056-005\"}),\n",
       " Document(text=\"- **自我迭代的改进**：自动收集智能体的反思能力和规划能力的评测依据和微调依据，确保智能体可以不断优化和提升。...\", meta={\"source\": \"__DOCS__/推理模式.md#0\", \"id\": \"0691-251-006\"})]"
      ]
     },
     "execution_count": 1,
     "metadata": {},
     "output_type": "execute_result"
    }
   ],
   "source": [
    "from illufly.retriever import MarkMeta\n",
    "\n",
    "mm2 = MarkMeta()\n",
    "mm2(verbose=True)"
   ]
  },
  {
   "cell_type": "code",
   "execution_count": 3,
   "id": "9c9001b2-3fa1-4ca0-b863-1f0f0688f802",
   "metadata": {},
   "outputs": [
    {
     "name": "stdout",
     "output_type": "stream",
     "text": [
      "# illufly 设计理念介绍\n",
      "\n",
      "- [开箱即用的原则](#开箱即用的原则)\n",
      "- [减少新概念的原则](#减少新概念的原则)\n",
      "- [原厂优先的原则](#原厂优先的原则)\n",
      "- [围绕智能体对象的原则](#围绕智能体对象的原则)\n",
      "\n",
      "## 开箱即用的原则\n",
      "\n",
      "体验的影响，应用社区构建和AI应用和使用AI\n",
      "与 python 自身的风格类似，`illufly` 中也有很多约定替代配置\n",
      "\n",
      "## 减少新概念的原则\n",
      "\n",
      "AI 应用场景的一个优势在于，它可以用自然语言交互替代复杂的指令规则，从而大大减少了新概念的学习负担。如果一个开发框架中出现了太多需要记忆的内容，用户的耐心会逐渐消磨殆尽。\n",
      "\n",
      "illufly 的目标是：在提供新功能的同时，尽量减少新概念的学习，并避免强制记忆。\n",
      "\n",
      "例如，AI中的常见消息格式通常是这样的字典格式:\n",
      "\n",
      "```python\n",
      "\n",
      "\n",
      "[\n",
      "    {\n",
      "        'role': 'system',\n",
      "        'content': '你是一个AI助手'\n",
      "    },\n",
      "    {\n",
      "        'role': 'user',\n",
      "        'content': '你好'\n",
      "    },\n",
      "    {\n",
      "        'role': 'assistant',\n",
      "        'role': '有什么可以帮你？',\n",
      "    }\n",
      "}\n",
      "```\n",
      "\n",
      "一般的开发框架们为了开发者使用，会提供自己的类定义，例如用下面的代码来替代：\n",
      "\n",
      "```python\n",
      "[\n",
      "    SystemMessage('你是一个AI助手'),\n",
      "    UserMessage('你好'),\n",
      "    AIMessage('有什么可以帮你')\n",
      "]\n",
      "```\n",
      "\n",
      "然后要求开发者尽量使用已经创建的 XXMessage 类来封装所有关于消息格式的功能。\n",
      "到目前为止，这看起来很不错，也完全符合一般的设计原则。\n",
      "开发者一般不会计较这么简洁清晰的消息类定义，而且只有几个从名称看就不言而喻的类，也容易记住。\n",
      "\n",
      "但问题会逐渐显现。\n",
      "\n",
      "首先是类定义的体系，仅仅上面几个类是不够的。例如：\n",
      "\n",
      "- 你一定需要基类，比如：`BaseMessage`\n",
      "- 也许你需要区分出工具消息，比如： `ToolMessage`？但这样也许不太够，因为要区分大模型返回的和工具执行的，也许是这样：`ToolCallMessage` 和 `ToolRespMessage`\n",
      "- 如果你要区分携带部分信息的消息，可能还要增加 `UserMessageChunk`、`AIMessageChunk`，以及`ToolCallMessageChunk` 和 `ToolRespMessageChunk`\n",
      "- 多模态的能力中图片的消息该如何定义？是否要增加 `ImageMessage`、`AudioMessage`、`VideoMessage`的定义？以及对应的 `ImageMessageChunk`、`AudioMessageChunk`、`VideoMessageChunk`？\n",
      "\n",
      "有了这些类，你要先记住才能开始做其他的，例如：\n",
      "```python\n",
      "from xxxxxx.xxxxxx.messages import UserMessage, AIMessage, ImageMessage, VideoMessage ...\n",
      "```\n",
      "\n",
      "现在，要求你准确记住这些类的名字以及该从哪里引用，就开始慢慢形成挑战了。\n",
      "\n",
      "...\n",
      "\n",
      "类似的事情会在很多地方发生。\n",
      "\n",
      "你的初衷是，通过这些新类的定义来简化工作，但是现在不得不记住很多新东西。\n",
      "\n",
      "### illufly 中的解决方案\n",
      "\n",
      "```python\n",
      "[\n",
      "    {\n",
      "        'role': 'system',\n",
      "        'content': '你是一个AI助手'\n",
      "    },\n",
      "    {\n",
      "        'role': 'user',\n"
     ]
    }
   ],
   "source": [
    "print(mm2.documents[10])"
   ]
  },
  {
   "cell_type": "code",
   "execution_count": null,
   "id": "e2790845-86ca-4dad-8737-e201b84b7a22",
   "metadata": {},
   "outputs": [],
   "source": []
  }
 ],
 "metadata": {
  "kernelspec": {
   "display_name": "textlong-same-ipykernel",
   "language": "python",
   "name": "textlong-same-ipykernel"
  },
  "language_info": {
   "codemirror_mode": {
    "name": "ipython",
    "version": 3
   },
   "file_extension": ".py",
   "mimetype": "text/x-python",
   "name": "python",
   "nbconvert_exporter": "python",
   "pygments_lexer": "ipython3",
   "version": "3.10.0"
  }
 },
 "nbformat": 4,
 "nbformat_minor": 5
}
