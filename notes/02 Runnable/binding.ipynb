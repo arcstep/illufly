{
 "cells": [
  {
   "cell_type": "markdown",
   "id": "c7c10178-0131-4039-b13c-4ec6bcc1151b",
   "metadata": {},
   "source": [
    "## 绑定机制\n",
    "\n",
    "使用 bind_providers 机制实现动运行时的变量传递。\n",
    "\n",
    "每个 Runnable 实例都有一个 provider_dict 和 一个 consumer_dict，用于导出和导入绑定的变量。\n",
    "\n",
    "如果 a 和 b 都是 Runnable 实例，并且执行了绑定操作 `a.bind_providers(b)`，就意味着将 a.consumer_dict 与 b.provider_dict 建立动态绑定关系。\n",
    "\n",
    "这会导致：\n",
    "\n",
    "1. 在 a 内部使用 a.consumer_dict 计算时会动态提取 b.provider_dict 的变量值\n",
    "2. 默认情况下，会自动将 b.provider_dict 也同时作为 a.exported 的一部份传递，除非被同名导出变量覆盖\n",
    "\n",
    "默认情况下，Runnable 实例不导入任何变量，但会导出 last_input 和 last_output 。\n",
    "\n",
    "如果你需要增加导出变量，可以直接在 _provider_dict 字典中增加。"
   ]
  },
  {
   "cell_type": "markdown",
   "id": "584d0f44-9701-414d-b79c-310c7e234af2",
   "metadata": {},
   "source": [
    "### 绑定实例"
   ]
  },
  {
   "cell_type": "code",
   "execution_count": 1,
   "id": "ad577e05-1a46-4e42-9864-8e55ee39f614",
   "metadata": {},
   "outputs": [
    {
     "name": "stdout",
     "output_type": "stream",
     "text": [
      "a.consumer_dict {}\n",
      "a.provider_dict {'last_input': 'hi', 'last_output': '你说了 hi'}\n"
     ]
    }
   ],
   "source": [
    "from illufly.types import Runnable\n",
    "\n",
    "class A(Runnable):\n",
    "    def call(self, prompt: str):\n",
    "        self._last_input = prompt\n",
    "        self._last_output = f'你说了 {prompt}'\n",
    "\n",
    "a = A()\n",
    "a.call(\"hi\")\n",
    "print(\"a.consumer_dict\", a.consumer_dict)\n",
    "print(\"a.provider_dict\", a.provider_dict)"
   ]
  },
  {
   "cell_type": "markdown",
   "id": "c193c362-d0e6-40df-9b8d-c2e13133ef92",
   "metadata": {},
   "source": [
    "**默认传递 consumer_dict 为 provider_dict**"
   ]
  },
  {
   "cell_type": "code",
   "execution_count": 2,
   "id": "4fe30673-b7b2-496d-afc8-0a1167a3e397",
   "metadata": {},
   "outputs": [
    {
     "name": "stdout",
     "output_type": "stream",
     "text": [
      "b's binding: [(<Runnable A_4398316512>, {})]\n",
      "b.consumer_dict {'last_input': 'hi', 'last_output': '你说了 hi'}\n",
      "b.provider_dict {'last_input': 'hi', 'last_output': '你说了 hi'}\n"
     ]
    }
   ],
   "source": [
    "b = A()\n",
    "b.bind_providers(a)\n",
    "print(\"b's binding:\", b.providers)\n",
    "print(\"b.consumer_dict\", b.consumer_dict)\n",
    "print(\"b.provider_dict\", b.provider_dict)"
   ]
  },
  {
   "cell_type": "code",
   "execution_count": 5,
   "id": "4416e88e-3fcb-46e4-a71c-bac852b208fd",
   "metadata": {},
   "outputs": [
    {
     "data": {
      "text/plain": [
       "[(<Runnable A_4398936464>, {})]"
      ]
     },
     "execution_count": 5,
     "metadata": {},
     "output_type": "execute_result"
    }
   ],
   "source": [
    "a.consumers"
   ]
  },
  {
   "cell_type": "markdown",
   "id": "b5594c76-c5d3-46f0-b4a1-7e999841c9ee",
   "metadata": {},
   "source": [
    "**新增一个 provider_dict 值**"
   ]
  },
  {
   "cell_type": "code",
   "execution_count": 6,
   "id": "3800da90-a77a-479a-9e7f-a116dd7b8b73",
   "metadata": {},
   "outputs": [
    {
     "name": "stdout",
     "output_type": "stream",
     "text": [
      "b.consumer_dict {'last_input': 'hi', 'last_output': '你说了 hi'}\n",
      "b.provider_dict {'last_input': 'hi', 'last_output': '你说了 hi', 'image': 'girl.png'}\n"
     ]
    }
   ],
   "source": [
    "b._provider_dict['image'] = \"girl.png\"\n",
    "print(\"b.consumer_dict\", b.consumer_dict)\n",
    "print(\"b.provider_dict\", b.provider_dict)"
   ]
  },
  {
   "cell_type": "markdown",
   "id": "bc67daaa-4f8a-4b8b-8e7c-fae20924c55c",
   "metadata": {},
   "source": [
    "**如果 consumer 修改了自己的 provider_dict 则用新值替代 provider 的输出值**"
   ]
  },
  {
   "cell_type": "code",
   "execution_count": 7,
   "id": "d0a829e8-e71b-4a48-bd6c-1aced287bde1",
   "metadata": {},
   "outputs": [
    {
     "name": "stdout",
     "output_type": "stream",
     "text": [
      "b.consumer_dict {'last_input': 'hi', 'last_output': '你说了 hi'}\n",
      "b.provider_dict {'last_input': 'hi', 'last_output': '我什么也没说', 'image': 'girl.png'}\n"
     ]
    }
   ],
   "source": [
    "b._last_output = \"我什么也没说\"\n",
    "print(\"b.consumer_dict\", b.consumer_dict)\n",
    "print(\"b.provider_dict\", b.provider_dict)"
   ]
  },
  {
   "cell_type": "markdown",
   "id": "c3a714c0-9f82-48df-a400-5c36609b17af",
   "metadata": {},
   "source": [
    "**但如果设置为 None 则会重新采用 provider 的输出值**"
   ]
  },
  {
   "cell_type": "code",
   "execution_count": 8,
   "id": "d3558575-b343-4573-996e-1f3b067c15b1",
   "metadata": {},
   "outputs": [
    {
     "name": "stdout",
     "output_type": "stream",
     "text": [
      "b.consumer_dict {'last_input': 'hi', 'last_output': '你说了 hi'}\n",
      "b.provider_dict {'last_input': 'hi', 'last_output': '你说了 hi', 'image': 'girl.png'}\n"
     ]
    }
   ],
   "source": [
    "b._last_output = None\n",
    "print(\"b.consumer_dict\", b.consumer_dict)\n",
    "print(\"b.provider_dict\", b.provider_dict)"
   ]
  },
  {
   "cell_type": "markdown",
   "id": "e87ca3f8-a188-467a-9f3e-99fa95968171",
   "metadata": {},
   "source": [
    "**实际上，上游 provider 中设置为 None 的值不会被传递**"
   ]
  },
  {
   "cell_type": "code",
   "execution_count": 22,
   "id": "96bf24e3-a3ae-46bf-94c1-c1e5bcc84502",
   "metadata": {},
   "outputs": [
    {
     "name": "stdout",
     "output_type": "stream",
     "text": [
      "a.consumer_dict {}\n",
      "a.provider_dict {'last_input': 'hi'}\n"
     ]
    }
   ],
   "source": [
    "from illufly.types import Runnable\n",
    "\n",
    "class A(Runnable):\n",
    "    def call(self, prompt: str):\n",
    "        self._last_input = prompt\n",
    "        self._last_output = None\n",
    "\n",
    "a = A(name=\"A\")\n",
    "a.call(\"hi\")\n",
    "print(\"a.consumer_dict\", a.consumer_dict)\n",
    "print(\"a.provider_dict\", a.provider_dict)"
   ]
  },
  {
   "cell_type": "markdown",
   "id": "1197e33a-e4d1-47d1-91ce-3259532b4ca9",
   "metadata": {},
   "source": [
    "## 使用映射规则\n",
    "\n",
    "**提供了映射规则之后，将按照新的键名传递变量**"
   ]
  },
  {
   "cell_type": "code",
   "execution_count": 23,
   "id": "ab423a8c-a6df-44ce-871a-3ef5304fd592",
   "metadata": {},
   "outputs": [
    {
     "name": "stdout",
     "output_type": "stream",
     "text": [
      "a.provider_dict {'last_input': 'hi'}\n",
      "c.consumer_dict {'task': 'hi'}\n",
      "c.provider_dict {'task': 'hi'}\n"
     ]
    }
   ],
   "source": [
    "c = A(name=\"C\")\n",
    "c.bind_providers((a, {\"task\": \"last_input\"}))\n",
    "print(\"a.provider_dict\", a.provider_dict)\n",
    "print(\"c.consumer_dict\", c.consumer_dict)\n",
    "print(\"c.provider_dict\", c.provider_dict)"
   ]
  },
  {
   "cell_type": "code",
   "execution_count": 24,
   "id": "120e81e0-edc0-4cbd-b3fd-252f720c8fd7",
   "metadata": {},
   "outputs": [
    {
     "data": {
      "text/plain": [
       "{'provider': <Runnable A>,\n",
       " 'consumer_tree': [(<Runnable C>,\n",
       "   {'task': 'last_input'},\n",
       "   {'provider': <Runnable C>, 'consumer_tree': []})]}"
      ]
     },
     "execution_count": 24,
     "metadata": {},
     "output_type": "execute_result"
    }
   ],
   "source": [
    "a.consumer_tree"
   ]
  },
  {
   "cell_type": "code",
   "execution_count": 25,
   "id": "6e515515-cbcd-4825-b9c8-54f381b383dc",
   "metadata": {},
   "outputs": [
    {
     "data": {
      "text/plain": [
       "{'consumer': <Runnable A>, 'provider_tree': []}"
      ]
     },
     "execution_count": 25,
     "metadata": {},
     "output_type": "execute_result"
    }
   ],
   "source": [
    "a.provider_tree"
   ]
  },
  {
   "cell_type": "code",
   "execution_count": 26,
   "id": "d6cf2141-925d-46c0-beee-69a4c652fc03",
   "metadata": {},
   "outputs": [
    {
     "data": {
      "text/plain": [
       "{'consumer': <Runnable C>,\n",
       " 'provider_tree': [(<Runnable A>,\n",
       "   {'task': 'last_input'},\n",
       "   {'consumer': <Runnable A>, 'provider_tree': []})]}"
      ]
     },
     "execution_count": 26,
     "metadata": {},
     "output_type": "execute_result"
    }
   ],
   "source": [
    "c.provider_tree"
   ]
  },
  {
   "cell_type": "markdown",
   "id": "e0d8c938-b0d8-4c70-bb89-04c71f57d97a",
   "metadata": {},
   "source": [
    "**也可以使用函数来扩展映射时的逻辑**\n",
    "\n",
    "使用函数扩展时，不会覆盖函数中包含的键值，这实际上提供了 **1:N** 映射的可能性。"
   ]
  },
  {
   "cell_type": "code",
   "execution_count": 27,
   "id": "39734222-d975-4ae0-80f9-50f3488981e8",
   "metadata": {},
   "outputs": [
    {
     "name": "stdout",
     "output_type": "stream",
     "text": [
      "a.provider_dict {'last_input': 'hi'}\n",
      "c.consumer_dict {'last_input': 'hi', 'task': '@我来自A hi'}\n",
      "c.provider_dict {'last_input': 'hi', 'task': '@我来自A hi'}\n"
     ]
    }
   ],
   "source": [
    "c = A()\n",
    "c.bind_providers((a, {\"task\": lambda x: \"@我来自A \" + x[\"last_input\"]}))\n",
    "print(\"a.provider_dict\", a.provider_dict)\n",
    "print(\"c.consumer_dict\", c.consumer_dict)\n",
    "print(\"c.provider_dict\", c.provider_dict)"
   ]
  },
  {
   "cell_type": "code",
   "execution_count": 28,
   "id": "12490137-a096-4fea-985f-780b17226ac0",
   "metadata": {},
   "outputs": [
    {
     "data": {
      "text/plain": [
       "[(<Runnable A>, {'task': <function __main__.<lambda>(x)>})]"
      ]
     },
     "execution_count": 28,
     "metadata": {},
     "output_type": "execute_result"
    }
   ],
   "source": [
    "c.providers"
   ]
  },
  {
   "cell_type": "markdown",
   "id": "0ab2df82-fcfc-4cf4-a516-91f5fec4e19d",
   "metadata": {},
   "source": [
    "**如果绑定的是一个字典，会直接绑定字典的值**"
   ]
  },
  {
   "cell_type": "code",
   "execution_count": 29,
   "id": "a9d87fbb-fb74-4929-911c-698153f7ca74",
   "metadata": {},
   "outputs": [
    {
     "name": "stdout",
     "output_type": "stream",
     "text": [
      "c.consumer_dict {'task': '帮我写一首儿歌'}\n",
      "c.provider_dict {'task': '帮我写一首儿歌'}\n"
     ]
    }
   ],
   "source": [
    "c = A()\n",
    "c.bind_providers({\"task\": \"帮我写一首儿歌\"})\n",
    "print(\"c.consumer_dict\", c.consumer_dict)\n",
    "print(\"c.provider_dict\", c.provider_dict)"
   ]
  },
  {
   "cell_type": "markdown",
   "id": "206a362b-5522-437f-aab5-a53b382e8531",
   "metadata": {},
   "source": [
    "**如果绑定多个 Runnable 绑定相同变量，则以最后一个为准**"
   ]
  },
  {
   "cell_type": "code",
   "execution_count": 30,
   "id": "484b8e0c-337d-44a8-b41e-58127e969d7c",
   "metadata": {},
   "outputs": [
    {
     "name": "stdout",
     "output_type": "stream",
     "text": [
      "c.consumer_dict {'task': '帮我写一首儿歌', 'last_input': 'hi', 'last_output': '你说了 hi', 'image': 'girl.png'}\n",
      "c.provider_dict {'task': '帮我写一首儿歌', 'last_input': 'hi', 'last_output': '你说了 hi', 'image': 'girl.png'}\n"
     ]
    }
   ],
   "source": [
    "c = A()\n",
    "c.bind_providers({\"task\": \"帮我写一首儿歌\"}, b)\n",
    "print(\"c.consumer_dict\", c.consumer_dict)\n",
    "print(\"c.provider_dict\", c.provider_dict)"
   ]
  },
  {
   "cell_type": "markdown",
   "id": "d9788e07-5798-446d-91c5-2dfd7efcbc3c",
   "metadata": {},
   "source": [
    "## 在容器实例内绑定"
   ]
  },
  {
   "cell_type": "code",
   "execution_count": 1,
   "id": "ba31fbf6-a90a-48b8-b5c7-01bfa65c5eaa",
   "metadata": {},
   "outputs": [
    {
     "name": "stdout",
     "output_type": "stream",
     "text": [
      "我听到B说： 今晚吃啥？ 来自A的观察\n"
     ]
    }
   ],
   "source": [
    "from illufly.types import Runnable\n",
    "\n",
    "# A 有自己的计算函数，但绑定 B 之后可以将 B 的 provider_dict 作为入参实现动态 A 的动态计算\n",
    "class A(Runnable):\n",
    "    def call(self, prompt: str):\n",
    "        self._last_input = prompt\n",
    "        self._last_output = f'我听到B说： {self.consumer_dict[\"last_input\"]} 来自A的{prompt}'\n",
    "\n",
    "class B(Runnable):\n",
    "    def __init__(self, obj: Runnable):\n",
    "        super().__init__()\n",
    "        # 将 A 绑定到自己\n",
    "        obj.bind_providers(self)\n",
    "        self.obj = obj\n",
    "\n",
    "    def call(self, instruction):\n",
    "        self._last_input = instruction\n",
    "        self.obj.call(\"观察\")\n",
    "        print(self.obj.last_output)\n",
    "\n",
    "a = A()\n",
    "b = B(a)\n",
    "b.call(\"今晚吃啥？\")"
   ]
  },
  {
   "cell_type": "code",
   "execution_count": 2,
   "id": "8d4e113a-23fc-4ef4-8ffc-74f70058d278",
   "metadata": {},
   "outputs": [
    {
     "name": "stdout",
     "output_type": "stream",
     "text": [
      "a: {'last_input': '今晚吃啥？'}, {'last_input': '观察', 'last_output': '我听到B说： 今晚吃啥？ 来自A的观察'}\n",
      "b: {}, {'last_input': '今晚吃啥？'}\n"
     ]
    }
   ],
   "source": [
    "print(\"a: \", end=\"\")\n",
    "print(a.consumer_dict, end=\", \")\n",
    "print(a.provider_dict)\n",
    "print(\"b: \", end=\"\")\n",
    "print(b.consumer_dict, end=\", \")\n",
    "print(b.provider_dict)"
   ]
  },
  {
   "cell_type": "code",
   "execution_count": 3,
   "id": "d74760d9-2960-47e6-a3f6-128a51b4faf4",
   "metadata": {},
   "outputs": [
    {
     "data": {
      "text/plain": [
       "[(<Runnable B.4557731872>, {})]"
      ]
     },
     "execution_count": 3,
     "metadata": {},
     "output_type": "execute_result"
    }
   ],
   "source": [
    "a.providers"
   ]
  },
  {
   "cell_type": "code",
   "execution_count": 4,
   "id": "bd027122-e66e-424a-95cc-d71d2ebea465",
   "metadata": {},
   "outputs": [
    {
     "data": {
      "text/plain": [
       "<Runnable A.4557094816>"
      ]
     },
     "execution_count": 4,
     "metadata": {},
     "output_type": "execute_result"
    }
   ],
   "source": [
    "a"
   ]
  },
  {
   "cell_type": "code",
   "execution_count": 6,
   "id": "87604919-39d1-4d7f-a118-b90f091ebb25",
   "metadata": {},
   "outputs": [
    {
     "data": {
      "text/plain": [
       "<__main__.X at 0x11f09b940>"
      ]
     },
     "execution_count": 6,
     "metadata": {},
     "output_type": "execute_result"
    }
   ],
   "source": [
    "class X:\n",
    "    def __init__(self):\n",
    "        self.a = 1\n",
    "X()"
   ]
  },
  {
   "cell_type": "code",
   "execution_count": null,
   "id": "c48cfb24-14f2-4798-9558-fc00228459ad",
   "metadata": {},
   "outputs": [],
   "source": []
  }
 ],
 "metadata": {
  "kernelspec": {
   "display_name": "textlong-same-ipykernel",
   "language": "python",
   "name": "textlong-same-ipykernel"
  },
  "language_info": {
   "codemirror_mode": {
    "name": "ipython",
    "version": 3
   },
   "file_extension": ".py",
   "mimetype": "text/x-python",
   "name": "python",
   "nbconvert_exporter": "python",
   "pygments_lexer": "ipython3",
   "version": "3.10.0"
  }
 },
 "nbformat": 4,
 "nbformat_minor": 5
}
