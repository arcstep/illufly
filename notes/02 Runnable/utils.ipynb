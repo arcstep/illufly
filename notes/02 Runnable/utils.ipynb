{
 "cells": [
  {
   "cell_type": "markdown",
   "id": "6650588d-dc98-4385-b948-e8222f3bfc5e",
   "metadata": {},
   "source": [
    "## 提取文本"
   ]
  },
  {
   "cell_type": "markdown",
   "id": "d7ba5cc6-0cbf-42f0-bcd6-11405a1895b5",
   "metadata": {},
   "source": [
    "### 提取包裹内容：extract_segments / extract_text"
   ]
  },
  {
   "cell_type": "code",
   "execution_count": 1,
   "id": "8f56ecba-623a-46c6-bc54-fbfcf51c4531",
   "metadata": {},
   "outputs": [
    {
     "data": {
      "text/plain": [
       "['我是第一个答案：9.9更大。', '我是第二个答案：9.9更大。']"
      ]
     },
     "execution_count": 1,
     "metadata": {},
     "output_type": "execute_result"
    }
   ],
   "source": [
    "from illufly.utils import extract_text, extract_segments\n",
    "\n",
    "text = \"\"\"\n",
    "**最终答案**\n",
    "<final_answer>\n",
    "我是第一个答案：9.9更大。\n",
    "</final_answer>\n",
    "\n",
    "**最终答案**\n",
    "<final_answer>\n",
    "我是第二个答案：9.9更大。\n",
    "</final_answer>\n",
    "\"\"\"\n",
    "\n",
    "extract_segments(text, (\"<final_answer>\", \"</final_answer>\"))"
   ]
  },
  {
   "cell_type": "code",
   "execution_count": 2,
   "id": "b0e86ebe-de18-4aa2-9c63-45ea5e59c661",
   "metadata": {},
   "outputs": [
    {
     "data": {
      "text/plain": [
       "['<final_answer>\\n我是第一个答案：9.9更大。\\n</final_answer>',\n",
       " '<final_answer>\\n我是第二个答案：9.9更大。\\n</final_answer>']"
      ]
     },
     "execution_count": 2,
     "metadata": {},
     "output_type": "execute_result"
    }
   ],
   "source": [
    "extract_segments(text, (\"<final_answer>\", \"</final_answer>\"), include_markers=True)"
   ]
  },
  {
   "cell_type": "code",
   "execution_count": 5,
   "id": "a0481ef8-8314-465a-97c7-bfa576668b8f",
   "metadata": {},
   "outputs": [
    {
     "data": {
      "text/plain": [
       "'我是第一个答案：9.9更大。\\n我是第二个答案：9.9更大。'"
      ]
     },
     "execution_count": 5,
     "metadata": {},
     "output_type": "execute_result"
    }
   ],
   "source": [
    "extract_text(text, (\"<final_answer>\", \"</final_answer>\"))"
   ]
  },
  {
   "cell_type": "markdown",
   "id": "b906b904-e8e8-4c29-bb14-7ee67a531914",
   "metadata": {},
   "source": [
    "### 提取内容在同一行"
   ]
  },
  {
   "cell_type": "code",
   "execution_count": 10,
   "id": "b18f8d4f-33a9-4211-91bc-eeb4150c709f",
   "metadata": {},
   "outputs": [
    {
     "data": {
      "text/plain": [
       "['9.9']"
      ]
     },
     "execution_count": 10,
     "metadata": {},
     "output_type": "execute_result"
    }
   ],
   "source": [
    "extract_segments(\"\"\"\n",
    "**最终答案**\n",
    "<final_answer>9.9</final_answer>\n",
    "\"\"\", (\"<final_answer>\", \"</final_answer>\"), strict=True)"
   ]
  },
  {
   "cell_type": "markdown",
   "id": "19f24609-fd84-4b5a-aede-446c77156b06",
   "metadata": {},
   "source": [
    "### 截取时的开始和结束标记相同"
   ]
  },
  {
   "cell_type": "code",
   "execution_count": 11,
   "id": "bc0bd9d8-17c4-48cc-9f42-edcb3e83620c",
   "metadata": {},
   "outputs": [
    {
     "data": {
      "text/plain": [
       "['我是第一个答案：9.9更大。', '我是第二个答案：9.9更大。']"
      ]
     },
     "execution_count": 11,
     "metadata": {},
     "output_type": "execute_result"
    }
   ],
   "source": [
    "from illufly.utils import extract_text, extract_segments\n",
    "\n",
    "text = \"\"\"\n",
    "**最终答案**\n",
    "```我是第一个答案：9.9更大。```\n",
    "\n",
    "**最终答案**\n",
    "```\n",
    "我是第二个答案：9.9更大。\n",
    "```\n",
    "\"\"\"\n",
    "\n",
    "extract_segments(text, (\"```\", \"```\"))"
   ]
  },
  {
   "cell_type": "code",
   "execution_count": 4,
   "id": "abed0abe-6815-4202-8611-d2492c8d4254",
   "metadata": {},
   "outputs": [
    {
     "data": {
      "text/plain": [
       "'我是第一个答案：9.9更大。\\n我是第二个答案：9.9更大。'"
      ]
     },
     "execution_count": 4,
     "metadata": {},
     "output_type": "execute_result"
    }
   ],
   "source": [
    "extract_text(text, (\"```\", \"```\"))"
   ]
  },
  {
   "cell_type": "markdown",
   "id": "54165b1c-0347-4557-84aa-cbb72cc41576",
   "metadata": {},
   "source": [
    "### start必须是行的开头，end可以是行内任何位置"
   ]
  },
  {
   "cell_type": "code",
   "execution_count": 12,
   "id": "f81e1c7d-69de-4a8f-abb6-7dd6368df989",
   "metadata": {},
   "outputs": [
    {
     "data": {
      "text/plain": [
       "['我是第一个答案：9.9更大。', '我是第二个答案：9.9更大。']"
      ]
     },
     "execution_count": 12,
     "metadata": {},
     "output_type": "execute_result"
    }
   ],
   "source": [
    "from illufly.utils import extract_text, extract_segments\n",
    "\n",
    "text = \"\"\"\n",
    "**最终答案**\n",
    "<final_answer>我是第一个答案：9.9更大。</final_answer>\n",
    "\n",
    "**最终答案**\n",
    "<final_answer>\n",
    "我是第二个答案：9.9更大。\n",
    "</final_answer>\n",
    "\"\"\"\n",
    "\n",
    "extract_segments(text, (\"<final_answer>\", \"</final_answer>\"))"
   ]
  },
  {
   "cell_type": "code",
   "execution_count": 13,
   "id": "e28d181c-1a61-4a3d-80fc-dfad0383c3d4",
   "metadata": {},
   "outputs": [
    {
     "data": {
      "text/plain": [
       "'我是第一个答案：9.9更大。\\n我是第二个答案：9.9更大。'"
      ]
     },
     "execution_count": 13,
     "metadata": {},
     "output_type": "execute_result"
    }
   ],
   "source": [
    "extract_text(text, (\"<final_answer>\", \"</final_answer>\"))"
   ]
  },
  {
   "cell_type": "markdown",
   "id": "806893ad-0098-43e7-88ac-30096964fcc7",
   "metadata": {},
   "source": [
    "### 默认行为：如果不匹配，就全部返回"
   ]
  },
  {
   "cell_type": "code",
   "execution_count": 14,
   "id": "0dbad9b6-af2c-42e1-b28e-7720651cf1d1",
   "metadata": {},
   "outputs": [
    {
     "data": {
      "text/plain": [
       "['\\n**最终答案**\\n<final_answer>我是第一个答案：9.9更大。</final_answer>\\n\\n**最终答案**\\n<final_answer>\\n我是第二个答案：9.9更大。\\n</final_answer>\\n']"
      ]
     },
     "execution_count": 14,
     "metadata": {},
     "output_type": "execute_result"
    }
   ],
   "source": [
    "extract_segments(text, (\"<no_final_answer>\", \"</final_answer>\"))"
   ]
  },
  {
   "cell_type": "markdown",
   "id": "806e1526-b87e-4d2a-9d75-3078abccfd15",
   "metadata": {},
   "source": [
    "### 严格模式"
   ]
  },
  {
   "cell_type": "code",
   "execution_count": 16,
   "id": "50cb4ef0-2ea1-4bd7-a525-c2abb07f7b5f",
   "metadata": {},
   "outputs": [
    {
     "data": {
      "text/plain": [
       "''"
      ]
     },
     "execution_count": 16,
     "metadata": {},
     "output_type": "execute_result"
    }
   ],
   "source": [
    "extract_text(text, (\"<no_final_answer>\", \"</final_answer>\"), strict=True)"
   ]
  },
  {
   "cell_type": "markdown",
   "id": "bb1c1aae-0264-424f-acf1-f86eee97dcdd",
   "metadata": {},
   "source": [
    "### 截取：extract_final_answer"
   ]
  },
  {
   "cell_type": "code",
   "execution_count": 11,
   "id": "129f29c9-100d-437a-8f79-4fd92108008a",
   "metadata": {},
   "outputs": [
    {
     "data": {
      "text/plain": [
       "'**最终答案**\\nThis is final answer.'"
      ]
     },
     "execution_count": 11,
     "metadata": {},
     "output_type": "execute_result"
    }
   ],
   "source": [
    "from illufly.utils import extract_final_answer\n",
    "\n",
    "extract_final_answer(\"\"\"\n",
    "**最终答案**\n",
    "This is final answer.\n",
    "\"\"\", final_answer_prompt=\"最终答案\")"
   ]
  },
  {
   "cell_type": "code",
   "execution_count": 12,
   "id": "4c355ab5-60d6-46b0-b618-1a2be2b14ce3",
   "metadata": {},
   "outputs": [
    {
     "data": {
      "text/plain": [
       "'### 最终答案\\nThis is final answer.'"
      ]
     },
     "execution_count": 12,
     "metadata": {},
     "output_type": "execute_result"
    }
   ],
   "source": [
    "from illufly.utils import extract_final_answer\n",
    "\n",
    "extract_final_answer(\"\"\"\n",
    "### 最终答案\n",
    "This is final answer.\n",
    "\"\"\", final_answer_prompt=\"最终答案\")"
   ]
  },
  {
   "cell_type": "code",
   "execution_count": 14,
   "id": "27a48f64-54ad-4fce-a2be-e2debb382b9c",
   "metadata": {},
   "outputs": [
    {
     "data": {
      "text/plain": [
       "'### 最终答案\\nThis is final answer.'"
      ]
     },
     "execution_count": 14,
     "metadata": {},
     "output_type": "execute_result"
    }
   ],
   "source": [
    "from illufly.utils import extract_final_answer\n",
    "\n",
    "extract_final_answer(\"\"\"\n",
    "### 最终答案\n",
    "This is final answer.\n",
    "\"\"\", final_answer_prompt=\"**最终答案**\")"
   ]
  },
  {
   "cell_type": "code",
   "execution_count": 15,
   "id": "ae757fe2-cfbc-47df-9fe3-0c03c66fc371",
   "metadata": {},
   "outputs": [
    {
     "data": {
      "text/plain": [
       "''"
      ]
     },
     "execution_count": 15,
     "metadata": {},
     "output_type": "execute_result"
    }
   ],
   "source": [
    "from illufly.utils import extract_final_answer\n",
    "\n",
    "extract_final_answer(\"\"\"\n",
    "### 最终答案\n",
    "This is final answer.\n",
    "\"\"\", final_answer_prompt=\"答案\")"
   ]
  },
  {
   "cell_type": "markdown",
   "id": "545abb4c-da05-4ad7-8b27-17cede030c64",
   "metadata": {},
   "source": [
    "### 对部份标签转义"
   ]
  },
  {
   "cell_type": "code",
   "execution_count": 1,
   "id": "de91a085-1732-4dcf-aa85-36925ff6aab7",
   "metadata": {},
   "outputs": [
    {
     "data": {
      "text/plain": [
       "'啊 < ></abc> '"
      ]
     },
     "execution_count": 1,
     "metadata": {},
     "output_type": "execute_result"
    }
   ],
   "source": [
    "from illufly.utils import escape_xml_tags\n",
    "\n",
    "escape_xml_tags(\"啊 < ></abc> \")"
   ]
  },
  {
   "cell_type": "code",
   "execution_count": 3,
   "id": "d6806b29-813b-4163-aa0a-b88d355f5914",
   "metadata": {},
   "outputs": [
    {
     "name": "stdout",
     "output_type": "stream",
     "text": [
      "&lt;final_answer&gt;some content&lt;/final_answer&gt;\n",
      "This is a <div> with <final_answer>some content</final_answer> and <tool_call>tool content</tool_call>.\n",
      "&lt;tool_call&gt;tool content&lt;/tool_call&gt;\n"
     ]
    }
   ],
   "source": [
    "text = \"\"\"<final_answer>some content</final_answer>\n",
    "This is a <div> with <final_answer>some content</final_answer> and <tool_call>tool content</tool_call>.\n",
    "<tool_call>tool content</tool_call>\"\"\"\n",
    "escaped_text = escape_xml_tags(text)\n",
    "print(escaped_text)"
   ]
  },
  {
   "cell_type": "code",
   "execution_count": 4,
   "id": "ab05eaaf-e25f-4f07-9bbe-ece449f1c034",
   "metadata": {},
   "outputs": [
    {
     "name": "stdout",
     "output_type": "stream",
     "text": [
      "\n",
      "你可以使用 <a> 等 html 标签\n",
      "\n",
      "> this is answer\n",
      "\n",
      "&lt;final_answer&gt;\n",
      "OK\n",
      "&lt;/final_answer&gt;\n"
     ]
    }
   ],
   "source": [
    "print(escape_xml_tags(\"\"\"\n",
    "你可以使用 <a> 等 html 标签\n",
    "\n",
    "> this is answer\n",
    "\n",
    "<final_answer>\n",
    "OK\n",
    "</final_answer>\n",
    "\"\"\"))"
   ]
  },
  {
   "cell_type": "code",
   "execution_count": 5,
   "id": "909088cc-31c4-4b1e-9275-f16c1846fac1",
   "metadata": {},
   "outputs": [
    {
     "name": "stdout",
     "output_type": "stream",
     "text": [
      "\n",
      "在 Markdown 语法中， `<` 和 `>` 主要用于插入 HTML 标签或表示引用。\n",
      "\n",
      "1. **插入 HTML 标签**：\n",
      "   - 你可以直接使用 `<` 和 `>` 来插入 HTML 标签。Markdown 会保留这些标签，并在最终生成的 HTML 中保持原样。\n",
      "   - 例如：\n",
      "     ```markdown\n",
      "     <div>\n",
      "       <p>This is a paragraph inside a div.</p>\n",
      "     </div>\n",
      "     ```\n",
      "   - 渲染后的 HTML：\n",
      "     ```html\n",
      "     <div>\n",
      "       <p>This is a paragraph inside a div.</p>\n",
      "     </div>\n",
      "     ```\n",
      "\n",
      "2. **表示引用**：\n",
      "   - 使用 `>` 可以创建块引用（blockquotes），通常用于表示引述或引用的内容。\n",
      "   - 例如：\n",
      "     ```markdown\n",
      "     > This is a blockquote.\n",
      "     > It can span multiple lines.\n",
      "     ```\n",
      "   - 渲染后的 HTML：\n",
      "     ```html\n",
      "     <blockquote>\n",
      "       <p>This is a blockquote.</p>\n",
      "       <p>It can span multiple lines.</p>\n",
      "     </blockquote>\n",
      "     ```\n",
      "\n",
      "3. **转义特殊字符**：\n",
      "   - 如果你想要在 Markdown 中显示 `<` 或 `>` 本身，而不是作为 HTML 标签的一部分，可以使用反斜杠 `\\` 进行转义，或者使用 HTML 实体。\n",
      "   - 例如：\n",
      "     ```markdown\n",
      "     \\> This will show as a greater-than sign: >\n",
      "     \\< This will show as a less-than sign: <\n",
      "     ```\n",
      "   - 渲染后的结果：\n",
      "     ```\n",
      "     > This will show as a greater-than sign: >\n",
      "     < This will show as a less-than sign: <\n",
      "     ```\n"
     ]
    }
   ],
   "source": [
    "print(escape_xml_tags(\"\"\"\n",
    "在 Markdown 语法中， `<` 和 `>` 主要用于插入 HTML 标签或表示引用。\n",
    "\n",
    "1. **插入 HTML 标签**：\n",
    "   - 你可以直接使用 `<` 和 `>` 来插入 HTML 标签。Markdown 会保留这些标签，并在最终生成的 HTML 中保持原样。\n",
    "   - 例如：\n",
    "     ```markdown\n",
    "     <div>\n",
    "       <p>This is a paragraph inside a div.</p>\n",
    "     </div>\n",
    "     ```\n",
    "   - 渲染后的 HTML：\n",
    "     ```html\n",
    "     <div>\n",
    "       <p>This is a paragraph inside a div.</p>\n",
    "     </div>\n",
    "     ```\n",
    "\n",
    "2. **表示引用**：\n",
    "   - 使用 `>` 可以创建块引用（blockquotes），通常用于表示引述或引用的内容。\n",
    "   - 例如：\n",
    "     ```markdown\n",
    "     > This is a blockquote.\n",
    "     > It can span multiple lines.\n",
    "     ```\n",
    "   - 渲染后的 HTML：\n",
    "     ```html\n",
    "     <blockquote>\n",
    "       <p>This is a blockquote.</p>\n",
    "       <p>It can span multiple lines.</p>\n",
    "     </blockquote>\n",
    "     ```\n",
    "\n",
    "3. **转义特殊字符**：\n",
    "   - 如果你想要在 Markdown 中显示 `<` 或 `>` 本身，而不是作为 HTML 标签的一部分，可以使用反斜杠 `\\` 进行转义，或者使用 HTML 实体。\n",
    "   - 例如：\n",
    "     ```markdown\n",
    "     \\> This will show as a greater-than sign: >\n",
    "     \\< This will show as a less-than sign: <\n",
    "     ```\n",
    "   - 渲染后的结果：\n",
    "     ```\n",
    "     > This will show as a greater-than sign: >\n",
    "     < This will show as a less-than sign: <\n",
    "     ```\n",
    "\"\"\"))"
   ]
  },
  {
   "cell_type": "code",
   "execution_count": null,
   "id": "fa48600a-bcf6-4f53-9e5b-a250c2d20142",
   "metadata": {},
   "outputs": [],
   "source": []
  }
 ],
 "metadata": {
  "kernelspec": {
   "display_name": "same_to_illufly",
   "language": "python",
   "name": "same_to_illufly"
  },
  "language_info": {
   "codemirror_mode": {
    "name": "ipython",
    "version": 3
   },
   "file_extension": ".py",
   "mimetype": "text/x-python",
   "name": "python",
   "nbconvert_exporter": "python",
   "pygments_lexer": "ipython3",
   "version": "3.10.0"
  }
 },
 "nbformat": 4,
 "nbformat_minor": 5
}
