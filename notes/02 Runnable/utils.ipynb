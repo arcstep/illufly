{
 "cells": [
  {
   "cell_type": "code",
   "execution_count": 1,
   "id": "129f29c9-100d-437a-8f79-4fd92108008a",
   "metadata": {},
   "outputs": [
    {
     "data": {
      "text/plain": [
       "'**最终答案**\\nThis is final answer.'"
      ]
     },
     "execution_count": 1,
     "metadata": {},
     "output_type": "execute_result"
    }
   ],
   "source": [
    "from illufly.utils import extract_final_answer\n",
    "\n",
    "extract_final_answer(\"\"\"\n",
    "**最终答案**\n",
    "This is final answer.\n",
    "\"\"\", final_answer_prompt=\"最终答案\")"
   ]
  },
  {
   "cell_type": "code",
   "execution_count": 2,
   "id": "4c355ab5-60d6-46b0-b618-1a2be2b14ce3",
   "metadata": {},
   "outputs": [
    {
     "data": {
      "text/plain": [
       "'### 最终答案\\nThis is final answer.'"
      ]
     },
     "execution_count": 2,
     "metadata": {},
     "output_type": "execute_result"
    }
   ],
   "source": [
    "from illufly.utils import extract_final_answer\n",
    "\n",
    "extract_final_answer(\"\"\"\n",
    "### 最终答案\n",
    "This is final answer.\n",
    "\"\"\", final_answer_prompt=\"最终答案\")"
   ]
  },
  {
   "cell_type": "code",
   "execution_count": 4,
   "id": "27a48f64-54ad-4fce-a2be-e2debb382b9c",
   "metadata": {},
   "outputs": [
    {
     "data": {
      "text/plain": [
       "'### 最终答案\\nThis is final answer.'"
      ]
     },
     "execution_count": 4,
     "metadata": {},
     "output_type": "execute_result"
    }
   ],
   "source": [
    "from illufly.utils import extract_final_answer\n",
    "\n",
    "extract_final_answer(\"\"\"\n",
    "### 最终答案\n",
    "This is final answer.\n",
    "\"\"\", final_answer_prompt=\"**最终答案**\")"
   ]
  },
  {
   "cell_type": "code",
   "execution_count": 5,
   "id": "ae757fe2-cfbc-47df-9fe3-0c03c66fc371",
   "metadata": {},
   "outputs": [
    {
     "data": {
      "text/plain": [
       "''"
      ]
     },
     "execution_count": 5,
     "metadata": {},
     "output_type": "execute_result"
    }
   ],
   "source": [
    "from illufly.utils import extract_final_answer\n",
    "\n",
    "extract_final_answer(\"\"\"\n",
    "### 最终答案\n",
    "This is final answer.\n",
    "\"\"\", final_answer_prompt=\"答案\")"
   ]
  },
  {
   "cell_type": "code",
   "execution_count": null,
   "id": "8f56ecba-623a-46c6-bc54-fbfcf51c4531",
   "metadata": {},
   "outputs": [],
   "source": []
  }
 ],
 "metadata": {
  "kernelspec": {
   "display_name": "same_to_illufly",
   "language": "python",
   "name": "same_to_illufly"
  },
  "language_info": {
   "codemirror_mode": {
    "name": "ipython",
    "version": 3
   },
   "file_extension": ".py",
   "mimetype": "text/x-python",
   "name": "python",
   "nbconvert_exporter": "python",
   "pygments_lexer": "ipython3",
   "version": "3.10.0"
  }
 },
 "nbformat": 4,
 "nbformat_minor": 5
}
