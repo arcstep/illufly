{
 "cells": [
  {
   "cell_type": "markdown",
   "id": "6650588d-dc98-4385-b948-e8222f3bfc5e",
   "metadata": {},
   "source": [
    "## 提取文本\n",
    "\n",
    "### 截取：extract_final_answer"
   ]
  },
  {
   "cell_type": "code",
   "execution_count": 1,
   "id": "129f29c9-100d-437a-8f79-4fd92108008a",
   "metadata": {},
   "outputs": [
    {
     "data": {
      "text/plain": [
       "'**最终答案**\\nThis is final answer.'"
      ]
     },
     "execution_count": 1,
     "metadata": {},
     "output_type": "execute_result"
    }
   ],
   "source": [
    "from illufly.utils import extract_final_answer\n",
    "\n",
    "extract_final_answer(\"\"\"\n",
    "**最终答案**\n",
    "This is final answer.\n",
    "\"\"\", final_answer_prompt=\"最终答案\")"
   ]
  },
  {
   "cell_type": "code",
   "execution_count": 2,
   "id": "4c355ab5-60d6-46b0-b618-1a2be2b14ce3",
   "metadata": {},
   "outputs": [
    {
     "data": {
      "text/plain": [
       "'### 最终答案\\nThis is final answer.'"
      ]
     },
     "execution_count": 2,
     "metadata": {},
     "output_type": "execute_result"
    }
   ],
   "source": [
    "from illufly.utils import extract_final_answer\n",
    "\n",
    "extract_final_answer(\"\"\"\n",
    "### 最终答案\n",
    "This is final answer.\n",
    "\"\"\", final_answer_prompt=\"最终答案\")"
   ]
  },
  {
   "cell_type": "code",
   "execution_count": 3,
   "id": "27a48f64-54ad-4fce-a2be-e2debb382b9c",
   "metadata": {},
   "outputs": [
    {
     "data": {
      "text/plain": [
       "'### 最终答案\\nThis is final answer.'"
      ]
     },
     "execution_count": 3,
     "metadata": {},
     "output_type": "execute_result"
    }
   ],
   "source": [
    "from illufly.utils import extract_final_answer\n",
    "\n",
    "extract_final_answer(\"\"\"\n",
    "### 最终答案\n",
    "This is final answer.\n",
    "\"\"\", final_answer_prompt=\"**最终答案**\")"
   ]
  },
  {
   "cell_type": "code",
   "execution_count": 4,
   "id": "ae757fe2-cfbc-47df-9fe3-0c03c66fc371",
   "metadata": {},
   "outputs": [
    {
     "data": {
      "text/plain": [
       "''"
      ]
     },
     "execution_count": 4,
     "metadata": {},
     "output_type": "execute_result"
    }
   ],
   "source": [
    "from illufly.utils import extract_final_answer\n",
    "\n",
    "extract_final_answer(\"\"\"\n",
    "### 最终答案\n",
    "This is final answer.\n",
    "\"\"\", final_answer_prompt=\"答案\")"
   ]
  },
  {
   "cell_type": "markdown",
   "id": "d7ba5cc6-0cbf-42f0-bcd6-11405a1895b5",
   "metadata": {},
   "source": [
    "### 提取包裹内容：extract_segments / extract_text"
   ]
  },
  {
   "cell_type": "code",
   "execution_count": 3,
   "id": "8f56ecba-623a-46c6-bc54-fbfcf51c4531",
   "metadata": {},
   "outputs": [
    {
     "data": {
      "text/plain": [
       "['我是第一个答案：9.9更大。\\n', '我是第二个答案：9.9更大。\\n']"
      ]
     },
     "execution_count": 3,
     "metadata": {},
     "output_type": "execute_result"
    }
   ],
   "source": [
    "from illufly.utils import extract_text, extract_segments\n",
    "\n",
    "text = \"\"\"\n",
    "**思考**  \n",
    "当前任务是要比较两个数字：9.11和9.9，确定哪一个更大。这个问题的关键概念是“数字比较”。已经明确的取值有：\n",
    "- 数字1: 9.11\n",
    "- 数字2: 9.9\n",
    "\n",
    "将任务中的关键概念拆解为一系列待查询的子要素：\n",
    "- 数字比较\n",
    "- 比较规则\n",
    "- 数字的大小\n",
    "\n",
    "观察以前的执行记录：在这个简单的数学比较任务中，概念拆解已经足够明确。\n",
    "我们了解数字比较的基本规则，即先比较整数部分，如果相同，则比较小数部分。因此，我们可以直接进行比较。\n",
    "\n",
    "**行动**  \n",
    "根据数字比较的规则，首先比较两个数字的整数部分。\n",
    "9.11和9.9的整数部分都是9，所以接下来比较它们的小数部分。\n",
    "9.11的小数部分是0.11，而9.9的小数部分是0.9。显然，0.11小于0.9，因此9.11小于9.9。\n",
    "\n",
    "**最终答案**\n",
    "<final_answer>\n",
    "我是第一个答案：9.9更大。\n",
    "</final_answer>\n",
    "\n",
    "**最终答案**\n",
    "<final_answer>\n",
    "我是第二个答案：9.9更大。\n",
    "</final_answer>\n",
    "\"\"\"\n",
    "\n",
    "extract_segments(text, (\"<final_answer>\", \"</final_answer>\"))"
   ]
  },
  {
   "cell_type": "code",
   "execution_count": 4,
   "id": "b0e86ebe-de18-4aa2-9c63-45ea5e59c661",
   "metadata": {},
   "outputs": [
    {
     "data": {
      "text/plain": [
       "['<final_answer>\\n我是第一个答案：9.9更大。\\n</final_answer>',\n",
       " '<final_answer>\\n我是第二个答案：9.9更大。\\n</final_answer>']"
      ]
     },
     "execution_count": 4,
     "metadata": {},
     "output_type": "execute_result"
    }
   ],
   "source": [
    "extract_segments(text, (\"<final_answer>\", \"</final_answer>\"), include_markers=True)"
   ]
  },
  {
   "cell_type": "code",
   "execution_count": 5,
   "id": "a0481ef8-8314-465a-97c7-bfa576668b8f",
   "metadata": {},
   "outputs": [
    {
     "data": {
      "text/plain": [
       "['我是第一个答案：9.9更大。\\n</final_answer>\\n\\n**最终答案**\\n<final_answer>\\n我是第二个答案：9.9更大。']"
      ]
     },
     "execution_count": 5,
     "metadata": {},
     "output_type": "execute_result"
    }
   ],
   "source": [
    "extract_segments(text, (\"<final_answer>\", \"</final_answer>\"), mode=\"first_last\")"
   ]
  },
  {
   "cell_type": "code",
   "execution_count": 6,
   "id": "c93ebcbc-e52a-4f48-bc6c-9aa68f6d9aa2",
   "metadata": {},
   "outputs": [
    {
     "data": {
      "text/plain": [
       "['<final_answer>\\n我是第一个答案：9.9更大。\\n</final_answer>\\n\\n**最终答案**\\n<final_answer>\\n我是第二个答案：9.9更大。\\n</final_answer>']"
      ]
     },
     "execution_count": 6,
     "metadata": {},
     "output_type": "execute_result"
    }
   ],
   "source": [
    "extract_segments(text, (\"<final_answer>\", \"</final_answer>\"), mode=\"first_last\", include_markers=True)"
   ]
  },
  {
   "cell_type": "code",
   "execution_count": 7,
   "id": "b1fc6b22-d432-4b3f-9185-41a8ec3e630a",
   "metadata": {},
   "outputs": [
    {
     "data": {
      "text/plain": [
       "'我是第一个答案：9.9更大。\\n\\n我是第二个答案：9.9更大。\\n'"
      ]
     },
     "execution_count": 7,
     "metadata": {},
     "output_type": "execute_result"
    }
   ],
   "source": [
    "extract_text(text, (\"<final_answer>\", \"</final_answer>\"))"
   ]
  },
  {
   "cell_type": "markdown",
   "id": "19f24609-fd84-4b5a-aede-446c77156b06",
   "metadata": {},
   "source": [
    "### 截取时的开始和结束标记相同"
   ]
  },
  {
   "cell_type": "code",
   "execution_count": 1,
   "id": "bc0bd9d8-17c4-48cc-9f42-edcb3e83620c",
   "metadata": {},
   "outputs": [
    {
     "data": {
      "text/plain": [
       "['我是第一个答案：9.9更大。', '我是第二个答案：9.9更大。']"
      ]
     },
     "execution_count": 1,
     "metadata": {},
     "output_type": "execute_result"
    }
   ],
   "source": [
    "from illufly.utils import extract_text, extract_segments\n",
    "\n",
    "text = \"\"\"\n",
    "**思考**  \n",
    "当前任务是要比较两个数字：9.11和9.9，确定哪一个更大。这个问题的关键概念是“数字比较”。已经明确的取值有：\n",
    "- 数字1: 9.11\n",
    "- 数字2: 9.9\n",
    "\n",
    "将任务中的关键概念拆解为一系列待查询的子要素：\n",
    "- 数字比较\n",
    "- 比较规则\n",
    "- 数字的大小\n",
    "\n",
    "观察以前的执行记录：在这个简单的数学比较任务中，概念拆解已经足够明确。\n",
    "我们了解数字比较的基本规则，即先比较整数部分，如果相同，则比较小数部分。因此，我们可以直接进行比较。\n",
    "\n",
    "**行动**  \n",
    "根据数字比较的规则，首先比较两个数字的整数部分。\n",
    "9.11和9.9的整数部分都是9，所以接下来比较它们的小数部分。\n",
    "9.11的小数部分是0.11，而9.9的小数部分是0.9。显然，0.11小于0.9，因此9.11小于9.9。\n",
    "\n",
    "**最终答案**\n",
    "```我是第一个答案：9.9更大。```\n",
    "\n",
    "**最终答案**\n",
    "```\n",
    "我是第二个答案：9.9更大。\n",
    "```\n",
    "\"\"\"\n",
    "\n",
    "extract_segments(text, (\"```\", \"```\"))"
   ]
  },
  {
   "cell_type": "code",
   "execution_count": 2,
   "id": "abed0abe-6815-4202-8611-d2492c8d4254",
   "metadata": {},
   "outputs": [
    {
     "data": {
      "text/plain": [
       "['我是第一个答案：9.9更大。```\\n\\n**最终答案**\\n```\\n我是第二个答案：9.9更大。']"
      ]
     },
     "execution_count": 2,
     "metadata": {},
     "output_type": "execute_result"
    }
   ],
   "source": [
    "extract_segments(text, (\"```\", \"```\"), mode=\"first_last\")"
   ]
  },
  {
   "cell_type": "markdown",
   "id": "54165b1c-0347-4557-84aa-cbb72cc41576",
   "metadata": {},
   "source": [
    "### start必须是行的开头，end可以是行内任何位置"
   ]
  },
  {
   "cell_type": "code",
   "execution_count": 1,
   "id": "f81e1c7d-69de-4a8f-abb6-7dd6368df989",
   "metadata": {},
   "outputs": [
    {
     "data": {
      "text/plain": [
       "['我是第一个答案：9.9更大。</final_answer>\\n\\n**最终答案**\\n<final_answer>\\n我是第二个答案：9.9更大。']"
      ]
     },
     "execution_count": 1,
     "metadata": {},
     "output_type": "execute_result"
    }
   ],
   "source": [
    "from illufly.utils import extract_text, extract_segments\n",
    "\n",
    "text = \"\"\"\n",
    "**思考**  \n",
    "当前任务是要比较两个数字：9.11和9.9，确定哪一个更大。这个问题的关键概念是“数字比较”。已经明确的取值有：\n",
    "- 数字1: 9.11\n",
    "- 数字2: 9.9\n",
    "\n",
    "将任务中的关键概念拆解为一系列待查询的子要素：\n",
    "- 数字比较\n",
    "- 比较规则\n",
    "- 数字的大小\n",
    "\n",
    "观察以前的执行记录：在这个简单的数学比较任务中，概念拆解已经足够明确。\n",
    "我们了解数字比较的基本规则，即先比较整数部分，如果相同，则比较小数部分。因此，我们可以直接进行比较。\n",
    "\n",
    "**行动**  \n",
    "根据数字比较的规则，首先比较两个数字的整数部分。\n",
    "9.11和9.9的整数部分都是9，所以接下来比较它们的小数部分。\n",
    "9.11的小数部分是0.11，而9.9的小数部分是0.9。显然，0.11小于0.9，因此9.11小于9.9。\n",
    "\n",
    "**最终答案**\n",
    "<final_answer>我是第一个答案：9.9更大。</final_answer>\n",
    "\n",
    "**最终答案**\n",
    "<final_answer>\n",
    "我是第二个答案：9.9更大。\n",
    "</final_answer>\n",
    "\"\"\"\n",
    "\n",
    "extract_segments(text, (\"<final_answer>\", \"</final_answer>\"))"
   ]
  },
  {
   "cell_type": "code",
   "execution_count": 2,
   "id": "e28d181c-1a61-4a3d-80fc-dfad0383c3d4",
   "metadata": {},
   "outputs": [
    {
     "data": {
      "text/plain": [
       "['我是第一个答案：9.9更大。</final_answer>\\n\\n**最终答案**\\n<final_answer>\\n我是第二个答案：9.9更大。']"
      ]
     },
     "execution_count": 2,
     "metadata": {},
     "output_type": "execute_result"
    }
   ],
   "source": [
    "extract_segments(text, (\"<final_answer>\", \"</final_answer>\"), mode=\"single\")"
   ]
  },
  {
   "cell_type": "markdown",
   "id": "806893ad-0098-43e7-88ac-30096964fcc7",
   "metadata": {},
   "source": [
    "### 如果不匹配，就全部返回"
   ]
  },
  {
   "cell_type": "code",
   "execution_count": 3,
   "id": "0dbad9b6-af2c-42e1-b28e-7720651cf1d1",
   "metadata": {},
   "outputs": [
    {
     "data": {
      "text/plain": [
       "[]"
      ]
     },
     "execution_count": 3,
     "metadata": {},
     "output_type": "execute_result"
    }
   ],
   "source": [
    "extract_segments(text, (\"<no_final_answer>\", \"</final_answer>\"), mode=\"multiple\")"
   ]
  },
  {
   "cell_type": "code",
   "execution_count": 4,
   "id": "50cb4ef0-2ea1-4bd7-a525-c2abb07f7b5f",
   "metadata": {},
   "outputs": [
    {
     "data": {
      "text/plain": [
       "['\\n**思考**  \\n当前任务是要比较两个数字：9.11和9.9，确定哪一个更大。这个问题的关键概念是“数字比较”。已经明确的取值有：\\n- 数字1: 9.11\\n- 数字2: 9.9\\n\\n将任务中的关键概念拆解为一系列待查询的子要素：\\n- 数字比较\\n- 比较规则\\n- 数字的大小\\n\\n观察以前的执行记录：在这个简单的数学比较任务中，概念拆解已经足够明确。\\n我们了解数字比较的基本规则，即先比较整数部分，如果相同，则比较小数部分。因此，我们可以直接进行比较。\\n\\n**行动**  \\n根据数字比较的规则，首先比较两个数字的整数部分。\\n9.11和9.9的整数部分都是9，所以接下来比较它们的小数部分。\\n9.11的小数部分是0.11，而9.9的小数部分是0.9。显然，0.11小于0.9，因此9.11小于9.9。\\n\\n**最终答案**\\n<final_answer>我是第一个答案：9.9更大。</final_answer>\\n\\n**最终答案**\\n<final_answer>\\n我是第二个答案：9.9更大。\\n</final_answer>\\n']"
      ]
     },
     "execution_count": 4,
     "metadata": {},
     "output_type": "execute_result"
    }
   ],
   "source": [
    "extract_segments(text, (\"<no_final_answer>\", \"</final_answer>\"), mode=\"single\")"
   ]
  },
  {
   "cell_type": "code",
   "execution_count": null,
   "id": "de91a085-1732-4dcf-aa85-36925ff6aab7",
   "metadata": {},
   "outputs": [],
   "source": []
  }
 ],
 "metadata": {
  "kernelspec": {
   "display_name": "same_to_illufly",
   "language": "python",
   "name": "same_to_illufly"
  },
  "language_info": {
   "codemirror_mode": {
    "name": "ipython",
    "version": 3
   },
   "file_extension": ".py",
   "mimetype": "text/x-python",
   "name": "python",
   "nbconvert_exporter": "python",
   "pygments_lexer": "ipython3",
   "version": "3.10.0"
  }
 },
 "nbformat": 4,
 "nbformat_minor": 5
}
