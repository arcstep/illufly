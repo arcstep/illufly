{
 "cells": [
  {
   "cell_type": "markdown",
   "id": "df8879fd-83c8-49ca-84d1-3bd230bed0cd",
   "metadata": {},
   "source": [
    "## 使用 Selector 实现意图路由\n",
    "\n",
    "智能体路由可以扩展为更广泛的场景，比如根据不同的工具集合、向量库类型等，配置为不同的智能体，\n",
    "然后根据用户的意图和场景，使用 Selector 动态选择最佳的智能体。\n",
    "\n",
    "\n",
    "Selector 有两个参数：\n",
    "- condition 可以自定义，或者采用内置的方法名称，包括：\n",
    "    - first : 第一个，这是默认选项，主要用于测试\n",
    "    - random : 随机选一个\n",
    "    - similar : 输入与备选 Runnable 的 description 属性接近（要使用这一方法必须提供向量嵌入模型）\n",
    "- agents 智能体列表"
   ]
  },
  {
   "cell_type": "markdown",
   "id": "2629800f-d848-48c2-ad29-c17781756c48",
   "metadata": {},
   "source": [
    "### 基础示范"
   ]
  },
  {
   "cell_type": "code",
   "execution_count": 1,
   "id": "934242d2-87f8-4b2d-bfc5-499ced7378a1",
   "metadata": {},
   "outputs": [
    {
     "name": "stdout",
     "output_type": "stream",
     "text": [
      "[INFO] \u001b[34m记住 10 轮对话\u001b[0m\n",
      "[INFO] \u001b[34mI am FakeLLM\u001b[0m\n",
      "\u001b[32ma\u001b[0m\u001b[32mb\u001b[0m\u001b[32mc\u001b[0m\n"
     ]
    },
    {
     "data": {
      "text/plain": [
       "'abc'"
      ]
     },
     "execution_count": 1,
     "metadata": {},
     "output_type": "execute_result"
    }
   ],
   "source": [
    "from illufly.chat import ChatQwen, ChatZhipu, FakeLLM\n",
    "from illufly.flow import Selector\n",
    "from illufly.io import alog\n",
    "\n",
    "# 默认选择了第一个 Runnable 作为 selected\n",
    "agent = Selector(\"first\", [FakeLLM([\"abc\", \"df\"]), ChatQwen(), ChatZhipu()])\n",
    "agent.select()\n",
    "agent.bind_provider({\"task\": \"写一首歌\"})\n",
    "\n",
    "agent(\"你是什么模型？\", verbose=True)"
   ]
  },
  {
   "cell_type": "code",
   "execution_count": 2,
   "id": "08de15f6-c4c9-4b25-ae39-222b942430b9",
   "metadata": {},
   "outputs": [
    {
     "name": "stdout",
     "output_type": "stream",
     "text": [
      "[INFO] \u001b[34m记住 10 轮对话\u001b[0m\n",
      "[INFO] \u001b[34mI am FakeLLM\u001b[0m\n",
      "\u001b[32md\u001b[0m\u001b[32mf\u001b[0m\n"
     ]
    },
    {
     "data": {
      "text/plain": [
       "'df'"
      ]
     },
     "execution_count": 2,
     "metadata": {},
     "output_type": "execute_result"
    }
   ],
   "source": [
    "agent.selected(\"你是什么模型？\", verbose=True)"
   ]
  },
  {
   "cell_type": "code",
   "execution_count": 3,
   "id": "419421aa-ed46-441c-b2c4-dbb844d69769",
   "metadata": {},
   "outputs": [
    {
     "data": {
      "text/plain": [
       "<FakeLLM.4869701584>"
      ]
     },
     "execution_count": 3,
     "metadata": {},
     "output_type": "execute_result"
    }
   ],
   "source": [
    "agent.selected"
   ]
  },
  {
   "cell_type": "markdown",
   "id": "eaccc94c-86db-43df-bb86-2b469a43098e",
   "metadata": {},
   "source": [
    "### 路由 ChatAgent\n",
    "\n",
    "考虑到你有两个专业的 ChatAgent:\n",
    "\n",
    "- data_agent 擅长数据分析\n",
    "- writer_agent 擅长写作\n",
    "\n",
    "你已经根据为他们分别配置了提示语模板、工具集、数据库等，但现在你需要根据用户的意图匹配到底使用哪一个智能体。<br>\n",
    "\n",
    "那么如何判断用户意图呢？\n",
    "- 方案1 可以使用大模型来做甄别，这会增加一个环节，推理过程可能延长用户的等待\n",
    "- 方案2 可以根据问题做文本相似性比较，这样做效率很高\n",
    "\n",
    "我们的例子中探讨方案2如何实现，关键就是与什么做比较？\n",
    "\n",
    "原始的可比较信息是：用户问题与智能体描述文本之间的比较，但这明显不太够用。<br>\n",
    "可以使用**检索器**和**经验缓存**来弥补。\n"
   ]
  },
  {
   "cell_type": "code",
   "execution_count": 4,
   "id": "587e02a1-7163-474d-82f6-1841c45cb1cb",
   "metadata": {},
   "outputs": [
    {
     "name": "stdout",
     "output_type": "stream",
     "text": [
      "\u001b[32m月\u001b[0m\u001b[32m光\u001b[0m\u001b[32m洒\u001b[0m\u001b[32m在我的\u001b[0m\u001b[32m脸上，  \n",
      "心中\u001b[0m\u001b[32m涌动着无\u001b[0m\u001b[32m尽的希望，\u001b[0m\u001b[32m  \n",
      "夜色中\u001b[0m\u001b[32m，我听见梦想\u001b[0m\u001b[32m在歌唱。\u001b[0m\u001b[32m\u001b[0m\n"
     ]
    },
    {
     "data": {
      "text/plain": [
       "'月光洒在我的脸上，  \\n心中涌动着无尽的希望，  \\n夜色中，我听见梦想在歌唱。'"
      ]
     },
     "execution_count": 4,
     "metadata": {},
     "output_type": "execute_result"
    }
   ],
   "source": [
    "from illufly.chat import ChatQwen, ChatZhipu, FakeLLM\n",
    "from illufly.flow import Selector\n",
    "from illufly.rag import TextEmbeddings\n",
    "\n",
    "agent = Selector(\n",
    "    condition=\"similar\",\n",
    "    runnables=[\n",
    "        FakeLLM(description=\"模拟调用\"),\n",
    "        ChatQwen(description=\"写歌\"),\n",
    "        ChatZhipu(description=\"数据分析\")\n",
    "    ],\n",
    "    embeddings=TextEmbeddings()\n",
    ")\n",
    "\n",
    "task = \"写一首歌，3句\"\n",
    "agent.bind_provider({\"task\": task})\n",
    "agent(task)"
   ]
  },
  {
   "cell_type": "code",
   "execution_count": 5,
   "id": "894f4bfa-e490-4ead-bc6b-49a02053fe7b",
   "metadata": {},
   "outputs": [
    {
     "data": {
      "text/plain": [
       "{'task': '写一首歌，3句'}"
      ]
     },
     "execution_count": 5,
     "metadata": {},
     "output_type": "execute_result"
    }
   ],
   "source": [
    "agent.consumer_dict"
   ]
  },
  {
   "cell_type": "markdown",
   "id": "9de28635-ab3c-4b24-9541-1f63fad9d5c2",
   "metadata": {},
   "source": [
    "### 路由 PromptTemplate"
   ]
  },
  {
   "cell_type": "code",
   "execution_count": 6,
   "id": "6db8ec60-3de3-4b0d-b7d7-168f4124368e",
   "metadata": {},
   "outputs": [],
   "source": [
    "from illufly.types import PromptTemplate\n",
    "from illufly.flow import Selector\n",
    "\n",
    "r = Selector(\n",
    "    runnables=[PromptTemplate(text=\"请帮我：{{task}}\"), PromptTemplate(text=\"你是一个作家\")]\n",
    ")\n",
    "r.bind_provider({\"task\": \"写一首歌\"})\n",
    "\n",
    "r.selected"
   ]
  },
  {
   "cell_type": "markdown",
   "id": "5721697a-d4ee-4601-9e08-8f0c072784df",
   "metadata": {},
   "source": [
    "使用 lazy_binding_map 可以先声明对象，然后在合适的时机自动实现绑定。"
   ]
  },
  {
   "cell_type": "code",
   "execution_count": 1,
   "id": "e71427d8-9b51-4207-ab2d-38762a684456",
   "metadata": {},
   "outputs": [
    {
     "name": "stdout",
     "output_type": "stream",
     "text": [
      "\u001b[32m小\u001b[0m\u001b[32m兔子\u001b[0m\u001b[32m白\u001b[0m\u001b[32m又\u001b[0m\u001b[32m白，  \n",
      "两\u001b[0m\u001b[32m耳竖起来，\u001b[0m\u001b[32m  \n",
      "爱吃萝卜和\u001b[0m\u001b[32m青菜，  \n",
      "\u001b[0m\u001b[32m蹦蹦跳跳\u001b[0m\u001b[32m真可爱。\u001b[0m\u001b[32m\u001b[0m\n"
     ]
    },
    {
     "data": {
      "text/plain": [
       "'小兔子白又白，  \\n两耳竖起来，  \\n爱吃萝卜和青菜，  \\n蹦蹦跳跳真可爱。'"
      ]
     },
     "execution_count": 1,
     "metadata": {},
     "output_type": "execute_result"
    }
   ],
   "source": [
    "from illufly.chat import ChatQwen\n",
    "from illufly.flow import Selector\n",
    "from illufly.types import PromptTemplate\n",
    "\n",
    "t = Selector(\n",
    "    condition=lambda vars, runs: runs[0],\n",
    "    runnables=[\n",
    "        PromptTemplate(text=\"请帮我写一首关于《{{task}}》的儿歌，四句\"),\n",
    "        PromptTemplate(text=\"请帮我起一个{{name}}的名字，3个字\", lazy_binding_map={\"name\": \"task\"})\n",
    "    ]\n",
    ")\n",
    "qwen = ChatQwen(memory=t)\n",
    "qwen(\"小兔子\")"
   ]
  },
  {
   "cell_type": "markdown",
   "id": "5f910a53-d4c3-4fba-a13b-527f6c0e9f95",
   "metadata": {},
   "source": [
    "## 自定义 Selector\n",
    "\n",
    "### 返回 Runnable"
   ]
  },
  {
   "cell_type": "code",
   "execution_count": 3,
   "id": "339f3b55-2735-4086-a78e-b0a152008866",
   "metadata": {},
   "outputs": [
    {
     "data": {
      "text/plain": [
       "<PromptTemplate consumer_dict={'task'} text='请帮我写一首关于《{{task}}》的儿歌，四句'>"
      ]
     },
     "execution_count": 3,
     "metadata": {},
     "output_type": "execute_result"
    }
   ],
   "source": [
    "from illufly.chat import ChatQwen\n",
    "from illufly.flow import Selector\n",
    "from illufly.types import PromptTemplate\n",
    "\n",
    "t = Selector(\n",
    "    runnables=[\n",
    "        PromptTemplate(text=\"请帮我写一首关于《{{task}}》的儿歌，四句\"),\n",
    "        PromptTemplate(text=\"请帮我起一个{{name}}的名字，3个字\", lazy_binding_map={\"name\": \"task\"})\n",
    "    ],\n",
    "    condition=lambda vars, runs: runs[0]\n",
    ")\n",
    "t.select()"
   ]
  },
  {
   "cell_type": "markdown",
   "id": "a91619f9-a46f-4ca0-a252-6fc0ad7a0dd4",
   "metadata": {},
   "source": [
    "### 返回 name"
   ]
  },
  {
   "cell_type": "code",
   "execution_count": 4,
   "id": "f77b83a4-3554-4e43-8803-b629d9bf5177",
   "metadata": {},
   "outputs": [
    {
     "data": {
      "text/plain": [
       "'PromptTemplate.4355606272'"
      ]
     },
     "execution_count": 4,
     "metadata": {},
     "output_type": "execute_result"
    }
   ],
   "source": [
    "from illufly.chat import ChatQwen\n",
    "from illufly.flow import Selector\n",
    "from illufly.types import PromptTemplate\n",
    "\n",
    "t = Selector(\n",
    "    runnables=[\n",
    "        PromptTemplate(text=\"请帮我写一首关于《{{task}}》的儿歌，四句\"),\n",
    "        PromptTemplate(text=\"请帮我起一个{{name}}的名字，3个字\", lazy_binding_map={\"name\": \"task\"})\n",
    "    ],\n",
    "    condition=lambda vars, runs: runs[0].name\n",
    ")\n",
    "t.select()"
   ]
  },
  {
   "cell_type": "markdown",
   "id": "33e14a2e-93c7-494e-b0db-7c0a618e3a8c",
   "metadata": {},
   "source": [
    "### 返回 End"
   ]
  },
  {
   "cell_type": "code",
   "execution_count": 8,
   "id": "fe32c4c4-d2c3-4e20-8419-3d4a735aedf9",
   "metadata": {},
   "outputs": [
    {
     "data": {
      "text/plain": [
       "'__End__'"
      ]
     },
     "execution_count": 8,
     "metadata": {},
     "output_type": "execute_result"
    }
   ],
   "source": [
    "from illufly.flow import Selector\n",
    "\n",
    "t = Selector(\n",
    "    condition=lambda: \"__End__\"\n",
    ")\n",
    "t.selected"
   ]
  },
  {
   "cell_type": "markdown",
   "id": "22c0d62d-2d27-4803-99e3-0de76733645f",
   "metadata": {},
   "source": [
    "## select 方法和 selected 属性\n",
    "\n",
    "由于 `Selector` 的路由规则不是幂等操作，因此提供了专门的 `select` 方法来实现路由操作，而 `selected` 属性仅仅是取得路由后的结果。因此，会发生以下行为：\n",
    "\n",
    "- 如果 Selector 从未执行过 select 方法就要求提取 selected 属性，则自动执行一次 select 方法\n",
    "- 如果不重新执行 select 则 selected 属性始终返回上一次 select 结果"
   ]
  },
  {
   "cell_type": "code",
   "execution_count": null,
   "id": "07d58a30-24e5-45bc-94a8-4608b70cc1ab",
   "metadata": {},
   "outputs": [],
   "source": []
  }
 ],
 "metadata": {
  "kernelspec": {
   "display_name": "same_to_illufly",
   "language": "python",
   "name": "same_to_illufly"
  },
  "language_info": {
   "codemirror_mode": {
    "name": "ipython",
    "version": 3
   },
   "file_extension": ".py",
   "mimetype": "text/x-python",
   "name": "python",
   "nbconvert_exporter": "python",
   "pygments_lexer": "ipython3",
   "version": "3.10.0"
  }
 },
 "nbformat": 4,
 "nbformat_minor": 5
}
