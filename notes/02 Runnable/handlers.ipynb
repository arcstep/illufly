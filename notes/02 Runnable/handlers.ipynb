{
    "cells": [
        {
            "cell_type": "markdown",
            "id": "cf7535d0-93eb-40ba-ae0b-ef176c9212f2",
            "metadata": {},
            "source": [
                "## Runnable 的调用机制\n",
                "\n",
                "### Runnable 基类实现了 __call__ 方法\n",
                "\n",
                "几乎所有 illufly 的类将 Runnable 作为基类。\n",
                "\n",
                "Runnable 自己实现了 __call__ 方法，并在这个方法中调用 call 方法。<br>\n",
                "因为 call 是一个抽象方法，因此要求子类必须实现自己它。\n",
                "\n",
                "有了 __call__ 方法，你就可以将类的实例当作方法一样使用。\n",
                "\n",
                "**这样做的好处：**\n",
                "这很方便，也足够简单，因为你只需要记住 illufly 中的智能体对象只有一个方法，并且你不需要记住名字。"
            ]
        },
        {
            "cell_type": "code",
            "execution_count": 1,
            "id": "4b89b89a-793e-4e99-877d-a002b2da09cb",
            "metadata": {},
            "outputs": [
                {
                    "name": "stdout",
                    "output_type": "stream",
                    "text": [
                        "hi\n"
                    ]
                }
            ],
            "source": [
                "from illufly.types import Runnable\n",
                "\n",
                "class MyRun(Runnable):\n",
                "    def call(*args, **kwargs):\n",
                "        print(\"hi\")\n",
                "\n",
                "r = MyRun()\n",
                "r()"
            ]
        },
        {
            "cell_type": "markdown",
            "id": "7277941d-8386-42eb-91c6-ca66d52891ad",
            "metadata": {},
            "source": [
                "\n",
                "这样，Runnable 就可以通过 __call__ 方法调用自己的 call 方法。"
            ]
        },
        {
            "cell_type": "markdown",
            "id": "4dd720d8-587f-4ebe-9825-6beff6dff60a",
            "metadata": {},
            "source": [
                "### 使用 EventBlock 交换事件信息流"
            ]
        },
        {
            "cell_type": "code",
            "execution_count": 10,
            "id": "ea442c39-5f3d-4fc1-ba70-e6f31f4d9ae0",
            "metadata": {},
            "outputs": [
                {
                    "name": "stdout",
                    "output_type": "stream",
                    "text": [
                        "\u001b[32mhi\u001b[0m"
                    ]
                }
            ],
            "source": [
                "from illufly.types import Runnable, EventBlock\n",
                "\n",
                "class MyRun(Runnable):\n",
                "    def call(*args, **kwargs):\n",
                "        yield EventBlock(\"chunk\", \"hi\")\n",
                "\n",
                "r = MyRun()\n",
                "r()"
            ]
        },
        {
            "cell_type": "markdown",
            "id": "7d8b1f39-4ead-4ad4-9eb9-f263452c1f10",
            "metadata": {},
            "source": [
                "## 使用 Runnable 的流式输出"
            ]
        },
        {
            "cell_type": "markdown",
            "id": "33328f94-e294-48b8-8666-b2f10bb1ef8a",
            "metadata": {},
            "source": [
                "### 默认的 log 处理\n",
                "\n",
                "默认情况下，Runnable 的 handlers 列表中已经有 log 函数。\n",
                "因此你可以隐藏调用 log 来打印流式内容。"
            ]
        },
        {
            "cell_type": "code",
            "execution_count": 5,
            "id": "e1c932eb-e14d-4ce0-a144-be6af62a8abf",
            "metadata": {},
            "outputs": [
                {
                    "name": "stdout",
                    "output_type": "stream",
                    "text": [
                        "\u001b[32m这\u001b[0m\u001b[32m是\u001b[0m\u001b[32m一个\u001b[0m\u001b[32m模拟\u001b[0m\u001b[32m调用\u001b[0m\u001b[32m!\u001b[0m"
                    ]
                },
                {
                    "data": {
                        "text/plain": [
                            "'这是一个模拟调用!'"
                        ]
                    },
                    "execution_count": 5,
                    "metadata": {},
                    "output_type": "execute_result"
                }
            ],
            "source": [
                "# 使用 handler 函数的另一种方式：\n",
                "from illufly.chat import FakeLLM\n",
                "\n",
                "llm = FakeLLM()\n",
                "llm(\"你能帮我写一首关于兔子做梦的四句儿歌?\")"
            ]
        },
        {
            "cell_type": "code",
            "execution_count": 6,
            "id": "5a5b14ac-a755-426e-bb41-72421ab293d8",
            "metadata": {},
            "outputs": [
                {
                    "name": "stdout",
                    "output_type": "stream",
                    "text": [
                        "\u001b[32m这\u001b[0m\u001b[32m是\u001b[0m\u001b[32m一个\u001b[0m\u001b[32m模拟\u001b[0m\u001b[32m调用\u001b[0m\u001b[32m!\u001b[0m"
                    ]
                },
                {
                    "data": {
                        "text/plain": [
                            "'这是一个模拟调用!'"
                        ]
                    },
                    "execution_count": 6,
                    "metadata": {},
                    "output_type": "execute_result"
                }
            ],
            "source": [
                "# 这与下面的代码等价\n",
                "from illufly.io import log\n",
                "\n",
                "llm = FakeLLM(handlers=[log])\n",
                "llm(\"你能帮我写一首关于兔子做梦的四句儿歌?\")"
            ]
        },
        {
            "cell_type": "markdown",
            "id": "bdc5781b-c5a2-4b2b-8026-e9fd09c4e56d",
            "metadata": {},
            "source": [
                "### 异步处理的 handler\n",
                "\n",
                "只要 handler 中有一个是异步处理器，你就必须使用异步处理。<br>\n",
                "alog 是 log 的异步版本。"
            ]
        },
        {
            "cell_type": "code",
            "execution_count": 1,
            "id": "b81402ab-914c-4cb9-a9dd-c71b9c403301",
            "metadata": {},
            "outputs": [
                {
                    "name": "stdout",
                    "output_type": "stream",
                    "text": [
                        "\u001b[32m这\u001b[0m\u001b[32m是\u001b[0m\u001b[32m一个\u001b[0m\u001b[32m模拟\u001b[0m\u001b[32m调用\u001b[0m\u001b[32m!\u001b[0m"
                    ]
                },
                {
                    "data": {
                        "text/plain": [
                            "'这是一个模拟调用!'"
                        ]
                    },
                    "execution_count": 1,
                    "metadata": {},
                    "output_type": "execute_result"
                }
            ],
            "source": [
                "from illufly.chat import FakeLLM\n",
                "from illufly.io import alog\n",
                "\n",
                "llm = FakeLLM(handlers=[alog])\n",
                "await llm(\"你能帮我写一首关于兔子做梦的四句儿歌?\")"
            ]
        },
        {
            "cell_type": "markdown",
            "id": "e0c20791-a686-4bb6-a95b-99f6e68caf8d",
            "metadata": {},
            "source": [
                "### `illufly.io` 中的 log 和 usage\n",
                "\n",
                "usage 处理函数用于捕捉生成器结果中的 "
            ]
        },
        {
            "cell_type": "code",
            "execution_count": 9,
            "id": "ddea64ee-d2aa-4830-8342-5f3cfa2cc97c",
            "metadata": {},
            "outputs": [
                {
                    "name": "stdout",
                    "output_type": "stream",
                    "text": [
                        "\u001b[32m清\u001b[0m\u001b[32m晨\u001b[0m\u001b[32m静\u001b[0m\u001b[32m悄\u001b[0m\u001b[32m悄\u001b[0m\u001b[32m，\u001b[0m\u001b[32m兔\u001b[0m\u001b[32m儿\u001b[0m\u001b[32m梦\u001b[0m\u001b[32m中\u001b[0m\u001b[32m跳\u001b[0m\u001b[32m。\n",
                        "\u001b[0m\u001b[32m白\u001b[0m\u001b[32m雪\u001b[0m\u001b[32m映\u001b[0m\u001b[32m夜\u001b[0m\u001b[32m晚\u001b[0m\u001b[32m，\u001b[0m\u001b[32m兔\u001b[0m\u001b[32m儿\u001b[0m\u001b[32m梦\u001b[0m\u001b[32m中\u001b[0m\u001b[32m藏\u001b[0m\u001b[32m。\n",
                        "\u001b[0m\u001b[32m梦\u001b[0m\u001b[32m里\u001b[0m\u001b[32m花\u001b[0m\u001b[32m园\u001b[0m\u001b[32m美\u001b[0m\u001b[32m，\u001b[0m\u001b[32m兔\u001b[0m\u001b[32m儿\u001b[0m\u001b[32m跳\u001b[0m\u001b[32m跃\u001b[0m\u001b[32m着\u001b[0m\u001b[32m。\n",
                        "\u001b[0m\u001b[32m梦\u001b[0m\u001b[32m醒\u001b[0m\u001b[32m时\u001b[0m\u001b[32m惊\u001b[0m\u001b[32m醒\u001b[0m\u001b[32m，\u001b[0m\u001b[32m兔\u001b[0m\u001b[32m儿\u001b[0m\u001b[32m又\u001b[0m\u001b[32m在\u001b[0m\u001b[32m梦\u001b[0m\u001b[32m。\u001b[0m\n",
                        "{\"block_type\": \"usage\", \"content\": \"{\\\"prompt_tokens\\\": 35, \\\"completion_tokens\\\": 93, \\\"total_tokens\\\": 128}\", \"created_at\": \"2024-10-05T16:07:38.723463\", \"calling_info\": {\"request_id\": null, \"input\": {\"model\": \"gpt-3.5-turbo\", \"messages\": [{\"role\": \"user\", \"content\": \"你能帮我写一首关于兔子做梦的四句儿歌?\"}], \"tools\": null, \"stream\": true, \"stream_options\": {\"include_usage\": true}}, \"output\": [{\"chunk\": \"清\"}, {\"chunk\": \"晨\"}, {\"chunk\": \"静\"}, {\"chunk\": \"悄\"}, {\"chunk\": \"悄\"}, {\"chunk\": \"，\"}, {\"chunk\": \"兔\"}, {\"chunk\": \"儿\"}, {\"chunk\": \"梦\"}, {\"chunk\": \"中\"}, {\"chunk\": \"跳\"}, {\"chunk\": \"。\\n\"}, {\"chunk\": \"白\"}, {\"chunk\": \"雪\"}, {\"chunk\": \"映\"}, {\"chunk\": \"夜\"}, {\"chunk\": \"晚\"}, {\"chunk\": \"，\"}, {\"chunk\": \"兔\"}, {\"chunk\": \"儿\"}, {\"chunk\": \"梦\"}, {\"chunk\": \"中\"}, {\"chunk\": \"藏\"}, {\"chunk\": \"。\\n\"}, {\"chunk\": \"梦\"}, {\"chunk\": \"里\"}, {\"chunk\": \"花\"}, {\"chunk\": \"园\"}, {\"chunk\": \"美\"}, {\"chunk\": \"，\"}, {\"chunk\": \"兔\"}, {\"chunk\": \"儿\"}, {\"chunk\": \"跳\"}, {\"chunk\": \"跃\"}, {\"chunk\": \"着\"}, {\"chunk\": \"。\\n\"}, {\"chunk\": \"梦\"}, {\"chunk\": \"醒\"}, {\"chunk\": \"时\"}, {\"chunk\": \"惊\"}, {\"chunk\": \"醒\"}, {\"chunk\": \"，\"}, {\"chunk\": \"兔\"}, {\"chunk\": \"儿\"}, {\"chunk\": \"又\"}, {\"chunk\": \"在\"}, {\"chunk\": \"梦\"}, {\"chunk\": \"。\"}]}, \"runnable_info\": {\"class_name\": \"ChatOpenAI\", \"agent_name\": \"ChatOpenAI\", \"agent_description\": \"我还没有工具描述\", \"model_name\": \"gpt-3.5-turbo\", \"base_url\": \"https://ap***************nline/v1\", \"api_key\": \"sk-8WLGNC5*********************************063f852c\"}}\n"
                    ]
                },
                {
                    "data": {
                        "text/plain": [
                            "'清晨静悄悄，兔儿梦中跳。\\n白雪映夜晚，兔儿梦中藏。\\n梦里花园美，兔儿跳跃着。\\n梦醒时惊醒，兔儿又在梦。'"
                        ]
                    },
                    "execution_count": 9,
                    "metadata": {},
                    "output_type": "execute_result"
                }
            ],
            "source": [
                "from illufly.chat import ChatOpenAI\n",
                "from illufly.io import log, usage\n",
                "\n",
                "openai = ChatOpenAI(handlers=[log, usage], verbose=True)\n",
                "openai(\"你能帮我写一首关于兔子做梦的四句儿歌?\")"
            ]
        },
        {
            "cell_type": "markdown",
            "id": "c8bf1661-3e5c-47e5-af3c-e913365d3469",
            "metadata": {},
            "source": [
                "## 使用绑定机制传播 handlers"
            ]
        },
        {
            "cell_type": "code",
            "execution_count": 1,
            "id": "66ad0706-a4f2-42ae-8703-d609d088d741",
            "metadata": {},
            "outputs": [],
            "source": [
                "from illufly.types import Runnable\n",
                "from illufly.chat import FakeLLM\n",
                "from illufly.io import log"
            ]
        },
        {
            "cell_type": "markdown",
            "id": "e6f1adf1-7326-431e-b094-0502dc0a839d",
            "metadata": {},
            "source": [
                "### 定义一个新的 handler\n",
                "\n",
                "定义 `handler` 必须使用形如 `block,, verbose, **kwargs` 这样的入参结构："
            ]
        },
        {
            "cell_type": "code",
            "execution_count": 2,
            "id": "e944c29d-8e05-40cf-9af4-ad60cc95d0d1",
            "metadata": {},
            "outputs": [],
            "source": [
                "def myhandler(block, verbose=False, **kwargs):\n",
                "    if block.block_type == 'info':\n",
                "        print(\"I got a [info] event, but I wont tell you...\")"
            ]
        },
        {
            "cell_type": "code",
            "execution_count": 3,
            "id": "d48517d0-fc59-4d06-9ece-a3f8e7949295",
            "metadata": {},
            "outputs": [
                {
                    "name": "stdout",
                    "output_type": "stream",
                    "text": [
                        "\u001b[32m这\u001b[0m\u001b[32m是\u001b[0m\u001b[32m一个\u001b[0m\u001b[32m模拟\u001b[0m\u001b[32m调用\u001b[0m\u001b[32m!\u001b[0m"
                    ]
                },
                {
                    "data": {
                        "text/plain": [
                            "'这是一个模拟调用!'"
                        ]
                    },
                    "execution_count": 3,
                    "metadata": {},
                    "output_type": "execute_result"
                }
            ],
            "source": [
                "llm = FakeLLM()\n",
                "llm(\"hi\")"
            ]
        },
        {
            "cell_type": "markdown",
            "id": "884a4d1d-6be2-4059-bf45-9b21af0596e4",
            "metadata": {},
            "source": [
                "### 将 provider 中的 handler 传递给 consumer"
            ]
        },
        {
            "cell_type": "code",
            "execution_count": 4,
            "id": "b83cb34f-fbc3-423a-b8cc-ce107614bd5a",
            "metadata": {},
            "outputs": [
                {
                    "name": "stdout",
                    "output_type": "stream",
                    "text": [
                        "I got a [info] event, but I wont tell you...\n",
                        "\u001b[32m这\u001b[0m\u001b[32m是\u001b[0m\u001b[32m一个\u001b[0m\u001b[32m模拟\u001b[0m\u001b[32m调用\u001b[0m\u001b[32m!\u001b[0m"
                    ]
                }
            ],
            "source": [
                "class myrun(Runnable):\n",
                "    def call(self, prompt, **kwargs):\n",
                "        llm = FakeLLM()\n",
                "        self.bind_consumer(llm)\n",
                "        resp = llm(prompt)\n",
                "r = myrun(handlers = [log, myhandler])\n",
                "r(\"hi\")"
            ]
        },
        {
            "cell_type": "code",
            "execution_count": 5,
            "id": "0d6f0ae1-395d-4b4e-b3f2-96e47f8f8b67",
            "metadata": {},
            "outputs": [
                {
                    "data": {
                        "text/plain": [
                            "{'provider': <Runnable myrun.4767904816>,\n",
                            " 'consumer_tree': [(<Runnable FakeLLM.4767904144>,\n",
                            "   {},\n",
                            "   {'provider': <Runnable FakeLLM.4767904144>, 'consumer_tree': []})]}"
                        ]
                    },
                    "execution_count": 5,
                    "metadata": {},
                    "output_type": "execute_result"
                }
            ],
            "source": [
                "r.consumer_tree"
            ]
        },
        {
            "cell_type": "code",
            "execution_count": 8,
            "id": "f5c23735-047b-48a9-81cb-fbfe0960cf02",
            "metadata": {},
            "outputs": [
                {
                    "data": {
                        "text/plain": [
                            "{'consumer': <Runnable FakeLLM.4767898768>, 'provider_tree': []}"
                        ]
                    },
                    "execution_count": 8,
                    "metadata": {},
                    "output_type": "execute_result"
                }
            ],
            "source": [
                "llm.provider_tree"
            ]
        },
        {
            "cell_type": "code",
            "execution_count": null,
            "id": "621a5948-d836-4326-96c8-a26b1cdfe375",
            "metadata": {},
            "outputs": [],
            "source": []
        }
    ],
    "metadata": {
        "kernelspec": {
            "display_name": "textlong-same-ipykernel",
            "language": "python",
            "name": "textlong-same-ipykernel"
        },
        "language_info": {
            "codemirror_mode": {
                "name": "ipython",
                "version": 3
            },
            "file_extension": ".py",
            "mimetype": "text/x-python",
            "name": "python",
            "nbconvert_exporter": "python",
            "pygments_lexer": "ipython3",
            "version": "3.10.0"
        }
    },
    "nbformat": 4,
    "nbformat_minor": 5
}