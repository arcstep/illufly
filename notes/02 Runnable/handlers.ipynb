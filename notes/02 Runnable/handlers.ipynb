{
 "cells": [
  {
   "cell_type": "markdown",
   "id": "cf7535d0-93eb-40ba-ae0b-ef176c9212f2",
   "metadata": {},
   "source": [
    "## Runnable 的调用机制\n",
    "\n",
    "### Runnable 基类实现了 __call__ 方法\n",
    "\n",
    "几乎所有 illufly 的类将 Runnable 作为基类。\n",
    "\n",
    "Runnable 自己实现了 __call__ 方法，并在这个方法中调用 call 方法。<br>\n",
    "因为 call 是一个抽象方法，因此要求子类必须实现自己它。\n",
    "\n",
    "有了 __call__ 方法，你就可以将类的实例当作方法一样使用。\n",
    "\n",
    "**这样做的好处：**\n",
    "这很方便，也足够简单，因为你只需要记住 illufly 中的智能体对象只有一个方法，并且你不需要记住名字。"
   ]
  },
  {
   "cell_type": "code",
   "execution_count": 1,
   "id": "4b89b89a-793e-4e99-877d-a002b2da09cb",
   "metadata": {},
   "outputs": [
    {
     "name": "stdout",
     "output_type": "stream",
     "text": [
      "hi\n"
     ]
    }
   ],
   "source": [
    "from illufly.types import Runnable\n",
    "\n",
    "class MyRun(Runnable):\n",
    "    def call(*args, **kwargs):\n",
    "        print(\"hi\")\n",
    "\n",
    "r = MyRun()\n",
    "r()"
   ]
  },
  {
   "cell_type": "markdown",
   "id": "7277941d-8386-42eb-91c6-ca66d52891ad",
   "metadata": {},
   "source": [
    "\n",
    "这样，Runnable 就可以通过 __call__ 方法调用自己的 call 方法。\n",
    "\n",
    "### illufly 框架使用 EventBlock 对象实现信息流的交换。"
   ]
  },
  {
   "cell_type": "markdown",
   "id": "7d8b1f39-4ead-4ad4-9eb9-f263452c1f10",
   "metadata": {},
   "source": [
    "## 使用 Runnable 的流式输出"
   ]
  },
  {
   "cell_type": "markdown",
   "id": "33328f94-e294-48b8-8666-b2f10bb1ef8a",
   "metadata": {},
   "source": [
    "### 默认的 log 处理\n",
    "\n",
    "默认情况下，Runnable 的 handlers 列表中已经有 log 函数。\n",
    "因此你可以隐藏调用 log 来打印流式内容。"
   ]
  },
  {
   "cell_type": "code",
   "execution_count": 5,
   "id": "e1c932eb-e14d-4ce0-a144-be6af62a8abf",
   "metadata": {},
   "outputs": [
    {
     "name": "stdout",
     "output_type": "stream",
     "text": [
      "\u001b[32m这\u001b[0m\u001b[32m是\u001b[0m\u001b[32m一个\u001b[0m\u001b[32m模拟\u001b[0m\u001b[32m调用\u001b[0m\u001b[32m!\u001b[0m"
     ]
    },
    {
     "data": {
      "text/plain": [
       "'这是一个模拟调用!'"
      ]
     },
     "execution_count": 5,
     "metadata": {},
     "output_type": "execute_result"
    }
   ],
   "source": [
    "# 使用 handler 函数的另一种方式：\n",
    "from illufly.chat import FakeLLM\n",
    "\n",
    "llm = FakeLLM()\n",
    "llm(\"你能帮我写一首关于兔子做梦的四句儿歌?\")"
   ]
  },
  {
   "cell_type": "code",
   "execution_count": 6,
   "id": "5a5b14ac-a755-426e-bb41-72421ab293d8",
   "metadata": {},
   "outputs": [
    {
     "name": "stdout",
     "output_type": "stream",
     "text": [
      "\u001b[32m这\u001b[0m\u001b[32m是\u001b[0m\u001b[32m一个\u001b[0m\u001b[32m模拟\u001b[0m\u001b[32m调用\u001b[0m\u001b[32m!\u001b[0m"
     ]
    },
    {
     "data": {
      "text/plain": [
       "'这是一个模拟调用!'"
      ]
     },
     "execution_count": 6,
     "metadata": {},
     "output_type": "execute_result"
    }
   ],
   "source": [
    "# 这与下面的代码等价\n",
    "from illufly.io import log\n",
    "\n",
    "llm = FakeLLM(handlers=[log])\n",
    "llm(\"你能帮我写一首关于兔子做梦的四句儿歌?\")"
   ]
  },
  {
   "cell_type": "markdown",
   "id": "bdc5781b-c5a2-4b2b-8026-e9fd09c4e56d",
   "metadata": {},
   "source": [
    "### 你可以更换为异步处理"
   ]
  },
  {
   "cell_type": "code",
   "execution_count": 1,
   "id": "b81402ab-914c-4cb9-a9dd-c71b9c403301",
   "metadata": {},
   "outputs": [
    {
     "name": "stdout",
     "output_type": "stream",
     "text": [
      "\u001b[32m这\u001b[0m\u001b[32m是\u001b[0m\u001b[32m一个\u001b[0m\u001b[32m模拟\u001b[0m\u001b[32m调用\u001b[0m\u001b[32m!\u001b[0m"
     ]
    },
    {
     "data": {
      "text/plain": [
       "'这是一个模拟调用!'"
      ]
     },
     "execution_count": 1,
     "metadata": {},
     "output_type": "execute_result"
    }
   ],
   "source": [
    "from illufly.chat import FakeLLM\n",
    "from illufly.io import alog\n",
    "\n",
    "llm = FakeLLM(handlers=[alog])\n",
    "await llm(\"你能帮我写一首关于兔子做梦的四句儿歌?\")"
   ]
  },
  {
   "cell_type": "markdown",
   "id": "e0c20791-a686-4bb6-a95b-99f6e68caf8d",
   "metadata": {},
   "source": [
    "### 同时使用 log 和 usage\n",
    "\n",
    "usage 处理函数用于捕捉生成器结果中的 "
   ]
  },
  {
   "cell_type": "code",
   "execution_count": 9,
   "id": "ddea64ee-d2aa-4830-8342-5f3cfa2cc97c",
   "metadata": {},
   "outputs": [
    {
     "name": "stdout",
     "output_type": "stream",
     "text": [
      "\u001b[32m清\u001b[0m\u001b[32m晨\u001b[0m\u001b[32m静\u001b[0m\u001b[32m悄\u001b[0m\u001b[32m悄\u001b[0m\u001b[32m，\u001b[0m\u001b[32m兔\u001b[0m\u001b[32m儿\u001b[0m\u001b[32m梦\u001b[0m\u001b[32m中\u001b[0m\u001b[32m跳\u001b[0m\u001b[32m。\n",
      "\u001b[0m\u001b[32m白\u001b[0m\u001b[32m雪\u001b[0m\u001b[32m映\u001b[0m\u001b[32m夜\u001b[0m\u001b[32m晚\u001b[0m\u001b[32m，\u001b[0m\u001b[32m兔\u001b[0m\u001b[32m儿\u001b[0m\u001b[32m梦\u001b[0m\u001b[32m中\u001b[0m\u001b[32m藏\u001b[0m\u001b[32m。\n",
      "\u001b[0m\u001b[32m梦\u001b[0m\u001b[32m里\u001b[0m\u001b[32m花\u001b[0m\u001b[32m园\u001b[0m\u001b[32m美\u001b[0m\u001b[32m，\u001b[0m\u001b[32m兔\u001b[0m\u001b[32m儿\u001b[0m\u001b[32m跳\u001b[0m\u001b[32m跃\u001b[0m\u001b[32m着\u001b[0m\u001b[32m。\n",
      "\u001b[0m\u001b[32m梦\u001b[0m\u001b[32m醒\u001b[0m\u001b[32m时\u001b[0m\u001b[32m惊\u001b[0m\u001b[32m醒\u001b[0m\u001b[32m，\u001b[0m\u001b[32m兔\u001b[0m\u001b[32m儿\u001b[0m\u001b[32m又\u001b[0m\u001b[32m在\u001b[0m\u001b[32m梦\u001b[0m\u001b[32m。\u001b[0m\n",
      "{\"block_type\": \"usage\", \"content\": \"{\\\"prompt_tokens\\\": 35, \\\"completion_tokens\\\": 93, \\\"total_tokens\\\": 128}\", \"created_at\": \"2024-10-05T16:07:38.723463\", \"calling_info\": {\"request_id\": null, \"input\": {\"model\": \"gpt-3.5-turbo\", \"messages\": [{\"role\": \"user\", \"content\": \"你能帮我写一首关于兔子做梦的四句儿歌?\"}], \"tools\": null, \"stream\": true, \"stream_options\": {\"include_usage\": true}}, \"output\": [{\"chunk\": \"清\"}, {\"chunk\": \"晨\"}, {\"chunk\": \"静\"}, {\"chunk\": \"悄\"}, {\"chunk\": \"悄\"}, {\"chunk\": \"，\"}, {\"chunk\": \"兔\"}, {\"chunk\": \"儿\"}, {\"chunk\": \"梦\"}, {\"chunk\": \"中\"}, {\"chunk\": \"跳\"}, {\"chunk\": \"。\\n\"}, {\"chunk\": \"白\"}, {\"chunk\": \"雪\"}, {\"chunk\": \"映\"}, {\"chunk\": \"夜\"}, {\"chunk\": \"晚\"}, {\"chunk\": \"，\"}, {\"chunk\": \"兔\"}, {\"chunk\": \"儿\"}, {\"chunk\": \"梦\"}, {\"chunk\": \"中\"}, {\"chunk\": \"藏\"}, {\"chunk\": \"。\\n\"}, {\"chunk\": \"梦\"}, {\"chunk\": \"里\"}, {\"chunk\": \"花\"}, {\"chunk\": \"园\"}, {\"chunk\": \"美\"}, {\"chunk\": \"，\"}, {\"chunk\": \"兔\"}, {\"chunk\": \"儿\"}, {\"chunk\": \"跳\"}, {\"chunk\": \"跃\"}, {\"chunk\": \"着\"}, {\"chunk\": \"。\\n\"}, {\"chunk\": \"梦\"}, {\"chunk\": \"醒\"}, {\"chunk\": \"时\"}, {\"chunk\": \"惊\"}, {\"chunk\": \"醒\"}, {\"chunk\": \"，\"}, {\"chunk\": \"兔\"}, {\"chunk\": \"儿\"}, {\"chunk\": \"又\"}, {\"chunk\": \"在\"}, {\"chunk\": \"梦\"}, {\"chunk\": \"。\"}]}, \"runnable_info\": {\"class_name\": \"ChatOpenAI\", \"agent_name\": \"ChatOpenAI\", \"agent_description\": \"我还没有工具描述\", \"model_name\": \"gpt-3.5-turbo\", \"base_url\": \"https://ap***************nline/v1\", \"api_key\": \"sk-8WLGNC5*********************************063f852c\"}}\n"
     ]
    },
    {
     "data": {
      "text/plain": [
       "'清晨静悄悄，兔儿梦中跳。\\n白雪映夜晚，兔儿梦中藏。\\n梦里花园美，兔儿跳跃着。\\n梦醒时惊醒，兔儿又在梦。'"
      ]
     },
     "execution_count": 9,
     "metadata": {},
     "output_type": "execute_result"
    }
   ],
   "source": [
    "from illufly.chat import ChatOpenAI\n",
    "from illufly.io import log, usage\n",
    "\n",
    "openai = ChatOpenAI(handlers=[log, usage], verbose=True)\n",
    "openai(\"你能帮我写一首关于兔子做梦的四句儿歌?\")"
   ]
  },
  {
   "cell_type": "markdown",
   "id": "2024f478-d595-4d46-aed1-0bce9b93be0e",
   "metadata": {},
   "source": [
    "### 异步调用"
   ]
  },
  {
   "cell_type": "code",
   "execution_count": 1,
   "id": "e38511c4-d691-41a0-a2b0-3fffe556a928",
   "metadata": {},
   "outputs": [
    {
     "name": "stdout",
     "output_type": "stream",
     "text": [
      "\u001b[32m兔\u001b[0m\u001b[32m子\u001b[0m\u001b[32m在\u001b[0m\u001b[32m睡\u001b[0m\u001b[32m梦\u001b[0m\u001b[32m中\u001b[0m\u001b[32m\n",
      "\u001b[0m\u001b[32m甜\u001b[0m\u001b[32m甜\u001b[0m\u001b[32m的\u001b[0m\u001b[32m笑\u001b[0m\u001b[32m容\u001b[0m\u001b[32m如\u001b[0m\u001b[32m阳\u001b[0m\u001b[32m光\u001b[0m\u001b[32m照\u001b[0m\u001b[32m\n",
      "\u001b[0m\u001b[32m梦\u001b[0m\u001b[32m见\u001b[0m\u001b[32m自\u001b[0m\u001b[32m己\u001b[0m\u001b[32m变\u001b[0m\u001b[32m成\u001b[0m\u001b[32m了\u001b[0m\u001b[32m大\u001b[0m\u001b[32m王\u001b[0m\u001b[32m\n",
      "\u001b[0m\u001b[32m嘴\u001b[0m\u001b[32m边\u001b[0m\u001b[32m还\u001b[0m\u001b[32m挂\u001b[0m\u001b[32m着\u001b[0m\u001b[32m胡\u001b[0m\u001b[32m萝\u001b[0m\u001b[32m卜\u001b[0m\u001b[32m香\u001b[0m\n",
      "[USAGE] \u001b[34m{\"prompt_tokens\": 35, \"completion_tokens\": 57, \"total_tokens\": 92}\u001b[0m\n"
     ]
    },
    {
     "data": {
      "text/plain": [
       "[{'role': 'user', 'content': '你能帮我写一首关于兔子做梦的四句儿歌?'},\n",
       " {'role': 'assistant', 'content': '兔子在睡梦中\\n甜甜的笑容如阳光照\\n梦见自己变成了大王\\n嘴边还挂着胡萝卜香'}]"
      ]
     },
     "execution_count": 1,
     "metadata": {},
     "output_type": "execute_result"
    }
   ],
   "source": [
    "# 异步输出\n",
    "from illufly.chat import ChatOpenAI\n",
    "from illufly.io import alog\n",
    "\n",
    "a = ChatOpenAI(model=\"gpt-3.5-turbo\")\n",
    "await a(\n",
    "    \"你能帮我写一首关于兔子做梦的四句儿歌?\",\n",
    "    verbose=True,\n",
    "    handlers=[alog]\n",
    ")\n",
    "a.memory"
   ]
  },
  {
   "cell_type": "code",
   "execution_count": null,
   "id": "925a7592-4584-44de-952e-577d8456372f",
   "metadata": {},
   "outputs": [],
   "source": []
  }
 ],
 "metadata": {
  "kernelspec": {
   "display_name": "textlong-same-ipykernel",
   "language": "python",
   "name": "textlong-same-ipykernel"
  },
  "language_info": {
   "codemirror_mode": {
    "name": "ipython",
    "version": 3
   },
   "file_extension": ".py",
   "mimetype": "text/x-python",
   "name": "python",
   "nbconvert_exporter": "python",
   "pygments_lexer": "ipython3",
   "version": "3.10.0"
  }
 },
 "nbformat": 4,
 "nbformat_minor": 5
}
