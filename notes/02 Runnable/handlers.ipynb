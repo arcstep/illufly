{
 "cells": [
  {
   "cell_type": "markdown",
   "id": "cf7535d0-93eb-40ba-ae0b-ef176c9212f2",
   "metadata": {},
   "source": [
    "## Runnable 的调用机制\n",
    "\n",
    "### Runnable 基类实现了 __call__ 方法\n",
    "\n",
    "几乎所有 illufly 的类将 Runnable 作为基类。\n",
    "\n",
    "Runnable 自己实现了 __call__ 方法，并在这个方法中调用 call 方法。<br>\n",
    "因为 call 是一个抽象方法，因此要求子类必须实现自己它。\n",
    "\n",
    "有了 __call__ 方法，你就可以将类的实例当作方法一样使用。\n",
    "\n",
    "**这样做的好处：**\n",
    "这很方便，也足够简单，因为你只需要记住 illufly 中的智能体对象只有一个方法，并且你不需要记住名字。"
   ]
  },
  {
   "cell_type": "code",
   "execution_count": 1,
   "id": "4b89b89a-793e-4e99-877d-a002b2da09cb",
   "metadata": {},
   "outputs": [
    {
     "name": "stdout",
     "output_type": "stream",
     "text": [
      "\u001b[33mhi\u001b[0m"
     ]
    }
   ],
   "source": [
    "from illufly.types import Runnable\n",
    "\n",
    "class MyRun(Runnable):\n",
    "    def call(*args, **kwargs):\n",
    "        return \"hi\"\n",
    "\n",
    "r = MyRun()\n",
    "r()"
   ]
  },
  {
   "cell_type": "markdown",
   "id": "7277941d-8386-42eb-91c6-ca66d52891ad",
   "metadata": {},
   "source": [
    "\n",
    "这样，Runnable 就可以通过 __call__ 方法调用自己的 call 方法。"
   ]
  },
  {
   "cell_type": "markdown",
   "id": "4dd720d8-587f-4ebe-9825-6beff6dff60a",
   "metadata": {},
   "source": [
    "### 使用 EventBlock 交换事件信息流"
   ]
  },
  {
   "cell_type": "code",
   "execution_count": 2,
   "id": "ea442c39-5f3d-4fc1-ba70-e6f31f4d9ae0",
   "metadata": {},
   "outputs": [
    {
     "name": "stdout",
     "output_type": "stream",
     "text": [
      "\u001b[32mhi\u001b[0m"
     ]
    }
   ],
   "source": [
    "from illufly.types import Runnable, EventBlock\n",
    "\n",
    "class MyRun(Runnable):\n",
    "    def call(*args, **kwargs):\n",
    "        yield EventBlock(\"chunk\", \"hi\")\n",
    "\n",
    "r = MyRun()\n",
    "r()"
   ]
  },
  {
   "cell_type": "markdown",
   "id": "7d8b1f39-4ead-4ad4-9eb9-f263452c1f10",
   "metadata": {},
   "source": [
    "## 使用 Runnable 的流式输出"
   ]
  },
  {
   "cell_type": "markdown",
   "id": "33328f94-e294-48b8-8666-b2f10bb1ef8a",
   "metadata": {},
   "source": [
    "### 默认的 log 处理\n",
    "\n",
    "默认情况下，Runnable 的 handlers 列表中已经有 log 函数。\n",
    "因此你可以隐藏调用 log 来打印流式内容。"
   ]
  },
  {
   "cell_type": "code",
   "execution_count": 3,
   "id": "e1c932eb-e14d-4ce0-a144-be6af62a8abf",
   "metadata": {},
   "outputs": [
    {
     "name": "stdout",
     "output_type": "stream",
     "text": [
      "\u001b[32mR\u001b[0m\u001b[32me\u001b[0m\u001b[32mp\u001b[0m\u001b[32ml\u001b[0m\u001b[32my\u001b[0m\u001b[32m \u001b[0m\u001b[32m>\u001b[0m\u001b[32m>\u001b[0m\u001b[32m \u001b[0m\u001b[32m你\u001b[0m\u001b[32m能\u001b[0m\u001b[32m帮\u001b[0m\u001b[32m我\u001b[0m\u001b[32m写\u001b[0m\u001b[32m一\u001b[0m\u001b[32m首\u001b[0m\u001b[32m关\u001b[0m\u001b[32m于\u001b[0m\u001b[32m兔\u001b[0m\u001b[32m子\u001b[0m\u001b[32m做\u001b[0m\u001b[32m梦\u001b[0m\u001b[32m的\u001b[0m\u001b[32m四\u001b[0m\u001b[32m句\u001b[0m\u001b[32m儿\u001b[0m\u001b[32m歌\u001b[0m\u001b[32m?\u001b[0m\n"
     ]
    },
    {
     "data": {
      "text/plain": [
       "'Reply >> 你能帮我写一首关于兔子做梦的四句儿歌?'"
      ]
     },
     "execution_count": 3,
     "metadata": {},
     "output_type": "execute_result"
    }
   ],
   "source": [
    "# 使用 handler 函数的另一种方式：\n",
    "from illufly.chat import FakeLLM\n",
    "\n",
    "llm = FakeLLM()\n",
    "llm(\"你能帮我写一首关于兔子做梦的四句儿歌?\")"
   ]
  },
  {
   "cell_type": "code",
   "execution_count": 4,
   "id": "5a5b14ac-a755-426e-bb41-72421ab293d8",
   "metadata": {},
   "outputs": [
    {
     "name": "stdout",
     "output_type": "stream",
     "text": [
      "\u001b[32mR\u001b[0m\u001b[32me\u001b[0m\u001b[32mp\u001b[0m\u001b[32ml\u001b[0m\u001b[32my\u001b[0m\u001b[32m \u001b[0m\u001b[32m>\u001b[0m\u001b[32m>\u001b[0m\u001b[32m \u001b[0m\u001b[32m你\u001b[0m\u001b[32m能\u001b[0m\u001b[32m帮\u001b[0m\u001b[32m我\u001b[0m\u001b[32m写\u001b[0m\u001b[32m一\u001b[0m\u001b[32m首\u001b[0m\u001b[32m关\u001b[0m\u001b[32m于\u001b[0m\u001b[32m兔\u001b[0m\u001b[32m子\u001b[0m\u001b[32m做\u001b[0m\u001b[32m梦\u001b[0m\u001b[32m的\u001b[0m\u001b[32m四\u001b[0m\u001b[32m句\u001b[0m\u001b[32m儿\u001b[0m\u001b[32m歌\u001b[0m\u001b[32m?\u001b[0m\n"
     ]
    },
    {
     "data": {
      "text/plain": [
       "'Reply >> 你能帮我写一首关于兔子做梦的四句儿歌?'"
      ]
     },
     "execution_count": 4,
     "metadata": {},
     "output_type": "execute_result"
    }
   ],
   "source": [
    "# 这与下面的代码等价\n",
    "from illufly.io import log\n",
    "\n",
    "llm = FakeLLM(handlers=[log])\n",
    "llm(\"你能帮我写一首关于兔子做梦的四句儿歌?\")"
   ]
  },
  {
   "cell_type": "code",
   "execution_count": 5,
   "id": "e0f67b28-5afc-4594-bfbe-4213321bc5ab",
   "metadata": {},
   "outputs": [
    {
     "data": {
      "text/plain": [
       "{'response': '响应内容',\n",
       " 'sleep': '睡眠时间',\n",
       " 'end_chk': '是否在最后输出一个 EndBlock',\n",
       " 'start_marker': '开始标记，默认为 ```',\n",
       " 'end_marker': '结束标记，默认为 ```',\n",
       " 'final_answer_prompt': '最终答案提示词，可通过修改环境变量 ILLUFLY_FINAL_ANSWER_PROMPT 修改默认值',\n",
       " 'func': '用于自定义工具的同步执行函数',\n",
       " 'async_func': '用于自定义工具的异步执行函数',\n",
       " 'name': '工具名称',\n",
       " 'handlers': 'EventBlock 迭代器处理函数列表，默认为 [log]，当调用 call 方法时，会使用该列表中的函数逐个处理 EventBlock',\n",
       " 'threads_group': '如果由 illufly 管理线程池实现并发或异步，则可以指定线程组名称，默认为 DEFAULT',\n",
       " 'providers': '实例的 consumer_dict 属性由 providers 列表中每个 Runnable 的 provider_dict 属性提供',\n",
       " 'consumers': '实例的 provider_dict 属性将被 consumers 列表中每个 Runnable 引用',\n",
       " 'dynamic_providers': '如果实例在不同周期中重复使用，可能会希望先在绑定前先清除旧的绑定，此时就应该使用动态绑定，即执行 bind_provider 时提供 dynamic=True 参数',\n",
       " 'lazy_binding_map': '有时你无法确定被哪个对象绑定，但能确定绑定映射，此时就可以使用 lazy_binding_map 参数，在绑定时由对方根据该参数进行绑定',\n",
       " 'description': '工具描述',\n",
       " 'tool_params': '工具参数',\n",
       " 'knowledge': '待检索的资料或向量数据库',\n",
       " 'team': '所属团队',\n",
       " 'tools': '工具列表',\n",
       " 'tools_handlers': '工具处理器列表',\n",
       " 'tools_behavior': '工具处理行为, 包括 parse-execute, parse-execute-continue, parse-continue-execute 三种行为',\n",
       " 'style': '消息样式',\n",
       " 'memory': '记忆列表',\n",
       " 'remember_rounds': '记忆轮数',\n",
       " 'history': '记忆持久化管理'}"
      ]
     },
     "execution_count": 5,
     "metadata": {},
     "output_type": "execute_result"
    }
   ],
   "source": [
    "FakeLLM.allowed_params()"
   ]
  },
  {
   "cell_type": "markdown",
   "id": "bdc5781b-c5a2-4b2b-8026-e9fd09c4e56d",
   "metadata": {},
   "source": [
    "### 异步处理的 handler\n",
    "\n",
    "只要 handler 中有一个是异步处理器，你就必须使用异步处理。<br>\n",
    "alog 是 log 的异步版本。"
   ]
  },
  {
   "cell_type": "code",
   "execution_count": 6,
   "id": "b81402ab-914c-4cb9-a9dd-c71b9c403301",
   "metadata": {},
   "outputs": [
    {
     "name": "stdout",
     "output_type": "stream",
     "text": [
      "[CALLING] \u001b[34m873ac938-832f-4abc-b4db-63198a86fe7e\u001b[0m\n",
      "[USER] \u001b[34m你能帮我写一首关于兔子做梦的四句儿歌?\u001b[0m\n",
      "[INFO] \u001b[34m记住 10 轮对话\u001b[0m\n",
      "[INFO] \u001b[34mI am FakeLLM\u001b[0m\n",
      "\u001b[32mR\u001b[0m\u001b[32me\u001b[0m\u001b[32mp\u001b[0m\u001b[32ml\u001b[0m\u001b[32my\u001b[0m\u001b[32m \u001b[0m\u001b[32m>\u001b[0m\u001b[32m>\u001b[0m\u001b[32m \u001b[0m\u001b[32m你\u001b[0m\u001b[32m能\u001b[0m\u001b[32m帮\u001b[0m\u001b[32m我\u001b[0m\u001b[32m写\u001b[0m\u001b[32m一\u001b[0m\u001b[32m首\u001b[0m\u001b[32m关\u001b[0m\u001b[32m于\u001b[0m\u001b[32m兔\u001b[0m\u001b[32m子\u001b[0m\u001b[32m做\u001b[0m\u001b[32m梦\u001b[0m\u001b[32m的\u001b[0m\u001b[32m四\u001b[0m\u001b[32m句\u001b[0m\u001b[32m儿\u001b[0m\u001b[32m歌\u001b[0m\u001b[32m?\u001b[0m\n"
     ]
    },
    {
     "data": {
      "text/plain": [
       "'Reply >> 你能帮我写一首关于兔子做梦的四句儿歌?'"
      ]
     },
     "execution_count": 6,
     "metadata": {},
     "output_type": "execute_result"
    }
   ],
   "source": [
    "from illufly.chat import FakeLLM\n",
    "from illufly.io import alog\n",
    "\n",
    "llm = FakeLLM(handlers=[alog])\n",
    "await llm(\"你能帮我写一首关于兔子做梦的四句儿歌?\", verbose=True)"
   ]
  },
  {
   "cell_type": "markdown",
   "id": "e0c20791-a686-4bb6-a95b-99f6e68caf8d",
   "metadata": {},
   "source": [
    "### `illufly.io` 中的 log 和 usage\n",
    "\n",
    "usage 处理函数用于捕捉生成器结果中的 "
   ]
  },
  {
   "cell_type": "code",
   "execution_count": 1,
   "id": "ddea64ee-d2aa-4830-8342-5f3cfa2cc97c",
   "metadata": {},
   "outputs": [
    {
     "name": "stdout",
     "output_type": "stream",
     "text": [
      "[CALLING] \u001b[34mb7c7f5c0-14e4-4ea9-9539-397bd505acdc\u001b[0m\n",
      "[USER] \u001b[34m你能帮我写一首关于兔子做梦的四句儿歌?\u001b[0m\n",
      "[INFO] \u001b[34m记住 10 轮对话\u001b[0m\n",
      "\u001b[32m兔\u001b[0m\u001b[32m子\u001b[0m\u001b[32m梦\u001b[0m\u001b[32m里\u001b[0m\u001b[32m蹦\u001b[0m\u001b[32m跳\u001b[0m\u001b[32m快\u001b[0m\u001b[32m，\u001b[0m\u001b[32m  \n",
      "\u001b[0m\u001b[32m甜\u001b[0m\u001b[32m甜\u001b[0m\u001b[32m满\u001b[0m\u001b[32m地\u001b[0m\u001b[32m都\u001b[0m\u001b[32m是\u001b[0m\u001b[32m胡\u001b[0m\u001b[32m萝\u001b[0m\u001b[32m卜\u001b[0m\u001b[32m。\u001b[0m\u001b[32m  \n",
      "\u001b[0m\u001b[32m白\u001b[0m\u001b[32m日\u001b[0m\u001b[32m梦\u001b[0m\u001b[32m中\u001b[0m\u001b[32m游\u001b[0m\u001b[32m仙\u001b[0m\u001b[32m境\u001b[0m\u001b[32m，\u001b[0m\u001b[32m  \n",
      "\u001b[0m\u001b[32m轻\u001b[0m\u001b[32m轻\u001b[0m\u001b[32m一\u001b[0m\u001b[32m笑\u001b[0m\u001b[32m唤\u001b[0m\u001b[32m醒\u001b[0m\u001b[32m梦\u001b[0m\u001b[32m。\u001b[0m\n",
      "[USAGE] \u001b[34m{\"prompt_tokens\": 35, \"completion_tokens\": 62, \"total_tokens\": 97}\u001b[0m\n",
      "{\"block_type\": \"usage\", \"content\": \"{\\\"prompt_tokens\\\": 35, \\\"completion_tokens\\\": 62, \\\"total_tokens\\\": 97}\", \"created_at\": \"2024-11-05T16:40:09.650547\", \"calling_info\": {\"request_id\": null, \"input\": {\"model\": \"gpt-3.5-turbo\", \"messages\": [{\"role\": \"user\", \"content\": \"你能帮我写一首关于兔子做梦的四句儿歌?\"}], \"tools\": null, \"stream\": true, \"stream_options\": {\"include_usage\": true}}, \"output\": [{\"chunk\": \"兔\"}, {\"chunk\": \"子\"}, {\"chunk\": \"梦\"}, {\"chunk\": \"里\"}, {\"chunk\": \"蹦\"}, {\"chunk\": \"跳\"}, {\"chunk\": \"快\"}, {\"chunk\": \"，\"}, {\"chunk\": \"  \\n\"}, {\"chunk\": \"甜\"}, {\"chunk\": \"甜\"}, {\"chunk\": \"满\"}, {\"chunk\": \"地\"}, {\"chunk\": \"都\"}, {\"chunk\": \"是\"}, {\"chunk\": \"胡\"}, {\"chunk\": \"萝\"}, {\"chunk\": \"卜\"}, {\"chunk\": \"。\"}, {\"chunk\": \"  \\n\"}, {\"chunk\": \"白\"}, {\"chunk\": \"日\"}, {\"chunk\": \"梦\"}, {\"chunk\": \"中\"}, {\"chunk\": \"游\"}, {\"chunk\": \"仙\"}, {\"chunk\": \"境\"}, {\"chunk\": \"，\"}, {\"chunk\": \"  \\n\"}, {\"chunk\": \"轻\"}, {\"chunk\": \"轻\"}, {\"chunk\": \"一\"}, {\"chunk\": \"笑\"}, {\"chunk\": \"唤\"}, {\"chunk\": \"醒\"}, {\"chunk\": \"梦\"}, {\"chunk\": \"。\"}]}, \"runnable_info\": {\"class_name\": \"ChatOpenAI\", \"agent_name\": \"ChatOpenAI.4444276576\", \"agent_description\": \"我还没有工具描述\", \"model_name\": \"gpt-3.5-turbo\", \"base_url\": \"https://ap***************nline/v1\", \"api_key\": \"sk-8WLGNC5*********************************063f852c\"}}\n"
     ]
    },
    {
     "data": {
      "text/plain": [
       "'兔子梦里蹦跳快，  \\n甜甜满地都是胡萝卜。  \\n白日梦中游仙境，  \\n轻轻一笑唤醒梦。'"
      ]
     },
     "execution_count": 1,
     "metadata": {},
     "output_type": "execute_result"
    }
   ],
   "source": [
    "from illufly.chat import ChatOpenAI\n",
    "from illufly.io import log, usage\n",
    "\n",
    "openai = ChatOpenAI(handlers=[log, usage])\n",
    "openai(\"你能帮我写一首关于兔子做梦的四句儿歌?\", verbose=True)"
   ]
  },
  {
   "cell_type": "markdown",
   "id": "c8bf1661-3e5c-47e5-af3c-e913365d3469",
   "metadata": {},
   "source": [
    "## 使用绑定机制传播 handlers"
   ]
  },
  {
   "cell_type": "code",
   "execution_count": 1,
   "id": "66ad0706-a4f2-42ae-8703-d609d088d741",
   "metadata": {},
   "outputs": [],
   "source": [
    "from illufly.types import Runnable\n",
    "from illufly.chat import FakeLLM\n",
    "from illufly.io import log"
   ]
  },
  {
   "cell_type": "markdown",
   "id": "e6f1adf1-7326-431e-b094-0502dc0a839d",
   "metadata": {},
   "source": [
    "### 定义一个新的 handler\n",
    "\n",
    "定义 `handler` 必须使用形如 `block,, verbose, **kwargs` 这样的入参结构："
   ]
  },
  {
   "cell_type": "code",
   "execution_count": 5,
   "id": "e944c29d-8e05-40cf-9af4-ad60cc95d0d1",
   "metadata": {},
   "outputs": [],
   "source": [
    "def myhandler(block, verbose=False, **kwargs):\n",
    "    if block.block_type == 'info':\n",
    "        print(\"I got a [info] event, but I wont tell you...\")"
   ]
  },
  {
   "cell_type": "code",
   "execution_count": 6,
   "id": "d48517d0-fc59-4d06-9ece-a3f8e7949295",
   "metadata": {},
   "outputs": [
    {
     "name": "stdout",
     "output_type": "stream",
     "text": [
      "\u001b[32mR\u001b[0m\u001b[32me\u001b[0m\u001b[32mp\u001b[0m\u001b[32ml\u001b[0m\u001b[32my\u001b[0m\u001b[32m \u001b[0m\u001b[32m>\u001b[0m\u001b[32m>\u001b[0m\u001b[32m \u001b[0m\u001b[32mh\u001b[0m\u001b[32mi\u001b[0m\n"
     ]
    },
    {
     "data": {
      "text/plain": [
       "'Reply >> hi'"
      ]
     },
     "execution_count": 6,
     "metadata": {},
     "output_type": "execute_result"
    }
   ],
   "source": [
    "llm = FakeLLM()\n",
    "llm(\"hi\")"
   ]
  },
  {
   "cell_type": "markdown",
   "id": "884a4d1d-6be2-4059-bf45-9b21af0596e4",
   "metadata": {},
   "source": [
    "### 将 provider 中的 handler 传递给 consumer"
   ]
  },
  {
   "cell_type": "code",
   "execution_count": 4,
   "id": "b83cb34f-fbc3-423a-b8cc-ce107614bd5a",
   "metadata": {},
   "outputs": [
    {
     "name": "stdout",
     "output_type": "stream",
     "text": [
      "I got a [info] event, but I wont tell you...\n",
      "\u001b[32m这\u001b[0m\u001b[32m是\u001b[0m\u001b[32m一个\u001b[0m\u001b[32m模拟\u001b[0m\u001b[32m调用\u001b[0m\u001b[32m!\u001b[0m"
     ]
    }
   ],
   "source": [
    "class myrun(Runnable):\n",
    "    def call(self, prompt, **kwargs):\n",
    "        llm = FakeLLM()\n",
    "        self.bind_consumer(llm)\n",
    "        resp = llm(prompt)\n",
    "r = myrun(handlers = [log, myhandler])\n",
    "r(\"hi\")"
   ]
  },
  {
   "cell_type": "code",
   "execution_count": 5,
   "id": "0d6f0ae1-395d-4b4e-b3f2-96e47f8f8b67",
   "metadata": {},
   "outputs": [
    {
     "data": {
      "text/plain": [
       "{'provider': <Runnable myrun.4767904816>,\n",
       " 'consumer_tree': [(<Runnable FakeLLM.4767904144>,\n",
       "   {},\n",
       "   {'provider': <Runnable FakeLLM.4767904144>, 'consumer_tree': []})]}"
      ]
     },
     "execution_count": 5,
     "metadata": {},
     "output_type": "execute_result"
    }
   ],
   "source": [
    "r.consumer_tree"
   ]
  },
  {
   "cell_type": "code",
   "execution_count": 8,
   "id": "f5c23735-047b-48a9-81cb-fbfe0960cf02",
   "metadata": {},
   "outputs": [
    {
     "data": {
      "text/plain": [
       "{'consumer': <Runnable FakeLLM.4767898768>, 'provider_tree': []}"
      ]
     },
     "execution_count": 8,
     "metadata": {},
     "output_type": "execute_result"
    }
   ],
   "source": [
    "llm.provider_tree"
   ]
  },
  {
   "cell_type": "markdown",
   "id": "32876b12-fa56-415d-ad46-ca7a53093b66",
   "metadata": {},
   "source": [
    "## EventsTree\n",
    "\n",
    "Runnable 自带了一个事件树，汇聚所有收集到的 EventBlock 数据。"
   ]
  },
  {
   "cell_type": "code",
   "execution_count": 1,
   "id": "4935efe0-3ee6-470b-bcca-20207ddc8ebe",
   "metadata": {},
   "outputs": [
    {
     "name": "stdout",
     "output_type": "stream",
     "text": [
      "\u001b[32mR\u001b[0m\u001b[32me\u001b[0m\u001b[32mp\u001b[0m\u001b[32ml\u001b[0m\u001b[32my\u001b[0m\u001b[32m \u001b[0m\u001b[32m>\u001b[0m\u001b[32m>\u001b[0m\u001b[32m \u001b[0m\u001b[32m你\u001b[0m\u001b[32m能\u001b[0m\u001b[32m帮\u001b[0m\u001b[32m我\u001b[0m\u001b[32m写\u001b[0m\u001b[32m一\u001b[0m\u001b[32m首\u001b[0m\u001b[32m关\u001b[0m\u001b[32m于\u001b[0m\u001b[32m兔\u001b[0m\u001b[32m子\u001b[0m\u001b[32m做\u001b[0m\u001b[32m梦\u001b[0m\u001b[32m的\u001b[0m\u001b[32m四\u001b[0m\u001b[32m句\u001b[0m\u001b[32m儿\u001b[0m\u001b[32m歌\u001b[0m\u001b[32m?\u001b[0m\n"
     ]
    },
    {
     "data": {
      "text/plain": [
       "'Reply >> 你能帮我写一首关于兔子做梦的四句儿歌?'"
      ]
     },
     "execution_count": 1,
     "metadata": {},
     "output_type": "execute_result"
    }
   ],
   "source": [
    "# 使用 handler 函数的另一种方式：\n",
    "from illufly.chat import FakeLLM\n",
    "\n",
    "llm = FakeLLM()\n",
    "llm(\"你能帮我写一首关于兔子做梦的四句儿歌?\")"
   ]
  },
  {
   "cell_type": "code",
   "execution_count": 2,
   "id": "a90779f7-dca9-4f89-b042-1df5e1f76e66",
   "metadata": {},
   "outputs": [
    {
     "data": {
      "text/plain": [
       "{'name': 'FakeLLM.4380061712',\n",
       " 'type': 'FakeLLM',\n",
       " 'events': [EventBlock(block_type=<calling>, content=<10aefa7c-6314-46e6-bc7c-264dc753d850>),\n",
       "  EventBlock(block_type=<user>, content=<你能帮我写一首关于兔子做梦的四句儿歌?>),\n",
       "  EventBlock(block_type=<info>, content=<记住 10 轮对话>),\n",
       "  EventBlock(block_type=<info>, content=<I am FakeLLM>),\n",
       "  EventBlock(block_type=<chunk>, content=<R>),\n",
       "  EventBlock(block_type=<chunk>, content=<e>),\n",
       "  EventBlock(block_type=<chunk>, content=<p>),\n",
       "  EventBlock(block_type=<chunk>, content=<l>),\n",
       "  EventBlock(block_type=<chunk>, content=<y>),\n",
       "  EventBlock(block_type=<chunk>, content=< >),\n",
       "  EventBlock(block_type=<chunk>, content=<>>),\n",
       "  EventBlock(block_type=<chunk>, content=<>>),\n",
       "  EventBlock(block_type=<chunk>, content=< >),\n",
       "  EventBlock(block_type=<chunk>, content=<你>),\n",
       "  EventBlock(block_type=<chunk>, content=<能>),\n",
       "  EventBlock(block_type=<chunk>, content=<帮>),\n",
       "  EventBlock(block_type=<chunk>, content=<我>),\n",
       "  EventBlock(block_type=<chunk>, content=<写>),\n",
       "  EventBlock(block_type=<chunk>, content=<一>),\n",
       "  EventBlock(block_type=<chunk>, content=<首>),\n",
       "  EventBlock(block_type=<chunk>, content=<关>),\n",
       "  EventBlock(block_type=<chunk>, content=<于>),\n",
       "  EventBlock(block_type=<chunk>, content=<兔>),\n",
       "  EventBlock(block_type=<chunk>, content=<子>),\n",
       "  EventBlock(block_type=<chunk>, content=<做>),\n",
       "  EventBlock(block_type=<chunk>, content=<梦>),\n",
       "  EventBlock(block_type=<chunk>, content=<的>),\n",
       "  EventBlock(block_type=<chunk>, content=<四>),\n",
       "  EventBlock(block_type=<chunk>, content=<句>),\n",
       "  EventBlock(block_type=<chunk>, content=<儿>),\n",
       "  EventBlock(block_type=<chunk>, content=<歌>),\n",
       "  EventBlock(block_type=<chunk>, content=<?>),\n",
       "  EventBlock(block_type=<new_line>, content=<>),\n",
       "  EventBlock(block_type=<final_text>, content=<Reply >> 你能帮我写一首关于兔子做梦的四句儿歌?>)]}"
      ]
     },
     "execution_count": 2,
     "metadata": {},
     "output_type": "execute_result"
    }
   ],
   "source": [
    "llm.events_tree"
   ]
  },
  {
   "cell_type": "code",
   "execution_count": null,
   "id": "aa2172d6-c727-48e0-9610-acefa70d3d7f",
   "metadata": {},
   "outputs": [],
   "source": []
  }
 ],
 "metadata": {
  "kernelspec": {
   "display_name": "same_to_illufly",
   "language": "python",
   "name": "same_to_illufly"
  },
  "language_info": {
   "codemirror_mode": {
    "name": "ipython",
    "version": 3
   },
   "file_extension": ".py",
   "mimetype": "text/x-python",
   "name": "python",
   "nbconvert_exporter": "python",
   "pygments_lexer": "ipython3",
   "version": "3.10.0"
  }
 },
 "nbformat": 4,
 "nbformat_minor": 5
}
