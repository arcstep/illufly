{
 "cells": [
  {
   "cell_type": "markdown",
   "id": "bc8720be-8234-48fb-978a-6d407b444eef",
   "metadata": {},
   "source": [
    "## 事件流处理器"
   ]
  },
  {
   "cell_type": "code",
   "execution_count": null,
   "id": "bbf847a2-e07b-40c3-aead-c2174d7baaf4",
   "metadata": {},
   "outputs": [],
   "source": [
    "from illufly.io import EventBlock\n",
    "EventBlock(\"Chunk\", \"hi\")"
   ]
  },
  {
   "cell_type": "markdown",
   "id": "80dd63e7-9e80-400a-9a78-1bbba1024e70",
   "metadata": {},
   "source": [
    "### 实现流交换\n",
    "\n",
    "基于大模型的AI应用中经常要求模型流式返回，我们有一种实现流输出的标准实现。"
   ]
  },
  {
   "cell_type": "code",
   "execution_count": null,
   "id": "b109abcd-0f4c-45ee-ac51-1c968de35fc7",
   "metadata": {},
   "outputs": [],
   "source": [
    "from illufly.types import Runnable\n",
    "\n",
    "class MyRun(Runnable):\n",
    "    def call(*args, **kwargs):\n",
    "        yield \"hi\\n\"\n",
    "        yield \"illufly!\\n\"\n",
    "\n",
    "r = MyRun()\n",
    "r()"
   ]
  },
  {
   "cell_type": "code",
   "execution_count": null,
   "id": "44132099-8eda-4f79-99af-26355753cde2",
   "metadata": {},
   "outputs": [],
   "source": [
    "from illufly.types import Runnable\n",
    "\n",
    "class MyRun(Runnable):\n",
    "    def call(*args, **kwargs):\n",
    "        yield [\"hi\\n\", \"illufly!\\n\"]\n",
    "\n",
    "r = MyRun()\n",
    "r()"
   ]
  },
  {
   "cell_type": "markdown",
   "id": "a77b3659-d208-4a95-95b5-637bdffdc028",
   "metadata": {},
   "source": [
    "### Runnable 事件流"
   ]
  },
  {
   "cell_type": "code",
   "execution_count": null,
   "id": "015a17f0-a463-4a77-9409-59a2ababd59a",
   "metadata": {},
   "outputs": [],
   "source": [
    "from illufly.types import Runnable, EventBlock\n",
    "\n",
    "class MyRun(Runnable):\n",
    "    def call(*args, **kwargs):\n",
    "        yield EventBlock(\"chunk\", \"hi, \")\n",
    "        yield EventBlock(\"chunk\", \"illufly\")\n",
    "        yield EventBlock(\"chunk\", \"!\")\n",
    "\n",
    "def handle(block, **kwargs):\n",
    "    print(block.json)\n",
    "\n",
    "r = MyRun(handlers=[handle])\n",
    "r(\"hi\")"
   ]
  },
  {
   "cell_type": "markdown",
   "id": "0ff754cb-9b82-4f0b-8ce6-ef7c1e7a153d",
   "metadata": {},
   "source": [
    "### ChatAgent 事件流"
   ]
  },
  {
   "cell_type": "code",
   "execution_count": null,
   "id": "e11f2f36-a8f0-4160-aa4d-b3741b05b4f4",
   "metadata": {},
   "outputs": [],
   "source": [
    "from illufly.types import Runnable, EventBlock\n",
    "from illufly.chat import FakeLLM\n",
    "from illufly.io import log, alog\n",
    "\n",
    "def handle(block, **kwargs):\n",
    "    print(\"[\", block.block_type, \"]\", block.text)\n",
    "\n",
    "r = FakeLLM(handlers=[handle], sleep=0.5)\n",
    "r(\"hi\")"
   ]
  },
  {
   "cell_type": "code",
   "execution_count": null,
   "id": "3354c7ea-8e0a-429f-b27b-196179fd4dd0",
   "metadata": {},
   "outputs": [],
   "source": [
    "from illufly.types import Runnable, EventBlock\n",
    "from illufly.chat import FakeLLM\n",
    "from illufly.io import log, alog\n",
    "\n",
    "r = FakeLLM(handlers=[alog], sleep=0.1)\n",
    "await r(\"hi\")"
   ]
  },
  {
   "cell_type": "markdown",
   "id": "de683821-b402-4365-91da-69bd48e6cd0c",
   "metadata": {},
   "source": [
    "### 推送事件流"
   ]
  },
  {
   "cell_type": "code",
   "execution_count": null,
   "id": "5175e0b0-b39d-4b2f-8735-cfd061726446",
   "metadata": {},
   "outputs": [],
   "source": [
    "from illufly.chat import FakeLLM\n",
    "\n",
    "llm = FakeLLM(name=\"if1\", handlers=[])\n",
    "llm.create_new_thread()\n",
    "\n",
    "async for b in llm(\"给我写一篇200字小作文\", generator=\"async\", sleep=0.1):\n",
    "    print(b)"
   ]
  },
  {
   "cell_type": "markdown",
   "id": "f1f8e180-9810-41f5-a536-ded3b2da909e",
   "metadata": {},
   "source": [
    "## 嵌套 BaseAgent"
   ]
  },
  {
   "cell_type": "code",
   "execution_count": null,
   "id": "b88d4907-2469-4a6c-83ab-845647e6e0c2",
   "metadata": {},
   "outputs": [],
   "source": [
    "from illufly.types import BaseAgent, PromptTemplate\n",
    "from illufly.chat import ChatQwen\n",
    "from illufly.flow import ReAct\n",
    "\n",
    "def get_city(location: str):\n",
    "    \"\"\"由任意地名或地址描述查询出所在的城市\"\"\"\n",
    "    return \"广州\"\n",
    "\n",
    "def get_weather(city: str):\n",
    "    \"\"\"我可以查询城市的天气情况。city必须是城市名称。\"\"\"\n",
    "    return f'{city}天气不错，一直是大晴天'\n",
    "\n",
    "def booking(request: str):\n",
    "    \"\"\"我可以根据你的需求预订球场\"\"\"\n",
    "    return '我已经帮你预订好了，祝你玩得愉快'\n",
    "\n",
    "store = {}\n",
    "flow = ReAct(\n",
    "    ChatQwen(name=\"react-planner\", tools=[get_city, get_weather, booking])\n",
    ")\n",
    "\n",
    "for b in flow(\"我在鸿蒙公司，帮我查询一下天气情况\", verbose=False, handlers=[], generator=\"sync\"):\n",
    "    print(b)"
   ]
  },
  {
   "cell_type": "markdown",
   "id": "0da1c8dc-d841-4d0b-b0ba-6412c4ece901",
   "metadata": {},
   "source": [
    "## Events History"
   ]
  },
  {
   "cell_type": "code",
   "execution_count": 1,
   "id": "2240c16e-a409-4764-a068-6bbc49f09c8c",
   "metadata": {},
   "outputs": [],
   "source": [
    "from illufly.core.events_history import BaseEventsHistory"
   ]
  },
  {
   "cell_type": "code",
   "execution_count": 2,
   "id": "7d7cd557-c8ea-4e67-8810-bed13ec5d038",
   "metadata": {},
   "outputs": [],
   "source": [
    "h = BaseEventsHistory()"
   ]
  },
  {
   "cell_type": "code",
   "execution_count": 3,
   "id": "e1c30f79-5e32-4762-a49d-c442725dc5eb",
   "metadata": {},
   "outputs": [
    {
     "data": {
      "text/plain": [
       "{'20241116-69681-1108-0000': {'threads': set(), 'callings': {}}}"
      ]
     },
     "execution_count": 3,
     "metadata": {},
     "output_type": "execute_result"
    }
   ],
   "source": [
    "h.store"
   ]
  },
  {
   "cell_type": "code",
   "execution_count": 4,
   "id": "de1953bb-7fe3-49ee-b399-34125ddfb51f",
   "metadata": {},
   "outputs": [
    {
     "data": {
      "text/plain": [
       "'20241116-69681-1108-0000'"
      ]
     },
     "execution_count": 4,
     "metadata": {},
     "output_type": "execute_result"
    }
   ],
   "source": [
    "h.last_events_history_id"
   ]
  },
  {
   "cell_type": "code",
   "execution_count": null,
   "id": "a55a8624-8fbd-4e01-943f-89d59b1966f0",
   "metadata": {},
   "outputs": [],
   "source": []
  }
 ],
 "metadata": {
  "kernelspec": {
   "display_name": "same_to_illufly",
   "language": "python",
   "name": "same_to_illufly"
  },
  "language_info": {
   "codemirror_mode": {
    "name": "ipython",
    "version": 3
   },
   "file_extension": ".py",
   "mimetype": "text/x-python",
   "name": "python",
   "nbconvert_exporter": "python",
   "pygments_lexer": "ipython3",
   "version": "3.10.0"
  }
 },
 "nbformat": 4,
 "nbformat_minor": 5
}
