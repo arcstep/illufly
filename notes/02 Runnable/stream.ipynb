{
 "cells": [
  {
   "cell_type": "markdown",
   "id": "bc8720be-8234-48fb-978a-6d407b444eef",
   "metadata": {},
   "source": [
    "## 事件流处理器"
   ]
  },
  {
   "cell_type": "code",
   "execution_count": 3,
   "id": "bbf847a2-e07b-40c3-aead-c2174d7baaf4",
   "metadata": {},
   "outputs": [
    {
     "data": {
      "text/plain": [
       "EventBlock(block_type=<chunk>, content=<hi>)"
      ]
     },
     "execution_count": 3,
     "metadata": {},
     "output_type": "execute_result"
    }
   ],
   "source": [
    "from illufly.io import EventBlock\n",
    "EventBlock(\"Chunk\", \"hi\")"
   ]
  },
  {
   "cell_type": "markdown",
   "id": "80dd63e7-9e80-400a-9a78-1bbba1024e70",
   "metadata": {},
   "source": [
    "### 实现流交换\n",
    "\n",
    "基于大模型的AI应用中经常要求模型流式返回，我们有一种实现流输出的标准实现。"
   ]
  },
  {
   "cell_type": "code",
   "execution_count": 1,
   "id": "b109abcd-0f4c-45ee-ac51-1c968de35fc7",
   "metadata": {},
   "outputs": [
    {
     "name": "stdout",
     "output_type": "stream",
     "text": [
      "\u001b[33mhi\n",
      "\u001b[0m\u001b[33millufly!\n",
      "\u001b[0m"
     ]
    }
   ],
   "source": [
    "from illufly.types import Runnable\n",
    "\n",
    "class MyRun(Runnable):\n",
    "    def call(*args, **kwargs):\n",
    "        yield \"hi\\n\"\n",
    "        yield \"illufly!\\n\"\n",
    "\n",
    "r = MyRun()\n",
    "r()"
   ]
  },
  {
   "cell_type": "code",
   "execution_count": 5,
   "id": "44132099-8eda-4f79-99af-26355753cde2",
   "metadata": {},
   "outputs": [
    {
     "name": "stdout",
     "output_type": "stream",
     "text": [
      "\u001b[33m['hi\\n', 'illufly!\\n']\u001b[0m"
     ]
    }
   ],
   "source": [
    "from illufly.types import Runnable\n",
    "\n",
    "class MyRun(Runnable):\n",
    "    def call(*args, **kwargs):\n",
    "        yield [\"hi\\n\", \"illufly!\\n\"]\n",
    "\n",
    "r = MyRun()\n",
    "r()"
   ]
  },
  {
   "cell_type": "markdown",
   "id": "a77b3659-d208-4a95-95b5-637bdffdc028",
   "metadata": {},
   "source": [
    "### Runnable 事件流"
   ]
  },
  {
   "cell_type": "code",
   "execution_count": 2,
   "id": "015a17f0-a463-4a77-9409-59a2ababd59a",
   "metadata": {},
   "outputs": [
    {
     "name": "stdout",
     "output_type": "stream",
     "text": [
      "{\"id\": \"9a388e6e9ff911efa4df367dda7bcd4a\", \"content_id\": \"9a388ed29ff911efa4df367dda7bcd4a\", \"block_type\": \"runnable\", \"content\": \"MyRun.4609157120\", \"created_at\": \"2024-11-11T14:53:05.484572\", \"calling_info\": {}, \"runnable_info\": {\"name\": \"MyRun.4609157120\", \"class_name\": \"MyRun\", \"calling_id\": \"9a388cd4-9ff9-11ef-a4df-367dda7bcd4a\"}}\n",
      "{\"id\": \"9a389eae9ff911efa4df367dda7bcd4a\", \"content_id\": \"9a389f809ff911efa4df367dda7bcd4a\", \"block_type\": \"chunk\", \"content\": \"hi, \", \"created_at\": \"2024-11-11T14:53:05.485000\", \"calling_info\": {}, \"runnable_info\": {\"name\": \"MyRun.4609157120\", \"class_name\": \"MyRun\", \"calling_id\": \"9a388cd4-9ff9-11ef-a4df-367dda7bcd4a\"}}\n",
      "{\"id\": \"9a38a2789ff911efa4df367dda7bcd4a\", \"content_id\": \"9a38a2c89ff911efa4df367dda7bcd4a\", \"block_type\": \"chunk\", \"content\": \"illufly\", \"created_at\": \"2024-11-11T14:53:05.485081\", \"calling_info\": {}, \"runnable_info\": {\"name\": \"MyRun.4609157120\", \"class_name\": \"MyRun\", \"calling_id\": \"9a388cd4-9ff9-11ef-a4df-367dda7bcd4a\"}}\n",
      "{\"id\": \"9a38a46c9ff911efa4df367dda7bcd4a\", \"content_id\": \"9a38a4b29ff911efa4df367dda7bcd4a\", \"block_type\": \"chunk\", \"content\": \"!\", \"created_at\": \"2024-11-11T14:53:05.485130\", \"calling_info\": {}, \"runnable_info\": {\"name\": \"MyRun.4609157120\", \"class_name\": \"MyRun\", \"calling_id\": \"9a388cd4-9ff9-11ef-a4df-367dda7bcd4a\"}}\n"
     ]
    }
   ],
   "source": [
    "from illufly.types import Runnable, EventBlock\n",
    "\n",
    "class MyRun(Runnable):\n",
    "    def call(*args, **kwargs):\n",
    "        yield EventBlock(\"chunk\", \"hi, \")\n",
    "        yield EventBlock(\"chunk\", \"illufly\")\n",
    "        yield EventBlock(\"chunk\", \"!\")\n",
    "\n",
    "def handle(block, **kwargs):\n",
    "    print(block.json)\n",
    "\n",
    "r = MyRun(handlers=[handle])\n",
    "r(\"hi\")"
   ]
  },
  {
   "cell_type": "markdown",
   "id": "0ff754cb-9b82-4f0b-8ce6-ef7c1e7a153d",
   "metadata": {},
   "source": [
    "### ChatAgent 事件流"
   ]
  },
  {
   "cell_type": "code",
   "execution_count": 5,
   "id": "e11f2f36-a8f0-4160-aa4d-b3741b05b4f4",
   "metadata": {},
   "outputs": [
    {
     "name": "stdout",
     "output_type": "stream",
     "text": [
      "[ runnable ] FakeLLM.4609157552\n",
      "[ user ] hi\n",
      "[ agent ] FakeLLM.4609157552\n",
      "[ info ] 记住 10 轮对话\n",
      "[ info ] I am FakeLLM\n",
      "[ chunk ] R\n",
      "[ chunk ] e\n",
      "[ chunk ] p\n",
      "[ chunk ] l\n",
      "[ chunk ] y\n",
      "[ chunk ]  \n",
      "[ chunk ] >\n",
      "[ chunk ] >\n",
      "[ chunk ]  \n",
      "[ chunk ] h\n",
      "[ chunk ] i\n",
      "[ new_line ] \n",
      "[ final_text ] Reply >> hi\n"
     ]
    },
    {
     "data": {
      "text/plain": [
       "'Reply >> hi'"
      ]
     },
     "execution_count": 5,
     "metadata": {},
     "output_type": "execute_result"
    }
   ],
   "source": [
    "from illufly.types import Runnable, EventBlock\n",
    "from illufly.chat import FakeLLM\n",
    "from illufly.io import log, alog\n",
    "\n",
    "def handle(block, **kwargs):\n",
    "    print(\"[\", block.block_type, \"]\", block.text)\n",
    "\n",
    "r = FakeLLM(handlers=[handle], sleep=0.5)\n",
    "r(\"hi\")"
   ]
  },
  {
   "cell_type": "code",
   "execution_count": 9,
   "id": "3354c7ea-8e0a-429f-b27b-196179fd4dd0",
   "metadata": {},
   "outputs": [
    {
     "name": "stdout",
     "output_type": "stream",
     "text": [
      "[AGENT] \u001b[34mFakeLLM.4964741232\u001b[0m\n",
      "\u001b[32mR\u001b[0m\u001b[32me\u001b[0m\u001b[32mp\u001b[0m\u001b[32ml\u001b[0m\u001b[32my\u001b[0m\u001b[32m \u001b[0m\u001b[32m>\u001b[0m\u001b[32m>\u001b[0m\u001b[32m \u001b[0m\u001b[32mh\u001b[0m\u001b[32mi\u001b[0m\n"
     ]
    },
    {
     "data": {
      "text/plain": [
       "'Reply >> hi'"
      ]
     },
     "execution_count": 9,
     "metadata": {},
     "output_type": "execute_result"
    }
   ],
   "source": [
    "from illufly.types import Runnable, EventBlock\n",
    "from illufly.chat import FakeLLM\n",
    "from illufly.io import log, alog\n",
    "\n",
    "r = FakeLLM(handlers=[alog], sleep=0.1)\n",
    "await r(\"hi\")"
   ]
  },
  {
   "cell_type": "markdown",
   "id": "de683821-b402-4365-91da-69bd48e6cd0c",
   "metadata": {},
   "source": [
    "### 推送事件流"
   ]
  },
  {
   "cell_type": "code",
   "execution_count": 12,
   "id": "5175e0b0-b39d-4b2f-8735-cfd061726446",
   "metadata": {},
   "outputs": [
    {
     "name": "stdout",
     "output_type": "stream",
     "text": [
      "event: runnable\n",
      "data: if1\n",
      "\n",
      "event: user\n",
      "data: 给我写一篇200字小作文\n",
      "\n",
      "[AGENT] \u001b[34mif1\u001b[0m\n",
      "event: agent\n",
      "data: if1\n",
      "\n",
      "event: info\n",
      "data: 记住 10 轮对话\n",
      "\n",
      "event: info\n",
      "data: I am FakeLLM\n",
      "\n",
      "\u001b[32mR\u001b[0mevent: chunk\n",
      "data: R\n",
      "\n",
      "\u001b[32me\u001b[0mevent: chunk\n",
      "data: e\n",
      "\n",
      "\u001b[32mp\u001b[0mevent: chunk\n",
      "data: p\n",
      "\n",
      "\u001b[32ml\u001b[0mevent: chunk\n",
      "data: l\n",
      "\n",
      "\u001b[32my\u001b[0mevent: chunk\n",
      "data: y\n",
      "\n",
      "\u001b[32m \u001b[0mevent: chunk\n",
      "data:  \n",
      "\n",
      "\u001b[32m>\u001b[0mevent: chunk\n",
      "data: >\n",
      "\n",
      "\u001b[32m>\u001b[0mevent: chunk\n",
      "data: >\n",
      "\n",
      "\u001b[32m \u001b[0mevent: chunk\n",
      "data:  \n",
      "\n",
      "\u001b[32m给\u001b[0mevent: chunk\n",
      "data: 给\n",
      "\n",
      "\u001b[32m我\u001b[0mevent: chunk\n",
      "data: 我\n",
      "\n",
      "\u001b[32m写\u001b[0mevent: chunk\n",
      "data: 写\n",
      "\n",
      "\u001b[32m一\u001b[0mevent: chunk\n",
      "data: 一\n",
      "\n",
      "\u001b[32m篇\u001b[0mevent: chunk\n",
      "data: 篇\n",
      "\n",
      "\u001b[32m2\u001b[0mevent: chunk\n",
      "data: 2\n",
      "\n",
      "\u001b[32m0\u001b[0mevent: chunk\n",
      "data: 0\n",
      "\n",
      "\u001b[32m0\u001b[0mevent: chunk\n",
      "data: 0\n",
      "\n",
      "\u001b[32m字\u001b[0mevent: chunk\n",
      "data: 字\n",
      "\n",
      "\u001b[32m小\u001b[0mevent: chunk\n",
      "data: 小\n",
      "\n",
      "\u001b[32m作\u001b[0mevent: chunk\n",
      "data: 作\n",
      "\n",
      "\u001b[32m文\u001b[0mevent: chunk\n",
      "data: 文\n",
      "\n",
      "\n",
      "event: new_line\n",
      "data: \n",
      "\n",
      "event: final_text\n",
      "data: Reply >> 给我写一篇200字小作文\n",
      "\n"
     ]
    }
   ],
   "source": [
    "from illufly.chat import FakeLLM\n",
    "\n",
    "llm = FakeLLM(name=\"if1\")\n",
    "\n",
    "async for b in llm(\"给我写一篇200字小作文\", generator=\"async\", sleep=0.1):\n",
    "    print(b)"
   ]
  },
  {
   "cell_type": "markdown",
   "id": "f1f8e180-9810-41f5-a536-ded3b2da909e",
   "metadata": {},
   "source": [
    "## 嵌套 BaseAgent"
   ]
  },
  {
   "cell_type": "code",
   "execution_count": 1,
   "id": "b88d4907-2469-4a6c-83ab-845647e6e0c2",
   "metadata": {},
   "outputs": [
    {
     "name": "stdout",
     "output_type": "stream",
     "text": [
      "event: runnable\n",
      "data: ReAct.4765287856\n",
      "\n",
      "event: node\n",
      "data: >>> flow-node-1: planner\n",
      "\n",
      "event: user\n",
      "data: 我在鸿蒙公司，帮我查询一下天气情况\n",
      "\n",
      "event: agent\n",
      "data: react-planner\n",
      "\n",
      "event: info\n",
      "data: 记住 10 轮对话\n",
      "\n",
      "event: chunk\n",
      "data: **\n",
      "\n",
      "event: chunk\n",
      "data: 思考\n",
      "\n",
      "event: chunk\n",
      "data: **\n",
      "\n",
      "event: chunk\n",
      "data:  \n",
      "\n",
      "\n",
      "event: chunk\n",
      "data: 任务要求查询鸿\n",
      "\n",
      "event: chunk\n",
      "data: 蒙公司所在地的\n",
      "\n",
      "event: chunk\n",
      "data: 天气情况。首先\n",
      "\n",
      "event: chunk\n",
      "data: ，我需要确定\n",
      "\n",
      "event: chunk\n",
      "data: 鸿蒙公司位于\n",
      "\n",
      "event: chunk\n",
      "data: 哪个城市。根据\n",
      "\n",
      "event: chunk\n",
      "data: 现有的工具列表，\n",
      "\n",
      "event: chunk\n",
      "data: 我可以使用 `get\n",
      "\n",
      "event: chunk\n",
      "data: _city` 函数\n",
      "\n",
      "event: chunk\n",
      "data: 通过提供鸿蒙\n",
      "\n",
      "event: chunk\n",
      "data: 公司的名称或地址\n",
      "\n",
      "event: chunk\n",
      "data: 来获取其所在\n",
      "\n",
      "event: chunk\n",
      "data: 城市。一旦获得了\n",
      "\n",
      "event: chunk\n",
      "data: 城市信息，我\n",
      "\n",
      "event: chunk\n",
      "data: 就可以使用 `get\n",
      "\n",
      "event: chunk\n",
      "data: _weather` 函数\n",
      "\n",
      "event: chunk\n",
      "data: 来查询该城市的\n",
      "\n",
      "event: chunk\n",
      "data: 天气情况。\n",
      "\n",
      "任务\n",
      "\n",
      "event: chunk\n",
      "data: 中涉及的关键概念\n",
      "\n",
      "event: chunk\n",
      "data: 包括：\n",
      "- \n",
      "\n",
      "event: chunk\n",
      "data: 鸿蒙公司\n",
      "\n",
      "event: chunk\n",
      "data: 位置\n",
      "  -\n",
      "\n",
      "event: chunk\n",
      "data:  城市\n",
      "\n",
      "event: chunk\n",
      "data: \n",
      "\n",
      "**行动**\n",
      "\n",
      "event: chunk\n",
      "data:  \n",
      "Step1:\n",
      "\n",
      "event: chunk\n",
      "data:  查询鸿蒙公司\n",
      "\n",
      "event: chunk\n",
      "data: 所在城市. #\n",
      "\n",
      "event: chunk\n",
      "data: E1 = get\n",
      "\n",
      "event: chunk\n",
      "data: _city[{\"location\n",
      "\n",
      "event: chunk\n",
      "data: \": \"鸿蒙\n",
      "\n",
      "event: chunk\n",
      "data: 公司\"}]\n",
      "\n",
      "event: chunk\n",
      "data: \n",
      "\n",
      "event: new_line\n",
      "data: \n",
      "\n",
      "event: usage\n",
      "data: {\"input_tokens\": 764, \"output_tokens\": 127, \"total_tokens\": 891}\n",
      "\n",
      "event: final_text\n",
      "data: **思考** \n",
      "任务要求查询鸿蒙公司所在地的天气情况。首先，我需要确定鸿蒙公司位于哪个城市。根据现有的工具列表，我可以使用 `get_city` 函数通过提供鸿蒙公司的名称或地址来获取其所在城市。一旦获得了城市信息，我就可以使用 `get_weather` 函数来查询该城市的天气情况。\n",
      "\n",
      "任务中涉及的关键概念包括：\n",
      "- 鸿蒙公司位置\n",
      "  - 城市\n",
      "\n",
      "**行动** \n",
      "Step1: 查询鸿蒙公司所在城市. #E1 = get_city[{\"location\": \"鸿蒙公司\"}]\n",
      "\n",
      "event: agent\n",
      "data: get_city\n",
      "\n",
      "event: tool_resp_text\n",
      "data: 广州\n",
      "\n",
      "event: new_line\n",
      "data: \n",
      "\n",
      "event: final_tool_resp\n",
      "data: 广州\n",
      "\n",
      "event: node\n",
      "data: >>> flow-node-2: observer\n",
      "\n",
      "event: text\n",
      "data: \n",
      "**观察**\n",
      "上面的行动结果为:\n",
      "广州\n",
      "\n",
      "\n",
      "event: final_text\n",
      "data: 我在鸿蒙公司，帮我查询一下天气情况\n",
      "\n",
      "event: info\n",
      "data: 到达 __End__ 节点，结束\n",
      "\n",
      "event: info\n",
      "data: 执行完毕，所有节点运行 3 步\n",
      "\n"
     ]
    }
   ],
   "source": [
    "from illufly.types import BaseAgent, PromptTemplate\n",
    "from illufly.chat import ChatQwen\n",
    "from illufly.flow import ReAct\n",
    "\n",
    "def get_city(location: str):\n",
    "    \"\"\"由任意地名或地址描述查询出所在的城市\"\"\"\n",
    "    return \"广州\"\n",
    "\n",
    "def get_weather(city: str):\n",
    "    \"\"\"我可以查询城市的天气情况。city必须是城市名称。\"\"\"\n",
    "    return f'{city}天气不错，一直是大晴天'\n",
    "\n",
    "def booking(request: str):\n",
    "    \"\"\"我可以根据你的需求预订球场\"\"\"\n",
    "    return '我已经帮你预订好了，祝你玩得愉快'\n",
    "\n",
    "store = {}\n",
    "flow = ReAct(\n",
    "    ChatQwen(name=\"react-planner\", tools=[get_city, get_weather, booking])\n",
    ")\n",
    "\n",
    "for b in flow(\"我在鸿蒙公司，帮我查询一下天气情况\", verbose=False, handlers=[], generator=\"sync\"):\n",
    "    print(b)"
   ]
  },
  {
   "cell_type": "code",
   "execution_count": null,
   "id": "e898244b-4763-40f0-a81b-00f5d7306181",
   "metadata": {},
   "outputs": [],
   "source": []
  }
 ],
 "metadata": {
  "kernelspec": {
   "display_name": "same_to_illufly",
   "language": "python",
   "name": "same_to_illufly"
  },
  "language_info": {
   "codemirror_mode": {
    "name": "ipython",
    "version": 3
   },
   "file_extension": ".py",
   "mimetype": "text/x-python",
   "name": "python",
   "nbconvert_exporter": "python",
   "pygments_lexer": "ipython3",
   "version": "3.10.0"
  }
 },
 "nbformat": 4,
 "nbformat_minor": 5
}
