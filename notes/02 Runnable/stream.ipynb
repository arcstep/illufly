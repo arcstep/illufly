{
 "cells": [
  {
   "cell_type": "markdown",
   "id": "bc8720be-8234-48fb-978a-6d407b444eef",
   "metadata": {},
   "source": [
    "## 事件流处理器"
   ]
  },
  {
   "cell_type": "code",
   "execution_count": 1,
   "id": "bbf847a2-e07b-40c3-aead-c2174d7baaf4",
   "metadata": {},
   "outputs": [
    {
     "data": {
      "text/plain": [
       "EventBlock(block_type=<chunk>, content=<hi>)"
      ]
     },
     "execution_count": 1,
     "metadata": {},
     "output_type": "execute_result"
    }
   ],
   "source": [
    "from illufly.io import EventBlock\n",
    "EventBlock(\"Chunk\", \"hi\")"
   ]
  },
  {
   "cell_type": "markdown",
   "id": "80dd63e7-9e80-400a-9a78-1bbba1024e70",
   "metadata": {},
   "source": [
    "### 实现流交换\n",
    "\n",
    "基于大模型的AI应用中经常要求模型流式返回，我们有一种实现流输出的标准实现。"
   ]
  },
  {
   "cell_type": "code",
   "execution_count": 2,
   "id": "b109abcd-0f4c-45ee-ac51-1c968de35fc7",
   "metadata": {},
   "outputs": [
    {
     "name": "stdout",
     "output_type": "stream",
     "text": [
      "\u001b[33mhi\n",
      "\u001b[0m\u001b[33millufly!\n",
      "\u001b[0m"
     ]
    }
   ],
   "source": [
    "from illufly.types import Runnable\n",
    "\n",
    "class MyRun(Runnable):\n",
    "    def call(*args, **kwargs):\n",
    "        yield \"hi\\n\"\n",
    "        yield \"illufly!\\n\"\n",
    "\n",
    "r = MyRun()\n",
    "r()"
   ]
  },
  {
   "cell_type": "code",
   "execution_count": 3,
   "id": "c38afac3-753b-4f89-a2a2-d573d2f51427",
   "metadata": {},
   "outputs": [
    {
     "data": {
      "text/plain": [
       "{'20241129-67663-0000-0376': {'threads': {},\n",
       "  'callings': {'20241129-67663-0000-4660': [{'id': '20241129-67663-0002-3594',\n",
       "     'event': 'message',\n",
       "     'data': '{\"block_id\": \"20241129-67663-0002-3594\", \"block_type\": \"runnable\", \"content\": \"MyRun.4568773488\", \"content_id\": \"20241129-67663-0003-9023\", \"created_at\": \"2024-11-29T16:07:43.601380\", \"thread_id\": null, \"calling_id\": \"20241129-67663-0000-4660\", \"agent_name\": \"MyRun.4568773488\", \"model_name\": null}'},\n",
       "    {'id': '20241129-67663-0004-9015',\n",
       "     'event': 'message',\n",
       "     'data': '{\"block_id\": \"20241129-67663-0004-9015\", \"block_type\": \"text\", \"content\": \"hi\\\\n\", \"content_id\": \"20241129-67663-0005-9224\", \"created_at\": \"2024-11-29T16:07:43.601449\", \"thread_id\": null, \"calling_id\": \"20241129-67663-0000-4660\", \"agent_name\": \"MyRun.4568773488\", \"model_name\": null}'},\n",
       "    {'id': '20241129-67663-0006-5237',\n",
       "     'event': 'message',\n",
       "     'data': '{\"block_id\": \"20241129-67663-0006-5237\", \"block_type\": \"text\", \"content\": \"illufly!\\\\n\", \"content_id\": \"20241129-67663-0007-6698\", \"created_at\": \"2024-11-29T16:07:43.601693\", \"thread_id\": null, \"calling_id\": \"20241129-67663-0000-4660\", \"agent_name\": \"MyRun.4568773488\", \"model_name\": null}'}]}}}"
      ]
     },
     "execution_count": 3,
     "metadata": {},
     "output_type": "execute_result"
    }
   ],
   "source": [
    "r.events_history.store"
   ]
  },
  {
   "cell_type": "markdown",
   "id": "74a2a559-57b8-4cb9-87dc-0882ce1e4d0a",
   "metadata": {},
   "source": [
    "### 推送事件流"
   ]
  },
  {
   "cell_type": "code",
   "execution_count": 4,
   "id": "ff348926-1250-4474-9312-cd4b93ce9077",
   "metadata": {},
   "outputs": [
    {
     "name": "stdout",
     "output_type": "stream",
     "text": [
      "SSE >> {'id': '20241129-67723-0012-7849', 'event': 'message', 'data': '{\"block_id\": \"20241129-67723-0012-7849\", \"block_type\": \"text\", \"content\": \"hi\\\\n\", \"content_id\": \"20241129-67723-0013-8387\", \"created_at\": \"2024-11-29T16:08:43.427174\", \"thread_id\": null, \"calling_id\": \"20241129-67723-0001-5231\", \"agent_name\": \"MyRun.4568773488\", \"model_name\": null}'}\n",
      "SSE >> {'id': '20241129-67723-0016-0648', 'event': 'message', 'data': '{\"block_id\": \"20241129-67723-0016-0648\", \"block_type\": \"text\", \"content\": \"illufly!\\\\n\", \"content_id\": \"20241129-67723-0017-2515\", \"created_at\": \"2024-11-29T16:08:43.427482\", \"thread_id\": null, \"calling_id\": \"20241129-67723-0001-5231\", \"agent_name\": \"MyRun.4568773488\", \"model_name\": null}'}\n"
     ]
    }
   ],
   "source": [
    "for x in r(generator=\"sync\", verbose=False):\n",
    "    print(\"SSE >>\", x)"
   ]
  },
  {
   "cell_type": "code",
   "execution_count": 5,
   "id": "2be1e231-55f6-4dcc-acd7-f9ccbadaa317",
   "metadata": {},
   "outputs": [
    {
     "name": "stdout",
     "output_type": "stream",
     "text": [
      "SSE >> {'id': '20241129-67724-0022-0058', 'event': 'message', 'data': '{\"block_id\": \"20241129-67724-0022-0058\", \"block_type\": \"text\", \"content\": \"hi\\\\n\", \"content_id\": \"20241129-67724-0023-6530\", \"created_at\": \"2024-11-29T16:08:44.028100\", \"thread_id\": null, \"calling_id\": \"20241129-67724-0002-3152\", \"agent_name\": \"MyRun.4568773488\", \"model_name\": null}'}\n",
      "SSE >> {'id': '20241129-67724-0026-1436', 'event': 'message', 'data': '{\"block_id\": \"20241129-67724-0026-1436\", \"block_type\": \"text\", \"content\": \"illufly!\\\\n\", \"content_id\": \"20241129-67724-0027-9011\", \"created_at\": \"2024-11-29T16:08:44.028664\", \"thread_id\": null, \"calling_id\": \"20241129-67724-0002-3152\", \"agent_name\": \"MyRun.4568773488\", \"model_name\": null}'}\n"
     ]
    }
   ],
   "source": [
    "async for x in r(generator=\"async\", verbose=False):\n",
    "    print(\"SSE >>\", x)"
   ]
  },
  {
   "cell_type": "code",
   "execution_count": 6,
   "id": "406b0aac-5a93-4434-b592-b58d4740c7c9",
   "metadata": {},
   "outputs": [
    {
     "data": {
      "text/plain": [
       "{'20241129-67663-0000-0376': {'threads': {},\n",
       "  'callings': {'20241129-67663-0000-4660': [{'id': '20241129-67663-0002-3594',\n",
       "     'event': 'message',\n",
       "     'data': '{\"block_id\": \"20241129-67663-0002-3594\", \"block_type\": \"runnable\", \"content\": \"MyRun.4568773488\", \"content_id\": \"20241129-67663-0003-9023\", \"created_at\": \"2024-11-29T16:07:43.601380\", \"thread_id\": null, \"calling_id\": \"20241129-67663-0000-4660\", \"agent_name\": \"MyRun.4568773488\", \"model_name\": null}'},\n",
       "    {'id': '20241129-67663-0004-9015',\n",
       "     'event': 'message',\n",
       "     'data': '{\"block_id\": \"20241129-67663-0004-9015\", \"block_type\": \"text\", \"content\": \"hi\\\\n\", \"content_id\": \"20241129-67663-0005-9224\", \"created_at\": \"2024-11-29T16:07:43.601449\", \"thread_id\": null, \"calling_id\": \"20241129-67663-0000-4660\", \"agent_name\": \"MyRun.4568773488\", \"model_name\": null}'},\n",
       "    {'id': '20241129-67663-0006-5237',\n",
       "     'event': 'message',\n",
       "     'data': '{\"block_id\": \"20241129-67663-0006-5237\", \"block_type\": \"text\", \"content\": \"illufly!\\\\n\", \"content_id\": \"20241129-67663-0007-6698\", \"created_at\": \"2024-11-29T16:07:43.601693\", \"thread_id\": null, \"calling_id\": \"20241129-67663-0000-4660\", \"agent_name\": \"MyRun.4568773488\", \"model_name\": null}'}],\n",
       "   '20241129-67723-0001-5231': [{'id': '20241129-67723-0008-6117',\n",
       "     'event': 'message',\n",
       "     'data': '{\"block_id\": \"20241129-67723-0008-6117\", \"block_type\": \"runnable\", \"content\": \"MyRun.4568773488\", \"content_id\": \"20241129-67723-0009-6083\", \"created_at\": \"2024-11-29T16:08:43.427076\", \"thread_id\": null, \"calling_id\": \"20241129-67723-0001-5231\", \"agent_name\": \"MyRun.4568773488\", \"model_name\": null}'},\n",
       "    {'id': '20241129-67723-0010-9839',\n",
       "     'event': 'message',\n",
       "     'data': '{\"block_id\": \"20241129-67723-0010-9839\", \"block_type\": \"text\", \"content\": \"hi\\\\n\", \"content_id\": \"20241129-67723-0011-5760\", \"created_at\": \"2024-11-29T16:08:43.427143\", \"thread_id\": null, \"calling_id\": \"20241129-67723-0001-5231\", \"agent_name\": \"MyRun.4568773488\", \"model_name\": null}'},\n",
       "    {'id': '20241129-67723-0014-5003',\n",
       "     'event': 'message',\n",
       "     'data': '{\"block_id\": \"20241129-67723-0014-5003\", \"block_type\": \"text\", \"content\": \"illufly!\\\\n\", \"content_id\": \"20241129-67723-0015-7973\", \"created_at\": \"2024-11-29T16:08:43.427435\", \"thread_id\": null, \"calling_id\": \"20241129-67723-0001-5231\", \"agent_name\": \"MyRun.4568773488\", \"model_name\": null}'}],\n",
       "   '20241129-67724-0002-3152': [{'id': '20241129-67724-0018-4144',\n",
       "     'event': 'message',\n",
       "     'data': '{\"block_id\": \"20241129-67724-0018-4144\", \"block_type\": \"runnable\", \"content\": \"MyRun.4568773488\", \"content_id\": \"20241129-67724-0019-4617\", \"created_at\": \"2024-11-29T16:08:44.026821\", \"thread_id\": null, \"calling_id\": \"20241129-67724-0002-3152\", \"agent_name\": \"MyRun.4568773488\", \"model_name\": null}'},\n",
       "    {'id': '20241129-67724-0020-2045',\n",
       "     'event': 'message',\n",
       "     'data': '{\"block_id\": \"20241129-67724-0020-2045\", \"block_type\": \"text\", \"content\": \"hi\\\\n\", \"content_id\": \"20241129-67724-0021-6892\", \"created_at\": \"2024-11-29T16:08:44.028048\", \"thread_id\": null, \"calling_id\": \"20241129-67724-0002-3152\", \"agent_name\": \"MyRun.4568773488\", \"model_name\": null}'},\n",
       "    {'id': '20241129-67724-0024-2042',\n",
       "     'event': 'message',\n",
       "     'data': '{\"block_id\": \"20241129-67724-0024-2042\", \"block_type\": \"text\", \"content\": \"illufly!\\\\n\", \"content_id\": \"20241129-67724-0025-1105\", \"created_at\": \"2024-11-29T16:08:44.028613\", \"thread_id\": null, \"calling_id\": \"20241129-67724-0002-3152\", \"agent_name\": \"MyRun.4568773488\", \"model_name\": null}'}]}}}"
      ]
     },
     "execution_count": 6,
     "metadata": {},
     "output_type": "execute_result"
    }
   ],
   "source": [
    "r.events_history.store"
   ]
  },
  {
   "cell_type": "code",
   "execution_count": 7,
   "id": "44132099-8eda-4f79-99af-26355753cde2",
   "metadata": {},
   "outputs": [
    {
     "name": "stdout",
     "output_type": "stream",
     "text": [
      "\u001b[33m['hi\\n', 'illufly!\\n']\u001b[0m"
     ]
    }
   ],
   "source": [
    "from illufly.types import Runnable\n",
    "\n",
    "class MyRun(Runnable):\n",
    "    def call(*args, **kwargs):\n",
    "        yield [\"hi\\n\", \"illufly!\\n\"]\n",
    "\n",
    "r = MyRun()\n",
    "r()"
   ]
  },
  {
   "cell_type": "markdown",
   "id": "a77b3659-d208-4a95-95b5-637bdffdc028",
   "metadata": {},
   "source": [
    "### Runnable 事件流"
   ]
  },
  {
   "cell_type": "code",
   "execution_count": 8,
   "id": "015a17f0-a463-4a77-9409-59a2ababd59a",
   "metadata": {},
   "outputs": [
    {
     "name": "stdout",
     "output_type": "stream",
     "text": [
      "\u001b[32mhi, \u001b[0m\u001b[32millufly\u001b[0m\u001b[32m!\u001b[0m"
     ]
    }
   ],
   "source": [
    "from illufly.types import Runnable, EventBlock\n",
    "\n",
    "class MyRun(Runnable):\n",
    "    def call(*args, **kwargs):\n",
    "        yield EventBlock(\"chunk\", \"hi, \")\n",
    "        yield EventBlock(\"chunk\", \"illufly\")\n",
    "        yield EventBlock(\"chunk\", \"!\")\n",
    "\n",
    "def handle(block, **kwargs):\n",
    "    print(block.json)\n",
    "\n",
    "r = MyRun()\n",
    "r(\"hi\")"
   ]
  },
  {
   "cell_type": "code",
   "execution_count": 9,
   "id": "dfa46644-2b6e-4bc2-b267-bcdb3292ea19",
   "metadata": {},
   "outputs": [
    {
     "data": {
      "text/plain": [
       "{'20241129-67739-0002-7970': {'threads': {},\n",
       "  'callings': {'20241129-67739-0004-2541': [{'id': '20241129-67739-0032-2494',\n",
       "     'event': 'message',\n",
       "     'data': '{\"block_id\": \"20241129-67739-0032-2494\", \"block_type\": \"runnable\", \"content\": \"MyRun.4706565568\", \"content_id\": \"20241129-67739-0033-9221\", \"created_at\": \"2024-11-29T16:08:59.094146\", \"thread_id\": null, \"calling_id\": \"20241129-67739-0004-2541\", \"agent_name\": \"MyRun.4706565568\", \"model_name\": null}'},\n",
       "    {'id': '20241129-67739-0034-4463',\n",
       "     'event': 'message',\n",
       "     'data': '{\"block_id\": \"20241129-67739-0034-4463\", \"block_type\": \"chunk\", \"content\": \"hi, \", \"content_id\": \"20241129-67739-0035-2321\", \"created_at\": \"2024-11-29T16:08:59.094241\", \"thread_id\": null, \"calling_id\": \"20241129-67739-0004-2541\", \"agent_name\": null, \"model_name\": null}'},\n",
       "    {'id': '20241129-67739-0036-7953',\n",
       "     'event': 'message',\n",
       "     'data': '{\"block_id\": \"20241129-67739-0036-7953\", \"block_type\": \"chunk\", \"content\": \"illufly\", \"content_id\": \"20241129-67739-0037-2907\", \"created_at\": \"2024-11-29T16:08:59.094781\", \"thread_id\": null, \"calling_id\": \"20241129-67739-0004-2541\", \"agent_name\": null, \"model_name\": null}'},\n",
       "    {'id': '20241129-67739-0038-9548',\n",
       "     'event': 'message',\n",
       "     'data': '{\"block_id\": \"20241129-67739-0038-9548\", \"block_type\": \"chunk\", \"content\": \"!\", \"content_id\": \"20241129-67739-0039-0146\", \"created_at\": \"2024-11-29T16:08:59.095038\", \"thread_id\": null, \"calling_id\": \"20241129-67739-0004-2541\", \"agent_name\": null, \"model_name\": null}'}]}}}"
      ]
     },
     "execution_count": 9,
     "metadata": {},
     "output_type": "execute_result"
    }
   ],
   "source": [
    "r.events_history.store"
   ]
  },
  {
   "cell_type": "markdown",
   "id": "0ff754cb-9b82-4f0b-8ce6-ef7c1e7a153d",
   "metadata": {},
   "source": [
    "### ChatAgent 事件流"
   ]
  },
  {
   "cell_type": "code",
   "execution_count": 10,
   "id": "e11f2f36-a8f0-4160-aa4d-b3741b05b4f4",
   "metadata": {},
   "outputs": [
    {
     "name": "stdout",
     "output_type": "stream",
     "text": [
      "[ runnable ] FakeLLM.4568762544\n",
      "[ human ] hi\n",
      "[ agent ] FakeLLM.4568762544\n",
      "[ info ] 记住 10 轮对话\n",
      "[ info ] I am FakeLLM\n",
      "[ chunk ] R\n",
      "[ chunk ] e\n",
      "[ chunk ] p\n",
      "[ chunk ] l\n",
      "[ chunk ] y\n",
      "[ chunk ]  \n",
      "[ chunk ] >\n",
      "[ chunk ] >\n",
      "[ chunk ]  \n",
      "[ chunk ] h\n",
      "[ chunk ] i\n",
      "[ new_line ] \n",
      "[ final_text ] Reply >> hi\n"
     ]
    },
    {
     "data": {
      "text/plain": [
       "'Reply >> hi'"
      ]
     },
     "execution_count": 10,
     "metadata": {},
     "output_type": "execute_result"
    }
   ],
   "source": [
    "from illufly.types import Runnable, EventBlock\n",
    "from illufly.chat import FakeLLM\n",
    "from illufly.io import log, alog\n",
    "\n",
    "def my_handler(block, **kwargs):\n",
    "    print(\"[\", block.block_type, \"]\", block.text)\n",
    "\n",
    "r = FakeLLM(handlers=[my_handler], sleep=0.5)\n",
    "r(\"hi\")"
   ]
  },
  {
   "cell_type": "code",
   "execution_count": 11,
   "id": "3354c7ea-8e0a-429f-b27b-196179fd4dd0",
   "metadata": {},
   "outputs": [
    {
     "name": "stdout",
     "output_type": "stream",
     "text": [
      "[HUMAN] \u001b[32mhi\u001b[0m\n",
      "[AGENT] \u001b[34mFakeLLM.4706565520\u001b[0m\n",
      "\u001b[32mR\u001b[0m\u001b[32me\u001b[0m\u001b[32mp\u001b[0m\u001b[32ml\u001b[0m\u001b[32my\u001b[0m\u001b[32m \u001b[0m\u001b[32m>\u001b[0m\u001b[32m>\u001b[0m\u001b[32m \u001b[0m\u001b[32mh\u001b[0m\u001b[32mi\u001b[0m\n"
     ]
    },
    {
     "data": {
      "text/plain": [
       "'Reply >> hi'"
      ]
     },
     "execution_count": 11,
     "metadata": {},
     "output_type": "execute_result"
    }
   ],
   "source": [
    "from illufly.types import Runnable, EventBlock\n",
    "from illufly.chat import FakeLLM\n",
    "from illufly.io import log, alog\n",
    "\n",
    "r = FakeLLM(handlers=[alog], sleep=0.1)\n",
    "await r(\"hi\")"
   ]
  },
  {
   "cell_type": "code",
   "execution_count": 12,
   "id": "49543229-64c3-4f84-91c1-757fc3373dab",
   "metadata": {},
   "outputs": [
    {
     "data": {
      "text/plain": [
       "{'20241129-67758-0004-7641': {'threads': {'FakeLLM.4706565520': '20241129-67758-0001-7056'},\n",
       "  'callings': {'20241129-67758-0006-8941': [{'id': '20241129-67758-0075-5306',\n",
       "     'event': 'message',\n",
       "     'data': '{\"block_id\": \"20241129-67758-0075-5306\", \"block_type\": \"runnable\", \"content\": \"FakeLLM.4706565520\", \"content_id\": \"20241129-67758-0076-4983\", \"created_at\": \"2024-11-29T16:09:18.700119\", \"thread_id\": null, \"calling_id\": \"20241129-67758-0006-8941\", \"agent_name\": \"FakeLLM.4706565520\", \"model_name\": null}'},\n",
       "    {'id': '20241129-67758-0077-3636',\n",
       "     'event': 'message',\n",
       "     'data': '{\"block_id\": \"20241129-67758-0077-3636\", \"block_type\": \"human\", \"content\": \"hi\", \"content_id\": \"20241129-67758-0078-1555\", \"created_at\": \"2024-11-29T16:09:18.701752\", \"thread_id\": null, \"calling_id\": \"20241129-67758-0006-8941\", \"agent_name\": \"FakeLLM.4706565520\", \"model_name\": null}'},\n",
       "    {'id': '20241129-67758-0079-1297',\n",
       "     'event': 'message',\n",
       "     'data': '{\"block_id\": \"20241129-67758-0079-1297\", \"block_type\": \"agent\", \"content\": \"FakeLLM.4706565520\", \"content_id\": \"20241129-67758-0080-6589\", \"created_at\": \"2024-11-29T16:09:18.703354\", \"thread_id\": null, \"calling_id\": \"20241129-67758-0006-8941\", \"agent_name\": \"FakeLLM.4706565520\", \"model_name\": null}'},\n",
       "    {'id': '20241129-67758-0081-9996',\n",
       "     'event': 'message',\n",
       "     'data': '{\"block_id\": \"20241129-67758-0081-9996\", \"block_type\": \"info\", \"content\": \"记住 10 轮对话\", \"content_id\": \"20241129-67758-0082-4303\", \"created_at\": \"2024-11-29T16:09:18.703940\", \"thread_id\": null, \"calling_id\": \"20241129-67758-0006-8941\", \"agent_name\": \"FakeLLM.4706565520\", \"model_name\": null}'},\n",
       "    {'id': '20241129-67758-0083-0113',\n",
       "     'event': 'message',\n",
       "     'data': '{\"block_id\": \"20241129-67758-0083-0113\", \"block_type\": \"info\", \"content\": \"I am FakeLLM\", \"content_id\": \"3b8209acae2911ef868eacde48001122\", \"created_at\": \"2024-11-29T16:09:18.705354\", \"thread_id\": \"20241129-67758-0001-7056\", \"calling_id\": \"20241129-67758-0006-8941\", \"agent_name\": \"FakeLLM.4706565520\", \"model_name\": null}'},\n",
       "    {'id': '20241129-67758-0085-3897',\n",
       "     'event': 'message',\n",
       "     'data': '{\"block_id\": \"20241129-67758-0085-3897\", \"block_type\": \"chunk\", \"content\": \"R\", \"content_id\": \"3b8209acae2911ef868eacde48001122\", \"created_at\": \"2024-11-29T16:09:18.810764\", \"thread_id\": \"20241129-67758-0001-7056\", \"calling_id\": \"20241129-67758-0006-8941\", \"agent_name\": \"FakeLLM.4706565520\", \"model_name\": null}'},\n",
       "    {'id': '20241129-67758-0087-6685',\n",
       "     'event': 'message',\n",
       "     'data': '{\"block_id\": \"20241129-67758-0087-6685\", \"block_type\": \"chunk\", \"content\": \"e\", \"content_id\": \"3b8209acae2911ef868eacde48001122\", \"created_at\": \"2024-11-29T16:09:18.913925\", \"thread_id\": \"20241129-67758-0001-7056\", \"calling_id\": \"20241129-67758-0006-8941\", \"agent_name\": \"FakeLLM.4706565520\", \"model_name\": null}'},\n",
       "    {'id': '20241129-67759-0089-5430',\n",
       "     'event': 'message',\n",
       "     'data': '{\"block_id\": \"20241129-67759-0089-5430\", \"block_type\": \"chunk\", \"content\": \"p\", \"content_id\": \"3b8209acae2911ef868eacde48001122\", \"created_at\": \"2024-11-29T16:09:19.020248\", \"thread_id\": \"20241129-67758-0001-7056\", \"calling_id\": \"20241129-67758-0006-8941\", \"agent_name\": \"FakeLLM.4706565520\", \"model_name\": null}'},\n",
       "    {'id': '20241129-67759-0091-1536',\n",
       "     'event': 'message',\n",
       "     'data': '{\"block_id\": \"20241129-67759-0091-1536\", \"block_type\": \"chunk\", \"content\": \"l\", \"content_id\": \"3b8209acae2911ef868eacde48001122\", \"created_at\": \"2024-11-29T16:09:19.122328\", \"thread_id\": \"20241129-67758-0001-7056\", \"calling_id\": \"20241129-67758-0006-8941\", \"agent_name\": \"FakeLLM.4706565520\", \"model_name\": null}'},\n",
       "    {'id': '20241129-67759-0093-8473',\n",
       "     'event': 'message',\n",
       "     'data': '{\"block_id\": \"20241129-67759-0093-8473\", \"block_type\": \"chunk\", \"content\": \"y\", \"content_id\": \"3b8209acae2911ef868eacde48001122\", \"created_at\": \"2024-11-29T16:09:19.224969\", \"thread_id\": \"20241129-67758-0001-7056\", \"calling_id\": \"20241129-67758-0006-8941\", \"agent_name\": \"FakeLLM.4706565520\", \"model_name\": null}'},\n",
       "    {'id': '20241129-67759-0095-4343',\n",
       "     'event': 'message',\n",
       "     'data': '{\"block_id\": \"20241129-67759-0095-4343\", \"block_type\": \"chunk\", \"content\": \" \", \"content_id\": \"3b8209acae2911ef868eacde48001122\", \"created_at\": \"2024-11-29T16:09:19.328930\", \"thread_id\": \"20241129-67758-0001-7056\", \"calling_id\": \"20241129-67758-0006-8941\", \"agent_name\": \"FakeLLM.4706565520\", \"model_name\": null}'},\n",
       "    {'id': '20241129-67759-0097-8262',\n",
       "     'event': 'message',\n",
       "     'data': '{\"block_id\": \"20241129-67759-0097-8262\", \"block_type\": \"chunk\", \"content\": \">\", \"content_id\": \"3b8209acae2911ef868eacde48001122\", \"created_at\": \"2024-11-29T16:09:19.431495\", \"thread_id\": \"20241129-67758-0001-7056\", \"calling_id\": \"20241129-67758-0006-8941\", \"agent_name\": \"FakeLLM.4706565520\", \"model_name\": null}'},\n",
       "    {'id': '20241129-67759-0099-2095',\n",
       "     'event': 'message',\n",
       "     'data': '{\"block_id\": \"20241129-67759-0099-2095\", \"block_type\": \"chunk\", \"content\": \">\", \"content_id\": \"3b8209acae2911ef868eacde48001122\", \"created_at\": \"2024-11-29T16:09:19.534715\", \"thread_id\": \"20241129-67758-0001-7056\", \"calling_id\": \"20241129-67758-0006-8941\", \"agent_name\": \"FakeLLM.4706565520\", \"model_name\": null}'},\n",
       "    {'id': '20241129-67759-0101-2675',\n",
       "     'event': 'message',\n",
       "     'data': '{\"block_id\": \"20241129-67759-0101-2675\", \"block_type\": \"chunk\", \"content\": \" \", \"content_id\": \"3b8209acae2911ef868eacde48001122\", \"created_at\": \"2024-11-29T16:09:19.640280\", \"thread_id\": \"20241129-67758-0001-7056\", \"calling_id\": \"20241129-67758-0006-8941\", \"agent_name\": \"FakeLLM.4706565520\", \"model_name\": null}'},\n",
       "    {'id': '20241129-67759-0103-8377',\n",
       "     'event': 'message',\n",
       "     'data': '{\"block_id\": \"20241129-67759-0103-8377\", \"block_type\": \"chunk\", \"content\": \"h\", \"content_id\": \"3b8209acae2911ef868eacde48001122\", \"created_at\": \"2024-11-29T16:09:19.742023\", \"thread_id\": \"20241129-67758-0001-7056\", \"calling_id\": \"20241129-67758-0006-8941\", \"agent_name\": \"FakeLLM.4706565520\", \"model_name\": null}'},\n",
       "    {'id': '20241129-67759-0105-6293',\n",
       "     'event': 'message',\n",
       "     'data': '{\"block_id\": \"20241129-67759-0105-6293\", \"block_type\": \"chunk\", \"content\": \"i\", \"content_id\": \"3b8209acae2911ef868eacde48001122\", \"created_at\": \"2024-11-29T16:09:19.848823\", \"thread_id\": \"20241129-67758-0001-7056\", \"calling_id\": \"20241129-67758-0006-8941\", \"agent_name\": \"FakeLLM.4706565520\", \"model_name\": null}'},\n",
       "    {'id': '20241129-67759-0107-4373',\n",
       "     'event': 'message',\n",
       "     'data': '{\"block_id\": \"20241129-67759-0107-4373\", \"block_type\": \"new_line\", \"content\": \"\", \"content_id\": \"3b8209acae2911ef868eacde48001122\", \"created_at\": \"2024-11-29T16:09:19.849932\", \"thread_id\": null, \"calling_id\": \"20241129-67758-0006-8941\", \"agent_name\": null, \"model_name\": null}'},\n",
       "    {'id': '20241129-67759-0109-2693',\n",
       "     'event': 'message',\n",
       "     'data': '{\"block_id\": \"20241129-67759-0109-2693\", \"block_type\": \"final_text\", \"content\": \"Reply >> hi\", \"content_id\": \"3b8209acae2911ef868eacde48001122\", \"created_at\": \"2024-11-29T16:09:19.850642\", \"thread_id\": \"20241129-67758-0001-7056\", \"calling_id\": \"20241129-67758-0006-8941\", \"agent_name\": \"FakeLLM.4706565520\", \"model_name\": null}'}]}}}"
      ]
     },
     "execution_count": 12,
     "metadata": {},
     "output_type": "execute_result"
    }
   ],
   "source": [
    "r.events_history.store"
   ]
  },
  {
   "cell_type": "markdown",
   "id": "de683821-b402-4365-91da-69bd48e6cd0c",
   "metadata": {},
   "source": [
    "### 推送 ChatAgent 事件流"
   ]
  },
  {
   "cell_type": "code",
   "execution_count": 12,
   "id": "5175e0b0-b39d-4b2f-8735-cfd061726446",
   "metadata": {
    "scrolled": true
   },
   "outputs": [
    {
     "name": "stdout",
     "output_type": "stream",
     "text": [
      "{'id': '20241129-45454-0178-6510', 'event': 'message', 'data': '{\"block_id\": \"20241129-45454-0178-6510\", \"block_type\": \"runnable\", \"content\": \"if1\", \"content_id\": \"20241129-45454-0179-9139\", \"created_at\": \"2024-11-29T09:57:34.705933\", \"thread_id\": \"20241129-45454-0004-8782\", \"calling_id\": \"20241129-45454-0009-0319\", \"agent_name\": \"if1\", \"model_name\": null}'}\n",
      "{'id': '20241129-45454-0180-3694', 'event': 'message', 'data': '{\"block_id\": \"20241129-45454-0180-3694\", \"block_type\": \"user\", \"content\": \"给我写一篇200字小作文\", \"content_id\": \"20241129-45454-0181-2420\", \"created_at\": \"2024-11-29T09:57:34.706812\", \"thread_id\": \"20241129-45454-0004-8782\", \"calling_id\": \"20241129-45454-0009-0319\", \"agent_name\": \"if1\", \"model_name\": null}'}\n",
      "{'id': '20241129-45454-0182-5094', 'event': 'message', 'data': '{\"block_id\": \"20241129-45454-0182-5094\", \"block_type\": \"agent\", \"content\": \"if1\", \"content_id\": \"20241129-45454-0183-9378\", \"created_at\": \"2024-11-29T09:57:34.707047\", \"thread_id\": \"20241129-45454-0004-8782\", \"calling_id\": \"20241129-45454-0009-0319\", \"agent_name\": \"if1\", \"model_name\": null}'}\n",
      "{'id': '20241129-45454-0184-1084', 'event': 'message', 'data': '{\"block_id\": \"20241129-45454-0184-1084\", \"block_type\": \"info\", \"content\": \"记住 10 轮对话\", \"content_id\": \"20241129-45454-0185-1974\", \"created_at\": \"2024-11-29T09:57:34.707629\", \"thread_id\": \"20241129-45454-0004-8782\", \"calling_id\": \"20241129-45454-0009-0319\", \"agent_name\": \"if1\", \"model_name\": null}'}\n",
      "{'id': '20241129-45454-0186-6089', 'event': 'message', 'data': '{\"block_id\": \"20241129-45454-0186-6089\", \"block_type\": \"info\", \"content\": \"I am FakeLLM\", \"content_id\": \"4d4a49b2adf511ef84fcacde48001122\", \"created_at\": \"2024-11-29T09:57:34.709642\", \"thread_id\": \"20241129-45454-0004-8782\", \"calling_id\": \"20241129-45454-0009-0319\", \"agent_name\": \"if1\", \"model_name\": null}'}\n",
      "{'id': '20241129-45454-0188-1000', 'event': 'message', 'data': '{\"block_id\": \"20241129-45454-0188-1000\", \"block_type\": \"chunk\", \"content\": \"R\", \"content_id\": \"4d4a49b2adf511ef84fcacde48001122\", \"created_at\": \"2024-11-29T09:57:34.810466\", \"thread_id\": \"20241129-45454-0004-8782\", \"calling_id\": \"20241129-45454-0009-0319\", \"agent_name\": \"if1\", \"model_name\": null}'}\n",
      "{'id': '20241129-45454-0190-0534', 'event': 'message', 'data': '{\"block_id\": \"20241129-45454-0190-0534\", \"block_type\": \"chunk\", \"content\": \"e\", \"content_id\": \"4d4a49b2adf511ef84fcacde48001122\", \"created_at\": \"2024-11-29T09:57:34.912803\", \"thread_id\": \"20241129-45454-0004-8782\", \"calling_id\": \"20241129-45454-0009-0319\", \"agent_name\": \"if1\", \"model_name\": null}'}\n",
      "{'id': '20241129-45455-0192-7376', 'event': 'message', 'data': '{\"block_id\": \"20241129-45455-0192-7376\", \"block_type\": \"chunk\", \"content\": \"p\", \"content_id\": \"4d4a49b2adf511ef84fcacde48001122\", \"created_at\": \"2024-11-29T09:57:35.016042\", \"thread_id\": \"20241129-45454-0004-8782\", \"calling_id\": \"20241129-45454-0009-0319\", \"agent_name\": \"if1\", \"model_name\": null}'}\n",
      "{'id': '20241129-45455-0194-9871', 'event': 'message', 'data': '{\"block_id\": \"20241129-45455-0194-9871\", \"block_type\": \"chunk\", \"content\": \"l\", \"content_id\": \"4d4a49b2adf511ef84fcacde48001122\", \"created_at\": \"2024-11-29T09:57:35.118378\", \"thread_id\": \"20241129-45454-0004-8782\", \"calling_id\": \"20241129-45454-0009-0319\", \"agent_name\": \"if1\", \"model_name\": null}'}\n",
      "{'id': '20241129-45455-0196-2001', 'event': 'message', 'data': '{\"block_id\": \"20241129-45455-0196-2001\", \"block_type\": \"chunk\", \"content\": \"y\", \"content_id\": \"4d4a49b2adf511ef84fcacde48001122\", \"created_at\": \"2024-11-29T09:57:35.224899\", \"thread_id\": \"20241129-45454-0004-8782\", \"calling_id\": \"20241129-45454-0009-0319\", \"agent_name\": \"if1\", \"model_name\": null}'}\n",
      "{'id': '20241129-45455-0198-2435', 'event': 'message', 'data': '{\"block_id\": \"20241129-45455-0198-2435\", \"block_type\": \"chunk\", \"content\": \" \", \"content_id\": \"4d4a49b2adf511ef84fcacde48001122\", \"created_at\": \"2024-11-29T09:57:35.327307\", \"thread_id\": \"20241129-45454-0004-8782\", \"calling_id\": \"20241129-45454-0009-0319\", \"agent_name\": \"if1\", \"model_name\": null}'}\n",
      "{'id': '20241129-45455-0200-8735', 'event': 'message', 'data': '{\"block_id\": \"20241129-45455-0200-8735\", \"block_type\": \"chunk\", \"content\": \">\", \"content_id\": \"4d4a49b2adf511ef84fcacde48001122\", \"created_at\": \"2024-11-29T09:57:35.431733\", \"thread_id\": \"20241129-45454-0004-8782\", \"calling_id\": \"20241129-45454-0009-0319\", \"agent_name\": \"if1\", \"model_name\": null}'}\n",
      "{'id': '20241129-45455-0202-2923', 'event': 'message', 'data': '{\"block_id\": \"20241129-45455-0202-2923\", \"block_type\": \"chunk\", \"content\": \">\", \"content_id\": \"4d4a49b2adf511ef84fcacde48001122\", \"created_at\": \"2024-11-29T09:57:35.535919\", \"thread_id\": \"20241129-45454-0004-8782\", \"calling_id\": \"20241129-45454-0009-0319\", \"agent_name\": \"if1\", \"model_name\": null}'}\n",
      "{'id': '20241129-45455-0204-9153', 'event': 'message', 'data': '{\"block_id\": \"20241129-45455-0204-9153\", \"block_type\": \"chunk\", \"content\": \" \", \"content_id\": \"4d4a49b2adf511ef84fcacde48001122\", \"created_at\": \"2024-11-29T09:57:35.640355\", \"thread_id\": \"20241129-45454-0004-8782\", \"calling_id\": \"20241129-45454-0009-0319\", \"agent_name\": \"if1\", \"model_name\": null}'}\n",
      "{'id': '20241129-45455-0206-5942', 'event': 'message', 'data': '{\"block_id\": \"20241129-45455-0206-5942\", \"block_type\": \"chunk\", \"content\": \"给\", \"content_id\": \"4d4a49b2adf511ef84fcacde48001122\", \"created_at\": \"2024-11-29T09:57:35.744195\", \"thread_id\": \"20241129-45454-0004-8782\", \"calling_id\": \"20241129-45454-0009-0319\", \"agent_name\": \"if1\", \"model_name\": null}'}\n",
      "{'id': '20241129-45455-0208-3950', 'event': 'message', 'data': '{\"block_id\": \"20241129-45455-0208-3950\", \"block_type\": \"chunk\", \"content\": \"我\", \"content_id\": \"4d4a49b2adf511ef84fcacde48001122\", \"created_at\": \"2024-11-29T09:57:35.847727\", \"thread_id\": \"20241129-45454-0004-8782\", \"calling_id\": \"20241129-45454-0009-0319\", \"agent_name\": \"if1\", \"model_name\": null}'}\n",
      "{'id': '20241129-45455-0210-0459', 'event': 'message', 'data': '{\"block_id\": \"20241129-45455-0210-0459\", \"block_type\": \"chunk\", \"content\": \"写\", \"content_id\": \"4d4a49b2adf511ef84fcacde48001122\", \"created_at\": \"2024-11-29T09:57:35.951235\", \"thread_id\": \"20241129-45454-0004-8782\", \"calling_id\": \"20241129-45454-0009-0319\", \"agent_name\": \"if1\", \"model_name\": null}'}\n",
      "{'id': '20241129-45456-0212-4684', 'event': 'message', 'data': '{\"block_id\": \"20241129-45456-0212-4684\", \"block_type\": \"chunk\", \"content\": \"一\", \"content_id\": \"4d4a49b2adf511ef84fcacde48001122\", \"created_at\": \"2024-11-29T09:57:36.054242\", \"thread_id\": \"20241129-45454-0004-8782\", \"calling_id\": \"20241129-45454-0009-0319\", \"agent_name\": \"if1\", \"model_name\": null}'}\n",
      "{'id': '20241129-45456-0214-0144', 'event': 'message', 'data': '{\"block_id\": \"20241129-45456-0214-0144\", \"block_type\": \"chunk\", \"content\": \"篇\", \"content_id\": \"4d4a49b2adf511ef84fcacde48001122\", \"created_at\": \"2024-11-29T09:57:36.158441\", \"thread_id\": \"20241129-45454-0004-8782\", \"calling_id\": \"20241129-45454-0009-0319\", \"agent_name\": \"if1\", \"model_name\": null}'}\n",
      "{'id': '20241129-45456-0216-2841', 'event': 'message', 'data': '{\"block_id\": \"20241129-45456-0216-2841\", \"block_type\": \"chunk\", \"content\": \"2\", \"content_id\": \"4d4a49b2adf511ef84fcacde48001122\", \"created_at\": \"2024-11-29T09:57:36.260438\", \"thread_id\": \"20241129-45454-0004-8782\", \"calling_id\": \"20241129-45454-0009-0319\", \"agent_name\": \"if1\", \"model_name\": null}'}\n",
      "{'id': '20241129-45456-0218-5165', 'event': 'message', 'data': '{\"block_id\": \"20241129-45456-0218-5165\", \"block_type\": \"chunk\", \"content\": \"0\", \"content_id\": \"4d4a49b2adf511ef84fcacde48001122\", \"created_at\": \"2024-11-29T09:57:36.362020\", \"thread_id\": \"20241129-45454-0004-8782\", \"calling_id\": \"20241129-45454-0009-0319\", \"agent_name\": \"if1\", \"model_name\": null}'}\n",
      "{'id': '20241129-45456-0220-7028', 'event': 'message', 'data': '{\"block_id\": \"20241129-45456-0220-7028\", \"block_type\": \"chunk\", \"content\": \"0\", \"content_id\": \"4d4a49b2adf511ef84fcacde48001122\", \"created_at\": \"2024-11-29T09:57:36.467359\", \"thread_id\": \"20241129-45454-0004-8782\", \"calling_id\": \"20241129-45454-0009-0319\", \"agent_name\": \"if1\", \"model_name\": null}'}\n",
      "{'id': '20241129-45456-0222-4544', 'event': 'message', 'data': '{\"block_id\": \"20241129-45456-0222-4544\", \"block_type\": \"chunk\", \"content\": \"字\", \"content_id\": \"4d4a49b2adf511ef84fcacde48001122\", \"created_at\": \"2024-11-29T09:57:36.568197\", \"thread_id\": \"20241129-45454-0004-8782\", \"calling_id\": \"20241129-45454-0009-0319\", \"agent_name\": \"if1\", \"model_name\": null}'}\n",
      "{'id': '20241129-45456-0224-4777', 'event': 'message', 'data': '{\"block_id\": \"20241129-45456-0224-4777\", \"block_type\": \"chunk\", \"content\": \"小\", \"content_id\": \"4d4a49b2adf511ef84fcacde48001122\", \"created_at\": \"2024-11-29T09:57:36.670274\", \"thread_id\": \"20241129-45454-0004-8782\", \"calling_id\": \"20241129-45454-0009-0319\", \"agent_name\": \"if1\", \"model_name\": null}'}\n",
      "{'id': '20241129-45456-0226-6509', 'event': 'message', 'data': '{\"block_id\": \"20241129-45456-0226-6509\", \"block_type\": \"chunk\", \"content\": \"作\", \"content_id\": \"4d4a49b2adf511ef84fcacde48001122\", \"created_at\": \"2024-11-29T09:57:36.774987\", \"thread_id\": \"20241129-45454-0004-8782\", \"calling_id\": \"20241129-45454-0009-0319\", \"agent_name\": \"if1\", \"model_name\": null}'}\n",
      "{'id': '20241129-45456-0228-9664', 'event': 'message', 'data': '{\"block_id\": \"20241129-45456-0228-9664\", \"block_type\": \"chunk\", \"content\": \"文\", \"content_id\": \"4d4a49b2adf511ef84fcacde48001122\", \"created_at\": \"2024-11-29T09:57:36.877547\", \"thread_id\": \"20241129-45454-0004-8782\", \"calling_id\": \"20241129-45454-0009-0319\", \"agent_name\": \"if1\", \"model_name\": null}'}\n",
      "{'id': '20241129-45456-0230-4418', 'event': 'message', 'data': '{\"block_id\": \"20241129-45456-0230-4418\", \"block_type\": \"new_line\", \"content\": \"\", \"content_id\": \"4d4a49b2adf511ef84fcacde48001122\", \"created_at\": \"2024-11-29T09:57:36.878159\", \"thread_id\": null, \"calling_id\": \"20241129-45454-0009-0319\", \"agent_name\": null, \"model_name\": null}'}\n",
      "{'id': '20241129-45456-0232-2280', 'event': 'message', 'data': '{\"block_id\": \"20241129-45456-0232-2280\", \"block_type\": \"final_text\", \"content\": \"Reply >> 给我写一篇200字小作文\", \"content_id\": \"4d4a49b2adf511ef84fcacde48001122\", \"created_at\": \"2024-11-29T09:57:36.878977\", \"thread_id\": \"20241129-45454-0004-8782\", \"calling_id\": \"20241129-45454-0009-0319\", \"agent_name\": \"if1\", \"model_name\": null}'}\n"
     ]
    }
   ],
   "source": [
    "from illufly.chat import FakeLLM\n",
    "\n",
    "llm = FakeLLM(name=\"if1\", handlers=[])\n",
    "llm.create_new_thread()\n",
    "\n",
    "async for b in llm(\"给我写一篇200字小作文\", generator=\"async\", sleep=0.1):\n",
    "    print(b)"
   ]
  },
  {
   "cell_type": "code",
   "execution_count": 13,
   "id": "ccc945a8-8803-4d01-8e30-9d34ef77c6b0",
   "metadata": {
    "scrolled": true
   },
   "outputs": [
    {
     "name": "stdout",
     "output_type": "stream",
     "text": [
      "{'id': '20241129-45476-0233-4101', 'event': 'message', 'data': '{\"block_id\": \"20241129-45476-0233-4101\", \"block_type\": \"runnable\", \"content\": \"if1\", \"content_id\": \"20241129-45476-0234-1992\", \"created_at\": \"2024-11-29T09:57:56.725106\", \"thread_id\": \"20241129-45454-0004-8782\", \"calling_id\": \"20241129-45476-0010-9033\", \"agent_name\": \"if1\", \"model_name\": null}'}\n",
      "{'id': '20241129-45476-0235-5575', 'event': 'message', 'data': '{\"block_id\": \"20241129-45476-0235-5575\", \"block_type\": \"user\", \"content\": \"给我写一篇200字小作文\", \"content_id\": \"20241129-45476-0236-6834\", \"created_at\": \"2024-11-29T09:57:56.725721\", \"thread_id\": \"20241129-45454-0004-8782\", \"calling_id\": \"20241129-45476-0010-9033\", \"agent_name\": \"if1\", \"model_name\": null}'}\n",
      "{'id': '20241129-45476-0237-6512', 'event': 'message', 'data': '{\"block_id\": \"20241129-45476-0237-6512\", \"block_type\": \"agent\", \"content\": \"if1\", \"content_id\": \"20241129-45476-0238-3258\", \"created_at\": \"2024-11-29T09:57:56.725955\", \"thread_id\": \"20241129-45454-0004-8782\", \"calling_id\": \"20241129-45476-0010-9033\", \"agent_name\": \"if1\", \"model_name\": null}'}\n",
      "{'id': '20241129-45476-0239-9706', 'event': 'message', 'data': '{\"block_id\": \"20241129-45476-0239-9706\", \"block_type\": \"info\", \"content\": \"记住 10 轮对话\", \"content_id\": \"20241129-45476-0240-8072\", \"created_at\": \"2024-11-29T09:57:56.726480\", \"thread_id\": \"20241129-45454-0004-8782\", \"calling_id\": \"20241129-45476-0010-9033\", \"agent_name\": \"if1\", \"model_name\": null}'}\n",
      "{'id': '20241129-45476-0241-3932', 'event': 'message', 'data': '{\"block_id\": \"20241129-45476-0241-3932\", \"block_type\": \"info\", \"content\": \"I am FakeLLM\", \"content_id\": \"5a6a14a6adf511ef84fcacde48001122\", \"created_at\": \"2024-11-29T09:57:56.728127\", \"thread_id\": \"20241129-45454-0004-8782\", \"calling_id\": \"20241129-45476-0010-9033\", \"agent_name\": \"if1\", \"model_name\": null}'}\n",
      "{'id': '20241129-45476-0243-6344', 'event': 'message', 'data': '{\"block_id\": \"20241129-45476-0243-6344\", \"block_type\": \"chunk\", \"content\": \"R\", \"content_id\": \"5a6a14a6adf511ef84fcacde48001122\", \"created_at\": \"2024-11-29T09:57:56.832922\", \"thread_id\": \"20241129-45454-0004-8782\", \"calling_id\": \"20241129-45476-0010-9033\", \"agent_name\": \"if1\", \"model_name\": null}'}\n",
      "{'id': '20241129-45476-0245-0008', 'event': 'message', 'data': '{\"block_id\": \"20241129-45476-0245-0008\", \"block_type\": \"chunk\", \"content\": \"e\", \"content_id\": \"5a6a14a6adf511ef84fcacde48001122\", \"created_at\": \"2024-11-29T09:57:56.936822\", \"thread_id\": \"20241129-45454-0004-8782\", \"calling_id\": \"20241129-45476-0010-9033\", \"agent_name\": \"if1\", \"model_name\": null}'}\n",
      "{'id': '20241129-45477-0247-0090', 'event': 'message', 'data': '{\"block_id\": \"20241129-45477-0247-0090\", \"block_type\": \"chunk\", \"content\": \"p\", \"content_id\": \"5a6a14a6adf511ef84fcacde48001122\", \"created_at\": \"2024-11-29T09:57:57.039836\", \"thread_id\": \"20241129-45454-0004-8782\", \"calling_id\": \"20241129-45476-0010-9033\", \"agent_name\": \"if1\", \"model_name\": null}'}\n",
      "{'id': '20241129-45477-0249-2100', 'event': 'message', 'data': '{\"block_id\": \"20241129-45477-0249-2100\", \"block_type\": \"chunk\", \"content\": \"l\", \"content_id\": \"5a6a14a6adf511ef84fcacde48001122\", \"created_at\": \"2024-11-29T09:57:57.144859\", \"thread_id\": \"20241129-45454-0004-8782\", \"calling_id\": \"20241129-45476-0010-9033\", \"agent_name\": \"if1\", \"model_name\": null}'}\n",
      "{'id': '20241129-45477-0251-2939', 'event': 'message', 'data': '{\"block_id\": \"20241129-45477-0251-2939\", \"block_type\": \"chunk\", \"content\": \"y\", \"content_id\": \"5a6a14a6adf511ef84fcacde48001122\", \"created_at\": \"2024-11-29T09:57:57.248703\", \"thread_id\": \"20241129-45454-0004-8782\", \"calling_id\": \"20241129-45476-0010-9033\", \"agent_name\": \"if1\", \"model_name\": null}'}\n",
      "{'id': '20241129-45477-0253-4145', 'event': 'message', 'data': '{\"block_id\": \"20241129-45477-0253-4145\", \"block_type\": \"chunk\", \"content\": \" \", \"content_id\": \"5a6a14a6adf511ef84fcacde48001122\", \"created_at\": \"2024-11-29T09:57:57.354555\", \"thread_id\": \"20241129-45454-0004-8782\", \"calling_id\": \"20241129-45476-0010-9033\", \"agent_name\": \"if1\", \"model_name\": null}'}\n",
      "{'id': '20241129-45477-0255-2259', 'event': 'message', 'data': '{\"block_id\": \"20241129-45477-0255-2259\", \"block_type\": \"chunk\", \"content\": \">\", \"content_id\": \"5a6a14a6adf511ef84fcacde48001122\", \"created_at\": \"2024-11-29T09:57:57.459859\", \"thread_id\": \"20241129-45454-0004-8782\", \"calling_id\": \"20241129-45476-0010-9033\", \"agent_name\": \"if1\", \"model_name\": null}'}\n",
      "{'id': '20241129-45477-0257-8497', 'event': 'message', 'data': '{\"block_id\": \"20241129-45477-0257-8497\", \"block_type\": \"chunk\", \"content\": \">\", \"content_id\": \"5a6a14a6adf511ef84fcacde48001122\", \"created_at\": \"2024-11-29T09:57:57.562925\", \"thread_id\": \"20241129-45454-0004-8782\", \"calling_id\": \"20241129-45476-0010-9033\", \"agent_name\": \"if1\", \"model_name\": null}'}\n",
      "{'id': '20241129-45477-0259-6489', 'event': 'message', 'data': '{\"block_id\": \"20241129-45477-0259-6489\", \"block_type\": \"chunk\", \"content\": \" \", \"content_id\": \"5a6a14a6adf511ef84fcacde48001122\", \"created_at\": \"2024-11-29T09:57:57.667714\", \"thread_id\": \"20241129-45454-0004-8782\", \"calling_id\": \"20241129-45476-0010-9033\", \"agent_name\": \"if1\", \"model_name\": null}'}\n",
      "{'id': '20241129-45477-0261-2223', 'event': 'message', 'data': '{\"block_id\": \"20241129-45477-0261-2223\", \"block_type\": \"chunk\", \"content\": \"给\", \"content_id\": \"5a6a14a6adf511ef84fcacde48001122\", \"created_at\": \"2024-11-29T09:57:57.768801\", \"thread_id\": \"20241129-45454-0004-8782\", \"calling_id\": \"20241129-45476-0010-9033\", \"agent_name\": \"if1\", \"model_name\": null}'}\n",
      "{'id': '20241129-45477-0263-0576', 'event': 'message', 'data': '{\"block_id\": \"20241129-45477-0263-0576\", \"block_type\": \"chunk\", \"content\": \"我\", \"content_id\": \"5a6a14a6adf511ef84fcacde48001122\", \"created_at\": \"2024-11-29T09:57:57.875006\", \"thread_id\": \"20241129-45454-0004-8782\", \"calling_id\": \"20241129-45476-0010-9033\", \"agent_name\": \"if1\", \"model_name\": null}'}\n",
      "{'id': '20241129-45477-0265-5086', 'event': 'message', 'data': '{\"block_id\": \"20241129-45477-0265-5086\", \"block_type\": \"chunk\", \"content\": \"写\", \"content_id\": \"5a6a14a6adf511ef84fcacde48001122\", \"created_at\": \"2024-11-29T09:57:57.980084\", \"thread_id\": \"20241129-45454-0004-8782\", \"calling_id\": \"20241129-45476-0010-9033\", \"agent_name\": \"if1\", \"model_name\": null}'}\n",
      "{'id': '20241129-45478-0267-4409', 'event': 'message', 'data': '{\"block_id\": \"20241129-45478-0267-4409\", \"block_type\": \"chunk\", \"content\": \"一\", \"content_id\": \"5a6a14a6adf511ef84fcacde48001122\", \"created_at\": \"2024-11-29T09:57:58.085005\", \"thread_id\": \"20241129-45454-0004-8782\", \"calling_id\": \"20241129-45476-0010-9033\", \"agent_name\": \"if1\", \"model_name\": null}'}\n",
      "{'id': '20241129-45478-0269-7464', 'event': 'message', 'data': '{\"block_id\": \"20241129-45478-0269-7464\", \"block_type\": \"chunk\", \"content\": \"篇\", \"content_id\": \"5a6a14a6adf511ef84fcacde48001122\", \"created_at\": \"2024-11-29T09:57:58.188226\", \"thread_id\": \"20241129-45454-0004-8782\", \"calling_id\": \"20241129-45476-0010-9033\", \"agent_name\": \"if1\", \"model_name\": null}'}\n",
      "{'id': '20241129-45478-0271-5899', 'event': 'message', 'data': '{\"block_id\": \"20241129-45478-0271-5899\", \"block_type\": \"chunk\", \"content\": \"2\", \"content_id\": \"5a6a14a6adf511ef84fcacde48001122\", \"created_at\": \"2024-11-29T09:57:58.293524\", \"thread_id\": \"20241129-45454-0004-8782\", \"calling_id\": \"20241129-45476-0010-9033\", \"agent_name\": \"if1\", \"model_name\": null}'}\n",
      "{'id': '20241129-45478-0273-6250', 'event': 'message', 'data': '{\"block_id\": \"20241129-45478-0273-6250\", \"block_type\": \"chunk\", \"content\": \"0\", \"content_id\": \"5a6a14a6adf511ef84fcacde48001122\", \"created_at\": \"2024-11-29T09:57:58.398991\", \"thread_id\": \"20241129-45454-0004-8782\", \"calling_id\": \"20241129-45476-0010-9033\", \"agent_name\": \"if1\", \"model_name\": null}'}\n",
      "{'id': '20241129-45478-0275-2915', 'event': 'message', 'data': '{\"block_id\": \"20241129-45478-0275-2915\", \"block_type\": \"chunk\", \"content\": \"0\", \"content_id\": \"5a6a14a6adf511ef84fcacde48001122\", \"created_at\": \"2024-11-29T09:57:58.504035\", \"thread_id\": \"20241129-45454-0004-8782\", \"calling_id\": \"20241129-45476-0010-9033\", \"agent_name\": \"if1\", \"model_name\": null}'}\n",
      "{'id': '20241129-45478-0277-1303', 'event': 'message', 'data': '{\"block_id\": \"20241129-45478-0277-1303\", \"block_type\": \"chunk\", \"content\": \"字\", \"content_id\": \"5a6a14a6adf511ef84fcacde48001122\", \"created_at\": \"2024-11-29T09:57:58.605051\", \"thread_id\": \"20241129-45454-0004-8782\", \"calling_id\": \"20241129-45476-0010-9033\", \"agent_name\": \"if1\", \"model_name\": null}'}\n",
      "{'id': '20241129-45478-0279-6159', 'event': 'message', 'data': '{\"block_id\": \"20241129-45478-0279-6159\", \"block_type\": \"chunk\", \"content\": \"小\", \"content_id\": \"5a6a14a6adf511ef84fcacde48001122\", \"created_at\": \"2024-11-29T09:57:58.709663\", \"thread_id\": \"20241129-45454-0004-8782\", \"calling_id\": \"20241129-45476-0010-9033\", \"agent_name\": \"if1\", \"model_name\": null}'}\n",
      "{'id': '20241129-45478-0281-9260', 'event': 'message', 'data': '{\"block_id\": \"20241129-45478-0281-9260\", \"block_type\": \"chunk\", \"content\": \"作\", \"content_id\": \"5a6a14a6adf511ef84fcacde48001122\", \"created_at\": \"2024-11-29T09:57:58.813234\", \"thread_id\": \"20241129-45454-0004-8782\", \"calling_id\": \"20241129-45476-0010-9033\", \"agent_name\": \"if1\", \"model_name\": null}'}\n",
      "{'id': '20241129-45478-0283-4643', 'event': 'message', 'data': '{\"block_id\": \"20241129-45478-0283-4643\", \"block_type\": \"chunk\", \"content\": \"文\", \"content_id\": \"5a6a14a6adf511ef84fcacde48001122\", \"created_at\": \"2024-11-29T09:57:58.917500\", \"thread_id\": \"20241129-45454-0004-8782\", \"calling_id\": \"20241129-45476-0010-9033\", \"agent_name\": \"if1\", \"model_name\": null}'}\n",
      "{'id': '20241129-45478-0285-1346', 'event': 'message', 'data': '{\"block_id\": \"20241129-45478-0285-1346\", \"block_type\": \"new_line\", \"content\": \"\", \"content_id\": \"5a6a14a6adf511ef84fcacde48001122\", \"created_at\": \"2024-11-29T09:57:58.917854\", \"thread_id\": null, \"calling_id\": \"20241129-45476-0010-9033\", \"agent_name\": null, \"model_name\": null}'}\n",
      "{'id': '20241129-45478-0287-2507', 'event': 'message', 'data': '{\"block_id\": \"20241129-45478-0287-2507\", \"block_type\": \"final_text\", \"content\": \"Reply >> 给我写一篇200字小作文\", \"content_id\": \"5a6a14a6adf511ef84fcacde48001122\", \"created_at\": \"2024-11-29T09:57:58.918113\", \"thread_id\": \"20241129-45454-0004-8782\", \"calling_id\": \"20241129-45476-0010-9033\", \"agent_name\": \"if1\", \"model_name\": null}'}\n"
     ]
    }
   ],
   "source": [
    "async for b in llm(\"给我写一篇200字小作文\", generator=\"async\", sleep=0.1):\n",
    "    print(b)"
   ]
  },
  {
   "cell_type": "markdown",
   "id": "f1f8e180-9810-41f5-a536-ded3b2da909e",
   "metadata": {},
   "source": [
    "## 嵌套 BaseAgent"
   ]
  },
  {
   "cell_type": "code",
   "execution_count": 1,
   "id": "b88d4907-2469-4a6c-83ab-845647e6e0c2",
   "metadata": {
    "scrolled": true
   },
   "outputs": [
    {
     "name": "stdout",
     "output_type": "stream",
     "text": [
      "{'event': 'log', 'id': '20241122-89486-0000-5272', 'data': {'content': 'ReAct.4557867328', 'block_type': 'runnable', 'content_id': '20241122-89486-0001-8567', 'created_at': '2024-11-22T23:31:26.754816', 'thread_id': None, 'calling_id': '20241122-89486-0000-8696', 'agent_name': 'ReAct.4557867328', 'model_name': None}}\n",
      "{'event': 'log', 'id': '20241122-89486-0002-7206', 'data': {'content': '>>> flow-node-1: planner', 'block_type': 'node', 'content_id': '20241122-89486-0003-8546', 'created_at': '2024-11-22T23:31:26.755321', 'thread_id': None, 'calling_id': '20241122-89486-0000-8696', 'agent_name': 'ReAct.4557867328', 'model_name': None}}\n",
      "{'event': 'log', 'id': '20241122-89486-0004-3324', 'data': {'content': '我在鸿蒙公司，帮我查询一下天气情况', 'block_type': 'user', 'content_id': '20241122-89486-0005-9716', 'created_at': '2024-11-22T23:31:26.755581', 'thread_id': None, 'calling_id': '20241122-89486-0000-8696', 'agent_name': 'react-planner', 'model_name': 'qwen-plus'}}\n",
      "[AGENT] \u001b[34mreact-planner\u001b[0m\n",
      "{'event': 'log', 'id': '20241122-89486-0006-9655', 'data': {'content': 'react-planner', 'block_type': 'agent', 'content_id': '20241122-89486-0007-2893', 'created_at': '2024-11-22T23:31:26.755675', 'thread_id': None, 'calling_id': '20241122-89486-0000-8696', 'agent_name': 'react-planner', 'model_name': 'qwen-plus'}}\n",
      "{'event': 'log', 'id': '20241122-89486-0008-5843', 'data': {'content': '记住 10 轮对话', 'block_type': 'info', 'content_id': '20241122-89486-0009-6589', 'created_at': '2024-11-22T23:31:26.755851', 'thread_id': None, 'calling_id': '20241122-89486-0000-8696', 'agent_name': 'react-planner', 'model_name': 'qwen-plus'}}\n",
      "\u001b[32m**\u001b[0m{'event': 'log', 'id': '20241122-89489-0010-4399', 'data': {'content': '**', 'block_type': 'chunk', 'content_id': 'd69142b6a8e611ef8572acde48001122', 'created_at': '2024-11-22T23:31:29.352715', 'thread_id': '20241122-89486-0000-6633', 'calling_id': '20241122-89486-0000-8696', 'agent_name': 'react-planner', 'model_name': 'qwen-plus'}}\n",
      "\u001b[32m思考\u001b[0m{'event': 'log', 'id': '20241122-89489-0012-7272', 'data': {'content': '思考', 'block_type': 'chunk', 'content_id': 'd69142b6a8e611ef8572acde48001122', 'created_at': '2024-11-22T23:31:29.354711', 'thread_id': '20241122-89486-0000-6633', 'calling_id': '20241122-89486-0000-8696', 'agent_name': 'react-planner', 'model_name': 'qwen-plus'}}\n",
      "\u001b[32m**\u001b[0m{'event': 'log', 'id': '20241122-89489-0014-7901', 'data': {'content': '**', 'block_type': 'chunk', 'content_id': 'd69142b6a8e611ef8572acde48001122', 'created_at': '2024-11-22T23:31:29.364977', 'thread_id': '20241122-89486-0000-6633', 'calling_id': '20241122-89486-0000-8696', 'agent_name': 'react-planner', 'model_name': 'qwen-plus'}}\n",
      "\u001b[32m \n",
      "\u001b[0m{'event': 'log', 'id': '20241122-89489-0016-0727', 'data': {'content': ' \\n', 'block_type': 'chunk', 'content_id': 'd69142b6a8e611ef8572acde48001122', 'created_at': '2024-11-22T23:31:29.412421', 'thread_id': '20241122-89486-0000-6633', 'calling_id': '20241122-89486-0000-8696', 'agent_name': 'react-planner', 'model_name': 'qwen-plus'}}\n",
      "\u001b[32m为了提供准确的\u001b[0m{'event': 'log', 'id': '20241122-89489-0018-0506', 'data': {'content': '为了提供准确的', 'block_type': 'chunk', 'content_id': 'd69142b6a8e611ef8572acde48001122', 'created_at': '2024-11-22T23:31:29.600439', 'thread_id': '20241122-89486-0000-6633', 'calling_id': '20241122-89486-0000-8696', 'agent_name': 'react-planner', 'model_name': 'qwen-plus'}}\n",
      "\u001b[32m天气信息，我\u001b[0m{'event': 'log', 'id': '20241122-89489-0020-4218', 'data': {'content': '天气信息，我', 'block_type': 'chunk', 'content_id': 'd69142b6a8e611ef8572acde48001122', 'created_at': '2024-11-22T23:31:29.676222', 'thread_id': '20241122-89486-0000-6633', 'calling_id': '20241122-89486-0000-8696', 'agent_name': 'react-planner', 'model_name': 'qwen-plus'}}\n",
      "\u001b[32m需要先确定“\u001b[0m{'event': 'log', 'id': '20241122-89489-0022-9234', 'data': {'content': '需要先确定“', 'block_type': 'chunk', 'content_id': 'd69142b6a8e611ef8572acde48001122', 'created_at': '2024-11-22T23:31:29.853859', 'thread_id': '20241122-89486-0000-6633', 'calling_id': '20241122-89486-0000-8696', 'agent_name': 'react-planner', 'model_name': 'qwen-plus'}}\n",
      "\u001b[32m鸿蒙公司”\u001b[0m{'event': 'log', 'id': '20241122-89490-0024-9362', 'data': {'content': '鸿蒙公司”', 'block_type': 'chunk', 'content_id': 'd69142b6a8e611ef8572acde48001122', 'created_at': '2024-11-22T23:31:30.416095', 'thread_id': '20241122-89486-0000-6633', 'calling_id': '20241122-89486-0000-8696', 'agent_name': 'react-planner', 'model_name': 'qwen-plus'}}\n",
      "\u001b[32m所在的准确城市。\u001b[0m{'event': 'log', 'id': '20241122-89490-0026-0067', 'data': {'content': '所在的准确城市。', 'block_type': 'chunk', 'content_id': 'd69142b6a8e611ef8572acde48001122', 'created_at': '2024-11-22T23:31:30.536238', 'thread_id': '20241122-89486-0000-6633', 'calling_id': '20241122-89486-0000-8696', 'agent_name': 'react-planner', 'model_name': 'qwen-plus'}}\n",
      "\u001b[32m因此，我的第一步\u001b[0m{'event': 'log', 'id': '20241122-89490-0028-6030', 'data': {'content': '因此，我的第一步', 'block_type': 'chunk', 'content_id': 'd69142b6a8e611ef8572acde48001122', 'created_at': '2024-11-22T23:31:30.711375', 'thread_id': '20241122-89486-0000-6633', 'calling_id': '20241122-89486-0000-8696', 'agent_name': 'react-planner', 'model_name': 'qwen-plus'}}\n",
      "\u001b[32m将是通过提供的工具\u001b[0m{'event': 'log', 'id': '20241122-89490-0030-8352', 'data': {'content': '将是通过提供的工具', 'block_type': 'chunk', 'content_id': 'd69142b6a8e611ef8572acde48001122', 'created_at': '2024-11-22T23:31:30.825298', 'thread_id': '20241122-89486-0000-6633', 'calling_id': '20241122-89486-0000-8696', 'agent_name': 'react-planner', 'model_name': 'qwen-plus'}}\n",
      "\u001b[32m来确定鸿蒙\u001b[0m{'event': 'log', 'id': '20241122-89491-0032-2870', 'data': {'content': '来确定鸿蒙', 'block_type': 'chunk', 'content_id': 'd69142b6a8e611ef8572acde48001122', 'created_at': '2024-11-22T23:31:31.009100', 'thread_id': '20241122-89486-0000-6633', 'calling_id': '20241122-89486-0000-8696', 'agent_name': 'react-planner', 'model_name': 'qwen-plus'}}\n",
      "\u001b[32m公司的位置。\n",
      "\n",
      "任务\u001b[0m{'event': 'log', 'id': '20241122-89491-0034-8763', 'data': {'content': '公司的位置。\\n\\n任务', 'block_type': 'chunk', 'content_id': 'd69142b6a8e611ef8572acde48001122', 'created_at': '2024-11-22T23:31:31.118107', 'thread_id': '20241122-89486-0000-6633', 'calling_id': '20241122-89486-0000-8696', 'agent_name': 'react-planner', 'model_name': 'qwen-plus'}}\n",
      "\u001b[32m中包含的关键概念\u001b[0m{'event': 'log', 'id': '20241122-89491-0036-2035', 'data': {'content': '中包含的关键概念', 'block_type': 'chunk', 'content_id': 'd69142b6a8e611ef8572acde48001122', 'created_at': '2024-11-22T23:31:31.382765', 'thread_id': '20241122-89486-0000-6633', 'calling_id': '20241122-89486-0000-8696', 'agent_name': 'react-planner', 'model_name': 'qwen-plus'}}\n",
      "\u001b[32m:\n",
      "- \u001b[0m{'event': 'log', 'id': '20241122-89491-0038-7739', 'data': {'content': ':\\n- ', 'block_type': 'chunk', 'content_id': 'd69142b6a8e611ef8572acde48001122', 'created_at': '2024-11-22T23:31:31.416959', 'thread_id': '20241122-89486-0000-6633', 'calling_id': '20241122-89486-0000-8696', 'agent_name': 'react-planner', 'model_name': 'qwen-plus'}}\n",
      "\u001b[32m鸿蒙公司（\u001b[0m{'event': 'log', 'id': '20241122-89491-0040-4417', 'data': {'content': '鸿蒙公司（', 'block_type': 'chunk', 'content_id': 'd69142b6a8e611ef8572acde48001122', 'created_at': '2024-11-22T23:31:31.601047', 'thread_id': '20241122-89486-0000-6633', 'calling_id': '20241122-89486-0000-8696', 'agent_name': 'react-planner', 'model_name': 'qwen-plus'}}\n",
      "\u001b[32m需要查询其所在\u001b[0m{'event': 'log', 'id': '20241122-89491-0042-4167', 'data': {'content': '需要查询其所在', 'block_type': 'chunk', 'content_id': 'd69142b6a8e611ef8572acde48001122', 'created_at': '2024-11-22T23:31:31.705441', 'thread_id': '20241122-89486-0000-6633', 'calling_id': '20241122-89486-0000-8696', 'agent_name': 'react-planner', 'model_name': 'qwen-plus'}}\n",
      "\u001b[32m城市）\n",
      "\n",
      "将任务\u001b[0m{'event': 'log', 'id': '20241122-89491-0044-7080', 'data': {'content': '城市）\\n\\n将任务', 'block_type': 'chunk', 'content_id': 'd69142b6a8e611ef8572acde48001122', 'created_at': '2024-11-22T23:31:31.901939', 'thread_id': '20241122-89486-0000-6633', 'calling_id': '20241122-89486-0000-8696', 'agent_name': 'react-planner', 'model_name': 'qwen-plus'}}\n",
      "\u001b[32m中的关键概念拆\u001b[0m{'event': 'log', 'id': '20241122-89492-0046-6477', 'data': {'content': '中的关键概念拆', 'block_type': 'chunk', 'content_id': 'd69142b6a8e611ef8572acde48001122', 'created_at': '2024-11-22T23:31:32.006763', 'thread_id': '20241122-89486-0000-6633', 'calling_id': '20241122-89486-0000-8696', 'agent_name': 'react-planner', 'model_name': 'qwen-plus'}}\n",
      "\u001b[32m解为一系列待\u001b[0m{'event': 'log', 'id': '20241122-89492-0048-7430', 'data': {'content': '解为一系列待', 'block_type': 'chunk', 'content_id': 'd69142b6a8e611ef8572acde48001122', 'created_at': '2024-11-22T23:31:32.172409', 'thread_id': '20241122-89486-0000-6633', 'calling_id': '20241122-89486-0000-8696', 'agent_name': 'react-planner', 'model_name': 'qwen-plus'}}\n",
      "\u001b[32m查询的子要素\u001b[0m{'event': 'log', 'id': '20241122-89492-0050-3278', 'data': {'content': '查询的子要素', 'block_type': 'chunk', 'content_id': 'd69142b6a8e611ef8572acde48001122', 'created_at': '2024-11-22T23:31:32.324800', 'thread_id': '20241122-89486-0000-6633', 'calling_id': '20241122-89486-0000-8696', 'agent_name': 'react-planner', 'model_name': 'qwen-plus'}}\n",
      "\u001b[32m：\n",
      "- \u001b[0m{'event': 'log', 'id': '20241122-89492-0052-9008', 'data': {'content': '：\\n- ', 'block_type': 'chunk', 'content_id': 'd69142b6a8e611ef8572acde48001122', 'created_at': '2024-11-22T23:31:32.514590', 'thread_id': '20241122-89486-0000-6633', 'calling_id': '20241122-89486-0000-8696', 'agent_name': 'react-planner', 'model_name': 'qwen-plus'}}\n",
      "\u001b[32m鸿蒙公司\n",
      "\u001b[0m{'event': 'log', 'id': '20241122-89492-0054-5845', 'data': {'content': '鸿蒙公司\\n', 'block_type': 'chunk', 'content_id': 'd69142b6a8e611ef8572acde48001122', 'created_at': '2024-11-22T23:31:32.630227', 'thread_id': '20241122-89486-0000-6633', 'calling_id': '20241122-89486-0000-8696', 'agent_name': 'react-planner', 'model_name': 'qwen-plus'}}\n",
      "\u001b[32m - 所在\u001b[0m{'event': 'log', 'id': '20241122-89492-0056-6156', 'data': {'content': ' - 所在', 'block_type': 'chunk', 'content_id': 'd69142b6a8e611ef8572acde48001122', 'created_at': '2024-11-22T23:31:32.790065', 'thread_id': '20241122-89486-0000-6633', 'calling_id': '20241122-89486-0000-8696', 'agent_name': 'react-planner', 'model_name': 'qwen-plus'}}\n",
      "\u001b[32m城市\n",
      "\n",
      "观察以前\u001b[0m{'event': 'log', 'id': '20241122-89492-0058-3897', 'data': {'content': '城市\\n\\n观察以前', 'block_type': 'chunk', 'content_id': 'd69142b6a8e611ef8572acde48001122', 'created_at': '2024-11-22T23:31:32.903737', 'thread_id': '20241122-89486-0000-6633', 'calling_id': '20241122-89486-0000-8696', 'agent_name': 'react-planner', 'model_name': 'qwen-plus'}}\n",
      "\u001b[32m的执行记录：\u001b[0m{'event': 'log', 'id': '20241122-89493-0060-3617', 'data': {'content': '的执行记录：', 'block_type': 'chunk', 'content_id': 'd69142b6a8e611ef8572acde48001122', 'created_at': '2024-11-22T23:31:33.082916', 'thread_id': '20241122-89486-0000-6633', 'calling_id': '20241122-89486-0000-8696', 'agent_name': 'react-planner', 'model_name': 'qwen-plus'}}\n",
      "\u001b[32m由于这是第一次执行\u001b[0m{'event': 'log', 'id': '20241122-89493-0062-0200', 'data': {'content': '由于这是第一次执行', 'block_type': 'chunk', 'content_id': 'd69142b6a8e611ef8572acde48001122', 'created_at': '2024-11-22T23:31:33.201903', 'thread_id': '20241122-89486-0000-6633', 'calling_id': '20241122-89486-0000-8696', 'agent_name': 'react-planner', 'model_name': 'qwen-plus'}}\n",
      "\u001b[32m，没有之前的记录\u001b[0m{'event': 'log', 'id': '20241122-89493-0064-0182', 'data': {'content': '，没有之前的记录', 'block_type': 'chunk', 'content_id': 'd69142b6a8e611ef8572acde48001122', 'created_at': '2024-11-22T23:31:33.479992', 'thread_id': '20241122-89486-0000-6633', 'calling_id': '20241122-89486-0000-8696', 'agent_name': 'react-planner', 'model_name': 'qwen-plus'}}\n",
      "\u001b[32m可供参考。因此\u001b[0m{'event': 'log', 'id': '20241122-89493-0066-1069', 'data': {'content': '可供参考。因此', 'block_type': 'chunk', 'content_id': 'd69142b6a8e611ef8572acde48001122', 'created_at': '2024-11-22T23:31:33.657116', 'thread_id': '20241122-89486-0000-6633', 'calling_id': '20241122-89486-0000-8696', 'agent_name': 'react-planner', 'model_name': 'qwen-plus'}}\n",
      "\u001b[32m，首先需要使用\u001b[0m{'event': 'log', 'id': '20241122-89493-0068-1989', 'data': {'content': '，首先需要使用', 'block_type': 'chunk', 'content_id': 'd69142b6a8e611ef8572acde48001122', 'created_at': '2024-11-22T23:31:33.783572', 'thread_id': '20241122-89486-0000-6633', 'calling_id': '20241122-89486-0000-8696', 'agent_name': 'react-planner', 'model_name': 'qwen-plus'}}\n",
      "\u001b[32m `get_city`\u001b[0m{'event': 'log', 'id': '20241122-89493-0070-8987', 'data': {'content': ' `get_city`', 'block_type': 'chunk', 'content_id': 'd69142b6a8e611ef8572acde48001122', 'created_at': '2024-11-22T23:31:33.963959', 'thread_id': '20241122-89486-0000-6633', 'calling_id': '20241122-89486-0000-8696', 'agent_name': 'react-planner', 'model_name': 'qwen-plus'}}\n",
      "\u001b[32m 工具来\u001b[0m{'event': 'log', 'id': '20241122-89495-0072-6680', 'data': {'content': ' 工具来', 'block_type': 'chunk', 'content_id': 'd69142b6a8e611ef8572acde48001122', 'created_at': '2024-11-22T23:31:35.592155', 'thread_id': '20241122-89486-0000-6633', 'calling_id': '20241122-89486-0000-8696', 'agent_name': 'react-planner', 'model_name': 'qwen-plus'}}\n",
      "\u001b[32m查询鸿蒙公司\u001b[0m{'event': 'log', 'id': '20241122-89495-0074-1563', 'data': {'content': '查询鸿蒙公司', 'block_type': 'chunk', 'content_id': 'd69142b6a8e611ef8572acde48001122', 'created_at': '2024-11-22T23:31:35.704107', 'thread_id': '20241122-89486-0000-6633', 'calling_id': '20241122-89486-0000-8696', 'agent_name': 'react-planner', 'model_name': 'qwen-plus'}}\n",
      "\u001b[32m所在的城市。\n",
      "\n",
      "**\u001b[0m{'event': 'log', 'id': '20241122-89495-0076-1966', 'data': {'content': '所在的城市。\\n\\n**', 'block_type': 'chunk', 'content_id': 'd69142b6a8e611ef8572acde48001122', 'created_at': '2024-11-22T23:31:35.895294', 'thread_id': '20241122-89486-0000-6633', 'calling_id': '20241122-89486-0000-8696', 'agent_name': 'react-planner', 'model_name': 'qwen-plus'}}\n",
      "\u001b[32m行动** \n",
      "Step\u001b[0m{'event': 'log', 'id': '20241122-89496-0078-0756', 'data': {'content': '行动** \\nStep', 'block_type': 'chunk', 'content_id': 'd69142b6a8e611ef8572acde48001122', 'created_at': '2024-11-22T23:31:36.014317', 'thread_id': '20241122-89486-0000-6633', 'calling_id': '20241122-89486-0000-8696', 'agent_name': 'react-planner', 'model_name': 'qwen-plus'}}\n",
      "\u001b[32m1: 查询鸿\u001b[0m{'event': 'log', 'id': '20241122-89496-0080-4370', 'data': {'content': '1: 查询鸿', 'block_type': 'chunk', 'content_id': 'd69142b6a8e611ef8572acde48001122', 'created_at': '2024-11-22T23:31:36.198506', 'thread_id': '20241122-89486-0000-6633', 'calling_id': '20241122-89486-0000-8696', 'agent_name': 'react-planner', 'model_name': 'qwen-plus'}}\n",
      "\u001b[32m蒙公司所在城市\u001b[0m{'event': 'log', 'id': '20241122-89496-0082-8922', 'data': {'content': '蒙公司所在城市', 'block_type': 'chunk', 'content_id': 'd69142b6a8e611ef8572acde48001122', 'created_at': '2024-11-22T23:31:36.319673', 'thread_id': '20241122-89486-0000-6633', 'calling_id': '20241122-89486-0000-8696', 'agent_name': 'react-planner', 'model_name': 'qwen-plus'}}\n",
      "\u001b[32m. #E1\u001b[0m{'event': 'log', 'id': '20241122-89496-0084-5880', 'data': {'content': '. #E1', 'block_type': 'chunk', 'content_id': 'd69142b6a8e611ef8572acde48001122', 'created_at': '2024-11-22T23:31:36.625504', 'thread_id': '20241122-89486-0000-6633', 'calling_id': '20241122-89486-0000-8696', 'agent_name': 'react-planner', 'model_name': 'qwen-plus'}}\n",
      "\u001b[32m = get_city[\u001b[0m{'event': 'log', 'id': '20241122-89496-0086-8044', 'data': {'content': ' = get_city[', 'block_type': 'chunk', 'content_id': 'd69142b6a8e611ef8572acde48001122', 'created_at': '2024-11-22T23:31:36.714408', 'thread_id': '20241122-89486-0000-6633', 'calling_id': '20241122-89486-0000-8696', 'agent_name': 'react-planner', 'model_name': 'qwen-plus'}}\n",
      "\u001b[32m{\"address\": \"\u001b[0m{'event': 'log', 'id': '20241122-89496-0088-4360', 'data': {'content': '{\"address\": \"', 'block_type': 'chunk', 'content_id': 'd69142b6a8e611ef8572acde48001122', 'created_at': '2024-11-22T23:31:36.950153', 'thread_id': '20241122-89486-0000-6633', 'calling_id': '20241122-89486-0000-8696', 'agent_name': 'react-planner', 'model_name': 'qwen-plus'}}\n",
      "\u001b[32m鸿蒙公司\"}\u001b[0m{'event': 'log', 'id': '20241122-89497-0090-0361', 'data': {'content': '鸿蒙公司\"}', 'block_type': 'chunk', 'content_id': 'd69142b6a8e611ef8572acde48001122', 'created_at': '2024-11-22T23:31:37.087233', 'thread_id': '20241122-89486-0000-6633', 'calling_id': '20241122-89486-0000-8696', 'agent_name': 'react-planner', 'model_name': 'qwen-plus'}}\n",
      "\u001b[32m]\u001b[0m{'event': 'log', 'id': '20241122-89497-0092-8925', 'data': {'content': ']', 'block_type': 'chunk', 'content_id': 'd69142b6a8e611ef8572acde48001122', 'created_at': '2024-11-22T23:31:37.197707', 'thread_id': '20241122-89486-0000-6633', 'calling_id': '20241122-89486-0000-8696', 'agent_name': 'react-planner', 'model_name': 'qwen-plus'}}\n",
      "\u001b[32m\u001b[0m{'event': 'log', 'id': '20241122-89497-0094-9427', 'data': {'content': '', 'block_type': 'chunk', 'content_id': 'd69142b6a8e611ef8572acde48001122', 'created_at': '2024-11-22T23:31:37.255667', 'thread_id': '20241122-89486-0000-6633', 'calling_id': '20241122-89486-0000-8696', 'agent_name': 'react-planner', 'model_name': 'qwen-plus'}}\n",
      "\n",
      "{'event': 'log', 'id': '20241122-89497-0096-8172', 'data': {'content': '', 'block_type': 'new_line', 'content_id': 'd69142b6a8e611ef8572acde48001122', 'created_at': '2024-11-22T23:31:37.256181', 'thread_id': None, 'calling_id': '20241122-89486-0000-8696', 'agent_name': None, 'model_name': None}}\n",
      "{'event': 'log', 'id': '20241122-89497-0098-7894', 'data': {'content': '{\"input_tokens\": 767, \"output_tokens\": 153, \"total_tokens\": 920}', 'block_type': 'usage', 'content_id': 'd69142b6a8e611ef8572acde48001122', 'created_at': '2024-11-22T23:31:37.256289', 'thread_id': '20241122-89486-0000-6633', 'calling_id': '20241122-89486-0000-8696', 'agent_name': 'react-planner', 'model_name': 'qwen-plus'}}\n",
      "{'event': 'log', 'id': '20241122-89497-0100-3525', 'data': {'content': '**思考** \\n为了提供准确的天气信息，我需要先确定“鸿蒙公司”所在的准确城市。因此，我的第一步将是通过提供的工具来确定鸿蒙公司的位置。\\n\\n任务中包含的关键概念:\\n- 鸿蒙公司（需要查询其所在城市）\\n\\n将任务中的关键概念拆解为一系列待查询的子要素：\\n- 鸿蒙公司\\n - 所在城市\\n\\n观察以前的执行记录：由于这是第一次执行，没有之前的记录可供参考。因此，首先需要使用 `get_city` 工具来查询鸿蒙公司所在的城市。\\n\\n**行动** \\nStep1: 查询鸿蒙公司所在城市. #E1 = get_city[{\"address\": \"鸿蒙公司\"}]', 'block_type': 'final_text', 'content_id': 'd69142b6a8e611ef8572acde48001122', 'created_at': '2024-11-22T23:31:37.256550', 'thread_id': '20241122-89486-0000-6633', 'calling_id': '20241122-89486-0000-8696', 'agent_name': 'react-planner', 'model_name': 'qwen-plus'}}\n",
      "[AGENT] \u001b[34mget_city\u001b[0m\n",
      "{'event': 'log', 'id': '20241122-89497-0101-7573', 'data': {'content': 'get_city', 'block_type': 'agent', 'content_id': 'd69142b6a8e611ef8572acde48001122', 'created_at': '2024-11-22T23:31:37.257270', 'thread_id': None, 'calling_id': '20241122-89486-0000-8696', 'agent_name': 'get_city', 'model_name': None}}\n",
      ">>> {}\n",
      "get_city() missing 1 required positional argument: 'location'\n",
      "\u001b[33mget_city() missing 1 required positional argument: 'location'\u001b[0m{'event': 'log', 'id': '20241122-89497-0103-7624', 'data': {'content': \"get_city() missing 1 required positional argument: 'location'\", 'block_type': 'text', 'content_id': 'd69142b6a8e611ef8572acde48001122', 'created_at': '2024-11-22T23:31:37.257674', 'thread_id': None, 'calling_id': '20241122-89486-0000-8696', 'agent_name': 'get_city', 'model_name': None}}\n",
      "\n",
      "{'event': 'log', 'id': '20241122-89497-0105-9917', 'data': {'content': '', 'block_type': 'new_line', 'content_id': 'd69142b6a8e611ef8572acde48001122', 'created_at': '2024-11-22T23:31:37.257781', 'thread_id': None, 'calling_id': '20241122-89486-0000-8696', 'agent_name': None, 'model_name': None}}\n",
      "{'event': 'log', 'id': '20241122-89497-0107-9802', 'data': {'content': '>>> flow-node-2: observer', 'block_type': 'node', 'content_id': '20241122-89497-0108-4153', 'created_at': '2024-11-22T23:31:37.257903', 'thread_id': None, 'calling_id': '20241122-89486-0000-8696', 'agent_name': 'ReAct.4557867328', 'model_name': None}}\n",
      "\u001b[33m\n",
      "**观察**\n",
      "上面的行动结果为:\n",
      "\n",
      "\u001b[0m{'event': 'log', 'id': '20241122-89497-0109-4292', 'data': {'content': '\\n**观察**\\n上面的行动结果为:\\n\\n', 'block_type': 'text', 'content_id': '20241122-89497-0110-2590', 'created_at': '2024-11-22T23:31:37.257991', 'thread_id': None, 'calling_id': '20241122-89486-0000-8696', 'agent_name': 'ReAct.4557867328', 'model_name': None}}\n",
      "{'event': 'output', 'id': '20241122-89497-0111-0938', 'data': {'content': '我在鸿蒙公司，帮我查询一下天气情况', 'block_type': 'final_text', 'content_id': '20241122-89497-0112-6099', 'created_at': '2024-11-22T23:31:37.258116', 'thread_id': None, 'calling_id': '20241122-89486-0000-8696', 'agent_name': 'ReAct.4557867328', 'model_name': None}}\n",
      "{'event': 'log', 'id': '20241122-89497-0113-8148', 'data': {'content': '>>> flow-node-1: planner', 'block_type': 'node', 'content_id': '20241122-89497-0114-7703', 'created_at': '2024-11-22T23:31:37.258206', 'thread_id': None, 'calling_id': '20241122-89486-0000-8696', 'agent_name': 'ReAct.4557867328', 'model_name': None}}\n",
      "{'event': 'log', 'id': '20241122-89497-0115-3039', 'data': {'content': '我在鸿蒙公司，帮我查询一下天气情况', 'block_type': 'user', 'content_id': '20241122-89497-0116-3828', 'created_at': '2024-11-22T23:31:37.258284', 'thread_id': '20241122-89486-0000-6633', 'calling_id': '20241122-89486-0000-8696', 'agent_name': 'react-planner', 'model_name': 'qwen-plus'}}\n",
      "[AGENT] \u001b[34mreact-planner\u001b[0m\n",
      "{'event': 'log', 'id': '20241122-89497-0117-3895', 'data': {'content': 'react-planner', 'block_type': 'agent', 'content_id': '20241122-89497-0118-6381', 'created_at': '2024-11-22T23:31:37.258359', 'thread_id': '20241122-89486-0000-6633', 'calling_id': '20241122-89486-0000-8696', 'agent_name': 'react-planner', 'model_name': 'qwen-plus'}}\n",
      "{'event': 'log', 'id': '20241122-89497-0119-1846', 'data': {'content': '记住 10 轮对话', 'block_type': 'info', 'content_id': '20241122-89497-0120-4187', 'created_at': '2024-11-22T23:31:37.258483', 'thread_id': '20241122-89486-0000-6633', 'calling_id': '20241122-89486-0000-8696', 'agent_name': 'react-planner', 'model_name': 'qwen-plus'}}\n",
      "\u001b[32mStep\u001b[0m{'event': 'log', 'id': '20241122-89497-0121-4449', 'data': {'content': 'Step', 'block_type': 'chunk', 'content_id': 'dcd3d274a8e611ef8572acde48001122', 'created_at': '2024-11-22T23:31:37.840129', 'thread_id': '20241122-89486-0000-6633', 'calling_id': '20241122-89486-0000-8696', 'agent_name': 'react-planner', 'model_name': 'qwen-plus'}}\n",
      "\u001b[32m1\u001b[0m{'event': 'log', 'id': '20241122-89497-0123-3353', 'data': {'content': '1', 'block_type': 'chunk', 'content_id': 'dcd3d274a8e611ef8572acde48001122', 'created_at': '2024-11-22T23:31:37.852602', 'thread_id': '20241122-89486-0000-6633', 'calling_id': '20241122-89486-0000-8696', 'agent_name': 'react-planner', 'model_name': 'qwen-plus'}}\n",
      "\u001b[32m:\u001b[0m{'event': 'log', 'id': '20241122-89497-0125-3817', 'data': {'content': ':', 'block_type': 'chunk', 'content_id': 'dcd3d274a8e611ef8572acde48001122', 'created_at': '2024-11-22T23:31:37.882914', 'thread_id': '20241122-89486-0000-6633', 'calling_id': '20241122-89486-0000-8696', 'agent_name': 'react-planner', 'model_name': 'qwen-plus'}}\n",
      "\u001b[32m 查询\u001b[0m{'event': 'log', 'id': '20241122-89497-0127-6743', 'data': {'content': ' 查询', 'block_type': 'chunk', 'content_id': 'dcd3d274a8e611ef8572acde48001122', 'created_at': '2024-11-22T23:31:37.920084', 'thread_id': '20241122-89486-0000-6633', 'calling_id': '20241122-89486-0000-8696', 'agent_name': 'react-planner', 'model_name': 'qwen-plus'}}\n",
      "\u001b[32m鸿蒙公司所在\u001b[0m{'event': 'log', 'id': '20241122-89498-0129-0689', 'data': {'content': '鸿蒙公司所在', 'block_type': 'chunk', 'content_id': 'dcd3d274a8e611ef8572acde48001122', 'created_at': '2024-11-22T23:31:38.093275', 'thread_id': '20241122-89486-0000-6633', 'calling_id': '20241122-89486-0000-8696', 'agent_name': 'react-planner', 'model_name': 'qwen-plus'}}\n",
      "\u001b[32m城市. #E\u001b[0m{'event': 'log', 'id': '20241122-89498-0131-2103', 'data': {'content': '城市. #E', 'block_type': 'chunk', 'content_id': 'dcd3d274a8e611ef8572acde48001122', 'created_at': '2024-11-22T23:31:38.221811', 'thread_id': '20241122-89486-0000-6633', 'calling_id': '20241122-89486-0000-8696', 'agent_name': 'react-planner', 'model_name': 'qwen-plus'}}\n",
      "\u001b[32m1 = get_city\u001b[0m{'event': 'log', 'id': '20241122-89498-0133-4531', 'data': {'content': '1 = get_city', 'block_type': 'chunk', 'content_id': 'dcd3d274a8e611ef8572acde48001122', 'created_at': '2024-11-22T23:31:38.389056', 'thread_id': '20241122-89486-0000-6633', 'calling_id': '20241122-89486-0000-8696', 'agent_name': 'react-planner', 'model_name': 'qwen-plus'}}\n",
      "\u001b[32m[{\"address\":\u001b[0m{'event': 'log', 'id': '20241122-89498-0135-9424', 'data': {'content': '[{\"address\":', 'block_type': 'chunk', 'content_id': 'dcd3d274a8e611ef8572acde48001122', 'created_at': '2024-11-22T23:31:38.512625', 'thread_id': '20241122-89486-0000-6633', 'calling_id': '20241122-89486-0000-8696', 'agent_name': 'react-planner', 'model_name': 'qwen-plus'}}\n",
      "\u001b[32m \"鸿蒙公司\u001b[0m{'event': 'log', 'id': '20241122-89498-0137-6349', 'data': {'content': ' \"鸿蒙公司', 'block_type': 'chunk', 'content_id': 'dcd3d274a8e611ef8572acde48001122', 'created_at': '2024-11-22T23:31:38.720875', 'thread_id': '20241122-89486-0000-6633', 'calling_id': '20241122-89486-0000-8696', 'agent_name': 'react-planner', 'model_name': 'qwen-plus'}}\n",
      "\u001b[32m\"}]\u001b[0m{'event': 'log', 'id': '20241122-89498-0139-6914', 'data': {'content': '\"}]', 'block_type': 'chunk', 'content_id': 'dcd3d274a8e611ef8572acde48001122', 'created_at': '2024-11-22T23:31:38.761486', 'thread_id': '20241122-89486-0000-6633', 'calling_id': '20241122-89486-0000-8696', 'agent_name': 'react-planner', 'model_name': 'qwen-plus'}}\n",
      "\u001b[32m\u001b[0m{'event': 'log', 'id': '20241122-89498-0141-7602', 'data': {'content': '', 'block_type': 'chunk', 'content_id': 'dcd3d274a8e611ef8572acde48001122', 'created_at': '2024-11-22T23:31:38.804120', 'thread_id': '20241122-89486-0000-6633', 'calling_id': '20241122-89486-0000-8696', 'agent_name': 'react-planner', 'model_name': 'qwen-plus'}}\n",
      "\n",
      "{'event': 'log', 'id': '20241122-89498-0143-0872', 'data': {'content': '', 'block_type': 'new_line', 'content_id': 'dcd3d274a8e611ef8572acde48001122', 'created_at': '2024-11-22T23:31:38.807816', 'thread_id': None, 'calling_id': '20241122-89486-0000-8696', 'agent_name': None, 'model_name': None}}\n",
      "{'event': 'log', 'id': '20241122-89498-0145-7025', 'data': {'content': '{\"input_tokens\": 929, \"output_tokens\": 26, \"total_tokens\": 955}', 'block_type': 'usage', 'content_id': 'dcd3d274a8e611ef8572acde48001122', 'created_at': '2024-11-22T23:31:38.808147', 'thread_id': '20241122-89486-0000-6633', 'calling_id': '20241122-89486-0000-8696', 'agent_name': 'react-planner', 'model_name': 'qwen-plus'}}\n",
      "{'event': 'log', 'id': '20241122-89498-0147-1335', 'data': {'content': 'Step1: 查询鸿蒙公司所在城市. #E1 = get_city[{\"address\": \"鸿蒙公司\"}]', 'block_type': 'final_text', 'content_id': 'dcd3d274a8e611ef8572acde48001122', 'created_at': '2024-11-22T23:31:38.808397', 'thread_id': '20241122-89486-0000-6633', 'calling_id': '20241122-89486-0000-8696', 'agent_name': 'react-planner', 'model_name': 'qwen-plus'}}\n",
      "[AGENT] \u001b[34mget_city\u001b[0m\n",
      "{'event': 'log', 'id': '20241122-89498-0148-7523', 'data': {'content': 'get_city', 'block_type': 'agent', 'content_id': 'dcd3d274a8e611ef8572acde48001122', 'created_at': '2024-11-22T23:31:38.808546', 'thread_id': None, 'calling_id': '20241122-89486-0000-8696', 'agent_name': 'get_city', 'model_name': None}}\n",
      ">>> {}\n",
      "get_city() missing 1 required positional argument: 'location'\n",
      "\u001b[33mget_city() missing 1 required positional argument: 'location'\u001b[0m{'event': 'log', 'id': '20241122-89498-0150-6485', 'data': {'content': \"get_city() missing 1 required positional argument: 'location'\", 'block_type': 'text', 'content_id': 'dcd3d274a8e611ef8572acde48001122', 'created_at': '2024-11-22T23:31:38.808997', 'thread_id': None, 'calling_id': '20241122-89486-0000-8696', 'agent_name': 'get_city', 'model_name': None}}\n",
      "\n",
      "{'event': 'log', 'id': '20241122-89498-0152-4318', 'data': {'content': '', 'block_type': 'new_line', 'content_id': 'dcd3d274a8e611ef8572acde48001122', 'created_at': '2024-11-22T23:31:38.809255', 'thread_id': None, 'calling_id': '20241122-89486-0000-8696', 'agent_name': None, 'model_name': None}}\n",
      "{'event': 'log', 'id': '20241122-89498-0154-7887', 'data': {'content': '>>> flow-node-2: observer', 'block_type': 'node', 'content_id': '20241122-89498-0155-8409', 'created_at': '2024-11-22T23:31:38.809380', 'thread_id': None, 'calling_id': '20241122-89486-0000-8696', 'agent_name': 'ReAct.4557867328', 'model_name': None}}\n",
      "\u001b[33m\n",
      "**观察**\n",
      "上面的行动结果为:\n",
      "\n",
      "\u001b[0m{'event': 'log', 'id': '20241122-89498-0156-7728', 'data': {'content': '\\n**观察**\\n上面的行动结果为:\\n\\n', 'block_type': 'text', 'content_id': '20241122-89498-0157-8434', 'created_at': '2024-11-22T23:31:38.809458', 'thread_id': None, 'calling_id': '20241122-89486-0000-8696', 'agent_name': 'ReAct.4557867328', 'model_name': None}}\n",
      "{'event': 'output', 'id': '20241122-89498-0158-3249', 'data': {'content': '我在鸿蒙公司，帮我查询一下天气情况', 'block_type': 'final_text', 'content_id': '20241122-89498-0159-1000', 'created_at': '2024-11-22T23:31:38.809968', 'thread_id': None, 'calling_id': '20241122-89486-0000-8696', 'agent_name': 'ReAct.4557867328', 'model_name': None}}\n",
      "{'event': 'log', 'id': '20241122-89498-0160-8973', 'data': {'content': '>>> flow-node-1: planner', 'block_type': 'node', 'content_id': '20241122-89498-0161-9907', 'created_at': '2024-11-22T23:31:38.810198', 'thread_id': None, 'calling_id': '20241122-89486-0000-8696', 'agent_name': 'ReAct.4557867328', 'model_name': None}}\n",
      "{'event': 'log', 'id': '20241122-89498-0162-7628', 'data': {'content': '我在鸿蒙公司，帮我查询一下天气情况', 'block_type': 'user', 'content_id': '20241122-89498-0163-8164', 'created_at': '2024-11-22T23:31:38.810343', 'thread_id': '20241122-89486-0000-6633', 'calling_id': '20241122-89486-0000-8696', 'agent_name': 'react-planner', 'model_name': 'qwen-plus'}}\n",
      "[AGENT] \u001b[34mreact-planner\u001b[0m\n",
      "{'event': 'log', 'id': '20241122-89498-0164-5786', 'data': {'content': 'react-planner', 'block_type': 'agent', 'content_id': '20241122-89498-0165-5037', 'created_at': '2024-11-22T23:31:38.810424', 'thread_id': '20241122-89486-0000-6633', 'calling_id': '20241122-89486-0000-8696', 'agent_name': 'react-planner', 'model_name': 'qwen-plus'}}\n",
      "{'event': 'log', 'id': '20241122-89498-0166-5143', 'data': {'content': '记住 10 轮对话', 'block_type': 'info', 'content_id': '20241122-89498-0167-2832', 'created_at': '2024-11-22T23:31:38.810862', 'thread_id': '20241122-89486-0000-6633', 'calling_id': '20241122-89486-0000-8696', 'agent_name': 'react-planner', 'model_name': 'qwen-plus'}}\n",
      "\u001b[32mStep\u001b[0m{'event': 'log', 'id': '20241122-89499-0168-8841', 'data': {'content': 'Step', 'block_type': 'chunk', 'content_id': 'ddc0c2aaa8e611ef8572acde48001122', 'created_at': '2024-11-22T23:31:39.425654', 'thread_id': '20241122-89486-0000-6633', 'calling_id': '20241122-89486-0000-8696', 'agent_name': 'react-planner', 'model_name': 'qwen-plus'}}\n",
      "\u001b[32m1\u001b[0m{'event': 'log', 'id': '20241122-89499-0170-6277', 'data': {'content': '1', 'block_type': 'chunk', 'content_id': 'ddc0c2aaa8e611ef8572acde48001122', 'created_at': '2024-11-22T23:31:39.437704', 'thread_id': '20241122-89486-0000-6633', 'calling_id': '20241122-89486-0000-8696', 'agent_name': 'react-planner', 'model_name': 'qwen-plus'}}\n",
      "\u001b[32m:\u001b[0m{'event': 'log', 'id': '20241122-89499-0172-3520', 'data': {'content': ':', 'block_type': 'chunk', 'content_id': 'ddc0c2aaa8e611ef8572acde48001122', 'created_at': '2024-11-22T23:31:39.473243', 'thread_id': '20241122-89486-0000-6633', 'calling_id': '20241122-89486-0000-8696', 'agent_name': 'react-planner', 'model_name': 'qwen-plus'}}\n",
      "\u001b[32m 查询\u001b[0m{'event': 'log', 'id': '20241122-89499-0174-2437', 'data': {'content': ' 查询', 'block_type': 'chunk', 'content_id': 'ddc0c2aaa8e611ef8572acde48001122', 'created_at': '2024-11-22T23:31:39.509003', 'thread_id': '20241122-89486-0000-6633', 'calling_id': '20241122-89486-0000-8696', 'agent_name': 'react-planner', 'model_name': 'qwen-plus'}}\n",
      "\u001b[32m鸿蒙公司所在\u001b[0m{'event': 'log', 'id': '20241122-89499-0176-5382', 'data': {'content': '鸿蒙公司所在', 'block_type': 'chunk', 'content_id': 'ddc0c2aaa8e611ef8572acde48001122', 'created_at': '2024-11-22T23:31:39.674320', 'thread_id': '20241122-89486-0000-6633', 'calling_id': '20241122-89486-0000-8696', 'agent_name': 'react-planner', 'model_name': 'qwen-plus'}}\n",
      "\u001b[32m城市. #E\u001b[0m{'event': 'log', 'id': '20241122-89499-0178-5631', 'data': {'content': '城市. #E', 'block_type': 'chunk', 'content_id': 'ddc0c2aaa8e611ef8572acde48001122', 'created_at': '2024-11-22T23:31:39.787881', 'thread_id': '20241122-89486-0000-6633', 'calling_id': '20241122-89486-0000-8696', 'agent_name': 'react-planner', 'model_name': 'qwen-plus'}}\n",
      "\u001b[32m1 = get_city\u001b[0m{'event': 'log', 'id': '20241122-89499-0180-1844', 'data': {'content': '1 = get_city', 'block_type': 'chunk', 'content_id': 'ddc0c2aaa8e611ef8572acde48001122', 'created_at': '2024-11-22T23:31:39.962776', 'thread_id': '20241122-89486-0000-6633', 'calling_id': '20241122-89486-0000-8696', 'agent_name': 'react-planner', 'model_name': 'qwen-plus'}}\n",
      "\u001b[32m[{\"address\":\u001b[0m{'event': 'log', 'id': '20241122-89500-0182-4939', 'data': {'content': '[{\"address\":', 'block_type': 'chunk', 'content_id': 'ddc0c2aaa8e611ef8572acde48001122', 'created_at': '2024-11-22T23:31:40.071890', 'thread_id': '20241122-89486-0000-6633', 'calling_id': '20241122-89486-0000-8696', 'agent_name': 'react-planner', 'model_name': 'qwen-plus'}}\n",
      "\u001b[32m \"鸿蒙公司\u001b[0m{'event': 'log', 'id': '20241122-89500-0184-8426', 'data': {'content': ' \"鸿蒙公司', 'block_type': 'chunk', 'content_id': 'ddc0c2aaa8e611ef8572acde48001122', 'created_at': '2024-11-22T23:31:40.237707', 'thread_id': '20241122-89486-0000-6633', 'calling_id': '20241122-89486-0000-8696', 'agent_name': 'react-planner', 'model_name': 'qwen-plus'}}\n",
      "\u001b[32m\"}]\u001b[0m{'event': 'log', 'id': '20241122-89500-0186-1307', 'data': {'content': '\"}]', 'block_type': 'chunk', 'content_id': 'ddc0c2aaa8e611ef8572acde48001122', 'created_at': '2024-11-22T23:31:40.321460', 'thread_id': '20241122-89486-0000-6633', 'calling_id': '20241122-89486-0000-8696', 'agent_name': 'react-planner', 'model_name': 'qwen-plus'}}\n",
      "\u001b[32m\u001b[0m{'event': 'log', 'id': '20241122-89500-0188-6833', 'data': {'content': '', 'block_type': 'chunk', 'content_id': 'ddc0c2aaa8e611ef8572acde48001122', 'created_at': '2024-11-22T23:31:40.371214', 'thread_id': '20241122-89486-0000-6633', 'calling_id': '20241122-89486-0000-8696', 'agent_name': 'react-planner', 'model_name': 'qwen-plus'}}\n",
      "\n",
      "{'event': 'log', 'id': '20241122-89500-0190-4834', 'data': {'content': '', 'block_type': 'new_line', 'content_id': 'ddc0c2aaa8e611ef8572acde48001122', 'created_at': '2024-11-22T23:31:40.373860', 'thread_id': None, 'calling_id': '20241122-89486-0000-8696', 'agent_name': None, 'model_name': None}}\n",
      "{'event': 'log', 'id': '20241122-89500-0192-4141', 'data': {'content': '{\"input_tokens\": 964, \"output_tokens\": 26, \"total_tokens\": 990}', 'block_type': 'usage', 'content_id': 'ddc0c2aaa8e611ef8572acde48001122', 'created_at': '2024-11-22T23:31:40.374223', 'thread_id': '20241122-89486-0000-6633', 'calling_id': '20241122-89486-0000-8696', 'agent_name': 'react-planner', 'model_name': 'qwen-plus'}}\n",
      "{'event': 'log', 'id': '20241122-89500-0194-9476', 'data': {'content': 'Step1: 查询鸿蒙公司所在城市. #E1 = get_city[{\"address\": \"鸿蒙公司\"}]', 'block_type': 'final_text', 'content_id': 'ddc0c2aaa8e611ef8572acde48001122', 'created_at': '2024-11-22T23:31:40.374622', 'thread_id': '20241122-89486-0000-6633', 'calling_id': '20241122-89486-0000-8696', 'agent_name': 'react-planner', 'model_name': 'qwen-plus'}}\n",
      "[AGENT] \u001b[34mget_city\u001b[0m\n",
      "{'event': 'log', 'id': '20241122-89500-0195-5677', 'data': {'content': 'get_city', 'block_type': 'agent', 'content_id': 'ddc0c2aaa8e611ef8572acde48001122', 'created_at': '2024-11-22T23:31:40.375061', 'thread_id': None, 'calling_id': '20241122-89486-0000-8696', 'agent_name': 'get_city', 'model_name': None}}\n",
      ">>> {}\n",
      "get_city() missing 1 required positional argument: 'location'\n",
      "\u001b[33mget_city() missing 1 required positional argument: 'location'\u001b[0m{'event': 'log', 'id': '20241122-89500-0197-4182', 'data': {'content': \"get_city() missing 1 required positional argument: 'location'\", 'block_type': 'text', 'content_id': 'ddc0c2aaa8e611ef8572acde48001122', 'created_at': '2024-11-22T23:31:40.375593', 'thread_id': None, 'calling_id': '20241122-89486-0000-8696', 'agent_name': 'get_city', 'model_name': None}}\n",
      "\n",
      "{'event': 'log', 'id': '20241122-89500-0199-6465', 'data': {'content': '', 'block_type': 'new_line', 'content_id': 'ddc0c2aaa8e611ef8572acde48001122', 'created_at': '2024-11-22T23:31:40.375816', 'thread_id': None, 'calling_id': '20241122-89486-0000-8696', 'agent_name': None, 'model_name': None}}\n",
      "{'event': 'log', 'id': '20241122-89500-0201-2305', 'data': {'content': '>>> flow-node-2: observer', 'block_type': 'node', 'content_id': '20241122-89500-0202-9881', 'created_at': '2024-11-22T23:31:40.376040', 'thread_id': None, 'calling_id': '20241122-89486-0000-8696', 'agent_name': 'ReAct.4557867328', 'model_name': None}}\n",
      "\u001b[33m\n",
      "**观察**\n",
      "上面的行动结果为:\n",
      "\n",
      "\u001b[0m{'event': 'log', 'id': '20241122-89500-0203-5496', 'data': {'content': '\\n**观察**\\n上面的行动结果为:\\n\\n', 'block_type': 'text', 'content_id': '20241122-89500-0204-3488', 'created_at': '2024-11-22T23:31:40.376191', 'thread_id': None, 'calling_id': '20241122-89486-0000-8696', 'agent_name': 'ReAct.4557867328', 'model_name': None}}\n",
      "{'event': 'output', 'id': '20241122-89500-0205-4099', 'data': {'content': '我在鸿蒙公司，帮我查询一下天气情况', 'block_type': 'final_text', 'content_id': '20241122-89500-0206-2990', 'created_at': '2024-11-22T23:31:40.376439', 'thread_id': None, 'calling_id': '20241122-89486-0000-8696', 'agent_name': 'ReAct.4557867328', 'model_name': None}}\n",
      "{'event': 'log', 'id': '20241122-89500-0207-0992', 'data': {'content': '>>> flow-node-1: planner', 'block_type': 'node', 'content_id': '20241122-89500-0208-8270', 'created_at': '2024-11-22T23:31:40.376663', 'thread_id': None, 'calling_id': '20241122-89486-0000-8696', 'agent_name': 'ReAct.4557867328', 'model_name': None}}\n",
      "{'event': 'log', 'id': '20241122-89500-0209-7457', 'data': {'content': '我在鸿蒙公司，帮我查询一下天气情况', 'block_type': 'user', 'content_id': '20241122-89500-0210-4554', 'created_at': '2024-11-22T23:31:40.376841', 'thread_id': '20241122-89486-0000-6633', 'calling_id': '20241122-89486-0000-8696', 'agent_name': 'react-planner', 'model_name': 'qwen-plus'}}\n",
      "[AGENT] \u001b[34mreact-planner\u001b[0m\n",
      "{'event': 'log', 'id': '20241122-89500-0211-0098', 'data': {'content': 'react-planner', 'block_type': 'agent', 'content_id': '20241122-89500-0212-8837', 'created_at': '2024-11-22T23:31:40.376963', 'thread_id': '20241122-89486-0000-6633', 'calling_id': '20241122-89486-0000-8696', 'agent_name': 'react-planner', 'model_name': 'qwen-plus'}}\n",
      "{'event': 'log', 'id': '20241122-89500-0213-3770', 'data': {'content': '记住 10 轮对话', 'block_type': 'info', 'content_id': '20241122-89500-0214-9805', 'created_at': '2024-11-22T23:31:40.377249', 'thread_id': '20241122-89486-0000-6633', 'calling_id': '20241122-89486-0000-8696', 'agent_name': 'react-planner', 'model_name': 'qwen-plus'}}\n",
      "\u001b[32mStep\u001b[0m{'event': 'log', 'id': '20241122-89501-0215-3626', 'data': {'content': 'Step', 'block_type': 'chunk', 'content_id': 'deafc97ca8e611ef8572acde48001122', 'created_at': '2024-11-22T23:31:41.052137', 'thread_id': '20241122-89486-0000-6633', 'calling_id': '20241122-89486-0000-8696', 'agent_name': 'react-planner', 'model_name': 'qwen-plus'}}\n",
      "\u001b[32m1\u001b[0m{'event': 'log', 'id': '20241122-89501-0217-5647', 'data': {'content': '1', 'block_type': 'chunk', 'content_id': 'deafc97ca8e611ef8572acde48001122', 'created_at': '2024-11-22T23:31:41.065000', 'thread_id': '20241122-89486-0000-6633', 'calling_id': '20241122-89486-0000-8696', 'agent_name': 'react-planner', 'model_name': 'qwen-plus'}}\n",
      "\u001b[32m:\u001b[0m{'event': 'log', 'id': '20241122-89501-0219-1000', 'data': {'content': ':', 'block_type': 'chunk', 'content_id': 'deafc97ca8e611ef8572acde48001122', 'created_at': '2024-11-22T23:31:41.139950', 'thread_id': '20241122-89486-0000-6633', 'calling_id': '20241122-89486-0000-8696', 'agent_name': 'react-planner', 'model_name': 'qwen-plus'}}\n",
      "\u001b[32m 查询\u001b[0m{'event': 'log', 'id': '20241122-89501-0221-2283', 'data': {'content': ' 查询', 'block_type': 'chunk', 'content_id': 'deafc97ca8e611ef8572acde48001122', 'created_at': '2024-11-22T23:31:41.176751', 'thread_id': '20241122-89486-0000-6633', 'calling_id': '20241122-89486-0000-8696', 'agent_name': 'react-planner', 'model_name': 'qwen-plus'}}\n",
      "\u001b[32m鸿蒙公司所在\u001b[0m{'event': 'log', 'id': '20241122-89501-0223-3812', 'data': {'content': '鸿蒙公司所在', 'block_type': 'chunk', 'content_id': 'deafc97ca8e611ef8572acde48001122', 'created_at': '2024-11-22T23:31:41.360482', 'thread_id': '20241122-89486-0000-6633', 'calling_id': '20241122-89486-0000-8696', 'agent_name': 'react-planner', 'model_name': 'qwen-plus'}}\n",
      "\u001b[32m城市. #E\u001b[0m{'event': 'log', 'id': '20241122-89501-0225-3658', 'data': {'content': '城市. #E', 'block_type': 'chunk', 'content_id': 'deafc97ca8e611ef8572acde48001122', 'created_at': '2024-11-22T23:31:41.515660', 'thread_id': '20241122-89486-0000-6633', 'calling_id': '20241122-89486-0000-8696', 'agent_name': 'react-planner', 'model_name': 'qwen-plus'}}\n",
      "\u001b[32m1 = get_city\u001b[0m{'event': 'log', 'id': '20241122-89501-0227-8407', 'data': {'content': '1 = get_city', 'block_type': 'chunk', 'content_id': 'deafc97ca8e611ef8572acde48001122', 'created_at': '2024-11-22T23:31:41.910442', 'thread_id': '20241122-89486-0000-6633', 'calling_id': '20241122-89486-0000-8696', 'agent_name': 'react-planner', 'model_name': 'qwen-plus'}}\n",
      "\u001b[32m[{\"address\":\u001b[0m{'event': 'log', 'id': '20241122-89501-0229-8449', 'data': {'content': '[{\"address\":', 'block_type': 'chunk', 'content_id': 'deafc97ca8e611ef8572acde48001122', 'created_at': '2024-11-22T23:31:41.926428', 'thread_id': '20241122-89486-0000-6633', 'calling_id': '20241122-89486-0000-8696', 'agent_name': 'react-planner', 'model_name': 'qwen-plus'}}\n",
      "\u001b[32m \"鸿蒙公司\u001b[0m{'event': 'log', 'id': '20241122-89501-0231-1802', 'data': {'content': ' \"鸿蒙公司', 'block_type': 'chunk', 'content_id': 'deafc97ca8e611ef8572acde48001122', 'created_at': '2024-11-22T23:31:41.989126', 'thread_id': '20241122-89486-0000-6633', 'calling_id': '20241122-89486-0000-8696', 'agent_name': 'react-planner', 'model_name': 'qwen-plus'}}\n",
      "\u001b[32m\"}]\u001b[0m{'event': 'log', 'id': '20241122-89502-0233-3736', 'data': {'content': '\"}]', 'block_type': 'chunk', 'content_id': 'deafc97ca8e611ef8572acde48001122', 'created_at': '2024-11-22T23:31:42.127644', 'thread_id': '20241122-89486-0000-6633', 'calling_id': '20241122-89486-0000-8696', 'agent_name': 'react-planner', 'model_name': 'qwen-plus'}}\n",
      "\u001b[32m\u001b[0m{'event': 'log', 'id': '20241122-89502-0235-4563', 'data': {'content': '', 'block_type': 'chunk', 'content_id': 'deafc97ca8e611ef8572acde48001122', 'created_at': '2024-11-22T23:31:42.170598', 'thread_id': '20241122-89486-0000-6633', 'calling_id': '20241122-89486-0000-8696', 'agent_name': 'react-planner', 'model_name': 'qwen-plus'}}\n",
      "\n",
      "{'event': 'log', 'id': '20241122-89502-0237-6763', 'data': {'content': '', 'block_type': 'new_line', 'content_id': 'deafc97ca8e611ef8572acde48001122', 'created_at': '2024-11-22T23:31:42.171175', 'thread_id': None, 'calling_id': '20241122-89486-0000-8696', 'agent_name': None, 'model_name': None}}\n",
      "{'event': 'log', 'id': '20241122-89502-0239-1616', 'data': {'content': '{\"input_tokens\": 999, \"output_tokens\": 26, \"total_tokens\": 1025}', 'block_type': 'usage', 'content_id': 'deafc97ca8e611ef8572acde48001122', 'created_at': '2024-11-22T23:31:42.171300', 'thread_id': '20241122-89486-0000-6633', 'calling_id': '20241122-89486-0000-8696', 'agent_name': 'react-planner', 'model_name': 'qwen-plus'}}\n",
      "{'event': 'log', 'id': '20241122-89502-0241-8518', 'data': {'content': 'Step1: 查询鸿蒙公司所在城市. #E1 = get_city[{\"address\": \"鸿蒙公司\"}]', 'block_type': 'final_text', 'content_id': 'deafc97ca8e611ef8572acde48001122', 'created_at': '2024-11-22T23:31:42.171431', 'thread_id': '20241122-89486-0000-6633', 'calling_id': '20241122-89486-0000-8696', 'agent_name': 'react-planner', 'model_name': 'qwen-plus'}}\n",
      "[AGENT] \u001b[34mget_city\u001b[0m\n",
      "{'event': 'log', 'id': '20241122-89502-0242-8762', 'data': {'content': 'get_city', 'block_type': 'agent', 'content_id': 'deafc97ca8e611ef8572acde48001122', 'created_at': '2024-11-22T23:31:42.171562', 'thread_id': None, 'calling_id': '20241122-89486-0000-8696', 'agent_name': 'get_city', 'model_name': None}}\n",
      ">>> {}\n",
      "get_city() missing 1 required positional argument: 'location'\n",
      "\u001b[33mget_city() missing 1 required positional argument: 'location'\u001b[0m{'event': 'log', 'id': '20241122-89502-0244-7704', 'data': {'content': \"get_city() missing 1 required positional argument: 'location'\", 'block_type': 'text', 'content_id': 'deafc97ca8e611ef8572acde48001122', 'created_at': '2024-11-22T23:31:42.171820', 'thread_id': None, 'calling_id': '20241122-89486-0000-8696', 'agent_name': 'get_city', 'model_name': None}}\n",
      "\n",
      "{'event': 'log', 'id': '20241122-89502-0246-6326', 'data': {'content': '', 'block_type': 'new_line', 'content_id': 'deafc97ca8e611ef8572acde48001122', 'created_at': '2024-11-22T23:31:42.171928', 'thread_id': None, 'calling_id': '20241122-89486-0000-8696', 'agent_name': None, 'model_name': None}}\n",
      "{'event': 'log', 'id': '20241122-89502-0248-1328', 'data': {'content': '>>> flow-node-2: observer', 'block_type': 'node', 'content_id': '20241122-89502-0249-2221', 'created_at': '2024-11-22T23:31:42.172063', 'thread_id': None, 'calling_id': '20241122-89486-0000-8696', 'agent_name': 'ReAct.4557867328', 'model_name': None}}\n",
      "\u001b[33m\n",
      "**观察**\n",
      "上面的行动结果为:\n",
      "\n",
      "\u001b[0m{'event': 'log', 'id': '20241122-89502-0250-1574', 'data': {'content': '\\n**观察**\\n上面的行动结果为:\\n\\n', 'block_type': 'text', 'content_id': '20241122-89502-0251-6173', 'created_at': '2024-11-22T23:31:42.172142', 'thread_id': None, 'calling_id': '20241122-89486-0000-8696', 'agent_name': 'ReAct.4557867328', 'model_name': None}}\n",
      "{'event': 'output', 'id': '20241122-89502-0252-8575', 'data': {'content': '我在鸿蒙公司，帮我查询一下天气情况', 'block_type': 'final_text', 'content_id': '20241122-89502-0253-3644', 'created_at': '2024-11-22T23:31:42.172357', 'thread_id': None, 'calling_id': '20241122-89486-0000-8696', 'agent_name': 'ReAct.4557867328', 'model_name': None}}\n",
      "{'event': 'log', 'id': '20241122-89502-0254-3803', 'data': {'content': '>>> flow-node-1: planner', 'block_type': 'node', 'content_id': '20241122-89502-0255-9177', 'created_at': '2024-11-22T23:31:42.172504', 'thread_id': None, 'calling_id': '20241122-89486-0000-8696', 'agent_name': 'ReAct.4557867328', 'model_name': None}}\n",
      "{'event': 'log', 'id': '20241122-89502-0256-2545', 'data': {'content': '我在鸿蒙公司，帮我查询一下天气情况', 'block_type': 'user', 'content_id': '20241122-89502-0257-5651', 'created_at': '2024-11-22T23:31:42.172602', 'thread_id': '20241122-89486-0000-6633', 'calling_id': '20241122-89486-0000-8696', 'agent_name': 'react-planner', 'model_name': 'qwen-plus'}}\n",
      "[AGENT] \u001b[34mreact-planner\u001b[0m\n",
      "{'event': 'log', 'id': '20241122-89502-0258-1183', 'data': {'content': 'react-planner', 'block_type': 'agent', 'content_id': '20241122-89502-0259-5818', 'created_at': '2024-11-22T23:31:42.172660', 'thread_id': '20241122-89486-0000-6633', 'calling_id': '20241122-89486-0000-8696', 'agent_name': 'react-planner', 'model_name': 'qwen-plus'}}\n",
      "{'event': 'log', 'id': '20241122-89502-0260-7459', 'data': {'content': '记住 10 轮对话', 'block_type': 'info', 'content_id': '20241122-89502-0261-7777', 'created_at': '2024-11-22T23:31:42.172805', 'thread_id': '20241122-89486-0000-6633', 'calling_id': '20241122-89486-0000-8696', 'agent_name': 'react-planner', 'model_name': 'qwen-plus'}}\n",
      "\u001b[32m**\u001b[0m{'event': 'log', 'id': '20241122-89502-0262-0319', 'data': {'content': '**', 'block_type': 'chunk', 'content_id': 'dfc1b1aea8e611ef8572acde48001122', 'created_at': '2024-11-22T23:31:42.815662', 'thread_id': '20241122-89486-0000-6633', 'calling_id': '20241122-89486-0000-8696', 'agent_name': 'react-planner', 'model_name': 'qwen-plus'}}\n",
      "\u001b[32m思考\u001b[0m{'event': 'log', 'id': '20241122-89502-0264-3685', 'data': {'content': '思考', 'block_type': 'chunk', 'content_id': 'dfc1b1aea8e611ef8572acde48001122', 'created_at': '2024-11-22T23:31:42.917102', 'thread_id': '20241122-89486-0000-6633', 'calling_id': '20241122-89486-0000-8696', 'agent_name': 'react-planner', 'model_name': 'qwen-plus'}}\n",
      "\u001b[32m**\u001b[0m{'event': 'log', 'id': '20241122-89502-0266-6549', 'data': {'content': '**', 'block_type': 'chunk', 'content_id': 'dfc1b1aea8e611ef8572acde48001122', 'created_at': '2024-11-22T23:31:42.917799', 'thread_id': '20241122-89486-0000-6633', 'calling_id': '20241122-89486-0000-8696', 'agent_name': 'react-planner', 'model_name': 'qwen-plus'}}\n",
      "\u001b[32m \n",
      "\u001b[0m{'event': 'log', 'id': '20241122-89502-0268-2027', 'data': {'content': ' \\n', 'block_type': 'chunk', 'content_id': 'dfc1b1aea8e611ef8572acde48001122', 'created_at': '2024-11-22T23:31:42.918284', 'thread_id': '20241122-89486-0000-6633', 'calling_id': '20241122-89486-0000-8696', 'agent_name': 'react-planner', 'model_name': 'qwen-plus'}}\n",
      "\u001b[32m为了提供准确的\u001b[0m{'event': 'log', 'id': '20241122-89503-0270-9193', 'data': {'content': '为了提供准确的', 'block_type': 'chunk', 'content_id': 'dfc1b1aea8e611ef8572acde48001122', 'created_at': '2024-11-22T23:31:43.148208', 'thread_id': '20241122-89486-0000-6633', 'calling_id': '20241122-89486-0000-8696', 'agent_name': 'react-planner', 'model_name': 'qwen-plus'}}\n",
      "\u001b[32m天气信息，我\u001b[0m{'event': 'log', 'id': '20241122-89503-0272-0001', 'data': {'content': '天气信息，我', 'block_type': 'chunk', 'content_id': 'dfc1b1aea8e611ef8572acde48001122', 'created_at': '2024-11-22T23:31:43.377923', 'thread_id': '20241122-89486-0000-6633', 'calling_id': '20241122-89486-0000-8696', 'agent_name': 'react-planner', 'model_name': 'qwen-plus'}}\n",
      "\u001b[32m需要先确定“\u001b[0m{'event': 'log', 'id': '20241122-89503-0274-4787', 'data': {'content': '需要先确定“', 'block_type': 'chunk', 'content_id': 'dfc1b1aea8e611ef8572acde48001122', 'created_at': '2024-11-22T23:31:43.529047', 'thread_id': '20241122-89486-0000-6633', 'calling_id': '20241122-89486-0000-8696', 'agent_name': 'react-planner', 'model_name': 'qwen-plus'}}\n",
      "\u001b[32m鸿蒙公司”\u001b[0m{'event': 'log', 'id': '20241122-89503-0276-0835', 'data': {'content': '鸿蒙公司”', 'block_type': 'chunk', 'content_id': 'dfc1b1aea8e611ef8572acde48001122', 'created_at': '2024-11-22T23:31:43.966281', 'thread_id': '20241122-89486-0000-6633', 'calling_id': '20241122-89486-0000-8696', 'agent_name': 'react-planner', 'model_name': 'qwen-plus'}}\n",
      "\u001b[32m所在的准确城市。\u001b[0m{'event': 'log', 'id': '20241122-89504-0278-7375', 'data': {'content': '所在的准确城市。', 'block_type': 'chunk', 'content_id': 'dfc1b1aea8e611ef8572acde48001122', 'created_at': '2024-11-22T23:31:44.068711', 'thread_id': '20241122-89486-0000-6633', 'calling_id': '20241122-89486-0000-8696', 'agent_name': 'react-planner', 'model_name': 'qwen-plus'}}\n",
      "\u001b[32m因此，我的第一步\u001b[0m{'event': 'log', 'id': '20241122-89504-0280-3063', 'data': {'content': '因此，我的第一步', 'block_type': 'chunk', 'content_id': 'dfc1b1aea8e611ef8572acde48001122', 'created_at': '2024-11-22T23:31:44.355487', 'thread_id': '20241122-89486-0000-6633', 'calling_id': '20241122-89486-0000-8696', 'agent_name': 'react-planner', 'model_name': 'qwen-plus'}}\n",
      "\u001b[32m将是通过提供的工具\u001b[0m{'event': 'log', 'id': '20241122-89504-0282-3204', 'data': {'content': '将是通过提供的工具', 'block_type': 'chunk', 'content_id': 'dfc1b1aea8e611ef8572acde48001122', 'created_at': '2024-11-22T23:31:44.479841', 'thread_id': '20241122-89486-0000-6633', 'calling_id': '20241122-89486-0000-8696', 'agent_name': 'react-planner', 'model_name': 'qwen-plus'}}\n",
      "\u001b[32m来确定鸿蒙\u001b[0m{'event': 'log', 'id': '20241122-89504-0284-8216', 'data': {'content': '来确定鸿蒙', 'block_type': 'chunk', 'content_id': 'dfc1b1aea8e611ef8572acde48001122', 'created_at': '2024-11-22T23:31:44.663312', 'thread_id': '20241122-89486-0000-6633', 'calling_id': '20241122-89486-0000-8696', 'agent_name': 'react-planner', 'model_name': 'qwen-plus'}}\n",
      "\u001b[32m公司的位置。\n",
      "\n",
      "任务\u001b[0m{'event': 'log', 'id': '20241122-89504-0286-9533', 'data': {'content': '公司的位置。\\n\\n任务', 'block_type': 'chunk', 'content_id': 'dfc1b1aea8e611ef8572acde48001122', 'created_at': '2024-11-22T23:31:44.787651', 'thread_id': '20241122-89486-0000-6633', 'calling_id': '20241122-89486-0000-8696', 'agent_name': 'react-planner', 'model_name': 'qwen-plus'}}\n",
      "\u001b[32m中包含的关键概念\u001b[0m{'event': 'log', 'id': '20241122-89505-0288-6323', 'data': {'content': '中包含的关键概念', 'block_type': 'chunk', 'content_id': 'dfc1b1aea8e611ef8572acde48001122', 'created_at': '2024-11-22T23:31:45.014252', 'thread_id': '20241122-89486-0000-6633', 'calling_id': '20241122-89486-0000-8696', 'agent_name': 'react-planner', 'model_name': 'qwen-plus'}}\n",
      "\u001b[32m:\n",
      "- \u001b[0m{'event': 'log', 'id': '20241122-89505-0290-2281', 'data': {'content': ':\\n- ', 'block_type': 'chunk', 'content_id': 'dfc1b1aea8e611ef8572acde48001122', 'created_at': '2024-11-22T23:31:45.076603', 'thread_id': '20241122-89486-0000-6633', 'calling_id': '20241122-89486-0000-8696', 'agent_name': 'react-planner', 'model_name': 'qwen-plus'}}\n",
      "\u001b[32m鸿蒙公司（\u001b[0m{'event': 'log', 'id': '20241122-89505-0292-8993', 'data': {'content': '鸿蒙公司（', 'block_type': 'chunk', 'content_id': 'dfc1b1aea8e611ef8572acde48001122', 'created_at': '2024-11-22T23:31:45.283724', 'thread_id': '20241122-89486-0000-6633', 'calling_id': '20241122-89486-0000-8696', 'agent_name': 'react-planner', 'model_name': 'qwen-plus'}}\n",
      "\u001b[32m需要查询其所在\u001b[0m{'event': 'log', 'id': '20241122-89505-0294-8693', 'data': {'content': '需要查询其所在', 'block_type': 'chunk', 'content_id': 'dfc1b1aea8e611ef8572acde48001122', 'created_at': '2024-11-22T23:31:45.442094', 'thread_id': '20241122-89486-0000-6633', 'calling_id': '20241122-89486-0000-8696', 'agent_name': 'react-planner', 'model_name': 'qwen-plus'}}\n",
      "\u001b[32m城市）\n",
      "\n",
      "将任务\u001b[0m{'event': 'log', 'id': '20241122-89505-0296-3347', 'data': {'content': '城市）\\n\\n将任务', 'block_type': 'chunk', 'content_id': 'dfc1b1aea8e611ef8572acde48001122', 'created_at': '2024-11-22T23:31:45.613985', 'thread_id': '20241122-89486-0000-6633', 'calling_id': '20241122-89486-0000-8696', 'agent_name': 'react-planner', 'model_name': 'qwen-plus'}}\n",
      "\u001b[32m中的关键概念拆\u001b[0m{'event': 'log', 'id': '20241122-89505-0298-0042', 'data': {'content': '中的关键概念拆', 'block_type': 'chunk', 'content_id': 'dfc1b1aea8e611ef8572acde48001122', 'created_at': '2024-11-22T23:31:45.732139', 'thread_id': '20241122-89486-0000-6633', 'calling_id': '20241122-89486-0000-8696', 'agent_name': 'react-planner', 'model_name': 'qwen-plus'}}\n",
      "\u001b[32m解为一系列待\u001b[0m{'event': 'log', 'id': '20241122-89505-0300-5932', 'data': {'content': '解为一系列待', 'block_type': 'chunk', 'content_id': 'dfc1b1aea8e611ef8572acde48001122', 'created_at': '2024-11-22T23:31:45.903392', 'thread_id': '20241122-89486-0000-6633', 'calling_id': '20241122-89486-0000-8696', 'agent_name': 'react-planner', 'model_name': 'qwen-plus'}}\n",
      "\u001b[32m查询的子要素\u001b[0m{'event': 'log', 'id': '20241122-89506-0302-3359', 'data': {'content': '查询的子要素', 'block_type': 'chunk', 'content_id': 'dfc1b1aea8e611ef8572acde48001122', 'created_at': '2024-11-22T23:31:46.130675', 'thread_id': '20241122-89486-0000-6633', 'calling_id': '20241122-89486-0000-8696', 'agent_name': 'react-planner', 'model_name': 'qwen-plus'}}\n",
      "\u001b[32m：\n",
      "- \u001b[0m{'event': 'log', 'id': '20241122-89506-0304-5975', 'data': {'content': '：\\n- ', 'block_type': 'chunk', 'content_id': 'dfc1b1aea8e611ef8572acde48001122', 'created_at': '2024-11-22T23:31:46.240655', 'thread_id': '20241122-89486-0000-6633', 'calling_id': '20241122-89486-0000-8696', 'agent_name': 'react-planner', 'model_name': 'qwen-plus'}}\n",
      "\u001b[32m鸿蒙公司\n",
      "\u001b[0m{'event': 'log', 'id': '20241122-89506-0306-3242', 'data': {'content': '鸿蒙公司\\n', 'block_type': 'chunk', 'content_id': 'dfc1b1aea8e611ef8572acde48001122', 'created_at': '2024-11-22T23:31:46.426983', 'thread_id': '20241122-89486-0000-6633', 'calling_id': '20241122-89486-0000-8696', 'agent_name': 'react-planner', 'model_name': 'qwen-plus'}}\n",
      "\u001b[32m - 所在\u001b[0m{'event': 'log', 'id': '20241122-89507-0308-4497', 'data': {'content': ' - 所在', 'block_type': 'chunk', 'content_id': 'dfc1b1aea8e611ef8572acde48001122', 'created_at': '2024-11-22T23:31:47.161846', 'thread_id': '20241122-89486-0000-6633', 'calling_id': '20241122-89486-0000-8696', 'agent_name': 'react-planner', 'model_name': 'qwen-plus'}}\n",
      "\u001b[32m城市\n",
      "\n",
      "**行动\u001b[0m{'event': 'log', 'id': '20241122-89507-0310-6148', 'data': {'content': '城市\\n\\n**行动', 'block_type': 'chunk', 'content_id': 'dfc1b1aea8e611ef8572acde48001122', 'created_at': '2024-11-22T23:31:47.302572', 'thread_id': '20241122-89486-0000-6633', 'calling_id': '20241122-89486-0000-8696', 'agent_name': 'react-planner', 'model_name': 'qwen-plus'}}\n",
      "\u001b[32m** \n",
      "Step1\u001b[0m{'event': 'log', 'id': '20241122-89507-0312-7087', 'data': {'content': '** \\nStep1', 'block_type': 'chunk', 'content_id': 'dfc1b1aea8e611ef8572acde48001122', 'created_at': '2024-11-22T23:31:47.526370', 'thread_id': '20241122-89486-0000-6633', 'calling_id': '20241122-89486-0000-8696', 'agent_name': 'react-planner', 'model_name': 'qwen-plus'}}\n",
      "\u001b[32m: 查询鸿蒙\u001b[0m{'event': 'log', 'id': '20241122-89507-0314-3467', 'data': {'content': ': 查询鸿蒙', 'block_type': 'chunk', 'content_id': 'dfc1b1aea8e611ef8572acde48001122', 'created_at': '2024-11-22T23:31:47.661241', 'thread_id': '20241122-89486-0000-6633', 'calling_id': '20241122-89486-0000-8696', 'agent_name': 'react-planner', 'model_name': 'qwen-plus'}}\n",
      "\u001b[32m公司所在城市.\u001b[0m{'event': 'log', 'id': '20241122-89507-0316-6661', 'data': {'content': '公司所在城市.', 'block_type': 'chunk', 'content_id': 'dfc1b1aea8e611ef8572acde48001122', 'created_at': '2024-11-22T23:31:47.843027', 'thread_id': '20241122-89486-0000-6633', 'calling_id': '20241122-89486-0000-8696', 'agent_name': 'react-planner', 'model_name': 'qwen-plus'}}\n",
      "\u001b[32m #E1 =\u001b[0m{'event': 'log', 'id': '20241122-89507-0318-6626', 'data': {'content': ' #E1 =', 'block_type': 'chunk', 'content_id': 'dfc1b1aea8e611ef8572acde48001122', 'created_at': '2024-11-22T23:31:47.966847', 'thread_id': '20241122-89486-0000-6633', 'calling_id': '20241122-89486-0000-8696', 'agent_name': 'react-planner', 'model_name': 'qwen-plus'}}\n",
      "\u001b[32m get_city[{\"\u001b[0m{'event': 'log', 'id': '20241122-89508-0320-0674', 'data': {'content': ' get_city[{\"', 'block_type': 'chunk', 'content_id': 'dfc1b1aea8e611ef8572acde48001122', 'created_at': '2024-11-22T23:31:48.603524', 'thread_id': '20241122-89486-0000-6633', 'calling_id': '20241122-89486-0000-8696', 'agent_name': 'react-planner', 'model_name': 'qwen-plus'}}\n",
      "\u001b[32maddress\": \"鸿\u001b[0m{'event': 'log', 'id': '20241122-89508-0322-3858', 'data': {'content': 'address\": \"鸿', 'block_type': 'chunk', 'content_id': 'dfc1b1aea8e611ef8572acde48001122', 'created_at': '2024-11-22T23:31:48.711486', 'thread_id': '20241122-89486-0000-6633', 'calling_id': '20241122-89486-0000-8696', 'agent_name': 'react-planner', 'model_name': 'qwen-plus'}}\n",
      "\u001b[32m蒙公司\"}]\u001b[0m{'event': 'log', 'id': '20241122-89508-0324-6177', 'data': {'content': '蒙公司\"}]', 'block_type': 'chunk', 'content_id': 'dfc1b1aea8e611ef8572acde48001122', 'created_at': '2024-11-22T23:31:48.893552', 'thread_id': '20241122-89486-0000-6633', 'calling_id': '20241122-89486-0000-8696', 'agent_name': 'react-planner', 'model_name': 'qwen-plus'}}\n",
      "\u001b[32m\u001b[0m{'event': 'log', 'id': '20241122-89508-0326-8665', 'data': {'content': '', 'block_type': 'chunk', 'content_id': 'dfc1b1aea8e611ef8572acde48001122', 'created_at': '2024-11-22T23:31:48.942058', 'thread_id': '20241122-89486-0000-6633', 'calling_id': '20241122-89486-0000-8696', 'agent_name': 'react-planner', 'model_name': 'qwen-plus'}}\n",
      "\n",
      "{'event': 'log', 'id': '20241122-89508-0328-2127', 'data': {'content': '', 'block_type': 'new_line', 'content_id': 'dfc1b1aea8e611ef8572acde48001122', 'created_at': '2024-11-22T23:31:48.943877', 'thread_id': None, 'calling_id': '20241122-89486-0000-8696', 'agent_name': None, 'model_name': None}}\n",
      "{'event': 'log', 'id': '20241122-89508-0330-3848', 'data': {'content': '{\"input_tokens\": 1034, \"output_tokens\": 116, \"total_tokens\": 1150}', 'block_type': 'usage', 'content_id': 'dfc1b1aea8e611ef8572acde48001122', 'created_at': '2024-11-22T23:31:48.944242', 'thread_id': '20241122-89486-0000-6633', 'calling_id': '20241122-89486-0000-8696', 'agent_name': 'react-planner', 'model_name': 'qwen-plus'}}\n",
      "{'event': 'log', 'id': '20241122-89508-0332-1646', 'data': {'content': '**思考** \\n为了提供准确的天气信息，我需要先确定“鸿蒙公司”所在的准确城市。因此，我的第一步将是通过提供的工具来确定鸿蒙公司的位置。\\n\\n任务中包含的关键概念:\\n- 鸿蒙公司（需要查询其所在城市）\\n\\n将任务中的关键概念拆解为一系列待查询的子要素：\\n- 鸿蒙公司\\n - 所在城市\\n\\n**行动** \\nStep1: 查询鸿蒙公司所在城市. #E1 = get_city[{\"address\": \"鸿蒙公司\"}]', 'block_type': 'final_text', 'content_id': 'dfc1b1aea8e611ef8572acde48001122', 'created_at': '2024-11-22T23:31:48.944560', 'thread_id': '20241122-89486-0000-6633', 'calling_id': '20241122-89486-0000-8696', 'agent_name': 'react-planner', 'model_name': 'qwen-plus'}}\n",
      "[AGENT] \u001b[34mget_city\u001b[0m\n",
      "{'event': 'log', 'id': '20241122-89508-0333-3375', 'data': {'content': 'get_city', 'block_type': 'agent', 'content_id': 'dfc1b1aea8e611ef8572acde48001122', 'created_at': '2024-11-22T23:31:48.944871', 'thread_id': None, 'calling_id': '20241122-89486-0000-8696', 'agent_name': 'get_city', 'model_name': None}}\n",
      ">>> {}\n",
      "get_city() missing 1 required positional argument: 'location'\n",
      "\u001b[33mget_city() missing 1 required positional argument: 'location'\u001b[0m{'event': 'log', 'id': '20241122-89508-0335-8279', 'data': {'content': \"get_city() missing 1 required positional argument: 'location'\", 'block_type': 'text', 'content_id': 'dfc1b1aea8e611ef8572acde48001122', 'created_at': '2024-11-22T23:31:48.945395', 'thread_id': None, 'calling_id': '20241122-89486-0000-8696', 'agent_name': 'get_city', 'model_name': None}}\n",
      "\n",
      "{'event': 'log', 'id': '20241122-89508-0337-6483', 'data': {'content': '', 'block_type': 'new_line', 'content_id': 'dfc1b1aea8e611ef8572acde48001122', 'created_at': '2024-11-22T23:31:48.945626', 'thread_id': None, 'calling_id': '20241122-89486-0000-8696', 'agent_name': None, 'model_name': None}}\n",
      "{'event': 'log', 'id': '20241122-89508-0339-4090', 'data': {'content': '>>> flow-node-2: observer', 'block_type': 'node', 'content_id': '20241122-89508-0340-8081', 'created_at': '2024-11-22T23:31:48.945806', 'thread_id': None, 'calling_id': '20241122-89486-0000-8696', 'agent_name': 'ReAct.4557867328', 'model_name': None}}\n",
      "\u001b[33m\n",
      "**观察**\n",
      "上面的行动结果为:\n",
      "\n",
      "\u001b[0m{'event': 'log', 'id': '20241122-89508-0341-1788', 'data': {'content': '\\n**观察**\\n上面的行动结果为:\\n\\n', 'block_type': 'text', 'content_id': '20241122-89508-0342-1648', 'created_at': '2024-11-22T23:31:48.945929', 'thread_id': None, 'calling_id': '20241122-89486-0000-8696', 'agent_name': 'ReAct.4557867328', 'model_name': None}}\n",
      "{'event': 'output', 'id': '20241122-89508-0343-5871', 'data': {'content': '我在鸿蒙公司，帮我查询一下天气情况', 'block_type': 'final_text', 'content_id': '20241122-89508-0344-4192', 'created_at': '2024-11-22T23:31:48.946161', 'thread_id': None, 'calling_id': '20241122-89486-0000-8696', 'agent_name': 'ReAct.4557867328', 'model_name': None}}\n",
      "{'event': 'log', 'id': '20241122-89508-0345-8571', 'data': {'content': '>>> flow-node-1: planner', 'block_type': 'node', 'content_id': '20241122-89508-0346-3569', 'created_at': '2024-11-22T23:31:48.946344', 'thread_id': None, 'calling_id': '20241122-89486-0000-8696', 'agent_name': 'ReAct.4557867328', 'model_name': None}}\n",
      "{'event': 'log', 'id': '20241122-89508-0347-8348', 'data': {'content': '我在鸿蒙公司，帮我查询一下天气情况', 'block_type': 'user', 'content_id': '20241122-89508-0348-1025', 'created_at': '2024-11-22T23:31:48.946481', 'thread_id': '20241122-89486-0000-6633', 'calling_id': '20241122-89486-0000-8696', 'agent_name': 'react-planner', 'model_name': 'qwen-plus'}}\n",
      "[AGENT] \u001b[34mreact-planner\u001b[0m\n",
      "{'event': 'log', 'id': '20241122-89508-0349-5004', 'data': {'content': 'react-planner', 'block_type': 'agent', 'content_id': '20241122-89508-0350-3018', 'created_at': '2024-11-22T23:31:48.946579', 'thread_id': '20241122-89486-0000-6633', 'calling_id': '20241122-89486-0000-8696', 'agent_name': 'react-planner', 'model_name': 'qwen-plus'}}\n",
      "{'event': 'log', 'id': '20241122-89508-0351-0256', 'data': {'content': '记住 10 轮对话', 'block_type': 'info', 'content_id': '20241122-89508-0352-6094', 'created_at': '2024-11-22T23:31:48.946811', 'thread_id': '20241122-89486-0000-6633', 'calling_id': '20241122-89486-0000-8696', 'agent_name': 'react-planner', 'model_name': 'qwen-plus'}}\n",
      "\u001b[32mStep\u001b[0m{'event': 'log', 'id': '20241122-89509-0353-5432', 'data': {'content': 'Step', 'block_type': 'chunk', 'content_id': 'e3cb5fd4a8e611ef8572acde48001122', 'created_at': '2024-11-22T23:31:49.652551', 'thread_id': '20241122-89486-0000-6633', 'calling_id': '20241122-89486-0000-8696', 'agent_name': 'react-planner', 'model_name': 'qwen-plus'}}\n",
      "\u001b[32m1\u001b[0m{'event': 'log', 'id': '20241122-89509-0355-0652', 'data': {'content': '1', 'block_type': 'chunk', 'content_id': 'e3cb5fd4a8e611ef8572acde48001122', 'created_at': '2024-11-22T23:31:49.664856', 'thread_id': '20241122-89486-0000-6633', 'calling_id': '20241122-89486-0000-8696', 'agent_name': 'react-planner', 'model_name': 'qwen-plus'}}\n",
      "\u001b[32m:\u001b[0m{'event': 'log', 'id': '20241122-89509-0357-1492', 'data': {'content': ':', 'block_type': 'chunk', 'content_id': 'e3cb5fd4a8e611ef8572acde48001122', 'created_at': '2024-11-22T23:31:49.693009', 'thread_id': '20241122-89486-0000-6633', 'calling_id': '20241122-89486-0000-8696', 'agent_name': 'react-planner', 'model_name': 'qwen-plus'}}\n",
      "\u001b[32m 查询\u001b[0m{'event': 'log', 'id': '20241122-89509-0359-6838', 'data': {'content': ' 查询', 'block_type': 'chunk', 'content_id': 'e3cb5fd4a8e611ef8572acde48001122', 'created_at': '2024-11-22T23:31:49.751367', 'thread_id': '20241122-89486-0000-6633', 'calling_id': '20241122-89486-0000-8696', 'agent_name': 'react-planner', 'model_name': 'qwen-plus'}}\n",
      "\u001b[32m鸿蒙公司所在\u001b[0m{'event': 'log', 'id': '20241122-89509-0361-4241', 'data': {'content': '鸿蒙公司所在', 'block_type': 'chunk', 'content_id': 'e3cb5fd4a8e611ef8572acde48001122', 'created_at': '2024-11-22T23:31:49.930598', 'thread_id': '20241122-89486-0000-6633', 'calling_id': '20241122-89486-0000-8696', 'agent_name': 'react-planner', 'model_name': 'qwen-plus'}}\n",
      "\u001b[32m城市. #E\u001b[0m{'event': 'log', 'id': '20241122-89510-0363-9008', 'data': {'content': '城市. #E', 'block_type': 'chunk', 'content_id': 'e3cb5fd4a8e611ef8572acde48001122', 'created_at': '2024-11-22T23:31:50.050043', 'thread_id': '20241122-89486-0000-6633', 'calling_id': '20241122-89486-0000-8696', 'agent_name': 'react-planner', 'model_name': 'qwen-plus'}}\n",
      "\u001b[32m1 = get_city\u001b[0m{'event': 'log', 'id': '20241122-89510-0365-4931', 'data': {'content': '1 = get_city', 'block_type': 'chunk', 'content_id': 'e3cb5fd4a8e611ef8572acde48001122', 'created_at': '2024-11-22T23:31:50.266200', 'thread_id': '20241122-89486-0000-6633', 'calling_id': '20241122-89486-0000-8696', 'agent_name': 'react-planner', 'model_name': 'qwen-plus'}}\n",
      "\u001b[32m[{\"address\":\u001b[0m{'event': 'log', 'id': '20241122-89510-0367-5066', 'data': {'content': '[{\"address\":', 'block_type': 'chunk', 'content_id': 'e3cb5fd4a8e611ef8572acde48001122', 'created_at': '2024-11-22T23:31:50.397016', 'thread_id': '20241122-89486-0000-6633', 'calling_id': '20241122-89486-0000-8696', 'agent_name': 'react-planner', 'model_name': 'qwen-plus'}}\n",
      "\u001b[32m \"鸿蒙公司\u001b[0m{'event': 'log', 'id': '20241122-89510-0369-1800', 'data': {'content': ' \"鸿蒙公司', 'block_type': 'chunk', 'content_id': 'e3cb5fd4a8e611ef8572acde48001122', 'created_at': '2024-11-22T23:31:50.620387', 'thread_id': '20241122-89486-0000-6633', 'calling_id': '20241122-89486-0000-8696', 'agent_name': 'react-planner', 'model_name': 'qwen-plus'}}\n",
      "\u001b[32m\"}]\u001b[0m{'event': 'log', 'id': '20241122-89510-0371-9131', 'data': {'content': '\"}]', 'block_type': 'chunk', 'content_id': 'e3cb5fd4a8e611ef8572acde48001122', 'created_at': '2024-11-22T23:31:50.705653', 'thread_id': '20241122-89486-0000-6633', 'calling_id': '20241122-89486-0000-8696', 'agent_name': 'react-planner', 'model_name': 'qwen-plus'}}\n",
      "\u001b[32m\u001b[0m{'event': 'log', 'id': '20241122-89510-0373-5618', 'data': {'content': '', 'block_type': 'chunk', 'content_id': 'e3cb5fd4a8e611ef8572acde48001122', 'created_at': '2024-11-22T23:31:50.751230', 'thread_id': '20241122-89486-0000-6633', 'calling_id': '20241122-89486-0000-8696', 'agent_name': 'react-planner', 'model_name': 'qwen-plus'}}\n",
      "\n",
      "{'event': 'log', 'id': '20241122-89510-0375-8286', 'data': {'content': '', 'block_type': 'new_line', 'content_id': 'e3cb5fd4a8e611ef8572acde48001122', 'created_at': '2024-11-22T23:31:50.758142', 'thread_id': None, 'calling_id': '20241122-89486-0000-8696', 'agent_name': None, 'model_name': None}}\n",
      "{'event': 'log', 'id': '20241122-89510-0377-4049', 'data': {'content': '{\"input_tokens\": 1159, \"output_tokens\": 26, \"total_tokens\": 1185}', 'block_type': 'usage', 'content_id': 'e3cb5fd4a8e611ef8572acde48001122', 'created_at': '2024-11-22T23:31:50.758523', 'thread_id': '20241122-89486-0000-6633', 'calling_id': '20241122-89486-0000-8696', 'agent_name': 'react-planner', 'model_name': 'qwen-plus'}}\n",
      "{'event': 'log', 'id': '20241122-89510-0379-8944', 'data': {'content': 'Step1: 查询鸿蒙公司所在城市. #E1 = get_city[{\"address\": \"鸿蒙公司\"}]', 'block_type': 'final_text', 'content_id': 'e3cb5fd4a8e611ef8572acde48001122', 'created_at': '2024-11-22T23:31:50.758733', 'thread_id': '20241122-89486-0000-6633', 'calling_id': '20241122-89486-0000-8696', 'agent_name': 'react-planner', 'model_name': 'qwen-plus'}}\n",
      "[AGENT] \u001b[34mget_city\u001b[0m\n",
      "{'event': 'log', 'id': '20241122-89510-0380-1375', 'data': {'content': 'get_city', 'block_type': 'agent', 'content_id': 'e3cb5fd4a8e611ef8572acde48001122', 'created_at': '2024-11-22T23:31:50.758997', 'thread_id': None, 'calling_id': '20241122-89486-0000-8696', 'agent_name': 'get_city', 'model_name': None}}\n",
      ">>> {}\n",
      "get_city() missing 1 required positional argument: 'location'\n",
      "\u001b[33mget_city() missing 1 required positional argument: 'location'\u001b[0m{'event': 'log', 'id': '20241122-89510-0382-2143', 'data': {'content': \"get_city() missing 1 required positional argument: 'location'\", 'block_type': 'text', 'content_id': 'e3cb5fd4a8e611ef8572acde48001122', 'created_at': '2024-11-22T23:31:50.759499', 'thread_id': None, 'calling_id': '20241122-89486-0000-8696', 'agent_name': 'get_city', 'model_name': None}}\n",
      "\n",
      "{'event': 'log', 'id': '20241122-89510-0384-1351', 'data': {'content': '', 'block_type': 'new_line', 'content_id': 'e3cb5fd4a8e611ef8572acde48001122', 'created_at': '2024-11-22T23:31:50.759715', 'thread_id': None, 'calling_id': '20241122-89486-0000-8696', 'agent_name': None, 'model_name': None}}\n",
      "{'event': 'log', 'id': '20241122-89510-0386-7827', 'data': {'content': '>>> flow-node-2: observer', 'block_type': 'node', 'content_id': '20241122-89510-0387-4578', 'created_at': '2024-11-22T23:31:50.759891', 'thread_id': None, 'calling_id': '20241122-89486-0000-8696', 'agent_name': 'ReAct.4557867328', 'model_name': None}}\n",
      "\u001b[33m\n",
      "**观察**\n",
      "上面的行动结果为:\n",
      "\n",
      "\u001b[0m{'event': 'log', 'id': '20241122-89510-0388-8462', 'data': {'content': '\\n**观察**\\n上面的行动结果为:\\n\\n', 'block_type': 'text', 'content_id': '20241122-89510-0389-8663', 'created_at': '2024-11-22T23:31:50.760008', 'thread_id': None, 'calling_id': '20241122-89486-0000-8696', 'agent_name': 'ReAct.4557867328', 'model_name': None}}\n",
      "{'event': 'output', 'id': '20241122-89510-0390-5387', 'data': {'content': '我在鸿蒙公司，帮我查询一下天气情况', 'block_type': 'final_text', 'content_id': '20241122-89510-0391-1834', 'created_at': '2024-11-22T23:31:50.760211', 'thread_id': None, 'calling_id': '20241122-89486-0000-8696', 'agent_name': 'ReAct.4557867328', 'model_name': None}}\n",
      "{'event': 'log', 'id': '20241122-89510-0392-1439', 'data': {'content': '>>> flow-node-1: planner', 'block_type': 'node', 'content_id': '20241122-89510-0393-5520', 'created_at': '2024-11-22T23:31:50.760394', 'thread_id': None, 'calling_id': '20241122-89486-0000-8696', 'agent_name': 'ReAct.4557867328', 'model_name': None}}\n",
      "{'event': 'log', 'id': '20241122-89510-0394-6100', 'data': {'content': '我在鸿蒙公司，帮我查询一下天气情况', 'block_type': 'user', 'content_id': '20241122-89510-0395-1699', 'created_at': '2024-11-22T23:31:50.760531', 'thread_id': '20241122-89486-0000-6633', 'calling_id': '20241122-89486-0000-8696', 'agent_name': 'react-planner', 'model_name': 'qwen-plus'}}\n",
      "[AGENT] \u001b[34mreact-planner\u001b[0m\n",
      "{'event': 'log', 'id': '20241122-89510-0396-7885', 'data': {'content': 'react-planner', 'block_type': 'agent', 'content_id': '20241122-89510-0397-3258', 'created_at': '2024-11-22T23:31:50.760629', 'thread_id': '20241122-89486-0000-6633', 'calling_id': '20241122-89486-0000-8696', 'agent_name': 'react-planner', 'model_name': 'qwen-plus'}}\n",
      "{'event': 'log', 'id': '20241122-89510-0398-4064', 'data': {'content': '记住 10 轮对话', 'block_type': 'info', 'content_id': '20241122-89510-0399-7437', 'created_at': '2024-11-22T23:31:50.760858', 'thread_id': '20241122-89486-0000-6633', 'calling_id': '20241122-89486-0000-8696', 'agent_name': 'react-planner', 'model_name': 'qwen-plus'}}\n",
      "\u001b[32m**\u001b[0m{'event': 'log', 'id': '20241122-89511-0400-4318', 'data': {'content': '**', 'block_type': 'chunk', 'content_id': 'e4e02c42a8e611ef8572acde48001122', 'created_at': '2024-11-22T23:31:51.660803', 'thread_id': '20241122-89486-0000-6633', 'calling_id': '20241122-89486-0000-8696', 'agent_name': 'react-planner', 'model_name': 'qwen-plus'}}\n",
      "\u001b[32m思考\u001b[0m{'event': 'log', 'id': '20241122-89511-0402-0250', 'data': {'content': '思考', 'block_type': 'chunk', 'content_id': 'e4e02c42a8e611ef8572acde48001122', 'created_at': '2024-11-22T23:31:51.675087', 'thread_id': '20241122-89486-0000-6633', 'calling_id': '20241122-89486-0000-8696', 'agent_name': 'react-planner', 'model_name': 'qwen-plus'}}\n",
      "\u001b[32m**\u001b[0m{'event': 'log', 'id': '20241122-89511-0404-8947', 'data': {'content': '**', 'block_type': 'chunk', 'content_id': 'e4e02c42a8e611ef8572acde48001122', 'created_at': '2024-11-22T23:31:51.708280', 'thread_id': '20241122-89486-0000-6633', 'calling_id': '20241122-89486-0000-8696', 'agent_name': 'react-planner', 'model_name': 'qwen-plus'}}\n",
      "\u001b[32m \n",
      "\u001b[0m{'event': 'log', 'id': '20241122-89511-0406-6105', 'data': {'content': ' \\n', 'block_type': 'chunk', 'content_id': 'e4e02c42a8e611ef8572acde48001122', 'created_at': '2024-11-22T23:31:51.731646', 'thread_id': '20241122-89486-0000-6633', 'calling_id': '20241122-89486-0000-8696', 'agent_name': 'react-planner', 'model_name': 'qwen-plus'}}\n",
      "\u001b[32m为了提供准确的\u001b[0m{'event': 'log', 'id': '20241122-89511-0408-8106', 'data': {'content': '为了提供准确的', 'block_type': 'chunk', 'content_id': 'e4e02c42a8e611ef8572acde48001122', 'created_at': '2024-11-22T23:31:51.900080', 'thread_id': '20241122-89486-0000-6633', 'calling_id': '20241122-89486-0000-8696', 'agent_name': 'react-planner', 'model_name': 'qwen-plus'}}\n",
      "\u001b[32m天气信息，我\u001b[0m{'event': 'log', 'id': '20241122-89511-0410-0124', 'data': {'content': '天气信息，我', 'block_type': 'chunk', 'content_id': 'e4e02c42a8e611ef8572acde48001122', 'created_at': '2024-11-22T23:31:51.985088', 'thread_id': '20241122-89486-0000-6633', 'calling_id': '20241122-89486-0000-8696', 'agent_name': 'react-planner', 'model_name': 'qwen-plus'}}\n",
      "\u001b[32m需要先确定“\u001b[0m{'event': 'log', 'id': '20241122-89512-0412-5588', 'data': {'content': '需要先确定“', 'block_type': 'chunk', 'content_id': 'e4e02c42a8e611ef8572acde48001122', 'created_at': '2024-11-22T23:31:52.142341', 'thread_id': '20241122-89486-0000-6633', 'calling_id': '20241122-89486-0000-8696', 'agent_name': 'react-planner', 'model_name': 'qwen-plus'}}\n",
      "\u001b[32m鸿蒙公司”\u001b[0m{'event': 'log', 'id': '20241122-89512-0414-3422', 'data': {'content': '鸿蒙公司”', 'block_type': 'chunk', 'content_id': 'e4e02c42a8e611ef8572acde48001122', 'created_at': '2024-11-22T23:31:52.238829', 'thread_id': '20241122-89486-0000-6633', 'calling_id': '20241122-89486-0000-8696', 'agent_name': 'react-planner', 'model_name': 'qwen-plus'}}\n",
      "\u001b[32m所在的准确城市。\u001b[0m{'event': 'log', 'id': '20241122-89512-0416-2454', 'data': {'content': '所在的准确城市。', 'block_type': 'chunk', 'content_id': 'e4e02c42a8e611ef8572acde48001122', 'created_at': '2024-11-22T23:31:52.389815', 'thread_id': '20241122-89486-0000-6633', 'calling_id': '20241122-89486-0000-8696', 'agent_name': 'react-planner', 'model_name': 'qwen-plus'}}\n",
      "\u001b[32m因此，我的第一步\u001b[0m{'event': 'log', 'id': '20241122-89512-0418-1397', 'data': {'content': '因此，我的第一步', 'block_type': 'chunk', 'content_id': 'e4e02c42a8e611ef8572acde48001122', 'created_at': '2024-11-22T23:31:52.495929', 'thread_id': '20241122-89486-0000-6633', 'calling_id': '20241122-89486-0000-8696', 'agent_name': 'react-planner', 'model_name': 'qwen-plus'}}\n",
      "\u001b[32m将是通过提供的工具\u001b[0m{'event': 'log', 'id': '20241122-89512-0420-4280', 'data': {'content': '将是通过提供的工具', 'block_type': 'chunk', 'content_id': 'e4e02c42a8e611ef8572acde48001122', 'created_at': '2024-11-22T23:31:52.646408', 'thread_id': '20241122-89486-0000-6633', 'calling_id': '20241122-89486-0000-8696', 'agent_name': 'react-planner', 'model_name': 'qwen-plus'}}\n",
      "\u001b[32m来确定鸿蒙\u001b[0m{'event': 'log', 'id': '20241122-89512-0422-4421', 'data': {'content': '来确定鸿蒙', 'block_type': 'chunk', 'content_id': 'e4e02c42a8e611ef8572acde48001122', 'created_at': '2024-11-22T23:31:52.741759', 'thread_id': '20241122-89486-0000-6633', 'calling_id': '20241122-89486-0000-8696', 'agent_name': 'react-planner', 'model_name': 'qwen-plus'}}\n",
      "\u001b[32m公司的位置。\n",
      "\n",
      "任务\u001b[0m{'event': 'log', 'id': '20241122-89512-0424-1879', 'data': {'content': '公司的位置。\\n\\n任务', 'block_type': 'chunk', 'content_id': 'e4e02c42a8e611ef8572acde48001122', 'created_at': '2024-11-22T23:31:52.901210', 'thread_id': '20241122-89486-0000-6633', 'calling_id': '20241122-89486-0000-8696', 'agent_name': 'react-planner', 'model_name': 'qwen-plus'}}\n",
      "\u001b[32m中包含的关键概念\u001b[0m{'event': 'log', 'id': '20241122-89512-0426-8605', 'data': {'content': '中包含的关键概念', 'block_type': 'chunk', 'content_id': 'e4e02c42a8e611ef8572acde48001122', 'created_at': '2024-11-22T23:31:52.999075', 'thread_id': '20241122-89486-0000-6633', 'calling_id': '20241122-89486-0000-8696', 'agent_name': 'react-planner', 'model_name': 'qwen-plus'}}\n",
      "\u001b[32m:\n",
      "- \u001b[0m{'event': 'log', 'id': '20241122-89513-0428-9687', 'data': {'content': ':\\n- ', 'block_type': 'chunk', 'content_id': 'e4e02c42a8e611ef8572acde48001122', 'created_at': '2024-11-22T23:31:53.207029', 'thread_id': '20241122-89486-0000-6633', 'calling_id': '20241122-89486-0000-8696', 'agent_name': 'react-planner', 'model_name': 'qwen-plus'}}\n",
      "\u001b[32m鸿蒙公司（\u001b[0m{'event': 'log', 'id': '20241122-89513-0430-8694', 'data': {'content': '鸿蒙公司（', 'block_type': 'chunk', 'content_id': 'e4e02c42a8e611ef8572acde48001122', 'created_at': '2024-11-22T23:31:53.401529', 'thread_id': '20241122-89486-0000-6633', 'calling_id': '20241122-89486-0000-8696', 'agent_name': 'react-planner', 'model_name': 'qwen-plus'}}\n",
      "\u001b[32m需要查询其所在\u001b[0m{'event': 'log', 'id': '20241122-89513-0432-8592', 'data': {'content': '需要查询其所在', 'block_type': 'chunk', 'content_id': 'e4e02c42a8e611ef8572acde48001122', 'created_at': '2024-11-22T23:31:53.502021', 'thread_id': '20241122-89486-0000-6633', 'calling_id': '20241122-89486-0000-8696', 'agent_name': 'react-planner', 'model_name': 'qwen-plus'}}\n",
      "\u001b[32m城市）\n",
      "\n",
      "将任务\u001b[0m{'event': 'log', 'id': '20241122-89513-0434-1194', 'data': {'content': '城市）\\n\\n将任务', 'block_type': 'chunk', 'content_id': 'e4e02c42a8e611ef8572acde48001122', 'created_at': '2024-11-22T23:31:53.664011', 'thread_id': '20241122-89486-0000-6633', 'calling_id': '20241122-89486-0000-8696', 'agent_name': 'react-planner', 'model_name': 'qwen-plus'}}\n",
      "\u001b[32m中的关键概念拆\u001b[0m{'event': 'log', 'id': '20241122-89513-0436-9394', 'data': {'content': '中的关键概念拆', 'block_type': 'chunk', 'content_id': 'e4e02c42a8e611ef8572acde48001122', 'created_at': '2024-11-22T23:31:53.864586', 'thread_id': '20241122-89486-0000-6633', 'calling_id': '20241122-89486-0000-8696', 'agent_name': 'react-planner', 'model_name': 'qwen-plus'}}\n",
      "\u001b[32m解为一系列待\u001b[0m{'event': 'log', 'id': '20241122-89513-0438-6717', 'data': {'content': '解为一系列待', 'block_type': 'chunk', 'content_id': 'e4e02c42a8e611ef8572acde48001122', 'created_at': '2024-11-22T23:31:53.994832', 'thread_id': '20241122-89486-0000-6633', 'calling_id': '20241122-89486-0000-8696', 'agent_name': 'react-planner', 'model_name': 'qwen-plus'}}\n",
      "\u001b[32m查询的子要素\u001b[0m{'event': 'log', 'id': '20241122-89514-0440-3285', 'data': {'content': '查询的子要素', 'block_type': 'chunk', 'content_id': 'e4e02c42a8e611ef8572acde48001122', 'created_at': '2024-11-22T23:31:54.190745', 'thread_id': '20241122-89486-0000-6633', 'calling_id': '20241122-89486-0000-8696', 'agent_name': 'react-planner', 'model_name': 'qwen-plus'}}\n",
      "\u001b[32m：\n",
      "- \u001b[0m{'event': 'log', 'id': '20241122-89514-0442-8975', 'data': {'content': '：\\n- ', 'block_type': 'chunk', 'content_id': 'e4e02c42a8e611ef8572acde48001122', 'created_at': '2024-11-22T23:31:54.241335', 'thread_id': '20241122-89486-0000-6633', 'calling_id': '20241122-89486-0000-8696', 'agent_name': 'react-planner', 'model_name': 'qwen-plus'}}\n",
      "\u001b[32m鸿蒙公司\n",
      "\u001b[0m{'event': 'log', 'id': '20241122-89514-0444-2857', 'data': {'content': '鸿蒙公司\\n', 'block_type': 'chunk', 'content_id': 'e4e02c42a8e611ef8572acde48001122', 'created_at': '2024-11-22T23:31:54.493699', 'thread_id': '20241122-89486-0000-6633', 'calling_id': '20241122-89486-0000-8696', 'agent_name': 'react-planner', 'model_name': 'qwen-plus'}}\n",
      "\u001b[32m - 所在\u001b[0m{'event': 'log', 'id': '20241122-89514-0446-1598', 'data': {'content': ' - 所在', 'block_type': 'chunk', 'content_id': 'e4e02c42a8e611ef8572acde48001122', 'created_at': '2024-11-22T23:31:54.514353', 'thread_id': '20241122-89486-0000-6633', 'calling_id': '20241122-89486-0000-8696', 'agent_name': 'react-planner', 'model_name': 'qwen-plus'}}\n",
      "\u001b[32m城市\n",
      "\n",
      "**行动\u001b[0m{'event': 'log', 'id': '20241122-89514-0448-1858', 'data': {'content': '城市\\n\\n**行动', 'block_type': 'chunk', 'content_id': 'e4e02c42a8e611ef8572acde48001122', 'created_at': '2024-11-22T23:31:54.647109', 'thread_id': '20241122-89486-0000-6633', 'calling_id': '20241122-89486-0000-8696', 'agent_name': 'react-planner', 'model_name': 'qwen-plus'}}\n",
      "\u001b[32m** \n",
      "Step1\u001b[0m{'event': 'log', 'id': '20241122-89514-0450-8832', 'data': {'content': '** \\nStep1', 'block_type': 'chunk', 'content_id': 'e4e02c42a8e611ef8572acde48001122', 'created_at': '2024-11-22T23:31:54.806657', 'thread_id': '20241122-89486-0000-6633', 'calling_id': '20241122-89486-0000-8696', 'agent_name': 'react-planner', 'model_name': 'qwen-plus'}}\n",
      "\u001b[32m: 查询鸿蒙\u001b[0m{'event': 'log', 'id': '20241122-89514-0452-8710', 'data': {'content': ': 查询鸿蒙', 'block_type': 'chunk', 'content_id': 'e4e02c42a8e611ef8572acde48001122', 'created_at': '2024-11-22T23:31:54.910534', 'thread_id': '20241122-89486-0000-6633', 'calling_id': '20241122-89486-0000-8696', 'agent_name': 'react-planner', 'model_name': 'qwen-plus'}}\n",
      "\u001b[32m公司所在城市.\u001b[0m{'event': 'log', 'id': '20241122-89515-0454-3228', 'data': {'content': '公司所在城市.', 'block_type': 'chunk', 'content_id': 'e4e02c42a8e611ef8572acde48001122', 'created_at': '2024-11-22T23:31:55.002875', 'thread_id': '20241122-89486-0000-6633', 'calling_id': '20241122-89486-0000-8696', 'agent_name': 'react-planner', 'model_name': 'qwen-plus'}}\n",
      "\u001b[32m #E1 =\u001b[0m{'event': 'log', 'id': '20241122-89515-0456-0841', 'data': {'content': ' #E1 =', 'block_type': 'chunk', 'content_id': 'e4e02c42a8e611ef8572acde48001122', 'created_at': '2024-11-22T23:31:55.155243', 'thread_id': '20241122-89486-0000-6633', 'calling_id': '20241122-89486-0000-8696', 'agent_name': 'react-planner', 'model_name': 'qwen-plus'}}\n",
      "\u001b[32m get_city[{\"\u001b[0m{'event': 'log', 'id': '20241122-89515-0458-1613', 'data': {'content': ' get_city[{\"', 'block_type': 'chunk', 'content_id': 'e4e02c42a8e611ef8572acde48001122', 'created_at': '2024-11-22T23:31:55.252350', 'thread_id': '20241122-89486-0000-6633', 'calling_id': '20241122-89486-0000-8696', 'agent_name': 'react-planner', 'model_name': 'qwen-plus'}}\n",
      "\u001b[32maddress\": \"鸿\u001b[0m{'event': 'log', 'id': '20241122-89515-0460-0628', 'data': {'content': 'address\": \"鸿', 'block_type': 'chunk', 'content_id': 'e4e02c42a8e611ef8572acde48001122', 'created_at': '2024-11-22T23:31:55.410237', 'thread_id': '20241122-89486-0000-6633', 'calling_id': '20241122-89486-0000-8696', 'agent_name': 'react-planner', 'model_name': 'qwen-plus'}}\n",
      "\u001b[32m蒙公司\"}]\u001b[0m{'event': 'log', 'id': '20241122-89515-0462-1306', 'data': {'content': '蒙公司\"}]', 'block_type': 'chunk', 'content_id': 'e4e02c42a8e611ef8572acde48001122', 'created_at': '2024-11-22T23:31:55.504996', 'thread_id': '20241122-89486-0000-6633', 'calling_id': '20241122-89486-0000-8696', 'agent_name': 'react-planner', 'model_name': 'qwen-plus'}}\n",
      "\u001b[32m\u001b[0m{'event': 'log', 'id': '20241122-89515-0464-4760', 'data': {'content': '', 'block_type': 'chunk', 'content_id': 'e4e02c42a8e611ef8572acde48001122', 'created_at': '2024-11-22T23:31:55.567163', 'thread_id': '20241122-89486-0000-6633', 'calling_id': '20241122-89486-0000-8696', 'agent_name': 'react-planner', 'model_name': 'qwen-plus'}}\n",
      "\n",
      "{'event': 'log', 'id': '20241122-89515-0466-2588', 'data': {'content': '', 'block_type': 'new_line', 'content_id': 'e4e02c42a8e611ef8572acde48001122', 'created_at': '2024-11-22T23:31:55.570928', 'thread_id': None, 'calling_id': '20241122-89486-0000-8696', 'agent_name': None, 'model_name': None}}\n",
      "{'event': 'log', 'id': '20241122-89515-0468-4313', 'data': {'content': '{\"input_tokens\": 1194, \"output_tokens\": 116, \"total_tokens\": 1310}', 'block_type': 'usage', 'content_id': 'e4e02c42a8e611ef8572acde48001122', 'created_at': '2024-11-22T23:31:55.571569', 'thread_id': '20241122-89486-0000-6633', 'calling_id': '20241122-89486-0000-8696', 'agent_name': 'react-planner', 'model_name': 'qwen-plus'}}\n",
      "{'event': 'log', 'id': '20241122-89515-0470-9624', 'data': {'content': '**思考** \\n为了提供准确的天气信息，我需要先确定“鸿蒙公司”所在的准确城市。因此，我的第一步将是通过提供的工具来确定鸿蒙公司的位置。\\n\\n任务中包含的关键概念:\\n- 鸿蒙公司（需要查询其所在城市）\\n\\n将任务中的关键概念拆解为一系列待查询的子要素：\\n- 鸿蒙公司\\n - 所在城市\\n\\n**行动** \\nStep1: 查询鸿蒙公司所在城市. #E1 = get_city[{\"address\": \"鸿蒙公司\"}]', 'block_type': 'final_text', 'content_id': 'e4e02c42a8e611ef8572acde48001122', 'created_at': '2024-11-22T23:31:55.571921', 'thread_id': '20241122-89486-0000-6633', 'calling_id': '20241122-89486-0000-8696', 'agent_name': 'react-planner', 'model_name': 'qwen-plus'}}\n",
      "[AGENT] \u001b[34mget_city\u001b[0m\n",
      "{'event': 'log', 'id': '20241122-89515-0471-3592', 'data': {'content': 'get_city', 'block_type': 'agent', 'content_id': 'e4e02c42a8e611ef8572acde48001122', 'created_at': '2024-11-22T23:31:55.572233', 'thread_id': None, 'calling_id': '20241122-89486-0000-8696', 'agent_name': 'get_city', 'model_name': None}}\n",
      ">>> {}\n",
      "get_city() missing 1 required positional argument: 'location'\n",
      "\u001b[33mget_city() missing 1 required positional argument: 'location'\u001b[0m{'event': 'log', 'id': '20241122-89515-0473-1812', 'data': {'content': \"get_city() missing 1 required positional argument: 'location'\", 'block_type': 'text', 'content_id': 'e4e02c42a8e611ef8572acde48001122', 'created_at': '2024-11-22T23:31:55.572740', 'thread_id': None, 'calling_id': '20241122-89486-0000-8696', 'agent_name': 'get_city', 'model_name': None}}\n",
      "\n",
      "{'event': 'log', 'id': '20241122-89515-0475-4460', 'data': {'content': '', 'block_type': 'new_line', 'content_id': 'e4e02c42a8e611ef8572acde48001122', 'created_at': '2024-11-22T23:31:55.572969', 'thread_id': None, 'calling_id': '20241122-89486-0000-8696', 'agent_name': None, 'model_name': None}}\n",
      "{'event': 'log', 'id': '20241122-89515-0477-1642', 'data': {'content': '>>> flow-node-2: observer', 'block_type': 'node', 'content_id': '20241122-89515-0478-2881', 'created_at': '2024-11-22T23:31:55.573186', 'thread_id': None, 'calling_id': '20241122-89486-0000-8696', 'agent_name': 'ReAct.4557867328', 'model_name': None}}\n",
      "\u001b[33m\n",
      "**观察**\n",
      "上面的行动结果为:\n",
      "\n",
      "\u001b[0m{'event': 'log', 'id': '20241122-89515-0479-4543', 'data': {'content': '\\n**观察**\\n上面的行动结果为:\\n\\n', 'block_type': 'text', 'content_id': '20241122-89515-0480-1850', 'created_at': '2024-11-22T23:31:55.573332', 'thread_id': None, 'calling_id': '20241122-89486-0000-8696', 'agent_name': 'ReAct.4557867328', 'model_name': None}}\n",
      "{'event': 'output', 'id': '20241122-89515-0481-6080', 'data': {'content': '我在鸿蒙公司，帮我查询一下天气情况', 'block_type': 'final_text', 'content_id': '20241122-89515-0482-4694', 'created_at': '2024-11-22T23:31:55.573582', 'thread_id': None, 'calling_id': '20241122-89486-0000-8696', 'agent_name': 'ReAct.4557867328', 'model_name': None}}\n",
      "{'event': 'log', 'id': '20241122-89515-0483-3338', 'data': {'content': '>>> flow-node-1: planner', 'block_type': 'node', 'content_id': '20241122-89515-0484-0212', 'created_at': '2024-11-22T23:31:55.573804', 'thread_id': None, 'calling_id': '20241122-89486-0000-8696', 'agent_name': 'ReAct.4557867328', 'model_name': None}}\n",
      "{'event': 'log', 'id': '20241122-89515-0485-3593', 'data': {'content': '我在鸿蒙公司，帮我查询一下天气情况', 'block_type': 'user', 'content_id': '20241122-89515-0486-5129', 'created_at': '2024-11-22T23:31:55.573971', 'thread_id': '20241122-89486-0000-6633', 'calling_id': '20241122-89486-0000-8696', 'agent_name': 'react-planner', 'model_name': 'qwen-plus'}}\n",
      "[AGENT] \u001b[34mreact-planner\u001b[0m\n",
      "{'event': 'log', 'id': '20241122-89515-0487-5706', 'data': {'content': 'react-planner', 'block_type': 'agent', 'content_id': '20241122-89515-0488-7036', 'created_at': '2024-11-22T23:31:55.574091', 'thread_id': '20241122-89486-0000-6633', 'calling_id': '20241122-89486-0000-8696', 'agent_name': 'react-planner', 'model_name': 'qwen-plus'}}\n",
      "{'event': 'log', 'id': '20241122-89515-0489-8664', 'data': {'content': '记住 10 轮对话', 'block_type': 'info', 'content_id': '20241122-89515-0490-1644', 'created_at': '2024-11-22T23:31:55.574374', 'thread_id': '20241122-89486-0000-6633', 'calling_id': '20241122-89486-0000-8696', 'agent_name': 'react-planner', 'model_name': 'qwen-plus'}}\n",
      "\u001b[32m**\u001b[0m{'event': 'log', 'id': '20241122-89516-0491-7122', 'data': {'content': '**', 'block_type': 'chunk', 'content_id': 'e7beaf88a8e611ef8572acde48001122', 'created_at': '2024-11-22T23:31:56.306127', 'thread_id': '20241122-89486-0000-6633', 'calling_id': '20241122-89486-0000-8696', 'agent_name': 'react-planner', 'model_name': 'qwen-plus'}}\n",
      "\u001b[32m思考\u001b[0m{'event': 'log', 'id': '20241122-89516-0493-7126', 'data': {'content': '思考', 'block_type': 'chunk', 'content_id': 'e7beaf88a8e611ef8572acde48001122', 'created_at': '2024-11-22T23:31:56.319507', 'thread_id': '20241122-89486-0000-6633', 'calling_id': '20241122-89486-0000-8696', 'agent_name': 'react-planner', 'model_name': 'qwen-plus'}}\n",
      "\u001b[32m**\u001b[0m{'event': 'log', 'id': '20241122-89516-0495-2690', 'data': {'content': '**', 'block_type': 'chunk', 'content_id': 'e7beaf88a8e611ef8572acde48001122', 'created_at': '2024-11-22T23:31:56.340260', 'thread_id': '20241122-89486-0000-6633', 'calling_id': '20241122-89486-0000-8696', 'agent_name': 'react-planner', 'model_name': 'qwen-plus'}}\n",
      "\u001b[32m \n",
      "\u001b[0m{'event': 'log', 'id': '20241122-89516-0497-2994', 'data': {'content': ' \\n', 'block_type': 'chunk', 'content_id': 'e7beaf88a8e611ef8572acde48001122', 'created_at': '2024-11-22T23:31:56.374444', 'thread_id': '20241122-89486-0000-6633', 'calling_id': '20241122-89486-0000-8696', 'agent_name': 'react-planner', 'model_name': 'qwen-plus'}}\n",
      "\u001b[32m为了提供准确的\u001b[0m{'event': 'log', 'id': '20241122-89516-0499-3747', 'data': {'content': '为了提供准确的', 'block_type': 'chunk', 'content_id': 'e7beaf88a8e611ef8572acde48001122', 'created_at': '2024-11-22T23:31:56.547127', 'thread_id': '20241122-89486-0000-6633', 'calling_id': '20241122-89486-0000-8696', 'agent_name': 'react-planner', 'model_name': 'qwen-plus'}}\n",
      "\u001b[32m天气信息，我\u001b[0m{'event': 'log', 'id': '20241122-89516-0501-4668', 'data': {'content': '天气信息，我', 'block_type': 'chunk', 'content_id': 'e7beaf88a8e611ef8572acde48001122', 'created_at': '2024-11-22T23:31:56.643098', 'thread_id': '20241122-89486-0000-6633', 'calling_id': '20241122-89486-0000-8696', 'agent_name': 'react-planner', 'model_name': 'qwen-plus'}}\n",
      "\u001b[32m需要先确定“\u001b[0m{'event': 'log', 'id': '20241122-89516-0503-1941', 'data': {'content': '需要先确定“', 'block_type': 'chunk', 'content_id': 'e7beaf88a8e611ef8572acde48001122', 'created_at': '2024-11-22T23:31:56.805165', 'thread_id': '20241122-89486-0000-6633', 'calling_id': '20241122-89486-0000-8696', 'agent_name': 'react-planner', 'model_name': 'qwen-plus'}}\n",
      "\u001b[32m鸿蒙公司”\u001b[0m{'event': 'log', 'id': '20241122-89516-0505-1881', 'data': {'content': '鸿蒙公司”', 'block_type': 'chunk', 'content_id': 'e7beaf88a8e611ef8572acde48001122', 'created_at': '2024-11-22T23:31:56.920195', 'thread_id': '20241122-89486-0000-6633', 'calling_id': '20241122-89486-0000-8696', 'agent_name': 'react-planner', 'model_name': 'qwen-plus'}}\n",
      "\u001b[32m所在的准确城市。\u001b[0m{'event': 'log', 'id': '20241122-89517-0507-9042', 'data': {'content': '所在的准确城市。', 'block_type': 'chunk', 'content_id': 'e7beaf88a8e611ef8572acde48001122', 'created_at': '2024-11-22T23:31:57.070045', 'thread_id': '20241122-89486-0000-6633', 'calling_id': '20241122-89486-0000-8696', 'agent_name': 'react-planner', 'model_name': 'qwen-plus'}}\n",
      "\u001b[32m因此，我的第一步\u001b[0m{'event': 'log', 'id': '20241122-89517-0509-2482', 'data': {'content': '因此，我的第一步', 'block_type': 'chunk', 'content_id': 'e7beaf88a8e611ef8572acde48001122', 'created_at': '2024-11-22T23:31:57.171822', 'thread_id': '20241122-89486-0000-6633', 'calling_id': '20241122-89486-0000-8696', 'agent_name': 'react-planner', 'model_name': 'qwen-plus'}}\n",
      "\u001b[32m将是通过提供的工具\u001b[0m{'event': 'log', 'id': '20241122-89517-0511-6834', 'data': {'content': '将是通过提供的工具', 'block_type': 'chunk', 'content_id': 'e7beaf88a8e611ef8572acde48001122', 'created_at': '2024-11-22T23:31:57.330601', 'thread_id': '20241122-89486-0000-6633', 'calling_id': '20241122-89486-0000-8696', 'agent_name': 'react-planner', 'model_name': 'qwen-plus'}}\n",
      "\u001b[32m来确定鸿蒙\u001b[0m{'event': 'log', 'id': '20241122-89517-0513-5795', 'data': {'content': '来确定鸿蒙', 'block_type': 'chunk', 'content_id': 'e7beaf88a8e611ef8572acde48001122', 'created_at': '2024-11-22T23:31:57.447498', 'thread_id': '20241122-89486-0000-6633', 'calling_id': '20241122-89486-0000-8696', 'agent_name': 'react-planner', 'model_name': 'qwen-plus'}}\n",
      "\u001b[32m公司的位置。\n",
      "\n",
      "任务\u001b[0m{'event': 'log', 'id': '20241122-89517-0515-6563', 'data': {'content': '公司的位置。\\n\\n任务', 'block_type': 'chunk', 'content_id': 'e7beaf88a8e611ef8572acde48001122', 'created_at': '2024-11-22T23:31:57.605465', 'thread_id': '20241122-89486-0000-6633', 'calling_id': '20241122-89486-0000-8696', 'agent_name': 'react-planner', 'model_name': 'qwen-plus'}}\n",
      "\u001b[32m中包含的关键概念\u001b[0m{'event': 'log', 'id': '20241122-89517-0517-9328', 'data': {'content': '中包含的关键概念', 'block_type': 'chunk', 'content_id': 'e7beaf88a8e611ef8572acde48001122', 'created_at': '2024-11-22T23:31:57.702558', 'thread_id': '20241122-89486-0000-6633', 'calling_id': '20241122-89486-0000-8696', 'agent_name': 'react-planner', 'model_name': 'qwen-plus'}}\n",
      "\u001b[32m:\n",
      "- \u001b[0m{'event': 'log', 'id': '20241122-89517-0519-3279', 'data': {'content': ':\\n- ', 'block_type': 'chunk', 'content_id': 'e7beaf88a8e611ef8572acde48001122', 'created_at': '2024-11-22T23:31:57.861891', 'thread_id': '20241122-89486-0000-6633', 'calling_id': '20241122-89486-0000-8696', 'agent_name': 'react-planner', 'model_name': 'qwen-plus'}}\n",
      "\u001b[32m鸿蒙公司（\u001b[0m{'event': 'log', 'id': '20241122-89517-0521-4651', 'data': {'content': '鸿蒙公司（', 'block_type': 'chunk', 'content_id': 'e7beaf88a8e611ef8572acde48001122', 'created_at': '2024-11-22T23:31:57.969309', 'thread_id': '20241122-89486-0000-6633', 'calling_id': '20241122-89486-0000-8696', 'agent_name': 'react-planner', 'model_name': 'qwen-plus'}}\n",
      "\u001b[32m需要查询其所在\u001b[0m{'event': 'log', 'id': '20241122-89518-0523-3027', 'data': {'content': '需要查询其所在', 'block_type': 'chunk', 'content_id': 'e7beaf88a8e611ef8572acde48001122', 'created_at': '2024-11-22T23:31:58.248927', 'thread_id': '20241122-89486-0000-6633', 'calling_id': '20241122-89486-0000-8696', 'agent_name': 'react-planner', 'model_name': 'qwen-plus'}}\n",
      "\u001b[32m城市）\n",
      "\n",
      "将任务\u001b[0m{'event': 'log', 'id': '20241122-89518-0525-4854', 'data': {'content': '城市）\\n\\n将任务', 'block_type': 'chunk', 'content_id': 'e7beaf88a8e611ef8572acde48001122', 'created_at': '2024-11-22T23:31:58.327322', 'thread_id': '20241122-89486-0000-6633', 'calling_id': '20241122-89486-0000-8696', 'agent_name': 'react-planner', 'model_name': 'qwen-plus'}}\n",
      "\u001b[32m中的关键概念拆\u001b[0m{'event': 'log', 'id': '20241122-89518-0527-2210', 'data': {'content': '中的关键概念拆', 'block_type': 'chunk', 'content_id': 'e7beaf88a8e611ef8572acde48001122', 'created_at': '2024-11-22T23:31:58.486379', 'thread_id': '20241122-89486-0000-6633', 'calling_id': '20241122-89486-0000-8696', 'agent_name': 'react-planner', 'model_name': 'qwen-plus'}}\n",
      "\u001b[32m解为一系列待\u001b[0m{'event': 'log', 'id': '20241122-89518-0529-4023', 'data': {'content': '解为一系列待', 'block_type': 'chunk', 'content_id': 'e7beaf88a8e611ef8572acde48001122', 'created_at': '2024-11-22T23:31:58.646370', 'thread_id': '20241122-89486-0000-6633', 'calling_id': '20241122-89486-0000-8696', 'agent_name': 'react-planner', 'model_name': 'qwen-plus'}}\n",
      "\u001b[32m查询的子要素\u001b[0m{'event': 'log', 'id': '20241122-89518-0531-9913', 'data': {'content': '查询的子要素', 'block_type': 'chunk', 'content_id': 'e7beaf88a8e611ef8572acde48001122', 'created_at': '2024-11-22T23:31:58.798111', 'thread_id': '20241122-89486-0000-6633', 'calling_id': '20241122-89486-0000-8696', 'agent_name': 'react-planner', 'model_name': 'qwen-plus'}}\n",
      "\u001b[32m：\n",
      "- \u001b[0m{'event': 'log', 'id': '20241122-89518-0533-5090', 'data': {'content': '：\\n- ', 'block_type': 'chunk', 'content_id': 'e7beaf88a8e611ef8572acde48001122', 'created_at': '2024-11-22T23:31:58.873580', 'thread_id': '20241122-89486-0000-6633', 'calling_id': '20241122-89486-0000-8696', 'agent_name': 'react-planner', 'model_name': 'qwen-plus'}}\n",
      "\u001b[32m鸿蒙公司\n",
      "\u001b[0m{'event': 'log', 'id': '20241122-89519-0535-0145', 'data': {'content': '鸿蒙公司\\n', 'block_type': 'chunk', 'content_id': 'e7beaf88a8e611ef8572acde48001122', 'created_at': '2024-11-22T23:31:59.047655', 'thread_id': '20241122-89486-0000-6633', 'calling_id': '20241122-89486-0000-8696', 'agent_name': 'react-planner', 'model_name': 'qwen-plus'}}\n",
      "\u001b[32m - 所在\u001b[0m{'event': 'log', 'id': '20241122-89519-0537-8205', 'data': {'content': ' - 所在', 'block_type': 'chunk', 'content_id': 'e7beaf88a8e611ef8572acde48001122', 'created_at': '2024-11-22T23:31:59.141062', 'thread_id': '20241122-89486-0000-6633', 'calling_id': '20241122-89486-0000-8696', 'agent_name': 'react-planner', 'model_name': 'qwen-plus'}}\n",
      "\u001b[32m城市\n",
      "\n",
      "**行动\u001b[0m{'event': 'log', 'id': '20241122-89519-0539-9817', 'data': {'content': '城市\\n\\n**行动', 'block_type': 'chunk', 'content_id': 'e7beaf88a8e611ef8572acde48001122', 'created_at': '2024-11-22T23:31:59.409997', 'thread_id': '20241122-89486-0000-6633', 'calling_id': '20241122-89486-0000-8696', 'agent_name': 'react-planner', 'model_name': 'qwen-plus'}}\n",
      "\u001b[32m** \n",
      "Step1\u001b[0m{'event': 'log', 'id': '20241122-89519-0541-6751', 'data': {'content': '** \\nStep1', 'block_type': 'chunk', 'content_id': 'e7beaf88a8e611ef8572acde48001122', 'created_at': '2024-11-22T23:31:59.443487', 'thread_id': '20241122-89486-0000-6633', 'calling_id': '20241122-89486-0000-8696', 'agent_name': 'react-planner', 'model_name': 'qwen-plus'}}\n",
      "\u001b[32m: 查询鸿蒙\u001b[0m{'event': 'log', 'id': '20241122-89519-0543-3021', 'data': {'content': ': 查询鸿蒙', 'block_type': 'chunk', 'content_id': 'e7beaf88a8e611ef8572acde48001122', 'created_at': '2024-11-22T23:31:59.604764', 'thread_id': '20241122-89486-0000-6633', 'calling_id': '20241122-89486-0000-8696', 'agent_name': 'react-planner', 'model_name': 'qwen-plus'}}\n",
      "\u001b[32m公司所在城市.\u001b[0m{'event': 'log', 'id': '20241122-89519-0545-7627', 'data': {'content': '公司所在城市.', 'block_type': 'chunk', 'content_id': 'e7beaf88a8e611ef8572acde48001122', 'created_at': '2024-11-22T23:31:59.821735', 'thread_id': '20241122-89486-0000-6633', 'calling_id': '20241122-89486-0000-8696', 'agent_name': 'react-planner', 'model_name': 'qwen-plus'}}\n",
      "\u001b[32m #E1 =\u001b[0m{'event': 'log', 'id': '20241122-89519-0547-4506', 'data': {'content': ' #E1 =', 'block_type': 'chunk', 'content_id': 'e7beaf88a8e611ef8572acde48001122', 'created_at': '2024-11-22T23:31:59.925414', 'thread_id': '20241122-89486-0000-6633', 'calling_id': '20241122-89486-0000-8696', 'agent_name': 'react-planner', 'model_name': 'qwen-plus'}}\n",
      "\u001b[32m get_city[{\"\u001b[0m{'event': 'log', 'id': '20241122-89520-0549-3472', 'data': {'content': ' get_city[{\"', 'block_type': 'chunk', 'content_id': 'e7beaf88a8e611ef8572acde48001122', 'created_at': '2024-11-22T23:32:00.125162', 'thread_id': '20241122-89486-0000-6633', 'calling_id': '20241122-89486-0000-8696', 'agent_name': 'react-planner', 'model_name': 'qwen-plus'}}\n",
      "\u001b[32maddress\": \"鸿\u001b[0m{'event': 'log', 'id': '20241122-89520-0551-5133', 'data': {'content': 'address\": \"鸿', 'block_type': 'chunk', 'content_id': 'e7beaf88a8e611ef8572acde48001122', 'created_at': '2024-11-22T23:32:00.225910', 'thread_id': '20241122-89486-0000-6633', 'calling_id': '20241122-89486-0000-8696', 'agent_name': 'react-planner', 'model_name': 'qwen-plus'}}\n",
      "\u001b[32m蒙公司\"}]\u001b[0m{'event': 'log', 'id': '20241122-89520-0553-1608', 'data': {'content': '蒙公司\"}]', 'block_type': 'chunk', 'content_id': 'e7beaf88a8e611ef8572acde48001122', 'created_at': '2024-11-22T23:32:00.440092', 'thread_id': '20241122-89486-0000-6633', 'calling_id': '20241122-89486-0000-8696', 'agent_name': 'react-planner', 'model_name': 'qwen-plus'}}\n",
      "\u001b[32m\u001b[0m{'event': 'log', 'id': '20241122-89520-0555-8957', 'data': {'content': '', 'block_type': 'chunk', 'content_id': 'e7beaf88a8e611ef8572acde48001122', 'created_at': '2024-11-22T23:32:00.500157', 'thread_id': '20241122-89486-0000-6633', 'calling_id': '20241122-89486-0000-8696', 'agent_name': 'react-planner', 'model_name': 'qwen-plus'}}\n",
      "\n",
      "{'event': 'log', 'id': '20241122-89520-0557-5310', 'data': {'content': '', 'block_type': 'new_line', 'content_id': 'e7beaf88a8e611ef8572acde48001122', 'created_at': '2024-11-22T23:32:00.501293', 'thread_id': None, 'calling_id': '20241122-89486-0000-8696', 'agent_name': None, 'model_name': None}}\n",
      "{'event': 'log', 'id': '20241122-89520-0559-3921', 'data': {'content': '{\"input_tokens\": 1319, \"output_tokens\": 116, \"total_tokens\": 1435}', 'block_type': 'usage', 'content_id': 'e7beaf88a8e611ef8572acde48001122', 'created_at': '2024-11-22T23:32:00.501532', 'thread_id': '20241122-89486-0000-6633', 'calling_id': '20241122-89486-0000-8696', 'agent_name': 'react-planner', 'model_name': 'qwen-plus'}}\n",
      "{'event': 'log', 'id': '20241122-89520-0561-3114', 'data': {'content': '**思考** \\n为了提供准确的天气信息，我需要先确定“鸿蒙公司”所在的准确城市。因此，我的第一步将是通过提供的工具来确定鸿蒙公司的位置。\\n\\n任务中包含的关键概念:\\n- 鸿蒙公司（需要查询其所在城市）\\n\\n将任务中的关键概念拆解为一系列待查询的子要素：\\n- 鸿蒙公司\\n - 所在城市\\n\\n**行动** \\nStep1: 查询鸿蒙公司所在城市. #E1 = get_city[{\"address\": \"鸿蒙公司\"}]', 'block_type': 'final_text', 'content_id': 'e7beaf88a8e611ef8572acde48001122', 'created_at': '2024-11-22T23:32:00.501795', 'thread_id': '20241122-89486-0000-6633', 'calling_id': '20241122-89486-0000-8696', 'agent_name': 'react-planner', 'model_name': 'qwen-plus'}}\n",
      "[AGENT] \u001b[34mget_city\u001b[0m\n",
      "{'event': 'log', 'id': '20241122-89520-0562-5531', 'data': {'content': 'get_city', 'block_type': 'agent', 'content_id': 'e7beaf88a8e611ef8572acde48001122', 'created_at': '2024-11-22T23:32:00.502096', 'thread_id': None, 'calling_id': '20241122-89486-0000-8696', 'agent_name': 'get_city', 'model_name': None}}\n",
      ">>> {}\n",
      "get_city() missing 1 required positional argument: 'location'\n",
      "\u001b[33mget_city() missing 1 required positional argument: 'location'\u001b[0m{'event': 'log', 'id': '20241122-89520-0564-8486', 'data': {'content': \"get_city() missing 1 required positional argument: 'location'\", 'block_type': 'text', 'content_id': 'e7beaf88a8e611ef8572acde48001122', 'created_at': '2024-11-22T23:32:00.502581', 'thread_id': None, 'calling_id': '20241122-89486-0000-8696', 'agent_name': 'get_city', 'model_name': None}}\n",
      "\n",
      "{'event': 'log', 'id': '20241122-89520-0566-9718', 'data': {'content': '', 'block_type': 'new_line', 'content_id': 'e7beaf88a8e611ef8572acde48001122', 'created_at': '2024-11-22T23:32:00.502795', 'thread_id': None, 'calling_id': '20241122-89486-0000-8696', 'agent_name': None, 'model_name': None}}\n",
      "{'event': 'log', 'id': '20241122-89520-0568-9994', 'data': {'content': '>>> flow-node-2: observer', 'block_type': 'node', 'content_id': '20241122-89520-0569-1320', 'created_at': '2024-11-22T23:32:00.503013', 'thread_id': None, 'calling_id': '20241122-89486-0000-8696', 'agent_name': 'ReAct.4557867328', 'model_name': None}}\n",
      "\u001b[33m\n",
      "**观察**\n",
      "上面的行动结果为:\n",
      "\n",
      "\u001b[0m{'event': 'log', 'id': '20241122-89520-0570-8767', 'data': {'content': '\\n**观察**\\n上面的行动结果为:\\n\\n', 'block_type': 'text', 'content_id': '20241122-89520-0571-9971', 'created_at': '2024-11-22T23:32:00.503161', 'thread_id': None, 'calling_id': '20241122-89486-0000-8696', 'agent_name': 'ReAct.4557867328', 'model_name': None}}\n",
      "{'event': 'output', 'id': '20241122-89520-0572-8734', 'data': {'content': '我在鸿蒙公司，帮我查询一下天气情况', 'block_type': 'final_text', 'content_id': '20241122-89520-0573-5679', 'created_at': '2024-11-22T23:32:00.503409', 'thread_id': None, 'calling_id': '20241122-89486-0000-8696', 'agent_name': 'ReAct.4557867328', 'model_name': None}}\n",
      "{'event': 'log', 'id': '20241122-89520-0574-6932', 'data': {'content': '>>> flow-node-1: planner', 'block_type': 'node', 'content_id': '20241122-89520-0575-5495', 'created_at': '2024-11-22T23:32:00.503630', 'thread_id': None, 'calling_id': '20241122-89486-0000-8696', 'agent_name': 'ReAct.4557867328', 'model_name': None}}\n",
      "{'event': 'log', 'id': '20241122-89520-0576-4745', 'data': {'content': '我在鸿蒙公司，帮我查询一下天气情况', 'block_type': 'user', 'content_id': '20241122-89520-0577-0184', 'created_at': '2024-11-22T23:32:00.503794', 'thread_id': '20241122-89486-0000-6633', 'calling_id': '20241122-89486-0000-8696', 'agent_name': 'react-planner', 'model_name': 'qwen-plus'}}\n",
      "[AGENT] \u001b[34mreact-planner\u001b[0m\n",
      "{'event': 'log', 'id': '20241122-89520-0578-5419', 'data': {'content': 'react-planner', 'block_type': 'agent', 'content_id': '20241122-89520-0579-7821', 'created_at': '2024-11-22T23:32:00.503912', 'thread_id': '20241122-89486-0000-6633', 'calling_id': '20241122-89486-0000-8696', 'agent_name': 'react-planner', 'model_name': 'qwen-plus'}}\n",
      "{'event': 'log', 'id': '20241122-89520-0580-2086', 'data': {'content': '记住 10 轮对话', 'block_type': 'info', 'content_id': '20241122-89520-0581-1968', 'created_at': '2024-11-22T23:32:00.504192', 'thread_id': '20241122-89486-0000-6633', 'calling_id': '20241122-89486-0000-8696', 'agent_name': 'react-planner', 'model_name': 'qwen-plus'}}\n",
      "\u001b[32m**\u001b[0m{'event': 'log', 'id': '20241122-89521-0582-2031', 'data': {'content': '**', 'block_type': 'chunk', 'content_id': 'eaaeeadca8e611ef8572acde48001122', 'created_at': '2024-11-22T23:32:01.330977', 'thread_id': '20241122-89486-0000-6633', 'calling_id': '20241122-89486-0000-8696', 'agent_name': 'react-planner', 'model_name': 'qwen-plus'}}\n",
      "\u001b[32m思考\u001b[0m{'event': 'log', 'id': '20241122-89521-0584-4982', 'data': {'content': '思考', 'block_type': 'chunk', 'content_id': 'eaaeeadca8e611ef8572acde48001122', 'created_at': '2024-11-22T23:32:01.332119', 'thread_id': '20241122-89486-0000-6633', 'calling_id': '20241122-89486-0000-8696', 'agent_name': 'react-planner', 'model_name': 'qwen-plus'}}\n",
      "\u001b[32m**\u001b[0m{'event': 'log', 'id': '20241122-89521-0586-0001', 'data': {'content': '**', 'block_type': 'chunk', 'content_id': 'eaaeeadca8e611ef8572acde48001122', 'created_at': '2024-11-22T23:32:01.338580', 'thread_id': '20241122-89486-0000-6633', 'calling_id': '20241122-89486-0000-8696', 'agent_name': 'react-planner', 'model_name': 'qwen-plus'}}\n",
      "\u001b[32m \n",
      "\u001b[0m{'event': 'log', 'id': '20241122-89521-0588-4097', 'data': {'content': ' \\n', 'block_type': 'chunk', 'content_id': 'eaaeeadca8e611ef8572acde48001122', 'created_at': '2024-11-22T23:32:01.396401', 'thread_id': '20241122-89486-0000-6633', 'calling_id': '20241122-89486-0000-8696', 'agent_name': 'react-planner', 'model_name': 'qwen-plus'}}\n",
      "\u001b[32m为了提供准确的\u001b[0m{'event': 'log', 'id': '20241122-89521-0590-3533', 'data': {'content': '为了提供准确的', 'block_type': 'chunk', 'content_id': 'eaaeeadca8e611ef8572acde48001122', 'created_at': '2024-11-22T23:32:01.636522', 'thread_id': '20241122-89486-0000-6633', 'calling_id': '20241122-89486-0000-8696', 'agent_name': 'react-planner', 'model_name': 'qwen-plus'}}\n",
      "\u001b[32m天气信息，我\u001b[0m{'event': 'log', 'id': '20241122-89521-0592-4039', 'data': {'content': '天气信息，我', 'block_type': 'chunk', 'content_id': 'eaaeeadca8e611ef8572acde48001122', 'created_at': '2024-11-22T23:32:01.786113', 'thread_id': '20241122-89486-0000-6633', 'calling_id': '20241122-89486-0000-8696', 'agent_name': 'react-planner', 'model_name': 'qwen-plus'}}\n",
      "\u001b[32m需要先确定“\u001b[0m{'event': 'log', 'id': '20241122-89521-0594-0871', 'data': {'content': '需要先确定“', 'block_type': 'chunk', 'content_id': 'eaaeeadca8e611ef8572acde48001122', 'created_at': '2024-11-22T23:32:01.935117', 'thread_id': '20241122-89486-0000-6633', 'calling_id': '20241122-89486-0000-8696', 'agent_name': 'react-planner', 'model_name': 'qwen-plus'}}\n",
      "\u001b[32m鸿蒙公司”\u001b[0m{'event': 'log', 'id': '20241122-89522-0596-8299', 'data': {'content': '鸿蒙公司”', 'block_type': 'chunk', 'content_id': 'eaaeeadca8e611ef8572acde48001122', 'created_at': '2024-11-22T23:32:02.060409', 'thread_id': '20241122-89486-0000-6633', 'calling_id': '20241122-89486-0000-8696', 'agent_name': 'react-planner', 'model_name': 'qwen-plus'}}\n",
      "\u001b[32m所在的准确城市。\u001b[0m{'event': 'log', 'id': '20241122-89522-0598-0180', 'data': {'content': '所在的准确城市。', 'block_type': 'chunk', 'content_id': 'eaaeeadca8e611ef8572acde48001122', 'created_at': '2024-11-22T23:32:02.351716', 'thread_id': '20241122-89486-0000-6633', 'calling_id': '20241122-89486-0000-8696', 'agent_name': 'react-planner', 'model_name': 'qwen-plus'}}\n",
      "\u001b[32m因此，我的第一步\u001b[0m{'event': 'log', 'id': '20241122-89522-0600-2394', 'data': {'content': '因此，我的第一步', 'block_type': 'chunk', 'content_id': 'eaaeeadca8e611ef8572acde48001122', 'created_at': '2024-11-22T23:32:02.421204', 'thread_id': '20241122-89486-0000-6633', 'calling_id': '20241122-89486-0000-8696', 'agent_name': 'react-planner', 'model_name': 'qwen-plus'}}\n",
      "\u001b[32m将是通过提供的工具\u001b[0m{'event': 'log', 'id': '20241122-89522-0602-4642', 'data': {'content': '将是通过提供的工具', 'block_type': 'chunk', 'content_id': 'eaaeeadca8e611ef8572acde48001122', 'created_at': '2024-11-22T23:32:02.605747', 'thread_id': '20241122-89486-0000-6633', 'calling_id': '20241122-89486-0000-8696', 'agent_name': 'react-planner', 'model_name': 'qwen-plus'}}\n",
      "\u001b[32m来确定鸿蒙\u001b[0m{'event': 'log', 'id': '20241122-89522-0604-8724', 'data': {'content': '来确定鸿蒙', 'block_type': 'chunk', 'content_id': 'eaaeeadca8e611ef8572acde48001122', 'created_at': '2024-11-22T23:32:02.738696', 'thread_id': '20241122-89486-0000-6633', 'calling_id': '20241122-89486-0000-8696', 'agent_name': 'react-planner', 'model_name': 'qwen-plus'}}\n",
      "\u001b[32m公司的位置。\n",
      "\n",
      "任务\u001b[0m{'event': 'log', 'id': '20241122-89522-0606-8498', 'data': {'content': '公司的位置。\\n\\n任务', 'block_type': 'chunk', 'content_id': 'eaaeeadca8e611ef8572acde48001122', 'created_at': '2024-11-22T23:32:02.984850', 'thread_id': '20241122-89486-0000-6633', 'calling_id': '20241122-89486-0000-8696', 'agent_name': 'react-planner', 'model_name': 'qwen-plus'}}\n",
      "\u001b[32m中包含的关键概念\u001b[0m{'event': 'log', 'id': '20241122-89523-0608-7202', 'data': {'content': '中包含的关键概念', 'block_type': 'chunk', 'content_id': 'eaaeeadca8e611ef8572acde48001122', 'created_at': '2024-11-22T23:32:03.113059', 'thread_id': '20241122-89486-0000-6633', 'calling_id': '20241122-89486-0000-8696', 'agent_name': 'react-planner', 'model_name': 'qwen-plus'}}\n",
      "\u001b[32m:\n",
      "- \u001b[0m{'event': 'log', 'id': '20241122-89523-0610-7310', 'data': {'content': ':\\n- ', 'block_type': 'chunk', 'content_id': 'eaaeeadca8e611ef8572acde48001122', 'created_at': '2024-11-22T23:32:03.298597', 'thread_id': '20241122-89486-0000-6633', 'calling_id': '20241122-89486-0000-8696', 'agent_name': 'react-planner', 'model_name': 'qwen-plus'}}\n",
      "\u001b[32m鸿蒙公司（\u001b[0m{'event': 'log', 'id': '20241122-89523-0612-3040', 'data': {'content': '鸿蒙公司（', 'block_type': 'chunk', 'content_id': 'eaaeeadca8e611ef8572acde48001122', 'created_at': '2024-11-22T23:32:03.424620', 'thread_id': '20241122-89486-0000-6633', 'calling_id': '20241122-89486-0000-8696', 'agent_name': 'react-planner', 'model_name': 'qwen-plus'}}\n",
      "\u001b[32m需要查询其所在\u001b[0m{'event': 'log', 'id': '20241122-89523-0614-9671', 'data': {'content': '需要查询其所在', 'block_type': 'chunk', 'content_id': 'eaaeeadca8e611ef8572acde48001122', 'created_at': '2024-11-22T23:32:03.607258', 'thread_id': '20241122-89486-0000-6633', 'calling_id': '20241122-89486-0000-8696', 'agent_name': 'react-planner', 'model_name': 'qwen-plus'}}\n",
      "\u001b[32m城市）\n",
      "\n",
      "将任务\u001b[0m{'event': 'log', 'id': '20241122-89523-0616-3656', 'data': {'content': '城市）\\n\\n将任务', 'block_type': 'chunk', 'content_id': 'eaaeeadca8e611ef8572acde48001122', 'created_at': '2024-11-22T23:32:03.930011', 'thread_id': '20241122-89486-0000-6633', 'calling_id': '20241122-89486-0000-8696', 'agent_name': 'react-planner', 'model_name': 'qwen-plus'}}\n",
      "\u001b[32m中的关键概念拆\u001b[0m{'event': 'log', 'id': '20241122-89524-0618-7518', 'data': {'content': '中的关键概念拆', 'block_type': 'chunk', 'content_id': 'eaaeeadca8e611ef8572acde48001122', 'created_at': '2024-11-22T23:32:04.032294', 'thread_id': '20241122-89486-0000-6633', 'calling_id': '20241122-89486-0000-8696', 'agent_name': 'react-planner', 'model_name': 'qwen-plus'}}\n",
      "\u001b[32m解为一系列待\u001b[0m{'event': 'log', 'id': '20241122-89524-0620-9696', 'data': {'content': '解为一系列待', 'block_type': 'chunk', 'content_id': 'eaaeeadca8e611ef8572acde48001122', 'created_at': '2024-11-22T23:32:04.172260', 'thread_id': '20241122-89486-0000-6633', 'calling_id': '20241122-89486-0000-8696', 'agent_name': 'react-planner', 'model_name': 'qwen-plus'}}\n",
      "\u001b[32m查询的子要素\u001b[0m{'event': 'log', 'id': '20241122-89524-0622-6094', 'data': {'content': '查询的子要素', 'block_type': 'chunk', 'content_id': 'eaaeeadca8e611ef8572acde48001122', 'created_at': '2024-11-22T23:32:04.501044', 'thread_id': '20241122-89486-0000-6633', 'calling_id': '20241122-89486-0000-8696', 'agent_name': 'react-planner', 'model_name': 'qwen-plus'}}\n",
      "\u001b[32m：\n",
      "- \u001b[0m{'event': 'log', 'id': '20241122-89524-0624-1848', 'data': {'content': '：\\n- ', 'block_type': 'chunk', 'content_id': 'eaaeeadca8e611ef8572acde48001122', 'created_at': '2024-11-22T23:32:04.555249', 'thread_id': '20241122-89486-0000-6633', 'calling_id': '20241122-89486-0000-8696', 'agent_name': 'react-planner', 'model_name': 'qwen-plus'}}\n",
      "\u001b[32m鸿蒙公司\n",
      "\u001b[0m{'event': 'log', 'id': '20241122-89524-0626-1182', 'data': {'content': '鸿蒙公司\\n', 'block_type': 'chunk', 'content_id': 'eaaeeadca8e611ef8572acde48001122', 'created_at': '2024-11-22T23:32:04.736902', 'thread_id': '20241122-89486-0000-6633', 'calling_id': '20241122-89486-0000-8696', 'agent_name': 'react-planner', 'model_name': 'qwen-plus'}}\n",
      "\u001b[32m - 所在\u001b[0m{'event': 'log', 'id': '20241122-89524-0628-8913', 'data': {'content': ' - 所在', 'block_type': 'chunk', 'content_id': 'eaaeeadca8e611ef8572acde48001122', 'created_at': '2024-11-22T23:32:04.933401', 'thread_id': '20241122-89486-0000-6633', 'calling_id': '20241122-89486-0000-8696', 'agent_name': 'react-planner', 'model_name': 'qwen-plus'}}\n",
      "\u001b[32m城市\n",
      "\n",
      "**行动\u001b[0m{'event': 'log', 'id': '20241122-89525-0630-1496', 'data': {'content': '城市\\n\\n**行动', 'block_type': 'chunk', 'content_id': 'eaaeeadca8e611ef8572acde48001122', 'created_at': '2024-11-22T23:32:05.055732', 'thread_id': '20241122-89486-0000-6633', 'calling_id': '20241122-89486-0000-8696', 'agent_name': 'react-planner', 'model_name': 'qwen-plus'}}\n",
      "\u001b[32m** \n",
      "Step1\u001b[0m{'event': 'log', 'id': '20241122-89525-0632-5768', 'data': {'content': '** \\nStep1', 'block_type': 'chunk', 'content_id': 'eaaeeadca8e611ef8572acde48001122', 'created_at': '2024-11-22T23:32:05.186409', 'thread_id': '20241122-89486-0000-6633', 'calling_id': '20241122-89486-0000-8696', 'agent_name': 'react-planner', 'model_name': 'qwen-plus'}}\n",
      "\u001b[32m: 查询鸿蒙\u001b[0m{'event': 'log', 'id': '20241122-89525-0634-3986', 'data': {'content': ': 查询鸿蒙', 'block_type': 'chunk', 'content_id': 'eaaeeadca8e611ef8572acde48001122', 'created_at': '2024-11-22T23:32:05.439586', 'thread_id': '20241122-89486-0000-6633', 'calling_id': '20241122-89486-0000-8696', 'agent_name': 'react-planner', 'model_name': 'qwen-plus'}}\n",
      "\u001b[32m公司所在城市.\u001b[0m{'event': 'log', 'id': '20241122-89525-0636-2903', 'data': {'content': '公司所在城市.', 'block_type': 'chunk', 'content_id': 'eaaeeadca8e611ef8572acde48001122', 'created_at': '2024-11-22T23:32:05.539020', 'thread_id': '20241122-89486-0000-6633', 'calling_id': '20241122-89486-0000-8696', 'agent_name': 'react-planner', 'model_name': 'qwen-plus'}}\n",
      "\u001b[32m #E1 =\u001b[0m{'event': 'log', 'id': '20241122-89525-0638-6066', 'data': {'content': ' #E1 =', 'block_type': 'chunk', 'content_id': 'eaaeeadca8e611ef8572acde48001122', 'created_at': '2024-11-22T23:32:05.738697', 'thread_id': '20241122-89486-0000-6633', 'calling_id': '20241122-89486-0000-8696', 'agent_name': 'react-planner', 'model_name': 'qwen-plus'}}\n",
      "\u001b[32m get_city[{\"\u001b[0m{'event': 'log', 'id': '20241122-89525-0640-1440', 'data': {'content': ' get_city[{\"', 'block_type': 'chunk', 'content_id': 'eaaeeadca8e611ef8572acde48001122', 'created_at': '2024-11-22T23:32:05.881372', 'thread_id': '20241122-89486-0000-6633', 'calling_id': '20241122-89486-0000-8696', 'agent_name': 'react-planner', 'model_name': 'qwen-plus'}}\n",
      "\u001b[32maddress\": \"鸿\u001b[0m{'event': 'log', 'id': '20241122-89526-0642-3614', 'data': {'content': 'address\": \"鸿', 'block_type': 'chunk', 'content_id': 'eaaeeadca8e611ef8572acde48001122', 'created_at': '2024-11-22T23:32:06.066159', 'thread_id': '20241122-89486-0000-6633', 'calling_id': '20241122-89486-0000-8696', 'agent_name': 'react-planner', 'model_name': 'qwen-plus'}}\n",
      "\u001b[32m蒙公司\"}]\u001b[0m{'event': 'log', 'id': '20241122-89526-0644-3500', 'data': {'content': '蒙公司\"}]', 'block_type': 'chunk', 'content_id': 'eaaeeadca8e611ef8572acde48001122', 'created_at': '2024-11-22T23:32:06.185792', 'thread_id': '20241122-89486-0000-6633', 'calling_id': '20241122-89486-0000-8696', 'agent_name': 'react-planner', 'model_name': 'qwen-plus'}}\n",
      "\u001b[32m\u001b[0m{'event': 'log', 'id': '20241122-89526-0646-5242', 'data': {'content': '', 'block_type': 'chunk', 'content_id': 'eaaeeadca8e611ef8572acde48001122', 'created_at': '2024-11-22T23:32:06.267051', 'thread_id': '20241122-89486-0000-6633', 'calling_id': '20241122-89486-0000-8696', 'agent_name': 'react-planner', 'model_name': 'qwen-plus'}}\n",
      "\n",
      "{'event': 'log', 'id': '20241122-89526-0648-1007', 'data': {'content': '', 'block_type': 'new_line', 'content_id': 'eaaeeadca8e611ef8572acde48001122', 'created_at': '2024-11-22T23:32:06.268773', 'thread_id': None, 'calling_id': '20241122-89486-0000-8696', 'agent_name': None, 'model_name': None}}\n",
      "{'event': 'log', 'id': '20241122-89526-0650-8427', 'data': {'content': '{\"input_tokens\": 1444, \"output_tokens\": 116, \"total_tokens\": 1560}', 'block_type': 'usage', 'content_id': 'eaaeeadca8e611ef8572acde48001122', 'created_at': '2024-11-22T23:32:06.269681', 'thread_id': '20241122-89486-0000-6633', 'calling_id': '20241122-89486-0000-8696', 'agent_name': 'react-planner', 'model_name': 'qwen-plus'}}\n",
      "{'event': 'log', 'id': '20241122-89526-0652-9558', 'data': {'content': '**思考** \\n为了提供准确的天气信息，我需要先确定“鸿蒙公司”所在的准确城市。因此，我的第一步将是通过提供的工具来确定鸿蒙公司的位置。\\n\\n任务中包含的关键概念:\\n- 鸿蒙公司（需要查询其所在城市）\\n\\n将任务中的关键概念拆解为一系列待查询的子要素：\\n- 鸿蒙公司\\n - 所在城市\\n\\n**行动** \\nStep1: 查询鸿蒙公司所在城市. #E1 = get_city[{\"address\": \"鸿蒙公司\"}]', 'block_type': 'final_text', 'content_id': 'eaaeeadca8e611ef8572acde48001122', 'created_at': '2024-11-22T23:32:06.269953', 'thread_id': '20241122-89486-0000-6633', 'calling_id': '20241122-89486-0000-8696', 'agent_name': 'react-planner', 'model_name': 'qwen-plus'}}\n",
      "[AGENT] \u001b[34mget_city\u001b[0m\n",
      "{'event': 'log', 'id': '20241122-89526-0653-6574', 'data': {'content': 'get_city', 'block_type': 'agent', 'content_id': 'eaaeeadca8e611ef8572acde48001122', 'created_at': '2024-11-22T23:32:06.270253', 'thread_id': None, 'calling_id': '20241122-89486-0000-8696', 'agent_name': 'get_city', 'model_name': None}}\n",
      ">>> {}\n",
      "get_city() missing 1 required positional argument: 'location'\n",
      "\u001b[33mget_city() missing 1 required positional argument: 'location'\u001b[0m{'event': 'log', 'id': '20241122-89526-0655-1761', 'data': {'content': \"get_city() missing 1 required positional argument: 'location'\", 'block_type': 'text', 'content_id': 'eaaeeadca8e611ef8572acde48001122', 'created_at': '2024-11-22T23:32:06.270734', 'thread_id': None, 'calling_id': '20241122-89486-0000-8696', 'agent_name': 'get_city', 'model_name': None}}\n",
      "\n",
      "{'event': 'log', 'id': '20241122-89526-0657-4100', 'data': {'content': '', 'block_type': 'new_line', 'content_id': 'eaaeeadca8e611ef8572acde48001122', 'created_at': '2024-11-22T23:32:06.271068', 'thread_id': None, 'calling_id': '20241122-89486-0000-8696', 'agent_name': None, 'model_name': None}}\n",
      "{'event': 'log', 'id': '20241122-89526-0659-3894', 'data': {'content': '>>> flow-node-2: observer', 'block_type': 'node', 'content_id': '20241122-89526-0660-3421', 'created_at': '2024-11-22T23:32:06.271305', 'thread_id': None, 'calling_id': '20241122-89486-0000-8696', 'agent_name': 'ReAct.4557867328', 'model_name': None}}\n",
      "\u001b[33m\n",
      "**观察**\n",
      "上面的行动结果为:\n",
      "\n",
      "\u001b[0m{'event': 'log', 'id': '20241122-89526-0661-5088', 'data': {'content': '\\n**观察**\\n上面的行动结果为:\\n\\n', 'block_type': 'text', 'content_id': '20241122-89526-0662-6658', 'created_at': '2024-11-22T23:32:06.271455', 'thread_id': None, 'calling_id': '20241122-89486-0000-8696', 'agent_name': 'ReAct.4557867328', 'model_name': None}}\n",
      "{'event': 'output', 'id': '20241122-89526-0663-7857', 'data': {'content': '我在鸿蒙公司，帮我查询一下天气情况', 'block_type': 'final_text', 'content_id': '20241122-89526-0664-8708', 'created_at': '2024-11-22T23:32:06.271708', 'thread_id': None, 'calling_id': '20241122-89486-0000-8696', 'agent_name': 'ReAct.4557867328', 'model_name': None}}\n",
      "{'event': 'log', 'id': '20241122-89526-0665-7835', 'data': {'content': '>>> flow-node-1: planner', 'block_type': 'node', 'content_id': '20241122-89526-0666-9025', 'created_at': '2024-11-22T23:32:06.271937', 'thread_id': None, 'calling_id': '20241122-89486-0000-8696', 'agent_name': 'ReAct.4557867328', 'model_name': None}}\n",
      "{'event': 'log', 'id': '20241122-89526-0667-1894', 'data': {'content': '我在鸿蒙公司，帮我查询一下天气情况', 'block_type': 'user', 'content_id': '20241122-89526-0668-0391', 'created_at': '2024-11-22T23:32:06.272104', 'thread_id': '20241122-89486-0000-6633', 'calling_id': '20241122-89486-0000-8696', 'agent_name': 'react-planner', 'model_name': 'qwen-plus'}}\n",
      "[AGENT] \u001b[34mreact-planner\u001b[0m\n",
      "{'event': 'log', 'id': '20241122-89526-0669-1734', 'data': {'content': 'react-planner', 'block_type': 'agent', 'content_id': '20241122-89526-0670-9742', 'created_at': '2024-11-22T23:32:06.272221', 'thread_id': '20241122-89486-0000-6633', 'calling_id': '20241122-89486-0000-8696', 'agent_name': 'react-planner', 'model_name': 'qwen-plus'}}\n",
      "{'event': 'log', 'id': '20241122-89526-0671-8204', 'data': {'content': '记住 10 轮对话', 'block_type': 'info', 'content_id': '20241122-89526-0672-1108', 'created_at': '2024-11-22T23:32:06.272504', 'thread_id': '20241122-89486-0000-6633', 'calling_id': '20241122-89486-0000-8696', 'agent_name': 'react-planner', 'model_name': 'qwen-plus'}}\n",
      "\u001b[32m**\u001b[0m{'event': 'log', 'id': '20241122-89527-0673-0635', 'data': {'content': '**', 'block_type': 'chunk', 'content_id': 'ee1f17bea8e611ef8572acde48001122', 'created_at': '2024-11-22T23:32:07.112538', 'thread_id': '20241122-89486-0000-6633', 'calling_id': '20241122-89486-0000-8696', 'agent_name': 'react-planner', 'model_name': 'qwen-plus'}}\n",
      "\u001b[32m行动\u001b[0m{'event': 'log', 'id': '20241122-89527-0675-3999', 'data': {'content': '行动', 'block_type': 'chunk', 'content_id': 'ee1f17bea8e611ef8572acde48001122', 'created_at': '2024-11-22T23:32:07.131002', 'thread_id': '20241122-89486-0000-6633', 'calling_id': '20241122-89486-0000-8696', 'agent_name': 'react-planner', 'model_name': 'qwen-plus'}}\n",
      "\u001b[32m**\u001b[0m{'event': 'log', 'id': '20241122-89527-0677-4646', 'data': {'content': '**', 'block_type': 'chunk', 'content_id': 'ee1f17bea8e611ef8572acde48001122', 'created_at': '2024-11-22T23:32:07.180507', 'thread_id': '20241122-89486-0000-6633', 'calling_id': '20241122-89486-0000-8696', 'agent_name': 'react-planner', 'model_name': 'qwen-plus'}}\n",
      "\u001b[32m \n",
      "\u001b[0m{'event': 'log', 'id': '20241122-89527-0679-3095', 'data': {'content': ' \\n', 'block_type': 'chunk', 'content_id': 'ee1f17bea8e611ef8572acde48001122', 'created_at': '2024-11-22T23:32:07.221581', 'thread_id': '20241122-89486-0000-6633', 'calling_id': '20241122-89486-0000-8696', 'agent_name': 'react-planner', 'model_name': 'qwen-plus'}}\n",
      "\u001b[32mStep1: 查询\u001b[0m{'event': 'log', 'id': '20241122-89527-0681-9615', 'data': {'content': 'Step1: 查询', 'block_type': 'chunk', 'content_id': 'ee1f17bea8e611ef8572acde48001122', 'created_at': '2024-11-22T23:32:07.553059', 'thread_id': '20241122-89486-0000-6633', 'calling_id': '20241122-89486-0000-8696', 'agent_name': 'react-planner', 'model_name': 'qwen-plus'}}\n",
      "\u001b[32m鸿蒙公司所在\u001b[0m{'event': 'log', 'id': '20241122-89527-0683-3894', 'data': {'content': '鸿蒙公司所在', 'block_type': 'chunk', 'content_id': 'ee1f17bea8e611ef8572acde48001122', 'created_at': '2024-11-22T23:32:07.708486', 'thread_id': '20241122-89486-0000-6633', 'calling_id': '20241122-89486-0000-8696', 'agent_name': 'react-planner', 'model_name': 'qwen-plus'}}\n",
      "\u001b[32m城市. #E\u001b[0m{'event': 'log', 'id': '20241122-89527-0685-0316', 'data': {'content': '城市. #E', 'block_type': 'chunk', 'content_id': 'ee1f17bea8e611ef8572acde48001122', 'created_at': '2024-11-22T23:32:07.949616', 'thread_id': '20241122-89486-0000-6633', 'calling_id': '20241122-89486-0000-8696', 'agent_name': 'react-planner', 'model_name': 'qwen-plus'}}\n",
      "\u001b[32m1 = get_city\u001b[0m{'event': 'log', 'id': '20241122-89528-0687-4282', 'data': {'content': '1 = get_city', 'block_type': 'chunk', 'content_id': 'ee1f17bea8e611ef8572acde48001122', 'created_at': '2024-11-22T23:32:08.138435', 'thread_id': '20241122-89486-0000-6633', 'calling_id': '20241122-89486-0000-8696', 'agent_name': 'react-planner', 'model_name': 'qwen-plus'}}\n",
      "\u001b[32m[{\"address\":\u001b[0m{'event': 'log', 'id': '20241122-89528-0689-1770', 'data': {'content': '[{\"address\":', 'block_type': 'chunk', 'content_id': 'ee1f17bea8e611ef8572acde48001122', 'created_at': '2024-11-22T23:32:08.371013', 'thread_id': '20241122-89486-0000-6633', 'calling_id': '20241122-89486-0000-8696', 'agent_name': 'react-planner', 'model_name': 'qwen-plus'}}\n",
      "\u001b[32m \"鸿蒙公司\u001b[0m{'event': 'log', 'id': '20241122-89528-0691-6599', 'data': {'content': ' \"鸿蒙公司', 'block_type': 'chunk', 'content_id': 'ee1f17bea8e611ef8572acde48001122', 'created_at': '2024-11-22T23:32:08.534700', 'thread_id': '20241122-89486-0000-6633', 'calling_id': '20241122-89486-0000-8696', 'agent_name': 'react-planner', 'model_name': 'qwen-plus'}}\n",
      "\u001b[32m\"}]\u001b[0m{'event': 'log', 'id': '20241122-89528-0693-3765', 'data': {'content': '\"}]', 'block_type': 'chunk', 'content_id': 'ee1f17bea8e611ef8572acde48001122', 'created_at': '2024-11-22T23:32:08.710279', 'thread_id': '20241122-89486-0000-6633', 'calling_id': '20241122-89486-0000-8696', 'agent_name': 'react-planner', 'model_name': 'qwen-plus'}}\n",
      "\u001b[32m\u001b[0m{'event': 'log', 'id': '20241122-89528-0695-3879', 'data': {'content': '', 'block_type': 'chunk', 'content_id': 'ee1f17bea8e611ef8572acde48001122', 'created_at': '2024-11-22T23:32:08.754574', 'thread_id': '20241122-89486-0000-6633', 'calling_id': '20241122-89486-0000-8696', 'agent_name': 'react-planner', 'model_name': 'qwen-plus'}}\n",
      "\n",
      "{'event': 'log', 'id': '20241122-89528-0697-4475', 'data': {'content': '', 'block_type': 'new_line', 'content_id': 'ee1f17bea8e611ef8572acde48001122', 'created_at': '2024-11-22T23:32:08.755456', 'thread_id': None, 'calling_id': '20241122-89486-0000-8696', 'agent_name': None, 'model_name': None}}\n",
      "{'event': 'log', 'id': '20241122-89528-0699-2367', 'data': {'content': '{\"input_tokens\": 1569, \"output_tokens\": 30, \"total_tokens\": 1599}', 'block_type': 'usage', 'content_id': 'ee1f17bea8e611ef8572acde48001122', 'created_at': '2024-11-22T23:32:08.755678', 'thread_id': '20241122-89486-0000-6633', 'calling_id': '20241122-89486-0000-8696', 'agent_name': 'react-planner', 'model_name': 'qwen-plus'}}\n",
      "{'event': 'log', 'id': '20241122-89528-0701-7978', 'data': {'content': '**行动** \\nStep1: 查询鸿蒙公司所在城市. #E1 = get_city[{\"address\": \"鸿蒙公司\"}]', 'block_type': 'final_text', 'content_id': 'ee1f17bea8e611ef8572acde48001122', 'created_at': '2024-11-22T23:32:08.755923', 'thread_id': '20241122-89486-0000-6633', 'calling_id': '20241122-89486-0000-8696', 'agent_name': 'react-planner', 'model_name': 'qwen-plus'}}\n",
      "[AGENT] \u001b[34mget_city\u001b[0m\n",
      "{'event': 'log', 'id': '20241122-89528-0702-1210', 'data': {'content': 'get_city', 'block_type': 'agent', 'content_id': 'ee1f17bea8e611ef8572acde48001122', 'created_at': '2024-11-22T23:32:08.756182', 'thread_id': None, 'calling_id': '20241122-89486-0000-8696', 'agent_name': 'get_city', 'model_name': None}}\n",
      ">>> {}\n",
      "get_city() missing 1 required positional argument: 'location'\n",
      "\u001b[33mget_city() missing 1 required positional argument: 'location'\u001b[0m{'event': 'log', 'id': '20241122-89528-0704-7591', 'data': {'content': \"get_city() missing 1 required positional argument: 'location'\", 'block_type': 'text', 'content_id': 'ee1f17bea8e611ef8572acde48001122', 'created_at': '2024-11-22T23:32:08.756655', 'thread_id': None, 'calling_id': '20241122-89486-0000-8696', 'agent_name': 'get_city', 'model_name': None}}\n",
      "\n",
      "{'event': 'log', 'id': '20241122-89528-0706-1896', 'data': {'content': '', 'block_type': 'new_line', 'content_id': 'ee1f17bea8e611ef8572acde48001122', 'created_at': '2024-11-22T23:32:08.756867', 'thread_id': None, 'calling_id': '20241122-89486-0000-8696', 'agent_name': None, 'model_name': None}}\n",
      "{'event': 'log', 'id': '20241122-89528-0708-8496', 'data': {'content': '执行完毕，所有节点运行 20 步', 'block_type': 'info', 'content_id': '20241122-89528-0709-1704', 'created_at': '2024-11-22T23:32:08.757075', 'thread_id': None, 'calling_id': '20241122-89486-0000-8696', 'agent_name': 'ReAct.4557867328', 'model_name': None}}\n"
     ]
    }
   ],
   "source": [
    "from illufly.types import BaseAgent, PromptTemplate\n",
    "from illufly.chat import ChatQwen\n",
    "from illufly.flow import ReAct\n",
    "\n",
    "def get_city(location: str):\n",
    "    \"\"\"由任意地名或地址描述查询出所在的城市\"\"\"\n",
    "    return \"广州\"\n",
    "\n",
    "def get_weather(city: str):\n",
    "    \"\"\"我可以查询城市的天气情况。city必须是城市名称。\"\"\"\n",
    "    return f'{city}天气不错，一直是大晴天'\n",
    "\n",
    "def booking(request: str):\n",
    "    \"\"\"我可以根据你的需求预订球场\"\"\"\n",
    "    return '我已经帮你预订好了，祝你玩得愉快'\n",
    "\n",
    "store = {}\n",
    "flow = ReAct(\n",
    "    ChatQwen(name=\"react-planner\", tools=[get_city, get_weather, booking])\n",
    ")\n",
    "\n",
    "for b in flow(\"我在鸿蒙公司，帮我查询一下天气情况\", verbose=False, generator=\"sync\"):\n",
    "    print(b)"
   ]
  },
  {
   "cell_type": "markdown",
   "id": "0da1c8dc-d841-4d0b-b0ba-6412c4ece901",
   "metadata": {},
   "source": [
    "## Events History"
   ]
  },
  {
   "cell_type": "code",
   "execution_count": 1,
   "id": "2240c16e-a409-4764-a068-6bbc49f09c8c",
   "metadata": {},
   "outputs": [],
   "source": [
    "from illufly.io import LocalFileEventsHistory\n",
    "from illufly.chat import FakeLLM\n",
    "llm = FakeLLM(events_history=LocalFileEventsHistory(\"__EVENTS__\"))"
   ]
  },
  {
   "cell_type": "code",
   "execution_count": 3,
   "id": "f07c745e-5f83-47cb-9c7b-3083a023bb29",
   "metadata": {},
   "outputs": [
    {
     "data": {
      "text/plain": [
       "('20241128-08897-0000-6863',\n",
       " {'threads': [['FakeLLM.4413207552', '20241128-08903-0000-3182'],\n",
       "   ['FakeLLM.4519100032', '20241129-45516-0005-5280']],\n",
       "  'callings': {'20241128-08903-0000-7527': {'id': '20241128-08903-0000-1506',\n",
       "    'event_type': 'log',\n",
       "    'data': '{\"block_id\": \"20241128-08903-0000-1506\", \"block_type\": \"runnable\", \"content\": \"FakeLLM.4413207552\", \"content_id\": \"20241128-08903-0001-5465\", \"created_at\": \"2024-11-28T23:48:23.412970\", \"thread_id\": null, \"calling_id\": \"20241128-08903-0000-7527\", \"agent_name\": \"FakeLLM.4413207552\", \"model_name\": null}'},\n",
       "   '20241129-45516-0011-9642': {'id': '20241129-45516-0288-6749',\n",
       "    'event_type': 'log',\n",
       "    'data': '{\"block_id\": \"20241129-45516-0288-6749\", \"block_type\": \"runnable\", \"content\": \"FakeLLM.4519100032\", \"content_id\": \"20241129-45516-0289-2091\", \"created_at\": \"2024-11-29T09:58:36.434904\", \"thread_id\": null, \"calling_id\": \"20241129-45516-0011-9642\", \"agent_name\": \"FakeLLM.4519100032\", \"model_name\": null}'}}})"
      ]
     },
     "execution_count": 3,
     "metadata": {},
     "output_type": "execute_result"
    }
   ],
   "source": [
    "llm.events_history.load_events_history()"
   ]
  },
  {
   "cell_type": "code",
   "execution_count": 16,
   "id": "056bad28-2011-48ef-bc34-8c338605ef34",
   "metadata": {},
   "outputs": [
    {
     "data": {
      "text/plain": [
       "'20241128-08897-0000-6863'"
      ]
     },
     "execution_count": 16,
     "metadata": {},
     "output_type": "execute_result"
    }
   ],
   "source": [
    "llm.events_history.events_history_id"
   ]
  },
  {
   "cell_type": "code",
   "execution_count": 17,
   "id": "0be0c3d2-d42e-42cd-b7e1-40b2a5f3be07",
   "metadata": {},
   "outputs": [
    {
     "data": {
      "text/plain": [
       "{'20241128-08897-0000-6863': {'threads': [['FakeLLM.4413207552',\n",
       "    '20241128-08903-0000-3182']],\n",
       "  'callings': {'20241128-08903-0000-7527': {'id': '20241128-08903-0000-1506',\n",
       "    'event_type': 'log',\n",
       "    'data': '{\"block_id\": \"20241128-08903-0000-1506\", \"block_type\": \"runnable\", \"content\": \"FakeLLM.4413207552\", \"content_id\": \"20241128-08903-0001-5465\", \"created_at\": \"2024-11-28T23:48:23.412970\", \"thread_id\": null, \"calling_id\": \"20241128-08903-0000-7527\", \"agent_name\": \"FakeLLM.4413207552\", \"model_name\": null}'}}}}"
      ]
     },
     "execution_count": 17,
     "metadata": {},
     "output_type": "execute_result"
    }
   ],
   "source": [
    "llm.events_history.store"
   ]
  },
  {
   "cell_type": "code",
   "execution_count": 18,
   "id": "7d7cd557-c8ea-4e67-8810-bed13ec5d038",
   "metadata": {},
   "outputs": [
    {
     "name": "stdout",
     "output_type": "stream",
     "text": [
      "[AGENT] \u001b[34mFakeLLM.4519100032\u001b[0m\n",
      "\u001b[32mR\u001b[0m\u001b[32me\u001b[0m\u001b[32mp\u001b[0m\u001b[32ml\u001b[0m\u001b[32my\u001b[0m\u001b[32m \u001b[0m\u001b[32m>\u001b[0m\u001b[32m>\u001b[0m\u001b[32m \u001b[0m\u001b[32mh\u001b[0m\u001b[32me\u001b[0m\u001b[32ml\u001b[0m\u001b[32ml\u001b[0m\u001b[32mo\u001b[0m\n"
     ]
    },
    {
     "data": {
      "text/plain": [
       "'Reply >> hello'"
      ]
     },
     "execution_count": 18,
     "metadata": {},
     "output_type": "execute_result"
    }
   ],
   "source": [
    "llm(\"hello\")"
   ]
  },
  {
   "cell_type": "code",
   "execution_count": 2,
   "id": "e1c30f79-5e32-4762-a49d-c442725dc5eb",
   "metadata": {},
   "outputs": [
    {
     "data": {
      "text/plain": [
       "('20241128-08897-0000-6863',\n",
       " {'threads': [['FakeLLM.4413207552', '20241128-08903-0000-3182'],\n",
       "   ['FakeLLM.4519100032', '20241129-45516-0005-5280']],\n",
       "  'callings': {'20241128-08903-0000-7527': {'id': '20241128-08903-0000-1506',\n",
       "    'event_type': 'log',\n",
       "    'data': '{\"block_id\": \"20241128-08903-0000-1506\", \"block_type\": \"runnable\", \"content\": \"FakeLLM.4413207552\", \"content_id\": \"20241128-08903-0001-5465\", \"created_at\": \"2024-11-28T23:48:23.412970\", \"thread_id\": null, \"calling_id\": \"20241128-08903-0000-7527\", \"agent_name\": \"FakeLLM.4413207552\", \"model_name\": null}'},\n",
       "   '20241129-45516-0011-9642': {'id': '20241129-45516-0288-6749',\n",
       "    'event_type': 'log',\n",
       "    'data': '{\"block_id\": \"20241129-45516-0288-6749\", \"block_type\": \"runnable\", \"content\": \"FakeLLM.4519100032\", \"content_id\": \"20241129-45516-0289-2091\", \"created_at\": \"2024-11-29T09:58:36.434904\", \"thread_id\": null, \"calling_id\": \"20241129-45516-0011-9642\", \"agent_name\": \"FakeLLM.4519100032\", \"model_name\": null}'}}})"
      ]
     },
     "execution_count": 2,
     "metadata": {},
     "output_type": "execute_result"
    }
   ],
   "source": [
    "llm.events_history.load_events_history(-1)"
   ]
  },
  {
   "cell_type": "code",
   "execution_count": null,
   "id": "3f68ae9f-b792-4190-9eb9-76397e78da4c",
   "metadata": {},
   "outputs": [],
   "source": []
  }
 ],
 "metadata": {
  "kernelspec": {
   "display_name": "same_to_illufly",
   "language": "python",
   "name": "same_to_illufly"
  },
  "language_info": {
   "codemirror_mode": {
    "name": "ipython",
    "version": 3
   },
   "file_extension": ".py",
   "mimetype": "text/x-python",
   "name": "python",
   "nbconvert_exporter": "python",
   "pygments_lexer": "ipython3",
   "version": "3.10.0"
  }
 },
 "nbformat": 4,
 "nbformat_minor": 5
}
