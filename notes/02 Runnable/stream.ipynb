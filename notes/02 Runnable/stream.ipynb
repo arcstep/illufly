{
 "cells": [
  {
   "cell_type": "markdown",
   "id": "bc8720be-8234-48fb-978a-6d407b444eef",
   "metadata": {},
   "source": [
    "## 事件流"
   ]
  },
  {
   "cell_type": "code",
   "execution_count": 7,
   "id": "bbf847a2-e07b-40c3-aead-c2174d7baaf4",
   "metadata": {},
   "outputs": [
    {
     "data": {
      "text/plain": [
       "EventBlock(block_type=<chunk>, content=<hi>)"
      ]
     },
     "execution_count": 7,
     "metadata": {},
     "output_type": "execute_result"
    }
   ],
   "source": [
    "from illufly.io import EventBlock\n",
    "EventBlock(\"Chunk\", \"hi\")"
   ]
  },
  {
   "cell_type": "markdown",
   "id": "80dd63e7-9e80-400a-9a78-1bbba1024e70",
   "metadata": {},
   "source": [
    "### 实现流交换\n",
    "\n",
    "基于大模型的AI应用中经常要求模型流式返回，我们有一种实现流输出的标准实现。"
   ]
  },
  {
   "cell_type": "code",
   "execution_count": 1,
   "id": "b109abcd-0f4c-45ee-ac51-1c968de35fc7",
   "metadata": {},
   "outputs": [
    {
     "name": "stdout",
     "output_type": "stream",
     "text": [
      "\u001b[33mhi\n",
      "\u001b[0m\u001b[33millufly!\n",
      "\u001b[0m"
     ]
    }
   ],
   "source": [
    "from illufly.types import Runnable\n",
    "\n",
    "class MyRun(Runnable):\n",
    "    def call(*args, **kwargs):\n",
    "        yield \"hi\\n\"\n",
    "        yield \"illufly!\\n\"\n",
    "\n",
    "r = MyRun()\n",
    "r()"
   ]
  },
  {
   "cell_type": "code",
   "execution_count": 4,
   "id": "44132099-8eda-4f79-99af-26355753cde2",
   "metadata": {},
   "outputs": [
    {
     "name": "stdout",
     "output_type": "stream",
     "text": [
      "\u001b[33m['hi\\n', 'illufly!\\n']\u001b[0m"
     ]
    }
   ],
   "source": [
    "from illufly.types import Runnable\n",
    "\n",
    "class MyRun(Runnable):\n",
    "    def call(*args, **kwargs):\n",
    "        yield [\"hi\\n\", \"illufly!\\n\"]\n",
    "\n",
    "r = MyRun()\n",
    "r()"
   ]
  },
  {
   "cell_type": "markdown",
   "id": "a77b3659-d208-4a95-95b5-637bdffdc028",
   "metadata": {},
   "source": [
    "### Runnable 事件流"
   ]
  },
  {
   "cell_type": "code",
   "execution_count": 1,
   "id": "015a17f0-a463-4a77-9409-59a2ababd59a",
   "metadata": {},
   "outputs": [
    {
     "name": "stdout",
     "output_type": "stream",
     "text": [
      "{\"id\": \"bff83a0a94694e3889927475be57c976\", \"content_id\": \"bff83a0a94694e3889927475be57c976\", \"block_type\": \"chunk\", \"content\": \"hi, \", \"created_at\": \"2024-11-06T10:26:15.418497\", \"calling_info\": {}, \"runnable_info\": {\"class_name\": \"MyRun\", \"calling_id\": \"fd7a1423-34f9-4ebf-aa16-47c7af335821\"}}\n",
      "{\"id\": \"06063b62e1724f9db72ec179c444c5b4\", \"content_id\": \"06063b62e1724f9db72ec179c444c5b4\", \"block_type\": \"chunk\", \"content\": \"illufly\", \"created_at\": \"2024-11-06T10:26:15.418726\", \"calling_info\": {}, \"runnable_info\": {\"class_name\": \"MyRun\", \"calling_id\": \"fd7a1423-34f9-4ebf-aa16-47c7af335821\"}}\n",
      "{\"id\": \"f26d98f4e98d46bcb22234d51ef16521\", \"content_id\": \"f26d98f4e98d46bcb22234d51ef16521\", \"block_type\": \"chunk\", \"content\": \"!\", \"created_at\": \"2024-11-06T10:26:15.419150\", \"calling_info\": {}, \"runnable_info\": {\"class_name\": \"MyRun\", \"calling_id\": \"fd7a1423-34f9-4ebf-aa16-47c7af335821\"}}\n"
     ]
    }
   ],
   "source": [
    "from illufly.types import Runnable, EventBlock\n",
    "\n",
    "class MyRun(Runnable):\n",
    "    def call(*args, **kwargs):\n",
    "        yield EventBlock(\"chunk\", \"hi, \")\n",
    "        yield EventBlock(\"chunk\", \"illufly\")\n",
    "        yield EventBlock(\"chunk\", \"!\")\n",
    "\n",
    "def handle(block, **kwargs):\n",
    "    print(block.json)\n",
    "\n",
    "r = MyRun(handlers=[handle])\n",
    "r(\"hi\")"
   ]
  },
  {
   "cell_type": "markdown",
   "id": "0ff754cb-9b82-4f0b-8ce6-ef7c1e7a153d",
   "metadata": {},
   "source": [
    "### ChatAgent 事件流"
   ]
  },
  {
   "cell_type": "code",
   "execution_count": 7,
   "id": "e11f2f36-a8f0-4160-aa4d-b3741b05b4f4",
   "metadata": {},
   "outputs": [
    {
     "name": "stdout",
     "output_type": "stream",
     "text": [
      "{\"id\": \"716128e9cbc342b9a9a03093f9418178\", \"content_id\": \"716128e9cbc342b9a9a03093f9418178\", \"block_type\": \"user\", \"content\": \"hi\", \"created_at\": \"2024-11-06T10:32:20.400669\", \"calling_info\": {}, \"runnable_info\": {\"class_name\": \"FakeLLM\", \"calling_id\": \"12e70938-a7c6-4437-b579-698374c1121c\", \"agent_name\": \"FakeLLM.4817163344\", \"agent_description\": \"我还没有工具描述\", \"thread_id\": null, \"model_name\": null, \"base_url\": null, \"api_key\": null}}\n",
      "{\"id\": \"0b473d7fa5da431ab6f47c0b9a972bce\", \"content_id\": \"0b473d7fa5da431ab6f47c0b9a972bce\", \"block_type\": \"info\", \"content\": \"记住 10 轮对话\", \"created_at\": \"2024-11-06T10:32:20.400941\", \"calling_info\": {}, \"runnable_info\": {\"class_name\": \"FakeLLM\", \"calling_id\": \"12e70938-a7c6-4437-b579-698374c1121c\", \"agent_name\": \"FakeLLM.4817163344\", \"agent_description\": \"我还没有工具描述\", \"thread_id\": null, \"model_name\": null, \"base_url\": null, \"api_key\": null}}\n",
      "{\"id\": \"21eadae276324ea597a55f92338e8f07\", \"content_id\": \"21eadae276324ea597a55f92338e8f07\", \"block_type\": \"info\", \"content\": \"I am FakeLLM\", \"created_at\": \"2024-11-06T10:32:20.401152\", \"calling_info\": {}, \"runnable_info\": {\"class_name\": \"FakeLLM\", \"calling_id\": \"12e70938-a7c6-4437-b579-698374c1121c\", \"agent_name\": \"FakeLLM.4817163344\", \"agent_description\": \"我还没有工具描述\", \"thread_id\": \"860340-4972-0000\", \"model_name\": null, \"base_url\": null, \"api_key\": null}}\n",
      "{\"id\": \"5ddbdf1ce5f042f1a448c24f01168e3a\", \"content_id\": \"5ddbdf1ce5f042f1a448c24f01168e3a\", \"block_type\": \"chunk\", \"content\": \"R\", \"created_at\": \"2024-11-06T10:32:20.412737\", \"calling_info\": {}, \"runnable_info\": {\"class_name\": \"FakeLLM\", \"calling_id\": \"12e70938-a7c6-4437-b579-698374c1121c\", \"agent_name\": \"FakeLLM.4817163344\", \"agent_description\": \"我还没有工具描述\", \"thread_id\": \"860340-4972-0000\", \"model_name\": null, \"base_url\": null, \"api_key\": null}}\n",
      "{\"id\": \"2074d6954f7d469799c056dfd459d6eb\", \"content_id\": \"2074d6954f7d469799c056dfd459d6eb\", \"block_type\": \"chunk\", \"content\": \"e\", \"created_at\": \"2024-11-06T10:32:20.422995\", \"calling_info\": {}, \"runnable_info\": {\"class_name\": \"FakeLLM\", \"calling_id\": \"12e70938-a7c6-4437-b579-698374c1121c\", \"agent_name\": \"FakeLLM.4817163344\", \"agent_description\": \"我还没有工具描述\", \"thread_id\": \"860340-4972-0000\", \"model_name\": null, \"base_url\": null, \"api_key\": null}}\n",
      "{\"id\": \"d0375d5cbdca4c91831fafab16b0b5d1\", \"content_id\": \"d0375d5cbdca4c91831fafab16b0b5d1\", \"block_type\": \"chunk\", \"content\": \"p\", \"created_at\": \"2024-11-06T10:32:20.433639\", \"calling_info\": {}, \"runnable_info\": {\"class_name\": \"FakeLLM\", \"calling_id\": \"12e70938-a7c6-4437-b579-698374c1121c\", \"agent_name\": \"FakeLLM.4817163344\", \"agent_description\": \"我还没有工具描述\", \"thread_id\": \"860340-4972-0000\", \"model_name\": null, \"base_url\": null, \"api_key\": null}}\n",
      "{\"id\": \"73c2c9fcc5694fcbbb6948ee26a4ac68\", \"content_id\": \"73c2c9fcc5694fcbbb6948ee26a4ac68\", \"block_type\": \"chunk\", \"content\": \"l\", \"created_at\": \"2024-11-06T10:32:20.445766\", \"calling_info\": {}, \"runnable_info\": {\"class_name\": \"FakeLLM\", \"calling_id\": \"12e70938-a7c6-4437-b579-698374c1121c\", \"agent_name\": \"FakeLLM.4817163344\", \"agent_description\": \"我还没有工具描述\", \"thread_id\": \"860340-4972-0000\", \"model_name\": null, \"base_url\": null, \"api_key\": null}}\n",
      "{\"id\": \"a5f211c21749418eac98f865a0a64e02\", \"content_id\": \"a5f211c21749418eac98f865a0a64e02\", \"block_type\": \"chunk\", \"content\": \"y\", \"created_at\": \"2024-11-06T10:32:20.457436\", \"calling_info\": {}, \"runnable_info\": {\"class_name\": \"FakeLLM\", \"calling_id\": \"12e70938-a7c6-4437-b579-698374c1121c\", \"agent_name\": \"FakeLLM.4817163344\", \"agent_description\": \"我还没有工具描述\", \"thread_id\": \"860340-4972-0000\", \"model_name\": null, \"base_url\": null, \"api_key\": null}}\n",
      "{\"id\": \"5d8e929d03c746c592e41973e338fe78\", \"content_id\": \"5d8e929d03c746c592e41973e338fe78\", \"block_type\": \"chunk\", \"content\": \" \", \"created_at\": \"2024-11-06T10:32:20.470029\", \"calling_info\": {}, \"runnable_info\": {\"class_name\": \"FakeLLM\", \"calling_id\": \"12e70938-a7c6-4437-b579-698374c1121c\", \"agent_name\": \"FakeLLM.4817163344\", \"agent_description\": \"我还没有工具描述\", \"thread_id\": \"860340-4972-0000\", \"model_name\": null, \"base_url\": null, \"api_key\": null}}\n",
      "{\"id\": \"e82d2d0b27904f9f943773b5b225a40f\", \"content_id\": \"e82d2d0b27904f9f943773b5b225a40f\", \"block_type\": \"chunk\", \"content\": \">\", \"created_at\": \"2024-11-06T10:32:20.481694\", \"calling_info\": {}, \"runnable_info\": {\"class_name\": \"FakeLLM\", \"calling_id\": \"12e70938-a7c6-4437-b579-698374c1121c\", \"agent_name\": \"FakeLLM.4817163344\", \"agent_description\": \"我还没有工具描述\", \"thread_id\": \"860340-4972-0000\", \"model_name\": null, \"base_url\": null, \"api_key\": null}}\n",
      "{\"id\": \"5db5c5d452f042b59e528dcc9a0dd403\", \"content_id\": \"5db5c5d452f042b59e528dcc9a0dd403\", \"block_type\": \"chunk\", \"content\": \">\", \"created_at\": \"2024-11-06T10:32:20.494125\", \"calling_info\": {}, \"runnable_info\": {\"class_name\": \"FakeLLM\", \"calling_id\": \"12e70938-a7c6-4437-b579-698374c1121c\", \"agent_name\": \"FakeLLM.4817163344\", \"agent_description\": \"我还没有工具描述\", \"thread_id\": \"860340-4972-0000\", \"model_name\": null, \"base_url\": null, \"api_key\": null}}\n",
      "{\"id\": \"e85be264f86245fe87ac84aaadc00a02\", \"content_id\": \"e85be264f86245fe87ac84aaadc00a02\", \"block_type\": \"chunk\", \"content\": \" \", \"created_at\": \"2024-11-06T10:32:20.506350\", \"calling_info\": {}, \"runnable_info\": {\"class_name\": \"FakeLLM\", \"calling_id\": \"12e70938-a7c6-4437-b579-698374c1121c\", \"agent_name\": \"FakeLLM.4817163344\", \"agent_description\": \"我还没有工具描述\", \"thread_id\": \"860340-4972-0000\", \"model_name\": null, \"base_url\": null, \"api_key\": null}}\n",
      "{\"id\": \"f9b41c8734e1424c9db9abbeb5eedaba\", \"content_id\": \"f9b41c8734e1424c9db9abbeb5eedaba\", \"block_type\": \"chunk\", \"content\": \"h\", \"created_at\": \"2024-11-06T10:32:20.518445\", \"calling_info\": {}, \"runnable_info\": {\"class_name\": \"FakeLLM\", \"calling_id\": \"12e70938-a7c6-4437-b579-698374c1121c\", \"agent_name\": \"FakeLLM.4817163344\", \"agent_description\": \"我还没有工具描述\", \"thread_id\": \"860340-4972-0000\", \"model_name\": null, \"base_url\": null, \"api_key\": null}}\n",
      "{\"id\": \"d3a2898301a549ef9ad600391e8bd621\", \"content_id\": \"d3a2898301a549ef9ad600391e8bd621\", \"block_type\": \"chunk\", \"content\": \"i\", \"created_at\": \"2024-11-06T10:32:20.529529\", \"calling_info\": {}, \"runnable_info\": {\"class_name\": \"FakeLLM\", \"calling_id\": \"12e70938-a7c6-4437-b579-698374c1121c\", \"agent_name\": \"FakeLLM.4817163344\", \"agent_description\": \"我还没有工具描述\", \"thread_id\": \"860340-4972-0000\", \"model_name\": null, \"base_url\": null, \"api_key\": null}}\n",
      "{\"id\": \"f8955dfa4bf64d2c820c60327bf49c1b\", \"content_id\": \"f8955dfa4bf64d2c820c60327bf49c1b\", \"block_type\": \"new_line\", \"content\": \"\", \"created_at\": \"2024-11-06T10:32:20.529788\", \"calling_info\": {}, \"runnable_info\": {\"class_name\": \"FakeLLM\", \"calling_id\": \"12e70938-a7c6-4437-b579-698374c1121c\", \"agent_name\": \"FakeLLM.4817163344\", \"agent_description\": \"我还没有工具描述\", \"thread_id\": \"860340-4972-0000\", \"model_name\": null, \"base_url\": null, \"api_key\": null}}\n",
      "{\"id\": \"e7b08b5c862a469fbadd3fbef3aa4d70\", \"content_id\": \"e7b08b5c862a469fbadd3fbef3aa4d70\", \"block_type\": \"final_text\", \"content\": \"Reply >> hi\", \"created_at\": \"2024-11-06T10:32:20.530040\", \"calling_info\": {}, \"runnable_info\": {\"class_name\": \"FakeLLM\", \"calling_id\": \"12e70938-a7c6-4437-b579-698374c1121c\", \"agent_name\": \"FakeLLM.4817163344\", \"agent_description\": \"我还没有工具描述\", \"thread_id\": \"860340-4972-0000\", \"model_name\": null, \"base_url\": null, \"api_key\": null}}\n"
     ]
    },
    {
     "data": {
      "text/plain": [
       "'Reply >> hi'"
      ]
     },
     "execution_count": 7,
     "metadata": {},
     "output_type": "execute_result"
    }
   ],
   "source": [
    "from illufly.types import Runnable, EventBlock\n",
    "from illufly.chat import FakeLLM\n",
    "\n",
    "def handle(block, **kwargs):\n",
    "    print(block.json)\n",
    "\n",
    "r = FakeLLM(handlers=[handle])\n",
    "r(\"hi\")"
   ]
  },
  {
   "cell_type": "markdown",
   "id": "de683821-b402-4365-91da-69bd48e6cd0c",
   "metadata": {},
   "source": [
    "### 提取整洁的 ChatAgent 事件流"
   ]
  },
  {
   "cell_type": "code",
   "execution_count": 1,
   "id": "5175e0b0-b39d-4b2f-8735-cfd061726446",
   "metadata": {},
   "outputs": [
    {
     "name": "stdout",
     "output_type": "stream",
     "text": [
      "@FakeLLM.4426165232 [None/7a979bc49c4611efa9cf367dda7bcd4a] hi\n",
      "@FakeLLM.4426165232 [901199-3037-0000/7a97ab009c4611efa9cf367dda7bcd4a] R\n",
      "@FakeLLM.4426165232 [901199-3037-0000/7a97ab009c4611efa9cf367dda7bcd4a] e\n",
      "@FakeLLM.4426165232 [901199-3037-0000/7a97ab009c4611efa9cf367dda7bcd4a] p\n",
      "@FakeLLM.4426165232 [901199-3037-0000/7a97ab009c4611efa9cf367dda7bcd4a] l\n",
      "@FakeLLM.4426165232 [901199-3037-0000/7a97ab009c4611efa9cf367dda7bcd4a] y\n",
      "@FakeLLM.4426165232 [901199-3037-0000/7a97ab009c4611efa9cf367dda7bcd4a]  \n",
      "@FakeLLM.4426165232 [901199-3037-0000/7a97ab009c4611efa9cf367dda7bcd4a] >\n",
      "@FakeLLM.4426165232 [901199-3037-0000/7a97ab009c4611efa9cf367dda7bcd4a] >\n",
      "@FakeLLM.4426165232 [901199-3037-0000/7a97ab009c4611efa9cf367dda7bcd4a]  \n",
      "@FakeLLM.4426165232 [901199-3037-0000/7a97ab009c4611efa9cf367dda7bcd4a] h\n",
      "@FakeLLM.4426165232 [901199-3037-0000/7a97ab009c4611efa9cf367dda7bcd4a] i\n"
     ]
    },
    {
     "data": {
      "text/plain": [
       "'Reply >> hi'"
      ]
     },
     "execution_count": 1,
     "metadata": {},
     "output_type": "execute_result"
    }
   ],
   "source": [
    "from illufly.types import Runnable, EventBlock\n",
    "from illufly.chat import FakeLLM\n",
    "\n",
    "def handle(block, **kwargs):\n",
    "    r = block.runnable_info\n",
    "    if block.block_type in [\"user\", \"chunk\"]:\n",
    "        print(f'@{r[\"agent_name\"]} [{r[\"thread_id\"]}/{block.content_id}] {block.text}')\n",
    "\n",
    "r = FakeLLM(handlers=[handle])\n",
    "r(\"hi\")"
   ]
  },
  {
   "cell_type": "code",
   "execution_count": 2,
   "id": "e31e87c3-37cf-425e-b9dd-f199728bf3a2",
   "metadata": {},
   "outputs": [
    {
     "name": "stdout",
     "output_type": "stream",
     "text": [
      "@FakeLLM.4573043856 [863301-9636-0000/2b63301b2437430185c1472799d45775] 你好\n",
      "@FakeLLM.4573043856 [863301-9636-0000/19eec31a231a4f90b9142dc74a949402] R\n",
      "@FakeLLM.4573043856 [863301-9636-0000/19eec31a231a4f90b9142dc74a949402] e\n",
      "@FakeLLM.4573043856 [863301-9636-0000/19eec31a231a4f90b9142dc74a949402] p\n",
      "@FakeLLM.4573043856 [863301-9636-0000/19eec31a231a4f90b9142dc74a949402] l\n",
      "@FakeLLM.4573043856 [863301-9636-0000/19eec31a231a4f90b9142dc74a949402] y\n",
      "@FakeLLM.4573043856 [863301-9636-0000/19eec31a231a4f90b9142dc74a949402]  \n",
      "@FakeLLM.4573043856 [863301-9636-0000/19eec31a231a4f90b9142dc74a949402] >\n",
      "@FakeLLM.4573043856 [863301-9636-0000/19eec31a231a4f90b9142dc74a949402] >\n",
      "@FakeLLM.4573043856 [863301-9636-0000/19eec31a231a4f90b9142dc74a949402]  \n",
      "@FakeLLM.4573043856 [863301-9636-0000/19eec31a231a4f90b9142dc74a949402] 你\n",
      "@FakeLLM.4573043856 [863301-9636-0000/19eec31a231a4f90b9142dc74a949402] 好\n"
     ]
    },
    {
     "data": {
      "text/plain": [
       "'Reply >> 你好'"
      ]
     },
     "execution_count": 2,
     "metadata": {},
     "output_type": "execute_result"
    }
   ],
   "source": [
    "r(\"你好\")"
   ]
  },
  {
   "cell_type": "code",
   "execution_count": 1,
   "id": "6ddb0996-6cbe-4874-8f60-4ae3dfd4f338",
   "metadata": {},
   "outputs": [
    {
     "name": "stdout",
     "output_type": "stream",
     "text": [
      "@qwen <user> [901342-5246-0000/cfdd7d749c4611ef844a367dda7bcd4a] 我在广州，今天可以到顶楼晒衣服吗？\n",
      "@qwen <info>\n",
      "@qwen <tools_call_chunk>\n",
      "@qwen <tools_call_chunk>\n",
      "@qwen <tools_call_chunk>\n",
      "@qwen <tools_call_chunk>\n",
      "@qwen <tools_call_chunk>\n",
      "@qwen <new_line>\n",
      "@qwen <usage>\n",
      "@qwen <new_line>\n",
      "@qwen <final_tools_call>\n",
      "@qwen <agent>\n",
      "@qwen <tool_resp_text> [901342-5246-0000/cfdd8f449c4611ef844a367dda7bcd4a] ['广州']今天是晴天。 \n",
      "@qwen <new_line>\n",
      "@qwen <final_tool_resp>\n",
      "@qwen <chunk> [901342-5246-0000/d0b87d029c4611ef844a367dda7bcd4a] 今天\n",
      "@qwen <chunk> [901342-5246-0000/d0b87d029c4611ef844a367dda7bcd4a] 广州\n",
      "@qwen <chunk> [901342-5246-0000/d0b87d029c4611ef844a367dda7bcd4a] 是晴天，\n",
      "@qwen <chunk> [901342-5246-0000/d0b87d029c4611ef844a367dda7bcd4a] 所以你可以到顶\n",
      "@qwen <chunk> [901342-5246-0000/d0b87d029c4611ef844a367dda7bcd4a] 楼晒衣服。\n",
      "@qwen <chunk> [901342-5246-0000/d0b87d029c4611ef844a367dda7bcd4a] \n",
      "@qwen <chunk> [901342-5246-0000/d0b87d029c4611ef844a367dda7bcd4a] \n",
      "@qwen <new_line>\n",
      "@qwen <usage>\n",
      "@qwen <final_text>\n"
     ]
    },
    {
     "data": {
      "text/plain": [
       "{'901342-5246-0000': {'cfdd78b0-9c46-11ef-844a-367dda7bcd4a': {'input': '我在广州，今天可以到顶楼晒衣服吗？',\n",
       "   'output': '今天广州是晴天，所以你可以到顶楼晒衣服。',\n",
       "   'segments': {'cfdd8f449c4611ef844a367dda7bcd4a': \"['广州']今天是晴天。 \",\n",
       "    'd0b87d029c4611ef844a367dda7bcd4a': '今天广州是晴天，所以你可以到顶楼晒衣服。'},\n",
       "   'other_events': []}}}"
      ]
     },
     "execution_count": 1,
     "metadata": {},
     "output_type": "execute_result"
    }
   ],
   "source": [
    "from illufly.chat import ChatQwen\n",
    "from illufly.io import EventBlock, create_collector\n",
    "from typing import Union, List, Set\n",
    "\n",
    "def get_current_weather(location: Set[str]):\n",
    "    \"\"\"获取城市的天气情况\"\"\"\n",
    "    return f\"{location}今天是晴天。 \"\n",
    "\n",
    "\n",
    "store = {}\n",
    "\n",
    "def handle(block, **kwargs):\n",
    "    r = block.runnable_info\n",
    "    if block.block_type in [\"user\", \"chunk\", \"text\", \"tool_resp_chunk\", \"tool_resp_text\"]:\n",
    "        print(f'@{r[\"agent_name\"]} <{block.block_type}> [{r[\"thread_id\"]}/{block.content_id}] {block.text}')\n",
    "    else:\n",
    "        print(f'@{r[\"agent_name\"]} <{block.block_type}>')\n",
    "\n",
    "qwen = ChatQwen(tools=[get_current_weather], handlers=[handle, create_collector(store)], name=\"qwen\")\n",
    "\n",
    "qwen(\"我在广州，今天可以到顶楼晒衣服吗？\", thread_id=qwen.create_new_thread())\n",
    "store"
   ]
  },
  {
   "cell_type": "markdown",
   "id": "f1f8e180-9810-41f5-a536-ded3b2da909e",
   "metadata": {},
   "source": [
    "## 嵌套 BaseAgent"
   ]
  },
  {
   "cell_type": "code",
   "execution_count": 5,
   "id": "b88d4907-2469-4a6c-83ab-845647e6e0c2",
   "metadata": {},
   "outputs": [
    {
     "name": "stdout",
     "output_type": "stream",
     "text": [
      "[AGENT] \u001b[34m>>> Node 1: planner\u001b[0m\n",
      "\u001b[32m**\u001b[0m\u001b[32m思考\u001b[0m\u001b[32m**\u001b[0m\u001b[32m \n",
      "\n",
      "\u001b[0m\u001b[32m首先，我需要\u001b[0m\u001b[32m确定鸿蒙公司\u001b[0m\u001b[32m所在的地理位置，以便\u001b[0m\u001b[32m查询该地区的天气\u001b[0m\u001b[32m情况。因此，\u001b[0m\u001b[32m我的第一步是使用\u001b[0m\u001b[32m `get_city`\u001b[0m\u001b[32m 工具来\u001b[0m\u001b[32m获取鸿蒙公司\u001b[0m\u001b[32m所在的城市。\n",
      "\n",
      "任务\u001b[0m\u001b[32m中涉及的关键概念\u001b[0m\u001b[32m包括：\n",
      "- \u001b[0m\u001b[32m鸿蒙公司\u001b[0m\u001b[32m\n",
      " - 所\u001b[0m\u001b[32m在城市\n",
      "\n",
      "**\u001b[0m\u001b[32m行动**\n",
      "\n",
      "Step1\u001b[0m\u001b[32m: 查询鸿蒙\u001b[0m\u001b[32m公司所在的城市.\u001b[0m\u001b[32m #E1 =\u001b[0m\u001b[32m get_city[{\"\u001b[0m\u001b[32mlocation\": \"鸿\u001b[0m\u001b[32m蒙公司\"}]\u001b[0m\u001b[32m\u001b[0m\n",
      "[AGENT] \u001b[34mget_city\u001b[0m\n",
      "\u001b[34m广州\u001b[0m\n",
      "[AGENT] \u001b[34m>>> Node 2: observer\u001b[0m\n",
      "\u001b[33m\n",
      "**观察**\n",
      "上面的行动结果为:\n",
      "广州\n",
      "\u001b[0m[AGENT] \u001b[34m>>> Node 1: planner\u001b[0m\n",
      "\u001b[32m**\u001b[0m\u001b[32m思考\u001b[0m\u001b[32m**\u001b[0m\u001b[32m \n",
      "\u001b[0m\u001b[32m既然已经知道了鸿\u001b[0m\u001b[32m蒙公司位于广州\u001b[0m\u001b[32m，那么接下来的任务\u001b[0m\u001b[32m就是查询广州的\u001b[0m\u001b[32m天气情况。\n",
      "\n",
      "任务\u001b[0m\u001b[32m中涉及的关键概念\u001b[0m\u001b[32m包括：\n",
      "- \u001b[0m\u001b[32m鸿蒙公司\u001b[0m\u001b[32m - 广州\u001b[0m\u001b[32m\n",
      " - 所\u001b[0m\u001b[32m在城市 - \u001b[0m\u001b[32m广州\n",
      "\n",
      "**\u001b[0m\u001b[32m行动** \n",
      "Step\u001b[0m\u001b[32m1: 查询广州\u001b[0m\u001b[32m的天气情况.\u001b[0m\u001b[32m #E1 =\u001b[0m\u001b[32m get_weather[{\"\u001b[0m\u001b[32mcity\": \"广州\u001b[0m\u001b[32m\"}]\u001b[0m\u001b[32m\u001b[0m\n",
      "[AGENT] \u001b[34mget_weather\u001b[0m\n",
      "\u001b[34m广州天气不错，一直是大晴天\u001b[0m\n",
      "[AGENT] \u001b[34m>>> Node 2: observer\u001b[0m\n",
      "\u001b[33m\n",
      "**观察**\n",
      "上面的行动结果为:\n",
      "广州天气不错，一直是大晴天\n",
      "\u001b[0m[AGENT] \u001b[34m>>> Node 1: planner\u001b[0m\n",
      "\u001b[32m**思考\u001b[0m\u001b[32m**\u001b[0m\u001b[32m \n",
      "\u001b[0m\u001b[32m目前，我们已经\u001b[0m\u001b[32m知道鸿蒙公司\u001b[0m\u001b[32m位于广州，并且\u001b[0m\u001b[32m了解到广州的天气\u001b[0m\u001b[32m情况。因此，\u001b[0m\u001b[32m我们可以直接输出最终\u001b[0m\u001b[32m答案。\n",
      "\n",
      "任务中\u001b[0m\u001b[32m涉及的关键概念包括\u001b[0m\u001b[32m：\n",
      "- \u001b[0m\u001b[32m鸿蒙公司 -\u001b[0m\u001b[32m 广州\n",
      "\u001b[0m\u001b[32m - 所在\u001b[0m\u001b[32m城市 - 广\u001b[0m\u001b[32m州\n",
      "\n",
      "**最终\u001b[0m\u001b[32m答案**\n",
      "鸿蒙\u001b[0m\u001b[32m公司位于广州，\u001b[0m\u001b[32m广州的天气不错\u001b[0m\u001b[32m，一直是大晴\u001b[0m\u001b[32m天。\u001b[0m\u001b[32m\u001b[0m\n",
      "[AGENT] \u001b[34m>>> Node 2: observer\u001b[0m\n"
     ]
    },
    {
     "data": {
      "text/plain": [
       "{'__default__': {'5dab58c4-9c47-11ef-844a-367dda7bcd4a': {'input': '我在鸿蒙公司，帮我查询一下天气情况',\n",
       "   'output': '我在鸿蒙公司，帮我查询一下天气情况',\n",
       "   'segments': {'5dab7c289c4711ef844a367dda7bcd4a': '**思考** \\n\\n首先，我需要确定鸿蒙公司所在的地理位置，以便查询该地区的天气情况。因此，我的第一步是使用 `get_city` 工具来获取鸿蒙公司所在的城市。\\n\\n任务中涉及的关键概念包括：\\n- 鸿蒙公司\\n - 所在城市\\n\\n**行动**\\n\\nStep1: 查询鸿蒙公司所在的城市. #E1 = get_city[{\"location\": \"鸿蒙公司\"}]广州',\n",
       "    '60a4c7549c4711ef844a367dda7bcd4a': '\\n**观察**\\n上面的行动结果为:\\n广州\\n',\n",
       "    '60a504d09c4711ef844a367dda7bcd4a': '**思考** \\n既然已经知道了鸿蒙公司位于广州，那么接下来的任务就是查询广州的天气情况。\\n\\n任务中涉及的关键概念包括：\\n- 鸿蒙公司 - 广州\\n - 所在城市 - 广州\\n\\n**行动** \\nStep1: 查询广州的天气情况. #E1 = get_weather[{\"city\": \"广州\"}]广州天气不错，一直是大晴天',\n",
       "    '645ec2509c4711ef844a367dda7bcd4a': '\\n**观察**\\n上面的行动结果为:\\n广州天气不错，一直是大晴天\\n',\n",
       "    '645ef7529c4711ef844a367dda7bcd4a': '**思考** \\n目前，我们已经知道鸿蒙公司位于广州，并且了解到广州的天气情况。因此，我们可以直接输出最终答案。\\n\\n任务中涉及的关键概念包括：\\n- 鸿蒙公司 - 广州\\n - 所在城市 - 广州\\n\\n**最终答案**\\n鸿蒙公司位于广州，广州的天气不错，一直是大晴天。'},\n",
       "   'other_events': []}}}"
      ]
     },
     "execution_count": 5,
     "metadata": {},
     "output_type": "execute_result"
    }
   ],
   "source": [
    "from illufly.types import BaseAgent, PromptTemplate\n",
    "from illufly.chat import ChatQwen\n",
    "from illufly.flow import ReAct\n",
    "from illufly.io import create_collector, log\n",
    "\n",
    "def get_city(location: str):\n",
    "    \"\"\"由任意地名或地址描述查询出所在的城市\"\"\"\n",
    "    return \"广州\"\n",
    "\n",
    "def get_weather(city: str):\n",
    "    \"\"\"我可以查询城市的天气情况。city必须是城市名称。\"\"\"\n",
    "    return f'{city}天气不错，一直是大晴天'\n",
    "\n",
    "def booking(request: str):\n",
    "    \"\"\"我可以根据你的需求预订球场\"\"\"\n",
    "    return '我已经帮你预订好了，祝你玩得愉快'\n",
    "\n",
    "store = {}\n",
    "flow = ReAct(\n",
    "    ChatQwen(name=\"react-planner\", tools=[get_city, get_weather, booking]),\n",
    "    handlers=[log, create_collector(store)]\n",
    ")\n",
    "\n",
    "flow(\"我在鸿蒙公司，帮我查询一下天气情况\", verbose=False)\n",
    "store"
   ]
  },
  {
   "cell_type": "code",
   "execution_count": null,
   "id": "e898244b-4763-40f0-a81b-00f5d7306181",
   "metadata": {},
   "outputs": [],
   "source": []
  }
 ],
 "metadata": {
  "kernelspec": {
   "display_name": "same_to_illufly",
   "language": "python",
   "name": "same_to_illufly"
  },
  "language_info": {
   "codemirror_mode": {
    "name": "ipython",
    "version": 3
   },
   "file_extension": ".py",
   "mimetype": "text/x-python",
   "name": "python",
   "nbconvert_exporter": "python",
   "pygments_lexer": "ipython3",
   "version": "3.10.0"
  }
 },
 "nbformat": 4,
 "nbformat_minor": 5
}
