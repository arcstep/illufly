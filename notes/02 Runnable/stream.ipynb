{
    "cells": [
        {
            "cell_type": "markdown",
            "id": "bc8720be-8234-48fb-978a-6d407b444eef",
            "metadata": {},
            "source": [
                "## 事件流处理器"
            ]
        },
        {
            "cell_type": "code",
            "execution_count": 1,
            "id": "bbf847a2-e07b-40c3-aead-c2174d7baaf4",
            "metadata": {},
            "outputs": [
                {
                    "data": {
                        "text/plain": [
                            "EventBlock(block_type=<chunk>, content=<hi>)"
                        ]
                    },
                    "execution_count": 1,
                    "metadata": {},
                    "output_type": "execute_result"
                }
            ],
            "source": [
                "from illufly.io import EventBlock\n",
                "EventBlock(\"Chunk\", \"hi\")"
            ]
        },
        {
            "cell_type": "markdown",
            "id": "80dd63e7-9e80-400a-9a78-1bbba1024e70",
            "metadata": {},
            "source": [
                "### 实现流交换\n",
                "\n",
                "基于大模型的AI应用中经常要求模型流式返回，我们有一种实现流输出的标准实现。"
            ]
        },
        {
            "cell_type": "code",
            "execution_count": 1,
            "id": "b109abcd-0f4c-45ee-ac51-1c968de35fc7",
            "metadata": {},
            "outputs": [
                {
                    "name": "stdout",
                    "output_type": "stream",
                    "text": [
                        "\u001b[33mhi\n",
                        "\u001b[0m\u001b[33millufly!\n",
                        "\u001b[0m"
                    ]
                }
            ],
            "source": [
                "from illufly.types import Runnable\n",
                "\n",
                "class MyRun(Runnable):\n",
                "    def call(*args, **kwargs):\n",
                "        yield \"hi\\n\"\n",
                "        yield \"illufly!\\n\"\n",
                "\n",
                "r = MyRun()\n",
                "r()"
            ]
        },
        {
            "cell_type": "markdown",
            "id": "74a2a559-57b8-4cb9-87dc-0882ce1e4d0a",
            "metadata": {},
            "source": [
                "### 推送事件流"
            ]
        },
        {
            "cell_type": "code",
            "execution_count": 2,
            "id": "ff348926-1250-4474-9312-cd4b93ce9077",
            "metadata": {},
            "outputs": [
                {
                    "name": "stdout",
                    "output_type": "stream",
                    "text": [
                        "\u001b[33mhi\n",
                        "\u001b[0mSSE >> {'event': 'text', 'id': '20241120-33201-0010-6103', 'data': {'content': 'hi\\n', 'content_id': '20241120-33201-0011-6353', 'thread_id': None, 'calling_id': '20241120-33201-0001-4496', 'agent_name': 'MyRun.4598540528', 'model_name': None, 'created_at': '2024-11-20T00:20:01.881969'}}\n",
                        "\u001b[33millufly!\n",
                        "\u001b[0mSSE >> {'event': 'text', 'id': '20241120-33201-0014-2500', 'data': {'content': 'illufly!\\n', 'content_id': '20241120-33201-0015-9489', 'thread_id': None, 'calling_id': '20241120-33201-0001-4496', 'agent_name': 'MyRun.4598540528', 'model_name': None, 'created_at': '2024-11-20T00:20:01.882403'}}\n"
                    ]
                }
            ],
            "source": [
                "async for x in r(generator=\"async\", verbose=False):\n",
                "    print(\"SSE >>\", x)"
            ]
        },
        {
            "cell_type": "code",
            "execution_count": 3,
            "id": "2be1e231-55f6-4dcc-acd7-f9ccbadaa317",
            "metadata": {},
            "outputs": [
                {
                    "name": "stdout",
                    "output_type": "stream",
                    "text": [
                        "\u001b[33mhi\n",
                        "\u001b[0mSSE >> {'event': 'text', 'id': '20241120-33204-0020-0007', 'data': {'content': 'hi\\n', 'content_id': '20241120-33204-0021-9862', 'thread_id': None, 'calling_id': '20241120-33204-0002-4372', 'agent_name': 'MyRun.4598540528', 'model_name': None, 'created_at': '2024-11-20T00:20:04.020425'}}\n",
                        "\u001b[33millufly!\n",
                        "\u001b[0mSSE >> {'event': 'text', 'id': '20241120-33204-0024-1159', 'data': {'content': 'illufly!\\n', 'content_id': '20241120-33204-0025-3211', 'thread_id': None, 'calling_id': '20241120-33204-0002-4372', 'agent_name': 'MyRun.4598540528', 'model_name': None, 'created_at': '2024-11-20T00:20:04.021055'}}\n"
                    ]
                }
            ],
            "source": [
                "async for x in r(generator=\"async\", verbose=False):\n",
                "    print(\"SSE >>\", x)"
            ]
        },
        {
            "cell_type": "code",
            "execution_count": 4,
            "id": "406b0aac-5a93-4434-b592-b58d4740c7c9",
            "metadata": {},
            "outputs": [
                {
                    "data": {
                        "text/plain": [
                            "{'20241120-33201-0000-3043': {'threads': set(),\n",
                            "  'callings': {'20241120-33201-0000-6428': {'agent_name': 'MyRun.4598540528',\n",
                            "    'input': '',\n",
                            "    'output': '',\n",
                            "    'segments': {'20241120-33201-0003-5620': 'hi\\n',\n",
                            "     '20241120-33201-0005-9284': 'illufly!\\n'},\n",
                            "    'other_events': []},\n",
                            "   '20241120-33201-0001-4496': {'agent_name': 'MyRun.4598540528',\n",
                            "    'input': '',\n",
                            "    'output': '',\n",
                            "    'segments': {'20241120-33201-0009-7866': 'hi\\n',\n",
                            "     '20241120-33201-0013-6729': 'illufly!\\n'},\n",
                            "    'other_events': []},\n",
                            "   '20241120-33204-0002-4372': {'agent_name': 'MyRun.4598540528',\n",
                            "    'input': '',\n",
                            "    'output': '',\n",
                            "    'segments': {'20241120-33204-0019-1807': 'hi\\n',\n",
                            "     '20241120-33204-0023-0522': 'illufly!\\n'},\n",
                            "    'other_events': []}}}}"
                        ]
                    },
                    "execution_count": 4,
                    "metadata": {},
                    "output_type": "execute_result"
                }
            ],
            "source": [
                "r.events_history.store"
            ]
        },
        {
            "cell_type": "code",
            "execution_count": 9,
            "id": "44132099-8eda-4f79-99af-26355753cde2",
            "metadata": {},
            "outputs": [
                {
                    "name": "stdout",
                    "output_type": "stream",
                    "text": [
                        "\u001b[33m['hi\\n', 'illufly!\\n']\u001b[0m"
                    ]
                }
            ],
            "source": [
                "from illufly.types import Runnable\n",
                "\n",
                "class MyRun(Runnable):\n",
                "    def call(*args, **kwargs):\n",
                "        yield [\"hi\\n\", \"illufly!\\n\"]\n",
                "\n",
                "r = MyRun()\n",
                "r()"
            ]
        },
        {
            "cell_type": "markdown",
            "id": "a77b3659-d208-4a95-95b5-637bdffdc028",
            "metadata": {},
            "source": [
                "### Runnable 事件流"
            ]
        },
        {
            "cell_type": "code",
            "execution_count": 10,
            "id": "015a17f0-a463-4a77-9409-59a2ababd59a",
            "metadata": {},
            "outputs": [
                {
                    "name": "stdout",
                    "output_type": "stream",
                    "text": [
                        "{\"id\": \"c3cd3fc0a4ba11ef9c7aacde48001122\", \"content_id\": \"c3cd4042a4ba11ef9c7aacde48001122\", \"block_type\": \"runnable\", \"content\": \"MyRun.4592974432\", \"created_at\": \"2024-11-17T16:05:52.765559\", \"calling_info\": {}, \"runnable_info\": {\"name\": \"MyRun.4592974432\", \"class_name\": \"MyRun\", \"calling_id\": \"c3cd3d54-a4ba-11ef-9c7a-acde48001122\"}}\n",
                        "{\"id\": \"c3cd5aaaa4ba11ef9c7aacde48001122\", \"content_id\": \"c3cd5bb8a4ba11ef9c7aacde48001122\", \"block_type\": \"chunk\", \"content\": \"hi, \", \"created_at\": \"2024-11-17T16:05:52.766262\", \"calling_info\": {}, \"runnable_info\": {\"calling_id\": \"c3cd3d54-a4ba-11ef-9c7a-acde48001122\"}}\n",
                        "{\"id\": \"c3cd5fb4a4ba11ef9c7aacde48001122\", \"content_id\": \"c3cd6022a4ba11ef9c7aacde48001122\", \"block_type\": \"chunk\", \"content\": \"illufly\", \"created_at\": \"2024-11-17T16:05:52.766372\", \"calling_info\": {}, \"runnable_info\": {\"calling_id\": \"c3cd3d54-a4ba-11ef-9c7a-acde48001122\"}}\n",
                        "{\"id\": \"c3cd628ea4ba11ef9c7aacde48001122\", \"content_id\": \"c3cd62e8a4ba11ef9c7aacde48001122\", \"block_type\": \"chunk\", \"content\": \"!\", \"created_at\": \"2024-11-17T16:05:52.766443\", \"calling_info\": {}, \"runnable_info\": {\"calling_id\": \"c3cd3d54-a4ba-11ef-9c7a-acde48001122\"}}\n"
                    ]
                }
            ],
            "source": [
                "from illufly.types import Runnable, EventBlock\n",
                "\n",
                "class MyRun(Runnable):\n",
                "    def call(*args, **kwargs):\n",
                "        yield EventBlock(\"chunk\", \"hi, \")\n",
                "        yield EventBlock(\"chunk\", \"illufly\")\n",
                "        yield EventBlock(\"chunk\", \"!\")\n",
                "\n",
                "def handle(block, **kwargs):\n",
                "    print(block.json)\n",
                "\n",
                "r = MyRun(handlers=[handle])\n",
                "r(\"hi\")"
            ]
        },
        {
            "cell_type": "markdown",
            "id": "0ff754cb-9b82-4f0b-8ce6-ef7c1e7a153d",
            "metadata": {},
            "source": [
                "### ChatAgent 事件流"
            ]
        },
        {
            "cell_type": "code",
            "execution_count": null,
            "id": "e11f2f36-a8f0-4160-aa4d-b3741b05b4f4",
            "metadata": {},
            "outputs": [],
            "source": [
                "from illufly.types import Runnable, EventBlock\n",
                "from illufly.chat import FakeLLM\n",
                "from illufly.io import log, alog\n",
                "\n",
                "def handle(block, **kwargs):\n",
                "    print(\"[\", block.block_type, \"]\", block.text)\n",
                "\n",
                "r = FakeLLM(handlers=[handle], sleep=0.5)\n",
                "r(\"hi\")"
            ]
        },
        {
            "cell_type": "code",
            "execution_count": null,
            "id": "3354c7ea-8e0a-429f-b27b-196179fd4dd0",
            "metadata": {},
            "outputs": [],
            "source": [
                "from illufly.types import Runnable, EventBlock\n",
                "from illufly.chat import FakeLLM\n",
                "from illufly.io import log, alog\n",
                "\n",
                "r = FakeLLM(handlers=[alog], sleep=0.1)\n",
                "await r(\"hi\")"
            ]
        },
        {
            "cell_type": "markdown",
            "id": "de683821-b402-4365-91da-69bd48e6cd0c",
            "metadata": {},
            "source": [
                "### 推送 ChatAgent 事件流"
            ]
        },
        {
            "cell_type": "code",
            "execution_count": 10,
            "id": "5175e0b0-b39d-4b2f-8735-cfd061726446",
            "metadata": {},
            "outputs": [
                {
                    "name": "stdout",
                    "output_type": "stream",
                    "text": [
                        "{'event': 'info', 'id': 'aec6e7b8a68e11efac23acde48001122', 'data': {'content': '记住 10 轮对话', 'content_id': 'aec6e808a68e11efac23acde48001122', 'thread_id': '20241119-31721-0000-0948', 'calling_id': '20241119-31721-0000-0913', 'agent_name': 'if1', 'model_name': None, 'created_at': '2024-11-19T23:55:21.961274'}}\n",
                        "{'event': 'info', 'id': 'aec7383aa68e11efac23acde48001122', 'data': {'content': 'I am FakeLLM', 'content_id': 'aec7115ca68e11efac23acde48001122', 'thread_id': '20241119-31721-0000-0948', 'calling_id': '20241119-31721-0000-0913', 'agent_name': 'if1', 'model_name': None, 'created_at': '2024-11-19T23:55:21.963365'}}\n",
                        "{'event': 'chunk', 'id': 'aed72dd0a68e11efac23acde48001122', 'data': {'content': 'R', 'content_id': 'aec7115ca68e11efac23acde48001122', 'thread_id': '20241119-31721-0000-0948', 'calling_id': '20241119-31721-0000-0913', 'agent_name': 'if1', 'model_name': None, 'created_at': '2024-11-19T23:55:22.067992'}}\n",
                        "{'event': 'chunk', 'id': 'aee6905ea68e11efac23acde48001122', 'data': {'content': 'e', 'content_id': 'aec7115ca68e11efac23acde48001122', 'thread_id': '20241119-31721-0000-0948', 'calling_id': '20241119-31721-0000-0913', 'agent_name': 'if1', 'model_name': None, 'created_at': '2024-11-19T23:55:22.168830'}}\n",
                        "{'event': 'chunk', 'id': 'aef610cea68e11efac23acde48001122', 'data': {'content': 'p', 'content_id': 'aec7115ca68e11efac23acde48001122', 'thread_id': '20241119-31721-0000-0948', 'calling_id': '20241119-31721-0000-0913', 'agent_name': 'if1', 'model_name': None, 'created_at': '2024-11-19T23:55:22.270412'}}\n",
                        "{'event': 'chunk', 'id': 'af05a976a68e11efac23acde48001122', 'data': {'content': 'l', 'content_id': 'aec7115ca68e11efac23acde48001122', 'thread_id': '20241119-31721-0000-0948', 'calling_id': '20241119-31721-0000-0913', 'agent_name': 'if1', 'model_name': None, 'created_at': '2024-11-19T23:55:22.372636'}}\n",
                        "{'event': 'chunk', 'id': 'af15cb30a68e11efac23acde48001122', 'data': {'content': 'y', 'content_id': 'aec7115ca68e11efac23acde48001122', 'thread_id': '20241119-31721-0000-0948', 'calling_id': '20241119-31721-0000-0913', 'agent_name': 'if1', 'model_name': None, 'created_at': '2024-11-19T23:55:22.478387'}}\n",
                        "{'event': 'chunk', 'id': 'af2573f0a68e11efac23acde48001122', 'data': {'content': ' ', 'content_id': 'aec7115ca68e11efac23acde48001122', 'thread_id': '20241119-31721-0000-0948', 'calling_id': '20241119-31721-0000-0913', 'agent_name': 'if1', 'model_name': None, 'created_at': '2024-11-19T23:55:22.581071'}}\n",
                        "{'event': 'chunk', 'id': 'af355932a68e11efac23acde48001122', 'data': {'content': '>', 'content_id': 'aec7115ca68e11efac23acde48001122', 'thread_id': '20241119-31721-0000-0948', 'calling_id': '20241119-31721-0000-0913', 'agent_name': 'if1', 'model_name': None, 'created_at': '2024-11-19T23:55:22.685185'}}\n",
                        "{'event': 'chunk', 'id': 'af44e1fea68e11efac23acde48001122', 'data': {'content': '>', 'content_id': 'aec7115ca68e11efac23acde48001122', 'thread_id': '20241119-31721-0000-0948', 'calling_id': '20241119-31721-0000-0913', 'agent_name': 'if1', 'model_name': None, 'created_at': '2024-11-19T23:55:22.786943'}}\n",
                        "{'event': 'chunk', 'id': 'af546a48a68e11efac23acde48001122', 'data': {'content': ' ', 'content_id': 'aec7115ca68e11efac23acde48001122', 'thread_id': '20241119-31721-0000-0948', 'calling_id': '20241119-31721-0000-0913', 'agent_name': 'if1', 'model_name': None, 'created_at': '2024-11-19T23:55:22.888730'}}\n",
                        "{'event': 'chunk', 'id': 'af64799ca68e11efac23acde48001122', 'data': {'content': '给', 'content_id': 'aec7115ca68e11efac23acde48001122', 'thread_id': '20241119-31721-0000-0948', 'calling_id': '20241119-31721-0000-0913', 'agent_name': 'if1', 'model_name': None, 'created_at': '2024-11-19T23:55:22.993983'}}\n",
                        "{'event': 'chunk', 'id': 'af743ca6a68e11efac23acde48001122', 'data': {'content': '我', 'content_id': 'aec7115ca68e11efac23acde48001122', 'thread_id': '20241119-31721-0000-0948', 'calling_id': '20241119-31721-0000-0913', 'agent_name': 'if1', 'model_name': None, 'created_at': '2024-11-19T23:55:23.097335'}}\n",
                        "{'event': 'chunk', 'id': 'af841cfca68e11efac23acde48001122', 'data': {'content': '写', 'content_id': 'aec7115ca68e11efac23acde48001122', 'thread_id': '20241119-31721-0000-0948', 'calling_id': '20241119-31721-0000-0913', 'agent_name': 'if1', 'model_name': None, 'created_at': '2024-11-19T23:55:23.201553'}}\n",
                        "{'event': 'chunk', 'id': 'af943bf0a68e11efac23acde48001122', 'data': {'content': '一', 'content_id': 'aec7115ca68e11efac23acde48001122', 'thread_id': '20241119-31721-0000-0948', 'calling_id': '20241119-31721-0000-0913', 'agent_name': 'if1', 'model_name': None, 'created_at': '2024-11-19T23:55:23.307173'}}\n",
                        "{'event': 'chunk', 'id': 'afa423eea68e11efac23acde48001122', 'data': {'content': '篇', 'content_id': 'aec7115ca68e11efac23acde48001122', 'thread_id': '20241119-31721-0000-0948', 'calling_id': '20241119-31721-0000-0913', 'agent_name': 'if1', 'model_name': None, 'created_at': '2024-11-19T23:55:23.411224'}}\n",
                        "{'event': 'chunk', 'id': 'afb3cba0a68e11efac23acde48001122', 'data': {'content': '2', 'content_id': 'aec7115ca68e11efac23acde48001122', 'thread_id': '20241119-31721-0000-0948', 'calling_id': '20241119-31721-0000-0913', 'agent_name': 'if1', 'model_name': None, 'created_at': '2024-11-19T23:55:23.513888'}}\n",
                        "{'event': 'chunk', 'id': 'afc3bde4a68e11efac23acde48001122', 'data': {'content': '0', 'content_id': 'aec7115ca68e11efac23acde48001122', 'thread_id': '20241119-31721-0000-0948', 'calling_id': '20241119-31721-0000-0913', 'agent_name': 'if1', 'model_name': None, 'created_at': '2024-11-19T23:55:23.618347'}}\n",
                        "{'event': 'chunk', 'id': 'afd3eae8a68e11efac23acde48001122', 'data': {'content': '0', 'content_id': 'aec7115ca68e11efac23acde48001122', 'thread_id': '20241119-31721-0000-0948', 'calling_id': '20241119-31721-0000-0913', 'agent_name': 'if1', 'model_name': None, 'created_at': '2024-11-19T23:55:23.724378'}}\n",
                        "{'event': 'chunk', 'id': 'afe3fdd4a68e11efac23acde48001122', 'data': {'content': '字', 'content_id': 'aec7115ca68e11efac23acde48001122', 'thread_id': '20241119-31721-0000-0948', 'calling_id': '20241119-31721-0000-0913', 'agent_name': 'if1', 'model_name': None, 'created_at': '2024-11-19T23:55:23.829693'}}\n",
                        "{'event': 'chunk', 'id': 'aff3e578a68e11efac23acde48001122', 'data': {'content': '小', 'content_id': 'aec7115ca68e11efac23acde48001122', 'thread_id': '20241119-31721-0000-0948', 'calling_id': '20241119-31721-0000-0913', 'agent_name': 'if1', 'model_name': None, 'created_at': '2024-11-19T23:55:23.933970'}}\n",
                        "{'event': 'chunk', 'id': 'b0037100a68e11efac23acde48001122', 'data': {'content': '作', 'content_id': 'aec7115ca68e11efac23acde48001122', 'thread_id': '20241119-31721-0000-0948', 'calling_id': '20241119-31721-0000-0913', 'agent_name': 'if1', 'model_name': None, 'created_at': '2024-11-19T23:55:24.035775'}}\n",
                        "{'event': 'chunk', 'id': 'b0130a66a68e11efac23acde48001122', 'data': {'content': '文', 'content_id': 'aec7115ca68e11efac23acde48001122', 'thread_id': '20241119-31721-0000-0948', 'calling_id': '20241119-31721-0000-0913', 'agent_name': 'if1', 'model_name': None, 'created_at': '2024-11-19T23:55:24.138051'}}\n"
                    ]
                }
            ],
            "source": [
                "from illufly.chat import FakeLLM\n",
                "\n",
                "llm = FakeLLM(name=\"if1\", handlers=[])\n",
                "llm.create_new_thread()\n",
                "\n",
                "async for b in llm(\"给我写一篇200字小作文\", generator=\"async\", sleep=0.1):\n",
                "    print(b)"
            ]
        },
        {
            "cell_type": "code",
            "execution_count": 9,
            "id": "ccc945a8-8803-4d01-8e30-9d34ef77c6b0",
            "metadata": {},
            "outputs": [
                {
                    "name": "stdout",
                    "output_type": "stream",
                    "text": [
                        "{'event': 'info', 'id': 'aa267d36a68e11efac23acde48001122', 'data': {'content': '记住 10 轮对话', 'content_id': 'aa267d9aa68e11efac23acde48001122', 'thread_id': '20241119-31683-0000-5375', 'calling_id': '20241119-31714-0000-1194', 'agent_name': 'if1', 'model_name': None, 'created_at': '2024-11-19T23:55:14.199087'}}\n",
                        "{'event': 'info', 'id': 'aa26dd12a68e11efac23acde48001122', 'data': {'content': 'I am FakeLLM', 'content_id': 'aa26a86aa68e11efac23acde48001122', 'thread_id': '20241119-31683-0000-5375', 'calling_id': '20241119-31714-0000-1194', 'agent_name': 'if1', 'model_name': None, 'created_at': '2024-11-19T23:55:14.201569'}}\n",
                        "{'event': 'chunk', 'id': 'aa363302a68e11efac23acde48001122', 'data': {'content': 'R', 'content_id': 'aa26a86aa68e11efac23acde48001122', 'thread_id': '20241119-31683-0000-5375', 'calling_id': '20241119-31714-0000-1194', 'agent_name': 'if1', 'model_name': None, 'created_at': '2024-11-19T23:55:14.302114'}}\n",
                        "{'event': 'chunk', 'id': 'aa46188aa68e11efac23acde48001122', 'data': {'content': 'e', 'content_id': 'aa26a86aa68e11efac23acde48001122', 'thread_id': '20241119-31683-0000-5375', 'calling_id': '20241119-31714-0000-1194', 'agent_name': 'if1', 'model_name': None, 'created_at': '2024-11-19T23:55:14.406312'}}\n",
                        "{'event': 'chunk', 'id': 'aa5663aca68e11efac23acde48001122', 'data': {'content': 'p', 'content_id': 'aa26a86aa68e11efac23acde48001122', 'thread_id': '20241119-31683-0000-5375', 'calling_id': '20241119-31714-0000-1194', 'agent_name': 'if1', 'model_name': None, 'created_at': '2024-11-19T23:55:14.513052'}}\n",
                        "{'event': 'chunk', 'id': 'aa662224a68e11efac23acde48001122', 'data': {'content': 'l', 'content_id': 'aa26a86aa68e11efac23acde48001122', 'thread_id': '20241119-31683-0000-5375', 'calling_id': '20241119-31714-0000-1194', 'agent_name': 'if1', 'model_name': None, 'created_at': '2024-11-19T23:55:14.616282'}}\n",
                        "{'event': 'chunk', 'id': 'aa75e7f4a68e11efac23acde48001122', 'data': {'content': 'y', 'content_id': 'aa26a86aa68e11efac23acde48001122', 'thread_id': '20241119-31683-0000-5375', 'calling_id': '20241119-31714-0000-1194', 'agent_name': 'if1', 'model_name': None, 'created_at': '2024-11-19T23:55:14.719650'}}\n",
                        "{'event': 'chunk', 'id': 'aa85e2eea68e11efac23acde48001122', 'data': {'content': ' ', 'content_id': 'aa26a86aa68e11efac23acde48001122', 'thread_id': '20241119-31683-0000-5375', 'calling_id': '20241119-31714-0000-1194', 'agent_name': 'if1', 'model_name': None, 'created_at': '2024-11-19T23:55:14.824338'}}\n",
                        "{'event': 'chunk', 'id': 'aa95ab52a68e11efac23acde48001122', 'data': {'content': '>', 'content_id': 'aa26a86aa68e11efac23acde48001122', 'thread_id': '20241119-31683-0000-5375', 'calling_id': '20241119-31714-0000-1194', 'agent_name': 'if1', 'model_name': None, 'created_at': '2024-11-19T23:55:14.927793'}}\n",
                        "{'event': 'chunk', 'id': 'aaa5b7b8a68e11efac23acde48001122', 'data': {'content': '>', 'content_id': 'aa26a86aa68e11efac23acde48001122', 'thread_id': '20241119-31683-0000-5375', 'calling_id': '20241119-31714-0000-1194', 'agent_name': 'if1', 'model_name': None, 'created_at': '2024-11-19T23:55:15.032939'}}\n",
                        "{'event': 'chunk', 'id': 'aab5209aa68e11efac23acde48001122', 'data': {'content': ' ', 'content_id': 'aa26a86aa68e11efac23acde48001122', 'thread_id': '20241119-31683-0000-5375', 'calling_id': '20241119-31714-0000-1194', 'agent_name': 'if1', 'model_name': None, 'created_at': '2024-11-19T23:55:15.133981'}}\n",
                        "{'event': 'chunk', 'id': 'aac530caa68e11efac23acde48001122', 'data': {'content': '给', 'content_id': 'aa26a86aa68e11efac23acde48001122', 'thread_id': '20241119-31683-0000-5375', 'calling_id': '20241119-31714-0000-1194', 'agent_name': 'if1', 'model_name': None, 'created_at': '2024-11-19T23:55:15.239238'}}\n",
                        "{'event': 'chunk', 'id': 'aad57246a68e11efac23acde48001122', 'data': {'content': '我', 'content_id': 'aa26a86aa68e11efac23acde48001122', 'thread_id': '20241119-31683-0000-5375', 'calling_id': '20241119-31714-0000-1194', 'agent_name': 'if1', 'model_name': None, 'created_at': '2024-11-19T23:55:15.345788'}}\n",
                        "{'event': 'chunk', 'id': 'aae56dd6a68e11efac23acde48001122', 'data': {'content': '写', 'content_id': 'aa26a86aa68e11efac23acde48001122', 'thread_id': '20241119-31683-0000-5375', 'calling_id': '20241119-31714-0000-1194', 'agent_name': 'if1', 'model_name': None, 'created_at': '2024-11-19T23:55:15.450472'}}\n",
                        "{'event': 'chunk', 'id': 'aaf583b0a68e11efac23acde48001122', 'data': {'content': '一', 'content_id': 'aa26a86aa68e11efac23acde48001122', 'thread_id': '20241119-31683-0000-5375', 'calling_id': '20241119-31714-0000-1194', 'agent_name': 'if1', 'model_name': None, 'created_at': '2024-11-19T23:55:15.555908'}}\n",
                        "{'event': 'chunk', 'id': 'ab055f88a68e11efac23acde48001122', 'data': {'content': '篇', 'content_id': 'aa26a86aa68e11efac23acde48001122', 'thread_id': '20241119-31683-0000-5375', 'calling_id': '20241119-31714-0000-1194', 'agent_name': 'if1', 'model_name': None, 'created_at': '2024-11-19T23:55:15.659825'}}\n",
                        "{'event': 'chunk', 'id': 'ab150dfca68e11efac23acde48001122', 'data': {'content': '2', 'content_id': 'aa26a86aa68e11efac23acde48001122', 'thread_id': '20241119-31683-0000-5375', 'calling_id': '20241119-31714-0000-1194', 'agent_name': 'if1', 'model_name': None, 'created_at': '2024-11-19T23:55:15.762702'}}\n",
                        "{'event': 'chunk', 'id': 'ab24e402a68e11efac23acde48001122', 'data': {'content': '0', 'content_id': 'aa26a86aa68e11efac23acde48001122', 'thread_id': '20241119-31683-0000-5375', 'calling_id': '20241119-31714-0000-1194', 'agent_name': 'if1', 'model_name': None, 'created_at': '2024-11-19T23:55:15.866378'}}\n",
                        "{'event': 'chunk', 'id': 'ab34ecd0a68e11efac23acde48001122', 'data': {'content': '0', 'content_id': 'aa26a86aa68e11efac23acde48001122', 'thread_id': '20241119-31683-0000-5375', 'calling_id': '20241119-31714-0000-1194', 'agent_name': 'if1', 'model_name': None, 'created_at': '2024-11-19T23:55:15.971492'}}\n",
                        "{'event': 'chunk', 'id': 'ab44c998a68e11efac23acde48001122', 'data': {'content': '字', 'content_id': 'aa26a86aa68e11efac23acde48001122', 'thread_id': '20241119-31683-0000-5375', 'calling_id': '20241119-31714-0000-1194', 'agent_name': 'if1', 'model_name': None, 'created_at': '2024-11-19T23:55:16.075467'}}\n",
                        "{'event': 'chunk', 'id': 'ab550b0aa68e11efac23acde48001122', 'data': {'content': '小', 'content_id': 'aa26a86aa68e11efac23acde48001122', 'thread_id': '20241119-31683-0000-5375', 'calling_id': '20241119-31714-0000-1194', 'agent_name': 'if1', 'model_name': None, 'created_at': '2024-11-19T23:55:16.182073'}}\n",
                        "{'event': 'chunk', 'id': 'ab64f34ea68e11efac23acde48001122', 'data': {'content': '作', 'content_id': 'aa26a86aa68e11efac23acde48001122', 'thread_id': '20241119-31683-0000-5375', 'calling_id': '20241119-31714-0000-1194', 'agent_name': 'if1', 'model_name': None, 'created_at': '2024-11-19T23:55:16.286196'}}\n",
                        "{'event': 'chunk', 'id': 'ab74a6cca68e11efac23acde48001122', 'data': {'content': '文', 'content_id': 'aa26a86aa68e11efac23acde48001122', 'thread_id': '20241119-31683-0000-5375', 'calling_id': '20241119-31714-0000-1194', 'agent_name': 'if1', 'model_name': None, 'created_at': '2024-11-19T23:55:16.389121'}}\n"
                    ]
                }
            ],
            "source": [
                "async for b in llm(\"给我写一篇200字小作文\", generator=\"async\", sleep=0.1):\n",
                "    print(b)"
            ]
        },
        {
            "cell_type": "markdown",
            "id": "f1f8e180-9810-41f5-a536-ded3b2da909e",
            "metadata": {},
            "source": [
                "## 嵌套 BaseAgent"
            ]
        },
        {
            "cell_type": "code",
            "execution_count": null,
            "id": "b88d4907-2469-4a6c-83ab-845647e6e0c2",
            "metadata": {},
            "outputs": [],
            "source": [
                "from illufly.types import BaseAgent, PromptTemplate\n",
                "from illufly.chat import ChatQwen\n",
                "from illufly.flow import ReAct\n",
                "\n",
                "def get_city(location: str):\n",
                "    \"\"\"由任意地名或地址描述查询出所在的城市\"\"\"\n",
                "    return \"广州\"\n",
                "\n",
                "def get_weather(city: str):\n",
                "    \"\"\"我可以查询城市的天气情况。city必须是城市名称。\"\"\"\n",
                "    return f'{city}天气不错，一直是大晴天'\n",
                "\n",
                "def booking(request: str):\n",
                "    \"\"\"我可以根据你的需求预订球场\"\"\"\n",
                "    return '我已经帮你预订好了，祝你玩得愉快'\n",
                "\n",
                "store = {}\n",
                "flow = ReAct(\n",
                "    ChatQwen(name=\"react-planner\", tools=[get_city, get_weather, booking])\n",
                ")\n",
                "\n",
                "for b in flow(\"我在鸿蒙公司，帮我查询一下天气情况\", verbose=False, handlers=[], generator=\"sync\"):\n",
                "    print(b)"
            ]
        },
        {
            "cell_type": "markdown",
            "id": "0da1c8dc-d841-4d0b-b0ba-6412c4ece901",
            "metadata": {},
            "source": [
                "## Events History"
            ]
        },
        {
            "cell_type": "code",
            "execution_count": 14,
            "id": "2240c16e-a409-4764-a068-6bbc49f09c8c",
            "metadata": {},
            "outputs": [],
            "source": [
                "from illufly.core.history.events import BaseEventsHistory"
            ]
        },
        {
            "cell_type": "code",
            "execution_count": 20,
            "id": "7d7cd557-c8ea-4e67-8810-bed13ec5d038",
            "metadata": {},
            "outputs": [],
            "source": [
                "h = BaseEventsHistory()"
            ]
        },
        {
            "cell_type": "code",
            "execution_count": 23,
            "id": "e1c30f79-5e32-4762-a49d-c442725dc5eb",
            "metadata": {},
            "outputs": [
                {
                    "data": {
                        "text/plain": [
                            "{'20241117-28722-2213-0000': {'threads': set(), 'callings': {}}}"
                        ]
                    },
                    "execution_count": 23,
                    "metadata": {},
                    "output_type": "execute_result"
                }
            ],
            "source": [
                "h.store"
            ]
        },
        {
            "cell_type": "code",
            "execution_count": 24,
            "id": "de1953bb-7fe3-49ee-b399-34125ddfb51f",
            "metadata": {},
            "outputs": [
                {
                    "data": {
                        "text/plain": [
                            "'20241117-28722-2213-0000'"
                        ]
                    },
                    "execution_count": 24,
                    "metadata": {},
                    "output_type": "execute_result"
                }
            ],
            "source": [
                "h.last_events_history_id"
            ]
        },
        {
            "cell_type": "code",
            "execution_count": 25,
            "id": "a55a8624-8fbd-4e01-943f-89d59b1966f0",
            "metadata": {},
            "outputs": [
                {
                    "data": {
                        "text/plain": [
                            "86400"
                        ]
                    },
                    "execution_count": 25,
                    "metadata": {},
                    "output_type": "execute_result"
                }
            ],
            "source": [
                "24*60*60"
            ]
        },
        {
            "cell_type": "code",
            "execution_count": null,
            "id": "3f68ae9f-b792-4190-9eb9-76397e78da4c",
            "metadata": {},
            "outputs": [],
            "source": []
        }
    ],
    "metadata": {
        "kernelspec": {
            "display_name": "same_to_illufly",
            "language": "python",
            "name": "same_to_illufly"
        },
        "language_info": {
            "codemirror_mode": {
                "name": "ipython",
                "version": 3
            },
            "file_extension": ".py",
            "mimetype": "text/x-python",
            "name": "python",
            "nbconvert_exporter": "python",
            "pygments_lexer": "ipython3",
            "version": "3.10.0"
        }
    },
    "nbformat": 4,
    "nbformat_minor": 5
}