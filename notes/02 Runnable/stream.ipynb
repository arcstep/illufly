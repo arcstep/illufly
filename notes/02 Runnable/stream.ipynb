{
 "cells": [
  {
   "cell_type": "markdown",
   "id": "bc8720be-8234-48fb-978a-6d407b444eef",
   "metadata": {},
   "source": [
    "## 事件流处理器"
   ]
  },
  {
   "cell_type": "code",
   "execution_count": null,
   "id": "bbf847a2-e07b-40c3-aead-c2174d7baaf4",
   "metadata": {},
   "outputs": [],
   "source": [
    "from illufly.io import EventBlock\n",
    "EventBlock(\"Chunk\", \"hi\")"
   ]
  },
  {
   "cell_type": "markdown",
   "id": "80dd63e7-9e80-400a-9a78-1bbba1024e70",
   "metadata": {},
   "source": [
    "### 实现流交换\n",
    "\n",
    "基于大模型的AI应用中经常要求模型流式返回，我们有一种实现流输出的标准实现。"
   ]
  },
  {
   "cell_type": "code",
   "execution_count": 1,
   "id": "b109abcd-0f4c-45ee-ac51-1c968de35fc7",
   "metadata": {},
   "outputs": [
    {
     "name": "stdout",
     "output_type": "stream",
     "text": [
      "\u001b[33mhi\n",
      "\u001b[0m\u001b[33millufly!\n",
      "\u001b[0m"
     ]
    }
   ],
   "source": [
    "from illufly.types import Runnable\n",
    "\n",
    "class MyRun(Runnable):\n",
    "    def call(*args, **kwargs):\n",
    "        yield \"hi\\n\"\n",
    "        yield \"illufly!\\n\"\n",
    "\n",
    "r = MyRun()\n",
    "r()"
   ]
  },
  {
   "cell_type": "markdown",
   "id": "74a2a559-57b8-4cb9-87dc-0882ce1e4d0a",
   "metadata": {},
   "source": [
    "### 推送事件流"
   ]
  },
  {
   "cell_type": "code",
   "execution_count": 2,
   "id": "ff348926-1250-4474-9312-cd4b93ce9077",
   "metadata": {},
   "outputs": [
    {
     "name": "stdout",
     "output_type": "stream",
     "text": [
      "\u001b[33mhi\n",
      "\u001b[0mSSE >> {'event': 'text', 'id': '838dd8e6a5c511efbfc5acde48001122', 'data': {'content': 'hi\\n', 'content_id': '838dd94aa5c511efbfc5acde48001122', 'thread_id': None, 'calling_id': '838db514-a5c5-11ef-bfc5-acde48001122', 'agent_name': 'MyRun.4500597456', 'model_name': None, 'created_at': '2024-11-18T23:55:20.602661'}}\n",
      "\u001b[33millufly!\n",
      "\u001b[0mSSE >> {'event': 'text', 'id': '838de6f6a5c511efbfc5acde48001122', 'data': {'content': 'illufly!\\n', 'content_id': '838de73ca5c511efbfc5acde48001122', 'thread_id': None, 'calling_id': '838db514-a5c5-11ef-bfc5-acde48001122', 'agent_name': 'MyRun.4500597456', 'model_name': None, 'created_at': '2024-11-18T23:55:20.603018'}}\n"
     ]
    }
   ],
   "source": [
    "async for x in r(generator=\"async\", verbose=False):\n",
    "    print(\"SSE >>\", x)"
   ]
  },
  {
   "cell_type": "code",
   "execution_count": 9,
   "id": "44132099-8eda-4f79-99af-26355753cde2",
   "metadata": {},
   "outputs": [
    {
     "name": "stdout",
     "output_type": "stream",
     "text": [
      "\u001b[33m['hi\\n', 'illufly!\\n']\u001b[0m"
     ]
    }
   ],
   "source": [
    "from illufly.types import Runnable\n",
    "\n",
    "class MyRun(Runnable):\n",
    "    def call(*args, **kwargs):\n",
    "        yield [\"hi\\n\", \"illufly!\\n\"]\n",
    "\n",
    "r = MyRun()\n",
    "r()"
   ]
  },
  {
   "cell_type": "markdown",
   "id": "a77b3659-d208-4a95-95b5-637bdffdc028",
   "metadata": {},
   "source": [
    "### Runnable 事件流"
   ]
  },
  {
   "cell_type": "code",
   "execution_count": 10,
   "id": "015a17f0-a463-4a77-9409-59a2ababd59a",
   "metadata": {},
   "outputs": [
    {
     "name": "stdout",
     "output_type": "stream",
     "text": [
      "{\"id\": \"c3cd3fc0a4ba11ef9c7aacde48001122\", \"content_id\": \"c3cd4042a4ba11ef9c7aacde48001122\", \"block_type\": \"runnable\", \"content\": \"MyRun.4592974432\", \"created_at\": \"2024-11-17T16:05:52.765559\", \"calling_info\": {}, \"runnable_info\": {\"name\": \"MyRun.4592974432\", \"class_name\": \"MyRun\", \"calling_id\": \"c3cd3d54-a4ba-11ef-9c7a-acde48001122\"}}\n",
      "{\"id\": \"c3cd5aaaa4ba11ef9c7aacde48001122\", \"content_id\": \"c3cd5bb8a4ba11ef9c7aacde48001122\", \"block_type\": \"chunk\", \"content\": \"hi, \", \"created_at\": \"2024-11-17T16:05:52.766262\", \"calling_info\": {}, \"runnable_info\": {\"calling_id\": \"c3cd3d54-a4ba-11ef-9c7a-acde48001122\"}}\n",
      "{\"id\": \"c3cd5fb4a4ba11ef9c7aacde48001122\", \"content_id\": \"c3cd6022a4ba11ef9c7aacde48001122\", \"block_type\": \"chunk\", \"content\": \"illufly\", \"created_at\": \"2024-11-17T16:05:52.766372\", \"calling_info\": {}, \"runnable_info\": {\"calling_id\": \"c3cd3d54-a4ba-11ef-9c7a-acde48001122\"}}\n",
      "{\"id\": \"c3cd628ea4ba11ef9c7aacde48001122\", \"content_id\": \"c3cd62e8a4ba11ef9c7aacde48001122\", \"block_type\": \"chunk\", \"content\": \"!\", \"created_at\": \"2024-11-17T16:05:52.766443\", \"calling_info\": {}, \"runnable_info\": {\"calling_id\": \"c3cd3d54-a4ba-11ef-9c7a-acde48001122\"}}\n"
     ]
    }
   ],
   "source": [
    "from illufly.types import Runnable, EventBlock\n",
    "\n",
    "class MyRun(Runnable):\n",
    "    def call(*args, **kwargs):\n",
    "        yield EventBlock(\"chunk\", \"hi, \")\n",
    "        yield EventBlock(\"chunk\", \"illufly\")\n",
    "        yield EventBlock(\"chunk\", \"!\")\n",
    "\n",
    "def handle(block, **kwargs):\n",
    "    print(block.json)\n",
    "\n",
    "r = MyRun(handlers=[handle])\n",
    "r(\"hi\")"
   ]
  },
  {
   "cell_type": "markdown",
   "id": "0ff754cb-9b82-4f0b-8ce6-ef7c1e7a153d",
   "metadata": {},
   "source": [
    "### ChatAgent 事件流"
   ]
  },
  {
   "cell_type": "code",
   "execution_count": null,
   "id": "e11f2f36-a8f0-4160-aa4d-b3741b05b4f4",
   "metadata": {},
   "outputs": [],
   "source": [
    "from illufly.types import Runnable, EventBlock\n",
    "from illufly.chat import FakeLLM\n",
    "from illufly.io import log, alog\n",
    "\n",
    "def handle(block, **kwargs):\n",
    "    print(\"[\", block.block_type, \"]\", block.text)\n",
    "\n",
    "r = FakeLLM(handlers=[handle], sleep=0.5)\n",
    "r(\"hi\")"
   ]
  },
  {
   "cell_type": "code",
   "execution_count": null,
   "id": "3354c7ea-8e0a-429f-b27b-196179fd4dd0",
   "metadata": {},
   "outputs": [],
   "source": [
    "from illufly.types import Runnable, EventBlock\n",
    "from illufly.chat import FakeLLM\n",
    "from illufly.io import log, alog\n",
    "\n",
    "r = FakeLLM(handlers=[alog], sleep=0.1)\n",
    "await r(\"hi\")"
   ]
  },
  {
   "cell_type": "markdown",
   "id": "de683821-b402-4365-91da-69bd48e6cd0c",
   "metadata": {},
   "source": [
    "### 推送 ChatAgent 事件流"
   ]
  },
  {
   "cell_type": "code",
   "execution_count": 11,
   "id": "5175e0b0-b39d-4b2f-8735-cfd061726446",
   "metadata": {},
   "outputs": [
    {
     "name": "stdout",
     "output_type": "stream",
     "text": [
      "{'event': 'info', 'id': 'e5864080a4ba11ef9c7aacde48001122', 'data': {'content': '记住 10 轮对话', 'content_id': 'e58640a8a4ba11ef9c7aacde48001122', 'thread_id': '830809-3767-0000', 'calling_id': 'e5862f5a-a4ba-11ef-9c7a-acde48001122', 'agent_name': 'if1', 'model_name': None, 'created_at': '2024-11-17T16:06:49.342791'}}\n",
      "{'event': 'info', 'id': 'e5867b90a4ba11ef9c7aacde48001122', 'data': {'content': 'I am FakeLLM', 'content_id': 'e5865656a4ba11ef9c7aacde48001122', 'thread_id': '830809-3767-0000', 'calling_id': 'e5862f5a-a4ba-11ef-9c7a-acde48001122', 'agent_name': 'if1', 'model_name': None, 'created_at': '2024-11-17T16:06:49.344319'}}\n",
      "{'event': 'chunk', 'id': 'e5967ea0a4ba11ef9c7aacde48001122', 'data': {'content': 'R', 'content_id': 'e5865656a4ba11ef9c7aacde48001122', 'thread_id': '830809-3767-0000', 'calling_id': 'e5862f5a-a4ba-11ef-9c7a-acde48001122', 'agent_name': 'if1', 'model_name': None, 'created_at': '2024-11-17T16:06:49.449341'}}\n",
      "{'event': 'chunk', 'id': 'e5a66c52a4ba11ef9c7aacde48001122', 'data': {'content': 'e', 'content_id': 'e5865656a4ba11ef9c7aacde48001122', 'thread_id': '830809-3767-0000', 'calling_id': 'e5862f5a-a4ba-11ef-9c7a-acde48001122', 'agent_name': 'if1', 'model_name': None, 'created_at': '2024-11-17T16:06:49.553741'}}\n",
      "{'event': 'chunk', 'id': 'e5b63ca4a4ba11ef9c7aacde48001122', 'data': {'content': 'p', 'content_id': 'e5865656a4ba11ef9c7aacde48001122', 'thread_id': '830809-3767-0000', 'calling_id': 'e5862f5a-a4ba-11ef-9c7a-acde48001122', 'agent_name': 'if1', 'model_name': None, 'created_at': '2024-11-17T16:06:49.657339'}}\n",
      "{'event': 'chunk', 'id': 'e5c63546a4ba11ef9c7aacde48001122', 'data': {'content': 'l', 'content_id': 'e5865656a4ba11ef9c7aacde48001122', 'thread_id': '830809-3767-0000', 'calling_id': 'e5862f5a-a4ba-11ef-9c7a-acde48001122', 'agent_name': 'if1', 'model_name': None, 'created_at': '2024-11-17T16:06:49.761988'}}\n",
      "{'event': 'chunk', 'id': 'e5d646c0a4ba11ef9c7aacde48001122', 'data': {'content': 'y', 'content_id': 'e5865656a4ba11ef9c7aacde48001122', 'thread_id': '830809-3767-0000', 'calling_id': 'e5862f5a-a4ba-11ef-9c7a-acde48001122', 'agent_name': 'if1', 'model_name': None, 'created_at': '2024-11-17T16:06:49.867293'}}\n",
      "{'event': 'chunk', 'id': 'e5e6257ca4ba11ef9c7aacde48001122', 'data': {'content': ' ', 'content_id': 'e5865656a4ba11ef9c7aacde48001122', 'thread_id': '830809-3767-0000', 'calling_id': 'e5862f5a-a4ba-11ef-9c7a-acde48001122', 'agent_name': 'if1', 'model_name': None, 'created_at': '2024-11-17T16:06:49.971406'}}\n",
      "{'event': 'chunk', 'id': 'e5f62116a4ba11ef9c7aacde48001122', 'data': {'content': '>', 'content_id': 'e5865656a4ba11ef9c7aacde48001122', 'thread_id': '830809-3767-0000', 'calling_id': 'e5862f5a-a4ba-11ef-9c7a-acde48001122', 'agent_name': 'if1', 'model_name': None, 'created_at': '2024-11-17T16:06:50.076099'}}\n",
      "{'event': 'chunk', 'id': 'e60642b2a4ba11ef9c7aacde48001122', 'data': {'content': '>', 'content_id': 'e5865656a4ba11ef9c7aacde48001122', 'thread_id': '830809-3767-0000', 'calling_id': 'e5862f5a-a4ba-11ef-9c7a-acde48001122', 'agent_name': 'if1', 'model_name': None, 'created_at': '2024-11-17T16:06:50.181770'}}\n",
      "{'event': 'chunk', 'id': 'e616184aa4ba11ef9c7aacde48001122', 'data': {'content': ' ', 'content_id': 'e5865656a4ba11ef9c7aacde48001122', 'thread_id': '830809-3767-0000', 'calling_id': 'e5862f5a-a4ba-11ef-9c7a-acde48001122', 'agent_name': 'if1', 'model_name': None, 'created_at': '2024-11-17T16:06:50.285670'}}\n",
      "{'event': 'chunk', 'id': 'e6263428a4ba11ef9c7aacde48001122', 'data': {'content': '给', 'content_id': 'e5865656a4ba11ef9c7aacde48001122', 'thread_id': '830809-3767-0000', 'calling_id': 'e5862f5a-a4ba-11ef-9c7a-acde48001122', 'agent_name': 'if1', 'model_name': None, 'created_at': '2024-11-17T16:06:50.391122'}}\n",
      "{'event': 'chunk', 'id': 'e635c668a4ba11ef9c7aacde48001122', 'data': {'content': '我', 'content_id': 'e5865656a4ba11ef9c7aacde48001122', 'thread_id': '830809-3767-0000', 'calling_id': 'e5862f5a-a4ba-11ef-9c7a-acde48001122', 'agent_name': 'if1', 'model_name': None, 'created_at': '2024-11-17T16:06:50.493208'}}\n",
      "{'event': 'chunk', 'id': 'e6457b26a4ba11ef9c7aacde48001122', 'data': {'content': '写', 'content_id': 'e5865656a4ba11ef9c7aacde48001122', 'thread_id': '830809-3767-0000', 'calling_id': 'e5862f5a-a4ba-11ef-9c7a-acde48001122', 'agent_name': 'if1', 'model_name': None, 'created_at': '2024-11-17T16:06:50.596120'}}\n",
      "{'event': 'chunk', 'id': 'e65561c6a4ba11ef9c7aacde48001122', 'data': {'content': '一', 'content_id': 'e5865656a4ba11ef9c7aacde48001122', 'thread_id': '830809-3767-0000', 'calling_id': 'e5862f5a-a4ba-11ef-9c7a-acde48001122', 'agent_name': 'if1', 'model_name': None, 'created_at': '2024-11-17T16:06:50.700337'}}\n",
      "{'event': 'chunk', 'id': 'e664d9e4a4ba11ef9c7aacde48001122', 'data': {'content': '篇', 'content_id': 'e5865656a4ba11ef9c7aacde48001122', 'thread_id': '830809-3767-0000', 'calling_id': 'e5862f5a-a4ba-11ef-9c7a-acde48001122', 'agent_name': 'if1', 'model_name': None, 'created_at': '2024-11-17T16:06:50.801695'}}\n",
      "{'event': 'chunk', 'id': 'e67492c6a4ba11ef9c7aacde48001122', 'data': {'content': '2', 'content_id': 'e5865656a4ba11ef9c7aacde48001122', 'thread_id': '830809-3767-0000', 'calling_id': 'e5862f5a-a4ba-11ef-9c7a-acde48001122', 'agent_name': 'if1', 'model_name': None, 'created_at': '2024-11-17T16:06:50.904751'}}\n",
      "{'event': 'chunk', 'id': 'e683ef6ea4ba11ef9c7aacde48001122', 'data': {'content': '0', 'content_id': 'e5865656a4ba11ef9c7aacde48001122', 'thread_id': '830809-3767-0000', 'calling_id': 'e5862f5a-a4ba-11ef-9c7a-acde48001122', 'agent_name': 'if1', 'model_name': None, 'created_at': '2024-11-17T16:06:51.005430'}}\n",
      "{'event': 'chunk', 'id': 'e6938d16a4ba11ef9c7aacde48001122', 'data': {'content': '0', 'content_id': 'e5865656a4ba11ef9c7aacde48001122', 'thread_id': '830809-3767-0000', 'calling_id': 'e5862f5a-a4ba-11ef-9c7a-acde48001122', 'agent_name': 'if1', 'model_name': None, 'created_at': '2024-11-17T16:06:51.107778'}}\n",
      "{'event': 'chunk', 'id': 'e6a2faa8a4ba11ef9c7aacde48001122', 'data': {'content': '字', 'content_id': 'e5865656a4ba11ef9c7aacde48001122', 'thread_id': '830809-3767-0000', 'calling_id': 'e5862f5a-a4ba-11ef-9c7a-acde48001122', 'agent_name': 'if1', 'model_name': None, 'created_at': '2024-11-17T16:06:51.208835'}}\n",
      "{'event': 'chunk', 'id': 'e6b2980aa4ba11ef9c7aacde48001122', 'data': {'content': '小', 'content_id': 'e5865656a4ba11ef9c7aacde48001122', 'thread_id': '830809-3767-0000', 'calling_id': 'e5862f5a-a4ba-11ef-9c7a-acde48001122', 'agent_name': 'if1', 'model_name': None, 'created_at': '2024-11-17T16:06:51.311222'}}\n",
      "{'event': 'chunk', 'id': 'e6c27fc2a4ba11ef9c7aacde48001122', 'data': {'content': '作', 'content_id': 'e5865656a4ba11ef9c7aacde48001122', 'thread_id': '830809-3767-0000', 'calling_id': 'e5862f5a-a4ba-11ef-9c7a-acde48001122', 'agent_name': 'if1', 'model_name': None, 'created_at': '2024-11-17T16:06:51.415457'}}\n",
      "{'event': 'chunk', 'id': 'e6d265eaa4ba11ef9c7aacde48001122', 'data': {'content': '文', 'content_id': 'e5865656a4ba11ef9c7aacde48001122', 'thread_id': '830809-3767-0000', 'calling_id': 'e5862f5a-a4ba-11ef-9c7a-acde48001122', 'agent_name': 'if1', 'model_name': None, 'created_at': '2024-11-17T16:06:51.519614'}}\n"
     ]
    }
   ],
   "source": [
    "from illufly.chat import FakeLLM\n",
    "\n",
    "llm = FakeLLM(name=\"if1\", handlers=[])\n",
    "llm.create_new_thread()\n",
    "\n",
    "async for b in llm(\"给我写一篇200字小作文\", generator=\"async\", sleep=0.1):\n",
    "    print(b)"
   ]
  },
  {
   "cell_type": "markdown",
   "id": "f1f8e180-9810-41f5-a536-ded3b2da909e",
   "metadata": {},
   "source": [
    "## 嵌套 BaseAgent"
   ]
  },
  {
   "cell_type": "code",
   "execution_count": null,
   "id": "b88d4907-2469-4a6c-83ab-845647e6e0c2",
   "metadata": {},
   "outputs": [],
   "source": [
    "from illufly.types import BaseAgent, PromptTemplate\n",
    "from illufly.chat import ChatQwen\n",
    "from illufly.flow import ReAct\n",
    "\n",
    "def get_city(location: str):\n",
    "    \"\"\"由任意地名或地址描述查询出所在的城市\"\"\"\n",
    "    return \"广州\"\n",
    "\n",
    "def get_weather(city: str):\n",
    "    \"\"\"我可以查询城市的天气情况。city必须是城市名称。\"\"\"\n",
    "    return f'{city}天气不错，一直是大晴天'\n",
    "\n",
    "def booking(request: str):\n",
    "    \"\"\"我可以根据你的需求预订球场\"\"\"\n",
    "    return '我已经帮你预订好了，祝你玩得愉快'\n",
    "\n",
    "store = {}\n",
    "flow = ReAct(\n",
    "    ChatQwen(name=\"react-planner\", tools=[get_city, get_weather, booking])\n",
    ")\n",
    "\n",
    "for b in flow(\"我在鸿蒙公司，帮我查询一下天气情况\", verbose=False, handlers=[], generator=\"sync\"):\n",
    "    print(b)"
   ]
  },
  {
   "cell_type": "markdown",
   "id": "0da1c8dc-d841-4d0b-b0ba-6412c4ece901",
   "metadata": {},
   "source": [
    "## Events History"
   ]
  },
  {
   "cell_type": "code",
   "execution_count": 14,
   "id": "2240c16e-a409-4764-a068-6bbc49f09c8c",
   "metadata": {},
   "outputs": [],
   "source": [
    "from illufly.core.events_history import BaseEventsHistory"
   ]
  },
  {
   "cell_type": "code",
   "execution_count": 20,
   "id": "7d7cd557-c8ea-4e67-8810-bed13ec5d038",
   "metadata": {},
   "outputs": [],
   "source": [
    "h = BaseEventsHistory()"
   ]
  },
  {
   "cell_type": "code",
   "execution_count": 23,
   "id": "e1c30f79-5e32-4762-a49d-c442725dc5eb",
   "metadata": {},
   "outputs": [
    {
     "data": {
      "text/plain": [
       "{'20241117-28722-2213-0000': {'threads': set(), 'callings': {}}}"
      ]
     },
     "execution_count": 23,
     "metadata": {},
     "output_type": "execute_result"
    }
   ],
   "source": [
    "h.store"
   ]
  },
  {
   "cell_type": "code",
   "execution_count": 24,
   "id": "de1953bb-7fe3-49ee-b399-34125ddfb51f",
   "metadata": {},
   "outputs": [
    {
     "data": {
      "text/plain": [
       "'20241117-28722-2213-0000'"
      ]
     },
     "execution_count": 24,
     "metadata": {},
     "output_type": "execute_result"
    }
   ],
   "source": [
    "h.last_events_history_id"
   ]
  },
  {
   "cell_type": "code",
   "execution_count": 25,
   "id": "a55a8624-8fbd-4e01-943f-89d59b1966f0",
   "metadata": {},
   "outputs": [
    {
     "data": {
      "text/plain": [
       "86400"
      ]
     },
     "execution_count": 25,
     "metadata": {},
     "output_type": "execute_result"
    }
   ],
   "source": [
    "24*60*60"
   ]
  },
  {
   "cell_type": "code",
   "execution_count": null,
   "id": "3f68ae9f-b792-4190-9eb9-76397e78da4c",
   "metadata": {},
   "outputs": [],
   "source": []
  }
 ],
 "metadata": {
  "kernelspec": {
   "display_name": "same_to_illufly",
   "language": "python",
   "name": "same_to_illufly"
  },
  "language_info": {
   "codemirror_mode": {
    "name": "ipython",
    "version": 3
   },
   "file_extension": ".py",
   "mimetype": "text/x-python",
   "name": "python",
   "nbconvert_exporter": "python",
   "pygments_lexer": "ipython3",
   "version": "3.10.0"
  }
 },
 "nbformat": 4,
 "nbformat_minor": 5
}
