{
    "cells": [
        {
            "cell_type": "markdown",
            "id": "22926f7a-2a90-48b8-85c4-bd79fceea737",
            "metadata": {},
            "source": [
                "## 为什么使用 Runnable\n",
                "\n",
                "在使用大模型时，我们要考虑的事情很多，\n",
                "基础的考虑包括流式输出、异步处理、Tokens统计，\n",
                "更高级的部份还有记忆管理、工具回调等，\n",
                "illufly 将这些封装为不同层次的类实现，而最基础的基类就是 Runnable。"
            ]
        },
        {
            "cell_type": "markdown",
            "id": "6ff5c14e-941d-4ebd-8524-16bc05c40419",
            "metadata": {},
            "source": [
                "### Runnable 基类实现了 `__call__` 方法\n",
                "\n",
                "Runnable 实现了 `__call__` 方法，这个方法一般不需要重复实现。<br>\n",
                "在 `__call__` 中自动选择调用子类必须实现的抽象函数 `call`。\n",
                "\n",
                "在 python 语法中，一个类实现 `__call__` 方法的好处是，你就可以将类的实例当作方法一样使用。"
            ]
        },
        {
            "cell_type": "code",
            "execution_count": 1,
            "id": "67091ec0-9d6d-4285-823a-625c72a9033e",
            "metadata": {},
            "outputs": [
                {
                    "data": {
                        "text/plain": [
                            "{'name': 'Runnable 名称，默认为 {类名}.{id}',\n",
                            " 'handlers': 'EventBlock 迭代器处理函数列表，默认为 [log]，当调用 call 方法时，会使用该列表中的函数逐个处理 EventBlock',\n",
                            " 'block_processor': '在 yield 之前将 EventBlock 事件转换为新的格式，在 __call__ 方法的输出生成器时使用',\n",
                            " 'threads_group': '如果由 illufly 管理线程池实现并发或异步，则可以指定线程组名称，默认为 DEFAULT',\n",
                            " 'providers': '实例的 consumer_dict 属性由 providers 列表中每个 Runnable 的 provider_dict 属性提供',\n",
                            " 'consumers': '实例的 provider_dict 属性将被 consumers 列表中每个 Runnable 引用',\n",
                            " 'dynamic_providers': '如果实例在不同周期中重复使用，可能会希望先在绑定前先清除旧的绑定，此时就应该使用动态绑定，即执行 bind_provider 时提供 dynamic=True 参数',\n",
                            " 'lazy_binding_map': '有时你无法确定被哪个对象绑定，但能确定绑定映射，此时就可以使用 lazy_binding_map 参数，在绑定时由对方根据该参数进行绑定'}"
                        ]
                    },
                    "execution_count": 1,
                    "metadata": {},
                    "output_type": "execute_result"
                }
            ],
            "source": [
                "from illufly.types import Runnable\n",
                "Runnable.allowed_params()"
            ]
        },
        {
            "cell_type": "code",
            "execution_count": 8,
            "id": "46eb447a-d9ad-4d4c-83e6-233bf1a91bd7",
            "metadata": {},
            "outputs": [
                {
                    "name": "stdout",
                    "output_type": "stream",
                    "text": [
                        "\n",
                        "    对话智能体是基于大模型实现的智能体，可以用于对话生成、对话理解等场景。\n",
                        "\n",
                        "    ChatAgent 类包含一些核心属性，用于保存对话过程中的中间结果，例如：\n",
                        "    - task：用户发起的最初任务，这是 _task 的只读版本\n",
                        "    - final_answer：对话过程中输出的最终答案，这是 _final_answer 的只读版本\n",
                        "    - last_output：对话过程中上次调用输出的结果，这是 _last_output 的只读版本\n",
                        "\n",
                        "    由于 final_answer 必须经过提示语引导，按照约定格式输出，因此可将 T/FA(task/final_answer) 用于自动化提取 Q/A 预料。\n",
                        "    而 T/FA 的提取结果可被保存在 __XP__ 等经验目录中，在其他对话时被当作检索资料调用。\n",
                        "    这就实现了基本的自我进化过程，而「自我进化」也是 illufly 设计的一个核心目标。\n",
                        "    \n"
                    ]
                }
            ],
            "source": [
                "from illufly.types import ChatAgent\n",
                "print(ChatAgent.__doc__)"
            ]
        },
        {
            "cell_type": "code",
            "execution_count": 3,
            "id": "9bdc4dd1-6a7d-4feb-ae5c-d86a9394992c",
            "metadata": {},
            "outputs": [
                {
                    "data": {
                        "text/plain": [
                            "{'model': '模型名称',\n",
                            " 'enable_search': '是否启用搜索',\n",
                            " 'api_key': 'API_KEY',\n",
                            " 'base_url': 'BASE_URL',\n",
                            " 'end_chk': '是否在最后输出一个 EndBlock',\n",
                            " 'fetching_context': '上下文提取标记，可通过修改环境变量 ILLUFLY_CONTEXT_START 和 ILLUFLY_CONTEXT_END 修改默认值',\n",
                            " 'fetching_final_answer': '最终答案提取标记，可通过修改环境变量 ILLUFLY_FINAL_ANSWER_START 和 ILLUFLY_FINAL_ANSWER_END 修改默认值',\n",
                            " 'fetching_output': '输出内容提取标记',\n",
                            " 'func': '用于自定义工具的同步执行函数',\n",
                            " 'async_func': '用于自定义工具的异步执行函数',\n",
                            " 'name': '工具名称',\n",
                            " 'handlers': 'EventBlock 迭代器处理函数列表，默认为 [log]，当调用 call 方法时，会使用该列表中的函数逐个处理 EventBlock',\n",
                            " 'block_processor': '在 yield 之前将 EventBlock 事件转换为新的格式，在 __call__ 方法的输出生成器时使用',\n",
                            " 'threads_group': '如果由 illufly 管理线程池实现并发或异步，则可以指定线程组名称，默认为 DEFAULT',\n",
                            " 'providers': '实例的 consumer_dict 属性由 providers 列表中每个 Runnable 的 provider_dict 属性提供',\n",
                            " 'consumers': '实例的 provider_dict 属性将被 consumers 列表中每个 Runnable 引用',\n",
                            " 'dynamic_providers': '如果实例在不同周期中重复使用，可能会希望先在绑定前先清除旧的绑定，此时就应该使用动态绑定，即执行 bind_provider 时提供 dynamic=True 参数',\n",
                            " 'lazy_binding_map': '有时你无法确定被哪个对象绑定，但能确定绑定映射，此时就可以使用 lazy_binding_map 参数，在绑定时由对方根据该参数进行绑定',\n",
                            " 'description': '工具描述',\n",
                            " 'tool_params': '工具参数',\n",
                            " 'knowledge': '待检索的资料或向量数据库',\n",
                            " 'team': '所属团队',\n",
                            " 'tools': '工具列表',\n",
                            " 'tools_handlers': '工具处理器列表',\n",
                            " 'tools_behavior': '工具处理行为, 包括 parse-execute, parse-execute-continue, parse-continue-execute 三种行为',\n",
                            " 'style': '消息样式',\n",
                            " 'memory': '记忆列表',\n",
                            " 'remember_rounds': '记忆轮数',\n",
                            " 'memory_history': '记忆持久化管理'}"
                        ]
                    },
                    "execution_count": 3,
                    "metadata": {},
                    "output_type": "execute_result"
                }
            ],
            "source": [
                "from illufly.chat import ChatQwen\n",
                "\n",
                "qwen = ChatQwen()\n",
                "ChatQwen.help()"
            ]
        },
        {
            "cell_type": "code",
            "execution_count": 1,
            "id": "811e8583-b32c-4049-9d83-f383a3607643",
            "metadata": {},
            "outputs": [
                {
                    "name": "stdout",
                    "output_type": "stream",
                    "text": [
                        "hi\n"
                    ]
                }
            ],
            "source": [
                "from illufly.types import Runnable\n",
                "\n",
                "class MyRun(Runnable):\n",
                "    def call(*args, **kwargs):\n",
                "        print(\"hi\")\n",
                "\n",
                "r = MyRun()\n",
                "r()"
            ]
        },
        {
            "cell_type": "code",
            "execution_count": 2,
            "id": "379cee0a-f0a7-4922-8785-24b59abcd4c8",
            "metadata": {},
            "outputs": [
                {
                    "data": {
                        "text/plain": [
                            "<MyRun.4415208560>"
                        ]
                    },
                    "execution_count": 2,
                    "metadata": {},
                    "output_type": "execute_result"
                }
            ],
            "source": [
                "r"
            ]
        },
        {
            "cell_type": "markdown",
            "id": "09a3650d-52e3-4bbc-ad1e-7ab976295ef8",
            "metadata": {},
            "source": [
                "这样做有好处，也有限制。\n",
                "\n",
                "**好处：**<br>\n",
                "这很方便，也足够简单，因为你只需要记住 illufly 中的智能体对象只有一个方法，并且你不需要记住名字。\n",
                "\n",
                "**限制：**<br>\n",
                "似乎你的类只能有一个方法被调用。\n",
                "\n",
                "illufly 框架一直在追求「保持简单」。因此，我们坚持使用这种机制，并提供其他解除限制的补救措施。"
            ]
        },
        {
            "cell_type": "markdown",
            "id": "9c946e84-4968-4e5a-9cb0-7ad9b3e38a27",
            "metadata": {},
            "source": [
                "### 实现流交换\n",
                "\n",
                "基于大模型的AI应用中经常要求模型流式返回，我们有一种实现流输出的标准实现。"
            ]
        },
        {
            "cell_type": "code",
            "execution_count": 3,
            "id": "0948c580-ef1d-41f6-8760-15f747a20918",
            "metadata": {},
            "outputs": [
                {
                    "name": "stdout",
                    "output_type": "stream",
                    "text": [
                        "\u001b[33mhi\n",
                        "\u001b[0m\u001b[33millufly!\n",
                        "\u001b[0m"
                    ]
                }
            ],
            "source": [
                "from illufly.types import Runnable\n",
                "\n",
                "class MyRun(Runnable):\n",
                "    def call(*args, **kwargs):\n",
                "        yield \"hi\\n\"\n",
                "        yield \"illufly!\\n\"\n",
                "\n",
                "r = MyRun()\n",
                "r()"
            ]
        },
        {
            "cell_type": "code",
            "execution_count": 4,
            "id": "b9f76a13-9ff4-4780-924c-6c7e31840dbe",
            "metadata": {},
            "outputs": [
                {
                    "name": "stdout",
                    "output_type": "stream",
                    "text": [
                        "\u001b[33m['hi\\n', 'illufly!\\n']\u001b[0m"
                    ]
                }
            ],
            "source": [
                "from illufly.types import Runnable\n",
                "\n",
                "class MyRun(Runnable):\n",
                "    def call(*args, **kwargs):\n",
                "        yield [\"hi\\n\", \"illufly!\\n\"]\n",
                "\n",
                "r = MyRun()\n",
                "r()"
            ]
        },
        {
            "cell_type": "code",
            "execution_count": 5,
            "id": "632dbbac-39e2-4960-bec4-114ad1abf7ea",
            "metadata": {},
            "outputs": [
                {
                    "name": "stdout",
                    "output_type": "stream",
                    "text": [
                        "\u001b[32mhi, \u001b[0m\u001b[32millufly\u001b[0m\u001b[32m!\u001b[0m"
                    ]
                }
            ],
            "source": [
                "from illufly.types import Runnable, EventBlock\n",
                "\n",
                "class MyRun(Runnable):\n",
                "    def call(*args, **kwargs):\n",
                "        yield self.create_event_block(\"chunk\", \"hi, \")\n",
                "        yield self.create_event_block(\"chunk\", \"illufly\")\n",
                "        yield self.create_event_block(\"chunk\", \"!\")\n",
                "        \n",
                "\n",
                "r = MyRun()\n",
                "r()"
            ]
        },
        {
            "cell_type": "markdown",
            "id": "bfe80249-7423-49aa-9039-9ddef6a4e3e9",
            "metadata": {},
            "source": [
                "### 使用异步调用"
            ]
        },
        {
            "cell_type": "code",
            "execution_count": 8,
            "id": "aea5bcf1-e50f-44a6-a8d9-a8f49dc5c7b2",
            "metadata": {},
            "outputs": [
                {
                    "name": "stdout",
                    "output_type": "stream",
                    "text": [
                        "\u001b[32mhi, \u001b[0m\u001b[32millufly\u001b[0m\u001b[32m!\u001b[0m"
                    ]
                }
            ],
            "source": [
                "from illufly.types import Runnable, EventBlock\n",
                "from illufly.io import alog\n",
                "\n",
                "class MyRun(Runnable):\n",
                "    def call(*args, **kwargs):\n",
                "        yield self.create_event_block(\"chunk\", \"hi, \")\n",
                "        yield self.create_event_block(\"chunk\", \"illufly\")\n",
                "        yield self.create_event_block(\"chunk\", \"!\")\n",
                "        \n",
                "\n",
                "r = MyRun()\n",
                "await r(handlers=[alog], verbose=True)"
            ]
        },
        {
            "cell_type": "code",
            "execution_count": 9,
            "id": "b95cb594-353f-429d-9776-63a78dea178c",
            "metadata": {},
            "outputs": [
                {
                    "name": "stdout",
                    "output_type": "stream",
                    "text": [
                        "\u001b[32mI'm,\u001b[0m\u001b[32m a \u001b[0m\u001b[32masync Runnable!\u001b[0m"
                    ]
                }
            ],
            "source": [
                "from illufly.types import Runnable, EventBlock\n",
                "from illufly.io import alog\n",
                "\n",
                "class MyRun(Runnable):\n",
                "    def call(*args, **kwargs):\n",
                "        yield self.create_event_block(\"chunk\", \"hi, \")\n",
                "        yield self.create_event_block(\"chunk\", \"illufly\")\n",
                "        yield self.create_event_block(\"chunk\", \"!\")\n",
                "\n",
                "    async def async_call(*args, **kwargs):\n",
                "        yield self.create_event_block(\"chunk\", \"I'm,\")\n",
                "        yield self.create_event_block(\"chunk\", \" a \")\n",
                "        yield self.create_event_block(\"chunk\", \"async Runnable!\")\n",
                "\n",
                "\n",
                "r = MyRun()\n",
                "await r(handlers=[alog], verbose=True)"
            ]
        },
        {
            "cell_type": "code",
            "execution_count": null,
            "id": "20b51f2b-73b8-4041-96a2-d00610393f68",
            "metadata": {},
            "outputs": [],
            "source": []
        }
    ],
    "metadata": {
        "kernelspec": {
            "display_name": "same_to_illufly",
            "language": "python",
            "name": "same_to_illufly"
        },
        "language_info": {
            "codemirror_mode": {
                "name": "ipython",
                "version": 3
            },
            "file_extension": ".py",
            "mimetype": "text/x-python",
            "name": "python",
            "nbconvert_exporter": "python",
            "pygments_lexer": "ipython3",
            "version": "3.10.0"
        }
    },
    "nbformat": 4,
    "nbformat_minor": 5
}