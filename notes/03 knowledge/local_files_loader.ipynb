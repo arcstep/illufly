{
 "cells": [
  {
   "cell_type": "code",
   "execution_count": 1,
   "metadata": {},
   "outputs": [],
   "source": [
    "from dotenv import load_dotenv, find_dotenv\n",
    "load_dotenv(find_dotenv(), override=True)\n",
    "import os"
   ]
  },
  {
   "cell_type": "code",
   "execution_count": 2,
   "metadata": {},
   "outputs": [],
   "source": [
    "from textlong import idea\n",
    "from langchain_zhipu import ChatZhipuAI\n",
    "from textlong.knowledge import LocalFilesLoader"
   ]
  },
  {
   "cell_type": "markdown",
   "metadata": {},
   "source": [
    "**创建资料：**"
   ]
  },
  {
   "cell_type": "code",
   "execution_count": 3,
   "metadata": {},
   "outputs": [
    {
     "name": "stdout",
     "output_type": "stream",
     "text": [
      "\u001b[32m\n",
      ">->>> Prompt ID: IDEA | python语法摘要.md <<<-<\n",
      "\u001b[0m\n",
      "\u001b[32m-\u001b[0m\u001b[32m Python\u001b[0m\u001b[32m是一种\u001b[0m\u001b[32m高级\u001b[0m\u001b[32m、\u001b[0m\u001b[32m解释\u001b[0m\u001b[32m型\u001b[0m\u001b[32m、\u001b[0m\u001b[32m交互\u001b[0m\u001b[32m式\u001b[0m\u001b[32m、\u001b[0m\u001b[32m面向\u001b[0m\u001b[32m对象的\u001b[0m\u001b[32m编程\u001b[0m\u001b[32m语言\u001b[0m\u001b[32m。\n",
      "-\u001b[0m\u001b[32m \u001b[0m\u001b[32m语法\u001b[0m\u001b[32m简洁\u001b[0m\u001b[32m明了\u001b[0m\u001b[32m，\u001b[0m\u001b[32m使用\u001b[0m\u001b[32m缩\u001b[0m\u001b[32m进来\u001b[0m\u001b[32m表示\u001b[0m\u001b[32m代码\u001b[0m\u001b[32m块\u001b[0m\u001b[32m。\n",
      "-\u001b[0m\u001b[32m 数据\u001b[0m\u001b[32m类型\u001b[0m\u001b[32m包括\u001b[0m\u001b[32m整数\u001b[0m\u001b[32m、\u001b[0m\u001b[32m浮\u001b[0m\u001b[32m点\u001b[0m\u001b[32m数\u001b[0m\u001b[32m、\u001b[0m\u001b[32m字符串\u001b[0m\u001b[32m、\u001b[0m\u001b[32m列表\u001b[0m\u001b[32m、\u001b[0m\u001b[32m元\u001b[0m\u001b[32m组\u001b[0m\u001b[32m、\u001b[0m\u001b[32m集合\u001b[0m\u001b[32m和\u001b[0m\u001b[32m字典\u001b[0m\u001b[32m。\n",
      "-\u001b[0m\u001b[32m 支\u001b[0m\u001b[32m持\u001b[0m\u001b[32m多种\u001b[0m\u001b[32m运算\u001b[0m\u001b[32m符\u001b[0m\u001b[32m，\u001b[0m\u001b[32m包括\u001b[0m\u001b[32m算\u001b[0m\u001b[32m术\u001b[0m\u001b[32m、\u001b[0m\u001b[32m比较\u001b[0m\u001b[32m、\u001b[0m\u001b[32m逻辑\u001b[0m\u001b[32m运算\u001b[0m\u001b[32m符\u001b[0m\u001b[32m。\n",
      "-\u001b[0m\u001b[32m 控\u001b[0m\u001b[32m制\u001b[0m\u001b[32m流\u001b[0m\u001b[32m包括\u001b[0m\u001b[32m`\u001b[0m\u001b[32mif\u001b[0m\u001b[32m`\u001b[0m\u001b[32m、\u001b[0m\u001b[32m`\u001b[0m\u001b[32melif\u001b[0m\u001b[32m`\u001b[0m\u001b[32m和\u001b[0m\u001b[32m`\u001b[0m\u001b[32melse\u001b[0m\u001b[32m`\u001b[0m\u001b[32m条件\u001b[0m\u001b[32m语句\u001b[0m\u001b[32m，\u001b[0m\u001b[32m以及\u001b[0m\u001b[32m`\u001b[0m\u001b[32mfor\u001b[0m\u001b[32m`\u001b[0m\u001b[32m和\u001b[0m\u001b[32m`\u001b[0m\u001b[32mwhile\u001b[0m\u001b[32m`\u001b[0m\u001b[32m循环\u001b[0m\u001b[32m。\n",
      "-\u001b[0m\u001b[32m 函数\u001b[0m\u001b[32m使用\u001b[0m\u001b[32m`\u001b[0m\u001b[32mdef\u001b[0m\u001b[32m`\u001b[0m\u001b[32m关键字\u001b[0m\u001b[32m定义\u001b[0m\u001b[32m，\u001b[0m\u001b[32m支持\u001b[0m\u001b[32m默认\u001b[0m\u001b[32m参数\u001b[0m\u001b[32m、\u001b[0m\u001b[32m任意\u001b[0m\u001b[32m数量\u001b[0m\u001b[32m参数\u001b[0m\u001b[32m和\u001b[0m\u001b[32m关键字\u001b[0m\u001b[32m参数\u001b[0m\u001b[32m。\n",
      "-\u001b[0m\u001b[32m 模\u001b[0m\u001b[32m块\u001b[0m\u001b[32m使用\u001b[0m\u001b[32m`\u001b[0m\u001b[32mimport\u001b[0m\u001b[32m`\u001b[0m\u001b[32m关键字\u001b[0m\u001b[32m导入\u001b[0m\u001b[32m，\u001b[0m\u001b[32m可\u001b[0m\u001b[32m访问\u001b[0m\u001b[32m模块\u001b[0m\u001b[32m内的\u001b[0m\u001b[32m函数\u001b[0m\u001b[32m和\u001b[0m\u001b[32m变量\u001b[0m\u001b[32m。\n",
      "-\u001b[0m\u001b[32m 异\u001b[0m\u001b[32m常\u001b[0m\u001b[32m处理\u001b[0m\u001b[32m使用\u001b[0m\u001b[32m`\u001b[0m\u001b[32mtry\u001b[0m\u001b[32m`\u001b[0m\u001b[32m、\u001b[0m\u001b[32m`\u001b[0m\u001b[32mexcept\u001b[0m\u001b[32m`\u001b[0m\u001b[32m、\u001b[0m\u001b[32m`\u001b[0m\u001b[32mfinally\u001b[0m\u001b[32m`\u001b[0m\u001b[32m和\u001b[0m\u001b[32m`\u001b[0m\u001b[32mraise\u001b[0m\u001b[32m`\u001b[0m\u001b[32m关键字\u001b[0m\u001b[32m。\n",
      "-\u001b[0m\u001b[32m 类\u001b[0m\u001b[32m使用\u001b[0m\u001b[32m`\u001b[0m\u001b[32mclass\u001b[0m\u001b[32m`\u001b[0m\u001b[32m关键字\u001b[0m\u001b[32m定义\u001b[0m\u001b[32m，\u001b[0m\u001b[32m支持\u001b[0m\u001b[32m继承\u001b[0m\u001b[32m和多\u001b[0m\u001b[32m态\u001b[0m\u001b[32m。\n",
      "-\u001b[0m\u001b[32m 标\u001b[0m\u001b[32m准\u001b[0m\u001b[32m库\u001b[0m\u001b[32m庞大\u001b[0m\u001b[32m，\u001b[0m\u001b[32m涵盖\u001b[0m\u001b[32m字符串\u001b[0m\u001b[32m、\u001b[0m\u001b[32m数学\u001b[0m\u001b[32m、\u001b[0m\u001b[32m文件\u001b[0m\u001b[32m操作\u001b[0m\u001b[32m、\u001b[0m\u001b[32m系统\u001b[0m\u001b[32m管理\u001b[0m\u001b[32m等多个\u001b[0m\u001b[32m领域\u001b[0m\u001b[32m。\u001b[0m\u001b[32m\u001b[0m"
     ]
    },
    {
     "data": {
      "text/plain": [
       "Command <IDEA[2024-06-23 19:42:22]: - Python是一种高级、解释型、交互...>"
      ]
     },
     "execution_count": 3,
     "metadata": {},
     "output_type": "execute_result"
    }
   ],
   "source": [
    "idea(\n",
    "    ChatZhipuAI(),\n",
    "    \"帮我摘要总结200字以内的python关键语法\",\n",
    "    output_file=\"python语法摘要.md\",\n",
    "    base_folder=\"python\"\n",
    ")"
   ]
  },
  {
   "cell_type": "code",
   "execution_count": 5,
   "metadata": {},
   "outputs": [
    {
     "name": "stdout",
     "output_type": "stream",
     "text": [
      "\u001b[32m\n",
      ">->>> Prompt ID: IDEA | pandas语法摘要.md <<<-<\n",
      "\u001b[0m\n",
      "\u001b[32mP\u001b[0m\u001b[32mandas\u001b[0m\u001b[32m是一个\u001b[0m\u001b[32m强大的\u001b[0m\u001b[32mPython\u001b[0m\u001b[32m数据分析\u001b[0m\u001b[32m库\u001b[0m\u001b[32m，\u001b[0m\u001b[32m提供了\u001b[0m\u001b[32m快速\u001b[0m\u001b[32m、\u001b[0m\u001b[32m灵活\u001b[0m\u001b[32m和\u001b[0m\u001b[32m表达\u001b[0m\u001b[32m力\u001b[0m\u001b[32m强的\u001b[0m\u001b[32m数据\u001b[0m\u001b[32m结构\u001b[0m\u001b[32m，\u001b[0m\u001b[32m用于\u001b[0m\u001b[32m处理\u001b[0m\u001b[32m结构\u001b[0m\u001b[32m化\u001b[0m\u001b[32m数据\u001b[0m\u001b[32m。\u001b[0m\u001b[32m以下是\u001b[0m\u001b[32m关键\u001b[0m\u001b[32m语法\u001b[0m\u001b[32m摘要\u001b[0m\u001b[32m：\n",
      "\n",
      "-\u001b[0m\u001b[32m **\u001b[0m\u001b[32m导入\u001b[0m\u001b[32m库\u001b[0m\u001b[32m**\u001b[0m\u001b[32m：\n",
      " \u001b[0m\u001b[32m `\u001b[0m\u001b[32mimport\u001b[0m\u001b[32m pandas\u001b[0m\u001b[32m as\u001b[0m\u001b[32m pd\u001b[0m\u001b[32m`\n",
      "\n",
      "-\u001b[0m\u001b[32m **\u001b[0m\u001b[32m创建\u001b[0m\u001b[32m数据\u001b[0m\u001b[32m结构\u001b[0m\u001b[32m**\u001b[0m\u001b[32m：\n",
      " \u001b[0m\u001b[32m `\u001b[0m\u001b[32mdf\u001b[0m\u001b[32m =\u001b[0m\u001b[32m pd\u001b[0m\u001b[32m.DataFrame\u001b[0m\u001b[32m()\u001b[0m\u001b[32m`\n",
      " \u001b[0m\u001b[32m `\u001b[0m\u001b[32ms\u001b[0m\u001b[32m =\u001b[0m\u001b[32m pd\u001b[0m\u001b[32m.Series\u001b[0m\u001b[32m()\u001b[0m\u001b[32m`\n",
      "\n",
      "-\u001b[0m\u001b[32m **\u001b[0m\u001b[32m读取\u001b[0m\u001b[32m数据\u001b[0m\u001b[32m**\u001b[0m\u001b[32m：\n",
      " \u001b[0m\u001b[32m `\u001b[0m\u001b[32mpd\u001b[0m\u001b[32m.read\u001b[0m\u001b[32m_csv\u001b[0m\u001b[32m('\u001b[0m\u001b[32mfile\u001b[0m\u001b[32m.csv\u001b[0m\u001b[32m')\u001b[0m\u001b[32m`\n",
      " \u001b[0m\u001b[32m `\u001b[0m\u001b[32mpd\u001b[0m\u001b[32m.read\u001b[0m\u001b[32m_excel\u001b[0m\u001b[32m('\u001b[0m\u001b[32mfile\u001b[0m\u001b[32m.xlsx\u001b[0m\u001b[32m')\u001b[0m\u001b[32m`\n",
      "\n",
      "-\u001b[0m\u001b[32m **\u001b[0m\u001b[32m选择\u001b[0m\u001b[32m数据\u001b[0m\u001b[32m**\u001b[0m\u001b[32m：\n",
      " \u001b[0m\u001b[32m `\u001b[0m\u001b[32mdf\u001b[0m\u001b[32m['\u001b[0m\u001b[32mcolumn\u001b[0m\u001b[32m']\u001b[0m\u001b[32m`\n",
      " \u001b[0m\u001b[32m `\u001b[0m\u001b[32mdf\u001b[0m\u001b[32m.loc\u001b[0m\u001b[32m[\u001b[0m\u001b[32mrows\u001b[0m\u001b[32m,\u001b[0m\u001b[32m columns\u001b[0m\u001b[32m]\u001b[0m\u001b[32m`\n",
      " \u001b[0m\u001b[32m `\u001b[0m\u001b[32mdf\u001b[0m\u001b[32m.iloc\u001b[0m\u001b[32m[\u001b[0m\u001b[32mrows\u001b[0m\u001b[32m,\u001b[0m\u001b[32m columns\u001b[0m\u001b[32m]\u001b[0m\u001b[32m`\n",
      "\n",
      "-\u001b[0m\u001b[32m **\u001b[0m\u001b[32m筛选\u001b[0m\u001b[32m数据\u001b[0m\u001b[32m**\u001b[0m\u001b[32m：\n",
      " \u001b[0m\u001b[32m `\u001b[0m\u001b[32mdf\u001b[0m\u001b[32m[df\u001b[0m\u001b[32m['\u001b[0m\u001b[32mcolumn\u001b[0m\u001b[32m']\u001b[0m\u001b[32m >\u001b[0m\u001b[32m value\u001b[0m\u001b[32m]\u001b[0m\u001b[32m`\n",
      "\n",
      "-\u001b[0m\u001b[32m **\u001b[0m\u001b[32m数据\u001b[0m\u001b[32m操作\u001b[0m\u001b[32m**\u001b[0m\u001b[32m：\n",
      " \u001b[0m\u001b[32m `\u001b[0m\u001b[32mdf\u001b[0m\u001b[32m['\u001b[0m\u001b[32mnew\u001b[0m\u001b[32m_column\u001b[0m\u001b[32m']\u001b[0m\u001b[32m =\u001b[0m\u001b[32m df\u001b[0m\u001b[32m['\u001b[0m\u001b[32mcolumn\u001b[0m\u001b[32m']\u001b[0m\u001b[32m *\u001b[0m\u001b[32m value\u001b[0m\u001b[32m`\n",
      " \u001b[0m\u001b[32m `\u001b[0m\u001b[32mdf\u001b[0m\u001b[32m.drop\u001b[0m\u001b[32m('\u001b[0m\u001b[32mcolumn\u001b[0m\u001b[32m',\u001b[0m\u001b[32m axis\u001b[0m\u001b[32m=\u001b[0m\u001b[32m1\u001b[0m\u001b[32m)\u001b[0m\u001b[32m`\n",
      "\n",
      "-\u001b[0m\u001b[32m **\u001b[0m\u001b[32m缺失\u001b[0m\u001b[32m值\u001b[0m\u001b[32m处理\u001b[0m\u001b[32m**\u001b[0m\u001b[32m：\n",
      " \u001b[0m\u001b[32m `\u001b[0m\u001b[32mdf\u001b[0m\u001b[32m.is\u001b[0m\u001b[32mnull\u001b[0m\u001b[32m()\u001b[0m\u001b[32m`\n",
      " \u001b[0m\u001b[32m `\u001b[0m\u001b[32mdf\u001b[0m\u001b[32m.drop\u001b[0m\u001b[32mna\u001b[0m\u001b[32m()\u001b[0m\u001b[32m`\n",
      " \u001b[0m\u001b[32m `\u001b[0m\u001b[32mdf\u001b[0m\u001b[32m.fill\u001b[0m\u001b[32mna\u001b[0m\u001b[32m(value\u001b[0m\u001b[32m)\u001b[0m\u001b[32m`\n",
      "\n",
      "-\u001b[0m\u001b[32m **\u001b[0m\u001b[32m描述\u001b[0m\u001b[32m统计\u001b[0m\u001b[32m**\u001b[0m\u001b[32m：\n",
      " \u001b[0m\u001b[32m `\u001b[0m\u001b[32mdf\u001b[0m\u001b[32m.describe\u001b[0m\u001b[32m()\u001b[0m\u001b[32m`\n",
      " \u001b[0m\u001b[32m `\u001b[0m\u001b[32mdf\u001b[0m\u001b[32m.mean\u001b[0m\u001b[32m()\u001b[0m\u001b[32m`\n",
      " \u001b[0m\u001b[32m `\u001b[0m\u001b[32mdf\u001b[0m\u001b[32m.c\u001b[0m\u001b[32morr\u001b[0m\u001b[32m()\u001b[0m\u001b[32m`\n",
      "\n",
      "-\u001b[0m\u001b[32m **\u001b[0m\u001b[32m分组\u001b[0m\u001b[32m聚合\u001b[0m\u001b[32m**\u001b[0m\u001b[32m：\n",
      " \u001b[0m\u001b[32m `\u001b[0m\u001b[32mdf\u001b[0m\u001b[32m.groupby\u001b[0m\u001b[32m('\u001b[0m\u001b[32mcolumn\u001b[0m\u001b[32m').\u001b[0m\u001b[32msum\u001b[0m\u001b[32m()\u001b[0m\u001b[32m`\n",
      " \u001b[0m\u001b[32m `\u001b[0m\u001b[32mdf\u001b[0m\u001b[32m.groupby\u001b[0m\u001b[32m('\u001b[0m\u001b[32mcolumn\u001b[0m\u001b[32m').\u001b[0m\u001b[32magg\u001b[0m\u001b[32m({'\u001b[0m\u001b[32manother\u001b[0m\u001b[32m_column\u001b[0m\u001b[32m':\u001b[0m\u001b[32m '\u001b[0m\u001b[32mmean\u001b[0m\u001b[32m'})\u001b[0m\u001b[32m`\n",
      "\n",
      "-\u001b[0m\u001b[32m **\u001b[0m\u001b[32m排序\u001b[0m\u001b[32m**\u001b[0m\u001b[32m：\n",
      " \u001b[0m\u001b[32m `\u001b[0m\u001b[32mdf\u001b[0m\u001b[32m.sort\u001b[0m\u001b[32m_values\u001b[0m\u001b[32m(by\u001b[0m\u001b[32m='\u001b[0m\u001b[32mcolumn\u001b[0m\u001b[32m')\u001b[0m\u001b[32m`\n",
      "\n",
      "-\u001b[0m\u001b[32m **\u001b[0m\u001b[32m索引\u001b[0m\u001b[32m重\u001b[0m\u001b[32m置\u001b[0m\u001b[32m**\u001b[0m\u001b[32m：\n",
      " \u001b[0m\u001b[32m `\u001b[0m\u001b[32mdf\u001b[0m\u001b[32m.reset\u001b[0m\u001b[32m_index\u001b[0m\u001b[32m(drop\u001b[0m\u001b[32m=True\u001b[0m\u001b[32m)\u001b[0m\u001b[32m`\n",
      "\n",
      "-\u001b[0m\u001b[32m **\u001b[0m\u001b[32m数据\u001b[0m\u001b[32m合并\u001b[0m\u001b[32m**\u001b[0m\u001b[32m：\n",
      " \u001b[0m\u001b[32m `\u001b[0m\u001b[32mpd\u001b[0m\u001b[32m.concat\u001b[0m\u001b[32m([\u001b[0m\u001b[32mdf\u001b[0m\u001b[32m1\u001b[0m\u001b[32m,\u001b[0m\u001b[32m df\u001b[0m\u001b[32m2\u001b[0m\u001b[32m])\u001b[0m\u001b[32m`\n",
      " \u001b[0m\u001b[32m `\u001b[0m\u001b[32mdf\u001b[0m\u001b[32m1\u001b[0m\u001b[32m.merge\u001b[0m\u001b[32m(df\u001b[0m\u001b[32m2\u001b[0m\u001b[32m,\u001b[0m\u001b[32m on\u001b[0m\u001b[32m='\u001b[0m\u001b[32mcolumn\u001b[0m\u001b[32m')\u001b[0m\u001b[32m`\n",
      "\n",
      "以上\u001b[0m\u001b[32m语法\u001b[0m\u001b[32m涵盖了\u001b[0m\u001b[32mP\u001b[0m\u001b[32mandas\u001b[0m\u001b[32m的基本\u001b[0m\u001b[32m操作\u001b[0m\u001b[32m，\u001b[0m\u001b[32m是\u001b[0m\u001b[32m进行\u001b[0m\u001b[32m数据分析\u001b[0m\u001b[32m的重要\u001b[0m\u001b[32m工具\u001b[0m\u001b[32m。\u001b[0m\u001b[32m\u001b[0m"
     ]
    },
    {
     "data": {
      "text/plain": [
       "Command <IDEA[2024-06-23 19:21:32]: Pandas是一个强大的Python数据...>"
      ]
     },
     "execution_count": 5,
     "metadata": {},
     "output_type": "execute_result"
    }
   ],
   "source": [
    "idea(\n",
    "    ChatZhipuAI(),\n",
    "    \"帮我摘要总结200字以内的pandas关键语法\",\n",
    "    output_file=\"pandas语法摘要.md\",\n",
    "    base_folder=\"python\"\n",
    ")"
   ]
  },
  {
   "cell_type": "markdown",
   "metadata": {},
   "source": [
    "# 1 加载资料文档"
   ]
  },
  {
   "cell_type": "markdown",
   "metadata": {},
   "source": [
    "## 加载 MD 文档"
   ]
  },
  {
   "cell_type": "code",
   "execution_count": 5,
   "metadata": {},
   "outputs": [
    {
     "data": {
      "text/plain": [
       "['python/pandas语法摘要.md', 'python/python语法摘要.md']"
      ]
     },
     "execution_count": 5,
     "metadata": {},
     "output_type": "execute_result"
    }
   ],
   "source": [
    "folder = LocalFilesLoader(\"python\")\n",
    "folder.get_files()"
   ]
  },
  {
   "cell_type": "code",
   "execution_count": 6,
   "metadata": {},
   "outputs": [
    {
     "name": "stdout",
     "output_type": "stream",
     "text": [
      ">>>>>>>>>>>>>>>>>>>> python/pandas语法摘要.md\n",
      "Pandas是一个强大的Python数据分析库，提供了快速、灵活和表达力强的数据结构，用于处理结构化数据。以下是关键语法摘要：\n",
      "\n",
      "\n",
      "\n",
      "\n",
      "- **导入库**：\n",
      "  `import pandas as pd`\n",
      "\n",
      "- **创建数据结构**：\n",
      "  `df = pd.DataFrame()`\n",
      "  `s = pd.Series()`\n",
      "\n",
      "- **读取数据**：\n",
      "  `pd.read_csv('file.csv')`\n",
      "  `pd.read_excel('file.xlsx')`\n",
      "\n",
      "- **选择数据**：\n",
      "  `df['column']`\n",
      "  `df.loc[rows, columns]`\n",
      "  `df.iloc[rows, columns]`\n",
      "\n",
      "- **筛选数据**：\n",
      "  `df[df['column'] &gt; value]`\n",
      "\n",
      "- **数据操作**：\n",
      "  `df['new_column'] = df['column'] * value`\n",
      "  `df.drop('column', axis=1)`\n",
      "\n",
      "- **缺失值处理**：\n",
      "  `df.isnull()`\n",
      "  `df.dropna()`\n",
      "  `df.fillna(value)`\n",
      "\n",
      "- **描述统计**：\n",
      "  `df.describe()`\n",
      "  `df.mean()`\n",
      "  `df.corr()`\n",
      "\n",
      "- **分组聚合**：\n",
      "  `df.groupby('column').sum()`\n",
      "  `df.groupby('column').agg({'another_column': 'mean'})`\n",
      "\n",
      "- **排序**：\n",
      "  `df.sort_values(by='column')`\n",
      "\n",
      "- **索引重置**：\n",
      "  `df.reset_index(drop=True)`\n",
      "\n",
      "- **数据合并**：\n",
      "  `pd.concat([df1, df2])`\n",
      "  `df1.merge(df2, on='column')`\n",
      "\n",
      "\n",
      "以上语法涵盖了Pandas的基本操作，是进行数据分析的重要工具。\n",
      ">>>>>>>>>>>>>>>>>>>> python/python语法摘要.md\n",
      "- Python是一种高级、解释型、交互式、面向对象的编程语言。\n",
      "- 语法简洁明了，使用缩进来表示代码块。\n",
      "- 数据类型包括整数、浮点数、字符串、列表、元组、集合和字典。\n",
      "- 支持多种运算符，包括算术、比较、逻辑运算符。\n",
      "- 控制流包括`if`、`elif`和`else`条件语句，以及`for`和`while`循环。\n",
      "- 函数使用`def`关键字定义，支持默认参数、任意数量参数和关键字参数。\n",
      "- 模块使用`import`关键字导入，可访问模块内的函数和变量。\n",
      "- 异常处理使用`try`、`except`、`finally`和`raise`关键字。\n",
      "- 类使用`class`关键字定义，支持继承和多态。\n",
      "- 标准库庞大，涵盖字符串、数学、文件操作、系统管理等多个领域。\n"
     ]
    }
   ],
   "source": [
    "for x in folder.load():\n",
    "    print(\">\"*20, x.metadata['source'])\n",
    "    print(x.page_content)"
   ]
  },
  {
   "cell_type": "markdown",
   "metadata": {},
   "source": [
    "## 过滤文档"
   ]
  },
  {
   "cell_type": "code",
   "execution_count": 12,
   "metadata": {},
   "outputs": [
    {
     "data": {
      "text/plain": [
       "['python/pandas语法摘要.md']"
      ]
     },
     "execution_count": 12,
     "metadata": {},
     "output_type": "execute_result"
    }
   ],
   "source": [
    "fl = LocalFilesLoader(\"python\", path_regex=\"pandas\")\n",
    "fl.get_files()"
   ]
  },
  {
   "cell_type": "code",
   "execution_count": 14,
   "metadata": {},
   "outputs": [
    {
     "data": {
      "text/plain": [
       "[Document(page_content=\"Pandas是一个强大的Python数据分析库，提供了快速、灵活和表达力强的数据结构，用于处理结构化数据。以下是关键语法摘要：\\n\\n\\n\\n\\n- **导入库**：\\n  `import pandas as pd`\\n\\n- **创建数据结构**：\\n  `df = pd.DataFrame()`\\n  `s = pd.Series()`\\n\\n- **读取数据**：\\n  `pd.read_csv('file.csv')`\\n  `pd.read_excel('file.xlsx')`\\n\\n- **选择数据**：\\n  `df['column']`\\n  `df.loc[rows, columns]`\\n  `df.iloc[rows, columns]`\\n\\n- **筛选数据**：\\n  `df[df['column'] &gt; value]`\\n\\n- **数据操作**：\\n  `df['new_column'] = df['column'] * value`\\n  `df.drop('column', axis=1)`\\n\\n- **缺失值处理**：\\n  `df.isnull()`\\n  `df.dropna()`\\n  `df.fillna(value)`\\n\\n- **描述统计**：\\n  `df.describe()`\\n  `df.mean()`\\n  `df.corr()`\\n\\n- **分组聚合**：\\n  `df.groupby('column').sum()`\\n  `df.groupby('column').agg({'another_column': 'mean'})`\\n\\n- **排序**：\\n  `df.sort_values(by='column')`\\n\\n- **索引重置**：\\n  `df.reset_index(drop=True)`\\n\\n- **数据合并**：\\n  `pd.concat([df1, df2])`\\n  `df1.merge(df2, on='column')`\\n\\n\\n以上语法涵盖了Pandas的基本操作，是进行数据分析的重要工具。\", metadata={'source': 'python/pandas语法摘要.md'})]"
      ]
     },
     "execution_count": 14,
     "metadata": {},
     "output_type": "execute_result"
    }
   ],
   "source": [
    "LocalFilesLoader(\"python\", included_prefixes=[\"pandas\"]).load()"
   ]
  },
  {
   "cell_type": "markdown",
   "metadata": {},
   "source": [
    "## 加载A文档"
   ]
  },
  {
   "cell_type": "code",
   "execution_count": 6,
   "metadata": {},
   "outputs": [
    {
     "data": {
      "text/plain": [
       "{'answer': ['北京科技有限公司\\n负责人：张伟\\n电子邮箱：xiaoming123@example.com\\n简介：北京科技有限公司成立于2005年，是一家专注于研发、生产和销售高科技产品的企业。公司以“创新、务实、共赢”为经营理念，为广大用户提供高品质、高性能的产品和解决方案。主要产品包括智能硬件、物联网设备、大数据服务等。在张伟的带领下，公司不断追求技术创新，赢得了市场的认可和客户的信赖。']}"
      ]
     },
     "execution_count": 6,
     "metadata": {},
     "output_type": "execute_result"
    }
   ],
   "source": [
    "fl = LocalFilesQALoader(\"./notes/documents\", included_prefixes=[\"docs/供应商资料/\"], extensions=[\"txt\"], answer_filenames=[\"answer.txt\"])\n",
    "doc = fl.load()[0]\n",
    "source = doc.metadata['source']\n",
    "\n",
    "fl.get_answer(source)"
   ]
  },
  {
   "cell_type": "code",
   "execution_count": 9,
   "metadata": {},
   "outputs": [
    {
     "data": {
      "text/plain": [
       "[Document(page_content='北京科技有限公司', metadata={'source': '/Users/xuehongwei/github/langchain_chinese/notes/documents/docs/供应商资料/001/input.txt'}),\n",
       " Document(page_content='深圳创新科技有限公司', metadata={'source': '/Users/xuehongwei/github/langchain_chinese/notes/documents/docs/供应商资料/003/input.txt'}),\n",
       " Document(page_content='上海音响有限公司', metadata={'source': '/Users/xuehongwei/github/langchain_chinese/notes/documents/docs/供应商资料/002/input.txt'})]"
      ]
     },
     "execution_count": 9,
     "metadata": {},
     "output_type": "execute_result"
    }
   ],
   "source": [
    "fl = LocalFilesQALoader(\"./notes/documents\", included_prefixes=[\"docs/供应商资料/\"], extensions=[\"txt\"], answer_filenames=[\"answer.txt\", \"example.txt\"])\n",
    "docs = fl.load()\n",
    "docs"
   ]
  },
  {
   "cell_type": "code",
   "execution_count": 10,
   "metadata": {},
   "outputs": [
    {
     "data": {
      "text/plain": [
       "{'answer': ['上海音响有限公司\\n负责人：李芳\\n电子邮箱：lihua456@example.org\\n简介：上海音响有限公司成立于1998年，是一家专业从事音响设备研发、生产和销售的高新技术企业。公司秉承“品质第一，客户至上”的原则，不断引进国际先进技术，提升产品质量和性能。在李芳的领导下，公司凭借卓越的音质、稳定的性能和优质的服务，赢得了国内外客户的广泛好评。']}"
      ]
     },
     "execution_count": 10,
     "metadata": {},
     "output_type": "execute_result"
    }
   ],
   "source": [
    "fl.get_answers(docs[-1:])"
   ]
  },
  {
   "cell_type": "code",
   "execution_count": 11,
   "metadata": {},
   "outputs": [
    {
     "data": {
      "text/plain": [
       "{'answer': ['上海音响有限公司\\n负责人：李芳\\n电子邮箱：lihua456@example.org\\n简介：上海音响有限公司成立于1998年，是一家专业从事音响设备研发、生产和销售的高新技术企业。公司秉承“品质第一，客户至上”的原则，不断引进国际先进技术，提升产品质量和性能。在李芳的领导下，公司凭借卓越的音质、稳定的性能和优质的服务，赢得了国内外客户的广泛好评。']}"
      ]
     },
     "execution_count": 11,
     "metadata": {},
     "output_type": "execute_result"
    }
   ],
   "source": [
    "fl.get_answers(docs, answer_keys=[\"answer\"])"
   ]
  },
  {
   "cell_type": "markdown",
   "metadata": {},
   "source": [
    "# 2 使用Q文档做RAG应用"
   ]
  },
  {
   "cell_type": "code",
   "execution_count": 50,
   "metadata": {},
   "outputs": [
    {
     "name": "stdout",
     "output_type": "stream",
     "text": [
      "/Users/xuehongwei/github/langchain_chinese/notes/documents/docs/供应商资料/001/input.txt 8\n",
      "/Users/xuehongwei/github/langchain_chinese/notes/documents/docs/供应商资料/003/input.txt 10\n",
      "/Users/xuehongwei/github/langchain_chinese/notes/documents/docs/供应商资料/002/input.txt 8\n"
     ]
    }
   ],
   "source": [
    "local_qa = LocalFilesQALoader(\"./notes/documents\", included_prefixes=[\"docs/供应商资料/\"], answer_filenames=[\"answer.txt\", \"example.txt\"])\n",
    "all_docs = local_qa.load()\n",
    "\n",
    "for chunk in all_docs[0:10]:\n",
    "  print(chunk.metadata['source'], len(chunk.page_content))"
   ]
  },
  {
   "cell_type": "code",
   "execution_count": 51,
   "metadata": {},
   "outputs": [
    {
     "data": {
      "text/plain": [
       "Document(page_content='北京科技有限公司', metadata={'source': '/Users/xuehongwei/github/langchain_chinese/notes/documents/docs/供应商资料/001/input.txt'})"
      ]
     },
     "execution_count": 51,
     "metadata": {},
     "output_type": "execute_result"
    }
   ],
   "source": [
    "all_docs[0]"
   ]
  },
  {
   "cell_type": "markdown",
   "metadata": {},
   "source": [
    "## 切分文本"
   ]
  },
  {
   "cell_type": "code",
   "execution_count": 52,
   "metadata": {},
   "outputs": [
    {
     "data": {
      "text/plain": [
       "[Document(page_content='北京科技有限公司', metadata={'source': '/Users/xuehongwei/github/langchain_chinese/notes/documents/docs/供应商资料/001/input.txt'}),\n",
       " Document(page_content='深圳创新科技有限公司', metadata={'source': '/Users/xuehongwei/github/langchain_chinese/notes/documents/docs/供应商资料/003/input.txt'}),\n",
       " Document(page_content='上海音响有限公司', metadata={'source': '/Users/xuehongwei/github/langchain_chinese/notes/documents/docs/供应商资料/002/input.txt'})]"
      ]
     },
     "execution_count": 52,
     "metadata": {},
     "output_type": "execute_result"
    }
   ],
   "source": [
    "from langchain.text_splitter import RecursiveCharacterTextSplitter\n",
    "\n",
    "text_splitter = RecursiveCharacterTextSplitter(\n",
    "    chunk_size = 2000,\n",
    "    chunk_overlap = 200,\n",
    "    length_function = len,\n",
    "    is_separator_regex = False,\n",
    ")\n",
    "chunks = text_splitter.split_documents(all_docs)\n",
    "chunks"
   ]
  },
  {
   "cell_type": "code",
   "execution_count": null,
   "metadata": {},
   "outputs": [],
   "source": []
  }
 ],
 "metadata": {
  "kernelspec": {
   "display_name": "langchani-book-py3.10-ipykernel",
   "language": "python",
   "name": "langchani-book-py3.10-ipykernel"
  },
  "language_info": {
   "codemirror_mode": {
    "name": "ipython",
    "version": 3
   },
   "file_extension": ".py",
   "mimetype": "text/x-python",
   "name": "python",
   "nbconvert_exporter": "python",
   "pygments_lexer": "ipython3",
   "version": "3.10.0"
  }
 },
 "nbformat": 4,
 "nbformat_minor": 4
}
