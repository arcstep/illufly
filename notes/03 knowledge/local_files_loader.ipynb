{
 "cells": [
  {
   "cell_type": "code",
   "execution_count": 1,
   "metadata": {},
   "outputs": [],
   "source": [
    "from dotenv import load_dotenv, find_dotenv\n",
    "load_dotenv(find_dotenv(), override=True)\n",
    "import os"
   ]
  },
  {
   "cell_type": "code",
   "execution_count": 2,
   "metadata": {},
   "outputs": [],
   "source": [
    "from textlong import idea\n",
    "from langchain_zhipu import ChatZhipuAI, ZhipuAIEmbeddings\n",
    "from textlong.knowledge import LocalFilesLoader"
   ]
  },
  {
   "cell_type": "markdown",
   "metadata": {},
   "source": [
    "# 创建资料"
   ]
  },
  {
   "cell_type": "markdown",
   "metadata": {},
   "source": [
    "## python语法摘要.md"
   ]
  },
  {
   "cell_type": "code",
   "execution_count": null,
   "metadata": {},
   "outputs": [],
   "source": [
    "idea(\n",
    "    ChatZhipuAI(),\n",
    "    \"帮我摘要总结200字以内的python关键语法\",\n",
    "    output_file=\"python语法摘要.md\",\n",
    "    base_folder=\"python\"\n",
    ")"
   ]
  },
  {
   "cell_type": "markdown",
   "metadata": {},
   "source": [
    "## pandas语法摘要.md"
   ]
  },
  {
   "cell_type": "code",
   "execution_count": null,
   "metadata": {
    "scrolled": true
   },
   "outputs": [],
   "source": [
    "idea(\n",
    "    ChatZhipuAI(),\n",
    "    \"帮我摘要总结200字以内的pandas关键语法\",\n",
    "    output_file=\"pandas语法摘要.md\",\n",
    "    base_folder=\"python\"\n",
    ")"
   ]
  },
  {
   "cell_type": "markdown",
   "metadata": {},
   "source": [
    "# 加载资料文档"
   ]
  },
  {
   "cell_type": "markdown",
   "metadata": {},
   "source": [
    "## 按照 markdown 加载"
   ]
  },
  {
   "cell_type": "code",
   "execution_count": 3,
   "metadata": {},
   "outputs": [
    {
     "data": {
      "text/plain": [
       "'/Users/xuehongwei/github/textlong/notes/03 knowledge'"
      ]
     },
     "execution_count": 3,
     "metadata": {},
     "output_type": "execute_result"
    }
   ],
   "source": [
    "%pwd"
   ]
  },
  {
   "cell_type": "code",
   "execution_count": 5,
   "metadata": {},
   "outputs": [
    {
     "data": {
      "text/plain": [
       "['python/pandas语法摘要.md', 'python/python语法摘要.md']"
      ]
     },
     "execution_count": 5,
     "metadata": {},
     "output_type": "execute_result"
    }
   ],
   "source": [
    "kg = LocalFilesLoader(\"python\")\n",
    "kg.get_files()"
   ]
  },
  {
   "cell_type": "code",
   "execution_count": 6,
   "metadata": {},
   "outputs": [
    {
     "name": "stdout",
     "output_type": "stream",
     "text": [
      ">->>> python/pandas语法摘要.md\n",
      ">->>> python/python语法摘要.md\n"
     ]
    }
   ],
   "source": [
    "for x in kg.load():\n",
    "    print(\">->>>\", x.metadata['source'])\n",
    "    # print(x.page_content)"
   ]
  },
  {
   "cell_type": "markdown",
   "metadata": {},
   "source": [
    "## 过滤文档"
   ]
  },
  {
   "cell_type": "code",
   "execution_count": 7,
   "metadata": {},
   "outputs": [
    {
     "data": {
      "text/plain": [
       "['python/pandas语法摘要.md']"
      ]
     },
     "execution_count": 7,
     "metadata": {},
     "output_type": "execute_result"
    }
   ],
   "source": [
    "fl = LocalFilesLoader(\"python\", path_regex=\"pandas\")\n",
    "fl.get_files()"
   ]
  },
  {
   "cell_type": "markdown",
   "metadata": {},
   "source": [
    "## 按一般切分规则加载文档"
   ]
  },
  {
   "cell_type": "code",
   "execution_count": 3,
   "metadata": {},
   "outputs": [
    {
     "data": {
      "text/plain": [
       "[Document(page_content=\"Pandas是一个强大的Python数据分析库，提供了快速、灵活和表达力强的数据结构，用于处理结构化数据。以下是关键语法摘要：\\n\\n\\n\\n\\n- **导入库**：\\n  `import pandas as pd`\\n\\n- **创建数据结构**：\\n  `df = pd.DataFrame()`\\n  `s = pd.Series()`\\n\\n- **读取数据**：\\n  `pd.read_csv('file.csv')`\\n  `pd.read_excel('file.xlsx')`\\n\\n- **选择数据**：\\n  `df['column']`\\n  `df.loc[rows, columns]`\\n  `df.iloc[rows, columns]`\\n\\n- **筛选数据**：\\n  `df[df['column'] &gt; value]`\\n\\n- **数据操作**：\\n  `df['new_column'] = df['column'] * value`\\n  `df.drop('column', axis=1)`\\n\\n- **缺失值处理**：\\n  `df.isnull()`\\n  `df.dropna()`\\n  `df.fillna(value)`\\n\\n- **描述统计**：\\n  `df.describe()`\\n  `df.mean()`\\n  `df.corr()`\\n\\n- **分组聚合**：\\n  `df.groupby('column').sum()`\\n  `df.groupby('column').agg({'another_column': 'mean'})`\\n\\n- **排序**：\\n  `df.sort_values(by='column')`\\n\\n- **索引重置**：\\n  `df.reset_index(drop=True)`\\n\\n- **数据合并**：\\n  `pd.concat([df1, df2])`\\n  `df1.merge(df2, on='column')`\\n\\n\\n以上语法涵盖了Pandas的基本操作，是进行数据分析的重要工具。\", metadata={'source': 'python/pandas语法摘要.md'}),\n",
       " Document(page_content='- Python是一种高级、解释型、交互式、面向对象的编程语言。\\n- 语法简洁明了，使用缩进来表示代码块。\\n- 数据类型包括整数、浮点数、字符串、列表、元组、集合和字典。\\n- 支持多种运算符，包括算术、比较、逻辑运算符。\\n- 控制流包括`if`、`elif`和`else`条件语句，以及`for`和`while`循环。\\n- 函数使用`def`关键字定义，支持默认参数、任意数量参数和关键字参数。\\n- 模块使用`import`关键字导入，可访问模块内的函数和变量。\\n- 异常处理使用`try`、`except`、`finally`和`raise`关键字。\\n- 类使用`class`关键字定义，支持继承和多态。\\n- 标准库庞大，涵盖字符串、数学、文件操作、系统管理等多个领域。', metadata={'source': 'python/python语法摘要.md'})]"
      ]
     },
     "execution_count": 3,
     "metadata": {},
     "output_type": "execute_result"
    }
   ],
   "source": [
    "kg = LocalFilesLoader(\"python\")\n",
    "kg.load()"
   ]
  },
  {
   "cell_type": "markdown",
   "metadata": {},
   "source": [
    "## 获得向量编码"
   ]
  },
  {
   "cell_type": "code",
   "execution_count": 4,
   "metadata": {},
   "outputs": [],
   "source": [
    "from langchain_zhipu import ZhipuAIEmbeddings\n",
    "model = ZhipuAIEmbeddings()"
   ]
  },
  {
   "cell_type": "code",
   "execution_count": 6,
   "metadata": {},
   "outputs": [
    {
     "name": "stdout",
     "output_type": "stream",
     "text": [
      "\u001b[32m<python_python语法摘要_md> Pandas是一个强大的Python数据分析库，提供了快速、灵活和表达力强的数据结构，用于处理结构化...\u001b[0m\n",
      "\u001b[32mCached 1 embeddings to python/__CACHE_EMBEDDINGS__/ !\u001b[0m\n"
     ]
    },
    {
     "data": {
      "text/plain": [
       "True"
      ]
     },
     "execution_count": 6,
     "metadata": {},
     "output_type": "execute_result"
    }
   ],
   "source": [
    "kg.cache_embeddings(model)"
   ]
  },
  {
   "cell_type": "code",
   "execution_count": 7,
   "metadata": {},
   "outputs": [],
   "source": [
    "emb = kg.load_embeddings()"
   ]
  },
  {
   "cell_type": "code",
   "execution_count": 8,
   "metadata": {},
   "outputs": [],
   "source": [
    "from langchain_community.vectorstores import FAISS\n",
    "db = FAISS.from_embeddings(emb, model)\n",
    "retriever = db.as_retriever()"
   ]
  },
  {
   "cell_type": "code",
   "execution_count": 9,
   "metadata": {},
   "outputs": [
    {
     "data": {
      "text/plain": [
       "[Document(page_content=\"Pandas是一个强大的Python数据分析库，提供了快速、灵活和表达力强的数据结构，用于处理结构化数据。以下是关键语法摘要：\\n\\n\\n\\n\\n- **导入库**：\\n  `import pandas as pd`\\n\\n- **创建数据结构**：\\n  `df = pd.DataFrame()`\\n  `s = pd.Series()`\\n\\n- **读取数据**：\\n  `pd.read_csv('file.csv')`\\n  `pd.read_excel('file.xlsx')`\\n\\n- **选择数据**：\\n  `df['column']`\\n  `df.loc[rows, columns]`\\n  `df.iloc[rows, columns]`\\n\\n- **筛选数据**：\\n  `df[df['column'] &gt; value]`\\n\\n- **数据操作**：\\n  `df['new_column'] = df['column'] * value`\\n  `df.drop('column', axis=1)`\\n\\n- **缺失值处理**：\\n  `df.isnull()`\\n  `df.dropna()`\\n  `df.fillna(value)`\\n\\n- **描述统计**：\\n  `df.describe()`\\n  `df.mean()`\\n  `df.corr()`\\n\\n- **分组聚合**：\\n  `df.groupby('column').sum()`\\n  `df.groupby('column').agg({'another_column': 'mean'})`\\n\\n- **排序**：\\n  `df.sort_values(by='column')`\\n\\n- **索引重置**：\\n  `df.reset_index(drop=True)`\\n\\n- **数据合并**：\\n  `pd.concat([df1, df2])`\\n  `df1.merge(df2, on='column')`\\n\\n\\n以上语法涵盖了Pandas的基本操作，是进行数据分析的重要工具。\"),\n",
       " Document(page_content='- Python是一种高级、解释型、交互式、面向对象的编程语言。\\n- 语法简洁明了，使用缩进来表示代码块。\\n- 数据类型包括整数、浮点数、字符串、列表、元组、集合和字典。\\n- 支持多种运算符，包括算术、比较、逻辑运算符。\\n- 控制流包括`if`、`elif`和`else`条件语句，以及`for`和`while`循环。\\n- 函数使用`def`关键字定义，支持默认参数、任意数量参数和关键字参数。\\n- 模块使用`import`关键字导入，可访问模块内的函数和变量。\\n- 异常处理使用`try`、`except`、`finally`和`raise`关键字。\\n- 类使用`class`关键字定义，支持继承和多态。\\n- 标准库庞大，涵盖字符串、数学、文件操作、系统管理等多个领域。')]"
      ]
     },
     "execution_count": 9,
     "metadata": {},
     "output_type": "execute_result"
    }
   ],
   "source": [
    "retriever.invoke('PANDAS')"
   ]
  },
  {
   "cell_type": "code",
   "execution_count": 33,
   "metadata": {},
   "outputs": [
    {
     "name": "stdout",
     "output_type": "stream",
     "text": [
      "中文.名字的This_is_a_test_._file_名.txt\n"
     ]
    }
   ],
   "source": [
    "import re\n",
    "\n",
    "def clean_filename(filename):\n",
    "    # 只允许字母、数字、中文、下划线和短横线\n",
    "    cleaned_filename = re.sub(r'[^\\w\\s.-]', '_', filename)\n",
    "    # 将多个连续的下划线或短横线替换为单个下划线\n",
    "    cleaned_filename = re.sub(r'[-_ ]+', '_', cleaned_filename)\n",
    "    return cleaned_filename\n",
    "\n",
    "# 假设我们有一个包含特殊字符的字符串\n",
    "filename = \"中文.名字的This is a test!@#$%^&*()_+{}|[]\\\\:;\\\"'<>,.?/file-名.txt\"\n",
    "\n",
    "# 清理文件名\n",
    "cleaned_filename = clean_filename(filename)\n",
    "\n",
    "# 输出清理后的文件名\n",
    "print(cleaned_filename)\n"
   ]
  },
  {
   "cell_type": "markdown",
   "metadata": {},
   "source": [
    "# 2 使用Q文档做RAG应用"
   ]
  },
  {
   "cell_type": "code",
   "execution_count": 50,
   "metadata": {},
   "outputs": [
    {
     "name": "stdout",
     "output_type": "stream",
     "text": [
      "/Users/xuehongwei/github/langchain_chinese/notes/documents/docs/供应商资料/001/input.txt 8\n",
      "/Users/xuehongwei/github/langchain_chinese/notes/documents/docs/供应商资料/003/input.txt 10\n",
      "/Users/xuehongwei/github/langchain_chinese/notes/documents/docs/供应商资料/002/input.txt 8\n"
     ]
    }
   ],
   "source": [
    "local_qa = LocalFilesQALoader(\"./notes/documents\", included_prefixes=[\"docs/供应商资料/\"], answer_filenames=[\"answer.txt\", \"example.txt\"])\n",
    "all_docs = local_qa.load()\n",
    "\n",
    "for chunk in all_docs[0:10]:\n",
    "  print(chunk.metadata['source'], len(chunk.page_content))"
   ]
  },
  {
   "cell_type": "code",
   "execution_count": 51,
   "metadata": {},
   "outputs": [
    {
     "data": {
      "text/plain": [
       "Document(page_content='北京科技有限公司', metadata={'source': '/Users/xuehongwei/github/langchain_chinese/notes/documents/docs/供应商资料/001/input.txt'})"
      ]
     },
     "execution_count": 51,
     "metadata": {},
     "output_type": "execute_result"
    }
   ],
   "source": [
    "all_docs[0]"
   ]
  },
  {
   "cell_type": "markdown",
   "metadata": {},
   "source": [
    "## 切分文本"
   ]
  },
  {
   "cell_type": "code",
   "execution_count": 52,
   "metadata": {},
   "outputs": [
    {
     "data": {
      "text/plain": [
       "[Document(page_content='北京科技有限公司', metadata={'source': '/Users/xuehongwei/github/langchain_chinese/notes/documents/docs/供应商资料/001/input.txt'}),\n",
       " Document(page_content='深圳创新科技有限公司', metadata={'source': '/Users/xuehongwei/github/langchain_chinese/notes/documents/docs/供应商资料/003/input.txt'}),\n",
       " Document(page_content='上海音响有限公司', metadata={'source': '/Users/xuehongwei/github/langchain_chinese/notes/documents/docs/供应商资料/002/input.txt'})]"
      ]
     },
     "execution_count": 52,
     "metadata": {},
     "output_type": "execute_result"
    }
   ],
   "source": [
    "from langchain.text_splitter import RecursiveCharacterTextSplitter\n",
    "\n",
    "text_splitter = RecursiveCharacterTextSplitter(\n",
    "    chunk_size = 2000,\n",
    "    chunk_overlap = 200,\n",
    "    length_function = len,\n",
    "    is_separator_regex = False,\n",
    ")\n",
    "chunks = text_splitter.split_documents(all_docs)\n",
    "chunks"
   ]
  },
  {
   "cell_type": "code",
   "execution_count": null,
   "metadata": {},
   "outputs": [],
   "source": []
  }
 ],
 "metadata": {
  "kernelspec": {
   "display_name": "langchani-book-py3.10-ipykernel",
   "language": "python",
   "name": "langchani-book-py3.10-ipykernel"
  },
  "language_info": {
   "codemirror_mode": {
    "name": "ipython",
    "version": 3
   },
   "file_extension": ".py",
   "mimetype": "text/x-python",
   "name": "python",
   "nbconvert_exporter": "python",
   "pygments_lexer": "ipython3",
   "version": "3.10.0"
  }
 },
 "nbformat": 4,
 "nbformat_minor": 4
}
