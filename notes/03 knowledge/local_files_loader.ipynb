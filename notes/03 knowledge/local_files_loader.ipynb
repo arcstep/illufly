{
 "cells": [
  {
   "cell_type": "code",
   "execution_count": 1,
   "metadata": {},
   "outputs": [],
   "source": [
    "from dotenv import load_dotenv, find_dotenv\n",
    "load_dotenv(find_dotenv(), override=True)\n",
    "import os"
   ]
  },
  {
   "cell_type": "code",
   "execution_count": 2,
   "metadata": {},
   "outputs": [],
   "source": [
    "from textlong import idea\n",
    "from langchain_zhipu import ChatZhipuAI, ZhipuAIEmbeddings\n",
    "from textlong.knowledge import LocalFilesLoader, collect_docs\n",
    "from textlong.hub import load_prompt, find_resource_prompt"
   ]
  },
  {
   "cell_type": "markdown",
   "metadata": {},
   "source": [
    "# 创建资料"
   ]
  },
  {
   "cell_type": "markdown",
   "metadata": {},
   "source": [
    "## python语法摘要.md"
   ]
  },
  {
   "cell_type": "code",
   "execution_count": 3,
   "metadata": {},
   "outputs": [
    {
     "name": "stdout",
     "output_type": "stream",
     "text": [
      "\u001b[32m\n",
      ">->>> Prompt ID: IDEA | python语法摘要.md <<<-<\n",
      "\u001b[0m\n",
      "\u001b[32m-\u001b[0m\u001b[32m Python\u001b[0m\u001b[32m是一种\u001b[0m\u001b[32m高级\u001b[0m\u001b[32m、\u001b[0m\u001b[32m解释\u001b[0m\u001b[32m型\u001b[0m\u001b[32m、\u001b[0m\u001b[32m交互\u001b[0m\u001b[32m式\u001b[0m\u001b[32m、\u001b[0m\u001b[32m面向\u001b[0m\u001b[32m对象\u001b[0m\u001b[32m的语言\u001b[0m\u001b[32m。\n",
      "-\u001b[0m\u001b[32m \u001b[0m\u001b[32m语法\u001b[0m\u001b[32m简单\u001b[0m\u001b[32m，\u001b[0m\u001b[32m强调\u001b[0m\u001b[32m代码\u001b[0m\u001b[32m的可\u001b[0m\u001b[32m读\u001b[0m\u001b[32m性和\u001b[0m\u001b[32m简洁\u001b[0m\u001b[32m性\u001b[0m\u001b[32m。\n",
      "-\u001b[0m\u001b[32m 使用\u001b[0m\u001b[32m缩\u001b[0m\u001b[32m进来\u001b[0m\u001b[32m区分\u001b[0m\u001b[32m代码\u001b[0m\u001b[32m块\u001b[0m\u001b[32m，\u001b[0m\u001b[32m通常\u001b[0m\u001b[32m缩\u001b[0m\u001b[32m进\u001b[0m\u001b[32m为\u001b[0m\u001b[32m4\u001b[0m\u001b[32m个\u001b[0m\u001b[32m空\u001b[0m\u001b[32m格\u001b[0m\u001b[32m或\u001b[0m\u001b[32m1\u001b[0m\u001b[32m个\u001b[0m\u001b[32m制\u001b[0m\u001b[32m表\u001b[0m\u001b[32m符\u001b[0m\u001b[32m。\n",
      "-\u001b[0m\u001b[32m 数据\u001b[0m\u001b[32m类型\u001b[0m\u001b[32m包括\u001b[0m\u001b[32m整数\u001b[0m\u001b[32m、\u001b[0m\u001b[32m浮\u001b[0m\u001b[32m点\u001b[0m\u001b[32m数\u001b[0m\u001b[32m、\u001b[0m\u001b[32m字符串\u001b[0m\u001b[32m、\u001b[0m\u001b[32m列表\u001b[0m\u001b[32m、\u001b[0m\u001b[32m元\u001b[0m\u001b[32m组\u001b[0m\u001b[32m、\u001b[0m\u001b[32m字典\u001b[0m\u001b[32m和\u001b[0m\u001b[32m集合\u001b[0m\u001b[32m。\n",
      "-\u001b[0m\u001b[32m 支\u001b[0m\u001b[32m持\u001b[0m\u001b[32m多种\u001b[0m\u001b[32m运算\u001b[0m\u001b[32m符\u001b[0m\u001b[32m，\u001b[0m\u001b[32m如\u001b[0m\u001b[32m算\u001b[0m\u001b[32m术\u001b[0m\u001b[32m、\u001b[0m\u001b[32m比较\u001b[0m\u001b[32m、\u001b[0m\u001b[32m逻辑\u001b[0m\u001b[32m运算\u001b[0m\u001b[32m符\u001b[0m\u001b[32m。\n",
      "-\u001b[0m\u001b[32m 控\u001b[0m\u001b[32m制\u001b[0m\u001b[32m流\u001b[0m\u001b[32m包括\u001b[0m\u001b[32mif\u001b[0m\u001b[32m-\u001b[0m\u001b[32melif\u001b[0m\u001b[32m-\u001b[0m\u001b[32melse\u001b[0m\u001b[32m条件\u001b[0m\u001b[32m判断\u001b[0m\u001b[32m、\u001b[0m\u001b[32mfor\u001b[0m\u001b[32m和\u001b[0m\u001b[32mwhile\u001b[0m\u001b[32m循环\u001b[0m\u001b[32m。\n",
      "-\u001b[0m\u001b[32m 函数\u001b[0m\u001b[32m通过\u001b[0m\u001b[32mdef\u001b[0m\u001b[32m关键字\u001b[0m\u001b[32m定义\u001b[0m\u001b[32m，\u001b[0m\u001b[32m支持\u001b[0m\u001b[32m默认\u001b[0m\u001b[32m参数\u001b[0m\u001b[32m、\u001b[0m\u001b[32m关键字\u001b[0m\u001b[32m参数\u001b[0m\u001b[32m。\n",
      "-\u001b[0m\u001b[32m 模\u001b[0m\u001b[32m块\u001b[0m\u001b[32m使用\u001b[0m\u001b[32mimport\u001b[0m\u001b[32m关键字\u001b[0m\u001b[32m导入\u001b[0m\u001b[32m，\u001b[0m\u001b[32m包\u001b[0m\u001b[32m以\u001b[0m\u001b[32m点\u001b[0m\u001b[32m号\u001b[0m\u001b[32m分隔\u001b[0m\u001b[32m。\n",
      "-\u001b[0m\u001b[32m 异\u001b[0m\u001b[32m常\u001b[0m\u001b[32m处理\u001b[0m\u001b[32m使用\u001b[0m\u001b[32mtry\u001b[0m\u001b[32m-ex\u001b[0m\u001b[32mcept\u001b[0m\u001b[32m块\u001b[0m\u001b[32m，\u001b[0m\u001b[32m用于\u001b[0m\u001b[32m处理\u001b[0m\u001b[32m程序\u001b[0m\u001b[32m错误\u001b[0m\u001b[32m。\n",
      "-\u001b[0m\u001b[32m 类\u001b[0m\u001b[32m使用\u001b[0m\u001b[32mclass\u001b[0m\u001b[32m关键字\u001b[0m\u001b[32m定义\u001b[0m\u001b[32m，\u001b[0m\u001b[32m支持\u001b[0m\u001b[32m继承\u001b[0m\u001b[32m和多\u001b[0m\u001b[32m态\u001b[0m\u001b[32m。\n",
      "-\u001b[0m\u001b[32m 标\u001b[0m\u001b[32m准\u001b[0m\u001b[32m库\u001b[0m\u001b[32m丰富\u001b[0m\u001b[32m，\u001b[0m\u001b[32m涵盖\u001b[0m\u001b[32m网络\u001b[0m\u001b[32m编程\u001b[0m\u001b[32m、\u001b[0m\u001b[32m文件\u001b[0m\u001b[32m操作\u001b[0m\u001b[32m、\u001b[0m\u001b[32m数据\u001b[0m\u001b[32m序列\u001b[0m\u001b[32m化\u001b[0m\u001b[32m等\u001b[0m\u001b[32m。\u001b[0m\u001b[32m\u001b[0m"
     ]
    },
    {
     "data": {
      "text/plain": [
       "Command <IDEA[2024-06-24 20:09:09]: - Python是一种高级、解释型、交互...>"
      ]
     },
     "execution_count": 3,
     "metadata": {},
     "output_type": "execute_result"
    }
   ],
   "source": [
    "idea(\n",
    "    ChatZhipuAI(),\n",
    "    \"帮我摘要总结200字以内的python关键语法\",\n",
    "    output_file=\"python语法摘要.md\",\n",
    "    base_folder=\"python\"\n",
    ")"
   ]
  },
  {
   "cell_type": "markdown",
   "metadata": {},
   "source": [
    "## pandas语法摘要.md"
   ]
  },
  {
   "cell_type": "code",
   "execution_count": null,
   "metadata": {
    "scrolled": true
   },
   "outputs": [],
   "source": [
    "idea(\n",
    "    ChatZhipuAI(),\n",
    "    \"帮我摘要总结200字以内的pandas关键语法\",\n",
    "    output_file=\"pandas语法摘要.md\",\n",
    "    base_folder=\"python\"\n",
    ")"
   ]
  },
  {
   "cell_type": "markdown",
   "metadata": {},
   "source": [
    "# 查询资料"
   ]
  },
  {
   "cell_type": "markdown",
   "metadata": {},
   "source": [
    "## 按照 markdown 加载"
   ]
  },
  {
   "cell_type": "code",
   "execution_count": 3,
   "metadata": {},
   "outputs": [
    {
     "data": {
      "text/plain": [
       "'/Users/xuehongwei/github/textlong/notes/03 knowledge'"
      ]
     },
     "execution_count": 3,
     "metadata": {},
     "output_type": "execute_result"
    }
   ],
   "source": [
    "%pwd"
   ]
  },
  {
   "cell_type": "code",
   "execution_count": 5,
   "metadata": {},
   "outputs": [
    {
     "data": {
      "text/plain": [
       "['python/pandas语法摘要.md', 'python/python语法摘要.md']"
      ]
     },
     "execution_count": 5,
     "metadata": {},
     "output_type": "execute_result"
    }
   ],
   "source": [
    "kg = LocalFilesLoader(\"python\")\n",
    "kg.get_files()"
   ]
  },
  {
   "cell_type": "code",
   "execution_count": 6,
   "metadata": {},
   "outputs": [
    {
     "name": "stdout",
     "output_type": "stream",
     "text": [
      ">->>> python/pandas语法摘要.md\n",
      ">->>> python/python语法摘要.md\n"
     ]
    }
   ],
   "source": [
    "for x in kg.load():\n",
    "    print(\">->>>\", x.metadata['source'])\n",
    "    # print(x.page_content)"
   ]
  },
  {
   "cell_type": "markdown",
   "metadata": {},
   "source": [
    "## 过滤文档"
   ]
  },
  {
   "cell_type": "code",
   "execution_count": 7,
   "metadata": {},
   "outputs": [
    {
     "data": {
      "text/plain": [
       "['python/pandas语法摘要.md']"
      ]
     },
     "execution_count": 7,
     "metadata": {},
     "output_type": "execute_result"
    }
   ],
   "source": [
    "fl = LocalFilesLoader(\"python\", path_regex=\"pandas\")\n",
    "fl.get_files()"
   ]
  },
  {
   "cell_type": "markdown",
   "metadata": {},
   "source": [
    "## 加载文档"
   ]
  },
  {
   "cell_type": "code",
   "execution_count": 4,
   "metadata": {},
   "outputs": [
    {
     "data": {
      "text/plain": [
       "[Document(page_content=\"Pandas是一个强大的Python数据分析库，提供了快速、灵活和表达力强的数据结构，用于处理结构化数据。以下是关键语法摘要：\\n\\n\\n\\n\\n- **导入库**：\\n  `import pandas as pd`\\n\\n- **创建数据结构**：\\n  `df = pd.DataFrame()`\\n  `s = pd.Series()`\\n\\n- **读取数据**：\\n  `pd.read_csv('file.csv')`\\n  `pd.read_excel('file.xlsx')`\\n\\n- **选择数据**：\\n  `df['column']`\\n  `df.loc[rows, columns]`\\n  `df.iloc[rows, columns]`\\n\\n- **筛选数据**：\\n  `df[df['column'] &gt; value]`\\n\\n- **数据操作**：\\n  `df['new_column'] = df['column'] * value`\\n  `df.drop('column', axis=1)`\\n\\n- **缺失值处理**：\\n  `df.isnull()`\\n  `df.dropna()`\\n  `df.fillna(value)`\\n\\n- **描述统计**：\\n  `df.describe()`\\n  `df.mean()`\\n  `df.corr()`\\n\\n- **分组聚合**：\\n  `df.groupby('column').sum()`\\n  `df.groupby('column').agg({'another_column': 'mean'})`\\n\\n- **排序**：\\n  `df.sort_values(by='column')`\\n\\n- **索引重置**：\\n  `df.reset_index(drop=True)`\\n\\n- **数据合并**：\\n  `pd.concat([df1, df2])`\\n  `df1.merge(df2, on='column')`\\n\\n\\n以上语法涵盖了Pandas的基本操作，是进行数据分析的重要工具。\", metadata={'source': 'python/pandas语法摘要.md'}),\n",
       " Document(page_content='- Python是一种高级、解释型、交互式、面向对象的语言。\\n- 语法简单，强调代码的可读性和简洁性。\\n- 使用缩进来区分代码块，通常缩进为4个空格或1个制表符。\\n- 数据类型包括整数、浮点数、字符串、列表、元组、字典和集合。\\n- 支持多种运算符，如算术、比较、逻辑运算符。\\n- 控制流包括if-elif-else条件判断、for和while循环。\\n- 函数通过def关键字定义，支持默认参数、关键字参数。\\n- 模块使用import关键字导入，包以点号分隔。\\n- 异常处理使用try-except块，用于处理程序错误。\\n- 类使用class关键字定义，支持继承和多态。\\n- 标准库丰富，涵盖网络编程、文件操作、数据序列化等。', metadata={'source': 'python/python语法摘要.md'})]"
      ]
     },
     "execution_count": 4,
     "metadata": {},
     "output_type": "execute_result"
    }
   ],
   "source": [
    "kg = LocalFilesLoader(\"python\")\n",
    "kg.load()"
   ]
  },
  {
   "cell_type": "markdown",
   "metadata": {},
   "source": [
    "## 缓存文本嵌入"
   ]
  },
  {
   "cell_type": "code",
   "execution_count": 5,
   "metadata": {},
   "outputs": [],
   "source": [
    "from langchain_zhipu import ZhipuAIEmbeddings\n",
    "model = ZhipuAIEmbeddings()"
   ]
  },
  {
   "cell_type": "code",
   "execution_count": 6,
   "metadata": {},
   "outputs": [
    {
     "name": "stdout",
     "output_type": "stream",
     "text": [
      "\u001b[32m<python_python语法摘要_md> - Python是一种高级、解释型、交互式、面向对象的语言。\n",
      "- 语法简单，强调代码的可读性和简洁性...\u001b[0m\n",
      "\u001b[32mCached 1 embeddings to python/__CACHE_EMBEDDINGS__/ !\u001b[0m\n"
     ]
    },
    {
     "data": {
      "text/plain": [
       "True"
      ]
     },
     "execution_count": 6,
     "metadata": {},
     "output_type": "execute_result"
    }
   ],
   "source": [
    "kg.cache_embeddings(model)"
   ]
  },
  {
   "cell_type": "markdown",
   "metadata": {},
   "source": [
    "## 加载文本嵌入缓存"
   ]
  },
  {
   "cell_type": "code",
   "execution_count": 8,
   "metadata": {},
   "outputs": [],
   "source": [
    "emb, model, metadata = kg.load_embeddings()"
   ]
  },
  {
   "cell_type": "code",
   "execution_count": 9,
   "metadata": {},
   "outputs": [
    {
     "data": {
      "text/plain": [
       "[{'source': 'python/pandas语法摘要.md'}, {'source': 'python/python语法摘要.md'}]"
      ]
     },
     "execution_count": 9,
     "metadata": {},
     "output_type": "execute_result"
    }
   ],
   "source": [
    "metadata"
   ]
  },
  {
   "cell_type": "markdown",
   "metadata": {},
   "source": [
    "## 基于文本嵌入缓存查询"
   ]
  },
  {
   "cell_type": "code",
   "execution_count": 15,
   "metadata": {},
   "outputs": [],
   "source": [
    "from langchain_community.vectorstores import FAISS\n",
    "# resp = kg.load_embeddings(ZhipuAIEmbeddings())\n",
    "db = FAISS.from_embeddings(*kg.load_embeddings(ZhipuAIEmbeddings()))\n",
    "retriever = db.as_retriever()"
   ]
  },
  {
   "cell_type": "code",
   "execution_count": 16,
   "metadata": {},
   "outputs": [
    {
     "data": {
      "text/plain": [
       "[Document(page_content=\"Pandas是一个强大的Python数据分析库，提供了快速、灵活和表达力强的数据结构，用于处理结构化数据。以下是关键语法摘要：\\n\\n\\n\\n\\n- **导入库**：\\n  `import pandas as pd`\\n\\n- **创建数据结构**：\\n  `df = pd.DataFrame()`\\n  `s = pd.Series()`\\n\\n- **读取数据**：\\n  `pd.read_csv('file.csv')`\\n  `pd.read_excel('file.xlsx')`\\n\\n- **选择数据**：\\n  `df['column']`\\n  `df.loc[rows, columns]`\\n  `df.iloc[rows, columns]`\\n\\n- **筛选数据**：\\n  `df[df['column'] &gt; value]`\\n\\n- **数据操作**：\\n  `df['new_column'] = df['column'] * value`\\n  `df.drop('column', axis=1)`\\n\\n- **缺失值处理**：\\n  `df.isnull()`\\n  `df.dropna()`\\n  `df.fillna(value)`\\n\\n- **描述统计**：\\n  `df.describe()`\\n  `df.mean()`\\n  `df.corr()`\\n\\n- **分组聚合**：\\n  `df.groupby('column').sum()`\\n  `df.groupby('column').agg({'another_column': 'mean'})`\\n\\n- **排序**：\\n  `df.sort_values(by='column')`\\n\\n- **索引重置**：\\n  `df.reset_index(drop=True)`\\n\\n- **数据合并**：\\n  `pd.concat([df1, df2])`\\n  `df1.merge(df2, on='column')`\\n\\n\\n以上语法涵盖了Pandas的基本操作，是进行数据分析的重要工具。\", metadata={'source': 'python/pandas语法摘要.md'}),\n",
       " Document(page_content='- Python是一种高级、解释型、交互式、面向对象的语言。\\n- 语法简单，强调代码的可读性和简洁性。\\n- 使用缩进来区分代码块，通常缩进为4个空格或1个制表符。\\n- 数据类型包括整数、浮点数、字符串、列表、元组、字典和集合。\\n- 支持多种运算符，如算术、比较、逻辑运算符。\\n- 控制流包括if-elif-else条件判断、for和while循环。\\n- 函数通过def关键字定义，支持默认参数、关键字参数。\\n- 模块使用import关键字导入，包以点号分隔。\\n- 异常处理使用try-except块，用于处理程序错误。\\n- 类使用class关键字定义，支持继承和多态。\\n- 标准库丰富，涵盖网络编程、文件操作、数据序列化等。', metadata={'source': 'python/python语法摘要.md'})]"
      ]
     },
     "execution_count": 16,
     "metadata": {},
     "output_type": "execute_result"
    }
   ],
   "source": [
    "retriever.invoke('PANDAS')"
   ]
  },
  {
   "cell_type": "markdown",
   "metadata": {},
   "source": [
    "# RAG 查询"
   ]
  },
  {
   "cell_type": "markdown",
   "metadata": {},
   "source": [
    "## VectorStore 使用技巧可以参考文档"
   ]
  },
  {
   "cell_type": "markdown",
   "metadata": {},
   "source": [
    "**VectorStore初始化参数：**\n",
    "\n",
    "- Args:\n",
    "    - **search_type** (Optional[str]): Defines the type of search that\n",
    "        the Retriever should perform.\n",
    "        Can be \"similarity\" (default), \"mmr\", or\n",
    "        \"similarity_score_threshold\".\n",
    "    - **search_kwargs** (Optional[Dict]): Keyword arguments to pass to the\n",
    "        search function. Can include things like:\n",
    "        - **k**: Amount of documents to return (Default: 4)\n",
    "        - **score_threshold**: Minimum relevance threshold\n",
    "            for similarity_score_threshold\n",
    "        - **fetch_k**: Amount of documents to pass to MMR algorithm (Default: 20)\n",
    "        - **lambda_mult**: Diversity of results returned by MMR;\n",
    "            1 for minimum diversity and 0 for maximum. (Default: 0.5)\n",
    "        - **filter**: Filter by document metadata\n",
    "\n",
    "- Returns:\n",
    "    **VectorStoreRetriever**: Retriever class for VectorStore.\n",
    "\n",
    "**典例示范:**\n",
    "\n",
    "```python\n",
    "    # Retrieve more documents with higher diversity\n",
    "    # Useful if your dataset has many similar documents\n",
    "    docsearch.as_retriever(\n",
    "        search_type=\"mmr\",\n",
    "        search_kwargs={'k': 6, 'lambda_mult': 0.25}\n",
    "    )\n",
    "\n",
    "    # Fetch more documents for the MMR algorithm to consider\n",
    "    # But only return the top 5\n",
    "    docsearch.as_retriever(\n",
    "        search_type=\"mmr\",\n",
    "        search_kwargs={'k': 5, 'fetch_k': 50}\n",
    "    )\n",
    "\n",
    "    # Only retrieve documents that have a relevance score\n",
    "    # Above a certain threshold\n",
    "    docsearch.as_retriever(\n",
    "        search_type=\"similarity_score_threshold\",\n",
    "        search_kwargs={'score_threshold': 0.8}\n",
    "    )\n",
    "\n",
    "    # Only get the single most similar document from the dataset\n",
    "    docsearch.as_retriever(search_kwargs={'k': 1})\n",
    "\n",
    "    # Use a filter to only retrieve documents from a specific paper\n",
    "    docsearch.as_retriever(\n",
    "        search_kwargs={'filter': {'paper_title':'GPT-4 Technical Report'}}\n",
    "    )\n",
    "```"
   ]
  },
  {
   "cell_type": "markdown",
   "metadata": {},
   "source": [
    "## 提示语"
   ]
  },
  {
   "cell_type": "code",
   "execution_count": 7,
   "metadata": {},
   "outputs": [
    {
     "name": "stdout",
     "output_type": "stream",
     "text": [
      "你是一名咨询专家，只负责根据资料回答相关提问，禁止回答与此无关的问题。\n",
      "\n",
      "你在回答时必须遵循以下约束：\n",
      "1. 如果你获得的参考例子无法回答问题，可以查询互联网，但务必注意资料的真实性，不要做任何编造\n",
      "2. 请使用简洁的语言回答，不要啰嗦\n",
      "3. 不要生成\"根据提供的资料...\"等字眼\n",
      "\n",
      ">>>>>>>>>>>>>> 你在回答问题时可以参考这些资料：\n",
      "<我是查找到的资料>\n",
      "\n",
      ">>>>>>>>>>>>>> 你必须按照如下格式输出：\n",
      "问题答案：xxx。\n",
      "\n",
      "相关规范解释：xxxxxxxx。\n",
      "\n",
      ">>>>>>>>>>>>>> 之前的对话如下：\n",
      "历史对话记录\n",
      "\n",
      "我的问题是：请问...\n",
      "\n",
      "你的回答：\n"
     ]
    }
   ],
   "source": [
    "prompt = load_prompt(\"RAG\", tag=\"chat\")\n",
    "print(prompt.partial(history=\"历史对话记录\").format(context=\"<我是查找到的资料>\", question=\"请问...\"))"
   ]
  },
  {
   "cell_type": "markdown",
   "metadata": {},
   "source": [
    "## 构建RAG应用"
   ]
  },
  {
   "cell_type": "code",
   "execution_count": 6,
   "metadata": {},
   "outputs": [],
   "source": [
    "from textlong.memory import MemoryManager\n",
    "from textlong.knowledge import LocalFilesLoader, collect_docs, create_qa_chain\n",
    "from langchain_community.vectorstores import FAISS\n",
    "from langchain_zhipu import ChatZhipuAI, ZhipuAIEmbeddings\n",
    "\n",
    "es = LocalFilesLoader(\"python\").load_embeddings(ZhipuAIEmbeddings())\n",
    "db = FAISS.from_embeddings(*es)\n",
    "\n",
    "chain = create_qa_chain(ChatZhipuAI(), db.as_retriever(), MemoryManager())"
   ]
  },
  {
   "cell_type": "code",
   "execution_count": 7,
   "metadata": {},
   "outputs": [
    {
     "name": "stdout",
     "output_type": "stream",
     "text": [
      "问题答案：字典用于存储键值对数据。\n",
      "\n",
      "相关规范解释：在Python中，字典是一种可变容器模型，它可以存储任意类型对象，其中每个对象都存储为一个键值对。键用于唯一地标识数据，值是与键关联的数据。由于键是唯一的，因此字典可以快速检索数据，且在数据结构中保持有序。这使得字典非常适合用于实现映射或查找表，如配置参数、数据缓存等场景。"
     ]
    }
   ],
   "source": [
    "for x in chain.stream({\"input\": \"字典有什么用？\"}):\n",
    "    print(x.content, end=\"\")"
   ]
  },
  {
   "cell_type": "code",
   "execution_count": 8,
   "metadata": {},
   "outputs": [
    {
     "name": "stdout",
     "output_type": "stream",
     "text": [
      "问题答案：与元组相比，字典提供了键值对的存储和快速检索能力。\n",
      "\n",
      "相关规范解释：元组是不可变的序列，可以存储任意类型的数据，但它不像字典那样提供通过键快速访问数据的能力。在元组中，数据是按位置索引的，这意味着如果需要检索特定元素，你必须知道其在序列中的位置。而字典中的每个数据项都是一个键值对，键是唯一的，并且与值关联。这使得字典非常适合于查找和映射操作，而元组则更适用于那些数据顺序重要且不希望被改变的场合。"
     ]
    }
   ],
   "source": [
    "for x in chain.stream({\"input\": \"与元组相比呢？\"}):\n",
    "    print(x.content, end=\"\")"
   ]
  },
  {
   "cell_type": "code",
   "execution_count": 5,
   "metadata": {},
   "outputs": [
    {
     "data": {
      "text/plain": [
       "PromptTemplate(input_variables=['context', 'history', 'question'], template='你是一名咨询专家，只负责根据资料回答相关提问，禁止回答与此无关的问题。\\n\\n你在回答时必须遵循以下约束：\\n1. 你只能基于参考资料回答问题，务必注意资料的真实性，不要做任何编造\\n2. 请使用简洁的语言回答，不要啰嗦\\n3. 不要生成\"根据提供的资料...\"等字眼\\n\\n>>>>>>>>>>>>>> 你的参考资料：\\n{{{context}}}\\n\\n>>>>>>>>>>>>>> 你必须按照如下格式输出：\\n问题答案：xxx。\\n\\n相关规范解释：xxxxxxxx。\\n\\n>>>>>>>>>>>>>> 之前的对话如下：\\n{{{history}}}\\n\\n我的问题是：{{question}}\\n\\n你的回答：', template_format='mustache')"
      ]
     },
     "execution_count": 5,
     "metadata": {},
     "output_type": "execute_result"
    }
   ],
   "source": [
    "prompt"
   ]
  },
  {
   "cell_type": "code",
   "execution_count": null,
   "metadata": {},
   "outputs": [],
   "source": []
  }
 ],
 "metadata": {
  "kernelspec": {
   "display_name": "langchani-book-py3.10-ipykernel",
   "language": "python",
   "name": "langchani-book-py3.10-ipykernel"
  },
  "language_info": {
   "codemirror_mode": {
    "name": "ipython",
    "version": 3
   },
   "file_extension": ".py",
   "mimetype": "text/x-python",
   "name": "python",
   "nbconvert_exporter": "python",
   "pygments_lexer": "ipython3",
   "version": "3.10.0"
  }
 },
 "nbformat": 4,
 "nbformat_minor": 4
}
