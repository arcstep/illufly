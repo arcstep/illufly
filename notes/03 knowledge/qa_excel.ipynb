{
 "cells": [
  {
   "cell_type": "markdown",
   "id": "a99e6763-b7fe-4786-8fa1-3e4cb3c7b844",
   "metadata": {},
   "source": [
    "# 基于 Excel 的 QA 资料"
   ]
  },
  {
   "cell_type": "code",
   "execution_count": 1,
   "id": "c7f8b4c8-b5e1-4a81-94e8-2de68ca931c6",
   "metadata": {},
   "outputs": [],
   "source": [
    "from dotenv import load_dotenv, find_dotenv\n",
    "load_dotenv(find_dotenv(), override=True)\n",
    "import os"
   ]
  },
  {
   "cell_type": "code",
   "execution_count": 2,
   "id": "3c951706-2be9-4c02-ab8d-552a88459ad6",
   "metadata": {},
   "outputs": [],
   "source": [
    "from textlong import idea\n",
    "from langchain_zhipu import ChatZhipuAI, ZhipuAIEmbeddings\n",
    "from textlong.knowledge import LocalFilesLoader, QAExcelsLoader, collect_docs"
   ]
  },
  {
   "cell_type": "markdown",
   "id": "572c2ad2-18ff-47e8-a255-6801eb3244b1",
   "metadata": {},
   "source": [
    "## 加载文档"
   ]
  },
  {
   "cell_type": "code",
   "execution_count": 3,
   "id": "f7963c56-ef3d-4103-acd7-ad670476f44f",
   "metadata": {},
   "outputs": [
    {
     "data": {
      "text/plain": [
       "[Document(page_content='低层建筑 \\n场景：大于300平方米的银行营业厅;问题：是否需要设置自动喷水系统？', metadata={'answer': '问题答案：需要设立自动喷水灭火系统。&#10;&#10;相关规范解释：《建筑设计防火规范》（GB 50016-2014）第5.3.1条规定，公共建筑中的人员密集场所应设置自动喷水灭火系统。银行营业厅作为公共场所，且面积大于300平米，符合此规范要求。&#10;&#10;', 'source': 'QA/demo.xlsx', 'sheet': 'QA_50个问题'}),\n",
       " Document(page_content='低层建筑 \\n场景：大于300平方米的银行营业厅&#10;问题：&#10;（1）是不是人员密集场所？&#10;（2）依据哪条规范？', metadata={'answer': '问题（1）答案：是人员密集场所。&#10;&#10;相关规范解释：《建筑设计防火规范》（GB 50016-2014）第5.3.1条明确了人员密集场所的定义，并要求这类场所应采取相应的防火措施。银行营业厅通常会有较多的客户和工作人员，因此属于人员密集场所。&#10;&#10;问题（2）答案：《建筑设计防火规范》（GB50016-2014）。&#10;&#10;相关规范解释：该规范是中国建筑设计和消防审核的重要标准之一，其中包含了关于建筑分类、防火分区、安全疏散、消防设施等方面的详细规定，是判断一个场所是否为人员密集场所的重要依据之一。', 'source': 'QA/demo.xlsx', 'sheet': 'QA_50个问题'}),\n",
       " Document(page_content='低层建筑 \\n场景：5层高的大学实验楼&#10;（主要是化工、物理等实验室，并且采用了分体式空调）&#10;问题：是否需要设置自动喷淋系统吗，还是局部设置气体灭火系统？？', metadata={'answer': '问题答案：需要设置自动喷淋系统。&#10;&#10;相关规范解释：《建筑设计防火规范》（GB 50016-2014）和《自动喷水灭火系统设计规范》（GB 50084-2001）规定，大学实验楼作为教育科研建筑，尤其是含有化工、物理等实验室，存在较高的火灾风险，应设置自动喷淋系统。此外，根据实际情况评估，可考虑在特定区域增设气体灭火系统作为补充。&#10;', 'source': 'QA/demo.xlsx', 'sheet': 'QA_50个问题'})]"
      ]
     },
     "execution_count": 3,
     "metadata": {},
     "output_type": "execute_result"
    }
   ],
   "source": [
    "qa = QAExcelsLoader(\"QA\")\n",
    "qa.load()"
   ]
  },
  {
   "cell_type": "markdown",
   "id": "51e951ea-a961-48cd-bfe1-045cd248dfa3",
   "metadata": {},
   "source": [
    "## 构建缓存"
   ]
  },
  {
   "cell_type": "code",
   "execution_count": 4,
   "id": "60d3c74b-b396-4aee-af5f-4edea483decd",
   "metadata": {},
   "outputs": [
    {
     "name": "stdout",
     "output_type": "stream",
     "text": [
      "\u001b[32mNo embeddings to cached!\u001b[0m\n"
     ]
    },
    {
     "data": {
      "text/plain": [
       "False"
      ]
     },
     "execution_count": 4,
     "metadata": {},
     "output_type": "execute_result"
    }
   ],
   "source": [
    "from langchain_zhipu import ZhipuAIEmbeddings\n",
    "model = ZhipuAIEmbeddings()\n",
    "qa.cache_embeddings(model)"
   ]
  },
  {
   "cell_type": "markdown",
   "id": "07a5a2fb-2863-45d3-8134-a64edf3dd175",
   "metadata": {},
   "source": [
    "## 加载文本嵌入缓存"
   ]
  },
  {
   "cell_type": "code",
   "execution_count": 5,
   "id": "aa7999c4-e154-4d86-ae88-ac95efea0e32",
   "metadata": {},
   "outputs": [],
   "source": [
    "emb, metadata = qa.load_embeddings()"
   ]
  },
  {
   "cell_type": "markdown",
   "id": "816921f0-da1d-44b0-b569-1a9bf56688b9",
   "metadata": {},
   "source": [
    "## 基于文本嵌入缓存查询"
   ]
  },
  {
   "cell_type": "code",
   "execution_count": 6,
   "id": "2ff67040-dd8e-45a9-9c0b-d8d2342ea1e6",
   "metadata": {},
   "outputs": [],
   "source": [
    "from langchain_community.vectorstores import FAISS\n",
    "db = FAISS.from_embeddings(emb, model, metadata)\n",
    "retriever = db.as_retriever()"
   ]
  },
  {
   "cell_type": "code",
   "execution_count": 7,
   "id": "7bd8525a-fd2f-4b91-8dbf-37147a480d4d",
   "metadata": {},
   "outputs": [
    {
     "name": "stdout",
     "output_type": "stream",
     "text": [
      "低层建筑 \n",
      "场景：5层高的大学实验楼&#10;（主要是化工、物理等实验室，并且采用了分体式空调）&#10;问题：是否需要设置自动喷淋系统吗，还是局部设置气体灭火系统？？\n",
      "问题答案：需要设置自动喷淋系统。&#10;&#10;相关规范解释：《建筑设计防火规范》（GB 50016-2014）和《自动喷水灭火系统设计规范》（GB 50084-2001）规定，大学实验楼作为教育科研建筑，尤其是含有化工、物理等实验室，存在较高的火灾风险，应设置自动喷淋系统。此外，根据实际情况评估，可考虑在特定区域增设气体灭火系统作为补充。&#10;\n",
      "-----------------------------------\n",
      "低层建筑 \n",
      "场景：大于300平方米的银行营业厅;问题：是否需要设置自动喷水系统？\n",
      "问题答案：需要设立自动喷水灭火系统。&#10;&#10;相关规范解释：《建筑设计防火规范》（GB 50016-2014）第5.3.1条规定，公共建筑中的人员密集场所应设置自动喷水灭火系统。银行营业厅作为公共场所，且面积大于300平米，符合此规范要求。&#10;&#10;\n",
      "-----------------------------------\n",
      "低层建筑 \n",
      "场景：大于300平方米的银行营业厅&#10;问题：&#10;（1）是不是人员密集场所？&#10;（2）依据哪条规范？\n",
      "问题（1）答案：是人员密集场所。&#10;&#10;相关规范解释：《建筑设计防火规范》（GB 50016-2014）第5.3.1条明确了人员密集场所的定义，并要求这类场所应采取相应的防火措施。银行营业厅通常会有较多的客户和工作人员，因此属于人员密集场所。&#10;&#10;问题（2）答案：《建筑设计防火规范》（GB50016-2014）。&#10;&#10;相关规范解释：该规范是中国建筑设计和消防审核的重要标准之一，其中包含了关于建筑分类、防火分区、安全疏散、消防设施等方面的详细规定，是判断一个场所是否为人员密集场所的重要依据之一。\n"
     ]
    }
   ],
   "source": [
    "print((retriever|collect_docs).invoke('实验楼要不要设置喷淋'))"
   ]
  },
  {
   "cell_type": "markdown",
   "id": "1d683dfe-9b72-4357-b6fe-550dbbfac010",
   "metadata": {},
   "source": [
    "# RAG 查询"
   ]
  },
  {
   "cell_type": "code",
   "execution_count": 5,
   "id": "fc52c386-aa58-47c1-a396-0408184cbb39",
   "metadata": {},
   "outputs": [],
   "source": [
    "from langchain_zhipu import ChatZhipuAI\n",
    "from textlong.memory import MemoryManager, WithMemoryBinding\n",
    "from textlong.qa import format_qa_docs, create_qa_prompt\n",
    "from textlong.hub import load_chat_prompt\n",
    "\n",
    "# prompt = create_qa_prompt()\n",
    "prompt = load_chat_prompt(template_id=\"qa\", project_id=\"xiaofang\")\n",
    "llm = ChatZhipuAI()\n",
    "retriever = db.as_retriever()\n",
    "\n",
    "chain = {\n",
    "    \"context\":  (lambda x: x['input']) | retriever | collect_docs,\n",
    "    \"question\": lambda x: x['input'],\n",
    "    \"history\":  lambda x: x['history'],\n",
    "} | prompt | llm\n",
    "\n",
    "memory = MemoryManager()\n",
    "withMemoryChain = WithMemoryBinding(chain, memory)\n",
    "config = {\"configurable\": {\"session_id\": \"1\"}}"
   ]
  },
  {
   "cell_type": "code",
   "execution_count": 6,
   "id": "82f8f8b6-1cf5-48b6-a1f8-ed16b6c7e890",
   "metadata": {},
   "outputs": [
    {
     "name": "stdout",
     "output_type": "stream",
     "text": [
      "商场|扶|梯|下面|通常|不需要|设置|喷|水|系统|。|因为|扶|梯|下方|空间|较小|，|不是|主要的|火灾|荷载|区域|，|且|扶|梯|的|金属材料|不易|燃烧|。|但|若|扶|梯|附近|有|其他|火灾|风险|较高的|区域|或|设施|，|应|按|规范|要求|考虑|是否|设置|喷|水|系统|。||"
     ]
    }
   ],
   "source": [
    "# chain = create_qa_chain(llm, retriever)\n",
    "for x in withMemoryChain.stream({\"input\": \"商场扶梯下面要设置喷水吗？\"}, config):\n",
    "    print(x.content, end=\"|\")"
   ]
  },
  {
   "cell_type": "code",
   "execution_count": 7,
   "id": "f6c0617b-6af2-413f-b9b9-23a05c3c7f42",
   "metadata": {},
   "outputs": [
    {
     "name": "stdout",
     "output_type": "stream",
     "text": [
      "如果|商场|扶|梯|下面|有|储|物|间|，|那么|根据|储|物|间|内|储存|物品|的|火灾|风险|以及|空间|大小|，|可能|需要|设置|喷|水|灭火|系统|。|一般|而言|，|如果|储|物|间|内|储存|的是|易|燃|物品|，|或者|储|物|间|面积|较大|，|按照|相关|防火|规范|，|应该|设置|自动|喷|水|灭火|系统|。|这|旨在|提高|火灾|时的|灭火|效率和|安全性|。|具体|是否|需要|设置|，|应|参照|当地的|建筑设计|防火|规范|和|自动|喷|水|灭火|系统|设计|规范|。||"
     ]
    }
   ],
   "source": [
    "# chain = create_qa_chain(llm, retriever)\n",
    "for x in withMemoryChain.stream({\"input\": \"下面有储物间呢？\"}, config):\n",
    "    print(x.content, end=\"|\")"
   ]
  },
  {
   "cell_type": "code",
   "execution_count": 8,
   "id": "f46c8f06-167a-408d-9a8d-55befcda314e",
   "metadata": {},
   "outputs": [
    {
     "data": {
      "text/plain": [
       "ChatPromptTemplate(input_variables=['context', 'history', 'question'], input_types={'history': typing.List[typing.Union[langchain_core.messages.ai.AIMessage, langchain_core.messages.human.HumanMessage, langchain_core.messages.chat.ChatMessage, langchain_core.messages.system.SystemMessage, langchain_core.messages.function.FunctionMessage, langchain_core.messages.tool.ToolMessage]]}, partial_variables={'task_instruction': '\\n你是一名咨询专家，只负责根据资料回答相关提问，禁止回答与此无关的问题。\\n\\n1. 如果你获得的参考例子无法回答问题，可以查询互联网，但务必注意资料的真实性，不要做任何编造\\n2. 请使用简洁的语言回答，不要啰嗦\\n3. 不要生成\"根据提供的资料...\"等字眼\\n', 'output_format': '\\n输出样例：\\n```\\n问题答案：xxx。\\n\\n相关规范解释：xxxxxxxx\\n```\\n'}, messages=[SystemMessagePromptTemplate(prompt=PromptTemplate(input_variables=['task_instruction'], template='{{task_instruction}}', template_format='mustache')), AIMessagePromptTemplate(prompt=PromptTemplate(input_variables=[], template='我有哪些资料可以参考？', template_format='mustache')), HumanMessagePromptTemplate(prompt=PromptTemplate(input_variables=['context', 'output_format'], template='你可以参考这些资料：\\n{{context}}\\n你必须按照如下格式输出：{{output_format}}', template_format='mustache')), AIMessagePromptTemplate(prompt=PromptTemplate(input_variables=[], template='好的，我会优先从上面资料寻找答案，如果找不到合适的就会从互联网查询。', template_format='mustache')), MessagesPlaceholder(variable_name='history'), HumanMessagePromptTemplate(prompt=PromptTemplate(input_variables=['question'], template='{{question}}', template_format='mustache'))])"
      ]
     },
     "execution_count": 8,
     "metadata": {},
     "output_type": "execute_result"
    }
   ],
   "source": [
    "create_qa_prompt()"
   ]
  },
  {
   "cell_type": "code",
   "execution_count": 9,
   "id": "87650c3b-58f2-42c5-beea-f7c47189dd5b",
   "metadata": {},
   "outputs": [
    {
     "data": {
      "text/plain": [
       "ChatPromptTemplate(input_variables=['context', 'history', 'question'], input_types={'history': typing.List[typing.Union[langchain_core.messages.ai.AIMessage, langchain_core.messages.human.HumanMessage, langchain_core.messages.chat.ChatMessage, langchain_core.messages.system.SystemMessage, langchain_core.messages.function.FunctionMessage, langchain_core.messages.tool.ToolMessage]]}, partial_variables={'output_format': '\\n输出样例：\\n```\\n问题答案：xxx。\\n\\n相关规范解释：xxxxxxxx\\n```\\n', 'task_instruction': '\\n你是一名咨询专家，只负责根据资料回答相关提问，禁止回答与此无关的问题。\\n\\n1. 如果你获得的参考例子无法回答问题，可以查询互联网，但务必注意资料的真实性，不要做任何编造\\n2. 请使用简洁的语言回答，不要啰嗦\\n3. 不要生成\"根据提供的资料...\"等字眼\\n'}, messages=[SystemMessagePromptTemplate(prompt=PromptTemplate(input_variables=['task_instruction'], template='{{task_instruction}}', template_format='mustache')), AIMessagePromptTemplate(prompt=PromptTemplate(input_variables=[], template='我有哪些资料可以参考？', template_format='mustache')), HumanMessagePromptTemplate(prompt=PromptTemplate(input_variables=['context', 'output_format'], template='你可以参考这些资料：\\n{{context}}\\n你必须按照如下格式输出：{{output_format}}', template_format='mustache')), AIMessagePromptTemplate(prompt=PromptTemplate(input_variables=[], template='好的，我会优先从上面资料寻找答案，如果找不到合适的就会从互联网查询。', template_format='mustache')), MessagesPlaceholder(variable_name='history'), HumanMessagePromptTemplate(prompt=PromptTemplate(input_variables=['question'], template='{{question}}', template_format='mustache'))])"
      ]
     },
     "execution_count": 9,
     "metadata": {},
     "output_type": "execute_result"
    }
   ],
   "source": [
    "load_chat_prompt(\"qa\", \"消防\", in_memory=False)"
   ]
  },
  {
   "cell_type": "code",
   "execution_count": null,
   "id": "ffa06a33-825c-406d-ad44-2dee9f86ea08",
   "metadata": {},
   "outputs": [],
   "source": [
    "from textlong.prompts import save_chat_prompt, load_chat_prompt\n",
    "save_chat_prompt(prompt, \"qa\", \"xiaofang\")"
   ]
  },
  {
   "cell_type": "code",
   "execution_count": null,
   "id": "a248501d-8e15-4539-ab09-180524884c03",
   "metadata": {},
   "outputs": [],
   "source": [
    "query = \"有什么例子\"\n",
    "results = db.similarity_search(query)\n",
    "print(results)\n",
    "# for doc, score in results:\n",
    "#     print(f\"Content: {doc.page_content}, Metadata: {doc.metadata}, Score: {score}\") "
   ]
  },
  {
   "cell_type": "code",
   "execution_count": null,
   "id": "468ae649-4fdc-457c-a6e2-11b8ef5ebeab",
   "metadata": {},
   "outputs": [],
   "source": [
    "%pip install faiss-cpu"
   ]
  },
  {
   "cell_type": "code",
   "execution_count": null,
   "id": "f4147154-bd78-452c-8e1b-448b1e145ae8",
   "metadata": {},
   "outputs": [],
   "source": [
    "from textlong.prompts import save_chat_prompt, load_chat_prompt, create_writing_todo_prompt\n",
    "save_chat_prompt(create_writing_todo_prompt(), \"todo\", \"xiaofang\")"
   ]
  },
  {
   "cell_type": "code",
   "execution_count": null,
   "id": "7576d7ae-cdba-454e-86b2-f81aef0e70df",
   "metadata": {},
   "outputs": [],
   "source": [
    "load_chat_prompt(\"todo\", \"xiaofang\")"
   ]
  },
  {
   "cell_type": "markdown",
   "id": "f04d3093-b37b-40c3-a198-dbb99ec5cde3",
   "metadata": {},
   "source": [
    "## 完整代码"
   ]
  },
  {
   "cell_type": "code",
   "execution_count": 13,
   "id": "6fb6f4fc-02e1-4357-a30a-5461bdae5670",
   "metadata": {},
   "outputs": [
    {
     "name": "stderr",
     "output_type": "stream",
     "text": [
      "/Users/xuehongwei/Library/Caches/pypoetry/virtualenvs/langchain-book-u1j6yauo-py3.10/lib/python3.10/site-packages/huggingface_hub/file_download.py:1132: FutureWarning: `resume_download` is deprecated and will be removed in version 1.0.0. Downloads always resume when possible. If you want to force a new download, use `force_download=True`.\n",
      "  warnings.warn(\n"
     ]
    }
   ],
   "source": [
    "from dotenv import load_dotenv, find_dotenv\n",
    "load_dotenv(find_dotenv(), override=True)\n",
    "\n",
    "# from langchain_openai import OpenAIEmbeddings\n",
    "# embeddings = OpenAIEmbeddings()\n",
    "\n",
    "from langchain_community.embeddings import HuggingFaceEmbeddings\n",
    "embeddings = HuggingFaceEmbeddings(model_name=\"sentence-transformers/paraphrase-multilingual-MiniLM-L12-v2\")\n",
    "\n",
    "# 加载\n",
    "from textlong import format_qa_docs, QAExcelsLoader\n",
    "docs = QAExcelsLoader().load()\n",
    "\n",
    "# 入库\n",
    "from langchain_community.vectorstores import FAISS\n",
    "db = FAISS.from_documents(docs, embeddings)\n",
    "retriever = db.as_retriever()\n",
    "\n",
    "# LLM\n",
    "from langchain_zhipu import ChatZhipuAI\n",
    "llm = ChatZhipuAI()\n",
    "\n",
    "# 提示语\n",
    "from textlong.prompts import create_qa_prompt, load_chat_prompt\n",
    "prompt = load_chat_prompt(\"qa\", \"xiaofang\")\n",
    "\n",
    "# chain\n",
    "chain = {\n",
    "    \"context\":  (lambda x: x['input']) | retriever | format_qa_docs,\n",
    "    \"question\": lambda x: x['input'],\n",
    "    \"history\":  lambda x: x['history'],\n",
    "} | prompt | llm\n",
    "\n",
    "# 记忆\n",
    "from textlong.memory import MemoryManager, WithMemoryBinding\n",
    "memory = MemoryManager()\n",
    "withMemoryChain = WithMemoryBinding(chain, memory)"
   ]
  },
  {
   "cell_type": "code",
   "execution_count": 16,
   "id": "401de534-7283-4d83-83f2-ed8d689556b9",
   "metadata": {},
   "outputs": [
    {
     "name": "stdout",
     "output_type": "stream",
     "text": [
      "需要|根据|具体情况|。\n",
      "\n",
      "规范|解释|：|宿舍|过|道|是否|需要|设置|喷|水|系统|取决于|多种|因素|，|如|宿舍|的建筑|高度|、|人员|密集|程度|、|火灾|风险|等|。|根据|《|建筑设计|防火|规范|》，|如果|宿舍|过|道|属于|人员|密集|区域|或|存在|较高的|火灾|风险|，|应|考虑|设置|喷|水|系统|。|对于|多层|或|高层|宿舍|，|为了|提高|防火|安全性|，|过|道|通常会|设置|喷|淋|系统|。|但对于|低|层|宿舍|，|如果|过|道|宽度|适中|、|通风|良好|且|火灾|风险|较低|，|可能|不需要|设置|喷|水|系统|。||"
     ]
    }
   ],
   "source": [
    "# 提问\n",
    "config = {\"configurable\": {\"session_id\": \"1\"}}\n",
    "for x in withMemoryChain.stream({\"input\": \"宿舍的过道需要吗？\"}, config):\n",
    "    print(x.content, end=\"|\")"
   ]
  },
  {
   "cell_type": "markdown",
   "id": "cf74016e-fdc0-4ebf-8ecc-d478efdbec75",
   "metadata": {},
   "source": [
    "## Tools"
   ]
  },
  {
   "cell_type": "code",
   "execution_count": 17,
   "id": "60d45a67-4619-4e9a-84a5-42d548c358ac",
   "metadata": {},
   "outputs": [
    {
     "name": "stderr",
     "output_type": "stream",
     "text": [
      "/Users/xuehongwei/Library/Caches/pypoetry/virtualenvs/langchain-book-u1j6yauo-py3.10/lib/python3.10/site-packages/huggingface_hub/file_download.py:1132: FutureWarning: `resume_download` is deprecated and will be removed in version 1.0.0. Downloads always resume when possible. If you want to force a new download, use `force_download=True`.\n",
      "  warnings.warn(\n"
     ]
    }
   ],
   "source": [
    "from langchain_core.documents import Document\n",
    "from langchain_community.embeddings import HuggingFaceEmbeddings\n",
    "from langchain_community.vectorstores import FAISS\n",
    "from langchain_zhipu import ChatZhipuAI\n",
    "from textlong.qa import AskDocumentTool, create_qa_chain\n",
    "\n",
    "docs = [Document(page_content=\"textlong是一个长文生成的python模块。\")]\n",
    "\n",
    "llm = ChatZhipuAI()\n",
    "embeddings = HuggingFaceEmbeddings(model_name=\"sentence-transformers/paraphrase-multilingual-MiniLM-L12-v2\")\n",
    "db = FAISS.from_documents(docs, embeddings)\n",
    "retriever = db.as_retriever()\n",
    "\n",
    "chain = create_qa_chain(llm, db.as_retriever())"
   ]
  },
  {
   "cell_type": "code",
   "execution_count": 22,
   "id": "934f37c1-58ca-4f30-9ea9-e72afc96e199",
   "metadata": {},
   "outputs": [
    {
     "data": {
      "text/plain": [
       "AIMessage(content='textlong是一个长文生成的Python模块。通过这个模块，用户可以生成各种样式的长篇文章，适用于需要大量文本内容的不同场景，比如数据填充、测试文档等。', response_metadata={'id': '8689076627888601317', 'created': 1716713414, 'token_usage': {'completion_tokens': 40, 'prompt_tokens': 45, 'total_tokens': 85}, 'model_name': 'glm-4', 'finish_reason': 'stop'}, id='run-e58ad3d1-164c-40dc-96cc-ef1b96f957a1-0')"
      ]
     },
     "execution_count": 22,
     "metadata": {},
     "output_type": "execute_result"
    }
   ],
   "source": [
    "chain.invoke({\"query\": \"textlong是什么?\"})"
   ]
  },
  {
   "cell_type": "code",
   "execution_count": 21,
   "id": "3c6989e8-4c50-4b04-8e9e-5c556a5a814f",
   "metadata": {},
   "outputs": [
    {
     "data": {
      "text/plain": [
       "AIMessage(content='textlong是一个长文生成的Python模块。通过这个模块，用户可以生成各种类型的文本内容，适用于需要大量文本数据的场景，比如文本分析、自然语言处理等领域。具体的功能和用途可能需要参考该模块的官方文档或源代码以获得更详尽的信息。', response_metadata={'id': '8689071920604292138', 'created': 1716713409, 'token_usage': {'completion_tokens': 61, 'prompt_tokens': 45, 'total_tokens': 106}, 'model_name': 'glm-4', 'finish_reason': 'stop'}, id='run-ba845729-532e-4061-a09d-b4a1dde3b129-0')"
      ]
     },
     "execution_count": 21,
     "metadata": {},
     "output_type": "execute_result"
    }
   ],
   "source": [
    "tool = AskDocumentTool(chain=chain)\n",
    "tool.invoke({\"query\": \"textlong是什么?\"})"
   ]
  },
  {
   "cell_type": "code",
   "execution_count": null,
   "id": "a4c88520-f8fd-45a0-809c-44f594dc5732",
   "metadata": {},
   "outputs": [],
   "source": []
  }
 ],
 "metadata": {
  "kernelspec": {
   "display_name": "langchani-book-py3.10-ipykernel",
   "language": "python",
   "name": "langchani-book-py3.10-ipykernel"
  },
  "language_info": {
   "codemirror_mode": {
    "name": "ipython",
    "version": 3
   },
   "file_extension": ".py",
   "mimetype": "text/x-python",
   "name": "python",
   "nbconvert_exporter": "python",
   "pygments_lexer": "ipython3",
   "version": "3.10.0"
  }
 },
 "nbformat": 4,
 "nbformat_minor": 5
}
