{
 "cells": [
  {
   "cell_type": "markdown",
   "id": "c0c14e31-d493-46cd-a376-873e6ba9f7ee",
   "metadata": {},
   "source": [
    "# 欢迎使用 ✨🦋 illufly\n",
    "\n",
    "[![PyPI version](https://img.shields.io/pypi/v/illufly.svg)](https://pypi.org/project/illufly/)\n",
    "\n",
    "`illufly` 是 `illution butterfly` 的缩写，中文为\"幻蝶\"。\n",
    "\n",
    "**illufly** 是一个具有自我进化能力的 Agent 框架，目标是：`基于自我进化，快速创作价值`。\n",
    "\n",
    "illufly 被设计为在意图猜测、问答经验、资料召回率、工具规划能力等各种场景下都具有自我进化能力。<br>\n",
    "本文作为开始，一步一步讲述各种场景下的自我进化如何实现。\n",
    "\n",
    "**请注意:** 由于 illufly 还处于开发状态，为了加强自我进化能力，框架的一些概念会不断更新，使用时请锁定版本。"
   ]
  },
  {
   "cell_type": "markdown",
   "id": "e79bb457-84ba-4fb3-b72c-3cf2d5e25540",
   "metadata": {},
   "source": [
    "## 1 从内置的 RAG 能力开始讲起\n",
    "\n",
    "illufly 使用时简单、直接、快速，但创造价值的场景却很丰富。<br>\n",
    "从 illufly.chat 导入一个封装好的大模型是最常见的开始方式。\n",
    "\n",
    "```python\n",
    "from illufy.chat import ChatQwen\n",
    "```\n",
    "\n",
    "ChatQwen 是 ChatAgent 子类。<br>\n",
    "这一行代码很简单，但你会越来越惊奇地发现，这个 Agent 已经具备很多魔法能力。"
   ]
  },
  {
   "cell_type": "markdown",
   "id": "5d509da3-fa30-4c07-8ac9-7b91138afba0",
   "metadata": {},
   "source": [
    "### 1.1 连续对话\n",
    "\n",
    "**首先是连续对话能力：**"
   ]
  },
  {
   "cell_type": "code",
   "execution_count": 1,
   "id": "a343d4c1-1e33-4943-b4cf-5b4c2b4de7c1",
   "metadata": {},
   "outputs": [
    {
     "name": "stdout",
     "output_type": "stream",
     "text": [
      "\u001b[32m在这\u001b[0m\u001b[32m浩\u001b[0m\u001b[32m瀚\u001b[0m\u001b[32m的\u001b[0m\u001b[32m宇宙中，我\u001b[0m\u001b[32m愿意做你的小\u001b[0m\u001b[32m行星，绕着\u001b[0m\u001b[32m你转，偶尔\u001b[0m\u001b[32m撞进你的心\u001b[0m\u001b[32m里，制造一点\u001b[0m\u001b[32m浪漫的火花和\u001b[0m\u001b[32m小小的混乱。\u001b[0m\u001b[32m\u001b[0m\n"
     ]
    },
    {
     "data": {
      "text/plain": [
       "'在这浩瀚的宇宙中，我愿意做你的小行星，绕着你转，偶尔撞进你的心里，制造一点浪漫的火花和小小的混乱。'"
      ]
     },
     "execution_count": 1,
     "metadata": {},
     "output_type": "execute_result"
    }
   ],
   "source": [
    "from illufly.chat import ChatQwen\n",
    "qwen = ChatQwen()\n",
    "\n",
    "qwen(\"请你帮我写封一句话情书，深情又逗比的那种\")"
   ]
  },
  {
   "cell_type": "markdown",
   "id": "cb7b63c9-37b6-4ae6-8d66-4a5cd9aaa77f",
   "metadata": {},
   "source": [
    "实际上，上述代码已经内置了一些功能特性：\n",
    "\n",
    "- **流式输出** 内置流输出\n",
    "- **支持连续对话** 问答过程是有记忆的，可以连续对话"
   ]
  },
  {
   "cell_type": "markdown",
   "id": "17003ade-7ab3-4bba-b295-0167b69c2939",
   "metadata": {},
   "source": [
    "**查看对话记忆：**"
   ]
  },
  {
   "cell_type": "code",
   "execution_count": 2,
   "id": "0f1ad5b7-796c-4056-9cc5-b52b11d2102f",
   "metadata": {},
   "outputs": [
    {
     "data": {
      "text/plain": [
       "[{'role': 'user', 'content': '请你帮我写封一句话情书，深情又逗比的那种'},\n",
       " {'role': 'assistant',\n",
       "  'content': '在这浩瀚的宇宙中，我愿意做你的小行星，绕着你转，偶尔撞进你的心里，制造一点浪漫的火花和小小的混乱。'}]"
      ]
     },
     "execution_count": 2,
     "metadata": {},
     "output_type": "execute_result"
    }
   ],
   "source": [
    "qwen.memory"
   ]
  },
  {
   "cell_type": "markdown",
   "id": "cc5d10be-41b7-4ff2-8c78-3d09772ec92f",
   "metadata": {},
   "source": [
    "### 1.2 内置 RAG 支持\n",
    "\n",
    "使用 RAG（检索增强生成）是开发大模型应用时的常见场景。<br>\n",
    "illufly 内置了一些 RAG 实现策略，最简单的就是直接将背景知识添加到 Agent 中。\n",
    "\n",
    "**构建最朴素的 RAG 应用：**"
   ]
  },
  {
   "cell_type": "code",
   "execution_count": 37,
   "id": "3c07bdf7-07a5-4a82-b147-406e014faa6b",
   "metadata": {},
   "outputs": [
    {
     "data": {
      "text/plain": [
       "Message(role=system, content=请你帮我写封一句话情书，深情又逗比的那种, 已有知识:)"
      ]
     },
     "execution_count": 37,
     "metadata": {},
     "output_type": "execute_result"
    }
   ],
   "source": [
    "from illufly.types import Messages\n",
    "Messages(PromptTemplate(text=\"请你帮我写封一句话情书，深情又逗比的那种, 已有知识:{{knowledge}}\"), style=\"text\")[-1]"
   ]
  },
  {
   "cell_type": "code",
   "execution_count": 2,
   "id": "7d9efd12-ab2b-4d7d-9c27-3edb01cdcbb8",
   "metadata": {},
   "outputs": [
    {
     "name": "stdout",
     "output_type": "stream",
     "text": [
      "\u001b[32m\"\u001b[0m\u001b[32m亲爱的\u001b[0m\u001b[32m银\u001b[0m\u001b[32m子\u001b[0m\u001b[32m，虽然你的价值\u001b[0m\u001b[32m连城，但我\u001b[0m\u001b[32m愿意用我所有的\u001b[0m\u001b[32m金子，换取\u001b[0m\u001b[32m你的一笑。\u001b[0m\u001b[32m\"\u001b[0m\u001b[32m\u001b[0m\n"
     ]
    },
    {
     "data": {
      "text/plain": [
       "[{'role': 'system',\n",
       "  'content': \"请你帮我写封一句话情书，深情又逗比的那种, ['我的女朋友名字叫林徽因，我喜欢叫她「银子」', '她喜欢叫我「金子」']\"},\n",
       " {'role': 'user', 'content': '请开始'},\n",
       " {'role': 'assistant', 'content': '\"亲爱的银子，虽然你的价值连城，但我愿意用我所有的金子，换取你的一笑。\"'}]"
      ]
     },
     "execution_count": 2,
     "metadata": {},
     "output_type": "execute_result"
    }
   ],
   "source": [
    "from illufly.chat import ChatQwen\n",
    "from illufly.types import PromptTemplate\n",
    "\n",
    "# 声明大模型实例\n",
    "qwen = ChatQwen(knowledge=[\n",
    "    \"我的女朋友名字叫林徽因，我喜欢叫她「银子」\",\n",
    "    \"她喜欢叫我「金子」\",\n",
    "])\n",
    "\n",
    "# 使用模板\n",
    "qwen(\n",
    "    PromptTemplate(\n",
    "        text=\"请你帮我写封一句话情书，深情又逗比的那种, {{knowledge}}\",\n",
    "        binding_map={\"knowledge\": lambda: qwen.get_knowledge()}\n",
    "    )\n",
    ")\n",
    "qwen.memory"
   ]
  },
  {
   "cell_type": "markdown",
   "id": "fea27655-6876-4a00-a1b8-30994771b53f",
   "metadata": {},
   "source": [
    "**将资料保存到文件并根据问题召回：**\n",
    "\n",
    "illufly 也支持传统的 RAG 流程：将文档切分成多个片段，再通过向量模型比较问题和文档片段，这个过程被称为「召回」，也就是从数据库中查找到文本相似的那部份文档片段。\n",
    "\n",
    "你可以把资料整理为 markdown 文件，放入指定位置，比如 `./docs/gf.md` 中，然后使用向量模型嵌入文档，再使用向量数据库检索，最后加载到大模型的提示语中。\n",
    "\n",
    "在 illufly 框架中，这个过程依然非常简洁，你只负责声明实例就可以，其余的交给 illufly 实现。"
   ]
  },
  {
   "cell_type": "code",
   "execution_count": 5,
   "id": "74554bd7-167f-479d-8c61-95da29b268a0",
   "metadata": {},
   "outputs": [
    {
     "name": "stdout",
     "output_type": "stream",
     "text": [
      "\u001b[32m亲爱的\u001b[0m\u001b[32m银\u001b[0m\u001b[32m子\u001b[0m\u001b[32m，\u001b[0m\u001b[32m你是我心中的小白\u001b[0m\u001b[32m兔，不仅因为\u001b[0m\u001b[32m你的灵动可爱，\u001b[0m\u001b[32m更因为你总能\u001b[0m\u001b[32m让我这个大笨\u001b[0m\u001b[32m“金子”\u001b[0m\u001b[32m为你跳起最\u001b[0m\u001b[32m不协调却充满\u001b[0m\u001b[32m爱的舞蹈。\u001b[0m\u001b[32m爱你，是我最美的\u001b[0m\u001b[32m决定。\u001b[0m\u001b[32m\u001b[0m\n"
     ]
    },
    {
     "data": {
      "text/plain": [
       "[{'role': 'user',\n",
       "  'content': '回答时请参考已有知识：\\n@knowledge\\n我的女朋友名字叫林徽因，我喜欢叫她「银子」,\\n她喜欢叫我「金子」,\\n林徽因特别喜欢小兔子\\n\\n**Question**\\n林徽因和她的喜好\\n\\n**Knowledge**\\n林徽因是用户的女朋友，用户私下里称她为“因子”。她称呼用户为“金子”，并且喜欢小白兔。\\n\\n**Question**\\n林徽因的姓名及爱好\\n\\n**Knowledge**\\n林徽因是用户的女朋友，她喜欢小白兔。\\n'},\n",
       " {'role': 'assistant', 'content': 'ok'},\n",
       " {'role': 'user', 'content': '请你帮我写封一句话情书，深情又逗比的那种'},\n",
       " {'role': 'assistant',\n",
       "  'content': '亲爱的银子，你是我心中的小白兔，不仅因为你的灵动可爱，更因为你总能让我这个大笨“金子”为你跳起最不协调却充满爱的舞蹈。爱你，是我最美的决定。'}]"
      ]
     },
     "execution_count": 5,
     "metadata": {},
     "output_type": "execute_result"
    }
   ],
   "source": [
    "from illufly.rag import TextEmbeddings, FaissDB\n",
    "from illufly.chat import ChatQwen\n",
    "\n",
    "# 声明向量数据库并加载指定位置的文档\n",
    "db = FaissDB(embeddings=TextEmbeddings(), top_k=3)\n",
    "db.load(\"./docs\")\n",
    "\n",
    "# 声明大模型实例\n",
    "qwen = ChatQwen(knowledge=[db])\n",
    "\n",
    "# 使用\n",
    "qwen(\"请你帮我写封一句话情书，深情又逗比的那种\")\n",
    "qwen.memory"
   ]
  },
  {
   "cell_type": "markdown",
   "id": "4478c2b4-37a6-4ce3-a3cc-32b7388d4927",
   "metadata": {},
   "source": [
    "### 1.3 在对话中自主进化\n",
    "\n",
    "为了让大模型能够理解对话的背景，采用 RAG 策略的确是好办法，但管理 RAG 文档资料有些繁琐，涉及到文档准备、确认、加载、切分、检索等很多细节。你希望大模型记住的知识也许是未经整理的、碎片化的，这让 RAG 文档资料很难管理。\n",
    "\n",
    "illufly 提供自我进化能力，其中之一就是在对话过程中学习知识。\n",
    "\n",
    "在对话中获得经验需要使用 ChatLearn 子类。"
   ]
  },
  {
   "cell_type": "code",
   "execution_count": 6,
   "id": "04e90d84-61ff-4a28-b917-6813b503e904",
   "metadata": {},
   "outputs": [],
   "source": [
    "from illufly.chat import ChatQwen\n",
    "from illufly.learn import ChatLearn\n",
    "\n",
    "talker = ChatLearn(ChatQwen())"
   ]
  },
  {
   "cell_type": "code",
   "execution_count": 7,
   "id": "ec923d43-52ba-466e-9221-08bee6e96d65",
   "metadata": {},
   "outputs": [
    {
     "name": "stdout",
     "output_type": "stream",
     "text": [
      "[AGENT] \u001b[34m>>> Node 1: Scribe\u001b[0m\n",
      "\u001b[32m当然\u001b[0m\u001b[32m可以\u001b[0m\u001b[32m，\u001b[0m\u001b[32m我很\u001b[0m\u001b[32m乐意听你分享\u001b[0m\u001b[32m关于你女朋友的事情\u001b[0m\u001b[32m。你可以告诉我一些\u001b[0m\u001b[32m她的兴趣爱好、\u001b[0m\u001b[32m你们是如何认识的\u001b[0m\u001b[32m，或者任何你觉得\u001b[0m\u001b[32m有趣的事情。\u001b[0m\u001b[32m\u001b[0m\n"
     ]
    },
    {
     "data": {
      "text/plain": [
       "'当然可以，我很乐意听你分享关于你女朋友的事情。你可以告诉我一些她的兴趣爱好、你们是如何认识的，或者任何你觉得有趣的事情。'"
      ]
     },
     "execution_count": 7,
     "metadata": {},
     "output_type": "execute_result"
    }
   ],
   "source": [
    "talker(\"我跟你说说我的女朋友\")"
   ]
  },
  {
   "cell_type": "code",
   "execution_count": 8,
   "id": "b0152f8e-dd37-40bf-b2b1-7efcc4c169d6",
   "metadata": {},
   "outputs": [
    {
     "name": "stdout",
     "output_type": "stream",
     "text": [
      "[AGENT] \u001b[34m>>> Node 1: Scribe\u001b[0m\n",
      "\u001b[32m听起来\u001b[0m\u001b[32m你们\u001b[0m\u001b[32m之间的\u001b[0m\u001b[32m昵\u001b[0m\u001b[32m称很有意思。\u001b[0m\u001b[32m林徽因这个名字\u001b[0m\u001b[32m也很好听。\u001b[0m\u001b[32m你们是怎么认识的\u001b[0m\u001b[32m呢？有没有什么\u001b[0m\u001b[32m特别的故事？\u001b[0m\u001b[32m\u001b[0m\n"
     ]
    },
    {
     "data": {
      "text/plain": [
       "'听起来你们之间的昵称很有意思。林徽因这个名字也很好听。你们是怎么认识的呢？有没有什么特别的故事？'"
      ]
     },
     "execution_count": 8,
     "metadata": {},
     "output_type": "execute_result"
    }
   ],
   "source": [
    "talker(\"她叫林徽因，我私下里叫她`银子`，她就叫我`金子`\")"
   ]
  },
  {
   "cell_type": "code",
   "execution_count": 9,
   "id": "335bbacc-1857-432b-bdc7-5856963f609c",
   "metadata": {},
   "outputs": [
    {
     "name": "stdout",
     "output_type": "stream",
     "text": [
      "[AGENT] \u001b[34m>>> Node 1: Scribe\u001b[0m\n",
      "\u001b[32m**\u001b[0m\u001b[32m思考\u001b[0m\u001b[32m**\n",
      "\u001b[0m\u001b[32m-\u001b[0m\u001b[32m 对话中的关键\u001b[0m\u001b[32m信息包括：用户\u001b[0m\u001b[32m女朋友的名字叫林\u001b[0m\u001b[32m徽因，用户\u001b[0m\u001b[32m私下里叫她\u001b[0m\u001b[32m“银子”，\u001b[0m\u001b[32m她则叫用户\u001b[0m\u001b[32m“金子”\u001b[0m\u001b[32m。\n",
      "- 对比\u001b[0m\u001b[32m已有的知识，\u001b[0m\u001b[32m没有发现与上述\u001b[0m\u001b[32m信息相关的`@\u001b[0m\u001b[32mknowledge`开头的内容\u001b[0m\u001b[32m。\n",
      "- 这\u001b[0m\u001b[32m些信息是新的\u001b[0m\u001b[32m，且不与\u001b[0m\u001b[32m任何已知信息\u001b[0m\u001b[32m冲突。\n",
      "- \u001b[0m\u001b[32m信息包含新增的内容\u001b[0m\u001b[32m，如昵称\u001b[0m\u001b[32m和名字。\n",
      "\n",
      "**\u001b[0m\u001b[32m决定**\n",
      "- \u001b[0m\u001b[32m没有发现\u001b[0m\u001b[32m与`@knowledge\u001b[0m\u001b[32m`开头的已有\u001b[0m\u001b[32m知识存在冲突。\n",
      "\u001b[0m\u001b[32m- 没\u001b[0m\u001b[32m有发现与`\u001b[0m\u001b[32m@knowledge`开头\u001b[0m\u001b[32m的已有知识基本\u001b[0m\u001b[32m重复的内容。\n",
      "-\u001b[0m\u001b[32m 因此，\u001b[0m\u001b[32m返回`question`\u001b[0m\u001b[32m和`knowledge`\u001b[0m\u001b[32m。\n",
      "\n",
      "**结论**\n",
      "\n",
      "\u001b[0m\u001b[32m<question>\n",
      "用户\u001b[0m\u001b[32m女朋友的名字及昵\u001b[0m\u001b[32m称是什么？\n",
      "</\u001b[0m\u001b[32mquestion>\n",
      "\n",
      "<knowledge\u001b[0m\u001b[32m>\n",
      "用户女朋友的名字\u001b[0m\u001b[32m叫林徽因\u001b[0m\u001b[32m，用户私下里\u001b[0m\u001b[32m称呼她为“\u001b[0m\u001b[32m银子”，而\u001b[0m\u001b[32m她则称呼用户\u001b[0m\u001b[32m为“金子\u001b[0m\u001b[32m”。\n",
      "</knowledge\u001b[0m\u001b[32m>\u001b[0m\u001b[32m\u001b[0m\n",
      "[AGENT] \u001b[34m>>> Node 3: Fetch_FAQ\u001b[0m\n",
      "[FAQ] \u001b[34m保存知识到[099671-7364-0000]：用户女朋友的名字及昵称是什么？ -> 用户女朋友的名字叫林徽因，用户私下里称呼她为“银子”，而她则称呼用户为“金子”。\u001b[0m\n"
     ]
    },
    {
     "data": {
      "text/plain": [
       "'**思考**\\n- 对话中的关键信息包括：用户女朋友的名字叫林徽因，用户私下里叫她“银子”，她则叫用户“金子”。\\n- 对比已有的知识，没有发现与上述信息相关的`@knowledge`开头的内容。\\n- 这些信息是新的，且不与任何已知信息冲突。\\n- 信息包含新增的内容，如昵称和名字。\\n\\n**决定**\\n- 没有发现与`@knowledge`开头的已有知识存在冲突。\\n- 没有发现与`@knowledge`开头的已有知识基本重复的内容。\\n- 因此，返回`question`和`knowledge`。\\n\\n**结论**\\n\\n<question>\\n用户女朋友的名字及昵称是什么？\\n</question>\\n\\n<knowledge>\\n用户女朋友的名字叫林徽因，用户私下里称呼她为“银子”，而她则称呼用户为“金子”。\\n</knowledge>'"
      ]
     },
     "execution_count": 9,
     "metadata": {},
     "output_type": "execute_result"
    }
   ],
   "source": [
    "talker(\"你帮我总结吧\")"
   ]
  },
  {
   "cell_type": "markdown",
   "id": "309f3748-92cd-429f-9884-a5e8e55831a1",
   "metadata": {},
   "source": [
    "### 1.4 使用在对话中获得的经验"
   ]
  },
  {
   "cell_type": "code",
   "execution_count": 10,
   "id": "fa6f20a9-baa5-4d6a-bfed-f658fe615af7",
   "metadata": {},
   "outputs": [
    {
     "name": "stdout",
     "output_type": "stream",
     "text": [
      "\u001b[32m你的\u001b[0m\u001b[32m女朋友\u001b[0m\u001b[32m叫\u001b[0m\u001b[32m林\u001b[0m\u001b[32m徽因，她\u001b[0m\u001b[32m喜欢小白兔。\u001b[0m\u001b[32m另外，你私下\u001b[0m\u001b[32m里称呼她为\u001b[0m\u001b[32m“银子”\u001b[0m\u001b[32m或“因子”，\u001b[0m\u001b[32m而她则称呼\u001b[0m\u001b[32m你为“金\u001b[0m\u001b[32m子”。\u001b[0m\u001b[32m\u001b[0m\n"
     ]
    },
    {
     "data": {
      "text/plain": [
       "'你的女朋友叫林徽因，她喜欢小白兔。另外，你私下里称呼她为“银子”或“因子”，而她则称呼你为“金子”。'"
      ]
     },
     "execution_count": 10,
     "metadata": {},
     "output_type": "execute_result"
    }
   ],
   "source": [
    "from illufly.rag import FaissDB, TextEmbeddings\n",
    "from illufly.chat import ChatQwen\n",
    "\n",
    "db = FaissDB(embeddings=TextEmbeddings(), top_k=3)\n",
    "qwen = ChatQwen(knowledge=[db])\n",
    "\n",
    "qwen(\"你知道我女朋友叫什么吗？有什么爱好?\")"
   ]
  },
  {
   "cell_type": "markdown",
   "id": "26de6c62-c926-4eec-97be-da39dbd8090f",
   "metadata": {},
   "source": [
    "### 1.5 管理经验数据\n",
    "\n",
    "illufly 的设置很多都是通过环境变量来指定的。<br>\n",
    "在 python 中你可以通过 dotenv 来管理环境变量的设置，也可以通过 docker 或 python 的 os 模块来指定。\n",
    "\n",
    "**使用 config 模块的 get_env() 可以查看经验目录的默认值**\n",
    "\n",
    "对于不同的操作系统来说，这个目录位置可能有所不同，但默认情况下这应该是一个临时目录。"
   ]
  },
  {
   "cell_type": "code",
   "execution_count": 12,
   "id": "ac72a38d-6c7c-4138-a02a-7a026d47d385",
   "metadata": {},
   "outputs": [
    {
     "data": {
      "text/plain": [
       "'/var/folders/f5/rlf27f4n6wzc_k4x7y4vzm5h0000gn/T/__ILLUFLY__/CHART_LEARN'"
      ]
     },
     "execution_count": 12,
     "metadata": {},
     "output_type": "execute_result"
    }
   ],
   "source": [
    "from illufly.config import get_env\n",
    "\n",
    "# 如果不带参数，就返回所有环境变量的默认值\n",
    "get_env(\"ILLUFLY_CHAT_LEARN\")"
   ]
  },
  {
   "cell_type": "markdown",
   "id": "cd8be690-692a-4c9e-a299-aa862ed2bcb7",
   "metadata": {},
   "source": [
    "**如果你不喜欢这个目录可以改为其他位置。不过在此之前，你也可以将已有经验迁移过来：**"
   ]
  },
  {
   "cell_type": "code",
   "execution_count": 13,
   "id": "c74f14d0-3f0a-44ed-9969-adc4c3c3a0e3",
   "metadata": {},
   "outputs": [
    {
     "data": {
      "text/plain": [
       "'从 /var/folders/f5/rlf27f4n6wzc_k4x7y4vzm5h0000gn/T/__ILLUFLY__/CHART_LEARN 拷贝到 ./XP 完成，共克隆了 3 个文件。'"
      ]
     },
     "execution_count": 13,
     "metadata": {},
     "output_type": "execute_result"
    }
   ],
   "source": [
    "qwen.clone_chat_learn(\"./XP\")"
   ]
  },
  {
   "cell_type": "markdown",
   "id": "0a4d3ff6-3efc-4d0d-a158-d2926e1de55e",
   "metadata": {},
   "source": [
    "**你可以通过 os.environ 来指定环境变量的值，设定新的经验存储目录：**"
   ]
  },
  {
   "cell_type": "code",
   "execution_count": 14,
   "id": "5063d285-7621-44e2-9b2d-9d78d0fd2972",
   "metadata": {},
   "outputs": [
    {
     "data": {
      "text/plain": [
       "'./XP'"
      ]
     },
     "execution_count": 14,
     "metadata": {},
     "output_type": "execute_result"
    }
   ],
   "source": [
    "import os\n",
    "os.environ[\"ILLUFLY_CHAT_LEARN\"] = \"./XP\"\n",
    "get_env(\"ILLUFLY_CHAT_LEARN\")"
   ]
  },
  {
   "cell_type": "markdown",
   "id": "93b1c58c-b880-44cd-97cd-1720bd5a6c26",
   "metadata": {},
   "source": [
    "上面简单介绍了基于文档资料的 RAG 和基于经验的 RAG 实现。<br>\n",
    "接下来，继续介绍 illufly 中对于流行的智能体论文的实践和内置支持。"
   ]
  },
  {
   "cell_type": "markdown",
   "id": "127afa8a-376b-4bd9-8a3a-47bc5684b0d7",
   "metadata": {},
   "source": [
    "## 2 单智能体和工具回调\n",
    "\n",
    "illufly 的 ChatAgent 天然具有使用工具的能力，可以直接作为单智能体使用。"
   ]
  },
  {
   "cell_type": "markdown",
   "id": "f40bec59-0776-4837-91fb-4caaac070d30",
   "metadata": {},
   "source": [
    "### 2.1 所有 ChatAgent 都是 OpenAI 工具回调风格的智能体\n",
    "\n",
    "在`illufly`中，所有对话智能体内置支持工具回调，只需要提供`tools`参数。<br>\n",
    "而普通 python 函数即可当作工具使用。\n",
    "\n",
    "**以下示例是定义工具和使用工具的过程：**"
   ]
  },
  {
   "cell_type": "code",
   "execution_count": 17,
   "id": "94b7be91-d91a-4fa7-9c27-5dbae8f15bd7",
   "metadata": {},
   "outputs": [
    {
     "name": "stdout",
     "output_type": "stream",
     "text": [
      "\n",
      "\n",
      "[FINAL_TOOLS_CALL] \u001b[36m[{\"index\": 0, \"id\": \"call_8fc2bc07fb6d478ab1eb97\", \"type\": \"function\", \"function\": {\"name\": \"get_current_weather\", \"arguments\": \"{\\\"location\\\": \\\"广州\\\"}\"}}]\u001b[0m\n",
      "\u001b[33m广州今天是晴天。 \u001b[0m\n",
      "\u001b[32m今天\u001b[0m\u001b[32m广州\u001b[0m\u001b[32m是晴天，\u001b[0m\u001b[32m非常适合晒被子\u001b[0m\u001b[32m哦。\u001b[0m\u001b[32m\u001b[0m\n"
     ]
    },
    {
     "data": {
      "text/plain": [
       "[{'role': 'user', 'content': '今天广州可以晒被子吗'},\n",
       " {'role': 'assistant',\n",
       "  'content': '',\n",
       "  'tool_calls': [{'index': 0,\n",
       "    'id': 'call_8fc2bc07fb6d478ab1eb97',\n",
       "    'type': 'function',\n",
       "    'function': {'name': 'get_current_weather',\n",
       "     'arguments': '{\"location\": \"广州\"}'}}]},\n",
       " {'tool_call_id': 'call_8fc2bc07fb6d478ab1eb97',\n",
       "  'role': 'tool',\n",
       "  'name': 'get_current_weather',\n",
       "  'content': '广州今天是晴天。 '},\n",
       " {'role': 'assistant', 'content': '今天广州是晴天，非常适合晒被子哦。'}]"
      ]
     },
     "execution_count": 17,
     "metadata": {},
     "output_type": "execute_result"
    }
   ],
   "source": [
    "from illufly.chat import ChatQwen\n",
    "\n",
    "def get_current_weather(location: str=None):\n",
    "    \"\"\"获取城市的天气情况\"\"\"\n",
    "    return f\"{location}今天是晴天。 \"\n",
    "\n",
    "qwen = ChatQwen(tools=[get_current_weather])\n",
    "\n",
    "qwen(\"今天广州可以晒被子吗\", verbose=False)\n",
    "qwen.memory"
   ]
  },
  {
   "cell_type": "markdown",
   "id": "e59f72aa-4124-41fe-b168-42fb8d1aaac0",
   "metadata": {},
   "source": [
    "### 2.2 其他单智能体实现\n",
    "\n",
    "illufly 内置实现了 ReAct、ReWoo、Plan and Solve 等流行的单智能体论文的实践。<br>\n",
    "\n",
    "| FlowAgent子类 | 推理方式 | 论文来源 |\n",
    "|:----|:--------|:------------|\n",
    "|ReAct|一边推理一边执行|[ReAct](https://arxiv.org/abs/2210.03629) |\n",
    "|ReWOO|一次性规划所有步骤后一起执行|[ReWOO](https://arxiv.org/abs/2305.18323) |\n",
    "|PlanAndSolve|一边修订总体计划一边执行|[Plan-and-Solve](https://arxiv.org/abs/2305.04091) |\n",
    "\n",
    "**illufly 如何实现工具回调能力的自我进化呢？** <br>\n",
    "这是一个重要但复杂的话题，本文作为入门教程不展开讲述。"
   ]
  },
  {
   "cell_type": "code",
   "execution_count": 5,
   "id": "12e3e448-da47-4b55-a2f0-612df50ea09e",
   "metadata": {},
   "outputs": [],
   "source": [
    "from illufly.chat import ChatQwen\n",
    "from illufly.flow import ReAct\n",
    "\n",
    "def get_city(location: str):\n",
    "    \"\"\"由任意地名或地址描述查询出所在的城市\"\"\"\n",
    "    return \"重庆\"\n",
    "\n",
    "def get_weather(city: str):\n",
    "    \"\"\"我可以查询城市的天气情况。city必须是明确的城市名称。\"\"\"\n",
    "    return f'{city}今天暴雨'\n",
    "\n",
    "def booking(request: str):\n",
    "    \"\"\"你出差时，我可以帮你安排好到达地点后的酒店、出行等一切事宜\"\"\"\n",
    "    return '我已经帮你预订好酒店，祝你出差顺利'\n",
    "\n",
    "search = ChatQwen(\n",
    "    name=\"搜索小能手\",\n",
    "    description=\"我擅长互联网资料收集\",\n",
    "    enable_search=True,\n",
    "    memory=('system', '你是一个互联网资料收集专家,根据提问的问题整理好收集的资讯。注意你收集到相关资料后，直接总结关键信息并返回即可。')\n",
    ")"
   ]
  },
  {
   "cell_type": "code",
   "execution_count": 6,
   "id": "b39016e4-01d3-4c60-a1c9-d85fc1e03cd2",
   "metadata": {},
   "outputs": [
    {
     "data": {
      "text/plain": [
       "{'type': 'function',\n",
       " 'function': {'name': '搜索小能手',\n",
       "  'description': '我擅长互联网资料收集',\n",
       "  'parameters': {'type': 'object',\n",
       "   'properties': {'prompt': {'type': 'string', 'description': '详细描述用户问题'}},\n",
       "   'required': ['prompt']}}}"
      ]
     },
     "execution_count": 6,
     "metadata": {},
     "output_type": "execute_result"
    }
   ],
   "source": [
    "search.tool_desc"
   ]
  },
  {
   "cell_type": "markdown",
   "id": "389144a6-ad46-4aa2-84cc-aa2142abf24a",
   "metadata": {},
   "source": [
    "**首先，直接使用 OpenAI 工具回调风格的智能体：**"
   ]
  },
  {
   "cell_type": "code",
   "execution_count": 7,
   "id": "5d662443-6b28-49ce-9604-7d434362dee9",
   "metadata": {},
   "outputs": [
    {
     "name": "stdout",
     "output_type": "stream",
     "text": [
      "\n",
      "\n",
      "[FINAL_TOOLS_CALL] \u001b[36m[{\"index\": 0, \"id\": \"call_1198d869cc8f49c3b9f346\", \"type\": \"function\", \"function\": {\"name\": \"搜索小能手\", \"arguments\": \"{\\\"prompt\\\": \\\"ReAct、ReWOO、PlanAndSolve等不同智能体论文的实现思路差异是什么？\\\"}\"}}]\u001b[0m\n",
      "[AGENT] \u001b[34m搜索小能手\u001b[0m\n",
      "\u001b[32m1\u001b[0m\u001b[32m.\u001b[0m\u001b[32m Re\u001b[0m\u001b[32mAct\u001b[0m\u001b[32m: ReAct是\u001b[0m\u001b[32m通过将预训练\u001b[0m\u001b[32m的语言模型与环境\u001b[0m\u001b[32m交互的能力结合起来，\u001b[0m\u001b[32m从而增强其解决问题\u001b[0m\u001b[32m的能力。具体来说\u001b[0m\u001b[32m，ReAct使用\u001b[0m\u001b[32m了“思考”\u001b[0m\u001b[32m和“行动”的\u001b[0m\u001b[32m交替过程，其中\u001b[0m\u001b[32m“思考”是指\u001b[0m\u001b[32m语言模型生成对\u001b[0m\u001b[32m问题的理解和计划\u001b[0m\u001b[32m，“行动”则是\u001b[0m\u001b[32m指基于这些计划\u001b[0m\u001b[32m在环境中执行操作\u001b[0m\u001b[32m。这种机制使\u001b[0m\u001b[32m模型能够更有效地\u001b[0m\u001b[32m利用环境反馈来\u001b[0m\u001b[32m指导自己的行为，\u001b[0m\u001b[32m从而提高了解决\u001b[0m\u001b[32m问题的效率。\n",
      "\n",
      "\u001b[0m\u001b[32m2. ReW\u001b[0m\u001b[32mOO: ReW\u001b[0m\u001b[32mOO（Retrie\u001b[0m\u001b[32mval-Augmented Web\u001b[0m\u001b[32m Observation Overlord）\u001b[0m\u001b[32m则是在处理Web\u001b[0m\u001b[32m任务时，通过\u001b[0m\u001b[32m结合检索增强技术\u001b[0m\u001b[32m来提升模型性能\u001b[0m\u001b[32m。ReWO\u001b[0m\u001b[32mO不仅利用了语言\u001b[0m\u001b[32m模型的强大文本理解\u001b[0m\u001b[32m能力，还引入\u001b[0m\u001b[32m了一个专门用于从\u001b[0m\u001b[32m网页中提取相关信息\u001b[0m\u001b[32m的组件。该\u001b[0m\u001b[32m组件可以识别页面\u001b[0m\u001b[32m上的重要元素，并\u001b[0m\u001b[32m将其作为额外输入\u001b[0m\u001b[32m提供给主模型\u001b[0m\u001b[32m，帮助模型更好地\u001b[0m\u001b[32m理解和完成复杂的Web\u001b[0m\u001b[32m任务。\n",
      "\n",
      "3.\u001b[0m\u001b[32m PlanAndSolve\u001b[0m\u001b[32m: PlanAndS\u001b[0m\u001b[32molve方法侧重于\u001b[0m\u001b[32m构建一个明确的\u001b[0m\u001b[32m规划过程来指导\u001b[0m\u001b[32m模型解决问题。它\u001b[0m\u001b[32m首先让模型生成\u001b[0m\u001b[32m一个详细的行动计划，\u001b[0m\u001b[32m然后按照这个计划\u001b[0m\u001b[32m逐步执行任务。\u001b[0m\u001b[32m如果遇到障碍或\u001b[0m\u001b[32m失败，模型会\u001b[0m\u001b[32m重新评估当前状况\u001b[0m\u001b[32m并调整其策略\u001b[0m\u001b[32m。这种方法强调了\u001b[0m\u001b[32m规划的重要性，使得\u001b[0m\u001b[32m模型能够在面对复杂\u001b[0m\u001b[32m任务时更加有\u001b[0m\u001b[32m条理地进行\u001b[0m\u001b[32m决策。\n",
      "\n",
      "总结：\u001b[0m\u001b[32m这三种方法虽然\u001b[0m\u001b[32m都旨在提升AI\u001b[0m\u001b[32m智能体解决问题的能力\u001b[0m\u001b[32m，但它们各自\u001b[0m\u001b[32m采用了不同的策略：\u001b[0m\u001b[32mReAct通过环境\u001b[0m\u001b[32m互动来学习；\u001b[0m\u001b[32mReWOO借助\u001b[0m\u001b[32m外部信息检索加强\u001b[0m\u001b[32m理解；而Plan\u001b[0m\u001b[32mAndSolve则\u001b[0m\u001b[32m注重于制定和\u001b[0m\u001b[32m执行具体的行动计划。\u001b[0m\u001b[32m\u001b[0m\u001b[32m\u001b[0m\n",
      "\n",
      "\u001b[32m这\u001b[0m\u001b[32m三\u001b[0m\u001b[32m篇论文提出的智能\u001b[0m\u001b[32m体实现思路各有\u001b[0m\u001b[32m特色：\n",
      "\n",
      "- **\u001b[0m\u001b[32mReAct** 方法\u001b[0m\u001b[32m通过结合预训练\u001b[0m\u001b[32m语言模型与环境\u001b[0m\u001b[32m互动的能力，采用\u001b[0m\u001b[32m“思考”和\u001b[0m\u001b[32m“行动”交替\u001b[0m\u001b[32m的方式，增强了解\u001b[0m\u001b[32m决问题时的\u001b[0m\u001b[32m适应性和效率。\u001b[0m\u001b[32m这种方式允许模型根据\u001b[0m\u001b[32m环境反馈调整自己的\u001b[0m\u001b[32m行为，非常适合需要\u001b[0m\u001b[32m动态调整策略的任务\u001b[0m\u001b[32m场景。\n",
      "\n",
      "- **\u001b[0m\u001b[32mReWOO (\u001b[0m\u001b[32mRetrieval-Aug\u001b[0m\u001b[32mmented Web Observation Over\u001b[0m\u001b[32mlord)** 则\u001b[0m\u001b[32m专注于Web任务处理\u001b[0m\u001b[32m，通过集成检索\u001b[0m\u001b[32m增强技术，提高了\u001b[0m\u001b[32m模型从网页中\u001b[0m\u001b[32m获取和利用信息\u001b[0m\u001b[32m的能力。ReW\u001b[0m\u001b[32mOO特别设计了一个\u001b[0m\u001b[32m组件来识别网页\u001b[0m\u001b[32m上的关键元素，并\u001b[0m\u001b[32m将这些信息作为\u001b[0m\u001b[32m补充输入提供给\u001b[0m\u001b[32m主模型，这对于\u001b[0m\u001b[32m涉及大量非结构\u001b[0m\u001b[32m化数据的任务非常\u001b[0m\u001b[32m有用。\n",
      "\n",
      "- **\u001b[0m\u001b[32mPlanAndSolve\u001b[0m\u001b[32m** 强调\u001b[0m\u001b[32m了在解决复杂\u001b[0m\u001b[32m任务前制定明确\u001b[0m\u001b[32m计划的重要性。该\u001b[0m\u001b[32m方法鼓励模型先\u001b[0m\u001b[32m生成一个详细的行动计划\u001b[0m\u001b[32m，然后依照此\u001b[0m\u001b[32m计划执行。当\u001b[0m\u001b[32m遇到挑战时，\u001b[0m\u001b[32m模型会重新评估\u001b[0m\u001b[32m当前状态并调整\u001b[0m\u001b[32m其策略，这种方法\u001b[0m\u001b[32m有助于提高解决多\u001b[0m\u001b[32m步骤任务的成功率\u001b[0m\u001b[32m。\n",
      "\n",
      "综上所述\u001b[0m\u001b[32m，尽管这些方法\u001b[0m\u001b[32m的目标都是为了提升\u001b[0m\u001b[32m智能体解决问题的能力\u001b[0m\u001b[32m，但它们分别\u001b[0m\u001b[32m侧重于不同的方面\u001b[0m\u001b[32m：ReAct关注\u001b[0m\u001b[32m的是环境互动学习\u001b[0m\u001b[32m，ReWO\u001b[0m\u001b[32mO重视外部信息的有效\u001b[0m\u001b[32m利用，而Plan\u001b[0m\u001b[32mAndSolve则\u001b[0m\u001b[32m强调了规划与\u001b[0m\u001b[32m调整的重要性。每\u001b[0m\u001b[32m种方法都有其\u001b[0m\u001b[32m独特的优势，适用于\u001b[0m\u001b[32m不同类型的问题和应用场景\u001b[0m\u001b[32m。\u001b[0m\u001b[32m\u001b[0m\n"
     ]
    },
    {
     "data": {
      "text/plain": [
       "'这三篇论文提出的智能体实现思路各有特色：\\n\\n- **ReAct** 方法通过结合预训练语言模型与环境互动的能力，采用“思考”和“行动”交替的方式，增强了解决问题时的适应性和效率。这种方式允许模型根据环境反馈调整自己的行为，非常适合需要动态调整策略的任务场景。\\n\\n- **ReWOO (Retrieval-Augmented Web Observation Overlord)** 则专注于Web任务处理，通过集成检索增强技术，提高了模型从网页中获取和利用信息的能力。ReWOO特别设计了一个组件来识别网页上的关键元素，并将这些信息作为补充输入提供给主模型，这对于涉及大量非结构化数据的任务非常有用。\\n\\n- **PlanAndSolve** 强调了在解决复杂任务前制定明确计划的重要性。该方法鼓励模型先生成一个详细的行动计划，然后依照此计划执行。当遇到挑战时，模型会重新评估当前状态并调整其策略，这种方法有助于提高解决多步骤任务的成功率。\\n\\n综上所述，尽管这些方法的目标都是为了提升智能体解决问题的能力，但它们分别侧重于不同的方面：ReAct关注的是环境互动学习，ReWOO重视外部信息的有效利用，而PlanAndSolve则强调了规划与调整的重要性。每种方法都有其独特的优势，适用于不同类型的问题和应用场景。'"
      ]
     },
     "execution_count": 7,
     "metadata": {},
     "output_type": "execute_result"
    }
   ],
   "source": [
    "qwen = ChatQwen(tools=[get_city, get_weather, booking, search])\n",
    "qwen(\"ReAct、ReWOO、PlanAndSolve等不同智能体论文的实现思路差异是什么？\")"
   ]
  },
  {
   "cell_type": "markdown",
   "id": "4d893777-cbac-435f-89af-e19242e05a75",
   "metadata": {},
   "source": [
    "**然后，使用 ReAct 单步推理智能体：**"
   ]
  },
  {
   "cell_type": "code",
   "execution_count": 8,
   "id": "4191979c-2791-4bca-9830-35ab49cc5265",
   "metadata": {},
   "outputs": [
    {
     "name": "stdout",
     "output_type": "stream",
     "text": [
      "[AGENT] \u001b[34m>>> Node 1: planner\u001b[0m\n",
      "\u001b[32m**\u001b[0m\u001b[32m思考\u001b[0m\u001b[32m**\u001b[0m\u001b[32m  \n",
      "\u001b[0m\u001b[32m任务中包含的关键\u001b[0m\u001b[32m概念包括：Re\u001b[0m\u001b[32mAct、ReW\u001b[0m\u001b[32mOO、PlanAnd\u001b[0m\u001b[32mSolve。这些都是\u001b[0m\u001b[32m不同的智能体模型\u001b[0m\u001b[32m或框架。任务\u001b[0m\u001b[32m的目标是理解这些\u001b[0m\u001b[32m模型之间的实现思路\u001b[0m\u001b[32m差异。为了达到\u001b[0m\u001b[32m这一目标，我们需要\u001b[0m\u001b[32m先了解每个模型\u001b[0m\u001b[32m的基本原理和特点\u001b[0m\u001b[32m，然后比较它们\u001b[0m\u001b[32m之间的异同。\n",
      "\n",
      "\u001b[0m\u001b[32m1. ReAct\u001b[0m\u001b[32m\n",
      "   - \u001b[0m\u001b[32m定义与背景\u001b[0m\u001b[32m\n",
      "   - \u001b[0m\u001b[32m核心机制\n",
      "\u001b[0m\u001b[32m   - 应\u001b[0m\u001b[32m用场景\n",
      "2\u001b[0m\u001b[32m. ReWOO\u001b[0m\u001b[32m\n",
      "   - \u001b[0m\u001b[32m定义与背景\u001b[0m\u001b[32m\n",
      "   - \u001b[0m\u001b[32m核心机制\n",
      "\u001b[0m\u001b[32m   - 应\u001b[0m\u001b[32m用场景\n",
      "3\u001b[0m\u001b[32m. PlanAndS\u001b[0m\u001b[32molve\n",
      "   -\u001b[0m\u001b[32m 定义与\u001b[0m\u001b[32m背景\n",
      "   -\u001b[0m\u001b[32m 核心机制\u001b[0m\u001b[32m\n",
      "   - \u001b[0m\u001b[32m应用场景\n",
      "\n",
      "\u001b[0m\u001b[32m观察以前的执行\u001b[0m\u001b[32m记录，上述概念\u001b[0m\u001b[32m拆解是完整的\u001b[0m\u001b[32m。但是，对于\u001b[0m\u001b[32m每个关键概念或\u001b[0m\u001b[32m要素的查询，\u001b[0m\u001b[32m我们还没有具体的信息\u001b[0m\u001b[32m。因此，下一步\u001b[0m\u001b[32m需要通过搜索来\u001b[0m\u001b[32m获取关于这三个模型\u001b[0m\u001b[32m的具体信息。\n",
      "\n",
      "**\u001b[0m\u001b[32m行动**  \n",
      "Step\u001b[0m\u001b[32m1: 搜索\u001b[0m\u001b[32mReAct的相关信息\u001b[0m\u001b[32m. #E1\u001b[0m\u001b[32m = 搜索小\u001b[0m\u001b[32m能手[{\"\u001b[0m\u001b[32mprompt\": \"Re\u001b[0m\u001b[32mAct智能体模型\u001b[0m\u001b[32m的定义、核心\u001b[0m\u001b[32m机制及应用场景\"}\u001b[0m\u001b[32m]\n",
      "Step2:\u001b[0m\u001b[32m 搜索ReW\u001b[0m\u001b[32mOO的相关信息.\u001b[0m\u001b[32m #E2 =\u001b[0m\u001b[32m 搜索小能\u001b[0m\u001b[32m手[{\"prompt\u001b[0m\u001b[32m\": \"ReW\u001b[0m\u001b[32mOO智能体模型\u001b[0m\u001b[32m的定义、核心\u001b[0m\u001b[32m机制及应用场景\"}\u001b[0m\u001b[32m]\n",
      "Step3:\u001b[0m\u001b[32m 搜索PlanAnd\u001b[0m\u001b[32mSolve的相关信息\u001b[0m\u001b[32m. #E3\u001b[0m\u001b[32m = 搜索小\u001b[0m\u001b[32m能手[{\"\u001b[0m\u001b[32mprompt\": \"Plan\u001b[0m\u001b[32mAndSolve智能\u001b[0m\u001b[32m体模型的定义\u001b[0m\u001b[32m、核心机制及\u001b[0m\u001b[32m应用场景\"}]\u001b[0m\u001b[32m\u001b[0m\n",
      "[AGENT] \u001b[34m搜索小能手\u001b[0m\n",
      "\u001b[32m###\u001b[0m\u001b[32m Re\u001b[0m\u001b[32mAct\u001b[0m\u001b[32m \u001b[0m\u001b[32m智能体\u001b[0m\u001b[32m模型定义\n",
      "\n",
      "Re\u001b[0m\u001b[32mAct (Reasoning\u001b[0m\u001b[32m and Acting) 是\u001b[0m\u001b[32m一种结合了语言\u001b[0m\u001b[32m理解和环境互动的\u001b[0m\u001b[32m智能体架构，\u001b[0m\u001b[32m旨在通过强化学习\u001b[0m\u001b[32m和自然语言处理\u001b[0m\u001b[32m技术，使智能\u001b[0m\u001b[32m体能够更高效\u001b[0m\u001b[32m地解决复杂任务\u001b[0m\u001b[32m。ReAct 的\u001b[0m\u001b[32m设计初衷是为了克服\u001b[0m\u001b[32m传统强化学习方法\u001b[0m\u001b[32m在处理需要高级\u001b[0m\u001b[32m认知能力的任务时\u001b[0m\u001b[32m的局限性，\u001b[0m\u001b[32m如需要理解自然\u001b[0m\u001b[32m语言指令、规划\u001b[0m\u001b[32m多步骤行动等\u001b[0m\u001b[32m。\n",
      "\n",
      "### 核\u001b[0m\u001b[32m心机制\n",
      "\n",
      "1\u001b[0m\u001b[32m. **交替的\u001b[0m\u001b[32m思考与行动**\u001b[0m\u001b[32m：ReAct \u001b[0m\u001b[32m将智能体的行为\u001b[0m\u001b[32m分解为两个阶段\u001b[0m\u001b[32m——“思考”\u001b[0m\u001b[32m和“行动”。\u001b[0m\u001b[32m在“思考”\u001b[0m\u001b[32m阶段，智能体\u001b[0m\u001b[32m使用预训练的语言\u001b[0m\u001b[32m模型来生成对\u001b[0m\u001b[32m当前任务的理解和\u001b[0m\u001b[32m计划；在“\u001b[0m\u001b[32m行动”阶段，\u001b[0m\u001b[32m智能体会根据生成\u001b[0m\u001b[32m的计划在环境中\u001b[0m\u001b[32m执行具体的操作。\n",
      "\n",
      "\u001b[0m\u001b[32m2. **环境\u001b[0m\u001b[32m反馈循环**：\u001b[0m\u001b[32m智能体通过与\u001b[0m\u001b[32m环境的交互获得\u001b[0m\u001b[32m反馈，这些反馈\u001b[0m\u001b[32m被用于更新其\u001b[0m\u001b[32m内部状态和未来的\u001b[0m\u001b[32m计划。这种闭环\u001b[0m\u001b[32m机制使得智能体\u001b[0m\u001b[32m能够不断优化其\u001b[0m\u001b[32m行为策略。\n",
      "\n",
      "3\u001b[0m\u001b[32m. **多模\u001b[0m\u001b[32m态融合**：\u001b[0m\u001b[32mReAct 能\u001b[0m\u001b[32m够处理多种类型\u001b[0m\u001b[32m的信息，包括文本\u001b[0m\u001b[32m、图像和其他传感器\u001b[0m\u001b[32m数据，从而在\u001b[0m\u001b[32m不同场景下做出\u001b[0m\u001b[32m更准确的决策\u001b[0m\u001b[32m。\n",
      "\n",
      "### 应\u001b[0m\u001b[32m用场景\n",
      "\n",
      "1\u001b[0m\u001b[32m. **游戏 AI\u001b[0m\u001b[32m**：在复杂的\u001b[0m\u001b[32m视频游戏中，Re\u001b[0m\u001b[32mAct 可以\u001b[0m\u001b[32m帮助 AI 角\u001b[0m\u001b[32m色更好地理解游戏\u001b[0m\u001b[32m规则和目标，\u001b[0m\u001b[32m制定更有效的策略\u001b[0m\u001b[32m，提高游戏体验\u001b[0m\u001b[32m。\n",
      "\n",
      "2. **\u001b[0m\u001b[32m虚拟助手**：\u001b[0m\u001b[32m在虚拟助手应用\u001b[0m\u001b[32m中，ReAct\u001b[0m\u001b[32m 可以使\u001b[0m\u001b[32m助手更自然地\u001b[0m\u001b[32m理解用户的请求，\u001b[0m\u001b[32m执行复杂的多步骤\u001b[0m\u001b[32m任务，如预订\u001b[0m\u001b[32m旅行、管理日\u001b[0m\u001b[32m程等。\n",
      "\n",
      "3\u001b[0m\u001b[32m. **教育辅助\u001b[0m\u001b[32m**：在教育\u001b[0m\u001b[32m领域，ReAct\u001b[0m\u001b[32m 可以用于\u001b[0m\u001b[32m开发智能教学系统\u001b[0m\u001b[32m，帮助学生理解\u001b[0m\u001b[32m复杂的概念，提供\u001b[0m\u001b[32m个性化的学习路径\u001b[0m\u001b[32m。\n",
      "\n",
      "4. **\u001b[0m\u001b[32m机器人导航**：\u001b[0m\u001b[32m在机器人技术中\u001b[0m\u001b[32m，ReAct \u001b[0m\u001b[32m可以使机器人\u001b[0m\u001b[32m更有效地规划路径\u001b[0m\u001b[32m，避免障碍物\u001b[0m\u001b[32m，完成复杂的导航\u001b[0m\u001b[32m任务。\n",
      "\n",
      "5.\u001b[0m\u001b[32m **客户服务**：\u001b[0m\u001b[32m在客户服务领域，\u001b[0m\u001b[32mReAct 可\u001b[0m\u001b[32m以帮助聊天机器人\u001b[0m\u001b[32m更准确地理解\u001b[0m\u001b[32m客户的需求，提供\u001b[0m\u001b[32m更高质量的服务和支持\u001b[0m\u001b[32m。\n",
      "\n",
      "### 总\u001b[0m\u001b[32m结\n",
      "\n",
      "ReAct\u001b[0m\u001b[32m 通过将语言\u001b[0m\u001b[32m理解和环境互动相结合\u001b[0m\u001b[32m，显著提高了智能\u001b[0m\u001b[32m体在复杂任务\u001b[0m\u001b[32m中的表现。其\u001b[0m\u001b[32m核心机制包括交替\u001b[0m\u001b[32m的思考与行动\u001b[0m\u001b[32m、环境反馈循环\u001b[0m\u001b[32m和多模态\u001b[0m\u001b[32m融合，使其在\u001b[0m\u001b[32m游戏 AI、虚拟\u001b[0m\u001b[32m助手、教育辅助\u001b[0m\u001b[32m、机器人导航和\u001b[0m\u001b[32m客户服务等多个领域都有\u001b[0m\u001b[32m广泛的应用前景。\u001b[0m\u001b[32m\u001b[0m\u001b[32m\u001b[0m\n",
      "\n",
      "[AGENT] \u001b[34m搜索小能手\u001b[0m\n",
      "\u001b[32m###\u001b[0m\u001b[32m Re\u001b[0m\u001b[32mW\u001b[0m\u001b[32mO\u001b[0m\u001b[32mO 智能\u001b[0m\u001b[32m体模型定义\n",
      "\n",
      "\u001b[0m\u001b[32mReWOO（\u001b[0m\u001b[32mRetrieval-Aug\u001b[0m\u001b[32mmented Web Observation Over\u001b[0m\u001b[32mlord）是一种专\u001b[0m\u001b[32m为处理 Web \u001b[0m\u001b[32m任务而设计的\u001b[0m\u001b[32m智能体架构。\u001b[0m\u001b[32mReWOO 结\u001b[0m\u001b[32m合了预训练\u001b[0m\u001b[32m的语言模型和检索\u001b[0m\u001b[32m增强技术，旨在\u001b[0m\u001b[32m提高智能体在\u001b[0m\u001b[32m处理复杂 Web \u001b[0m\u001b[32m任务时的性能\u001b[0m\u001b[32m和准确性。通过\u001b[0m\u001b[32m从 Web 页面中\u001b[0m\u001b[32m提取相关信息并将其\u001b[0m\u001b[32m整合到决策过程中\u001b[0m\u001b[32m，ReWO\u001b[0m\u001b[32mO 能够更\u001b[0m\u001b[32m有效地完成各种任务\u001b[0m\u001b[32m。\n",
      "\n",
      "### 核\u001b[0m\u001b[32m心机制\n",
      "\n",
      "1\u001b[0m\u001b[32m. **检索增强\u001b[0m\u001b[32m**：\n",
      "   -\u001b[0m\u001b[32m **信息提取**\u001b[0m\u001b[32m：ReWO\u001b[0m\u001b[32mO 使用专门的组件\u001b[0m\u001b[32m从 Web 页面中\u001b[0m\u001b[32m提取关键信息，\u001b[0m\u001b[32m如文本内容、\u001b[0m\u001b[32m表格数据、链接\u001b[0m\u001b[32m等。\n",
      "   -\u001b[0m\u001b[32m **上下文理解\u001b[0m\u001b[32m**：提取的信息\u001b[0m\u001b[32m被用作额外\u001b[0m\u001b[32m的上下文，\u001b[0m\u001b[32m提供给主语言\u001b[0m\u001b[32m模型，帮助其\u001b[0m\u001b[32m更好地理解任务要求\u001b[0m\u001b[32m和当前环境。\n",
      "\n",
      "\u001b[0m\u001b[32m2. **多\u001b[0m\u001b[32m模态输入**\u001b[0m\u001b[32m：\n",
      "   - **\u001b[0m\u001b[32m文本处理**：\u001b[0m\u001b[32mReWOO 不\u001b[0m\u001b[32m仅处理文本信息\u001b[0m\u001b[32m，还可以处理图像\u001b[0m\u001b[32m、表格等多种类型\u001b[0m\u001b[32m的数据，增强其\u001b[0m\u001b[32m对复杂 Web \u001b[0m\u001b[32m内容的理解。\n",
      "\u001b[0m\u001b[32m   - **结构\u001b[0m\u001b[32m化数据**：\u001b[0m\u001b[32m提取的结构化\u001b[0m\u001b[32m数据（如表格\u001b[0m\u001b[32m、列表）被\u001b[0m\u001b[32m转换为可处理\u001b[0m\u001b[32m的格式，供\u001b[0m\u001b[32m模型使用。\n",
      "\n",
      "3\u001b[0m\u001b[32m. **动态适应\u001b[0m\u001b[32m**：\n",
      "   -\u001b[0m\u001b[32m **实时反馈**\u001b[0m\u001b[32m：ReWO\u001b[0m\u001b[32mO 在执行任务过程中\u001b[0m\u001b[32m不断获取新的信息\u001b[0m\u001b[32m，并根据这些信息\u001b[0m\u001b[32m调整其行为策略\u001b[0m\u001b[32m。\n",
      "   - **\u001b[0m\u001b[32m错误恢复**：\u001b[0m\u001b[32m如果任务执行过程中\u001b[0m\u001b[32m遇到问题，Re\u001b[0m\u001b[32mWOO 可\u001b[0m\u001b[32m以重新评估当前\u001b[0m\u001b[32m状态并采取补\u001b[0m\u001b[32m救措施。\n",
      "\n",
      "###\u001b[0m\u001b[32m 应用场景\u001b[0m\u001b[32m\n",
      "\n",
      "1. **\u001b[0m\u001b[32mWeb 自动化\u001b[0m\u001b[32m**：\n",
      "   -\u001b[0m\u001b[32m **表单填写\u001b[0m\u001b[32m**：自动填写\u001b[0m\u001b[32m复杂的 Web 表\u001b[0m\u001b[32m单，减少人工\u001b[0m\u001b[32m操作。\n",
      "   -\u001b[0m\u001b[32m **数据抓取\u001b[0m\u001b[32m**：从多个\u001b[0m\u001b[32m Web 页面中提取\u001b[0m\u001b[32m和汇总数据，\u001b[0m\u001b[32m用于数据分析和报告\u001b[0m\u001b[32m生成。\n",
      "\n",
      "2.\u001b[0m\u001b[32m **在线购物助手\u001b[0m\u001b[32m**：\n",
      "   -\u001b[0m\u001b[32m **产品搜索**\u001b[0m\u001b[32m：帮助用户快速\u001b[0m\u001b[32m找到所需产品，\u001b[0m\u001b[32m比较不同商家的价格\u001b[0m\u001b[32m和评价。\n",
      "  \u001b[0m\u001b[32m - **购物车\u001b[0m\u001b[32m管理**：自动\u001b[0m\u001b[32m管理用户的购物车\u001b[0m\u001b[32m，优化购买流程\u001b[0m\u001b[32m。\n",
      "\n",
      "3. **\u001b[0m\u001b[32m金融分析**：\n",
      "\u001b[0m\u001b[32m   - **市场\u001b[0m\u001b[32m监控**：实时\u001b[0m\u001b[32m监控股票市场、\u001b[0m\u001b[32m新闻和财经数据\u001b[0m\u001b[32m，提供投资建议\u001b[0m\u001b[32m。\n",
      "   - **\u001b[0m\u001b[32m财务报表分析**\u001b[0m\u001b[32m：从公司网站\u001b[0m\u001b[32m和金融新闻中\u001b[0m\u001b[32m提取关键财务信息\u001b[0m\u001b[32m，生成分析报告\u001b[0m\u001b[32m。\n",
      "\n",
      "4. **\u001b[0m\u001b[32m教育辅助**：\n",
      "\u001b[0m\u001b[32m   - **在线\u001b[0m\u001b[32m学习**：帮助\u001b[0m\u001b[32m学生查找和整理\u001b[0m\u001b[32m学习资源，提供\u001b[0m\u001b[32m个性化的学习路径\u001b[0m\u001b[32m。\n",
      "   - **\u001b[0m\u001b[32m作业辅助**：\u001b[0m\u001b[32m自动检查作业答案\u001b[0m\u001b[32m，提供解题\u001b[0m\u001b[32m思路和参考材料\u001b[0m\u001b[32m。\n",
      "\n",
      "5. **\u001b[0m\u001b[32m客户服务**：\n",
      "  \u001b[0m\u001b[32m - **在线支持\u001b[0m\u001b[32m**：自动回答\u001b[0m\u001b[32m客户的常见问题，\u001b[0m\u001b[32m提供技术支持和故障\u001b[0m\u001b[32m排除。\n",
      "   -\u001b[0m\u001b[32m **订单跟踪**\u001b[0m\u001b[32m：帮助客户查询\u001b[0m\u001b[32m订单状态，提供\u001b[0m\u001b[32m物流信息。\n",
      "\n",
      "###\u001b[0m\u001b[32m 总结\n",
      "\n",
      "\u001b[0m\u001b[32mReWOO \u001b[0m\u001b[32m通过结合检索增强\u001b[0m\u001b[32m技术和预训练的语言\u001b[0m\u001b[32m模型，显著提高了\u001b[0m\u001b[32m智能体在处理\u001b[0m\u001b[32m复杂 Web 任务\u001b[0m\u001b[32m时的性能和\u001b[0m\u001b[32m准确性。其核心\u001b[0m\u001b[32m机制包括检索增强\u001b[0m\u001b[32m、多模态\u001b[0m\u001b[32m输入和动态适应\u001b[0m\u001b[32m，使其在 Web\u001b[0m\u001b[32m 自动化、\u001b[0m\u001b[32m在线购物助手、\u001b[0m\u001b[32m金融分析、教育\u001b[0m\u001b[32m辅助和客户服务等多个\u001b[0m\u001b[32m领域都有广泛的应用\u001b[0m\u001b[32m前景。\u001b[0m\u001b[32m\u001b[0m\n",
      "\n",
      "[AGENT] \u001b[34m搜索小能手\u001b[0m\n",
      "\u001b[32m###\u001b[0m\u001b[32m Plan\u001b[0m\u001b[32mAnd\u001b[0m\u001b[32mS\u001b[0m\u001b[32molve 智\u001b[0m\u001b[32m能体模型定义\u001b[0m\u001b[32m\n",
      "\n",
      "PlanAndS\u001b[0m\u001b[32molve 是一种智能\u001b[0m\u001b[32m体架构，专注于\u001b[0m\u001b[32m通过明确的规划\u001b[0m\u001b[32m过程来指导智能\u001b[0m\u001b[32m体解决问题。该\u001b[0m\u001b[32m模型结合了语言\u001b[0m\u001b[32m理解和环境互动，\u001b[0m\u001b[32m旨在提高智能体\u001b[0m\u001b[32m在复杂任务中的\u001b[0m\u001b[32m表现。PlanAnd\u001b[0m\u001b[32mSolve 通过\u001b[0m\u001b[32m生成详细的行动计划并\u001b[0m\u001b[32m逐步执行这些计划\u001b[0m\u001b[32m，使智能体\u001b[0m\u001b[32m能够更系统地\u001b[0m\u001b[32m应对各种挑战。\n",
      "\n",
      "\u001b[0m\u001b[32m### 核心\u001b[0m\u001b[32m机制\n",
      "\n",
      "1.\u001b[0m\u001b[32m **明确的规划\u001b[0m\u001b[32m过程**：\n",
      "  \u001b[0m\u001b[32m - **任务理解\u001b[0m\u001b[32m**：智能体\u001b[0m\u001b[32m首先使用语言模型\u001b[0m\u001b[32m来理解任务的目标\u001b[0m\u001b[32m和要求。\n",
      "  \u001b[0m\u001b[32m - **生成计划\u001b[0m\u001b[32m**：基于任务\u001b[0m\u001b[32m理解，智能体\u001b[0m\u001b[32m生成一个详细的行动计划\u001b[0m\u001b[32m，包括一系列具体\u001b[0m\u001b[32m的操作步骤。\n",
      "  \u001b[0m\u001b[32m - **计划执行\u001b[0m\u001b[32m**：智能体\u001b[0m\u001b[32m按照生成的计划\u001b[0m\u001b[32m逐步执行任务，\u001b[0m\u001b[32m每一步都基于\u001b[0m\u001b[32m前一步的结果进行\u001b[0m\u001b[32m调整。\n",
      "\n",
      "2.\u001b[0m\u001b[32m **环境互动与\u001b[0m\u001b[32m反馈**：\n",
      "  \u001b[0m\u001b[32m - **执行与\u001b[0m\u001b[32m观察**：智能\u001b[0m\u001b[32m体在执行每个\u001b[0m\u001b[32m步骤时，会\u001b[0m\u001b[32m观察环境的变化和\u001b[0m\u001b[32m反馈。\n",
      "   -\u001b[0m\u001b[32m **计划调整**\u001b[0m\u001b[32m：如果遇到障碍\u001b[0m\u001b[32m或失败，智能\u001b[0m\u001b[32m体会重新评估当前\u001b[0m\u001b[32m状况，并根据新的\u001b[0m\u001b[32m信息调整计划。\n",
      "\n",
      "\u001b[0m\u001b[32m3. **多\u001b[0m\u001b[32m步骤推理**：\n",
      "\u001b[0m\u001b[32m   - **逐步\u001b[0m\u001b[32m推理**：智能\u001b[0m\u001b[32m体能够进行多\u001b[0m\u001b[32m步骤的推理，\u001b[0m\u001b[32m处理需要多个子\u001b[0m\u001b[32m任务才能完成的\u001b[0m\u001b[32m复杂任务。\n",
      "  \u001b[0m\u001b[32m - **中间结果\u001b[0m\u001b[32m利用**：智能\u001b[0m\u001b[32m体在执行过程中\u001b[0m\u001b[32m会利用中间结果\u001b[0m\u001b[32m，优化后续步骤\u001b[0m\u001b[32m的执行。\n",
      "\n",
      "###\u001b[0m\u001b[32m 应用场景\u001b[0m\u001b[32m\n",
      "\n",
      "1. **\u001b[0m\u001b[32m游戏 AI**：\n",
      "\u001b[0m\u001b[32m   - **策略\u001b[0m\u001b[32m游戏**：在\u001b[0m\u001b[32m策略游戏中，Plan\u001b[0m\u001b[32mAndSolve \u001b[0m\u001b[32m可以帮助 AI\u001b[0m\u001b[32m 角色制定\u001b[0m\u001b[32m长期战略，管理\u001b[0m\u001b[32m资源，执行复杂的\u001b[0m\u001b[32m战术动作。\n",
      "  \u001b[0m\u001b[32m - **冒险游戏\u001b[0m\u001b[32m**：在冒险\u001b[0m\u001b[32m游戏中，智能体\u001b[0m\u001b[32m可以通过生成详细的探索\u001b[0m\u001b[32m计划，解决谜\u001b[0m\u001b[32m题，完成任务\u001b[0m\u001b[32m。\n",
      "\n",
      "2. **\u001b[0m\u001b[32m机器人导航**：\n",
      "\u001b[0m\u001b[32m   - **路径\u001b[0m\u001b[32m规划**：在\u001b[0m\u001b[32m机器人导航任务中\u001b[0m\u001b[32m，PlanAndS\u001b[0m\u001b[32molve 可以\u001b[0m\u001b[32m生成最优路径，\u001b[0m\u001b[32m避开障碍物，\u001b[0m\u001b[32m确保安全到达目的地\u001b[0m\u001b[32m。\n",
      "   - **\u001b[0m\u001b[32m多任务执行**\u001b[0m\u001b[32m：机器人可以按照\u001b[0m\u001b[32m生成的计划，\u001b[0m\u001b[32m依次完成多个任务\u001b[0m\u001b[32m，如取物\u001b[0m\u001b[32m、搬运、清洁\u001b[0m\u001b[32m等。\n",
      "\n",
      "3.\u001b[0m\u001b[32m **智能家居控制**\u001b[0m\u001b[32m：\n",
      "   - **\u001b[0m\u001b[32m场景设定**：\u001b[0m\u001b[32m用户可以通过自然语言\u001b[0m\u001b[32m指令，让智能\u001b[0m\u001b[32m体生成并执行\u001b[0m\u001b[32m复杂的家居控制计划\u001b[0m\u001b[32m，如“晚上\u001b[0m\u001b[32m回家后打开灯光\u001b[0m\u001b[32m、播放音乐、\u001b[0m\u001b[32m调节温度”。\n",
      "\u001b[0m\u001b[32m   - **故障\u001b[0m\u001b[32m处理**：智能\u001b[0m\u001b[32m体可以检测设备\u001b[0m\u001b[32m状态，生成维修\u001b[0m\u001b[32m或更换设备的\u001b[0m\u001b[32m计划。\n",
      "\n",
      "4.\u001b[0m\u001b[32m **教育辅助**\u001b[0m\u001b[32m：\n",
      "   - **\u001b[0m\u001b[32m个性化教学**：\u001b[0m\u001b[32m在教育领域，\u001b[0m\u001b[32mPlanAndSolve\u001b[0m\u001b[32m 可以根据\u001b[0m\u001b[32m学生的进度和需求\u001b[0m\u001b[32m，生成个性化的\u001b[0m\u001b[32m学习计划，提供\u001b[0m\u001b[32m针对性的教学资源。\n",
      "\u001b[0m\u001b[32m   - **项目\u001b[0m\u001b[32m管理**：帮助\u001b[0m\u001b[32m学生管理复杂的项目\u001b[0m\u001b[32m，生成详细的项目\u001b[0m\u001b[32m计划，监督执行\u001b[0m\u001b[32m进度。\n",
      "\n",
      "5.\u001b[0m\u001b[32m **工业自动化**\u001b[0m\u001b[32m：\n",
      "   - **\u001b[0m\u001b[32m生产调度**：\u001b[0m\u001b[32m在工业生产中\u001b[0m\u001b[32m，PlanAndS\u001b[0m\u001b[32molve 可以\u001b[0m\u001b[32m生成最优的生产\u001b[0m\u001b[32m调度计划，提高\u001b[0m\u001b[32m生产效率，减少\u001b[0m\u001b[32m浪费。\n",
      "   -\u001b[0m\u001b[32m **质量控制**\u001b[0m\u001b[32m：智能体可以\u001b[0m\u001b[32m生成质量检测计划\u001b[0m\u001b[32m，确保生产过程\u001b[0m\u001b[32m中的每个环节都\u001b[0m\u001b[32m符合标准。\n",
      "\n",
      "###\u001b[0m\u001b[32m 总结\n",
      "\n",
      "\u001b[0m\u001b[32mPlanAndSolve\u001b[0m\u001b[32m 通过明确的\u001b[0m\u001b[32m规划过程和多\u001b[0m\u001b[32m步骤推理，显著\u001b[0m\u001b[32m提高了智能体在\u001b[0m\u001b[32m复杂任务中的表现\u001b[0m\u001b[32m。其核心机制\u001b[0m\u001b[32m包括明确的规划\u001b[0m\u001b[32m过程、环境互动\u001b[0m\u001b[32m与反馈以及多\u001b[0m\u001b[32m步骤推理，使其\u001b[0m\u001b[32m在游戏 AI、\u001b[0m\u001b[32m机器人导航、智能家居\u001b[0m\u001b[32m控制、教育辅助\u001b[0m\u001b[32m和工业自动化等多个\u001b[0m\u001b[32m领域都有广泛的应用\u001b[0m\u001b[32m前景。\u001b[0m\u001b[32m\u001b[0m\n",
      "\n",
      "[AGENT] \u001b[34m>>> Node 2: observer\u001b[0m\n",
      "\u001b[33m\n",
      "**观察**\n",
      "上面的行动结果为:\n",
      "### ReAct 智能体模型定义\n",
      "\n",
      "ReAct (Reasoning and Acting) 是一种结合了语言理解和环境互动的智能体架构，旨在通过强化学习和自然语言处理技术，使智能体能够更高效地解决复杂任务。ReAct 的设计初衷是为了克服传统强化学习方法在处理需要高级认知能力的任务时的局限性，如需要理解自然语言指令、规划多步骤行动等。\n",
      "\n",
      "### 核心机制\n",
      "\n",
      "1. **交替的思考与行动**：ReAct 将智能体的行为分解为两个阶段——“思考”和“行动”。在“思考”阶段，智能体使用预训练的语言模型来生成对当前任务的理解和计划；在“行动”阶段，智能体会根据生成的计划在环境中执行具体的操作。\n",
      "\n",
      "2. **环境反馈循环**：智能体通过与环境的交互获得反馈，这些反馈被用于更新其内部状态和未来的计划。这种闭环机制使得智能体能够不断优化其行为策略。\n",
      "\n",
      "3. **多模态融合**：ReAct 能够处理多种类型的信息，包括文本、图像和其他传感器数据，从而在不同场景下做出更准确的决策。\n",
      "\n",
      "### 应用场景\n",
      "\n",
      "1. **游戏 AI**：在复杂的视频游戏中，ReAct 可以帮助 AI 角色更好地理解游戏规则和目标，制定更有效的策略，提高游戏体验。\n",
      "\n",
      "2. **虚拟助手**：在虚拟助手应用中，ReAct 可以使助手更自然地理解用户的请求，执行复杂的多步骤任务，如预订旅行、管理日程等。\n",
      "\n",
      "3. **教育辅助**：在教育领域，ReAct 可以用于开发智能教学系统，帮助学生理解复杂的概念，提供个性化的学习路径。\n",
      "\n",
      "4. **机器人导航**：在机器人技术中，ReAct 可以使机器人更有效地规划路径，避免障碍物，完成复杂的导航任务。\n",
      "\n",
      "5. **客户服务**：在客户服务领域，ReAct 可以帮助聊天机器人更准确地理解客户的需求，提供更高质量的服务和支持。\n",
      "\n",
      "### 总结\n",
      "\n",
      "ReAct 通过将语言理解和环境互动相结合，显著提高了智能体在复杂任务中的表现。其核心机制包括交替的思考与行动、环境反馈循环和多模态融合，使其在游戏 AI、虚拟助手、教育辅助、机器人导航和客户服务等多个领域都有广泛的应用前景。\n",
      "### ReWOO 智能体模型定义\n",
      "\n",
      "ReWOO（Retrieval-Augmented Web Observation Overlord）是一种专为处理 Web 任务而设计的智能体架构。ReWOO 结合了预训练的语言模型和检索增强技术，旨在提高智能体在处理复杂 Web 任务时的性能和准确性。通过从 Web 页面中提取相关信息并将其整合到决策过程中，ReWOO 能够更有效地完成各种任务。\n",
      "\n",
      "### 核心机制\n",
      "\n",
      "1. **检索增强**：\n",
      "   - **信息提取**：ReWOO 使用专门的组件从 Web 页面中提取关键信息，如文本内容、表格数据、链接等。\n",
      "   - **上下文理解**：提取的信息被用作额外的上下文，提供给主语言模型，帮助其更好地理解任务要求和当前环境。\n",
      "\n",
      "2. **多模态输入**：\n",
      "   - **文本处理**：ReWOO 不仅处理文本信息，还可以处理图像、表格等多种类型的数据，增强其对复杂 Web 内容的理解。\n",
      "   - **结构化数据**：提取的结构化数据（如表格、列表）被转换为可处理的格式，供模型使用。\n",
      "\n",
      "3. **动态适应**：\n",
      "   - **实时反馈**：ReWOO 在执行任务过程中不断获取新的信息，并根据这些信息调整其行为策略。\n",
      "   - **错误恢复**：如果任务执行过程中遇到问题，ReWOO 可以重新评估当前状态并采取补救措施。\n",
      "\n",
      "### 应用场景\n",
      "\n",
      "1. **Web 自动化**：\n",
      "   - **表单填写**：自动填写复杂的 Web 表单，减少人工操作。\n",
      "   - **数据抓取**：从多个 Web 页面中提取和汇总数据，用于数据分析和报告生成。\n",
      "\n",
      "2. **在线购物助手**：\n",
      "   - **产品搜索**：帮助用户快速找到所需产品，比较不同商家的价格和评价。\n",
      "   - **购物车管理**：自动管理用户的购物车，优化购买流程。\n",
      "\n",
      "3. **金融分析**：\n",
      "   - **市场监控**：实时监控股票市场、新闻和财经数据，提供投资建议。\n",
      "   - **财务报表分析**：从公司网站和金融新闻中提取关键财务信息，生成分析报告。\n",
      "\n",
      "4. **教育辅助**：\n",
      "   - **在线学习**：帮助学生查找和整理学习资源，提供个性化的学习路径。\n",
      "   - **作业辅助**：自动检查作业答案，提供解题思路和参考材料。\n",
      "\n",
      "5. **客户服务**：\n",
      "   - **在线支持**：自动回答客户的常见问题，提供技术支持和故障排除。\n",
      "   - **订单跟踪**：帮助客户查询订单状态，提供物流信息。\n",
      "\n",
      "### 总结\n",
      "\n",
      "ReWOO 通过结合检索增强技术和预训练的语言模型，显著提高了智能体在处理复杂 Web 任务时的性能和准确性。其核心机制包括检索增强、多模态输入和动态适应，使其在 Web 自动化、在线购物助手、金融分析、教育辅助和客户服务等多个领域都有广泛的应用前景。\n",
      "### PlanAndSolve 智能体模型定义\n",
      "\n",
      "PlanAndSolve 是一种智能体架构，专注于通过明确的规划过程来指导智能体解决问题。该模型结合了语言理解和环境互动，旨在提高智能体在复杂任务中的表现。PlanAndSolve 通过生成详细的行动计划并逐步执行这些计划，使智能体能够更系统地应对各种挑战。\n",
      "\n",
      "### 核心机制\n",
      "\n",
      "1. **明确的规划过程**：\n",
      "   - **任务理解**：智能体首先使用语言模型来理解任务的目标和要求。\n",
      "   - **生成计划**：基于任务理解，智能体生成一个详细的行动计划，包括一系列具体的操作步骤。\n",
      "   - **计划执行**：智能体按照生成的计划逐步执行任务，每一步都基于前一步的结果进行调整。\n",
      "\n",
      "2. **环境互动与反馈**：\n",
      "   - **执行与观察**：智能体在执行每个步骤时，会观察环境的变化和反馈。\n",
      "   - **计划调整**：如果遇到障碍或失败，智能体会重新评估当前状况，并根据新的信息调整计划。\n",
      "\n",
      "3. **多步骤推理**：\n",
      "   - **逐步推理**：智能体能够进行多步骤的推理，处理需要多个子任务才能完成的复杂任务。\n",
      "   - **中间结果利用**：智能体在执行过程中会利用中间结果，优化后续步骤的执行。\n",
      "\n",
      "### 应用场景\n",
      "\n",
      "1. **游戏 AI**：\n",
      "   - **策略游戏**：在策略游戏中，PlanAndSolve 可以帮助 AI 角色制定长期战略，管理资源，执行复杂的战术动作。\n",
      "   - **冒险游戏**：在冒险游戏中，智能体可以通过生成详细的探索计划，解决谜题，完成任务。\n",
      "\n",
      "2. **机器人导航**：\n",
      "   - **路径规划**：在机器人导航任务中，PlanAndSolve 可以生成最优路径，避开障碍物，确保安全到达目的地。\n",
      "   - **多任务执行**：机器人可以按照生成的计划，依次完成多个任务，如取物、搬运、清洁等。\n",
      "\n",
      "3. **智能家居控制**：\n",
      "   - **场景设定**：用户可以通过自然语言指令，让智能体生成并执行复杂的家居控制计划，如“晚上回家后打开灯光、播放音乐、调节温度”。\n",
      "   - **故障处理**：智能体可以检测设备状态，生成维修或更换设备的计划。\n",
      "\n",
      "4. **教育辅助**：\n",
      "   - **个性化教学**：在教育领域，PlanAndSolve 可以根据学生的进度和需求，生成个性化的学习计划，提供针对性的教学资源。\n",
      "   - **项目管理**：帮助学生管理复杂的项目，生成详细的项目计划，监督执行进度。\n",
      "\n",
      "5. **工业自动化**：\n",
      "   - **生产调度**：在工业生产中，PlanAndSolve 可以生成最优的生产调度计划，提高生产效率，减少浪费。\n",
      "   - **质量控制**：智能体可以生成质量检测计划，确保生产过程中的每个环节都符合标准。\n",
      "\n",
      "### 总结\n",
      "\n",
      "PlanAndSolve 通过明确的规划过程和多步骤推理，显著提高了智能体在复杂任务中的表现。其核心机制包括明确的规划过程、环境互动与反馈以及多步骤推理，使其在游戏 AI、机器人导航、智能家居控制、教育辅助和工业自动化等多个领域都有广泛的应用前景。\n",
      "\u001b[0m[AGENT] \u001b[34m>>> Node 1: planner\u001b[0m\n",
      "\u001b[32m**\u001b[0m\u001b[32m思考\u001b[0m\u001b[32m**\u001b[0m\u001b[32m  \n",
      "\u001b[0m\u001b[32m目前，我已经获得了\u001b[0m\u001b[32m关于ReAct、\u001b[0m\u001b[32mReWOO和\u001b[0m\u001b[32mPlanAndSolve\u001b[0m\u001b[32m三个智能体模型\u001b[0m\u001b[32m的定义、核心\u001b[0m\u001b[32m机制和应用场景的信息\u001b[0m\u001b[32m。接下来，我\u001b[0m\u001b[32m需要总结这些信息\u001b[0m\u001b[32m，找出它们之间的\u001b[0m\u001b[32m主要实现思路差异\u001b[0m\u001b[32m。\n",
      "\n",
      "1. **\u001b[0m\u001b[32m任务中是否包含\u001b[0m\u001b[32m关键概念**: \n",
      "\u001b[0m\u001b[32m   - ReAct\u001b[0m\u001b[32m: 已明确\u001b[0m\u001b[32m获得取值\n",
      "\u001b[0m\u001b[32m   - ReW\u001b[0m\u001b[32mOO: 已\u001b[0m\u001b[32m明确获得取值\u001b[0m\u001b[32m\n",
      "   - Plan\u001b[0m\u001b[32mAndSolve:\u001b[0m\u001b[32m 已明确获得\u001b[0m\u001b[32m取值\n",
      "\n",
      "2\u001b[0m\u001b[32m. **将任务\u001b[0m\u001b[32m中的关键概念拆\u001b[0m\u001b[32m解为一系列待\u001b[0m\u001b[32m查询的子要素\u001b[0m\u001b[32m**:\n",
      "   -\u001b[0m\u001b[32m ReAct\n",
      "    \u001b[0m\u001b[32m - 定义\u001b[0m\u001b[32m与背景\n",
      "    \u001b[0m\u001b[32m - 核心\u001b[0m\u001b[32m机制\n",
      "     -\u001b[0m\u001b[32m 应用场景\u001b[0m\u001b[32m\n",
      "   - Re\u001b[0m\u001b[32mWOO\n",
      "    \u001b[0m\u001b[32m - 定义\u001b[0m\u001b[32m与背景\n",
      "    \u001b[0m\u001b[32m - 核心\u001b[0m\u001b[32m机制\n",
      "     -\u001b[0m\u001b[32m 应用场景\u001b[0m\u001b[32m\n",
      "   - Plan\u001b[0m\u001b[32mAndSolve\n",
      "\u001b[0m\u001b[32m     - 定\u001b[0m\u001b[32m义与背景\n",
      "\u001b[0m\u001b[32m     - 核\u001b[0m\u001b[32m心机制\n",
      "    \u001b[0m\u001b[32m - 应用\u001b[0m\u001b[32m场景\n",
      "\n",
      "3.\u001b[0m\u001b[32m **观察以前的\u001b[0m\u001b[32m执行记录**:\n",
      "\u001b[0m\u001b[32m   - 概\u001b[0m\u001b[32m念拆解是\u001b[0m\u001b[32m完整的。\n",
      "   -\u001b[0m\u001b[32m 每个\u001b[0m\u001b[32m关键概念或要素\u001b[0m\u001b[32m的查询都得到了\u001b[0m\u001b[32m准确的结果。\n",
      "  \u001b[0m\u001b[32m - 当前的信息\u001b[0m\u001b[32m已经足够详细，\u001b[0m\u001b[32m可以用来总结这些\u001b[0m\u001b[32m模型之间的实现思路\u001b[0m\u001b[32m差异。\n",
      "\n",
      "**最终\u001b[0m\u001b[32m答案**\n",
      "\n",
      "### Re\u001b[0m\u001b[32mAct、ReW\u001b[0m\u001b[32mOO、PlanAnd\u001b[0m\u001b[32mSolve 实现\u001b[0m\u001b[32m思路差异\n",
      "\n",
      "1\u001b[0m\u001b[32m. **ReAct\u001b[0m\u001b[32m**\n",
      "   - **\u001b[0m\u001b[32m定义与背景**\u001b[0m\u001b[32m：ReAct 是\u001b[0m\u001b[32m一种结合了语言\u001b[0m\u001b[32m理解和环境互动的\u001b[0m\u001b[32m智能体架构，\u001b[0m\u001b[32m旨在通过强化学习\u001b[0m\u001b[32m和自然语言处理\u001b[0m\u001b[32m技术，使智能\u001b[0m\u001b[32m体能够更高效\u001b[0m\u001b[32m地解决复杂任务\u001b[0m\u001b[32m。\n",
      "   - **\u001b[0m\u001b[32m核心机制**：\n",
      "\u001b[0m\u001b[32m     - **交替\u001b[0m\u001b[32m的思考与行动\u001b[0m\u001b[32m**：智能体\u001b[0m\u001b[32m的行为分为“思考\u001b[0m\u001b[32m”和“行动\u001b[0m\u001b[32m”两个阶段，\u001b[0m\u001b[32m思考阶段生成对\u001b[0m\u001b[32m任务的理解和计划\u001b[0m\u001b[32m，行动阶段执行\u001b[0m\u001b[32m具体操作。\n",
      "    \u001b[0m\u001b[32m - **环境反馈\u001b[0m\u001b[32m循环**：通过\u001b[0m\u001b[32m与环境的交互\u001b[0m\u001b[32m获得反馈，不断\u001b[0m\u001b[32m优化行为策略。\n",
      "\u001b[0m\u001b[32m     - **多\u001b[0m\u001b[32m模态融合**\u001b[0m\u001b[32m：处理多种类型\u001b[0m\u001b[32m的信息，包括文本\u001b[0m\u001b[32m、图像等。\n",
      "\u001b[0m\u001b[32m   - **应用场景\u001b[0m\u001b[32m**：游戏 AI\u001b[0m\u001b[32m、虚拟助手、\u001b[0m\u001b[32m教育辅助、机器人\u001b[0m\u001b[32m导航、客户服务等\u001b[0m\u001b[32m。\n",
      "\n",
      "2. **\u001b[0m\u001b[32mReWOO**\n",
      "\u001b[0m\u001b[32m   - **定义\u001b[0m\u001b[32m与背景**：\u001b[0m\u001b[32mReWOO 是\u001b[0m\u001b[32m一种专为处理\u001b[0m\u001b[32m Web 任务而\u001b[0m\u001b[32m设计的智能体\u001b[0m\u001b[32m架构，结合了\u001b[0m\u001b[32m预训练的语言模型\u001b[0m\u001b[32m和检索增强技术\u001b[0m\u001b[32m，提高智能体\u001b[0m\u001b[32m在处理复杂 Web\u001b[0m\u001b[32m 任务时的\u001b[0m\u001b[32m性能和准确性。\n",
      "\u001b[0m\u001b[32m   - **核心\u001b[0m\u001b[32m机制**：\n",
      "    \u001b[0m\u001b[32m - **检索增强\u001b[0m\u001b[32m**：从 Web\u001b[0m\u001b[32m 页面中提取关键\u001b[0m\u001b[32m信息并整合到\u001b[0m\u001b[32m决策过程中。\n",
      "    \u001b[0m\u001b[32m - **多模\u001b[0m\u001b[32m态输入**：\u001b[0m\u001b[32m处理文本、图像\u001b[0m\u001b[32m、表格等多种类型\u001b[0m\u001b[32m的数据。\n",
      "     -\u001b[0m\u001b[32m **动态适应**\u001b[0m\u001b[32m：实时获取新\u001b[0m\u001b[32m信息并调整行为\u001b[0m\u001b[32m策略，具备错误\u001b[0m\u001b[32m恢复能力。\n",
      "  \u001b[0m\u001b[32m - **应用场景**\u001b[0m\u001b[32m：Web 自动\u001b[0m\u001b[32m化、在线购物\u001b[0m\u001b[32m助手、金融分析\u001b[0m\u001b[32m、教育辅助、\u001b[0m\u001b[32m客户服务等。\n",
      "\n",
      "3\u001b[0m\u001b[32m. **PlanAnd\u001b[0m\u001b[32mSolve**\n",
      "  \u001b[0m\u001b[32m - **定义与\u001b[0m\u001b[32m背景**：Plan\u001b[0m\u001b[32mAndSolve 是\u001b[0m\u001b[32m一种智能体架构\u001b[0m\u001b[32m，专注于通过明确\u001b[0m\u001b[32m的规划过程来\u001b[0m\u001b[32m指导智能体解决问题\u001b[0m\u001b[32m，结合了语言\u001b[0m\u001b[32m理解和环境互动。\n",
      "\u001b[0m\u001b[32m   - **核心\u001b[0m\u001b[32m机制**：\n",
      "    \u001b[0m\u001b[32m - **明确的\u001b[0m\u001b[32m规划过程**：\u001b[0m\u001b[32m生成详细的行动计划并\u001b[0m\u001b[32m逐步执行，每\u001b[0m\u001b[32m一步都基于前\u001b[0m\u001b[32m一步的结果进行调整\u001b[0m\u001b[32m。\n",
      "     - **\u001b[0m\u001b[32m环境互动与反馈\u001b[0m\u001b[32m**：执行过程中\u001b[0m\u001b[32m观察环境变化并\u001b[0m\u001b[32m调整计划。\n",
      "    \u001b[0m\u001b[32m - **多步骤\u001b[0m\u001b[32m推理**：处理\u001b[0m\u001b[32m需要多个子任务\u001b[0m\u001b[32m才能完成的复杂\u001b[0m\u001b[32m任务，利用中间\u001b[0m\u001b[32m结果优化后续步骤\u001b[0m\u001b[32m。\n",
      "   - **\u001b[0m\u001b[32m应用场景**：游戏\u001b[0m\u001b[32m AI、机器人导航\u001b[0m\u001b[32m、智能家居控制、\u001b[0m\u001b[32m教育辅助、工业\u001b[0m\u001b[32m自动化等。\n",
      "\n",
      "###\u001b[0m\u001b[32m 主要实现思路\u001b[0m\u001b[32m差异\n",
      "\n",
      "1.\u001b[0m\u001b[32m **任务处理方式\u001b[0m\u001b[32m**：\n",
      "   -\u001b[0m\u001b[32m **ReAct**\u001b[0m\u001b[32m：通过交替的\u001b[0m\u001b[32m思考与行动，\u001b[0m\u001b[32m将任务分解为\u001b[0m\u001b[32m多个阶段，每个\u001b[0m\u001b[32m阶段有明确的\u001b[0m\u001b[32m职责。\n",
      "   -\u001b[0m\u001b[32m **ReWOO\u001b[0m\u001b[32m**：专注于 Web\u001b[0m\u001b[32m 任务，通过\u001b[0m\u001b[32m检索增强技术从\u001b[0m\u001b[32m Web 页面中提取\u001b[0m\u001b[32m关键信息，增强\u001b[0m\u001b[32m决策过程。\n",
      "  \u001b[0m\u001b[32m - **PlanAnd\u001b[0m\u001b[32mSolve**：\u001b[0m\u001b[32m通过明确的规划\u001b[0m\u001b[32m过程生成详细的行动计划\u001b[0m\u001b[32m，并逐步执行，\u001b[0m\u001b[32m每一步都基于\u001b[0m\u001b[32m前一步的结果进行\u001b[0m\u001b[32m调整。\n",
      "\n",
      "2.\u001b[0m\u001b[32m **信息处理方式\u001b[0m\u001b[32m**：\n",
      "   -\u001b[0m\u001b[32m **ReAct**\u001b[0m\u001b[32m：处理多种类型\u001b[0m\u001b[32m的信息，包括文本\u001b[0m\u001b[32m、图像等，\u001b[0m\u001b[32m通过多模态\u001b[0m\u001b[32m融合提高决策的\u001b[0m\u001b[32m准确性。\n",
      "   -\u001b[0m\u001b[32m **ReWOO\u001b[0m\u001b[32m**：处理 Web\u001b[0m\u001b[32m 页面中的文本、\u001b[0m\u001b[32m图像、表格等多种\u001b[0m\u001b[32m类型的数据，特别\u001b[0m\u001b[32m强调从 Web 中\u001b[0m\u001b[32m提取和利用信息\u001b[0m\u001b[32m。\n",
      "   - **\u001b[0m\u001b[32mPlanAndSolve\u001b[0m\u001b[32m**：主要处理\u001b[0m\u001b[32m文本信息，但\u001b[0m\u001b[32m通过多步骤推理\u001b[0m\u001b[32m和中间结果利用\u001b[0m\u001b[32m，提高复杂任务\u001b[0m\u001b[32m的处理能力。\n",
      "\n",
      "\u001b[0m\u001b[32m3. **适应\u001b[0m\u001b[32m性和反馈机制**\u001b[0m\u001b[32m：\n",
      "   - **\u001b[0m\u001b[32mReAct**：\u001b[0m\u001b[32m通过环境反馈循环\u001b[0m\u001b[32m不断优化行为策略\u001b[0m\u001b[32m，具备较强的适应\u001b[0m\u001b[32m性。\n",
      "   -\u001b[0m\u001b[32m **ReWOO\u001b[0m\u001b[32m**：实时获取\u001b[0m\u001b[32m新信息并调整\u001b[0m\u001b[32m行为策略，具备\u001b[0m\u001b[32m错误恢复能力。\n",
      "\u001b[0m\u001b[32m   - **Plan\u001b[0m\u001b[32mAndSolve**\u001b[0m\u001b[32m：在执行过程中\u001b[0m\u001b[32m观察环境变化并\u001b[0m\u001b[32m调整计划，确保\u001b[0m\u001b[32m任务的顺利完成。\n",
      "\n",
      "\u001b[0m\u001b[32m综上所述，\u001b[0m\u001b[32mReAct、Re\u001b[0m\u001b[32mWOO 和 Plan\u001b[0m\u001b[32mAndSolve 在\u001b[0m\u001b[32m任务处理方式、\u001b[0m\u001b[32m信息处理方式和\u001b[0m\u001b[32m适应性方面各有\u001b[0m\u001b[32m侧重，适用于不同的\u001b[0m\u001b[32m应用场景。\u001b[0m\u001b[32m\u001b[0m\n",
      "[AGENT] \u001b[34m>>> Node 2: observer\u001b[0m\n"
     ]
    },
    {
     "data": {
      "text/plain": [
       "'### ReAct、ReWOO、PlanAndSolve 实现思路差异\\n\\n1. **ReAct**\\n   - **定义与背景**：ReAct 是一种结合了语言理解和环境互动的智能体架构，旨在通过强化学习和自然语言处理技术，使智能体能够更高效地解决复杂任务。\\n   - **核心机制**：\\n     - **交替的思考与行动**：智能体的行为分为“思考”和“行动”两个阶段，思考阶段生成对任务的理解和计划，行动阶段执行具体操作。\\n     - **环境反馈循环**：通过与环境的交互获得反馈，不断优化行为策略。\\n     - **多模态融合**：处理多种类型的信息，包括文本、图像等。\\n   - **应用场景**：游戏 AI、虚拟助手、教育辅助、机器人导航、客户服务等。\\n\\n2. **ReWOO**\\n   - **定义与背景**：ReWOO 是一种专为处理 Web 任务而设计的智能体架构，结合了预训练的语言模型和检索增强技术，提高智能体在处理复杂 Web 任务时的性能和准确性。\\n   - **核心机制**：\\n     - **检索增强**：从 Web 页面中提取关键信息并整合到决策过程中。\\n     - **多模态输入**：处理文本、图像、表格等多种类型的数据。\\n     - **动态适应**：实时获取新信息并调整行为策略，具备错误恢复能力。\\n   - **应用场景**：Web 自动化、在线购物助手、金融分析、教育辅助、客户服务等。\\n\\n3. **PlanAndSolve**\\n   - **定义与背景**：PlanAndSolve 是一种智能体架构，专注于通过明确的规划过程来指导智能体解决问题，结合了语言理解和环境互动。\\n   - **核心机制**：\\n     - **明确的规划过程**：生成详细的行动计划并逐步执行，每一步都基于前一步的结果进行调整。\\n     - **环境互动与反馈**：执行过程中观察环境变化并调整计划。\\n     - **多步骤推理**：处理需要多个子任务才能完成的复杂任务，利用中间结果优化后续步骤。\\n   - **应用场景**：游戏 AI、机器人导航、智能家居控制、教育辅助、工业自动化等。\\n\\n### 主要实现思路差异\\n\\n1. **任务处理方式**：\\n   - **ReAct**：通过交替的思考与行动，将任务分解为多个阶段，每个阶段有明确的职责。\\n   - **ReWOO**：专注于 Web 任务，通过检索增强技术从 Web 页面中提取关键信息，增强决策过程。\\n   - **PlanAndSolve**：通过明确的规划过程生成详细的行动计划，并逐步执行，每一步都基于前一步的结果进行调整。\\n\\n2. **信息处理方式**：\\n   - **ReAct**：处理多种类型的信息，包括文本、图像等，通过多模态融合提高决策的准确性。\\n   - **ReWOO**：处理 Web 页面中的文本、图像、表格等多种类型的数据，特别强调从 Web 中提取和利用信息。\\n   - **PlanAndSolve**：主要处理文本信息，但通过多步骤推理和中间结果利用，提高复杂任务的处理能力。\\n\\n3. **适应性和反馈机制**：\\n   - **ReAct**：通过环境反馈循环不断优化行为策略，具备较强的适应性。\\n   - **ReWOO**：实时获取新信息并调整行为策略，具备错误恢复能力。\\n   - **PlanAndSolve**：在执行过程中观察环境变化并调整计划，确保任务的顺利完成。\\n\\n综上所述，ReAct、ReWOO 和 PlanAndSolve 在任务处理方式、信息处理方式和适应性方面各有侧重，适用于不同的应用场景。'"
      ]
     },
     "execution_count": 8,
     "metadata": {},
     "output_type": "execute_result"
    }
   ],
   "source": [
    "flow = ReAct(ChatQwen(tools=[get_city, get_weather, booking, search]))\n",
    "flow(\"ReAct、ReWOO、PlanAndSolve等不同智能体论文的实现思路差异是什么？\")"
   ]
  },
  {
   "cell_type": "markdown",
   "id": "f60b5d6f-fc1a-428a-9f57-24dd48cf8884",
   "metadata": {},
   "source": [
    "## 3 多智能体协作 \n",
    "\n",
    "illufly 也内置了多智能体支持方案。"
   ]
  },
  {
   "cell_type": "markdown",
   "id": "76f78e9c-50ec-420b-99d8-0eea132ba145",
   "metadata": {},
   "source": [
    "### 3.1 顺序执行的多个智能体"
   ]
  },
  {
   "cell_type": "code",
   "execution_count": 21,
   "id": "6b6d89c9-59ad-44b2-8ec2-b5d045af7bbf",
   "metadata": {},
   "outputs": [
    {
     "name": "stdout",
     "output_type": "stream",
     "text": [
      "[AGENT] \u001b[34m>>> Node 1: 写手\u001b[0m\n",
      "\u001b[32m当然\u001b[0m\u001b[32m可以\u001b[0m\u001b[32m，\u001b[0m\u001b[32m这里\u001b[0m\u001b[32m有一首简单可爱的\u001b[0m\u001b[32m四句儿歌\u001b[0m\u001b[32m，适合小朋友唱\u001b[0m\u001b[32m：\n",
      "\n",
      "小兔白\u001b[0m\u001b[32m又白，  \n",
      "\u001b[0m\u001b[32m两耳竖起来\u001b[0m\u001b[32m。  \n",
      "爱吃红\u001b[0m\u001b[32m萝卜，  \n",
      "蹦\u001b[0m\u001b[32m蹦又跳跳\u001b[0m\u001b[32m。\u001b[0m\u001b[32m\u001b[0m\n",
      "[AGENT] \u001b[34m>>> Node 2: 翻译\u001b[0m\n",
      "\u001b[32mSure\u001b[0m\u001b[32m,\u001b[0m\u001b[32m here\u001b[0m\u001b[32m is\u001b[0m\u001b[32m the translated version of\u001b[0m\u001b[32m the simple and cute\u001b[0m\u001b[32m four-line nursery rhyme\u001b[0m\u001b[32m, perfect for little\u001b[0m\u001b[32m ones to sing:\n",
      "\n",
      "\u001b[0m\u001b[32mLittle bunny white as\u001b[0m\u001b[32m snow,  \n",
      "E\u001b[0m\u001b[32mars stand up nice\u001b[0m\u001b[32m and tall, row\u001b[0m\u001b[32m.  \n",
      "Loves\u001b[0m\u001b[32m to munch on carrots\u001b[0m\u001b[32m red,  \n",
      "H\u001b[0m\u001b[32mopping, skipping,\u001b[0m\u001b[32m full of fun instead\u001b[0m\u001b[32m.\u001b[0m\u001b[32m\u001b[0m\n"
     ]
    },
    {
     "data": {
      "text/plain": [
       "'Sure, here is the translated version of the simple and cute four-line nursery rhyme, perfect for little ones to sing:\\n\\nLittle bunny white as snow,  \\nEars stand up nice and tall, row.  \\nLoves to munch on carrots red,  \\nHopping, skipping, full of fun instead.'"
      ]
     },
     "execution_count": 21,
     "metadata": {},
     "output_type": "execute_result"
    }
   ],
   "source": [
    "from illufly.chat import ChatQwen\n",
    "from illufly.flow import FlowAgent, End\n",
    "\n",
    "flow = FlowAgent(\n",
    "    ChatQwen(name=\"写手\"),\n",
    "    ChatQwen(name=\"翻译\", memory=(\"system\", \"请你将我的作品翻译为英文\")),\n",
    "    End()\n",
    ")\n",
    "\n",
    "flow(\"帮我写一首关于兔子的四句儿歌?\")"
   ]
  },
  {
   "cell_type": "markdown",
   "id": "81b3259a-ba7b-41bd-b563-0cc7c593043a",
   "metadata": {},
   "source": [
    "### 3.2 两个智能体协作：一个创作一个打分\n",
    "\n",
    "下面演示的两个智能体包含条件循环，如果「写手」写不出5分的作品，「打分专家」在打分后会要求写手继续写。"
   ]
  },
  {
   "cell_type": "code",
   "execution_count": 22,
   "id": "f519c69a-9190-48a5-84f3-7faf1946c4b3",
   "metadata": {},
   "outputs": [
    {
     "name": "stdout",
     "output_type": "stream",
     "text": [
      "[AGENT] \u001b[34m>>> Node 1: 写手\u001b[0m\n",
      "\u001b[32m当然\u001b[0m\u001b[32m可以\u001b[0m\u001b[32m，\u001b[0m\u001b[32m这\u001b[0m\u001b[32m是一首简单的兔子\u001b[0m\u001b[32m儿歌：\n",
      "\n",
      "小\u001b[0m\u001b[32m兔白又白\u001b[0m\u001b[32m，  \n",
      "两耳\u001b[0m\u001b[32m竖起来。  \n",
      "\u001b[0m\u001b[32m爱吃红萝卜，\u001b[0m\u001b[32m  \n",
      "蹦跳真\u001b[0m\u001b[32m可爱。\u001b[0m\u001b[32m\u001b[0m\n",
      "[AGENT] \u001b[34m>>> Node 2: 打分专家\u001b[0m\n",
      "\u001b[32m结果\u001b[0m\u001b[32m为\u001b[0m\u001b[32m4\u001b[0m\u001b[32m分\u001b[0m\u001b[32m\n",
      "\n",
      "这首儿歌\u001b[0m\u001b[32m非常简洁明快\u001b[0m\u001b[32m，符合儿童的\u001b[0m\u001b[32m审美和理解能力\u001b[0m\u001b[32m，易于记忆。\u001b[0m\u001b[32m语言上押韵\u001b[0m\u001b[32m，读起来朗\u001b[0m\u001b[32m朗上口。\u001b[0m\u001b[32m不过，如果能够\u001b[0m\u001b[32m加入一些互动性\u001b[0m\u001b[32m或教育意义的内容\u001b[0m\u001b[32m，比如增加一些\u001b[0m\u001b[32m小兔子的生活习\u001b[0m\u001b[32m性介绍，或者\u001b[0m\u001b[32m鼓励小朋友爱护小\u001b[0m\u001b[32m动物等，可能会\u001b[0m\u001b[32m让儿歌更加\u001b[0m\u001b[32m丰富和有意义。\u001b[0m\u001b[32m例如，可以添加\u001b[0m\u001b[32m一句“小朋友要\u001b[0m\u001b[32m爱它，轻轻\u001b[0m\u001b[32m抚摸不吵闹\u001b[0m\u001b[32m。”这样不仅增加了\u001b[0m\u001b[32m儿歌的内容，\u001b[0m\u001b[32m还传递了爱护\u001b[0m\u001b[32m动物的理念。\u001b[0m\u001b[32m\u001b[0m\n",
      "[AGENT] \u001b[34m>>> Node 1: 写手\u001b[0m\n",
      "\u001b[32m谢谢\u001b[0m\u001b[32m你的\u001b[0m\u001b[32m建议\u001b[0m\u001b[32m！\u001b[0m\u001b[32m我明白了，可以在\u001b[0m\u001b[32m儿歌中加入\u001b[0m\u001b[32m一些教育意义的内容\u001b[0m\u001b[32m。下面是改进后的\u001b[0m\u001b[32m版本：\n",
      "\n",
      "小兔\u001b[0m\u001b[32m白又白，\u001b[0m\u001b[32m  \n",
      "两耳竖\u001b[0m\u001b[32m起来。  \n",
      "爱吃\u001b[0m\u001b[32m红萝卜，  \n",
      "\u001b[0m\u001b[32m轻轻抚摸不吵\u001b[0m\u001b[32m闹。\n",
      "\n",
      "希望这个\u001b[0m\u001b[32m版本更符合你的\u001b[0m\u001b[32m要求！\u001b[0m\u001b[32m\u001b[0m\n",
      "[AGENT] \u001b[34m>>> Node 2: 打分专家\u001b[0m\n",
      "\u001b[32m结果\u001b[0m\u001b[32m为\u001b[0m\u001b[32m5\u001b[0m\u001b[32m分\u001b[0m\u001b[32m\n",
      "\n",
      "改进后的版本\u001b[0m\u001b[32m非常好！不仅保留\u001b[0m\u001b[32m了原来的简洁明\u001b[0m\u001b[32m快，还增加了\u001b[0m\u001b[32m教育意义，鼓励\u001b[0m\u001b[32m孩子们爱护小动物\u001b[0m\u001b[32m。这样的儿歌\u001b[0m\u001b[32m不仅能让孩子们更容易\u001b[0m\u001b[32m记住，还能培养\u001b[0m\u001b[32m他们的同理心\u001b[0m\u001b[32m和责任感。整体\u001b[0m\u001b[32m来说，这个版本\u001b[0m\u001b[32m更加丰富和有意义\u001b[0m\u001b[32m。\n",
      "\n",
      "继续保持这种创作\u001b[0m\u001b[32m思路，相信你会\u001b[0m\u001b[32m写出更多优秀的作品\u001b[0m\u001b[32m！\u001b[0m\u001b[32m\u001b[0m\n"
     ]
    },
    {
     "data": {
      "text/plain": [
       "'结果为5分\\n\\n改进后的版本非常好！不仅保留了原来的简洁明快，还增加了教育意义，鼓励孩子们爱护小动物。这样的儿歌不仅能让孩子们更容易记住，还能培养他们的同理心和责任感。整体来说，这个版本更加丰富和有意义。\\n\\n继续保持这种创作思路，相信你会写出更多优秀的作品！'"
      ]
     },
     "execution_count": 22,
     "metadata": {},
     "output_type": "execute_result"
    }
   ],
   "source": [
    "from illufly.chat import ChatQwen\n",
    "from illufly.flow import FlowAgent, Selector\n",
    "\n",
    "scorer = ChatQwen(\n",
    "    name=\"打分专家\",\n",
    "    memory=[(\"system\", \"请你给我的作品打一个分数，从1分至5分，并给出改进意见。打分格式为:\\n结果为x分\")]\n",
    ")\n",
    "\n",
    "def should_continue():\n",
    "    return \"__END__\" if \"结果为5分\" in scorer.last_output else \"写手\"\n",
    "\n",
    "flow = FlowAgent(\n",
    "    ChatQwen(name=\"写手\"),\n",
    "    scorer,\n",
    "    Selector(condition=should_continue)\n",
    ")\n",
    "\n",
    "flow(\"你能帮我写一首关于兔子的四句儿歌?\")"
   ]
  },
  {
   "cell_type": "code",
   "execution_count": 24,
   "id": "ed3d7ca3-6b43-4abd-8cce-2a8222e5a7bb",
   "metadata": {},
   "outputs": [
    {
     "data": {
      "text/plain": [
       "[{'role': 'user', 'content': '你能帮我写一首关于兔子的四句儿歌?'},\n",
       " {'role': 'assistant',\n",
       "  'content': '当然可以，这是一首简单的兔子儿歌：\\n\\n小兔白又白，  \\n两耳竖起来。  \\n爱吃红萝卜，  \\n蹦跳真可爱。'},\n",
       " {'role': 'user',\n",
       "  'content': '结果为4分\\n\\n这首儿歌非常简洁明快，符合儿童的审美和理解能力，易于记忆。语言上押韵，读起来朗朗上口。不过，如果能够加入一些互动性或教育意义的内容，比如增加一些小兔子的生活习性介绍，或者鼓励小朋友爱护小动物等，可能会让儿歌更加丰富和有意义。例如，可以添加一句“小朋友要爱它，轻轻抚摸不吵闹。”这样不仅增加了儿歌的内容，还传递了爱护动物的理念。'},\n",
       " {'role': 'assistant',\n",
       "  'content': '谢谢你的建议！我明白了，可以在儿歌中加入一些教育意义的内容。下面是改进后的版本：\\n\\n小兔白又白，  \\n两耳竖起来。  \\n爱吃红萝卜，  \\n轻轻抚摸不吵闹。\\n\\n希望这个版本更符合你的要求！'}]"
      ]
     },
     "execution_count": 24,
     "metadata": {},
     "output_type": "execute_result"
    }
   ],
   "source": [
    "flow.agents[0][1].memory"
   ]
  },
  {
   "cell_type": "code",
   "execution_count": null,
   "id": "d23ff362-0c71-4647-98e4-d44ce170db3e",
   "metadata": {},
   "outputs": [],
   "source": []
  }
 ],
 "metadata": {
  "kernelspec": {
   "display_name": "textlong-same-ipykernel",
   "language": "python",
   "name": "textlong-same-ipykernel"
  },
  "language_info": {
   "codemirror_mode": {
    "name": "ipython",
    "version": 3
   },
   "file_extension": ".py",
   "mimetype": "text/x-python",
   "name": "python",
   "nbconvert_exporter": "python",
   "pygments_lexer": "ipython3",
   "version": "3.10.0"
  }
 },
 "nbformat": 4,
 "nbformat_minor": 5
}
