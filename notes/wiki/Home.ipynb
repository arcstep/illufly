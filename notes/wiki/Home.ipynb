{
 "cells": [
  {
   "cell_type": "markdown",
   "id": "c0c14e31-d493-46cd-a376-873e6ba9f7ee",
   "metadata": {},
   "source": [
    "# 欢迎使用 ✨🦋 illufly\n",
    "\n",
    "[![PyPI version](https://img.shields.io/pypi/v/illufly.svg)](https://pypi.org/project/illufly/)\n",
    "\n",
    "`illufly` 是 `illution butterfly` 的缩写，中文为\"幻蝶\"。\n",
    "\n",
    "**illufly** 是一个具有自我进化能力的 Agent 框架，目标是：`基于自我进化，快速创作价值`。\n",
    "\n",
    "illufly 被设计为在意图猜测、问答经验、资料召回率、工具规划能力等各种场景下都具有自我进化能力。<br>\n",
    "本文作为开始，一步一步讲述各种场景下的自我进化如何实现。\n",
    "\n",
    "**请注意:** 由于 illufly 还处于开发状态，为了加强自我进化能力，框架的一些概念会不断更新，使用时请锁定版本。"
   ]
  },
  {
   "cell_type": "markdown",
   "id": "e79bb457-84ba-4fb3-b72c-3cf2d5e25540",
   "metadata": {},
   "source": [
    "## 1 从内置的 RAG 能力开始讲起\n",
    "\n",
    "illufly 使用时简单、直接、快速，但创造价值的场景却很丰富。<br>\n",
    "从 illufly.chat 导入一个封装好的大模型是最常见的开始方式。\n",
    "\n",
    "```python\n",
    "from illufy.chat import ChatQwen\n",
    "```\n",
    "\n",
    "ChatQwen 是 ChatAgent 子类。<br>\n",
    "这一行代码很简单，但你会越来越惊奇地发现，这个 Agent 已经具备很多魔法能力。"
   ]
  },
  {
   "cell_type": "markdown",
   "id": "5d509da3-fa30-4c07-8ac9-7b91138afba0",
   "metadata": {},
   "source": [
    "### 1.1 连续对话\n",
    "\n",
    "**首先是连续对话能力：**"
   ]
  },
  {
   "cell_type": "code",
   "execution_count": 1,
   "id": "a343d4c1-1e33-4943-b4cf-5b4c2b4de7c1",
   "metadata": {},
   "outputs": [
    {
     "name": "stdout",
     "output_type": "stream",
     "text": [
      "\u001b[32m在这\u001b[0m\u001b[32m浩\u001b[0m\u001b[32m瀚\u001b[0m\u001b[32m的\u001b[0m\u001b[32m宇宙中，我\u001b[0m\u001b[32m愿意做你的小\u001b[0m\u001b[32m行星，绕着\u001b[0m\u001b[32m你转，偶尔\u001b[0m\u001b[32m撞进你的心\u001b[0m\u001b[32m里，制造一点\u001b[0m\u001b[32m浪漫的火花和\u001b[0m\u001b[32m小小的混乱。\u001b[0m\u001b[32m\u001b[0m\n"
     ]
    },
    {
     "data": {
      "text/plain": [
       "'在这浩瀚的宇宙中，我愿意做你的小行星，绕着你转，偶尔撞进你的心里，制造一点浪漫的火花和小小的混乱。'"
      ]
     },
     "execution_count": 1,
     "metadata": {},
     "output_type": "execute_result"
    }
   ],
   "source": [
    "from illufly.chat import ChatQwen\n",
    "qwen = ChatQwen()\n",
    "\n",
    "qwen(\"请你帮我写封一句话情书，深情又逗比的那种\")"
   ]
  },
  {
   "cell_type": "markdown",
   "id": "cb7b63c9-37b6-4ae6-8d66-4a5cd9aaa77f",
   "metadata": {},
   "source": [
    "实际上，上述代码已经内置了一些功能特性：\n",
    "\n",
    "- **流式输出** 内置流输出\n",
    "- **支持连续对话** 问答过程是有记忆的，可以连续对话"
   ]
  },
  {
   "cell_type": "markdown",
   "id": "17003ade-7ab3-4bba-b295-0167b69c2939",
   "metadata": {},
   "source": [
    "**查看对话记忆：**"
   ]
  },
  {
   "cell_type": "code",
   "execution_count": 2,
   "id": "0f1ad5b7-796c-4056-9cc5-b52b11d2102f",
   "metadata": {},
   "outputs": [
    {
     "data": {
      "text/plain": [
       "[{'role': 'user', 'content': '请你帮我写封一句话情书，深情又逗比的那种'},\n",
       " {'role': 'assistant',\n",
       "  'content': '在这浩瀚的宇宙中，我愿意做你的小行星，绕着你转，偶尔撞进你的心里，制造一点浪漫的火花和小小的混乱。'}]"
      ]
     },
     "execution_count": 2,
     "metadata": {},
     "output_type": "execute_result"
    }
   ],
   "source": [
    "qwen.memory"
   ]
  },
  {
   "cell_type": "markdown",
   "id": "cc5d10be-41b7-4ff2-8c78-3d09772ec92f",
   "metadata": {},
   "source": [
    "### 1.2 内置 RAG 支持\n",
    "\n",
    "使用 RAG（检索增强生成）是开发大模型应用时的常见场景。<br>\n",
    "illufly 内置了一些 RAG 实现策略，最简单的就是直接将背景知识添加到 Agent 中。\n",
    "\n",
    "**构建最朴素的 RAG 应用：**"
   ]
  },
  {
   "cell_type": "code",
   "execution_count": 37,
   "id": "3c07bdf7-07a5-4a82-b147-406e014faa6b",
   "metadata": {},
   "outputs": [
    {
     "data": {
      "text/plain": [
       "Message(role=system, content=请你帮我写封一句话情书，深情又逗比的那种, 已有知识:)"
      ]
     },
     "execution_count": 37,
     "metadata": {},
     "output_type": "execute_result"
    }
   ],
   "source": [
    "from illufly.types import Messages\n",
    "Messages(PromptTemplate(text=\"请你帮我写封一句话情书，深情又逗比的那种, 已有知识:{{knowledge}}\"), style=\"text\")[-1]"
   ]
  },
  {
   "cell_type": "code",
   "execution_count": 2,
   "id": "7d9efd12-ab2b-4d7d-9c27-3edb01cdcbb8",
   "metadata": {},
   "outputs": [
    {
     "name": "stdout",
     "output_type": "stream",
     "text": [
      "\u001b[32m\"\u001b[0m\u001b[32m亲爱的\u001b[0m\u001b[32m银\u001b[0m\u001b[32m子\u001b[0m\u001b[32m，虽然你的价值\u001b[0m\u001b[32m连城，但我\u001b[0m\u001b[32m愿意用我所有的\u001b[0m\u001b[32m金子，换取\u001b[0m\u001b[32m你的一笑。\u001b[0m\u001b[32m\"\u001b[0m\u001b[32m\u001b[0m\n"
     ]
    },
    {
     "data": {
      "text/plain": [
       "[{'role': 'system',\n",
       "  'content': \"请你帮我写封一句话情书，深情又逗比的那种, ['我的女朋友名字叫林徽因，我喜欢叫她「银子」', '她喜欢叫我「金子」']\"},\n",
       " {'role': 'user', 'content': '请开始'},\n",
       " {'role': 'assistant', 'content': '\"亲爱的银子，虽然你的价值连城，但我愿意用我所有的金子，换取你的一笑。\"'}]"
      ]
     },
     "execution_count": 2,
     "metadata": {},
     "output_type": "execute_result"
    }
   ],
   "source": [
    "from illufly.chat import ChatQwen\n",
    "from illufly.types import PromptTemplate\n",
    "\n",
    "# 声明大模型实例\n",
    "qwen = ChatQwen(knowledge=[\n",
    "    \"我的女朋友名字叫林徽因，我喜欢叫她「银子」\",\n",
    "    \"她喜欢叫我「金子」\",\n",
    "])\n",
    "\n",
    "# 使用模板\n",
    "qwen(\n",
    "    PromptTemplate(\n",
    "        text=\"请你帮我写封一句话情书，深情又逗比的那种, {{knowledge}}\",\n",
    "        binding_map={\"knowledge\": lambda: qwen.get_knowledge()}\n",
    "    )\n",
    ")\n",
    "qwen.memory"
   ]
  },
  {
   "cell_type": "markdown",
   "id": "fea27655-6876-4a00-a1b8-30994771b53f",
   "metadata": {},
   "source": [
    "**将资料保存到文件并根据问题召回：**\n",
    "\n",
    "illufly 也支持传统的 RAG 流程：将文档切分成多个片段，再通过向量模型比较问题和文档片段，这个过程被称为「召回」，也就是从数据库中查找到文本相似的那部份文档片段。\n",
    "\n",
    "你可以把资料整理为 markdown 文件，放入指定位置，比如 `./docs/gf.md` 中，然后使用向量模型嵌入文档，再使用向量数据库检索，最后加载到大模型的提示语中。\n",
    "\n",
    "在 illufly 框架中，这个过程依然非常简洁，你只负责声明实例就可以，其余的交给 illufly 实现。"
   ]
  },
  {
   "cell_type": "code",
   "execution_count": 5,
   "id": "74554bd7-167f-479d-8c61-95da29b268a0",
   "metadata": {},
   "outputs": [
    {
     "name": "stdout",
     "output_type": "stream",
     "text": [
      "\u001b[32m亲爱的\u001b[0m\u001b[32m银\u001b[0m\u001b[32m子\u001b[0m\u001b[32m，\u001b[0m\u001b[32m你是我心中的小白\u001b[0m\u001b[32m兔，不仅因为\u001b[0m\u001b[32m你的灵动可爱，\u001b[0m\u001b[32m更因为你总能\u001b[0m\u001b[32m让我这个大笨\u001b[0m\u001b[32m“金子”\u001b[0m\u001b[32m为你跳起最\u001b[0m\u001b[32m不协调却充满\u001b[0m\u001b[32m爱的舞蹈。\u001b[0m\u001b[32m爱你，是我最美的\u001b[0m\u001b[32m决定。\u001b[0m\u001b[32m\u001b[0m\n"
     ]
    },
    {
     "data": {
      "text/plain": [
       "[{'role': 'user',\n",
       "  'content': '回答时请参考已有知识：\\n@knowledge\\n我的女朋友名字叫林徽因，我喜欢叫她「银子」,\\n她喜欢叫我「金子」,\\n林徽因特别喜欢小兔子\\n\\n**Question**\\n林徽因和她的喜好\\n\\n**Knowledge**\\n林徽因是用户的女朋友，用户私下里称她为“因子”。她称呼用户为“金子”，并且喜欢小白兔。\\n\\n**Question**\\n林徽因的姓名及爱好\\n\\n**Knowledge**\\n林徽因是用户的女朋友，她喜欢小白兔。\\n'},\n",
       " {'role': 'assistant', 'content': 'ok'},\n",
       " {'role': 'user', 'content': '请你帮我写封一句话情书，深情又逗比的那种'},\n",
       " {'role': 'assistant',\n",
       "  'content': '亲爱的银子，你是我心中的小白兔，不仅因为你的灵动可爱，更因为你总能让我这个大笨“金子”为你跳起最不协调却充满爱的舞蹈。爱你，是我最美的决定。'}]"
      ]
     },
     "execution_count": 5,
     "metadata": {},
     "output_type": "execute_result"
    }
   ],
   "source": [
    "from illufly.rag import TextEmbeddings, FaissDB\n",
    "from illufly.chat import ChatQwen\n",
    "\n",
    "# 声明向量数据库并加载指定位置的文档\n",
    "db = FaissDB(embeddings=TextEmbeddings(), top_k=3)\n",
    "db.load(\"./docs\")\n",
    "\n",
    "# 声明大模型实例\n",
    "qwen = ChatQwen(knowledge=[db])\n",
    "\n",
    "# 使用\n",
    "qwen(\"请你帮我写封一句话情书，深情又逗比的那种\")\n",
    "qwen.memory"
   ]
  },
  {
   "cell_type": "markdown",
   "id": "4478c2b4-37a6-4ce3-a3cc-32b7388d4927",
   "metadata": {},
   "source": [
    "### 1.3 在对话中自主进化\n",
    "\n",
    "为了让大模型能够理解对话的背景，采用 RAG 策略的确是好办法，但管理 RAG 文档资料有些繁琐，涉及到文档准备、确认、加载、切分、检索等很多细节。你希望大模型记住的知识也许是未经整理的、碎片化的，这让 RAG 文档资料很难管理。\n",
    "\n",
    "illufly 提供自我进化能力，其中之一就是在对话过程中学习知识。\n",
    "\n",
    "在对话中获得经验需要使用 ChatLearn 子类。"
   ]
  },
  {
   "cell_type": "code",
   "execution_count": 6,
   "id": "04e90d84-61ff-4a28-b917-6813b503e904",
   "metadata": {},
   "outputs": [],
   "source": [
    "from illufly.chat import ChatQwen\n",
    "from illufly.learn import ChatLearn\n",
    "\n",
    "talker = ChatLearn(ChatQwen())"
   ]
  },
  {
   "cell_type": "code",
   "execution_count": 7,
   "id": "ec923d43-52ba-466e-9221-08bee6e96d65",
   "metadata": {},
   "outputs": [
    {
     "name": "stdout",
     "output_type": "stream",
     "text": [
      "[AGENT] \u001b[34m>>> Node 1: Scribe\u001b[0m\n",
      "\u001b[32m当然\u001b[0m\u001b[32m可以\u001b[0m\u001b[32m，\u001b[0m\u001b[32m我很\u001b[0m\u001b[32m乐意听你分享\u001b[0m\u001b[32m关于你女朋友的事情\u001b[0m\u001b[32m。你可以告诉我一些\u001b[0m\u001b[32m她的兴趣爱好、\u001b[0m\u001b[32m你们是如何认识的\u001b[0m\u001b[32m，或者任何你觉得\u001b[0m\u001b[32m有趣的事情。\u001b[0m\u001b[32m\u001b[0m\n"
     ]
    },
    {
     "data": {
      "text/plain": [
       "'当然可以，我很乐意听你分享关于你女朋友的事情。你可以告诉我一些她的兴趣爱好、你们是如何认识的，或者任何你觉得有趣的事情。'"
      ]
     },
     "execution_count": 7,
     "metadata": {},
     "output_type": "execute_result"
    }
   ],
   "source": [
    "talker(\"我跟你说说我的女朋友\")"
   ]
  },
  {
   "cell_type": "code",
   "execution_count": 8,
   "id": "b0152f8e-dd37-40bf-b2b1-7efcc4c169d6",
   "metadata": {},
   "outputs": [
    {
     "name": "stdout",
     "output_type": "stream",
     "text": [
      "[AGENT] \u001b[34m>>> Node 1: Scribe\u001b[0m\n",
      "\u001b[32m听起来\u001b[0m\u001b[32m你们\u001b[0m\u001b[32m之间的\u001b[0m\u001b[32m昵\u001b[0m\u001b[32m称很有意思。\u001b[0m\u001b[32m林徽因这个名字\u001b[0m\u001b[32m也很好听。\u001b[0m\u001b[32m你们是怎么认识的\u001b[0m\u001b[32m呢？有没有什么\u001b[0m\u001b[32m特别的故事？\u001b[0m\u001b[32m\u001b[0m\n"
     ]
    },
    {
     "data": {
      "text/plain": [
       "'听起来你们之间的昵称很有意思。林徽因这个名字也很好听。你们是怎么认识的呢？有没有什么特别的故事？'"
      ]
     },
     "execution_count": 8,
     "metadata": {},
     "output_type": "execute_result"
    }
   ],
   "source": [
    "talker(\"她叫林徽因，我私下里叫她`银子`，她就叫我`金子`\")"
   ]
  },
  {
   "cell_type": "code",
   "execution_count": 9,
   "id": "335bbacc-1857-432b-bdc7-5856963f609c",
   "metadata": {},
   "outputs": [
    {
     "name": "stdout",
     "output_type": "stream",
     "text": [
      "[AGENT] \u001b[34m>>> Node 1: Scribe\u001b[0m\n",
      "\u001b[32m**\u001b[0m\u001b[32m思考\u001b[0m\u001b[32m**\n",
      "\u001b[0m\u001b[32m-\u001b[0m\u001b[32m 对话中的关键\u001b[0m\u001b[32m信息包括：用户\u001b[0m\u001b[32m女朋友的名字叫林\u001b[0m\u001b[32m徽因，用户\u001b[0m\u001b[32m私下里叫她\u001b[0m\u001b[32m“银子”，\u001b[0m\u001b[32m她则叫用户\u001b[0m\u001b[32m“金子”\u001b[0m\u001b[32m。\n",
      "- 对比\u001b[0m\u001b[32m已有的知识，\u001b[0m\u001b[32m没有发现与上述\u001b[0m\u001b[32m信息相关的`@\u001b[0m\u001b[32mknowledge`开头的内容\u001b[0m\u001b[32m。\n",
      "- 这\u001b[0m\u001b[32m些信息是新的\u001b[0m\u001b[32m，且不与\u001b[0m\u001b[32m任何已知信息\u001b[0m\u001b[32m冲突。\n",
      "- \u001b[0m\u001b[32m信息包含新增的内容\u001b[0m\u001b[32m，如昵称\u001b[0m\u001b[32m和名字。\n",
      "\n",
      "**\u001b[0m\u001b[32m决定**\n",
      "- \u001b[0m\u001b[32m没有发现\u001b[0m\u001b[32m与`@knowledge\u001b[0m\u001b[32m`开头的已有\u001b[0m\u001b[32m知识存在冲突。\n",
      "\u001b[0m\u001b[32m- 没\u001b[0m\u001b[32m有发现与`\u001b[0m\u001b[32m@knowledge`开头\u001b[0m\u001b[32m的已有知识基本\u001b[0m\u001b[32m重复的内容。\n",
      "-\u001b[0m\u001b[32m 因此，\u001b[0m\u001b[32m返回`question`\u001b[0m\u001b[32m和`knowledge`\u001b[0m\u001b[32m。\n",
      "\n",
      "**结论**\n",
      "\n",
      "\u001b[0m\u001b[32m<question>\n",
      "用户\u001b[0m\u001b[32m女朋友的名字及昵\u001b[0m\u001b[32m称是什么？\n",
      "</\u001b[0m\u001b[32mquestion>\n",
      "\n",
      "<knowledge\u001b[0m\u001b[32m>\n",
      "用户女朋友的名字\u001b[0m\u001b[32m叫林徽因\u001b[0m\u001b[32m，用户私下里\u001b[0m\u001b[32m称呼她为“\u001b[0m\u001b[32m银子”，而\u001b[0m\u001b[32m她则称呼用户\u001b[0m\u001b[32m为“金子\u001b[0m\u001b[32m”。\n",
      "</knowledge\u001b[0m\u001b[32m>\u001b[0m\u001b[32m\u001b[0m\n",
      "[AGENT] \u001b[34m>>> Node 3: Fetch_FAQ\u001b[0m\n",
      "[FAQ] \u001b[34m保存知识到[099671-7364-0000]：用户女朋友的名字及昵称是什么？ -> 用户女朋友的名字叫林徽因，用户私下里称呼她为“银子”，而她则称呼用户为“金子”。\u001b[0m\n"
     ]
    },
    {
     "data": {
      "text/plain": [
       "'**思考**\\n- 对话中的关键信息包括：用户女朋友的名字叫林徽因，用户私下里叫她“银子”，她则叫用户“金子”。\\n- 对比已有的知识，没有发现与上述信息相关的`@knowledge`开头的内容。\\n- 这些信息是新的，且不与任何已知信息冲突。\\n- 信息包含新增的内容，如昵称和名字。\\n\\n**决定**\\n- 没有发现与`@knowledge`开头的已有知识存在冲突。\\n- 没有发现与`@knowledge`开头的已有知识基本重复的内容。\\n- 因此，返回`question`和`knowledge`。\\n\\n**结论**\\n\\n<question>\\n用户女朋友的名字及昵称是什么？\\n</question>\\n\\n<knowledge>\\n用户女朋友的名字叫林徽因，用户私下里称呼她为“银子”，而她则称呼用户为“金子”。\\n</knowledge>'"
      ]
     },
     "execution_count": 9,
     "metadata": {},
     "output_type": "execute_result"
    }
   ],
   "source": [
    "talker(\"你帮我总结吧\")"
   ]
  },
  {
   "cell_type": "markdown",
   "id": "309f3748-92cd-429f-9884-a5e8e55831a1",
   "metadata": {},
   "source": [
    "### 1.4 使用在对话中获得的经验"
   ]
  },
  {
   "cell_type": "code",
   "execution_count": 10,
   "id": "fa6f20a9-baa5-4d6a-bfed-f658fe615af7",
   "metadata": {},
   "outputs": [
    {
     "name": "stdout",
     "output_type": "stream",
     "text": [
      "\u001b[32m你的\u001b[0m\u001b[32m女朋友\u001b[0m\u001b[32m叫\u001b[0m\u001b[32m林\u001b[0m\u001b[32m徽因，她\u001b[0m\u001b[32m喜欢小白兔。\u001b[0m\u001b[32m另外，你私下\u001b[0m\u001b[32m里称呼她为\u001b[0m\u001b[32m“银子”\u001b[0m\u001b[32m或“因子”，\u001b[0m\u001b[32m而她则称呼\u001b[0m\u001b[32m你为“金\u001b[0m\u001b[32m子”。\u001b[0m\u001b[32m\u001b[0m\n"
     ]
    },
    {
     "data": {
      "text/plain": [
       "'你的女朋友叫林徽因，她喜欢小白兔。另外，你私下里称呼她为“银子”或“因子”，而她则称呼你为“金子”。'"
      ]
     },
     "execution_count": 10,
     "metadata": {},
     "output_type": "execute_result"
    }
   ],
   "source": [
    "from illufly.rag import FaissDB, TextEmbeddings\n",
    "from illufly.chat import ChatQwen\n",
    "\n",
    "db = FaissDB(embeddings=TextEmbeddings(), top_k=3)\n",
    "qwen = ChatQwen(knowledge=[db])\n",
    "\n",
    "qwen(\"你知道我女朋友叫什么吗？有什么爱好?\")"
   ]
  },
  {
   "cell_type": "markdown",
   "id": "26de6c62-c926-4eec-97be-da39dbd8090f",
   "metadata": {},
   "source": [
    "### 1.5 管理经验数据\n",
    "\n",
    "illufly 的设置很多都是通过环境变量来指定的。<br>\n",
    "在 python 中你可以通过 dotenv 来管理环境变量的设置，也可以通过 docker 或 python 的 os 模块来指定。\n",
    "\n",
    "**使用 config 模块的 get_env() 可以查看经验目录的默认值**\n",
    "\n",
    "对于不同的操作系统来说，这个目录位置可能有所不同，但默认情况下这应该是一个临时目录。"
   ]
  },
  {
   "cell_type": "code",
   "execution_count": 12,
   "id": "ac72a38d-6c7c-4138-a02a-7a026d47d385",
   "metadata": {},
   "outputs": [
    {
     "data": {
      "text/plain": [
       "'/var/folders/f5/rlf27f4n6wzc_k4x7y4vzm5h0000gn/T/__ILLUFLY__/CHART_LEARN'"
      ]
     },
     "execution_count": 12,
     "metadata": {},
     "output_type": "execute_result"
    }
   ],
   "source": [
    "from illufly.config import get_env\n",
    "\n",
    "# 如果不带参数，就返回所有环境变量的默认值\n",
    "get_env(\"ILLUFLY_CHAT_LEARN\")"
   ]
  },
  {
   "cell_type": "markdown",
   "id": "cd8be690-692a-4c9e-a299-aa862ed2bcb7",
   "metadata": {},
   "source": [
    "**如果你不喜欢这个目录可以改为其他位置。不过在此之前，你也可以将已有经验迁移过来：**"
   ]
  },
  {
   "cell_type": "code",
   "execution_count": 13,
   "id": "c74f14d0-3f0a-44ed-9969-adc4c3c3a0e3",
   "metadata": {},
   "outputs": [
    {
     "data": {
      "text/plain": [
       "'从 /var/folders/f5/rlf27f4n6wzc_k4x7y4vzm5h0000gn/T/__ILLUFLY__/CHART_LEARN 拷贝到 ./XP 完成，共克隆了 3 个文件。'"
      ]
     },
     "execution_count": 13,
     "metadata": {},
     "output_type": "execute_result"
    }
   ],
   "source": [
    "qwen.clone_chat_learn(\"./XP\")"
   ]
  },
  {
   "cell_type": "markdown",
   "id": "0a4d3ff6-3efc-4d0d-a158-d2926e1de55e",
   "metadata": {},
   "source": [
    "**你可以通过 os.environ 来指定环境变量的值，设定新的经验存储目录：**"
   ]
  },
  {
   "cell_type": "code",
   "execution_count": 14,
   "id": "5063d285-7621-44e2-9b2d-9d78d0fd2972",
   "metadata": {},
   "outputs": [
    {
     "data": {
      "text/plain": [
       "'./XP'"
      ]
     },
     "execution_count": 14,
     "metadata": {},
     "output_type": "execute_result"
    }
   ],
   "source": [
    "import os\n",
    "os.environ[\"ILLUFLY_CHAT_LEARN\"] = \"./XP\"\n",
    "get_env(\"ILLUFLY_CHAT_LEARN\")"
   ]
  },
  {
   "cell_type": "markdown",
   "id": "93b1c58c-b880-44cd-97cd-1720bd5a6c26",
   "metadata": {},
   "source": [
    "上面简单介绍了基于文档资料的 RAG 和基于经验的 RAG 实现。<br>\n",
    "接下来，继续介绍 illufly 中对于流行的智能体论文的实践和内置支持。"
   ]
  },
  {
   "cell_type": "markdown",
   "id": "127afa8a-376b-4bd9-8a3a-47bc5684b0d7",
   "metadata": {},
   "source": [
    "## 2 单智能体和工具回调\n",
    "\n",
    "illufly 的 ChatAgent 天然具有使用工具的能力，可以直接作为单智能体使用。"
   ]
  },
  {
   "cell_type": "markdown",
   "id": "f40bec59-0776-4837-91fb-4caaac070d30",
   "metadata": {},
   "source": [
    "### 2.1 所有 ChatAgent 都是 OpenAI 工具回调风格的智能体\n",
    "\n",
    "在`illufly`中，所有对话智能体内置支持工具回调，只需要提供`tools`参数。<br>\n",
    "而普通 python 函数即可当作工具使用。\n",
    "\n",
    "**以下示例是定义工具和使用工具的过程：**"
   ]
  },
  {
   "cell_type": "code",
   "execution_count": 17,
   "id": "94b7be91-d91a-4fa7-9c27-5dbae8f15bd7",
   "metadata": {},
   "outputs": [
    {
     "name": "stdout",
     "output_type": "stream",
     "text": [
      "\n",
      "\n",
      "[FINAL_TOOLS_CALL] \u001b[36m[{\"index\": 0, \"id\": \"call_8fc2bc07fb6d478ab1eb97\", \"type\": \"function\", \"function\": {\"name\": \"get_current_weather\", \"arguments\": \"{\\\"location\\\": \\\"广州\\\"}\"}}]\u001b[0m\n",
      "\u001b[33m广州今天是晴天。 \u001b[0m\n",
      "\u001b[32m今天\u001b[0m\u001b[32m广州\u001b[0m\u001b[32m是晴天，\u001b[0m\u001b[32m非常适合晒被子\u001b[0m\u001b[32m哦。\u001b[0m\u001b[32m\u001b[0m\n"
     ]
    },
    {
     "data": {
      "text/plain": [
       "[{'role': 'user', 'content': '今天广州可以晒被子吗'},\n",
       " {'role': 'assistant',\n",
       "  'content': '',\n",
       "  'tool_calls': [{'index': 0,\n",
       "    'id': 'call_8fc2bc07fb6d478ab1eb97',\n",
       "    'type': 'function',\n",
       "    'function': {'name': 'get_current_weather',\n",
       "     'arguments': '{\"location\": \"广州\"}'}}]},\n",
       " {'tool_call_id': 'call_8fc2bc07fb6d478ab1eb97',\n",
       "  'role': 'tool',\n",
       "  'name': 'get_current_weather',\n",
       "  'content': '广州今天是晴天。 '},\n",
       " {'role': 'assistant', 'content': '今天广州是晴天，非常适合晒被子哦。'}]"
      ]
     },
     "execution_count": 17,
     "metadata": {},
     "output_type": "execute_result"
    }
   ],
   "source": [
    "from illufly.chat import ChatQwen\n",
    "\n",
    "def get_current_weather(location: str=None):\n",
    "    \"\"\"获取城市的天气情况\"\"\"\n",
    "    return f\"{location}今天是晴天。 \"\n",
    "\n",
    "qwen = ChatQwen(tools=[get_current_weather])\n",
    "\n",
    "qwen(\"今天广州可以晒被子吗\", verbose=False)\n",
    "qwen.memory"
   ]
  },
  {
   "cell_type": "markdown",
   "id": "e59f72aa-4124-41fe-b168-42fb8d1aaac0",
   "metadata": {},
   "source": [
    "### 2.2 其他单智能体实现\n",
    "\n",
    "illufly 内置实现了 ReAct、ReWoo、Plan and Solve 等流行的单智能体论文的实践。<br>\n",
    "\n",
    "| FlowAgent子类 | 推理方式 | 论文来源 |\n",
    "|:----|:--------|:------------|\n",
    "|ReAct|一边推理一边执行|[ReAct](https://arxiv.org/abs/2210.03629) |\n",
    "|ReWOO|一次性规划所有步骤后一起执行|[ReWOO](https://arxiv.org/abs/2305.18323) |\n",
    "|PlanAndSolve|一边修订总体计划一边执行|[Plan-and-Solve](https://arxiv.org/abs/2305.04091) |\n",
    "\n",
    "**illufly 如何实现工具回调能力的自我进化呢？** <br>\n",
    "这是一个重要但复杂的话题，本文作为入门教程不展开讲述。"
   ]
  },
  {
   "cell_type": "code",
   "execution_count": 1,
   "id": "12e3e448-da47-4b55-a2f0-612df50ea09e",
   "metadata": {},
   "outputs": [],
   "source": [
    "from illufly.chat import ChatQwen\n",
    "from illufly.flow import ReAct\n",
    "\n",
    "def get_city(location: str):\n",
    "    \"\"\"由任意地名或地址描述查询出所在的城市\"\"\"\n",
    "    return \"重庆\"\n",
    "\n",
    "def get_weather(city: str):\n",
    "    \"\"\"我可以查询城市的天气情况。city必须是明确的城市名称。\"\"\"\n",
    "    return f'{city}今天暴雨'\n",
    "\n",
    "def booking(request: str):\n",
    "    \"\"\"你出差时，我可以帮你安排好到达地点后的酒店、出行等一切事宜\"\"\"\n",
    "    return '我已经帮你预订好酒店，祝你出差顺利'\n",
    "\n",
    "search = ChatQwen(\n",
    "    name=\"搜索小能手\",\n",
    "    description=\"我擅长互联网资料收集\",\n",
    "    enable_search=True,\n",
    "    memory=('system', '你是一个互联网资料收集专家,根据提问的问题整理好收集的资讯')\n",
    ")"
   ]
  },
  {
   "cell_type": "code",
   "execution_count": 2,
   "id": "b39016e4-01d3-4c60-a1c9-d85fc1e03cd2",
   "metadata": {},
   "outputs": [
    {
     "data": {
      "text/plain": [
       "{'type': 'function',\n",
       " 'function': {'name': '搜索小能手',\n",
       "  'description': '我擅长互联网资料收集',\n",
       "  'parameters': {'type': 'object',\n",
       "   'properties': {'prompt': {'type': 'string', 'description': '详细描述用户问题'}},\n",
       "   'required': ['prompt']}}}"
      ]
     },
     "execution_count": 2,
     "metadata": {},
     "output_type": "execute_result"
    }
   ],
   "source": [
    "search.tool_desc"
   ]
  },
  {
   "cell_type": "markdown",
   "id": "389144a6-ad46-4aa2-84cc-aa2142abf24a",
   "metadata": {},
   "source": [
    "**首先，直接使用 OpenAI 工具回调风格的智能体：**"
   ]
  },
  {
   "cell_type": "code",
   "execution_count": 3,
   "id": "5d662443-6b28-49ce-9604-7d434362dee9",
   "metadata": {},
   "outputs": [
    {
     "name": "stdout",
     "output_type": "stream",
     "text": [
      "\n",
      "\n",
      "[FINAL_TOOLS_CALL] \u001b[36m[{\"index\": 0, \"id\": \"call_2956d8d386f34329820670\", \"type\": \"function\", \"function\": {\"name\": \"搜索小能手\", \"arguments\": \"{\\\"prompt\\\": \\\"最近哪个节目里的演员北大毕业的多？\\\"}\"}}]\u001b[0m\n",
      "[AGENT] \u001b[34m搜索小能手\u001b[0m\n",
      "\u001b[32m近期\u001b[0m\u001b[32m提到\u001b[0m\u001b[32m的\u001b[0m\u001b[32m节目中\u001b[0m\u001b[32m，脱口秀\u001b[0m\u001b[32m领域似乎汇聚了不少\u001b[0m\u001b[32m北京大学毕业的演员\u001b[0m\u001b[32m。例如，李\u001b[0m\u001b[32m雪琴和鸟\u001b[0m\u001b[32m鸟都是从北京大学\u001b[0m\u001b[32m毕业的。李\u001b[0m\u001b[32m雪琴以北大\u001b[0m\u001b[32m毕业生的身份在社交媒体\u001b[0m\u001b[32m上走红，并\u001b[0m\u001b[32m逐渐进入娱乐行业\u001b[0m\u001b[32m；而鸟鸟\u001b[0m\u001b[32m则是在内蒙古出生\u001b[0m\u001b[32m，拥有北京大学中文\u001b[0m\u001b[32m系硕士研究生学位\u001b[0m\u001b[32m，在加入脱口\u001b[0m\u001b[32m秀行业之前，\u001b[0m\u001b[32m她的职业背景是\u001b[0m\u001b[32m创意写作。这\u001b[0m\u001b[32m表明，像《\u001b[0m\u001b[32m脱口秀大会\u001b[0m\u001b[32m》这样的节目可能\u001b[0m\u001b[32m汇集了较多具有\u001b[0m\u001b[32m高学历背景的\u001b[0m\u001b[32m演员，其中包括不少\u001b[0m\u001b[32m北大毕业生。\n",
      "\n",
      "此外\u001b[0m\u001b[32m，传统媒体如\u001b[0m\u001b[32m央视的一些节目也\u001b[0m\u001b[32m经常出现北大毕业\u001b[0m\u001b[32m的明星，比如\u001b[0m\u001b[32m李思思和\u001b[0m\u001b[32m撒贝宁，\u001b[0m\u001b[32m他们都是毕业于北京大学\u001b[0m\u001b[32m并在各自的领域取得了\u001b[0m\u001b[32m显著成就的主持人\u001b[0m\u001b[32m。不过，这类\u001b[0m\u001b[32m节目更多的是基于个人\u001b[0m\u001b[32m的职业发展路径，\u001b[0m\u001b[32m而不是特定地聚集\u001b[0m\u001b[32m了一群北大毕业生\u001b[0m\u001b[32m。\n",
      "\n",
      "因此，如果\u001b[0m\u001b[32m要寻找一个演员\u001b[0m\u001b[32m中北大毕业生较多\u001b[0m\u001b[32m的节目，《脱\u001b[0m\u001b[32m口秀大会》\u001b[0m\u001b[32m可能是较为贴切\u001b[0m\u001b[32m的例子。\u001b[0m\u001b[32m\u001b[0m\n",
      "\n",
      "\u001b[32m最\u001b[0m\u001b[32m近\u001b[0m\u001b[32m的\u001b[0m\u001b[32m节目中，似乎《\u001b[0m\u001b[32m脱口秀大会\u001b[0m\u001b[32m》汇聚了不少北京大学\u001b[0m\u001b[32m毕业的演员。\u001b[0m\u001b[32m比如李雪琴\u001b[0m\u001b[32m和鸟鸟，\u001b[0m\u001b[32m两人均毕业于北京大学\u001b[0m\u001b[32m。此外，央视\u001b[0m\u001b[32m的一些节目也会出现\u001b[0m\u001b[32m一些北大毕业的\u001b[0m\u001b[32m明星，比如李\u001b[0m\u001b[32m思思和撒\u001b[0m\u001b[32m贝宁，但\u001b[0m\u001b[32m这些节目的定位\u001b[0m\u001b[32m与《脱口\u001b[0m\u001b[32m秀大会》不同\u001b[0m\u001b[32m，后者更侧重\u001b[0m\u001b[32m于展示一群具有\u001b[0m\u001b[32m高学历背景的\u001b[0m\u001b[32m年轻脱口秀\u001b[0m\u001b[32m演员的风采。\u001b[0m\u001b[32m如果你对这个话题\u001b[0m\u001b[32m感兴趣，可以关注\u001b[0m\u001b[32m一下《脱口\u001b[0m\u001b[32m秀大会》哦\u001b[0m\u001b[32m！\u001b[0m\u001b[32m\u001b[0m\n"
     ]
    },
    {
     "data": {
      "text/plain": [
       "'最近的节目中，似乎《脱口秀大会》汇聚了不少北京大学毕业的演员。比如李雪琴和鸟鸟，两人均毕业于北京大学。此外，央视的一些节目也会出现一些北大毕业的明星，比如李思思和撒贝宁，但这些节目的定位与《脱口秀大会》不同，后者更侧重于展示一群具有高学历背景的年轻脱口秀演员的风采。如果你对这个话题感兴趣，可以关注一下《脱口秀大会》哦！'"
      ]
     },
     "execution_count": 3,
     "metadata": {},
     "output_type": "execute_result"
    }
   ],
   "source": [
    "qwen = ChatQwen(tools=[get_city, get_weather, booking, search])\n",
    "qwen(\"最近哪个节目里的演员北大毕业的多？\")"
   ]
  },
  {
   "cell_type": "markdown",
   "id": "4d893777-cbac-435f-89af-e19242e05a75",
   "metadata": {},
   "source": [
    "**然后，使用 ReAct 单步推理智能体：**"
   ]
  },
  {
   "cell_type": "code",
   "execution_count": 4,
   "id": "4191979c-2791-4bca-9830-35ab49cc5265",
   "metadata": {},
   "outputs": [
    {
     "name": "stdout",
     "output_type": "stream",
     "text": [
      "[AGENT] \u001b[34m>>> Node 1: planner\u001b[0m\n",
      "\u001b[32m**\u001b[0m\u001b[32m思考\u001b[0m\u001b[32m**\u001b[0m\u001b[32m  \n",
      "\u001b[0m\u001b[32m目前没有足够的信息\u001b[0m\u001b[32m来确定最近哪个\u001b[0m\u001b[32m节目里的演员北京大学\u001b[0m\u001b[32m毕业的多。\u001b[0m\u001b[32m为了获取相关信息，\u001b[0m\u001b[32m我需要利用“\u001b[0m\u001b[32m搜索小能手\u001b[0m\u001b[32m”工具来查找\u001b[0m\u001b[32m资料。\n",
      "\n",
      "**行动\u001b[0m\u001b[32m**  \n",
      "Step1\u001b[0m\u001b[32m: 搜索近期\u001b[0m\u001b[32m节目中演员的教育\u001b[0m\u001b[32m背景信息. #\u001b[0m\u001b[32mE1 = \u001b[0m\u001b[32m搜索小能手\u001b[0m\u001b[32m[{\"prompt\":\u001b[0m\u001b[32m \"最近哪个节目\u001b[0m\u001b[32m里的演员北京大学毕业\u001b[0m\u001b[32m的多\"}]\u001b[0m\u001b[32m\u001b[0m\n",
      "[AGENT] \u001b[34m搜索小能手\u001b[0m\n",
      "\u001b[32m目前\u001b[0m\u001b[32m并没有\u001b[0m\u001b[32m特定\u001b[0m\u001b[32m的信息\u001b[0m\u001b[32m指出某个最新节目中\u001b[0m\u001b[32m集中了大量的北京大学毕业生\u001b[0m\u001b[32m。不过，根据\u001b[0m\u001b[32m以往的情况来看，\u001b[0m\u001b[32m央视的一些节目，\u001b[0m\u001b[32m如《今日说法\u001b[0m\u001b[32m》、《开\u001b[0m\u001b[32m讲啦》等\u001b[0m\u001b[32m，经常邀请到\u001b[0m\u001b[32m拥有高学历背景\u001b[0m\u001b[32m的嘉宾，包括\u001b[0m\u001b[32m一些北京大学的毕业生\u001b[0m\u001b[32m，如撒贝\u001b[0m\u001b[32m宁。撒贝\u001b[0m\u001b[32m宁不仅毕业于北京大学\u001b[0m\u001b[32m法律系，还\u001b[0m\u001b[32m继续深造成为了\u001b[0m\u001b[32m北大的法学研究生\u001b[0m\u001b[32m，他长期主持\u001b[0m\u001b[32m的节目因其专业\u001b[0m\u001b[32m性和深度受到了广泛\u001b[0m\u001b[32m的好评。\n",
      "\n",
      "另外\u001b[0m\u001b[32m，综艺节目《奇葩\u001b[0m\u001b[32m说》也是一个值得关注\u001b[0m\u001b[32m的节目，该\u001b[0m\u001b[32m节目以其辩论形式\u001b[0m\u001b[32m吸引了许多高学历\u001b[0m\u001b[32m的参与者，其中\u001b[0m\u001b[32m不乏来自北京大学的学生\u001b[0m\u001b[32m或毕业生。虽然\u001b[0m\u001b[32m具体的参与人员可能会\u001b[0m\u001b[32m随着每一季的变化\u001b[0m\u001b[32m而有所不同，但\u001b[0m\u001b[32m该节目因其对\u001b[0m\u001b[32m参与者智力和口\u001b[0m\u001b[32m才的要求，往往\u001b[0m\u001b[32m能够吸引到一批\u001b[0m\u001b[32m优秀的高学历人才\u001b[0m\u001b[32m，包括北大的\u001b[0m\u001b[32m学生。\n",
      "\n",
      "综上\u001b[0m\u001b[32m所述，如果你对\u001b[0m\u001b[32m有北京大学毕业生参与\u001b[0m\u001b[32m的节目感兴趣，《\u001b[0m\u001b[32m奇葩说》和\u001b[0m\u001b[32m央视的一些文化类\u001b[0m\u001b[32m、法制类节目\u001b[0m\u001b[32m可能是不错的选择。\u001b[0m\u001b[32m不过，具体到\u001b[0m\u001b[32m最新的节目阵容，\u001b[0m\u001b[32m建议关注相关节\u001b[0m\u001b[32m目的官方信息，\u001b[0m\u001b[32m以获取最准确\u001b[0m\u001b[32m的参与者名单。\u001b[0m\u001b[32m\u001b[0m\u001b[32m\u001b[0m\n",
      "\n",
      "[AGENT] \u001b[34m>>> Node 2: observer\u001b[0m\n",
      "\u001b[33m\n",
      "**观察**\n",
      "上面的行动结果为:\n",
      "目前并没有特定的信息指出某个最新节目中集中了大量的北京大学毕业生。不过，根据以往的情况来看，央视的一些节目，如《今日说法》、《开讲啦》等，经常邀请到拥有高学历背景的嘉宾，包括一些北京大学的毕业生，如撒贝宁。撒贝宁不仅毕业于北京大学法律系，还继续深造成为了北大的法学研究生，他长期主持的节目因其专业性和深度受到了广泛的好评。\n",
      "\n",
      "另外，综艺节目《奇葩说》也是一个值得关注的节目，该节目以其辩论形式吸引了许多高学历的参与者，其中不乏来自北京大学的学生或毕业生。虽然具体的参与人员可能会随着每一季的变化而有所不同，但该节目因其对参与者智力和口才的要求，往往能够吸引到一批优秀的高学历人才，包括北大的学生。\n",
      "\n",
      "综上所述，如果你对有北京大学毕业生参与的节目感兴趣，《奇葩说》和央视的一些文化类、法制类节目可能是不错的选择。不过，具体到最新的节目阵容，建议关注相关节目的官方信息，以获取最准确的参与者名单。\n",
      "\u001b[0m[AGENT] \u001b[34m>>> Node 1: planner\u001b[0m\n",
      "\u001b[32m**\u001b[0m\u001b[32m思考\u001b[0m\u001b[32m**\u001b[0m\u001b[32m  \n",
      "\u001b[0m\u001b[32m根据已有的信息\u001b[0m\u001b[32m，虽然没有确切\u001b[0m\u001b[32m的数据表明哪个节目\u001b[0m\u001b[32m里北京大学毕业的\u001b[0m\u001b[32m演员最多，但是\u001b[0m\u001b[32m《奇葩说》\u001b[0m\u001b[32m和央视的一些文化\u001b[0m\u001b[32m类、法制类\u001b[0m\u001b[32m节目（如《\u001b[0m\u001b[32m今日说法》、\u001b[0m\u001b[32m《开讲啦\u001b[0m\u001b[32m》）是较为\u001b[0m\u001b[32m突出的例子。考虑到\u001b[0m\u001b[32m这些信息已经足够\u001b[0m\u001b[32m回答原始问题，\u001b[0m\u001b[32m即最近哪些节目\u001b[0m\u001b[32m里的演员北京大学毕业\u001b[0m\u001b[32m的较多，我认为\u001b[0m\u001b[32m可以直接给出最终答案\u001b[0m\u001b[32m了。\n",
      "\n",
      "**最终\u001b[0m\u001b[32m答案**\n",
      "最近，\u001b[0m\u001b[32m北京大学毕业生较多参与\u001b[0m\u001b[32m的节目有《\u001b[0m\u001b[32m奇葩说》以及\u001b[0m\u001b[32m央视的文化类、\u001b[0m\u001b[32m法制类节目，\u001b[0m\u001b[32m如《今日说法\u001b[0m\u001b[32m》和《开\u001b[0m\u001b[32m讲啦》。\u001b[0m\u001b[32m这些节目因其对\u001b[0m\u001b[32m参与者智力和口\u001b[0m\u001b[32m才的要求，往往\u001b[0m\u001b[32m能够吸引到一批\u001b[0m\u001b[32m优秀的高学历人才\u001b[0m\u001b[32m，包括北京大学的学生\u001b[0m\u001b[32m或毕业生。\u001b[0m\u001b[32m\u001b[0m\n",
      "[AGENT] \u001b[34m>>> Node 2: observer\u001b[0m\n"
     ]
    },
    {
     "data": {
      "text/plain": [
       "'最近，北京大学毕业生较多参与的节目有《奇葩说》以及央视的文化类、法制类节目，如《今日说法》和《开讲啦》。这些节目因其对参与者智力和口才的要求，往往能够吸引到一批优秀的高学历人才，包括北京大学的学生或毕业生。'"
      ]
     },
     "execution_count": 4,
     "metadata": {},
     "output_type": "execute_result"
    }
   ],
   "source": [
    "flow = ReAct(ChatQwen(tools=[get_city, get_weather, booking, search]))\n",
    "flow(\"最近哪个节目里的演员北大毕业的多?\")"
   ]
  },
  {
   "cell_type": "markdown",
   "id": "f60b5d6f-fc1a-428a-9f57-24dd48cf8884",
   "metadata": {},
   "source": [
    "## 3 多智能体协作 \n",
    "\n",
    "illufly 也内置了多智能体支持方案。"
   ]
  },
  {
   "cell_type": "markdown",
   "id": "76f78e9c-50ec-420b-99d8-0eea132ba145",
   "metadata": {},
   "source": [
    "### 3.1 顺序执行的多个智能体"
   ]
  },
  {
   "cell_type": "code",
   "execution_count": 21,
   "id": "6b6d89c9-59ad-44b2-8ec2-b5d045af7bbf",
   "metadata": {},
   "outputs": [
    {
     "name": "stdout",
     "output_type": "stream",
     "text": [
      "[AGENT] \u001b[34m>>> Node 1: 写手\u001b[0m\n",
      "\u001b[32m当然\u001b[0m\u001b[32m可以\u001b[0m\u001b[32m，\u001b[0m\u001b[32m这里\u001b[0m\u001b[32m有一首简单可爱的\u001b[0m\u001b[32m四句儿歌\u001b[0m\u001b[32m，适合小朋友唱\u001b[0m\u001b[32m：\n",
      "\n",
      "小兔白\u001b[0m\u001b[32m又白，  \n",
      "\u001b[0m\u001b[32m两耳竖起来\u001b[0m\u001b[32m。  \n",
      "爱吃红\u001b[0m\u001b[32m萝卜，  \n",
      "蹦\u001b[0m\u001b[32m蹦又跳跳\u001b[0m\u001b[32m。\u001b[0m\u001b[32m\u001b[0m\n",
      "[AGENT] \u001b[34m>>> Node 2: 翻译\u001b[0m\n",
      "\u001b[32mSure\u001b[0m\u001b[32m,\u001b[0m\u001b[32m here\u001b[0m\u001b[32m is\u001b[0m\u001b[32m the translated version of\u001b[0m\u001b[32m the simple and cute\u001b[0m\u001b[32m four-line nursery rhyme\u001b[0m\u001b[32m, perfect for little\u001b[0m\u001b[32m ones to sing:\n",
      "\n",
      "\u001b[0m\u001b[32mLittle bunny white as\u001b[0m\u001b[32m snow,  \n",
      "E\u001b[0m\u001b[32mars stand up nice\u001b[0m\u001b[32m and tall, row\u001b[0m\u001b[32m.  \n",
      "Loves\u001b[0m\u001b[32m to munch on carrots\u001b[0m\u001b[32m red,  \n",
      "H\u001b[0m\u001b[32mopping, skipping,\u001b[0m\u001b[32m full of fun instead\u001b[0m\u001b[32m.\u001b[0m\u001b[32m\u001b[0m\n"
     ]
    },
    {
     "data": {
      "text/plain": [
       "'Sure, here is the translated version of the simple and cute four-line nursery rhyme, perfect for little ones to sing:\\n\\nLittle bunny white as snow,  \\nEars stand up nice and tall, row.  \\nLoves to munch on carrots red,  \\nHopping, skipping, full of fun instead.'"
      ]
     },
     "execution_count": 21,
     "metadata": {},
     "output_type": "execute_result"
    }
   ],
   "source": [
    "from illufly.chat import ChatQwen\n",
    "from illufly.flow import FlowAgent, End\n",
    "\n",
    "flow = FlowAgent(\n",
    "    ChatQwen(name=\"写手\"),\n",
    "    ChatQwen(name=\"翻译\", memory=(\"system\", \"请你将我的作品翻译为英文\")),\n",
    "    End()\n",
    ")\n",
    "\n",
    "flow(\"帮我写一首关于兔子的四句儿歌?\")"
   ]
  },
  {
   "cell_type": "markdown",
   "id": "81b3259a-ba7b-41bd-b563-0cc7c593043a",
   "metadata": {},
   "source": [
    "### 3.2 两个智能体协作：一个创作一个打分\n",
    "\n",
    "下面演示的两个智能体包含条件循环，如果「写手」写不出5分的作品，「打分专家」在打分后会要求写手继续写。"
   ]
  },
  {
   "cell_type": "code",
   "execution_count": 22,
   "id": "f519c69a-9190-48a5-84f3-7faf1946c4b3",
   "metadata": {},
   "outputs": [
    {
     "name": "stdout",
     "output_type": "stream",
     "text": [
      "[AGENT] \u001b[34m>>> Node 1: 写手\u001b[0m\n",
      "\u001b[32m当然\u001b[0m\u001b[32m可以\u001b[0m\u001b[32m，\u001b[0m\u001b[32m这\u001b[0m\u001b[32m是一首简单的兔子\u001b[0m\u001b[32m儿歌：\n",
      "\n",
      "小\u001b[0m\u001b[32m兔白又白\u001b[0m\u001b[32m，  \n",
      "两耳\u001b[0m\u001b[32m竖起来。  \n",
      "\u001b[0m\u001b[32m爱吃红萝卜，\u001b[0m\u001b[32m  \n",
      "蹦跳真\u001b[0m\u001b[32m可爱。\u001b[0m\u001b[32m\u001b[0m\n",
      "[AGENT] \u001b[34m>>> Node 2: 打分专家\u001b[0m\n",
      "\u001b[32m结果\u001b[0m\u001b[32m为\u001b[0m\u001b[32m4\u001b[0m\u001b[32m分\u001b[0m\u001b[32m\n",
      "\n",
      "这首儿歌\u001b[0m\u001b[32m非常简洁明快\u001b[0m\u001b[32m，符合儿童的\u001b[0m\u001b[32m审美和理解能力\u001b[0m\u001b[32m，易于记忆。\u001b[0m\u001b[32m语言上押韵\u001b[0m\u001b[32m，读起来朗\u001b[0m\u001b[32m朗上口。\u001b[0m\u001b[32m不过，如果能够\u001b[0m\u001b[32m加入一些互动性\u001b[0m\u001b[32m或教育意义的内容\u001b[0m\u001b[32m，比如增加一些\u001b[0m\u001b[32m小兔子的生活习\u001b[0m\u001b[32m性介绍，或者\u001b[0m\u001b[32m鼓励小朋友爱护小\u001b[0m\u001b[32m动物等，可能会\u001b[0m\u001b[32m让儿歌更加\u001b[0m\u001b[32m丰富和有意义。\u001b[0m\u001b[32m例如，可以添加\u001b[0m\u001b[32m一句“小朋友要\u001b[0m\u001b[32m爱它，轻轻\u001b[0m\u001b[32m抚摸不吵闹\u001b[0m\u001b[32m。”这样不仅增加了\u001b[0m\u001b[32m儿歌的内容，\u001b[0m\u001b[32m还传递了爱护\u001b[0m\u001b[32m动物的理念。\u001b[0m\u001b[32m\u001b[0m\n",
      "[AGENT] \u001b[34m>>> Node 1: 写手\u001b[0m\n",
      "\u001b[32m谢谢\u001b[0m\u001b[32m你的\u001b[0m\u001b[32m建议\u001b[0m\u001b[32m！\u001b[0m\u001b[32m我明白了，可以在\u001b[0m\u001b[32m儿歌中加入\u001b[0m\u001b[32m一些教育意义的内容\u001b[0m\u001b[32m。下面是改进后的\u001b[0m\u001b[32m版本：\n",
      "\n",
      "小兔\u001b[0m\u001b[32m白又白，\u001b[0m\u001b[32m  \n",
      "两耳竖\u001b[0m\u001b[32m起来。  \n",
      "爱吃\u001b[0m\u001b[32m红萝卜，  \n",
      "\u001b[0m\u001b[32m轻轻抚摸不吵\u001b[0m\u001b[32m闹。\n",
      "\n",
      "希望这个\u001b[0m\u001b[32m版本更符合你的\u001b[0m\u001b[32m要求！\u001b[0m\u001b[32m\u001b[0m\n",
      "[AGENT] \u001b[34m>>> Node 2: 打分专家\u001b[0m\n",
      "\u001b[32m结果\u001b[0m\u001b[32m为\u001b[0m\u001b[32m5\u001b[0m\u001b[32m分\u001b[0m\u001b[32m\n",
      "\n",
      "改进后的版本\u001b[0m\u001b[32m非常好！不仅保留\u001b[0m\u001b[32m了原来的简洁明\u001b[0m\u001b[32m快，还增加了\u001b[0m\u001b[32m教育意义，鼓励\u001b[0m\u001b[32m孩子们爱护小动物\u001b[0m\u001b[32m。这样的儿歌\u001b[0m\u001b[32m不仅能让孩子们更容易\u001b[0m\u001b[32m记住，还能培养\u001b[0m\u001b[32m他们的同理心\u001b[0m\u001b[32m和责任感。整体\u001b[0m\u001b[32m来说，这个版本\u001b[0m\u001b[32m更加丰富和有意义\u001b[0m\u001b[32m。\n",
      "\n",
      "继续保持这种创作\u001b[0m\u001b[32m思路，相信你会\u001b[0m\u001b[32m写出更多优秀的作品\u001b[0m\u001b[32m！\u001b[0m\u001b[32m\u001b[0m\n"
     ]
    },
    {
     "data": {
      "text/plain": [
       "'结果为5分\\n\\n改进后的版本非常好！不仅保留了原来的简洁明快，还增加了教育意义，鼓励孩子们爱护小动物。这样的儿歌不仅能让孩子们更容易记住，还能培养他们的同理心和责任感。整体来说，这个版本更加丰富和有意义。\\n\\n继续保持这种创作思路，相信你会写出更多优秀的作品！'"
      ]
     },
     "execution_count": 22,
     "metadata": {},
     "output_type": "execute_result"
    }
   ],
   "source": [
    "from illufly.chat import ChatQwen\n",
    "from illufly.flow import FlowAgent, Selector\n",
    "\n",
    "scorer = ChatQwen(\n",
    "    name=\"打分专家\",\n",
    "    memory=[(\"system\", \"请你给我的作品打一个分数，从1分至5分，并给出改进意见。打分格式为:\\n结果为x分\")]\n",
    ")\n",
    "\n",
    "def should_continue():\n",
    "    return \"__END__\" if \"结果为5分\" in scorer.last_output else \"写手\"\n",
    "\n",
    "flow = FlowAgent(\n",
    "    ChatQwen(name=\"写手\"),\n",
    "    scorer,\n",
    "    Selector(condition=should_continue)\n",
    ")\n",
    "\n",
    "flow(\"你能帮我写一首关于兔子的四句儿歌?\")"
   ]
  },
  {
   "cell_type": "code",
   "execution_count": 24,
   "id": "ed3d7ca3-6b43-4abd-8cce-2a8222e5a7bb",
   "metadata": {},
   "outputs": [
    {
     "data": {
      "text/plain": [
       "[{'role': 'user', 'content': '你能帮我写一首关于兔子的四句儿歌?'},\n",
       " {'role': 'assistant',\n",
       "  'content': '当然可以，这是一首简单的兔子儿歌：\\n\\n小兔白又白，  \\n两耳竖起来。  \\n爱吃红萝卜，  \\n蹦跳真可爱。'},\n",
       " {'role': 'user',\n",
       "  'content': '结果为4分\\n\\n这首儿歌非常简洁明快，符合儿童的审美和理解能力，易于记忆。语言上押韵，读起来朗朗上口。不过，如果能够加入一些互动性或教育意义的内容，比如增加一些小兔子的生活习性介绍，或者鼓励小朋友爱护小动物等，可能会让儿歌更加丰富和有意义。例如，可以添加一句“小朋友要爱它，轻轻抚摸不吵闹。”这样不仅增加了儿歌的内容，还传递了爱护动物的理念。'},\n",
       " {'role': 'assistant',\n",
       "  'content': '谢谢你的建议！我明白了，可以在儿歌中加入一些教育意义的内容。下面是改进后的版本：\\n\\n小兔白又白，  \\n两耳竖起来。  \\n爱吃红萝卜，  \\n轻轻抚摸不吵闹。\\n\\n希望这个版本更符合你的要求！'}]"
      ]
     },
     "execution_count": 24,
     "metadata": {},
     "output_type": "execute_result"
    }
   ],
   "source": [
    "flow.agents[0][1].memory"
   ]
  },
  {
   "cell_type": "code",
   "execution_count": null,
   "id": "d23ff362-0c71-4647-98e4-d44ce170db3e",
   "metadata": {},
   "outputs": [],
   "source": []
  }
 ],
 "metadata": {
  "kernelspec": {
   "display_name": "textlong-same-ipykernel",
   "language": "python",
   "name": "textlong-same-ipykernel"
  },
  "language_info": {
   "codemirror_mode": {
    "name": "ipython",
    "version": 3
   },
   "file_extension": ".py",
   "mimetype": "text/x-python",
   "name": "python",
   "nbconvert_exporter": "python",
   "pygments_lexer": "ipython3",
   "version": "3.10.0"
  }
 },
 "nbformat": 4,
 "nbformat_minor": 5
}
