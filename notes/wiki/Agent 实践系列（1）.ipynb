{
 "cells": [
  {
   "cell_type": "markdown",
   "id": "82a7c015-4505-4afb-b92a-4caae016383a",
   "metadata": {},
   "source": [
    "## 自主进化 Agent 框架 illufly 的智能体论文实践：（1）打开魔法工具箱\n",
    "\n",
    "前文我们粗略了解 illufly 基于对话获得经验的方法，并基于经验实现简单 RAG 的能力。\n",
    "\n",
    "本文开始将探讨一系列的复杂推理场景和智能体论文实践，同时解读 illufly 如何在其中实践自主进化的理念。\n",
    "\n",
    "一般来说，无论是哪一种 Agent 都需要使用工具。\n",
    "\n",
    "因此，这个系列文章从介绍 illufly 的工具使用开始。\n",
    "\n",
    "在 illufly 中，所有对话模型都是工具，所有 python 函数也都可以当作工具使用。<br>\n",
    "另外，将来要介绍的条件选择器、流程智能体等也都可以当作工具使用。\n",
    "\n",
    "### 直接将对话模型作为工具使用"
   ]
  },
  {
   "cell_type": "code",
   "execution_count": 10,
   "id": "84aa5f24-978e-4b01-9a1e-6db07016a9e4",
   "metadata": {},
   "outputs": [
    {
     "data": {
      "text/plain": [
       "{'type': 'function',\n",
       " 'function': {'name': 'ChatQwen.4922217888',\n",
       "  'description': '擅长给人起名字的专家',\n",
       "  'parameters': {'type': 'object',\n",
       "   'properties': {'prompt': {'type': 'string', 'description': '详细描述用户问题'}},\n",
       "   'required': ['prompt']}}}"
      ]
     },
     "execution_count": 10,
     "metadata": {},
     "output_type": "execute_result"
    }
   ],
   "source": [
    "from illufly.chat import ChatQwen\n",
    "\n",
    "naming = ChatQwen(description=\"擅长给人起名字的专家\")\n",
    "naming.tool_desc"
   ]
  },
  {
   "cell_type": "markdown",
   "id": "98fd30a7-f326-406b-8401-7c87b2633886",
   "metadata": {},
   "source": [
    "**所述代码中已经定义了一个工具，并且使用了 openai 兼容的工具描述架构。**\n",
    "\n",
    "调用工具，仅需将其传递给对话模型的 tools 参数，注意 tools 是一个列表，这意味着你可以同时使用很多工具。"
   ]
  },
  {
   "cell_type": "code",
   "execution_count": 11,
   "id": "75ab9097-3048-44e3-82a7-f1b5d80841b6",
   "metadata": {},
   "outputs": [
    {
     "name": "stdout",
     "output_type": "stream",
     "text": [
      "\n",
      "\n",
      "[FINAL_TOOLS_CALL] \u001b[36m[{\"index\": 0, \"id\": \"call_4d07a7d0721e4295a82dd1\", \"type\": \"function\", \"function\": {\"name\": \"ChatQwen.4922217888\", \"arguments\": \"{\\\"prompt\\\": \\\"我姓薛，希望给我儿子起一个两个字的名字，要有修仙小说里大神修士那种霸气的感觉。\\\"}\"}}]\u001b[0m\n",
      "[AGENT] \u001b[34mChatQwen.4922217888\u001b[0m\n",
      "\u001b[32m好的\u001b[0m\u001b[32m，\u001b[0m\u001b[32m考虑到\u001b[0m\u001b[32m您\u001b[0m\u001b[32m希望名字能有\u001b[0m\u001b[32m修仙小说中\u001b[0m\u001b[32m大神修士的\u001b[0m\u001b[32m霸气感，这里\u001b[0m\u001b[32m为您提供几个建议：\n",
      "\n",
      "\u001b[0m\u001b[32m1. \u001b[0m\u001b[32m薛凌霄 (\u001b[0m\u001b[32mXue Lingx\u001b[0m\u001b[32miao)：凌\u001b[0m\u001b[32m霄意为直\u001b[0m\u001b[32m上云霄，\u001b[0m\u001b[32m有着超凡脱\u001b[0m\u001b[32m俗、高高\u001b[0m\u001b[32m在上的意味。\n",
      "\u001b[0m\u001b[32m2. \u001b[0m\u001b[32m薛破军 (\u001b[0m\u001b[32mXue Poj\u001b[0m\u001b[32mun)：破\u001b[0m\u001b[32m军代表勇往\u001b[0m\u001b[32m直前，不\u001b[0m\u001b[32m畏强敌，\u001b[0m\u001b[32m有破而后立\u001b[0m\u001b[32m之意。\n",
      "3.\u001b[0m\u001b[32m 薛天\u001b[0m\u001b[32m擎 (Xue\u001b[0m\u001b[32m Tianqing)：\u001b[0m\u001b[32m天擎意味着支撑\u001b[0m\u001b[32m天空，象征着\u001b[0m\u001b[32m力量与领导力\u001b[0m\u001b[32m。\n",
      "4. \u001b[0m\u001b[32m薛无极\u001b[0m\u001b[32m (Xue Wu\u001b[0m\u001b[32mji)：无\u001b[0m\u001b[32m极在道家\u001b[0m\u001b[32m哲学中指没有\u001b[0m\u001b[32m极限，代表着无限\u001b[0m\u001b[32m可能和强大的力量\u001b[0m\u001b[32m。\n",
      "5. \u001b[0m\u001b[32m薛云中\u001b[0m\u001b[32m (Xue Yun\u001b[0m\u001b[32mzhong)：\u001b[0m\u001b[32m云中给人以\u001b[0m\u001b[32m飘逸出尘\u001b[0m\u001b[32m之感，同时\u001b[0m\u001b[32m也有着高高\u001b[0m\u001b[32m在上、超\u001b[0m\u001b[32m然物外的\u001b[0m\u001b[32m意境。\n",
      "\n",
      "这些名字\u001b[0m\u001b[32m都带有较强的个人\u001b[0m\u001b[32m魅力和独特的韵味\u001b[0m\u001b[32m，适合追求个性\u001b[0m\u001b[32m和力量感的\u001b[0m\u001b[32m家长选择。希望\u001b[0m\u001b[32m这些建议\u001b[0m\u001b[32m能够帮到您\u001b[0m\u001b[32m！\u001b[0m\u001b[32m\u001b[0m\n",
      "\n",
      "\u001b[32m给\u001b[0m\u001b[32m您的\u001b[0m\u001b[32m儿子起名时\u001b[0m\u001b[32m，结合修仙\u001b[0m\u001b[32m小说中的元素，\u001b[0m\u001b[32m可以考虑以下几个名字\u001b[0m\u001b[32m：\n",
      "\n",
      "1. **\u001b[0m\u001b[32m薛凌霄**\u001b[0m\u001b[32m (Xue Ling\u001b[0m\u001b[32mxiao)：\u001b[0m\u001b[32m凌霄意为\u001b[0m\u001b[32m直上云霄\u001b[0m\u001b[32m，有着超凡\u001b[0m\u001b[32m脱俗、高\u001b[0m\u001b[32m高在上的意味\u001b[0m\u001b[32m。\n",
      "2. **\u001b[0m\u001b[32m薛破军**\u001b[0m\u001b[32m (Xue Po\u001b[0m\u001b[32mjun)：破\u001b[0m\u001b[32m军代表勇往\u001b[0m\u001b[32m直前，不\u001b[0m\u001b[32m畏强敌，\u001b[0m\u001b[32m有破而后立\u001b[0m\u001b[32m之意。\n",
      "3.\u001b[0m\u001b[32m **薛天擎\u001b[0m\u001b[32m** (Xue\u001b[0m\u001b[32m Tianqing)：\u001b[0m\u001b[32m天擎意味着支撑\u001b[0m\u001b[32m天空，象征着\u001b[0m\u001b[32m力量与领导力\u001b[0m\u001b[32m。\n",
      "4. **\u001b[0m\u001b[32m薛无极**\u001b[0m\u001b[32m (Xue Wu\u001b[0m\u001b[32mji)：无\u001b[0m\u001b[32m极在道家\u001b[0m\u001b[32m哲学中指没有\u001b[0m\u001b[32m极限，代表着无限\u001b[0m\u001b[32m可能和强大的力量\u001b[0m\u001b[32m。\n",
      "5. **\u001b[0m\u001b[32m薛云中**\u001b[0m\u001b[32m (Xue Yun\u001b[0m\u001b[32mzhong)：\u001b[0m\u001b[32m云中给人以\u001b[0m\u001b[32m飘逸出尘\u001b[0m\u001b[32m之感，同时\u001b[0m\u001b[32m也有着高高\u001b[0m\u001b[32m在上、超\u001b[0m\u001b[32m然物外的\u001b[0m\u001b[32m意境。\n",
      "\n",
      "每个名字\u001b[0m\u001b[32m都有其独特的含义\u001b[0m\u001b[32m，希望这\u001b[0m\u001b[32m些建议能够帮助\u001b[0m\u001b[32m您找到满意的名字\u001b[0m\u001b[32m！如果还有其他\u001b[0m\u001b[32m需求或想要更多的\u001b[0m\u001b[32m选项，欢迎继续\u001b[0m\u001b[32m交流。\u001b[0m\u001b[32m\u001b[0m\n"
     ]
    },
    {
     "data": {
      "text/plain": [
       "'给您的儿子起名时，结合修仙小说中的元素，可以考虑以下几个名字：\\n\\n1. **薛凌霄** (Xue Lingxiao)：凌霄意为直上云霄，有着超凡脱俗、高高在上的意味。\\n2. **薛破军** (Xue Pojun)：破军代表勇往直前，不畏强敌，有破而后立之意。\\n3. **薛天擎** (Xue Tianqing)：天擎意味着支撑天空，象征着力量与领导力。\\n4. **薛无极** (Xue Wuji)：无极在道家哲学中指没有极限，代表着无限可能和强大的力量。\\n5. **薛云中** (Xue Yunzhong)：云中给人以飘逸出尘之感，同时也有着高高在上、超然物外的意境。\\n\\n每个名字都有其独特的含义，希望这些建议能够帮助您找到满意的名字！如果还有其他需求或想要更多的选项，欢迎继续交流。'"
      ]
     },
     "execution_count": 11,
     "metadata": {},
     "output_type": "execute_result"
    }
   ],
   "source": [
    "qwen = ChatQwen(tools=[naming])\n",
    "qwen(\"我姓薛，给我儿子起一个两个字名字，跟修仙小说里的大神修士那样霸气\")"
   ]
  },
  {
   "cell_type": "markdown",
   "id": "bdded089-dbb1-46c0-9146-da0ea3686047",
   "metadata": {},
   "source": [
    "### 修改工具定义，让你“言出法随”"
   ]
  },
  {
   "cell_type": "markdown",
   "id": "6766ed2a-43b6-4751-9005-777b45b4580c",
   "metadata": {},
   "source": [
    "上面的输出太过随意，也许你已经厌烦了，需要更精细的控制。\n",
    "\n",
    "使用 tool_params 参数可以进一步定义参数的说明；<br>\n",
    "而 memory 则给工具一个系统提示语，明确告诉对话智能体他该怎么干活，不要自己想怎么说就怎么说。"
   ]
  },
  {
   "cell_type": "code",
   "execution_count": 8,
   "id": "40d9bcdd-7de0-45d7-9f9e-fc4d4ae21561",
   "metadata": {},
   "outputs": [
    {
     "data": {
      "text/plain": [
       "{'type': 'function',\n",
       " 'function': {'name': '茅山道士',\n",
       "  'description': '擅长给人起名字的专家',\n",
       "  'parameters': {'type': 'object',\n",
       "   'properties': {'prompt': {'type': 'string',\n",
       "     'description': '起名字的需求细节：默认为返回2个推荐的名字。'}},\n",
       "   'required': ['prompt']}}}"
      ]
     },
     "execution_count": 8,
     "metadata": {},
     "output_type": "execute_result"
    }
   ],
   "source": [
    "from illufly.chat import ChatQwen\n",
    "\n",
    "naming = ChatQwen(\n",
    "    name=\"茅山道士\",\n",
    "    description=\"擅长给人起名字的专家\",\n",
    "    tool_params={\n",
    "        \"prompt\": \"起名字的需求细节：默认为返回2个推荐的名字。\"\n",
    "    },\n",
    "    memory=[\n",
    "        (\n",
    "            \"system\",\n",
    "            \"你是起名专家。除了明确提出的需求，再用一句话讲出名字中包含的金、木、水、火、土符合风水学的依据，如果没有明确要求就给出两个推荐的名字\"\n",
    "        )]\n",
    ")\n",
    "naming.tool_desc"
   ]
  },
  {
   "cell_type": "code",
   "execution_count": 9,
   "id": "1f8dacda-d202-4f9c-a7ed-40811efc6217",
   "metadata": {},
   "outputs": [
    {
     "name": "stdout",
     "output_type": "stream",
     "text": [
      "\n",
      "\n",
      "[FINAL_TOOLS_CALL] \u001b[36m[{\"index\": 0, \"id\": \"call_2b780aaf26f9417bb8e8a7\", \"type\": \"function\", \"function\": {\"name\": \"茅山道士\", \"arguments\": \"{\\\"prompt\\\": \\\"我姓薛，希望给我儿子起一个两个字的名字，感觉像修仙小说中的大神修士一样霸气。\\\"}\"}}]\u001b[0m\n",
      "[AGENT] \u001b[34m茅山道士\u001b[0m\n",
      "\u001b[32m可以\u001b[0m\u001b[32m考虑\u001b[0m\u001b[32m“\u001b[0m\u001b[32m薛\u001b[0m\u001b[32m霆”和“\u001b[0m\u001b[32m薛渊”。这两个\u001b[0m\u001b[32m名字都透着\u001b[0m\u001b[32m一股不凡的气息\u001b[0m\u001b[32m，仿佛修仙\u001b[0m\u001b[32m小说中的大神\u001b[0m\u001b[32m修士。其中，“\u001b[0m\u001b[32m霆”属金\u001b[0m\u001b[32m，象征雷霆万\u001b[0m\u001b[32m钧之力；“\u001b[0m\u001b[32m渊”属水\u001b[0m\u001b[32m，寓意深不可\u001b[0m\u001b[32m测的智慧与\u001b[0m\u001b[32m内敛的威\u001b[0m\u001b[32m严。\u001b[0m\u001b[32m\u001b[0m\n",
      "\n",
      "\u001b[32m我\u001b[0m\u001b[32m为您\u001b[0m\u001b[32m想的两个名字\u001b[0m\u001b[32m是“薛霆\u001b[0m\u001b[32m”和“薛\u001b[0m\u001b[32m渊”。这两个名字\u001b[0m\u001b[32m都很有气势，\u001b[0m\u001b[32m就像修仙小说\u001b[0m\u001b[32m中的大神修士\u001b[0m\u001b[32m。“霆”象征\u001b[0m\u001b[32m雷霆万钧的力量\u001b[0m\u001b[32m，“渊”则\u001b[0m\u001b[32m意味着深不可测\u001b[0m\u001b[32m的智慧与内\u001b[0m\u001b[32m敛的威严\u001b[0m\u001b[32m。希望您会\u001b[0m\u001b[32m喜欢！\u001b[0m\u001b[32m\u001b[0m\n"
     ]
    },
    {
     "data": {
      "text/plain": [
       "'我为您想的两个名字是“薛霆”和“薛渊”。这两个名字都很有气势，就像修仙小说中的大神修士。“霆”象征雷霆万钧的力量，“渊”则意味着深不可测的智慧与内敛的威严。希望您会喜欢！'"
      ]
     },
     "execution_count": 9,
     "metadata": {},
     "output_type": "execute_result"
    }
   ],
   "source": [
    "qwen = ChatQwen(tools=[naming])\n",
    "qwen(\"我姓薛，给我儿子起一个两个字名字，跟修仙小说里的大神修士那样霸气\")"
   ]
  },
  {
   "cell_type": "markdown",
   "id": "0b9fad4c-1fb6-4f0c-ae67-313605ac18fd",
   "metadata": {},
   "source": [
    "### 使用 python 函数自定义工具\n",
    "\n",
    "有时候你需要结合业务情况，自己编写工具函数，直接使用 python 函数即可。"
   ]
  },
  {
   "cell_type": "code",
   "execution_count": 12,
   "id": "6937bd46-bb86-44b6-a814-97430678dd0c",
   "metadata": {},
   "outputs": [
    {
     "name": "stdout",
     "output_type": "stream",
     "text": [
      "\n",
      "\n",
      "[FINAL_TOOLS_CALL] \u001b[36m[{\"index\": 0, \"id\": \"call_059b7be639784fc9bdfeb3\", \"type\": \"function\", \"function\": {\"name\": \"tianqi\", \"arguments\": \"{\\\"city\\\": \\\"惠州\\\"}\"}}]\u001b[0m\n",
      "[AGENT] \u001b[34mtianqi\u001b[0m\n",
      "\u001b[33m{'city': '今天有雷雨'}\u001b[0m\n",
      "\u001b[32m今天\u001b[0m\u001b[32m惠州\u001b[0m\u001b[32m有雷雨，\u001b[0m\u001b[32m可能不太适合去\u001b[0m\u001b[32m爬山。为了\u001b[0m\u001b[32m安全和体验考虑\u001b[0m\u001b[32m，建议你改\u001b[0m\u001b[32m天再去。\u001b[0m\u001b[32m\u001b[0m\n"
     ]
    },
    {
     "data": {
      "text/plain": [
       "'今天惠州有雷雨，可能不太适合去爬山。为了安全和体验考虑，建议你改天再去。'"
      ]
     },
     "execution_count": 12,
     "metadata": {},
     "output_type": "execute_result"
    }
   ],
   "source": [
    "def tianqi(city: str):\n",
    "    \"\"\"查询天气可以找我\"\"\"\n",
    "    return {\"city\": f\"今天有雷雨\"}\n",
    "\n",
    "qwen = ChatQwen(tools=[tianqi])\n",
    "qwen(\"我想去惠州爬山，今天可以吗？\")"
   ]
  },
  {
   "cell_type": "markdown",
   "id": "3d04c121-c831-4936-a907-72c479706941",
   "metadata": {},
   "source": [
    "我们修改一下工具的参数说明，要求大模型在调用时必须提供城市。<br>\n",
    "此时，你必须使用 BaseAgent 类补充参数信息。"
   ]
  },
  {
   "cell_type": "code",
   "execution_count": 14,
   "id": "1e82d432-f419-456a-ad8c-801e42ed2066",
   "metadata": {},
   "outputs": [
    {
     "name": "stdout",
     "output_type": "stream",
     "text": [
      "\u001b[32m这\u001b[0m\u001b[32m取决于\u001b[0m\u001b[32m今天的\u001b[0m\u001b[32m天气\u001b[0m\u001b[32m状况以及你的身体\u001b[0m\u001b[32m状况。我可以帮你\u001b[0m\u001b[32m查询一下当地的天气\u001b[0m\u001b[32m。\u001b[0m\n",
      "\n",
      "[FINAL_TOOLS_CALL] \u001b[36m[{\"index\": 0, \"id\": \"call_338e94e9ddb34c778ca2a0\", \"type\": \"function\", \"function\": {\"name\": \"tianqi\", \"arguments\": \"{\\\"city\\\": \\\"博罗\\\"}\"}}]\u001b[0m\n",
      "[AGENT] \u001b[34mtianqi\u001b[0m\n",
      "\u001b[33m{'city': '今天有雷雨'}\u001b[0m\n",
      "\u001b[32m今天\u001b[0m\u001b[32m博\u001b[0m\u001b[32m罗有雷雨\u001b[0m\u001b[32m，可能不太适合\u001b[0m\u001b[32m去爬罗浮\u001b[0m\u001b[32m山。为了安全\u001b[0m\u001b[32m和体验，建议\u001b[0m\u001b[32m你改天再去\u001b[0m\u001b[32m。如果一定要出行\u001b[0m\u001b[32m，请准备好雨具\u001b[0m\u001b[32m并注意安全。\u001b[0m\u001b[32m\u001b[0m\u001b[32m\u001b[0m\n"
     ]
    },
    {
     "data": {
      "text/plain": [
       "'今天博罗有雷雨，可能不太适合去爬罗浮山。为了安全和体验，建议你改天再去。如果一定要出行，请准备好雨具并注意安全。'"
      ]
     },
     "execution_count": 14,
     "metadata": {},
     "output_type": "execute_result"
    }
   ],
   "source": [
    "from illufly.types import BaseAgent\n",
    "\n",
    "def tianqi(city: str):\n",
    "    \"\"\"查询天气可以找我\"\"\"\n",
    "    return {\"city\": f\"今天有雷雨\"}\n",
    "tool = BaseAgent(tianqi, tool_params={\"city\": \"你必须告诉我具体城市，而不能是其他地址\"})\n",
    "\n",
    "qwen = ChatQwen(tools=[tool])\n",
    "qwen(\"我想去爬罗浮山，今天可以吗？\")"
   ]
  },
  {
   "cell_type": "code",
   "execution_count": 2,
   "id": "d5da1b2c-93a8-4770-822e-a014baf22434",
   "metadata": {},
   "outputs": [
    {
     "data": {
      "text/plain": [
       "{'type': 'function',\n",
       " 'function': {'name': 'mytool',\n",
       "  'description': '我还没有工具描述',\n",
       "  'parameters': {'type': 'object',\n",
       "   'properties': {'city': {'type': 'string', 'description': '请告诉我你关注哪个城市的天气'}},\n",
       "   'required': ['city']}}}"
      ]
     },
     "execution_count": 2,
     "metadata": {},
     "output_type": "execute_result"
    }
   ],
   "source": [
    "还不错，"
   ]
  },
  {
   "cell_type": "markdown",
   "id": "895ef156-dda1-44f1-a62f-59ff1c7f2e7c",
   "metadata": {},
   "source": [
    "### 数据分析工具\n",
    "\n",
    "下面只再看一个数据分析工具的例子。<br>\n",
    "PandasAgent 是基于 pandas 库进行数据分析的 BaseAgent 子类，要求提供一个 pandas 数据框作为参数来构建 Dataset 实例。<br>\n",
    "\n",
    "由于数据分析能力是 illulfy 的核心能力之一，后面还会从复杂工具规划、自主进化等角度反复探讨这一话题，这里仅做初步展示。"
   ]
  },
  {
   "cell_type": "code",
   "execution_count": 16,
   "id": "2268ab57-3d00-4546-b614-e3324a8adb7d",
   "metadata": {},
   "outputs": [
    {
     "name": "stdout",
     "output_type": "stream",
     "text": [
      "\n",
      "\n",
      "[FINAL_TOOLS_CALL] \u001b[36m[{\"index\": 0, \"id\": \"call_e37f3a15183f44f39bead4\", \"type\": \"function\", \"function\": {\"name\": \"分析师\", \"arguments\": \"{\\\"question\\\": \\\"根据成绩单，找出理科和文科最好的学生。\\\"}\"}}]\u001b[0m\n",
      "[AGENT] \u001b[34m分析师\u001b[0m\n",
      "\u001b[32m为了完成\u001b[0m\u001b[32m这个\u001b[0m\u001b[32m任务\u001b[0m\u001b[32m，我们首先需要\u001b[0m\u001b[32m定义什么是“理科\u001b[0m\u001b[32m”和“文科\u001b[0m\u001b[32m”。在这个数据集中\u001b[0m\u001b[32m，数学可以被视为\u001b[0m\u001b[32m理科科目，而\u001b[0m\u001b[32m语文可以被视为文科\u001b[0m\u001b[32m科目。因此，\u001b[0m\u001b[32m我们可以分别找出数学\u001b[0m\u001b[32m和语文成绩最高的\u001b[0m\u001b[32m学生来确定理科\u001b[0m\u001b[32m和文科最好的学生\u001b[0m\u001b[32m。\n",
      "\n",
      "下面是实现这一\u001b[0m\u001b[32m目标的Python代码\u001b[0m\u001b[32m：\n",
      "\n",
      "```python\n",
      "\u001b[0m\u001b[32mdef main():\n",
      "   \u001b[0m\u001b[32m # 获取数据集\u001b[0m\u001b[32m\n",
      "    df =\u001b[0m\u001b[32m datasets['考试成绩\u001b[0m\u001b[32m'].df\n",
      "    \n",
      "   \u001b[0m\u001b[32m # 找出\u001b[0m\u001b[32m数学成绩最高的学生\u001b[0m\u001b[32m\n",
      "    best_math\u001b[0m\u001b[32m_student = df.loc\u001b[0m\u001b[32m[df['数学'].\u001b[0m\u001b[32midxmax()]\n",
      "    \n",
      "\u001b[0m\u001b[32m    # 找\u001b[0m\u001b[32m出语文成绩最高的\u001b[0m\u001b[32m学生\n",
      "    best\u001b[0m\u001b[32m_chinese_student =\u001b[0m\u001b[32m df.loc[df['\u001b[0m\u001b[32m语文'].idxmax\u001b[0m\u001b[32m()]\n",
      "    \n",
      "    #\u001b[0m\u001b[32m 创建一个新的数据框\u001b[0m\u001b[32m来存储结果\n",
      "\u001b[0m\u001b[32m    result_df =\u001b[0m\u001b[32m pd.DataFrame({\n",
      "       \u001b[0m\u001b[32m '科目': ['\u001b[0m\u001b[32m数学', '语文\u001b[0m\u001b[32m'],\n",
      "        '最高\u001b[0m\u001b[32m分': [best\u001b[0m\u001b[32m_math_student['数学\u001b[0m\u001b[32m'], best_chinese\u001b[0m\u001b[32m_student['语文']],\n",
      "\u001b[0m\u001b[32m        '姓名':\u001b[0m\u001b[32m [best_math_student\u001b[0m\u001b[32m['姓名'], best\u001b[0m\u001b[32m_chinese_student['\u001b[0m\u001b[32m姓名']]\n",
      "    })\n",
      "\u001b[0m\u001b[32m    \n",
      "    # \u001b[0m\u001b[32m将结果数据框\u001b[0m\u001b[32m添加到数据集中\u001b[0m\u001b[32m\n",
      "    add_dataset\u001b[0m\u001b[32m(result_df, \"\u001b[0m\u001b[32m最佳学生\", \"\u001b[0m\u001b[32m理科和文科成绩\u001b[0m\u001b[32m最好的学生\")\n",
      "    \n",
      "\u001b[0m\u001b[32m    return result_df\u001b[0m\u001b[32m\n",
      "```\n",
      "\n",
      "这段\u001b[0m\u001b[32m代码首先获取了\u001b[0m\u001b[32m“考试成绩”\u001b[0m\u001b[32m数据集，然后\u001b[0m\u001b[32m分别找到了数学和\u001b[0m\u001b[32m语文成绩最高的学生\u001b[0m\u001b[32m，并创建了一个新的\u001b[0m\u001b[32m数据框来存储\u001b[0m\u001b[32m这些信息。最后\u001b[0m\u001b[32m，将这个新的\u001b[0m\u001b[32m数据框添加到了\u001b[0m\u001b[32m数据集中，并返回\u001b[0m\u001b[32m了这个数据框\u001b[0m\u001b[32m。\u001b[0m\u001b[32m\u001b[0m\n",
      "\u001b[33m   科目  最高分   姓名\n",
      "0  数学  135  薛一凡\n",
      "1  语文  110  吴红兵\u001b[0m\n",
      "\u001b[32m根\u001b[0m\u001b[32m据\u001b[0m\u001b[32m成绩单，理科（\u001b[0m\u001b[32m以数学成绩为代表\u001b[0m\u001b[32m）最好的学生是\u001b[0m\u001b[32m薛一凡，\u001b[0m\u001b[32m而文科（以\u001b[0m\u001b[32m语文成绩为代表）\u001b[0m\u001b[32m最好的学生是吴\u001b[0m\u001b[32m红兵。\u001b[0m\u001b[32m\u001b[0m\n"
     ]
    },
    {
     "data": {
      "text/plain": [
       "'根据成绩单，理科（以数学成绩为代表）最好的学生是薛一凡，而文科（以语文成绩为代表）最好的学生是吴红兵。'"
      ]
     },
     "execution_count": 16,
     "metadata": {},
     "output_type": "execute_result"
    }
   ],
   "source": [
    "from illufly.chat import ChatQwen\n",
    "from illufly.toolkits import PandasAgent\n",
    "from illufly.types import Dataset\n",
    "import pandas as pd\n",
    "\n",
    "data = pd.DataFrame({\n",
    "    \"姓名\": [\"薛一凡\", \"肖一笑\", \"赖国良\", \"吴红兵\"],\n",
    "    \"语文\": [90, 80, 105, 110],\n",
    "    \"数学\": [135, 110, 120, 90]\n",
    "})\n",
    "\n",
    "pan = PandasAgent(ChatQwen(), [Dataset(name=\"考试成绩\", df=data)], name=\"分析师\")\n",
    "talker = ChatQwen(tools=[pan])\n",
    "\n",
    "talker(\"根据成绩单，理科和文科最好的学生分别是谁？\")"
   ]
  },
  {
   "cell_type": "markdown",
   "id": "4567f141-4a76-496f-a1a2-1c95b495b1dc",
   "metadata": {},
   "source": [
    "### 本文小结\n",
    "\n",
    "前面探讨了在 illufly 中定义工具定义的方式。包括使用对话模型、数据分析和自定义工具等多种方式。\n",
    "\n",
    "illufly 中集成了关于数据分析、写作、文生图、文生视频等很多 BaseAgent 子类，限于篇幅和本文作为初步引导的定位不展开叙述。\n",
    "\n",
    "### 下期内容\n",
    "\n",
    "illufly 内置实现了 ReAct、ReWoo、Plan and Solve 等流行的单智能体论文的实践。<br>\n",
    "\n",
    "| FlowAgent子类 | 推理方式 | 论文来源 |\n",
    "|:----|:--------|:------------|\n",
    "|ReAct|一边推理一边执行|[ReAct](https://arxiv.org/abs/2210.03629) |\n",
    "|ReWOO|一次性规划所有步骤后一起执行|[ReWOO](https://arxiv.org/abs/2305.18323) |\n",
    "|PlanAndSolve|一边修订总体计划一边执行|[Plan-and-Solve](https://arxiv.org/abs/2305.04091) |\n",
    "\n",
    "另外，illufly 也支持一些多智能体实现的策略。\n",
    "\n",
    "下期开始首先讲述 illufly 中对 ReAct 推理的实践。"
   ]
  },
  {
   "cell_type": "code",
   "execution_count": null,
   "id": "1375d29b-3a40-43a3-8b6e-82cb9ff672bc",
   "metadata": {},
   "outputs": [],
   "source": []
  }
 ],
 "metadata": {
  "kernelspec": {
   "display_name": "same_to_illufly",
   "language": "python",
   "name": "same_to_illufly"
  },
  "language_info": {
   "codemirror_mode": {
    "name": "ipython",
    "version": 3
   },
   "file_extension": ".py",
   "mimetype": "text/x-python",
   "name": "python",
   "nbconvert_exporter": "python",
   "pygments_lexer": "ipython3",
   "version": "3.10.0"
  }
 },
 "nbformat": 4,
 "nbformat_minor": 5
}
