{
 "cells": [
  {
   "cell_type": "markdown",
   "id": "28153edf-033c-4271-8498-ec0c14fca211",
   "metadata": {},
   "source": [
    "# 工作台管理"
   ]
  },
  {
   "cell_type": "code",
   "execution_count": 37,
   "id": "9f62cc72-3c22-4276-90c4-35f40d1e287e",
   "metadata": {},
   "outputs": [
    {
     "data": {
      "text/plain": [
       "[]"
      ]
     },
     "execution_count": 37,
     "metadata": {},
     "output_type": "execute_result"
    }
   ],
   "source": [
    "a = [1,2,3,4]\n",
    "b = a\n",
    "b.clear()\n",
    "a"
   ]
  },
  {
   "cell_type": "code",
   "execution_count": 36,
   "id": "064bcc9a-abd2-4d9e-aced-1c957c2dd95f",
   "metadata": {},
   "outputs": [
    {
     "data": {
      "text/plain": [
       "{'messages': [{'role': 'user', 'content': 'hello'}],\n",
       " 'call_at': 'today',\n",
       " 'return_at': 'today'}"
      ]
     },
     "execution_count": 36,
     "metadata": {},
     "output_type": "execute_result"
    }
   ],
   "source": [
    "h.append([{\"role\": \"user\", \"content\": \"hello\"}], call_at=\"today\", return_at=\"today\")\n",
    "h.get()"
   ]
  },
  {
   "cell_type": "code",
   "execution_count": 35,
   "id": "b7021958-6f2e-42ed-8914-b29df43960b7",
   "metadata": {},
   "outputs": [
    {
     "data": {
      "text/plain": [
       "{'messages': [{'role': 'user', 'content': 'hi'}]}"
      ]
     },
     "execution_count": 35,
     "metadata": {},
     "output_type": "execute_result"
    }
   ],
   "source": [
    "h.get(0)"
   ]
  },
  {
   "cell_type": "markdown",
   "id": "9cc2a8e1-78f5-4e5f-8ca1-d4561128e63a",
   "metadata": {},
   "source": [
    "**任务树：**\n",
    "- 【0级】对话 / 知识 / 数据 等\n",
    "- 【1级 `write` 写作】对话 / 知识 / 数据 等\n",
    "- 【2级 `from_outline` 扩写】对话 / 知识 / 数据 等"
   ]
  },
  {
   "cell_type": "markdown",
   "id": "ef3703b3-52f9-43ef-9794-216436699dde",
   "metadata": {},
   "source": [
    "## 新任务"
   ]
  },
  {
   "cell_type": "markdown",
   "id": "15e4ea52-8fb6-4e7d-bed0-af6d7b584f9e",
   "metadata": {},
   "source": [
    "`write`/`from_outline` 执行时都将产生新任务。"
   ]
  },
  {
   "cell_type": "markdown",
   "id": "183d36c8-bb09-4510-a098-4809cc18a128",
   "metadata": {},
   "source": [
    "## 新对话"
   ]
  },
  {
   "cell_type": "markdown",
   "id": "a9bd354b-6041-4c26-851c-b501ec5f895b",
   "metadata": {},
   "source": [
    "新任务将同时产生新对话。<br>\n",
    "另外，可以使用 `new_chat` 直接生成新对话。"
   ]
  },
  {
   "cell_type": "markdown",
   "id": "bb143992-d1cb-46b8-bd31-c6eb6cb9687c",
   "metadata": {},
   "source": [
    "**0级新对话**"
   ]
  },
  {
   "cell_type": "code",
   "execution_count": 12,
   "id": "4b259fa6-7e14-4653-8aa2-6c6d523f9a6a",
   "metadata": {},
   "outputs": [
    {
     "data": {
      "text/plain": [
       "[{'messages': ['hi']}, {'messages': []}]"
      ]
     },
     "execution_count": 12,
     "metadata": {},
     "output_type": "execute_result"
    }
   ],
   "source": [
    "from textlong.workshop import new_chat\n",
    "\n",
    "state = {\n",
    "    'root': {\n",
    "        'content': None,\n",
    "        'messages': [[{'role':'user', 'content':'hi'}, {'role':'assistant', 'content':'Can I help you?'}]]\n",
    "    },\n",
    "    'knowledge': [{\n",
    "        'content': 'kg1',\n",
    "        'messages': []\n",
    "    }]\n",
    "}\n",
    "new_chat(state)\n",
    "state"
   ]
  },
  {
   "cell_type": "markdown",
   "id": "af11bb45-6693-43d4-a4c8-9c92cd9a10df",
   "metadata": {},
   "source": [
    "**1级新对话**"
   ]
  },
  {
   "cell_type": "code",
   "execution_count": 17,
   "id": "248b0892-b086-447b-aa81-47fb9a030b78",
   "metadata": {},
   "outputs": [
    {
     "data": {
      "text/plain": [
       "[{'messages': ['hi']},\n",
       " {'messages': [], 'output': [{'output_markdown': '# 这是一个好的开始'}]}]"
      ]
     },
     "execution_count": 17,
     "metadata": {},
     "output_type": "execute_result"
    }
   ],
   "source": [
    "from textlong.workshop import new_chat\n",
    "\n",
    "state = {\n",
    "    'root': {\n",
    "        'content': None,\n",
    "        'messages': [[{'role':'user', 'content':'hi'}, {'role':'assistant', 'content':'Can I help you?'}]]\n",
    "    },\n",
    "    'knowledge': [{\n",
    "        'content': 'kg1',\n",
    "        'messages': []\n",
    "    }],\n",
    "    'output': [\n",
    "        {\n",
    "            'template_id': 'IDEA',\n",
    "            'content': '# 这是一个好的开始',\n",
    "            'messages': []\n",
    "        },\n",
    "        {\n",
    "            'template_id': 'OUTLINE',\n",
    "            'content': '# 这是一个好的开始\\n<OUTLINE>请按我的要求扩写</OUTLINE>',\n",
    "            'messages': []\n",
    "        }\n",
    "    ]\n",
    "}\n",
    "\n",
    "new_chat(state, -1)\n",
    "state"
   ]
  },
  {
   "cell_type": "markdown",
   "id": "c7a6d87f-a73c-4895-94c7-4e0100f0dbfb",
   "metadata": {},
   "source": [
    "**2级新对话**"
   ]
  },
  {
   "cell_type": "code",
   "execution_count": null,
   "id": "db4e3322-8acf-4ae4-9566-22a0ba729dd2",
   "metadata": {},
   "outputs": [],
   "source": [
    "from textlong.workshop import new_chat\n",
    "\n",
    "state = [\n",
    "    {\n",
    "        'knowledge': [],\n",
    "        'messages': [{'role':'user', 'content':'hi'}, {'role':'assistant', 'content':'Can I help you?'}]\n",
    "    },\n",
    "    {\n",
    "        'knowledge': [],\n",
    "        'output': [\n",
    "            {\n",
    "                'output_markdown': '# 这是一个好的开始',\n",
    "                'messages': [{'role':'user', 'content':'hi'}, {'role':'assistant', 'content':'Can I help you?'}]\n",
    "            },\n",
    "            {\n",
    "                'output_markdown': '# 这是一个好的开始',\n",
    "                'outline': \n",
    "                'messages': [],\n",
    "                'from_outline': {\n",
    "                    '提纲1': '',\n",
    "                    '提纲2': '',\n",
    "                },\n",
    "            }\n",
    "        ]\n",
    "    }\n",
    "]\n",
    "new_chat(state, -1, -1)\n",
    "state"
   ]
  },
  {
   "cell_type": "markdown",
   "id": "43e54933-ec60-4751-a414-cdca3663c201",
   "metadata": {},
   "source": [
    "## 生成提纲"
   ]
  },
  {
   "cell_type": "code",
   "execution_count": 1,
   "id": "d99a7c85-b687-4119-b9fc-33a38cfdf08e",
   "metadata": {},
   "outputs": [],
   "source": [
    "from textlong.llm import qwen\n",
    "from textlong.workshop import write, chat, list_markdown\n",
    "messages = []\n",
    "state = {}"
   ]
  },
  {
   "cell_type": "code",
   "execution_count": 2,
   "id": "919e7cf3-af88-4045-beb8-d62e84098149",
   "metadata": {},
   "outputs": [
    {
     "name": "stdout",
     "output_type": "stream",
     "text": [
      "\u001b[32m#\u001b[0m\u001b[32m Markdown\u001b[0m\u001b[32m \u001b[0m\u001b[32m极简介绍\n",
      "\n",
      "Markdown\u001b[0m\u001b[32m 是一种轻量级的文本格式\u001b[0m\u001b[32m语言，允许人们使用易读易\u001b[0m\u001b[32m写的纯文本格式编写文档，然后\u001b[0m\u001b[32m转换成结构化的HTML（超文本\u001b[0m\u001b[32m标记语言）文档。它被设计\u001b[0m\u001b[32m为“对人类友好”，同时能\u001b[0m\u001b[32m被轻松转换成有效的HTML代码，\u001b[0m\u001b[32m非常适合网页写作、记笔记、编写\u001b[0m\u001b[32m文档等。\n",
      "\n",
      "## 一、Markdown\u001b[0m\u001b[32m 基础语法\n",
      "\n",
      "### \u001b[0m\u001b[32m1. 标题\n",
      "<OUT\u001b[0m\u001b[32mLINE>\n",
      "扩写要求：\n",
      "- \u001b[0m\u001b[32m介绍#号定义标题的规则，\u001b[0m\u001b[32m从`#`到`######`\u001b[0m\u001b[32m六级标题\n",
      "- 预\u001b[0m\u001b[32m估字数：100字\u001b[0m\u001b[32m\n",
      "</OUTLINE>\n",
      "\n",
      "### 2\u001b[0m\u001b[32m. 段落与换行\u001b[0m\u001b[32m\n",
      "<OUTLINE>\n",
      "扩写要求\u001b[0m\u001b[32m：\n",
      "- 解释段落的自然\u001b[0m\u001b[32m形成及两个空格或换行\u001b[0m\u001b[32m符实现换行的方法\n",
      "- \u001b[0m\u001b[32m预估字数：80\u001b[0m\u001b[32m字\n",
      "</OUTLINE>\n",
      "\n",
      "### \u001b[0m\u001b[32m3. 强调与字体样式\u001b[0m\u001b[32m\n",
      "<OUTLINE>\n",
      "扩写要求\u001b[0m\u001b[32m：\n",
      "- 说明使用`*`\u001b[0m\u001b[32m或`_`包裹文本实现斜\u001b[0m\u001b[32m体，双`**`或`\u001b[0m\u001b[32m__`实现粗体的规则\n",
      "\u001b[0m\u001b[32m- 简述删除线(`\u001b[0m\u001b[32m~~`)与下划线(`\u001b[0m\u001b[32m<u>`)的非标准用法\u001b[0m\u001b[32m\n",
      "- 预估字数\u001b[0m\u001b[32m：120字\n",
      "</OUT\u001b[0m\u001b[32mLINE>\n",
      "\n",
      "## 二、列表与\u001b[0m\u001b[32m代码\n",
      "\n",
      "### 1. 无\u001b[0m\u001b[32m序列表\n",
      "<OUTLINE>\n",
      "扩\u001b[0m\u001b[32m写要求：\n",
      "- 介绍使用`\u001b[0m\u001b[32m-`、`+`或`\u001b[0m\u001b[32m*`作为项目符号创建无序\u001b[0m\u001b[32m列表\n",
      "- 预估字\u001b[0m\u001b[32m数：60字\n",
      "</OUT\u001b[0m\u001b[32mLINE>\n",
      "\n",
      "### 2. 有序\u001b[0m\u001b[32m列表\n",
      "<OUTLINE>\n",
      "扩写\u001b[0m\u001b[32m要求：\n",
      "- 说明数字后跟\u001b[0m\u001b[32m`.`创建有序列表的规则\n",
      "-\u001b[0m\u001b[32m 预估字数：4\u001b[0m\u001b[32m0字\n",
      "</OUTLINE>\n",
      "\n",
      "###\u001b[0m\u001b[32m 3. 代码块与行\u001b[0m\u001b[32m内代码\n",
      "<OUTLINE>\n",
      "扩\u001b[0m\u001b[32m写要求：\n",
      "- 描述使用三个\u001b[0m\u001b[32m反引号(```)包围代码\u001b[0m\u001b[32m块，以及使用反引号(`\u001b[0m\u001b[32m`)包裹行内代码的用法\u001b[0m\u001b[32m\n",
      "- 简要提及高\u001b[0m\u001b[32m亮语法的选项\n",
      "- \u001b[0m\u001b[32m预估字数：100\u001b[0m\u001b[32m字\n",
      "</OUTLINE>\n",
      "\n",
      "## \u001b[0m\u001b[32m三、链接与图片\n",
      "\n",
      "### \u001b[0m\u001b[32m1. 链接\n",
      "\u001b[0m\u001b[32m<OUTLINE>\n",
      "扩写要求：\n",
      "-\u001b[0m\u001b[32m 说明使用`[文本](URL\u001b[0m\u001b[32m)`格式创建链接的方法\n",
      "- \u001b[0m\u001b[32m简述参考链接的定义与\u001b[0m\u001b[32m使用(`[文本][id]`\u001b[0m\u001b[32m，`[id]: URL`)\n",
      "-\u001b[0m\u001b[32m 预估字数：9\u001b[0m\u001b[32m0字\n",
      "</OUTLINE>\n",
      "\n",
      "###\u001b[0m\u001b[32m 2. 图片\n",
      "<OUT\u001b[0m\u001b[32mLINE>\n",
      "扩写要求：\n",
      "- \u001b[0m\u001b[32m介绍插入图片的语法(`![alt\u001b[0m\u001b[32m文本](图片URL)`)，并解释\u001b[0m\u001b[32m`alt文本`的作用\n",
      "- \u001b[0m\u001b[32m预估字数：60\u001b[0m\u001b[32m字\n",
      "</OUTLINE>\n",
      "\n",
      "## \u001b[0m\u001b[32m四、其他高级功能\n",
      "\n",
      "### \u001b[0m\u001b[32m1. 表格\n",
      "<OUT\u001b[0m\u001b[32mLINE>\n",
      "扩写要求：\n",
      "- \u001b[0m\u001b[32m简述使用管道符(`|\u001b[0m\u001b[32m`)和短横线(`-`)\u001b[0m\u001b[32m创建表格的格式\n",
      "- 提及\u001b[0m\u001b[32m对齐方式的设置\n",
      "- \u001b[0m\u001b[32m预估字数：10\u001b[0m\u001b[32m0字\n",
      "</OUTLINE>\n",
      "\n",
      "###\u001b[0m\u001b[32m 2. 引用\n",
      "\u001b[0m\u001b[32m<OUTLINE>\n",
      "扩写要求：\n",
      "-\u001b[0m\u001b[32m 解释使用>`符号开始每一行\u001b[0m\u001b[32m实现段落引用\n",
      "- 说明\u001b[0m\u001b[32m嵌套引用的实现方法\n",
      "-\u001b[0m\u001b[32m 预估字数：8\u001b[0m\u001b[32m0字\n",
      "</OUTLINE>\n",
      "\n",
      "###\u001b[0m\u001b[32m 3. 任务列表\n",
      "\u001b[0m\u001b[32m<OUTLINE>\n",
      "扩写要求：\n",
      "-\u001b[0m\u001b[32m 介绍如何在列表前添加`\u001b[0m\u001b[32m- [ ]`或`- [\u001b[0m\u001b[32mx]`来创建未完成或\u001b[0m\u001b[32m已完成的任务项\n",
      "- 预\u001b[0m\u001b[32m估字数：50字\n",
      "\u001b[0m\u001b[32m</OUTLINE>\n",
      "\n",
      "通过掌握以上Markdown\u001b[0m\u001b[32m基础及高级功能，用户可以高效\u001b[0m\u001b[32m地编写格式丰富的文档，适合多种\u001b[0m\u001b[32m应用场景。\u001b[0m\u001b[32m\u001b[0m\n",
      "\n"
     ]
    },
    {
     "data": {
      "text/plain": [
       "'# Markdown 极简介绍\\n\\nMarkdown 是一种轻量级的文本格式语言，允许人们使用易读易写的纯文本格式编写文档，然后转换成结构化的HTML（超文本标记语言）文档。它被设计为“对人类友好”，同时能被轻松转换成有效的HTML代码，非常适合网页写作、记笔记、编写文档等。\\n\\n## 一、Markdown 基础语法\\n\\n### 1. 标题\\n<OUTLINE>\\n扩写要求：\\n- 介绍#号定义标题的规则，从`#`到`######`六级标题\\n- 预估字数：100字\\n</OUTLINE>\\n\\n### 2. 段落与换行\\n<OUTLINE>\\n扩写要求：\\n- 解释段落的自然形成及两个空格或换行符实现换行的方法\\n- 预估字数：80字\\n</OUTLINE>\\n\\n### 3. 强调与字体样式\\n<OUTLINE>\\n扩写要求：\\n- 说明使用`*`或`_`包裹文本实现斜体，双`**`或`__`实现粗体的规则\\n- 简述删除线(`~~`)与下划线(`<u>`)的非标准用法\\n- 预估字数：120字\\n</OUTLINE>\\n\\n## 二、列表与代码\\n\\n### 1. 无序列表\\n<OUTLINE>\\n扩写要求：\\n- 介绍使用`-`、`+`或`*`作为项目符号创建无序列表\\n- 预估字数：60字\\n</OUTLINE>\\n\\n### 2. 有序列表\\n<OUTLINE>\\n扩写要求：\\n- 说明数字后跟`.`创建有序列表的规则\\n- 预估字数：40字\\n</OUTLINE>\\n\\n### 3. 代码块与行内代码\\n<OUTLINE>\\n扩写要求：\\n- 描述使用三个反引号(```)包围代码块，以及使用反引号(``)包裹行内代码的用法\\n- 简要提及高亮语法的选项\\n- 预估字数：100字\\n</OUTLINE>\\n\\n## 三、链接与图片\\n\\n### 1. 链接\\n<OUTLINE>\\n扩写要求：\\n- 说明使用`[文本](URL)`格式创建链接的方法\\n- 简述参考链接的定义与使用(`[文本][id]`，`[id]: URL`)\\n- 预估字数：90字\\n</OUTLINE>\\n\\n### 2. 图片\\n<OUTLINE>\\n扩写要求：\\n- 介绍插入图片的语法(`![alt文本](图片URL)`)，并解释`alt文本`的作用\\n- 预估字数：60字\\n</OUTLINE>\\n\\n## 四、其他高级功能\\n\\n### 1. 表格\\n<OUTLINE>\\n扩写要求：\\n- 简述使用管道符(`|`)和短横线(`-`)创建表格的格式\\n- 提及对齐方式的设置\\n- 预估字数：100字\\n</OUTLINE>\\n\\n### 2. 引用\\n<OUTLINE>\\n扩写要求：\\n- 解释使用>`符号开始每一行实现段落引用\\n- 说明嵌套引用的实现方法\\n- 预估字数：80字\\n</OUTLINE>\\n\\n### 3. 任务列表\\n<OUTLINE>\\n扩写要求：\\n- 介绍如何在列表前添加`- [ ]`或`- [x]`来创建未完成或已完成的任务项\\n- 预估字数：50字\\n</OUTLINE>\\n\\n通过掌握以上Markdown基础及高级功能，用户可以高效地编写格式丰富的文档，适合多种应用场景。'"
      ]
     },
     "execution_count": 2,
     "metadata": {},
     "output_type": "execute_result"
    }
   ],
   "source": [
    "write(qwen, \"OUTLINE\", {\"task\": \"帮我写一份markdown极简介绍\"}, messages, state)"
   ]
  },
  {
   "cell_type": "code",
   "execution_count": 7,
   "id": "48f61ab8-c355-4dc9-87a6-6edf4567d4c6",
   "metadata": {},
   "outputs": [
    {
     "data": {
      "text/plain": [
       "[('OU-241-007',\n",
       "  '<OUTLINE>\\n扩写要求：\\n- 介绍#号定义标题的规则，从`#`到`######`六级标题\\n- 预估字数：100字\\n</OUTLINE>\\n\\n'),\n",
       " ('OU-188-010',\n",
       "  '<OUTLINE>\\n扩写要求：\\n- 解释段落的自然形成及两个空格或换行符实现换行的方法\\n- 预估字数：80字\\n</OUTLINE>\\n\\n'),\n",
       " ('OU-332-013',\n",
       "  '<OUTLINE>\\n扩写要求：\\n- 说明使用`*`或`_`包裹文本实现斜体，双`**`或`__`实现粗体的规则\\n- 简述删除线(`~~`)与下划线(`<u>`)的非标准用法\\n- 预估字数：120字\\n</OUTLINE>\\n\\n'),\n",
       " ('OU-744-018',\n",
       "  '<OUTLINE>\\n扩写要求：\\n- 介绍使用`-`、`+`或`*`作为项目符号创建无序列表\\n- 预估字数：60字\\n</OUTLINE>\\n\\n'),\n",
       " ('OU-578-021',\n",
       "  '<OUTLINE>\\n扩写要求：\\n- 说明数字后跟`.`创建有序列表的规则\\n- 预估字数：40字\\n</OUTLINE>\\n\\n'),\n",
       " ('OU-116-024',\n",
       "  '<OUTLINE>\\n扩写要求：\\n- 描述使用三个反引号(```)包围代码块，以及使用反引号(``)包裹行内代码的用法\\n- 简要提及高亮语法的选项\\n- 预估字数：100字\\n</OUTLINE>\\n\\n'),\n",
       " ('OU-378-029',\n",
       "  '<OUTLINE>\\n扩写要求：\\n- 说明使用`[文本](URL)`格式创建链接的方法\\n- 简述参考链接的定义与使用(`[文本][id]`，`[id]: URL`)\\n- 预估字数：90字\\n</OUTLINE>\\n\\n'),\n",
       " ('OU-524-032',\n",
       "  '<OUTLINE>\\n扩写要求：\\n- 介绍插入图片的语法(`![alt文本](图片URL)`)，并解释`alt文本`的作用\\n- 预估字数：60字\\n</OUTLINE>\\n\\n'),\n",
       " ('OU-464-037',\n",
       "  '<OUTLINE>\\n扩写要求：\\n- 简述使用管道符(`|`)和短横线(`-`)创建表格的格式\\n- 提及对齐方式的设置\\n- 预估字数：100字\\n</OUTLINE>\\n\\n'),\n",
       " ('OU-085-040',\n",
       "  '<OUTLINE>\\n扩写要求：\\n- 解释使用>`符号开始每一行实现段落引用\\n- 说明嵌套引用的实现方法\\n- 预估字数：80字\\n</OUTLINE>\\n\\n'),\n",
       " ('OU-051-043',\n",
       "  '<OUTLINE>\\n扩写要求：\\n- 介绍如何在列表前添加`- [ ]`或`- [x]`来创建未完成或已完成的任务项\\n- 预估字数：50字\\n</OUTLINE>\\n\\n')]"
      ]
     },
     "execution_count": 7,
     "metadata": {},
     "output_type": "execute_result"
    }
   ],
   "source": [
    "from textlong.workshop import list_markdown\n",
    "list_markdown(state['outline_docs'].get_outlines())"
   ]
  },
  {
   "cell_type": "markdown",
   "id": "7a261650-1b1c-429d-9903-099778baca35",
   "metadata": {},
   "source": [
    "## 从提纲扩写"
   ]
  },
  {
   "cell_type": "code",
   "execution_count": 8,
   "id": "44c67bfd-fea3-4af0-92ba-b57ef2f1aeee",
   "metadata": {},
   "outputs": [
    {
     "data": {
      "text/plain": [
       "{'outline_docs': <textlong.workshop.markdown.Markdown at 0x10b0eaa70>,\n",
       " 'outline_task': [Document(page_content='<OUTLINE>\\n扩写要求：\\n- 介绍#号定义标题的规则，从`#`到`######`六级标题\\n- 预估字数：100字\\n</OUTLINE>\\n\\n', metadata={'id': '9984-241-007', 'type': 'OUTLINE'}),\n",
       "  Document(page_content='<OUTLINE>\\n扩写要求：\\n- 解释段落的自然形成及两个空格或换行符实现换行的方法\\n- 预估字数：80字\\n</OUTLINE>\\n\\n', metadata={'id': '9984-188-010', 'type': 'OUTLINE'}),\n",
       "  Document(page_content='<OUTLINE>\\n扩写要求：\\n- 说明使用`*`或`_`包裹文本实现斜体，双`**`或`__`实现粗体的规则\\n- 简述删除线(`~~`)与下划线(`<u>`)的非标准用法\\n- 预估字数：120字\\n</OUTLINE>\\n\\n', metadata={'id': '9984-332-013', 'type': 'OUTLINE'}),\n",
       "  Document(page_content='<OUTLINE>\\n扩写要求：\\n- 介绍使用`-`、`+`或`*`作为项目符号创建无序列表\\n- 预估字数：60字\\n</OUTLINE>\\n\\n', metadata={'id': '9984-744-018', 'type': 'OUTLINE'}),\n",
       "  Document(page_content='<OUTLINE>\\n扩写要求：\\n- 说明数字后跟`.`创建有序列表的规则\\n- 预估字数：40字\\n</OUTLINE>\\n\\n', metadata={'id': '9984-578-021', 'type': 'OUTLINE'}),\n",
       "  Document(page_content='<OUTLINE>\\n扩写要求：\\n- 描述使用三个反引号(```)包围代码块，以及使用反引号(``)包裹行内代码的用法\\n- 简要提及高亮语法的选项\\n- 预估字数：100字\\n</OUTLINE>\\n\\n', metadata={'id': '9984-116-024', 'type': 'OUTLINE'}),\n",
       "  Document(page_content='<OUTLINE>\\n扩写要求：\\n- 说明使用`[文本](URL)`格式创建链接的方法\\n- 简述参考链接的定义与使用(`[文本][id]`，`[id]: URL`)\\n- 预估字数：90字\\n</OUTLINE>\\n\\n', metadata={'id': '9984-378-029', 'type': 'OUTLINE'}),\n",
       "  Document(page_content='<OUTLINE>\\n扩写要求：\\n- 介绍插入图片的语法(`![alt文本](图片URL)`)，并解释`alt文本`的作用\\n- 预估字数：60字\\n</OUTLINE>\\n\\n', metadata={'id': '9984-524-032', 'type': 'OUTLINE'}),\n",
       "  Document(page_content='<OUTLINE>\\n扩写要求：\\n- 简述使用管道符(`|`)和短横线(`-`)创建表格的格式\\n- 提及对齐方式的设置\\n- 预估字数：100字\\n</OUTLINE>\\n\\n', metadata={'id': '9984-464-037', 'type': 'OUTLINE'}),\n",
       "  Document(page_content='<OUTLINE>\\n扩写要求：\\n- 解释使用>`符号开始每一行实现段落引用\\n- 说明嵌套引用的实现方法\\n- 预估字数：80字\\n</OUTLINE>\\n\\n', metadata={'id': '9984-085-040', 'type': 'OUTLINE'}),\n",
       "  Document(page_content='<OUTLINE>\\n扩写要求：\\n- 介绍如何在列表前添加`- [ ]`或`- [x]`来创建未完成或已完成的任务项\\n- 预估字数：50字\\n</OUTLINE>\\n\\n', metadata={'id': '9984-051-043', 'type': 'OUTLINE'})],\n",
       " 'from_outline': {}}"
      ]
     },
     "execution_count": 8,
     "metadata": {},
     "output_type": "execute_result"
    }
   ],
   "source": [
    "state"
   ]
  },
  {
   "cell_type": "markdown",
   "id": "d5d6f075-1496-464b-b286-ad8f7d90a9e1",
   "metadata": {},
   "source": [
    "## 局部扩写"
   ]
  },
  {
   "cell_type": "markdown",
   "id": "d1ac65bf-5ee7-4f68-9973-08380ecd1597",
   "metadata": {},
   "source": [
    "## 多轮对话 + 提纲扩写"
   ]
  },
  {
   "cell_type": "markdown",
   "id": "4b7e5351-2ca8-425d-90c8-a3d6093baa6f",
   "metadata": {},
   "source": [
    "## 加载数据"
   ]
  },
  {
   "cell_type": "markdown",
   "id": "40ded162-eb22-4a03-98ca-978c16224a02",
   "metadata": {},
   "source": [
    "## 分析数据"
   ]
  },
  {
   "cell_type": "markdown",
   "id": "b2583f7c-30f7-4474-a694-b950e569f256",
   "metadata": {},
   "source": [
    "## 多轮对话 + 分析数据"
   ]
  },
  {
   "cell_type": "markdown",
   "id": "f49d48fc-7a88-412e-97bb-38f01c5639c8",
   "metadata": {},
   "source": [
    "## 局部扩写 + 分析数据"
   ]
  },
  {
   "cell_type": "code",
   "execution_count": null,
   "id": "ce49cc9c-507c-4026-b612-66f5e466f3eb",
   "metadata": {},
   "outputs": [],
   "source": []
  }
 ],
 "metadata": {
  "kernelspec": {
   "display_name": "textlong-same-ipykernel",
   "language": "python",
   "name": "textlong-same-ipykernel"
  },
  "language_info": {
   "codemirror_mode": {
    "name": "ipython",
    "version": 3
   },
   "file_extension": ".py",
   "mimetype": "text/x-python",
   "name": "python",
   "nbconvert_exporter": "python",
   "pygments_lexer": "ipython3",
   "version": "3.10.0"
  }
 },
 "nbformat": 4,
 "nbformat_minor": 5
}
