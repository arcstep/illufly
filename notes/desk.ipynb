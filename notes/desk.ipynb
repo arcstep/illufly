{
 "cells": [
  {
   "cell_type": "markdown",
   "id": "532d485f-8069-427a-9934-d74b71f80be1",
   "metadata": {},
   "source": [
    "# 重新定义大模型和智能体"
   ]
  },
  {
   "cell_type": "markdown",
   "id": "daebcb1f-592d-48ec-aa99-f11b3efb377a",
   "metadata": {},
   "source": [
    "## 多轮对话"
   ]
  },
  {
   "cell_type": "markdown",
   "id": "8790399f-d4b4-4dd0-9559-136224b2c7cf",
   "metadata": {},
   "source": [
    "使用`messages`管理多轮对话的记忆。<br>\n",
    "你也可以在`chat`函数中通过参数`k`限制希望保留的对话轮次，但这不影响`messages`记录完整的对话过程。"
   ]
  },
  {
   "cell_type": "code",
   "execution_count": 1,
   "id": "db74091f-7698-4d62-9aee-68f36e2c0a7b",
   "metadata": {},
   "outputs": [],
   "source": [
    "from textlong.llm import fake_llm, zhipu, qwen\n",
    "from textlong.desk import Desk\n",
    "from textlong.io import log, alog\n",
    "\n",
    "d = Desk(zhipu)"
   ]
  },
  {
   "cell_type": "code",
   "execution_count": 2,
   "id": "00704634-ce1a-400d-a33f-a26b106eccdb",
   "metadata": {},
   "outputs": [
    {
     "data": {
      "text/plain": [
       "[]"
      ]
     },
     "execution_count": 2,
     "metadata": {},
     "output_type": "execute_result"
    }
   ],
   "source": [
    "d.get_chat_memory()"
   ]
  },
  {
   "cell_type": "markdown",
   "id": "f37bd094-5a80-47f0-b80c-76e4ab0480ec",
   "metadata": {},
   "source": [
    "### 默认记住10轮"
   ]
  },
  {
   "cell_type": "code",
   "execution_count": 3,
   "id": "1b0ff138-b0ed-43d3-8c01-bef4f1acaa5f",
   "metadata": {},
   "outputs": [
    {
     "name": "stdout",
     "output_type": "stream",
     "text": [
      "\u001b[32m的诗\u001b[0m\u001b[32m句\u001b[0m\u001b[32m，\u001b[0m\u001b[32m以下\u001b[0m\u001b[32m是一\u001b[0m\u001b[32m首\u001b[0m\u001b[32m关于\u001b[0m\u001b[32m兔子\u001b[0m\u001b[32m做梦\u001b[0m\u001b[32m的四\u001b[0m\u001b[32m句\u001b[0m\u001b[32m儿\u001b[0m\u001b[32m歌\u001b[0m\u001b[32m：\n",
      "\n",
      "\n",
      "梦里\u001b[0m\u001b[32m花开\u001b[0m\u001b[32m香\u001b[0m\u001b[32m满\u001b[0m\u001b[32m地\u001b[0m\u001b[32m，\n",
      "兔子\u001b[0m\u001b[32m跳跃\u001b[0m\u001b[32m入\u001b[0m\u001b[32m梦境\u001b[0m\u001b[32m。\n",
      "阳光\u001b[0m\u001b[32m照耀\u001b[0m\u001b[32m心\u001b[0m\u001b[32m欢\u001b[0m\u001b[32m畅\u001b[0m\u001b[32m，\n",
      "梦境\u001b[0m\u001b[32m醒来\u001b[0m\u001b[32m笑\u001b[0m\u001b[32m盈\u001b[0m\u001b[32m盈\u001b[0m\u001b[32m。\u001b[0m\n",
      "\n",
      "[END] \u001b[34m【内容由幻蝶AI生成，其观点仅代表创作者个人立场，可登录 http://www.illufly.com 查验其校验码 63378887】\u001b[0m\n"
     ]
    },
    {
     "data": {
      "text/plain": [
       "'的诗句，以下是一首关于兔子做梦的四句儿歌：\\n\\n\\n梦里花开香满地，\\n兔子跳跃入梦境。\\n阳光照耀心欢畅，\\n梦境醒来笑盈盈。'"
      ]
     },
     "execution_count": 3,
     "metadata": {},
     "output_type": "execute_result"
    }
   ],
   "source": [
    "log(d.chat(\"你能帮我写一首关于兔子做梦的四句儿歌?\"))"
   ]
  },
  {
   "cell_type": "code",
   "execution_count": 3,
   "id": "f11a351c-3c8e-45c3-8b71-57f576dfeb29",
   "metadata": {},
   "outputs": [
    {
     "name": "stdout",
     "output_type": "stream",
     "text": [
      "\u001b[32m当然\u001b[0m\u001b[32m可以\u001b[0m\u001b[32m！\u001b[0m\u001b[32m以下\u001b[0m\u001b[32m是一\u001b[0m\u001b[32m首\u001b[0m\u001b[32m关于\u001b[0m\u001b[32m兔子\u001b[0m\u001b[32m做梦\u001b[0m\u001b[32m的四\u001b[0m\u001b[32m句\u001b[0m\u001b[32m儿\u001b[0m\u001b[32m歌\u001b[0m\u001b[32m：\n",
      "\n",
      "梦里\u001b[0m\u001b[32m花开\u001b[0m\u001b[32m兔子\u001b[0m\u001b[32m跳\u001b[0m\u001b[32m，\n",
      "彩虹\u001b[0m\u001b[32m桥\u001b[0m\u001b[32m上\u001b[0m\u001b[32m唱歌\u001b[0m\u001b[32m谣\u001b[0m\u001b[32m。\n",
      "兔子\u001b[0m\u001b[32m王国\u001b[0m\u001b[32m笑声\u001b[0m\u001b[32m闹\u001b[0m\u001b[32m，\n",
      "梦\u001b[0m\u001b[32m醒\u001b[0m\u001b[32m花开\u001b[0m\u001b[32m满\u001b[0m\u001b[32m枝\u001b[0m\u001b[32m头\u001b[0m\u001b[32m。\u001b[0m\n",
      "\n",
      "[END] \u001b[34m【内容由幻蝶AI生成，其观点仅代表创作者个人立场，可登录 http://www.illufly.com 查验其校验码 86412652】\u001b[0m\n"
     ]
    },
    {
     "data": {
      "text/plain": [
       "'当然可以！以下是一首关于兔子做梦的四句儿歌：\\n\\n梦里花开兔子跳，\\n彩虹桥上唱歌谣。\\n兔子王国笑声闹，\\n梦醒花开满枝头。'"
      ]
     },
     "execution_count": 3,
     "metadata": {},
     "output_type": "execute_result"
    }
   ],
   "source": [
    "await alog(d.achat(\"你能帮我写一首关于兔子做梦的四句儿歌?\"))"
   ]
  },
  {
   "cell_type": "code",
   "execution_count": 6,
   "id": "f2836967-7953-446a-8b63-e8d129a208be",
   "metadata": {},
   "outputs": [
    {
     "data": {
      "text/plain": [
       "[{'role': 'user', 'content': '你能帮我写一首关于兔子做梦的四句儿歌?'},\n",
       " {'role': 'assistant',\n",
       "  'content': '当然可以，以下是一首关于兔子做梦的四句儿歌：\\n\\n梦里花开兔子跳，\\n彩虹桥上歌声飘。\\n月亮弯弯照小屋，\\n兔子笑醒梦如潮。'}]"
      ]
     },
     "execution_count": 6,
     "metadata": {},
     "output_type": "execute_result"
    }
   ],
   "source": [
    "d.get_chat_memory()"
   ]
  },
  {
   "cell_type": "code",
   "execution_count": 7,
   "id": "29b9d9c9-6523-4642-8ed7-d42bf84554c3",
   "metadata": {},
   "outputs": [
    {
     "name": "stdout",
     "output_type": "stream",
     "text": [
      "\u001b[32m当然\u001b[0m\u001b[32m可以\u001b[0m\u001b[32m，\u001b[0m\u001b[32m这是\u001b[0m\u001b[32m关于\u001b[0m\u001b[32m小\u001b[0m\u001b[32m羊\u001b[0m\u001b[32m做梦\u001b[0m\u001b[32m的四\u001b[0m\u001b[32m句\u001b[0m\u001b[32m儿\u001b[0m\u001b[32m歌\u001b[0m\u001b[32m：\n",
      "\n",
      "梦中\u001b[0m\u001b[32m绿\u001b[0m\u001b[32m草\u001b[0m\u001b[32m小\u001b[0m\u001b[32m羊\u001b[0m\u001b[32m悠\u001b[0m\u001b[32m，\n",
      "蓝天\u001b[0m\u001b[32m白云\u001b[0m\u001b[32m梦\u001b[0m\u001b[32m无边\u001b[0m\u001b[32m。\n",
      "小\u001b[0m\u001b[32m溪\u001b[0m\u001b[32m潺\u001b[0m\u001b[32m潺\u001b[0m\u001b[32m唱\u001b[0m\u001b[32m夜\u001b[0m\u001b[32m曲\u001b[0m\u001b[32m，\n",
      "醒来\u001b[0m\u001b[32m小\u001b[0m\u001b[32m羊\u001b[0m\u001b[32m笑\u001b[0m\u001b[32m眯\u001b[0m\u001b[32m眯\u001b[0m\u001b[32m。\u001b[0m\n",
      "\n",
      "[END] \u001b[34m【内容由幻蝶AI生成，其观点仅代表创作者个人立场，可登录 http://www.illufly.com 查验其校验码 41854805】\u001b[0m\n"
     ]
    },
    {
     "data": {
      "text/plain": [
       "'当然可以，这是关于小羊做梦的四句儿歌：\\n\\n梦中绿草小羊悠，\\n蓝天白云梦无边。\\n小溪潺潺唱夜曲，\\n醒来小羊笑眯眯。'"
      ]
     },
     "execution_count": 7,
     "metadata": {},
     "output_type": "execute_result"
    }
   ],
   "source": [
    "log(d.chat(\"换成小羊吧\"))"
   ]
  },
  {
   "cell_type": "markdown",
   "id": "641b46bf-1241-4f59-8944-58451b770344",
   "metadata": {},
   "source": [
    "### 限制记忆中的对话轮数"
   ]
  },
  {
   "cell_type": "code",
   "execution_count": 8,
   "id": "fbb77df1-1f87-4ef7-8e91-7289796d4f31",
   "metadata": {},
   "outputs": [
    {
     "name": "stdout",
     "output_type": "stream",
     "text": [
      "\u001b[32m蓝天\u001b[0m\u001b[32m上\u001b[0m\u001b[32m，\u001b[0m\u001b[32m小\u001b[0m\u001b[32m羊\u001b[0m\u001b[32m梦\u001b[0m\u001b[32m飞翔\u001b[0m\u001b[32m，\u001b[0m\u001b[32m以下是\u001b[0m\u001b[32m关于\u001b[0m\u001b[32m小\u001b[0m\u001b[32m羊\u001b[0m\u001b[32m在\u001b[0m\u001b[32m蓝天\u001b[0m\u001b[32m上\u001b[0m\u001b[32m做梦\u001b[0m\u001b[32m的四\u001b[0m\u001b[32m句\u001b[0m\u001b[32m儿\u001b[0m\u001b[32m歌\u001b[0m\u001b[32m：\n",
      "\n",
      "蓝\u001b[0m\u001b[32m天下\u001b[0m\u001b[32m，\u001b[0m\u001b[32m羊\u001b[0m\u001b[32m儿\u001b[0m\u001b[32m梦\u001b[0m\u001b[32m飞扬\u001b[0m\u001b[32m，\n",
      "白云\u001b[0m\u001b[32m间\u001b[0m\u001b[32m，\u001b[0m\u001b[32m小\u001b[0m\u001b[32m羊\u001b[0m\u001b[32m心\u001b[0m\u001b[32m欢\u001b[0m\u001b[32m畅\u001b[0m\u001b[32m。\n",
      "风吹\u001b[0m\u001b[32m云\u001b[0m\u001b[32m动\u001b[0m\u001b[32m梦\u001b[0m\u001b[32m初\u001b[0m\u001b[32m醒\u001b[0m\u001b[32m，\n",
      "阳光\u001b[0m\u001b[32m里\u001b[0m\u001b[32m，\u001b[0m\u001b[32m小\u001b[0m\u001b[32m羊\u001b[0m\u001b[32m笑\u001b[0m\u001b[32m洋洋\u001b[0m\u001b[32m。\u001b[0m\n",
      "\n",
      "[END] \u001b[34m【内容由幻蝶AI生成，其观点仅代表创作者个人立场，可登录 http://www.illufly.com 查验其校验码 72807792】\u001b[0m\n"
     ]
    },
    {
     "data": {
      "text/plain": [
       "'蓝天上，小羊梦飞翔，以下是关于小羊在蓝天上做梦的四句儿歌：\\n\\n蓝天下，羊儿梦飞扬，\\n白云间，小羊心欢畅。\\n风吹云动梦初醒，\\n阳光里，小羊笑洋洋。'"
      ]
     },
     "execution_count": 8,
     "metadata": {},
     "output_type": "execute_result"
    }
   ],
   "source": [
    "log(d.chat(\"改为在蓝天上\"))"
   ]
  },
  {
   "cell_type": "markdown",
   "id": "1cd422aa-518a-41f8-b6c2-4404edecb782",
   "metadata": {},
   "source": [
    "调用时可以切换模型，例如用来模拟和查看提示语的 `fake_llm`："
   ]
  },
  {
   "cell_type": "code",
   "execution_count": 12,
   "id": "da5bab59-0b1c-4ebb-8e16-2e7eec68758d",
   "metadata": {},
   "outputs": [
    {
     "data": {
      "text/plain": [
       "[{'role': 'user', 'content': '你能帮我写一首关于兔子做梦的四句儿歌?'},\n",
       " {'role': 'assistant',\n",
       "  'content': '当然可以！以下是一首关于兔子做梦的四句儿歌：\\n\\n梦里花丛兔子跳，\\n彩虹桥上笑哈哈。\\n月亮姐姐讲故事，\\n兔子宝宝入梦乡。'},\n",
       " {'role': 'user', 'content': '换成小羊吧'},\n",
       " {'role': 'assistant',\n",
       "  'content': '当然可以，这是一首关于小羊做梦的四句儿歌：\\n\\n梦里草原小羊跳，\\n白云朵朵伴歌谣。\\n星星姐姐讲故事，\\n小羊宝宝梦香甜。'},\n",
       " {'role': 'user', 'content': '改为在蓝天上'},\n",
       " {'role': 'assistant',\n",
       "  'content': '好的，这是一首关于小羊在蓝天上做梦的四句儿歌：\\n\\n梦里蓝天小羊翔，\\n白云做伴任飞翔。\\n彩虹桥下牧歌起，\\n小羊梦境最欢畅。'}]"
      ]
     },
     "execution_count": 12,
     "metadata": {},
     "output_type": "execute_result"
    }
   ],
   "source": [
    "d.messages"
   ]
  },
  {
   "cell_type": "code",
   "execution_count": 9,
   "id": "1fd16c8f-3192-474c-8618-25b0c78bb646",
   "metadata": {},
   "outputs": [
    {
     "data": {
      "text/plain": [
       "[{'role': 'user', 'content': '改为在蓝天上'},\n",
       " {'role': 'assistant',\n",
       "  'content': '蓝天上，小羊梦飞翔，以下是关于小羊在蓝天上做梦的四句儿歌：\\n\\n蓝天下，羊儿梦飞扬，\\n白云间，小羊心欢畅。\\n风吹云动梦初醒，\\n阳光里，小羊笑洋洋。'}]"
      ]
     },
     "execution_count": 9,
     "metadata": {},
     "output_type": "execute_result"
    }
   ],
   "source": [
    "d.get_chat_memory(1)"
   ]
  },
  {
   "cell_type": "code",
   "execution_count": 10,
   "id": "d013a1fd-deaa-4124-9804-6121d04705e6",
   "metadata": {},
   "outputs": [
    {
     "name": "stdout",
     "output_type": "stream",
     "text": [
      "\u001b[32m水\u001b[0m\u001b[32m塘\u001b[0m\u001b[32m边\u001b[0m\u001b[32m，小羊梦悠\u001b[0m\u001b[32m扬，\n",
      "碧波里，倒映\u001b[0m\u001b[32m着天光。\n",
      "芦苇轻摇\u001b[0m\u001b[32m曲中睡，\n",
      "涟漪轻泛\u001b[0m\u001b[32m，小羊梦更香。\u001b[0m\u001b[32m\u001b[0m\n",
      "\n",
      "[END] \u001b[34m【内容由幻蝶AI生成，其观点仅代表创作者个人立场，可登录 http://www.illufly.com 查验其校验码 90184494】\u001b[0m\n"
     ]
    },
    {
     "data": {
      "text/plain": [
       "'水塘边，小羊梦悠扬，\\n碧波里，倒映着天光。\\n芦苇轻摇曲中睡，\\n涟漪轻泛，小羊梦更香。'"
      ]
     },
     "execution_count": 10,
     "metadata": {},
     "output_type": "execute_result"
    }
   ],
   "source": [
    "log(d.chat(\"改为在水塘\", llm=qwen, k=1))"
   ]
  },
  {
   "cell_type": "code",
   "execution_count": 11,
   "id": "5266b214-cedb-4c4c-99fe-9a48478b3d2a",
   "metadata": {},
   "outputs": [
    {
     "data": {
      "text/plain": [
       "[{'role': 'user', 'content': '改为在水塘'},\n",
       " {'role': 'assistant',\n",
       "  'content': '水塘边，小羊梦悠扬，\\n碧波里，倒映着天光。\\n芦苇轻摇曲中睡，\\n涟漪轻泛，小羊梦更香。'}]"
      ]
     },
     "execution_count": 11,
     "metadata": {},
     "output_type": "execute_result"
    }
   ],
   "source": [
    "d.get_chat_memory(1)"
   ]
  },
  {
   "cell_type": "markdown",
   "id": "6e667cad-8bc8-4ea2-b68e-d1c3687e71d0",
   "metadata": {},
   "source": [
    "### 多轮对话 + 回调工具"
   ]
  },
  {
   "cell_type": "code",
   "execution_count": 12,
   "id": "d898e2c1-a56b-4ffc-bf22-48351429c883",
   "metadata": {},
   "outputs": [],
   "source": [
    "from textlong.tools import tool, convert_to_openai_tool\n",
    "from textlong.llm import qwen\n",
    "from textlong.desk import Desk\n",
    "import json\n",
    "\n",
    "@tool\n",
    "def get_current_weather(location: str):\n",
    "    \"\"\"获取城市的天气情况\"\"\"\n",
    "    return f\"{location}今天是晴天。 \"\n",
    "\n",
    "messages = []\n",
    "d = Desk(qwen, toolkits=[get_current_weather], tools=[convert_to_openai_tool(get_current_weather)])"
   ]
  },
  {
   "cell_type": "code",
   "execution_count": 13,
   "id": "63002e47-0e89-490d-b5e2-6390cdc47ab4",
   "metadata": {},
   "outputs": [
    {
     "name": "stdout",
     "output_type": "stream",
     "text": [
      "[StructuredTool(name='get_current_weather', description='获取城市的天气情况', args_schema=<class 'pydantic.main.get_current_weatherSchema'>, func=<function get_current_weather at 0x1235223b0>), StructuredTool(name='python_code', description='回答关于[]等数据集的问题。\\n具体包括：', args_schema=<class 'textlong.tools.python_code.create_python_code_tool.<locals>.PythonCodeInput'>, func=<function create_python_code_tool.<locals>.python_code at 0x123522710>)]\n"
     ]
    }
   ],
   "source": [
    "print(d.toolkits)"
   ]
  },
  {
   "cell_type": "code",
   "execution_count": 14,
   "id": "a697d868-9eb8-4c8d-bb0d-0cf368d5323f",
   "metadata": {},
   "outputs": [
    {
     "name": "stdout",
     "output_type": "stream",
     "text": [
      "[TOOLS_CALL] \u001b[34m{\"index\": 0, \"id\": \"call_c8d2b05761b747e6afee86\", \"type\": \"function\", \"function\": {\"name\": \"get_current_weather\", \"arguments\": \"\"}}\u001b[0m\n",
      "[TOOLS_CALL] \u001b[34m{\"index\": 0, \"id\": \"\", \"type\": \"function\", \"function\": {\"arguments\": \"{\\\"location\\\": \\\"\"}}\u001b[0m\n",
      "[TOOLS_CALL] \u001b[34m{\"index\": 0, \"id\": \"\", \"type\": \"function\", \"function\": {\"arguments\": \"广州\\\"}\"}}\u001b[0m\n",
      "[TOOLS_CALL] \u001b[34m{\"index\": 0, \"id\": \"\", \"type\": \"function\", \"function\": {}}\u001b[0m\n",
      "[TOOLS_CALL_FINAL] \u001b[34m{\"0\": {\"index\": 0, \"id\": \"call_c8d2b05761b747e6afee86\", \"type\": \"function\", \"function\": {\"name\": \"get_current_weather\", \"arguments\": \"{\\\"location\\\": \\\"广州\\\"}\"}}}\u001b[0m\n",
      "\u001b[34m广\u001b[0m\u001b[34m州\u001b[0m\u001b[34m今\u001b[0m\u001b[34m天\u001b[0m\u001b[34m是\u001b[0m\u001b[34m晴\u001b[0m\u001b[34m天\u001b[0m\u001b[34m。\u001b[0m\u001b[34m \u001b[0m\n",
      "\n",
      "\u001b[32m广\u001b[0m\u001b[32m州今天的天气是晴\u001b[0m\u001b[32m朗的。\u001b[0m\u001b[32m\u001b[0m\n",
      "\n",
      "[END] \u001b[34m【内容由幻蝶AI生成，其观点仅代表创作者个人立场，可登录 http://www.illufly.com 查验其校验码 53208238】\u001b[0m\n"
     ]
    },
    {
     "data": {
      "text/plain": [
       "'广州今天的天气是晴朗的。'"
      ]
     },
     "execution_count": 14,
     "metadata": {},
     "output_type": "execute_result"
    }
   ],
   "source": [
    "from textlong.io import log\n",
    "\n",
    "log(d.chat(\"今天广州天气如何啊\"))"
   ]
  },
  {
   "cell_type": "code",
   "execution_count": 15,
   "id": "67fe453f-dd4a-4c1d-a0aa-8e8122c88538",
   "metadata": {},
   "outputs": [
    {
     "name": "stdout",
     "output_type": "stream",
     "text": [
      "\u001b[32m我\u001b[0m\u001b[32m调\u001b[0m\u001b[32m用了\u001b[0m\u001b[32mget_current_weather这个工具\u001b[0m\u001b[32m函数来查询广州当前的天气情况\u001b[0m\u001b[32m，它返回的结果表明广州今天是\u001b[0m\u001b[32m晴天。\u001b[0m\u001b[32m\u001b[0m\n",
      "\n",
      "[END] \u001b[34m【内容由幻蝶AI生成，其观点仅代表创作者个人立场，可登录 http://www.illufly.com 查验其校验码 73935956】\u001b[0m\n"
     ]
    },
    {
     "data": {
      "text/plain": [
       "'我调用了get_current_weather这个工具函数来查询广州当前的天气情况，它返回的结果表明广州今天是晴天。'"
      ]
     },
     "execution_count": 15,
     "metadata": {},
     "output_type": "execute_result"
    }
   ],
   "source": [
    "log(d.chat(\"这是怎么得出来的？\"))"
   ]
  },
  {
   "cell_type": "code",
   "execution_count": 15,
   "id": "f5a78d8a-9de4-4718-be14-a900cc20fc60",
   "metadata": {},
   "outputs": [
    {
     "name": "stdout",
     "output_type": "stream",
     "text": [
      "[TOOLS_CALL] \u001b[34m{\"index\": 0, \"id\": \"call_72521e92b59a461b897e73\", \"type\": \"function\", \"function\": {\"name\": \"get_current_weather\", \"arguments\": \"\"}}\u001b[0m\n",
      "[TOOLS_CALL] \u001b[34m{\"index\": 0, \"id\": \"\", \"type\": \"function\", \"function\": {\"arguments\": \"{\\\"location\\\": \\\"\"}}\u001b[0m\n",
      "[TOOLS_CALL] \u001b[34m{\"index\": 0, \"id\": \"\", \"type\": \"function\", \"function\": {\"arguments\": \"上海\\\"}\"}}\u001b[0m\n",
      "[TOOLS_CALL] \u001b[34m{\"index\": 0, \"id\": \"\", \"type\": \"function\", \"function\": {}}\u001b[0m\n",
      "[TOOLS_CALL_FINAL] \u001b[34m{\"0\": {\"index\": 0, \"id\": \"call_72521e92b59a461b897e73\", \"type\": \"function\", \"function\": {\"name\": \"get_current_weather\", \"arguments\": \"{\\\"location\\\": \\\"上海\\\"}\"}}}\u001b[0m\n",
      "\u001b[34m上\u001b[0m\u001b[34m海\u001b[0m\u001b[34m今\u001b[0m\u001b[34m天\u001b[0m\u001b[34m是\u001b[0m\u001b[34m晴\u001b[0m\u001b[34m天\u001b[0m\u001b[34m。\u001b[0m\u001b[34m \u001b[0m\n",
      "\n",
      "\u001b[32m上\u001b[0m\u001b[32m海\u001b[0m\u001b[32m今天的天气也是晴朗\u001b[0m\u001b[32m的。\u001b[0m\u001b[32m\u001b[0m\n",
      "\n",
      "[END] \u001b[34m【内容由幻蝶AI生成，其观点仅代表创作者个人立场，可登录 http://www.illufly.com 查验其校验码 22977051】\u001b[0m\n"
     ]
    },
    {
     "data": {
      "text/plain": [
       "'上海今天的天气也是晴朗的。'"
      ]
     },
     "execution_count": 15,
     "metadata": {},
     "output_type": "execute_result"
    }
   ],
   "source": [
    "log(d.chat(\"再看看上海\"))"
   ]
  },
  {
   "cell_type": "code",
   "execution_count": 16,
   "id": "d346cd93-8539-4570-bcea-ecbdf370e0a7",
   "metadata": {},
   "outputs": [
    {
     "data": {
      "text/plain": [
       "State(output=<None>, messages=<8>, data=<None>, knowledge=<>)"
      ]
     },
     "execution_count": 16,
     "metadata": {},
     "output_type": "execute_result"
    }
   ],
   "source": [
    "d.state"
   ]
  },
  {
   "cell_type": "markdown",
   "id": "ff5dc51e-03ab-451d-8528-5615a38a2e7c",
   "metadata": {},
   "source": [
    "### 异步调用"
   ]
  },
  {
   "cell_type": "code",
   "execution_count": 4,
   "id": "ff999a02-3a1f-49b1-967c-b30b6542769a",
   "metadata": {},
   "outputs": [],
   "source": [
    "from textlong.tools import tool, convert_to_openai_tool\n",
    "from textlong.llm import qwen\n",
    "from textlong.desk import Desk\n",
    "from textlong.io import alog\n",
    "import json\n",
    "\n",
    "@tool\n",
    "def get_current_weather(location: str):\n",
    "    \"\"\"获取城市的天气情况\"\"\"\n",
    "    return f\"{location}今天是晴天。 \"\n",
    "\n",
    "messages = []\n",
    "d = Desk(qwen, toolkits=[get_current_weather], tools=[convert_to_openai_tool(get_current_weather)])"
   ]
  },
  {
   "cell_type": "code",
   "execution_count": 6,
   "id": "579884d8-2203-46b7-87ac-af181f75d7b8",
   "metadata": {},
   "outputs": [
    {
     "name": "stdout",
     "output_type": "stream",
     "text": [
      "[TOOLS_CALL_CHUNK] \u001b[32m{\"index\": 0, \"id\": \"call_1bd5ab607b9c4f3aac2819\", \"type\": \"function\", \"function\": {\"name\": \"get_current_weather\", \"arguments\": \"\"}}\u001b[0m\n",
      "[TOOLS_CALL_CHUNK] \u001b[32m{\"index\": 0, \"id\": \"\", \"type\": \"function\", \"function\": {\"arguments\": \"{\\\"location\\\": \\\"\"}}\u001b[0m\n",
      "[TOOLS_CALL_CHUNK] \u001b[32m{\"index\": 0, \"id\": \"\", \"type\": \"function\", \"function\": {\"arguments\": \"广州\\\"}\"}}\u001b[0m\n",
      "[TOOLS_CALL_CHUNK] \u001b[32m{\"index\": 0, \"id\": \"\", \"type\": \"function\", \"function\": {}}\u001b[0m\n",
      "[TOOLS_CALL_FINAL] \u001b[36m{\"0\": {\"index\": 0, \"id\": \"call_1bd5ab607b9c4f3aac2819\", \"type\": \"function\", \"function\": {\"name\": \"get_current_weather\", \"arguments\": \"{\\\"location\\\": \\\"广州\\\"}\"}}}\u001b[0m\n",
      "\u001b[32m广\u001b[0m\u001b[32m州\u001b[0m\u001b[32m今\u001b[0m\u001b[32m天\u001b[0m\u001b[32m是\u001b[0m\u001b[32m晴\u001b[0m\u001b[32m天\u001b[0m\u001b[32m。\u001b[0m\u001b[32m \u001b[0m\n",
      "\n",
      "\u001b[32m广\u001b[0m\u001b[32m州今天是晴天\u001b[0m\u001b[32m，没有下雨。\u001b[0m\u001b[32m\u001b[0m\n",
      "\n",
      "[END] \u001b[34m【内容由幻蝶AI生成，其观点仅代表创作者个人立场，可登录 http://www.illufly.com 查验其校验码 42846926】\u001b[0m\n"
     ]
    },
    {
     "data": {
      "text/plain": [
       "'广州今天是晴天，没有下雨。'"
      ]
     },
     "execution_count": 6,
     "metadata": {},
     "output_type": "execute_result"
    }
   ],
   "source": [
    "await alog(d.achat(\"广州下雨不？\"))"
   ]
  },
  {
   "cell_type": "markdown",
   "id": "a999b6b4-dea0-4ea9-8951-61e6c99a9aa9",
   "metadata": {},
   "source": [
    "## 写作提示语模板"
   ]
  },
  {
   "cell_type": "code",
   "execution_count": 17,
   "id": "1bbed0f8-1a77-4b9e-9227-37dff26abf4f",
   "metadata": {},
   "outputs": [],
   "source": [
    "from textlong.hub import load_chat_template, load_resource_chat_template"
   ]
  },
  {
   "cell_type": "markdown",
   "id": "173b5dbe-360a-41ba-97ee-f944b7293f04",
   "metadata": {},
   "source": [
    "### 加载对话模板的资源\n",
    "\n",
    "指定资源库中的模板ID即可加载模板。"
   ]
  },
  {
   "cell_type": "code",
   "execution_count": 18,
   "id": "dc6cfba0-b58a-445a-9c85-32213033d0b1",
   "metadata": {},
   "outputs": [
    {
     "data": {
      "text/plain": [
       "PromptTemplate(input_variables=['task'], template='你是强大的写作助手。\\n\\n你必须遵循以下约束来完成任务:\\n1. 直接输出你的结果，不要评论，不要啰嗦\\n2. 使用markdown格式输出\\n\\n**你的任务是:**\\n{{task}}\\n', template_format='mustache')"
      ]
     },
     "execution_count": 18,
     "metadata": {},
     "output_type": "execute_result"
    }
   ],
   "source": [
    "load_chat_template(\"IDEA\")"
   ]
  },
  {
   "cell_type": "code",
   "execution_count": 19,
   "id": "113b4bfb-d5b5-4635-bb02-0b32024d1d1c",
   "metadata": {},
   "outputs": [
    {
     "data": {
      "text/plain": [
       "PromptTemplate(input_variables=['task'], template='你是强大的写作助手。\\n\\n你必须遵循以下约束来完成任务:\\n1. 直接输出你的结果，不要评论，不要啰嗦\\n2. 使用markdown格式输出\\n3. 请按照需要输出一份写作提纲\\n4. 提纲的构成应当由多个阔系额要求构成\\n5. 扩写要求必须包含清晰描述，如预估字数、创意要点、创作思路、创作中涉及到的实体名称等\\n5. 每一个扩写要求由完整的 `<OUTLINE>`和`</OUTLINE>` 包裹\\n6. 你只能输出提纲，不要输出具体的扩写内容\\n\\n**你的任务是:**\\n{{task}}\\n\\n\\n**输出例子1**\\n```\\n# 第一章 标题1\\n## 一、XXXX\\n<OUTLINE>\\n扩写摘要:\\n对扩写内容做摘要总结\\n\\n扩写要求：\\n- xxx\\n- xxx\\n</OUTLINE>\\n\\n## 二、XXXX\\n<OUTLINE>\\n</OUTLINE>\\n\\n## （更多扩写提纲）\\n```\\n\\n', template_format='mustache')"
      ]
     },
     "execution_count": 19,
     "metadata": {},
     "output_type": "execute_result"
    }
   ],
   "source": [
    "load_chat_template(\"OUTLINE\")"
   ]
  },
  {
   "cell_type": "markdown",
   "id": "60919f9d-d687-498d-a36c-68b56ebec19e",
   "metadata": {},
   "source": [
    "### 查看构造出的提示语模板"
   ]
  },
  {
   "cell_type": "code",
   "execution_count": 20,
   "id": "69e492c6-bbdf-4fc5-95e9-0aae43a98c30",
   "metadata": {},
   "outputs": [
    {
     "name": "stdout",
     "output_type": "stream",
     "text": [
      "你是强大的写作助手。\n",
      "\n",
      "你必须遵循以下约束来完成任务:\n",
      "1. 直接输出你的结果，不要评论，不要啰嗦\n",
      "2. 使用markdown格式输出\n",
      "3. 请按照需要输出一份写作提纲\n",
      "4. 提纲的构成应当由多个阔系额要求构成\n",
      "5. 扩写要求必须包含清晰描述，如预估字数、创意要点、创作思路、创作中涉及到的实体名称等\n",
      "5. 每一个扩写要求由完整的 `<OUTLINE>`和`</OUTLINE>` 包裹\n",
      "6. 你只能输出提纲，不要输出具体的扩写内容\n",
      "\n",
      "**你的任务是:**\n",
      "请帮我写一首歌\n",
      "\n",
      "\n",
      "**输出例子1**\n",
      "```\n",
      "# 第一章 标题1\n",
      "## 一、XXXX\n",
      "<OUTLINE>\n",
      "扩写摘要:\n",
      "对扩写内容做摘要总结\n",
      "\n",
      "扩写要求：\n",
      "- xxx\n",
      "- xxx\n",
      "</OUTLINE>\n",
      "\n",
      "## 二、XXXX\n",
      "<OUTLINE>\n",
      "</OUTLINE>\n",
      "\n",
      "## （更多扩写提纲）\n",
      "```\n",
      "\n",
      "\n"
     ]
    }
   ],
   "source": [
    "print(load_chat_template(\"OUTLINE\").format(task=\"请帮我写一首歌\"))"
   ]
  },
  {
   "cell_type": "markdown",
   "id": "14216ff2-faba-4015-b262-6a8c8eba2457",
   "metadata": {},
   "source": [
    "### 单轮写作"
   ]
  },
  {
   "cell_type": "code",
   "execution_count": 1,
   "id": "20a94ba4-63b4-4933-950d-334ebcaf4a55",
   "metadata": {},
   "outputs": [],
   "source": [
    "from textlong.llm import qwen, fake_llm\n",
    "from textlong.desk import Desk\n",
    "from textlong.io import log, alog\n",
    "\n",
    "d = Desk(qwen)"
   ]
  },
  {
   "cell_type": "code",
   "execution_count": 2,
   "id": "dd0df2ad-8e00-4841-8213-249851b483ce",
   "metadata": {},
   "outputs": [
    {
     "name": "stdout",
     "output_type": "stream",
     "text": [
      "\u001b[32m小白\u001b[0m\u001b[32m兔\u001b[0m\u001b[32m白\u001b[0m\u001b[32m又白，  \n",
      "耳朵\u001b[0m\u001b[32m长长跳得欢。  \n",
      "爱吃萝卜\u001b[0m\u001b[32m和青菜，  \n",
      "蹦蹦跳\u001b[0m\u001b[32m跳真可爱。\u001b[0m\u001b[32m\u001b[0m\n",
      "\n",
      "[END] \u001b[34m【内容由幻蝶AI生成，其观点仅代表创作者个人立场，可登录 http://www.illufly.com 查验其校验码 75971425】\u001b[0m\n"
     ]
    },
    {
     "data": {
      "text/plain": [
       "'小白兔白又白，  \\n耳朵长长跳得欢。  \\n爱吃萝卜和青菜，  \\n蹦蹦跳跳真可爱。'"
      ]
     },
     "execution_count": 2,
     "metadata": {},
     "output_type": "execute_result"
    }
   ],
   "source": [
    "log(d.write(\"帮我写一首关于兔子的四句儿歌\", template=\"IDEA\"))"
   ]
  },
  {
   "cell_type": "code",
   "execution_count": 3,
   "id": "930ee36b-b5cb-4b7c-8867-2aceeee440b1",
   "metadata": {},
   "outputs": [
    {
     "name": "stdout",
     "output_type": "stream",
     "text": [
      "\u001b[32m小白\u001b[0m\u001b[32m兔\u001b[0m\u001b[32m白\u001b[0m\u001b[32m又白，\n",
      "耳朵长长\u001b[0m\u001b[32m跳得欢。\n",
      "爱吃萝卜和青\u001b[0m\u001b[32m菜，\n",
      "蹦蹦跳跳真可爱\u001b[0m\u001b[32m。\u001b[0m\u001b[32m\u001b[0m\n",
      "\n",
      "[END] \u001b[34m【内容由幻蝶AI生成，其观点仅代表创作者个人立场，可登录 http://www.illufly.com 查验其校验码 36764839】\u001b[0m\n"
     ]
    },
    {
     "data": {
      "text/plain": [
       "'小白兔白又白，\\n耳朵长长跳得欢。\\n爱吃萝卜和青菜，\\n蹦蹦跳跳真可爱。'"
      ]
     },
     "execution_count": 3,
     "metadata": {},
     "output_type": "execute_result"
    }
   ],
   "source": [
    "await alog(d.awrite(\"帮我写一首关于兔子的四句儿歌\", template=\"IDEA\"))"
   ]
  },
  {
   "cell_type": "code",
   "execution_count": 23,
   "id": "9ccad612-2b1e-44f7-ab04-4b6c6ad0f46d",
   "metadata": {},
   "outputs": [
    {
     "name": "stdout",
     "output_type": "stream",
     "text": [
      "[INFO] \u001b[34msystem: 你是强大的写作助手。\n",
      "\n",
      "你必须遵循以下约束来完成任务:\n",
      "1. 直接输出你的结果，不要评论，不要啰嗦\n",
      "2. 使用markdown格式输出\n",
      "\n",
      "**你的任务是:**\n",
      "帮我写一首关于兔子的四句儿歌\n",
      "\u001b[0m\n",
      "[INFO] \u001b[34muser: 请开始\u001b[0m\n",
      "[INFO] \u001b[34massistant: 小白兔白又白，  \n",
      "耳朵长长跳得欢。  \n",
      "爱吃萝卜和青菜，  \n",
      "蹦蹦跳跳真可爱。\u001b[0m\n",
      "[INFO] \u001b[34muser: 它喜欢吃什么？\u001b[0m\n",
      "\u001b[32m这\u001b[0m\u001b[32m是\u001b[0m\u001b[32m一个\u001b[0m\u001b[32m模拟\u001b[0m\u001b[32m调用\u001b[0m\u001b[32m!\u001b[0m\n",
      "\n",
      "[END] \u001b[34m【内容由幻蝶AI生成，其观点仅代表创作者个人立场，可登录 http://www.illufly.com 查验其校验码 88267255】\u001b[0m\n"
     ]
    },
    {
     "data": {
      "text/plain": [
       "'这是一个模拟调用!'"
      ]
     },
     "execution_count": 23,
     "metadata": {},
     "output_type": "execute_result"
    }
   ],
   "source": [
    "log(d.chat(\"它喜欢吃什么？\", k=1, llm=fake_llm))"
   ]
  },
  {
   "cell_type": "code",
   "execution_count": 4,
   "id": "be17cd62-7257-4bb0-8374-52ac987c7c53",
   "metadata": {},
   "outputs": [
    {
     "name": "stdout",
     "output_type": "stream",
     "text": [
      "[INFO] \u001b[34m没有提纲可供扩写\u001b[0m\n"
     ]
    },
    {
     "data": {
      "text/plain": [
       "''"
      ]
     },
     "execution_count": 4,
     "metadata": {},
     "output_type": "execute_result"
    }
   ],
   "source": [
    "await alog(d.afrom_outline())"
   ]
  },
  {
   "cell_type": "code",
   "execution_count": 25,
   "id": "0f5d03f2-169e-4bef-9fa9-1d0264dba923",
   "metadata": {},
   "outputs": [
    {
     "data": {
      "text/plain": [
       "[{'role': 'system',\n",
       "  'content': '你是强大的写作助手。\\n\\n你必须遵循以下约束来完成任务:\\n1. 直接输出你的结果，不要评论，不要啰嗦\\n2. 使用markdown格式输出\\n\\n**你的任务是:**\\n帮我写一首关于兔子的四句儿歌\\n'},\n",
       " {'role': 'user', 'content': '请开始'},\n",
       " {'role': 'assistant',\n",
       "  'content': '小白兔白又白，  \\n耳朵长长跳得欢。  \\n爱吃萝卜和青菜，  \\n蹦蹦跳跳真可爱。'},\n",
       " {'role': 'user', 'content': '它喜欢吃什么？'},\n",
       " {'role': 'assistant', 'content': '这是一个模拟调用!'}]"
      ]
     },
     "execution_count": 25,
     "metadata": {},
     "output_type": "execute_result"
    }
   ],
   "source": [
    "d.messages"
   ]
  },
  {
   "cell_type": "markdown",
   "id": "71b88acd-1aac-4e7c-84e9-af23998a9214",
   "metadata": {},
   "source": [
    "### 单轮写作 + 回调工具"
   ]
  },
  {
   "cell_type": "code",
   "execution_count": 26,
   "id": "228c4106-3b9f-4e2c-b1d1-21d7aae69f1a",
   "metadata": {},
   "outputs": [
    {
     "name": "stdout",
     "output_type": "stream",
     "text": [
      "[TOOLS_CALL] \u001b[34m{\"index\": 0, \"id\": \"call_1359345025244ee08210ab\", \"type\": \"function\", \"function\": {\"name\": \"get_current_weather\", \"arguments\": \"\"}}\u001b[0m\n",
      "[TOOLS_CALL] \u001b[34m{\"index\": 0, \"id\": \"\", \"type\": \"function\", \"function\": {\"arguments\": \"{\\\"location\\\": \\\"\"}}\u001b[0m\n",
      "[TOOLS_CALL] \u001b[34m{\"index\": 0, \"id\": \"\", \"type\": \"function\", \"function\": {\"arguments\": \"广州\\\"}\"}}\u001b[0m\n",
      "[TOOLS_CALL] \u001b[34m{\"index\": 0, \"id\": \"\", \"type\": \"function\", \"function\": {}}\u001b[0m\n",
      "[TOOLS_CALL_FINAL] \u001b[34m{\"0\": {\"index\": 0, \"id\": \"call_1359345025244ee08210ab\", \"type\": \"function\", \"function\": {\"name\": \"get_current_weather\", \"arguments\": \"{\\\"location\\\": \\\"广州\\\"}\"}}}\u001b[0m\n",
      "\u001b[34m广\u001b[0m\u001b[34m州\u001b[0m\u001b[34m今\u001b[0m\u001b[34m天\u001b[0m\u001b[34m下\u001b[0m\u001b[34m大\u001b[0m\u001b[34m雨\u001b[0m\u001b[34m。\u001b[0m\u001b[34m \u001b[0m\n",
      "\n",
      "\u001b[32m雨\u001b[0m\u001b[32m珠\u001b[0m\u001b[32m倾洒羊城间\u001b[0m\u001b[32m，  \n",
      "湿漉街巷映云\u001b[0m\u001b[32m天。  \n",
      "伞花朵开人潮\u001b[0m\u001b[32m中，  \n",
      "共舞水珠谱\u001b[0m\u001b[32m新篇。\u001b[0m\u001b[32m\u001b[0m\n",
      "\n",
      "[END] \u001b[34m【内容由幻蝶AI生成，其观点仅代表创作者个人立场，可登录 http://www.illufly.com 查验其校验码 55503433】\u001b[0m\n"
     ]
    },
    {
     "data": {
      "text/plain": [
       "'雨珠倾洒羊城间，  \\n湿漉街巷映云天。  \\n伞花朵开人潮中，  \\n共舞水珠谱新篇。'"
      ]
     },
     "execution_count": 26,
     "metadata": {},
     "output_type": "execute_result"
    }
   ],
   "source": [
    "from textlong.tools import tool, convert_to_openai_tool\n",
    "from textlong.llm import qwen\n",
    "from textlong.desk import Desk\n",
    "from textlong.io import log\n",
    "import json\n",
    "\n",
    "@tool\n",
    "def get_current_weather(location: str):\n",
    "    \"\"\"获取城市的天气情况\"\"\"\n",
    "    return f\"{location}今天下大雨。 \"\n",
    "\n",
    "d = Desk(qwen, tools=[convert_to_openai_tool(get_current_weather)], toolkits=[get_current_weather])\n",
    "log(d.write({\"task\": \"根据广州今天的天气写一首4句歌词\"}, template=\"IDEA\"))"
   ]
  },
  {
   "cell_type": "code",
   "execution_count": 27,
   "id": "ce397842-9d6c-4d87-8e70-19850babd1e4",
   "metadata": {},
   "outputs": [
    {
     "data": {
      "text/plain": [
       "'雨珠倾洒羊城间，  \\n湿漉街巷映云天。  \\n伞花朵开人潮中，  \\n共舞水珠谱新篇。\\n\\n'"
      ]
     },
     "execution_count": 27,
     "metadata": {},
     "output_type": "execute_result"
    }
   ],
   "source": [
    "d.output"
   ]
  },
  {
   "cell_type": "markdown",
   "id": "3eb3f172-e76a-4933-b039-afc635d58ae9",
   "metadata": {},
   "source": [
    "### 单轮写作 + 多轮对话"
   ]
  },
  {
   "cell_type": "code",
   "execution_count": 28,
   "id": "23c1241c-6f5d-4773-ab83-8a5e04ac4d6b",
   "metadata": {},
   "outputs": [
    {
     "name": "stdout",
     "output_type": "stream",
     "text": [
      "\u001b[32m雨\u001b[0m\u001b[32m幕\u001b[0m\u001b[32m密\u001b[0m\u001b[32m织笼羊城，\u001b[0m\u001b[32m  \n",
      "珠水潺潺和雨声\u001b[0m\u001b[32m。  \n",
      "行人匆匆油纸伞，\u001b[0m\u001b[32m  \n",
      "街头巷尾水墨情。\u001b[0m\u001b[32m  \n",
      "\n",
      "乌云压顶天色暗，\u001b[0m\u001b[32m  \n",
      "却映繁华灯火明。\u001b[0m\u001b[32m  \n",
      "绿叶更翠吸甘霖，\u001b[0m\u001b[32m  \n",
      "花儿含羞带雨睛\u001b[0m\u001b[32m。  \n",
      "\n",
      "孩童笑语跳水坑\u001b[0m\u001b[32m，  \n",
      "回忆童年那份真。\u001b[0m\u001b[32m  \n",
      "雨后空气泛清新，  \n",
      "广州\u001b[0m\u001b[32m雨天也醉人。\u001b[0m\u001b[32m\u001b[0m\n",
      "\n",
      "[END] \u001b[34m【内容由幻蝶AI生成，其观点仅代表创作者个人立场，可登录 http://www.illufly.com 查验其校验码 35775428】\u001b[0m\n"
     ]
    },
    {
     "data": {
      "text/plain": [
       "'雨幕密织笼羊城，  \\n珠水潺潺和雨声。  \\n行人匆匆油纸伞，  \\n街头巷尾水墨情。  \\n\\n乌云压顶天色暗，  \\n却映繁华灯火明。  \\n绿叶更翠吸甘霖，  \\n花儿含羞带雨睛。  \\n\\n孩童笑语跳水坑，  \\n回忆童年那份真。  \\n雨后空气泛清新，  \\n广州雨天也醉人。'"
      ]
     },
     "execution_count": 28,
     "metadata": {},
     "output_type": "execute_result"
    }
   ],
   "source": [
    "log(d.chat(\"改为8句吧\"))"
   ]
  },
  {
   "cell_type": "code",
   "execution_count": 29,
   "id": "5f6a857f-885a-449a-8c20-cc478a8502a4",
   "metadata": {},
   "outputs": [
    {
     "data": {
      "text/plain": [
       "[{'role': 'system',\n",
       "  'content': '你是强大的写作助手。\\n\\n你必须遵循以下约束来完成任务:\\n1. 直接输出你的结果，不要评论，不要啰嗦\\n2. 使用markdown格式输出\\n\\n**你的任务是:**\\n根据广州今天的天气写一首4句歌词\\n'},\n",
       " {'role': 'user', 'content': '请开始'},\n",
       " {'role': 'assistant',\n",
       "  'content': '',\n",
       "  'tool_calls': [{'index': 0,\n",
       "    'id': 'call_1359345025244ee08210ab',\n",
       "    'type': 'function',\n",
       "    'function': {'name': 'get_current_weather',\n",
       "     'arguments': '{\"location\": \"广州\"}'}}]},\n",
       " {'role': 'tool', 'name': 'get_current_weather', 'content': '广州今天下大雨。 '},\n",
       " {'role': 'assistant',\n",
       "  'content': '雨珠倾洒羊城间，  \\n湿漉街巷映云天。  \\n伞花朵开人潮中，  \\n共舞水珠谱新篇。'},\n",
       " {'role': 'user', 'content': '改为8句吧'},\n",
       " {'role': 'assistant',\n",
       "  'content': '雨幕密织笼羊城，  \\n珠水潺潺和雨声。  \\n行人匆匆油纸伞，  \\n街头巷尾水墨情。  \\n\\n乌云压顶天色暗，  \\n却映繁华灯火明。  \\n绿叶更翠吸甘霖，  \\n花儿含羞带雨睛。  \\n\\n孩童笑语跳水坑，  \\n回忆童年那份真。  \\n雨后空气泛清新，  \\n广州雨天也醉人。'}]"
      ]
     },
     "execution_count": 29,
     "metadata": {},
     "output_type": "execute_result"
    }
   ],
   "source": [
    "d.messages"
   ]
  },
  {
   "cell_type": "code",
   "execution_count": 30,
   "id": "e9e63c6b-af47-4595-a581-90494477e0eb",
   "metadata": {},
   "outputs": [
    {
     "name": "stdout",
     "output_type": "stream",
     "text": [
      "\u001b[32m是\u001b[0m\u001b[32m的\u001b[0m\u001b[32m，\u001b[0m\u001b[32m这首诗采用了古典诗歌\u001b[0m\u001b[32m的风格和意象，每句\u001b[0m\u001b[32m四字或五字，描绘了\u001b[0m\u001b[32m广州雨天的景色与城市生活的\u001b[0m\u001b[32m温馨画面，融入了自然美与\u001b[0m\u001b[32m人文情感，体现了古典诗词的韵味\u001b[0m\u001b[32m。\u001b[0m\u001b[32m\u001b[0m\n",
      "\n",
      "[END] \u001b[34m【内容由幻蝶AI生成，其观点仅代表创作者个人立场，可登录 http://www.illufly.com 查验其校验码 96455443】\u001b[0m\n"
     ]
    },
    {
     "data": {
      "text/plain": [
       "'是的，这首诗采用了古典诗歌的风格和意象，每句四字或五字，描绘了广州雨天的景色与城市生活的温馨画面，融入了自然美与人文情感，体现了古典诗词的韵味。'"
      ]
     },
     "execution_count": 30,
     "metadata": {},
     "output_type": "execute_result"
    }
   ],
   "source": [
    "from textlong.llm import fake_llm\n",
    "log(d.chat(\"这是古典诗歌吗？\", llm=qwen, k=1))"
   ]
  },
  {
   "cell_type": "markdown",
   "id": "e34807b3-7deb-442f-a047-8d333b0ee973",
   "metadata": {},
   "source": [
    "### 提纲 + 扩写"
   ]
  },
  {
   "cell_type": "code",
   "execution_count": 5,
   "id": "2b20b60c-999d-4ade-8f1c-832a2fbb1a26",
   "metadata": {},
   "outputs": [],
   "source": [
    "from textlong.llm import qwen, fake_llm\n",
    "from textlong.desk import Desk\n",
    "from textlong.io import log, alog\n",
    "\n",
    "d = Desk(qwen)"
   ]
  },
  {
   "cell_type": "code",
   "execution_count": 6,
   "id": "2c098f42-df93-49f1-8356-ebe0c48cd2a9",
   "metadata": {},
   "outputs": [
    {
     "name": "stdout",
     "output_type": "stream",
     "text": [
      "\u001b[32m#\u001b[0m\u001b[32m\u001b[0m\u001b[32m 兔\u001b[0m\u001b[32m子的欢乐时光\u001b[0m\u001b[32m\n",
      "## 一、兔子与它的朋友们\u001b[0m\u001b[32m\n",
      "<OUTLINE>\n",
      "扩写摘要\u001b[0m\u001b[32m:\n",
      "介绍兔子在森林中的几位好朋友\u001b[0m\u001b[32m，强调友谊的多彩与温馨。\u001b[0m\u001b[32m\n",
      "\n",
      "扩写要求：\n",
      "- 预\u001b[0m\u001b[32m估字数：30字\u001b[0m\u001b[32m\n",
      "- 创意要点：提到至少\u001b[0m\u001b[32m三种不同的动物作为兔子的朋友，每\u001b[0m\u001b[32m种动物简要描述其特征或\u001b[0m\u001b[32m习性，以增加趣味性和教育\u001b[0m\u001b[32m意义。\n",
      "- 创作思路：\u001b[0m\u001b[32m通过欢快的节奏，展现一个和谐\u001b[0m\u001b[32m共处的动物世界，让孩子们\u001b[0m\u001b[32m感受到友情的美好。\n",
      "- 实体名称\u001b[0m\u001b[32m：兔子、小鸟（爱唱歌）、\u001b[0m\u001b[32m小松鼠（爱收集坚果）、\u001b[0m\u001b[32m小青蛙（跳跳活泼）\n",
      "</\u001b[0m\u001b[32mOUTLINE>\n",
      "\n",
      "## 二、欢\u001b[0m\u001b[32m聚同乐日\n",
      "<OUTLINE\u001b[0m\u001b[32m>\n",
      "扩写摘要:\n",
      "描绘兔子与\u001b[0m\u001b[32m朋友们一起玩耍的快乐场景，强调\u001b[0m\u001b[32m游戏的乐趣和团队合作。\n",
      "\n",
      "扩写\u001b[0m\u001b[32m要求：\n",
      "- 预估字\u001b[0m\u001b[32m数：30字\n",
      "-\u001b[0m\u001b[32m 创意要点：描述一个具体的游戏\u001b[0m\u001b[32m或活动，如“躲猫猫\u001b[0m\u001b[32m”或“森林接力赛”，展示\u001b[0m\u001b[32m每个朋友如何利用自己的特长参与其中\u001b[0m\u001b[32m。\n",
      "- 创作思路：使用\u001b[0m\u001b[32m富有节奏感的语言，营造出一种\u001b[0m\u001b[32m活泼、欢快的氛围，同时传达\u001b[0m\u001b[32m出团结协作的重要性。\n",
      "- 实体\u001b[0m\u001b[32m名称：兔子（灵活领队）、\u001b[0m\u001b[32m小鸟（高空侦查）、小松鼠\u001b[0m\u001b[32m（快速攀爬）、小青蛙（\u001b[0m\u001b[32m池塘裁判）\n",
      "</OUTLINE>\u001b[0m\u001b[32m\u001b[0m\u001b[32m\u001b[0m\n",
      "\n",
      "[END] \u001b[34m【内容由幻蝶AI生成，其观点仅代表创作者个人立场，可登录 http://www.illufly.com 查验其校验码 85962744】\u001b[0m\n"
     ]
    },
    {
     "data": {
      "text/plain": [
       "'# 兔子的欢乐时光\\n## 一、兔子与它的朋友们\\n<OUTLINE>\\n扩写摘要:\\n介绍兔子在森林中的几位好朋友，强调友谊的多彩与温馨。\\n\\n扩写要求：\\n- 预估字数：30字\\n- 创意要点：提到至少三种不同的动物作为兔子的朋友，每种动物简要描述其特征或习性，以增加趣味性和教育意义。\\n- 创作思路：通过欢快的节奏，展现一个和谐共处的动物世界，让孩子们感受到友情的美好。\\n- 实体名称：兔子、小鸟（爱唱歌）、小松鼠（爱收集坚果）、小青蛙（跳跳活泼）\\n</OUTLINE>\\n\\n## 二、欢聚同乐日\\n<OUTLINE>\\n扩写摘要:\\n描绘兔子与朋友们一起玩耍的快乐场景，强调游戏的乐趣和团队合作。\\n\\n扩写要求：\\n- 预估字数：30字\\n- 创意要点：描述一个具体的游戏或活动，如“躲猫猫”或“森林接力赛”，展示每个朋友如何利用自己的特长参与其中。\\n- 创作思路：使用富有节奏感的语言，营造出一种活泼、欢快的氛围，同时传达出团结协作的重要性。\\n- 实体名称：兔子（灵活领队）、小鸟（高空侦查）、小松鼠（快速攀爬）、小青蛙（池塘裁判）\\n</OUTLINE>'"
      ]
     },
     "execution_count": 6,
     "metadata": {},
     "output_type": "execute_result"
    }
   ],
   "source": [
    "await alog(d.awrite({\n",
    "    \"task\": \"帮我写一首关于兔子的儿歌，两段即可，第一段些兔子有哪些朋友，第二段些和朋友们一起玩（要求提到具体的朋友）\"\n",
    "}))"
   ]
  },
  {
   "cell_type": "code",
   "execution_count": 6,
   "id": "6e851f11-b231-44a2-8909-646110b79c1d",
   "metadata": {},
   "outputs": [
    {
     "name": "stdout",
     "output_type": "stream",
     "text": [
      "2909-353-000\n",
      "2909-055-001\n",
      "2909-839-002\n",
      "2909-809-003\n",
      "2909-406-004\n",
      "2909-887-005\n",
      "2909-958-006\n"
     ]
    }
   ],
   "source": [
    "for doc in d.state.markdown.documents:\n",
    "    print(doc.metadata['id'])"
   ]
  },
  {
   "cell_type": "code",
   "execution_count": 7,
   "id": "7f4036af-4fbe-4f8a-b416-6e4546d25a44",
   "metadata": {},
   "outputs": [
    {
     "name": "stdout",
     "output_type": "stream",
     "text": [
      "[INFO] \u001b[34m执行扩写任务 <1898-638-002>：\n",
      "扩写摘要:\n",
      "介绍兔子在森林中的几位好朋友，强调友谊的多彩与温馨。\n",
      "\n",
      "扩写要求：\n",
      "- 预估字数：30字\n",
      "- 创意要点：提到至少三种不同的动物作为兔子的朋友，每种动物简要描述其特征或习性，以增加趣味性和教育意义。\n",
      "- 创作思路：通过欢快的节奏，展现一个和谐共处的动物世界，让孩子们感受到友情的美好。\n",
      "- 实体名称：兔子、小鸟（爱唱歌）、小松鼠（爱收集坚果）、小青蛙（跳跳活泼）\u001b[0m\n",
      "\u001b[32m##\u001b[0m\u001b[32m\u001b[0m\u001b[32m 一\u001b[0m\u001b[32m、兔子与它的朋友们\u001b[0m\u001b[32m\n",
      "\n",
      "在葱郁的森林深处，\u001b[0m\u001b[32m兔子拥有一群快乐的伙伴。\u001b[0m\u001b[32m有爱在晨光中唱着\u001b[0m\u001b[32m悦耳歌曲的小鸟，它们的\u001b[0m\u001b[32m旋律总能让森林充满生机；小\u001b[0m\u001b[32m松鼠是位勤劳的坚果收藏\u001b[0m\u001b[32m家，蹦蹦跳跳间，\u001b[0m\u001b[32m为冬天储粮，它那毛\u001b[0m\u001b[32m茸茸的大尾巴，是森林中最\u001b[0m\u001b[32m温暖的风景；还有小青蛙，\u001b[0m\u001b[32m一蹦一跳活泼极了，\u001b[0m\u001b[32m它绿油油的身影在池塘\u001b[0m\u001b[32m边忽隐忽现，讲述着\u001b[0m\u001b[32m勇敢探险的故事。这三两知己\u001b[0m\u001b[32m，让兔子的每一天都充满了色彩\u001b[0m\u001b[32m与欢笑。\u001b[0m\u001b[32m\u001b[0m\n",
      "\n",
      "[END] \u001b[34m【内容由幻蝶AI生成，其观点仅代表创作者个人立场，可登录 http://www.illufly.com 查验其校验码 40107261】\u001b[0m\n",
      "[INFO] \u001b[34m执行扩写任务 <1898-397-005>：\n",
      "扩写摘要:\n",
      "描绘兔子与朋友们一起玩耍的快乐场景，强调游戏的乐趣和团队合作。\n",
      "\n",
      "扩写要求：\n",
      "- 预估字数：30字\n",
      "- 创意要点：描述一个具体的游戏或活动，如“躲猫猫”或“森林接力赛”，展示每个朋友如何利用自己的特长参与其中。\n",
      "- 创作思路：使用富有节奏感的语言，营造出一种活泼、欢快的氛围，同时传达出团结协作的重要性。\n",
      "- 实体名称：兔子（灵活领队）、小鸟（高空侦查）、小松鼠（快速攀爬）、小青蛙（池塘裁判）\u001b[0m\n",
      "\u001b[32m##\u001b[0m\u001b[32m\u001b[0m\u001b[32m 二\u001b[0m\u001b[32m、欢聚同乐\u001b[0m\u001b[32m日\n",
      "\n",
      "阳光洒满林间空\u001b[0m\u001b[32m地，兔子与朋友们开启了“森林\u001b[0m\u001b[32m接力赛”。兔子作为灵活领队\u001b[0m\u001b[32m，灵巧规划路线；小鸟高空\u001b[0m\u001b[32m侦查，指引方向；小松鼠\u001b[0m\u001b[32m在树木间快速攀爬，展示\u001b[0m\u001b[32m非凡技巧；小青蛙则在池\u001b[0m\u001b[32m塘边担任裁判，公正而欢\u001b[0m\u001b[32m腾。它们穿梭于自然之中，\u001b[0m\u001b[32m每一次接力都伴随着笑声与鼓励，\u001b[0m\u001b[32m共同绘制了一幅活力四射的\u001b[0m\u001b[32m友谊画卷。\u001b[0m\u001b[32m\u001b[0m\n",
      "\n",
      "[END] \u001b[34m【内容由幻蝶AI生成，其观点仅代表创作者个人立场，可登录 http://www.illufly.com 查验其校验码 73708393】\u001b[0m\n"
     ]
    },
    {
     "data": {
      "text/plain": [
       "'## 一、兔子与它的朋友们\\n\\n在葱郁的森林深处，兔子拥有一群快乐的伙伴。有爱在晨光中唱着悦耳歌曲的小鸟，它们的旋律总能让森林充满生机；小松鼠是位勤劳的坚果收藏家，蹦蹦跳跳间，为冬天储粮，它那毛茸茸的大尾巴，是森林中最温暖的风景；还有小青蛙，一蹦一跳活泼极了，它绿油油的身影在池塘边忽隐忽现，讲述着勇敢探险的故事。这三两知己，让兔子的每一天都充满了色彩与欢笑。## 二、欢聚同乐日\\n\\n阳光洒满林间空地，兔子与朋友们开启了“森林接力赛”。兔子作为灵活领队，灵巧规划路线；小鸟高空侦查，指引方向；小松鼠在树木间快速攀爬，展示非凡技巧；小青蛙则在池塘边担任裁判，公正而欢腾。它们穿梭于自然之中，每一次接力都伴随着笑声与鼓励，共同绘制了一幅活力四射的友谊画卷。'"
      ]
     },
     "execution_count": 7,
     "metadata": {},
     "output_type": "execute_result"
    }
   ],
   "source": [
    "await alog(d.afrom_outline(llm=qwen))"
   ]
  },
  {
   "cell_type": "code",
   "execution_count": 8,
   "id": "e4e13926-751e-470d-9e74-bd00198fb13d",
   "metadata": {},
   "outputs": [
    {
     "data": {
      "text/plain": [
       "{'1898-638-002': [{'role': 'system',\n",
       "   'content': '你是强大的写作助手。\\n\\n你必须遵循以下约束来完成任务:\\n1. 直接输出你的结果，不要评论，不要啰嗦\\n2. 使用markdown格式输出\\n3. 你必须根据已有提纲扩写，不要修改提纲中对扩写的要求和限定，不要额外发挥\\n\\n**已有文字草稿如下:**\\n```markdown\\n# 兔子的欢乐时光\\n\\n## 一、兔子与它的朋友们\\n\\n&lt;&lt;&lt;YOUR_TEXT&gt;&gt;&gt;\\n\\n\\n## 二、欢聚同乐日\\n\\n...\\n\\n```\\n\\n**请你按照如下扩写任务要求生成一段文字，使其适合替换上面文字草稿中`<<<YOUR_TEXT>>>`所在位置:**\\n```markdown\\n扩写摘要:\\n介绍兔子在森林中的几位好朋友，强调友谊的多彩与温馨。\\n\\n扩写要求：\\n- 预估字数：30字\\n- 创意要点：提到至少三种不同的动物作为兔子的朋友，每种动物简要描述其特征或习性，以增加趣味性和教育意义。\\n- 创作思路：通过欢快的节奏，展现一个和谐共处的动物世界，让孩子们感受到友情的美好。\\n- 实体名称：兔子、小鸟（爱唱歌）、小松鼠（爱收集坚果）、小青蛙（跳跳活泼）\\n```\\n'},\n",
       "  {'role': 'user', 'content': '请开始'},\n",
       "  {'role': 'assistant',\n",
       "   'content': '## 一、兔子与它的朋友们\\n\\n在葱郁的森林深处，兔子拥有一群快乐的伙伴。有爱在晨光中唱着悦耳歌曲的小鸟，它们的旋律总能让森林充满生机；小松鼠是位勤劳的坚果收藏家，蹦蹦跳跳间，为冬天储粮，它那毛茸茸的大尾巴，是森林中最温暖的风景；还有小青蛙，一蹦一跳活泼极了，它绿油油的身影在池塘边忽隐忽现，讲述着勇敢探险的故事。这三两知己，让兔子的每一天都充满了色彩与欢笑。'}],\n",
       " '1898-397-005': [{'role': 'system',\n",
       "   'content': '你是强大的写作助手。\\n\\n你必须遵循以下约束来完成任务:\\n1. 直接输出你的结果，不要评论，不要啰嗦\\n2. 使用markdown格式输出\\n3. 你必须根据已有提纲扩写，不要修改提纲中对扩写的要求和限定，不要额外发挥\\n\\n**已有文字草稿如下:**\\n```markdown\\n# 兔子的欢乐时光\\n\\n## 一、兔子与它的朋友们\\n\\n...\\n\\n## 二、欢聚同乐日\\n\\n&lt;&lt;&lt;YOUR_TEXT&gt;&gt;&gt;\\n\\n\\n```\\n\\n**请你按照如下扩写任务要求生成一段文字，使其适合替换上面文字草稿中`<<<YOUR_TEXT>>>`所在位置:**\\n```markdown\\n扩写摘要:\\n描绘兔子与朋友们一起玩耍的快乐场景，强调游戏的乐趣和团队合作。\\n\\n扩写要求：\\n- 预估字数：30字\\n- 创意要点：描述一个具体的游戏或活动，如“躲猫猫”或“森林接力赛”，展示每个朋友如何利用自己的特长参与其中。\\n- 创作思路：使用富有节奏感的语言，营造出一种活泼、欢快的氛围，同时传达出团结协作的重要性。\\n- 实体名称：兔子（灵活领队）、小鸟（高空侦查）、小松鼠（快速攀爬）、小青蛙（池塘裁判）\\n```\\n'},\n",
       "  {'role': 'user', 'content': '请开始'},\n",
       "  {'role': 'assistant',\n",
       "   'content': '## 二、欢聚同乐日\\n\\n阳光洒满林间空地，兔子与朋友们开启了“森林接力赛”。兔子作为灵活领队，灵巧规划路线；小鸟高空侦查，指引方向；小松鼠在树木间快速攀爬，展示非凡技巧；小青蛙则在池塘边担任裁判，公正而欢腾。它们穿梭于自然之中，每一次接力都伴随着笑声与鼓励，共同绘制了一幅活力四射的友谊画卷。'}]}"
      ]
     },
     "execution_count": 8,
     "metadata": {},
     "output_type": "execute_result"
    }
   ],
   "source": [
    "d.state.from_outline"
   ]
  },
  {
   "cell_type": "code",
   "execution_count": 9,
   "id": "4dfdb075-8e23-4013-a406-06031a1dd296",
   "metadata": {},
   "outputs": [
    {
     "name": "stdout",
     "output_type": "stream",
     "text": [
      "# 兔子的欢乐时光\n",
      "\n",
      "## 一、兔子与它的朋友们\n",
      "\n",
      "\n",
      "在葱郁的森林深处，兔子拥有一群快乐的伙伴。有爱在晨光中唱着悦耳歌曲的小鸟，它们的旋律总能让森林充满生机；小松鼠是位勤劳的坚果收藏家，蹦蹦跳跳间，为冬天储粮，它那毛茸茸的大尾巴，是森林中最温暖的风景；还有小青蛙，一蹦一跳活泼极了，它绿油油的身影在池塘边忽隐忽现，讲述着勇敢探险的故事。这三两知己，让兔子的每一天都充满了色彩与欢笑。\n",
      "\n",
      "\n",
      "## 二、欢聚同乐日\n",
      "\n",
      "\n",
      "阳光洒满林间空地，兔子与朋友们开启了“森林接力赛”。兔子作为灵活领队，灵巧规划路线；小鸟高空侦查，指引方向；小松鼠在树木间快速攀爬，展示非凡技巧；小青蛙则在池塘边担任裁判，公正而欢腾。它们穿梭于自然之中，每一次接力都伴随着笑声与鼓励，共同绘制了一幅活力四射的友谊画卷。\n",
      "\n",
      "\n"
     ]
    }
   ],
   "source": [
    "print(d.output)"
   ]
  },
  {
   "cell_type": "code",
   "execution_count": null,
   "id": "f88295f0-43f4-493d-a124-7f06c01fac5b",
   "metadata": {},
   "outputs": [],
   "source": []
  }
 ],
 "metadata": {
  "jpcodetoc-autonumbering": false,
  "kernelspec": {
   "display_name": "textlong-same-ipykernel",
   "language": "python",
   "name": "textlong-same-ipykernel"
  },
  "language_info": {
   "codemirror_mode": {
    "name": "ipython",
    "version": 3
   },
   "file_extension": ".py",
   "mimetype": "text/x-python",
   "name": "python",
   "nbconvert_exporter": "python",
   "pygments_lexer": "ipython3",
   "version": "3.10.0"
  }
 },
 "nbformat": 4,
 "nbformat_minor": 5
}
