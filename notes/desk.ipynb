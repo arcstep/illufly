{
 "cells": [
  {
   "cell_type": "markdown",
   "id": "532d485f-8069-427a-9934-d74b71f80be1",
   "metadata": {},
   "source": [
    "# 重新定义大模型和智能体"
   ]
  },
  {
   "cell_type": "markdown",
   "id": "daebcb1f-592d-48ec-aa99-f11b3efb377a",
   "metadata": {},
   "source": [
    "## 多轮对话"
   ]
  },
  {
   "cell_type": "markdown",
   "id": "8790399f-d4b4-4dd0-9559-136224b2c7cf",
   "metadata": {},
   "source": [
    "使用`messages`管理多轮对话的记忆。<br>\n",
    "你也可以在`chat`函数中通过参数`k`限制希望保留的对话轮次，但这不影响`messages`记录完整的对话过程。"
   ]
  },
  {
   "cell_type": "code",
   "execution_count": 3,
   "id": "db74091f-7698-4d62-9aee-68f36e2c0a7b",
   "metadata": {},
   "outputs": [],
   "source": [
    "from textlong.llm import fake_llm, zhipu, qwen\n",
    "from textlong.desk import Desk\n",
    "\n",
    "d = Desk(zhipu)"
   ]
  },
  {
   "cell_type": "markdown",
   "id": "f37bd094-5a80-47f0-b80c-76e4ab0480ec",
   "metadata": {},
   "source": [
    "### 默认记住10轮"
   ]
  },
  {
   "cell_type": "code",
   "execution_count": 4,
   "id": "1b0ff138-b0ed-43d3-8c01-bef4f1acaa5f",
   "metadata": {},
   "outputs": [
    {
     "name": "stdout",
     "output_type": "stream",
     "text": [
      "\u001b[32m当然\u001b[0m\u001b[32m可以\u001b[0m\u001b[32m！\u001b[0m\u001b[32m以下\u001b[0m\u001b[32m是一\u001b[0m\u001b[32m首\u001b[0m\u001b[32m关于\u001b[0m\u001b[32m兔子\u001b[0m\u001b[32m做梦\u001b[0m\u001b[32m的\u001b[0m\u001b[32m儿\u001b[0m\u001b[32m歌\u001b[0m\u001b[32m：\n",
      "\n",
      "小\u001b[0m\u001b[32m兔子\u001b[0m\u001b[32m，\u001b[0m\u001b[32m梦\u001b[0m\u001b[32m儿\u001b[0m\u001b[32m香\u001b[0m\u001b[32m，\n",
      "跳跃\u001b[0m\u001b[32m在\u001b[0m\u001b[32m花\u001b[0m\u001b[32m丛\u001b[0m\u001b[32m中\u001b[0m\u001b[32m，\n",
      "遇见\u001b[0m\u001b[32m彩虹\u001b[0m\u001b[32m桥\u001b[0m\u001b[32m，\n",
      "快乐\u001b[0m\u001b[32m歌声\u001b[0m\u001b[32m绕\u001b[0m\u001b[32m耳\u001b[0m\u001b[32m旁\u001b[0m\u001b[32m。\u001b[0m\n",
      "\n"
     ]
    },
    {
     "data": {
      "text/plain": [
       "[{'role': 'user', 'content': '你能帮我写一首关于兔子做梦的四句儿歌?'},\n",
       " {'role': 'assistant',\n",
       "  'content': '当然可以！以下是一首关于兔子做梦的儿歌：\\n\\n小兔子，梦儿香，\\n跳跃在花丛中，\\n遇见彩虹桥，\\n快乐歌声绕耳旁。'}]"
      ]
     },
     "execution_count": 4,
     "metadata": {},
     "output_type": "execute_result"
    }
   ],
   "source": [
    "d.chat(\"你能帮我写一首关于兔子做梦的四句儿歌?\")"
   ]
  },
  {
   "cell_type": "code",
   "execution_count": 3,
   "id": "29b9d9c9-6523-4642-8ed7-d42bf84554c3",
   "metadata": {},
   "outputs": [
    {
     "name": "stdout",
     "output_type": "stream",
     "text": [
      "\u001b[32m好的\u001b[0m\u001b[32m，\u001b[0m\u001b[32m这是一\u001b[0m\u001b[32m首\u001b[0m\u001b[32m关于\u001b[0m\u001b[32m小\u001b[0m\u001b[32m羊\u001b[0m\u001b[32m做梦\u001b[0m\u001b[32m的四\u001b[0m\u001b[32m句\u001b[0m\u001b[32m儿\u001b[0m\u001b[32m歌\u001b[0m\u001b[32m：\n",
      "\n",
      "梦里\u001b[0m\u001b[32m青山\u001b[0m\u001b[32m小\u001b[0m\u001b[32m羊\u001b[0m\u001b[32m唱\u001b[0m\u001b[32m，\n",
      "碧\u001b[0m\u001b[32m草\u001b[0m\u001b[32m如\u001b[0m\u001b[32m茵\u001b[0m\u001b[32m梦中\u001b[0m\u001b[32m行\u001b[0m\u001b[32m。\n",
      "梦中\u001b[0m\u001b[32m小\u001b[0m\u001b[32m溪\u001b[0m\u001b[32m潺\u001b[0m\u001b[32m潺\u001b[0m\u001b[32m流\u001b[0m\u001b[32m，\n",
      "醒来\u001b[0m\u001b[32m草\u001b[0m\u001b[32m地上\u001b[0m\u001b[32m欢\u001b[0m\u001b[32m跳\u001b[0m\u001b[32m。\u001b[0m\n",
      "\n"
     ]
    },
    {
     "data": {
      "text/plain": [
       "[{'role': 'user', 'content': '你能帮我写一首关于兔子做梦的四句儿歌?'},\n",
       " {'role': 'assistant',\n",
       "  'content': '当然可以！以下是一首关于兔子做梦的四句儿歌：\\n\\n梦里花间跳兔子，\\n草丛深处藏秘密。\\n月亮做伴夜悠长，\\n醒来阳光洒窗棂。'},\n",
       " {'role': 'user', 'content': '换成小羊吧'},\n",
       " {'role': 'assistant',\n",
       "  'content': '好的，这是一首关于小羊做梦的四句儿歌：\\n\\n梦里青山小羊唱，\\n碧草如茵梦中行。\\n梦中小溪潺潺流，\\n醒来草地上欢跳。'}]"
      ]
     },
     "execution_count": 3,
     "metadata": {},
     "output_type": "execute_result"
    }
   ],
   "source": [
    "d.chat(\"换成小羊吧\")"
   ]
  },
  {
   "cell_type": "markdown",
   "id": "641b46bf-1241-4f59-8944-58451b770344",
   "metadata": {},
   "source": [
    "### 限制记忆中的对话轮数"
   ]
  },
  {
   "cell_type": "code",
   "execution_count": 4,
   "id": "fbb77df1-1f87-4ef7-8e91-7289796d4f31",
   "metadata": {},
   "outputs": [
    {
     "name": "stdout",
     "output_type": "stream",
     "text": [
      "\u001b[32m蓝天\u001b[0m\u001b[32m白云\u001b[0m\u001b[32m小\u001b[0m\u001b[32m羊\u001b[0m\u001b[32m梦\u001b[0m\u001b[32m，\n",
      "梦中\u001b[0m\u001b[32m翅膀\u001b[0m\u001b[32m轻轻\u001b[0m\u001b[32m扬\u001b[0m\u001b[32m。\n",
      "云\u001b[0m\u001b[32m朵\u001b[0m\u001b[32m做\u001b[0m\u001b[32m床\u001b[0m\u001b[32m梦\u001b[0m\u001b[32m飞扬\u001b[0m\u001b[32m，\n",
      "醒来\u001b[0m\u001b[32m蓝天\u001b[0m\u001b[32m笑\u001b[0m\u001b[32m洋洋\u001b[0m\u001b[32m。\u001b[0m\n",
      "\n"
     ]
    },
    {
     "data": {
      "text/plain": [
       "[{'role': 'user', 'content': '你能帮我写一首关于兔子做梦的四句儿歌?'},\n",
       " {'role': 'assistant',\n",
       "  'content': '当然可以！以下是一首关于兔子做梦的四句儿歌：\\n\\n梦里花间跳兔子，\\n草丛深处藏秘密。\\n月亮做伴夜悠长，\\n醒来阳光洒窗棂。'},\n",
       " {'role': 'user', 'content': '换成小羊吧'},\n",
       " {'role': 'assistant',\n",
       "  'content': '好的，这是一首关于小羊做梦的四句儿歌：\\n\\n梦里青山小羊唱，\\n碧草如茵梦中行。\\n梦中小溪潺潺流，\\n醒来草地上欢跳。'},\n",
       " {'role': 'user', 'content': '改为在蓝天上'},\n",
       " {'role': 'assistant', 'content': '蓝天白云小羊梦，\\n梦中翅膀轻轻扬。\\n云朵做床梦飞扬，\\n醒来蓝天笑洋洋。'}]"
      ]
     },
     "execution_count": 4,
     "metadata": {},
     "output_type": "execute_result"
    }
   ],
   "source": [
    "d.chat(\"改为在蓝天上\")"
   ]
  },
  {
   "cell_type": "markdown",
   "id": "1cd422aa-518a-41f8-b6c2-4404edecb782",
   "metadata": {},
   "source": [
    "调用时可以切换模型，例如用来模拟和查看提示语的 `fake_llm`："
   ]
  },
  {
   "cell_type": "code",
   "execution_count": 5,
   "id": "da5bab59-0b1c-4ebb-8e16-2e7eec68758d",
   "metadata": {},
   "outputs": [
    {
     "data": {
      "text/plain": [
       "[{'role': 'user', 'content': '你能帮我写一首关于兔子做梦的四句儿歌?'},\n",
       " {'role': 'assistant',\n",
       "  'content': '当然可以！以下是一首关于兔子做梦的四句儿歌：\\n\\n梦里花间跳兔子，\\n草丛深处藏秘密。\\n月亮做伴夜悠长，\\n醒来阳光洒窗棂。'},\n",
       " {'role': 'user', 'content': '换成小羊吧'},\n",
       " {'role': 'assistant',\n",
       "  'content': '好的，这是一首关于小羊做梦的四句儿歌：\\n\\n梦里青山小羊唱，\\n碧草如茵梦中行。\\n梦中小溪潺潺流，\\n醒来草地上欢跳。'},\n",
       " {'role': 'user', 'content': '改为在蓝天上'},\n",
       " {'role': 'assistant', 'content': '蓝天白云小羊梦，\\n梦中翅膀轻轻扬。\\n云朵做床梦飞扬，\\n醒来蓝天笑洋洋。'}]"
      ]
     },
     "execution_count": 5,
     "metadata": {},
     "output_type": "execute_result"
    }
   ],
   "source": [
    "d.state.messages"
   ]
  },
  {
   "cell_type": "code",
   "execution_count": 6,
   "id": "d013a1fd-deaa-4124-9804-6121d04705e6",
   "metadata": {},
   "outputs": [
    {
     "name": "stdout",
     "output_type": "stream",
     "text": [
      "\u001b[32m水\u001b[0m\u001b[32m塘\u001b[0m\u001b[32m碧\u001b[0m\u001b[32m波\u001b[0m\u001b[32m荡\u001b[0m\u001b[32m漾\u001b[0m\u001b[32m间\u001b[0m\u001b[32m，\n",
      "蓝天\u001b[0m\u001b[32m倒\u001b[0m\u001b[32m影\u001b[0m\u001b[32m如\u001b[0m\u001b[32m镜\u001b[0m\u001b[32m悬\u001b[0m\u001b[32m。\n",
      "荷叶\u001b[0m\u001b[32m轻\u001b[0m\u001b[32m摇\u001b[0m\u001b[32m鱼\u001b[0m\u001b[32m儿\u001b[0m\u001b[32m跃\u001b[0m\u001b[32m，\n",
      "蓝天\u001b[0m\u001b[32m白云\u001b[0m\u001b[32m共\u001b[0m\u001b[32m悠\u001b[0m\u001b[32m然\u001b[0m\u001b[32m。\u001b[0m\n",
      "\n"
     ]
    },
    {
     "data": {
      "text/plain": [
       "[{'role': 'user', 'content': '改为在蓝天上'},\n",
       " {'role': 'assistant', 'content': '蓝天白云小羊梦，\\n梦中翅膀轻轻扬。\\n云朵做床梦飞扬，\\n醒来蓝天笑洋洋。'},\n",
       " {'role': 'user', 'content': '改为在水塘'},\n",
       " {'role': 'assistant', 'content': '水塘碧波荡漾间，\\n蓝天倒影如镜悬。\\n荷叶轻摇鱼儿跃，\\n蓝天白云共悠然。'}]"
      ]
     },
     "execution_count": 6,
     "metadata": {},
     "output_type": "execute_result"
    }
   ],
   "source": [
    "d.chat(\"改为在水塘\", llm=zhipu, k=1)"
   ]
  },
  {
   "cell_type": "markdown",
   "id": "6e667cad-8bc8-4ea2-b68e-d1c3687e71d0",
   "metadata": {},
   "source": [
    "### 多轮对话 + 回调工具"
   ]
  },
  {
   "cell_type": "code",
   "execution_count": 1,
   "id": "d898e2c1-a56b-4ffc-bf22-48351429c883",
   "metadata": {},
   "outputs": [],
   "source": [
    "from textlong.llm.tools import tool, convert_to_openai_tool\n",
    "from textlong.llm import qwen\n",
    "from textlong.desk import Desk\n",
    "import json\n",
    "\n",
    "@tool\n",
    "def get_current_weather(location: str):\n",
    "    \"\"\"获取城市的天气情况\"\"\"\n",
    "    return f\"{location}今天是晴天。 \"\n",
    "\n",
    "messages = []\n",
    "d = Desk(qwen, toolkits=[get_current_weather], tools=[convert_to_openai_tool(get_current_weather)])"
   ]
  },
  {
   "cell_type": "code",
   "execution_count": 2,
   "id": "63002e47-0e89-490d-b5e2-6390cdc47ab4",
   "metadata": {},
   "outputs": [
    {
     "name": "stdout",
     "output_type": "stream",
     "text": [
      "[StructuredTool(name='get_current_weather', description='获取城市的天气情况', args_schema=<class 'pydantic.main.get_current_weatherSchema'>, func=<function get_current_weather at 0x10c24bbe0>), StructuredTool(name='python_code', description='回答关于的数据查询和分析的问题。\\n具体包括：', args_schema=<class 'textlong.llm.tools.python_code.create_python_code_tool.<locals>.PythonCodeInput'>, func=<function create_python_code_tool.<locals>.python_code at 0x10c24ac20>)]\n"
     ]
    }
   ],
   "source": [
    "print(d.toolkits)"
   ]
  },
  {
   "cell_type": "code",
   "execution_count": 3,
   "id": "a697d868-9eb8-4c8d-bb0d-0cf368d5323f",
   "metadata": {},
   "outputs": [
    {
     "name": "stdout",
     "output_type": "stream",
     "text": [
      ">-[TOOLS_CALL]>> \u001b[34m{\"index\": 0, \"id\": \"call_e85d1cf3a6b44c449f0d2f\", \"type\": \"function\", \"function\": {\"name\": \"get_current_weather\", \"arguments\": \"\"}}\u001b[0m\n",
      ">-[TOOLS_CALL]>> \u001b[34m{\"index\": 0, \"id\": \"\", \"type\": \"function\", \"function\": {\"arguments\": \"{\\\"location\\\": \\\"\"}}\u001b[0m\n",
      ">-[TOOLS_CALL]>> \u001b[34m{\"index\": 0, \"id\": \"\", \"type\": \"function\", \"function\": {\"arguments\": \"广州\\\"}\"}}\u001b[0m\n",
      ">-[TOOLS_CALL]>> \u001b[34m{\"index\": 0, \"id\": \"\", \"type\": \"function\", \"function\": {}}\u001b[0m\n",
      "\u001b[34m{\"0\": {\"index\": 0, \"id\": \"call_e85d1cf3a6b44c449f0d2f\", \"type\": \"function\", \"function\": {\"name\": \"get_current_weather\", \"arguments\": \"{\\\"location\\\": \\\"广州\\\"}\"}}}\u001b[0m\n",
      ">-[TOOL_RESP]>> \u001b[34m广州今天是晴天。 \u001b[0m\n",
      "\u001b[32m广\u001b[0m\u001b[32m州今天的天气是晴\u001b[0m\u001b[32m朗的。\u001b[0m\u001b[32m\u001b[0m\n",
      "\n"
     ]
    },
    {
     "data": {
      "text/plain": [
       "[{'role': 'user', 'content': '今天广州天气如何啊'},\n",
       " {'role': 'assistant',\n",
       "  'content': '',\n",
       "  'tool_calls': [{'index': 0,\n",
       "    'id': 'call_e85d1cf3a6b44c449f0d2f',\n",
       "    'type': 'function',\n",
       "    'function': {'name': 'get_current_weather',\n",
       "     'arguments': '{\"location\": \"广州\"}'}}]},\n",
       " {'role': 'tool', 'name': 'get_current_weather', 'content': '广州今天是晴天。 '},\n",
       " {'role': 'assistant', 'content': '广州今天的天气是晴朗的。'}]"
      ]
     },
     "execution_count": 3,
     "metadata": {},
     "output_type": "execute_result"
    }
   ],
   "source": [
    "d.chat(\"今天广州天气如何啊\")"
   ]
  },
  {
   "cell_type": "code",
   "execution_count": 16,
   "id": "67fe453f-dd4a-4c1d-a0aa-8e8122c88538",
   "metadata": {},
   "outputs": [
    {
     "name": "stdout",
     "output_type": "stream",
     "text": [
      "\u001b[32m我\u001b[0m\u001b[32m调\u001b[0m\u001b[32m用了\u001b[0m\u001b[32mget_current_weather这个工具\u001b[0m\u001b[32m来查询广州的天气情况，它\u001b[0m\u001b[32m返回的结果表明广州今天是晴天\u001b[0m\u001b[32m。请注意，实际天气可能会有所变化\u001b[0m\u001b[32m，具体以当地气象部门发布的预报\u001b[0m\u001b[32m为准。\u001b[0m\u001b[32m\u001b[0m\n",
      "\n"
     ]
    },
    {
     "data": {
      "text/plain": [
       "[{'role': 'user', 'content': '今天广州天气如何啊'},\n",
       " {'role': 'assistant',\n",
       "  'content': '',\n",
       "  'tool_calls': [{'index': 0,\n",
       "    'id': 'call_31de2f22fb504d3f8ac574',\n",
       "    'type': 'function',\n",
       "    'function': {'name': 'get_current_weather',\n",
       "     'arguments': '{\"location\": \"广州\"}'}}]},\n",
       " {'role': 'tool', 'name': 'get_current_weather', 'content': '广州今天是晴天。 '},\n",
       " {'role': 'assistant', 'content': '广州今天的天气是晴朗的。'},\n",
       " {'role': 'user', 'content': '这是怎么得出来的？'},\n",
       " {'role': 'assistant',\n",
       "  'content': '我调用了get_current_weather这个工具来查询广州的天气情况，它返回的结果表明广州今天是晴天。请注意，实际天气可能会有所变化，具体以当地气象部门发布的预报为准。'}]"
      ]
     },
     "execution_count": 16,
     "metadata": {},
     "output_type": "execute_result"
    }
   ],
   "source": [
    "d.chat(\"这是怎么得出来的？\")"
   ]
  },
  {
   "cell_type": "code",
   "execution_count": 5,
   "id": "f5a78d8a-9de4-4718-be14-a900cc20fc60",
   "metadata": {},
   "outputs": [
    {
     "name": "stdout",
     "output_type": "stream",
     "text": [
      ">-[TOOLS_CALL]>> \u001b[34m{\"index\": 0, \"id\": \"call_ae91422dcf734f7f8c5fbd\", \"type\": \"function\", \"function\": {\"name\": \"get_current_weather\", \"arguments\": \"\"}}\u001b[0m\n",
      ">-[TOOLS_CALL]>> \u001b[34m{\"index\": 0, \"id\": \"\", \"type\": \"function\", \"function\": {\"arguments\": \"{\\\"location\\\": \\\"\"}}\u001b[0m\n",
      ">-[TOOLS_CALL]>> \u001b[34m{\"index\": 0, \"id\": \"\", \"type\": \"function\", \"function\": {\"arguments\": \"上海\\\"}\"}}\u001b[0m\n",
      ">-[TOOLS_CALL]>> \u001b[34m{\"index\": 0, \"id\": \"\", \"type\": \"function\", \"function\": {}}\u001b[0m\n",
      "\u001b[34m{\"0\": {\"index\": 0, \"id\": \"call_ae91422dcf734f7f8c5fbd\", \"type\": \"function\", \"function\": {\"name\": \"get_current_weather\", \"arguments\": \"{\\\"location\\\": \\\"上海\\\"}\"}}}\u001b[0m\n",
      ">-[TOOL_RESP]>> \u001b[34m上海今天是晴天。 \u001b[0m\n",
      "\u001b[32m查询\u001b[0m\u001b[32m了\u001b[0m\u001b[32m上海的天气，结果显示\u001b[0m\u001b[32m今天上海也是晴天。\u001b[0m\u001b[32m\u001b[0m\n",
      "\n"
     ]
    },
    {
     "data": {
      "text/plain": [
       "[{'role': 'user', 'content': '今天广州天气如何啊'},\n",
       " {'role': 'assistant',\n",
       "  'content': '',\n",
       "  'tool_calls': [{'index': 0,\n",
       "    'id': 'call_48fef997b25447699c9f66',\n",
       "    'type': 'function',\n",
       "    'function': {'name': 'get_current_weather',\n",
       "     'arguments': '{\"location\": \"广州\"}'}}]},\n",
       " {'role': 'tool', 'name': 'get_current_weather', 'content': '广州今天是晴天。 '},\n",
       " {'role': 'assistant', 'content': '广州今天的天气是晴朗的。'},\n",
       " {'role': 'user', 'content': '这是怎么得出来的？'},\n",
       " {'role': 'assistant',\n",
       "  'content': '我调用了 get_current_weather 这个工具函数来查询广州的天气，它返回的结果表明广州今天是晴天。请注意，实际使用中该函数应能提供更详尽的信息，例如温度、湿度等，但在这个模拟环境中，它仅返回了天气状况。'},\n",
       " {'role': 'user', 'content': '再看看上海'},\n",
       " {'role': 'assistant',\n",
       "  'content': '',\n",
       "  'tool_calls': [{'index': 0,\n",
       "    'id': 'call_ae91422dcf734f7f8c5fbd',\n",
       "    'type': 'function',\n",
       "    'function': {'name': 'get_current_weather',\n",
       "     'arguments': '{\"location\": \"上海\"}'}}]},\n",
       " {'role': 'tool', 'name': 'get_current_weather', 'content': '上海今天是晴天。 '},\n",
       " {'role': 'assistant', 'content': '查询了上海的天气，结果显示今天上海也是晴天。'}]"
      ]
     },
     "execution_count": 5,
     "metadata": {},
     "output_type": "execute_result"
    }
   ],
   "source": [
    "d.chat(\"再看看上海\")"
   ]
  },
  {
   "cell_type": "code",
   "execution_count": 6,
   "id": "d346cd93-8539-4570-bcea-ecbdf370e0a7",
   "metadata": {},
   "outputs": [
    {
     "data": {
      "text/plain": [
       "[{'role': 'user', 'content': '今天广州天气如何啊'},\n",
       " {'role': 'assistant',\n",
       "  'content': '',\n",
       "  'tool_calls': [{'index': 0,\n",
       "    'id': 'call_48fef997b25447699c9f66',\n",
       "    'type': 'function',\n",
       "    'function': {'name': 'get_current_weather',\n",
       "     'arguments': '{\"location\": \"广州\"}'}}]},\n",
       " {'role': 'tool', 'name': 'get_current_weather', 'content': '广州今天是晴天。 '},\n",
       " {'role': 'assistant', 'content': '广州今天的天气是晴朗的。'},\n",
       " {'role': 'user', 'content': '这是怎么得出来的？'},\n",
       " {'role': 'assistant',\n",
       "  'content': '我调用了 get_current_weather 这个工具函数来查询广州的天气，它返回的结果表明广州今天是晴天。请注意，实际使用中该函数应能提供更详尽的信息，例如温度、湿度等，但在这个模拟环境中，它仅返回了天气状况。'},\n",
       " {'role': 'user', 'content': '再看看上海'},\n",
       " {'role': 'assistant',\n",
       "  'content': '',\n",
       "  'tool_calls': [{'index': 0,\n",
       "    'id': 'call_ae91422dcf734f7f8c5fbd',\n",
       "    'type': 'function',\n",
       "    'function': {'name': 'get_current_weather',\n",
       "     'arguments': '{\"location\": \"上海\"}'}}]},\n",
       " {'role': 'tool', 'name': 'get_current_weather', 'content': '上海今天是晴天。 '},\n",
       " {'role': 'assistant', 'content': '查询了上海的天气，结果显示今天上海也是晴天。'}]"
      ]
     },
     "execution_count": 6,
     "metadata": {},
     "output_type": "execute_result"
    }
   ],
   "source": [
    "d.state.messages"
   ]
  },
  {
   "cell_type": "markdown",
   "id": "a999b6b4-dea0-4ea9-8951-61e6c99a9aa9",
   "metadata": {},
   "source": [
    "## 写作提示语模板"
   ]
  },
  {
   "cell_type": "code",
   "execution_count": 7,
   "id": "1bbed0f8-1a77-4b9e-9227-37dff26abf4f",
   "metadata": {},
   "outputs": [],
   "source": [
    "from textlong.hub import load_chat_template, load_resource_chat_template"
   ]
  },
  {
   "cell_type": "markdown",
   "id": "173b5dbe-360a-41ba-97ee-f944b7293f04",
   "metadata": {},
   "source": [
    "### 加载对话模板的资源\n",
    "\n",
    "指定资源库中的模板ID即可加载模板。"
   ]
  },
  {
   "cell_type": "code",
   "execution_count": 8,
   "id": "dc6cfba0-b58a-445a-9c85-32213033d0b1",
   "metadata": {},
   "outputs": [
    {
     "data": {
      "text/plain": [
       "PromptTemplate(input_variables=['task'], partial_variables={'knowledge__': ''}, template='你是强大的写作助手。\\n\\n你必须遵循以下约束来完成任务:\\n1. 直接输出你的结果，不要评论，不要啰嗦\\n2. 使用markdown格式输出\\n{{#knowledge__}}\\n\\n**你必须参考这些已有资料：**\\n{{knowledge__}}\\n\\n{{/knowledge__}}\\n**你的任务是:**\\n{{task}}\\n', template_format='mustache')"
      ]
     },
     "execution_count": 8,
     "metadata": {},
     "output_type": "execute_result"
    }
   ],
   "source": [
    "load_chat_template(\"IDEA\")"
   ]
  },
  {
   "cell_type": "code",
   "execution_count": 9,
   "id": "113b4bfb-d5b5-4635-bb02-0b32024d1d1c",
   "metadata": {},
   "outputs": [
    {
     "data": {
      "text/plain": [
       "PromptTemplate(input_variables=['task'], partial_variables={'knowledge__': ''}, template='你是强大的写作助手。\\n\\n你必须遵循以下约束来完成任务:\\n1. 直接输出你的结果，不要评论，不要啰嗦\\n2. 使用markdown格式输出\\n3. 请按照需要输出一份写作提纲\\n4. 提纲的构成应当由多个阔系额要求构成\\n5. 扩写要求必须包含清晰描述，如预估字数、创意要点、创作思路、创作中涉及到的实体名称等\\n5. 每一个扩写要求由完整的 `<OUTLINE>`和`</OUTLINE>` 包裹\\n6. 你只能输出提纲，不要输出具体的扩写内容\\n\\n**你的任务是:**\\n{{task}}\\n\\n{{#knowledge__}}\\n\\n**你必须参考这些已有资料：**\\n{{knowledge__}}\\n{{/knowledge__}}\\n\\n\\n**输出例子1**\\n```\\n# 第一章 标题1\\n## 一、XXXX\\n<OUTLINE>\\n扩写摘要:\\n对扩写内容做摘要总结\\n\\n扩写要求：\\n- xxx\\n- xxx\\n</OUTLINE>\\n\\n## 二、XXXX\\n<OUTLINE>\\n</OUTLINE>\\n\\n## （更多扩写提纲）\\n```\\n\\n', template_format='mustache')"
      ]
     },
     "execution_count": 9,
     "metadata": {},
     "output_type": "execute_result"
    }
   ],
   "source": [
    "load_chat_template(\"OUTLINE\")"
   ]
  },
  {
   "cell_type": "markdown",
   "id": "60919f9d-d687-498d-a36c-68b56ebec19e",
   "metadata": {},
   "source": [
    "### 查看构造出的提示语模板"
   ]
  },
  {
   "cell_type": "code",
   "execution_count": 10,
   "id": "69e492c6-bbdf-4fc5-95e9-0aae43a98c30",
   "metadata": {},
   "outputs": [
    {
     "name": "stdout",
     "output_type": "stream",
     "text": [
      "你是强大的写作助手。\n",
      "\n",
      "你必须遵循以下约束来完成任务:\n",
      "1. 直接输出你的结果，不要评论，不要啰嗦\n",
      "2. 使用markdown格式输出\n",
      "3. 请按照需要输出一份写作提纲\n",
      "4. 提纲的构成应当由多个阔系额要求构成\n",
      "5. 扩写要求必须包含清晰描述，如预估字数、创意要点、创作思路、创作中涉及到的实体名称等\n",
      "5. 每一个扩写要求由完整的 `<OUTLINE>`和`</OUTLINE>` 包裹\n",
      "6. 你只能输出提纲，不要输出具体的扩写内容\n",
      "\n",
      "**你的任务是:**\n",
      "请帮我写一首歌\n",
      "\n",
      "\n",
      "\n",
      "**输出例子1**\n",
      "```\n",
      "# 第一章 标题1\n",
      "## 一、XXXX\n",
      "<OUTLINE>\n",
      "扩写摘要:\n",
      "对扩写内容做摘要总结\n",
      "\n",
      "扩写要求：\n",
      "- xxx\n",
      "- xxx\n",
      "</OUTLINE>\n",
      "\n",
      "## 二、XXXX\n",
      "<OUTLINE>\n",
      "</OUTLINE>\n",
      "\n",
      "## （更多扩写提纲）\n",
      "```\n",
      "\n",
      "\n"
     ]
    }
   ],
   "source": [
    "print(load_chat_template(\"OUTLINE\").format(task=\"请帮我写一首歌\"))"
   ]
  },
  {
   "cell_type": "markdown",
   "id": "14216ff2-faba-4015-b262-6a8c8eba2457",
   "metadata": {},
   "source": [
    "### 单轮写作"
   ]
  },
  {
   "cell_type": "code",
   "execution_count": 1,
   "id": "20a94ba4-63b4-4933-950d-334ebcaf4a55",
   "metadata": {},
   "outputs": [],
   "source": [
    "from textlong.llm import qwen, fake_llm\n",
    "from textlong.desk import Desk\n",
    "\n",
    "d = Desk(qwen)"
   ]
  },
  {
   "cell_type": "code",
   "execution_count": 2,
   "id": "dd0df2ad-8e00-4841-8213-249851b483ce",
   "metadata": {},
   "outputs": [
    {
     "name": "stdout",
     "output_type": "stream",
     "text": [
      "\u001b[32m小白\u001b[0m\u001b[32m兔\u001b[0m\u001b[32m白\u001b[0m\u001b[32m又白，  \n",
      "耳朵\u001b[0m\u001b[32m长长跳得欢。  \n",
      "爱吃萝卜\u001b[0m\u001b[32m和青菜，  \n",
      "蹦蹦跳\u001b[0m\u001b[32m跳真可爱。\u001b[0m\u001b[32m\u001b[0m\n",
      "\n",
      "小白兔白又白，  \n",
      "耳朵长长跳得欢。  \n",
      "爱吃萝卜和青菜，  \n",
      "蹦蹦跳跳真可爱。\n",
      "\n",
      "\n"
     ]
    }
   ],
   "source": [
    "d.write(\"帮我写一首关于兔子的四句儿歌\", template=\"IDEA\")\n",
    "print(d.output)"
   ]
  },
  {
   "cell_type": "code",
   "execution_count": 9,
   "id": "9ccad612-2b1e-44f7-ab04-4b6c6ad0f46d",
   "metadata": {},
   "outputs": [
    {
     "name": "stdout",
     "output_type": "stream",
     "text": [
      ">-[INFO]>> \u001b[34msystem: 你是强大的写作助手。\n",
      "\n",
      "你必须遵循以下约束来完成任务:\n",
      "1. 直接输出你的结果，不要评论，不要啰嗦\n",
      "2. 使用markdown格式输出\n",
      "**你的任务是:**\n",
      "帮我写一首关于兔子的四句儿歌\n",
      "\u001b[0m\n",
      ">-[INFO]>> \u001b[34muser: 请开始\u001b[0m\n",
      ">-[INFO]>> \u001b[34massistant: 小白兔白又白，  \n",
      "耳朵长长跳得欢。  \n",
      "爱吃萝卜和青菜，  \n",
      "蹦蹦跳跳真可爱。\u001b[0m\n",
      ">-[INFO]>> \u001b[34muser: 它喜欢吃什么？\u001b[0m\n",
      ">-[INFO]>> \u001b[34massistant: 这是一个模拟调用!\u001b[0m\n",
      ">-[INFO]>> \u001b[34muser: 它喜欢吃什么？\u001b[0m\n",
      ">-[INFO]>> \u001b[34massistant: 这是一个模拟调用!\u001b[0m\n",
      ">-[INFO]>> \u001b[34muser: 它喜欢吃什么？\u001b[0m\n",
      "\u001b[32m这\u001b[0m\u001b[32m是\u001b[0m\u001b[32m一个\u001b[0m\u001b[32m模拟\u001b[0m\u001b[32m调用\u001b[0m\u001b[32m!\u001b[0m\n",
      "\n"
     ]
    },
    {
     "data": {
      "text/plain": [
       "[{'role': 'system',\n",
       "  'content': '你是强大的写作助手。\\n\\n你必须遵循以下约束来完成任务:\\n1. 直接输出你的结果，不要评论，不要啰嗦\\n2. 使用markdown格式输出\\n**你的任务是:**\\n帮我写一首关于兔子的四句儿歌\\n'},\n",
       " {'role': 'user', 'content': '请开始'},\n",
       " {'role': 'assistant',\n",
       "  'content': '小白兔白又白，  \\n耳朵长长跳得欢。  \\n爱吃萝卜和青菜，  \\n蹦蹦跳跳真可爱。'},\n",
       " {'role': 'user', 'content': '它喜欢吃什么？'},\n",
       " {'role': 'assistant', 'content': '这是一个模拟调用!'},\n",
       " {'role': 'user', 'content': '它喜欢吃什么？'},\n",
       " {'role': 'assistant', 'content': '这是一个模拟调用!'},\n",
       " {'role': 'user', 'content': '它喜欢吃什么？'},\n",
       " {'role': 'assistant', 'content': '这是一个模拟调用!'}]"
      ]
     },
     "execution_count": 9,
     "metadata": {},
     "output_type": "execute_result"
    }
   ],
   "source": [
    "d.chat(\"它喜欢吃什么？\", k=1, llm=fake_llm)"
   ]
  },
  {
   "cell_type": "code",
   "execution_count": 10,
   "id": "f5e88c2c-c0cf-45b9-b863-4c3db4b9c85c",
   "metadata": {},
   "outputs": [
    {
     "data": {
      "text/plain": [
       "[{'role': 'system',\n",
       "  'content': '你是强大的写作助手。\\n\\n你必须遵循以下约束来完成任务:\\n1. 直接输出你的结果，不要评论，不要啰嗦\\n2. 使用markdown格式输出\\n**你的任务是:**\\n帮我写一首关于兔子的四句儿歌\\n'},\n",
       " {'role': 'user', 'content': '请开始'},\n",
       " {'role': 'assistant',\n",
       "  'content': '小白兔白又白，  \\n耳朵长长跳得欢。  \\n爱吃萝卜和青菜，  \\n蹦蹦跳跳真可爱。'},\n",
       " {'role': 'user', 'content': '它喜欢吃什么？'},\n",
       " {'role': 'assistant', 'content': '这是一个模拟调用!'},\n",
       " {'role': 'user', 'content': '它喜欢吃什么？'},\n",
       " {'role': 'assistant', 'content': '这是一个模拟调用!'},\n",
       " {'role': 'user', 'content': '它喜欢吃什么？'},\n",
       " {'role': 'assistant', 'content': '这是一个模拟调用!'},\n",
       " {'role': 'user', 'content': '它喜欢吃什么？'},\n",
       " {'role': 'assistant', 'content': '这是一个模拟调用!'},\n",
       " {'role': 'user', 'content': '它喜欢吃什么？'},\n",
       " {'role': 'assistant', 'content': '这是一个模拟调用!'}]"
      ]
     },
     "execution_count": 10,
     "metadata": {},
     "output_type": "execute_result"
    }
   ],
   "source": [
    "d.state.messages"
   ]
  },
  {
   "cell_type": "code",
   "execution_count": 4,
   "id": "be17cd62-7257-4bb0-8374-52ac987c7c53",
   "metadata": {},
   "outputs": [
    {
     "name": "stdout",
     "output_type": "stream",
     "text": [
      ">-[INFO]>> \u001b[34m没有提纲可供扩写\u001b[0m\n"
     ]
    }
   ],
   "source": [
    "d.from_outline()"
   ]
  },
  {
   "cell_type": "code",
   "execution_count": 3,
   "id": "0f5d03f2-169e-4bef-9fa9-1d0264dba923",
   "metadata": {},
   "outputs": [
    {
     "data": {
      "text/plain": [
       "[{'role': 'system',\n",
       "  'content': '你是强大的写作助手。\\n\\n你必须遵循以下约束来完成任务:\\n1. 直接输出你的结果，不要评论，不要啰嗦\\n2. 使用markdown格式输出\\n**你的任务是:**\\n帮我写一首关于兔子的四句儿歌\\n'},\n",
       " {'role': 'user', 'content': '请开始'},\n",
       " {'role': 'assistant',\n",
       "  'content': '小白兔白又白，  \\n耳朵长长跳得欢。  \\n爱吃萝卜和青菜，  \\n蹦蹦跳跳真可爱。'}]"
      ]
     },
     "execution_count": 3,
     "metadata": {},
     "output_type": "execute_result"
    }
   ],
   "source": [
    "d.state.messages"
   ]
  },
  {
   "cell_type": "markdown",
   "id": "71b88acd-1aac-4e7c-84e9-af23998a9214",
   "metadata": {},
   "source": [
    "### 单轮写作 + 回调工具"
   ]
  },
  {
   "cell_type": "code",
   "execution_count": 11,
   "id": "228c4106-3b9f-4e2c-b1d1-21d7aae69f1a",
   "metadata": {},
   "outputs": [
    {
     "name": "stdout",
     "output_type": "stream",
     "text": [
      ">-[TOOLS_CALL]>> \u001b[34m{\"index\": 0, \"id\": \"call_b9cfb902adf647a4b6f2e6\", \"type\": \"function\", \"function\": {\"name\": \"get_current_weather\", \"arguments\": \"\"}}\u001b[0m\n",
      ">-[TOOLS_CALL]>> \u001b[34m{\"index\": 0, \"id\": \"\", \"type\": \"function\", \"function\": {\"arguments\": \"{\\\"location\\\": \\\"\"}}\u001b[0m\n",
      ">-[TOOLS_CALL]>> \u001b[34m{\"index\": 0, \"id\": \"\", \"type\": \"function\", \"function\": {\"arguments\": \"广州\\\"}\"}}\u001b[0m\n",
      ">-[TOOLS_CALL]>> \u001b[34m{\"index\": 0, \"id\": \"\", \"type\": \"function\", \"function\": {}}\u001b[0m\n",
      "\u001b[34m{\"0\": {\"index\": 0, \"id\": \"call_b9cfb902adf647a4b6f2e6\", \"type\": \"function\", \"function\": {\"name\": \"get_current_weather\", \"arguments\": \"{\\\"location\\\": \\\"广州\\\"}\"}}}\u001b[0m\n",
      ">-[TOOL_RESP]>> \u001b[34m广州今天下大雨。 \u001b[0m\n",
      "\u001b[32m雨\u001b[0m\u001b[32m幕\u001b[0m\u001b[32m洒羊城，水\u001b[0m\u001b[32m珠舞街巷，\n",
      "伞开花如\u001b[0m\u001b[32m海，滋润春色长。\u001b[0m\u001b[32m\u001b[0m\n",
      "\n"
     ]
    },
    {
     "data": {
      "text/plain": [
       "[{'role': 'system',\n",
       "  'content': '你是强大的写作助手。\\n\\n你必须遵循以下约束来完成任务:\\n1. 直接输出你的结果，不要评论，不要啰嗦\\n2. 使用markdown格式输出\\n**你的任务是:**\\n根据广州今天的天气写一首4句歌词\\n'},\n",
       " {'role': 'user', 'content': '请开始'},\n",
       " {'role': 'assistant',\n",
       "  'content': '',\n",
       "  'tool_calls': [{'index': 0,\n",
       "    'id': 'call_b9cfb902adf647a4b6f2e6',\n",
       "    'type': 'function',\n",
       "    'function': {'name': 'get_current_weather',\n",
       "     'arguments': '{\"location\": \"广州\"}'}}]},\n",
       " {'role': 'tool', 'name': 'get_current_weather', 'content': '广州今天下大雨。 '},\n",
       " {'role': 'assistant', 'content': '雨幕洒羊城，水珠舞街巷，\\n伞开花如海，滋润春色长。'}]"
      ]
     },
     "execution_count": 11,
     "metadata": {},
     "output_type": "execute_result"
    }
   ],
   "source": [
    "from textlong.llm.tools import tool, convert_to_openai_tool\n",
    "from textlong.llm import qwen\n",
    "from textlong.desk import Desk\n",
    "import json\n",
    "\n",
    "@tool\n",
    "def get_current_weather(location: str):\n",
    "    \"\"\"获取城市的天气情况\"\"\"\n",
    "    return f\"{location}今天下大雨。 \"\n",
    "\n",
    "d = Desk(qwen, tools=[convert_to_openai_tool(get_current_weather)], toolkits=[get_current_weather])\n",
    "d.write({\"task\": \"根据广州今天的天气写一首4句歌词\"}, template=\"IDEA\")"
   ]
  },
  {
   "cell_type": "code",
   "execution_count": 12,
   "id": "ce397842-9d6c-4d87-8e70-19850babd1e4",
   "metadata": {},
   "outputs": [
    {
     "data": {
      "text/plain": [
       "'雨幕洒羊城，水珠舞街巷，\\n伞开花如海，滋润春色长。\\n\\n'"
      ]
     },
     "execution_count": 12,
     "metadata": {},
     "output_type": "execute_result"
    }
   ],
   "source": [
    "d.output"
   ]
  },
  {
   "cell_type": "markdown",
   "id": "3eb3f172-e76a-4933-b039-afc635d58ae9",
   "metadata": {},
   "source": [
    "### 单轮写作 + 多轮对话"
   ]
  },
  {
   "cell_type": "code",
   "execution_count": 13,
   "id": "23c1241c-6f5d-4773-ab83-8a5e04ac4d6b",
   "metadata": {},
   "outputs": [
    {
     "name": "stdout",
     "output_type": "stream",
     "text": [
      "\u001b[32m雨\u001b[0m\u001b[32m帘\u001b[0m\u001b[32m密\u001b[0m\u001b[32m织羊城天，\u001b[0m\u001b[32m湿了红尘润了田，\u001b[0m\u001b[32m\n",
      "珠江水面泛轻烟，朦胧楼\u001b[0m\u001b[32m影入画卷。\n",
      "行人匆匆伞下\u001b[0m\u001b[32m聚，花朵含珠更娇艳\u001b[0m\u001b[32m，\n",
      "春雨绵绵情意浓\u001b[0m\u001b[32m，洗尽铅华现真颜\u001b[0m\u001b[32m。\n",
      "街头小巷故事多，雨\u001b[0m\u001b[32m声伴奏唱生活，\n",
      "望穿\u001b[0m\u001b[32m雨幕待晴空，广州雨\u001b[0m\u001b[32m中别样红。\u001b[0m\u001b[32m\u001b[0m\n",
      "\n"
     ]
    },
    {
     "data": {
      "text/plain": [
       "[{'role': 'system',\n",
       "  'content': '你是强大的写作助手。\\n\\n你必须遵循以下约束来完成任务:\\n1. 直接输出你的结果，不要评论，不要啰嗦\\n2. 使用markdown格式输出\\n**你的任务是:**\\n根据广州今天的天气写一首4句歌词\\n'},\n",
       " {'role': 'user', 'content': '请开始'},\n",
       " {'role': 'assistant',\n",
       "  'content': '',\n",
       "  'tool_calls': [{'index': 0,\n",
       "    'id': 'call_b9cfb902adf647a4b6f2e6',\n",
       "    'type': 'function',\n",
       "    'function': {'name': 'get_current_weather',\n",
       "     'arguments': '{\"location\": \"广州\"}'}}]},\n",
       " {'role': 'tool', 'name': 'get_current_weather', 'content': '广州今天下大雨。 '},\n",
       " {'role': 'assistant', 'content': '雨幕洒羊城，水珠舞街巷，\\n伞开花如海，滋润春色长。'},\n",
       " {'role': 'user', 'content': '改为8句吧'},\n",
       " {'role': 'assistant',\n",
       "  'content': '雨帘密织羊城天，湿了红尘润了田，\\n珠江水面泛轻烟，朦胧楼影入画卷。\\n行人匆匆伞下聚，花朵含珠更娇艳，\\n春雨绵绵情意浓，洗尽铅华现真颜。\\n街头小巷故事多，雨声伴奏唱生活，\\n望穿雨幕待晴空，广州雨中别样红。'}]"
      ]
     },
     "execution_count": 13,
     "metadata": {},
     "output_type": "execute_result"
    }
   ],
   "source": [
    "d.chat(\"改为8句吧\")"
   ]
  },
  {
   "cell_type": "code",
   "execution_count": 14,
   "id": "5f6a857f-885a-449a-8c20-cc478a8502a4",
   "metadata": {},
   "outputs": [
    {
     "data": {
      "text/plain": [
       "[{'role': 'system',\n",
       "  'content': '你是强大的写作助手。\\n\\n你必须遵循以下约束来完成任务:\\n1. 直接输出你的结果，不要评论，不要啰嗦\\n2. 使用markdown格式输出\\n**你的任务是:**\\n根据广州今天的天气写一首4句歌词\\n'},\n",
       " {'role': 'user', 'content': '请开始'},\n",
       " {'role': 'assistant',\n",
       "  'content': '',\n",
       "  'tool_calls': [{'index': 0,\n",
       "    'id': 'call_b9cfb902adf647a4b6f2e6',\n",
       "    'type': 'function',\n",
       "    'function': {'name': 'get_current_weather',\n",
       "     'arguments': '{\"location\": \"广州\"}'}}]},\n",
       " {'role': 'tool', 'name': 'get_current_weather', 'content': '广州今天下大雨。 '},\n",
       " {'role': 'assistant', 'content': '雨幕洒羊城，水珠舞街巷，\\n伞开花如海，滋润春色长。'},\n",
       " {'role': 'user', 'content': '改为8句吧'},\n",
       " {'role': 'assistant',\n",
       "  'content': '雨帘密织羊城天，湿了红尘润了田，\\n珠江水面泛轻烟，朦胧楼影入画卷。\\n行人匆匆伞下聚，花朵含珠更娇艳，\\n春雨绵绵情意浓，洗尽铅华现真颜。\\n街头小巷故事多，雨声伴奏唱生活，\\n望穿雨幕待晴空，广州雨中别样红。'}]"
      ]
     },
     "execution_count": 14,
     "metadata": {},
     "output_type": "execute_result"
    }
   ],
   "source": [
    "d.state.messages"
   ]
  },
  {
   "cell_type": "code",
   "execution_count": 23,
   "id": "e9e63c6b-af47-4595-a581-90494477e0eb",
   "metadata": {},
   "outputs": [
    {
     "name": "stdout",
     "output_type": "stream",
     "text": [
      "\u001b[32m不是\u001b[0m\u001b[32m的\u001b[0m\u001b[32m，\u001b[0m\u001b[32m任务要求根据广州今天的\u001b[0m\u001b[32m天气写一首四句歌词，这\u001b[0m\u001b[32m更接近于现代歌词创作而非古典\u001b[0m\u001b[32m诗歌。古典诗歌通常有特定的\u001b[0m\u001b[32m格律、押韵规则及意\u001b[0m\u001b[32m象运用，而根据天气创作歌词\u001b[0m\u001b[32m则更为自由灵活，偏向于现代\u001b[0m\u001b[32m歌曲的表达方式。\u001b[0m\u001b[32m\u001b[0m\n",
      "\n"
     ]
    },
    {
     "data": {
      "text/plain": [
       "[{'role': 'system',\n",
       "  'content': '你是强大的写作助手。\\n\\n你必须遵循以下约束来完成任务:\\n1. 直接输出你的结果，不要评论，不要啰嗦\\n2. 使用markdown格式输出\\n**你的任务是:**\\n根据广州今天的天气写一首4句歌词\\n'},\n",
       " {'role': 'user', 'content': '请开始'},\n",
       " {'role': 'assistant',\n",
       "  'content': '',\n",
       "  'tool_calls': [{'index': 0,\n",
       "    'id': 'call_b9cfb902adf647a4b6f2e6',\n",
       "    'type': 'function',\n",
       "    'function': {'name': 'get_current_weather',\n",
       "     'arguments': '{\"location\": \"广州\"}'}}]},\n",
       " {'role': 'tool', 'name': 'get_current_weather', 'content': '广州今天下大雨。 '},\n",
       " {'role': 'assistant', 'content': '雨幕洒羊城，水珠舞街巷，\\n伞开花如海，滋润春色长。'},\n",
       " {'role': 'user', 'content': '这是古典诗歌吗？'},\n",
       " {'role': 'assistant', 'content': '这是一个模拟调用!'},\n",
       " {'role': 'user', 'content': '这是古典诗歌吗？'},\n",
       " {'role': 'assistant',\n",
       "  'content': '不是的，任务要求根据广州今天的天气写一首四句歌词，这更接近于现代歌词创作而非古典诗歌。古典诗歌通常有特定的格律、押韵规则及意象运用，而根据天气创作歌词则更为自由灵活，偏向于现代歌曲的表达方式。'}]"
      ]
     },
     "execution_count": 23,
     "metadata": {},
     "output_type": "execute_result"
    }
   ],
   "source": [
    "from textlong.llm import fake_llm\n",
    "d.chat(\"这是古典诗歌吗？\", llm=qwen, k=1)"
   ]
  },
  {
   "cell_type": "code",
   "execution_count": 22,
   "id": "207dd6f3-4a6a-45f0-a5b6-c368bbab170d",
   "metadata": {},
   "outputs": [
    {
     "data": {
      "text/plain": [
       "[{'role': 'system',\n",
       "  'content': '你是强大的写作助手。\\n\\n你必须遵循以下约束来完成任务:\\n1. 直接输出你的结果，不要评论，不要啰嗦\\n2. 使用markdown格式输出\\n**你的任务是:**\\n根据广州今天的天气写一首4句歌词\\n'},\n",
       " {'role': 'user', 'content': '请开始'},\n",
       " {'role': 'assistant',\n",
       "  'content': '',\n",
       "  'tool_calls': [{'index': 0,\n",
       "    'id': 'call_b9cfb902adf647a4b6f2e6',\n",
       "    'type': 'function',\n",
       "    'function': {'name': 'get_current_weather',\n",
       "     'arguments': '{\"location\": \"广州\"}'}}]},\n",
       " {'role': 'tool', 'name': 'get_current_weather', 'content': '广州今天下大雨。 '},\n",
       " {'role': 'assistant', 'content': '雨幕洒羊城，水珠舞街巷，\\n伞开花如海，滋润春色长。'},\n",
       " {'role': 'user', 'content': '改为8句吧'},\n",
       " {'role': 'assistant',\n",
       "  'content': '雨帘密织羊城天，湿了红尘润了田，\\n珠江水面泛轻烟，朦胧楼影入画卷。\\n行人匆匆伞下聚，花朵含珠更娇艳，\\n春雨绵绵情意浓，洗尽铅华现真颜。\\n街头小巷故事多，雨声伴奏唱生活，\\n望穿雨幕待晴空，广州雨中别样红。'},\n",
       " {'role': 'user', 'content': '类似西方的诗歌那样风格'},\n",
       " {'role': 'assistant', 'content': '这是一个模拟调用!'},\n",
       " {'role': 'user', 'content': '类似西方的诗歌那样风格'},\n",
       " {'role': 'assistant', 'content': '这是一个模拟调用!'},\n",
       " {'role': 'user', 'content': '类似西方的诗歌那样风格'},\n",
       " {'role': 'assistant', 'content': '这是一个模拟调用!'},\n",
       " {'role': 'user', 'content': '这是古典诗歌吗？'},\n",
       " {'role': 'assistant', 'content': '这是一个模拟调用!'}]"
      ]
     },
     "execution_count": 22,
     "metadata": {},
     "output_type": "execute_result"
    }
   ],
   "source": [
    "d.state.messages"
   ]
  },
  {
   "cell_type": "markdown",
   "id": "e34807b3-7deb-442f-a047-8d333b0ee973",
   "metadata": {},
   "source": [
    "### 提纲 + 扩写"
   ]
  },
  {
   "cell_type": "code",
   "execution_count": 1,
   "id": "2b20b60c-999d-4ade-8f1c-832a2fbb1a26",
   "metadata": {},
   "outputs": [],
   "source": [
    "from textlong.llm import qwen, fake_llm\n",
    "from textlong.desk import Desk\n",
    "\n",
    "d = Desk(qwen)"
   ]
  },
  {
   "cell_type": "code",
   "execution_count": 2,
   "id": "2c098f42-df93-49f1-8356-ebe0c48cd2a9",
   "metadata": {},
   "outputs": [
    {
     "name": "stdout",
     "output_type": "stream",
     "text": [
      "\u001b[32m#\u001b[0m\u001b[32m\u001b[0m\u001b[32m 兔\u001b[0m\u001b[32m子的欢乐儿歌\u001b[0m\u001b[32m\n",
      "\n",
      "## 第一段：兔子的朋友圈\u001b[0m\u001b[32m\n",
      "<OUTLINE>\n",
      "扩写摘要\u001b[0m\u001b[32m: 描述森林中兔子的朋友们\u001b[0m\u001b[32m，强调友谊的多样性和温馨。\u001b[0m\u001b[32m\n",
      "\n",
      "扩写要求：\n",
      "- 预\u001b[0m\u001b[32m估字数：30字\u001b[0m\u001b[32m\n",
      "- 创意要点：列举三\u001b[0m\u001b[32m到四种不同动物作为兔子的朋友，\u001b[0m\u001b[32m每种动物简要特征描述。\u001b[0m\u001b[32m\n",
      "- 创作思路：通过生动\u001b[0m\u001b[32m活泼的语言，展现一个和谐共处\u001b[0m\u001b[32m的动物小世界。\n",
      "- 实体\u001b[0m\u001b[32m名称：兔子、松鼠、小鸟\u001b[0m\u001b[32m、小鹿\n",
      "</OUTLINE>\u001b[0m\u001b[32m\n",
      "\n",
      "## 第二段：快乐的玩耍\u001b[0m\u001b[32m时光\n",
      "<OUTLINE>\n",
      "扩写\u001b[0m\u001b[32m摘要: 讲述兔子与它的\u001b[0m\u001b[32m朋友们在森林中的趣味游戏，突出\u001b[0m\u001b[32m团队合作与快乐分享。\n",
      "\n",
      "扩写\u001b[0m\u001b[32m要求：\n",
      "- 预估字\u001b[0m\u001b[32m数：30字\n",
      "-\u001b[0m\u001b[32m 创意要点：描述一个具体的游戏\u001b[0m\u001b[32m场景，比如躲猫猫或赛\u001b[0m\u001b[32m跑，体现每个朋友的特长。\u001b[0m\u001b[32m\n",
      "- 创作思路：利用节奏\u001b[0m\u001b[32m明快的句子，传达出游戏\u001b[0m\u001b[32m的紧张与欢笑，以及友情\u001b[0m\u001b[32m的加深。\n",
      "- 实体名称：\u001b[0m\u001b[32m兔子（快速跳跃）、松鼠（\u001b[0m\u001b[32m灵巧爬树）、小鸟（高空\u001b[0m\u001b[32m飞翔）、小鹿（敏捷奔跑）\u001b[0m\u001b[32m\n",
      "</OUTLINE>\u001b[0m\u001b[32m\u001b[0m\n",
      "\n"
     ]
    },
    {
     "data": {
      "text/plain": [
       "'# 兔子的欢乐儿歌\\n\\n\\n## 第一段：兔子的朋友圈\\n\\n<OUTLINE>\\n扩写摘要: 描述森林中兔子的朋友们，强调友谊的多样性和温馨。\\n\\n扩写要求：\\n- 预估字数：30字\\n- 创意要点：列举三到四种不同动物作为兔子的朋友，每种动物简要特征描述。\\n- 创作思路：通过生动活泼的语言，展现一个和谐共处的动物小世界。\\n- 实体名称：兔子、松鼠、小鸟、小鹿\\n</OUTLINE>\\n\\n\\n## 第二段：快乐的玩耍时光\\n\\n<OUTLINE>\\n扩写摘要: 讲述兔子与它的朋友们在森林中的趣味游戏，突出团队合作与快乐分享。\\n\\n扩写要求：\\n- 预估字数：30字\\n- 创意要点：描述一个具体的游戏场景，比如躲猫猫或赛跑，体现每个朋友的特长。\\n- 创作思路：利用节奏明快的句子，传达出游戏的紧张与欢笑，以及友情的加深。\\n- 实体名称：兔子（快速跳跃）、松鼠（灵巧爬树）、小鸟（高空飞翔）、小鹿（敏捷奔跑）\\n</OUTLINE>\\n\\n'"
      ]
     },
     "execution_count": 2,
     "metadata": {},
     "output_type": "execute_result"
    }
   ],
   "source": [
    "d.write({\"task\": \"帮我写一首关于兔子的儿歌，两段即可，第一段些兔子有哪些朋友，第二段些和朋友们一起玩（要求提到具体的朋友）\"})\n",
    "d.output"
   ]
  },
  {
   "cell_type": "code",
   "execution_count": 3,
   "id": "6e851f11-b231-44a2-8909-646110b79c1d",
   "metadata": {},
   "outputs": [
    {
     "name": "stdout",
     "output_type": "stream",
     "text": [
      "1779-646-000\n",
      "1779-007-001\n",
      "1779-437-002\n",
      "1779-220-003\n",
      "1779-908-004\n",
      "1779-581-005\n",
      "1779-656-006\n"
     ]
    }
   ],
   "source": [
    "for doc in d.state.markdown.documents:\n",
    "    print(doc.metadata['id'])"
   ]
  },
  {
   "cell_type": "code",
   "execution_count": 4,
   "id": "7f4036af-4fbe-4f8a-b416-6e4546d25a44",
   "metadata": {},
   "outputs": [
    {
     "name": "stdout",
     "output_type": "stream",
     "text": [
      ">-[INFO]>> \u001b[34m执行扩写任务：\n",
      "扩写摘要: 描述森林中兔子的朋友们，强调友谊的多样性和温馨。\n",
      "\n",
      "扩写要求：\n",
      "- 预估字数：30字\n",
      "- 创意要点：列举三到四种不同动物作为兔子的朋友，每种动物简要特征描述。\n",
      "- 创作思路：通过生动活泼的语言，展现一个和谐共处的动物小世界。\n",
      "- 实体名称：兔子、松鼠、小鸟、小鹿\u001b[0m\n",
      "\u001b[32m##\u001b[0m\u001b[32m 第\u001b[0m\u001b[32m一段\u001b[0m\u001b[32m：兔子的朋友圈\u001b[0m\u001b[32m\n",
      "\n",
      "在翠绿的森林深处，兔子\u001b[0m\u001b[32m拥有一群快乐的朋友：机敏\u001b[0m\u001b[32m的松鼠，总能找到最香\u001b[0m\u001b[32m的坚果；歌唱家小鸟，每天\u001b[0m\u001b[32m清晨以旋律唤醒太阳；还有温柔\u001b[0m\u001b[32m的小鹿，它们一起在林间\u001b[0m\u001b[32m轻盈跳跃。这个多彩的圈子\u001b[0m\u001b[32m，编织着友情的温暖篇章。\u001b[0m\u001b[32m\u001b[0m\u001b[32m\u001b[0m\n",
      "\n",
      ">-[INFO]>> \u001b[34m执行扩写任务：\n",
      "扩写摘要: 讲述兔子与它的朋友们在森林中的趣味游戏，突出团队合作与快乐分享。\n",
      "\n",
      "扩写要求：\n",
      "- 预估字数：30字\n",
      "- 创意要点：描述一个具体的游戏场景，比如躲猫猫或赛跑，体现每个朋友的特长。\n",
      "- 创作思路：利用节奏明快的句子，传达出游戏的紧张与欢笑，以及友情的加深。\n",
      "- 实体名称：兔子（快速跳跃）、松鼠（灵巧爬树）、小鸟（高空飞翔）、小鹿（敏捷奔跑）\u001b[0m\n",
      "\u001b[32m##\u001b[0m\u001b[32m 第\u001b[0m\u001b[32m二\u001b[0m\u001b[32m段：快乐的玩耍\u001b[0m\u001b[32m时光\n",
      "\n",
      "在葱郁森林深处，\u001b[0m\u001b[32m兔子与好友共舞乐章，\u001b[0m\u001b[32m\n",
      "躲猫猫游戏正酣，欢\u001b[0m\u001b[32m声笑语溢满林间走廊\u001b[0m\u001b[32m。\n",
      "兔子快速跳跃，灵活躲藏\u001b[0m\u001b[32m于繁花之后，\n",
      "松鼠灵\u001b[0m\u001b[32m巧爬树，枝头变戏\u001b[0m\u001b[32m法，树叶沙沙响不休\u001b[0m\u001b[32m。\n",
      "小鸟高空飞翔，扮演天空的眼睛\u001b[0m\u001b[32m，俯瞰着追逐的踪迹\u001b[0m\u001b[32m，\n",
      "小鹿敏捷奔跑，在阳光下\u001b[0m\u001b[32m划出一道道光影交错的奇迹\u001b[0m\u001b[32m。\n",
      "团队协作显神威，友谊\u001b[0m\u001b[32m在嬉戏中更加坚不可摧\u001b[0m\u001b[32m，\n",
      "这一天，森林回荡着它们\u001b[0m\u001b[32m快乐的歌，纯粹又明媚。\u001b[0m\u001b[32m\u001b[0m\u001b[32m\u001b[0m\n",
      "\n"
     ]
    },
    {
     "data": {
      "text/plain": [
       "'# 兔子的欢乐儿歌\\n\\n\\n## 第一段：兔子的朋友圈\\n\\n\\n在翠绿的森林深处，兔子拥有一群快乐的朋友：机敏的松鼠，总能找到最香的坚果；歌唱家小鸟，每天清晨以旋律唤醒太阳；还有温柔的小鹿，它们一起在林间轻盈跳跃。这个多彩的圈子，编织着友情的温暖篇章。\\n\\n\\n## 第二段：快乐的玩耍时光\\n\\n\\n在葱郁森林深处，兔子与好友共舞乐章，\\n躲猫猫游戏正酣，欢声笑语溢满林间走廊。\\n兔子快速跳跃，灵活躲藏于繁花之后，\\n松鼠灵巧爬树，枝头变戏法，树叶沙沙响不休。\\n小鸟高空飞翔，扮演天空的眼睛，俯瞰着追逐的踪迹，\\n小鹿敏捷奔跑，在阳光下划出一道道光影交错的奇迹。\\n团队协作显神威，友谊在嬉戏中更加坚不可摧，\\n这一天，森林回荡着它们快乐的歌，纯粹又明媚。\\n\\n'"
      ]
     },
     "execution_count": 4,
     "metadata": {},
     "output_type": "execute_result"
    }
   ],
   "source": [
    "d.from_outline(llm=qwen)\n",
    "d.output"
   ]
  },
  {
   "cell_type": "code",
   "execution_count": 5,
   "id": "e4e13926-751e-470d-9e74-bd00198fb13d",
   "metadata": {},
   "outputs": [
    {
     "data": {
      "text/plain": [
       "{'1779-220-003': [{'role': 'system',\n",
       "   'content': '你是强大的写作助手。\\n\\n你必须遵循以下约束来完成任务:\\n1. 直接输出你的结果，不要评论，不要啰嗦\\n2. 使用markdown格式输出\\n3. 你必须根据已有提纲扩写，不要修改提纲中对扩写的要求和限定，不要额外发挥\\n**已有文字草稿如下:**\\n```markdown\\n# 兔子的欢乐儿歌\\n\\n\\n## 第一段：兔子的朋友圈\\n\\n&lt;&lt;&lt;YOUR_TEXT&gt;&gt;&gt;\\n\\n\\n## 第二段：快乐的玩耍时光\\n\\n...\\n\\n```\\n\\n**请你按照如下扩写任务要求生成一段文字，使其适合替换上面文字草稿中`<<<YOUR_TEXT>>>`所在位置:**\\n```markdown\\n扩写摘要: 描述森林中兔子的朋友们，强调友谊的多样性和温馨。\\n\\n扩写要求：\\n- 预估字数：30字\\n- 创意要点：列举三到四种不同动物作为兔子的朋友，每种动物简要特征描述。\\n- 创作思路：通过生动活泼的语言，展现一个和谐共处的动物小世界。\\n- 实体名称：兔子、松鼠、小鸟、小鹿\\n```\\n'},\n",
       "  {'role': 'user', 'content': '请开始'},\n",
       "  {'role': 'assistant',\n",
       "   'content': '## 第一段：兔子的朋友圈\\n\\n在翠绿的森林深处，兔子拥有一群快乐的朋友：机敏的松鼠，总能找到最香的坚果；歌唱家小鸟，每天清晨以旋律唤醒太阳；还有温柔的小鹿，它们一起在林间轻盈跳跃。这个多彩的圈子，编织着友情的温暖篇章。'}],\n",
       " '1779-656-006': [{'role': 'system',\n",
       "   'content': '你是强大的写作助手。\\n\\n你必须遵循以下约束来完成任务:\\n1. 直接输出你的结果，不要评论，不要啰嗦\\n2. 使用markdown格式输出\\n3. 你必须根据已有提纲扩写，不要修改提纲中对扩写的要求和限定，不要额外发挥\\n**已有文字草稿如下:**\\n```markdown\\n# 兔子的欢乐儿歌\\n\\n\\n## 第一段：兔子的朋友圈\\n\\n...\\n\\n## 第二段：快乐的玩耍时光\\n\\n&lt;&lt;&lt;YOUR_TEXT&gt;&gt;&gt;\\n\\n\\n```\\n\\n**请你按照如下扩写任务要求生成一段文字，使其适合替换上面文字草稿中`<<<YOUR_TEXT>>>`所在位置:**\\n```markdown\\n扩写摘要: 讲述兔子与它的朋友们在森林中的趣味游戏，突出团队合作与快乐分享。\\n\\n扩写要求：\\n- 预估字数：30字\\n- 创意要点：描述一个具体的游戏场景，比如躲猫猫或赛跑，体现每个朋友的特长。\\n- 创作思路：利用节奏明快的句子，传达出游戏的紧张与欢笑，以及友情的加深。\\n- 实体名称：兔子（快速跳跃）、松鼠（灵巧爬树）、小鸟（高空飞翔）、小鹿（敏捷奔跑）\\n```\\n'},\n",
       "  {'role': 'user', 'content': '请开始'},\n",
       "  {'role': 'assistant',\n",
       "   'content': '## 第二段：快乐的玩耍时光\\n\\n在葱郁森林深处，兔子与好友共舞乐章，\\n躲猫猫游戏正酣，欢声笑语溢满林间走廊。\\n兔子快速跳跃，灵活躲藏于繁花之后，\\n松鼠灵巧爬树，枝头变戏法，树叶沙沙响不休。\\n小鸟高空飞翔，扮演天空的眼睛，俯瞰着追逐的踪迹，\\n小鹿敏捷奔跑，在阳光下划出一道道光影交错的奇迹。\\n团队协作显神威，友谊在嬉戏中更加坚不可摧，\\n这一天，森林回荡着它们快乐的歌，纯粹又明媚。'}]}"
      ]
     },
     "execution_count": 5,
     "metadata": {},
     "output_type": "execute_result"
    }
   ],
   "source": [
    "d.state.from_outline"
   ]
  },
  {
   "cell_type": "code",
   "execution_count": 12,
   "id": "4dfdb075-8e23-4013-a406-06031a1dd296",
   "metadata": {},
   "outputs": [
    {
     "name": "stdout",
     "output_type": "stream",
     "text": [
      "# 兔子的欢乐儿歌\n",
      "\n",
      "\n",
      "## 第一段：兔子的朋友圈\n",
      "\n",
      "<OUTLINE>\n",
      "扩写摘要: 描述森林中兔子的朋友们，强调友谊的多样性和温馨。\n",
      "\n",
      "扩写要求：\n",
      "- 预估字数：30字\n",
      "- 创意要点：列举三到四种不同动物作为兔子的朋友，每种动物简要特征描述。\n",
      "- 创作思路：通过生动活泼的语言，展现一个和谐共处的动物小世界。\n",
      "- 实体名称：兔子、松鼠、小鸟、小鹿\n",
      "</OUTLINE>\n",
      "\n",
      "\n",
      "## 第二段：快乐的玩耍时光\n",
      "\n",
      "<OUTLINE>\n",
      "扩写摘要: 讲述兔子与它的朋友们在森林中的趣味游戏，突出团队合作与快乐分享。\n",
      "\n",
      "扩写要求：\n",
      "- 预估字数：30字\n",
      "- 创意要点：描述一个具体的游戏场景，比如躲猫猫或赛跑，体现每个朋友的特长。\n",
      "- 创作思路：利用节奏明快的句子，传达出游戏的紧张与欢笑，以及友情的加深。\n",
      "- 实体名称：兔子（快速跳跃）、松鼠（灵巧爬树）、小鸟（高空飞翔）、小鹿（敏捷奔跑）\n",
      "</OUTLINE>\n",
      "\n",
      "\n"
     ]
    }
   ],
   "source": [
    "print(d.state.markdown.text)"
   ]
  },
  {
   "cell_type": "code",
   "execution_count": null,
   "id": "f88295f0-43f4-493d-a124-7f06c01fac5b",
   "metadata": {},
   "outputs": [],
   "source": []
  }
 ],
 "metadata": {
  "jpcodetoc-autonumbering": false,
  "kernelspec": {
   "display_name": "textlong-same-ipykernel",
   "language": "python",
   "name": "textlong-same-ipykernel"
  },
  "language_info": {
   "codemirror_mode": {
    "name": "ipython",
    "version": 3
   },
   "file_extension": ".py",
   "mimetype": "text/x-python",
   "name": "python",
   "nbconvert_exporter": "python",
   "pygments_lexer": "ipython3",
   "version": "3.10.0"
  }
 },
 "nbformat": 4,
 "nbformat_minor": 5
}
