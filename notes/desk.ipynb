{
 "cells": [
  {
   "cell_type": "markdown",
   "id": "532d485f-8069-427a-9934-d74b71f80be1",
   "metadata": {},
   "source": [
    "# 重新定义大模型和智能体"
   ]
  },
  {
   "cell_type": "markdown",
   "id": "daebcb1f-592d-48ec-aa99-f11b3efb377a",
   "metadata": {},
   "source": [
    "## 多轮对话"
   ]
  },
  {
   "cell_type": "markdown",
   "id": "8790399f-d4b4-4dd0-9559-136224b2c7cf",
   "metadata": {},
   "source": [
    "使用`messages`管理多轮对话的记忆。<br>\n",
    "你也可以在`chat`函数中通过参数`k`限制希望保留的对话轮次，但这不影响`messages`记录完整的对话过程。"
   ]
  },
  {
   "cell_type": "code",
   "execution_count": 1,
   "id": "db74091f-7698-4d62-9aee-68f36e2c0a7b",
   "metadata": {},
   "outputs": [],
   "source": [
    "from textlong.llm import fake_llm, zhipu, qwen\n",
    "from textlong.desk import Desk\n",
    "\n",
    "w = Desk(zhipu)"
   ]
  },
  {
   "cell_type": "code",
   "execution_count": 2,
   "id": "1b0ff138-b0ed-43d3-8c01-bef4f1acaa5f",
   "metadata": {},
   "outputs": [
    {
     "name": "stdout",
     "output_type": "stream",
     "text": [
      "\u001b[32m当然\u001b[0m\u001b[32m可以\u001b[0m\u001b[32m，\u001b[0m\u001b[32m以下\u001b[0m\u001b[32m是一\u001b[0m\u001b[32m首\u001b[0m\u001b[32m关于\u001b[0m\u001b[32m兔子\u001b[0m\u001b[32m做梦\u001b[0m\u001b[32m的四\u001b[0m\u001b[32m句\u001b[0m\u001b[32m儿\u001b[0m\u001b[32m歌\u001b[0m\u001b[32m：\n",
      "\n",
      "小\u001b[0m\u001b[32m兔子\u001b[0m\u001b[32m，\u001b[0m\u001b[32m梦里\u001b[0m\u001b[32m飞\u001b[0m\u001b[32m，\n",
      "森林\u001b[0m\u001b[32m里\u001b[0m\u001b[32m，\u001b[0m\u001b[32m花儿\u001b[0m\u001b[32m笑\u001b[0m\u001b[32m。\n",
      "彩虹\u001b[0m\u001b[32m桥\u001b[0m\u001b[32m，\u001b[0m\u001b[32m月亮\u001b[0m\u001b[32m船\u001b[0m\u001b[32m，\n",
      "梦中\u001b[0m\u001b[32m世界\u001b[0m\u001b[32m，\u001b[0m\u001b[32m好\u001b[0m\u001b[32m奇妙\u001b[0m\u001b[32m。\u001b[0m\n",
      "\n"
     ]
    },
    {
     "data": {
      "text/plain": [
       "[{'role': 'user', 'content': '你能帮我写一首关于兔子做梦的四句儿歌?'},\n",
       " {'role': 'assistant',\n",
       "  'content': '当然可以，以下是一首关于兔子做梦的四句儿歌：\\n\\n小兔子，梦里飞，\\n森林里，花儿笑。\\n彩虹桥，月亮船，\\n梦中世界，好奇妙。'}]"
      ]
     },
     "execution_count": 2,
     "metadata": {},
     "output_type": "execute_result"
    }
   ],
   "source": [
    "w.chat(\"你能帮我写一首关于兔子做梦的四句儿歌?\")"
   ]
  },
  {
   "cell_type": "code",
   "execution_count": 3,
   "id": "29b9d9c9-6523-4642-8ed7-d42bf84554c3",
   "metadata": {},
   "outputs": [
    {
     "name": "stdout",
     "output_type": "stream",
     "text": [
      "\u001b[32m当然\u001b[0m\u001b[32m可以\u001b[0m\u001b[32m，\u001b[0m\u001b[32m这是\u001b[0m\u001b[32m关于\u001b[0m\u001b[32m小\u001b[0m\u001b[32m羊\u001b[0m\u001b[32m做梦\u001b[0m\u001b[32m的四\u001b[0m\u001b[32m句\u001b[0m\u001b[32m儿\u001b[0m\u001b[32m歌\u001b[0m\u001b[32m：\n",
      "\n",
      "小\u001b[0m\u001b[32m羊\u001b[0m\u001b[32m儿\u001b[0m\u001b[32m，\u001b[0m\u001b[32m梦中\u001b[0m\u001b[32m跳\u001b[0m\u001b[32m，\n",
      "绿\u001b[0m\u001b[32m草\u001b[0m\u001b[32m丛\u001b[0m\u001b[32m，\u001b[0m\u001b[32m花儿\u001b[0m\u001b[32m摇\u001b[0m\u001b[32m。\n",
      "白云\u001b[0m\u001b[32m间\u001b[0m\u001b[32m，\u001b[0m\u001b[32m星星\u001b[0m\u001b[32m笑\u001b[0m\u001b[32m，\n",
      "梦\u001b[0m\u001b[32m里的\u001b[0m\u001b[32m家园\u001b[0m\u001b[32m，\u001b[0m\u001b[32m多\u001b[0m\u001b[32m美好\u001b[0m\u001b[32m。\u001b[0m\n",
      "\n"
     ]
    },
    {
     "data": {
      "text/plain": [
       "[{'role': 'user', 'content': '你能帮我写一首关于兔子做梦的四句儿歌?'},\n",
       " {'role': 'assistant',\n",
       "  'content': '当然可以，以下是一首关于兔子做梦的四句儿歌：\\n\\n小兔子，梦里飞，\\n森林里，花儿笑。\\n彩虹桥，月亮船，\\n梦中世界，好奇妙。'},\n",
       " {'role': 'user', 'content': '换成小羊吧'},\n",
       " {'role': 'assistant',\n",
       "  'content': '当然可以，这是关于小羊做梦的四句儿歌：\\n\\n小羊儿，梦中跳，\\n绿草丛，花儿摇。\\n白云间，星星笑，\\n梦里的家园，多美好。'}]"
      ]
     },
     "execution_count": 3,
     "metadata": {},
     "output_type": "execute_result"
    }
   ],
   "source": [
    "w.chat(\"换成小羊吧\")"
   ]
  },
  {
   "cell_type": "code",
   "execution_count": 4,
   "id": "cb4a8781-f7cb-4330-98d4-1d1b549f6c8d",
   "metadata": {},
   "outputs": [
    {
     "data": {
      "text/plain": [
       "[{'role': 'user', 'content': '你能帮我写一首关于兔子做梦的四句儿歌?'},\n",
       " {'role': 'assistant',\n",
       "  'content': '当然可以，以下是一首关于兔子做梦的四句儿歌：\\n\\n小兔子，梦里飞，\\n森林里，花儿笑。\\n彩虹桥，月亮船，\\n梦中世界，好奇妙。'},\n",
       " {'role': 'user', 'content': '换成小羊吧'},\n",
       " {'role': 'assistant',\n",
       "  'content': '当然可以，这是关于小羊做梦的四句儿歌：\\n\\n小羊儿，梦中跳，\\n绿草丛，花儿摇。\\n白云间，星星笑，\\n梦里的家园，多美好。'}]"
      ]
     },
     "execution_count": 4,
     "metadata": {},
     "output_type": "execute_result"
    }
   ],
   "source": [
    "w.state.messages"
   ]
  },
  {
   "cell_type": "code",
   "execution_count": 5,
   "id": "fbb77df1-1f87-4ef7-8e91-7289796d4f31",
   "metadata": {},
   "outputs": [
    {
     "name": "stdout",
     "output_type": "stream",
     "text": [
      "\u001b[32m好的\u001b[0m\u001b[32m，\u001b[0m\u001b[32m这是\u001b[0m\u001b[32m关于\u001b[0m\u001b[32m小\u001b[0m\u001b[32m羊\u001b[0m\u001b[32m在\u001b[0m\u001b[32m蓝天\u001b[0m\u001b[32m上\u001b[0m\u001b[32m做梦\u001b[0m\u001b[32m的四\u001b[0m\u001b[32m句\u001b[0m\u001b[32m儿\u001b[0m\u001b[32m歌\u001b[0m\u001b[32m：\n",
      "\n",
      "小\u001b[0m\u001b[32m羊\u001b[0m\u001b[32m儿\u001b[0m\u001b[32m，\u001b[0m\u001b[32m蓝天\u001b[0m\u001b[32m梦\u001b[0m\u001b[32m，\n",
      "白云\u001b[0m\u001b[32m间\u001b[0m\u001b[32m，\u001b[0m\u001b[32m自由\u001b[0m\u001b[32m翔\u001b[0m\u001b[32m。\n",
      "彩虹\u001b[0m\u001b[32m桥\u001b[0m\u001b[32m，\u001b[0m\u001b[32m星星\u001b[0m\u001b[32m闪\u001b[0m\u001b[32m，\n",
      "梦中\u001b[0m\u001b[32m蓝天\u001b[0m\u001b[32m，\u001b[0m\u001b[32m任\u001b[0m\u001b[32m徜\u001b[0m\u001b[32m徉\u001b[0m\u001b[32m。\u001b[0m\n",
      "\n"
     ]
    },
    {
     "data": {
      "text/plain": [
       "[{'role': 'user', 'content': '你能帮我写一首关于兔子做梦的四句儿歌?'},\n",
       " {'role': 'assistant',\n",
       "  'content': '当然可以，以下是一首关于兔子做梦的四句儿歌：\\n\\n小兔子，梦里飞，\\n森林里，花儿笑。\\n彩虹桥，月亮船，\\n梦中世界，好奇妙。'},\n",
       " {'role': 'user', 'content': '换成小羊吧'},\n",
       " {'role': 'assistant',\n",
       "  'content': '当然可以，这是关于小羊做梦的四句儿歌：\\n\\n小羊儿，梦中跳，\\n绿草丛，花儿摇。\\n白云间，星星笑，\\n梦里的家园，多美好。'},\n",
       " {'role': 'user', 'content': '改为在蓝天上'},\n",
       " {'role': 'assistant',\n",
       "  'content': '好的，这是关于小羊在蓝天上做梦的四句儿歌：\\n\\n小羊儿，蓝天梦，\\n白云间，自由翔。\\n彩虹桥，星星闪，\\n梦中蓝天，任徜徉。'}]"
      ]
     },
     "execution_count": 5,
     "metadata": {},
     "output_type": "execute_result"
    }
   ],
   "source": [
    "w.chat(\"改为在蓝天上\")"
   ]
  },
  {
   "cell_type": "markdown",
   "id": "1cd422aa-518a-41f8-b6c2-4404edecb782",
   "metadata": {},
   "source": [
    "调用时可以切换模型，例如用来模拟和查看提示语的 `fake_llm`："
   ]
  },
  {
   "cell_type": "code",
   "execution_count": 8,
   "id": "d013a1fd-deaa-4124-9804-6121d04705e6",
   "metadata": {},
   "outputs": [
    {
     "name": "stdout",
     "output_type": "stream",
     "text": [
      ">-[INFO]>> \u001b[34muser: 你能帮我写一首关于兔子做梦的四句儿歌?\u001b[0m\n",
      ">-[INFO]>> \u001b[34massistant: 小兔子，睡梦乡，  \n",
      "梦见自己穿花裳。  \n",
      "耳朵长，跳得欢，  \n",
      "月光下，舞翩翩。\u001b[0m\n",
      ">-[INFO]>> \u001b[34muser: 换成小羊吧\u001b[0m\n",
      ">-[INFO]>> \u001b[34massistant: 小羊羔，梦中游，  \n",
      "白云上，蹦蹦跳。  \n",
      "羊毛软，月光柔，  \n",
      "梦见青草满山坡。\u001b[0m\n",
      ">-[INFO]>> \u001b[34muser: 改为在蓝天上\u001b[0m\n",
      ">-[INFO]>> \u001b[34massistant: 小羊羔，蓝天梦，  \n",
      "云朵间，轻轻蹦。  \n",
      "天空广，风悠扬，  \n",
      "飞翔梦里笑盈盈。\u001b[0m\n",
      ">-[INFO]>> \u001b[34muser: 改为在草地上\u001b[0m\n",
      ">-[INFO]>> \u001b[34massistant: 小羊羔，草地梦，  \n",
      "绿意间，欢乐蹦。  \n",
      "阳光暖，花儿香，  \n",
      "梦中青草尝不尽。\u001b[0m\n",
      ">-[INFO]>> \u001b[34muser: 改为在草地上\u001b[0m\n",
      "\u001b[32m这\u001b[0m\u001b[32m是\u001b[0m\u001b[32m一个\u001b[0m\u001b[32m模拟\u001b[0m\u001b[32m调用\u001b[0m\u001b[32m!\u001b[0m\n",
      "\n"
     ]
    }
   ],
   "source": [
    "w.chat(\"改为在草地上\", llm=fake_llm)"
   ]
  },
  {
   "cell_type": "markdown",
   "id": "6e667cad-8bc8-4ea2-b68e-d1c3687e71d0",
   "metadata": {},
   "source": [
    "### 多轮对话 + 回调工具"
   ]
  },
  {
   "cell_type": "code",
   "execution_count": 1,
   "id": "d898e2c1-a56b-4ffc-bf22-48351429c883",
   "metadata": {},
   "outputs": [],
   "source": [
    "from textlong.llm.tools import tool, convert_to_openai_tool\n",
    "from textlong.llm import qwen\n",
    "from textlong.desk import Desk\n",
    "import json\n",
    "\n",
    "@tool\n",
    "def get_current_weather(location: str):\n",
    "    \"\"\"获取城市的天气情况\"\"\"\n",
    "    return f\"{location}今天是晴天。 \"\n",
    "\n",
    "messages = []\n",
    "d = Desk(qwen, toolkits=[get_current_weather], tools=[convert_to_openai_tool(get_current_weather)])"
   ]
  },
  {
   "cell_type": "code",
   "execution_count": 2,
   "id": "63002e47-0e89-490d-b5e2-6390cdc47ab4",
   "metadata": {},
   "outputs": [
    {
     "name": "stdout",
     "output_type": "stream",
     "text": [
      "[StructuredTool(name='get_current_weather', description='获取城市的天气情况', args_schema=<class 'pydantic.main.get_current_weatherSchema'>, func=<function get_current_weather at 0x10d8cb9a0>), StructuredTool(name='python_code', description='针对数据集名称和问题生成python代码，并返回执行结果。', args_schema=<class 'textlong.llm.tools.python_code.create_python_code_tool.<locals>.PythonCodeInput'>, func=<function create_python_code_tool.<locals>.python_code at 0x10d8cb0a0>)]\n"
     ]
    }
   ],
   "source": [
    "print(d.toolkits)"
   ]
  },
  {
   "cell_type": "code",
   "execution_count": 3,
   "id": "a697d868-9eb8-4c8d-bb0d-0cf368d5323f",
   "metadata": {},
   "outputs": [
    {
     "name": "stdout",
     "output_type": "stream",
     "text": [
      ">-[TOOLS_CALL]>> {\"0\": {\"index\": 0, \"id\": \"\", \"type\": \"function\", \"function\": {\"name\": \"get_current_weather\", \"arguments\": \"{\\\"location\\\": \\\"\\u5e7f\\u5dde\\\"}\"}}}\n",
      ">-[TOOL_RESP]>> \u001b[34m广州今天是晴天。 \u001b[0m\n",
      "\u001b[32m广\u001b[0m\u001b[32m州今天是晴天\u001b[0m\u001b[32m。不过请注意，实际天气可能会有所\u001b[0m\u001b[32m变化，出行最好还是再次确认一下\u001b[0m\u001b[32m天气预报。\u001b[0m\u001b[32m\u001b[0m\n",
      "\n"
     ]
    },
    {
     "data": {
      "text/plain": [
       "[{'role': 'user', 'content': '今天广州天气如何啊'},\n",
       " {'role': 'assistant',\n",
       "  'content': '',\n",
       "  'tool_calls': [{'index': 0,\n",
       "    'id': '',\n",
       "    'type': 'function',\n",
       "    'function': {'name': 'get_current_weather',\n",
       "     'arguments': '{\"location\": \"广州\"}'}}]},\n",
       " {'role': 'tool', 'name': 'get_current_weather', 'content': '广州今天是晴天。 '},\n",
       " {'role': 'assistant',\n",
       "  'content': '广州今天是晴天。不过请注意，实际天气可能会有所变化，出行最好还是再次确认一下天气预报。'}]"
      ]
     },
     "execution_count": 3,
     "metadata": {},
     "output_type": "execute_result"
    }
   ],
   "source": [
    "d.chat(\"今天广州天气如何啊\")"
   ]
  },
  {
   "cell_type": "code",
   "execution_count": 4,
   "id": "67fe453f-dd4a-4c1d-a0aa-8e8122c88538",
   "metadata": {},
   "outputs": [
    {
     "name": "stdout",
     "output_type": "stream",
     "text": [
      "\u001b[32m我\u001b[0m\u001b[32m使用\u001b[0m\u001b[32m了\u001b[0m\u001b[32m天气查询工具来获取\u001b[0m\u001b[32m广州当前的天气信息。这个工具\u001b[0m\u001b[32m会访问一个气象数据源，根据\u001b[0m\u001b[32m您提供的城市名称（在广州的例子中\u001b[0m\u001b[32m），返回该城市的实时天气状况。\u001b[0m\u001b[32m由于我直接调用该工具并\u001b[0m\u001b[32m获取结果，我无法展示具体的查询\u001b[0m\u001b[32m过程，但结果表明今天广州的\u001b[0m\u001b[32m天气是晴朗的。如果您对\u001b[0m\u001b[32m这个过程或者如何自己查询天气感兴趣\u001b[0m\u001b[32m，我可以提供更详细的说明或者指导\u001b[0m\u001b[32m您如何使用类似的在线服务来自行\u001b[0m\u001b[32m查询。\u001b[0m\u001b[32m\u001b[0m\n",
      "\n"
     ]
    },
    {
     "data": {
      "text/plain": [
       "[{'role': 'user', 'content': '今天广州天气如何啊'},\n",
       " {'role': 'assistant',\n",
       "  'content': '',\n",
       "  'tool_calls': [{'index': 0,\n",
       "    'id': '',\n",
       "    'type': 'function',\n",
       "    'function': {'name': 'get_current_weather',\n",
       "     'arguments': '{\"location\": \"广州\"}'}}]},\n",
       " {'role': 'tool', 'name': 'get_current_weather', 'content': '广州今天是晴天。 '},\n",
       " {'role': 'assistant',\n",
       "  'content': '广州今天是晴天。不过请注意，实际天气可能会有所变化，出行最好还是再次确认一下天气预报。'},\n",
       " {'role': 'user', 'content': '这是怎么得出来的？'},\n",
       " {'role': 'assistant',\n",
       "  'content': '我使用了天气查询工具来获取广州当前的天气信息。这个工具会访问一个气象数据源，根据您提供的城市名称（在广州的例子中），返回该城市的实时天气状况。由于我直接调用该工具并获取结果，我无法展示具体的查询过程，但结果表明今天广州的天气是晴朗的。如果您对这个过程或者如何自己查询天气感兴趣，我可以提供更详细的说明或者指导您如何使用类似的在线服务来自行查询。'}]"
      ]
     },
     "execution_count": 4,
     "metadata": {},
     "output_type": "execute_result"
    }
   ],
   "source": [
    "d.chat(\"这是怎么得出来的？\")"
   ]
  },
  {
   "cell_type": "code",
   "execution_count": 5,
   "id": "f5a78d8a-9de4-4718-be14-a900cc20fc60",
   "metadata": {},
   "outputs": [
    {
     "name": "stdout",
     "output_type": "stream",
     "text": [
      ">-[TOOLS_CALL]>> {\"0\": {\"index\": 0, \"id\": \"\", \"type\": \"function\", \"function\": {\"name\": \"get_current_weather\", \"arguments\": \"{\\\"location\\\": \\\"\\u4e0a\\u6d77\\\"}\"}}}\n",
      ">-[TOOL_RESP]>> \u001b[30m上海今天是晴天。 \u001b[0m\n",
      "\u001b[32m上\u001b[0m\u001b[32m海\u001b[0m\u001b[32m今天的天气是晴朗\u001b[0m\u001b[32m的。\u001b[0m\u001b[32m\u001b[0m\n",
      "\n"
     ]
    }
   ],
   "source": [
    "d.chat(\"再看看上海\")"
   ]
  },
  {
   "cell_type": "code",
   "execution_count": 6,
   "id": "d346cd93-8539-4570-bcea-ecbdf370e0a7",
   "metadata": {},
   "outputs": [
    {
     "data": {
      "text/plain": [
       "[{'role': 'user', 'content': '今天广州天气如何啊'},\n",
       " {'role': 'assistant',\n",
       "  'content': '',\n",
       "  'tool_calls': [{'index': 0,\n",
       "    'id': '',\n",
       "    'type': 'function',\n",
       "    'function': {'name': 'get_current_weather',\n",
       "     'arguments': '{\"location\": \"广州\"}'}}]},\n",
       " {'role': 'tool', 'name': 'get_current_weather', 'content': '广州今天是晴天。 '},\n",
       " {'role': 'assistant',\n",
       "  'content': '广州今天是晴天。不过请注意，实际天气可能会有所变化，出行最好还是再次确认一下天气情况。'},\n",
       " {'role': 'user', 'content': '这是怎么得出来的？'},\n",
       " {'role': 'assistant',\n",
       "  'content': '我使用了天气查询工具来获取广州当前的天气信息。这个工具连接到气象数据源，根据提供的城市名称，返回该城市的实时天气状况。由于我不能实际调用外部功能，所以之前的回答是模拟的流程说明。在实际应用中，如果你需要获取某个城市的天气，我可以帮你构造查询请求，然后你来发起调用或者我直接提供模拟的结果说明流程。'},\n",
       " {'role': 'user', 'content': '再看看上海'},\n",
       " {'role': 'assistant',\n",
       "  'content': '',\n",
       "  'tool_calls': [{'index': 0,\n",
       "    'id': '',\n",
       "    'type': 'function',\n",
       "    'function': {'name': 'get_current_weather',\n",
       "     'arguments': '{\"location\": \"上海\"}'}}]},\n",
       " {'role': 'tool', 'name': 'get_current_weather', 'content': '上海今天是晴天。 '},\n",
       " {'role': 'assistant', 'content': '上海今天的天气是晴朗的。'}]"
      ]
     },
     "execution_count": 6,
     "metadata": {},
     "output_type": "execute_result"
    }
   ],
   "source": [
    "d.state.messages"
   ]
  },
  {
   "cell_type": "markdown",
   "id": "a999b6b4-dea0-4ea9-8951-61e6c99a9aa9",
   "metadata": {},
   "source": [
    "## 写作提示语模板"
   ]
  },
  {
   "cell_type": "code",
   "execution_count": 7,
   "id": "1bbed0f8-1a77-4b9e-9227-37dff26abf4f",
   "metadata": {},
   "outputs": [],
   "source": [
    "from textlong.hub import load_chat_template, load_resource_chat_template"
   ]
  },
  {
   "cell_type": "markdown",
   "id": "173b5dbe-360a-41ba-97ee-f944b7293f04",
   "metadata": {},
   "source": [
    "### 加载对话模板的资源\n",
    "\n",
    "指定资源库中的模板ID即可加载模板。"
   ]
  },
  {
   "cell_type": "code",
   "execution_count": 8,
   "id": "dc6cfba0-b58a-445a-9c85-32213033d0b1",
   "metadata": {},
   "outputs": [
    {
     "data": {
      "text/plain": [
       "PromptTemplate(input_variables=['task'], template='你是强大的写作助手。\\n\\n你必须遵循以下约束来完成任务:\\n1. 直接输出你的结果，不要评论，不要啰嗦\\n2. 使用markdown格式输出\\n\\n**你的任务是:**\\n{{task}}\\n', template_format='mustache')"
      ]
     },
     "execution_count": 8,
     "metadata": {},
     "output_type": "execute_result"
    }
   ],
   "source": [
    "load_chat_template(\"IDEA\")"
   ]
  },
  {
   "cell_type": "code",
   "execution_count": 9,
   "id": "113b4bfb-d5b5-4635-bb02-0b32024d1d1c",
   "metadata": {},
   "outputs": [
    {
     "data": {
      "text/plain": [
       "PromptTemplate(input_variables=['task'], template='你是强大的写作助手。\\n\\n你必须遵循以下约束来完成任务:\\n1. 直接输出你的结果，不要评论，不要啰嗦\\n2. 使用markdown格式输出\\n3. 请按照需要输出一份写作提纲\\n4. 提纲的构成应当由多个阔系额要求构成\\n5. 扩写要求必须包含清晰描述，如预估字数、创意要点、创作思路、创作中涉及到的实体名称等\\n5. 每一个扩写要求由完整的 `<OUTLINE>`和`</OUTLINE>` 包裹\\n6. 你只能输出提纲，不要输出具体的扩写内容\\n\\n\\n**你的任务是:**\\n{{task}}\\n\\n\\n**输出例子1**\\n```\\n# 第一章 标题1\\n## 一、XXXX\\n<OUTLINE>\\n扩写摘要:\\n对扩写内容做摘要总结\\n\\n扩写要求：\\n- xxx\\n- xxx\\n</OUTLINE>\\n\\n## 二、XXXX\\n<OUTLINE>\\n</OUTLINE>\\n\\n## （更多扩写提纲）\\n```\\n\\n', template_format='mustache')"
      ]
     },
     "execution_count": 9,
     "metadata": {},
     "output_type": "execute_result"
    }
   ],
   "source": [
    "load_chat_template(\"OUTLINE\")"
   ]
  },
  {
   "cell_type": "markdown",
   "id": "60919f9d-d687-498d-a36c-68b56ebec19e",
   "metadata": {},
   "source": [
    "### 查看构造出的提示语模板"
   ]
  },
  {
   "cell_type": "code",
   "execution_count": 10,
   "id": "69e492c6-bbdf-4fc5-95e9-0aae43a98c30",
   "metadata": {},
   "outputs": [
    {
     "name": "stdout",
     "output_type": "stream",
     "text": [
      "你是强大的写作助手。\n",
      "\n",
      "你必须遵循以下约束来完成任务:\n",
      "1. 直接输出你的结果，不要评论，不要啰嗦\n",
      "2. 使用markdown格式输出\n",
      "3. 请按照需要输出一份写作提纲\n",
      "4. 提纲的构成应当由多个阔系额要求构成\n",
      "5. 扩写要求必须包含清晰描述，如预估字数、创意要点、创作思路、创作中涉及到的实体名称等\n",
      "5. 每一个扩写要求由完整的 `<OUTLINE>`和`</OUTLINE>` 包裹\n",
      "6. 你只能输出提纲，不要输出具体的扩写内容\n",
      "\n",
      "\n",
      "**你的任务是:**\n",
      "请帮我写一首歌\n",
      "\n",
      "\n",
      "**输出例子1**\n",
      "```\n",
      "# 第一章 标题1\n",
      "## 一、XXXX\n",
      "<OUTLINE>\n",
      "扩写摘要:\n",
      "对扩写内容做摘要总结\n",
      "\n",
      "扩写要求：\n",
      "- xxx\n",
      "- xxx\n",
      "</OUTLINE>\n",
      "\n",
      "## 二、XXXX\n",
      "<OUTLINE>\n",
      "</OUTLINE>\n",
      "\n",
      "## （更多扩写提纲）\n",
      "```\n",
      "\n",
      "\n"
     ]
    }
   ],
   "source": [
    "print(load_chat_template(\"OUTLINE\").format(task=\"请帮我写一首歌\"))"
   ]
  },
  {
   "cell_type": "markdown",
   "id": "14216ff2-faba-4015-b262-6a8c8eba2457",
   "metadata": {},
   "source": [
    "### 单轮写作"
   ]
  },
  {
   "cell_type": "code",
   "execution_count": 1,
   "id": "20a94ba4-63b4-4933-950d-334ebcaf4a55",
   "metadata": {},
   "outputs": [],
   "source": [
    "from textlong.llm import qwen, fake_llm\n",
    "from textlong.desk import Desk\n",
    "\n",
    "d = Desk(qwen)"
   ]
  },
  {
   "cell_type": "code",
   "execution_count": 2,
   "id": "dd0df2ad-8e00-4841-8213-249851b483ce",
   "metadata": {},
   "outputs": [
    {
     "name": "stdout",
     "output_type": "stream",
     "text": [
      "\u001b[32m小白\u001b[0m\u001b[32m兔\u001b[0m\u001b[32m白\u001b[0m\u001b[32m又白，\n",
      "耳朵长长\u001b[0m\u001b[32m蹦蹦跳。\n",
      "爱吃萝卜和青\u001b[0m\u001b[32m菜，\n",
      "快乐生活在林间。\u001b[0m\u001b[32m\u001b[0m\n",
      "\n",
      "小白兔白又白，\n",
      "耳朵长长蹦蹦跳。\n",
      "爱吃萝卜和青菜，\n",
      "快乐生活在林间。\n",
      "\n",
      "\n"
     ]
    }
   ],
   "source": [
    "d.write(\"帮我写一首关于兔子的四句儿歌\", template=\"IDEA\")\n",
    "print(d.output)"
   ]
  },
  {
   "cell_type": "code",
   "execution_count": 3,
   "id": "be17cd62-7257-4bb0-8374-52ac987c7c53",
   "metadata": {},
   "outputs": [
    {
     "name": "stdout",
     "output_type": "stream",
     "text": [
      ">-[INFO]>> \u001b[34m没有提纲可供扩写\u001b[0m\n"
     ]
    }
   ],
   "source": [
    "d.from_outline()"
   ]
  },
  {
   "cell_type": "code",
   "execution_count": 4,
   "id": "0f5d03f2-169e-4bef-9fa9-1d0264dba923",
   "metadata": {},
   "outputs": [
    {
     "data": {
      "text/plain": [
       "[{'role': 'system',\n",
       "  'content': '你是强大的写作助手。\\n\\n你必须遵循以下约束来完成任务:\\n1. 直接输出你的结果，不要评论，不要啰嗦\\n2. 使用markdown格式输出\\n3. 请按照需要输出一份写作提纲\\n4. 提纲的构成应当由多个阔系额要求构成\\n5. 扩写要求必须包含清晰描述，如预估字数、创意要点、创作思路、创作中涉及到的实体名称等\\n5. 每一个扩写要求由完整的 `<OUTLINE>`和`</OUTLINE>` 包裹\\n6. 你只能输出提纲，不要输出具体的扩写内容\\n\\n\\n**你的任务是:**\\n帮我写一首关于兔子的儿歌，两个段落即可\\n\\n\\n**输出例子1**\\n```\\n# 第一章 标题1\\n## 一、XXXX\\n<OUTLINE>\\n扩写摘要:\\n对扩写内容做摘要总结\\n\\n扩写要求：\\n- xxx\\n- xxx\\n</OUTLINE>\\n\\n## 二、XXXX\\n<OUTLINE>\\n</OUTLINE>\\n\\n## （更多扩写提纲）\\n```\\n\\n'},\n",
       " {'role': 'user', 'content': '请你开始'},\n",
       " {'role': 'assistant',\n",
       "  'content': '# 小兔子的欢乐歌\\n## 一、小兔子跳跳\\n<OUTLINE>\\n扩写摘要: 描述小兔子在阳光明媚的草地上快乐跳跃的场景，表达出童真与自由的氛围。\\n\\n扩写要求:\\n- 描述词：阳光、绿草地、欢快\\n- 动作：跳跃、转圈、耳朵摆动\\n- 预估字数：50字\\n- 创意要点：通过小兔子活泼的动作和周围环境的和谐，展现大自然中的快乐生活。\\n- 创作思路：以小兔子的第一人称叙述，让小听众感受到与小兔子一同玩耍的乐趣。\\n- 实体名称：小兔子、草地、阳光\\n</OUTLINE>\\n\\n## 二、兔子朋友多\\n<OUTLINE>\\n扩写摘要: 引入小兔子的朋友们，如小松鼠、小鸟，展现它们之间的友情和共同玩耍的场景，传递友谊的重要性。\\n\\n扩写要求:\\n- 新角色：小松鼠、小鸟\\n- 活动：分享胡萝卜、唱歌、捉迷藏\\n- 情感表达：快乐、互助、感激\\n- 预估字数：50字\\n- 创意要点：通过动物之间的互动，教育孩子们友谊的珍贵和团队精神。\\n- 创作思路：采用对话形式，让每个动物都有简短的台词，增加儿歌的互动性和趣味性。\\n- 实体名称：小兔子、小松鼠、小鸟、胡萝卜\\n</OUTLINE>'}]"
      ]
     },
     "execution_count": 4,
     "metadata": {},
     "output_type": "execute_result"
    }
   ],
   "source": [
    "d.state.messages"
   ]
  },
  {
   "cell_type": "markdown",
   "id": "71b88acd-1aac-4e7c-84e9-af23998a9214",
   "metadata": {},
   "source": [
    "### 单轮写作 + 回调工具"
   ]
  },
  {
   "cell_type": "code",
   "execution_count": 5,
   "id": "228c4106-3b9f-4e2c-b1d1-21d7aae69f1a",
   "metadata": {},
   "outputs": [
    {
     "name": "stdout",
     "output_type": "stream",
     "text": [
      ">-[TOOLS_CALL]>> \u001b[34m{\"index\": 0, \"id\": \"call_e443fb95b3dc4c6288529e\", \"type\": \"function\", \"function\": {\"name\": \"get_current_weather\", \"arguments\": \"\"}}\u001b[0m\n",
      ">-[TOOLS_CALL]>> \u001b[34m{\"index\": 0, \"id\": \"\", \"type\": \"function\", \"function\": {\"arguments\": \"{\\\"location\\\": \\\"\"}}\u001b[0m\n",
      ">-[TOOLS_CALL]>> \u001b[34m{\"index\": 0, \"id\": \"\", \"type\": \"function\", \"function\": {\"arguments\": \"\\u5e7f\\u5dde\\\"}\"}}\u001b[0m\n",
      ">-[TOOLS_CALL]>> \u001b[34m{\"index\": 0, \"id\": \"\", \"type\": \"function\", \"function\": {}}\u001b[0m\n",
      ">-[TOOLS_CALL]>> {\"0\": {\"index\": 0, \"id\": \"\", \"type\": \"function\", \"function\": {\"name\": \"get_current_weather\", \"arguments\": \"{\\\"location\\\": \\\"\\u5e7f\\u5dde\\\"}\"}}}\n",
      ">-[TOOL_RESP]>> \u001b[34m广州今天下大雨。 \u001b[0m\n",
      "\u001b[32m雨\u001b[0m\u001b[32m珠\u001b[0m\u001b[32m倾泻羊城间\u001b[0m\u001b[32m，  \n",
      "淋湿大街小巷边\u001b[0m\u001b[32m。  \n",
      "伞花朵朵行人急，\u001b[0m\u001b[32m  \n",
      "水雾蒙蒙映天边\u001b[0m\u001b[32m。\u001b[0m\u001b[32m\u001b[0m\n",
      "\n"
     ]
    },
    {
     "data": {
      "text/plain": [
       "[{'role': 'system',\n",
       "  'content': '你是强大的写作助手。\\n\\n你必须遵循以下约束来完成任务:\\n1. 直接输出你的结果，不要评论，不要啰嗦\\n2. 使用markdown格式输出\\n**你的任务是:**\\n根据广州今天的天气写一首4句歌词\\n'},\n",
       " {'role': 'user', 'content': '请根据需要调用工具查询真实数据。'},\n",
       " {'role': 'assistant',\n",
       "  'content': '',\n",
       "  'tool_calls': [{'index': 0,\n",
       "    'id': '',\n",
       "    'type': 'function',\n",
       "    'function': {'name': 'get_current_weather',\n",
       "     'arguments': '{\"location\": \"广州\"}'}}]},\n",
       " {'role': 'tool', 'name': 'get_current_weather', 'content': '广州今天下大雨。 '},\n",
       " {'role': 'assistant',\n",
       "  'content': '雨珠倾泻羊城间，  \\n淋湿大街小巷边。  \\n伞花朵朵行人急，  \\n水雾蒙蒙映天边。'}]"
      ]
     },
     "execution_count": 5,
     "metadata": {},
     "output_type": "execute_result"
    }
   ],
   "source": [
    "from textlong.llm.tools import tool, convert_to_openai_tool\n",
    "from textlong.llm import qwen\n",
    "from textlong.desk import Desk\n",
    "import json\n",
    "\n",
    "@tool\n",
    "def get_current_weather(location: str):\n",
    "    \"\"\"获取城市的天气情况\"\"\"\n",
    "    return f\"{location}今天下大雨。 \"\n",
    "\n",
    "d = Desk(qwen, tools=[convert_to_openai_tool(get_current_weather)], toolkits=[get_current_weather])\n",
    "d.write({\"task\": \"根据广州今天的天气写一首4句歌词\"}, template=\"IDEA\")"
   ]
  },
  {
   "cell_type": "code",
   "execution_count": 7,
   "id": "ce397842-9d6c-4d87-8e70-19850babd1e4",
   "metadata": {},
   "outputs": [
    {
     "data": {
      "text/plain": [
       "'雨珠倾泻羊城间，  \\n淋湿大街小巷边。  \\n伞花朵朵水中舞，  \\n共待晴空映珠江。\\n\\n'"
      ]
     },
     "execution_count": 7,
     "metadata": {},
     "output_type": "execute_result"
    }
   ],
   "source": [
    "d.output"
   ]
  },
  {
   "cell_type": "markdown",
   "id": "3eb3f172-e76a-4933-b039-afc635d58ae9",
   "metadata": {},
   "source": [
    "### 单轮写作 + 多轮对话"
   ]
  },
  {
   "cell_type": "code",
   "execution_count": 7,
   "id": "23c1241c-6f5d-4773-ab83-8a5e04ac4d6b",
   "metadata": {},
   "outputs": [
    {
     "name": "stdout",
     "output_type": "stream",
     "text": [
      "\u001b[32m羊\u001b[0m\u001b[32m城\u001b[0m\u001b[32m晨\u001b[0m\u001b[32m起雾蒙蒙，\u001b[0m\u001b[32m  \n",
      "乌云密布罩天空。\u001b[0m\u001b[32m  \n",
      "大雨滂沱洗尘埃，\u001b[0m\u001b[32m  \n",
      "街巷人影匆匆行。\u001b[0m\u001b[32m\n",
      "\n",
      "叶间珠落奏清音，\u001b[0m\u001b[32m  \n",
      "江面泛起点点纹。\u001b[0m\u001b[32m  \n",
      "伞下笑语声连连，\u001b[0m\u001b[32m  \n",
      "共赏雨中广州情。\u001b[0m\u001b[32m\n",
      "\n",
      "天际灰蒙待放晴，\u001b[0m\u001b[32m  \n",
      "雨后彩虹许人期。\u001b[0m\u001b[32m  \n",
      "这座城市雨中韵，  \n",
      "更\u001b[0m\u001b[32m显温婉与生机。\u001b[0m\u001b[32m\u001b[0m\n",
      "\n"
     ]
    }
   ],
   "source": [
    "d.chat(\"改为8句吧\")"
   ]
  },
  {
   "cell_type": "code",
   "execution_count": 8,
   "id": "91c4457f-96fe-40e9-9bbd-c4cf293fa1b6",
   "metadata": {},
   "outputs": [
    {
     "data": {
      "text/plain": [
       "[{'role': 'system',\n",
       "  'content': '你是强大的写作助手。\\n\\n你必须遵循以下约束来完成任务:\\n1. 直接输出你的结果，不要评论，不要啰嗦\\n2. 使用markdown格式输出\\n\\n**你的任务是:**\\n根据广州今天的天气写一首4句歌词\\n'},\n",
       " {'role': 'user', 'content': '请你开始'},\n",
       " {'role': 'assistant',\n",
       "  'content': '',\n",
       "  'tool_calls': [{'index': 0,\n",
       "    'id': '',\n",
       "    'type': 'function',\n",
       "    'function': {'name': 'get_current_weather',\n",
       "     'arguments': '{\"location\": \"广州\"}'}}]},\n",
       " {'role': 'tool', 'name': 'get_current_weather', 'content': '广州今天下大雨。 '},\n",
       " {'role': 'assistant',\n",
       "  'content': '雨珠倾泻羊城间，  \\n淋湿大街小巷边。  \\n伞花朵朵水中舞，  \\n映出珠江烟雨天。'},\n",
       " {'role': 'user', 'content': '改为8句吧'},\n",
       " {'role': 'assistant',\n",
       "  'content': '羊城晨起雾蒙蒙，  \\n乌云密布罩天空。  \\n大雨滂沱洗尘埃，  \\n街巷人影匆匆行。\\n\\n叶间珠落奏清音，  \\n江面泛起点点纹。  \\n伞下笑语声连连，  \\n共赏雨中广州情。\\n\\n天际灰蒙待放晴，  \\n雨后彩虹许人期。  \\n这座城市雨中韵，  \\n更显温婉与生机。'}]"
      ]
     },
     "execution_count": 8,
     "metadata": {},
     "output_type": "execute_result"
    }
   ],
   "source": [
    "d.state.messages"
   ]
  },
  {
   "cell_type": "code",
   "execution_count": 9,
   "id": "e9e63c6b-af47-4595-a581-90494477e0eb",
   "metadata": {},
   "outputs": [
    {
     "name": "stdout",
     "output_type": "stream",
     "text": [
      "\u001b[32m晨\u001b[0m\u001b[32m曦\u001b[0m\u001b[32m微\u001b[0m\u001b[32m露，穗城罩\u001b[0m\u001b[32m轻纱，  \n",
      "阴云低垂\u001b[0m\u001b[32m，天际暗哑。  \n",
      "雨\u001b[0m\u001b[32m丝细织，如织女泪\u001b[0m\u001b[32m下，  \n",
      "街巷蜿蜒，\u001b[0m\u001b[32m映水光鞋踏。\n",
      "\n",
      "伞开\u001b[0m\u001b[32m成花，行人间绽放，\u001b[0m\u001b[32m  \n",
      "笑语藏匿雨声间，\u001b[0m\u001b[32m秘密共享。  \n",
      "叶尖珠落\u001b[0m\u001b[32m，乐章轻启，  \n",
      "江\u001b[0m\u001b[32m面涟漪，舞动无常\u001b[0m\u001b[32m的幻想。\n",
      "\n",
      "盼雨歇时，\u001b[0m\u001b[32m云破处漏金光，\u001b[0m\u001b[32m  \n",
      "彩虹如桥，横跨希望的\u001b[0m\u001b[32m妄想。  \n",
      "此景致中\u001b[0m\u001b[32m，广州城如诗如画，\u001b[0m\u001b[32m  \n",
      "雨后更觅，那抹\u001b[0m\u001b[32m古典的西方雅。\u001b[0m\u001b[32m\u001b[0m\n",
      "\n"
     ]
    }
   ],
   "source": [
    "d.chat(\"类似西方的诗歌那样风格\", model=\"qwen2-1.5b-instruct\")"
   ]
  },
  {
   "cell_type": "code",
   "execution_count": 10,
   "id": "207dd6f3-4a6a-45f0-a5b6-c368bbab170d",
   "metadata": {},
   "outputs": [
    {
     "data": {
      "text/plain": [
       "[{'role': 'system',\n",
       "  'content': '你是强大的写作助手。\\n\\n你必须遵循以下约束来完成任务:\\n1. 直接输出你的结果，不要评论，不要啰嗦\\n2. 使用markdown格式输出\\n\\n**你的任务是:**\\n根据广州今天的天气写一首4句歌词\\n'},\n",
       " {'role': 'user', 'content': '请你开始'},\n",
       " {'role': 'assistant',\n",
       "  'content': '',\n",
       "  'tool_calls': [{'index': 0,\n",
       "    'id': '',\n",
       "    'type': 'function',\n",
       "    'function': {'name': 'get_current_weather',\n",
       "     'arguments': '{\"location\": \"广州\"}'}}]},\n",
       " {'role': 'tool', 'name': 'get_current_weather', 'content': '广州今天下大雨。 '},\n",
       " {'role': 'assistant',\n",
       "  'content': '雨珠倾泻羊城间，  \\n淋湿大街小巷边。  \\n伞花朵朵水中舞，  \\n映出珠江烟雨天。'},\n",
       " {'role': 'user', 'content': '改为8句吧'},\n",
       " {'role': 'assistant',\n",
       "  'content': '羊城晨起雾蒙蒙，  \\n乌云密布罩天空。  \\n大雨滂沱洗尘埃，  \\n街巷人影匆匆行。\\n\\n叶间珠落奏清音，  \\n江面泛起点点纹。  \\n伞下笑语声连连，  \\n共赏雨中广州情。\\n\\n天际灰蒙待放晴，  \\n雨后彩虹许人期。  \\n这座城市雨中韵，  \\n更显温婉与生机。'},\n",
       " {'role': 'user', 'content': '类似西方的诗歌那样风格'},\n",
       " {'role': 'assistant',\n",
       "  'content': '晨曦微露，穗城罩轻纱，  \\n阴云低垂，天际暗哑。  \\n雨丝细织，如织女泪下，  \\n街巷蜿蜒，映水光鞋踏。\\n\\n伞开成花，行人间绽放，  \\n笑语藏匿雨声间，秘密共享。  \\n叶尖珠落，乐章轻启，  \\n江面涟漪，舞动无常的幻想。\\n\\n盼雨歇时，云破处漏金光，  \\n彩虹如桥，横跨希望的妄想。  \\n此景致中，广州城如诗如画，  \\n雨后更觅，那抹古典的西方雅。'}]"
      ]
     },
     "execution_count": 10,
     "metadata": {},
     "output_type": "execute_result"
    }
   ],
   "source": [
    "d.state.messages"
   ]
  },
  {
   "cell_type": "markdown",
   "id": "e34807b3-7deb-442f-a047-8d333b0ee973",
   "metadata": {},
   "source": [
    "### 提纲 + 扩写"
   ]
  },
  {
   "cell_type": "code",
   "execution_count": 1,
   "id": "2b20b60c-999d-4ade-8f1c-832a2fbb1a26",
   "metadata": {},
   "outputs": [],
   "source": [
    "from textlong.llm import qwen, fake_llm\n",
    "from textlong.desk import Desk\n",
    "\n",
    "d = Desk(qwen)"
   ]
  },
  {
   "cell_type": "code",
   "execution_count": 2,
   "id": "2c098f42-df93-49f1-8356-ebe0c48cd2a9",
   "metadata": {},
   "outputs": [
    {
     "name": "stdout",
     "output_type": "stream",
     "text": [
      "\u001b[32m#\u001b[0m\u001b[32m \u001b[0m\u001b[32m兔\u001b[0m\u001b[32m子的欢乐儿歌\u001b[0m\u001b[32m\n",
      "\n",
      "## 第一段：兔子的朋友圈\u001b[0m\u001b[32m\n",
      "<OUTLINE>\n",
      "扩写摘要\u001b[0m\u001b[32m: 描述森林中兔子的朋友们\u001b[0m\u001b[32m，强调友谊的多样性。\n",
      "\n",
      "扩写\u001b[0m\u001b[32m要求：\n",
      "- 预估字\u001b[0m\u001b[32m数：30字\n",
      "- \u001b[0m\u001b[32m创意要点：列举兔子的三位\u001b[0m\u001b[32m朋友，包括它们的特征或习\u001b[0m\u001b[32m性，如慢吞吞的乌\u001b[0m\u001b[32m龟、机灵的小松鼠、\u001b[0m\u001b[32m唱歌的蓝鸟。\n",
      "- 创\u001b[0m\u001b[32m作思路：通过活泼的节奏介绍\u001b[0m\u001b[32m每一种动物，展现它们与兔子\u001b[0m\u001b[32m之间的友情。\n",
      "- 实体名称：\u001b[0m\u001b[32m乌龟、小松鼠、蓝\u001b[0m\u001b[32m鸟\n",
      "</OUTLINE>\n",
      "\n",
      "## 第\u001b[0m\u001b[32m二段：一起游戏的时光\n",
      "\u001b[0m\u001b[32m<OUTLINE>\n",
      "扩写摘要:\u001b[0m\u001b[32m 描述兔子与朋友们在森林中\u001b[0m\u001b[32m一起玩耍的欢乐场景，体现团结\u001b[0m\u001b[32m与快乐。\n",
      "\n",
      "扩写要求：\n",
      "-\u001b[0m\u001b[32m 预估字数：3\u001b[0m\u001b[32m0字\n",
      "- 创意要点\u001b[0m\u001b[32m：具体描绘一个游戏场景，如\u001b[0m\u001b[32m跳绳比赛（乌龟摇绳\u001b[0m\u001b[32m，兔子和松鼠跳），或\u001b[0m\u001b[32m是在蓝鸟的歌声中进行捉\u001b[0m\u001b[32m迷藏。\n",
      "- 创作思路\u001b[0m\u001b[32m：使用富有韵律的语言，展现\u001b[0m\u001b[32m游戏的乐趣，强调友情与合作的重要性\u001b[0m\u001b[32m。\n",
      "- 实体名称：跳绳\u001b[0m\u001b[32m、捉迷藏、森林\n",
      "</\u001b[0m\u001b[32mOUTLINE>\u001b[0m\u001b[32m\u001b[0m\n",
      "\n"
     ]
    },
    {
     "data": {
      "text/plain": [
       "'# 兔子的欢乐儿歌\\n\\n\\n## 第一段：兔子的朋友圈\\n\\n<OUTLINE>\\n扩写摘要: 描述森林中兔子的朋友们，强调友谊的多样性。\\n\\n扩写要求：\\n- 预估字数：30字\\n- 创意要点：列举兔子的三位朋友，包括它们的特征或习性，如慢吞吞的乌龟、机灵的小松鼠、唱歌的蓝鸟。\\n- 创作思路：通过活泼的节奏介绍每一种动物，展现它们与兔子之间的友情。\\n- 实体名称：乌龟、小松鼠、蓝鸟\\n</OUTLINE>\\n\\n\\n## 第二段：一起游戏的时光\\n\\n<OUTLINE>\\n扩写摘要: 描述兔子与朋友们在森林中一起玩耍的欢乐场景，体现团结与快乐。\\n\\n扩写要求：\\n- 预估字数：30字\\n- 创意要点：具体描绘一个游戏场景，如跳绳比赛（乌龟摇绳，兔子和松鼠跳），或是在蓝鸟的歌声中进行捉迷藏。\\n- 创作思路：使用富有韵律的语言，展现游戏的乐趣，强调友情与合作的重要性。\\n- 实体名称：跳绳、捉迷藏、森林\\n</OUTLINE>\\n\\n'"
      ]
     },
     "execution_count": 2,
     "metadata": {},
     "output_type": "execute_result"
    }
   ],
   "source": [
    "d.write({\"task\": \"帮我写一首关于兔子的儿歌，两段即可，第一段些兔子有哪些朋友，第二段些和朋友们一起玩（要求提到具体的朋友）\"})\n",
    "d.output"
   ]
  },
  {
   "cell_type": "code",
   "execution_count": 3,
   "id": "6e851f11-b231-44a2-8909-646110b79c1d",
   "metadata": {},
   "outputs": [
    {
     "name": "stdout",
     "output_type": "stream",
     "text": [
      "9678-494-000\n",
      "9678-301-001\n",
      "9678-453-002\n",
      "9678-246-003\n",
      "9678-067-004\n",
      "9678-404-005\n",
      "9678-860-006\n"
     ]
    }
   ],
   "source": [
    "for doc in d.state.markdown.documents:\n",
    "    print(doc.metadata['id'])"
   ]
  },
  {
   "cell_type": "code",
   "execution_count": 4,
   "id": "7f4036af-4fbe-4f8a-b416-6e4546d25a44",
   "metadata": {},
   "outputs": [
    {
     "name": "stdout",
     "output_type": "stream",
     "text": [
      ">-[INFO]>> \u001b[34m执行扩写任务：\n",
      "扩写摘要: 描述森林中兔子的朋友们，强调友谊的多样性。\n",
      "\n",
      "扩写要求：\n",
      "- 预估字数：30字\n",
      "- 创意要点：列举兔子的三位朋友，包括它们的特征或习性，如慢吞吞的乌龟、机灵的小松鼠、唱歌的蓝鸟。\n",
      "- 创作思路：通过活泼的节奏介绍每一种动物，展现它们与兔子之间的友情。\n",
      "- 实体名称：乌龟、小松鼠、蓝鸟\u001b[0m\n",
      "\u001b[32m森林\u001b[0m\u001b[32m里\u001b[0m\u001b[32m兔子\u001b[0m\u001b[32m朋友多，  \n",
      "慢\u001b[0m\u001b[32m悠悠乌龟话儿少，  \n",
      "\u001b[0m\u001b[32m机灵小松鼠蹦蹦跳\u001b[0m\u001b[32m，  \n",
      "蓝鸟枝头歌声妙\u001b[0m\u001b[32m。  \n",
      "\n",
      "它们与兔共欢乐，\u001b[0m\u001b[32m  \n",
      "友情编织彩色巢。\u001b[0m\u001b[32m\u001b[0m\n",
      "\n",
      ">-[INFO]>> \u001b[34m执行扩写任务：\n",
      "扩写摘要: 描述兔子与朋友们在森林中一起玩耍的欢乐场景，体现团结与快乐。\n",
      "\n",
      "扩写要求：\n",
      "- 预估字数：30字\n",
      "- 创意要点：具体描绘一个游戏场景，如跳绳比赛（乌龟摇绳，兔子和松鼠跳），或是在蓝鸟的歌声中进行捉迷藏。\n",
      "- 创作思路：使用富有韵律的语言，展现游戏的乐趣，强调友情与合作的重要性。\n",
      "- 实体名称：跳绳、捉迷藏、森林\u001b[0m\n",
      "\u001b[32m在\u001b[0m\u001b[32m绿\u001b[0m\u001b[32m意\u001b[0m\u001b[32m盎然的森林下\u001b[0m\u001b[32m，兔子和朋友们欢聚一堂\u001b[0m\u001b[32m。乌龟摇着跳绳稳\u001b[0m\u001b[32m如钟，兔子松鼠轻盈\u001b[0m\u001b[32m跳，穿梭飞舞乐逍遥。\u001b[0m\u001b[32m蓝鸟歌声起，捉迷藏\u001b[0m\u001b[32m开始啦，枝叶间笑声藏\u001b[0m\u001b[32m，友情在嬉戏中越发牢\u001b[0m\u001b[32m。\u001b[0m\u001b[32m\u001b[0m\n",
      "\n"
     ]
    },
    {
     "data": {
      "text/plain": [
       "'# 兔子的欢乐儿歌\\n\\n\\n## 第一段：兔子的朋友圈\\n\\n<OUTLINE>\\n扩写摘要: 描述森林中兔子的朋友们，强调友谊的多样性。\\n\\n扩写要求：\\n- 预估字数：30字\\n- 创意要点：列举兔子的三位朋友，包括它们的特征或习性，如慢吞吞的乌龟、机灵的小松鼠、唱歌的蓝鸟。\\n- 创作思路：通过活泼的节奏介绍每一种动物，展现它们与兔子之间的友情。\\n- 实体名称：乌龟、小松鼠、蓝鸟\\n</OUTLINE>\\n\\n\\n## 第二段：一起游戏的时光\\n\\n<OUTLINE>\\n扩写摘要: 描述兔子与朋友们在森林中一起玩耍的欢乐场景，体现团结与快乐。\\n\\n扩写要求：\\n- 预估字数：30字\\n- 创意要点：具体描绘一个游戏场景，如跳绳比赛（乌龟摇绳，兔子和松鼠跳），或是在蓝鸟的歌声中进行捉迷藏。\\n- 创作思路：使用富有韵律的语言，展现游戏的乐趣，强调友情与合作的重要性。\\n- 实体名称：跳绳、捉迷藏、森林\\n</OUTLINE>\\n\\n'"
      ]
     },
     "execution_count": 4,
     "metadata": {},
     "output_type": "execute_result"
    }
   ],
   "source": [
    "d.from_outline(llm=qwen)\n",
    "d.output"
   ]
  },
  {
   "cell_type": "code",
   "execution_count": null,
   "id": "e4e13926-751e-470d-9e74-bd00198fb13d",
   "metadata": {},
   "outputs": [],
   "source": []
  }
 ],
 "metadata": {
  "jpcodetoc-autonumbering": false,
  "kernelspec": {
   "display_name": "textlong-same-ipykernel",
   "language": "python",
   "name": "textlong-same-ipykernel"
  },
  "language_info": {
   "codemirror_mode": {
    "name": "ipython",
    "version": 3
   },
   "file_extension": ".py",
   "mimetype": "text/x-python",
   "name": "python",
   "nbconvert_exporter": "python",
   "pygments_lexer": "ipython3",
   "version": "3.10.0"
  }
 },
 "nbformat": 4,
 "nbformat_minor": 5
}
