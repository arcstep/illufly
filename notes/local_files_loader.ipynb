{
 "cells": [
  {
   "cell_type": "code",
   "execution_count": 1,
   "metadata": {},
   "outputs": [],
   "source": [
    "from dotenv import load_dotenv, find_dotenv\n",
    "load_dotenv(find_dotenv(), override=True)\n",
    "import os\n",
    "os.chdir('..')"
   ]
  },
  {
   "cell_type": "markdown",
   "metadata": {},
   "source": [
    "# 1 加载文档"
   ]
  },
  {
   "cell_type": "markdown",
   "metadata": {},
   "source": [
    "## 加载Q文档"
   ]
  },
  {
   "cell_type": "code",
   "execution_count": 2,
   "metadata": {},
   "outputs": [],
   "source": [
    "from textlong import LocalFilesLoader, LocalFilesQALoader"
   ]
  },
  {
   "cell_type": "code",
   "execution_count": 3,
   "metadata": {},
   "outputs": [
    {
     "data": {
      "text/plain": [
       "['供应商.pdf',\n",
       " '供应商资料.TXT',\n",
       " '供应商名录.xlsx',\n",
       " '供应商资料.md',\n",
       " 'input.txt',\n",
       " 'input.txt',\n",
       " 'input.txt']"
      ]
     },
     "execution_count": 3,
     "metadata": {},
     "output_type": "execute_result"
    }
   ],
   "source": [
    "fl = LocalFilesQALoader(\"./notes/documents\", path_regex=\"供应商\", answer_filenames=[\"answer.txt\"])\n",
    "[os.path.basename(f) for f in fl.get_files()]"
   ]
  },
  {
   "cell_type": "code",
   "execution_count": 4,
   "metadata": {},
   "outputs": [
    {
     "name": "stdout",
     "output_type": "stream",
     "text": [
      "please install package: 'unstructured' with pip or poetry\n",
      "please install package: '['markdown', 'unstructured']' with pip or poetry\n"
     ]
    },
    {
     "data": {
      "text/plain": [
       "[Document(page_content='电子产品招标资质要求  \\n \\n一、总述 \\n为确保与本公司合作的供应商具备良好的信誉、经营能力和稳定的财务状况，我们制定了一\\n系列详细的招标资质要求。每一位意向供应商必须满足以下标准方可参与投标。  \\n二、基本资质要求  \\n1. 营业执照：供应商必须具备合法有效的营业执照。  \\n2. 税务登记证：必须具备税务登记证，并符合国家税收法律法规。  \\n3. 组织机构代码证：供应商应拥有有效的组织机构代码证。  \\n三、经营和财务能力  \\n1. 月销售额：与我方合作的月份，经我方销售的产品月总价不得低于人民币3万元。 \\n2. 稳定的财务状况：供应商应具备健全和稳定的财务状况，以及良好的信用记录。  \\n3. 流动资金：供应商应具备足够的流动资金来支持合同执行。  \\n四、产品和服务质量  \\n1. 产品质量认证： 供应商提供的产品必须符合国家及行业标准， 并通过相关质量认证。  \\n2. 服务标准：供应商应具备高标准的服务体系，并承诺在合作期间提供持续、稳定、\\n优质的服务。 \\n五、行业经验和声誉  \\n1. 行业经验：供应商应具有至少五年的相关行业经验。  \\n2. 业务声誉：供应商应有良好的业务声誉和客户满意度记录。  \\n六、社会责任和可持续性  ', metadata={'source': '/Users/xuehongwei/github/langchain_chinese/notes/documents/供应商.pdf', 'page': 0}),\n",
       " Document(page_content='1. 环境保护 ：供应商应遵循环境保护法律法规，并在经营活动中实施环保措施。  \\n2. 社会责任：供应商应积极承担社会责任，遵守劳工权益法律法规，并推行公平、平\\n等、安全和健康的劳动环境。  \\n七、提交材料  \\n意向供应商应提交以下材料：  \\n1. 公司简介和业务范围介绍。  \\n2. 法定代表人或授权代表的身份证明。  \\n3. 营业执照、税务登记证、组织机构代码证等相关证件的复印件。  \\n4. 近三年的财务报表和相关审计报告。  \\n5. 近三年的月销售额报表。  \\n6. 产品目录及样品。  \\n7. 相关质量认证证书。  \\n8. 其他支持资质的相关文件。  \\n八、申请和审核流程  \\n1. 提交申请 ：意向供应商应按照规定提交完整的申请材料。  \\n2. 初步审核 ：本公司将对提交的材料进行初步审核，确保资质符合要求。  \\n3. 现场考察 ：如通过初步审核，本公司将进行现场考察，以了解供应商的实际运营情\\n况。 \\n4. 终审决定 ：本公司将综合考察结果，对供应商进行终审，决定是否接受投标。  \\n \\n提交截止日期：  [指定日期 ] \\n如有任何疑问或需要进一步的信息，请及时与我们联系。  \\n联系人： [联系人姓名 ] ', metadata={'source': '/Users/xuehongwei/github/langchain_chinese/notes/documents/供应商.pdf', 'page': 1}),\n",
       " Document(page_content='联系电话： [联系电话 ] \\n电子邮箱： [联系邮箱 ] \\n ', metadata={'source': '/Users/xuehongwei/github/langchain_chinese/notes/documents/供应商.pdf', 'page': 2}),\n",
       " Document(page_content='供应商\\t联系人\\t联系人邮箱\\t内部对接人\\n北京科技有限公司\\t张伟\\txiaoming123@example.com\\t李华\\n上海音响有限公司\\t李芳\\tlihua456@example.org\\t张伟\\n深圳创新科技有限公司\\t陈瑶\\twangli789@example.net\\t王芳\\n广州数码有限公司\\t吴光\\tzhangsan123@example.cn\\t刘洋\\n天津通讯有限公司\\t李婷\\tlisi456@example.com\\t陈静\\n杭州视讯有限公司\\t王磊\\twangwu789@example.org\\t杨洋\\n成都游戏有限公司\\t赵明\\tchenli123@example.net\\t赵敏\\n武汉电子有限公司\\t林雪\\tzhaoyun456@example.cn\\t孙涛\\n苏州环保科技有限公司\\t钱希\\tsunliu789@example.com\\t周梅\\n南京音乐有限公司\\t黄燕\\thebai123@example.org\\t吴昊\\n', metadata={'source': '/Users/xuehongwei/github/langchain_chinese/notes/documents/docs/供应商资料.TXT'}),\n",
       " Document(page_content='北京科技有限公司', metadata={'source': '/Users/xuehongwei/github/langchain_chinese/notes/documents/docs/供应商资料/001/input.txt'}),\n",
       " Document(page_content='北京科技有限公司\\n负责人：张伟\\n电子邮箱：xiaoming123@example.com\\n简介：北京科技有限公司成立于2005年，是一家专注于研发、生产和销售高科技产品的企业。公司以“创新、务实、共赢”为经营理念，为广大用户提供高品质、高性能的产品和解决方案。主要产品包括智能硬件、物联网设备、大数据服务等。在张伟的带领下，公司不断追求技术创新，赢得了市场的认可和客户的信赖。', metadata={'source': '/Users/xuehongwei/github/langchain_chinese/notes/documents/docs/供应商资料/001/answer.txt'}),\n",
       " Document(page_content='深圳创新科技有限公司', metadata={'source': '/Users/xuehongwei/github/langchain_chinese/notes/documents/docs/供应商资料/003/input.txt'}),\n",
       " Document(page_content='深圳创新科技有限公司\\n负责人：陈瑶\\n电子邮箱：wangli789@example.net\\n简介：深圳创新科技有限公司成立于2010年，是一家集研发、生产、销售为一体的创新型企业。公司致力于为用户提供智能家居、智能穿戴、人工智能等领域的创新产品。在陈瑶的带领下，公司秉持“以人为本，科技创新”的理念，不断突破关键技术，为用户带来前所未有的智能体验。', metadata={'source': '/Users/xuehongwei/github/langchain_chinese/notes/documents/docs/供应商资料/003/answer.txt'}),\n",
       " Document(page_content='上海音响有限公司', metadata={'source': '/Users/xuehongwei/github/langchain_chinese/notes/documents/docs/供应商资料/002/input.txt'}),\n",
       " Document(page_content='上海音响有限公司\\n负责人：李芳\\n电子邮箱：lihua456@example.org\\n简介：上海音响有限公司成立于1998年，是一家专业从事音响设备研发、生产和销售的高新技术企业。公司秉承“品质第一，客户至上”的原则，不断引进国际先进技术，提升产品质量和性能。在李芳的领导下，公司凭借卓越的音质、稳定的性能和优质的服务，赢得了国内外客户的广泛好评。', metadata={'source': '/Users/xuehongwei/github/langchain_chinese/notes/documents/docs/供应商资料/002/answer.txt'})]"
      ]
     },
     "execution_count": 4,
     "metadata": {},
     "output_type": "execute_result"
    }
   ],
   "source": [
    "fl = LocalFilesQALoader(\"./notes/documents\", path_regex=\"供应商\")\n",
    "fl.load()"
   ]
  },
  {
   "cell_type": "code",
   "execution_count": 5,
   "metadata": {},
   "outputs": [
    {
     "data": {
      "text/plain": [
       "[Document(page_content='北京科技有限公司', metadata={'source': '/Users/xuehongwei/github/langchain_chinese/notes/documents/docs/供应商资料/001/input.txt'}),\n",
       " Document(page_content='深圳创新科技有限公司', metadata={'source': '/Users/xuehongwei/github/langchain_chinese/notes/documents/docs/供应商资料/003/input.txt'}),\n",
       " Document(page_content='上海音响有限公司', metadata={'source': '/Users/xuehongwei/github/langchain_chinese/notes/documents/docs/供应商资料/002/input.txt'})]"
      ]
     },
     "execution_count": 5,
     "metadata": {},
     "output_type": "execute_result"
    }
   ],
   "source": [
    "LocalFilesQALoader(\"./notes/documents\", included_prefixes=[\"docs/供应商资料/\"], answer_filenames=[\"answer.txt\"]).load()"
   ]
  },
  {
   "cell_type": "markdown",
   "metadata": {},
   "source": [
    "## 加载A文档"
   ]
  },
  {
   "cell_type": "code",
   "execution_count": 6,
   "metadata": {},
   "outputs": [
    {
     "data": {
      "text/plain": [
       "{'answer': ['北京科技有限公司\\n负责人：张伟\\n电子邮箱：xiaoming123@example.com\\n简介：北京科技有限公司成立于2005年，是一家专注于研发、生产和销售高科技产品的企业。公司以“创新、务实、共赢”为经营理念，为广大用户提供高品质、高性能的产品和解决方案。主要产品包括智能硬件、物联网设备、大数据服务等。在张伟的带领下，公司不断追求技术创新，赢得了市场的认可和客户的信赖。']}"
      ]
     },
     "execution_count": 6,
     "metadata": {},
     "output_type": "execute_result"
    }
   ],
   "source": [
    "fl = LocalFilesQALoader(\"./notes/documents\", included_prefixes=[\"docs/供应商资料/\"], extensions=[\"txt\"], answer_filenames=[\"answer.txt\"])\n",
    "doc = fl.load()[0]\n",
    "source = doc.metadata['source']\n",
    "\n",
    "fl.get_answer(source)"
   ]
  },
  {
   "cell_type": "code",
   "execution_count": 9,
   "metadata": {},
   "outputs": [
    {
     "data": {
      "text/plain": [
       "[Document(page_content='北京科技有限公司', metadata={'source': '/Users/xuehongwei/github/langchain_chinese/notes/documents/docs/供应商资料/001/input.txt'}),\n",
       " Document(page_content='深圳创新科技有限公司', metadata={'source': '/Users/xuehongwei/github/langchain_chinese/notes/documents/docs/供应商资料/003/input.txt'}),\n",
       " Document(page_content='上海音响有限公司', metadata={'source': '/Users/xuehongwei/github/langchain_chinese/notes/documents/docs/供应商资料/002/input.txt'})]"
      ]
     },
     "execution_count": 9,
     "metadata": {},
     "output_type": "execute_result"
    }
   ],
   "source": [
    "fl = LocalFilesQALoader(\"./notes/documents\", included_prefixes=[\"docs/供应商资料/\"], extensions=[\"txt\"], answer_filenames=[\"answer.txt\", \"example.txt\"])\n",
    "docs = fl.load()\n",
    "docs"
   ]
  },
  {
   "cell_type": "code",
   "execution_count": 10,
   "metadata": {},
   "outputs": [
    {
     "data": {
      "text/plain": [
       "{'answer': ['上海音响有限公司\\n负责人：李芳\\n电子邮箱：lihua456@example.org\\n简介：上海音响有限公司成立于1998年，是一家专业从事音响设备研发、生产和销售的高新技术企业。公司秉承“品质第一，客户至上”的原则，不断引进国际先进技术，提升产品质量和性能。在李芳的领导下，公司凭借卓越的音质、稳定的性能和优质的服务，赢得了国内外客户的广泛好评。']}"
      ]
     },
     "execution_count": 10,
     "metadata": {},
     "output_type": "execute_result"
    }
   ],
   "source": [
    "fl.get_answers(docs[-1:])"
   ]
  },
  {
   "cell_type": "code",
   "execution_count": 11,
   "metadata": {},
   "outputs": [
    {
     "data": {
      "text/plain": [
       "{'answer': ['上海音响有限公司\\n负责人：李芳\\n电子邮箱：lihua456@example.org\\n简介：上海音响有限公司成立于1998年，是一家专业从事音响设备研发、生产和销售的高新技术企业。公司秉承“品质第一，客户至上”的原则，不断引进国际先进技术，提升产品质量和性能。在李芳的领导下，公司凭借卓越的音质、稳定的性能和优质的服务，赢得了国内外客户的广泛好评。']}"
      ]
     },
     "execution_count": 11,
     "metadata": {},
     "output_type": "execute_result"
    }
   ],
   "source": [
    "fl.get_answers(docs, answer_keys=[\"answer\"])"
   ]
  },
  {
   "cell_type": "markdown",
   "metadata": {},
   "source": [
    "# 2 使用Q文档做RAG应用"
   ]
  },
  {
   "cell_type": "code",
   "execution_count": 50,
   "metadata": {},
   "outputs": [
    {
     "name": "stdout",
     "output_type": "stream",
     "text": [
      "/Users/xuehongwei/github/langchain_chinese/notes/documents/docs/供应商资料/001/input.txt 8\n",
      "/Users/xuehongwei/github/langchain_chinese/notes/documents/docs/供应商资料/003/input.txt 10\n",
      "/Users/xuehongwei/github/langchain_chinese/notes/documents/docs/供应商资料/002/input.txt 8\n"
     ]
    }
   ],
   "source": [
    "local_qa = LocalFilesQALoader(\"./notes/documents\", included_prefixes=[\"docs/供应商资料/\"], answer_filenames=[\"answer.txt\", \"example.txt\"])\n",
    "all_docs = local_qa.load()\n",
    "\n",
    "for chunk in all_docs[0:10]:\n",
    "  print(chunk.metadata['source'], len(chunk.page_content))"
   ]
  },
  {
   "cell_type": "code",
   "execution_count": 51,
   "metadata": {},
   "outputs": [
    {
     "data": {
      "text/plain": [
       "Document(page_content='北京科技有限公司', metadata={'source': '/Users/xuehongwei/github/langchain_chinese/notes/documents/docs/供应商资料/001/input.txt'})"
      ]
     },
     "execution_count": 51,
     "metadata": {},
     "output_type": "execute_result"
    }
   ],
   "source": [
    "all_docs[0]"
   ]
  },
  {
   "cell_type": "markdown",
   "metadata": {},
   "source": [
    "## 切分文本"
   ]
  },
  {
   "cell_type": "code",
   "execution_count": 52,
   "metadata": {},
   "outputs": [
    {
     "data": {
      "text/plain": [
       "[Document(page_content='北京科技有限公司', metadata={'source': '/Users/xuehongwei/github/langchain_chinese/notes/documents/docs/供应商资料/001/input.txt'}),\n",
       " Document(page_content='深圳创新科技有限公司', metadata={'source': '/Users/xuehongwei/github/langchain_chinese/notes/documents/docs/供应商资料/003/input.txt'}),\n",
       " Document(page_content='上海音响有限公司', metadata={'source': '/Users/xuehongwei/github/langchain_chinese/notes/documents/docs/供应商资料/002/input.txt'})]"
      ]
     },
     "execution_count": 52,
     "metadata": {},
     "output_type": "execute_result"
    }
   ],
   "source": [
    "from langchain.text_splitter import RecursiveCharacterTextSplitter\n",
    "\n",
    "text_splitter = RecursiveCharacterTextSplitter(\n",
    "    chunk_size = 2000,\n",
    "    chunk_overlap = 200,\n",
    "    length_function = len,\n",
    "    is_separator_regex = False,\n",
    ")\n",
    "chunks = text_splitter.split_documents(all_docs)\n",
    "chunks"
   ]
  },
  {
   "cell_type": "code",
   "execution_count": null,
   "metadata": {},
   "outputs": [],
   "source": []
  }
 ],
 "metadata": {
  "kernelspec": {
   "display_name": "langchain-chinese-py3.9-ipkyernel",
   "language": "python",
   "name": "langchain-chinese-py3.9-ipkyernel"
  },
  "language_info": {
   "codemirror_mode": {
    "name": "ipython",
    "version": 3
   },
   "file_extension": ".py",
   "mimetype": "text/x-python",
   "name": "python",
   "nbconvert_exporter": "python",
   "pygments_lexer": "ipython3",
   "version": "3.9.18"
  }
 },
 "nbformat": 4,
 "nbformat_minor": 4
}
