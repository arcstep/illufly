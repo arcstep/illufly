{
 "cells": [
  {
   "cell_type": "code",
   "execution_count": 1,
   "metadata": {},
   "outputs": [],
   "source": [
    "from dotenv import load_dotenv, find_dotenv\n",
    "load_dotenv(find_dotenv(), override=True)\n",
    "import os\n",
    "os.chdir('..')"
   ]
  },
  {
   "cell_type": "markdown",
   "metadata": {},
   "source": [
    "自动加载本地文档："
   ]
  },
  {
   "cell_type": "code",
   "execution_count": 6,
   "metadata": {},
   "outputs": [
    {
     "name": "stdout",
     "output_type": "stream",
     "text": [
      "question_filter: 供应商\n",
      "extensions: ['xlsx', 'pdf']\n",
      "--------------------\n",
      "/Users/xuehongwei/github/langchain_chinese/notes/documents ['供应商.pdf']\n",
      "供应商.pdf\n",
      "['/Users/xuehongwei/github/langchain_chinese/notes/documents/供应商.pdf']\n",
      "--------------------\n",
      "/Users/xuehongwei/github/langchain_chinese/notes/documents/docs ['.DS_Store', '供应商名录.xlsx']\n",
      "docs/.DS_Store\n",
      "['/Users/xuehongwei/github/langchain_chinese/notes/documents/供应商.pdf']\n",
      "docs/供应商名录.xlsx\n",
      "['/Users/xuehongwei/github/langchain_chinese/notes/documents/供应商.pdf', '/Users/xuehongwei/github/langchain_chinese/notes/documents/docs/供应商名录.xlsx']\n",
      "--------------------\n",
      "/Users/xuehongwei/github/langchain_chinese/notes/documents/docs/简历 ['求职简历.docx']\n",
      "docs/简历/求职简历.docx\n",
      "['/Users/xuehongwei/github/langchain_chinese/notes/documents/供应商.pdf', '/Users/xuehongwei/github/langchain_chinese/notes/documents/docs/供应商名录.xlsx']\n",
      "--------------------\n",
      "/Users/xuehongwei/github/langchain_chinese/notes/documents/docs/资料 ['供应商.pdf']\n",
      "docs/资料/供应商.pdf\n",
      "['/Users/xuehongwei/github/langchain_chinese/notes/documents/供应商.pdf', '/Users/xuehongwei/github/langchain_chinese/notes/documents/docs/供应商名录.xlsx', '/Users/xuehongwei/github/langchain_chinese/notes/documents/docs/资料/供应商.pdf']\n",
      "WARNING: Loaded File extension xlsx not supported now.\n"
     ]
    }
   ],
   "source": [
    "from langchain_chinese import LocalFilesLoader\n",
    "fl = LocalFilesLoader(\"./notes/documents\", question_filter=\"供应商\", extensions=[\"xlsx\", \"pdf\"])\n",
    "all_docs = fl.load()\n"
   ]
  },
  {
   "cell_type": "code",
   "execution_count": 3,
   "metadata": {},
   "outputs": [
    {
     "data": {
      "text/plain": [
       "'供应商'"
      ]
     },
     "execution_count": 3,
     "metadata": {},
     "output_type": "execute_result"
    }
   ],
   "source": [
    "fl.question_filter"
   ]
  },
  {
   "cell_type": "code",
   "execution_count": 4,
   "metadata": {},
   "outputs": [
    {
     "data": {
      "text/plain": [
       "'/Users/xuehongwei/github/langchain_chinese/notes/documents'"
      ]
     },
     "execution_count": 4,
     "metadata": {},
     "output_type": "execute_result"
    }
   ],
   "source": [
    "fl.documents_folder"
   ]
  },
  {
   "cell_type": "code",
   "execution_count": 7,
   "metadata": {},
   "outputs": [
    {
     "name": "stdout",
     "output_type": "stream",
     "text": [
      "/Users/xuehongwei/github/langchain_chinese/notes/documents/供应商.pdf 521\n",
      "/Users/xuehongwei/github/langchain_chinese/notes/documents/供应商.pdf 512\n",
      "/Users/xuehongwei/github/langchain_chinese/notes/documents/供应商.pdf 31\n",
      "/Users/xuehongwei/github/langchain_chinese/notes/documents/docs/资料/供应商.pdf 521\n",
      "/Users/xuehongwei/github/langchain_chinese/notes/documents/docs/资料/供应商.pdf 512\n",
      "/Users/xuehongwei/github/langchain_chinese/notes/documents/docs/资料/供应商.pdf 31\n"
     ]
    }
   ],
   "source": [
    "for chunk in all_docs[0:10]:\n",
    "  print(chunk.metadata['source'], len(chunk.page_content))"
   ]
  },
  {
   "cell_type": "markdown",
   "metadata": {},
   "source": [
    "切分文本："
   ]
  },
  {
   "cell_type": "code",
   "execution_count": 5,
   "metadata": {},
   "outputs": [],
   "source": [
    "from langchain.text_splitter import RecursiveCharacterTextSplitter\n",
    "\n",
    "text_splitter = RecursiveCharacterTextSplitter(\n",
    "    chunk_size = 2000,\n",
    "    chunk_overlap = 200,\n",
    "    length_function = len,\n",
    "    is_separator_regex = False,\n",
    ")\n",
    "chunks = text_splitter.split_documents(all_docs)"
   ]
  },
  {
   "cell_type": "markdown",
   "metadata": {},
   "source": [
    "文本向量编码："
   ]
  },
  {
   "cell_type": "code",
   "execution_count": 6,
   "metadata": {},
   "outputs": [
    {
     "data": {
      "text/plain": [
       "[Document(page_content='电子产品招标资质要求  \\n \\n一、总述 \\n为确保与本公司合作的供应商具备良好的信誉、经营能力和稳定的财务状况，我们制定了一\\n系列详细的招标资质要求。每一位意向供应商必须满足以下标准方可参与投标。  \\n二、基本资质要求  \\n1. 营业执照：供应商必须具备合法有效的营业执照。  \\n2. 税务登记证：必须具备税务登记证，并符合国家税收法律法规。  \\n3. 组织机构代码证：供应商应拥有有效的组织机构代码证。  \\n三、经营和财务能力  \\n1. 月销售额：与我方合作的月份，经我方销售的产品月总价不得低于人民币3万元。 \\n2. 稳定的财务状况：供应商应具备健全和稳定的财务状况，以及良好的信用记录。  \\n3. 流动资金：供应商应具备足够的流动资金来支持合同执行。  \\n四、产品和服务质量  \\n1. 产品质量认证： 供应商提供的产品必须符合国家及行业标准， 并通过相关质量认证。  \\n2. 服务标准：供应商应具备高标准的服务体系，并承诺在合作期间提供持续、稳定、\\n优质的服务。 \\n五、行业经验和声誉  \\n1. 行业经验：供应商应具有至少五年的相关行业经验。  \\n2. 业务声誉：供应商应有良好的业务声誉和客户满意度记录。  \\n六、社会责任和可持续性', metadata={'source': '/Users/xuehongwei/github/langchain_chinese/notes/documents/供应商.pdf', 'page': 0}),\n",
       " Document(page_content='1. 环境保护 ：供应商应遵循环境保护法律法规，并在经营活动中实施环保措施。  \\n2. 社会责任：供应商应积极承担社会责任，遵守劳工权益法律法规，并推行公平、平\\n等、安全和健康的劳动环境。  \\n七、提交材料  \\n意向供应商应提交以下材料：  \\n1. 公司简介和业务范围介绍。  \\n2. 法定代表人或授权代表的身份证明。  \\n3. 营业执照、税务登记证、组织机构代码证等相关证件的复印件。  \\n4. 近三年的财务报表和相关审计报告。  \\n5. 近三年的月销售额报表。  \\n6. 产品目录及样品。  \\n7. 相关质量认证证书。  \\n8. 其他支持资质的相关文件。  \\n八、申请和审核流程  \\n1. 提交申请 ：意向供应商应按照规定提交完整的申请材料。  \\n2. 初步审核 ：本公司将对提交的材料进行初步审核，确保资质符合要求。  \\n3. 现场考察 ：如通过初步审核，本公司将进行现场考察，以了解供应商的实际运营情\\n况。 \\n4. 终审决定 ：本公司将综合考察结果，对供应商进行终审，决定是否接受投标。  \\n \\n提交截止日期：  [指定日期 ] \\n如有任何疑问或需要进一步的信息，请及时与我们联系。  \\n联系人： [联系人姓名 ]', metadata={'source': '/Users/xuehongwei/github/langchain_chinese/notes/documents/供应商.pdf', 'page': 1}),\n",
       " Document(page_content='联系电话： [联系电话 ] \\n电子邮箱： [联系邮箱 ]', metadata={'source': '/Users/xuehongwei/github/langchain_chinese/notes/documents/供应商.pdf', 'page': 2}),\n",
       " Document(page_content='手机：1234567890\\n\\n邮箱：1111@wps.com\\n\\n联系方式\\n\\n手机：1234567890\\n\\n邮箱：1111@wps.com\\n\\n联系方式\\n\\n专业技能\\n\\n专业技能\\n\\n语言技能：英语CET4\\n\\n办公技能：熟悉办公软件WPS\\n\\n语言技能：英语CET4\\n\\n办公技能：熟悉办公软件WPS\\n\\n2022年7月-至今              吐槽墙             投资顾问\\n\\n主要负责投资者详细、全面的需求分析、解读投资管理报告、调整投资方案\\n\\n帮助吐槽墙调整投资方案，获得普凌投资\\n\\n\\n\\n2019年6月-2022年7月       蓝禾资本           投资经理\\n\\n分析经济形势，负责投资项目的市场调研、数据收集和可行性分析\\n\\n设计投资项目，并预测财务、分析风险\\n\\n为投资项目准备推介性文件，编制投资调研报告、可行性研究报告及框架协议相关内容，并拟订项目实施计划和行动方案\\n\\n先后负责蜜林等项目，并取得了阶段性成功\\n\\n\\n\\n2022年7月-至今              吐槽墙             投资顾问\\n\\n主要负责投资者详细、全面的需求分析、解读投资管理报告、调整投资方案\\n\\n帮助吐槽墙调整投资方案，获得普凌投资\\n\\n\\n\\n2019年6月-2022年7月       蓝禾资本           投资经理\\n\\n分析经济形势，负责投资项目的市场调研、数据收集和可行性分析\\n\\n设计投资项目，并预测财务、分析风险\\n\\n为投资项目准备推介性文件，编制投资调研报告、可行性研究报告及框架协议相关内容，并拟订项目实施计划和行动方案\\n\\n先后负责蜜林等项目，并取得了阶段性成功\\n\\n\\n\\n工作经历\\n\\n工作经历\\n\\n本人性格开朗，热情随和。做事严谨，对待工作一丝不苟，具有较强的抗压能力。能够从容应对突发状况，推动工作有条不紊地进行。\\n\\n\\n\\n本人性格开朗，热情随和。做事严谨，对待工作一丝不苟，具有较强的抗压能力。能够从容应对突发状况，推动工作有条不紊地进行。\\n\\n\\n\\n自我评价\\n\\n自我评价\\n\\n基本信息\\n\\n生日：1996.10.21\\n\\n现居：深圳\\n\\n政治面貌：团员\\n\\n籍贯：中国\\n\\n基本信息\\n\\n生日：1996.10.21\\n\\n现居：深圳\\n\\n政治面貌：团员\\n\\n籍贯：中国\\n\\n姜小果      \\n\\n求职意向：投资经理\\n\\n姜小果      \\n\\n求职意向：投资经理\\n\\n2015.09—2019.06                      华南财经大学 /本科\\n\\n主修课程：微观经济学、宏观经济学、金融学原理、会计学、统计学、计量学、货币金融学、国际金融学、投资学、公司金融、金融机构管理、金融工程、财务报表分析\\n\\n2015.09—2019.06                      华南财经大学 /本科\\n\\n主修课程：微观经济学、宏观经济学、金融学原理、会计学、统计学、计量学、货币金融学、国际金融学、投资学、公司金融、金融机构管理、金融工程、财务报表分析\\n\\n教育背景\\n\\n教育背景', metadata={'source': '/Users/xuehongwei/github/langchain_chinese/notes/documents/autogpt-demo/求职简历.docx'}),\n",
       " Document(page_content='电子产品招标资质要求  \\n \\n一、总述 \\n为确保与本公司合作的供应商具备良好的信誉、经营能力和稳定的财务状况，我们制定了一\\n系列详细的招标资质要求。每一位意向供应商必须满足以下标准方可参与投标。  \\n二、基本资质要求  \\n1. 营业执照：供应商必须具备合法有效的营业执照。  \\n2. 税务登记证：必须具备税务登记证，并符合国家税收法律法规。  \\n3. 组织机构代码证：供应商应拥有有效的组织机构代码证。  \\n三、经营和财务能力  \\n1. 月销售额：与我方合作的月份，经我方销售的产品月总价不得低于人民币3万元。 \\n2. 稳定的财务状况：供应商应具备健全和稳定的财务状况，以及良好的信用记录。  \\n3. 流动资金：供应商应具备足够的流动资金来支持合同执行。  \\n四、产品和服务质量  \\n1. 产品质量认证： 供应商提供的产品必须符合国家及行业标准， 并通过相关质量认证。  \\n2. 服务标准：供应商应具备高标准的服务体系，并承诺在合作期间提供持续、稳定、\\n优质的服务。 \\n五、行业经验和声誉  \\n1. 行业经验：供应商应具有至少五年的相关行业经验。  \\n2. 业务声誉：供应商应有良好的业务声誉和客户满意度记录。  \\n六、社会责任和可持续性', metadata={'source': '/Users/xuehongwei/github/langchain_chinese/notes/documents/autogpt-demo/供应商资格要求.pdf', 'page': 0}),\n",
       " Document(page_content='1. 环境保护 ：供应商应遵循环境保护法律法规，并在经营活动中实施环保措施。  \\n2. 社会责任：供应商应积极承担社会责任，遵守劳工权益法律法规，并推行公平、平\\n等、安全和健康的劳动环境。  \\n七、提交材料  \\n意向供应商应提交以下材料：  \\n1. 公司简介和业务范围介绍。  \\n2. 法定代表人或授权代表的身份证明。  \\n3. 营业执照、税务登记证、组织机构代码证等相关证件的复印件。  \\n4. 近三年的财务报表和相关审计报告。  \\n5. 近三年的月销售额报表。  \\n6. 产品目录及样品。  \\n7. 相关质量认证证书。  \\n8. 其他支持资质的相关文件。  \\n八、申请和审核流程  \\n1. 提交申请 ：意向供应商应按照规定提交完整的申请材料。  \\n2. 初步审核 ：本公司将对提交的材料进行初步审核，确保资质符合要求。  \\n3. 现场考察 ：如通过初步审核，本公司将进行现场考察，以了解供应商的实际运营情\\n况。 \\n4. 终审决定 ：本公司将综合考察结果，对供应商进行终审，决定是否接受投标。  \\n \\n提交截止日期：  [指定日期 ] \\n如有任何疑问或需要进一步的信息，请及时与我们联系。  \\n联系人： [联系人姓名 ]', metadata={'source': '/Users/xuehongwei/github/langchain_chinese/notes/documents/autogpt-demo/供应商资格要求.pdf', 'page': 1}),\n",
       " Document(page_content='联系电话： [联系电话 ] \\n电子邮箱： [联系邮箱 ]', metadata={'source': '/Users/xuehongwei/github/langchain_chinese/notes/documents/autogpt-demo/供应商资格要求.pdf', 'page': 2})]"
      ]
     },
     "execution_count": 6,
     "metadata": {},
     "output_type": "execute_result"
    }
   ],
   "source": [
    "chunks"
   ]
  },
  {
   "cell_type": "code",
   "execution_count": 13,
   "metadata": {},
   "outputs": [
    {
     "name": "stdout",
     "output_type": "stream",
     "text": [
      "/Users/xuehongwei/github/langchain_chinese/notes/documents/供应商.pdf 519\n",
      "/Users/xuehongwei/github/langchain_chinese/notes/documents/供应商.pdf 511\n",
      "/Users/xuehongwei/github/langchain_chinese/notes/documents/供应商.pdf 28\n",
      "/Users/xuehongwei/github/langchain_chinese/notes/documents/autogpt-demo/求职简历.docx 1236\n",
      "/Users/xuehongwei/github/langchain_chinese/notes/documents/autogpt-demo/供应商资格要求.pdf 519\n",
      "/Users/xuehongwei/github/langchain_chinese/notes/documents/autogpt-demo/供应商资格要求.pdf 511\n",
      "/Users/xuehongwei/github/langchain_chinese/notes/documents/autogpt-demo/供应商资格要求.pdf 28\n"
     ]
    }
   ],
   "source": [
    "for chunk in chunks[0:10]:\n",
    "  print(chunk.metadata['source'], len(chunk.page_content))"
   ]
  },
  {
   "cell_type": "code",
   "execution_count": 8,
   "metadata": {},
   "outputs": [],
   "source": [
    "from langchain_openai import OpenAIEmbeddings\n",
    "from langchain_community.vectorstores import Chroma\n",
    "\n",
    "db = Chroma.from_documents(chunks[0:10], OpenAIEmbeddings(model=\"text-embedding-3-small\"))"
   ]
  },
  {
   "cell_type": "code",
   "execution_count": 9,
   "metadata": {},
   "outputs": [
    {
     "data": {
      "text/plain": [
       "[Document(page_content='联系电话： [联系电话 ] \\n电子邮箱： [联系邮箱 ]', metadata={'page': 2, 'source': '/Users/xuehongwei/github/langchain_chinese/notes/documents/供应商.pdf'}),\n",
       " Document(page_content='联系电话： [联系电话 ] \\n电子邮箱： [联系邮箱 ]', metadata={'page': 2, 'source': '/Users/xuehongwei/github/langchain_chinese/notes/documents/autogpt-demo/供应商资格要求.pdf'}),\n",
       " Document(page_content='电子产品招标资质要求  \\n \\n一、总述 \\n为确保与本公司合作的供应商具备良好的信誉、经营能力和稳定的财务状况，我们制定了一\\n系列详细的招标资质要求。每一位意向供应商必须满足以下标准方可参与投标。  \\n二、基本资质要求  \\n1. 营业执照：供应商必须具备合法有效的营业执照。  \\n2. 税务登记证：必须具备税务登记证，并符合国家税收法律法规。  \\n3. 组织机构代码证：供应商应拥有有效的组织机构代码证。  \\n三、经营和财务能力  \\n1. 月销售额：与我方合作的月份，经我方销售的产品月总价不得低于人民币3万元。 \\n2. 稳定的财务状况：供应商应具备健全和稳定的财务状况，以及良好的信用记录。  \\n3. 流动资金：供应商应具备足够的流动资金来支持合同执行。  \\n四、产品和服务质量  \\n1. 产品质量认证： 供应商提供的产品必须符合国家及行业标准， 并通过相关质量认证。  \\n2. 服务标准：供应商应具备高标准的服务体系，并承诺在合作期间提供持续、稳定、\\n优质的服务。 \\n五、行业经验和声誉  \\n1. 行业经验：供应商应具有至少五年的相关行业经验。  \\n2. 业务声誉：供应商应有良好的业务声誉和客户满意度记录。  \\n六、社会责任和可持续性', metadata={'page': 0, 'source': '/Users/xuehongwei/github/langchain_chinese/notes/documents/autogpt-demo/供应商资格要求.pdf'}),\n",
       " Document(page_content='电子产品招标资质要求  \\n \\n一、总述 \\n为确保与本公司合作的供应商具备良好的信誉、经营能力和稳定的财务状况，我们制定了一\\n系列详细的招标资质要求。每一位意向供应商必须满足以下标准方可参与投标。  \\n二、基本资质要求  \\n1. 营业执照：供应商必须具备合法有效的营业执照。  \\n2. 税务登记证：必须具备税务登记证，并符合国家税收法律法规。  \\n3. 组织机构代码证：供应商应拥有有效的组织机构代码证。  \\n三、经营和财务能力  \\n1. 月销售额：与我方合作的月份，经我方销售的产品月总价不得低于人民币3万元。 \\n2. 稳定的财务状况：供应商应具备健全和稳定的财务状况，以及良好的信用记录。  \\n3. 流动资金：供应商应具备足够的流动资金来支持合同执行。  \\n四、产品和服务质量  \\n1. 产品质量认证： 供应商提供的产品必须符合国家及行业标准， 并通过相关质量认证。  \\n2. 服务标准：供应商应具备高标准的服务体系，并承诺在合作期间提供持续、稳定、\\n优质的服务。 \\n五、行业经验和声誉  \\n1. 行业经验：供应商应具有至少五年的相关行业经验。  \\n2. 业务声誉：供应商应有良好的业务声誉和客户满意度记录。  \\n六、社会责任和可持续性', metadata={'page': 0, 'source': '/Users/xuehongwei/github/langchain_chinese/notes/documents/供应商.pdf'})]"
      ]
     },
     "execution_count": 9,
     "metadata": {},
     "output_type": "execute_result"
    }
   ],
   "source": [
    "user_query = \"如何管理纳税信用\"\n",
    "result = db.similarity_search(user_query)\n",
    "result"
   ]
  },
  {
   "cell_type": "code",
   "execution_count": 10,
   "metadata": {},
   "outputs": [
    {
     "data": {
      "text/plain": [
       "VectorStoreRetriever(tags=['Chroma', 'OpenAIEmbeddings'], vectorstore=<langchain_community.vectorstores.chroma.Chroma object at 0x1246f15b0>)"
      ]
     },
     "execution_count": 10,
     "metadata": {},
     "output_type": "execute_result"
    }
   ],
   "source": [
    "db.as_retriever()"
   ]
  },
  {
   "cell_type": "code",
   "execution_count": 11,
   "metadata": {},
   "outputs": [
    {
     "name": "stderr",
     "output_type": "stream",
     "text": [
      "/Users/xuehongwei/Library/Caches/pypoetry/virtualenvs/langchain-chinese-gSQlHcwW-py3.9/lib/python3.9/site-packages/tqdm/auto.py:21: TqdmWarning: IProgress not found. Please update jupyter and ipywidgets. See https://ipywidgets.readthedocs.io/en/stable/user_install.html\n",
      "  from .autonotebook import tqdm as notebook_tqdm\n"
     ]
    },
    {
     "data": {
      "text/plain": [
       "[(7.1207,\n",
       "  Document(page_content='电子产品招标资质要求  \\n \\n一、总述 \\n为确保与本公司合作的供应商具备良好的信誉、经营能力和稳定的财务状况，我们制定了一\\n系列详细的招标资质要求。每一位意向供应商必须满足以下标准方可参与投标。  \\n二、基本资质要求  \\n1. 营业执照：供应商必须具备合法有效的营业执照。  \\n2. 税务登记证：必须具备税务登记证，并符合国家税收法律法规。  \\n3. 组织机构代码证：供应商应拥有有效的组织机构代码证。  \\n三、经营和财务能力  \\n1. 月销售额：与我方合作的月份，经我方销售的产品月总价不得低于人民币3万元。 \\n2. 稳定的财务状况：供应商应具备健全和稳定的财务状况，以及良好的信用记录。  \\n3. 流动资金：供应商应具备足够的流动资金来支持合同执行。  \\n四、产品和服务质量  \\n1. 产品质量认证： 供应商提供的产品必须符合国家及行业标准， 并通过相关质量认证。  \\n2. 服务标准：供应商应具备高标准的服务体系，并承诺在合作期间提供持续、稳定、\\n优质的服务。 \\n五、行业经验和声誉  \\n1. 行业经验：供应商应具有至少五年的相关行业经验。  \\n2. 业务声誉：供应商应有良好的业务声誉和客户满意度记录。  \\n六、社会责任和可持续性', metadata={'page': 0, 'source': '/Users/xuehongwei/github/langchain_chinese/notes/documents/autogpt-demo/供应商资格要求.pdf'})),\n",
       " (7.1207,\n",
       "  Document(page_content='电子产品招标资质要求  \\n \\n一、总述 \\n为确保与本公司合作的供应商具备良好的信誉、经营能力和稳定的财务状况，我们制定了一\\n系列详细的招标资质要求。每一位意向供应商必须满足以下标准方可参与投标。  \\n二、基本资质要求  \\n1. 营业执照：供应商必须具备合法有效的营业执照。  \\n2. 税务登记证：必须具备税务登记证，并符合国家税收法律法规。  \\n3. 组织机构代码证：供应商应拥有有效的组织机构代码证。  \\n三、经营和财务能力  \\n1. 月销售额：与我方合作的月份，经我方销售的产品月总价不得低于人民币3万元。 \\n2. 稳定的财务状况：供应商应具备健全和稳定的财务状况，以及良好的信用记录。  \\n3. 流动资金：供应商应具备足够的流动资金来支持合同执行。  \\n四、产品和服务质量  \\n1. 产品质量认证： 供应商提供的产品必须符合国家及行业标准， 并通过相关质量认证。  \\n2. 服务标准：供应商应具备高标准的服务体系，并承诺在合作期间提供持续、稳定、\\n优质的服务。 \\n五、行业经验和声誉  \\n1. 行业经验：供应商应具有至少五年的相关行业经验。  \\n2. 业务声誉：供应商应有良好的业务声誉和客户满意度记录。  \\n六、社会责任和可持续性', metadata={'page': 0, 'source': '/Users/xuehongwei/github/langchain_chinese/notes/documents/供应商.pdf'})),\n",
       " (4.856134,\n",
       "  Document(page_content='联系电话： [联系电话 ] \\n电子邮箱： [联系邮箱 ]', metadata={'page': 2, 'source': '/Users/xuehongwei/github/langchain_chinese/notes/documents/供应商.pdf'})),\n",
       " (4.856134,\n",
       "  Document(page_content='联系电话： [联系电话 ] \\n电子邮箱： [联系邮箱 ]', metadata={'page': 2, 'source': '/Users/xuehongwei/github/langchain_chinese/notes/documents/autogpt-demo/供应商资格要求.pdf'}))]"
      ]
     },
     "execution_count": 11,
     "metadata": {},
     "output_type": "execute_result"
    }
   ],
   "source": [
    "from sentence_transformers import CrossEncoder\n",
    "\n",
    "model = CrossEncoder('cross-encoder/ms-marco-MiniLM-L-6-v2', max_length=512)\n",
    "\n",
    "scores = model.predict([(user_query, r.page_content) for r in result])\n",
    "# 按得分排序\n",
    "sorted_list = sorted(\n",
    "    zip(scores, result), key=lambda x: x[0], reverse=True)\n",
    "\n",
    "sorted_list"
   ]
  },
  {
   "cell_type": "code",
   "execution_count": null,
   "metadata": {},
   "outputs": [],
   "source": []
  }
 ],
 "metadata": {
  "kernelspec": {
   "display_name": "langchain-chinese-py3.9-ipkyernel",
   "language": "python",
   "name": "langchain-chinese-py3.9-ipkyernel"
  },
  "language_info": {
   "codemirror_mode": {
    "name": "ipython",
    "version": 3
   },
   "file_extension": ".py",
   "mimetype": "text/x-python",
   "name": "python",
   "nbconvert_exporter": "python",
   "pygments_lexer": "ipython3",
   "version": "3.9.18"
  }
 },
 "nbformat": 4,
 "nbformat_minor": 2
}
