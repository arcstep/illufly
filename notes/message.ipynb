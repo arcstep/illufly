{
 "cells": [
  {
   "cell_type": "markdown",
   "id": "a424e73e-7643-4b8b-9269-5b7529fb2d3b",
   "metadata": {},
   "source": [
    "# 消息格式处理"
   ]
  },
  {
   "cell_type": "code",
   "execution_count": 1,
   "id": "f180cbdf-533c-49ea-96a6-7097287a1f2b",
   "metadata": {},
   "outputs": [],
   "source": [
    "from illufly.agent.message import Message, Messages\n",
    "from illufly.hub import Template"
   ]
  },
  {
   "cell_type": "markdown",
   "id": "1d03fc94-88b9-4eee-ba84-43355f5a3c42",
   "metadata": {},
   "source": [
    "## Role 生成规则"
   ]
  },
  {
   "cell_type": "markdown",
   "id": "7b41062c-18d6-4ab0-973f-e28bffed1753",
   "metadata": {},
   "source": [
    "### 规则1： 不指定时，首条是 system，system 后接 user，user 与 assistant 交替"
   ]
  },
  {
   "cell_type": "code",
   "execution_count": 2,
   "id": "3baacee8-d268-499a-b51a-479ae9a681b6",
   "metadata": {},
   "outputs": [
    {
     "data": {
      "text/plain": [
       "[{'role': 'system', 'content': 'hi'}]"
      ]
     },
     "execution_count": 2,
     "metadata": {},
     "output_type": "execute_result"
    }
   ],
   "source": [
    "Messages([\"hi\"]).to_list()"
   ]
  },
  {
   "cell_type": "code",
   "execution_count": 3,
   "id": "bb0cf2dd-c48c-446d-bd95-cc41ec701578",
   "metadata": {},
   "outputs": [
    {
     "data": {
      "text/plain": [
       "[{'role': 'system', 'content': 'hi'},\n",
       " {'role': 'user', 'content': '我很开心'},\n",
       " {'role': 'assistant', 'content': '我也很开心'}]"
      ]
     },
     "execution_count": 3,
     "metadata": {},
     "output_type": "execute_result"
    }
   ],
   "source": [
    "Messages([\"hi\", \"我很开心\", \"我也很开心\"]).to_list()"
   ]
  },
  {
   "cell_type": "code",
   "execution_count": 4,
   "id": "d664f664-6d80-4058-b432-93893e466a01",
   "metadata": {},
   "outputs": [
    {
     "data": {
      "text/plain": [
       "[{'role': 'system', 'content': '你是一个小说家，帮我创作吧。'},\n",
       " {'role': 'user', 'content': '请你开始'},\n",
       " {'role': 'assistant', 'content': '我这个小说很有趣哦，我结束了'}]"
      ]
     },
     "execution_count": 4,
     "metadata": {},
     "output_type": "execute_result"
    }
   ],
   "source": [
    "Messages([\n",
    "    Template(template_text=\"你是一个小说家，帮我创作吧。\"),\n",
    "    \"请你开始\",\n",
    "    \"我这个小说很有趣哦，我结束了\"\n",
    "]).to_list()"
   ]
  },
  {
   "cell_type": "markdown",
   "id": "2c4e6688-ddab-46be-b350-78081fb974a7",
   "metadata": {},
   "source": [
    "### 规则2：列表中允许出现字符串、Turple、Template、Message、Dict等类型"
   ]
  },
  {
   "cell_type": "code",
   "execution_count": 5,
   "id": "59846413-5d78-47e3-b174-428338c20a02",
   "metadata": {},
   "outputs": [
    {
     "data": {
      "text/plain": [
       "[{'role': 'system', 'content': '你是一个小说家，帮我创作吧。'},\n",
       " {'role': 'user', 'content': '不错'},\n",
       " {'role': 'assistant', 'content': '请你开始'},\n",
       " {'role': 'user', 'content': '我这个小说很有趣哦，我结束了'},\n",
       " {'role': 'assistant', 'content': '我这个小说很有趣哦，我结束了'},\n",
       " {'role': 'user', 'content': '我这个小说很有趣哦，我结束了'}]"
      ]
     },
     "execution_count": 5,
     "metadata": {},
     "output_type": "execute_result"
    }
   ],
   "source": [
    "Messages([\n",
    "    Template(template_text=\"你是一个小说家，帮我创作吧。\"),\n",
    "    (\"user\", \"不错\"),\n",
    "    {\"role\": \"assistant\", \"content\": \"请你开始\"},\n",
    "    \"我这个小说很有趣哦，我结束了\",\n",
    "    \"我这个小说很有趣哦，我结束了\",\n",
    "    \"我这个小说很有趣哦，我结束了\",\n",
    "]).to_list()"
   ]
  },
  {
   "cell_type": "code",
   "execution_count": 6,
   "id": "35da5d3b-722f-4b8d-88c1-328385fa63cf",
   "metadata": {},
   "outputs": [
    {
     "data": {
      "text/plain": [
       "[{'role': 'system', 'content': '你是一个小说家，帮我创作吧。'},\n",
       " {'role': 'assistant', 'content': '请你开始'},\n",
       " {'role': 'user', 'content': '我这个小说很有趣哦，我结束了'},\n",
       " {'role': 'assistant', 'content': '我这个小说很有趣哦，我结束了'},\n",
       " {'role': 'user', 'content': '我这个小说很有趣哦，我结束了'},\n",
       " {'role': 'assistant', 'content': '我这个小说很有趣哦，我结束了'}]"
      ]
     },
     "execution_count": 6,
     "metadata": {},
     "output_type": "execute_result"
    }
   ],
   "source": [
    "Messages([\n",
    "    (\"system\", Template(template_text=\"你是一个小说家，帮我创作吧。\")),\n",
    "    {\"role\": \"ai\", \"content\": \"请你开始\"},\n",
    "    \"我这个小说很有趣哦，我结束了\",\n",
    "    \"我这个小说很有趣哦，我结束了\",\n",
    "    \"我这个小说很有趣哦，我结束了\",\n",
    "    \"我这个小说很有趣哦，我结束了\",\n",
    "]).to_list()"
   ]
  },
  {
   "cell_type": "code",
   "execution_count": 7,
   "id": "0a0afdf7-dc5f-4fc4-b83d-3c1455334eba",
   "metadata": {},
   "outputs": [
    {
     "data": {
      "text/plain": [
       "[{'role': 'user', 'content': '你是一个小说家，帮我创作一个说。'},\n",
       " {'role': 'assistant', 'content': '我这个小说很有趣哦，我结束了'},\n",
       " {'role': 'user', 'content': '我这个小说很有趣哦，我结束了'},\n",
       " {'role': 'assistant', 'content': '我这个小说很有趣哦，我结束了'},\n",
       " {'role': 'user', 'content': '我这个小说很有趣哦，我结束了'},\n",
       " {'role': 'assistant', 'content': '我开始了'}]"
      ]
     },
     "execution_count": 7,
     "metadata": {},
     "output_type": "execute_result"
    }
   ],
   "source": [
    "Messages([\n",
    "    (\"user\", Template(template_text=\"你是一个小说家，帮我创作一个说。\")),\n",
    "    \"我这个小说很有趣哦，我结束了\",\n",
    "    \"我这个小说很有趣哦，我结束了\",\n",
    "    \"我这个小说很有趣哦，我结束了\",\n",
    "    \"我这个小说很有趣哦，我结束了\",\n",
    "    {\"role\": \"ai\", \"content\": \"我开始了\"},\n",
    "]).to_list()"
   ]
  },
  {
   "cell_type": "code",
   "execution_count": 12,
   "id": "23de981b-0f05-485e-ac17-c328c0f79de8",
   "metadata": {},
   "outputs": [
    {
     "data": {
      "text/plain": [
       "[{'role': 'system', 'content': '你是一个小说家，帮我创作'},\n",
       " {'role': 'user', 'content': '请你开始'}]"
      ]
     },
     "execution_count": 12,
     "metadata": {},
     "output_type": "execute_result"
    }
   ],
   "source": [
    "Messages([\n",
    "    Template(template_text=\"你是一个小说家，帮我创作{{task}}\"), \"请你开始\",\n",
    "]).to_list()"
   ]
  },
  {
   "cell_type": "markdown",
   "id": "c9a62514-8265-468f-8dfd-051e2dfe4322",
   "metadata": {},
   "source": [
    "### 规则3：允许用 ai 替代 assistant 作为 role 来声明，但会被替换为 assistant"
   ]
  },
  {
   "cell_type": "code",
   "execution_count": null,
   "id": "0924be84-b295-46f2-bc37-98fb8702a1df",
   "metadata": {},
   "outputs": [],
   "source": []
  },
  {
   "cell_type": "code",
   "execution_count": null,
   "id": "2efea035-7781-4771-aa98-3eebd058487c",
   "metadata": {},
   "outputs": [],
   "source": []
  }
 ],
 "metadata": {
  "kernelspec": {
   "display_name": "textlong-same-ipykernel",
   "language": "python",
   "name": "textlong-same-ipykernel"
  },
  "language_info": {
   "codemirror_mode": {
    "name": "ipython",
    "version": 3
   },
   "file_extension": ".py",
   "mimetype": "text/x-python",
   "name": "python",
   "nbconvert_exporter": "python",
   "pygments_lexer": "ipython3",
   "version": "3.10.0"
  }
 },
 "nbformat": 4,
 "nbformat_minor": 5
}
