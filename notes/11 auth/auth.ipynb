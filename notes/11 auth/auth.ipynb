{
 "cells": [
  {
   "cell_type": "code",
   "execution_count": 1,
   "id": "4422659a-a001-4afa-872a-d6e283998cdf",
   "metadata": {},
   "outputs": [],
   "source": [
    "from illufly.auth import create_auth_api"
   ]
  },
  {
   "cell_type": "code",
   "execution_count": null,
   "id": "53997ea2-c070-4ef9-9b61-c9aeef37369c",
   "metadata": {},
   "outputs": [],
   "source": []
  }
 ],
 "metadata": {
  "kernelspec": {
   "display_name": "same_to_illufly",
   "language": "python",
   "name": "same_to_illufly"
  },
  "language_info": {
   "codemirror_mode": {
    "name": "ipython",
    "version": 3
   },
   "file_extension": ".py",
   "mimetype": "text/x-python",
   "name": "python",
   "nbconvert_exporter": "python",
   "pygments_lexer": "ipython3",
   "version": "3.10.0"
  }
 },
 "nbformat": 4,
 "nbformat_minor": 5
}
