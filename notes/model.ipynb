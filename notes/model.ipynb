{
 "cells": [
  {
   "cell_type": "code",
   "execution_count": 1,
   "id": "1713980b-aa9a-4859-a2a6-344820a92491",
   "metadata": {},
   "outputs": [],
   "source": [
    "from textlong.models.dashscope import qwen, stream_log"
   ]
  },
  {
   "cell_type": "code",
   "execution_count": 2,
   "id": "6ed297bc-af25-42bf-b378-1d1e816bd8a2",
   "metadata": {},
   "outputs": [
    {
     "name": "stdout",
     "output_type": "stream",
     "text": [
      "\u001b[32m是\u001b[0m\u001b[32m的\u001b[0m\u001b[32m，\u001b[0m\u001b[32mPython 支持函数\u001b[0m\u001b[32m式编程。Python 提供了函数\u001b[0m\u001b[32m定义、匿名函数（使用 `lambda\u001b[0m\u001b[32m` 关键字）、高阶函数\u001b[0m\u001b[32m（接受函数作为参数或返回函数\u001b[0m\u001b[32m）等特性，这些都是函数式编程\u001b[0m\u001b[32m的关键元素。\n",
      "\n",
      "例如：\n",
      "\n",
      "1. **\u001b[0m\u001b[32m匿名函数**：\n",
      "   ```python\n",
      "\u001b[0m\u001b[32m   double = lambda x: x *\u001b[0m\u001b[32m 2\n",
      "   print(double(5\u001b[0m\u001b[32m))  # 输出：10\n",
      "\u001b[0m\u001b[32m   ```\n",
      "\n",
      "2. **高阶\u001b[0m\u001b[32m函数**：\n",
      "   ```python\n",
      "  \u001b[0m\u001b[32m def map(func, iterable):\n",
      "       return\u001b[0m\u001b[32m (func(item) for item in iterable\u001b[0m\u001b[32m)\n",
      "\n",
      "   squares = map(lambda x:\u001b[0m\u001b[32m x**2, [1, \u001b[0m\u001b[32m2, 3, 4])\n",
      "\u001b[0m\u001b[32m   print(list(squares))  #\u001b[0m\u001b[32m 输出：[1, 4,\u001b[0m\u001b[32m 9, 16]\n",
      "  \u001b[0m\u001b[32m ```\n",
      "\n",
      "3. **闭包**\u001b[0m\u001b[32m：\n",
      "   ```python\n",
      "   def make\u001b[0m\u001b[32m_multiplier_of(n):\n",
      "       def multiplier(x\u001b[0m\u001b[32m):\n",
      "           return x * n\n",
      "      \u001b[0m\u001b[32m return multiplier\n",
      "\n",
      "   times_three = make\u001b[0m\u001b[32m_multiplier_of(3)\n",
      "   print(times\u001b[0m\u001b[32m_three(4))  # 输出：\u001b[0m\u001b[32m12\n",
      "   ```\n",
      "\n",
      "尽管 Python\u001b[0m\u001b[32m 不是纯粹的函数式语言，\u001b[0m\u001b[32m它仍然提供了丰富的函数式编程工具\u001b[0m\u001b[32m和功能。在实际开发中，\u001b[0m\u001b[32m开发者可以根据需要选择合适的编程范式\u001b[0m\u001b[32m。\u001b[0m\u001b[32m\u001b[0m\n",
      "\n",
      ">-[END]>> 【内容由幻蝶AI生成，其观点仅代表创作者个人立场，可登录 http://www.illufly.com 查验其校验码 41190733】\n"
     ]
    },
    {
     "data": {
      "text/plain": [
       "'是的，Python 支持函数式编程。Python 提供了函数定义、匿名函数（使用 `lambda` 关键字）、高阶函数（接受函数作为参数或返回函数）等特性，这些都是函数式编程的关键元素。\\n\\n例如：\\n\\n1. **匿名函数**：\\n   ```python\\n   double = lambda x: x * 2\\n   print(double(5))  # 输出：10\\n   ```\\n\\n2. **高阶函数**：\\n   ```python\\n   def map(func, iterable):\\n       return (func(item) for item in iterable)\\n\\n   squares = map(lambda x: x**2, [1, 2, 3, 4])\\n   print(list(squares))  # 输出：[1, 4, 9, 16]\\n   ```\\n\\n3. **闭包**：\\n   ```python\\n   def make_multiplier_of(n):\\n       def multiplier(x):\\n           return x * n\\n       return multiplier\\n\\n   times_three = make_multiplier_of(3)\\n   print(times_three(4))  # 输出：12\\n   ```\\n\\n尽管 Python 不是纯粹的函数式语言，它仍然提供了丰富的函数式编程工具和功能。在实际开发中，开发者可以根据需要选择合适的编程范式。'"
      ]
     },
     "execution_count": 2,
     "metadata": {},
     "output_type": "execute_result"
    }
   ],
   "source": [
    "stream_log(qwen, \"python支持函数式编程吗？\", \"qwen-max\")"
   ]
  },
  {
   "cell_type": "code",
   "execution_count": 3,
   "id": "083a00b7-1c85-4453-8fd1-296e1db7dff6",
   "metadata": {},
   "outputs": [
    {
     "name": "stdout",
     "output_type": "stream",
     "text": [
      "\u001b[32m是\u001b[0m\u001b[32m的\u001b[0m\u001b[32m，\u001b[0m\u001b[32mPython 支持函数\u001b[0m\u001b[32m式编程。Python 提供了函数\u001b[0m\u001b[32m定义、匿名函数（使用 `lambda\u001b[0m\u001b[32m` 关键字）、高阶函数\u001b[0m\u001b[32m（接受函数作为参数或返回函数\u001b[0m\u001b[32m）等特性，这些都是函数式编程\u001b[0m\u001b[32m的关键元素。\n",
      "\n",
      "例如：\n",
      "\n",
      "1. **\u001b[0m\u001b[32m匿名函数**：\n",
      "   ```python\n",
      "\u001b[0m\u001b[32m   double = lambda x: x *\u001b[0m\u001b[32m 2\n",
      "   print(double(5\u001b[0m\u001b[32m))  # 输出：10\n",
      "\u001b[0m\u001b[32m   ```\n",
      "\n",
      "2. **高阶\u001b[0m\u001b[32m函数**：\n",
      "   ```python\n",
      "  \u001b[0m\u001b[32m def apply_to_list(func, lst):\n",
      "\u001b[0m\u001b[32m       return [func(item) for item\u001b[0m\u001b[32m in lst]\n",
      "\n",
      "   def square(x):\n",
      "\u001b[0m\u001b[32m       return x * x\n",
      "\n",
      "   numbers\u001b[0m\u001b[32m = [1, 2, \u001b[0m\u001b[32m3, 4]\n",
      "   squared_numbers\u001b[0m\u001b[32m = apply_to_list(square, numbers)\n",
      "\u001b[0m\u001b[32m   print(squared_numbers)  #\u001b[0m\u001b[32m 输出：[1, 4,\u001b[0m\u001b[32m 9, 16]\n",
      "  \u001b[0m\u001b[32m ```\n",
      "\n",
      "3. **闭包**\u001b[0m\u001b[32m：\n",
      "   闭包允许函数可以\u001b[0m\u001b[32m访问和修改外部作用域中的变量\u001b[0m\u001b[32m。\n",
      "   ```python\n",
      "   def make\u001b[0m\u001b[32m_multiplier(factor):\n",
      "       def multiplier(x):\n",
      "\u001b[0m\u001b[32m           return x * factor\n",
      "       return\u001b[0m\u001b[32m multiplier\n",
      "\n",
      "   double = make_multiplier(\u001b[0m\u001b[32m2)\n",
      "   triple = make_multiplier(\u001b[0m\u001b[32m3)\n",
      "\n",
      "   print(double(5))\u001b[0m\u001b[32m  # 输出：10\n",
      "  \u001b[0m\u001b[32m print(triple(5))  #\u001b[0m\u001b[32m 输出：15\n",
      "   ```\n",
      "\n",
      "\u001b[0m\u001b[32m尽管 Python 并不完全遵循纯\u001b[0m\u001b[32m函数式编程语言的严格规则，\u001b[0m\u001b[32m如不可变性、无副作用等\u001b[0m\u001b[32m，但它提供了足够的工具来实现函数\u001b[0m\u001b[32m式编程风格的代码。\u001b[0m\u001b[32m\u001b[0m\n",
      "\n",
      ">-[END]>> 【内容由幻蝶AI生成，其观点仅代表创作者个人立场，可登录 http://www.illufly.com 查验其校验码 55145560】\n"
     ]
    },
    {
     "data": {
      "text/plain": [
       "'是的，Python 支持函数式编程。Python 提供了函数定义、匿名函数（使用 `lambda` 关键字）、高阶函数（接受函数作为参数或返回函数）等特性，这些都是函数式编程的关键元素。\\n\\n例如：\\n\\n1. **匿名函数**：\\n   ```python\\n   double = lambda x: x * 2\\n   print(double(5))  # 输出：10\\n   ```\\n\\n2. **高阶函数**：\\n   ```python\\n   def apply_to_list(func, lst):\\n       return [func(item) for item in lst]\\n\\n   def square(x):\\n       return x * x\\n\\n   numbers = [1, 2, 3, 4]\\n   squared_numbers = apply_to_list(square, numbers)\\n   print(squared_numbers)  # 输出：[1, 4, 9, 16]\\n   ```\\n\\n3. **闭包**：\\n   闭包允许函数可以访问和修改外部作用域中的变量。\\n   ```python\\n   def make_multiplier(factor):\\n       def multiplier(x):\\n           return x * factor\\n       return multiplier\\n\\n   double = make_multiplier(2)\\n   triple = make_multiplier(3)\\n\\n   print(double(5))  # 输出：10\\n   print(triple(5))  # 输出：15\\n   ```\\n\\n尽管 Python 并不完全遵循纯函数式编程语言的严格规则，如不可变性、无副作用等，但它提供了足够的工具来实现函数式编程风格的代码。'"
      ]
     },
     "execution_count": 3,
     "metadata": {},
     "output_type": "execute_result"
    }
   ],
   "source": [
    "stream_log(qwen, \"python支持函数式编程吗？\", \"yi-34b-chat\")"
   ]
  },
  {
   "cell_type": "code",
   "execution_count": null,
   "id": "5a6973e8-93c5-4898-8768-6e0114724a0a",
   "metadata": {},
   "outputs": [],
   "source": []
  }
 ],
 "metadata": {
  "kernelspec": {
   "display_name": "textlong-same-ipykernel",
   "language": "python",
   "name": "textlong-same-ipykernel"
  },
  "language_info": {
   "codemirror_mode": {
    "name": "ipython",
    "version": 3
   },
   "file_extension": ".py",
   "mimetype": "text/x-python",
   "name": "python",
   "nbconvert_exporter": "python",
   "pygments_lexer": "ipython3",
   "version": "3.10.0"
  }
 },
 "nbformat": 4,
 "nbformat_minor": 5
}
