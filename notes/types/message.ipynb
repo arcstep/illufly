{
 "cells": [
  {
   "cell_type": "markdown",
   "id": "a424e73e-7643-4b8b-9269-5b7529fb2d3b",
   "metadata": {},
   "source": [
    "# 消息格式处理\n",
    "\n",
    "Meesages 类通过对字符串、模板、元组等类型的兼容，以及默认的 role 生成规则，来快速构造消息列表。\n",
    "\n",
    "大模型所需要的消息列表格式，通常是这样：\n",
    "```python\n",
    "[{'role': 'system', 'content': '你是一个小说家。'},\n",
    " {'role': 'user', 'content': '帮我创作吧'},\n",
    " {'role': 'assistant', 'content': '从前有一个人很坏，他坏死了。\\n额，我是他说真的死了。'}]\n",
    " ```\n",
    "\n",
    "这有些啰嗦，可以这样来简化：\n",
    "```python\n",
    "Messages([\n",
    "    '你是一个小说家。',\n",
    "    '帮我创作吧',\n",
    "    '从前有一个人很坏，他坏死了。\\n额，我是他说真的死了。'\n",
    "])\n",
    " ```"
   ]
  },
  {
   "cell_type": "code",
   "execution_count": 2,
   "id": "f180cbdf-533c-49ea-96a6-7097287a1f2b",
   "metadata": {},
   "outputs": [],
   "source": [
    "from illufly.types import Message, Messages, Template"
   ]
  },
  {
   "cell_type": "markdown",
   "id": "1d03fc94-88b9-4eee-ba84-43355f5a3c42",
   "metadata": {},
   "source": [
    "## role 生成规则"
   ]
  },
  {
   "cell_type": "markdown",
   "id": "7b41062c-18d6-4ab0-973f-e28bffed1753",
   "metadata": {},
   "source": [
    "### 规则1： 不指定时，首条是 system，system 后接 user，user 与 assistant 交替"
   ]
  },
  {
   "cell_type": "code",
   "execution_count": 3,
   "id": "3baacee8-d268-499a-b51a-479ae9a681b6",
   "metadata": {},
   "outputs": [
    {
     "data": {
      "text/plain": [
       "[{'role': 'system', 'content': 'hi'}]"
      ]
     },
     "execution_count": 3,
     "metadata": {},
     "output_type": "execute_result"
    }
   ],
   "source": [
    "Messages([\"hi\"]).to_list()"
   ]
  },
  {
   "cell_type": "code",
   "execution_count": 4,
   "id": "bb0cf2dd-c48c-446d-bd95-cc41ec701578",
   "metadata": {},
   "outputs": [
    {
     "data": {
      "text/plain": [
       "[{'role': 'system', 'content': 'hi'},\n",
       " {'role': 'user', 'content': '我很开心'},\n",
       " {'role': 'assistant', 'content': '我也很开心'}]"
      ]
     },
     "execution_count": 4,
     "metadata": {},
     "output_type": "execute_result"
    }
   ],
   "source": [
    "Messages([\"hi\", \"我很开心\", \"我也很开心\"]).to_list()"
   ]
  },
  {
   "cell_type": "code",
   "execution_count": 5,
   "id": "d664f664-6d80-4058-b432-93893e466a01",
   "metadata": {},
   "outputs": [
    {
     "data": {
      "text/plain": [
       "[{'role': 'system', 'content': '你是一个小说家。'},\n",
       " {'role': 'user', 'content': '帮我创作吧'},\n",
       " {'role': 'assistant', 'content': '从前有一个人很坏，他坏死了。\\n额，我是他说真的死了。'}]"
      ]
     },
     "execution_count": 5,
     "metadata": {},
     "output_type": "execute_result"
    }
   ],
   "source": [
    "Messages([\n",
    "    Template(template_text=\"你是一个小说家。\"),\n",
    "    \"帮我创作吧\",\n",
    "    \"从前有一个人很坏，他坏死了。\\n额，我是他说真的死了。\"\n",
    "]).to_list()"
   ]
  },
  {
   "cell_type": "code",
   "execution_count": 6,
   "id": "35da5d3b-722f-4b8d-88c1-328385fa63cf",
   "metadata": {},
   "outputs": [
    {
     "data": {
      "text/plain": [
       "[{'role': 'system', 'content': '你是一个小说家，帮我创作吧。'},\n",
       " {'role': 'user', 'content': '我这个小说很有趣哦，我结束了'}]"
      ]
     },
     "execution_count": 6,
     "metadata": {},
     "output_type": "execute_result"
    }
   ],
   "source": [
    "Messages([\n",
    "    (\"system\", Template(template_text=\"你是一个小说家，帮我创作吧。\")),\n",
    "    \"我这个小说很有趣哦，我结束了\",\n",
    "]).to_list()"
   ]
  },
  {
   "cell_type": "code",
   "execution_count": 7,
   "id": "0a0afdf7-dc5f-4fc4-b83d-3c1455334eba",
   "metadata": {},
   "outputs": [
    {
     "data": {
      "text/plain": [
       "[{'role': 'user', 'content': '你是一个小说家，帮我创作一个说。'},\n",
       " {'role': 'assistant', 'content': '我开始了'}]"
      ]
     },
     "execution_count": 7,
     "metadata": {},
     "output_type": "execute_result"
    }
   ],
   "source": [
    "Messages([\n",
    "    (\"user\", Template(template_text=\"你是一个小说家，帮我创作一个说。\")),\n",
    "    {\"role\": \"assistant\", \"content\": \"我开始了\"},\n",
    "]).to_list()"
   ]
  },
  {
   "cell_type": "markdown",
   "id": "2c4e6688-ddab-46be-b350-78081fb974a7",
   "metadata": {},
   "source": [
    "### 规则2：列表中允许出现字符串、Turple、Template、Message、Dict等类型"
   ]
  },
  {
   "cell_type": "code",
   "execution_count": 8,
   "id": "59846413-5d78-47e3-b174-428338c20a02",
   "metadata": {},
   "outputs": [
    {
     "data": {
      "text/plain": [
       "[{'role': 'system', 'content': '你是一个小说家，帮我创作吧。'},\n",
       " {'role': 'user', 'content': '不错'},\n",
       " {'role': 'assistant', 'content': '请你开始'},\n",
       " {'role': 'user', 'content': '我这个小说很有趣哦，我结束了'}]"
      ]
     },
     "execution_count": 8,
     "metadata": {},
     "output_type": "execute_result"
    }
   ],
   "source": [
    "Messages([\n",
    "    Template(template_text=\"你是一个小说家，帮我创作吧。\"),\n",
    "    (\"user\", \"不错\"),\n",
    "    {\"role\": \"assistant\", \"content\": \"请你开始\"},\n",
    "    \"我这个小说很有趣哦，我结束了\",\n",
    "]).to_list()"
   ]
  },
  {
   "cell_type": "markdown",
   "id": "c9a62514-8265-468f-8dfd-051e2dfe4322",
   "metadata": {},
   "source": [
    "### 规则3：允许用 ai 替代 assistant 作为 role 来声明，但会被替换为 assistant"
   ]
  },
  {
   "cell_type": "code",
   "execution_count": 9,
   "id": "0924be84-b295-46f2-bc37-98fb8702a1df",
   "metadata": {},
   "outputs": [
    {
     "data": {
      "text/plain": [
       "[{'role': 'user', 'content': '你是一个小说家，帮我创作一个说。'},\n",
       " {'role': 'assistant', 'content': '我开始了'},\n",
       " {'role': 'user', 'content': '我开始了'},\n",
       " {'role': 'assistant', 'content': '我开始了'}]"
      ]
     },
     "execution_count": 9,
     "metadata": {},
     "output_type": "execute_result"
    }
   ],
   "source": [
    "Messages([\n",
    "    (\"user\", Template(template_text=\"你是一个小说家，帮我创作一个说。\")),\n",
    "    (\"ai\", \"我开始了\"),\n",
    "    {\"role\": \"user\", \"content\": \"我开始了\"},\n",
    "    {\"role\": \"ai\", \"content\": \"我开始了\"},\n",
    "]).to_list()"
   ]
  },
  {
   "cell_type": "markdown",
   "id": "994bf855-3fd3-4af5-9f50-81ea6666f2a3",
   "metadata": {},
   "source": [
    "## 提示语模板动态填充\n",
    "\n",
    "使用 Template 可以根据映射规则，动态提取数据，完成模板组装。"
   ]
  },
  {
   "cell_type": "code",
   "execution_count": 1,
   "id": "2b28e62f-4a20-414b-8941-339f8cc83c18",
   "metadata": {},
   "outputs": [
    {
     "data": {
      "text/plain": [
       "['task']"
      ]
     },
     "execution_count": 1,
     "metadata": {},
     "output_type": "execute_result"
    }
   ],
   "source": [
    "from illufly.types import Template, Messages\n",
    "\n",
    "t = Template(\"IDEA\")\n",
    "t.using_vars_list"
   ]
  },
  {
   "cell_type": "markdown",
   "id": "b222fb4b-e081-4e5a-b741-706f7942f8e9",
   "metadata": {},
   "source": [
    "### 模板输入变量映射"
   ]
  },
  {
   "cell_type": "code",
   "execution_count": 2,
   "id": "30461d46-c6e4-4af2-958a-482f7cb1fd12",
   "metadata": {},
   "outputs": [
    {
     "data": {
      "text/plain": [
       "{'task': 'task'}"
      ]
     },
     "execution_count": 2,
     "metadata": {},
     "output_type": "execute_result"
    }
   ],
   "source": [
    "# 默认映射\n",
    "Template(\"IDEA\").input_mapping"
   ]
  },
  {
   "cell_type": "code",
   "execution_count": 3,
   "id": "ac069a62-cba3-4f52-8b0b-e39023e2718e",
   "metadata": {},
   "outputs": [
    {
     "data": {
      "text/plain": [
       "{'task': 'question'}"
      ]
     },
     "execution_count": 3,
     "metadata": {},
     "output_type": "execute_result"
    }
   ],
   "source": [
    "# 指定映射\n",
    "Template(\"IDEA\", input_mapping={\"task\": \"question\"}).input_mapping"
   ]
  },
  {
   "cell_type": "code",
   "execution_count": 4,
   "id": "b6c42005-a767-4946-9ce4-e3575a3e8a43",
   "metadata": {},
   "outputs": [
    {
     "data": {
      "text/plain": [
       "{'task': 'state.question'}"
      ]
     },
     "execution_count": 4,
     "metadata": {},
     "output_type": "execute_result"
    }
   ],
   "source": [
    "# 映射到嵌套字典\n",
    "Template(\"IDEA\", input_mapping={\"task\": \"state.question\"}).input_mapping"
   ]
  },
  {
   "cell_type": "markdown",
   "id": "b6d9b272-0847-4ae0-a541-c325a80b94e4",
   "metadata": {},
   "source": [
    "### 填充模板变量"
   ]
  },
  {
   "cell_type": "code",
   "execution_count": 5,
   "id": "8eb47892-be56-4fb1-98fe-d1217cd7c539",
   "metadata": {},
   "outputs": [
    {
     "data": {
      "text/plain": [
       "'你是强大的写作助手。\\n\\n你必须遵循以下约束来完成任务:\\n1. 直接输出你的结果，不要评论，不要啰嗦\\n2. 使用markdown格式输出\\n\\n**你的任务是:**\\n请帮我写一首歌\\n'"
      ]
     },
     "execution_count": 5,
     "metadata": {},
     "output_type": "execute_result"
    }
   ],
   "source": [
    "# 格式化\n",
    "Template(\"IDEA\").format({\"task\": \"请帮我写一首歌\"})"
   ]
  },
  {
   "cell_type": "code",
   "execution_count": 7,
   "id": "95759238-ca1a-4d00-8308-f6357939f374",
   "metadata": {},
   "outputs": [
    {
     "name": "stdout",
     "output_type": "stream",
     "text": [
      "  0s [INFO] \u001b[34m你是强大的写作助手。\n",
      "\n",
      "你必须遵循以下约束来完成任务:\n",
      "1. 直接输出你的结果，不要评论，不要啰嗦\n",
      "2. 使用markdown格式输出\n",
      "\n",
      "**你的任务是:**\n",
      "\n",
      "\u001b[0m\n"
     ]
    },
    {
     "data": {
      "text/plain": [
       "'你是强大的写作助手。\\n\\n你必须遵循以下约束来完成任务:\\n1. 直接输出你的结果，不要评论，不要啰嗦\\n2. 使用markdown格式输出\\n\\n**你的任务是:**\\n\\n'"
      ]
     },
     "execution_count": 7,
     "metadata": {},
     "output_type": "execute_result"
    }
   ],
   "source": [
    "# 映射变量缺失\n",
    "Template(\"IDEA\")(verbose=True)"
   ]
  },
  {
   "cell_type": "code",
   "execution_count": 8,
   "id": "1045b876-4101-4fd6-a0e3-fac9456db2ac",
   "metadata": {},
   "outputs": [
    {
     "data": {
      "text/plain": [
       "'你是强大的写作助手。\\n\\n你必须遵循以下约束来完成任务:\\n1. 直接输出你的结果，不要评论，不要啰嗦\\n2. 使用markdown格式输出\\n\\n**你的任务是:**\\n请帮我写一首歌\\n'"
      ]
     },
     "execution_count": 8,
     "metadata": {},
     "output_type": "execute_result"
    }
   ],
   "source": [
    "# 改变映射规则\n",
    "Template(\n",
    "    \"IDEA\",\n",
    "    input_mapping={\"task\": \"question\"}\n",
    ").format({\"question\": \"请帮我写一首歌\"})"
   ]
  },
  {
   "cell_type": "code",
   "execution_count": 9,
   "id": "c6d5df0a-cd4d-440d-b510-a6131ef676cb",
   "metadata": {},
   "outputs": [
    {
     "data": {
      "text/plain": [
       "'你是强大的写作助手。\\n\\n你必须遵循以下约束来完成任务:\\n1. 直接输出你的结果，不要评论，不要啰嗦\\n2. 使用markdown格式输出\\n\\n**你的任务是:**\\n请帮我写一首歌\\n'"
      ]
     },
     "execution_count": 9,
     "metadata": {},
     "output_type": "execute_result"
    }
   ],
   "source": [
    "# 映射到深层嵌套的字典变量\n",
    "Template(\n",
    "    \"IDEA\",\n",
    "    input_mapping={\"task\": \"state.my.question\"}\n",
    ").format({\"state\": {\"my\": {\"question\": \"请帮我写一首歌\"}}})"
   ]
  },
  {
   "cell_type": "code",
   "execution_count": 10,
   "id": "972b5c9f-4642-47fb-a200-ff1734cddaee",
   "metadata": {},
   "outputs": [
    {
     "data": {
      "text/plain": [
       "[]"
      ]
     },
     "execution_count": 10,
     "metadata": {},
     "output_type": "execute_result"
    }
   ],
   "source": [
    "messages = Messages([\"hi\", '我想回家', \"有什么可以帮您?\"])\n",
    "messages.input_vars"
   ]
  },
  {
   "cell_type": "markdown",
   "id": "e46f7e8a-dbe4-42fd-9364-e0d065d84e63",
   "metadata": {},
   "source": [
    "### "
   ]
  },
  {
   "cell_type": "code",
   "execution_count": null,
   "id": "36effbd3-41f4-4fda-a1fb-7e633678b31e",
   "metadata": {},
   "outputs": [],
   "source": []
  }
 ],
 "metadata": {
  "kernelspec": {
   "display_name": "textlong-same-ipykernel",
   "language": "python",
   "name": "textlong-same-ipykernel"
  },
  "language_info": {
   "codemirror_mode": {
    "name": "ipython",
    "version": 3
   },
   "file_extension": ".py",
   "mimetype": "text/x-python",
   "name": "python",
   "nbconvert_exporter": "python",
   "pygments_lexer": "ipython3",
   "version": "3.10.0"
  }
 },
 "nbformat": 4,
 "nbformat_minor": 5
}
