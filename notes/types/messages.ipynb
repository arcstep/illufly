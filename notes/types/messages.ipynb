{
 "cells": [
  {
   "cell_type": "markdown",
   "id": "a424e73e-7643-4b8b-9269-5b7529fb2d3b",
   "metadata": {},
   "source": [
    "# 消息格式处理\n",
    "\n",
    "Meesages 类通过对字符串、模板、元组等类型的兼容，以及默认的 role 生成规则，来快速构造消息列表。\n",
    "\n",
    "大模型所需要的消息列表格式，通常是这样：\n",
    "```python\n",
    "[\n",
    "    {'role': 'system', 'content': '你是一个小说家。'},\n",
    "    {'role': 'user', 'content': '帮我创作吧'},\n",
    "    {'role': 'assistant', 'content': '从前有一个人很坏，他坏死了。\\n额，我是他说真的死了。'}\n",
    "]\n",
    " ```\n",
    "\n",
    "这有些啰嗦，可以这样来简化：\n",
    "```python\n",
    "Messages([\n",
    "    '你是一个小说家。',\n",
    "    '帮我创作吧',\n",
    "    '从前有一个人很坏，他坏死了。\\n额，我是他说真的死了。'\n",
    "])\n",
    " ```"
   ]
  },
  {
   "cell_type": "code",
   "execution_count": 1,
   "id": "f180cbdf-533c-49ea-96a6-7097287a1f2b",
   "metadata": {},
   "outputs": [],
   "source": [
    "from illufly.types import Message, Messages, Template"
   ]
  },
  {
   "cell_type": "markdown",
   "id": "1d03fc94-88b9-4eee-ba84-43355f5a3c42",
   "metadata": {},
   "source": [
    "## role 生成规则"
   ]
  },
  {
   "cell_type": "markdown",
   "id": "7b41062c-18d6-4ab0-973f-e28bffed1753",
   "metadata": {},
   "source": [
    "### 规则1： 不指定时，首条是 system，system 后接 user，user 与 assistant 交替"
   ]
  },
  {
   "cell_type": "code",
   "execution_count": 2,
   "id": "3baacee8-d268-499a-b51a-479ae9a681b6",
   "metadata": {},
   "outputs": [
    {
     "data": {
      "text/plain": [
       "[{'role': 'system', 'content': 'hi'}]"
      ]
     },
     "execution_count": 2,
     "metadata": {},
     "output_type": "execute_result"
    }
   ],
   "source": [
    "Messages([\"hi\"]).to_list()"
   ]
  },
  {
   "cell_type": "code",
   "execution_count": 3,
   "id": "bb0cf2dd-c48c-446d-bd95-cc41ec701578",
   "metadata": {},
   "outputs": [
    {
     "data": {
      "text/plain": [
       "[{'role': 'system', 'content': 'hi'},\n",
       " {'role': 'user', 'content': '我很开心'},\n",
       " {'role': 'assistant', 'content': '我也很开心'}]"
      ]
     },
     "execution_count": 3,
     "metadata": {},
     "output_type": "execute_result"
    }
   ],
   "source": [
    "Messages([\"hi\", \"我很开心\", \"我也很开心\"]).to_list()"
   ]
  },
  {
   "cell_type": "code",
   "execution_count": 4,
   "id": "d664f664-6d80-4058-b432-93893e466a01",
   "metadata": {},
   "outputs": [
    {
     "data": {
      "text/plain": [
       "[{'role': 'system', 'content': '你是一个小说家。'},\n",
       " {'role': 'user', 'content': '帮我创作吧'},\n",
       " {'role': 'assistant', 'content': '从前有一个人很坏，他坏死了。\\n额，我是他说真的死了。'}]"
      ]
     },
     "execution_count": 4,
     "metadata": {},
     "output_type": "execute_result"
    }
   ],
   "source": [
    "Messages([\n",
    "    Template(text\n",
    "    \"帮我创作吧\",\n",
    "    \"从前有一个人很坏，他坏死了。\\n额，我是他说真的死了。\"\n",
    "]).to_list()"
   ]
  },
  {
   "cell_type": "code",
   "execution_count": 5,
   "id": "35da5d3b-722f-4b8d-88c1-328385fa63cf",
   "metadata": {},
   "outputs": [
    {
     "data": {
      "text/plain": [
       "[{'role': 'system', 'content': '你是一个小说家，帮我创作吧。'},\n",
       " {'role': 'user', 'content': '我这个小说很有趣哦，我结束了'}]"
      ]
     },
     "execution_count": 5,
     "metadata": {},
     "output_type": "execute_result"
    }
   ],
   "source": [
    "Messages([\n",
    "    (\"system\", Template(text\n",
    "    \"我这个小说很有趣哦，我结束了\",\n",
    "]).to_list()"
   ]
  },
  {
   "cell_type": "code",
   "execution_count": 6,
   "id": "0a0afdf7-dc5f-4fc4-b83d-3c1455334eba",
   "metadata": {},
   "outputs": [
    {
     "data": {
      "text/plain": [
       "[{'role': 'user', 'content': '你是一个小说家，帮我创作一个说。'},\n",
       " {'role': 'assistant', 'content': '我开始了'}]"
      ]
     },
     "execution_count": 6,
     "metadata": {},
     "output_type": "execute_result"
    }
   ],
   "source": [
    "Messages([\n",
    "    (\"user\", Template(text\n",
    "    {\"role\": \"assistant\", \"content\": \"我开始了\"},\n",
    "]).to_list()"
   ]
  },
  {
   "cell_type": "markdown",
   "id": "2c4e6688-ddab-46be-b350-78081fb974a7",
   "metadata": {},
   "source": [
    "### 规则2：列表中允许出现字符串、Turple、Template、Message、Dict等类型"
   ]
  },
  {
   "cell_type": "code",
   "execution_count": 7,
   "id": "be527fe6-1a1c-4c3e-84a8-1e05506793b1",
   "metadata": {},
   "outputs": [
    {
     "data": {
      "text/plain": [
       "[<Template template_vars=set() template_text='你是一个小说家，帮我创作吧。'>,\n",
       " ('user', '不错'),\n",
       " {'role': 'assistant', 'content': '请你开始'},\n",
       " '我这个小说很有趣哦，我结束了']"
      ]
     },
     "execution_count": 7,
     "metadata": {},
     "output_type": "execute_result"
    }
   ],
   "source": [
    "Messages([\n",
    "    Template(text=\"你是一个小说家，帮我创作吧。\"),\n",
    "    (\"user\", \"不错\"),\n",
    "    {\"role\": \"assistant\", \"content\": \"请你开始\"},\n",
    "    \"我这个小说很有趣哦，我结束了\",\n",
    "]).raw_messages"
   ]
  },
  {
   "cell_type": "code",
   "execution_count": 8,
   "id": "59846413-5d78-47e3-b174-428338c20a02",
   "metadata": {},
   "outputs": [
    {
     "data": {
      "text/plain": [
       "[{'role': 'system', 'content': '你是一个小说家，帮我创作吧。'},\n",
       " {'role': 'user', 'content': '不错'},\n",
       " {'role': 'assistant', 'content': '请你开始'},\n",
       " {'role': 'user', 'content': '我这个小说很有趣哦，我结束了'}]"
      ]
     },
     "execution_count": 8,
     "metadata": {},
     "output_type": "execute_result"
    }
   ],
   "source": [
    "Messages([\n",
    "    Template(text\n",
    "    (\"user\", \"不错\"),\n",
    "    {\"role\": \"assistant\", \"content\": \"请你开始\"},\n",
    "    \"我这个小说很有趣哦，我结束了\",\n",
    "]).to_list()"
   ]
  },
  {
   "cell_type": "markdown",
   "id": "c9a62514-8265-468f-8dfd-051e2dfe4322",
   "metadata": {},
   "source": [
    "### 规则3：允许用 ai 替代 assistant 作为 role 来声明，但会被替换为 assistant"
   ]
  },
  {
   "cell_type": "code",
   "execution_count": 9,
   "id": "0924be84-b295-46f2-bc37-98fb8702a1df",
   "metadata": {},
   "outputs": [
    {
     "data": {
      "text/plain": [
       "[{'role': 'user', 'content': '你是一个小说家，帮我创作一个说。'},\n",
       " {'role': 'assistant', 'content': '我开始了'},\n",
       " {'role': 'user', 'content': '我开始了'},\n",
       " {'role': 'assistant', 'content': '我开始了'}]"
      ]
     },
     "execution_count": 9,
     "metadata": {},
     "output_type": "execute_result"
    }
   ],
   "source": [
    "Messages([\n",
    "    (\"user\", Template(text\n",
    "    (\"ai\", \"我开始了\"),\n",
    "    {\"role\": \"user\", \"content\": \"我开始了\"},\n",
    "    {\"role\": \"ai\", \"content\": \"我开始了\"},\n",
    "]).to_list()"
   ]
  },
  {
   "cell_type": "markdown",
   "id": "994bf855-3fd3-4af5-9f50-81ea6666f2a3",
   "metadata": {},
   "source": [
    "## 工具回调消息\n",
    "\n",
    "当消息列表中包含工具回调消息时，要求兼容："
   ]
  },
  {
   "cell_type": "code",
   "execution_count": 1,
   "id": "fbc57753-4d53-479a-9423-f0aa12ceddcf",
   "metadata": {},
   "outputs": [
    {
     "data": {
      "text/plain": [
       "[{'role': 'user', 'content': '几点了'},\n",
       " {'role': 'assistant',\n",
       "  'content': '',\n",
       "  'tool_calls': [{'index': 0,\n",
       "    'id': 'call_8b4dfce376834e2295a4ea',\n",
       "    'type': 'function',\n",
       "    'function': {'name': 'get_current_time', 'arguments': '{}'}}]},\n",
       " {'role': 'tool',\n",
       "  'content': '当前时间：2024-09-28 14:33:56。',\n",
       "  'tool_call_id': 'call_8b4dfce376834e2295a4ea',\n",
       "  'name': 'get_current_time'},\n",
       " {'role': 'assistant', 'content': '现在的时间是2024年9月28日 14点33分56秒。'},\n",
       " {'role': 'user', 'content': '现在几点了？'}]"
      ]
     },
     "execution_count": 1,
     "metadata": {},
     "output_type": "execute_result"
    }
   ],
   "source": [
    "from illufly.types import Messages\n",
    "\n",
    "messages = Messages([{'role': 'user', 'content': '几点了'},\n",
    " {'role': 'assistant',\n",
    "  'content': '',\n",
    "  'tool_calls': [{'index': 0,\n",
    "    'id': 'call_8b4dfce376834e2295a4ea',\n",
    "    'type': 'function',\n",
    "    'function': {'name': 'get_current_time', 'arguments': '{}'}}]},\n",
    " {'tool_call_id': 'call_8b4dfce376834e2295a4ea',\n",
    "  'role': 'tool',\n",
    "  'name': 'get_current_time',\n",
    "  'content': '当前时间：2024-09-28 14:33:56。'},\n",
    " {'role': 'assistant', 'content': '现在的时间是2024年9月28日 14点33分56秒。'},\n",
    " {'role': 'user', 'content': '现在几点了？'}])\n",
    "\n",
    "messages.to_list()"
   ]
  },
  {
   "cell_type": "code",
   "execution_count": 2,
   "id": "5f349eaa-762e-43af-9491-1799873e1f2a",
   "metadata": {},
   "outputs": [
    {
     "data": {
      "text/plain": [
       "[{'role': 'user', 'content': [{'type': 'text', 'text': '几点了'}]},\n",
       " {'role': 'assistant',\n",
       "  'content': [{'type': 'text', 'text': ''}],\n",
       "  'tool_calls': [{'index': 0,\n",
       "    'id': 'call_8b4dfce376834e2295a4ea',\n",
       "    'type': 'function',\n",
       "    'function': {'name': 'get_current_time', 'arguments': '{}'}}]},\n",
       " {'role': 'tool',\n",
       "  'content': [{'type': 'text', 'text': '当前时间：2024-09-28 14:33:56。'}],\n",
       "  'tool_call_id': 'call_8b4dfce376834e2295a4ea',\n",
       "  'name': 'get_current_time'},\n",
       " {'role': 'assistant',\n",
       "  'content': [{'type': 'text', 'text': '现在的时间是2024年9月28日 14点33分56秒。'}]},\n",
       " {'role': 'user', 'content': [{'type': 'text', 'text': '现在几点了？'}]}]"
      ]
     },
     "execution_count": 2,
     "metadata": {},
     "output_type": "execute_result"
    }
   ],
   "source": [
    "messages.to_list(style=\"openai_vl\")"
   ]
  },
  {
   "cell_type": "code",
   "execution_count": 33,
   "id": "64ae833c-9622-4202-bbe6-b891bf126437",
   "metadata": {},
   "outputs": [
    {
     "data": {
      "text/plain": [
       "[{'role': 'user', 'content': [{'text': '几点了'}]},\n",
       " {'role': 'assistant', 'content': [{'text': ''}]},\n",
       " {'role': 'tool', 'content': [{'text': '当前时间：2024-09-28 14:33:56。'}]},\n",
       " {'role': 'assistant', 'content': [{'text': '现在的时间是2024年9月28日 14点33分56秒。'}]},\n",
       " {'role': 'user', 'content': [{'text': '现在几点了？'}]}]"
      ]
     },
     "execution_count": 33,
     "metadata": {},
     "output_type": "execute_result"
    }
   ],
   "source": [
    "messages.to_list(style=\"qwen_vl\")"
   ]
  },
  {
   "cell_type": "code",
   "execution_count": 36,
   "id": "69072224-0fb9-447a-8a7c-387aae4a3b35",
   "metadata": {},
   "outputs": [
    {
     "data": {
      "text/plain": [
       "[{'role': 'user', 'content': '几点了'},\n",
       " {'role': 'assistant',\n",
       "  'content': '',\n",
       "  'tool_calls': [{'index': 0,\n",
       "    'id': 'call_8b4dfce376834e2295a4ea',\n",
       "    'type': 'function',\n",
       "    'function': {'name': 'get_current_time', 'arguments': '{}'}}]},\n",
       " {'tool_call_id': 'call_8b4dfce376834e2295a4ea',\n",
       "  'role': 'tool',\n",
       "  'name': 'get_current_time',\n",
       "  'content': '当前时间：2024-09-28 14:33:56。'},\n",
       " {'role': 'assistant', 'content': '现在的时间是2024年9月28日 14点33分56秒。'},\n",
       " {'role': 'user', 'content': '现在几点了？'}]"
      ]
     },
     "execution_count": 36,
     "metadata": {},
     "output_type": "execute_result"
    }
   ],
   "source": [
    "messages.raw_messages"
   ]
  },
  {
   "cell_type": "markdown",
   "id": "85fe1c83-a4a1-40cb-8fae-fdf0ea429b70",
   "metadata": {},
   "source": [
    "## 多模态消息"
   ]
  },
  {
   "cell_type": "markdown",
   "id": "e8c2b285-4b86-4ee9-89ff-b29a489c81fe",
   "metadata": {},
   "source": [
    "### 多模态消息的定义兼容原有格式"
   ]
  },
  {
   "cell_type": "code",
   "execution_count": 10,
   "id": "a257710f-bf66-49a5-b3b7-0186d690f38b",
   "metadata": {},
   "outputs": [
    {
     "data": {
      "text/plain": [
       "[{'role': 'user', 'content': [{'text': '你是一个小说家，帮我创作一个说。'}]},\n",
       " {'role': 'assistant', 'content': [{'text': '我开始了'}]},\n",
       " {'role': 'user', 'content': [{'text': '我开始了'}]},\n",
       " {'role': 'assistant', 'content': [{'text': '我开始了'}]}]"
      ]
     },
     "execution_count": 10,
     "metadata": {},
     "output_type": "execute_result"
    }
   ],
   "source": [
    "Messages([\n",
    "    (\"user\", Template(text\n",
    "    (\"ai\", \"我开始了\"),\n",
    "    {\"role\": \"user\", \"content\": \"我开始了\"},\n",
    "    {\"role\": \"ai\", \"content\": \"我开始了\"},\n",
    "]).to_list(input_vars={}, style=\"qwen_vl\")"
   ]
  },
  {
   "cell_type": "code",
   "execution_count": 11,
   "id": "154a672b-d7bc-4281-8fb6-0a245abc73d0",
   "metadata": {},
   "outputs": [
    {
     "data": {
      "text/plain": [
       "'你是一个小说家，帮我创作一个说。'"
      ]
     },
     "execution_count": 11,
     "metadata": {},
     "output_type": "execute_result"
    }
   ],
   "source": [
    "Template(text()"
   ]
  },
  {
   "cell_type": "markdown",
   "id": "ce490419-1e89-4677-981e-568735f22754",
   "metadata": {},
   "source": [
    "### OpenAI风格的多模态消息格式"
   ]
  },
  {
   "cell_type": "code",
   "execution_count": 12,
   "id": "48de998d-7a56-4a93-a100-552575faf32f",
   "metadata": {},
   "outputs": [],
   "source": [
    "openai_msg = Messages(\n",
    "    [\n",
    "        {\n",
    "          \"role\": \"user\",\n",
    "          \"content\": [\n",
    "            {\n",
    "              \"type\": \"image_url\",\n",
    "              \"image_url\": {\n",
    "                \"url\": \"https://dashscope.oss-cn-beijing.aliyuncs.com/images/dog_and_girl.jpeg\"\n",
    "              }\n",
    "            },\n",
    "            {\n",
    "              \"type\": \"image_url\",\n",
    "              \"image_url\": {\n",
    "                \"url\": \"https://dashscope.oss-cn-beijing.aliyuncs.com/images/tiger.png\"\n",
    "              }\n",
    "            },\n",
    "            {\n",
    "              \"type\": \"text\",\n",
    "              \"text\": \"这些是什么\"\n",
    "            }\n",
    "          ]\n",
    "        }\n",
    "    ],\n",
    "    style=\"openai_vl\"\n",
    ")"
   ]
  },
  {
   "cell_type": "code",
   "execution_count": 13,
   "id": "fcdb2624-1f24-40b6-ab15-5c7e28ef5191",
   "metadata": {},
   "outputs": [
    {
     "data": {
      "text/plain": [
       "[{'role': 'user',\n",
       "  'content': [{'type': 'image_url',\n",
       "    'image_url': {'url': 'https://dashscope.oss-cn-beijing.aliyuncs.com/images/dog_and_girl.jpeg'}},\n",
       "   {'type': 'image_url',\n",
       "    'image_url': {'url': 'https://dashscope.oss-cn-beijing.aliyuncs.com/images/tiger.png'}},\n",
       "   {'type': 'text', 'text': '这些是什么'}]}]"
      ]
     },
     "execution_count": 13,
     "metadata": {},
     "output_type": "execute_result"
    }
   ],
   "source": [
    "openai_msg.to_list()"
   ]
  },
  {
   "cell_type": "code",
   "execution_count": 14,
   "id": "506c5cdf-fd46-458a-afd4-f05f01463b2f",
   "metadata": {},
   "outputs": [
    {
     "data": {
      "text/plain": [
       "[{'role': 'user',\n",
       "  'content': [{'image': 'https://dashscope.oss-cn-beijing.aliyuncs.com/images/dog_and_girl.jpeg'},\n",
       "   {'image': 'https://dashscope.oss-cn-beijing.aliyuncs.com/images/tiger.png'},\n",
       "   {'text': '这些是什么'}]}]"
      ]
     },
     "execution_count": 14,
     "metadata": {},
     "output_type": "execute_result"
    }
   ],
   "source": [
    "openai_msg.to_list(style=\"qwen_vl\")"
   ]
  },
  {
   "cell_type": "code",
   "execution_count": 15,
   "id": "c36a4e7f-182f-46a4-8187-a33a5c8a2a7a",
   "metadata": {},
   "outputs": [
    {
     "data": {
      "text/plain": [
       "[{'role': 'user', 'content': '这些是什么'}]"
      ]
     },
     "execution_count": 15,
     "metadata": {},
     "output_type": "execute_result"
    }
   ],
   "source": [
    "openai_msg.to_list(style=\"text\")"
   ]
  },
  {
   "cell_type": "markdown",
   "id": "6cbae981-0b87-4826-a9c6-a5480d6fbed6",
   "metadata": {},
   "source": [
    "### 通义千问的多模态消息格式"
   ]
  },
  {
   "cell_type": "code",
   "execution_count": 16,
   "id": "95c97e3e-c768-487d-a695-c6f4f32a6133",
   "metadata": {},
   "outputs": [],
   "source": [
    "qwen_msg = Messages([\n",
    "    (\"user\", [\n",
    "        {'image': 'https://dashscope.oss-cn-beijing.aliyuncs.com/images/dog_and_girl.jpeg'},\n",
    "        {'image': 'https://dashscope.oss-cn-beijing.aliyuncs.com/images/tiger.png'},\n",
    "        {'text': '这些是什么'}\n",
    "    ])\n",
    "], style=\"qwen_vl\")"
   ]
  },
  {
   "cell_type": "code",
   "execution_count": 17,
   "id": "9569e9f6-9e55-4bfe-9724-cc2c9b7e64fe",
   "metadata": {},
   "outputs": [
    {
     "data": {
      "text/plain": [
       "[{'role': 'user',\n",
       "  'content': [{'image': 'https://dashscope.oss-cn-beijing.aliyuncs.com/images/dog_and_girl.jpeg'},\n",
       "   {'image': 'https://dashscope.oss-cn-beijing.aliyuncs.com/images/tiger.png'},\n",
       "   {'text': '这些是什么'}]}]"
      ]
     },
     "execution_count": 17,
     "metadata": {},
     "output_type": "execute_result"
    }
   ],
   "source": [
    "qwen_msg.to_list()"
   ]
  },
  {
   "cell_type": "code",
   "execution_count": 18,
   "id": "1fa1886f-0d67-47ad-8feb-68f9b69f5710",
   "metadata": {},
   "outputs": [
    {
     "data": {
      "text/plain": [
       "[{'role': 'user',\n",
       "  'content': [{'type': 'image_url',\n",
       "    'image_url': {'url': 'https://dashscope.oss-cn-beijing.aliyuncs.com/images/dog_and_girl.jpeg'}},\n",
       "   {'type': 'image_url',\n",
       "    'image_url': {'url': 'https://dashscope.oss-cn-beijing.aliyuncs.com/images/tiger.png'}},\n",
       "   {'type': 'text', 'text': '这些是什么'}]}]"
      ]
     },
     "execution_count": 18,
     "metadata": {},
     "output_type": "execute_result"
    }
   ],
   "source": [
    "qwen_msg.to_list(style=\"openai_vl\")"
   ]
  },
  {
   "cell_type": "code",
   "execution_count": 19,
   "id": "3eae3f96-c2b9-415e-8547-9838928fd2f4",
   "metadata": {},
   "outputs": [
    {
     "data": {
      "text/plain": [
       "[{'role': 'user', 'content': '这些是什么'}]"
      ]
     },
     "execution_count": 19,
     "metadata": {},
     "output_type": "execute_result"
    }
   ],
   "source": [
    "qwen_msg.to_list(style=\"text\")"
   ]
  },
  {
   "cell_type": "markdown",
   "id": "cd7e6e1e-62d0-4108-9460-ce6ca1679b78",
   "metadata": {},
   "source": [
    "## 提示语模板动态填充\n",
    "\n",
    "使用 Template 可以根据映射规则，动态提取数据，完成模板组装。"
   ]
  },
  {
   "cell_type": "code",
   "execution_count": 20,
   "id": "2b28e62f-4a20-414b-8941-339f8cc83c18",
   "metadata": {},
   "outputs": [
    {
     "data": {
      "text/plain": [
       "<Template template_vars={'task'} template_text='你是强大的写作助手。...'>"
      ]
     },
     "execution_count": 20,
     "metadata": {},
     "output_type": "execute_result"
    }
   ],
   "source": [
    "from illufly.types import Template, Messages\n",
    "\n",
    "t = Template(\"IDEA\")\n",
    "t"
   ]
  },
  {
   "cell_type": "markdown",
   "id": "b222fb4b-e081-4e5a-b741-706f7942f8e9",
   "metadata": {},
   "source": [
    "### 模板输入变量映射"
   ]
  },
  {
   "cell_type": "code",
   "execution_count": 21,
   "id": "30461d46-c6e4-4af2-958a-482f7cb1fd12",
   "metadata": {},
   "outputs": [
    {
     "data": {
      "text/plain": [
       "{}"
      ]
     },
     "execution_count": 21,
     "metadata": {},
     "output_type": "execute_result"
    }
   ],
   "source": [
    "# 默认映射\n",
    "Template(\"IDEA\").imported_vars"
   ]
  },
  {
   "cell_type": "code",
   "execution_count": 22,
   "id": "ac069a62-cba3-4f52-8b0b-e39023e2718e",
   "metadata": {},
   "outputs": [
    {
     "data": {
      "text/plain": [
       "{}"
      ]
     },
     "execution_count": 22,
     "metadata": {},
     "output_type": "execute_result"
    }
   ],
   "source": [
    "# 指定映射\n",
    "Template(\"IDEA\", binding_map={\"task\": \"question\"}).imported_vars"
   ]
  },
  {
   "cell_type": "markdown",
   "id": "b6d9b272-0847-4ae0-a541-c325a80b94e4",
   "metadata": {},
   "source": [
    "### 填充模板变量"
   ]
  },
  {
   "cell_type": "code",
   "execution_count": 23,
   "id": "8eb47892-be56-4fb1-98fe-d1217cd7c539",
   "metadata": {},
   "outputs": [
    {
     "data": {
      "text/plain": [
       "'你是强大的写作助手。\\n\\n你必须遵循以下约束来完成任务:\\n1. 直接输出你的结果，不要评论，不要啰嗦\\n2. 使用markdown格式输出\\n\\n**你的任务是:**\\n请帮我写一首歌\\n'"
      ]
     },
     "execution_count": 23,
     "metadata": {},
     "output_type": "execute_result"
    }
   ],
   "source": [
    "# 格式化\n",
    "Template(\"IDEA\").format({\"task\": \"请帮我写一首歌\"})"
   ]
  },
  {
   "cell_type": "code",
   "execution_count": 24,
   "id": "95759238-ca1a-4d00-8308-f6357939f374",
   "metadata": {},
   "outputs": [
    {
     "name": "stdout",
     "output_type": "stream",
     "text": [
      "  0s [INFO] \u001b[34m你是强大的写作助手。\n",
      "\n",
      "你必须遵循以下约束来完成任务:\n",
      "1. 直接输出你的结果，不要评论，不要啰嗦\n",
      "2. 使用markdown格式输出\n",
      "\n",
      "**你的任务是:**\n",
      "\n",
      "\u001b[0m\n"
     ]
    },
    {
     "data": {
      "text/plain": [
       "'你是强大的写作助手。\\n\\n你必须遵循以下约束来完成任务:\\n1. 直接输出你的结果，不要评论，不要啰嗦\\n2. 使用markdown格式输出\\n\\n**你的任务是:**\\n\\n'"
      ]
     },
     "execution_count": 24,
     "metadata": {},
     "output_type": "execute_result"
    }
   ],
   "source": [
    "# 映射变量缺失\n",
    "Template(\"IDEA\")(verbose=True)"
   ]
  },
  {
   "cell_type": "code",
   "execution_count": 25,
   "id": "1045b876-4101-4fd6-a0e3-fac9456db2ac",
   "metadata": {},
   "outputs": [
    {
     "data": {
      "text/plain": [
       "'你是强大的写作助手。\\n\\n你必须遵循以下约束来完成任务:\\n1. 直接输出你的结果，不要评论，不要啰嗦\\n2. 使用markdown格式输出\\n\\n**你的任务是:**\\n\\n'"
      ]
     },
     "execution_count": 25,
     "metadata": {},
     "output_type": "execute_result"
    }
   ],
   "source": [
    "# 改变映射规则\n",
    "Template(\n",
    "    \"IDEA\",\n",
    "    input_mapping={\"task\": \"question\"}\n",
    ").format({\"question\": \"请帮我写一首歌\"})"
   ]
  },
  {
   "cell_type": "code",
   "execution_count": 26,
   "id": "c6d5df0a-cd4d-440d-b510-a6131ef676cb",
   "metadata": {},
   "outputs": [
    {
     "data": {
      "text/plain": [
       "'你是强大的写作助手。\\n\\n你必须遵循以下约束来完成任务:\\n1. 直接输出你的结果，不要评论，不要啰嗦\\n2. 使用markdown格式输出\\n\\n**你的任务是:**\\n\\n'"
      ]
     },
     "execution_count": 26,
     "metadata": {},
     "output_type": "execute_result"
    }
   ],
   "source": [
    "# 映射到深层嵌套的字典变量\n",
    "Template(\n",
    "    \"IDEA\",\n",
    "    input_mapping={\"task\": \"state.my.question\"}\n",
    ").format({\"state\": {\"my\": {\"question\": \"请帮我写一首歌\"}}})"
   ]
  },
  {
   "cell_type": "code",
   "execution_count": 27,
   "id": "972b5c9f-4642-47fb-a200-ff1734cddaee",
   "metadata": {},
   "outputs": [
    {
     "data": {
      "text/plain": [
       "[]"
      ]
     },
     "execution_count": 27,
     "metadata": {},
     "output_type": "execute_result"
    }
   ],
   "source": [
    "messages = Messages([\"hi\", '我想回家', \"有什么可以帮您?\"])\n",
    "messages.input_vars"
   ]
  },
  {
   "cell_type": "markdown",
   "id": "d5ce5485-cbe0-45e2-8dfe-a0b92bf9e76f",
   "metadata": {},
   "source": [
    "### 使用提示语模板构建消息"
   ]
  },
  {
   "cell_type": "code",
   "execution_count": 28,
   "id": "76a6d63e-5706-4f41-8238-f1e4b2418cd3",
   "metadata": {},
   "outputs": [
    {
     "data": {
      "text/plain": [
       "Message(role=user, content=你是强大的写作助手。\n",
       "\n",
       "你必须遵循以下约束来完成任务:\n",
       "1. 直接输出你的结果，不要评论，不要啰嗦\n",
       "2. 使用markdown格式输出\n",
       "\n",
       "**你的任务是:**\n",
       "\n",
       ")"
      ]
     },
     "execution_count": 28,
     "metadata": {},
     "output_type": "execute_result"
    }
   ],
   "source": [
    "from illufly.types import Messages, Message, Template\n",
    "\n",
    "Message(\"user\", Template(\n",
    "    \"IDEA\",\n",
    "    input_mapping={\"task\": \"question\"}\n",
    "))"
   ]
  },
  {
   "cell_type": "code",
   "execution_count": null,
   "id": "771993a4-41d4-44ba-a8fa-a87f967e1a51",
   "metadata": {},
   "outputs": [],
   "source": []
  }
 ],
 "metadata": {
  "kernelspec": {
   "display_name": "textlong-same-ipykernel",
   "language": "python",
   "name": "textlong-same-ipykernel"
  },
  "language_info": {
   "codemirror_mode": {
    "name": "ipython",
    "version": 3
   },
   "file_extension": ".py",
   "mimetype": "text/x-python",
   "name": "python",
   "nbconvert_exporter": "python",
   "pygments_lexer": "ipython3",
   "version": "3.10.0"
  }
 },
 "nbformat": 4,
 "nbformat_minor": 5
}
