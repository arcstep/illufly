{
 "cells": [
  {
   "cell_type": "code",
   "execution_count": 1,
   "id": "f3045be3-ca71-46ba-8fa3-f6d999a63a5c",
   "metadata": {},
   "outputs": [],
   "source": [
    "import os\n",
    "from dotenv import load_dotenv, find_dotenv\n",
    "load_dotenv(find_dotenv(), override=True)\n",
    "os.chdir('..')"
   ]
  },
  {
   "cell_type": "code",
   "execution_count": 2,
   "id": "1713b2a7-ccb1-4dd2-8a1b-f3de36e72486",
   "metadata": {},
   "outputs": [],
   "source": [
    "# os.environ.get(\"ZHIPUAI_API_KEY\")"
   ]
  },
  {
   "cell_type": "markdown",
   "id": "c9235cf3-0b5d-4682-9e0f-f1e395d03ee7",
   "metadata": {},
   "source": [
    "# WritingProject"
   ]
  },
  {
   "cell_type": "markdown",
   "id": "a6df8963-5911-4c6c-9564-8c1b0eb30db2",
   "metadata": {},
   "source": [
    "## 使用 help 指令"
   ]
  },
  {
   "cell_type": "code",
   "execution_count": 3,
   "id": "3afebd33-0b49-4297-b197-190ef8c6d095",
   "metadata": {},
   "outputs": [
    {
     "name": "stdout",
     "output_type": "stream",
     "text": [
      "亲，首先确保你已经安装了Python环境和`textlong`包。以下是使用`textlong`包的基本步骤：\n",
      "\n",
      "1. 导入`WritingTask`模块。\n",
      "   ```python\n",
      "   from textlong import WritingTask\n",
      "   ```\n",
      "\n",
      "2. 创建一个`WritingTask`对象。\n",
      "   ```python\n",
      "   task = WritingTask()  # 使用默认的智谱AI\n",
      "   ```\n",
      "\n",
      "   或者，如果你想使用ChatGPT：\n",
      "   ```python\n",
      "   from langchain_openai import ChatOpenAI\n",
      "   task = WritingTask(llm=ChatOpenAI())\n",
      "   ```\n",
      "\n",
      "3. 使用`invoke`方法来执行特定的任务。\n",
      "   ```python\n",
      "   task.invoke(\"task 致孩子的一封信, 800字\")\n",
      "   task.invoke(\"ok\")\n",
      "   ```\n",
      "\n",
      "   如果你想自动生成和确认所有子任务，可以使用`auto_write`方法：\n",
      "   ```python\n",
      "   task.auto_write(\"task 致孩子的一封信, 800字\")\n",
      "   ```\n",
      "\n",
      "   如果你想更精细地控制生成过程，可以使用`repl_write`方法：\n",
      "   ```python\n",
      "   task.repl_write(\"task 致孩子的一封信, 800字\")\n",
      "   ```\n",
      "\n",
      "4. 在`repl_write`模式下，你可以输入不同的指令来控制写作过程，比如`ok`来确认内容，或者`task`来请求AI生成新的内容。\n",
      "\n",
      "请根据你的具体需求选择合适的方法来使用`textlong`包。如果有任何疑问，随时告诉我，我会耐心解答。\n"
     ]
    },
    {
     "data": {
      "text/plain": [
       "{'command': 'help',\n",
       " 'args': '我该如何使用？',\n",
       " 'reply': '亲，首先确保你已经安装了Python环境和`textlong`包。以下是使用`textlong`包的基本步骤：\\n\\n1. 导入`WritingTask`模块。\\n   ```python\\n   from textlong import WritingTask\\n   ```\\n\\n2. 创建一个`WritingTask`对象。\\n   ```python\\n   task = WritingTask()  # 使用默认的智谱AI\\n   ```\\n\\n   或者，如果你想使用ChatGPT：\\n   ```python\\n   from langchain_openai import ChatOpenAI\\n   task = WritingTask(llm=ChatOpenAI())\\n   ```\\n\\n3. 使用`invoke`方法来执行特定的任务。\\n   ```python\\n   task.invoke(\"task 致孩子的一封信, 800字\")\\n   task.invoke(\"ok\")\\n   ```\\n\\n   如果你想自动生成和确认所有子任务，可以使用`auto_write`方法：\\n   ```python\\n   task.auto_write(\"task 致孩子的一封信, 800字\")\\n   ```\\n\\n   如果你想更精细地控制生成过程，可以使用`repl_write`方法：\\n   ```python\\n   task.repl_write(\"task 致孩子的一封信, 800字\")\\n   ```\\n\\n4. 在`repl_write`模式下，你可以输入不同的指令来控制写作过程，比如`ok`来确认内容，或者`task`来请求AI生成新的内容。\\n\\n请根据你的具体需求选择合适的方法来使用`textlong`包。如果有任何疑问，随时告诉我，我会耐心解答。'}"
      ]
     },
     "execution_count": 3,
     "metadata": {},
     "output_type": "execute_result"
    }
   ],
   "source": [
    "from textlong.tree import WritingTask\n",
    "\n",
    "t = WritingTask(\"abc\")\n",
    "t.invoke(\"help 我该如何使用？\")"
   ]
  },
  {
   "cell_type": "code",
   "execution_count": null,
   "id": "8335d55f-f43b-4f90-9696-695920eaa005",
   "metadata": {},
   "outputs": [],
   "source": [
    "# 也可以省略 help\n",
    "t.invoke(\"我该如何使用？\")"
   ]
  },
  {
   "cell_type": "markdown",
   "id": "dc8003b8-6cf9-4988-8d79-cfa85aa9d08c",
   "metadata": {},
   "source": [
    "## 切换 LLM"
   ]
  },
  {
   "cell_type": "code",
   "execution_count": 4,
   "id": "25f8dc4a-7d86-47dd-8c8d-3bc3ae50e69e",
   "metadata": {},
   "outputs": [
    {
     "name": "stdout",
     "output_type": "stream",
     "text": [
      "亲，你可以按照以下步骤来使用`textlong`包。\n",
      "\n",
      "1. 首先，导入`WritingTask`模块：\n",
      "\n",
      "```python\n",
      "from textlong import WritingTask\n",
      "```\n",
      "\n",
      "2. 然后，创建一个`WritingTask`对象。你可以选择使用默认的智谱AI或者ChatGPT，例如：\n",
      "\n",
      "**使用默认的智谱AI:**\n",
      "\n",
      "```python\n",
      "task = WritingTask()\n",
      "```\n",
      "\n",
      "**使用ChatGPT:**\n",
      "\n",
      "```python\n",
      "from langchain_openai import ChatOpenAI\n",
      "\n",
      "task = WritingTask(llm=ChatOpenAI())\n",
      "```\n",
      "\n",
      "3. 接下来，你可以使用`invoke`方法来调用指令。例如，使用`task`指令让AI生成800字的信，并使用`ok`指令将生成的内容保存。\n",
      "\n",
      "```python\n",
      "task.invoke(\"task 致孩子的一封信, 800字\")\n",
      "task.invoke(\"ok\")\n",
      "```\n",
      "\n",
      "或者，你可以使用`auto_write`方法自动执行`ok`命令，直到全文创作完毕。\n",
      "\n",
      "```python\n",
      "task.auto_write(\"task 致孩子的一封信, 800字\")\n",
      "```\n",
      "\n",
      "4. 如果你希望精细控制，你可以使用`repl_write`方法。这将进入一个控制台循环，在循环中你可以输入不同的指令，如`ok`来保存生成的内容，或者修改扩写指南等。\n",
      "\n",
      "```python\n",
      "task.repl_write(\"task 致孩子的一封信, 800字\")\n",
      "```\n",
      "\n",
      "以上就是使用`textlong`包的基本步骤了。如果你需要更多的指令和功能，可以参考资料中的命令清单。如果有其他问题，随时告诉我哦！\n"
     ]
    },
    {
     "data": {
      "text/plain": [
       "{'command': 'help',\n",
       " 'args': '我该如何使用？',\n",
       " 'reply': '亲，你可以按照以下步骤来使用`textlong`包。\\n\\n1. 首先，导入`WritingTask`模块：\\n\\n```python\\nfrom textlong import WritingTask\\n```\\n\\n2. 然后，创建一个`WritingTask`对象。你可以选择使用默认的智谱AI或者ChatGPT，例如：\\n\\n**使用默认的智谱AI:**\\n\\n```python\\ntask = WritingTask()\\n```\\n\\n**使用ChatGPT:**\\n\\n```python\\nfrom langchain_openai import ChatOpenAI\\n\\ntask = WritingTask(llm=ChatOpenAI())\\n```\\n\\n3. 接下来，你可以使用`invoke`方法来调用指令。例如，使用`task`指令让AI生成800字的信，并使用`ok`指令将生成的内容保存。\\n\\n```python\\ntask.invoke(\"task 致孩子的一封信, 800字\")\\ntask.invoke(\"ok\")\\n```\\n\\n或者，你可以使用`auto_write`方法自动执行`ok`命令，直到全文创作完毕。\\n\\n```python\\ntask.auto_write(\"task 致孩子的一封信, 800字\")\\n```\\n\\n4. 如果你希望精细控制，你可以使用`repl_write`方法。这将进入一个控制台循环，在循环中你可以输入不同的指令，如`ok`来保存生成的内容，或者修改扩写指南等。\\n\\n```python\\ntask.repl_write(\"task 致孩子的一封信, 800字\")\\n```\\n\\n以上就是使用`textlong`包的基本步骤了。如果你需要更多的指令和功能，可以参考资料中的命令清单。如果有其他问题，随时告诉我哦！'}"
      ]
     },
     "execution_count": 4,
     "metadata": {},
     "output_type": "execute_result"
    }
   ],
   "source": [
    "from textlong.tree import WritingTask\n",
    "from langchain_openai import ChatOpenAI\n",
    "\n",
    "task = WritingTask(llm=ChatOpenAI())\n",
    "task.invoke(\"我该如何使用？\")"
   ]
  },
  {
   "cell_type": "markdown",
   "id": "1a559bde-0913-4601-9033-fdba9c265979",
   "metadata": {},
   "source": [
    "## 使用 invoke 方法"
   ]
  },
  {
   "cell_type": "code",
   "execution_count": 5,
   "id": "ae344e34-dd8c-4e14-bbff-916c8c575893",
   "metadata": {},
   "outputs": [
    {
     "name": "stdout",
     "output_type": "stream",
     "text": [
      "```json\n",
      "{\n",
      "    \"总字数要求\": 800,\n",
      "    \"标题名称\": \"给宝贝的成长寄语\",\n",
      "    \"扩写指南\": \"本文是一封父母给孩子的心里话，内容可以包括对孩子的关爱、期望、成长建议以及美好祝愿。信中可以提及孩子的兴趣、性格特点，以及家庭的一些温馨时刻。在撰写时，注意保持语言的亲切和真挚。\"\n",
      "}\n",
      "```\n"
     ]
    },
    {
     "data": {
      "text/plain": [
       "{'command': 'ok', 'args': None, 'reply': 'todo'}"
      ]
     },
     "execution_count": 5,
     "metadata": {},
     "output_type": "execute_result"
    }
   ],
   "source": [
    "from textlong.tree import WritingTask\n",
    "\n",
    "# 使用默认的智谱AI推理\n",
    "t = WritingTask()\n",
    "\n",
    "t.invoke(\"task 致孩子的一封信, 800字\")\n",
    "t.invoke(\"ok\")"
   ]
  },
  {
   "cell_type": "code",
   "execution_count": 6,
   "id": "2570151a-d3bf-494e-bace-5c54c22a701a",
   "metadata": {},
   "outputs": [
    {
     "data": {
      "text/plain": [
       "True"
      ]
     },
     "execution_count": 6,
     "metadata": {},
     "output_type": "execute_result"
    }
   ],
   "source": [
    "from textlong.tree import load_content, save_content\n",
    "t.tree.root._project_id\n",
    "save_content(t.tree.root)"
   ]
  },
  {
   "cell_type": "code",
   "execution_count": 7,
   "id": "b5d0b09f-c6f2-4549-bc48-1ab1e39224a3",
   "metadata": {},
   "outputs": [
    {
     "name": "stdout",
     "output_type": "stream",
     "text": [
      "```json\n",
      "{\n",
      "    \"大纲列表\": [\n",
      "        {\n",
      "            \"总字数要求\": 300,\n",
      "            \"标题名称\": \"爱的表白\",\n",
      "            \"扩写指南\": \"描述父母对孩子的深深的爱，以及孩子对父母生活的重要性。可以提及孩子的小名、昵称，以及一些温暖的亲子互动瞬间。\"\n",
      "        },\n",
      "        {\n",
      "            \"总字数要求\": 200,\n",
      "            \"标题名称\": \"个性赞美\",\n",
      "            \"扩写指南\": \"赞美孩子的性格特点、兴趣爱好，鼓励孩子保持自己的独特性和追求个人兴趣。\"\n",
      "        },\n",
      "        {\n",
      "            \"总字数要求\": 200,\n",
      "            \"标题名称\": \"成长期望\",\n",
      "            \"扩写指南\": \"表达对孩子未来的期望，包括学习、品德、生活态度等方面，同时强调父母会一直支持孩子的成长。\"\n",
      "        },\n",
      "        {\n",
      "            \"总字数要求\": 100,\n",
      "            \"标题名称\": \"美好祝愿\",\n",
      "            \"扩写指南\": \"以温馨的话语结束信件，表达对孩子未来的美好祝愿和无限的爱。\"\n",
      "        }\n",
      "    ]\n",
      "}\n",
      "```\n"
     ]
    },
    {
     "data": {
      "text/plain": [
       "{'command': 'ok',\n",
       " 'args': None,\n",
       " 'reply': {'大纲列表': [{'总字数要求': 300,\n",
       "    '标题名称': '爱的表白',\n",
       "    '扩写指南': '描述父母对孩子的深深的爱，以及孩子对父母生活的重要性。可以提及孩子的小名、昵称，以及一些温暖的亲子互动瞬间。'},\n",
       "   {'总字数要求': 200,\n",
       "    '标题名称': '个性赞美',\n",
       "    '扩写指南': '赞美孩子的性格特点、兴趣爱好，鼓励孩子保持自己的独特性和追求个人兴趣。'},\n",
       "   {'总字数要求': 200,\n",
       "    '标题名称': '成长期望',\n",
       "    '扩写指南': '表达对孩子未来的期望，包括学习、品德、生活态度等方面，同时强调父母会一直支持孩子的成长。'},\n",
       "   {'总字数要求': 100, '标题名称': '美好祝愿', '扩写指南': '以温馨的话语结束信件，表达对孩子未来的美好祝愿和无限的爱。'}]}}"
      ]
     },
     "execution_count": 7,
     "metadata": {},
     "output_type": "execute_result"
    }
   ],
   "source": [
    "t.invoke(\"ok\")"
   ]
  },
  {
   "cell_type": "code",
   "execution_count": 8,
   "id": "a745244d-df0b-4144-92ed-a83de1163755",
   "metadata": {},
   "outputs": [
    {
     "data": {
      "text/plain": [
       "{'command': 'ok', 'args': None, 'reply': 'done'}"
      ]
     },
     "execution_count": 8,
     "metadata": {},
     "output_type": "execute_result"
    }
   ],
   "source": [
    "t.invoke(\"ok\")"
   ]
  },
  {
   "cell_type": "code",
   "execution_count": null,
   "id": "6e884595-475a-4dda-9c20-fb1e471a25d5",
   "metadata": {},
   "outputs": [],
   "source": [
    "print(t.invoke(\"outlines\")['reply'])"
   ]
  },
  {
   "cell_type": "code",
   "execution_count": null,
   "id": "a4a4fd73-c38a-46b6-b0f9-95bdb2d8b00d",
   "metadata": {},
   "outputs": [],
   "source": [
    "print(t.invoke(\"texts\")['reply'])"
   ]
  },
  {
   "cell_type": "markdown",
   "id": "24c84c55-031d-49dc-8e64-d04c56723f59",
   "metadata": {},
   "source": [
    "## 使用 auto_write 方法"
   ]
  },
  {
   "cell_type": "code",
   "execution_count": 9,
   "id": "25637947-bd75-4933-aecf-963e8eab8318",
   "metadata": {},
   "outputs": [],
   "source": [
    "from textlong.tree import WritingTask\n",
    "from textlong.tree import load_content, save_content\n",
    "from textlong.hub import load_chat_prompt, save_chat_prompt"
   ]
  },
  {
   "cell_type": "code",
   "execution_count": 10,
   "id": "c8c963ee-1384-4333-8f7c-7671dc8d3b21",
   "metadata": {},
   "outputs": [],
   "source": [
    "# 使用默认的智谱AI推理\n",
    "t = WritingTask(\"abc\")"
   ]
  },
  {
   "cell_type": "code",
   "execution_count": 11,
   "id": "468cf6e0-af60-4725-8460-6c26a3c883bd",
   "metadata": {},
   "outputs": [
    {
     "name": "stdout",
     "output_type": "stream",
     "text": [
      "```json\n",
      "{\n",
      "    \"总字数要求\": 800,\n",
      "    \"标题名称\": \"致孩子的一封信：成长的寄语\",\n",
      "    \"扩写指南\": \"本文是一封父母给孩子写的信，信中应当包含父母对孩子的关爱、期望以及对其成长过程中的一些指导和建议。可以涉及生活中的小故事或亲身经历，以此激励孩子树立正确的价值观和人生观。信中出现的实体名称可包括家庭成员、孩子的好友、学校名称等，背景设定应围绕一个温馨和谐的家庭环境。\"\n",
      "}\n",
      "```\n",
      "```json\n",
      "{\n",
      "    \"大纲列表\": [\n",
      "        {\n",
      "            \"总字数要求\": 300,\n",
      "            \"标题名称\": \"温暖的回顾\",\n",
      "            \"扩写指南\": \"描述一些家庭温暖的瞬间，如孩子小时候的趣事，家庭成员间的亲情互动，以及孩子成长过程中的重要时刻。\"\n",
      "        },\n",
      "        {\n",
      "            \"总字数要求\": 200,\n",
      "            \"标题名称\": \"期望与鼓励\",\n",
      "            \"扩写指南\": \"表达父母对孩子的期望，鼓励孩子面对困难时要勇敢、坚强，以及培养良好的学习习惯和人际关系。\"\n",
      "        },\n",
      "        {\n",
      "            \"总字数要求\": 300,\n",
      "            \"标题名称\": \"智慧的指引\",\n",
      "            \"扩写指南\": \"分享父母的人生经验，给予孩子关于诚实、尊重、责任等方面的指导，以及如何在成长中做出明智的选择。\"\n",
      "        }\n",
      "    ]\n",
      "}\n",
      "```\n",
      "```json\n",
      "{\n",
      "  \"详细内容\": [\n",
      "    \"当你还是个蹒跚学步的小不点时，你那憨态可掬的样子总是让我们忍俊不禁。记得那次你在公园里追着肥皂泡跑，满脸的专注和惊喜，那一刻的快乐如此简单而纯粹。家中的每个角落都充满了这样的回忆：妈妈在厨房忙碌时，你总爱围在她身边‘帮忙’，而爸爸则陪你搭乐高直到深夜。这些日常小事，虽不起眼，却凝聚着我们的欢笑与爱。\",\n",
      "    \"随着你的成长，我们见证了你的每一次尝试和进步：从第一次骑自行车，到在学校的演讲比赛上勇敢地站在台前。这些重要时刻，不仅是你的成长里程碑，也是我们作为父母最宝贵的财富。\",\n",
      "    \"在未来的道路上，我们期望你能保持那份勇气和坚持，无论遇到什么困难，都要勇敢面对。记住，良好的学习习惯和健康的人际关系是成功的关键。我们相信，你有能力也有智慧去选择正确的道路，去实现你的梦想。\"\n",
      "  ],\n",
      "  \"内容摘要\": [\n",
      "    \"这封信回顾了孩子成长过程中的温暖瞬间，包括家庭亲情互动和重要成长时刻。父母对孩子表达了关爱和期望，鼓励孩子在面对困难时保持勇敢和坚强，强调了学习习惯和人际关系的重要性，并给予孩子智慧的指引。\"\n",
      "  ]\n",
      "}\n",
      "```\n",
      "```json\n",
      "{\n",
      "  \"详细内容\": [\n",
      "    \"我们希望你能坚持每天的学习，不仅仅是为了成绩，更是为了知识的积累和思维能力的提升。在学习中遇到的每一个难题，都是你成长的垫脚石。不要害怕失败，每一次失败都是向成功迈进的一步。同时，我们鼓励你与人为善，学会倾听和理解他人，这将帮助你建立起良好的人际关系，让人生的道路更加宽广。\",\n",
      "    \"在未来的日子里，你可能会遇到许多我们无法预料的挑战。我们希望你能记住，无论何时，家都是你坚强的后盾。我们相信你有足够的能力去克服困难，去追求你的梦想。勇敢地向前走吧，孩子，我们永远支持你。\"\n",
      "  ],\n",
      "  \"内容摘要\": [\n",
      "    \"父母在这部分信件中强调了面对困难时的勇气与坚强，以及良好学习习惯和人际关系的培养。他们鼓励孩子将挑战视为成长的机会，并提醒孩子家是他们永远的避风港。\"\n",
      "  ]\n",
      "}\n",
      "```\n",
      "```json\n",
      "{\n",
      "  \"详细内容\": [\n",
      "    \"最后，我们想与你分享一些关于人生的经验。诚实、尊重和责任，这些看似简单的词汇，却是构建美好人生的基石。在成长的道路上，你将面临许多选择，记得要选择那些能够让你夜夜安枕的决策。当你诚实面对自己和他人时，你会发现世界也会以诚相待；当你尊重他人，你也会赢得他人的尊重；而当你承担起责任，你将更加明白自己的价值和力量。\",\n",
      "    \"我们希望这些话语能够成为你成长中的智慧指引，帮助你在这复杂多变的世界中找到自己的方向。记住，无论你走到哪里，我们的爱和祝福永远伴随着你。\"\n",
      "  ],\n",
      "  \"内容摘要\": [\n",
      "    \"在这封信的最后一部分，父母分享了关于诚实、尊重、责任等方面的人生经验，并强调了在成长过程中做出明智选择的重要性。他们希望这些话语能够成为孩子的智慧指引，支持孩子在未来的人生旅途中做出正确的决策。\"\n",
      "  ]\n",
      "}\n",
      "```\n",
      "END\n"
     ]
    }
   ],
   "source": [
    "t2 = WritingTask()\n",
    "t2.auto_write(\"task 致孩子的一封信, 800字\")"
   ]
  },
  {
   "cell_type": "code",
   "execution_count": null,
   "id": "120fd913-36ed-46fe-b0ba-a2aa67d2babf",
   "metadata": {},
   "outputs": [],
   "source": [
    "save_content(t2)"
   ]
  },
  {
   "cell_type": "code",
   "execution_count": null,
   "id": "e3af85d5-cd2c-400c-a001-e2054dac5f25",
   "metadata": {},
   "outputs": [],
   "source": [
    "save_prompts(t)"
   ]
  },
  {
   "cell_type": "code",
   "execution_count": null,
   "id": "d80de8c9-f546-43a9-a56d-f4c68f88b942",
   "metadata": {},
   "outputs": [],
   "source": [
    "n = load_content(\"abc\")\n",
    "n.get_texts()"
   ]
  },
  {
   "cell_type": "code",
   "execution_count": null,
   "id": "d74e6955-c395-475f-bf14-4f2d88b57055",
   "metadata": {},
   "outputs": [],
   "source": [
    "t.tree"
   ]
  },
  {
   "cell_type": "code",
   "execution_count": 6,
   "id": "67b44963-a953-42b2-a3f9-097fc0974f09",
   "metadata": {},
   "outputs": [
    {
     "data": {
      "text/plain": [
       "{'command': 'outlines',\n",
       " 'args': None,\n",
       " 'reply': \"0 致孩子的一封信：成长的寄语 \\n  扩写指南 >>> 本文是一封父母给孩子写的信，信中应包含对孩子的关爱、成长的期望以及人生经验的分享。信中可以提及孩子的兴趣爱好、性格特点以及家庭的一些美好回忆。建议以温暖、鼓励的语气来表达，旨在传递父母对孩子的深情和对未来的美好祝愿。\\n  内容摘要 >>> \\n0.1 温暖的关爱 \\n  扩写指南 >>> 描述父母对孩子的深情关爱，提及孩子的小名、爱好以及日常生活中的点滴关心，营造出温馨的氛围。\\n  内容摘要 >>> [{'温暖的关爱': '父母对孩子的深情关爱，提及小名、爱好和日常关心。'}, {'成长的期望': '父母的期望包括品德、学业、兴趣爱好，强调自主选择和个性发展。'}, {'人生经验的分享': '父母分享人生经验，提供实用建议，强调家庭价值观的传承。'}]\\n0.2 成长的期望 \\n  扩写指南 >>> 表达父母对孩子成长的期望，包括品德修养、学业进步、兴趣爱好等方面的期许，同时强调孩子的自主选择和个性发展。\\n  内容摘要 >>> [{'内容续写摘要': '继续强调学业、品德、爱好三者的重要性，鼓励孩子保持个性，勇于探索和挑战。'}]\\n0.3 人生经验的分享 \\n  扩写指南 >>> 分享父母自己的人生经验，提出一些实用的建议和教训，帮助孩子更好地面对未来的挑战。可以穿插一些家庭美好回忆，强调家庭价值观的传承。\\n  内容摘要 >>> [{'内容续写摘要': '进一步强调面对失败的勇气，家庭美德的传承，以及回忆的珍贵，为孩子未来的成长提供精神支持。'}]\"}"
      ]
     },
     "execution_count": 6,
     "metadata": {},
     "output_type": "execute_result"
    }
   ],
   "source": [
    "t.invoke(\"outlines\")"
   ]
  },
  {
   "cell_type": "code",
   "execution_count": null,
   "id": "d7e0c171-a9f0-4cc6-a465-23005169c1d0",
   "metadata": {},
   "outputs": [],
   "source": [
    "load_content(\"abc\").get_outlines()"
   ]
  },
  {
   "cell_type": "markdown",
   "id": "8ef2ef85-5795-4c54-8215-e6347fa790b9",
   "metadata": {},
   "source": [
    "## 使用 repl_write 方法"
   ]
  },
  {
   "cell_type": "code",
   "execution_count": null,
   "id": "65201146",
   "metadata": {},
   "outputs": [],
   "source": [
    "from textlong.tree import WritingTask\n",
    "\n",
    "# 使用默认的智谱AI推理\n",
    "t = WritingTask()\n",
    "\n",
    "t.repl_write(\"task 致孩子的一封信, 800字\")"
   ]
  },
  {
   "cell_type": "code",
   "execution_count": null,
   "id": "4659ce57-fc8d-40b6-9726-3eada8bbe91b",
   "metadata": {},
   "outputs": [],
   "source": [
    "t.tree.root._children[1].last_ai_reply_json"
   ]
  },
  {
   "cell_type": "markdown",
   "id": "75c0adda-ace7-49ac-a0bc-48f36090bb93",
   "metadata": {},
   "source": [
    "## save_prompts"
   ]
  },
  {
   "cell_type": "code",
   "execution_count": null,
   "id": "8725e427-edca-49a7-8028-8fffcada0a16",
   "metadata": {},
   "outputs": [],
   "source": [
    "from textlong.hub import load_chat_prompt, save_chat_prompt"
   ]
  },
  {
   "cell_type": "code",
   "execution_count": null,
   "id": "172eceee-a0fc-4fd9-be01-57e680d860ab",
   "metadata": {},
   "outputs": [],
   "source": [
    "save_prompts(t.tree.root)"
   ]
  },
  {
   "cell_type": "code",
   "execution_count": null,
   "id": "e55cca1c-1d31-4df0-8801-2643dfa66186",
   "metadata": {},
   "outputs": [],
   "source": []
  }
 ],
 "metadata": {
  "kernelspec": {
   "display_name": "langchani-book-py3.10-ipykernel",
   "language": "python",
   "name": "langchani-book-py3.10-ipykernel"
  },
  "language_info": {
   "codemirror_mode": {
    "name": "ipython",
    "version": 3
   },
   "file_extension": ".py",
   "mimetype": "text/x-python",
   "name": "python",
   "nbconvert_exporter": "python",
   "pygments_lexer": "ipython3",
   "version": "3.10.0"
  }
 },
 "nbformat": 4,
 "nbformat_minor": 5
}
