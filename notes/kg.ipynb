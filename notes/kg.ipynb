{
 "cells": [
  {
   "cell_type": "markdown",
   "id": "b7077a8d-fefd-4539-a835-55bae7dc6d20",
   "metadata": {},
   "source": [
    "# 知识管理"
   ]
  },
  {
   "cell_type": "markdown",
   "id": "0563839e-2b54-4705-a99a-fe4bb74dc4d9",
   "metadata": {},
   "source": [
    "## State中的知识管理"
   ]
  },
  {
   "cell_type": "code",
   "execution_count": 1,
   "id": "736166c2-3d49-44a0-bd96-68b49735e7ee",
   "metadata": {},
   "outputs": [],
   "source": [
    "from textlong.llm import qwen, fake_llm\n",
    "from textlong.desk import Desk\n",
    "\n",
    "d = Desk(qwen)"
   ]
  },
  {
   "cell_type": "markdown",
   "id": "6e1e6b03-0451-42df-9246-79d448081baa",
   "metadata": {},
   "source": [
    "### 确保不会重复添加"
   ]
  },
  {
   "cell_type": "code",
   "execution_count": 2,
   "id": "8c9ed1f5-bef1-4f20-b998-bdedf3efb7eb",
   "metadata": {},
   "outputs": [],
   "source": [
    "d.state.add_knowledge(\"'textlong'是一个解决长文本生成的开源项目\")\n",
    "d.state.add_knowledge(\"'neverland'是一个AI项目，用于知识助理AI的管理\")\n",
    "d.state.add_knowledge(\"'普鸿'是一家做数字消防业务的公司\")"
   ]
  },
  {
   "cell_type": "code",
   "execution_count": 3,
   "id": "86a7c8c7-45f4-4f7a-bdea-ea9e54473266",
   "metadata": {},
   "outputs": [
    {
     "data": {
      "text/plain": [
       "{Knowledge(text='neverland'是一个AI项目，用于知识助理AI的管理),\n",
       " Knowledge(text='textlong'是一个解决长文本生成的开源项目),\n",
       " Knowledge(text='普鸿'是一家做数字消防业务的公司)}"
      ]
     },
     "execution_count": 3,
     "metadata": {},
     "output_type": "execute_result"
    }
   ],
   "source": [
    "d.state.knowledge"
   ]
  },
  {
   "cell_type": "markdown",
   "id": "c77b2f6d-5984-475a-ae8b-0e5cc744bee7",
   "metadata": {},
   "source": [
    "### 提取知识"
   ]
  },
  {
   "cell_type": "code",
   "execution_count": 4,
   "id": "e4b96fcb-acf7-43aa-819d-936259a986da",
   "metadata": {},
   "outputs": [
    {
     "data": {
      "text/plain": [
       "[\"'neverland'是一个AI项目，用于知识助理AI的管理\",\n",
       " \"'textlong'是一个解决长文本生成的开源项目\",\n",
       " \"'普鸿'是一家做数字消防业务的公司\"]"
      ]
     },
     "execution_count": 4,
     "metadata": {},
     "output_type": "execute_result"
    }
   ],
   "source": [
    "d.state.get_knowledge()"
   ]
  },
  {
   "cell_type": "code",
   "execution_count": 5,
   "id": "ed771288-5018-4ab2-82a3-2f8d59b5be88",
   "metadata": {},
   "outputs": [
    {
     "data": {
      "text/plain": [
       "State(output=<None>, data=<None>, knowledge=<'neverland'是一个AI项目，用于知识助理AI的管理; 'textlong'是一个解决长文本生成的开源项目; '普鸿'是一家做数字消防业务的公司>)"
      ]
     },
     "execution_count": 5,
     "metadata": {},
     "output_type": "execute_result"
    }
   ],
   "source": [
    "d.state"
   ]
  },
  {
   "cell_type": "markdown",
   "id": "f80acd33-8efd-4dbd-a018-a621aff451c0",
   "metadata": {},
   "source": [
    "## 多轮对话 + knowledge"
   ]
  },
  {
   "cell_type": "code",
   "execution_count": 9,
   "id": "47a5033e-d788-4547-95e9-5ddee279e9ce",
   "metadata": {},
   "outputs": [
    {
     "name": "stdout",
     "output_type": "stream",
     "text": [
      "\u001b[32m根据\u001b[0m\u001b[32m您\u001b[0m\u001b[32m提供\u001b[0m\u001b[32m的信息\u001b[0m\u001b[32m，\u001b[0m\u001b[32m\"\u001b[0m\u001b[32mtext\u001b[0m\u001b[32mlong\u001b[0m\u001b[32m\"\u001b[0m\u001b[32m是一个\u001b[0m\u001b[32m解决\u001b[0m\u001b[32m长\u001b[0m\u001b[32m文本\u001b[0m\u001b[32m生成的\u001b[0m\u001b[32m开源\u001b[0m\u001b[32m项目\u001b[0m\u001b[32m。\u001b[0m\u001b[32m这意味着\u001b[0m\u001b[32m它\u001b[0m\u001b[32m可能\u001b[0m\u001b[32m具有\u001b[0m\u001b[32m以下\u001b[0m\u001b[32m功能\u001b[0m\u001b[32m：\n",
      "\n",
      "1\u001b[0m\u001b[32m.\u001b[0m\u001b[32m **\u001b[0m\u001b[32m长\u001b[0m\u001b[32m文本\u001b[0m\u001b[32m生成\u001b[0m\u001b[32m**\u001b[0m\u001b[32m：\u001b[0m\u001b[32mtext\u001b[0m\u001b[32mlong\u001b[0m\u001b[32m的主要\u001b[0m\u001b[32m功能\u001b[0m\u001b[32m可能是\u001b[0m\u001b[32m生成\u001b[0m\u001b[32m较\u001b[0m\u001b[32m长的\u001b[0m\u001b[32m文本\u001b[0m\u001b[32m内容\u001b[0m\u001b[32m，\u001b[0m\u001b[32m比如\u001b[0m\u001b[32m文章\u001b[0m\u001b[32m、\u001b[0m\u001b[32m报告\u001b[0m\u001b[32m、\u001b[0m\u001b[32m故事\u001b[0m\u001b[32m等\u001b[0m\u001b[32m。\n",
      "\n",
      "2\u001b[0m\u001b[32m.\u001b[0m\u001b[32m **\u001b[0m\u001b[32m自然\u001b[0m\u001b[32m语言\u001b[0m\u001b[32m处理\u001b[0m\u001b[32m（\u001b[0m\u001b[32mN\u001b[0m\u001b[32mLP\u001b[0m\u001b[32m）\u001b[0m\u001b[32m**\u001b[0m\u001b[32m：\u001b[0m\u001b[32m为了\u001b[0m\u001b[32m生成\u001b[0m\u001b[32m长\u001b[0m\u001b[32m文本\u001b[0m\u001b[32m，\u001b[0m\u001b[32m该项目\u001b[0m\u001b[32m可能\u001b[0m\u001b[32m集\u001b[0m\u001b[32m成了\u001b[0m\u001b[32mN\u001b[0m\u001b[32mLP\u001b[0m\u001b[32m技术\u001b[0m\u001b[32m，\u001b[0m\u001b[32m能够\u001b[0m\u001b[32m理解\u001b[0m\u001b[32m、\u001b[0m\u001b[32m处理\u001b[0m\u001b[32m和\u001b[0m\u001b[32m生成\u001b[0m\u001b[32m自然\u001b[0m\u001b[32m语言\u001b[0m\u001b[32m。\n",
      "\n",
      "3\u001b[0m\u001b[32m.\u001b[0m\u001b[32m **\u001b[0m\u001b[32m自定义\u001b[0m\u001b[32m模板\u001b[0m\u001b[32m**\u001b[0m\u001b[32m：\u001b[0m\u001b[32m用户\u001b[0m\u001b[32m可能\u001b[0m\u001b[32m可以根据\u001b[0m\u001b[32m自己的\u001b[0m\u001b[32m需求\u001b[0m\u001b[32m自定义\u001b[0m\u001b[32m文本\u001b[0m\u001b[32m生成的\u001b[0m\u001b[32m模板\u001b[0m\u001b[32m，\u001b[0m\u001b[32m以便\u001b[0m\u001b[32m生成\u001b[0m\u001b[32m特定\u001b[0m\u001b[32m格式\u001b[0m\u001b[32m或\u001b[0m\u001b[32m风格的\u001b[0m\u001b[32m文本\u001b[0m\u001b[32m。\n",
      "\n",
      "4\u001b[0m\u001b[32m.\u001b[0m\u001b[32m **\u001b[0m\u001b[32m多\u001b[0m\u001b[32m语言\u001b[0m\u001b[32m支持\u001b[0m\u001b[32m**\u001b[0m\u001b[32m：\u001b[0m\u001b[32mtext\u001b[0m\u001b[32mlong\u001b[0m\u001b[32m可能\u001b[0m\u001b[32m支持\u001b[0m\u001b[32m多种\u001b[0m\u001b[32m语言\u001b[0m\u001b[32m，\u001b[0m\u001b[32m能够\u001b[0m\u001b[32m生成\u001b[0m\u001b[32m不同\u001b[0m\u001b[32m语言的\u001b[0m\u001b[32m文本\u001b[0m\u001b[32m内容\u001b[0m\u001b[32m。\n",
      "\n",
      "5\u001b[0m\u001b[32m.\u001b[0m\u001b[32m **\u001b[0m\u001b[32m可\u001b[0m\u001b[32m扩展\u001b[0m\u001b[32m性\u001b[0m\u001b[32m**\u001b[0m\u001b[32m：\u001b[0m\u001b[32m作为一个\u001b[0m\u001b[32m开源\u001b[0m\u001b[32m项目\u001b[0m\u001b[32m，\u001b[0m\u001b[32mtext\u001b[0m\u001b[32mlong\u001b[0m\u001b[32m可能\u001b[0m\u001b[32m具有\u001b[0m\u001b[32m较好的\u001b[0m\u001b[32m可\u001b[0m\u001b[32m扩展\u001b[0m\u001b[32m性\u001b[0m\u001b[32m，\u001b[0m\u001b[32m允许\u001b[0m\u001b[32m开发者\u001b[0m\u001b[32m根据\u001b[0m\u001b[32m需要\u001b[0m\u001b[32m添加\u001b[0m\u001b[32m新的\u001b[0m\u001b[32m功能\u001b[0m\u001b[32m或\u001b[0m\u001b[32m集成\u001b[0m\u001b[32m其他\u001b[0m\u001b[32m工具\u001b[0m\u001b[32m。\n",
      "\n",
      "6\u001b[0m\u001b[32m.\u001b[0m\u001b[32m **\u001b[0m\u001b[32m应用\u001b[0m\u001b[32m场景\u001b[0m\u001b[32m广泛\u001b[0m\u001b[32m**\u001b[0m\u001b[32m：\u001b[0m\u001b[32m由于\u001b[0m\u001b[32m它可以\u001b[0m\u001b[32m生成\u001b[0m\u001b[32m长\u001b[0m\u001b[32m文本\u001b[0m\u001b[32m，\u001b[0m\u001b[32mtext\u001b[0m\u001b[32mlong\u001b[0m\u001b[32m可能\u001b[0m\u001b[32m适用于\u001b[0m\u001b[32m多种\u001b[0m\u001b[32m场景\u001b[0m\u001b[32m，\u001b[0m\u001b[32m如\u001b[0m\u001b[32m内容\u001b[0m\u001b[32m创作\u001b[0m\u001b[32m、\u001b[0m\u001b[32m机器\u001b[0m\u001b[32m翻译\u001b[0m\u001b[32m、\u001b[0m\u001b[32m文本\u001b[0m\u001b[32m摘要\u001b[0m\u001b[32m、\u001b[0m\u001b[32m问答\u001b[0m\u001b[32m系统\u001b[0m\u001b[32m等\u001b[0m\u001b[32m。\n",
      "\n",
      "具体\u001b[0m\u001b[32m来说\u001b[0m\u001b[32m，\u001b[0m\u001b[32mtext\u001b[0m\u001b[32mlong\u001b[0m\u001b[32m能\u001b[0m\u001b[32m做什么\u001b[0m\u001b[32m取决于\u001b[0m\u001b[32m其\u001b[0m\u001b[32m具体\u001b[0m\u001b[32m实现\u001b[0m\u001b[32m和\u001b[0m\u001b[32m设计\u001b[0m\u001b[32m。\u001b[0m\u001b[32m如果您\u001b[0m\u001b[32m想\u001b[0m\u001b[32m了解更多\u001b[0m\u001b[32m关于\u001b[0m\u001b[32mtext\u001b[0m\u001b[32mlong\u001b[0m\u001b[32m的\u001b[0m\u001b[32m详细信息\u001b[0m\u001b[32m，\u001b[0m\u001b[32m可以\u001b[0m\u001b[32m查看\u001b[0m\u001b[32m其\u001b[0m\u001b[32m官方\u001b[0m\u001b[32m文档\u001b[0m\u001b[32m或\u001b[0m\u001b[32m源\u001b[0m\u001b[32m代码\u001b[0m\u001b[32m。\u001b[0m\n",
      "\n"
     ]
    },
    {
     "data": {
      "text/plain": [
       "[{'role': 'user', 'content': \"已知：'neverland'是一个AI项目，用于知识助理AI的管理\"},\n",
       " {'role': 'assistant', 'content': 'OK, 我将利用这个知识回答后面问题。'},\n",
       " {'role': 'user', 'content': \"已知：'textlong'是一个解决长文本生成的开源项目\"},\n",
       " {'role': 'assistant', 'content': 'OK, 我将利用这个知识回答后面问题。'},\n",
       " {'role': 'user', 'content': \"已知：'普鸿'是一家做数字消防业务的公司\"},\n",
       " {'role': 'assistant', 'content': 'OK, 我将利用这个知识回答后面问题。'},\n",
       " {'role': 'user', 'content': 'textlong能干啥？'},\n",
       " {'role': 'assistant',\n",
       "  'content': '根据您提供的信息，\"textlong\"是一个解决长文本生成的开源项目。这意味着它可能具有以下功能：\\n\\n1. **长文本生成**：textlong的主要功能可能是生成较长的文本内容，比如文章、报告、故事等。\\n\\n2. **自然语言处理（NLP）**：为了生成长文本，该项目可能集成了NLP技术，能够理解、处理和生成自然语言。\\n\\n3. **自定义模板**：用户可能可以根据自己的需求自定义文本生成的模板，以便生成特定格式或风格的文本。\\n\\n4. **多语言支持**：textlong可能支持多种语言，能够生成不同语言的文本内容。\\n\\n5. **可扩展性**：作为一个开源项目，textlong可能具有较好的可扩展性，允许开发者根据需要添加新的功能或集成其他工具。\\n\\n6. **应用场景广泛**：由于它可以生成长文本，textlong可能适用于多种场景，如内容创作、机器翻译、文本摘要、问答系统等。\\n\\n具体来说，textlong能做什么取决于其具体实现和设计。如果您想了解更多关于textlong的详细信息，可以查看其官方文档或源代码。'}]"
      ]
     },
     "execution_count": 9,
     "metadata": {},
     "output_type": "execute_result"
    }
   ],
   "source": [
    "from textlong.llm import fake_llm, zhipu, qwen\n",
    "from textlong.desk import Desk\n",
    "\n",
    "d = Desk(zhipu)\n",
    "d.add_knowledge(\"'textlong'是一个解决长文本生成的开源项目\")\n",
    "d.add_knowledge(\"'neverland'是一个AI项目，用于知识助理AI的管理\")\n",
    "d.add_knowledge(\"'普鸿'是一家做数字消防业务的公司\")\n",
    "\n",
    "d.chat(\"textlong能干啥？\", llm=zhipu, new_chat=True, k=1)"
   ]
  },
  {
   "cell_type": "code",
   "execution_count": 10,
   "id": "ea814ed0-1184-472a-8ccf-70a9321ea6f3",
   "metadata": {},
   "outputs": [
    {
     "name": "stdout",
     "output_type": "stream",
     "text": [
      "\u001b[32m根据\u001b[0m\u001b[32m已知\u001b[0m\u001b[32m信息\u001b[0m\u001b[32m，\u001b[0m\u001b[32m普\u001b[0m\u001b[32m鸿\u001b[0m\u001b[32m是一家\u001b[0m\u001b[32m专注于\u001b[0m\u001b[32m数字\u001b[0m\u001b[32m消防\u001b[0m\u001b[32m业务\u001b[0m\u001b[32m的公司\u001b[0m\u001b[32m。\u001b[0m\u001b[32m这意味着\u001b[0m\u001b[32m普\u001b[0m\u001b[32m鸿\u001b[0m\u001b[32m的主要\u001b[0m\u001b[32m业务\u001b[0m\u001b[32m领域\u001b[0m\u001b[32m可能\u001b[0m\u001b[32m包括\u001b[0m\u001b[32m以下\u001b[0m\u001b[32m方面\u001b[0m\u001b[32m：\n",
      "\n",
      "1\u001b[0m\u001b[32m.\u001b[0m\u001b[32m **\u001b[0m\u001b[32m消防\u001b[0m\u001b[32m系统\u001b[0m\u001b[32m设计\u001b[0m\u001b[32m**\u001b[0m\u001b[32m：\u001b[0m\u001b[32m提供\u001b[0m\u001b[32m消防\u001b[0m\u001b[32m系统的\u001b[0m\u001b[32m设计\u001b[0m\u001b[32m服务\u001b[0m\u001b[32m，\u001b[0m\u001b[32m这可能\u001b[0m\u001b[32m包括\u001b[0m\u001b[32m消防\u001b[0m\u001b[32m报警\u001b[0m\u001b[32m系统\u001b[0m\u001b[32m、\u001b[0m\u001b[32m自动\u001b[0m\u001b[32m喷\u001b[0m\u001b[32m水\u001b[0m\u001b[32m灭火\u001b[0m\u001b[32m系统\u001b[0m\u001b[32m、\u001b[0m\u001b[32m气体\u001b[0m\u001b[32m灭火\u001b[0m\u001b[32m系统\u001b[0m\u001b[32m等\u001b[0m\u001b[32m。\n",
      "\n",
      "2\u001b[0m\u001b[32m.\u001b[0m\u001b[32m **\u001b[0m\u001b[32m消防\u001b[0m\u001b[32m产品\u001b[0m\u001b[32m销售\u001b[0m\u001b[32m**\u001b[0m\u001b[32m：\u001b[0m\u001b[32m销售\u001b[0m\u001b[32m与\u001b[0m\u001b[32m消防\u001b[0m\u001b[32m相关的\u001b[0m\u001b[32m设备和\u001b[0m\u001b[32m产品\u001b[0m\u001b[32m，\u001b[0m\u001b[32m如\u001b[0m\u001b[32m消防\u001b[0m\u001b[32m器材\u001b[0m\u001b[32m、\u001b[0m\u001b[32m消防\u001b[0m\u001b[32m服装\u001b[0m\u001b[32m、\u001b[0m\u001b[32m消防\u001b[0m\u001b[32m车辆\u001b[0m\u001b[32m等\u001b[0m\u001b[32m。\n",
      "\n",
      "3\u001b[0m\u001b[32m.\u001b[0m\u001b[32m **\u001b[0m\u001b[32m消防\u001b[0m\u001b[32m系统集成\u001b[0m\u001b[32m**\u001b[0m\u001b[32m：\u001b[0m\u001b[32m提供\u001b[0m\u001b[32m消防\u001b[0m\u001b[32m系统的\u001b[0m\u001b[32m集成\u001b[0m\u001b[32m服务\u001b[0m\u001b[32m，\u001b[0m\u001b[32m将\u001b[0m\u001b[32m不同的\u001b[0m\u001b[32m消防\u001b[0m\u001b[32m设备\u001b[0m\u001b[32m和技术\u001b[0m\u001b[32m整合\u001b[0m\u001b[32m在一起\u001b[0m\u001b[32m，\u001b[0m\u001b[32m形成一个\u001b[0m\u001b[32m完整的\u001b[0m\u001b[32m消防\u001b[0m\u001b[32m解决方案\u001b[0m\u001b[32m。\n",
      "\n",
      "4\u001b[0m\u001b[32m.\u001b[0m\u001b[32m **\u001b[0m\u001b[32m消防\u001b[0m\u001b[32m咨询\u001b[0m\u001b[32m与服务\u001b[0m\u001b[32m**\u001b[0m\u001b[32m：\u001b[0m\u001b[32m提供\u001b[0m\u001b[32m消防\u001b[0m\u001b[32m咨询\u001b[0m\u001b[32m，\u001b[0m\u001b[32m包括\u001b[0m\u001b[32m消防\u001b[0m\u001b[32m风险评估\u001b[0m\u001b[32m、\u001b[0m\u001b[32m消防\u001b[0m\u001b[32m设施\u001b[0m\u001b[32m维护\u001b[0m\u001b[32m、\u001b[0m\u001b[32m消防安全\u001b[0m\u001b[32m培训\u001b[0m\u001b[32m等\u001b[0m\u001b[32m。\n",
      "\n",
      "5\u001b[0m\u001b[32m.\u001b[0m\u001b[32m **\u001b[0m\u001b[32m数字化\u001b[0m\u001b[32m解决方案\u001b[0m\u001b[32m**\u001b[0m\u001b[32m：\u001b[0m\u001b[32m利用\u001b[0m\u001b[32m数字化\u001b[0m\u001b[32m技术\u001b[0m\u001b[32m，\u001b[0m\u001b[32m如\u001b[0m\u001b[32m物联网\u001b[0m\u001b[32m、\u001b[0m\u001b[32m大数据\u001b[0m\u001b[32m、\u001b[0m\u001b[32m云计算\u001b[0m\u001b[32m等\u001b[0m\u001b[32m，\u001b[0m\u001b[32m提供\u001b[0m\u001b[32m智能\u001b[0m\u001b[32m消防\u001b[0m\u001b[32m解决方案\u001b[0m\u001b[32m，\u001b[0m\u001b[32m提升\u001b[0m\u001b[32m消防\u001b[0m\u001b[32m管理的\u001b[0m\u001b[32m效率和\u001b[0m\u001b[32m安全性\u001b[0m\u001b[32m。\n",
      "\n",
      "普\u001b[0m\u001b[32m鸿\u001b[0m\u001b[32m通过\u001b[0m\u001b[32m这些\u001b[0m\u001b[32m服务\u001b[0m\u001b[32m，\u001b[0m\u001b[32m旨在\u001b[0m\u001b[32m帮助\u001b[0m\u001b[32m客户\u001b[0m\u001b[32m提高\u001b[0m\u001b[32m消防\u001b[0m\u001b[32m管理水平\u001b[0m\u001b[32m，\u001b[0m\u001b[32m保障\u001b[0m\u001b[32m人员和\u001b[0m\u001b[32m财产安全\u001b[0m\u001b[32m。\u001b[0m\n",
      "\n"
     ]
    },
    {
     "data": {
      "text/plain": [
       "[{'role': 'user', 'content': 'textlong能干啥？'},\n",
       " {'role': 'assistant',\n",
       "  'content': '根据您提供的信息，\"textlong\"是一个解决长文本生成的开源项目。这意味着它可能具有以下功能：\\n\\n1. **长文本生成**：textlong的主要功能可能是生成较长的文本内容，比如文章、报告、故事等。\\n\\n2. **自然语言处理（NLP）**：为了生成长文本，该项目可能集成了NLP技术，能够理解、处理和生成自然语言。\\n\\n3. **自定义模板**：用户可能可以根据自己的需求自定义文本生成的模板，以便生成特定格式或风格的文本。\\n\\n4. **多语言支持**：textlong可能支持多种语言，能够生成不同语言的文本内容。\\n\\n5. **可扩展性**：作为一个开源项目，textlong可能具有较好的可扩展性，允许开发者根据需要添加新的功能或集成其他工具。\\n\\n6. **应用场景广泛**：由于它可以生成长文本，textlong可能适用于多种场景，如内容创作、机器翻译、文本摘要、问答系统等。\\n\\n具体来说，textlong能做什么取决于其具体实现和设计。如果您想了解更多关于textlong的详细信息，可以查看其官方文档或源代码。'},\n",
       " {'role': 'user', 'content': \"已知：'neverland'是一个AI项目，用于知识助理AI的管理\"},\n",
       " {'role': 'assistant', 'content': 'OK, 我将利用这个知识回答后面问题。'},\n",
       " {'role': 'user', 'content': \"已知：'textlong'是一个解决长文本生成的开源项目\"},\n",
       " {'role': 'assistant', 'content': 'OK, 我将利用这个知识回答后面问题。'},\n",
       " {'role': 'user', 'content': \"已知：'普鸿'是一家做数字消防业务的公司\"},\n",
       " {'role': 'assistant', 'content': 'OK, 我将利用这个知识回答后面问题。'},\n",
       " {'role': 'user', 'content': '普鸿做什么的？'},\n",
       " {'role': 'assistant',\n",
       "  'content': '根据已知信息，普鸿是一家专注于数字消防业务的公司。这意味着普鸿的主要业务领域可能包括以下方面：\\n\\n1. **消防系统设计**：提供消防系统的设计服务，这可能包括消防报警系统、自动喷水灭火系统、气体灭火系统等。\\n\\n2. **消防产品销售**：销售与消防相关的设备和产品，如消防器材、消防服装、消防车辆等。\\n\\n3. **消防系统集成**：提供消防系统的集成服务，将不同的消防设备和技术整合在一起，形成一个完整的消防解决方案。\\n\\n4. **消防咨询与服务**：提供消防咨询，包括消防风险评估、消防设施维护、消防安全培训等。\\n\\n5. **数字化解决方案**：利用数字化技术，如物联网、大数据、云计算等，提供智能消防解决方案，提升消防管理的效率和安全性。\\n\\n普鸿通过这些服务，旨在帮助客户提高消防管理水平，保障人员和财产安全。'}]"
      ]
     },
     "execution_count": 10,
     "metadata": {},
     "output_type": "execute_result"
    }
   ],
   "source": [
    "d.chat(\"普鸿做什么的？\", llm=zhipu, k=1)"
   ]
  },
  {
   "cell_type": "code",
   "execution_count": 11,
   "id": "76cc524a-64d1-482c-8af0-a1a78997ecb2",
   "metadata": {},
   "outputs": [
    {
     "data": {
      "text/plain": [
       "[{'role': 'user', 'content': \"已知：'neverland'是一个AI项目，用于知识助理AI的管理\"},\n",
       " {'role': 'assistant', 'content': 'OK, 我将利用这个知识回答后面问题。'},\n",
       " {'role': 'user', 'content': \"已知：'textlong'是一个解决长文本生成的开源项目\"},\n",
       " {'role': 'assistant', 'content': 'OK, 我将利用这个知识回答后面问题。'},\n",
       " {'role': 'user', 'content': \"已知：'普鸿'是一家做数字消防业务的公司\"},\n",
       " {'role': 'assistant', 'content': 'OK, 我将利用这个知识回答后面问题。'},\n",
       " {'role': 'user', 'content': 'textlong能干啥？'},\n",
       " {'role': 'assistant',\n",
       "  'content': '根据您提供的信息，\"textlong\"是一个解决长文本生成的开源项目。这意味着它可能具有以下功能：\\n\\n1. **长文本生成**：textlong的主要功能可能是生成较长的文本内容，比如文章、报告、故事等。\\n\\n2. **自然语言处理（NLP）**：为了生成长文本，该项目可能集成了NLP技术，能够理解、处理和生成自然语言。\\n\\n3. **自定义模板**：用户可能可以根据自己的需求自定义文本生成的模板，以便生成特定格式或风格的文本。\\n\\n4. **多语言支持**：textlong可能支持多种语言，能够生成不同语言的文本内容。\\n\\n5. **可扩展性**：作为一个开源项目，textlong可能具有较好的可扩展性，允许开发者根据需要添加新的功能或集成其他工具。\\n\\n6. **应用场景广泛**：由于它可以生成长文本，textlong可能适用于多种场景，如内容创作、机器翻译、文本摘要、问答系统等。\\n\\n具体来说，textlong能做什么取决于其具体实现和设计。如果您想了解更多关于textlong的详细信息，可以查看其官方文档或源代码。'},\n",
       " {'role': 'user', 'content': '普鸿做什么的？'},\n",
       " {'role': 'assistant',\n",
       "  'content': '根据已知信息，普鸿是一家专注于数字消防业务的公司。这意味着普鸿的主要业务领域可能包括以下方面：\\n\\n1. **消防系统设计**：提供消防系统的设计服务，这可能包括消防报警系统、自动喷水灭火系统、气体灭火系统等。\\n\\n2. **消防产品销售**：销售与消防相关的设备和产品，如消防器材、消防服装、消防车辆等。\\n\\n3. **消防系统集成**：提供消防系统的集成服务，将不同的消防设备和技术整合在一起，形成一个完整的消防解决方案。\\n\\n4. **消防咨询与服务**：提供消防咨询，包括消防风险评估、消防设施维护、消防安全培训等。\\n\\n5. **数字化解决方案**：利用数字化技术，如物联网、大数据、云计算等，提供智能消防解决方案，提升消防管理的效率和安全性。\\n\\n普鸿通过这些服务，旨在帮助客户提高消防管理水平，保障人员和财产安全。'}]"
      ]
     },
     "execution_count": 11,
     "metadata": {},
     "output_type": "execute_result"
    }
   ],
   "source": [
    "d.state.messages"
   ]
  },
  {
   "cell_type": "code",
   "execution_count": 12,
   "id": "a9f62aa3-fc89-468c-8571-c691257fe790",
   "metadata": {},
   "outputs": [
    {
     "data": {
      "text/plain": [
       "[\"'neverland'是一个AI项目，用于知识助理AI的管理\",\n",
       " \"'textlong'是一个解决长文本生成的开源项目\",\n",
       " \"'普鸿'是一家做数字消防业务的公司\"]"
      ]
     },
     "execution_count": 12,
     "metadata": {},
     "output_type": "execute_result"
    }
   ],
   "source": [
    "d.state.get_knowledge()"
   ]
  },
  {
   "cell_type": "markdown",
   "id": "8d1de6e7-ad69-4242-a02e-15b854ccd24f",
   "metadata": {},
   "source": [
    "## 单轮写作 + knowledge"
   ]
  },
  {
   "cell_type": "code",
   "execution_count": 1,
   "id": "dc1e199e-2dd2-47e0-8405-89f0487326ac",
   "metadata": {},
   "outputs": [
    {
     "name": "stdout",
     "output_type": "stream",
     "text": [
      "\u001b[32mtext\u001b[0m\u001b[32mlong\u001b[0m\u001b[32m能\u001b[0m\u001b[32m干\u001b[0m\u001b[32m啥\u001b[0m\u001b[32m？\n",
      "#\u001b[0m\u001b[32m text\u001b[0m\u001b[32mlong\u001b[0m\u001b[32m 功能\u001b[0m\u001b[32m概述\u001b[0m\u001b[32m\n",
      "-\u001b[0m\u001b[32m **\u001b[0m\u001b[32m长\u001b[0m\u001b[32m文本\u001b[0m\u001b[32m生成\u001b[0m\u001b[32m**\u001b[0m\u001b[32m：\u001b[0m\u001b[32mtext\u001b[0m\u001b[32mlong\u001b[0m\u001b[32m 是\u001b[0m\u001b[32m一个\u001b[0m\u001b[32m专门\u001b[0m\u001b[32m设计\u001b[0m\u001b[32m用于\u001b[0m\u001b[32m生成\u001b[0m\u001b[32m长\u001b[0m\u001b[32m文本\u001b[0m\u001b[32m的开\u001b[0m\u001b[32m源\u001b[0m\u001b[32m项目\u001b[0m\u001b[32m，\u001b[0m\u001b[32m适用于\u001b[0m\u001b[32m需要\u001b[0m\u001b[32m大量\u001b[0m\u001b[32m文本\u001b[0m\u001b[32m生成的\u001b[0m\u001b[32m场景\u001b[0m\u001b[32m。\n",
      "-\u001b[0m\u001b[32m **\u001b[0m\u001b[32m开源\u001b[0m\u001b[32m可用\u001b[0m\u001b[32m**\u001b[0m\u001b[32m：\u001b[0m\u001b[32m该项目\u001b[0m\u001b[32m是\u001b[0m\u001b[32m开源\u001b[0m\u001b[32m的\u001b[0m\u001b[32m，\u001b[0m\u001b[32m用户\u001b[0m\u001b[32m可以根据\u001b[0m\u001b[32m自己的\u001b[0m\u001b[32m需求\u001b[0m\u001b[32m进行\u001b[0m\u001b[32m修改\u001b[0m\u001b[32m和\u001b[0m\u001b[32m扩展\u001b[0m\u001b[32m。\n",
      "-\u001b[0m\u001b[32m **\u001b[0m\u001b[32m多种\u001b[0m\u001b[32m应用\u001b[0m\u001b[32m场景\u001b[0m\u001b[32m**\u001b[0m\u001b[32m：\u001b[0m\u001b[32m适用于\u001b[0m\u001b[32m小说\u001b[0m\u001b[32m创作\u001b[0m\u001b[32m、\u001b[0m\u001b[32m报告\u001b[0m\u001b[32m撰写\u001b[0m\u001b[32m、\u001b[0m\u001b[32m内容\u001b[0m\u001b[32m生成\u001b[0m\u001b[32m等多种\u001b[0m\u001b[32m长\u001b[0m\u001b[32m文本\u001b[0m\u001b[32m创作\u001b[0m\u001b[32m需求\u001b[0m\u001b[32m。\n",
      "-\u001b[0m\u001b[32m **\u001b[0m\u001b[32m易于\u001b[0m\u001b[32m集成\u001b[0m\u001b[32m**\u001b[0m\u001b[32m：\u001b[0m\u001b[32m支持\u001b[0m\u001b[32m与其他\u001b[0m\u001b[32m系统和\u001b[0m\u001b[32m工具\u001b[0m\u001b[32m的\u001b[0m\u001b[32m集成\u001b[0m\u001b[32m，\u001b[0m\u001b[32m方便\u001b[0m\u001b[32m用户\u001b[0m\u001b[32m在\u001b[0m\u001b[32m现有\u001b[0m\u001b[32m工作\u001b[0m\u001b[32m流程\u001b[0m\u001b[32m中\u001b[0m\u001b[32m添加\u001b[0m\u001b[32m文本\u001b[0m\u001b[32m生成\u001b[0m\u001b[32m功能\u001b[0m\u001b[32m。\n",
      "-\u001b[0m\u001b[32m **\u001b[0m\u001b[32m社区\u001b[0m\u001b[32m支持\u001b[0m\u001b[32m**\u001b[0m\u001b[32m：\u001b[0m\u001b[32m拥有\u001b[0m\u001b[32m活跃\u001b[0m\u001b[32m的\u001b[0m\u001b[32m社区\u001b[0m\u001b[32m，\u001b[0m\u001b[32m提供\u001b[0m\u001b[32m技术\u001b[0m\u001b[32m支持和\u001b[0m\u001b[32m交流\u001b[0m\u001b[32m平台\u001b[0m\u001b[32m。\n",
      "-\u001b[0m\u001b[32m **\u001b[0m\u001b[32m可\u001b[0m\u001b[32m扩展\u001b[0m\u001b[32m性\u001b[0m\u001b[32m**\u001b[0m\u001b[32m：\u001b[0m\u001b[32m具有良好的\u001b[0m\u001b[32m可\u001b[0m\u001b[32m扩展\u001b[0m\u001b[32m性\u001b[0m\u001b[32m，\u001b[0m\u001b[32m可以通过\u001b[0m\u001b[32m添加\u001b[0m\u001b[32m新的\u001b[0m\u001b[32m模型\u001b[0m\u001b[32m或\u001b[0m\u001b[32m算法\u001b[0m\u001b[32m来\u001b[0m\u001b[32m提升\u001b[0m\u001b[32m生成\u001b[0m\u001b[32m效果\u001b[0m\u001b[32m。\u001b[0m\n",
      "\n"
     ]
    },
    {
     "data": {
      "text/plain": [
       "[{'role': 'system',\n",
       "  'content': '你是强大的写作助手。\\n\\n你必须遵循以下约束来完成任务:\\n1. 直接输出你的结果，不要评论，不要啰嗦\\n2. 使用markdown格式输出\\n**你的任务是:**\\ntextlong能干啥？\\n'},\n",
       " {'role': 'user', 'content': \"已知：'neverland'是一个AI项目，用于知识助理AI的管理\"},\n",
       " {'role': 'assistant', 'content': 'OK, 我将利用这个知识回答后面问题。'},\n",
       " {'role': 'user', 'content': \"已知：'普鸿'是一家做数字消防业务的公司\"},\n",
       " {'role': 'assistant', 'content': 'OK, 我将利用这个知识回答后面问题。'},\n",
       " {'role': 'user', 'content': \"已知：'textlong'是一个解决长文本生成的开源项目\"},\n",
       " {'role': 'assistant', 'content': 'OK, 我将利用这个知识回答后面问题。'},\n",
       " {'role': 'user', 'content': '请开始'},\n",
       " {'role': 'assistant',\n",
       "  'content': 'textlong能干啥？\\n# textlong 功能概述\\n- **长文本生成**：textlong 是一个专门设计用于生成长文本的开源项目，适用于需要大量文本生成的场景。\\n- **开源可用**：该项目是开源的，用户可以根据自己的需求进行修改和扩展。\\n- **多种应用场景**：适用于小说创作、报告撰写、内容生成等多种长文本创作需求。\\n- **易于集成**：支持与其他系统和工具的集成，方便用户在现有工作流程中添加文本生成功能。\\n- **社区支持**：拥有活跃的社区，提供技术支持和交流平台。\\n- **可扩展性**：具有良好的可扩展性，可以通过添加新的模型或算法来提升生成效果。'}]"
      ]
     },
     "execution_count": 1,
     "metadata": {},
     "output_type": "execute_result"
    }
   ],
   "source": [
    "from textlong.llm import fake_llm, zhipu, qwen\n",
    "from textlong.desk import Desk\n",
    "\n",
    "d = Desk(zhipu)\n",
    "d.add_knowledge(\"'textlong'是一个解决长文本生成的开源项目\")\n",
    "d.add_knowledge(\"'neverland'是一个AI项目，用于知识助理AI的管理\")\n",
    "d.add_knowledge(\"'普鸿'是一家做数字消防业务的公司\")\n",
    "\n",
    "d.write(\"textlong能干啥？\", llm=zhipu, template=\"IDEA\")"
   ]
  },
  {
   "cell_type": "code",
   "execution_count": 7,
   "id": "143ed017-f2fd-488d-abea-88fdff8b15a8",
   "metadata": {},
   "outputs": [
    {
     "data": {
      "text/plain": [
       "9"
      ]
     },
     "execution_count": 7,
     "metadata": {},
     "output_type": "execute_result"
    }
   ],
   "source": [
    "# 实际上，write 函数已经通过 reserved_k 设定了应当保留的对话内容，不会被后续其他对话淹没\n",
    "d.state.reserved_k"
   ]
  },
  {
   "cell_type": "code",
   "execution_count": 3,
   "id": "5f3a8bd0-6648-4571-8d6a-27a41b747c9c",
   "metadata": {},
   "outputs": [
    {
     "name": "stdout",
     "output_type": "stream",
     "text": [
      "\u001b[32m普\u001b[0m\u001b[32m鸿\u001b[0m\u001b[32m是一家\u001b[0m\u001b[32m专注于\u001b[0m\u001b[32m数字\u001b[0m\u001b[32m消防\u001b[0m\u001b[32m业务\u001b[0m\u001b[32m的公司\u001b[0m\u001b[32m，\u001b[0m\u001b[32m提供\u001b[0m\u001b[32m相关\u001b[0m\u001b[32m解决方案\u001b[0m\u001b[32m和服务\u001b[0m\u001b[32m。\u001b[0m\n",
      "\n"
     ]
    },
    {
     "data": {
      "text/plain": [
       "[{'role': 'system',\n",
       "  'content': '你是强大的写作助手。\\n\\n你必须遵循以下约束来完成任务:\\n1. 直接输出你的结果，不要评论，不要啰嗦\\n2. 使用markdown格式输出\\n**你的任务是:**\\ntextlong能干啥？\\n'},\n",
       " {'role': 'user', 'content': \"已知：'neverland'是一个AI项目，用于知识助理AI的管理\"},\n",
       " {'role': 'assistant', 'content': 'OK, 我将利用这个知识回答后面问题。'},\n",
       " {'role': 'user', 'content': \"已知：'普鸿'是一家做数字消防业务的公司\"},\n",
       " {'role': 'assistant', 'content': 'OK, 我将利用这个知识回答后面问题。'},\n",
       " {'role': 'user', 'content': \"已知：'textlong'是一个解决长文本生成的开源项目\"},\n",
       " {'role': 'assistant', 'content': 'OK, 我将利用这个知识回答后面问题。'},\n",
       " {'role': 'user', 'content': '请开始'},\n",
       " {'role': 'assistant',\n",
       "  'content': 'textlong能干啥？\\n# textlong 功能概述\\n- **长文本生成**：textlong 是一个专门设计用于生成长文本的开源项目，适用于需要大量文本生成的场景。\\n- **开源可用**：该项目是开源的，用户可以根据自己的需求进行修改和扩展。\\n- **多种应用场景**：适用于小说创作、报告撰写、内容生成等多种长文本创作需求。\\n- **易于集成**：支持与其他系统和工具的集成，方便用户在现有工作流程中添加文本生成功能。\\n- **社区支持**：拥有活跃的社区，提供技术支持和交流平台。\\n- **可扩展性**：具有良好的可扩展性，可以通过添加新的模型或算法来提升生成效果。'},\n",
       " {'role': 'user', 'content': '那普鸿是做什么的？'},\n",
       " {'role': 'assistant', 'content': '普鸿是一家专注于数字消防业务的公司，提供相关解决方案和服务。'}]"
      ]
     },
     "execution_count": 3,
     "metadata": {},
     "output_type": "execute_result"
    }
   ],
   "source": [
    "d.chat(\"那普鸿是做什么的？\")"
   ]
  },
  {
   "cell_type": "code",
   "execution_count": 4,
   "id": "aa0f62a5-2a67-4ab0-a71c-7c96f59fe251",
   "metadata": {},
   "outputs": [
    {
     "name": "stdout",
     "output_type": "stream",
     "text": [
      "\u001b[32m没有\u001b[0m\u001b[32m具体\u001b[0m\u001b[32m信息\u001b[0m\u001b[32m表明\u001b[0m\u001b[32m普\u001b[0m\u001b[32m鸿\u001b[0m\u001b[32m公司与\u001b[0m\u001b[32mtext\u001b[0m\u001b[32mlong\u001b[0m\u001b[32m项目\u001b[0m\u001b[32m有\u001b[0m\u001b[32m直接\u001b[0m\u001b[32m关系\u001b[0m\u001b[32m。\u001b[0m\u001b[32m普\u001b[0m\u001b[32m鸿\u001b[0m\u001b[32m专注于\u001b[0m\u001b[32m数字\u001b[0m\u001b[32m消防\u001b[0m\u001b[32m业务\u001b[0m\u001b[32m，\u001b[0m\u001b[32m而\u001b[0m\u001b[32mtext\u001b[0m\u001b[32mlong\u001b[0m\u001b[32m是一个\u001b[0m\u001b[32m用于\u001b[0m\u001b[32m长\u001b[0m\u001b[32m文本\u001b[0m\u001b[32m生成的\u001b[0m\u001b[32m开源\u001b[0m\u001b[32m项目\u001b[0m\u001b[32m。\u001b[0m\u001b[32m两者\u001b[0m\u001b[32m属于\u001b[0m\u001b[32m不同\u001b[0m\u001b[32m领域\u001b[0m\u001b[32m。\u001b[0m\n",
      "\n"
     ]
    },
    {
     "data": {
      "text/plain": [
       "[{'role': 'system',\n",
       "  'content': '你是强大的写作助手。\\n\\n你必须遵循以下约束来完成任务:\\n1. 直接输出你的结果，不要评论，不要啰嗦\\n2. 使用markdown格式输出\\n**你的任务是:**\\ntextlong能干啥？\\n'},\n",
       " {'role': 'user', 'content': \"已知：'neverland'是一个AI项目，用于知识助理AI的管理\"},\n",
       " {'role': 'assistant', 'content': 'OK, 我将利用这个知识回答后面问题。'},\n",
       " {'role': 'user', 'content': \"已知：'普鸿'是一家做数字消防业务的公司\"},\n",
       " {'role': 'assistant', 'content': 'OK, 我将利用这个知识回答后面问题。'},\n",
       " {'role': 'user', 'content': \"已知：'textlong'是一个解决长文本生成的开源项目\"},\n",
       " {'role': 'assistant', 'content': 'OK, 我将利用这个知识回答后面问题。'},\n",
       " {'role': 'user', 'content': '请开始'},\n",
       " {'role': 'assistant',\n",
       "  'content': 'textlong能干啥？\\n# textlong 功能概述\\n- **长文本生成**：textlong 是一个专门设计用于生成长文本的开源项目，适用于需要大量文本生成的场景。\\n- **开源可用**：该项目是开源的，用户可以根据自己的需求进行修改和扩展。\\n- **多种应用场景**：适用于小说创作、报告撰写、内容生成等多种长文本创作需求。\\n- **易于集成**：支持与其他系统和工具的集成，方便用户在现有工作流程中添加文本生成功能。\\n- **社区支持**：拥有活跃的社区，提供技术支持和交流平台。\\n- **可扩展性**：具有良好的可扩展性，可以通过添加新的模型或算法来提升生成效果。'},\n",
       " {'role': 'user', 'content': '那普鸿是做什么的？'},\n",
       " {'role': 'assistant', 'content': '普鸿是一家专注于数字消防业务的公司，提供相关解决方案和服务。'},\n",
       " {'role': 'user', 'content': '这家公司跟textlong有关系吗？'},\n",
       " {'role': 'assistant',\n",
       "  'content': '没有具体信息表明普鸿公司与textlong项目有直接关系。普鸿专注于数字消防业务，而textlong是一个用于长文本生成的开源项目。两者属于不同领域。'}]"
      ]
     },
     "execution_count": 4,
     "metadata": {},
     "output_type": "execute_result"
    }
   ],
   "source": [
    "d.chat(\"这家公司跟textlong有关系吗？\", k=1)"
   ]
  },
  {
   "cell_type": "code",
   "execution_count": 5,
   "id": "9cc0b1a5-5d44-4f84-9663-b22d1f10df7b",
   "metadata": {},
   "outputs": [
    {
     "name": "stdout",
     "output_type": "stream",
     "text": [
      "\u001b[32m根据\u001b[0m\u001b[32m已知\u001b[0m\u001b[32m信息\u001b[0m\u001b[32m，\u001b[0m\u001b[32m没有\u001b[0m\u001b[32m明确\u001b[0m\u001b[32m说明\u001b[0m\u001b[32mnever\u001b[0m\u001b[32mland\u001b[0m\u001b[32m项目\u001b[0m\u001b[32m与\u001b[0m\u001b[32mtext\u001b[0m\u001b[32mlong\u001b[0m\u001b[32m有\u001b[0m\u001b[32m直接\u001b[0m\u001b[32m关系\u001b[0m\u001b[32m。\u001b[0m\u001b[32mnever\u001b[0m\u001b[32mland\u001b[0m\u001b[32m是一个\u001b[0m\u001b[32mAI\u001b[0m\u001b[32m项目\u001b[0m\u001b[32m，\u001b[0m\u001b[32m用于\u001b[0m\u001b[32m知识\u001b[0m\u001b[32m助理\u001b[0m\u001b[32mAI\u001b[0m\u001b[32m的管理\u001b[0m\u001b[32m，\u001b[0m\u001b[32m而\u001b[0m\u001b[32mtext\u001b[0m\u001b[32mlong\u001b[0m\u001b[32m是一个\u001b[0m\u001b[32m解决\u001b[0m\u001b[32m长\u001b[0m\u001b[32m文本\u001b[0m\u001b[32m生成的\u001b[0m\u001b[32m开源\u001b[0m\u001b[32m项目\u001b[0m\u001b[32m。\u001b[0m\u001b[32m它们\u001b[0m\u001b[32m可能是\u001b[0m\u001b[32m独立的\u001b[0m\u001b[32m，\u001b[0m\u001b[32m也可能\u001b[0m\u001b[32m在\u001b[0m\u001b[32m某个\u001b[0m\u001b[32m方面\u001b[0m\u001b[32m有所\u001b[0m\u001b[32m关联\u001b[0m\u001b[32m，\u001b[0m\u001b[32m但没有\u001b[0m\u001b[32m具体\u001b[0m\u001b[32m信息\u001b[0m\u001b[32m支持\u001b[0m\u001b[32m这种\u001b[0m\u001b[32m联系\u001b[0m\u001b[32m。\u001b[0m\n",
      "\n"
     ]
    },
    {
     "data": {
      "text/plain": [
       "[{'role': 'system',\n",
       "  'content': '你是强大的写作助手。\\n\\n你必须遵循以下约束来完成任务:\\n1. 直接输出你的结果，不要评论，不要啰嗦\\n2. 使用markdown格式输出\\n**你的任务是:**\\ntextlong能干啥？\\n'},\n",
       " {'role': 'user', 'content': \"已知：'neverland'是一个AI项目，用于知识助理AI的管理\"},\n",
       " {'role': 'assistant', 'content': 'OK, 我将利用这个知识回答后面问题。'},\n",
       " {'role': 'user', 'content': \"已知：'普鸿'是一家做数字消防业务的公司\"},\n",
       " {'role': 'assistant', 'content': 'OK, 我将利用这个知识回答后面问题。'},\n",
       " {'role': 'user', 'content': \"已知：'textlong'是一个解决长文本生成的开源项目\"},\n",
       " {'role': 'assistant', 'content': 'OK, 我将利用这个知识回答后面问题。'},\n",
       " {'role': 'user', 'content': '请开始'},\n",
       " {'role': 'assistant',\n",
       "  'content': 'textlong能干啥？\\n# textlong 功能概述\\n- **长文本生成**：textlong 是一个专门设计用于生成长文本的开源项目，适用于需要大量文本生成的场景。\\n- **开源可用**：该项目是开源的，用户可以根据自己的需求进行修改和扩展。\\n- **多种应用场景**：适用于小说创作、报告撰写、内容生成等多种长文本创作需求。\\n- **易于集成**：支持与其他系统和工具的集成，方便用户在现有工作流程中添加文本生成功能。\\n- **社区支持**：拥有活跃的社区，提供技术支持和交流平台。\\n- **可扩展性**：具有良好的可扩展性，可以通过添加新的模型或算法来提升生成效果。'},\n",
       " {'role': 'user', 'content': '这家公司跟textlong有关系吗？'},\n",
       " {'role': 'assistant',\n",
       "  'content': '没有具体信息表明普鸿公司与textlong项目有直接关系。普鸿专注于数字消防业务，而textlong是一个用于长文本生成的开源项目。两者属于不同领域。'},\n",
       " {'role': 'user', 'content': '那么neverland呢？'},\n",
       " {'role': 'assistant',\n",
       "  'content': '根据已知信息，没有明确说明neverland项目与textlong有直接关系。neverland是一个AI项目，用于知识助理AI的管理，而textlong是一个解决长文本生成的开源项目。它们可能是独立的，也可能在某个方面有所关联，但没有具体信息支持这种联系。'}]"
      ]
     },
     "execution_count": 5,
     "metadata": {},
     "output_type": "execute_result"
    }
   ],
   "source": [
    "d.chat(\"那么neverland呢？\", k=1)"
   ]
  },
  {
   "cell_type": "code",
   "execution_count": 6,
   "id": "b64ef49b-9fb9-4491-8070-ff602fbba1b1",
   "metadata": {},
   "outputs": [
    {
     "data": {
      "text/plain": [
       "[{'role': 'system',\n",
       "  'content': '你是强大的写作助手。\\n\\n你必须遵循以下约束来完成任务:\\n1. 直接输出你的结果，不要评论，不要啰嗦\\n2. 使用markdown格式输出\\n**你的任务是:**\\ntextlong能干啥？\\n'},\n",
       " {'role': 'user', 'content': \"已知：'neverland'是一个AI项目，用于知识助理AI的管理\"},\n",
       " {'role': 'assistant', 'content': 'OK, 我将利用这个知识回答后面问题。'},\n",
       " {'role': 'user', 'content': \"已知：'普鸿'是一家做数字消防业务的公司\"},\n",
       " {'role': 'assistant', 'content': 'OK, 我将利用这个知识回答后面问题。'},\n",
       " {'role': 'user', 'content': \"已知：'textlong'是一个解决长文本生成的开源项目\"},\n",
       " {'role': 'assistant', 'content': 'OK, 我将利用这个知识回答后面问题。'},\n",
       " {'role': 'user', 'content': '请开始'},\n",
       " {'role': 'assistant',\n",
       "  'content': 'textlong能干啥？\\n# textlong 功能概述\\n- **长文本生成**：textlong 是一个专门设计用于生成长文本的开源项目，适用于需要大量文本生成的场景。\\n- **开源可用**：该项目是开源的，用户可以根据自己的需求进行修改和扩展。\\n- **多种应用场景**：适用于小说创作、报告撰写、内容生成等多种长文本创作需求。\\n- **易于集成**：支持与其他系统和工具的集成，方便用户在现有工作流程中添加文本生成功能。\\n- **社区支持**：拥有活跃的社区，提供技术支持和交流平台。\\n- **可扩展性**：具有良好的可扩展性，可以通过添加新的模型或算法来提升生成效果。'},\n",
       " {'role': 'user', 'content': '那普鸿是做什么的？'},\n",
       " {'role': 'assistant', 'content': '普鸿是一家专注于数字消防业务的公司，提供相关解决方案和服务。'},\n",
       " {'role': 'user', 'content': '这家公司跟textlong有关系吗？'},\n",
       " {'role': 'assistant',\n",
       "  'content': '没有具体信息表明普鸿公司与textlong项目有直接关系。普鸿专注于数字消防业务，而textlong是一个用于长文本生成的开源项目。两者属于不同领域。'},\n",
       " {'role': 'user', 'content': '那么neverland呢？'},\n",
       " {'role': 'assistant',\n",
       "  'content': '根据已知信息，没有明确说明neverland项目与textlong有直接关系。neverland是一个AI项目，用于知识助理AI的管理，而textlong是一个解决长文本生成的开源项目。它们可能是独立的，也可能在某个方面有所关联，但没有具体信息支持这种联系。'}]"
      ]
     },
     "execution_count": 6,
     "metadata": {},
     "output_type": "execute_result"
    }
   ],
   "source": [
    "d.state.messages"
   ]
  },
  {
   "cell_type": "code",
   "execution_count": null,
   "id": "9fc34b92-7be6-4787-9ad7-7a38d6e809f9",
   "metadata": {},
   "outputs": [],
   "source": []
  }
 ],
 "metadata": {
  "kernelspec": {
   "display_name": "textlong-same-ipykernel",
   "language": "python",
   "name": "textlong-same-ipykernel"
  },
  "language_info": {
   "codemirror_mode": {
    "name": "ipython",
    "version": 3
   },
   "file_extension": ".py",
   "mimetype": "text/x-python",
   "name": "python",
   "nbconvert_exporter": "python",
   "pygments_lexer": "ipython3",
   "version": "3.10.0"
  }
 },
 "nbformat": 4,
 "nbformat_minor": 5
}
