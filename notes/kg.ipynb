{
 "cells": [
  {
   "cell_type": "markdown",
   "id": "b7077a8d-fefd-4539-a835-55bae7dc6d20",
   "metadata": {},
   "source": [
    "# 知识管理"
   ]
  },
  {
   "cell_type": "markdown",
   "id": "0563839e-2b54-4705-a99a-fe4bb74dc4d9",
   "metadata": {},
   "source": [
    "## State中的知识管理"
   ]
  },
  {
   "cell_type": "code",
   "execution_count": 1,
   "id": "736166c2-3d49-44a0-bd96-68b49735e7ee",
   "metadata": {},
   "outputs": [],
   "source": [
    "from illufly.agent import ChatQwen, FakeLLM\n",
    "from illufly.io import log\n",
    "\n",
    "a = ChatQwen()"
   ]
  },
  {
   "cell_type": "markdown",
   "id": "6e1e6b03-0451-42df-9246-79d448081baa",
   "metadata": {},
   "source": [
    "### 确保不会重复添加"
   ]
  },
  {
   "cell_type": "code",
   "execution_count": 2,
   "id": "2928da03-6937-496a-be7e-0d747051bebd",
   "metadata": {},
   "outputs": [
    {
     "data": {
      "text/plain": [
       "[]"
      ]
     },
     "execution_count": 2,
     "metadata": {},
     "output_type": "execute_result"
    }
   ],
   "source": [
    "a.get_knowledge()"
   ]
  },
  {
   "cell_type": "code",
   "execution_count": 3,
   "id": "8c9ed1f5-bef1-4f20-b998-bdedf3efb7eb",
   "metadata": {},
   "outputs": [],
   "source": [
    "a.add_knowledge(\"'illufly'是一个解决长文本生成的开源项目\")\n",
    "a.add_knowledge(\"'neverland'是一个AI项目，用于知识助理AI的管理\")\n",
    "a.add_knowledge(\"'普鸿'是一家做数字消防业务的公司\")"
   ]
  },
  {
   "cell_type": "code",
   "execution_count": 5,
   "id": "86a7c8c7-45f4-4f7a-bdea-ea9e54473266",
   "metadata": {},
   "outputs": [
    {
     "data": {
      "text/plain": [
       "{Knowledge(text='illufly'是一个解决长文本生成的开源项目),\n",
       " Knowledge(text='neverland'是一个AI项目，用于知识助理AI的管理),\n",
       " Knowledge(text='普鸿'是一家做数字消防业务的公司)}"
      ]
     },
     "execution_count": 5,
     "metadata": {},
     "output_type": "execute_result"
    }
   ],
   "source": [
    "a.knowledge"
   ]
  },
  {
   "cell_type": "markdown",
   "id": "c77b2f6d-5984-475a-ae8b-0e5cc744bee7",
   "metadata": {},
   "source": [
    "### 提取知识"
   ]
  },
  {
   "cell_type": "code",
   "execution_count": 7,
   "id": "e4b96fcb-acf7-43aa-819d-936259a986da",
   "metadata": {},
   "outputs": [
    {
     "data": {
      "text/plain": [
       "[\"'普鸿'是一家做数字消防业务的公司\",\n",
       " \"'neverland'是一个AI项目，用于知识助理AI的管理\",\n",
       " \"'illufly'是一个解决长文本生成的开源项目\"]"
      ]
     },
     "execution_count": 7,
     "metadata": {},
     "output_type": "execute_result"
    }
   ],
   "source": [
    "a.get_knowledge()"
   ]
  },
  {
   "cell_type": "code",
   "execution_count": 11,
   "id": "ed771288-5018-4ab2-82a3-2f8d59b5be88",
   "metadata": {},
   "outputs": [
    {
     "data": {
      "text/plain": [
       "True"
      ]
     },
     "execution_count": 11,
     "metadata": {},
     "output_type": "execute_result"
    }
   ],
   "source": [
    "from illufly.agent import Runnable\n",
    "isinstance(a, Runnable)"
   ]
  },
  {
   "cell_type": "markdown",
   "id": "f80acd33-8efd-4dbd-a018-a621aff451c0",
   "metadata": {},
   "source": [
    "## 多轮对话 + knowledge"
   ]
  },
  {
   "cell_type": "code",
   "execution_count": 26,
   "id": "47a5033e-d788-4547-95e9-5ddee279e9ce",
   "metadata": {},
   "outputs": [
    {
     "name": "stdout",
     "output_type": "stream",
     "text": [
      "\u001b[32m\"\u001b[0m\u001b[32mill\u001b[0m\u001b[32muf\u001b[0m\u001b[32mly\"是一个旨在解决\u001b[0m\u001b[32m长文本生成任务的开源项目。\u001b[0m\u001b[32m这意味着它能够帮助开发者或研究人员创建\u001b[0m\u001b[32m能够自动生成连续、连贯且\u001b[0m\u001b[32m有深度的长段文本的AI\u001b[0m\u001b[32m模型。这类工具在多个领域有用\u001b[0m\u001b[32m，包括但不限于自动生成文章、故事\u001b[0m\u001b[32m、报告、总结或者用于大规模数据\u001b[0m\u001b[32m增强等。通过使用机器学习和\u001b[0m\u001b[32m自然语言处理技术，illufly\u001b[0m\u001b[32m能理解和学习大量的文本数据，进而\u001b[0m\u001b[32m生成符合特定主题、风格或语\u001b[0m\u001b[32m境的新内容。\u001b[0m\u001b[32m\u001b[0m\n",
      "\n"
     ]
    },
    {
     "data": {
      "text/plain": [
       "[{'role': 'user', 'content': 'illufly能干啥？'},\n",
       " {'role': 'assistant',\n",
       "  'content': '\"illufly\"是一个旨在解决长文本生成任务的开源项目。这意味着它能够帮助开发者或研究人员创建能够自动生成连续、连贯且有深度的长段文本的AI模型。这类工具在多个领域有用，包括但不限于自动生成文章、故事、报告、总结或者用于大规模数据增强等。通过使用机器学习和自然语言处理技术，illufly能理解和学习大量的文本数据，进而生成符合特定主题、风格或语境的新内容。'}]"
      ]
     },
     "execution_count": 26,
     "metadata": {},
     "output_type": "execute_result"
    }
   ],
   "source": [
    "from illufly.agent import FakeLLM, ChatZhipu, ChatQwen\n",
    "from illufly.io import log\n",
    "\n",
    "a = ChatQwen(k=10)\n",
    "a.add_knowledge(\"'illufly'是一个解决长文本生成的开源项目\")\n",
    "a.add_knowledge(\"'neverland'是一个AI项目，用于知识助理AI的管理\")\n",
    "a.add_knowledge(\"'普鸿'是一家做数字消防业务的公司\")\n",
    "\n",
    "log(a, \"illufly能干啥？\", new_chat=True)\n",
    "a.memory"
   ]
  },
  {
   "cell_type": "code",
   "execution_count": 28,
   "id": "1ed4c275-d8ee-46b0-8443-65dd925d366c",
   "metadata": {},
   "outputs": [
    {
     "data": {
      "text/plain": [
       "[{'role': 'user', 'content': 'illufly能干啥？'},\n",
       " {'role': 'assistant',\n",
       "  'content': '\"illufly\"是一个旨在解决长文本生成任务的开源项目。这意味着它能够帮助开发者或研究人员创建能够自动生成连续、连贯且有深度的长段文本的AI模型。这类工具在多个领域有用，包括但不限于自动生成文章、故事、报告、总结或者用于大规模数据增强等。通过使用机器学习和自然语言处理技术，illufly能理解和学习大量的文本数据，进而生成符合特定主题、风格或语境的新内容。'}]"
      ]
     },
     "execution_count": 28,
     "metadata": {},
     "output_type": "execute_result"
    }
   ],
   "source": [
    "a.memory"
   ]
  },
  {
   "cell_type": "code",
   "execution_count": 27,
   "id": "09404735-13e2-4c91-af9e-a5778e851748",
   "metadata": {},
   "outputs": [
    {
     "data": {
      "text/plain": [
       "[{'role': 'user', 'content': 'illufly能干啥？'},\n",
       " {'role': 'assistant',\n",
       "  'content': '\"illufly\"是一个旨在解决长文本生成任务的开源项目。这意味着它能够帮助开发者或研究人员创建能够自动生成连续、连贯且有深度的长段文本的AI模型。这类工具在多个领域有用，包括但不限于自动生成文章、故事、报告、总结或者用于大规模数据增强等。通过使用机器学习和自然语言处理技术，illufly能理解和学习大量的文本数据，进而生成符合特定主题、风格或语境的新内容。'},\n",
       " {'role': 'user', 'content': \"已知：'普鸿'是一家做数字消防业务的公司\"},\n",
       " {'role': 'assistant', 'content': 'OK, 我将利用这个知识回答后面问题。'},\n",
       " {'role': 'user', 'content': \"已知：'neverland'是一个AI项目，用于知识助理AI的管理\"},\n",
       " {'role': 'assistant', 'content': 'OK, 我将利用这个知识回答后面问题。'},\n",
       " {'role': 'user', 'content': \"已知：'illufly'是一个解决长文本生成的开源项目\"},\n",
       " {'role': 'assistant', 'content': 'OK, 我将利用这个知识回答后面问题。'}]"
      ]
     },
     "execution_count": 27,
     "metadata": {},
     "output_type": "execute_result"
    }
   ],
   "source": [
    "a.get_chat_memory()"
   ]
  },
  {
   "cell_type": "code",
   "execution_count": 17,
   "id": "ea814ed0-1184-472a-8ccf-70a9321ea6f3",
   "metadata": {},
   "outputs": [
    {
     "name": "stdout",
     "output_type": "stream",
     "text": [
      "\u001b[32m根据\u001b[0m\u001b[32m您\u001b[0m\u001b[32m提供\u001b[0m\u001b[32m的信息\u001b[0m\u001b[32m，\u001b[0m\u001b[32m普\u001b[0m\u001b[32m鸿\u001b[0m\u001b[32m是一家\u001b[0m\u001b[32m专注于\u001b[0m\u001b[32m数字\u001b[0m\u001b[32m消防\u001b[0m\u001b[32m业务\u001b[0m\u001b[32m的公司\u001b[0m\u001b[32m。\u001b[0m\u001b[32m这意味着\u001b[0m\u001b[32m普\u001b[0m\u001b[32m鸿\u001b[0m\u001b[32m可能\u001b[0m\u001b[32m提供\u001b[0m\u001b[32m以下\u001b[0m\u001b[32m服务和\u001b[0m\u001b[32m产品\u001b[0m\u001b[32m：\n",
      "\n",
      "1\u001b[0m\u001b[32m.\u001b[0m\u001b[32m **\u001b[0m\u001b[32m数字\u001b[0m\u001b[32m消防\u001b[0m\u001b[32m系统\u001b[0m\u001b[32m**\u001b[0m\u001b[32m：\u001b[0m\u001b[32m设计和\u001b[0m\u001b[32m提供\u001b[0m\u001b[32m集成\u001b[0m\u001b[32m数字化\u001b[0m\u001b[32m技术的\u001b[0m\u001b[32m消防\u001b[0m\u001b[32m监控系统\u001b[0m\u001b[32m，\u001b[0m\u001b[32m可能\u001b[0m\u001b[32m包括\u001b[0m\u001b[32m火灾\u001b[0m\u001b[32m报警\u001b[0m\u001b[32m、\u001b[0m\u001b[32m烟雾\u001b[0m\u001b[32m检测\u001b[0m\u001b[32m、\u001b[0m\u001b[32m热\u001b[0m\u001b[32m感\u001b[0m\u001b[32m探测\u001b[0m\u001b[32m等\u001b[0m\u001b[32m。\n",
      "\n",
      "2\u001b[0m\u001b[32m.\u001b[0m\u001b[32m **\u001b[0m\u001b[32m消防\u001b[0m\u001b[32m数据分析\u001b[0m\u001b[32m**\u001b[0m\u001b[32m：\u001b[0m\u001b[32m利用\u001b[0m\u001b[32m数据分析\u001b[0m\u001b[32m工具\u001b[0m\u001b[32m对\u001b[0m\u001b[32m消防\u001b[0m\u001b[32m数据和\u001b[0m\u001b[32m趋势\u001b[0m\u001b[32m进行分析\u001b[0m\u001b[32m，\u001b[0m\u001b[32m以\u001b[0m\u001b[32m提供\u001b[0m\u001b[32m更\u001b[0m\u001b[32m有效的\u001b[0m\u001b[32m预防\u001b[0m\u001b[32m措施\u001b[0m\u001b[32m和\u001b[0m\u001b[32m响应\u001b[0m\u001b[32m策略\u001b[0m\u001b[32m。\n",
      "\n",
      "3\u001b[0m\u001b[32m.\u001b[0m\u001b[32m **\u001b[0m\u001b[32m消防安全\u001b[0m\u001b[32m咨询\u001b[0m\u001b[32m**\u001b[0m\u001b[32m：\u001b[0m\u001b[32m为企业\u001b[0m\u001b[32m或\u001b[0m\u001b[32m公共\u001b[0m\u001b[32m建筑\u001b[0m\u001b[32m提供\u001b[0m\u001b[32m消防安全\u001b[0m\u001b[32m咨询\u001b[0m\u001b[32m和\u001b[0m\u001b[32m评估\u001b[0m\u001b[32m服务\u001b[0m\u001b[32m。\n",
      "\n",
      "4\u001b[0m\u001b[32m.\u001b[0m\u001b[32m **\u001b[0m\u001b[32m消防\u001b[0m\u001b[32m设备\u001b[0m\u001b[32m维护\u001b[0m\u001b[32m和\u001b[0m\u001b[32m升级\u001b[0m\u001b[32m**\u001b[0m\u001b[32m：\u001b[0m\u001b[32m提供\u001b[0m\u001b[32m消防\u001b[0m\u001b[32m设备的\u001b[0m\u001b[32m维护\u001b[0m\u001b[32m、\u001b[0m\u001b[32m升级\u001b[0m\u001b[32m和\u001b[0m\u001b[32m更换\u001b[0m\u001b[32m服务\u001b[0m\u001b[32m，\u001b[0m\u001b[32m确保\u001b[0m\u001b[32m消防\u001b[0m\u001b[32m系统的\u001b[0m\u001b[32m正常运行\u001b[0m\u001b[32m。\n",
      "\n",
      "5\u001b[0m\u001b[32m.\u001b[0m\u001b[32m **\u001b[0m\u001b[32m消防安全\u001b[0m\u001b[32m培训\u001b[0m\u001b[32m**\u001b[0m\u001b[32m：\u001b[0m\u001b[32m对\u001b[0m\u001b[32m员工\u001b[0m\u001b[32m进行\u001b[0m\u001b[32m消防安全\u001b[0m\u001b[32m培训\u001b[0m\u001b[32m，\u001b[0m\u001b[32m提高\u001b[0m\u001b[32m他们的\u001b[0m\u001b[32m火灾\u001b[0m\u001b[32m预防和\u001b[0m\u001b[32m应急\u001b[0m\u001b[32m处理\u001b[0m\u001b[32m能力\u001b[0m\u001b[32m。\n",
      "\n",
      "6\u001b[0m\u001b[32m.\u001b[0m\u001b[32m **\u001b[0m\u001b[32m智能\u001b[0m\u001b[32m消防\u001b[0m\u001b[32m解决方案\u001b[0m\u001b[32m**\u001b[0m\u001b[32m：\u001b[0m\u001b[32m结合\u001b[0m\u001b[32m人工智能\u001b[0m\u001b[32m、\u001b[0m\u001b[32m物联网\u001b[0m\u001b[32m等技术\u001b[0m\u001b[32m，\u001b[0m\u001b[32m提供\u001b[0m\u001b[32m智能\u001b[0m\u001b[32m化的\u001b[0m\u001b[32m消防\u001b[0m\u001b[32m解决方案\u001b[0m\u001b[32m。\n",
      "\n",
      "普\u001b[0m\u001b[32m鸿\u001b[0m\u001b[32m通过\u001b[0m\u001b[32m这些\u001b[0m\u001b[32m服务\u001b[0m\u001b[32m帮助\u001b[0m\u001b[32m客户\u001b[0m\u001b[32m提升\u001b[0m\u001b[32m消防\u001b[0m\u001b[32m管理水平\u001b[0m\u001b[32m，\u001b[0m\u001b[32m确保\u001b[0m\u001b[32m人员和\u001b[0m\u001b[32m财产安全\u001b[0m\u001b[32m。\u001b[0m\n",
      "\n"
     ]
    },
    {
     "data": {
      "text/plain": [
       "'根据您提供的信息，普鸿是一家专注于数字消防业务的公司。这意味着普鸿可能提供以下服务和产品：\\n\\n1. **数字消防系统**：设计和提供集成数字化技术的消防监控系统，可能包括火灾报警、烟雾检测、热感探测等。\\n\\n2. **消防数据分析**：利用数据分析工具对消防数据和趋势进行分析，以提供更有效的预防措施和响应策略。\\n\\n3. **消防安全咨询**：为企业或公共建筑提供消防安全咨询和评估服务。\\n\\n4. **消防设备维护和升级**：提供消防设备的维护、升级和更换服务，确保消防系统的正常运行。\\n\\n5. **消防安全培训**：对员工进行消防安全培训，提高他们的火灾预防和应急处理能力。\\n\\n6. **智能消防解决方案**：结合人工智能、物联网等技术，提供智能化的消防解决方案。\\n\\n普鸿通过这些服务帮助客户提升消防管理水平，确保人员和财产安全。'"
      ]
     },
     "execution_count": 17,
     "metadata": {},
     "output_type": "execute_result"
    }
   ],
   "source": [
    "log(a, \"普鸿做什么的？\")\n",
    "a.memory"
   ]
  },
  {
   "cell_type": "code",
   "execution_count": 18,
   "id": "76cc524a-64d1-482c-8af0-a1a78997ecb2",
   "metadata": {},
   "outputs": [
    {
     "data": {
      "text/plain": [
       "[{'role': 'user', 'content': 'illufly能干啥？'},\n",
       " {'role': 'assistant',\n",
       "  'content': 'illufly是一个开源项目，专注于解决长文本生成的挑战。以下是illufly可能能够做的事情：\\n\\n1. **长文本生成**：illufly的核心功能可能是生成较长的文本内容，比如文章、故事、报告等。\\n\\n2. **自然语言处理**：它可能利用了自然语言处理（NLP）技术，能够理解和生成自然语言。\\n\\n3. **文本摘要**：illufly可能能够从较长的文本中提取关键信息，生成摘要。\\n\\n4. **内容创作**：它可以用于辅助内容创作者生成创意文本，如小说、诗歌、剧本等。\\n\\n5. **对话系统**：illufly可能能够构建对话系统，与用户进行自然对话。\\n\\n6. **机器翻译**：虽然不是其主要功能，但illufly也可能具备基本的机器翻译能力，将一种语言的文本翻译成另一种语言。\\n\\n7. **个性化内容**：illufly可以基于用户输入的信息或偏好生成个性化的长文本内容。\\n\\n8. **辅助学习**：在教育领域，illufly可以帮助生成学习材料，如课程内容、练习题等。\\n\\n需要注意的是，illufly的具体功能和性能取决于其实现方式和设计目标。上述功能是基于其名称和一般开源项目的目的而推测的。'},\n",
       " {'role': 'user', 'content': '普鸿做什么的？'},\n",
       " {'role': 'assistant',\n",
       "  'content': '根据您提供的信息，普鸿是一家专注于数字消防业务的公司。这意味着普鸿可能提供以下服务和产品：\\n\\n1. **数字消防系统**：设计和提供集成数字化技术的消防监控系统，可能包括火灾报警、烟雾检测、热感探测等。\\n\\n2. **消防数据分析**：利用数据分析工具对消防数据和趋势进行分析，以提供更有效的预防措施和响应策略。\\n\\n3. **消防安全咨询**：为企业或公共建筑提供消防安全咨询和评估服务。\\n\\n4. **消防设备维护和升级**：提供消防设备的维护、升级和更换服务，确保消防系统的正常运行。\\n\\n5. **消防安全培训**：对员工进行消防安全培训，提高他们的火灾预防和应急处理能力。\\n\\n6. **智能消防解决方案**：结合人工智能、物联网等技术，提供智能化的消防解决方案。\\n\\n普鸿通过这些服务帮助客户提升消防管理水平，确保人员和财产安全。'}]"
      ]
     },
     "execution_count": 18,
     "metadata": {},
     "output_type": "execute_result"
    }
   ],
   "source": [
    "a.memory"
   ]
  },
  {
   "cell_type": "code",
   "execution_count": 21,
   "id": "a9f62aa3-fc89-468c-8571-c691257fe790",
   "metadata": {},
   "outputs": [
    {
     "data": {
      "text/plain": [
       "[\"'普鸿'是一家做数字消防业务的公司\",\n",
       " \"'neverland'是一个AI项目，用于知识助理AI的管理\",\n",
       " \"'illufly'是一个解决长文本生成的开源项目\"]"
      ]
     },
     "execution_count": 21,
     "metadata": {},
     "output_type": "execute_result"
    }
   ],
   "source": [
    "a.get_knowledge()"
   ]
  },
  {
   "cell_type": "markdown",
   "id": "8d1de6e7-ad69-4242-a02e-15b854ccd24f",
   "metadata": {},
   "source": [
    "## 单轮写作 + knowledge"
   ]
  },
  {
   "cell_type": "code",
   "execution_count": 24,
   "id": "dc1e199e-2dd2-47e0-8405-89f0487326ac",
   "metadata": {},
   "outputs": [
    {
     "name": "stdout",
     "output_type": "stream",
     "text": [
      "\u001b[32mill\u001b[0m\u001b[32muf\u001b[0m\u001b[32mly\u001b[0m\u001b[32m是一个旨在解决长文本\u001b[0m\u001b[32m生成任务的开源项目，它能够\u001b[0m\u001b[32m帮助用户或开发者创建自定义的\u001b[0m\u001b[32m长文本内容，比如文章、故事\u001b[0m\u001b[32m、报告等，通过先进的自然语言\u001b[0m\u001b[32m处理技术提高生成文本的质量和连\u001b[0m\u001b[32m贯性。\u001b[0m\u001b[32m\u001b[0m\n",
      "\n"
     ]
    },
    {
     "data": {
      "text/plain": [
       "[{'role': 'system',\n",
       "  'content': '你是强大的写作助手。\\n\\n你必须遵循以下约束来完成任务:\\n1. 直接输出你的结果，不要评论，不要啰嗦\\n2. 使用markdown格式输出\\n\\n**你的任务是:**\\n\\n'},\n",
       " {'role': 'user', 'content': 'illufly能干啥？'},\n",
       " {'role': 'assistant',\n",
       "  'content': 'illufly是一个旨在解决长文本生成任务的开源项目，它能够帮助用户或开发者创建自定义的长文本内容，比如文章、故事、报告等，通过先进的自然语言处理技术提高生成文本的质量和连贯性。'}]"
      ]
     },
     "execution_count": 24,
     "metadata": {},
     "output_type": "execute_result"
    }
   ],
   "source": [
    "from illufly.agent import FakeLLM, ChatZhipu, ChatQwen\n",
    "from illufly.hub import Template\n",
    "from illufly.io import log\n",
    "\n",
    "a = ChatQwen(memory=Template(\"IDEA\"))\n",
    "a.add_knowledge(\"'illufly'是一个解决长文本生成的开源项目\")\n",
    "a.add_knowledge(\"'neverland'是一个AI项目，用于知识助理AI的管理\")\n",
    "a.add_knowledge(\"'普鸿'是一家做数字消防业务的公司\")\n",
    "log(a, \"illufly能干啥？\")\n",
    "a.memory"
   ]
  },
  {
   "cell_type": "code",
   "execution_count": null,
   "id": "a484e4ea-b900-486c-9258-d2ff923356e0",
   "metadata": {},
   "outputs": [],
   "source": []
  },
  {
   "cell_type": "code",
   "execution_count": 12,
   "id": "143ed017-f2fd-488d-abea-88fdff8b15a8",
   "metadata": {},
   "outputs": [
    {
     "data": {
      "text/plain": [
       "9"
      ]
     },
     "execution_count": 12,
     "metadata": {},
     "output_type": "execute_result"
    }
   ],
   "source": [
    "# 实际上，write 函数已经通过 reserved_k 设定了应当保留的对话内容，不会被后续其他对话淹没\n",
    "a.state.reserved_k"
   ]
  },
  {
   "cell_type": "code",
   "execution_count": 14,
   "id": "5f3a8bd0-6648-4571-8d6a-27a41b747c9c",
   "metadata": {},
   "outputs": [
    {
     "name": "stdout",
     "output_type": "stream",
     "text": [
      "\u001b[32m普\u001b[0m\u001b[32m鸿\u001b[0m\u001b[32m是一家\u001b[0m\u001b[32m专注于\u001b[0m\u001b[32m数字\u001b[0m\u001b[32m消防\u001b[0m\u001b[32m业务\u001b[0m\u001b[32m的公司\u001b[0m\u001b[32m。\u001b[0m\u001b[32m具体\u001b[0m\u001b[32m来说\u001b[0m\u001b[32m，\u001b[0m\u001b[32m它\u001b[0m\u001b[32m可能\u001b[0m\u001b[32m提供\u001b[0m\u001b[32m以下\u001b[0m\u001b[32m服务\u001b[0m\u001b[32m：\n",
      "\n",
      "-\u001b[0m\u001b[32m 数字\u001b[0m\u001b[32m消防\u001b[0m\u001b[32m系统\u001b[0m\u001b[32m解决方案\u001b[0m\u001b[32m：\u001b[0m\u001b[32m开发\u001b[0m\u001b[32m和管理\u001b[0m\u001b[32m数字\u001b[0m\u001b[32m化的\u001b[0m\u001b[32m消防\u001b[0m\u001b[32m监控系统\u001b[0m\u001b[32m。\n",
      "-\u001b[0m\u001b[32m 消\u001b[0m\u001b[32m防\u001b[0m\u001b[32m安全\u001b[0m\u001b[32m咨询\u001b[0m\u001b[32m：\u001b[0m\u001b[32m为\u001b[0m\u001b[32m企业和\u001b[0m\u001b[32m机构\u001b[0m\u001b[32m提供\u001b[0m\u001b[32m消防安全\u001b[0m\u001b[32m风险评估\u001b[0m\u001b[32m和管理\u001b[0m\u001b[32m建议\u001b[0m\u001b[32m。\n",
      "-\u001b[0m\u001b[32m 消\u001b[0m\u001b[32m防\u001b[0m\u001b[32m设备\u001b[0m\u001b[32m销售\u001b[0m\u001b[32m与\u001b[0m\u001b[32m维护\u001b[0m\u001b[32m：\u001b[0m\u001b[32m销售\u001b[0m\u001b[32m和\u001b[0m\u001b[32m维修\u001b[0m\u001b[32m消防\u001b[0m\u001b[32m设备\u001b[0m\u001b[32m，\u001b[0m\u001b[32m确保\u001b[0m\u001b[32m其\u001b[0m\u001b[32m正常运行\u001b[0m\u001b[32m。\n",
      "-\u001b[0m\u001b[32m 消\u001b[0m\u001b[32m防\u001b[0m\u001b[32m安全\u001b[0m\u001b[32m培训\u001b[0m\u001b[32m：\u001b[0m\u001b[32m提供\u001b[0m\u001b[32m消防安全\u001b[0m\u001b[32m培训\u001b[0m\u001b[32m课程\u001b[0m\u001b[32m，\u001b[0m\u001b[32m提高\u001b[0m\u001b[32m公众\u001b[0m\u001b[32m的\u001b[0m\u001b[32m消防安全\u001b[0m\u001b[32m意识\u001b[0m\u001b[32m。\n",
      "-\u001b[0m\u001b[32m 消\u001b[0m\u001b[32m防\u001b[0m\u001b[32m安全\u001b[0m\u001b[32m技术研发\u001b[0m\u001b[32m：\u001b[0m\u001b[32m研究和\u001b[0m\u001b[32m开发\u001b[0m\u001b[32m新的\u001b[0m\u001b[32m消防安全\u001b[0m\u001b[32m技术\u001b[0m\u001b[32m，\u001b[0m\u001b[32m提升\u001b[0m\u001b[32m消防\u001b[0m\u001b[32m行业的\u001b[0m\u001b[32m智能化\u001b[0m\u001b[32m水平\u001b[0m\u001b[32m。\u001b[0m\n",
      "\n",
      "[END] \u001b[34m【内容由幻蝶AI生成，其观点仅代表创作者个人立场，可登录 http://www.illufly.com 查验其校验码 23755807】\u001b[0m\n"
     ]
    },
    {
     "data": {
      "text/plain": [
       "'普鸿是一家专注于数字消防业务的公司。具体来说，它可能提供以下服务：\\n\\n- 数字消防系统解决方案：开发和管理数字化的消防监控系统。\\n- 消防安全咨询：为企业和机构提供消防安全风险评估和管理建议。\\n- 消防设备销售与维护：销售和维修消防设备，确保其正常运行。\\n- 消防安全培训：提供消防安全培训课程，提高公众的消防安全意识。\\n- 消防安全技术研发：研究和开发新的消防安全技术，提升消防行业的智能化水平。'"
      ]
     },
     "execution_count": 14,
     "metadata": {},
     "output_type": "execute_result"
    }
   ],
   "source": [
    "log(a.chat(\"那普鸿是做什么的？\"))"
   ]
  },
  {
   "cell_type": "code",
   "execution_count": 15,
   "id": "aa0f62a5-2a67-4ab0-a71c-7c96f59fe251",
   "metadata": {},
   "outputs": [
    {
     "name": "stdout",
     "output_type": "stream",
     "text": [
      "\u001b[32m根据\u001b[0m\u001b[32m已知\u001b[0m\u001b[32m信息\u001b[0m\u001b[32m，\u001b[0m\u001b[32m普\u001b[0m\u001b[32m鸿\u001b[0m\u001b[32m是一家\u001b[0m\u001b[32m专注于\u001b[0m\u001b[32m数字\u001b[0m\u001b[32m消防\u001b[0m\u001b[32m业务\u001b[0m\u001b[32m的公司\u001b[0m\u001b[32m，\u001b[0m\u001b[32m而\u001b[0m\u001b[32mtext\u001b[0m\u001b[32mlong\u001b[0m\u001b[32m是一个\u001b[0m\u001b[32m解决\u001b[0m\u001b[32m长\u001b[0m\u001b[32m文本\u001b[0m\u001b[32m生成的\u001b[0m\u001b[32m开源\u001b[0m\u001b[32m项目\u001b[0m\u001b[32m。\u001b[0m\u001b[32m这两\u001b[0m\u001b[32m者\u001b[0m\u001b[32m之间\u001b[0m\u001b[32m没有\u001b[0m\u001b[32m直接\u001b[0m\u001b[32m的关系\u001b[0m\u001b[32m。\u001b[0m\u001b[32m普\u001b[0m\u001b[32m鸿\u001b[0m\u001b[32m的业务\u001b[0m\u001b[32m与\u001b[0m\u001b[32m消防安全\u001b[0m\u001b[32m相关\u001b[0m\u001b[32m，\u001b[0m\u001b[32m而\u001b[0m\u001b[32mtext\u001b[0m\u001b[32mlong\u001b[0m\u001b[32m是一个\u001b[0m\u001b[32m文本\u001b[0m\u001b[32m生成\u001b[0m\u001b[32m工具\u001b[0m\u001b[32m。\u001b[0m\u001b[32m除非\u001b[0m\u001b[32m有\u001b[0m\u001b[32m额外的\u001b[0m\u001b[32m信息\u001b[0m\u001b[32m表明\u001b[0m\u001b[32m两者\u001b[0m\u001b[32m有\u001b[0m\u001b[32m合作\u001b[0m\u001b[32m或\u001b[0m\u001b[32m关联\u001b[0m\u001b[32m，\u001b[0m\u001b[32m否则\u001b[0m\u001b[32m它们\u001b[0m\u001b[32m是\u001b[0m\u001b[32m独立的\u001b[0m\u001b[32m实体\u001b[0m\u001b[32m。\u001b[0m\n",
      "\n",
      "[END] \u001b[34m【内容由幻蝶AI生成，其观点仅代表创作者个人立场，可登录 http://www.illufly.com 查验其校验码 68274506】\u001b[0m\n"
     ]
    },
    {
     "data": {
      "text/plain": [
       "'根据已知信息，普鸿是一家专注于数字消防业务的公司，而illufly是一个解决长文本生成的开源项目。这两者之间没有直接的关系。普鸿的业务与消防安全相关，而illufly是一个文本生成工具。除非有额外的信息表明两者有合作或关联，否则它们是独立的实体。'"
      ]
     },
     "execution_count": 15,
     "metadata": {},
     "output_type": "execute_result"
    }
   ],
   "source": [
    "log(a.chat(\"这家公司跟illufly有关系吗？\", k=1))"
   ]
  },
  {
   "cell_type": "code",
   "execution_count": 16,
   "id": "9cc0b1a5-5d44-4f84-9663-b22d1f10df7b",
   "metadata": {},
   "outputs": [
    {
     "name": "stdout",
     "output_type": "stream",
     "text": [
      "\u001b[32m根据\u001b[0m\u001b[32m已知\u001b[0m\u001b[32m信息\u001b[0m\u001b[32m，\u001b[0m\u001b[32mnever\u001b[0m\u001b[32mland\u001b[0m\u001b[32m是一个\u001b[0m\u001b[32mAI\u001b[0m\u001b[32m项目\u001b[0m\u001b[32m，\u001b[0m\u001b[32m用于\u001b[0m\u001b[32m知识\u001b[0m\u001b[32m助理\u001b[0m\u001b[32mAI\u001b[0m\u001b[32m的管理\u001b[0m\u001b[32m。\u001b[0m\u001b[32m与\u001b[0m\u001b[32m普\u001b[0m\u001b[32m鸿\u001b[0m\u001b[32m公司\u001b[0m\u001b[32m专注于\u001b[0m\u001b[32m数字\u001b[0m\u001b[32m消防\u001b[0m\u001b[32m业务\u001b[0m\u001b[32m和\u001b[0m\u001b[32mtext\u001b[0m\u001b[32mlong\u001b[0m\u001b[32m开源\u001b[0m\u001b[32m项目\u001b[0m\u001b[32m解决\u001b[0m\u001b[32m长\u001b[0m\u001b[32m文本\u001b[0m\u001b[32m生成\u001b[0m\u001b[32m的问题\u001b[0m\u001b[32m不同\u001b[0m\u001b[32m，\u001b[0m\u001b[32mnever\u001b[0m\u001b[32mland\u001b[0m\u001b[32m专注于\u001b[0m\u001b[32mAI\u001b[0m\u001b[32m管理和\u001b[0m\u001b[32m知识\u001b[0m\u001b[32m助理\u001b[0m\u001b[32m。\n",
      "\n",
      "因此\u001b[0m\u001b[32m，\u001b[0m\u001b[32mnever\u001b[0m\u001b[32mland\u001b[0m\u001b[32m与\u001b[0m\u001b[32m普\u001b[0m\u001b[32m鸿\u001b[0m\u001b[32m公司\u001b[0m\u001b[32m或\u001b[0m\u001b[32mtext\u001b[0m\u001b[32mlong\u001b[0m\u001b[32m项目\u001b[0m\u001b[32m之间\u001b[0m\u001b[32m也没有\u001b[0m\u001b[32m直接\u001b[0m\u001b[32m的关系\u001b[0m\u001b[32m。\u001b[0m\u001b[32m它们\u001b[0m\u001b[32m分别\u001b[0m\u001b[32m属于\u001b[0m\u001b[32m不同的\u001b[0m\u001b[32m领域\u001b[0m\u001b[32m和\u001b[0m\u001b[32m功能\u001b[0m\u001b[32m。\u001b[0m\n",
      "\n",
      "[END] \u001b[34m【内容由幻蝶AI生成，其观点仅代表创作者个人立场，可登录 http://www.illufly.com 查验其校验码 88301198】\u001b[0m\n"
     ]
    },
    {
     "data": {
      "text/plain": [
       "'根据已知信息，neverland是一个AI项目，用于知识助理AI的管理。与普鸿公司专注于数字消防业务和illufly开源项目解决长文本生成的问题不同，neverland专注于AI管理和知识助理。\\n\\n因此，neverland与普鸿公司或illufly项目之间也没有直接的关系。它们分别属于不同的领域和功能。'"
      ]
     },
     "execution_count": 16,
     "metadata": {},
     "output_type": "execute_result"
    }
   ],
   "source": [
    "log(a.chat(\"那么neverland呢？\", k=1))"
   ]
  },
  {
   "cell_type": "code",
   "execution_count": 17,
   "id": "b64ef49b-9fb9-4491-8070-ff602fbba1b1",
   "metadata": {},
   "outputs": [
    {
     "data": {
      "text/plain": [
       "[{'role': 'system',\n",
       "  'content': '你是强大的写作助手。\\n\\n你必须遵循以下约束来完成任务:\\n1. 直接输出你的结果，不要评论，不要啰嗦\\n2. 使用markdown格式输出\\n\\n**你的任务是:**\\nillufly能干啥？\\n'},\n",
       " {'role': 'user', 'content': \"已知：'普鸿'是一家做数字消防业务的公司\"},\n",
       " {'role': 'assistant', 'content': 'OK, 我将利用这个知识回答后面问题。'},\n",
       " {'role': 'user', 'content': \"已知：'neverland'是一个AI项目，用于知识助理AI的管理\"},\n",
       " {'role': 'assistant', 'content': 'OK, 我将利用这个知识回答后面问题。'},\n",
       " {'role': 'user', 'content': \"已知：'illufly'是一个解决长文本生成的开源项目\"},\n",
       " {'role': 'assistant', 'content': 'OK, 我将利用这个知识回答后面问题。'},\n",
       " {'role': 'user', 'content': '请开始'},\n",
       " {'role': 'assistant',\n",
       "  'content': '# illufly能干啥？\\n\\nillufly是一个开源项目，专注于解决长文本生成的挑战。以下是它的一些主要功能和用途：\\n\\n- **长文本生成**：illufly能够生成长篇文本，适用于各种应用场景，如内容创作、文本摘要、问答系统等。\\n- **开源**：illufly是开源的，意味着开发者可以自由地查看、修改和分发代码，有助于社区协作和创新。\\n- **多种语言支持**：该项目可能支持多种编程语言，便于开发者根据自己的需求选择合适的语言进行集成和使用。\\n- **可扩展性**：illufly可能具有良好的可扩展性，使得开发者可以根据具体需求调整模型大小和性能。\\n- **预训练模型**：该项目可能包含预训练的模型，方便用户直接使用，无需从头开始训练。\\n- **适应性强**：illufly可以适应不同的文本生成任务，如新闻生成、故事创作、对话生成等。'},\n",
       " {'role': 'user', 'content': '那普鸿是做什么的？'},\n",
       " {'role': 'assistant',\n",
       "  'content': '普鸿是一家专注于数字消防业务的公司。具体来说，它可能提供以下服务：\\n\\n- 数字消防系统解决方案：开发和管理数字化的消防监控系统。\\n- 消防安全咨询：为企业和机构提供消防安全风险评估和管理建议。\\n- 消防设备销售与维护：销售和维修消防设备，确保其正常运行。\\n- 消防安全培训：提供消防安全培训课程，提高公众的消防安全意识。\\n- 消防安全技术研发：研究和开发新的消防安全技术，提升消防行业的智能化水平。'},\n",
       " {'role': 'user', 'content': '这家公司跟illufly有关系吗？'},\n",
       " {'role': 'assistant',\n",
       "  'content': '根据已知信息，普鸿是一家专注于数字消防业务的公司，而illufly是一个解决长文本生成的开源项目。这两者之间没有直接的关系。普鸿的业务与消防安全相关，而illufly是一个文本生成工具。除非有额外的信息表明两者有合作或关联，否则它们是独立的实体。'},\n",
       " {'role': 'user', 'content': '那么neverland呢？'},\n",
       " {'role': 'assistant',\n",
       "  'content': '根据已知信息，neverland是一个AI项目，用于知识助理AI的管理。与普鸿公司专注于数字消防业务和illufly开源项目解决长文本生成的问题不同，neverland专注于AI管理和知识助理。\\n\\n因此，neverland与普鸿公司或illufly项目之间也没有直接的关系。它们分别属于不同的领域和功能。'}]"
      ]
     },
     "execution_count": 17,
     "metadata": {},
     "output_type": "execute_result"
    }
   ],
   "source": [
    "a.state.messages"
   ]
  },
  {
   "cell_type": "code",
   "execution_count": null,
   "id": "9fc34b92-7be6-4787-9ad7-7a38d6e809f9",
   "metadata": {},
   "outputs": [],
   "source": []
  }
 ],
 "metadata": {
  "kernelspec": {
   "display_name": "Python 3 (ipykernel)",
   "language": "python",
   "name": "python3"
  },
  "language_info": {
   "codemirror_mode": {
    "name": "ipython",
    "version": 3
   },
   "file_extension": ".py",
   "mimetype": "text/x-python",
   "name": "python",
   "nbconvert_exporter": "python",
   "pygments_lexer": "ipython3",
   "version": "3.10.0"
  }
 },
 "nbformat": 4,
 "nbformat_minor": 5
}
