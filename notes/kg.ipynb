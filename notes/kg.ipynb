{
 "cells": [
  {
   "cell_type": "markdown",
   "id": "b7077a8d-fefd-4539-a835-55bae7dc6d20",
   "metadata": {},
   "source": [
    "# 知识管理"
   ]
  },
  {
   "cell_type": "markdown",
   "id": "0563839e-2b54-4705-a99a-fe4bb74dc4d9",
   "metadata": {},
   "source": [
    "## State中的知识管理"
   ]
  },
  {
   "cell_type": "code",
   "execution_count": 1,
   "id": "736166c2-3d49-44a0-bd96-68b49735e7ee",
   "metadata": {},
   "outputs": [],
   "source": [
    "from textlong.llm import qwen, fake_llm\n",
    "from textlong.agent import Agent\n",
    "\n",
    "a = Agent(qwen)"
   ]
  },
  {
   "cell_type": "markdown",
   "id": "6e1e6b03-0451-42df-9246-79d448081baa",
   "metadata": {},
   "source": [
    "### 确保不会重复添加"
   ]
  },
  {
   "cell_type": "code",
   "execution_count": 2,
   "id": "8c9ed1f5-bef1-4f20-b998-bdedf3efb7eb",
   "metadata": {},
   "outputs": [],
   "source": [
    "a.state.add_knowledge(\"'textlong'是一个解决长文本生成的开源项目\")\n",
    "a.state.add_knowledge(\"'neverland'是一个AI项目，用于知识助理AI的管理\")\n",
    "a.state.add_knowledge(\"'普鸿'是一家做数字消防业务的公司\")"
   ]
  },
  {
   "cell_type": "code",
   "execution_count": 3,
   "id": "86a7c8c7-45f4-4f7a-bdea-ea9e54473266",
   "metadata": {},
   "outputs": [
    {
     "data": {
      "text/plain": [
       "{Knowledge(text='neverland'是一个AI项目，用于知识助理AI的管理),\n",
       " Knowledge(text='textlong'是一个解决长文本生成的开源项目),\n",
       " Knowledge(text='普鸿'是一家做数字消防业务的公司)}"
      ]
     },
     "execution_count": 3,
     "metadata": {},
     "output_type": "execute_result"
    }
   ],
   "source": [
    "a.state.knowledge"
   ]
  },
  {
   "cell_type": "markdown",
   "id": "c77b2f6d-5984-475a-ae8b-0e5cc744bee7",
   "metadata": {},
   "source": [
    "### 提取知识"
   ]
  },
  {
   "cell_type": "code",
   "execution_count": 4,
   "id": "e4b96fcb-acf7-43aa-819d-936259a986da",
   "metadata": {},
   "outputs": [
    {
     "data": {
      "text/plain": [
       "[\"'普鸿'是一家做数字消防业务的公司\",\n",
       " \"'neverland'是一个AI项目，用于知识助理AI的管理\",\n",
       " \"'textlong'是一个解决长文本生成的开源项目\"]"
      ]
     },
     "execution_count": 4,
     "metadata": {},
     "output_type": "execute_result"
    }
   ],
   "source": [
    "a.state.get_knowledge()"
   ]
  },
  {
   "cell_type": "code",
   "execution_count": 5,
   "id": "ed771288-5018-4ab2-82a3-2f8d59b5be88",
   "metadata": {},
   "outputs": [
    {
     "data": {
      "text/plain": [
       "State(output=<None>, messages=<0>, data=<None>, knowledge=<'普鸿'是一家做数字消防业务的公司; 'neverland'是一个AI项目，用于知识助理AI的管理; 'textlong'是一个解决长文本生成的开源项目>)"
      ]
     },
     "execution_count": 5,
     "metadata": {},
     "output_type": "execute_result"
    }
   ],
   "source": [
    "a.state"
   ]
  },
  {
   "cell_type": "markdown",
   "id": "f80acd33-8efd-4dbd-a018-a621aff451c0",
   "metadata": {},
   "source": [
    "## 多轮对话 + knowledge"
   ]
  },
  {
   "cell_type": "code",
   "execution_count": 7,
   "id": "47a5033e-d788-4547-95e9-5ddee279e9ce",
   "metadata": {},
   "outputs": [
    {
     "name": "stdout",
     "output_type": "stream",
     "text": [
      "\u001b[32m根据\u001b[0m\u001b[32m您\u001b[0m\u001b[32m提供\u001b[0m\u001b[32m的信息\u001b[0m\u001b[32m，\u001b[0m\u001b[32m\"\u001b[0m\u001b[32mtext\u001b[0m\u001b[32mlong\u001b[0m\u001b[32m\"\u001b[0m\u001b[32m是一个\u001b[0m\u001b[32m开源\u001b[0m\u001b[32m项目\u001b[0m\u001b[32m，\u001b[0m\u001b[32m专注于\u001b[0m\u001b[32m解决\u001b[0m\u001b[32m长\u001b[0m\u001b[32m文本\u001b[0m\u001b[32m生成\u001b[0m\u001b[32m的问题\u001b[0m\u001b[32m。\u001b[0m\u001b[32m以下是\u001b[0m\u001b[32m它\u001b[0m\u001b[32m可能\u001b[0m\u001b[32m能够\u001b[0m\u001b[32m做到\u001b[0m\u001b[32m的一些\u001b[0m\u001b[32m事情\u001b[0m\u001b[32m：\n",
      "\n",
      "1\u001b[0m\u001b[32m.\u001b[0m\u001b[32m **\u001b[0m\u001b[32m生成\u001b[0m\u001b[32m长\u001b[0m\u001b[32m文本\u001b[0m\u001b[32m**\u001b[0m\u001b[32m：\u001b[0m\u001b[32mtext\u001b[0m\u001b[32mlong\u001b[0m\u001b[32m可能\u001b[0m\u001b[32m能够\u001b[0m\u001b[32m根据\u001b[0m\u001b[32m给\u001b[0m\u001b[32m定的\u001b[0m\u001b[32m输入\u001b[0m\u001b[32m生成\u001b[0m\u001b[32m较\u001b[0m\u001b[32m长的\u001b[0m\u001b[32m文本\u001b[0m\u001b[32m内容\u001b[0m\u001b[32m，\u001b[0m\u001b[32m例如\u001b[0m\u001b[32m文章\u001b[0m\u001b[32m、\u001b[0m\u001b[32m故事\u001b[0m\u001b[32m、\u001b[0m\u001b[32m报告\u001b[0m\u001b[32m等\u001b[0m\u001b[32m。\n",
      "\n",
      "2\u001b[0m\u001b[32m.\u001b[0m\u001b[32m **\u001b[0m\u001b[32m文本\u001b[0m\u001b[32m摘要\u001b[0m\u001b[32m**\u001b[0m\u001b[32m：\u001b[0m\u001b[32m该项目\u001b[0m\u001b[32m可能\u001b[0m\u001b[32m包含\u001b[0m\u001b[32m摘要\u001b[0m\u001b[32m功能\u001b[0m\u001b[32m，\u001b[0m\u001b[32m能够\u001b[0m\u001b[32m从\u001b[0m\u001b[32m较\u001b[0m\u001b[32m长的\u001b[0m\u001b[32m文本\u001b[0m\u001b[32m中\u001b[0m\u001b[32m提取\u001b[0m\u001b[32m关键\u001b[0m\u001b[32m信息\u001b[0m\u001b[32m，\u001b[0m\u001b[32m生成\u001b[0m\u001b[32m摘要\u001b[0m\u001b[32m。\n",
      "\n",
      "3\u001b[0m\u001b[32m.\u001b[0m\u001b[32m **\u001b[0m\u001b[32m内容\u001b[0m\u001b[32m续\u001b[0m\u001b[32m写\u001b[0m\u001b[32m**\u001b[0m\u001b[32m：\u001b[0m\u001b[32mtext\u001b[0m\u001b[32mlong\u001b[0m\u001b[32m可以\u001b[0m\u001b[32m用于\u001b[0m\u001b[32m续\u001b[0m\u001b[32m写\u001b[0m\u001b[32m故事\u001b[0m\u001b[32m、\u001b[0m\u001b[32m文章\u001b[0m\u001b[32m或其他\u001b[0m\u001b[32m类型\u001b[0m\u001b[32m的长\u001b[0m\u001b[32m文本\u001b[0m\u001b[32m，\u001b[0m\u001b[32m根据\u001b[0m\u001b[32m已有的\u001b[0m\u001b[32m内容\u001b[0m\u001b[32m预测\u001b[0m\u001b[32m接下来\u001b[0m\u001b[32m可能\u001b[0m\u001b[32m发生\u001b[0m\u001b[32m的事情\u001b[0m\u001b[32m。\n",
      "\n",
      "4\u001b[0m\u001b[32m.\u001b[0m\u001b[32m **\u001b[0m\u001b[32m文本\u001b[0m\u001b[32m风格\u001b[0m\u001b[32m转换\u001b[0m\u001b[32m**\u001b[0m\u001b[32m：\u001b[0m\u001b[32m它\u001b[0m\u001b[32m可能\u001b[0m\u001b[32m能够\u001b[0m\u001b[32m模仿\u001b[0m\u001b[32m不同的\u001b[0m\u001b[32m文本\u001b[0m\u001b[32m风格\u001b[0m\u001b[32m或\u001b[0m\u001b[32m语言\u001b[0m\u001b[32m，\u001b[0m\u001b[32m将\u001b[0m\u001b[32m一种\u001b[0m\u001b[32m风格的\u001b[0m\u001b[32m文本\u001b[0m\u001b[32m转换\u001b[0m\u001b[32m成\u001b[0m\u001b[32m另一种\u001b[0m\u001b[32m风格\u001b[0m\u001b[32m。\n",
      "\n",
      "5\u001b[0m\u001b[32m.\u001b[0m\u001b[32m **\u001b[0m\u001b[32m机器\u001b[0m\u001b[32m翻译\u001b[0m\u001b[32m**\u001b[0m\u001b[32m：\u001b[0m\u001b[32m虽然\u001b[0m\u001b[32m这不是\u001b[0m\u001b[32m其主要\u001b[0m\u001b[32m功能\u001b[0m\u001b[32m，\u001b[0m\u001b[32m但\u001b[0m\u001b[32m某些\u001b[0m\u001b[32m长\u001b[0m\u001b[32m文本\u001b[0m\u001b[32m生成\u001b[0m\u001b[32m项目\u001b[0m\u001b[32m可能\u001b[0m\u001b[32m也\u001b[0m\u001b[32m包含\u001b[0m\u001b[32m机器\u001b[0m\u001b[32m翻译\u001b[0m\u001b[32m能力\u001b[0m\u001b[32m，\u001b[0m\u001b[32m将\u001b[0m\u001b[32m一种\u001b[0m\u001b[32m语言的\u001b[0m\u001b[32m文本\u001b[0m\u001b[32m转换\u001b[0m\u001b[32m成\u001b[0m\u001b[32m另一种\u001b[0m\u001b[32m语言\u001b[0m\u001b[32m。\n",
      "\n",
      "6\u001b[0m\u001b[32m.\u001b[0m\u001b[32m **\u001b[0m\u001b[32m数据\u001b[0m\u001b[32m生成\u001b[0m\u001b[32m**\u001b[0m\u001b[32m：\u001b[0m\u001b[32m对于\u001b[0m\u001b[32m需要\u001b[0m\u001b[32m大量\u001b[0m\u001b[32m文本\u001b[0m\u001b[32m数据\u001b[0m\u001b[32m的应用\u001b[0m\u001b[32m，\u001b[0m\u001b[32m如\u001b[0m\u001b[32m训练\u001b[0m\u001b[32m机器\u001b[0m\u001b[32m学习\u001b[0m\u001b[32m模型\u001b[0m\u001b[32m，\u001b[0m\u001b[32mtext\u001b[0m\u001b[32mlong\u001b[0m\u001b[32m可以\u001b[0m\u001b[32m用于\u001b[0m\u001b[32m生成\u001b[0m\u001b[32m模拟\u001b[0m\u001b[32m数据\u001b[0m\u001b[32m。\n",
      "\n",
      "7\u001b[0m\u001b[32m.\u001b[0m\u001b[32m **\u001b[0m\u001b[32m交互\u001b[0m\u001b[32m式\u001b[0m\u001b[32m创作\u001b[0m\u001b[32m**\u001b[0m\u001b[32m：\u001b[0m\u001b[32m用户\u001b[0m\u001b[32m可能\u001b[0m\u001b[32m可以\u001b[0m\u001b[32m与\u001b[0m\u001b[32mtext\u001b[0m\u001b[32mlong\u001b[0m\u001b[32m交互\u001b[0m\u001b[32m，\u001b[0m\u001b[32m提供\u001b[0m\u001b[32m一些\u001b[0m\u001b[32m提示\u001b[0m\u001b[32m或\u001b[0m\u001b[32m参数\u001b[0m\u001b[32m，\u001b[0m\u001b[32m然后\u001b[0m\u001b[32m系统\u001b[0m\u001b[32m根据\u001b[0m\u001b[32m这些\u001b[0m\u001b[32m输入\u001b[0m\u001b[32m生成\u001b[0m\u001b[32m相应的\u001b[0m\u001b[32m文本\u001b[0m\u001b[32m。\n",
      "\n",
      "请注意\u001b[0m\u001b[32m，\u001b[0m\u001b[32m上述\u001b[0m\u001b[32m功能\u001b[0m\u001b[32m的具体\u001b[0m\u001b[32m实现\u001b[0m\u001b[32m取决于\u001b[0m\u001b[32mtext\u001b[0m\u001b[32mlong\u001b[0m\u001b[32m项目的\u001b[0m\u001b[32m具体\u001b[0m\u001b[32m设计和\u001b[0m\u001b[32m目的\u001b[0m\u001b[32m。\u001b[0m\u001b[32m如果\u001b[0m\u001b[32m需要\u001b[0m\u001b[32m更\u001b[0m\u001b[32m详细\u001b[0m\u001b[32m的信息\u001b[0m\u001b[32m，\u001b[0m\u001b[32m建议\u001b[0m\u001b[32m查看\u001b[0m\u001b[32m项目的\u001b[0m\u001b[32m文档\u001b[0m\u001b[32m或\u001b[0m\u001b[32m代码\u001b[0m\u001b[32m库\u001b[0m\u001b[32m。\u001b[0m\n",
      "\n",
      "[END] \u001b[34m【内容由幻蝶AI生成，其观点仅代表创作者个人立场，可登录 http://www.illufly.com 查验其校验码 84636316】\u001b[0m\n"
     ]
    },
    {
     "data": {
      "text/plain": [
       "'根据您提供的信息，\"textlong\"是一个开源项目，专注于解决长文本生成的问题。以下是它可能能够做到的一些事情：\\n\\n1. **生成长文本**：textlong可能能够根据给定的输入生成较长的文本内容，例如文章、故事、报告等。\\n\\n2. **文本摘要**：该项目可能包含摘要功能，能够从较长的文本中提取关键信息，生成摘要。\\n\\n3. **内容续写**：textlong可以用于续写故事、文章或其他类型的长文本，根据已有的内容预测接下来可能发生的事情。\\n\\n4. **文本风格转换**：它可能能够模仿不同的文本风格或语言，将一种风格的文本转换成另一种风格。\\n\\n5. **机器翻译**：虽然这不是其主要功能，但某些长文本生成项目可能也包含机器翻译能力，将一种语言的文本转换成另一种语言。\\n\\n6. **数据生成**：对于需要大量文本数据的应用，如训练机器学习模型，textlong可以用于生成模拟数据。\\n\\n7. **交互式创作**：用户可能可以与textlong交互，提供一些提示或参数，然后系统根据这些输入生成相应的文本。\\n\\n请注意，上述功能的具体实现取决于textlong项目的具体设计和目的。如果需要更详细的信息，建议查看项目的文档或代码库。'"
      ]
     },
     "execution_count": 7,
     "metadata": {},
     "output_type": "execute_result"
    }
   ],
   "source": [
    "from textlong.llm import fake_llm, zhipu, qwen\n",
    "from textlong.agent import Agent\n",
    "from textlong.io import log\n",
    "\n",
    "a = Agent(zhipu)\n",
    "a.add_knowledge(\"'textlong'是一个解决长文本生成的开源项目\")\n",
    "a.add_knowledge(\"'neverland'是一个AI项目，用于知识助理AI的管理\")\n",
    "a.add_knowledge(\"'普鸿'是一家做数字消防业务的公司\")\n",
    "\n",
    "log(a.chat(\"textlong能干啥？\", llm=zhipu, new_chat=True, k=1))"
   ]
  },
  {
   "cell_type": "code",
   "execution_count": 8,
   "id": "ea814ed0-1184-472a-8ccf-70a9321ea6f3",
   "metadata": {},
   "outputs": [
    {
     "name": "stdout",
     "output_type": "stream",
     "text": [
      "\u001b[32m根据\u001b[0m\u001b[32m您\u001b[0m\u001b[32m之前\u001b[0m\u001b[32m提供\u001b[0m\u001b[32m的信息\u001b[0m\u001b[32m，\u001b[0m\u001b[32m普\u001b[0m\u001b[32m鸿\u001b[0m\u001b[32m是一家\u001b[0m\u001b[32m专注于\u001b[0m\u001b[32m数字\u001b[0m\u001b[32m消防\u001b[0m\u001b[32m业务\u001b[0m\u001b[32m的公司\u001b[0m\u001b[32m。\u001b[0m\u001b[32m这意味着\u001b[0m\u001b[32m普\u001b[0m\u001b[32m鸿\u001b[0m\u001b[32m可能\u001b[0m\u001b[32m提供\u001b[0m\u001b[32m以下\u001b[0m\u001b[32m服务\u001b[0m\u001b[32m或\u001b[0m\u001b[32m产品\u001b[0m\u001b[32m：\n",
      "\n",
      "1\u001b[0m\u001b[32m.\u001b[0m\u001b[32m **\u001b[0m\u001b[32m数字\u001b[0m\u001b[32m消防\u001b[0m\u001b[32m系统\u001b[0m\u001b[32m**\u001b[0m\u001b[32m：\u001b[0m\u001b[32m开发\u001b[0m\u001b[32m、\u001b[0m\u001b[32m销售\u001b[0m\u001b[32m或\u001b[0m\u001b[32m维护\u001b[0m\u001b[32m用于\u001b[0m\u001b[32m防火\u001b[0m\u001b[32m监控\u001b[0m\u001b[32m和\u001b[0m\u001b[32m管理的\u001b[0m\u001b[32m数字\u001b[0m\u001b[32m技术\u001b[0m\u001b[32m系统\u001b[0m\u001b[32m。\n",
      "\n",
      "2\u001b[0m\u001b[32m.\u001b[0m\u001b[32m **\u001b[0m\u001b[32m消防安全\u001b[0m\u001b[32m解决方案\u001b[0m\u001b[32m**\u001b[0m\u001b[32m：\u001b[0m\u001b[32m提供\u001b[0m\u001b[32m消防安全\u001b[0m\u001b[32m相关的\u001b[0m\u001b[32m解决方案\u001b[0m\u001b[32m，\u001b[0m\u001b[32m可能\u001b[0m\u001b[32m包括\u001b[0m\u001b[32m火灾\u001b[0m\u001b[32m报警\u001b[0m\u001b[32m、\u001b[0m\u001b[32m灭火\u001b[0m\u001b[32m系统\u001b[0m\u001b[32m、\u001b[0m\u001b[32m防火\u001b[0m\u001b[32m门\u001b[0m\u001b[32m等\u001b[0m\u001b[32m。\n",
      "\n",
      "3\u001b[0m\u001b[32m.\u001b[0m\u001b[32m **\u001b[0m\u001b[32m消防\u001b[0m\u001b[32m技术服务\u001b[0m\u001b[32m**\u001b[0m\u001b[32m：\u001b[0m\u001b[32m提供\u001b[0m\u001b[32m消防\u001b[0m\u001b[32m设备的\u001b[0m\u001b[32m安装\u001b[0m\u001b[32m、\u001b[0m\u001b[32m维护\u001b[0m\u001b[32m、\u001b[0m\u001b[32m检测\u001b[0m\u001b[32m和\u001b[0m\u001b[32m培训\u001b[0m\u001b[32m等服务\u001b[0m\u001b[32m。\n",
      "\n",
      "4\u001b[0m\u001b[32m.\u001b[0m\u001b[32m **\u001b[0m\u001b[32m消防安全\u001b[0m\u001b[32m咨询\u001b[0m\u001b[32m**\u001b[0m\u001b[32m：\u001b[0m\u001b[32m为企业\u001b[0m\u001b[32m或\u001b[0m\u001b[32m个人\u001b[0m\u001b[32m提供\u001b[0m\u001b[32m消防安全\u001b[0m\u001b[32m相关的\u001b[0m\u001b[32m咨询服务\u001b[0m\u001b[32m，\u001b[0m\u001b[32m包括\u001b[0m\u001b[32m风险评估\u001b[0m\u001b[32m和\u001b[0m\u001b[32m应急预案\u001b[0m\u001b[32m制定\u001b[0m\u001b[32m。\n",
      "\n",
      "5\u001b[0m\u001b[32m.\u001b[0m\u001b[32m **\u001b[0m\u001b[32m智慧\u001b[0m\u001b[32m消防\u001b[0m\u001b[32m平台\u001b[0m\u001b[32m**\u001b[0m\u001b[32m：\u001b[0m\u001b[32m可能\u001b[0m\u001b[32m开发\u001b[0m\u001b[32m智慧\u001b[0m\u001b[32m消防\u001b[0m\u001b[32m平台\u001b[0m\u001b[32m，\u001b[0m\u001b[32m利用\u001b[0m\u001b[32m物联网\u001b[0m\u001b[32m、\u001b[0m\u001b[32m大数据\u001b[0m\u001b[32m等技术\u001b[0m\u001b[32m提升\u001b[0m\u001b[32m消防\u001b[0m\u001b[32m管理的\u001b[0m\u001b[32m智能化\u001b[0m\u001b[32m水平\u001b[0m\u001b[32m。\n",
      "\n",
      "普\u001b[0m\u001b[32m鸿\u001b[0m\u001b[32m的具体\u001b[0m\u001b[32m业务\u001b[0m\u001b[32m范围\u001b[0m\u001b[32m可能会有\u001b[0m\u001b[32m所\u001b[0m\u001b[32m不同\u001b[0m\u001b[32m，\u001b[0m\u001b[32m具体\u001b[0m\u001b[32m取决于\u001b[0m\u001b[32m公司的\u001b[0m\u001b[32m市场\u001b[0m\u001b[32m定位\u001b[0m\u001b[32m和\u001b[0m\u001b[32m战略\u001b[0m\u001b[32m方向\u001b[0m\u001b[32m。\u001b[0m\n",
      "\n",
      "[END] \u001b[34m【内容由幻蝶AI生成，其观点仅代表创作者个人立场，可登录 http://www.illufly.com 查验其校验码 67042835】\u001b[0m\n"
     ]
    },
    {
     "data": {
      "text/plain": [
       "'根据您之前提供的信息，普鸿是一家专注于数字消防业务的公司。这意味着普鸿可能提供以下服务或产品：\\n\\n1. **数字消防系统**：开发、销售或维护用于防火监控和管理的数字技术系统。\\n\\n2. **消防安全解决方案**：提供消防安全相关的解决方案，可能包括火灾报警、灭火系统、防火门等。\\n\\n3. **消防技术服务**：提供消防设备的安装、维护、检测和培训等服务。\\n\\n4. **消防安全咨询**：为企业或个人提供消防安全相关的咨询服务，包括风险评估和应急预案制定。\\n\\n5. **智慧消防平台**：可能开发智慧消防平台，利用物联网、大数据等技术提升消防管理的智能化水平。\\n\\n普鸿的具体业务范围可能会有所不同，具体取决于公司的市场定位和战略方向。'"
      ]
     },
     "execution_count": 8,
     "metadata": {},
     "output_type": "execute_result"
    }
   ],
   "source": [
    "log(a.chat(\"普鸿做什么的？\", llm=zhipu, k=1))"
   ]
  },
  {
   "cell_type": "code",
   "execution_count": 9,
   "id": "76cc524a-64d1-482c-8af0-a1a78997ecb2",
   "metadata": {},
   "outputs": [
    {
     "data": {
      "text/plain": [
       "[{'role': 'user', 'content': \"已知：'普鸿'是一家做数字消防业务的公司\"},\n",
       " {'role': 'assistant', 'content': 'OK, 我将利用这个知识回答后面问题。'},\n",
       " {'role': 'user', 'content': \"已知：'neverland'是一个AI项目，用于知识助理AI的管理\"},\n",
       " {'role': 'assistant', 'content': 'OK, 我将利用这个知识回答后面问题。'},\n",
       " {'role': 'user', 'content': \"已知：'textlong'是一个解决长文本生成的开源项目\"},\n",
       " {'role': 'assistant', 'content': 'OK, 我将利用这个知识回答后面问题。'},\n",
       " {'role': 'user', 'content': 'textlong能干啥？'},\n",
       " {'role': 'assistant',\n",
       "  'content': '根据您提供的信息，\"textlong\"是一个开源项目，专注于解决长文本生成的问题。以下是它可能能够做到的一些事情：\\n\\n1. **生成长文本**：textlong可能能够根据给定的输入生成较长的文本内容，例如文章、故事、报告等。\\n\\n2. **文本摘要**：该项目可能包含摘要功能，能够从较长的文本中提取关键信息，生成摘要。\\n\\n3. **内容续写**：textlong可以用于续写故事、文章或其他类型的长文本，根据已有的内容预测接下来可能发生的事情。\\n\\n4. **文本风格转换**：它可能能够模仿不同的文本风格或语言，将一种风格的文本转换成另一种风格。\\n\\n5. **机器翻译**：虽然这不是其主要功能，但某些长文本生成项目可能也包含机器翻译能力，将一种语言的文本转换成另一种语言。\\n\\n6. **数据生成**：对于需要大量文本数据的应用，如训练机器学习模型，textlong可以用于生成模拟数据。\\n\\n7. **交互式创作**：用户可能可以与textlong交互，提供一些提示或参数，然后系统根据这些输入生成相应的文本。\\n\\n请注意，上述功能的具体实现取决于textlong项目的具体设计和目的。如果需要更详细的信息，建议查看项目的文档或代码库。'},\n",
       " {'role': 'user', 'content': '普鸿做什么的？'},\n",
       " {'role': 'assistant',\n",
       "  'content': '根据您之前提供的信息，普鸿是一家专注于数字消防业务的公司。这意味着普鸿可能提供以下服务或产品：\\n\\n1. **数字消防系统**：开发、销售或维护用于防火监控和管理的数字技术系统。\\n\\n2. **消防安全解决方案**：提供消防安全相关的解决方案，可能包括火灾报警、灭火系统、防火门等。\\n\\n3. **消防技术服务**：提供消防设备的安装、维护、检测和培训等服务。\\n\\n4. **消防安全咨询**：为企业或个人提供消防安全相关的咨询服务，包括风险评估和应急预案制定。\\n\\n5. **智慧消防平台**：可能开发智慧消防平台，利用物联网、大数据等技术提升消防管理的智能化水平。\\n\\n普鸿的具体业务范围可能会有所不同，具体取决于公司的市场定位和战略方向。'}]"
      ]
     },
     "execution_count": 9,
     "metadata": {},
     "output_type": "execute_result"
    }
   ],
   "source": [
    "a.state.messages"
   ]
  },
  {
   "cell_type": "code",
   "execution_count": 10,
   "id": "a9f62aa3-fc89-468c-8571-c691257fe790",
   "metadata": {},
   "outputs": [
    {
     "data": {
      "text/plain": [
       "[\"'普鸿'是一家做数字消防业务的公司\",\n",
       " \"'neverland'是一个AI项目，用于知识助理AI的管理\",\n",
       " \"'textlong'是一个解决长文本生成的开源项目\"]"
      ]
     },
     "execution_count": 10,
     "metadata": {},
     "output_type": "execute_result"
    }
   ],
   "source": [
    "a.state.get_knowledge()"
   ]
  },
  {
   "cell_type": "markdown",
   "id": "8d1de6e7-ad69-4242-a02e-15b854ccd24f",
   "metadata": {},
   "source": [
    "## 单轮写作 + knowledge"
   ]
  },
  {
   "cell_type": "code",
   "execution_count": 11,
   "id": "dc1e199e-2dd2-47e0-8405-89f0487326ac",
   "metadata": {},
   "outputs": [
    {
     "name": "stdout",
     "output_type": "stream",
     "text": [
      "\u001b[32m#\u001b[0m\u001b[32m text\u001b[0m\u001b[32mlong\u001b[0m\u001b[32m能\u001b[0m\u001b[32m干\u001b[0m\u001b[32m啥\u001b[0m\u001b[32m？\n",
      "\n",
      "text\u001b[0m\u001b[32mlong\u001b[0m\u001b[32m是一个\u001b[0m\u001b[32m开源\u001b[0m\u001b[32m项目\u001b[0m\u001b[32m，\u001b[0m\u001b[32m专注于\u001b[0m\u001b[32m解决\u001b[0m\u001b[32m长\u001b[0m\u001b[32m文本\u001b[0m\u001b[32m生成的\u001b[0m\u001b[32m挑战\u001b[0m\u001b[32m。\u001b[0m\u001b[32m以下是\u001b[0m\u001b[32m它\u001b[0m\u001b[32m的一些\u001b[0m\u001b[32m主要\u001b[0m\u001b[32m功能和\u001b[0m\u001b[32m用途\u001b[0m\u001b[32m：\n",
      "\n",
      "-\u001b[0m\u001b[32m **\u001b[0m\u001b[32m长\u001b[0m\u001b[32m文本\u001b[0m\u001b[32m生成\u001b[0m\u001b[32m**\u001b[0m\u001b[32m：\u001b[0m\u001b[32mtext\u001b[0m\u001b[32mlong\u001b[0m\u001b[32m能够\u001b[0m\u001b[32m生成\u001b[0m\u001b[32m长\u001b[0m\u001b[32m篇\u001b[0m\u001b[32m文本\u001b[0m\u001b[32m，\u001b[0m\u001b[32m适用于\u001b[0m\u001b[32m各种\u001b[0m\u001b[32m应用\u001b[0m\u001b[32m场景\u001b[0m\u001b[32m，\u001b[0m\u001b[32m如\u001b[0m\u001b[32m内容\u001b[0m\u001b[32m创作\u001b[0m\u001b[32m、\u001b[0m\u001b[32m文本\u001b[0m\u001b[32m摘要\u001b[0m\u001b[32m、\u001b[0m\u001b[32m问答\u001b[0m\u001b[32m系统\u001b[0m\u001b[32m等\u001b[0m\u001b[32m。\n",
      "-\u001b[0m\u001b[32m **\u001b[0m\u001b[32m开源\u001b[0m\u001b[32m**\u001b[0m\u001b[32m：\u001b[0m\u001b[32mtext\u001b[0m\u001b[32mlong\u001b[0m\u001b[32m是\u001b[0m\u001b[32m开源\u001b[0m\u001b[32m的\u001b[0m\u001b[32m，\u001b[0m\u001b[32m意味着\u001b[0m\u001b[32m开发者\u001b[0m\u001b[32m可以\u001b[0m\u001b[32m自由\u001b[0m\u001b[32m地\u001b[0m\u001b[32m查看\u001b[0m\u001b[32m、\u001b[0m\u001b[32m修改\u001b[0m\u001b[32m和\u001b[0m\u001b[32m分发\u001b[0m\u001b[32m代码\u001b[0m\u001b[32m，\u001b[0m\u001b[32m有助于\u001b[0m\u001b[32m社区\u001b[0m\u001b[32m协作\u001b[0m\u001b[32m和创新\u001b[0m\u001b[32m。\n",
      "-\u001b[0m\u001b[32m **\u001b[0m\u001b[32m多种\u001b[0m\u001b[32m语言\u001b[0m\u001b[32m支持\u001b[0m\u001b[32m**\u001b[0m\u001b[32m：\u001b[0m\u001b[32m该项目\u001b[0m\u001b[32m可能\u001b[0m\u001b[32m支持\u001b[0m\u001b[32m多种\u001b[0m\u001b[32m编程\u001b[0m\u001b[32m语言\u001b[0m\u001b[32m，\u001b[0m\u001b[32m便于\u001b[0m\u001b[32m开发者\u001b[0m\u001b[32m根据自己的\u001b[0m\u001b[32m需求\u001b[0m\u001b[32m选择\u001b[0m\u001b[32m合适的\u001b[0m\u001b[32m语言\u001b[0m\u001b[32m进行\u001b[0m\u001b[32m集成\u001b[0m\u001b[32m和使用\u001b[0m\u001b[32m。\n",
      "-\u001b[0m\u001b[32m **\u001b[0m\u001b[32m可\u001b[0m\u001b[32m扩展\u001b[0m\u001b[32m性\u001b[0m\u001b[32m**\u001b[0m\u001b[32m：\u001b[0m\u001b[32mtext\u001b[0m\u001b[32mlong\u001b[0m\u001b[32m可能\u001b[0m\u001b[32m具有良好的\u001b[0m\u001b[32m可\u001b[0m\u001b[32m扩展\u001b[0m\u001b[32m性\u001b[0m\u001b[32m，\u001b[0m\u001b[32m使得\u001b[0m\u001b[32m开发者\u001b[0m\u001b[32m可以根据\u001b[0m\u001b[32m具体\u001b[0m\u001b[32m需求\u001b[0m\u001b[32m调整\u001b[0m\u001b[32m模型\u001b[0m\u001b[32m大小\u001b[0m\u001b[32m和\u001b[0m\u001b[32m性能\u001b[0m\u001b[32m。\n",
      "-\u001b[0m\u001b[32m **\u001b[0m\u001b[32m预\u001b[0m\u001b[32m训练\u001b[0m\u001b[32m模型\u001b[0m\u001b[32m**\u001b[0m\u001b[32m：\u001b[0m\u001b[32m该项目\u001b[0m\u001b[32m可能\u001b[0m\u001b[32m包含\u001b[0m\u001b[32m预\u001b[0m\u001b[32m训练\u001b[0m\u001b[32m的\u001b[0m\u001b[32m模型\u001b[0m\u001b[32m，\u001b[0m\u001b[32m方便\u001b[0m\u001b[32m用户\u001b[0m\u001b[32m直接\u001b[0m\u001b[32m使用\u001b[0m\u001b[32m，\u001b[0m\u001b[32m无需\u001b[0m\u001b[32m从头\u001b[0m\u001b[32m开始\u001b[0m\u001b[32m训练\u001b[0m\u001b[32m。\n",
      "-\u001b[0m\u001b[32m **\u001b[0m\u001b[32m适应\u001b[0m\u001b[32m性强\u001b[0m\u001b[32m**\u001b[0m\u001b[32m：\u001b[0m\u001b[32mtext\u001b[0m\u001b[32mlong\u001b[0m\u001b[32m可以\u001b[0m\u001b[32m适应\u001b[0m\u001b[32m不同的\u001b[0m\u001b[32m文本\u001b[0m\u001b[32m生成\u001b[0m\u001b[32m任务\u001b[0m\u001b[32m，\u001b[0m\u001b[32m如\u001b[0m\u001b[32m新闻\u001b[0m\u001b[32m生成\u001b[0m\u001b[32m、\u001b[0m\u001b[32m故事\u001b[0m\u001b[32m创作\u001b[0m\u001b[32m、\u001b[0m\u001b[32m对话\u001b[0m\u001b[32m生成\u001b[0m\u001b[32m等\u001b[0m\u001b[32m。\u001b[0m\n",
      "\n",
      "[END] \u001b[34m【内容由幻蝶AI生成，其观点仅代表创作者个人立场，可登录 http://www.illufly.com 查验其校验码 44091218】\u001b[0m\n"
     ]
    },
    {
     "data": {
      "text/plain": [
       "'# textlong能干啥？\\n\\ntextlong是一个开源项目，专注于解决长文本生成的挑战。以下是它的一些主要功能和用途：\\n\\n- **长文本生成**：textlong能够生成长篇文本，适用于各种应用场景，如内容创作、文本摘要、问答系统等。\\n- **开源**：textlong是开源的，意味着开发者可以自由地查看、修改和分发代码，有助于社区协作和创新。\\n- **多种语言支持**：该项目可能支持多种编程语言，便于开发者根据自己的需求选择合适的语言进行集成和使用。\\n- **可扩展性**：textlong可能具有良好的可扩展性，使得开发者可以根据具体需求调整模型大小和性能。\\n- **预训练模型**：该项目可能包含预训练的模型，方便用户直接使用，无需从头开始训练。\\n- **适应性强**：textlong可以适应不同的文本生成任务，如新闻生成、故事创作、对话生成等。'"
      ]
     },
     "execution_count": 11,
     "metadata": {},
     "output_type": "execute_result"
    }
   ],
   "source": [
    "from textlong.llm import fake_llm, zhipu, qwen\n",
    "from textlong.agent import Agent\n",
    "from textlong.io import log\n",
    "\n",
    "a = Agent(zhipu)\n",
    "a.add_knowledge(\"'textlong'是一个解决长文本生成的开源项目\")\n",
    "a.add_knowledge(\"'neverland'是一个AI项目，用于知识助理AI的管理\")\n",
    "a.add_knowledge(\"'普鸿'是一家做数字消防业务的公司\")\n",
    "log(a.write(\"textlong能干啥？\", llm=zhipu, template=\"IDEA\"))"
   ]
  },
  {
   "cell_type": "code",
   "execution_count": 12,
   "id": "143ed017-f2fd-488d-abea-88fdff8b15a8",
   "metadata": {},
   "outputs": [
    {
     "data": {
      "text/plain": [
       "9"
      ]
     },
     "execution_count": 12,
     "metadata": {},
     "output_type": "execute_result"
    }
   ],
   "source": [
    "# 实际上，write 函数已经通过 reserved_k 设定了应当保留的对话内容，不会被后续其他对话淹没\n",
    "a.state.reserved_k"
   ]
  },
  {
   "cell_type": "code",
   "execution_count": 14,
   "id": "5f3a8bd0-6648-4571-8d6a-27a41b747c9c",
   "metadata": {},
   "outputs": [
    {
     "name": "stdout",
     "output_type": "stream",
     "text": [
      "\u001b[32m普\u001b[0m\u001b[32m鸿\u001b[0m\u001b[32m是一家\u001b[0m\u001b[32m专注于\u001b[0m\u001b[32m数字\u001b[0m\u001b[32m消防\u001b[0m\u001b[32m业务\u001b[0m\u001b[32m的公司\u001b[0m\u001b[32m。\u001b[0m\u001b[32m具体\u001b[0m\u001b[32m来说\u001b[0m\u001b[32m，\u001b[0m\u001b[32m它\u001b[0m\u001b[32m可能\u001b[0m\u001b[32m提供\u001b[0m\u001b[32m以下\u001b[0m\u001b[32m服务\u001b[0m\u001b[32m：\n",
      "\n",
      "-\u001b[0m\u001b[32m 数字\u001b[0m\u001b[32m消防\u001b[0m\u001b[32m系统\u001b[0m\u001b[32m解决方案\u001b[0m\u001b[32m：\u001b[0m\u001b[32m开发\u001b[0m\u001b[32m和管理\u001b[0m\u001b[32m数字\u001b[0m\u001b[32m化的\u001b[0m\u001b[32m消防\u001b[0m\u001b[32m监控系统\u001b[0m\u001b[32m。\n",
      "-\u001b[0m\u001b[32m 消\u001b[0m\u001b[32m防\u001b[0m\u001b[32m安全\u001b[0m\u001b[32m咨询\u001b[0m\u001b[32m：\u001b[0m\u001b[32m为\u001b[0m\u001b[32m企业和\u001b[0m\u001b[32m机构\u001b[0m\u001b[32m提供\u001b[0m\u001b[32m消防安全\u001b[0m\u001b[32m风险评估\u001b[0m\u001b[32m和管理\u001b[0m\u001b[32m建议\u001b[0m\u001b[32m。\n",
      "-\u001b[0m\u001b[32m 消\u001b[0m\u001b[32m防\u001b[0m\u001b[32m设备\u001b[0m\u001b[32m销售\u001b[0m\u001b[32m与\u001b[0m\u001b[32m维护\u001b[0m\u001b[32m：\u001b[0m\u001b[32m销售\u001b[0m\u001b[32m和\u001b[0m\u001b[32m维修\u001b[0m\u001b[32m消防\u001b[0m\u001b[32m设备\u001b[0m\u001b[32m，\u001b[0m\u001b[32m确保\u001b[0m\u001b[32m其\u001b[0m\u001b[32m正常运行\u001b[0m\u001b[32m。\n",
      "-\u001b[0m\u001b[32m 消\u001b[0m\u001b[32m防\u001b[0m\u001b[32m安全\u001b[0m\u001b[32m培训\u001b[0m\u001b[32m：\u001b[0m\u001b[32m提供\u001b[0m\u001b[32m消防安全\u001b[0m\u001b[32m培训\u001b[0m\u001b[32m课程\u001b[0m\u001b[32m，\u001b[0m\u001b[32m提高\u001b[0m\u001b[32m公众\u001b[0m\u001b[32m的\u001b[0m\u001b[32m消防安全\u001b[0m\u001b[32m意识\u001b[0m\u001b[32m。\n",
      "-\u001b[0m\u001b[32m 消\u001b[0m\u001b[32m防\u001b[0m\u001b[32m安全\u001b[0m\u001b[32m技术研发\u001b[0m\u001b[32m：\u001b[0m\u001b[32m研究和\u001b[0m\u001b[32m开发\u001b[0m\u001b[32m新的\u001b[0m\u001b[32m消防安全\u001b[0m\u001b[32m技术\u001b[0m\u001b[32m，\u001b[0m\u001b[32m提升\u001b[0m\u001b[32m消防\u001b[0m\u001b[32m行业的\u001b[0m\u001b[32m智能化\u001b[0m\u001b[32m水平\u001b[0m\u001b[32m。\u001b[0m\n",
      "\n",
      "[END] \u001b[34m【内容由幻蝶AI生成，其观点仅代表创作者个人立场，可登录 http://www.illufly.com 查验其校验码 23755807】\u001b[0m\n"
     ]
    },
    {
     "data": {
      "text/plain": [
       "'普鸿是一家专注于数字消防业务的公司。具体来说，它可能提供以下服务：\\n\\n- 数字消防系统解决方案：开发和管理数字化的消防监控系统。\\n- 消防安全咨询：为企业和机构提供消防安全风险评估和管理建议。\\n- 消防设备销售与维护：销售和维修消防设备，确保其正常运行。\\n- 消防安全培训：提供消防安全培训课程，提高公众的消防安全意识。\\n- 消防安全技术研发：研究和开发新的消防安全技术，提升消防行业的智能化水平。'"
      ]
     },
     "execution_count": 14,
     "metadata": {},
     "output_type": "execute_result"
    }
   ],
   "source": [
    "log(a.chat(\"那普鸿是做什么的？\"))"
   ]
  },
  {
   "cell_type": "code",
   "execution_count": 15,
   "id": "aa0f62a5-2a67-4ab0-a71c-7c96f59fe251",
   "metadata": {},
   "outputs": [
    {
     "name": "stdout",
     "output_type": "stream",
     "text": [
      "\u001b[32m根据\u001b[0m\u001b[32m已知\u001b[0m\u001b[32m信息\u001b[0m\u001b[32m，\u001b[0m\u001b[32m普\u001b[0m\u001b[32m鸿\u001b[0m\u001b[32m是一家\u001b[0m\u001b[32m专注于\u001b[0m\u001b[32m数字\u001b[0m\u001b[32m消防\u001b[0m\u001b[32m业务\u001b[0m\u001b[32m的公司\u001b[0m\u001b[32m，\u001b[0m\u001b[32m而\u001b[0m\u001b[32mtext\u001b[0m\u001b[32mlong\u001b[0m\u001b[32m是一个\u001b[0m\u001b[32m解决\u001b[0m\u001b[32m长\u001b[0m\u001b[32m文本\u001b[0m\u001b[32m生成的\u001b[0m\u001b[32m开源\u001b[0m\u001b[32m项目\u001b[0m\u001b[32m。\u001b[0m\u001b[32m这两\u001b[0m\u001b[32m者\u001b[0m\u001b[32m之间\u001b[0m\u001b[32m没有\u001b[0m\u001b[32m直接\u001b[0m\u001b[32m的关系\u001b[0m\u001b[32m。\u001b[0m\u001b[32m普\u001b[0m\u001b[32m鸿\u001b[0m\u001b[32m的业务\u001b[0m\u001b[32m与\u001b[0m\u001b[32m消防安全\u001b[0m\u001b[32m相关\u001b[0m\u001b[32m，\u001b[0m\u001b[32m而\u001b[0m\u001b[32mtext\u001b[0m\u001b[32mlong\u001b[0m\u001b[32m是一个\u001b[0m\u001b[32m文本\u001b[0m\u001b[32m生成\u001b[0m\u001b[32m工具\u001b[0m\u001b[32m。\u001b[0m\u001b[32m除非\u001b[0m\u001b[32m有\u001b[0m\u001b[32m额外的\u001b[0m\u001b[32m信息\u001b[0m\u001b[32m表明\u001b[0m\u001b[32m两者\u001b[0m\u001b[32m有\u001b[0m\u001b[32m合作\u001b[0m\u001b[32m或\u001b[0m\u001b[32m关联\u001b[0m\u001b[32m，\u001b[0m\u001b[32m否则\u001b[0m\u001b[32m它们\u001b[0m\u001b[32m是\u001b[0m\u001b[32m独立的\u001b[0m\u001b[32m实体\u001b[0m\u001b[32m。\u001b[0m\n",
      "\n",
      "[END] \u001b[34m【内容由幻蝶AI生成，其观点仅代表创作者个人立场，可登录 http://www.illufly.com 查验其校验码 68274506】\u001b[0m\n"
     ]
    },
    {
     "data": {
      "text/plain": [
       "'根据已知信息，普鸿是一家专注于数字消防业务的公司，而textlong是一个解决长文本生成的开源项目。这两者之间没有直接的关系。普鸿的业务与消防安全相关，而textlong是一个文本生成工具。除非有额外的信息表明两者有合作或关联，否则它们是独立的实体。'"
      ]
     },
     "execution_count": 15,
     "metadata": {},
     "output_type": "execute_result"
    }
   ],
   "source": [
    "log(a.chat(\"这家公司跟textlong有关系吗？\", k=1))"
   ]
  },
  {
   "cell_type": "code",
   "execution_count": 16,
   "id": "9cc0b1a5-5d44-4f84-9663-b22d1f10df7b",
   "metadata": {},
   "outputs": [
    {
     "name": "stdout",
     "output_type": "stream",
     "text": [
      "\u001b[32m根据\u001b[0m\u001b[32m已知\u001b[0m\u001b[32m信息\u001b[0m\u001b[32m，\u001b[0m\u001b[32mnever\u001b[0m\u001b[32mland\u001b[0m\u001b[32m是一个\u001b[0m\u001b[32mAI\u001b[0m\u001b[32m项目\u001b[0m\u001b[32m，\u001b[0m\u001b[32m用于\u001b[0m\u001b[32m知识\u001b[0m\u001b[32m助理\u001b[0m\u001b[32mAI\u001b[0m\u001b[32m的管理\u001b[0m\u001b[32m。\u001b[0m\u001b[32m与\u001b[0m\u001b[32m普\u001b[0m\u001b[32m鸿\u001b[0m\u001b[32m公司\u001b[0m\u001b[32m专注于\u001b[0m\u001b[32m数字\u001b[0m\u001b[32m消防\u001b[0m\u001b[32m业务\u001b[0m\u001b[32m和\u001b[0m\u001b[32mtext\u001b[0m\u001b[32mlong\u001b[0m\u001b[32m开源\u001b[0m\u001b[32m项目\u001b[0m\u001b[32m解决\u001b[0m\u001b[32m长\u001b[0m\u001b[32m文本\u001b[0m\u001b[32m生成\u001b[0m\u001b[32m的问题\u001b[0m\u001b[32m不同\u001b[0m\u001b[32m，\u001b[0m\u001b[32mnever\u001b[0m\u001b[32mland\u001b[0m\u001b[32m专注于\u001b[0m\u001b[32mAI\u001b[0m\u001b[32m管理和\u001b[0m\u001b[32m知识\u001b[0m\u001b[32m助理\u001b[0m\u001b[32m。\n",
      "\n",
      "因此\u001b[0m\u001b[32m，\u001b[0m\u001b[32mnever\u001b[0m\u001b[32mland\u001b[0m\u001b[32m与\u001b[0m\u001b[32m普\u001b[0m\u001b[32m鸿\u001b[0m\u001b[32m公司\u001b[0m\u001b[32m或\u001b[0m\u001b[32mtext\u001b[0m\u001b[32mlong\u001b[0m\u001b[32m项目\u001b[0m\u001b[32m之间\u001b[0m\u001b[32m也没有\u001b[0m\u001b[32m直接\u001b[0m\u001b[32m的关系\u001b[0m\u001b[32m。\u001b[0m\u001b[32m它们\u001b[0m\u001b[32m分别\u001b[0m\u001b[32m属于\u001b[0m\u001b[32m不同的\u001b[0m\u001b[32m领域\u001b[0m\u001b[32m和\u001b[0m\u001b[32m功能\u001b[0m\u001b[32m。\u001b[0m\n",
      "\n",
      "[END] \u001b[34m【内容由幻蝶AI生成，其观点仅代表创作者个人立场，可登录 http://www.illufly.com 查验其校验码 88301198】\u001b[0m\n"
     ]
    },
    {
     "data": {
      "text/plain": [
       "'根据已知信息，neverland是一个AI项目，用于知识助理AI的管理。与普鸿公司专注于数字消防业务和textlong开源项目解决长文本生成的问题不同，neverland专注于AI管理和知识助理。\\n\\n因此，neverland与普鸿公司或textlong项目之间也没有直接的关系。它们分别属于不同的领域和功能。'"
      ]
     },
     "execution_count": 16,
     "metadata": {},
     "output_type": "execute_result"
    }
   ],
   "source": [
    "log(a.chat(\"那么neverland呢？\", k=1))"
   ]
  },
  {
   "cell_type": "code",
   "execution_count": 17,
   "id": "b64ef49b-9fb9-4491-8070-ff602fbba1b1",
   "metadata": {},
   "outputs": [
    {
     "data": {
      "text/plain": [
       "[{'role': 'system',\n",
       "  'content': '你是强大的写作助手。\\n\\n你必须遵循以下约束来完成任务:\\n1. 直接输出你的结果，不要评论，不要啰嗦\\n2. 使用markdown格式输出\\n\\n**你的任务是:**\\ntextlong能干啥？\\n'},\n",
       " {'role': 'user', 'content': \"已知：'普鸿'是一家做数字消防业务的公司\"},\n",
       " {'role': 'assistant', 'content': 'OK, 我将利用这个知识回答后面问题。'},\n",
       " {'role': 'user', 'content': \"已知：'neverland'是一个AI项目，用于知识助理AI的管理\"},\n",
       " {'role': 'assistant', 'content': 'OK, 我将利用这个知识回答后面问题。'},\n",
       " {'role': 'user', 'content': \"已知：'textlong'是一个解决长文本生成的开源项目\"},\n",
       " {'role': 'assistant', 'content': 'OK, 我将利用这个知识回答后面问题。'},\n",
       " {'role': 'user', 'content': '请开始'},\n",
       " {'role': 'assistant',\n",
       "  'content': '# textlong能干啥？\\n\\ntextlong是一个开源项目，专注于解决长文本生成的挑战。以下是它的一些主要功能和用途：\\n\\n- **长文本生成**：textlong能够生成长篇文本，适用于各种应用场景，如内容创作、文本摘要、问答系统等。\\n- **开源**：textlong是开源的，意味着开发者可以自由地查看、修改和分发代码，有助于社区协作和创新。\\n- **多种语言支持**：该项目可能支持多种编程语言，便于开发者根据自己的需求选择合适的语言进行集成和使用。\\n- **可扩展性**：textlong可能具有良好的可扩展性，使得开发者可以根据具体需求调整模型大小和性能。\\n- **预训练模型**：该项目可能包含预训练的模型，方便用户直接使用，无需从头开始训练。\\n- **适应性强**：textlong可以适应不同的文本生成任务，如新闻生成、故事创作、对话生成等。'},\n",
       " {'role': 'user', 'content': '那普鸿是做什么的？'},\n",
       " {'role': 'assistant',\n",
       "  'content': '普鸿是一家专注于数字消防业务的公司。具体来说，它可能提供以下服务：\\n\\n- 数字消防系统解决方案：开发和管理数字化的消防监控系统。\\n- 消防安全咨询：为企业和机构提供消防安全风险评估和管理建议。\\n- 消防设备销售与维护：销售和维修消防设备，确保其正常运行。\\n- 消防安全培训：提供消防安全培训课程，提高公众的消防安全意识。\\n- 消防安全技术研发：研究和开发新的消防安全技术，提升消防行业的智能化水平。'},\n",
       " {'role': 'user', 'content': '这家公司跟textlong有关系吗？'},\n",
       " {'role': 'assistant',\n",
       "  'content': '根据已知信息，普鸿是一家专注于数字消防业务的公司，而textlong是一个解决长文本生成的开源项目。这两者之间没有直接的关系。普鸿的业务与消防安全相关，而textlong是一个文本生成工具。除非有额外的信息表明两者有合作或关联，否则它们是独立的实体。'},\n",
       " {'role': 'user', 'content': '那么neverland呢？'},\n",
       " {'role': 'assistant',\n",
       "  'content': '根据已知信息，neverland是一个AI项目，用于知识助理AI的管理。与普鸿公司专注于数字消防业务和textlong开源项目解决长文本生成的问题不同，neverland专注于AI管理和知识助理。\\n\\n因此，neverland与普鸿公司或textlong项目之间也没有直接的关系。它们分别属于不同的领域和功能。'}]"
      ]
     },
     "execution_count": 17,
     "metadata": {},
     "output_type": "execute_result"
    }
   ],
   "source": [
    "a.state.messages"
   ]
  },
  {
   "cell_type": "code",
   "execution_count": null,
   "id": "9fc34b92-7be6-4787-9ad7-7a38d6e809f9",
   "metadata": {},
   "outputs": [],
   "source": []
  }
 ],
 "metadata": {
  "kernelspec": {
   "display_name": "textlong-same-ipykernel",
   "language": "python",
   "name": "textlong-same-ipykernel"
  },
  "language_info": {
   "codemirror_mode": {
    "name": "ipython",
    "version": 3
   },
   "file_extension": ".py",
   "mimetype": "text/x-python",
   "name": "python",
   "nbconvert_exporter": "python",
   "pygments_lexer": "ipython3",
   "version": "3.10.0"
  }
 },
 "nbformat": 4,
 "nbformat_minor": 5
}
