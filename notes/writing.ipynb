{
 "cells": [
  {
   "cell_type": "code",
   "execution_count": 1,
   "id": "f3045be3-ca71-46ba-8fa3-f6d999a63a5c",
   "metadata": {},
   "outputs": [],
   "source": [
    "import os\n",
    "from dotenv import load_dotenv, find_dotenv\n",
    "load_dotenv(find_dotenv(), override=True)\n",
    "os.chdir('..')"
   ]
  },
  {
   "cell_type": "code",
   "execution_count": 2,
   "id": "1713b2a7-ccb1-4dd2-8a1b-f3de36e72486",
   "metadata": {},
   "outputs": [],
   "source": [
    "# os.environ.get(\"ZHIPUAI_API_KEY\")"
   ]
  },
  {
   "cell_type": "markdown",
   "id": "c9235cf3-0b5d-4682-9e0f-f1e395d03ee7",
   "metadata": {},
   "source": [
    "# WritingProject"
   ]
  },
  {
   "cell_type": "markdown",
   "id": "a6df8963-5911-4c6c-9564-8c1b0eb30db2",
   "metadata": {},
   "source": [
    "## 使用 help 指令"
   ]
  },
  {
   "cell_type": "code",
   "execution_count": null,
   "id": "3afebd33-0b49-4297-b197-190ef8c6d095",
   "metadata": {},
   "outputs": [],
   "source": [
    "from textlong import WritingTask\n",
    "\n",
    "t = WritingTask(\"abc\")\n",
    "t.invoke(\"help 我该如何使用？\")"
   ]
  },
  {
   "cell_type": "code",
   "execution_count": null,
   "id": "8335d55f-f43b-4f90-9696-695920eaa005",
   "metadata": {},
   "outputs": [],
   "source": [
    "# 也可以省略 help\n",
    "t.invoke(\"我该如何使用？\")"
   ]
  },
  {
   "cell_type": "markdown",
   "id": "dc8003b8-6cf9-4988-8d79-cfa85aa9d08c",
   "metadata": {},
   "source": [
    "## 切换 LLM"
   ]
  },
  {
   "cell_type": "code",
   "execution_count": null,
   "id": "25f8dc4a-7d86-47dd-8c8d-3bc3ae50e69e",
   "metadata": {},
   "outputs": [],
   "source": [
    "from textlong import WritingTask\n",
    "from langchain_openai import ChatOpenAI\n",
    "\n",
    "task = WritingTask(llm=ChatOpenAI())\n",
    "task.invoke(\"我该如何使用？\")"
   ]
  },
  {
   "cell_type": "markdown",
   "id": "1a559bde-0913-4601-9033-fdba9c265979",
   "metadata": {},
   "source": [
    "## 使用 invoke 方法"
   ]
  },
  {
   "cell_type": "code",
   "execution_count": null,
   "id": "ae344e34-dd8c-4e14-bbff-916c8c575893",
   "metadata": {},
   "outputs": [],
   "source": [
    "from textlong import WritingTask\n",
    "\n",
    "# 使用默认的智谱AI推理\n",
    "t = WritingTask()\n",
    "\n",
    "t.invoke(\"task 致孩子的一封信, 800字\")\n",
    "t.invoke(\"ok\")"
   ]
  },
  {
   "cell_type": "code",
   "execution_count": null,
   "id": "2570151a-d3bf-494e-bace-5c54c22a701a",
   "metadata": {},
   "outputs": [],
   "source": [
    "from textlong.projects import load_content, save_content\n",
    "t.tree.root._project_id\n",
    "save_content(t.tree.root)"
   ]
  },
  {
   "cell_type": "code",
   "execution_count": null,
   "id": "b5d0b09f-c6f2-4549-bc48-1ab1e39224a3",
   "metadata": {},
   "outputs": [],
   "source": [
    "t.invoke(\"ok\")"
   ]
  },
  {
   "cell_type": "code",
   "execution_count": null,
   "id": "a745244d-df0b-4144-92ed-a83de1163755",
   "metadata": {},
   "outputs": [],
   "source": [
    "t.invoke(\"ok\")"
   ]
  },
  {
   "cell_type": "code",
   "execution_count": null,
   "id": "6e884595-475a-4dda-9c20-fb1e471a25d5",
   "metadata": {},
   "outputs": [],
   "source": [
    "print(t.invoke(\"outlines\")['reply'])"
   ]
  },
  {
   "cell_type": "code",
   "execution_count": null,
   "id": "a4a4fd73-c38a-46b6-b0f9-95bdb2d8b00d",
   "metadata": {},
   "outputs": [],
   "source": [
    "print(t.invoke(\"texts\")['reply'])"
   ]
  },
  {
   "cell_type": "markdown",
   "id": "24c84c55-031d-49dc-8e64-d04c56723f59",
   "metadata": {},
   "source": [
    "## 使用 auto_write 方法"
   ]
  },
  {
   "cell_type": "code",
   "execution_count": 3,
   "id": "25637947-bd75-4933-aecf-963e8eab8318",
   "metadata": {},
   "outputs": [],
   "source": [
    "from textlong import WritingTask\n",
    "from textlong.projects import load_content, save_content, load_prompts, save_prompts"
   ]
  },
  {
   "cell_type": "code",
   "execution_count": 4,
   "id": "c8c963ee-1384-4333-8f7c-7671dc8d3b21",
   "metadata": {},
   "outputs": [],
   "source": [
    "# 使用默认的智谱AI推理\n",
    "t = WritingTask(\"abc\")"
   ]
  },
  {
   "cell_type": "code",
   "execution_count": 9,
   "id": "468cf6e0-af60-4725-8460-6c26a3c883bd",
   "metadata": {},
   "outputs": [
    {
     "name": "stdout",
     "output_type": "stream",
     "text": [
      "```json\n",
      "{\n",
      "    \"总字数要求\": 800,\n",
      "    \"标题名称\": \"致孩子的一封信：成长的寄语\",\n",
      "    \"扩写指南\": \"本文是一封父母给孩子写的信，信中应包含对孩子的关爱、期望以及对其成长的指导。可以提及孩子的兴趣爱好、性格特点，以及家庭的一些共同经历。信件语气温馨、鼓励为主，旨在传递父母的爱与支持。\"\n",
      "}\n",
      "```\n",
      "```json\n",
      "{\n",
      "    \"大纲列表\": [\n",
      "        {\n",
      "            \"总字数要求\": 300,\n",
      "            \"标题名称\": \"回顾与感恩\",\n",
      "            \"扩写指南\": \"描述孩子成长过程中的美好瞬间，表达对其成长的感慨与感恩。提及孩子的兴趣爱好和性格特点，以及这些特质给家庭带来的欢乐。\"\n",
      "        },\n",
      "        {\n",
      "            \"总字数要求\": 200,\n",
      "            \"标题名称\": \"成长的期望\",\n",
      "            \"扩写指南\": \"阐述父母对孩子未来的期望和希望，鼓励孩子在面对挑战时保持勇敢和坚韧。可以提及一些具体的品质和能力，如责任感、独立性等。\"\n",
      "        },\n",
      "        {\n",
      "            \"总字数要求\": 300,\n",
      "            \"标题名称\": \"爱的寄语\",\n",
      "            \"扩写指南\": \"总结信件，用温馨的语言表达对孩子无尽的爱与支持。鼓励孩子勇敢追求梦想，无论遇到什么困难，父母都会是其坚强的后盾。\"\n",
      "        }\n",
      "    ]\n",
      "}\n",
      "```\n",
      "```json\n",
      "{\n",
      "    \"详细内容\": \"亲爱的孩子，回想起你成长的点点滴滴，我们的心中充满了感慨与感恩。从你第一次蹒跚学步，到如今自信地走在人生的道路上，每一步都凝聚着你的努力与坚持。你的好奇心和探索精神让我们的家庭充满了欢声笑语。你对音乐的热爱，无论是在钢琴前沉浸的专注，还是在合唱团中的悠扬歌声，都给我们带来了无尽的欢乐。你的乐观与善良，不仅感染着周围的人，也让我们深感骄傲。在成长的道路上，你遇到的每一个挑战，都成为了你宝贵的财富，也让我们更加坚定地相信，你有能力面对未来的任何困难。\",\n",
      "    \"内容摘要\": \"本段回顾了孩子成长过程中的美好瞬间，包括学步、兴趣爱好（如音乐）、性格特点（乐观、善良），并表达了对孩子成长的感慨与感恩。\"\n",
      "}\n",
      "```\n",
      "```json\n",
      "{\n",
      "    \"详细内容\": \"在未来的日子里，我们对你有着更多的期望和希望。我们希望你能够保持勇敢和坚韧，无论遇到何种挑战，都能以责任感去面对，以独立性去解决。我们相信，你的内心有着强大的力量，能够让你在学习和生活中不断进步，成为一个有思想、有能力、有担当的人。我们期待你能够发现自己的潜能，不断追求卓越，同时也不忘关心他人，用你的善良和智慧去温暖这个世界。\",\n",
      "    \"内容摘要\": \"本段阐述了父母对孩子未来的期望和希望，强调了责任感、独立性等品质，鼓励孩子在面对挑战时保持勇敢和坚韧。\"\n",
      "}\n",
      "```\n",
      "```json\n",
      "{\n",
      "    \"详细内容\": \"最后，亲爱的孩子，请记住，无论你走到哪里，我们的爱都会伴随着你。在你追求梦想的路上，无论遇到什么样的风雨，我们都是你最坚强的后盾。不要害怕失败，不要畏惧困难，勇敢地去尝试，去挑战，去实现你的梦想。记住，家永远是你最温暖的港湾，我们永远在这里，为你守候，为你加油。愿你的未来充满希望，愿你的生活充满爱。\",\n",
      "    \"内容摘要\": \"总结信件，用温馨的语言表达对孩子无尽的爱与支持。鼓励孩子勇敢追求梦想，无论遇到什么困难，父母都会是其坚强的后盾。\"\n",
      "}\n",
      "```\n",
      "END\n"
     ]
    }
   ],
   "source": [
    "t2 = WritingTask()\n",
    "t2.auto_write(\"task 致孩子的一封信, 800字\")"
   ]
  },
  {
   "cell_type": "code",
   "execution_count": null,
   "id": "120fd913-36ed-46fe-b0ba-a2aa67d2babf",
   "metadata": {},
   "outputs": [],
   "source": [
    "save_content(t2)"
   ]
  },
  {
   "cell_type": "code",
   "execution_count": null,
   "id": "e3af85d5-cd2c-400c-a001-e2054dac5f25",
   "metadata": {},
   "outputs": [],
   "source": [
    "save_prompts(t)"
   ]
  },
  {
   "cell_type": "code",
   "execution_count": null,
   "id": "d80de8c9-f546-43a9-a56d-f4c68f88b942",
   "metadata": {},
   "outputs": [],
   "source": [
    "n = load_content(\"abc\")\n",
    "n.get_texts()"
   ]
  },
  {
   "cell_type": "code",
   "execution_count": null,
   "id": "d74e6955-c395-475f-bf14-4f2d88b57055",
   "metadata": {},
   "outputs": [],
   "source": [
    "t.tree"
   ]
  },
  {
   "cell_type": "code",
   "execution_count": 6,
   "id": "67b44963-a953-42b2-a3f9-097fc0974f09",
   "metadata": {},
   "outputs": [
    {
     "data": {
      "text/plain": [
       "{'command': 'outlines',\n",
       " 'args': None,\n",
       " 'reply': \"0 致孩子的一封信：成长的寄语 \\n  扩写指南 >>> 本文是一封父母给孩子写的信，信中应包含对孩子的关爱、成长的期望以及人生经验的分享。信中可以提及孩子的兴趣爱好、性格特点以及家庭的一些美好回忆。建议以温暖、鼓励的语气来表达，旨在传递父母对孩子的深情和对未来的美好祝愿。\\n  内容摘要 >>> \\n0.1 温暖的关爱 \\n  扩写指南 >>> 描述父母对孩子的深情关爱，提及孩子的小名、爱好以及日常生活中的点滴关心，营造出温馨的氛围。\\n  内容摘要 >>> [{'温暖的关爱': '父母对孩子的深情关爱，提及小名、爱好和日常关心。'}, {'成长的期望': '父母的期望包括品德、学业、兴趣爱好，强调自主选择和个性发展。'}, {'人生经验的分享': '父母分享人生经验，提供实用建议，强调家庭价值观的传承。'}]\\n0.2 成长的期望 \\n  扩写指南 >>> 表达父母对孩子成长的期望，包括品德修养、学业进步、兴趣爱好等方面的期许，同时强调孩子的自主选择和个性发展。\\n  内容摘要 >>> [{'内容续写摘要': '继续强调学业、品德、爱好三者的重要性，鼓励孩子保持个性，勇于探索和挑战。'}]\\n0.3 人生经验的分享 \\n  扩写指南 >>> 分享父母自己的人生经验，提出一些实用的建议和教训，帮助孩子更好地面对未来的挑战。可以穿插一些家庭美好回忆，强调家庭价值观的传承。\\n  内容摘要 >>> [{'内容续写摘要': '进一步强调面对失败的勇气，家庭美德的传承，以及回忆的珍贵，为孩子未来的成长提供精神支持。'}]\"}"
      ]
     },
     "execution_count": 6,
     "metadata": {},
     "output_type": "execute_result"
    }
   ],
   "source": [
    "t.invoke(\"outlines\")"
   ]
  },
  {
   "cell_type": "code",
   "execution_count": null,
   "id": "d7e0c171-a9f0-4cc6-a465-23005169c1d0",
   "metadata": {},
   "outputs": [],
   "source": [
    "load_content(\"abc\").get_outlines()"
   ]
  },
  {
   "cell_type": "markdown",
   "id": "8ef2ef85-5795-4c54-8215-e6347fa790b9",
   "metadata": {},
   "source": [
    "## 使用 repl_write 方法"
   ]
  },
  {
   "cell_type": "code",
   "execution_count": null,
   "id": "65201146",
   "metadata": {},
   "outputs": [],
   "source": [
    "from textlong import WritingTask\n",
    "\n",
    "# 使用默认的智谱AI推理\n",
    "t = WritingTask()\n",
    "\n",
    "t.repl_write(\"task 致孩子的一封信, 800字\")"
   ]
  },
  {
   "cell_type": "code",
   "execution_count": null,
   "id": "4659ce57-fc8d-40b6-9726-3eada8bbe91b",
   "metadata": {},
   "outputs": [],
   "source": [
    "t.tree.root._children[1].last_ai_reply_json"
   ]
  },
  {
   "cell_type": "markdown",
   "id": "75c0adda-ace7-49ac-a0bc-48f36090bb93",
   "metadata": {},
   "source": [
    "## save_prompts"
   ]
  },
  {
   "cell_type": "code",
   "execution_count": null,
   "id": "8725e427-edca-49a7-8028-8fffcada0a16",
   "metadata": {},
   "outputs": [],
   "source": [
    "from textlong.projects import load_prompts, save_prompts"
   ]
  },
  {
   "cell_type": "code",
   "execution_count": null,
   "id": "172eceee-a0fc-4fd9-be01-57e680d860ab",
   "metadata": {},
   "outputs": [],
   "source": [
    "save_prompts(t.tree.root)"
   ]
  },
  {
   "cell_type": "code",
   "execution_count": null,
   "id": "e55cca1c-1d31-4df0-8801-2643dfa66186",
   "metadata": {},
   "outputs": [],
   "source": []
  }
 ],
 "metadata": {
  "kernelspec": {
   "display_name": "langchani-book-py3.10-ipykernel",
   "language": "python",
   "name": "langchani-book-py3.10-ipykernel"
  },
  "language_info": {
   "codemirror_mode": {
    "name": "ipython",
    "version": 3
   },
   "file_extension": ".py",
   "mimetype": "text/x-python",
   "name": "python",
   "nbconvert_exporter": "python",
   "pygments_lexer": "ipython3",
   "version": "3.10.0"
  }
 },
 "nbformat": 4,
 "nbformat_minor": 5
}
