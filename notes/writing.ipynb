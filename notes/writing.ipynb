{
 "cells": [
  {
   "cell_type": "code",
   "execution_count": 1,
   "id": "f3045be3-ca71-46ba-8fa3-f6d999a63a5c",
   "metadata": {},
   "outputs": [],
   "source": [
    "import os\n",
    "from dotenv import load_dotenv, find_dotenv\n",
    "load_dotenv(find_dotenv(), override=True)\n",
    "os.chdir('..')"
   ]
  },
  {
   "cell_type": "code",
   "execution_count": 2,
   "id": "1713b2a7-ccb1-4dd2-8a1b-f3de36e72486",
   "metadata": {},
   "outputs": [],
   "source": [
    "# os.environ.get(\"ZHIPUAI_API_KEY\")"
   ]
  },
  {
   "cell_type": "markdown",
   "id": "c9235cf3-0b5d-4682-9e0f-f1e395d03ee7",
   "metadata": {},
   "source": [
    "# WritingProject"
   ]
  },
  {
   "cell_type": "markdown",
   "id": "1a559bde-0913-4601-9033-fdba9c265979",
   "metadata": {},
   "source": [
    "## step"
   ]
  },
  {
   "cell_type": "code",
   "execution_count": 3,
   "id": "ae344e34-dd8c-4e14-bbff-916c8c575893",
   "metadata": {},
   "outputs": [
    {
     "name": "stdout",
     "output_type": "stream",
     "text": [
      "{'command': 'task', 'args': '致孩子的一封信, 800字'}\n",
      "```json\n",
      "{\n",
      "    \"总字数要求\": 800,\n",
      "    \"标题名称\": \"致孩子的一封信：成长的寄语\",\n",
      "    \"扩写指南\": \"本文是一封表达父母对孩子深厚情感的信件。写作时，可以考虑包含以下内容：对孩子的爱及期望、回忆孩子成长中的美好时刻、对孩子未来成长的鼓励与建议。信中可提及具体的家庭故事或生活点滴，以增加情感的真实性和深度。\"\n",
      "}\n",
      "```\n",
      "{'command': 'ok', 'args': None}\n"
     ]
    },
    {
     "data": {
      "text/plain": [
       "{'command': 'ok', 'args': None, 'reply': 'todo'}"
      ]
     },
     "execution_count": 3,
     "metadata": {},
     "output_type": "execute_result"
    }
   ],
   "source": [
    "from textlong import WritingTask\n",
    "\n",
    "# 使用默认的智谱AI推理\n",
    "t = WritingTask()\n",
    "\n",
    "t.invoke(\"task 致孩子的一封信, 800字\")\n",
    "t.invoke(\"ok\")"
   ]
  },
  {
   "cell_type": "code",
   "execution_count": 4,
   "id": "b5d0b09f-c6f2-4549-bc48-1ab1e39224a3",
   "metadata": {},
   "outputs": [
    {
     "name": "stdout",
     "output_type": "stream",
     "text": [
      "{'command': 'ok', 'args': None}\n",
      "```json\n",
      "{\n",
      "    \"大纲列表\": [\n",
      "        {\n",
      "            \"总字数要求\": 300,\n",
      "            \"标题名称\": \"爱的絮语\",\n",
      "            \"扩写指南\": \"表达父母对孩子的深厚爱意，以及对孩子未来的期望和愿景。可以提及孩子小时候的趣事，以及父母在其中感受到的爱与快乐。\"\n",
      "        },\n",
      "        {\n",
      "            \"总字数要求\": 200,\n",
      "            \"标题名称\": \"成长的瞬间\",\n",
      "            \"扩写指南\": \"回忆孩子成长过程中的几个重要时刻，如第一次走路、第一次上学等，强调这些时刻对父母的意义，以及它们如何塑造了孩子的性格。\"\n",
      "        },\n",
      "        {\n",
      "            \"总字数要求\": 300,\n",
      "            \"标题名称\": \"未来的寄语\",\n",
      "            \"扩写指南\": \"对孩子未来的成长给予鼓励和建议，分享父母的人生经验，希望孩子能够勇敢面对挑战，坚持自我，追求梦想。\"\n",
      "        }\n",
      "    ]\n",
      "}\n",
      "```\n"
     ]
    },
    {
     "data": {
      "text/plain": [
       "{'command': 'ok',\n",
       " 'args': None,\n",
       " 'reply': {'大纲列表': [{'总字数要求': 300,\n",
       "    '标题名称': '爱的絮语',\n",
       "    '扩写指南': '表达父母对孩子的深厚爱意，以及对孩子未来的期望和愿景。可以提及孩子小时候的趣事，以及父母在其中感受到的爱与快乐。'},\n",
       "   {'总字数要求': 200,\n",
       "    '标题名称': '成长的瞬间',\n",
       "    '扩写指南': '回忆孩子成长过程中的几个重要时刻，如第一次走路、第一次上学等，强调这些时刻对父母的意义，以及它们如何塑造了孩子的性格。'},\n",
       "   {'总字数要求': 300,\n",
       "    '标题名称': '未来的寄语',\n",
       "    '扩写指南': '对孩子未来的成长给予鼓励和建议，分享父母的人生经验，希望孩子能够勇敢面对挑战，坚持自我，追求梦想。'}]}}"
      ]
     },
     "execution_count": 4,
     "metadata": {},
     "output_type": "execute_result"
    }
   ],
   "source": [
    "t.invoke(\"ok\")"
   ]
  },
  {
   "cell_type": "code",
   "execution_count": 5,
   "id": "a745244d-df0b-4144-92ed-a83de1163755",
   "metadata": {},
   "outputs": [
    {
     "name": "stdout",
     "output_type": "stream",
     "text": [
      "{'command': 'ok', 'args': None}\n"
     ]
    },
    {
     "data": {
      "text/plain": [
       "{'command': 'ok', 'args': None, 'reply': 'done'}"
      ]
     },
     "execution_count": 5,
     "metadata": {},
     "output_type": "execute_result"
    }
   ],
   "source": [
    "t.invoke(\"ok\")"
   ]
  },
  {
   "cell_type": "code",
   "execution_count": 9,
   "id": "6e884595-475a-4dda-9c20-fb1e471a25d5",
   "metadata": {},
   "outputs": [
    {
     "name": "stdout",
     "output_type": "stream",
     "text": [
      "{'command': 'outlines', 'args': None}\n",
      "0 致孩子的一封信：成长的寄语 \n",
      "  扩写指南 >>> 本文是一封表达父母对孩子深厚情感的信件。写作时，可以考虑包含以下内容：对孩子的爱及期望、回忆孩子成长中的美好时刻、对孩子未来成长的鼓励与建议。信中可提及具体的家庭故事或生活点滴，以增加情感的真实性和深度。\n",
      "  内容摘要 >>> None\n",
      "0.1 爱的絮语 \n",
      "  扩写指南 >>> 表达父母对孩子的深厚爱意，以及对孩子未来的期望和愿景。可以提及孩子小时候的趣事，以及父母在其中感受到的爱与快乐。\n",
      "  内容摘要 >>> None\n",
      "0.2 成长的瞬间 \n",
      "  扩写指南 >>> 回忆孩子成长过程中的几个重要时刻，如第一次走路、第一次上学等，强调这些时刻对父母的意义，以及它们如何塑造了孩子的性格。\n",
      "  内容摘要 >>> None\n",
      "0.3 未来的寄语 \n",
      "  扩写指南 >>> 对孩子未来的成长给予鼓励和建议，分享父母的人生经验，希望孩子能够勇敢面对挑战，坚持自我，追求梦想。\n",
      "  内容摘要 >>> None\n"
     ]
    }
   ],
   "source": [
    "print(t.invoke(\"outlines\")['reply'])"
   ]
  },
  {
   "cell_type": "code",
   "execution_count": 10,
   "id": "a4a4fd73-c38a-46b6-b0f9-95bdb2d8b00d",
   "metadata": {},
   "outputs": [
    {
     "name": "stdout",
     "output_type": "stream",
     "text": [
      "{'command': 'texts', 'args': None}\n",
      "0 致孩子的一封信：成长的寄语 \n",
      " \n",
      "0.1 爱的絮语 \n",
      " \n",
      "0.2 成长的瞬间 \n",
      " \n",
      "0.3 未来的寄语 \n",
      " \n"
     ]
    }
   ],
   "source": [
    "print(t.invoke(\"texts\")['reply'])"
   ]
  },
  {
   "cell_type": "markdown",
   "id": "24c84c55-031d-49dc-8e64-d04c56723f59",
   "metadata": {},
   "source": [
    "## auto"
   ]
  },
  {
   "cell_type": "code",
   "execution_count": 3,
   "id": "c8c963ee-1384-4333-8f7c-7671dc8d3b21",
   "metadata": {},
   "outputs": [
    {
     "name": "stdout",
     "output_type": "stream",
     "text": [
      "{'command': 'task', 'args': '致孩子的一封信, 800字'}\n",
      "```json\n",
      "{\n",
      "    \"总字数要求\": 800,\n",
      "    \"标题名称\": \"致孩子的一封信：成长的寄语\",\n",
      "    \"扩写指南\": \"本文是一封父母给孩子写的信，信中应包含温馨的问候、对孩子成长过程的回顾、对孩子性格和行为的肯定、对未来的期望和建议。信中可以提及具体的生活片段和孩子的兴趣爱好，以及父母对孩子的支持和鼓励。\"\n",
      "}\n",
      "```\n",
      "{'command': 'ok', 'args': None}\n",
      "{'command': 'todo', 'args': None}\n",
      "{'command': 'move', 'args': '0'}\n",
      "{'command': 'task', 'args': '请继续'}\n",
      "```json\n",
      "{\n",
      "    \"大纲列表\": [\n",
      "        {\n",
      "            \"总字数要求\": 300,\n",
      "            \"标题名称\": \"温暖的问候与回忆\",\n",
      "            \"扩写指南\": \"开头用温馨的话语向孩子问好，并回顾一些孩子成长中的美好瞬间，如第一次走路、第一次上学等。\"\n",
      "        },\n",
      "        {\n",
      "            \"总字数要求\": 200,\n",
      "            \"标题名称\": \"性格与行为的肯定\",\n",
      "            \"扩写指南\": \"赞扬孩子的性格优点和行为表现，如勇敢、善良、乐于助人等，可以结合具体事例进行描述。\"\n",
      "        },\n",
      "        {\n",
      "            \"总字数要求\": 200,\n",
      "            \"标题名称\": \"未来的期望与建议\",\n",
      "            \"扩写指南\": \"表达对孩子未来的期望，并提出一些建设性的建议，鼓励孩子追求梦想，同时也要学会面对挑战和困难。\"\n",
      "        },\n",
      "        {\n",
      "            \"总字数要求\": 100,\n",
      "            \"标题名称\": \"结尾的鼓励与支持\",\n",
      "            \"扩写指南\": \"在信的结尾再次给予孩子鼓励和支持，让孩子感受到父母永远是他们坚强的后盾。\"\n",
      "        }\n",
      "    ]\n",
      "}\n",
      "```\n",
      "{'command': 'ok', 'args': None}\n",
      "{'command': 'todo', 'args': None}\n",
      "{'command': 'move', 'args': '0.1'}\n",
      "{'command': 'task', 'args': '请继续'}\n",
      "```json\n",
      "{\n",
      "  \"详细内容\": \"亲爱的宝贝，每当清晨的第一缕阳光轻轻拂过你的脸颊，我都想用最温暖的话语向你问好。记得你第一次摇摇晃晃地迈出脚步，那勇敢的小模样深深印在我们的心里；还有你背上小书包，紧张又兴奋地去往学校的日子，那些成长的瞬间如同闪光的珍珠，串联起我们共同的回忆。\",\n",
      "  \"内容摘要\": \"父母以温馨的问候回顾孩子成长中的重要时刻，提及孩子第一次走路和第一次上学的经历，表达对这些美好瞬间的珍视。\"\n",
      "}\n",
      "```\n",
      "{'command': 'ok', 'args': None}\n",
      "{'command': 'todo', 'args': None}\n",
      "{'command': 'move', 'args': '0.2'}\n",
      "{'command': 'task', 'args': '请继续'}\n",
      "```json\n",
      "{\n",
      "  \"详细内容\": \"亲爱的孩子，你在成长的道路上展现出了许多令人称赞的品质。记得那次你在公园勇敢地救起了跌倒的小弟弟，你的善良和乐于助人让身边的人感到温暖。在学校的课堂上，你总是积极参与，用你的乐观影响周围的同学。这些美好的行为不仅体现了你的性格优点，也让我们为你感到自豪。\",\n",
      "  \"内容摘要\": \"本段肯定了孩子的勇敢、善良、乐于助人等性格优点，并通过具体事例（如救起跌倒的小弟弟、在课堂上乐观参与）进行描述，表达了父母对孩子行为的赞扬和自豪感。\"\n",
      "}\n",
      "```\n",
      "{'command': 'ok', 'args': None}\n",
      "{'command': 'todo', 'args': None}\n",
      "{'command': 'move', 'args': '0.3'}\n",
      "{'command': 'task', 'args': '请继续'}\n",
      "```json\n",
      "{\n",
      "  \"详细内容\": \"亲爱的孩子，我们对你的未来充满期待。你总是充满梦想，希望你能坚持追逐，无惧困难，勇敢前行。我们相信，你的勇敢、善良和乐于助人的品质，会是你通往成功的重要基石。在未来的道路上，记得要有计划地去实现你的梦想，不畏挑战，学会从失败中汲取经验。同时，保持你的好奇心和学习热情，不断充实自己，成为更优秀的人。我们也会一直陪伴你，给予你力量和支持。\",\n",
      "  \"内容摘要\": \"父母对孩子未来的期望和建议，鼓励孩子坚持梦想，学会面对挑战，保持学习和成长的热情，同时承诺给予持续的支持和陪伴。\"\n",
      "}\n",
      "```\n",
      "{'command': 'ok', 'args': None}\n",
      "{'command': 'todo', 'args': None}\n",
      "{'command': 'move', 'args': '0.4'}\n",
      "{'command': 'task', 'args': '请继续'}\n",
      "```json\n",
      "{\n",
      "  \"详细内容\": \"亲爱的孩子，无论你走到哪里，无论你面临什么样的挑战，记住，爸爸妈妈永远在你身后支持你。我们相信你的能力，相信你能勇敢面对生活的每一个难关。记住，失败是成功之母，每一次跌倒都将成为你成长的垫脚石。勇敢地去追求你的梦想，我们永远是你坚强的后盾。\",\n",
      "  \"内容摘要\": \"父母在信的结尾再次强调对孩子无限的支持和鼓励，提醒孩子无论遇到什么困难，都要勇敢面对，父母始终是他们最坚强的依靠。\"\n",
      "}\n",
      "```\n",
      "{'command': 'ok', 'args': None}\n",
      "{'command': 'todo', 'args': None}\n",
      "END\n"
     ]
    }
   ],
   "source": [
    "from textlong import WritingTask\n",
    "\n",
    "# 使用默认的智谱AI推理\n",
    "t = WritingTask()\n",
    "\n",
    "t.auto_write(\"task 致孩子的一封信, 800字\")"
   ]
  },
  {
   "cell_type": "code",
   "execution_count": null,
   "id": "67b44963-a953-42b2-a3f9-097fc0974f09",
   "metadata": {},
   "outputs": [],
   "source": [
    "t.invoke(\"nodes\")"
   ]
  },
  {
   "cell_type": "markdown",
   "id": "8ef2ef85-5795-4c54-8215-e6347fa790b9",
   "metadata": {},
   "source": [
    "## repl"
   ]
  },
  {
   "cell_type": "code",
   "execution_count": 19,
   "id": "65201146",
   "metadata": {},
   "outputs": [
    {
     "name": "stdout",
     "output_type": "stream",
     "text": [
      "{'command': 'task', 'args': '致孩子的一封信, 800字'}\n",
      "```json\n",
      "{\n",
      "    \"总字数要求\": 800,\n",
      "    \"标题名称\": \"致孩子的一封信：成长的寄语\",\n",
      "    \"扩写指南\": \"本文是一封父母给孩子写的信，内容应涵盖对子女成长的关怀、期望以及对其个性的认可。信中可以提及具体的生活点滴、教育理念以及父母对孩子的美好祝愿。涉及的人物为父母与孩子，地点可以是家庭环境，情节主要围绕亲子关系和成长话题展开。\"\n",
      "}\n",
      "```\n",
      "{'command': 'task', 'args': '致孩子的一封信, 800字', 'reply': {'总字数要求': 800, '标题名称': '致孩子的一封信：成长的寄语', '扩写指南': '本文是一封父母给孩子写的信，内容应涵盖对子女成长的关怀、期望以及对其个性的认可。信中可以提及具体的生活点滴、教育理念以及父母对孩子的美好祝愿。涉及的人物为父母与孩子，地点可以是家庭环境，情节主要围绕亲子关系和成长话题展开。'}}\n",
      "<0 #init> None\n",
      "['quit', 'move', 'todo', 'draft', 'all', 'title', 'words_advice', 'howto', 'summarise', 'text', 'state', 'memory', 'ok', 'todo', 'modi', 'task', 'help']\n"
     ]
    },
    {
     "name": "stdin",
     "output_type": "stream",
     "text": [
      "\n",
      "👤:  state\n"
     ]
    },
    {
     "name": "stdout",
     "output_type": "stream",
     "text": [
      "{'command': 'state', 'args': None}\n",
      "{'command': 'state', 'args': None, 'reply': {'id': '0', 'state': 'init', 'is_draft': True, 'is_complete': False}}\n",
      "<0 #init> None\n",
      "['quit', 'move', 'todo', 'draft', 'all', 'title', 'words_advice', 'howto', 'summarise', 'text', 'state', 'memory', 'ok', 'todo', 'modi', 'task', 'help']\n"
     ]
    },
    {
     "name": "stdin",
     "output_type": "stream",
     "text": [
      "\n",
      "👤:  ok\n"
     ]
    },
    {
     "name": "stdout",
     "output_type": "stream",
     "text": [
      "{'command': 'ok', 'args': None}\n",
      "{'command': 'ok', 'args': None, 'reply': 'todo'}\n",
      "<0 #todo> 致孩子的一封信：成长的寄语\n",
      "['quit', 'move', 'todo', 'draft', 'all', 'title', 'words_advice', 'howto', 'summarise', 'text', 'state', 'memory', 'ok', 'todo', 'modi', 'task', 'help']\n"
     ]
    },
    {
     "name": "stdin",
     "output_type": "stream",
     "text": [
      "\n",
      "👤:  state\n"
     ]
    },
    {
     "name": "stdout",
     "output_type": "stream",
     "text": [
      "{'command': 'state', 'args': None}\n",
      "{'command': 'state', 'args': None, 'reply': {'id': '0', 'state': 'todo', 'is_draft': False, 'is_complete': False}}\n",
      "<0 #todo> 致孩子的一封信：成长的寄语\n",
      "['quit', 'move', 'todo', 'draft', 'all', 'title', 'words_advice', 'howto', 'summarise', 'text', 'state', 'memory', 'ok', 'todo', 'modi', 'task', 'help']\n"
     ]
    },
    {
     "name": "stdin",
     "output_type": "stream",
     "text": [
      "\n",
      "👤:  ok\n"
     ]
    },
    {
     "name": "stdout",
     "output_type": "stream",
     "text": [
      "{'command': 'ok', 'args': None}\n",
      "```json\n",
      "{\n",
      "    \"大纲列表\": [\n",
      "        {\n",
      "            \"总字数要求\": 250,\n",
      "            \"标题名称\": \"回忆过去\",\n",
      "            \"扩写指南\": \"描述孩子成长过程中的温馨时刻，父母的观察和感受，以及这些时刻对孩子成长的意义。\"\n",
      "        },\n",
      "        {\n",
      "            \"总字数要求\": 250,\n",
      "            \"标题名称\": \"理解与支持\",\n",
      "            \"扩写指南\": \"阐述父母对孩子的个性理解和尊重，以及在孩子成长过程中如何提供支持和引导。\"\n",
      "        },\n",
      "        {\n",
      "            \"总字数要求\": 300,\n",
      "            \"标题名称\": \"寄语未来\",\n",
      "            \"扩写指南\": \"表达父母对孩子未来的期望和祝福，鼓励孩子勇敢面对挑战，坚持自我，追求梦想。\"\n",
      "        }\n",
      "    ]\n",
      "}\n",
      "```\n",
      "{'command': 'ok', 'args': None, 'reply': {'大纲列表': [{'总字数要求': 250, '标题名称': '回忆过去', '扩写指南': '描述孩子成长过程中的温馨时刻，父母的观察和感受，以及这些时刻对孩子成长的意义。'}, {'总字数要求': 250, '标题名称': '理解与支持', '扩写指南': '阐述父母对孩子的个性理解和尊重，以及在孩子成长过程中如何提供支持和引导。'}, {'总字数要求': 300, '标题名称': '寄语未来', '扩写指南': '表达父母对孩子未来的期望和祝福，鼓励孩子勇敢面对挑战，坚持自我，追求梦想。'}]}}\n",
      "<0 #todo> 致孩子的一封信：成长的寄语\n",
      "['quit', 'move', 'todo', 'draft', 'all', 'title', 'words_advice', 'howto', 'summarise', 'text', 'state', 'memory', 'ok', 'todo', 'modi', 'task', 'help']\n"
     ]
    },
    {
     "name": "stdin",
     "output_type": "stream",
     "text": [
      "\n",
      "👤:  title\n"
     ]
    },
    {
     "name": "stdout",
     "output_type": "stream",
     "text": [
      "{'command': 'title', 'args': None}\n",
      "{'command': 'title', 'args': None, 'reply': '致孩子的一封信：成长的寄语'}\n",
      "<0 #todo> 致孩子的一封信：成长的寄语\n",
      "['quit', 'move', 'todo', 'draft', 'all', 'title', 'words_advice', 'howto', 'summarise', 'text', 'state', 'memory', 'ok', 'todo', 'modi', 'task', 'help']\n"
     ]
    },
    {
     "name": "stdin",
     "output_type": "stream",
     "text": [
      "\n",
      "👤:  ok\n"
     ]
    },
    {
     "name": "stdout",
     "output_type": "stream",
     "text": [
      "{'command': 'ok', 'args': None}\n",
      "{'command': 'ok', 'args': None, 'reply': 'done'}\n",
      "{'command': 'todo', 'args': None}\n",
      "{'command': 'move', 'args': '0.1'}\n",
      "{'command': 'ok', 'args': None}\n",
      "{'command': 'task', 'args': '请继续'}\n",
      "```json\n",
      "{\n",
      "    \"详细内容\": \"亲爱的孩子，每当我闭上眼，脑海中便涌现出你成长中的一幕幕：你第一次摇摇晃晃地走路，跌倒后倔强地自己站起来；你在夜晚的灯光下，专注地拼读每一个字母；还有你第一次骑自行车，脸上洋溢着自豪的笑容。这些瞬间，虽小却温暖，它们如同珍珠般串起了我们共同的回忆。作为父母，我们见证了你的每一次尝试与进步，你的勇气和坚持让我们感到骄傲。这些经历，不仅塑造了你的性格，也为你的未来打下了坚实的基础。\",\n",
      "    \"内容摘要\": \"描述了孩子成长中的几个温馨时刻，包括学习走路、读书和骑自行车等，父母见证并感受到这些时刻对孩子成长的重要意义。\"\n",
      "}\n",
      "```\n",
      "<0.1 #todo> 回忆过去\n",
      "['quit', 'move', 'todo', 'draft', 'all', 'title', 'words_advice', 'howto', 'summarise', 'text', 'state', 'memory', 'ok', 'todo', 'modi', 'task', 'help']\n"
     ]
    },
    {
     "name": "stdin",
     "output_type": "stream",
     "text": [
      "\n",
      "👤:  title\n"
     ]
    },
    {
     "name": "stdout",
     "output_type": "stream",
     "text": [
      "{'command': 'title', 'args': None}\n",
      "{'command': 'title', 'args': None, 'reply': '回忆过去'}\n",
      "<0.1 #todo> 回忆过去\n",
      "['quit', 'move', 'todo', 'draft', 'all', 'title', 'words_advice', 'howto', 'summarise', 'text', 'state', 'memory', 'ok', 'todo', 'modi', 'task', 'help']\n"
     ]
    },
    {
     "name": "stdin",
     "output_type": "stream",
     "text": [
      "\n",
      "👤:  ok\n"
     ]
    },
    {
     "name": "stdout",
     "output_type": "stream",
     "text": [
      "{'command': 'ok', 'args': None}\n",
      "{'command': 'ok', 'args': None, 'reply': 'done'}\n",
      "{'command': 'todo', 'args': None}\n",
      "{'command': 'move', 'args': '0.2'}\n",
      "{'command': 'ok', 'args': None}\n",
      "{'command': 'task', 'args': '请继续'}\n",
      "```json\n",
      "{\n",
      "    \"详细内容\": \"亲爱的孩子，我们一直致力于理解你的独特个性，尊重你的选择和兴趣。在你成长的道路上，我们始终以温暖的目光注视着你，从学习走路时的蹒跚到读书时的专注，再到骑自行车时的自由驰骋。我们明白，每个孩子都是独立的个体，需要不同的支持与引导。因此，我们鼓励你去探索、去尝试，哪怕失败，也视为成长的宝贵经验。我们愿意倾听你的想法，和你一起面对困难，共同寻找解决问题的方法，让你在自信和爱中茁壮成长。\",\n",
      "    \"内容摘要\": \"父母表达了对孩子个性的理解和尊重，并承诺在孩子成长过程中提供鼓励、支持与引导，强调了探索与尝试的重要性，以及共同面对困难的家庭价值观。\"\n",
      "}\n",
      "```\n",
      "<0.2 #todo> 理解与支持\n",
      "['quit', 'move', 'todo', 'draft', 'all', 'title', 'words_advice', 'howto', 'summarise', 'text', 'state', 'memory', 'ok', 'todo', 'modi', 'task', 'help']\n"
     ]
    },
    {
     "name": "stdin",
     "output_type": "stream",
     "text": [
      "\n",
      "👤:  outlines\n"
     ]
    },
    {
     "name": "stdout",
     "output_type": "stream",
     "text": [
      "{'command': 'help', 'args': 'outlines'}\n",
      "根据您提供的内容，如果您是在询问“outlines”一词在上述文本中的应用或解释，以下是我为您准备的信息：\n",
      "\n",
      "在写作中，“outlines”通常指的是一个概括性的框架或概要，它展示了一个主题或故事的主要结构。在您提供的文本中，“outlines”可以这样理解：\n",
      "\n",
      "1. **详细内容**：\n",
      "   - 这部分内容并没有直接使用“outlines”这个词，但如果要概括这段话的要点，可以说它“outlines”（概述）了父母对孩子的教育理念和支持态度。\n",
      "   - **例句**：“这段话outlines了父母对孩子个性尊重、鼓励探索的家庭教育理念。”\n",
      "\n",
      "2. **内容摘要**：\n",
      "   - 这部分是对详细内容的简洁概括，它“outlines”（概述）了父母的态度、承诺以及家庭价值观的核心要点。\n",
      "   - **例句**：“内容摘要中outlines了父母愿意在孩子成长过程中提供必要的支持与引导。”\n",
      "\n",
      "在具体使用“outlines”这个词时，可以参考以下例句：\n",
      "\n",
      "- “作者用详细的叙述outlines了父母与孩子共同成长的温馨画面。”\n",
      "- “这篇文章的outlines清晰地展现了家庭教育的核心理念。”\n",
      "\n",
      "希望这些信息能够帮助您更好地理解“outlines”一词在文本中的应用。如果您有其他关于写作的问题或需要进一步的解释，请随时告诉我。\n",
      "{'command': 'help', 'args': 'outlines', 'reply': '根据您提供的内容，如果您是在询问“outlines”一词在上述文本中的应用或解释，以下是我为您准备的信息：\\n\\n在写作中，“outlines”通常指的是一个概括性的框架或概要，它展示了一个主题或故事的主要结构。在您提供的文本中，“outlines”可以这样理解：\\n\\n1. **详细内容**：\\n   - 这部分内容并没有直接使用“outlines”这个词，但如果要概括这段话的要点，可以说它“outlines”（概述）了父母对孩子的教育理念和支持态度。\\n   - **例句**：“这段话outlines了父母对孩子个性尊重、鼓励探索的家庭教育理念。”\\n\\n2. **内容摘要**：\\n   - 这部分是对详细内容的简洁概括，它“outlines”（概述）了父母的态度、承诺以及家庭价值观的核心要点。\\n   - **例句**：“内容摘要中outlines了父母愿意在孩子成长过程中提供必要的支持与引导。”\\n\\n在具体使用“outlines”这个词时，可以参考以下例句：\\n\\n- “作者用详细的叙述outlines了父母与孩子共同成长的温馨画面。”\\n- “这篇文章的outlines清晰地展现了家庭教育的核心理念。”\\n\\n希望这些信息能够帮助您更好地理解“outlines”一词在文本中的应用。如果您有其他关于写作的问题或需要进一步的解释，请随时告诉我。'}\n",
      "<0.2 #todo> 理解与支持\n",
      "['quit', 'move', 'todo', 'draft', 'all', 'title', 'words_advice', 'howto', 'summarise', 'text', 'state', 'memory', 'ok', 'todo', 'modi', 'task', 'help']\n"
     ]
    },
    {
     "name": "stdin",
     "output_type": "stream",
     "text": [
      "\n",
      "👤:  nodes\n"
     ]
    },
    {
     "name": "stdout",
     "output_type": "stream",
     "text": [
      "{'command': 'help', 'args': 'nodes'}\n",
      "在您提供的文本中，“nodes”这个词出现在两个不同的上下文中，分别指的是：\n",
      "\n",
      "1. **区块链网络中的节点**：\n",
      "   - 在参考信息[1]中，\"nodes\"指的是区块链网络中的各个独立计算实体，每个节点都参与网络的维护和数据存储。\n",
      "   - 例句：“在创建一个由三个节点组成的去中心化区块链网络中，每个节点对应不同的端口，并负责处理区块链的构建、交易验证等任务。”\n",
      "\n",
      "2. **前端开发中的树结构节点**：\n",
      "   - 在参考信息[2]中，\"nodes\"指的是前端开发中的Tree组件的各个分支点，即树结构中的每个元素。\n",
      "   - 例句：“在PrimeVue的Tree组件中，可以通过定义节点对象来初始化树的nodes，并控制它们的展开和折叠。”\n",
      "\n",
      "以下是关于“nodes”的一些一般性解释：\n",
      "\n",
      "- **计算机科学中的节点**：在计算机科学中，节点通常指的是网络、数据结构（如树、图）或分布式系统中的一个连接点或实体。\n",
      "- **网络中的节点**：在网络中，节点可以是任何连接到网络的设备，如计算机、服务器或传感器。\n",
      "- **数据结构中的节点**：在数据结构中，节点是构成结构的基本单元，例如链表中的每个元素或树结构中的每个分支点。\n",
      "\n",
      "在编写文档或解释相关概念时，使用“nodes”这个词有助于明确指代这些不同的实体或元素。\n",
      "{'command': 'help', 'args': 'nodes', 'reply': '在您提供的文本中，“nodes”这个词出现在两个不同的上下文中，分别指的是：\\n\\n1. **区块链网络中的节点**：\\n   - 在参考信息[1]中，\"nodes\"指的是区块链网络中的各个独立计算实体，每个节点都参与网络的维护和数据存储。\\n   - 例句：“在创建一个由三个节点组成的去中心化区块链网络中，每个节点对应不同的端口，并负责处理区块链的构建、交易验证等任务。”\\n\\n2. **前端开发中的树结构节点**：\\n   - 在参考信息[2]中，\"nodes\"指的是前端开发中的Tree组件的各个分支点，即树结构中的每个元素。\\n   - 例句：“在PrimeVue的Tree组件中，可以通过定义节点对象来初始化树的nodes，并控制它们的展开和折叠。”\\n\\n以下是关于“nodes”的一些一般性解释：\\n\\n- **计算机科学中的节点**：在计算机科学中，节点通常指的是网络、数据结构（如树、图）或分布式系统中的一个连接点或实体。\\n- **网络中的节点**：在网络中，节点可以是任何连接到网络的设备，如计算机、服务器或传感器。\\n- **数据结构中的节点**：在数据结构中，节点是构成结构的基本单元，例如链表中的每个元素或树结构中的每个分支点。\\n\\n在编写文档或解释相关概念时，使用“nodes”这个词有助于明确指代这些不同的实体或元素。'}\n",
      "<0.2 #todo> 理解与支持\n",
      "['quit', 'move', 'todo', 'draft', 'all', 'title', 'words_advice', 'howto', 'summarise', 'text', 'state', 'memory', 'ok', 'todo', 'modi', 'task', 'help']\n"
     ]
    },
    {
     "name": "stdin",
     "output_type": "stream",
     "text": [
      "\n",
      "👤:  title\n"
     ]
    },
    {
     "name": "stdout",
     "output_type": "stream",
     "text": [
      "{'command': 'title', 'args': None}\n",
      "{'command': 'title', 'args': None, 'reply': '理解与支持'}\n",
      "<0.2 #todo> 理解与支持\n",
      "['quit', 'move', 'todo', 'draft', 'all', 'title', 'words_advice', 'howto', 'summarise', 'text', 'state', 'memory', 'ok', 'todo', 'modi', 'task', 'help']\n"
     ]
    },
    {
     "name": "stdin",
     "output_type": "stream",
     "text": [
      "\n",
      "👤:  qiut\n"
     ]
    },
    {
     "name": "stdout",
     "output_type": "stream",
     "text": [
      "{'command': 'help', 'args': 'qiut'}\n",
      "I apologize for any confusion. It seems like there might have been a misunderstanding or a change in direction for the conversation. If you want to quit the current topic or end the conversation, that's perfectly fine. If you have any other questions or need assistance with something else in the future, feel free to reach out. Have a great day!\n",
      "{'command': 'help', 'args': 'qiut', 'reply': \"I apologize for any confusion. It seems like there might have been a misunderstanding or a change in direction for the conversation. If you want to quit the current topic or end the conversation, that's perfectly fine. If you have any other questions or need assistance with something else in the future, feel free to reach out. Have a great day!\"}\n",
      "<0.2 #todo> 理解与支持\n",
      "['quit', 'move', 'todo', 'draft', 'all', 'title', 'words_advice', 'howto', 'summarise', 'text', 'state', 'memory', 'ok', 'todo', 'modi', 'task', 'help']\n"
     ]
    },
    {
     "name": "stdin",
     "output_type": "stream",
     "text": [
      "\n",
      "👤:  quit\n"
     ]
    },
    {
     "name": "stdout",
     "output_type": "stream",
     "text": [
      "{'command': 'quit', 'args': None}\n",
      "{'command': 'quit', 'args': None, 'reply': '<QUIT>'}\n",
      "QUIT\n"
     ]
    }
   ],
   "source": [
    "from textlong import WritingTask\n",
    "\n",
    "# 使用默认的智谱AI推理\n",
    "t = WritingTask()\n",
    "\n",
    "t.repl_write(\"task 致孩子的一封信, 800字\")"
   ]
  },
  {
   "cell_type": "code",
   "execution_count": 33,
   "id": "4659ce57-fc8d-40b6-9726-3eada8bbe91b",
   "metadata": {},
   "outputs": [
    {
     "data": {
      "text/plain": [
       "{'详细内容': '亲爱的孩子，每当我闭上眼，脑海中便涌现出你成长中的一幕幕：你第一次摇摇晃晃地走路，跌倒后倔强地自己站起来；你在夜晚的灯光下，专注地拼读每一个字母；还有你第一次骑自行车，脸上洋溢着自豪的笑容。这些瞬间，虽小却温暖，它们如同珍珠般串起了我们共同的回忆。作为父母，我们见证了你的每一次尝试与进步，你的勇气和坚持让我们感到骄傲。这些经历，不仅塑造了你的性格，也为你的未来打下了坚实的基础。',\n",
       " '内容摘要': '描述了孩子成长中的几个温馨时刻，包括学习走路、读书和骑自行车等，父母见证并感受到这些时刻对孩子成长的重要意义。'}"
      ]
     },
     "execution_count": 33,
     "metadata": {},
     "output_type": "execute_result"
    }
   ],
   "source": [
    "t.tree.root._children[1].last_ai_reply_json"
   ]
  },
  {
   "cell_type": "code",
   "execution_count": null,
   "id": "56dfef4d-9ea9-443c-8836-f00392fc2a0d",
   "metadata": {},
   "outputs": [],
   "source": []
  }
 ],
 "metadata": {
  "kernelspec": {
   "display_name": "langchani-book-py3.10-ipykernel",
   "language": "python",
   "name": "langchani-book-py3.10-ipykernel"
  },
  "language_info": {
   "codemirror_mode": {
    "name": "ipython",
    "version": 3
   },
   "file_extension": ".py",
   "mimetype": "text/x-python",
   "name": "python",
   "nbconvert_exporter": "python",
   "pygments_lexer": "ipython3",
   "version": "3.10.0"
  }
 },
 "nbformat": 4,
 "nbformat_minor": 5
}
