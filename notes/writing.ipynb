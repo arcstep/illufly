{
 "cells": [
  {
   "cell_type": "code",
   "execution_count": 1,
   "id": "f3045be3-ca71-46ba-8fa3-f6d999a63a5c",
   "metadata": {},
   "outputs": [],
   "source": [
    "import os\n",
    "from dotenv import load_dotenv, find_dotenv\n",
    "load_dotenv(find_dotenv(), override=True)\n",
    "os.chdir('..')"
   ]
  },
  {
   "cell_type": "code",
   "execution_count": 2,
   "id": "1713b2a7-ccb1-4dd2-8a1b-f3de36e72486",
   "metadata": {},
   "outputs": [],
   "source": [
    "# os.environ.get(\"ZHIPUAI_API_KEY\")"
   ]
  },
  {
   "cell_type": "markdown",
   "id": "c9235cf3-0b5d-4682-9e0f-f1e395d03ee7",
   "metadata": {},
   "source": [
    "# WritingProject"
   ]
  },
  {
   "cell_type": "markdown",
   "id": "a6df8963-5911-4c6c-9564-8c1b0eb30db2",
   "metadata": {},
   "source": [
    "## 使用 help 指令"
   ]
  },
  {
   "cell_type": "code",
   "execution_count": 3,
   "id": "3afebd33-0b49-4297-b197-190ef8c6d095",
   "metadata": {},
   "outputs": [
    {
     "name": "stdout",
     "output_type": "stream",
     "text": [
      "亲，首先确保你已经安装了Python环境，并且已经安装了`textlong`包。以下是使用`textlong`包的基本步骤：\n",
      "\n",
      "1. 导入`WritingTask`模块。\n",
      "   ```python\n",
      "   from textlong import WritingTask\n",
      "   ```\n",
      "\n",
      "2. 创建一个`WritingTask`对象。\n",
      "   ```python\n",
      "   task = WritingTask()\n",
      "   ```\n",
      "   如果你使用的是ChatGPT，需要额外导入并设置：\n",
      "   ```python\n",
      "   from langchain_openai import ChatOpenAI\n",
      "   task = WritingTask(llm=ChatOpenAI())\n",
      "   ```\n",
      "\n",
      "3. 使用`invoke`方法来执行特定的指令。\n",
      "   ```python\n",
      "   task.invoke(\"task 致孩子的一封信, 800字\")\n",
      "   task.invoke(\"ok\")\n",
      "   ```\n",
      "\n",
      "4. 如果你想要自动生成并确认所有子任务，可以使用`auto_write`方法。\n",
      "   ```python\n",
      "   task.auto_write(\"task 致孩子的一封信, 800字\")\n",
      "   ```\n",
      "\n",
      "5. 如果你想要更细致地控制生成过程，可以使用`repl_write`方法。\n",
      "   ```python\n",
      "   task.repl_write(\"task 致孩子的一封信, 800字\")\n",
      "   ```\n",
      "   这将进入一个控制台循环，你可以在其中输入不同的指令来控制写作过程。\n",
      "\n",
      "亲，根据你的需要选择上述方法中的一个来开始你的写作任务。如果你需要更多帮助，可以告诉我你的具体需求，我会尽力指导你。\n"
     ]
    },
    {
     "data": {
      "text/plain": [
       "{'command': 'help',\n",
       " 'args': '我该如何使用？',\n",
       " 'reply': '亲，首先确保你已经安装了Python环境，并且已经安装了`textlong`包。以下是使用`textlong`包的基本步骤：\\n\\n1. 导入`WritingTask`模块。\\n   ```python\\n   from textlong import WritingTask\\n   ```\\n\\n2. 创建一个`WritingTask`对象。\\n   ```python\\n   task = WritingTask()\\n   ```\\n   如果你使用的是ChatGPT，需要额外导入并设置：\\n   ```python\\n   from langchain_openai import ChatOpenAI\\n   task = WritingTask(llm=ChatOpenAI())\\n   ```\\n\\n3. 使用`invoke`方法来执行特定的指令。\\n   ```python\\n   task.invoke(\"task 致孩子的一封信, 800字\")\\n   task.invoke(\"ok\")\\n   ```\\n\\n4. 如果你想要自动生成并确认所有子任务，可以使用`auto_write`方法。\\n   ```python\\n   task.auto_write(\"task 致孩子的一封信, 800字\")\\n   ```\\n\\n5. 如果你想要更细致地控制生成过程，可以使用`repl_write`方法。\\n   ```python\\n   task.repl_write(\"task 致孩子的一封信, 800字\")\\n   ```\\n   这将进入一个控制台循环，你可以在其中输入不同的指令来控制写作过程。\\n\\n亲，根据你的需要选择上述方法中的一个来开始你的写作任务。如果你需要更多帮助，可以告诉我你的具体需求，我会尽力指导你。'}"
      ]
     },
     "execution_count": 3,
     "metadata": {},
     "output_type": "execute_result"
    }
   ],
   "source": [
    "from textlong import WritingTask\n",
    "\n",
    "t = WritingTask(\"abc\")\n",
    "t.invoke(\"help 我该如何使用？\")"
   ]
  },
  {
   "cell_type": "code",
   "execution_count": 7,
   "id": "8335d55f-f43b-4f90-9696-695920eaa005",
   "metadata": {},
   "outputs": [
    {
     "name": "stdout",
     "output_type": "stream",
     "text": [
      "大兄弟，看起来你可能是想了解如何使用某个系统或者功能。不过，我需要具体的提问才能帮你解答。你有什么关于系统使用的问题吗？请告诉我，我会尽力帮你解答的。\n"
     ]
    },
    {
     "data": {
      "text/plain": [
       "{'command': 'help',\n",
       " 'args': '我该如何使用？',\n",
       " 'reply': '大兄弟，看起来你可能是想了解如何使用某个系统或者功能。不过，我需要具体的提问才能帮你解答。你有什么关于系统使用的问题吗？请告诉我，我会尽力帮你解答的。'}"
      ]
     },
     "execution_count": 7,
     "metadata": {},
     "output_type": "execute_result"
    }
   ],
   "source": [
    "# 也可以省略 help\n",
    "t.invoke(\"我该如何使用？\")"
   ]
  },
  {
   "cell_type": "markdown",
   "id": "dc8003b8-6cf9-4988-8d79-cfa85aa9d08c",
   "metadata": {},
   "source": [
    "## 切换 LLM"
   ]
  },
  {
   "cell_type": "code",
   "execution_count": 4,
   "id": "25f8dc4a-7d86-47dd-8c8d-3bc3ae50e69e",
   "metadata": {},
   "outputs": [
    {
     "name": "stdout",
     "output_type": "stream",
     "text": [
      "亲，你可以按照以下步骤使用WritingTask模块：\n",
      "\n",
      "1. 首先，你需要创建一个`WritingTask`对象，可以选择使用默认的智谱AI，也可以使用其他LLM模型。例如：\n",
      "\n",
      "```python\n",
      "from textlong import WritingTask\n",
      "from langchain_openai import ChatOpenAI\n",
      "\n",
      "task = WritingTask()  # 默认使用智谱AI\n",
      "# 或者\n",
      "task = WritingTask(llm=ChatOpenAI())  # 使用ChatGPT\n",
      "```\n",
      "\n",
      "2. 然后，你可以使用`invoke`方法调用命令来指导AI生成文本。例如，使用`task`命令生成一篇800字的信：\n",
      "\n",
      "```python\n",
      "task.invoke(\"task 致孩子的一封信, 800字\")\n",
      "```\n",
      "\n",
      "3. 如果你想一次性生成所有子任务并确认完成，可以使用`auto_write`方法。例如：\n",
      "\n",
      "```python\n",
      "task.auto_write(\"task 致孩子的一封信, 800字\")\n",
      "```\n",
      "\n",
      "4. 如果你希望精细控制生成过程，可以使用`repl_write`方法。这将进入一个控制台循环，在其中你可以输入不同的命令来控制生成过程。例如：\n",
      "\n",
      "```python\n",
      "task.repl_write(\"task 致孩子的一封信, 800字\")\n",
      "```\n",
      "\n",
      "在控制台循环中，你可以输入`ok`命令来保存AI生成的内容，也可以使用其他命令来修改生成指南、重新生成等。\n",
      "\n",
      "这就是使用WritingTask模块的基本操作步骤。希望对你有帮助！如果还有其他问题，请随时提问。\n"
     ]
    },
    {
     "data": {
      "text/plain": [
       "{'command': 'help',\n",
       " 'args': '我该如何使用？',\n",
       " 'reply': '亲，你可以按照以下步骤使用WritingTask模块：\\n\\n1. 首先，你需要创建一个`WritingTask`对象，可以选择使用默认的智谱AI，也可以使用其他LLM模型。例如：\\n\\n```python\\nfrom textlong import WritingTask\\nfrom langchain_openai import ChatOpenAI\\n\\ntask = WritingTask()  # 默认使用智谱AI\\n# 或者\\ntask = WritingTask(llm=ChatOpenAI())  # 使用ChatGPT\\n```\\n\\n2. 然后，你可以使用`invoke`方法调用命令来指导AI生成文本。例如，使用`task`命令生成一篇800字的信：\\n\\n```python\\ntask.invoke(\"task 致孩子的一封信, 800字\")\\n```\\n\\n3. 如果你想一次性生成所有子任务并确认完成，可以使用`auto_write`方法。例如：\\n\\n```python\\ntask.auto_write(\"task 致孩子的一封信, 800字\")\\n```\\n\\n4. 如果你希望精细控制生成过程，可以使用`repl_write`方法。这将进入一个控制台循环，在其中你可以输入不同的命令来控制生成过程。例如：\\n\\n```python\\ntask.repl_write(\"task 致孩子的一封信, 800字\")\\n```\\n\\n在控制台循环中，你可以输入`ok`命令来保存AI生成的内容，也可以使用其他命令来修改生成指南、重新生成等。\\n\\n这就是使用WritingTask模块的基本操作步骤。希望对你有帮助！如果还有其他问题，请随时提问。'}"
      ]
     },
     "execution_count": 4,
     "metadata": {},
     "output_type": "execute_result"
    }
   ],
   "source": [
    "from textlong import WritingTask\n",
    "from langchain_openai import ChatOpenAI\n",
    "\n",
    "task = WritingTask(llm=ChatOpenAI())\n",
    "task.invoke(\"我该如何使用？\")"
   ]
  },
  {
   "cell_type": "markdown",
   "id": "1a559bde-0913-4601-9033-fdba9c265979",
   "metadata": {},
   "source": [
    "## 使用 invoke 方法"
   ]
  },
  {
   "cell_type": "code",
   "execution_count": 3,
   "id": "ae344e34-dd8c-4e14-bbff-916c8c575893",
   "metadata": {},
   "outputs": [
    {
     "name": "stdout",
     "output_type": "stream",
     "text": [
      "```json\n",
      "{\n",
      "  \"总字数要求\": 800,\n",
      "  \"标题名称\": \"致孩子的一封信：愿你健康成长\",\n",
      "  \"扩写指南\": \"本文是一封父母给孩子写的信，信中应包含对孩子的关爱、期望以及对其成长的鼓励。信中可以提及孩子的兴趣爱好、性格特点以及家庭的一些温馨时刻。此外，可以给出一些人生经验和建议，引导孩子树立正确的价值观。\"\n",
      "}\n",
      "```\n"
     ]
    },
    {
     "data": {
      "text/plain": [
       "{'command': 'ok', 'args': None, 'reply': 'todo'}"
      ]
     },
     "execution_count": 3,
     "metadata": {},
     "output_type": "execute_result"
    }
   ],
   "source": [
    "from textlong import WritingTask\n",
    "\n",
    "# 使用默认的智谱AI推理\n",
    "t = WritingTask()\n",
    "\n",
    "t.invoke(\"task 致孩子的一封信, 800字\")\n",
    "t.invoke(\"ok\")"
   ]
  },
  {
   "cell_type": "code",
   "execution_count": 13,
   "id": "2570151a-d3bf-494e-bace-5c54c22a701a",
   "metadata": {},
   "outputs": [
    {
     "data": {
      "text/plain": [
       "True"
      ]
     },
     "execution_count": 13,
     "metadata": {},
     "output_type": "execute_result"
    }
   ],
   "source": [
    "from textlong.projects import load_content, save_content\n",
    "t.tree.root._project_id\n",
    "save_content(t.tree.root)"
   ]
  },
  {
   "cell_type": "code",
   "execution_count": 6,
   "id": "b5d0b09f-c6f2-4549-bc48-1ab1e39224a3",
   "metadata": {},
   "outputs": [
    {
     "name": "stdout",
     "output_type": "stream",
     "text": [
      "```json\n",
      "{\n",
      "  \"大纲列表\": [\n",
      "    {\n",
      "      \"总字数要求\": 300,\n",
      "      \"标题名称\": \"温暖的关爱与期望\",\n",
      "      \"扩写指南\": \"描述父母对孩子的深深关爱，表达对孩子未来的期望，提及孩子的兴趣爱好和性格优点，为孩子树立信心。\"\n",
      "    },\n",
      "    {\n",
      "      \"总字数要求\": 200,\n",
      "      \"标题名称\": \"家庭温馨时刻\",\n",
      "      \"扩写指南\": \"回顾家庭中的快乐时光，如一起度过的节日、旅行经历或日常生活中的小确幸，强调家庭对孩子成长的重要性。\"\n",
      "    },\n",
      "    {\n",
      "      \"总字数要求\": 300,\n",
      "      \"标题名称\": \"人生经验与建议\",\n",
      "      \"扩写指南\": \"分享父母的人生经验和智慧，给出针对孩子成长阶段的建议，引导孩子形成正确的价值观和面对困难的态度。\"\n",
      "    }\n",
      "  ]\n",
      "}\n",
      "```\n"
     ]
    },
    {
     "data": {
      "text/plain": [
       "{'command': 'ok',\n",
       " 'args': None,\n",
       " 'reply': {'大纲列表': [{'总字数要求': 300,\n",
       "    '标题名称': '温暖的关爱与期望',\n",
       "    '扩写指南': '描述父母对孩子的深深关爱，表达对孩子未来的期望，提及孩子的兴趣爱好和性格优点，为孩子树立信心。'},\n",
       "   {'总字数要求': 200,\n",
       "    '标题名称': '家庭温馨时刻',\n",
       "    '扩写指南': '回顾家庭中的快乐时光，如一起度过的节日、旅行经历或日常生活中的小确幸，强调家庭对孩子成长的重要性。'},\n",
       "   {'总字数要求': 300,\n",
       "    '标题名称': '人生经验与建议',\n",
       "    '扩写指南': '分享父母的人生经验和智慧，给出针对孩子成长阶段的建议，引导孩子形成正确的价值观和面对困难的态度。'}]}}"
      ]
     },
     "execution_count": 6,
     "metadata": {},
     "output_type": "execute_result"
    }
   ],
   "source": [
    "t.invoke(\"ok\")"
   ]
  },
  {
   "cell_type": "code",
   "execution_count": 7,
   "id": "a745244d-df0b-4144-92ed-a83de1163755",
   "metadata": {},
   "outputs": [
    {
     "data": {
      "text/plain": [
       "{'command': 'ok', 'args': None, 'reply': 'done'}"
      ]
     },
     "execution_count": 7,
     "metadata": {},
     "output_type": "execute_result"
    }
   ],
   "source": [
    "t.invoke(\"ok\")"
   ]
  },
  {
   "cell_type": "code",
   "execution_count": 8,
   "id": "6e884595-475a-4dda-9c20-fb1e471a25d5",
   "metadata": {},
   "outputs": [
    {
     "name": "stdout",
     "output_type": "stream",
     "text": [
      "0 致孩子的一封信：愿你健康成长 \n",
      "  扩写指南 >>> 本文是一封父母给孩子写的信，信中应包含对孩子的关爱、期望以及对其成长的鼓励。信中可以提及孩子的兴趣爱好、性格特点以及家庭的一些温馨时刻。此外，可以给出一些人生经验和建议，引导孩子树立正确的价值观。\n",
      "  内容摘要 >>> \n",
      "0.1 温暖的关爱与期望 \n",
      "  扩写指南 >>> 描述父母对孩子的深深关爱，表达对孩子未来的期望，提及孩子的兴趣爱好和性格优点，为孩子树立信心。\n",
      "  内容摘要 >>> \n",
      "0.2 家庭温馨时刻 \n",
      "  扩写指南 >>> 回顾家庭中的快乐时光，如一起度过的节日、旅行经历或日常生活中的小确幸，强调家庭对孩子成长的重要性。\n",
      "  内容摘要 >>> \n",
      "0.3 人生经验与建议 \n",
      "  扩写指南 >>> 分享父母的人生经验和智慧，给出针对孩子成长阶段的建议，引导孩子形成正确的价值观和面对困难的态度。\n",
      "  内容摘要 >>> \n"
     ]
    }
   ],
   "source": [
    "print(t.invoke(\"outlines\")['reply'])"
   ]
  },
  {
   "cell_type": "code",
   "execution_count": 7,
   "id": "a4a4fd73-c38a-46b6-b0f9-95bdb2d8b00d",
   "metadata": {},
   "outputs": [
    {
     "name": "stdout",
     "output_type": "stream",
     "text": [
      "{'command': 'texts', 'args': None}\n",
      "0 致孩子的一封信：成长的寄语 \n",
      " \n",
      "0.1 爱的肯定 \n",
      " \n",
      "0.2 面对挑战 \n",
      " \n",
      "0.3 家庭期望与支持 \n",
      " \n",
      "0.4 美好祝愿 \n",
      " \n"
     ]
    }
   ],
   "source": [
    "print(t.invoke(\"texts\")['reply'])"
   ]
  },
  {
   "cell_type": "markdown",
   "id": "24c84c55-031d-49dc-8e64-d04c56723f59",
   "metadata": {},
   "source": [
    "## 使用 auto_write 方法"
   ]
  },
  {
   "cell_type": "code",
   "execution_count": 4,
   "id": "25637947-bd75-4933-aecf-963e8eab8318",
   "metadata": {},
   "outputs": [],
   "source": [
    "from textlong import WritingTask\n",
    "from textlong.projects import load_content, save_content, load_prompts, save_prompts"
   ]
  },
  {
   "cell_type": "code",
   "execution_count": 5,
   "id": "c8c963ee-1384-4333-8f7c-7671dc8d3b21",
   "metadata": {},
   "outputs": [
    {
     "name": "stdout",
     "output_type": "stream",
     "text": [
      "```json\n",
      "{\n",
      "  \"总字数要求\": 800,\n",
      "  \"标题名称\": \"致孩子的一封信：成长的寄语\",\n",
      "  \"扩写指南\": \"本文是一封父母给孩子写的信，信中应包含对孩子的关爱、成长的期望以及人生经验的分享。信中可以提及孩子的兴趣爱好、性格特点以及家庭的一些美好回忆。建议以温暖、鼓励的语气来表达，旨在传递父母对孩子的深情和对未来的美好祝愿。\"\n",
      "}\n",
      "```\n",
      "```json\n",
      "{\n",
      "  \"大纲列表\": [\n",
      "    {\n",
      "      \"总字数要求\": 300,\n",
      "      \"标题名称\": \"温暖的关爱\",\n",
      "      \"扩写指南\": \"描述父母对孩子的深情关爱，提及孩子的小名、爱好以及日常生活中的点滴关心，营造出温馨的氛围。\"\n",
      "    },\n",
      "    {\n",
      "      \"总字数要求\": 200,\n",
      "      \"标题名称\": \"成长的期望\",\n",
      "      \"扩写指南\": \"表达父母对孩子成长的期望，包括品德修养、学业进步、兴趣爱好等方面的期许，同时强调孩子的自主选择和个性发展。\"\n",
      "    },\n",
      "    {\n",
      "      \"总字数要求\": 300,\n",
      "      \"标题名称\": \"人生经验的分享\",\n",
      "      \"扩写指南\": \"分享父母自己的人生经验，提出一些实用的建议和教训，帮助孩子更好地面对未来的挑战。可以穿插一些家庭美好回忆，强调家庭价值观的传承。\"\n",
      "    }\n",
      "  ]\n",
      "}\n",
      "```\n",
      "```json\n",
      "{\n",
      "  \"详细内容\": [\n",
      "    {\n",
      "      \"温暖的关爱\": \"亲爱的小星星，自从你来到我们的世界，你就成为了爸爸妈妈生活中最亮的那颗星。你喜欢画画，每次看到你专注的神情，我们都能感受到你对美的追求。记得你感冒的那几天，我们日夜守在你的床前，给你讲故事，希望能减轻你的不适。生活中的每一个小细节，都让我们更加深刻地体会到，有你，我们的生活变得更加丰富多彩。\"\n",
      "    },\n",
      "    {\n",
      "      \"成长的期望\": \"我们希望你，不仅仅在学业上能够不断进步，更希望你能够成为一个有爱心、有责任感的人。你的每一个兴趣爱好，我们都会全力支持，希望你能坚持自己的梦想，勇敢地追求，保持你的个性和创造力。\"\n",
      "    },\n",
      "    {\n",
      "      \"人生经验的分享\": \"在你成长的道路上，爸爸妈妈也有一些经验想要和你分享。记住，人生不会总是一帆风顺，但每一次挑战都是一次成长的机会。我们要你记住，无论何时，家永远是你最坚强的后盾。我们传承给你的不仅是爱，还有我们的家庭价值观，希望这能成为你人生旅途中的指南针。\"\n",
      "    }\n",
      "  ],\n",
      "  \"内容摘要\": [\n",
      "    {\n",
      "      \"温暖的关爱\": \"父母对孩子的深情关爱，提及小名、爱好和日常关心。\"\n",
      "    },\n",
      "    {\n",
      "      \"成长的期望\": \"父母的期望包括品德、学业、兴趣爱好，强调自主选择和个性发展。\"\n",
      "    },\n",
      "    {\n",
      "      \"人生经验的分享\": \"父母分享人生经验，提供实用建议，强调家庭价值观的传承。\"\n",
      "    }\n",
      "  ]\n",
      "}\n",
      "```\n",
      "!Please note, I cannot create the full 800-word letter in the strict JSON format you've requested, as the 500-character limit for a single response is not enough to encompass the entire letter. However, I can provide you with a continuation of the previous JSON snippet. Here's the continuation for the second part of the letter, following the same structure:\n",
      "\n",
      "```json\n",
      "{\n",
      "  \"详细内容\": [\n",
      "    {\n",
      "      \"内容续写\": \"在这个快速变化的世界里，我们希望你能保持对知识的渴望，勇于探索未知，勇于面对挑战。在学业上，我们不强求你名列前茅，但希望你能够努力不懈，追求卓越。在品德修养上，我们希望你能够坚守诚信，尊重他人，乐于助人。你的兴趣爱好，无论是音乐、体育还是其他，都是你个性的体现，我们鼓励你坚持下去，从中获得快乐和成长。\"\n",
      "    }\n",
      "  ],\n",
      "  \"内容摘要\": [\n",
      "    {\n",
      "      \"内容续写摘要\": \"继续强调学业、品德、爱好三者的重要性，鼓励孩子保持个性，勇于探索和挑战。\"\n",
      "    }\n",
      "  ]\n",
      "}\n",
      "```\n",
      "\n",
      "Please combine this snippet with the previous one to get the complete structure of the letter. If you need the full 800-word letter, you may need to concatenate multiple responses or request the full text in a single response, which exceeds the character limit of this platform.\n",
      "```json\n",
      "{\n",
      "  \"详细内容\": [\n",
      "    {\n",
      "      \"内容续写\": \"亲爱的孩子，人生的道路充满了未知和变数，我们希望你能以勇敢和智慧去迎接它们。记住，失败并不可怕，它是成功路上的必经之路。我们要你学会从失败中汲取教训，勇敢地站起来，再次尝试。在我们的家庭中，我们一直秉承着尊重和理解的价值观，我们希望你能将这些美德带入你的生活，与他人和谐相处。此外，不要忘记那些和家人一起度过的美好时光，它们是你在人生旅途中的宝贵财富，无论何时何地，都能给你带来温暖和力量。\"\n",
      "    }\n",
      "  ],\n",
      "  \"内容摘要\": [\n",
      "    {\n",
      "      \"内容续写摘要\": \"进一步强调面对失败的勇气，家庭美德的传承，以及回忆的珍贵，为孩子未来的成长提供精神支持。\"\n",
      "    }\n",
      "  ]\n",
      "}\n",
      "```\n",
      "END\n"
     ]
    }
   ],
   "source": [
    "# 使用默认的智谱AI推理\n",
    "t = WritingTask(\"abc\")\n",
    "\n",
    "t.auto_write(\"task 致孩子的一封信, 800字\")"
   ]
  },
  {
   "cell_type": "code",
   "execution_count": 6,
   "id": "120fd913-36ed-46fe-b0ba-a2aa67d2babf",
   "metadata": {},
   "outputs": [
    {
     "data": {
      "text/plain": [
       "True"
      ]
     },
     "execution_count": 6,
     "metadata": {},
     "output_type": "execute_result"
    }
   ],
   "source": [
    "save_content(t.tree.root)"
   ]
  },
  {
   "cell_type": "code",
   "execution_count": 7,
   "id": "e3af85d5-cd2c-400c-a001-e2054dac5f25",
   "metadata": {},
   "outputs": [
    {
     "data": {
      "text/plain": [
       "True"
      ]
     },
     "execution_count": 7,
     "metadata": {},
     "output_type": "execute_result"
    }
   ],
   "source": [
    "save_prompts(t.tree.root)"
   ]
  },
  {
   "cell_type": "code",
   "execution_count": 8,
   "id": "d80de8c9-f546-43a9-a56d-f4c68f88b942",
   "metadata": {},
   "outputs": [
    {
     "name": "stdout",
     "output_type": "stream",
     "text": [
      "0 致孩子的一封信：成长的寄语 \n",
      " \n",
      "0.1 温暖的关爱 \n",
      " [{'温暖的关爱': '亲爱的小星星，自从你来到我们的世界，你就成为了爸爸妈妈生活中最亮的那颗星。你喜欢画画，每次看到你专注的神情，我们都能感受到你对美的追求。记得你感冒的那几天，我们日夜守在你的床前，给你讲故事，希望能减轻你的不适。生活中的每一个小细节，都让我们更加深刻地体会到，有你，我们的生活变得更加丰富多彩。'}, {'成长的期望': '我们希望你，不仅仅在学业上能够不断进步，更希望你能够成为一个有爱心、有责任感的人。你的每一个兴趣爱好，我们都会全力支持，希望你能坚持自己的梦想，勇敢地追求，保持你的个性和创造力。'}, {'人生经验的分享': '在你成长的道路上，爸爸妈妈也有一些经验想要和你分享。记住，人生不会总是一帆风顺，但每一次挑战都是一次成长的机会。我们要你记住，无论何时，家永远是你最坚强的后盾。我们传承给你的不仅是爱，还有我们的家庭价值观，希望这能成为你人生旅途中的指南针。'}]\n",
      "0.2 成长的期望 \n",
      " [{'内容续写': '在这个快速变化的世界里，我们希望你能保持对知识的渴望，勇于探索未知，勇于面对挑战。在学业上，我们不强求你名列前茅，但希望你能够努力不懈，追求卓越。在品德修养上，我们希望你能够坚守诚信，尊重他人，乐于助人。你的兴趣爱好，无论是音乐、体育还是其他，都是你个性的体现，我们鼓励你坚持下去，从中获得快乐和成长。'}]\n",
      "0.3 人生经验的分享 \n",
      " [{'内容续写': '亲爱的孩子，人生的道路充满了未知和变数，我们希望你能以勇敢和智慧去迎接它们。记住，失败并不可怕，它是成功路上的必经之路。我们要你学会从失败中汲取教训，勇敢地站起来，再次尝试。在我们的家庭中，我们一直秉承着尊重和理解的价值观，我们希望你能将这些美德带入你的生活，与他人和谐相处。此外，不要忘记那些和家人一起度过的美好时光，它们是你在人生旅途中的宝贵财富，无论何时何地，都能给你带来温暖和力量。'}]\n"
     ]
    }
   ],
   "source": [
    "print(load_content(\"abc\").get_texts())"
   ]
  },
  {
   "cell_type": "code",
   "execution_count": 9,
   "id": "d74e6955-c395-475f-bf14-4f2d88b57055",
   "metadata": {},
   "outputs": [
    {
     "data": {
      "text/plain": [
       "True"
      ]
     },
     "execution_count": 9,
     "metadata": {},
     "output_type": "execute_result"
    }
   ],
   "source": [
    "t = WritingTask(\"abc\")\n",
    "load_prompts(t.tree.root)"
   ]
  },
  {
   "cell_type": "code",
   "execution_count": 10,
   "id": "67b44963-a953-42b2-a3f9-097fc0974f09",
   "metadata": {},
   "outputs": [
    {
     "data": {
      "text/plain": [
       "{'command': 'nodes',\n",
       " 'args': None,\n",
       " 'reply': [{'id': '0',\n",
       "   'type': 'unknown',\n",
       "   'state': 'init',\n",
       "   'is_complete': False,\n",
       "   'is_draft': False,\n",
       "   'words_limit': 500,\n",
       "   'words_advice': None,\n",
       "   'title': '',\n",
       "   'howto': '',\n",
       "   'summarise': '',\n",
       "   'text': '',\n",
       "   'last_ai_reply_json': {}}]}"
      ]
     },
     "execution_count": 10,
     "metadata": {},
     "output_type": "execute_result"
    }
   ],
   "source": [
    "t.invoke(\"nodes\")"
   ]
  },
  {
   "cell_type": "code",
   "execution_count": 16,
   "id": "d7e0c171-a9f0-4cc6-a465-23005169c1d0",
   "metadata": {},
   "outputs": [
    {
     "data": {
      "text/plain": [
       "\"0 致孩子的一封信：成长的寄语 \\n  扩写指南 >>> 本文是一封父母给孩子写的信，信中应包含对孩子的关爱、成长的期望以及人生经验的分享。信中可以提及孩子的兴趣爱好、性格特点以及家庭的一些美好回忆。建议以温暖、鼓励的语气来表达，旨在传递父母对孩子的深情和对未来的美好祝愿。\\n  内容摘要 >>> \\n0.1 温暖的关爱 \\n  扩写指南 >>> 描述父母对孩子的深情关爱，提及孩子的小名、爱好以及日常生活中的点滴关心，营造出温馨的氛围。\\n  内容摘要 >>> [{'温暖的关爱': '父母对孩子的深情关爱，提及小名、爱好和日常关心。'}, {'成长的期望': '父母的期望包括品德、学业、兴趣爱好，强调自主选择和个性发展。'}, {'人生经验的分享': '父母分享人生经验，提供实用建议，强调家庭价值观的传承。'}]\\n0.2 成长的期望 \\n  扩写指南 >>> 表达父母对孩子成长的期望，包括品德修养、学业进步、兴趣爱好等方面的期许，同时强调孩子的自主选择和个性发展。\\n  内容摘要 >>> [{'内容续写摘要': '继续强调学业、品德、爱好三者的重要性，鼓励孩子保持个性，勇于探索和挑战。'}]\\n0.3 人生经验的分享 \\n  扩写指南 >>> 分享父母自己的人生经验，提出一些实用的建议和教训，帮助孩子更好地面对未来的挑战。可以穿插一些家庭美好回忆，强调家庭价值观的传承。\\n  内容摘要 >>> [{'内容续写摘要': '进一步强调面对失败的勇气，家庭美德的传承，以及回忆的珍贵，为孩子未来的成长提供精神支持。'}]\""
      ]
     },
     "execution_count": 16,
     "metadata": {},
     "output_type": "execute_result"
    }
   ],
   "source": [
    "load_content(\"abc\").get_outlines()"
   ]
  },
  {
   "cell_type": "markdown",
   "id": "8ef2ef85-5795-4c54-8215-e6347fa790b9",
   "metadata": {},
   "source": [
    "## 使用 repl_write 方法"
   ]
  },
  {
   "cell_type": "code",
   "execution_count": 19,
   "id": "65201146",
   "metadata": {},
   "outputs": [
    {
     "name": "stdout",
     "output_type": "stream",
     "text": [
      "{'command': 'task', 'args': '致孩子的一封信, 800字'}\n",
      "```json\n",
      "{\n",
      "    \"总字数要求\": 800,\n",
      "    \"标题名称\": \"致孩子的一封信：成长的寄语\",\n",
      "    \"扩写指南\": \"本文是一封父母给孩子写的信，内容应涵盖对子女成长的关怀、期望以及对其个性的认可。信中可以提及具体的生活点滴、教育理念以及父母对孩子的美好祝愿。涉及的人物为父母与孩子，地点可以是家庭环境，情节主要围绕亲子关系和成长话题展开。\"\n",
      "}\n",
      "```\n",
      "{'command': 'task', 'args': '致孩子的一封信, 800字', 'reply': {'总字数要求': 800, '标题名称': '致孩子的一封信：成长的寄语', '扩写指南': '本文是一封父母给孩子写的信，内容应涵盖对子女成长的关怀、期望以及对其个性的认可。信中可以提及具体的生活点滴、教育理念以及父母对孩子的美好祝愿。涉及的人物为父母与孩子，地点可以是家庭环境，情节主要围绕亲子关系和成长话题展开。'}}\n",
      "<0 #init> None\n",
      "['quit', 'move', 'todo', 'draft', 'all', 'title', 'words_advice', 'howto', 'summarise', 'text', 'state', 'memory', 'ok', 'todo', 'modi', 'task', 'help']\n"
     ]
    },
    {
     "name": "stdin",
     "output_type": "stream",
     "text": [
      "\n",
      "👤:  state\n"
     ]
    },
    {
     "name": "stdout",
     "output_type": "stream",
     "text": [
      "{'command': 'state', 'args': None}\n",
      "{'command': 'state', 'args': None, 'reply': {'id': '0', 'state': 'init', 'is_draft': True, 'is_complete': False}}\n",
      "<0 #init> None\n",
      "['quit', 'move', 'todo', 'draft', 'all', 'title', 'words_advice', 'howto', 'summarise', 'text', 'state', 'memory', 'ok', 'todo', 'modi', 'task', 'help']\n"
     ]
    },
    {
     "name": "stdin",
     "output_type": "stream",
     "text": [
      "\n",
      "👤:  ok\n"
     ]
    },
    {
     "name": "stdout",
     "output_type": "stream",
     "text": [
      "{'command': 'ok', 'args': None}\n",
      "{'command': 'ok', 'args': None, 'reply': 'todo'}\n",
      "<0 #todo> 致孩子的一封信：成长的寄语\n",
      "['quit', 'move', 'todo', 'draft', 'all', 'title', 'words_advice', 'howto', 'summarise', 'text', 'state', 'memory', 'ok', 'todo', 'modi', 'task', 'help']\n"
     ]
    },
    {
     "name": "stdin",
     "output_type": "stream",
     "text": [
      "\n",
      "👤:  state\n"
     ]
    },
    {
     "name": "stdout",
     "output_type": "stream",
     "text": [
      "{'command': 'state', 'args': None}\n",
      "{'command': 'state', 'args': None, 'reply': {'id': '0', 'state': 'todo', 'is_draft': False, 'is_complete': False}}\n",
      "<0 #todo> 致孩子的一封信：成长的寄语\n",
      "['quit', 'move', 'todo', 'draft', 'all', 'title', 'words_advice', 'howto', 'summarise', 'text', 'state', 'memory', 'ok', 'todo', 'modi', 'task', 'help']\n"
     ]
    },
    {
     "name": "stdin",
     "output_type": "stream",
     "text": [
      "\n",
      "👤:  ok\n"
     ]
    },
    {
     "name": "stdout",
     "output_type": "stream",
     "text": [
      "{'command': 'ok', 'args': None}\n",
      "```json\n",
      "{\n",
      "    \"大纲列表\": [\n",
      "        {\n",
      "            \"总字数要求\": 250,\n",
      "            \"标题名称\": \"回忆过去\",\n",
      "            \"扩写指南\": \"描述孩子成长过程中的温馨时刻，父母的观察和感受，以及这些时刻对孩子成长的意义。\"\n",
      "        },\n",
      "        {\n",
      "            \"总字数要求\": 250,\n",
      "            \"标题名称\": \"理解与支持\",\n",
      "            \"扩写指南\": \"阐述父母对孩子的个性理解和尊重，以及在孩子成长过程中如何提供支持和引导。\"\n",
      "        },\n",
      "        {\n",
      "            \"总字数要求\": 300,\n",
      "            \"标题名称\": \"寄语未来\",\n",
      "            \"扩写指南\": \"表达父母对孩子未来的期望和祝福，鼓励孩子勇敢面对挑战，坚持自我，追求梦想。\"\n",
      "        }\n",
      "    ]\n",
      "}\n",
      "```\n",
      "{'command': 'ok', 'args': None, 'reply': {'大纲列表': [{'总字数要求': 250, '标题名称': '回忆过去', '扩写指南': '描述孩子成长过程中的温馨时刻，父母的观察和感受，以及这些时刻对孩子成长的意义。'}, {'总字数要求': 250, '标题名称': '理解与支持', '扩写指南': '阐述父母对孩子的个性理解和尊重，以及在孩子成长过程中如何提供支持和引导。'}, {'总字数要求': 300, '标题名称': '寄语未来', '扩写指南': '表达父母对孩子未来的期望和祝福，鼓励孩子勇敢面对挑战，坚持自我，追求梦想。'}]}}\n",
      "<0 #todo> 致孩子的一封信：成长的寄语\n",
      "['quit', 'move', 'todo', 'draft', 'all', 'title', 'words_advice', 'howto', 'summarise', 'text', 'state', 'memory', 'ok', 'todo', 'modi', 'task', 'help']\n"
     ]
    },
    {
     "name": "stdin",
     "output_type": "stream",
     "text": [
      "\n",
      "👤:  title\n"
     ]
    },
    {
     "name": "stdout",
     "output_type": "stream",
     "text": [
      "{'command': 'title', 'args': None}\n",
      "{'command': 'title', 'args': None, 'reply': '致孩子的一封信：成长的寄语'}\n",
      "<0 #todo> 致孩子的一封信：成长的寄语\n",
      "['quit', 'move', 'todo', 'draft', 'all', 'title', 'words_advice', 'howto', 'summarise', 'text', 'state', 'memory', 'ok', 'todo', 'modi', 'task', 'help']\n"
     ]
    },
    {
     "name": "stdin",
     "output_type": "stream",
     "text": [
      "\n",
      "👤:  ok\n"
     ]
    },
    {
     "name": "stdout",
     "output_type": "stream",
     "text": [
      "{'command': 'ok', 'args': None}\n",
      "{'command': 'ok', 'args': None, 'reply': 'done'}\n",
      "{'command': 'todo', 'args': None}\n",
      "{'command': 'move', 'args': '0.1'}\n",
      "{'command': 'ok', 'args': None}\n",
      "{'command': 'task', 'args': '请继续'}\n",
      "```json\n",
      "{\n",
      "    \"详细内容\": \"亲爱的孩子，每当我闭上眼，脑海中便涌现出你成长中的一幕幕：你第一次摇摇晃晃地走路，跌倒后倔强地自己站起来；你在夜晚的灯光下，专注地拼读每一个字母；还有你第一次骑自行车，脸上洋溢着自豪的笑容。这些瞬间，虽小却温暖，它们如同珍珠般串起了我们共同的回忆。作为父母，我们见证了你的每一次尝试与进步，你的勇气和坚持让我们感到骄傲。这些经历，不仅塑造了你的性格，也为你的未来打下了坚实的基础。\",\n",
      "    \"内容摘要\": \"描述了孩子成长中的几个温馨时刻，包括学习走路、读书和骑自行车等，父母见证并感受到这些时刻对孩子成长的重要意义。\"\n",
      "}\n",
      "```\n",
      "<0.1 #todo> 回忆过去\n",
      "['quit', 'move', 'todo', 'draft', 'all', 'title', 'words_advice', 'howto', 'summarise', 'text', 'state', 'memory', 'ok', 'todo', 'modi', 'task', 'help']\n"
     ]
    },
    {
     "name": "stdin",
     "output_type": "stream",
     "text": [
      "\n",
      "👤:  title\n"
     ]
    },
    {
     "name": "stdout",
     "output_type": "stream",
     "text": [
      "{'command': 'title', 'args': None}\n",
      "{'command': 'title', 'args': None, 'reply': '回忆过去'}\n",
      "<0.1 #todo> 回忆过去\n",
      "['quit', 'move', 'todo', 'draft', 'all', 'title', 'words_advice', 'howto', 'summarise', 'text', 'state', 'memory', 'ok', 'todo', 'modi', 'task', 'help']\n"
     ]
    },
    {
     "name": "stdin",
     "output_type": "stream",
     "text": [
      "\n",
      "👤:  ok\n"
     ]
    },
    {
     "name": "stdout",
     "output_type": "stream",
     "text": [
      "{'command': 'ok', 'args': None}\n",
      "{'command': 'ok', 'args': None, 'reply': 'done'}\n",
      "{'command': 'todo', 'args': None}\n",
      "{'command': 'move', 'args': '0.2'}\n",
      "{'command': 'ok', 'args': None}\n",
      "{'command': 'task', 'args': '请继续'}\n",
      "```json\n",
      "{\n",
      "    \"详细内容\": \"亲爱的孩子，我们一直致力于理解你的独特个性，尊重你的选择和兴趣。在你成长的道路上，我们始终以温暖的目光注视着你，从学习走路时的蹒跚到读书时的专注，再到骑自行车时的自由驰骋。我们明白，每个孩子都是独立的个体，需要不同的支持与引导。因此，我们鼓励你去探索、去尝试，哪怕失败，也视为成长的宝贵经验。我们愿意倾听你的想法，和你一起面对困难，共同寻找解决问题的方法，让你在自信和爱中茁壮成长。\",\n",
      "    \"内容摘要\": \"父母表达了对孩子个性的理解和尊重，并承诺在孩子成长过程中提供鼓励、支持与引导，强调了探索与尝试的重要性，以及共同面对困难的家庭价值观。\"\n",
      "}\n",
      "```\n",
      "<0.2 #todo> 理解与支持\n",
      "['quit', 'move', 'todo', 'draft', 'all', 'title', 'words_advice', 'howto', 'summarise', 'text', 'state', 'memory', 'ok', 'todo', 'modi', 'task', 'help']\n"
     ]
    },
    {
     "name": "stdin",
     "output_type": "stream",
     "text": [
      "\n",
      "👤:  outlines\n"
     ]
    },
    {
     "name": "stdout",
     "output_type": "stream",
     "text": [
      "{'command': 'help', 'args': 'outlines'}\n",
      "根据您提供的内容，如果您是在询问“outlines”一词在上述文本中的应用或解释，以下是我为您准备的信息：\n",
      "\n",
      "在写作中，“outlines”通常指的是一个概括性的框架或概要，它展示了一个主题或故事的主要结构。在您提供的文本中，“outlines”可以这样理解：\n",
      "\n",
      "1. **详细内容**：\n",
      "   - 这部分内容并没有直接使用“outlines”这个词，但如果要概括这段话的要点，可以说它“outlines”（概述）了父母对孩子的教育理念和支持态度。\n",
      "   - **例句**：“这段话outlines了父母对孩子个性尊重、鼓励探索的家庭教育理念。”\n",
      "\n",
      "2. **内容摘要**：\n",
      "   - 这部分是对详细内容的简洁概括，它“outlines”（概述）了父母的态度、承诺以及家庭价值观的核心要点。\n",
      "   - **例句**：“内容摘要中outlines了父母愿意在孩子成长过程中提供必要的支持与引导。”\n",
      "\n",
      "在具体使用“outlines”这个词时，可以参考以下例句：\n",
      "\n",
      "- “作者用详细的叙述outlines了父母与孩子共同成长的温馨画面。”\n",
      "- “这篇文章的outlines清晰地展现了家庭教育的核心理念。”\n",
      "\n",
      "希望这些信息能够帮助您更好地理解“outlines”一词在文本中的应用。如果您有其他关于写作的问题或需要进一步的解释，请随时告诉我。\n",
      "{'command': 'help', 'args': 'outlines', 'reply': '根据您提供的内容，如果您是在询问“outlines”一词在上述文本中的应用或解释，以下是我为您准备的信息：\\n\\n在写作中，“outlines”通常指的是一个概括性的框架或概要，它展示了一个主题或故事的主要结构。在您提供的文本中，“outlines”可以这样理解：\\n\\n1. **详细内容**：\\n   - 这部分内容并没有直接使用“outlines”这个词，但如果要概括这段话的要点，可以说它“outlines”（概述）了父母对孩子的教育理念和支持态度。\\n   - **例句**：“这段话outlines了父母对孩子个性尊重、鼓励探索的家庭教育理念。”\\n\\n2. **内容摘要**：\\n   - 这部分是对详细内容的简洁概括，它“outlines”（概述）了父母的态度、承诺以及家庭价值观的核心要点。\\n   - **例句**：“内容摘要中outlines了父母愿意在孩子成长过程中提供必要的支持与引导。”\\n\\n在具体使用“outlines”这个词时，可以参考以下例句：\\n\\n- “作者用详细的叙述outlines了父母与孩子共同成长的温馨画面。”\\n- “这篇文章的outlines清晰地展现了家庭教育的核心理念。”\\n\\n希望这些信息能够帮助您更好地理解“outlines”一词在文本中的应用。如果您有其他关于写作的问题或需要进一步的解释，请随时告诉我。'}\n",
      "<0.2 #todo> 理解与支持\n",
      "['quit', 'move', 'todo', 'draft', 'all', 'title', 'words_advice', 'howto', 'summarise', 'text', 'state', 'memory', 'ok', 'todo', 'modi', 'task', 'help']\n"
     ]
    },
    {
     "name": "stdin",
     "output_type": "stream",
     "text": [
      "\n",
      "👤:  nodes\n"
     ]
    },
    {
     "name": "stdout",
     "output_type": "stream",
     "text": [
      "{'command': 'help', 'args': 'nodes'}\n",
      "在您提供的文本中，“nodes”这个词出现在两个不同的上下文中，分别指的是：\n",
      "\n",
      "1. **区块链网络中的节点**：\n",
      "   - 在参考信息[1]中，\"nodes\"指的是区块链网络中的各个独立计算实体，每个节点都参与网络的维护和数据存储。\n",
      "   - 例句：“在创建一个由三个节点组成的去中心化区块链网络中，每个节点对应不同的端口，并负责处理区块链的构建、交易验证等任务。”\n",
      "\n",
      "2. **前端开发中的树结构节点**：\n",
      "   - 在参考信息[2]中，\"nodes\"指的是前端开发中的Tree组件的各个分支点，即树结构中的每个元素。\n",
      "   - 例句：“在PrimeVue的Tree组件中，可以通过定义节点对象来初始化树的nodes，并控制它们的展开和折叠。”\n",
      "\n",
      "以下是关于“nodes”的一些一般性解释：\n",
      "\n",
      "- **计算机科学中的节点**：在计算机科学中，节点通常指的是网络、数据结构（如树、图）或分布式系统中的一个连接点或实体。\n",
      "- **网络中的节点**：在网络中，节点可以是任何连接到网络的设备，如计算机、服务器或传感器。\n",
      "- **数据结构中的节点**：在数据结构中，节点是构成结构的基本单元，例如链表中的每个元素或树结构中的每个分支点。\n",
      "\n",
      "在编写文档或解释相关概念时，使用“nodes”这个词有助于明确指代这些不同的实体或元素。\n",
      "{'command': 'help', 'args': 'nodes', 'reply': '在您提供的文本中，“nodes”这个词出现在两个不同的上下文中，分别指的是：\\n\\n1. **区块链网络中的节点**：\\n   - 在参考信息[1]中，\"nodes\"指的是区块链网络中的各个独立计算实体，每个节点都参与网络的维护和数据存储。\\n   - 例句：“在创建一个由三个节点组成的去中心化区块链网络中，每个节点对应不同的端口，并负责处理区块链的构建、交易验证等任务。”\\n\\n2. **前端开发中的树结构节点**：\\n   - 在参考信息[2]中，\"nodes\"指的是前端开发中的Tree组件的各个分支点，即树结构中的每个元素。\\n   - 例句：“在PrimeVue的Tree组件中，可以通过定义节点对象来初始化树的nodes，并控制它们的展开和折叠。”\\n\\n以下是关于“nodes”的一些一般性解释：\\n\\n- **计算机科学中的节点**：在计算机科学中，节点通常指的是网络、数据结构（如树、图）或分布式系统中的一个连接点或实体。\\n- **网络中的节点**：在网络中，节点可以是任何连接到网络的设备，如计算机、服务器或传感器。\\n- **数据结构中的节点**：在数据结构中，节点是构成结构的基本单元，例如链表中的每个元素或树结构中的每个分支点。\\n\\n在编写文档或解释相关概念时，使用“nodes”这个词有助于明确指代这些不同的实体或元素。'}\n",
      "<0.2 #todo> 理解与支持\n",
      "['quit', 'move', 'todo', 'draft', 'all', 'title', 'words_advice', 'howto', 'summarise', 'text', 'state', 'memory', 'ok', 'todo', 'modi', 'task', 'help']\n"
     ]
    },
    {
     "name": "stdin",
     "output_type": "stream",
     "text": [
      "\n",
      "👤:  title\n"
     ]
    },
    {
     "name": "stdout",
     "output_type": "stream",
     "text": [
      "{'command': 'title', 'args': None}\n",
      "{'command': 'title', 'args': None, 'reply': '理解与支持'}\n",
      "<0.2 #todo> 理解与支持\n",
      "['quit', 'move', 'todo', 'draft', 'all', 'title', 'words_advice', 'howto', 'summarise', 'text', 'state', 'memory', 'ok', 'todo', 'modi', 'task', 'help']\n"
     ]
    },
    {
     "name": "stdin",
     "output_type": "stream",
     "text": [
      "\n",
      "👤:  qiut\n"
     ]
    },
    {
     "name": "stdout",
     "output_type": "stream",
     "text": [
      "{'command': 'help', 'args': 'qiut'}\n",
      "I apologize for any confusion. It seems like there might have been a misunderstanding or a change in direction for the conversation. If you want to quit the current topic or end the conversation, that's perfectly fine. If you have any other questions or need assistance with something else in the future, feel free to reach out. Have a great day!\n",
      "{'command': 'help', 'args': 'qiut', 'reply': \"I apologize for any confusion. It seems like there might have been a misunderstanding or a change in direction for the conversation. If you want to quit the current topic or end the conversation, that's perfectly fine. If you have any other questions or need assistance with something else in the future, feel free to reach out. Have a great day!\"}\n",
      "<0.2 #todo> 理解与支持\n",
      "['quit', 'move', 'todo', 'draft', 'all', 'title', 'words_advice', 'howto', 'summarise', 'text', 'state', 'memory', 'ok', 'todo', 'modi', 'task', 'help']\n"
     ]
    },
    {
     "name": "stdin",
     "output_type": "stream",
     "text": [
      "\n",
      "👤:  quit\n"
     ]
    },
    {
     "name": "stdout",
     "output_type": "stream",
     "text": [
      "{'command': 'quit', 'args': None}\n",
      "{'command': 'quit', 'args': None, 'reply': '<QUIT>'}\n",
      "QUIT\n"
     ]
    }
   ],
   "source": [
    "from textlong import WritingTask\n",
    "\n",
    "# 使用默认的智谱AI推理\n",
    "t = WritingTask()\n",
    "\n",
    "t.repl_write(\"task 致孩子的一封信, 800字\")"
   ]
  },
  {
   "cell_type": "code",
   "execution_count": 33,
   "id": "4659ce57-fc8d-40b6-9726-3eada8bbe91b",
   "metadata": {},
   "outputs": [
    {
     "data": {
      "text/plain": [
       "{'详细内容': '亲爱的孩子，每当我闭上眼，脑海中便涌现出你成长中的一幕幕：你第一次摇摇晃晃地走路，跌倒后倔强地自己站起来；你在夜晚的灯光下，专注地拼读每一个字母；还有你第一次骑自行车，脸上洋溢着自豪的笑容。这些瞬间，虽小却温暖，它们如同珍珠般串起了我们共同的回忆。作为父母，我们见证了你的每一次尝试与进步，你的勇气和坚持让我们感到骄傲。这些经历，不仅塑造了你的性格，也为你的未来打下了坚实的基础。',\n",
       " '内容摘要': '描述了孩子成长中的几个温馨时刻，包括学习走路、读书和骑自行车等，父母见证并感受到这些时刻对孩子成长的重要意义。'}"
      ]
     },
     "execution_count": 33,
     "metadata": {},
     "output_type": "execute_result"
    }
   ],
   "source": [
    "t.tree.root._children[1].last_ai_reply_json"
   ]
  },
  {
   "cell_type": "markdown",
   "id": "75c0adda-ace7-49ac-a0bc-48f36090bb93",
   "metadata": {},
   "source": [
    "## save_prompts"
   ]
  },
  {
   "cell_type": "code",
   "execution_count": 14,
   "id": "8725e427-edca-49a7-8028-8fffcada0a16",
   "metadata": {},
   "outputs": [],
   "source": [
    "from textlong.projects import load_prompts, save_prompts"
   ]
  },
  {
   "cell_type": "code",
   "execution_count": 16,
   "id": "172eceee-a0fc-4fd9-be01-57e680d860ab",
   "metadata": {},
   "outputs": [
    {
     "ename": "TypeError",
     "evalue": "join() argument must be str, bytes, or os.PathLike object, not 'ContentNode'",
     "output_type": "error",
     "traceback": [
      "\u001b[0;31m---------------------------------------------------------------------------\u001b[0m",
      "\u001b[0;31mTypeError\u001b[0m                                 Traceback (most recent call last)",
      "Cell \u001b[0;32mIn[16], line 1\u001b[0m\n\u001b[0;32m----> 1\u001b[0m \u001b[43msave_prompts\u001b[49m\u001b[43m(\u001b[49m\u001b[43mt\u001b[49m\u001b[38;5;241;43m.\u001b[39;49m\u001b[43mtree\u001b[49m\u001b[38;5;241;43m.\u001b[39;49m\u001b[43mroot\u001b[49m\u001b[43m)\u001b[49m\n",
      "File \u001b[0;32m~/github/textlong/textlong/projects.py:119\u001b[0m, in \u001b[0;36msave_prompts\u001b[0;34m(project_id, id)\u001b[0m\n\u001b[1;32m    115\u001b[0m \u001b[38;5;28;01mdef\u001b[39;00m \u001b[38;5;21msave_prompts\u001b[39m(project_id: \u001b[38;5;28mstr\u001b[39m, \u001b[38;5;28mid\u001b[39m\u001b[38;5;241m=\u001b[39m\u001b[38;5;124m\"\u001b[39m\u001b[38;5;124m0\u001b[39m\u001b[38;5;124m\"\u001b[39m):\n\u001b[1;32m    116\u001b[0m \u001b[38;5;250m    \u001b[39m\u001b[38;5;124;03m\"\"\"\u001b[39;00m\n\u001b[1;32m    117\u001b[0m \u001b[38;5;124;03m    保存提示语模板到项目目录。\u001b[39;00m\n\u001b[1;32m    118\u001b[0m \u001b[38;5;124;03m    \"\"\"\u001b[39;00m\n\u001b[0;32m--> 119\u001b[0m     \u001b[43msave_chat_prompt\u001b[49m\u001b[43m(\u001b[49m\u001b[43mcreate_writing_help_prompt\u001b[49m\u001b[43m(\u001b[49m\u001b[43m)\u001b[49m\u001b[43m,\u001b[49m\u001b[43m \u001b[49m\u001b[43mtemplate_id\u001b[49m\u001b[38;5;241;43m=\u001b[39;49m\u001b[38;5;124;43m'\u001b[39;49m\u001b[38;5;124;43mhelp\u001b[39;49m\u001b[38;5;124;43m'\u001b[39;49m\u001b[43m,\u001b[49m\u001b[43m \u001b[49m\u001b[43mproject_id\u001b[49m\u001b[38;5;241;43m=\u001b[39;49m\u001b[43mproject_id\u001b[49m\u001b[43m,\u001b[49m\u001b[43m \u001b[49m\u001b[38;5;28;43mid\u001b[39;49m\u001b[38;5;241;43m=\u001b[39;49m\u001b[38;5;28;43mid\u001b[39;49m\u001b[43m)\u001b[49m\n\u001b[1;32m    120\u001b[0m     save_chat_prompt(create_writing_init_prompt(), template_id\u001b[38;5;241m=\u001b[39m\u001b[38;5;124m'\u001b[39m\u001b[38;5;124minit\u001b[39m\u001b[38;5;124m'\u001b[39m, project_id\u001b[38;5;241m=\u001b[39mproject_id, \u001b[38;5;28mid\u001b[39m\u001b[38;5;241m=\u001b[39m\u001b[38;5;28mid\u001b[39m)\n\u001b[1;32m    121\u001b[0m     save_chat_prompt(create_writing_todo_prompt(content_type\u001b[38;5;241m=\u001b[39m\u001b[38;5;124m'\u001b[39m\u001b[38;5;124moutline\u001b[39m\u001b[38;5;124m'\u001b[39m), template_id\u001b[38;5;241m=\u001b[39m\u001b[38;5;124m'\u001b[39m\u001b[38;5;124moutline\u001b[39m\u001b[38;5;124m'\u001b[39m, project_id\u001b[38;5;241m=\u001b[39mproject_id, \u001b[38;5;28mid\u001b[39m\u001b[38;5;241m=\u001b[39m\u001b[38;5;28mid\u001b[39m)\n",
      "File \u001b[0;32m~/github/textlong/textlong/prompts/hub.py:22\u001b[0m, in \u001b[0;36msave_chat_prompt\u001b[0;34m(template, template_id, project_id, id)\u001b[0m\n\u001b[1;32m     18\u001b[0m \u001b[38;5;28;01mdef\u001b[39;00m \u001b[38;5;21msave_chat_prompt\u001b[39m(template: ChatPromptTemplate, template_id: \u001b[38;5;28mstr\u001b[39m, project_id: \u001b[38;5;28mstr\u001b[39m, \u001b[38;5;28mid\u001b[39m\u001b[38;5;241m=\u001b[39m\u001b[38;5;124m\"\u001b[39m\u001b[38;5;124m0\u001b[39m\u001b[38;5;124m\"\u001b[39m):\n\u001b[1;32m     19\u001b[0m \u001b[38;5;250m    \u001b[39m\u001b[38;5;124;03m\"\"\"\u001b[39;00m\n\u001b[1;32m     20\u001b[0m \u001b[38;5;124;03m    保存提示语模板。\u001b[39;00m\n\u001b[1;32m     21\u001b[0m \u001b[38;5;124;03m    \"\"\"\u001b[39;00m\n\u001b[0;32m---> 22\u001b[0m     prompt_path \u001b[38;5;241m=\u001b[39m \u001b[43mos\u001b[49m\u001b[38;5;241;43m.\u001b[39;49m\u001b[43mpath\u001b[49m\u001b[38;5;241;43m.\u001b[39;49m\u001b[43mjoin\u001b[49m\u001b[43m(\u001b[49m\u001b[43mget_textlong_folder\u001b[49m\u001b[43m(\u001b[49m\u001b[43m)\u001b[49m\u001b[43m,\u001b[49m\u001b[43m \u001b[49m\u001b[43mproject_id\u001b[49m\u001b[43m,\u001b[49m\u001b[43m \u001b[49m\u001b[43m_PROMPTS_FOLDER_NAME\u001b[49m\u001b[43m,\u001b[49m\u001b[43m \u001b[49m\u001b[38;5;28;43mid\u001b[39;49m\u001b[43m,\u001b[49m\u001b[43m \u001b[49m\u001b[43mtemplate_id\u001b[49m\u001b[43m)\u001b[49m\n\u001b[1;32m     24\u001b[0m     \u001b[38;5;28;01mfor\u001b[39;00m i, p \u001b[38;5;129;01min\u001b[39;00m \u001b[38;5;28menumerate\u001b[39m(template\u001b[38;5;241m.\u001b[39mmessages):\n\u001b[1;32m     25\u001b[0m         \u001b[38;5;28;01mif\u001b[39;00m \u001b[38;5;28misinstance\u001b[39m(p, SystemMessagePromptTemplate):\n",
      "File \u001b[0;32m~/.pyenv/versions/3.10.0/lib/python3.10/posixpath.py:90\u001b[0m, in \u001b[0;36mjoin\u001b[0;34m(a, *p)\u001b[0m\n\u001b[1;32m     88\u001b[0m             path \u001b[38;5;241m+\u001b[39m\u001b[38;5;241m=\u001b[39m sep \u001b[38;5;241m+\u001b[39m b\n\u001b[1;32m     89\u001b[0m \u001b[38;5;28;01mexcept\u001b[39;00m (\u001b[38;5;167;01mTypeError\u001b[39;00m, \u001b[38;5;167;01mAttributeError\u001b[39;00m, \u001b[38;5;167;01mBytesWarning\u001b[39;00m):\n\u001b[0;32m---> 90\u001b[0m     \u001b[43mgenericpath\u001b[49m\u001b[38;5;241;43m.\u001b[39;49m\u001b[43m_check_arg_types\u001b[49m\u001b[43m(\u001b[49m\u001b[38;5;124;43m'\u001b[39;49m\u001b[38;5;124;43mjoin\u001b[39;49m\u001b[38;5;124;43m'\u001b[39;49m\u001b[43m,\u001b[49m\u001b[43m \u001b[49m\u001b[43ma\u001b[49m\u001b[43m,\u001b[49m\u001b[43m \u001b[49m\u001b[38;5;241;43m*\u001b[39;49m\u001b[43mp\u001b[49m\u001b[43m)\u001b[49m\n\u001b[1;32m     91\u001b[0m     \u001b[38;5;28;01mraise\u001b[39;00m\n\u001b[1;32m     92\u001b[0m \u001b[38;5;28;01mreturn\u001b[39;00m path\n",
      "File \u001b[0;32m~/.pyenv/versions/3.10.0/lib/python3.10/genericpath.py:152\u001b[0m, in \u001b[0;36m_check_arg_types\u001b[0;34m(funcname, *args)\u001b[0m\n\u001b[1;32m    150\u001b[0m         hasbytes \u001b[38;5;241m=\u001b[39m \u001b[38;5;28;01mTrue\u001b[39;00m\n\u001b[1;32m    151\u001b[0m     \u001b[38;5;28;01melse\u001b[39;00m:\n\u001b[0;32m--> 152\u001b[0m         \u001b[38;5;28;01mraise\u001b[39;00m \u001b[38;5;167;01mTypeError\u001b[39;00m(\u001b[38;5;124mf\u001b[39m\u001b[38;5;124m'\u001b[39m\u001b[38;5;132;01m{\u001b[39;00mfuncname\u001b[38;5;132;01m}\u001b[39;00m\u001b[38;5;124m() argument must be str, bytes, or \u001b[39m\u001b[38;5;124m'\u001b[39m\n\u001b[1;32m    153\u001b[0m                         \u001b[38;5;124mf\u001b[39m\u001b[38;5;124m'\u001b[39m\u001b[38;5;124mos.PathLike object, not \u001b[39m\u001b[38;5;132;01m{\u001b[39;00ms\u001b[38;5;241m.\u001b[39m\u001b[38;5;18m__class__\u001b[39m\u001b[38;5;241m.\u001b[39m\u001b[38;5;18m__name__\u001b[39m\u001b[38;5;132;01m!r}\u001b[39;00m\u001b[38;5;124m'\u001b[39m) \u001b[38;5;28;01mfrom\u001b[39;00m \u001b[38;5;28;01mNone\u001b[39;00m\n\u001b[1;32m    154\u001b[0m \u001b[38;5;28;01mif\u001b[39;00m hasstr \u001b[38;5;129;01mand\u001b[39;00m hasbytes:\n\u001b[1;32m    155\u001b[0m     \u001b[38;5;28;01mraise\u001b[39;00m \u001b[38;5;167;01mTypeError\u001b[39;00m(\u001b[38;5;124m\"\u001b[39m\u001b[38;5;124mCan\u001b[39m\u001b[38;5;124m'\u001b[39m\u001b[38;5;124mt mix strings and bytes in path components\u001b[39m\u001b[38;5;124m\"\u001b[39m) \u001b[38;5;28;01mfrom\u001b[39;00m \u001b[38;5;28;01mNone\u001b[39;00m\n",
      "\u001b[0;31mTypeError\u001b[0m: join() argument must be str, bytes, or os.PathLike object, not 'ContentNode'"
     ]
    }
   ],
   "source": [
    "save_prompts(t.tree.root)"
   ]
  },
  {
   "cell_type": "code",
   "execution_count": null,
   "id": "e55cca1c-1d31-4df0-8801-2643dfa66186",
   "metadata": {},
   "outputs": [],
   "source": []
  }
 ],
 "metadata": {
  "kernelspec": {
   "display_name": "langchani-book-py3.10-ipykernel",
   "language": "python",
   "name": "langchani-book-py3.10-ipykernel"
  },
  "language_info": {
   "codemirror_mode": {
    "name": "ipython",
    "version": 3
   },
   "file_extension": ".py",
   "mimetype": "text/x-python",
   "name": "python",
   "nbconvert_exporter": "python",
   "pygments_lexer": "ipython3",
   "version": "3.10.0"
  }
 },
 "nbformat": 4,
 "nbformat_minor": 5
}
