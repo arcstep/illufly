{
 "cells": [
  {
   "cell_type": "code",
   "execution_count": 1,
   "id": "f3045be3-ca71-46ba-8fa3-f6d999a63a5c",
   "metadata": {},
   "outputs": [],
   "source": [
    "import os\n",
    "from dotenv import load_dotenv, find_dotenv\n",
    "load_dotenv(find_dotenv(), override=True)\n",
    "os.chdir('..')"
   ]
  },
  {
   "cell_type": "code",
   "execution_count": 2,
   "id": "1713b2a7-ccb1-4dd2-8a1b-f3de36e72486",
   "metadata": {},
   "outputs": [],
   "source": [
    "# os.environ.get(\"ZHIPUAI_API_KEY\")"
   ]
  },
  {
   "cell_type": "markdown",
   "id": "c9235cf3-0b5d-4682-9e0f-f1e395d03ee7",
   "metadata": {},
   "source": [
    "# WritingProject"
   ]
  },
  {
   "cell_type": "markdown",
   "id": "a6df8963-5911-4c6c-9564-8c1b0eb30db2",
   "metadata": {},
   "source": [
    "## 使用 help 指令"
   ]
  },
  {
   "cell_type": "code",
   "execution_count": 3,
   "id": "3afebd33-0b49-4297-b197-190ef8c6d095",
   "metadata": {},
   "outputs": [
    {
     "name": "stdout",
     "output_type": "stream",
     "text": [
      "亲，首先确保你已经安装了Python环境并加载了`textlong`包。以下是使用`textlong`包的基本步骤：\n",
      "\n",
      "1. 导入`WritingTask`模块。\n",
      "   ```python\n",
      "   from textlong import WritingTask\n",
      "   ```\n",
      "\n",
      "2. 创建一个写作任务对象。\n",
      "   ```python\n",
      "   task = WritingTask()  # 使用默认的智谱AI\n",
      "   # 或者\n",
      "   from langchain_openai import ChatOpenAI\n",
      "   task = WritingTask(llm=ChatOpenAI())  # 使用ChatGPT\n",
      "   ```\n",
      "\n",
      "3. 使用`invoke`方法执行具体指令。\n",
      "   ```python\n",
      "   task.invoke(\"task 致孩子的一封信, 800字\")\n",
      "   task.invoke(\"ok\")\n",
      "   ```\n",
      "\n",
      "4. 如果你希望自动生成和确认所有子任务，可以使用`auto_write`方法。\n",
      "   ```python\n",
      "   task.auto_write(\"task 致孩子的一封信, 800字\")\n",
      "   ```\n",
      "\n",
      "5. 如果你需要更细致的控制，可以使用`repl_write`方法，进入控制台循环。\n",
      "   ```python\n",
      "   task.repl_write(\"task 致孩子的一封信, 800字\")\n",
      "   ```\n",
      "\n",
      "在控制台循环中，你可以使用以下命令：\n",
      "- `help`：获取帮助。\n",
      "- `state`：查看当前节点状态。\n",
      "- `title`：设置或查看标题。\n",
      "- `words_advice`：设置或查看字数建议。\n",
      "- `howto`：设置或查看扩写指南。\n",
      "- `summarise`：设置或查看段落摘要。\n",
      "- `text`：设置或查看段落文本。\n",
      "- `content`：查看当前节点所有属性数据。\n",
      "- `nodes`：查看所有节点数据。\n",
      "- `task`：请求AI生成内容。\n",
      "- `ok`：保存AI生成的内容。\n",
      "- `memory`：提取AI对话历史。\n",
      "- `outlines`：查看大纲结构。\n",
      "- `texts`：查看已完成的文字成果。\n",
      "\n",
      "亲，根据你的需要选择适合的方法和指令，就可以开始使用`textlong`包进行写作任务了。如果需要导出成果，可以使用`export`相关命令。如果有其他问题，随时告诉我哦！\n"
     ]
    },
    {
     "data": {
      "text/plain": [
       "{'command': 'help',\n",
       " 'args': '我该如何使用？',\n",
       " 'reply': '亲，首先确保你已经安装了Python环境并加载了`textlong`包。以下是使用`textlong`包的基本步骤：\\n\\n1. 导入`WritingTask`模块。\\n   ```python\\n   from textlong import WritingTask\\n   ```\\n\\n2. 创建一个写作任务对象。\\n   ```python\\n   task = WritingTask()  # 使用默认的智谱AI\\n   # 或者\\n   from langchain_openai import ChatOpenAI\\n   task = WritingTask(llm=ChatOpenAI())  # 使用ChatGPT\\n   ```\\n\\n3. 使用`invoke`方法执行具体指令。\\n   ```python\\n   task.invoke(\"task 致孩子的一封信, 800字\")\\n   task.invoke(\"ok\")\\n   ```\\n\\n4. 如果你希望自动生成和确认所有子任务，可以使用`auto_write`方法。\\n   ```python\\n   task.auto_write(\"task 致孩子的一封信, 800字\")\\n   ```\\n\\n5. 如果你需要更细致的控制，可以使用`repl_write`方法，进入控制台循环。\\n   ```python\\n   task.repl_write(\"task 致孩子的一封信, 800字\")\\n   ```\\n\\n在控制台循环中，你可以使用以下命令：\\n- `help`：获取帮助。\\n- `state`：查看当前节点状态。\\n- `title`：设置或查看标题。\\n- `words_advice`：设置或查看字数建议。\\n- `howto`：设置或查看扩写指南。\\n- `summarise`：设置或查看段落摘要。\\n- `text`：设置或查看段落文本。\\n- `content`：查看当前节点所有属性数据。\\n- `nodes`：查看所有节点数据。\\n- `task`：请求AI生成内容。\\n- `ok`：保存AI生成的内容。\\n- `memory`：提取AI对话历史。\\n- `outlines`：查看大纲结构。\\n- `texts`：查看已完成的文字成果。\\n\\n亲，根据你的需要选择适合的方法和指令，就可以开始使用`textlong`包进行写作任务了。如果需要导出成果，可以使用`export`相关命令。如果有其他问题，随时告诉我哦！'}"
      ]
     },
     "execution_count": 3,
     "metadata": {},
     "output_type": "execute_result"
    }
   ],
   "source": [
    "from textlong import WritingTask\n",
    "\n",
    "t = WritingTask(\"abc\")\n",
    "t.invoke(\"help 我该如何使用？\")"
   ]
  },
  {
   "cell_type": "code",
   "execution_count": 7,
   "id": "8335d55f-f43b-4f90-9696-695920eaa005",
   "metadata": {},
   "outputs": [
    {
     "name": "stdout",
     "output_type": "stream",
     "text": [
      "大兄弟，看起来你可能是想了解如何使用某个系统或者功能。不过，我需要具体的提问才能帮你解答。你有什么关于系统使用的问题吗？请告诉我，我会尽力帮你解答的。\n"
     ]
    },
    {
     "data": {
      "text/plain": [
       "{'command': 'help',\n",
       " 'args': '我该如何使用？',\n",
       " 'reply': '大兄弟，看起来你可能是想了解如何使用某个系统或者功能。不过，我需要具体的提问才能帮你解答。你有什么关于系统使用的问题吗？请告诉我，我会尽力帮你解答的。'}"
      ]
     },
     "execution_count": 7,
     "metadata": {},
     "output_type": "execute_result"
    }
   ],
   "source": [
    "# 也可以省略 help\n",
    "t.invoke(\"我该如何使用？\")"
   ]
  },
  {
   "cell_type": "markdown",
   "id": "dc8003b8-6cf9-4988-8d79-cfa85aa9d08c",
   "metadata": {},
   "source": [
    "## 切换 LLM"
   ]
  },
  {
   "cell_type": "code",
   "execution_count": 4,
   "id": "25f8dc4a-7d86-47dd-8c8d-3bc3ae50e69e",
   "metadata": {},
   "outputs": [
    {
     "name": "stdout",
     "output_type": "stream",
     "text": [
      "亲，你可以按照以下步骤使用WritingTask模块：\n",
      "\n",
      "1. 首先，你需要创建一个`WritingTask`对象，可以选择使用默认的智谱AI，也可以使用其他LLM模型。例如：\n",
      "\n",
      "```python\n",
      "from textlong import WritingTask\n",
      "from langchain_openai import ChatOpenAI\n",
      "\n",
      "task = WritingTask()  # 默认使用智谱AI\n",
      "# 或者\n",
      "task = WritingTask(llm=ChatOpenAI())  # 使用ChatGPT\n",
      "```\n",
      "\n",
      "2. 然后，你可以使用`invoke`方法调用命令来指导AI生成文本。例如，使用`task`命令生成一篇800字的信：\n",
      "\n",
      "```python\n",
      "task.invoke(\"task 致孩子的一封信, 800字\")\n",
      "```\n",
      "\n",
      "3. 如果你想一次性生成所有子任务并确认完成，可以使用`auto_write`方法。例如：\n",
      "\n",
      "```python\n",
      "task.auto_write(\"task 致孩子的一封信, 800字\")\n",
      "```\n",
      "\n",
      "4. 如果你希望精细控制生成过程，可以使用`repl_write`方法。这将进入一个控制台循环，在其中你可以输入不同的命令来控制生成过程。例如：\n",
      "\n",
      "```python\n",
      "task.repl_write(\"task 致孩子的一封信, 800字\")\n",
      "```\n",
      "\n",
      "在控制台循环中，你可以输入`ok`命令来保存AI生成的内容，也可以使用其他命令来修改生成指南、重新生成等。\n",
      "\n",
      "这就是使用WritingTask模块的基本操作步骤。希望对你有帮助！如果还有其他问题，请随时提问。\n"
     ]
    },
    {
     "data": {
      "text/plain": [
       "{'command': 'help',\n",
       " 'args': '我该如何使用？',\n",
       " 'reply': '亲，你可以按照以下步骤使用WritingTask模块：\\n\\n1. 首先，你需要创建一个`WritingTask`对象，可以选择使用默认的智谱AI，也可以使用其他LLM模型。例如：\\n\\n```python\\nfrom textlong import WritingTask\\nfrom langchain_openai import ChatOpenAI\\n\\ntask = WritingTask()  # 默认使用智谱AI\\n# 或者\\ntask = WritingTask(llm=ChatOpenAI())  # 使用ChatGPT\\n```\\n\\n2. 然后，你可以使用`invoke`方法调用命令来指导AI生成文本。例如，使用`task`命令生成一篇800字的信：\\n\\n```python\\ntask.invoke(\"task 致孩子的一封信, 800字\")\\n```\\n\\n3. 如果你想一次性生成所有子任务并确认完成，可以使用`auto_write`方法。例如：\\n\\n```python\\ntask.auto_write(\"task 致孩子的一封信, 800字\")\\n```\\n\\n4. 如果你希望精细控制生成过程，可以使用`repl_write`方法。这将进入一个控制台循环，在其中你可以输入不同的命令来控制生成过程。例如：\\n\\n```python\\ntask.repl_write(\"task 致孩子的一封信, 800字\")\\n```\\n\\n在控制台循环中，你可以输入`ok`命令来保存AI生成的内容，也可以使用其他命令来修改生成指南、重新生成等。\\n\\n这就是使用WritingTask模块的基本操作步骤。希望对你有帮助！如果还有其他问题，请随时提问。'}"
      ]
     },
     "execution_count": 4,
     "metadata": {},
     "output_type": "execute_result"
    }
   ],
   "source": [
    "from textlong import WritingTask\n",
    "from langchain_openai import ChatOpenAI\n",
    "\n",
    "task = WritingTask(llm=ChatOpenAI())\n",
    "task.invoke(\"我该如何使用？\")"
   ]
  },
  {
   "cell_type": "markdown",
   "id": "1a559bde-0913-4601-9033-fdba9c265979",
   "metadata": {},
   "source": [
    "## 使用 invoke 方法"
   ]
  },
  {
   "cell_type": "code",
   "execution_count": 3,
   "id": "ae344e34-dd8c-4e14-bbff-916c8c575893",
   "metadata": {},
   "outputs": [
    {
     "name": "stdout",
     "output_type": "stream",
     "text": [
      "```json\n",
      "{\n",
      "  \"总字数要求\": 800,\n",
      "  \"标题名称\": \"致孩子的一封信：愿你健康成长\",\n",
      "  \"扩写指南\": \"本文是一封父母给孩子写的信，信中应包含对孩子的关爱、期望以及对其成长的鼓励。信中可以提及孩子的兴趣爱好、性格特点以及家庭的一些温馨时刻。此外，可以给出一些人生经验和建议，引导孩子树立正确的价值观。\"\n",
      "}\n",
      "```\n"
     ]
    },
    {
     "data": {
      "text/plain": [
       "{'command': 'ok', 'args': None, 'reply': 'todo'}"
      ]
     },
     "execution_count": 3,
     "metadata": {},
     "output_type": "execute_result"
    }
   ],
   "source": [
    "from textlong import WritingTask\n",
    "\n",
    "# 使用默认的智谱AI推理\n",
    "t = WritingTask()\n",
    "\n",
    "t.invoke(\"task 致孩子的一封信, 800字\")\n",
    "t.invoke(\"ok\")"
   ]
  },
  {
   "cell_type": "code",
   "execution_count": 13,
   "id": "2570151a-d3bf-494e-bace-5c54c22a701a",
   "metadata": {},
   "outputs": [
    {
     "data": {
      "text/plain": [
       "True"
      ]
     },
     "execution_count": 13,
     "metadata": {},
     "output_type": "execute_result"
    }
   ],
   "source": [
    "from textlong.projects import load_content, save_content\n",
    "t.tree.root._project_id\n",
    "save_content(t.tree.root)"
   ]
  },
  {
   "cell_type": "code",
   "execution_count": 6,
   "id": "b5d0b09f-c6f2-4549-bc48-1ab1e39224a3",
   "metadata": {},
   "outputs": [
    {
     "name": "stdout",
     "output_type": "stream",
     "text": [
      "```json\n",
      "{\n",
      "  \"大纲列表\": [\n",
      "    {\n",
      "      \"总字数要求\": 300,\n",
      "      \"标题名称\": \"温暖的关爱与期望\",\n",
      "      \"扩写指南\": \"描述父母对孩子的深深关爱，表达对孩子未来的期望，提及孩子的兴趣爱好和性格优点，为孩子树立信心。\"\n",
      "    },\n",
      "    {\n",
      "      \"总字数要求\": 200,\n",
      "      \"标题名称\": \"家庭温馨时刻\",\n",
      "      \"扩写指南\": \"回顾家庭中的快乐时光，如一起度过的节日、旅行经历或日常生活中的小确幸，强调家庭对孩子成长的重要性。\"\n",
      "    },\n",
      "    {\n",
      "      \"总字数要求\": 300,\n",
      "      \"标题名称\": \"人生经验与建议\",\n",
      "      \"扩写指南\": \"分享父母的人生经验和智慧，给出针对孩子成长阶段的建议，引导孩子形成正确的价值观和面对困难的态度。\"\n",
      "    }\n",
      "  ]\n",
      "}\n",
      "```\n"
     ]
    },
    {
     "data": {
      "text/plain": [
       "{'command': 'ok',\n",
       " 'args': None,\n",
       " 'reply': {'大纲列表': [{'总字数要求': 300,\n",
       "    '标题名称': '温暖的关爱与期望',\n",
       "    '扩写指南': '描述父母对孩子的深深关爱，表达对孩子未来的期望，提及孩子的兴趣爱好和性格优点，为孩子树立信心。'},\n",
       "   {'总字数要求': 200,\n",
       "    '标题名称': '家庭温馨时刻',\n",
       "    '扩写指南': '回顾家庭中的快乐时光，如一起度过的节日、旅行经历或日常生活中的小确幸，强调家庭对孩子成长的重要性。'},\n",
       "   {'总字数要求': 300,\n",
       "    '标题名称': '人生经验与建议',\n",
       "    '扩写指南': '分享父母的人生经验和智慧，给出针对孩子成长阶段的建议，引导孩子形成正确的价值观和面对困难的态度。'}]}}"
      ]
     },
     "execution_count": 6,
     "metadata": {},
     "output_type": "execute_result"
    }
   ],
   "source": [
    "t.invoke(\"ok\")"
   ]
  },
  {
   "cell_type": "code",
   "execution_count": 7,
   "id": "a745244d-df0b-4144-92ed-a83de1163755",
   "metadata": {},
   "outputs": [
    {
     "data": {
      "text/plain": [
       "{'command': 'ok', 'args': None, 'reply': 'done'}"
      ]
     },
     "execution_count": 7,
     "metadata": {},
     "output_type": "execute_result"
    }
   ],
   "source": [
    "t.invoke(\"ok\")"
   ]
  },
  {
   "cell_type": "code",
   "execution_count": 8,
   "id": "6e884595-475a-4dda-9c20-fb1e471a25d5",
   "metadata": {},
   "outputs": [
    {
     "name": "stdout",
     "output_type": "stream",
     "text": [
      "0 致孩子的一封信：愿你健康成长 \n",
      "  扩写指南 >>> 本文是一封父母给孩子写的信，信中应包含对孩子的关爱、期望以及对其成长的鼓励。信中可以提及孩子的兴趣爱好、性格特点以及家庭的一些温馨时刻。此外，可以给出一些人生经验和建议，引导孩子树立正确的价值观。\n",
      "  内容摘要 >>> \n",
      "0.1 温暖的关爱与期望 \n",
      "  扩写指南 >>> 描述父母对孩子的深深关爱，表达对孩子未来的期望，提及孩子的兴趣爱好和性格优点，为孩子树立信心。\n",
      "  内容摘要 >>> \n",
      "0.2 家庭温馨时刻 \n",
      "  扩写指南 >>> 回顾家庭中的快乐时光，如一起度过的节日、旅行经历或日常生活中的小确幸，强调家庭对孩子成长的重要性。\n",
      "  内容摘要 >>> \n",
      "0.3 人生经验与建议 \n",
      "  扩写指南 >>> 分享父母的人生经验和智慧，给出针对孩子成长阶段的建议，引导孩子形成正确的价值观和面对困难的态度。\n",
      "  内容摘要 >>> \n"
     ]
    }
   ],
   "source": [
    "print(t.invoke(\"outlines\")['reply'])"
   ]
  },
  {
   "cell_type": "code",
   "execution_count": 7,
   "id": "a4a4fd73-c38a-46b6-b0f9-95bdb2d8b00d",
   "metadata": {},
   "outputs": [
    {
     "name": "stdout",
     "output_type": "stream",
     "text": [
      "{'command': 'texts', 'args': None}\n",
      "0 致孩子的一封信：成长的寄语 \n",
      " \n",
      "0.1 爱的肯定 \n",
      " \n",
      "0.2 面对挑战 \n",
      " \n",
      "0.3 家庭期望与支持 \n",
      " \n",
      "0.4 美好祝愿 \n",
      " \n"
     ]
    }
   ],
   "source": [
    "print(t.invoke(\"texts\")['reply'])"
   ]
  },
  {
   "cell_type": "markdown",
   "id": "24c84c55-031d-49dc-8e64-d04c56723f59",
   "metadata": {},
   "source": [
    "## 使用 auto_write 方法"
   ]
  },
  {
   "cell_type": "code",
   "execution_count": 3,
   "id": "25637947-bd75-4933-aecf-963e8eab8318",
   "metadata": {},
   "outputs": [],
   "source": [
    "from textlong import WritingTask\n",
    "from textlong.projects import load_content, save_content, load_prompts, save_prompts"
   ]
  },
  {
   "cell_type": "code",
   "execution_count": 4,
   "id": "c8c963ee-1384-4333-8f7c-7671dc8d3b21",
   "metadata": {},
   "outputs": [
    {
     "name": "stdout",
     "output_type": "stream",
     "text": [
      "```json\n",
      "{\n",
      "    \"总字数要求\": 800,\n",
      "    \"标题名称\": \"给孩子的信：成长的寄语\",\n",
      "    \"扩写指南\": \"本文是一封父母给予孩子的信，旨在表达父母对孩子的关爱、期望以及人生观的引导。信中可以提及孩子的兴趣爱好、性格特点以及家庭的一些美好回忆。同时，建议内容包括但不限于：教育孩子要善良、勇敢、独立；鼓励孩子追求梦想；分享生活中重要的人生经验。\"\n",
      "}\n",
      "```\n",
      "```json\n",
      "{\n",
      "    \"大纲列表\": [\n",
      "        {\n",
      "            \"总字数要求\": 300,\n",
      "            \"标题名称\": \"表达关爱与期望\",\n",
      "            \"扩写指南\": \"描述父母对孩子的深深关爱，对孩子的未来充满期望。可以提及孩子的独特性格和兴趣，以及父母对其成长的支持和鼓励。\"\n",
      "        },\n",
      "        {\n",
      "            \"总字数要求\": 200,\n",
      "            \"标题名称\": \"传承家庭价值观\",\n",
      "            \"扩写指南\": \"强调善良、勇敢、独立等家庭价值观，分享家庭生活中的美好回忆，以及这些价值观对孩子成长的重要性。\"\n",
      "        },\n",
      "        {\n",
      "            \"总字数要求\": 300,\n",
      "            \"标题名称\": \"追求梦想与人生经验\",\n",
      "            \"扩写指南\": \"鼓励孩子勇敢追求自己的梦想，分享父母在生活中获得的重要人生经验，帮助孩子准备好面对未来的挑战。\"\n",
      "        }\n",
      "    ]\n",
      "}\n",
      "```\n",
      "```json\n",
      "{\n",
      "    \"详细内容\": \"亲爱的孩子，自从你来到这个世界，你的每一个微笑、每一次成长都深深牵动着我们的心。你的独特性格，那份对世界的好奇与热情，让我们对你的未来充满了无限的期望。我们看到了你对音乐的热爱，对绘画的执着，这些兴趣不仅是你的快乐源泉，也是你未来可能的航向。我们会一直支持你，鼓励你，无论你的路途如何，我们都是你最坚强的后盾。在你追求梦想的路上，我们希望你能保持善良，勇敢面对困难，独立思考问题，这些都是我们家庭一直秉承的价值观。记住，无论你走到哪里，家永远是你温暖的港湾。\",\n",
      "    \"内容摘要\": \"父母对孩子的深深关爱和对未来的期望，提及孩子的音乐和绘画兴趣，父母的支持和鼓励，以及强调善良、勇敢、独立的家庭价值观。\"\n",
      "}\n",
      "```\n",
      "```json\n",
      "{\n",
      "    \"详细内容\": \"在你成长的道路上，我们会分享许多家庭生活中的美好回忆，这些回忆如同宝藏，将伴随你前行。我们希望你能在这些经历中学会感恩，学会珍惜，更重要的是，学会如何在逆境中保持善良，如何在挑战面前展现勇敢，如何在人生的每一个抉择中独立思考。这些价值观，不仅是你的立身之本，也是你通往成功的钥匙。我们相信，有了这些品质，你将能够更好地面对未来的挑战，实现自己的梦想。\",\n",
      "    \"内容摘要\": \"强调善良、勇敢、独立等家庭价值观在美好回忆中的体现，及其对孩子成长的重要性，为面对未来挑战做准备。\"\n",
      "}\n",
      "```\n",
      "```json\n",
      "{\n",
      "    \"详细内容\": \"追求梦想的路上免不了会遇到困难和挫折，但请记住，这些经历都是成长的磨砺。我们作为父母，也在生活中积累了一些重要的人生经验，愿与你分享。比如，坚持自己的信念，即使路途遥远也不放弃；学会从失败中汲取教训，勇敢地站起来继续前行；保持谦逊，永远不要停止学习。这些经验，希望能在你追求梦想的道路上给予你指引和力量。未来的挑战虽然未知，但我们相信你有能力也有智慧去应对。勇敢地追逐你的梦想吧，孩子，我们会一直在这里支持你。\",\n",
      "    \"内容摘要\": \"鼓励孩子勇敢追求自己的梦想，分享父母在生活中获得的重要人生经验，帮助孩子准备好面对未来的挑战。\"\n",
      "}\n",
      "```\n",
      "END\n"
     ]
    }
   ],
   "source": [
    "# 使用默认的智谱AI推理\n",
    "t = WritingTask(\"abc\")\n",
    "\n",
    "t.auto_write(\"task 致孩子的一封信, 800字\")"
   ]
  },
  {
   "cell_type": "code",
   "execution_count": 5,
   "id": "120fd913-36ed-46fe-b0ba-a2aa67d2babf",
   "metadata": {},
   "outputs": [
    {
     "data": {
      "text/plain": [
       "True"
      ]
     },
     "execution_count": 5,
     "metadata": {},
     "output_type": "execute_result"
    }
   ],
   "source": [
    "save_content(t.tree.root)"
   ]
  },
  {
   "cell_type": "code",
   "execution_count": 6,
   "id": "e3af85d5-cd2c-400c-a001-e2054dac5f25",
   "metadata": {},
   "outputs": [],
   "source": [
    "save_prompts(t.tree.root)"
   ]
  },
  {
   "cell_type": "code",
   "execution_count": 9,
   "id": "d80de8c9-f546-43a9-a56d-f4c68f88b942",
   "metadata": {},
   "outputs": [
    {
     "name": "stdout",
     "output_type": "stream",
     "text": [
      "0 给孩子的信：成长的寄语 \n",
      " \n",
      "0.1 表达关爱与期望 \n",
      " 亲爱的孩子，自从你来到这个世界，你的每一个微笑、每一次成长都深深牵动着我们的心。你的独特性格，那份对世界的好奇与热情，让我们对你的未来充满了无限的期望。我们看到了你对音乐的热爱，对绘画的执着，这些兴趣不仅是你的快乐源泉，也是你未来可能的航向。我们会一直支持你，鼓励你，无论你的路途如何，我们都是你最坚强的后盾。在你追求梦想的路上，我们希望你能保持善良，勇敢面对困难，独立思考问题，这些都是我们家庭一直秉承的价值观。记住，无论你走到哪里，家永远是你温暖的港湾。\n",
      "0.2 传承家庭价值观 \n",
      " 在你成长的道路上，我们会分享许多家庭生活中的美好回忆，这些回忆如同宝藏，将伴随你前行。我们希望你能在这些经历中学会感恩，学会珍惜，更重要的是，学会如何在逆境中保持善良，如何在挑战面前展现勇敢，如何在人生的每一个抉择中独立思考。这些价值观，不仅是你的立身之本，也是你通往成功的钥匙。我们相信，有了这些品质，你将能够更好地面对未来的挑战，实现自己的梦想。\n",
      "0.3 追求梦想与人生经验 \n",
      " 追求梦想的路上免不了会遇到困难和挫折，但请记住，这些经历都是成长的磨砺。我们作为父母，也在生活中积累了一些重要的人生经验，愿与你分享。比如，坚持自己的信念，即使路途遥远也不放弃；学会从失败中汲取教训，勇敢地站起来继续前行；保持谦逊，永远不要停止学习。这些经验，希望能在你追求梦想的道路上给予你指引和力量。未来的挑战虽然未知，但我们相信你有能力也有智慧去应对。勇敢地追逐你的梦想吧，孩子，我们会一直在这里支持你。\n"
     ]
    }
   ],
   "source": [
    "print(load_content(\"abc\").get_texts())"
   ]
  },
  {
   "cell_type": "code",
   "execution_count": 6,
   "id": "d74e6955-c395-475f-bf14-4f2d88b57055",
   "metadata": {},
   "outputs": [
    {
     "data": {
      "text/plain": [
       "True"
      ]
     },
     "execution_count": 6,
     "metadata": {},
     "output_type": "execute_result"
    }
   ],
   "source": [
    "t = WritingTask(\"abc\")\n",
    "load_prompts(t.tree.root)"
   ]
  },
  {
   "cell_type": "code",
   "execution_count": 12,
   "id": "67b44963-a953-42b2-a3f9-097fc0974f09",
   "metadata": {},
   "outputs": [
    {
     "data": {
      "text/plain": [
       "{'command': 'nodes',\n",
       " 'args': None,\n",
       " 'reply': [{'id': '0',\n",
       "   'type': 'outline',\n",
       "   'state': 'done',\n",
       "   'is_complete': True,\n",
       "   'is_draft': False,\n",
       "   'words_limit': 500,\n",
       "   'words_advice': 800,\n",
       "   'title': '致孩子的一封信：成长的寄语',\n",
       "   'howto': '本文是一封父母给孩子写的信，旨在表达父母对孩子的关爱、期望以及对其成长的鼓励。信中可以提及孩子的兴趣爱好、性格特点、以及家庭的一些美好回忆。同时，可以给出一些人生建议和价值观的引导，帮助孩子树立正确的世界观和人生观。',\n",
       "   'summarise': '',\n",
       "   'text': '',\n",
       "   'last_ai_reply_json': {'大纲列表': [{'总字数要求': 300,\n",
       "      '标题名称': '回忆与感恩',\n",
       "      '扩写指南': '描述一些家庭美好时光，表达对孩子的感恩之情，提及孩子的童年趣事和成长变化。'},\n",
       "     {'总字数要求': 200, '标题名称': '性格与兴趣', '扩写指南': '探讨孩子的性格特点和兴趣爱好，鼓励孩子保持个性，发展特长。'},\n",
       "     {'总字数要求': 300,\n",
       "      '标题名称': '期望与建议',\n",
       "      '扩写指南': '阐述父母对孩子的期望，提出人生建议，引导孩子树立正确的价值观和世界观。'}]}},\n",
       "  {'id': '0.1',\n",
       "   'type': 'paragraph',\n",
       "   'state': 'done',\n",
       "   'is_complete': True,\n",
       "   'is_draft': False,\n",
       "   'words_limit': 500,\n",
       "   'words_advice': 300,\n",
       "   'title': '回忆与感恩',\n",
       "   'howto': '描述一些家庭美好时光，表达对孩子的感恩之情，提及孩子的童年趣事和成长变化。',\n",
       "   'summarise': [{'回忆与感恩': '家庭美好时光，孩子的童年趣事和成长变化，表达感恩之情。'},\n",
       "    {'性格与兴趣': '孩子的性格特点和兴趣爱好，鼓励保持个性和发展特长。'},\n",
       "    {'期望与建议': '父母的期望和人生建议，引导孩子树立正确的价值观和世界观。'}],\n",
       "   'text': [{'回忆与感恩': '亲爱的孩子，每当我回想起你那些纯真的笑声，心中便充满了温暖。记得你在草地上追逐蝴蝶，在家里的地板上搭建梦想的积木城堡，那些简单的时光，却是我们家庭最宝贵的财富。你的成长，从蹒跚学步到如今独立思考，每一步都让我们感到无比的感恩。'},\n",
       "    {'性格与兴趣': '你总是充满好奇，对于世界有着无限的探索欲望。你的性格开朗，乐于分享，这让你的世界充满色彩。你的兴趣广泛，无论是绘画、音乐还是科学，你都能投入极大的热情。我们鼓励你保持这份热情，发展自己的特长，不断追求你的梦想。'},\n",
       "    {'期望与建议': '孩子，我们期望你成为一个有爱心、有责任感的人。在这个多变的世界里，希望你能坚持自己的原则，保持正直和善良。记住，成功不是唯一的目标，过程中的学习和成长更为重要。我们建议你珍惜每一次经历，无论成功或失败，都是你人生旅途中宝贵的财富。'}],\n",
       "   'last_ai_reply_json': {'详细内容': [{'回忆与感恩': '亲爱的孩子，每当我回想起你那些纯真的笑声，心中便充满了温暖。记得你在草地上追逐蝴蝶，在家里的地板上搭建梦想的积木城堡，那些简单的时光，却是我们家庭最宝贵的财富。你的成长，从蹒跚学步到如今独立思考，每一步都让我们感到无比的感恩。'},\n",
       "     {'性格与兴趣': '你总是充满好奇，对于世界有着无限的探索欲望。你的性格开朗，乐于分享，这让你的世界充满色彩。你的兴趣广泛，无论是绘画、音乐还是科学，你都能投入极大的热情。我们鼓励你保持这份热情，发展自己的特长，不断追求你的梦想。'},\n",
       "     {'期望与建议': '孩子，我们期望你成为一个有爱心、有责任感的人。在这个多变的世界里，希望你能坚持自己的原则，保持正直和善良。记住，成功不是唯一的目标，过程中的学习和成长更为重要。我们建议你珍惜每一次经历，无论成功或失败，都是你人生旅途中宝贵的财富。'}],\n",
       "    '内容摘要': [{'回忆与感恩': '家庭美好时光，孩子的童年趣事和成长变化，表达感恩之情。'},\n",
       "     {'性格与兴趣': '孩子的性格特点和兴趣爱好，鼓励保持个性和发展特长。'},\n",
       "     {'期望与建议': '父母的期望和人生建议，引导孩子树立正确的价值观和世界观。'}]}},\n",
       "  {'id': '0.2',\n",
       "   'type': 'paragraph',\n",
       "   'state': 'done',\n",
       "   'is_complete': True,\n",
       "   'is_draft': False,\n",
       "   'words_limit': 500,\n",
       "   'words_advice': 200,\n",
       "   'title': '性格与兴趣',\n",
       "   'howto': '探讨孩子的性格特点和兴趣爱好，鼓励孩子保持个性，发展特长。',\n",
       "   'summarise': {'性格与兴趣': '信中强调了孩子的性格变化和兴趣爱好的发展，鼓励孩子保持个性，积极探索和培养自己的特长，父母将一直给予支持。'},\n",
       "   'text': {'致孩子的一封信': '亲爱的孩子，随着岁月的流转，你已逐渐长大，你的每一个微笑和进步都是我们作为父母最大的骄傲。在你的成长路上，我们见证了你的性格从内向到开朗，你的兴趣从单一到多元。你对于绘画的热情，让我们看到了你的创造力和对美的追求；你对音乐的执着，让我们感受到了你对生活的热爱和节奏感。我们想告诉你，无论你的性格如何变化，无论你的兴趣如何扩展，我们都会一直支持你，鼓励你保持这份独特的个性，发展你所热爱的特长。'},\n",
       "   'last_ai_reply_json': {'详细内容': {'致孩子的一封信': '亲爱的孩子，随着岁月的流转，你已逐渐长大，你的每一个微笑和进步都是我们作为父母最大的骄傲。在你的成长路上，我们见证了你的性格从内向到开朗，你的兴趣从单一到多元。你对于绘画的热情，让我们看到了你的创造力和对美的追求；你对音乐的执着，让我们感受到了你对生活的热爱和节奏感。我们想告诉你，无论你的性格如何变化，无论你的兴趣如何扩展，我们都会一直支持你，鼓励你保持这份独特的个性，发展你所热爱的特长。'},\n",
       "    '内容摘要': {'性格与兴趣': '信中强调了孩子的性格变化和兴趣爱好的发展，鼓励孩子保持个性，积极探索和培养自己的特长，父母将一直给予支持。'}}},\n",
       "  {'id': '0.3',\n",
       "   'type': 'paragraph',\n",
       "   'state': 'done',\n",
       "   'is_complete': True,\n",
       "   'is_draft': False,\n",
       "   'words_limit': 500,\n",
       "   'words_advice': 300,\n",
       "   'title': '期望与建议',\n",
       "   'howto': '阐述父母对孩子的期望，提出人生建议，引导孩子树立正确的价值观和世界观。',\n",
       "   'summarise': {'期望与建议': '父母的期望是孩子健康成长，内心阳光，提出了坚持正义、勇于担当、保持学习和谦逊态度的建议，强调了知识的重要性，鼓励孩子追求梦想，不怕失败，树立正确的价值观和世界观。'},\n",
       "   'text': {'期望与建议': '孩子，我们对你的期望很简单——愿你健康成长，内心充满阳光。在这个充满挑战的世界里，我们希望你能够坚持正义，勇于担当，保持谦逊和学习的态度。我们建议你，要有自己的目标和梦想，同时也要学会理解和尊重他人。记住，知识改变命运，勤奋铸就未来。在追求你的梦想时，不要害怕失败，因为每一次失败都是通往成功的一步。我们希望你能树立正确的价值观和世界观，珍惜身边的人和事，用爱心和责任感去影响这个世界。'},\n",
       "   'last_ai_reply_json': {'详细内容': {'期望与建议': '孩子，我们对你的期望很简单——愿你健康成长，内心充满阳光。在这个充满挑战的世界里，我们希望你能够坚持正义，勇于担当，保持谦逊和学习的态度。我们建议你，要有自己的目标和梦想，同时也要学会理解和尊重他人。记住，知识改变命运，勤奋铸就未来。在追求你的梦想时，不要害怕失败，因为每一次失败都是通往成功的一步。我们希望你能树立正确的价值观和世界观，珍惜身边的人和事，用爱心和责任感去影响这个世界。'},\n",
       "    '内容摘要': {'期望与建议': '父母的期望是孩子健康成长，内心阳光，提出了坚持正义、勇于担当、保持学习和谦逊态度的建议，强调了知识的重要性，鼓励孩子追求梦想，不怕失败，树立正确的价值观和世界观。'}}}]}"
      ]
     },
     "execution_count": 12,
     "metadata": {},
     "output_type": "execute_result"
    }
   ],
   "source": [
    "t.invoke(\"nodes\")"
   ]
  },
  {
   "cell_type": "markdown",
   "id": "8ef2ef85-5795-4c54-8215-e6347fa790b9",
   "metadata": {},
   "source": [
    "## 使用 repl_write 方法"
   ]
  },
  {
   "cell_type": "code",
   "execution_count": 19,
   "id": "65201146",
   "metadata": {},
   "outputs": [
    {
     "name": "stdout",
     "output_type": "stream",
     "text": [
      "{'command': 'task', 'args': '致孩子的一封信, 800字'}\n",
      "```json\n",
      "{\n",
      "    \"总字数要求\": 800,\n",
      "    \"标题名称\": \"致孩子的一封信：成长的寄语\",\n",
      "    \"扩写指南\": \"本文是一封父母给孩子写的信，内容应涵盖对子女成长的关怀、期望以及对其个性的认可。信中可以提及具体的生活点滴、教育理念以及父母对孩子的美好祝愿。涉及的人物为父母与孩子，地点可以是家庭环境，情节主要围绕亲子关系和成长话题展开。\"\n",
      "}\n",
      "```\n",
      "{'command': 'task', 'args': '致孩子的一封信, 800字', 'reply': {'总字数要求': 800, '标题名称': '致孩子的一封信：成长的寄语', '扩写指南': '本文是一封父母给孩子写的信，内容应涵盖对子女成长的关怀、期望以及对其个性的认可。信中可以提及具体的生活点滴、教育理念以及父母对孩子的美好祝愿。涉及的人物为父母与孩子，地点可以是家庭环境，情节主要围绕亲子关系和成长话题展开。'}}\n",
      "<0 #init> None\n",
      "['quit', 'move', 'todo', 'draft', 'all', 'title', 'words_advice', 'howto', 'summarise', 'text', 'state', 'memory', 'ok', 'todo', 'modi', 'task', 'help']\n"
     ]
    },
    {
     "name": "stdin",
     "output_type": "stream",
     "text": [
      "\n",
      "👤:  state\n"
     ]
    },
    {
     "name": "stdout",
     "output_type": "stream",
     "text": [
      "{'command': 'state', 'args': None}\n",
      "{'command': 'state', 'args': None, 'reply': {'id': '0', 'state': 'init', 'is_draft': True, 'is_complete': False}}\n",
      "<0 #init> None\n",
      "['quit', 'move', 'todo', 'draft', 'all', 'title', 'words_advice', 'howto', 'summarise', 'text', 'state', 'memory', 'ok', 'todo', 'modi', 'task', 'help']\n"
     ]
    },
    {
     "name": "stdin",
     "output_type": "stream",
     "text": [
      "\n",
      "👤:  ok\n"
     ]
    },
    {
     "name": "stdout",
     "output_type": "stream",
     "text": [
      "{'command': 'ok', 'args': None}\n",
      "{'command': 'ok', 'args': None, 'reply': 'todo'}\n",
      "<0 #todo> 致孩子的一封信：成长的寄语\n",
      "['quit', 'move', 'todo', 'draft', 'all', 'title', 'words_advice', 'howto', 'summarise', 'text', 'state', 'memory', 'ok', 'todo', 'modi', 'task', 'help']\n"
     ]
    },
    {
     "name": "stdin",
     "output_type": "stream",
     "text": [
      "\n",
      "👤:  state\n"
     ]
    },
    {
     "name": "stdout",
     "output_type": "stream",
     "text": [
      "{'command': 'state', 'args': None}\n",
      "{'command': 'state', 'args': None, 'reply': {'id': '0', 'state': 'todo', 'is_draft': False, 'is_complete': False}}\n",
      "<0 #todo> 致孩子的一封信：成长的寄语\n",
      "['quit', 'move', 'todo', 'draft', 'all', 'title', 'words_advice', 'howto', 'summarise', 'text', 'state', 'memory', 'ok', 'todo', 'modi', 'task', 'help']\n"
     ]
    },
    {
     "name": "stdin",
     "output_type": "stream",
     "text": [
      "\n",
      "👤:  ok\n"
     ]
    },
    {
     "name": "stdout",
     "output_type": "stream",
     "text": [
      "{'command': 'ok', 'args': None}\n",
      "```json\n",
      "{\n",
      "    \"大纲列表\": [\n",
      "        {\n",
      "            \"总字数要求\": 250,\n",
      "            \"标题名称\": \"回忆过去\",\n",
      "            \"扩写指南\": \"描述孩子成长过程中的温馨时刻，父母的观察和感受，以及这些时刻对孩子成长的意义。\"\n",
      "        },\n",
      "        {\n",
      "            \"总字数要求\": 250,\n",
      "            \"标题名称\": \"理解与支持\",\n",
      "            \"扩写指南\": \"阐述父母对孩子的个性理解和尊重，以及在孩子成长过程中如何提供支持和引导。\"\n",
      "        },\n",
      "        {\n",
      "            \"总字数要求\": 300,\n",
      "            \"标题名称\": \"寄语未来\",\n",
      "            \"扩写指南\": \"表达父母对孩子未来的期望和祝福，鼓励孩子勇敢面对挑战，坚持自我，追求梦想。\"\n",
      "        }\n",
      "    ]\n",
      "}\n",
      "```\n",
      "{'command': 'ok', 'args': None, 'reply': {'大纲列表': [{'总字数要求': 250, '标题名称': '回忆过去', '扩写指南': '描述孩子成长过程中的温馨时刻，父母的观察和感受，以及这些时刻对孩子成长的意义。'}, {'总字数要求': 250, '标题名称': '理解与支持', '扩写指南': '阐述父母对孩子的个性理解和尊重，以及在孩子成长过程中如何提供支持和引导。'}, {'总字数要求': 300, '标题名称': '寄语未来', '扩写指南': '表达父母对孩子未来的期望和祝福，鼓励孩子勇敢面对挑战，坚持自我，追求梦想。'}]}}\n",
      "<0 #todo> 致孩子的一封信：成长的寄语\n",
      "['quit', 'move', 'todo', 'draft', 'all', 'title', 'words_advice', 'howto', 'summarise', 'text', 'state', 'memory', 'ok', 'todo', 'modi', 'task', 'help']\n"
     ]
    },
    {
     "name": "stdin",
     "output_type": "stream",
     "text": [
      "\n",
      "👤:  title\n"
     ]
    },
    {
     "name": "stdout",
     "output_type": "stream",
     "text": [
      "{'command': 'title', 'args': None}\n",
      "{'command': 'title', 'args': None, 'reply': '致孩子的一封信：成长的寄语'}\n",
      "<0 #todo> 致孩子的一封信：成长的寄语\n",
      "['quit', 'move', 'todo', 'draft', 'all', 'title', 'words_advice', 'howto', 'summarise', 'text', 'state', 'memory', 'ok', 'todo', 'modi', 'task', 'help']\n"
     ]
    },
    {
     "name": "stdin",
     "output_type": "stream",
     "text": [
      "\n",
      "👤:  ok\n"
     ]
    },
    {
     "name": "stdout",
     "output_type": "stream",
     "text": [
      "{'command': 'ok', 'args': None}\n",
      "{'command': 'ok', 'args': None, 'reply': 'done'}\n",
      "{'command': 'todo', 'args': None}\n",
      "{'command': 'move', 'args': '0.1'}\n",
      "{'command': 'ok', 'args': None}\n",
      "{'command': 'task', 'args': '请继续'}\n",
      "```json\n",
      "{\n",
      "    \"详细内容\": \"亲爱的孩子，每当我闭上眼，脑海中便涌现出你成长中的一幕幕：你第一次摇摇晃晃地走路，跌倒后倔强地自己站起来；你在夜晚的灯光下，专注地拼读每一个字母；还有你第一次骑自行车，脸上洋溢着自豪的笑容。这些瞬间，虽小却温暖，它们如同珍珠般串起了我们共同的回忆。作为父母，我们见证了你的每一次尝试与进步，你的勇气和坚持让我们感到骄傲。这些经历，不仅塑造了你的性格，也为你的未来打下了坚实的基础。\",\n",
      "    \"内容摘要\": \"描述了孩子成长中的几个温馨时刻，包括学习走路、读书和骑自行车等，父母见证并感受到这些时刻对孩子成长的重要意义。\"\n",
      "}\n",
      "```\n",
      "<0.1 #todo> 回忆过去\n",
      "['quit', 'move', 'todo', 'draft', 'all', 'title', 'words_advice', 'howto', 'summarise', 'text', 'state', 'memory', 'ok', 'todo', 'modi', 'task', 'help']\n"
     ]
    },
    {
     "name": "stdin",
     "output_type": "stream",
     "text": [
      "\n",
      "👤:  title\n"
     ]
    },
    {
     "name": "stdout",
     "output_type": "stream",
     "text": [
      "{'command': 'title', 'args': None}\n",
      "{'command': 'title', 'args': None, 'reply': '回忆过去'}\n",
      "<0.1 #todo> 回忆过去\n",
      "['quit', 'move', 'todo', 'draft', 'all', 'title', 'words_advice', 'howto', 'summarise', 'text', 'state', 'memory', 'ok', 'todo', 'modi', 'task', 'help']\n"
     ]
    },
    {
     "name": "stdin",
     "output_type": "stream",
     "text": [
      "\n",
      "👤:  ok\n"
     ]
    },
    {
     "name": "stdout",
     "output_type": "stream",
     "text": [
      "{'command': 'ok', 'args': None}\n",
      "{'command': 'ok', 'args': None, 'reply': 'done'}\n",
      "{'command': 'todo', 'args': None}\n",
      "{'command': 'move', 'args': '0.2'}\n",
      "{'command': 'ok', 'args': None}\n",
      "{'command': 'task', 'args': '请继续'}\n",
      "```json\n",
      "{\n",
      "    \"详细内容\": \"亲爱的孩子，我们一直致力于理解你的独特个性，尊重你的选择和兴趣。在你成长的道路上，我们始终以温暖的目光注视着你，从学习走路时的蹒跚到读书时的专注，再到骑自行车时的自由驰骋。我们明白，每个孩子都是独立的个体，需要不同的支持与引导。因此，我们鼓励你去探索、去尝试，哪怕失败，也视为成长的宝贵经验。我们愿意倾听你的想法，和你一起面对困难，共同寻找解决问题的方法，让你在自信和爱中茁壮成长。\",\n",
      "    \"内容摘要\": \"父母表达了对孩子个性的理解和尊重，并承诺在孩子成长过程中提供鼓励、支持与引导，强调了探索与尝试的重要性，以及共同面对困难的家庭价值观。\"\n",
      "}\n",
      "```\n",
      "<0.2 #todo> 理解与支持\n",
      "['quit', 'move', 'todo', 'draft', 'all', 'title', 'words_advice', 'howto', 'summarise', 'text', 'state', 'memory', 'ok', 'todo', 'modi', 'task', 'help']\n"
     ]
    },
    {
     "name": "stdin",
     "output_type": "stream",
     "text": [
      "\n",
      "👤:  outlines\n"
     ]
    },
    {
     "name": "stdout",
     "output_type": "stream",
     "text": [
      "{'command': 'help', 'args': 'outlines'}\n",
      "根据您提供的内容，如果您是在询问“outlines”一词在上述文本中的应用或解释，以下是我为您准备的信息：\n",
      "\n",
      "在写作中，“outlines”通常指的是一个概括性的框架或概要，它展示了一个主题或故事的主要结构。在您提供的文本中，“outlines”可以这样理解：\n",
      "\n",
      "1. **详细内容**：\n",
      "   - 这部分内容并没有直接使用“outlines”这个词，但如果要概括这段话的要点，可以说它“outlines”（概述）了父母对孩子的教育理念和支持态度。\n",
      "   - **例句**：“这段话outlines了父母对孩子个性尊重、鼓励探索的家庭教育理念。”\n",
      "\n",
      "2. **内容摘要**：\n",
      "   - 这部分是对详细内容的简洁概括，它“outlines”（概述）了父母的态度、承诺以及家庭价值观的核心要点。\n",
      "   - **例句**：“内容摘要中outlines了父母愿意在孩子成长过程中提供必要的支持与引导。”\n",
      "\n",
      "在具体使用“outlines”这个词时，可以参考以下例句：\n",
      "\n",
      "- “作者用详细的叙述outlines了父母与孩子共同成长的温馨画面。”\n",
      "- “这篇文章的outlines清晰地展现了家庭教育的核心理念。”\n",
      "\n",
      "希望这些信息能够帮助您更好地理解“outlines”一词在文本中的应用。如果您有其他关于写作的问题或需要进一步的解释，请随时告诉我。\n",
      "{'command': 'help', 'args': 'outlines', 'reply': '根据您提供的内容，如果您是在询问“outlines”一词在上述文本中的应用或解释，以下是我为您准备的信息：\\n\\n在写作中，“outlines”通常指的是一个概括性的框架或概要，它展示了一个主题或故事的主要结构。在您提供的文本中，“outlines”可以这样理解：\\n\\n1. **详细内容**：\\n   - 这部分内容并没有直接使用“outlines”这个词，但如果要概括这段话的要点，可以说它“outlines”（概述）了父母对孩子的教育理念和支持态度。\\n   - **例句**：“这段话outlines了父母对孩子个性尊重、鼓励探索的家庭教育理念。”\\n\\n2. **内容摘要**：\\n   - 这部分是对详细内容的简洁概括，它“outlines”（概述）了父母的态度、承诺以及家庭价值观的核心要点。\\n   - **例句**：“内容摘要中outlines了父母愿意在孩子成长过程中提供必要的支持与引导。”\\n\\n在具体使用“outlines”这个词时，可以参考以下例句：\\n\\n- “作者用详细的叙述outlines了父母与孩子共同成长的温馨画面。”\\n- “这篇文章的outlines清晰地展现了家庭教育的核心理念。”\\n\\n希望这些信息能够帮助您更好地理解“outlines”一词在文本中的应用。如果您有其他关于写作的问题或需要进一步的解释，请随时告诉我。'}\n",
      "<0.2 #todo> 理解与支持\n",
      "['quit', 'move', 'todo', 'draft', 'all', 'title', 'words_advice', 'howto', 'summarise', 'text', 'state', 'memory', 'ok', 'todo', 'modi', 'task', 'help']\n"
     ]
    },
    {
     "name": "stdin",
     "output_type": "stream",
     "text": [
      "\n",
      "👤:  nodes\n"
     ]
    },
    {
     "name": "stdout",
     "output_type": "stream",
     "text": [
      "{'command': 'help', 'args': 'nodes'}\n",
      "在您提供的文本中，“nodes”这个词出现在两个不同的上下文中，分别指的是：\n",
      "\n",
      "1. **区块链网络中的节点**：\n",
      "   - 在参考信息[1]中，\"nodes\"指的是区块链网络中的各个独立计算实体，每个节点都参与网络的维护和数据存储。\n",
      "   - 例句：“在创建一个由三个节点组成的去中心化区块链网络中，每个节点对应不同的端口，并负责处理区块链的构建、交易验证等任务。”\n",
      "\n",
      "2. **前端开发中的树结构节点**：\n",
      "   - 在参考信息[2]中，\"nodes\"指的是前端开发中的Tree组件的各个分支点，即树结构中的每个元素。\n",
      "   - 例句：“在PrimeVue的Tree组件中，可以通过定义节点对象来初始化树的nodes，并控制它们的展开和折叠。”\n",
      "\n",
      "以下是关于“nodes”的一些一般性解释：\n",
      "\n",
      "- **计算机科学中的节点**：在计算机科学中，节点通常指的是网络、数据结构（如树、图）或分布式系统中的一个连接点或实体。\n",
      "- **网络中的节点**：在网络中，节点可以是任何连接到网络的设备，如计算机、服务器或传感器。\n",
      "- **数据结构中的节点**：在数据结构中，节点是构成结构的基本单元，例如链表中的每个元素或树结构中的每个分支点。\n",
      "\n",
      "在编写文档或解释相关概念时，使用“nodes”这个词有助于明确指代这些不同的实体或元素。\n",
      "{'command': 'help', 'args': 'nodes', 'reply': '在您提供的文本中，“nodes”这个词出现在两个不同的上下文中，分别指的是：\\n\\n1. **区块链网络中的节点**：\\n   - 在参考信息[1]中，\"nodes\"指的是区块链网络中的各个独立计算实体，每个节点都参与网络的维护和数据存储。\\n   - 例句：“在创建一个由三个节点组成的去中心化区块链网络中，每个节点对应不同的端口，并负责处理区块链的构建、交易验证等任务。”\\n\\n2. **前端开发中的树结构节点**：\\n   - 在参考信息[2]中，\"nodes\"指的是前端开发中的Tree组件的各个分支点，即树结构中的每个元素。\\n   - 例句：“在PrimeVue的Tree组件中，可以通过定义节点对象来初始化树的nodes，并控制它们的展开和折叠。”\\n\\n以下是关于“nodes”的一些一般性解释：\\n\\n- **计算机科学中的节点**：在计算机科学中，节点通常指的是网络、数据结构（如树、图）或分布式系统中的一个连接点或实体。\\n- **网络中的节点**：在网络中，节点可以是任何连接到网络的设备，如计算机、服务器或传感器。\\n- **数据结构中的节点**：在数据结构中，节点是构成结构的基本单元，例如链表中的每个元素或树结构中的每个分支点。\\n\\n在编写文档或解释相关概念时，使用“nodes”这个词有助于明确指代这些不同的实体或元素。'}\n",
      "<0.2 #todo> 理解与支持\n",
      "['quit', 'move', 'todo', 'draft', 'all', 'title', 'words_advice', 'howto', 'summarise', 'text', 'state', 'memory', 'ok', 'todo', 'modi', 'task', 'help']\n"
     ]
    },
    {
     "name": "stdin",
     "output_type": "stream",
     "text": [
      "\n",
      "👤:  title\n"
     ]
    },
    {
     "name": "stdout",
     "output_type": "stream",
     "text": [
      "{'command': 'title', 'args': None}\n",
      "{'command': 'title', 'args': None, 'reply': '理解与支持'}\n",
      "<0.2 #todo> 理解与支持\n",
      "['quit', 'move', 'todo', 'draft', 'all', 'title', 'words_advice', 'howto', 'summarise', 'text', 'state', 'memory', 'ok', 'todo', 'modi', 'task', 'help']\n"
     ]
    },
    {
     "name": "stdin",
     "output_type": "stream",
     "text": [
      "\n",
      "👤:  qiut\n"
     ]
    },
    {
     "name": "stdout",
     "output_type": "stream",
     "text": [
      "{'command': 'help', 'args': 'qiut'}\n",
      "I apologize for any confusion. It seems like there might have been a misunderstanding or a change in direction for the conversation. If you want to quit the current topic or end the conversation, that's perfectly fine. If you have any other questions or need assistance with something else in the future, feel free to reach out. Have a great day!\n",
      "{'command': 'help', 'args': 'qiut', 'reply': \"I apologize for any confusion. It seems like there might have been a misunderstanding or a change in direction for the conversation. If you want to quit the current topic or end the conversation, that's perfectly fine. If you have any other questions or need assistance with something else in the future, feel free to reach out. Have a great day!\"}\n",
      "<0.2 #todo> 理解与支持\n",
      "['quit', 'move', 'todo', 'draft', 'all', 'title', 'words_advice', 'howto', 'summarise', 'text', 'state', 'memory', 'ok', 'todo', 'modi', 'task', 'help']\n"
     ]
    },
    {
     "name": "stdin",
     "output_type": "stream",
     "text": [
      "\n",
      "👤:  quit\n"
     ]
    },
    {
     "name": "stdout",
     "output_type": "stream",
     "text": [
      "{'command': 'quit', 'args': None}\n",
      "{'command': 'quit', 'args': None, 'reply': '<QUIT>'}\n",
      "QUIT\n"
     ]
    }
   ],
   "source": [
    "from textlong import WritingTask\n",
    "\n",
    "# 使用默认的智谱AI推理\n",
    "t = WritingTask()\n",
    "\n",
    "t.repl_write(\"task 致孩子的一封信, 800字\")"
   ]
  },
  {
   "cell_type": "code",
   "execution_count": 33,
   "id": "4659ce57-fc8d-40b6-9726-3eada8bbe91b",
   "metadata": {},
   "outputs": [
    {
     "data": {
      "text/plain": [
       "{'详细内容': '亲爱的孩子，每当我闭上眼，脑海中便涌现出你成长中的一幕幕：你第一次摇摇晃晃地走路，跌倒后倔强地自己站起来；你在夜晚的灯光下，专注地拼读每一个字母；还有你第一次骑自行车，脸上洋溢着自豪的笑容。这些瞬间，虽小却温暖，它们如同珍珠般串起了我们共同的回忆。作为父母，我们见证了你的每一次尝试与进步，你的勇气和坚持让我们感到骄傲。这些经历，不仅塑造了你的性格，也为你的未来打下了坚实的基础。',\n",
       " '内容摘要': '描述了孩子成长中的几个温馨时刻，包括学习走路、读书和骑自行车等，父母见证并感受到这些时刻对孩子成长的重要意义。'}"
      ]
     },
     "execution_count": 33,
     "metadata": {},
     "output_type": "execute_result"
    }
   ],
   "source": [
    "t.tree.root._children[1].last_ai_reply_json"
   ]
  },
  {
   "cell_type": "markdown",
   "id": "75c0adda-ace7-49ac-a0bc-48f36090bb93",
   "metadata": {},
   "source": [
    "## save_prompts"
   ]
  },
  {
   "cell_type": "code",
   "execution_count": 14,
   "id": "8725e427-edca-49a7-8028-8fffcada0a16",
   "metadata": {},
   "outputs": [],
   "source": [
    "from textlong.projects import load_prompts, save_prompts"
   ]
  },
  {
   "cell_type": "code",
   "execution_count": 16,
   "id": "172eceee-a0fc-4fd9-be01-57e680d860ab",
   "metadata": {},
   "outputs": [
    {
     "ename": "TypeError",
     "evalue": "join() argument must be str, bytes, or os.PathLike object, not 'ContentNode'",
     "output_type": "error",
     "traceback": [
      "\u001b[0;31m---------------------------------------------------------------------------\u001b[0m",
      "\u001b[0;31mTypeError\u001b[0m                                 Traceback (most recent call last)",
      "Cell \u001b[0;32mIn[16], line 1\u001b[0m\n\u001b[0;32m----> 1\u001b[0m \u001b[43msave_prompts\u001b[49m\u001b[43m(\u001b[49m\u001b[43mt\u001b[49m\u001b[38;5;241;43m.\u001b[39;49m\u001b[43mtree\u001b[49m\u001b[38;5;241;43m.\u001b[39;49m\u001b[43mroot\u001b[49m\u001b[43m)\u001b[49m\n",
      "File \u001b[0;32m~/github/textlong/textlong/projects.py:119\u001b[0m, in \u001b[0;36msave_prompts\u001b[0;34m(project_id, id)\u001b[0m\n\u001b[1;32m    115\u001b[0m \u001b[38;5;28;01mdef\u001b[39;00m \u001b[38;5;21msave_prompts\u001b[39m(project_id: \u001b[38;5;28mstr\u001b[39m, \u001b[38;5;28mid\u001b[39m\u001b[38;5;241m=\u001b[39m\u001b[38;5;124m\"\u001b[39m\u001b[38;5;124m0\u001b[39m\u001b[38;5;124m\"\u001b[39m):\n\u001b[1;32m    116\u001b[0m \u001b[38;5;250m    \u001b[39m\u001b[38;5;124;03m\"\"\"\u001b[39;00m\n\u001b[1;32m    117\u001b[0m \u001b[38;5;124;03m    保存提示语模板到项目目录。\u001b[39;00m\n\u001b[1;32m    118\u001b[0m \u001b[38;5;124;03m    \"\"\"\u001b[39;00m\n\u001b[0;32m--> 119\u001b[0m     \u001b[43msave_chat_prompt\u001b[49m\u001b[43m(\u001b[49m\u001b[43mcreate_writing_help_prompt\u001b[49m\u001b[43m(\u001b[49m\u001b[43m)\u001b[49m\u001b[43m,\u001b[49m\u001b[43m \u001b[49m\u001b[43mtemplate_id\u001b[49m\u001b[38;5;241;43m=\u001b[39;49m\u001b[38;5;124;43m'\u001b[39;49m\u001b[38;5;124;43mhelp\u001b[39;49m\u001b[38;5;124;43m'\u001b[39;49m\u001b[43m,\u001b[49m\u001b[43m \u001b[49m\u001b[43mproject_id\u001b[49m\u001b[38;5;241;43m=\u001b[39;49m\u001b[43mproject_id\u001b[49m\u001b[43m,\u001b[49m\u001b[43m \u001b[49m\u001b[38;5;28;43mid\u001b[39;49m\u001b[38;5;241;43m=\u001b[39;49m\u001b[38;5;28;43mid\u001b[39;49m\u001b[43m)\u001b[49m\n\u001b[1;32m    120\u001b[0m     save_chat_prompt(create_writing_init_prompt(), template_id\u001b[38;5;241m=\u001b[39m\u001b[38;5;124m'\u001b[39m\u001b[38;5;124minit\u001b[39m\u001b[38;5;124m'\u001b[39m, project_id\u001b[38;5;241m=\u001b[39mproject_id, \u001b[38;5;28mid\u001b[39m\u001b[38;5;241m=\u001b[39m\u001b[38;5;28mid\u001b[39m)\n\u001b[1;32m    121\u001b[0m     save_chat_prompt(create_writing_todo_prompt(content_type\u001b[38;5;241m=\u001b[39m\u001b[38;5;124m'\u001b[39m\u001b[38;5;124moutline\u001b[39m\u001b[38;5;124m'\u001b[39m), template_id\u001b[38;5;241m=\u001b[39m\u001b[38;5;124m'\u001b[39m\u001b[38;5;124moutline\u001b[39m\u001b[38;5;124m'\u001b[39m, project_id\u001b[38;5;241m=\u001b[39mproject_id, \u001b[38;5;28mid\u001b[39m\u001b[38;5;241m=\u001b[39m\u001b[38;5;28mid\u001b[39m)\n",
      "File \u001b[0;32m~/github/textlong/textlong/prompts/hub.py:22\u001b[0m, in \u001b[0;36msave_chat_prompt\u001b[0;34m(template, template_id, project_id, id)\u001b[0m\n\u001b[1;32m     18\u001b[0m \u001b[38;5;28;01mdef\u001b[39;00m \u001b[38;5;21msave_chat_prompt\u001b[39m(template: ChatPromptTemplate, template_id: \u001b[38;5;28mstr\u001b[39m, project_id: \u001b[38;5;28mstr\u001b[39m, \u001b[38;5;28mid\u001b[39m\u001b[38;5;241m=\u001b[39m\u001b[38;5;124m\"\u001b[39m\u001b[38;5;124m0\u001b[39m\u001b[38;5;124m\"\u001b[39m):\n\u001b[1;32m     19\u001b[0m \u001b[38;5;250m    \u001b[39m\u001b[38;5;124;03m\"\"\"\u001b[39;00m\n\u001b[1;32m     20\u001b[0m \u001b[38;5;124;03m    保存提示语模板。\u001b[39;00m\n\u001b[1;32m     21\u001b[0m \u001b[38;5;124;03m    \"\"\"\u001b[39;00m\n\u001b[0;32m---> 22\u001b[0m     prompt_path \u001b[38;5;241m=\u001b[39m \u001b[43mos\u001b[49m\u001b[38;5;241;43m.\u001b[39;49m\u001b[43mpath\u001b[49m\u001b[38;5;241;43m.\u001b[39;49m\u001b[43mjoin\u001b[49m\u001b[43m(\u001b[49m\u001b[43mget_textlong_folder\u001b[49m\u001b[43m(\u001b[49m\u001b[43m)\u001b[49m\u001b[43m,\u001b[49m\u001b[43m \u001b[49m\u001b[43mproject_id\u001b[49m\u001b[43m,\u001b[49m\u001b[43m \u001b[49m\u001b[43m_PROMPTS_FOLDER_NAME\u001b[49m\u001b[43m,\u001b[49m\u001b[43m \u001b[49m\u001b[38;5;28;43mid\u001b[39;49m\u001b[43m,\u001b[49m\u001b[43m \u001b[49m\u001b[43mtemplate_id\u001b[49m\u001b[43m)\u001b[49m\n\u001b[1;32m     24\u001b[0m     \u001b[38;5;28;01mfor\u001b[39;00m i, p \u001b[38;5;129;01min\u001b[39;00m \u001b[38;5;28menumerate\u001b[39m(template\u001b[38;5;241m.\u001b[39mmessages):\n\u001b[1;32m     25\u001b[0m         \u001b[38;5;28;01mif\u001b[39;00m \u001b[38;5;28misinstance\u001b[39m(p, SystemMessagePromptTemplate):\n",
      "File \u001b[0;32m~/.pyenv/versions/3.10.0/lib/python3.10/posixpath.py:90\u001b[0m, in \u001b[0;36mjoin\u001b[0;34m(a, *p)\u001b[0m\n\u001b[1;32m     88\u001b[0m             path \u001b[38;5;241m+\u001b[39m\u001b[38;5;241m=\u001b[39m sep \u001b[38;5;241m+\u001b[39m b\n\u001b[1;32m     89\u001b[0m \u001b[38;5;28;01mexcept\u001b[39;00m (\u001b[38;5;167;01mTypeError\u001b[39;00m, \u001b[38;5;167;01mAttributeError\u001b[39;00m, \u001b[38;5;167;01mBytesWarning\u001b[39;00m):\n\u001b[0;32m---> 90\u001b[0m     \u001b[43mgenericpath\u001b[49m\u001b[38;5;241;43m.\u001b[39;49m\u001b[43m_check_arg_types\u001b[49m\u001b[43m(\u001b[49m\u001b[38;5;124;43m'\u001b[39;49m\u001b[38;5;124;43mjoin\u001b[39;49m\u001b[38;5;124;43m'\u001b[39;49m\u001b[43m,\u001b[49m\u001b[43m \u001b[49m\u001b[43ma\u001b[49m\u001b[43m,\u001b[49m\u001b[43m \u001b[49m\u001b[38;5;241;43m*\u001b[39;49m\u001b[43mp\u001b[49m\u001b[43m)\u001b[49m\n\u001b[1;32m     91\u001b[0m     \u001b[38;5;28;01mraise\u001b[39;00m\n\u001b[1;32m     92\u001b[0m \u001b[38;5;28;01mreturn\u001b[39;00m path\n",
      "File \u001b[0;32m~/.pyenv/versions/3.10.0/lib/python3.10/genericpath.py:152\u001b[0m, in \u001b[0;36m_check_arg_types\u001b[0;34m(funcname, *args)\u001b[0m\n\u001b[1;32m    150\u001b[0m         hasbytes \u001b[38;5;241m=\u001b[39m \u001b[38;5;28;01mTrue\u001b[39;00m\n\u001b[1;32m    151\u001b[0m     \u001b[38;5;28;01melse\u001b[39;00m:\n\u001b[0;32m--> 152\u001b[0m         \u001b[38;5;28;01mraise\u001b[39;00m \u001b[38;5;167;01mTypeError\u001b[39;00m(\u001b[38;5;124mf\u001b[39m\u001b[38;5;124m'\u001b[39m\u001b[38;5;132;01m{\u001b[39;00mfuncname\u001b[38;5;132;01m}\u001b[39;00m\u001b[38;5;124m() argument must be str, bytes, or \u001b[39m\u001b[38;5;124m'\u001b[39m\n\u001b[1;32m    153\u001b[0m                         \u001b[38;5;124mf\u001b[39m\u001b[38;5;124m'\u001b[39m\u001b[38;5;124mos.PathLike object, not \u001b[39m\u001b[38;5;132;01m{\u001b[39;00ms\u001b[38;5;241m.\u001b[39m\u001b[38;5;18m__class__\u001b[39m\u001b[38;5;241m.\u001b[39m\u001b[38;5;18m__name__\u001b[39m\u001b[38;5;132;01m!r}\u001b[39;00m\u001b[38;5;124m'\u001b[39m) \u001b[38;5;28;01mfrom\u001b[39;00m \u001b[38;5;28;01mNone\u001b[39;00m\n\u001b[1;32m    154\u001b[0m \u001b[38;5;28;01mif\u001b[39;00m hasstr \u001b[38;5;129;01mand\u001b[39;00m hasbytes:\n\u001b[1;32m    155\u001b[0m     \u001b[38;5;28;01mraise\u001b[39;00m \u001b[38;5;167;01mTypeError\u001b[39;00m(\u001b[38;5;124m\"\u001b[39m\u001b[38;5;124mCan\u001b[39m\u001b[38;5;124m'\u001b[39m\u001b[38;5;124mt mix strings and bytes in path components\u001b[39m\u001b[38;5;124m\"\u001b[39m) \u001b[38;5;28;01mfrom\u001b[39;00m \u001b[38;5;28;01mNone\u001b[39;00m\n",
      "\u001b[0;31mTypeError\u001b[0m: join() argument must be str, bytes, or os.PathLike object, not 'ContentNode'"
     ]
    }
   ],
   "source": [
    "save_prompts(t.tree.root)"
   ]
  },
  {
   "cell_type": "code",
   "execution_count": null,
   "id": "e55cca1c-1d31-4df0-8801-2643dfa66186",
   "metadata": {},
   "outputs": [],
   "source": []
  }
 ],
 "metadata": {
  "kernelspec": {
   "display_name": "langchani-book-py3.10-ipykernel",
   "language": "python",
   "name": "langchani-book-py3.10-ipykernel"
  },
  "language_info": {
   "codemirror_mode": {
    "name": "ipython",
    "version": 3
   },
   "file_extension": ".py",
   "mimetype": "text/x-python",
   "name": "python",
   "nbconvert_exporter": "python",
   "pygments_lexer": "ipython3",
   "version": "3.10.0"
  }
 },
 "nbformat": 4,
 "nbformat_minor": 5
}
