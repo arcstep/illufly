{
 "cells": [
  {
   "cell_type": "code",
   "execution_count": 1,
   "id": "f3045be3-ca71-46ba-8fa3-f6d999a63a5c",
   "metadata": {},
   "outputs": [],
   "source": [
    "import os\n",
    "from dotenv import load_dotenv, find_dotenv\n",
    "load_dotenv(find_dotenv(), override=True)\n",
    "os.chdir('..')"
   ]
  },
  {
   "cell_type": "code",
   "execution_count": 2,
   "id": "1713b2a7-ccb1-4dd2-8a1b-f3de36e72486",
   "metadata": {},
   "outputs": [],
   "source": [
    "# os.environ.get(\"ZHIPUAI_API_KEY\")"
   ]
  },
  {
   "cell_type": "markdown",
   "id": "c9235cf3-0b5d-4682-9e0f-f1e395d03ee7",
   "metadata": {},
   "source": [
    "# WritingProject"
   ]
  },
  {
   "cell_type": "markdown",
   "id": "1a559bde-0913-4601-9033-fdba9c265979",
   "metadata": {},
   "source": [
    "## step"
   ]
  },
  {
   "cell_type": "code",
   "execution_count": 3,
   "id": "ae344e34-dd8c-4e14-bbff-916c8c575893",
   "metadata": {},
   "outputs": [
    {
     "name": "stdout",
     "output_type": "stream",
     "text": [
      "{'command': 'task', 'args': '致孩子的一封信, 800字'}\n",
      "```json\n",
      "{\n",
      "    \"总字数要求\": 800,\n",
      "    \"标题名称\": \"致孩子的一封信：成长的寄语\",\n",
      "    \"扩写指南\": \"本文是一封父母给孩子写的信，信中应包含对孩子成长过程中的关爱、期望以及对其个性、兴趣的理解和支持。信中可以提及孩子的兴趣爱好、学习情况以及父母的一些人生经验分享。建议在信中采用亲切、鼓励的语言，体现出家庭的温暖和对孩子未来的美好祝愿。\"\n",
      "}\n",
      "```\n",
      "{'command': 'ok', 'args': None}\n"
     ]
    },
    {
     "data": {
      "text/plain": [
       "{'command': 'ok', 'args': None, 'reply': 'todo'}"
      ]
     },
     "execution_count": 3,
     "metadata": {},
     "output_type": "execute_result"
    }
   ],
   "source": [
    "from textlong import WritingTask\n",
    "\n",
    "# 使用默认的智谱AI推理\n",
    "t = WritingTask()\n",
    "\n",
    "t.invoke(\"task 致孩子的一封信, 800字\")\n",
    "t.invoke(\"ok\")"
   ]
  },
  {
   "cell_type": "code",
   "execution_count": 4,
   "id": "831bcb4b-ba7c-4f31-90fe-df8ccfb43aa3",
   "metadata": {},
   "outputs": [
    {
     "name": "stdout",
     "output_type": "stream",
     "text": [
      "{'command': 'todo', 'args': None}\n",
      "{'command': 'move', 'args': '0'}\n",
      "{'command': 'task', 'args': '请继续'}\n",
      "```json\n",
      "{\n",
      "    \"大纲列表\": [\n",
      "        {\n",
      "            \"总字数要求\": 300,\n",
      "            \"标题名称\": \"回顾与感恩\",\n",
      "            \"扩写指南\": \"描述孩子从小到大的成长点滴，表达父母对其成长的感慨与感恩。提及孩子的一些优点和特别的时刻，以及这些时刻给父母带来的感动和骄傲。\"\n",
      "        },\n",
      "        {\n",
      "            \"总字数要求\": 200,\n",
      "            \"标题名称\": \"理解与支持\",\n",
      "            \"扩写指南\": \"讨论孩子的个性特点和兴趣爱好，强调父母对孩子的理解和支持。提及父母愿意陪伴孩子探索兴趣，鼓励孩子发展特长。\"\n",
      "        },\n",
      "        {\n",
      "            \"总字数要求\": 200,\n",
      "            \"标题名称\": \"期望与鼓励\",\n",
      "            \"扩写指南\": \"分享父母对孩子未来的期望，同时给予鼓励和信心。提出一些具体的人生建议，并鼓励孩子勇敢面对挑战，保持积极向上的态度。\"\n",
      "        },\n",
      "        {\n",
      "            \"总字数要求\": 100,\n",
      "            \"标题名称\": \"爱与祝福\",\n",
      "            \"扩写指南\": \"以温暖的语言结束信件，表达对孩子无尽的爱和最美好的祝福，以及对孩子未来的信心和期待。\"\n",
      "        }\n",
      "    ]\n",
      "}\n",
      "```\n",
      "{'command': 'ok', 'args': None}\n"
     ]
    }
   ],
   "source": [
    "resp = t.invoke(\"todo\")\n",
    "if resp['reply']:\n",
    "    t.invoke(f\"move {resp['reply']}\")\n",
    "    if t.tree.todo_node.state == \"init\":\n",
    "        t.invoke(\"ok\")\n",
    "    if t.tree.todo_node.state == \"todo\":\n",
    "        t.invoke(\"task 请继续\")\n",
    "        t.invoke(\"ok\")\n",
    "else:\n",
    "    print(\"END\")"
   ]
  },
  {
   "cell_type": "code",
   "execution_count": 5,
   "id": "3ff2e2ab-d83f-4d18-814e-0c7db6e115a2",
   "metadata": {},
   "outputs": [
    {
     "data": {
      "text/plain": [
       "[{'id': '0',\n",
       "  'type': 'outline',\n",
       "  'state': 'done',\n",
       "  'is_complete': True,\n",
       "  'is_draft': False,\n",
       "  'words_advice': 800,\n",
       "  'title': '致孩子的一封信：成长的寄语',\n",
       "  'howto': '本文是一封父母给孩子写的信，信中应包含对孩子成长过程中的关爱、期望以及对其个性、兴趣的理解和支持。信中可以提及孩子的兴趣爱好、学习情况以及父母的一些人生经验分享。建议在信中采用亲切、鼓励的语言，体现出家庭的温暖和对孩子未来的美好祝愿。',\n",
       "  'summarise': None,\n",
       "  'text': ''},\n",
       " {'id': '0.1',\n",
       "  'type': 'unknown',\n",
       "  'state': 'init',\n",
       "  'is_complete': False,\n",
       "  'is_draft': False,\n",
       "  'words_advice': None,\n",
       "  'title': '',\n",
       "  'howto': '',\n",
       "  'summarise': None,\n",
       "  'text': ''},\n",
       " {'id': '0.2',\n",
       "  'type': 'unknown',\n",
       "  'state': 'init',\n",
       "  'is_complete': False,\n",
       "  'is_draft': False,\n",
       "  'words_advice': None,\n",
       "  'title': '',\n",
       "  'howto': '',\n",
       "  'summarise': None,\n",
       "  'text': ''},\n",
       " {'id': '0.3',\n",
       "  'type': 'unknown',\n",
       "  'state': 'init',\n",
       "  'is_complete': False,\n",
       "  'is_draft': False,\n",
       "  'words_advice': None,\n",
       "  'title': '',\n",
       "  'howto': '',\n",
       "  'summarise': None,\n",
       "  'text': ''},\n",
       " {'id': '0.4',\n",
       "  'type': 'unknown',\n",
       "  'state': 'init',\n",
       "  'is_complete': False,\n",
       "  'is_draft': False,\n",
       "  'words_advice': None,\n",
       "  'title': '',\n",
       "  'howto': '',\n",
       "  'summarise': None,\n",
       "  'text': ''}]"
      ]
     },
     "execution_count": 5,
     "metadata": {},
     "output_type": "execute_result"
    }
   ],
   "source": [
    "n = t.tree.root\n",
    "n.all_content"
   ]
  },
  {
   "cell_type": "code",
   "execution_count": 15,
   "id": "6e884595-475a-4dda-9c20-fb1e471a25d5",
   "metadata": {},
   "outputs": [],
   "source": [
    "t.tree.root.find_draft_node()"
   ]
  },
  {
   "cell_type": "code",
   "execution_count": 10,
   "id": "a4a4fd73-c38a-46b6-b0f9-95bdb2d8b00d",
   "metadata": {},
   "outputs": [
    {
     "name": "stdout",
     "output_type": "stream",
     "text": [
      "{'command': 'draft', 'args': ''}\n"
     ]
    },
    {
     "data": {
      "text/plain": [
       "{'command': 'draft', 'args': '', 'reply': None}"
      ]
     },
     "execution_count": 10,
     "metadata": {},
     "output_type": "execute_result"
    }
   ],
   "source": [
    "t.invoke(\"draft\")"
   ]
  },
  {
   "cell_type": "markdown",
   "id": "24c84c55-031d-49dc-8e64-d04c56723f59",
   "metadata": {},
   "source": [
    "## auto"
   ]
  },
  {
   "cell_type": "code",
   "execution_count": 3,
   "id": "c8c963ee-1384-4333-8f7c-7671dc8d3b21",
   "metadata": {},
   "outputs": [
    {
     "name": "stdout",
     "output_type": "stream",
     "text": [
      "```json\n",
      "{\n",
      "    \"总字数要求\": 800,\n",
      "    \"标题名称\": \"致孩子的一封信：成长的寄语\",\n",
      "    \"扩写指南\": \"本文是一封父母给孩子写的信，信中应当包含对孩子的关爱、期望以及对其成长的指导。信中可以提及孩子的兴趣爱好、性格特点以及家庭的一些共同经历。建议在信中包含以下要点：1）表达对孩子的深厚感情；2）鼓励孩子追求梦想，培养独立思考能力；3）提醒孩子面对困难时要勇敢坚持；4）分享人生经验，引导孩子形成正确的价值观。\"\n",
      "}\n",
      "```\n",
      "```json\n",
      "{\n",
      "    \"大纲列表\": [\n",
      "        {\n",
      "            \"总字数要求\": 200,\n",
      "            \"标题名称\": \"表达对孩子的深厚感情\",\n",
      "            \"扩写指南\": \"描述父母对孩子的爱，提及孩子小时候的趣事和家庭温馨时刻，表达对孩子成长的骄傲和关心。\"\n",
      "        },\n",
      "        {\n",
      "            \"总字数要求\": 200,\n",
      "            \"标题名称\": \"鼓励孩子追求梦想\",\n",
      "            \"扩写指南\": \"鼓励孩子追随自己的兴趣和梦想，强调独立思考的重要性，并分享父母对孩子未来职业设想的支持。\"\n",
      "        },\n",
      "        {\n",
      "            \"总字数要求\": 200,\n",
      "            \"标题名称\": \"提醒孩子面对困难时要勇敢坚持\",\n",
      "            \"扩写指南\": \"通过个人经历或故事，告诉孩子在遇到挑战和困难时要保持勇敢和坚持，强调努力和毅力的重要性。\"\n",
      "        },\n",
      "        {\n",
      "            \"总字数要求\": 200,\n",
      "            \"标题名称\": \"分享人生经验，引导孩子形成正确的价值观\",\n",
      "            \"扩写指南\": \"分享父母的人生感悟，强调诚实、善良、尊重他人等价值观的重要性，并希望孩子在成长过程中能够树立正确的道德观。\"\n",
      "        }\n",
      "    ]\n",
      "}\n",
      "```\n",
      "```json\n",
      "{\n",
      "    \"详细内容\": \"亲爱的孩子，每当回想起你小时候的那些趣事——在草地上追逐蝴蝶，在家中用积木搭建梦想中的城堡，那些笑声和欢腾总是能温暖我们的心。在这温馨的家庭时光里，我们共同度过了无数珍贵的瞬间。随着你的成长，我们为你每一个小小的进步感到由衷的骄傲，同时也关心着你每一次的烦恼和挑战。这份深情，如同流淌的河水，无论岁月如何变迁，始终充沛而深远。\",\n",
      "    \"内容摘要\": \"描述了父母对孩子深沉的爱，回顾了孩子童年时的趣事和家庭温馨时刻，并表达了父母对孩子成长的骄傲与关心。\"\n",
      "}\n",
      "```\n",
      "```json\n",
      "{\n",
      "  \"详细内容\": \"亲爱的孩子，你在追求梦想的道路上，我们始终是你坚强的后盾。我们希望你追随自己的兴趣，勇敢地去探索未知的世界。记住，独立思考是通往成功的钥匙，它将引领你找到自己的方向。我们尊重并支持你对未来职业的设想，无论那是什么，只要是你的选择，我们都会全力以赴地支持你。\",\n",
      "  \"内容摘要\": \"父母鼓励孩子追求个人梦想，强调独立思考的重要性，并表明对孩子未来职业设想的支持态度。\"\n",
      "}\n",
      "```\n",
      "```json\n",
      "{\n",
      "  \"详细内容\": \"记得那次你学习骑自行车，摔倒了无数次却从不轻言放弃，直到最后你驾驭着它自如地穿梭在公园小道。这种坚韧和毅力，是面对困难时最宝贵的品质。生活中，每个人都会遇到挑战，但记住，勇敢和坚持是通往成功的桥梁。不管未来的路有多么崎岖，都要相信自己的力量，保持那份不屈不挠的精神，去迎接每一个黎明。\",\n",
      "  \"内容摘要\": \"通过孩子学习骑自行车的经历，强调在困难面前勇敢和坚持的重要性，鼓励孩子保持不屈不挠的精神去面对未来的挑战。\"\n",
      "}\n",
      "```\n",
      "```json\n",
      "{\n",
      "  \"详细内容\": \"亲爱的孩子，在这个充满变数的世界里，诚实、善良和尊重他人就像指南针，能帮你找到正确的方向。我们希望你能将这些价值观深植心中，它们是你人生的基石。在成长的道路上，无论遇到何种诱惑和挑战，都要坚守这些原则。记住，一个人的真正力量不仅仅在于成就，更在于他的品格。我们期望你成为一个有道德、有责任心的人，用你的善良影响周围的世界。\",\n",
      "  \"内容摘要\": \"本段内容强调了诚实、善良和尊重他人等价值观的重要性，并将其比喻为人生指南针，希望孩子在成长过程中能够树立正确的道德观，成为一个有品格、有影响力的人。\"\n",
      "}\n",
      "```\n",
      "END\n"
     ]
    }
   ],
   "source": [
    "from textlong import WritingTask\n",
    "\n",
    "# 使用默认的智谱AI推理\n",
    "t = WritingTask()\n",
    "\n",
    "t.auto_write(\"致孩子的一封信, 800字\")"
   ]
  },
  {
   "cell_type": "markdown",
   "id": "8ef2ef85-5795-4c54-8215-e6347fa790b9",
   "metadata": {},
   "source": [
    "## repl"
   ]
  },
  {
   "cell_type": "code",
   "execution_count": null,
   "id": "65201146",
   "metadata": {},
   "outputs": [],
   "source": [
    "from textlong import WritingTask\n",
    "\n",
    "# 使用默认的智谱AI推理\n",
    "t = WritingTask()\n",
    "\n",
    "t.repl_write(\"致孩子的一封信, 800字\")"
   ]
  },
  {
   "cell_type": "code",
   "execution_count": 4,
   "id": "4659ce57-fc8d-40b6-9726-3eada8bbe91b",
   "metadata": {},
   "outputs": [
    {
     "data": {
      "text/plain": [
       "[{'id': '0',\n",
       "  'type': 'outline',\n",
       "  'state': 'done',\n",
       "  'is_complete': True,\n",
       "  'is_draft': False,\n",
       "  'words_advice': 800,\n",
       "  'title': '给宝贝的话：关于成长与梦想',\n",
       "  'howto': '本封信以父母的角度，深情款款地向孩子传达成长的智慧和对未来的期许。内容应涵盖以下要点：描述孩子从出生到现在的变化和进步，强调孩子的独特性和父母对其的骄傲；分享一些人生经验，教育孩子如何面对挑战，培养其独立思考的能力；鼓励孩子追求梦想，同时也要学会脚踏实地；最后，表达对孩子无限的爱与支持。信中应保持温馨、亲切、鼓舞人心的语气，适合的家庭环境作为背景，以增强情感的真挚性。',\n",
       "  'summarise': None,\n",
       "  'text': ''},\n",
       " {'id': '0.1',\n",
       "  'type': 'paragraph',\n",
       "  'state': 'done',\n",
       "  'is_complete': True,\n",
       "  'is_draft': False,\n",
       "  'words_advice': 300,\n",
       "  'title': '成长的足迹',\n",
       "  'howto': '回忆孩子从婴儿到现在的成长过程，描述那些难忘的瞬间和显著的进步，强调孩子的每一步成长都充满了家庭的温暖和父母的骄傲。',\n",
       "  'summarise': '本段回顾了孩子从婴儿到现在的成长过程，包括第一次走路、说话、上学等难忘瞬间，强调了家庭温暖和父母骄傲在孩子成长中的重要性。',\n",
       "  'text': '从你呱呱坠地的第一声啼哭，到你迈出摇摇摆摆的第一步，再到第一次背上书包踏入学校，每一步的成长都深深印在我们的心里。记得你第一次叫爸爸妈妈时，那稚嫩的声音仿佛还在耳边回荡。如今，你已经能够独立完成作业，自信地在舞台上表演，每一个进步都凝聚着你的努力和我们的骄傲。在这成长的足迹中，家里总是充满了欢声笑语，每一次的尝试和挑战，都有我们对你的鼓励和支持。'},\n",
       " {'id': '0.2',\n",
       "  'type': 'paragraph',\n",
       "  'state': 'done',\n",
       "  'is_complete': True,\n",
       "  'is_draft': False,\n",
       "  'words_advice': 200,\n",
       "  'title': '人生小智慧',\n",
       "  'howto': '分享父母的人生经验，告诉孩子如何面对生活中的困难和挑战，培养独立思考和解决问题的能力，以及如何保持乐观的态度。',\n",
       "  'summarise': '本段内容分享了父母的人生经验，强调了面对困难时应保持独立思考和乐观态度的重要性，以及乐观心态在克服挑战中的作用。',\n",
       "  'text': '宝贝，生活中总会遇到困难和挑战，这是成长的必经之路。记住，每一次跌倒都是向前跃进的机会。要学会独立思考，面对问题要冷静分析，找出解决之道。保持乐观的心态，即使天空乌云密布，心中也要有阳光。记住，乐观不仅是一种态度，更是一种力量，它能帮你战胜困难，勇往直前。'},\n",
       " {'id': '0.3',\n",
       "  'type': 'paragraph',\n",
       "  'state': 'done',\n",
       "  'is_complete': True,\n",
       "  'is_draft': False,\n",
       "  'words_advice': 200,\n",
       "  'title': '梦想与现实',\n",
       "  'howto': '鼓励孩子勇敢追求自己的梦想，同时教育孩子要脚踏实地，明白付出与努力的重要性，以及在追求梦想的过程中保持坚持和毅力。',\n",
       "  'summarise': '本段鼓励孩子勇敢追求梦想，同时强调付出与努力的重要性，以及在追梦过程中保持坚持和毅力的必要性。通过比喻乐高搭建和成长的垫脚石，传达了梦想与现实的关系和面对失败的积极态度。',\n",
       "  'text': '宝贝，每个人的心中都有一片星空，那是由无数梦想点缀的。追求梦想是勇敢的，但记住，梦想与现实之间是付出和努力铺成的路。在这条路上，你需要坚持，也需要毅力。我们希望你能像搭建乐高一样，一块一块地累积你的梦想，每一次的努力都让梦想更近一步。不要害怕失败，每一次跌倒都是成长的垫脚石。爸爸妈妈相信，只要你不放弃，你的梦想终将照进现实。'},\n",
       " {'id': '0.4',\n",
       "  'type': 'paragraph',\n",
       "  'state': 'done',\n",
       "  'is_complete': True,\n",
       "  'is_draft': False,\n",
       "  'words_advice': 100,\n",
       "  'title': '无尽的爱与支持',\n",
       "  'howto': '以最真挚的情感表达父母对孩子无限的爱与支持，承诺无论孩子走到哪里，父母的爱都会如影随形，永远是他们最坚强的后盾。',\n",
       "  'summarise': '本段内容深情表达了父母对孩子无限的爱与支持，承诺无论孩子面临何种挑战或身处何方，父母的爱都会始终陪伴，成为孩子最坚强的后盾。',\n",
       "  'text': '亲爱的孩子，你的每一次微笑，每一次尝试，都深深烙印在我们的心中。在你追求梦想的道路上，无论风雨，我们都会是你最坚实的依靠。记住，无论你走到哪里，我们的爱都会如影随形，陪伴你跨越每一道障碍，庆祝每一个胜利。你是我们的骄傲，我们会一直在这里，给予你无尽的爱与支持。'}]"
      ]
     },
     "execution_count": 4,
     "metadata": {},
     "output_type": "execute_result"
    }
   ],
   "source": [
    "t.tree.root.all_content"
   ]
  },
  {
   "cell_type": "code",
   "execution_count": null,
   "id": "56dfef4d-9ea9-443c-8836-f00392fc2a0d",
   "metadata": {},
   "outputs": [],
   "source": []
  }
 ],
 "metadata": {
  "kernelspec": {
   "display_name": "langchain-chinese-py3.9-ipkyernel",
   "language": "python",
   "name": "langchain-chinese-py3.9-ipkyernel"
  },
  "language_info": {
   "codemirror_mode": {
    "name": "ipython",
    "version": 3
   },
   "file_extension": ".py",
   "mimetype": "text/x-python",
   "name": "python",
   "nbconvert_exporter": "python",
   "pygments_lexer": "ipython3",
   "version": "3.9.18"
  }
 },
 "nbformat": 4,
 "nbformat_minor": 5
}
