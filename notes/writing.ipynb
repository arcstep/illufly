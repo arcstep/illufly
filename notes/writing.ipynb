{
 "cells": [
  {
   "cell_type": "code",
   "execution_count": 1,
   "id": "f3045be3-ca71-46ba-8fa3-f6d999a63a5c",
   "metadata": {},
   "outputs": [],
   "source": [
    "import os\n",
    "from dotenv import load_dotenv, find_dotenv\n",
    "load_dotenv(find_dotenv(), override=True)\n",
    "os.chdir('..')"
   ]
  },
  {
   "cell_type": "code",
   "execution_count": 2,
   "id": "1713b2a7-ccb1-4dd2-8a1b-f3de36e72486",
   "metadata": {},
   "outputs": [],
   "source": [
    "# os.environ.get(\"ZHIPUAI_API_KEY\")"
   ]
  },
  {
   "cell_type": "markdown",
   "id": "c9235cf3-0b5d-4682-9e0f-f1e395d03ee7",
   "metadata": {},
   "source": [
    "# WritingProject"
   ]
  },
  {
   "cell_type": "markdown",
   "id": "a6df8963-5911-4c6c-9564-8c1b0eb30db2",
   "metadata": {},
   "source": [
    "## 使用 help 指令"
   ]
  },
  {
   "cell_type": "code",
   "execution_count": 3,
   "id": "3afebd33-0b49-4297-b197-190ef8c6d095",
   "metadata": {},
   "outputs": [
    {
     "name": "stdout",
     "output_type": "stream",
     "text": [
      "亲，首先确保你已经安装了Python环境，并加载了`textlong`包。接下来，你可以按照以下步骤使用：\n",
      "\n",
      "1. 创建一个`WritingTask`对象：\n",
      "   ```python\n",
      "   from textlong import WritingTask\n",
      "   task = WritingTask()\n",
      "   ```\n",
      "\n",
      "2. 使用`invoke`方法来执行特定命令，比如生成文本：\n",
      "   ```python\n",
      "   task.invoke(\"task 写一封给未来的自己的信，800字\")\n",
      "   task.invoke(\"ok\")\n",
      "   ```\n",
      "\n",
      "3. 如果你想要自动生成并确认所有子任务，可以使用`auto_write`方法：\n",
      "   ```python\n",
      "   task.auto_write(\"task 写一封给未来的自己的信，800字\")\n",
      "   ```\n",
      "\n",
      "4. 如果你想更细致地控制生成过程，可以使用`repl_write`方法，这将进入一个交互式控制台循环：\n",
      "   ```python\n",
      "   task.repl_write(\"task 写一封给未来的自己的信，800字\")\n",
      "   ```\n",
      "\n",
      "在这个循环中，你可以输入不同的命令，如`ok`来确认生成的内容，或者其他的指令来修改任务、查看状态等。\n",
      "\n",
      "记得，你可以使用命令清单中的任何命令来指导`WritingTask`对象的行为。如果有任何疑问，可以告诉我，我会耐心地帮助你。\n"
     ]
    },
    {
     "data": {
      "text/plain": [
       "{'command': 'help',\n",
       " 'args': '我该如何使用？',\n",
       " 'reply': '亲，首先确保你已经安装了Python环境，并加载了`textlong`包。接下来，你可以按照以下步骤使用：\\n\\n1. 创建一个`WritingTask`对象：\\n   ```python\\n   from textlong import WritingTask\\n   task = WritingTask()\\n   ```\\n\\n2. 使用`invoke`方法来执行特定命令，比如生成文本：\\n   ```python\\n   task.invoke(\"task 写一封给未来的自己的信，800字\")\\n   task.invoke(\"ok\")\\n   ```\\n\\n3. 如果你想要自动生成并确认所有子任务，可以使用`auto_write`方法：\\n   ```python\\n   task.auto_write(\"task 写一封给未来的自己的信，800字\")\\n   ```\\n\\n4. 如果你想更细致地控制生成过程，可以使用`repl_write`方法，这将进入一个交互式控制台循环：\\n   ```python\\n   task.repl_write(\"task 写一封给未来的自己的信，800字\")\\n   ```\\n\\n在这个循环中，你可以输入不同的命令，如`ok`来确认生成的内容，或者其他的指令来修改任务、查看状态等。\\n\\n记得，你可以使用命令清单中的任何命令来指导`WritingTask`对象的行为。如果有任何疑问，可以告诉我，我会耐心地帮助你。'}"
      ]
     },
     "execution_count": 3,
     "metadata": {},
     "output_type": "execute_result"
    }
   ],
   "source": [
    "from textlong import WritingTask\n",
    "\n",
    "t = WritingTask()\n",
    "t.invoke(\"help 我该如何使用？\")"
   ]
  },
  {
   "cell_type": "code",
   "execution_count": null,
   "id": "8335d55f-f43b-4f90-9696-695920eaa005",
   "metadata": {},
   "outputs": [],
   "source": [
    "# 也可以省略 help\n",
    "t.invoke(\"我该如何使用？\")"
   ]
  },
  {
   "cell_type": "markdown",
   "id": "dc8003b8-6cf9-4988-8d79-cfa85aa9d08c",
   "metadata": {},
   "source": [
    "## 切换 LLM"
   ]
  },
  {
   "cell_type": "code",
   "execution_count": 4,
   "id": "25f8dc4a-7d86-47dd-8c8d-3bc3ae50e69e",
   "metadata": {},
   "outputs": [
    {
     "name": "stdout",
     "output_type": "stream",
     "text": [
      "亲，你可以按照以下步骤使用WritingTask模块：\n",
      "\n",
      "1. 首先，你需要创建一个`WritingTask`对象，可以选择使用默认的智谱AI，也可以使用其他LLM模型。例如：\n",
      "\n",
      "```python\n",
      "from textlong import WritingTask\n",
      "from langchain_openai import ChatOpenAI\n",
      "\n",
      "task = WritingTask()  # 默认使用智谱AI\n",
      "# 或者\n",
      "task = WritingTask(llm=ChatOpenAI())  # 使用ChatGPT\n",
      "```\n",
      "\n",
      "2. 然后，你可以使用`invoke`方法调用命令来指导AI生成文本。例如，使用`task`命令生成一篇800字的信：\n",
      "\n",
      "```python\n",
      "task.invoke(\"task 致孩子的一封信, 800字\")\n",
      "```\n",
      "\n",
      "3. 如果你想一次性生成所有子任务并确认完成，可以使用`auto_write`方法。例如：\n",
      "\n",
      "```python\n",
      "task.auto_write(\"task 致孩子的一封信, 800字\")\n",
      "```\n",
      "\n",
      "4. 如果你希望精细控制生成过程，可以使用`repl_write`方法。这将进入一个控制台循环，在其中你可以输入不同的命令来控制生成过程。例如：\n",
      "\n",
      "```python\n",
      "task.repl_write(\"task 致孩子的一封信, 800字\")\n",
      "```\n",
      "\n",
      "在控制台循环中，你可以输入`ok`命令来保存AI生成的内容，也可以使用其他命令来修改生成指南、重新生成等。\n",
      "\n",
      "这就是使用WritingTask模块的基本操作步骤。希望对你有帮助！如果还有其他问题，请随时提问。\n"
     ]
    },
    {
     "data": {
      "text/plain": [
       "{'command': 'help',\n",
       " 'args': '我该如何使用？',\n",
       " 'reply': '亲，你可以按照以下步骤使用WritingTask模块：\\n\\n1. 首先，你需要创建一个`WritingTask`对象，可以选择使用默认的智谱AI，也可以使用其他LLM模型。例如：\\n\\n```python\\nfrom textlong import WritingTask\\nfrom langchain_openai import ChatOpenAI\\n\\ntask = WritingTask()  # 默认使用智谱AI\\n# 或者\\ntask = WritingTask(llm=ChatOpenAI())  # 使用ChatGPT\\n```\\n\\n2. 然后，你可以使用`invoke`方法调用命令来指导AI生成文本。例如，使用`task`命令生成一篇800字的信：\\n\\n```python\\ntask.invoke(\"task 致孩子的一封信, 800字\")\\n```\\n\\n3. 如果你想一次性生成所有子任务并确认完成，可以使用`auto_write`方法。例如：\\n\\n```python\\ntask.auto_write(\"task 致孩子的一封信, 800字\")\\n```\\n\\n4. 如果你希望精细控制生成过程，可以使用`repl_write`方法。这将进入一个控制台循环，在其中你可以输入不同的命令来控制生成过程。例如：\\n\\n```python\\ntask.repl_write(\"task 致孩子的一封信, 800字\")\\n```\\n\\n在控制台循环中，你可以输入`ok`命令来保存AI生成的内容，也可以使用其他命令来修改生成指南、重新生成等。\\n\\n这就是使用WritingTask模块的基本操作步骤。希望对你有帮助！如果还有其他问题，请随时提问。'}"
      ]
     },
     "execution_count": 4,
     "metadata": {},
     "output_type": "execute_result"
    }
   ],
   "source": [
    "from textlong import WritingTask\n",
    "from langchain_openai import ChatOpenAI\n",
    "\n",
    "task = WritingTask(llm=ChatOpenAI())\n",
    "task.invoke(\"我该如何使用？\")"
   ]
  },
  {
   "cell_type": "markdown",
   "id": "1a559bde-0913-4601-9033-fdba9c265979",
   "metadata": {},
   "source": [
    "## 使用 invoke 方法"
   ]
  },
  {
   "cell_type": "code",
   "execution_count": 5,
   "id": "ae344e34-dd8c-4e14-bbff-916c8c575893",
   "metadata": {},
   "outputs": [
    {
     "name": "stdout",
     "output_type": "stream",
     "text": [
      "```json\n",
      "{\n",
      "    \"总字数要求\": 800,\n",
      "    \"标题名称\": \"致孩子的一封信\",\n",
      "    \"扩写指南\": \"本文是一封父母给予孩子的信，内容需包含对孩子的关爱、期望以及对其成长过程中的一些指导和建议。信中可以提及具体的家庭价值观、人生观，以及针对孩子性格和兴趣的个性化指导。\"\n",
      "}\n",
      "```\n"
     ]
    },
    {
     "data": {
      "text/plain": [
       "{'command': 'ok', 'args': None, 'reply': 'todo'}"
      ]
     },
     "execution_count": 5,
     "metadata": {},
     "output_type": "execute_result"
    }
   ],
   "source": [
    "from textlong import WritingTask\n",
    "\n",
    "# 使用默认的智谱AI推理\n",
    "t = WritingTask()\n",
    "\n",
    "t.invoke(\"task 致孩子的一封信, 800字\")\n",
    "t.invoke(\"ok\")"
   ]
  },
  {
   "cell_type": "code",
   "execution_count": 4,
   "id": "b5d0b09f-c6f2-4549-bc48-1ab1e39224a3",
   "metadata": {},
   "outputs": [
    {
     "name": "stdout",
     "output_type": "stream",
     "text": [
      "{'command': 'ok', 'args': None}\n",
      "以下是针对您要求的《致孩子的一封信：成长的寄语》的写作大纲：\n",
      "\n",
      "```json\n",
      "{\n",
      "    \"大纲列表\": [\n",
      "        {\n",
      "            \"总字数要求\": 250,\n",
      "            \"标题名称\": \"爱的肯定\",\n",
      "            \"扩写指南\": \"描述对孩子的赞美与肯定，提及孩子的优点、成就以及父母为之感到骄傲的时刻。\"\n",
      "        },\n",
      "        {\n",
      "            \"总字数要求\": 250,\n",
      "            \"标题名称\": \"面对挑战\",\n",
      "            \"扩写指南\": \"鼓励孩子面对成长过程中的困难与挑战，分享如何克服困难的经验，强调坚持与勇气的重要性。\"\n",
      "        },\n",
      "        {\n",
      "            \"总字数要求\": 200,\n",
      "            \"标题名称\": \"家庭期望与支持\",\n",
      "            \"扩写指南\": \"表达家庭的期望和对孩子的支持，提及家庭价值观以及如何帮助孩子实现目标。\"\n",
      "        },\n",
      "        {\n",
      "            \"总字数要求\": 100,\n",
      "            \"标题名称\": \"美好祝愿\",\n",
      "            \"扩写指南\": \"对孩子未来的美好祝愿，展望孩子的未来，给予最真挚的祝福。\"\n",
      "        }\n",
      "    ]\n",
      "}\n",
      "```\n",
      "\n",
      "这个大纲旨在帮助写手按照您的要求，将信件内容合理分配到不同的段落中，确保涵盖了所有重要的主题和情感要点。\n"
     ]
    },
    {
     "data": {
      "text/plain": [
       "{'command': 'ok',\n",
       " 'args': None,\n",
       " 'reply': {'大纲列表': [{'总字数要求': 250,\n",
       "    '标题名称': '爱的肯定',\n",
       "    '扩写指南': '描述对孩子的赞美与肯定，提及孩子的优点、成就以及父母为之感到骄傲的时刻。'},\n",
       "   {'总字数要求': 250,\n",
       "    '标题名称': '面对挑战',\n",
       "    '扩写指南': '鼓励孩子面对成长过程中的困难与挑战，分享如何克服困难的经验，强调坚持与勇气的重要性。'},\n",
       "   {'总字数要求': 200,\n",
       "    '标题名称': '家庭期望与支持',\n",
       "    '扩写指南': '表达家庭的期望和对孩子的支持，提及家庭价值观以及如何帮助孩子实现目标。'},\n",
       "   {'总字数要求': 100, '标题名称': '美好祝愿', '扩写指南': '对孩子未来的美好祝愿，展望孩子的未来，给予最真挚的祝福。'}]}}"
      ]
     },
     "execution_count": 4,
     "metadata": {},
     "output_type": "execute_result"
    }
   ],
   "source": [
    "t.invoke(\"ok\")"
   ]
  },
  {
   "cell_type": "code",
   "execution_count": 5,
   "id": "a745244d-df0b-4144-92ed-a83de1163755",
   "metadata": {},
   "outputs": [
    {
     "name": "stdout",
     "output_type": "stream",
     "text": [
      "{'command': 'ok', 'args': None}\n"
     ]
    },
    {
     "data": {
      "text/plain": [
       "{'command': 'ok', 'args': None, 'reply': 'done'}"
      ]
     },
     "execution_count": 5,
     "metadata": {},
     "output_type": "execute_result"
    }
   ],
   "source": [
    "t.invoke(\"ok\")"
   ]
  },
  {
   "cell_type": "code",
   "execution_count": 6,
   "id": "6e884595-475a-4dda-9c20-fb1e471a25d5",
   "metadata": {},
   "outputs": [
    {
     "name": "stdout",
     "output_type": "stream",
     "text": [
      "{'command': 'outlines', 'args': None}\n",
      "0 致孩子的一封信：成长的寄语 \n",
      "  扩写指南 >>> 本文是一封父母给孩子写的信，信中应当包含对子女的关爱、期望以及对其成长的指导。信中可以提及孩子的兴趣爱好、性格特点以及家庭价值观。建议以温馨、鼓励的口吻书写，可涉及以下要点：1. 对孩子的赞美与肯定；2. 对孩子成长过程中的困难与挑战的鼓励；3. 家庭的期望与支持；4. 对孩子未来的美好祝愿。\n",
      "  内容摘要 >>> None\n",
      "0.1 爱的肯定 \n",
      "  扩写指南 >>> 描述对孩子的赞美与肯定，提及孩子的优点、成就以及父母为之感到骄傲的时刻。\n",
      "  内容摘要 >>> None\n",
      "0.2 面对挑战 \n",
      "  扩写指南 >>> 鼓励孩子面对成长过程中的困难与挑战，分享如何克服困难的经验，强调坚持与勇气的重要性。\n",
      "  内容摘要 >>> None\n",
      "0.3 家庭期望与支持 \n",
      "  扩写指南 >>> 表达家庭的期望和对孩子的支持，提及家庭价值观以及如何帮助孩子实现目标。\n",
      "  内容摘要 >>> None\n",
      "0.4 美好祝愿 \n",
      "  扩写指南 >>> 对孩子未来的美好祝愿，展望孩子的未来，给予最真挚的祝福。\n",
      "  内容摘要 >>> None\n"
     ]
    }
   ],
   "source": [
    "print(t.invoke(\"outlines\")['reply'])"
   ]
  },
  {
   "cell_type": "code",
   "execution_count": 7,
   "id": "a4a4fd73-c38a-46b6-b0f9-95bdb2d8b00d",
   "metadata": {},
   "outputs": [
    {
     "name": "stdout",
     "output_type": "stream",
     "text": [
      "{'command': 'texts', 'args': None}\n",
      "0 致孩子的一封信：成长的寄语 \n",
      " \n",
      "0.1 爱的肯定 \n",
      " \n",
      "0.2 面对挑战 \n",
      " \n",
      "0.3 家庭期望与支持 \n",
      " \n",
      "0.4 美好祝愿 \n",
      " \n"
     ]
    }
   ],
   "source": [
    "print(t.invoke(\"texts\")['reply'])"
   ]
  },
  {
   "cell_type": "markdown",
   "id": "24c84c55-031d-49dc-8e64-d04c56723f59",
   "metadata": {},
   "source": [
    "## 使用 auto_write 方法"
   ]
  },
  {
   "cell_type": "code",
   "execution_count": 8,
   "id": "c8c963ee-1384-4333-8f7c-7671dc8d3b21",
   "metadata": {},
   "outputs": [
    {
     "name": "stdout",
     "output_type": "stream",
     "text": [
      "{'command': 'task', 'args': '致孩子的一封信, 800字'}\n",
      "```json\n",
      "{\n",
      "    \"总字数要求\": 800,\n",
      "    \"标题名称\": \"致孩子的一封信：成长的寄语\",\n",
      "    \"扩写指南\": \"本文是一封父母给孩子写的信，内容需包含对孩子的关爱、期望以及对其成长过程中的点滴回顾。信中可以提及孩子的优点与不足，并提出建设性的建议。文中可以设定一些共同的回忆，如家庭旅行、重要节日等，以增强情感共鸣。\"\n",
      "}\n",
      "```\n",
      "{'command': 'ok', 'args': None}\n",
      "{'command': 'todo', 'args': None}\n",
      "{'command': 'move', 'args': '0'}\n",
      "{'command': 'task', 'args': '请继续'}\n",
      "```json\n",
      "{\n",
      "    \"大纲列表\": [\n",
      "        {\n",
      "            \"总字数要求\": 300,\n",
      "            \"标题名称\": \"温暖的关爱\",\n",
      "            \"扩写指南\": \"描述父母对孩子的深厚爱意，以及日常生活中对孩子的细心照顾和无私支持。\"\n",
      "        },\n",
      "        {\n",
      "            \"总字数要求\": 200,\n",
      "            \"标题名称\": \"成长的回顾\",\n",
      "            \"扩写指南\": \"回顾孩子成长过程中的重要时刻，如第一次走路、第一次上学等，以及家庭共度的美好时光。\"\n",
      "        },\n",
      "        {\n",
      "            \"总字数要求\": 200,\n",
      "            \"标题名称\": \"期望与建议\",\n",
      "            \"扩写指南\": \"表达对孩子未来的期望，并提出一些积极的建议和鼓励，帮助孩子面对挑战和困难。\"\n",
      "        },\n",
      "        {\n",
      "            \"总字数要求\": 100,\n",
      "            \"标题名称\": \"最后的寄语\",\n",
      "            \"扩写指南\": \"以温馨的话语结束信件，再次表达对孩子无尽的爱与祝福。\"\n",
      "        }\n",
      "    ]\n",
      "}\n",
      "```\n",
      "{'command': 'ok', 'args': None}\n",
      "{'command': 'todo', 'args': None}\n",
      "{'command': 'move', 'args': '0.1'}\n",
      "{'command': 'task', 'args': '请继续'}\n",
      "```json\n",
      "{\n",
      "  \"详细内容\": \"亲爱的孩子，在你的成长道路上，我们始终用心呵护着你。每个清晨，我们为你准备的营养早餐，是希望你能有充足的能量迎接新的一天。夜晚，我们陪伴你温习功课，解答你的疑惑，直到你熟睡的脸庞映入月光。在你生病时，我们焦急地守在床前，希望所有的病痛都能转移到我们身上。你的每一次尝试和挑战，都有我们的鼓励和支持。我们从不奢望你成为最优秀的人，只愿你在关爱的温暖中，健康快乐地成长。\",\n",
      "  \"内容摘要\": \"本段落主要描述了父母对孩子在日常生活中的关爱细节，包括准备早餐、陪伴学习、病中照顾以及对其尝试和挑战的鼓励和支持。强调了一个主题：温暖的关爱。\"\n",
      "}\n",
      "```\n",
      "{'command': 'ok', 'args': None}\n",
      "{'command': 'todo', 'args': None}\n",
      "{'command': 'move', 'args': '0.2'}\n",
      "{'command': 'task', 'args': '请继续'}\n",
      "```json\n",
      "{\n",
      "  \"详细内容\": \"亲爱的孩子，还记得你第一次摇摇晃晃地迈出脚步，我们紧张又兴奋地守在你身旁。那一步步蹒跚，却是你成长旅程的开始。还有你背上小书包，泪眼汪汪却又勇敢地走进幼儿园的场景，仿佛就在昨天。每一次家庭旅行，每一年的生日派对，都是我们共同珍藏的记忆。这些美好时光，像一串串珍珠，串联起我们家的温暖与幸福。\",\n",
      "  \"内容摘要\": \"本段落回顾了孩子成长中的重要时刻，包括第一次走路、第一次上学，以及家庭共度的美好时光。这些回忆突显了家庭的爱与幸福，为接下来的期望和建议奠定了温馨的基础。\"\n",
      "}\n",
      "```\n",
      "{'command': 'ok', 'args': None}\n",
      "{'command': 'todo', 'args': None}\n",
      "{'command': 'move', 'args': '0.3'}\n",
      "{'command': 'task', 'args': '请继续'}\n",
      "```json\n",
      "{\n",
      "  \"详细内容\": \"亲爱的孩子，在我们眼中，你总是有着无限的可能。我们期望你能够勇敢追求自己的梦想，无惧困难，敢于挑战。记住，无论未来路途如何，诚实、勤奋和乐观都是你宝贵的财富。我们建议你，保持好奇心，不断学习新知识，因为这将是你的力量之源。同时，面对失败和挫折，不要气馁，它们是成功路上的必经之路。我们相信，只要你持之以恒，定能创造出属于自己的一片天地。加油，孩子，我们永远为你骄傲，为你加油！\",\n",
      "  \"内容摘要\": \"本段主要表达了父母对孩子未来的期望，希望孩子勇敢追梦，提出了保持好奇心、不断学习和面对困难不气馁的建议，鼓励孩子持之以恒，父母永远支持孩子，为其骄傲。\"\n",
      "}\n",
      "```\n",
      "{'command': 'ok', 'args': None}\n",
      "{'command': 'todo', 'args': None}\n",
      "{'command': 'move', 'args': '0.4'}\n",
      "{'command': 'task', 'args': '请继续'}\n",
      "```json\n",
      "{\n",
      "  \"详细内容\": \"亲爱的孩子，无论你走到哪里，都请记得，家的温暖永远在这里等你。我们相信你的未来一定充满阳光，无论遇到什么困难，都要记得爱自己，坚持梦想。愿你的每一天都充满笑容，每一刻都感受幸福。爸爸妈妈永远爱你，祝福你。\",\n",
      "  \"内容摘要\": \"最后的寄语部分，父母以温馨的话语结束信件，再次强调对孩子的无尽的爱与祝福，鼓励孩子无论在任何情况下都要保持乐观，坚持自我，父母永远支持孩子。\"\n",
      "}\n",
      "```\n",
      "{'command': 'ok', 'args': None}\n",
      "{'command': 'todo', 'args': None}\n",
      "END\n"
     ]
    }
   ],
   "source": [
    "from textlong import WritingTask\n",
    "\n",
    "# 使用默认的智谱AI推理\n",
    "t = WritingTask()\n",
    "\n",
    "t.auto_write(\"task 致孩子的一封信, 800字\")"
   ]
  },
  {
   "cell_type": "code",
   "execution_count": 9,
   "id": "67b44963-a953-42b2-a3f9-097fc0974f09",
   "metadata": {},
   "outputs": [
    {
     "name": "stdout",
     "output_type": "stream",
     "text": [
      "{'command': 'nodes', 'args': None}\n"
     ]
    },
    {
     "data": {
      "text/plain": [
       "{'command': 'nodes',\n",
       " 'args': None,\n",
       " 'reply': [{'id': '0',\n",
       "   'type': 'outline',\n",
       "   'state': 'done',\n",
       "   'is_complete': True,\n",
       "   'is_draft': False,\n",
       "   'words_advice': 800,\n",
       "   'title': '致孩子的一封信：成长的寄语',\n",
       "   'howto': '本文是一封父母给孩子写的信，内容需包含对孩子的关爱、期望以及对其成长过程中的点滴回顾。信中可以提及孩子的优点与不足，并提出建设性的建议。文中可以设定一些共同的回忆，如家庭旅行、重要节日等，以增强情感共鸣。',\n",
       "   'summarise': None,\n",
       "   'text': ''},\n",
       "  {'id': '0.1',\n",
       "   'type': 'paragraph',\n",
       "   'state': 'done',\n",
       "   'is_complete': True,\n",
       "   'is_draft': False,\n",
       "   'words_advice': 300,\n",
       "   'title': '温暖的关爱',\n",
       "   'howto': '描述父母对孩子的深厚爱意，以及日常生活中对孩子的细心照顾和无私支持。',\n",
       "   'summarise': '本段落主要描述了父母对孩子在日常生活中的关爱细节，包括准备早餐、陪伴学习、病中照顾以及对其尝试和挑战的鼓励和支持。强调了一个主题：温暖的关爱。',\n",
       "   'text': '亲爱的孩子，在你的成长道路上，我们始终用心呵护着你。每个清晨，我们为你准备的营养早餐，是希望你能有充足的能量迎接新的一天。夜晚，我们陪伴你温习功课，解答你的疑惑，直到你熟睡的脸庞映入月光。在你生病时，我们焦急地守在床前，希望所有的病痛都能转移到我们身上。你的每一次尝试和挑战，都有我们的鼓励和支持。我们从不奢望你成为最优秀的人，只愿你在关爱的温暖中，健康快乐地成长。'},\n",
       "  {'id': '0.2',\n",
       "   'type': 'paragraph',\n",
       "   'state': 'done',\n",
       "   'is_complete': True,\n",
       "   'is_draft': False,\n",
       "   'words_advice': 200,\n",
       "   'title': '成长的回顾',\n",
       "   'howto': '回顾孩子成长过程中的重要时刻，如第一次走路、第一次上学等，以及家庭共度的美好时光。',\n",
       "   'summarise': '本段落回顾了孩子成长中的重要时刻，包括第一次走路、第一次上学，以及家庭共度的美好时光。这些回忆突显了家庭的爱与幸福，为接下来的期望和建议奠定了温馨的基础。',\n",
       "   'text': '亲爱的孩子，还记得你第一次摇摇晃晃地迈出脚步，我们紧张又兴奋地守在你身旁。那一步步蹒跚，却是你成长旅程的开始。还有你背上小书包，泪眼汪汪却又勇敢地走进幼儿园的场景，仿佛就在昨天。每一次家庭旅行，每一年的生日派对，都是我们共同珍藏的记忆。这些美好时光，像一串串珍珠，串联起我们家的温暖与幸福。'},\n",
       "  {'id': '0.3',\n",
       "   'type': 'paragraph',\n",
       "   'state': 'done',\n",
       "   'is_complete': True,\n",
       "   'is_draft': False,\n",
       "   'words_advice': 200,\n",
       "   'title': '期望与建议',\n",
       "   'howto': '表达对孩子未来的期望，并提出一些积极的建议和鼓励，帮助孩子面对挑战和困难。',\n",
       "   'summarise': '本段主要表达了父母对孩子未来的期望，希望孩子勇敢追梦，提出了保持好奇心、不断学习和面对困难不气馁的建议，鼓励孩子持之以恒，父母永远支持孩子，为其骄傲。',\n",
       "   'text': '亲爱的孩子，在我们眼中，你总是有着无限的可能。我们期望你能够勇敢追求自己的梦想，无惧困难，敢于挑战。记住，无论未来路途如何，诚实、勤奋和乐观都是你宝贵的财富。我们建议你，保持好奇心，不断学习新知识，因为这将是你的力量之源。同时，面对失败和挫折，不要气馁，它们是成功路上的必经之路。我们相信，只要你持之以恒，定能创造出属于自己的一片天地。加油，孩子，我们永远为你骄傲，为你加油！'},\n",
       "  {'id': '0.4',\n",
       "   'type': 'paragraph',\n",
       "   'state': 'done',\n",
       "   'is_complete': True,\n",
       "   'is_draft': False,\n",
       "   'words_advice': 100,\n",
       "   'title': '最后的寄语',\n",
       "   'howto': '以温馨的话语结束信件，再次表达对孩子无尽的爱与祝福。',\n",
       "   'summarise': '最后的寄语部分，父母以温馨的话语结束信件，再次强调对孩子的无尽的爱与祝福，鼓励孩子无论在任何情况下都要保持乐观，坚持自我，父母永远支持孩子。',\n",
       "   'text': '亲爱的孩子，无论你走到哪里，都请记得，家的温暖永远在这里等你。我们相信你的未来一定充满阳光，无论遇到什么困难，都要记得爱自己，坚持梦想。愿你的每一天都充满笑容，每一刻都感受幸福。爸爸妈妈永远爱你，祝福你。'}]}"
      ]
     },
     "execution_count": 9,
     "metadata": {},
     "output_type": "execute_result"
    }
   ],
   "source": [
    "t.invoke(\"nodes\")"
   ]
  },
  {
   "cell_type": "markdown",
   "id": "8ef2ef85-5795-4c54-8215-e6347fa790b9",
   "metadata": {},
   "source": [
    "## 使用 repl_write 方法"
   ]
  },
  {
   "cell_type": "code",
   "execution_count": 19,
   "id": "65201146",
   "metadata": {},
   "outputs": [
    {
     "name": "stdout",
     "output_type": "stream",
     "text": [
      "{'command': 'task', 'args': '致孩子的一封信, 800字'}\n",
      "```json\n",
      "{\n",
      "    \"总字数要求\": 800,\n",
      "    \"标题名称\": \"致孩子的一封信：成长的寄语\",\n",
      "    \"扩写指南\": \"本文是一封父母给孩子写的信，内容应涵盖对子女成长的关怀、期望以及对其个性的认可。信中可以提及具体的生活点滴、教育理念以及父母对孩子的美好祝愿。涉及的人物为父母与孩子，地点可以是家庭环境，情节主要围绕亲子关系和成长话题展开。\"\n",
      "}\n",
      "```\n",
      "{'command': 'task', 'args': '致孩子的一封信, 800字', 'reply': {'总字数要求': 800, '标题名称': '致孩子的一封信：成长的寄语', '扩写指南': '本文是一封父母给孩子写的信，内容应涵盖对子女成长的关怀、期望以及对其个性的认可。信中可以提及具体的生活点滴、教育理念以及父母对孩子的美好祝愿。涉及的人物为父母与孩子，地点可以是家庭环境，情节主要围绕亲子关系和成长话题展开。'}}\n",
      "<0 #init> None\n",
      "['quit', 'move', 'todo', 'draft', 'all', 'title', 'words_advice', 'howto', 'summarise', 'text', 'state', 'memory', 'ok', 'todo', 'modi', 'task', 'help']\n"
     ]
    },
    {
     "name": "stdin",
     "output_type": "stream",
     "text": [
      "\n",
      "👤:  state\n"
     ]
    },
    {
     "name": "stdout",
     "output_type": "stream",
     "text": [
      "{'command': 'state', 'args': None}\n",
      "{'command': 'state', 'args': None, 'reply': {'id': '0', 'state': 'init', 'is_draft': True, 'is_complete': False}}\n",
      "<0 #init> None\n",
      "['quit', 'move', 'todo', 'draft', 'all', 'title', 'words_advice', 'howto', 'summarise', 'text', 'state', 'memory', 'ok', 'todo', 'modi', 'task', 'help']\n"
     ]
    },
    {
     "name": "stdin",
     "output_type": "stream",
     "text": [
      "\n",
      "👤:  ok\n"
     ]
    },
    {
     "name": "stdout",
     "output_type": "stream",
     "text": [
      "{'command': 'ok', 'args': None}\n",
      "{'command': 'ok', 'args': None, 'reply': 'todo'}\n",
      "<0 #todo> 致孩子的一封信：成长的寄语\n",
      "['quit', 'move', 'todo', 'draft', 'all', 'title', 'words_advice', 'howto', 'summarise', 'text', 'state', 'memory', 'ok', 'todo', 'modi', 'task', 'help']\n"
     ]
    },
    {
     "name": "stdin",
     "output_type": "stream",
     "text": [
      "\n",
      "👤:  state\n"
     ]
    },
    {
     "name": "stdout",
     "output_type": "stream",
     "text": [
      "{'command': 'state', 'args': None}\n",
      "{'command': 'state', 'args': None, 'reply': {'id': '0', 'state': 'todo', 'is_draft': False, 'is_complete': False}}\n",
      "<0 #todo> 致孩子的一封信：成长的寄语\n",
      "['quit', 'move', 'todo', 'draft', 'all', 'title', 'words_advice', 'howto', 'summarise', 'text', 'state', 'memory', 'ok', 'todo', 'modi', 'task', 'help']\n"
     ]
    },
    {
     "name": "stdin",
     "output_type": "stream",
     "text": [
      "\n",
      "👤:  ok\n"
     ]
    },
    {
     "name": "stdout",
     "output_type": "stream",
     "text": [
      "{'command': 'ok', 'args': None}\n",
      "```json\n",
      "{\n",
      "    \"大纲列表\": [\n",
      "        {\n",
      "            \"总字数要求\": 250,\n",
      "            \"标题名称\": \"回忆过去\",\n",
      "            \"扩写指南\": \"描述孩子成长过程中的温馨时刻，父母的观察和感受，以及这些时刻对孩子成长的意义。\"\n",
      "        },\n",
      "        {\n",
      "            \"总字数要求\": 250,\n",
      "            \"标题名称\": \"理解与支持\",\n",
      "            \"扩写指南\": \"阐述父母对孩子的个性理解和尊重，以及在孩子成长过程中如何提供支持和引导。\"\n",
      "        },\n",
      "        {\n",
      "            \"总字数要求\": 300,\n",
      "            \"标题名称\": \"寄语未来\",\n",
      "            \"扩写指南\": \"表达父母对孩子未来的期望和祝福，鼓励孩子勇敢面对挑战，坚持自我，追求梦想。\"\n",
      "        }\n",
      "    ]\n",
      "}\n",
      "```\n",
      "{'command': 'ok', 'args': None, 'reply': {'大纲列表': [{'总字数要求': 250, '标题名称': '回忆过去', '扩写指南': '描述孩子成长过程中的温馨时刻，父母的观察和感受，以及这些时刻对孩子成长的意义。'}, {'总字数要求': 250, '标题名称': '理解与支持', '扩写指南': '阐述父母对孩子的个性理解和尊重，以及在孩子成长过程中如何提供支持和引导。'}, {'总字数要求': 300, '标题名称': '寄语未来', '扩写指南': '表达父母对孩子未来的期望和祝福，鼓励孩子勇敢面对挑战，坚持自我，追求梦想。'}]}}\n",
      "<0 #todo> 致孩子的一封信：成长的寄语\n",
      "['quit', 'move', 'todo', 'draft', 'all', 'title', 'words_advice', 'howto', 'summarise', 'text', 'state', 'memory', 'ok', 'todo', 'modi', 'task', 'help']\n"
     ]
    },
    {
     "name": "stdin",
     "output_type": "stream",
     "text": [
      "\n",
      "👤:  title\n"
     ]
    },
    {
     "name": "stdout",
     "output_type": "stream",
     "text": [
      "{'command': 'title', 'args': None}\n",
      "{'command': 'title', 'args': None, 'reply': '致孩子的一封信：成长的寄语'}\n",
      "<0 #todo> 致孩子的一封信：成长的寄语\n",
      "['quit', 'move', 'todo', 'draft', 'all', 'title', 'words_advice', 'howto', 'summarise', 'text', 'state', 'memory', 'ok', 'todo', 'modi', 'task', 'help']\n"
     ]
    },
    {
     "name": "stdin",
     "output_type": "stream",
     "text": [
      "\n",
      "👤:  ok\n"
     ]
    },
    {
     "name": "stdout",
     "output_type": "stream",
     "text": [
      "{'command': 'ok', 'args': None}\n",
      "{'command': 'ok', 'args': None, 'reply': 'done'}\n",
      "{'command': 'todo', 'args': None}\n",
      "{'command': 'move', 'args': '0.1'}\n",
      "{'command': 'ok', 'args': None}\n",
      "{'command': 'task', 'args': '请继续'}\n",
      "```json\n",
      "{\n",
      "    \"详细内容\": \"亲爱的孩子，每当我闭上眼，脑海中便涌现出你成长中的一幕幕：你第一次摇摇晃晃地走路，跌倒后倔强地自己站起来；你在夜晚的灯光下，专注地拼读每一个字母；还有你第一次骑自行车，脸上洋溢着自豪的笑容。这些瞬间，虽小却温暖，它们如同珍珠般串起了我们共同的回忆。作为父母，我们见证了你的每一次尝试与进步，你的勇气和坚持让我们感到骄傲。这些经历，不仅塑造了你的性格，也为你的未来打下了坚实的基础。\",\n",
      "    \"内容摘要\": \"描述了孩子成长中的几个温馨时刻，包括学习走路、读书和骑自行车等，父母见证并感受到这些时刻对孩子成长的重要意义。\"\n",
      "}\n",
      "```\n",
      "<0.1 #todo> 回忆过去\n",
      "['quit', 'move', 'todo', 'draft', 'all', 'title', 'words_advice', 'howto', 'summarise', 'text', 'state', 'memory', 'ok', 'todo', 'modi', 'task', 'help']\n"
     ]
    },
    {
     "name": "stdin",
     "output_type": "stream",
     "text": [
      "\n",
      "👤:  title\n"
     ]
    },
    {
     "name": "stdout",
     "output_type": "stream",
     "text": [
      "{'command': 'title', 'args': None}\n",
      "{'command': 'title', 'args': None, 'reply': '回忆过去'}\n",
      "<0.1 #todo> 回忆过去\n",
      "['quit', 'move', 'todo', 'draft', 'all', 'title', 'words_advice', 'howto', 'summarise', 'text', 'state', 'memory', 'ok', 'todo', 'modi', 'task', 'help']\n"
     ]
    },
    {
     "name": "stdin",
     "output_type": "stream",
     "text": [
      "\n",
      "👤:  ok\n"
     ]
    },
    {
     "name": "stdout",
     "output_type": "stream",
     "text": [
      "{'command': 'ok', 'args': None}\n",
      "{'command': 'ok', 'args': None, 'reply': 'done'}\n",
      "{'command': 'todo', 'args': None}\n",
      "{'command': 'move', 'args': '0.2'}\n",
      "{'command': 'ok', 'args': None}\n",
      "{'command': 'task', 'args': '请继续'}\n",
      "```json\n",
      "{\n",
      "    \"详细内容\": \"亲爱的孩子，我们一直致力于理解你的独特个性，尊重你的选择和兴趣。在你成长的道路上，我们始终以温暖的目光注视着你，从学习走路时的蹒跚到读书时的专注，再到骑自行车时的自由驰骋。我们明白，每个孩子都是独立的个体，需要不同的支持与引导。因此，我们鼓励你去探索、去尝试，哪怕失败，也视为成长的宝贵经验。我们愿意倾听你的想法，和你一起面对困难，共同寻找解决问题的方法，让你在自信和爱中茁壮成长。\",\n",
      "    \"内容摘要\": \"父母表达了对孩子个性的理解和尊重，并承诺在孩子成长过程中提供鼓励、支持与引导，强调了探索与尝试的重要性，以及共同面对困难的家庭价值观。\"\n",
      "}\n",
      "```\n",
      "<0.2 #todo> 理解与支持\n",
      "['quit', 'move', 'todo', 'draft', 'all', 'title', 'words_advice', 'howto', 'summarise', 'text', 'state', 'memory', 'ok', 'todo', 'modi', 'task', 'help']\n"
     ]
    },
    {
     "name": "stdin",
     "output_type": "stream",
     "text": [
      "\n",
      "👤:  outlines\n"
     ]
    },
    {
     "name": "stdout",
     "output_type": "stream",
     "text": [
      "{'command': 'help', 'args': 'outlines'}\n",
      "根据您提供的内容，如果您是在询问“outlines”一词在上述文本中的应用或解释，以下是我为您准备的信息：\n",
      "\n",
      "在写作中，“outlines”通常指的是一个概括性的框架或概要，它展示了一个主题或故事的主要结构。在您提供的文本中，“outlines”可以这样理解：\n",
      "\n",
      "1. **详细内容**：\n",
      "   - 这部分内容并没有直接使用“outlines”这个词，但如果要概括这段话的要点，可以说它“outlines”（概述）了父母对孩子的教育理念和支持态度。\n",
      "   - **例句**：“这段话outlines了父母对孩子个性尊重、鼓励探索的家庭教育理念。”\n",
      "\n",
      "2. **内容摘要**：\n",
      "   - 这部分是对详细内容的简洁概括，它“outlines”（概述）了父母的态度、承诺以及家庭价值观的核心要点。\n",
      "   - **例句**：“内容摘要中outlines了父母愿意在孩子成长过程中提供必要的支持与引导。”\n",
      "\n",
      "在具体使用“outlines”这个词时，可以参考以下例句：\n",
      "\n",
      "- “作者用详细的叙述outlines了父母与孩子共同成长的温馨画面。”\n",
      "- “这篇文章的outlines清晰地展现了家庭教育的核心理念。”\n",
      "\n",
      "希望这些信息能够帮助您更好地理解“outlines”一词在文本中的应用。如果您有其他关于写作的问题或需要进一步的解释，请随时告诉我。\n",
      "{'command': 'help', 'args': 'outlines', 'reply': '根据您提供的内容，如果您是在询问“outlines”一词在上述文本中的应用或解释，以下是我为您准备的信息：\\n\\n在写作中，“outlines”通常指的是一个概括性的框架或概要，它展示了一个主题或故事的主要结构。在您提供的文本中，“outlines”可以这样理解：\\n\\n1. **详细内容**：\\n   - 这部分内容并没有直接使用“outlines”这个词，但如果要概括这段话的要点，可以说它“outlines”（概述）了父母对孩子的教育理念和支持态度。\\n   - **例句**：“这段话outlines了父母对孩子个性尊重、鼓励探索的家庭教育理念。”\\n\\n2. **内容摘要**：\\n   - 这部分是对详细内容的简洁概括，它“outlines”（概述）了父母的态度、承诺以及家庭价值观的核心要点。\\n   - **例句**：“内容摘要中outlines了父母愿意在孩子成长过程中提供必要的支持与引导。”\\n\\n在具体使用“outlines”这个词时，可以参考以下例句：\\n\\n- “作者用详细的叙述outlines了父母与孩子共同成长的温馨画面。”\\n- “这篇文章的outlines清晰地展现了家庭教育的核心理念。”\\n\\n希望这些信息能够帮助您更好地理解“outlines”一词在文本中的应用。如果您有其他关于写作的问题或需要进一步的解释，请随时告诉我。'}\n",
      "<0.2 #todo> 理解与支持\n",
      "['quit', 'move', 'todo', 'draft', 'all', 'title', 'words_advice', 'howto', 'summarise', 'text', 'state', 'memory', 'ok', 'todo', 'modi', 'task', 'help']\n"
     ]
    },
    {
     "name": "stdin",
     "output_type": "stream",
     "text": [
      "\n",
      "👤:  nodes\n"
     ]
    },
    {
     "name": "stdout",
     "output_type": "stream",
     "text": [
      "{'command': 'help', 'args': 'nodes'}\n",
      "在您提供的文本中，“nodes”这个词出现在两个不同的上下文中，分别指的是：\n",
      "\n",
      "1. **区块链网络中的节点**：\n",
      "   - 在参考信息[1]中，\"nodes\"指的是区块链网络中的各个独立计算实体，每个节点都参与网络的维护和数据存储。\n",
      "   - 例句：“在创建一个由三个节点组成的去中心化区块链网络中，每个节点对应不同的端口，并负责处理区块链的构建、交易验证等任务。”\n",
      "\n",
      "2. **前端开发中的树结构节点**：\n",
      "   - 在参考信息[2]中，\"nodes\"指的是前端开发中的Tree组件的各个分支点，即树结构中的每个元素。\n",
      "   - 例句：“在PrimeVue的Tree组件中，可以通过定义节点对象来初始化树的nodes，并控制它们的展开和折叠。”\n",
      "\n",
      "以下是关于“nodes”的一些一般性解释：\n",
      "\n",
      "- **计算机科学中的节点**：在计算机科学中，节点通常指的是网络、数据结构（如树、图）或分布式系统中的一个连接点或实体。\n",
      "- **网络中的节点**：在网络中，节点可以是任何连接到网络的设备，如计算机、服务器或传感器。\n",
      "- **数据结构中的节点**：在数据结构中，节点是构成结构的基本单元，例如链表中的每个元素或树结构中的每个分支点。\n",
      "\n",
      "在编写文档或解释相关概念时，使用“nodes”这个词有助于明确指代这些不同的实体或元素。\n",
      "{'command': 'help', 'args': 'nodes', 'reply': '在您提供的文本中，“nodes”这个词出现在两个不同的上下文中，分别指的是：\\n\\n1. **区块链网络中的节点**：\\n   - 在参考信息[1]中，\"nodes\"指的是区块链网络中的各个独立计算实体，每个节点都参与网络的维护和数据存储。\\n   - 例句：“在创建一个由三个节点组成的去中心化区块链网络中，每个节点对应不同的端口，并负责处理区块链的构建、交易验证等任务。”\\n\\n2. **前端开发中的树结构节点**：\\n   - 在参考信息[2]中，\"nodes\"指的是前端开发中的Tree组件的各个分支点，即树结构中的每个元素。\\n   - 例句：“在PrimeVue的Tree组件中，可以通过定义节点对象来初始化树的nodes，并控制它们的展开和折叠。”\\n\\n以下是关于“nodes”的一些一般性解释：\\n\\n- **计算机科学中的节点**：在计算机科学中，节点通常指的是网络、数据结构（如树、图）或分布式系统中的一个连接点或实体。\\n- **网络中的节点**：在网络中，节点可以是任何连接到网络的设备，如计算机、服务器或传感器。\\n- **数据结构中的节点**：在数据结构中，节点是构成结构的基本单元，例如链表中的每个元素或树结构中的每个分支点。\\n\\n在编写文档或解释相关概念时，使用“nodes”这个词有助于明确指代这些不同的实体或元素。'}\n",
      "<0.2 #todo> 理解与支持\n",
      "['quit', 'move', 'todo', 'draft', 'all', 'title', 'words_advice', 'howto', 'summarise', 'text', 'state', 'memory', 'ok', 'todo', 'modi', 'task', 'help']\n"
     ]
    },
    {
     "name": "stdin",
     "output_type": "stream",
     "text": [
      "\n",
      "👤:  title\n"
     ]
    },
    {
     "name": "stdout",
     "output_type": "stream",
     "text": [
      "{'command': 'title', 'args': None}\n",
      "{'command': 'title', 'args': None, 'reply': '理解与支持'}\n",
      "<0.2 #todo> 理解与支持\n",
      "['quit', 'move', 'todo', 'draft', 'all', 'title', 'words_advice', 'howto', 'summarise', 'text', 'state', 'memory', 'ok', 'todo', 'modi', 'task', 'help']\n"
     ]
    },
    {
     "name": "stdin",
     "output_type": "stream",
     "text": [
      "\n",
      "👤:  qiut\n"
     ]
    },
    {
     "name": "stdout",
     "output_type": "stream",
     "text": [
      "{'command': 'help', 'args': 'qiut'}\n",
      "I apologize for any confusion. It seems like there might have been a misunderstanding or a change in direction for the conversation. If you want to quit the current topic or end the conversation, that's perfectly fine. If you have any other questions or need assistance with something else in the future, feel free to reach out. Have a great day!\n",
      "{'command': 'help', 'args': 'qiut', 'reply': \"I apologize for any confusion. It seems like there might have been a misunderstanding or a change in direction for the conversation. If you want to quit the current topic or end the conversation, that's perfectly fine. If you have any other questions or need assistance with something else in the future, feel free to reach out. Have a great day!\"}\n",
      "<0.2 #todo> 理解与支持\n",
      "['quit', 'move', 'todo', 'draft', 'all', 'title', 'words_advice', 'howto', 'summarise', 'text', 'state', 'memory', 'ok', 'todo', 'modi', 'task', 'help']\n"
     ]
    },
    {
     "name": "stdin",
     "output_type": "stream",
     "text": [
      "\n",
      "👤:  quit\n"
     ]
    },
    {
     "name": "stdout",
     "output_type": "stream",
     "text": [
      "{'command': 'quit', 'args': None}\n",
      "{'command': 'quit', 'args': None, 'reply': '<QUIT>'}\n",
      "QUIT\n"
     ]
    }
   ],
   "source": [
    "from textlong import WritingTask\n",
    "\n",
    "# 使用默认的智谱AI推理\n",
    "t = WritingTask()\n",
    "\n",
    "t.repl_write(\"task 致孩子的一封信, 800字\")"
   ]
  },
  {
   "cell_type": "code",
   "execution_count": 33,
   "id": "4659ce57-fc8d-40b6-9726-3eada8bbe91b",
   "metadata": {},
   "outputs": [
    {
     "data": {
      "text/plain": [
       "{'详细内容': '亲爱的孩子，每当我闭上眼，脑海中便涌现出你成长中的一幕幕：你第一次摇摇晃晃地走路，跌倒后倔强地自己站起来；你在夜晚的灯光下，专注地拼读每一个字母；还有你第一次骑自行车，脸上洋溢着自豪的笑容。这些瞬间，虽小却温暖，它们如同珍珠般串起了我们共同的回忆。作为父母，我们见证了你的每一次尝试与进步，你的勇气和坚持让我们感到骄傲。这些经历，不仅塑造了你的性格，也为你的未来打下了坚实的基础。',\n",
       " '内容摘要': '描述了孩子成长中的几个温馨时刻，包括学习走路、读书和骑自行车等，父母见证并感受到这些时刻对孩子成长的重要意义。'}"
      ]
     },
     "execution_count": 33,
     "metadata": {},
     "output_type": "execute_result"
    }
   ],
   "source": [
    "t.tree.root._children[1].last_ai_reply_json"
   ]
  },
  {
   "cell_type": "code",
   "execution_count": null,
   "id": "56dfef4d-9ea9-443c-8836-f00392fc2a0d",
   "metadata": {},
   "outputs": [],
   "source": []
  }
 ],
 "metadata": {
  "kernelspec": {
   "display_name": "langchani-book-py3.10-ipykernel",
   "language": "python",
   "name": "langchani-book-py3.10-ipykernel"
  },
  "language_info": {
   "codemirror_mode": {
    "name": "ipython",
    "version": 3
   },
   "file_extension": ".py",
   "mimetype": "text/x-python",
   "name": "python",
   "nbconvert_exporter": "python",
   "pygments_lexer": "ipython3",
   "version": "3.10.0"
  }
 },
 "nbformat": 4,
 "nbformat_minor": 5
}
