{
 "cells": [
  {
   "cell_type": "code",
   "execution_count": 1,
   "id": "615b5837-d785-4ef2-8d6f-0c1b587f9839",
   "metadata": {},
   "outputs": [],
   "source": [
    "from dotenv import load_dotenv, find_dotenv\n",
    "load_dotenv(find_dotenv(), override=True)\n",
    "\n",
    "import os\n",
    "os.chdir('..')"
   ]
  },
  {
   "cell_type": "code",
   "execution_count": 2,
   "id": "5abd4244-e420-4bb6-97d2-81ce9c70c22d",
   "metadata": {},
   "outputs": [],
   "source": [
    "from textlong import Project\n",
    "from langchain_zhipu import ChatZhipuAI\n",
    "\n",
    "p = Project(llm=ChatZhipuAI(model=\"glm-4\"))"
   ]
  },
  {
   "cell_type": "code",
   "execution_count": 3,
   "id": "8bd6a44f-7f82-4c96-b0ef-c0298cd616df",
   "metadata": {},
   "outputs": [
    {
     "name": "stdout",
     "output_type": "stream",
     "text": [
      "\n",
      "# 《我修了个假仙》第一章：误入仙途\n",
      "\n",
      "夏小兰，一个普通得不能再普通的村姑，平日里除了耕种就是照顾年迈的奶奶。然而，命运在一次偶然的机会中与她开了个大玩笑。\n",
      "\n",
      "一日，夏小兰如往常一样在山间采药，却意外救下了一个被妖兽追杀的男子——周成。周成气质不凡，仪表堂堂，自称是修仙界的精英弟子。\n",
      "\n",
      "> \"你救了我，我该如何报答你呢？\" 周成略带感激地问道。\n",
      "\n",
      "夏小兰愣了愣，她从未想过要什么报答，只是出于本能救了一个人。\n",
      "\n",
      "> \"我……我想要修仙，行吗？\" 夏小兰鼓起勇气，说出了她心中的渴望。\n",
      "\n",
      "周成微微一笑，从储物袋中取出一枚看似普通的玉简，\"这里有我派的入门心法，就当是报答你吧。\"\n",
      "\n",
      "夏小兰如获至宝，回家后便开始按图索骥地修炼。然而，奇怪的是，她按着心法修炼，却总是感觉不到灵气的存在。\n",
      "\n",
      "### 意外\n",
      "\n",
      "就在夏小兰即将放弃之际，她意外地在村头的古井中发现了一丝不同寻常的灵气。原来这口古井是连接灵脉的灵眼，只是因为某种原因隐蔽了气息。\n",
      "\n",
      "### 打脸\n",
      "\n",
      "当夏小兰终于感受到灵气的涌入，她欣喜若狂。而当她回到村子，却发现周成正在与一群修仙者大笑，讲述他如何用一枚假玉简戏弄了一个无知村姑。\n",
      "\n",
      "\"哈哈，那个夏小兰，还以为她真能修仙呢，笑死人了！\"\n",
      "\n",
      "夏小兰愣在原地，心中既是愤怒又是失望。但她并没有哭闹，反而深吸了一口气，心中暗自发誓，她要证明给所有人看，她夏小兰，修的不仅是真仙，还要修出个名堂来！\n",
      "\n"
     ]
    }
   ],
   "source": [
    "task = \"\"\"\n",
    "请帮我创作500字的修仙小说，\n",
    "标题为《我修了个假仙》，\n",
    "主角是夏小兰，男一号是周成，\n",
    "每一个章节都适用意外、打脸的线索推动\n",
    "\"\"\"\n",
    "p.idea(task, filename=\"我修了个假仙人.md\")"
   ]
  },
  {
   "cell_type": "code",
   "execution_count": 3,
   "id": "2fd63ed8-2cc5-4183-82ae-80b774a4bb9b",
   "metadata": {},
   "outputs": [
    {
     "data": {
      "text/plain": [
       "'/Users/xuehongwei/github/textlong/notes/data/public/'"
      ]
     },
     "execution_count": 3,
     "metadata": {},
     "output_type": "execute_result"
    }
   ],
   "source": [
    "p.project_path"
   ]
  },
  {
   "cell_type": "code",
   "execution_count": null,
   "id": "29c57f86-41b4-4595-8393-a3e29be82110",
   "metadata": {},
   "outputs": [],
   "source": []
  }
 ],
 "metadata": {
  "kernelspec": {
   "display_name": "langchani-book-py3.10-ipykernel",
   "language": "python",
   "name": "langchani-book-py3.10-ipykernel"
  },
  "language_info": {
   "codemirror_mode": {
    "name": "ipython",
    "version": 3
   },
   "file_extension": ".py",
   "mimetype": "text/x-python",
   "name": "python",
   "nbconvert_exporter": "python",
   "pygments_lexer": "ipython3",
   "version": "3.10.0"
  }
 },
 "nbformat": 4,
 "nbformat_minor": 5
}
