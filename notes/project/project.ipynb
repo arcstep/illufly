{
 "cells": [
  {
   "cell_type": "code",
   "execution_count": 1,
   "id": "615b5837-d785-4ef2-8d6f-0c1b587f9839",
   "metadata": {},
   "outputs": [],
   "source": [
    "from dotenv import load_dotenv, find_dotenv\n",
    "load_dotenv(find_dotenv(), override=True)\n",
    "\n",
    "import os\n",
    "os.chdir('..')"
   ]
  },
  {
   "cell_type": "markdown",
   "id": "7ad08efd-c98b-441e-b698-bc1c99cc4808",
   "metadata": {},
   "source": [
    "## 初始化项目"
   ]
  },
  {
   "cell_type": "code",
   "execution_count": 2,
   "id": "5abd4244-e420-4bb6-97d2-81ce9c70c22d",
   "metadata": {},
   "outputs": [],
   "source": [
    "from textlong import Project\n",
    "from langchain_zhipu import ChatZhipuAI\n",
    "\n",
    "p = Project(ChatZhipuAI(model=\"glm-4\"), project_folder=\"project/ABC\")"
   ]
  },
  {
   "cell_type": "code",
   "execution_count": 3,
   "id": "590343ae-d3a5-4a0e-a1a7-e7f30a2b30d3",
   "metadata": {},
   "outputs": [
    {
     "name": "stdout",
     "output_type": "stream",
     "text": [
      "Project<llm: 'zhipuai/glm-4', project_folder: 'project/ABC', output_files: ['(提纲)我修了个假仙.md', '我修了个假仙人.md', '提纲.md']>\n"
     ]
    }
   ],
   "source": [
    "print(p)"
   ]
  },
  {
   "cell_type": "markdown",
   "id": "9b44270c-f824-4373-a47a-1eebf40cc643",
   "metadata": {},
   "source": [
    "## 创建大纲"
   ]
  },
  {
   "cell_type": "code",
   "execution_count": 7,
   "id": "6debc314-2442-4264-b25e-2e05658c340c",
   "metadata": {},
   "outputs": [
    {
     "name": "stdout",
     "output_type": "stream",
     "text": [
      "\n",
      "# 夏小兰与周成\n",
      "\n",
      "夏小兰，出生于灵气氤氲的幽兰谷，自幼被一株千年兰花所抚养。这株兰花曾为一上古仙尊的随身灵物，后因仙尊渡劫失败，灵气四散，幽兰谷因此形成。夏小兰在兰花的灵气滋养下，拥有了一身兰花属性的神奇力量。\n",
      "\n",
      "周成，生于神秘的星河之畔，为一颗流星孕育而成的人形灵体。他的诞生源于一次星辰撞击，强大的星辰之力与天地灵气相结合，赋予了周成掌控星辰之力的天赋。\n",
      "\n"
     ]
    }
   ],
   "source": [
    "task = \"我要写一个修仙小说，主角是夏小兰，男一号是周成，请帮我设想一下这两个人的出身，要非常魔幻。\"\n",
    "p.from_idea(\"人物设定.md\", task)"
   ]
  },
  {
   "cell_type": "code",
   "execution_count": 8,
   "id": "8bd6a44f-7f82-4c96-b0ef-c0298cd616df",
   "metadata": {},
   "outputs": [
    {
     "name": "stdout",
     "output_type": "stream",
     "text": [
      "\n",
      "**《我修了个假仙》**\n",
      "\n",
      "## chapter 1: 幽兰谷的奇迹\n",
      "\n",
      "<OUTLINE>\n",
      "夏小兰在幽兰谷中意外发现了一本破损的修仙秘籍，她满怀希望开始修炼，却发现自己的修为增长异常缓慢。在一次偶遇中，周成以流星之力点破了她修炼的误区。\n",
      "\n",
      "扩写要求：\n",
      "- 预估字数：120字\n",
      "- 创意要点：修仙秘籍的误导，周成的流星之力\n",
      "- 创作思路：通过主角的失败和男一号的指导，展示主角的成长空间\n",
      "- 涉及实体：夏小兰、周成、幽兰谷、修仙秘籍\n",
      "</OUTLINE>\n",
      "\n",
      "## chapter 2: 星辰之力的初现\n",
      "\n",
      "<OUTLINE>\n",
      "夏小兰在周成的启发下，开始尝试融合幽兰谷的灵气与星辰之力。一次意外中，她用新学的能力打败了前来挑衅的修士，从而证明了“假仙”也有真本事。\n",
      "\n",
      "扩写要求：\n",
      "- 预估字数：140字\n",
      "- 创意要点：星辰之力的融合，打脸挑衅者\n",
      "- 创作思路：展现主角在挫折中学习成长，最终反败为胜的过程\n",
      "- 涉及实体：夏小兰、周成、星辰之力、挑衅修士\n",
      "</OUTLINE>\n",
      "\n",
      "## chapter 3: 兰花属性的觉醒\n",
      "\n",
      "<OUTLINE>\n",
      "夏小兰在周成的帮助下，深入幽兰谷的禁地，意外觉醒了自己兰花属性的深层力量，这种力量让她的修为有了质的飞跃。\n",
      "\n",
      "扩写要求：\n",
      "- 预估字数：130字\n",
      "- 创意要点：兰花属性的深层力量觉醒\n",
      "- 创作思路：通过探索禁地和力量的觉醒，强化主角的背景故事\n",
      "- 涉及实体：夏小兰、周成、幽兰谷、兰花属性\n",
      "</OUTLINE>\n",
      "\n",
      "## chapter 4: 伪仙的逆袭\n",
      "\n",
      "<OUTLINE>\n",
      "面对外界对“假仙”的质疑和嘲笑，夏小兰与周成联手，用实力证明了自己。在一次重要的修仙比武中，他们巧妙地利用兰花属性与星辰之力的结合，出人意料地赢得了胜利。\n",
      "\n",
      "扩写要求：\n",
      "- 预估字数：100字\n",
      "- 创意要点：修仙比武的逆袭胜利\n",
      "- 创作思路：展示主角如何将劣势转为优势，实现逆袭\n",
      "- 涉及实体：夏小兰、周成、修仙比武、兰花属性、星辰之力\n",
      "</OUTLINE>\n"
     ]
    }
   ],
   "source": [
    "task = \"请帮我创作500字的修仙小说，标题为《我修了个假仙》，主角是夏小兰，男一号是周成，每一个章节都适用意外、打脸的线索推动。\"\n",
    "p.from_idea(\"提纲.md\", task, kg_files=[\"人物设定.md\"], prompt_id=\"OUTLINE\")"
   ]
  },
  {
   "cell_type": "markdown",
   "id": "5b34ecef-4703-44c6-837f-3787d5c6cdd7",
   "metadata": {},
   "source": [
    "## 扩写"
   ]
  },
  {
   "cell_type": "code",
   "execution_count": 9,
   "id": "29c57f86-41b4-4595-8393-a3e29be82110",
   "metadata": {},
   "outputs": [
    {
     "name": "stdout",
     "output_type": "stream",
     "text": [
      "**《我修了个假仙》**\n",
      "\n",
      "## chapter 1: 幽兰谷的奇迹\n",
      "\n",
      "\n",
      "夏小兰怀抱那本破旧的修仙秘籍，眼中满是期待与坚定。然而，经过长时间的修炼，她的修为增长却如蜗牛爬行。一日，她在幽兰谷深处偶遇周成，他身披星光，宛如仙人。\n",
      "\n",
      "“小兰，你的修炼方法似乎有些问题。”周成淡淡地说道，眼中流星之力闪烁。\n",
      "\n",
      "夏小兰疑惑地看着他，问道：“问题在哪里？我按照秘籍上的方法修炼，为何修为却毫无进展？”\n",
      "\n",
      "周成指向天空，一颗流星划破夜空，他解释道：“修仙不仅仅是吸纳灵气，更要感悟天地之力。你的秘籍误导了你，让你忽视了星辰之力。”\n",
      "\n",
      "言罢，周成挥手间，一道流星之力融入夏小兰体内，她感受到一股强大的能量涌动，仿佛打开了新世界的大门。\n",
      "\n",
      "\n",
      "## chapter 2: 星辰之力的初现\n",
      "\n",
      "\n",
      "夏小兰在周成的指导下，日夜尝试将幽兰谷独有的灵气与星辰之力相融合。一日，一名来自远方的修士前来挑衅，嘴角挂着冷笑，质疑她的“假仙”之名。夏小兰初试融合之力，星芒与兰香交织，一举将对方击退。修士惊愕，面露羞愧之色。周成点头称赞：“你已开始触摸到真正的修仙之道。”\n",
      "\n",
      "## chapter 3: 兰花属性的觉醒\n",
      "\n",
      "\n",
      "夏小兰在周成的引领下，踏入幽兰谷深处那被神秘力量屏蔽的禁地。禁地中，一株巨大的千年兰花散发着幽幽蓝光，周围灵气浓郁得几乎凝固。周成指导她深入感悟，突然间，夏小兰体内兰花属性的力量与千年兰花的灵气产生了共鸣，一股深邃的力量从她心底觉醒。\n",
      "\n",
      "“感受到了吗？这是你兰花属性的深层力量。”周成低声问道。\n",
      "\n",
      "夏小兰紧闭双眼，感受着那股力量在体内流淌，她的身体仿佛与幽兰谷融为一体，每一个细胞都在欢呼雀跃。\n",
      "\n",
      "“我感受到了，这是一种全新的力量！”夏小兰睁开眼，眼中闪过一抹幽蓝。\n",
      "\n",
      "随着兰花属性的深层力量觉醒，夏小兰的修为如同破茧成蝶，发生了质的飞跃。她的身体轻盈如风，每一招每一式都蕴含着兰花的灵动与星辰的深邃。\n",
      "\n",
      "## chapter 4: 伪仙的逆袭\n",
      "\n",
      "\n",
      "在修仙比武的激烈战场上，嘲讽和质疑声如同潮水般涌向夏小兰。她紧握双拳，眼中闪烁着坚定的光芒，与一旁的周成对视一眼，彼此心意相通。周成低声提醒：“小兰，忘记外界的声音，展现你真正的力量。”\n",
      "\n",
      "比武开始，对手嘲笑她是“假仙”，挥剑直攻。夏小兰不慌不忙，身形如兰花般轻盈，躲过攻击。她深吸一口气，感受着体内兰花属性与星辰之力的融合，瞬间释放出强大的能量。\n",
      "\n",
      "“让我看看，什么才是真正的修仙！”夏小兰娇喝一声，星辰之力与兰花属性的灵气交织，形成一道璀璨的光芒，直击对手。\n",
      "\n",
      "对手惊愕间，已被这股强大的力量震退。夏小兰乘胜追击，每一招都蕴含着星辰之力和兰花属性的灵动，令对手无法还手。最终，她一招兰花指，将对手击败。\n",
      "\n",
      "胜利的那一刻，全场寂静无声，继而爆发出雷鸣般的掌声。周成微笑着点头：“你用实力证明了，你是真正的修仙者。”\n"
     ]
    }
   ],
   "source": [
    "p.from_outline(\n",
    "    output_file=\"我修了个假仙人.md\",\n",
    "    input_file=\"提纲.md\",\n",
    "    task=\"多使用人物细节、对话描写、打斗描写，减少抽象叙事\",\n",
    "    kg_files=[\"人物设定.md\"]\n",
    ")"
   ]
  },
  {
   "cell_type": "markdown",
   "id": "7d1c56b0-be28-4763-b029-4a150011fc68",
   "metadata": {},
   "source": [
    "## 从历史中提取"
   ]
  },
  {
   "cell_type": "code",
   "execution_count": 6,
   "id": "3d5d4e92-cc49-4183-ae5f-93a264774c85",
   "metadata": {},
   "outputs": [],
   "source": [
    "p.checkout(\"我修了个假仙人.md\")"
   ]
  },
  {
   "cell_type": "code",
   "execution_count": null,
   "id": "d7e72467-282f-410a-9c7d-bb19413e0646",
   "metadata": {},
   "outputs": [],
   "source": []
  }
 ],
 "metadata": {
  "kernelspec": {
   "display_name": "langchani-book-py3.10-ipykernel",
   "language": "python",
   "name": "langchani-book-py3.10-ipykernel"
  },
  "language_info": {
   "codemirror_mode": {
    "name": "ipython",
    "version": 3
   },
   "file_extension": ".py",
   "mimetype": "text/x-python",
   "name": "python",
   "nbconvert_exporter": "python",
   "pygments_lexer": "ipython3",
   "version": "3.10.0"
  }
 },
 "nbformat": 4,
 "nbformat_minor": 5
}
