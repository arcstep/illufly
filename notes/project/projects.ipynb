{
 "cells": [
  {
   "cell_type": "code",
   "execution_count": 1,
   "id": "2a9c5b56-9fcd-4139-bea7-2a309b09dbb7",
   "metadata": {},
   "outputs": [],
   "source": [
    "from dotenv import load_dotenv, find_dotenv\n",
    "load_dotenv(find_dotenv(), override=True)\n",
    "\n",
    "import os\n",
    "os.chdir('..')"
   ]
  },
  {
   "cell_type": "code",
   "execution_count": 2,
   "id": "a0533b6a-c158-4c40-853e-b5901b6ede52",
   "metadata": {},
   "outputs": [
    {
     "data": {
      "text/plain": [
       "['ABC', 'Hello']"
      ]
     },
     "execution_count": 2,
     "metadata": {},
     "output_type": "execute_result"
    }
   ],
   "source": [
    "from textlong.project import list_projects, create_project, is_project_existing, Project\n",
    "\n",
    "list_projects()"
   ]
  },
  {
   "cell_type": "code",
   "execution_count": 3,
   "id": "c6774f2b-220e-437a-842c-22cbeea889f2",
   "metadata": {},
   "outputs": [
    {
     "data": {
      "text/plain": [
       "True"
      ]
     },
     "execution_count": 3,
     "metadata": {},
     "output_type": "execute_result"
    }
   ],
   "source": [
    "create_project(\"Hello\")"
   ]
  },
  {
   "cell_type": "code",
   "execution_count": 4,
   "id": "052afa16-44a3-4035-aee2-817bb5909e8f",
   "metadata": {},
   "outputs": [
    {
     "data": {
      "text/plain": [
       "Project<llm: 'zhipuai/glm-4', project_folder: 'PROJECT_BASE/public/ABC', output_files: []>"
      ]
     },
     "execution_count": 4,
     "metadata": {},
     "output_type": "execute_result"
    }
   ],
   "source": [
    "from langchain_zhipu import ChatZhipuAI\n",
    "p = Project(ChatZhipuAI(), project_id=\"ABC\")\n",
    "p"
   ]
  },
  {
   "cell_type": "code",
   "execution_count": 5,
   "id": "4715132f-f187-4c3c-956d-2dece5d1841b",
   "metadata": {},
   "outputs": [
    {
     "name": "stdout",
     "output_type": "stream",
     "text": [
      "\n",
      "# Python环境变量解释\n",
      "\n",
      "环境变量是操作系统用来确定如何运行程序的变量，它们对Python程序同样重要。在Python中，环境变量可以影响解释器的行为、库的查找以及程序的运行。\n",
      "\n",
      "- **`PYTHONPATH`**: 当你导入一个模块时，Python解释器会在几个地方查找这个模块。`PYTHONPATH`环境变量是一个目录列表，Python解释器会在这个列表中的目录里查找模块。\n",
      "  \n",
      "- **`PYTHONHOME`**: 这个变量用来指定Python安装的位置，在某些情况下，特别是在UNIX系统中，如果Python解释器和库不在标准位置，这个变量就很有用。\n",
      "\n",
      "- **`PYTHONSTARTUP`**: 当你启动Python解释器时，如果这个环境变量被设置，它的值会被作为启动文件来执行。\n",
      "\n",
      "- **`PYTHONCASEOK`**: 在UNIX系统中，如果这个变量被设置，Python忽略导入模块时的大小写。\n",
      "\n",
      "- **`PYTHONIOENCODING`**: 这个变量用于设置Python的标准输入输出错误流的默认编码。\n",
      "\n",
      "使用环境变量可以帮助你控制Python程序的运行时环境，而不必修改程序代码。\n",
      "\n"
     ]
    }
   ],
   "source": [
    "p.from_idea(output_file=\"python环境变量.md\", task=\"python的环境变量是怎么回事\")"
   ]
  },
  {
   "cell_type": "code",
   "execution_count": null,
   "id": "5c2a0454-2c1f-4cfe-a91b-abd95d5997ce",
   "metadata": {},
   "outputs": [],
   "source": []
  }
 ],
 "metadata": {
  "kernelspec": {
   "display_name": "langchani-book-py3.10-ipykernel",
   "language": "python",
   "name": "langchani-book-py3.10-ipykernel"
  },
  "language_info": {
   "codemirror_mode": {
    "name": "ipython",
    "version": 3
   },
   "file_extension": ".py",
   "mimetype": "text/x-python",
   "name": "python",
   "nbconvert_exporter": "python",
   "pygments_lexer": "ipython3",
   "version": "3.10.0"
  }
 },
 "nbformat": 4,
 "nbformat_minor": 5
}
