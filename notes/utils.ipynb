{
 "cells": [
  {
   "cell_type": "code",
   "execution_count": 1,
   "id": "b4c0e39c-43b5-4621-b8ed-cc6560d814d9",
   "metadata": {},
   "outputs": [],
   "source": [
    "import os\n",
    "from dotenv import load_dotenv, find_dotenv\n",
    "load_dotenv(find_dotenv(), override=True)\n",
    "\n",
    "os.chdir('..')"
   ]
  },
  {
   "cell_type": "code",
   "execution_count": 2,
   "id": "75c739bd-1f32-49bf-aec5-d165093d424c",
   "metadata": {},
   "outputs": [],
   "source": [
    "from textlong.utils import extract_text"
   ]
  },
  {
   "cell_type": "code",
   "execution_count": 7,
   "id": "42b2f160-be85-492a-a723-9b132b9e8c14",
   "metadata": {},
   "outputs": [
    {
     "data": {
      "text/plain": [
       "'你的建议很合理'"
      ]
     },
     "execution_count": 7,
     "metadata": {},
     "output_type": "execute_result"
    }
   ],
   "source": [
    "extract_text(\"\"\"\n",
    "输出结果：\n",
    "<OUTLINE>\n",
    "你的建议很合理\n",
    "</OUTLINE>\n",
    "\"\"\")"
   ]
  },
  {
   "cell_type": "code",
   "execution_count": 6,
   "id": "301a1801-bc06-4505-badf-9795365d55bf",
   "metadata": {},
   "outputs": [
    {
     "data": {
      "text/plain": [
       "'你的建议很合理\\n这里有一个示范：\\n>->>>\\n是不是这样？\\n<<<-<'"
      ]
     },
     "execution_count": 6,
     "metadata": {},
     "output_type": "execute_result"
    }
   ],
   "source": [
    "extract_text(\"\"\"\n",
    "你的输出结果：\n",
    ">->>>\n",
    "你的建议很合理\n",
    "这里有一个示范：\n",
    ">->>>\n",
    "是不是这样？\n",
    "<<<-<\n",
    "<<<-<\n",
    "总字数约50字\n",
    "\"\"\", \">->>>\", \"<<<-<\")"
   ]
  },
  {
   "cell_type": "code",
   "execution_count": 5,
   "id": "73915468-73c5-449b-abe2-2cef101d8fea",
   "metadata": {},
   "outputs": [
    {
     "data": {
      "text/plain": [
       "'一个平凡小孩，在一次偶然的机缘中，获得穿越时空的能力，走进神秘莫测的修仙世界。\\n\\n扩写要求：\\n- 描述小孩的日常生活，展现其平凡与特殊之处\\n- 遇到神秘的时空门，描述穿越的情景\\n- 字数：100字\\n</OUTLINE>\\n\\n## 磨砺\\n<OUTLINE>\\n小孩在修仙界历经坎坷，不断磨砺自己，从一个无知幼儿成长为潜力无限的天才。\\n\\n扩写要求：\\n- 描述修仙界的环境、法则和主要角色\\n- 突出小孩在修仙过程中的挫折与成长\\n- 字数：100字\\n</OUTLINE>\\n\\n## 逆袭\\n<OUTLINE>\\n在修仙界逐步崭露头角的小孩，凭借自己的努力和智慧，开始逆袭各大门派，成为一代传奇。\\n\\n扩写要求：\\n- 描述小孩如何巧妙应对敌人，克服困难\\n- 展现小孩在修仙界的影响力，以及他带给修仙界的变化\\n- 字数：100字\\n</OUTLINE>\\n\\n## 归来\\n<OUTLINE>\\n逆袭成功的小孩，带着丰富的修仙经验回到现实世界，开始了新的生活。\\n\\n扩写要求：\\n- 描述小孩如何运用修仙界的知识，改变现实世界\\n- 突出小孩内心的成长与变化\\n- 字数：100字'"
      ]
     },
     "execution_count": 5,
     "metadata": {},
     "output_type": "execute_result"
    }
   ],
   "source": [
    "extract_text(\"\"\"\n",
    "# 逆袭仙途：缘起童年\n",
    "\n",
    "## 起源\n",
    "<OUTLINE>\n",
    "一个平凡小孩，在一次偶然的机缘中，获得穿越时空的能力，走进神秘莫测的修仙世界。\n",
    "\n",
    "扩写要求：\n",
    "- 描述小孩的日常生活，展现其平凡与特殊之处\n",
    "- 遇到神秘的时空门，描述穿越的情景\n",
    "- 字数：100字\n",
    "</OUTLINE>\n",
    "\n",
    "## 磨砺\n",
    "<OUTLINE>\n",
    "小孩在修仙界历经坎坷，不断磨砺自己，从一个无知幼儿成长为潜力无限的天才。\n",
    "\n",
    "扩写要求：\n",
    "- 描述修仙界的环境、法则和主要角色\n",
    "- 突出小孩在修仙过程中的挫折与成长\n",
    "- 字数：100字\n",
    "</OUTLINE>\n",
    "\n",
    "## 逆袭\n",
    "<OUTLINE>\n",
    "在修仙界逐步崭露头角的小孩，凭借自己的努力和智慧，开始逆袭各大门派，成为一代传奇。\n",
    "\n",
    "扩写要求：\n",
    "- 描述小孩如何巧妙应对敌人，克服困难\n",
    "- 展现小孩在修仙界的影响力，以及他带给修仙界的变化\n",
    "- 字数：100字\n",
    "</OUTLINE>\n",
    "\n",
    "## 归来\n",
    "<OUTLINE>\n",
    "逆袭成功的小孩，带着丰富的修仙经验回到现实世界，开始了新的生活。\n",
    "\n",
    "扩写要求：\n",
    "- 描述小孩如何运用修仙界的知识，改变现实世界\n",
    "- 突出小孩内心的成长与变化\n",
    "- 字数：100字\n",
    "</OUTLINE>\n",
    "\"\"\")"
   ]
  },
  {
   "cell_type": "code",
   "execution_count": null,
   "id": "aa024a69-3945-4d54-9bd9-4b7934e671e8",
   "metadata": {},
   "outputs": [],
   "source": []
  }
 ],
 "metadata": {
  "kernelspec": {
   "display_name": "langchani-book-py3.10-ipykernel",
   "language": "python",
   "name": "langchani-book-py3.10-ipykernel"
  },
  "language_info": {
   "codemirror_mode": {
    "name": "ipython",
    "version": 3
   },
   "file_extension": ".py",
   "mimetype": "text/x-python",
   "name": "python",
   "nbconvert_exporter": "python",
   "pygments_lexer": "ipython3",
   "version": "3.10.0"
  }
 },
 "nbformat": 4,
 "nbformat_minor": 5
}
