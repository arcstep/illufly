{
 "cells": [
  {
   "cell_type": "markdown",
   "id": "40a245d6-e7ea-4be6-9f57-d9677554ccfa",
   "metadata": {},
   "source": [
    "# 智能体框架"
   ]
  },
  {
   "cell_type": "markdown",
   "id": "7533300d-21cd-4d94-a8ef-650cea271667",
   "metadata": {},
   "source": [
    "## 基本功能"
   ]
  },
  {
   "cell_type": "markdown",
   "id": "1945c309-e566-484a-9ad5-8f43c33f429f",
   "metadata": {},
   "source": [
    "### call函数"
   ]
  },
  {
   "cell_type": "code",
   "execution_count": 1,
   "id": "2c0c097f-6a30-47fb-bbb9-5658e38ec6f8",
   "metadata": {},
   "outputs": [
    {
     "name": "stdout",
     "output_type": "stream",
     "text": [
      "[INFO] \u001b[34mFakeLLM: [{'role': 'user', 'content': 'hi'}]\u001b[0m\n",
      "\u001b[32m这\u001b[0m\u001b[32m是\u001b[0m\u001b[32m一个\u001b[0m\u001b[32m模拟\u001b[0m\u001b[32m调用\u001b[0m\u001b[32m!\u001b[0m\n",
      "\n"
     ]
    },
    {
     "data": {
      "text/plain": [
       "'这是一个模拟调用!'"
      ]
     },
     "execution_count": 1,
     "metadata": {},
     "output_type": "execute_result"
    }
   ],
   "source": [
    "from textlong.llm import FakeLLM\n",
    "from textlong.io import log\n",
    "\n",
    "log(FakeLLM(), \"hi\")"
   ]
  },
  {
   "cell_type": "markdown",
   "id": "6b178ac3-ee24-484d-9f3e-2ae8a5153468",
   "metadata": {},
   "source": [
    "### async_call 函数"
   ]
  },
  {
   "cell_type": "code",
   "execution_count": 2,
   "id": "ff781830-aff0-45fb-a755-978a1e80d1f1",
   "metadata": {},
   "outputs": [
    {
     "name": "stdout",
     "output_type": "stream",
     "text": [
      "[INFO] \u001b[34mFakeLLM: [{'role': 'user', 'content': 'hi'}]\u001b[0m\n",
      "\u001b[32m这\u001b[0m\u001b[32m是\u001b[0m\u001b[32m一个\u001b[0m\u001b[32m模拟\u001b[0m\u001b[32m调用\u001b[0m\u001b[32m!\u001b[0m\n",
      "\n"
     ]
    },
    {
     "data": {
      "text/plain": [
       "'这是一个模拟调用!'"
      ]
     },
     "execution_count": 2,
     "metadata": {},
     "output_type": "execute_result"
    }
   ],
   "source": [
    "from textlong.llm import FakeLLM\n",
    "from textlong.io import alog\n",
    "\n",
    "await alog(FakeLLM(), \"hi\", sleep=1)"
   ]
  },
  {
   "cell_type": "markdown",
   "id": "3d40ef16-4288-4614-a9a5-78a7bac9ad2a",
   "metadata": {},
   "source": [
    "### 线程池"
   ]
  },
  {
   "cell_type": "code",
   "execution_count": 3,
   "id": "f544bf67-86e4-439c-87f5-1c30b18578a6",
   "metadata": {},
   "outputs": [
    {
     "data": {
      "text/plain": [
       "{'FAKE_LLM': {'max_workers': 5, 'used_workers': 1, 'waiting_threads': 0}}"
      ]
     },
     "execution_count": 3,
     "metadata": {},
     "output_type": "execute_result"
    }
   ],
   "source": [
    "FakeLLM.monitor_executors()"
   ]
  },
  {
   "cell_type": "markdown",
   "id": "1e8b4e98-6f08-45f1-a326-b24686c299ff",
   "metadata": {},
   "source": [
    "## 调用大模型"
   ]
  },
  {
   "cell_type": "markdown",
   "id": "12b0bb63-5efe-4e79-a8c6-12ad0eb39d35",
   "metadata": {},
   "source": [
    "### 对话"
   ]
  },
  {
   "cell_type": "code",
   "execution_count": 6,
   "id": "cd7e0d2d-fb9d-4992-9045-3dc602fd346e",
   "metadata": {},
   "outputs": [
    {
     "name": "stdout",
     "output_type": "stream",
     "text": [
      "\u001b[32m小白\u001b[0m\u001b[32m兔\u001b[0m\u001b[32m，\u001b[0m\u001b[32m梦中跳，  \n",
      "\u001b[0m\u001b[32m胡萝卜，满天飘。  \n",
      "月亮\u001b[0m\u001b[32m船，带它逛，  \n",
      "醒来\u001b[0m\u001b[32m笑，梦真妙。\u001b[0m\u001b[32m\u001b[0m\n",
      "\n"
     ]
    },
    {
     "data": {
      "text/plain": [
       "'小白兔，梦中跳，  \\n胡萝卜，满天飘。  \\n月亮船，带它逛，  \\n醒来笑，梦真妙。'"
      ]
     },
     "execution_count": 6,
     "metadata": {},
     "output_type": "execute_result"
    }
   ],
   "source": [
    "from textlong.llm import ChatQwen\n",
    "from textlong.io import log\n",
    "\n",
    "qwen = ChatQwen()\n",
    "log(qwen, \"你能帮我写一首关于兔子做梦的四句儿歌?\")"
   ]
  },
  {
   "cell_type": "code",
   "execution_count": 7,
   "id": "1f5eb165-0536-41ee-9c23-f9da8b9d1f55",
   "metadata": {},
   "outputs": [
    {
     "data": {
      "text/plain": [
       "[{'role': 'user', 'content': '你能帮我写一首关于兔子做梦的四句儿歌?'},\n",
       " {'role': 'assistant',\n",
       "  'content': '小白兔，梦中跳，  \\n胡萝卜，满天飘。  \\n月亮船，带它逛，  \\n醒来笑，梦真妙。'}]"
      ]
     },
     "execution_count": 7,
     "metadata": {},
     "output_type": "execute_result"
    }
   ],
   "source": [
    "qwen.memory"
   ]
  },
  {
   "cell_type": "markdown",
   "id": "7dc286da-5819-419b-b523-8ec3391ae7b6",
   "metadata": {},
   "source": [
    "### 使用系统提示语"
   ]
  },
  {
   "cell_type": "code",
   "execution_count": 8,
   "id": "8c70c16a-77a4-44f5-865a-b4dea7858496",
   "metadata": {},
   "outputs": [
    {
     "name": "stdout",
     "output_type": "stream",
     "text": [
      "\u001b[32m小\u001b[0m\u001b[32m兔子\u001b[0m\u001b[32m白\u001b[0m\u001b[32m又白，耳朵长\u001b[0m\u001b[32m蹦蹦跳。\n",
      "爱吃萝卜和青\u001b[0m\u001b[32m菜，月光下尾巴摇。\u001b[0m\u001b[32m\u001b[0m\n",
      "\n"
     ]
    },
    {
     "data": {
      "text/plain": [
       "'小兔子白又白，耳朵长蹦蹦跳。\\n爱吃萝卜和青菜，月光下尾巴摇。'"
      ]
     },
     "execution_count": 8,
     "metadata": {},
     "output_type": "execute_result"
    }
   ],
   "source": [
    "from textlong.llm import ChatQwen\n",
    "from textlong.io import log\n",
    "\n",
    "qwen = ChatQwen(prompt=\"你是一个专门写儿歌的作家，请根据我的提示写作。\")\n",
    "log(qwen, \"来一首关于兔子的，四句\")"
   ]
  },
  {
   "cell_type": "code",
   "execution_count": 9,
   "id": "b0aad76e-9aba-4182-8b84-501544067b85",
   "metadata": {},
   "outputs": [
    {
     "data": {
      "text/plain": [
       "[{'role': 'system', 'content': '你是一个专门写儿歌的作家，请根据我的提示写作。'},\n",
       " {'role': 'user', 'content': '来一首关于兔子的，四句'},\n",
       " {'role': 'assistant', 'content': '小兔子白又白，耳朵长蹦蹦跳。\\n爱吃萝卜和青菜，月光下尾巴摇。'}]"
      ]
     },
     "execution_count": 9,
     "metadata": {},
     "output_type": "execute_result"
    }
   ],
   "source": [
    "qwen.memory"
   ]
  },
  {
   "cell_type": "code",
   "execution_count": 10,
   "id": "443c458e-10a3-4baa-842b-ec1949023aeb",
   "metadata": {},
   "outputs": [
    {
     "name": "stdout",
     "output_type": "stream",
     "text": [
      "\u001b[32m【\u001b[0m\u001b[32m小\u001b[0m\u001b[32m鱼\u001b[0m\u001b[32m游啊游】\n",
      "\n",
      "两条\u001b[0m\u001b[32m小鱼，水中游，  \n",
      "摇\u001b[0m\u001b[32m摇尾巴，点点头。  \n",
      "身穿彩\u001b[0m\u001b[32m衣，多亮丽，  \n",
      "在那\u001b[0m\u001b[32m水草间躲猫猫。\n",
      "\n",
      "太阳\u001b[0m\u001b[32m公公笑眯眯，  \n",
      "水面\u001b[0m\u001b[32m波光闪呀闪。  \n",
      "小\u001b[0m\u001b[32m鱼小鱼，多欢喜，  \n",
      "\u001b[0m\u001b[32m吐出泡泡，像珍珠串。\n",
      "\n",
      "\u001b[0m\u001b[32m左边游游，右边逛逛，\u001b[0m\u001b[32m  \n",
      "找找朋友，聊聊天。\u001b[0m\u001b[32m  \n",
      "海藻丛中捉迷藏\u001b[0m\u001b[32m，  \n",
      "快乐生活每一天。\n",
      "\n",
      "大海是\u001b[0m\u001b[32m它们的家，  \n",
      "保护环境靠\u001b[0m\u001b[32m大家。  \n",
      "让小鱼儿自由\u001b[0m\u001b[32m自在游，  \n",
      "幸福歌声传四方\u001b[0m\u001b[32m。\u001b[0m\u001b[32m\u001b[0m\n",
      "\n"
     ]
    },
    {
     "data": {
      "text/plain": [
       "'【小鱼游啊游】\\n\\n两条小鱼，水中游，  \\n摇摇尾巴，点点头。  \\n身穿彩衣，多亮丽，  \\n在那水草间躲猫猫。\\n\\n太阳公公笑眯眯，  \\n水面波光闪呀闪。  \\n小鱼小鱼，多欢喜，  \\n吐出泡泡，像珍珠串。\\n\\n左边游游，右边逛逛，  \\n找找朋友，聊聊天。  \\n海藻丛中捉迷藏，  \\n快乐生活每一天。\\n\\n大海是它们的家，  \\n保护环境靠大家。  \\n让小鱼儿自由自在游，  \\n幸福歌声传四方。'"
      ]
     },
     "execution_count": 10,
     "metadata": {},
     "output_type": "execute_result"
    }
   ],
   "source": [
    "log(qwen, \"换成两条小鱼\")"
   ]
  },
  {
   "cell_type": "markdown",
   "id": "bf382b85-1ae8-49e7-91cd-224798ee8fcf",
   "metadata": {},
   "source": [
    "## 管道"
   ]
  },
  {
   "cell_type": "code",
   "execution_count": 1,
   "id": "aeca6e81-4691-4498-b8bb-fbe17e1f4a0d",
   "metadata": {},
   "outputs": [
    {
     "name": "stdout",
     "output_type": "stream",
     "text": [
      "[INFO] \u001b[34m>>> PIPE <{index}> : START\u001b[0m\n",
      "\u001b[32m小\u001b[0m\u001b[32m兔\u001b[0m\u001b[32m梦\u001b[0m\u001b[32m中跳，月光\u001b[0m\u001b[32m下舞蹈，\n",
      "胡萝卜乐园，梦里\u001b[0m\u001b[32m吃个饱。\n",
      "云朵当被\u001b[0m\u001b[32m窝，星河伴入眠，\n",
      "\u001b[0m\u001b[32m醒来笑眯眯，是梦也是\u001b[0m\u001b[32m真。\u001b[0m\u001b[32m\u001b[0m\n",
      "\n",
      "[INFO] \u001b[34m>>> PIPE <1> : \u001b[0m\n",
      "\u001b[32m你的\u001b[0m\u001b[32m文章\u001b[0m\u001b[32m充满了\u001b[0m\u001b[32m童趣与想象力，\u001b[0m\u001b[32m字句间跳跃着温馨和梦幻\u001b[0m\u001b[32m，构建了一个让读者向往的童话\u001b[0m\u001b[32m世界。通过小兔的梦境，\u001b[0m\u001b[32m展现了孩童般纯真的快乐与满足\u001b[0m\u001b[32m，富有诗意，令人会心一笑\u001b[0m\u001b[32m。\u001b[0m\u001b[32m\u001b[0m\n",
      "\n",
      "[INFO] \u001b[34m>>> PIPE <2> : \u001b[0m\n",
      "\u001b[32m5\u001b[0m\u001b[32m分\u001b[0m\u001b[32m\u001b[0m\n",
      "\n"
     ]
    },
    {
     "data": {
      "text/plain": [
       "'5分'"
      ]
     },
     "execution_count": 1,
     "metadata": {},
     "output_type": "execute_result"
    }
   ],
   "source": [
    "from textlong.llm import ChatQwen, Pipe\n",
    "from textlong.io import log\n",
    "\n",
    "pipe = Pipe([\n",
    "    ChatQwen(),\n",
    "    ChatQwen(prompt=\"我将告诉你我的写作成果，你负责帮我评价文章特色，两句话即可\"),\n",
    "    ChatQwen(prompt=\"我将告诉你我的写作成果，请按照评价打一个分数，从1分至5分\")\n",
    "])\n",
    "\n",
    "log(pipe, \"你能帮我写一首关于兔子做梦的四句儿歌?\")"
   ]
  },
  {
   "cell_type": "code",
   "execution_count": 2,
   "id": "8a876ad9-428f-4969-8896-adac2e3c1008",
   "metadata": {},
   "outputs": [
    {
     "data": {
      "text/plain": [
       "[{'role': 'system', 'content': '我将告诉你我的写作成果，你负责帮我评价文章特色，两句话即可'},\n",
       " {'role': 'user',\n",
       "  'content': '小兔梦中跳，月光下舞蹈，\\n胡萝卜乐园，梦里吃个饱。\\n云朵当被窝，星河伴入眠，\\n醒来笑眯眯，是梦也是真。'},\n",
       " {'role': 'assistant',\n",
       "  'content': '你的文章充满了童趣与想象力，字句间跳跃着温馨和梦幻，构建了一个让读者向往的童话世界。通过小兔的梦境，展现了孩童般纯真的快乐与满足，富有诗意，令人会心一笑。'}]"
      ]
     },
     "execution_count": 2,
     "metadata": {},
     "output_type": "execute_result"
    }
   ],
   "source": [
    "pipe.to_runnables[0]['runnable'].memory"
   ]
  },
  {
   "cell_type": "code",
   "execution_count": null,
   "id": "f2af0c21-b195-498c-b679-2e8968053cf4",
   "metadata": {},
   "outputs": [],
   "source": []
  }
 ],
 "metadata": {
  "kernelspec": {
   "display_name": "textlong-same-ipykernel",
   "language": "python",
   "name": "textlong-same-ipykernel"
  },
  "language_info": {
   "codemirror_mode": {
    "name": "ipython",
    "version": 3
   },
   "file_extension": ".py",
   "mimetype": "text/x-python",
   "name": "python",
   "nbconvert_exporter": "python",
   "pygments_lexer": "ipython3",
   "version": "3.10.0"
  }
 },
 "nbformat": 4,
 "nbformat_minor": 5
}
