{
 "cells": [
  {
   "cell_type": "markdown",
   "id": "c080dd9d-516d-43dd-92ee-dfaeaa0680f0",
   "metadata": {},
   "source": [
    "## 用户管理"
   ]
  },
  {
   "cell_type": "markdown",
   "id": "9c83b52e-b0a5-4d4a-9e17-a94da3123f20",
   "metadata": {},
   "source": [
    "### 管理实例"
   ]
  },
  {
   "cell_type": "code",
   "execution_count": 1,
   "id": "3716e060-9d6a-4083-a235-7f007b15026b",
   "metadata": {},
   "outputs": [],
   "source": [
    "from illufly.fastapi import UserManager, AuthManager\n",
    "\n",
    "auth = AuthManager()\n",
    "users = UserManager(auth)"
   ]
  },
  {
   "cell_type": "code",
   "execution_count": 2,
   "id": "086fa369-4cf9-470d-8412-788991aa3287",
   "metadata": {},
   "outputs": [
    {
     "data": {
      "text/plain": [
       "[{'user_id': '20241211-28926-0001-9566',\n",
       "  'username': 'lele',\n",
       "  'email': 'lele@qq.com',\n",
       "  'roles': ['user', 'guest'],\n",
       "  'created_at': '2024-12-11T22:55:26.319642',\n",
       "  'require_password_change': True,\n",
       "  'last_password_change': None,\n",
       "  'password_expires_days': 90,\n",
       "  'last_login': None,\n",
       "  'failed_login_attempts': 0,\n",
       "  'last_failed_login': None,\n",
       "  'is_locked': False,\n",
       "  'is_active': True},\n",
       " {'user_id': '20241211-28890-0000-2753',\n",
       "  'username': 'lele@illufly.com',\n",
       "  'email': 'lele@illufly.com',\n",
       "  'roles': ['user', 'guest'],\n",
       "  'created_at': '2024-12-11T22:54:50.510411',\n",
       "  'require_password_change': False,\n",
       "  'last_password_change': '2024-12-11T22:58:33.029267',\n",
       "  'password_expires_days': 90,\n",
       "  'last_login': None,\n",
       "  'failed_login_attempts': 0,\n",
       "  'last_failed_login': None,\n",
       "  'is_locked': False,\n",
       "  'is_active': True},\n",
       " {'user_id': 'admin',\n",
       "  'username': 'admin',\n",
       "  'email': 'admin@illufly.com',\n",
       "  'roles': ['admin', 'user', 'operator', 'guest'],\n",
       "  'created_at': '2024-12-11T22:54:29.449556',\n",
       "  'require_password_change': False,\n",
       "  'last_password_change': '2024-12-11T22:54:29.449563',\n",
       "  'password_expires_days': 90,\n",
       "  'last_login': None,\n",
       "  'failed_login_attempts': 0,\n",
       "  'last_failed_login': None,\n",
       "  'is_locked': False,\n",
       "  'is_active': True}]"
      ]
     },
     "execution_count": 2,
     "metadata": {},
     "output_type": "execute_result"
    }
   ],
   "source": [
    "users.list_users()"
   ]
  },
  {
   "cell_type": "code",
   "execution_count": 3,
   "id": "74cf6e12-45be-47fd-80e6-c3bb03af0161",
   "metadata": {},
   "outputs": [
    {
     "data": {
      "text/plain": [
       "['20241211-28926-0001-9566', '20241211-28890-0000-2753', 'admin']"
      ]
     },
     "execution_count": 3,
     "metadata": {},
     "output_type": "execute_result"
    }
   ],
   "source": [
    "users._storage.list_owners()"
   ]
  },
  {
   "cell_type": "markdown",
   "id": "ed31cd2a-ff90-4e3a-b006-26fde186bbda",
   "metadata": {},
   "source": [
    "### 创建用户"
   ]
  },
  {
   "cell_type": "code",
   "execution_count": 4,
   "id": "e9f52088-d59a-4286-9f19-85abc0a1ae34",
   "metadata": {},
   "outputs": [
    {
     "data": {
      "text/plain": [
       "{'success': False,\n",
       " 'generated_password': None,\n",
       " 'user': None,\n",
       " 'error': \"username 'lele' already exists\"}"
      ]
     },
     "execution_count": 4,
     "metadata": {},
     "output_type": "execute_result"
    }
   ],
   "source": [
    "users.create_user(username=\"lele\", email=\"lele@qq.com\", password=\"123\")"
   ]
  },
  {
   "cell_type": "code",
   "execution_count": 5,
   "id": "a814410a-260e-4bbd-92f7-9d9d1897731e",
   "metadata": {},
   "outputs": [
    {
     "name": "stdout",
     "output_type": "stream",
     "text": [
      "False User(username='lele@illufly.com', roles={<UserRole.USER: 'user'>, <UserRole.GUEST: 'guest'>}, user_id='20241211-28890-0000-2753', email='lele@illufly.com', password_hash='$pbkdf2-sha256$100000$z9lbK8WY07qXEiIE4Nz7fw$Z3QNR4wANcyIZJYBvjTDnOgIdBJQSAta6iVrT0a2SEI', created_at=datetime.datetime(2024, 12, 11, 22, 54, 50, 510411), require_password_change=False, last_password_change=datetime.datetime(2024, 12, 11, 22, 58, 33, 29267), password_expires_days=90, last_login=None, failed_login_attempts=0, last_failed_login=None, is_locked=False, is_active=True)\n"
     ]
    }
   ],
   "source": [
    "resp, _, user = users.verify_user_password('lele@illufly.com', '123')\n",
    "print(resp, user)"
   ]
  },
  {
   "cell_type": "markdown",
   "id": "30859399-ae76-4ed2-8426-352554a6943f",
   "metadata": {},
   "source": [
    "### 修改密码"
   ]
  },
  {
   "cell_type": "code",
   "execution_count": 6,
   "id": "4d296328-bed1-4dd6-a9e5-e4c04513d17c",
   "metadata": {},
   "outputs": [
    {
     "data": {
      "text/plain": [
       "False"
      ]
     },
     "execution_count": 6,
     "metadata": {},
     "output_type": "execute_result"
    }
   ],
   "source": [
    "users.change_password(user.user_id, '123', '456')"
   ]
  },
  {
   "cell_type": "code",
   "execution_count": 7,
   "id": "3cb6512d-d904-4681-ae03-bb51c8bd1e6d",
   "metadata": {},
   "outputs": [
    {
     "data": {
      "text/plain": [
       "(False,\n",
       " False,\n",
       " User(username='lele@illufly.com', roles={<UserRole.USER: 'user'>, <UserRole.GUEST: 'guest'>}, user_id='20241211-28890-0000-2753', email='lele@illufly.com', password_hash='$pbkdf2-sha256$100000$z9lbK8WY07qXEiIE4Nz7fw$Z3QNR4wANcyIZJYBvjTDnOgIdBJQSAta6iVrT0a2SEI', created_at=datetime.datetime(2024, 12, 11, 22, 54, 50, 510411), require_password_change=False, last_password_change=datetime.datetime(2024, 12, 11, 22, 58, 33, 29267), password_expires_days=90, last_login=None, failed_login_attempts=0, last_failed_login=None, is_locked=False, is_active=True))"
      ]
     },
     "execution_count": 7,
     "metadata": {},
     "output_type": "execute_result"
    }
   ],
   "source": [
    "users.verify_user_password('lele@illufly.com', '123')"
   ]
  },
  {
   "cell_type": "code",
   "execution_count": 8,
   "id": "38aad88a-1941-4e87-bd31-ed370092f19a",
   "metadata": {},
   "outputs": [
    {
     "data": {
      "text/plain": [
       "(True,\n",
       " False,\n",
       " User(username='lele@illufly.com', roles={<UserRole.USER: 'user'>, <UserRole.GUEST: 'guest'>}, user_id='20241211-28890-0000-2753', email='lele@illufly.com', password_hash='$pbkdf2-sha256$100000$z9lbK8WY07qXEiIE4Nz7fw$Z3QNR4wANcyIZJYBvjTDnOgIdBJQSAta6iVrT0a2SEI', created_at=datetime.datetime(2024, 12, 11, 22, 54, 50, 510411), require_password_change=False, last_password_change=datetime.datetime(2024, 12, 11, 22, 58, 33, 29267), password_expires_days=90, last_login=None, failed_login_attempts=0, last_failed_login=None, is_locked=False, is_active=True))"
      ]
     },
     "execution_count": 8,
     "metadata": {},
     "output_type": "execute_result"
    }
   ],
   "source": [
    "users.verify_user_password('lele@illufly.com', '456')"
   ]
  },
  {
   "cell_type": "markdown",
   "id": "182d7790-73a4-40e2-8385-f9624cc130b5",
   "metadata": {},
   "source": [
    "### 获取用户信息"
   ]
  },
  {
   "cell_type": "code",
   "execution_count": 9,
   "id": "4bf80c66-89a8-452f-8359-abb7950a24f1",
   "metadata": {},
   "outputs": [
    {
     "data": {
      "text/plain": [
       "{'user_id': '20241211-28890-0000-2753',\n",
       " 'username': 'lele@illufly.com',\n",
       " 'email': 'lele@illufly.com',\n",
       " 'roles': ['user', 'guest'],\n",
       " 'created_at': '2024-12-11T22:54:50.510411',\n",
       " 'require_password_change': False,\n",
       " 'last_password_change': '2024-12-11T22:58:33.029267',\n",
       " 'password_expires_days': 90,\n",
       " 'last_login': None,\n",
       " 'failed_login_attempts': 0,\n",
       " 'last_failed_login': None,\n",
       " 'is_locked': False,\n",
       " 'is_active': True,\n",
       " 'password_hash': '$pbkdf2-sha256$100000$z9lbK8WY07qXEiIE4Nz7fw$Z3QNR4wANcyIZJYBvjTDnOgIdBJQSAta6iVrT0a2SEI'}"
      ]
     },
     "execution_count": 9,
     "metadata": {},
     "output_type": "execute_result"
    }
   ],
   "source": [
    "users.get_user_info(user.user_id, True)"
   ]
  },
  {
   "cell_type": "code",
   "execution_count": null,
   "id": "27b7e161-b164-4889-9ff0-d67899b4bbb4",
   "metadata": {},
   "outputs": [],
   "source": []
  }
 ],
 "metadata": {
  "kernelspec": {
   "display_name": "same_to_illufly",
   "language": "python",
   "name": "same_to_illufly"
  },
  "language_info": {
   "codemirror_mode": {
    "name": "ipython",
    "version": 3
   },
   "file_extension": ".py",
   "mimetype": "text/x-python",
   "name": "python",
   "nbconvert_exporter": "python",
   "pygments_lexer": "ipython3",
   "version": "3.10.0"
  }
 },
 "nbformat": 4,
 "nbformat_minor": 5
}
