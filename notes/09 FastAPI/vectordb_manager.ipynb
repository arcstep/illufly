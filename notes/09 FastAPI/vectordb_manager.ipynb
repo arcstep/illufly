{
 "cells": [
  {
   "cell_type": "code",
   "execution_count": 1,
   "id": "d19b5f7a-f6ab-4d89-b637-9cc2d02d5519",
   "metadata": {},
   "outputs": [],
   "source": [
    "from illufly.fastapi import UserManager, AuthManager, VectorDBManager\n",
    "\n",
    "auth = AuthManager()\n",
    "users = UserManager(auth)\n",
    "vdb = VectorDBManager(users)"
   ]
  },
  {
   "cell_type": "code",
   "execution_count": 3,
   "id": "1703f658-d1fd-4fbc-95e4-f8cd61a21d0c",
   "metadata": {},
   "outputs": [
    {
     "data": {
      "text/plain": [
       "{'success': False, 'message': 'Database already exists'}"
      ]
     },
     "execution_count": 3,
     "metadata": {},
     "output_type": "execute_result"
    }
   ],
   "source": [
    "vdb.create_db(\"admin\", \"python\", {}, \"admin\")"
   ]
  },
  {
   "cell_type": "code",
   "execution_count": 4,
   "id": "112bea9c-a953-4bb4-8ae7-9318419922bc",
   "metadata": {},
   "outputs": [
    {
     "data": {
      "text/plain": [
       "['default', 'python']"
      ]
     },
     "execution_count": 4,
     "metadata": {},
     "output_type": "execute_result"
    }
   ],
   "source": [
    "vdb.list_dbs(\"admin\", \"admin\")"
   ]
  },
  {
   "cell_type": "code",
   "execution_count": 2,
   "id": "e461907f-3e30-456b-8ad2-c10fb0a71ee6",
   "metadata": {},
   "outputs": [
    {
     "data": {
      "text/plain": [
       "<FaissDB python>"
      ]
     },
     "execution_count": 2,
     "metadata": {},
     "output_type": "execute_result"
    }
   ],
   "source": [
    "resp = vdb.get_db(\"admin\", \"python\", \"admin\")\n",
    "db = resp['instance']\n",
    "db"
   ]
  },
  {
   "cell_type": "code",
   "execution_count": 3,
   "id": "3bc482a9-761c-4db3-94ef-2a69993e5a93",
   "metadata": {},
   "outputs": [
    {
     "data": {
      "text/plain": [
       "'20241212-66882-0000-7109'"
      ]
     },
     "execution_count": 3,
     "metadata": {},
     "output_type": "execute_result"
    }
   ],
   "source": [
    "db.add(\"illufly 是一个AI框架\")"
   ]
  },
  {
   "cell_type": "code",
   "execution_count": 4,
   "id": "9841856d-1a46-4af9-ab7b-b98065a9b8b1",
   "metadata": {},
   "outputs": [
    {
     "data": {
      "text/plain": [
       "{'total': 1,\n",
       " 'total_pages': 1,\n",
       " 'current_page': 1,\n",
       " 'items': [{'id': '20241212-66882-0000-7109',\n",
       "   'summary': 'illufly 是一个AI框架',\n",
       "   'tags': [],\n",
       "   'source': ''}],\n",
       " 'filters': {'tags': [], 'match_all_tags': True}}"
      ]
     },
     "execution_count": 4,
     "metadata": {},
     "output_type": "execute_result"
    }
   ],
   "source": [
    "db.knowledge.get_meta_list()"
   ]
  },
  {
   "cell_type": "code",
   "execution_count": null,
   "id": "e1e6db52-8fe0-4f72-a1c2-0434fc4ce654",
   "metadata": {},
   "outputs": [],
   "source": []
  }
 ],
 "metadata": {
  "kernelspec": {
   "display_name": "same_to_illufly",
   "language": "python",
   "name": "same_to_illufly"
  },
  "language_info": {
   "codemirror_mode": {
    "name": "ipython",
    "version": 3
   },
   "file_extension": ".py",
   "mimetype": "text/x-python",
   "name": "python",
   "nbconvert_exporter": "python",
   "pygments_lexer": "ipython3",
   "version": "3.10.0"
  }
 },
 "nbformat": 4,
 "nbformat_minor": 5
}
