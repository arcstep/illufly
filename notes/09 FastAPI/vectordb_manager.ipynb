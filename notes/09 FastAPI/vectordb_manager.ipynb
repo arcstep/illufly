{
 "cells": [
  {
   "cell_type": "code",
   "execution_count": 2,
   "id": "d19b5f7a-f6ab-4d89-b637-9cc2d02d5519",
   "metadata": {},
   "outputs": [],
   "source": [
    "from illufly.fastapi import VectorDBManager\n",
    "\n",
    "vdb = VectorDBManager()"
   ]
  },
  {
   "cell_type": "code",
   "execution_count": 4,
   "id": "1703f658-d1fd-4fbc-95e4-f8cd61a21d0c",
   "metadata": {},
   "outputs": [
    {
     "data": {
      "text/plain": [
       "True"
      ]
     },
     "execution_count": 4,
     "metadata": {},
     "output_type": "execute_result"
    }
   ],
   "source": [
    "vdb.create_db(\"admin\", \"default\", {}, \"admin\")"
   ]
  },
  {
   "cell_type": "code",
   "execution_count": null,
   "id": "112bea9c-a953-4bb4-8ae7-9318419922bc",
   "metadata": {},
   "outputs": [],
   "source": []
  }
 ],
 "metadata": {
  "kernelspec": {
   "display_name": "same_to_illufly",
   "language": "python",
   "name": "same_to_illufly"
  },
  "language_info": {
   "codemirror_mode": {
    "name": "ipython",
    "version": 3
   },
   "file_extension": ".py",
   "mimetype": "text/x-python",
   "name": "python",
   "nbconvert_exporter": "python",
   "pygments_lexer": "ipython3",
   "version": "3.10.0"
  }
 },
 "nbformat": 4,
 "nbformat_minor": 5
}
