{
 "cells": [
  {
   "cell_type": "markdown",
   "id": "67142b6c-df63-4ba6-ba0b-25f161954877",
   "metadata": {},
   "source": [
    "## Agent 管理"
   ]
  },
  {
   "cell_type": "markdown",
   "id": "4d2faacc-f98a-40d0-8f36-18fd56cd94b6",
   "metadata": {},
   "source": [
    "### 管理实例"
   ]
  },
  {
   "cell_type": "code",
   "execution_count": 2,
   "id": "8ca2b90f-5dc3-418c-9070-08c558e53c25",
   "metadata": {},
   "outputs": [
    {
     "ename": "ImportError",
     "evalue": "cannot import name 'AgentManager' from 'illufly.fastapi' (/Users/xuehongwei/codeup/illufly/illufly/fastapi/__init__.py)",
     "output_type": "error",
     "traceback": [
      "\u001b[0;31m---------------------------------------------------------------------------\u001b[0m",
      "\u001b[0;31mImportError\u001b[0m                               Traceback (most recent call last)",
      "Cell \u001b[0;32mIn[2], line 1\u001b[0m\n\u001b[0;32m----> 1\u001b[0m \u001b[38;5;28;01mfrom\u001b[39;00m \u001b[38;5;21;01millufly\u001b[39;00m\u001b[38;5;21;01m.\u001b[39;00m\u001b[38;5;21;01mfastapi\u001b[39;00m \u001b[38;5;28;01mimport\u001b[39;00m AgentManager\n\u001b[1;32m      3\u001b[0m agents \u001b[38;5;241m=\u001b[39m AgentManager()\n\u001b[1;32m      4\u001b[0m users\u001b[38;5;241m.\u001b[39mlist_agents(\u001b[38;5;124m\"\u001b[39m\u001b[38;5;124mlele@ilufy.com\u001b[39m\u001b[38;5;124m\"\u001b[39m, requester\u001b[38;5;241m=\u001b[39m\u001b[38;5;124m\"\u001b[39m\u001b[38;5;124madmin\u001b[39m\u001b[38;5;124m\"\u001b[39m)\n",
      "\u001b[0;31mImportError\u001b[0m: cannot import name 'AgentManager' from 'illufly.fastapi' (/Users/xuehongwei/codeup/illufly/illufly/fastapi/__init__.py)"
     ]
    }
   ],
   "source": [
    "from illufly.fastapi import AgentManager\n",
    "\n",
    "agents = AgentManager()\n",
    "users.list_agents(\"lele@ilufy.com\", requester=\"admin\")"
   ]
  },
  {
   "cell_type": "code",
   "execution_count": 2,
   "id": "16d91080-aeb9-47e9-b776-1fa2dfa55b7e",
   "metadata": {},
   "outputs": [
    {
     "data": {
      "text/plain": [
       "['lele@illufly.com']"
      ]
     },
     "execution_count": 2,
     "metadata": {},
     "output_type": "execute_result"
    }
   ],
   "source": [
    "users._storage.list_owners()"
   ]
  }
 ],
 "metadata": {
  "kernelspec": {
   "display_name": "same_to_illufly",
   "language": "python",
   "name": "same_to_illufly"
  },
  "language_info": {
   "codemirror_mode": {
    "name": "ipython",
    "version": 3
   },
   "file_extension": ".py",
   "mimetype": "text/x-python",
   "name": "python",
   "nbconvert_exporter": "python",
   "pygments_lexer": "ipython3",
   "version": "3.10.0"
  }
 },
 "nbformat": 4,
 "nbformat_minor": 5
}
