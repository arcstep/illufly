{
 "cells": [
  {
   "cell_type": "markdown",
   "id": "67142b6c-df63-4ba6-ba0b-25f161954877",
   "metadata": {},
   "source": [
    "## Agent 管理"
   ]
  },
  {
   "cell_type": "markdown",
   "id": "4d2faacc-f98a-40d0-8f36-18fd56cd94b6",
   "metadata": {},
   "source": [
    "### 管理实例"
   ]
  },
  {
   "cell_type": "code",
   "execution_count": 1,
   "id": "8ca2b90f-5dc3-418c-9070-08c558e53c25",
   "metadata": {},
   "outputs": [
    {
     "data": {
      "text/plain": [
       "[]"
      ]
     },
     "execution_count": 1,
     "metadata": {},
     "output_type": "execute_result"
    }
   ],
   "source": [
    "from illufly.fastapi import AgentManager\n",
    "\n",
    "agents = AgentManager()\n",
    "agents.list_agents(\"lele@ilufy.com\", requester=\"admin\")"
   ]
  },
  {
   "cell_type": "code",
   "execution_count": 2,
   "id": "149d075e-d414-4d6b-91be-b459d39fb229",
   "metadata": {},
   "outputs": [],
   "source": [
    "agents.init_agents(\"lele@illulfy.com\")"
   ]
  },
  {
   "cell_type": "code",
   "execution_count": 8,
   "id": "16d91080-aeb9-47e9-b776-1fa2dfa55b7e",
   "metadata": {},
   "outputs": [
    {
     "data": {
      "text/plain": [
       "{}"
      ]
     },
     "execution_count": 8,
     "metadata": {},
     "output_type": "execute_result"
    }
   ],
   "source": [
    "agents.list_dbs(\"lele@illulfy.com\", \"lele@illulfy.com\")[0].knowledge.store"
   ]
  },
  {
   "cell_type": "code",
   "execution_count": null,
   "id": "279debc7-bc0a-46e8-b48e-5df47362403d",
   "metadata": {},
   "outputs": [],
   "source": [
    "agents.create_agent("
   ]
  }
 ],
 "metadata": {
  "kernelspec": {
   "display_name": "same_to_illufly",
   "language": "python",
   "name": "same_to_illufly"
  },
  "language_info": {
   "codemirror_mode": {
    "name": "ipython",
    "version": 3
   },
   "file_extension": ".py",
   "mimetype": "text/x-python",
   "name": "python",
   "nbconvert_exporter": "python",
   "pygments_lexer": "ipython3",
   "version": "3.10.0"
  }
 },
 "nbformat": 4,
 "nbformat_minor": 5
}
