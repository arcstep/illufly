{
 "cells": [
  {
   "cell_type": "markdown",
   "id": "67142b6c-df63-4ba6-ba0b-25f161954877",
   "metadata": {},
   "source": [
    "## Agent 管理"
   ]
  },
  {
   "cell_type": "markdown",
   "id": "4d2faacc-f98a-40d0-8f36-18fd56cd94b6",
   "metadata": {},
   "source": [
    "### 管理实例"
   ]
  },
  {
   "cell_type": "code",
   "execution_count": 10,
   "id": "8ca2b90f-5dc3-418c-9070-08c558e53c25",
   "metadata": {},
   "outputs": [
    {
     "data": {
      "text/plain": [
       "[]"
      ]
     },
     "execution_count": 10,
     "metadata": {},
     "output_type": "execute_result"
    }
   ],
   "source": [
    "from illufly.fastapi import AgentManager\n",
    "\n",
    "username = \"lele@illulfy.com\"\n",
    "agents = AgentManager()\n",
    "agents.list_agents(username, requester=\"admin\")"
   ]
  },
  {
   "cell_type": "code",
   "execution_count": 11,
   "id": "149d075e-d414-4d6b-91be-b459d39fb229",
   "metadata": {},
   "outputs": [],
   "source": [
    "agents.init_agents(username)"
   ]
  },
  {
   "cell_type": "code",
   "execution_count": 12,
   "id": "16d91080-aeb9-47e9-b776-1fa2dfa55b7e",
   "metadata": {},
   "outputs": [
    {
     "data": {
      "text/plain": [
       "{}"
      ]
     },
     "execution_count": 12,
     "metadata": {},
     "output_type": "execute_result"
    }
   ],
   "source": [
    "agents.list_dbs(username, username)[0].knowledge.store"
   ]
  },
  {
   "cell_type": "code",
   "execution_count": 13,
   "id": "279debc7-bc0a-46e8-b48e-5df47362403d",
   "metadata": {},
   "outputs": [
    {
     "data": {
      "text/plain": [
       "True"
      ]
     },
     "execution_count": 13,
     "metadata": {},
     "output_type": "execute_result"
    }
   ],
   "source": [
    "agents.create_agent(username, 'chat', 'my-agent', [], username)"
   ]
  },
  {
   "cell_type": "code",
   "execution_count": 14,
   "id": "31ba0d7e-6216-4eae-ad54-2473ac9e8226",
   "metadata": {},
   "outputs": [
    {
     "data": {
      "text/plain": [
       "[{'name': 'my-agent',\n",
       "  'type': 'chat',\n",
       "  'description': '',\n",
       "  'config': {},\n",
       "  'vectordb_names': ['default_knowledge'],\n",
       "  'last_used': '2024-12-10T12:03:05.113316'}]"
      ]
     },
     "execution_count": 14,
     "metadata": {},
     "output_type": "execute_result"
    }
   ],
   "source": [
    "agents.list_agents(username, username)"
   ]
  },
  {
   "cell_type": "code",
   "execution_count": 17,
   "id": "2591518d-9eae-4071-a77d-c4ffd9a54196",
   "metadata": {},
   "outputs": [
    {
     "name": "stdout",
     "output_type": "stream",
     "text": [
      "[HUMAN] \u001b[32m你是什么模型\u001b[0m\n",
      "[AGENT] \u001b[34mmy-agent\u001b[0m\n",
      "\u001b[32m我是\u001b[0m\u001b[32mQ\u001b[0m\u001b[32mwen\u001b[0m\u001b[32m，\u001b[0m\u001b[32m由阿里云研发\u001b[0m\u001b[32m的预训练语言\u001b[0m\u001b[32m模型。我被\u001b[0m\u001b[32m设计用于生成各种\u001b[0m\u001b[32m类型的文本，如\u001b[0m\u001b[32m文章、故事、\u001b[0m\u001b[32m诗歌等，并能\u001b[0m\u001b[32m进行问答、对话\u001b[0m\u001b[32m等多种任务。如果你\u001b[0m\u001b[32m有任何问题或需要\u001b[0m\u001b[32m帮助，欢迎随时\u001b[0m\u001b[32m向我提问！\u001b[0m\u001b[32m\u001b[0m\n"
     ]
    },
    {
     "data": {
      "text/plain": [
       "'我是Qwen，由阿里云研发的预训练语言模型。我被设计用于生成各种类型的文本，如文章、故事、诗歌等，并能进行问答、对话等多种任务。如果你有任何问题或需要帮助，欢迎随时向我提问！'"
      ]
     },
     "execution_count": 17,
     "metadata": {},
     "output_type": "execute_result"
    }
   ],
   "source": [
    "agents.get_agent(username, 'my-agent', username)(\"你是什么模型\")"
   ]
  },
  {
   "cell_type": "code",
   "execution_count": null,
   "id": "c0246a32-e896-4977-9a96-fe6504256f21",
   "metadata": {},
   "outputs": [],
   "source": []
  }
 ],
 "metadata": {
  "kernelspec": {
   "display_name": "same_to_illufly",
   "language": "python",
   "name": "same_to_illufly"
  },
  "language_info": {
   "codemirror_mode": {
    "name": "ipython",
    "version": 3
   },
   "file_extension": ".py",
   "mimetype": "text/x-python",
   "name": "python",
   "nbconvert_exporter": "python",
   "pygments_lexer": "ipython3",
   "version": "3.10.0"
  }
 },
 "nbformat": 4,
 "nbformat_minor": 5
}
