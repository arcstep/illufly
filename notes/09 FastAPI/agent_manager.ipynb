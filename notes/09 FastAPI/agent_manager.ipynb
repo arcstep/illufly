{
    "cells": [
        {
            "cell_type": "markdown",
            "id": "67142b6c-df63-4ba6-ba0b-25f161954877",
            "metadata": {},
            "source": [
                "## Agent 管理"
            ]
        },
        {
            "cell_type": "markdown",
            "id": "4d2faacc-f98a-40d0-8f36-18fd56cd94b6",
            "metadata": {},
            "source": [
                "### 管理实例"
            ]
        },
        {
            "cell_type": "code",
            "execution_count": 1,
            "id": "8ca2b90f-5dc3-418c-9070-08c558e53c25",
            "metadata": {},
            "outputs": [
                {
                    "data": {
                        "text/plain": [
                            "[{'agent_name': 'my-agent',\n",
                            "  'agent_type': 'chat',\n",
                            "  'description': '',\n",
                            "  'config': {},\n",
                            "  'vectordbs': [],\n",
                            "  'events_history_path': '__USERS__/admin/store/hist/my-agent',\n",
                            "  'memory_history_path': '__USERS__/admin/store/memory/my-agent',\n",
                            "  'created_at': '2024-12-12T10:47:08.079568',\n",
                            "  'last_used': '2024-12-12T10:50:31.208959',\n",
                            "  'is_active': True},\n",
                            " {'agent_name': '闲聊解闷',\n",
                            "  'agent_type': 'chat',\n",
                            "  'description': '',\n",
                            "  'config': {},\n",
                            "  'vectordbs': ['default'],\n",
                            "  'events_history_path': '__USERS__/admin/store/hist/闲聊解闷',\n",
                            "  'memory_history_path': '__USERS__/admin/store/memory/闲聊解闷',\n",
                            "  'created_at': '2024-12-12T10:50:54.044448',\n",
                            "  'last_used': '2024-12-12T10:50:54.044456',\n",
                            "  'is_active': True}]"
                        ]
                    },
                    "execution_count": 1,
                    "metadata": {},
                    "output_type": "execute_result"
                }
            ],
            "source": [
                "from illufly.fastapi import UsersManager, TokensManager, VectorDBManager, AgentsManager\n",
                "\n",
                "auth = TokensManager()\n",
                "users = UsersManager(auth)\n",
                "vdb = VectorDBManager(users)\n",
                "agents = AgentsManager(users, vdb)\n",
                "\n",
                "user_id = \"admin\"\n",
                "agents.list_agents(user_id, requester_id=user_id)"
            ]
        },
        {
            "cell_type": "markdown",
            "id": "fb9935ed-01e7-4940-82de-e415bcea2a8b",
            "metadata": {},
            "source": [
                "### 创建智能体"
            ]
        },
        {
            "cell_type": "code",
            "execution_count": 2,
            "id": "279debc7-bc0a-46e8-b48e-5df47362403d",
            "metadata": {},
            "outputs": [
                {
                    "data": {
                        "text/plain": [
                            "{'success': True, 'message': 'Agent created successfully.'}"
                        ]
                    },
                    "execution_count": 2,
                    "metadata": {},
                    "output_type": "execute_result"
                }
            ],
            "source": [
                "agents.create_agent(\n",
                "    user_id=user_id,\n",
                "    agent_type='chat',\n",
                "    agent_name='my-agent',\n",
                "    vectordbs=[],\n",
                "    requester_id=user_id\n",
                ")"
            ]
        },
        {
            "cell_type": "markdown",
            "id": "e60d9bfd-8f85-458d-880b-06886fe49fa6",
            "metadata": {},
            "source": [
                "### 创建向量库"
            ]
        },
        {
            "cell_type": "code",
            "execution_count": 6,
            "id": "4ad0d29d-cf07-4bd9-ad01-9f9c2eecaedb",
            "metadata": {},
            "outputs": [
                {
                    "data": {
                        "text/plain": [
                            "[]"
                        ]
                    },
                    "execution_count": 6,
                    "metadata": {},
                    "output_type": "execute_result"
                }
            ],
            "source": [
                "vdb.list_dbs(user_id, requester_id=user_id)"
            ]
        },
        {
            "cell_type": "code",
            "execution_count": 7,
            "id": "1eef865a-f689-41b2-ae96-7d072a5e1b86",
            "metadata": {},
            "outputs": [
                {
                    "data": {
                        "text/plain": [
                            "{'success': True,\n",
                            " 'message': 'Database created successfully',\n",
                            " 'instance': <FaissDB default>}"
                        ]
                    },
                    "execution_count": 7,
                    "metadata": {},
                    "output_type": "execute_result"
                }
            ],
            "source": [
                "vdb.create_db(user_id, \"default\", {}, user_id)"
            ]
        },
        {
            "cell_type": "code",
            "execution_count": 4,
            "id": "0d4e9b92-f80f-4157-90b3-067ee490e851",
            "metadata": {},
            "outputs": [
                {
                    "data": {
                        "text/plain": [
                            "{'success': True, 'message': 'Agent created successfully.'}"
                        ]
                    },
                    "execution_count": 4,
                    "metadata": {},
                    "output_type": "execute_result"
                }
            ],
            "source": [
                "agents.create_agent(user_id, 'chat', '闲聊解闷', [\"default\"], user_id)"
            ]
        },
        {
            "cell_type": "code",
            "execution_count": 3,
            "id": "31ba0d7e-6216-4eae-ad54-2473ac9e8226",
            "metadata": {},
            "outputs": [
                {
                    "data": {
                        "text/plain": [
                            "[{'agent_name': 'my-agent',\n",
                            "  'agent_type': 'chat',\n",
                            "  'description': '',\n",
                            "  'config': {},\n",
                            "  'vectordbs': [],\n",
                            "  'events_history_path': '__USERS__/admin/store/hist/my-agent',\n",
                            "  'memory_history_path': '__USERS__/admin/store/memory/my-agent',\n",
                            "  'created_at': '2024-12-12T10:47:08.079568',\n",
                            "  'last_used': '2024-12-12T10:47:08.079579',\n",
                            "  'is_active': True}]"
                        ]
                    },
                    "execution_count": 3,
                    "metadata": {},
                    "output_type": "execute_result"
                }
            ],
            "source": [
                "agents.list_agents(user_id, requester_id=user_id)"
            ]
        },
        {
            "cell_type": "code",
            "execution_count": 11,
            "id": "9e16f650-c29a-4b1c-8eae-1f72258f09f3",
            "metadata": {},
            "outputs": [
                {
                    "data": {
                        "text/plain": [
                            "[<FaissDB default>]"
                        ]
                    },
                    "execution_count": 11,
                    "metadata": {},
                    "output_type": "execute_result"
                }
            ],
            "source": [
                "[\n",
                "    agents.vectordb_manager.get_db(user_id, db_name, user_id)['instance']\n",
                "    for db_name in [\"default\"]\n",
                "]"
            ]
        },
        {
            "cell_type": "markdown",
            "id": "f9430a5f-f4fb-4082-a1be-07b77f9956e4",
            "metadata": {},
            "source": [
                "### 查看智能体实例"
            ]
        },
        {
            "cell_type": "code",
            "execution_count": 3,
            "id": "2591518d-9eae-4071-a77d-c4ffd9a54196",
            "metadata": {},
            "outputs": [
                {
                    "data": {
                        "text/plain": [
                            "<ChatQwen my-agent>"
                        ]
                    },
                    "execution_count": 3,
                    "metadata": {},
                    "output_type": "execute_result"
                }
            ],
            "source": [
                "my_agent = agents.get_agent(user_id, 'my-agent', requester_id=user_id)[\"instance\"]\n",
                "my_agent"
            ]
        },
        {
            "cell_type": "code",
            "execution_count": 2,
            "id": "a0073568-1e42-4b37-a1b9-c33440c703f6",
            "metadata": {},
            "outputs": [
                {
                    "data": {
                        "text/plain": [
                            "<ChatQwen 闲聊解闷>"
                        ]
                    },
                    "execution_count": 2,
                    "metadata": {},
                    "output_type": "execute_result"
                }
            ],
            "source": [
                "my_chat = agents.get_agent(user_id, '闲聊解闷', requester_id=user_id)[\"instance\"]\n",
                "my_chat"
            ]
        },
        {
            "cell_type": "code",
            "execution_count": 3,
            "id": "2da62a8d-2ecf-42e8-bffe-9c947f16758c",
            "metadata": {},
            "outputs": [
                {
                    "name": "stdout",
                    "output_type": "stream",
                    "text": [
                        "[HUMAN] \u001b[32m请问你是什么模型?\u001b[0m\n",
                        "[AGENT] \u001b[34m闲聊解闷\u001b[0m\n",
                        "\u001b[32m我是\u001b[0m\u001b[32mQ\u001b[0m\u001b[32mwen\u001b[0m\u001b[32m，\u001b[0m\u001b[32m是阿里云研发\u001b[0m\u001b[32m的超大规模语言\u001b[0m\u001b[32m模型，能够生成\u001b[0m\u001b[32m各种类型的文本，\u001b[0m\u001b[32m如文章、故事\u001b[0m\u001b[32m、诗歌、故事\u001b[0m\u001b[32m等，并能根据\u001b[0m\u001b[32m不同的场景和需求\u001b[0m\u001b[32m进行调整和优化\u001b[0m\u001b[32m。我还支持多\u001b[0m\u001b[32m轮对话，可以\u001b[0m\u001b[32m记住之前的对话内容\u001b[0m\u001b[32m，使交流更加\u001b[0m\u001b[32m自然流畅。此外\u001b[0m\u001b[32m，我还有代码\u001b[0m\u001b[32m写作、表格操作\u001b[0m\u001b[32m等能力，可以\u001b[0m\u001b[32m更好地满足用户的需求\u001b[0m\u001b[32m。如果您有任何问题\u001b[0m\u001b[32m或需要帮助，请\u001b[0m\u001b[32m随时告诉我！\u001b[0m\u001b[32m\u001b[0m\n"
                    ]
                },
                {
                    "data": {
                        "text/plain": [
                            "'我是Qwen，是阿里云研发的超大规模语言模型，能够生成各种类型的文本，如文章、故事、诗歌、故事等，并能根据不同的场景和需求进行调整和优化。我还支持多轮对话，可以记住之前的对话内容，使交流更加自然流畅。此外，我还有代码写作、表格操作等能力，可以更好地满足用户的需求。如果您有任何问题或需要帮助，请随时告诉我！'"
                        ]
                    },
                    "execution_count": 3,
                    "metadata": {},
                    "output_type": "execute_result"
                }
            ],
            "source": [
                "my_chat(\"请问你是什么模型?\")"
            ]
        },
        {
            "cell_type": "code",
            "execution_count": null,
            "id": "155de9b8-c410-41a1-8590-c1d60921d439",
            "metadata": {},
            "outputs": [],
            "source": []
        }
    ],
    "metadata": {
        "kernelspec": {
            "display_name": "same_to_illufly",
            "language": "python",
            "name": "same_to_illufly"
        },
        "language_info": {
            "codemirror_mode": {
                "name": "ipython",
                "version": 3
            },
            "file_extension": ".py",
            "mimetype": "text/x-python",
            "name": "python",
            "nbconvert_exporter": "python",
            "pygments_lexer": "ipython3",
            "version": "3.10.0"
        }
    },
    "nbformat": 4,
    "nbformat_minor": 5
}