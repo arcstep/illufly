{
 "cells": [
  {
   "cell_type": "markdown",
   "id": "67142b6c-df63-4ba6-ba0b-25f161954877",
   "metadata": {},
   "source": [
    "## Agent 管理"
   ]
  },
  {
   "cell_type": "markdown",
   "id": "4d2faacc-f98a-40d0-8f36-18fd56cd94b6",
   "metadata": {},
   "source": [
    "### 管理实例"
   ]
  },
  {
   "cell_type": "code",
   "execution_count": 1,
   "id": "8ca2b90f-5dc3-418c-9070-08c558e53c25",
   "metadata": {},
   "outputs": [
    {
     "data": {
      "text/plain": [
       "[]"
      ]
     },
     "execution_count": 1,
     "metadata": {},
     "output_type": "execute_result"
    }
   ],
   "source": [
    "from illufly.fastapi import AgentManager\n",
    "\n",
    "user_id = \"admin\"\n",
    "agents = AgentManager()\n",
    "agents.list_agents(user_id, requester_id=user_id)"
   ]
  },
  {
   "cell_type": "markdown",
   "id": "fb9935ed-01e7-4940-82de-e415bcea2a8b",
   "metadata": {},
   "source": [
    "### 创建智能体"
   ]
  },
  {
   "cell_type": "code",
   "execution_count": 2,
   "id": "279debc7-bc0a-46e8-b48e-5df47362403d",
   "metadata": {},
   "outputs": [
    {
     "name": "stdout",
     "output_type": "stream",
     "text": [
      "Error saving data to __USERS__/admin/agent.json: 'tuple' object has no attribute 'to_dict'\n"
     ]
    },
    {
     "ename": "AttributeError",
     "evalue": "'tuple' object has no attribute 'to_dict'",
     "output_type": "error",
     "traceback": [
      "\u001b[0;31m---------------------------------------------------------------------------\u001b[0m",
      "\u001b[0;31mAttributeError\u001b[0m                            Traceback (most recent call last)",
      "Cell \u001b[0;32mIn[2], line 1\u001b[0m\n\u001b[0;32m----> 1\u001b[0m \u001b[43magents\u001b[49m\u001b[38;5;241;43m.\u001b[39;49m\u001b[43mcreate_agent\u001b[49m\u001b[43m(\u001b[49m\u001b[43muser_id\u001b[49m\u001b[43m,\u001b[49m\u001b[43m \u001b[49m\u001b[38;5;124;43m'\u001b[39;49m\u001b[38;5;124;43mchat\u001b[39;49m\u001b[38;5;124;43m'\u001b[39;49m\u001b[43m,\u001b[49m\u001b[43m \u001b[49m\u001b[38;5;124;43m'\u001b[39;49m\u001b[38;5;124;43mmy-agent\u001b[39;49m\u001b[38;5;124;43m'\u001b[39;49m\u001b[43m,\u001b[49m\u001b[43m \u001b[49m\u001b[43m[\u001b[49m\u001b[43m]\u001b[49m\u001b[43m,\u001b[49m\u001b[43m \u001b[49m\u001b[43muser_id\u001b[49m\u001b[43m)\u001b[49m\n",
      "File \u001b[0;32m~/codeup/illufly/illufly/fastapi/agent/manager.py:77\u001b[0m, in \u001b[0;36mAgentManager.create_agent\u001b[0;34m(self, user_id, agent_type, agent_name, vectordbs, requester_id, **kwargs)\u001b[0m\n\u001b[1;32m     69\u001b[0m     config \u001b[38;5;241m=\u001b[39m AgentFactory\u001b[38;5;241m.\u001b[39mcreate_agent(\n\u001b[1;32m     70\u001b[0m         user_id\u001b[38;5;241m=\u001b[39muser_id,\n\u001b[1;32m     71\u001b[0m         agent_type\u001b[38;5;241m=\u001b[39magent_type,\n\u001b[0;32m   (...)\u001b[0m\n\u001b[1;32m     74\u001b[0m         \u001b[38;5;241m*\u001b[39m\u001b[38;5;241m*\u001b[39mkwargs\n\u001b[1;32m     75\u001b[0m     )\n\u001b[1;32m     76\u001b[0m     user_agents[agent_name] \u001b[38;5;241m=\u001b[39m config\n\u001b[0;32m---> 77\u001b[0m     \u001b[38;5;28;43mself\u001b[39;49m\u001b[38;5;241;43m.\u001b[39;49m\u001b[43m_storage\u001b[49m\u001b[38;5;241;43m.\u001b[39;49m\u001b[43mset\u001b[49m\u001b[43m(\u001b[49m\u001b[38;5;124;43m\"\u001b[39;49m\u001b[38;5;124;43magents\u001b[39;49m\u001b[38;5;124;43m\"\u001b[39;49m\u001b[43m,\u001b[49m\u001b[43m \u001b[49m\u001b[43muser_agents\u001b[49m\u001b[43m,\u001b[49m\u001b[43m \u001b[49m\u001b[43mowner_id\u001b[49m\u001b[38;5;241;43m=\u001b[39;49m\u001b[43muser_id\u001b[49m\u001b[43m)\u001b[49m\n\u001b[1;32m     78\u001b[0m     \u001b[38;5;28;01mreturn\u001b[39;00m \u001b[38;5;28;01mTrue\u001b[39;00m\n\u001b[1;32m     79\u001b[0m \u001b[38;5;28;01mexcept\u001b[39;00m \u001b[38;5;167;01mValueError\u001b[39;00m:\n",
      "File \u001b[0;32m~/codeup/illufly/illufly/fastapi/common/file_storage.py:119\u001b[0m, in \u001b[0;36mFileStorage.set\u001b[0;34m(self, key, value, owner_id)\u001b[0m\n\u001b[1;32m    116\u001b[0m         \u001b[38;5;28mself\u001b[39m\u001b[38;5;241m.\u001b[39m_data[owner_id] \u001b[38;5;241m=\u001b[39m {}\n\u001b[1;32m    117\u001b[0m     \u001b[38;5;28mself\u001b[39m\u001b[38;5;241m.\u001b[39m_data[owner_id][key] \u001b[38;5;241m=\u001b[39m value\n\u001b[0;32m--> 119\u001b[0m \u001b[38;5;28;43mself\u001b[39;49m\u001b[38;5;241;43m.\u001b[39;49m\u001b[43m_save_owner_data\u001b[49m\u001b[43m(\u001b[49m\u001b[43mowner_id\u001b[49m\u001b[43m)\u001b[49m\n",
      "File \u001b[0;32m~/codeup/illufly/illufly/fastapi/common/file_storage.py:70\u001b[0m, in \u001b[0;36mFileStorage._save_owner_data\u001b[0;34m(self, owner_id)\u001b[0m\n\u001b[1;32m     67\u001b[0m \u001b[38;5;28;01mtry\u001b[39;00m:\n\u001b[1;32m     68\u001b[0m     \u001b[38;5;28;01mif\u001b[39;00m \u001b[38;5;28mself\u001b[39m\u001b[38;5;241m.\u001b[39m_use_id_subdirs:\n\u001b[1;32m     69\u001b[0m         \u001b[38;5;66;03m# 子目录模式：序列化单个对象\u001b[39;00m\n\u001b[0;32m---> 70\u001b[0m         data_to_save \u001b[38;5;241m=\u001b[39m \u001b[38;5;28;43mself\u001b[39;49m\u001b[38;5;241;43m.\u001b[39;49m\u001b[43m_serializer\u001b[49m\u001b[43m(\u001b[49m\u001b[38;5;28;43mself\u001b[39;49m\u001b[38;5;241;43m.\u001b[39;49m\u001b[43m_data\u001b[49m\u001b[43m[\u001b[49m\u001b[43mowner_id\u001b[49m\u001b[43m]\u001b[49m\u001b[43m)\u001b[49m\n\u001b[1;32m     71\u001b[0m     \u001b[38;5;28;01melse\u001b[39;00m:\n\u001b[1;32m     72\u001b[0m         \u001b[38;5;66;03m# 直接文件模式：序列化所有键值对\u001b[39;00m\n\u001b[1;32m     73\u001b[0m         data_to_save \u001b[38;5;241m=\u001b[39m {\n\u001b[1;32m     74\u001b[0m             k: \u001b[38;5;28mself\u001b[39m\u001b[38;5;241m.\u001b[39m_serializer(v)\n\u001b[1;32m     75\u001b[0m             \u001b[38;5;28;01mfor\u001b[39;00m k, v \u001b[38;5;129;01min\u001b[39;00m \u001b[38;5;28mself\u001b[39m\u001b[38;5;241m.\u001b[39m_data[owner_id]\u001b[38;5;241m.\u001b[39mitems()\n\u001b[1;32m     76\u001b[0m         }\n",
      "File \u001b[0;32m~/codeup/illufly/illufly/fastapi/agent/manager.py:24\u001b[0m, in \u001b[0;36mAgentManager.__init__.<locals>.<lambda>\u001b[0;34m(agents)\u001b[0m\n\u001b[1;32m     19\u001b[0m \u001b[38;5;250m\u001b[39m\u001b[38;5;124;03m\"\"\"初始化代理管理器\"\"\"\u001b[39;00m\n\u001b[1;32m     20\u001b[0m \u001b[38;5;28;01mif\u001b[39;00m storage \u001b[38;5;129;01mis\u001b[39;00m \u001b[38;5;28;01mNone\u001b[39;00m:\n\u001b[1;32m     21\u001b[0m     storage \u001b[38;5;241m=\u001b[39m FileStorage[Dict[\u001b[38;5;28mstr\u001b[39m, AgentConfig]](\n\u001b[1;32m     22\u001b[0m         data_dir\u001b[38;5;241m=\u001b[39m__USERS_PATH__,\n\u001b[1;32m     23\u001b[0m         filename\u001b[38;5;241m=\u001b[39m\u001b[38;5;124m\"\u001b[39m\u001b[38;5;124magent.json\u001b[39m\u001b[38;5;124m\"\u001b[39m,\n\u001b[0;32m---> 24\u001b[0m         serializer\u001b[38;5;241m=\u001b[39m\u001b[38;5;28;01mlambda\u001b[39;00m agents: {\n\u001b[1;32m     25\u001b[0m             name: agent_config\u001b[38;5;241m.\u001b[39mto_dict()\n\u001b[1;32m     26\u001b[0m             \u001b[38;5;28;01mfor\u001b[39;00m name, agent_config \u001b[38;5;129;01min\u001b[39;00m agents\u001b[38;5;241m.\u001b[39mitems()\n\u001b[1;32m     27\u001b[0m         },\n\u001b[1;32m     28\u001b[0m         deserializer\u001b[38;5;241m=\u001b[39m\u001b[38;5;28;01mlambda\u001b[39;00m data: {\n\u001b[1;32m     29\u001b[0m             name: AgentConfig\u001b[38;5;241m.\u001b[39mfrom_dict(agent_data)\n\u001b[1;32m     30\u001b[0m             \u001b[38;5;28;01mfor\u001b[39;00m name, agent_data \u001b[38;5;129;01min\u001b[39;00m data\u001b[38;5;241m.\u001b[39mitems()\n\u001b[1;32m     31\u001b[0m         },\n\u001b[1;32m     32\u001b[0m         use_id_subdirs\u001b[38;5;241m=\u001b[39m\u001b[38;5;28;01mTrue\u001b[39;00m\n\u001b[1;32m     33\u001b[0m     )\n\u001b[1;32m     34\u001b[0m \u001b[38;5;28mself\u001b[39m\u001b[38;5;241m.\u001b[39m_storage \u001b[38;5;241m=\u001b[39m storage\n\u001b[1;32m     36\u001b[0m \u001b[38;5;66;03m# 使用向量库管理器\u001b[39;00m\n",
      "File \u001b[0;32m~/codeup/illufly/illufly/fastapi/agent/manager.py:25\u001b[0m, in \u001b[0;36m<dictcomp>\u001b[0;34m(.0)\u001b[0m\n\u001b[1;32m     19\u001b[0m \u001b[38;5;250m\u001b[39m\u001b[38;5;124;03m\"\"\"初始化代理管理器\"\"\"\u001b[39;00m\n\u001b[1;32m     20\u001b[0m \u001b[38;5;28;01mif\u001b[39;00m storage \u001b[38;5;129;01mis\u001b[39;00m \u001b[38;5;28;01mNone\u001b[39;00m:\n\u001b[1;32m     21\u001b[0m     storage \u001b[38;5;241m=\u001b[39m FileStorage[Dict[\u001b[38;5;28mstr\u001b[39m, AgentConfig]](\n\u001b[1;32m     22\u001b[0m         data_dir\u001b[38;5;241m=\u001b[39m__USERS_PATH__,\n\u001b[1;32m     23\u001b[0m         filename\u001b[38;5;241m=\u001b[39m\u001b[38;5;124m\"\u001b[39m\u001b[38;5;124magent.json\u001b[39m\u001b[38;5;124m\"\u001b[39m,\n\u001b[1;32m     24\u001b[0m         serializer\u001b[38;5;241m=\u001b[39m\u001b[38;5;28;01mlambda\u001b[39;00m agents: {\n\u001b[0;32m---> 25\u001b[0m             name: \u001b[43magent_config\u001b[49m\u001b[38;5;241;43m.\u001b[39;49m\u001b[43mto_dict\u001b[49m()\n\u001b[1;32m     26\u001b[0m             \u001b[38;5;28;01mfor\u001b[39;00m name, agent_config \u001b[38;5;129;01min\u001b[39;00m agents\u001b[38;5;241m.\u001b[39mitems()\n\u001b[1;32m     27\u001b[0m         },\n\u001b[1;32m     28\u001b[0m         deserializer\u001b[38;5;241m=\u001b[39m\u001b[38;5;28;01mlambda\u001b[39;00m data: {\n\u001b[1;32m     29\u001b[0m             name: AgentConfig\u001b[38;5;241m.\u001b[39mfrom_dict(agent_data)\n\u001b[1;32m     30\u001b[0m             \u001b[38;5;28;01mfor\u001b[39;00m name, agent_data \u001b[38;5;129;01min\u001b[39;00m data\u001b[38;5;241m.\u001b[39mitems()\n\u001b[1;32m     31\u001b[0m         },\n\u001b[1;32m     32\u001b[0m         use_id_subdirs\u001b[38;5;241m=\u001b[39m\u001b[38;5;28;01mTrue\u001b[39;00m\n\u001b[1;32m     33\u001b[0m     )\n\u001b[1;32m     34\u001b[0m \u001b[38;5;28mself\u001b[39m\u001b[38;5;241m.\u001b[39m_storage \u001b[38;5;241m=\u001b[39m storage\n\u001b[1;32m     36\u001b[0m \u001b[38;5;66;03m# 使用向量库管理器\u001b[39;00m\n",
      "\u001b[0;31mAttributeError\u001b[0m: 'tuple' object has no attribute 'to_dict'"
     ]
    }
   ],
   "source": [
    "agents.create_agent(user_id, 'chat', 'my-agent', [], user_id)"
   ]
  },
  {
   "cell_type": "code",
   "execution_count": 5,
   "id": "0d4e9b92-f80f-4157-90b3-067ee490e851",
   "metadata": {},
   "outputs": [
    {
     "data": {
      "text/plain": [
       "False"
      ]
     },
     "execution_count": 5,
     "metadata": {},
     "output_type": "execute_result"
    }
   ],
   "source": [
    "agents.create_agent(user_id, 'chat', '闲聊解闷', [], user_id)"
   ]
  },
  {
   "cell_type": "code",
   "execution_count": 6,
   "id": "31ba0d7e-6216-4eae-ad54-2473ac9e8226",
   "metadata": {},
   "outputs": [
    {
     "data": {
      "text/plain": [
       "[{'name': 'my-agent',\n",
       "  'type': 'chat',\n",
       "  'description': '',\n",
       "  'config': {},\n",
       "  'vectordb_names': ['default_knowledge'],\n",
       "  'events_history_path': '__users__/lele@illufly.com/store/hist/my-agent',\n",
       "  'memory_history_path': '__users__/lele@illufly.com/store/memory/my-agent',\n",
       "  'created_at': '2024-12-10T14:04:33.680680',\n",
       "  'last_used': '2024-12-10T19:34:45.511533',\n",
       "  'is_active': True},\n",
       " {'name': '闲聊解闷',\n",
       "  'type': 'chat',\n",
       "  'description': '',\n",
       "  'config': {},\n",
       "  'vectordb_names': ['default_knowledge'],\n",
       "  'events_history_path': '__users__/lele@illufly.com/store/hist/闲聊解闷',\n",
       "  'memory_history_path': '__users__/lele@illufly.com/store/memory/闲聊解闷',\n",
       "  'created_at': '2024-12-10T14:04:45.648035',\n",
       "  'last_used': '2024-12-10T14:04:45.648040',\n",
       "  'is_active': True}]"
      ]
     },
     "execution_count": 6,
     "metadata": {},
     "output_type": "execute_result"
    }
   ],
   "source": [
    "agents.list_agents(username, username)"
   ]
  },
  {
   "cell_type": "markdown",
   "id": "f9430a5f-f4fb-4082-a1be-07b77f9956e4",
   "metadata": {},
   "source": [
    "### 查看智能体实例"
   ]
  },
  {
   "cell_type": "code",
   "execution_count": 10,
   "id": "2591518d-9eae-4071-a77d-c4ffd9a54196",
   "metadata": {},
   "outputs": [
    {
     "data": {
      "text/plain": [
       "<ChatQwen my-agent>"
      ]
     },
     "execution_count": 10,
     "metadata": {},
     "output_type": "execute_result"
    }
   ],
   "source": [
    "agents.get_agent(username, 'my-agent', username)"
   ]
  },
  {
   "cell_type": "code",
   "execution_count": null,
   "id": "a0073568-1e42-4b37-a1b9-c33440c703f6",
   "metadata": {},
   "outputs": [],
   "source": []
  }
 ],
 "metadata": {
  "kernelspec": {
   "display_name": "same_to_illufly",
   "language": "python",
   "name": "same_to_illufly"
  },
  "language_info": {
   "codemirror_mode": {
    "name": "ipython",
    "version": 3
   },
   "file_extension": ".py",
   "mimetype": "text/x-python",
   "name": "python",
   "nbconvert_exporter": "python",
   "pygments_lexer": "ipython3",
   "version": "3.10.0"
  }
 },
 "nbformat": 4,
 "nbformat_minor": 5
}
