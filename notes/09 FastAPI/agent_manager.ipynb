{
 "cells": [
  {
   "cell_type": "markdown",
   "id": "67142b6c-df63-4ba6-ba0b-25f161954877",
   "metadata": {},
   "source": [
    "## Agent 管理"
   ]
  },
  {
   "cell_type": "markdown",
   "id": "4d2faacc-f98a-40d0-8f36-18fd56cd94b6",
   "metadata": {},
   "source": [
    "### 管理实例"
   ]
  },
  {
   "cell_type": "code",
   "execution_count": 1,
   "id": "8ca2b90f-5dc3-418c-9070-08c558e53c25",
   "metadata": {},
   "outputs": [
    {
     "data": {
      "text/plain": [
       "[{'name': 'my-agent',\n",
       "  'type': 'chat',\n",
       "  'description': '',\n",
       "  'config': {},\n",
       "  'vectordb_names': ['default_knowledge'],\n",
       "  'events_history_path': '__users__/lele@illufly.com/store/hist/my-agent',\n",
       "  'memory_history_path': '__users__/lele@illufly.com/store/memory/my-agent',\n",
       "  'created_at': '2024-12-10T14:04:33.680680',\n",
       "  'last_used': '2024-12-10T14:04:52.437121',\n",
       "  'is_active': True},\n",
       " {'name': '闲聊解闷',\n",
       "  'type': 'chat',\n",
       "  'description': '',\n",
       "  'config': {},\n",
       "  'vectordb_names': ['default_knowledge'],\n",
       "  'events_history_path': '__users__/lele@illufly.com/store/hist/闲聊解闷',\n",
       "  'memory_history_path': '__users__/lele@illufly.com/store/memory/闲聊解闷',\n",
       "  'created_at': '2024-12-10T14:04:45.648035',\n",
       "  'last_used': '2024-12-10T14:04:45.648040',\n",
       "  'is_active': True}]"
      ]
     },
     "execution_count": 1,
     "metadata": {},
     "output_type": "execute_result"
    }
   ],
   "source": [
    "from illufly.fastapi import AgentManager\n",
    "\n",
    "username = \"lele@illufly.com\"\n",
    "agents = AgentManager()\n",
    "agents.list_agents(username, requester=username)"
   ]
  },
  {
   "cell_type": "code",
   "execution_count": 2,
   "id": "149d075e-d414-4d6b-91be-b459d39fb229",
   "metadata": {},
   "outputs": [],
   "source": [
    "agents.init_agents(username)"
   ]
  },
  {
   "cell_type": "code",
   "execution_count": 3,
   "id": "16d91080-aeb9-47e9-b776-1fa2dfa55b7e",
   "metadata": {},
   "outputs": [
    {
     "data": {
      "text/plain": [
       "{}"
      ]
     },
     "execution_count": 3,
     "metadata": {},
     "output_type": "execute_result"
    }
   ],
   "source": [
    "agents.list_dbs(username, username)[0].knowledge.store"
   ]
  },
  {
   "cell_type": "code",
   "execution_count": 4,
   "id": "279debc7-bc0a-46e8-b48e-5df47362403d",
   "metadata": {},
   "outputs": [
    {
     "data": {
      "text/plain": [
       "True"
      ]
     },
     "execution_count": 4,
     "metadata": {},
     "output_type": "execute_result"
    }
   ],
   "source": [
    "agents.create_agent(username, 'chat', 'my-agent', [], username)"
   ]
  },
  {
   "cell_type": "code",
   "execution_count": 5,
   "id": "0d4e9b92-f80f-4157-90b3-067ee490e851",
   "metadata": {
    "scrolled": true
   },
   "outputs": [
    {
     "data": {
      "text/plain": [
       "True"
      ]
     },
     "execution_count": 5,
     "metadata": {},
     "output_type": "execute_result"
    }
   ],
   "source": [
    "agents.create_agent(username, 'chat', '闲聊解闷', [], username)"
   ]
  },
  {
   "cell_type": "code",
   "execution_count": 6,
   "id": "31ba0d7e-6216-4eae-ad54-2473ac9e8226",
   "metadata": {},
   "outputs": [
    {
     "data": {
      "text/plain": [
       "[{'name': 'my-agent',\n",
       "  'type': 'chat',\n",
       "  'description': '',\n",
       "  'config': {},\n",
       "  'vectordb_names': ['default_knowledge'],\n",
       "  'events_history_path': '__users__/lele@illufly.com/store/hist/my-agent',\n",
       "  'memory_history_path': '__users__/lele@illufly.com/store/memory/my-agent',\n",
       "  'created_at': '2024-12-10T14:04:33.680680',\n",
       "  'last_used': '2024-12-10T14:04:33.680688',\n",
       "  'is_active': True},\n",
       " {'name': '闲聊解闷',\n",
       "  'type': 'chat',\n",
       "  'description': '',\n",
       "  'config': {},\n",
       "  'vectordb_names': ['default_knowledge'],\n",
       "  'events_history_path': '__users__/lele@illufly.com/store/hist/闲聊解闷',\n",
       "  'memory_history_path': '__users__/lele@illufly.com/store/memory/闲聊解闷',\n",
       "  'created_at': '2024-12-10T14:04:45.648035',\n",
       "  'last_used': '2024-12-10T14:04:45.648040',\n",
       "  'is_active': True}]"
      ]
     },
     "execution_count": 6,
     "metadata": {},
     "output_type": "execute_result"
    }
   ],
   "source": [
    "agents.list_agents(username, username)"
   ]
  },
  {
   "cell_type": "code",
   "execution_count": 2,
   "id": "2591518d-9eae-4071-a77d-c4ffd9a54196",
   "metadata": {},
   "outputs": [
    {
     "data": {
      "text/plain": [
       "(AgentConfig(name='my-agent', agent_type='chat', description='', config={}, vectordb_names=['default_knowledge'], events_history_path='__users__/lele@illufly.com/store/hist/my-agent', memory_history_path='__users__/lele@illufly.com/store/memory/my-agent', created_at=datetime.datetime(2024, 12, 10, 14, 5, 48, 334995), last_used=datetime.datetime(2024, 12, 10, 14, 5, 48, 335001), is_active=True),\n",
       " <ChatQwen my-agent>)"
      ]
     },
     "execution_count": 2,
     "metadata": {},
     "output_type": "execute_result"
    }
   ],
   "source": [
    "x = agents.get_agent(username, 'my-agent', username)\n",
    "x"
   ]
  },
  {
   "cell_type": "code",
   "execution_count": 3,
   "id": "c0246a32-e896-4977-9a96-fe6504256f21",
   "metadata": {},
   "outputs": [
    {
     "data": {
      "text/plain": [
       "<ChatQwen my-agent>"
      ]
     },
     "execution_count": 3,
     "metadata": {},
     "output_type": "execute_result"
    }
   ],
   "source": []
  },
  {
   "cell_type": "code",
   "execution_count": null,
   "id": "a0073568-1e42-4b37-a1b9-c33440c703f6",
   "metadata": {},
   "outputs": [],
   "source": []
  }
 ],
 "metadata": {
  "kernelspec": {
   "display_name": "same_to_illufly",
   "language": "python",
   "name": "same_to_illufly"
  },
  "language_info": {
   "codemirror_mode": {
    "name": "ipython",
    "version": 3
   },
   "file_extension": ".py",
   "mimetype": "text/x-python",
   "name": "python",
   "nbconvert_exporter": "python",
   "pygments_lexer": "ipython3",
   "version": "3.10.0"
  }
 },
 "nbformat": 4,
 "nbformat_minor": 5
}
