{
 "cells": [
  {
   "cell_type": "code",
   "execution_count": 1,
   "id": "1563f0e1-d333-4108-8b66-609fd117a5e0",
   "metadata": {},
   "outputs": [],
   "source": [
    "import unittest\n",
    "import tempfile\n",
    "import shutil\n",
    "from pathlib import Path\n",
    "from dataclasses import dataclass\n",
    "from typing import Dict\n",
    "\n",
    "@dataclass\n",
    "class TestData:\n",
    "    id: str\n",
    "    name: str\n",
    "    age: int"
   ]
  },
  {
   "cell_type": "code",
   "execution_count": null,
   "id": "f7cba1cf-e378-40e2-a4ad-3ad050930a10",
   "metadata": {},
   "outputs": [],
   "source": []
  }
 ],
 "metadata": {
  "kernelspec": {
   "display_name": "same_to_illufly",
   "language": "python",
   "name": "same_to_illufly"
  },
  "language_info": {
   "codemirror_mode": {
    "name": "ipython",
    "version": 3
   },
   "file_extension": ".py",
   "mimetype": "text/x-python",
   "name": "python",
   "nbconvert_exporter": "python",
   "pygments_lexer": "ipython3",
   "version": "3.10.0"
  }
 },
 "nbformat": 4,
 "nbformat_minor": 5
}
