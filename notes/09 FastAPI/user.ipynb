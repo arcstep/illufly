{
 "cells": [
  {
   "cell_type": "code",
   "execution_count": 1,
   "id": "3716e060-9d6a-4083-a235-7f007b15026b",
   "metadata": {},
   "outputs": [
    {
     "data": {
      "text/plain": [
       "[{'username': 'lele@illufly.com',\n",
       "  'email': 'lele@illufly.com',\n",
       "  'roles': ['user'],\n",
       "  'created_at': '2024-12-10T01:23:49.716948',\n",
       "  'require_password_change': False,\n",
       "  'last_password_change': '2024-12-10T01:24:46.481949',\n",
       "  'password_expires_days': 90,\n",
       "  'last_login': None,\n",
       "  'failed_login_attempts': 0,\n",
       "  'last_failed_login': None,\n",
       "  'is_locked': False,\n",
       "  'is_active': True}]"
      ]
     },
     "execution_count": 1,
     "metadata": {},
     "output_type": "execute_result"
    }
   ],
   "source": [
    "from illufly.fastapi import UserManager\n",
    "\n",
    "users= UserManager(\"__users__\")\n",
    "users.list_users()"
   ]
  },
  {
   "cell_type": "code",
   "execution_count": 6,
   "id": "e9f52088-d59a-4286-9f19-85abc0a1ae34",
   "metadata": {},
   "outputs": [
    {
     "data": {
      "text/plain": [
       "(True, 'JE$pN1k@9nvS')"
      ]
     },
     "execution_count": 6,
     "metadata": {},
     "output_type": "execute_result"
    }
   ],
   "source": [
    "users.create_user(\"lele@illufly.com\")"
   ]
  },
  {
   "cell_type": "code",
   "execution_count": 2,
   "id": "e3156369-e9e8-4b24-bcd4-a6f133df1cf6",
   "metadata": {},
   "outputs": [
    {
     "data": {
      "text/plain": [
       "[{'username': 'lele@illufly.com',\n",
       "  'email': 'lele@illufly.com',\n",
       "  'roles': ['user'],\n",
       "  'created_at': '2024-12-10T01:23:49.716948',\n",
       "  'require_password_change': False,\n",
       "  'last_password_change': '2024-12-10T01:24:46.481949',\n",
       "  'password_expires_days': 90,\n",
       "  'last_login': None,\n",
       "  'failed_login_attempts': 0,\n",
       "  'last_failed_login': None,\n",
       "  'is_locked': False,\n",
       "  'is_active': True}]"
      ]
     },
     "execution_count": 2,
     "metadata": {},
     "output_type": "execute_result"
    }
   ],
   "source": [
    "users.list_users()"
   ]
  },
  {
   "cell_type": "code",
   "execution_count": 8,
   "id": "4d296328-bed1-4dd6-a9e5-e4c04513d17c",
   "metadata": {},
   "outputs": [
    {
     "data": {
      "text/plain": [
       "True"
      ]
     },
     "execution_count": 8,
     "metadata": {},
     "output_type": "execute_result"
    }
   ],
   "source": [
    "users.change_password('lele@illufly.com', 'JE$pN1k@9nvS', '123')"
   ]
  },
  {
   "cell_type": "code",
   "execution_count": 3,
   "id": "4bf80c66-89a8-452f-8359-abb7950a24f1",
   "metadata": {},
   "outputs": [
    {
     "data": {
      "text/plain": [
       "{'username': 'lele@illufly.com',\n",
       " 'email': 'lele@illufly.com',\n",
       " 'roles': ['user'],\n",
       " 'created_at': '2024-12-10T01:23:49.716948',\n",
       " 'require_password_change': False,\n",
       " 'last_password_change': '2024-12-10T01:24:46.481949',\n",
       " 'password_expires_days': 90,\n",
       " 'last_login': None,\n",
       " 'failed_login_attempts': 0,\n",
       " 'last_failed_login': None,\n",
       " 'is_locked': False,\n",
       " 'is_active': True}"
      ]
     },
     "execution_count": 3,
     "metadata": {},
     "output_type": "execute_result"
    }
   ],
   "source": [
    "users.get_user_context('lele@illufly.com').user.to_dict(False)"
   ]
  },
  {
   "cell_type": "code",
   "execution_count": null,
   "id": "470107ee-0598-408e-b1f6-f3f1faf16207",
   "metadata": {},
   "outputs": [],
   "source": []
  }
 ],
 "metadata": {
  "kernelspec": {
   "display_name": "same_to_illufly",
   "language": "python",
   "name": "same_to_illufly"
  },
  "language_info": {
   "codemirror_mode": {
    "name": "ipython",
    "version": 3
   },
   "file_extension": ".py",
   "mimetype": "text/x-python",
   "name": "python",
   "nbconvert_exporter": "python",
   "pygments_lexer": "ipython3",
   "version": "3.10.0"
  }
 },
 "nbformat": 4,
 "nbformat_minor": 5
}
