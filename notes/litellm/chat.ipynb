{
 "cells": [
  {
   "cell_type": "code",
   "execution_count": 1,
   "id": "4139af89-43f8-4153-8d49-31ecaaa258c2",
   "metadata": {},
   "outputs": [
    {
     "name": "stdout",
     "output_type": "stream",
     "text": [
      "9.11 比 9.9 大。\n",
      "\n",
      "比较这两个小数时，我们可以逐位比较：\n",
      "1. 整数部分都是 9，相等\n",
      "2. 小数部分第一位：1（9.11）比 9（9.9）小，但要注意 9.9 实际上是 9.90\n",
      "3. 继续比较第二位：1（9.11）比 0（9.90）大\n",
      "\n",
      "因此，9.11 > 9.9"
     ]
    }
   ],
   "source": [
    "from illufly.llm import ChatAgent\n",
    "\n",
    "a = ChatAgent(model=\"deepseek-v3\")\n",
    "async for chunk in a.chat(messages=\"9.11和9.9哪个大？\"):\n",
    "    print(chunk['output_text'], end=\"\")"
   ]
  },
  {
   "cell_type": "code",
   "execution_count": 2,
   "id": "52be310c-3fff-4692-9a3b-3e452e5d6c55",
   "metadata": {},
   "outputs": [
    {
     "name": "stdout",
     "output_type": "stream",
     "text": [
      "<think>\n",
      "好的，我现在需要比较9.11和9.9这两个数的大小。首先，我应该明确这两个数的结构。它们都是小数，但写法不同。用户可能是在问这两个数值哪个更大，但可能对小数点的理解有误。\n",
      "\n",
      "首先，我需要确定这两个数的正确数值。通常，小数点后的数字代表的是十分位、百分位等。例如，9.11实际上是9加上11/100，也就是9.11。而9.9则是9加上9/10，也就是9.90。这时候比较的话，9.11的十分位是1，而9.9的十分位是9，所以看起来9.9更大？但这里可能有问题，因为用户可能将9.11误解为9点11，比如时间中的9小时11分，但数值上应该是9.11。\n",
      "\n",
      "不过，正确的数值比较应该是逐位比较。先比较整数部分，都是9，所以相等。然后比较十分位，9.11的十分位是1，而9.9的十分位是9。这时候，因为9比1大，所以9.9实际上更大。但这里可能有一个常见的误解，就是用户可能认为9.11比9.9大，因为11比9大，但忽略了小数点后的位数不同。正确的做法是将它们写成相同位数，比如9.90和9.11，这时候9.90的十分位是9，确实比9.11大。\n",
      "\n",
      "所以，正确的结论是9.9比9.11大。但需要向用户解释清楚小数点的比较方法，避免误解。\n",
      "</think>\n",
      "\n",
      "9.9 比 9.11 大。\n",
      "\n",
      "比较方法：\n",
      "1. 先比较整数部分：两者都是 9 → 平手\n",
      "2. 比较十分位：\n",
      "   - 9.9 的十分位是 9\n",
      "   - 9.11 的十分位是 1\n",
      "   - 9 > 1 → 9.9 胜出\n",
      "\n",
      "可以这样理解：\n",
      "9.9 = 9.90\n",
      "9.90 > 9.11（因为第1位小数 9 > 1）\n",
      "\n",
      "常见误解提醒：不要因为 11 > 9 就认为 9.11 更大，小数比较是从左到右逐位进行的。"
     ]
    }
   ],
   "source": [
    "from illufly.llm import ChatAgent\n",
    "\n",
    "a = ChatAgent(model=\"deepseek-r1\")\n",
    "async for chunk in a.chat(messages=\"9.11和9.9哪个大？\"):\n",
    "    print(chunk['output_text'], end=\"\")"
   ]
  },
  {
   "cell_type": "code",
   "execution_count": 1,
   "id": "800e60d7-f44b-4620-a701-0b74e51cf420",
   "metadata": {},
   "outputs": [
    {
     "name": "stdout",
     "output_type": "stream",
     "text": [
      "[{'content': '', 'tool_id': 'call_4WO0YCjuXYLKy8bFeRL0CQSo', 'name': 'get_current_weather', 'arguments': '{\"location\":\"东京\"}'}]\n"
     ]
    }
   ],
   "source": [
    "from illufly.llm import ChatAgent\n",
    "\n",
    "a = ChatAgent(model=\"gpt-4o-mini\")\n",
    "def get_current_weather(location, unit=\"fahrenheit\"):\n",
    "    \"\"\"Get the current weather in a given location\"\"\"\n",
    "    if \"tokyo\" in location.lower():\n",
    "        return json.dumps({\"location\": \"Tokyo\", \"temperature\": \"10\", \"unit\": \"celsius\"})\n",
    "    elif \"san francisco\" in location.lower():\n",
    "        return json.dumps({\"location\": \"San Francisco\", \"temperature\": \"72\", \"unit\": \"fahrenheit\"})\n",
    "    elif \"paris\" in location.lower():\n",
    "        return json.dumps({\"location\": \"Paris\", \"temperature\": \"22\", \"unit\": \"celsius\"})\n",
    "    else:\n",
    "        return json.dumps({\"location\": location, \"temperature\": \"unknown\"})\n",
    "\n",
    "tools = [\n",
    "    {\n",
    "        \"type\": \"function\",\n",
    "        \"function\": {\n",
    "            \"name\": \"get_current_weather\",\n",
    "            \"description\": \"Get the current weather in a given location\",\n",
    "            \"parameters\": {\n",
    "                \"type\": \"object\",\n",
    "                \"properties\": {\n",
    "                    \"location\": {\n",
    "                        \"type\": \"string\",\n",
    "                        \"description\": \"The city and state, e.g. San Francisco, CA\",\n",
    "                    },\n",
    "                    \"unit\": {\"type\": \"string\", \"enum\": [\"celsius\", \"fahrenheit\"]},\n",
    "                },\n",
    "                \"required\": [\"location\"],\n",
    "            },\n",
    "        },\n",
    "    }\n",
    "]\n",
    "\n",
    "resp = a.chat(messages=\"东京天气如何？\", tools=tools)\n",
    "async for x in resp:\n",
    "    if x['tool_calls']:\n",
    "        print(x['tool_calls'])\n",
    "    if x['chunk_type'] == 'ai_delta':\n",
    "        print(x['output_text'])"
   ]
  },
  {
   "cell_type": "code",
   "execution_count": 6,
   "id": "4bb5f1a8-e7f8-472e-9b31-5ec389f95fde",
   "metadata": {},
   "outputs": [
    {
     "name": "stdout",
     "output_type": "stream",
     "text": [
      "这张图片展示了一片宁静的海景和蓝天白云。\n",
      "\n",
      "1. **天空**：天空中布满了白色的云朵，呈现出不同的形状和纹理。阳光照射在云层上，使得部分云彩显得特别明亮。\n",
      "2. **海洋**：海水看起来非常平静，反射出蓝色的天空和白色的云朵。海面上没有明显的波浪或涟漪，给人一种平和的感觉。\n",
      "3. **海岸线**：图片右下角可以看到一部分海岸线，上面长有一些树木和植被。这些植物为画面增添了一些自然的元素。\n",
      "4. **远处的地平线**：在海平面上方，可以看到一条清晰的地平线，将天空和海洋分隔开来。远处似乎有陆地或其他物体的轮廓，但不太清晰。\n",
      "\n",
      "整体而言，这是一幅充满自然美景的画面，展现了大海、天空和陆地的和谐共存。ModelResponseStream(id='chatcmpl-5b72167d-ec56-4347-93a5-aabb2cb2862d', created=1743068580, model='glm-4v-flash', object='chat.completion.chunk', system_fingerprint=None, choices=[StreamingChoices(finish_reason='stop', index=0, delta=Delta(provider_specific_fields=None, content=None, role=None, function_call=None, tool_calls=None, audio=None), logprobs=None)], provider_specific_fields=None, stream_options=None)\n"
     ]
    }
   ],
   "source": [
    "from illufly.llm import ChatAgent\n",
    "\n",
    "a = ChatAgent(model = \"glm-4v-flash\", imitator=\"ZHIPU\")\n",
    "await a.chat(\n",
    "    messages=[\n",
    "       {\n",
    "        \"role\": \"user\",\n",
    "        \"content\": [\n",
    "          {\n",
    "            \"type\": \"text\",\n",
    "            \"text\": \"图里有什么\"\n",
    "          },\n",
    "          {\n",
    "            \"type\": \"image_url\",\n",
    "            \"image_url\": {\n",
    "                \"url\" : \"https://img1.baidu.com/it/u=1369931113,3388870256&fm=253&app=138&size=w931&n=0&f=JPEG&fmt=auto?sec=1703696400&t=f3028c7a1dca43a080aeb8239f09cc2f\"\n",
    "            }\n",
    "          }\n",
    "        ]\n",
    "      }\n",
    "    ])"
   ]
  },
  {
   "cell_type": "code",
   "execution_count": null,
   "id": "d4d6948b-2e35-44a9-8751-d273b2b3c1e3",
   "metadata": {},
   "outputs": [],
   "source": []
  }
 ],
 "metadata": {
  "kernelspec": {
   "display_name": "Python 3 (ipykernel)",
   "language": "python",
   "name": "python3"
  },
  "language_info": {
   "codemirror_mode": {
    "name": "ipython",
    "version": 3
   },
   "file_extension": ".py",
   "mimetype": "text/x-python",
   "name": "python",
   "nbconvert_exporter": "python",
   "pygments_lexer": "ipython3",
   "version": "3.11.7"
  }
 },
 "nbformat": 4,
 "nbformat_minor": 5
}
