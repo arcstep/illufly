{
 "cells": [
  {
   "cell_type": "code",
   "execution_count": 1,
   "id": "4139af89-43f8-4153-8d49-31ecaaa258c2",
   "metadata": {},
   "outputs": [
    {
     "name": "stdout",
     "output_type": "stream",
     "text": [
      "要比较 \\(9.11\\) 和 \\(9.9\\) 哪个更大，可以按照以下步骤进行：\n",
      "\n",
      "1. **比较整数部分**：\n",
      "   - 两个数的整数部分都是 \\(9\\)，所以整数部分相同。\n",
      "\n",
      "2. **比较小数部分**：\n",
      "   - \\(9.11\\) 的小数部分是 \\(0.11\\)。\n",
      "   - \\(9.9\\) 的小数部分是 \\(0.9\\)。\n",
      "\n",
      "3. **分析小数部分**：\n",
      "   - 将 \\(0.9\\) 转换为百分数，即 \\(0.90\\)。\n",
      "   - 比较 \\(0.11\\) 和 \\(0.90\\)，显然 \\(0.90 > 0.11\\)。\n",
      "\n",
      "因此，\\(9.9\\) 大于 \\(9.11\\)。\n",
      "\n",
      "最终答案是：\n",
      "\\[\n",
      "\\boxed{9.9 \\text{ 更大}}\n",
      "\\]"
     ]
    }
   ],
   "source": [
    "from illufly.llm import ChatAgent\n",
    "\n",
    "a = ChatAgent(model=\"deepseek-v3\")\n",
    "async for chunk in a.chat(messages=\"9.11和9.9哪个大？\"):\n",
    "    print(chunk['output_text'], end=\"\")"
   ]
  },
  {
   "cell_type": "code",
   "execution_count": 6,
   "id": "aa1cbd01-c726-4f24-afea-ec8a4ae516fd",
   "metadata": {},
   "outputs": [
    {
     "data": {
      "text/plain": [
       "[]"
      ]
     },
     "execution_count": 6,
     "metadata": {},
     "output_type": "execute_result"
    }
   ],
   "source": [
    "from illufly.llm import ThreadManager, ChatAgent\n",
    "\n",
    "a = ChatAgent(model=\"deepseek-v3\")\n",
    "a.load_history(\"default\", \"1\")"
   ]
  },
  {
   "cell_type": "code",
   "execution_count": 2,
   "id": "ea0abb92-5b28-4d77-a462-27716b563261",
   "metadata": {},
   "outputs": [],
   "source": [
    "from illufly.rocksdb import IndexedRocksDB\n",
    "db = IndexedRocksDB(\"__DB__\")"
   ]
  },
  {
   "cell_type": "code",
   "execution_count": 3,
   "id": "cba7b23e-4b99-4b6f-8536-dbee815c2407",
   "metadata": {},
   "outputs": [],
   "source": [
    "from illufly.llm import ThreadManager\n",
    "from illufly.llm.thread import Thread\n",
    "\n",
    "t = ThreadManager(db=db)\n",
    "# thread = t.new_thread(\"default\")"
   ]
  },
  {
   "cell_type": "code",
   "execution_count": 4,
   "id": "b74f51f1-d5c3-46ff-8bd1-48233adaf003",
   "metadata": {},
   "outputs": [
    {
     "name": "stdout",
     "output_type": "stream",
     "text": [
      "user_id='default' thread_id='3dd7fdc9' title='' created_at=1743257964.434575\n"
     ]
    }
   ],
   "source": [
    "thread=t.all_threads(\"default\")[-1]\n",
    "user_id = \"default\"\n",
    "print(thread)"
   ]
  },
  {
   "cell_type": "code",
   "execution_count": 6,
   "id": "039f58a7-5457-44a7-a99d-f1ef6252e471",
   "metadata": {},
   "outputs": [
    {
     "name": "stdout",
     "output_type": "stream",
     "text": [
      "在比较 **9.11** 和 **9.9** 这两个数字时，我们需要按照**小数点后的位数**逐一比较：\n",
      "\n",
      "1. **整数部分**：两个数字的整数部分都是 **9**，所以需要比较小数部分。\n",
      "2. **小数部分**：**9.11** 的小数部分是 **0.11**，而 **9.9** 的小数部分是 **0.9**。显然，**0.9 > 0.11**。\n",
      "\n",
      "因此，**9.9 > 9.11**。\n",
      "\n",
      "### 结论：**9.9** 大于 **9.11**。"
     ]
    },
    {
     "data": {
      "text/plain": [
       "[{'role': 'user', 'content': '9.11和9.9哪个大？'},\n",
       " {'role': 'assistant',\n",
       "  'content': '要比较 **9.11** 和 **9.9** 的大小，可以按照以下步骤进行：\\n\\n1. **比较整数部分**：\\n   - 两个数的整数部分都是 **9**，因此整数部分相等。\\n\\n2. **比较小数部分**：\\n   - **9.11** 的小数部分是 **0.11**。\\n   - **9.9** 的小数部分是 **0.9**。\\n   \\n3. **转换为相同位数进行比较**：\\n   - 将 **0.9** 转换为 **0.90**，以便更清楚地比较。\\n   - **0.90** 大于 **0.11**。\\n\\n4. **得出结论**：\\n   - 由于小数部分 **0.90** 大于 **0.11**，所以 **9.9** 大于 **9.11**。\\n\\n最终答案是：\\n\\\\[\\n\\\\boxed{9.9 \\\\text{ 更大}}\\n\\\\]'},\n",
       " {'role': 'user', 'content': '9.11和9.9哪个大？'},\n",
       " {'role': 'assistant', 'content': '9.9大呗'},\n",
       " {'role': 'user', 'content': '9.11和9.9哪个大？'},\n",
       " {'role': 'assistant', 'content': '9.9大呗'},\n",
       " {'role': 'user', 'content': '9.11和9.9哪个大？'},\n",
       " {'role': 'assistant', 'content': '9.9大呗'},\n",
       " {'role': 'user', 'content': '9.11和9.9哪个大？'},\n",
       " {'role': 'assistant', 'content': '9.9大呗'},\n",
       " {'role': 'user', 'content': '9.11和9.9哪个大？'},\n",
       " {'role': 'assistant', 'content': '9.9大呗'},\n",
       " {'role': 'user', 'content': '请你说说理由'},\n",
       " {'role': 'assistant',\n",
       "  'content': '在比较 **9.11** 和 **9.9** 这两个数字时，我们需要按照**小数点后的位数**逐一比较：\\n\\n1. **整数部分**：两个数字的整数部分都是 **9**，所以需要比较小数部分。\\n2. **小数部分**：**9.11** 的小数部分是 **0.11**，而 **9.9** 的小数部分是 **0.9**。显然，**0.9 > 0.11**。\\n\\n因此，**9.9 > 9.11**。\\n\\n### 结论：**9.9** 大于 **9.11**。'}]"
      ]
     },
     "execution_count": 6,
     "metadata": {},
     "output_type": "execute_result"
    }
   ],
   "source": [
    "from illufly.llm import ChatAgent\n",
    "from illufly.rocksdb import IndexedRocksDB\n",
    "\n",
    "# db = IndexedRocksDB(\"__DB__\")\n",
    "a = ChatAgent(model=\"deepseek-v3\", db=db)\n",
    "\n",
    "async for chunk in a.chat(\n",
    "    messages=\"请你说说理由\",\n",
    "    user_id=user_id,\n",
    "    thread_id=thread.thread_id,\n",
    "    # mock_response=\"9.9大呗\"\n",
    "    \n",
    "):\n",
    "    print(chunk['output_text'], end=\"\")\n",
    "    \n",
    "a.load_history(user_id, thread.thread_id)"
   ]
  },
  {
   "cell_type": "code",
   "execution_count": 2,
   "id": "52be310c-3fff-4692-9a3b-3e452e5d6c55",
   "metadata": {},
   "outputs": [
    {
     "name": "stdout",
     "output_type": "stream",
     "text": [
      "<think>\n",
      "好的，我现在需要比较9.11和9.9这两个数的大小。首先，我应该明确这两个数的结构。它们都是小数，但写法不同。用户可能是在问这两个数值哪个更大，但可能对小数点的理解有误。\n",
      "\n",
      "首先，我需要确定这两个数的正确数值。通常，小数点后的数字代表的是十分位、百分位等。例如，9.11实际上是9加上11/100，也就是9.11。而9.9则是9加上9/10，也就是9.90。这时候比较的话，9.11的十分位是1，而9.9的十分位是9，所以看起来9.9更大？但这里可能有问题，因为用户可能将9.11误解为9点11，比如时间中的9小时11分，但数值上应该是9.11。\n",
      "\n",
      "不过，正确的数值比较应该是逐位比较。先比较整数部分，都是9，所以相等。然后比较十分位，9.11的十分位是1，而9.9的十分位是9。这时候，因为9比1大，所以9.9实际上更大。但这里可能有一个常见的误解，就是用户可能认为9.11比9.9大，因为11比9大，但忽略了小数点后的位数不同。正确的做法是将它们写成相同位数，比如9.90和9.11，这时候9.90的十分位是9，确实比9.11大。\n",
      "\n",
      "所以，正确的结论是9.9比9.11大。但需要向用户解释清楚小数点的比较方法，避免误解。\n",
      "</think>\n",
      "\n",
      "9.9 比 9.11 大。\n",
      "\n",
      "比较方法：\n",
      "1. 先比较整数部分：两者都是 9 → 平手\n",
      "2. 比较十分位：\n",
      "   - 9.9 的十分位是 9\n",
      "   - 9.11 的十分位是 1\n",
      "   - 9 > 1 → 9.9 胜出\n",
      "\n",
      "可以这样理解：\n",
      "9.9 = 9.90\n",
      "9.90 > 9.11（因为第1位小数 9 > 1）\n",
      "\n",
      "常见误解提醒：不要因为 11 > 9 就认为 9.11 更大，小数比较是从左到右逐位进行的。"
     ]
    }
   ],
   "source": [
    "from illufly.llm import ChatAgent\n",
    "\n",
    "a = ChatAgent(model=\"deepseek-r1\")\n",
    "async for chunk in a.chat(messages=\"9.11和9.9哪个大？\"):\n",
    "    print(chunk['output_text'], end=\"\")"
   ]
  },
  {
   "cell_type": "code",
   "execution_count": 2,
   "id": "800e60d7-f44b-4620-a701-0b74e51cf420",
   "metadata": {},
   "outputs": [
    {
     "name": "stdout",
     "output_type": "stream",
     "text": [
      "[{'tool_id': 'call_SUZWzJQyFdn0sz0e6yGequBK', 'name': 'get_current_weather', 'arguments': '{\"location\":\"Tokyo, Japan\"}'}]\n"
     ]
    }
   ],
   "source": [
    "from illufly.llm import ChatAgent\n",
    "\n",
    "a = ChatAgent(model=\"gpt-4o-mini\")\n",
    "def get_current_weather(location, unit=\"fahrenheit\"):\n",
    "    \"\"\"Get the current weather in a given location\"\"\"\n",
    "    if \"tokyo\" in location.lower():\n",
    "        return json.dumps({\"location\": \"Tokyo\", \"temperature\": \"10\", \"unit\": \"celsius\"})\n",
    "    elif \"san francisco\" in location.lower():\n",
    "        return json.dumps({\"location\": \"San Francisco\", \"temperature\": \"72\", \"unit\": \"fahrenheit\"})\n",
    "    elif \"paris\" in location.lower():\n",
    "        return json.dumps({\"location\": \"Paris\", \"temperature\": \"22\", \"unit\": \"celsius\"})\n",
    "    else:\n",
    "        return json.dumps({\"location\": location, \"temperature\": \"unknown\"})\n",
    "\n",
    "tools = [\n",
    "    {\n",
    "        \"type\": \"function\",\n",
    "        \"function\": {\n",
    "            \"name\": \"get_current_weather\",\n",
    "            \"description\": \"Get the current weather in a given location\",\n",
    "            \"parameters\": {\n",
    "                \"type\": \"object\",\n",
    "                \"properties\": {\n",
    "                    \"location\": {\n",
    "                        \"type\": \"string\",\n",
    "                        \"description\": \"The city and state, e.g. San Francisco, CA\",\n",
    "                    },\n",
    "                    \"unit\": {\"type\": \"string\", \"enum\": [\"celsius\", \"fahrenheit\"]},\n",
    "                },\n",
    "                \"required\": [\"location\"],\n",
    "            },\n",
    "        },\n",
    "    }\n",
    "]\n",
    "\n",
    "resp = a.chat(messages=\"东京天气如何？\", tools=tools)\n",
    "async for x in resp:\n",
    "    if x.get('tool_calls', None):\n",
    "        print(x['tool_calls'])\n",
    "    if x.get('chunk_type', None) == 'ai_delta':\n",
    "        print(x['output_text'])"
   ]
  },
  {
   "cell_type": "code",
   "execution_count": 8,
   "id": "4bb5f1a8-e7f8-472e-9b31-5ec389f95fde",
   "metadata": {},
   "outputs": [
    {
     "name": "stdout",
     "output_type": "stream",
     "text": [
      "这张图片展示了一片宁静的海面和远处的海岸线。天空呈现出明亮的蓝色，上面飘着一些白色的云朵。海面上有轻微的波纹，反射出天空的颜色。在右侧可以看到一些树木和岩石，为画面增添了一些自然的元素。整体给人一种平静、宽广的感觉。"
     ]
    }
   ],
   "source": [
    "from illufly.llm import ChatAgent\n",
    "\n",
    "a = ChatAgent(model = \"glm-4v-flash\", imitator=\"ZHIPU\")\n",
    "async for x in a.chat(\n",
    "    messages=[\n",
    "       {\n",
    "        \"role\": \"user\",\n",
    "        \"content\": [\n",
    "          {\n",
    "            \"type\": \"text\",\n",
    "            \"text\": \"图里有什么\"\n",
    "          },\n",
    "          {\n",
    "            \"type\": \"image_url\",\n",
    "            \"image_url\": {\n",
    "                \"url\" : \"https://img1.baidu.com/it/u=1369931113,3388870256&fm=253&app=138&size=w931&n=0&f=JPEG&fmt=auto?sec=1703696400&t=f3028c7a1dca43a080aeb8239f09cc2f\"\n",
    "            }\n",
    "          }\n",
    "        ]\n",
    "      }\n",
    "]):\n",
    "    if x.get('tool_calls', None):\n",
    "        print(x['tool_calls'])\n",
    "    if x.get('chunk_type', None).value == 'ai_delta':\n",
    "        print(x['output_text'], end=\"\")\n",
    "        "
   ]
  },
  {
   "cell_type": "code",
   "execution_count": null,
   "id": "d4d6948b-2e35-44a9-8751-d273b2b3c1e3",
   "metadata": {},
   "outputs": [],
   "source": []
  }
 ],
 "metadata": {
  "kernelspec": {
   "display_name": "Python 3 (ipykernel)",
   "language": "python",
   "name": "python3"
  },
  "language_info": {
   "codemirror_mode": {
    "name": "ipython",
    "version": 3
   },
   "file_extension": ".py",
   "mimetype": "text/x-python",
   "name": "python",
   "nbconvert_exporter": "python",
   "pygments_lexer": "ipython3",
   "version": "3.11.7"
  }
 },
 "nbformat": 4,
 "nbformat_minor": 5
}
