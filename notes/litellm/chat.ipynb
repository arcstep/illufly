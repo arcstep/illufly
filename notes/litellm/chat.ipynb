{
 "cells": [
  {
   "cell_type": "code",
   "execution_count": 17,
   "id": "79bc6169-5bea-49b0-87b0-0d81c6490b90",
   "metadata": {},
   "outputs": [
    {
     "data": {
      "text/plain": [
       "'[\"a\", \"b\"]'"
      ]
     },
     "execution_count": 17,
     "metadata": {},
     "output_type": "execute_result"
    }
   ],
   "source": [
    "import json\n",
    "json.dumps(['a', 'b'])"
   ]
  },
  {
   "cell_type": "code",
   "execution_count": 1,
   "id": "4139af89-43f8-4153-8d49-31ecaaa258c2",
   "metadata": {},
   "outputs": [
    {
     "name": "stdout",
     "output_type": "stream",
     "text": [
      "/var/folders/f5/rlf27f4n6wzc_k4x7y4vzm5h0000gn/T/__ILLUFLY__/CACHE_LITELLM\n",
      "比较 **9.11** 和 **9.9** 的大小：\n",
      "\n",
      "1. **比较整数部分**：\n",
      "   - 两个数的整数部分都是 **9**，相等。\n",
      "\n",
      "2. **比较小数部分**：\n",
      "   - **9.11** 的小数部分是 **0.11**\n",
      "   - **9.9** 的小数部分是 **0.9**\n",
      "   \n",
      "   将小数部分统一为两位数进行比较：\n",
      "   - **0.11** vs **0.90**\n",
      "   \n",
      "   显然，**0.90** > **0.11**\n",
      "\n",
      "因此，**9.9** 大于 **9.11**。\n",
      "\n",
      "最终答案：\\boxed{9.9}"
     ]
    }
   ],
   "source": [
    "from illufly.llm import ChatAgent\n",
    "\n",
    "a = ChatAgent(model=\"deepseek-v3\")\n",
    "async for chunk in a.chat(messages=\"9.11和9.9哪个大？\"):\n",
    "    print(chunk['output_text'], end=\"\")"
   ]
  },
  {
   "cell_type": "code",
   "execution_count": 1,
   "id": "aa1cbd01-c726-4f24-afea-ec8a4ae516fd",
   "metadata": {},
   "outputs": [
    {
     "name": "stdout",
     "output_type": "stream",
     "text": [
      "/var/folders/f5/rlf27f4n6wzc_k4x7y4vzm5h0000gn/T/__ILLUFLY__/CACHE_LITELLM\n"
     ]
    },
    {
     "data": {
      "text/plain": [
       "[]"
      ]
     },
     "execution_count": 1,
     "metadata": {},
     "output_type": "execute_result"
    }
   ],
   "source": [
    "from illufly.llm import ThreadManager, ChatAgent\n",
    "\n",
    "a = ChatAgent(model=\"deepseek-v3\")\n",
    "a.load_history(\"default\", \"1\")"
   ]
  },
  {
   "cell_type": "code",
   "execution_count": 2,
   "id": "ea0abb92-5b28-4d77-a462-27716b563261",
   "metadata": {},
   "outputs": [],
   "source": [
    "from illufly.rocksdb import IndexedRocksDB\n",
    "db = IndexedRocksDB(\"__DB__\")"
   ]
  },
  {
   "cell_type": "code",
   "execution_count": 3,
   "id": "cba7b23e-4b99-4b6f-8536-dbee815c2407",
   "metadata": {},
   "outputs": [],
   "source": [
    "from illufly.llm import ThreadManager\n",
    "from illufly.llm.thread import Thread\n",
    "\n",
    "t = ThreadManager(db=db)\n",
    "# thread = t.new_thread(\"default\")"
   ]
  },
  {
   "cell_type": "code",
   "execution_count": 4,
   "id": "b74f51f1-d5c3-46ff-8bd1-48233adaf003",
   "metadata": {},
   "outputs": [
    {
     "name": "stdout",
     "output_type": "stream",
     "text": [
      "user_id='default' thread_id='5576987c' title='' created_at=1743477656.252232\n"
     ]
    }
   ],
   "source": [
    "user_id = \"default\"\n",
    "thread=t.new_thread(user_id)\n",
    "print(thread)"
   ]
  },
  {
   "cell_type": "code",
   "execution_count": 5,
   "id": "039f58a7-5457-44a7-a99d-f1ef6252e471",
   "metadata": {
    "scrolled": true
   },
   "outputs": [
    {
     "name": "stderr",
     "output_type": "stream",
     "text": [
      "2025-04-01 11:21:00 - chromadb.segment.impl.vector.local_hnsw - WARNING - Number of requested results 10 is greater than number of elements in index 4, updating n_results = 4\n"
     ]
    },
    {
     "name": "stdout",
     "output_type": "stream",
     "text": [
      "\n",
      "chroma add >>>  ['d6d10772627e5cf24e85f8a5a2fc200f', 'b8ba897ac76620749e03d789d35fc185'] ['用户对UI开发技术栈的要求是？', '使用「yarn」而非npm，习惯使用「TypeScript」和「Next.js」「我喜欢使用yarn而不是npm」'] [{'user_id': 'default', 'topic': '[开发]技术栈偏好', 'question': '用户对UI开发技术栈的要求是？', 'answer': '使用「yarn」而非npm，习惯使用「TypeScript」和「Next.js」「我喜欢使用yarn而不是npm」', 'created_at': 1743474780.887326}, {'user_id': 'default', 'topic': '[开发]技术栈偏好', 'question': '用户对UI开发技术栈的要求是？', 'answer': '使用「yarn」而非npm，习惯使用「TypeScript」和「Next.js」「我喜欢使用yarn而不是npm」', 'created_at': 1743474780.887326}]\n",
      "\n",
      "chroma add >>>  ['b20f3e5ed4a0163b73fa16585a994139', 'c9c604a6a34cc29a18829b556c3a1c7b'] ['用户对输出风格的要求是？', '简洁「希望输出结果简洁」'] [{'user_id': 'default', 'topic': '[格式]输出风格', 'question': '用户对输出风格的要求是？', 'answer': '简洁「希望输出结果简洁」', 'created_at': 1743475255.568179}, {'user_id': 'default', 'topic': '[格式]输出风格', 'question': '用户对输出风格的要求是？', 'answer': '简洁「希望输出结果简洁」', 'created_at': 1743475255.568179}]\n",
      "\n",
      "memory.retrieve >>>  |[格式]输出风格|用户对输出风格的要求是？|简洁「希望输出结果简洁」|\n",
      "|[开发]技术栈偏好|用户对UI开发技术栈的要求是？|使用「yarn」而非npm，习惯使用「TypeScript」和「Next.js」「我喜欢使用yarn而不是npm」|\n",
      "\n",
      "save_dialog_chunk >>>  user_id='default' thread_id='5576987c' dialouge_id='1743477660290-144' created_at=1743477660.290073 chunk_type=<ChunkType.USER_INPUT: 'user_input'> input_messages=[{'role': 'system', 'content': '**用户记忆清单**\\n\\n\\n|主题|问题|答案|\\n|---|---|---|\\n|[格式]输出风格|用户对输出风格的要求是？|简洁「希望输出结果简洁」|\\n|[开发]技术栈偏好|用户对UI开发技术栈的要求是？|使用「yarn」而非npm，习惯使用「TypeScript」和「Next.js」「我喜欢使用yarn而不是npm」|\\n\\n'}, {'role': 'user', 'content': '我希望输出结果简洁，不要啰嗦'}] output_text='' tool_calls=[]\n",
      "\n",
      "chat completion >>>  [{'role': 'system', 'content': '**用户记忆清单**\\n\\n\\n|主题|问题|答案|\\n|---|---|---|\\n|[格式]输出风格|用户对输出风格的要求是？|简洁「希望输出结果简洁」|\\n|[开发]技术栈偏好|用户对UI开发技术栈的要求是？|使用「yarn」而非npm，习惯使用「TypeScript」和「Next.js」「我喜欢使用yarn而不是npm」|\\n\\n'}, {'role': 'user', 'content': '我希望输出结果简洁，不要啰嗦'}]\n",
      "好的，输出会保持简洁。\n",
      "save_dialog_chunk >>>  user_id='default' thread_id='5576987c' dialouge_id='1743477662237-988' created_at=1743477662.237726 chunk_type=<ChunkType.AI_MESSAGE: 'ai_message'> input_messages=[] output_text='好的，输出会保持简洁。' tool_calls=[]\n",
      "\n",
      "memory.extract >>> SKIP extract\n"
     ]
    },
    {
     "data": {
      "text/plain": [
       "[{'role': 'user', 'content': '我希望输出结果简洁，不要啰嗦'},\n",
       " {'role': 'assistant', 'content': '好的，输出会保持简洁。'}]"
      ]
     },
     "execution_count": 5,
     "metadata": {},
     "output_type": "execute_result"
    }
   ],
   "source": [
    "from illufly.llm import ChatAgent\n",
    "from illufly.rocksdb import IndexedRocksDB\n",
    "\n",
    "# db = IndexedRocksDB(\"__DB__\")\n",
    "a = ChatAgent(model=\"deepseek-v3\", db=db)\n",
    "await a.memory.init_retriever()\n",
    "\n",
    "async for chunk in a.chat(\n",
    "    messages=\"我希望输出结果简洁，不要啰嗦\",\n",
    "    user_id=user_id,\n",
    "    thread_id=thread.thread_id,\n",
    "    # mock_response=\"9.9大呗\"\n",
    "    \n",
    "):\n",
    "    print(chunk['output_text'], end=\"\")\n",
    "    \n",
    "a.load_history(user_id, thread.thread_id)"
   ]
  },
  {
   "cell_type": "code",
   "execution_count": 8,
   "id": "0d1b7d11-f698-49c6-9a5c-f243a3da00fa",
   "metadata": {},
   "outputs": [
    {
     "name": "stdout",
     "output_type": "stream",
     "text": [
      "\n",
      "memory.retrieve >>>  \n",
      "\n",
      "save_dialog_chunk >>>  user_id='user2' thread_id='new_thread' dialouge_id='1743477803755-504' created_at=1743477803.755375 chunk_type=<ChunkType.USER_INPUT: 'user_input'> input_messages=[{'role': 'system', 'content': '**用户记忆清单**\\n\\n\\n|主题|问题|答案|\\n|---|---|---|\\n\\n\\n'}, {'role': 'user', 'content': '你认为我该使用什么方式搭建fastapi的前端？'}] output_text='' tool_calls=[]\n",
      "\n",
      "chat completion >>>  [{'role': 'system', 'content': '**用户记忆清单**\\n\\n\\n|主题|问题|答案|\\n|---|---|---|\\n\\n\\n'}, {'role': 'user', 'content': '你认为我该使用什么方式搭建fastapi的前端？'}]\n",
      "在搭建 FastAPI 的前\n",
      "memory.extract >>> SKIP extract\n",
      "端时，你有多种选择，具体取决于你的项目需求、技术栈偏好以及团队的经验。以下是一些常见的方式：\n",
      "\n",
      "---\n",
      "\n",
      "### 1. **独立的前端框架（前后端分离）**\n",
      "如果你希望前后端完全分离，可以使用独立的前端框架来构建用户界面，并通过 FastAPI 提供的 API 进行数据交互。\n",
      "\n",
      "- **推荐框架：**\n",
      "  - **React**：目前最流行的前端框架之一，生态丰富，适合复杂的前端应用。\n",
      "  - **Vue.js**：轻量易用，适合中小型项目或快速开发。\n",
      "  - **Angular**：适合大型企业级应用，但学习曲线较陡。\n",
      "  - **Svelte**：新兴框架，性能优秀，适合对性能要求高的项目。\n",
      "\n",
      "- **开发流程：**\n",
      "  1. 前端和后端分别开发，前端通过 `fetch` 或 `axios` 调用 FastAPI 的接口。\n",
      "  2. 前端项目可以部署在静态服务器（如 Nginx、Netlify、Vercel 等）或与 FastAPI 集成（通过模板渲染）。\n",
      "\n",
      "---\n",
      "\n",
      "### 2. **使用模板引擎（前后端不分离）**\n",
      "如果你希望前端和后端紧密耦合，可以使用 FastAPI 的模板引擎来渲染 HTML 页面。\n",
      "\n",
      "- **推荐模板引擎：**\n",
      "  - **Jinja2**：FastAPI 支持 Jinja2 模板引擎，适合简单的动态页面渲染。\n",
      "  - **其他模板引擎**：如 Mako、Chameleon 等，但需要手动集成。\n",
      "\n",
      "- **开发流程：**\n",
      "  1. 在 FastAPI 中定义路由，返回渲染后的 HTML 页面。\n",
      "  2. 适合需要 SEO 优化的项目，或者不需要复杂前端交互的场景。\n",
      "\n",
      "---\n",
      "\n",
      "### 3. **使用前端框架 + 模板引擎的混合模式**\n",
      "在某些情况下，你可以结合独立的前端框架和模板引擎，实现更灵活的开发。\n",
      "\n",
      "- **示例场景：**\n",
      "  - 使用 Jinja2 渲染基础页面结构，同时在前端页面中嵌入 React 或 Vue.js 组件。\n",
      "  - 适合需要动态渲染页面，同时又有复杂前端交互的项目。\n",
      "\n",
      "---\n",
      "\n",
      "### 4. **使用全栈框架（如 Next.js、Nuxt.js）**\n",
      "如果你希望使用全栈框架来同时处理前端和后端逻辑，可以考虑以下方案：\n",
      "\n",
      "- **Next.js（React）**：适合需要 SSR（服务器端渲染）或静态生成的 React 应用。\n",
      "- **Nuxt.js（Vue.js）**：适合需要 SSR 或静态生成的 Vue.js 应用。\n",
      "\n",
      "- **开发流程：**\n",
      "  1. 使用 Next.js 或 Nuxt.js 构建前端页面。\n",
      "  2. 通过 FastAPI 提供 API 接口，供前端调用。\n",
      "\n",
      "---\n",
      "\n",
      "### 5. **使用低代码/无代码工具**\n",
      "如果你希望快速搭建前端界面，可以使用低代码或无代码工具。\n",
      "\n",
      "- **推荐工具：**\n",
      "  - **Streamlit**：适合数据科学类项目，快速构建交互式 Web 应用。\n",
      "  - **Dash（基于 Python）**：适合数据可视化类项目。\n",
      "  - **Bubble、Webflow**：适合非开发人员快速构建前端。\n",
      "\n",
      "---\n",
      "\n",
      "### 6. **使用 WebSocket 实现实时前端**\n",
      "如果你的项目需要实时通信（如聊天应用、实时数据更新），可以结合 FastAPI 的 WebSocket 功能。\n",
      "\n",
      "- **前端实现：**\n",
      "  - 使用前端框架（如 React、Vue.js）结合 WebSocket API 或库（如 `socket.io-client`）实现实时通信。\n",
      "\n",
      "---\n",
      "\n",
      "### 7. **使用静态站点生成器**\n",
      "如果你的项目主要是静态内容，可以使用静态站点生成器。\n",
      "\n",
      "- **推荐工具：**\n",
      "  - **Gatsby（React）**：适合构建高性能的静态站点。\n",
      "  - **Hugo、Jekyll**：适合简单的静态站点。\n",
      "\n",
      "---\n",
      "\n",
      "### 选择建议：\n",
      "- 如果你的项目需要复杂的前端交互，推荐使用 **React 或 Vue.js** 作为独立前端。\n",
      "- 如果你的项目主要是简单的动态页面，推荐使用 **Jinja2 模板引擎**。\n",
      "- 如果你需要快速开发，可以考虑 **Streamlit 或 Dash**。\n",
      "- 如果你需要实时通信，可以结合 **WebSocket**。\n",
      "\n",
      "最终选择取决于你的项目需求、团队技术栈以及开发效率的权衡。\n",
      "save_dialog_chunk >>>  user_id='user2' thread_id='new_thread' dialouge_id='1743477843002-758' created_at=1743477843.002574 chunk_type=<ChunkType.AI_MESSAGE: 'ai_message'> input_messages=[] output_text='在搭建 FastAPI 的前端时，你有多种选择，具体取决于你的项目需求、技术栈偏好以及团队的经验。以下是一些常见的方式：\\n\\n---\\n\\n### 1. **独立的前端框架（前后端分离）**\\n如果你希望前后端完全分离，可以使用独立的前端框架来构建用户界面，并通过 FastAPI 提供的 API 进行数据交互。\\n\\n- **推荐框架：**\\n  - **React**：目前最流行的前端框架之一，生态丰富，适合复杂的前端应用。\\n  - **Vue.js**：轻量易用，适合中小型项目或快速开发。\\n  - **Angular**：适合大型企业级应用，但学习曲线较陡。\\n  - **Svelte**：新兴框架，性能优秀，适合对性能要求高的项目。\\n\\n- **开发流程：**\\n  1. 前端和后端分别开发，前端通过 `fetch` 或 `axios` 调用 FastAPI 的接口。\\n  2. 前端项目可以部署在静态服务器（如 Nginx、Netlify、Vercel 等）或与 FastAPI 集成（通过模板渲染）。\\n\\n---\\n\\n### 2. **使用模板引擎（前后端不分离）**\\n如果你希望前端和后端紧密耦合，可以使用 FastAPI 的模板引擎来渲染 HTML 页面。\\n\\n- **推荐模板引擎：**\\n  - **Jinja2**：FastAPI 支持 Jinja2 模板引擎，适合简单的动态页面渲染。\\n  - **其他模板引擎**：如 Mako、Chameleon 等，但需要手动集成。\\n\\n- **开发流程：**\\n  1. 在 FastAPI 中定义路由，返回渲染后的 HTML 页面。\\n  2. 适合需要 SEO 优化的项目，或者不需要复杂前端交互的场景。\\n\\n---\\n\\n### 3. **使用前端框架 + 模板引擎的混合模式**\\n在某些情况下，你可以结合独立的前端框架和模板引擎，实现更灵活的开发。\\n\\n- **示例场景：**\\n  - 使用 Jinja2 渲染基础页面结构，同时在前端页面中嵌入 React 或 Vue.js 组件。\\n  - 适合需要动态渲染页面，同时又有复杂前端交互的项目。\\n\\n---\\n\\n### 4. **使用全栈框架（如 Next.js、Nuxt.js）**\\n如果你希望使用全栈框架来同时处理前端和后端逻辑，可以考虑以下方案：\\n\\n- **Next.js（React）**：适合需要 SSR（服务器端渲染）或静态生成的 React 应用。\\n- **Nuxt.js（Vue.js）**：适合需要 SSR 或静态生成的 Vue.js 应用。\\n\\n- **开发流程：**\\n  1. 使用 Next.js 或 Nuxt.js 构建前端页面。\\n  2. 通过 FastAPI 提供 API 接口，供前端调用。\\n\\n---\\n\\n### 5. **使用低代码/无代码工具**\\n如果你希望快速搭建前端界面，可以使用低代码或无代码工具。\\n\\n- **推荐工具：**\\n  - **Streamlit**：适合数据科学类项目，快速构建交互式 Web 应用。\\n  - **Dash（基于 Python）**：适合数据可视化类项目。\\n  - **Bubble、Webflow**：适合非开发人员快速构建前端。\\n\\n---\\n\\n### 6. **使用 WebSocket 实现实时前端**\\n如果你的项目需要实时通信（如聊天应用、实时数据更新），可以结合 FastAPI 的 WebSocket 功能。\\n\\n- **前端实现：**\\n  - 使用前端框架（如 React、Vue.js）结合 WebSocket API 或库（如 `socket.io-client`）实现实时通信。\\n\\n---\\n\\n### 7. **使用静态站点生成器**\\n如果你的项目主要是静态内容，可以使用静态站点生成器。\\n\\n- **推荐工具：**\\n  - **Gatsby（React）**：适合构建高性能的静态站点。\\n  - **Hugo、Jekyll**：适合简单的静态站点。\\n\\n---\\n\\n### 选择建议：\\n- 如果你的项目需要复杂的前端交互，推荐使用 **React 或 Vue.js** 作为独立前端。\\n- 如果你的项目主要是简单的动态页面，推荐使用 **Jinja2 模板引擎**。\\n- 如果你需要快速开发，可以考虑 **Streamlit 或 Dash**。\\n- 如果你需要实时通信，可以结合 **WebSocket**。\\n\\n最终选择取决于你的项目需求、团队技术栈以及开发效率的权衡。' tool_calls=[]\n"
     ]
    }
   ],
   "source": [
    "async for chunk in a.chat(\n",
    "    messages=\"你认为我该使用什么方式搭建fastapi的前端？\",\n",
    "    user_id=\"user2\",\n",
    "    thread_id=\"new_thread\"\n",
    "    \n",
    "):\n",
    "    print(chunk['output_text'], end=\"\")\n"
   ]
  },
  {
   "cell_type": "code",
   "execution_count": 8,
   "id": "6221c740-71a5-42fb-a919-2aec61cd3e87",
   "metadata": {},
   "outputs": [
    {
     "data": {
      "text/plain": [
       "[('mem-default-[开发]技术栈偏好-3e64d73d5c684f1c8e64f60839815f2b284a762447d6e56b0e56d1650a355dbd',\n",
       "  MemoryQA(user_id='default', topic='[开发]技术栈偏好', question_hash='3e64d73d5c684f1c8e64f60839815f2b284a762447d6e56b0e56d1650a355dbd', question='用户对UI开发技术栈的要求是？', answer='使用「yarn」而非npm，习惯使用「TypeScript」和「Next.js」「我喜欢使用yarn而不是npm」', created_at=1743474780.887326)),\n",
       " ('mem-default-[格式]输出风格-b997a7cb65aa28dd27f1c4cfbb3559002f97f1030ea9a8ba1a2b2fb889237136',\n",
       "  MemoryQA(user_id='default', topic='[格式]输出风格', question_hash='b997a7cb65aa28dd27f1c4cfbb3559002f97f1030ea9a8ba1a2b2fb889237136', question='用户对输出风格的要求是？', answer='简洁「希望输出结果简洁」', created_at=1743475255.568179))]"
      ]
     },
     "execution_count": 8,
     "metadata": {},
     "output_type": "execute_result"
    }
   ],
   "source": [
    "db.items(prefix=\"mem\")"
   ]
  },
  {
   "cell_type": "code",
   "execution_count": 2,
   "id": "52be310c-3fff-4692-9a3b-3e452e5d6c55",
   "metadata": {},
   "outputs": [
    {
     "name": "stdout",
     "output_type": "stream",
     "text": [
      "<think>\n",
      "好的，我现在需要比较9.11和9.9这两个数的大小。首先，我应该明确这两个数的结构。它们都是小数，但写法不同。用户可能是在问这两个数值哪个更大，但可能对小数点的理解有误。\n",
      "\n",
      "首先，我需要确定这两个数的正确数值。通常，小数点后的数字代表的是十分位、百分位等。例如，9.11实际上是9加上11/100，也就是9.11。而9.9则是9加上9/10，也就是9.90。这时候比较的话，9.11的十分位是1，而9.9的十分位是9，所以看起来9.9更大？但这里可能有问题，因为用户可能将9.11误解为9点11，比如时间中的9小时11分，但数值上应该是9.11。\n",
      "\n",
      "不过，正确的数值比较应该是逐位比较。先比较整数部分，都是9，所以相等。然后比较十分位，9.11的十分位是1，而9.9的十分位是9。这时候，因为9比1大，所以9.9实际上更大。但这里可能有一个常见的误解，就是用户可能认为9.11比9.9大，因为11比9大，但忽略了小数点后的位数不同。正确的做法是将它们写成相同位数，比如9.90和9.11，这时候9.90的十分位是9，确实比9.11大。\n",
      "\n",
      "所以，正确的结论是9.9比9.11大。但需要向用户解释清楚小数点的比较方法，避免误解。\n",
      "</think>\n",
      "\n",
      "9.9 比 9.11 大。\n",
      "\n",
      "比较方法：\n",
      "1. 先比较整数部分：两者都是 9 → 平手\n",
      "2. 比较十分位：\n",
      "   - 9.9 的十分位是 9\n",
      "   - 9.11 的十分位是 1\n",
      "   - 9 > 1 → 9.9 胜出\n",
      "\n",
      "可以这样理解：\n",
      "9.9 = 9.90\n",
      "9.90 > 9.11（因为第1位小数 9 > 1）\n",
      "\n",
      "常见误解提醒：不要因为 11 > 9 就认为 9.11 更大，小数比较是从左到右逐位进行的。"
     ]
    }
   ],
   "source": [
    "from illufly.llm import ChatAgent\n",
    "\n",
    "a = ChatAgent(model=\"deepseek-r1\")\n",
    "async for chunk in a.chat(messages=\"9.11和9.9哪个大？\"):\n",
    "    print(chunk['output_text'], end=\"\")"
   ]
  },
  {
   "cell_type": "code",
   "execution_count": 2,
   "id": "800e60d7-f44b-4620-a701-0b74e51cf420",
   "metadata": {},
   "outputs": [
    {
     "name": "stdout",
     "output_type": "stream",
     "text": [
      "[{'tool_id': 'call_SUZWzJQyFdn0sz0e6yGequBK', 'name': 'get_current_weather', 'arguments': '{\"location\":\"Tokyo, Japan\"}'}]\n"
     ]
    }
   ],
   "source": [
    "from illufly.llm import ChatAgent\n",
    "\n",
    "a = ChatAgent(model=\"gpt-4o-mini\")\n",
    "def get_current_weather(location, unit=\"fahrenheit\"):\n",
    "    \"\"\"Get the current weather in a given location\"\"\"\n",
    "    if \"tokyo\" in location.lower():\n",
    "        return json.dumps({\"location\": \"Tokyo\", \"temperature\": \"10\", \"unit\": \"celsius\"})\n",
    "    elif \"san francisco\" in location.lower():\n",
    "        return json.dumps({\"location\": \"San Francisco\", \"temperature\": \"72\", \"unit\": \"fahrenheit\"})\n",
    "    elif \"paris\" in location.lower():\n",
    "        return json.dumps({\"location\": \"Paris\", \"temperature\": \"22\", \"unit\": \"celsius\"})\n",
    "    else:\n",
    "        return json.dumps({\"location\": location, \"temperature\": \"unknown\"})\n",
    "\n",
    "tools = [\n",
    "    {\n",
    "        \"type\": \"function\",\n",
    "        \"function\": {\n",
    "            \"name\": \"get_current_weather\",\n",
    "            \"description\": \"Get the current weather in a given location\",\n",
    "            \"parameters\": {\n",
    "                \"type\": \"object\",\n",
    "                \"properties\": {\n",
    "                    \"location\": {\n",
    "                        \"type\": \"string\",\n",
    "                        \"description\": \"The city and state, e.g. San Francisco, CA\",\n",
    "                    },\n",
    "                    \"unit\": {\"type\": \"string\", \"enum\": [\"celsius\", \"fahrenheit\"]},\n",
    "                },\n",
    "                \"required\": [\"location\"],\n",
    "            },\n",
    "        },\n",
    "    }\n",
    "]\n",
    "\n",
    "resp = a.chat(messages=\"东京天气如何？\", tools=tools)\n",
    "async for x in resp:\n",
    "    if x.get('tool_calls', None):\n",
    "        print(x['tool_calls'])\n",
    "    if x.get('chunk_type', None) == 'ai_delta':\n",
    "        print(x['output_text'])"
   ]
  },
  {
   "cell_type": "code",
   "execution_count": 8,
   "id": "4bb5f1a8-e7f8-472e-9b31-5ec389f95fde",
   "metadata": {},
   "outputs": [
    {
     "name": "stdout",
     "output_type": "stream",
     "text": [
      "这张图片展示了一片宁静的海面和远处的海岸线。天空呈现出明亮的蓝色，上面飘着一些白色的云朵。海面上有轻微的波纹，反射出天空的颜色。在右侧可以看到一些树木和岩石，为画面增添了一些自然的元素。整体给人一种平静、宽广的感觉。"
     ]
    }
   ],
   "source": [
    "from illufly.llm import ChatAgent\n",
    "\n",
    "a = ChatAgent(model = \"glm-4v-flash\", imitator=\"ZHIPU\")\n",
    "async for x in a.chat(\n",
    "    messages=[\n",
    "       {\n",
    "        \"role\": \"user\",\n",
    "        \"content\": [\n",
    "          {\n",
    "            \"type\": \"text\",\n",
    "            \"text\": \"图里有什么\"\n",
    "          },\n",
    "          {\n",
    "            \"type\": \"image_url\",\n",
    "            \"image_url\": {\n",
    "                \"url\" : \"https://img1.baidu.com/it/u=1369931113,3388870256&fm=253&app=138&size=w931&n=0&f=JPEG&fmt=auto?sec=1703696400&t=f3028c7a1dca43a080aeb8239f09cc2f\"\n",
    "            }\n",
    "          }\n",
    "        ]\n",
    "      }\n",
    "]):\n",
    "    if x.get('tool_calls', None):\n",
    "        print(x['tool_calls'])\n",
    "    if x.get('chunk_type', None).value == 'ai_delta':\n",
    "        print(x['output_text'], end=\"\")\n",
    "        "
   ]
  },
  {
   "cell_type": "code",
   "execution_count": null,
   "id": "d4d6948b-2e35-44a9-8751-d273b2b3c1e3",
   "metadata": {},
   "outputs": [],
   "source": []
  },
  {
   "cell_type": "code",
   "execution_count": null,
   "id": "6a16547f-303c-4c3d-b9a9-d9f70cfb634c",
   "metadata": {},
   "outputs": [],
   "source": []
  }
 ],
 "metadata": {
  "kernelspec": {
   "display_name": "Python 3 (ipykernel)",
   "language": "python",
   "name": "python3"
  },
  "language_info": {
   "codemirror_mode": {
    "name": "ipython",
    "version": 3
   },
   "file_extension": ".py",
   "mimetype": "text/x-python",
   "name": "python",
   "nbconvert_exporter": "python",
   "pygments_lexer": "ipython3",
   "version": "3.11.7"
  }
 },
 "nbformat": 4,
 "nbformat_minor": 5
}
