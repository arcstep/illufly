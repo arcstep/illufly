{
 "cells": [
  {
   "cell_type": "code",
   "execution_count": 8,
   "id": "5dc8f7e7-bf2e-46f1-82d5-b2ab05706bb2",
   "metadata": {},
   "outputs": [],
   "source": [
    "from illufly.llm import ChromaRetriever"
   ]
  },
  {
   "cell_type": "code",
   "execution_count": 2,
   "id": "55ef021d-3422-4c62-bac9-6406c5cc5814",
   "metadata": {},
   "outputs": [],
   "source": [
    "cr = ChromaRetriever()"
   ]
  },
  {
   "cell_type": "code",
   "execution_count": 5,
   "id": "cc581f23-0704-4acd-9fac-d1748e9e0dc6",
   "metadata": {},
   "outputs": [
    {
     "data": {
      "text/plain": [
       "Collection(name=memory)"
      ]
     },
     "execution_count": 5,
     "metadata": {},
     "output_type": "execute_result"
    }
   ],
   "source": [
    "cr.get_or_create_collection(\"memory\")"
   ]
  },
  {
   "cell_type": "code",
   "execution_count": 3,
   "id": "54453e68-21ac-4213-9df4-15204c73b5f2",
   "metadata": {},
   "outputs": [],
   "source": [
    "await cr.add([\n",
    "    \"嗨嗨嗨，朋友\", \"你吃了吗\", \"我吃了炸鸡\", \"hi\", \"早啊，亲爱的\", \"我是广州鸿蒙信息科技有限公司\",\n",
    "    \"我有一只小猫\", \"我也喜欢狗狗\", \"我喜欢跑步\", \"我想旅游但是去的不多\", \"我做软件开发\",\n",
    "    \"我有一只小猫\", \"我也喜欢狗狗\", \"我喜欢跑步\", \"我想旅游但是去的不多\", \"我做软件开发\",\n",
    "])"
   ]
  },
  {
   "cell_type": "code",
   "execution_count": 10,
   "id": "e49797c5-e285-4156-8810-07bb09d04e83",
   "metadata": {},
   "outputs": [],
   "source": [
    "await cr.add([\n",
    "    \"普鸿公司做智慧消防业务\"\n",
    "], user_id=\"1\")"
   ]
  },
  {
   "cell_type": "code",
   "execution_count": 12,
   "id": "fac8d4a0-5d67-4b93-ad39-b3a7f03f4696",
   "metadata": {},
   "outputs": [
    {
     "data": {
      "text/plain": [
       "[{'text': '你吃什么了早餐？',\n",
       "  'ids': ['79cbeb7da631e86be9d6dfc5bbadfa26',\n",
       "   '40031b9dbca4c3bcb7c0ebf239de5240',\n",
       "   '5b7fb1b6a592dce28e62e38fca6ed974'],\n",
       "  'documents': ['你吃了吗', '我吃了炸鸡', '早啊，亲爱的'],\n",
       "  'distances': [0.4127485752105713, 0.6277028918266296, 0.6792593598365784]},\n",
       " {'text': '你吃什么了？',\n",
       "  'ids': ['79cbeb7da631e86be9d6dfc5bbadfa26',\n",
       "   '40031b9dbca4c3bcb7c0ebf239de5240',\n",
       "   'fdc4888267f21038b7d834dd5ac8c7bb'],\n",
       "  'documents': ['你吃了吗', '我吃了炸鸡', '嗨嗨嗨，朋友'],\n",
       "  'distances': [0.19663870334625244, 0.482491135597229, 0.6754228472709656]}]"
      ]
     },
     "execution_count": 12,
     "metadata": {},
     "output_type": "execute_result"
    }
   ],
   "source": [
    "resp = await cr.query([\"你吃什么了早餐？\", \"你吃什么了？\"], user_id=\"default\", query_config={\"n_results\": 3}, threshold=1)\n",
    "resp"
   ]
  },
  {
   "cell_type": "code",
   "execution_count": 7,
   "id": "31a30aeb-b495-4254-9ec6-5560d6afb37b",
   "metadata": {},
   "outputs": [
    {
     "data": {
      "text/plain": [
       "[]"
      ]
     },
     "execution_count": 7,
     "metadata": {},
     "output_type": "execute_result"
    }
   ],
   "source": [
    "resp[0]['documents']"
   ]
  },
  {
   "cell_type": "code",
   "execution_count": 12,
   "id": "f2a9e2d4-aab1-410b-9820-8d32d2d302bd",
   "metadata": {},
   "outputs": [
    {
     "name": "stderr",
     "output_type": "stream",
     "text": [
      "2025-03-31 19:18:29 - chromadb.segment.impl.metadata.sqlite - WARNING - Delete of nonexisting embedding ID: 40031b9dbca4c3bcb7c0ebf239de5240\n",
      "2025-03-31 19:18:29 - chromadb.segment.impl.vector.local_hnsw - WARNING - Delete of nonexisting embedding ID: 40031b9dbca4c3bcb7c0ebf239de5240\n"
     ]
    }
   ],
   "source": [
    "cr.delete(['我吃了炸鸡', '早啊，亲爱的'])"
   ]
  },
  {
   "cell_type": "code",
   "execution_count": 7,
   "id": "6bcdbd52-3523-4bd3-9268-dad49d6ed4e7",
   "metadata": {},
   "outputs": [
    {
     "ename": "TypeError",
     "evalue": "unhashable type: 'dict'",
     "output_type": "error",
     "traceback": [
      "\u001b[0;31m---------------------------------------------------------------------------\u001b[0m",
      "\u001b[0;31mTypeError\u001b[0m                                 Traceback (most recent call last)",
      "Cell \u001b[0;32mIn[7], line 1\u001b[0m\n\u001b[0;32m----> 1\u001b[0m \u001b[38;5;28;43mset\u001b[39;49m\u001b[43m(\u001b[49m\u001b[43m[\u001b[49m\u001b[38;5;241;43m1\u001b[39;49m\u001b[43m,\u001b[49m\u001b[38;5;241;43m2\u001b[39;49m\u001b[43m,\u001b[49m\u001b[38;5;241;43m2\u001b[39;49m\u001b[43m,\u001b[49m\u001b[43m{\u001b[49m\u001b[38;5;124;43m\"\u001b[39;49m\u001b[38;5;124;43ma\u001b[39;49m\u001b[38;5;124;43m\"\u001b[39;49m\u001b[43m:\u001b[49m\u001b[43m \u001b[49m\u001b[38;5;241;43m23\u001b[39;49m\u001b[43m}\u001b[49m\u001b[43m]\u001b[49m\u001b[43m)\u001b[49m\n",
      "\u001b[0;31mTypeError\u001b[0m: unhashable type: 'dict'"
     ]
    }
   ],
   "source": []
  },
  {
   "cell_type": "code",
   "execution_count": null,
   "id": "9e07bbaf-a327-4472-9f4c-cb493fb1cb30",
   "metadata": {},
   "outputs": [],
   "source": []
  }
 ],
 "metadata": {
  "kernelspec": {
   "display_name": "Python 3 (ipykernel)",
   "language": "python",
   "name": "python3"
  },
  "language_info": {
   "codemirror_mode": {
    "name": "ipython",
    "version": 3
   },
   "file_extension": ".py",
   "mimetype": "text/x-python",
   "name": "python",
   "nbconvert_exporter": "python",
   "pygments_lexer": "ipython3",
   "version": "3.11.7"
  }
 },
 "nbformat": 4,
 "nbformat_minor": 5
}
