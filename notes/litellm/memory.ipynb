{
 "cells": [
  {
   "cell_type": "code",
   "execution_count": 1,
   "id": "3fe40af0-8a00-485e-924b-242f6f52f88d",
   "metadata": {},
   "outputs": [],
   "source": [
    "from illufly.llm import MemoryTopic, MemoryQA"
   ]
  },
  {
   "cell_type": "code",
   "execution_count": 2,
   "id": "8290cbd9-46cc-4dad-821a-08ffa8bf2598",
   "metadata": {},
   "outputs": [
    {
     "data": {
      "text/plain": [
       "MemoryTopic(user_id=None, created_at=1743300829.801975, topic_text='hi', topic_text_hash='8f434346648f6b96df89dda901c5176b10a6d83961dd3c1ac88b59b2dc327aa4')"
      ]
     },
     "execution_count": 2,
     "metadata": {},
     "output_type": "execute_result"
    }
   ],
   "source": [
    "a = MemoryTopic(topic_text=\"hi\")\n",
    "a"
   ]
  },
  {
   "cell_type": "code",
   "execution_count": 3,
   "id": "0c17d03f-8a6d-4c41-90fa-cf88bad19eb8",
   "metadata": {},
   "outputs": [
    {
     "data": {
      "text/plain": [
       "{'user_id': None,\n",
       " 'created_at': 1743300829.801975,\n",
       " 'topic_text': 'hi',\n",
       " 'topic_text_hash': '8f434346648f6b96df89dda901c5176b10a6d83961dd3c1ac88b59b2dc327aa4'}"
      ]
     },
     "execution_count": 3,
     "metadata": {},
     "output_type": "execute_result"
    }
   ],
   "source": [
    "a.model_dump()"
   ]
  },
  {
   "cell_type": "code",
   "execution_count": 4,
   "id": "c1d4c5b7-21ff-4a3e-b8b1-cbd38362bef8",
   "metadata": {},
   "outputs": [],
   "source": [
    "a.topic_text=\"abc\""
   ]
  },
  {
   "cell_type": "code",
   "execution_count": 5,
   "id": "3b92d64c-371c-44f0-bab6-ad40abfa12d7",
   "metadata": {},
   "outputs": [
    {
     "data": {
      "text/plain": [
       "{'user_id': None,\n",
       " 'created_at': 1743300664.49215,\n",
       " 'topic_text': 'abc',\n",
       " 'topic_text_hash': 'ba7816bf8f01cfea414140de5dae2223b00361a396177a9cb410ff61f20015ad'}"
      ]
     },
     "execution_count": 5,
     "metadata": {},
     "output_type": "execute_result"
    }
   ],
   "source": [
    "a.model_dump()"
   ]
  },
  {
   "cell_type": "code",
   "execution_count": 9,
   "id": "826b5625-274f-48e0-9ae9-ac043dccd622",
   "metadata": {},
   "outputs": [
    {
     "data": {
      "text/plain": [
       "[         主题            问题                   答案\n",
       " 0  [计算]比较策略  用户对数字比较的要求是？  按小数点后逐位比较「记住这个计算策略」\n",
       " 1  [UI]按钮颜色     用户偏好什么色调？          蓝色系，透明度≤50%]"
      ]
     },
     "execution_count": 9,
     "metadata": {},
     "output_type": "execute_result"
    }
   ],
   "source": [
    "import pandas as pd\n",
    "import re\n",
    "import html\n",
    "\n",
    "def safe_extract_markdown_tables(md_text):\n",
    "    \"\"\"安全提取Markdown表格为结构化数据（支持多表）\"\"\"\n",
    "    tables = []\n",
    "    # 匹配所有表格（非贪婪模式）\n",
    "    table_blocks = re.finditer(\n",
    "        r'\\|(.+?)\\|\\n\\|([\\-: ]+\\|)+\\n((?:\\|.*\\|\\n?)+)',\n",
    "        md_text,\n",
    "        re.DOTALL\n",
    "    )\n",
    "    \n",
    "    for table in table_blocks:\n",
    "        try:\n",
    "            headers = [h.strip() for h in table.group(1).split('|') if h.strip()]\n",
    "            rows = []\n",
    "            \n",
    "            for row in table.group(3).split('\\n'):\n",
    "                if not row.strip():\n",
    "                    continue\n",
    "                cells = [\n",
    "                    html.unescape(cell).strip() \n",
    "                    for cell in row.split('|')[1:-1]\n",
    "                ]\n",
    "                if len(cells) == len(headers):\n",
    "                    rows.append(cells)\n",
    "            \n",
    "            if headers and rows:\n",
    "                tables.append(pd.DataFrame(rows, columns=headers))\n",
    "        except Exception as e:\n",
    "            print(f\"表格解析失败: {e}\")\n",
    "    \n",
    "    return tables\n",
    "\n",
    "# 测试用例\n",
    "md_table = \"\"\"\n",
    "```markdown\n",
    "| 主题           | 问题                     | 答案                  |\n",
    "|---------------|-------------------------|----------------------|\n",
    "| [计算]比较策略 | 用户对数字比较的要求是？ | 按小数点后逐位比较「记住这个计算策略」 |\n",
    "| [UI]按钮颜色  | 用户偏好什么色调？       | 蓝色系，透明度≤50%     |\n",
    "```\n",
    "\"\"\"\n",
    "\n",
    "tables = safe_extract_markdown_tables(md_table)\n",
    "tables\n",
    "# # 使用示例\n",
    "# tables = safe_extract_markdown_tables(md_table)\n",
    "# for df in tables:\n",
    "#     print(df.to_dict('records'))"
   ]
  },
  {
   "cell_type": "code",
   "execution_count": 14,
   "id": "86069863-6230-454d-b41d-36e3b0f86385",
   "metadata": {},
   "outputs": [
    {
     "data": {
      "text/plain": [
       "{'主题': {0: '[计算]比较策略', 1: '[UI]按钮颜色'},\n",
       " '问题': {0: '用户对数字比较的要求是？', 1: '用户偏好什么色调？'},\n",
       " '答案': {0: '按小数点后逐位比较「记住这个计算策略」', 1: '蓝色系，透明度≤50%'}}"
      ]
     },
     "execution_count": 14,
     "metadata": {},
     "output_type": "execute_result"
    }
   ],
   "source": [
    "tables[0].to_dict()"
   ]
  },
  {
   "cell_type": "code",
   "execution_count": null,
   "id": "fcc10b5d-78f2-45c7-aeda-e473ff079bda",
   "metadata": {},
   "outputs": [],
   "source": []
  }
 ],
 "metadata": {
  "kernelspec": {
   "display_name": "Python 3 (ipykernel)",
   "language": "python",
   "name": "python3"
  },
  "language_info": {
   "codemirror_mode": {
    "name": "ipython",
    "version": 3
   },
   "file_extension": ".py",
   "mimetype": "text/x-python",
   "name": "python",
   "nbconvert_exporter": "python",
   "pygments_lexer": "ipython3",
   "version": "3.11.7"
  }
 },
 "nbformat": 4,
 "nbformat_minor": 5
}
