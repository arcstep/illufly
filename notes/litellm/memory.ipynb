{
 "cells": [
  {
   "cell_type": "code",
   "execution_count": null,
   "id": "3fe40af0-8a00-485e-924b-242f6f52f88d",
   "metadata": {},
   "outputs": [],
   "source": [
    "from illufly.llm import Memory, LiteLLM\n",
    "from illufly.rocksdb import IndexedRocksDB\n",
    "\n",
    "db = IndexedRocksDB(\"__DB2__\")"
   ]
  },
  {
   "cell_type": "code",
   "execution_count": 7,
   "id": "1ac09721-5134-4583-976b-58ffc482d686",
   "metadata": {},
   "outputs": [],
   "source": [
    "llm = LiteLLM(model=\"qwen-plus\", imitator=\"QWEN\")\n",
    "memory = Memory(llm, memory_db=db)"
   ]
  },
  {
   "cell_type": "code",
   "execution_count": 19,
   "id": "cef0e639-ba8d-4088-ab98-b610b1309db8",
   "metadata": {},
   "outputs": [
    {
     "name": "stderr",
     "output_type": "stream",
     "text": [
      "2025-04-01 11:10:17 - chromadb.segment.impl.vector.local_hnsw - WARNING - Number of requested results 10 is greater than number of elements in index 2, updating n_results = 2\n"
     ]
    },
    {
     "name": "stdout",
     "output_type": "stream",
     "text": [
      "\n",
      "memory.retrieve >>>  |[计算]比较策略|用户对数字比较的要求是？|按小数点后逐位比较「记住这个计算策略」|\n",
      "\n",
      "memory.extract >>> No tables extract\n"
     ]
    }
   ],
   "source": [
    "await memory.extract([\n",
    "    {\"role\": \"user\", \n",
    "     \"content\": \"\"\"\n",
    "| 主题           | 问题                     | 答案                  |\n",
    "|---------------|-------------------------|----------------------|\n",
    "| [计算]比较策略 | 用户对数字比较的要求是？ | 按小数点后逐位比较「记住这个计算策略」 |\n",
    "| [UI]按钮颜色  | 用户偏好什么色调？       | 蓝色系，透明度≤50%     |\n",
    "\"\"\"}])"
   ]
  },
  {
   "cell_type": "code",
   "execution_count": 18,
   "id": "cdb477e0-1856-4f88-b908-74d66d2f7579",
   "metadata": {},
   "outputs": [
    {
     "data": {
      "text/plain": [
       "[MemoryQA(user_id='default', topic='[计算]比较策略', question_hash='f28e2cd498d0fe64f8a1811e7645433e75e68a45bd736e41796623ccaadee2c3', question='用户对数字比较的要求是？', answer='按小数点后逐位比较「记住这个计算策略」', created_at=1743476116.065413)]"
      ]
     },
     "execution_count": 18,
     "metadata": {},
     "output_type": "execute_result"
    }
   ],
   "source": [
    "db.values()"
   ]
  },
  {
   "cell_type": "code",
   "execution_count": 17,
   "id": "5e30d712-754a-45b0-a39d-ec9c709cc695",
   "metadata": {},
   "outputs": [
    {
     "name": "stderr",
     "output_type": "stream",
     "text": [
      "2025-04-01 11:05:32 - chromadb.segment.impl.vector.local_hnsw - WARNING - Number of requested results 10 is greater than number of elements in index 2, updating n_results = 2\n"
     ]
    },
    {
     "name": "stdout",
     "output_type": "stream",
     "text": [
      "[{'text': 'user: 你能帮我设计一个UI吗', 'ids': ['cead50c666178048863872bc74737520', '1eba2cc4181e5944e967010f7f167067'], 'metadatas': [{'answer': '按小数点后逐位比较「记住这个计算策略」', 'created_at': 1743476116.065413, 'question': '用户对数字比较的要求是？', 'topic': '[计算]比较策略', 'user_id': 'default'}, {'answer': '按小数点后逐位比较「记住这个计算策略」', 'created_at': 1743476116.065413, 'question': '用户对数字比较的要求是？', 'topic': '[计算]比较策略', 'user_id': 'default'}], 'documents': ['用户对数字比较的要求是？', '按小数点后逐位比较「记住这个计算策略」'], 'distances': [0.7199002504348755, 0.7561813592910767]}]\n",
      "\n",
      "memory.retrieve >>>  |[计算]比较策略|用户对数字比较的要求是？|按小数点后逐位比较「记住这个计算策略」|\n"
     ]
    }
   ],
   "source": [
    "input_messages = [{\n",
    "    \"role\": \"user\",\n",
    "    \"content\": \"你能帮我设计一个UI吗\"\n",
    "}]\n",
    "CHROMA_COLLECTION = \"memory\"\n",
    "results = await memory.retriver.query(\n",
    "            texts=[memory.from_messages_to_text(input_messages)],\n",
    "            user_id=\"default\",\n",
    "            collection_name=CHROMA_COLLECTION,\n",
    "            threshold=2,\n",
    "            query_config={\"n_results\": 10}\n",
    "        )\n",
    "print(results)\n",
    "items = [f'|{r[\"topic\"]}|{r[\"question\"]}|{r[\"answer\"]}|' for r in results[0][\"metadatas\"]]\n",
    "uniq_items = \"\\n\".join(list(dict.fromkeys(items)))\n",
    "print(\"\\nmemory.retrieve >>> \", uniq_items)\n"
   ]
  },
  {
   "cell_type": "code",
   "execution_count": 9,
   "id": "826b5625-274f-48e0-9ae9-ac043dccd622",
   "metadata": {},
   "outputs": [
    {
     "data": {
      "text/plain": [
       "[         主题            问题                   答案\n",
       " 0  [计算]比较策略  用户对数字比较的要求是？  按小数点后逐位比较「记住这个计算策略」\n",
       " 1  [UI]按钮颜色     用户偏好什么色调？          蓝色系，透明度≤50%]"
      ]
     },
     "execution_count": 9,
     "metadata": {},
     "output_type": "execute_result"
    }
   ],
   "source": [
    "import pandas as pd\n",
    "import re\n",
    "import html\n",
    "\n",
    "def safe_extract_markdown_tables(md_text):\n",
    "    \"\"\"安全提取Markdown表格为结构化数据（支持多表）\"\"\"\n",
    "    tables = []\n",
    "    # 匹配所有表格（非贪婪模式）\n",
    "    table_blocks = re.finditer(\n",
    "        r'\\|(.+?)\\|\\n\\|([\\-: ]+\\|)+\\n((?:\\|.*\\|\\n?)+)',\n",
    "        md_text,\n",
    "        re.DOTALL\n",
    "    )\n",
    "    \n",
    "    for table in table_blocks:\n",
    "        try:\n",
    "            headers = [h.strip() for h in table.group(1).split('|') if h.strip()]\n",
    "            rows = []\n",
    "            \n",
    "            for row in table.group(3).split('\\n'):\n",
    "                if not row.strip():\n",
    "                    continue\n",
    "                cells = [\n",
    "                    html.unescape(cell).strip() \n",
    "                    for cell in row.split('|')[1:-1]\n",
    "                ]\n",
    "                if len(cells) == len(headers):\n",
    "                    rows.append(cells)\n",
    "            \n",
    "            if headers and rows:\n",
    "                tables.append(pd.DataFrame(rows, columns=headers))\n",
    "        except Exception as e:\n",
    "            print(f\"表格解析失败: {e}\")\n",
    "    \n",
    "    return tables\n",
    "\n",
    "# 测试用例\n",
    "md_table = \"\"\"\n",
    "```markdown\n",
    "| 主题           | 问题                     | 答案                  |\n",
    "|---------------|-------------------------|----------------------|\n",
    "| [计算]比较策略 | 用户对数字比较的要求是？ | 按小数点后逐位比较「记住这个计算策略」 |\n",
    "| [UI]按钮颜色  | 用户偏好什么色调？       | 蓝色系，透明度≤50%     |\n",
    "```\n",
    "\"\"\"\n",
    "\n",
    "tables = safe_extract_markdown_tables(md_table)\n",
    "tables\n",
    "# # 使用示例\n",
    "# tables = safe_extract_markdown_tables(md_table)\n",
    "# for df in tables:\n",
    "#     print(df.to_dict('records'))"
   ]
  },
  {
   "cell_type": "code",
   "execution_count": 14,
   "id": "86069863-6230-454d-b41d-36e3b0f86385",
   "metadata": {},
   "outputs": [
    {
     "data": {
      "text/plain": [
       "{'主题': {0: '[计算]比较策略', 1: '[UI]按钮颜色'},\n",
       " '问题': {0: '用户对数字比较的要求是？', 1: '用户偏好什么色调？'},\n",
       " '答案': {0: '按小数点后逐位比较「记住这个计算策略」', 1: '蓝色系，透明度≤50%'}}"
      ]
     },
     "execution_count": 14,
     "metadata": {},
     "output_type": "execute_result"
    }
   ],
   "source": [
    "tables[0].to_dict()"
   ]
  },
  {
   "cell_type": "code",
   "execution_count": null,
   "id": "fcc10b5d-78f2-45c7-aeda-e473ff079bda",
   "metadata": {},
   "outputs": [],
   "source": []
  }
 ],
 "metadata": {
  "kernelspec": {
   "display_name": "Python 3 (ipykernel)",
   "language": "python",
   "name": "python3"
  },
  "language_info": {
   "codemirror_mode": {
    "name": "ipython",
    "version": 3
   },
   "file_extension": ".py",
   "mimetype": "text/x-python",
   "name": "python",
   "nbconvert_exporter": "python",
   "pygments_lexer": "ipython3",
   "version": "3.11.7"
  }
 },
 "nbformat": 4,
 "nbformat_minor": 5
}
