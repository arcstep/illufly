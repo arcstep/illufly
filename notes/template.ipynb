{
 "cells": [
  {
   "cell_type": "markdown",
   "id": "20c21029-0066-4e5e-8956-8b500aebf3a9",
   "metadata": {},
   "source": [
    "# 提示语管理"
   ]
  },
  {
   "cell_type": "markdown",
   "id": "972e9ca3-3bb9-483a-a268-fcaadca5955f",
   "metadata": {},
   "source": [
    "## Hub"
   ]
  },
  {
   "cell_type": "code",
   "execution_count": 14,
   "id": "989736c9-e81d-4eec-94bd-a53b7f814f17",
   "metadata": {},
   "outputs": [],
   "source": [
    "from textlong.hub import load_resource_chat_template, load_chat_template"
   ]
  },
  {
   "cell_type": "code",
   "execution_count": 2,
   "id": "fc500651-60f8-48f9-910a-d7d4d8a23e26",
   "metadata": {},
   "outputs": [
    {
     "data": {
      "text/plain": [
       "PromptTemplate(input_variables=['task'], template='你是强大的写作助手。\\n\\n你必须遵循以下约束来完成任务:\\n1. 直接输出你的结果，不要评论，不要啰嗦\\n2. 使用markdown格式输出\\n\\n**你的任务是:**\\n{{task}}\\n', template_format='mustache')"
      ]
     },
     "execution_count": 2,
     "metadata": {},
     "output_type": "execute_result"
    }
   ],
   "source": [
    "load_resource_chat_template(\"IDEA\")"
   ]
  },
  {
   "cell_type": "code",
   "execution_count": 15,
   "id": "b50db90c-c71a-4802-a483-78d0ba434456",
   "metadata": {},
   "outputs": [
    {
     "data": {
      "text/plain": [
       "PromptTemplate(input_variables=['task'], template='你是强大的写作助手。\\n\\n你必须遵循以下约束来完成任务:\\n1. 直接输出你的结果，不要评论，不要啰嗦\\n2. 使用markdown格式输出\\n3. 请按照需要输出一份写作提纲\\n4. 提纲的构成应当由多个阔系额要求构成\\n5. 扩写要求必须包含清晰描述，如预估字数、创意要点、创作思路、创作中涉及到的实体名称等\\n5. 每一个扩写要求由完整的 `<OUTLINE>`和`</OUTLINE>` 包裹\\n6. 你只能输出提纲，不要输出具体的扩写内容\\n\\n**你的任务是:**\\n{{task}}\\n\\n\\n**输出例子1**\\n```\\n# 第一章 标题1\\n## 一、XXXX\\n<OUTLINE>\\n扩写摘要:\\n对扩写内容做摘要总结\\n\\n扩写要求：\\n- xxx\\n- xxx\\n</OUTLINE>\\n\\n## 二、XXXX\\n<OUTLINE>\\n</OUTLINE>\\n\\n## （更多扩写提纲）\\n```\\n\\n', template_format='mustache')"
      ]
     },
     "execution_count": 15,
     "metadata": {},
     "output_type": "execute_result"
    }
   ],
   "source": [
    "load_chat_template(\"OUTLINE\")"
   ]
  },
  {
   "cell_type": "markdown",
   "id": "e022eb2f-c670-430c-b06e-1e4b18963043",
   "metadata": {},
   "source": [
    "## 模板"
   ]
  },
  {
   "cell_type": "code",
   "execution_count": 1,
   "id": "ead5b752-95ab-4cf1-80ab-d17e8f660cf7",
   "metadata": {},
   "outputs": [],
   "source": [
    "from textlong.llm import ChatQwen, Pipe\n",
    "from textlong.llm.agent import Template\n",
    "from textlong.io import log, alog"
   ]
  },
  {
   "cell_type": "code",
   "execution_count": 2,
   "id": "92027a00-edb6-4001-99b7-19f21aeae3ca",
   "metadata": {},
   "outputs": [
    {
     "name": "stdout",
     "output_type": "stream",
     "text": [
      "[INFO] \u001b[34m你是强大的写作助手。\n",
      "\n",
      "你必须遵循以下约束来完成任务:\n",
      "1. 直接输出你的结果，不要评论，不要啰嗦\n",
      "2. 使用markdown格式输出\n",
      "\n",
      "**你的任务是:**\n",
      "请你帮我写一首4行儿歌\n",
      "\u001b[0m\n"
     ]
    },
    {
     "data": {
      "text/plain": [
       "'请开始'"
      ]
     },
     "execution_count": 2,
     "metadata": {},
     "output_type": "execute_result"
    }
   ],
   "source": [
    "t = Template(template=\"IDEA\")\n",
    "log(t, {\"task\": \"请你帮我写一首4行儿歌\"})\n",
    "t.output"
   ]
  },
  {
   "cell_type": "code",
   "execution_count": 3,
   "id": "abfb3dbc-8195-4ef6-aa2f-1ec9993896b5",
   "metadata": {},
   "outputs": [
    {
     "name": "stdout",
     "output_type": "stream",
     "text": [
      "\u001b[32m小\u001b[0m\u001b[32m蜜蜂\u001b[0m\u001b[32m，\u001b[0m\u001b[32m嗡嗡嗡，  \n",
      "\u001b[0m\u001b[32m飞到花丛中，  \n",
      "采\u001b[0m\u001b[32m花蜜，忙不停，  \n",
      "甜蜜\u001b[0m\u001b[32m带回家中。\u001b[0m\u001b[32m\u001b[0m\n",
      "\n"
     ]
    },
    {
     "data": {
      "text/plain": [
       "'小蜜蜂，嗡嗡嗡，  \\n飞到花丛中，  \\n采花蜜，忙不停，  \\n甜蜜带回家中。'"
      ]
     },
     "execution_count": 3,
     "metadata": {},
     "output_type": "execute_result"
    }
   ],
   "source": [
    "qwen = ChatQwen()\n",
    "log(qwen, t.memory)"
   ]
  },
  {
   "cell_type": "code",
   "execution_count": 4,
   "id": "6dd893ed-72b6-4e2b-bf6a-d352e1c5ca4f",
   "metadata": {},
   "outputs": [
    {
     "data": {
      "text/plain": [
       "True"
      ]
     },
     "execution_count": 4,
     "metadata": {},
     "output_type": "execute_result"
    }
   ],
   "source": [
    "from textlong.llm.agent import Runnable\n",
    "isinstance(qwen, Runnable)"
   ]
  },
  {
   "cell_type": "code",
   "execution_count": 5,
   "id": "889e1dfa-411c-46b1-80ae-0943b2baa22a",
   "metadata": {},
   "outputs": [
    {
     "data": {
      "text/plain": [
       "[{'role': 'system',\n",
       "  'content': '你是强大的写作助手。\\n\\n你必须遵循以下约束来完成任务:\\n1. 直接输出你的结果，不要评论，不要啰嗦\\n2. 使用markdown格式输出\\n\\n**你的任务是:**\\n请你帮我写一首4行儿歌\\n'},\n",
       " {'role': 'user', 'content': '请开始'},\n",
       " {'role': 'assistant', 'content': '小蜜蜂，嗡嗡嗡，  \\n飞到花丛中，  \\n采花蜜，忙不停，  \\n甜蜜带回家中。'}]"
      ]
     },
     "execution_count": 5,
     "metadata": {},
     "output_type": "execute_result"
    }
   ],
   "source": [
    "qwen.memory"
   ]
  },
  {
   "cell_type": "code",
   "execution_count": 6,
   "id": "ecdf6631-849e-418e-b6ae-4d8bdb1b9496",
   "metadata": {},
   "outputs": [],
   "source": [
    "pipe = Pipe([\n",
    "    Template(template=\"IDEA\"),\n",
    "    qwen\n",
    "])\n",
    "# pipe.start(t)\n",
    "# pipe.to(ChatQwen(), \"请帮我评价一下文章特色，两句话即可\")"
   ]
  },
  {
   "cell_type": "code",
   "execution_count": 7,
   "id": "97f296f2-3e99-4b72-943d-7768d55d2af9",
   "metadata": {},
   "outputs": [
    {
     "data": {
      "text/plain": [
       "Pipe(['Template', 'ChatQwen'])"
      ]
     },
     "execution_count": 7,
     "metadata": {},
     "output_type": "execute_result"
    }
   ],
   "source": [
    "pipe"
   ]
  },
  {
   "cell_type": "code",
   "execution_count": 8,
   "id": "43d5b707-d5e3-4285-8d6d-b84de92524d6",
   "metadata": {},
   "outputs": [
    {
     "name": "stdout",
     "output_type": "stream",
     "text": [
      "[INFO] \u001b[34m>>> PIPE START\u001b[0m\n",
      "[INFO] \u001b[34m你是强大的写作助手。\n",
      "\n",
      "你必须遵循以下约束来完成任务:\n",
      "1. 直接输出你的结果，不要评论，不要啰嗦\n",
      "2. 使用markdown格式输出\n",
      "\n",
      "**你的任务是:**\n",
      "请你帮我写一首4行儿歌\n",
      "\u001b[0m\n",
      "[INFO] \u001b[34m>>> PIPE NODE : \u001b[0m\n",
      "\u001b[32m小\u001b[0m\u001b[32m蚂蚁\u001b[0m\u001b[32m爬\u001b[0m\u001b[32m大树，  \n",
      "快乐得\u001b[0m\u001b[32m唱起歌，  \n",
      "太阳笑眯\u001b[0m\u001b[32m眯，  \n",
      "云朵轻轻飘过\u001b[0m\u001b[32m。\u001b[0m\u001b[32m\u001b[0m\n",
      "\n"
     ]
    },
    {
     "data": {
      "text/plain": [
       "'小蚂蚁爬大树，  \\n快乐得唱起歌，  \\n太阳笑眯眯，  \\n云朵轻轻飘过。'"
      ]
     },
     "execution_count": 8,
     "metadata": {},
     "output_type": "execute_result"
    }
   ],
   "source": [
    "log(pipe, {\"task\": \"请你帮我写一首4行儿歌\"})"
   ]
  },
  {
   "cell_type": "code",
   "execution_count": 9,
   "id": "d97f5cf3-d365-40c7-99f9-27e6e0dc9f89",
   "metadata": {},
   "outputs": [
    {
     "data": {
      "text/plain": [
       "[{'role': 'system',\n",
       "  'content': '你是强大的写作助手。\\n\\n你必须遵循以下约束来完成任务:\\n1. 直接输出你的结果，不要评论，不要啰嗦\\n2. 使用markdown格式输出\\n\\n**你的任务是:**\\n请你帮我写一首4行儿歌\\n'},\n",
       " {'role': 'user', 'content': '请开始'},\n",
       " {'role': 'assistant', 'content': '小蚂蚁爬大树，  \\n快乐得唱起歌，  \\n太阳笑眯眯，  \\n云朵轻轻飘过。'}]"
      ]
     },
     "execution_count": 9,
     "metadata": {},
     "output_type": "execute_result"
    }
   ],
   "source": [
    "qwen.memory"
   ]
  },
  {
   "cell_type": "code",
   "execution_count": 11,
   "id": "61f026ca-1a03-4224-aab9-695179323336",
   "metadata": {},
   "outputs": [
    {
     "name": "stdout",
     "output_type": "stream",
     "text": [
      "\u001b[32m小\u001b[0m\u001b[32m蜜蜂\u001b[0m\u001b[32m嗡\u001b[0m\u001b[32m嗡飞，\n",
      "花园里\u001b[0m\u001b[32m采花忙。\n",
      "甜蜂蜜做出来\u001b[0m\u001b[32m，大家尝一尝。\u001b[0m\u001b[32m\u001b[0m\n",
      "\n"
     ]
    },
    {
     "data": {
      "text/plain": [
       "'小蜜蜂嗡嗡飞，\\n花园里采花忙。\\n甜蜂蜜做出来，大家尝一尝。'"
      ]
     },
     "execution_count": 11,
     "metadata": {},
     "output_type": "execute_result"
    }
   ],
   "source": [
    "log(qwen, \"帮我写一首3句儿歌\")"
   ]
  },
  {
   "cell_type": "code",
   "execution_count": 10,
   "id": "8556151d-6570-4c0a-aae3-4eca60574027",
   "metadata": {},
   "outputs": [
    {
     "data": {
      "text/plain": [
       "[{'role': 'system',\n",
       "  'content': '你是强大的写作助手。\\n\\n你必须遵循以下约束来完成任务:\\n1. 直接输出你的结果，不要评论，不要啰嗦\\n2. 使用markdown格式输出\\n\\n**你的任务是:**\\n请你帮我写一首4行儿歌\\n'},\n",
       " {'role': 'user', 'content': '请开始'},\n",
       " {'role': 'assistant', 'content': '小蚂蚁爬大树，  \\n快乐得唱起歌，  \\n太阳笑眯眯，  \\n云朵轻轻飘过。'}]"
      ]
     },
     "execution_count": 10,
     "metadata": {},
     "output_type": "execute_result"
    }
   ],
   "source": [
    "qwen.memory"
   ]
  },
  {
   "cell_type": "code",
   "execution_count": 25,
   "id": "f1ab8217-3e44-49b2-9662-fadcd7b5928f",
   "metadata": {},
   "outputs": [
    {
     "name": "stdout",
     "output_type": "stream",
     "text": [
      "\u001b[32m小\u001b[0m\u001b[32m鱼\u001b[0m\u001b[32m儿\u001b[0m\u001b[32m，游啊游，\u001b[0m\u001b[32m  \n",
      "水里世界真自由，  \n",
      "\u001b[0m\u001b[32m摆尾巴，吐泡泡，  \n",
      "快乐\u001b[0m\u001b[32m在海底漫游。\u001b[0m\u001b[32m\u001b[0m\n",
      "\n"
     ]
    },
    {
     "data": {
      "text/plain": [
       "'小鱼儿，游啊游，  \\n水里世界真自由，  \\n摆尾巴，吐泡泡，  \\n快乐在海底漫游。'"
      ]
     },
     "execution_count": 25,
     "metadata": {},
     "output_type": "execute_result"
    }
   ],
   "source": [
    "log(qwen, \"改为小鱼儿\")"
   ]
  },
  {
   "cell_type": "code",
   "execution_count": 12,
   "id": "00ed2794-6d08-47ed-8e8e-57169255a5ad",
   "metadata": {},
   "outputs": [
    {
     "data": {
      "text/plain": [
       "[{'role': 'user', 'content': '请节点 <0> 处理任务'},\n",
       " {'role': 'assistant', 'content': '请开始'},\n",
       " {'role': 'user', 'content': '请节点 <1> 处理任务'},\n",
       " {'role': 'assistant', 'content': '小蚂蚁爬大树，  \\n快乐得唱起歌，  \\n太阳笑眯眯，  \\n云朵轻轻飘过。'}]"
      ]
     },
     "execution_count": 12,
     "metadata": {},
     "output_type": "execute_result"
    }
   ],
   "source": [
    "pipe.memory"
   ]
  },
  {
   "cell_type": "code",
   "execution_count": null,
   "id": "6e1a4af5-022a-4b04-8191-7478fb4a1b22",
   "metadata": {},
   "outputs": [],
   "source": []
  }
 ],
 "metadata": {
  "kernelspec": {
   "display_name": "textlong-same-ipykernel",
   "language": "python",
   "name": "textlong-same-ipykernel"
  },
  "language_info": {
   "codemirror_mode": {
    "name": "ipython",
    "version": 3
   },
   "file_extension": ".py",
   "mimetype": "text/x-python",
   "name": "python",
   "nbconvert_exporter": "python",
   "pygments_lexer": "ipython3",
   "version": "3.10.0"
  }
 },
 "nbformat": 4,
 "nbformat_minor": 5
}
