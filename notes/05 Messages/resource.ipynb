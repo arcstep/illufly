{
    "cells": [
        {
            "cell_type": "markdown",
            "id": "db565765-8cb5-491d-a985-de51af62ef66",
            "metadata": {},
            "source": [
                "## 多模态资源管理"
            ]
        },
        {
            "cell_type": "code",
            "execution_count": 1,
            "id": "f376e8dc-ed91-4c15-9d14-8061190aa094",
            "metadata": {},
            "outputs": [
                {
                    "data": {
                        "text/plain": [
                            "[[{'text': 'hi'}],\n",
                            " [{'image': 'a.png'}, {'text': '这是一个照片'}],\n",
                            " [{'image': 'b.png'}, {'text': '这是？'}]]"
                        ]
                    },
                    "execution_count": 1,
                    "metadata": {},
                    "output_type": "execute_result"
                }
            ],
            "source": [
                "from illufly.core.runnable.agent.resource_manager import ResourceManager\n",
                "\n",
                "res = ResourceManager([\"hi\", {\"image\": \"a.png\", \"text\": \"这是一个照片\"}, [{\"image\": \"b.png\"}, \"这是？\"]])\n",
                "[r.to_dict(style=\"qwen_vl\")['content'] for r in res.resources]"
            ]
        },
        {
            "cell_type": "code",
            "execution_count": 2,
            "id": "2aba5251-3855-4f9b-93d9-58b16356372e",
            "metadata": {},
            "outputs": [],
            "source": [
                "res.add_images(\"按你要求生成的\", [\"x.png\", \"y.png\"])"
            ]
        },
        {
            "cell_type": "code",
            "execution_count": 3,
            "id": "7a7d0a03-9d82-4caf-9cdb-9fb69ce98211",
            "metadata": {},
            "outputs": [],
            "source": [
                "res.add_images(\"我的肖像\", \"x.png\")"
            ]
        },
        {
            "cell_type": "code",
            "execution_count": 4,
            "id": "a23802ae-607b-461f-aeac-62de1b4c8ef0",
            "metadata": {},
            "outputs": [
                {
                    "data": {
                        "text/plain": [
                            "[HistoryMessage(role=resource, content=[{'text': 'hi'}]),\n",
                            " HistoryMessage(role=resource, content=[{'image': 'a.png'}, {'text': '这是一个照片'}]),\n",
                            " HistoryMessage(role=resource, content=[{'image': 'b.png'}, '这是？']),\n",
                            " HistoryMessage(role=resource, content=[{'image': 'x.png'}, {'image': 'y.png'}, {'text': '按你要求生成的'}]),\n",
                            " HistoryMessage(role=resource, content=[{'image': 'x.png'}, {'text': '我的肖像'}])]"
                        ]
                    },
                    "execution_count": 4,
                    "metadata": {},
                    "output_type": "execute_result"
                }
            ],
            "source": [
                "res.resources"
            ]
        },
        {
            "cell_type": "code",
            "execution_count": 5,
            "id": "8a0f3295-bc37-49d8-aff8-3c9c4bef3d04",
            "metadata": {},
            "outputs": [
                {
                    "data": {
                        "text/plain": [
                            "['hi', '这是一个照片', '这是？', '按你要求生成的', '我的肖像']"
                        ]
                    },
                    "execution_count": 5,
                    "metadata": {},
                    "output_type": "execute_result"
                }
            ],
            "source": [
                "res.get_text()"
            ]
        },
        {
            "cell_type": "code",
            "execution_count": 6,
            "id": "913dfdf9-3529-4577-ae20-ff2205ccf117",
            "metadata": {},
            "outputs": [
                {
                    "data": {
                        "text/plain": [
                            "['resource: hi',\n",
                            " 'resource: 图片 a.png, 这是一个照片',\n",
                            " 'resource: 图片 b.png, 这是？',\n",
                            " 'resource: 图片 x.png y.png, 按你要求生成的',\n",
                            " 'resource: 图片 x.png, 我的肖像']"
                        ]
                    },
                    "execution_count": 6,
                    "metadata": {},
                    "output_type": "execute_result"
                }
            ],
            "source": [
                "res.get_resources()"
            ]
        },
        {
            "cell_type": "code",
            "execution_count": 7,
            "id": "f1c75353-5001-40ac-ab00-7fccec734e22",
            "metadata": {},
            "outputs": [
                {
                    "data": {
                        "text/plain": [
                            "['hi', '这是一个照片', '这是？', '按你要求生成的', '我的肖像']"
                        ]
                    },
                    "execution_count": 7,
                    "metadata": {},
                    "output_type": "execute_result"
                }
            ],
            "source": [
                "[r.to_dict(style=\"text\")['content'] for r in res.resources]"
            ]
        },
        {
            "cell_type": "code",
            "execution_count": 8,
            "id": "b8fca586-0d36-47ef-89fb-2f11d37d25be",
            "metadata": {},
            "outputs": [
                {
                    "data": {
                        "text/plain": [
                            "[{'role': 'resource', 'content': [{'text': 'hi'}]},\n",
                            " {'role': 'resource', 'content': [{'image': 'a.png'}, {'text': '这是一个照片'}]},\n",
                            " {'role': 'resource', 'content': [{'image': 'b.png'}, {'text': '这是？'}]},\n",
                            " {'role': 'resource',\n",
                            "  'content': [{'image': 'x.png'}, {'image': 'y.png'}, {'text': '按你要求生成的'}]},\n",
                            " {'role': 'resource', 'content': [{'image': 'x.png'}, {'text': '我的肖像'}]}]"
                        ]
                    },
                    "execution_count": 8,
                    "metadata": {},
                    "output_type": "execute_result"
                }
            ],
            "source": [
                "res.to_messages()"
            ]
        },
        {
            "cell_type": "markdown",
            "id": "4e93b064-ee8d-4646-b4e4-13e3567fd9fb",
            "metadata": {},
            "source": [
                "## 在 BaseAgent 中使用资源"
            ]
        },
        {
            "cell_type": "code",
            "execution_count": 1,
            "id": "4eb4e453-69d2-4235-8306-4bc4b8f62ea5",
            "metadata": {},
            "outputs": [
                {
                    "data": {
                        "text/plain": [
                            "HistoryMessage(role=resource, content=[{'image': 'my.jpg'}, {'text': '这是我的肖像'}])"
                        ]
                    },
                    "execution_count": 1,
                    "metadata": {},
                    "output_type": "execute_result"
                }
            ],
            "source": [
                "from illufly.types import BaseAgent\n",
                "\n",
                "def hi():\n",
                "    return (\"hi\")\n",
                "a = BaseAgent(hi)\n",
                "a.add_images(\"这是我的肖像\", \"my.jpg\")"
            ]
        },
        {
            "cell_type": "code",
            "execution_count": 2,
            "id": "ba940374-2295-4900-a62d-dde640d36b76",
            "metadata": {},
            "outputs": [
                {
                    "data": {
                        "text/plain": [
                            "{'resources': 'resource: [图片] my.jpg, 这是我的肖像'}"
                        ]
                    },
                    "execution_count": 2,
                    "metadata": {},
                    "output_type": "execute_result"
                }
            ],
            "source": [
                "a.provider_dict"
            ]
        },
        {
            "cell_type": "code",
            "execution_count": null,
            "id": "a1c34b5f-d780-45c6-80a1-ee090717d6b2",
            "metadata": {},
            "outputs": [],
            "source": []
        }
    ],
    "metadata": {
        "kernelspec": {
            "display_name": "textlong-same-ipykernel",
            "language": "python",
            "name": "textlong-same-ipykernel"
        },
        "language_info": {
            "codemirror_mode": {
                "name": "ipython",
                "version": 3
            },
            "file_extension": ".py",
            "mimetype": "text/x-python",
            "name": "python",
            "nbconvert_exporter": "python",
            "pygments_lexer": "ipython3",
            "version": "3.10.0"
        }
    },
    "nbformat": 4,
    "nbformat_minor": 5
}