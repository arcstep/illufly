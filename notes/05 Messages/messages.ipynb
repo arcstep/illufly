{
 "cells": [
  {
   "cell_type": "code",
   "execution_count": 1,
   "id": "f180cbdf-533c-49ea-96a6-7097287a1f2b",
   "metadata": {},
   "outputs": [],
   "source": [
    "from illufly.types import Message, Messages, Template"
   ]
  },
  {
   "cell_type": "markdown",
   "id": "1d03fc94-88b9-4eee-ba84-43355f5a3c42",
   "metadata": {},
   "source": [
    "## role 生成规则"
   ]
  },
  {
   "cell_type": "markdown",
   "id": "7b41062c-18d6-4ab0-973f-e28bffed1753",
   "metadata": {},
   "source": [
    "### 规则1： 不指定时，首条是 system，system 后接 user，user 与 assistant 交替"
   ]
  },
  {
   "cell_type": "code",
   "execution_count": 2,
   "id": "3baacee8-d268-499a-b51a-479ae9a681b6",
   "metadata": {},
   "outputs": [
    {
     "data": {
      "text/plain": [
       "[{'role': 'system', 'content': 'hi'}]"
      ]
     },
     "execution_count": 2,
     "metadata": {},
     "output_type": "execute_result"
    }
   ],
   "source": [
    "Messages([\"hi\"]).to_list()"
   ]
  },
  {
   "cell_type": "code",
   "execution_count": 3,
   "id": "bb0cf2dd-c48c-446d-bd95-cc41ec701578",
   "metadata": {},
   "outputs": [
    {
     "data": {
      "text/plain": [
       "[{'role': 'system', 'content': 'hi'},\n",
       " {'role': 'user', 'content': '我很开心'},\n",
       " {'role': 'assistant', 'content': '我也很开心'}]"
      ]
     },
     "execution_count": 3,
     "metadata": {},
     "output_type": "execute_result"
    }
   ],
   "source": [
    "Messages([\"hi\", \"我很开心\", \"我也很开心\"]).to_list()"
   ]
  },
  {
   "cell_type": "code",
   "execution_count": 4,
   "id": "d664f664-6d80-4058-b432-93893e466a01",
   "metadata": {},
   "outputs": [
    {
     "data": {
      "text/plain": [
       "[{'role': 'system', 'content': '你是一个小说家。'},\n",
       " {'role': 'user', 'content': '帮我创作吧'},\n",
       " {'role': 'assistant', 'content': '从前有一个人很坏，他坏死了。\\n额，我是他说真的死了。'}]"
      ]
     },
     "execution_count": 4,
     "metadata": {},
     "output_type": "execute_result"
    }
   ],
   "source": [
    "Messages([\n",
    "    Template(text=\"你是一个小说家。\"),\n",
    "    \"帮我创作吧\",\n",
    "    \"从前有一个人很坏，他坏死了。\\n额，我是他说真的死了。\"\n",
    "]).to_list()"
   ]
  },
  {
   "cell_type": "code",
   "execution_count": 5,
   "id": "35da5d3b-722f-4b8d-88c1-328385fa63cf",
   "metadata": {},
   "outputs": [
    {
     "data": {
      "text/plain": [
       "[{'role': 'system', 'content': '你是一个小说家，帮我创作吧。'},\n",
       " {'role': 'user', 'content': '我这个小说很有趣哦，我结束了'}]"
      ]
     },
     "execution_count": 5,
     "metadata": {},
     "output_type": "execute_result"
    }
   ],
   "source": [
    "Messages([\n",
    "    (\"system\", Template(text=\"你是一个小说家，帮我创作吧。\")),\n",
    "    \"我这个小说很有趣哦，我结束了\",\n",
    "]).to_list()"
   ]
  },
  {
   "cell_type": "code",
   "execution_count": 6,
   "id": "0a0afdf7-dc5f-4fc4-b83d-3c1455334eba",
   "metadata": {},
   "outputs": [
    {
     "data": {
      "text/plain": [
       "[{'role': 'user', 'content': '你是一个小说家，帮我创作一个说。'},\n",
       " {'role': 'assistant', 'content': '我开始了'}]"
      ]
     },
     "execution_count": 6,
     "metadata": {},
     "output_type": "execute_result"
    }
   ],
   "source": [
    "Messages([\n",
    "    (\"user\", Template(text=\"你是一个小说家，帮我创作一个说。\")),\n",
    "    {\"role\": \"assistant\", \"content\": \"我开始了\"},\n",
    "]).to_list()"
   ]
  },
  {
   "cell_type": "markdown",
   "id": "2c4e6688-ddab-46be-b350-78081fb974a7",
   "metadata": {},
   "source": [
    "### 规则2：列表中允许出现字符串、Turple、Template、Message、Dict等类型"
   ]
  },
  {
   "cell_type": "code",
   "execution_count": 31,
   "id": "be527fe6-1a1c-4c3e-84a8-1e05506793b1",
   "metadata": {},
   "outputs": [
    {
     "data": {
      "text/plain": [
       "[<Template consumer_dict=set() text='你是一个小说家，帮我创作吧。'>, ('user', '请你开始')]"
      ]
     },
     "execution_count": 31,
     "metadata": {},
     "output_type": "execute_result"
    }
   ],
   "source": [
    "Messages([\n",
    "    Template(text=\"你是一个小说家，帮我创作吧。\"),\n",
    "    (\"user\", \"请你开始\")\n",
    "]).raw_messages"
   ]
  },
  {
   "cell_type": "code",
   "execution_count": 32,
   "id": "59846413-5d78-47e3-b174-428338c20a02",
   "metadata": {},
   "outputs": [
    {
     "data": {
      "text/plain": [
       "[{'role': 'system', 'content': '你是一个小说家，帮我创作吧。'},\n",
       " {'role': 'user', 'content': '请你开始'}]"
      ]
     },
     "execution_count": 32,
     "metadata": {},
     "output_type": "execute_result"
    }
   ],
   "source": [
    "Messages([\n",
    "    Template(text=\"你是一个小说家，帮我创作吧。\"),\n",
    "    (\"user\", \"请你开始\")\n",
    "]).to_list()"
   ]
  },
  {
   "cell_type": "markdown",
   "id": "c9a62514-8265-468f-8dfd-051e2dfe4322",
   "metadata": {},
   "source": [
    "### 规则3：允许用 ai 替代 assistant 作为 role 来声明，但会被替换为 assistant"
   ]
  },
  {
   "cell_type": "code",
   "execution_count": 33,
   "id": "0924be84-b295-46f2-bc37-98fb8702a1df",
   "metadata": {},
   "outputs": [
    {
     "data": {
      "text/plain": [
       "[{'role': 'user', 'content': '你是一个小说家，帮我创作一个说。'},\n",
       " {'role': 'assistant', 'content': '请你开始'}]"
      ]
     },
     "execution_count": 33,
     "metadata": {},
     "output_type": "execute_result"
    }
   ],
   "source": [
    "Messages([\n",
    "    (\"user\", Template(text=\"你是一个小说家，帮我创作一个说。\")),\n",
    "    (\"ai\", \"请你开始\")\n",
    "]).to_list()"
   ]
  },
  {
   "cell_type": "markdown",
   "id": "998593f0-0a53-4dbc-a13f-8cdc85394d13",
   "metadata": {},
   "source": [
    "## 多模态消息"
   ]
  },
  {
   "cell_type": "markdown",
   "id": "aa49604f-79f3-4b58-b737-3dead1cba28e",
   "metadata": {},
   "source": [
    "### 多模态消息的定义兼容原有格式"
   ]
  },
  {
   "cell_type": "code",
   "execution_count": 34,
   "id": "a257710f-bf66-49a5-b3b7-0186d690f38b",
   "metadata": {},
   "outputs": [
    {
     "data": {
      "text/plain": [
       "[{'role': 'user', 'content': [{'text': '你是一个小说家，帮我创作一个说。'}]},\n",
       " {'role': 'assistant', 'content': [{'text': '我开始了'}]},\n",
       " {'role': 'user', 'content': [{'text': '好'}]},\n",
       " {'role': 'assistant', 'content': [{'text': '我真的开始了'}]}]"
      ]
     },
     "execution_count": 34,
     "metadata": {},
     "output_type": "execute_result"
    }
   ],
   "source": [
    "Messages([\n",
    "    (\"user\", Template(text=\"你是一个小说家，帮我创作一个说。\")),\n",
    "    (\"ai\", \"我开始了\"),\n",
    "    {\"role\": \"user\", \"content\": \"好\"},\n",
    "    {\"role\": \"ai\", \"content\": \"我真的开始了\"},\n",
    "]).to_list(input_vars={}, style=\"qwen_vl\")"
   ]
  },
  {
   "cell_type": "code",
   "execution_count": 35,
   "id": "154a672b-d7bc-4281-8fb6-0a245abc73d0",
   "metadata": {},
   "outputs": [
    {
     "data": {
      "text/plain": [
       "'你是一个小说家，帮我创作一个说。'"
      ]
     },
     "execution_count": 35,
     "metadata": {},
     "output_type": "execute_result"
    }
   ],
   "source": [
    "Template(text=\"你是一个小说家，帮我创作一个说。\").format()"
   ]
  },
  {
   "cell_type": "markdown",
   "id": "eaf38146-2976-48bf-b9cc-ec6396d632af",
   "metadata": {},
   "source": [
    "### OpenAI风格的多模态消息格式"
   ]
  },
  {
   "cell_type": "code",
   "execution_count": 36,
   "id": "48de998d-7a56-4a93-a100-552575faf32f",
   "metadata": {},
   "outputs": [],
   "source": [
    "openai_msg = Messages(\n",
    "    [\n",
    "        {\n",
    "          \"role\": \"user\",\n",
    "          \"content\": [\n",
    "            {\n",
    "              \"type\": \"image_url\",\n",
    "              \"image_url\": {\n",
    "                \"url\": \"https://dashscope.oss-cn-beijing.aliyuncs.com/images/dog_and_girl.jpeg\"\n",
    "              }\n",
    "            },\n",
    "            {\n",
    "              \"type\": \"image_url\",\n",
    "              \"image_url\": {\n",
    "                \"url\": \"https://dashscope.oss-cn-beijing.aliyuncs.com/images/tiger.png\"\n",
    "              }\n",
    "            },\n",
    "            {\n",
    "              \"type\": \"text\",\n",
    "              \"text\": \"这些是什么\"\n",
    "            }\n",
    "          ]\n",
    "        }\n",
    "    ],\n",
    "    style=\"openai_vl\"\n",
    ")"
   ]
  },
  {
   "cell_type": "code",
   "execution_count": 37,
   "id": "fcdb2624-1f24-40b6-ab15-5c7e28ef5191",
   "metadata": {},
   "outputs": [
    {
     "data": {
      "text/plain": [
       "[{'role': 'user',\n",
       "  'content': [{'type': 'image_url',\n",
       "    'image_url': {'url': 'https://dashscope.oss-cn-beijing.aliyuncs.com/images/dog_and_girl.jpeg'}},\n",
       "   {'type': 'image_url',\n",
       "    'image_url': {'url': 'https://dashscope.oss-cn-beijing.aliyuncs.com/images/tiger.png'}},\n",
       "   {'type': 'text', 'text': '这些是什么'}]}]"
      ]
     },
     "execution_count": 37,
     "metadata": {},
     "output_type": "execute_result"
    }
   ],
   "source": [
    "openai_msg.to_list()"
   ]
  },
  {
   "cell_type": "code",
   "execution_count": 38,
   "id": "506c5cdf-fd46-458a-afd4-f05f01463b2f",
   "metadata": {},
   "outputs": [
    {
     "data": {
      "text/plain": [
       "[{'role': 'user',\n",
       "  'content': [{'image': 'https://dashscope.oss-cn-beijing.aliyuncs.com/images/dog_and_girl.jpeg'},\n",
       "   {'image': 'https://dashscope.oss-cn-beijing.aliyuncs.com/images/tiger.png'},\n",
       "   {'text': '这些是什么'}]}]"
      ]
     },
     "execution_count": 38,
     "metadata": {},
     "output_type": "execute_result"
    }
   ],
   "source": [
    "openai_msg.to_list(style=\"qwen_vl\")"
   ]
  },
  {
   "cell_type": "code",
   "execution_count": 39,
   "id": "c36a4e7f-182f-46a4-8187-a33a5c8a2a7a",
   "metadata": {},
   "outputs": [
    {
     "data": {
      "text/plain": [
       "[{'role': 'user', 'content': '这些是什么'}]"
      ]
     },
     "execution_count": 39,
     "metadata": {},
     "output_type": "execute_result"
    }
   ],
   "source": [
    "openai_msg.to_list(style=\"text\")"
   ]
  },
  {
   "cell_type": "markdown",
   "id": "dc25f0d7-fec3-40a4-9894-441f50de5e68",
   "metadata": {},
   "source": [
    "### 通义千问的多模态消息格式"
   ]
  },
  {
   "cell_type": "code",
   "execution_count": 40,
   "id": "95c97e3e-c768-487d-a695-c6f4f32a6133",
   "metadata": {},
   "outputs": [],
   "source": [
    "qwen_msg = Messages([\n",
    "    (\"user\", [\n",
    "        {'image': 'https://dashscope.oss-cn-beijing.aliyuncs.com/images/dog_and_girl.jpeg'},\n",
    "        {'image': 'https://dashscope.oss-cn-beijing.aliyuncs.com/images/tiger.png'},\n",
    "        {'text': '这些是什么'}\n",
    "    ])\n",
    "], style=\"qwen_vl\")"
   ]
  },
  {
   "cell_type": "code",
   "execution_count": 41,
   "id": "9569e9f6-9e55-4bfe-9724-cc2c9b7e64fe",
   "metadata": {},
   "outputs": [
    {
     "data": {
      "text/plain": [
       "[{'role': 'user',\n",
       "  'content': [{'image': 'https://dashscope.oss-cn-beijing.aliyuncs.com/images/dog_and_girl.jpeg'},\n",
       "   {'image': 'https://dashscope.oss-cn-beijing.aliyuncs.com/images/tiger.png'},\n",
       "   {'text': '这些是什么'}]}]"
      ]
     },
     "execution_count": 41,
     "metadata": {},
     "output_type": "execute_result"
    }
   ],
   "source": [
    "qwen_msg.to_list()"
   ]
  },
  {
   "cell_type": "code",
   "execution_count": 42,
   "id": "1fa1886f-0d67-47ad-8feb-68f9b69f5710",
   "metadata": {},
   "outputs": [
    {
     "data": {
      "text/plain": [
       "[{'role': 'user',\n",
       "  'content': [{'type': 'image_url',\n",
       "    'image_url': {'url': 'https://dashscope.oss-cn-beijing.aliyuncs.com/images/dog_and_girl.jpeg'}},\n",
       "   {'type': 'image_url',\n",
       "    'image_url': {'url': 'https://dashscope.oss-cn-beijing.aliyuncs.com/images/tiger.png'}},\n",
       "   {'type': 'text', 'text': '这些是什么'}]}]"
      ]
     },
     "execution_count": 42,
     "metadata": {},
     "output_type": "execute_result"
    }
   ],
   "source": [
    "qwen_msg.to_list(style=\"openai_vl\")"
   ]
  },
  {
   "cell_type": "code",
   "execution_count": 43,
   "id": "3eae3f96-c2b9-415e-8547-9838928fd2f4",
   "metadata": {},
   "outputs": [
    {
     "data": {
      "text/plain": [
       "[{'role': 'user', 'content': '这些是什么'}]"
      ]
     },
     "execution_count": 43,
     "metadata": {},
     "output_type": "execute_result"
    }
   ],
   "source": [
    "qwen_msg.to_list(style=\"text\")"
   ]
  },
  {
   "cell_type": "markdown",
   "id": "994bf855-3fd3-4af5-9f50-81ea6666f2a3",
   "metadata": {},
   "source": [
    "## 工具回调消息\n",
    "\n",
    "当消息列表中包含工具回调消息时，要求兼容："
   ]
  },
  {
   "cell_type": "markdown",
   "id": "8de5ba88-08bf-49a2-aa02-6a7c8f4f6afd",
   "metadata": {},
   "source": [
    "### 在消息列表中兼容工具消息"
   ]
  },
  {
   "cell_type": "code",
   "execution_count": 10,
   "id": "fbc57753-4d53-479a-9423-f0aa12ceddcf",
   "metadata": {},
   "outputs": [
    {
     "data": {
      "text/plain": [
       "[{'role': 'user', 'content': '几点了'},\n",
       " {'role': 'assistant',\n",
       "  'content': '',\n",
       "  'tool_calls': [{'index': 0,\n",
       "    'id': 'call_8b4dfce376834e2295a4ea',\n",
       "    'type': 'function',\n",
       "    'function': {'name': 'get_current_time', 'arguments': '{}'}}]},\n",
       " {'role': 'tool',\n",
       "  'content': '当前时间：2024-09-28 14:33:56。',\n",
       "  'tool_call_id': 'call_8b4dfce376834e2295a4ea',\n",
       "  'name': 'get_current_time'},\n",
       " {'role': 'assistant', 'content': '现在的时间是2024年9月28日 14点33分56秒。'},\n",
       " {'role': 'user', 'content': '现在几点了？'}]"
      ]
     },
     "execution_count": 10,
     "metadata": {},
     "output_type": "execute_result"
    }
   ],
   "source": [
    "from illufly.types import Messages\n",
    "\n",
    "messages = Messages([{'role': 'user', 'content': '几点了'},\n",
    " {'role': 'assistant',\n",
    "  'content': '',\n",
    "  'tool_calls': [{'index': 0,\n",
    "    'id': 'call_8b4dfce376834e2295a4ea',\n",
    "    'type': 'function',\n",
    "    'function': {'name': 'get_current_time', 'arguments': '{}'}}]},\n",
    " {'tool_call_id': 'call_8b4dfce376834e2295a4ea',\n",
    "  'role': 'tool',\n",
    "  'name': 'get_current_time',\n",
    "  'content': '当前时间：2024-09-28 14:33:56。'},\n",
    " {'role': 'assistant', 'content': '现在的时间是2024年9月28日 14点33分56秒。'},\n",
    " {'role': 'user', 'content': '现在几点了？'}])\n",
    "\n",
    "messages.to_list()"
   ]
  },
  {
   "cell_type": "markdown",
   "id": "7949b8f1-3a8b-4e0a-83ac-e2f34ea61b06",
   "metadata": {},
   "source": [
    "### 从文本消息转换为多模态消息"
   ]
  },
  {
   "cell_type": "code",
   "execution_count": 11,
   "id": "5f349eaa-762e-43af-9491-1799873e1f2a",
   "metadata": {},
   "outputs": [
    {
     "data": {
      "text/plain": [
       "[{'role': 'user', 'content': [{'type': 'text', 'text': '几点了'}]},\n",
       " {'role': 'assistant',\n",
       "  'content': [{'type': 'text', 'text': ''}],\n",
       "  'tool_calls': [{'index': 0,\n",
       "    'id': 'call_8b4dfce376834e2295a4ea',\n",
       "    'type': 'function',\n",
       "    'function': {'name': 'get_current_time', 'arguments': '{}'}}]},\n",
       " {'role': 'tool',\n",
       "  'content': [{'type': 'text', 'text': '当前时间：2024-09-28 14:33:56。'}],\n",
       "  'tool_call_id': 'call_8b4dfce376834e2295a4ea',\n",
       "  'name': 'get_current_time'},\n",
       " {'role': 'assistant',\n",
       "  'content': [{'type': 'text', 'text': '现在的时间是2024年9月28日 14点33分56秒。'}]},\n",
       " {'role': 'user', 'content': [{'type': 'text', 'text': '现在几点了？'}]}]"
      ]
     },
     "execution_count": 11,
     "metadata": {},
     "output_type": "execute_result"
    }
   ],
   "source": [
    "messages.to_list(style=\"openai_vl\")"
   ]
  },
  {
   "cell_type": "code",
   "execution_count": 12,
   "id": "64ae833c-9622-4202-bbe6-b891bf126437",
   "metadata": {},
   "outputs": [
    {
     "data": {
      "text/plain": [
       "[{'role': 'user', 'content': [{'text': '几点了'}]},\n",
       " {'role': 'assistant',\n",
       "  'content': [{'text': ''}],\n",
       "  'tool_calls': [{'index': 0,\n",
       "    'id': 'call_8b4dfce376834e2295a4ea',\n",
       "    'type': 'function',\n",
       "    'function': {'name': 'get_current_time', 'arguments': '{}'}}]},\n",
       " {'role': 'tool',\n",
       "  'content': [{'text': '当前时间：2024-09-28 14:33:56。'}],\n",
       "  'tool_call_id': 'call_8b4dfce376834e2295a4ea',\n",
       "  'name': 'get_current_time'},\n",
       " {'role': 'assistant', 'content': [{'text': '现在的时间是2024年9月28日 14点33分56秒。'}]},\n",
       " {'role': 'user', 'content': [{'text': '现在几点了？'}]}]"
      ]
     },
     "execution_count": 12,
     "metadata": {},
     "output_type": "execute_result"
    }
   ],
   "source": [
    "messages.to_list(style=\"qwen_vl\")"
   ]
  },
  {
   "cell_type": "code",
   "execution_count": 13,
   "id": "69072224-0fb9-447a-8a7c-387aae4a3b35",
   "metadata": {},
   "outputs": [
    {
     "data": {
      "text/plain": [
       "[{'role': 'user', 'content': '几点了'},\n",
       " {'role': 'assistant',\n",
       "  'content': '',\n",
       "  'tool_calls': [{'index': 0,\n",
       "    'id': 'call_8b4dfce376834e2295a4ea',\n",
       "    'type': 'function',\n",
       "    'function': {'name': 'get_current_time', 'arguments': '{}'}}]},\n",
       " {'tool_call_id': 'call_8b4dfce376834e2295a4ea',\n",
       "  'role': 'tool',\n",
       "  'name': 'get_current_time',\n",
       "  'content': '当前时间：2024-09-28 14:33:56。'},\n",
       " {'role': 'assistant', 'content': '现在的时间是2024年9月28日 14点33分56秒。'},\n",
       " {'role': 'user', 'content': '现在几点了？'}]"
      ]
     },
     "execution_count": 13,
     "metadata": {},
     "output_type": "execute_result"
    }
   ],
   "source": [
    "messages.raw_messages"
   ]
  },
  {
   "cell_type": "markdown",
   "id": "cd7e6e1e-62d0-4108-9460-ce6ca1679b78",
   "metadata": {},
   "source": [
    "## 在消息列表中包含提示语模板"
   ]
  },
  {
   "cell_type": "code",
   "execution_count": 1,
   "id": "a80b653a-c896-4b41-bd85-3ad367244166",
   "metadata": {},
   "outputs": [],
   "source": [
    "from illufly.types import Message, Messages, Template"
   ]
  },
  {
   "cell_type": "code",
   "execution_count": 2,
   "id": "2b28e62f-4a20-414b-8941-339f8cc83c18",
   "metadata": {},
   "outputs": [
    {
     "data": {
      "text/plain": [
       "[{'role': 'system', 'content': '你是一个小说家，帮我创作吧。'},\n",
       " {'role': 'user', 'content': '不错'}]"
      ]
     },
     "execution_count": 2,
     "metadata": {},
     "output_type": "execute_result"
    }
   ],
   "source": [
    "msgs = Messages([\n",
    "    Template(text=\"你是一个小说家，帮我创作吧。\"),\n",
    "    (\"user\", \"不错\"),\n",
    "])\n",
    "msgs.to_list()"
   ]
  },
  {
   "cell_type": "code",
   "execution_count": 4,
   "id": "ba59bfac-73b8-4fad-9dd0-64f5f55442ef",
   "metadata": {},
   "outputs": [
    {
     "data": {
      "text/plain": [
       "False"
      ]
     },
     "execution_count": 4,
     "metadata": {},
     "output_type": "execute_result"
    }
   ],
   "source": [
    "msgs.has_role(\"tool\")"
   ]
  },
  {
   "cell_type": "markdown",
   "id": "b222fb4b-e081-4e5a-b741-706f7942f8e9",
   "metadata": {},
   "source": [
    "### 模板输入变量映射"
   ]
  },
  {
   "cell_type": "code",
   "execution_count": 46,
   "id": "4851dc32-d85e-49eb-aa6e-b53d9d6554eb",
   "metadata": {},
   "outputs": [
    {
     "data": {
      "text/plain": [
       "[{'role': 'system', 'content': '你是一个小说家，帮我创作小说吧。'},\n",
       " {'role': 'user', 'content': '请开始'}]"
      ]
     },
     "execution_count": 46,
     "metadata": {},
     "output_type": "execute_result"
    }
   ],
   "source": [
    "Messages([\n",
    "    Template(text=\"你是一个小说家，帮我创作{{task}}吧。\"),\n",
    "    (\"user\", \"请开始\")\n",
    "]).to_list({\"task\": \"小说\"})"
   ]
  },
  {
   "cell_type": "markdown",
   "id": "d47a1fd6-990f-4564-8e0e-6a72f01d44d0",
   "metadata": {},
   "source": [
    "### 使用绑定映射模板变量"
   ]
  },
  {
   "cell_type": "code",
   "execution_count": 54,
   "id": "aaf511fb-1904-46b4-8926-1864f2a6c5ef",
   "metadata": {},
   "outputs": [
    {
     "data": {
      "text/plain": [
       "[{'role': 'system', 'content': '你是一个小说家，帮我创作帮我写一个小说吧。'},\n",
       " {'role': 'user', 'content': '请开始'}]"
      ]
     },
     "execution_count": 54,
     "metadata": {},
     "output_type": "execute_result"
    }
   ],
   "source": [
    "from illufly.types import Runnable\n",
    "\n",
    "class A(Runnable):\n",
    "    def call(self, prompt: str, **kwargs):\n",
    "        self._last_input = prompt\n",
    "\n",
    "# 模板已经声明\n",
    "t = Template(text=\"你是一个小说家，帮我创作{{last_input}}吧。\")\n",
    "\n",
    "# 完成绑定\n",
    "a = A()\n",
    "a.bind_consumers(t)\n",
    "\n",
    "# 动态修改了对象的 last_input 属性\n",
    "a(\"帮我写一个小说\")\n",
    "\n",
    "# 模板通过绑定获得 last_input 值\n",
    "Messages([t, \"请开始\"]).to_list({\"task\": \"小说\"})"
   ]
  },
  {
   "cell_type": "code",
   "execution_count": 56,
   "id": "a61f2a94-2a99-4b05-adad-56c3a9ee8c70",
   "metadata": {},
   "outputs": [
    {
     "data": {
      "text/plain": [
       "{'last_input': '帮我写一个小说'}"
      ]
     },
     "execution_count": 56,
     "metadata": {},
     "output_type": "execute_result"
    }
   ],
   "source": [
    "a.provider_dict"
   ]
  },
  {
   "cell_type": "code",
   "execution_count": 57,
   "id": "7a249139-178f-4dea-82a3-4e1ccbaaaa81",
   "metadata": {},
   "outputs": [
    {
     "data": {
      "text/plain": [
       "{'last_input': '帮我写一个小说'}"
      ]
     },
     "execution_count": 57,
     "metadata": {},
     "output_type": "execute_result"
    }
   ],
   "source": [
    "t.consumer_dict"
   ]
  }
 ],
 "metadata": {
  "kernelspec": {
   "display_name": "textlong-same-ipykernel",
   "language": "python",
   "name": "textlong-same-ipykernel"
  },
  "language_info": {
   "codemirror_mode": {
    "name": "ipython",
    "version": 3
   },
   "file_extension": ".py",
   "mimetype": "text/x-python",
   "name": "python",
   "nbconvert_exporter": "python",
   "pygments_lexer": "ipython3",
   "version": "3.10.0"
  }
 },
 "nbformat": 4,
 "nbformat_minor": 5
}
