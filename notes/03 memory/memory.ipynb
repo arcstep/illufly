{
 "cells": [
  {
   "cell_type": "code",
   "execution_count": 1,
   "metadata": {},
   "outputs": [],
   "source": [
    "from dotenv import load_dotenv, find_dotenv\n",
    "load_dotenv(find_dotenv(), override=True)\n",
    "import os"
   ]
  },
  {
   "cell_type": "code",
   "execution_count": 2,
   "metadata": {},
   "outputs": [],
   "source": [
    "from langchain.memory import ConversationBufferMemory, ConversationBufferWindowMemory\n",
    "win = ConversationBufferWindowMemory(k=20, return_messages=True)"
   ]
  },
  {
   "cell_type": "code",
   "execution_count": 3,
   "metadata": {},
   "outputs": [
    {
     "data": {
      "text/plain": [
       "[HumanMessage(content='hi'), AIMessage(content='我可以帮你什么?')]"
      ]
     },
     "execution_count": 3,
     "metadata": {},
     "output_type": "execute_result"
    }
   ],
   "source": [
    "win.chat_memory.add_user_message(\"hi\")\n",
    "win.chat_memory.add_ai_message(\"我可以帮你什么?\")\n",
    "win.buffer"
   ]
  },
  {
   "cell_type": "markdown",
   "metadata": {},
   "source": [
    "# 简单用法"
   ]
  },
  {
   "cell_type": "code",
   "execution_count": 4,
   "metadata": {},
   "outputs": [],
   "source": [
    "from langchain_core.prompts import ChatPromptTemplate, MessagesPlaceholder\n",
    "from langchain_zhipu import ChatZhipuAI\n",
    "from langchain_core.output_parsers import StrOutputParser\n",
    "\n",
    "# 定义chain\n",
    "model = ChatZhipuAI()\n",
    "prompt = ChatPromptTemplate.from_messages(\n",
    "    [\n",
    "        (\"system\", \"给我一个名字即可，不要输出其他。\"),\n",
    "        MessagesPlaceholder(variable_name=\"history\"),\n",
    "        (\"human\", \"{input}\"),\n",
    "    ]\n",
    ")\n",
    "chain = prompt | model"
   ]
  },
  {
   "cell_type": "code",
   "execution_count": 5,
   "metadata": {},
   "outputs": [],
   "source": [
    "from textlong.memory import MemoryManager, WithMemoryBinding\n",
    "\n",
    "# 定义记忆体\n",
    "memory = MemoryManager()\n",
    "\n",
    "# 记忆绑定管理\n",
    "withMemoryChain = WithMemoryBinding(chain, memory)"
   ]
  },
  {
   "cell_type": "code",
   "execution_count": 6,
   "metadata": {},
   "outputs": [
    {
     "data": {
      "text/plain": [
       "pydantic.main.RunnableWithChatHistoryInput"
      ]
     },
     "execution_count": 6,
     "metadata": {},
     "output_type": "execute_result"
    }
   ],
   "source": [
    "withMemoryChain.get_input_schema()"
   ]
  },
  {
   "cell_type": "code",
   "execution_count": 7,
   "metadata": {},
   "outputs": [
    {
     "data": {
      "text/plain": [
       "AIMessage(content='薛百合', response_metadata={'id': '202407230054467ef526b78ce74a05a18ed015593cf42d', 'created': 1721667287, 'token_usage': {'completion_tokens': 4, 'prompt_tokens': 38, 'total_tokens': 42}, 'model_name': 'glm-4-air', 'finish_reason': 'stop'}, id='run-b2bf86f4-80b6-47fe-acc2-ce41bf99b8d3-0')"
      ]
     },
     "execution_count": 7,
     "metadata": {},
     "output_type": "execute_result"
    }
   ],
   "source": [
    "withMemoryChain.invoke({\n",
    "    \"input\": \"我姓薛，我的孩子出生时我拿着一捧百合花到妻子面前，所以我的孩子叫\"}\n",
    ")"
   ]
  },
  {
   "cell_type": "code",
   "execution_count": 7,
   "metadata": {},
   "outputs": [
    {
     "data": {
      "text/plain": [
       "AIMessage(content='薛百合。', response_metadata={'id': '8760198949855519118', 'created': 1718696527, 'token_usage': {'completion_tokens': 5, 'prompt_tokens': 38, 'total_tokens': 43}, 'model_name': 'glm-4', 'finish_reason': 'stop'}, id='run-1eb44a23-30ad-437b-aff0-f23fa84ff1c6-0')"
      ]
     },
     "execution_count": 7,
     "metadata": {},
     "output_type": "execute_result"
    }
   ],
   "source": [
    "withMemoryChain.invoke({\n",
    "    \"input\": \"我姓薛，我的孩子出生时我拿着一捧百合花到妻子面前，所以我的孩子叫\"},\n",
    "    config={\"configurable\": {\"session_id\": \"1\"}}\n",
    ")"
   ]
  },
  {
   "cell_type": "code",
   "execution_count": 8,
   "metadata": {},
   "outputs": [
    {
     "data": {
      "text/plain": [
       "AIMessage(content='当然可以，那么名字可以是“林晨”。', response_metadata={'id': '8760194139491953919', 'created': 1718696530, 'token_usage': {'completion_tokens': 12, 'prompt_tokens': 49, 'total_tokens': 61}, 'model_name': 'glm-4', 'finish_reason': 'stop'}, id='run-a019af11-821e-485e-8077-4a79fb8c5ac3-0')"
      ]
     },
     "execution_count": 8,
     "metadata": {},
     "output_type": "execute_result"
    }
   ],
   "source": [
    "withMemoryChain.invoke({\n",
    "    \"input\": \"能换一个吗？\"},\n",
    "    config={\"configurable\": {\"session_id\": \"1\"}}\n",
    ")"
   ]
  },
  {
   "cell_type": "code",
   "execution_count": 9,
   "metadata": {},
   "outputs": [
    {
     "data": {
      "text/plain": [
       "[HumanMessage(content='我姓薛，我的孩子出生时我拿着一捧百合花到妻子面前，所以我的孩子叫'),\n",
       " AIMessage(content='薛百合。', response_metadata={'id': '8760198949855519118', 'created': 1718696527, 'token_usage': {'completion_tokens': 5, 'prompt_tokens': 38, 'total_tokens': 43}, 'model_name': 'glm-4', 'finish_reason': 'stop'}, id='run-1eb44a23-30ad-437b-aff0-f23fa84ff1c6-0'),\n",
       " HumanMessage(content='能换一个吗？'),\n",
       " AIMessage(content='当然可以，那么名字可以是“林晨”。', response_metadata={'id': '8760194139491953919', 'created': 1718696530, 'token_usage': {'completion_tokens': 12, 'prompt_tokens': 49, 'total_tokens': 61}, 'model_name': 'glm-4', 'finish_reason': 'stop'}, id='run-a019af11-821e-485e-8077-4a79fb8c5ac3-0')]"
      ]
     },
     "execution_count": 9,
     "metadata": {},
     "output_type": "execute_result"
    }
   ],
   "source": [
    "memory.get_memory(\"1\")"
   ]
  },
  {
   "cell_type": "code",
   "execution_count": 10,
   "metadata": {},
   "outputs": [
    {
     "data": {
      "text/plain": [
       "[HumanMessage(content='我姓薛，我的孩子出生时我拿着一捧百合花到妻子面前，所以我的孩子叫'),\n",
       " AIMessage(content='薛百合。', response_metadata={'id': '8760198949855519118', 'created': 1718696527, 'token_usage': {'completion_tokens': 5, 'prompt_tokens': 38, 'total_tokens': 43}, 'model_name': 'glm-4', 'finish_reason': 'stop'}, id='run-1eb44a23-30ad-437b-aff0-f23fa84ff1c6-0'),\n",
       " HumanMessage(content='能换一个吗？'),\n",
       " AIMessage(content='当然可以，那么名字可以是“林晨”。', response_metadata={'id': '8760194139491953919', 'created': 1718696530, 'token_usage': {'completion_tokens': 12, 'prompt_tokens': 49, 'total_tokens': 61}, 'model_name': 'glm-4', 'finish_reason': 'stop'}, id='run-a019af11-821e-485e-8077-4a79fb8c5ac3-0')]"
      ]
     },
     "execution_count": 10,
     "metadata": {},
     "output_type": "execute_result"
    }
   ],
   "source": [
    "memory.get_store(\"1\")"
   ]
  },
  {
   "cell_type": "code",
   "execution_count": 11,
   "metadata": {},
   "outputs": [
    {
     "data": {
      "text/plain": [
       "AIMessage(content='周茉。', response_metadata={'id': '8760183384893813089', 'created': 1718696532, 'token_usage': {'completion_tokens': 5, 'prompt_tokens': 38, 'total_tokens': 43}, 'model_name': 'glm-4', 'finish_reason': 'stop'}, id='run-2a75b120-082b-4476-ac17-2a6e29b54299-0')"
      ]
     },
     "execution_count": 11,
     "metadata": {},
     "output_type": "execute_result"
    }
   ],
   "source": [
    "withMemoryChain.invoke({\n",
    "    \"input\": \"我姓周，我的孩子出生时我拿着一捧茉莉花到妻子面前，所以我的孩子叫\"},\n",
    "    config={\"configurable\": {\"session_id\": \"2\"}}\n",
    ")"
   ]
  },
  {
   "cell_type": "code",
   "execution_count": 12,
   "metadata": {},
   "outputs": [
    {
     "data": {
      "text/plain": [
       "[HumanMessage(content='我姓周，我的孩子出生时我拿着一捧茉莉花到妻子面前，所以我的孩子叫'),\n",
       " AIMessage(content='周茉。', response_metadata={'id': '8760183384893813089', 'created': 1718696532, 'token_usage': {'completion_tokens': 5, 'prompt_tokens': 38, 'total_tokens': 43}, 'model_name': 'glm-4', 'finish_reason': 'stop'}, id='run-2a75b120-082b-4476-ac17-2a6e29b54299-0')]"
      ]
     },
     "execution_count": 12,
     "metadata": {},
     "output_type": "execute_result"
    }
   ],
   "source": [
    "memory.get_store(\"2\")"
   ]
  },
  {
   "cell_type": "code",
   "execution_count": 13,
   "metadata": {},
   "outputs": [
    {
     "data": {
      "text/plain": [
       "[]"
      ]
     },
     "execution_count": 13,
     "metadata": {},
     "output_type": "execute_result"
    }
   ],
   "source": [
    "memory.get_memory(\"3\")"
   ]
  },
  {
   "cell_type": "markdown",
   "metadata": {},
   "source": [
    "# LocalFile 持久化"
   ]
  },
  {
   "cell_type": "code",
   "execution_count": 7,
   "metadata": {},
   "outputs": [],
   "source": [
    "from langchain_core.prompts import ChatPromptTemplate, MessagesPlaceholder\n",
    "from langchain_zhipu import ChatZhipuAI\n",
    "from langchain_core.output_parsers import StrOutputParser\n",
    "\n",
    "# 定义chain\n",
    "model = ChatZhipuAI()\n",
    "prompt = ChatPromptTemplate.from_messages(\n",
    "    [\n",
    "        (\"system\", \"你是一个数学老师。\"),\n",
    "        MessagesPlaceholder(variable_name=\"history\"),\n",
    "        (\"human\", \"{input}\"),\n",
    "    ]\n",
    ")\n",
    "chain = prompt | model | StrOutputParser()"
   ]
  },
  {
   "cell_type": "code",
   "execution_count": 8,
   "metadata": {},
   "outputs": [],
   "source": [
    "from langchain.memory import ConversationBufferMemory, ConversationBufferWindowMemory\n",
    "from textlong.memory import LocalFileStore, MemoryManager, WithMemoryBinding, create_session_id\n",
    "\n",
    "# 定义记忆体\n",
    "memory = MemoryManager(\n",
    "    lambda session_id: LocalFileStore(session_id),\n",
    "    memory = ConversationBufferWindowMemory(return_messages=True, k=2)\n",
    ")\n",
    "\n",
    "# 记忆绑定管理\n",
    "withMemoryChain = WithMemoryBinding(chain, memory)"
   ]
  },
  {
   "cell_type": "code",
   "execution_count": 9,
   "metadata": {},
   "outputs": [
    {
     "data": {
      "text/plain": [
       "'2024-06-25-212241-9875-default_user'"
      ]
     },
     "execution_count": 9,
     "metadata": {},
     "output_type": "execute_result"
    }
   ],
   "source": [
    "session_id = create_session_id()\n",
    "session_id"
   ]
  },
  {
   "cell_type": "code",
   "execution_count": 10,
   "metadata": {},
   "outputs": [
    {
     "data": {
      "text/plain": [
       "'方程式是一个数学表达式，它表示两个表达式的值相等，通常包含一个或多个未知数，用等号“=”连接。在方程式中，未知数通常用字母（如x、y）来表示，目的是要找出这些未知数的值，使得等号两边的表达式相等。\\n\\n方程式的一般形式如下：\\n\\n\\\\[ A(x) = B(x) \\\\]\\n\\n其中，\\\\( A(x) \\\\)和\\\\( B(x) \\\\)是关于未知数\\\\( x \\\\)的表达式，可能包含常数项、变量项和它们的组合。\\n\\n例如，下面是一个简单的线性方程：\\n\\n\\\\[ 2x + 3 = 7 \\\\]\\n\\n要解这个方程，我们需要找出\\\\( x \\\\)的值，使得等号两边的表达式相等。在这个例子中，解是\\\\( x = 2 \\\\)，因为当\\\\( x \\\\)等于2时，\\\\( 2x + 3 \\\\)的值等于7。'"
      ]
     },
     "execution_count": 10,
     "metadata": {},
     "output_type": "execute_result"
    }
   ],
   "source": [
    "# 调用\n",
    "withMemoryChain.invoke(\n",
    "    {\"input\": \"方程式是什么意思?\"},\n",
    "    config={\"configurable\": {\"session_id\": session_id}}\n",
    ")"
   ]
  },
  {
   "cell_type": "code",
   "execution_count": 11,
   "metadata": {},
   "outputs": [
    {
     "data": {
      "text/plain": [
       "'当然可以！想象你有一袋糖果，你想把这些糖果平均分给几个朋友。但是你不知道每个朋友应该分到几个糖果，所以你用一个字母（比如“x”）来代表每个朋友分到的糖果数量。\\n\\n方程式就像是一个小秘密，告诉你糖果怎么分。比如这个方程：\\n\\n\\\\[ 3x = 9 \\\\]\\n\\n这个方程就像是说：“如果你把每份糖果的数量乘以3，就会得到总共9个糖果。”\\n\\n现在，你要找出“x”代表的数字，这样你就能知道每个朋友应该分到几个糖果了。这个方程的秘密是，如果你把9个糖果分成3份，每份就是3个糖果。所以，这里的“x”就是3。\\n\\n用简单的话说，方程就是这样一个问题：“什么东西乘以一个数（或者加上、减去另一个数）会得到一个特定的结果？”然后你要做的就是找出这个“东西”是多少。'"
      ]
     },
     "execution_count": 11,
     "metadata": {},
     "output_type": "execute_result"
    }
   ],
   "source": [
    "# 调用\n",
    "withMemoryChain.invoke(\n",
    "    {\"input\": \"你可以用小学生二年级语言给我解释吗?\"},\n",
    "    config={\"configurable\": {\"session_id\": session_id}}\n",
    ")"
   ]
  },
  {
   "cell_type": "code",
   "execution_count": 12,
   "metadata": {},
   "outputs": [
    {
     "data": {
      "text/plain": [
       "'不客气！如果你还有其他问题或者需要帮助，随时欢迎提问。祝你在数学学习的道路上越走越远！😊'"
      ]
     },
     "execution_count": 12,
     "metadata": {},
     "output_type": "execute_result"
    }
   ],
   "source": [
    "# 调用\n",
    "withMemoryChain.invoke(\n",
    "    {\"input\": \"那谢谢哦\"},\n",
    "    config={\"configurable\": {\"session_id\": session_id}}\n",
    ")"
   ]
  },
  {
   "cell_type": "code",
   "execution_count": 13,
   "metadata": {},
   "outputs": [
    {
     "name": "stdout",
     "output_type": "stream",
     "text": [
      "你|最初|的问题是|：“|你|是一个|数学|老师|。”| 你|在|设定|一个|角色|，|假设|我是一个|数学|老师|，|这样|我|就可以|用|这个|角色|来|帮助你|解答|数学|问题|。|如果你|有任何|数学|相关|的问题|，|都可以|继续|提问|。||"
     ]
    }
   ],
   "source": [
    "for chunk in withMemoryChain.stream(\n",
    "    {\"input\": \"我最初的问题是什么来着?\"},\n",
    "    config={\"configurable\": {\"session_id\": session_id}},\n",
    "):\n",
    "    print(chunk, end=\"|\", flush=True)"
   ]
  },
  {
   "cell_type": "code",
   "execution_count": 15,
   "metadata": {},
   "outputs": [
    {
     "data": {
      "text/plain": [
       "[HumanMessage(content='那谢谢哦'),\n",
       " AIMessage(content='不客气！如果你还有其他问题或者需要帮助，随时欢迎提问。祝你在数学学习的道路上越走越远！😊'),\n",
       " HumanMessage(content='我最初的问题是什么来着?'),\n",
       " AIMessage(content='你最初的问题是：“你是一个数学老师。” 你在设定一个角色，假设我是一个数学老师，这样我就可以用这个角色来帮助你解答数学问题。如果你有任何数学相关的问题，都可以继续提问。')]"
      ]
     },
     "execution_count": 15,
     "metadata": {},
     "output_type": "execute_result"
    }
   ],
   "source": [
    "memory.get_memory(session_id)"
   ]
  },
  {
   "cell_type": "code",
   "execution_count": 16,
   "metadata": {},
   "outputs": [
    {
     "data": {
      "text/plain": [
       "[HumanMessage(content='方程式是什么意思?'),\n",
       " AIMessage(content='方程式是一个数学表达式，它表示两个表达式的值相等，通常包含一个或多个未知数，用等号“=”连接。在方程式中，未知数通常用字母（如x、y）来表示，目的是要找出这些未知数的值，使得等号两边的表达式相等。\\n\\n方程式的一般形式如下：\\n\\n\\\\[ A(x) = B(x) \\\\]\\n\\n其中，\\\\( A(x) \\\\)和\\\\( B(x) \\\\)是关于未知数\\\\( x \\\\)的表达式，可能包含常数项、变量项和它们的组合。\\n\\n例如，下面是一个简单的线性方程：\\n\\n\\\\[ 2x + 3 = 7 \\\\]\\n\\n要解这个方程，我们需要找出\\\\( x \\\\)的值，使得等号两边的表达式相等。在这个例子中，解是\\\\( x = 2 \\\\)，因为当\\\\( x \\\\)等于2时，\\\\( 2x + 3 \\\\)的值等于7。'),\n",
       " HumanMessage(content='你可以用小学生二年级语言给我解释吗?'),\n",
       " AIMessage(content='当然可以！想象你有一袋糖果，你想把这些糖果平均分给几个朋友。但是你不知道每个朋友应该分到几个糖果，所以你用一个字母（比如“x”）来代表每个朋友分到的糖果数量。\\n\\n方程式就像是一个小秘密，告诉你糖果怎么分。比如这个方程：\\n\\n\\\\[ 3x = 9 \\\\]\\n\\n这个方程就像是说：“如果你把每份糖果的数量乘以3，就会得到总共9个糖果。”\\n\\n现在，你要找出“x”代表的数字，这样你就能知道每个朋友应该分到几个糖果了。这个方程的秘密是，如果你把9个糖果分成3份，每份就是3个糖果。所以，这里的“x”就是3。\\n\\n用简单的话说，方程就是这样一个问题：“什么东西乘以一个数（或者加上、减去另一个数）会得到一个特定的结果？”然后你要做的就是找出这个“东西”是多少。'),\n",
       " HumanMessage(content='那谢谢哦'),\n",
       " AIMessage(content='不客气！如果你还有其他问题或者需要帮助，随时欢迎提问。祝你在数学学习的道路上越走越远！😊'),\n",
       " HumanMessage(content='我最初的问题是什么来着?'),\n",
       " AIMessage(content='你最初的问题是：“你是一个数学老师。” 你在设定一个角色，假设我是一个数学老师，这样我就可以用这个角色来帮助你解答数学问题。如果你有任何数学相关的问题，都可以继续提问。')]"
      ]
     },
     "execution_count": 16,
     "metadata": {},
     "output_type": "execute_result"
    }
   ],
   "source": [
    "memory.get_store(session_id)"
   ]
  },
  {
   "cell_type": "markdown",
   "metadata": {},
   "source": [
    "# redis 持久化"
   ]
  },
  {
   "cell_type": "markdown",
   "metadata": {},
   "source": [
    "```shell\n",
    "pip install -U langchain-community redis\n",
    "```"
   ]
  },
  {
   "cell_type": "markdown",
   "metadata": {},
   "source": [
    "创建窗口管理器时要指定redis的工厂函数，其他与上面的例子相同。"
   ]
  },
  {
   "cell_type": "code",
   "execution_count": null,
   "metadata": {},
   "outputs": [],
   "source": [
    "from textlong import MemoryManager\n",
    "from langchain_community.chat_message_histories import ChatMessageHistory\n",
    "from langchain.memory import ConversationBufferMemory, ConversationBufferWindowMemory\n",
    "from langchain_community.chat_message_histories import RedisChatMessageHistory\n",
    "\n",
    "window = ConversationBufferWindowMemory(return_messages=True, k=2)\n",
    "\n",
    "memory = MemoryManager(\n",
    "    lambda session_id: RedisChatMessageHistory(\n",
    "        session_id, url=\"redis://localhost:6379\"\n",
    "    ),\n",
    "    shorterm_memory = window\n",
    ")"
   ]
  }
 ],
 "metadata": {
  "kernelspec": {
   "display_name": "textlong-same-ipykernel",
   "language": "python",
   "name": "textlong-same-ipykernel"
  },
  "language_info": {
   "codemirror_mode": {
    "name": "ipython",
    "version": 3
   },
   "file_extension": ".py",
   "mimetype": "text/x-python",
   "name": "python",
   "nbconvert_exporter": "python",
   "pygments_lexer": "ipython3",
   "version": "3.10.0"
  }
 },
 "nbformat": 4,
 "nbformat_minor": 4
}
