{
    "cells": [
        {
            "cell_type": "code",
            "execution_count": 1,
            "id": "d26a1251-46d6-47e0-b585-b871e2f9f642",
            "metadata": {},
            "outputs": [],
            "source": [
                "from illufly.writing import idea\n",
                "from langchain_zhipu import ChatZhipuAI"
            ]
        },
        {
            "cell_type": "code",
            "execution_count": 3,
            "id": "5f65567b-f008-46d0-9aad-df76f654a7d1",
            "metadata": {},
            "outputs": [
                {
                    "name": "stdout",
                    "output_type": "stream",
                    "text": [
                        "\u001b[34m\n",
                        ">->>> Prompt ID: IDEA <<<-<\n",
                        "\u001b[0m\u001b[32m#\u001b[0m\u001b[32m 消\u001b[0m\u001b[32m防\u001b[0m\u001b[32m行业\u001b[0m\u001b[32m知识\u001b[0m\u001b[32m图谱\u001b[0m\u001b[32m工程\u001b[0m\u001b[32m工作\u001b[0m\u001b[32m计划\u001b[0m\u001b[32m\n",
                        "\n",
                        "##\u001b[0m\u001b[32m 第一\u001b[0m\u001b[32m阶段\u001b[0m\u001b[32m：\u001b[0m\u001b[32m资料\u001b[0m\u001b[32m收集\u001b[0m\u001b[32m\n",
                        "-\u001b[0m\u001b[32m **\u001b[0m\u001b[32m任务\u001b[0m\u001b[32m描述\u001b[0m\u001b[32m**\u001b[0m\u001b[32m：\u001b[0m\u001b[32m消防\u001b[0m\u001b[32m业务\u001b[0m\u001b[32m专员\u001b[0m\u001b[32m协助\u001b[0m\u001b[32m，\u001b[0m\u001b[32m收集\u001b[0m\u001b[32m消防\u001b[0m\u001b[32m行业\u001b[0m\u001b[32m相关的\u001b[0m\u001b[32m法律法规\u001b[0m\u001b[32m、\u001b[0m\u001b[32m最新\u001b[0m\u001b[32m政策\u001b[0m\u001b[32m、\u001b[0m\u001b[32m政策\u001b[0m\u001b[32m解读\u001b[0m\u001b[32m、\u001b[0m\u001b[32m权威\u001b[0m\u001b[32m问答\u001b[0m\u001b[32m等\u001b[0m\u001b[32m原始\u001b[0m\u001b[32m素材\u001b[0m\u001b[32m和\u001b[0m\u001b[32m资料\u001b[0m\u001b[32m。\n",
                        "-\u001b[0m\u001b[32m **\u001b[0m\u001b[32m截止\u001b[0m\u001b[32m时间\u001b[0m\u001b[32m**\u001b[0m\u001b[32m：\u001b[0m\u001b[32m202\u001b[0m\u001b[32m3\u001b[0m\u001b[32m年\u001b[0m\u001b[32m8\u001b[0m\u001b[32m月\u001b[0m\u001b[32m25\u001b[0m\u001b[32m日\u001b[0m\u001b[32m\n",
                        "\n",
                        "##\u001b[0m\u001b[32m 第二\u001b[0m\u001b[32m阶段\u001b[0m\u001b[32m：\u001b[0m\u001b[32m数据\u001b[0m\u001b[32m清洗\u001b[0m\u001b[32m与\u001b[0m\u001b[32m文本\u001b[0m\u001b[32m整理\u001b[0m\u001b[32m\n",
                        "-\u001b[0m\u001b[32m **\u001b[0m\u001b[32m任务\u001b[0m\u001b[32m描述\u001b[0m\u001b[32m**\u001b[0m\u001b[32m：\u001b[0m\u001b[32m对\u001b[0m\u001b[32m原始\u001b[0m\u001b[32m资料\u001b[0m\u001b[32m做\u001b[0m\u001b[32m数据\u001b[0m\u001b[32m清洗\u001b[0m\u001b[32m和\u001b[0m\u001b[32m文本\u001b[0m\u001b[32m整理\u001b[0m\u001b[32m，\u001b[0m\u001b[32m确保\u001b[0m\u001b[32m信息\u001b[0m\u001b[32m准确\u001b[0m\u001b[32m性和\u001b[0m\u001b[32m可用\u001b[0m\u001b[32m性\u001b[0m\u001b[32m。\n",
                        "-\u001b[0m\u001b[32m **\u001b[0m\u001b[32m截止\u001b[0m\u001b[32m时间\u001b[0m\u001b[32m**\u001b[0m\u001b[32m：\u001b[0m\u001b[32m202\u001b[0m\u001b[32m3\u001b[0m\u001b[32m年\u001b[0m\u001b[32m8\u001b[0m\u001b[32m月\u001b[0m\u001b[32m30\u001b[0m\u001b[32m日\u001b[0m\u001b[32m\n",
                        "\n",
                        "##\u001b[0m\u001b[32m 第三\u001b[0m\u001b[32m阶段\u001b[0m\u001b[32m：\u001b[0m\u001b[32m知识\u001b[0m\u001b[32m图谱\u001b[0m\u001b[32m生成\u001b[0m\u001b[32m工具\u001b[0m\u001b[32m开发\u001b[0m\u001b[32m\n",
                        "-\u001b[0m\u001b[32m **\u001b[0m\u001b[32m任务\u001b[0m\u001b[32m描述\u001b[0m\u001b[32m**\u001b[0m\u001b[32m：\u001b[0m\u001b[32m编写\u001b[0m\u001b[32m知识\u001b[0m\u001b[32m图谱\u001b[0m\u001b[32m生成的\u001b[0m\u001b[32mAI\u001b[0m\u001b[32m工具\u001b[0m\u001b[32m，\u001b[0m\u001b[32m利用\u001b[0m\u001b[32m高级\u001b[0m\u001b[32m大\u001b[0m\u001b[32m模型\u001b[0m\u001b[32m拆\u001b[0m\u001b[32m解\u001b[0m\u001b[32m清洗\u001b[0m\u001b[32m后的\u001b[0m\u001b[32m文本\u001b[0m\u001b[32m资料\u001b[0m\u001b[32m为\u001b[0m\u001b[32m知识\u001b[0m\u001b[32m图谱\u001b[0m\u001b[32m素材\u001b[0m\u001b[32m。\n",
                        "-\u001b[0m\u001b[32m **\u001b[0m\u001b[32m工作\u001b[0m\u001b[32m条件\u001b[0m\u001b[32m具备\u001b[0m\u001b[32m时间\u001b[0m\u001b[32m**\u001b[0m\u001b[32m：\u001b[0m\u001b[32m202\u001b[0m\u001b[32m3\u001b[0m\u001b[32m年\u001b[0m\u001b[32m9\u001b[0m\u001b[32m月\u001b[0m\u001b[32m1\u001b[0m\u001b[32m日\u001b[0m\u001b[32m\n",
                        "-\u001b[0m\u001b[32m **\u001b[0m\u001b[32m截止\u001b[0m\u001b[32m时间\u001b[0m\u001b[32m**\u001b[0m\u001b[32m：\u001b[0m\u001b[32m202\u001b[0m\u001b[32m3\u001b[0m\u001b[32m年\u001b[0m\u001b[32m9\u001b[0m\u001b[32m月\u001b[0m\u001b[32m15\u001b[0m\u001b[32m日\u001b[0m\u001b[32m\n",
                        "\n",
                        "##\u001b[0m\u001b[32m 第四\u001b[0m\u001b[32m阶段\u001b[0m\u001b[32m：\u001b[0m\u001b[32m知识\u001b[0m\u001b[32m图谱\u001b[0m\u001b[32m可视化\u001b[0m\u001b[32mWeb\u001b[0m\u001b[32m工具\u001b[0m\u001b[32m开发\u001b[0m\u001b[32m\n",
                        "-\u001b[0m\u001b[32m **\u001b[0m\u001b[32m任务\u001b[0m\u001b[32m描述\u001b[0m\u001b[32m**\u001b[0m\u001b[32m：\u001b[0m\u001b[32m编写\u001b[0m\u001b[32m知识\u001b[0m\u001b[32m图谱\u001b[0m\u001b[32m可视\u001b[0m\u001b[32m化的\u001b[0m\u001b[32mWeb\u001b[0m\u001b[32m工具\u001b[0m\u001b[32m，\u001b[0m\u001b[32m实现\u001b[0m\u001b[32m知识\u001b[0m\u001b[32m图谱\u001b[0m\u001b[32m在\u001b[0m\u001b[32m图\u001b[0m\u001b[32m数据库\u001b[0m\u001b[32mNeo\u001b[0m\u001b[32m4\u001b[0m\u001b[32mJ\u001b[0m\u001b[32m和\u001b[0m\u001b[32m向量\u001b[0m\u001b[32m数据库\u001b[0m\u001b[32mL\u001b[0m\u001b[32mance\u001b[0m\u001b[32mDB\u001b[0m\u001b[32m的\u001b[0m\u001b[32m入库\u001b[0m\u001b[32m，\u001b[0m\u001b[32m及\u001b[0m\u001b[32m关键字\u001b[0m\u001b[32m查询\u001b[0m\u001b[32m、\u001b[0m\u001b[32m文本\u001b[0m\u001b[32m相似\u001b[0m\u001b[32m度\u001b[0m\u001b[32m查询\u001b[0m\u001b[32m、\u001b[0m\u001b[32m可视化\u001b[0m\u001b[32m呈现\u001b[0m\u001b[32m等功能\u001b[0m\u001b[32m。\n",
                        "-\u001b[0m\u001b[32m **\u001b[0m\u001b[32m截止\u001b[0m\u001b[32m时间\u001b[0m\u001b[32m**\u001b[0m\u001b[32m：\u001b[0m\u001b[32m202\u001b[0m\u001b[32m3\u001b[0m\u001b[32m年\u001b[0m\u001b[32m10\u001b[0m\u001b[32m月底\u001b[0m\u001b[32m\n",
                        "\n",
                        "##\u001b[0m\u001b[32m 第五\u001b[0m\u001b[32m阶段\u001b[0m\u001b[32m：\u001b[0m\u001b[32m问答\u001b[0m\u001b[32m内容\u001b[0m\u001b[32m生成\u001b[0m\u001b[32m工具\u001b[0m\u001b[32m开发\u001b[0m\u001b[32m\n",
                        "-\u001b[0m\u001b[32m **\u001b[0m\u001b[32m任务\u001b[0m\u001b[32m描述\u001b[0m\u001b[32m**\u001b[0m\u001b[32m：\u001b[0m\u001b[32m编写\u001b[0m\u001b[32m问答\u001b[0m\u001b[32m内容\u001b[0m\u001b[32m生成的\u001b[0m\u001b[32mAI\u001b[0m\u001b[32m工具\u001b[0m\u001b[32m，\u001b[0m\u001b[32m利用\u001b[0m\u001b[32m高级\u001b[0m\u001b[32m大\u001b[0m\u001b[32m模型\u001b[0m\u001b[32m根据\u001b[0m\u001b[32m知识\u001b[0m\u001b[32m图谱\u001b[0m\u001b[32m素材\u001b[0m\u001b[32m生成\u001b[0m\u001b[32m至少\u001b[0m\u001b[32m1\u001b[0m\u001b[32m万个\u001b[0m\u001b[32m高质量\u001b[0m\u001b[32m“\u001b[0m\u001b[32m问答\u001b[0m\u001b[32m”\u001b[0m\u001b[32m对\u001b[0m\u001b[32m。\n",
                        "-\u001b[0m\u001b[32m **\u001b[0m\u001b[32m工作\u001b[0m\u001b[32m条件\u001b[0m\u001b[32m具备\u001b[0m\u001b[32m时间\u001b[0m\u001b[32m**\u001b[0m\u001b[32m：\u001b[0m\u001b[32m202\u001b[0m\u001b[32m3\u001b[0m\u001b[32m年\u001b[0m\u001b[32m9\u001b[0m\u001b[32m月\u001b[0m\u001b[32m15\u001b[0m\u001b[32m日\u001b[0m\u001b[32m\n",
                        "-\u001b[0m\u001b[32m **\u001b[0m\u001b[32m截止\u001b[0m\u001b[32m时间\u001b[0m\u001b[32m**\u001b[0m\u001b[32m：\u001b[0m\u001b[32m202\u001b[0m\u001b[32m3\u001b[0m\u001b[32m年\u001b[0m\u001b[32m9\u001b[0m\u001b[32m月\u001b[0m\u001b[32m30\u001b[0m\u001b[32m日\u001b[0m\u001b[32m\n",
                        "\n",
                        "##\u001b[0m\u001b[32m 第六\u001b[0m\u001b[32m阶段\u001b[0m\u001b[32m：\u001b[0m\u001b[32m问答\u001b[0m\u001b[32m对\u001b[0m\u001b[32m人工\u001b[0m\u001b[32m校\u001b[0m\u001b[32m对\u001b[0m\u001b[32m\n",
                        "-\u001b[0m\u001b[32m **\u001b[0m\u001b[32m任务\u001b[0m\u001b[32m描述\u001b[0m\u001b[32m**\u001b[0m\u001b[32m：\u001b[0m\u001b[32m由\u001b[0m\u001b[32m消防\u001b[0m\u001b[32m业务\u001b[0m\u001b[32m专家\u001b[0m\u001b[32m协助\u001b[0m\u001b[32m，\u001b[0m\u001b[32m对\u001b[0m\u001b[32m至少\u001b[0m\u001b[32m1\u001b[0m\u001b[32m万个\u001b[0m\u001b[32m“\u001b[0m\u001b[32m问答\u001b[0m\u001b[32m”\u001b[0m\u001b[32m对\u001b[0m\u001b[32m进行\u001b[0m\u001b[32m人工\u001b[0m\u001b[32m校\u001b[0m\u001b[32m对\u001b[0m\u001b[32m，\u001b[0m\u001b[32m确保\u001b[0m\u001b[32m质量\u001b[0m\u001b[32m。\n",
                        "-\u001b[0m\u001b[32m **\u001b[0m\u001b[32m工作\u001b[0m\u001b[32m条件\u001b[0m\u001b[32m具备\u001b[0m\u001b[32m时间\u001b[0m\u001b[32m**\u001b[0m\u001b[32m：\u001b[0m\u001b[32m202\u001b[0m\u001b[32m3\u001b[0m\u001b[32m年\u001b[0m\u001b[32m10\u001b[0m\u001b[32m月\u001b[0m\u001b[32m1\u001b[0m\u001b[32m日\u001b[0m\u001b[32m\n",
                        "-\u001b[0m\u001b[32m **\u001b[0m\u001b[32m截止\u001b[0m\u001b[32m时间\u001b[0m\u001b[32m**\u001b[0m\u001b[32m：\u001b[0m\u001b[32m202\u001b[0m\u001b[32m3\u001b[0m\u001b[32m年\u001b[0m\u001b[32m10\u001b[0m\u001b[32m月\u001b[0m\u001b[32m15\u001b[0m\u001b[32m日\u001b[0m\u001b[32m\n",
                        "\n",
                        "##\u001b[0m\u001b[32m 第七\u001b[0m\u001b[32m阶段\u001b[0m\u001b[32m：\u001b[0m\u001b[32m对话\u001b[0m\u001b[32m应用\u001b[0m\u001b[32m构建\u001b[0m\u001b[32m\n",
                        "-\u001b[0m\u001b[32m **\u001b[0m\u001b[32m任务\u001b[0m\u001b[32m描述\u001b[0m\u001b[32m**\u001b[0m\u001b[32m：\u001b[0m\u001b[32m以\u001b[0m\u001b[32m知识\u001b[0m\u001b[32m图谱\u001b[0m\u001b[32m资料\u001b[0m\u001b[32m和\u001b[0m\u001b[32m“\u001b[0m\u001b[32m问答\u001b[0m\u001b[32m”\u001b[0m\u001b[32m资料\u001b[0m\u001b[32m为基础\u001b[0m\u001b[32m，\u001b[0m\u001b[32m构建\u001b[0m\u001b[32m高质量的\u001b[0m\u001b[32m消防\u001b[0m\u001b[32m行业\u001b[0m\u001b[32m对话\u001b[0m\u001b[32m应用\u001b[0m\u001b[32m。\n",
                        "-\u001b[0m\u001b[32m **\u001b[0m\u001b[32m工作\u001b[0m\u001b[32m条件\u001b[0m\u001b[32m具备\u001b[0m\u001b[32m时间\u001b[0m\u001b[32m**\u001b[0m\u001b[32m：\u001b[0m\u001b[32m202\u001b[0m\u001b[32m3\u001b[0m\u001b[32m年\u001b[0m\u001b[32m10\u001b[0m\u001b[32m月\u001b[0m\u001b[32m15\u001b[0m\u001b[32m日\u001b[0m\u001b[32m\n",
                        "-\u001b[0m\u001b[32m **\u001b[0m\u001b[32m截止\u001b[0m\u001b[32m时间\u001b[0m\u001b[32m**\u001b[0m\u001b[32m：\u001b[0m\u001b[32m202\u001b[0m\u001b[32m3\u001b[0m\u001b[32m年\u001b[0m\u001b[32m10\u001b[0m\u001b[32m月底\u001b[0m\u001b[32m\u001b[0m"
                    ]
                }
            ],
            "source": [
                "x = idea(\n",
                "    ChatZhipuAI(model=\"glm-4-air\"),\n",
                "    task=\"\"\"\n",
                "    帮我制定工作计划，给出各个工作阶段和每个阶段的工作任务描述、工作任务的截止时间。\n",
                "    对于消防行业知识图谱工程的主要工作阶段至少应当包括（如果你认为遗漏了其他工作内容，请帮我增加）：\n",
                "    - 由消防业务专员协助，收集消防行业相关的法律法规、最新政策、政策解读、权威问答等原始素材和资料（要求8月25日前完成）\n",
                "    - 对原始资料做数据清洗和文本整理（要求8月30日前完成）\n",
                "    - 编写知识图谱生成的AI工具，使用高级大模型将清洗后的文本资料拆解为知识图谱素材（要求9月1日前具备工作条件，9月15日前完成）\n",
                "    - 编写知识图谱可视化的Web工具，将知识图谱的分别入库到图数据库Neo4J和向量数据库LanceDB，并实现关键字查询、文本相似度查询，以及知识图谱的可视化呈现（要求10月底完成）\n",
                "    - 编写问答内容生成的AI工具，使用高级大模型根据上述获得的知识图谱素材生成至少1万个高质量“问答”对（要求9月15前具备工作条件，9月30日前完成）\n",
                "    - 由消防业务专家协助，对上述至少1万个“问答”对做人工校对，确保“问”和“答“的质量过关（要求10月1日前具备工作条件，10月15日前完成）\n",
                "    - 以知识图谱资料和”问答“资料为基础，重新构建高质量的消防行业对话应用（要求10月15日前具备工作条件，10月底完成）\n",
                "    \"\"\",\n",
                "    verbose=False\n",
                ")"
            ]
        },
        {
            "cell_type": "code",
            "execution_count": null,
            "id": "56dad230-7b9e-4856-8f5a-2a1788791c33",
            "metadata": {},
            "outputs": [],
            "source": []
        }
    ],
    "metadata": {
        "kernelspec": {
            "display_name": "illufly-same-ipykernel",
            "language": "python",
            "name": "illufly-same-ipykernel"
        },
        "language_info": {
            "codemirror_mode": {
                "name": "ipython",
                "version": 3
            },
            "file_extension": ".py",
            "mimetype": "text/x-python",
            "name": "python",
            "nbconvert_exporter": "python",
            "pygments_lexer": "ipython3",
            "version": "3.10.0"
        }
    },
    "nbformat": 4,
    "nbformat_minor": 5
}