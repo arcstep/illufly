{
    "cells": [
        {
            "cell_type": "code",
            "execution_count": 1,
            "id": "651b2484-ff16-406e-96ba-b1d8ef245087",
            "metadata": {},
            "outputs": [],
            "source": [
                "from illufly.writing import MarkdownLoader\n",
                "from illufly.parser import parse_markdown, list_markdown"
            ]
        },
        {
            "cell_type": "code",
            "execution_count": 2,
            "id": "1a1933f0-de79-4bbe-ba2d-cc6e0e34f1f8",
            "metadata": {},
            "outputs": [],
            "source": [
                "md = \"\"\"\n",
                "## 前序\n",
                "\n",
                "# 标题1\n",
                "我的文档。\n",
                "\n",
                "<OUTLINE>\n",
                "扩写依据:\n",
                "你说的有道理\n",
                "</OUTLINE>\n",
                "\n",
                "## 第一个标题2\n",
                "\n",
                "逍遥老仙，\n",
                "\n",
                "逍遥小仙，\n",
                "\n",
                "<OUTLINE>\n",
                "扩写依据：帮我描述一下逍遥老仙的威武霸气\n",
                "</OUTLINE>\n",
                "\n",
                "那又是谁？\n",
                "\n",
                "<OUTLINE>\n",
                "扩写依据：帮我描述一下逍遥小仙的武功盖世\n",
                "## 宁厌烦\n",
                "## 宁雪\n",
                "</OUTLINE>\n",
                "\n",
                "## 第二个标题2\n",
                "华山论剑。\n",
                "\"\"\""
            ]
        },
        {
            "cell_type": "markdown",
            "id": "f2fbf6e4-adae-475d-a471-505933d0a886",
            "metadata": {},
            "source": [
                "# 解析 markdown"
            ]
        },
        {
            "cell_type": "code",
            "execution_count": 3,
            "id": "8ba15e1b-ae75-4203-96de-c74868c1ee20",
            "metadata": {},
            "outputs": [
                {
                    "data": {
                        "text/plain": [
                            "[Document(page_content='\\n', metadata={'type': 'blank_line', 'id': '6244-403-000'}),\n",
                            " Document(page_content='## 前序\\n\\n', metadata={'type': 'heading', 'attrs': {'level': 2}, 'style': 'axt', 'children': [{'type': 'text', 'raw': '前序'}], 'id': '6244-258-001'}),\n",
                            " Document(page_content='\\n', metadata={'type': 'blank_line', 'id': '6244-853-002'}),\n",
                            " Document(page_content='# 标题1\\n\\n', metadata={'type': 'heading', 'attrs': {'level': 1}, 'style': 'axt', 'children': [{'type': 'text', 'raw': '标题1'}], 'id': '6244-438-003'}),\n",
                            " Document(page_content='我的文档。\\n\\n', metadata={'type': 'paragraph', 'children': [{'type': 'text', 'raw': '我的文档。'}], 'id': '6244-321-004'})]"
                        ]
                    },
                    "execution_count": 3,
                    "metadata": {},
                    "output_type": "execute_result"
                }
            ],
            "source": [
                "parse_markdown(md)[:5]"
            ]
        },
        {
            "cell_type": "code",
            "execution_count": 9,
            "id": "8864b0b8-b78b-443f-9087-0ba13fcb2f46",
            "metadata": {},
            "outputs": [
                {
                    "data": {
                        "text/plain": [
                            "[('4884-969-003', '# 标题1\\n\\n'),\n",
                            " ('4884-079-004', '我的文档。\\n\\n'),\n",
                            " ('4884-867-005', '\\n'),\n",
                            " ('4884-640-006', '<OUTLINE>\\n扩写依据:\\n你说的有道理\\n</OUTLINE>\\n\\n'),\n",
                            " ('4884-360-007', '\\n'),\n",
                            " ('4884-537-008', '## 第一个标题2\\n\\n'),\n",
                            " ('4884-210-009', '\\n')]"
                        ]
                    },
                    "execution_count": 9,
                    "metadata": {},
                    "output_type": "execute_result"
                }
            ],
            "source": [
                "list_markdown(parse_markdown(md)[3:10])"
            ]
        },
        {
            "cell_type": "markdown",
            "id": "4f7e2ffd-0254-45d1-9784-8a96257aec91",
            "metadata": {},
            "source": [
                "# MarkdownDocuments"
            ]
        },
        {
            "cell_type": "markdown",
            "id": "79425487-eb0e-428e-b6c4-eebed5abf19a",
            "metadata": {},
            "source": [
                "## `__init__`"
            ]
        },
        {
            "cell_type": "code",
            "execution_count": 10,
            "id": "6abba28e-188c-4404-8697-ce1b95bdf695",
            "metadata": {},
            "outputs": [
                {
                    "data": {
                        "text/plain": [
                            "'\\n## 前序\\n\\n\\n# 标题1\\n\\n我的文档。\\n\\n\\n<OUTLINE>\\n扩写依据:\\n你说的有道理\\n</OUTLINE>\\n\\n\\n## 第一个标题2\\n\\n\\n逍遥老仙，\\n\\n\\n逍遥小仙，\\n\\n\\n<OUTLINE>\\n扩写依据：帮我描述一下逍遥老仙的威武霸气\\n</OUTLINE>\\n\\n\\n那又是谁？\\n\\n\\n<OUTLINE>\\n扩写依据：帮我描述一下逍遥小仙的武功盖世\\n## 宁厌烦\\n## 宁雪\\n</OUTLINE>\\n\\n\\n## 第二个标题2\\n\\n华山论剑。\\n\\n'"
                        ]
                    },
                    "execution_count": 10,
                    "metadata": {},
                    "output_type": "execute_result"
                }
            ],
            "source": [
                "t = MarkdownLoader(md)\n",
                "t.markdown"
            ]
        },
        {
            "cell_type": "markdown",
            "id": "eb2eb720-f27d-41d0-bcad-ab8ea7742286",
            "metadata": {},
            "source": [
                "# 文档拆分"
            ]
        },
        {
            "cell_type": "markdown",
            "id": "ffa440e7-2674-4e9a-a79c-b8420649d211",
            "metadata": {},
            "source": [
                "## all"
            ]
        },
        {
            "cell_type": "code",
            "execution_count": 11,
            "id": "2f587d2d-0490-455a-9444-64be62b4258e",
            "metadata": {},
            "outputs": [
                {
                    "data": {
                        "text/plain": [
                            "('all',\n",
                            " [Document(page_content='逍遥老仙，\\n\\n', metadata={'type': 'paragraph', 'children': [{'type': 'text', 'raw': '逍遥老仙，'}], 'id': '4884-423-010'}),\n",
                            "  Document(page_content='逍遥小仙，\\n\\n', metadata={'type': 'paragraph', 'children': [{'type': 'text', 'raw': '逍遥小仙，'}], 'id': '4884-309-012'}),\n",
                            "  Document(page_content='<OUTLINE>\\n扩写依据：帮我描述一下逍遥老仙的威武霸气\\n</OUTLINE>\\n\\n', metadata={'id': '4884-311-014', 'type': 'OUTLINE'}),\n",
                            "  Document(page_content='<OUTLINE>\\n扩写依据：帮我描述一下逍遥小仙的武功盖世\\n## 宁厌烦\\n## 宁雪\\n</OUTLINE>\\n\\n', metadata={'id': '4884-678-018', 'type': 'OUTLINE'})])"
                        ]
                    },
                    "execution_count": 11,
                    "metadata": {},
                    "output_type": "execute_result"
                }
            ],
            "source": [
                "t.get_todo_documents(sep_mode=\"all\", pattern=\"逍遥\")"
            ]
        },
        {
            "cell_type": "markdown",
            "id": "ff255270-a30f-44ca-9974-01a495e7ed04",
            "metadata": {},
            "source": [
                "## document"
            ]
        },
        {
            "cell_type": "code",
            "execution_count": 13,
            "id": "1c56d011-112b-4495-86c6-3788826dd329",
            "metadata": {},
            "outputs": [
                {
                    "data": {
                        "text/plain": [
                            "('document',\n",
                            " [(Document(page_content='逍遥老仙，\\n\\n', metadata={'type': 'paragraph', 'children': [{'type': 'text', 'raw': '逍遥老仙，'}], 'id': '4884-423-010'}),\n",
                            "   10),\n",
                            "  (Document(page_content='逍遥小仙，\\n\\n', metadata={'type': 'paragraph', 'children': [{'type': 'text', 'raw': '逍遥小仙，'}], 'id': '4884-309-012'}),\n",
                            "   12),\n",
                            "  (Document(page_content='<OUTLINE>\\n扩写依据：帮我描述一下逍遥老仙的威武霸气\\n</OUTLINE>\\n\\n', metadata={'id': '4884-311-014', 'type': 'OUTLINE'}),\n",
                            "   14),\n",
                            "  (Document(page_content='<OUTLINE>\\n扩写依据：帮我描述一下逍遥小仙的武功盖世\\n## 宁厌烦\\n## 宁雪\\n</OUTLINE>\\n\\n', metadata={'id': '4884-678-018', 'type': 'OUTLINE'}),\n",
                            "   18)])"
                        ]
                    },
                    "execution_count": 13,
                    "metadata": {},
                    "output_type": "execute_result"
                }
            ],
            "source": [
                "t.get_todo_documents(sep_mode=\"element\", pattern=\"逍遥\")"
            ]
        },
        {
            "cell_type": "markdown",
            "id": "d10f4af6-6caa-48db-9cc4-2080fbf6110c",
            "metadata": {},
            "source": [
                "## outline"
            ]
        },
        {
            "cell_type": "code",
            "execution_count": 21,
            "id": "a9149225-e0b8-4814-bb90-5560d329c86d",
            "metadata": {},
            "outputs": [
                {
                    "data": {
                        "text/plain": [
                            "('document',\n",
                            " [(Document(page_content='<OUTLINE>\\n扩写依据:\\n你说的有道理\\n</OUTLINE>\\n\\n', metadata={'id': '664559-585-006', 'type': 'OUTLINE'}),\n",
                            "   6),\n",
                            "  (Document(page_content='<OUTLINE>\\n扩写依据：帮我描述一下逍遥老仙的威武霸气\\n</OUTLINE>\\n\\n', metadata={'id': '664559-096-014', 'type': 'OUTLINE'}),\n",
                            "   14),\n",
                            "  (Document(page_content='<OUTLINE>\\n扩写依据：帮我描述一下逍遥小仙的武功盖世\\n## 宁厌烦\\n## 宁雪\\n</OUTLINE>\\n\\n', metadata={'id': '664559-478-018', 'type': 'OUTLINE'}),\n",
                            "   18)])"
                        ]
                    },
                    "execution_count": 21,
                    "metadata": {},
                    "output_type": "execute_result"
                }
            ],
            "source": [
                "t.get_todo_documents(sep_mode=\"outline\")"
            ]
        },
        {
            "cell_type": "code",
            "execution_count": 21,
            "id": "c247f758-9ae3-4a90-b1e1-a347139edb4a",
            "metadata": {},
            "outputs": [
                {
                    "data": {
                        "text/plain": [
                            "[('4884-151-006', '<OUTLINE>\\n扩写依据:\\n你说的有道理\\n</OUTLINE>\\n\\n'),\n",
                            " ('4884-311-014', '<OUTLINE>\\n扩写依据：帮我描述一下逍遥老仙的威武霸气\\n</OUTLINE>\\n\\n'),\n",
                            " ('4884-678-018',\n",
                            "  '<OUTLINE>\\n扩写依据：帮我描述一下逍遥小仙的武功盖世\\n## 宁厌烦\\n## 宁雪\\n</OUTLINE>\\n\\n')]"
                        ]
                    },
                    "execution_count": 21,
                    "metadata": {},
                    "output_type": "execute_result"
                }
            ],
            "source": [
                "mode, docs = t.get_todo_documents(sep_mode=\"outline\")\n",
                "list_markdown([d for d, index in docs])"
            ]
        },
        {
            "cell_type": "markdown",
            "id": "ca8cb95c-89ab-4cfd-a030-f8a3abde24e2",
            "metadata": {},
            "source": [
                "## segment"
            ]
        },
        {
            "cell_type": "code",
            "execution_count": 26,
            "id": "b4d59bab-b070-461d-9805-6df191dd2f8c",
            "metadata": {},
            "outputs": [
                {
                    "data": {
                        "text/plain": [
                            "('segment',\n",
                            " [[Document(page_content='\\n', metadata={'type': 'blank_line', 'id': '4884-486-000'})],\n",
                            "  [Document(page_content='\\n', metadata={'type': 'blank_line', 'id': '4884-022-002'})],\n",
                            "  [Document(page_content='我的文档。\\n\\n', metadata={'type': 'paragraph', 'children': [{'type': 'text', 'raw': '我的文档。'}], 'id': '4884-885-004'}),\n",
                            "   Document(page_content='\\n', metadata={'type': 'blank_line', 'id': '4884-191-005'}),\n",
                            "   Document(page_content='<OUTLINE>\\n扩写依据:\\n你说的有道理\\n</OUTLINE>\\n\\n', metadata={'id': '4884-151-006', 'type': 'OUTLINE'}),\n",
                            "   Document(page_content='\\n', metadata={'type': 'blank_line', 'id': '4884-030-007'})],\n",
                            "  [Document(page_content='\\n', metadata={'type': 'blank_line', 'id': '4884-994-009'}),\n",
                            "   Document(page_content='逍遥老仙，\\n\\n', metadata={'type': 'paragraph', 'children': [{'type': 'text', 'raw': '逍遥老仙，'}], 'id': '4884-423-010'}),\n",
                            "   Document(page_content='\\n', metadata={'type': 'blank_line', 'id': '4884-865-011'}),\n",
                            "   Document(page_content='逍遥小仙，\\n\\n', metadata={'type': 'paragraph', 'children': [{'type': 'text', 'raw': '逍遥小仙，'}], 'id': '4884-309-012'}),\n",
                            "   Document(page_content='\\n', metadata={'type': 'blank_line', 'id': '4884-823-013'}),\n",
                            "   Document(page_content='<OUTLINE>\\n扩写依据：帮我描述一下逍遥老仙的威武霸气\\n</OUTLINE>\\n\\n', metadata={'id': '4884-311-014', 'type': 'OUTLINE'}),\n",
                            "   Document(page_content='\\n', metadata={'type': 'blank_line', 'id': '4884-314-015'}),\n",
                            "   Document(page_content='那又是谁？\\n\\n', metadata={'type': 'paragraph', 'children': [{'type': 'text', 'raw': '那又是谁？'}], 'id': '4884-247-016'}),\n",
                            "   Document(page_content='\\n', metadata={'type': 'blank_line', 'id': '4884-178-017'}),\n",
                            "   Document(page_content='<OUTLINE>\\n扩写依据：帮我描述一下逍遥小仙的武功盖世\\n## 宁厌烦\\n## 宁雪\\n</OUTLINE>\\n\\n', metadata={'id': '4884-678-018', 'type': 'OUTLINE'}),\n",
                            "   Document(page_content='\\n', metadata={'type': 'blank_line', 'id': '4884-610-019'})],\n",
                            "  [Document(page_content='华山论剑。\\n\\n', metadata={'type': 'paragraph', 'children': [{'type': 'text', 'raw': '华山论剑。'}], 'id': '4884-437-021'})]])"
                        ]
                    },
                    "execution_count": 26,
                    "metadata": {},
                    "output_type": "execute_result"
                }
            ],
            "source": [
                "t.get_todo_documents(sep_mode=\"segment\")"
            ]
        },
        {
            "cell_type": "code",
            "execution_count": 28,
            "id": "986012cd-3a62-4517-9aa1-aed46e180390",
            "metadata": {},
            "outputs": [
                {
                    "name": "stdout",
                    "output_type": "stream",
                    "text": [
                        "--------------------\n",
                        "[Document(page_content='\\n', metadata={'type': 'blank_line', 'id': '4884-486-000'})]\n",
                        "--------------------\n",
                        "[Document(page_content='\\n', metadata={'type': 'blank_line', 'id': '4884-022-002'})]\n",
                        "--------------------\n",
                        "[Document(page_content='我的文档。\\n\\n', metadata={'type': 'paragraph', 'children': [{'type': 'text', 'raw': '我的文档。'}], 'id': '4884-885-004'}), Document(page_content='\\n', metadata={'type': 'blank_line', 'id': '4884-191-005'}), Document(page_content='<OUTLINE>\\n扩写依据:\\n你说的有道理\\n</OUTLINE>\\n\\n', metadata={'id': '4884-151-006', 'type': 'OUTLINE'}), Document(page_content='\\n', metadata={'type': 'blank_line', 'id': '4884-030-007'})]\n",
                        "--------------------\n",
                        "[Document(page_content='\\n', metadata={'type': 'blank_line', 'id': '4884-994-009'}), Document(page_content='逍遥老仙，\\n\\n', metadata={'type': 'paragraph', 'children': [{'type': 'text', 'raw': '逍遥老仙，'}], 'id': '4884-423-010'}), Document(page_content='\\n', metadata={'type': 'blank_line', 'id': '4884-865-011'}), Document(page_content='逍遥小仙，\\n\\n', metadata={'type': 'paragraph', 'children': [{'type': 'text', 'raw': '逍遥小仙，'}], 'id': '4884-309-012'}), Document(page_content='\\n', metadata={'type': 'blank_line', 'id': '4884-823-013'}), Document(page_content='<OUTLINE>\\n扩写依据：帮我描述一下逍遥老仙的威武霸气\\n</OUTLINE>\\n\\n', metadata={'id': '4884-311-014', 'type': 'OUTLINE'}), Document(page_content='\\n', metadata={'type': 'blank_line', 'id': '4884-314-015'}), Document(page_content='那又是谁？\\n\\n', metadata={'type': 'paragraph', 'children': [{'type': 'text', 'raw': '那又是谁？'}], 'id': '4884-247-016'}), Document(page_content='\\n', metadata={'type': 'blank_line', 'id': '4884-178-017'}), Document(page_content='<OUTLINE>\\n扩写依据：帮我描述一下逍遥小仙的武功盖世\\n## 宁厌烦\\n## 宁雪\\n</OUTLINE>\\n\\n', metadata={'id': '4884-678-018', 'type': 'OUTLINE'}), Document(page_content='\\n', metadata={'type': 'blank_line', 'id': '4884-610-019'})]\n",
                        "--------------------\n",
                        "[Document(page_content='华山论剑。\\n\\n', metadata={'type': 'paragraph', 'children': [{'type': 'text', 'raw': '华山论剑。'}], 'id': '4884-437-021'})]\n"
                    ]
                }
            ],
            "source": [
                "mode, docs_list = t.get_todo_documents(sep_mode=\"segment\")\n",
                "for docs in docs_list:\n",
                "    print(\"-\"*20)\n",
                "    print(docs)\n",
                "    # print('\\n'.join([d.page_content for d in docs]))"
            ]
        },
        {
            "cell_type": "markdown",
            "id": "edfdd2a9-8095-4221-abca-e58851b49d27",
            "metadata": {},
            "source": [
                "# 文档替换"
            ]
        },
        {
            "cell_type": "code",
            "execution_count": 12,
            "id": "8abc2428-bbd2-464d-9b86-32f4bf060497",
            "metadata": {},
            "outputs": [
                {
                    "data": {
                        "text/plain": [
                            "[('bl-382-000', '\\n'),\n",
                            " ('he-398-001', '## 二、技术特性\\n\\n'),\n",
                            " ('bl-656-002', '\\n'),\n",
                            " ('he-859-003', '### 1、技术架构\\n\\n'),\n",
                            " ('bl-326-004', '\\n'),\n",
                            " ('pa-269-005',\n",
                            "  '通义千问模型采用了先进的Transformer架构，这是一种基于自注意力机制的深度学习模型，能够并行处理输入序列，显著提高了计算效率。此外，模型还融合了预训练和微调的训练策略，先在大规模无标注文本上进行预训练，学习通用的语言表示，然后在特定任务的数据集上进行微调，以适应不同应用场景的需求。\\n\\n'),\n",
                            " ('bl-037-006', '\\n'),\n",
                            " ('he-697-007', '### 2、处理能力\\n\\n'),\n",
                            " ('bl-211-008', '\\n'),\n",
                            " ('he-754-009', '#### （1）语言理解\\n\\n'),\n",
                            " ('bl-941-010', '\\n'),\n",
                            " ('pa-769-011',\n",
                            "  '模型具备深度的语言理解能力，能够处理复杂的句法结构和语义关系。通过多层次的上下文建模，通义千问能够捕捉到文本中的隐含信息，准确理解用户的意图和情感色彩。\\n\\n'),\n",
                            " ('bl-293-012', '\\n'),\n",
                            " ('he-871-013', '#### （2）语言生成\\n\\n'),\n",
                            " ('bl-096-014', '\\n'),\n",
                            " ('pa-949-015',\n",
                            "  '在语言生成方面，通义千问模型表现出了高水准的创造力和连贯性。它能够根据输入提示自动生成多样化的文本，无论是叙述性文本还是论述性文本，都能保持逻辑清晰、表达准确。此外，模型还能自我校正，减少生成错误，提高生成质量。\\n\\n'),\n",
                            " ('bl-966-016', '\\n'),\n",
                            " ('he-976-017', '### 3、数据训练\\n\\n'),\n",
                            " ('bl-934-018', '\\n'),\n",
                            " ('pa-438-019',\n",
                            "  '通义千问的训练数据集庞大且多样化，包含数十亿级别的文本数据，涵盖了互联网上的各种类型文本，如新闻、论坛、社交媒体等。这种丰富多样的数据源使得模型能够理解和处理各种话题和风格的文本，具备广泛的适应性。同时，模型采用半监督和无监督的学习方式，从大量未标注数据中学习语言规律，进一步提升了模型的泛化能力。\\n\\n'),\n",
                            " ('bl-305-020', '\\n'),\n",
                            " ('pa-962-021', '这些技术特点和优势使通义千问模型在实际应用中表现出色，为用户提供高效、准确的语言服务。\\n\\n'),\n",
                            " ('bl-712-022', '\\n'),\n",
                            " ('he-706-023', '## 三、模型应用\\n\\n'),\n",
                            " ('bl-324-002', '\\n'),\n",
                            " ('he-343-003', '### 1、问答系统中的应用\\n\\n'),\n",
                            " ('bl-325-004', '\\n'),\n",
                            " ('pa-917-005',\n",
                            "  '通义千问模型在问答系统中展现出了卓越的表现。例如，在某大型电子商务平台上，它作为智能助手为数百万用户提供实时的商品咨询和售后服务。用户可以询问商品详情、使用方法、退换货政策等问题，通义千问都能迅速给出准确、详尽的回答，极大地提升了客户满意度和运营效率。此外，该模型还在医疗健康领域用于智能导诊，帮助患者解答疾病相关问题，减轻医生的工作压力。\\n\\n'),\n",
                            " ('bl-083-006', '\\n'),\n",
                            " ('he-663-007', '### 2、内容生成方面的应用\\n\\n'),\n",
                            " ('bl-181-008', '\\n'),\n",
                            " ('pa-040-009',\n",
                            "  '在媒体行业中，通义千问模型被用来辅助新闻报道和内容创作。比如，它能够根据新闻事件的关键词自动生成新闻报道的初稿，为记者提供快速的新闻线索和素材。在创意写作中，它帮助作家扩展故事线，生成富有想象力的情节，激发创作灵感。甚至在社交媒体上，模型能自动生成吸引人的帖子标题和评论，增加用户互动。\\n\\n'),\n",
                            " ('bl-995-025', '\\n')]"
                        ]
                    },
                    "execution_count": 12,
                    "metadata": {},
                    "output_type": "execute_result"
                }
            ],
            "source": [
                "md_to_replace = \"\"\"\n",
                "## 二、技术特性\n",
                "\n",
                "### 1、技术架构\n",
                "\n",
                "通义千问模型采用了先进的Transformer架构，这是一种基于自注意力机制的深度学习模型，能够并行处理输入序列，显著提高了计算效率。此外，模型还融合了预训练和微调的训练策略，先在大规模无标注文本上进行预训练，学习通用的语言表示，然后在特定任务的数据集上进行微调，以适应不同应用场景的需求。\n",
                "\n",
                "### 2、处理能力\n",
                "\n",
                "#### （1）语言理解\n",
                "\n",
                "模型具备深度的语言理解能力，能够处理复杂的句法结构和语义关系。通过多层次的上下文建模，通义千问能够捕捉到文本中的隐含信息，准确理解用户的意图和情感色彩。\n",
                "\n",
                "#### （2）语言生成\n",
                "\n",
                "在语言生成方面，通义千问模型表现出了高水准的创造力和连贯性。它能够根据输入提示自动生成多样化的文本，无论是叙述性文本还是论述性文本，都能保持逻辑清晰、表达准确。此外，模型还能自我校正，减少生成错误，提高生成质量。\n",
                "\n",
                "### 3、数据训练\n",
                "\n",
                "通义千问的训练数据集庞大且多样化，包含数十亿级别的文本数据，涵盖了互联网上的各种类型文本，如新闻、论坛、社交媒体等。这种丰富多样的数据源使得模型能够理解和处理各种话题和风格的文本，具备广泛的适应性。同时，模型采用半监督和无监督的学习方式，从大量未标注数据中学习语言规律，进一步提升了模型的泛化能力。\n",
                "\n",
                "这些技术特点和优势使通义千问模型在实际应用中表现出色，为用户提供高效、准确的语言服务。\n",
                "\n",
                "## 三、模型应用\n",
                "<OUTLINE>\n",
                "扩写摘要：\n",
                "列举通义千问模型在不同领域的实际应用案例。\n",
                "\n",
                "扩写要求：\n",
                "- 在问答系统中的应用\n",
                "- 在内容生成方面的应用\n",
                "- 在其他可能的应用领域\n",
                "</OUTLINE>\n",
                "\"\"\"\n",
                "\n",
                "new_md = \"\"\"\n",
                "## 三、模型应用\n",
                "\n",
                "### 1、问答系统中的应用\n",
                "\n",
                "通义千问模型在问答系统中展现出了卓越的表现。例如，在某大型电子商务平台上，它作为智能助手为数百万用户提供实时的商品咨询和售后服务。用户可以询问商品详情、使用方法、退换货政策等问题，通义千问都能迅速给出准确、详尽的回答，极大地提升了客户满意度和运营效率。此外，该模型还在医疗健康领域用于智能导诊，帮助患者解答疾病相关问题，减轻医生的工作压力。\n",
                "\n",
                "### 2、内容生成方面的应用\n",
                "\n",
                "在媒体行业中，通义千问模型被用来辅助新闻报道和内容创作。比如，它能够根据新闻事件的关键词自动生成新闻报道的初稿，为记者提供快速的新闻线索和素材。在创意写作中，它帮助作家扩展故事线，生成富有想象力的情节，激发创作灵感。甚至在社交媒体上，模型能自动生成吸引人的帖子标题和评论，增加用户互动。\n",
                "\"\"\"\n",
                "\n",
                "from illufly.writing import MarkdownLoader\n",
                "from illufly.parser import parse_markdown\n",
                "t = MarkdownLoader(md_to_replace)\n",
                "mode, docs = t.get_todo_documents(sep_mode=\"outline\")\n",
                "t.replace_documents(docs[0][0], docs[0][0], parse_markdown(new_md))\n",
                "list_markdown(t.documents)"
            ]
        },
        {
            "cell_type": "code",
            "execution_count": 3,
            "id": "949c320d-7075-4b7f-99ba-bd4f66551aee",
            "metadata": {},
            "outputs": [],
            "source": [
                "md_to_replace = \"\"\"\n",
                "# 标题1\n",
                "我的文档。\n",
                "## 好戏开始\n",
                "<OUTLINE>\n",
                "扩写依据:\n",
                "一个夜晚，一只流浪狗成精了。\n",
                "</OUTLINE>\n",
                "## 第一个标题2\n",
                "还有后面的故事。\n",
                "\"\"\""
            ]
        },
        {
            "cell_type": "code",
            "execution_count": 4,
            "id": "3603af42-befd-46b3-a824-1acaef6ef3ef",
            "metadata": {},
            "outputs": [],
            "source": [
                "from illufly.writing import MarkdownLoader\n",
                "from illufly.parser import parse_markdown\n",
                "t = MarkdownLoader(md_to_replace)"
            ]
        },
        {
            "cell_type": "markdown",
            "id": "0f4b8125-a8f8-401f-bae1-5e868b079b7f",
            "metadata": {},
            "source": [
                "## get_task_range"
            ]
        },
        {
            "cell_type": "code",
            "execution_count": 5,
            "id": "e75beb1c-9d04-4e4f-ae18-31024ca10aef",
            "metadata": {},
            "outputs": [
                {
                    "data": {
                        "text/plain": [
                            "[(Document(page_content='<OUTLINE>\\n扩写依据:\\n一个夜晚，一只流浪狗成精了。\\n</OUTLINE>\\n\\n', metadata={'id': '8570-569-004', 'type': 'OUTLINE'}),\n",
                            "  4)]"
                        ]
                    },
                    "execution_count": 5,
                    "metadata": {},
                    "output_type": "execute_result"
                }
            ],
            "source": [
                "mode, docs = t.get_todo_documents(sep_mode=\"outline\", pattern=\"流浪狗成精\")\n",
                "docs"
            ]
        },
        {
            "cell_type": "code",
            "execution_count": 6,
            "id": "6bb55c4f-d35d-47dd-be61-82300ef8cae2",
            "metadata": {},
            "outputs": [
                {
                    "data": {
                        "text/plain": [
                            "[('bl-256-000', '\\n'),\n",
                            " ('he-955-001', '# 标题1\\n\\n'),\n",
                            " ('pa-200-002', '我的文档。\\n\\n'),\n",
                            " ('he-838-003', '## 好戏开始\\n\\n'),\n",
                            " ('OU-569-004', '<OUTLINE>\\n扩写依据:\\n一个夜晚，一只流浪狗成精了。\\n</OUTLINE>\\n\\n'),\n",
                            " ('bl-790-005', '\\n'),\n",
                            " ('he-041-006', '## 第一个标题2\\n\\n'),\n",
                            " ('pa-982-007', '还有后面的故事。\\n\\n')]"
                        ]
                    },
                    "execution_count": 6,
                    "metadata": {},
                    "output_type": "execute_result"
                }
            ],
            "source": [
                "list_markdown(t.documents)"
            ]
        },
        {
            "cell_type": "code",
            "execution_count": 7,
            "id": "b27fc443-17ec-439f-993a-765b1a7bfff8",
            "metadata": {},
            "outputs": [
                {
                    "data": {
                        "text/plain": [
                            "(4, 4)"
                        ]
                    },
                    "execution_count": 7,
                    "metadata": {},
                    "output_type": "execute_result"
                }
            ],
            "source": [
                "t.get_task_range(docs[0][0], docs[0][0])"
            ]
        },
        {
            "cell_type": "markdown",
            "id": "b42788fb-a179-4897-9302-44169bdd918a",
            "metadata": {},
            "source": [
                "## replace_documents"
            ]
        },
        {
            "cell_type": "code",
            "execution_count": 8,
            "id": "219e6a7e-25ef-4d00-b85a-9697b54d4bd4",
            "metadata": {},
            "outputs": [
                {
                    "data": {
                        "text/plain": [
                            "[('bl-056-000', '\\n'),\n",
                            " ('he-676-001', '# 标题1\\n\\n'),\n",
                            " ('pa-170-002', '我的文档。\\n\\n'),\n",
                            " ('he-534-003', '## 好戏开始\\n\\n'),\n",
                            " ('bl-976-000', '\\n'),\n",
                            " ('pa-332-001', '流浪狗仰天长啸，变成了一只人模狗样的狗。\\n\\n'),\n",
                            " ('bl-837-005', '\\n'),\n",
                            " ('he-154-006', '## 第一个标题2\\n\\n'),\n",
                            " ('pa-805-007', '还有后面的故事。\\n\\n')]"
                        ]
                    },
                    "execution_count": 8,
                    "metadata": {},
                    "output_type": "execute_result"
                }
            ],
            "source": [
                "new_md = \"\"\"\n",
                "流浪狗仰天长啸，变成了一只人模狗样的狗。\n",
                "\"\"\"\n",
                "t = MarkdownLoader(md_to_replace)\n",
                "mode, docs = t.get_todo_documents(sep_mode=\"outline\", pattern=\"流浪狗成精\")\n",
                "t.replace_documents(docs[0][0], docs[0][0], parse_markdown(new_md))\n",
                "list_markdown(t.documents)"
            ]
        },
        {
            "cell_type": "markdown",
            "id": "0ea26192-8610-401e-a845-28f9e2fa1e15",
            "metadata": {},
            "source": [
                "剔除重复的部份："
            ]
        },
        {
            "cell_type": "code",
            "execution_count": 9,
            "id": "34d3bd8d-e6dc-4a03-907e-fa74383a50ba",
            "metadata": {},
            "outputs": [
                {
                    "data": {
                        "text/plain": [
                            "[('bl-788-000', '\\n'),\n",
                            " ('he-683-001', '# 标题1\\n\\n'),\n",
                            " ('pa-026-002', '我的文档。\\n\\n'),\n",
                            " ('he-061-003', '## 好戏开始\\n\\n'),\n",
                            " ('pa-142-002', '流浪狗仰天长啸，变成了一只人模狗样的狗。\\n\\n'),\n",
                            " ('bl-700-003', '\\n'),\n",
                            " ('pa-816-004', '还这是神了！\\n\\n'),\n",
                            " ('bl-642-005', '\\n'),\n",
                            " ('he-916-006', '## 第一个标题2\\n\\n'),\n",
                            " ('pa-693-007', '还有后面的故事。\\n\\n')]"
                        ]
                    },
                    "execution_count": 9,
                    "metadata": {},
                    "output_type": "execute_result"
                }
            ],
            "source": [
                "new_md = \"\"\"\n",
                "## 好戏开始\n",
                "流浪狗仰天长啸，变成了一只人模狗样的狗。\n",
                "\n",
                "还这是神了！\n",
                "## 第一个标题2\n",
                "以及其他\n",
                "\"\"\"\n",
                "t = MarkdownLoader(md_to_replace)\n",
                "mode, docs = t.get_todo_documents(sep_mode=\"outline\", pattern=\"流浪狗成精\")\n",
                "t.replace_documents(docs[0][0], docs[0][0], parse_markdown(new_md))\n",
                "list_markdown(t.documents)"
            ]
        },
        {
            "cell_type": "markdown",
            "id": "a545a5fb-ecbc-4995-95c6-9bade2d5af8f",
            "metadata": {},
            "source": [
                "## get_relevant_documents"
            ]
        },
        {
            "cell_type": "code",
            "execution_count": 3,
            "id": "44f48bf8-0caa-4474-86aa-00ae21f964a3",
            "metadata": {},
            "outputs": [],
            "source": [
                "md_to_get = \"\"\"\n",
                "# 标题1\n",
                "我的文档。\n",
                "\n",
                "<OUTLINE>\n",
                "扩写依据:\n",
                "妖魔世界背景设定。\n",
                "</OUTLINE>\n",
                "\n",
                "## 好戏开始\n",
                "<OUTLINE>\n",
                "扩写依据:\n",
                "一个夜晚，一只流浪狗成精了。\n",
                "</OUTLINE>\n",
                "\n",
                "## 第一个标题2\n",
                "还有后面的故事。\n",
                "<OUTLINE>\n",
                "扩写依据:\n",
                "大结局。\n",
                "</OUTLINE>\n",
                "\"\"\"\n",
                "t = MarkdownLoader(md_to_get)"
            ]
        },
        {
            "cell_type": "code",
            "execution_count": 4,
            "id": "b4a88078-1e93-4bb8-96d5-a369f00ff55a",
            "metadata": {},
            "outputs": [
                {
                    "data": {
                        "text/plain": [
                            "[('bl-247-000', '\\n'),\n",
                            " ('he-956-001', '# 标题1\\n\\n'),\n",
                            " ('pa-800-002', '我的文档。\\n\\n'),\n",
                            " ('bl-160-003', '\\n'),\n",
                            " ('OU-340-004', '<OUTLINE>\\n扩写依据:\\n妖魔世界背景设定。\\n</OUTLINE>\\n\\n'),\n",
                            " ('bl-358-005', '\\n'),\n",
                            " ('he-022-006', '## 好戏开始\\n\\n'),\n",
                            " ('OU-874-007', '<OUTLINE>\\n扩写依据:\\n一个夜晚，一只流浪狗成精了。\\n</OUTLINE>\\n\\n'),\n",
                            " ('bl-476-008', '\\n'),\n",
                            " ('he-129-009', '## 第一个标题2\\n\\n'),\n",
                            " ('pa-512-010', '还有后面的故事。\\n\\n'),\n",
                            " ('OU-429-011', '<OUTLINE>\\n扩写依据:\\n大结局。\\n</OUTLINE>\\n\\n'),\n",
                            " ('bl-206-012', '\\n')]"
                        ]
                    },
                    "execution_count": 4,
                    "metadata": {},
                    "output_type": "execute_result"
                }
            ],
            "source": [
                "list_markdown(t.documents)"
            ]
        },
        {
            "cell_type": "code",
            "execution_count": 5,
            "id": "c9486f84-52ce-484b-a4ca-a11446581db1",
            "metadata": {},
            "outputs": [
                {
                    "data": {
                        "text/plain": [
                            "[('bl-247-000', '\\n'),\n",
                            " ('he-956-001', '# 标题1\\n\\n'),\n",
                            " ('pa-800-002', '我的文档。\\n\\n'),\n",
                            " ('bl-160-003', '\\n'),\n",
                            " ('OU-340-004', ''),\n",
                            " ('bl-358-005', '\\n'),\n",
                            " ('he-022-006', '## 好戏开始\\n\\n')]"
                        ]
                    },
                    "execution_count": 5,
                    "metadata": {},
                    "output_type": "execute_result"
                }
            ],
            "source": [
                "list_markdown(t.get_prev_documents(t.documents[7], k=100))"
            ]
        },
        {
            "cell_type": "code",
            "execution_count": 6,
            "id": "44fd23bd-56d2-4cfb-b077-3cd8f5c8336c",
            "metadata": {},
            "outputs": [
                {
                    "data": {
                        "text/plain": [
                            "[('bl-476-008', '\\n'),\n",
                            " ('he-129-009', '## 第一个标题2\\n\\n'),\n",
                            " ('pa-512-010', '还有后面的故事。\\n\\n'),\n",
                            " ('OU-429-011', ''),\n",
                            " ('bl-206-012', '\\n')]"
                        ]
                    },
                    "execution_count": 6,
                    "metadata": {},
                    "output_type": "execute_result"
                }
            ],
            "source": [
                "list_markdown(t.get_next_documents(t.documents[7], k=50))"
            ]
        },
        {
            "cell_type": "markdown",
            "id": "49b38d60-c189-46b6-933c-2ee1f7681153",
            "metadata": {},
            "source": [
                "# Front-Matter"
            ]
        },
        {
            "cell_type": "code",
            "execution_count": 65,
            "id": "c46519d6-23eb-479e-9ec7-a05b293338ec",
            "metadata": {},
            "outputs": [
                {
                    "name": "stdout",
                    "output_type": "stream",
                    "text": [
                        "---\n",
                        "command: stream_log\n",
                        "args:\n",
                        "  sep_mode: all\n",
                        "  prompt_id: OUTLINE\n",
                        "  input: '\n",
                        "    请帮生成一个中文readme.文件，从第一级标题开始。\n",
                        "    内容是指导新手如何使用`illufly`这个python包。\n",
                        "    这需要包括dotenv使用、illufly加载、使用Project创作长文（其中又包括创作提纲、扩写、引用素材等几部份）\n",
                        "    '\n",
                        "  outline_start_tag: <OUTLINE>\n",
                        "  outline_end_tag: </OUTLINE>\n",
                        "output_file: README提纲.md\n",
                        "modified_at: '2024-06-23 15:41:38'\n",
                        "---\n",
                        "\n",
                        "\n"
                    ]
                }
            ],
            "source": [
                "import yaml\n",
                "\n",
                "input = \"\"\"\n",
                "请帮生成一个中文readme.文件，从第一级标题开始。\n",
                "内容是指导新手如何使用`illufly`这个python包。\n",
                "这需要包括dotenv使用、illufly加载、使用Project创作长文（其中又包括创作提纲、扩写、引用素材等几部份）\n",
                "\"\"\"\n",
                "meta = {\n",
                "    \"command\": \"stream_log\",\n",
                "    \"args\": {\n",
                "      \"sep_mode\": \"all\",\n",
                "      \"prompt_id\": \"OUTLINE\",\n",
                "      \"input\": input,\n",
                "      \"outline_start_tag\": \"<OUTLINE>\",\n",
                "      \"outline_end_tag\": \"</OUTLINE>\"\n",
                "    },\n",
                "    \"output_file\": \"README提纲.md\",\n",
                "    \"modified_at\": \"2024-06-23 15:41:38\"\n",
                "}\n",
                "\n",
                "from illufly.parser import fetch_front_matter, create_front_matter\n",
                "print(create_front_matter(meta))"
            ]
        },
        {
            "cell_type": "code",
            "execution_count": null,
            "id": "cbfb85ef-7c4d-419f-80ac-3fa3e28d21a0",
            "metadata": {},
            "outputs": [],
            "source": []
        }
    ],
    "metadata": {
        "kernelspec": {
            "display_name": "illufly-same-ipykernel",
            "language": "python",
            "name": "illufly-same-ipykernel"
        },
        "language_info": {
            "codemirror_mode": {
                "name": "ipython",
                "version": 3
            },
            "file_extension": ".py",
            "mimetype": "text/x-python",
            "name": "python",
            "nbconvert_exporter": "python",
            "pygments_lexer": "ipython3",
            "version": "3.10.0"
        }
    },
    "nbformat": 4,
    "nbformat_minor": 5
}