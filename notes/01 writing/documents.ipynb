{
 "cells": [
  {
   "cell_type": "code",
   "execution_count": 1,
   "id": "97425139-86b1-4c16-bdc2-4b4d15377b29",
   "metadata": {},
   "outputs": [
    {
     "data": {
      "text/plain": [
       "True"
      ]
     },
     "execution_count": 1,
     "metadata": {},
     "output_type": "execute_result"
    }
   ],
   "source": [
    "import os\n",
    "from dotenv import load_dotenv, find_dotenv\n",
    "load_dotenv(find_dotenv(), override=True)"
   ]
  },
  {
   "cell_type": "code",
   "execution_count": 2,
   "id": "651b2484-ff16-406e-96ba-b1d8ef245087",
   "metadata": {},
   "outputs": [],
   "source": [
    "from textlong.writing import MarkdownLoader\n",
    "from textlong.parser import parse_markdown"
   ]
  },
  {
   "cell_type": "code",
   "execution_count": 3,
   "id": "1a1933f0-de79-4bbe-ba2d-cc6e0e34f1f8",
   "metadata": {},
   "outputs": [],
   "source": [
    "md = \"\"\"\n",
    "## 前序\n",
    "\n",
    "# 标题1\n",
    "我的文档。\n",
    "\n",
    "<OUTLINE>\n",
    "扩写依据:\n",
    "你说的有道理\n",
    "</OUTLINE>\n",
    "\n",
    "## 第一个标题2\n",
    "\n",
    "逍遥老仙，\n",
    "\n",
    "逍遥小仙，\n",
    "\n",
    "<OUTLINE>\n",
    "扩写依据：帮我描述一下逍遥老仙的威武霸气\n",
    "</OUTLINE>\n",
    "\n",
    "那又是谁？\n",
    "\n",
    "<OUTLINE>\n",
    "扩写依据：帮我描述一下逍遥小仙的武功盖世\n",
    "## 宁厌烦\n",
    "## 宁雪\n",
    "</OUTLINE>\n",
    "\n",
    "## 第二个标题2\n",
    "\n",
    "法力无边。\n",
    "\n",
    "### 标题3 \n",
    "\n",
    "倚天不出，谁与争锋。\n",
    "\n",
    "## 第三个标题2\n",
    "\n",
    "华山论剑。\n",
    "\"\"\""
   ]
  },
  {
   "cell_type": "markdown",
   "id": "f2fbf6e4-adae-475d-a471-505933d0a886",
   "metadata": {},
   "source": [
    "# 解析 markdown"
   ]
  },
  {
   "cell_type": "code",
   "execution_count": 4,
   "id": "8864b0b8-b78b-443f-9087-0ba13fcb2f46",
   "metadata": {},
   "outputs": [
    {
     "data": {
      "text/plain": [
       "[Document(page_content='\\n', metadata={'type': 'blank_line', 'id': '1719317631-0'}),\n",
       " Document(page_content='## 前序\\n\\n', metadata={'type': 'heading', 'attrs': {'level': 2}, 'style': 'axt', 'children': [{'type': 'text', 'raw': '前序'}], 'id': '1719317631-1'}),\n",
       " Document(page_content='\\n', metadata={'type': 'blank_line', 'id': '1719317631-2'}),\n",
       " Document(page_content='# 标题1\\n\\n', metadata={'type': 'heading', 'attrs': {'level': 1}, 'style': 'axt', 'children': [{'type': 'text', 'raw': '标题1'}], 'id': '1719317631-3'}),\n",
       " Document(page_content='我的文档。\\n\\n', metadata={'type': 'paragraph', 'children': [{'type': 'text', 'raw': '我的文档。'}], 'id': '1719317631-4'}),\n",
       " Document(page_content='\\n', metadata={'type': 'blank_line', 'id': '1719317631-5'}),\n",
       " Document(page_content='<OUTLINE>\\n扩写依据:\\n你说的有道理\\n</OUTLINE>\\n\\n', metadata={'id': '1719317631-6', 'type': 'OUTLINE'}),\n",
       " Document(page_content='\\n', metadata={'type': 'blank_line', 'id': '1719317631-7'}),\n",
       " Document(page_content='## 第一个标题2\\n\\n', metadata={'type': 'heading', 'attrs': {'level': 2}, 'style': 'axt', 'children': [{'type': 'text', 'raw': '第一个标题2'}], 'id': '1719317631-8'}),\n",
       " Document(page_content='\\n', metadata={'type': 'blank_line', 'id': '1719317631-9'}),\n",
       " Document(page_content='逍遥老仙，\\n\\n', metadata={'type': 'paragraph', 'children': [{'type': 'text', 'raw': '逍遥老仙，'}], 'id': '1719317631-10'}),\n",
       " Document(page_content='\\n', metadata={'type': 'blank_line', 'id': '1719317631-11'}),\n",
       " Document(page_content='逍遥小仙，\\n\\n', metadata={'type': 'paragraph', 'children': [{'type': 'text', 'raw': '逍遥小仙，'}], 'id': '1719317631-12'}),\n",
       " Document(page_content='\\n', metadata={'type': 'blank_line', 'id': '1719317631-13'}),\n",
       " Document(page_content='<OUTLINE>\\n扩写依据：帮我描述一下逍遥老仙的威武霸气\\n</OUTLINE>\\n\\n', metadata={'id': '1719317631-14', 'type': 'OUTLINE'}),\n",
       " Document(page_content='\\n', metadata={'type': 'blank_line', 'id': '1719317631-15'}),\n",
       " Document(page_content='那又是谁？\\n\\n', metadata={'type': 'paragraph', 'children': [{'type': 'text', 'raw': '那又是谁？'}], 'id': '1719317631-16'}),\n",
       " Document(page_content='\\n', metadata={'type': 'blank_line', 'id': '1719317631-17'}),\n",
       " Document(page_content='<OUTLINE>\\n扩写依据：帮我描述一下逍遥小仙的武功盖世\\n## 宁厌烦\\n## 宁雪\\n</OUTLINE>\\n\\n', metadata={'id': '1719317631-18', 'type': 'OUTLINE'}),\n",
       " Document(page_content='\\n', metadata={'type': 'blank_line', 'id': '1719317631-19'}),\n",
       " Document(page_content='## 第二个标题2\\n\\n', metadata={'type': 'heading', 'attrs': {'level': 2}, 'style': 'axt', 'children': [{'type': 'text', 'raw': '第二个标题2'}], 'id': '1719317631-20'}),\n",
       " Document(page_content='\\n', metadata={'type': 'blank_line', 'id': '1719317631-21'}),\n",
       " Document(page_content='法力无边。\\n\\n', metadata={'type': 'paragraph', 'children': [{'type': 'text', 'raw': '法力无边。'}], 'id': '1719317631-22'}),\n",
       " Document(page_content='\\n', metadata={'type': 'blank_line', 'id': '1719317631-23'}),\n",
       " Document(page_content='### 标题3\\n\\n', metadata={'type': 'heading', 'attrs': {'level': 3}, 'style': 'axt', 'children': [{'type': 'text', 'raw': '标题3'}], 'id': '1719317631-24'}),\n",
       " Document(page_content='\\n', metadata={'type': 'blank_line', 'id': '1719317631-25'}),\n",
       " Document(page_content='倚天不出，谁与争锋。\\n\\n', metadata={'type': 'paragraph', 'children': [{'type': 'text', 'raw': '倚天不出，谁与争锋。'}], 'id': '1719317631-26'}),\n",
       " Document(page_content='\\n', metadata={'type': 'blank_line', 'id': '1719317631-27'}),\n",
       " Document(page_content='## 第三个标题2\\n\\n', metadata={'type': 'heading', 'attrs': {'level': 2}, 'style': 'axt', 'children': [{'type': 'text', 'raw': '第三个标题2'}], 'id': '1719317631-28'}),\n",
       " Document(page_content='\\n', metadata={'type': 'blank_line', 'id': '1719317631-29'}),\n",
       " Document(page_content='华山论剑。\\n\\n', metadata={'type': 'paragraph', 'children': [{'type': 'text', 'raw': '华山论剑。'}], 'id': '1719317631-30'})]"
      ]
     },
     "execution_count": 4,
     "metadata": {},
     "output_type": "execute_result"
    }
   ],
   "source": [
    "parse_markdown(md)"
   ]
  },
  {
   "cell_type": "markdown",
   "id": "4f7e2ffd-0254-45d1-9784-8a96257aec91",
   "metadata": {},
   "source": [
    "# MarkdownDocuments"
   ]
  },
  {
   "cell_type": "markdown",
   "id": "79425487-eb0e-428e-b6c4-eebed5abf19a",
   "metadata": {},
   "source": [
    "## `__init__`"
   ]
  },
  {
   "cell_type": "code",
   "execution_count": 5,
   "id": "6abba28e-188c-4404-8697-ce1b95bdf695",
   "metadata": {},
   "outputs": [
    {
     "data": {
      "text/plain": [
       "'\\n## 前序\\n\\n\\n# 标题1\\n\\n我的文档。\\n\\n\\n<OUTLINE>\\n扩写依据:\\n你说的有道理\\n</OUTLINE>\\n\\n\\n## 第一个标题2\\n\\n\\n逍遥老仙，\\n\\n\\n逍遥小仙，\\n\\n\\n<OUTLINE>\\n扩写依据：帮我描述一下逍遥老仙的威武霸气\\n</OUTLINE>\\n\\n\\n那又是谁？\\n\\n\\n<OUTLINE>\\n扩写依据：帮我描述一下逍遥小仙的武功盖世\\n## 宁厌烦\\n## 宁雪\\n</OUTLINE>\\n\\n\\n## 第二个标题2\\n\\n\\n法力无边。\\n\\n\\n### 标题3\\n\\n\\n倚天不出，谁与争锋。\\n\\n\\n## 第三个标题2\\n\\n\\n华山论剑。\\n\\n'"
      ]
     },
     "execution_count": 5,
     "metadata": {},
     "output_type": "execute_result"
    }
   ],
   "source": [
    "t = MarkdownLoader(md)\n",
    "t.markdown"
   ]
  },
  {
   "cell_type": "markdown",
   "id": "eb2eb720-f27d-41d0-bcad-ab8ea7742286",
   "metadata": {},
   "source": [
    "# 文档拆分"
   ]
  },
  {
   "cell_type": "markdown",
   "id": "ffa440e7-2674-4e9a-a79c-b8420649d211",
   "metadata": {},
   "source": [
    "## all"
   ]
  },
  {
   "cell_type": "code",
   "execution_count": 6,
   "id": "2f587d2d-0490-455a-9444-64be62b4258e",
   "metadata": {},
   "outputs": [
    {
     "data": {
      "text/plain": [
       "('all',\n",
       " [Document(page_content='逍遥老仙，\\n\\n', metadata={'type': 'paragraph', 'children': [{'type': 'text', 'raw': '逍遥老仙，'}], 'id': '1719317631-10'}),\n",
       "  Document(page_content='逍遥小仙，\\n\\n', metadata={'type': 'paragraph', 'children': [{'type': 'text', 'raw': '逍遥小仙，'}], 'id': '1719317631-12'}),\n",
       "  Document(page_content='<OUTLINE>\\n扩写依据：帮我描述一下逍遥老仙的威武霸气\\n</OUTLINE>\\n\\n', metadata={'id': '1719317631-14', 'type': 'OUTLINE'}),\n",
       "  Document(page_content='<OUTLINE>\\n扩写依据：帮我描述一下逍遥小仙的武功盖世\\n## 宁厌烦\\n## 宁雪\\n</OUTLINE>\\n\\n', metadata={'id': '1719317631-18', 'type': 'OUTLINE'})])"
      ]
     },
     "execution_count": 6,
     "metadata": {},
     "output_type": "execute_result"
    }
   ],
   "source": [
    "t.get_todo_documents(sep_mode=\"all\", pattern=\"逍遥\")"
   ]
  },
  {
   "cell_type": "markdown",
   "id": "ff255270-a30f-44ca-9974-01a495e7ed04",
   "metadata": {},
   "source": [
    "## document"
   ]
  },
  {
   "cell_type": "code",
   "execution_count": 7,
   "id": "1c56d011-112b-4495-86c6-3788826dd329",
   "metadata": {},
   "outputs": [
    {
     "data": {
      "text/plain": [
       "('document',\n",
       " [(Document(page_content='逍遥老仙，\\n\\n', metadata={'type': 'paragraph', 'children': [{'type': 'text', 'raw': '逍遥老仙，'}], 'id': '1719317631-10'}),\n",
       "   10),\n",
       "  (Document(page_content='逍遥小仙，\\n\\n', metadata={'type': 'paragraph', 'children': [{'type': 'text', 'raw': '逍遥小仙，'}], 'id': '1719317631-12'}),\n",
       "   12),\n",
       "  (Document(page_content='<OUTLINE>\\n扩写依据：帮我描述一下逍遥老仙的威武霸气\\n</OUTLINE>\\n\\n', metadata={'id': '1719317631-14', 'type': 'OUTLINE'}),\n",
       "   14),\n",
       "  (Document(page_content='<OUTLINE>\\n扩写依据：帮我描述一下逍遥小仙的武功盖世\\n## 宁厌烦\\n## 宁雪\\n</OUTLINE>\\n\\n', metadata={'id': '1719317631-18', 'type': 'OUTLINE'}),\n",
       "   18)])"
      ]
     },
     "execution_count": 7,
     "metadata": {},
     "output_type": "execute_result"
    }
   ],
   "source": [
    "t.get_todo_documents(sep_mode=\"element\", pattern=\"逍遥\")"
   ]
  },
  {
   "cell_type": "markdown",
   "id": "d10f4af6-6caa-48db-9cc4-2080fbf6110c",
   "metadata": {},
   "source": [
    "## outline"
   ]
  },
  {
   "cell_type": "code",
   "execution_count": 8,
   "id": "a9149225-e0b8-4814-bb90-5560d329c86d",
   "metadata": {},
   "outputs": [
    {
     "data": {
      "text/plain": [
       "('document',\n",
       " [(Document(page_content='<OUTLINE>\\n扩写依据:\\n你说的有道理\\n</OUTLINE>\\n\\n', metadata={'id': '1719317631-6', 'type': 'OUTLINE'}),\n",
       "   6),\n",
       "  (Document(page_content='<OUTLINE>\\n扩写依据：帮我描述一下逍遥老仙的威武霸气\\n</OUTLINE>\\n\\n', metadata={'id': '1719317631-14', 'type': 'OUTLINE'}),\n",
       "   14),\n",
       "  (Document(page_content='<OUTLINE>\\n扩写依据：帮我描述一下逍遥小仙的武功盖世\\n## 宁厌烦\\n## 宁雪\\n</OUTLINE>\\n\\n', metadata={'id': '1719317631-18', 'type': 'OUTLINE'}),\n",
       "   18)])"
      ]
     },
     "execution_count": 8,
     "metadata": {},
     "output_type": "execute_result"
    }
   ],
   "source": [
    "t.get_todo_documents(sep_mode=\"outline\")"
   ]
  },
  {
   "cell_type": "code",
   "execution_count": 9,
   "id": "c247f758-9ae3-4a90-b1e1-a347139edb4a",
   "metadata": {},
   "outputs": [
    {
     "name": "stdout",
     "output_type": "stream",
     "text": [
      "--------------------\n",
      "<OUTLINE>\n",
      "扩写依据:\n",
      "你说的有道理\n",
      "</OUTLINE>\n",
      "\n",
      "\n",
      "--------------------\n",
      "<OUTLINE>\n",
      "扩写依据：帮我描述一下逍遥老仙的威武霸气\n",
      "</OUTLINE>\n",
      "\n",
      "\n",
      "--------------------\n",
      "<OUTLINE>\n",
      "扩写依据：帮我描述一下逍遥小仙的武功盖世\n",
      "## 宁厌烦\n",
      "## 宁雪\n",
      "</OUTLINE>\n",
      "\n",
      "\n"
     ]
    }
   ],
   "source": [
    "mode, docs = t.get_todo_documents(sep_mode=\"outline\")\n",
    "for d, index in docs:\n",
    "    print(\"-\"*20)\n",
    "    print(d.page_content)"
   ]
  },
  {
   "cell_type": "markdown",
   "id": "ca8cb95c-89ab-4cfd-a030-f8a3abde24e2",
   "metadata": {},
   "source": [
    "## segment"
   ]
  },
  {
   "cell_type": "code",
   "execution_count": 10,
   "id": "b4d59bab-b070-461d-9805-6df191dd2f8c",
   "metadata": {},
   "outputs": [
    {
     "data": {
      "text/plain": [
       "('segment',\n",
       " [[Document(page_content='\\n', metadata={'type': 'blank_line', 'id': '1719317631-0'})],\n",
       "  [Document(page_content='\\n', metadata={'type': 'blank_line', 'id': '1719317631-2'})],\n",
       "  [Document(page_content='我的文档。\\n\\n', metadata={'type': 'paragraph', 'children': [{'type': 'text', 'raw': '我的文档。'}], 'id': '1719317631-4'}),\n",
       "   Document(page_content='\\n', metadata={'type': 'blank_line', 'id': '1719317631-5'}),\n",
       "   Document(page_content='<OUTLINE>\\n扩写依据:\\n你说的有道理\\n</OUTLINE>\\n\\n', metadata={'id': '1719317631-6', 'type': 'OUTLINE'}),\n",
       "   Document(page_content='\\n', metadata={'type': 'blank_line', 'id': '1719317631-7'})],\n",
       "  [Document(page_content='\\n', metadata={'type': 'blank_line', 'id': '1719317631-9'}),\n",
       "   Document(page_content='逍遥老仙，\\n\\n', metadata={'type': 'paragraph', 'children': [{'type': 'text', 'raw': '逍遥老仙，'}], 'id': '1719317631-10'}),\n",
       "   Document(page_content='\\n', metadata={'type': 'blank_line', 'id': '1719317631-11'}),\n",
       "   Document(page_content='逍遥小仙，\\n\\n', metadata={'type': 'paragraph', 'children': [{'type': 'text', 'raw': '逍遥小仙，'}], 'id': '1719317631-12'}),\n",
       "   Document(page_content='\\n', metadata={'type': 'blank_line', 'id': '1719317631-13'}),\n",
       "   Document(page_content='<OUTLINE>\\n扩写依据：帮我描述一下逍遥老仙的威武霸气\\n</OUTLINE>\\n\\n', metadata={'id': '1719317631-14', 'type': 'OUTLINE'}),\n",
       "   Document(page_content='\\n', metadata={'type': 'blank_line', 'id': '1719317631-15'}),\n",
       "   Document(page_content='那又是谁？\\n\\n', metadata={'type': 'paragraph', 'children': [{'type': 'text', 'raw': '那又是谁？'}], 'id': '1719317631-16'}),\n",
       "   Document(page_content='\\n', metadata={'type': 'blank_line', 'id': '1719317631-17'}),\n",
       "   Document(page_content='<OUTLINE>\\n扩写依据：帮我描述一下逍遥小仙的武功盖世\\n## 宁厌烦\\n## 宁雪\\n</OUTLINE>\\n\\n', metadata={'id': '1719317631-18', 'type': 'OUTLINE'}),\n",
       "   Document(page_content='\\n', metadata={'type': 'blank_line', 'id': '1719317631-19'})],\n",
       "  [Document(page_content='\\n', metadata={'type': 'blank_line', 'id': '1719317631-21'}),\n",
       "   Document(page_content='法力无边。\\n\\n', metadata={'type': 'paragraph', 'children': [{'type': 'text', 'raw': '法力无边。'}], 'id': '1719317631-22'}),\n",
       "   Document(page_content='\\n', metadata={'type': 'blank_line', 'id': '1719317631-23'})],\n",
       "  [Document(page_content='\\n', metadata={'type': 'blank_line', 'id': '1719317631-25'}),\n",
       "   Document(page_content='倚天不出，谁与争锋。\\n\\n', metadata={'type': 'paragraph', 'children': [{'type': 'text', 'raw': '倚天不出，谁与争锋。'}], 'id': '1719317631-26'}),\n",
       "   Document(page_content='\\n', metadata={'type': 'blank_line', 'id': '1719317631-27'})],\n",
       "  [Document(page_content='\\n', metadata={'type': 'blank_line', 'id': '1719317631-29'}),\n",
       "   Document(page_content='华山论剑。\\n\\n', metadata={'type': 'paragraph', 'children': [{'type': 'text', 'raw': '华山论剑。'}], 'id': '1719317631-30'})]])"
      ]
     },
     "execution_count": 10,
     "metadata": {},
     "output_type": "execute_result"
    }
   ],
   "source": [
    "t.get_todo_documents(sep_mode=\"segment\")"
   ]
  },
  {
   "cell_type": "code",
   "execution_count": 11,
   "id": "986012cd-3a62-4517-9aa1-aed46e180390",
   "metadata": {},
   "outputs": [
    {
     "name": "stdout",
     "output_type": "stream",
     "text": [
      "--------------------\n",
      "[Document(page_content='\\n', metadata={'type': 'blank_line', 'id': '1719317631-0'})]\n",
      "--------------------\n",
      "[Document(page_content='\\n', metadata={'type': 'blank_line', 'id': '1719317631-2'})]\n",
      "--------------------\n",
      "[Document(page_content='我的文档。\\n\\n', metadata={'type': 'paragraph', 'children': [{'type': 'text', 'raw': '我的文档。'}], 'id': '1719317631-4'}), Document(page_content='\\n', metadata={'type': 'blank_line', 'id': '1719317631-5'}), Document(page_content='<OUTLINE>\\n扩写依据:\\n你说的有道理\\n</OUTLINE>\\n\\n', metadata={'id': '1719317631-6', 'type': 'OUTLINE'}), Document(page_content='\\n', metadata={'type': 'blank_line', 'id': '1719317631-7'})]\n",
      "--------------------\n",
      "[Document(page_content='\\n', metadata={'type': 'blank_line', 'id': '1719317631-9'}), Document(page_content='逍遥老仙，\\n\\n', metadata={'type': 'paragraph', 'children': [{'type': 'text', 'raw': '逍遥老仙，'}], 'id': '1719317631-10'}), Document(page_content='\\n', metadata={'type': 'blank_line', 'id': '1719317631-11'}), Document(page_content='逍遥小仙，\\n\\n', metadata={'type': 'paragraph', 'children': [{'type': 'text', 'raw': '逍遥小仙，'}], 'id': '1719317631-12'}), Document(page_content='\\n', metadata={'type': 'blank_line', 'id': '1719317631-13'}), Document(page_content='<OUTLINE>\\n扩写依据：帮我描述一下逍遥老仙的威武霸气\\n</OUTLINE>\\n\\n', metadata={'id': '1719317631-14', 'type': 'OUTLINE'}), Document(page_content='\\n', metadata={'type': 'blank_line', 'id': '1719317631-15'}), Document(page_content='那又是谁？\\n\\n', metadata={'type': 'paragraph', 'children': [{'type': 'text', 'raw': '那又是谁？'}], 'id': '1719317631-16'}), Document(page_content='\\n', metadata={'type': 'blank_line', 'id': '1719317631-17'}), Document(page_content='<OUTLINE>\\n扩写依据：帮我描述一下逍遥小仙的武功盖世\\n## 宁厌烦\\n## 宁雪\\n</OUTLINE>\\n\\n', metadata={'id': '1719317631-18', 'type': 'OUTLINE'}), Document(page_content='\\n', metadata={'type': 'blank_line', 'id': '1719317631-19'})]\n",
      "--------------------\n",
      "[Document(page_content='\\n', metadata={'type': 'blank_line', 'id': '1719317631-21'}), Document(page_content='法力无边。\\n\\n', metadata={'type': 'paragraph', 'children': [{'type': 'text', 'raw': '法力无边。'}], 'id': '1719317631-22'}), Document(page_content='\\n', metadata={'type': 'blank_line', 'id': '1719317631-23'})]\n",
      "--------------------\n",
      "[Document(page_content='\\n', metadata={'type': 'blank_line', 'id': '1719317631-25'}), Document(page_content='倚天不出，谁与争锋。\\n\\n', metadata={'type': 'paragraph', 'children': [{'type': 'text', 'raw': '倚天不出，谁与争锋。'}], 'id': '1719317631-26'}), Document(page_content='\\n', metadata={'type': 'blank_line', 'id': '1719317631-27'})]\n",
      "--------------------\n",
      "[Document(page_content='\\n', metadata={'type': 'blank_line', 'id': '1719317631-29'}), Document(page_content='华山论剑。\\n\\n', metadata={'type': 'paragraph', 'children': [{'type': 'text', 'raw': '华山论剑。'}], 'id': '1719317631-30'})]\n"
     ]
    }
   ],
   "source": [
    "mode, docs_list = t.get_todo_documents(sep_mode=\"segment\")\n",
    "for docs in docs_list:\n",
    "    print(\"-\"*20)\n",
    "    print(docs)\n",
    "    # print('\\n'.join([d.page_content for d in docs]))"
   ]
  },
  {
   "cell_type": "markdown",
   "id": "edfdd2a9-8095-4221-abca-e58851b49d27",
   "metadata": {},
   "source": [
    "# 文档替换"
   ]
  },
  {
   "cell_type": "code",
   "execution_count": 31,
   "id": "3603af42-befd-46b3-a824-1acaef6ef3ef",
   "metadata": {},
   "outputs": [],
   "source": [
    "t = MarkdownLoader(md)"
   ]
  },
  {
   "cell_type": "markdown",
   "id": "0f4b8125-a8f8-401f-bae1-5e868b079b7f",
   "metadata": {},
   "source": [
    "## get_task_range"
   ]
  },
  {
   "cell_type": "code",
   "execution_count": 32,
   "id": "e75beb1c-9d04-4e4f-ae18-31024ca10aef",
   "metadata": {},
   "outputs": [
    {
     "data": {
      "text/plain": [
       "[(Document(page_content='逍遥老仙，\\n\\n', metadata={'type': 'paragraph', 'children': [{'type': 'text', 'raw': '逍遥老仙，'}], 'id': '1719318409-10'}),\n",
       "  10),\n",
       " (Document(page_content='逍遥小仙，\\n\\n', metadata={'type': 'paragraph', 'children': [{'type': 'text', 'raw': '逍遥小仙，'}], 'id': '1719318409-12'}),\n",
       "  12),\n",
       " (Document(page_content='<OUTLINE>\\n扩写依据：帮我描述一下逍遥老仙的威武霸气\\n</OUTLINE>\\n\\n', metadata={'id': '1719318409-14', 'type': 'OUTLINE'}),\n",
       "  14),\n",
       " (Document(page_content='<OUTLINE>\\n扩写依据：帮我描述一下逍遥小仙的武功盖世\\n## 宁厌烦\\n## 宁雪\\n</OUTLINE>\\n\\n', metadata={'id': '1719318409-18', 'type': 'OUTLINE'}),\n",
       "  18)]"
      ]
     },
     "execution_count": 32,
     "metadata": {},
     "output_type": "execute_result"
    }
   ],
   "source": [
    "mode, docs = t.get_todo_documents(sep_mode=\"element\", pattern=\"逍遥\")\n",
    "docs"
   ]
  },
  {
   "cell_type": "code",
   "execution_count": 34,
   "id": "6bb55c4f-d35d-47dd-be61-82300ef8cae2",
   "metadata": {},
   "outputs": [
    {
     "data": {
      "text/plain": [
       "['1719318409-0',\n",
       " '1719318409-1',\n",
       " '1719318409-2',\n",
       " '1719318409-3',\n",
       " '1719318409-4',\n",
       " '1719318409-5',\n",
       " '1719318409-6',\n",
       " '1719318409-7',\n",
       " '1719318409-8',\n",
       " '1719318409-9',\n",
       " '1719318409-10',\n",
       " '1719318409-11',\n",
       " '1719318409-12',\n",
       " '1719318409-13',\n",
       " '1719318409-14',\n",
       " '1719318409-15',\n",
       " '1719318409-16',\n",
       " '1719318409-17',\n",
       " '1719318409-18',\n",
       " '1719318409-19',\n",
       " '1719318409-20',\n",
       " '1719318409-21',\n",
       " '1719318409-22',\n",
       " '1719318409-23',\n",
       " '1719318409-24',\n",
       " '1719318409-25',\n",
       " '1719318409-26',\n",
       " '1719318409-27',\n",
       " '1719318409-28',\n",
       " '1719318409-29',\n",
       " '1719318409-30']"
      ]
     },
     "execution_count": 34,
     "metadata": {},
     "output_type": "execute_result"
    }
   ],
   "source": [
    "[d.metadata['id'] for d in t.documents]"
   ]
  },
  {
   "cell_type": "code",
   "execution_count": 37,
   "id": "9818ca32-433d-43b6-91be-87edcd7039fb",
   "metadata": {},
   "outputs": [
    {
     "data": {
      "text/plain": [
       "Document(page_content='逍遥老仙，\\n\\n', metadata={'type': 'paragraph', 'children': [{'type': 'text', 'raw': '逍遥老仙，'}], 'id': '1719318409-10'})"
      ]
     },
     "execution_count": 37,
     "metadata": {},
     "output_type": "execute_result"
    }
   ],
   "source": [
    "docs[0][0]"
   ]
  },
  {
   "cell_type": "code",
   "execution_count": 38,
   "id": "b27fc443-17ec-439f-993a-765b1a7bfff8",
   "metadata": {},
   "outputs": [
    {
     "data": {
      "text/plain": [
       "(10, 12)"
      ]
     },
     "execution_count": 38,
     "metadata": {},
     "output_type": "execute_result"
    }
   ],
   "source": [
    "t.get_task_range(docs[0][0], docs[1][0])"
   ]
  },
  {
   "cell_type": "markdown",
   "id": "b42788fb-a179-4897-9302-44169bdd918a",
   "metadata": {},
   "source": [
    "## replace_documents"
   ]
  },
  {
   "cell_type": "code",
   "execution_count": 47,
   "id": "7352d7f3-1b34-4b50-a821-70833257073a",
   "metadata": {},
   "outputs": [
    {
     "data": {
      "text/plain": [
       "(Document(page_content='逍遥小仙，\\n\\n', metadata={'type': 'paragraph', 'children': [{'type': 'text', 'raw': '逍遥小仙，'}], 'id': '1719318409-12'}),\n",
       " 12)"
      ]
     },
     "execution_count": 47,
     "metadata": {},
     "output_type": "execute_result"
    }
   ],
   "source": [
    "new_md = \"\"\"\n",
    "我是一个新插入的markdown:\n",
    "\n",
    "- 我很能打\n",
    "- 我也很能吃\n",
    "\"\"\"\n",
    "docs[1]"
   ]
  },
  {
   "cell_type": "code",
   "execution_count": 48,
   "id": "9d6a2588-4fa2-40a0-8b19-8a8a1867a7ed",
   "metadata": {},
   "outputs": [
    {
     "data": {
      "text/plain": [
       "(17, 17)"
      ]
     },
     "execution_count": 48,
     "metadata": {},
     "output_type": "execute_result"
    }
   ],
   "source": [
    "t.get_task_range(docs[2][0], docs[2][0])"
   ]
  },
  {
   "cell_type": "code",
   "execution_count": 50,
   "id": "219e6a7e-25ef-4d00-b85a-9697b54d4bd4",
   "metadata": {},
   "outputs": [
    {
     "data": {
      "text/plain": [
       "[Document(page_content='\\n', metadata={'type': 'blank_line', 'id': '1719318409-0'}),\n",
       " Document(page_content='## 前序\\n\\n', metadata={'type': 'heading', 'attrs': {'level': 2}, 'style': 'axt', 'children': [{'type': 'text', 'raw': '前序'}], 'id': '1719318409-1'}),\n",
       " Document(page_content='\\n', metadata={'type': 'blank_line', 'id': '1719318409-2'}),\n",
       " Document(page_content='# 标题1\\n\\n', metadata={'type': 'heading', 'attrs': {'level': 1}, 'style': 'axt', 'children': [{'type': 'text', 'raw': '标题1'}], 'id': '1719318409-3'}),\n",
       " Document(page_content='我的文档。\\n\\n', metadata={'type': 'paragraph', 'children': [{'type': 'text', 'raw': '我的文档。'}], 'id': '1719318409-4'}),\n",
       " Document(page_content='\\n', metadata={'type': 'blank_line', 'id': '1719318409-5'}),\n",
       " Document(page_content='<OUTLINE>\\n扩写依据:\\n你说的有道理\\n</OUTLINE>\\n\\n', metadata={'id': '1719318409-6', 'type': 'OUTLINE'}),\n",
       " Document(page_content='\\n', metadata={'type': 'blank_line', 'id': '1719318409-7'}),\n",
       " Document(page_content='## 第一个标题2\\n\\n', metadata={'type': 'heading', 'attrs': {'level': 2}, 'style': 'axt', 'children': [{'type': 'text', 'raw': '第一个标题2'}], 'id': '1719318409-8'}),\n",
       " Document(page_content='\\n', metadata={'type': 'blank_line', 'id': '1719318409-9'}),\n",
       " Document(page_content='逍遥老仙，\\n\\n', metadata={'type': 'paragraph', 'children': [{'type': 'text', 'raw': '逍遥老仙，'}], 'id': '1719318409-10'}),\n",
       " Document(page_content='\\n', metadata={'type': 'blank_line', 'id': '1719318409-11'}),\n",
       " Document(page_content='\\n', metadata={'type': 'blank_line', 'id': '1719318585-0'}),\n",
       " Document(page_content='我是一个新插入的markdown:\\n\\n', metadata={'type': 'paragraph', 'children': [{'type': 'text', 'raw': '我是一个新插入的markdown:'}], 'id': '1719318585-1'}),\n",
       " Document(page_content='\\n', metadata={'type': 'blank_line', 'id': '1719318585-2'}),\n",
       " Document(page_content='- 我很能打\\n- 我也很能吃\\n\\n', metadata={'type': 'list', 'children': [{'type': 'list_item', 'children': [{'type': 'block_text', 'children': [{'type': 'text', 'raw': '我很能打'}]}]}, {'type': 'list_item', 'children': [{'type': 'block_text', 'children': [{'type': 'text', 'raw': '我也很能吃'}]}]}], 'tight': True, 'bullet': '-', 'attrs': {'depth': 0, 'ordered': False}, 'id': '1719318585-3'}),\n",
       " Document(page_content='\\n', metadata={'type': 'blank_line', 'id': '1719318409-13'}),\n",
       " Document(page_content='\\n', metadata={'type': 'blank_line', 'id': '1719318684-0'}),\n",
       " Document(page_content='我是一个新插入的markdown:\\n\\n', metadata={'type': 'paragraph', 'children': [{'type': 'text', 'raw': '我是一个新插入的markdown:'}], 'id': '1719318684-1'}),\n",
       " Document(page_content='\\n', metadata={'type': 'blank_line', 'id': '1719318684-2'}),\n",
       " Document(page_content='- 我很能打\\n- 我也很能吃\\n\\n', metadata={'type': 'list', 'children': [{'type': 'list_item', 'children': [{'type': 'block_text', 'children': [{'type': 'text', 'raw': '我很能打'}]}]}, {'type': 'list_item', 'children': [{'type': 'block_text', 'children': [{'type': 'text', 'raw': '我也很能吃'}]}]}], 'tight': True, 'bullet': '-', 'attrs': {'depth': 0, 'ordered': False}, 'id': '1719318684-3'}),\n",
       " Document(page_content='\\n', metadata={'type': 'blank_line', 'id': '1719318409-15'}),\n",
       " Document(page_content='那又是谁？\\n\\n', metadata={'type': 'paragraph', 'children': [{'type': 'text', 'raw': '那又是谁？'}], 'id': '1719318409-16'}),\n",
       " Document(page_content='\\n', metadata={'type': 'blank_line', 'id': '1719318409-17'}),\n",
       " Document(page_content='<OUTLINE>\\n扩写依据：帮我描述一下逍遥小仙的武功盖世\\n## 宁厌烦\\n## 宁雪\\n</OUTLINE>\\n\\n', metadata={'id': '1719318409-18', 'type': 'OUTLINE'}),\n",
       " Document(page_content='\\n', metadata={'type': 'blank_line', 'id': '1719318409-19'}),\n",
       " Document(page_content='## 第二个标题2\\n\\n', metadata={'type': 'heading', 'attrs': {'level': 2}, 'style': 'axt', 'children': [{'type': 'text', 'raw': '第二个标题2'}], 'id': '1719318409-20'}),\n",
       " Document(page_content='\\n', metadata={'type': 'blank_line', 'id': '1719318409-21'}),\n",
       " Document(page_content='法力无边。\\n\\n', metadata={'type': 'paragraph', 'children': [{'type': 'text', 'raw': '法力无边。'}], 'id': '1719318409-22'}),\n",
       " Document(page_content='\\n', metadata={'type': 'blank_line', 'id': '1719318409-23'}),\n",
       " Document(page_content='### 标题3\\n\\n', metadata={'type': 'heading', 'attrs': {'level': 3}, 'style': 'axt', 'children': [{'type': 'text', 'raw': '标题3'}], 'id': '1719318409-24'}),\n",
       " Document(page_content='\\n', metadata={'type': 'blank_line', 'id': '1719318409-25'}),\n",
       " Document(page_content='倚天不出，谁与争锋。\\n\\n', metadata={'type': 'paragraph', 'children': [{'type': 'text', 'raw': '倚天不出，谁与争锋。'}], 'id': '1719318409-26'}),\n",
       " Document(page_content='\\n', metadata={'type': 'blank_line', 'id': '1719318409-27'}),\n",
       " Document(page_content='## 第三个标题2\\n\\n', metadata={'type': 'heading', 'attrs': {'level': 2}, 'style': 'axt', 'children': [{'type': 'text', 'raw': '第三个标题2'}], 'id': '1719318409-28'}),\n",
       " Document(page_content='\\n', metadata={'type': 'blank_line', 'id': '1719318409-29'}),\n",
       " Document(page_content='华山论剑。\\n\\n', metadata={'type': 'paragraph', 'children': [{'type': 'text', 'raw': '华山论剑。'}], 'id': '1719318409-30'})]"
      ]
     },
     "execution_count": 50,
     "metadata": {},
     "output_type": "execute_result"
    }
   ],
   "source": [
    "t.replace_documents(docs[2][0], docs[2][0], parse_markdown(new_md))"
   ]
  },
  {
   "cell_type": "markdown",
   "id": "a545a5fb-ecbc-4995-95c6-9bade2d5af8f",
   "metadata": {},
   "source": [
    "## get_relevant_documents"
   ]
  },
  {
   "cell_type": "code",
   "execution_count": 51,
   "id": "44f48bf8-0caa-4474-86aa-00ae21f964a3",
   "metadata": {},
   "outputs": [
    {
     "data": {
      "text/plain": [
       "(Document(page_content='逍遥老仙，\\n\\n', metadata={'type': 'paragraph', 'children': [{'type': 'text', 'raw': '逍遥老仙，'}], 'id': '1719318409-10'}),\n",
       " 10)"
      ]
     },
     "execution_count": 51,
     "metadata": {},
     "output_type": "execute_result"
    }
   ],
   "source": [
    "docs[0]"
   ]
  },
  {
   "cell_type": "code",
   "execution_count": 52,
   "id": "c9486f84-52ce-484b-a4ca-a11446581db1",
   "metadata": {},
   "outputs": [
    {
     "data": {
      "text/plain": [
       "[Document(page_content='\\n', metadata={'type': 'blank_line', 'id': '1719318409-0'}),\n",
       " Document(page_content='## 前序\\n\\n', metadata={'type': 'heading', 'attrs': {'level': 2}, 'style': 'axt', 'children': [{'type': 'text', 'raw': '前序'}], 'id': '1719318409-1'}),\n",
       " Document(page_content='\\n', metadata={'type': 'blank_line', 'id': '1719318409-2'}),\n",
       " Document(page_content='# 标题1\\n\\n', metadata={'type': 'heading', 'attrs': {'level': 1}, 'style': 'axt', 'children': [{'type': 'text', 'raw': '标题1'}], 'id': '1719318409-3'}),\n",
       " Document(page_content='我的文档。\\n\\n', metadata={'type': 'paragraph', 'children': [{'type': 'text', 'raw': '我的文档。'}], 'id': '1719318409-4'}),\n",
       " Document(page_content='\\n', metadata={'type': 'blank_line', 'id': '1719318409-5'}),\n",
       " Document(page_content='<OUTLINE>\\n扩写依据:\\n你说的有道理\\n</OUTLINE>\\n\\n', metadata={'id': '1719318409-6', 'type': 'OUTLINE'}),\n",
       " Document(page_content='\\n', metadata={'type': 'blank_line', 'id': '1719318409-7'}),\n",
       " Document(page_content='## 第一个标题2\\n\\n', metadata={'type': 'heading', 'attrs': {'level': 2}, 'style': 'axt', 'children': [{'type': 'text', 'raw': '第一个标题2'}], 'id': '1719318409-8'}),\n",
       " Document(page_content='\\n', metadata={'type': 'blank_line', 'id': '1719318409-9'})]"
      ]
     },
     "execution_count": 52,
     "metadata": {},
     "output_type": "execute_result"
    }
   ],
   "source": [
    "t.get_prev_documents(docs[0][0], k=110)"
   ]
  },
  {
   "cell_type": "code",
   "execution_count": 53,
   "id": "b2886143-a766-4567-975f-0d6a46f20462",
   "metadata": {},
   "outputs": [
    {
     "data": {
      "text/plain": [
       "[Document(page_content='# 标题1\\n\\n', metadata={'type': 'heading', 'attrs': {'level': 1}, 'style': 'axt', 'children': [{'type': 'text', 'raw': '标题1'}], 'id': '1719318409-3'}),\n",
       " Document(page_content='## 第一个标题2\\n\\n', metadata={'type': 'heading', 'attrs': {'level': 2}, 'style': 'axt', 'children': [{'type': 'text', 'raw': '第一个标题2'}], 'id': '1719318409-8'}),\n",
       " Document(page_content='\\n', metadata={'type': 'blank_line', 'id': '1719318409-9'})]"
      ]
     },
     "execution_count": 53,
     "metadata": {},
     "output_type": "execute_result"
    }
   ],
   "source": [
    "t.get_prev_documents(docs[0][0], k=10)"
   ]
  },
  {
   "cell_type": "code",
   "execution_count": 54,
   "id": "44fd23bd-56d2-4cfb-b077-3cd8f5c8336c",
   "metadata": {},
   "outputs": [
    {
     "data": {
      "text/plain": [
       "[Document(page_content='\\n', metadata={'type': 'blank_line', 'id': '1719318409-11'}),\n",
       " Document(page_content='\\n', metadata={'type': 'blank_line', 'id': '1719318585-0'}),\n",
       " Document(page_content='我是一个新插入的markdown:\\n\\n', metadata={'type': 'paragraph', 'children': [{'type': 'text', 'raw': '我是一个新插入的markdown:'}], 'id': '1719318585-1'}),\n",
       " Document(page_content='\\n', metadata={'type': 'blank_line', 'id': '1719318585-2'}),\n",
       " Document(page_content='- 我很能打\\n- 我也很能吃\\n\\n', metadata={'type': 'list', 'children': [{'type': 'list_item', 'children': [{'type': 'block_text', 'children': [{'type': 'text', 'raw': '我很能打'}]}]}, {'type': 'list_item', 'children': [{'type': 'block_text', 'children': [{'type': 'text', 'raw': '我也很能吃'}]}]}], 'tight': True, 'bullet': '-', 'attrs': {'depth': 0, 'ordered': False}, 'id': '1719318585-3'}),\n",
       " Document(page_content='\\n', metadata={'type': 'blank_line', 'id': '1719318409-13'}),\n",
       " Document(page_content='\\n', metadata={'type': 'blank_line', 'id': '1719318684-0'})]"
      ]
     },
     "execution_count": 54,
     "metadata": {},
     "output_type": "execute_result"
    }
   ],
   "source": [
    "t.get_next_documents(docs[0][0], k=50)"
   ]
  },
  {
   "cell_type": "markdown",
   "id": "dbef1014-c435-4bc0-8706-b614b38adf3d",
   "metadata": {},
   "source": [
    "# markdown 标记"
   ]
  },
  {
   "cell_type": "code",
   "execution_count": 55,
   "id": "8525c0b1-8e65-4cf5-82f0-6d7462a6449a",
   "metadata": {},
   "outputs": [],
   "source": [
    "md = \"\"\"\n",
    "# 🦜🦜🦜 textlong\n",
    "[![PyPI version](https://img.shields.io/pypi/v/textlong.svg)](https://pypi.org/project/textlong/)\n",
    "\n",
    "**textlong** 的目标是基于大语言模型提供结构化的长文本生成能力。\n",
    "\n",
    "## 一、安装\n",
    "\n",
    "你可以使用 pip 安装：\n",
    "```\n",
    "pip install -U textlong\n",
    "```\n",
    "\n",
    "或者使用 poetry 安装：\n",
    "```\n",
    "poetry add textlong@latest\n",
    "```\n",
    "\n",
    "## 二、结构化长文生成能力\n",
    "\n",
    "`textlong` 中提供如下创作工具：\n",
    "\n",
    "- `WritingTask`：用于生成结构化长文\n",
    "\n",
    "**1. 加载环境变量：**\n",
    "\n",
    "```python\n",
    "from dotenv import load_dotenv, find_dotenv\n",
    "load_dotenv(find_dotenv(), override=True)\n",
    "```\n",
    "\n",
    "**2. 创建`WritingTask`实例：**\n",
    "\n",
    "```python\n",
    "from textlong import WritingTask\n",
    "from langchain_openai import ChatOpenAI\n",
    "\n",
    "task = WritingTask(llm=ChatOpenAI())\n",
    "```\n",
    "\n",
    "**3. 使用`auto_write`方法自动生成一段长文：**\n",
    "\n",
    "```python\n",
    "task.auto_write(\"task 给好基友写一封信, 1800字，分4段就行\")\n",
    "```\n",
    "\n",
    "**4. 使用`repl_write`方法控制台，在人工干预过程中生成一段长文：**\n",
    "\n",
    "```python\n",
    "task.repl_write(\"task 给好基友写一封信, 1800字，分4段就行\")\n",
    "\n",
    "## ...\n",
    "## 接下来，你可以一直输入 ok 指令确认生成的内容，获得与 auto_write 类似的效果\n",
    "```\n",
    "\n",
    "**5. 你可以查看生成的提纲（也可以在repl模式中输入 outlines）：**\n",
    "\n",
    "```python\n",
    "# 查看创作大纲\n",
    "task.invoke(\"outlines\")['reply']\n",
    "```\n",
    "\n",
    "**6. 或者查看文字成果：**\n",
    "\n",
    "```python\n",
    "task.invoke(\"texts\")['reply']\n",
    "```\n",
    "\n",
    "**7. 使用`invoke`方法执行`help`指令，以获得帮助:**\n",
    "\n",
    "```python\n",
    "task.invoke(\"help 我在repl模式中还可以做什么？\")\n",
    "```\n",
    "\n",
    "\"\"\""
   ]
  },
  {
   "cell_type": "code",
   "execution_count": 58,
   "id": "e4960b96-a793-4199-84f4-dc611fb89eef",
   "metadata": {},
   "outputs": [],
   "source": [
    "from textlong.writing import MarkdownLoader\n",
    "t = MarkdownLoader(md)\n",
    "# t.documents"
   ]
  },
  {
   "cell_type": "code",
   "execution_count": 59,
   "id": "30c36e7c-0279-4034-937c-42cd4b000360",
   "metadata": {},
   "outputs": [
    {
     "name": "stdout",
     "output_type": "stream",
     "text": [
      "{'heading', 'list', 'paragraph', 'block_code', 'blank_line'}\n"
     ]
    }
   ],
   "source": [
    "t.types"
   ]
  },
  {
   "cell_type": "markdown",
   "id": "49b38d60-c189-46b6-933c-2ee1f7681153",
   "metadata": {},
   "source": [
    "## YAML"
   ]
  },
  {
   "cell_type": "code",
   "execution_count": 65,
   "id": "c46519d6-23eb-479e-9ec7-a05b293338ec",
   "metadata": {},
   "outputs": [
    {
     "name": "stdout",
     "output_type": "stream",
     "text": [
      "---\n",
      "command: stream_log\n",
      "args:\n",
      "  sep_mode: all\n",
      "  prompt_id: OUTLINE\n",
      "  input: '\n",
      "    请帮生成一个中文readme.文件，从第一级标题开始。\n",
      "    内容是指导新手如何使用`textlong`这个python包。\n",
      "    这需要包括dotenv使用、textlong加载、使用Project创作长文（其中又包括创作提纲、扩写、引用素材等几部份）\n",
      "    '\n",
      "  outline_start_tag: <OUTLINE>\n",
      "  outline_end_tag: </OUTLINE>\n",
      "output_file: README提纲.md\n",
      "modified_at: '2024-06-23 15:41:38'\n",
      "---\n",
      "\n",
      "\n"
     ]
    }
   ],
   "source": [
    "import yaml\n",
    "\n",
    "input = \"\"\"\n",
    "请帮生成一个中文readme.文件，从第一级标题开始。\n",
    "内容是指导新手如何使用`textlong`这个python包。\n",
    "这需要包括dotenv使用、textlong加载、使用Project创作长文（其中又包括创作提纲、扩写、引用素材等几部份）\n",
    "\"\"\"\n",
    "meta = {\n",
    "    \"command\": \"stream_log\",\n",
    "    \"args\": {\n",
    "      \"sep_mode\": \"all\",\n",
    "      \"prompt_id\": \"OUTLINE\",\n",
    "      \"input\": input,\n",
    "      \"outline_start_tag\": \"<OUTLINE>\",\n",
    "      \"outline_end_tag\": \"</OUTLINE>\"\n",
    "    },\n",
    "    \"output_file\": \"README提纲.md\",\n",
    "    \"modified_at\": \"2024-06-23 15:41:38\"\n",
    "}\n",
    "\n",
    "from textlong.parser import fetch_front_matter, create_front_matter\n",
    "print(create_front_matter(meta))"
   ]
  },
  {
   "cell_type": "code",
   "execution_count": null,
   "id": "cbfb85ef-7c4d-419f-80ac-3fa3e28d21a0",
   "metadata": {},
   "outputs": [],
   "source": []
  }
 ],
 "metadata": {
  "kernelspec": {
   "display_name": "langchani-book-py3.10-ipykernel",
   "language": "python",
   "name": "langchani-book-py3.10-ipykernel"
  },
  "language_info": {
   "codemirror_mode": {
    "name": "ipython",
    "version": 3
   },
   "file_extension": ".py",
   "mimetype": "text/x-python",
   "name": "python",
   "nbconvert_exporter": "python",
   "pygments_lexer": "ipython3",
   "version": "3.10.0"
  }
 },
 "nbformat": 4,
 "nbformat_minor": 5
}
