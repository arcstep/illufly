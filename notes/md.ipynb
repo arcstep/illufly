{
    "cells": [
        {
            "cell_type": "markdown",
            "id": "de54c513-584b-49a7-9bfe-f84eeddaceef",
            "metadata": {},
            "source": [
                "# MarkdownDocuments"
            ]
        },
        {
            "cell_type": "code",
            "execution_count": 1,
            "id": "986c824c-11a1-4cc3-ba1a-f2cd73e7153b",
            "metadata": {},
            "outputs": [],
            "source": [
                "md = \"\"\"\n",
                "## 前序\n",
                "\n",
                "# 标题1\n",
                "我的文档。\n",
                "\n",
                "<OUTLINE>\n",
                "扩写依据:\n",
                "你说的有道理\n",
                "</OUTLINE>\n",
                "\n",
                "## 第一个标题2\n",
                "\n",
                "逍遥老仙，\n",
                "\n",
                "逍遥小仙，\n",
                "\n",
                "<OUTLINE>\n",
                "扩写依据：帮我描述一下逍遥老仙的威武霸气\n",
                "</OUTLINE>\n",
                "\n",
                "那又是谁？\n",
                "\n",
                "<OUTLINE>\n",
                "扩写依据：帮我描述一下逍遥小仙的武功盖世\n",
                "## 宁厌烦\n",
                "## 宁雪\n",
                "</OUTLINE>\n",
                "\n",
                "## 第二个标题2\n",
                "华山论剑。\n",
                "\"\"\""
            ]
        },
        {
            "cell_type": "markdown",
            "id": "9485d5fa-f250-49c9-90db-5abeddb60ed4",
            "metadata": {},
            "source": [
                "## 读取 Markdown"
            ]
        },
        {
            "cell_type": "code",
            "execution_count": 3,
            "id": "6981bb6f-7207-4eef-a029-6aade4bcae2d",
            "metadata": {},
            "outputs": [
                {
                    "data": {
                        "text/plain": [
                            "'\\n## 前序\\n\\n\\n# 标题1\\n\\n我的文档。\\n\\n\\n<OUTLINE>\\n扩写依据:\\n你说的有道理\\n</OUTLINE>\\n\\n\\n## 第一个标题2\\n\\n\\n逍遥老仙，\\n\\n\\n逍遥小仙，\\n\\n\\n<OUTLINE>\\n扩写依据：帮我描述一下逍遥老仙的威武霸气\\n</OUTLINE>\\n\\n\\n那又是谁？\\n\\n\\n<OUTLINE>\\n扩写依据：帮我描述一下逍遥小仙的武功盖世\\n## 宁厌烦\\n## 宁雪\\n</OUTLINE>\\n\\n\\n## 第二个标题2\\n\\n华山论剑。\\n\\n'"
                        ]
                    },
                    "execution_count": 3,
                    "metadata": {},
                    "output_type": "execute_result"
                }
            ],
            "source": [
                "from illufly.agent import Markdown, list_markdown\n",
                "t = Markdown(md)\n",
                "t.text"
            ]
        },
        {
            "cell_type": "markdown",
            "id": "525f1c5e-63cc-44d7-8f85-5d50d244832d",
            "metadata": {},
            "source": [
                "## 文档拆分"
            ]
        },
        {
            "cell_type": "markdown",
            "id": "d91a8e91-6f7b-4871-bc39-4e461b194c79",
            "metadata": {},
            "source": [
                "### get_all"
            ]
        },
        {
            "cell_type": "code",
            "execution_count": 4,
            "id": "0fc320cb-69de-4b73-a870-a07b441bf68a",
            "metadata": {},
            "outputs": [
                {
                    "data": {
                        "text/plain": [
                            "[('pa-398-010', '逍遥老仙，\\n\\n'),\n",
                            " ('pa-989-012', '逍遥小仙，\\n\\n'),\n",
                            " ('OU-565-014', '<OUTLINE>\\n扩写依据：帮我描述一下逍遥老仙的威武霸气\\n</OUTLINE>\\n\\n'),\n",
                            " ('OU-287-018',\n",
                            "  '<OUTLINE>\\n扩写依据：帮我描述一下逍遥小仙的武功盖世\\n## 宁厌烦\\n## 宁雪\\n</OUTLINE>\\n\\n')]"
                        ]
                    },
                    "execution_count": 4,
                    "metadata": {},
                    "output_type": "execute_result"
                }
            ],
            "source": [
                "docs = t.get_all(\"逍遥\")\n",
                "list_markdown(docs)"
            ]
        },
        {
            "cell_type": "markdown",
            "id": "1e589600-7f43-4008-b257-bf939379b654",
            "metadata": {},
            "source": [
                "### get_outline"
            ]
        },
        {
            "cell_type": "code",
            "execution_count": 5,
            "id": "8259d128-99e9-4920-bb46-5830f8535054",
            "metadata": {},
            "outputs": [
                {
                    "data": {
                        "text/plain": [
                            "[]"
                        ]
                    },
                    "execution_count": 5,
                    "metadata": {},
                    "output_type": "execute_result"
                }
            ],
            "source": [
                "Markdown(\"这里没有提纲\").get_outline()"
            ]
        },
        {
            "cell_type": "code",
            "execution_count": 6,
            "id": "1235898d-f08b-4bbd-9ab9-870a4e2b352e",
            "metadata": {},
            "outputs": [
                {
                    "data": {
                        "text/plain": [
                            "[('OU-917-006', '<OUTLINE>\\n扩写依据:\\n你说的有道理\\n</OUTLINE>\\n\\n'),\n",
                            " ('OU-565-014', '<OUTLINE>\\n扩写依据：帮我描述一下逍遥老仙的威武霸气\\n</OUTLINE>\\n\\n'),\n",
                            " ('OU-287-018',\n",
                            "  '<OUTLINE>\\n扩写依据：帮我描述一下逍遥小仙的武功盖世\\n## 宁厌烦\\n## 宁雪\\n</OUTLINE>\\n\\n')]"
                        ]
                    },
                    "execution_count": 6,
                    "metadata": {},
                    "output_type": "execute_result"
                }
            ],
            "source": [
                "docs = t.get_outline()\n",
                "list_markdown(docs)"
            ]
        },
        {
            "cell_type": "markdown",
            "id": "299447bb-e64b-4126-bf05-4d2ce1ca6400",
            "metadata": {},
            "source": [
                "### fetch_outline_task"
            ]
        },
        {
            "cell_type": "code",
            "execution_count": 7,
            "id": "1436d9f1-94a8-4d62-b43a-3871ba47690c",
            "metadata": {},
            "outputs": [],
            "source": [
                "draft, task = t.fetch_outline_task(docs[0])"
            ]
        },
        {
            "cell_type": "code",
            "execution_count": 8,
            "id": "3894429b-702f-4408-b120-bb3a81daacbf",
            "metadata": {},
            "outputs": [
                {
                    "name": "stdout",
                    "output_type": "stream",
                    "text": [
                        "\n",
                        "## 前序\n",
                        "\n",
                        "\n",
                        "# 标题1\n",
                        "\n",
                        "我的文档。\n",
                        "\n",
                        "\n",
                        "{{YOUR_TEXT}}\n",
                        "\n",
                        "\n",
                        "## 第一个标题2\n",
                        "\n",
                        "\n",
                        "逍遥老仙，\n",
                        "\n",
                        "\n",
                        "逍遥小仙，\n",
                        "\n",
                        "\n",
                        "...\n",
                        "\n",
                        "那又是谁？\n",
                        "\n",
                        "\n",
                        "...\n",
                        "\n",
                        "## 第二个标题2\n",
                        "\n",
                        "华山论剑。\n",
                        "\n",
                        "\n"
                    ]
                }
            ],
            "source": [
                "print(draft)"
            ]
        },
        {
            "cell_type": "markdown",
            "id": "6fff5fea-31c7-46ab-beac-a3289e9293f0",
            "metadata": {},
            "source": [
                "## 文档替换"
            ]
        },
        {
            "cell_type": "code",
            "execution_count": 9,
            "id": "9016a7a9-0854-4194-a639-5e6c4e256e50",
            "metadata": {},
            "outputs": [],
            "source": [
                "md_to_replace = \"\"\"\n",
                "# 通义千问大模型\n",
                "## 技术特性\n",
                "\n",
                "通义千问模型采用了先进的Transformer架构，\n",
                "这是一种基于自注意力机制的深度学习模型，能够并行处理输入序列，显著提高了计算效率。\n",
                "\n",
                "## 模型应用\n",
                "<OUTLINE>\n",
                "扩写摘要：\n",
                "列举通义千问模型在不同领域的实际应用案例。\n",
                "\n",
                "扩写要求：\n",
                "- 在问答系统中的应用\n",
                "- 在内容生成方面的应用\n",
                "- 在其他可能的应用领域\n",
                "</OUTLINE>\n",
                "\"\"\"\n",
                "\n",
                "new_md = \"\"\"\n",
                "## 模型应用\n",
                "\n",
                "通义千问模型在问答系统中展现出了卓越的表现。例如，在某大型电子商务平台上，它作为智能助手为数百万用户提供实时的商品咨询和售后服务。\n",
                "用户可以询问商品详情、使用方法、退换货政策等问题，通义千问都能迅速给出准确、详尽的回答，极大地提升了客户满意度和运营效率。\n",
                "此外，该模型还在医疗健康领域用于智能导诊，帮助患者解答疾病相关问题，减轻医生的工作压力。\n",
                "\"\"\""
            ]
        },
        {
            "cell_type": "code",
            "execution_count": 10,
            "id": "7ab2ee2e-25fb-481a-9d73-ade56821df55",
            "metadata": {},
            "outputs": [
                {
                    "data": {
                        "text/plain": [
                            "[('OU-954-007',\n",
                            "  '<OUTLINE>\\n扩写摘要：\\n列举通义千问模型在不同领域的实际应用案例。\\n\\n扩写要求：\\n- 在问答系统中的应用\\n- 在内容生成方面的应用\\n- 在其他可能的应用领域\\n</OUTLINE>\\n\\n')]"
                        ]
                    },
                    "execution_count": 10,
                    "metadata": {},
                    "output_type": "execute_result"
                }
            ],
            "source": [
                "from illufly.agent import Markdown, parse_markdown, list_markdown\n",
                "\n",
                "all = Markdown(md_to_replace)\n",
                "docs = all.get_outline()\n",
                "list_markdown(docs)"
            ]
        },
        {
            "cell_type": "code",
            "execution_count": 11,
            "id": "cc188b82-a7ba-43d7-9522-d20e5314b71a",
            "metadata": {},
            "outputs": [
                {
                    "name": "stdout",
                    "output_type": "stream",
                    "text": [
                        "\n",
                        "# 通义千问大模型\n",
                        "\n",
                        "## 技术特性\n",
                        "\n",
                        "\n",
                        "通义千问模型采用了先进的Transformer架构，\n",
                        "这是一种基于自注意力机制的深度学习模型，能够并行处理输入序列，显著提高了计算效率。\n",
                        "\n",
                        "\n",
                        "## 模型应用\n",
                        "\n",
                        "{{YOUR_TEXT}}\n",
                        "\n",
                        "\n",
                        "\n",
                        "--------------------------------------------------------------------------------\n",
                        "扩写摘要：\n",
                        "列举通义千问模型在不同领域的实际应用案例。\n",
                        "\n",
                        "扩写要求：\n",
                        "- 在问答系统中的应用\n",
                        "- 在内容生成方面的应用\n",
                        "- 在其他可能的应用领域\n"
                    ]
                }
            ],
            "source": [
                "draft, task = all.fetch_outline_task(docs[0])\n",
                "print(draft)\n",
                "print(\"-\"*80)\n",
                "print(task)"
            ]
        },
        {
            "cell_type": "code",
            "execution_count": 12,
            "id": "218e472b-1a0e-447e-b2e1-30f43c95ff79",
            "metadata": {},
            "outputs": [
                {
                    "data": {
                        "text/plain": [
                            "[('bl-576-000', '\\n'),\n",
                            " ('he-464-001', '## 前序\\n\\n'),\n",
                            " ('bl-468-002', '\\n'),\n",
                            " ('he-140-003', '# 标题1\\n\\n'),\n",
                            " ('pa-571-004', '我的文档。\\n\\n'),\n",
                            " ('bl-237-005', '\\n'),\n",
                            " ('bl-914-000', '\\n'),\n",
                            " ('he-718-001', '## 模型应用\\n\\n'),\n",
                            " ('bl-252-002', '\\n'),\n",
                            " ('pa-150-003',\n",
                            "  '通义千问模型在问答系统中展现出了卓越的表现。例如，在某大型电子商务平台上，它作为智能助手为数百万用户提供实时的商品咨询和售后服务。\\n用户可以询问商品详情、使用方法、退换货政策等问题，通义千问都能迅速给出准确、详尽的回答，极大地提升了客户满意度和运营效率。\\n此外，该模型还在医疗健康领域用于智能导诊，帮助患者解答疾病相关问题，减轻医生的工作压力。\\n\\n'),\n",
                            " ('bl-359-007', '\\n'),\n",
                            " ('he-802-008', '## 第一个标题2\\n\\n'),\n",
                            " ('bl-133-009', '\\n'),\n",
                            " ('pa-398-010', '逍遥老仙，\\n\\n'),\n",
                            " ('bl-783-011', '\\n'),\n",
                            " ('pa-989-012', '逍遥小仙，\\n\\n'),\n",
                            " ('bl-071-013', '\\n'),\n",
                            " ('OU-565-014', '<OUTLINE>\\n扩写依据：帮我描述一下逍遥老仙的威武霸气\\n</OUTLINE>\\n\\n'),\n",
                            " ('bl-555-015', '\\n'),\n",
                            " ('pa-812-016', '那又是谁？\\n\\n'),\n",
                            " ('bl-704-017', '\\n'),\n",
                            " ('OU-287-018',\n",
                            "  '<OUTLINE>\\n扩写依据：帮我描述一下逍遥小仙的武功盖世\\n## 宁厌烦\\n## 宁雪\\n</OUTLINE>\\n\\n'),\n",
                            " ('bl-703-019', '\\n'),\n",
                            " ('he-580-020', '## 第二个标题2\\n\\n'),\n",
                            " ('pa-821-021', '华山论剑。\\n\\n')]"
                        ]
                    },
                    "execution_count": 12,
                    "metadata": {},
                    "output_type": "execute_result"
                }
            ],
            "source": [
                "docs = t.get_outline()\n",
                "t.replace_documents(docs[0], docs[0], parse_markdown(new_md))\n",
                "list_markdown(t.documents)"
            ]
        },
        {
            "cell_type": "code",
            "execution_count": 13,
            "id": "a499e8e6-a5e1-4da5-8ad8-d567c7f41e16",
            "metadata": {},
            "outputs": [],
            "source": [
                "md_to_replace = \"\"\"\n",
                "# 标题1\n",
                "我的文档。\n",
                "## 好戏开始\n",
                "<OUTLINE>\n",
                "扩写依据:\n",
                "一个夜晚，一只流浪狗成精了。\n",
                "</OUTLINE>\n",
                "## 第一个标题2\n",
                "<OUTLINE>\n",
                "扩写依据:\n",
                "一个夜晚，一只猫突然哈哈大笑。\n",
                "</OUTLINE>\n",
                "还有后面的故事。\n",
                "\"\"\""
            ]
        },
        {
            "cell_type": "code",
            "execution_count": 14,
            "id": "71c1a1ac-96ab-4edc-9a76-2981ccea9333",
            "metadata": {},
            "outputs": [],
            "source": [
                "from illufly.writing import MarkdownLoader\n",
                "from illufly.parser import parse_markdown\n",
                "t = Markdown(md_to_replace)"
            ]
        },
        {
            "cell_type": "markdown",
            "id": "1a40bfcc-528e-45d4-967e-e2f00bde6963",
            "metadata": {},
            "source": [
                "### get_task_range"
            ]
        },
        {
            "cell_type": "code",
            "execution_count": 15,
            "id": "d7e25097-37d2-4140-91bb-bfe43e828965",
            "metadata": {},
            "outputs": [
                {
                    "data": {
                        "text/plain": [
                            "[Document(page_content='<OUTLINE>\\n扩写依据:\\n一个夜晚，一只流浪狗成精了。\\n</OUTLINE>\\n\\n', metadata={'id': '3913-381-004', 'type': 'OUTLINE'})]"
                        ]
                    },
                    "execution_count": 15,
                    "metadata": {},
                    "output_type": "execute_result"
                }
            ],
            "source": [
                "docs = t.get_outline(pattern=\"流浪狗成精\")\n",
                "docs"
            ]
        },
        {
            "cell_type": "code",
            "execution_count": 16,
            "id": "7b3a9f86-50d4-48de-82bf-076a7dc280ab",
            "metadata": {},
            "outputs": [
                {
                    "data": {
                        "text/plain": [
                            "[('bl-367-000', '\\n'),\n",
                            " ('he-036-001', '# 标题1\\n\\n'),\n",
                            " ('pa-849-002', '我的文档。\\n\\n'),\n",
                            " ('he-602-003', '## 好戏开始\\n\\n'),\n",
                            " ('OU-381-004', '<OUTLINE>\\n扩写依据:\\n一个夜晚，一只流浪狗成精了。\\n</OUTLINE>\\n\\n'),\n",
                            " ('bl-215-005', '\\n'),\n",
                            " ('he-390-006', '## 第一个标题2\\n\\n'),\n",
                            " ('OU-176-007', '<OUTLINE>\\n扩写依据:\\n一个夜晚，一只猫突然哈哈大笑。\\n</OUTLINE>\\n\\n'),\n",
                            " ('bl-499-008', '\\n'),\n",
                            " ('pa-243-009', '还有后面的故事。\\n\\n')]"
                        ]
                    },
                    "execution_count": 16,
                    "metadata": {},
                    "output_type": "execute_result"
                }
            ],
            "source": [
                "list_markdown(t.documents)"
            ]
        },
        {
            "cell_type": "code",
            "execution_count": 17,
            "id": "1f7b356c-0e4d-408f-ae22-ebf8f5b7b243",
            "metadata": {},
            "outputs": [
                {
                    "data": {
                        "text/plain": [
                            "(4, 4)"
                        ]
                    },
                    "execution_count": 17,
                    "metadata": {},
                    "output_type": "execute_result"
                }
            ],
            "source": [
                "t.get_task_range(docs[0], docs[0])"
            ]
        },
        {
            "cell_type": "markdown",
            "id": "1b3ae7fc-2586-4dd2-b6cd-26db85a9e586",
            "metadata": {},
            "source": [
                "### replace_documents"
            ]
        },
        {
            "cell_type": "code",
            "execution_count": 18,
            "id": "b2831eb2-c531-4d86-90e1-67deb329e2fd",
            "metadata": {},
            "outputs": [
                {
                    "data": {
                        "text/plain": [
                            "[('bl-113-000', '\\n'),\n",
                            " ('he-568-001', '# 标题1\\n\\n'),\n",
                            " ('pa-948-002', '我的文档。\\n\\n'),\n",
                            " ('he-852-003', '## 好戏开始\\n\\n'),\n",
                            " ('bl-207-000', '\\n'),\n",
                            " ('pa-111-001', '流浪狗仰天长啸，变成了一只人模狗样的狗。\\n\\n'),\n",
                            " ('bl-752-005', '\\n'),\n",
                            " ('he-309-006', '## 第一个标题2\\n\\n'),\n",
                            " ('OU-722-007', '<OUTLINE>\\n扩写依据:\\n一个夜晚，一只猫突然哈哈大笑。\\n</OUTLINE>\\n\\n'),\n",
                            " ('bl-287-008', '\\n'),\n",
                            " ('pa-675-009', '还有后面的故事。\\n\\n')]"
                        ]
                    },
                    "execution_count": 18,
                    "metadata": {},
                    "output_type": "execute_result"
                }
            ],
            "source": [
                "new_md = \"\"\"\n",
                "流浪狗仰天长啸，变成了一只人模狗样的狗。\n",
                "\"\"\"\n",
                "t = Markdown(md_to_replace)\n",
                "docs = t.get_outline(pattern=\"流浪狗成精\")\n",
                "t.replace_documents(docs[0], docs[0], parse_markdown(new_md))\n",
                "list_markdown(t.documents)"
            ]
        },
        {
            "cell_type": "markdown",
            "id": "660d823b-fc2f-44df-96f8-ca0035698430",
            "metadata": {},
            "source": [
                "剔除重复的部份："
            ]
        },
        {
            "cell_type": "code",
            "execution_count": 19,
            "id": "d073d3c6-6bc1-43aa-9891-f7afdd544520",
            "metadata": {},
            "outputs": [
                {
                    "data": {
                        "text/plain": [
                            "[('bl-834-000', '\\n'),\n",
                            " ('he-104-001', '# 标题1\\n\\n'),\n",
                            " ('pa-978-002', '我的文档。\\n\\n'),\n",
                            " ('he-677-003', '## 好戏开始\\n\\n'),\n",
                            " ('bl-001-005', '\\n'),\n",
                            " ('he-087-006', '## 第一个标题2\\n\\n'),\n",
                            " ('OU-663-007', '<OUTLINE>\\n扩写依据:\\n一个夜晚，一只猫突然哈哈大笑。\\n</OUTLINE>\\n\\n'),\n",
                            " ('bl-418-008', '\\n'),\n",
                            " ('pa-697-009', '还有后面的故事。\\n\\n')]"
                        ]
                    },
                    "execution_count": 19,
                    "metadata": {},
                    "output_type": "execute_result"
                }
            ],
            "source": [
                "new_md = \"\"\"\n",
                "## 好戏开始\n",
                "流浪狗仰天长啸，变成了一只人模狗样的狗。\n",
                "\n",
                "还这是神了！\n",
                "## 第一个标题2\n",
                "以及其他\n",
                "\"\"\"\n",
                "t = Markdown(md_to_replace)\n",
                "docs = t.get_outline(pattern=\"流浪狗成精\")\n",
                "t.replace_documents(docs[0], docs[0], parse_markdown(new_md))\n",
                "list_markdown(t.documents)"
            ]
        },
        {
            "cell_type": "markdown",
            "id": "cb735a1e-92c3-45d2-85ab-e4a781cbe6a8",
            "metadata": {},
            "source": [
                "## 获得关联文档"
            ]
        },
        {
            "cell_type": "code",
            "execution_count": 20,
            "id": "3e43dfda-2216-4c6e-b0ec-3544b72aa748",
            "metadata": {},
            "outputs": [],
            "source": [
                "md_to_get = \"\"\"\n",
                "# 标题1\n",
                "我的文档。\n",
                "\n",
                "<OUTLINE>\n",
                "扩写依据:\n",
                "妖魔世界背景设定。\n",
                "</OUTLINE>\n",
                "\n",
                "## 好戏开始\n",
                "<OUTLINE>\n",
                "扩写依据:\n",
                "一个夜晚，一只流浪狗成精了。\n",
                "</OUTLINE>\n",
                "\n",
                "## 第一个标题2\n",
                "还有后面的故事。\n",
                "<OUTLINE>\n",
                "扩写依据:\n",
                "大结局。\n",
                "</OUTLINE>\n",
                "\"\"\"\n",
                "t = Markdown(md_to_get)"
            ]
        },
        {
            "cell_type": "code",
            "execution_count": 21,
            "id": "2914d9af-ec2a-4bcd-91ec-e2317955ad22",
            "metadata": {},
            "outputs": [
                {
                    "data": {
                        "text/plain": [
                            "[('bl-910-000', '\\n'),\n",
                            " ('he-039-001', '# 标题1\\n\\n'),\n",
                            " ('pa-658-002', '我的文档。\\n\\n'),\n",
                            " ('bl-982-003', '\\n'),\n",
                            " ('OU-719-004', '<OUTLINE>\\n扩写依据:\\n妖魔世界背景设定。\\n</OUTLINE>\\n\\n'),\n",
                            " ('bl-077-005', '\\n'),\n",
                            " ('he-761-006', '## 好戏开始\\n\\n'),\n",
                            " ('OU-440-007', '<OUTLINE>\\n扩写依据:\\n一个夜晚，一只流浪狗成精了。\\n</OUTLINE>\\n\\n'),\n",
                            " ('bl-377-008', '\\n'),\n",
                            " ('he-807-009', '## 第一个标题2\\n\\n'),\n",
                            " ('pa-668-010', '还有后面的故事。\\n\\n'),\n",
                            " ('OU-992-011', '<OUTLINE>\\n扩写依据:\\n大结局。\\n</OUTLINE>\\n\\n'),\n",
                            " ('bl-374-012', '\\n')]"
                        ]
                    },
                    "execution_count": 21,
                    "metadata": {},
                    "output_type": "execute_result"
                }
            ],
            "source": [
                "list_markdown(t.documents)"
            ]
        },
        {
            "cell_type": "markdown",
            "id": "f8f5782a-bd34-4fa3-af7f-8b9e9d806765",
            "metadata": {},
            "source": [
                "### get_prev_documents"
            ]
        },
        {
            "cell_type": "code",
            "execution_count": 22,
            "id": "610c4386-c627-4081-9b7d-1a518b501429",
            "metadata": {},
            "outputs": [
                {
                    "data": {
                        "text/plain": [
                            "[('bl-910-000', '\\n'),\n",
                            " ('he-039-001', '# 标题1\\n\\n'),\n",
                            " ('pa-658-002', '我的文档。\\n\\n'),\n",
                            " ('bl-982-003', '\\n'),\n",
                            " ('OU-719-004', '...\\n'),\n",
                            " ('bl-077-005', '\\n'),\n",
                            " ('he-761-006', '## 好戏开始\\n\\n')]"
                        ]
                    },
                    "execution_count": 22,
                    "metadata": {},
                    "output_type": "execute_result"
                }
            ],
            "source": [
                "list_markdown(t.get_prev_documents(t.documents[7], k=100))"
            ]
        },
        {
            "cell_type": "markdown",
            "id": "5cad0c67-c763-45c4-97b0-d3910b5881c7",
            "metadata": {},
            "source": [
                "### get_next_documents"
            ]
        },
        {
            "cell_type": "code",
            "execution_count": 23,
            "id": "37f7c0de-6580-4272-91f8-b7241f98478b",
            "metadata": {},
            "outputs": [
                {
                    "data": {
                        "text/plain": [
                            "[('bl-377-008', '\\n'),\n",
                            " ('he-807-009', '## 第一个标题2\\n\\n'),\n",
                            " ('pa-668-010', '还有后面的故事。\\n\\n'),\n",
                            " ('OU-992-011', '...\\n'),\n",
                            " ('bl-374-012', '\\n')]"
                        ]
                    },
                    "execution_count": 23,
                    "metadata": {},
                    "output_type": "execute_result"
                }
            ],
            "source": [
                "list_markdown(t.get_next_documents(t.documents[7], k=50))"
            ]
        },
        {
            "cell_type": "markdown",
            "id": "870e06a7-cf94-46fe-98a7-f35d3b97bcfe",
            "metadata": {},
            "source": [
                "## Front-Matter"
            ]
        },
        {
            "cell_type": "code",
            "execution_count": 24,
            "id": "0dd2b680-baa3-4450-b1c2-6a500053a1dd",
            "metadata": {},
            "outputs": [
                {
                    "name": "stdout",
                    "output_type": "stream",
                    "text": [
                        "---\n",
                        "command: stream_log\n",
                        "args:\n",
                        "  sep_mode: all\n",
                        "  prompt_id: OUTLINE\n",
                        "  input: '\n",
                        "    请帮生成一个中文readme.文件，从第一级标题开始。\n",
                        "    内容是指导新手如何使用`illufly`这个python包。\n",
                        "    这需要包括dotenv使用、illufly加载、使用Project创作长文（其中又包括创作提纲、扩写、引用素材等几部份）\n",
                        "    '\n",
                        "  outline_start_tag: <OUTLINE>\n",
                        "  outline_end_tag: </OUTLINE>\n",
                        "output_file: README提纲.md\n",
                        "modified_at: '2024-06-23 15:41:38'\n",
                        "---\n",
                        "\n",
                        "\n"
                    ]
                }
            ],
            "source": [
                "import yaml\n",
                "\n",
                "input = \"\"\"\n",
                "请帮生成一个中文readme.文件，从第一级标题开始。\n",
                "内容是指导新手如何使用`illufly`这个python包。\n",
                "这需要包括dotenv使用、illufly加载、使用Project创作长文（其中又包括创作提纲、扩写、引用素材等几部份）\n",
                "\"\"\"\n",
                "meta = {\n",
                "    \"command\": \"stream_log\",\n",
                "    \"args\": {\n",
                "      \"sep_mode\": \"all\",\n",
                "      \"prompt_id\": \"OUTLINE\",\n",
                "      \"input\": input,\n",
                "      \"outline_start_tag\": \"<OUTLINE>\",\n",
                "      \"outline_end_tag\": \"</OUTLINE>\"\n",
                "    },\n",
                "    \"output_file\": \"README提纲.md\",\n",
                "    \"modified_at\": \"2024-06-23 15:41:38\"\n",
                "}\n",
                "\n",
                "from illufly.parser import fetch_front_matter, create_front_matter\n",
                "print(create_front_matter(meta))"
            ]
        }
    ],
    "metadata": {
        "kernelspec": {
            "display_name": "illufly-same-ipykernel",
            "language": "python",
            "name": "illufly-same-ipykernel"
        },
        "language_info": {
            "codemirror_mode": {
                "name": "ipython",
                "version": 3
            },
            "file_extension": ".py",
            "mimetype": "text/x-python",
            "name": "python",
            "nbconvert_exporter": "python",
            "pygments_lexer": "ipython3",
            "version": "3.10.0"
        }
    },
    "nbformat": 4,
    "nbformat_minor": 5
}