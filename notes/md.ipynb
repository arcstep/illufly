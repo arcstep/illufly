{
 "cells": [
  {
   "cell_type": "markdown",
   "id": "de54c513-584b-49a7-9bfe-f84eeddaceef",
   "metadata": {},
   "source": [
    "# MarkdownDocuments"
   ]
  },
  {
   "cell_type": "code",
   "execution_count": 1,
   "id": "986c824c-11a1-4cc3-ba1a-f2cd73e7153b",
   "metadata": {},
   "outputs": [],
   "source": [
    "md = \"\"\"\n",
    "## 前序\n",
    "\n",
    "# 标题1\n",
    "我的文档。\n",
    "\n",
    "<OUTLINE>\n",
    "扩写依据:\n",
    "你说的有道理\n",
    "</OUTLINE>\n",
    "\n",
    "## 第一个标题2\n",
    "\n",
    "逍遥老仙，\n",
    "\n",
    "逍遥小仙，\n",
    "\n",
    "<OUTLINE>\n",
    "扩写依据：帮我描述一下逍遥老仙的威武霸气\n",
    "</OUTLINE>\n",
    "\n",
    "那又是谁？\n",
    "\n",
    "<OUTLINE>\n",
    "扩写依据：帮我描述一下逍遥小仙的武功盖世\n",
    "## 宁厌烦\n",
    "## 宁雪\n",
    "</OUTLINE>\n",
    "\n",
    "## 第二个标题2\n",
    "华山论剑。\n",
    "\"\"\""
   ]
  },
  {
   "cell_type": "markdown",
   "id": "9485d5fa-f250-49c9-90db-5abeddb60ed4",
   "metadata": {},
   "source": [
    "## 读取 Markdown"
   ]
  },
  {
   "cell_type": "code",
   "execution_count": 2,
   "id": "6981bb6f-7207-4eef-a029-6aade4bcae2d",
   "metadata": {},
   "outputs": [
    {
     "data": {
      "text/plain": [
       "'\\n## 前序\\n\\n\\n# 标题1\\n\\n我的文档。\\n\\n\\n<OUTLINE>\\n扩写依据:\\n你说的有道理\\n</OUTLINE>\\n\\n\\n## 第一个标题2\\n\\n\\n逍遥老仙，\\n\\n\\n逍遥小仙，\\n\\n\\n<OUTLINE>\\n扩写依据：帮我描述一下逍遥老仙的威武霸气\\n</OUTLINE>\\n\\n\\n那又是谁？\\n\\n\\n<OUTLINE>\\n扩写依据：帮我描述一下逍遥小仙的武功盖世\\n## 宁厌烦\\n## 宁雪\\n</OUTLINE>\\n\\n\\n## 第二个标题2\\n\\n华山论剑。\\n\\n'"
      ]
     },
     "execution_count": 2,
     "metadata": {},
     "output_type": "execute_result"
    }
   ],
   "source": [
    "from textlong.desk import Markdown, list_markdown\n",
    "t = Markdown(md)\n",
    "t.markdown"
   ]
  },
  {
   "cell_type": "markdown",
   "id": "525f1c5e-63cc-44d7-8f85-5d50d244832d",
   "metadata": {},
   "source": [
    "## 文档拆分"
   ]
  },
  {
   "cell_type": "markdown",
   "id": "d91a8e91-6f7b-4871-bc39-4e461b194c79",
   "metadata": {},
   "source": [
    "### get_all"
   ]
  },
  {
   "cell_type": "code",
   "execution_count": 3,
   "id": "0fc320cb-69de-4b73-a870-a07b441bf68a",
   "metadata": {},
   "outputs": [
    {
     "data": {
      "text/plain": [
       "[('pa-573-010', '逍遥老仙，\\n\\n'),\n",
       " ('pa-601-012', '逍遥小仙，\\n\\n'),\n",
       " ('OU-355-014', '<OUTLINE>\\n扩写依据：帮我描述一下逍遥老仙的威武霸气\\n</OUTLINE>\\n\\n'),\n",
       " ('OU-421-018',\n",
       "  '<OUTLINE>\\n扩写依据：帮我描述一下逍遥小仙的武功盖世\\n## 宁厌烦\\n## 宁雪\\n</OUTLINE>\\n\\n')]"
      ]
     },
     "execution_count": 3,
     "metadata": {},
     "output_type": "execute_result"
    }
   ],
   "source": [
    "docs = t.get_all(\"逍遥\")\n",
    "list_markdown(docs)"
   ]
  },
  {
   "cell_type": "markdown",
   "id": "1e589600-7f43-4008-b257-bf939379b654",
   "metadata": {},
   "source": [
    "### get_outline"
   ]
  },
  {
   "cell_type": "code",
   "execution_count": 5,
   "id": "8259d128-99e9-4920-bb46-5830f8535054",
   "metadata": {},
   "outputs": [
    {
     "data": {
      "text/plain": [
       "[]"
      ]
     },
     "execution_count": 5,
     "metadata": {},
     "output_type": "execute_result"
    }
   ],
   "source": [
    "Markdown(\"这里没有提纲\").get_outline()"
   ]
  },
  {
   "cell_type": "code",
   "execution_count": 6,
   "id": "1235898d-f08b-4bbd-9ab9-870a4e2b352e",
   "metadata": {},
   "outputs": [
    {
     "data": {
      "text/plain": [
       "[('OU-830-006', '<OUTLINE>\\n扩写依据:\\n你说的有道理\\n</OUTLINE>\\n\\n'),\n",
       " ('OU-355-014', '<OUTLINE>\\n扩写依据：帮我描述一下逍遥老仙的威武霸气\\n</OUTLINE>\\n\\n'),\n",
       " ('OU-421-018',\n",
       "  '<OUTLINE>\\n扩写依据：帮我描述一下逍遥小仙的武功盖世\\n## 宁厌烦\\n## 宁雪\\n</OUTLINE>\\n\\n')]"
      ]
     },
     "execution_count": 6,
     "metadata": {},
     "output_type": "execute_result"
    }
   ],
   "source": [
    "docs = t.get_outline()\n",
    "list_markdown(docs)"
   ]
  },
  {
   "cell_type": "markdown",
   "id": "299447bb-e64b-4126-bf05-4d2ce1ca6400",
   "metadata": {},
   "source": [
    "### fetch_outline_task"
   ]
  },
  {
   "cell_type": "code",
   "execution_count": 7,
   "id": "1436d9f1-94a8-4d62-b43a-3871ba47690c",
   "metadata": {},
   "outputs": [],
   "source": [
    "draft, task = t.fetch_outline_task(docs[0])"
   ]
  },
  {
   "cell_type": "code",
   "execution_count": 8,
   "id": "3894429b-702f-4408-b120-bb3a81daacbf",
   "metadata": {},
   "outputs": [
    {
     "name": "stdout",
     "output_type": "stream",
     "text": [
      "\n",
      "## 前序\n",
      "\n",
      "\n",
      "# 标题1\n",
      "\n",
      "我的文档。\n",
      "\n",
      "\n",
      "{{YOUR_TEXT}}\n",
      "\n",
      "\n",
      "## 第一个标题2\n",
      "\n",
      "\n",
      "逍遥老仙，\n",
      "\n",
      "\n",
      "逍遥小仙，\n",
      "\n",
      "\n",
      "...\n",
      "\n",
      "那又是谁？\n",
      "\n",
      "\n",
      "...\n",
      "\n",
      "## 第二个标题2\n",
      "\n",
      "华山论剑。\n",
      "\n",
      "\n"
     ]
    }
   ],
   "source": [
    "print(draft)"
   ]
  },
  {
   "cell_type": "markdown",
   "id": "6fff5fea-31c7-46ab-beac-a3289e9293f0",
   "metadata": {},
   "source": [
    "## 文档替换"
   ]
  },
  {
   "cell_type": "code",
   "execution_count": 10,
   "id": "9016a7a9-0854-4194-a639-5e6c4e256e50",
   "metadata": {},
   "outputs": [],
   "source": [
    "md_to_replace = \"\"\"\n",
    "# 通义千问大模型\n",
    "## 技术特性\n",
    "\n",
    "通义千问模型采用了先进的Transformer架构，\n",
    "这是一种基于自注意力机制的深度学习模型，能够并行处理输入序列，显著提高了计算效率。\n",
    "\n",
    "## 模型应用\n",
    "<OUTLINE>\n",
    "扩写摘要：\n",
    "列举通义千问模型在不同领域的实际应用案例。\n",
    "\n",
    "扩写要求：\n",
    "- 在问答系统中的应用\n",
    "- 在内容生成方面的应用\n",
    "- 在其他可能的应用领域\n",
    "</OUTLINE>\n",
    "\"\"\"\n",
    "\n",
    "new_md = \"\"\"\n",
    "## 模型应用\n",
    "\n",
    "通义千问模型在问答系统中展现出了卓越的表现。例如，在某大型电子商务平台上，它作为智能助手为数百万用户提供实时的商品咨询和售后服务。\n",
    "用户可以询问商品详情、使用方法、退换货政策等问题，通义千问都能迅速给出准确、详尽的回答，极大地提升了客户满意度和运营效率。\n",
    "此外，该模型还在医疗健康领域用于智能导诊，帮助患者解答疾病相关问题，减轻医生的工作压力。\n",
    "\"\"\""
   ]
  },
  {
   "cell_type": "code",
   "execution_count": 12,
   "id": "7ab2ee2e-25fb-481a-9d73-ade56821df55",
   "metadata": {},
   "outputs": [
    {
     "data": {
      "text/plain": [
       "[('OU-569-007',\n",
       "  '<OUTLINE>\\n扩写摘要：\\n列举通义千问模型在不同领域的实际应用案例。\\n\\n扩写要求：\\n- 在问答系统中的应用\\n- 在内容生成方面的应用\\n- 在其他可能的应用领域\\n</OUTLINE>\\n\\n')]"
      ]
     },
     "execution_count": 12,
     "metadata": {},
     "output_type": "execute_result"
    }
   ],
   "source": [
    "from textlong.desk import Markdown, parse_markdown, list_markdown\n",
    "\n",
    "all = Markdown(md_to_replace)\n",
    "docs = all.get_outline()\n",
    "list_markdown(docs)"
   ]
  },
  {
   "cell_type": "code",
   "execution_count": 13,
   "id": "cc188b82-a7ba-43d7-9522-d20e5314b71a",
   "metadata": {},
   "outputs": [
    {
     "name": "stdout",
     "output_type": "stream",
     "text": [
      "\n",
      "# 通义千问大模型\n",
      "\n",
      "## 技术特性\n",
      "\n",
      "\n",
      "通义千问模型采用了先进的Transformer架构，\n",
      "这是一种基于自注意力机制的深度学习模型，能够并行处理输入序列，显著提高了计算效率。\n",
      "\n",
      "\n",
      "## 模型应用\n",
      "\n",
      "{{YOUR_TEXT}}\n",
      "\n",
      "\n",
      "\n",
      "--------------------------------------------------------------------------------\n",
      "扩写摘要：\n",
      "列举通义千问模型在不同领域的实际应用案例。\n",
      "\n",
      "扩写要求：\n",
      "- 在问答系统中的应用\n",
      "- 在内容生成方面的应用\n",
      "- 在其他可能的应用领域\n"
     ]
    }
   ],
   "source": [
    "draft, task = all.fetch_outline_task(docs[0])\n",
    "print(draft)\n",
    "print(\"-\"*80)\n",
    "print(task)"
   ]
  },
  {
   "cell_type": "code",
   "execution_count": 16,
   "id": "218e472b-1a0e-447e-b2e1-30f43c95ff79",
   "metadata": {},
   "outputs": [
    {
     "data": {
      "text/plain": [
       "[('bl-267-000', '\\n'),\n",
       " ('he-922-001', '## 前序\\n\\n'),\n",
       " ('bl-885-002', '\\n'),\n",
       " ('he-281-003', '# 标题1\\n\\n'),\n",
       " ('pa-280-004', '我的文档。\\n\\n'),\n",
       " ('bl-967-005', '\\n'),\n",
       " ('bl-330-000', '\\n'),\n",
       " ('he-392-001', '## 模型应用\\n\\n'),\n",
       " ('bl-013-002', '\\n'),\n",
       " ('pa-836-003',\n",
       "  '通义千问模型在问答系统中展现出了卓越的表现。例如，在某大型电子商务平台上，它作为智能助手为数百万用户提供实时的商品咨询和售后服务。\\n用户可以询问商品详情、使用方法、退换货政策等问题，通义千问都能迅速给出准确、详尽的回答，极大地提升了客户满意度和运营效率。\\n此外，该模型还在医疗健康领域用于智能导诊，帮助患者解答疾病相关问题，减轻医生的工作压力。\\n\\n'),\n",
       " ('bl-800-007', '\\n'),\n",
       " ('he-904-008', '## 第一个标题2\\n\\n'),\n",
       " ('bl-296-009', '\\n'),\n",
       " ('pa-118-010', '逍遥老仙，\\n\\n'),\n",
       " ('bl-543-011', '\\n'),\n",
       " ('pa-836-012', '逍遥小仙，\\n\\n'),\n",
       " ('bl-241-013', '\\n'),\n",
       " ('OU-587-014', '<OUTLINE>\\n扩写依据：帮我描述一下逍遥老仙的威武霸气\\n</OUTLINE>\\n\\n'),\n",
       " ('bl-933-015', '\\n'),\n",
       " ('pa-181-016', '那又是谁？\\n\\n'),\n",
       " ('bl-822-017', '\\n'),\n",
       " ('OU-490-018',\n",
       "  '<OUTLINE>\\n扩写依据：帮我描述一下逍遥小仙的武功盖世\\n## 宁厌烦\\n## 宁雪\\n</OUTLINE>\\n\\n'),\n",
       " ('bl-199-019', '\\n'),\n",
       " ('he-794-020', '## 第二个标题2\\n\\n'),\n",
       " ('pa-006-021', '华山论剑。\\n\\n')]"
      ]
     },
     "execution_count": 16,
     "metadata": {},
     "output_type": "execute_result"
    }
   ],
   "source": [
    "docs = t.get_outline()\n",
    "t.replace_documents(docs[0], docs[0], parse_markdown(new_md))\n",
    "list_markdown(t.documents)"
   ]
  },
  {
   "cell_type": "code",
   "execution_count": 17,
   "id": "a499e8e6-a5e1-4da5-8ad8-d567c7f41e16",
   "metadata": {},
   "outputs": [],
   "source": [
    "md_to_replace = \"\"\"\n",
    "# 标题1\n",
    "我的文档。\n",
    "## 好戏开始\n",
    "<OUTLINE>\n",
    "扩写依据:\n",
    "一个夜晚，一只流浪狗成精了。\n",
    "</OUTLINE>\n",
    "## 第一个标题2\n",
    "<OUTLINE>\n",
    "扩写依据:\n",
    "一个夜晚，一只猫突然哈哈大笑。\n",
    "</OUTLINE>\n",
    "还有后面的故事。\n",
    "\"\"\""
   ]
  },
  {
   "cell_type": "code",
   "execution_count": 18,
   "id": "71c1a1ac-96ab-4edc-9a76-2981ccea9333",
   "metadata": {},
   "outputs": [],
   "source": [
    "from textlong.writing import MarkdownLoader\n",
    "from textlong.parser import parse_markdown\n",
    "t = Markdown(md_to_replace)"
   ]
  },
  {
   "cell_type": "markdown",
   "id": "1a40bfcc-528e-45d4-967e-e2f00bde6963",
   "metadata": {},
   "source": [
    "### get_task_range"
   ]
  },
  {
   "cell_type": "code",
   "execution_count": 19,
   "id": "d7e25097-37d2-4140-91bb-bfe43e828965",
   "metadata": {},
   "outputs": [
    {
     "data": {
      "text/plain": [
       "[Document(page_content='<OUTLINE>\\n扩写依据:\\n一个夜晚，一只流浪狗成精了。\\n</OUTLINE>\\n\\n', metadata={'id': '8184-052-004', 'type': 'OUTLINE'})]"
      ]
     },
     "execution_count": 19,
     "metadata": {},
     "output_type": "execute_result"
    }
   ],
   "source": [
    "docs = t.get_outline(pattern=\"流浪狗成精\")\n",
    "docs"
   ]
  },
  {
   "cell_type": "code",
   "execution_count": 20,
   "id": "7b3a9f86-50d4-48de-82bf-076a7dc280ab",
   "metadata": {},
   "outputs": [
    {
     "data": {
      "text/plain": [
       "[('bl-059-000', '\\n'),\n",
       " ('he-613-001', '# 标题1\\n\\n'),\n",
       " ('pa-873-002', '我的文档。\\n\\n'),\n",
       " ('he-521-003', '## 好戏开始\\n\\n'),\n",
       " ('OU-052-004', '<OUTLINE>\\n扩写依据:\\n一个夜晚，一只流浪狗成精了。\\n</OUTLINE>\\n\\n'),\n",
       " ('bl-967-005', '\\n'),\n",
       " ('he-192-006', '## 第一个标题2\\n\\n'),\n",
       " ('OU-888-007', '<OUTLINE>\\n扩写依据:\\n一个夜晚，一只猫突然哈哈大笑。\\n</OUTLINE>\\n\\n'),\n",
       " ('bl-135-008', '\\n'),\n",
       " ('pa-214-009', '还有后面的故事。\\n\\n')]"
      ]
     },
     "execution_count": 20,
     "metadata": {},
     "output_type": "execute_result"
    }
   ],
   "source": [
    "list_markdown(t.documents)"
   ]
  },
  {
   "cell_type": "code",
   "execution_count": 22,
   "id": "1f7b356c-0e4d-408f-ae22-ebf8f5b7b243",
   "metadata": {},
   "outputs": [
    {
     "data": {
      "text/plain": [
       "(4, 4)"
      ]
     },
     "execution_count": 22,
     "metadata": {},
     "output_type": "execute_result"
    }
   ],
   "source": [
    "t.get_task_range(docs[0], docs[0])"
   ]
  },
  {
   "cell_type": "markdown",
   "id": "1b3ae7fc-2586-4dd2-b6cd-26db85a9e586",
   "metadata": {},
   "source": [
    "### replace_documents"
   ]
  },
  {
   "cell_type": "code",
   "execution_count": 23,
   "id": "b2831eb2-c531-4d86-90e1-67deb329e2fd",
   "metadata": {},
   "outputs": [
    {
     "data": {
      "text/plain": [
       "[('bl-610-000', '\\n'),\n",
       " ('he-068-001', '# 标题1\\n\\n'),\n",
       " ('pa-358-002', '我的文档。\\n\\n'),\n",
       " ('he-777-003', '## 好戏开始\\n\\n'),\n",
       " ('bl-544-000', '\\n'),\n",
       " ('pa-063-001', '流浪狗仰天长啸，变成了一只人模狗样的狗。\\n\\n'),\n",
       " ('bl-530-005', '\\n'),\n",
       " ('he-299-006', '## 第一个标题2\\n\\n'),\n",
       " ('OU-056-007', '<OUTLINE>\\n扩写依据:\\n一个夜晚，一只猫突然哈哈大笑。\\n</OUTLINE>\\n\\n'),\n",
       " ('bl-501-008', '\\n'),\n",
       " ('pa-790-009', '还有后面的故事。\\n\\n')]"
      ]
     },
     "execution_count": 23,
     "metadata": {},
     "output_type": "execute_result"
    }
   ],
   "source": [
    "new_md = \"\"\"\n",
    "流浪狗仰天长啸，变成了一只人模狗样的狗。\n",
    "\"\"\"\n",
    "t = Markdown(md_to_replace)\n",
    "docs = t.get_outline(pattern=\"流浪狗成精\")\n",
    "t.replace_documents(docs[0], docs[0], parse_markdown(new_md))\n",
    "list_markdown(t.documents)"
   ]
  },
  {
   "cell_type": "markdown",
   "id": "660d823b-fc2f-44df-96f8-ca0035698430",
   "metadata": {},
   "source": [
    "剔除重复的部份："
   ]
  },
  {
   "cell_type": "code",
   "execution_count": 24,
   "id": "d073d3c6-6bc1-43aa-9891-f7afdd544520",
   "metadata": {},
   "outputs": [
    {
     "data": {
      "text/plain": [
       "[('bl-218-000', '\\n'),\n",
       " ('he-623-001', '# 标题1\\n\\n'),\n",
       " ('pa-005-002', '我的文档。\\n\\n'),\n",
       " ('he-120-003', '## 好戏开始\\n\\n'),\n",
       " ('bl-913-005', '\\n'),\n",
       " ('he-500-006', '## 第一个标题2\\n\\n'),\n",
       " ('OU-170-007', '<OUTLINE>\\n扩写依据:\\n一个夜晚，一只猫突然哈哈大笑。\\n</OUTLINE>\\n\\n'),\n",
       " ('bl-196-008', '\\n'),\n",
       " ('pa-582-009', '还有后面的故事。\\n\\n')]"
      ]
     },
     "execution_count": 24,
     "metadata": {},
     "output_type": "execute_result"
    }
   ],
   "source": [
    "new_md = \"\"\"\n",
    "## 好戏开始\n",
    "流浪狗仰天长啸，变成了一只人模狗样的狗。\n",
    "\n",
    "还这是神了！\n",
    "## 第一个标题2\n",
    "以及其他\n",
    "\"\"\"\n",
    "t = Markdown(md_to_replace)\n",
    "docs = t.get_outline(pattern=\"流浪狗成精\")\n",
    "t.replace_documents(docs[0], docs[0], parse_markdown(new_md))\n",
    "list_markdown(t.documents)"
   ]
  },
  {
   "cell_type": "markdown",
   "id": "cb735a1e-92c3-45d2-85ab-e4a781cbe6a8",
   "metadata": {},
   "source": [
    "## 获得关联文档"
   ]
  },
  {
   "cell_type": "code",
   "execution_count": 25,
   "id": "3e43dfda-2216-4c6e-b0ec-3544b72aa748",
   "metadata": {},
   "outputs": [],
   "source": [
    "md_to_get = \"\"\"\n",
    "# 标题1\n",
    "我的文档。\n",
    "\n",
    "<OUTLINE>\n",
    "扩写依据:\n",
    "妖魔世界背景设定。\n",
    "</OUTLINE>\n",
    "\n",
    "## 好戏开始\n",
    "<OUTLINE>\n",
    "扩写依据:\n",
    "一个夜晚，一只流浪狗成精了。\n",
    "</OUTLINE>\n",
    "\n",
    "## 第一个标题2\n",
    "还有后面的故事。\n",
    "<OUTLINE>\n",
    "扩写依据:\n",
    "大结局。\n",
    "</OUTLINE>\n",
    "\"\"\"\n",
    "t = Markdown(md_to_get)"
   ]
  },
  {
   "cell_type": "code",
   "execution_count": 26,
   "id": "2914d9af-ec2a-4bcd-91ec-e2317955ad22",
   "metadata": {},
   "outputs": [
    {
     "data": {
      "text/plain": [
       "[('bl-230-000', '\\n'),\n",
       " ('he-522-001', '# 标题1\\n\\n'),\n",
       " ('pa-039-002', '我的文档。\\n\\n'),\n",
       " ('bl-996-003', '\\n'),\n",
       " ('OU-017-004', '<OUTLINE>\\n扩写依据:\\n妖魔世界背景设定。\\n</OUTLINE>\\n\\n'),\n",
       " ('bl-214-005', '\\n'),\n",
       " ('he-053-006', '## 好戏开始\\n\\n'),\n",
       " ('OU-159-007', '<OUTLINE>\\n扩写依据:\\n一个夜晚，一只流浪狗成精了。\\n</OUTLINE>\\n\\n'),\n",
       " ('bl-641-008', '\\n'),\n",
       " ('he-082-009', '## 第一个标题2\\n\\n'),\n",
       " ('pa-717-010', '还有后面的故事。\\n\\n'),\n",
       " ('OU-869-011', '<OUTLINE>\\n扩写依据:\\n大结局。\\n</OUTLINE>\\n\\n'),\n",
       " ('bl-087-012', '\\n')]"
      ]
     },
     "execution_count": 26,
     "metadata": {},
     "output_type": "execute_result"
    }
   ],
   "source": [
    "list_markdown(t.documents)"
   ]
  },
  {
   "cell_type": "markdown",
   "id": "f8f5782a-bd34-4fa3-af7f-8b9e9d806765",
   "metadata": {},
   "source": [
    "### get_prev_documents"
   ]
  },
  {
   "cell_type": "code",
   "execution_count": 27,
   "id": "610c4386-c627-4081-9b7d-1a518b501429",
   "metadata": {},
   "outputs": [
    {
     "data": {
      "text/plain": [
       "[('bl-230-000', '\\n'),\n",
       " ('he-522-001', '# 标题1\\n\\n'),\n",
       " ('pa-039-002', '我的文档。\\n\\n'),\n",
       " ('bl-996-003', '\\n'),\n",
       " ('OU-017-004', '...\\n'),\n",
       " ('bl-214-005', '\\n'),\n",
       " ('he-053-006', '## 好戏开始\\n\\n')]"
      ]
     },
     "execution_count": 27,
     "metadata": {},
     "output_type": "execute_result"
    }
   ],
   "source": [
    "list_markdown(t.get_prev_documents(t.documents[7], k=100))"
   ]
  },
  {
   "cell_type": "markdown",
   "id": "5cad0c67-c763-45c4-97b0-d3910b5881c7",
   "metadata": {},
   "source": [
    "### get_next_documents"
   ]
  },
  {
   "cell_type": "code",
   "execution_count": 28,
   "id": "37f7c0de-6580-4272-91f8-b7241f98478b",
   "metadata": {},
   "outputs": [
    {
     "data": {
      "text/plain": [
       "[('bl-641-008', '\\n'),\n",
       " ('he-082-009', '## 第一个标题2\\n\\n'),\n",
       " ('pa-717-010', '还有后面的故事。\\n\\n'),\n",
       " ('OU-869-011', '...\\n'),\n",
       " ('bl-087-012', '\\n')]"
      ]
     },
     "execution_count": 28,
     "metadata": {},
     "output_type": "execute_result"
    }
   ],
   "source": [
    "list_markdown(t.get_next_documents(t.documents[7], k=50))"
   ]
  },
  {
   "cell_type": "markdown",
   "id": "870e06a7-cf94-46fe-98a7-f35d3b97bcfe",
   "metadata": {},
   "source": [
    "## Front-Matter"
   ]
  },
  {
   "cell_type": "code",
   "execution_count": 29,
   "id": "0dd2b680-baa3-4450-b1c2-6a500053a1dd",
   "metadata": {},
   "outputs": [
    {
     "name": "stdout",
     "output_type": "stream",
     "text": [
      "---\n",
      "command: stream_log\n",
      "args:\n",
      "  sep_mode: all\n",
      "  prompt_id: OUTLINE\n",
      "  input: '\n",
      "    请帮生成一个中文readme.文件，从第一级标题开始。\n",
      "    内容是指导新手如何使用`textlong`这个python包。\n",
      "    这需要包括dotenv使用、textlong加载、使用Project创作长文（其中又包括创作提纲、扩写、引用素材等几部份）\n",
      "    '\n",
      "  outline_start_tag: <OUTLINE>\n",
      "  outline_end_tag: </OUTLINE>\n",
      "output_file: README提纲.md\n",
      "modified_at: '2024-06-23 15:41:38'\n",
      "---\n",
      "\n",
      "\n"
     ]
    }
   ],
   "source": [
    "import yaml\n",
    "\n",
    "input = \"\"\"\n",
    "请帮生成一个中文readme.文件，从第一级标题开始。\n",
    "内容是指导新手如何使用`textlong`这个python包。\n",
    "这需要包括dotenv使用、textlong加载、使用Project创作长文（其中又包括创作提纲、扩写、引用素材等几部份）\n",
    "\"\"\"\n",
    "meta = {\n",
    "    \"command\": \"stream_log\",\n",
    "    \"args\": {\n",
    "      \"sep_mode\": \"all\",\n",
    "      \"prompt_id\": \"OUTLINE\",\n",
    "      \"input\": input,\n",
    "      \"outline_start_tag\": \"<OUTLINE>\",\n",
    "      \"outline_end_tag\": \"</OUTLINE>\"\n",
    "    },\n",
    "    \"output_file\": \"README提纲.md\",\n",
    "    \"modified_at\": \"2024-06-23 15:41:38\"\n",
    "}\n",
    "\n",
    "from textlong.parser import fetch_front_matter, create_front_matter\n",
    "print(create_front_matter(meta))"
   ]
  },
  {
   "cell_type": "code",
   "execution_count": null,
   "id": "00e04f02-8b83-4989-bb5d-1e39a0a67a47",
   "metadata": {},
   "outputs": [],
   "source": []
  }
 ],
 "metadata": {
  "kernelspec": {
   "display_name": "textlong-same-ipykernel",
   "language": "python",
   "name": "textlong-same-ipykernel"
  },
  "language_info": {
   "codemirror_mode": {
    "name": "ipython",
    "version": 3
   },
   "file_extension": ".py",
   "mimetype": "text/x-python",
   "name": "python",
   "nbconvert_exporter": "python",
   "pygments_lexer": "ipython3",
   "version": "3.10.0"
  }
 },
 "nbformat": 4,
 "nbformat_minor": 5
}
