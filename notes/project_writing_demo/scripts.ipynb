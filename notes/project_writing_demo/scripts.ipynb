{
 "cells": [
  {
   "cell_type": "code",
   "execution_count": 1,
   "metadata": {},
   "outputs": [
    {
     "name": "stdout",
     "output_type": "stream",
     "text": [
      "/Users/xuehongwei/github/langchain_chinese/notes/project_writing_demo\n"
     ]
    }
   ],
   "source": [
    "from dotenv import load_dotenv, find_dotenv\n",
    "load_dotenv(find_dotenv(), override=True)\n",
    "\n",
    "import os\n",
    "project_folder = os.getenv(\"PROJECT_FOLDER\")\n",
    "print(project_folder)\n",
    "os.chdir(os.path.join(project_folder, '../..'))"
   ]
  },
  {
   "cell_type": "markdown",
   "metadata": {},
   "source": [
    "## 构建写作链"
   ]
  },
  {
   "cell_type": "code",
   "execution_count": 5,
   "metadata": {},
   "outputs": [
    {
     "name": "stdout",
     "output_type": "stream",
     "text": [
      "/Users/xuehongwei/github/langchain_chinese/notes/project_writing_demo\n",
      "/Users/xuehongwei/github/langchain_chinese/notes/project_writing_demo/xxx\n",
      "/Users/xuehongwei/github/langchain_chinese/notes/project_writing_demo/xxx/001.md\n",
      "/Users/xuehongwei/github/langchain_chinese/notes/project_writing_demo/xxx/yyy/abc.md\n"
     ]
    }
   ],
   "source": [
    "from langchain_chinese import WritingChain\n",
    "from langchain_zhipu import ChatZhipuAI\n",
    "\n",
    "w = WritingChain(llm=ChatZhipuAI(), output_dir=\"xxx\")\n",
    "print(w.project_folder)\n",
    "print(w.output_dir)\n",
    "print(w.get_output_path())\n",
    "print(w.get_output_path(\"./yyy/abc.md\"))\n"
   ]
  },
  {
   "cell_type": "code",
   "execution_count": 6,
   "metadata": {},
   "outputs": [
    {
     "name": "stdout",
     "output_type": "stream",
     "text": [
      "-------------------- OUTPUT_PATH: /Users/xuehongwei/github/langchain_chinese/notes/project_writing_demo/xxx/001.md --------------------\n",
      "以下是五个人名的列表：\n",
      "\n",
      "1）全名：李华，小名：华子；\n",
      "2）全名：张伟，小名：伟伟；\n",
      "3）全名：王芳，小名：芳芳；\n",
      "4）全名：赵敏，小名：敏敏；\n",
      "5）全名：陈静，小名：静静。\n",
      "--------------------\n"
     ]
    },
    {
     "data": {
      "text/plain": [
       "AIMessage(content='以下是五个人名的列表：\\n\\n1）全名：李华，小名：华子；\\n2）全名：张伟，小名：伟伟；\\n3）全名：王芳，小名：芳芳；\\n4）全名：赵敏，小名：敏敏；\\n5）全名：陈静，小名：静静。')"
      ]
     },
     "execution_count": 6,
     "metadata": {},
     "output_type": "execute_result"
    }
   ],
   "source": [
    "w_chain = w.get_chain(\n",
    "    styles=\"列表时使用： 1) 2) 这样的序号\", \n",
    "    demo=\"\"\"\n",
    "    1）全名：欧阳娜娜，小名：娜娜；\n",
    "    2）全名：欧阳娜娜，小名：娜娜；    \n",
    "    \"\"\"\n",
    ")\n",
    "\n",
    "w_chain.invoke(\"给我5个人名的列表\")"
   ]
  },
  {
   "cell_type": "code",
   "execution_count": 7,
   "metadata": {},
   "outputs": [
    {
     "name": "stdout",
     "output_type": "stream",
     "text": [
      "-------------------- OUTPUT_PATH: /Users/xuehongwei/github/langchain_chinese/notes/project_writing_demo/xxx/001.md --------------------\n",
      "There is a guy named Bing Shen at Guangzhou Hongmeng Company.\n",
      "--------------------\n"
     ]
    },
    {
     "data": {
      "text/plain": [
       "AIMessage(content='There is a guy named Bing Shen at Guangzhou Hongmeng Company.')"
      ]
     },
     "execution_count": 7,
     "metadata": {},
     "output_type": "execute_result"
    }
   ],
   "source": [
    "translate_prompt_kv = {\n",
    "  \"goal\": \"\"\"\n",
    "    如果给定的文字是中文，就请帮我为英文；如果给定的文字是其他语言，就帮我翻译为中文\n",
    "    \"\"\",\n",
    "\n",
    "  \"instruction\": \"\"\"\n",
    "    1. 请尽量保持文章的原来意思和原来的风格，不要额外发挥。\n",
    "    2. 直接给出翻译结果即可。\n",
    "    3. 语言尽量简练，不要啰嗦，不要增加补充提问。\n",
    "    \"\"\",\n",
    "\n",
    "  \"demo\": \"\"\"\n",
    "    ```\n",
    "    user: hi\n",
    "    assistant: 你好\n",
    "    user: 你好\n",
    "    assistant: hi \n",
    "    ```\n",
    "    \"\"\"\n",
    "}\n",
    "\n",
    "translate_chain = w.get_chain(**translate_prompt_kv)\n",
    "translate_chain.invoke(\"听说广州鸿蒙公司有一个叫炳神的家伙\")"
   ]
  },
  {
   "cell_type": "code",
   "execution_count": 8,
   "metadata": {},
   "outputs": [
    {
     "name": "stdout",
     "output_type": "stream",
     "text": [
      "```\n",
      "重庆市市场监督新媒体监督系统升级改造建议\n",
      "\n",
      "（一）项目背景与需求分析\n",
      "一、现有系统存在问题分析\n",
      "二、新媒体监督趋势与需求\n",
      "\n",
      "（二）升级目标与工作内容\n",
      "一、系统性能优化\n",
      "二、新媒体整合与管理\n",
      "这部分工作将强化对多种新媒体形式的接入与管理，提升监督效率。\n",
      "三、主动监测机制建立\n",
      "这部分工作将引入主动监测技术，旨在实现问题的提前发现与预警。\n",
      "\n",
      "（三）具体实施方案\n",
      "一、技术架构升级\n",
      "二、功能模块优化\n",
      "1. 数据采集与分析\n",
      "2. 监测预警与应急响应\n",
      "三、用户界面与交互设计\n",
      "提升用户体验，简化操作流程。\n",
      "\n",
      "（四）新旧系统过渡与运维\n",
      "一、旧系统数据迁移\n",
      "二、新系统上线与测试\n",
      "三、持续运维与优化\n",
      "\n",
      "（五）调研与评估\n",
      "一、市场监督需求调研\n",
      "二、技术可行性评估\n",
      "三、项目风险评估与应对措施\n",
      "\n",
      "（六）预算与时间线\n",
      "一、项目预算规划\n",
      "二、实施时间线与里程碑\n",
      "\n",
      "（七）预期成效与评估\n",
      "一、监督效能提升\n",
      "二、市场反馈与满意度\n",
      "三、长效机制建立\n",
      "\n",
      "（八）附件与补充说明\n",
      "一、相关法律法规参考\n",
      "二、技术参考资料\n",
      "三、项目联系人与沟通渠道\n",
      "```\n",
      "\n",
      "以上是根据您提供的资料内容，结合常见的系统升级改造建议，列出的一份主要章节提纲。每部分内容都简洁明了，直接关联到新媒体监督系统的升级改造，符合您的要求。-------------------- OUTPUT_PATH: /Users/xuehongwei/github/langchain_chinese/notes/project_writing_demo/xxx/001.md --------------------\n",
      "```\n",
      "重庆市市场监督新媒体监督系统升级改造建议\n",
      "\n",
      "（一）项目背景与需求分析\n",
      "一、现有系统存在问题分析\n",
      "二、新媒体监督趋势与需求\n",
      "\n",
      "（二）升级目标与工作内容\n",
      "一、系统性能优化\n",
      "二、新媒体整合与管理\n",
      "这部分工作将强化对多种新媒体形式的接入与管理，提升监督效率。\n",
      "三、主动监测机制建立\n",
      "这部分工作将引入主动监测技术，旨在实现问题的提前发现与预警。\n",
      "\n",
      "（三）具体实施方案\n",
      "一、技术架构升级\n",
      "二、功能模块优化\n",
      "1. 数据采集与分析\n",
      "2. 监测预警与应急响应\n",
      "三、用户界面与交互设计\n",
      "提升用户体验，简化操作流程。\n",
      "\n",
      "（四）新旧系统过渡与运维\n",
      "一、旧系统数据迁移\n",
      "二、新系统上线与测试\n",
      "三、持续运维与优化\n",
      "\n",
      "（五）调研与评估\n",
      "一、市场监督需求调研\n",
      "二、技术可行性评估\n",
      "三、项目风险评估与应对措施\n",
      "\n",
      "（六）预算与时间线\n",
      "一、项目预算规划\n",
      "二、实施时间线与里程碑\n",
      "\n",
      "（七）预期成效与评估\n",
      "一、监督效能提升\n",
      "二、市场反馈与满意度\n",
      "三、长效机制建立\n",
      "\n",
      "（八）附件与补充说明\n",
      "一、相关法律法规参考\n",
      "二、技术参考资料\n",
      "三、项目联系人与沟通渠道\n",
      "```\n",
      "\n",
      "以上是根据您提供的资料内容，结合常见的系统升级改造建议，列出的一份主要章节提纲。每部分内容都简洁明了，直接关联到新媒体监督系统的升级改造，符合您的要求。\n",
      "--------------------\n"
     ]
    }
   ],
   "source": [
    "translate_prompt_kv = {\n",
    "  \"goal\": \"\"\"\n",
    "    我正在写一个较长的文案书，请你帮我列出所需的主要章节。\n",
    "    \"\"\",\n",
    "\n",
    "  \"instruction\": \"\"\"\n",
    "    1. 语言尽量简练，不要啰嗦，不要增加补充提问。\n",
    "    \"\"\",\n",
    "\n",
    "  \"demo\": \"\"\"\n",
    "    ```\n",
    "XX系统升级方案建议20240415\n",
    "\n",
    "（一）需求分析\n",
    "一、旧系统升级\n",
    "二、新增主动作为监督模块的需求\n",
    "\n",
    "（二）工作内容\n",
    "一、旧系统运维\n",
    "二、XXXX模块\n",
    "这部分工作职责涉及XXX，并建立YYYY的机制。目标在于一方面XXXX，另一方面XXXXX。\n",
    "三、新基础平台设计\n",
    "这部分工作涉及将旧系统的功能与新系统功能进行融合，目标是最终实现新系统的独立运作，并逐步淘汰旧系统。\n",
    "\n",
    "（三）调研工作开展\n",
    "一、数据调研工作\n",
    "二、旧系统相关调研工作\n",
    "三、XXXXX的接口调研工作开展 \n",
    "    ```\n",
    "    \"\"\"\n",
    "}\n",
    "\n",
    "topics_chain = w.get_chain(**translate_prompt_kv)\n",
    "for chunk in topics_chain.stream(\"重庆市市场监督新媒体监督系统升级改造建议\"):\n",
    "    print(chunk.content, end=\"\")"
   ]
  },
  {
   "cell_type": "code",
   "execution_count": null,
   "metadata": {},
   "outputs": [],
   "source": []
  }
 ],
 "metadata": {
  "kernelspec": {
   "display_name": "langchain-zhipu-Ddey8KS3-py3.9",
   "language": "python",
   "name": "python3"
  },
  "language_info": {
   "codemirror_mode": {
    "name": "ipython",
    "version": 3
   },
   "file_extension": ".py",
   "mimetype": "text/x-python",
   "name": "python",
   "nbconvert_exporter": "python",
   "pygments_lexer": "ipython3",
   "version": "3.9.18"
  }
 },
 "nbformat": 4,
 "nbformat_minor": 2
}
