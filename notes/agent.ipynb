{
 "cells": [
  {
   "cell_type": "markdown",
   "id": "40a245d6-e7ea-4be6-9f57-d9677554ccfa",
   "metadata": {},
   "source": [
    "# 智能体框架"
   ]
  },
  {
   "cell_type": "markdown",
   "id": "7533300d-21cd-4d94-a8ef-650cea271667",
   "metadata": {},
   "source": [
    "## 基本功能"
   ]
  },
  {
   "cell_type": "markdown",
   "id": "1945c309-e566-484a-9ad5-8f43c33f429f",
   "metadata": {},
   "source": [
    "### log + call"
   ]
  },
  {
   "cell_type": "code",
   "execution_count": 2,
   "id": "2c0c097f-6a30-47fb-bbb9-5658e38ec6f8",
   "metadata": {},
   "outputs": [
    {
     "name": "stdout",
     "output_type": "stream",
     "text": [
      "[INFO] \u001b[34mFakeLLM: [{'role': 'user', 'content': 'hi'}]\u001b[0m\n",
      "\u001b[32m这\u001b[0m\u001b[32m是\u001b[0m\u001b[32m一个\u001b[0m\u001b[32m模拟\u001b[0m\u001b[32m调用\u001b[0m\u001b[32m!\u001b[0m\n",
      "\n"
     ]
    },
    {
     "data": {
      "text/plain": [
       "'这是一个模拟调用!'"
      ]
     },
     "execution_count": 2,
     "metadata": {},
     "output_type": "execute_result"
    }
   ],
   "source": [
    "from textlong.agent import FakeLLM\n",
    "from textlong.io import log\n",
    "\n",
    "log(FakeLLM(), \"hi\")"
   ]
  },
  {
   "cell_type": "markdown",
   "id": "6b178ac3-ee24-484d-9f3e-2ae8a5153468",
   "metadata": {},
   "source": [
    "### alog + async_call"
   ]
  },
  {
   "cell_type": "code",
   "execution_count": 3,
   "id": "ff781830-aff0-45fb-a755-978a1e80d1f1",
   "metadata": {},
   "outputs": [
    {
     "name": "stdout",
     "output_type": "stream",
     "text": [
      "[INFO] \u001b[34mFakeLLM: [{'role': 'user', 'content': 'hi'}]\u001b[0m\n",
      "\u001b[32m这\u001b[0m\u001b[32m是\u001b[0m\u001b[32m一个\u001b[0m\u001b[32m模拟\u001b[0m\u001b[32m调用\u001b[0m\u001b[32m!\u001b[0m\n",
      "\n"
     ]
    },
    {
     "data": {
      "text/plain": [
       "'这是一个模拟调用!'"
      ]
     },
     "execution_count": 3,
     "metadata": {},
     "output_type": "execute_result"
    }
   ],
   "source": [
    "from textlong.agent import FakeLLM\n",
    "from textlong.io import alog\n",
    "\n",
    "await alog(FakeLLM(), \"hi\", sleep=1)"
   ]
  },
  {
   "cell_type": "markdown",
   "id": "3d40ef16-4288-4614-a9a5-78a7bac9ad2a",
   "metadata": {},
   "source": [
    "### 线程池"
   ]
  },
  {
   "cell_type": "code",
   "execution_count": 3,
   "id": "f544bf67-86e4-439c-87f5-1c30b18578a6",
   "metadata": {},
   "outputs": [
    {
     "data": {
      "text/plain": [
       "{'FAKE_LLM': {'max_workers': 5, 'used_workers': 1, 'waiting_threads': 0}}"
      ]
     },
     "execution_count": 3,
     "metadata": {},
     "output_type": "execute_result"
    }
   ],
   "source": [
    "FakeLLM.monitor_executors()"
   ]
  },
  {
   "cell_type": "markdown",
   "id": "1e8b4e98-6f08-45f1-a326-b24686c299ff",
   "metadata": {},
   "source": [
    "## 智能体：直调大模型"
   ]
  },
  {
   "cell_type": "markdown",
   "id": "12b0bb63-5efe-4e79-a8c6-12ad0eb39d35",
   "metadata": {},
   "source": [
    "### 对话"
   ]
  },
  {
   "cell_type": "code",
   "execution_count": 4,
   "id": "cd7e0d2d-fb9d-4992-9045-3dc602fd346e",
   "metadata": {},
   "outputs": [
    {
     "name": "stdout",
     "output_type": "stream",
     "text": [
      "\u001b[32m小白\u001b[0m\u001b[32m兔\u001b[0m\u001b[32m，\u001b[0m\u001b[32m梦中游，  \n",
      "\u001b[0m\u001b[32m跳过彩虹，笑悠悠。  \n",
      "\u001b[0m\u001b[32m月亮船，云中荡，  \n",
      "\u001b[0m\u001b[32m梦里胡萝卜，甜如糖。\u001b[0m\u001b[32m\u001b[0m\n",
      "\n"
     ]
    },
    {
     "data": {
      "text/plain": [
       "'小白兔，梦中游，  \\n跳过彩虹，笑悠悠。  \\n月亮船，云中荡，  \\n梦里胡萝卜，甜如糖。'"
      ]
     },
     "execution_count": 4,
     "metadata": {},
     "output_type": "execute_result"
    }
   ],
   "source": [
    "from textlong.agent import ChatQwen\n",
    "from textlong.io import log\n",
    "\n",
    "qwen = ChatQwen()\n",
    "log(qwen, \"你能帮我写一首关于兔子做梦的四句儿歌?\")"
   ]
  },
  {
   "cell_type": "code",
   "execution_count": 7,
   "id": "1f5eb165-0536-41ee-9c23-f9da8b9d1f55",
   "metadata": {},
   "outputs": [
    {
     "data": {
      "text/plain": [
       "[{'role': 'user', 'content': '你能帮我写一首关于兔子做梦的四句儿歌?'},\n",
       " {'role': 'assistant',\n",
       "  'content': '小白兔，梦中跳，  \\n胡萝卜，满天飘。  \\n月亮船，带它逛，  \\n醒来笑，梦真妙。'}]"
      ]
     },
     "execution_count": 7,
     "metadata": {},
     "output_type": "execute_result"
    }
   ],
   "source": [
    "qwen.memory"
   ]
  },
  {
   "cell_type": "markdown",
   "id": "7dc286da-5819-419b-b523-8ec3391ae7b6",
   "metadata": {},
   "source": [
    "### 使用系统提示语"
   ]
  },
  {
   "cell_type": "code",
   "execution_count": 5,
   "id": "8c70c16a-77a4-44f5-865a-b4dea7858496",
   "metadata": {},
   "outputs": [
    {
     "name": "stdout",
     "output_type": "stream",
     "text": [
      "\u001b[32m小\u001b[0m\u001b[32m兔\u001b[0m\u001b[32m乖乖\u001b[0m\u001b[32m，耳朵竖起来，\n",
      "\u001b[0m\u001b[32m蹦蹦跳跳，草地作舞台\u001b[0m\u001b[32m。\n",
      "爱吃萝卜和青菜，生活\u001b[0m\u001b[32m乐无边，\n",
      "月光下嬉\u001b[0m\u001b[32m戏，梦里笑开怀。\u001b[0m\u001b[32m\u001b[0m\n",
      "\n"
     ]
    },
    {
     "data": {
      "text/plain": [
       "'小兔乖乖，耳朵竖起来，\\n蹦蹦跳跳，草地作舞台。\\n爱吃萝卜和青菜，生活乐无边，\\n月光下嬉戏，梦里笑开怀。'"
      ]
     },
     "execution_count": 5,
     "metadata": {},
     "output_type": "execute_result"
    }
   ],
   "source": [
    "from textlong.agent import ChatQwen\n",
    "from textlong.io import log\n",
    "\n",
    "qwen = ChatQwen(prompt=\"你是一个专门写儿歌的作家，请根据我的提示写作。\")\n",
    "log(qwen, \"来一首关于兔子的，四句\")"
   ]
  },
  {
   "cell_type": "code",
   "execution_count": 2,
   "id": "b0aad76e-9aba-4182-8b84-501544067b85",
   "metadata": {},
   "outputs": [
    {
     "data": {
      "text/plain": [
       "[{'role': 'system', 'content': '你是一个专门写儿歌的作家，请根据我的提示写作。'},\n",
       " {'role': 'user', 'content': '来一首关于兔子的，四句'},\n",
       " {'role': 'assistant',\n",
       "  'content': '小白兔，蹦蹦跳，  \\n耳朵长，尾巴小。  \\n爱吃萝卜和青菜，  \\n快乐生活在林草。'}]"
      ]
     },
     "execution_count": 2,
     "metadata": {},
     "output_type": "execute_result"
    }
   ],
   "source": [
    "qwen.memory"
   ]
  },
  {
   "cell_type": "code",
   "execution_count": 3,
   "id": "443c458e-10a3-4baa-842b-ec1949023aeb",
   "metadata": {},
   "outputs": [
    {
     "name": "stdout",
     "output_type": "stream",
     "text": [
      "\u001b[32m两条\u001b[0m\u001b[32m小\u001b[0m\u001b[32m鱼\u001b[0m\u001b[32m，水中游，  \n",
      "\u001b[0m\u001b[32m摇摇尾巴，点点头。  \n",
      "相互\u001b[0m\u001b[32m追逐，笑哈哈，  \n",
      "海底世界\u001b[0m\u001b[32m，真奇妙。\u001b[0m\u001b[32m\u001b[0m\n",
      "\n"
     ]
    },
    {
     "data": {
      "text/plain": [
       "'两条小鱼，水中游，  \\n摇摇尾巴，点点头。  \\n相互追逐，笑哈哈，  \\n海底世界，真奇妙。'"
      ]
     },
     "execution_count": 3,
     "metadata": {},
     "output_type": "execute_result"
    }
   ],
   "source": [
    "log(qwen, \"换成两条小鱼\")"
   ]
  },
  {
   "cell_type": "code",
   "execution_count": 4,
   "id": "93ae3026-3ab3-4a39-8a3f-8a973ee57813",
   "metadata": {},
   "outputs": [
    {
     "data": {
      "text/plain": [
       "[{'role': 'system', 'content': '你是一个专门写儿歌的作家，请根据我的提示写作。'},\n",
       " {'role': 'user', 'content': '来一首关于兔子的，四句'},\n",
       " {'role': 'assistant',\n",
       "  'content': '小白兔，蹦蹦跳，  \\n耳朵长，尾巴小。  \\n爱吃萝卜和青菜，  \\n快乐生活在林草。'},\n",
       " {'role': 'user', 'content': '换成两条小鱼'},\n",
       " {'role': 'assistant',\n",
       "  'content': '两条小鱼，水中游，  \\n摇摇尾巴，点点头。  \\n相互追逐，笑哈哈，  \\n海底世界，真奇妙。'}]"
      ]
     },
     "execution_count": 4,
     "metadata": {},
     "output_type": "execute_result"
    }
   ],
   "source": [
    "qwen.memory"
   ]
  },
  {
   "cell_type": "markdown",
   "id": "99ded9b9-aba5-46cb-8963-48714ea2256c",
   "metadata": {},
   "source": [
    "## 智能体：使用工具"
   ]
  },
  {
   "cell_type": "markdown",
   "id": "bb1378d8-1391-4ecb-865f-7b73b5cad2ca",
   "metadata": {},
   "source": [
    "### 返回工具提示"
   ]
  },
  {
   "cell_type": "code",
   "execution_count": 1,
   "id": "759883fd-1bb3-45b4-9034-f4da9331151f",
   "metadata": {},
   "outputs": [],
   "source": [
    "from textlong.tools import tool, convert_to_openai_tool\n",
    "from textlong.agent import ChatQwen\n",
    "from textlong.io import log\n",
    "import json\n",
    "\n",
    "@tool\n",
    "def get_current_weather(location: str=None):\n",
    "    \"\"\"获取城市的天气情况\"\"\"\n",
    "    return f\"{location}今天是晴天。 \""
   ]
  },
  {
   "cell_type": "code",
   "execution_count": 2,
   "id": "931704ba-5ddc-4cdb-80bb-a6a7377edea0",
   "metadata": {},
   "outputs": [
    {
     "name": "stdout",
     "output_type": "stream",
     "text": [
      "[TOOLS_CALL_CHUNK] \u001b[32m{\"index\": 0, \"id\": \"call_1ae219216a9b4c78a7423c\", \"type\": \"function\", \"function\": {\"name\": \"get_current_weather\", \"arguments\": \"\"}}\u001b[0m\n",
      "[TOOLS_CALL_CHUNK] \u001b[32m{\"index\": 0, \"id\": \"\", \"type\": \"function\", \"function\": {\"arguments\": \"{\\\"location\\\": \\\"\"}}\u001b[0m\n",
      "[TOOLS_CALL_CHUNK] \u001b[32m{\"index\": 0, \"id\": \"\", \"type\": \"function\", \"function\": {\"arguments\": \"广州\\\"}\"}}\u001b[0m\n",
      "[TOOLS_CALL_CHUNK] \u001b[32m{\"index\": 0, \"id\": \"\", \"type\": \"function\", \"function\": {}}\u001b[0m\n",
      "[TOOLS_CALL_FINAL] \u001b[36m{\"0\": {\"index\": 0, \"id\": \"call_1ae219216a9b4c78a7423c\", \"type\": \"function\", \"function\": {\"name\": \"get_current_weather\", \"arguments\": \"{\\\"location\\\": \\\"广州\\\"}\"}}}\u001b[0m\n"
     ]
    },
    {
     "data": {
      "text/plain": [
       "'{\"0\": {\"index\": 0, \"id\": \"call_1ae219216a9b4c78a7423c\", \"type\": \"function\", \"function\": {\"name\": \"get_current_weather\", \"arguments\": \"{\\\\\"location\\\\\": \\\\\"广州\\\\\"}\"}}}'"
      ]
     },
     "execution_count": 2,
     "metadata": {},
     "output_type": "execute_result"
    }
   ],
   "source": [
    "log(ChatQwen(), \"今天广州天气如何啊\", tools=[convert_to_openai_tool(get_current_weather)])\n",
    "# log(ChatQwen(), \"今天广州天气如何啊\", tools=[convert_to_openai_tool(get_current_weather)], toolkits=[get_current_weather])"
   ]
  },
  {
   "cell_type": "markdown",
   "id": "ce8452c8-3e1d-4b04-8441-2d5297c50058",
   "metadata": {},
   "source": [
    "### 执行工具回调"
   ]
  },
  {
   "cell_type": "code",
   "execution_count": 3,
   "id": "02912afa-e971-4bc6-9e4d-ddb0d4515d81",
   "metadata": {},
   "outputs": [
    {
     "name": "stdout",
     "output_type": "stream",
     "text": [
      "[TOOLS_CALL_CHUNK] \u001b[32m{\"index\": 0, \"id\": \"call_57a4a0292bba4ae8aaa996\", \"type\": \"function\", \"function\": {\"name\": \"get_current_weather\", \"arguments\": \"\"}}\u001b[0m\n",
      "[TOOLS_CALL_CHUNK] \u001b[32m{\"index\": 0, \"id\": \"\", \"type\": \"function\", \"function\": {\"arguments\": \"{\\\"location\\\": \\\"\"}}\u001b[0m\n",
      "[TOOLS_CALL_CHUNK] \u001b[32m{\"index\": 0, \"id\": \"\", \"type\": \"function\", \"function\": {\"arguments\": \"广州\\\"}\"}}\u001b[0m\n",
      "[TOOLS_CALL_CHUNK] \u001b[32m{\"index\": 0, \"id\": \"\", \"type\": \"function\", \"function\": {}}\u001b[0m\n",
      "[TOOLS_CALL_FINAL] \u001b[36m{\"0\": {\"index\": 0, \"id\": \"call_57a4a0292bba4ae8aaa996\", \"type\": \"function\", \"function\": {\"name\": \"get_current_weather\", \"arguments\": \"{\\\"location\\\": \\\"广州\\\"}\"}}}\u001b[0m\n",
      "\u001b[32m广\u001b[0m\u001b[32m州\u001b[0m\u001b[32m今\u001b[0m\u001b[32m天\u001b[0m\u001b[32m是\u001b[0m\u001b[32m晴\u001b[0m\u001b[32m天\u001b[0m\u001b[32m。\u001b[0m\u001b[32m \u001b[0m\n",
      "\n",
      "\u001b[32m今天\u001b[0m\u001b[32m广州是晴天，\u001b[0m\u001b[32m非常适合晒被子。可以好好利用\u001b[0m\u001b[32m这晴朗的天气给被子\u001b[0m\u001b[32m来个日光浴哦！\u001b[0m\u001b[32m\u001b[0m\n",
      "\n"
     ]
    },
    {
     "data": {
      "text/plain": [
       "'{\"0\": {\"index\": 0, \"id\": \"call_57a4a0292bba4ae8aaa996\", \"type\": \"function\", \"function\": {\"name\": \"get_current_weather\", \"arguments\": \"{\\\\\"location\\\\\": \\\\\"广州\\\\\"}\"}}}今天广州是晴天，非常适合晒被子。可以好好利用这晴朗的天气给被子来个日光浴哦！'"
      ]
     },
     "execution_count": 3,
     "metadata": {},
     "output_type": "execute_result"
    }
   ],
   "source": [
    "qwen = ChatQwen(\n",
    "    tools=[convert_to_openai_tool(get_current_weather)],\n",
    "    toolkits=[get_current_weather]\n",
    ")\n",
    "\n",
    "log(qwen, \"今天广州可以晒被子吗？\")"
   ]
  },
  {
   "cell_type": "markdown",
   "id": "37c06357-4805-4f43-a9b8-948783f1e361",
   "metadata": {},
   "source": [
    "## 智能体团队：执行管道"
   ]
  },
  {
   "cell_type": "markdown",
   "id": "4b10e728-0e07-4d7a-a908-07de1d59f116",
   "metadata": {},
   "source": [
    "### 从聊天开始的管道 [Chat, Chat, Chat]"
   ]
  },
  {
   "cell_type": "code",
   "execution_count": 4,
   "id": "aeca6e81-4691-4498-b8bb-fbe17e1f4a0d",
   "metadata": {},
   "outputs": [
    {
     "name": "stdout",
     "output_type": "stream",
     "text": [
      "[INFO] \u001b[34m>>> Node 1: 我是一个儿童作家，擅长写儿歌。\u001b[0m\n",
      "\u001b[32m小\u001b[0m\u001b[32m兔\u001b[0m\u001b[32m梦\u001b[0m\u001b[32m中跳月亮，云\u001b[0m\u001b[32m朵枕头软又香。\n",
      "胡萝卜城堡\u001b[0m\u001b[32m舞会忙，醒来嘴角笑弯\u001b[0m\u001b[32m弯。\u001b[0m\u001b[32m\u001b[0m\n",
      "\n",
      "[INFO] \u001b[34m>>> Node 2: 请你帮我评价文章特色，两句话即可\u001b[0m\n",
      "\u001b[32m这篇文章\u001b[0m\u001b[32m特色\u001b[0m\u001b[32m在于\u001b[0m\u001b[32m其丰富的想象力与温馨\u001b[0m\u001b[32m的氛围，将孩子般的纯真\u001b[0m\u001b[32m梦想和奇妙幻想融合得恰到\u001b[0m\u001b[32m好处，语言生动活泼，充满了诗意\u001b[0m\u001b[32m与童趣。\u001b[0m\u001b[32m\u001b[0m\n",
      "\n",
      "[INFO] \u001b[34m>>> Node 3: 请针对我的写作成果打一个分数，给出一句话的打分点，最终给出1分至5分\u001b[0m\n",
      "\u001b[32m4\u001b[0m\u001b[32m分\u001b[0m\u001b[32m。\u001b[0m\u001b[32m打分点：文章\u001b[0m\u001b[32m成功营造了独特的想象力和温馨氛围\u001b[0m\u001b[32m，语言生动，富有诗意与童\u001b[0m\u001b[32m趣，但仍有提升空间，如\u001b[0m\u001b[32m在情节连贯性或深度探索\u001b[0m\u001b[32m上可以进一步加强。\u001b[0m\u001b[32m\u001b[0m\n",
      "\n"
     ]
    },
    {
     "data": {
      "text/plain": [
       "'4分。打分点：文章成功营造了独特的想象力和温馨氛围，语言生动，富有诗意与童趣，但仍有提升空间，如在情节连贯性或深度探索上可以进一步加强。'"
      ]
     },
     "execution_count": 4,
     "metadata": {},
     "output_type": "execute_result"
    }
   ],
   "source": [
    "from textlong.agent import ChatQwen, Pipe\n",
    "from textlong.io import log\n",
    "\n",
    "pipe = Pipe(\n",
    "    ChatQwen(prompt=\"我是一个儿童作家，擅长写儿歌。\"),\n",
    "    ChatQwen(prompt=\"请你帮我评价文章特色，两句话即可\"),\n",
    "    ChatQwen(prompt=\"请针对我的写作成果打一个分数，给出一句话的打分点，最终给出1分至5分\")\n",
    ")\n",
    "\n",
    "log(pipe, \"你能帮我写一首关于兔子做梦的？四句即可。\")"
   ]
  },
  {
   "cell_type": "code",
   "execution_count": 2,
   "id": "8a876ad9-428f-4969-8896-adac2e3c1008",
   "metadata": {},
   "outputs": [
    {
     "data": {
      "text/plain": [
       "[{'role': 'system', 'content': '我将告诉你我的写作成果，你负责帮我评价文章特色，两句话即可'},\n",
       " {'role': 'user',\n",
       "  'content': '小兔梦中跳，月光下舞蹈，\\n胡萝卜乐园，梦里吃个饱。\\n云朵当被窝，星河伴入眠，\\n醒来笑眯眯，是梦也是真。'},\n",
       " {'role': 'assistant',\n",
       "  'content': '你的文章充满了童趣与想象力，字句间跳跃着温馨和梦幻，构建了一个让读者向往的童话世界。通过小兔的梦境，展现了孩童般纯真的快乐与满足，富有诗意，令人会心一笑。'}]"
      ]
     },
     "execution_count": 2,
     "metadata": {},
     "output_type": "execute_result"
    }
   ],
   "source": [
    "pipe.to_runnables[0]['runnable'].memory"
   ]
  },
  {
   "cell_type": "markdown",
   "id": "78c7b8c1-da18-4a80-a306-39d00b038ba7",
   "metadata": {},
   "source": [
    "### 从提示语构造开始的管道 [Template, Chat, Chat]"
   ]
  },
  {
   "cell_type": "code",
   "execution_count": 5,
   "id": "6ebd6b27-882b-4eb6-a6e4-97cfb7444a82",
   "metadata": {},
   "outputs": [],
   "source": [
    "from textlong.agent import ChatQwen, Pipe, Template\n",
    "from textlong.io import log, alog"
   ]
  },
  {
   "cell_type": "code",
   "execution_count": 6,
   "id": "34740c68-05c7-4bd8-b44d-acd73ec713a3",
   "metadata": {},
   "outputs": [
    {
     "name": "stdout",
     "output_type": "stream",
     "text": [
      "[INFO] \u001b[34m你是强大的写作助手。\n",
      "\n",
      "你必须遵循以下约束来完成任务:\n",
      "1. 直接输出你的结果，不要评论，不要啰嗦\n",
      "2. 使用markdown格式输出\n",
      "\n",
      "**你的任务是:**\n",
      "请你帮我写一首4行儿歌\n",
      "\u001b[0m\n"
     ]
    },
    {
     "data": {
      "text/plain": [
       "'请开始'"
      ]
     },
     "execution_count": 6,
     "metadata": {},
     "output_type": "execute_result"
    }
   ],
   "source": [
    "t = Template(\"IDEA\")\n",
    "log(t, {\"task\": \"请你帮我写一首4行儿歌\"})\n",
    "t.output"
   ]
  },
  {
   "cell_type": "code",
   "execution_count": 7,
   "id": "d26d2e83-249e-4d6e-a759-a82da219f232",
   "metadata": {},
   "outputs": [
    {
     "name": "stdout",
     "output_type": "stream",
     "text": [
      "[INFO] \u001b[34m>>> Node 1: Template\u001b[0m\n",
      "[INFO] \u001b[34m你是强大的写作助手。\n",
      "\n",
      "你必须遵循以下约束来完成任务:\n",
      "1. 直接输出你的结果，不要评论，不要啰嗦\n",
      "2. 使用markdown格式输出\n",
      "\n",
      "**你的任务是:**\n",
      "请你帮我写一首4行儿歌\n",
      "\u001b[0m\n",
      "[INFO] \u001b[34m>>> Node 2: ChatQwen\u001b[0m\n",
      "\u001b[32m小\u001b[0m\u001b[32m蜜蜂\u001b[0m\u001b[32m，\u001b[0m\u001b[32m嗡嗡嗡  \n",
      "飞\u001b[0m\u001b[32m到花丛中  \n",
      "采花蜜\u001b[0m\u001b[32m，忙不停  \n",
      "甜甜蜜带回家\u001b[0m\u001b[32m\u001b[0m\n",
      "\n",
      "[INFO] \u001b[34m>>> Node 3: 请帮我对作品进行评价，找出三个缺点，一句话总结。\u001b[0m\n",
      "\u001b[32m1\u001b[0m\u001b[32m.\u001b[0m\u001b[32m **\u001b[0m\u001b[32m内容单一**：诗歌\u001b[0m\u001b[32m内容围绕蜜蜂采蜜的自然行为\u001b[0m\u001b[32m，较为简单，缺乏深层次探索或\u001b[0m\u001b[32m情感波动。\n",
      "2. **句式\u001b[0m\u001b[32m重复**：每句以相似的\u001b[0m\u001b[32m音效词“嗡嗡嗡”\u001b[0m\u001b[32m开头，虽然增加了节奏感，但也\u001b[0m\u001b[32m显得创意不足，模式化。\n",
      "3\u001b[0m\u001b[32m. **意象缺乏变化**：\u001b[0m\u001b[32m全诗仅描绘了蜜蜂与花\u001b[0m\u001b[32m丛的场景，没有展开更多自然\u001b[0m\u001b[32m环境或蜜蜂生活的其他方面，导致\u001b[0m\u001b[32m画面感较单一。\n",
      "\n",
      "**一句话总结\u001b[0m\u001b[32m**：这首诗简洁明快地\u001b[0m\u001b[32m捕捉了小蜜蜂勤劳采蜜的\u001b[0m\u001b[32m生动场景，但因内容、句\u001b[0m\u001b[32m式及意象上的单一，略\u001b[0m\u001b[32m显缺乏丰富性和深度。\u001b[0m\u001b[32m\u001b[0m\n",
      "\n"
     ]
    },
    {
     "data": {
      "text/plain": [
       "'1. **内容单一**：诗歌内容围绕蜜蜂采蜜的自然行为，较为简单，缺乏深层次探索或情感波动。\\n2. **句式重复**：每句以相似的音效词“嗡嗡嗡”开头，虽然增加了节奏感，但也显得创意不足，模式化。\\n3. **意象缺乏变化**：全诗仅描绘了蜜蜂与花丛的场景，没有展开更多自然环境或蜜蜂生活的其他方面，导致画面感较单一。\\n\\n**一句话总结**：这首诗简洁明快地捕捉了小蜜蜂勤劳采蜜的生动场景，但因内容、句式及意象上的单一，略显缺乏丰富性和深度。'"
      ]
     },
     "execution_count": 7,
     "metadata": {},
     "output_type": "execute_result"
    }
   ],
   "source": [
    "pipe = Pipe(\n",
    "    Template(\"IDEA\"),\n",
    "    ChatQwen(),\n",
    "    ChatQwen(prompt=\"请帮我对作品进行评价，找出三个缺点，一句话总结。\")\n",
    ")\n",
    "\n",
    "log(pipe, {\"task\": \"请你帮我写一首4行儿歌\"})"
   ]
  },
  {
   "cell_type": "code",
   "execution_count": 8,
   "id": "d041cfd5-1ff6-4a85-9bf2-c46188f05956",
   "metadata": {},
   "outputs": [
    {
     "data": {
      "text/plain": [
       "[{'role': 'user', 'content': '节点 <0> 正在处理任务...'},\n",
       " {'role': 'assistant', 'content': '请开始'},\n",
       " {'role': 'user', 'content': '节点 <1> 正在处理任务...'},\n",
       " {'role': 'assistant', 'content': '小蜜蜂，嗡嗡嗡  \\n飞到花丛中  \\n采花蜜，忙不停  \\n甜甜蜜带回家'},\n",
       " {'role': 'user', 'content': '节点 <2> 正在处理任务...'},\n",
       " {'role': 'assistant',\n",
       "  'content': '1. **内容单一**：诗歌内容围绕蜜蜂采蜜的自然行为，较为简单，缺乏深层次探索或情感波动。\\n2. **句式重复**：每句以相似的音效词“嗡嗡嗡”开头，虽然增加了节奏感，但也显得创意不足，模式化。\\n3. **意象缺乏变化**：全诗仅描绘了蜜蜂与花丛的场景，没有展开更多自然环境或蜜蜂生活的其他方面，导致画面感较单一。\\n\\n**一句话总结**：这首诗简洁明快地捕捉了小蜜蜂勤劳采蜜的生动场景，但因内容、句式及意象上的单一，略显缺乏丰富性和深度。'}]"
      ]
     },
     "execution_count": 8,
     "metadata": {},
     "output_type": "execute_result"
    }
   ],
   "source": [
    "pipe.memory"
   ]
  },
  {
   "cell_type": "code",
   "execution_count": 10,
   "id": "ef8290af-24b4-4350-a945-0f3d780889ba",
   "metadata": {},
   "outputs": [
    {
     "data": {
      "text/plain": [
       "[{'role': 'system',\n",
       "  'content': '你是强大的写作助手。\\n\\n你必须遵循以下约束来完成任务:\\n1. 直接输出你的结果，不要评论，不要啰嗦\\n2. 使用markdown格式输出\\n\\n**你的任务是:**\\n请你帮我写一首4行儿歌\\n'},\n",
       " {'role': 'user', 'content': '请开始'}]"
      ]
     },
     "execution_count": 10,
     "metadata": {},
     "output_type": "execute_result"
    }
   ],
   "source": [
    "pipe.runnables[0].memory"
   ]
  },
  {
   "cell_type": "code",
   "execution_count": 11,
   "id": "49cb463f-987c-4c43-a2d6-725d6bd3533a",
   "metadata": {},
   "outputs": [
    {
     "data": {
      "text/plain": [
       "[{'role': 'system',\n",
       "  'content': '你是强大的写作助手。\\n\\n你必须遵循以下约束来完成任务:\\n1. 直接输出你的结果，不要评论，不要啰嗦\\n2. 使用markdown格式输出\\n\\n**你的任务是:**\\n请你帮我写一首4行儿歌\\n'},\n",
       " {'role': 'user', 'content': '请开始'},\n",
       " {'role': 'assistant', 'content': '小蜜蜂，嗡嗡嗡  \\n飞到花丛中  \\n采花蜜，忙不停  \\n甜甜蜜带回家'}]"
      ]
     },
     "execution_count": 11,
     "metadata": {},
     "output_type": "execute_result"
    }
   ],
   "source": [
    "pipe.runnables[1].memory"
   ]
  },
  {
   "cell_type": "code",
   "execution_count": 12,
   "id": "f2af0c21-b195-498c-b679-2e8968053cf4",
   "metadata": {},
   "outputs": [
    {
     "name": "stdout",
     "output_type": "stream",
     "text": [
      "\u001b[32m1\u001b[0m\u001b[32m.\u001b[0m\u001b[32m **\u001b[0m\u001b[32m寓教于乐**\u001b[0m\u001b[32m：这首儿歌通过小蜜蜂采\u001b[0m\u001b[32m蜜的场景，不仅让孩子们感受到\u001b[0m\u001b[32m自然界的美妙，还能教育他们勤劳\u001b[0m\u001b[32m与付出的价值。\n",
      "2. **朗\u001b[0m\u001b[32m朗上口**：使用了重复\u001b[0m\u001b[32m的音节如“嗡嗡嗡\u001b[0m\u001b[32m”，以及简单易懂的词汇，\u001b[0m\u001b[32m使得儿歌节奏感强，便于\u001b[0m\u001b[32m儿童记忆和吟唱。\n",
      "3.\u001b[0m\u001b[32m **启发想象**：通过描述小\u001b[0m\u001b[32m蜜蜂的活动，激发孩子们对大自然\u001b[0m\u001b[32m的好奇心和探索欲，鼓励\u001b[0m\u001b[32m他们想象自己置身于多彩的花\u001b[0m\u001b[32m丛之中。\u001b[0m\u001b[32m\u001b[0m\n",
      "\n"
     ]
    },
    {
     "data": {
      "text/plain": [
       "'1. **寓教于乐**：这首儿歌通过小蜜蜂采蜜的场景，不仅让孩子们感受到自然界的美妙，还能教育他们勤劳与付出的价值。\\n2. **朗朗上口**：使用了重复的音节如“嗡嗡嗡”，以及简单易懂的词汇，使得儿歌节奏感强，便于儿童记忆和吟唱。\\n3. **启发想象**：通过描述小蜜蜂的活动，激发孩子们对大自然的好奇心和探索欲，鼓励他们想象自己置身于多彩的花丛之中。'"
      ]
     },
     "execution_count": 12,
     "metadata": {},
     "output_type": "execute_result"
    }
   ],
   "source": [
    "log(pipe.runnables[1], \"找出三个优点吧\")"
   ]
  },
  {
   "cell_type": "code",
   "execution_count": null,
   "id": "3983864f-40b4-4f85-a24d-4f9f85bd3663",
   "metadata": {},
   "outputs": [],
   "source": [
    "Team([idea, outline, from_outline])"
   ]
  },
  {
   "cell_type": "markdown",
   "id": "895b51cc-3af1-45c6-ba5c-ca9576ec4080",
   "metadata": {},
   "source": [
    "## 智能体团队：从提纲扩写"
   ]
  },
  {
   "cell_type": "markdown",
   "id": "f1c8cff4-29a2-4315-ba50-ab9789243f51",
   "metadata": {},
   "source": [
    "### 构建提纲"
   ]
  },
  {
   "cell_type": "code",
   "execution_count": 1,
   "id": "6d320be2-f7e4-4544-81e2-bbb9043dd83f",
   "metadata": {},
   "outputs": [],
   "source": [
    "from textlong.agent import ChatQwen, Pipe, FromOutline, Template\n",
    "from textlong.io import log, alog\n",
    "\n",
    "outline = Pipe(\n",
    "    Template(\"OUTLINE\"),\n",
    "    ChatQwen()\n",
    ")"
   ]
  },
  {
   "cell_type": "code",
   "execution_count": 3,
   "id": "a3caa546-fdb3-45ed-b689-3b8802d431d4",
   "metadata": {},
   "outputs": [
    {
     "name": "stdout",
     "output_type": "stream",
     "text": [
      "[INFO] \u001b[34m>>> Node 1: Template\u001b[0m\n",
      "[INFO] \u001b[34m你是强大的写作助手。\n",
      "\n",
      "你必须遵循以下约束来完成任务:\n",
      "1. 直接输出你的结果，不要评论，不要啰嗦\n",
      "2. 使用markdown格式输出\n",
      "3. 请按照需要输出一份写作提纲\n",
      "4. 提纲的构成应当由多个阔系额要求构成\n",
      "5. 扩写要求必须包含清晰描述，如预估字数、创意要点、创作思路、创作中涉及到的实体名称等\n",
      "5. 每一个扩写要求由完整的 `<OUTLINE>`和`</OUTLINE>` 包裹\n",
      "6. 你只能输出提纲，不要输出具体的扩写内容\n",
      "\n",
      "**你的任务是:**\n",
      "写一首两段儿歌，每段20个字即可，策划简单一点\n",
      "\n",
      "\n",
      "**输出例子1**\n",
      "```\n",
      "# 第一章 标题1\n",
      "## 一、XXXX\n",
      "<OUTLINE>\n",
      "扩写摘要:\n",
      "对扩写内容做摘要总结\n",
      "\n",
      "扩写要求：\n",
      "- xxx\n",
      "- xxx\n",
      "</OUTLINE>\n",
      "\n",
      "## 二、XXXX\n",
      "<OUTLINE>\n",
      "</OUTLINE>\n",
      "\n",
      "## （更多扩写提纲）\n",
      "```\n",
      "\n",
      "\u001b[0m\n",
      "[INFO] \u001b[34m>>> Node 2: ChatQwen\u001b[0m\n",
      "\u001b[32m#\u001b[0m\u001b[32m \u001b[0m\u001b[32m儿歌：小星星\u001b[0m\u001b[32m的夜游\n",
      "## 第一段：\u001b[0m\u001b[32m星空奇妙夜\n",
      "<OUTLINE>\n",
      "\u001b[0m\u001b[32m- 描述小星星在夜空\u001b[0m\u001b[32m中的旅行\n",
      "- 引入月亮\u001b[0m\u001b[32m作为伙伴，增添温馨氛围\n",
      "-\u001b[0m\u001b[32m 预估字数：2\u001b[0m\u001b[32m0字\n",
      "- 创意要点\u001b[0m\u001b[32m：使用拟人化手法，让\u001b[0m\u001b[32m星星和月亮具有孩童般的活泼与\u001b[0m\u001b[32m好奇\n",
      "- 创作思路：\u001b[0m\u001b[32m通过小星星对周围星座的好奇\u001b[0m\u001b[32m探索，展现夜空的神秘与\u001b[0m\u001b[32m美丽\n",
      "- 实体名称：小\u001b[0m\u001b[32m星星、月亮、夜空、星座\u001b[0m\u001b[32m\n",
      "</OUTLINE>\n",
      "\n",
      "## 第二\u001b[0m\u001b[32m段：梦乡的守护者\n",
      "\u001b[0m\u001b[32m<OUTLINE>\n",
      "- 转\u001b[0m\u001b[32m换到地面上，描绘小朋友们\u001b[0m\u001b[32m在星光下安睡的场景\n",
      "\u001b[0m\u001b[32m- 表达小星星和月亮\u001b[0m\u001b[32m默默守护梦境的意象\n",
      "-\u001b[0m\u001b[32m 预估字数：2\u001b[0m\u001b[32m0字\n",
      "- 创意要点\u001b[0m\u001b[32m：传达安宁与保护的情感，让\u001b[0m\u001b[32m孩子们感受到夜晚的美好与安全\n",
      "-\u001b[0m\u001b[32m 创作思路：通过小星星\u001b[0m\u001b[32m轻轻哼唱摇篮曲，月亮\u001b[0m\u001b[32m洒下柔和银光，营造出\u001b[0m\u001b[32m温馨的睡前环境\n",
      "- 实体\u001b[0m\u001b[32m名称：小星星、月亮、小朋友\u001b[0m\u001b[32m、梦境、摇篮曲\n",
      "</\u001b[0m\u001b[32mOUTLINE>\u001b[0m\u001b[32m\u001b[0m\n",
      "\n"
     ]
    },
    {
     "data": {
      "text/plain": [
       "'# 儿歌：小星星的夜游\\n## 第一段：星空奇妙夜\\n<OUTLINE>\\n- 描述小星星在夜空中的旅行\\n- 引入月亮作为伙伴，增添温馨氛围\\n- 预估字数：20字\\n- 创意要点：使用拟人化手法，让星星和月亮具有孩童般的活泼与好奇\\n- 创作思路：通过小星星对周围星座的好奇探索，展现夜空的神秘与美丽\\n- 实体名称：小星星、月亮、夜空、星座\\n</OUTLINE>\\n\\n## 第二段：梦乡的守护者\\n<OUTLINE>\\n- 转换到地面上，描绘小朋友们在星光下安睡的场景\\n- 表达小星星和月亮默默守护梦境的意象\\n- 预估字数：20字\\n- 创意要点：传达安宁与保护的情感，让孩子们感受到夜晚的美好与安全\\n- 创作思路：通过小星星轻轻哼唱摇篮曲，月亮洒下柔和银光，营造出温馨的睡前环境\\n- 实体名称：小星星、月亮、小朋友、梦境、摇篮曲\\n</OUTLINE>'"
      ]
     },
     "execution_count": 3,
     "metadata": {},
     "output_type": "execute_result"
    }
   ],
   "source": [
    "log(outline, {\"task\": \"写一首两段儿歌，每段20个字即可，策划简单一点\"})"
   ]
  },
  {
   "cell_type": "markdown",
   "id": "4526554f-056e-4a82-aef2-9afcc93d24ac",
   "metadata": {},
   "source": [
    "### 提纲 + 扩写"
   ]
  },
  {
   "cell_type": "code",
   "execution_count": 1,
   "id": "c92629cb-c1df-4d17-ad96-f16c42ace458",
   "metadata": {},
   "outputs": [
    {
     "name": "stdout",
     "output_type": "stream",
     "text": [
      "[AGENT_NODE] \u001b[34m>>> Node 1: Template\u001b[0m\n",
      "[AGENT_NODE] \u001b[34m>>> Node 2: ChatQwen\u001b[0m\n",
      "\u001b[32m#\u001b[0m\u001b[32m \u001b[0m\u001b[32m儿歌：小雨\u001b[0m\u001b[32m滴的旅行\n",
      "## 第一段：\u001b[0m\u001b[32m小雨滴的诞生\n",
      "<OUT\u001b[0m\u001b[32mLINE>\n",
      "扩写要求：\n",
      "- \u001b[0m\u001b[32m描述小雨滴在云朵中的\u001b[0m\u001b[32m形成，使用拟人化手法，\u001b[0m\u001b[32m赋予小雨滴快乐的情绪。\n",
      "-\u001b[0m\u001b[32m 预估字数：2\u001b[0m\u001b[32m0字\n",
      "- 创意要点\u001b[0m\u001b[32m：云朵摇篮、嬉戏\u001b[0m\u001b[32m、决定冒险。\n",
      "- 实体名称\u001b[0m\u001b[32m：小雨滴、云朵\n",
      "\u001b[0m\u001b[32m</OUTLINE>\n",
      "\n",
      "## 第二段\u001b[0m\u001b[32m：小雨滴的冒险\n",
      "\u001b[0m\u001b[32m<OUTLINE>\n",
      "扩写要求：\n",
      "-\u001b[0m\u001b[32m 叙述小雨滴降落的过程\u001b[0m\u001b[32m，遇见的景物，如树木\u001b[0m\u001b[32m、花朵，表达与自然界的互动\u001b[0m\u001b[32m。\n",
      "- 预估字数\u001b[0m\u001b[32m：20字\n",
      "- 创\u001b[0m\u001b[32m意要点：滑翔、亲吻\u001b[0m\u001b[32m花朵、树叶鼓掌。\n",
      "- 实\u001b[0m\u001b[32m体名称：小雨滴、树木\u001b[0m\u001b[32m、花朵、树叶\n",
      "</OUTLINE\u001b[0m\u001b[32m>\u001b[0m\u001b[32m\u001b[0m\n",
      "\n",
      "[AGENT_NODE] \u001b[34m>>> Node 3: FromOutline\u001b[0m\n",
      "[AGENT_NODE] \u001b[34m执行扩写任务 <9189-390-002>：\n",
      "扩写要求：\n",
      "- 描述小雨滴在云朵中的形成，使用拟人化手法，赋予小雨滴快乐的情绪。\n",
      "- 预估字数：20字\n",
      "- 创意要点：云朵摇篮、嬉戏、决定冒险。\n",
      "- 实体名称：小雨滴、云朵\u001b[0m\n",
      "[AGENT_NODE] \u001b[34m>>> Node 1: Template\u001b[0m\n",
      "[AGENT_NODE] \u001b[34m>>> Node 2: ChatQwen\u001b[0m\n",
      "\u001b[32m在\u001b[0m\u001b[32m柔软\u001b[0m\u001b[32m的\u001b[0m\u001b[32m云朵摇篮里\u001b[0m\u001b[32m，小雨滴们嬉戏笑\u001b[0m\u001b[32m闹，终于鼓起勇气，决定\u001b[0m\u001b[32m踏上奇妙的冒险之旅。\u001b[0m\u001b[32m\u001b[0m\n",
      "\n",
      "[AGENT_NODE] \u001b[34m执行扩写任务 <9189-152-005>：\n",
      "扩写要求：\n",
      "- 叙述小雨滴降落的过程，遇见的景物，如树木、花朵，表达与自然界的互动。\n",
      "- 预估字数：20字\n",
      "- 创意要点：滑翔、亲吻花朵、树叶鼓掌。\n",
      "- 实体名称：小雨滴、树木、花朵、树叶\u001b[0m\n",
      "[AGENT_NODE] \u001b[34m>>> Node 1: Template\u001b[0m\n",
      "[AGENT_NODE] \u001b[34m>>> Node 2: ChatQwen\u001b[0m\n",
      "\u001b[32m小\u001b[0m\u001b[32m雨\u001b[0m\u001b[32m滴\u001b[0m\u001b[32m轻盈滑翔落\u001b[0m\u001b[32m，亲吻害羞花朵朵。树叶\u001b[0m\u001b[32m轻轻鼓掌迎，欢笑加入\u001b[0m\u001b[32m自然舞。\u001b[0m\u001b[32m\u001b[0m\n",
      "\n"
     ]
    },
    {
     "data": {
      "text/plain": [
       "'小雨滴轻盈滑翔落，亲吻害羞花朵朵。树叶轻轻鼓掌迎，欢笑加入自然舞。'"
      ]
     },
     "execution_count": 1,
     "metadata": {},
     "output_type": "execute_result"
    }
   ],
   "source": [
    "from textlong.agent import ChatQwen, Pipe, FromOutline, Template\n",
    "from textlong.io import log, alog\n",
    "\n",
    "writer = Pipe(\n",
    "    Template(\"OUTLINE\"),\n",
    "    ChatQwen(),\n",
    "    FromOutline(ChatQwen())\n",
    ")\n",
    "\n",
    "log(writer, {\"task\": \"写一首两段儿歌，每段20个字即可，策划简单一点\"})"
   ]
  },
  {
   "cell_type": "code",
   "execution_count": 2,
   "id": "0bcff25d-bb2f-4052-8652-4b61e06d95e6",
   "metadata": {},
   "outputs": [
    {
     "data": {
      "text/plain": [
       "'# 儿歌：小雨滴答\\n## 第一段\\n<OUTLINE>\\n- 描述雨天的场景，营造清新氛围\\n- 引入小雨滴作为主角，展现其活泼形象\\n- 预估字数：20字\\n</OUTLINE>\\n\\n## 第二段\\n<OUTLINE>\\n- 展示小雨滴与大自然的互动，如落在树叶、汇成小溪\\n- 表达快乐和生机勃勃的情感，适合儿童理解与传唱\\n- 预估字数：20字\\n</OUTLINE>'"
      ]
     },
     "execution_count": 2,
     "metadata": {},
     "output_type": "execute_result"
    }
   ],
   "source": [
    "writer.runnables[1].output"
   ]
  },
  {
   "cell_type": "code",
   "execution_count": 3,
   "id": "5f1417b1-076b-4757-b880-410da7fbf4e1",
   "metadata": {},
   "outputs": [
    {
     "name": "stdout",
     "output_type": "stream",
     "text": [
      "# 儿歌：小雨滴答\n",
      "\n",
      "## 第一段\n",
      "\n",
      "滴答滴答落下来，小雨点在玩耍。\n",
      "\n",
      "\n",
      "## 第二段\n",
      "\n",
      "小雨滴滴落树叶间，欢笑聚成涓涓流，轻盈跳入小溪中，唱着歌儿去远游。\n",
      "\n",
      "\n"
     ]
    }
   ],
   "source": [
    "print(writer.output)"
   ]
  },
  {
   "cell_type": "code",
   "execution_count": 4,
   "id": "27131fe0-d114-4da1-a43e-ceb751d25cbe",
   "metadata": {},
   "outputs": [
    {
     "data": {
      "text/plain": [
       "(<textlong.agent.template.Template at 0x10c638c40>,\n",
       " <textlong.agent.llm.dashscope.ChatQwen at 0x11ce946d0>,\n",
       " <textlong.agent.team.from_outline.FromOutline at 0x11e1f29e0>)"
      ]
     },
     "execution_count": 4,
     "metadata": {},
     "output_type": "execute_result"
    }
   ],
   "source": [
    "writer.runnables"
   ]
  },
  {
   "cell_type": "code",
   "execution_count": null,
   "id": "0febcdbc-590a-41c6-a4c9-6844a98ccff3",
   "metadata": {},
   "outputs": [],
   "source": []
  }
 ],
 "metadata": {
  "kernelspec": {
   "display_name": "textlong-same-ipykernel",
   "language": "python",
   "name": "textlong-same-ipykernel"
  },
  "language_info": {
   "codemirror_mode": {
    "name": "ipython",
    "version": 3
   },
   "file_extension": ".py",
   "mimetype": "text/x-python",
   "name": "python",
   "nbconvert_exporter": "python",
   "pygments_lexer": "ipython3",
   "version": "3.10.0"
  }
 },
 "nbformat": 4,
 "nbformat_minor": 5
}
