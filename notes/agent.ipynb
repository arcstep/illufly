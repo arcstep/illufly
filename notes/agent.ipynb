{
 "cells": [
  {
   "cell_type": "markdown",
   "id": "40a245d6-e7ea-4be6-9f57-d9677554ccfa",
   "metadata": {},
   "source": [
    "# 智能体框架"
   ]
  },
  {
   "cell_type": "markdown",
   "id": "7533300d-21cd-4d94-a8ef-650cea271667",
   "metadata": {},
   "source": [
    "## 基本功能"
   ]
  },
  {
   "cell_type": "markdown",
   "id": "1945c309-e566-484a-9ad5-8f43c33f429f",
   "metadata": {},
   "source": [
    "### log + call"
   ]
  },
  {
   "cell_type": "code",
   "execution_count": 1,
   "id": "2c0c097f-6a30-47fb-bbb9-5658e38ec6f8",
   "metadata": {},
   "outputs": [
    {
     "name": "stdout",
     "output_type": "stream",
     "text": [
      "\u001b[32m这\u001b[0m\u001b[32m是\u001b[0m\u001b[32m一个\u001b[0m\u001b[32m模拟\u001b[0m\u001b[32m调用\u001b[0m\u001b[32m!\u001b[0m\n",
      "\n"
     ]
    },
    {
     "data": {
      "text/plain": [
       "'这是一个模拟调用!'"
      ]
     },
     "execution_count": 1,
     "metadata": {},
     "output_type": "execute_result"
    }
   ],
   "source": [
    "from illufly.agent import FakeLLM\n",
    "from illufly.io import log\n",
    "\n",
    "log(FakeLLM(), \"hi\")"
   ]
  },
  {
   "cell_type": "markdown",
   "id": "6b178ac3-ee24-484d-9f3e-2ae8a5153468",
   "metadata": {},
   "source": [
    "### alog + async_call"
   ]
  },
  {
   "cell_type": "code",
   "execution_count": 2,
   "id": "ff781830-aff0-45fb-a755-978a1e80d1f1",
   "metadata": {},
   "outputs": [
    {
     "name": "stdout",
     "output_type": "stream",
     "text": [
      "\u001b[32m这\u001b[0m\u001b[32m是\u001b[0m\u001b[32m一个\u001b[0m\u001b[32m模拟\u001b[0m\u001b[32m调用\u001b[0m\u001b[32m!\u001b[0m\n",
      "\n"
     ]
    },
    {
     "data": {
      "text/plain": [
       "'这是一个模拟调用!'"
      ]
     },
     "execution_count": 2,
     "metadata": {},
     "output_type": "execute_result"
    }
   ],
   "source": [
    "from illufly.agent import FakeLLM\n",
    "from illufly.io import alog\n",
    "\n",
    "await alog(FakeLLM(), \"hi\", sleep=1)"
   ]
  },
  {
   "cell_type": "markdown",
   "id": "3d40ef16-4288-4614-a9a5-78a7bac9ad2a",
   "metadata": {},
   "source": [
    "### 线程池"
   ]
  },
  {
   "cell_type": "code",
   "execution_count": 3,
   "id": "f544bf67-86e4-439c-87f5-1c30b18578a6",
   "metadata": {},
   "outputs": [
    {
     "data": {
      "text/plain": [
       "{'FAKE_LLM': {'max_workers': 5, 'used_workers': 1, 'waiting_threads': 0}}"
      ]
     },
     "execution_count": 3,
     "metadata": {},
     "output_type": "execute_result"
    }
   ],
   "source": [
    "FakeLLM.monitor_executors()"
   ]
  },
  {
   "cell_type": "markdown",
   "id": "1e8b4e98-6f08-45f1-a326-b24686c299ff",
   "metadata": {},
   "source": [
    "## 智能体：直调大模型"
   ]
  },
  {
   "cell_type": "markdown",
   "id": "12b0bb63-5efe-4e79-a8c6-12ad0eb39d35",
   "metadata": {},
   "source": [
    "### 对话"
   ]
  },
  {
   "cell_type": "code",
   "execution_count": 4,
   "id": "cd7e0d2d-fb9d-4992-9045-3dc602fd346e",
   "metadata": {},
   "outputs": [
    {
     "name": "stdout",
     "output_type": "stream",
     "text": [
      "\u001b[32m小白\u001b[0m\u001b[32m兔\u001b[0m\u001b[32m，\u001b[0m\u001b[32m梦中跳，  \n",
      "\u001b[0m\u001b[32m胡萝卜，满天飘。  \n",
      "月亮\u001b[0m\u001b[32m船，带它逛，  \n",
      "醒来\u001b[0m\u001b[32m笑，梦真妙。\u001b[0m\u001b[32m\u001b[0m\n",
      "\n"
     ]
    },
    {
     "data": {
      "text/plain": [
       "'小白兔，梦中跳，  \\n胡萝卜，满天飘。  \\n月亮船，带它逛，  \\n醒来笑，梦真妙。'"
      ]
     },
     "execution_count": 4,
     "metadata": {},
     "output_type": "execute_result"
    }
   ],
   "source": [
    "from illufly.agent import ChatQwen\n",
    "from illufly.io import log\n",
    "\n",
    "qwen = ChatQwen()\n",
    "log(qwen, \"你能帮我写一首关于兔子做梦的四句儿歌?\")"
   ]
  },
  {
   "cell_type": "code",
   "execution_count": 5,
   "id": "1f5eb165-0536-41ee-9c23-f9da8b9d1f55",
   "metadata": {},
   "outputs": [
    {
     "data": {
      "text/plain": [
       "[{'role': 'user', 'content': '你能帮我写一首关于兔子做梦的四句儿歌?'},\n",
       " {'role': 'assistant',\n",
       "  'content': '小白兔，梦中跳，  \\n胡萝卜，满天飘。  \\n月亮船，带它逛，  \\n醒来笑，梦真妙。'}]"
      ]
     },
     "execution_count": 5,
     "metadata": {},
     "output_type": "execute_result"
    }
   ],
   "source": [
    "qwen.memory"
   ]
  },
  {
   "cell_type": "markdown",
   "id": "7dc286da-5819-419b-b523-8ec3391ae7b6",
   "metadata": {},
   "source": [
    "### 使用系统提示语"
   ]
  },
  {
   "cell_type": "code",
   "execution_count": 6,
   "id": "8c70c16a-77a4-44f5-865a-b4dea7858496",
   "metadata": {},
   "outputs": [
    {
     "name": "stdout",
     "output_type": "stream",
     "text": [
      "\u001b[32m小白\u001b[0m\u001b[32m兔\u001b[0m\u001b[32m，\u001b[0m\u001b[32m蹦蹦跳，  \n",
      "\u001b[0m\u001b[32m耳朵长，尾巴小。  \n",
      "爱吃\u001b[0m\u001b[32m萝卜和青菜，  \n",
      "快乐生活在\u001b[0m\u001b[32m林梢。\u001b[0m\u001b[32m\u001b[0m\n",
      "\n"
     ]
    },
    {
     "data": {
      "text/plain": [
       "'小白兔，蹦蹦跳，  \\n耳朵长，尾巴小。  \\n爱吃萝卜和青菜，  \\n快乐生活在林梢。'"
      ]
     },
     "execution_count": 6,
     "metadata": {},
     "output_type": "execute_result"
    }
   ],
   "source": [
    "from illufly.agent import ChatQwen\n",
    "from illufly.io import log\n",
    "\n",
    "qwen = ChatQwen(prompt=\"你是一个专门写儿歌的作家，请根据我的提示写作。\")\n",
    "log(qwen, \"来一首关于兔子的，四句\")"
   ]
  },
  {
   "cell_type": "code",
   "execution_count": 7,
   "id": "b0aad76e-9aba-4182-8b84-501544067b85",
   "metadata": {},
   "outputs": [
    {
     "data": {
      "text/plain": [
       "[{'role': 'system', 'content': '你是一个专门写儿歌的作家，请根据我的提示写作。'},\n",
       " {'role': 'user', 'content': '来一首关于兔子的，四句'},\n",
       " {'role': 'assistant',\n",
       "  'content': '小白兔，蹦蹦跳，  \\n耳朵长，尾巴小。  \\n爱吃萝卜和青菜，  \\n快乐生活在林梢。'}]"
      ]
     },
     "execution_count": 7,
     "metadata": {},
     "output_type": "execute_result"
    }
   ],
   "source": [
    "qwen.memory"
   ]
  },
  {
   "cell_type": "code",
   "execution_count": 8,
   "id": "443c458e-10a3-4baa-842b-ec1949023aeb",
   "metadata": {},
   "outputs": [
    {
     "name": "stdout",
     "output_type": "stream",
     "text": [
      "\u001b[32m两条\u001b[0m\u001b[32m小\u001b[0m\u001b[32m鱼\u001b[0m\u001b[32m，游啊游，\u001b[0m\u001b[32m  \n",
      "水中穿梭，乐悠悠。  \n",
      "\u001b[0m\u001b[32m摇摇尾巴，吐泡泡，  \n",
      "\u001b[0m\u001b[32m大海深处是故乡。\u001b[0m\u001b[32m\u001b[0m\n",
      "\n"
     ]
    },
    {
     "data": {
      "text/plain": [
       "'两条小鱼，游啊游，  \\n水中穿梭，乐悠悠。  \\n摇摇尾巴，吐泡泡，  \\n大海深处是故乡。'"
      ]
     },
     "execution_count": 8,
     "metadata": {},
     "output_type": "execute_result"
    }
   ],
   "source": [
    "log(qwen, \"换成两条小鱼\")"
   ]
  },
  {
   "cell_type": "code",
   "execution_count": 9,
   "id": "93ae3026-3ab3-4a39-8a3f-8a973ee57813",
   "metadata": {},
   "outputs": [
    {
     "data": {
      "text/plain": [
       "[{'role': 'system', 'content': '你是一个专门写儿歌的作家，请根据我的提示写作。'},\n",
       " {'role': 'user', 'content': '来一首关于兔子的，四句'},\n",
       " {'role': 'assistant',\n",
       "  'content': '小白兔，蹦蹦跳，  \\n耳朵长，尾巴小。  \\n爱吃萝卜和青菜，  \\n快乐生活在林梢。'},\n",
       " {'role': 'user', 'content': '换成两条小鱼'},\n",
       " {'role': 'assistant',\n",
       "  'content': '两条小鱼，游啊游，  \\n水中穿梭，乐悠悠。  \\n摇摇尾巴，吐泡泡，  \\n大海深处是故乡。'}]"
      ]
     },
     "execution_count": 9,
     "metadata": {},
     "output_type": "execute_result"
    }
   ],
   "source": [
    "qwen.memory"
   ]
  },
  {
   "cell_type": "markdown",
   "id": "99ded9b9-aba5-46cb-8963-48714ea2256c",
   "metadata": {},
   "source": [
    "## 智能体：使用工具"
   ]
  },
  {
   "cell_type": "markdown",
   "id": "bb1378d8-1391-4ecb-865f-7b73b5cad2ca",
   "metadata": {},
   "source": [
    "### 返回工具提示"
   ]
  },
  {
   "cell_type": "code",
   "execution_count": 10,
   "id": "759883fd-1bb3-45b4-9034-f4da9331151f",
   "metadata": {},
   "outputs": [],
   "source": [
    "from illufly.tools import tool, convert_to_openai_tool\n",
    "from illufly.agent import ChatQwen\n",
    "from illufly.io import log\n",
    "import json\n",
    "\n",
    "@tool\n",
    "def get_current_weather(location: str=None):\n",
    "    \"\"\"获取城市的天气情况\"\"\"\n",
    "    return f\"{location}今天是晴天。 \""
   ]
  },
  {
   "cell_type": "code",
   "execution_count": 11,
   "id": "931704ba-5ddc-4cdb-80bb-a6a7377edea0",
   "metadata": {},
   "outputs": [
    {
     "data": {
      "text/plain": [
       "'{\"0\": {\"index\": 0, \"id\": \"call_6d87845fd30b41208b9c83\", \"type\": \"function\", \"function\": {\"name\": \"get_current_weather\", \"arguments\": \"{\\\\\"location\\\\\": \\\\\"广州\\\\\"}\"}}}'"
      ]
     },
     "execution_count": 11,
     "metadata": {},
     "output_type": "execute_result"
    }
   ],
   "source": [
    "log(ChatQwen(), \"今天广州天气如何啊\", tools=[convert_to_openai_tool(get_current_weather)])\n",
    "# log(ChatQwen(), \"今天广州天气如何啊\", tools=[convert_to_openai_tool(get_current_weather)], toolkits=[get_current_weather])"
   ]
  },
  {
   "cell_type": "markdown",
   "id": "ce8452c8-3e1d-4b04-8441-2d5297c50058",
   "metadata": {},
   "source": [
    "### 执行工具回调"
   ]
  },
  {
   "cell_type": "code",
   "execution_count": 12,
   "id": "02912afa-e971-4bc6-9e4d-ddb0d4515d81",
   "metadata": {},
   "outputs": [
    {
     "name": "stdout",
     "output_type": "stream",
     "text": [
      "\u001b[32m广\u001b[0m\u001b[32m州\u001b[0m\u001b[32m今\u001b[0m\u001b[32m天\u001b[0m\u001b[32m是\u001b[0m\u001b[32m晴\u001b[0m\u001b[32m天\u001b[0m\u001b[32m。\u001b[0m\u001b[32m \u001b[0m\n",
      "\n",
      "\u001b[32m今天\u001b[0m\u001b[32m广州是晴天，\u001b[0m\u001b[32m非常适合晒被子。可以放心地\u001b[0m\u001b[32m把被子拿出来晾晒。\u001b[0m\u001b[32m\u001b[0m\n",
      "\n"
     ]
    },
    {
     "data": {
      "text/plain": [
       "'{\"0\": {\"index\": 0, \"id\": \"call_99a3fa145c734c9891902a\", \"type\": \"function\", \"function\": {\"name\": \"get_current_weather\", \"arguments\": \"{\\\\\"location\\\\\": \\\\\"广州\\\\\"}\"}}}今天广州是晴天，非常适合晒被子。可以放心地把被子拿出来晾晒。'"
      ]
     },
     "execution_count": 12,
     "metadata": {},
     "output_type": "execute_result"
    }
   ],
   "source": [
    "qwen = ChatQwen(\n",
    "    tools=[convert_to_openai_tool(get_current_weather)],\n",
    "    toolkits=[get_current_weather]\n",
    ")\n",
    "\n",
    "log(qwen, \"今天广州可以晒被子吗？\")"
   ]
  },
  {
   "cell_type": "markdown",
   "id": "37c06357-4805-4f43-a9b8-948783f1e361",
   "metadata": {},
   "source": [
    "## 智能体团队：执行管道"
   ]
  },
  {
   "cell_type": "markdown",
   "id": "4b10e728-0e07-4d7a-a908-07de1d59f116",
   "metadata": {},
   "source": [
    "### 从聊天开始的管道 [Chat, Chat, Chat]"
   ]
  },
  {
   "cell_type": "code",
   "execution_count": 4,
   "id": "aeca6e81-4691-4498-b8bb-fbe17e1f4a0d",
   "metadata": {},
   "outputs": [
    {
     "name": "stdout",
     "output_type": "stream",
     "text": [
      "[AGENT] \u001b[34m>>> Node 1: 我是一个儿童作家，擅长写儿歌。\u001b[0m\n",
      "\u001b[32m小白\u001b[0m\u001b[32m兔\u001b[0m\u001b[32m，\u001b[0m\u001b[32m梦中跳，月亮\u001b[0m\u001b[32m船上摇啊摇。\n",
      "胡萝卜，变成\u001b[0m\u001b[32m桥，梦里世界真奇妙。\u001b[0m\u001b[32m\u001b[0m\n",
      "\n",
      "[AGENT] \u001b[34m>>> Node 2: 请你帮我评价文章特色，两句话即可\u001b[0m\n",
      "\u001b[32m这首\u001b[0m\u001b[32m短\u001b[0m\u001b[32m文\u001b[0m\u001b[32m充满了童趣和想象力\u001b[0m\u001b[32m，通过\"小白兔在月亮船上\u001b[0m\u001b[32m摇晃\"和\"胡萝卜变成桥\u001b[0m\u001b[32m\"的奇幻意象，展现了梦境\u001b[0m\u001b[32m的奇妙与无尽创意，语言\u001b[0m\u001b[32m简洁，富有诗意，非常适合儿童阅读\u001b[0m\u001b[32m，激发他们的想象空间。\u001b[0m\u001b[32m\u001b[0m\n",
      "\n",
      "[AGENT] \u001b[34m>>> Node 3: 请针对我的写作成果打一个分数，给出一句话的打分点，最终给出1分至5分\u001b[0m\n",
      "\u001b[32m4\u001b[0m\u001b[32m分\u001b[0m\u001b[32m。\u001b[0m\u001b[32m打分点在于作品\u001b[0m\u001b[32m成功营造了富有童趣和想象力\u001b[0m\u001b[32m的氛围，语言表达既简洁又有\u001b[0m\u001b[32m诗意，非常适合儿童阅读，但在内容\u001b[0m\u001b[32m深度或情节构建上还有提升空间\u001b[0m\u001b[32m。\u001b[0m\u001b[32m\u001b[0m\n",
      "\n"
     ]
    },
    {
     "data": {
      "text/plain": [
       "'4分。打分点在于作品成功营造了富有童趣和想象力的氛围，语言表达既简洁又有诗意，非常适合儿童阅读，但在内容深度或情节构建上还有提升空间。'"
      ]
     },
     "execution_count": 4,
     "metadata": {},
     "output_type": "execute_result"
    }
   ],
   "source": [
    "from illufly.agent import ChatQwen, Pipe\n",
    "from illufly.io import log\n",
    "\n",
    "pipe = Pipe(\n",
    "    ChatQwen(prompt=\"我是一个儿童作家，擅长写儿歌。\"),\n",
    "    ChatQwen(prompt=\"请你帮我评价文章特色，两句话即可\"),\n",
    "    ChatQwen(prompt=\"请针对我的写作成果打一个分数，给出一句话的打分点，最终给出1分至5分\")\n",
    ")\n",
    "\n",
    "log(pipe, \"你能帮我写一首关于兔子做梦的？四句即可。\")"
   ]
  },
  {
   "cell_type": "code",
   "execution_count": 6,
   "id": "8a876ad9-428f-4969-8896-adac2e3c1008",
   "metadata": {},
   "outputs": [
    {
     "data": {
      "text/plain": [
       "[{'role': 'system', 'content': '我是一个儿童作家，擅长写儿歌。'},\n",
       " {'role': 'user', 'content': '你能帮我写一首关于兔子做梦的？四句即可。'},\n",
       " {'role': 'assistant', 'content': '小白兔，梦中跳，月亮船上摇啊摇。\\n胡萝卜，变成桥，梦里世界真奇妙。'}]"
      ]
     },
     "execution_count": 6,
     "metadata": {},
     "output_type": "execute_result"
    }
   ],
   "source": [
    "pipe.runnables[0].memory"
   ]
  },
  {
   "cell_type": "markdown",
   "id": "78c7b8c1-da18-4a80-a306-39d00b038ba7",
   "metadata": {},
   "source": [
    "### 从提示语构造开始的管道 [Template, Chat, Chat]"
   ]
  },
  {
   "cell_type": "code",
   "execution_count": 7,
   "id": "6ebd6b27-882b-4eb6-a6e4-97cfb7444a82",
   "metadata": {},
   "outputs": [],
   "source": [
    "from illufly.agent import ChatQwen, Pipe, Template\n",
    "from illufly.io import log, alog"
   ]
  },
  {
   "cell_type": "code",
   "execution_count": 8,
   "id": "34740c68-05c7-4bd8-b44d-acd73ec713a3",
   "metadata": {},
   "outputs": [
    {
     "data": {
      "text/plain": [
       "'请开始'"
      ]
     },
     "execution_count": 8,
     "metadata": {},
     "output_type": "execute_result"
    }
   ],
   "source": [
    "t = Template(\"IDEA\")\n",
    "log(t, {\"task\": \"请你帮我写一首4行儿歌\"})\n",
    "t.output"
   ]
  },
  {
   "cell_type": "code",
   "execution_count": 9,
   "id": "d26d2e83-249e-4d6e-a759-a82da219f232",
   "metadata": {},
   "outputs": [
    {
     "name": "stdout",
     "output_type": "stream",
     "text": [
      "[AGENT] \u001b[34m>>> Node 1: Template\u001b[0m\n",
      "[AGENT] \u001b[34m>>> Node 2: ChatQwen\u001b[0m\n",
      "\u001b[32m小\u001b[0m\u001b[32m蜜蜂\u001b[0m\u001b[32m，\u001b[0m\u001b[32m嗡嗡嗡，  \n",
      "\u001b[0m\u001b[32m飞到花丛中，  \n",
      "采\u001b[0m\u001b[32m花蜜，忙不停，  \n",
      "甜\u001b[0m\u001b[32m甜蜜带回家。\u001b[0m\u001b[32m\u001b[0m\n",
      "\n",
      "[AGENT] \u001b[34m>>> Node 3: 请帮我对作品进行评价，找出三个缺点，一句话总结。\u001b[0m\n",
      "\u001b[32m1\u001b[0m\u001b[32m.\u001b[0m\u001b[32m **\u001b[0m\u001b[32m内容单一**：诗\u001b[0m\u001b[32m作围绕蜜蜂采蜜的活动展开\u001b[0m\u001b[32m，主题较为单一，缺乏情节的\u001b[0m\u001b[32m起伏或深度探索。\n",
      "2. **\u001b[0m\u001b[32m形象刻画浅显**：对小\u001b[0m\u001b[32m蜜蜂的描述仅限于基本的动作\u001b[0m\u001b[32m与声音，未能深入其生态习\u001b[0m\u001b[32m性或情感层面，使角色显得\u001b[0m\u001b[32m较为平面。\n",
      "3. **语言简单\u001b[0m\u001b[32m重复**：使用了较多的叠\u001b[0m\u001b[32m词和简单句式，虽符合\u001b[0m\u001b[32m儿童诗歌的特点，但缺乏变化和\u001b[0m\u001b[32m想象力的词汇运用，可能不足以吸引\u001b[0m\u001b[32m更广泛年龄段读者的兴趣。\n",
      "\n",
      "**一句话\u001b[0m\u001b[32m总结**：这首诗作为儿童启蒙\u001b[0m\u001b[32m读物简洁明快，但因\u001b[0m\u001b[32m内容单一、形象刻画浅显及\u001b[0m\u001b[32m语言简单重复，略显缺乏深度\u001b[0m\u001b[32m与吸引力。\u001b[0m\u001b[32m\u001b[0m\n",
      "\n"
     ]
    },
    {
     "data": {
      "text/plain": [
       "'1. **内容单一**：诗作围绕蜜蜂采蜜的活动展开，主题较为单一，缺乏情节的起伏或深度探索。\\n2. **形象刻画浅显**：对小蜜蜂的描述仅限于基本的动作与声音，未能深入其生态习性或情感层面，使角色显得较为平面。\\n3. **语言简单重复**：使用了较多的叠词和简单句式，虽符合儿童诗歌的特点，但缺乏变化和想象力的词汇运用，可能不足以吸引更广泛年龄段读者的兴趣。\\n\\n**一句话总结**：这首诗作为儿童启蒙读物简洁明快，但因内容单一、形象刻画浅显及语言简单重复，略显缺乏深度与吸引力。'"
      ]
     },
     "execution_count": 9,
     "metadata": {},
     "output_type": "execute_result"
    }
   ],
   "source": [
    "pipe = Pipe(\n",
    "    Template(\"IDEA\"),\n",
    "    ChatQwen(),\n",
    "    ChatQwen(prompt=\"请帮我对作品进行评价，找出三个缺点，一句话总结。\")\n",
    ")\n",
    "\n",
    "log(pipe, {\"task\": \"请你帮我写一首4行儿歌\"})"
   ]
  },
  {
   "cell_type": "code",
   "execution_count": 10,
   "id": "d041cfd5-1ff6-4a85-9bf2-c46188f05956",
   "metadata": {},
   "outputs": [
    {
     "data": {
      "text/plain": [
       "[{'role': 'user', 'content': '节点 <0> 正在处理任务...'},\n",
       " {'role': 'assistant', 'content': '请开始'},\n",
       " {'role': 'user', 'content': '节点 <1> 正在处理任务...'},\n",
       " {'role': 'assistant', 'content': '小蜜蜂，嗡嗡嗡，  \\n飞到花丛中，  \\n采花蜜，忙不停，  \\n甜甜蜜带回家。'},\n",
       " {'role': 'user', 'content': '节点 <2> 正在处理任务...'},\n",
       " {'role': 'assistant',\n",
       "  'content': '1. **内容单一**：诗作围绕蜜蜂采蜜的活动展开，主题较为单一，缺乏情节的起伏或深度探索。\\n2. **形象刻画浅显**：对小蜜蜂的描述仅限于基本的动作与声音，未能深入其生态习性或情感层面，使角色显得较为平面。\\n3. **语言简单重复**：使用了较多的叠词和简单句式，虽符合儿童诗歌的特点，但缺乏变化和想象力的词汇运用，可能不足以吸引更广泛年龄段读者的兴趣。\\n\\n**一句话总结**：这首诗作为儿童启蒙读物简洁明快，但因内容单一、形象刻画浅显及语言简单重复，略显缺乏深度与吸引力。'}]"
      ]
     },
     "execution_count": 10,
     "metadata": {},
     "output_type": "execute_result"
    }
   ],
   "source": [
    "pipe.memory"
   ]
  },
  {
   "cell_type": "code",
   "execution_count": 12,
   "id": "ef8290af-24b4-4350-a945-0f3d780889ba",
   "metadata": {},
   "outputs": [
    {
     "data": {
      "text/plain": [
       "[{'role': 'system',\n",
       "  'content': '你是强大的写作助手。\\n\\n你必须遵循以下约束来完成任务:\\n1. 直接输出你的结果，不要评论，不要啰嗦\\n2. 使用markdown格式输出\\n\\n**你的任务是:**\\n请你帮我写一首4行儿歌\\n'},\n",
       " {'role': 'user', 'content': '请开始'}]"
      ]
     },
     "execution_count": 12,
     "metadata": {},
     "output_type": "execute_result"
    }
   ],
   "source": [
    "pipe.runnables[0].memory"
   ]
  },
  {
   "cell_type": "code",
   "execution_count": 13,
   "id": "49cb463f-987c-4c43-a2d6-725d6bd3533a",
   "metadata": {},
   "outputs": [
    {
     "data": {
      "text/plain": [
       "[{'role': 'system',\n",
       "  'content': '你是强大的写作助手。\\n\\n你必须遵循以下约束来完成任务:\\n1. 直接输出你的结果，不要评论，不要啰嗦\\n2. 使用markdown格式输出\\n\\n**你的任务是:**\\n请你帮我写一首4行儿歌\\n'},\n",
       " {'role': 'user', 'content': '请开始'},\n",
       " {'role': 'assistant', 'content': '小蜜蜂，嗡嗡嗡，  \\n飞到花丛中，  \\n采花蜜，忙不停，  \\n甜甜蜜带回家。'}]"
      ]
     },
     "execution_count": 13,
     "metadata": {},
     "output_type": "execute_result"
    }
   ],
   "source": [
    "pipe.runnables[1].memory"
   ]
  },
  {
   "cell_type": "code",
   "execution_count": 14,
   "id": "f2af0c21-b195-498c-b679-2e8968053cf4",
   "metadata": {},
   "outputs": [
    {
     "name": "stdout",
     "output_type": "stream",
     "text": [
      "\u001b[32m1\u001b[0m\u001b[32m.\u001b[0m\u001b[32m **\u001b[0m\u001b[32m简洁明了**：\u001b[0m\u001b[32m这首儿歌语言简练，易于\u001b[0m\u001b[32m儿童理解和记忆。\n",
      "2. **节奏\u001b[0m\u001b[32m感强**：通过重复的音\u001b[0m\u001b[32m节和韵脚，如“嗡\u001b[0m\u001b[32m嗡嗡”和“中”，创造了\u001b[0m\u001b[32m欢快的节奏，吸引孩子兴趣。\n",
      "\u001b[0m\u001b[32m3. **教育意义**：在\u001b[0m\u001b[32m歌唱的同时，向儿童传递了自然界\u001b[0m\u001b[32m中小蜜蜂勤劳采蜜的知识，培养\u001b[0m\u001b[32m孩子对自然的好奇心和尊重\u001b[0m\u001b[32m劳动的价值观。\u001b[0m\u001b[32m\u001b[0m\n",
      "\n"
     ]
    },
    {
     "data": {
      "text/plain": [
       "'1. **简洁明了**：这首儿歌语言简练，易于儿童理解和记忆。\\n2. **节奏感强**：通过重复的音节和韵脚，如“嗡嗡嗡”和“中”，创造了欢快的节奏，吸引孩子兴趣。\\n3. **教育意义**：在歌唱的同时，向儿童传递了自然界中小蜜蜂勤劳采蜜的知识，培养孩子对自然的好奇心和尊重劳动的价值观。'"
      ]
     },
     "execution_count": 14,
     "metadata": {},
     "output_type": "execute_result"
    }
   ],
   "source": [
    "log(pipe.runnables[1], \"找出三个优点吧\")"
   ]
  },
  {
   "cell_type": "markdown",
   "id": "895b51cc-3af1-45c6-ba5c-ca9576ec4080",
   "metadata": {},
   "source": [
    "## 智能体团队：从提纲扩写"
   ]
  },
  {
   "cell_type": "markdown",
   "id": "f1c8cff4-29a2-4315-ba50-ab9789243f51",
   "metadata": {},
   "source": [
    "### 构建提纲"
   ]
  },
  {
   "cell_type": "code",
   "execution_count": 15,
   "id": "6d320be2-f7e4-4544-81e2-bbb9043dd83f",
   "metadata": {},
   "outputs": [],
   "source": [
    "from illufly.agent import ChatQwen, Pipe, FromOutline, Template\n",
    "from illufly.io import log, alog\n",
    "\n",
    "outline = Pipe(\n",
    "    Template(\"OUTLINE\"),\n",
    "    ChatQwen()\n",
    ")"
   ]
  },
  {
   "cell_type": "code",
   "execution_count": 16,
   "id": "a3caa546-fdb3-45ed-b689-3b8802d431d4",
   "metadata": {},
   "outputs": [
    {
     "name": "stdout",
     "output_type": "stream",
     "text": [
      "[AGENT] \u001b[34m>>> Node 1: Template\u001b[0m\n",
      "[AGENT] \u001b[34m>>> Node 2: ChatQwen\u001b[0m\n",
      "\u001b[32m#\u001b[0m\u001b[32m \u001b[0m\u001b[32m儿歌：小星星\u001b[0m\u001b[32m的梦\n",
      "\n",
      "## 第一段：星空\u001b[0m\u001b[32m奇妙夜\n",
      "<OUTLINE>\n",
      "-\u001b[0m\u001b[32m 描述夜晚星空的美丽景象，\u001b[0m\u001b[32m提及小星星\n",
      "- 引入\u001b[0m\u001b[32m小星星梦想飞翔的念头，充满\u001b[0m\u001b[32m好奇与期待\n",
      "- 字数：\u001b[0m\u001b[32m约20字\n",
      "</OUTLINE\u001b[0m\u001b[32m>\n",
      "\n",
      "## 第二段：晨光\u001b[0m\u001b[32m中的舞者\n",
      "<OUTLINE>\n",
      "\u001b[0m\u001b[32m- 描述随着黎明到来，小\u001b[0m\u001b[32m星星与月亮道别的温馨场景\n",
      "\u001b[0m\u001b[32m- 小星星化作流星，\u001b[0m\u001b[32m短暂而灿烂地“舞动”\u001b[0m\u001b[32m于天际\n",
      "- 字数：\u001b[0m\u001b[32m约20字\n",
      "</OUTLINE\u001b[0m\u001b[32m>\u001b[0m\u001b[32m\u001b[0m\n",
      "\n"
     ]
    },
    {
     "data": {
      "text/plain": [
       "'# 儿歌：小星星的梦\\n\\n## 第一段：星空奇妙夜\\n<OUTLINE>\\n- 描述夜晚星空的美丽景象，提及小星星\\n- 引入小星星梦想飞翔的念头，充满好奇与期待\\n- 字数：约20字\\n</OUTLINE>\\n\\n## 第二段：晨光中的舞者\\n<OUTLINE>\\n- 描述随着黎明到来，小星星与月亮道别的温馨场景\\n- 小星星化作流星，短暂而灿烂地“舞动”于天际\\n- 字数：约20字\\n</OUTLINE>'"
      ]
     },
     "execution_count": 16,
     "metadata": {},
     "output_type": "execute_result"
    }
   ],
   "source": [
    "log(outline, {\"task\": \"写一首两段儿歌，每段20个字即可，策划简单一点\"})"
   ]
  },
  {
   "cell_type": "markdown",
   "id": "4526554f-056e-4a82-aef2-9afcc93d24ac",
   "metadata": {},
   "source": [
    "### 提纲 + 扩写"
   ]
  },
  {
   "cell_type": "code",
   "execution_count": 17,
   "id": "c92629cb-c1df-4d17-ad96-f16c42ace458",
   "metadata": {},
   "outputs": [
    {
     "name": "stdout",
     "output_type": "stream",
     "text": [
      "[AGENT] \u001b[34m>>> Node 1: Template\u001b[0m\n",
      "[AGENT] \u001b[34m>>> Node 2: ChatQwen\u001b[0m\n",
      "\u001b[32m#\u001b[0m\u001b[32m \u001b[0m\u001b[32m儿歌：小星星\u001b[0m\u001b[32m的夜游\n",
      "\n",
      "## 第一段：\u001b[0m\u001b[32m星星醒来\n",
      "<OUTLINE>\n",
      "扩\u001b[0m\u001b[32m写要求：\n",
      "- 描述夜晚降临\u001b[0m\u001b[32m，星星出现在天空的情景\n",
      "-\u001b[0m\u001b[32m 引入主角小星星，它\u001b[0m\u001b[32m眨着眼睛好奇世界\n",
      "- \u001b[0m\u001b[32m预估字数：20\u001b[0m\u001b[32m字\n",
      "</OUTLINE>\n",
      "\n",
      "## 第\u001b[0m\u001b[32m二段：月亮朋友\n",
      "<OUT\u001b[0m\u001b[32mLINE>\n",
      "扩写要求：\n",
      "- \u001b[0m\u001b[32m介绍小星星遇到月亮，它们在\u001b[0m\u001b[32m夜空玩耍\n",
      "- 表达\u001b[0m\u001b[32m友谊与快乐的氛围\n",
      "- \u001b[0m\u001b[32m预估字数：20\u001b[0m\u001b[32m字\n",
      "</OUTLINE>\u001b[0m\u001b[32m\u001b[0m\n",
      "\n",
      "[AGENT] \u001b[34m>>> Node 3: FromOutline\u001b[0m\n",
      "[AGENT] \u001b[34m执行扩写任务 <0169-399-003>：\n",
      "扩写要求：\n",
      "- 描述夜晚降临，星星出现在天空的情景\n",
      "- 引入主角小星星，它眨着眼睛好奇世界\n",
      "- 预估字数：20字\u001b[0m\n",
      "[AGENT] \u001b[34m>>> Node 1: Template\u001b[0m\n",
      "[AGENT] \u001b[34m>>> Node 2: ChatQwen\u001b[0m\n",
      "\u001b[32m夜\u001b[0m\u001b[32m幕\u001b[0m\u001b[32m轻\u001b[0m\u001b[32m垂，万籁俱\u001b[0m\u001b[32m寂，星空渐渐亮起眼眸\u001b[0m\u001b[32m。小星星闪耀登场，好奇地\u001b[0m\u001b[32m眨，探秘夜的温柔。\u001b[0m\u001b[32m\u001b[0m\n",
      "\n",
      "[AGENT] \u001b[34m执行扩写任务 <0169-572-006>：\n",
      "扩写要求：\n",
      "- 介绍小星星遇到月亮，它们在夜空玩耍\n",
      "- 表达友谊与快乐的氛围\n",
      "- 预估字数：20字\u001b[0m\n",
      "[AGENT] \u001b[34m>>> Node 1: Template\u001b[0m\n",
      "[AGENT] \u001b[34m>>> Node 2: ChatQwen\u001b[0m\n",
      "\u001b[32m小\u001b[0m\u001b[32m星星\u001b[0m\u001b[32m遇见\u001b[0m\u001b[32m了月亮姐姐，手\u001b[0m\u001b[32m拉手舞动在夜空，\u001b[0m\u001b[32m欢笑声响彻云霄。\u001b[0m\u001b[32m\u001b[0m\n",
      "\n"
     ]
    },
    {
     "data": {
      "text/plain": [
       "'小星星遇见了月亮姐姐，手拉手舞动在夜空，欢笑声响彻云霄。'"
      ]
     },
     "execution_count": 17,
     "metadata": {},
     "output_type": "execute_result"
    }
   ],
   "source": [
    "from illufly.agent import ChatQwen, Pipe, FromOutline, Template\n",
    "from illufly.io import log, alog\n",
    "\n",
    "writer = Pipe(\n",
    "    Template(\"OUTLINE\"),\n",
    "    ChatQwen(),\n",
    "    FromOutline(ChatQwen())\n",
    ")\n",
    "\n",
    "log(writer, {\"task\": \"写一首两段儿歌，每段20个字即可，策划简单一点\"})"
   ]
  },
  {
   "cell_type": "code",
   "execution_count": 18,
   "id": "0bcff25d-bb2f-4052-8652-4b61e06d95e6",
   "metadata": {},
   "outputs": [
    {
     "data": {
      "text/plain": [
       "'# 儿歌：小星星的夜游\\n\\n## 第一段：星星醒来\\n<OUTLINE>\\n扩写要求：\\n- 描述夜晚降临，星星出现在天空的情景\\n- 引入主角小星星，它眨着眼睛好奇世界\\n- 预估字数：20字\\n</OUTLINE>\\n\\n## 第二段：月亮朋友\\n<OUTLINE>\\n扩写要求：\\n- 介绍小星星遇到月亮，它们在夜空玩耍\\n- 表达友谊与快乐的氛围\\n- 预估字数：20字\\n</OUTLINE>'"
      ]
     },
     "execution_count": 18,
     "metadata": {},
     "output_type": "execute_result"
    }
   ],
   "source": [
    "writer.runnables[1].output"
   ]
  },
  {
   "cell_type": "code",
   "execution_count": 19,
   "id": "5f1417b1-076b-4757-b880-410da7fbf4e1",
   "metadata": {},
   "outputs": [
    {
     "name": "stdout",
     "output_type": "stream",
     "text": [
      "# 儿歌：小星星的夜游\n",
      "\n",
      "\n",
      "## 第一段：星星醒来\n",
      "\n",
      "夜幕轻垂，万籁俱寂，星空渐渐亮起眼眸。小星星闪耀登场，好奇地眨，探秘夜的温柔。\n",
      "\n",
      "\n",
      "## 第二段：月亮朋友\n",
      "\n",
      "小星星遇见了月亮姐姐，手拉手舞动在夜空，欢笑声响彻云霄。\n",
      "\n",
      "\n"
     ]
    }
   ],
   "source": [
    "print(writer.output)"
   ]
  },
  {
   "cell_type": "code",
   "execution_count": 20,
   "id": "27131fe0-d114-4da1-a43e-ceb751d25cbe",
   "metadata": {},
   "outputs": [
    {
     "data": {
      "text/plain": [
       "(<illufly.agent.template.Template at 0x11ee69b10>,\n",
       " <illufly.agent.llm.dashscope.ChatQwen at 0x10d080b50>,\n",
       " <illufly.agent.team.from_outline.FromOutline at 0x11ee3ae00>)"
      ]
     },
     "execution_count": 20,
     "metadata": {},
     "output_type": "execute_result"
    }
   ],
   "source": [
    "writer.runnables"
   ]
  },
  {
   "cell_type": "code",
   "execution_count": null,
   "id": "35f860bc-1a51-4b35-ae64-77e6bfd27c31",
   "metadata": {},
   "outputs": [],
   "source": []
  }
 ],
 "metadata": {
  "kernelspec": {
   "display_name": "Python 3 (ipykernel)",
   "language": "python",
   "name": "python3"
  },
  "language_info": {
   "codemirror_mode": {
    "name": "ipython",
    "version": 3
   },
   "file_extension": ".py",
   "mimetype": "text/x-python",
   "name": "python",
   "nbconvert_exporter": "python",
   "pygments_lexer": "ipython3",
   "version": "3.10.0"
  }
 },
 "nbformat": 4,
 "nbformat_minor": 5
}
