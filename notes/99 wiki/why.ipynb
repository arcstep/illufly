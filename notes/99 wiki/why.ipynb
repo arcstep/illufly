{
 "cells": [
  {
   "cell_type": "markdown",
   "id": "65ac9a2e-4b75-4a01-a1e1-57374c1556a2",
   "metadata": {},
   "source": [
    "✨🦋 [![PyPI version](https://img.shields.io/pypi/v/illufly.svg)](https://pypi.org/project/illufly/)\n",
    "\n",
    "## illulfy 的设计原则\n",
    "\n",
    "**1. 简化原则**\n",
    "\n",
    "作为开发者，在使用通用大模型构建AI应用时，也许你常常会感受到繁琐。<br>\n",
    "illufly 通常使用内置结构来支持各种场景，包括内置的流失输出，内置的异步调用，内置的多轮记忆，内置的工具回调逻辑等。<br>\n",
    "这些能力通常没有定制开发的必要。\n",
    "\n",
    "而使用 illufly 时主要做两件事：一是声明，二是调用。\n",
    "\n",
    "与大模型官方例子比较时可以进一步感受到。\n",
    "\n",
    "**2. 鼓励全面支持大模型原厂能力**\n",
    "\n",
    "实际上 illufly 鼓励使用大模型原厂商的标准，在尽量回避自己定义标准，例如大模型调用时需要录入的消息格式。<br>\n",
    "请参考[《消息格式》](#消息格式)"
   ]
  },
  {
   "cell_type": "markdown",
   "id": "e9c20f3d-bbc9-4f8e-943e-35fd2bae8538",
   "metadata": {},
   "source": [
    "## 单轮对话\n",
    "\n",
    "下面以通义千问的对话模型为例。"
   ]
  },
  {
   "cell_type": "markdown",
   "id": "e88a2fe0-10c9-4c0a-9e08-3590636206a1",
   "metadata": {},
   "source": [
    "### 代码对比\n",
    "\n",
    "这是一个大模型的 `hello world` 例子。\n",
    "\n",
    "事实上，`illufly` 有很多简化的特性，但也支持官方的习惯。\n",
    "\n",
    "**官方示范**"
   ]
  },
  {
   "cell_type": "code",
   "execution_count": 4,
   "id": "095d3e12-1b5b-442e-bebb-e35a46d86075",
   "metadata": {},
   "outputs": [
    {
     "name": "stdout",
     "output_type": "stream",
     "text": [
      "{\"status_code\": 200, \"request_id\": \"f3aea9ce-68a3-9632-87b4-56992dc0fbaa\", \"code\": \"\", \"message\": \"\", \"output\": {\"text\": null, \"finish_reason\": null, \"choices\": [{\"finish_reason\": \"stop\", \"message\": {\"role\": \"assistant\", \"content\": \"我是来自阿里云的大规模语言模型，我叫通义千问。\"}}]}, \"usage\": {\"input_tokens\": 22, \"output_tokens\": 16, \"total_tokens\": 38}}\n"
     ]
    }
   ],
   "source": [
    "import os\n",
    "import dashscope\n",
    "\n",
    "messages = [\n",
    "    {'role': 'system', 'content': 'You are a helpful assistant.'},\n",
    "    {'role': 'user', 'content': '你是谁？'}\n",
    "    ]\n",
    "response = dashscope.Generation.call(\n",
    "    api_key=os.getenv('DASHSCOPE_API_KEY'),\n",
    "    model=\"qwen-plus\",\n",
    "    messages=messages,\n",
    "    result_format='message'\n",
    "    )\n",
    "print(response)"
   ]
  },
  {
   "cell_type": "markdown",
   "id": "210ad2b8-2f8a-4d5f-b76e-ed2385c7e8b6",
   "metadata": {},
   "source": [
    "**illufly**"
   ]
  },
  {
   "cell_type": "code",
   "execution_count": 11,
   "id": "567b2f6d-39c1-4805-ae27-1ced7048ba27",
   "metadata": {},
   "outputs": [
    {
     "name": "stdout",
     "output_type": "stream",
     "text": [
      "\u001b[32m我是来自\u001b[0m\u001b[32m阿里\u001b[0m\u001b[32m云\u001b[0m\u001b[32m的大规模语言模型\u001b[0m\u001b[32m，我叫通\u001b[0m\u001b[32m义千问。\u001b[0m\u001b[32m\u001b[0m\n",
      "\n",
      "  1s [USAGE] \u001b[34m{\"input_tokens\": 22, \"output_tokens\": 16, \"total_tokens\": 38}\u001b[0m\n"
     ]
    },
    {
     "data": {
      "text/plain": [
       "'我是来自阿里云的大规模语言模型，我叫通义千问。'"
      ]
     },
     "execution_count": 11,
     "metadata": {},
     "output_type": "execute_result"
    }
   ],
   "source": [
    "import os\n",
    "from illufly.chat import ChatQwen\n",
    "\n",
    "# 声明\n",
    "qwen = ChatQwen(model=\"qwen-plus\", api_key=os.getenv('DASHSCOPE_API_KEY'))\n",
    "\n",
    "# 调用\n",
    "qwen([\n",
    "    {'role': 'system', 'content': 'You are a helpful assistant.'},\n",
    "    {'role': 'user', 'content': '你是谁？'}\n",
    "], verbose=True)"
   ]
  },
  {
   "cell_type": "markdown",
   "id": "f5e1f53f-9e19-4298-a142-1c425958bd8b",
   "metadata": {},
   "source": [
    "**极简写法**"
   ]
  },
  {
   "cell_type": "code",
   "execution_count": 49,
   "id": "b1ef2bba-c637-4e87-8850-5e814bcb5924",
   "metadata": {},
   "outputs": [
    {
     "name": "stdout",
     "output_type": "stream",
     "text": [
      "\u001b[32m我是来自\u001b[0m\u001b[32m阿里\u001b[0m\u001b[32m云\u001b[0m\u001b[32m的大规模语言模型\u001b[0m\u001b[32m，我叫通\u001b[0m\u001b[32m义千问。\u001b[0m\u001b[32m\u001b[0m\n",
      "\n"
     ]
    },
    {
     "data": {
      "text/plain": [
       "'我是来自阿里云的大规模语言模型，我叫通义千问。'"
      ]
     },
     "execution_count": 49,
     "metadata": {},
     "output_type": "execute_result"
    }
   ],
   "source": [
    "from illufly.chat import ChatQwen\n",
    "\n",
    "# 声明\n",
    "qwen = ChatQwen(model=\"qwen-plus\")\n",
    "\n",
    "# 调用\n",
    "qwen(['You are a helpful assistant.', '你是谁？'])"
   ]
  },
  {
   "cell_type": "code",
   "execution_count": 50,
   "id": "7fb492a0-a0c3-42ad-b4ae-a88ebfebd64d",
   "metadata": {},
   "outputs": [
    {
     "data": {
      "text/plain": [
       "[{'role': 'system', 'content': 'You are a helpful assistant.'},\n",
       " {'role': 'user', 'content': '你是谁？'},\n",
       " {'role': 'assistant', 'content': '我是来自阿里云的大规模语言模型，我叫通义千问。'}]"
      ]
     },
     "execution_count": 50,
     "metadata": {},
     "output_type": "execute_result"
    }
   ],
   "source": [
    "qwen.memory"
   ]
  },
  {
   "cell_type": "markdown",
   "id": "1bc20880-b50e-40e9-80f2-2f67b920a367",
   "metadata": {},
   "source": [
    "## 消息格式\n",
    "\n",
    "illufly 主要使用 python 的原生列表类型来定义消息，并通过语法糖实现快速定义。\n",
    "\n",
    "大模型所需要的消息列表格式，通常是这样："
   ]
  },
  {
   "cell_type": "markdown",
   "id": "c9f32ad7-f924-46fb-9d6f-3eff1b95dcda",
   "metadata": {},
   "source": [
    "### 文本消息"
   ]
  },
  {
   "cell_type": "code",
   "execution_count": null,
   "id": "f063d303-73c7-4d24-899f-94fbea50df34",
   "metadata": {},
   "outputs": [],
   "source": [
    "[\n",
    "    {'role': 'system', 'content': '你是一个小说家。'},\n",
    "    {'role': 'user', 'content': '帮我创作吧'},\n",
    "    {'role': 'assistant', 'content': '从前有一个人很坏，他坏死了。\\n额，我是他说真的死了。'}\n",
    "]"
   ]
  },
  {
   "cell_type": "markdown",
   "id": "1848c707-ded9-41fe-bdba-395f8b873327",
   "metadata": {},
   "source": [
    "这有些啰嗦，使用 illufly 可以简化这些工作，然后在使用时被转换为上述标准结构："
   ]
  },
  {
   "cell_type": "code",
   "execution_count": 37,
   "id": "38e82c72-5be7-41a2-b532-8ecc0f446450",
   "metadata": {},
   "outputs": [
    {
     "data": {
      "text/plain": [
       "[{'role': 'system', 'content': '你是一个小说家。'},\n",
       " {'role': 'user', 'content': '帮我创作吧'},\n",
       " {'role': 'assistant', 'content': '从前有一个人很坏，他坏死了。\\n额，我是他说真的死了。'}]"
      ]
     },
     "execution_count": 37,
     "metadata": {},
     "output_type": "execute_result"
    }
   ],
   "source": [
    "from illufly.types import Messages\n",
    "\n",
    "# 一般情况你不需要直接使用 Messages，但用它确认转换后的消息结构很方便\n",
    "Messages([\n",
    "    ('system', '你是一个小说家。'),\n",
    "    ('user', '帮我创作吧'),\n",
    "    ('assistant', '从前有一个人很坏，他坏死了。\\n额，我是他说真的死了。')\n",
    "]).to_list()"
   ]
  },
  {
   "cell_type": "markdown",
   "id": "d433d5b4-86f4-4949-98e2-36496caa17c9",
   "metadata": {},
   "source": [
    "你甚至可以写成这样，转换为标准结构时，illufly 会猜测他们的 role 应该是什么："
   ]
  },
  {
   "cell_type": "code",
   "execution_count": 35,
   "id": "563e6129-6064-4d0f-9b84-61cbe5dc5288",
   "metadata": {},
   "outputs": [
    {
     "data": {
      "text/plain": [
       "[{'role': 'system', 'content': '你是一个小说家。'},\n",
       " {'role': 'user', 'content': '帮我创作吧'},\n",
       " {'role': 'assistant', 'content': '从前有一个人很坏，他坏死了。\\n额，我是他说真的死了。'}]"
      ]
     },
     "execution_count": 35,
     "metadata": {},
     "output_type": "execute_result"
    }
   ],
   "source": [
    "Messages([\n",
    "    '你是一个小说家。',\n",
    "    '帮我创作吧',\n",
    "    '从前有一个人很坏，他坏死了。\\n额，我是他说真的死了。'\n",
    "]).to_list()"
   ]
  },
  {
   "cell_type": "markdown",
   "id": "1de80371-3004-4666-98d4-46e35ab26d3c",
   "metadata": {},
   "source": [
    "### 提示语模板\n",
    "\n",
    "你也可以在其中使用模板："
   ]
  },
  {
   "cell_type": "code",
   "execution_count": 39,
   "id": "b143dcc5-e1ce-4209-bdcd-305ddde8bfc3",
   "metadata": {},
   "outputs": [
    {
     "data": {
      "text/plain": [
       "[{'role': 'system', 'content': '你是强有力的AI助手，特别擅长儿童文学创作'},\n",
       " {'role': 'user', 'content': '帮我创作一首儿歌'}]"
      ]
     },
     "execution_count": 39,
     "metadata": {},
     "output_type": "execute_result"
    }
   ],
   "source": [
    "from illufly.types import Template\n",
    "\n",
    "Messages([\n",
    "    Template(text=\"你是强有力的AI助手，特别擅长{{skill}}\"),\n",
    "    '帮我创作一首儿歌'\n",
    "]).to_list(input_vars={\"skill\": \"儿童文学创作\"})"
   ]
  },
  {
   "cell_type": "markdown",
   "id": "a52e558d-9544-485d-9ab7-53a4e2a9fa2e",
   "metadata": {},
   "source": [
    "或者根据 template_id 使用框架内置的或本地文件中的提示语模板："
   ]
  },
  {
   "cell_type": "code",
   "execution_count": 41,
   "id": "07462a84-8325-40fa-b47f-4fbb2fcfd689",
   "metadata": {},
   "outputs": [
    {
     "data": {
      "text/plain": [
       "[{'role': 'system',\n",
       "  'content': '你是强大的写作助手。\\n\\n你必须遵循以下约束来完成任务:\\n1. 直接输出你的结果，不要评论，不要啰嗦\\n2. 使用markdown格式输出\\n\\n**你的任务是:**\\n儿童文学创作\\n'},\n",
       " {'role': 'user', 'content': '帮我创作一首儿歌'}]"
      ]
     },
     "execution_count": 41,
     "metadata": {},
     "output_type": "execute_result"
    }
   ],
   "source": [
    "from illufly.types import Template\n",
    "\n",
    "Messages([\n",
    "    Template(\"IDEA\"),\n",
    "    '帮我创作一首儿歌'\n",
    "]).to_list(input_vars={\"task\": \"儿童文学创作\"})"
   ]
  },
  {
   "cell_type": "markdown",
   "id": "c65e94c7-c8cc-4762-bcf9-addf4e6cdcab",
   "metadata": {},
   "source": [
    "### 多模态消息\n",
    "\n",
    "在图片理解、声音理解、视频理解、图片生成等模型中都可能需要上传文件资源，超出了上述纯文本消息格式的表达能力，因此 OpenAI 设计了多模态消息格式，可以支持 `image`、`audio`、`video` 等多种模态格式。但 OpenAI 的标准格式略显繁琐。\n",
    "\n",
    "**OpenAI兼容的多模态消息格式**"
   ]
  },
  {
   "cell_type": "code",
   "execution_count": 43,
   "id": "fc8fb199-4b52-4c87-9ef3-49dc49e0f2d3",
   "metadata": {},
   "outputs": [],
   "source": [
    "messages=[\n",
    "    {\n",
    "        \"role\": \"user\",\n",
    "        \"content\": [\n",
    "            {\n",
    "                \"type\": \"image_url\",\n",
    "                \"image_url\": {\n",
    "                    \"url\": \"https://dashscope.oss-cn-beijing.aliyuncs.com/images/dog_and_girl.jpeg\"\n",
    "                }\n",
    "            },\n",
    "            {\n",
    "                \"type\": \"image_url\",\n",
    "                \"image_url\": {\n",
    "                    \"url\": \"https://dashscope.oss-cn-beijing.aliyuncs.com/images/tiger.png\"\n",
    "                }\n",
    "            },\n",
    "            {\n",
    "                \"type\": \"text\",\n",
    "                \"text\": \"这些是什么\"\n",
    "            }\n",
    "        ]\n",
    "    }\n",
    "]"
   ]
  },
  {
   "cell_type": "markdown",
   "id": "4821244c-9fa4-4d1b-9900-739e69c6e258",
   "metadata": {},
   "source": [
    "**通义千问的多模态消息格式**\n",
    "\n",
    "这的确稍微简化了一点。"
   ]
  },
  {
   "cell_type": "code",
   "execution_count": 44,
   "id": "d2fb7d3a-7fe5-4a26-ba23-bbe93c7f0b8e",
   "metadata": {},
   "outputs": [],
   "source": [
    "messages = [\n",
    "    {\n",
    "        \"role\": \"user\",\n",
    "        \"content\": [\n",
    "            {\"image\": \"https://dashscope.oss-cn-beijing.aliyuncs.com/images/dog_and_girl.jpeg\"},\n",
    "            {\"image\": \"https://dashscope.oss-cn-beijing.aliyuncs.com/images/tiger.png\"},\n",
    "            {\"image\": \"https://dashscope.oss-cn-beijing.aliyuncs.com/images/rabbit.png\"},\n",
    "            {\"text\": \"这些是什么?\"}\n",
    "        ]\n",
    "    }\n",
    "]"
   ]
  },
  {
   "cell_type": "markdown",
   "id": "cb7c2673-ae80-48da-8aea-802c49da382c",
   "metadata": {},
   "source": [
    "**illufly**\n",
    "\n",
    "illufly 支持直接使用上述任意风格定义多模态消息列表，但也支持自己的简化风格。"
   ]
  },
  {
   "cell_type": "code",
   "execution_count": 44,
   "id": "f83aa37e-074f-495a-9757-a20590370b3b",
   "metadata": {},
   "outputs": [],
   "source": [
    "messages = [\n",
    "    (\n",
    "        \"user\", \n",
    "        [\n",
    "            {\"image\": \"https://dashscope.oss-cn-beijing.aliyuncs.com/images/dog_and_girl.jpeg\"},\n",
    "            {\"image\": \"https://dashscope.oss-cn-beijing.aliyuncs.com/images/tiger.png\"},\n",
    "            {\"image\": \"https://dashscope.oss-cn-beijing.aliyuncs.com/images/rabbit.png\"},\n",
    "            {\"text\": \"这些是什么?\"}\n",
    "        ]\n",
    "    )\n",
    "]"
   ]
  },
  {
   "cell_type": "markdown",
   "id": "240d0dd9-11ce-41bf-bf88-f79ff237c767",
   "metadata": {},
   "source": [
    "使用 illufly 定义好的消息格式可以任意切换为 openai 或 通义千问风格。"
   ]
  },
  {
   "cell_type": "code",
   "execution_count": 46,
   "id": "20b6d37d-1308-44de-9399-540c29a59a59",
   "metadata": {},
   "outputs": [
    {
     "data": {
      "text/plain": [
       "[{'role': 'user',\n",
       "  'content': [{'type': 'image_url',\n",
       "    'image_url': {'url': 'https://dashscope.oss-cn-beijing.aliyuncs.com/images/dog_and_girl.jpeg'}},\n",
       "   {'type': 'image_url',\n",
       "    'image_url': {'url': 'https://dashscope.oss-cn-beijing.aliyuncs.com/images/tiger.png'}},\n",
       "   {'type': 'image_url',\n",
       "    'image_url': {'url': 'https://dashscope.oss-cn-beijing.aliyuncs.com/images/rabbit.png'}},\n",
       "   {'type': 'text', 'text': '这些是什么?'}]}]"
      ]
     },
     "execution_count": 46,
     "metadata": {},
     "output_type": "execute_result"
    }
   ],
   "source": [
    "Messages(messages).to_list(style=\"openai_vl\")"
   ]
  },
  {
   "cell_type": "code",
   "execution_count": 47,
   "id": "b42afbea-61fc-45c3-bd0d-f98ca8be2f6d",
   "metadata": {},
   "outputs": [
    {
     "data": {
      "text/plain": [
       "[{'role': 'user',\n",
       "  'content': [{'image': 'https://dashscope.oss-cn-beijing.aliyuncs.com/images/dog_and_girl.jpeg'},\n",
       "   {'image': 'https://dashscope.oss-cn-beijing.aliyuncs.com/images/tiger.png'},\n",
       "   {'image': 'https://dashscope.oss-cn-beijing.aliyuncs.com/images/rabbit.png'},\n",
       "   {'text': '这些是什么?'}]}]"
      ]
     },
     "execution_count": 47,
     "metadata": {},
     "output_type": "execute_result"
    }
   ],
   "source": [
    "Messages(messages).to_list(style=\"qwen_vl\")"
   ]
  },
  {
   "cell_type": "markdown",
   "id": "f4af554e-f21e-4789-8c79-30ce07b2857d",
   "metadata": {},
   "source": [
    "## 多轮对话"
   ]
  },
  {
   "cell_type": "markdown",
   "id": "67244891-2777-43eb-8a2c-1debcc29a49f",
   "metadata": {},
   "source": [
    "### 代码对比\n",
    "\n",
    "相比于官方SDK，`illufly` 有内置的多轮对话管理。\n",
    "\n",
    "**官方例子**"
   ]
  },
  {
   "cell_type": "code",
   "execution_count": 2,
   "id": "97f02001-ea01-494d-85ac-81315a74bdf8",
   "metadata": {},
   "outputs": [
    {
     "name": "stdout",
     "output_type": "stream",
     "text": [
      "模型输出：欢迎光临百炼手机商店，您需要购买什么尺寸的手机呢？\n",
      "\n"
     ]
    },
    {
     "name": "stdout",
     "output_type": "stream",
     "text": [
      "请输入： 有什么推荐？\n"
     ]
    },
    {
     "name": "stdout",
     "output_type": "stream",
     "text": [
      "模型输出：当然可以！为了给您提供更准确的推荐，请问您更倾向于哪种屏幕尺寸呢？是6.1英寸、6.5英寸还是6.7英寸的呢？\n",
      "\n",
      "\n"
     ]
    },
    {
     "name": "stdout",
     "output_type": "stream",
     "text": [
      "请输入： 6.1吧\n"
     ]
    },
    {
     "name": "stdout",
     "output_type": "stream",
     "text": [
      "模型输出：好的，了解。接下来，请问您对屏幕分辨率有偏好吗？您希望是2K还是4K的呢？\n",
      "\n",
      "\n"
     ]
    },
    {
     "name": "stdout",
     "output_type": "stream",
     "text": [
      "请输入： 2k\n"
     ]
    },
    {
     "name": "stdout",
     "output_type": "stream",
     "text": [
      "模型输出：我已了解您的购买意向，请稍等。根据您的选择，我会为您挑选一款6.1英寸且分辨率为2K的手机。\n",
      "\n",
      "\n"
     ]
    }
   ],
   "source": [
    "from dashscope import Generation\n",
    "\n",
    "def get_response(messages):\n",
    "    response = Generation.call(\n",
    "        model=\"qwen-plus\",\n",
    "        messages=messages,\n",
    "        # 将输出设置为\"message\"格式\n",
    "        result_format=\"message\",\n",
    "    )\n",
    "    return response\n",
    "\n",
    "messages = [\n",
    "    {\n",
    "        \"role\": \"system\",\n",
    "        \"content\": \"\"\"你是一名百炼手机商店的店员，你负责给用户推荐手机。手机有两个参数：屏幕尺寸（包括6.1英寸、6.5英寸、6.7英寸）、分辨率（包括2K、4K）。\n",
    "        你一次只能向用户提问一个参数。如果用户提供的信息不全，你需要反问他，让他提供没有提供的参数。如果参数收集完成，你要说：我已了解您的购买意向，请稍等。\"\"\",\n",
    "    }\n",
    "]\n",
    "\n",
    "assistant_output = \"欢迎光临百炼手机商店，您需要购买什么尺寸的手机呢？\"\n",
    "print(f\"模型输出：{assistant_output}\\n\")\n",
    "while \"我已了解您的购买意向\" not in assistant_output:\n",
    "    user_input = input(\"请输入：\")\n",
    "    # 将用户问题信息添加到messages列表中\n",
    "    messages.append({\"role\": \"user\", \"content\": user_input})\n",
    "    assistant_output = get_response(messages).output.choices[0].message.content\n",
    "    # 将大模型的回复信息添加到messages列表中\n",
    "    messages.append({\"role\": \"assistant\", \"content\": assistant_output})\n",
    "    print(f\"模型输出：{assistant_output}\")\n",
    "    print(\"\\n\")"
   ]
  },
  {
   "cell_type": "code",
   "execution_count": 14,
   "id": "17c57b67-a28e-41cf-8432-5abac44520f9",
   "metadata": {},
   "outputs": [
    {
     "name": "stdout",
     "output_type": "stream",
     "text": [
      "[{'role': 'system', 'content': '你是一名百炼手机商店的店员，你负责给用户推荐手机。手机有两个参数：屏幕尺寸（包括6.1英寸、6.5英寸、6.7英寸）、分辨率（包括2K、4K）。\\n        你一次只能向用户提问一个参数。如果用户提供的信息不全，你需要反问他，让他提供没有提供的参数。如果参数收集完成，你要说：我已了解您的购买意向，请稍等。'}, {'role': 'user', 'content': '有什么推荐？'}, {'role': 'assistant', 'content': '当然可以！为了给您提供更准确的推荐，请问您更倾向于哪种屏幕尺寸呢？是6.1英寸、6.5英寸还是6.7英寸的呢？'}, {'role': 'user', 'content': '6.1吧'}, {'role': 'assistant', 'content': '好的，了解。接下来，请问您对屏幕分辨率有偏好吗？您希望是2K还是4K的呢？'}, {'role': 'user', 'content': '2k'}, {'role': 'assistant', 'content': '我已了解您的购买意向，请稍等。根据您的选择，我会为您挑选一款6.1英寸且分辨率为2K的手机。'}]\n"
     ]
    }
   ],
   "source": [
    "print(messages)"
   ]
  },
  {
   "cell_type": "markdown",
   "id": "35b998b0-3aa7-4690-85c2-c69f01ceffd4",
   "metadata": {},
   "source": [
    "**illufly**"
   ]
  },
  {
   "cell_type": "code",
   "execution_count": 4,
   "id": "a60cb2d5-93b4-4e98-95f9-4faf92ce6c6d",
   "metadata": {},
   "outputs": [
    {
     "name": "stdout",
     "output_type": "stream",
     "text": [
      "模型输出：欢迎光临百炼手机商店，您需要购买什么尺寸的手机呢？\n",
      "\n"
     ]
    },
    {
     "name": "stdout",
     "output_type": "stream",
     "text": [
      "请输入： 6寸？\n"
     ]
    },
    {
     "name": "stdout",
     "output_type": "stream",
     "text": [
      "\u001b[32m我们\u001b[0m\u001b[32m当前\u001b[0m\u001b[32m没有\u001b[0m\u001b[32m6\u001b[0m\u001b[32m英寸的手机屏幕\u001b[0m\u001b[32m尺寸，不过我们\u001b[0m\u001b[32m有6.1\u001b[0m\u001b[32m英寸、6.\u001b[0m\u001b[32m5英寸以及6\u001b[0m\u001b[32m.7英寸的\u001b[0m\u001b[32m手机。您更\u001b[0m\u001b[32m倾向于哪种尺寸呢\u001b[0m\u001b[32m？\u001b[0m\u001b[32m\u001b[0m\n",
      "\n"
     ]
    },
    {
     "name": "stdout",
     "output_type": "stream",
     "text": [
      "请输入： 6.5\n"
     ]
    },
    {
     "name": "stdout",
     "output_type": "stream",
     "text": [
      "\u001b[32m好的\u001b[0m\u001b[32m，\u001b[0m\u001b[32m您\u001b[0m\u001b[32m喜欢\u001b[0m\u001b[32m的是6.5\u001b[0m\u001b[32m英寸的手机。\u001b[0m\u001b[32m接下来，请问您\u001b[0m\u001b[32m对手机的分辨率\u001b[0m\u001b[32m有要求吗？\u001b[0m\u001b[32m比如2K或\u001b[0m\u001b[32m4K？\u001b[0m\u001b[32m\u001b[0m\n",
      "\n"
     ]
    },
    {
     "name": "stdout",
     "output_type": "stream",
     "text": [
      "请输入： 4K吧\n"
     ]
    },
    {
     "name": "stdout",
     "output_type": "stream",
     "text": [
      "\u001b[32m好的，\u001b[0m\u001b[32m您\u001b[0m\u001b[32m选择\u001b[0m\u001b[32m的是6.5\u001b[0m\u001b[32m英寸和4K\u001b[0m\u001b[32m分辨率的手机。\u001b[0m\u001b[32m我已了解您的\u001b[0m\u001b[32m购买意向，请稍\u001b[0m\u001b[32m等。\u001b[0m\u001b[32m\u001b[0m\n",
      "\n"
     ]
    }
   ],
   "source": [
    "from illufly.chat import ChatQwen\n",
    "\n",
    "# 声明\n",
    "qwen = ChatQwen(\n",
    "    model=\"qwen-plus\",\n",
    "    memory=\"\"\"你是一名百炼手机商店的店员，你负责给用户推荐手机。\n",
    "        手机有两个参数：屏幕尺寸（包括6.1英寸、6.5英寸、6.7英寸）、分辨率（包括2K、4K）。\n",
    "        你一次只能向用户提问一个参数。如果用户提供的信息不全，你需要反问他，让他提供没有提供的参数。\n",
    "        如果参数收集完成，你要说：我已了解您的购买意向，请稍等。\"\"\"\n",
    "    )\n",
    "\n",
    "assistant_output = \"欢迎光临百炼手机商店，您需要购买什么尺寸的手机呢？\"\n",
    "print(f\"模型输出：{assistant_output}\\n\")\n",
    "while \"我已了解您的购买意向\" not in assistant_output:\n",
    "    user_input = input(\"请输入：\")\n",
    "\n",
    "    # 调用\n",
    "    assistant_output = qwen(user_input)"
   ]
  },
  {
   "cell_type": "code",
   "execution_count": 5,
   "id": "840b4c16-37fe-497e-98ef-08cdb778b2e1",
   "metadata": {},
   "outputs": [
    {
     "data": {
      "text/plain": [
       "[{'role': 'system',\n",
       "  'content': '你是一名百炼手机商店的店员，你负责给用户推荐手机。\\n        手机有两个参数：屏幕尺寸（包括6.1英寸、6.5英寸、6.7英寸）、分辨率（包括2K、4K）。\\n        你一次只能向用户提问一个参数。如果用户提供的信息不全，你需要反问他，让他提供没有提供的参数。\\n        如果参数收集完成，你要说：我已了解您的购买意向，请稍等。'},\n",
       " {'role': 'user', 'content': '6寸？'},\n",
       " {'role': 'assistant',\n",
       "  'content': '我们当前没有6英寸的手机屏幕尺寸，不过我们有6.1英寸、6.5英寸以及6.7英寸的手机。您更倾向于哪种尺寸呢？'},\n",
       " {'role': 'user', 'content': '6.5'},\n",
       " {'role': 'assistant',\n",
       "  'content': '好的，您喜欢的是6.5英寸的手机。接下来，请问您对手机的分辨率有要求吗？比如2K或4K？'},\n",
       " {'role': 'user', 'content': '4K吧'},\n",
       " {'role': 'assistant', 'content': '好的，您选择的是6.5英寸和4K分辨率的手机。我已了解您的购买意向，请稍等。'}]"
      ]
     },
     "execution_count": 5,
     "metadata": {},
     "output_type": "execute_result"
    }
   ],
   "source": [
    "qwen.memory"
   ]
  },
  {
   "cell_type": "markdown",
   "id": "bc3e4f4e-fc21-46c9-ab03-83c18313a07f",
   "metadata": {},
   "source": [
    "## 工具回调"
   ]
  },
  {
   "cell_type": "markdown",
   "id": "a9ba1c21-97fe-4a91-ac82-332d561831c5",
   "metadata": {},
   "source": [
    "### 代码对比\n",
    "\n",
    "相比于官方SDK，`illufly` 天然支持工具回调，而且简化了工具定义的方法。\n",
    "\n",
    "在下面 `illufly` 的例子中除了工具回调，还支持流输出和多轮对话。\n",
    "\n",
    "**官方例子**"
   ]
  },
  {
   "cell_type": "code",
   "execution_count": 4,
   "id": "99a123b9-304a-4b5f-9e0b-ac81fe928677",
   "metadata": {},
   "outputs": [
    {
     "name": "stdout",
     "output_type": "stream",
     "text": [
      "\n",
      "\n"
     ]
    },
    {
     "name": "stdout",
     "output_type": "stream",
     "text": [
      "请输入： 今天可以晒被子不？\n"
     ]
    },
    {
     "name": "stdout",
     "output_type": "stream",
     "text": [
      "\n",
      "大模型第一轮输出信息：{\"status_code\": 200, \"request_id\": \"c9d445d9-477b-9467-86dd-6d9fb5b3b0bd\", \"code\": \"\", \"message\": \"\", \"output\": {\"text\": null, \"finish_reason\": null, \"choices\": [{\"finish_reason\": \"tool_calls\", \"message\": {\"role\": \"assistant\", \"content\": \"\", \"tool_calls\": [{\"function\": {\"name\": \"get_current_weather\", \"arguments\": \"{\\\"location\\\": \\\"杭州市\\\"}\"}, \"index\": 0, \"id\": \"call_bdab8c159286438a8a37a5\", \"type\": \"function\"}]}}]}, \"usage\": {\"input_tokens\": 222, \"output_tokens\": 18, \"total_tokens\": 240}}\n",
      "\n",
      "工具输出信息：杭州市今天是晴天。 \n",
      "\n",
      "大模型第二轮输出信息：{\"status_code\": 200, \"request_id\": \"647a0e02-1e46-9410-8f2e-14fcfbea4f76\", \"code\": \"\", \"message\": \"\", \"output\": {\"text\": null, \"finish_reason\": null, \"choices\": [{\"finish_reason\": \"stop\", \"message\": {\"role\": \"assistant\", \"content\": \"今天杭州市是晴天，所以可以去晒被子哦！\"}}]}, \"usage\": {\"input_tokens\": 255, \"output_tokens\": 16, \"total_tokens\": 271}}\n",
      "\n",
      "最终答案：今天杭州市是晴天，所以可以去晒被子哦！\n"
     ]
    }
   ],
   "source": [
    "from dashscope import Generation\n",
    "from datetime import datetime\n",
    "import random\n",
    "import json\n",
    "\n",
    "# 定义工具列表，模型在选择使用哪个工具时会参考工具的name和description\n",
    "tools = [\n",
    "    # 工具1 获取当前时刻的时间\n",
    "    {\n",
    "        \"type\": \"function\",\n",
    "        \"function\": {\n",
    "            \"name\": \"get_current_time\",\n",
    "            \"description\": \"当你想知道现在的时间时非常有用。\",\n",
    "            \"parameters\": {}  # 因为获取当前时间无需输入参数，因此parameters为空字典\n",
    "        }\n",
    "    },  \n",
    "    # 工具2 获取指定城市的天气\n",
    "    {\n",
    "        \"type\": \"function\",\n",
    "        \"function\": {\n",
    "            \"name\": \"get_current_weather\",\n",
    "            \"description\": \"当你想查询指定城市的天气时非常有用。\",\n",
    "            \"parameters\": {  \n",
    "                # 查询天气时需要提供位置，因此参数设置为location\n",
    "                \"type\": \"object\",\n",
    "                \"properties\": {\n",
    "                    \"location\": {\n",
    "                        \"type\": \"string\",\n",
    "                        \"description\": \"城市或县区，比如北京市、杭州市、余杭区等。\"\n",
    "                    }\n",
    "                }\n",
    "            },\n",
    "            \"required\": [\n",
    "                \"location\"\n",
    "            ]\n",
    "        }\n",
    "    }\n",
    "]\n",
    "\n",
    "# 模拟天气查询工具。返回结果示例：“北京今天是晴天。”\n",
    "def get_current_weather(location):\n",
    "    return f\"{location}今天是晴天。 \"\n",
    "\n",
    "# 查询当前时间的工具。返回结果示例：“当前时间：2024-04-15 17:15:18。“\n",
    "def get_current_time():\n",
    "    # 获取当前日期和时间\n",
    "    current_datetime = datetime.now()\n",
    "    # 格式化当前日期和时间\n",
    "    formatted_time = current_datetime.strftime('%Y-%m-%d %H:%M:%S')\n",
    "    # 返回格式化后的当前时间\n",
    "    return f\"当前时间：{formatted_time}。\"\n",
    "\n",
    "# 封装模型响应函数\n",
    "def get_response(messages):\n",
    "    response = Generation.call(\n",
    "        model='qwen-plus',\n",
    "        messages=messages,\n",
    "        tools=tools,\n",
    "        seed=random.randint(1, 10000),  # 设置随机数种子seed，如果没有设置，则随机数种子默认为1234\n",
    "        result_format='message'  # 将输出设置为message形式\n",
    "    )\n",
    "    return response\n",
    "\n",
    "def call_with_messages():\n",
    "    print('\\n')\n",
    "    messages = [\n",
    "            {\n",
    "                \"content\": input('请输入：'),  # 提问示例：\"现在几点了？\" \"一个小时后几点\" \"北京天气如何？\"\n",
    "                \"role\": \"user\"\n",
    "            }\n",
    "    ]\n",
    "    \n",
    "    # 模型的第一轮调用\n",
    "    first_response = get_response(messages)\n",
    "    assistant_output = first_response.output.choices[0].message\n",
    "    print(f\"\\n大模型第一轮输出信息：{first_response}\\n\")\n",
    "    messages.append(assistant_output)\n",
    "    if 'tool_calls' not in assistant_output:  # 如果模型判断无需调用工具，则将assistant的回复直接打印出来，无需进行模型的第二轮调用\n",
    "        print(f\"最终答案：{assistant_output.content}\")\n",
    "        return\n",
    "    # 如果模型选择的工具是get_current_weather\n",
    "    elif assistant_output.tool_calls[0]['function']['name'] == 'get_current_weather':\n",
    "        tool_info = {\"name\": \"get_current_weather\", \"role\":\"tool\"}\n",
    "        location = json.loads(assistant_output.tool_calls[0]['function']['arguments'])['location']\n",
    "        tool_info['content'] = get_current_weather(location)\n",
    "    # 如果模型选择的工具是get_current_time\n",
    "    elif assistant_output.tool_calls[0]['function']['name'] == 'get_current_time':\n",
    "        tool_info = {\"name\": \"get_current_time\", \"role\":\"tool\"}\n",
    "        tool_info['content'] = get_current_time()\n",
    "    print(f\"工具输出信息：{tool_info['content']}\\n\")\n",
    "    messages.append(tool_info)\n",
    "\n",
    "    # 模型的第二轮调用，对工具的输出进行总结\n",
    "    second_response = get_response(messages)\n",
    "    print(f\"大模型第二轮输出信息：{second_response}\\n\")\n",
    "    print(f\"最终答案：{second_response.output.choices[0].message['content']}\")\n",
    "\n",
    "call_with_messages()"
   ]
  },
  {
   "cell_type": "markdown",
   "id": "51d1c9b8-0fda-4a7d-8d57-b1a110f6f0a3",
   "metadata": {},
   "source": [
    "**illufly**"
   ]
  },
  {
   "cell_type": "code",
   "execution_count": 1,
   "id": "c8c8df4f-9f28-4f1f-a5be-57cccefc2142",
   "metadata": {},
   "outputs": [
    {
     "name": "stdout",
     "output_type": "stream",
     "text": [
      "请输入： 天气如何\n"
     ]
    },
    {
     "name": "stdout",
     "output_type": "stream",
     "text": [
      "\u001b[32mBeijing今天是晴天。 \u001b[0m\n",
      "\n",
      "\u001b[32m北\u001b[0m\u001b[32m京\u001b[0m\u001b[32m今天是晴天\u001b[0m\u001b[32m。\u001b[0m\u001b[32m\u001b[0m\n",
      "\n"
     ]
    },
    {
     "data": {
      "text/plain": [
       "'北京今天是晴天。'"
      ]
     },
     "execution_count": 1,
     "metadata": {},
     "output_type": "execute_result"
    }
   ],
   "source": [
    "import random\n",
    "from datetime import datetime\n",
    "from illufly.chat import ChatQwen\n",
    "\n",
    "# 声明\n",
    "def get_current_weather(location: str):\n",
    "    \"\"\"当你想查询指定城市的天气时非常有用。\"\"\"\n",
    "    return f\"{location}今天是晴天。 \"\n",
    "\n",
    "# 声明\n",
    "def get_current_time():\n",
    "    \"\"\"当你想知道现在的时间时非常有用。\"\"\"\n",
    "    # 获取当前日期和时间\n",
    "    current_datetime = datetime.now()\n",
    "    # 格式化当前日期和时间\n",
    "    formatted_time = current_datetime.strftime('%Y-%m-%d %H:%M:%S')\n",
    "    # 返回格式化后的当前时间\n",
    "    return f\"当前时间：{formatted_time}。\"\n",
    "\n",
    "# 声明\n",
    "qwen = ChatQwen(\n",
    "    model=\"qwen-plus\",\n",
    "    seed=random.randint(1, 10000),\n",
    "    tools=[get_current_weather, get_current_time]\n",
    ")\n",
    "\n",
    "# 调用\n",
    "qwen([{'role': 'user', 'content': input('请输入：')}], new_chat=True)"
   ]
  },
  {
   "cell_type": "markdown",
   "id": "926ccbaf-d335-4b69-81bd-69a6cbd63b65",
   "metadata": {},
   "source": [
    "**工具回调之后的连续多轮对话：**"
   ]
  },
  {
   "cell_type": "code",
   "execution_count": 2,
   "id": "b434ab9c-ae1d-4537-90b1-4198b19d4320",
   "metadata": {},
   "outputs": [
    {
     "name": "stdout",
     "output_type": "stream",
     "text": [
      "\u001b[32m当前时间：2024-09-28 15:27:51。\u001b[0m\n",
      "\n",
      "\u001b[32m现\u001b[0m\u001b[32m在的时间是2\u001b[0m\u001b[32m024年\u001b[0m\u001b[32m9月28\u001b[0m\u001b[32m日15点\u001b[0m\u001b[32m27分5\u001b[0m\u001b[32m1秒。\u001b[0m\u001b[32m\u001b[0m\n",
      "\n"
     ]
    },
    {
     "data": {
      "text/plain": [
       "'现在的时间是2024年9月28日15点27分51秒。'"
      ]
     },
     "execution_count": 2,
     "metadata": {},
     "output_type": "execute_result"
    }
   ],
   "source": [
    "qwen(\"现在几点了？\")"
   ]
  },
  {
   "cell_type": "code",
   "execution_count": 9,
   "id": "3d780450-d76b-4fb2-832b-3a6a5f3e600e",
   "metadata": {},
   "outputs": [
    {
     "name": "stdout",
     "output_type": "stream",
     "text": [
      "\u001b[32m您之前\u001b[0m\u001b[32m询问\u001b[0m\u001b[32m了\u001b[0m\u001b[32m北京的天气。\u001b[0m\u001b[32m\u001b[0m\u001b[32m\u001b[0m\n",
      "\n"
     ]
    },
    {
     "data": {
      "text/plain": [
       "'您之前询问了北京的天气。'"
      ]
     },
     "execution_count": 9,
     "metadata": {},
     "output_type": "execute_result"
    }
   ],
   "source": [
    "qwen(\"我之前问过哪里的天气?\")"
   ]
  },
  {
   "cell_type": "markdown",
   "id": "41298daf-6dd3-45ea-92a1-2ccea0a4567a",
   "metadata": {},
   "source": [
    "## 流式输出"
   ]
  },
  {
   "cell_type": "markdown",
   "id": "cbe8c696-805e-4129-b1aa-0116cf7c38c5",
   "metadata": {},
   "source": [
    "### 代码对比\n",
    "\n",
    "相比于官方SDK，`illufly` 天然支持流式输出，但用起来非常简洁。<br>\n",
    "实际上在 `ChatQwen` 内部修改了 `result_format='message'`、`stream=True`和`incremental_output=True` 等参数的默认值。\n",
    "\n",
    "**官方例子**"
   ]
  },
  {
   "cell_type": "code",
   "execution_count": 15,
   "id": "49dc055d-e17e-4a66-8557-14dcaed2e471",
   "metadata": {},
   "outputs": [
    {
     "name": "stdout",
     "output_type": "stream",
     "text": [
      "{\"status_code\": 200, \"request_id\": \"8b2df512-aee6-9cc8-adc6-6c75f7f10815\", \"code\": \"\", \"message\": \"\", \"output\": {\"text\": null, \"finish_reason\": null, \"choices\": [{\"finish_reason\": \"null\", \"message\": {\"role\": \"assistant\", \"content\": \"我是\"}}]}, \"usage\": {\"input_tokens\": 21, \"output_tokens\": 1, \"total_tokens\": 22}}\n",
      "{\"status_code\": 200, \"request_id\": \"8b2df512-aee6-9cc8-adc6-6c75f7f10815\", \"code\": \"\", \"message\": \"\", \"output\": {\"text\": null, \"finish_reason\": null, \"choices\": [{\"finish_reason\": \"null\", \"message\": {\"role\": \"assistant\", \"content\": \"来自\"}}]}, \"usage\": {\"input_tokens\": 21, \"output_tokens\": 2, \"total_tokens\": 23}}\n",
      "{\"status_code\": 200, \"request_id\": \"8b2df512-aee6-9cc8-adc6-6c75f7f10815\", \"code\": \"\", \"message\": \"\", \"output\": {\"text\": null, \"finish_reason\": null, \"choices\": [{\"finish_reason\": \"null\", \"message\": {\"role\": \"assistant\", \"content\": \"阿里\"}}]}, \"usage\": {\"input_tokens\": 21, \"output_tokens\": 3, \"total_tokens\": 24}}\n",
      "{\"status_code\": 200, \"request_id\": \"8b2df512-aee6-9cc8-adc6-6c75f7f10815\", \"code\": \"\", \"message\": \"\", \"output\": {\"text\": null, \"finish_reason\": null, \"choices\": [{\"finish_reason\": \"null\", \"message\": {\"role\": \"assistant\", \"content\": \"云\"}}]}, \"usage\": {\"input_tokens\": 21, \"output_tokens\": 4, \"total_tokens\": 25}}\n",
      "{\"status_code\": 200, \"request_id\": \"8b2df512-aee6-9cc8-adc6-6c75f7f10815\", \"code\": \"\", \"message\": \"\", \"output\": {\"text\": null, \"finish_reason\": null, \"choices\": [{\"finish_reason\": \"null\", \"message\": {\"role\": \"assistant\", \"content\": \"的大规模语言模型\"}}]}, \"usage\": {\"input_tokens\": 21, \"output_tokens\": 8, \"total_tokens\": 29}}\n",
      "{\"status_code\": 200, \"request_id\": \"8b2df512-aee6-9cc8-adc6-6c75f7f10815\", \"code\": \"\", \"message\": \"\", \"output\": {\"text\": null, \"finish_reason\": null, \"choices\": [{\"finish_reason\": \"null\", \"message\": {\"role\": \"assistant\", \"content\": \"，我叫通\"}}]}, \"usage\": {\"input_tokens\": 21, \"output_tokens\": 12, \"total_tokens\": 33}}\n",
      "{\"status_code\": 200, \"request_id\": \"8b2df512-aee6-9cc8-adc6-6c75f7f10815\", \"code\": \"\", \"message\": \"\", \"output\": {\"text\": null, \"finish_reason\": null, \"choices\": [{\"finish_reason\": \"null\", \"message\": {\"role\": \"assistant\", \"content\": \"义千问。\"}}]}, \"usage\": {\"input_tokens\": 21, \"output_tokens\": 16, \"total_tokens\": 37}}\n",
      "{\"status_code\": 200, \"request_id\": \"8b2df512-aee6-9cc8-adc6-6c75f7f10815\", \"code\": \"\", \"message\": \"\", \"output\": {\"text\": null, \"finish_reason\": null, \"choices\": [{\"finish_reason\": \"stop\", \"message\": {\"role\": \"assistant\", \"content\": \"\"}}]}, \"usage\": {\"input_tokens\": 21, \"output_tokens\": 16, \"total_tokens\": 37}}\n",
      "Full content:我是来自阿里云的大规模语言模型，我叫通义千问。\n"
     ]
    }
   ],
   "source": [
    "from http import HTTPStatus\n",
    "from dashscope import Generation\n",
    "\n",
    "\n",
    "def call_with_stream():\n",
    "    messages = [\n",
    "        {'role':'system','content':'you are a helpful assistant'},\n",
    "        {'role': 'user','content': '你是谁？'}\n",
    "        ]\n",
    "    responses = Generation.call(\n",
    "        model=\"qwen-plus\",\n",
    "        messages=messages,\n",
    "        # 设置输出为'message'格式\n",
    "        result_format='message',\n",
    "        # 设置输出方式为流式输出\n",
    "        stream=True,\n",
    "        # 增量式流式输出\n",
    "        incremental_output=True\n",
    "        )\n",
    "    full_content = \"\"\n",
    "    for response in responses:\n",
    "        if response.status_code == HTTPStatus.OK:\n",
    "            print(response)\n",
    "            full_content += response.output.choices[0].message.content\n",
    "        else:\n",
    "            print('Request id: %s, Status code: %s, error code: %s, error message: %s' % (\n",
    "                response.request_id, response.status_code,\n",
    "                response.code, response.message\n",
    "            ))\n",
    "    print(f\"Full content:{full_content}\")\n",
    "\n",
    "call_with_stream()"
   ]
  },
  {
   "cell_type": "markdown",
   "id": "e4130406-0856-4430-bfcf-b8952777dae8",
   "metadata": {},
   "source": [
    "**illufly**"
   ]
  },
  {
   "cell_type": "code",
   "execution_count": 3,
   "id": "10cedaee-3c6a-4e19-b21a-2d83d78edcb0",
   "metadata": {},
   "outputs": [
    {
     "name": "stdout",
     "output_type": "stream",
     "text": [
      "\u001b[32m我是\u001b[0m\u001b[32m来自\u001b[0m\u001b[32m阿里\u001b[0m\u001b[32m云\u001b[0m\u001b[32m的大规模语言模型\u001b[0m\u001b[32m，我叫通\u001b[0m\u001b[32m义千问。\u001b[0m\u001b[32m\u001b[0m\n",
      "\n",
      "  1s [USAGE] \u001b[34m{\"input_tokens\": 21, \"output_tokens\": 16, \"total_tokens\": 37}\u001b[0m\n"
     ]
    },
    {
     "data": {
      "text/plain": [
       "'我是来自阿里云的大规模语言模型，我叫通义千问。'"
      ]
     },
     "execution_count": 3,
     "metadata": {},
     "output_type": "execute_result"
    }
   ],
   "source": [
    "from illufly.chat import ChatQwen\n",
    "\n",
    "# 声明\n",
    "qwen = ChatQwen(model=\"qwen-plus\")\n",
    "\n",
    "# 调用\n",
    "qwen([\n",
    "    {'role': 'system', 'content': 'You are a helpful assistant'},\n",
    "    {'role': 'user', 'content': '你是谁？'}\n",
    "], verbose=True, new_chat=True)"
   ]
  },
  {
   "cell_type": "markdown",
   "id": "f05db346-a74d-4591-aa03-0f452c41fc6a",
   "metadata": {},
   "source": [
    "## 知识管理"
   ]
  },
  {
   "cell_type": "markdown",
   "id": "42f05749-f9d7-4dd9-af9a-386e227c5ad8",
   "metadata": {},
   "source": [
    "## RAG 检索"
   ]
  },
  {
   "cell_type": "markdown",
   "id": "c5c1f80c-fb49-46a4-8cad-a062f03d996e",
   "metadata": {},
   "source": [
    "## 记忆优化"
   ]
  },
  {
   "cell_type": "markdown",
   "id": "030e2399-0a11-433c-9e36-13a2321a0fc9",
   "metadata": {},
   "source": [
    "## 多智能体"
   ]
  },
  {
   "cell_type": "code",
   "execution_count": null,
   "id": "cfc73a9a-e5eb-47f4-bf3e-e7c497b19bd8",
   "metadata": {},
   "outputs": [],
   "source": []
  }
 ],
 "metadata": {
  "kernelspec": {
   "display_name": "textlong-same-ipykernel",
   "language": "python",
   "name": "textlong-same-ipykernel"
  },
  "language_info": {
   "codemirror_mode": {
    "name": "ipython",
    "version": 3
   },
   "file_extension": ".py",
   "mimetype": "text/x-python",
   "name": "python",
   "nbconvert_exporter": "python",
   "pygments_lexer": "ipython3",
   "version": "3.10.0"
  }
 },
 "nbformat": 4,
 "nbformat_minor": 5
}
