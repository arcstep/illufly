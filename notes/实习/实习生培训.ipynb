{
    "cells": [
        {
            "cell_type": "code",
            "execution_count": 1,
            "id": "aa1e891e-d70d-4da3-adc6-b606fdb1e6b6",
            "metadata": {},
            "outputs": [],
            "source": [
                "import os\n",
                "\n",
                "from langchain_openai import ChatOpenAI\n",
                "# from langchain_community.llms import Tongyi\n",
                "from langchain_zhipu import ChatZhipuAI\n",
                "from illufly.project import WritingProject\n",
                "from illufly.exporter.pptx import export_pptx\n",
                "\n",
                "openai = WritingProject(\n",
                "    project_id=\"PPT\",\n",
                "    llm=ChatZhipuAI(model_name=\"gpt-4\")\n",
                ")\n",
                "\n",
                "zhipu = WritingProject(\n",
                "    project_id=\"PPT\",\n",
                "    llm=ChatZhipuAI()\n",
                ")"
            ]
        },
        {
            "cell_type": "code",
            "execution_count": null,
            "id": "c88bf38b-ba36-4eed-a9ce-066cdb553480",
            "metadata": {},
            "outputs": [],
            "source": [
                "zhipu.idea(\"帮我生成一份PPT提纲\", completed=\"实习要求.md\", output_file=\"实习PPT.md\")"
            ]
        },
        {
            "cell_type": "code",
            "execution_count": 7,
            "id": "33ed0f36-1f32-41d4-a14a-49152dc5bc71",
            "metadata": {},
            "outputs": [],
            "source": [
                "from illufly.importer import load_markdown\n",
                "from pptx import Presentation\n",
                "from pptx.util import Inches, Pt\n",
                "\n",
                "md_old = load_markdown(\"PPT/实习PPT.md\")\n",
                "old_docs = md_old.documents\n",
                "m, segments = md_old.get_todo_documents(\"segment\")"
            ]
        },
        {
            "cell_type": "code",
            "execution_count": 8,
            "id": "bfd00845-935e-4d3f-82a3-2c1a0df0821e",
            "metadata": {},
            "outputs": [
                {
                    "data": {
                        "text/plain": [
                            "Document(page_content='', metadata={'modified_at': '2024-07-08 19:39:13', 'output_file': '实习PPT.md', 'command': 'stream', 'args': {'task': '帮我生成一份PPT提纲', 'completed': '实习要求.md', 'sep_mode': 'all', 'prompt_id': 'IDEA', 'tag_start': '```', 'tag_end': '```', 'base_folder': './PPT'}, 'id': '0664-440-000', 'type': 'front_matter'})"
                        ]
                    },
                    "execution_count": 8,
                    "metadata": {},
                    "output_type": "execute_result"
                }
            ],
            "source": [
                "old_docs[0]"
            ]
        },
        {
            "cell_type": "code",
            "execution_count": 9,
            "id": "7c21bdad-5293-4954-8daf-fb5296f79cb8",
            "metadata": {},
            "outputs": [
                {
                    "data": {
                        "text/plain": [
                            "[(Document(page_content='', metadata={'modified_at': '2024-07-08 19:39:13', 'output_file': '实习PPT.md', 'command': 'stream', 'args': {'task': '帮我生成一份PPT提纲', 'completed': '实习要求.md', 'sep_mode': 'all', 'prompt_id': 'IDEA', 'tag_start': '```', 'tag_end': '```', 'base_folder': './PPT'}, 'id': '0664-440-000', 'type': 'front_matter'}),\n",
                            "  0),\n",
                            " (Document(page_content='\\n', metadata={'type': 'blank_line', 'id': '0664-448-001'}),\n",
                            "  1)]"
                        ]
                    },
                    "execution_count": 9,
                    "metadata": {},
                    "output_type": "execute_result"
                }
            ],
            "source": [
                "segments[0]"
            ]
        },
        {
            "cell_type": "code",
            "execution_count": null,
            "id": "2478175d-7344-4191-84bc-761ef555b914",
            "metadata": {},
            "outputs": [],
            "source": [
                "prs = Presentation()\n",
                "\n",
                "for doc, index in segments:\n",
                "    slide_layout = prs.slide_layouts[1]  # 0是标题幻灯片，1是标题和内容\n",
                "    slide = prs.slides.add_slide(slide_layout)\n",
                "\n",
                "    if last_index != None:\n",
                "        md = \"\\n\"\n",
                "        output_text += md\n",
                "        yield TextChunk('text', md)\n",
                "    if old_docs.documents[last_index:index]:\n",
                "        md = MarkdownLoader.to_markdown(old_docs.documents[last_index:index])\n",
                "        output_text += md\n",
                "        yield TextChunk('text', md)\n",
                "\n",
                "    last_index = index + 1\n",
                "    \n",
                "    if doc.page_content and doc.page_content.strip():\n",
                "        _kwargs = {\n",
                "            \"knowledge__\": kg_doc,\n",
                "            \"todo_doc__\": doc.page_content,\n",
                "            \"prev_doc__\": MarkdownLoader.to_markdown(new_docs.get_prev_documents(doc, prev_k)),\n",
                "            \"next_doc__\": MarkdownLoader.to_markdown(new_docs.get_next_documents(doc, next_k)),\n",
                "            \"history\": \"\",\n",
                "            **kwargs\n",
                "        }\n",
                "        chain = _create_chain(llm, prompt, **_kwargs)\n",
                "\n",
                "        resp_md = \"\"\n",
                "        for chunk in _call_markdown_chain(chain, {\"task\": task}, is_fake, verbose):\n",
                "            if chunk.mode == 'chunk':\n",
                "                resp_md += chunk.content\n",
                "            yield chunk\n",
                "\n",
                "        final_md = extract_text(resp_md, tag_start, tag_end)\n",
                "        to_insert = new_docs.replace_documents(doc, doc, final_md)\n",
                "        final_md_strip = MarkdownLoader.to_markdown(to_insert).strip()\n",
                "\n",
                "        output_text += final_md_strip\n",
                "        yield TextChunk('final', final_md_strip)\n",
                "\n",
                "    else:\n",
                "        # 如果内容是空行就不再处理\n",
                "        output_text += doc.page_content\n",
                "        yield TextChunk('text', doc.page_content)\n",
                "\n",
                "if old_docs.documents[last_index:None]:\n",
                "    md = MarkdownLoader.to_markdown(old_docs.documents[last_index:None])\n",
                "    output_text += md\n",
                "    yield TextChunk('text', md)\n",
                "\n",
                "for docs, index in segments:\n",
                "    slide_layout = prs.slide_layouts[1]  # 0是标题幻灯片，1是标题和内容\n",
                "    slide = prs.slides.add_slide(slide_layout)\n",
                "    title_set = False\n",
                "\n",
                "    for doc in docs:\n",
                "        print('type >>', doc.metadata['type'])\n",
                "        if doc.metadata['type'] in ['front-matter', 'blank_line']:\n",
                "            continue\n",
                "\n",
                "        if old_docs.documents[last_index:index]:\n",
                "            md = MarkdownLoader.to_markdown(old_docs.documents[last_index:index])\n",
                "\n",
                "        if doc.metadata['type'] == 'heading':\n",
                "            title = slide.shapes.title\n",
                "            title.text = doc.page_content\n",
                "            title_set = True\n",
                "            \n",
                "            print(\"heading >>\", doc.page_content)\n",
                "        elif doc.page_content:\n",
                "            if not title_set:  # 如果还没有设置标题，使用第一个内容作为标题\n",
                "                title = slide.shapes.title\n",
                "                title.text = doc.page_content\n",
                "                title_set = True\n",
                "\n",
                "                print(\"not title set >>\", doc.page_content)\n",
                "            else:\n",
                "                content_placeholder = slide.placeholders[1]\n",
                "                content_text_frame = content_placeholder.text_frame\n",
                "                if content_text_frame.text:  # 如果已经有文本，添加新行\n",
                "                    content_text_frame.add_paragraph().text = doc.page_content\n",
                "                else:  # 如果没有文本，直接设置文本\n",
                "                    content_text_frame.text = doc.page_content\n",
                "            \n",
                "                print(\"text >>\", doc.page_content)\n",
                "                print(doc.page_content)\n"
            ]
        },
        {
            "cell_type": "code",
            "execution_count": null,
            "id": "b497e3db-45a4-42dd-9b21-d55fe9935097",
            "metadata": {},
            "outputs": [],
            "source": [
                "len(prs.slides)"
            ]
        },
        {
            "cell_type": "code",
            "execution_count": null,
            "id": "67e0eeb9-91b6-4fd4-8de3-1e9d87b3e9c5",
            "metadata": {},
            "outputs": [],
            "source": [
                "%pwd"
            ]
        },
        {
            "cell_type": "code",
            "execution_count": null,
            "id": "a8bac978-6f09-426b-9b5d-f8fcc5bceb95",
            "metadata": {},
            "outputs": [],
            "source": [
                "export_pptx(\"PPT/实习PPT.md\")"
            ]
        },
        {
            "cell_type": "code",
            "execution_count": null,
            "id": "9f1c5698-799d-4ef8-9089-08fa80837fa9",
            "metadata": {},
            "outputs": [],
            "source": []
        }
    ],
    "metadata": {
        "kernelspec": {
            "display_name": "illufly-same-ipykernel",
            "language": "python",
            "name": "illufly-same-ipykernel"
        },
        "language_info": {
            "codemirror_mode": {
                "name": "ipython",
                "version": 3
            },
            "file_extension": ".py",
            "mimetype": "text/x-python",
            "name": "python",
            "nbconvert_exporter": "python",
            "pygments_lexer": "ipython3",
            "version": "3.10.0"
        }
    },
    "nbformat": 4,
    "nbformat_minor": 5
}