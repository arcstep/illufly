{
    "cells": [
        {
            "cell_type": "markdown",
            "id": "40a245d6-e7ea-4be6-9f57-d9677554ccfa",
            "metadata": {},
            "source": [
                "# 智能体框架"
            ]
        },
        {
            "cell_type": "markdown",
            "id": "7533300d-21cd-4d94-a8ef-650cea271667",
            "metadata": {},
            "source": [
                "## 基本概念"
            ]
        },
        {
            "cell_type": "markdown",
            "id": "1945c309-e566-484a-9ad5-8f43c33f429f",
            "metadata": {},
            "source": [
                "### 同步调用和流输出"
            ]
        },
        {
            "cell_type": "markdown",
            "id": "631f23f3-ed94-4ccc-94d7-13d0be9c6970",
            "metadata": {},
            "source": [
                "illufly 默认采用流输出的方式，无论在单个智能体中，还是嵌套的多智能体结构中。<br>\n",
                "配合 log 函数就可以实现流打印。"
            ]
        },
        {
            "cell_type": "code",
            "execution_count": 1,
            "id": "2c0c097f-6a30-47fb-bbb9-5658e38ec6f8",
            "metadata": {},
            "outputs": [
                {
                    "name": "stdout",
                    "output_type": "stream",
                    "text": [
                        "\u001b[32m这\u001b[0m\u001b[32m是\u001b[0m\u001b[32m一个\u001b[0m\u001b[32m模拟\u001b[0m\u001b[32m调用\u001b[0m\u001b[32m!\u001b[0m\n",
                        "\n"
                    ]
                },
                {
                    "data": {
                        "text/plain": [
                            "'这是一个模拟调用!'"
                        ]
                    },
                    "execution_count": 1,
                    "metadata": {},
                    "output_type": "execute_result"
                }
            ],
            "source": [
                "from illufly.chat import FakeLLM\n",
                "from illufly.io import log\n",
                "\n",
                "log(FakeLLM(), \"hi\")"
            ]
        },
        {
            "cell_type": "markdown",
            "id": "6b178ac3-ee24-484d-9f3e-2ae8a5153468",
            "metadata": {},
            "source": [
                "### 异步调用和流输出"
            ]
        },
        {
            "cell_type": "code",
            "execution_count": 2,
            "id": "ff781830-aff0-45fb-a755-978a1e80d1f1",
            "metadata": {},
            "outputs": [
                {
                    "name": "stdout",
                    "output_type": "stream",
                    "text": [
                        "\u001b[32m这\u001b[0m\u001b[32m是\u001b[0m\u001b[32m一个\u001b[0m\u001b[32m模拟\u001b[0m\u001b[32m调用\u001b[0m\u001b[32m!\u001b[0m\n",
                        "\n"
                    ]
                },
                {
                    "data": {
                        "text/plain": [
                            "'这是一个模拟调用!'"
                        ]
                    },
                    "execution_count": 2,
                    "metadata": {},
                    "output_type": "execute_result"
                }
            ],
            "source": [
                "from illufly.chat import FakeLLM\n",
                "from illufly.io import alog\n",
                "\n",
                "await alog(FakeLLM(), \"hi\", sleep=1)"
            ]
        },
        {
            "cell_type": "markdown",
            "id": "3d40ef16-4288-4614-a9a5-78a7bac9ad2a",
            "metadata": {},
            "source": [
                "观察线程池情况："
            ]
        },
        {
            "cell_type": "code",
            "execution_count": 3,
            "id": "f544bf67-86e4-439c-87f5-1c30b18578a6",
            "metadata": {},
            "outputs": [
                {
                    "data": {
                        "text/plain": [
                            "{'FAKE_LLM': {'max_workers': 5, 'used_workers': 1, 'waiting_threads': 0}}"
                        ]
                    },
                    "execution_count": 3,
                    "metadata": {},
                    "output_type": "execute_result"
                }
            ],
            "source": [
                "FakeLLM.monitor_executors()"
            ]
        },
        {
            "cell_type": "markdown",
            "id": "3edfcda5-3131-4e85-88a0-40eaf435eede",
            "metadata": {},
            "source": [
                "### 绑定"
            ]
        },
        {
            "cell_type": "markdown",
            "id": "9f8ad7bc-e0c8-4ac1-b395-7c3a725f04e5",
            "metadata": {},
            "source": [
                "使用绑定变量实现跨智能体变量传递。<br>\n",
                "这是 Runnable 子类的实例对象多有的统一规格。<br>\n",
                "\n",
                "obj.desk 是一个只读属性，可以访问绑定变量的字典，字典中的键值主要包括：\n",
                "\n",
                "| 变量       | 生命周期       | 详细说明 |\n",
                "|:----------|:-------------:|:---------------------------------------------------------|\n",
                "| knowledge | 可手工维护    | 用于检索增强，添加方法 add_knowledge(knowledge: List[str])    |\n",
                "| data      | 可手工维护    | 用于数据分析，添加执行方法 add_data(data: pandas.DataFrame)    |\n",
                "| task      | 运行时修改    | 提问或输入，大模型调用开始自动修改                |\n",
                "| output    | 运行时修改    | 结果或输出，大模型调用结束自动修改                |\n",
                "| draft     | 运行时修改    | 写作任务中已完成的草稿，例如扩写任务中自动修改      |\n",
                "| outline   | 运行时修改    | 扩写提纲，在扩写任务中自动生成                   |\n",
                "| state     | 定制时使用    | 以上不够用时，建议使用state字典来定制状态数据      |\n"
            ]
        },
        {
            "cell_type": "markdown",
            "id": "a4c38655-cc76-4e44-bd66-0429974d266f",
            "metadata": {},
            "source": [
                "### 从绑定读取数据到输入"
            ]
        },
        {
            "cell_type": "markdown",
            "id": "034d3fb4-7bbb-4449-814e-b2dc1e1322af",
            "metadata": {},
            "source": [
                "### 在初始化时使用Template"
            ]
        },
        {
            "cell_type": "markdown",
            "id": "5db8f1ce-6c21-4ae6-a3b1-8134f1cae113",
            "metadata": {},
            "source": [
                "**如果列表中是 Template 实例，就判定为 role 为 system 类型：**"
            ]
        },
        {
            "cell_type": "code",
            "execution_count": 1,
            "id": "1ffd526b-a8cc-46ad-bb18-b55cba2f84a0",
            "metadata": {},
            "outputs": [],
            "source": [
                "from illufly.chat import ChatQwen\n",
                "from illufly.types import Template"
            ]
        },
        {
            "cell_type": "code",
            "execution_count": 2,
            "id": "07e94733-41a3-4710-8eb3-cd58c85f4261",
            "metadata": {},
            "outputs": [
                {
                    "name": "stdout",
                    "output_type": "stream",
                    "text": [
                        "new_chat\n",
                        "self.task 给我讲个笑话\n",
                        "\u001b[32m当然\u001b[0m\u001b[32m，\u001b[0m\u001b[32m这里\u001b[0m\u001b[32m有一个笑话供您欣赏\u001b[0m\u001b[32m：\n",
                        "\n",
                        "为什么袜子总是只丢一只\u001b[0m\u001b[32m？因为丢两只根本就不会发现。\u001b[0m\u001b[32m\u001b[0m\n",
                        "\n"
                    ]
                },
                {
                    "data": {
                        "text/plain": [
                            "[{'role': 'system',\n",
                            "  'content': '你是强大的写作助手。\\n\\n你必须遵循以下约束来完成任务:\\n1. 直接输出你的结果，不要评论，不要啰嗦\\n2. 使用markdown格式输出\\n\\n**你的任务是:**\\n给我讲个笑话\\n'},\n",
                            " {'role': 'user', 'content': '请你开始'},\n",
                            " {'role': 'assistant',\n",
                            "  'content': '当然，这里有一个笑话供您欣赏：\\n\\n为什么袜子总是只丢一只？因为丢两只根本就不会发现。'}]"
                        ]
                    },
                    "execution_count": 2,
                    "metadata": {},
                    "output_type": "execute_result"
                }
            ],
            "source": [
                "a = ChatQwen(memory=[Template(\"IDEA\"), \"请你开始\"])\n",
                "a(\"给我讲个笑话\")\n",
                "a.memory"
            ]
        },
        {
            "cell_type": "code",
            "execution_count": 3,
            "id": "fdd6c8fd-09b3-4627-8f9d-a3d7d4cf6e38",
            "metadata": {},
            "outputs": [
                {
                    "data": {
                        "text/plain": [
                            "{'last_input': None,\n",
                            " 'last_output': '当然，这里有一个笑话供您欣赏：\\n\\n为什么袜子总是只丢一只？因为丢两只根本就不会发现。',\n",
                            " 'task': '给我讲个笑话'}"
                        ]
                    },
                    "execution_count": 3,
                    "metadata": {},
                    "output_type": "execute_result"
                }
            ],
            "source": [
                "a.exported_vars"
            ]
        },
        {
            "cell_type": "code",
            "execution_count": 4,
            "id": "5ee3de44-fd1a-4ef3-b3c0-50cf1ae97e5d",
            "metadata": {},
            "outputs": [
                {
                    "data": {
                        "text/plain": [
                            "{'task'}"
                        ]
                    },
                    "execution_count": 4,
                    "metadata": {},
                    "output_type": "execute_result"
                }
            ],
            "source": [
                "a.bound_vars"
            ]
        },
        {
            "cell_type": "code",
            "execution_count": 3,
            "id": "a788c1a4-9984-425d-9892-1d763f88175b",
            "metadata": {},
            "outputs": [
                {
                    "data": {
                        "text/plain": [
                            "[]"
                        ]
                    },
                    "execution_count": 3,
                    "metadata": {},
                    "output_type": "execute_result"
                }
            ],
            "source": [
                "# 上面的是语法糖，这里是被转换后的形式\n",
                "b = ChatQwen(\n",
                "    memory=[\n",
                "        {\"role\": \"system\", \"content\": Template(\"IDEA\")},\n",
                "        {\"role\": \"user\", \"content\": \"请你开始\"}\n",
                "    ]\n",
                ")\n",
                "b.memory"
            ]
        },
        {
            "cell_type": "markdown",
            "id": "775428d9-2f4c-41e6-8c03-795ee90db63b",
            "metadata": {},
            "source": [
                "**如果提示语模板中包含的变量与绑定中的名称不同，可以在初始化时指定映射规则：**"
            ]
        },
        {
            "cell_type": "code",
            "execution_count": 4,
            "id": "fa38b359-57f4-4147-a30f-5b1f58c02686",
            "metadata": {},
            "outputs": [
                {
                    "data": {
                        "text/plain": [
                            "<illufly.community.dashscope.qwen.ChatQwen at 0x11d11bf70>"
                        ]
                    },
                    "execution_count": 4,
                    "metadata": {},
                    "output_type": "execute_result"
                }
            ],
            "source": [
                "ChatQwen(\n",
                "    # task 是模板中的变量名，prompt 是宿主绑定中的变量名\n",
                "    memory=[Template(\"IDEA\", input_mapping={\"task\": \"prompt\"})]\n",
                ")"
            ]
        },
        {
            "cell_type": "markdown",
            "id": "0c289dfb-a02b-49bd-9bff-158f1c81b49d",
            "metadata": {},
            "source": [
                "**对于消息列表中的Template，在调用时从绑定动态填充数据：**"
            ]
        },
        {
            "cell_type": "code",
            "execution_count": 5,
            "id": "c4f88ca3-ed82-4a93-8643-0dc07199bb39",
            "metadata": {},
            "outputs": [
                {
                    "data": {
                        "text/plain": [
                            "<illufly.community.dashscope.qwen.ChatQwen at 0x10d2c59c0>"
                        ]
                    },
                    "execution_count": 5,
                    "metadata": {},
                    "output_type": "execute_result"
                }
            ],
            "source": [
                "ChatQwen(\n",
                "    memory=[Template(\"IDEA\")]\n",
                ")"
            ]
        },
        {
            "cell_type": "markdown",
            "id": "1e8b4e98-6f08-45f1-a326-b24686c299ff",
            "metadata": {},
            "source": [
                "## 智能体：直调大模型"
            ]
        },
        {
            "cell_type": "markdown",
            "id": "12b0bb63-5efe-4e79-a8c6-12ad0eb39d35",
            "metadata": {},
            "source": [
                "### 对话"
            ]
        },
        {
            "cell_type": "code",
            "execution_count": 1,
            "id": "cd7e0d2d-fb9d-4992-9045-3dc602fd346e",
            "metadata": {},
            "outputs": [
                {
                    "name": "stdout",
                    "output_type": "stream",
                    "text": [
                        "\u001b[32m小\u001b[0m\u001b[32m兔子\u001b[0m\u001b[32m，\u001b[0m\u001b[32m梦中跳，  \n",
                        "\u001b[0m\u001b[32m胡萝卜，满天空飘。  \n",
                        "月亮\u001b[0m\u001b[32m船，载它游，  \n",
                        "梦\u001b[0m\u001b[32m里笑，乐悠悠。\u001b[0m\u001b[32m\u001b[0m\n",
                        "\n"
                    ]
                },
                {
                    "data": {
                        "text/plain": [
                            "[{'role': 'user', 'content': '你能帮我写一首关于兔子做梦的四句儿歌?'},\n",
                            " {'role': 'assistant',\n",
                            "  'content': '小兔子，梦中跳，  \\n胡萝卜，满天空飘。  \\n月亮船，载它游，  \\n梦里笑，乐悠悠。'}]"
                        ]
                    },
                    "execution_count": 1,
                    "metadata": {},
                    "output_type": "execute_result"
                }
            ],
            "source": [
                "from illufly.chat import ChatQwen\n",
                "\n",
                "qwen = ChatQwen()\n",
                "qwen(\"你能帮我写一首关于兔子做梦的四句儿歌?\")\n",
                "qwen.memory"
            ]
        },
        {
            "cell_type": "markdown",
            "id": "7dc286da-5819-419b-b523-8ec3391ae7b6",
            "metadata": {},
            "source": [
                "### 使用系统提示语"
            ]
        },
        {
            "cell_type": "code",
            "execution_count": 2,
            "id": "8c70c16a-77a4-44f5-865a-b4dea7858496",
            "metadata": {},
            "outputs": [
                {
                    "name": "stdout",
                    "output_type": "stream",
                    "text": [
                        "\u001b[32m小白\u001b[0m\u001b[32m兔\u001b[0m\u001b[32m，\u001b[0m\u001b[32m蹦蹦跳，  \n",
                        "\u001b[0m\u001b[32m耳朵长，尾巴小。  \n",
                        "爱吃\u001b[0m\u001b[32m萝卜和青菜，  \n",
                        "快乐生活在\u001b[0m\u001b[32m林梢。\u001b[0m\u001b[32m\u001b[0m\n",
                        "\n"
                    ]
                },
                {
                    "data": {
                        "text/plain": [
                            "[{'role': 'system', 'content': '你是一个专门写儿歌的作家，请根据我的提示写作。'},\n",
                            " {'role': 'user', 'content': '来一首关于兔子的，四句'},\n",
                            " {'role': 'assistant',\n",
                            "  'content': '小白兔，蹦蹦跳，  \\n耳朵长，尾巴小。  \\n爱吃萝卜和青菜，  \\n快乐生活在林梢。'}]"
                        ]
                    },
                    "execution_count": 2,
                    "metadata": {},
                    "output_type": "execute_result"
                }
            ],
            "source": [
                "from illufly.chat import ChatQwen\n",
                "\n",
                "qwen = ChatQwen(memory=[\"你是一个专门写儿歌的作家，请根据我的提示写作。\"])\n",
                "qwen(\"来一首关于兔子的，四句\")\n",
                "qwen.memory"
            ]
        },
        {
            "cell_type": "code",
            "execution_count": 3,
            "id": "95608296-7a81-4419-bd5b-9807374da256",
            "metadata": {},
            "outputs": [
                {
                    "data": {
                        "text/plain": [
                            "[{'role': 'system', 'content': '你是一个专门写儿歌的作家，请根据我的提示写作。'},\n",
                            " {'role': 'user', 'content': '来一首关于兔子的，四句'},\n",
                            " {'role': 'assistant',\n",
                            "  'content': '小白兔，蹦蹦跳，  \\n耳朵长，尾巴小。  \\n爱吃萝卜和青菜，  \\n快乐生活在林梢。'}]"
                        ]
                    },
                    "execution_count": 3,
                    "metadata": {},
                    "output_type": "execute_result"
                }
            ],
            "source": [
                "qwen.memory"
            ]
        },
        {
            "cell_type": "code",
            "execution_count": 4,
            "id": "f7a6a58f-03a2-4cd0-afb8-45baad1d37b1",
            "metadata": {},
            "outputs": [
                {
                    "name": "stdout",
                    "output_type": "stream",
                    "text": [
                        "\u001b[32m小\u001b[0m\u001b[32m兔子\u001b[0m\u001b[32m白\u001b[0m\u001b[32m又白，耳朵长长\u001b[0m\u001b[32m蹦蹦跳。\n",
                        "爱吃萝卜和青\u001b[0m\u001b[32m菜，月光下蹦跶真\u001b[0m\u001b[32m快乐。\u001b[0m\u001b[32m\u001b[0m\n",
                        "\n"
                    ]
                },
                {
                    "data": {
                        "text/plain": [
                            "[{'role': 'system', 'content': '你是一个专门写儿歌的作家，请根据我的提示写作。'},\n",
                            " {'role': 'user', 'content': '来一首关于兔子的，四句'},\n",
                            " {'role': 'assistant', 'content': '小兔子白又白，耳朵长长蹦蹦跳。\\n爱吃萝卜和青菜，月光下蹦跶真快乐。'}]"
                        ]
                    },
                    "execution_count": 4,
                    "metadata": {},
                    "output_type": "execute_result"
                }
            ],
            "source": [
                "from illufly.chat import ChatQwen\n",
                "from illufly.types import Template\n",
                "\n",
                "qwen = ChatQwen(memory=[Template(text=\"你是一个专门写儿歌的作家，请根据我的提示写作。\")])\n",
                "qwen(\"来一首关于兔子的，四句\")\n",
                "qwen.memory"
            ]
        },
        {
            "cell_type": "code",
            "execution_count": 6,
            "id": "5c17899e-88d4-4d34-a3fd-8ab54a6a1b27",
            "metadata": {},
            "outputs": [
                {
                    "name": "stdout",
                    "output_type": "stream",
                    "text": [
                        "\u001b[32m小白\u001b[0m\u001b[32m兔\u001b[0m\u001b[32m，\u001b[0m\u001b[32m蹦又跳，  \n",
                        "\u001b[0m\u001b[32m长耳朵，摇啊摇。  \n",
                        "\u001b[0m\u001b[32m爱吃萝卜和青菜，  \n",
                        "快乐\u001b[0m\u001b[32m生活在林梢。\u001b[0m\u001b[32m\u001b[0m\n",
                        "\n"
                    ]
                },
                {
                    "data": {
                        "text/plain": [
                            "[{'role': 'system', 'content': '你是一个专门写儿歌的作家，请根据我的提示写作。我的要求是：来一首关于兔子的，四句'},\n",
                            " {'role': 'user', 'content': '要简练'},\n",
                            " {'role': 'assistant',\n",
                            "  'content': '小白兔，蹦又跳，  \\n长耳朵，摇啊摇。  \\n爱吃萝卜和青菜，  \\n快乐生活在林梢。'}]"
                        ]
                    },
                    "execution_count": 6,
                    "metadata": {},
                    "output_type": "execute_result"
                }
            ],
            "source": [
                "from illufly.chat import ChatQwen\n",
                "from illufly.types import Template\n",
                "\n",
                "qwen = ChatQwen(memory=[\n",
                "    Template(\n",
                "        text=\"你是一个专门写儿歌的作家，请根据我的提示写作。我的要求是：{{task}}\"\n",
                "    ),\n",
                "    \"要简练\"\n",
                "])\n",
                "qwen(\"来一首关于兔子的，四句\")\n",
                "qwen.memory"
            ]
        },
        {
            "cell_type": "code",
            "execution_count": 7,
            "id": "28a2fde2-a135-4c0a-9794-6d92ad239ee6",
            "metadata": {},
            "outputs": [
                {
                    "data": {
                        "text/plain": [
                            "{'last_input': None,\n",
                            " 'last_output': '小白兔，蹦又跳，  \\n长耳朵，摇啊摇。  \\n爱吃萝卜和青菜，  \\n快乐生活在林梢。',\n",
                            " 'task': '来一首关于兔子的，四句'}"
                        ]
                    },
                    "execution_count": 7,
                    "metadata": {},
                    "output_type": "execute_result"
                }
            ],
            "source": [
                "qwen.exported_vars"
            ]
        },
        {
            "cell_type": "code",
            "execution_count": 9,
            "id": "443c458e-10a3-4baa-842b-ec1949023aeb",
            "metadata": {},
            "outputs": [
                {
                    "name": "stdout",
                    "output_type": "stream",
                    "text": [
                        "\u001b[32m两条\u001b[0m\u001b[32m小\u001b[0m\u001b[32m鱼\u001b[0m\u001b[32m，水中游，  \n",
                        "\u001b[0m\u001b[32m摇摇尾巴，点点头。  \n",
                        "相互\u001b[0m\u001b[32m追逐多欢喜，  \n",
                        "波光里\u001b[0m\u001b[32m笑影悠悠。\u001b[0m\u001b[32m\u001b[0m\n",
                        "\n"
                    ]
                },
                {
                    "data": {
                        "text/plain": [
                            "[{'role': 'system', 'content': '你是一个专门写儿歌的作家，请根据我的提示写作。我的要求是：来一首关于兔子的，四句'},\n",
                            " {'role': 'user', 'content': '要简练'},\n",
                            " {'role': 'assistant',\n",
                            "  'content': '小白兔，蹦又跳，  \\n长耳朵，摇啊摇。  \\n爱吃萝卜和青菜，  \\n快乐生活在林梢。'},\n",
                            " {'role': 'user', 'content': '换成两条小鱼'},\n",
                            " {'role': 'assistant',\n",
                            "  'content': '两条小鱼，水中游，  \\n摇摇尾巴，点点头。  \\n相互追逐多欢喜，  \\n波光里笑影悠悠。'}]"
                        ]
                    },
                    "execution_count": 9,
                    "metadata": {},
                    "output_type": "execute_result"
                }
            ],
            "source": [
                "qwen(\"换成两条小鱼\")\n",
                "qwen.memory"
            ]
        },
        {
            "cell_type": "markdown",
            "id": "99ded9b9-aba5-46cb-8963-48714ea2256c",
            "metadata": {},
            "source": [
                "## 智能体：使用工具"
            ]
        },
        {
            "cell_type": "markdown",
            "id": "bb1378d8-1391-4ecb-865f-7b73b5cad2ca",
            "metadata": {},
            "source": [
                "工具应当是一个智能体，而使用工具的过程实际上是 **「委托-回复」** 的过程。<br>\n",
                "实际上，这也是多智能体运行的一种策略。"
            ]
        },
        {
            "cell_type": "code",
            "execution_count": 1,
            "id": "62c3b55a-3e22-491c-8460-b49fbc222184",
            "metadata": {},
            "outputs": [
                {
                    "name": "stdout",
                    "output_type": "stream",
                    "text": [
                        "\u001b[32m广州天气如何啊？今天是晴天。 \u001b[0m\n",
                        "\n"
                    ]
                }
            ],
            "source": [
                "# 从函数定义工具\n",
                "from illufly.chat import ChatQwen\n",
                "from illufly.types import ToolAgent\n",
                "from illufly.io import TextBlock, log\n",
                "\n",
                "def get_current_weather(location: str):\n",
                "    \"\"\"获取城市的天气情况\"\"\"\n",
                "    yield TextBlock(\"chunk\", f\"{location}今天是晴天。 \")\n",
                "\n",
                "t = ToolAgent(get_current_weather)\n",
                "log(t, \"广州天气如何啊？\")"
            ]
        },
        {
            "cell_type": "code",
            "execution_count": 14,
            "id": "4c7a9028-eee1-4c48-8d83-403970caf409",
            "metadata": {},
            "outputs": [
                {
                    "data": {
                        "text/plain": [
                            "[<Tool get_current_weather: 获取城市的天气情况>]"
                        ]
                    },
                    "execution_count": 14,
                    "metadata": {},
                    "output_type": "execute_result"
                }
            ],
            "source": [
                "q = ChatQwen(tools=[ToolAgent(get_current_weather)])\n",
                "q.tools"
            ]
        },
        {
            "cell_type": "markdown",
            "id": "94c9ff9b-c026-48bd-90bf-deccff2f72c9",
            "metadata": {},
            "source": [
                "### 返回工具提示"
            ]
        },
        {
            "cell_type": "code",
            "execution_count": 2,
            "id": "931704ba-5ddc-4cdb-80bb-a6a7377edea0",
            "metadata": {},
            "outputs": [
                {
                    "name": "stdout",
                    "output_type": "stream",
                    "text": [
                        "  1s [TOOLS_CALL_CHUNK] \u001b[32m{\"index\": 0, \"id\": \"call_8909e53a21914771b52ab5\", \"type\": \"function\", \"function\": {\"name\": \"get_current_weather\", \"arguments\": \"\"}}\u001b[0m\n",
                        "  1s [TOOLS_CALL_CHUNK] \u001b[32m{\"index\": 0, \"id\": \"\", \"type\": \"function\", \"function\": {\"arguments\": \"{\\\"location\\\": \\\"\"}}\u001b[0m\n",
                        "  1s [TOOLS_CALL_CHUNK] \u001b[32m{\"index\": 0, \"id\": \"\", \"type\": \"function\", \"function\": {\"arguments\": \"广州\\\"}\"}}\u001b[0m\n",
                        "  1s [TOOLS_CALL_CHUNK] \u001b[32m{\"index\": 0, \"id\": \"\", \"type\": \"function\", \"function\": {}}\u001b[0m\n",
                        "  1s [TOOLS_CALL_FINAL] \u001b[36m{\"0\": {\"index\": 0, \"id\": \"call_8909e53a21914771b52ab5\", \"type\": \"function\", \"function\": {\"name\": \"get_current_weather\", \"arguments\": \"{\\\"location\\\": \\\"广州\\\"}\"}}}\u001b[0m\n",
                        "\u001b[32m广州今天是晴天。 \u001b[0m\u001b[32m广\u001b[0m\u001b[32m州今天是晴天\u001b[0m\u001b[32m。不过请注意，实际天气可能会有所\u001b[0m\u001b[32m变化，外出时最好还是确认一下\u001b[0m\u001b[32m实时天气。\u001b[0m\u001b[32m\u001b[0m\n",
                        "\n"
                    ]
                },
                {
                    "data": {
                        "text/plain": [
                            "[{'role': 'user', 'content': '今天广州天气如何啊'},\n",
                            " {'role': 'assistant', 'content': ''},\n",
                            " {'role': 'tool', 'content': '广州今天是晴天。 '},\n",
                            " {'role': 'assistant',\n",
                            "  'content': '广州今天是晴天。不过请注意，实际天气可能会有所变化，外出时最好还是确认一下实时天气。'}]"
                        ]
                    },
                    "execution_count": 2,
                    "metadata": {},
                    "output_type": "execute_result"
                }
            ],
            "source": [
                "# 在类定义中声明工具\n",
                "q = ChatQwen(tools=[ToolAgent(get_current_weather)], exec_tool=False)\n",
                "log(q, \"今天广州天气如何啊\", verbose=True)\n",
                "q.memory"
            ]
        },
        {
            "cell_type": "code",
            "execution_count": 6,
            "id": "a12a47b6-089b-47f3-b01e-fc1a3634d346",
            "metadata": {},
            "outputs": [
                {
                    "data": {
                        "text/plain": [
                            "[<Tool get_current_weather: 获取城市的天气情况>]"
                        ]
                    },
                    "execution_count": 6,
                    "metadata": {},
                    "output_type": "execute_result"
                }
            ],
            "source": [
                "q.toolkits"
            ]
        },
        {
            "cell_type": "markdown",
            "id": "51f3de06-ea29-4c2d-a0d3-d7514f123b6d",
            "metadata": {},
            "source": [
                "**如果仅在调用时提供tools参数，则意味着并不希望执行工具，即使设置了exec_tool也是如此**"
            ]
        },
        {
            "cell_type": "code",
            "execution_count": 7,
            "id": "20552138-295d-49cc-adbf-38fcc083b3ce",
            "metadata": {},
            "outputs": [
                {
                    "data": {
                        "text/plain": [
                            "[{'type': 'function',\n",
                            "  'function': {'name': 'get_current_weather',\n",
                            "   'description': '获取城市的天气情况',\n",
                            "   'parameters': {'type': 'object',\n",
                            "    'properties': {'location': {'type': 'str', 'description': ''}},\n",
                            "    'required': ['location']}}},\n",
                            " {'type': 'function',\n",
                            "  'function': {'name': 'get_current_weather',\n",
                            "   'description': '获取城市的天气情况',\n",
                            "   'parameters': {'type': 'object',\n",
                            "    'properties': {'location': {'type': 'str', 'description': ''}},\n",
                            "    'required': ['location']}}}]"
                        ]
                    },
                    "execution_count": 7,
                    "metadata": {},
                    "output_type": "execute_result"
                }
            ],
            "source": [
                "q.get_tools_desc([Tool(get_current_weather)])"
            ]
        },
        {
            "cell_type": "markdown",
            "id": "ce8452c8-3e1d-4b04-8441-2d5297c50058",
            "metadata": {},
            "source": [
                "### 执行工具回调"
            ]
        },
        {
            "cell_type": "code",
            "execution_count": 8,
            "id": "58825e9e-d76a-4402-ae3a-dd8ea6791b70",
            "metadata": {},
            "outputs": [
                {
                    "name": "stdout",
                    "output_type": "stream",
                    "text": [
                        "[TOOLS_CALL_CHUNK] \u001b[32m{\"index\": 0, \"id\": \"call_167e36b3be884ba885ec2a\", \"type\": \"function\", \"function\": {\"name\": \"get_current_weather\", \"arguments\": \"\"}}\u001b[0m\n",
                        "[TOOLS_CALL_CHUNK] \u001b[32m{\"index\": 0, \"id\": \"\", \"type\": \"function\", \"function\": {\"arguments\": \"{\\\"location\\\": \\\"\"}}\u001b[0m\n",
                        "[TOOLS_CALL_CHUNK] \u001b[32m{\"index\": 0, \"id\": \"\", \"type\": \"function\", \"function\": {\"arguments\": \"广州\\\"}\"}}\u001b[0m\n",
                        "[TOOLS_CALL_CHUNK] \u001b[32m{\"index\": 0, \"id\": \"\", \"type\": \"function\", \"function\": {}}\u001b[0m\n",
                        "[TOOLS_CALL_FINAL] \u001b[36m{\"0\": {\"index\": 0, \"id\": \"call_167e36b3be884ba885ec2a\", \"type\": \"function\", \"function\": {\"name\": \"get_current_weather\", \"arguments\": \"{\\\"location\\\": \\\"广州\\\"}\"}}}\u001b[0m\n",
                        "\u001b[32m广州今天是晴天。 \u001b[0m\u001b[32m广\u001b[0m\u001b[32m州今天的天气是晴\u001b[0m\u001b[32m朗的。\u001b[0m\u001b[32m\u001b[0m"
                    ]
                },
                {
                    "data": {
                        "text/plain": [
                            "[{'role': 'user', 'content': '今天广州天气如何啊'},\n",
                            " {'role': 'assistant', 'content': ''},\n",
                            " {'role': 'tool', 'content': '广州今天是晴天。 '},\n",
                            " {'role': 'assistant', 'content': '广州今天的天气是晴朗的。'}]"
                        ]
                    },
                    "execution_count": 8,
                    "metadata": {},
                    "output_type": "execute_result"
                }
            ],
            "source": [
                "# 在调用中声明工具\n",
                "q = ChatQwen()\n",
                "log(q, \"今天广州天气如何啊\", tools=[Tool(get_current_weather)], verbose=True)\n",
                "q.memory"
            ]
        },
        {
            "cell_type": "code",
            "execution_count": 2,
            "id": "02912afa-e971-4bc6-9e4d-ddb0d4515d81",
            "metadata": {},
            "outputs": [
                {
                    "name": "stdout",
                    "output_type": "stream",
                    "text": [
                        "[TOOLS_CALL_CHUNK] \u001b[32m{\"index\": 0, \"id\": \"call_f4c120cb63fa43d09fa1f5\", \"type\": \"function\", \"function\": {\"name\": \"get_current_weather\", \"arguments\": \"\"}}\u001b[0m\n",
                        "[TOOLS_CALL_CHUNK] \u001b[32m{\"index\": 0, \"id\": \"\", \"type\": \"function\", \"function\": {\"arguments\": \"{\\\"location\\\": \\\"\"}}\u001b[0m\n",
                        "[TOOLS_CALL_CHUNK] \u001b[32m{\"index\": 0, \"id\": \"\", \"type\": \"function\", \"function\": {\"arguments\": \"广州\\\"}\"}}\u001b[0m\n",
                        "[TOOLS_CALL_CHUNK] \u001b[32m{\"index\": 0, \"id\": \"\", \"type\": \"function\", \"function\": {}}\u001b[0m\n",
                        "[TOOLS_CALL_FINAL] \u001b[36m{\"0\": {\"index\": 0, \"id\": \"call_f4c120cb63fa43d09fa1f5\", \"type\": \"function\", \"function\": {\"name\": \"get_current_weather\", \"arguments\": \"{\\\"location\\\": \\\"广州\\\"}\"}}}\u001b[0m\n",
                        "\u001b[32m广州今天是晴天。 \u001b[0m\u001b[32m今天\u001b[0m\u001b[32m广州是晴天，\u001b[0m\u001b[32m非常适合晒被子。\u001b[0m\u001b[32m\u001b[0m"
                    ]
                },
                {
                    "data": {
                        "text/plain": [
                            "[{'role': 'user', 'content': '今天广州可以晒被子吗'},\n",
                            " {'role': 'assistant', 'content': ''},\n",
                            " {'role': 'tool', 'content': '广州今天是晴天。 '},\n",
                            " {'role': 'assistant', 'content': '今天广州是晴天，非常适合晒被子。'}]"
                        ]
                    },
                    "execution_count": 2,
                    "metadata": {},
                    "output_type": "execute_result"
                }
            ],
            "source": [
                "# 在类定义中声明工具\n",
                "q = ChatQwen(tools=[Tool(get_current_weather)], exec_tool=True)\n",
                "log(q, \"今天广州可以晒被子吗\", verbose=True)\n",
                "q.memory"
            ]
        },
        {
            "cell_type": "markdown",
            "id": "37c06357-4805-4f43-a9b8-948783f1e361",
            "metadata": {},
            "source": [
                "## 智能体团队：执行管道"
            ]
        },
        {
            "cell_type": "markdown",
            "id": "4b10e728-0e07-4d7a-a908-07de1d59f116",
            "metadata": {},
            "source": [
                "### 从聊天开始的管道 [Chat, Chat, Chat]"
            ]
        },
        {
            "cell_type": "code",
            "execution_count": 1,
            "id": "aeca6e81-4691-4498-b8bb-fbe17e1f4a0d",
            "metadata": {},
            "outputs": [
                {
                    "name": "stdout",
                    "output_type": "stream",
                    "text": [
                        "[AGENT] \u001b[34m>>> Node 1: ChatQwen\u001b[0m\n",
                        "\u001b[32m小白\u001b[0m\u001b[32m兔\u001b[0m\u001b[32m，\u001b[0m\u001b[32m梦中跳，月亮\u001b[0m\u001b[32m船上摇啊摇。\n",
                        "胡萝卜，满\u001b[0m\u001b[32m天星，梦里世界甜如\u001b[0m\u001b[32m蜜。\u001b[0m\u001b[32m\u001b[0m\n",
                        "\n",
                        "[AGENT] \u001b[34m>>> Node 2: ChatQwen\u001b[0m\n",
                        "\u001b[32m这篇文章\u001b[0m\u001b[32m特色\u001b[0m\u001b[32m在于\u001b[0m\u001b[32m其富有童趣的\u001b[0m\u001b[32m想象力，通过生动活泼的语言营造了一个\u001b[0m\u001b[32m甜美梦幻的童话氛围，让人感受到\u001b[0m\u001b[32m纯真的快乐与奇妙的想象。\u001b[0m\u001b[32m\u001b[0m\n",
                        "\n",
                        "[AGENT] \u001b[34m>>> Node 3: ChatQwen\u001b[0m\n",
                        "\u001b[32m4\u001b[0m\u001b[32m分\u001b[0m\u001b[32m。\u001b[0m\u001b[32m打分点在于文章\u001b[0m\u001b[32m成功运用了富有童趣的想象力\u001b[0m\u001b[32m和生动活泼的语言，创造出独特的童话\u001b[0m\u001b[32m氛围，给人以愉悦的阅读体验\u001b[0m\u001b[32m，但可能在深度或结构上有\u001b[0m\u001b[32m改进空间。\u001b[0m\u001b[32m\u001b[0m\n",
                        "\n"
                    ]
                },
                {
                    "data": {
                        "text/plain": [
                            "'4分。打分点在于文章成功运用了富有童趣的想象力和生动活泼的语言，创造出独特的童话氛围，给人以愉悦的阅读体验，但可能在深度或结构上有改进空间。'"
                        ]
                    },
                    "execution_count": 1,
                    "metadata": {},
                    "output_type": "execute_result"
                }
            ],
            "source": [
                "from illufly.agent import ChatQwen, Pipe\n",
                "from illufly.io import log\n",
                "\n",
                "pipe = Pipe(\n",
                "    ChatQwen(memory=\"我是一个儿童作家，擅长写儿歌。\"),\n",
                "    ChatQwen(memory=\"请你帮我评价文章特色，两句话即可\"),\n",
                "    ChatQwen(memory=\"请针对我的写作成果打一个分数，给出一句话的打分点，最终给出1分至5分\")\n",
                ")\n",
                "\n",
                "log(pipe, \"你能帮我写一首关于兔子做梦的？四句即可。\")"
            ]
        },
        {
            "cell_type": "code",
            "execution_count": 2,
            "id": "8a876ad9-428f-4969-8896-adac2e3c1008",
            "metadata": {},
            "outputs": [
                {
                    "data": {
                        "text/plain": [
                            "[{'role': 'system', 'content': '我是一个儿童作家，擅长写儿歌。'},\n",
                            " {'role': 'user', 'content': '你能帮我写一首关于兔子做梦的？四句即可。'},\n",
                            " {'role': 'assistant', 'content': '小白兔，梦中跳，月亮船上摇啊摇。\\n梦见胡萝卜大又甜，醒来嘴角笑弯弯。'}]"
                        ]
                    },
                    "execution_count": 2,
                    "metadata": {},
                    "output_type": "execute_result"
                }
            ],
            "source": [
                "pipe.runnables[0].memory"
            ]
        },
        {
            "cell_type": "markdown",
            "id": "78c7b8c1-da18-4a80-a306-39d00b038ba7",
            "metadata": {},
            "source": [
                "### 从提示语构造开始的管道 [Template, Chat, Chat]"
            ]
        },
        {
            "cell_type": "code",
            "execution_count": 3,
            "id": "6ebd6b27-882b-4eb6-a6e4-97cfb7444a82",
            "metadata": {},
            "outputs": [],
            "source": [
                "from illufly.agent import ChatQwen, Pipe, Template\n",
                "from illufly.io import log, alog\n",
                "from illufly.hub import Template"
            ]
        },
        {
            "cell_type": "code",
            "execution_count": 4,
            "id": "d26d2e83-249e-4d6e-a759-a82da219f232",
            "metadata": {},
            "outputs": [
                {
                    "name": "stdout",
                    "output_type": "stream",
                    "text": [
                        "[AGENT] \u001b[34m>>> Node 1: ChatQwen\u001b[0m\n",
                        "\u001b[32m小\u001b[0m\u001b[32m鸭\u001b[0m\u001b[32m子\u001b[0m\u001b[32m嘎嘎叫，  \n",
                        "\u001b[0m\u001b[32m摇摇摆摆水里漂。\u001b[0m\u001b[32m  \n",
                        "太阳笑眯眯，  \n",
                        "快乐\u001b[0m\u001b[32m时光乐逍遥。\u001b[0m\u001b[32m\u001b[0m\n",
                        "\n",
                        "[AGENT] \u001b[34m>>> Node 2: ChatQwen\u001b[0m\n",
                        "\u001b[32m作品\u001b[0m\u001b[32m优点\u001b[0m\u001b[32m明显\u001b[0m\u001b[32m，充满童趣与\u001b[0m\u001b[32m自然和谐之美，但要指出三点\u001b[0m\u001b[32m可以改进的地方：\n",
                        "\n",
                        "1. **缺乏\u001b[0m\u001b[32m情节展开**：诗歌描述了小\u001b[0m\u001b[32m鸭子和太阳的快乐场景，\u001b[0m\u001b[32m但没有一个具体的故事进展或冲突\u001b[0m\u001b[32m解决，可能让寻求深层含义的\u001b[0m\u001b[32m读者感到略显单薄。\n",
                        "2\u001b[0m\u001b[32m. **角色单一**：仅出现了\u001b[0m\u001b[32m小鸭子和太阳两个角色，\u001b[0m\u001b[32m引入更多动物或自然元素可以增加\u001b[0m\u001b[32m诗歌的丰富性和互动性。\n",
                        "3\u001b[0m\u001b[32m. **语言简单**：虽然符合\u001b[0m\u001b[32m儿童诗的风格，但对于提升文学\u001b[0m\u001b[32m价值和吸引更广泛年龄段的读者\u001b[0m\u001b[32m来说，适度增加词汇多样性和诗意\u001b[0m\u001b[32m表达会更有益。\n",
                        "\n",
                        "一句话总结：\u001b[0m\u001b[32m这是一首洋溢着纯真\u001b[0m\u001b[32m快乐的儿童诗，若能在保持\u001b[0m\u001b[32m童趣的同时融入更多元的情节\u001b[0m\u001b[32m、角色和语言艺术，将更能\u001b[0m\u001b[32m吸引并打动不同层次的读者。\u001b[0m\u001b[32m\u001b[0m\n",
                        "\n"
                    ]
                },
                {
                    "data": {
                        "text/plain": [
                            "'作品优点明显，充满童趣与自然和谐之美，但要指出三点可以改进的地方：\\n\\n1. **缺乏情节展开**：诗歌描述了小鸭子和太阳的快乐场景，但没有一个具体的故事进展或冲突解决，可能让寻求深层含义的读者感到略显单薄。\\n2. **角色单一**：仅出现了小鸭子和太阳两个角色，引入更多动物或自然元素可以增加诗歌的丰富性和互动性。\\n3. **语言简单**：虽然符合儿童诗的风格，但对于提升文学价值和吸引更广泛年龄段的读者来说，适度增加词汇多样性和诗意表达会更有益。\\n\\n一句话总结：这是一首洋溢着纯真快乐的儿童诗，若能在保持童趣的同时融入更多元的情节、角色和语言艺术，将更能吸引并打动不同层次的读者。'"
                        ]
                    },
                    "execution_count": 4,
                    "metadata": {},
                    "output_type": "execute_result"
                }
            ],
            "source": [
                "pipe = Pipe(\n",
                "    ChatQwen(memory=[Template(\"IDEA\", desk_map={\"task\": \"task\"}), \"请你开始\"]),\n",
                "    ChatQwen(memory=\"请帮我对作品进行评价，找出三个缺点，一句话总结。\")\n",
                ")\n",
                "\n",
                "log(pipe, \"请你帮我写一首4行儿歌\")"
            ]
        },
        {
            "cell_type": "code",
            "execution_count": 5,
            "id": "d041cfd5-1ff6-4a85-9bf2-c46188f05956",
            "metadata": {},
            "outputs": [
                {
                    "data": {
                        "text/plain": [
                            "[{'role': 'user', 'content': '节点 <0> 正在处理任务...'},\n",
                            " {'role': 'assistant', 'content': '小鸭子嘎嘎叫，  \\n摇摇摆摆水里漂。  \\n太阳笑眯眯，  \\n快乐时光乐逍遥。'},\n",
                            " {'role': 'user', 'content': '节点 <1> 正在处理任务...'},\n",
                            " {'role': 'assistant',\n",
                            "  'content': '作品优点明显，充满童趣与自然和谐之美，但要指出三点可以改进的地方：\\n\\n1. **缺乏情节展开**：诗歌描述了小鸭子和太阳的快乐场景，但没有一个具体的故事进展或冲突解决，可能让寻求深层含义的读者感到略显单薄。\\n2. **角色单一**：仅出现了小鸭子和太阳两个角色，引入更多动物或自然元素可以增加诗歌的丰富性和互动性。\\n3. **语言简单**：虽然符合儿童诗的风格，但对于提升文学价值和吸引更广泛年龄段的读者来说，适度增加词汇多样性和诗意表达会更有益。\\n\\n一句话总结：这是一首洋溢着纯真快乐的儿童诗，若能在保持童趣的同时融入更多元的情节、角色和语言艺术，将更能吸引并打动不同层次的读者。'}]"
                        ]
                    },
                    "execution_count": 5,
                    "metadata": {},
                    "output_type": "execute_result"
                }
            ],
            "source": [
                "pipe.memory"
            ]
        },
        {
            "cell_type": "code",
            "execution_count": 6,
            "id": "ef8290af-24b4-4350-a945-0f3d780889ba",
            "metadata": {},
            "outputs": [
                {
                    "data": {
                        "text/plain": [
                            "[{'role': 'system',\n",
                            "  'content': '你是强大的写作助手。\\n\\n你必须遵循以下约束来完成任务:\\n1. 直接输出你的结果，不要评论，不要啰嗦\\n2. 使用markdown格式输出\\n\\n**你的任务是:**\\n请你帮我写一首4行儿歌\\n'},\n",
                            " {'role': 'user', 'content': '请你开始'},\n",
                            " {'role': 'assistant', 'content': '小鸭子嘎嘎叫，  \\n摇摇摆摆水里漂。  \\n太阳笑眯眯，  \\n快乐时光乐逍遥。'}]"
                        ]
                    },
                    "execution_count": 6,
                    "metadata": {},
                    "output_type": "execute_result"
                }
            ],
            "source": [
                "pipe.runnables[0].memory"
            ]
        },
        {
            "cell_type": "code",
            "execution_count": 9,
            "id": "49cb463f-987c-4c43-a2d6-725d6bd3533a",
            "metadata": {},
            "outputs": [
                {
                    "data": {
                        "text/plain": [
                            "[{'role': 'system', 'content': '请帮我对作品进行评价，找出三个缺点，一句话总结。'},\n",
                            " {'role': 'user', 'content': '小鸭子嘎嘎叫，  \\n摇摇摆摆水里漂。  \\n太阳笑眯眯，  \\n快乐时光乐逍遥。'},\n",
                            " {'role': 'assistant',\n",
                            "  'content': '作品优点明显，充满童趣与自然和谐之美，但要指出三点可以改进的地方：\\n\\n1. **缺乏情节展开**：诗歌描述了小鸭子和太阳的快乐场景，但没有一个具体的故事进展或冲突解决，可能让寻求深层含义的读者感到略显单薄。\\n2. **角色单一**：仅出现了小鸭子和太阳两个角色，引入更多动物或自然元素可以增加诗歌的丰富性和互动性。\\n3. **语言简单**：虽然符合儿童诗的风格，但对于提升文学价值和吸引更广泛年龄段的读者来说，适度增加词汇多样性和诗意表达会更有益。\\n\\n一句话总结：这是一首洋溢着纯真快乐的儿童诗，若能在保持童趣的同时融入更多元的情节、角色和语言艺术，将更能吸引并打动不同层次的读者。'},\n",
                            " {'role': 'user', 'content': '找出三个优点吧'},\n",
                            " {'role': 'assistant',\n",
                            "  'content': '当然，这首作品同样展现出了多个亮点：\\n\\n1. **生动的意象**：通过“小鸭子嘎嘎叫，摇摇摆摆水里漂”这样的生动描绘，读者可以轻易地在心中勾勒出一幅活泼有趣的画面，增强了诗歌的表现力。\\n2. **积极的情感传递**：“太阳笑眯眯，快乐时光乐逍遥”营造了一种温暖、愉快的氛围，能够有效激发读者的正面情绪，传递了简单的快乐和对自然美的欣赏。\\n3. **易于理解与共鸣**：简洁明了的语言和贴近生活的主题使得这首诗不仅适合儿童阅读，也能让成人找回童年的纯真感，易于引起广泛共鸣。\\n\\n一句话总结：这首诗歌以它简洁生动的描绘、积极向上的氛围及广泛的共鸣度，成功地打造了一个既愉悦又富有感染力的阅读体验。'}]"
                        ]
                    },
                    "execution_count": 9,
                    "metadata": {},
                    "output_type": "execute_result"
                }
            ],
            "source": [
                "pipe.runnables[1].memory"
            ]
        },
        {
            "cell_type": "code",
            "execution_count": 8,
            "id": "f2af0c21-b195-498c-b679-2e8968053cf4",
            "metadata": {},
            "outputs": [
                {
                    "name": "stdout",
                    "output_type": "stream",
                    "text": [
                        "\u001b[32m当然\u001b[0m\u001b[32m，\u001b[0m\u001b[32m这首\u001b[0m\u001b[32m作品同样展现出了多个\u001b[0m\u001b[32m亮点：\n",
                        "\n",
                        "1. **生动的意\u001b[0m\u001b[32m象**：通过“小鸭子\u001b[0m\u001b[32m嘎嘎叫，摇摇摆摆\u001b[0m\u001b[32m水里漂”这样的生动描绘，\u001b[0m\u001b[32m读者可以轻易地在心中勾勒\u001b[0m\u001b[32m出一幅活泼有趣的画面，增强了诗歌\u001b[0m\u001b[32m的表现力。\n",
                        "2. **积极的情感\u001b[0m\u001b[32m传递**：“太阳笑眯眯，\u001b[0m\u001b[32m快乐时光乐逍遥”营造了一种\u001b[0m\u001b[32m温暖、愉快的氛围，能够有效\u001b[0m\u001b[32m激发读者的正面情绪，传递了\u001b[0m\u001b[32m简单的快乐和对自然美的欣赏。\n",
                        "\u001b[0m\u001b[32m3. **易于理解与共鸣**\u001b[0m\u001b[32m：简洁明了的语言和贴近生活的\u001b[0m\u001b[32m主题使得这首诗不仅适合儿童阅读\u001b[0m\u001b[32m，也能让成人找回童年的纯\u001b[0m\u001b[32m真感，易于引起广泛共鸣。\n",
                        "\n",
                        "\u001b[0m\u001b[32m一句话总结：这首诗歌以它简洁\u001b[0m\u001b[32m生动的描绘、积极向上的氛围\u001b[0m\u001b[32m及广泛的共鸣度，成功地打造\u001b[0m\u001b[32m了一个既愉悦又富有感染力的\u001b[0m\u001b[32m阅读体验。\u001b[0m\u001b[32m\u001b[0m\n",
                        "\n"
                    ]
                },
                {
                    "data": {
                        "text/plain": [
                            "'当然，这首作品同样展现出了多个亮点：\\n\\n1. **生动的意象**：通过“小鸭子嘎嘎叫，摇摇摆摆水里漂”这样的生动描绘，读者可以轻易地在心中勾勒出一幅活泼有趣的画面，增强了诗歌的表现力。\\n2. **积极的情感传递**：“太阳笑眯眯，快乐时光乐逍遥”营造了一种温暖、愉快的氛围，能够有效激发读者的正面情绪，传递了简单的快乐和对自然美的欣赏。\\n3. **易于理解与共鸣**：简洁明了的语言和贴近生活的主题使得这首诗不仅适合儿童阅读，也能让成人找回童年的纯真感，易于引起广泛共鸣。\\n\\n一句话总结：这首诗歌以它简洁生动的描绘、积极向上的氛围及广泛的共鸣度，成功地打造了一个既愉悦又富有感染力的阅读体验。'"
                        ]
                    },
                    "execution_count": 8,
                    "metadata": {},
                    "output_type": "execute_result"
                }
            ],
            "source": [
                "log(pipe.runnables[1], \"找出三个优点吧\")"
            ]
        },
        {
            "cell_type": "markdown",
            "id": "895b51cc-3af1-45c6-ba5c-ca9576ec4080",
            "metadata": {},
            "source": [
                "## 智能体团队：从提纲扩写"
            ]
        },
        {
            "cell_type": "markdown",
            "id": "f1c8cff4-29a2-4315-ba50-ab9789243f51",
            "metadata": {},
            "source": [
                "### 构建提纲"
            ]
        },
        {
            "cell_type": "code",
            "execution_count": 15,
            "id": "6d320be2-f7e4-4544-81e2-bbb9043dd83f",
            "metadata": {},
            "outputs": [],
            "source": [
                "from illufly.agent import ChatQwen, Pipe, FromOutline, Template\n",
                "from illufly.io import log, alog\n",
                "\n",
                "outline = Pipe(\n",
                "    Template(\"OUTLINE\"),\n",
                "    ChatQwen()\n",
                ")"
            ]
        },
        {
            "cell_type": "code",
            "execution_count": 16,
            "id": "a3caa546-fdb3-45ed-b689-3b8802d431d4",
            "metadata": {},
            "outputs": [
                {
                    "name": "stdout",
                    "output_type": "stream",
                    "text": [
                        "[AGENT] \u001b[34m>>> Node 1: Template\u001b[0m\n",
                        "[AGENT] \u001b[34m>>> Node 2: ChatQwen\u001b[0m\n",
                        "\u001b[32m#\u001b[0m\u001b[32m \u001b[0m\u001b[32m儿歌：小星星\u001b[0m\u001b[32m的梦\n",
                        "\n",
                        "## 第一段：星空\u001b[0m\u001b[32m奇妙夜\n",
                        "<OUTLINE>\n",
                        "-\u001b[0m\u001b[32m 描述夜晚星空的美丽景象，\u001b[0m\u001b[32m提及小星星\n",
                        "- 引入\u001b[0m\u001b[32m小星星梦想飞翔的念头，充满\u001b[0m\u001b[32m好奇与期待\n",
                        "- 字数：\u001b[0m\u001b[32m约20字\n",
                        "</OUTLINE\u001b[0m\u001b[32m>\n",
                        "\n",
                        "## 第二段：晨光\u001b[0m\u001b[32m中的舞者\n",
                        "<OUTLINE>\n",
                        "\u001b[0m\u001b[32m- 描述随着黎明到来，小\u001b[0m\u001b[32m星星与月亮道别的温馨场景\n",
                        "\u001b[0m\u001b[32m- 小星星化作流星，\u001b[0m\u001b[32m短暂而灿烂地“舞动”\u001b[0m\u001b[32m于天际\n",
                        "- 字数：\u001b[0m\u001b[32m约20字\n",
                        "</OUTLINE\u001b[0m\u001b[32m>\u001b[0m\u001b[32m\u001b[0m\n",
                        "\n"
                    ]
                },
                {
                    "data": {
                        "text/plain": [
                            "'# 儿歌：小星星的梦\\n\\n## 第一段：星空奇妙夜\\n<OUTLINE>\\n- 描述夜晚星空的美丽景象，提及小星星\\n- 引入小星星梦想飞翔的念头，充满好奇与期待\\n- 字数：约20字\\n</OUTLINE>\\n\\n## 第二段：晨光中的舞者\\n<OUTLINE>\\n- 描述随着黎明到来，小星星与月亮道别的温馨场景\\n- 小星星化作流星，短暂而灿烂地“舞动”于天际\\n- 字数：约20字\\n</OUTLINE>'"
                        ]
                    },
                    "execution_count": 16,
                    "metadata": {},
                    "output_type": "execute_result"
                }
            ],
            "source": [
                "log(outline, {\"task\": \"写一首两段儿歌，每段20个字即可，策划简单一点\"})"
            ]
        },
        {
            "cell_type": "markdown",
            "id": "4526554f-056e-4a82-aef2-9afcc93d24ac",
            "metadata": {},
            "source": [
                "### 提纲 + 扩写"
            ]
        },
        {
            "cell_type": "code",
            "execution_count": 9,
            "id": "c92629cb-c1df-4d17-ad96-f16c42ace458",
            "metadata": {},
            "outputs": [
                {
                    "name": "stdout",
                    "output_type": "stream",
                    "text": [
                        "[AGENT] \u001b[34m>>> Node 1: ChatQwen\u001b[0m\n",
                        "\u001b[32m#\u001b[0m\u001b[32m \u001b[0m\u001b[32m儿歌：小星星\u001b[0m\u001b[32m的夜游\n",
                        "## 第一段：\u001b[0m\u001b[32m星空奇遇\n",
                        "<OUTLINE>\n",
                        "\u001b[0m\u001b[32m扩写要求：\n",
                        "- 描述小\u001b[0m\u001b[32m星星离开天空的家，去地面\u001b[0m\u001b[32m探险的情景。\n",
                        "- 引入\u001b[0m\u001b[32m小动物（如小兔、小\u001b[0m\u001b[32m猫）的惊喜相遇，增添温馨\u001b[0m\u001b[32m气氛。\n",
                        "- 字数限制：2\u001b[0m\u001b[32m0字\n",
                        "</OUTLINE>\n",
                        "\n",
                        "##\u001b[0m\u001b[32m 第二段：月下共舞\n",
                        "\u001b[0m\u001b[32m<OUTLINE>\n",
                        "扩写要求：\n",
                        "\u001b[0m\u001b[32m- 继续小星星的旅程\u001b[0m\u001b[32m，描述它与地面上的朋友在\u001b[0m\u001b[32m月光下跳舞的欢乐场景。\n",
                        "\u001b[0m\u001b[32m- 表达友情与快乐的主题\u001b[0m\u001b[32m，简述自然界的宁静美好。\n",
                        "\u001b[0m\u001b[32m- 字数限制：20字\u001b[0m\u001b[32m\n",
                        "</OUTLINE>\u001b[0m\u001b[32m\u001b[0m\n",
                        "\n",
                        "[AGENT] \u001b[34m>>> Node 2: FromOutline\u001b[0m\n",
                        "[AGENT] \u001b[34m执行扩写任务 <7138-776-002>：\n",
                        "扩写要求：\n",
                        "- 描述小星星离开天空的家，去地面探险的情景。\n",
                        "- 引入小动物（如小兔、小猫）的惊喜相遇，增添温馨气氛。\n",
                        "- 字数限制：20字\u001b[0m\n",
                        "\u001b[32m小\u001b[0m\u001b[32m星星\u001b[0m\u001b[32m跃\u001b[0m\u001b[32m出银河边，轻\u001b[0m\u001b[32m旋降落在林间。小兔\u001b[0m\u001b[32m小猫齐惊叹，月下新友\u001b[0m\u001b[32m共翩跹。\u001b[0m\u001b[32m\u001b[0m\n",
                        "\n",
                        "[AGENT] \u001b[34m执行扩写任务 <7138-085-005>：\n",
                        "扩写要求：\n",
                        "- 继续小星星的旅程，描述它与地面上的朋友在月光下跳舞的欢乐场景。\n",
                        "- 表达友情与快乐的主题，简述自然界的宁静美好。\n",
                        "- 字数限制：20字\u001b[0m\n",
                        "\u001b[32m小\u001b[0m\u001b[32m星星\u001b[0m\u001b[32m落\u001b[0m\u001b[32m树梢，与林\u001b[0m\u001b[32m间小动物，月光轻抚\u001b[0m\u001b[32m下，共舞谱欢笑，\u001b[0m\u001b[32m宁静夜更妙。\u001b[0m\u001b[32m\u001b[0m\n",
                        "\n"
                    ]
                },
                {
                    "data": {
                        "text/plain": [
                            "'小星星落树梢，与林间小动物，月光轻抚下，共舞谱欢笑，宁静夜更妙。'"
                        ]
                    },
                    "execution_count": 9,
                    "metadata": {},
                    "output_type": "execute_result"
                }
            ],
            "source": [
                "from illufly.agent import ChatQwen, Pipe, FromOutline\n",
                "from illufly.io import log, alog\n",
                "from illufly.hub import Template\n",
                "\n",
                "writer = Pipe(\n",
                "    ChatQwen(memory=[Template(\"OUTLINE\"), \"请开始编写提纲\"]),\n",
                "    FromOutline(ChatQwen(memory=[Template(\"FROM_OUTLINE\")]))\n",
                ")\n",
                "\n",
                "log(writer, \"写一首两段儿歌，每段20个字即可，策划简单一点\")"
            ]
        },
        {
            "cell_type": "code",
            "execution_count": 10,
            "id": "0bcff25d-bb2f-4052-8652-4b61e06d95e6",
            "metadata": {},
            "outputs": [
                {
                    "data": {
                        "text/plain": [
                            "[{'role': 'system',\n",
                            "  'content': '你是强大的写作助手。\\n\\n你必须遵循以下约束来完成任务:\\n1. 直接输出你的结果，不要评论，不要啰嗦\\n2. 使用markdown格式输出\\n3. 请按照需要输出一份写作提纲\\n4. 提纲的构成应当由多个阔系额要求构成\\n5. 扩写要求必须包含清晰描述，如预估字数、创意要点、创作思路、创作中涉及到的实体名称等\\n5. 每一个扩写要求由完整的 `<OUTLINE>`和`</OUTLINE>` 包裹\\n6. 你只能输出提纲，不要输出具体的扩写内容\\n\\n**你的任务是:**\\n写一首两段儿歌，每段20个字即可，策划简单一点\\n\\n\\n**输出例子1**\\n```\\n# 第一章 标题1\\n## 一、XXXX\\n<OUTLINE>\\n扩写摘要:\\n对扩写内容做摘要总结\\n\\n扩写要求：\\n- xxx\\n- xxx\\n</OUTLINE>\\n\\n## 二、XXXX\\n<OUTLINE>\\n</OUTLINE>\\n\\n## （更多扩写提纲）\\n```\\n\\n'},\n",
                            " {'role': 'user', 'content': '请开始编写提纲'},\n",
                            " {'role': 'assistant',\n",
                            "  'content': '# 儿歌：小星星的夜游\\n## 第一段：星空奇遇\\n<OUTLINE>\\n扩写要求：\\n- 描述小星星离开天空的家，去地面探险的情景。\\n- 引入小动物（如小兔、小猫）的惊喜相遇，增添温馨气氛。\\n- 字数限制：20字\\n</OUTLINE>\\n\\n## 第二段：月下共舞\\n<OUTLINE>\\n扩写要求：\\n- 继续小星星的旅程，描述它与地面上的朋友在月光下跳舞的欢乐场景。\\n- 表达友情与快乐的主题，简述自然界的宁静美好。\\n- 字数限制：20字\\n</OUTLINE>'}]"
                        ]
                    },
                    "execution_count": 10,
                    "metadata": {},
                    "output_type": "execute_result"
                }
            ],
            "source": [
                "writer.runnables[0].memory"
            ]
        },
        {
            "cell_type": "code",
            "execution_count": 11,
            "id": "5d28fef1-9d7a-4337-a6cc-a3359a5c20fc",
            "metadata": {},
            "outputs": [
                {
                    "name": "stdout",
                    "output_type": "stream",
                    "text": [
                        "# 儿歌：小星星的夜游\n",
                        "\n",
                        "## 第一段：星空奇遇\n",
                        "\n",
                        "小星星跃出银河边，轻旋降落在林间。小兔小猫齐惊叹，月下新友共翩跹。\n",
                        "\n",
                        "\n",
                        "## 第二段：月下共舞\n",
                        "\n",
                        "小星星落树梢，与林间小动物，月光轻抚下，共舞谱欢笑，宁静夜更妙。\n",
                        "\n",
                        "\n"
                    ]
                }
            ],
            "source": [
                "print(writer.runnables[1].output)"
            ]
        },
        {
            "cell_type": "code",
            "execution_count": 6,
            "id": "93bab779-42e8-4e54-9e22-b44a52097f6b",
            "metadata": {},
            "outputs": [
                {
                    "data": {
                        "text/plain": [
                            "{'6983-282-002': <illufly.agent.llm.dashscope.ChatQwen at 0x10cc2b7f0>,\n",
                            " '6983-094-005': <illufly.agent.llm.dashscope.ChatQwen at 0x11e4c4d90>}"
                        ]
                    },
                    "execution_count": 6,
                    "metadata": {},
                    "output_type": "execute_result"
                }
            ],
            "source": [
                "writer.runnables[1].runnables"
            ]
        },
        {
            "cell_type": "code",
            "execution_count": 7,
            "id": "931e183e-f555-4ea7-9532-78d89b9ff404",
            "metadata": {},
            "outputs": [
                {
                    "data": {
                        "text/plain": [
                            "[{'role': 'system',\n",
                            "  'content': '你是强大的写作助手。\\n\\n你必须遵循以下约束来完成任务:\\n1. 直接输出你的结果，不要评论，不要啰嗦\\n2. 使用markdown格式输出\\n3. 你必须根据已有提纲扩写，不要修改提纲中对扩写的要求和限定，不要额外发挥\\n\\n**已有文字草稿如下:**\\n```markdown\\n# 儿歌：快乐的小星星\\n\\n## 第一段\\n\\n&lt;&lt;&lt;YOUR_TEXT&gt;&gt;&gt;\\n\\n\\n## 第二段\\n\\n...\\n\\n```\\n\\n**请你按照如下扩写任务要求生成一段文字，使其适合替换上面文字草稿中`<<<YOUR_TEXT>>>`所在位置:**\\n```markdown\\n扩写摘要:\\n描绘夜空中闪烁的小星星，营造宁静而美好的夜晚景象。\\n\\n扩写要求：\\n- 描述小星星在夜空中的状态（预估字数：10）\\n- 表达小星星的快乐情绪（预估字数：10）\\n```\\n'},\n",
                            " {'role': 'user', 'content': '请开始扩写'},\n",
                            " {'role': 'assistant',\n",
                            "  'content': '# 儿歌：快乐的小星星\\n\\n## 第一段\\n\\n夜空如画卷展开，小星星眨眼闪亮。  \\n它们轻盈跳跃，在银河里欢畅游荡。\\n\\n## 第二段\\n\\n...'}]"
                        ]
                    },
                    "execution_count": 7,
                    "metadata": {},
                    "output_type": "execute_result"
                }
            ],
            "source": [
                "writer.runnables[1].runnables['6983-282-002'].memory"
            ]
        },
        {
            "cell_type": "code",
            "execution_count": 16,
            "id": "38daa71e-9bac-48d4-918a-932578459265",
            "metadata": {},
            "outputs": [
                {
                    "data": {
                        "text/plain": [
                            "'清晨鸟儿窗前鸣，欢乐歌声醒梦魂。\\n孩童蹦跳离床畔，满怀期待迎晨光。'"
                        ]
                    },
                    "execution_count": 16,
                    "metadata": {},
                    "output_type": "execute_result"
                }
            ],
            "source": [
                "x = '```\\n<OUTLINE>markdown\\n清晨鸟儿窗前鸣，欢乐歌声醒梦魂。\\n孩童蹦跳离床畔，满怀期待迎晨光。\\n</OUTLINE>\\n```'\n",
                "\n",
                "from illufly.utils import extract_text\n",
                "extract_text(extract_text(x, '```', '```'), \"<OUTLINE>\", \"</OUTLINE>\")"
            ]
        },
        {
            "cell_type": "code",
            "execution_count": 5,
            "id": "7e79dbfe-80db-4e4b-b055-f5b57c5381df",
            "metadata": {},
            "outputs": [
                {
                    "data": {
                        "text/plain": [
                            "[{'role': 'system',\n",
                            "  'content': '你是强大的写作助手。\\n\\n你必须遵循以下约束来完成任务:\\n1. 直接输出你的结果，不要评论，不要啰嗦\\n2. 使用markdown格式输出\\n3. 你必须根据已有提纲扩写，不要修改提纲中对扩写的要求和限定，不要额外发挥\\n\\n**已有文字草稿如下:**\\n```markdown\\n```\\n# 儿歌：欢乐小天地\\n\\n## 第一段：动物乐园\\n```\\n\\n...\\n\\n## 第二段：星空幻想\\n\\n&lt;&lt;&lt;YOUR_TEXT&gt;&gt;&gt;\\n\\n\\n```\\n```\\n\\n\\n```\\n\\n**请你按照如下扩写任务要求生成一段文字，使其适合替换上面文字草稿中`<<<YOUR_TEXT>>>`所在位置:**\\n请开始扩写\\n'},\n",
                            " {'role': 'assistant',\n",
                            "  'content': '```markdown\\n夜晚来临，月亮船摇，\\n星星点点，眨着眼笑。\\n小熊星座，讲述古老，\\n银河里藏，神秘的宝。\\n\\n小小梦想，飞出窗角，\\n与流星赛跑，穿过云涛。\\n宇宙的秘密，轻轻揭开，\\n在梦的飞船，勇敢去探险。\\n\\n## 第三段：晨光冒险\\n```'}]"
                        ]
                    },
                    "execution_count": 5,
                    "metadata": {},
                    "output_type": "execute_result"
                }
            ],
            "source": [
                "writer.runnables[1].runnables['5634-512-004'].memory"
            ]
        },
        {
            "cell_type": "code",
            "execution_count": 19,
            "id": "5f1417b1-076b-4757-b880-410da7fbf4e1",
            "metadata": {},
            "outputs": [
                {
                    "name": "stdout",
                    "output_type": "stream",
                    "text": [
                        "# 儿歌：小星星的夜游\n",
                        "\n",
                        "\n",
                        "## 第一段：星星醒来\n",
                        "\n",
                        "夜幕轻垂，万籁俱寂，星空渐渐亮起眼眸。小星星闪耀登场，好奇地眨，探秘夜的温柔。\n",
                        "\n",
                        "\n",
                        "## 第二段：月亮朋友\n",
                        "\n",
                        "小星星遇见了月亮姐姐，手拉手舞动在夜空，欢笑声响彻云霄。\n",
                        "\n",
                        "\n"
                    ]
                }
            ],
            "source": [
                "print(writer.output)"
            ]
        },
        {
            "cell_type": "code",
            "execution_count": 20,
            "id": "27131fe0-d114-4da1-a43e-ceb751d25cbe",
            "metadata": {},
            "outputs": [
                {
                    "data": {
                        "text/plain": [
                            "(<illufly.agent.template.Template at 0x11ee69b10>,\n",
                            " <illufly.agent.llm.dashscope.ChatQwen at 0x10d080b50>,\n",
                            " <illufly.agent.team.from_outline.FromOutline at 0x11ee3ae00>)"
                        ]
                    },
                    "execution_count": 20,
                    "metadata": {},
                    "output_type": "execute_result"
                }
            ],
            "source": [
                "writer.runnables"
            ]
        },
        {
            "cell_type": "code",
            "execution_count": null,
            "id": "35f860bc-1a51-4b35-ae64-77e6bfd27c31",
            "metadata": {},
            "outputs": [],
            "source": []
        }
    ],
    "metadata": {
        "kernelspec": {
            "display_name": "Python 3 (ipykernel)",
            "language": "python",
            "name": "python3"
        },
        "language_info": {
            "codemirror_mode": {
                "name": "ipython",
                "version": 3
            },
            "file_extension": ".py",
            "mimetype": "text/x-python",
            "name": "python",
            "nbconvert_exporter": "python",
            "pygments_lexer": "ipython3",
            "version": "3.10.0"
        }
    },
    "nbformat": 4,
    "nbformat_minor": 5
}