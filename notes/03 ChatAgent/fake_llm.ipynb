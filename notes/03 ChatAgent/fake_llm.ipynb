{
 "cells": [
  {
   "cell_type": "markdown",
   "id": "8bfd27b8-7995-4d63-b249-4c735204df5c",
   "metadata": {},
   "source": [
    "## 模拟大模型调用"
   ]
  },
  {
   "cell_type": "markdown",
   "id": "2378091a-5a9d-4ad9-885e-6c78c8ca88aa",
   "metadata": {},
   "source": [
    "### Reply 模式\n",
    "\n",
    "默认情况下，按照你发送的内容鹦鹉学舌。"
   ]
  },
  {
   "cell_type": "code",
   "execution_count": 1,
   "id": "83cf86c5-2db6-421c-921b-27d887b4c34d",
   "metadata": {},
   "outputs": [
    {
     "name": "stdout",
     "output_type": "stream",
     "text": [
      "[AGENT] \u001b[34mFakeLLM.4394710784\u001b[0m\n",
      "\u001b[32mR\u001b[0m\u001b[32me\u001b[0m\u001b[32mp\u001b[0m\u001b[32ml\u001b[0m\u001b[32my\u001b[0m\u001b[32m \u001b[0m\u001b[32m>\u001b[0m\u001b[32m>\u001b[0m\u001b[32m \u001b[0m\u001b[32m你\u001b[0m\u001b[32m好\u001b[0m\n"
     ]
    },
    {
     "data": {
      "text/plain": [
       "'Reply >> 你好'"
      ]
     },
     "execution_count": 1,
     "metadata": {},
     "output_type": "execute_result"
    }
   ],
   "source": [
    "from illufly.chat import FakeLLM\n",
    "\n",
    "llm = FakeLLM()\n",
    "llm(\"你好\")"
   ]
  },
  {
   "cell_type": "code",
   "execution_count": 2,
   "id": "6fe07db6-d05e-4be6-a8f7-3c56825e7f64",
   "metadata": {},
   "outputs": [
    {
     "name": "stdout",
     "output_type": "stream",
     "text": [
      "{'id': '20241129-45927-0035-3717', 'event': 'message', 'data': '{\"block_id\": \"20241129-45927-0035-3717\", \"block_type\": \"runnable\", \"content\": \"FakeLLM.4394710784\", \"content_id\": \"20241129-45927-0036-8625\", \"created_at\": \"2024-11-29T10:05:27.331976\", \"thread_id\": \"20241129-45925-0000-6055\", \"calling_id\": \"20241129-45927-0001-8929\", \"agent_name\": \"FakeLLM.4394710784\", \"model_name\": null}'}\n",
      "{'id': '20241129-45927-0037-7979', 'event': 'message', 'data': '{\"block_id\": \"20241129-45927-0037-7979\", \"block_type\": \"user\", \"content\": \"你好\", \"content_id\": \"20241129-45927-0038-9635\", \"created_at\": \"2024-11-29T10:05:27.332411\", \"thread_id\": \"20241129-45925-0000-6055\", \"calling_id\": \"20241129-45927-0001-8929\", \"agent_name\": \"FakeLLM.4394710784\", \"model_name\": null}'}\n",
      "{'id': '20241129-45927-0039-6666', 'event': 'message', 'data': '{\"block_id\": \"20241129-45927-0039-6666\", \"block_type\": \"agent\", \"content\": \"FakeLLM.4394710784\", \"content_id\": \"20241129-45927-0040-4490\", \"created_at\": \"2024-11-29T10:05:27.332522\", \"thread_id\": \"20241129-45925-0000-6055\", \"calling_id\": \"20241129-45927-0001-8929\", \"agent_name\": \"FakeLLM.4394710784\", \"model_name\": null}'}\n",
      "{'id': '20241129-45927-0041-7881', 'event': 'message', 'data': '{\"block_id\": \"20241129-45927-0041-7881\", \"block_type\": \"info\", \"content\": \"记住 10 轮对话\", \"content_id\": \"20241129-45927-0042-9746\", \"created_at\": \"2024-11-29T10:05:27.332628\", \"thread_id\": \"20241129-45925-0000-6055\", \"calling_id\": \"20241129-45927-0001-8929\", \"agent_name\": \"FakeLLM.4394710784\", \"model_name\": null}'}\n",
      "{'id': '20241129-45927-0043-5302', 'event': 'message', 'data': '{\"block_id\": \"20241129-45927-0043-5302\", \"block_type\": \"info\", \"content\": \"I am FakeLLM\", \"content_id\": \"66ff1418adf611ef83b0acde48001122\", \"created_at\": \"2024-11-29T10:05:27.332816\", \"thread_id\": \"20241129-45925-0000-6055\", \"calling_id\": \"20241129-45927-0001-8929\", \"agent_name\": \"FakeLLM.4394710784\", \"model_name\": null}'}\n",
      "{'id': '20241129-45927-0045-2857', 'event': 'message', 'data': '{\"block_id\": \"20241129-45927-0045-2857\", \"block_type\": \"chunk\", \"content\": \"R\", \"content_id\": \"66ff1418adf611ef83b0acde48001122\", \"created_at\": \"2024-11-29T10:05:27.537023\", \"thread_id\": \"20241129-45925-0000-6055\", \"calling_id\": \"20241129-45927-0001-8929\", \"agent_name\": \"FakeLLM.4394710784\", \"model_name\": null}'}\n",
      "{'id': '20241129-45927-0047-1199', 'event': 'message', 'data': '{\"block_id\": \"20241129-45927-0047-1199\", \"block_type\": \"chunk\", \"content\": \"e\", \"content_id\": \"66ff1418adf611ef83b0acde48001122\", \"created_at\": \"2024-11-29T10:05:27.739453\", \"thread_id\": \"20241129-45925-0000-6055\", \"calling_id\": \"20241129-45927-0001-8929\", \"agent_name\": \"FakeLLM.4394710784\", \"model_name\": null}'}\n",
      "{'id': '20241129-45927-0049-3738', 'event': 'message', 'data': '{\"block_id\": \"20241129-45927-0049-3738\", \"block_type\": \"chunk\", \"content\": \"p\", \"content_id\": \"66ff1418adf611ef83b0acde48001122\", \"created_at\": \"2024-11-29T10:05:27.944337\", \"thread_id\": \"20241129-45925-0000-6055\", \"calling_id\": \"20241129-45927-0001-8929\", \"agent_name\": \"FakeLLM.4394710784\", \"model_name\": null}'}\n",
      "{'id': '20241129-45928-0051-4681', 'event': 'message', 'data': '{\"block_id\": \"20241129-45928-0051-4681\", \"block_type\": \"chunk\", \"content\": \"l\", \"content_id\": \"66ff1418adf611ef83b0acde48001122\", \"created_at\": \"2024-11-29T10:05:28.146984\", \"thread_id\": \"20241129-45925-0000-6055\", \"calling_id\": \"20241129-45927-0001-8929\", \"agent_name\": \"FakeLLM.4394710784\", \"model_name\": null}'}\n",
      "{'id': '20241129-45928-0053-6694', 'event': 'message', 'data': '{\"block_id\": \"20241129-45928-0053-6694\", \"block_type\": \"chunk\", \"content\": \"y\", \"content_id\": \"66ff1418adf611ef83b0acde48001122\", \"created_at\": \"2024-11-29T10:05:28.351199\", \"thread_id\": \"20241129-45925-0000-6055\", \"calling_id\": \"20241129-45927-0001-8929\", \"agent_name\": \"FakeLLM.4394710784\", \"model_name\": null}'}\n",
      "{'id': '20241129-45928-0055-5601', 'event': 'message', 'data': '{\"block_id\": \"20241129-45928-0055-5601\", \"block_type\": \"chunk\", \"content\": \" \", \"content_id\": \"66ff1418adf611ef83b0acde48001122\", \"created_at\": \"2024-11-29T10:05:28.554485\", \"thread_id\": \"20241129-45925-0000-6055\", \"calling_id\": \"20241129-45927-0001-8929\", \"agent_name\": \"FakeLLM.4394710784\", \"model_name\": null}'}\n",
      "{'id': '20241129-45928-0057-9502', 'event': 'message', 'data': '{\"block_id\": \"20241129-45928-0057-9502\", \"block_type\": \"chunk\", \"content\": \">\", \"content_id\": \"66ff1418adf611ef83b0acde48001122\", \"created_at\": \"2024-11-29T10:05:28.760143\", \"thread_id\": \"20241129-45925-0000-6055\", \"calling_id\": \"20241129-45927-0001-8929\", \"agent_name\": \"FakeLLM.4394710784\", \"model_name\": null}'}\n",
      "{'id': '20241129-45928-0059-0862', 'event': 'message', 'data': '{\"block_id\": \"20241129-45928-0059-0862\", \"block_type\": \"chunk\", \"content\": \">\", \"content_id\": \"66ff1418adf611ef83b0acde48001122\", \"created_at\": \"2024-11-29T10:05:28.964553\", \"thread_id\": \"20241129-45925-0000-6055\", \"calling_id\": \"20241129-45927-0001-8929\", \"agent_name\": \"FakeLLM.4394710784\", \"model_name\": null}'}\n",
      "{'id': '20241129-45929-0061-8005', 'event': 'message', 'data': '{\"block_id\": \"20241129-45929-0061-8005\", \"block_type\": \"chunk\", \"content\": \" \", \"content_id\": \"66ff1418adf611ef83b0acde48001122\", \"created_at\": \"2024-11-29T10:05:29.167640\", \"thread_id\": \"20241129-45925-0000-6055\", \"calling_id\": \"20241129-45927-0001-8929\", \"agent_name\": \"FakeLLM.4394710784\", \"model_name\": null}'}\n",
      "{'id': '20241129-45929-0063-5022', 'event': 'message', 'data': '{\"block_id\": \"20241129-45929-0063-5022\", \"block_type\": \"chunk\", \"content\": \"你\", \"content_id\": \"66ff1418adf611ef83b0acde48001122\", \"created_at\": \"2024-11-29T10:05:29.370677\", \"thread_id\": \"20241129-45925-0000-6055\", \"calling_id\": \"20241129-45927-0001-8929\", \"agent_name\": \"FakeLLM.4394710784\", \"model_name\": null}'}\n",
      "{'id': '20241129-45929-0065-4716', 'event': 'message', 'data': '{\"block_id\": \"20241129-45929-0065-4716\", \"block_type\": \"chunk\", \"content\": \"好\", \"content_id\": \"66ff1418adf611ef83b0acde48001122\", \"created_at\": \"2024-11-29T10:05:29.575107\", \"thread_id\": \"20241129-45925-0000-6055\", \"calling_id\": \"20241129-45927-0001-8929\", \"agent_name\": \"FakeLLM.4394710784\", \"model_name\": null}'}\n",
      "{'id': '20241129-45929-0067-7043', 'event': 'message', 'data': '{\"block_id\": \"20241129-45929-0067-7043\", \"block_type\": \"new_line\", \"content\": \"\", \"content_id\": \"66ff1418adf611ef83b0acde48001122\", \"created_at\": \"2024-11-29T10:05:29.575732\", \"thread_id\": null, \"calling_id\": \"20241129-45927-0001-8929\", \"agent_name\": null, \"model_name\": null}'}\n",
      "{'id': '20241129-45929-0069-7500', 'event': 'message', 'data': '{\"block_id\": \"20241129-45929-0069-7500\", \"block_type\": \"final_text\", \"content\": \"Reply >> 你好\", \"content_id\": \"66ff1418adf611ef83b0acde48001122\", \"created_at\": \"2024-11-29T10:05:29.576141\", \"thread_id\": \"20241129-45925-0000-6055\", \"calling_id\": \"20241129-45927-0001-8929\", \"agent_name\": \"FakeLLM.4394710784\", \"model_name\": null}'}\n"
     ]
    }
   ],
   "source": [
    "for b in llm(\"你好\", generator=\"sync\"):\n",
    "    print(b)"
   ]
  },
  {
   "cell_type": "markdown",
   "id": "8647e1ca-b5b2-4ead-95b4-20ee64dd8e59",
   "metadata": {},
   "source": [
    "### 顺序回应\n",
    "\n",
    "预先填写一个回复。"
   ]
  },
  {
   "cell_type": "code",
   "execution_count": 3,
   "id": "31483907-14a5-4e4c-9270-a4ab6518814b",
   "metadata": {},
   "outputs": [
    {
     "name": "stdout",
     "output_type": "stream",
     "text": [
      "[AGENT] \u001b[34mFakeLLM.4394700512\u001b[0m\n",
      "\u001b[32m你\u001b[0m\u001b[32m谁\u001b[0m\u001b[32m啊\u001b[0m\u001b[32m？\u001b[0m\n"
     ]
    },
    {
     "data": {
      "text/plain": [
       "'你谁啊？'"
      ]
     },
     "execution_count": 3,
     "metadata": {},
     "output_type": "execute_result"
    }
   ],
   "source": [
    "from illufly.chat import FakeLLM\n",
    "\n",
    "llm = FakeLLM(response=\"你谁啊？\")\n",
    "llm(\"你好\")"
   ]
  },
  {
   "cell_type": "markdown",
   "id": "a227c0c4-6f73-40e9-944a-5464ac804231",
   "metadata": {},
   "source": [
    "你也可以准备很多回复，作为一个列表提供："
   ]
  },
  {
   "cell_type": "code",
   "execution_count": 4,
   "id": "a5e3c29c-c06e-470b-9440-fd744f51cfe3",
   "metadata": {},
   "outputs": [
    {
     "name": "stdout",
     "output_type": "stream",
     "text": [
      "[HUMAN] \u001b[34m楼上322是曲冬梅家吗？\u001b[0m\n",
      "[AGENT] \u001b[34m老大爷\u001b[0m\n",
      "\u001b[32m曲\u001b[0m\u001b[32m什\u001b[0m\u001b[32m么\u001b[0m\u001b[32m梅\u001b[0m\u001b[32m？\u001b[0m\n",
      "[HUMAN] \u001b[34m曲-冬梅\u001b[0m\n",
      "[AGENT] \u001b[34m老大爷\u001b[0m\n",
      "\u001b[32m什\u001b[0m\u001b[32m么\u001b[0m\u001b[32m冬\u001b[0m\u001b[32m梅\u001b[0m\u001b[32m？\u001b[0m\n",
      "[HUMAN] \u001b[34m曲冬-梅啊\u001b[0m\n",
      "[AGENT] \u001b[34m老大爷\u001b[0m\n",
      "\u001b[32m曲\u001b[0m\u001b[32m冬\u001b[0m\u001b[32m什\u001b[0m\u001b[32m么\u001b[0m\u001b[32m？\u001b[0m\n",
      "[HUMAN] \u001b[34m您歇着吧\u001b[0m\n",
      "[AGENT] \u001b[34m老大爷\u001b[0m\n",
      "\u001b[32m好\u001b[0m\u001b[32m咧\u001b[0m\n"
     ]
    }
   ],
   "source": [
    "from illufly.chat import FakeLLM\n",
    "\n",
    "llm = FakeLLM(name=\"老大爷\", response=[\"曲什么梅？\", \"什么冬梅？\", \"曲冬什么？\", \"好咧\"])\n",
    "for x in [\"楼上322是曲冬梅家吗？\", \"曲-冬梅\", \"曲冬-梅啊\", \"您歇着吧\"]:\n",
    "    llm(x)"
   ]
  },
  {
   "cell_type": "markdown",
   "id": "df4c921a-fd20-4b99-a6f4-1b426c9cb8b5",
   "metadata": {},
   "source": [
    "### 结合 Selector 使用"
   ]
  },
  {
   "cell_type": "code",
   "execution_count": 1,
   "id": "c86137bc-5cfb-4768-8c94-e6a71d537c4b",
   "metadata": {},
   "outputs": [
    {
     "name": "stdout",
     "output_type": "stream",
     "text": [
      "[HUMAN] \u001b[32m大家，楼上322是曲冬梅家吗？\u001b[0m\n",
      "[AGENT] \u001b[34m老大爷\u001b[0m\n",
      "\u001b[32m曲\u001b[0m\u001b[32m什\u001b[0m\u001b[32m么\u001b[0m\u001b[32m梅\u001b[0m\u001b[32m？\u001b[0m\n",
      "[HUMAN] \u001b[32m曲-冬梅\u001b[0m\n",
      "[AGENT] \u001b[34m老大爷\u001b[0m\n",
      "\u001b[32m什\u001b[0m\u001b[32m么\u001b[0m\u001b[32m冬\u001b[0m\u001b[32m梅\u001b[0m\u001b[32m？\u001b[0m\n",
      "[HUMAN] \u001b[32m曲冬-梅啊\u001b[0m\n",
      "[AGENT] \u001b[34m老大娘\u001b[0m\n",
      "\u001b[32m你\u001b[0m\u001b[32m谁\u001b[0m\u001b[32m啊\u001b[0m\u001b[32m？\u001b[0m\n",
      "[HUMAN] \u001b[32m您歇着吧\u001b[0m\n",
      "[AGENT] \u001b[34m老大娘\u001b[0m\n",
      "\u001b[32m你\u001b[0m\u001b[32m谁\u001b[0m\u001b[32m啊\u001b[0m\u001b[32m？\u001b[0m\n"
     ]
    }
   ],
   "source": [
    "from illufly.chat import FakeLLM\n",
    "from illufly.flow import FlowAgent, Selector\n",
    "\n",
    "llm = Selector(runnables=[\n",
    "    FakeLLM(name=\"老大爷\", response=[\"曲什么梅？\", \"什么冬梅？\", \"曲冬什么？\", \"好咧\"]),\n",
    "    FakeLLM(name=\"老大娘\", response=\"你谁啊？\")\n",
    "], condition=\"random\")\n",
    "\n",
    "for x in [\"大家，楼上322是曲冬梅家吗？\", \"曲-冬梅\", \"曲冬-梅啊\", \"您歇着吧\"]:\n",
    "    llm(x)"
   ]
  },
  {
   "cell_type": "code",
   "execution_count": null,
   "id": "7d5c32e7-9495-4cc5-94a3-ee0843609ee1",
   "metadata": {},
   "outputs": [],
   "source": []
  }
 ],
 "metadata": {
  "kernelspec": {
   "display_name": "same_to_illufly",
   "language": "python",
   "name": "same_to_illufly"
  },
  "language_info": {
   "codemirror_mode": {
    "name": "ipython",
    "version": 3
   },
   "file_extension": ".py",
   "mimetype": "text/x-python",
   "name": "python",
   "nbconvert_exporter": "python",
   "pygments_lexer": "ipython3",
   "version": "3.10.0"
  }
 },
 "nbformat": 4,
 "nbformat_minor": 5
}
