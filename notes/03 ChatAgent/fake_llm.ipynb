{
 "cells": [
  {
   "cell_type": "markdown",
   "id": "8bfd27b8-7995-4d63-b249-4c735204df5c",
   "metadata": {},
   "source": [
    "## 模拟大模型调用"
   ]
  },
  {
   "cell_type": "markdown",
   "id": "2378091a-5a9d-4ad9-885e-6c78c8ca88aa",
   "metadata": {},
   "source": [
    "### Reply 模式\n",
    "\n",
    "默认情况下，按照你发送的内容鹦鹉学舌。"
   ]
  },
  {
   "cell_type": "code",
   "execution_count": 7,
   "id": "83cf86c5-2db6-421c-921b-27d887b4c34d",
   "metadata": {},
   "outputs": [
    {
     "name": "stdout",
     "output_type": "stream",
     "text": [
      "\u001b[32mR\u001b[0m\u001b[32me\u001b[0m\u001b[32mp\u001b[0m\u001b[32ml\u001b[0m\u001b[32my\u001b[0m\u001b[32m \u001b[0m\u001b[32m>\u001b[0m\u001b[32m>\u001b[0m\u001b[32m \u001b[0m\u001b[32m你\u001b[0m\u001b[32m好\u001b[0m\n"
     ]
    },
    {
     "data": {
      "text/plain": [
       "'Reply >> 你好'"
      ]
     },
     "execution_count": 7,
     "metadata": {},
     "output_type": "execute_result"
    }
   ],
   "source": [
    "from illufly.chat import FakeLLM\n",
    "\n",
    "llm = FakeLLM()\n",
    "llm(\"你好\")"
   ]
  },
  {
   "cell_type": "markdown",
   "id": "8647e1ca-b5b2-4ead-95b4-20ee64dd8e59",
   "metadata": {},
   "source": [
    "### 顺序回应\n",
    "\n",
    "预先填写一个回复。"
   ]
  },
  {
   "cell_type": "code",
   "execution_count": 2,
   "id": "31483907-14a5-4e4c-9270-a4ab6518814b",
   "metadata": {},
   "outputs": [
    {
     "name": "stdout",
     "output_type": "stream",
     "text": [
      "[USER] \u001b[34m你好\u001b[0m\n",
      "\u001b[32m你\u001b[0m\u001b[32m谁\u001b[0m\u001b[32m啊\u001b[0m\u001b[32m？\u001b[0m\n"
     ]
    },
    {
     "data": {
      "text/plain": [
       "'你谁啊？'"
      ]
     },
     "execution_count": 2,
     "metadata": {},
     "output_type": "execute_result"
    }
   ],
   "source": [
    "from illufly.chat import FakeLLM\n",
    "\n",
    "llm = FakeLLM(response=\"你谁啊？\")\n",
    "llm(\"你好\")"
   ]
  },
  {
   "cell_type": "markdown",
   "id": "a227c0c4-6f73-40e9-944a-5464ac804231",
   "metadata": {},
   "source": [
    "你也可以准备很多回复，作为一个列表提供："
   ]
  },
  {
   "cell_type": "code",
   "execution_count": 1,
   "id": "a5e3c29c-c06e-470b-9440-fd744f51cfe3",
   "metadata": {},
   "outputs": [
    {
     "name": "stdout",
     "output_type": "stream",
     "text": [
      "[USER] \u001b[34m大家，楼上322是曲冬梅家吗？\u001b[0m\n",
      "\u001b[32m曲\u001b[0m\u001b[32m什\u001b[0m\u001b[32m么\u001b[0m\u001b[32m梅\u001b[0m\u001b[32m？\u001b[0m\n",
      "[USER] \u001b[34m曲-冬梅\u001b[0m\n",
      "\u001b[32m什\u001b[0m\u001b[32m么\u001b[0m\u001b[32m冬\u001b[0m\u001b[32m梅\u001b[0m\u001b[32m？\u001b[0m\n",
      "[USER] \u001b[34m曲冬-梅啊\u001b[0m\n",
      "\u001b[32m曲\u001b[0m\u001b[32m冬\u001b[0m\u001b[32m什\u001b[0m\u001b[32m么\u001b[0m\u001b[32m？\u001b[0m\n",
      "[USER] \u001b[34m您歇着吧\u001b[0m\n",
      "\u001b[32m好\u001b[0m\u001b[32m咧\u001b[0m\n"
     ]
    }
   ],
   "source": [
    "from illufly.chat import FakeLLM\n",
    "\n",
    "llm = FakeLLM(name=\"评论家1\", response=[\"曲什么梅？\", \"什么冬梅？\", \"曲冬什么？\", \"好咧\"])\n",
    "for x in [\"大家，楼上322是曲冬梅家吗？\", \"曲-冬梅\", \"曲冬-梅啊\", \"您歇着吧\"]:\n",
    "    llm(x)"
   ]
  },
  {
   "cell_type": "markdown",
   "id": "df4c921a-fd20-4b99-a6f4-1b426c9cb8b5",
   "metadata": {},
   "source": [
    "### 结合 Selector 使用"
   ]
  },
  {
   "cell_type": "code",
   "execution_count": 8,
   "id": "c86137bc-5cfb-4768-8c94-e6a71d537c4b",
   "metadata": {},
   "outputs": [
    {
     "name": "stdout",
     "output_type": "stream",
     "text": [
      "[USER] \u001b[34m大家，楼上322是曲冬梅家吗？\u001b[0m\n",
      "\u001b[32m曲\u001b[0m\u001b[32m什\u001b[0m\u001b[32m么\u001b[0m\u001b[32m梅\u001b[0m\u001b[32m？\u001b[0m\n",
      "[USER] \u001b[34m曲-冬梅\u001b[0m\n",
      "\u001b[32m你\u001b[0m\u001b[32m谁\u001b[0m\u001b[32m啊\u001b[0m\u001b[32m？\u001b[0m\n",
      "[USER] \u001b[34m曲冬-梅啊\u001b[0m\n",
      "\u001b[32m什\u001b[0m\u001b[32m么\u001b[0m\u001b[32m冬\u001b[0m\u001b[32m梅\u001b[0m\u001b[32m？\u001b[0m\n",
      "[USER] \u001b[34m您歇着吧\u001b[0m\n",
      "\u001b[32m你\u001b[0m\u001b[32m谁\u001b[0m\u001b[32m啊\u001b[0m\u001b[32m？\u001b[0m\n"
     ]
    }
   ],
   "source": [
    "from illufly.chat import FakeLLM\n",
    "from illufly.flow import FlowAgent, Selector\n",
    "\n",
    "llm = Selector(runnables=[\n",
    "    FakeLLM(name=\"评论家1\", response=[\"曲什么梅？\", \"什么冬梅？\", \"曲冬什么？\", \"好咧\"]),\n",
    "    FakeLLM(name=\"评论家1\", response=\"你谁啊？\")\n",
    "], condition=\"random\")\n",
    "\n",
    "for x in [\"大家，楼上322是曲冬梅家吗？\", \"曲-冬梅\", \"曲冬-梅啊\", \"您歇着吧\"]:\n",
    "    llm(x)"
   ]
  },
  {
   "cell_type": "code",
   "execution_count": null,
   "id": "7d5c32e7-9495-4cc5-94a3-ee0843609ee1",
   "metadata": {},
   "outputs": [],
   "source": []
  }
 ],
 "metadata": {
  "kernelspec": {
   "display_name": "textlong-same-ipykernel",
   "language": "python",
   "name": "textlong-same-ipykernel"
  },
  "language_info": {
   "codemirror_mode": {
    "name": "ipython",
    "version": 3
   },
   "file_extension": ".py",
   "mimetype": "text/x-python",
   "name": "python",
   "nbconvert_exporter": "python",
   "pygments_lexer": "ipython3",
   "version": "3.10.0"
  }
 },
 "nbformat": 4,
 "nbformat_minor": 5
}
