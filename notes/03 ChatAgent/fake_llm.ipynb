{
 "cells": [
  {
   "cell_type": "markdown",
   "id": "8bfd27b8-7995-4d63-b249-4c735204df5c",
   "metadata": {},
   "source": [
    "## 模拟大模型调用"
   ]
  },
  {
   "cell_type": "markdown",
   "id": "2378091a-5a9d-4ad9-885e-6c78c8ca88aa",
   "metadata": {},
   "source": [
    "### Reply 模式\n",
    "\n",
    "默认情况下，按照你发送的内容鹦鹉学舌。"
   ]
  },
  {
   "cell_type": "code",
   "execution_count": 1,
   "id": "83cf86c5-2db6-421c-921b-27d887b4c34d",
   "metadata": {},
   "outputs": [
    {
     "name": "stdout",
     "output_type": "stream",
     "text": [
      "[HUMAN] \u001b[32m你好\u001b[0m\n",
      "[AGENT] \u001b[34mFakeLLM.4593111088\u001b[0m\n",
      "\u001b[32mR\u001b[0m\u001b[32me\u001b[0m\u001b[32mp\u001b[0m\u001b[32ml\u001b[0m\u001b[32my\u001b[0m\u001b[32m \u001b[0m\u001b[32m>\u001b[0m\u001b[32m>\u001b[0m\u001b[32m \u001b[0m\u001b[32m你\u001b[0m\u001b[32m好\u001b[0m\n"
     ]
    },
    {
     "data": {
      "text/plain": [
       "'Reply >> 你好'"
      ]
     },
     "execution_count": 1,
     "metadata": {},
     "output_type": "execute_result"
    }
   ],
   "source": [
    "from illufly.chat import FakeLLM\n",
    "\n",
    "llm = FakeLLM()\n",
    "llm(\"你好\")"
   ]
  },
  {
   "cell_type": "code",
   "execution_count": 2,
   "id": "6fe07db6-d05e-4be6-a8f7-3c56825e7f64",
   "metadata": {
    "scrolled": true
   },
   "outputs": [
    {
     "name": "stdout",
     "output_type": "stream",
     "text": [
      "{'id': '20241129-66917-0039-3288', 'event': 'message', 'data': '{\"block_id\": \"20241129-66917-0039-3288\", \"block_type\": \"agent\", \"content\": \"FakeLLM.4593111088\", \"content_id\": \"20241129-66917-0040-8341\", \"created_at\": \"2024-11-29T15:55:17.185798\", \"thread_id\": \"20241129-66912-0000-9594\", \"calling_id\": \"20241129-66917-0001-6660\", \"agent_name\": \"FakeLLM.4593111088\", \"model_name\": null}'}\n",
      "{'id': '20241129-66917-0041-2787', 'event': 'message', 'data': '{\"block_id\": \"20241129-66917-0041-2787\", \"block_type\": \"info\", \"content\": \"记住 10 轮对话\", \"content_id\": \"20241129-66917-0042-3014\", \"created_at\": \"2024-11-29T15:55:17.186356\", \"thread_id\": \"20241129-66912-0000-9594\", \"calling_id\": \"20241129-66917-0001-6660\", \"agent_name\": \"FakeLLM.4593111088\", \"model_name\": null}'}\n",
      "{'id': '20241129-66917-0043-4916', 'event': 'message', 'data': '{\"block_id\": \"20241129-66917-0043-4916\", \"block_type\": \"info\", \"content\": \"I am FakeLLM\", \"content_id\": \"45ec96f2ae2711efb2b6acde48001122\", \"created_at\": \"2024-11-29T15:55:17.186602\", \"thread_id\": \"20241129-66912-0000-9594\", \"calling_id\": \"20241129-66917-0001-6660\", \"agent_name\": \"FakeLLM.4593111088\", \"model_name\": null}'}\n",
      "{'id': '20241129-66917-0045-4839', 'event': 'message', 'data': '{\"block_id\": \"20241129-66917-0045-4839\", \"block_type\": \"chunk\", \"content\": \"R\", \"content_id\": \"45ec96f2ae2711efb2b6acde48001122\", \"created_at\": \"2024-11-29T15:55:17.389620\", \"thread_id\": \"20241129-66912-0000-9594\", \"calling_id\": \"20241129-66917-0001-6660\", \"agent_name\": \"FakeLLM.4593111088\", \"model_name\": null}'}\n",
      "{'id': '20241129-66917-0047-4871', 'event': 'message', 'data': '{\"block_id\": \"20241129-66917-0047-4871\", \"block_type\": \"chunk\", \"content\": \"e\", \"content_id\": \"45ec96f2ae2711efb2b6acde48001122\", \"created_at\": \"2024-11-29T15:55:17.594711\", \"thread_id\": \"20241129-66912-0000-9594\", \"calling_id\": \"20241129-66917-0001-6660\", \"agent_name\": \"FakeLLM.4593111088\", \"model_name\": null}'}\n",
      "{'id': '20241129-66917-0049-7453', 'event': 'message', 'data': '{\"block_id\": \"20241129-66917-0049-7453\", \"block_type\": \"chunk\", \"content\": \"p\", \"content_id\": \"45ec96f2ae2711efb2b6acde48001122\", \"created_at\": \"2024-11-29T15:55:17.800147\", \"thread_id\": \"20241129-66912-0000-9594\", \"calling_id\": \"20241129-66917-0001-6660\", \"agent_name\": \"FakeLLM.4593111088\", \"model_name\": null}'}\n",
      "{'id': '20241129-66918-0051-6309', 'event': 'message', 'data': '{\"block_id\": \"20241129-66918-0051-6309\", \"block_type\": \"chunk\", \"content\": \"l\", \"content_id\": \"45ec96f2ae2711efb2b6acde48001122\", \"created_at\": \"2024-11-29T15:55:18.003317\", \"thread_id\": \"20241129-66912-0000-9594\", \"calling_id\": \"20241129-66917-0001-6660\", \"agent_name\": \"FakeLLM.4593111088\", \"model_name\": null}'}\n",
      "{'id': '20241129-66918-0053-4953', 'event': 'message', 'data': '{\"block_id\": \"20241129-66918-0053-4953\", \"block_type\": \"chunk\", \"content\": \"y\", \"content_id\": \"45ec96f2ae2711efb2b6acde48001122\", \"created_at\": \"2024-11-29T15:55:18.207505\", \"thread_id\": \"20241129-66912-0000-9594\", \"calling_id\": \"20241129-66917-0001-6660\", \"agent_name\": \"FakeLLM.4593111088\", \"model_name\": null}'}\n",
      "{'id': '20241129-66918-0055-9757', 'event': 'message', 'data': '{\"block_id\": \"20241129-66918-0055-9757\", \"block_type\": \"chunk\", \"content\": \" \", \"content_id\": \"45ec96f2ae2711efb2b6acde48001122\", \"created_at\": \"2024-11-29T15:55:18.411693\", \"thread_id\": \"20241129-66912-0000-9594\", \"calling_id\": \"20241129-66917-0001-6660\", \"agent_name\": \"FakeLLM.4593111088\", \"model_name\": null}'}\n",
      "{'id': '20241129-66918-0057-2568', 'event': 'message', 'data': '{\"block_id\": \"20241129-66918-0057-2568\", \"block_type\": \"chunk\", \"content\": \">\", \"content_id\": \"45ec96f2ae2711efb2b6acde48001122\", \"created_at\": \"2024-11-29T15:55:18.615511\", \"thread_id\": \"20241129-66912-0000-9594\", \"calling_id\": \"20241129-66917-0001-6660\", \"agent_name\": \"FakeLLM.4593111088\", \"model_name\": null}'}\n",
      "{'id': '20241129-66918-0059-6416', 'event': 'message', 'data': '{\"block_id\": \"20241129-66918-0059-6416\", \"block_type\": \"chunk\", \"content\": \">\", \"content_id\": \"45ec96f2ae2711efb2b6acde48001122\", \"created_at\": \"2024-11-29T15:55:18.818985\", \"thread_id\": \"20241129-66912-0000-9594\", \"calling_id\": \"20241129-66917-0001-6660\", \"agent_name\": \"FakeLLM.4593111088\", \"model_name\": null}'}\n",
      "{'id': '20241129-66919-0061-3336', 'event': 'message', 'data': '{\"block_id\": \"20241129-66919-0061-3336\", \"block_type\": \"chunk\", \"content\": \" \", \"content_id\": \"45ec96f2ae2711efb2b6acde48001122\", \"created_at\": \"2024-11-29T15:55:19.025146\", \"thread_id\": \"20241129-66912-0000-9594\", \"calling_id\": \"20241129-66917-0001-6660\", \"agent_name\": \"FakeLLM.4593111088\", \"model_name\": null}'}\n",
      "{'id': '20241129-66919-0063-3950', 'event': 'message', 'data': '{\"block_id\": \"20241129-66919-0063-3950\", \"block_type\": \"chunk\", \"content\": \"你\", \"content_id\": \"45ec96f2ae2711efb2b6acde48001122\", \"created_at\": \"2024-11-29T15:55:19.228956\", \"thread_id\": \"20241129-66912-0000-9594\", \"calling_id\": \"20241129-66917-0001-6660\", \"agent_name\": \"FakeLLM.4593111088\", \"model_name\": null}'}\n",
      "{'id': '20241129-66919-0065-4377', 'event': 'message', 'data': '{\"block_id\": \"20241129-66919-0065-4377\", \"block_type\": \"chunk\", \"content\": \"好\", \"content_id\": \"45ec96f2ae2711efb2b6acde48001122\", \"created_at\": \"2024-11-29T15:55:19.431675\", \"thread_id\": \"20241129-66912-0000-9594\", \"calling_id\": \"20241129-66917-0001-6660\", \"agent_name\": \"FakeLLM.4593111088\", \"model_name\": null}'}\n"
     ]
    }
   ],
   "source": [
    "for b in llm(\"你好\", generator=\"sync\"):\n",
    "    print(b)"
   ]
  },
  {
   "cell_type": "code",
   "execution_count": 3,
   "id": "95a236aa-1fd2-4179-889f-b693f828eb42",
   "metadata": {
    "scrolled": true
   },
   "outputs": [
    {
     "data": {
      "text/plain": [
       "{'20241129-66912-0000-3745': {'threads': {'FakeLLM.4593111088': '20241129-66912-0000-9594'},\n",
       "  'callings': {'20241129-66917-0001-6660': [{'id': '20241129-66917-0039-3288',\n",
       "     'event': 'message',\n",
       "     'data': '{\"block_id\": \"20241129-66917-0039-3288\", \"block_type\": \"agent\", \"content\": \"FakeLLM.4593111088\", \"content_id\": \"20241129-66917-0040-8341\", \"created_at\": \"2024-11-29T15:55:17.185798\", \"thread_id\": \"20241129-66912-0000-9594\", \"calling_id\": \"20241129-66917-0001-6660\", \"agent_name\": \"FakeLLM.4593111088\", \"model_name\": null}'},\n",
       "    {'id': '20241129-66917-0041-2787',\n",
       "     'event': 'message',\n",
       "     'data': '{\"block_id\": \"20241129-66917-0041-2787\", \"block_type\": \"info\", \"content\": \"记住 10 轮对话\", \"content_id\": \"20241129-66917-0042-3014\", \"created_at\": \"2024-11-29T15:55:17.186356\", \"thread_id\": \"20241129-66912-0000-9594\", \"calling_id\": \"20241129-66917-0001-6660\", \"agent_name\": \"FakeLLM.4593111088\", \"model_name\": null}'},\n",
       "    {'id': '20241129-66917-0043-4916',\n",
       "     'event': 'message',\n",
       "     'data': '{\"block_id\": \"20241129-66917-0043-4916\", \"block_type\": \"info\", \"content\": \"I am FakeLLM\", \"content_id\": \"45ec96f2ae2711efb2b6acde48001122\", \"created_at\": \"2024-11-29T15:55:17.186602\", \"thread_id\": \"20241129-66912-0000-9594\", \"calling_id\": \"20241129-66917-0001-6660\", \"agent_name\": \"FakeLLM.4593111088\", \"model_name\": null}'},\n",
       "    {'id': '20241129-66917-0045-4839',\n",
       "     'event': 'message',\n",
       "     'data': '{\"block_id\": \"20241129-66917-0045-4839\", \"block_type\": \"chunk\", \"content\": \"R\", \"content_id\": \"45ec96f2ae2711efb2b6acde48001122\", \"created_at\": \"2024-11-29T15:55:17.389620\", \"thread_id\": \"20241129-66912-0000-9594\", \"calling_id\": \"20241129-66917-0001-6660\", \"agent_name\": \"FakeLLM.4593111088\", \"model_name\": null}'},\n",
       "    {'id': '20241129-66917-0047-4871',\n",
       "     'event': 'message',\n",
       "     'data': '{\"block_id\": \"20241129-66917-0047-4871\", \"block_type\": \"chunk\", \"content\": \"e\", \"content_id\": \"45ec96f2ae2711efb2b6acde48001122\", \"created_at\": \"2024-11-29T15:55:17.594711\", \"thread_id\": \"20241129-66912-0000-9594\", \"calling_id\": \"20241129-66917-0001-6660\", \"agent_name\": \"FakeLLM.4593111088\", \"model_name\": null}'},\n",
       "    {'id': '20241129-66917-0049-7453',\n",
       "     'event': 'message',\n",
       "     'data': '{\"block_id\": \"20241129-66917-0049-7453\", \"block_type\": \"chunk\", \"content\": \"p\", \"content_id\": \"45ec96f2ae2711efb2b6acde48001122\", \"created_at\": \"2024-11-29T15:55:17.800147\", \"thread_id\": \"20241129-66912-0000-9594\", \"calling_id\": \"20241129-66917-0001-6660\", \"agent_name\": \"FakeLLM.4593111088\", \"model_name\": null}'},\n",
       "    {'id': '20241129-66918-0051-6309',\n",
       "     'event': 'message',\n",
       "     'data': '{\"block_id\": \"20241129-66918-0051-6309\", \"block_type\": \"chunk\", \"content\": \"l\", \"content_id\": \"45ec96f2ae2711efb2b6acde48001122\", \"created_at\": \"2024-11-29T15:55:18.003317\", \"thread_id\": \"20241129-66912-0000-9594\", \"calling_id\": \"20241129-66917-0001-6660\", \"agent_name\": \"FakeLLM.4593111088\", \"model_name\": null}'},\n",
       "    {'id': '20241129-66918-0053-4953',\n",
       "     'event': 'message',\n",
       "     'data': '{\"block_id\": \"20241129-66918-0053-4953\", \"block_type\": \"chunk\", \"content\": \"y\", \"content_id\": \"45ec96f2ae2711efb2b6acde48001122\", \"created_at\": \"2024-11-29T15:55:18.207505\", \"thread_id\": \"20241129-66912-0000-9594\", \"calling_id\": \"20241129-66917-0001-6660\", \"agent_name\": \"FakeLLM.4593111088\", \"model_name\": null}'},\n",
       "    {'id': '20241129-66918-0055-9757',\n",
       "     'event': 'message',\n",
       "     'data': '{\"block_id\": \"20241129-66918-0055-9757\", \"block_type\": \"chunk\", \"content\": \" \", \"content_id\": \"45ec96f2ae2711efb2b6acde48001122\", \"created_at\": \"2024-11-29T15:55:18.411693\", \"thread_id\": \"20241129-66912-0000-9594\", \"calling_id\": \"20241129-66917-0001-6660\", \"agent_name\": \"FakeLLM.4593111088\", \"model_name\": null}'},\n",
       "    {'id': '20241129-66918-0057-2568',\n",
       "     'event': 'message',\n",
       "     'data': '{\"block_id\": \"20241129-66918-0057-2568\", \"block_type\": \"chunk\", \"content\": \">\", \"content_id\": \"45ec96f2ae2711efb2b6acde48001122\", \"created_at\": \"2024-11-29T15:55:18.615511\", \"thread_id\": \"20241129-66912-0000-9594\", \"calling_id\": \"20241129-66917-0001-6660\", \"agent_name\": \"FakeLLM.4593111088\", \"model_name\": null}'},\n",
       "    {'id': '20241129-66918-0059-6416',\n",
       "     'event': 'message',\n",
       "     'data': '{\"block_id\": \"20241129-66918-0059-6416\", \"block_type\": \"chunk\", \"content\": \">\", \"content_id\": \"45ec96f2ae2711efb2b6acde48001122\", \"created_at\": \"2024-11-29T15:55:18.818985\", \"thread_id\": \"20241129-66912-0000-9594\", \"calling_id\": \"20241129-66917-0001-6660\", \"agent_name\": \"FakeLLM.4593111088\", \"model_name\": null}'},\n",
       "    {'id': '20241129-66919-0061-3336',\n",
       "     'event': 'message',\n",
       "     'data': '{\"block_id\": \"20241129-66919-0061-3336\", \"block_type\": \"chunk\", \"content\": \" \", \"content_id\": \"45ec96f2ae2711efb2b6acde48001122\", \"created_at\": \"2024-11-29T15:55:19.025146\", \"thread_id\": \"20241129-66912-0000-9594\", \"calling_id\": \"20241129-66917-0001-6660\", \"agent_name\": \"FakeLLM.4593111088\", \"model_name\": null}'},\n",
       "    {'id': '20241129-66919-0063-3950',\n",
       "     'event': 'message',\n",
       "     'data': '{\"block_id\": \"20241129-66919-0063-3950\", \"block_type\": \"chunk\", \"content\": \"你\", \"content_id\": \"45ec96f2ae2711efb2b6acde48001122\", \"created_at\": \"2024-11-29T15:55:19.228956\", \"thread_id\": \"20241129-66912-0000-9594\", \"calling_id\": \"20241129-66917-0001-6660\", \"agent_name\": \"FakeLLM.4593111088\", \"model_name\": null}'},\n",
       "    {'id': '20241129-66919-0065-4377',\n",
       "     'event': 'message',\n",
       "     'data': '{\"block_id\": \"20241129-66919-0065-4377\", \"block_type\": \"chunk\", \"content\": \"好\", \"content_id\": \"45ec96f2ae2711efb2b6acde48001122\", \"created_at\": \"2024-11-29T15:55:19.431675\", \"thread_id\": \"20241129-66912-0000-9594\", \"calling_id\": \"20241129-66917-0001-6660\", \"agent_name\": \"FakeLLM.4593111088\", \"model_name\": null}'}]}}}"
      ]
     },
     "execution_count": 3,
     "metadata": {},
     "output_type": "execute_result"
    }
   ],
   "source": [
    "llm.events_history.store"
   ]
  },
  {
   "cell_type": "markdown",
   "id": "8647e1ca-b5b2-4ead-95b4-20ee64dd8e59",
   "metadata": {},
   "source": [
    "### 顺序回应\n",
    "\n",
    "预先填写一个回复。"
   ]
  },
  {
   "cell_type": "code",
   "execution_count": 3,
   "id": "31483907-14a5-4e4c-9270-a4ab6518814b",
   "metadata": {},
   "outputs": [
    {
     "name": "stdout",
     "output_type": "stream",
     "text": [
      "[AGENT] \u001b[34mFakeLLM.4394700512\u001b[0m\n",
      "\u001b[32m你\u001b[0m\u001b[32m谁\u001b[0m\u001b[32m啊\u001b[0m\u001b[32m？\u001b[0m\n"
     ]
    },
    {
     "data": {
      "text/plain": [
       "'你谁啊？'"
      ]
     },
     "execution_count": 3,
     "metadata": {},
     "output_type": "execute_result"
    }
   ],
   "source": [
    "from illufly.chat import FakeLLM\n",
    "\n",
    "llm = FakeLLM(response=\"你谁啊？\")\n",
    "llm(\"你好\")"
   ]
  },
  {
   "cell_type": "markdown",
   "id": "a227c0c4-6f73-40e9-944a-5464ac804231",
   "metadata": {},
   "source": [
    "你也可以准备很多回复，作为一个列表提供："
   ]
  },
  {
   "cell_type": "code",
   "execution_count": 4,
   "id": "a5e3c29c-c06e-470b-9440-fd744f51cfe3",
   "metadata": {},
   "outputs": [
    {
     "name": "stdout",
     "output_type": "stream",
     "text": [
      "[HUMAN] \u001b[34m楼上322是曲冬梅家吗？\u001b[0m\n",
      "[AGENT] \u001b[34m老大爷\u001b[0m\n",
      "\u001b[32m曲\u001b[0m\u001b[32m什\u001b[0m\u001b[32m么\u001b[0m\u001b[32m梅\u001b[0m\u001b[32m？\u001b[0m\n",
      "[HUMAN] \u001b[34m曲-冬梅\u001b[0m\n",
      "[AGENT] \u001b[34m老大爷\u001b[0m\n",
      "\u001b[32m什\u001b[0m\u001b[32m么\u001b[0m\u001b[32m冬\u001b[0m\u001b[32m梅\u001b[0m\u001b[32m？\u001b[0m\n",
      "[HUMAN] \u001b[34m曲冬-梅啊\u001b[0m\n",
      "[AGENT] \u001b[34m老大爷\u001b[0m\n",
      "\u001b[32m曲\u001b[0m\u001b[32m冬\u001b[0m\u001b[32m什\u001b[0m\u001b[32m么\u001b[0m\u001b[32m？\u001b[0m\n",
      "[HUMAN] \u001b[34m您歇着吧\u001b[0m\n",
      "[AGENT] \u001b[34m老大爷\u001b[0m\n",
      "\u001b[32m好\u001b[0m\u001b[32m咧\u001b[0m\n"
     ]
    }
   ],
   "source": [
    "from illufly.chat import FakeLLM\n",
    "\n",
    "llm = FakeLLM(name=\"老大爷\", response=[\"曲什么梅？\", \"什么冬梅？\", \"曲冬什么？\", \"好咧\"])\n",
    "for x in [\"楼上322是曲冬梅家吗？\", \"曲-冬梅\", \"曲冬-梅啊\", \"您歇着吧\"]:\n",
    "    llm(x)"
   ]
  },
  {
   "cell_type": "markdown",
   "id": "df4c921a-fd20-4b99-a6f4-1b426c9cb8b5",
   "metadata": {},
   "source": [
    "### 结合 Selector 使用"
   ]
  },
  {
   "cell_type": "code",
   "execution_count": 1,
   "id": "c86137bc-5cfb-4768-8c94-e6a71d537c4b",
   "metadata": {},
   "outputs": [
    {
     "name": "stdout",
     "output_type": "stream",
     "text": [
      "[HUMAN] \u001b[32m大家，楼上322是曲冬梅家吗？\u001b[0m\n",
      "[AGENT] \u001b[34m老大爷\u001b[0m\n",
      "\u001b[32m曲\u001b[0m\u001b[32m什\u001b[0m\u001b[32m么\u001b[0m\u001b[32m梅\u001b[0m\u001b[32m？\u001b[0m\n",
      "[HUMAN] \u001b[32m曲-冬梅\u001b[0m\n",
      "[AGENT] \u001b[34m老大爷\u001b[0m\n",
      "\u001b[32m什\u001b[0m\u001b[32m么\u001b[0m\u001b[32m冬\u001b[0m\u001b[32m梅\u001b[0m\u001b[32m？\u001b[0m\n",
      "[HUMAN] \u001b[32m曲冬-梅啊\u001b[0m\n",
      "[AGENT] \u001b[34m老大娘\u001b[0m\n",
      "\u001b[32m你\u001b[0m\u001b[32m谁\u001b[0m\u001b[32m啊\u001b[0m\u001b[32m？\u001b[0m\n",
      "[HUMAN] \u001b[32m您歇着吧\u001b[0m\n",
      "[AGENT] \u001b[34m老大娘\u001b[0m\n",
      "\u001b[32m你\u001b[0m\u001b[32m谁\u001b[0m\u001b[32m啊\u001b[0m\u001b[32m？\u001b[0m\n"
     ]
    }
   ],
   "source": [
    "from illufly.chat import FakeLLM\n",
    "from illufly.flow import FlowAgent, Selector\n",
    "\n",
    "llm = Selector(runnables=[\n",
    "    FakeLLM(name=\"老大爷\", response=[\"曲什么梅？\", \"什么冬梅？\", \"曲冬什么？\", \"好咧\"]),\n",
    "    FakeLLM(name=\"老大娘\", response=\"你谁啊？\")\n",
    "], condition=\"random\")\n",
    "\n",
    "for x in [\"大家，楼上322是曲冬梅家吗？\", \"曲-冬梅\", \"曲冬-梅啊\", \"您歇着吧\"]:\n",
    "    llm(x)"
   ]
  },
  {
   "cell_type": "code",
   "execution_count": null,
   "id": "7d5c32e7-9495-4cc5-94a3-ee0843609ee1",
   "metadata": {},
   "outputs": [],
   "source": []
  }
 ],
 "metadata": {
  "kernelspec": {
   "display_name": "same_to_illufly",
   "language": "python",
   "name": "same_to_illufly"
  },
  "language_info": {
   "codemirror_mode": {
    "name": "ipython",
    "version": 3
   },
   "file_extension": ".py",
   "mimetype": "text/x-python",
   "name": "python",
   "nbconvert_exporter": "python",
   "pygments_lexer": "ipython3",
   "version": "3.10.0"
  }
 },
 "nbformat": 4,
 "nbformat_minor": 5
}
