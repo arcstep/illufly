{
 "cells": [
  {
   "cell_type": "markdown",
   "id": "532d485f-8069-427a-9934-d74b71f80be1",
   "metadata": {},
   "source": [
    "# 重新定义大模型和智能体"
   ]
  },
  {
   "cell_type": "markdown",
   "id": "7aa30a4c-29f2-4a10-8f23-a4c7d7264a6b",
   "metadata": {},
   "source": [
    "## 综合例子"
   ]
  },
  {
   "cell_type": "code",
   "execution_count": 1,
   "id": "21e5caf9-5567-4667-acd1-060428f9da13",
   "metadata": {},
   "outputs": [
    {
     "name": "stdout",
     "output_type": "stream",
     "text": [
      "[INFO] \u001b[34m记住 10 轮对话\u001b[0m\n",
      "[TOOLS_CALL_CHUNK] \u001b[32m{\"index\": 0, \"id\": \"call_96048acc60d043f899fbf3\", \"type\": \"function\", \"function\": {\"name\": \"get_current_weather\", \"arguments\": \"\"}}\u001b[0m\n",
      "[TOOLS_CALL_CHUNK] \u001b[32m{\"index\": 0, \"id\": \"\", \"type\": \"function\", \"function\": {}}\u001b[0m\n",
      "[TOOLS_CALL_CHUNK] \u001b[32m{\"index\": 0, \"id\": \"\", \"type\": \"function\", \"function\": {\"arguments\": \"{\\\"location\\\": \\\"\"}}\u001b[0m\n",
      "[TOOLS_CALL_CHUNK] \u001b[32m{\"index\": 0, \"id\": \"\", \"type\": \"function\", \"function\": {\"arguments\": \"广州\\\"}\"}}\u001b[0m\n",
      "[TOOLS_CALL_CHUNK] \u001b[32m{\"index\": 0, \"id\": \"\", \"type\": \"function\", \"function\": {}}\u001b[0m\n",
      "[TOOLS_CALL_CHUNK] \u001b[32m{\"index\": 0, \"id\": \"\", \"type\": \"function\", \"function\": {}}\u001b[0m\n",
      "\n",
      "[USAGE] \u001b[34m{\"input_tokens\": 184, \"output_tokens\": 18, \"total_tokens\": 202}\u001b[0m\n",
      "\n",
      "[FINAL_TOOLS_CALL] \u001b[36m[{\"index\": 0, \"id\": \"call_96048acc60d043f899fbf3\", \"type\": \"function\", \"function\": {\"name\": \"get_current_weather\", \"arguments\": \"{\\\"location\\\": \\\"广州\\\"}\"}}]\u001b[0m\n",
      "\u001b[32m广州今天是晴天。 \u001b[0m\n",
      "[FINAL_TOOL_RESP] \u001b[36m广州今天是晴天。 \u001b[0m\n",
      "\u001b[32m好\u001b[0m\u001b[32m的，广州今天\u001b[0m\u001b[32m是晴天。\u001b[0m\u001b[32m接下来我为您创作\u001b[0m\u001b[32m一首关于兔子的\u001b[0m\u001b[32m四句打油\u001b[0m\u001b[32m诗：\n",
      "小兔\u001b[0m\u001b[32m蹦跳在绿\u001b[0m\u001b[32m野，\n",
      "主人相伴\u001b[0m\u001b[32m乐无边。\u001b[0m\u001b[32m\n",
      "晴空万里风\u001b[0m\u001b[32m轻扬，\n",
      "幸福\u001b[0m\u001b[32m时光共长天\u001b[0m\u001b[32m。\u001b[0m\u001b[32m\u001b[0m\n",
      "[USAGE] \u001b[34m{\"input_tokens\": 217, \"output_tokens\": 53, \"total_tokens\": 270}\u001b[0m\n"
     ]
    },
    {
     "data": {
      "text/plain": [
       "'好的，广州今天是晴天。接下来我为您创作一首关于兔子的四句打油诗：\\n小兔蹦跳在绿野，\\n主人相伴乐无边。\\n晴空万里风轻扬，\\n幸福时光共长天。'"
      ]
     },
     "execution_count": 1,
     "metadata": {},
     "output_type": "execute_result"
    }
   ],
   "source": [
    "# 创建一个工具\n",
    "from illufly.chat import ChatQwen\n",
    "from illufly.types import BaseAgent, PromptTemplate, EventBlock\n",
    "\n",
    "def get_current_weather(location: str):\n",
    "    \"\"\"获取城市的天气情况\"\"\"\n",
    "    # return f\"{location}今天是晴天。 \"\n",
    "    yield EventBlock(\"chunk\", f\"{location}今天是晴天。 \")\n",
    "\n",
    "## 声明大模型\n",
    "qwen = ChatQwen(\n",
    "    tools=[BaseAgent(get_current_weather)],\n",
    "    knowledge=[\"这里的兔子是指嫦娥的宠物兔子\"],\n",
    "    memory=[(\"system\", \"你是一个作家\")]\n",
    ")\n",
    "\n",
    "qwen(\"先查询广州天气，然后结合兔子的主人，帮我写一首关于兔子的四句打油诗\", verbose=True)"
   ]
  },
  {
   "cell_type": "code",
   "execution_count": 2,
   "id": "5de03d3e-f717-4212-b616-36b01e0a560d",
   "metadata": {},
   "outputs": [
    {
     "data": {
      "text/plain": [
       "[{'role': 'system', 'content': '你是一个作家'},\n",
       " {'role': 'user', 'content': '已知知识：\\n这里的兔子是指嫦娥的宠物兔子'},\n",
       " {'role': 'assistant', 'content': 'OK'},\n",
       " {'role': 'user', 'content': '先查询广州天气，然后结合兔子的主人，帮我写一首关于兔子的四句打油诗'},\n",
       " {'role': 'assistant',\n",
       "  'content': '',\n",
       "  'tool_calls': [{'index': 0,\n",
       "    'id': 'call_13c5bdfd6bd5410faebd1d',\n",
       "    'type': 'function',\n",
       "    'function': {'name': 'get_current_weather',\n",
       "     'arguments': '{\"location\": \"广州\"}'}}]},\n",
       " {'tool_call_id': 'call_13c5bdfd6bd5410faebd1d',\n",
       "  'role': 'tool',\n",
       "  'name': 'get_current_weather',\n",
       "  'content': '广州今天是晴天。 '},\n",
       " {'role': 'assistant',\n",
       "  'content': '在广州的晴朗一天里，\\n小白兔，你欢快地蹦跳，\\n嫦娥姐姐在天空微笑着看你，\\n阳光下，你的身影如此生动。'}]"
      ]
     },
     "execution_count": 2,
     "metadata": {},
     "output_type": "execute_result"
    }
   ],
   "source": [
    "qwen.memory"
   ]
  },
  {
   "cell_type": "markdown",
   "id": "daebcb1f-592d-48ec-aa99-f11b3efb377a",
   "metadata": {},
   "source": [
    "## 多轮对话"
   ]
  },
  {
   "cell_type": "markdown",
   "id": "8790399f-d4b4-4dd0-9559-136224b2c7cf",
   "metadata": {},
   "source": [
    "使用`messages`管理多轮对话的记忆。<br>\n",
    "你也可以在`chat`函数中通过参数`k`限制希望保留的对话轮次，但这不影响`messages`记录完整的对话过程。"
   ]
  },
  {
   "cell_type": "code",
   "execution_count": 1,
   "id": "db74091f-7698-4d62-9aee-68f36e2c0a7b",
   "metadata": {},
   "outputs": [],
   "source": [
    "from illufly.chat import FakeLLM, ChatZhipu, ChatQwen\n",
    "from illufly.io import log, alog\n",
    "\n",
    "a = ChatQwen()"
   ]
  },
  {
   "cell_type": "code",
   "execution_count": 2,
   "id": "00704634-ce1a-400d-a33f-a26b106eccdb",
   "metadata": {},
   "outputs": [
    {
     "data": {
      "text/plain": [
       "[{'role': 'user', 'content': 'hi'}]"
      ]
     },
     "execution_count": 2,
     "metadata": {},
     "output_type": "execute_result"
    }
   ],
   "source": [
    "a.build_chat_memory(\"hi\")"
   ]
  },
  {
   "cell_type": "markdown",
   "id": "6e667cad-8bc8-4ea2-b68e-d1c3687e71d0",
   "metadata": {},
   "source": [
    "## 回调工具"
   ]
  },
  {
   "cell_type": "code",
   "execution_count": 1,
   "id": "d898e2c1-a56b-4ffc-bf22-48351429c883",
   "metadata": {},
   "outputs": [
    {
     "name": "stdout",
     "output_type": "stream",
     "text": [
      "\n",
      "\n",
      "[TOOLS_CALL_FINAL] \u001b[36m[{\"index\": 0, \"id\": \"call_b1beefa5dde64281b26226\", \"type\": \"function\", \"function\": {\"name\": \"get_current_weather\", \"arguments\": \"{\\\"location\\\": \\\"广州\\\"}\"}}]\u001b[0m\n",
      "\u001b[32m广州今天是晴天。 \u001b[0m\n",
      "\u001b[32m广\u001b[0m\u001b[32m州\u001b[0m\u001b[32m今天的天气是晴\u001b[0m\u001b[32m天。\u001b[0m\u001b[32m\u001b[0m\n"
     ]
    },
    {
     "data": {
      "text/plain": [
       "'广州今天的天气是晴天。'"
      ]
     },
     "execution_count": 1,
     "metadata": {},
     "output_type": "execute_result"
    }
   ],
   "source": [
    "from illufly.chat import ChatQwen\n",
    "from illufly.types import BaseAgent\n",
    "\n",
    "def get_current_weather(location: str):\n",
    "    \"\"\"获取城市的天气情况\"\"\"\n",
    "    return f\"{location}今天是晴天。 \"\n",
    "\n",
    "qwen = ChatQwen(tools=[BaseAgent(get_current_weather)])\n",
    "qwen(\"今天广州天气如何啊\")"
   ]
  },
  {
   "cell_type": "code",
   "execution_count": 8,
   "id": "63002e47-0e89-490d-b5e2-6390cdc47ab4",
   "metadata": {},
   "outputs": [
    {
     "data": {
      "text/plain": [
       "{'type': 'function',\n",
       " 'function': {'name': 'get_current_weather',\n",
       "  'description': '获取城市的天气情况',\n",
       "  'parameters': {'type': 'object',\n",
       "   'properties': {'location': {'type': 'string', 'description': ''}},\n",
       "   'required': ['location']}}}"
      ]
     },
     "execution_count": 8,
     "metadata": {},
     "output_type": "execute_result"
    }
   ],
   "source": [
    "qwen.tools[0].tool_desc"
   ]
  },
  {
   "cell_type": "code",
   "execution_count": 9,
   "id": "67fe453f-dd4a-4c1d-a0aa-8e8122c88538",
   "metadata": {},
   "outputs": [
    {
     "name": "stdout",
     "output_type": "stream",
     "text": [
      "\u001b[32m我是通过\u001b[0m\u001b[32m使用\u001b[0m\u001b[32m天气\u001b[0m\u001b[32m获取功能查询得到\u001b[0m\u001b[32m的。我查询\u001b[0m\u001b[32m了广州今天的天气\u001b[0m\u001b[32m，反馈的结果是\u001b[0m\u001b[32m晴天。这就是\u001b[0m\u001b[32m依据。如果你想查看\u001b[0m\u001b[32m当时的查询结果，\u001b[0m\u001b[32m你可以让我再做\u001b[0m\u001b[32m一次查询。\u001b[0m\n",
      "\n",
      "\u001b[32m广州今天是晴天。 \u001b[0m\n",
      "\u001b[32m这是\u001b[0m\u001b[32m通过\u001b[0m\u001b[32m查询当前天气接口\u001b[0m\u001b[32m得出的，广州\u001b[0m\u001b[32m今天的天气是晴\u001b[0m\u001b[32m天。\u001b[0m\u001b[32m\u001b[0m\n"
     ]
    },
    {
     "data": {
      "text/plain": [
       "'这是通过查询当前天气接口得出的，广州今天的天气是晴天。'"
      ]
     },
     "execution_count": 9,
     "metadata": {},
     "output_type": "execute_result"
    }
   ],
   "source": [
    "qwen(\"这是怎么得出来的？\")"
   ]
  },
  {
   "cell_type": "code",
   "execution_count": 10,
   "id": "f5a78d8a-9de4-4718-be14-a900cc20fc60",
   "metadata": {},
   "outputs": [
    {
     "name": "stdout",
     "output_type": "stream",
     "text": [
      "\n",
      "\n",
      "\u001b[32m上海今天是晴天。 \u001b[0m\n",
      "\u001b[32m好的\u001b[0m\u001b[32m，\u001b[0m\u001b[32m通过查询当前天气\u001b[0m\u001b[32m的接口得知，\u001b[0m\u001b[32m上海今天的天气也是\u001b[0m\u001b[32m晴天。\u001b[0m\u001b[32m\u001b[0m\n"
     ]
    },
    {
     "data": {
      "text/plain": [
       "'好的，通过查询当前天气的接口得知，上海今天的天气也是晴天。'"
      ]
     },
     "execution_count": 10,
     "metadata": {},
     "output_type": "execute_result"
    }
   ],
   "source": [
    "qwen(\"再看看上海\")"
   ]
  },
  {
   "cell_type": "markdown",
   "id": "c2fa7aa9-ae93-49f9-8594-725c8e364343",
   "metadata": {},
   "source": [
    "## 何时构建新对话"
   ]
  },
  {
   "cell_type": "markdown",
   "id": "da88c8c6-0f9a-4874-ac63-53f9bfbbc31b",
   "metadata": {},
   "source": [
    "### 指定新对话"
   ]
  },
  {
   "cell_type": "markdown",
   "id": "e71b2fd5-1d5b-4e7b-82af-0c75ac1cf6c5",
   "metadata": {},
   "source": [
    "### 通过携带 system 角色的消息列表，发起新对话"
   ]
  },
  {
   "cell_type": "code",
   "execution_count": null,
   "id": "716ba24e-5b7f-407c-a8e1-b6bbc1b2cafb",
   "metadata": {},
   "outputs": [],
   "source": []
  }
 ],
 "metadata": {
  "jpcodetoc-autonumbering": false,
  "kernelspec": {
   "display_name": "Python 3 (ipykernel)",
   "language": "python",
   "name": "python3"
  },
  "language_info": {
   "codemirror_mode": {
    "name": "ipython",
    "version": 3
   },
   "file_extension": ".py",
   "mimetype": "text/x-python",
   "name": "python",
   "nbconvert_exporter": "python",
   "pygments_lexer": "ipython3",
   "version": "3.10.0"
  }
 },
 "nbformat": 4,
 "nbformat_minor": 5
}
