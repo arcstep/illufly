{
 "cells": [
  {
   "cell_type": "markdown",
   "id": "532d485f-8069-427a-9934-d74b71f80be1",
   "metadata": {},
   "source": [
    "# 重新定义大模型和智能体"
   ]
  },
  {
   "cell_type": "markdown",
   "id": "7aa30a4c-29f2-4a10-8f23-a4c7d7264a6b",
   "metadata": {},
   "source": [
    "## 综合例子"
   ]
  },
  {
   "cell_type": "code",
   "execution_count": 1,
   "id": "21e5caf9-5567-4667-acd1-060428f9da13",
   "metadata": {},
   "outputs": [
    {
     "name": "stdout",
     "output_type": "stream",
     "text": [
      "[INFO] \u001b[34m记住 10 轮对话\u001b[0m\n",
      "[TOOLS_CALL_CHUNK] \u001b[32m{\"index\": 0, \"id\": \"call_caa7b381f4d94aee9d1e3a\", \"type\": \"function\", \"function\": {\"name\": \"get_current_weather\", \"arguments\": \"\"}}\u001b[0m\n",
      "[TOOLS_CALL_CHUNK] \u001b[32m{\"index\": 0, \"id\": \"\", \"type\": \"function\", \"function\": {}}\u001b[0m\n",
      "[TOOLS_CALL_CHUNK] \u001b[32m{\"index\": 0, \"id\": \"\", \"type\": \"function\", \"function\": {\"arguments\": \"{\\\"location\\\": \\\"\"}}\u001b[0m\n",
      "[TOOLS_CALL_CHUNK] \u001b[32m{\"index\": 0, \"id\": \"\", \"type\": \"function\", \"function\": {\"arguments\": \"广州\\\"}\"}}\u001b[0m\n",
      "[TOOLS_CALL_CHUNK] \u001b[32m{\"index\": 0, \"id\": \"\", \"type\": \"function\", \"function\": {}}\u001b[0m\n",
      "[TOOLS_CALL_CHUNK] \u001b[32m{\"index\": 0, \"id\": \"\", \"type\": \"function\", \"function\": {}}\u001b[0m\n",
      "\n",
      "[USAGE] \u001b[34m{\"input_tokens\": 207, \"output_tokens\": 18, \"total_tokens\": 225}\u001b[0m\n",
      "\n",
      "[TOOLS_CALL_FINAL] \u001b[36m[{\"index\": 0, \"id\": \"call_caa7b381f4d94aee9d1e3a\", \"type\": \"function\", \"function\": {\"name\": \"get_current_weather\", \"arguments\": \"{\\\"location\\\": \\\"广州\\\"}\"}}]\u001b[0m\n",
      "\u001b[32m广州今天是晴天。 \u001b[0m\n",
      "[TOOL_RESP_FINAL] \u001b[36m广州今天是晴天。 \u001b[0m\n",
      "\u001b[32m在广州\u001b[0m\u001b[32m的\u001b[0m\u001b[32m晴朗日子下\u001b[0m\u001b[32m，\n",
      "小白兔你在\u001b[0m\u001b[32m何方？\n",
      "作为\u001b[0m\u001b[32m嫦娥的小伙伴\u001b[0m\u001b[32m，\n",
      "人间的天气\u001b[0m\u001b[32m你可曾想\u001b[0m\u001b[32m往？\n",
      "\n",
      "虽然天上\u001b[0m\u001b[32m不会变，\n",
      "但\u001b[0m\u001b[32m愿你的日子如\u001b[0m\u001b[32m人间晴朗。\u001b[0m\u001b[32m\n",
      "这里向你遥\u001b[0m\u001b[32m寄祝愿，\n",
      "小白\u001b[0m\u001b[32m兔，愿你\u001b[0m\u001b[32m永远欢畅。\u001b[0m\u001b[32m \n",
      "\n",
      "请注意，这首\u001b[0m\u001b[32m打油诗虽然是\u001b[0m\u001b[32m基于您的要求创作\u001b[0m\u001b[32m的，但其中\u001b[0m\u001b[32m'小白兔'\u001b[0m\u001b[32m只是代表了嫦\u001b[0m\u001b[32m娥的宠物兔子\u001b[0m\u001b[32m，并非真的在\u001b[0m\u001b[32m地球或广州。\u001b[0m\u001b[32m毕竟，我们的小\u001b[0m\u001b[32m兔子实际上是居住在\u001b[0m\u001b[32m月宫中的。\u001b[0m\u001b[32m\u001b[0m\u001b[32m\u001b[0m\n",
      "[USAGE] \u001b[34m{\"input_tokens\": 240, \"output_tokens\": 108, \"total_tokens\": 348}\u001b[0m\n"
     ]
    },
    {
     "data": {
      "text/plain": [
       "\"在广州的晴朗日子下，\\n小白兔你在何方？\\n作为嫦娥的小伙伴，\\n人间的天气你可曾想往？\\n\\n虽然天上不会变，\\n但愿你的日子如人间晴朗。\\n这里向你遥寄祝愿，\\n小白兔，愿你永远欢畅。 \\n\\n请注意，这首打油诗虽然是基于您的要求创作的，但其中'小白兔'只是代表了嫦娥的宠物兔子，并非真的在地球或广州。毕竟，我们的小兔子实际上是居住在月宫中的。\""
      ]
     },
     "execution_count": 1,
     "metadata": {},
     "output_type": "execute_result"
    }
   ],
   "source": [
    "# 创建一个工具\n",
    "from illufly.chat import ChatQwen\n",
    "from illufly.types import ToolAgent, Template, EventBlock\n",
    "\n",
    "def get_current_weather(location: str):\n",
    "    \"\"\"获取城市的天气情况\"\"\"\n",
    "    # return f\"{location}今天是晴天。 \"\n",
    "    yield EventBlock(\"chunk\", f\"{location}今天是晴天。 \")\n",
    "\n",
    "## 声明大模型\n",
    "qwen = ChatQwen(\n",
    "    tools=[ToolAgent(get_current_weather)],\n",
    "    knowledge=[\"这里的兔子是指嫦娥的宠物兔子\"],\n",
    "    memory=[(\"system\", \"你是一个作家\")]\n",
    ")\n",
    "\n",
    "qwen(\"先查询广州天气，然后结合兔子的主人，帮我写一首关于兔子的四句打油诗\", verbose=True)"
   ]
  },
  {
   "cell_type": "code",
   "execution_count": 2,
   "id": "5de03d3e-f717-4212-b616-36b01e0a560d",
   "metadata": {},
   "outputs": [
    {
     "data": {
      "text/plain": [
       "[{'role': 'system', 'content': '你是一个作家'},\n",
       " {'role': 'user', 'content': '先查询广州天气，然后结合兔子的主人，帮我写一首关于兔子的四句打油诗'},\n",
       " {'role': 'assistant',\n",
       "  'content': '',\n",
       "  'tool_calls': [{'index': 0,\n",
       "    'id': 'call_caa7b381f4d94aee9d1e3a',\n",
       "    'type': 'function',\n",
       "    'function': {'name': 'get_current_weather',\n",
       "     'arguments': '{\"location\": \"广州\"}'}}]},\n",
       " {'tool_call_id': 'call_caa7b381f4d94aee9d1e3a',\n",
       "  'role': 'tool',\n",
       "  'name': 'get_current_weather',\n",
       "  'content': '广州今天是晴天。 '},\n",
       " {'role': 'assistant',\n",
       "  'content': \"在广州的晴朗日子下，\\n小白兔你在何方？\\n作为嫦娥的小伙伴，\\n人间的天气你可曾想往？\\n\\n虽然天上不会变，\\n但愿你的日子如人间晴朗。\\n这里向你遥寄祝愿，\\n小白兔，愿你永远欢畅。 \\n\\n请注意，这首打油诗虽然是基于您的要求创作的，但其中'小白兔'只是代表了嫦娥的宠物兔子，并非真的在地球或广州。毕竟，我们的小兔子实际上是居住在月宫中的。\"}]"
      ]
     },
     "execution_count": 2,
     "metadata": {},
     "output_type": "execute_result"
    }
   ],
   "source": [
    "qwen.memory"
   ]
  },
  {
   "cell_type": "markdown",
   "id": "daebcb1f-592d-48ec-aa99-f11b3efb377a",
   "metadata": {},
   "source": [
    "## 多轮对话"
   ]
  },
  {
   "cell_type": "markdown",
   "id": "8790399f-d4b4-4dd0-9559-136224b2c7cf",
   "metadata": {},
   "source": [
    "使用`messages`管理多轮对话的记忆。<br>\n",
    "你也可以在`chat`函数中通过参数`k`限制希望保留的对话轮次，但这不影响`messages`记录完整的对话过程。"
   ]
  },
  {
   "cell_type": "code",
   "execution_count": 1,
   "id": "db74091f-7698-4d62-9aee-68f36e2c0a7b",
   "metadata": {},
   "outputs": [],
   "source": [
    "from illufly.chat import FakeLLM, ChatZhipu, ChatQwen\n",
    "from illufly.io import log, alog\n",
    "\n",
    "a = ChatQwen()"
   ]
  },
  {
   "cell_type": "code",
   "execution_count": 2,
   "id": "00704634-ce1a-400d-a33f-a26b106eccdb",
   "metadata": {},
   "outputs": [
    {
     "data": {
      "text/plain": [
       "[]"
      ]
     },
     "execution_count": 2,
     "metadata": {},
     "output_type": "execute_result"
    }
   ],
   "source": [
    "a.get_chat_memory(1)"
   ]
  },
  {
   "cell_type": "markdown",
   "id": "6e667cad-8bc8-4ea2-b68e-d1c3687e71d0",
   "metadata": {},
   "source": [
    "## 回调工具"
   ]
  },
  {
   "cell_type": "code",
   "execution_count": 5,
   "id": "d898e2c1-a56b-4ffc-bf22-48351429c883",
   "metadata": {},
   "outputs": [
    {
     "name": "stdout",
     "output_type": "stream",
     "text": [
      "\n",
      "\n",
      "\u001b[32m广州今天是晴天。 \u001b[0m\n",
      "\u001b[32m广\u001b[0m\u001b[32m州\u001b[0m\u001b[32m今天的天气是晴\u001b[0m\u001b[32m天。\u001b[0m\u001b[32m\u001b[0m\n"
     ]
    },
    {
     "data": {
      "text/plain": [
       "'广州今天的天气是晴天。'"
      ]
     },
     "execution_count": 5,
     "metadata": {},
     "output_type": "execute_result"
    }
   ],
   "source": [
    "from illufly.chat import ChatQwen\n",
    "from illufly.types import ToolAgent\n",
    "\n",
    "def get_current_weather(location: str):\n",
    "    \"\"\"获取城市的天气情况\"\"\"\n",
    "    return f\"{location}今天是晴天。 \"\n",
    "\n",
    "qwen = ChatQwen(tools=[ToolAgent(get_current_weather)])\n",
    "qwen(\"今天广州天气如何啊\")"
   ]
  },
  {
   "cell_type": "code",
   "execution_count": 6,
   "id": "63002e47-0e89-490d-b5e2-6390cdc47ab4",
   "metadata": {},
   "outputs": [
    {
     "data": {
      "text/plain": [
       "{'type': 'function',\n",
       " 'function': {'name': 'get_current_weather',\n",
       "  'description': '获取城市的天气情况',\n",
       "  'parameters': {'type': 'object',\n",
       "   'properties': {'location': {'type': 'string', 'description': ''}},\n",
       "   'required': ['location']}}}"
      ]
     },
     "execution_count": 6,
     "metadata": {},
     "output_type": "execute_result"
    }
   ],
   "source": [
    "qwen.tools[0].tool_desc"
   ]
  },
  {
   "cell_type": "code",
   "execution_count": 11,
   "id": "67fe453f-dd4a-4c1d-a0aa-8e8122c88538",
   "metadata": {},
   "outputs": [
    {
     "name": "stdout",
     "output_type": "stream",
     "text": [
      "\u001b[32m我是\u001b[0m\u001b[32m通过\u001b[0m\u001b[32m使用\u001b[0m\u001b[32m天气\u001b[0m\u001b[32m获取插件查询\u001b[0m\u001b[32m得到的。我\u001b[0m\u001b[32m询问了广州今天的\u001b[0m\u001b[32m天气，插件\u001b[0m\u001b[32m返回的结果是晴\u001b[0m\u001b[32m天。\u001b[0m\u001b[32m\u001b[0m\n"
     ]
    },
    {
     "data": {
      "text/plain": [
       "'我是通过使用天气获取插件查询得到的。我询问了广州今天的天气，插件返回的结果是晴天。'"
      ]
     },
     "execution_count": 11,
     "metadata": {},
     "output_type": "execute_result"
    }
   ],
   "source": [
    "qwen(\"这是怎么得出来的？\")"
   ]
  },
  {
   "cell_type": "code",
   "execution_count": 12,
   "id": "f5a78d8a-9de4-4718-be14-a900cc20fc60",
   "metadata": {},
   "outputs": [
    {
     "name": "stdout",
     "output_type": "stream",
     "text": [
      "\n",
      "\n",
      "\u001b[32m上海今天是晴天。 \u001b[0m\n",
      "\u001b[32m上\u001b[0m\u001b[32m海\u001b[0m\u001b[32m今天\u001b[0m\u001b[32m是晴天。\u001b[0m\u001b[32m\u001b[0m\u001b[32m\u001b[0m\n"
     ]
    },
    {
     "data": {
      "text/plain": [
       "'上海今天是晴天。'"
      ]
     },
     "execution_count": 12,
     "metadata": {},
     "output_type": "execute_result"
    }
   ],
   "source": [
    "qwen(\"再看看上海\")"
   ]
  },
  {
   "cell_type": "markdown",
   "id": "c2fa7aa9-ae93-49f9-8594-725c8e364343",
   "metadata": {},
   "source": [
    "## 何时构建新对话"
   ]
  },
  {
   "cell_type": "markdown",
   "id": "da88c8c6-0f9a-4874-ac63-53f9bfbbc31b",
   "metadata": {},
   "source": [
    "### 指定新对话"
   ]
  },
  {
   "cell_type": "markdown",
   "id": "e71b2fd5-1d5b-4e7b-82af-0c75ac1cf6c5",
   "metadata": {},
   "source": [
    "### 通过携带 system 角色的消息列表，发起新对话"
   ]
  },
  {
   "cell_type": "code",
   "execution_count": null,
   "id": "716ba24e-5b7f-407c-a8e1-b6bbc1b2cafb",
   "metadata": {},
   "outputs": [],
   "source": []
  }
 ],
 "metadata": {
  "jpcodetoc-autonumbering": false,
  "kernelspec": {
   "display_name": "Python 3 (ipykernel)",
   "language": "python",
   "name": "python3"
  },
  "language_info": {
   "codemirror_mode": {
    "name": "ipython",
    "version": 3
   },
   "file_extension": ".py",
   "mimetype": "text/x-python",
   "name": "python",
   "nbconvert_exporter": "python",
   "pygments_lexer": "ipython3",
   "version": "3.10.0"
  }
 },
 "nbformat": 4,
 "nbformat_minor": 5
}
