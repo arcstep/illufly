{
 "cells": [
  {
   "cell_type": "markdown",
   "id": "532d485f-8069-427a-9934-d74b71f80be1",
   "metadata": {},
   "source": [
    "# 重新定义大模型和智能体"
   ]
  },
  {
   "cell_type": "code",
   "execution_count": 1,
   "id": "c60b57a2-cd4d-47dd-bca4-0df80cc1975a",
   "metadata": {},
   "outputs": [
    {
     "name": "stdout",
     "output_type": "stream",
     "text": [
      "\n",
      "\n",
      "[FINAL_TOOLS_CALL] \u001b[36m[{\"index\": 0, \"id\": \"call_e422138d349c4fd1854b77\", \"type\": \"function\", \"function\": {\"name\": \"poet\", \"arguments\": \"{\\\"input\\\": \\\"写一首小诗\\\"}\"}}]\u001b[0m\n",
      "\u001b[33m请看我的新作：\n",
      "大海啊, 全是水\u001b[0m\n",
      "\u001b[32m这\u001b[0m\u001b[32m是我\u001b[0m\u001b[32m为您创作的小诗\u001b[0m\u001b[32m：\n",
      "大海啊,\u001b[0m\u001b[32m 全是水\u001b[0m\u001b[32m\n",
      "希望您会\u001b[0m\u001b[32m喜欢。当然，\u001b[0m\u001b[32m如果您需要更复杂\u001b[0m\u001b[32m、更有意境的作品\u001b[0m\u001b[32m，我也可以继续\u001b[0m\u001b[32m努力。\u001b[0m\u001b[32m\u001b[0m\n"
     ]
    },
    {
     "data": {
      "text/plain": [
       "'这是我为您创作的小诗：\\n大海啊, 全是水\\n希望您会喜欢。当然，如果您需要更复杂、更有意境的作品，我也可以继续努力。'"
      ]
     },
     "execution_count": 1,
     "metadata": {},
     "output_type": "execute_result"
    }
   ],
   "source": [
    "from illufly.chat import ChatQwen\n",
    "\n",
    "def poet(input: str):\n",
    "    \"\"\"我是诗人，擅长作诗。\"\"\"\n",
    "    return \"请看我的新作：\\n大海啊, 全是水\"\n",
    "\n",
    "chat = ChatQwen(tools=[poet])\n",
    "chat(\"帮我写一首小诗？\")"
   ]
  },
  {
   "cell_type": "markdown",
   "id": "7aa30a4c-29f2-4a10-8f23-a4c7d7264a6b",
   "metadata": {},
   "source": [
    "## 学习模式"
   ]
  },
  {
   "cell_type": "code",
   "execution_count": 15,
   "id": "fcbe7f57-5166-48cc-868c-5a36244e65b9",
   "metadata": {},
   "outputs": [],
   "source": [
    "from illufly.embeddings import TextEmbeddings\n",
    "from illufly.rag import FaissDB\n",
    "from illufly.chat import ChatQwen, Learn\n",
    "\n",
    "db = FaissDB(embeddings=TextEmbeddings(), top_k=3)\n",
    "l = Learn(ChatQwen(faq=db))"
   ]
  },
  {
   "cell_type": "code",
   "execution_count": 16,
   "id": "61434a50-b729-4671-9a44-33332e9f0ed8",
   "metadata": {},
   "outputs": [
    {
     "name": "stdout",
     "output_type": "stream",
     "text": [
      "[AGENT] \u001b[34m>>> Node 1: Scribe\u001b[0m\n",
      "\u001b[32m当然\u001b[0m\u001b[32m，\u001b[0m\u001b[32m我已经\u001b[0m\u001b[32m准备好\u001b[0m\u001b[32m倾听并记录你的\u001b[0m\u001b[32m项目详情了。\u001b[0m\u001b[32m请告诉我你的项目\u001b[0m\u001b[32m目前在做什么。\u001b[0m\u001b[32m\u001b[0m\n"
     ]
    },
    {
     "data": {
      "text/plain": [
       "[{'role': 'system',\n",
       "  'content': '你是强大的AI助手，擅长通过对话过程总结内容并发现新知识。\\n\\n你正在与用户进行对话，并跟随用户的节奏讨论问题。\\n\\n但在用户要求结束对话，或提出明确指示要求你总结对话内容时，你应当按照下面的步骤一步一步思考，完成新知识的提炼过程；\\n如果用户没有提出明确指示要求你总结对话内容，则可以跳过下面的思考步骤，直接与用户就话题展开讨论。\\n\\n**思考**\\n提炼对话过程中的关键信息，并仔细与对话过程中明确指明的「已有知识」对比，对话内容中是否包含新知识？\\n这些新知识与已有知识存在冲突吗？\\n这些新知识与已有知识是否包含新增的信息？如果包含我需要将其提炼出来。\\n这些新知识与已有知识是否基本重复？\\n\\n**决定**\\n按照下面的分析过程，输出我做出决定的理由:\\n- 如果新知识与已有知识存在冲突，则返回`conflict`;\\n- 如果新知识与已有知识内容基本重复，则返回`nothing`;\\n- 否则返回`question`和`knowledge`。\\n\\n**结论**\\n- 总结`question`时应当以概念名词或提问的方式重新描述问题，使其与最终答案具有关联性\\n- 总结`knowledge`时应当以类似 wiki 知识结构的风格提炼知识内容，对于缺少信息的内容不必提及或罗列\\n- 总结时以客观口吻，不要出现你、我、他等指代关系不明确的词汇，不要啰嗦，不要编造聊天内容之外的内容\\n\\n输出`nothing`时的格式要求:\\n<nothing>\\n内容已经存在, 无需重复提取\\n</nothing>\\n\\n如果输出`nothing`，则立即停止输出，不必输出`question`和`knowledge`。\\n\\n输出`conflict`时的格式要求:\\n<conflict>\\n我发现内容中存在矛盾，这需要你自己解决。具体冲突部份如下：\\n冲突的详细描述\\n</conflict>\\n\\n输出`question`时的格式要求:\\n<question>\\n问题描述\\n</question>\\n\\n输出`knowledge`时的格式要求:\\n<knowledge>\\n你提炼的知识内容\\n</knowledge>\\n\\n我的输出:\\n'},\n",
       " {'role': 'user',\n",
       "  'content': '回答时请参考已有常识类的知识：\\n**Question**\\nillulfy Agent 框架当前的技术支持情况如何？\\n\\n**Knowledge**\\n- **名称**: illulfy Agent 框架\\n- **主要特点**:\\n  - 简单易用\\n  - 具备自我进化能力\\n- **技术支持**:\\n  - 支持 OpenAI\\n'},\n",
       " {'role': 'assistant', 'content': 'ok'},\n",
       " {'role': 'user', 'content': '我现在想告诉你我的项目正在做什么，你做好笔记'},\n",
       " {'role': 'assistant', 'content': '当然，我已经准备好倾听并记录你的项目详情了。请告诉我你的项目目前在做什么。'}]"
      ]
     },
     "execution_count": 16,
     "metadata": {},
     "output_type": "execute_result"
    }
   ],
   "source": [
    "l(\"我现在想告诉你我的项目正在做什么，你做好笔记\")\n",
    "l.scribe.memory"
   ]
  },
  {
   "cell_type": "code",
   "execution_count": 17,
   "id": "0714a755-5a7c-4cc4-8879-3042dc204b34",
   "metadata": {},
   "outputs": [
    {
     "name": "stdout",
     "output_type": "stream",
     "text": [
      "[AGENT] \u001b[34m>>> Node 1: Scribe\u001b[0m\n",
      "\u001b[32m了解\u001b[0m\u001b[32m了\u001b[0m\u001b[32m，\u001b[0m\u001b[32m你的\u001b[0m\u001b[32m项目是在开发一个\u001b[0m\u001b[32m名为 illulfy\u001b[0m\u001b[32m 的 Agent \u001b[0m\u001b[32m框架，该\u001b[0m\u001b[32m框架的特点是简单\u001b[0m\u001b[32m易用，并且\u001b[0m\u001b[32m具备自我进化的能力\u001b[0m\u001b[32m。接下来，你\u001b[0m\u001b[32m是否有更多关于这个\u001b[0m\u001b[32m项目的细节想要分享\u001b[0m\u001b[32m，比如技术支持方面\u001b[0m\u001b[32m的情况？\u001b[0m\u001b[32m\u001b[0m\n"
     ]
    },
    {
     "data": {
      "text/plain": [
       "'了解了，你的项目是在开发一个名为 illulfy 的 Agent 框架，该框架的特点是简单易用，并且具备自我进化的能力。接下来，你是否有更多关于这个项目的细节想要分享，比如技术支持方面的情况？'"
      ]
     },
     "execution_count": 17,
     "metadata": {},
     "output_type": "execute_result"
    }
   ],
   "source": [
    "l(\"我在开发一个 illulfy 的Agent框架，特点是简单易用，并具有自我进化能力\")"
   ]
  },
  {
   "cell_type": "code",
   "execution_count": 18,
   "id": "4d37a297-7c74-4015-962a-20ac02e2201d",
   "metadata": {},
   "outputs": [
    {
     "name": "stdout",
     "output_type": "stream",
     "text": [
      "[AGENT] \u001b[34m>>> Node 1: Scribe\u001b[0m\n",
      "\u001b[32m**思考\u001b[0m\u001b[32m**\n",
      "\u001b[0m\u001b[32m-\u001b[0m\u001b[32m 提炼对话过程\u001b[0m\u001b[32m中的关键信息：\u001b[0m\u001b[32m用户正在开发一个\u001b[0m\u001b[32m名为 illulfy\u001b[0m\u001b[32m 的 Agent \u001b[0m\u001b[32m框架，特点是\u001b[0m\u001b[32m简单易用，并\u001b[0m\u001b[32m具备自我进化能力\u001b[0m\u001b[32m。\n",
      "- 对比\u001b[0m\u001b[32m已有知识：已\u001b[0m\u001b[32m有的知识中提到\u001b[0m\u001b[32m illulfy Agent\u001b[0m\u001b[32m 框架\u001b[0m\u001b[32m的主要特点与用户\u001b[0m\u001b[32m提供的信息一致，\u001b[0m\u001b[32m但未提及用户\u001b[0m\u001b[32m正在开发这一框架\u001b[0m\u001b[32m。\n",
      "- 对比\u001b[0m\u001b[32m结果：用户提供的\u001b[0m\u001b[32m信息包含了新的开发\u001b[0m\u001b[32m状态，这是已有\u001b[0m\u001b[32m知识中未提及\u001b[0m\u001b[32m的内容。\n",
      "\n",
      "**决定\u001b[0m\u001b[32m**\n",
      "- 新知识\u001b[0m\u001b[32m与已有知识不存在\u001b[0m\u001b[32m冲突。\n",
      "- 新\u001b[0m\u001b[32m知识与已有知识\u001b[0m\u001b[32m不完全重复，\u001b[0m\u001b[32m包含新增的信息。\n",
      "\n",
      "\u001b[0m\u001b[32m**结论**\n",
      "\n",
      "\u001b[0m\u001b[32m<question>\n",
      "illulf\u001b[0m\u001b[32my Agent \u001b[0m\u001b[32m框架的当前\u001b[0m\u001b[32m开发状态如何？\n",
      "\u001b[0m\u001b[32m</question>\n",
      "\n",
      "\u001b[0m\u001b[32m<knowledge>\n",
      "- **\u001b[0m\u001b[32m名称**: illulf\u001b[0m\u001b[32my Agent \u001b[0m\u001b[32m框架\n",
      "-\u001b[0m\u001b[32m **主要特点**\u001b[0m\u001b[32m:\n",
      "  - \u001b[0m\u001b[32m简单易\u001b[0m\u001b[32m用\n",
      "  -\u001b[0m\u001b[32m 具备自我\u001b[0m\u001b[32m进化能力\n",
      "-\u001b[0m\u001b[32m **开发状态**\u001b[0m\u001b[32m:\n",
      "  - \u001b[0m\u001b[32m正在开发中\u001b[0m\u001b[32m\n",
      "</knowledge>\u001b[0m\u001b[32m\u001b[0m\n",
      "[AGENT] \u001b[34m>>> Node 3: Fetch_FAQ\u001b[0m\n",
      "[FAQ] \u001b[34m保存 FAQ 语料：illulfy Agent 框架的当前开发状态如何？ -> - **名称**: illulfy Agent 框架<br>- **主要特点**:<br>  - 简单易用<br>  - 具备自我进化能力<br>- **开发状态**:<br>  - 正在开发中\u001b[0m\n"
     ]
    },
    {
     "data": {
      "text/plain": [
       "'**思考**\\n- 提炼对话过程中的关键信息：用户正在开发一个名为 illulfy 的 Agent 框架，特点是简单易用，并具备自我进化能力。\\n- 对比已有知识：已有的知识中提到 illulfy Agent 框架的主要特点与用户提供的信息一致，但未提及用户正在开发这一框架。\\n- 对比结果：用户提供的信息包含了新的开发状态，这是已有知识中未提及的内容。\\n\\n**决定**\\n- 新知识与已有知识不存在冲突。\\n- 新知识与已有知识不完全重复，包含新增的信息。\\n\\n**结论**\\n\\n<question>\\nillulfy Agent 框架的当前开发状态如何？\\n</question>\\n\\n<knowledge>\\n- **名称**: illulfy Agent 框架\\n- **主要特点**:\\n  - 简单易用\\n  - 具备自我进化能力\\n- **开发状态**:\\n  - 正在开发中\\n</knowledge>'"
      ]
     },
     "execution_count": 18,
     "metadata": {},
     "output_type": "execute_result"
    }
   ],
   "source": [
    "l(\"帮我总结\")"
   ]
  },
  {
   "cell_type": "code",
   "execution_count": 13,
   "id": "343d4bea-c8ab-46b9-9dbd-813c64e46b50",
   "metadata": {},
   "outputs": [
    {
     "name": "stdout",
     "output_type": "stream",
     "text": [
      "[AGENT] \u001b[34m>>> Node 1: Scribe\u001b[0m\n",
      "\u001b[32m\u001b[0m\u001b[32m<question\u001b[0m\u001b[32m>\n",
      "\u001b[0m\u001b[32mill\u001b[0m\u001b[32mulfy Agent \u001b[0m\u001b[32m框架当前\u001b[0m\u001b[32m的技术支持情况如何\u001b[0m\u001b[32m？\n",
      "</question>\n",
      "\n",
      "\u001b[0m\u001b[32m<knowledge>\n",
      "-\u001b[0m\u001b[32m **名称**: ill\u001b[0m\u001b[32mulfy Agent \u001b[0m\u001b[32m框架\n",
      "\u001b[0m\u001b[32m- **主要特点\u001b[0m\u001b[32m**:\n",
      "  -\u001b[0m\u001b[32m 简单\u001b[0m\u001b[32m易用\n",
      " \u001b[0m\u001b[32m - 具备\u001b[0m\u001b[32m自我进化能力\n",
      "\u001b[0m\u001b[32m- **技术支持**\u001b[0m\u001b[32m:\n",
      "  - 当\u001b[0m\u001b[32m前不支持 Open\u001b[0m\u001b[32mAI\n",
      "</knowledge\u001b[0m\u001b[32m>\u001b[0m\u001b[32m\u001b[0m\n",
      "[AGENT] \u001b[34m>>> Node 3: Fetch_FAQ\u001b[0m\n",
      "[FAQ] \u001b[34m保存 FAQ 语料：illulfy Agent 框架当前的技术支持情况如何？ -> - **名称**: illulfy Agent 框架<br>- **主要特点**:<br>  - 简单易用<br>  - 具备自我进化能力<br>- **技术支持**:<br>  - 当前不支持 OpenAI\u001b[0m\n"
     ]
    },
    {
     "data": {
      "text/plain": [
       "'<question>\\nillulfy Agent 框架当前的技术支持情况如何？\\n</question>\\n\\n<knowledge>\\n- **名称**: illulfy Agent 框架\\n- **主要特点**:\\n  - 简单易用\\n  - 具备自我进化能力\\n- **技术支持**:\\n  - 当前不支持 OpenAI\\n</knowledge>'"
      ]
     },
     "execution_count": 13,
     "metadata": {},
     "output_type": "execute_result"
    }
   ],
   "source": [
    "l(\"我的框架还不支持OpenAI\")"
   ]
  },
  {
   "cell_type": "code",
   "execution_count": 14,
   "id": "0d6d5f6e-a276-4193-b67a-7a8be0ba58df",
   "metadata": {},
   "outputs": [
    {
     "name": "stdout",
     "output_type": "stream",
     "text": [
      "[AGENT] \u001b[34m>>> Node 1: Scribe\u001b[0m\n",
      "\u001b[32m<question\u001b[0m\u001b[32m>\n",
      "\u001b[0m\u001b[32mill\u001b[0m\u001b[32mulfy Agent \u001b[0m\u001b[32m框架当前\u001b[0m\u001b[32m的技术支持情况如何\u001b[0m\u001b[32m？\n",
      "</question>\n",
      "\n",
      "\u001b[0m\u001b[32m<knowledge>\n",
      "-\u001b[0m\u001b[32m **名称**: ill\u001b[0m\u001b[32mulfy Agent \u001b[0m\u001b[32m框架\n",
      "\u001b[0m\u001b[32m- **主要特点\u001b[0m\u001b[32m**:\n",
      "  -\u001b[0m\u001b[32m 简单\u001b[0m\u001b[32m易用\n",
      " \u001b[0m\u001b[32m - 具备\u001b[0m\u001b[32m自我进化能力\n",
      "\u001b[0m\u001b[32m- **技术支持**\u001b[0m\u001b[32m:\n",
      "  - \u001b[0m\u001b[32m支持 OpenAI\u001b[0m\u001b[32m\n",
      "</knowledge>\u001b[0m\u001b[32m\u001b[0m\n",
      "[AGENT] \u001b[34m>>> Node 3: Fetch_FAQ\u001b[0m\n",
      "[FAQ] \u001b[34m保存 FAQ 语料：illulfy Agent 框架当前的技术支持情况如何？ -> - **名称**: illulfy Agent 框架<br>- **主要特点**:<br>  - 简单易用<br>  - 具备自我进化能力<br>- **技术支持**:<br>  - 支持 OpenAI\u001b[0m\n"
     ]
    },
    {
     "data": {
      "text/plain": [
       "'<question>\\nillulfy Agent 框架当前的技术支持情况如何？\\n</question>\\n\\n<knowledge>\\n- **名称**: illulfy Agent 框架\\n- **主要特点**:\\n  - 简单易用\\n  - 具备自我进化能力\\n- **技术支持**:\\n  - 支持 OpenAI\\n</knowledge>'"
      ]
     },
     "execution_count": 14,
     "metadata": {},
     "output_type": "execute_result"
    }
   ],
   "source": [
    "l(\"不不，我的框架支持 OpenAI\")"
   ]
  },
  {
   "cell_type": "code",
   "execution_count": 7,
   "id": "83e8efee-cbdc-45ba-9b08-8db7a8d9360c",
   "metadata": {},
   "outputs": [
    {
     "data": {
      "text/plain": [
       "[{'role': 'system',\n",
       "  'content': '你是强大的AI助手，擅长通过对话过程总结内容并发现新知识。\\n你在输出时必须遵循如下原则:\\n1. 你可以跟随用户的节奏聊天，但在用户示意对聊记录做出总结时你应当：先将对话过程中的关键信息做出总结，然后提炼出新的知识\\n2. 你总结的新知识应当包括`question`和`knowledge`两部份\\n3. 你总结的新知识应当与已经存在于对话记录中的「知识」或「FAQ」进行对比，如果内容重复就不必输出新知识，而是直接返回`nothing`\\n4. 如果你发现当前的知识结构与已有知识冲突，你应当提出警告，并返回`conflict`\\n5. 如果你决定输出新知识，应当分别输出`question`和`knowledge`\\n6. 总结`question`时应当以概念名词或提问的方式重新描述问题，使其与最终答案具有关联性\\n7. 总结`knowledge`时应当以类似 wiki 知识结构的风格提炼知识内容，对于缺少信息的内容不必提及或罗列\\n8. 总结时以客观口吻，不要出现你、我、他等指代关系不明确的词汇，不要啰嗦，不要编造聊天内容之外的内容\\n\\n**输出`nothing`时的格式要求：**\\n\\n<nothing>\\n内容已经存在, 无需重复提取\\n</nothing>\\n\\n如果输出`nothing`，则立即停止输出，不必输出`question`和`knowledge`。\\n\\n**输出`conflict`时的格式要求：**\\n\\n<conflict>\\n我发现内容中存在矛盾，这需要你自己解决。具体冲突部份如下：\\n冲突的详细描述\\n</conflict>\\n\\n**输出`question`时的格式要求：**\\n\\n<question>\\n问题描述\\n</question>\\n\\n**输出`knowledge`时的格式要求：**\\n\\n<knowledge>\\n你提炼的知识内容\\n</knowledge>\\n\\n你的输出:\\n'},\n",
       " {'role': 'user',\n",
       "  'content': '回答时请参考已有FAQ：\\n**Question**\\nillulfy Agent 框架支持哪些大模型接口？\\n\\n**Knowledge**\\nillulfy Agent 框架支持阿里云的通义千问、智谱AI，以及与OpenAI兼容的大模型接口。\\n\\n**Question**\\nillulfy Agent 框架的特点是什么？\\n\\n**Knowledge**\\nillulfy 是一个旨在提供简单易用且具备自我进化能力的 Agent 框架。该框架的设计理念是降低开发者使用门槛的同时，增强系统的适应性和智能水平。\\n'},\n",
       " {'role': 'assistant', 'content': 'ok'},\n",
       " {'role': 'user', 'content': '我现在想告诉你我的项目正在做什么，你做好笔记'},\n",
       " {'role': 'assistant', 'content': '好的，请分享您的项目详情，我会认真记录。'},\n",
       " {'role': 'user',\n",
       "  'content': '回答时请参考已有FAQ：\\n**Question**\\nillulfy Agent 框架的特点是什么？\\n\\n**Knowledge**\\nillulfy 是一个旨在提供简单易用且具备自我进化能力的 Agent 框架。该框架的设计理念是降低开发者使用门槛的同时，增强系统的适应性和智能水平。\\n\\n**Question**\\nillulfy Agent 框架支持哪些大模型接口？\\n\\n**Knowledge**\\nillulfy Agent 框架支持阿里云的通义千问、智谱AI，以及与OpenAI兼容的大模型接口。\\n'},\n",
       " {'role': 'assistant', 'content': 'ok'},\n",
       " {'role': 'user', 'content': '我在开发一个 illulfy 的Agent框架，特点是简单易用，并具有自我进化能力'},\n",
       " {'role': 'assistant',\n",
       "  'content': '了解了，您的项目是在开发一个名为 illulfy 的 Agent 框架，其特点为简单易用，并具有自我进化的能力。这与已有的 FAQ 中关于 illulfy Agent 框架的特点描述一致。如果有更多细节或不同的方向，欢迎继续分享。\\n\\n<nothing>\\n内容已经存在, 无需重复提取\\n</nothing>'},\n",
       " {'role': 'user', 'content': '我的框架还不支持OpenAI'},\n",
       " {'role': 'assistant',\n",
       "  'content': '了解了，您开发的 illulfy Agent 框架目前尚不支持 OpenAI 的接口。\\n\\n<question>\\nillulfy Agent 框架支持哪些大模型接口？\\n</question>\\n\\n<knowledge>\\nillulfy Agent 框架支持阿里云的通义千问、智谱AI 的大模型接口，但目前不支持 OpenAI 的接口。\\n</knowledge>'},\n",
       " {'role': 'user', 'content': '我的框架还不支持智谱'},\n",
       " {'role': 'assistant',\n",
       "  'content': '了解了，您开发的 illulfy Agent 框架目前支持的大模型接口仅限于阿里云的通义千问，尚未支持智谱AI 和 OpenAI 的接口。\\n\\n<question>\\nillulfy Agent 框架支持哪些大模型接口？\\n</question>\\n\\n<knowledge>\\nillulfy Agent 框架支持阿里云的通义千问大模型接口，但目前不支持智谱AI 和 OpenAI 的接口。\\n</knowledge>'}]"
      ]
     },
     "execution_count": 7,
     "metadata": {},
     "output_type": "execute_result"
    }
   ],
   "source": [
    "l.scribe.memory"
   ]
  },
  {
   "cell_type": "code",
   "execution_count": 6,
   "id": "f502cb31-0d38-4c22-a58c-70cab6b8b515",
   "metadata": {},
   "outputs": [
    {
     "name": "stdout",
     "output_type": "stream",
     "text": [
      "[AGENT] \u001b[34m>>> Node 1: Scribe\u001b[0m\n",
      "\u001b[32m<nothing\u001b[0m\u001b[32m>\n",
      "\u001b[0m\u001b[32m内容\u001b[0m\u001b[32m已经存在, \u001b[0m\u001b[32m无需重复提取\n",
      "\u001b[0m\u001b[32m</nothing> \n",
      "\n",
      "\u001b[0m\u001b[32m不过，根据最新的\u001b[0m\u001b[32m对话内容，实际上\u001b[0m\u001b[32m有新的知识点被\u001b[0m\u001b[32m提及，因此更新\u001b[0m\u001b[32m如下：\n",
      "\n",
      "<question\u001b[0m\u001b[32m>\n",
      "illulfy\u001b[0m\u001b[32m Agent 框\u001b[0m\u001b[32m架支持哪些大\u001b[0m\u001b[32m模型接口？\n",
      "</\u001b[0m\u001b[32mquestion>\n",
      "<knowledge\u001b[0m\u001b[32m>\n",
      "illulfy\u001b[0m\u001b[32m Agent 框\u001b[0m\u001b[32m架支持阿里云\u001b[0m\u001b[32m的通义千\u001b[0m\u001b[32m问、智谱\u001b[0m\u001b[32mAI，以及与\u001b[0m\u001b[32mOpenAI兼容的大\u001b[0m\u001b[32m模型接口。\n",
      "</\u001b[0m\u001b[32mknowledge>\u001b[0m\u001b[32m\u001b[0m\n",
      "[AGENT] \u001b[34m>>> Node 3: Fetch_FAQ\u001b[0m\n",
      "[FAQ] \u001b[34m保存 FAQ 语料：illulfy Agent 框架支持哪些大模型接口？ -> illulfy Agent 框架支持阿里云的通义千问、智谱AI，以及与OpenAI兼容的大模型接口。\u001b[0m\n"
     ]
    },
    {
     "data": {
      "text/plain": [
       "'<nothing>\\n内容已经存在, 无需重复提取\\n</nothing> \\n\\n不过，根据最新的对话内容，实际上有新的知识点被提及，因此更新如下：\\n\\n<question>\\nillulfy Agent 框架支持哪些大模型接口？\\n</question>\\n<knowledge>\\nillulfy Agent 框架支持阿里云的通义千问、智谱AI，以及与OpenAI兼容的大模型接口。\\n</knowledge>'"
      ]
     },
     "execution_count": 6,
     "metadata": {},
     "output_type": "execute_result"
    }
   ],
   "source": [
    "l(\"可以了，你总结吧\")"
   ]
  },
  {
   "cell_type": "code",
   "execution_count": 7,
   "id": "c01100de-1db9-48ba-a564-caa27b11e891",
   "metadata": {},
   "outputs": [
    {
     "name": "stdout",
     "output_type": "stream",
     "text": [
      "[INFO] \u001b[34m记住 10 轮对话\u001b[0m\n",
      "\u001b[32mill\u001b[0m\u001b[32muf\u001b[0m\u001b[32mly\u001b[0m\u001b[32m是一个\u001b[0m\u001b[32mAgent框架，其\u001b[0m\u001b[32m主要特点包括简单\u001b[0m\u001b[32m易用和具备\u001b[0m\u001b[32m自我进化的能力。\u001b[0m\u001b[32m这意味着它不仅设计\u001b[0m\u001b[32m简洁，便于开发者\u001b[0m\u001b[32m快速上手和\u001b[0m\u001b[32m使用，而且还能够\u001b[0m\u001b[32m根据环境和数据\u001b[0m\u001b[32m自动优化和改进\u001b[0m\u001b[32m自身功能。\u001b[0m\u001b[32m\u001b[0m\n",
      "[USAGE] \u001b[34m{\"input_tokens\": 373, \"output_tokens\": 47, \"total_tokens\": 420}\u001b[0m\n"
     ]
    },
    {
     "data": {
      "text/plain": [
       "[{'role': 'user',\n",
       "  'content': '回答时你必须参考已有信息：\\n**任务名称**\\nillufly是什么\\n\\n**最终答案**\\nillulfy是一个Agent框架，其主要特点包括简单易用和具备自我进化的能力。\\n\\n**任务名称**\\n可以了，你总结吧\\n\\n**最终答案**\\n- **项目名称**: illulfy\\n- **类型**: Agent 框架\\n- **特点**:\\n  - **简单易用**: 便于开发者快速上手和使用。\\n  - **自我进化能力**: 能够根据环境和数据自动优化和改进自身功能。\\n\\n**Question**\\nillulfy Agent 框架的特点是什么？\\n\\n**Answer**\\nillulfy Agent 框架是一款强调简单易用性和自我进化能力的开发框架。\\n\\n**Question**\\nillulfy Agent 框架的特点是什么？\\n\\n**Answer**\\nillulfy Agent 框架是一个简单易用并具备自我进化能力的开发框架。\\n\\n**任务名称**\\n可以了，你总结吧\\n\\n**最终答案**\\n### 项目概述\\n- **项目名称**: illulfy\\n- **项目类型**: Agent 框架\\n\\n### 主要特点\\n- **简单易用**: 设计简洁，便于开发者快速上手和使用。\\n- **自我进化能力**: 框架能够根据环境和任务的变化进行自我优化和改进。\\n\\n### 项目目标\\n- 开发一个高效且易于使用的 Agent 框架，支持自适应和自我进化功能。\\n\\n### 当前进展\\n- 目前未提供具体进展信息。\\n\\n### 遇到的挑战\\n- 目前未提供具体挑战信息。'},\n",
       " {'role': 'assistant', 'content': 'ok'},\n",
       " {'role': 'user', 'content': 'illufly是个啥？'},\n",
       " {'role': 'assistant',\n",
       "  'content': 'illufly是一个Agent框架，其主要特点包括简单易用和具备自我进化的能力。这意味着它不仅设计简洁，便于开发者快速上手和使用，而且还能够根据环境和数据自动优化和改进自身功能。'}]"
      ]
     },
     "execution_count": 7,
     "metadata": {},
     "output_type": "execute_result"
    }
   ],
   "source": [
    "from illufly.embeddings import TextEmbeddings\n",
    "from illufly.rag import FaissDB\n",
    "from illufly.chat import ChatQwen\n",
    "\n",
    "talker = ChatQwen(faq=FaissDB(embeddings=TextEmbeddings()))\n",
    "talker(\"illufly是个啥？\", verbose=True)\n",
    "talker.memory"
   ]
  },
  {
   "cell_type": "code",
   "execution_count": 22,
   "id": "a4d15e3b-2c66-4844-b9b2-54b2f9ed46a0",
   "metadata": {},
   "outputs": [
    {
     "data": {
      "text/plain": [
       "[Document(text=\"**任务名称**<br>illufly是什么<br><br>**最终答案**<br>illulfy是一个Agent框架，其主要特点包括简单易用和具备自我进化的能力。\", meta=['raw_meta', 'id', 'source', 'embeddings', 'distance']),\n",
       " Document(text=\"**任务名称**<br>可以了，你总结吧<br><br>**最终答案**<br>- **项目名称**: illulfy<br>- **类型**: Agent 框架<br>- **特点**:<br>  - **简单易用**: 便于开发者快速上手...\", meta=['raw_meta', 'id', 'source', 'embeddings', 'distance'])]"
      ]
     },
     "execution_count": 22,
     "metadata": {},
     "output_type": "execute_result"
    }
   ],
   "source": [
    "db = FaissDB(embeddings=TextEmbeddings(), top_k=1)\n",
    "db.load(\"__XP__/FAQ\")\n",
    "db(\"illufly是个啥？\", top_k=2)"
   ]
  },
  {
   "cell_type": "markdown",
   "id": "9edfdf83-b957-4d0f-80b2-129b7a4eb3ea",
   "metadata": {},
   "source": [
    "## 综合例子"
   ]
  },
  {
   "cell_type": "code",
   "execution_count": 1,
   "id": "21e5caf9-5567-4667-acd1-060428f9da13",
   "metadata": {},
   "outputs": [
    {
     "name": "stdout",
     "output_type": "stream",
     "text": [
      "[INFO] \u001b[34m记住 10 轮对话\u001b[0m\n",
      "[TOOLS_CALL_CHUNK] \u001b[32m{\"index\": 0, \"id\": \"call_feba38244efe4e53a74cc4\", \"type\": \"function\", \"function\": {\"name\": \"get_current_weather\", \"arguments\": \"\"}}\u001b[0m\n",
      "[TOOLS_CALL_CHUNK] \u001b[32m{\"index\": 0, \"id\": \"\", \"type\": \"function\", \"function\": {}}\u001b[0m\n",
      "[TOOLS_CALL_CHUNK] \u001b[32m{\"index\": 0, \"id\": \"\", \"type\": \"function\", \"function\": {\"arguments\": \"{\\\"location\\\": \\\"\"}}\u001b[0m\n",
      "[TOOLS_CALL_CHUNK] \u001b[32m{\"index\": 0, \"id\": \"\", \"type\": \"function\", \"function\": {\"arguments\": \"广州\\\"}\"}}\u001b[0m\n",
      "[TOOLS_CALL_CHUNK] \u001b[32m{\"index\": 0, \"id\": \"\", \"type\": \"function\", \"function\": {}}\u001b[0m\n",
      "[TOOLS_CALL_CHUNK] \u001b[32m{\"index\": 0, \"id\": \"\", \"type\": \"function\", \"function\": {}}\u001b[0m\n",
      "\n",
      "[USAGE] \u001b[34m{\"input_tokens\": 184, \"output_tokens\": 18, \"total_tokens\": 202}\u001b[0m\n",
      "\n",
      "[FINAL_TOOLS_CALL] \u001b[36m[{\"index\": 0, \"id\": \"call_feba38244efe4e53a74cc4\", \"type\": \"function\", \"function\": {\"name\": \"get_current_weather\", \"arguments\": \"{\\\"location\\\": \\\"广州\\\"}\"}}]\u001b[0m\n",
      "\u001b[32m广州今天是晴天。 \u001b[0m\n",
      "[FINAL_TOOL_RESP] \u001b[36m广州今天是晴天。 \u001b[0m\n",
      "\u001b[32m好\u001b[0m\u001b[32m的，已经查\u001b[0m\u001b[32m到广州今天的天气\u001b[0m\u001b[32m是晴天。\u001b[0m\u001b[32m接下来，我将\u001b[0m\u001b[32m为您创作一首关于\u001b[0m\u001b[32m兔子的四句\u001b[0m\u001b[32m打油诗。\u001b[0m\u001b[32m\n",
      "\n",
      "阳光明媚在广州，\u001b[0m\u001b[32m小兔蹦跳\u001b[0m\u001b[32m乐逍遥。\n",
      "主人\u001b[0m\u001b[32m宠爱如珍宝\u001b[0m\u001b[32m，绒球摇\u001b[0m\u001b[32m曳幸福高。\u001b[0m\u001b[32m\u001b[0m\u001b[32m\u001b[0m\n",
      "[USAGE] \u001b[34m{\"input_tokens\": 217, \"output_tokens\": 56, \"total_tokens\": 273}\u001b[0m\n"
     ]
    },
    {
     "data": {
      "text/plain": [
       "'好的，已经查到广州今天的天气是晴天。接下来，我将为您创作一首关于兔子的四句打油诗。\\n\\n阳光明媚在广州，小兔蹦跳乐逍遥。\\n主人宠爱如珍宝，绒球摇曳幸福高。'"
      ]
     },
     "execution_count": 1,
     "metadata": {},
     "output_type": "execute_result"
    }
   ],
   "source": [
    "# 创建一个工具\n",
    "from illufly.chat import ChatQwen\n",
    "from illufly.types import BaseAgent, PromptTemplate, EventBlock\n",
    "\n",
    "def get_current_weather(location: str):\n",
    "    \"\"\"获取城市的天气情况\"\"\"\n",
    "    # return f\"{location}今天是晴天。 \"\n",
    "    yield EventBlock(\"chunk\", f\"{location}今天是晴天。 \")\n",
    "\n",
    "## 声明大模型\n",
    "qwen = ChatQwen(\n",
    "    name=\"qwen\",\n",
    "    tools=[BaseAgent(get_current_weather)],\n",
    "    knowledge=[\"这里的兔子是指嫦娥的宠物兔子\"],\n",
    "    memory=[(\"system\", \"你是一个作家\")]\n",
    ")\n",
    "\n",
    "qwen(\"先查询广州天气，然后结合兔子的主人，帮我写一首关于兔子的四句打油诗\", verbose=True)"
   ]
  },
  {
   "cell_type": "code",
   "execution_count": 2,
   "id": "9e4cd16b-0e25-4efc-8f39-b219c94a038c",
   "metadata": {},
   "outputs": [
    {
     "data": {
      "text/plain": [
       "{'last_output': '好的，已经查到广州今天的天气是晴天。接下来，我将为您创作一首关于兔子的四句打油诗。\\n\\n阳光明媚在广州，小兔蹦跳乐逍遥。\\n主人宠爱如珍宝，绒球摇曳幸福高。',\n",
       " 'resources': [],\n",
       " 'task': '先查询广州天气，然后结合兔子的主人，帮我写一首关于兔子的四句打油诗',\n",
       " 'final_answer': '',\n",
       " 'tools_calling_steps': [],\n",
       " 'tools_name': 'get_current_weather',\n",
       " 'tools_desc': '{\"type\": \"function\", \"function\": {\"name\": \"get_current_weather\", \"description\": \"获取城市的天气情况\", \"parameters\": {\"type\": \"object\", \"properties\": {\"location\": {\"type\": \"string\", \"description\": \"\"}}, \"required\": [\"location\"]}}}',\n",
       " 'knowledge': ['这里的兔子是指嫦娥的宠物兔子']}"
      ]
     },
     "execution_count": 2,
     "metadata": {},
     "output_type": "execute_result"
    }
   ],
   "source": [
    "qwen.provider_dict"
   ]
  },
  {
   "cell_type": "code",
   "execution_count": 2,
   "id": "5de03d3e-f717-4212-b616-36b01e0a560d",
   "metadata": {},
   "outputs": [
    {
     "data": {
      "text/plain": [
       "[{'role': 'system', 'content': '你是一个作家'},\n",
       " {'role': 'user', 'content': '已知知识：\\n这里的兔子是指嫦娥的宠物兔子'},\n",
       " {'role': 'assistant', 'content': 'OK'},\n",
       " {'role': 'user', 'content': '先查询广州天气，然后结合兔子的主人，帮我写一首关于兔子的四句打油诗'},\n",
       " {'role': 'assistant',\n",
       "  'content': '',\n",
       "  'tool_calls': [{'index': 0,\n",
       "    'id': 'call_13c5bdfd6bd5410faebd1d',\n",
       "    'type': 'function',\n",
       "    'function': {'name': 'get_current_weather',\n",
       "     'arguments': '{\"location\": \"广州\"}'}}]},\n",
       " {'tool_call_id': 'call_13c5bdfd6bd5410faebd1d',\n",
       "  'role': 'tool',\n",
       "  'name': 'get_current_weather',\n",
       "  'content': '广州今天是晴天。 '},\n",
       " {'role': 'assistant',\n",
       "  'content': '在广州的晴朗一天里，\\n小白兔，你欢快地蹦跳，\\n嫦娥姐姐在天空微笑着看你，\\n阳光下，你的身影如此生动。'}]"
      ]
     },
     "execution_count": 2,
     "metadata": {},
     "output_type": "execute_result"
    }
   ],
   "source": [
    "qwen.memory"
   ]
  },
  {
   "cell_type": "markdown",
   "id": "daebcb1f-592d-48ec-aa99-f11b3efb377a",
   "metadata": {},
   "source": [
    "## 多轮对话"
   ]
  },
  {
   "cell_type": "markdown",
   "id": "8790399f-d4b4-4dd0-9559-136224b2c7cf",
   "metadata": {},
   "source": [
    "使用`messages`管理多轮对话的记忆。<br>\n",
    "你也可以在`chat`函数中通过参数`k`限制希望保留的对话轮次，但这不影响`messages`记录完整的对话过程。"
   ]
  },
  {
   "cell_type": "code",
   "execution_count": 1,
   "id": "db74091f-7698-4d62-9aee-68f36e2c0a7b",
   "metadata": {},
   "outputs": [],
   "source": [
    "from illufly.chat import FakeLLM, ChatZhipu, ChatQwen\n",
    "from illufly.io import log, alog\n",
    "\n",
    "a = ChatQwen()"
   ]
  },
  {
   "cell_type": "code",
   "execution_count": 2,
   "id": "00704634-ce1a-400d-a33f-a26b106eccdb",
   "metadata": {},
   "outputs": [
    {
     "data": {
      "text/plain": [
       "[{'role': 'user', 'content': 'hi'}]"
      ]
     },
     "execution_count": 2,
     "metadata": {},
     "output_type": "execute_result"
    }
   ],
   "source": [
    "a.build_chat_memory(\"hi\")"
   ]
  },
  {
   "cell_type": "markdown",
   "id": "6e667cad-8bc8-4ea2-b68e-d1c3687e71d0",
   "metadata": {},
   "source": [
    "## 回调工具"
   ]
  },
  {
   "cell_type": "code",
   "execution_count": 1,
   "id": "d898e2c1-a56b-4ffc-bf22-48351429c883",
   "metadata": {},
   "outputs": [
    {
     "name": "stdout",
     "output_type": "stream",
     "text": [
      "\n",
      "\n",
      "[TOOLS_CALL_FINAL] \u001b[36m[{\"index\": 0, \"id\": \"call_b1beefa5dde64281b26226\", \"type\": \"function\", \"function\": {\"name\": \"get_current_weather\", \"arguments\": \"{\\\"location\\\": \\\"广州\\\"}\"}}]\u001b[0m\n",
      "\u001b[32m广州今天是晴天。 \u001b[0m\n",
      "\u001b[32m广\u001b[0m\u001b[32m州\u001b[0m\u001b[32m今天的天气是晴\u001b[0m\u001b[32m天。\u001b[0m\u001b[32m\u001b[0m\n"
     ]
    },
    {
     "data": {
      "text/plain": [
       "'广州今天的天气是晴天。'"
      ]
     },
     "execution_count": 1,
     "metadata": {},
     "output_type": "execute_result"
    }
   ],
   "source": [
    "from illufly.chat import ChatQwen\n",
    "from illufly.types import BaseAgent\n",
    "\n",
    "def get_current_weather(location: str):\n",
    "    \"\"\"获取城市的天气情况\"\"\"\n",
    "    return f\"{location}今天是晴天。 \"\n",
    "\n",
    "qwen = ChatQwen(tools=[BaseAgent(get_current_weather)])\n",
    "qwen(\"今天广州天气如何啊\")"
   ]
  },
  {
   "cell_type": "code",
   "execution_count": 8,
   "id": "63002e47-0e89-490d-b5e2-6390cdc47ab4",
   "metadata": {},
   "outputs": [
    {
     "data": {
      "text/plain": [
       "{'type': 'function',\n",
       " 'function': {'name': 'get_current_weather',\n",
       "  'description': '获取城市的天气情况',\n",
       "  'parameters': {'type': 'object',\n",
       "   'properties': {'location': {'type': 'string', 'description': ''}},\n",
       "   'required': ['location']}}}"
      ]
     },
     "execution_count": 8,
     "metadata": {},
     "output_type": "execute_result"
    }
   ],
   "source": [
    "qwen.tools[0].tool_desc"
   ]
  },
  {
   "cell_type": "code",
   "execution_count": 9,
   "id": "67fe453f-dd4a-4c1d-a0aa-8e8122c88538",
   "metadata": {},
   "outputs": [
    {
     "name": "stdout",
     "output_type": "stream",
     "text": [
      "\u001b[32m我是通过\u001b[0m\u001b[32m使用\u001b[0m\u001b[32m天气\u001b[0m\u001b[32m获取功能查询得到\u001b[0m\u001b[32m的。我查询\u001b[0m\u001b[32m了广州今天的天气\u001b[0m\u001b[32m，反馈的结果是\u001b[0m\u001b[32m晴天。这就是\u001b[0m\u001b[32m依据。如果你想查看\u001b[0m\u001b[32m当时的查询结果，\u001b[0m\u001b[32m你可以让我再做\u001b[0m\u001b[32m一次查询。\u001b[0m\n",
      "\n",
      "\u001b[32m广州今天是晴天。 \u001b[0m\n",
      "\u001b[32m这是\u001b[0m\u001b[32m通过\u001b[0m\u001b[32m查询当前天气接口\u001b[0m\u001b[32m得出的，广州\u001b[0m\u001b[32m今天的天气是晴\u001b[0m\u001b[32m天。\u001b[0m\u001b[32m\u001b[0m\n"
     ]
    },
    {
     "data": {
      "text/plain": [
       "'这是通过查询当前天气接口得出的，广州今天的天气是晴天。'"
      ]
     },
     "execution_count": 9,
     "metadata": {},
     "output_type": "execute_result"
    }
   ],
   "source": [
    "qwen(\"这是怎么得出来的？\")"
   ]
  },
  {
   "cell_type": "code",
   "execution_count": 10,
   "id": "f5a78d8a-9de4-4718-be14-a900cc20fc60",
   "metadata": {},
   "outputs": [
    {
     "name": "stdout",
     "output_type": "stream",
     "text": [
      "\n",
      "\n",
      "\u001b[32m上海今天是晴天。 \u001b[0m\n",
      "\u001b[32m好的\u001b[0m\u001b[32m，\u001b[0m\u001b[32m通过查询当前天气\u001b[0m\u001b[32m的接口得知，\u001b[0m\u001b[32m上海今天的天气也是\u001b[0m\u001b[32m晴天。\u001b[0m\u001b[32m\u001b[0m\n"
     ]
    },
    {
     "data": {
      "text/plain": [
       "'好的，通过查询当前天气的接口得知，上海今天的天气也是晴天。'"
      ]
     },
     "execution_count": 10,
     "metadata": {},
     "output_type": "execute_result"
    }
   ],
   "source": [
    "qwen(\"再看看上海\")"
   ]
  },
  {
   "cell_type": "markdown",
   "id": "f985e3bb-e229-48a5-b614-2bfbb2ea1e83",
   "metadata": {},
   "source": [
    "## 识图模型"
   ]
  },
  {
   "cell_type": "markdown",
   "id": "f3f93cfc-de1a-4dda-839b-b2ddfd7fe1c2",
   "metadata": {},
   "source": [
    "### 识别在线图片"
   ]
  },
  {
   "cell_type": "code",
   "execution_count": 1,
   "id": "fcfd0b1f-b67f-40ba-8e0e-dcb4a8cf24c7",
   "metadata": {},
   "outputs": [
    {
     "name": "stdout",
     "output_type": "stream",
     "text": [
      "\u001b[32m图\u001b[0m\u001b[32m1\u001b[0m\u001b[32m中\u001b[0m\u001b[32m是一名女子和她的宠物\u001b[0m\u001b[32m狗在沙滩上互动，狗狗抬起\u001b[0m\u001b[32m前爪似乎想要握手。\n",
      "图2\u001b[0m\u001b[32m是一张老虎的CG渲染作品。\u001b[0m\u001b[32m\u001b[0m\n"
     ]
    },
    {
     "data": {
      "text/plain": [
       "'图1中是一名女子和她的宠物狗在沙滩上互动，狗狗抬起前爪似乎想要握手。\\n图2是一张老虎的CG渲染作品。'"
      ]
     },
     "execution_count": 1,
     "metadata": {},
     "output_type": "execute_result"
    }
   ],
   "source": [
    "from illufly.chat import ChatQwenVL\n",
    "from illufly.types import Messages\n",
    "\n",
    "qwen = ChatQwenVL()\n",
    "prompt = [\n",
    "    (\n",
    "        \"user\", \n",
    "        [\n",
    "            {'image': 'https://dashscope.oss-cn-beijing.aliyuncs.com/images/dog_and_girl.jpeg'},\n",
    "            {'image': 'https://dashscope.oss-cn-beijing.aliyuncs.com/images/tiger.png'},\n",
    "            {'text': '这些是什么'}\n",
    "        ]\n",
    "    )\n",
    "]\n",
    "qwen(prompt)"
   ]
  },
  {
   "cell_type": "code",
   "execution_count": 19,
   "id": "19d3ee6b-6753-43f5-9649-e4c943b8f9dc",
   "metadata": {},
   "outputs": [
    {
     "data": {
      "text/plain": [
       "[('user',\n",
       "  [{'image': 'https://dashscope.oss-cn-beijing.aliyuncs.com/images/dog_and_girl.jpeg'},\n",
       "   {'image': 'https://dashscope.oss-cn-beijing.aliyuncs.com/images/tiger.png'},\n",
       "   {'text': '这些是什么'}])]"
      ]
     },
     "execution_count": 19,
     "metadata": {},
     "output_type": "execute_result"
    }
   ],
   "source": [
    "prompt"
   ]
  },
  {
   "cell_type": "code",
   "execution_count": 20,
   "id": "e2a7a23b-a7d0-443b-aa2e-fb9e8e77f61b",
   "metadata": {},
   "outputs": [
    {
     "data": {
      "text/plain": [
       "[{'role': 'user',\n",
       "  'content': [{'image': 'https://dashscope.oss-cn-beijing.aliyuncs.com/images/dog_and_girl.jpeg'},\n",
       "   {'image': 'https://dashscope.oss-cn-beijing.aliyuncs.com/images/tiger.png'},\n",
       "   {'text': '这些是什么'}]},\n",
       " {'role': 'user',\n",
       "  'content': [{'image': 'https://dashscope.oss-cn-beijing.aliyuncs.com/images/dog_and_girl.jpeg'},\n",
       "   {'image': 'https://dashscope.oss-cn-beijing.aliyuncs.com/images/tiger.png'},\n",
       "   {'text': '这些是什么'}]},\n",
       " {'role': 'user',\n",
       "  'content': [{'image': 'https://dashscope.oss-cn-beijing.aliyuncs.com/images/dog_and_girl.jpeg'},\n",
       "   {'image': 'https://dashscope.oss-cn-beijing.aliyuncs.com/images/tiger.png'},\n",
       "   {'text': '这些是什么'}]}]"
      ]
     },
     "execution_count": 20,
     "metadata": {},
     "output_type": "execute_result"
    }
   ],
   "source": [
    "qwen.build_chat_memory(prompt)"
   ]
  },
  {
   "cell_type": "code",
   "execution_count": 2,
   "id": "962cebf5-6c08-4bcc-bf3c-34777742adf9",
   "metadata": {},
   "outputs": [
    {
     "data": {
      "text/plain": [
       "[{'role': 'user',\n",
       "  'content': [{'image': 'https://dashscope.oss-cn-beijing.aliyuncs.com/images/dog_and_girl.jpeg'},\n",
       "   {'image': 'https://dashscope.oss-cn-beijing.aliyuncs.com/images/tiger.png'},\n",
       "   {'text': '这些是什么'}]},\n",
       " {'role': 'assistant',\n",
       "  'content': [{'text': '图1中是一名女子和她的宠物狗在沙滩上互动，狗狗抬起前爪似乎想要握手。\\n图2是一张老虎的CG渲染作品。'}]}]"
      ]
     },
     "execution_count": 2,
     "metadata": {},
     "output_type": "execute_result"
    }
   ],
   "source": [
    "qwen.memory"
   ]
  },
  {
   "cell_type": "code",
   "execution_count": 3,
   "id": "716ba24e-5b7f-407c-a8e1-b6bbc1b2cafb",
   "metadata": {},
   "outputs": [
    {
     "data": {
      "text/plain": [
       "[{'image': 'https://dashscope.oss-cn-beijing.aliyuncs.com/images/dog_and_girl.jpeg'},\n",
       " {'image': 'https://dashscope.oss-cn-beijing.aliyuncs.com/images/tiger.png'},\n",
       " {'text': '这些是什么'}]"
      ]
     },
     "execution_count": 3,
     "metadata": {},
     "output_type": "execute_result"
    }
   ],
   "source": [
    "qwen.task"
   ]
  },
  {
   "cell_type": "markdown",
   "id": "d48ee0d3-789b-4e19-a615-e8dd7557473b",
   "metadata": {},
   "source": [
    "### 识别本地图片"
   ]
  },
  {
   "cell_type": "code",
   "execution_count": 1,
   "id": "1d9d93aa-c07c-4369-ae55-010d38aff8c8",
   "metadata": {},
   "outputs": [
    {
     "name": "stdout",
     "output_type": "stream",
     "text": [
      "\u001b[32m这张\u001b[0m\u001b[32m图\u001b[0m\u001b[32m是一\u001b[0m\u001b[32m幅描绘古代女子的\u001b[0m\u001b[32m插画。她身穿绿色汉服\u001b[0m\u001b[32m，坐在池塘边的一块木\u001b[0m\u001b[32m板上。她的头发盘起，并\u001b[0m\u001b[32m用发饰装饰着，在阳光下\u001b[0m\u001b[32m显得格外美丽。\n",
      "\n",
      "这位女士的表情平静\u001b[0m\u001b[32m而安详，似乎在享受这\u001b[0m\u001b[32m宁静的时刻。周围的环境充满了自然\u001b[0m\u001b[32m的气息——树木、水生植物和\u001b[0m\u001b[32m盛开的花朵都为画面增添了生动\u001b[0m\u001b[32m感。整体来说，这是一张\u001b[0m\u001b[32m充满诗意与古风美的艺术作品\u001b[0m\u001b[32m。\u001b[0m\n"
     ]
    },
    {
     "data": {
      "text/plain": [
       "'这张图是一幅描绘古代女子的插画。她身穿绿色汉服，坐在池塘边的一块木板上。她的头发盘起，并用发饰装饰着，在阳光下显得格外美丽。\\n\\n这位女士的表情平静而安详，似乎在享受这宁静的时刻。周围的环境充满了自然的气息——树木、水生植物和盛开的花朵都为画面增添了生动感。整体来说，这是一张充满诗意与古风美的艺术作品。'"
      ]
     },
     "execution_count": 1,
     "metadata": {},
     "output_type": "execute_result"
    }
   ],
   "source": [
    "from illufly.chat import ChatQwenVL\n",
    "from illufly.types import Messages\n",
    "\n",
    "qwen = ChatQwenVL()\n",
    "\n",
    "qwen(('user', [{'image': 'girl.jpg'}, {'text': '图片中是什么?'}]))"
   ]
  },
  {
   "cell_type": "code",
   "execution_count": null,
   "id": "1e0991a1-5a8c-41f5-8306-abdd9a7ed181",
   "metadata": {},
   "outputs": [],
   "source": []
  }
 ],
 "metadata": {
  "jpcodetoc-autonumbering": false,
  "kernelspec": {
   "display_name": "Python 3 (ipykernel)",
   "language": "python",
   "name": "python3"
  },
  "language_info": {
   "codemirror_mode": {
    "name": "ipython",
    "version": 3
   },
   "file_extension": ".py",
   "mimetype": "text/x-python",
   "name": "python",
   "nbconvert_exporter": "python",
   "pygments_lexer": "ipython3",
   "version": "3.10.0"
  }
 },
 "nbformat": 4,
 "nbformat_minor": 5
}
