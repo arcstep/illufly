{
 "cells": [
  {
   "cell_type": "markdown",
   "id": "532d485f-8069-427a-9934-d74b71f80be1",
   "metadata": {},
   "source": [
    "# 重新定义大模型和智能体"
   ]
  },
  {
   "cell_type": "code",
   "execution_count": 1,
   "id": "c60b57a2-cd4d-47dd-bca4-0df80cc1975a",
   "metadata": {},
   "outputs": [
    {
     "name": "stdout",
     "output_type": "stream",
     "text": [
      "\n",
      "\n",
      "[FINAL_TOOLS_CALL] \u001b[36m[{\"index\": 0, \"id\": \"call_e422138d349c4fd1854b77\", \"type\": \"function\", \"function\": {\"name\": \"poet\", \"arguments\": \"{\\\"input\\\": \\\"写一首小诗\\\"}\"}}]\u001b[0m\n",
      "\u001b[33m请看我的新作：\n",
      "大海啊, 全是水\u001b[0m\n",
      "\u001b[32m这\u001b[0m\u001b[32m是我\u001b[0m\u001b[32m为您创作的小诗\u001b[0m\u001b[32m：\n",
      "大海啊,\u001b[0m\u001b[32m 全是水\u001b[0m\u001b[32m\n",
      "希望您会\u001b[0m\u001b[32m喜欢。当然，\u001b[0m\u001b[32m如果您需要更复杂\u001b[0m\u001b[32m、更有意境的作品\u001b[0m\u001b[32m，我也可以继续\u001b[0m\u001b[32m努力。\u001b[0m\u001b[32m\u001b[0m\n"
     ]
    },
    {
     "data": {
      "text/plain": [
       "'这是我为您创作的小诗：\\n大海啊, 全是水\\n希望您会喜欢。当然，如果您需要更复杂、更有意境的作品，我也可以继续努力。'"
      ]
     },
     "execution_count": 1,
     "metadata": {},
     "output_type": "execute_result"
    }
   ],
   "source": [
    "from illufly.chat import ChatQwen\n",
    "\n",
    "def poet(input: str):\n",
    "    \"\"\"我是诗人，擅长作诗。\"\"\"\n",
    "    return \"请看我的新作：\\n大海啊, 全是水\"\n",
    "\n",
    "chat = ChatQwen(tools=[poet])\n",
    "chat(\"帮我写一首小诗？\")"
   ]
  },
  {
   "cell_type": "markdown",
   "id": "7aa30a4c-29f2-4a10-8f23-a4c7d7264a6b",
   "metadata": {},
   "source": [
    "## 学习模式"
   ]
  },
  {
   "cell_type": "code",
   "execution_count": 2,
   "id": "fcbe7f57-5166-48cc-868c-5a36244e65b9",
   "metadata": {},
   "outputs": [],
   "source": [
    "from illufly.chat import ChatQwen, Learn\n",
    "from illufly.types import PromptTemplate\n",
    "\n",
    "l = Learn(ChatQwen())"
   ]
  },
  {
   "cell_type": "code",
   "execution_count": 3,
   "id": "37c9b125-4085-46bb-8496-4e34fa30e90e",
   "metadata": {},
   "outputs": [],
   "source": [
    "l.agents[1][1]._last_output"
   ]
  },
  {
   "cell_type": "code",
   "execution_count": 4,
   "id": "61434a50-b729-4671-9a44-33332e9f0ed8",
   "metadata": {},
   "outputs": [
    {
     "name": "stdout",
     "output_type": "stream",
     "text": [
      "[AGENT] \u001b[34m>>> Node 1: Scribe\u001b[0m\n",
      "\u001b[32m好的，请\u001b[0m\u001b[32m告知\u001b[0m\u001b[32m项目的\u001b[0m\u001b[32m详情。\u001b[0m\u001b[32m\u001b[0m\n"
     ]
    },
    {
     "data": {
      "text/plain": [
       "'好的，请告知项目的详情。'"
      ]
     },
     "execution_count": 4,
     "metadata": {},
     "output_type": "execute_result"
    }
   ],
   "source": [
    "l(\"我现在想告诉你我的项目正在做什么，你做好笔记\")"
   ]
  },
  {
   "cell_type": "code",
   "execution_count": 5,
   "id": "0714a755-5a7c-4cc4-8879-3042dc204b34",
   "metadata": {},
   "outputs": [
    {
     "name": "stdout",
     "output_type": "stream",
     "text": [
      "[AGENT] \u001b[34m>>> Node 1: Scribe\u001b[0m\n",
      "\u001b[32m了解了\u001b[0m\u001b[32m，\u001b[0m\u001b[32m开发\u001b[0m\u001b[32m的是一个名为 ill\u001b[0m\u001b[32mulfy 的 Agent\u001b[0m\u001b[32m 框架\u001b[0m\u001b[32m，该框架的主要\u001b[0m\u001b[32m特点是简单易用\u001b[0m\u001b[32m且具备自我进化\u001b[0m\u001b[32m的能力。请继续\u001b[0m\u001b[32m分享更多细节，\u001b[0m\u001b[32m例如框架的技术栈\u001b[0m\u001b[32m、应用场景或者遇到\u001b[0m\u001b[32m的挑战等。\u001b[0m\u001b[32m\u001b[0m\n"
     ]
    },
    {
     "data": {
      "text/plain": [
       "'了解了，开发的是一个名为 illulfy 的 Agent 框架，该框架的主要特点是简单易用且具备自我进化的能力。请继续分享更多细节，例如框架的技术栈、应用场景或者遇到的挑战等。'"
      ]
     },
     "execution_count": 5,
     "metadata": {},
     "output_type": "execute_result"
    }
   ],
   "source": [
    "l(\"我在开发一个 illulfy 的Agent框架，特点是简单易用，并具有自我进化能力\")"
   ]
  },
  {
   "cell_type": "code",
   "execution_count": 6,
   "id": "f502cb31-0d38-4c22-a58c-70cab6b8b515",
   "metadata": {},
   "outputs": [
    {
     "name": "stdout",
     "output_type": "stream",
     "text": [
      "[AGENT] \u001b[34m>>> Node 1: Scribe\u001b[0m\n",
      "\u001b[32m\u001b[0m\u001b[32m<question\u001b[0m\u001b[32m>\n",
      "\u001b[0m\u001b[32mill\u001b[0m\u001b[32mulfy Agent \u001b[0m\u001b[32m框架的特点\u001b[0m\u001b[32m是什么？\n",
      "</question\u001b[0m\u001b[32m>\n",
      "<final_answer\u001b[0m\u001b[32m>\n",
      "illulfy\u001b[0m\u001b[32m Agent 框\u001b[0m\u001b[32m架是一个简单易\u001b[0m\u001b[32m用并具备自我\u001b[0m\u001b[32m进化能力的开发\u001b[0m\u001b[32m框架。\n",
      "</final\u001b[0m\u001b[32m_answer>\u001b[0m\u001b[32m\u001b[0m\n",
      "[AGENT] \u001b[34m>>> Node 3: Fetch_FAQ\u001b[0m\n",
      "[FAQ] \u001b[34m保存 FAQ 语料：illulfy Agent 框架的特点是什么？ -> illulfy Agent 框架是一个简单易用并具备自我进化能力的开发框架。\u001b[0m\n"
     ]
    },
    {
     "data": {
      "text/plain": [
       "'<question>\\nillulfy Agent 框架的特点是什么？\\n</question>\\n<final_answer>\\nillulfy Agent 框架是一个简单易用并具备自我进化能力的开发框架。\\n</final_answer>'"
      ]
     },
     "execution_count": 6,
     "metadata": {},
     "output_type": "execute_result"
    }
   ],
   "source": [
    "l(\"可以了，你总结吧\")"
   ]
  },
  {
   "cell_type": "code",
   "execution_count": 10,
   "id": "c01100de-1db9-48ba-a564-caa27b11e891",
   "metadata": {},
   "outputs": [
    {
     "name": "stdout",
     "output_type": "stream",
     "text": [
      "[INFO] \u001b[34m记住 10 轮对话\u001b[0m\n",
      "\u001b[32m**\u001b[0m\u001b[32mIll\u001b[0m\u001b[32muf\u001b[0m\u001b[32mly\u001b[0m\u001b[32m** 是一个 Agent\u001b[0m\u001b[32m 框架\u001b[0m\u001b[32m，其主要特点\u001b[0m\u001b[32m包括：\n",
      "\n",
      "- **\u001b[0m\u001b[32m简单易用**\u001b[0m\u001b[32m：用户可以轻松\u001b[0m\u001b[32m上手并使用\u001b[0m\u001b[32m该框架。\n",
      "-\u001b[0m\u001b[32m **自我进化能力\u001b[0m\u001b[32m**：框架能够\u001b[0m\u001b[32m根据使用情况不断\u001b[0m\u001b[32m优化和改进自身\u001b[0m\u001b[32m功能。\n",
      "\n",
      "**应用场景\u001b[0m\u001b[32m**：\n",
      "虽然具体的\u001b[0m\u001b[32m使用场景没有详细\u001b[0m\u001b[32m说明，但 Ill\u001b[0m\u001b[32mufly 可\u001b[0m\u001b[32m能适用于需要智能\u001b[0m\u001b[32m代理和自适应\u001b[0m\u001b[32m系统的各种场景，\u001b[0m\u001b[32m例如自动化任务处理\u001b[0m\u001b[32m、智能客服、\u001b[0m\u001b[32m数据分析等。\n",
      "\n",
      "**\u001b[0m\u001b[32m技术栈**：\n",
      "\u001b[0m\u001b[32m具体的实现技术没有\u001b[0m\u001b[32m详细说明，但\u001b[0m\u001b[32m可能涉及机器学习\u001b[0m\u001b[32m、自然语言处理\u001b[0m\u001b[32m等先进技术。\n",
      "\n",
      "如果你\u001b[0m\u001b[32m需要更多详细信息\u001b[0m\u001b[32m或有其他问题\u001b[0m\u001b[32m，请随时告诉我！\u001b[0m\u001b[32m\u001b[0m\n",
      "[USAGE] \u001b[34m{\"input_tokens\": 211, \"output_tokens\": 132, \"total_tokens\": 343}\u001b[0m\n"
     ]
    },
    {
     "data": {
      "text/plain": [
       "[{'role': 'user',\n",
       "  'content': '回答时你必须参考已有信息：\\n**任务名称**\\nillufly是什么\\n\\n**最终答案**\\nillulfy是一个Agent框架，其主要特点包括简单易用和具备自我进化的能力。\\n\\n**任务名称**\\n可以了，你总结吧\\n\\n**最终答案**\\n### Illulfy Agent 框架\\n\\n- **项目名称**：Illulfy\\n- **项目特点**：\\n  - **简单易用**：用户可以轻松上手并使用该框架。\\n  - **自我进化能力**：框架能够根据使用情况不断优化和改进自身功能。\\n- **应用场景**：未具体说明，但可能适用于需要智能代理和自适应系统的各种场景。\\n- **技术栈**：未详细说明，但可能涉及机器学习、自然语言处理等技术。\\n\\n如果需要进一步的信息或有其他问题，请随时告知。'},\n",
       " {'role': 'assistant', 'content': 'ok'},\n",
       " {'role': 'user', 'content': 'illufly是个啥？'},\n",
       " {'role': 'assistant',\n",
       "  'content': '**Illufly** 是一个 Agent 框架，其主要特点包括：\\n\\n- **简单易用**：用户可以轻松上手并使用该框架。\\n- **自我进化能力**：框架能够根据使用情况不断优化和改进自身功能。\\n\\n**应用场景**：\\n虽然具体的使用场景没有详细说明，但 Illufly 可能适用于需要智能代理和自适应系统的各种场景，例如自动化任务处理、智能客服、数据分析等。\\n\\n**技术栈**：\\n具体的实现技术没有详细说明，但可能涉及机器学习、自然语言处理等先进技术。\\n\\n如果你需要更多详细信息或有其他问题，请随时告诉我！'}]"
      ]
     },
     "execution_count": 10,
     "metadata": {},
     "output_type": "execute_result"
    }
   ],
   "source": [
    "from illufly.embeddings import TextEmbeddings\n",
    "from illufly.rag import FaissDB\n",
    "from illufly.chat import ChatQwen\n",
    "from illufly.io import log, usage\n",
    "\n",
    "talker = ChatQwen(faq=FaissDB(embeddings=TextEmbeddings()), handlers=[log])\n",
    "talker(\"illufly是个啥？\", verbose=True)\n",
    "talker.memory"
   ]
  },
  {
   "cell_type": "markdown",
   "id": "9edfdf83-b957-4d0f-80b2-129b7a4eb3ea",
   "metadata": {},
   "source": [
    "## 综合例子"
   ]
  },
  {
   "cell_type": "code",
   "execution_count": 1,
   "id": "21e5caf9-5567-4667-acd1-060428f9da13",
   "metadata": {},
   "outputs": [
    {
     "name": "stdout",
     "output_type": "stream",
     "text": [
      "[INFO] \u001b[34m记住 10 轮对话\u001b[0m\n",
      "[TOOLS_CALL_CHUNK] \u001b[32m{\"index\": 0, \"id\": \"call_feba38244efe4e53a74cc4\", \"type\": \"function\", \"function\": {\"name\": \"get_current_weather\", \"arguments\": \"\"}}\u001b[0m\n",
      "[TOOLS_CALL_CHUNK] \u001b[32m{\"index\": 0, \"id\": \"\", \"type\": \"function\", \"function\": {}}\u001b[0m\n",
      "[TOOLS_CALL_CHUNK] \u001b[32m{\"index\": 0, \"id\": \"\", \"type\": \"function\", \"function\": {\"arguments\": \"{\\\"location\\\": \\\"\"}}\u001b[0m\n",
      "[TOOLS_CALL_CHUNK] \u001b[32m{\"index\": 0, \"id\": \"\", \"type\": \"function\", \"function\": {\"arguments\": \"广州\\\"}\"}}\u001b[0m\n",
      "[TOOLS_CALL_CHUNK] \u001b[32m{\"index\": 0, \"id\": \"\", \"type\": \"function\", \"function\": {}}\u001b[0m\n",
      "[TOOLS_CALL_CHUNK] \u001b[32m{\"index\": 0, \"id\": \"\", \"type\": \"function\", \"function\": {}}\u001b[0m\n",
      "\n",
      "[USAGE] \u001b[34m{\"input_tokens\": 184, \"output_tokens\": 18, \"total_tokens\": 202}\u001b[0m\n",
      "\n",
      "[FINAL_TOOLS_CALL] \u001b[36m[{\"index\": 0, \"id\": \"call_feba38244efe4e53a74cc4\", \"type\": \"function\", \"function\": {\"name\": \"get_current_weather\", \"arguments\": \"{\\\"location\\\": \\\"广州\\\"}\"}}]\u001b[0m\n",
      "\u001b[32m广州今天是晴天。 \u001b[0m\n",
      "[FINAL_TOOL_RESP] \u001b[36m广州今天是晴天。 \u001b[0m\n",
      "\u001b[32m好\u001b[0m\u001b[32m的，已经查\u001b[0m\u001b[32m到广州今天的天气\u001b[0m\u001b[32m是晴天。\u001b[0m\u001b[32m接下来，我将\u001b[0m\u001b[32m为您创作一首关于\u001b[0m\u001b[32m兔子的四句\u001b[0m\u001b[32m打油诗。\u001b[0m\u001b[32m\n",
      "\n",
      "阳光明媚在广州，\u001b[0m\u001b[32m小兔蹦跳\u001b[0m\u001b[32m乐逍遥。\n",
      "主人\u001b[0m\u001b[32m宠爱如珍宝\u001b[0m\u001b[32m，绒球摇\u001b[0m\u001b[32m曳幸福高。\u001b[0m\u001b[32m\u001b[0m\u001b[32m\u001b[0m\n",
      "[USAGE] \u001b[34m{\"input_tokens\": 217, \"output_tokens\": 56, \"total_tokens\": 273}\u001b[0m\n"
     ]
    },
    {
     "data": {
      "text/plain": [
       "'好的，已经查到广州今天的天气是晴天。接下来，我将为您创作一首关于兔子的四句打油诗。\\n\\n阳光明媚在广州，小兔蹦跳乐逍遥。\\n主人宠爱如珍宝，绒球摇曳幸福高。'"
      ]
     },
     "execution_count": 1,
     "metadata": {},
     "output_type": "execute_result"
    }
   ],
   "source": [
    "# 创建一个工具\n",
    "from illufly.chat import ChatQwen\n",
    "from illufly.types import BaseAgent, PromptTemplate, EventBlock\n",
    "\n",
    "def get_current_weather(location: str):\n",
    "    \"\"\"获取城市的天气情况\"\"\"\n",
    "    # return f\"{location}今天是晴天。 \"\n",
    "    yield EventBlock(\"chunk\", f\"{location}今天是晴天。 \")\n",
    "\n",
    "## 声明大模型\n",
    "qwen = ChatQwen(\n",
    "    name=\"qwen\",\n",
    "    tools=[BaseAgent(get_current_weather)],\n",
    "    knowledge=[\"这里的兔子是指嫦娥的宠物兔子\"],\n",
    "    memory=[(\"system\", \"你是一个作家\")]\n",
    ")\n",
    "\n",
    "qwen(\"先查询广州天气，然后结合兔子的主人，帮我写一首关于兔子的四句打油诗\", verbose=True)"
   ]
  },
  {
   "cell_type": "code",
   "execution_count": 2,
   "id": "9e4cd16b-0e25-4efc-8f39-b219c94a038c",
   "metadata": {},
   "outputs": [
    {
     "data": {
      "text/plain": [
       "{'last_output': '好的，已经查到广州今天的天气是晴天。接下来，我将为您创作一首关于兔子的四句打油诗。\\n\\n阳光明媚在广州，小兔蹦跳乐逍遥。\\n主人宠爱如珍宝，绒球摇曳幸福高。',\n",
       " 'resources': [],\n",
       " 'task': '先查询广州天气，然后结合兔子的主人，帮我写一首关于兔子的四句打油诗',\n",
       " 'final_answer': '',\n",
       " 'tools_calling_steps': [],\n",
       " 'tools_name': 'get_current_weather',\n",
       " 'tools_desc': '{\"type\": \"function\", \"function\": {\"name\": \"get_current_weather\", \"description\": \"获取城市的天气情况\", \"parameters\": {\"type\": \"object\", \"properties\": {\"location\": {\"type\": \"string\", \"description\": \"\"}}, \"required\": [\"location\"]}}}',\n",
       " 'knowledge': ['这里的兔子是指嫦娥的宠物兔子']}"
      ]
     },
     "execution_count": 2,
     "metadata": {},
     "output_type": "execute_result"
    }
   ],
   "source": [
    "qwen.provider_dict"
   ]
  },
  {
   "cell_type": "code",
   "execution_count": 2,
   "id": "5de03d3e-f717-4212-b616-36b01e0a560d",
   "metadata": {},
   "outputs": [
    {
     "data": {
      "text/plain": [
       "[{'role': 'system', 'content': '你是一个作家'},\n",
       " {'role': 'user', 'content': '已知知识：\\n这里的兔子是指嫦娥的宠物兔子'},\n",
       " {'role': 'assistant', 'content': 'OK'},\n",
       " {'role': 'user', 'content': '先查询广州天气，然后结合兔子的主人，帮我写一首关于兔子的四句打油诗'},\n",
       " {'role': 'assistant',\n",
       "  'content': '',\n",
       "  'tool_calls': [{'index': 0,\n",
       "    'id': 'call_13c5bdfd6bd5410faebd1d',\n",
       "    'type': 'function',\n",
       "    'function': {'name': 'get_current_weather',\n",
       "     'arguments': '{\"location\": \"广州\"}'}}]},\n",
       " {'tool_call_id': 'call_13c5bdfd6bd5410faebd1d',\n",
       "  'role': 'tool',\n",
       "  'name': 'get_current_weather',\n",
       "  'content': '广州今天是晴天。 '},\n",
       " {'role': 'assistant',\n",
       "  'content': '在广州的晴朗一天里，\\n小白兔，你欢快地蹦跳，\\n嫦娥姐姐在天空微笑着看你，\\n阳光下，你的身影如此生动。'}]"
      ]
     },
     "execution_count": 2,
     "metadata": {},
     "output_type": "execute_result"
    }
   ],
   "source": [
    "qwen.memory"
   ]
  },
  {
   "cell_type": "markdown",
   "id": "daebcb1f-592d-48ec-aa99-f11b3efb377a",
   "metadata": {},
   "source": [
    "## 多轮对话"
   ]
  },
  {
   "cell_type": "markdown",
   "id": "8790399f-d4b4-4dd0-9559-136224b2c7cf",
   "metadata": {},
   "source": [
    "使用`messages`管理多轮对话的记忆。<br>\n",
    "你也可以在`chat`函数中通过参数`k`限制希望保留的对话轮次，但这不影响`messages`记录完整的对话过程。"
   ]
  },
  {
   "cell_type": "code",
   "execution_count": 1,
   "id": "db74091f-7698-4d62-9aee-68f36e2c0a7b",
   "metadata": {},
   "outputs": [],
   "source": [
    "from illufly.chat import FakeLLM, ChatZhipu, ChatQwen\n",
    "from illufly.io import log, alog\n",
    "\n",
    "a = ChatQwen()"
   ]
  },
  {
   "cell_type": "code",
   "execution_count": 2,
   "id": "00704634-ce1a-400d-a33f-a26b106eccdb",
   "metadata": {},
   "outputs": [
    {
     "data": {
      "text/plain": [
       "[{'role': 'user', 'content': 'hi'}]"
      ]
     },
     "execution_count": 2,
     "metadata": {},
     "output_type": "execute_result"
    }
   ],
   "source": [
    "a.build_chat_memory(\"hi\")"
   ]
  },
  {
   "cell_type": "markdown",
   "id": "6e667cad-8bc8-4ea2-b68e-d1c3687e71d0",
   "metadata": {},
   "source": [
    "## 回调工具"
   ]
  },
  {
   "cell_type": "code",
   "execution_count": 1,
   "id": "d898e2c1-a56b-4ffc-bf22-48351429c883",
   "metadata": {},
   "outputs": [
    {
     "name": "stdout",
     "output_type": "stream",
     "text": [
      "\n",
      "\n",
      "[TOOLS_CALL_FINAL] \u001b[36m[{\"index\": 0, \"id\": \"call_b1beefa5dde64281b26226\", \"type\": \"function\", \"function\": {\"name\": \"get_current_weather\", \"arguments\": \"{\\\"location\\\": \\\"广州\\\"}\"}}]\u001b[0m\n",
      "\u001b[32m广州今天是晴天。 \u001b[0m\n",
      "\u001b[32m广\u001b[0m\u001b[32m州\u001b[0m\u001b[32m今天的天气是晴\u001b[0m\u001b[32m天。\u001b[0m\u001b[32m\u001b[0m\n"
     ]
    },
    {
     "data": {
      "text/plain": [
       "'广州今天的天气是晴天。'"
      ]
     },
     "execution_count": 1,
     "metadata": {},
     "output_type": "execute_result"
    }
   ],
   "source": [
    "from illufly.chat import ChatQwen\n",
    "from illufly.types import BaseAgent\n",
    "\n",
    "def get_current_weather(location: str):\n",
    "    \"\"\"获取城市的天气情况\"\"\"\n",
    "    return f\"{location}今天是晴天。 \"\n",
    "\n",
    "qwen = ChatQwen(tools=[BaseAgent(get_current_weather)])\n",
    "qwen(\"今天广州天气如何啊\")"
   ]
  },
  {
   "cell_type": "code",
   "execution_count": 8,
   "id": "63002e47-0e89-490d-b5e2-6390cdc47ab4",
   "metadata": {},
   "outputs": [
    {
     "data": {
      "text/plain": [
       "{'type': 'function',\n",
       " 'function': {'name': 'get_current_weather',\n",
       "  'description': '获取城市的天气情况',\n",
       "  'parameters': {'type': 'object',\n",
       "   'properties': {'location': {'type': 'string', 'description': ''}},\n",
       "   'required': ['location']}}}"
      ]
     },
     "execution_count": 8,
     "metadata": {},
     "output_type": "execute_result"
    }
   ],
   "source": [
    "qwen.tools[0].tool_desc"
   ]
  },
  {
   "cell_type": "code",
   "execution_count": 9,
   "id": "67fe453f-dd4a-4c1d-a0aa-8e8122c88538",
   "metadata": {},
   "outputs": [
    {
     "name": "stdout",
     "output_type": "stream",
     "text": [
      "\u001b[32m我是通过\u001b[0m\u001b[32m使用\u001b[0m\u001b[32m天气\u001b[0m\u001b[32m获取功能查询得到\u001b[0m\u001b[32m的。我查询\u001b[0m\u001b[32m了广州今天的天气\u001b[0m\u001b[32m，反馈的结果是\u001b[0m\u001b[32m晴天。这就是\u001b[0m\u001b[32m依据。如果你想查看\u001b[0m\u001b[32m当时的查询结果，\u001b[0m\u001b[32m你可以让我再做\u001b[0m\u001b[32m一次查询。\u001b[0m\n",
      "\n",
      "\u001b[32m广州今天是晴天。 \u001b[0m\n",
      "\u001b[32m这是\u001b[0m\u001b[32m通过\u001b[0m\u001b[32m查询当前天气接口\u001b[0m\u001b[32m得出的，广州\u001b[0m\u001b[32m今天的天气是晴\u001b[0m\u001b[32m天。\u001b[0m\u001b[32m\u001b[0m\n"
     ]
    },
    {
     "data": {
      "text/plain": [
       "'这是通过查询当前天气接口得出的，广州今天的天气是晴天。'"
      ]
     },
     "execution_count": 9,
     "metadata": {},
     "output_type": "execute_result"
    }
   ],
   "source": [
    "qwen(\"这是怎么得出来的？\")"
   ]
  },
  {
   "cell_type": "code",
   "execution_count": 10,
   "id": "f5a78d8a-9de4-4718-be14-a900cc20fc60",
   "metadata": {},
   "outputs": [
    {
     "name": "stdout",
     "output_type": "stream",
     "text": [
      "\n",
      "\n",
      "\u001b[32m上海今天是晴天。 \u001b[0m\n",
      "\u001b[32m好的\u001b[0m\u001b[32m，\u001b[0m\u001b[32m通过查询当前天气\u001b[0m\u001b[32m的接口得知，\u001b[0m\u001b[32m上海今天的天气也是\u001b[0m\u001b[32m晴天。\u001b[0m\u001b[32m\u001b[0m\n"
     ]
    },
    {
     "data": {
      "text/plain": [
       "'好的，通过查询当前天气的接口得知，上海今天的天气也是晴天。'"
      ]
     },
     "execution_count": 10,
     "metadata": {},
     "output_type": "execute_result"
    }
   ],
   "source": [
    "qwen(\"再看看上海\")"
   ]
  },
  {
   "cell_type": "markdown",
   "id": "f985e3bb-e229-48a5-b614-2bfbb2ea1e83",
   "metadata": {},
   "source": [
    "## 识图模型"
   ]
  },
  {
   "cell_type": "markdown",
   "id": "f3f93cfc-de1a-4dda-839b-b2ddfd7fe1c2",
   "metadata": {},
   "source": [
    "### 识别在线图片"
   ]
  },
  {
   "cell_type": "code",
   "execution_count": 1,
   "id": "fcfd0b1f-b67f-40ba-8e0e-dcb4a8cf24c7",
   "metadata": {},
   "outputs": [
    {
     "name": "stdout",
     "output_type": "stream",
     "text": [
      "\u001b[32m图\u001b[0m\u001b[32m1\u001b[0m\u001b[32m中\u001b[0m\u001b[32m是一名女子和她的宠物\u001b[0m\u001b[32m狗在沙滩上互动，狗狗抬起\u001b[0m\u001b[32m前爪似乎想要握手。\n",
      "图2\u001b[0m\u001b[32m是一张老虎的CG渲染作品。\u001b[0m\u001b[32m\u001b[0m\n"
     ]
    },
    {
     "data": {
      "text/plain": [
       "'图1中是一名女子和她的宠物狗在沙滩上互动，狗狗抬起前爪似乎想要握手。\\n图2是一张老虎的CG渲染作品。'"
      ]
     },
     "execution_count": 1,
     "metadata": {},
     "output_type": "execute_result"
    }
   ],
   "source": [
    "from illufly.chat import ChatQwenVL\n",
    "from illufly.types import Messages\n",
    "\n",
    "qwen = ChatQwenVL()\n",
    "prompt = [\n",
    "    (\n",
    "        \"user\", \n",
    "        [\n",
    "            {'image': 'https://dashscope.oss-cn-beijing.aliyuncs.com/images/dog_and_girl.jpeg'},\n",
    "            {'image': 'https://dashscope.oss-cn-beijing.aliyuncs.com/images/tiger.png'},\n",
    "            {'text': '这些是什么'}\n",
    "        ]\n",
    "    )\n",
    "]\n",
    "qwen(prompt)"
   ]
  },
  {
   "cell_type": "code",
   "execution_count": 19,
   "id": "19d3ee6b-6753-43f5-9649-e4c943b8f9dc",
   "metadata": {},
   "outputs": [
    {
     "data": {
      "text/plain": [
       "[('user',\n",
       "  [{'image': 'https://dashscope.oss-cn-beijing.aliyuncs.com/images/dog_and_girl.jpeg'},\n",
       "   {'image': 'https://dashscope.oss-cn-beijing.aliyuncs.com/images/tiger.png'},\n",
       "   {'text': '这些是什么'}])]"
      ]
     },
     "execution_count": 19,
     "metadata": {},
     "output_type": "execute_result"
    }
   ],
   "source": [
    "prompt"
   ]
  },
  {
   "cell_type": "code",
   "execution_count": 20,
   "id": "e2a7a23b-a7d0-443b-aa2e-fb9e8e77f61b",
   "metadata": {},
   "outputs": [
    {
     "data": {
      "text/plain": [
       "[{'role': 'user',\n",
       "  'content': [{'image': 'https://dashscope.oss-cn-beijing.aliyuncs.com/images/dog_and_girl.jpeg'},\n",
       "   {'image': 'https://dashscope.oss-cn-beijing.aliyuncs.com/images/tiger.png'},\n",
       "   {'text': '这些是什么'}]},\n",
       " {'role': 'user',\n",
       "  'content': [{'image': 'https://dashscope.oss-cn-beijing.aliyuncs.com/images/dog_and_girl.jpeg'},\n",
       "   {'image': 'https://dashscope.oss-cn-beijing.aliyuncs.com/images/tiger.png'},\n",
       "   {'text': '这些是什么'}]},\n",
       " {'role': 'user',\n",
       "  'content': [{'image': 'https://dashscope.oss-cn-beijing.aliyuncs.com/images/dog_and_girl.jpeg'},\n",
       "   {'image': 'https://dashscope.oss-cn-beijing.aliyuncs.com/images/tiger.png'},\n",
       "   {'text': '这些是什么'}]}]"
      ]
     },
     "execution_count": 20,
     "metadata": {},
     "output_type": "execute_result"
    }
   ],
   "source": [
    "qwen.build_chat_memory(prompt)"
   ]
  },
  {
   "cell_type": "code",
   "execution_count": 2,
   "id": "962cebf5-6c08-4bcc-bf3c-34777742adf9",
   "metadata": {},
   "outputs": [
    {
     "data": {
      "text/plain": [
       "[{'role': 'user',\n",
       "  'content': [{'image': 'https://dashscope.oss-cn-beijing.aliyuncs.com/images/dog_and_girl.jpeg'},\n",
       "   {'image': 'https://dashscope.oss-cn-beijing.aliyuncs.com/images/tiger.png'},\n",
       "   {'text': '这些是什么'}]},\n",
       " {'role': 'assistant',\n",
       "  'content': [{'text': '图1中是一名女子和她的宠物狗在沙滩上互动，狗狗抬起前爪似乎想要握手。\\n图2是一张老虎的CG渲染作品。'}]}]"
      ]
     },
     "execution_count": 2,
     "metadata": {},
     "output_type": "execute_result"
    }
   ],
   "source": [
    "qwen.memory"
   ]
  },
  {
   "cell_type": "code",
   "execution_count": 3,
   "id": "716ba24e-5b7f-407c-a8e1-b6bbc1b2cafb",
   "metadata": {},
   "outputs": [
    {
     "data": {
      "text/plain": [
       "[{'image': 'https://dashscope.oss-cn-beijing.aliyuncs.com/images/dog_and_girl.jpeg'},\n",
       " {'image': 'https://dashscope.oss-cn-beijing.aliyuncs.com/images/tiger.png'},\n",
       " {'text': '这些是什么'}]"
      ]
     },
     "execution_count": 3,
     "metadata": {},
     "output_type": "execute_result"
    }
   ],
   "source": [
    "qwen.task"
   ]
  },
  {
   "cell_type": "markdown",
   "id": "d48ee0d3-789b-4e19-a615-e8dd7557473b",
   "metadata": {},
   "source": [
    "### 识别本地图片"
   ]
  },
  {
   "cell_type": "code",
   "execution_count": 1,
   "id": "1d9d93aa-c07c-4369-ae55-010d38aff8c8",
   "metadata": {},
   "outputs": [
    {
     "name": "stdout",
     "output_type": "stream",
     "text": [
      "\u001b[32m这张\u001b[0m\u001b[32m图\u001b[0m\u001b[32m是一\u001b[0m\u001b[32m幅描绘古代女子的\u001b[0m\u001b[32m插画。她身穿绿色汉服\u001b[0m\u001b[32m，坐在池塘边的一块木\u001b[0m\u001b[32m板上。她的头发盘起，并\u001b[0m\u001b[32m用发饰装饰着，在阳光下\u001b[0m\u001b[32m显得格外美丽。\n",
      "\n",
      "这位女士的表情平静\u001b[0m\u001b[32m而安详，似乎在享受这\u001b[0m\u001b[32m宁静的时刻。周围的环境充满了自然\u001b[0m\u001b[32m的气息——树木、水生植物和\u001b[0m\u001b[32m盛开的花朵都为画面增添了生动\u001b[0m\u001b[32m感。整体来说，这是一张\u001b[0m\u001b[32m充满诗意与古风美的艺术作品\u001b[0m\u001b[32m。\u001b[0m\n"
     ]
    },
    {
     "data": {
      "text/plain": [
       "'这张图是一幅描绘古代女子的插画。她身穿绿色汉服，坐在池塘边的一块木板上。她的头发盘起，并用发饰装饰着，在阳光下显得格外美丽。\\n\\n这位女士的表情平静而安详，似乎在享受这宁静的时刻。周围的环境充满了自然的气息——树木、水生植物和盛开的花朵都为画面增添了生动感。整体来说，这是一张充满诗意与古风美的艺术作品。'"
      ]
     },
     "execution_count": 1,
     "metadata": {},
     "output_type": "execute_result"
    }
   ],
   "source": [
    "from illufly.chat import ChatQwenVL\n",
    "from illufly.types import Messages\n",
    "\n",
    "qwen = ChatQwenVL()\n",
    "\n",
    "qwen(('user', [{'image': 'girl.jpg'}, {'text': '图片中是什么?'}]))"
   ]
  },
  {
   "cell_type": "code",
   "execution_count": null,
   "id": "1e0991a1-5a8c-41f5-8306-abdd9a7ed181",
   "metadata": {},
   "outputs": [],
   "source": []
  }
 ],
 "metadata": {
  "jpcodetoc-autonumbering": false,
  "kernelspec": {
   "display_name": "Python 3 (ipykernel)",
   "language": "python",
   "name": "python3"
  },
  "language_info": {
   "codemirror_mode": {
    "name": "ipython",
    "version": 3
   },
   "file_extension": ".py",
   "mimetype": "text/x-python",
   "name": "python",
   "nbconvert_exporter": "python",
   "pygments_lexer": "ipython3",
   "version": "3.10.0"
  }
 },
 "nbformat": 4,
 "nbformat_minor": 5
}
