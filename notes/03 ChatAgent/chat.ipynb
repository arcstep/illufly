{
    "cells": [
        {
            "cell_type": "markdown",
            "id": "532d485f-8069-427a-9934-d74b71f80be1",
            "metadata": {},
            "source": [
                "## 简单例子"
            ]
        },
        {
            "cell_type": "code",
            "execution_count": 1,
            "id": "cdba1380-0426-4fe0-8e1c-48f9f5e5f976",
            "metadata": {},
            "outputs": [
                {
                    "name": "stdout",
                    "output_type": "stream",
                    "text": [
                        "\n",
                        "    对话智能体是基于大模型实现的智能体，可以用于对话生成、对话理解等场景。\n",
                        "    \n",
                        "\n",
                        "ChatZhipu 参数列表：\n",
                        "- model: 模型名称\n",
                        "- end_chk: 是否在最后输出一个 EndBlock\n",
                        "- fetching_context: 上下文提取标记，可通过修改环境变量 ILLUFLY_CONTEXT_START 和 ILLUFLY_CONTEXT_END 修改默认值\n",
                        "- fetching_final_answer: 最终答案提取标记，可通过修改环境变量 ILLUFLY_FINAL_ANSWER_START 和 ILLUFLY_FINAL_ANSWER_END 修改默认值\n",
                        "- fetching_output: 输出内容提取标记\n",
                        "- chat_learn_folder: 知识库目录，可通过修改环境变量 ILLUFLY_CHAT_LEARN 修改默认值\n",
                        "- default_docs: 默认文档目录，可通过修改环境变量 ILLUFLY_DOCS 修改默认值\n",
                        "- func: 用于自定义工具的同步执行函数\n",
                        "- async_func: 用于自定义工具的异步执行函数\n",
                        "- name: 工具名称\n",
                        "- handlers: EventBlock 迭代器处理函数列表，默认为 [log]，当调用 call 方法时，会使用该列表中的函数逐个处理 EventBlock\n",
                        "- block_processor: 在 yield 之前将 EventBlock 事件转换为新的格式，在 __call__ 方法的输出生成器时使用\n",
                        "- threads_group: 如果由 illufly 管理线程池实现并发或异步，则可以指定线程组名称，默认为 DEFAULT\n",
                        "- providers: 实例的 consumer_dict 属性由 providers 列表中每个 Runnable 的 provider_dict 属性提供\n",
                        "- consumers: 实例的 provider_dict 属性将被 consumers 列表中每个 Runnable 引用\n",
                        "- dynamic_providers: 如果实例在不同周期中重复使用，可能会希望先在绑定前先清除旧的绑定，此时就应该使用动态绑定，即执行 bind_provider 时提供 dynamic=True 参数\n",
                        "- lazy_binding_map: 有时你无法确定被哪个对象绑定，但能确定绑定映射，此时就可以使用 lazy_binding_map 参数，在绑定时由对方根据该参数进行绑定\n",
                        "- description: 工具描述\n",
                        "- tool_params: 工具参数\n",
                        "- knowledge: 待检索的资料或向量数据库\n",
                        "- tools: 工具列表\n",
                        "- tools_handlers: 工具处理器列表\n",
                        "- tools_behavior: 工具处理行为, 包括 parse-execute, parse-execute-continue, parse-continue-execute 三种行为\n",
                        "- style: 消息样式\n",
                        "- memory: 记忆列表\n",
                        "- remember_rounds: 记忆轮数\n",
                        "- memory_history: 记忆持久化管理\n"
                    ]
                }
            ],
            "source": [
                "from illufly.chat import ChatQwen, ChatZhipu\n",
                "\n",
                "print(ChatZhipu.__doc__)"
            ]
        },
        {
            "cell_type": "code",
            "execution_count": 2,
            "id": "c60b57a2-cd4d-47dd-bca4-0df80cc1975a",
            "metadata": {},
            "outputs": [
                {
                    "name": "stdout",
                    "output_type": "stream",
                    "text": [
                        "[AGENT] \u001b[34mChatQwen.4371148192\u001b[0m\n",
                        "\n",
                        "\n",
                        "[FINAL_TOOLS_CALL] \u001b[36m[{\"index\": 0, \"id\": \"call_4758dc72ef8e4172aa5d55\", \"type\": \"function\", \"function\": {\"name\": \"poet\", \"arguments\": \"{\\\"input\\\": \\\"帮我写一首小诗\\\"}\"}}]\u001b[0m\n",
                        "[AGENT] \u001b[34mpoet\u001b[0m\n",
                        "\u001b[34m请看我的新作：\n",
                        "大海啊, 全是水\u001b[0m\n",
                        "\u001b[32m这\u001b[0m\u001b[32m是我\u001b[0m\u001b[32m为你创作的小诗\u001b[0m\u001b[32m：\n",
                        "大海啊,\u001b[0m\u001b[32m 全是水\u001b[0m\u001b[32m\n",
                        "希望你会喜欢\u001b[0m\u001b[32m。当然，如果你\u001b[0m\u001b[32m有更具体的要求\u001b[0m\u001b[32m，比如风格、\u001b[0m\u001b[32m主题等，也可以\u001b[0m\u001b[32m告诉我，我可以尝试\u001b[0m\u001b[32m创作出更符合\u001b[0m\u001b[32m你期望的作品。\u001b[0m\u001b[32m\u001b[0m\u001b[32m\u001b[0m\n"
                    ]
                },
                {
                    "data": {
                        "text/plain": [
                            "'这是我为你创作的小诗：\\n大海啊, 全是水\\n希望你会喜欢。当然，如果你有更具体的要求，比如风格、主题等，也可以告诉我，我可以尝试创作出更符合你期望的作品。'"
                        ]
                    },
                    "execution_count": 2,
                    "metadata": {},
                    "output_type": "execute_result"
                }
            ],
            "source": [
                "from illufly.chat import ChatQwen\n",
                "\n",
                "def poet(input: str):\n",
                "    \"\"\"我是诗人，擅长作诗。\"\"\"\n",
                "    return \"请看我的新作：\\n大海啊, 全是水\"\n",
                "\n",
                "chat = ChatQwen(tools=[poet])\n",
                "chat(\"帮我写一首小诗？\")"
            ]
        },
        {
            "cell_type": "code",
            "execution_count": 2,
            "id": "67d42ed2-d070-4eeb-b7dd-6adbcf3da03d",
            "metadata": {},
            "outputs": [
                {
                    "data": {
                        "text/plain": [
                            "''"
                        ]
                    },
                    "execution_count": 2,
                    "metadata": {},
                    "output_type": "execute_result"
                }
            ],
            "source": [
                "chat.final_answer"
            ]
        },
        {
            "cell_type": "markdown",
            "id": "9edfdf83-b957-4d0f-80b2-129b7a4eb3ea",
            "metadata": {},
            "source": [
                "## 综合例子"
            ]
        },
        {
            "cell_type": "code",
            "execution_count": 1,
            "id": "21e5caf9-5567-4667-acd1-060428f9da13",
            "metadata": {},
            "outputs": [
                {
                    "name": "stdout",
                    "output_type": "stream",
                    "text": [
                        "[AGENT] \u001b[34mqwen\u001b[0m\n",
                        "\n",
                        "\n",
                        "[FINAL_TOOLS_CALL] \u001b[36m[{\"index\": 0, \"id\": \"call_4105673da2924b77a8bd58\", \"type\": \"function\", \"function\": {\"name\": \"get_current_weather\", \"arguments\": \"{\\\"location\\\": \\\"广州\\\"}\"}}]\u001b[0m\n",
                        "[AGENT] \u001b[34mget_current_weather\u001b[0m\n",
                        "\u001b[32m广州今天是晴天。 \u001b[0m\n",
                        "\u001b[32m好\u001b[0m\u001b[32m的，已知\u001b[0m\u001b[32m广州今天是晴\u001b[0m\u001b[32m天，而兔子\u001b[0m\u001b[32m的主人是嫦\u001b[0m\u001b[32m娥。接下来，\u001b[0m\u001b[32m我将为你创作\u001b[0m\u001b[32m一首关于兔子的\u001b[0m\u001b[32m四句打油\u001b[0m\u001b[32m诗：\n",
                        "\n",
                        "玉兔\u001b[0m\u001b[32m晒暖在月\u001b[0m\u001b[32m边，\n",
                        "广寒\u001b[0m\u001b[32m宫冷盼晴\u001b[0m\u001b[32m天。\n",
                        "嫦娥\u001b[0m\u001b[32m抚袖笑颜\u001b[0m\u001b[32m开，\n",
                        "千里遥\u001b[0m\u001b[32m祝广州安。\u001b[0m\u001b[32m\u001b[0m\u001b[32m\u001b[0m\n"
                    ]
                },
                {
                    "data": {
                        "text/plain": [
                            "'好的，已知广州今天是晴天，而兔子的主人是嫦娥。接下来，我将为你创作一首关于兔子的四句打油诗：\\n\\n玉兔晒暖在月边，\\n广寒宫冷盼晴天。\\n嫦娥抚袖笑颜开，\\n千里遥祝广州安。'"
                        ]
                    },
                    "execution_count": 1,
                    "metadata": {},
                    "output_type": "execute_result"
                }
            ],
            "source": [
                "# 创建一个工具\n",
                "from illufly.chat import ChatQwen\n",
                "from illufly.types import BaseAgent, PromptTemplate, EventBlock\n",
                "\n",
                "def get_current_weather(location: str):\n",
                "    \"\"\"获取城市的天气情况\"\"\"\n",
                "    # return f\"{location}今天是晴天。 \"\n",
                "    yield self.create_event_block(\"chunk\", f\"{location}今天是晴天。 \")\n",
                "\n",
                "## 声明大模型\n",
                "qwen = ChatQwen(\n",
                "    name=\"qwen\",\n",
                "    tools=[BaseAgent(get_current_weather)],\n",
                "    knowledge=[\"这里的兔子是指嫦娥的宠物兔子\"],\n",
                "    memory=[(\"system\", \"你是一个作家\")]\n",
                ")\n",
                "\n",
                "qwen(\"先查询广州天气，然后结合兔子的主人，帮我写一首关于兔子的四句打油诗\", verbose=False)"
            ]
        },
        {
            "cell_type": "code",
            "execution_count": 2,
            "id": "9e4cd16b-0e25-4efc-8f39-b219c94a038c",
            "metadata": {},
            "outputs": [
                {
                    "data": {
                        "text/plain": [
                            "{'last_output': '好的，已经查到广州今天的天气是晴天。接下来，我将为您创作一首关于兔子的四句打油诗。\\n\\n阳光明媚在广州，小兔蹦跳乐逍遥。\\n主人宠爱如珍宝，绒球摇曳幸福高。',\n",
                            " 'resources': [],\n",
                            " 'task': '先查询广州天气，然后结合兔子的主人，帮我写一首关于兔子的四句打油诗',\n",
                            " 'final_answer': '',\n",
                            " 'tools_calling_steps': [],\n",
                            " 'tools_name': 'get_current_weather',\n",
                            " 'tools_desc': '{\"type\": \"function\", \"function\": {\"name\": \"get_current_weather\", \"description\": \"获取城市的天气情况\", \"parameters\": {\"type\": \"object\", \"properties\": {\"location\": {\"type\": \"string\", \"description\": \"\"}}, \"required\": [\"location\"]}}}',\n",
                            " 'knowledge': ['这里的兔子是指嫦娥的宠物兔子']}"
                        ]
                    },
                    "execution_count": 2,
                    "metadata": {},
                    "output_type": "execute_result"
                }
            ],
            "source": [
                "qwen.provider_dict"
            ]
        },
        {
            "cell_type": "code",
            "execution_count": 2,
            "id": "5de03d3e-f717-4212-b616-36b01e0a560d",
            "metadata": {},
            "outputs": [
                {
                    "data": {
                        "text/plain": [
                            "[{'role': 'system', 'content': '你是一个作家'},\n",
                            " {'role': 'user', 'content': '已知知识：\\n这里的兔子是指嫦娥的宠物兔子'},\n",
                            " {'role': 'assistant', 'content': 'OK'},\n",
                            " {'role': 'user', 'content': '先查询广州天气，然后结合兔子的主人，帮我写一首关于兔子的四句打油诗'},\n",
                            " {'role': 'assistant',\n",
                            "  'content': '',\n",
                            "  'tool_calls': [{'index': 0,\n",
                            "    'id': 'call_13c5bdfd6bd5410faebd1d',\n",
                            "    'type': 'function',\n",
                            "    'function': {'name': 'get_current_weather',\n",
                            "     'arguments': '{\"location\": \"广州\"}'}}]},\n",
                            " {'tool_call_id': 'call_13c5bdfd6bd5410faebd1d',\n",
                            "  'role': 'tool',\n",
                            "  'name': 'get_current_weather',\n",
                            "  'content': '广州今天是晴天。 '},\n",
                            " {'role': 'assistant',\n",
                            "  'content': '在广州的晴朗一天里，\\n小白兔，你欢快地蹦跳，\\n嫦娥姐姐在天空微笑着看你，\\n阳光下，你的身影如此生动。'}]"
                        ]
                    },
                    "execution_count": 2,
                    "metadata": {},
                    "output_type": "execute_result"
                }
            ],
            "source": [
                "qwen.memory"
            ]
        },
        {
            "cell_type": "markdown",
            "id": "daebcb1f-592d-48ec-aa99-f11b3efb377a",
            "metadata": {},
            "source": [
                "## 多轮对话"
            ]
        },
        {
            "cell_type": "markdown",
            "id": "8790399f-d4b4-4dd0-9559-136224b2c7cf",
            "metadata": {},
            "source": [
                "使用`messages`管理多轮对话的记忆。<br>\n",
                "你也可以在`chat`函数中通过参数`k`限制希望保留的对话轮次，但这不影响`messages`记录完整的对话过程。"
            ]
        },
        {
            "cell_type": "code",
            "execution_count": 1,
            "id": "db74091f-7698-4d62-9aee-68f36e2c0a7b",
            "metadata": {},
            "outputs": [],
            "source": [
                "from illufly.chat import FakeLLM, ChatZhipu, ChatQwen\n",
                "from illufly.io import log, alog\n",
                "\n",
                "a = ChatQwen()"
            ]
        },
        {
            "cell_type": "code",
            "execution_count": 2,
            "id": "00704634-ce1a-400d-a33f-a26b106eccdb",
            "metadata": {},
            "outputs": [
                {
                    "data": {
                        "text/plain": [
                            "[{'role': 'user', 'content': 'hi'}]"
                        ]
                    },
                    "execution_count": 2,
                    "metadata": {},
                    "output_type": "execute_result"
                }
            ],
            "source": [
                "a.build_chat_memory(\"hi\")"
            ]
        },
        {
            "cell_type": "markdown",
            "id": "6e667cad-8bc8-4ea2-b68e-d1c3687e71d0",
            "metadata": {},
            "source": [
                "## 回调工具"
            ]
        },
        {
            "cell_type": "code",
            "execution_count": 1,
            "id": "d898e2c1-a56b-4ffc-bf22-48351429c883",
            "metadata": {},
            "outputs": [
                {
                    "name": "stdout",
                    "output_type": "stream",
                    "text": [
                        "\n",
                        "\n",
                        "[TOOLS_CALL_FINAL] \u001b[36m[{\"index\": 0, \"id\": \"call_b1beefa5dde64281b26226\", \"type\": \"function\", \"function\": {\"name\": \"get_current_weather\", \"arguments\": \"{\\\"location\\\": \\\"广州\\\"}\"}}]\u001b[0m\n",
                        "\u001b[32m广州今天是晴天。 \u001b[0m\n",
                        "\u001b[32m广\u001b[0m\u001b[32m州\u001b[0m\u001b[32m今天的天气是晴\u001b[0m\u001b[32m天。\u001b[0m\u001b[32m\u001b[0m\n"
                    ]
                },
                {
                    "data": {
                        "text/plain": [
                            "'广州今天的天气是晴天。'"
                        ]
                    },
                    "execution_count": 1,
                    "metadata": {},
                    "output_type": "execute_result"
                }
            ],
            "source": [
                "from illufly.chat import ChatQwen\n",
                "from illufly.types import BaseAgent\n",
                "\n",
                "def get_current_weather(location: str):\n",
                "    \"\"\"获取城市的天气情况\"\"\"\n",
                "    return f\"{location}今天是晴天。 \"\n",
                "\n",
                "qwen = ChatQwen(tools=[BaseAgent(get_current_weather)])\n",
                "qwen(\"今天广州天气如何啊\")"
            ]
        },
        {
            "cell_type": "code",
            "execution_count": 8,
            "id": "63002e47-0e89-490d-b5e2-6390cdc47ab4",
            "metadata": {},
            "outputs": [
                {
                    "data": {
                        "text/plain": [
                            "{'type': 'function',\n",
                            " 'function': {'name': 'get_current_weather',\n",
                            "  'description': '获取城市的天气情况',\n",
                            "  'parameters': {'type': 'object',\n",
                            "   'properties': {'location': {'type': 'string', 'description': ''}},\n",
                            "   'required': ['location']}}}"
                        ]
                    },
                    "execution_count": 8,
                    "metadata": {},
                    "output_type": "execute_result"
                }
            ],
            "source": [
                "qwen.tools[0].tool_desc"
            ]
        },
        {
            "cell_type": "code",
            "execution_count": 9,
            "id": "67fe453f-dd4a-4c1d-a0aa-8e8122c88538",
            "metadata": {},
            "outputs": [
                {
                    "name": "stdout",
                    "output_type": "stream",
                    "text": [
                        "\u001b[32m我是通过\u001b[0m\u001b[32m使用\u001b[0m\u001b[32m天气\u001b[0m\u001b[32m获取功能查询得到\u001b[0m\u001b[32m的。我查询\u001b[0m\u001b[32m了广州今天的天气\u001b[0m\u001b[32m，反馈的结果是\u001b[0m\u001b[32m晴天。这就是\u001b[0m\u001b[32m依据。如果你想查看\u001b[0m\u001b[32m当时的查询结果，\u001b[0m\u001b[32m你可以让我再做\u001b[0m\u001b[32m一次查询。\u001b[0m\n",
                        "\n",
                        "\u001b[32m广州今天是晴天。 \u001b[0m\n",
                        "\u001b[32m这是\u001b[0m\u001b[32m通过\u001b[0m\u001b[32m查询当前天气接口\u001b[0m\u001b[32m得出的，广州\u001b[0m\u001b[32m今天的天气是晴\u001b[0m\u001b[32m天。\u001b[0m\u001b[32m\u001b[0m\n"
                    ]
                },
                {
                    "data": {
                        "text/plain": [
                            "'这是通过查询当前天气接口得出的，广州今天的天气是晴天。'"
                        ]
                    },
                    "execution_count": 9,
                    "metadata": {},
                    "output_type": "execute_result"
                }
            ],
            "source": [
                "qwen(\"这是怎么得出来的？\")"
            ]
        },
        {
            "cell_type": "code",
            "execution_count": 10,
            "id": "f5a78d8a-9de4-4718-be14-a900cc20fc60",
            "metadata": {},
            "outputs": [
                {
                    "name": "stdout",
                    "output_type": "stream",
                    "text": [
                        "\n",
                        "\n",
                        "\u001b[32m上海今天是晴天。 \u001b[0m\n",
                        "\u001b[32m好的\u001b[0m\u001b[32m，\u001b[0m\u001b[32m通过查询当前天气\u001b[0m\u001b[32m的接口得知，\u001b[0m\u001b[32m上海今天的天气也是\u001b[0m\u001b[32m晴天。\u001b[0m\u001b[32m\u001b[0m\n"
                    ]
                },
                {
                    "data": {
                        "text/plain": [
                            "'好的，通过查询当前天气的接口得知，上海今天的天气也是晴天。'"
                        ]
                    },
                    "execution_count": 10,
                    "metadata": {},
                    "output_type": "execute_result"
                }
            ],
            "source": [
                "qwen(\"再看看上海\")"
            ]
        },
        {
            "cell_type": "markdown",
            "id": "f985e3bb-e229-48a5-b614-2bfbb2ea1e83",
            "metadata": {},
            "source": [
                "## 识图模型"
            ]
        },
        {
            "cell_type": "markdown",
            "id": "f3f93cfc-de1a-4dda-839b-b2ddfd7fe1c2",
            "metadata": {},
            "source": [
                "### 识别在线图片"
            ]
        },
        {
            "cell_type": "code",
            "execution_count": 1,
            "id": "fcfd0b1f-b67f-40ba-8e0e-dcb4a8cf24c7",
            "metadata": {},
            "outputs": [
                {
                    "name": "stdout",
                    "output_type": "stream",
                    "text": [
                        "\u001b[32m图\u001b[0m\u001b[32m1\u001b[0m\u001b[32m中\u001b[0m\u001b[32m是一名女子和她的宠物\u001b[0m\u001b[32m狗在沙滩上互动，狗狗抬起\u001b[0m\u001b[32m前爪似乎想要握手。\n",
                        "图2\u001b[0m\u001b[32m是一张老虎的CG渲染作品。\u001b[0m\u001b[32m\u001b[0m\n"
                    ]
                },
                {
                    "data": {
                        "text/plain": [
                            "'图1中是一名女子和她的宠物狗在沙滩上互动，狗狗抬起前爪似乎想要握手。\\n图2是一张老虎的CG渲染作品。'"
                        ]
                    },
                    "execution_count": 1,
                    "metadata": {},
                    "output_type": "execute_result"
                }
            ],
            "source": [
                "from illufly.chat import ChatQwenVL\n",
                "from illufly.types import Messages\n",
                "\n",
                "qwen = ChatQwenVL()\n",
                "prompt = [\n",
                "    (\n",
                "        \"user\", \n",
                "        [\n",
                "            {'image': 'https://dashscope.oss-cn-beijing.aliyuncs.com/images/dog_and_girl.jpeg'},\n",
                "            {'image': 'https://dashscope.oss-cn-beijing.aliyuncs.com/images/tiger.png'},\n",
                "            {'text': '这些是什么'}\n",
                "        ]\n",
                "    )\n",
                "]\n",
                "qwen(prompt)"
            ]
        },
        {
            "cell_type": "code",
            "execution_count": 19,
            "id": "19d3ee6b-6753-43f5-9649-e4c943b8f9dc",
            "metadata": {},
            "outputs": [
                {
                    "data": {
                        "text/plain": [
                            "[('user',\n",
                            "  [{'image': 'https://dashscope.oss-cn-beijing.aliyuncs.com/images/dog_and_girl.jpeg'},\n",
                            "   {'image': 'https://dashscope.oss-cn-beijing.aliyuncs.com/images/tiger.png'},\n",
                            "   {'text': '这些是什么'}])]"
                        ]
                    },
                    "execution_count": 19,
                    "metadata": {},
                    "output_type": "execute_result"
                }
            ],
            "source": [
                "prompt"
            ]
        },
        {
            "cell_type": "code",
            "execution_count": 20,
            "id": "e2a7a23b-a7d0-443b-aa2e-fb9e8e77f61b",
            "metadata": {},
            "outputs": [
                {
                    "data": {
                        "text/plain": [
                            "[{'role': 'user',\n",
                            "  'content': [{'image': 'https://dashscope.oss-cn-beijing.aliyuncs.com/images/dog_and_girl.jpeg'},\n",
                            "   {'image': 'https://dashscope.oss-cn-beijing.aliyuncs.com/images/tiger.png'},\n",
                            "   {'text': '这些是什么'}]},\n",
                            " {'role': 'user',\n",
                            "  'content': [{'image': 'https://dashscope.oss-cn-beijing.aliyuncs.com/images/dog_and_girl.jpeg'},\n",
                            "   {'image': 'https://dashscope.oss-cn-beijing.aliyuncs.com/images/tiger.png'},\n",
                            "   {'text': '这些是什么'}]},\n",
                            " {'role': 'user',\n",
                            "  'content': [{'image': 'https://dashscope.oss-cn-beijing.aliyuncs.com/images/dog_and_girl.jpeg'},\n",
                            "   {'image': 'https://dashscope.oss-cn-beijing.aliyuncs.com/images/tiger.png'},\n",
                            "   {'text': '这些是什么'}]}]"
                        ]
                    },
                    "execution_count": 20,
                    "metadata": {},
                    "output_type": "execute_result"
                }
            ],
            "source": [
                "qwen.build_chat_memory(prompt)"
            ]
        },
        {
            "cell_type": "code",
            "execution_count": 2,
            "id": "962cebf5-6c08-4bcc-bf3c-34777742adf9",
            "metadata": {},
            "outputs": [
                {
                    "data": {
                        "text/plain": [
                            "[{'role': 'user',\n",
                            "  'content': [{'image': 'https://dashscope.oss-cn-beijing.aliyuncs.com/images/dog_and_girl.jpeg'},\n",
                            "   {'image': 'https://dashscope.oss-cn-beijing.aliyuncs.com/images/tiger.png'},\n",
                            "   {'text': '这些是什么'}]},\n",
                            " {'role': 'assistant',\n",
                            "  'content': [{'text': '图1中是一名女子和她的宠物狗在沙滩上互动，狗狗抬起前爪似乎想要握手。\\n图2是一张老虎的CG渲染作品。'}]}]"
                        ]
                    },
                    "execution_count": 2,
                    "metadata": {},
                    "output_type": "execute_result"
                }
            ],
            "source": [
                "qwen.memory"
            ]
        },
        {
            "cell_type": "code",
            "execution_count": 3,
            "id": "716ba24e-5b7f-407c-a8e1-b6bbc1b2cafb",
            "metadata": {},
            "outputs": [
                {
                    "data": {
                        "text/plain": [
                            "[{'image': 'https://dashscope.oss-cn-beijing.aliyuncs.com/images/dog_and_girl.jpeg'},\n",
                            " {'image': 'https://dashscope.oss-cn-beijing.aliyuncs.com/images/tiger.png'},\n",
                            " {'text': '这些是什么'}]"
                        ]
                    },
                    "execution_count": 3,
                    "metadata": {},
                    "output_type": "execute_result"
                }
            ],
            "source": [
                "qwen.task"
            ]
        },
        {
            "cell_type": "markdown",
            "id": "d48ee0d3-789b-4e19-a615-e8dd7557473b",
            "metadata": {},
            "source": [
                "### 识别本地图片"
            ]
        },
        {
            "cell_type": "code",
            "execution_count": 1,
            "id": "1d9d93aa-c07c-4369-ae55-010d38aff8c8",
            "metadata": {},
            "outputs": [
                {
                    "name": "stdout",
                    "output_type": "stream",
                    "text": [
                        "[USER] \u001b[34m{\"image\": \"images/girl.jpg\"},图片中是什么?\u001b[0m\n",
                        "\u001b[32m这张\u001b[0m\u001b[32m图\u001b[0m\u001b[32m是一\u001b[0m\u001b[32m幅描绘古代女子的\u001b[0m\u001b[32m插画。她身穿绿色汉服\u001b[0m\u001b[32m，坐在池塘边的一块木\u001b[0m\u001b[32m板上。她的头发盘起，并\u001b[0m\u001b[32m用发饰装饰着，在阳光下\u001b[0m\u001b[32m显得格外美丽。\n",
                        "\n",
                        "这位女士的表情平静而安详，似乎在享受这\u001b[0m\u001b[32m宁静的时刻。周围的环境充满了自然\u001b[0m\u001b[32m的气息——树木、水生植物和\u001b[0m\u001b[32m盛开的花朵都为画面增添了生动\u001b[0m\u001b[32m感。整体来说，这是一张\u001b[0m\u001b[32m充满诗意与古风美的艺术作品\u001b[0m\u001b[32m。\u001b[0m\n"
                    ]
                },
                {
                    "data": {
                        "text/plain": [
                            "'这张图是一幅描绘古代女子的插画。她身穿绿色汉服，坐在池塘边的一块木板上。她的头发盘起，并用发饰装饰着，在阳光下显得格外美丽。\\n\\n这位女士的表情平静而安详，似乎在享受这宁静的时刻。周围的环境充满了自然的气息——树木、水生植物和盛开的花朵都为画面增添了生动感。整体来说，这是一张充满诗意与古风美的艺术作品。'"
                        ]
                    },
                    "execution_count": 1,
                    "metadata": {},
                    "output_type": "execute_result"
                }
            ],
            "source": [
                "from illufly.chat import ChatQwenVL\n",
                "from illufly.types import Messages\n",
                "\n",
                "qwen = ChatQwenVL()\n",
                "\n",
                "qwen(('user', [{'image': 'images/girl.jpg'}, {'text': '图片中是什么?'}]))"
            ]
        },
        {
            "cell_type": "code",
            "execution_count": null,
            "id": "1e0991a1-5a8c-41f5-8306-abdd9a7ed181",
            "metadata": {},
            "outputs": [],
            "source": []
        }
    ],
    "metadata": {
        "jpcodetoc-autonumbering": false,
        "kernelspec": {
            "display_name": "same_to_illufly",
            "language": "python",
            "name": "same_to_illufly"
        },
        "language_info": {
            "codemirror_mode": {
                "name": "ipython",
                "version": 3
            },
            "file_extension": ".py",
            "mimetype": "text/x-python",
            "name": "python",
            "nbconvert_exporter": "python",
            "pygments_lexer": "ipython3",
            "version": "3.10.0"
        }
    },
    "nbformat": 4,
    "nbformat_minor": 5
}