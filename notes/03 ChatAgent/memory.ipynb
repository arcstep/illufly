{
 "cells": [
  {
   "cell_type": "markdown",
   "id": "a9ac0a5d-bdb8-4fc0-8581-2604ecd3db77",
   "metadata": {},
   "source": [
    "## 对话智能体中的提示语结构\n",
    "\n",
    "1. 确认是否新对话\n",
    "2. 补充提问\n",
    "    - 追加到旧的对话\n",
    "    - 使用提示语构建新对话\n",
    "    - 结合 init_messages 构建新对话\n",
    "3. 构建对话\n",
    "    - 收集最近记忆\n",
    "    - 结合知识检索\n",
    "    - 结合工具箱"
   ]
  },
  {
   "cell_type": "code",
   "execution_count": 3,
   "id": "fc65d9c1-2c3e-434f-bf92-cbd12c5e4d49",
   "metadata": {},
   "outputs": [
    {
     "name": "stdout",
     "output_type": "stream",
     "text": [
      "[INFO] \u001b[34m记住 10 轮对话\u001b[0m\n",
      "[INFO] \u001b[34mFakeLLM: [{'role': 'user', 'content': '写一首诗词吧'}]\u001b[0m\n",
      "\u001b[32m这\u001b[0m\u001b[32m是\u001b[0m\u001b[32m一个\u001b[0m\u001b[32m模拟\u001b[0m\u001b[32m调用\u001b[0m\u001b[32m!\u001b[0m"
     ]
    },
    {
     "data": {
      "text/plain": [
       "[{'role': 'user', 'content': '写一首诗词吧'},\n",
       " {'role': 'assistant', 'content': '这是一个模拟调用!'}]"
      ]
     },
     "execution_count": 3,
     "metadata": {},
     "output_type": "execute_result"
    }
   ],
   "source": [
    "from illufly.chat import FakeLLM\n",
    "from illufly.types import Template\n",
    "\n",
    "llm = FakeLLM()\n",
    "llm(\"写一首诗词吧\", verbose=True, new_chat=True)\n",
    "llm.memory"
   ]
  },
  {
   "cell_type": "code",
   "execution_count": 4,
   "id": "c7294bb3-659b-4286-8c00-ff7e02e92485",
   "metadata": {},
   "outputs": [
    {
     "data": {
      "text/plain": [
       "[{'role': 'user', 'content': 'hi'}]"
      ]
     },
     "execution_count": 4,
     "metadata": {},
     "output_type": "execute_result"
    }
   ],
   "source": [
    "llm = FakeLLM()\n",
    "llm.build_chat_memory(\"hi\")"
   ]
  },
  {
   "cell_type": "markdown",
   "id": "fd3cb30b-e598-4111-9df6-c1771cd45891",
   "metadata": {},
   "source": [
    "## 构建对话"
   ]
  },
  {
   "cell_type": "markdown",
   "id": "7f7f4d6c-42ce-4b52-8b2a-cfbb67374e8c",
   "metadata": {},
   "source": [
    "### 新对话"
   ]
  },
  {
   "cell_type": "code",
   "execution_count": 5,
   "id": "e46502bf-08e0-4088-af78-29c6699a4293",
   "metadata": {},
   "outputs": [
    {
     "name": "stdout",
     "output_type": "stream",
     "text": [
      "\u001b[32m这\u001b[0m\u001b[32m是\u001b[0m\u001b[32m一个\u001b[0m\u001b[32m模拟\u001b[0m\u001b[32m调用\u001b[0m\u001b[32m!\u001b[0m"
     ]
    },
    {
     "data": {
      "text/plain": [
       "[{'role': 'user', 'content': '写一首诗词吧'},\n",
       " {'role': 'assistant', 'content': '这是一个模拟调用!'}]"
      ]
     },
     "execution_count": 5,
     "metadata": {},
     "output_type": "execute_result"
    }
   ],
   "source": [
    "from illufly.chat import FakeLLM\n",
    "from illufly.types import Template\n",
    "\n",
    "llm = FakeLLM()\n",
    "llm(\"写一首诗词吧\")\n",
    "llm.memory"
   ]
  },
  {
   "cell_type": "markdown",
   "id": "fa588aa4-a0da-4759-bbe2-cf55533dd4c5",
   "metadata": {},
   "source": [
    "### 连续对话"
   ]
  },
  {
   "cell_type": "code",
   "execution_count": 6,
   "id": "6f45e651-f8df-4942-afad-ffc2327923f0",
   "metadata": {},
   "outputs": [
    {
     "name": "stdout",
     "output_type": "stream",
     "text": [
      "\u001b[32m这\u001b[0m\u001b[32m是\u001b[0m\u001b[32m一个\u001b[0m\u001b[32m模拟\u001b[0m\u001b[32m调用\u001b[0m\u001b[32m!\u001b[0m"
     ]
    },
    {
     "data": {
      "text/plain": [
       "[{'role': 'user', 'content': '写一首诗词吧'},\n",
       " {'role': 'assistant', 'content': '这是一个模拟调用!'},\n",
       " {'role': 'user', 'content': '再写一首'},\n",
       " {'role': 'assistant', 'content': '这是一个模拟调用!'}]"
      ]
     },
     "execution_count": 6,
     "metadata": {},
     "output_type": "execute_result"
    }
   ],
   "source": [
    "llm(\"再写一首\")\n",
    "llm.memory"
   ]
  },
  {
   "cell_type": "markdown",
   "id": "b14a3c23-a271-400f-8ac7-17d6df655385",
   "metadata": {},
   "source": [
    "### 如果使用 new_chat 标志"
   ]
  },
  {
   "cell_type": "code",
   "execution_count": 7,
   "id": "767c0ef9-246f-4410-9786-0d70f78347ea",
   "metadata": {},
   "outputs": [
    {
     "name": "stdout",
     "output_type": "stream",
     "text": [
      "\u001b[32m这\u001b[0m\u001b[32m是\u001b[0m\u001b[32m一个\u001b[0m\u001b[32m模拟\u001b[0m\u001b[32m调用\u001b[0m\u001b[32m!\u001b[0m"
     ]
    },
    {
     "data": {
      "text/plain": [
       "[{'role': 'user', 'content': '再写一首'},\n",
       " {'role': 'assistant', 'content': '这是一个模拟调用!'}]"
      ]
     },
     "execution_count": 7,
     "metadata": {},
     "output_type": "execute_result"
    }
   ],
   "source": [
    "llm(\"再写一首\", new_chat=True)\n",
    "llm.memory"
   ]
  },
  {
   "cell_type": "markdown",
   "id": "c9f1ad56-a0a4-4be1-9a30-2b39d35c059f",
   "metadata": {},
   "source": [
    "### 在调用时使用 system 角色的提示语"
   ]
  },
  {
   "cell_type": "code",
   "execution_count": 8,
   "id": "016ff2f6-e9c9-4247-b819-0295fda6bd91",
   "metadata": {},
   "outputs": [
    {
     "name": "stdout",
     "output_type": "stream",
     "text": [
      "\u001b[32m这\u001b[0m\u001b[32m是\u001b[0m\u001b[32m一个\u001b[0m\u001b[32m模拟\u001b[0m\u001b[32m调用\u001b[0m\u001b[32m!\u001b[0m"
     ]
    },
    {
     "data": {
      "text/plain": [
       "[{'role': 'system', 'content': '你是一个作家'},\n",
       " {'role': 'user', 'content': '写一首诗'},\n",
       " {'role': 'assistant', 'content': '这是一个模拟调用!'}]"
      ]
     },
     "execution_count": 8,
     "metadata": {},
     "output_type": "execute_result"
    }
   ],
   "source": [
    "llm([(\"system\", \"你是一个作家\"), (\"user\", \"写一首诗\")])\n",
    "llm.memory"
   ]
  },
  {
   "cell_type": "markdown",
   "id": "a8dfd107-3f54-48c9-b824-508bb1d89904",
   "metadata": {},
   "source": [
    "### 在调用时使用 system 角色并补充 user 消息"
   ]
  },
  {
   "cell_type": "code",
   "execution_count": 9,
   "id": "352917bc-6113-4e9f-9154-f22842afdd68",
   "metadata": {},
   "outputs": [
    {
     "name": "stdout",
     "output_type": "stream",
     "text": [
      "\u001b[32m这\u001b[0m\u001b[32m是\u001b[0m\u001b[32m一个\u001b[0m\u001b[32m模拟\u001b[0m\u001b[32m调用\u001b[0m\u001b[32m!\u001b[0m"
     ]
    },
    {
     "data": {
      "text/plain": [
       "[{'role': 'system', 'content': '你是一个作家，帮我写首诗'},\n",
       " {'role': 'user', 'content': '请开始'},\n",
       " {'role': 'assistant', 'content': '这是一个模拟调用!'}]"
      ]
     },
     "execution_count": 9,
     "metadata": {},
     "output_type": "execute_result"
    }
   ],
   "source": [
    "llm([(\"system\", \"你是一个作家，帮我写首诗\")])\n",
    "llm.memory"
   ]
  },
  {
   "cell_type": "markdown",
   "id": "4248d747-30cf-4255-b5d8-d41c9afd901b",
   "metadata": {},
   "source": [
    "### 在声明实例时使用 system 角色的提示语"
   ]
  },
  {
   "cell_type": "code",
   "execution_count": 10,
   "id": "4de45dd1-9845-4fbe-b0be-13dff133bd2f",
   "metadata": {},
   "outputs": [
    {
     "name": "stdout",
     "output_type": "stream",
     "text": [
      "\u001b[32m这\u001b[0m\u001b[32m是\u001b[0m\u001b[32m一个\u001b[0m\u001b[32m模拟\u001b[0m\u001b[32m调用\u001b[0m\u001b[32m!\u001b[0m"
     ]
    },
    {
     "data": {
      "text/plain": [
       "[{'role': 'system', 'content': '你是一个作家'},\n",
       " {'role': 'user', 'content': '写一首诗词吧'},\n",
       " {'role': 'assistant', 'content': '这是一个模拟调用!'}]"
      ]
     },
     "execution_count": 10,
     "metadata": {},
     "output_type": "execute_result"
    }
   ],
   "source": [
    "from illufly.chat import FakeLLM\n",
    "from illufly.types import Template\n",
    "\n",
    "llm = FakeLLM(memory=[(\"system\", \"你是一个作家\")])\n",
    "llm(\"写一首诗词吧\")\n",
    "llm.memory"
   ]
  },
  {
   "cell_type": "markdown",
   "id": "10911050-d919-40d0-892f-45ccced99f73",
   "metadata": {},
   "source": [
    "### 绑定 task 并自动补充 user 消息"
   ]
  },
  {
   "cell_type": "code",
   "execution_count": 11,
   "id": "6016cab1-c284-41a9-9665-4be80eb0b08b",
   "metadata": {},
   "outputs": [
    {
     "name": "stdout",
     "output_type": "stream",
     "text": [
      "\u001b[32m这\u001b[0m\u001b[32m是\u001b[0m\u001b[32m一个\u001b[0m\u001b[32m模拟\u001b[0m\u001b[32m调用\u001b[0m\u001b[32m!\u001b[0m"
     ]
    },
    {
     "data": {
      "text/plain": [
       "[{'role': 'system', 'content': '你是一个作家，请帮我写一首诗词吧'},\n",
       " {'role': 'user', 'content': '请开始'},\n",
       " {'role': 'assistant', 'content': '这是一个模拟调用!'}]"
      ]
     },
     "execution_count": 11,
     "metadata": {},
     "output_type": "execute_result"
    }
   ],
   "source": [
    "llm = FakeLLM(memory=[(\"system\", Template(text=\"你是一个作家，请帮我{{task}}\"))])\n",
    "llm(\"写一首诗词吧\")\n",
    "llm.memory"
   ]
  },
  {
   "cell_type": "markdown",
   "id": "01844500-aef4-4575-9e8a-724064058d46",
   "metadata": {},
   "source": [
    "### 绑定 task 并提供 user 消息"
   ]
  },
  {
   "cell_type": "code",
   "execution_count": 12,
   "id": "7e0d6db6-c82a-423f-877c-298ecdf97bec",
   "metadata": {},
   "outputs": [
    {
     "name": "stdout",
     "output_type": "stream",
     "text": [
      "\u001b[32m这\u001b[0m\u001b[32m是\u001b[0m\u001b[32m一个\u001b[0m\u001b[32m模拟\u001b[0m\u001b[32m调用\u001b[0m\u001b[32m!\u001b[0m"
     ]
    },
    {
     "data": {
      "text/plain": [
       "[{'role': 'system', 'content': '你是一个作家，请帮我写一首诗词吧'},\n",
       " {'role': 'user', 'content': '开始吧'},\n",
       " {'role': 'assistant', 'content': '这是一个模拟调用!'}]"
      ]
     },
     "execution_count": 12,
     "metadata": {},
     "output_type": "execute_result"
    }
   ],
   "source": [
    "llm = FakeLLM(memory=[\n",
    "    (\"system\", Template(text=\"你是一个作家，请帮我{{task}}\")), \n",
    "    (\"user\", \"开始吧\")\n",
    "])\n",
    "llm(\"写一首诗词吧\")\n",
    "llm.memory"
   ]
  },
  {
   "cell_type": "markdown",
   "id": "6ff8b4de-5728-4fd3-85b3-1611435241a9",
   "metadata": {},
   "source": [
    "## 映射提示语中的模板变量"
   ]
  },
  {
   "cell_type": "markdown",
   "id": "2824bf5b-3078-42af-8857-64c5a9ef65d1",
   "metadata": {},
   "source": [
    "### 默认映射"
   ]
  },
  {
   "cell_type": "code",
   "execution_count": 13,
   "id": "ad3677d7-4e2c-407b-a1ad-b3522afac214",
   "metadata": {},
   "outputs": [
    {
     "name": "stdout",
     "output_type": "stream",
     "text": [
      "\u001b[32m这\u001b[0m\u001b[32m是\u001b[0m\u001b[32m一个\u001b[0m\u001b[32m模拟\u001b[0m\u001b[32m调用\u001b[0m\u001b[32m!\u001b[0m"
     ]
    },
    {
     "data": {
      "text/plain": [
       "[{'role': 'system', 'content': '请你帮我写一首儿歌，4行'},\n",
       " {'role': 'user', 'content': '请开始'},\n",
       " {'role': 'assistant', 'content': '这是一个模拟调用!'}]"
      ]
     },
     "execution_count": 13,
     "metadata": {},
     "output_type": "execute_result"
    }
   ],
   "source": [
    "from illufly.chat import FakeLLM\n",
    "from illufly.types import Template\n",
    "\n",
    "llm = FakeLLM(\n",
    "    memory=[Template(text=\"请你帮我写{{task}}\"), \"请开始\"]\n",
    ")\n",
    "llm(\"一首儿歌，4行\")\n",
    "llm.memory"
   ]
  },
  {
   "cell_type": "markdown",
   "id": "47dc6e55-325e-457e-817b-ecba530c43ea",
   "metadata": {},
   "source": [
    "### 重新映射"
   ]
  },
  {
   "cell_type": "code",
   "execution_count": 14,
   "id": "0c5ee3ae-7049-43ce-869a-2d989b0febf5",
   "metadata": {},
   "outputs": [
    {
     "name": "stdout",
     "output_type": "stream",
     "text": [
      "\u001b[32m这\u001b[0m\u001b[32m是\u001b[0m\u001b[32m一个\u001b[0m\u001b[32m模拟\u001b[0m\u001b[32m调用\u001b[0m\u001b[32m!\u001b[0m"
     ]
    },
    {
     "data": {
      "text/plain": [
       "[{'role': 'system', 'content': '请你帮我写一首儿歌，4行'},\n",
       " {'role': 'user', 'content': '请开始'},\n",
       " {'role': 'assistant', 'content': '这是一个模拟调用!'}]"
      ]
     },
     "execution_count": 14,
     "metadata": {},
     "output_type": "execute_result"
    }
   ],
   "source": [
    "from illufly.chat import FakeLLM\n",
    "from illufly.types import Template\n",
    "\n",
    "llm = FakeLLM(\n",
    "    memory=[\n",
    "        Template(text=\"请你帮我写{{mytask}}\", lazy_binding_map={\"mytask\": \"task\"}), \n",
    "        \"请开始\"\n",
    "    ]\n",
    ")\n",
    "llm(\"一首儿歌，4行\")\n",
    "llm.memory"
   ]
  },
  {
   "cell_type": "code",
   "execution_count": 15,
   "id": "7b35269b-7dca-470c-b210-74846e3daf04",
   "metadata": {},
   "outputs": [
    {
     "name": "stdout",
     "output_type": "stream",
     "text": [
      "\u001b[32m这\u001b[0m\u001b[32m是\u001b[0m\u001b[32m一个\u001b[0m\u001b[32m模拟\u001b[0m\u001b[32m调用\u001b[0m\u001b[32m!\u001b[0m"
     ]
    },
    {
     "data": {
      "text/plain": [
       "[{'role': 'system', 'content': '写一首歌一首儿歌，4行'},\n",
       " {'role': 'user', 'content': '请开始'},\n",
       " {'role': 'assistant', 'content': '这是一个模拟调用!'}]"
      ]
     },
     "execution_count": 15,
     "metadata": {},
     "output_type": "execute_result"
    }
   ],
   "source": [
    "from illufly.chat import FakeLLM\n",
    "from illufly.types import Template\n",
    "\n",
    "llm = FakeLLM(\n",
    "    memory=[\n",
    "        Template(text=\"请你帮我写{{mytask}}\", lazy_binding_map={\"mytask\": \"task\"}), \n",
    "        \"请开始\"\n",
    "    ]\n",
    ")\n",
    "llm([Template(text=\"写一首歌{{task}}\"), \"一首儿歌，4行\"])\n",
    "llm.memory"
   ]
  },
  {
   "cell_type": "markdown",
   "id": "d1fd8abb-d766-40fb-af72-d747b1491c32",
   "metadata": {},
   "source": [
    "## 携带背景知识"
   ]
  },
  {
   "cell_type": "markdown",
   "id": "a3b6270b-68a0-45de-af50-587d9a10de39",
   "metadata": {},
   "source": [
    "### 文本知识"
   ]
  },
  {
   "cell_type": "code",
   "execution_count": 21,
   "id": "830cbe31-1d44-4b51-ad49-f2069ceb28ec",
   "metadata": {},
   "outputs": [
    {
     "name": "stdout",
     "output_type": "stream",
     "text": [
      "\u001b[32m这\u001b[0m\u001b[32m是\u001b[0m\u001b[32m一个\u001b[0m\u001b[32m模拟\u001b[0m\u001b[32m调用\u001b[0m\u001b[32m!\u001b[0m"
     ]
    },
    {
     "data": {
      "text/plain": [
       "[{'role': 'system', 'content': \"已知：['普鸿是做消防业务的', 'illufly 是一个多智能体解决方案']\"},\n",
       " {'role': 'user', 'content': '写一首诗词吧'},\n",
       " {'role': 'assistant', 'content': '这是一个模拟调用!'}]"
      ]
     },
     "execution_count": 21,
     "metadata": {},
     "output_type": "execute_result"
    }
   ],
   "source": [
    "from illufly.chat import FakeLLM\n",
    "from illufly.types import Template\n",
    "\n",
    "llm = FakeLLM()\n",
    "llm.add_knowledge(\"illufly 是一个多智能体解决方案\")\n",
    "llm.add_knowledge(\"普鸿是做消防业务的\")\n",
    "llm([Template(text=\"已知：{{knowledge}}\"), \"写一首诗词吧\"])\n",
    "llm.memory"
   ]
  },
  {
   "cell_type": "code",
   "execution_count": 22,
   "id": "2d4e67b1-8d75-405c-a759-7fcbca5ca604",
   "metadata": {},
   "outputs": [
    {
     "data": {
      "text/plain": [
       "{'last_output': '这是一个模拟调用!',\n",
       " 'resources': [],\n",
       " 'task': '写一首诗词吧',\n",
       " 'tools_name': '',\n",
       " 'tools_desc': '',\n",
       " 'knowledge': ['普鸿是做消防业务的', 'illufly 是一个多智能体解决方案']}"
      ]
     },
     "execution_count": 22,
     "metadata": {},
     "output_type": "execute_result"
    }
   ],
   "source": [
    "llm.provider_dict"
   ]
  },
  {
   "cell_type": "markdown",
   "id": "26a17513-5b38-4255-b9dd-117d4afa21b9",
   "metadata": {},
   "source": [
    "### 动态查询"
   ]
  },
  {
   "cell_type": "markdown",
   "id": "6f48ed11-ffbe-4765-8e1b-05e8db15cf94",
   "metadata": {},
   "source": [
    "## 管理记忆长度"
   ]
  },
  {
   "cell_type": "markdown",
   "id": "6121953c-504b-4131-bd01-b4143b83bd42",
   "metadata": {},
   "source": [
    "### 默认记住10轮"
   ]
  },
  {
   "cell_type": "code",
   "execution_count": 1,
   "id": "1b0ff138-b0ed-43d3-8c01-bef4f1acaa5f",
   "metadata": {},
   "outputs": [
    {
     "name": "stdout",
     "output_type": "stream",
     "text": [
      "[INFO] \u001b[34m记住 10 轮对话\u001b[0m\n",
      "[INFO] \u001b[34mFakeLLM: [{'role': 'user', 'content': '你能帮我写一首关于兔子做梦的四句儿歌?'}]\u001b[0m\n",
      "\u001b[32m这\u001b[0m\u001b[32m是\u001b[0m\u001b[32m一个\u001b[0m\u001b[32m模拟\u001b[0m\u001b[32m调用\u001b[0m\u001b[32m!\u001b[0m"
     ]
    },
    {
     "data": {
      "text/plain": [
       "'这是一个模拟调用!'"
      ]
     },
     "execution_count": 1,
     "metadata": {},
     "output_type": "execute_result"
    }
   ],
   "source": [
    "from illufly.chat import FakeLLM\n",
    "from illufly.types import Template\n",
    "from illufly.io import alog, log\n",
    "\n",
    "a = FakeLLM()\n",
    "\n",
    "a(\"你能帮我写一首关于兔子做梦的四句儿歌?\", verbose=True)"
   ]
  },
  {
   "cell_type": "code",
   "execution_count": 2,
   "id": "f11a351c-3c8e-45c3-8b71-57f576dfeb29",
   "metadata": {},
   "outputs": [
    {
     "name": "stdout",
     "output_type": "stream",
     "text": [
      "\u001b[32m这\u001b[0m\u001b[32m是\u001b[0m\u001b[32m一个\u001b[0m\u001b[32m模拟\u001b[0m\u001b[32m调用\u001b[0m\u001b[32m!\u001b[0m"
     ]
    },
    {
     "data": {
      "text/plain": [
       "'这是一个模拟调用!'"
      ]
     },
     "execution_count": 2,
     "metadata": {},
     "output_type": "execute_result"
    }
   ],
   "source": [
    "await a(\"你能帮我写一首关于兔子做梦的四句儿歌?\", handlers=[alog])"
   ]
  },
  {
   "cell_type": "code",
   "execution_count": 3,
   "id": "f2836967-7953-446a-8b63-e8d129a208be",
   "metadata": {},
   "outputs": [
    {
     "data": {
      "text/plain": [
       "[{'role': 'user', 'content': '你能帮我写一首关于兔子做梦的四句儿歌?'},\n",
       " {'role': 'assistant', 'content': '这是一个模拟调用!'},\n",
       " {'role': 'user', 'content': '你能帮我写一首关于兔子做梦的四句儿歌?'},\n",
       " {'role': 'assistant', 'content': '这是一个模拟调用!'},\n",
       " {'role': 'user', 'content': 'hi'}]"
      ]
     },
     "execution_count": 3,
     "metadata": {},
     "output_type": "execute_result"
    }
   ],
   "source": [
    "a.build_chat_memory(\"hi\", remember_rounds=3)"
   ]
  },
  {
   "cell_type": "code",
   "execution_count": 4,
   "id": "29b9d9c9-6523-4642-8ed7-d42bf84554c3",
   "metadata": {},
   "outputs": [
    {
     "name": "stdout",
     "output_type": "stream",
     "text": [
      "\u001b[32m这\u001b[0m\u001b[32m是\u001b[0m\u001b[32m一个\u001b[0m\u001b[32m模拟\u001b[0m\u001b[32m调用\u001b[0m\u001b[32m!\u001b[0m"
     ]
    },
    {
     "data": {
      "text/plain": [
       "'这是一个模拟调用!'"
      ]
     },
     "execution_count": 4,
     "metadata": {},
     "output_type": "execute_result"
    }
   ],
   "source": [
    "a(\"换成小羊吧\")"
   ]
  },
  {
   "cell_type": "markdown",
   "id": "36ea5400-f393-40ae-8b47-cffdda62bb78",
   "metadata": {},
   "source": [
    "### 限制记忆中的对话轮数"
   ]
  },
  {
   "cell_type": "code",
   "execution_count": 5,
   "id": "fbb77df1-1f87-4ef7-8e91-7289796d4f31",
   "metadata": {},
   "outputs": [
    {
     "name": "stdout",
     "output_type": "stream",
     "text": [
      "\u001b[32m这\u001b[0m\u001b[32m是\u001b[0m\u001b[32m一个\u001b[0m\u001b[32m模拟\u001b[0m\u001b[32m调用\u001b[0m\u001b[32m!\u001b[0m"
     ]
    },
    {
     "data": {
      "text/plain": [
       "'这是一个模拟调用!'"
      ]
     },
     "execution_count": 5,
     "metadata": {},
     "output_type": "execute_result"
    }
   ],
   "source": [
    "a(\"改为在蓝天上\")"
   ]
  },
  {
   "cell_type": "code",
   "execution_count": 6,
   "id": "d013a1fd-deaa-4124-9804-6121d04705e6",
   "metadata": {},
   "outputs": [
    {
     "name": "stdout",
     "output_type": "stream",
     "text": [
      "[INFO] \u001b[34m记住 1 轮对话\u001b[0m\n",
      "[INFO] \u001b[34mFakeLLM: [{'role': 'user', 'content': '改为在蓝天上'}, {'role': 'assistant', 'content': '这是一个模拟调用!'}, {'role': 'user', 'content': '改为在水塘'}]\u001b[0m\n",
      "\u001b[32m这\u001b[0m\u001b[32m是\u001b[0m\u001b[32m一个\u001b[0m\u001b[32m模拟\u001b[0m\u001b[32m调用\u001b[0m\u001b[32m!\u001b[0m"
     ]
    },
    {
     "data": {
      "text/plain": [
       "'这是一个模拟调用!'"
      ]
     },
     "execution_count": 6,
     "metadata": {},
     "output_type": "execute_result"
    }
   ],
   "source": [
    "a(\"改为在水塘\", remember_rounds=1, verbose=True)"
   ]
  },
  {
   "cell_type": "code",
   "execution_count": 7,
   "id": "5266b214-cedb-4c4c-99fe-9a48478b3d2a",
   "metadata": {},
   "outputs": [
    {
     "data": {
      "text/plain": [
       "[{'role': 'user', 'content': '你能帮我写一首关于兔子做梦的四句儿歌?'},\n",
       " {'role': 'assistant', 'content': '这是一个模拟调用!'},\n",
       " {'role': 'user', 'content': '你能帮我写一首关于兔子做梦的四句儿歌?'},\n",
       " {'role': 'assistant', 'content': '这是一个模拟调用!'},\n",
       " {'role': 'user', 'content': 'hi'},\n",
       " {'role': 'user', 'content': '换成小羊吧'},\n",
       " {'role': 'assistant', 'content': '这是一个模拟调用!'},\n",
       " {'role': 'user', 'content': '改为在蓝天上'},\n",
       " {'role': 'assistant', 'content': '这是一个模拟调用!'},\n",
       " {'role': 'user', 'content': '改为在水塘'},\n",
       " {'role': 'assistant', 'content': '这是一个模拟调用!'}]"
      ]
     },
     "execution_count": 7,
     "metadata": {},
     "output_type": "execute_result"
    }
   ],
   "source": [
    "a.memory"
   ]
  },
  {
   "cell_type": "code",
   "execution_count": null,
   "id": "9dee48ba-cbd6-42b6-905e-af60b3a2dc6e",
   "metadata": {},
   "outputs": [],
   "source": []
  }
 ],
 "metadata": {
  "kernelspec": {
   "display_name": "textlong-same-ipykernel",
   "language": "python",
   "name": "textlong-same-ipykernel"
  },
  "language_info": {
   "codemirror_mode": {
    "name": "ipython",
    "version": 3
   },
   "file_extension": ".py",
   "mimetype": "text/x-python",
   "name": "python",
   "nbconvert_exporter": "python",
   "pygments_lexer": "ipython3",
   "version": "3.10.0"
  }
 },
 "nbformat": 4,
 "nbformat_minor": 5
}
