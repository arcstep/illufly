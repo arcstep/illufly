{
    "cells": [
        {
            "cell_type": "markdown",
            "id": "a9ac0a5d-bdb8-4fc0-8581-2604ecd3db77",
            "metadata": {},
            "source": [
                "## 对话智能体中的提示语结构\n",
                "\n",
                "1. 确认是否新对话\n",
                "2. 补充提问\n",
                "    - 追加到旧的对话\n",
                "    - 使用提示语构建新对话\n",
                "    - 结合 init_messages 构建新对话\n",
                "3. 构建对话\n",
                "    - 收集最近记忆\n",
                "    - 结合知识检索\n",
                "    - 结合工具箱"
            ]
        },
        {
            "cell_type": "code",
            "execution_count": 1,
            "id": "fc65d9c1-2c3e-434f-bf92-cbd12c5e4d49",
            "metadata": {},
            "outputs": [
                {
                    "ename": "ImportError",
                    "evalue": "cannot import name 'BaseEventsHistory' from 'illufly.core.history' (/Users/xuehongwei/codeup/illufly/illufly/core/history/__init__.py)",
                    "output_type": "error",
                    "traceback": [
                        "\u001b[0;31m---------------------------------------------------------------------------\u001b[0m",
                        "\u001b[0;31mImportError\u001b[0m                               Traceback (most recent call last)",
                        "Cell \u001b[0;32mIn[1], line 1\u001b[0m\n\u001b[0;32m----> 1\u001b[0m \u001b[38;5;28;01mfrom\u001b[39;00m \u001b[38;5;21;01millufly\u001b[39;00m\u001b[38;5;21;01m.\u001b[39;00m\u001b[38;5;21;01mchat\u001b[39;00m \u001b[38;5;28;01mimport\u001b[39;00m FakeLLM\n\u001b[1;32m      2\u001b[0m \u001b[38;5;28;01mfrom\u001b[39;00m \u001b[38;5;21;01millufly\u001b[39;00m\u001b[38;5;21;01m.\u001b[39;00m\u001b[38;5;21;01mtypes\u001b[39;00m \u001b[38;5;28;01mimport\u001b[39;00m PromptTemplate\n\u001b[1;32m      4\u001b[0m llm \u001b[38;5;241m=\u001b[39m FakeLLM()\n",
                        "File \u001b[0;32m~/codeup/illufly/illufly/chat/__init__.py:1\u001b[0m\n\u001b[0;32m----> 1\u001b[0m \u001b[38;5;28;01mfrom\u001b[39;00m \u001b[38;5;21;01m.\u001b[39;00m\u001b[38;5;21;01m.\u001b[39;00m\u001b[38;5;21;01mcommunity\u001b[39;00m\u001b[38;5;21;01m.\u001b[39;00m\u001b[38;5;21;01mopenai\u001b[39;00m \u001b[38;5;28;01mimport\u001b[39;00m ChatOpenAI\n\u001b[1;32m      2\u001b[0m \u001b[38;5;28;01mfrom\u001b[39;00m \u001b[38;5;21;01m.\u001b[39;00m\u001b[38;5;21;01m.\u001b[39;00m\u001b[38;5;21;01mcommunity\u001b[39;00m\u001b[38;5;21;01m.\u001b[39;00m\u001b[38;5;21;01mzhipu\u001b[39;00m \u001b[38;5;28;01mimport\u001b[39;00m ChatZhipu, ChatZhipuVL\n\u001b[1;32m      3\u001b[0m \u001b[38;5;28;01mfrom\u001b[39;00m \u001b[38;5;21;01m.\u001b[39;00m\u001b[38;5;21;01m.\u001b[39;00m\u001b[38;5;21;01mcommunity\u001b[39;00m\u001b[38;5;21;01m.\u001b[39;00m\u001b[38;5;21;01mdashscope\u001b[39;00m \u001b[38;5;28;01mimport\u001b[39;00m ChatQwen, ChatQwenVL\n",
                        "File \u001b[0;32m~/codeup/illufly/illufly/community/openai/__init__.py:1\u001b[0m\n\u001b[0;32m----> 1\u001b[0m \u001b[38;5;28;01mfrom\u001b[39;00m \u001b[38;5;21;01m.\u001b[39;00m\u001b[38;5;21;01mchat\u001b[39;00m \u001b[38;5;28;01mimport\u001b[39;00m ChatOpenAI\n\u001b[1;32m      2\u001b[0m \u001b[38;5;28;01mfrom\u001b[39;00m \u001b[38;5;21;01m.\u001b[39;00m\u001b[38;5;21;01membeddings\u001b[39;00m \u001b[38;5;28;01mimport\u001b[39;00m OpenAIEmbeddings\n",
                        "File \u001b[0;32m~/codeup/illufly/illufly/community/openai/chat.py:3\u001b[0m\n\u001b[1;32m      1\u001b[0m \u001b[38;5;28;01mfrom\u001b[39;00m \u001b[38;5;21;01mtyping\u001b[39;00m \u001b[38;5;28;01mimport\u001b[39;00m Union, List, Optional, Dict, Any\n\u001b[0;32m----> 3\u001b[0m \u001b[38;5;28;01mfrom\u001b[39;00m \u001b[38;5;21;01m.\u001b[39;00m\u001b[38;5;21;01m.\u001b[39;00m\u001b[38;5;21;01m.\u001b[39;00m\u001b[38;5;21;01mio\u001b[39;00m \u001b[38;5;28;01mimport\u001b[39;00m EventBlock, NewLineBlock\n\u001b[1;32m      4\u001b[0m \u001b[38;5;28;01mfrom\u001b[39;00m \u001b[38;5;21;01m.\u001b[39;00m\u001b[38;5;21;01m.\u001b[39;00m\u001b[38;5;21;01m.\u001b[39;00m\u001b[38;5;21;01mtypes\u001b[39;00m \u001b[38;5;28;01mimport\u001b[39;00m ChatAgent\n\u001b[1;32m      5\u001b[0m \u001b[38;5;28;01mfrom\u001b[39;00m \u001b[38;5;21;01m.\u001b[39;00m\u001b[38;5;21;01m.\u001b[39;00m\u001b[38;5;21;01m.\u001b[39;00m\u001b[38;5;21;01mutils\u001b[39;00m \u001b[38;5;28;01mimport\u001b[39;00m raise_invalid_params\n",
                        "File \u001b[0;32m~/codeup/illufly/illufly/io/__init__.py:7\u001b[0m\n\u001b[1;32m      4\u001b[0m \u001b[38;5;28;01mfrom\u001b[39;00m \u001b[38;5;21;01m.\u001b[39;00m\u001b[38;5;21;01mblock_process\u001b[39;00m \u001b[38;5;28;01mimport\u001b[39;00m event_stream\n\u001b[1;32m      6\u001b[0m \u001b[38;5;28;01mfrom\u001b[39;00m \u001b[38;5;21;01m.\u001b[39;00m\u001b[38;5;21;01m.\u001b[39;00m\u001b[38;5;21;01mcore\u001b[39;00m\u001b[38;5;21;01m.\u001b[39;00m\u001b[38;5;21;01mhistory\u001b[39;00m \u001b[38;5;28;01mimport\u001b[39;00m BaseMemoryHistory, LocalFileMemoryHistory\n\u001b[0;32m----> 7\u001b[0m \u001b[38;5;28;01mfrom\u001b[39;00m \u001b[38;5;21;01m.\u001b[39;00m\u001b[38;5;21;01m.\u001b[39;00m\u001b[38;5;21;01mcore\u001b[39;00m\u001b[38;5;21;01m.\u001b[39;00m\u001b[38;5;21;01mhistory\u001b[39;00m \u001b[38;5;28;01mimport\u001b[39;00m BaseEventsHistory\n\u001b[1;32m      9\u001b[0m __all__ \u001b[38;5;241m=\u001b[39m [\n\u001b[1;32m     10\u001b[0m     \u001b[38;5;124m\"\u001b[39m\u001b[38;5;124mEventBlock\u001b[39m\u001b[38;5;124m\"\u001b[39m,\n\u001b[1;32m     11\u001b[0m     \u001b[38;5;124m\"\u001b[39m\u001b[38;5;124mEndBlock\u001b[39m\u001b[38;5;124m\"\u001b[39m,\n\u001b[0;32m   (...)\u001b[0m\n\u001b[1;32m     20\u001b[0m     \u001b[38;5;124m\"\u001b[39m\u001b[38;5;124mLocalFileMemoryHistory\u001b[39m\u001b[38;5;124m\"\u001b[39m,\n\u001b[1;32m     21\u001b[0m ]\n",
                        "\u001b[0;31mImportError\u001b[0m: cannot import name 'BaseEventsHistory' from 'illufly.core.history' (/Users/xuehongwei/codeup/illufly/illufly/core/history/__init__.py)"
                    ]
                }
            ],
            "source": [
                "from illufly.chat import FakeLLM\n",
                "from illufly.types import PromptTemplate\n",
                "\n",
                "llm = FakeLLM()\n",
                "llm(\"写一首诗词吧\", verbose=True, new_chat=True)\n",
                "llm.memory"
            ]
        },
        {
            "cell_type": "markdown",
            "id": "92b4e6f3-258c-42c4-a4e7-b69f3c95c62c",
            "metadata": {},
            "source": [
                "### 自动生成新的 thread_id"
            ]
        },
        {
            "cell_type": "code",
            "execution_count": 2,
            "id": "c7294bb3-659b-4286-8c00-ff7e02e92485",
            "metadata": {},
            "outputs": [
                {
                    "data": {
                        "text/plain": [
                            "[{'role': 'user', 'content': 'hi'}]"
                        ]
                    },
                    "execution_count": 2,
                    "metadata": {},
                    "output_type": "execute_result"
                }
            ],
            "source": [
                "llm = FakeLLM()\n",
                "llm.build_chat_memory(\"hi\")"
            ]
        },
        {
            "cell_type": "code",
            "execution_count": 3,
            "id": "9dc6d5c8-68bc-4f4e-a02a-dbb644db7c47",
            "metadata": {},
            "outputs": [
                {
                    "data": {
                        "text/plain": [
                            "'715925-9209-0000'"
                        ]
                    },
                    "execution_count": 3,
                    "metadata": {},
                    "output_type": "execute_result"
                }
            ],
            "source": [
                "llm.thread_id"
            ]
        },
        {
            "cell_type": "markdown",
            "id": "fa97afaf-dbb3-453f-b6bf-5107f1d72524",
            "metadata": {},
            "source": [
                "### 手动构建新的 thread_id"
            ]
        },
        {
            "cell_type": "code",
            "execution_count": 4,
            "id": "cba89aea-feb3-4bbb-ad93-49d84a6f072e",
            "metadata": {},
            "outputs": [
                {
                    "data": {
                        "text/plain": [
                            "'715926-1606-0000'"
                        ]
                    },
                    "execution_count": 4,
                    "metadata": {},
                    "output_type": "execute_result"
                }
            ],
            "source": [
                "llm.create_new_thread()"
            ]
        },
        {
            "cell_type": "code",
            "execution_count": 5,
            "id": "5a189440-7c68-4514-996e-492c432cdf15",
            "metadata": {},
            "outputs": [
                {
                    "data": {
                        "text/plain": [
                            "'715926-1606-0000'"
                        ]
                    },
                    "execution_count": 5,
                    "metadata": {},
                    "output_type": "execute_result"
                }
            ],
            "source": [
                "llm.build_chat_memory(\"hi\", new_chat=True)\n",
                "llm.thread_id"
            ]
        },
        {
            "cell_type": "markdown",
            "id": "fd3cb30b-e598-4111-9df6-c1771cd45891",
            "metadata": {},
            "source": [
                "## 构建对话"
            ]
        },
        {
            "cell_type": "markdown",
            "id": "7f7f4d6c-42ce-4b52-8b2a-cfbb67374e8c",
            "metadata": {},
            "source": [
                "### 新对话"
            ]
        },
        {
            "cell_type": "code",
            "execution_count": 3,
            "id": "e46502bf-08e0-4088-af78-29c6699a4293",
            "metadata": {},
            "outputs": [
                {
                    "name": "stdout",
                    "output_type": "stream",
                    "text": [
                        "[USER] \u001b[34m写一首诗词吧\u001b[0m\n",
                        "\u001b[32mR\u001b[0m\u001b[32me\u001b[0m\u001b[32mp\u001b[0m\u001b[32ml\u001b[0m\u001b[32my\u001b[0m\u001b[32m \u001b[0m\u001b[32m>\u001b[0m\u001b[32m>\u001b[0m\u001b[32m \u001b[0m\u001b[32m写\u001b[0m\u001b[32m一\u001b[0m\u001b[32m首\u001b[0m\u001b[32m诗\u001b[0m\u001b[32m词\u001b[0m\u001b[32m吧\u001b[0m\n"
                    ]
                },
                {
                    "data": {
                        "text/plain": [
                            "[{'role': 'user', 'content': '写一首诗词吧'},\n",
                            " {'role': 'assistant', 'content': 'Reply >> 写一首诗词吧'}]"
                        ]
                    },
                    "execution_count": 3,
                    "metadata": {},
                    "output_type": "execute_result"
                }
            ],
            "source": [
                "from illufly.chat import FakeLLM\n",
                "from illufly.types import PromptTemplate\n",
                "\n",
                "llm = FakeLLM()\n",
                "llm(\"写一首诗词吧\")\n",
                "llm.memory"
            ]
        },
        {
            "cell_type": "markdown",
            "id": "fa588aa4-a0da-4759-bbe2-cf55533dd4c5",
            "metadata": {},
            "source": [
                "### 连续对话"
            ]
        },
        {
            "cell_type": "code",
            "execution_count": 4,
            "id": "6f45e651-f8df-4942-afad-ffc2327923f0",
            "metadata": {},
            "outputs": [
                {
                    "name": "stdout",
                    "output_type": "stream",
                    "text": [
                        "[USER] \u001b[34m再写一首\u001b[0m\n",
                        "\u001b[32mR\u001b[0m\u001b[32me\u001b[0m\u001b[32mp\u001b[0m\u001b[32ml\u001b[0m\u001b[32my\u001b[0m\u001b[32m \u001b[0m\u001b[32m>\u001b[0m\u001b[32m>\u001b[0m\u001b[32m \u001b[0m\u001b[32m再\u001b[0m\u001b[32m写\u001b[0m\u001b[32m一\u001b[0m\u001b[32m首\u001b[0m\n"
                    ]
                },
                {
                    "data": {
                        "text/plain": [
                            "[{'role': 'user', 'content': '写一首诗词吧'},\n",
                            " {'role': 'assistant', 'content': 'Reply >> 写一首诗词吧'},\n",
                            " {'role': 'user', 'content': '再写一首'},\n",
                            " {'role': 'assistant', 'content': 'Reply >> 再写一首'}]"
                        ]
                    },
                    "execution_count": 4,
                    "metadata": {},
                    "output_type": "execute_result"
                }
            ],
            "source": [
                "llm(\"再写一首\")\n",
                "llm.memory"
            ]
        },
        {
            "cell_type": "markdown",
            "id": "b14a3c23-a271-400f-8ac7-17d6df655385",
            "metadata": {},
            "source": [
                "### 如果使用 new_chat 标志"
            ]
        },
        {
            "cell_type": "code",
            "execution_count": 5,
            "id": "767c0ef9-246f-4410-9786-0d70f78347ea",
            "metadata": {},
            "outputs": [
                {
                    "name": "stdout",
                    "output_type": "stream",
                    "text": [
                        "[USER] \u001b[34m再写一首\u001b[0m\n",
                        "\u001b[32mR\u001b[0m\u001b[32me\u001b[0m\u001b[32mp\u001b[0m\u001b[32ml\u001b[0m\u001b[32my\u001b[0m\u001b[32m \u001b[0m\u001b[32m>\u001b[0m\u001b[32m>\u001b[0m\u001b[32m \u001b[0m\u001b[32m再\u001b[0m\u001b[32m写\u001b[0m\u001b[32m一\u001b[0m\u001b[32m首\u001b[0m\n"
                    ]
                },
                {
                    "data": {
                        "text/plain": [
                            "[{'role': 'user', 'content': '再写一首'},\n",
                            " {'role': 'assistant', 'content': 'Reply >> 再写一首'}]"
                        ]
                    },
                    "execution_count": 5,
                    "metadata": {},
                    "output_type": "execute_result"
                }
            ],
            "source": [
                "llm(\"再写一首\", new_chat=True)\n",
                "llm.memory"
            ]
        },
        {
            "cell_type": "markdown",
            "id": "c9f1ad56-a0a4-4be1-9a30-2b39d35c059f",
            "metadata": {},
            "source": [
                "### 在调用时使用 system 角色的提示语"
            ]
        },
        {
            "cell_type": "code",
            "execution_count": 6,
            "id": "016ff2f6-e9c9-4247-b819-0295fda6bd91",
            "metadata": {},
            "outputs": [
                {
                    "name": "stdout",
                    "output_type": "stream",
                    "text": [
                        "[USER] \u001b[34m写一首诗\u001b[0m\n",
                        "\u001b[32mR\u001b[0m\u001b[32me\u001b[0m\u001b[32mp\u001b[0m\u001b[32ml\u001b[0m\u001b[32my\u001b[0m\u001b[32m \u001b[0m\u001b[32m>\u001b[0m\u001b[32m>\u001b[0m\u001b[32m \u001b[0m\u001b[32m写\u001b[0m\u001b[32m一\u001b[0m\u001b[32m首\u001b[0m\u001b[32m诗\u001b[0m\n"
                    ]
                },
                {
                    "data": {
                        "text/plain": [
                            "[{'role': 'system', 'content': '你是一个作家'},\n",
                            " {'role': 'user', 'content': '写一首诗'},\n",
                            " {'role': 'assistant', 'content': 'Reply >> 写一首诗'}]"
                        ]
                    },
                    "execution_count": 6,
                    "metadata": {},
                    "output_type": "execute_result"
                }
            ],
            "source": [
                "llm([(\"system\", \"你是一个作家\"), (\"user\", \"写一首诗\")])\n",
                "llm.memory"
            ]
        },
        {
            "cell_type": "markdown",
            "id": "a8dfd107-3f54-48c9-b824-508bb1d89904",
            "metadata": {},
            "source": [
                "### 在调用时使用 system 角色并补充 user 消息"
            ]
        },
        {
            "cell_type": "code",
            "execution_count": 7,
            "id": "352917bc-6113-4e9f-9154-f22842afdd68",
            "metadata": {},
            "outputs": [
                {
                    "name": "stdout",
                    "output_type": "stream",
                    "text": [
                        "[USER] \u001b[34m你是一个作家，帮我写首诗\u001b[0m\n",
                        "\u001b[32mR\u001b[0m\u001b[32me\u001b[0m\u001b[32mp\u001b[0m\u001b[32ml\u001b[0m\u001b[32my\u001b[0m\u001b[32m \u001b[0m\u001b[32m>\u001b[0m\u001b[32m>\u001b[0m\u001b[32m \u001b[0m\u001b[32m请\u001b[0m\u001b[32m开\u001b[0m\u001b[32m始\u001b[0m\n"
                    ]
                },
                {
                    "data": {
                        "text/plain": [
                            "[{'role': 'system', 'content': '你是一个作家，帮我写首诗'},\n",
                            " {'role': 'user', 'content': '请开始'},\n",
                            " {'role': 'assistant', 'content': 'Reply >> 请开始'}]"
                        ]
                    },
                    "execution_count": 7,
                    "metadata": {},
                    "output_type": "execute_result"
                }
            ],
            "source": [
                "llm([(\"system\", \"你是一个作家，帮我写首诗\")])\n",
                "llm.memory"
            ]
        },
        {
            "cell_type": "code",
            "execution_count": 8,
            "id": "24dfa32d-f9ee-4a8c-9639-76a36794b35e",
            "metadata": {},
            "outputs": [
                {
                    "name": "stdout",
                    "output_type": "stream",
                    "text": [
                        "[USER] \u001b[34m再来一首\u001b[0m\n",
                        "\u001b[32mR\u001b[0m\u001b[32me\u001b[0m\u001b[32mp\u001b[0m\u001b[32ml\u001b[0m\u001b[32my\u001b[0m\u001b[32m \u001b[0m\u001b[32m>\u001b[0m\u001b[32m>\u001b[0m\u001b[32m \u001b[0m\u001b[32m再\u001b[0m\u001b[32m来\u001b[0m\u001b[32m一\u001b[0m\u001b[32m首\u001b[0m\n"
                    ]
                },
                {
                    "data": {
                        "text/plain": [
                            "[{'role': 'system', 'content': '你是一个作家，帮我写首诗'},\n",
                            " {'role': 'user', 'content': '请开始'},\n",
                            " {'role': 'assistant', 'content': 'Reply >> 请开始'},\n",
                            " {'role': 'user', 'content': '再来一首'},\n",
                            " {'role': 'assistant', 'content': 'Reply >> 再来一首'}]"
                        ]
                    },
                    "execution_count": 8,
                    "metadata": {},
                    "output_type": "execute_result"
                }
            ],
            "source": [
                "llm(\"再来一首\")\n",
                "llm.memory"
            ]
        },
        {
            "cell_type": "markdown",
            "id": "4248d747-30cf-4255-b5d8-d41c9afd901b",
            "metadata": {},
            "source": [
                "### 在声明实例时使用 system 角色的提示语"
            ]
        },
        {
            "cell_type": "code",
            "execution_count": 9,
            "id": "4de45dd1-9845-4fbe-b0be-13dff133bd2f",
            "metadata": {},
            "outputs": [
                {
                    "name": "stdout",
                    "output_type": "stream",
                    "text": [
                        "[USER] \u001b[34m写两句7字对联\u001b[0m\n",
                        "\u001b[32m春风\u001b[0m\u001b[32m化\u001b[0m\u001b[32m雨\u001b[0m\u001b[32m润\u001b[0m\u001b[32m万物，\n",
                        "秋水\u001b[0m\u001b[32m长天共一\u001b[0m\u001b[32m色。\u001b[0m\u001b[32m\u001b[0m\n"
                    ]
                },
                {
                    "data": {
                        "text/plain": [
                            "[{'role': 'system', 'content': '你是一个作家'},\n",
                            " {'role': 'user', 'content': '写两句7字对联'},\n",
                            " {'role': 'assistant', 'content': '春风化雨润万物，\\n秋水长天共一色。'}]"
                        ]
                    },
                    "execution_count": 9,
                    "metadata": {},
                    "output_type": "execute_result"
                }
            ],
            "source": [
                "from illufly.chat import FakeLLM, ChatQwen\n",
                "from illufly.types import PromptTemplate\n",
                "\n",
                "llm = ChatQwen(memory=[(\"system\", \"你是一个作家\")])\n",
                "llm(\"写两句7字对联\")\n",
                "llm.memory"
            ]
        },
        {
            "cell_type": "code",
            "execution_count": 10,
            "id": "33c30a82-5f96-4c0a-a2ff-c849b2930cd3",
            "metadata": {},
            "outputs": [
                {
                    "name": "stdout",
                    "output_type": "stream",
                    "text": [
                        "[USER] \u001b[34m再来一首\u001b[0m\n",
                        "\u001b[32m晨\u001b[0m\u001b[32m光\u001b[0m\u001b[32m破\u001b[0m\u001b[32m晓\u001b[0m\u001b[32m迎新岁，\n",
                        "\u001b[0m\u001b[32m晚霞映日\u001b[0m\u001b[32m送旧年。\u001b[0m\u001b[32m\u001b[0m\n"
                    ]
                },
                {
                    "data": {
                        "text/plain": [
                            "[{'role': 'system', 'content': '你是一个作家'},\n",
                            " {'role': 'user', 'content': '写两句7字对联'},\n",
                            " {'role': 'assistant', 'content': '春风化雨润万物，\\n秋水长天共一色。'},\n",
                            " {'role': 'user', 'content': '再来一首'},\n",
                            " {'role': 'assistant', 'content': '晨光破晓迎新岁，\\n晚霞映日送旧年。'}]"
                        ]
                    },
                    "execution_count": 10,
                    "metadata": {},
                    "output_type": "execute_result"
                }
            ],
            "source": [
                "llm(\"再来一首\")\n",
                "llm.memory"
            ]
        },
        {
            "cell_type": "markdown",
            "id": "10911050-d919-40d0-892f-45ccced99f73",
            "metadata": {},
            "source": [
                "### 进一步简化：仅使用字符串或提示语模板构造 memory\n",
                "在大多数情况下，使用提示语模板是为了构造 system 消息，而使用单纯字符串是为了构造 user 消息。\n",
                "因此，我们按照这两种常见情况构建了语法糖的规则："
            ]
        },
        {
            "cell_type": "code",
            "execution_count": 11,
            "id": "ed2bc7f6-b175-4a3d-8c08-9f0f6fc53322",
            "metadata": {},
            "outputs": [
                {
                    "name": "stdout",
                    "output_type": "stream",
                    "text": [
                        "[USER] \u001b[34m写一首诗词吧\u001b[0m\n",
                        "\u001b[32m好\u001b[0m\n"
                    ]
                },
                {
                    "data": {
                        "text/plain": [
                            "[{'role': 'user', 'content': '你是一个作家'},\n",
                            " {'role': 'assistant', 'content': '请开始'},\n",
                            " {'role': 'user', 'content': '写一首诗词吧'},\n",
                            " {'role': 'assistant', 'content': '好'}]"
                        ]
                    },
                    "execution_count": 11,
                    "metadata": {},
                    "output_type": "execute_result"
                }
            ],
            "source": [
                "from illufly.chat import FakeLLM\n",
                "\n",
                "llm = FakeLLM(memory=[\"你是一个作家\", \"请开始\"], response=\"好\")\n",
                "llm(\"写一首诗词吧\", new_chat=True)\n",
                "llm.memory"
            ]
        },
        {
            "cell_type": "markdown",
            "id": "3b66734f-326f-48f8-95a6-be4ccdf5a978",
            "metadata": {},
            "source": [
                "### 绑定 task 并自动补充 user 消息"
            ]
        },
        {
            "cell_type": "code",
            "execution_count": 13,
            "id": "6016cab1-c284-41a9-9665-4be80eb0b08b",
            "metadata": {},
            "outputs": [
                {
                    "name": "stdout",
                    "output_type": "stream",
                    "text": [
                        "[USER] \u001b[34m写一首诗词吧\u001b[0m\n",
                        "\u001b[32mR\u001b[0m\u001b[32me\u001b[0m\u001b[32mp\u001b[0m\u001b[32ml\u001b[0m\u001b[32my\u001b[0m\u001b[32m \u001b[0m\u001b[32m>\u001b[0m\u001b[32m>\u001b[0m\u001b[32m \u001b[0m\u001b[32m请\u001b[0m\u001b[32m开\u001b[0m\u001b[32m始\u001b[0m\n"
                    ]
                },
                {
                    "data": {
                        "text/plain": [
                            "[{'role': 'system', 'content': '你是一个作家，请帮我写一首诗词吧'},\n",
                            " {'role': 'user', 'content': '请开始'},\n",
                            " {'role': 'assistant', 'content': 'Reply >> 请开始'}]"
                        ]
                    },
                    "execution_count": 13,
                    "metadata": {},
                    "output_type": "execute_result"
                }
            ],
            "source": [
                "llm = FakeLLM(memory=[(\"system\", PromptTemplate(text=\"你是一个作家，请帮我{{task}}\"))])\n",
                "llm(\"写一首诗词吧\")\n",
                "llm.memory"
            ]
        },
        {
            "cell_type": "markdown",
            "id": "01844500-aef4-4575-9e8a-724064058d46",
            "metadata": {},
            "source": [
                "### 绑定 task 并提供 user 消息"
            ]
        },
        {
            "cell_type": "code",
            "execution_count": 15,
            "id": "7e0d6db6-c82a-423f-877c-298ecdf97bec",
            "metadata": {},
            "outputs": [
                {
                    "name": "stdout",
                    "output_type": "stream",
                    "text": [
                        "[USER] \u001b[34m写一首诗词吧\u001b[0m\n",
                        "\u001b[32mR\u001b[0m\u001b[32me\u001b[0m\u001b[32mp\u001b[0m\u001b[32ml\u001b[0m\u001b[32my\u001b[0m\u001b[32m \u001b[0m\u001b[32m>\u001b[0m\u001b[32m>\u001b[0m\u001b[32m \u001b[0m\u001b[32m开\u001b[0m\u001b[32m始\u001b[0m\u001b[32m吧\u001b[0m\n"
                    ]
                },
                {
                    "data": {
                        "text/plain": [
                            "[{'role': 'system', 'content': '你是一个作家，请帮我写一首诗词吧'},\n",
                            " {'role': 'user', 'content': '开始吧'},\n",
                            " {'role': 'assistant', 'content': 'Reply >> 开始吧'}]"
                        ]
                    },
                    "execution_count": 15,
                    "metadata": {},
                    "output_type": "execute_result"
                }
            ],
            "source": [
                "llm = FakeLLM(memory=[\n",
                "    (\"system\", PromptTemplate(text=\"你是一个作家，请帮我{{task}}\")), \n",
                "    (\"user\", \"开始吧\")\n",
                "])\n",
                "llm(\"写一首诗词吧\")\n",
                "llm.memory"
            ]
        },
        {
            "cell_type": "code",
            "execution_count": 16,
            "id": "e28caaeb-12b5-4d6d-bc44-d3296b09cf37",
            "metadata": {},
            "outputs": [
                {
                    "name": "stdout",
                    "output_type": "stream",
                    "text": [
                        "[USER] \u001b[34m再来\u001b[0m\n",
                        "\u001b[32mR\u001b[0m\u001b[32me\u001b[0m\u001b[32mp\u001b[0m\u001b[32ml\u001b[0m\u001b[32my\u001b[0m\u001b[32m \u001b[0m\u001b[32m>\u001b[0m\u001b[32m>\u001b[0m\u001b[32m \u001b[0m\u001b[32m再\u001b[0m\u001b[32m来\u001b[0m\n"
                    ]
                },
                {
                    "data": {
                        "text/plain": [
                            "[{'role': 'system', 'content': '你是一个作家，请帮我写一首诗词吧'},\n",
                            " {'role': 'user', 'content': '开始吧'},\n",
                            " {'role': 'assistant', 'content': 'Reply >> 开始吧'},\n",
                            " {'role': 'user', 'content': '再来'},\n",
                            " {'role': 'assistant', 'content': 'Reply >> 再来'}]"
                        ]
                    },
                    "execution_count": 16,
                    "metadata": {},
                    "output_type": "execute_result"
                }
            ],
            "source": [
                "llm(\"再来\")\n",
                "llm.memory"
            ]
        },
        {
            "cell_type": "markdown",
            "id": "6ff8b4de-5728-4fd3-85b3-1611435241a9",
            "metadata": {},
            "source": [
                "## 映射提示语中的模板变量"
            ]
        },
        {
            "cell_type": "markdown",
            "id": "2824bf5b-3078-42af-8857-64c5a9ef65d1",
            "metadata": {},
            "source": [
                "### 默认映射"
            ]
        },
        {
            "cell_type": "code",
            "execution_count": 17,
            "id": "ad3677d7-4e2c-407b-a1ad-b3522afac214",
            "metadata": {},
            "outputs": [
                {
                    "name": "stdout",
                    "output_type": "stream",
                    "text": [
                        "[USER] \u001b[34m一首儿歌，4行\u001b[0m\n",
                        "\u001b[32mR\u001b[0m\u001b[32me\u001b[0m\u001b[32mp\u001b[0m\u001b[32ml\u001b[0m\u001b[32my\u001b[0m\u001b[32m \u001b[0m\u001b[32m>\u001b[0m\u001b[32m>\u001b[0m\u001b[32m \u001b[0m\u001b[32m请\u001b[0m\u001b[32m开\u001b[0m\u001b[32m始\u001b[0m\n"
                    ]
                },
                {
                    "data": {
                        "text/plain": [
                            "[{'role': 'system', 'content': '请你帮我写一首儿歌，4行'},\n",
                            " {'role': 'user', 'content': '请开始'},\n",
                            " {'role': 'assistant', 'content': 'Reply >> 请开始'}]"
                        ]
                    },
                    "execution_count": 17,
                    "metadata": {},
                    "output_type": "execute_result"
                }
            ],
            "source": [
                "from illufly.chat import FakeLLM\n",
                "from illufly.types import PromptTemplate\n",
                "\n",
                "llm = FakeLLM(\n",
                "    memory=[PromptTemplate(text=\"请你帮我写{{task}}\"), \"请开始\"]\n",
                ")\n",
                "llm(\"一首儿歌，4行\")\n",
                "llm.memory"
            ]
        },
        {
            "cell_type": "markdown",
            "id": "47dc6e55-325e-457e-817b-ecba530c43ea",
            "metadata": {},
            "source": [
                "### 重新映射"
            ]
        },
        {
            "cell_type": "code",
            "execution_count": 18,
            "id": "0c5ee3ae-7049-43ce-869a-2d989b0febf5",
            "metadata": {},
            "outputs": [
                {
                    "name": "stdout",
                    "output_type": "stream",
                    "text": [
                        "[USER] \u001b[34m一首儿歌，4行\u001b[0m\n",
                        "\u001b[32mR\u001b[0m\u001b[32me\u001b[0m\u001b[32mp\u001b[0m\u001b[32ml\u001b[0m\u001b[32my\u001b[0m\u001b[32m \u001b[0m\u001b[32m>\u001b[0m\u001b[32m>\u001b[0m\u001b[32m \u001b[0m\u001b[32m请\u001b[0m\u001b[32m开\u001b[0m\u001b[32m始\u001b[0m\n"
                    ]
                },
                {
                    "data": {
                        "text/plain": [
                            "[{'role': 'system', 'content': '请你帮我写一首儿歌，4行'},\n",
                            " {'role': 'user', 'content': '请开始'},\n",
                            " {'role': 'assistant', 'content': 'Reply >> 请开始'}]"
                        ]
                    },
                    "execution_count": 18,
                    "metadata": {},
                    "output_type": "execute_result"
                }
            ],
            "source": [
                "from illufly.chat import FakeLLM\n",
                "from illufly.types import PromptTemplate\n",
                "\n",
                "llm = FakeLLM(\n",
                "    memory=[\n",
                "        PromptTemplate(text=\"请你帮我写{{mytask}}\", lazy_binding_map={\"mytask\": \"task\"}), \n",
                "        \"请开始\"\n",
                "    ]\n",
                ")\n",
                "llm(\"一首儿歌，4行\")\n",
                "llm.memory"
            ]
        },
        {
            "cell_type": "code",
            "execution_count": 19,
            "id": "7b35269b-7dca-470c-b210-74846e3daf04",
            "metadata": {},
            "outputs": [
                {
                    "name": "stdout",
                    "output_type": "stream",
                    "text": [
                        "[USER] \u001b[34m一首儿歌，4行\u001b[0m\n",
                        "\u001b[32mR\u001b[0m\u001b[32me\u001b[0m\u001b[32mp\u001b[0m\u001b[32ml\u001b[0m\u001b[32my\u001b[0m\u001b[32m \u001b[0m\u001b[32m>\u001b[0m\u001b[32m>\u001b[0m\u001b[32m \u001b[0m\u001b[32m请\u001b[0m\u001b[32m开\u001b[0m\u001b[32m始\u001b[0m\n"
                    ]
                },
                {
                    "data": {
                        "text/plain": [
                            "[{'role': 'system', 'content': '写一首歌一首儿歌，4行'},\n",
                            " {'role': 'user', 'content': '请开始'},\n",
                            " {'role': 'assistant', 'content': 'Reply >> 请开始'}]"
                        ]
                    },
                    "execution_count": 19,
                    "metadata": {},
                    "output_type": "execute_result"
                }
            ],
            "source": [
                "from illufly.chat import FakeLLM\n",
                "from illufly.types import PromptTemplate\n",
                "\n",
                "llm = FakeLLM(\n",
                "    memory=[\n",
                "        PromptTemplate(text=\"请你帮我写{{mytask}}\", lazy_binding_map={\"mytask\": \"task\"}), \n",
                "        \"请开始\"\n",
                "    ]\n",
                ")\n",
                "llm([PromptTemplate(text=\"写一首歌{{task}}\"), \"一首儿歌，4行\"])\n",
                "llm.memory"
            ]
        },
        {
            "cell_type": "markdown",
            "id": "d1fd8abb-d766-40fb-af72-d747b1491c32",
            "metadata": {},
            "source": [
                "## 在记忆中携带背景知识\n",
                "\n",
                "实现RAG应用的基本原理就是在记忆中嵌入检索到的资料，以下是一个简单的示范。<br>\n",
                "这里是为了讲解「记忆模块」，实现RAG应用本身这个复杂话题请参考专门的RAG专题。"
            ]
        },
        {
            "cell_type": "markdown",
            "id": "a3b6270b-68a0-45de-af50-587d9a10de39",
            "metadata": {},
            "source": [
                "### 嵌入到提示语中"
            ]
        },
        {
            "cell_type": "code",
            "execution_count": 27,
            "id": "830cbe31-1d44-4b51-ad49-f2069ceb28ec",
            "metadata": {},
            "outputs": [
                {
                    "name": "stdout",
                    "output_type": "stream",
                    "text": [
                        "[USER] \u001b[34millufly 是什么？\u001b[0m\n",
                        "\u001b[32mR\u001b[0m\u001b[32me\u001b[0m\u001b[32mp\u001b[0m\u001b[32ml\u001b[0m\u001b[32my\u001b[0m\u001b[32m \u001b[0m\u001b[32m>\u001b[0m\u001b[32m>\u001b[0m\u001b[32m \u001b[0m\u001b[32mi\u001b[0m\u001b[32ml\u001b[0m\u001b[32ml\u001b[0m\u001b[32mu\u001b[0m\u001b[32mf\u001b[0m\u001b[32ml\u001b[0m\u001b[32my\u001b[0m\u001b[32m \u001b[0m\u001b[32m是\u001b[0m\u001b[32m什\u001b[0m\u001b[32m么\u001b[0m\u001b[32m？\u001b[0m\n"
                    ]
                },
                {
                    "data": {
                        "text/plain": [
                            "[{'role': 'system', 'content': \"已知：['illufly 是一个多智能体解决方案']\"},\n",
                            " {'role': 'user', 'content': 'illufly 是什么？'},\n",
                            " {'role': 'assistant', 'content': 'Reply >> illufly 是什么？'}]"
                        ]
                    },
                    "execution_count": 27,
                    "metadata": {},
                    "output_type": "execute_result"
                }
            ],
            "source": [
                "from illufly.chat import FakeLLM\n",
                "from illufly.types import PromptTemplate\n",
                "\n",
                "llm = FakeLLM(\n",
                "    memory=PromptTemplate(text=\"已知：{{knowledge}}\"),\n",
                "    knowledge=[\"illufly 是一个多智能体解决方案\"]\n",
                ")\n",
                "\n",
                "llm(\"illufly 是什么？\")\n",
                "llm.memory"
            ]
        },
        {
            "cell_type": "code",
            "execution_count": 24,
            "id": "2d4e67b1-8d75-405c-a759-7fcbca5ca604",
            "metadata": {},
            "outputs": [
                {
                    "data": {
                        "text/plain": [
                            "{'last_output': 'Reply >> 写一首诗词吧',\n",
                            " 'resources': '',\n",
                            " 'task': '写一首诗词吧',\n",
                            " 'final_answer': '',\n",
                            " 'tools_calling_steps': [],\n",
                            " 'tools_name': '',\n",
                            " 'tools_desc': '',\n",
                            " 'knowledge': ['illufly 是一个多智能体解决方案'],\n",
                            " 'recalled_knowledge': ['illufly 是一个多智能体解决方案']}"
                        ]
                    },
                    "execution_count": 24,
                    "metadata": {},
                    "output_type": "execute_result"
                }
            ],
            "source": [
                "llm.provider_dict"
            ]
        },
        {
            "cell_type": "markdown",
            "id": "4b128340-f273-4c83-9a17-8cbb2a43fceb",
            "metadata": {},
            "source": [
                "### 补充到对话记录中\n",
                "\n",
                "将知识嵌入到提示语模板也许是流行的思路，但自然而然的做法是什么都不做，由 ChatAgent 自己补充到对话记录中。<br>\n",
                "这样设计并不显得突兀：既然都已经指定了知识，有什么理由不使用呢？"
            ]
        },
        {
            "cell_type": "code",
            "execution_count": 28,
            "id": "e174dd17-ceab-4371-89f1-05c5a52bbf54",
            "metadata": {},
            "outputs": [
                {
                    "name": "stdout",
                    "output_type": "stream",
                    "text": [
                        "[USER] \u001b[34millufly 是什么？\u001b[0m\n",
                        "\u001b[32mR\u001b[0m\u001b[32me\u001b[0m\u001b[32mp\u001b[0m\u001b[32ml\u001b[0m\u001b[32my\u001b[0m\u001b[32m \u001b[0m\u001b[32m>\u001b[0m\u001b[32m>\u001b[0m\u001b[32m \u001b[0m\u001b[32mi\u001b[0m\u001b[32ml\u001b[0m\u001b[32ml\u001b[0m\u001b[32mu\u001b[0m\u001b[32mf\u001b[0m\u001b[32ml\u001b[0m\u001b[32my\u001b[0m\u001b[32m \u001b[0m\u001b[32m是\u001b[0m\u001b[32m什\u001b[0m\u001b[32m么\u001b[0m\u001b[32m？\u001b[0m\n"
                    ]
                },
                {
                    "data": {
                        "text/plain": [
                            "[{'role': 'system', 'content': '你是一个咨询助手'},\n",
                            " {'role': 'user', 'content': '回答时请参考已有知识：\\n@knowledge\\nillufly 是一个多智能体解决方案\\n'},\n",
                            " {'role': 'assistant', 'content': 'ok'},\n",
                            " {'role': 'user', 'content': 'illufly 是什么？'},\n",
                            " {'role': 'assistant', 'content': 'Reply >> illufly 是什么？'}]"
                        ]
                    },
                    "execution_count": 28,
                    "metadata": {},
                    "output_type": "execute_result"
                }
            ],
            "source": [
                "from illufly.chat import FakeLLM\n",
                "from illufly.types import PromptTemplate\n",
                "\n",
                "llm = FakeLLM(\n",
                "    memory=PromptTemplate(text=\"你是一个咨询助手\"),\n",
                "    knowledge=[\"illufly 是一个多智能体解决方案\"]\n",
                ")\n",
                "\n",
                "llm(\"illufly 是什么？\")\n",
                "llm.memory"
            ]
        },
        {
            "cell_type": "markdown",
            "id": "26a17513-5b38-4255-b9dd-117d4afa21b9",
            "metadata": {},
            "source": [
                "### ChatQwen 示范"
            ]
        },
        {
            "cell_type": "code",
            "execution_count": 29,
            "id": "ae4d3963-0de7-4d18-82b9-1da14ffa7a9e",
            "metadata": {},
            "outputs": [
                {
                    "name": "stdout",
                    "output_type": "stream",
                    "text": [
                        "[USER] \u001b[34millufly 是什么？\u001b[0m\n",
                        "\u001b[32mill\u001b[0m\u001b[32muf\u001b[0m\u001b[32mly\u001b[0m\u001b[32m 是\u001b[0m\u001b[32m一个多智能体解决方案\u001b[0m\u001b[32m，它通过集成\u001b[0m\u001b[32m多个智能体来\u001b[0m\u001b[32m协同完成复杂任务\u001b[0m\u001b[32m或提供综合服务\u001b[0m\u001b[32m。这种解决方案通常\u001b[0m\u001b[32m应用于需要高度智能化\u001b[0m\u001b[32m和自动化处理的\u001b[0m\u001b[32m场景，比如智能\u001b[0m\u001b[32m交通系统、智慧城市\u001b[0m\u001b[32m管理、自动化生产\u001b[0m\u001b[32m调度等。通过\u001b[0m\u001b[32m多智能体之间的\u001b[0m\u001b[32m协作与通信，\u001b[0m\u001b[32millufly \u001b[0m\u001b[32m能够实现更\u001b[0m\u001b[32m高效、更灵活\u001b[0m\u001b[32m的问题解决方式。\u001b[0m\u001b[32m\u001b[0m\n"
                    ]
                },
                {
                    "data": {
                        "text/plain": [
                            "[{'role': 'user', 'content': '回答时请参考已有知识：\\n@knowledge\\nillufly 是一个多智能体解决方案\\n'},\n",
                            " {'role': 'assistant', 'content': 'ok'},\n",
                            " {'role': 'user', 'content': 'illufly 是什么？'},\n",
                            " {'role': 'assistant',\n",
                            "  'content': 'illufly 是一个多智能体解决方案，它通过集成多个智能体来协同完成复杂任务或提供综合服务。这种解决方案通常应用于需要高度智能化和自动化处理的场景，比如智能交通系统、智慧城市管理、自动化生产调度等。通过多智能体之间的协作与通信，illufly 能够实现更高效、更灵活的问题解决方式。'}]"
                        ]
                    },
                    "execution_count": 29,
                    "metadata": {},
                    "output_type": "execute_result"
                }
            ],
            "source": [
                "from illufly.chat import ChatQwen\n",
                "from illufly.types import PromptTemplate\n",
                "\n",
                "llm = ChatQwen(knowledge=[\"illufly 是一个多智能体解决方案\"])\n",
                "llm(\"illufly 是什么？\")\n",
                "llm.memory"
            ]
        },
        {
            "cell_type": "markdown",
            "id": "6f48ed11-ffbe-4765-8e1b-05e8db15cf94",
            "metadata": {},
            "source": [
                "## 管理记忆长度"
            ]
        },
        {
            "cell_type": "markdown",
            "id": "6121953c-504b-4131-bd01-b4143b83bd42",
            "metadata": {},
            "source": [
                "### 默认记住10轮"
            ]
        },
        {
            "cell_type": "code",
            "execution_count": 1,
            "id": "1b0ff138-b0ed-43d3-8c01-bef4f1acaa5f",
            "metadata": {},
            "outputs": [
                {
                    "name": "stdout",
                    "output_type": "stream",
                    "text": [
                        "[USER] \u001b[34m你能帮我写一首关于兔子做梦的四句儿歌?\u001b[0m\n",
                        "[INFO] \u001b[34m记住 10 轮对话\u001b[0m\n",
                        "history_memory []\n",
                        "[INFO] \u001b[34mI am FakeLLM\u001b[0m\n",
                        "\u001b[32mR\u001b[0m\u001b[32me\u001b[0m\u001b[32mp\u001b[0m\u001b[32ml\u001b[0m\u001b[32my\u001b[0m\u001b[32m \u001b[0m\u001b[32m>\u001b[0m\u001b[32m>\u001b[0m\u001b[32m \u001b[0m\u001b[32m你\u001b[0m\u001b[32m能\u001b[0m\u001b[32m帮\u001b[0m\u001b[32m我\u001b[0m\u001b[32m写\u001b[0m\u001b[32m一\u001b[0m\u001b[32m首\u001b[0m\u001b[32m关\u001b[0m\u001b[32m于\u001b[0m\u001b[32m兔\u001b[0m\u001b[32m子\u001b[0m\u001b[32m做\u001b[0m\u001b[32m梦\u001b[0m\u001b[32m的\u001b[0m\u001b[32m四\u001b[0m\u001b[32m句\u001b[0m\u001b[32m儿\u001b[0m\u001b[32m歌\u001b[0m\u001b[32m?\u001b[0m\n"
                    ]
                },
                {
                    "data": {
                        "text/plain": [
                            "[{'role': 'user', 'content': '你能帮我写一首关于兔子做梦的四句儿歌?'},\n",
                            " {'role': 'assistant', 'content': 'Reply >> 你能帮我写一首关于兔子做梦的四句儿歌?'}]"
                        ]
                    },
                    "execution_count": 1,
                    "metadata": {},
                    "output_type": "execute_result"
                }
            ],
            "source": [
                "from illufly.chat import FakeLLM\n",
                "from illufly.types import PromptTemplate\n",
                "\n",
                "a = FakeLLM()\n",
                "\n",
                "a(\"你能帮我写一首关于兔子做梦的四句儿歌?\", verbose=True)\n",
                "a.chat_memory"
            ]
        },
        {
            "cell_type": "markdown",
            "id": "36ea5400-f393-40ae-8b47-cffdda62bb78",
            "metadata": {},
            "source": [
                "### 限制记忆中的对话轮数"
            ]
        },
        {
            "cell_type": "code",
            "execution_count": 2,
            "id": "fbb77df1-1f87-4ef7-8e91-7289796d4f31",
            "metadata": {},
            "outputs": [
                {
                    "name": "stdout",
                    "output_type": "stream",
                    "text": [
                        "[USER] \u001b[34m改为在蓝天上\u001b[0m\n",
                        "[INFO] \u001b[34m记住 10 轮对话\u001b[0m\n",
                        "history_memory [Message(role=user, content=你能帮我写一首关于兔子做梦的四句儿歌?), Message(role=assistant, content=Reply >> 你能帮我写一首关于兔子做梦的四句儿歌?)]\n",
                        "[INFO] \u001b[34mI am FakeLLM\u001b[0m\n",
                        "\u001b[32mR\u001b[0m\u001b[32me\u001b[0m\u001b[32mp\u001b[0m\u001b[32ml\u001b[0m\u001b[32my\u001b[0m\u001b[32m \u001b[0m\u001b[32m>\u001b[0m\u001b[32m>\u001b[0m\u001b[32m \u001b[0m\u001b[32m改\u001b[0m\u001b[32m为\u001b[0m\u001b[32m在\u001b[0m\u001b[32m蓝\u001b[0m\u001b[32m天\u001b[0m\u001b[32m上\u001b[0m\n"
                    ]
                },
                {
                    "data": {
                        "text/plain": [
                            "[{'role': 'user', 'content': '你能帮我写一首关于兔子做梦的四句儿歌?'},\n",
                            " {'role': 'assistant', 'content': 'Reply >> 你能帮我写一首关于兔子做梦的四句儿歌?'},\n",
                            " {'role': 'user', 'content': '改为在蓝天上'},\n",
                            " {'role': 'assistant', 'content': 'Reply >> 改为在蓝天上'}]"
                        ]
                    },
                    "execution_count": 2,
                    "metadata": {},
                    "output_type": "execute_result"
                }
            ],
            "source": [
                "a(\"改为在蓝天上\", verbose=True)\n",
                "a.chat_memory"
            ]
        },
        {
            "cell_type": "code",
            "execution_count": 3,
            "id": "d013a1fd-deaa-4124-9804-6121d04705e6",
            "metadata": {},
            "outputs": [
                {
                    "name": "stdout",
                    "output_type": "stream",
                    "text": [
                        "[USER] \u001b[34m改为在水塘\u001b[0m\n",
                        "[INFO] \u001b[34m记住 1 轮对话\u001b[0m\n",
                        "history_memory [Message(role=user, content=改为在蓝天上), Message(role=assistant, content=Reply >> 改为在蓝天上)]\n",
                        "[INFO] \u001b[34mI am FakeLLM\u001b[0m\n",
                        "\u001b[32mR\u001b[0m\u001b[32me\u001b[0m\u001b[32mp\u001b[0m\u001b[32ml\u001b[0m\u001b[32my\u001b[0m\u001b[32m \u001b[0m\u001b[32m>\u001b[0m\u001b[32m>\u001b[0m\u001b[32m \u001b[0m\u001b[32m改\u001b[0m\u001b[32m为\u001b[0m\u001b[32m在\u001b[0m\u001b[32m水\u001b[0m\u001b[32m塘\u001b[0m\n"
                    ]
                },
                {
                    "data": {
                        "text/plain": [
                            "[{'role': 'user', 'content': '改为在蓝天上'},\n",
                            " {'role': 'assistant', 'content': 'Reply >> 改为在蓝天上'},\n",
                            " {'role': 'user', 'content': '改为在水塘'},\n",
                            " {'role': 'assistant', 'content': 'Reply >> 改为在水塘'}]"
                        ]
                    },
                    "execution_count": 3,
                    "metadata": {},
                    "output_type": "execute_result"
                }
            ],
            "source": [
                "a(\"改为在水塘\", remember_rounds=1, verbose=True)\n",
                "a.chat_memory"
            ]
        },
        {
            "cell_type": "code",
            "execution_count": null,
            "id": "3be5994a-591d-4c24-9eb3-a9f2229f0f59",
            "metadata": {},
            "outputs": [],
            "source": []
        }
    ],
    "metadata": {
        "kernelspec": {
            "display_name": "same_to_illufly",
            "language": "python",
            "name": "same_to_illufly"
        },
        "language_info": {
            "codemirror_mode": {
                "name": "ipython",
                "version": 3
            },
            "file_extension": ".py",
            "mimetype": "text/x-python",
            "name": "python",
            "nbconvert_exporter": "python",
            "pygments_lexer": "ipython3",
            "version": "3.10.0"
        }
    },
    "nbformat": 4,
    "nbformat_minor": 5
}