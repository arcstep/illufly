{
 "cells": [
  {
   "cell_type": "markdown",
   "id": "fd3cb30b-e598-4111-9df6-c1771cd45891",
   "metadata": {},
   "source": [
    "## 构建问题提示语"
   ]
  },
  {
   "cell_type": "markdown",
   "id": "be6064b4-deb0-4a02-a31a-323a97753073",
   "metadata": {},
   "source": [
    "### 没有提示语模板时\n",
    "\n",
    "应当直接将 prompt 作为第一条 user 消息："
   ]
  },
  {
   "cell_type": "code",
   "execution_count": 18,
   "id": "77170cc3-b4d8-4cf8-b285-32e362855b6a",
   "metadata": {},
   "outputs": [
    {
     "name": "stdout",
     "output_type": "stream",
     "text": [
      "[INFO] \u001b[34m记住 10 轮对话\u001b[0m\n",
      "[INFO] \u001b[34mFakeLLM: [{'role': 'user', 'content': '写一首诗词吧'}]\u001b[0m\n",
      "\u001b[32m这\u001b[0m\u001b[32m是\u001b[0m\u001b[32m一个\u001b[0m\u001b[32m模拟\u001b[0m\u001b[32m调用\u001b[0m\u001b[32m!\u001b[0m"
     ]
    },
    {
     "data": {
      "text/plain": [
       "[{'role': 'user', 'content': '写一首诗词吧'},\n",
       " {'role': 'assistant', 'content': '这是一个模拟调用!'}]"
      ]
     },
     "execution_count": 18,
     "metadata": {},
     "output_type": "execute_result"
    }
   ],
   "source": [
    "from illufly.chat import FakeLLM\n",
    "from illufly.types import Template\n",
    "\n",
    "llm = FakeLLM()\n",
    "llm(\"写一首诗词吧\", verbose=True, new_chat=True)\n",
    "llm.memory"
   ]
  },
  {
   "cell_type": "markdown",
   "id": "a6f3ba28-3543-4856-bcbe-c00dc7ee5850",
   "metadata": {},
   "source": [
    "### 有提示语模板，但未使用 task 变量\n",
    "\n",
    "应当在 system 后，将 prompt 作为 user 消息："
   ]
  },
  {
   "cell_type": "code",
   "execution_count": 14,
   "id": "2a3deee6-680e-46fc-b20b-de1e568b773c",
   "metadata": {},
   "outputs": [
    {
     "name": "stdout",
     "output_type": "stream",
     "text": [
      "[INFO] \u001b[34m记住 10 轮对话\u001b[0m\n",
      "[INFO] \u001b[34mFakeLLM: [{'role': 'system', 'content': '请你帮我写首歌'}]\u001b[0m\n",
      "\u001b[32m这\u001b[0m\u001b[32m是\u001b[0m\u001b[32m一个\u001b[0m\u001b[32m模拟\u001b[0m\u001b[32m调用\u001b[0m\u001b[32m!\u001b[0m"
     ]
    },
    {
     "data": {
      "text/plain": [
       "[{'role': 'system', 'content': '请你帮我写首歌'},\n",
       " {'role': 'assistant', 'content': '这是一个模拟调用!'}]"
      ]
     },
     "execution_count": 14,
     "metadata": {},
     "output_type": "execute_result"
    }
   ],
   "source": [
    "from illufly.chat import FakeLLM\n",
    "from illufly.types import Template\n",
    "\n",
    "llm = FakeLLM(\n",
    "    memory=[\n",
    "        (\"system\", Template(text=\"请你帮我写首歌\"))\n",
    "    ]\n",
    ")\n",
    "llm(\"还是写一首诗词吧\", verbose=True, new_chat=True)\n",
    "llm.memory"
   ]
  },
  {
   "cell_type": "code",
   "execution_count": 15,
   "id": "e3c94e36-2ee2-4f50-b824-437560651d08",
   "metadata": {},
   "outputs": [
    {
     "data": {
      "text/plain": [
       "{'last_input': '还是写一首诗词吧', 'last_output': '这是一个模拟调用!', 'task': '还是写一首诗词吧'}"
      ]
     },
     "execution_count": 15,
     "metadata": {},
     "output_type": "execute_result"
    }
   ],
   "source": [
    "llm.provider_dict"
   ]
  },
  {
   "cell_type": "markdown",
   "id": "75360903-a63d-454d-8b66-4ff0b85acb5d",
   "metadata": {},
   "source": [
    "### 使用 task 变量，且列表最后一条是 user"
   ]
  },
  {
   "cell_type": "code",
   "execution_count": 6,
   "id": "5c66d142-068d-470f-af51-234310a53234",
   "metadata": {},
   "outputs": [
    {
     "name": "stdout",
     "output_type": "stream",
     "text": [
      "[INFO] \u001b[34m记住 10 轮对话\u001b[0m\n",
      "[INFO] \u001b[34mFakeLLM: [{'role': 'system', 'content': '请你帮我写一首诗词'}]\u001b[0m\n",
      "\u001b[32m这\u001b[0m\u001b[32m是\u001b[0m\u001b[32m一个\u001b[0m\u001b[32m模拟\u001b[0m\u001b[32m调用\u001b[0m\u001b[32m!\u001b[0m"
     ]
    },
    {
     "data": {
      "text/plain": [
       "[{'role': 'system', 'content': '请你帮我写一首诗词'},\n",
       " {'role': 'assistant', 'content': '这是一个模拟调用!'}]"
      ]
     },
     "execution_count": 6,
     "metadata": {},
     "output_type": "execute_result"
    }
   ],
   "source": [
    "from illufly.chat import FakeLLM\n",
    "from illufly.types import Template\n",
    "\n",
    "llm = FakeLLM(\n",
    "    memory=[\n",
    "        (\"system\", Template(text=\"请你帮我写{{task}}\"))\n",
    "    ]\n",
    ")\n",
    "llm(\"一首诗词\", verbose=True, new_chat=True)\n",
    "llm.memory"
   ]
  },
  {
   "cell_type": "markdown",
   "id": "9c43651a-d744-4883-b980-8e531bb2a05b",
   "metadata": {},
   "source": [
    "### 使用 task 变量，且列表最后一条不是 user"
   ]
  },
  {
   "cell_type": "code",
   "execution_count": 3,
   "id": "2500fac2-e49c-4ad5-8aac-137611bfd8f7",
   "metadata": {},
   "outputs": [
    {
     "name": "stdout",
     "output_type": "stream",
     "text": [
      "[INFO] \u001b[34m记住 10 轮对话\u001b[0m\n",
      "[INFO] \u001b[34mFakeLLM: [{'role': 'system', 'content': '请你帮我写一首诗词'}, {'role': 'user', 'content': '请开始'}]\u001b[0m\n",
      "\u001b[32m这\u001b[0m\u001b[32m是\u001b[0m\u001b[32m一个\u001b[0m\u001b[32m模拟\u001b[0m\u001b[32m调用\u001b[0m\u001b[32m!\u001b[0m"
     ]
    },
    {
     "data": {
      "text/plain": [
       "[{'role': 'system', 'content': '请你帮我写一首诗词'},\n",
       " {'role': 'user', 'content': '请开始'},\n",
       " {'role': 'assistant', 'content': '这是一个模拟调用!'}]"
      ]
     },
     "execution_count": 3,
     "metadata": {},
     "output_type": "execute_result"
    }
   ],
   "source": [
    "from illufly.chat import FakeLLM\n",
    "from illufly.types import Template\n",
    "\n",
    "llm = FakeLLM(\n",
    "    memory=[\n",
    "        (\"system\", Template(text=\"请你帮我写{{task}}\")),\n",
    "        (\"user\", \"请开始\")\n",
    "    ]\n",
    ")\n",
    "llm(\"一首诗词\", verbose=True, new_chat=True)\n",
    "llm.memory"
   ]
  },
  {
   "cell_type": "markdown",
   "id": "6ff8b4de-5728-4fd3-85b3-1611435241a9",
   "metadata": {},
   "source": [
    "## 映射提示语中的模板变量"
   ]
  },
  {
   "cell_type": "markdown",
   "id": "2824bf5b-3078-42af-8857-64c5a9ef65d1",
   "metadata": {},
   "source": [
    "### 默认映射"
   ]
  },
  {
   "cell_type": "code",
   "execution_count": 5,
   "id": "ad3677d7-4e2c-407b-a1ad-b3522afac214",
   "metadata": {},
   "outputs": [
    {
     "name": "stdout",
     "output_type": "stream",
     "text": [
      "\u001b[32m这\u001b[0m\u001b[32m是\u001b[0m\u001b[32m一个\u001b[0m\u001b[32m模拟\u001b[0m\u001b[32m调用\u001b[0m\u001b[32m!\u001b[0m"
     ]
    },
    {
     "data": {
      "text/plain": [
       "[{'role': 'system', 'content': '请你帮我写一首儿歌，4行'},\n",
       " {'role': 'user', 'content': '请开始'},\n",
       " {'role': 'assistant', 'content': '这是一个模拟调用!'}]"
      ]
     },
     "execution_count": 5,
     "metadata": {},
     "output_type": "execute_result"
    }
   ],
   "source": [
    "from illufly.chat import FakeLLM\n",
    "from illufly.types import Template\n",
    "\n",
    "llm = FakeLLM(\n",
    "    memory=[Template(text=\"请你帮我写{{task}}\"), \"请开始\"]\n",
    ")\n",
    "llm(\"一首儿歌，4行\")\n",
    "llm.memory"
   ]
  },
  {
   "cell_type": "markdown",
   "id": "47dc6e55-325e-457e-817b-ecba530c43ea",
   "metadata": {},
   "source": [
    "### 重新映射"
   ]
  },
  {
   "cell_type": "code",
   "execution_count": 3,
   "id": "0c5ee3ae-7049-43ce-869a-2d989b0febf5",
   "metadata": {},
   "outputs": [
    {
     "name": "stdout",
     "output_type": "stream",
     "text": [
      "\u001b[32m这\u001b[0m\u001b[32m是\u001b[0m\u001b[32m一个\u001b[0m\u001b[32m模拟\u001b[0m\u001b[32m调用\u001b[0m\u001b[32m!\u001b[0m"
     ]
    },
    {
     "data": {
      "text/plain": [
       "[{'role': 'system', 'content': '请你帮我写一首儿歌，4行'},\n",
       " {'role': 'user', 'content': '请开始'},\n",
       " {'role': 'assistant', 'content': '这是一个模拟调用!'}]"
      ]
     },
     "execution_count": 3,
     "metadata": {},
     "output_type": "execute_result"
    }
   ],
   "source": [
    "from illufly.chat import FakeLLM\n",
    "from illufly.types import Template\n",
    "\n",
    "llm = FakeLLM(\n",
    "    memory=[Template(text=\"请你帮我写{{mytask}}\"), \"请开始\"],\n",
    "    template_binding={\n",
    "        \"mytask\": \"task\"\n",
    "    }\n",
    ")\n",
    "llm(\"一首儿歌，4行\")\n",
    "llm.memory"
   ]
  },
  {
   "cell_type": "markdown",
   "id": "d1fd8abb-d766-40fb-af72-d747b1491c32",
   "metadata": {},
   "source": [
    "## 携带背景知识"
   ]
  },
  {
   "cell_type": "markdown",
   "id": "a3b6270b-68a0-45de-af50-587d9a10de39",
   "metadata": {},
   "source": [
    "### 文本知识"
   ]
  },
  {
   "cell_type": "markdown",
   "id": "26a17513-5b38-4255-b9dd-117d4afa21b9",
   "metadata": {},
   "source": [
    "### 动态查询"
   ]
  },
  {
   "cell_type": "markdown",
   "id": "6f48ed11-ffbe-4765-8e1b-05e8db15cf94",
   "metadata": {},
   "source": [
    "## 管理记忆长度"
   ]
  },
  {
   "cell_type": "markdown",
   "id": "6121953c-504b-4131-bd01-b4143b83bd42",
   "metadata": {},
   "source": [
    "### 默认记住10轮"
   ]
  },
  {
   "cell_type": "code",
   "execution_count": 3,
   "id": "1b0ff138-b0ed-43d3-8c01-bef4f1acaa5f",
   "metadata": {},
   "outputs": [
    {
     "name": "stdout",
     "output_type": "stream",
     "text": [
      "[INFO] \u001b[34m仅记住 10 轮对话\u001b[0m\n",
      "\u001b[32m小\u001b[0m\u001b[32m兔子\u001b[0m\u001b[32m乖乖\u001b[0m\u001b[32m，\u001b[0m\u001b[32m梦中乐逍遥\u001b[0m\u001b[32m，\n",
      "\n",
      "胡萝卜成山\u001b[0m\u001b[32m，幸福在身旁\u001b[0m\u001b[32m。 \n",
      "\n",
      "（注\u001b[0m\u001b[32m：这是一首\u001b[0m\u001b[32m简短的儿\u001b[0m\u001b[32m歌，希望可以\u001b[0m\u001b[32m满足您的需求）\u001b[0m\u001b[32m\u001b[0m\n",
      "[USAGE] \u001b[34m{\"input_tokens\": 21, \"output_tokens\": 36, \"total_tokens\": 57}\u001b[0m\n"
     ]
    },
    {
     "data": {
      "text/plain": [
       "'小兔子乖乖，梦中乐逍遥，\\n\\n胡萝卜成山，幸福在身旁。 \\n\\n（注：这是一首简短的儿歌，希望可以满足您的需求）'"
      ]
     },
     "execution_count": 3,
     "metadata": {},
     "output_type": "execute_result"
    }
   ],
   "source": [
    "a(\"你能帮我写一首关于兔子做梦的四句儿歌?\", verbose=True)"
   ]
  },
  {
   "cell_type": "code",
   "execution_count": 3,
   "id": "f11a351c-3c8e-45c3-8b71-57f576dfeb29",
   "metadata": {},
   "outputs": [
    {
     "name": "stdout",
     "output_type": "stream",
     "text": [
      "\u001b[32m小兔子\u001b[0m\u001b[32m乖乖\u001b[0m\u001b[32m，\u001b[0m\u001b[32m梦中舞起来\u001b[0m\u001b[32m，\n",
      "\n",
      "胡萝卜做山\u001b[0m\u001b[32m，月宫乐\u001b[0m\u001b[32m翻天。 \n",
      "\n",
      "\u001b[0m\u001b[32m（注：这是一个\u001b[0m\u001b[32m创作的简单例子\u001b[0m\u001b[32m，希望能符合\u001b[0m\u001b[32m您的期望）\u001b[0m\u001b[32m\u001b[0m\n"
     ]
    },
    {
     "data": {
      "text/plain": [
       "'小兔子乖乖，梦中舞起来，\\n\\n胡萝卜做山，月宫乐翻天。 \\n\\n（注：这是一个创作的简单例子，希望能符合您的期望）'"
      ]
     },
     "execution_count": 3,
     "metadata": {},
     "output_type": "execute_result"
    }
   ],
   "source": [
    "await a(\"你能帮我写一首关于兔子做梦的四句儿歌?\", handlers=[alog])"
   ]
  },
  {
   "cell_type": "code",
   "execution_count": 5,
   "id": "f2836967-7953-446a-8b63-e8d129a208be",
   "metadata": {},
   "outputs": [
    {
     "data": {
      "text/plain": [
       "[{'role': 'user', 'content': '你能帮我写一首关于兔子做梦的四句儿歌?'},\n",
       " {'role': 'assistant',\n",
       "  'content': '小兔子乖乖躺床上，\\n\\n梦中萝卜堆成山，\\n\\n月光轻轻照进窗，\\n\\n幸福入眠不用赶。'}]"
      ]
     },
     "execution_count": 5,
     "metadata": {},
     "output_type": "execute_result"
    }
   ],
   "source": [
    "a.get_chat_memory(2)"
   ]
  },
  {
   "cell_type": "code",
   "execution_count": 5,
   "id": "29b9d9c9-6523-4642-8ed7-d42bf84554c3",
   "metadata": {},
   "outputs": [
    {
     "name": "stdout",
     "output_type": "stream",
     "text": [
      "\u001b[32m小羊\u001b[0m\u001b[32m儿\u001b[0m\u001b[32m乖乖\u001b[0m\u001b[32m，梦里跳\u001b[0m\u001b[32m啊跳，\n",
      "青\u001b[0m\u001b[32m草做地毯，\u001b[0m\u001b[32m云朵笑弯\u001b[0m\u001b[32m腰。\u001b[0m\u001b[32m\u001b[0m\n"
     ]
    },
    {
     "data": {
      "text/plain": [
       "'小羊儿乖乖，梦里跳啊跳，\\n青草做地毯，云朵笑弯腰。'"
      ]
     },
     "execution_count": 5,
     "metadata": {},
     "output_type": "execute_result"
    }
   ],
   "source": [
    "a(\"换成小羊吧\")"
   ]
  },
  {
   "cell_type": "markdown",
   "id": "36ea5400-f393-40ae-8b47-cffdda62bb78",
   "metadata": {},
   "source": [
    "### 限制记忆中的对话轮数"
   ]
  },
  {
   "cell_type": "code",
   "execution_count": 6,
   "id": "fbb77df1-1f87-4ef7-8e91-7289796d4f31",
   "metadata": {},
   "outputs": [
    {
     "name": "stdout",
     "output_type": "stream",
     "text": [
      "\u001b[32m小羊\u001b[0m\u001b[32m儿\u001b[0m\u001b[32m乖乖\u001b[0m\u001b[32m，梦里跳\u001b[0m\u001b[32m啊跳，\n",
      "青\u001b[0m\u001b[32m草铺蓝天，\u001b[0m\u001b[32m白云身旁绕。\u001b[0m\u001b[32m\u001b[0m\n"
     ]
    },
    {
     "data": {
      "text/plain": [
       "'小羊儿乖乖，梦里跳啊跳，\\n青草铺蓝天，白云身旁绕。'"
      ]
     },
     "execution_count": 6,
     "metadata": {},
     "output_type": "execute_result"
    }
   ],
   "source": [
    "a(\"改为在蓝天上\")"
   ]
  },
  {
   "cell_type": "code",
   "execution_count": 9,
   "id": "1fd16c8f-3192-474c-8618-25b0c78bb646",
   "metadata": {},
   "outputs": [
    {
     "data": {
      "text/plain": [
       "[{'role': 'user', 'content': '改为在蓝天上'},\n",
       " {'role': 'assistant', 'content': '小羊儿乖乖，梦里跳啊跳，\\n青草铺蓝天，白云身旁绕。'}]"
      ]
     },
     "execution_count": 9,
     "metadata": {},
     "output_type": "execute_result"
    }
   ],
   "source": [
    "a.get_chat_memory(1)"
   ]
  },
  {
   "cell_type": "code",
   "execution_count": 4,
   "id": "d013a1fd-deaa-4124-9804-6121d04705e6",
   "metadata": {},
   "outputs": [
    {
     "name": "stdout",
     "output_type": "stream",
     "text": [
      "[INFO] \u001b[34m仅记住 1 轮对话\u001b[0m\n",
      "\u001b[32m好的，\u001b[0m\u001b[32m可以\u001b[0m\u001b[32m这样\u001b[0m\u001b[32m修改：\n",
      "\n",
      "小兔子\u001b[0m\u001b[32m乖乖，梦中\u001b[0m\u001b[32m乐逍遥，\n",
      "水\u001b[0m\u001b[32m塘清如镜\u001b[0m\u001b[32m，快乐水中跳\u001b[0m\u001b[32m。\n",
      "\n",
      "这样可以吗\u001b[0m\u001b[32m？这首儿歌\u001b[0m\u001b[32m描绘了小兔子\u001b[0m\u001b[32m在梦中于\u001b[0m\u001b[32m清澈的水塘\u001b[0m\u001b[32m边欢乐跳跃的\u001b[0m\u001b[32m场景。\u001b[0m\u001b[32m\u001b[0m\n",
      "[USAGE] \u001b[34m{\"input_tokens\": 71, \"output_tokens\": 50, \"total_tokens\": 121}\u001b[0m\n"
     ]
    },
    {
     "data": {
      "text/plain": [
       "'好的，可以这样修改：\\n\\n小兔子乖乖，梦中乐逍遥，\\n水塘清如镜，快乐水中跳。\\n\\n这样可以吗？这首儿歌描绘了小兔子在梦中于清澈的水塘边欢乐跳跃的场景。'"
      ]
     },
     "execution_count": 4,
     "metadata": {},
     "output_type": "execute_result"
    }
   ],
   "source": [
    "a(\"改为在水塘\", remember_rounds=1, verbose=True)"
   ]
  },
  {
   "cell_type": "code",
   "execution_count": 11,
   "id": "5266b214-cedb-4c4c-99fe-9a48478b3d2a",
   "metadata": {},
   "outputs": [
    {
     "data": {
      "text/plain": [
       "[{'role': 'user', 'content': '改为在水塘'},\n",
       " {'role': 'assistant',\n",
       "  'content': '小羊儿乖乖，梦里跳啊跳，\\n青草绕水塘，倒映白云朵。 \\n\\n如果需要调整或有其他要求，请告诉我！我可以根据您的需求再做修改。'}]"
      ]
     },
     "execution_count": 11,
     "metadata": {},
     "output_type": "execute_result"
    }
   ],
   "source": [
    "a.get_chat_memory(1)"
   ]
  },
  {
   "cell_type": "code",
   "execution_count": null,
   "id": "9dee48ba-cbd6-42b6-905e-af60b3a2dc6e",
   "metadata": {},
   "outputs": [],
   "source": []
  }
 ],
 "metadata": {
  "kernelspec": {
   "display_name": "textlong-same-ipykernel",
   "language": "python",
   "name": "textlong-same-ipykernel"
  },
  "language_info": {
   "codemirror_mode": {
    "name": "ipython",
    "version": 3
   },
   "file_extension": ".py",
   "mimetype": "text/x-python",
   "name": "python",
   "nbconvert_exporter": "python",
   "pygments_lexer": "ipython3",
   "version": "3.10.0"
  }
 },
 "nbformat": 4,
 "nbformat_minor": 5
}
