{
 "cells": [
  {
   "cell_type": "markdown",
   "id": "69e93ca6-ef4f-4f73-ad92-98bcd9cf093e",
   "metadata": {},
   "source": [
    "## 使用 History\n",
    "\n",
    "illufly 支持基于文件或 redis 等数据库持久化。"
   ]
  },
  {
   "cell_type": "markdown",
   "id": "d4a37e7e-0a8c-4e7a-8497-edd7d72f7c30",
   "metadata": {},
   "source": [
    "### 空的历史"
   ]
  },
  {
   "cell_type": "code",
   "execution_count": 4,
   "id": "6eb56301-c12c-4782-b055-77ee410809a8",
   "metadata": {},
   "outputs": [
    {
     "data": {
      "text/plain": [
       "[]"
      ]
     },
     "execution_count": 4,
     "metadata": {},
     "output_type": "execute_result"
    }
   ],
   "source": [
    "from illufly.chat import ChatQwen\n",
    "\n",
    "chat = ChatQwen(name=\"qwen\")\n",
    "chat.thread_ids"
   ]
  },
  {
   "cell_type": "code",
   "execution_count": 5,
   "id": "f81ce293-d513-42a6-8036-44a2cedca135",
   "metadata": {},
   "outputs": [
    {
     "data": {
      "text/plain": [
       "[]"
      ]
     },
     "execution_count": 5,
     "metadata": {},
     "output_type": "execute_result"
    }
   ],
   "source": [
    "chat.load_memory(-1)\n",
    "chat.memory"
   ]
  },
  {
   "cell_type": "code",
   "execution_count": 6,
   "id": "97d173b4-fbb1-4fda-86dc-a49232e55444",
   "metadata": {},
   "outputs": [
    {
     "data": {
      "text/plain": [
       "-1"
      ]
     },
     "execution_count": 6,
     "metadata": {},
     "output_type": "execute_result"
    }
   ],
   "source": [
    "chat.thread_id"
   ]
  },
  {
   "cell_type": "markdown",
   "id": "d35274fe-2ee1-471a-a986-131978507db9",
   "metadata": {},
   "source": [
    "## 写入历史对话"
   ]
  },
  {
   "cell_type": "code",
   "execution_count": 1,
   "id": "d3b0e7ab-9840-4c3b-a67e-eeb4f8ba955e",
   "metadata": {},
   "outputs": [
    {
     "name": "stdout",
     "output_type": "stream",
     "text": [
      "[USER] \u001b[34m给我写一首2句儿歌\u001b[0m\n",
      "\u001b[32m小\u001b[0m\u001b[32m星星\u001b[0m\u001b[32m，\u001b[0m\u001b[32m亮\u001b[0m\u001b[32m晶晶，  \n",
      "\u001b[0m\u001b[32m天上地下来放\u001b[0m\u001b[32m灯。\u001b[0m\u001b[32m\u001b[0m\n"
     ]
    },
    {
     "data": {
      "text/plain": [
       "'小星星，亮晶晶，  \\n天上地下来放灯。'"
      ]
     },
     "execution_count": 1,
     "metadata": {},
     "output_type": "execute_result"
    }
   ],
   "source": [
    "from illufly.chat import ChatQwen\n",
    "\n",
    "chat = ChatQwen(name=\"qwen\")\n",
    "chat(\"给我写一首2句儿歌\")"
   ]
  },
  {
   "cell_type": "code",
   "execution_count": 2,
   "id": "a53d0019-26d5-4450-96d3-e3bd8b1bccfa",
   "metadata": {},
   "outputs": [
    {
     "name": "stdout",
     "output_type": "stream",
     "text": [
      "[USER] \u001b[34m给我写一首2句儿歌\u001b[0m\n",
      "\u001b[32m小\u001b[0m\u001b[32m兔\u001b[0m\u001b[32m跳\u001b[0m\u001b[32m跳\u001b[0m\u001b[32m真可爱，太阳\u001b[0m\u001b[32m公公笑开\u001b[0m\u001b[32m怀。\u001b[0m\u001b[32m\u001b[0m\n"
     ]
    },
    {
     "data": {
      "text/plain": [
       "'小兔跳跳真可爱，太阳公公笑开怀。'"
      ]
     },
     "execution_count": 2,
     "metadata": {},
     "output_type": "execute_result"
    }
   ],
   "source": [
    "chat = ChatQwen(name=\"qwen\")\n",
    "chat(\"给我写一首2句儿歌\")"
   ]
  },
  {
   "cell_type": "markdown",
   "id": "8ef4c478-28a9-40b2-909c-34eb378fc26d",
   "metadata": {},
   "source": [
    "## 加载历史对话"
   ]
  },
  {
   "cell_type": "code",
   "execution_count": 1,
   "id": "b9376223-30c2-4fd7-be7c-acafbb0c15e5",
   "metadata": {},
   "outputs": [
    {
     "data": {
      "text/plain": [
       "[{'role': 'user', 'content': '给我写一首2句儿歌'},\n",
       " {'role': 'assistant', 'content': '小星星，亮晶晶，  \\n天上地下来放灯。'}]"
      ]
     },
     "execution_count": 1,
     "metadata": {},
     "output_type": "execute_result"
    }
   ],
   "source": [
    "from illufly.chat import ChatQwen\n",
    "\n",
    "chat = ChatQwen(name=\"qwen\")\n",
    "chat.load_memory(-2)\n",
    "chat.memory"
   ]
  },
  {
   "cell_type": "code",
   "execution_count": 2,
   "id": "88b66398-2c8a-4784-92d9-d87c1d145f72",
   "metadata": {},
   "outputs": [
    {
     "name": "stdout",
     "output_type": "stream",
     "text": [
      "[USER] \u001b[34m星星能改成月亮？\u001b[0m\n",
      "\u001b[32m当然\u001b[0m\u001b[32m可以\u001b[0m\u001b[32m，\u001b[0m\u001b[32m改\u001b[0m\u001b[32m后的儿歌如下\u001b[0m\u001b[32m：\n",
      "\n",
      "小月亮，\u001b[0m\u001b[32m亮晶晶，\u001b[0m\u001b[32m  \n",
      "天上地下来\u001b[0m\u001b[32m放灯。\u001b[0m\u001b[32m\u001b[0m\n"
     ]
    },
    {
     "data": {
      "text/plain": [
       "'当然可以，改后的儿歌如下：\\n\\n小月亮，亮晶晶，  \\n天上地下来放灯。'"
      ]
     },
     "execution_count": 2,
     "metadata": {},
     "output_type": "execute_result"
    }
   ],
   "source": [
    "chat(\"星星能改成月亮？\")\n",
    "chat.memory"
   ]
  },
  {
   "cell_type": "code",
   "execution_count": null,
   "id": "4c2fcb5d-a7e5-4df5-bcbd-8f40d7b392c9",
   "metadata": {},
   "outputs": [],
   "source": []
  }
 ],
 "metadata": {
  "kernelspec": {
   "display_name": "textlong-same-ipykernel",
   "language": "python",
   "name": "textlong-same-ipykernel"
  },
  "language_info": {
   "codemirror_mode": {
    "name": "ipython",
    "version": 3
   },
   "file_extension": ".py",
   "mimetype": "text/x-python",
   "name": "python",
   "nbconvert_exporter": "python",
   "pygments_lexer": "ipython3",
   "version": "3.10.0"
  }
 },
 "nbformat": 4,
 "nbformat_minor": 5
}
