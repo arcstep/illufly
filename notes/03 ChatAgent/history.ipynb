{
 "cells": [
  {
   "cell_type": "markdown",
   "id": "69e93ca6-ef4f-4f73-ad92-98bcd9cf093e",
   "metadata": {},
   "source": [
    "## InMemoryHistory\n",
    "\n",
    "illufly 支持基于内存、文件的数据持久化。<br>\n",
    "你可以继承 BaseHisotry 完成 redis、mongodb 等其他数据介质的持久化。\n",
    "\n",
    "- 内存 InMemoryHistory\n",
    "- 文件 LocalFileHistory"
   ]
  },
  {
   "cell_type": "markdown",
   "id": "d4a37e7e-0a8c-4e7a-8497-edd7d72f7c30",
   "metadata": {},
   "source": [
    "### 空的历史"
   ]
  },
  {
   "cell_type": "code",
   "execution_count": 12,
   "id": "6eb56301-c12c-4782-b055-77ee410809a8",
   "metadata": {},
   "outputs": [
    {
     "data": {
      "text/plain": [
       "[]"
      ]
     },
     "execution_count": 12,
     "metadata": {},
     "output_type": "execute_result"
    }
   ],
   "source": [
    "from illufly.chat import ChatQwen\n",
    "\n",
    "chat = ChatQwen(name=\"qwen\")\n",
    "chat.thread_ids"
   ]
  },
  {
   "cell_type": "markdown",
   "id": "d35274fe-2ee1-471a-a986-131978507db9",
   "metadata": {},
   "source": [
    "### 写入历史对话"
   ]
  },
  {
   "cell_type": "code",
   "execution_count": 2,
   "id": "d3b0e7ab-9840-4c3b-a67e-eeb4f8ba955e",
   "metadata": {},
   "outputs": [
    {
     "name": "stdout",
     "output_type": "stream",
     "text": [
      "[USER] \u001b[34m给我写一首2句儿歌\u001b[0m\n",
      "\u001b[32m小\u001b[0m\u001b[32m星星\u001b[0m\u001b[32m，\u001b[0m\u001b[32m亮\u001b[0m\u001b[32m晶晶，  \n",
      "\u001b[0m\u001b[32m天上闪烁数不清\u001b[0m\u001b[32m。\u001b[0m\u001b[32m\u001b[0m\n"
     ]
    },
    {
     "data": {
      "text/plain": [
       "[{'role': 'user', 'content': '给我写一首2句儿歌'},\n",
       " {'role': 'assistant', 'content': '小星星，亮晶晶，  \\n天上闪烁数不清。'}]"
      ]
     },
     "execution_count": 2,
     "metadata": {},
     "output_type": "execute_result"
    }
   ],
   "source": [
    "chat(\"给我写一首2句儿歌\")\n",
    "chat.memory"
   ]
  },
  {
   "cell_type": "code",
   "execution_count": 3,
   "id": "d4fd2250-de79-45e1-a4ff-ba781f48cf4d",
   "metadata": {},
   "outputs": [
    {
     "data": {
      "text/plain": [
       "['992197-9335-0000']"
      ]
     },
     "execution_count": 3,
     "metadata": {},
     "output_type": "execute_result"
    }
   ],
   "source": [
    "chat.thread_ids"
   ]
  },
  {
   "cell_type": "code",
   "execution_count": 4,
   "id": "a53d0019-26d5-4450-96d3-e3bd8b1bccfa",
   "metadata": {},
   "outputs": [
    {
     "name": "stdout",
     "output_type": "stream",
     "text": [
      "[USER] \u001b[34m给我写一首2句儿歌\u001b[0m\n",
      "\u001b[32m小\u001b[0m\u001b[32m星星\u001b[0m\u001b[32m眨\u001b[0m\u001b[32m眼睛\u001b[0m\u001b[32m，月亮妈妈笑\u001b[0m\u001b[32m嘻嘻。\u001b[0m\u001b[32m\u001b[0m\n"
     ]
    },
    {
     "data": {
      "text/plain": [
       "[{'role': 'user', 'content': '给我写一首2句儿歌'},\n",
       " {'role': 'assistant', 'content': '小星星眨眼睛，月亮妈妈笑嘻嘻。'}]"
      ]
     },
     "execution_count": 4,
     "metadata": {},
     "output_type": "execute_result"
    }
   ],
   "source": [
    "chat(\"给我写一首2句儿歌\", new_chat=True)\n",
    "chat.memory"
   ]
  },
  {
   "cell_type": "code",
   "execution_count": 5,
   "id": "c1c2b322-d6d5-46a1-b9ab-ea6162e65782",
   "metadata": {},
   "outputs": [
    {
     "data": {
      "text/plain": [
       "['992197-9335-0000', '992200-5999-0001']"
      ]
     },
     "execution_count": 5,
     "metadata": {},
     "output_type": "execute_result"
    }
   ],
   "source": [
    "chat.thread_ids"
   ]
  },
  {
   "cell_type": "markdown",
   "id": "8ef4c478-28a9-40b2-909c-34eb378fc26d",
   "metadata": {},
   "source": [
    "### 加载历史对话"
   ]
  },
  {
   "cell_type": "code",
   "execution_count": 6,
   "id": "6fdca7d8-714f-453b-9a1e-2aa0326cc74c",
   "metadata": {},
   "outputs": [
    {
     "data": {
      "text/plain": [
       "[{'role': 'user', 'content': '给我写一首2句儿歌'},\n",
       " {'role': 'assistant', 'content': '小星星眨眼睛，月亮妈妈笑嘻嘻。'}]"
      ]
     },
     "execution_count": 6,
     "metadata": {},
     "output_type": "execute_result"
    }
   ],
   "source": [
    "chat.thread_id\n",
    "chat.memory"
   ]
  },
  {
   "cell_type": "code",
   "execution_count": 7,
   "id": "4f22f835-b492-4fd7-a727-1804e0a46895",
   "metadata": {},
   "outputs": [
    {
     "data": {
      "text/plain": [
       "{'992197-9335-0000': [{'role': 'user', 'content': '给我写一首2句儿歌'},\n",
       "  {'role': 'assistant', 'content': '小星星，亮晶晶，  \\n天上闪烁数不清。'}],\n",
       " '992200-5999-0001': [{'role': 'user', 'content': '给我写一首2句儿歌'},\n",
       "  {'role': 'assistant', 'content': '小星星眨眼睛，月亮妈妈笑嘻嘻。'}]}"
      ]
     },
     "execution_count": 7,
     "metadata": {},
     "output_type": "execute_result"
    }
   ],
   "source": [
    "chat.history.memory"
   ]
  },
  {
   "cell_type": "code",
   "execution_count": 8,
   "id": "b9376223-30c2-4fd7-be7c-acafbb0c15e5",
   "metadata": {},
   "outputs": [
    {
     "data": {
      "text/plain": [
       "[{'role': 'user', 'content': '给我写一首2句儿歌'},\n",
       " {'role': 'assistant', 'content': '小星星，亮晶晶，  \\n天上闪烁数不清。'}]"
      ]
     },
     "execution_count": 8,
     "metadata": {},
     "output_type": "execute_result"
    }
   ],
   "source": [
    "chat.load_memory(-2)\n",
    "chat.memory"
   ]
  },
  {
   "cell_type": "markdown",
   "id": "83fd6ea3-1a59-43ed-b209-47c9100af2bb",
   "metadata": {},
   "source": [
    "### 找回历史连续对话"
   ]
  },
  {
   "cell_type": "code",
   "execution_count": 10,
   "id": "88b66398-2c8a-4784-92d9-d87c1d145f72",
   "metadata": {},
   "outputs": [
    {
     "name": "stdout",
     "output_type": "stream",
     "text": [
      "[USER] \u001b[34m星星能改成月亮？\u001b[0m\n",
      "\u001b[32m当然\u001b[0m\u001b[32m可以\u001b[0m\u001b[32m，\u001b[0m\u001b[32m改\u001b[0m\u001b[32m后的儿歌如下\u001b[0m\u001b[32m：\n",
      "\n",
      "月亮姐姐眨\u001b[0m\u001b[32m眼睛，月亮妈妈\u001b[0m\u001b[32m笑嘻嘻。 \n",
      "\n",
      "\u001b[0m\u001b[32m不过，这样修改\u001b[0m\u001b[32m后，第一句\u001b[0m\u001b[32m中的“眨眼睛\u001b[0m\u001b[32m”可能不太适合\u001b[0m\u001b[32m月亮，因为通常\u001b[0m\u001b[32m我们会用“眨\u001b[0m\u001b[32m眼睛”来形容星星\u001b[0m\u001b[32m。如果你不介\u001b[0m\u001b[32m意的话，我可以\u001b[0m\u001b[32m再调整一下，\u001b[0m\u001b[32m让儿歌更\u001b[0m\u001b[32m自然一些：\n",
      "\n",
      "月亮\u001b[0m\u001b[32m姐姐挂空中，\u001b[0m\u001b[32m月亮妈妈笑嘻嘻\u001b[0m\u001b[32m。\u001b[0m\u001b[32m\u001b[0m\n"
     ]
    },
    {
     "data": {
      "text/plain": [
       "[{'role': 'user', 'content': '给我写一首2句儿歌'},\n",
       " {'role': 'assistant', 'content': '小星星眨眼睛，月亮妈妈笑嘻嘻。'},\n",
       " {'role': 'user', 'content': '星星能改成月亮？'},\n",
       " {'role': 'assistant',\n",
       "  'content': '当然可以，改后的儿歌如下：\\n\\n月亮姐姐眨眼睛，月亮妈妈笑嘻嘻。 \\n\\n不过，这样修改后，第一句中的“眨眼睛”可能不太适合月亮，因为通常我们会用“眨眼睛”来形容星星。如果你不介意的话，我可以再调整一下，让儿歌更自然一些：\\n\\n月亮姐姐挂空中，月亮妈妈笑嘻嘻。'}]"
      ]
     },
     "execution_count": 10,
     "metadata": {},
     "output_type": "execute_result"
    }
   ],
   "source": [
    "chat(\"星星能改成月亮？\")\n",
    "chat.memory"
   ]
  },
  {
   "cell_type": "markdown",
   "id": "125524ff-a0a5-4ced-b096-b5b8af2db69a",
   "metadata": {},
   "source": [
    "## LocalFileHistory"
   ]
  },
  {
   "cell_type": "markdown",
   "id": "040bafd8-37e1-4d5d-b713-964e2111a619",
   "metadata": {},
   "source": [
    "### 空的历史"
   ]
  },
  {
   "cell_type": "code",
   "execution_count": 1,
   "id": "c0be21f1-99e4-41c8-b3cd-ec1cc0c7ab4c",
   "metadata": {},
   "outputs": [
    {
     "data": {
      "text/plain": [
       "['996713-7855-0000', '997004-4538-0001']"
      ]
     },
     "execution_count": 1,
     "metadata": {},
     "output_type": "execute_result"
    }
   ],
   "source": [
    "from illufly.chat import ChatQwen\n",
    "from illufly.io import LocalFileHistory\n",
    "\n",
    "chat = ChatQwen(name=\"qwen\", history=LocalFileHistory())\n",
    "chat.thread_ids"
   ]
  },
  {
   "cell_type": "markdown",
   "id": "d988be15-2d30-4189-b15b-3c85592d74e3",
   "metadata": {},
   "source": [
    "### 写入历史对话"
   ]
  },
  {
   "cell_type": "code",
   "execution_count": 2,
   "id": "3e551302-8486-4df6-acdd-a589489c1c3e",
   "metadata": {},
   "outputs": [
    {
     "name": "stdout",
     "output_type": "stream",
     "text": [
      "[USER] \u001b[34m给我写一首2句儿歌\u001b[0m\n",
      "\u001b[32m小\u001b[0m\u001b[32m星星\u001b[0m\u001b[32m，\u001b[0m\u001b[32m亮\u001b[0m\u001b[32m晶晶，  \n",
      "\u001b[0m\u001b[32m天上闪烁数不清\u001b[0m\u001b[32m。\u001b[0m\u001b[32m\u001b[0m\n"
     ]
    },
    {
     "data": {
      "text/plain": [
       "[{'role': 'user', 'content': '给我写一首2句儿歌'},\n",
       " {'role': 'assistant', 'content': '小星星，亮晶晶，  \\n天上闪烁数不清。'}]"
      ]
     },
     "execution_count": 2,
     "metadata": {},
     "output_type": "execute_result"
    }
   ],
   "source": [
    "chat(\"给我写一首2句儿歌\")\n",
    "chat.memory"
   ]
  },
  {
   "cell_type": "code",
   "execution_count": 3,
   "id": "e68ff518-6b53-45b2-8c8d-9b47c36f020c",
   "metadata": {},
   "outputs": [
    {
     "data": {
      "text/plain": [
       "'/var/folders/f5/rlf27f4n6wzc_k4x7y4vzm5h0000gn/T'"
      ]
     },
     "execution_count": 3,
     "metadata": {},
     "output_type": "execute_result"
    }
   ],
   "source": [
    "import tempfile\n",
    "tempfile.gettempdir()"
   ]
  },
  {
   "cell_type": "code",
   "execution_count": 4,
   "id": "cf46abbc-dd8b-4065-8db9-5544ff7ceea2",
   "metadata": {},
   "outputs": [
    {
     "data": {
      "text/plain": [
       "['996713-7855-0000', '997004-4538-0001']"
      ]
     },
     "execution_count": 4,
     "metadata": {},
     "output_type": "execute_result"
    }
   ],
   "source": [
    "chat.thread_ids"
   ]
  },
  {
   "cell_type": "code",
   "execution_count": 4,
   "id": "d6fb9ae5-2768-421e-b067-c4be42ce5d58",
   "metadata": {},
   "outputs": [
    {
     "name": "stdout",
     "output_type": "stream",
     "text": [
      "[USER] \u001b[34m给我写一首2句儿歌\u001b[0m\n",
      "\u001b[32m小\u001b[0m\u001b[32m星星\u001b[0m\u001b[32m，\u001b[0m\u001b[32m亮\u001b[0m\u001b[32m晶晶，  \n",
      "\u001b[0m\u001b[32m天上地上都是你\u001b[0m\u001b[32m。\u001b[0m\u001b[32m\u001b[0m\n"
     ]
    },
    {
     "data": {
      "text/plain": [
       "[{'role': 'user', 'content': '给我写一首2句儿歌'},\n",
       " {'role': 'assistant', 'content': '小星星，亮晶晶，  \\n天上地上都是你。'}]"
      ]
     },
     "execution_count": 4,
     "metadata": {},
     "output_type": "execute_result"
    }
   ],
   "source": [
    "chat(\"给我写一首2句儿歌\", new_chat=True)\n",
    "chat.memory"
   ]
  },
  {
   "cell_type": "code",
   "execution_count": 5,
   "id": "c6a1aa98-467c-412d-abd1-ba941c2bc80f",
   "metadata": {},
   "outputs": [
    {
     "data": {
      "text/plain": [
       "['995615-9748-0000', '995618-0659-0001']"
      ]
     },
     "execution_count": 5,
     "metadata": {},
     "output_type": "execute_result"
    }
   ],
   "source": [
    "chat.thread_ids"
   ]
  },
  {
   "cell_type": "markdown",
   "id": "b0183f3b-09b4-4a79-ac01-8bda098af94b",
   "metadata": {},
   "source": [
    "### 加载历史对话"
   ]
  },
  {
   "cell_type": "code",
   "execution_count": 6,
   "id": "f04ac6a7-3d63-4bb9-87a3-7e41c4184750",
   "metadata": {},
   "outputs": [
    {
     "data": {
      "text/plain": [
       "[{'role': 'user', 'content': '给我写一首2句儿歌'},\n",
       " {'role': 'assistant', 'content': '小星星，亮晶晶，  \\n天上地上都是你。'}]"
      ]
     },
     "execution_count": 6,
     "metadata": {},
     "output_type": "execute_result"
    }
   ],
   "source": [
    "chat.thread_id\n",
    "chat.memory"
   ]
  },
  {
   "cell_type": "code",
   "execution_count": 7,
   "id": "1908471e-2fd1-4bb8-ad74-a078bfab7cf4",
   "metadata": {},
   "outputs": [
    {
     "data": {
      "text/plain": [
       "[{'role': 'user', 'content': '给我写一首2句儿歌'},\n",
       " {'role': 'assistant', 'content': '小星星，亮晶晶，  \\n天上眨眼数不清。'}]"
      ]
     },
     "execution_count": 7,
     "metadata": {},
     "output_type": "execute_result"
    }
   ],
   "source": [
    "chat.load_memory(-2)\n",
    "chat.memory"
   ]
  },
  {
   "cell_type": "markdown",
   "id": "0ff3d55c-677a-4628-9fd5-f3c19ca9a4af",
   "metadata": {},
   "source": [
    "## 扩展持久化子类\n",
    "\n",
    "参考内存持久化子类。"
   ]
  },
  {
   "cell_type": "code",
   "execution_count": null,
   "id": "48f956dc-a3aa-426b-b3a2-c6c153ee030f",
   "metadata": {},
   "outputs": [],
   "source": [
    "import os\n",
    "import json\n",
    "import copy\n",
    "from typing import Union, List\n",
    "from illufly.types import BaseHistory\n",
    "\n",
    "class InMemoryHistory(BaseHistory):\n",
    "    \"\"\"基于内存的记忆管理\"\"\"\n",
    "\n",
    "    def __init__(self, memory: dict = {}, **kwargs):\n",
    "        super().__init__(**kwargs)\n",
    "        self.memory = memory or {}\n",
    "\n",
    "    def last_thread_id_count(self):\n",
    "        all_thread_ids = self.list_threads()\n",
    "        if all_thread_ids:\n",
    "            ids = all_thread_ids[-1].split(\"-\")\n",
    "            return int(ids[-1]) + 1\n",
    "        else:\n",
    "            return 0\n",
    "\n",
    "    # 列举所有记忆线\n",
    "    def list_threads(self):\n",
    "        return sorted(self.memory.keys())\n",
    "\n",
    "    def save_memory(self, thread_id: str, memory: List[dict]):\n",
    "        self.memory[thread_id] = copy.deepcopy(memory)\n",
    "\n",
    "    def load_memory(self, thread_id: Union[str, int] = None):\n",
    "        \"\"\"\n",
    "        加载记忆。\n",
    "\n",
    "        如果 thread_id 是字符串，则直接加载指定线程的记忆；\n",
    "        如果 thread_id 是整数，则将其当作索引，例如 thread_id=-1 表示加载最近一轮对话的记忆。\n",
    "        \"\"\"\n",
    "        _thread_id = thread_id\n",
    "        if isinstance(thread_id, str):\n",
    "            return _thread_id, self.memory.get(thread_id, [])\n",
    "        elif isinstance(thread_id, int):\n",
    "            all_threads = self.list_threads()\n",
    "            if all_threads:\n",
    "                _thread_id = all_threads[thread_id]\n",
    "                return _thread_id, self.memory.get(_thread_id, [])\n",
    "\n",
    "        return _thread_id, []"
   ]
  },
  {
   "cell_type": "code",
   "execution_count": null,
   "id": "8a1c84c5-9387-4c7d-9644-25ed52b44199",
   "metadata": {},
   "outputs": [],
   "source": []
  }
 ],
 "metadata": {
  "kernelspec": {
   "display_name": "textlong-same-ipykernel",
   "language": "python",
   "name": "textlong-same-ipykernel"
  },
  "language_info": {
   "codemirror_mode": {
    "name": "ipython",
    "version": 3
   },
   "file_extension": ".py",
   "mimetype": "text/x-python",
   "name": "python",
   "nbconvert_exporter": "python",
   "pygments_lexer": "ipython3",
   "version": "3.10.0"
  }
 },
 "nbformat": 4,
 "nbformat_minor": 5
}
