{
 "cells": [
  {
   "cell_type": "markdown",
   "id": "df8879fd-83c8-49ca-84d1-3bd230bed0cd",
   "metadata": {},
   "source": [
    "## RouterAgent\n",
    "\n",
    "智能体路由可以扩展为更广泛的场景，比如根据不同的工具集合、向量库类型等，配置为不同的智能体，\n",
    "然后根据用户的意图和场景，使用 RouterAgent 动态选择最佳的智能体。\n",
    "\n",
    "RouterAgent 有两个参数：\n",
    "- condition 选择函数，可以是普通函数、 lambda 函数，或者实现了 `__call__` 方法的对象\n",
    "    - condition 接受两个参数，一是提示语，二是智能体名称列表\n",
    "- agents 智能体列表"
   ]
  },
  {
   "cell_type": "markdown",
   "id": "2629800f-d848-48c2-ad29-c17781756c48",
   "metadata": {},
   "source": [
    "### 基础示范"
   ]
  },
  {
   "cell_type": "code",
   "execution_count": 3,
   "id": "934242d2-87f8-4b2d-bfc5-499ced7378a1",
   "metadata": {},
   "outputs": [
    {
     "name": "stdout",
     "output_type": "stream",
     "text": [
      "\u001b[32m这\u001b[0m\u001b[32m是\u001b[0m\u001b[32m一个\u001b[0m\u001b[32m模拟\u001b[0m\u001b[32m调用\u001b[0m\u001b[32m!\u001b[0m"
     ]
    },
    {
     "data": {
      "text/plain": [
       "'这是一个模拟调用!'"
      ]
     },
     "execution_count": 3,
     "metadata": {},
     "output_type": "execute_result"
    }
   ],
   "source": [
    "from illufly.types import RouterAgent\n",
    "from illufly.chat import ChatQwen, ChatZhipu, FakeLLM\n",
    "\n",
    "def myfunc(agents, consumer_dict):\n",
    "    return agents[0]\n",
    "\n",
    "agent = RouterAgent(myfunc, [FakeLLM(), ChatQwen(), ChatZhipu()])\n",
    "agent.bind_provider({\"task\": \"写一首歌\"})\n",
    "\n",
    "agent(\"你是什么模型？\")"
   ]
  },
  {
   "cell_type": "code",
   "execution_count": 4,
   "id": "419421aa-ed46-441c-b2c4-dbb844d69769",
   "metadata": {},
   "outputs": [
    {
     "data": {
      "text/plain": [
       "<FakeLLM.4425535632>"
      ]
     },
     "execution_count": 4,
     "metadata": {},
     "output_type": "execute_result"
    }
   ],
   "source": [
    "agent.selected"
   ]
  },
  {
   "cell_type": "markdown",
   "id": "eaccc94c-86db-43df-bb86-2b469a43098e",
   "metadata": {},
   "source": [
    "### 路由 ChatAgent\n",
    "\n",
    "考虑到你有两个专业的 ChatAgent:\n",
    "\n",
    "- data_agent 擅长数据分析\n",
    "- writer_agent 擅长写作\n",
    "\n",
    "你已经根据为他们分别配置了提示语模板、工具集、数据库等，但现在你需要根据用户的意图匹配到底使用哪一个智能体。<br>\n",
    "\n",
    "那么如何判断用户意图呢？\n",
    "- 方案1 可以使用大模型来做甄别，这会增加一个环节，推理过程可能延长用户的等待\n",
    "- 方案2 可以根据问题做文本相似性比较，这样做效率很高\n",
    "\n",
    "我们的例子中探讨方案2如何实现，关键就是与什么做比较？\n",
    "\n",
    "原始的可比较信息是：用户问题与智能体描述文本之间的比较，但这明显不太够用。<br>\n",
    "可以使用**检索器**和**经验缓存**来弥补。\n"
   ]
  },
  {
   "cell_type": "code",
   "execution_count": 8,
   "id": "894f4bfa-e490-4ead-bc6b-49a02053fe7b",
   "metadata": {},
   "outputs": [
    {
     "data": {
      "text/plain": [
       "{'task': '写一首歌'}"
      ]
     },
     "execution_count": 8,
     "metadata": {},
     "output_type": "execute_result"
    }
   ],
   "source": [
    "agent.consumer_dict"
   ]
  },
  {
   "cell_type": "markdown",
   "id": "9de28635-ab3c-4b24-9541-1f63fad9d5c2",
   "metadata": {},
   "source": [
    "### 路由 Template"
   ]
  },
  {
   "cell_type": "code",
   "execution_count": 17,
   "id": "6db8ec60-3de3-4b0d-b7d7-168f4124368e",
   "metadata": {},
   "outputs": [
    {
     "data": {
      "text/plain": [
       "<Template consumer_dict={'task'} text='请帮我：{{task}}'>"
      ]
     },
     "execution_count": 17,
     "metadata": {},
     "output_type": "execute_result"
    }
   ],
   "source": [
    "from illufly.types import Template, RouterAgent\n",
    "\n",
    "r = RouterAgent(\n",
    "    condition=lambda runs, vars: runs[0],\n",
    "    runnables=[Template(text=\"请帮我：{{task}}\"), Template(text=\"你是一个作家\")]\n",
    ")\n",
    "r.bind_provider({\"task\": \"写一首歌\"})\n",
    "\n",
    "r.selected"
   ]
  },
  {
   "cell_type": "markdown",
   "id": "5721697a-d4ee-4601-9e08-8f0c072784df",
   "metadata": {},
   "source": [
    "使用 lazy_binding_map 可以先声明对象，然后在合适的时机自动实现绑定。"
   ]
  },
  {
   "cell_type": "code",
   "execution_count": 16,
   "id": "e71427d8-9b51-4207-ab2d-38762a684456",
   "metadata": {},
   "outputs": [
    {
     "name": "stdout",
     "output_type": "stream",
     "text": [
      "\u001b[32m你可以\u001b[0m\u001b[32m为\u001b[0m\u001b[32m你的\u001b[0m\u001b[32m小\u001b[0m\u001b[32m兔子起名\"\u001b[0m\u001b[32m兔小宝\"\u001b[0m\u001b[32m，这个名字既可爱\u001b[0m\u001b[32m又富有亲和\u001b[0m\u001b[32m力。\u001b[0m\u001b[32m\u001b[0m\n"
     ]
    },
    {
     "data": {
      "text/plain": [
       "'你可以为你的小兔子起名\"兔小宝\"，这个名字既可爱又富有亲和力。'"
      ]
     },
     "execution_count": 16,
     "metadata": {},
     "output_type": "execute_result"
    }
   ],
   "source": [
    "from illufly.chat import ChatQwen\n",
    "from illufly.types import Template, RouterAgent\n",
    "\n",
    "t = RouterAgent(\n",
    "    lambda runs, vars: runs[1], \n",
    "    [\n",
    "        Template(text=\"请帮我写一首关于《{{task}}》的儿歌，四句\"),\n",
    "        Template(text=\"请帮我起一个{{name}}的名字，3个字\", lazy_binding_map={\"name\": \"task\"})\n",
    "    ]\n",
    ")\n",
    "qwen = ChatQwen(memory=[t])\n",
    "qwen(\"小兔子\")"
   ]
  },
  {
   "cell_type": "code",
   "execution_count": 13,
   "id": "86528e0c-1914-4633-a595-e2554ddf06ab",
   "metadata": {},
   "outputs": [
    {
     "data": {
      "text/plain": [
       "{'last_output': '(一)\\n天空的云飘过，心中有无数话要说，\\n岁月如流水，带走了青春的梦想。\\n每一天的日出，唤醒我沉睡的灵魂，\\n让我继续向前走，不再回头。\\n\\n(二)\\n人生的路漫长，有时候会感到孤单，\\n但我知道，我不是一个人在战斗。\\n每一步的脚印，都是我成长的见证，\\n让我更加坚强，不再害怕跌倒。\\n\\n(副歌)\\n我要唱一首歌，为那些曾经的挫折，\\n为那些曾经的努力，为那些曾经的自己。\\n我要唱一首歌，为那些未来的希望，\\n为那些未来的梦想，为那些未来的自己。\\n\\n(桥段)\\n无论前方有多少困难，我都会勇敢地面对，\\n因为我知道，只有这样，才能让自己变得更好。\\n我会一直坚持下去，直到最后的胜利，\\n因为我相信，只要努力，就一定能够实现梦想。\\n\\n(副歌)\\n我要唱一首歌，为那些曾经的挫折，\\n为那些曾经的努力，为那些曾经的自己。\\n我要唱一首歌，为那些未来的希望，\\n为那些未来的梦想，为那些未来的自己。\\n\\n(尾声)\\n我要唱一首歌，为自己，\\n为自己加油，为自己打气，\\n为自己唱一首歌。',\n",
       " 'resources': '',\n",
       " 'task': '写一首歌',\n",
       " 'tools_name': '',\n",
       " 'tools_desc': '',\n",
       " 'knowledge': []}"
      ]
     },
     "execution_count": 13,
     "metadata": {},
     "output_type": "execute_result"
    }
   ],
   "source": [
    "t.provider_dict"
   ]
  },
  {
   "cell_type": "markdown",
   "id": "70455f2a-ceb2-4f9d-9a94-3055d3d5a29c",
   "metadata": {},
   "source": [
    "### 路由 Retrieval"
   ]
  },
  {
   "cell_type": "markdown",
   "id": "39c0e90b-b528-4d75-aeb5-edb92ce102d9",
   "metadata": {},
   "source": [
    "### 路由 VectorDB"
   ]
  },
  {
   "cell_type": "code",
   "execution_count": null,
   "id": "9c544a8f-b1eb-46a7-94c6-95cc2a7c102b",
   "metadata": {},
   "outputs": [],
   "source": []
  }
 ],
 "metadata": {
  "kernelspec": {
   "display_name": "textlong-same-ipykernel",
   "language": "python",
   "name": "textlong-same-ipykernel"
  },
  "language_info": {
   "codemirror_mode": {
    "name": "ipython",
    "version": 3
   },
   "file_extension": ".py",
   "mimetype": "text/x-python",
   "name": "python",
   "nbconvert_exporter": "python",
   "pygments_lexer": "ipython3",
   "version": "3.10.0"
  }
 },
 "nbformat": 4,
 "nbformat_minor": 5
}
