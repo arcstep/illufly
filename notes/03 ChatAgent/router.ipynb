{
 "cells": [
  {
   "cell_type": "markdown",
   "id": "df8879fd-83c8-49ca-84d1-3bd230bed0cd",
   "metadata": {},
   "source": [
    "## RouterAgent\n",
    "\n",
    "智能体路由可以扩展为更广泛的场景，比如根据不同的工具集合、向量库类型等，配置为不同的智能体，\n",
    "然后根据用户的意图和场景，使用 RouterAgent 动态选择最佳的智能体。\n",
    "\n",
    "RouterAgent 有两个参数：\n",
    "- condition 选择函数，可以是普通函数、 lambda 函数，或者实现了 `__call__` 方法的对象\n",
    "    - condition 接受两个参数，一是提示语，二是智能体名称列表\n",
    "- agents 智能体列表"
   ]
  },
  {
   "cell_type": "code",
   "execution_count": 1,
   "id": "934242d2-87f8-4b2d-bfc5-499ced7378a1",
   "metadata": {},
   "outputs": [
    {
     "name": "stdout",
     "output_type": "stream",
     "text": [
      "\u001b[32m我是一个\u001b[0m\u001b[32m基于\u001b[0m\u001b[32m人工智能\u001b[0m\u001b[32m的语言\u001b[0m\u001b[32m模型\u001b[0m\u001b[32m，\u001b[0m\u001b[32m具体\u001b[0m\u001b[32m来说是\u001b[0m\u001b[32m基于\u001b[0m\u001b[32m清华大学\u001b[0m\u001b[32m K\u001b[0m\u001b[32mEG\u001b[0m\u001b[32m 实\u001b[0m\u001b[32m验\u001b[0m\u001b[32m室\u001b[0m\u001b[32m和\u001b[0m\u001b[32m智\u001b[0m\u001b[32m谱\u001b[0m\u001b[32m AI\u001b[0m\u001b[32m 公司\u001b[0m\u001b[32m于\u001b[0m\u001b[32m \u001b[0m\u001b[32m202\u001b[0m\u001b[32m4\u001b[0m\u001b[32m 年\u001b[0m\u001b[32m共同\u001b[0m\u001b[32m训练\u001b[0m\u001b[32m的语言\u001b[0m\u001b[32m模型\u001b[0m\u001b[32m GL\u001b[0m\u001b[32mM\u001b[0m\u001b[32m-\u001b[0m\u001b[32m4\u001b[0m\u001b[32m。\u001b[0m\u001b[32m我的\u001b[0m\u001b[32m任务是\u001b[0m\u001b[32m针对\u001b[0m\u001b[32m用户\u001b[0m\u001b[32m的问题\u001b[0m\u001b[32m和要求\u001b[0m\u001b[32m提供\u001b[0m\u001b[32m适当的\u001b[0m\u001b[32m答复\u001b[0m\u001b[32m和支持\u001b[0m\u001b[32m。\u001b[0m\n"
     ]
    },
    {
     "data": {
      "text/plain": [
       "'我是一个基于人工智能的语言模型，具体来说是基于清华大学 KEG 实验室和智谱 AI 公司于 2024 年共同训练的语言模型 GLM-4。我的任务是针对用户的问题和要求提供适当的答复和支持。'"
      ]
     },
     "execution_count": 1,
     "metadata": {},
     "output_type": "execute_result"
    }
   ],
   "source": [
    "from illufly.types import RouterAgent\n",
    "from illufly.chat import ChatQwen, ChatZhipu, FakeLLM\n",
    "\n",
    "agent = RouterAgent(\n",
    "    (lambda prompt, names: \"Zhipu\"),\n",
    "    [FakeLLM(), ChatQwen(), ChatZhipu()]\n",
    ")\n",
    "\n",
    "agent(\"你是什么模型？\")"
   ]
  },
  {
   "cell_type": "code",
   "execution_count": null,
   "id": "9c544a8f-b1eb-46a7-94c6-95cc2a7c102b",
   "metadata": {},
   "outputs": [],
   "source": []
  }
 ],
 "metadata": {
  "kernelspec": {
   "display_name": "textlong-same-ipykernel",
   "language": "python",
   "name": "textlong-same-ipykernel"
  },
  "language_info": {
   "codemirror_mode": {
    "name": "ipython",
    "version": 3
   },
   "file_extension": ".py",
   "mimetype": "text/x-python",
   "name": "python",
   "nbconvert_exporter": "python",
   "pygments_lexer": "ipython3",
   "version": "3.10.0"
  }
 },
 "nbformat": 4,
 "nbformat_minor": 5
}
