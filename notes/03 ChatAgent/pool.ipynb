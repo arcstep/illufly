{
 "cells": [
  {
   "cell_type": "markdown",
   "id": "54b22e45-e4e3-428a-a7e4-c03cbc5224a0",
   "metadata": {},
   "source": [
    "## 从 ChatAgent 池中临时选择"
   ]
  },
  {
   "cell_type": "code",
   "execution_count": 2,
   "id": "a9d64356-8eb4-431e-9ca9-ee497a1246a5",
   "metadata": {},
   "outputs": [
    {
     "name": "stdout",
     "output_type": "stream",
     "text": [
      "\u001b[32m这\u001b[0m\u001b[32m是\u001b[0m\u001b[32m一个\u001b[0m\u001b[32m模拟\u001b[0m\u001b[32m调用\u001b[0m\u001b[32m!\u001b[0m"
     ]
    },
    {
     "data": {
      "text/plain": [
       "'这是一个模拟调用!'"
      ]
     },
     "execution_count": 2,
     "metadata": {},
     "output_type": "execute_result"
    }
   ],
   "source": [
    "from illufly.chat import FakeLLM, ChatQwen, ChatPool\n",
    "\n",
    "chat = ChatPool(\n",
    "    FakeLLM(name=\"fake\"),\n",
    "    ChatQwen(name=\"qwen\")\n",
    ")\n",
    "chat(\"你是什么模型？\", select=lambda x: \"fake\")"
   ]
  },
  {
   "cell_type": "code",
   "execution_count": null,
   "id": "7c5382a0-fa1d-43af-a7a9-d23acd76b800",
   "metadata": {},
   "outputs": [],
   "source": []
  }
 ],
 "metadata": {
  "kernelspec": {
   "display_name": "textlong-same-ipykernel",
   "language": "python",
   "name": "textlong-same-ipykernel"
  },
  "language_info": {
   "codemirror_mode": {
    "name": "ipython",
    "version": 3
   },
   "file_extension": ".py",
   "mimetype": "text/x-python",
   "name": "python",
   "nbconvert_exporter": "python",
   "pygments_lexer": "ipython3",
   "version": "3.10.0"
  }
 },
 "nbformat": 4,
 "nbformat_minor": 5
}
