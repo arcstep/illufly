{
 "cells": [
  {
   "cell_type": "markdown",
   "id": "da98f921-9593-4c88-a834-83fca514bccf",
   "metadata": {},
   "source": [
    "## 一、生成逻辑"
   ]
  },
  {
   "cell_type": "code",
   "execution_count": 1,
   "id": "3dd078b9-beea-45a1-9be9-828d0ffd30af",
   "metadata": {},
   "outputs": [
    {
     "name": "stderr",
     "output_type": "stream",
     "text": [
      "INFO:chromadb.telemetry.product.posthog:Anonymized telemetry enabled. See                     https://docs.trychroma.com/telemetry for more information.\n"
     ]
    }
   ],
   "source": [
    "from illufly.community.openai import OpenAIEmbeddings\n",
    "from illufly.community.chroma.chroma_db import ChromaDB\n",
    "from illufly.community.openai import ChatOpenAI\n",
    "from illufly.memory.kg import KnowledgeGraph\n",
    "from illufly.utils import extract_segments\n",
    "from illufly.rocksdb import IndexedRocksDB\n",
    "\n",
    "import logging\n",
    "logging.basicConfig(level=logging.INFO, force=True)\n",
    "\n",
    "db_path = \"__mydb\"\n",
    "user_id = \"12345678\"\n",
    "\n",
    "docs_db = IndexedRocksDB(db_path)\n",
    "vdb = ChromaDB(embeddings=OpenAIEmbeddings(db=docs_db))\n",
    "openai = ChatOpenAI(imitator=\"QWEN\", model=\"qwen-plus\")\n",
    "kg = KnowledgeGraph(llm=openai, vector_db=vdb, docs_db=docs_db)"
   ]
  },
  {
   "cell_type": "code",
   "execution_count": 4,
   "id": "3506f4eb-cb22-4eb8-acec-29ae20e9d7a8",
   "metadata": {},
   "outputs": [
    {
     "name": "stderr",
     "output_type": "stream",
     "text": [
      "INFO:illufly.memory.kg:[12345678:8d8c198ded61dd169bb77c4498c0882d] 加载到向量数据库 turtle_text: \n",
      "@prefix m: <http://illufly.com/12345678/memory#> .\n",
      "\n",
      "m:广州鸿蒙 m:主营业务 \"税务局客户信息化服务\" .\n",
      "INFO:illufly.memory.kg:[12345678:dbfafea0a20896359a023fffeda044e0] 加载到向量数据库 turtle_text: \n",
      "@prefix m: <http://illufly.com/12345678/memory#> .\n",
      "\n",
      "m:广州鸿蒙 m:企业年龄 \"15\" .\n",
      "INFO:illufly.memory.kg:[12345678:dbdf57081dd7ca344c6e557e59c0c9e5] 加载到向量数据库 turtle_text: \n",
      "@prefix m: <http://illufly.com/12345678/memory#> .\n",
      "\n",
      "m:广州鸿蒙 m:成立年份 \"2008\" .\n",
      "INFO:illufly.memory.kg:[3] 条知识已加载\n"
     ]
    }
   ],
   "source": [
    "await kg.init(user_id)"
   ]
  },
  {
   "cell_type": "markdown",
   "id": "44feae43-ea21-47c3-8a7e-3ee3cfcd8cdc",
   "metadata": {},
   "source": [
    "### 生成Turtle表达式"
   ]
  },
  {
   "cell_type": "code",
   "execution_count": 5,
   "id": "1714332c-4467-4347-90ab-4a28c776abca",
   "metadata": {},
   "outputs": [
    {
     "name": "stderr",
     "output_type": "stream",
     "text": [
      "WARNING:chromadb.segment.impl.vector.local_hnsw:Number of requested results 5 is greater than number of elements in index 3, updating n_results = 3\n",
      "INFO:httpx:HTTP Request: POST https://dashscope.aliyuncs.com/compatible-mode/v1/chat/completions \"HTTP/1.1 200 OK\"\n",
      "INFO:illufly.memory.kg:[12345678:8d8c198ded61dd169bb77c4498c0882d] 加载到向量数据库 turtle_text: \n",
      "@prefix m: <http://illufly.com/12345678/memory#> .\n",
      "\n",
      "m:广州鸿蒙 m:主营业务 \"税务局客户信息化服务\" .\n",
      "INFO:illufly.memory.kg:[12345678:dbfafea0a20896359a023fffeda044e0] 加载到向量数据库 turtle_text: \n",
      "@prefix m: <http://illufly.com/12345678/memory#> .\n",
      "\n",
      "m:广州鸿蒙 m:企业年龄 \"15\" .\n",
      "INFO:illufly.memory.kg:[12345678:dbdf57081dd7ca344c6e557e59c0c9e5] 加载到向量数据库 turtle_text: \n",
      "@prefix m: <http://illufly.com/12345678/memory#> .\n",
      "\n",
      "m:广州鸿蒙 m:成立年份 \"2008\" .\n"
     ]
    },
    {
     "data": {
      "text/plain": [
       "'@prefix m: <http://illufly.com/12345678/memory#> .\\n@prefix prov: <http://www.w3.org/ns/prov#> .\\n@prefix rdfs: <http://www.w3.org/2000/01/rdf-schema#> .\\n@prefix xsd: <http://www.w3.org/2001/XMLSchema#> .\\n\\n# 现有三元组已包含以下信息，无需重复生成\\nm:广州鸿蒙 m:主营业务 \"税务局客户信息化服务\" ;\\n    m:企业年龄 \"15\" ;\\n    m:成立年份 \"2008\" .'"
      ]
     },
     "execution_count": 5,
     "metadata": {},
     "output_type": "execute_result"
    }
   ],
   "source": [
    "await kg.extract(\n",
    "    \"广州鸿蒙成立于2008年，是一家15年的信息化企业，主营业务是做税务局客户\",\n",
    "    user_id=user_id\n",
    ")"
   ]
  },
  {
   "cell_type": "code",
   "execution_count": 6,
   "id": "b7fb6ef4-d90c-4842-96b2-fc0c632b7e80",
   "metadata": {},
   "outputs": [
    {
     "name": "stderr",
     "output_type": "stream",
     "text": [
      "INFO:httpx:HTTP Request: POST https://api.pumpkinaigc.online/v1/embeddings \"HTTP/1.1 200 OK\"\n",
      "INFO:OpenAIEmbeddings:嵌入 `《赘婿》是一本古代穿越网络小说，主角是现` 等 1 个文本\n",
      "WARNING:chromadb.segment.impl.vector.local_hnsw:Number of requested results 5 is greater than number of elements in index 3, updating n_results = 3\n",
      "INFO:httpx:HTTP Request: POST https://dashscope.aliyuncs.com/compatible-mode/v1/chat/completions \"HTTP/1.1 200 OK\"\n",
      "INFO:illufly.memory.kg:[12345678:62ebbafe382e86c03f1f97e5c31fd34b] 加载到向量数据库 turtle_text: \n",
      "@prefix m: <http://illufly.com/12345678/memory#> .\n",
      "\n",
      "m:赘婿 m:主角关系 \"宁毅和他的几个老婆\" .\n",
      "INFO:illufly.memory.kg:[12345678:891afb94f347f103faacf537e7594a25] 加载到向量数据库 turtle_text: \n",
      "@prefix m: <http://illufly.com/12345678/memory#> .\n",
      "\n",
      "m:赘婿 m:包含元素 \"战争\" .\n",
      "INFO:illufly.memory.kg:[12345678:014ea7d08663ee4e3ce6b111ac1c9afd] 加载到向量数据库 turtle_text: \n",
      "@prefix m: <http://illufly.com/12345678/memory#> .\n",
      "\n",
      "m:赘婿 m:类型 \"古代穿越网络小说\" .\n",
      "INFO:illufly.memory.kg:[12345678:3ce09a69bff906bfc96c97a6bcfce444] 加载到向量数据库 turtle_text: \n",
      "@prefix m: <http://illufly.com/12345678/memory#> .\n",
      "\n",
      "m:赘婿 m:主角 \"宁毅\" .\n",
      "INFO:illufly.memory.kg:[12345678:9dde86baa899d964a326b380ac81c332] 加载到向量数据库 turtle_text: \n",
      "@prefix m: <http://illufly.com/12345678/memory#> .\n",
      "\n",
      "m:赘婿 m:包含元素 \"权谋\" .\n",
      "INFO:illufly.memory.kg:[12345678:a532f0f70c169a88e7c684c2dc266819] 加载到向量数据库 turtle_text: \n",
      "@prefix m: <http://illufly.com/12345678/memory#> .\n",
      "\n",
      "m:赘婿 m:包含元素 \"武林\" .\n",
      "INFO:httpx:HTTP Request: POST https://api.pumpkinaigc.online/v1/embeddings \"HTTP/1.1 200 OK\"\n",
      "INFO:OpenAIEmbeddings:嵌入 `(赘婿 - 主角关系 - 宁毅和他的几个` 等 5 个文本\n",
      "INFO:httpx:HTTP Request: POST https://api.pumpkinaigc.online/v1/embeddings \"HTTP/1.1 200 OK\"\n",
      "INFO:OpenAIEmbeddings:嵌入 `(赘婿 - 包含元素 - 武林)\n",
      "@pr` 等 1 个文本\n"
     ]
    },
    {
     "data": {
      "text/plain": [
       "'@prefix m: <http://illufly.com/12345678/memory#> .\\n@prefix prov: <http://www.w3.org/ns/prov#> .\\n@prefix rdfs: <http://www.w3.org/2000/01/rdf-schema#> .\\n@prefix xsd: <http://www.w3.org/2001/XMLSchema#> .\\n\\nm:赘婿 m:类型 \"古代穿越网络小说\" ;\\n    m:主角 \"宁毅\" ;\\n    m:包含元素 \"权谋\", \"战争\", \"武林\" ;\\n    m:主角关系 \"宁毅和他的几个老婆\" .'"
      ]
     },
     "execution_count": 6,
     "metadata": {},
     "output_type": "execute_result"
    }
   ],
   "source": [
    "await kg.extract(\"《赘婿》是一本古代穿越网络小说，主角是现代人穿越过去，包括权谋、战争、武林，主角有宁毅和他几个老婆\", user_id=user_id)"
   ]
  },
  {
   "cell_type": "code",
   "execution_count": 7,
   "id": "daf8e1ab-02a6-4dda-894f-cafc588314f3",
   "metadata": {},
   "outputs": [
    {
     "data": {
      "text/plain": [
       "[(rdflib.term.URIRef('http://illufly.com/12345678/memory#赘婿'),\n",
       "  rdflib.term.URIRef('http://illufly.com/12345678/memory#主角关系'),\n",
       "  rdflib.term.Literal('宁毅和他的几个老婆')),\n",
       " (rdflib.term.URIRef('http://illufly.com/12345678/memory#广州鸿蒙'),\n",
       "  rdflib.term.URIRef('http://illufly.com/12345678/memory#主营业务'),\n",
       "  rdflib.term.Literal('税务局客户信息化服务')),\n",
       " (rdflib.term.URIRef('http://illufly.com/12345678/memory#赘婿'),\n",
       "  rdflib.term.URIRef('http://illufly.com/12345678/memory#包含元素'),\n",
       "  rdflib.term.Literal('战争')),\n",
       " (rdflib.term.URIRef('http://illufly.com/12345678/memory#赘婿'),\n",
       "  rdflib.term.URIRef('http://illufly.com/12345678/memory#包含元素'),\n",
       "  rdflib.term.Literal('武林')),\n",
       " (rdflib.term.URIRef('http://illufly.com/12345678/memory#赘婿'),\n",
       "  rdflib.term.URIRef('http://illufly.com/12345678/memory#类型'),\n",
       "  rdflib.term.Literal('古代穿越网络小说')),\n",
       " (rdflib.term.URIRef('http://illufly.com/12345678/memory#赘婿'),\n",
       "  rdflib.term.URIRef('http://illufly.com/12345678/memory#主角'),\n",
       "  rdflib.term.Literal('宁毅')),\n",
       " (rdflib.term.URIRef('http://illufly.com/12345678/memory#广州鸿蒙'),\n",
       "  rdflib.term.URIRef('http://illufly.com/12345678/memory#企业年龄'),\n",
       "  rdflib.term.Literal('15')),\n",
       " (rdflib.term.URIRef('http://illufly.com/12345678/memory#赘婿'),\n",
       "  rdflib.term.URIRef('http://illufly.com/12345678/memory#包含元素'),\n",
       "  rdflib.term.Literal('权谋')),\n",
       " (rdflib.term.URIRef('http://illufly.com/12345678/memory#广州鸿蒙'),\n",
       "  rdflib.term.URIRef('http://illufly.com/12345678/memory#成立年份'),\n",
       "  rdflib.term.Literal('2008'))]"
      ]
     },
     "execution_count": 7,
     "metadata": {},
     "output_type": "execute_result"
    }
   ],
   "source": [
    "list(kg.graph)"
   ]
  },
  {
   "cell_type": "code",
   "execution_count": 8,
   "id": "a2cf0c5f-39b4-46bd-8eca-dd9aac3205f3",
   "metadata": {},
   "outputs": [
    {
     "name": "stderr",
     "output_type": "stream",
     "text": [
      "INFO:httpx:HTTP Request: POST https://api.pumpkinaigc.online/v1/embeddings \"HTTP/1.1 200 OK\"\n",
      "INFO:OpenAIEmbeddings:嵌入 `软件` 等 1 个文本\n"
     ]
    },
    {
     "name": "stdout",
     "output_type": "stream",
     "text": [
      "(广州鸿蒙 主营业务 税务局客户信息化服务)\n",
      "(赘婿 类型 古代穿越网络小说)\n"
     ]
    }
   ],
   "source": [
    "print(await kg.query(\"软件\", user_id=user_id, limit=4))"
   ]
  },
  {
   "cell_type": "code",
   "execution_count": 9,
   "id": "d1b5c0fa-9362-409d-8673-27c01732e820",
   "metadata": {},
   "outputs": [
    {
     "name": "stderr",
     "output_type": "stream",
     "text": [
      "INFO:httpx:HTTP Request: POST https://api.pumpkinaigc.online/v1/embeddings \"HTTP/1.1 200 OK\"\n",
      "INFO:OpenAIEmbeddings:嵌入 `税务` 等 1 个文本\n"
     ]
    },
    {
     "name": "stdout",
     "output_type": "stream",
     "text": [
      "(广州鸿蒙 主营业务 税务局客户信息化服务)\n",
      "(广州鸿蒙 企业年龄 15)\n"
     ]
    }
   ],
   "source": [
    "print(await kg.query(\"税务\", user_id))"
   ]
  },
  {
   "cell_type": "code",
   "execution_count": 10,
   "id": "814dfa73-de4d-48ca-9813-e05058ca81ff",
   "metadata": {},
   "outputs": [
    {
     "name": "stderr",
     "output_type": "stream",
     "text": [
      "INFO:httpx:HTTP Request: POST https://api.pumpkinaigc.online/v1/embeddings \"HTTP/1.1 200 OK\"\n",
      "INFO:OpenAIEmbeddings:嵌入 `广州鸿蒙成立于2007年，是一家18年的` 等 1 个文本\n",
      "INFO:httpx:HTTP Request: POST https://dashscope.aliyuncs.com/compatible-mode/v1/chat/completions \"HTTP/1.1 200 OK\"\n",
      "INFO:illufly.memory.kg:[12345678:f01946cd536947212875f65fc9a1baf0] 加载到向量数据库 turtle_text: \n",
      "@prefix prov: <http://www.w3.org/ns/prov#> .\n",
      "\n",
      "[] a prov:Activity .\n",
      "INFO:illufly.memory.kg:[12345678:4aed36116f2dc27b64e187ce73803116] 加载到向量数据库 turtle_text: \n",
      "@prefix m: <http://illufly.com/12345678/memory#> .\n",
      "\n",
      "m:广州鸿蒙 m:董事长 \"王春辉\" .\n",
      "INFO:illufly.memory.kg:[12345678:267903456a18a0a567d87d4c552dbb56] 加载到向量数据库 turtle_text: \n",
      "@prefix m: <http://illufly.com/12345678/memory#> .\n",
      "@prefix prov: <http://www.w3.org/ns/prov#> .\n",
      "\n",
      "m:广州鸿蒙 prov:wasInvalidatedBy [ ] .\n",
      "INFO:illufly.memory.kg:[12345678:f01946cd536947212875f65fc9a1baf0] 加载到向量数据库 turtle_text: \n",
      "@prefix prov: <http://www.w3.org/ns/prov#> .\n",
      "\n",
      "[] a prov:Activity .\n",
      "INFO:illufly.memory.kg:[12345678:25c5ff229337d5c1c6623091b88599c4] 加载到向量数据库 turtle_text: \n",
      "@prefix m: <http://illufly.com/12345678/memory#> .\n",
      "\n",
      "m:广州鸿蒙 m:成立年份 \"2007\" .\n",
      "INFO:illufly.memory.kg:[12345678:612955d70bc932f713bc5a965dc60af0] 加载到向量数据库 turtle_text: \n",
      "@prefix rdfs: <http://www.w3.org/2000/01/rdf-schema#> .\n",
      "\n",
      "[] rdfs:label \"成立年份更正\" .\n",
      "INFO:illufly.memory.kg:[12345678:d80be9ffd9d425bdaff3d05c83252310] 加载到向量数据库 turtle_text: \n",
      "@prefix m: <http://illufly.com/12345678/memory#> .\n",
      "@prefix prov: <http://www.w3.org/ns/prov#> .\n",
      "\n",
      "[] prov:invalidatedPredicate m:企业年龄 .\n",
      "INFO:illufly.memory.kg:[12345678:0af3a53c9f2a71f38ab1dce8480498d9] 加载到向量数据库 turtle_text: \n",
      "@prefix prov: <http://www.w3.org/ns/prov#> .\n",
      "\n",
      "[] prov:invalidatedObject \"15\" .\n",
      "INFO:illufly.memory.kg:[12345678:2b0e5b9e4c791a209a0666021bd85366] 加载到向量数据库 turtle_text: \n",
      "@prefix m: <http://illufly.com/12345678/memory#> .\n",
      "\n",
      "m:广州鸿蒙 m:主营业务 \"税务信息化等软件开发业务\" .\n",
      "INFO:illufly.memory.kg:[12345678:dbdf57081dd7ca344c6e557e59c0c9e5] 加载到向量数据库 turtle_text: \n",
      "@prefix m: <http://illufly.com/12345678/memory#> .\n",
      "\n",
      "m:广州鸿蒙 m:成立年份 \"2008\" .\n",
      "INFO:illufly.memory.kg:[12345678:5f14197b18f674f8bbec596434962816] 加载到向量数据库 turtle_text: \n",
      "@prefix m: <http://illufly.com/12345678/memory#> .\n",
      "\n",
      "m:广州鸿蒙 m:企业年龄 \"18\" .\n",
      "INFO:illufly.memory.kg:[12345678:ac1ab1c45defee55de32fe35f0ab9daa] 加载到向量数据库 turtle_text: \n",
      "@prefix prov: <http://www.w3.org/ns/prov#> .\n",
      "@prefix xsd: <http://www.w3.org/2001/XMLSchema#> .\n",
      "\n",
      "[] prov:atTime \"2023-01-01T00:00:00+00:00\"^^xsd:dateTime .\n",
      "INFO:illufly.memory.kg:[12345678:bfecb7f4800302268ca8d8f0fb39c2a1] 加载到向量数据库 turtle_text: \n",
      "@prefix m: <http://illufly.com/12345678/memory#> .\n",
      "@prefix prov: <http://www.w3.org/ns/prov#> .\n",
      "\n",
      "[] prov:invalidatedPredicate m:成立年份 .\n",
      "INFO:illufly.memory.kg:[12345678:4e148752427314e2f57913a516ce79d0] 加载到向量数据库 turtle_text: \n",
      "@prefix rdfs: <http://www.w3.org/2000/01/rdf-schema#> .\n",
      "\n",
      "[] rdfs:label \"企业年龄更新\" .\n",
      "INFO:illufly.memory.kg:[12345678:ac1ab1c45defee55de32fe35f0ab9daa] 加载到向量数据库 turtle_text: \n",
      "@prefix prov: <http://www.w3.org/ns/prov#> .\n",
      "@prefix xsd: <http://www.w3.org/2001/XMLSchema#> .\n",
      "\n",
      "[] prov:atTime \"2023-01-01T00:00:00+00:00\"^^xsd:dateTime .\n",
      "INFO:illufly.memory.kg:[12345678:dc640492b8484ad6c2ea1e50c2b30453] 加载到向量数据库 turtle_text: \n",
      "@prefix prov: <http://www.w3.org/ns/prov#> .\n",
      "\n",
      "[] prov:invalidatedObject \"2008\" .\n",
      "INFO:illufly.memory.kg:[12345678:dbfafea0a20896359a023fffeda044e0] 加载到向量数据库 turtle_text: \n",
      "@prefix m: <http://illufly.com/12345678/memory#> .\n",
      "\n",
      "m:广州鸿蒙 m:企业年龄 \"15\" .\n",
      "INFO:illufly.memory.kg:[12345678:267903456a18a0a567d87d4c552dbb56] 加载到向量数据库 turtle_text: \n",
      "@prefix m: <http://illufly.com/12345678/memory#> .\n",
      "@prefix prov: <http://www.w3.org/ns/prov#> .\n",
      "\n",
      "m:广州鸿蒙 prov:wasInvalidatedBy [ ] .\n",
      "INFO:httpx:HTTP Request: POST https://api.pumpkinaigc.online/v1/embeddings \"HTTP/1.1 200 OK\"\n",
      "INFO:OpenAIEmbeddings:嵌入 `(n8bfb74c1a6a64dc08c` 等 5 个文本\n",
      "INFO:httpx:HTTP Request: POST https://api.pumpkinaigc.online/v1/embeddings \"HTTP/1.1 200 OK\"\n",
      "INFO:OpenAIEmbeddings:嵌入 `(n8bfb74c1a6a64dc08c` 等 4 个文本\n",
      "INFO:httpx:HTTP Request: POST https://api.pumpkinaigc.online/v1/embeddings \"HTTP/1.1 200 OK\"\n",
      "INFO:OpenAIEmbeddings:嵌入 `(广州鸿蒙 - 企业年龄 - 18)\n",
      "@` 等 5 个文本\n",
      "INFO:httpx:HTTP Request: POST https://api.pumpkinaigc.online/v1/embeddings \"HTTP/1.1 200 OK\"\n",
      "INFO:OpenAIEmbeddings:嵌入 `(n8bfb74c1a6a64dc08c` 等 2 个文本\n"
     ]
    },
    {
     "data": {
      "text/plain": [
       "'@prefix m: <http://illufly.com/12345678/memory#> .\\n@prefix prov: <http://www.w3.org/ns/prov#> .\\n@prefix rdfs: <http://www.w3.org/2000/01/rdf-schema#> .\\n@prefix xsd: <http://www.w3.org/2001/XMLSchema#> .\\n\\n# 过期三元组\\n_:activity1 a prov:Activity ;\\n    prov:invalidatedPredicate m:成立年份 ;\\n    prov:invalidatedObject \"2008\" ;\\n    prov:atTime \"2023-01-01T00:00:00Z\"^^xsd:dateTime ;\\n    rdfs:label \"成立年份更正\" .\\nm:广州鸿蒙 m:成立年份 \"2008\" ;\\n    prov:wasInvalidatedBy _:activity1 .\\n\\n_:activity2 a prov:Activity ;\\n    prov:invalidatedPredicate m:企业年龄 ;\\n    prov:invalidatedObject \"15\" ;\\n    prov:atTime \"2023-01-01T00:00:00Z\"^^xsd:dateTime ;\\n    rdfs:label \"企业年龄更新\" .\\nm:广州鸿蒙 m:企业年龄 \"15\" ;\\n    prov:wasInvalidatedBy _:activity2 .\\n\\n# 新三元组\\nm:广州鸿蒙 m:成立年份 \"2007\" ;\\n    m:企业年龄 \"18\" ;\\n    m:主营业务 \"税务信息化等软件开发业务\" ;\\n    m:董事长 \"王春辉\" .'"
      ]
     },
     "execution_count": 10,
     "metadata": {},
     "output_type": "execute_result"
    }
   ],
   "source": [
    "await kg.extract(\"广州鸿蒙成立于2007年，是一家18年的信息化企业，专门从事税务信息化等软件开发业务。广州鸿蒙的董事长是王春辉。\", user_id=user_id)"
   ]
  },
  {
   "cell_type": "code",
   "execution_count": 11,
   "id": "df359635-282a-4723-a163-0bb8e641c967",
   "metadata": {},
   "outputs": [
    {
     "name": "stderr",
     "output_type": "stream",
     "text": [
      "INFO:httpx:HTTP Request: POST https://api.pumpkinaigc.online/v1/embeddings \"HTTP/1.1 200 OK\"\n",
      "INFO:OpenAIEmbeddings:嵌入 `鸿蒙` 等 1 个文本\n",
      "WARNING:chromadb.segment.impl.vector.local_hnsw:Number of requested results 60 is greater than number of elements in index 25, updating n_results = 25\n"
     ]
    },
    {
     "name": "stdout",
     "output_type": "stream",
     "text": [
      "(赘婿 包含元素 武林)\n",
      "(广州鸿蒙 董事长 王春辉)\n",
      "(ncc9a0cfeaa7d4bfcab4c553a9b890232b1 atTime 2023-01-01T00:00:00+00:00)\n",
      "(广州鸿蒙 成立年份 2007)\n",
      "(nddb9861160114435b334602ae62557b7b1 label 成立年份更正)\n",
      "(赘婿 类型 古代穿越网络小说)\n",
      "(n5b1f0e75461b41eb89acc98395a77bf1b1 invalidatedObject 2008)\n",
      "(n4c0ea785e3d44f8ba3d04f47d963a484b1 type Activity)\n",
      "(n3002fd514a5e40b495e75e91b1c74712b1 type Activity)\n",
      "(赘婿 包含元素 权谋)\n",
      "(广州鸿蒙 wasInvalidatedBy n5050179398924be29832e281e5d14727b1)\n",
      "(广州鸿蒙 成立年份 2008)\n",
      "(广州鸿蒙 主营业务 税务信息化等软件开发业务)\n",
      "(广州鸿蒙 wasInvalidatedBy n611a787bb1f14511a8594eda69a89642b1)\n",
      "(nbf673bf2b6204cb6b0cf09cb5f9c0fa0b1 label 企业年龄更新)\n",
      "(赘婿 主角关系 宁毅和他的几个老婆)\n",
      "(赘婿 包含元素 战争)\n",
      "(广州鸿蒙 主营业务 税务局客户信息化服务)\n",
      "(n1dfae183d79049aabe174e13119f11acb1 invalidatedPredicate 企业年龄)\n",
      "(ne1e2354a441c4accae7a635be4c266eeb1 atTime 2023-01-01T00:00:00+00:00)\n",
      "(广州鸿蒙 企业年龄 18)\n",
      "(ne4fe20f00b124c71b635dd09a8287831b1 invalidatedPredicate 成立年份)\n",
      "(n26727526f2f2417fa9defa64a7c48345b1 invalidatedObject 15)\n",
      "(赘婿 主角 宁毅)\n",
      "(广州鸿蒙 企业年龄 15)\n"
     ]
    }
   ],
   "source": [
    "print(await kg.query(\"鸿蒙\", user_id, limit=120))"
   ]
  },
  {
   "cell_type": "code",
   "execution_count": null,
   "id": "13a93b93-fa47-4f53-abb6-7138dd5bdbdd",
   "metadata": {},
   "outputs": [],
   "source": []
  }
 ],
 "metadata": {
  "kernelspec": {
   "display_name": "Python 3 (ipykernel)",
   "language": "python",
   "name": "python3"
  },
  "language_info": {
   "codemirror_mode": {
    "name": "ipython",
    "version": 3
   },
   "file_extension": ".py",
   "mimetype": "text/x-python",
   "name": "python",
   "nbconvert_exporter": "python",
   "pygments_lexer": "ipython3",
   "version": "3.11.7"
  }
 },
 "nbformat": 4,
 "nbformat_minor": 5
}
