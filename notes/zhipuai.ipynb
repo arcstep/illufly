{
 "cells": [
  {
   "cell_type": "markdown",
   "metadata": {},
   "source": [
    "# 智谱API测试"
   ]
  },
  {
   "cell_type": "markdown",
   "metadata": {},
   "source": [
    "## 使用 ChatZhipuAI"
   ]
  },
  {
   "cell_type": "code",
   "execution_count": 3,
   "metadata": {},
   "outputs": [
    {
     "name": "stdout",
     "output_type": "stream",
     "text": [
      "Collecting langchain_zhipu==4.0.20\n",
      "  Downloading langchain_zhipu-4.0.20-py3-none-any.whl.metadata (3.0 kB)\n",
      "Requirement already satisfied: cachetools==4.2.2 in /Users/xuehongwei/Library/Caches/pypoetry/virtualenvs/langchain-book-u1j6yauo-py3.10/lib/python3.10/site-packages (from langchain_zhipu==4.0.20) (4.2.2)\n",
      "Requirement already satisfied: httpx<0.24.0,>=0.23.0 in /Users/xuehongwei/Library/Caches/pypoetry/virtualenvs/langchain-book-u1j6yauo-py3.10/lib/python3.10/site-packages (from langchain_zhipu==4.0.20) (0.23.3)\n",
      "Requirement already satisfied: langchain<0.2.0,>=0.1.0 in /Users/xuehongwei/Library/Caches/pypoetry/virtualenvs/langchain-book-u1j6yauo-py3.10/lib/python3.10/site-packages (from langchain_zhipu==4.0.20) (0.1.10)\n",
      "Requirement already satisfied: pydantic<3,>=1 in /Users/xuehongwei/Library/Caches/pypoetry/virtualenvs/langchain-book-u1j6yauo-py3.10/lib/python3.10/site-packages (from langchain_zhipu==4.0.20) (2.6.3)\n",
      "Requirement already satisfied: pyjwt<3.0.0,>=2.8.0 in /Users/xuehongwei/Library/Caches/pypoetry/virtualenvs/langchain-book-u1j6yauo-py3.10/lib/python3.10/site-packages (from langchain_zhipu==4.0.20) (2.8.0)\n",
      "Requirement already satisfied: certifi in /Users/xuehongwei/Library/Caches/pypoetry/virtualenvs/langchain-book-u1j6yauo-py3.10/lib/python3.10/site-packages (from httpx<0.24.0,>=0.23.0->langchain_zhipu==4.0.20) (2024.2.2)\n",
      "Requirement already satisfied: httpcore<0.17.0,>=0.15.0 in /Users/xuehongwei/Library/Caches/pypoetry/virtualenvs/langchain-book-u1j6yauo-py3.10/lib/python3.10/site-packages (from httpx<0.24.0,>=0.23.0->langchain_zhipu==4.0.20) (0.16.3)\n",
      "Requirement already satisfied: rfc3986<2,>=1.3 in /Users/xuehongwei/Library/Caches/pypoetry/virtualenvs/langchain-book-u1j6yauo-py3.10/lib/python3.10/site-packages (from rfc3986[idna2008]<2,>=1.3->httpx<0.24.0,>=0.23.0->langchain_zhipu==4.0.20) (1.5.0)\n",
      "Requirement already satisfied: sniffio in /Users/xuehongwei/Library/Caches/pypoetry/virtualenvs/langchain-book-u1j6yauo-py3.10/lib/python3.10/site-packages (from httpx<0.24.0,>=0.23.0->langchain_zhipu==4.0.20) (1.3.1)\n",
      "Requirement already satisfied: PyYAML>=5.3 in /Users/xuehongwei/Library/Caches/pypoetry/virtualenvs/langchain-book-u1j6yauo-py3.10/lib/python3.10/site-packages (from langchain<0.2.0,>=0.1.0->langchain_zhipu==4.0.20) (6.0.1)\n",
      "Requirement already satisfied: SQLAlchemy<3,>=1.4 in /Users/xuehongwei/Library/Caches/pypoetry/virtualenvs/langchain-book-u1j6yauo-py3.10/lib/python3.10/site-packages (from langchain<0.2.0,>=0.1.0->langchain_zhipu==4.0.20) (2.0.27)\n",
      "Requirement already satisfied: aiohttp<4.0.0,>=3.8.3 in /Users/xuehongwei/Library/Caches/pypoetry/virtualenvs/langchain-book-u1j6yauo-py3.10/lib/python3.10/site-packages (from langchain<0.2.0,>=0.1.0->langchain_zhipu==4.0.20) (3.9.3)\n",
      "Requirement already satisfied: async-timeout<5.0.0,>=4.0.0 in /Users/xuehongwei/Library/Caches/pypoetry/virtualenvs/langchain-book-u1j6yauo-py3.10/lib/python3.10/site-packages (from langchain<0.2.0,>=0.1.0->langchain_zhipu==4.0.20) (4.0.3)\n",
      "Requirement already satisfied: dataclasses-json<0.7,>=0.5.7 in /Users/xuehongwei/Library/Caches/pypoetry/virtualenvs/langchain-book-u1j6yauo-py3.10/lib/python3.10/site-packages (from langchain<0.2.0,>=0.1.0->langchain_zhipu==4.0.20) (0.6.4)\n",
      "Requirement already satisfied: jsonpatch<2.0,>=1.33 in /Users/xuehongwei/Library/Caches/pypoetry/virtualenvs/langchain-book-u1j6yauo-py3.10/lib/python3.10/site-packages (from langchain<0.2.0,>=0.1.0->langchain_zhipu==4.0.20) (1.33)\n",
      "Requirement already satisfied: langchain-community<0.1,>=0.0.25 in /Users/xuehongwei/Library/Caches/pypoetry/virtualenvs/langchain-book-u1j6yauo-py3.10/lib/python3.10/site-packages (from langchain<0.2.0,>=0.1.0->langchain_zhipu==4.0.20) (0.0.25)\n",
      "Requirement already satisfied: langchain-core<0.2,>=0.1.28 in /Users/xuehongwei/Library/Caches/pypoetry/virtualenvs/langchain-book-u1j6yauo-py3.10/lib/python3.10/site-packages (from langchain<0.2.0,>=0.1.0->langchain_zhipu==4.0.20) (0.1.28)\n",
      "Requirement already satisfied: langchain-text-splitters<0.1,>=0.0.1 in /Users/xuehongwei/Library/Caches/pypoetry/virtualenvs/langchain-book-u1j6yauo-py3.10/lib/python3.10/site-packages (from langchain<0.2.0,>=0.1.0->langchain_zhipu==4.0.20) (0.0.1)\n",
      "Requirement already satisfied: langsmith<0.2.0,>=0.1.0 in /Users/xuehongwei/Library/Caches/pypoetry/virtualenvs/langchain-book-u1j6yauo-py3.10/lib/python3.10/site-packages (from langchain<0.2.0,>=0.1.0->langchain_zhipu==4.0.20) (0.1.13)\n",
      "Requirement already satisfied: numpy<2,>=1 in /Users/xuehongwei/Library/Caches/pypoetry/virtualenvs/langchain-book-u1j6yauo-py3.10/lib/python3.10/site-packages (from langchain<0.2.0,>=0.1.0->langchain_zhipu==4.0.20) (1.26.4)\n",
      "Requirement already satisfied: requests<3,>=2 in /Users/xuehongwei/Library/Caches/pypoetry/virtualenvs/langchain-book-u1j6yauo-py3.10/lib/python3.10/site-packages (from langchain<0.2.0,>=0.1.0->langchain_zhipu==4.0.20) (2.31.0)\n",
      "Requirement already satisfied: tenacity<9.0.0,>=8.1.0 in /Users/xuehongwei/Library/Caches/pypoetry/virtualenvs/langchain-book-u1j6yauo-py3.10/lib/python3.10/site-packages (from langchain<0.2.0,>=0.1.0->langchain_zhipu==4.0.20) (8.2.3)\n",
      "Requirement already satisfied: annotated-types>=0.4.0 in /Users/xuehongwei/Library/Caches/pypoetry/virtualenvs/langchain-book-u1j6yauo-py3.10/lib/python3.10/site-packages (from pydantic<3,>=1->langchain_zhipu==4.0.20) (0.6.0)\n",
      "Requirement already satisfied: pydantic-core==2.16.3 in /Users/xuehongwei/Library/Caches/pypoetry/virtualenvs/langchain-book-u1j6yauo-py3.10/lib/python3.10/site-packages (from pydantic<3,>=1->langchain_zhipu==4.0.20) (2.16.3)\n",
      "Requirement already satisfied: typing-extensions>=4.6.1 in /Users/xuehongwei/Library/Caches/pypoetry/virtualenvs/langchain-book-u1j6yauo-py3.10/lib/python3.10/site-packages (from pydantic<3,>=1->langchain_zhipu==4.0.20) (4.10.0)\n",
      "Requirement already satisfied: aiosignal>=1.1.2 in /Users/xuehongwei/Library/Caches/pypoetry/virtualenvs/langchain-book-u1j6yauo-py3.10/lib/python3.10/site-packages (from aiohttp<4.0.0,>=3.8.3->langchain<0.2.0,>=0.1.0->langchain_zhipu==4.0.20) (1.3.1)\n",
      "Requirement already satisfied: attrs>=17.3.0 in /Users/xuehongwei/Library/Caches/pypoetry/virtualenvs/langchain-book-u1j6yauo-py3.10/lib/python3.10/site-packages (from aiohttp<4.0.0,>=3.8.3->langchain<0.2.0,>=0.1.0->langchain_zhipu==4.0.20) (23.2.0)\n",
      "Requirement already satisfied: frozenlist>=1.1.1 in /Users/xuehongwei/Library/Caches/pypoetry/virtualenvs/langchain-book-u1j6yauo-py3.10/lib/python3.10/site-packages (from aiohttp<4.0.0,>=3.8.3->langchain<0.2.0,>=0.1.0->langchain_zhipu==4.0.20) (1.4.1)\n",
      "Requirement already satisfied: multidict<7.0,>=4.5 in /Users/xuehongwei/Library/Caches/pypoetry/virtualenvs/langchain-book-u1j6yauo-py3.10/lib/python3.10/site-packages (from aiohttp<4.0.0,>=3.8.3->langchain<0.2.0,>=0.1.0->langchain_zhipu==4.0.20) (6.0.5)\n",
      "Requirement already satisfied: yarl<2.0,>=1.0 in /Users/xuehongwei/Library/Caches/pypoetry/virtualenvs/langchain-book-u1j6yauo-py3.10/lib/python3.10/site-packages (from aiohttp<4.0.0,>=3.8.3->langchain<0.2.0,>=0.1.0->langchain_zhipu==4.0.20) (1.9.4)\n",
      "Requirement already satisfied: marshmallow<4.0.0,>=3.18.0 in /Users/xuehongwei/Library/Caches/pypoetry/virtualenvs/langchain-book-u1j6yauo-py3.10/lib/python3.10/site-packages (from dataclasses-json<0.7,>=0.5.7->langchain<0.2.0,>=0.1.0->langchain_zhipu==4.0.20) (3.21.0)\n",
      "Requirement already satisfied: typing-inspect<1,>=0.4.0 in /Users/xuehongwei/Library/Caches/pypoetry/virtualenvs/langchain-book-u1j6yauo-py3.10/lib/python3.10/site-packages (from dataclasses-json<0.7,>=0.5.7->langchain<0.2.0,>=0.1.0->langchain_zhipu==4.0.20) (0.9.0)\n",
      "Requirement already satisfied: h11<0.15,>=0.13 in /Users/xuehongwei/Library/Caches/pypoetry/virtualenvs/langchain-book-u1j6yauo-py3.10/lib/python3.10/site-packages (from httpcore<0.17.0,>=0.15.0->httpx<0.24.0,>=0.23.0->langchain_zhipu==4.0.20) (0.14.0)\n",
      "Requirement already satisfied: anyio<5.0,>=3.0 in /Users/xuehongwei/Library/Caches/pypoetry/virtualenvs/langchain-book-u1j6yauo-py3.10/lib/python3.10/site-packages (from httpcore<0.17.0,>=0.15.0->httpx<0.24.0,>=0.23.0->langchain_zhipu==4.0.20) (4.3.0)\n",
      "Requirement already satisfied: jsonpointer>=1.9 in /Users/xuehongwei/Library/Caches/pypoetry/virtualenvs/langchain-book-u1j6yauo-py3.10/lib/python3.10/site-packages (from jsonpatch<2.0,>=1.33->langchain<0.2.0,>=0.1.0->langchain_zhipu==4.0.20) (2.4)\n",
      "Requirement already satisfied: packaging<24.0,>=23.2 in /Users/xuehongwei/Library/Caches/pypoetry/virtualenvs/langchain-book-u1j6yauo-py3.10/lib/python3.10/site-packages (from langchain-core<0.2,>=0.1.28->langchain<0.2.0,>=0.1.0->langchain_zhipu==4.0.20) (23.2)\n",
      "Requirement already satisfied: orjson<4.0.0,>=3.9.14 in /Users/xuehongwei/Library/Caches/pypoetry/virtualenvs/langchain-book-u1j6yauo-py3.10/lib/python3.10/site-packages (from langsmith<0.2.0,>=0.1.0->langchain<0.2.0,>=0.1.0->langchain_zhipu==4.0.20) (3.9.15)\n",
      "Requirement already satisfied: charset-normalizer<4,>=2 in /Users/xuehongwei/Library/Caches/pypoetry/virtualenvs/langchain-book-u1j6yauo-py3.10/lib/python3.10/site-packages (from requests<3,>=2->langchain<0.2.0,>=0.1.0->langchain_zhipu==4.0.20) (3.3.2)\n",
      "Requirement already satisfied: idna<4,>=2.5 in /Users/xuehongwei/Library/Caches/pypoetry/virtualenvs/langchain-book-u1j6yauo-py3.10/lib/python3.10/site-packages (from requests<3,>=2->langchain<0.2.0,>=0.1.0->langchain_zhipu==4.0.20) (3.6)\n",
      "Requirement already satisfied: urllib3<3,>=1.21.1 in /Users/xuehongwei/Library/Caches/pypoetry/virtualenvs/langchain-book-u1j6yauo-py3.10/lib/python3.10/site-packages (from requests<3,>=2->langchain<0.2.0,>=0.1.0->langchain_zhipu==4.0.20) (2.2.1)\n",
      "Requirement already satisfied: greenlet!=0.4.17 in /Users/xuehongwei/Library/Caches/pypoetry/virtualenvs/langchain-book-u1j6yauo-py3.10/lib/python3.10/site-packages (from SQLAlchemy<3,>=1.4->langchain<0.2.0,>=0.1.0->langchain_zhipu==4.0.20) (3.0.3)\n",
      "Requirement already satisfied: exceptiongroup>=1.0.2 in /Users/xuehongwei/Library/Caches/pypoetry/virtualenvs/langchain-book-u1j6yauo-py3.10/lib/python3.10/site-packages (from anyio<5.0,>=3.0->httpcore<0.17.0,>=0.15.0->httpx<0.24.0,>=0.23.0->langchain_zhipu==4.0.20) (1.2.0)\n",
      "Requirement already satisfied: mypy-extensions>=0.3.0 in /Users/xuehongwei/Library/Caches/pypoetry/virtualenvs/langchain-book-u1j6yauo-py3.10/lib/python3.10/site-packages (from typing-inspect<1,>=0.4.0->dataclasses-json<0.7,>=0.5.7->langchain<0.2.0,>=0.1.0->langchain_zhipu==4.0.20) (1.0.0)\n",
      "Downloading langchain_zhipu-4.0.20-py3-none-any.whl (32 kB)\n",
      "Installing collected packages: langchain_zhipu\n",
      "  Attempting uninstall: langchain_zhipu\n",
      "    Found existing installation: langchain_zhipu 4.0.18\n",
      "    Uninstalling langchain_zhipu-4.0.18:\n",
      "      Successfully uninstalled langchain_zhipu-4.0.18\n",
      "Successfully installed langchain_zhipu-4.0.20\n"
     ]
    }
   ],
   "source": [
    "!pip install -U langchain_zhipu==4.0.20\n",
    "# !pip install pydantic==1.10.13\n",
    "# !pip install pydantic==2.6.2"
   ]
  },
  {
   "cell_type": "code",
   "execution_count": 1,
   "metadata": {},
   "outputs": [],
   "source": [
    "from dotenv import load_dotenv, find_dotenv\n",
    "load_dotenv(find_dotenv(), override=True)\n",
    "import os\n",
    "os.chdir('..')"
   ]
  },
  {
   "cell_type": "code",
   "execution_count": 2,
   "metadata": {},
   "outputs": [],
   "source": [
    "from langchain_zhipu import ChatZhipuAI\n",
    "from langchain_core.prompts import ChatPromptTemplate"
   ]
  },
  {
   "cell_type": "code",
   "execution_count": 3,
   "metadata": {},
   "outputs": [
    {
     "data": {
      "text/plain": [
       "1"
      ]
     },
     "execution_count": 3,
     "metadata": {},
     "output_type": "execute_result"
    }
   ],
   "source": [
    "llm = ChatZhipuAI()\n",
    "llm.get_num_tokens(text=\"abc\")"
   ]
  },
  {
   "cell_type": "code",
   "execution_count": 7,
   "metadata": {},
   "outputs": [
    {
     "data": {
      "text/plain": [
       "[6151]"
      ]
     },
     "execution_count": 7,
     "metadata": {},
     "output_type": "execute_result"
    }
   ],
   "source": [
    "llm.get_token_ids(text=\"hi\")"
   ]
  },
  {
   "cell_type": "code",
   "execution_count": 4,
   "metadata": {},
   "outputs": [
    {
     "data": {
      "text/plain": [
       "AIMessage(content='你好👋！我是人工智能助手智谱清言（ChatGLM），很高兴见到你，欢迎问我任何问题。')"
      ]
     },
     "execution_count": 4,
     "metadata": {},
     "output_type": "execute_result"
    }
   ],
   "source": [
    "llm.invoke(\"hi\")"
   ]
  },
  {
   "cell_type": "code",
   "execution_count": null,
   "metadata": {},
   "outputs": [
    {
     "data": {
      "text/plain": [
       "AIMessage(content='你好👋！我是人工智能助手智谱清言（ChatGLM），很高兴见到你，欢迎问我任何问题。')"
      ]
     },
     "execution_count": 6,
     "metadata": {},
     "output_type": "execute_result"
    }
   ],
   "source": [
    "await llm.ainvoke(\"hi\")"
   ]
  },
  {
   "cell_type": "code",
   "execution_count": 5,
   "metadata": {},
   "outputs": [
    {
     "name": "stdout",
     "output_type": "stream",
     "text": [
      "Hello| |👋!| I|'|m| Chat|GL|M|（|智|谱|清|言|）,| the| artificial| intelligence| assistant|,| nice| to| meet| you|.| Feel| free| to| ask| me| any| questions|.||"
     ]
    }
   ],
   "source": [
    "for chunk in llm.stream(\"hi\"):\n",
    "  print(chunk.content, end=\"|\", flush=True)"
   ]
  },
  {
   "cell_type": "code",
   "execution_count": 8,
   "metadata": {},
   "outputs": [
    {
     "name": "stdout",
     "output_type": "stream",
     "text": [
      "Hello|!| How| can| I| assist| you| today|?||"
     ]
    }
   ],
   "source": [
    "async for chunk in llm.astream(\"hi\"):\n",
    "  print(chunk.content, end=\"|\", flush=True)"
   ]
  },
  {
   "cell_type": "code",
   "execution_count": 10,
   "metadata": {},
   "outputs": [
    {
     "name": "stdout",
     "output_type": "stream",
     "text": [
      "{'event': 'on_chat_model_start', 'run_id': '4f202b64-1034-455b-9bc4-5fc32e027565', 'name': 'ChatZhipuAI', 'tags': [], 'metadata': {}, 'data': {'input': 'hi'}}\n",
      "{'event': 'on_chat_model_stream', 'run_id': '4f202b64-1034-455b-9bc4-5fc32e027565', 'tags': [], 'metadata': {}, 'name': 'ChatZhipuAI', 'data': {'chunk': AIMessageChunk(content='你好')}}\n",
      "{'event': 'on_chat_model_stream', 'run_id': '4f202b64-1034-455b-9bc4-5fc32e027565', 'tags': [], 'metadata': {}, 'name': 'ChatZhipuAI', 'data': {'chunk': AIMessageChunk(content='👋！')}}\n",
      "{'event': 'on_chat_model_stream', 'run_id': '4f202b64-1034-455b-9bc4-5fc32e027565', 'tags': [], 'metadata': {}, 'name': 'ChatZhipuAI', 'data': {'chunk': AIMessageChunk(content='我是')}}\n",
      "{'event': 'on_chat_model_stream', 'run_id': '4f202b64-1034-455b-9bc4-5fc32e027565', 'tags': [], 'metadata': {}, 'name': 'ChatZhipuAI', 'data': {'chunk': AIMessageChunk(content='人工智能')}}\n",
      "{'event': 'on_chat_model_stream', 'run_id': '4f202b64-1034-455b-9bc4-5fc32e027565', 'tags': [], 'metadata': {}, 'name': 'ChatZhipuAI', 'data': {'chunk': AIMessageChunk(content='助手')}}\n",
      "{'event': 'on_chat_model_stream', 'run_id': '4f202b64-1034-455b-9bc4-5fc32e027565', 'tags': [], 'metadata': {}, 'name': 'ChatZhipuAI', 'data': {'chunk': AIMessageChunk(content='智')}}\n",
      "{'event': 'on_chat_model_stream', 'run_id': '4f202b64-1034-455b-9bc4-5fc32e027565', 'tags': [], 'metadata': {}, 'name': 'ChatZhipuAI', 'data': {'chunk': AIMessageChunk(content='谱')}}\n",
      "{'event': 'on_chat_model_stream', 'run_id': '4f202b64-1034-455b-9bc4-5fc32e027565', 'tags': [], 'metadata': {}, 'name': 'ChatZhipuAI', 'data': {'chunk': AIMessageChunk(content='清')}}\n",
      "{'event': 'on_chat_model_stream', 'run_id': '4f202b64-1034-455b-9bc4-5fc32e027565', 'tags': [], 'metadata': {}, 'name': 'ChatZhipuAI', 'data': {'chunk': AIMessageChunk(content='言')}}\n",
      "{'event': 'on_chat_model_stream', 'run_id': '4f202b64-1034-455b-9bc4-5fc32e027565', 'tags': [], 'metadata': {}, 'name': 'ChatZhipuAI', 'data': {'chunk': AIMessageChunk(content='（')}}\n",
      "{'event': 'on_chat_model_stream', 'run_id': '4f202b64-1034-455b-9bc4-5fc32e027565', 'tags': [], 'metadata': {}, 'name': 'ChatZhipuAI', 'data': {'chunk': AIMessageChunk(content='C')}}\n",
      "{'event': 'on_chat_model_stream', 'run_id': '4f202b64-1034-455b-9bc4-5fc32e027565', 'tags': [], 'metadata': {}, 'name': 'ChatZhipuAI', 'data': {'chunk': AIMessageChunk(content='hat')}}\n",
      "{'event': 'on_chat_model_stream', 'run_id': '4f202b64-1034-455b-9bc4-5fc32e027565', 'tags': [], 'metadata': {}, 'name': 'ChatZhipuAI', 'data': {'chunk': AIMessageChunk(content='GL')}}\n",
      "{'event': 'on_chat_model_stream', 'run_id': '4f202b64-1034-455b-9bc4-5fc32e027565', 'tags': [], 'metadata': {}, 'name': 'ChatZhipuAI', 'data': {'chunk': AIMessageChunk(content='M')}}\n",
      "{'event': 'on_chat_model_stream', 'run_id': '4f202b64-1034-455b-9bc4-5fc32e027565', 'tags': [], 'metadata': {}, 'name': 'ChatZhipuAI', 'data': {'chunk': AIMessageChunk(content='），')}}\n",
      "{'event': 'on_chat_model_stream', 'run_id': '4f202b64-1034-455b-9bc4-5fc32e027565', 'tags': [], 'metadata': {}, 'name': 'ChatZhipuAI', 'data': {'chunk': AIMessageChunk(content='很高兴')}}\n",
      "{'event': 'on_chat_model_stream', 'run_id': '4f202b64-1034-455b-9bc4-5fc32e027565', 'tags': [], 'metadata': {}, 'name': 'ChatZhipuAI', 'data': {'chunk': AIMessageChunk(content='见到')}}\n",
      "{'event': 'on_chat_model_stream', 'run_id': '4f202b64-1034-455b-9bc4-5fc32e027565', 'tags': [], 'metadata': {}, 'name': 'ChatZhipuAI', 'data': {'chunk': AIMessageChunk(content='你')}}\n",
      "{'event': 'on_chat_model_stream', 'run_id': '4f202b64-1034-455b-9bc4-5fc32e027565', 'tags': [], 'metadata': {}, 'name': 'ChatZhipuAI', 'data': {'chunk': AIMessageChunk(content='，')}}\n",
      "{'event': 'on_chat_model_stream', 'run_id': '4f202b64-1034-455b-9bc4-5fc32e027565', 'tags': [], 'metadata': {}, 'name': 'ChatZhipuAI', 'data': {'chunk': AIMessageChunk(content='欢迎')}}\n",
      "{'event': 'on_chat_model_stream', 'run_id': '4f202b64-1034-455b-9bc4-5fc32e027565', 'tags': [], 'metadata': {}, 'name': 'ChatZhipuAI', 'data': {'chunk': AIMessageChunk(content='问我')}}\n",
      "{'event': 'on_chat_model_stream', 'run_id': '4f202b64-1034-455b-9bc4-5fc32e027565', 'tags': [], 'metadata': {}, 'name': 'ChatZhipuAI', 'data': {'chunk': AIMessageChunk(content='任何')}}\n",
      "{'event': 'on_chat_model_stream', 'run_id': '4f202b64-1034-455b-9bc4-5fc32e027565', 'tags': [], 'metadata': {}, 'name': 'ChatZhipuAI', 'data': {'chunk': AIMessageChunk(content='问题')}}\n",
      "{'event': 'on_chat_model_stream', 'run_id': '4f202b64-1034-455b-9bc4-5fc32e027565', 'tags': [], 'metadata': {}, 'name': 'ChatZhipuAI', 'data': {'chunk': AIMessageChunk(content='。')}}\n",
      "{'event': 'on_chat_model_stream', 'run_id': '4f202b64-1034-455b-9bc4-5fc32e027565', 'tags': [], 'metadata': {}, 'name': 'ChatZhipuAI', 'data': {'chunk': AIMessageChunk(content='')}}\n",
      "{'event': 'on_chat_model_end', 'name': 'ChatZhipuAI', 'run_id': '4f202b64-1034-455b-9bc4-5fc32e027565', 'tags': [], 'metadata': {}, 'data': {'output': AIMessageChunk(content='你好👋！我是人工智能助手智谱清言（ChatGLM），很高兴见到你，欢迎问我任何问题。')}}\n"
     ]
    }
   ],
   "source": [
    "async for chunk in llm.astream_events(\"hi\", version=\"v1\"):\n",
    "  print(chunk)"
   ]
  },
  {
   "cell_type": "code",
   "execution_count": 6,
   "metadata": {},
   "outputs": [],
   "source": [
    "tools = [\n",
    "    {\n",
    "        \"type\": \"function\",\n",
    "        \"function\": {\n",
    "            \"name\": \"query_train_info\",\n",
    "            \"description\": \"根据用户提供的信息，查询对应的车次\",\n",
    "            \"parameters\": {\n",
    "                \"type\": \"object\",\n",
    "                \"properties\": {\n",
    "                    \"departure\": {\n",
    "                        \"type\": \"string\",\n",
    "                        \"description\": \"出发城市或车站\",\n",
    "                    },\n",
    "                    \"destination\": {\n",
    "                        \"type\": \"string\",\n",
    "                        \"description\": \"目的地城市或车站\",\n",
    "                    },\n",
    "                    \"date\": {\n",
    "                        \"type\": \"string\",\n",
    "                        \"description\": \"要查询的车次日期\",\n",
    "                    },\n",
    "                },\n",
    "                \"required\": [\"departure\", \"destination\", \"date\"],\n",
    "            },\n",
    "        }\n",
    "    }\n",
    "]"
   ]
  },
  {
   "cell_type": "code",
   "execution_count": 7,
   "metadata": {},
   "outputs": [],
   "source": [
    "llm = ChatZhipuAI().bind(tools=tools)"
   ]
  },
  {
   "cell_type": "code",
   "execution_count": 9,
   "metadata": {},
   "outputs": [
    {
     "data": {
      "text/plain": [
       "ChatZhipuAI(client=<langchain_zhipu._client.ZhipuAI object at 0x11936d750>)"
      ]
     },
     "execution_count": 9,
     "metadata": {},
     "output_type": "execute_result"
    }
   ],
   "source": [
    "llm"
   ]
  },
  {
   "cell_type": "code",
   "execution_count": 8,
   "metadata": {},
   "outputs": [
    {
     "data": {
      "text/plain": [
       "AIMessage(content='一句话笑话：为什么大象不用电脑？因为它们怕鼠标。')"
      ]
     },
     "execution_count": 8,
     "metadata": {},
     "output_type": "execute_result"
    }
   ],
   "source": [
    "llm.invoke(\"给我讲个一句话笑话\")"
   ]
  },
  {
   "cell_type": "code",
   "execution_count": 9,
   "metadata": {},
   "outputs": [
    {
     "data": {
      "text/plain": [
       "AIMessage(content='', additional_kwargs={'tool_calls': [{'id': 'call_8513525371557843149', 'function': {'arguments': '{\"date\":\"2024-01-01\",\"departure\":\"北京南站\",\"destination\":\"上海\"}', 'name': 'query_train_info'}, 'type': 'function'}]})"
      ]
     },
     "execution_count": 9,
     "metadata": {},
     "output_type": "execute_result"
    }
   ],
   "source": [
    "llm.invoke(\"你能帮我查询2024年1月1日从北京南站到上海的火车票吗？\")"
   ]
  },
  {
   "cell_type": "code",
   "execution_count": 10,
   "metadata": {},
   "outputs": [
    {
     "name": "stdout",
     "output_type": "stream",
     "text": [
      "content='' additional_kwargs={'tool_calls': [{'index': 0, 'id': 'call_8513531693749783917', 'function': {'arguments': '{\"date\":\"2024-01-01\",\"departure\":\"北京南站\",\"destination\":\"上海\"}', 'name': 'query_train_info'}, 'type': 'function'}]}\n",
      "content=''\n"
     ]
    }
   ],
   "source": [
    "for chunk in llm.stream(\"你能帮我查询2024年1月1日从北京南站到上海的火车票吗？\"):\n",
    "  print(chunk)"
   ]
  },
  {
   "cell_type": "code",
   "execution_count": 11,
   "metadata": {},
   "outputs": [
    {
     "data": {
      "text/plain": [
       "AIMessage(content='贾玲最新的作品是电影《热辣滚烫》。这部影片在2024年春节档期上映，讲述了女主角励志减肥，成为女拳击手的故事。在这部电影中，贾玲本人也进行了大幅度的减重，瘦身100斤，引起了广泛的关注和讨论。')"
      ]
     },
     "execution_count": 11,
     "metadata": {},
     "output_type": "execute_result"
    }
   ],
   "source": [
    "llm = ChatZhipuAI()\n",
    "llm.invoke(\"贾玲最新的作品是什么？\")"
   ]
  },
  {
   "cell_type": "code",
   "execution_count": 12,
   "metadata": {},
   "outputs": [
    {
     "data": {
      "text/plain": [
       "AIMessage(content='贾玲的代表作品之一是《大话捧逗》。这个作品是她与搭档白凯南共同表演的一段相声，通过幽默诙谐的方式，讽刺和揭示了社会上的某些现象和人物，给观众带来了许多欢笑。该作品在2010年中央电视台春节联欢晚会上演出，并且获得了“我最喜爱的春晚节目”曲艺组三等奖。')"
      ]
     },
     "execution_count": 12,
     "metadata": {},
     "output_type": "execute_result"
    }
   ],
   "source": [
    "tools = [\n",
    "    {\n",
    "        \"type\": \"web_search\",\n",
    "        \"web_search\": {\n",
    "            \"search_query\": \"贾玲演过的相声\"\n",
    "        }\n",
    "    }\n",
    "]\n",
    "llm = ChatZhipuAI().bind(tools=tools)\n",
    "llm.invoke(\"列举一个贾玲的作品\")"
   ]
  },
  {
   "cell_type": "code",
   "execution_count": 13,
   "metadata": {},
   "outputs": [
    {
     "data": {
      "text/plain": [
       "AIMessage(content='根据提供的参考信息，以下是贾玲的作品列表：\\n\\n1. 电视剧作品：\\n   - 《月里青山淡如画》（饰演罗母，2022年）\\n   - 《幸福还会来敲门》（饰演张嫂，2020年）\\n   - 《欢喜猎人》（饰演贾小玲，2020年）\\n   - 《爆笑先森》（饰演KTV老板，2016年）\\n   - 《百变五侠之我是大明星》（饰演宫煮，2016年）\\n\\n2. 电影作品：\\n   - 《你好，李焕英》（自导自演，2023年）\\n   - 《悠然见南山》\\n   - 《幸福马上来》\\n   - 《祖宗十九代》\\n   - 《摆渡人》\\n   - 《万万没想到》\\n   - 《我和我的家乡之回乡之路》（主演之一）\\n   - 《热辣滚烫》（导演及主演，2024年）\\n\\n以上是贾玲在影视方面的一些主要作品，包括她自导自演的电影《你好，李焕英》和导演的第二部电影《热辣滚烫》。此外，她还有在多部电视剧中的演出经历。')"
      ]
     },
     "execution_count": 13,
     "metadata": {},
     "output_type": "execute_result"
    }
   ],
   "source": [
    "tools = [\n",
    "    {\n",
    "        \"type\": \"web_search\",\n",
    "        \"web_search\": {\n",
    "            \"search_query\": \"贾玲演过的电影\"\n",
    "        }\n",
    "    }\n",
    "]\n",
    "llm = ChatZhipuAI().bind(tools=tools)\n",
    "llm.invoke(\"从背景信息中找出贾玲的作品\")"
   ]
  },
  {
   "cell_type": "code",
   "execution_count": null,
   "metadata": {},
   "outputs": [],
   "source": []
  }
 ],
 "metadata": {
  "kernelspec": {
   "display_name": "langchain-chinese-py3.9-ipkyernel",
   "language": "python",
   "name": "langchain-chinese-py3.9-ipkyernel"
  },
  "language_info": {
   "codemirror_mode": {
    "name": "ipython",
    "version": 3
   },
   "file_extension": ".py",
   "mimetype": "text/x-python",
   "name": "python",
   "nbconvert_exporter": "python",
   "pygments_lexer": "ipython3",
   "version": "3.9.18"
  }
 },
 "nbformat": 4,
 "nbformat_minor": 2
}
